{
 "cells": [
  {
   "cell_type": "code",
   "execution_count": 1,
   "metadata": {},
   "outputs": [
    {
     "name": "stdout",
     "output_type": "stream",
     "text": [
      "1\n"
     ]
    },
    {
     "name": "stderr",
     "output_type": "stream",
     "text": [
      "/tmp/ipykernel_301420/3390658602.py:9: TqdmWarning: IProgress not found. Please update jupyter and ipywidgets. See https://ipywidgets.readthedocs.io/en/stable/user_install.html\n",
      "  from tqdm.autonotebook import tqdm\n"
     ]
    }
   ],
   "source": [
    "import torch\n",
    "import torch.nn as nn\n",
    "from torch.utils.data import DataLoader\n",
    "from collections.abc import Sequence\n",
    "\n",
    "from unetr import CustomedUNETR\n",
    "\n",
    "import json\n",
    "from tqdm.autonotebook import tqdm\n",
    "import os\n",
    "os.environ[\"CUDA_DEVICE_ORDER\"] = \"PCI_BUS_ID\"\n",
    "os.environ[\"CUDA_VISIBLE_DEVICES\"] = \"6\" \n",
    "\n",
    "print(torch.cuda.device_count())\n",
    "torch.backends.cudnn.benchmark = True\n",
    "device = torch.device(\"cuda\" if torch.cuda.is_available() else \"cpu\")"
   ]
  },
  {
   "cell_type": "code",
   "execution_count": 2,
   "metadata": {},
   "outputs": [],
   "source": [
    "from monai.transforms import EnsureTyped\n",
    "from monai.transforms import Compose, LoadImaged, ScaleIntensityRanged, ConcatItemsd\n",
    "from monai.metrics import DiceMetric\n",
    "from monai.losses import DiceCELoss, DiceFocalLoss, FocalLoss\n",
    "from monai.inferers import sliding_window_inference\n",
    "\n",
    "\n",
    "from monai.data import (\n",
    "    Dataset,\n",
    "    DataLoader,\n",
    "    CacheDataset,\n",
    "    load_decathlon_datalist,\n",
    "    decollate_batch,\n",
    ")\n",
    "\n",
    "\n",
    "from monai.transforms import (\n",
    "    AsDiscrete,\n",
    "    Compose,\n",
    "    CropForegroundd,\n",
    "    LoadImaged,\n",
    "    Orientationd,\n",
    "    RandFlipd,\n",
    "    RandCropByPosNegLabeld,\n",
    "    RandShiftIntensityd,\n",
    "    ScaleIntensityRanged,\n",
    "    Spacingd,\n",
    "    RandRotate90d,\n",
    "    MapTransform,\n",
    "    ScaleIntensityd,\n",
    "    #AddChanneld,\n",
    "    SpatialPadd,\n",
    "    CenterSpatialCropd,\n",
    "    EnsureChannelFirstd,\n",
    "    ConcatItemsd,\n",
    "    AdjustContrastd, \n",
    "    Rand3DElasticd,\n",
    "    HistogramNormalized,\n",
    "    NormalizeIntensityd,\n",
    "    Invertd,\n",
    "    SaveImage,\n",
    "\n",
    ")"
   ]
  },
  {
   "cell_type": "code",
   "execution_count": 3,
   "metadata": {},
   "outputs": [],
   "source": [
    "data_dir = '/home/nada.saadi/MIS-FM/hecktor2022_cropped'\n",
    "json_dir = \"/home/nada.saadi/CTPET/hecktor2022_cropped/HGJ_ctpt_train_new.json\""
   ]
  },
  {
   "cell_type": "code",
   "execution_count": 4,
   "metadata": {},
   "outputs": [
    {
     "name": "stdout",
     "output_type": "stream",
     "text": [
      "39 15\n"
     ]
    }
   ],
   "source": [
    "def datafold_read(datalist, basedir, fold=0, key=\"training\"):\n",
    "    with open(datalist) as f:\n",
    "        json_data = json.load(f)\n",
    "\n",
    "    json_data = json_data[key]\n",
    "\n",
    "    for d in json_data:\n",
    "        for k in d:\n",
    "            if isinstance(d[k], list):\n",
    "                d[k] = [os.path.join(basedir, iv) for iv in d[k]]\n",
    "            elif isinstance(d[k], str):\n",
    "                d[k] = os.path.join(basedir, d[k]) if len(d[k]) > 0 else d[k]\n",
    "\n",
    "    tr = []\n",
    "    val = []\n",
    "    for d in json_data:\n",
    "        if \"fold\" in d and d[\"fold\"] == fold:\n",
    "            val.append(d)\n",
    "        else:\n",
    "            tr.append(d)\n",
    "\n",
    "    return tr, val\n",
    "\n",
    "\n",
    "train_data, valid_data = datafold_read(datalist=json_dir, basedir=data_dir, fold=0)\n",
    "print(len(train_data), len(valid_data))"
   ]
  },
  {
   "cell_type": "code",
   "execution_count": 5,
   "metadata": {},
   "outputs": [],
   "source": [
    "num_samples = 1\n",
    "\n",
    "class ClipCT(MapTransform):\n",
    "    \"\"\"\n",
    "    Convert labels to multi channels based on hecktor classes:\n",
    "    label 1 is the tumor\n",
    "    label 2 is the lymph node\n",
    "\n",
    "    \"\"\"\n",
    "\n",
    "    def __call__(self, data):\n",
    "        d = dict(data)\n",
    "        for key in self.keys:\n",
    "            if key == \"ct\":\n",
    "                d[key] = torch.clip(d[key], min=-200, max=200)\n",
    "            # elif key == \"pt\":\n",
    "            #     d[key] = torch.clip(d[key], d[key].min(), 5)\n",
    "        return d\n",
    "\n",
    "train_transforms = Compose(\n",
    "    [\n",
    "        LoadImaged(keys=[\"ct\", \"pt\", \"seg\"], ensure_channel_first=True),\n",
    "        SpatialPadd(keys=[\"ct\", \"pt\", \"seg\"], spatial_size=(200, 200, 310), method='end'),\n",
    "        Orientationd(keys=[\"ct\", \"pt\", \"seg\"], axcodes=\"PLS\"),\n",
    "        NormalizeIntensityd(keys=[\"pt\"]),\n",
    "        ClipCT(keys=[\"ct\"]),\n",
    "        ScaleIntensityd(keys=[\"ct\"], minv=0, maxv=1),\n",
    "        ConcatItemsd(keys=[\"pt\", \"ct\"], name=\"ctpt\"),  # Concatenate CT and PET\n",
    "        RandCropByPosNegLabeld(\n",
    "            keys=[\"ctpt\", \"seg\"],\n",
    "            label_key=\"seg\",\n",
    "            spatial_size=(96, 96, 96),\n",
    "            pos=1,\n",
    "            neg=1,\n",
    "            num_samples=num_samples,\n",
    "            image_key=\"ctpt\",\n",
    "            image_threshold=0,\n",
    "        ),\n",
    "        RandFlipd(keys=[\"ctpt\", \"seg\"], spatial_axis=[0], prob=0.20),\n",
    "        RandFlipd(keys=[\"ctpt\", \"seg\"], spatial_axis=[1], prob=0.20),\n",
    "        RandFlipd(keys=[\"ctpt\", \"seg\"], spatial_axis=[2], prob=0.20),\n",
    "        RandRotate90d(keys=[\"ctpt\", \"seg\"], prob=0.20, max_k=3),\n",
    "        EnsureTyped(keys=[\"ctpt\", \"seg\"]),\n",
    "    \n",
    "    ]\n",
    ")\n",
    "\n",
    "val_transforms = Compose(\n",
    "    [\n",
    "        LoadImaged(keys=[\"ct\", \"pt\", \"seg\"], ensure_channel_first=True),\n",
    "        SpatialPadd(keys=[\"ct\", \"pt\", \"seg\"], spatial_size=(200, 200, 310), method='end'),\n",
    "        Orientationd(keys=[\"ct\", \"pt\", \"seg\"], axcodes=\"PLS\"),\n",
    "        NormalizeIntensityd(keys=[\"pt\"]),\n",
    "        ClipCT(keys=[\"ct\"]),\n",
    "        ScaleIntensityd(keys=[\"ct\"], minv=0, maxv=1),\n",
    "        ConcatItemsd(keys=[\"pt\", \"ct\"], name=\"ctpt\"),# Concatenate CT and PET\n",
    "        EnsureTyped(keys=[\"ctpt\", \"seg\"]),\n",
    "    ]\n",
    ")\n",
    "\n",
    "\n",
    "##----------\n",
    "\n",
    "def create_dataloader(data, transforms, batch_size=2, shuffle=True):\n",
    "    # Create CacheDataset with the reformatted data\n",
    "    dataset = Dataset(data=data, transform=transforms)\n",
    "\n",
    "    # Create DataLoader\n",
    "    return DataLoader(dataset, batch_size=batch_size, shuffle=shuffle, num_workers=8)\n",
    "\n",
    "\n",
    "\n",
    "train_loader = create_dataloader(train_data, train_transforms, shuffle=True)\n",
    "val_loader = create_dataloader(valid_data, val_transforms, shuffle=False)"
   ]
  },
  {
   "cell_type": "code",
   "execution_count": 6,
   "metadata": {},
   "outputs": [
    {
     "name": "stdout",
     "output_type": "stream",
     "text": [
      "Nada's version of UNETR\n",
      "(96, 96, 96)\n",
      "(16, 16, 16)\n",
      "(6, 6, 6)\n",
      "768\n",
      "zaz w dakchi ya s lbnat\n"
     ]
    },
    {
     "name": "stderr",
     "output_type": "stream",
     "text": [
      "/home/nada.saadi/miniconda3/envs/clam/lib/python3.8/site-packages/monai/utils/deprecate_utils.py:221: FutureWarning: unetr CustomedUNETR.__init__:pos_embed: Argument `pos_embed` has been deprecated since version 1.2. It will be removed in version 1.4. please use `proj_type` instead.\n",
      "  warn_deprecated(argname, msg, warning_category)\n"
     ]
    }
   ],
   "source": [
    "model = CustomedUNETR(\n",
    "    in_channels=2,  # Number of input channels\n",
    "    out_channels=3,  # Number of output channels\n",
    "    img_size=(96, 96, 96),  # Size of the input image\n",
    "    feature_size=48,  # Size of the feature maps\n",
    "    hidden_size=768,\n",
    "    num_heads = 12,# Size of the hidden layers in the transformer\n",
    "    mlp_dim=3072,  # Dimension of the MLP in the transformer\n",
    "    pos_embed=\"perceptron\",  # Type of positional embedding\n",
    "    norm_name=\"instance\",  # Type of normalization\n",
    "    res_block=True,  # Whether to use residual blocks\n",
    "    dropout_rate=0.0,\n",
    "    proj_type= \"conv\",\n",
    "    r=4,\n",
    "    lora_layer=None,\n",
    "    use_ct_encoder=True,\n",
    "    use_pet_encoder=True    \n",
    ").to(device) "
   ]
  },
  {
   "cell_type": "code",
   "execution_count": 7,
   "metadata": {},
   "outputs": [],
   "source": [
    "def poly_lr(epoch, max_epochs, initial_lr, exponent=0.9):\n",
    "    return initial_lr * (1 - epoch / max_epochs)**exponent\n",
    "\n",
    "model_dir='/home/nada.saadi/CTPET/hecktor2022_cropped/6th_CTPT_tokens'\n",
    "\n",
    "max_iterations = 18000\n",
    "eval_num = 100\n",
    "\n",
    "## running stats\n",
    "global_step = 0\n",
    "dice_val_best = 0.0\n",
    "global_step_best = 0\n",
    "epoch_loss_values = []\n",
    "metric_values = []\n",
    "metric_values_tumor = []\n",
    "metric_values_lymph = []\n",
    "\n",
    "\n",
    "loss_function = DiceCELoss(to_onehot_y=True, softmax=True)\n",
    "optimizer = torch.optim.AdamW(model.parameters(), lr=1e-4, weight_decay=1e-5)\n",
    "\n",
    "\n",
    "post_label = AsDiscrete(to_onehot=3)\n",
    "post_pred = AsDiscrete(argmax=True, to_onehot=3)\n",
    "\n",
    "dice_metric = DiceMetric(include_background=False, reduction=\"mean\", get_not_nans=False)\n",
    "dice_metric_batch = DiceMetric(include_background=False, reduction=\"mean_batch\")\n",
    "\n",
    "\n",
    "##-----------------------------------------------------------------------------\n",
    "\n",
    "def validation(epoch_iterator_val):\n",
    "        model.eval()\n",
    "        with torch.no_grad():\n",
    "            for step, batch in enumerate(epoch_iterator_val):\n",
    "                val_inputs, val_labels = (batch[\"ctpt\"].cuda(), batch[\"seg\"].cuda())\n",
    "                val_outputs = sliding_window_inference(val_inputs, (96, 96, 96), 4, model)\n",
    "                val_labels_list = decollate_batch(val_labels)\n",
    "                val_labels_convert = [\n",
    "                    post_label(val_label_tensor) for val_label_tensor in val_labels_list\n",
    "                ]\n",
    "                val_outputs_list = decollate_batch(val_outputs)\n",
    "                val_output_convert = [\n",
    "                    post_pred(val_pred_tensor) for val_pred_tensor in val_outputs_list\n",
    "                ]\n",
    "                dice_metric(y_pred=val_output_convert, y=val_labels_convert)\n",
    "                dice_metric_batch(y_pred=val_output_convert, y=val_labels_convert)\n",
    "                epoch_iterator_val.set_description(\n",
    "                    \"Validate (%d / %d Steps)\" % (global_step, 10.0)\n",
    "                )\n",
    "            mean_dice_val = dice_metric.aggregate().item()\n",
    "            metric_batch_val = dice_metric_batch.aggregate()\n",
    "\n",
    "            metric_tumor = metric_batch_val[0].item()\n",
    "            metric_lymph = metric_batch_val[1].item()\n",
    "\n",
    "            dice_metric.reset()\n",
    "            dice_metric_batch.reset()\n",
    "        return mean_dice_val, metric_tumor, metric_lymph\n",
    "\n",
    "\n",
    "\n",
    "def train(global_step, train_loader, dice_val_best, global_step_best):\n",
    "        model.train()\n",
    "        epoch_loss = 0\n",
    "        step = 0\n",
    "        epoch_iterator = tqdm(\n",
    "            train_loader, desc=\"Training (X / X Steps) (loss=X.X)\", dynamic_ncols=True\n",
    "        )\n",
    "        \n",
    "        for step, batch in enumerate(epoch_iterator):\n",
    "            step += 1\n",
    "            x, y = (batch[\"ctpt\"].cuda(), batch[\"seg\"].cuda())\n",
    "            logit_map = model(x,mode='ct')\n",
    "            if logit_map is None:\n",
    "                print(\"logit_map is None\")\n",
    "            if y is None:\n",
    "                print(\"y is None\")\n",
    "            loss = loss_function(logit_map, y)\n",
    "            loss.backward()\n",
    "            epoch_loss += loss.item() \n",
    "            optimizer.step()\n",
    "            optimizer.zero_grad()\n",
    "            epoch_iterator.set_description(\n",
    "                \"Training (%d / %d Steps) (loss=%2.5f)\"\n",
    "                % (global_step, max_iterations, loss)\n",
    "            )\n",
    "            \n",
    "            if (\n",
    "                global_step % eval_num == 0 and global_step != 0\n",
    "            ) or global_step == max_iterations:\n",
    "                epoch_iterator_val = tqdm(\n",
    "                    val_loader, desc=\"Validate (X / X Steps) (dice=X.X)\", dynamic_ncols=True\n",
    "                )\n",
    "                dice_val, metric_tumor, metric_lymph = validation(epoch_iterator_val)\n",
    "                epoch_loss /= step\n",
    "                epoch_loss_values.append(epoch_loss)\n",
    "                metric_values.append(dice_val)\n",
    "                metric_values_tumor.append(metric_tumor)\n",
    "                metric_values_lymph.append(metric_lymph)\n",
    "                if dice_val > dice_val_best:\n",
    "                    dice_val_best = dice_val\n",
    "                    global_step_best = global_step\n",
    "                    torch.save(\n",
    "                        model.state_dict(), os.path.join(model_dir, \"6th_CTPT_TOKENS.pth\")\n",
    "                    )\n",
    "                    print(\n",
    "                        \"Model Was Saved ! Current Best Avg. Dice: {} Current Avg. Dice: {} Current Avg. tumor Dice: {} Current Avg. lymph Dice: {}\".format(\n",
    "                            dice_val_best, dice_val, metric_tumor, metric_lymph\n",
    "                        )\n",
    "                    )\n",
    "                else:\n",
    "                    print(\n",
    "                        \"Model Was Not Saved ! Current Best Avg. Dice: {} Current Avg. Dice: {} Current Avg. tumor Dice: {} Current Avg. lymph Dice: {}\".format(\n",
    "                            dice_val_best, dice_val,  metric_tumor, metric_lymph\n",
    "                        )\n",
    "                    )\n",
    "            global_step += 1\n",
    "        return global_step, dice_val_best, global_step_best\n"
   ]
  },
  {
   "cell_type": "code",
   "execution_count": 8,
   "metadata": {},
   "outputs": [
    {
     "name": "stderr",
     "output_type": "stream",
     "text": [
      "Training (19 / 18000 Steps) (loss=1.30487): 100%|██████████| 20/20 [00:37<00:00,  1.86s/it]\n",
      "Training (39 / 18000 Steps) (loss=1.12675): 100%|██████████| 20/20 [00:23<00:00,  1.19s/it]\n",
      "Training (59 / 18000 Steps) (loss=1.09948): 100%|██████████| 20/20 [00:23<00:00,  1.17s/it]\n",
      "Training (79 / 18000 Steps) (loss=0.95904): 100%|██████████| 20/20 [00:23<00:00,  1.17s/it]\n",
      "Training (99 / 18000 Steps) (loss=1.01015): 100%|██████████| 20/20 [00:23<00:00,  1.16s/it]\n",
      "Validate (100 / 10 Steps): 100%|██████████| 8/8 [00:40<00:00,  5.08s/it]4<?, ?it/s]\n",
      "Training (100 / 18000 Steps) (loss=0.98746):   5%|▌         | 1/20 [00:46<14:49, 46.82s/it]"
     ]
    },
    {
     "name": "stdout",
     "output_type": "stream",
     "text": [
      "Model Was Saved ! Current Best Avg. Dice: 0.27775102853775024 Current Avg. Dice: 0.27775102853775024 Current Avg. tumor Dice: 0.4829937815666199 Current Avg. lymph Dice: 0.0009093924309127033\n"
     ]
    },
    {
     "name": "stderr",
     "output_type": "stream",
     "text": [
      "Training (119 / 18000 Steps) (loss=0.94566): 100%|██████████| 20/20 [01:05<00:00,  3.26s/it]\n",
      "Training (139 / 18000 Steps) (loss=0.86694): 100%|██████████| 20/20 [00:23<00:00,  1.17s/it]\n",
      "Training (159 / 18000 Steps) (loss=0.91554): 100%|██████████| 20/20 [00:24<00:00,  1.21s/it]\n",
      "Training (179 / 18000 Steps) (loss=0.80272): 100%|██████████| 20/20 [00:23<00:00,  1.15s/it]\n",
      "Training (199 / 18000 Steps) (loss=0.87384): 100%|██████████| 20/20 [00:23<00:00,  1.15s/it]\n",
      "Validate (200 / 10 Steps): 100%|██████████| 8/8 [00:35<00:00,  4.46s/it]4<?, ?it/s]\n",
      "Training (200 / 18000 Steps) (loss=0.86988):   5%|▌         | 1/20 [00:40<12:48, 40.43s/it]"
     ]
    },
    {
     "name": "stdout",
     "output_type": "stream",
     "text": [
      "Model Was Not Saved ! Current Best Avg. Dice: 0.27775102853775024 Current Avg. Dice: 0.27720725536346436 Current Avg. tumor Dice: 0.37409934401512146 Current Avg. lymph Dice: 0.1690279096364975\n"
     ]
    },
    {
     "name": "stderr",
     "output_type": "stream",
     "text": [
      "Training (219 / 18000 Steps) (loss=0.86654): 100%|██████████| 20/20 [00:58<00:00,  2.95s/it]\n",
      "Training (239 / 18000 Steps) (loss=0.80406): 100%|██████████| 20/20 [00:23<00:00,  1.19s/it]\n",
      "Training (259 / 18000 Steps) (loss=0.87952): 100%|██████████| 20/20 [00:23<00:00,  1.17s/it]\n",
      "Training (279 / 18000 Steps) (loss=0.81146): 100%|██████████| 20/20 [00:23<00:00,  1.18s/it]\n",
      "Training (299 / 18000 Steps) (loss=0.72300): 100%|██████████| 20/20 [00:23<00:00,  1.19s/it]\n",
      "Validate (300 / 10 Steps): 100%|██████████| 8/8 [00:35<00:00,  4.49s/it]4<?, ?it/s]\n",
      "Training (300 / 18000 Steps) (loss=0.85082):   5%|▌         | 1/20 [00:40<12:57, 40.95s/it]"
     ]
    },
    {
     "name": "stdout",
     "output_type": "stream",
     "text": [
      "Model Was Not Saved ! Current Best Avg. Dice: 0.27775102853775024 Current Avg. Dice: 0.26339903473854065 Current Avg. tumor Dice: 0.4547852575778961 Current Avg. lymph Dice: 8.128023182507604e-05\n"
     ]
    },
    {
     "name": "stderr",
     "output_type": "stream",
     "text": [
      "Training (319 / 18000 Steps) (loss=0.68539): 100%|██████████| 20/20 [00:59<00:00,  2.96s/it]\n",
      "Training (339 / 18000 Steps) (loss=0.79794): 100%|██████████| 20/20 [00:23<00:00,  1.17s/it]\n",
      "Training (359 / 18000 Steps) (loss=0.78318): 100%|██████████| 20/20 [00:23<00:00,  1.17s/it]\n",
      "Training (379 / 18000 Steps) (loss=0.69366): 100%|██████████| 20/20 [00:23<00:00,  1.16s/it]\n",
      "Training (399 / 18000 Steps) (loss=0.78210): 100%|██████████| 20/20 [00:24<00:00,  1.20s/it]\n",
      "Validate (400 / 10 Steps): 100%|██████████| 8/8 [00:35<00:00,  4.50s/it]5<?, ?it/s]\n",
      "Training (400 / 18000 Steps) (loss=0.86264):   5%|▌         | 1/20 [00:46<14:39, 46.30s/it]"
     ]
    },
    {
     "name": "stdout",
     "output_type": "stream",
     "text": [
      "Model Was Saved ! Current Best Avg. Dice: 0.3158591091632843 Current Avg. Dice: 0.3158591091632843 Current Avg. tumor Dice: 0.5407292246818542 Current Avg. lymph Dice: 0.004525411408394575\n"
     ]
    },
    {
     "name": "stderr",
     "output_type": "stream",
     "text": [
      "Training (419 / 18000 Steps) (loss=0.79825): 100%|██████████| 20/20 [01:04<00:00,  3.22s/it]\n",
      "Training (439 / 18000 Steps) (loss=0.71969): 100%|██████████| 20/20 [00:23<00:00,  1.18s/it]\n",
      "Training (459 / 18000 Steps) (loss=0.76439): 100%|██████████| 20/20 [00:23<00:00,  1.17s/it]\n",
      "Training (479 / 18000 Steps) (loss=0.81461): 100%|██████████| 20/20 [00:23<00:00,  1.17s/it]\n",
      "Training (499 / 18000 Steps) (loss=0.96333): 100%|██████████| 20/20 [00:23<00:00,  1.15s/it]\n",
      "Validate (500 / 10 Steps): 100%|██████████| 8/8 [00:35<00:00,  4.49s/it]5<?, ?it/s]\n",
      "Training (500 / 18000 Steps) (loss=0.65528):   5%|▌         | 1/20 [00:41<13:14, 41.81s/it]"
     ]
    },
    {
     "name": "stdout",
     "output_type": "stream",
     "text": [
      "Model Was Saved ! Current Best Avg. Dice: 0.39932477474212646 Current Avg. Dice: 0.39932477474212646 Current Avg. tumor Dice: 0.5877035856246948 Current Avg. lymph Dice: 0.14461377263069153\n"
     ]
    },
    {
     "name": "stderr",
     "output_type": "stream",
     "text": [
      "Training (519 / 18000 Steps) (loss=0.55978): 100%|██████████| 20/20 [01:00<00:00,  3.01s/it]\n",
      "Training (539 / 18000 Steps) (loss=0.74136): 100%|██████████| 20/20 [00:23<00:00,  1.17s/it]\n",
      "Training (559 / 18000 Steps) (loss=0.72071): 100%|██████████| 20/20 [00:25<00:00,  1.27s/it]\n",
      "Training (579 / 18000 Steps) (loss=0.59184): 100%|██████████| 20/20 [00:23<00:00,  1.19s/it]\n",
      "Training (599 / 18000 Steps) (loss=0.72723): 100%|██████████| 20/20 [00:23<00:00,  1.17s/it]\n",
      "Validate (600 / 10 Steps): 100%|██████████| 8/8 [00:35<00:00,  4.44s/it]5<?, ?it/s]\n",
      "Training (600 / 18000 Steps) (loss=0.63032):   5%|▌         | 1/20 [00:41<13:07, 41.42s/it]"
     ]
    },
    {
     "name": "stdout",
     "output_type": "stream",
     "text": [
      "Model Was Saved ! Current Best Avg. Dice: 0.42669251561164856 Current Avg. Dice: 0.42669251561164856 Current Avg. tumor Dice: 0.574461817741394 Current Avg. lymph Dice: 0.22806032001972198\n"
     ]
    },
    {
     "name": "stderr",
     "output_type": "stream",
     "text": [
      "Training (619 / 18000 Steps) (loss=0.71436): 100%|██████████| 20/20 [00:59<00:00,  2.98s/it]\n",
      "Training (639 / 18000 Steps) (loss=0.72366): 100%|██████████| 20/20 [00:23<00:00,  1.15s/it]\n",
      "Training (659 / 18000 Steps) (loss=0.53235): 100%|██████████| 20/20 [00:23<00:00,  1.16s/it]\n",
      "Training (679 / 18000 Steps) (loss=0.66046): 100%|██████████| 20/20 [00:23<00:00,  1.16s/it]\n",
      "Training (699 / 18000 Steps) (loss=0.54113): 100%|██████████| 20/20 [00:22<00:00,  1.14s/it]\n",
      "Validate (700 / 10 Steps): 100%|██████████| 8/8 [00:36<00:00,  4.52s/it]5<?, ?it/s]\n",
      "Training (700 / 18000 Steps) (loss=0.52401):   5%|▌         | 1/20 [00:41<13:13, 41.77s/it]"
     ]
    },
    {
     "name": "stdout",
     "output_type": "stream",
     "text": [
      "Model Was Not Saved ! Current Best Avg. Dice: 0.42669251561164856 Current Avg. Dice: 0.4177333116531372 Current Avg. tumor Dice: 0.6130790710449219 Current Avg. lymph Dice: 0.1503007560968399\n"
     ]
    },
    {
     "name": "stderr",
     "output_type": "stream",
     "text": [
      "Training (719 / 18000 Steps) (loss=0.58048): 100%|██████████| 20/20 [01:00<00:00,  3.01s/it]\n",
      "Training (739 / 18000 Steps) (loss=0.70386): 100%|██████████| 20/20 [00:23<00:00,  1.17s/it]\n",
      "Training (759 / 18000 Steps) (loss=0.76963): 100%|██████████| 20/20 [00:24<00:00,  1.21s/it]\n",
      "Training (779 / 18000 Steps) (loss=0.61404): 100%|██████████| 20/20 [00:23<00:00,  1.19s/it]\n",
      "Training (799 / 18000 Steps) (loss=0.70763): 100%|██████████| 20/20 [00:24<00:00,  1.20s/it]\n",
      "Validate (800 / 10 Steps): 100%|██████████| 8/8 [00:35<00:00,  4.49s/it]5<?, ?it/s]\n",
      "Training (800 / 18000 Steps) (loss=0.49575):   5%|▌         | 1/20 [00:40<12:58, 40.97s/it]"
     ]
    },
    {
     "name": "stdout",
     "output_type": "stream",
     "text": [
      "Model Was Not Saved ! Current Best Avg. Dice: 0.42669251561164856 Current Avg. Dice: 0.4168897569179535 Current Avg. tumor Dice: 0.5928620100021362 Current Avg. lymph Dice: 0.17330914735794067\n"
     ]
    },
    {
     "name": "stderr",
     "output_type": "stream",
     "text": [
      "Training (819 / 18000 Steps) (loss=0.74584): 100%|██████████| 20/20 [00:59<00:00,  2.98s/it]\n",
      "Training (839 / 18000 Steps) (loss=0.69808): 100%|██████████| 20/20 [00:24<00:00,  1.21s/it]\n",
      "Training (859 / 18000 Steps) (loss=0.46182): 100%|██████████| 20/20 [00:24<00:00,  1.20s/it]\n",
      "Training (879 / 18000 Steps) (loss=0.39708): 100%|██████████| 20/20 [00:23<00:00,  1.19s/it]\n",
      "Training (899 / 18000 Steps) (loss=0.60950): 100%|██████████| 20/20 [00:23<00:00,  1.17s/it]\n",
      "Validate (900 / 10 Steps): 100%|██████████| 8/8 [00:35<00:00,  4.48s/it]5<?, ?it/s]\n",
      "Training (900 / 18000 Steps) (loss=0.60214):   5%|▌         | 1/20 [00:41<13:13, 41.75s/it]"
     ]
    },
    {
     "name": "stdout",
     "output_type": "stream",
     "text": [
      "Model Was Saved ! Current Best Avg. Dice: 0.43056872487068176 Current Avg. Dice: 0.43056872487068176 Current Avg. tumor Dice: 0.5988651514053345 Current Avg. lymph Dice: 0.20608624815940857\n"
     ]
    },
    {
     "name": "stderr",
     "output_type": "stream",
     "text": [
      "Training (919 / 18000 Steps) (loss=0.64638): 100%|██████████| 20/20 [01:01<00:00,  3.05s/it]\n",
      "Training (939 / 18000 Steps) (loss=0.60418): 100%|██████████| 20/20 [00:23<00:00,  1.20s/it]\n",
      "Training (959 / 18000 Steps) (loss=0.56978): 100%|██████████| 20/20 [00:23<00:00,  1.19s/it]\n",
      "Training (979 / 18000 Steps) (loss=0.50760): 100%|██████████| 20/20 [00:23<00:00,  1.19s/it]\n",
      "Training (999 / 18000 Steps) (loss=0.59578): 100%|██████████| 20/20 [00:23<00:00,  1.18s/it]\n",
      "Validate (1000 / 10 Steps): 100%|██████████| 8/8 [00:35<00:00,  4.50s/it]5<?, ?it/s]\n",
      "Training (1000 / 18000 Steps) (loss=0.54894):   5%|▌         | 1/20 [00:41<13:03, 41.26s/it]"
     ]
    },
    {
     "name": "stdout",
     "output_type": "stream",
     "text": [
      "Model Was Not Saved ! Current Best Avg. Dice: 0.43056872487068176 Current Avg. Dice: 0.4276828169822693 Current Avg. tumor Dice: 0.5739758014678955 Current Avg. lymph Dice: 0.2298034131526947\n"
     ]
    },
    {
     "name": "stderr",
     "output_type": "stream",
     "text": [
      "Training (1019 / 18000 Steps) (loss=0.50510): 100%|██████████| 20/20 [00:59<00:00,  3.00s/it]\n",
      "Training (1039 / 18000 Steps) (loss=0.41132): 100%|██████████| 20/20 [00:23<00:00,  1.19s/it]\n",
      "Training (1059 / 18000 Steps) (loss=0.61131): 100%|██████████| 20/20 [00:23<00:00,  1.17s/it]\n",
      "Training (1079 / 18000 Steps) (loss=0.43061): 100%|██████████| 20/20 [00:23<00:00,  1.19s/it]\n",
      "Training (1099 / 18000 Steps) (loss=0.32971): 100%|██████████| 20/20 [00:23<00:00,  1.19s/it]\n",
      "Validate (1100 / 10 Steps): 100%|██████████| 8/8 [00:35<00:00,  4.49s/it]5<?, ?it/s]\n",
      "Training (1100 / 18000 Steps) (loss=0.49627):   5%|▌         | 1/20 [00:42<13:18, 42.05s/it]"
     ]
    },
    {
     "name": "stdout",
     "output_type": "stream",
     "text": [
      "Model Was Saved ! Current Best Avg. Dice: 0.4967283308506012 Current Avg. Dice: 0.4967283308506012 Current Avg. tumor Dice: 0.6721836924552917 Current Avg. lymph Dice: 0.2597058415412903\n"
     ]
    },
    {
     "name": "stderr",
     "output_type": "stream",
     "text": [
      "Training (1119 / 18000 Steps) (loss=0.68495): 100%|██████████| 20/20 [01:00<00:00,  3.01s/it]\n",
      "Training (1139 / 18000 Steps) (loss=0.44015): 100%|██████████| 20/20 [00:23<00:00,  1.19s/it]\n",
      "Training (1159 / 18000 Steps) (loss=0.33572): 100%|██████████| 20/20 [00:24<00:00,  1.21s/it]\n",
      "Training (1179 / 18000 Steps) (loss=0.47833): 100%|██████████| 20/20 [00:23<00:00,  1.19s/it]\n",
      "Training (1199 / 18000 Steps) (loss=0.51405): 100%|██████████| 20/20 [00:23<00:00,  1.18s/it]\n",
      "Validate (1200 / 10 Steps): 100%|██████████| 8/8 [00:36<00:00,  4.50s/it]5<?, ?it/s]\n",
      "Training (1200 / 18000 Steps) (loss=0.42629):   5%|▌         | 1/20 [00:41<13:05, 41.32s/it]"
     ]
    },
    {
     "name": "stdout",
     "output_type": "stream",
     "text": [
      "Model Was Not Saved ! Current Best Avg. Dice: 0.4967283308506012 Current Avg. Dice: 0.4547165036201477 Current Avg. tumor Dice: 0.6098616123199463 Current Avg. lymph Dice: 0.2417379468679428\n"
     ]
    },
    {
     "name": "stderr",
     "output_type": "stream",
     "text": [
      "Training (1219 / 18000 Steps) (loss=0.33558): 100%|██████████| 20/20 [01:00<00:00,  3.02s/it]\n",
      "Training (1239 / 18000 Steps) (loss=0.61342): 100%|██████████| 20/20 [00:24<00:00,  1.22s/it]\n",
      "Training (1259 / 18000 Steps) (loss=0.68499): 100%|██████████| 20/20 [00:24<00:00,  1.21s/it]\n",
      "Training (1279 / 18000 Steps) (loss=0.55112): 100%|██████████| 20/20 [00:23<00:00,  1.18s/it]\n",
      "Training (1299 / 18000 Steps) (loss=0.41446): 100%|██████████| 20/20 [00:24<00:00,  1.21s/it]\n",
      "Validate (1300 / 10 Steps): 100%|██████████| 8/8 [00:36<00:00,  4.50s/it]4<?, ?it/s]\n",
      "Training (1300 / 18000 Steps) (loss=0.60301):   5%|▌         | 1/20 [00:41<13:10, 41.62s/it]"
     ]
    },
    {
     "name": "stdout",
     "output_type": "stream",
     "text": [
      "Model Was Saved ! Current Best Avg. Dice: 0.5369885563850403 Current Avg. Dice: 0.5369885563850403 Current Avg. tumor Dice: 0.6882495880126953 Current Avg. lymph Dice: 0.32876938581466675\n"
     ]
    },
    {
     "name": "stderr",
     "output_type": "stream",
     "text": [
      "Training (1319 / 18000 Steps) (loss=0.67919): 100%|██████████| 20/20 [01:02<00:00,  3.14s/it]\n",
      "Training (1339 / 18000 Steps) (loss=0.68089): 100%|██████████| 20/20 [00:26<00:00,  1.32s/it]\n",
      "Training (1359 / 18000 Steps) (loss=0.51358): 100%|██████████| 20/20 [00:27<00:00,  1.37s/it]\n",
      "Training (1379 / 18000 Steps) (loss=0.43841): 100%|██████████| 20/20 [00:27<00:00,  1.40s/it]\n",
      "Training (1399 / 18000 Steps) (loss=0.44823): 100%|██████████| 20/20 [00:26<00:00,  1.33s/it]\n",
      "Validate (1400 / 10 Steps): 100%|██████████| 8/8 [00:36<00:00,  4.57s/it]6<?, ?it/s]\n",
      "Training (1400 / 18000 Steps) (loss=0.56412):   5%|▌         | 1/20 [00:43<13:53, 43.85s/it]"
     ]
    },
    {
     "name": "stdout",
     "output_type": "stream",
     "text": [
      "Model Was Saved ! Current Best Avg. Dice: 0.5636273622512817 Current Avg. Dice: 0.5636273622512817 Current Avg. tumor Dice: 0.7077945470809937 Current Avg. lymph Dice: 0.36638811230659485\n"
     ]
    },
    {
     "name": "stderr",
     "output_type": "stream",
     "text": [
      "Training (1419 / 18000 Steps) (loss=0.49601): 100%|██████████| 20/20 [01:03<00:00,  3.19s/it]\n",
      "Training (1439 / 18000 Steps) (loss=0.48894): 100%|██████████| 20/20 [00:26<00:00,  1.33s/it]\n",
      "Training (1459 / 18000 Steps) (loss=0.63183): 100%|██████████| 20/20 [00:26<00:00,  1.30s/it]\n",
      "Training (1479 / 18000 Steps) (loss=0.68351): 100%|██████████| 20/20 [00:26<00:00,  1.34s/it]\n",
      "Training (1499 / 18000 Steps) (loss=0.25403): 100%|██████████| 20/20 [00:26<00:00,  1.35s/it]\n",
      "Validate (1500 / 10 Steps): 100%|██████████| 8/8 [00:38<00:00,  4.78s/it]6<?, ?it/s]\n",
      "Training (1500 / 18000 Steps) (loss=0.36765):   5%|▌         | 1/20 [00:45<14:19, 45.21s/it]"
     ]
    },
    {
     "name": "stdout",
     "output_type": "stream",
     "text": [
      "Model Was Not Saved ! Current Best Avg. Dice: 0.5636273622512817 Current Avg. Dice: 0.43495845794677734 Current Avg. tumor Dice: 0.6218828558921814 Current Avg. lymph Dice: 0.17743386328220367\n"
     ]
    },
    {
     "name": "stderr",
     "output_type": "stream",
     "text": [
      "Training (1519 / 18000 Steps) (loss=0.69775): 100%|██████████| 20/20 [01:05<00:00,  3.26s/it]\n",
      "Training (1539 / 18000 Steps) (loss=0.38729): 100%|██████████| 20/20 [00:26<00:00,  1.33s/it]\n",
      "Training (1559 / 18000 Steps) (loss=0.51603): 100%|██████████| 20/20 [00:26<00:00,  1.31s/it]\n",
      "Training (1579 / 18000 Steps) (loss=0.69028): 100%|██████████| 20/20 [00:26<00:00,  1.32s/it]\n",
      "Training (1599 / 18000 Steps) (loss=0.67423): 100%|██████████| 20/20 [00:26<00:00,  1.33s/it]\n",
      "Validate (1600 / 10 Steps): 100%|██████████| 8/8 [00:36<00:00,  4.59s/it]5<?, ?it/s]\n",
      "Training (1600 / 18000 Steps) (loss=0.68546):   5%|▌         | 1/20 [00:42<13:22, 42.25s/it]"
     ]
    },
    {
     "name": "stdout",
     "output_type": "stream",
     "text": [
      "Model Was Not Saved ! Current Best Avg. Dice: 0.5636273622512817 Current Avg. Dice: 0.5259426832199097 Current Avg. tumor Dice: 0.646325409412384 Current Avg. lymph Dice: 0.3656400442123413\n"
     ]
    },
    {
     "name": "stderr",
     "output_type": "stream",
     "text": [
      "Training (1619 / 18000 Steps) (loss=0.67528): 100%|██████████| 20/20 [01:02<00:00,  3.12s/it]\n",
      "Training (1639 / 18000 Steps) (loss=0.67413): 100%|██████████| 20/20 [00:26<00:00,  1.34s/it]\n",
      "Training (1659 / 18000 Steps) (loss=0.68183): 100%|██████████| 20/20 [00:25<00:00,  1.26s/it]\n",
      "Training (1679 / 18000 Steps) (loss=0.67370): 100%|██████████| 20/20 [00:27<00:00,  1.36s/it]\n",
      "Training (1699 / 18000 Steps) (loss=0.68345): 100%|██████████| 20/20 [00:27<00:00,  1.39s/it]\n",
      "Validate (1700 / 10 Steps): 100%|██████████| 8/8 [00:36<00:00,  4.61s/it]5<?, ?it/s]\n",
      "Training (1700 / 18000 Steps) (loss=0.44625):   5%|▌         | 1/20 [00:42<13:35, 42.92s/it]"
     ]
    },
    {
     "name": "stdout",
     "output_type": "stream",
     "text": [
      "Model Was Not Saved ! Current Best Avg. Dice: 0.5636273622512817 Current Avg. Dice: 0.3746790587902069 Current Avg. tumor Dice: 0.6087220311164856 Current Avg. lymph Dice: 0.04723161831498146\n"
     ]
    },
    {
     "name": "stderr",
     "output_type": "stream",
     "text": [
      "Training (1719 / 18000 Steps) (loss=0.37748): 100%|██████████| 20/20 [01:03<00:00,  3.16s/it]\n",
      "Training (1739 / 18000 Steps) (loss=0.54133): 100%|██████████| 20/20 [00:27<00:00,  1.39s/it]\n",
      "Training (1759 / 18000 Steps) (loss=0.40428): 100%|██████████| 20/20 [00:26<00:00,  1.34s/it]\n",
      "Training (1779 / 18000 Steps) (loss=0.41582): 100%|██████████| 20/20 [00:26<00:00,  1.32s/it]\n",
      "Training (1799 / 18000 Steps) (loss=0.67856): 100%|██████████| 20/20 [00:27<00:00,  1.35s/it]\n",
      "Validate (1800 / 10 Steps): 100%|██████████| 8/8 [00:36<00:00,  4.57s/it]5<?, ?it/s]\n",
      "Training (1800 / 18000 Steps) (loss=0.69245):   5%|▌         | 1/20 [00:42<13:23, 42.26s/it]"
     ]
    },
    {
     "name": "stdout",
     "output_type": "stream",
     "text": [
      "Model Was Not Saved ! Current Best Avg. Dice: 0.5636273622512817 Current Avg. Dice: 0.5326376557350159 Current Avg. tumor Dice: 0.660683810710907 Current Avg. lymph Dice: 0.3644806146621704\n"
     ]
    },
    {
     "name": "stderr",
     "output_type": "stream",
     "text": [
      "Training (1819 / 18000 Steps) (loss=0.63391): 100%|██████████| 20/20 [01:03<00:00,  3.19s/it]\n",
      "Training (1839 / 18000 Steps) (loss=0.44101): 100%|██████████| 20/20 [00:27<00:00,  1.38s/it]\n",
      "Training (1859 / 18000 Steps) (loss=0.67101): 100%|██████████| 20/20 [00:26<00:00,  1.32s/it]\n",
      "Training (1879 / 18000 Steps) (loss=0.42388): 100%|██████████| 20/20 [00:24<00:00,  1.24s/it]\n",
      "Training (1899 / 18000 Steps) (loss=0.67970): 100%|██████████| 20/20 [00:23<00:00,  1.17s/it]\n",
      "Validate (1900 / 10 Steps): 100%|██████████| 8/8 [00:35<00:00,  4.49s/it]4<?, ?it/s]\n",
      "Training (1900 / 18000 Steps) (loss=0.48245):   5%|▌         | 1/20 [00:40<12:58, 40.99s/it]"
     ]
    },
    {
     "name": "stdout",
     "output_type": "stream",
     "text": [
      "Model Was Not Saved ! Current Best Avg. Dice: 0.5636273622512817 Current Avg. Dice: 0.5167971849441528 Current Avg. tumor Dice: 0.6971091032028198 Current Avg. lymph Dice: 0.2812511920928955\n"
     ]
    },
    {
     "name": "stderr",
     "output_type": "stream",
     "text": [
      "Training (1919 / 18000 Steps) (loss=0.59059): 100%|██████████| 20/20 [00:58<00:00,  2.93s/it]\n",
      "Training (1939 / 18000 Steps) (loss=0.67499): 100%|██████████| 20/20 [00:23<00:00,  1.17s/it]\n",
      "Training (1959 / 18000 Steps) (loss=0.67232): 100%|██████████| 20/20 [00:23<00:00,  1.16s/it]\n",
      "Training (1979 / 18000 Steps) (loss=0.82546): 100%|██████████| 20/20 [00:23<00:00,  1.16s/it]\n",
      "Training (1999 / 18000 Steps) (loss=0.67095): 100%|██████████| 20/20 [00:23<00:00,  1.16s/it]\n",
      "Validate (2000 / 10 Steps): 100%|██████████| 8/8 [00:35<00:00,  4.46s/it]5<?, ?it/s]\n",
      "Training (2000 / 18000 Steps) (loss=0.48347):   5%|▌         | 1/20 [00:41<13:04, 41.28s/it]"
     ]
    },
    {
     "name": "stdout",
     "output_type": "stream",
     "text": [
      "Model Was Not Saved ! Current Best Avg. Dice: 0.5636273622512817 Current Avg. Dice: 0.5385853052139282 Current Avg. tumor Dice: 0.6911339163780212 Current Avg. lymph Dice: 0.33394792675971985\n"
     ]
    },
    {
     "name": "stderr",
     "output_type": "stream",
     "text": [
      "Training (2019 / 18000 Steps) (loss=0.17566): 100%|██████████| 20/20 [00:58<00:00,  2.95s/it]\n",
      "Training (2039 / 18000 Steps) (loss=0.34899): 100%|██████████| 20/20 [00:23<00:00,  1.17s/it]\n",
      "Training (2059 / 18000 Steps) (loss=0.28544): 100%|██████████| 20/20 [00:22<00:00,  1.14s/it]\n",
      "Training (2079 / 18000 Steps) (loss=0.22294): 100%|██████████| 20/20 [00:22<00:00,  1.14s/it]\n",
      "Training (2099 / 18000 Steps) (loss=0.29166): 100%|██████████| 20/20 [00:23<00:00,  1.16s/it]\n",
      "Validate (2100 / 10 Steps): 100%|██████████| 8/8 [00:35<00:00,  4.45s/it]5<?, ?it/s]\n",
      "Training (2100 / 18000 Steps) (loss=0.31868):   5%|▌         | 1/20 [00:40<12:57, 40.91s/it]"
     ]
    },
    {
     "name": "stdout",
     "output_type": "stream",
     "text": [
      "Model Was Not Saved ! Current Best Avg. Dice: 0.5636273622512817 Current Avg. Dice: 0.524285078048706 Current Avg. tumor Dice: 0.6275863647460938 Current Avg. lymph Dice: 0.378933310508728\n"
     ]
    },
    {
     "name": "stderr",
     "output_type": "stream",
     "text": [
      "Training (2119 / 18000 Steps) (loss=0.66986): 100%|██████████| 20/20 [00:59<00:00,  2.97s/it]\n",
      "Training (2139 / 18000 Steps) (loss=0.40576): 100%|██████████| 20/20 [00:23<00:00,  1.18s/it]\n",
      "Training (2159 / 18000 Steps) (loss=0.67042): 100%|██████████| 20/20 [00:23<00:00,  1.19s/it]\n",
      "Training (2179 / 18000 Steps) (loss=0.25681): 100%|██████████| 20/20 [00:23<00:00,  1.17s/it]\n",
      "Training (2199 / 18000 Steps) (loss=0.67070): 100%|██████████| 20/20 [00:23<00:00,  1.19s/it]\n",
      "Validate (2200 / 10 Steps): 100%|██████████| 8/8 [00:35<00:00,  4.50s/it]5<?, ?it/s]\n",
      "Training (2200 / 18000 Steps) (loss=0.38554):   5%|▌         | 1/20 [00:41<13:02, 41.18s/it]"
     ]
    },
    {
     "name": "stdout",
     "output_type": "stream",
     "text": [
      "Model Was Not Saved ! Current Best Avg. Dice: 0.5636273622512817 Current Avg. Dice: 0.5575282573699951 Current Avg. tumor Dice: 0.696472704410553 Current Avg. lymph Dice: 0.37489521503448486\n"
     ]
    },
    {
     "name": "stderr",
     "output_type": "stream",
     "text": [
      "Training (2219 / 18000 Steps) (loss=0.71577): 100%|██████████| 20/20 [00:59<00:00,  2.98s/it]\n",
      "Training (2239 / 18000 Steps) (loss=0.37149): 100%|██████████| 20/20 [00:23<00:00,  1.18s/it]\n",
      "Training (2259 / 18000 Steps) (loss=0.67033): 100%|██████████| 20/20 [00:23<00:00,  1.19s/it]\n",
      "Training (2279 / 18000 Steps) (loss=0.35152): 100%|██████████| 20/20 [00:23<00:00,  1.16s/it]\n",
      "Training (2299 / 18000 Steps) (loss=0.67353): 100%|██████████| 20/20 [00:23<00:00,  1.17s/it]\n",
      "Validate (2300 / 10 Steps): 100%|██████████| 8/8 [00:35<00:00,  4.45s/it]5<?, ?it/s]\n",
      "Training (2300 / 18000 Steps) (loss=0.67676):   5%|▌         | 1/20 [00:41<13:08, 41.50s/it]"
     ]
    },
    {
     "name": "stdout",
     "output_type": "stream",
     "text": [
      "Model Was Saved ! Current Best Avg. Dice: 0.5689099431037903 Current Avg. Dice: 0.5689099431037903 Current Avg. tumor Dice: 0.7213427424430847 Current Avg. lymph Dice: 0.3705964684486389\n"
     ]
    },
    {
     "name": "stderr",
     "output_type": "stream",
     "text": [
      "Training (2319 / 18000 Steps) (loss=0.48022): 100%|██████████| 20/20 [00:59<00:00,  2.96s/it]\n",
      "Training (2339 / 18000 Steps) (loss=0.20403): 100%|██████████| 20/20 [00:23<00:00,  1.17s/it]\n",
      "Training (2359 / 18000 Steps) (loss=0.30965): 100%|██████████| 20/20 [00:23<00:00,  1.18s/it]\n",
      "Training (2379 / 18000 Steps) (loss=0.19414): 100%|██████████| 20/20 [00:23<00:00,  1.17s/it]\n",
      "Training (2399 / 18000 Steps) (loss=0.69433): 100%|██████████| 20/20 [00:23<00:00,  1.15s/it]\n",
      "Validate (2400 / 10 Steps): 100%|██████████| 8/8 [00:35<00:00,  4.45s/it]4<?, ?it/s]\n",
      "Training (2400 / 18000 Steps) (loss=0.42860):   5%|▌         | 1/20 [00:40<12:49, 40.50s/it]"
     ]
    },
    {
     "name": "stdout",
     "output_type": "stream",
     "text": [
      "Model Was Not Saved ! Current Best Avg. Dice: 0.5689099431037903 Current Avg. Dice: 0.51966792345047 Current Avg. tumor Dice: 0.683445394039154 Current Avg. lymph Dice: 0.30292803049087524\n"
     ]
    },
    {
     "name": "stderr",
     "output_type": "stream",
     "text": [
      "Training (2419 / 18000 Steps) (loss=0.67068): 100%|██████████| 20/20 [00:58<00:00,  2.94s/it]\n",
      "Training (2439 / 18000 Steps) (loss=0.50513): 100%|██████████| 20/20 [00:23<00:00,  1.20s/it]\n",
      "Training (2459 / 18000 Steps) (loss=0.42087): 100%|██████████| 20/20 [00:23<00:00,  1.19s/it]\n",
      "Training (2479 / 18000 Steps) (loss=0.29780): 100%|██████████| 20/20 [00:23<00:00,  1.16s/it]\n",
      "Training (2499 / 18000 Steps) (loss=0.17898): 100%|██████████| 20/20 [00:23<00:00,  1.16s/it]\n",
      "Validate (2500 / 10 Steps): 100%|██████████| 8/8 [00:35<00:00,  4.46s/it]4<?, ?it/s]\n",
      "Training (2500 / 18000 Steps) (loss=0.41928):   5%|▌         | 1/20 [00:41<13:07, 41.44s/it]"
     ]
    },
    {
     "name": "stdout",
     "output_type": "stream",
     "text": [
      "Model Was Saved ! Current Best Avg. Dice: 0.5747317671775818 Current Avg. Dice: 0.5747317671775818 Current Avg. tumor Dice: 0.728227436542511 Current Avg. lymph Dice: 0.3769970238208771\n"
     ]
    },
    {
     "name": "stderr",
     "output_type": "stream",
     "text": [
      "Training (2519 / 18000 Steps) (loss=0.67040): 100%|██████████| 20/20 [00:59<00:00,  2.98s/it]\n",
      "Training (2539 / 18000 Steps) (loss=0.66963): 100%|██████████| 20/20 [00:23<00:00,  1.17s/it]\n",
      "Training (2559 / 18000 Steps) (loss=0.41630): 100%|██████████| 20/20 [00:23<00:00,  1.16s/it]\n",
      "Training (2579 / 18000 Steps) (loss=0.19949): 100%|██████████| 20/20 [00:23<00:00,  1.17s/it]\n",
      "Training (2599 / 18000 Steps) (loss=0.72177): 100%|██████████| 20/20 [00:23<00:00,  1.18s/it]\n",
      "Validate (2600 / 10 Steps): 100%|██████████| 8/8 [00:36<00:00,  4.51s/it]5<?, ?it/s]\n",
      "Training (2600 / 18000 Steps) (loss=0.67052):   5%|▌         | 1/20 [00:41<13:05, 41.36s/it]"
     ]
    },
    {
     "name": "stdout",
     "output_type": "stream",
     "text": [
      "Model Was Not Saved ! Current Best Avg. Dice: 0.5747317671775818 Current Avg. Dice: 0.3638513684272766 Current Avg. tumor Dice: 0.4688524305820465 Current Avg. lymph Dice: 0.2169627547264099\n"
     ]
    },
    {
     "name": "stderr",
     "output_type": "stream",
     "text": [
      "Training (2619 / 18000 Steps) (loss=0.24090): 100%|██████████| 20/20 [01:00<00:00,  3.01s/it]\n",
      "Training (2639 / 18000 Steps) (loss=0.34740): 100%|██████████| 20/20 [00:24<00:00,  1.20s/it]\n",
      "Training (2659 / 18000 Steps) (loss=0.26531): 100%|██████████| 20/20 [00:23<00:00,  1.19s/it]\n",
      "Training (2679 / 18000 Steps) (loss=0.70773): 100%|██████████| 20/20 [00:23<00:00,  1.19s/it]\n",
      "Training (2699 / 18000 Steps) (loss=0.44095): 100%|██████████| 20/20 [00:23<00:00,  1.16s/it]\n",
      "Validate (2700 / 10 Steps): 100%|██████████| 8/8 [00:35<00:00,  4.46s/it]4<?, ?it/s]\n",
      "Training (2700 / 18000 Steps) (loss=0.44697):   5%|▌         | 1/20 [00:40<12:50, 40.56s/it]"
     ]
    },
    {
     "name": "stdout",
     "output_type": "stream",
     "text": [
      "Model Was Not Saved ! Current Best Avg. Dice: 0.5747317671775818 Current Avg. Dice: 0.4828140139579773 Current Avg. tumor Dice: 0.6740068793296814 Current Avg. lymph Dice: 0.2323967069387436\n"
     ]
    },
    {
     "name": "stderr",
     "output_type": "stream",
     "text": [
      "Training (2719 / 18000 Steps) (loss=0.67538): 100%|██████████| 20/20 [00:59<00:00,  2.96s/it]\n",
      "Training (2739 / 18000 Steps) (loss=0.67158): 100%|██████████| 20/20 [00:23<00:00,  1.18s/it]\n",
      "Training (2759 / 18000 Steps) (loss=0.31485): 100%|██████████| 20/20 [00:23<00:00,  1.16s/it]\n",
      "Training (2779 / 18000 Steps) (loss=0.30017): 100%|██████████| 20/20 [00:23<00:00,  1.18s/it]\n",
      "Training (2799 / 18000 Steps) (loss=0.60915): 100%|██████████| 20/20 [00:23<00:00,  1.16s/it]\n",
      "Validate (2800 / 10 Steps): 100%|██████████| 8/8 [00:36<00:00,  4.51s/it]5<?, ?it/s]\n",
      "Training (2800 / 18000 Steps) (loss=0.48624):   5%|▌         | 1/20 [00:41<13:09, 41.56s/it]"
     ]
    },
    {
     "name": "stdout",
     "output_type": "stream",
     "text": [
      "Model Was Not Saved ! Current Best Avg. Dice: 0.5747317671775818 Current Avg. Dice: 0.5053755640983582 Current Avg. tumor Dice: 0.6909698247909546 Current Avg. lymph Dice: 0.25752049684524536\n"
     ]
    },
    {
     "name": "stderr",
     "output_type": "stream",
     "text": [
      "Training (2819 / 18000 Steps) (loss=0.70302): 100%|██████████| 20/20 [00:59<00:00,  2.99s/it]\n",
      "Training (2839 / 18000 Steps) (loss=0.39272): 100%|██████████| 20/20 [00:23<00:00,  1.18s/it]\n",
      "Training (2859 / 18000 Steps) (loss=0.31322): 100%|██████████| 20/20 [00:23<00:00,  1.15s/it]\n",
      "Training (2879 / 18000 Steps) (loss=0.20427): 100%|██████████| 20/20 [00:23<00:00,  1.19s/it]\n",
      "Training (2899 / 18000 Steps) (loss=0.21873): 100%|██████████| 20/20 [00:23<00:00,  1.16s/it]\n",
      "Validate (2900 / 10 Steps): 100%|██████████| 8/8 [00:35<00:00,  4.48s/it]5<?, ?it/s]\n",
      "Training (2900 / 18000 Steps) (loss=0.31241):   5%|▌         | 1/20 [00:41<13:13, 41.77s/it]"
     ]
    },
    {
     "name": "stdout",
     "output_type": "stream",
     "text": [
      "Model Was Saved ! Current Best Avg. Dice: 0.5783950686454773 Current Avg. Dice: 0.5783950686454773 Current Avg. tumor Dice: 0.7088457345962524 Current Avg. lymph Dice: 0.4069928824901581\n"
     ]
    },
    {
     "name": "stderr",
     "output_type": "stream",
     "text": [
      "Training (2919 / 18000 Steps) (loss=0.35399): 100%|██████████| 20/20 [01:00<00:00,  3.01s/it]\n",
      "Training (2939 / 18000 Steps) (loss=0.64455): 100%|██████████| 20/20 [00:23<00:00,  1.16s/it]\n",
      "Training (2959 / 18000 Steps) (loss=0.46212): 100%|██████████| 20/20 [00:24<00:00,  1.21s/it]\n",
      "Training (2979 / 18000 Steps) (loss=0.30763): 100%|██████████| 20/20 [00:23<00:00,  1.17s/it]\n",
      "Training (2999 / 18000 Steps) (loss=0.51420): 100%|██████████| 20/20 [00:23<00:00,  1.20s/it]\n",
      "Validate (3000 / 10 Steps): 100%|██████████| 8/8 [00:36<00:00,  4.50s/it]5<?, ?it/s]\n",
      "Training (3000 / 18000 Steps) (loss=0.23473):   5%|▌         | 1/20 [00:41<13:03, 41.22s/it]"
     ]
    },
    {
     "name": "stdout",
     "output_type": "stream",
     "text": [
      "Model Was Not Saved ! Current Best Avg. Dice: 0.5783950686454773 Current Avg. Dice: 0.5550263524055481 Current Avg. tumor Dice: 0.6938605904579163 Current Avg. lymph Dice: 0.3735272288322449\n"
     ]
    },
    {
     "name": "stderr",
     "output_type": "stream",
     "text": [
      "Training (3019 / 18000 Steps) (loss=0.67023): 100%|██████████| 20/20 [00:59<00:00,  3.00s/it]\n",
      "Training (3039 / 18000 Steps) (loss=0.67084): 100%|██████████| 20/20 [00:23<00:00,  1.17s/it]\n",
      "Training (3059 / 18000 Steps) (loss=0.67436): 100%|██████████| 20/20 [00:23<00:00,  1.18s/it]\n",
      "Training (3079 / 18000 Steps) (loss=0.21792): 100%|██████████| 20/20 [00:23<00:00,  1.16s/it]\n",
      "Training (3099 / 18000 Steps) (loss=0.67031): 100%|██████████| 20/20 [00:23<00:00,  1.16s/it]\n",
      "Validate (3100 / 10 Steps): 100%|██████████| 8/8 [00:35<00:00,  4.48s/it]5<?, ?it/s]\n",
      "Training (3100 / 18000 Steps) (loss=0.46750):   5%|▌         | 1/20 [00:41<13:01, 41.14s/it]"
     ]
    },
    {
     "name": "stdout",
     "output_type": "stream",
     "text": [
      "Model Was Not Saved ! Current Best Avg. Dice: 0.5783950686454773 Current Avg. Dice: 0.537621796131134 Current Avg. tumor Dice: 0.7043648362159729 Current Avg. lymph Dice: 0.3159034848213196\n"
     ]
    },
    {
     "name": "stderr",
     "output_type": "stream",
     "text": [
      "Training (3119 / 18000 Steps) (loss=0.33444): 100%|██████████| 20/20 [00:59<00:00,  2.96s/it]\n",
      "Training (3139 / 18000 Steps) (loss=0.36795): 100%|██████████| 20/20 [00:24<00:00,  1.21s/it]\n",
      "Training (3159 / 18000 Steps) (loss=0.22337): 100%|██████████| 20/20 [00:23<00:00,  1.17s/it]\n",
      "Training (3179 / 18000 Steps) (loss=0.67125): 100%|██████████| 20/20 [00:23<00:00,  1.17s/it]\n",
      "Training (3199 / 18000 Steps) (loss=0.66797): 100%|██████████| 20/20 [00:22<00:00,  1.14s/it]\n",
      "Validate (3200 / 10 Steps): 100%|██████████| 8/8 [00:36<00:00,  4.55s/it]4<?, ?it/s]\n",
      "Training (3200 / 18000 Steps) (loss=0.28555):   5%|▌         | 1/20 [00:41<13:03, 41.23s/it]"
     ]
    },
    {
     "name": "stdout",
     "output_type": "stream",
     "text": [
      "Model Was Not Saved ! Current Best Avg. Dice: 0.5783950686454773 Current Avg. Dice: 0.4894556701183319 Current Avg. tumor Dice: 0.6361196637153625 Current Avg. lymph Dice: 0.2890322208404541\n"
     ]
    },
    {
     "name": "stderr",
     "output_type": "stream",
     "text": [
      "Training (3219 / 18000 Steps) (loss=0.23396): 100%|██████████| 20/20 [00:59<00:00,  2.99s/it]\n",
      "Training (3239 / 18000 Steps) (loss=0.24905): 100%|██████████| 20/20 [00:23<00:00,  1.18s/it]\n",
      "Training (3259 / 18000 Steps) (loss=0.67082): 100%|██████████| 20/20 [00:23<00:00,  1.15s/it]\n",
      "Training (3279 / 18000 Steps) (loss=0.38304): 100%|██████████| 20/20 [00:23<00:00,  1.20s/it]\n",
      "Training (3299 / 18000 Steps) (loss=0.22300): 100%|██████████| 20/20 [00:23<00:00,  1.15s/it]\n",
      "Validate (3300 / 10 Steps): 100%|██████████| 8/8 [00:35<00:00,  4.45s/it]5<?, ?it/s]\n",
      "Training (3300 / 18000 Steps) (loss=0.21897):   5%|▌         | 1/20 [00:41<13:05, 41.33s/it]"
     ]
    },
    {
     "name": "stdout",
     "output_type": "stream",
     "text": [
      "Model Was Not Saved ! Current Best Avg. Dice: 0.5783950686454773 Current Avg. Dice: 0.4963468611240387 Current Avg. tumor Dice: 0.6314036846160889 Current Avg. lymph Dice: 0.3165935277938843\n"
     ]
    },
    {
     "name": "stderr",
     "output_type": "stream",
     "text": [
      "Training (3319 / 18000 Steps) (loss=0.27662): 100%|██████████| 20/20 [00:59<00:00,  2.95s/it]\n",
      "Training (3339 / 18000 Steps) (loss=0.66791): 100%|██████████| 20/20 [00:23<00:00,  1.15s/it]\n",
      "Training (3359 / 18000 Steps) (loss=0.42205): 100%|██████████| 20/20 [00:23<00:00,  1.17s/it]\n",
      "Training (3379 / 18000 Steps) (loss=0.25883): 100%|██████████| 20/20 [00:23<00:00,  1.15s/it]\n",
      "Training (3399 / 18000 Steps) (loss=0.15497): 100%|██████████| 20/20 [00:23<00:00,  1.15s/it]\n",
      "Validate (3400 / 10 Steps): 100%|██████████| 8/8 [00:35<00:00,  4.45s/it]5<?, ?it/s]\n",
      "Training (3400 / 18000 Steps) (loss=0.35484):   5%|▌         | 1/20 [00:41<13:08, 41.52s/it]"
     ]
    },
    {
     "name": "stdout",
     "output_type": "stream",
     "text": [
      "Model Was Saved ! Current Best Avg. Dice: 0.5816087126731873 Current Avg. Dice: 0.5816087126731873 Current Avg. tumor Dice: 0.7167479991912842 Current Avg. lymph Dice: 0.40744420886039734\n"
     ]
    },
    {
     "name": "stderr",
     "output_type": "stream",
     "text": [
      "Training (3419 / 18000 Steps) (loss=0.37368): 100%|██████████| 20/20 [00:59<00:00,  2.98s/it]\n",
      "Training (3439 / 18000 Steps) (loss=0.67309): 100%|██████████| 20/20 [00:22<00:00,  1.14s/it]\n",
      "Training (3459 / 18000 Steps) (loss=0.66991): 100%|██████████| 20/20 [00:23<00:00,  1.18s/it]\n",
      "Training (3479 / 18000 Steps) (loss=0.22082): 100%|██████████| 20/20 [00:23<00:00,  1.16s/it]\n",
      "Training (3499 / 18000 Steps) (loss=0.25738): 100%|██████████| 20/20 [00:23<00:00,  1.19s/it]\n",
      "Validate (3500 / 10 Steps): 100%|██████████| 8/8 [00:35<00:00,  4.46s/it]5<?, ?it/s]\n",
      "Training (3500 / 18000 Steps) (loss=0.47620):   5%|▌         | 1/20 [00:40<12:57, 40.91s/it]"
     ]
    },
    {
     "name": "stdout",
     "output_type": "stream",
     "text": [
      "Model Was Not Saved ! Current Best Avg. Dice: 0.5816087126731873 Current Avg. Dice: 0.4992535710334778 Current Avg. tumor Dice: 0.5938581824302673 Current Avg. lymph Dice: 0.3719436824321747\n"
     ]
    },
    {
     "name": "stderr",
     "output_type": "stream",
     "text": [
      "Training (3519 / 18000 Steps) (loss=0.32518): 100%|██████████| 20/20 [00:58<00:00,  2.95s/it]\n",
      "Training (3539 / 18000 Steps) (loss=0.39092): 100%|██████████| 20/20 [00:22<00:00,  1.15s/it]\n",
      "Training (3559 / 18000 Steps) (loss=0.22589): 100%|██████████| 20/20 [00:22<00:00,  1.15s/it]\n",
      "Training (3579 / 18000 Steps) (loss=0.43921): 100%|██████████| 20/20 [00:23<00:00,  1.16s/it]\n",
      "Training (3599 / 18000 Steps) (loss=0.18967): 100%|██████████| 20/20 [00:23<00:00,  1.15s/it]\n",
      "Validate (3600 / 10 Steps): 100%|██████████| 8/8 [00:35<00:00,  4.50s/it]4<?, ?it/s]\n",
      "Training (3600 / 18000 Steps) (loss=0.47965):   5%|▌         | 1/20 [00:40<12:56, 40.89s/it]"
     ]
    },
    {
     "name": "stdout",
     "output_type": "stream",
     "text": [
      "Model Was Not Saved ! Current Best Avg. Dice: 0.5816087126731873 Current Avg. Dice: 0.425877183675766 Current Avg. tumor Dice: 0.5659112930297852 Current Avg. lymph Dice: 0.23203684389591217\n"
     ]
    },
    {
     "name": "stderr",
     "output_type": "stream",
     "text": [
      "Training (3619 / 18000 Steps) (loss=0.17410): 100%|██████████| 20/20 [00:58<00:00,  2.95s/it]\n",
      "Training (3639 / 18000 Steps) (loss=0.66765): 100%|██████████| 20/20 [00:23<00:00,  1.19s/it]\n",
      "Training (3659 / 18000 Steps) (loss=0.66807): 100%|██████████| 20/20 [00:23<00:00,  1.19s/it]\n",
      "Training (3679 / 18000 Steps) (loss=0.16410): 100%|██████████| 20/20 [00:23<00:00,  1.17s/it]\n",
      "Training (3699 / 18000 Steps) (loss=0.23926): 100%|██████████| 20/20 [00:23<00:00,  1.18s/it]\n",
      "Validate (3700 / 10 Steps): 100%|██████████| 8/8 [00:35<00:00,  4.45s/it]5<?, ?it/s]\n",
      "Training (3700 / 18000 Steps) (loss=0.45559):   5%|▌         | 1/20 [00:41<13:01, 41.14s/it]"
     ]
    },
    {
     "name": "stdout",
     "output_type": "stream",
     "text": [
      "Model Was Not Saved ! Current Best Avg. Dice: 0.5816087126731873 Current Avg. Dice: 0.5750609040260315 Current Avg. tumor Dice: 0.7126685976982117 Current Avg. lymph Dice: 0.3885868489742279\n"
     ]
    },
    {
     "name": "stderr",
     "output_type": "stream",
     "text": [
      "Training (3719 / 18000 Steps) (loss=0.56121): 100%|██████████| 20/20 [00:58<00:00,  2.92s/it]\n",
      "Training (3739 / 18000 Steps) (loss=0.66769): 100%|██████████| 20/20 [00:23<00:00,  1.18s/it]\n",
      "Training (3759 / 18000 Steps) (loss=0.66840): 100%|██████████| 20/20 [00:23<00:00,  1.16s/it]\n",
      "Training (3779 / 18000 Steps) (loss=0.51788): 100%|██████████| 20/20 [00:23<00:00,  1.15s/it]\n",
      "Training (3799 / 18000 Steps) (loss=0.67668): 100%|██████████| 20/20 [00:23<00:00,  1.18s/it]\n",
      "Validate (3800 / 10 Steps): 100%|██████████| 8/8 [00:35<00:00,  4.48s/it]5<?, ?it/s]\n",
      "Training (3800 / 18000 Steps) (loss=0.37092):   5%|▌         | 1/20 [00:40<12:57, 40.94s/it]"
     ]
    },
    {
     "name": "stdout",
     "output_type": "stream",
     "text": [
      "Model Was Not Saved ! Current Best Avg. Dice: 0.5816087126731873 Current Avg. Dice: 0.5139715075492859 Current Avg. tumor Dice: 0.6602847576141357 Current Avg. lymph Dice: 0.3146836459636688\n"
     ]
    },
    {
     "name": "stderr",
     "output_type": "stream",
     "text": [
      "Training (3819 / 18000 Steps) (loss=0.62009): 100%|██████████| 20/20 [00:58<00:00,  2.95s/it]\n",
      "Training (3839 / 18000 Steps) (loss=0.66975): 100%|██████████| 20/20 [00:22<00:00,  1.14s/it]\n",
      "Training (3859 / 18000 Steps) (loss=0.22775): 100%|██████████| 20/20 [00:23<00:00,  1.17s/it]\n",
      "Training (3879 / 18000 Steps) (loss=0.29070): 100%|██████████| 20/20 [00:23<00:00,  1.17s/it]\n",
      "Training (3899 / 18000 Steps) (loss=0.59424): 100%|██████████| 20/20 [00:23<00:00,  1.16s/it]\n",
      "Validate (3900 / 10 Steps): 100%|██████████| 8/8 [00:35<00:00,  4.46s/it]5<?, ?it/s]\n",
      "Training (3900 / 18000 Steps) (loss=0.29408):   5%|▌         | 1/20 [00:40<12:56, 40.87s/it]"
     ]
    },
    {
     "name": "stdout",
     "output_type": "stream",
     "text": [
      "Model Was Not Saved ! Current Best Avg. Dice: 0.5816087126731873 Current Avg. Dice: 0.5099858641624451 Current Avg. tumor Dice: 0.6775915622711182 Current Avg. lymph Dice: 0.28963932394981384\n"
     ]
    },
    {
     "name": "stderr",
     "output_type": "stream",
     "text": [
      "Training (3919 / 18000 Steps) (loss=0.38290): 100%|██████████| 20/20 [00:58<00:00,  2.93s/it]\n",
      "Training (3939 / 18000 Steps) (loss=0.41306): 100%|██████████| 20/20 [00:23<00:00,  1.15s/it]\n",
      "Training (3959 / 18000 Steps) (loss=0.20270): 100%|██████████| 20/20 [00:23<00:00,  1.18s/it]\n",
      "Training (3979 / 18000 Steps) (loss=0.18945): 100%|██████████| 20/20 [00:23<00:00,  1.16s/it]\n",
      "Training (3999 / 18000 Steps) (loss=0.30784): 100%|██████████| 20/20 [00:23<00:00,  1.15s/it]\n",
      "Validate (4000 / 10 Steps): 100%|██████████| 8/8 [00:35<00:00,  4.46s/it]5<?, ?it/s]\n",
      "Training (4000 / 18000 Steps) (loss=0.39372):   5%|▌         | 1/20 [00:41<12:59, 41.03s/it]"
     ]
    },
    {
     "name": "stdout",
     "output_type": "stream",
     "text": [
      "Model Was Not Saved ! Current Best Avg. Dice: 0.5816087126731873 Current Avg. Dice: 0.5699211359024048 Current Avg. tumor Dice: 0.6967553496360779 Current Avg. lymph Dice: 0.4000408351421356\n"
     ]
    },
    {
     "name": "stderr",
     "output_type": "stream",
     "text": [
      "Training (4019 / 18000 Steps) (loss=0.45860): 100%|██████████| 20/20 [00:58<00:00,  2.93s/it]\n",
      "Training (4039 / 18000 Steps) (loss=0.27838): 100%|██████████| 20/20 [00:23<00:00,  1.17s/it]\n",
      "Training (4059 / 18000 Steps) (loss=0.34515): 100%|██████████| 20/20 [00:23<00:00,  1.17s/it]\n",
      "Training (4079 / 18000 Steps) (loss=0.42703): 100%|██████████| 20/20 [00:23<00:00,  1.16s/it]\n",
      "Training (4099 / 18000 Steps) (loss=0.53011): 100%|██████████| 20/20 [00:23<00:00,  1.17s/it]\n",
      "Validate (4100 / 10 Steps): 100%|██████████| 8/8 [00:35<00:00,  4.46s/it]5<?, ?it/s]\n",
      "Training (4100 / 18000 Steps) (loss=0.32024):   5%|▌         | 1/20 [00:40<12:58, 40.98s/it]"
     ]
    },
    {
     "name": "stdout",
     "output_type": "stream",
     "text": [
      "Model Was Not Saved ! Current Best Avg. Dice: 0.5816087126731873 Current Avg. Dice: 0.5607993006706238 Current Avg. tumor Dice: 0.6826918721199036 Current Avg. lymph Dice: 0.39943045377731323\n"
     ]
    },
    {
     "name": "stderr",
     "output_type": "stream",
     "text": [
      "Training (4119 / 18000 Steps) (loss=0.66747): 100%|██████████| 20/20 [00:59<00:00,  2.97s/it]\n",
      "Training (4139 / 18000 Steps) (loss=0.66839): 100%|██████████| 20/20 [00:23<00:00,  1.20s/it]\n",
      "Training (4159 / 18000 Steps) (loss=0.30046): 100%|██████████| 20/20 [00:23<00:00,  1.20s/it]\n",
      "Training (4179 / 18000 Steps) (loss=0.66733): 100%|██████████| 20/20 [00:23<00:00,  1.18s/it]\n",
      "Training (4199 / 18000 Steps) (loss=0.67769): 100%|██████████| 20/20 [00:23<00:00,  1.16s/it]\n",
      "Validate (4200 / 10 Steps): 100%|██████████| 8/8 [00:36<00:00,  4.52s/it]5<?, ?it/s]\n",
      "Training (4200 / 18000 Steps) (loss=0.41661):   5%|▌         | 1/20 [00:41<13:04, 41.31s/it]"
     ]
    },
    {
     "name": "stdout",
     "output_type": "stream",
     "text": [
      "Model Was Not Saved ! Current Best Avg. Dice: 0.5816087126731873 Current Avg. Dice: 0.5701127648353577 Current Avg. tumor Dice: 0.6935828924179077 Current Avg. lymph Dice: 0.40702229738235474\n"
     ]
    },
    {
     "name": "stderr",
     "output_type": "stream",
     "text": [
      "Training (4219 / 18000 Steps) (loss=0.34329): 100%|██████████| 20/20 [00:59<00:00,  2.97s/it]\n",
      "Training (4239 / 18000 Steps) (loss=0.66739): 100%|██████████| 20/20 [00:23<00:00,  1.20s/it]\n",
      "Training (4259 / 18000 Steps) (loss=0.66763): 100%|██████████| 20/20 [00:23<00:00,  1.20s/it]\n",
      "Training (4279 / 18000 Steps) (loss=0.67315): 100%|██████████| 20/20 [00:24<00:00,  1.21s/it]\n",
      "Training (4299 / 18000 Steps) (loss=0.14773): 100%|██████████| 20/20 [00:23<00:00,  1.18s/it]\n",
      "Validate (4300 / 10 Steps): 100%|██████████| 8/8 [00:36<00:00,  4.58s/it]4<?, ?it/s]\n",
      "Training (4300 / 18000 Steps) (loss=0.44203):   5%|▌         | 1/20 [00:41<13:10, 41.61s/it]"
     ]
    },
    {
     "name": "stdout",
     "output_type": "stream",
     "text": [
      "Model Was Not Saved ! Current Best Avg. Dice: 0.5816087126731873 Current Avg. Dice: 0.5803145170211792 Current Avg. tumor Dice: 0.7113912105560303 Current Avg. lymph Dice: 0.4292477071285248\n"
     ]
    },
    {
     "name": "stderr",
     "output_type": "stream",
     "text": [
      "Training (4319 / 18000 Steps) (loss=0.26968): 100%|██████████| 20/20 [01:00<00:00,  3.02s/it]\n",
      "Training (4339 / 18000 Steps) (loss=0.22693): 100%|██████████| 20/20 [00:24<00:00,  1.21s/it]\n",
      "Training (4359 / 18000 Steps) (loss=0.66755): 100%|██████████| 20/20 [00:23<00:00,  1.18s/it]\n",
      "Training (4379 / 18000 Steps) (loss=0.16227): 100%|██████████| 20/20 [00:23<00:00,  1.19s/it]\n",
      "Training (4399 / 18000 Steps) (loss=0.41868): 100%|██████████| 20/20 [00:24<00:00,  1.24s/it]\n",
      "Validate (4400 / 10 Steps): 100%|██████████| 8/8 [00:35<00:00,  4.49s/it]5<?, ?it/s]\n",
      "Training (4400 / 18000 Steps) (loss=0.43414):   5%|▌         | 1/20 [00:41<13:01, 41.15s/it]"
     ]
    },
    {
     "name": "stdout",
     "output_type": "stream",
     "text": [
      "Model Was Not Saved ! Current Best Avg. Dice: 0.5816087126731873 Current Avg. Dice: 0.5442455410957336 Current Avg. tumor Dice: 0.6762060523033142 Current Avg. lymph Dice: 0.36710405349731445\n"
     ]
    },
    {
     "name": "stderr",
     "output_type": "stream",
     "text": [
      "Training (4419 / 18000 Steps) (loss=0.24089): 100%|██████████| 20/20 [00:59<00:00,  2.96s/it]\n",
      "Training (4439 / 18000 Steps) (loss=0.66743): 100%|██████████| 20/20 [00:24<00:00,  1.22s/it]\n",
      "Training (4459 / 18000 Steps) (loss=0.66739): 100%|██████████| 20/20 [00:24<00:00,  1.24s/it]\n",
      "Training (4479 / 18000 Steps) (loss=0.66958): 100%|██████████| 20/20 [00:23<00:00,  1.18s/it]\n",
      "Training (4499 / 18000 Steps) (loss=0.66758): 100%|██████████| 20/20 [00:23<00:00,  1.20s/it]\n",
      "Validate (4500 / 10 Steps): 100%|██████████| 8/8 [00:35<00:00,  4.47s/it]5<?, ?it/s]\n",
      "Training (4500 / 18000 Steps) (loss=0.45250):   5%|▌         | 1/20 [00:41<12:59, 41.05s/it]"
     ]
    },
    {
     "name": "stdout",
     "output_type": "stream",
     "text": [
      "Model Was Not Saved ! Current Best Avg. Dice: 0.5816087126731873 Current Avg. Dice: 0.5523477792739868 Current Avg. tumor Dice: 0.6904966235160828 Current Avg. lymph Dice: 0.3678440451622009\n"
     ]
    },
    {
     "name": "stderr",
     "output_type": "stream",
     "text": [
      "Training (4519 / 18000 Steps) (loss=0.66821): 100%|██████████| 20/20 [00:59<00:00,  2.98s/it]\n",
      "Training (4539 / 18000 Steps) (loss=0.37480): 100%|██████████| 20/20 [00:23<00:00,  1.19s/it]\n",
      "Training (4559 / 18000 Steps) (loss=0.23048): 100%|██████████| 20/20 [00:24<00:00,  1.21s/it]\n",
      "Training (4579 / 18000 Steps) (loss=0.24861): 100%|██████████| 20/20 [00:24<00:00,  1.21s/it]\n",
      "Training (4599 / 18000 Steps) (loss=0.66258): 100%|██████████| 20/20 [00:23<00:00,  1.18s/it]\n",
      "Validate (4600 / 10 Steps): 100%|██████████| 8/8 [00:36<00:00,  4.53s/it]5<?, ?it/s]\n",
      "Training (4600 / 18000 Steps) (loss=0.37135):   5%|▌         | 1/20 [00:42<13:28, 42.57s/it]"
     ]
    },
    {
     "name": "stdout",
     "output_type": "stream",
     "text": [
      "Model Was Saved ! Current Best Avg. Dice: 0.5876556634902954 Current Avg. Dice: 0.5876556634902954 Current Avg. tumor Dice: 0.7183287143707275 Current Avg. lymph Dice: 0.4420566260814667\n"
     ]
    },
    {
     "name": "stderr",
     "output_type": "stream",
     "text": [
      "Training (4619 / 18000 Steps) (loss=0.67846): 100%|██████████| 20/20 [01:01<00:00,  3.05s/it]\n",
      "Training (4639 / 18000 Steps) (loss=0.17183): 100%|██████████| 20/20 [00:23<00:00,  1.20s/it]\n",
      "Training (4659 / 18000 Steps) (loss=0.29109): 100%|██████████| 20/20 [00:23<00:00,  1.16s/it]\n",
      "Training (4679 / 18000 Steps) (loss=0.66756): 100%|██████████| 20/20 [00:23<00:00,  1.18s/it]\n",
      "Training (4699 / 18000 Steps) (loss=0.66783): 100%|██████████| 20/20 [00:23<00:00,  1.15s/it]\n",
      "Validate (4700 / 10 Steps): 100%|██████████| 8/8 [00:35<00:00,  4.46s/it]4<?, ?it/s]\n",
      "Training (4700 / 18000 Steps) (loss=0.41713):   5%|▌         | 1/20 [00:40<12:52, 40.64s/it]"
     ]
    },
    {
     "name": "stdout",
     "output_type": "stream",
     "text": [
      "Model Was Not Saved ! Current Best Avg. Dice: 0.5876556634902954 Current Avg. Dice: 0.4820232391357422 Current Avg. tumor Dice: 0.6033061742782593 Current Avg. lymph Dice: 0.3193984031677246\n"
     ]
    },
    {
     "name": "stderr",
     "output_type": "stream",
     "text": [
      "Training (4719 / 18000 Steps) (loss=0.27366): 100%|██████████| 20/20 [00:58<00:00,  2.93s/it]\n",
      "Training (4739 / 18000 Steps) (loss=0.42774): 100%|██████████| 20/20 [00:23<00:00,  1.17s/it]\n",
      "Training (4759 / 18000 Steps) (loss=0.66739): 100%|██████████| 20/20 [00:23<00:00,  1.19s/it]\n",
      "Training (4779 / 18000 Steps) (loss=0.25602): 100%|██████████| 20/20 [00:23<00:00,  1.16s/it]\n",
      "Training (4799 / 18000 Steps) (loss=0.23224): 100%|██████████| 20/20 [00:22<00:00,  1.15s/it]\n",
      "Validate (4800 / 10 Steps): 100%|██████████| 8/8 [00:35<00:00,  4.46s/it]5<?, ?it/s]\n",
      "Training (4800 / 18000 Steps) (loss=0.61567):   5%|▌         | 1/20 [00:40<12:57, 40.95s/it]"
     ]
    },
    {
     "name": "stdout",
     "output_type": "stream",
     "text": [
      "Model Was Not Saved ! Current Best Avg. Dice: 0.5876556634902954 Current Avg. Dice: 0.5293195247650146 Current Avg. tumor Dice: 0.6429900527000427 Current Avg. lymph Dice: 0.3747541010379791\n"
     ]
    },
    {
     "name": "stderr",
     "output_type": "stream",
     "text": [
      "Training (4819 / 18000 Steps) (loss=0.20260): 100%|██████████| 20/20 [00:59<00:00,  2.96s/it]\n",
      "Training (4839 / 18000 Steps) (loss=0.33245): 100%|██████████| 20/20 [00:23<00:00,  1.19s/it]\n",
      "Training (4859 / 18000 Steps) (loss=0.49091): 100%|██████████| 20/20 [00:23<00:00,  1.17s/it]\n",
      "Training (4879 / 18000 Steps) (loss=0.59471): 100%|██████████| 20/20 [00:22<00:00,  1.14s/it]\n",
      "Training (4899 / 18000 Steps) (loss=0.20018): 100%|██████████| 20/20 [00:23<00:00,  1.15s/it]\n",
      "Validate (4900 / 10 Steps): 100%|██████████| 8/8 [00:35<00:00,  4.46s/it]5<?, ?it/s]\n",
      "Training (4900 / 18000 Steps) (loss=0.66874):   5%|▌         | 1/20 [00:40<12:58, 40.98s/it]"
     ]
    },
    {
     "name": "stdout",
     "output_type": "stream",
     "text": [
      "Model Was Not Saved ! Current Best Avg. Dice: 0.5876556634902954 Current Avg. Dice: 0.4875522255897522 Current Avg. tumor Dice: 0.6319429874420166 Current Avg. lymph Dice: 0.2885988652706146\n"
     ]
    },
    {
     "name": "stderr",
     "output_type": "stream",
     "text": [
      "Training (4919 / 18000 Steps) (loss=0.47173): 100%|██████████| 20/20 [00:58<00:00,  2.94s/it]\n",
      "Training (4939 / 18000 Steps) (loss=0.47351): 100%|██████████| 20/20 [00:22<00:00,  1.14s/it]\n",
      "Training (4959 / 18000 Steps) (loss=0.75968): 100%|██████████| 20/20 [00:23<00:00,  1.16s/it]\n",
      "Training (4979 / 18000 Steps) (loss=0.68353): 100%|██████████| 20/20 [00:22<00:00,  1.15s/it]\n",
      "Training (4999 / 18000 Steps) (loss=0.66709): 100%|██████████| 20/20 [00:23<00:00,  1.15s/it]\n",
      "Validate (5000 / 10 Steps): 100%|██████████| 8/8 [00:35<00:00,  4.48s/it]4<?, ?it/s]\n",
      "Training (5000 / 18000 Steps) (loss=0.46663):   5%|▌         | 1/20 [00:41<13:11, 41.68s/it]"
     ]
    },
    {
     "name": "stdout",
     "output_type": "stream",
     "text": [
      "Model Was Saved ! Current Best Avg. Dice: 0.6116873621940613 Current Avg. Dice: 0.6116873621940613 Current Avg. tumor Dice: 0.7634312510490417 Current Avg. lymph Dice: 0.4178805649280548\n"
     ]
    },
    {
     "name": "stderr",
     "output_type": "stream",
     "text": [
      "Training (5019 / 18000 Steps) (loss=0.68877): 100%|██████████| 20/20 [00:59<00:00,  2.98s/it]\n",
      "Training (5039 / 18000 Steps) (loss=0.66727): 100%|██████████| 20/20 [00:23<00:00,  1.18s/it]\n",
      "Training (5059 / 18000 Steps) (loss=0.32360): 100%|██████████| 20/20 [00:23<00:00,  1.15s/it]\n",
      "Training (5079 / 18000 Steps) (loss=0.42261): 100%|██████████| 20/20 [00:22<00:00,  1.15s/it]\n",
      "Training (5099 / 18000 Steps) (loss=0.39935): 100%|██████████| 20/20 [00:23<00:00,  1.15s/it]\n",
      "Validate (5100 / 10 Steps): 100%|██████████| 8/8 [00:35<00:00,  4.45s/it]5<?, ?it/s]\n",
      "Training (5100 / 18000 Steps) (loss=0.28617):   5%|▌         | 1/20 [00:41<13:13, 41.79s/it]"
     ]
    },
    {
     "name": "stdout",
     "output_type": "stream",
     "text": [
      "Model Was Saved ! Current Best Avg. Dice: 0.6163389682769775 Current Avg. Dice: 0.6163389682769775 Current Avg. tumor Dice: 0.7606251835823059 Current Avg. lymph Dice: 0.4347812831401825\n"
     ]
    },
    {
     "name": "stderr",
     "output_type": "stream",
     "text": [
      "Training (5119 / 18000 Steps) (loss=0.66921): 100%|██████████| 20/20 [00:59<00:00,  2.99s/it]\n",
      "Training (5139 / 18000 Steps) (loss=0.20031): 100%|██████████| 20/20 [00:23<00:00,  1.18s/it]\n",
      "Training (5159 / 18000 Steps) (loss=0.11262): 100%|██████████| 20/20 [00:23<00:00,  1.16s/it]\n",
      "Training (5179 / 18000 Steps) (loss=0.25992): 100%|██████████| 20/20 [00:23<00:00,  1.16s/it]\n",
      "Training (5199 / 18000 Steps) (loss=0.61811): 100%|██████████| 20/20 [00:22<00:00,  1.14s/it]\n",
      "Validate (5200 / 10 Steps): 100%|██████████| 8/8 [00:35<00:00,  4.50s/it]5<?, ?it/s]\n",
      "Training (5200 / 18000 Steps) (loss=0.29093):   5%|▌         | 1/20 [00:41<13:00, 41.10s/it]"
     ]
    },
    {
     "name": "stdout",
     "output_type": "stream",
     "text": [
      "Model Was Not Saved ! Current Best Avg. Dice: 0.6163389682769775 Current Avg. Dice: 0.5962467193603516 Current Avg. tumor Dice: 0.7292436361312866 Current Avg. lymph Dice: 0.4240317940711975\n"
     ]
    },
    {
     "name": "stderr",
     "output_type": "stream",
     "text": [
      "Training (5219 / 18000 Steps) (loss=0.48191): 100%|██████████| 20/20 [00:59<00:00,  2.95s/it]\n",
      "Training (5239 / 18000 Steps) (loss=0.39056): 100%|██████████| 20/20 [00:23<00:00,  1.17s/it]\n",
      "Training (5259 / 18000 Steps) (loss=0.21847): 100%|██████████| 20/20 [00:22<00:00,  1.15s/it]\n",
      "Training (5279 / 18000 Steps) (loss=0.25318): 100%|██████████| 20/20 [00:23<00:00,  1.15s/it]\n",
      "Training (5299 / 18000 Steps) (loss=0.17396): 100%|██████████| 20/20 [00:23<00:00,  1.18s/it]\n",
      "Validate (5300 / 10 Steps): 100%|██████████| 8/8 [00:35<00:00,  4.47s/it]5<?, ?it/s]\n",
      "Training (5300 / 18000 Steps) (loss=0.47930):   5%|▌         | 1/20 [00:40<12:56, 40.86s/it]"
     ]
    },
    {
     "name": "stdout",
     "output_type": "stream",
     "text": [
      "Model Was Not Saved ! Current Best Avg. Dice: 0.6163389682769775 Current Avg. Dice: 0.6139105558395386 Current Avg. tumor Dice: 0.7440291047096252 Current Avg. lymph Dice: 0.4418747127056122\n"
     ]
    },
    {
     "name": "stderr",
     "output_type": "stream",
     "text": [
      "Training (5319 / 18000 Steps) (loss=0.66714): 100%|██████████| 20/20 [00:59<00:00,  2.99s/it]\n",
      "Training (5339 / 18000 Steps) (loss=0.41965): 100%|██████████| 20/20 [00:23<00:00,  1.18s/it]\n",
      "Training (5359 / 18000 Steps) (loss=0.17898): 100%|██████████| 20/20 [00:23<00:00,  1.17s/it]\n",
      "Training (5379 / 18000 Steps) (loss=0.47723): 100%|██████████| 20/20 [00:23<00:00,  1.17s/it]\n",
      "Training (5399 / 18000 Steps) (loss=0.16526): 100%|██████████| 20/20 [00:23<00:00,  1.18s/it]\n",
      "Validate (5400 / 10 Steps): 100%|██████████| 8/8 [00:35<00:00,  4.47s/it]5<?, ?it/s]\n",
      "Training (5400 / 18000 Steps) (loss=0.55461):   5%|▌         | 1/20 [00:41<12:59, 41.01s/it]"
     ]
    },
    {
     "name": "stdout",
     "output_type": "stream",
     "text": [
      "Model Was Not Saved ! Current Best Avg. Dice: 0.6163389682769775 Current Avg. Dice: 0.490488737821579 Current Avg. tumor Dice: 0.6380166411399841 Current Avg. lymph Dice: 0.2906481623649597\n"
     ]
    },
    {
     "name": "stderr",
     "output_type": "stream",
     "text": [
      "Training (5419 / 18000 Steps) (loss=0.66779): 100%|██████████| 20/20 [00:59<00:00,  2.97s/it]\n",
      "Training (5439 / 18000 Steps) (loss=0.24694): 100%|██████████| 20/20 [00:22<00:00,  1.15s/it]\n",
      "Training (5459 / 18000 Steps) (loss=0.26463): 100%|██████████| 20/20 [00:23<00:00,  1.18s/it]\n",
      "Training (5479 / 18000 Steps) (loss=0.21196): 100%|██████████| 20/20 [00:23<00:00,  1.17s/it]\n",
      "Training (5499 / 18000 Steps) (loss=0.67270): 100%|██████████| 20/20 [00:23<00:00,  1.16s/it]\n",
      "Validate (5500 / 10 Steps): 100%|██████████| 8/8 [00:35<00:00,  4.48s/it]5<?, ?it/s]\n",
      "Training (5500 / 18000 Steps) (loss=0.30453):   5%|▌         | 1/20 [00:40<12:57, 40.93s/it]"
     ]
    },
    {
     "name": "stdout",
     "output_type": "stream",
     "text": [
      "Model Was Not Saved ! Current Best Avg. Dice: 0.6163389682769775 Current Avg. Dice: 0.4724363684654236 Current Avg. tumor Dice: 0.5617610812187195 Current Avg. lymph Dice: 0.3433942496776581\n"
     ]
    },
    {
     "name": "stderr",
     "output_type": "stream",
     "text": [
      "Training (5519 / 18000 Steps) (loss=0.38786): 100%|██████████| 20/20 [00:58<00:00,  2.94s/it]\n",
      "Training (5539 / 18000 Steps) (loss=0.66749): 100%|██████████| 20/20 [00:23<00:00,  1.18s/it]\n",
      "Training (5559 / 18000 Steps) (loss=0.39549): 100%|██████████| 20/20 [00:22<00:00,  1.15s/it]\n",
      "Training (5579 / 18000 Steps) (loss=0.66755): 100%|██████████| 20/20 [00:23<00:00,  1.17s/it]\n",
      "Training (5599 / 18000 Steps) (loss=0.66797): 100%|██████████| 20/20 [00:23<00:00,  1.15s/it]\n",
      "Validate (5600 / 10 Steps): 100%|██████████| 8/8 [00:35<00:00,  4.46s/it]5<?, ?it/s]\n",
      "Training (5600 / 18000 Steps) (loss=0.25113):   5%|▌         | 1/20 [00:41<13:05, 41.33s/it]"
     ]
    },
    {
     "name": "stdout",
     "output_type": "stream",
     "text": [
      "Model Was Not Saved ! Current Best Avg. Dice: 0.6163389682769775 Current Avg. Dice: 0.6093911528587341 Current Avg. tumor Dice: 0.7387075424194336 Current Avg. lymph Dice: 0.44155484437942505\n"
     ]
    },
    {
     "name": "stderr",
     "output_type": "stream",
     "text": [
      "Training (5619 / 18000 Steps) (loss=0.28873): 100%|██████████| 20/20 [00:58<00:00,  2.94s/it]\n",
      "Training (5639 / 18000 Steps) (loss=0.15626): 100%|██████████| 20/20 [00:23<00:00,  1.17s/it]\n",
      "Training (5659 / 18000 Steps) (loss=0.31442): 100%|██████████| 20/20 [00:22<00:00,  1.14s/it]\n",
      "Training (5679 / 18000 Steps) (loss=0.13412): 100%|██████████| 20/20 [00:23<00:00,  1.16s/it]\n",
      "Training (5699 / 18000 Steps) (loss=0.66778): 100%|██████████| 20/20 [00:23<00:00,  1.16s/it]\n",
      "Validate (5700 / 10 Steps): 100%|██████████| 8/8 [00:35<00:00,  4.46s/it]4<?, ?it/s]\n",
      "Training (5700 / 18000 Steps) (loss=0.67454):   5%|▌         | 1/20 [00:40<12:50, 40.56s/it]"
     ]
    },
    {
     "name": "stdout",
     "output_type": "stream",
     "text": [
      "Model Was Not Saved ! Current Best Avg. Dice: 0.6163389682769775 Current Avg. Dice: 0.5752880573272705 Current Avg. tumor Dice: 0.7310333251953125 Current Avg. lymph Dice: 0.36987680196762085\n"
     ]
    },
    {
     "name": "stderr",
     "output_type": "stream",
     "text": [
      "Training (5719 / 18000 Steps) (loss=0.42733): 100%|██████████| 20/20 [00:58<00:00,  2.94s/it]\n",
      "Training (5739 / 18000 Steps) (loss=0.13966): 100%|██████████| 20/20 [00:23<00:00,  1.16s/it]\n",
      "Training (5759 / 18000 Steps) (loss=0.66717): 100%|██████████| 20/20 [00:23<00:00,  1.18s/it]\n",
      "Training (5779 / 18000 Steps) (loss=0.23792): 100%|██████████| 20/20 [00:23<00:00,  1.17s/it]\n",
      "Training (5799 / 18000 Steps) (loss=0.17273): 100%|██████████| 20/20 [00:23<00:00,  1.18s/it]\n",
      "Validate (5800 / 10 Steps): 100%|██████████| 8/8 [00:36<00:00,  4.51s/it]4<?, ?it/s]\n",
      "Training (5800 / 18000 Steps) (loss=0.26065):   5%|▌         | 1/20 [00:41<13:01, 41.13s/it]"
     ]
    },
    {
     "name": "stdout",
     "output_type": "stream",
     "text": [
      "Model Was Not Saved ! Current Best Avg. Dice: 0.6163389682769775 Current Avg. Dice: 0.5739516019821167 Current Avg. tumor Dice: 0.7391877770423889 Current Avg. lymph Dice: 0.3574257493019104\n"
     ]
    },
    {
     "name": "stderr",
     "output_type": "stream",
     "text": [
      "Training (5819 / 18000 Steps) (loss=0.44269): 100%|██████████| 20/20 [00:59<00:00,  2.98s/it]\n",
      "Training (5839 / 18000 Steps) (loss=0.41585): 100%|██████████| 20/20 [00:23<00:00,  1.18s/it]\n",
      "Training (5859 / 18000 Steps) (loss=0.21639): 100%|██████████| 20/20 [00:23<00:00,  1.18s/it]\n",
      "Training (5879 / 18000 Steps) (loss=0.23837): 100%|██████████| 20/20 [00:23<00:00,  1.19s/it]\n",
      "Training (5899 / 18000 Steps) (loss=0.29013): 100%|██████████| 20/20 [00:23<00:00,  1.15s/it]\n",
      "Validate (5900 / 10 Steps): 100%|██████████| 8/8 [00:35<00:00,  4.46s/it]5<?, ?it/s]\n",
      "Training (5900 / 18000 Steps) (loss=0.20122):   5%|▌         | 1/20 [00:40<12:58, 40.96s/it]"
     ]
    },
    {
     "name": "stdout",
     "output_type": "stream",
     "text": [
      "Model Was Not Saved ! Current Best Avg. Dice: 0.6163389682769775 Current Avg. Dice: 0.5819070339202881 Current Avg. tumor Dice: 0.7341867685317993 Current Avg. lymph Dice: 0.38479840755462646\n"
     ]
    },
    {
     "name": "stderr",
     "output_type": "stream",
     "text": [
      "Training (5919 / 18000 Steps) (loss=0.37905): 100%|██████████| 20/20 [00:58<00:00,  2.93s/it]\n",
      "Training (5939 / 18000 Steps) (loss=0.20638): 100%|██████████| 20/20 [00:23<00:00,  1.17s/it]\n",
      "Training (5959 / 18000 Steps) (loss=0.70763): 100%|██████████| 20/20 [00:23<00:00,  1.17s/it]\n",
      "Training (5979 / 18000 Steps) (loss=0.22521): 100%|██████████| 20/20 [00:24<00:00,  1.21s/it]\n",
      "Training (5999 / 18000 Steps) (loss=0.63363): 100%|██████████| 20/20 [00:24<00:00,  1.21s/it]\n",
      "Validate (6000 / 10 Steps): 100%|██████████| 8/8 [00:35<00:00,  4.50s/it]5<?, ?it/s]\n",
      "Training (6000 / 18000 Steps) (loss=0.67501):   5%|▌         | 1/20 [00:41<13:04, 41.30s/it]"
     ]
    },
    {
     "name": "stdout",
     "output_type": "stream",
     "text": [
      "Model Was Not Saved ! Current Best Avg. Dice: 0.6163389682769775 Current Avg. Dice: 0.5645355582237244 Current Avg. tumor Dice: 0.7050467133522034 Current Avg. lymph Dice: 0.37605974078178406\n"
     ]
    },
    {
     "name": "stderr",
     "output_type": "stream",
     "text": [
      "Training (6019 / 18000 Steps) (loss=0.66709): 100%|██████████| 20/20 [00:59<00:00,  2.96s/it]\n",
      "Training (6039 / 18000 Steps) (loss=0.22592): 100%|██████████| 20/20 [00:23<00:00,  1.19s/it]\n",
      "Training (6059 / 18000 Steps) (loss=0.16201): 100%|██████████| 20/20 [00:23<00:00,  1.16s/it]\n",
      "Training (6079 / 18000 Steps) (loss=0.49098): 100%|██████████| 20/20 [00:23<00:00,  1.17s/it]\n",
      "Training (6099 / 18000 Steps) (loss=0.56134): 100%|██████████| 20/20 [00:24<00:00,  1.22s/it]\n",
      "Validate (6100 / 10 Steps): 100%|██████████| 8/8 [00:35<00:00,  4.49s/it]5<?, ?it/s]\n",
      "Training (6100 / 18000 Steps) (loss=0.36847):   5%|▌         | 1/20 [00:41<13:10, 41.61s/it]"
     ]
    },
    {
     "name": "stdout",
     "output_type": "stream",
     "text": [
      "Model Was Not Saved ! Current Best Avg. Dice: 0.6163389682769775 Current Avg. Dice: 0.5740379095077515 Current Avg. tumor Dice: 0.7110721468925476 Current Avg. lymph Dice: 0.3895167112350464\n"
     ]
    },
    {
     "name": "stderr",
     "output_type": "stream",
     "text": [
      "Training (6119 / 18000 Steps) (loss=0.67045): 100%|██████████| 20/20 [01:00<00:00,  3.01s/it]\n",
      "Training (6139 / 18000 Steps) (loss=0.27328): 100%|██████████| 20/20 [00:24<00:00,  1.22s/it]\n",
      "Training (6159 / 18000 Steps) (loss=0.45245): 100%|██████████| 20/20 [00:24<00:00,  1.24s/it]\n",
      "Training (6179 / 18000 Steps) (loss=0.29233): 100%|██████████| 20/20 [00:24<00:00,  1.23s/it]\n",
      "Training (6199 / 18000 Steps) (loss=0.17274): 100%|██████████| 20/20 [00:24<00:00,  1.23s/it]\n",
      "Validate (6200 / 10 Steps): 100%|██████████| 8/8 [00:35<00:00,  4.50s/it]5<?, ?it/s]\n",
      "Training (6200 / 18000 Steps) (loss=0.46803):   5%|▌         | 1/20 [00:41<13:15, 41.88s/it]"
     ]
    },
    {
     "name": "stdout",
     "output_type": "stream",
     "text": [
      "Model Was Not Saved ! Current Best Avg. Dice: 0.6163389682769775 Current Avg. Dice: 0.5646575689315796 Current Avg. tumor Dice: 0.7036213278770447 Current Avg. lymph Dice: 0.3827788233757019\n"
     ]
    },
    {
     "name": "stderr",
     "output_type": "stream",
     "text": [
      "Training (6219 / 18000 Steps) (loss=0.67433): 100%|██████████| 20/20 [01:00<00:00,  3.02s/it]\n",
      "Training (6239 / 18000 Steps) (loss=0.66754): 100%|██████████| 20/20 [00:24<00:00,  1.23s/it]\n",
      "Training (6259 / 18000 Steps) (loss=0.17730): 100%|██████████| 20/20 [00:24<00:00,  1.25s/it]\n",
      "Training (6279 / 18000 Steps) (loss=0.30385): 100%|██████████| 20/20 [00:24<00:00,  1.20s/it]\n",
      "Training (6299 / 18000 Steps) (loss=0.33905): 100%|██████████| 20/20 [00:24<00:00,  1.24s/it]\n",
      "Validate (6300 / 10 Steps): 100%|██████████| 8/8 [00:35<00:00,  4.50s/it]5<?, ?it/s]\n",
      "Training (6300 / 18000 Steps) (loss=0.62573):   5%|▌         | 1/20 [00:41<13:14, 41.81s/it]"
     ]
    },
    {
     "name": "stdout",
     "output_type": "stream",
     "text": [
      "Model Was Not Saved ! Current Best Avg. Dice: 0.6163389682769775 Current Avg. Dice: 0.5746577382087708 Current Avg. tumor Dice: 0.7249221205711365 Current Avg. lymph Dice: 0.3831717371940613\n"
     ]
    },
    {
     "name": "stderr",
     "output_type": "stream",
     "text": [
      "Training (6319 / 18000 Steps) (loss=0.67108): 100%|██████████| 20/20 [01:00<00:00,  3.02s/it]\n",
      "Training (6339 / 18000 Steps) (loss=0.23129): 100%|██████████| 20/20 [00:24<00:00,  1.22s/it]\n",
      "Training (6359 / 18000 Steps) (loss=0.66768): 100%|██████████| 20/20 [00:24<00:00,  1.22s/it]\n",
      "Training (6379 / 18000 Steps) (loss=0.67092): 100%|██████████| 20/20 [00:24<00:00,  1.21s/it]\n",
      "Training (6399 / 18000 Steps) (loss=0.15691): 100%|██████████| 20/20 [00:24<00:00,  1.21s/it]\n",
      "Validate (6400 / 10 Steps): 100%|██████████| 8/8 [00:35<00:00,  4.48s/it]5<?, ?it/s]\n",
      "Training (6400 / 18000 Steps) (loss=0.46791):   5%|▌         | 1/20 [00:41<13:06, 41.40s/it]"
     ]
    },
    {
     "name": "stdout",
     "output_type": "stream",
     "text": [
      "Model Was Not Saved ! Current Best Avg. Dice: 0.6163389682769775 Current Avg. Dice: 0.5957298278808594 Current Avg. tumor Dice: 0.720066249370575 Current Avg. lymph Dice: 0.4353748559951782\n"
     ]
    },
    {
     "name": "stderr",
     "output_type": "stream",
     "text": [
      "Training (6419 / 18000 Steps) (loss=0.20636): 100%|██████████| 20/20 [00:59<00:00,  3.00s/it]\n",
      "Training (6439 / 18000 Steps) (loss=0.46517): 100%|██████████| 20/20 [00:25<00:00,  1.27s/it]\n",
      "Training (6459 / 18000 Steps) (loss=0.67186): 100%|██████████| 20/20 [00:25<00:00,  1.27s/it]\n",
      "Training (6479 / 18000 Steps) (loss=0.20127): 100%|██████████| 20/20 [00:25<00:00,  1.27s/it]\n",
      "Training (6499 / 18000 Steps) (loss=0.21089): 100%|██████████| 20/20 [00:25<00:00,  1.27s/it]\n",
      "Validate (6500 / 10 Steps): 100%|██████████| 8/8 [00:37<00:00,  4.64s/it]5<?, ?it/s]\n",
      "Training (6500 / 18000 Steps) (loss=0.41278):   5%|▌         | 1/20 [00:42<13:33, 42.83s/it]"
     ]
    },
    {
     "name": "stdout",
     "output_type": "stream",
     "text": [
      "Model Was Not Saved ! Current Best Avg. Dice: 0.6163389682769775 Current Avg. Dice: 0.5858164429664612 Current Avg. tumor Dice: 0.7276248931884766 Current Avg. lymph Dice: 0.39895251393318176\n"
     ]
    },
    {
     "name": "stderr",
     "output_type": "stream",
     "text": [
      "Training (6519 / 18000 Steps) (loss=0.22794): 100%|██████████| 20/20 [01:01<00:00,  3.09s/it]\n",
      "Training (6539 / 18000 Steps) (loss=0.66695): 100%|██████████| 20/20 [00:24<00:00,  1.23s/it]\n",
      "Training (6559 / 18000 Steps) (loss=0.35797): 100%|██████████| 20/20 [00:24<00:00,  1.24s/it]\n",
      "Training (6579 / 18000 Steps) (loss=0.66704): 100%|██████████| 20/20 [00:24<00:00,  1.23s/it]\n",
      "Training (6599 / 18000 Steps) (loss=0.66686): 100%|██████████| 20/20 [00:25<00:00,  1.25s/it]\n",
      "Validate (6600 / 10 Steps): 100%|██████████| 8/8 [00:36<00:00,  4.57s/it]5<?, ?it/s]\n",
      "Training (6600 / 18000 Steps) (loss=0.42704):   5%|▌         | 1/20 [00:41<13:16, 41.90s/it]"
     ]
    },
    {
     "name": "stdout",
     "output_type": "stream",
     "text": [
      "Model Was Not Saved ! Current Best Avg. Dice: 0.6163389682769775 Current Avg. Dice: 0.5549720525741577 Current Avg. tumor Dice: 0.7218601107597351 Current Avg. lymph Dice: 0.33258214592933655\n"
     ]
    },
    {
     "name": "stderr",
     "output_type": "stream",
     "text": [
      "Training (6619 / 18000 Steps) (loss=0.67141): 100%|██████████| 20/20 [01:01<00:00,  3.09s/it]\n",
      "Training (6639 / 18000 Steps) (loss=0.66721): 100%|██████████| 20/20 [00:24<00:00,  1.24s/it]\n",
      "Training (6659 / 18000 Steps) (loss=0.23335): 100%|██████████| 20/20 [00:25<00:00,  1.26s/it]\n",
      "Training (6679 / 18000 Steps) (loss=0.66693): 100%|██████████| 20/20 [00:25<00:00,  1.26s/it]\n",
      "Training (6699 / 18000 Steps) (loss=0.18692): 100%|██████████| 20/20 [00:24<00:00,  1.22s/it]\n",
      "Validate (6700 / 10 Steps): 100%|██████████| 8/8 [00:36<00:00,  4.54s/it]5<?, ?it/s]\n",
      "Training (6700 / 18000 Steps) (loss=0.16716):   5%|▌         | 1/20 [00:41<13:10, 41.60s/it]"
     ]
    },
    {
     "name": "stdout",
     "output_type": "stream",
     "text": [
      "Model Was Not Saved ! Current Best Avg. Dice: 0.6163389682769775 Current Avg. Dice: 0.5583648681640625 Current Avg. tumor Dice: 0.6760276556015015 Current Avg. lymph Dice: 0.3966009318828583\n"
     ]
    },
    {
     "name": "stderr",
     "output_type": "stream",
     "text": [
      "Training (6719 / 18000 Steps) (loss=0.14849): 100%|██████████| 20/20 [01:01<00:00,  3.05s/it]\n",
      "Training (6739 / 18000 Steps) (loss=0.18293): 100%|██████████| 20/20 [00:24<00:00,  1.24s/it]\n",
      "Training (6759 / 18000 Steps) (loss=0.37457): 100%|██████████| 20/20 [00:25<00:00,  1.26s/it]\n",
      "Training (6779 / 18000 Steps) (loss=0.20862): 100%|██████████| 20/20 [00:24<00:00,  1.23s/it]\n",
      "Training (6799 / 18000 Steps) (loss=0.66718): 100%|██████████| 20/20 [00:24<00:00,  1.22s/it]\n",
      "Validate (6800 / 10 Steps): 100%|██████████| 8/8 [00:35<00:00,  4.50s/it]5<?, ?it/s]\n",
      "Training (6800 / 18000 Steps) (loss=0.46222):   5%|▌         | 1/20 [00:41<13:13, 41.76s/it]"
     ]
    },
    {
     "name": "stdout",
     "output_type": "stream",
     "text": [
      "Model Was Not Saved ! Current Best Avg. Dice: 0.6163389682769775 Current Avg. Dice: 0.566875696182251 Current Avg. tumor Dice: 0.7026893496513367 Current Avg. lymph Dice: 0.3881867229938507\n"
     ]
    },
    {
     "name": "stderr",
     "output_type": "stream",
     "text": [
      "Training (6819 / 18000 Steps) (loss=0.67304): 100%|██████████| 20/20 [01:00<00:00,  3.03s/it]\n",
      "Training (6839 / 18000 Steps) (loss=0.14692): 100%|██████████| 20/20 [00:25<00:00,  1.25s/it]\n",
      "Training (6859 / 18000 Steps) (loss=0.28953): 100%|██████████| 20/20 [00:24<00:00,  1.24s/it]\n",
      "Training (6879 / 18000 Steps) (loss=0.67474): 100%|██████████| 20/20 [00:25<00:00,  1.27s/it]\n",
      "Training (6899 / 18000 Steps) (loss=0.66776): 100%|██████████| 20/20 [00:24<00:00,  1.23s/it]\n",
      "Validate (6900 / 10 Steps): 100%|██████████| 8/8 [00:36<00:00,  4.52s/it]5<?, ?it/s]\n",
      "Training (6900 / 18000 Steps) (loss=0.58353):   5%|▌         | 1/20 [00:41<13:09, 41.56s/it]"
     ]
    },
    {
     "name": "stdout",
     "output_type": "stream",
     "text": [
      "Model Was Not Saved ! Current Best Avg. Dice: 0.6163389682769775 Current Avg. Dice: 0.5859021544456482 Current Avg. tumor Dice: 0.7217218279838562 Current Avg. lymph Dice: 0.40946638584136963\n"
     ]
    },
    {
     "name": "stderr",
     "output_type": "stream",
     "text": [
      "Training (6919 / 18000 Steps) (loss=0.43061): 100%|██████████| 20/20 [01:01<00:00,  3.07s/it]\n",
      "Training (6939 / 18000 Steps) (loss=0.40180): 100%|██████████| 20/20 [00:25<00:00,  1.25s/it]\n",
      "Training (6959 / 18000 Steps) (loss=0.21189): 100%|██████████| 20/20 [00:24<00:00,  1.24s/it]\n",
      "Training (6979 / 18000 Steps) (loss=0.66842): 100%|██████████| 20/20 [00:25<00:00,  1.26s/it]\n",
      "Training (6999 / 18000 Steps) (loss=0.66722): 100%|██████████| 20/20 [00:24<00:00,  1.22s/it]\n",
      "Validate (7000 / 10 Steps): 100%|██████████| 8/8 [00:36<00:00,  4.52s/it]5<?, ?it/s]\n",
      "Training (7000 / 18000 Steps) (loss=0.29080):   5%|▌         | 1/20 [00:41<13:07, 41.42s/it]"
     ]
    },
    {
     "name": "stdout",
     "output_type": "stream",
     "text": [
      "Model Was Not Saved ! Current Best Avg. Dice: 0.6163389682769775 Current Avg. Dice: 0.5151215195655823 Current Avg. tumor Dice: 0.6385634541511536 Current Avg. lymph Dice: 0.3427818715572357\n"
     ]
    },
    {
     "name": "stderr",
     "output_type": "stream",
     "text": [
      "Training (7019 / 18000 Steps) (loss=0.66687): 100%|██████████| 20/20 [01:00<00:00,  3.04s/it]\n",
      "Training (7039 / 18000 Steps) (loss=0.66750): 100%|██████████| 20/20 [00:25<00:00,  1.26s/it]\n",
      "Training (7059 / 18000 Steps) (loss=0.23155): 100%|██████████| 20/20 [00:24<00:00,  1.23s/it]\n",
      "Training (7079 / 18000 Steps) (loss=0.67223): 100%|██████████| 20/20 [00:24<00:00,  1.23s/it]\n",
      "Training (7099 / 18000 Steps) (loss=0.66701): 100%|██████████| 20/20 [00:24<00:00,  1.22s/it]\n",
      "Validate (7100 / 10 Steps): 100%|██████████| 8/8 [00:35<00:00,  4.48s/it]5<?, ?it/s]\n",
      "Training (7100 / 18000 Steps) (loss=0.53680):   5%|▌         | 1/20 [00:42<13:20, 42.13s/it]"
     ]
    },
    {
     "name": "stdout",
     "output_type": "stream",
     "text": [
      "Model Was Saved ! Current Best Avg. Dice: 0.6307886838912964 Current Avg. Dice: 0.6307886838912964 Current Avg. tumor Dice: 0.7507516741752625 Current Avg. lymph Dice: 0.4773223102092743\n"
     ]
    },
    {
     "name": "stderr",
     "output_type": "stream",
     "text": [
      "Training (7119 / 18000 Steps) (loss=0.66710): 100%|██████████| 20/20 [01:01<00:00,  3.07s/it]\n",
      "Training (7139 / 18000 Steps) (loss=0.41454): 100%|██████████| 20/20 [00:24<00:00,  1.23s/it]\n",
      "Training (7159 / 18000 Steps) (loss=0.66690): 100%|██████████| 20/20 [00:24<00:00,  1.23s/it]\n",
      "Training (7179 / 18000 Steps) (loss=0.12865): 100%|██████████| 20/20 [00:24<00:00,  1.22s/it]\n",
      "Training (7199 / 18000 Steps) (loss=0.67494): 100%|██████████| 20/20 [00:24<00:00,  1.23s/it]\n",
      "Validate (7200 / 10 Steps): 100%|██████████| 8/8 [00:35<00:00,  4.49s/it]5<?, ?it/s]\n",
      "Training (7200 / 18000 Steps) (loss=0.20720):   5%|▌         | 1/20 [00:41<13:06, 41.38s/it]"
     ]
    },
    {
     "name": "stdout",
     "output_type": "stream",
     "text": [
      "Model Was Not Saved ! Current Best Avg. Dice: 0.6307886838912964 Current Avg. Dice: 0.6075134873390198 Current Avg. tumor Dice: 0.7446257472038269 Current Avg. lymph Dice: 0.4286511540412903\n"
     ]
    },
    {
     "name": "stderr",
     "output_type": "stream",
     "text": [
      "Training (7219 / 18000 Steps) (loss=0.67317): 100%|██████████| 20/20 [00:59<00:00,  3.00s/it]\n",
      "Training (7239 / 18000 Steps) (loss=0.42525): 100%|██████████| 20/20 [00:24<00:00,  1.21s/it]\n",
      "Training (7259 / 18000 Steps) (loss=0.16619): 100%|██████████| 20/20 [00:24<00:00,  1.22s/it]\n",
      "Training (7279 / 18000 Steps) (loss=0.16211): 100%|██████████| 20/20 [00:25<00:00,  1.28s/it]\n",
      "Training (7299 / 18000 Steps) (loss=0.32684): 100%|██████████| 20/20 [00:24<00:00,  1.23s/it]\n",
      "Validate (7300 / 10 Steps): 100%|██████████| 8/8 [00:36<00:00,  4.51s/it]5<?, ?it/s]\n",
      "Training (7300 / 18000 Steps) (loss=0.47901):   5%|▌         | 1/20 [00:41<13:08, 41.48s/it]"
     ]
    },
    {
     "name": "stdout",
     "output_type": "stream",
     "text": [
      "Model Was Not Saved ! Current Best Avg. Dice: 0.6307886838912964 Current Avg. Dice: 0.61905837059021 Current Avg. tumor Dice: 0.7635935544967651 Current Avg. lymph Dice: 0.4311482012271881\n"
     ]
    },
    {
     "name": "stderr",
     "output_type": "stream",
     "text": [
      "Training (7319 / 18000 Steps) (loss=0.75453): 100%|██████████| 20/20 [01:00<00:00,  3.00s/it]\n",
      "Training (7339 / 18000 Steps) (loss=0.66716): 100%|██████████| 20/20 [00:24<00:00,  1.22s/it]\n",
      "Training (7359 / 18000 Steps) (loss=0.31802): 100%|██████████| 20/20 [00:24<00:00,  1.25s/it]\n",
      "Training (7379 / 18000 Steps) (loss=0.23738): 100%|██████████| 20/20 [00:24<00:00,  1.22s/it]\n",
      "Training (7399 / 18000 Steps) (loss=0.36982): 100%|██████████| 20/20 [00:24<00:00,  1.23s/it]\n",
      "Validate (7400 / 10 Steps): 100%|██████████| 8/8 [00:36<00:00,  4.53s/it]5<?, ?it/s]\n",
      "Training (7400 / 18000 Steps) (loss=0.55345):   5%|▌         | 1/20 [00:41<13:09, 41.56s/it]"
     ]
    },
    {
     "name": "stdout",
     "output_type": "stream",
     "text": [
      "Model Was Not Saved ! Current Best Avg. Dice: 0.6307886838912964 Current Avg. Dice: 0.6178752779960632 Current Avg. tumor Dice: 0.7498868703842163 Current Avg. lymph Dice: 0.4494362473487854\n"
     ]
    },
    {
     "name": "stderr",
     "output_type": "stream",
     "text": [
      "Training (7419 / 18000 Steps) (loss=0.21526): 100%|██████████| 20/20 [01:00<00:00,  3.01s/it]\n",
      "Training (7439 / 18000 Steps) (loss=0.66750): 100%|██████████| 20/20 [00:24<00:00,  1.22s/it]\n",
      "Training (7459 / 18000 Steps) (loss=0.19822): 100%|██████████| 20/20 [00:24<00:00,  1.22s/it]\n",
      "Training (7479 / 18000 Steps) (loss=0.34344): 100%|██████████| 20/20 [00:25<00:00,  1.26s/it]\n",
      "Training (7499 / 18000 Steps) (loss=0.39631): 100%|██████████| 20/20 [00:24<00:00,  1.21s/it]\n",
      "Validate (7500 / 10 Steps): 100%|██████████| 8/8 [00:36<00:00,  4.50s/it]5<?, ?it/s]\n",
      "Training (7500 / 18000 Steps) (loss=0.17877):   5%|▌         | 1/20 [00:41<13:07, 41.46s/it]"
     ]
    },
    {
     "name": "stdout",
     "output_type": "stream",
     "text": [
      "Model Was Not Saved ! Current Best Avg. Dice: 0.6307886838912964 Current Avg. Dice: 0.5759944319725037 Current Avg. tumor Dice: 0.7033475041389465 Current Avg. lymph Dice: 0.409595787525177\n"
     ]
    },
    {
     "name": "stderr",
     "output_type": "stream",
     "text": [
      "Training (7519 / 18000 Steps) (loss=0.67650): 100%|██████████| 20/20 [01:00<00:00,  3.04s/it]\n",
      "Training (7539 / 18000 Steps) (loss=0.66766): 100%|██████████| 20/20 [00:24<00:00,  1.24s/it]\n",
      "Training (7559 / 18000 Steps) (loss=0.66713): 100%|██████████| 20/20 [00:25<00:00,  1.28s/it]\n",
      "Training (7579 / 18000 Steps) (loss=0.49082): 100%|██████████| 20/20 [00:24<00:00,  1.24s/it]\n",
      "Training (7599 / 18000 Steps) (loss=0.66692): 100%|██████████| 20/20 [00:24<00:00,  1.24s/it]\n",
      "Validate (7600 / 10 Steps): 100%|██████████| 8/8 [00:36<00:00,  4.52s/it]5<?, ?it/s]\n",
      "Training (7600 / 18000 Steps) (loss=0.66834):   5%|▌         | 1/20 [00:41<13:11, 41.67s/it]"
     ]
    },
    {
     "name": "stdout",
     "output_type": "stream",
     "text": [
      "Model Was Not Saved ! Current Best Avg. Dice: 0.6307886838912964 Current Avg. Dice: 0.5774288773536682 Current Avg. tumor Dice: 0.6994081735610962 Current Avg. lymph Dice: 0.41104841232299805\n"
     ]
    },
    {
     "name": "stderr",
     "output_type": "stream",
     "text": [
      "Training (7619 / 18000 Steps) (loss=0.20089): 100%|██████████| 20/20 [01:01<00:00,  3.06s/it]\n",
      "Training (7639 / 18000 Steps) (loss=0.22489): 100%|██████████| 20/20 [00:28<00:00,  1.40s/it]\n",
      "Training (7659 / 18000 Steps) (loss=0.66853): 100%|██████████| 20/20 [00:25<00:00,  1.26s/it]\n",
      "Training (7679 / 18000 Steps) (loss=0.66691): 100%|██████████| 20/20 [00:24<00:00,  1.24s/it]\n",
      "Training (7699 / 18000 Steps) (loss=0.18384): 100%|██████████| 20/20 [00:24<00:00,  1.25s/it]\n",
      "Validate (7700 / 10 Steps): 100%|██████████| 8/8 [00:36<00:00,  4.51s/it]5<?, ?it/s]\n",
      "Training (7700 / 18000 Steps) (loss=0.66984):   5%|▌         | 1/20 [00:41<13:14, 41.79s/it]"
     ]
    },
    {
     "name": "stdout",
     "output_type": "stream",
     "text": [
      "Model Was Not Saved ! Current Best Avg. Dice: 0.6307886838912964 Current Avg. Dice: 0.6049004197120667 Current Avg. tumor Dice: 0.721073567867279 Current Avg. lymph Dice: 0.44911178946495056\n"
     ]
    },
    {
     "name": "stderr",
     "output_type": "stream",
     "text": [
      "Training (7719 / 18000 Steps) (loss=0.35623): 100%|██████████| 20/20 [01:01<00:00,  3.08s/it]\n",
      "Training (7739 / 18000 Steps) (loss=0.66693): 100%|██████████| 20/20 [00:25<00:00,  1.25s/it]\n",
      "Training (7759 / 18000 Steps) (loss=0.66862): 100%|██████████| 20/20 [00:24<00:00,  1.24s/it]\n",
      "Training (7779 / 18000 Steps) (loss=0.41904): 100%|██████████| 20/20 [00:24<00:00,  1.24s/it]\n",
      "Training (7799 / 18000 Steps) (loss=0.23793): 100%|██████████| 20/20 [00:25<00:00,  1.26s/it]\n",
      "Validate (7800 / 10 Steps): 100%|██████████| 8/8 [00:36<00:00,  4.53s/it]5<?, ?it/s]\n",
      "Training (7800 / 18000 Steps) (loss=0.16953):   5%|▌         | 1/20 [00:41<13:13, 41.79s/it]"
     ]
    },
    {
     "name": "stdout",
     "output_type": "stream",
     "text": [
      "Model Was Not Saved ! Current Best Avg. Dice: 0.6307886838912964 Current Avg. Dice: 0.5627469420433044 Current Avg. tumor Dice: 0.6838063597679138 Current Avg. lymph Dice: 0.39798539876937866\n"
     ]
    },
    {
     "name": "stderr",
     "output_type": "stream",
     "text": [
      "Training (7819 / 18000 Steps) (loss=0.41805): 100%|██████████| 20/20 [01:00<00:00,  3.02s/it]\n",
      "Training (7839 / 18000 Steps) (loss=0.17901): 100%|██████████| 20/20 [00:25<00:00,  1.26s/it]\n",
      "Training (7859 / 18000 Steps) (loss=0.34264): 100%|██████████| 20/20 [00:25<00:00,  1.25s/it]\n",
      "Training (7879 / 18000 Steps) (loss=0.63636): 100%|██████████| 20/20 [00:24<00:00,  1.22s/it]\n",
      "Training (7899 / 18000 Steps) (loss=0.24973): 100%|██████████| 20/20 [00:24<00:00,  1.23s/it]\n",
      "Validate (7900 / 10 Steps): 100%|██████████| 8/8 [00:36<00:00,  4.53s/it]5<?, ?it/s]\n",
      "Training (7900 / 18000 Steps) (loss=0.44258):   5%|▌         | 1/20 [00:41<13:07, 41.44s/it]"
     ]
    },
    {
     "name": "stdout",
     "output_type": "stream",
     "text": [
      "Model Was Not Saved ! Current Best Avg. Dice: 0.6307886838912964 Current Avg. Dice: 0.6160045266151428 Current Avg. tumor Dice: 0.7454743981361389 Current Avg. lymph Dice: 0.45185980200767517\n"
     ]
    },
    {
     "name": "stderr",
     "output_type": "stream",
     "text": [
      "Training (7919 / 18000 Steps) (loss=0.66842): 100%|██████████| 20/20 [01:00<00:00,  3.04s/it]\n",
      "Training (7939 / 18000 Steps) (loss=0.33932): 100%|██████████| 20/20 [00:24<00:00,  1.24s/it]\n",
      "Training (7959 / 18000 Steps) (loss=0.16945): 100%|██████████| 20/20 [00:24<00:00,  1.23s/it]\n",
      "Training (7979 / 18000 Steps) (loss=0.24747): 100%|██████████| 20/20 [00:24<00:00,  1.23s/it]\n",
      "Training (7999 / 18000 Steps) (loss=0.66696): 100%|██████████| 20/20 [00:24<00:00,  1.22s/it]\n",
      "Validate (8000 / 10 Steps): 100%|██████████| 8/8 [00:36<00:00,  4.52s/it]5<?, ?it/s]\n",
      "Training (8000 / 18000 Steps) (loss=0.37708):   5%|▌         | 1/20 [00:41<13:11, 41.65s/it]"
     ]
    },
    {
     "name": "stdout",
     "output_type": "stream",
     "text": [
      "Model Was Not Saved ! Current Best Avg. Dice: 0.6307886838912964 Current Avg. Dice: 0.5647645592689514 Current Avg. tumor Dice: 0.6903592348098755 Current Avg. lymph Dice: 0.3942831754684448\n"
     ]
    },
    {
     "name": "stderr",
     "output_type": "stream",
     "text": [
      "Training (8019 / 18000 Steps) (loss=0.18303): 100%|██████████| 20/20 [01:00<00:00,  3.01s/it]\n",
      "Training (8039 / 18000 Steps) (loss=0.26496): 100%|██████████| 20/20 [00:23<00:00,  1.19s/it]\n",
      "Training (8059 / 18000 Steps) (loss=0.20642): 100%|██████████| 20/20 [00:24<00:00,  1.21s/it]\n",
      "Training (8079 / 18000 Steps) (loss=0.66681): 100%|██████████| 20/20 [00:24<00:00,  1.20s/it]\n",
      "Training (8099 / 18000 Steps) (loss=0.66719): 100%|██████████| 20/20 [00:24<00:00,  1.24s/it]\n",
      "Validate (8100 / 10 Steps): 100%|██████████| 8/8 [00:35<00:00,  4.49s/it]5<?, ?it/s]\n",
      "Training (8100 / 18000 Steps) (loss=0.66692):   5%|▌         | 1/20 [00:41<13:17, 41.99s/it]"
     ]
    },
    {
     "name": "stdout",
     "output_type": "stream",
     "text": [
      "Model Was Saved ! Current Best Avg. Dice: 0.6346189975738525 Current Avg. Dice: 0.6346189975738525 Current Avg. tumor Dice: 0.7706748843193054 Current Avg. lymph Dice: 0.46015551686286926\n"
     ]
    },
    {
     "name": "stderr",
     "output_type": "stream",
     "text": [
      "Training (8119 / 18000 Steps) (loss=0.31526): 100%|██████████| 20/20 [01:00<00:00,  3.04s/it]\n",
      "Training (8139 / 18000 Steps) (loss=0.21649): 100%|██████████| 20/20 [00:24<00:00,  1.24s/it]\n",
      "Training (8159 / 18000 Steps) (loss=0.15029): 100%|██████████| 20/20 [00:24<00:00,  1.21s/it]\n",
      "Training (8179 / 18000 Steps) (loss=0.66695): 100%|██████████| 20/20 [00:24<00:00,  1.24s/it]\n",
      "Training (8199 / 18000 Steps) (loss=0.67150): 100%|██████████| 20/20 [00:24<00:00,  1.23s/it]\n",
      "Validate (8200 / 10 Steps): 100%|██████████| 8/8 [00:36<00:00,  4.52s/it]5<?, ?it/s]\n",
      "Training (8200 / 18000 Steps) (loss=0.26946):   5%|▌         | 1/20 [00:41<13:09, 41.57s/it]"
     ]
    },
    {
     "name": "stdout",
     "output_type": "stream",
     "text": [
      "Model Was Not Saved ! Current Best Avg. Dice: 0.6346189975738525 Current Avg. Dice: 0.585143506526947 Current Avg. tumor Dice: 0.7365730404853821 Current Avg. lymph Dice: 0.3791772127151489\n"
     ]
    },
    {
     "name": "stderr",
     "output_type": "stream",
     "text": [
      "Training (8219 / 18000 Steps) (loss=0.66696): 100%|██████████| 20/20 [00:59<00:00,  2.98s/it]\n",
      "Training (8239 / 18000 Steps) (loss=0.23104): 100%|██████████| 20/20 [00:24<00:00,  1.22s/it]\n",
      "Training (8259 / 18000 Steps) (loss=0.44432): 100%|██████████| 20/20 [00:24<00:00,  1.22s/it]\n",
      "Training (8279 / 18000 Steps) (loss=0.20411): 100%|██████████| 20/20 [00:23<00:00,  1.19s/it]\n",
      "Training (8299 / 18000 Steps) (loss=0.37011): 100%|██████████| 20/20 [00:24<00:00,  1.21s/it]\n",
      "Validate (8300 / 10 Steps): 100%|██████████| 8/8 [00:36<00:00,  4.51s/it]5<?, ?it/s]\n",
      "Training (8300 / 18000 Steps) (loss=0.30624):   5%|▌         | 1/20 [00:41<13:01, 41.15s/it]"
     ]
    },
    {
     "name": "stdout",
     "output_type": "stream",
     "text": [
      "Model Was Not Saved ! Current Best Avg. Dice: 0.6346189975738525 Current Avg. Dice: 0.5818470120429993 Current Avg. tumor Dice: 0.7526720762252808 Current Avg. lymph Dice: 0.3564739227294922\n"
     ]
    },
    {
     "name": "stderr",
     "output_type": "stream",
     "text": [
      "Training (8319 / 18000 Steps) (loss=0.22768): 100%|██████████| 20/20 [01:00<00:00,  3.01s/it]\n",
      "Training (8339 / 18000 Steps) (loss=0.66747): 100%|██████████| 20/20 [00:25<00:00,  1.27s/it]\n",
      "Training (8359 / 18000 Steps) (loss=0.66708): 100%|██████████| 20/20 [00:24<00:00,  1.24s/it]\n",
      "Training (8379 / 18000 Steps) (loss=0.22388): 100%|██████████| 20/20 [00:25<00:00,  1.25s/it]\n",
      "Training (8399 / 18000 Steps) (loss=0.17036): 100%|██████████| 20/20 [00:23<00:00,  1.20s/it]\n",
      "Validate (8400 / 10 Steps): 100%|██████████| 8/8 [00:36<00:00,  4.53s/it]5<?, ?it/s]\n",
      "Training (8400 / 18000 Steps) (loss=0.29931):   5%|▌         | 1/20 [00:41<13:09, 41.53s/it]"
     ]
    },
    {
     "name": "stdout",
     "output_type": "stream",
     "text": [
      "Model Was Not Saved ! Current Best Avg. Dice: 0.6346189975738525 Current Avg. Dice: 0.6209577918052673 Current Avg. tumor Dice: 0.7683536410331726 Current Avg. lymph Dice: 0.4349866509437561\n"
     ]
    },
    {
     "name": "stderr",
     "output_type": "stream",
     "text": [
      "Training (8419 / 18000 Steps) (loss=0.66693): 100%|██████████| 20/20 [00:59<00:00,  2.99s/it]\n",
      "Training (8439 / 18000 Steps) (loss=0.21638): 100%|██████████| 20/20 [00:23<00:00,  1.20s/it]\n",
      "Training (8459 / 18000 Steps) (loss=0.24512): 100%|██████████| 20/20 [00:22<00:00,  1.14s/it]\n",
      "Training (8479 / 18000 Steps) (loss=0.14880): 100%|██████████| 20/20 [00:23<00:00,  1.19s/it]\n",
      "Training (8499 / 18000 Steps) (loss=0.21494): 100%|██████████| 20/20 [00:23<00:00,  1.18s/it]\n",
      "Validate (8500 / 10 Steps): 100%|██████████| 8/8 [00:35<00:00,  4.48s/it]4<?, ?it/s]\n",
      "Training (8500 / 18000 Steps) (loss=0.29647):   5%|▌         | 1/20 [00:41<13:09, 41.57s/it]"
     ]
    },
    {
     "name": "stdout",
     "output_type": "stream",
     "text": [
      "Model Was Saved ! Current Best Avg. Dice: 0.6370049715042114 Current Avg. Dice: 0.6370049715042114 Current Avg. tumor Dice: 0.7661145925521851 Current Avg. lymph Dice: 0.4725331962108612\n"
     ]
    },
    {
     "name": "stderr",
     "output_type": "stream",
     "text": [
      "Training (8519 / 18000 Steps) (loss=0.19068): 100%|██████████| 20/20 [01:00<00:00,  3.01s/it]\n",
      "Training (8539 / 18000 Steps) (loss=0.24408): 100%|██████████| 20/20 [00:23<00:00,  1.16s/it]\n",
      "Training (8559 / 18000 Steps) (loss=0.66761): 100%|██████████| 20/20 [00:24<00:00,  1.20s/it]\n",
      "Training (8579 / 18000 Steps) (loss=0.66950): 100%|██████████| 20/20 [00:22<00:00,  1.14s/it]\n",
      "Training (8599 / 18000 Steps) (loss=0.21961): 100%|██████████| 20/20 [00:23<00:00,  1.20s/it]\n",
      "Validate (8600 / 10 Steps): 100%|██████████| 8/8 [00:35<00:00,  4.47s/it]5<?, ?it/s]\n",
      "Training (8600 / 18000 Steps) (loss=0.42837):   5%|▌         | 1/20 [00:41<13:00, 41.10s/it]"
     ]
    },
    {
     "name": "stdout",
     "output_type": "stream",
     "text": [
      "Model Was Not Saved ! Current Best Avg. Dice: 0.6370049715042114 Current Avg. Dice: 0.6242228746414185 Current Avg. tumor Dice: 0.7574877142906189 Current Avg. lymph Dice: 0.45396965742111206\n"
     ]
    },
    {
     "name": "stderr",
     "output_type": "stream",
     "text": [
      "Training (8619 / 18000 Steps) (loss=0.15005): 100%|██████████| 20/20 [00:59<00:00,  2.97s/it]\n",
      "Training (8639 / 18000 Steps) (loss=0.66683): 100%|██████████| 20/20 [00:23<00:00,  1.16s/it]\n",
      "Training (8659 / 18000 Steps) (loss=0.66989): 100%|██████████| 20/20 [00:23<00:00,  1.20s/it]\n",
      "Training (8679 / 18000 Steps) (loss=0.43393): 100%|██████████| 20/20 [00:23<00:00,  1.16s/it]\n",
      "Training (8699 / 18000 Steps) (loss=0.23841): 100%|██████████| 20/20 [00:22<00:00,  1.14s/it]\n",
      "Validate (8700 / 10 Steps): 100%|██████████| 8/8 [00:35<00:00,  4.49s/it]5<?, ?it/s]\n",
      "Training (8700 / 18000 Steps) (loss=0.44114):   5%|▌         | 1/20 [00:41<13:07, 41.45s/it]"
     ]
    },
    {
     "name": "stdout",
     "output_type": "stream",
     "text": [
      "Model Was Not Saved ! Current Best Avg. Dice: 0.6370049715042114 Current Avg. Dice: 0.5794252157211304 Current Avg. tumor Dice: 0.680761992931366 Current Avg. lymph Dice: 0.43979769945144653\n"
     ]
    },
    {
     "name": "stderr",
     "output_type": "stream",
     "text": [
      "Training (8719 / 18000 Steps) (loss=0.66712): 100%|██████████| 20/20 [00:58<00:00,  2.95s/it]\n",
      "Training (8739 / 18000 Steps) (loss=0.43518): 100%|██████████| 20/20 [00:22<00:00,  1.14s/it]\n",
      "Training (8759 / 18000 Steps) (loss=0.25840): 100%|██████████| 20/20 [00:22<00:00,  1.14s/it]\n",
      "Training (8779 / 18000 Steps) (loss=0.66726): 100%|██████████| 20/20 [00:23<00:00,  1.17s/it]\n",
      "Training (8799 / 18000 Steps) (loss=0.16751): 100%|██████████| 20/20 [00:22<00:00,  1.14s/it]\n",
      "Validate (8800 / 10 Steps): 100%|██████████| 8/8 [00:35<00:00,  4.50s/it]4<?, ?it/s]\n",
      "Training (8800 / 18000 Steps) (loss=0.37996):   5%|▌         | 1/20 [00:40<12:54, 40.74s/it]"
     ]
    },
    {
     "name": "stdout",
     "output_type": "stream",
     "text": [
      "Model Was Not Saved ! Current Best Avg. Dice: 0.6370049715042114 Current Avg. Dice: 0.6242258548736572 Current Avg. tumor Dice: 0.7606178522109985 Current Avg. lymph Dice: 0.44919565320014954\n"
     ]
    },
    {
     "name": "stderr",
     "output_type": "stream",
     "text": [
      "Training (8819 / 18000 Steps) (loss=0.22983): 100%|██████████| 20/20 [00:58<00:00,  2.93s/it]\n",
      "Training (8839 / 18000 Steps) (loss=0.42636): 100%|██████████| 20/20 [00:23<00:00,  1.16s/it]\n",
      "Training (8859 / 18000 Steps) (loss=0.17969): 100%|██████████| 20/20 [00:23<00:00,  1.16s/it]\n",
      "Training (8879 / 18000 Steps) (loss=0.14701): 100%|██████████| 20/20 [00:23<00:00,  1.15s/it]\n",
      "Training (8899 / 18000 Steps) (loss=0.17347): 100%|██████████| 20/20 [00:22<00:00,  1.14s/it]\n",
      "Validate (8900 / 10 Steps): 100%|██████████| 8/8 [00:35<00:00,  4.45s/it]5<?, ?it/s]\n",
      "Training (8900 / 18000 Steps) (loss=0.33459):   5%|▌         | 1/20 [00:40<12:52, 40.66s/it]"
     ]
    },
    {
     "name": "stdout",
     "output_type": "stream",
     "text": [
      "Model Was Not Saved ! Current Best Avg. Dice: 0.6370049715042114 Current Avg. Dice: 0.5760174989700317 Current Avg. tumor Dice: 0.7075054049491882 Current Avg. lymph Dice: 0.40237125754356384\n"
     ]
    },
    {
     "name": "stderr",
     "output_type": "stream",
     "text": [
      "Training (8919 / 18000 Steps) (loss=0.39154): 100%|██████████| 20/20 [00:58<00:00,  2.92s/it]\n",
      "Training (8939 / 18000 Steps) (loss=0.22230): 100%|██████████| 20/20 [00:23<00:00,  1.16s/it]\n",
      "Training (8959 / 18000 Steps) (loss=0.66717): 100%|██████████| 20/20 [00:23<00:00,  1.18s/it]\n",
      "Training (8979 / 18000 Steps) (loss=0.66698): 100%|██████████| 20/20 [00:23<00:00,  1.15s/it]\n",
      "Training (8999 / 18000 Steps) (loss=0.27675): 100%|██████████| 20/20 [00:22<00:00,  1.14s/it]\n",
      "Validate (9000 / 10 Steps): 100%|██████████| 8/8 [00:35<00:00,  4.48s/it]5<?, ?it/s]\n",
      "Training (9000 / 18000 Steps) (loss=0.44060):   5%|▌         | 1/20 [00:41<12:59, 41.03s/it]"
     ]
    },
    {
     "name": "stdout",
     "output_type": "stream",
     "text": [
      "Model Was Not Saved ! Current Best Avg. Dice: 0.6370049715042114 Current Avg. Dice: 0.5557423830032349 Current Avg. tumor Dice: 0.6433379650115967 Current Avg. lymph Dice: 0.4304097890853882\n"
     ]
    },
    {
     "name": "stderr",
     "output_type": "stream",
     "text": [
      "Training (9019 / 18000 Steps) (loss=0.67151): 100%|██████████| 20/20 [00:59<00:00,  2.95s/it]\n",
      "Training (9039 / 18000 Steps) (loss=0.48356): 100%|██████████| 20/20 [00:22<00:00,  1.12s/it]\n",
      "Training (9059 / 18000 Steps) (loss=0.14963): 100%|██████████| 20/20 [00:23<00:00,  1.16s/it]\n",
      "Training (9079 / 18000 Steps) (loss=0.54987): 100%|██████████| 20/20 [00:23<00:00,  1.16s/it]\n",
      "Training (9099 / 18000 Steps) (loss=0.21570): 100%|██████████| 20/20 [00:23<00:00,  1.16s/it]\n",
      "Validate (9100 / 10 Steps): 100%|██████████| 8/8 [00:35<00:00,  4.48s/it]5<?, ?it/s]\n",
      "Training (9100 / 18000 Steps) (loss=0.66983):   5%|▌         | 1/20 [00:40<12:58, 40.95s/it]"
     ]
    },
    {
     "name": "stdout",
     "output_type": "stream",
     "text": [
      "Model Was Not Saved ! Current Best Avg. Dice: 0.6370049715042114 Current Avg. Dice: 0.6005669832229614 Current Avg. tumor Dice: 0.7589176893234253 Current Avg. lymph Dice: 0.39743077754974365\n"
     ]
    },
    {
     "name": "stderr",
     "output_type": "stream",
     "text": [
      "Training (9119 / 18000 Steps) (loss=0.20017): 100%|██████████| 20/20 [00:59<00:00,  2.98s/it]\n",
      "Training (9139 / 18000 Steps) (loss=0.31921): 100%|██████████| 20/20 [00:23<00:00,  1.16s/it]\n",
      "Training (9159 / 18000 Steps) (loss=0.44624): 100%|██████████| 20/20 [00:23<00:00,  1.16s/it]\n",
      "Training (9179 / 18000 Steps) (loss=0.14749): 100%|██████████| 20/20 [00:22<00:00,  1.14s/it]\n",
      "Training (9199 / 18000 Steps) (loss=0.66893): 100%|██████████| 20/20 [00:23<00:00,  1.17s/it]\n",
      "Validate (9200 / 10 Steps): 100%|██████████| 8/8 [00:35<00:00,  4.47s/it]4<?, ?it/s]\n",
      "Training (9200 / 18000 Steps) (loss=0.43789):   5%|▌         | 1/20 [00:40<12:48, 40.47s/it]"
     ]
    },
    {
     "name": "stdout",
     "output_type": "stream",
     "text": [
      "Model Was Not Saved ! Current Best Avg. Dice: 0.6370049715042114 Current Avg. Dice: 0.5762617588043213 Current Avg. tumor Dice: 0.7032758593559265 Current Avg. lymph Dice: 0.40550893545150757\n"
     ]
    },
    {
     "name": "stderr",
     "output_type": "stream",
     "text": [
      "Training (9219 / 18000 Steps) (loss=0.13635): 100%|██████████| 20/20 [00:58<00:00,  2.92s/it]\n",
      "Training (9239 / 18000 Steps) (loss=0.14007): 100%|██████████| 20/20 [00:23<00:00,  1.19s/it]\n",
      "Training (9259 / 18000 Steps) (loss=0.42483): 100%|██████████| 20/20 [00:23<00:00,  1.16s/it]\n",
      "Training (9279 / 18000 Steps) (loss=0.40358): 100%|██████████| 20/20 [00:23<00:00,  1.15s/it]\n",
      "Training (9299 / 18000 Steps) (loss=0.28604): 100%|██████████| 20/20 [00:22<00:00,  1.13s/it]\n",
      "Validate (9300 / 10 Steps): 100%|██████████| 8/8 [00:35<00:00,  4.49s/it]5<?, ?it/s]\n",
      "Training (9300 / 18000 Steps) (loss=0.32717):   5%|▌         | 1/20 [00:40<12:58, 41.00s/it]"
     ]
    },
    {
     "name": "stdout",
     "output_type": "stream",
     "text": [
      "Model Was Not Saved ! Current Best Avg. Dice: 0.6370049715042114 Current Avg. Dice: 0.5455000996589661 Current Avg. tumor Dice: 0.6408292055130005 Current Avg. lymph Dice: 0.40997108817100525\n"
     ]
    },
    {
     "name": "stderr",
     "output_type": "stream",
     "text": [
      "Training (9319 / 18000 Steps) (loss=0.28739): 100%|██████████| 20/20 [00:59<00:00,  2.95s/it]\n",
      "Training (9339 / 18000 Steps) (loss=0.22749): 100%|██████████| 20/20 [00:23<00:00,  1.17s/it]\n",
      "Training (9359 / 18000 Steps) (loss=0.66711): 100%|██████████| 20/20 [00:23<00:00,  1.15s/it]\n",
      "Training (9379 / 18000 Steps) (loss=0.39470): 100%|██████████| 20/20 [00:23<00:00,  1.16s/it]\n",
      "Training (9399 / 18000 Steps) (loss=0.26199): 100%|██████████| 20/20 [00:22<00:00,  1.15s/it]\n",
      "Validate (9400 / 10 Steps): 100%|██████████| 8/8 [00:35<00:00,  4.48s/it]4<?, ?it/s]\n",
      "Training (9400 / 18000 Steps) (loss=0.42810):   5%|▌         | 1/20 [00:40<12:54, 40.75s/it]"
     ]
    },
    {
     "name": "stdout",
     "output_type": "stream",
     "text": [
      "Model Was Not Saved ! Current Best Avg. Dice: 0.6370049715042114 Current Avg. Dice: 0.5959557890892029 Current Avg. tumor Dice: 0.7151827216148376 Current Avg. lymph Dice: 0.43789103627204895\n"
     ]
    },
    {
     "name": "stderr",
     "output_type": "stream",
     "text": [
      "Training (9419 / 18000 Steps) (loss=0.21360): 100%|██████████| 20/20 [00:58<00:00,  2.95s/it]\n",
      "Training (9439 / 18000 Steps) (loss=0.52145): 100%|██████████| 20/20 [00:22<00:00,  1.15s/it]\n",
      "Training (9459 / 18000 Steps) (loss=0.18112): 100%|██████████| 20/20 [00:23<00:00,  1.18s/it]\n",
      "Training (9479 / 18000 Steps) (loss=0.48133): 100%|██████████| 20/20 [00:22<00:00,  1.15s/it]\n",
      "Training (9499 / 18000 Steps) (loss=0.67022): 100%|██████████| 20/20 [00:23<00:00,  1.18s/it]\n",
      "Validate (9500 / 10 Steps): 100%|██████████| 8/8 [00:35<00:00,  4.47s/it]4<?, ?it/s]\n",
      "Training (9500 / 18000 Steps) (loss=0.66825):   5%|▌         | 1/20 [00:40<12:51, 40.59s/it]"
     ]
    },
    {
     "name": "stdout",
     "output_type": "stream",
     "text": [
      "Model Was Not Saved ! Current Best Avg. Dice: 0.6370049715042114 Current Avg. Dice: 0.5958436727523804 Current Avg. tumor Dice: 0.6985750794410706 Current Avg. lymph Dice: 0.461952805519104\n"
     ]
    },
    {
     "name": "stderr",
     "output_type": "stream",
     "text": [
      "Training (9519 / 18000 Steps) (loss=0.17670): 100%|██████████| 20/20 [00:58<00:00,  2.93s/it]\n",
      "Training (9539 / 18000 Steps) (loss=0.24473): 100%|██████████| 20/20 [00:23<00:00,  1.15s/it]\n",
      "Training (9559 / 18000 Steps) (loss=0.21515): 100%|██████████| 20/20 [00:24<00:00,  1.22s/it]\n",
      "Training (9579 / 18000 Steps) (loss=0.41259): 100%|██████████| 20/20 [00:25<00:00,  1.27s/it]\n",
      "Training (9599 / 18000 Steps) (loss=0.22242): 100%|██████████| 20/20 [00:22<00:00,  1.15s/it]\n",
      "Validate (9600 / 10 Steps): 100%|██████████| 8/8 [00:36<00:00,  4.50s/it]5<?, ?it/s]\n",
      "Training (9600 / 18000 Steps) (loss=0.20643):   5%|▌         | 1/20 [00:41<13:05, 41.34s/it]"
     ]
    },
    {
     "name": "stdout",
     "output_type": "stream",
     "text": [
      "Model Was Not Saved ! Current Best Avg. Dice: 0.6370049715042114 Current Avg. Dice: 0.5137795209884644 Current Avg. tumor Dice: 0.7032610177993774 Current Avg. lymph Dice: 0.25765541195869446\n"
     ]
    },
    {
     "name": "stderr",
     "output_type": "stream",
     "text": [
      "Training (9619 / 18000 Steps) (loss=0.67227): 100%|██████████| 20/20 [00:59<00:00,  2.97s/it]\n",
      "Training (9639 / 18000 Steps) (loss=0.66681): 100%|██████████| 20/20 [00:26<00:00,  1.30s/it]\n",
      "Training (9659 / 18000 Steps) (loss=0.66776): 100%|██████████| 20/20 [00:24<00:00,  1.21s/it]\n",
      "Training (9679 / 18000 Steps) (loss=0.24600): 100%|██████████| 20/20 [00:23<00:00,  1.17s/it]\n",
      "Training (9699 / 18000 Steps) (loss=0.15598): 100%|██████████| 20/20 [00:23<00:00,  1.16s/it]\n",
      "Validate (9700 / 10 Steps): 100%|██████████| 8/8 [00:35<00:00,  4.49s/it]4<?, ?it/s]\n",
      "Training (9700 / 18000 Steps) (loss=0.22980):   5%|▌         | 1/20 [00:40<12:57, 40.93s/it]"
     ]
    },
    {
     "name": "stdout",
     "output_type": "stream",
     "text": [
      "Model Was Not Saved ! Current Best Avg. Dice: 0.6370049715042114 Current Avg. Dice: 0.603216290473938 Current Avg. tumor Dice: 0.7200180292129517 Current Avg. lymph Dice: 0.4441379904747009\n"
     ]
    },
    {
     "name": "stderr",
     "output_type": "stream",
     "text": [
      "Training (9719 / 18000 Steps) (loss=0.66688): 100%|██████████| 20/20 [00:59<00:00,  2.96s/it]\n",
      "Training (9739 / 18000 Steps) (loss=0.15973): 100%|██████████| 20/20 [00:23<00:00,  1.18s/it]\n",
      "Training (9759 / 18000 Steps) (loss=0.66881): 100%|██████████| 20/20 [00:22<00:00,  1.13s/it]\n",
      "Training (9779 / 18000 Steps) (loss=0.66725): 100%|██████████| 20/20 [00:24<00:00,  1.21s/it]\n",
      "Training (9799 / 18000 Steps) (loss=0.29748): 100%|██████████| 20/20 [00:23<00:00,  1.16s/it]\n",
      "Validate (9800 / 10 Steps): 100%|██████████| 8/8 [00:35<00:00,  4.47s/it]5<?, ?it/s]\n",
      "Training (9800 / 18000 Steps) (loss=0.32381):   5%|▌         | 1/20 [00:41<13:06, 41.39s/it]"
     ]
    },
    {
     "name": "stdout",
     "output_type": "stream",
     "text": [
      "Model Was Not Saved ! Current Best Avg. Dice: 0.6370049715042114 Current Avg. Dice: 0.6168324947357178 Current Avg. tumor Dice: 0.7431910634040833 Current Avg. lymph Dice: 0.4502536952495575\n"
     ]
    },
    {
     "name": "stderr",
     "output_type": "stream",
     "text": [
      "Training (9819 / 18000 Steps) (loss=0.29985): 100%|██████████| 20/20 [00:59<00:00,  2.96s/it]\n",
      "Training (9839 / 18000 Steps) (loss=0.18719): 100%|██████████| 20/20 [00:23<00:00,  1.18s/it]\n",
      "Training (9859 / 18000 Steps) (loss=0.66775): 100%|██████████| 20/20 [00:23<00:00,  1.16s/it]\n",
      "Training (9879 / 18000 Steps) (loss=0.26764): 100%|██████████| 20/20 [00:23<00:00,  1.18s/it]\n",
      "Training (9899 / 18000 Steps) (loss=0.14305): 100%|██████████| 20/20 [00:23<00:00,  1.15s/it]\n",
      "Validate (9900 / 10 Steps): 100%|██████████| 8/8 [00:35<00:00,  4.49s/it]5<?, ?it/s]\n",
      "Training (9900 / 18000 Steps) (loss=0.39491):   5%|▌         | 1/20 [00:41<13:01, 41.16s/it]"
     ]
    },
    {
     "name": "stdout",
     "output_type": "stream",
     "text": [
      "Model Was Not Saved ! Current Best Avg. Dice: 0.6370049715042114 Current Avg. Dice: 0.6258729100227356 Current Avg. tumor Dice: 0.7721595764160156 Current Avg. lymph Dice: 0.4373871088027954\n"
     ]
    },
    {
     "name": "stderr",
     "output_type": "stream",
     "text": [
      "Training (9919 / 18000 Steps) (loss=0.66680): 100%|██████████| 20/20 [00:59<00:00,  2.96s/it]\n",
      "Training (9939 / 18000 Steps) (loss=0.66720): 100%|██████████| 20/20 [00:23<00:00,  1.17s/it]\n",
      "Training (9959 / 18000 Steps) (loss=0.66859): 100%|██████████| 20/20 [00:24<00:00,  1.22s/it]\n",
      "Training (9979 / 18000 Steps) (loss=0.21743): 100%|██████████| 20/20 [00:23<00:00,  1.19s/it]\n",
      "Training (9999 / 18000 Steps) (loss=0.66674): 100%|██████████| 20/20 [00:23<00:00,  1.19s/it]\n",
      "Validate (10000 / 10 Steps): 100%|██████████| 8/8 [00:36<00:00,  4.53s/it]5<?, ?it/s]\n",
      "Training (10000 / 18000 Steps) (loss=0.44250):   5%|▌         | 1/20 [00:42<13:27, 42.51s/it]"
     ]
    },
    {
     "name": "stdout",
     "output_type": "stream",
     "text": [
      "Model Was Saved ! Current Best Avg. Dice: 0.6460415124893188 Current Avg. Dice: 0.6460415124893188 Current Avg. tumor Dice: 0.7925489544868469 Current Avg. lymph Dice: 0.46133583784103394\n"
     ]
    },
    {
     "name": "stderr",
     "output_type": "stream",
     "text": [
      "Training (10019 / 18000 Steps) (loss=0.66902): 100%|██████████| 20/20 [01:01<00:00,  3.07s/it]\n",
      "Training (10039 / 18000 Steps) (loss=0.40089): 100%|██████████| 20/20 [00:23<00:00,  1.18s/it]\n",
      "Training (10059 / 18000 Steps) (loss=0.17602): 100%|██████████| 20/20 [00:23<00:00,  1.19s/it]\n",
      "Training (10079 / 18000 Steps) (loss=0.38742): 100%|██████████| 20/20 [00:24<00:00,  1.22s/it]\n",
      "Training (10099 / 18000 Steps) (loss=0.66753): 100%|██████████| 20/20 [00:23<00:00,  1.19s/it]\n",
      "Validate (10100 / 10 Steps): 100%|██████████| 8/8 [00:36<00:00,  4.53s/it]5<?, ?it/s]\n",
      "Training (10100 / 18000 Steps) (loss=0.45893):   5%|▌         | 1/20 [00:41<13:08, 41.49s/it]"
     ]
    },
    {
     "name": "stdout",
     "output_type": "stream",
     "text": [
      "Model Was Not Saved ! Current Best Avg. Dice: 0.6460415124893188 Current Avg. Dice: 0.6268567442893982 Current Avg. tumor Dice: 0.7712818384170532 Current Avg. lymph Dice: 0.442731648683548\n"
     ]
    },
    {
     "name": "stderr",
     "output_type": "stream",
     "text": [
      "Training (10119 / 18000 Steps) (loss=0.66742): 100%|██████████| 20/20 [01:00<00:00,  3.03s/it]\n",
      "Training (10139 / 18000 Steps) (loss=0.66857): 100%|██████████| 20/20 [00:24<00:00,  1.22s/it]\n",
      "Training (10159 / 18000 Steps) (loss=0.15389): 100%|██████████| 20/20 [00:24<00:00,  1.22s/it]\n",
      "Training (10179 / 18000 Steps) (loss=0.66676): 100%|██████████| 20/20 [00:24<00:00,  1.22s/it]\n",
      "Training (10199 / 18000 Steps) (loss=0.15523): 100%|██████████| 20/20 [00:25<00:00,  1.26s/it]\n",
      "Validate (10200 / 10 Steps): 100%|██████████| 8/8 [00:36<00:00,  4.58s/it]5<?, ?it/s]\n",
      "Training (10200 / 18000 Steps) (loss=0.22662):   5%|▌         | 1/20 [00:41<13:17, 41.98s/it]"
     ]
    },
    {
     "name": "stdout",
     "output_type": "stream",
     "text": [
      "Model Was Not Saved ! Current Best Avg. Dice: 0.6460415124893188 Current Avg. Dice: 0.6328924894332886 Current Avg. tumor Dice: 0.771063506603241 Current Avg. lymph Dice: 0.4565674662590027\n"
     ]
    },
    {
     "name": "stderr",
     "output_type": "stream",
     "text": [
      "Training (10219 / 18000 Steps) (loss=0.14145): 100%|██████████| 20/20 [01:02<00:00,  3.14s/it]\n",
      "Training (10239 / 18000 Steps) (loss=0.66679): 100%|██████████| 20/20 [00:27<00:00,  1.36s/it]\n",
      "Training (10259 / 18000 Steps) (loss=0.46221): 100%|██████████| 20/20 [00:27<00:00,  1.36s/it]\n",
      "Training (10279 / 18000 Steps) (loss=0.67054): 100%|██████████| 20/20 [00:27<00:00,  1.40s/it]\n",
      "Training (10299 / 18000 Steps) (loss=0.16761): 100%|██████████| 20/20 [00:28<00:00,  1.41s/it]\n",
      "Validate (10300 / 10 Steps): 100%|██████████| 8/8 [00:36<00:00,  4.57s/it]6<?, ?it/s]\n",
      "Training (10300 / 18000 Steps) (loss=0.48816):   5%|▌         | 1/20 [00:42<13:34, 42.89s/it]"
     ]
    },
    {
     "name": "stdout",
     "output_type": "stream",
     "text": [
      "Model Was Not Saved ! Current Best Avg. Dice: 0.6460415124893188 Current Avg. Dice: 0.6084004044532776 Current Avg. tumor Dice: 0.7322273254394531 Current Avg. lymph Dice: 0.4615544080734253\n"
     ]
    },
    {
     "name": "stderr",
     "output_type": "stream",
     "text": [
      "Training (10319 / 18000 Steps) (loss=0.66886): 100%|██████████| 20/20 [01:03<00:00,  3.19s/it]\n",
      "Training (10339 / 18000 Steps) (loss=0.20826): 100%|██████████| 20/20 [00:26<00:00,  1.31s/it]\n",
      "Training (10359 / 18000 Steps) (loss=0.44285): 100%|██████████| 20/20 [00:27<00:00,  1.39s/it]\n",
      "Training (10379 / 18000 Steps) (loss=0.66713): 100%|██████████| 20/20 [00:27<00:00,  1.39s/it]\n",
      "Training (10399 / 18000 Steps) (loss=0.66689): 100%|██████████| 20/20 [00:27<00:00,  1.38s/it]\n",
      "Validate (10400 / 10 Steps): 100%|██████████| 8/8 [00:36<00:00,  4.62s/it]6<?, ?it/s]\n",
      "Training (10400 / 18000 Steps) (loss=0.42263):   5%|▌         | 1/20 [00:43<13:45, 43.47s/it]"
     ]
    },
    {
     "name": "stdout",
     "output_type": "stream",
     "text": [
      "Model Was Not Saved ! Current Best Avg. Dice: 0.6460415124893188 Current Avg. Dice: 0.6207861304283142 Current Avg. tumor Dice: 0.7413468956947327 Current Avg. lymph Dice: 0.46326205134391785\n"
     ]
    },
    {
     "name": "stderr",
     "output_type": "stream",
     "text": [
      "Training (10419 / 18000 Steps) (loss=0.66746): 100%|██████████| 20/20 [01:04<00:00,  3.21s/it]\n",
      "Training (10439 / 18000 Steps) (loss=0.66700): 100%|██████████| 20/20 [00:27<00:00,  1.39s/it]\n",
      "Training (10459 / 18000 Steps) (loss=0.22694): 100%|██████████| 20/20 [00:27<00:00,  1.38s/it]\n",
      "Training (10479 / 18000 Steps) (loss=0.25892): 100%|██████████| 20/20 [00:26<00:00,  1.34s/it]\n",
      "Training (10499 / 18000 Steps) (loss=0.57841): 100%|██████████| 20/20 [00:26<00:00,  1.34s/it]\n",
      "Validate (10500 / 10 Steps): 100%|██████████| 8/8 [00:36<00:00,  4.60s/it]5<?, ?it/s]\n",
      "Training (10500 / 18000 Steps) (loss=0.18503):   5%|▌         | 1/20 [00:42<13:30, 42.66s/it]"
     ]
    },
    {
     "name": "stdout",
     "output_type": "stream",
     "text": [
      "Model Was Not Saved ! Current Best Avg. Dice: 0.6460415124893188 Current Avg. Dice: 0.6193463802337646 Current Avg. tumor Dice: 0.7499825358390808 Current Avg. lymph Dice: 0.44979825615882874\n"
     ]
    },
    {
     "name": "stderr",
     "output_type": "stream",
     "text": [
      "Training (10519 / 18000 Steps) (loss=0.62946): 100%|██████████| 20/20 [01:04<00:00,  3.22s/it]\n",
      "Training (10539 / 18000 Steps) (loss=0.66702): 100%|██████████| 20/20 [00:25<00:00,  1.26s/it]\n",
      "Training (10559 / 18000 Steps) (loss=0.18770): 100%|██████████| 20/20 [00:24<00:00,  1.21s/it]\n",
      "Training (10579 / 18000 Steps) (loss=0.19478): 100%|██████████| 20/20 [00:23<00:00,  1.20s/it]\n",
      "Training (10599 / 18000 Steps) (loss=0.24982): 100%|██████████| 20/20 [00:23<00:00,  1.18s/it]\n",
      "Validate (10600 / 10 Steps): 100%|██████████| 8/8 [00:35<00:00,  4.49s/it]5<?, ?it/s]\n",
      "Training (10600 / 18000 Steps) (loss=0.46472):   5%|▌         | 1/20 [00:40<12:58, 40.99s/it]"
     ]
    },
    {
     "name": "stdout",
     "output_type": "stream",
     "text": [
      "Model Was Not Saved ! Current Best Avg. Dice: 0.6460415124893188 Current Avg. Dice: 0.6435950994491577 Current Avg. tumor Dice: 0.7733154296875 Current Avg. lymph Dice: 0.48280590772628784\n"
     ]
    },
    {
     "name": "stderr",
     "output_type": "stream",
     "text": [
      "Training (10619 / 18000 Steps) (loss=0.66821): 100%|██████████| 20/20 [00:59<00:00,  2.98s/it]\n",
      "Training (10639 / 18000 Steps) (loss=0.18672): 100%|██████████| 20/20 [00:23<00:00,  1.17s/it]\n",
      "Training (10659 / 18000 Steps) (loss=0.13118): 100%|██████████| 20/20 [00:24<00:00,  1.20s/it]\n",
      "Training (10679 / 18000 Steps) (loss=0.66676): 100%|██████████| 20/20 [00:24<00:00,  1.20s/it]\n",
      "Training (10699 / 18000 Steps) (loss=0.14239): 100%|██████████| 20/20 [00:24<00:00,  1.20s/it]\n",
      "Validate (10700 / 10 Steps): 100%|██████████| 8/8 [00:36<00:00,  4.52s/it]5<?, ?it/s]\n",
      "Training (10700 / 18000 Steps) (loss=0.18950):   5%|▌         | 1/20 [00:42<13:18, 42.00s/it]"
     ]
    },
    {
     "name": "stdout",
     "output_type": "stream",
     "text": [
      "Model Was Saved ! Current Best Avg. Dice: 0.6589449644088745 Current Avg. Dice: 0.6589449644088745 Current Avg. tumor Dice: 0.7818006277084351 Current Avg. lymph Dice: 0.5012187361717224\n"
     ]
    },
    {
     "name": "stderr",
     "output_type": "stream",
     "text": [
      "Training (10719 / 18000 Steps) (loss=0.54981): 100%|██████████| 20/20 [01:00<00:00,  3.04s/it]\n",
      "Training (10739 / 18000 Steps) (loss=0.22677): 100%|██████████| 20/20 [00:24<00:00,  1.21s/it]\n",
      "Training (10759 / 18000 Steps) (loss=0.21510): 100%|██████████| 20/20 [00:23<00:00,  1.19s/it]\n",
      "Training (10779 / 18000 Steps) (loss=0.66681): 100%|██████████| 20/20 [00:23<00:00,  1.18s/it]\n",
      "Training (10799 / 18000 Steps) (loss=0.66680): 100%|██████████| 20/20 [00:23<00:00,  1.19s/it]\n",
      "Validate (10800 / 10 Steps): 100%|██████████| 8/8 [00:36<00:00,  4.52s/it]5<?, ?it/s]\n",
      "Training (10800 / 18000 Steps) (loss=0.45948):   5%|▌         | 1/20 [00:41<13:08, 41.52s/it]"
     ]
    },
    {
     "name": "stdout",
     "output_type": "stream",
     "text": [
      "Model Was Not Saved ! Current Best Avg. Dice: 0.6589449644088745 Current Avg. Dice: 0.6295756101608276 Current Avg. tumor Dice: 0.7462908625602722 Current Avg. lymph Dice: 0.4765130579471588\n"
     ]
    },
    {
     "name": "stderr",
     "output_type": "stream",
     "text": [
      "Training (10819 / 18000 Steps) (loss=0.66743): 100%|██████████| 20/20 [00:59<00:00,  3.00s/it]\n",
      "Training (10839 / 18000 Steps) (loss=0.18491): 100%|██████████| 20/20 [00:23<00:00,  1.19s/it]\n",
      "Training (10859 / 18000 Steps) (loss=0.16820): 100%|██████████| 20/20 [00:24<00:00,  1.21s/it]\n",
      "Training (10879 / 18000 Steps) (loss=0.14311): 100%|██████████| 20/20 [00:23<00:00,  1.17s/it]\n",
      "Training (10899 / 18000 Steps) (loss=0.66675): 100%|██████████| 20/20 [00:23<00:00,  1.18s/it]\n",
      "Validate (10900 / 10 Steps): 100%|██████████| 8/8 [00:35<00:00,  4.50s/it]5<?, ?it/s]\n",
      "Training (10900 / 18000 Steps) (loss=0.40706):   5%|▌         | 1/20 [00:41<13:02, 41.18s/it]"
     ]
    },
    {
     "name": "stdout",
     "output_type": "stream",
     "text": [
      "Model Was Not Saved ! Current Best Avg. Dice: 0.6589449644088745 Current Avg. Dice: 0.616706907749176 Current Avg. tumor Dice: 0.7472952604293823 Current Avg. lymph Dice: 0.4480016827583313\n"
     ]
    },
    {
     "name": "stderr",
     "output_type": "stream",
     "text": [
      "Training (10919 / 18000 Steps) (loss=0.66678): 100%|██████████| 20/20 [00:59<00:00,  2.96s/it]\n",
      "Training (10939 / 18000 Steps) (loss=0.66688): 100%|██████████| 20/20 [00:23<00:00,  1.17s/it]\n",
      "Training (10959 / 18000 Steps) (loss=0.66705): 100%|██████████| 20/20 [00:23<00:00,  1.16s/it]\n",
      "Training (10979 / 18000 Steps) (loss=0.51102): 100%|██████████| 20/20 [00:23<00:00,  1.16s/it]\n",
      "Training (10999 / 18000 Steps) (loss=0.49509): 100%|██████████| 20/20 [00:24<00:00,  1.23s/it]\n",
      "Validate (11000 / 10 Steps): 100%|██████████| 8/8 [00:35<00:00,  4.49s/it]5<?, ?it/s]\n",
      "Training (11000 / 18000 Steps) (loss=0.47967):   5%|▌         | 1/20 [00:41<13:03, 41.23s/it]"
     ]
    },
    {
     "name": "stdout",
     "output_type": "stream",
     "text": [
      "Model Was Not Saved ! Current Best Avg. Dice: 0.6589449644088745 Current Avg. Dice: 0.5919158458709717 Current Avg. tumor Dice: 0.7245481014251709 Current Avg. lymph Dice: 0.4170537292957306\n"
     ]
    },
    {
     "name": "stderr",
     "output_type": "stream",
     "text": [
      "Training (11019 / 18000 Steps) (loss=0.23361): 100%|██████████| 20/20 [00:59<00:00,  2.98s/it]\n",
      "Training (11039 / 18000 Steps) (loss=0.43029): 100%|██████████| 20/20 [00:24<00:00,  1.21s/it]\n",
      "Training (11059 / 18000 Steps) (loss=0.40613): 100%|██████████| 20/20 [00:23<00:00,  1.19s/it]\n",
      "Training (11079 / 18000 Steps) (loss=0.56700): 100%|██████████| 20/20 [00:23<00:00,  1.15s/it]\n",
      "Training (11099 / 18000 Steps) (loss=0.14965): 100%|██████████| 20/20 [00:23<00:00,  1.16s/it]\n",
      "Validate (11100 / 10 Steps): 100%|██████████| 8/8 [00:35<00:00,  4.50s/it]4<?, ?it/s]\n",
      "Training (11100 / 18000 Steps) (loss=0.45879):   5%|▌         | 1/20 [00:40<12:55, 40.82s/it]"
     ]
    },
    {
     "name": "stdout",
     "output_type": "stream",
     "text": [
      "Model Was Not Saved ! Current Best Avg. Dice: 0.6589449644088745 Current Avg. Dice: 0.6195496320724487 Current Avg. tumor Dice: 0.7640126347541809 Current Avg. lymph Dice: 0.4349537491798401\n"
     ]
    },
    {
     "name": "stderr",
     "output_type": "stream",
     "text": [
      "Training (11119 / 18000 Steps) (loss=0.27543): 100%|██████████| 20/20 [00:59<00:00,  2.96s/it]\n",
      "Training (11139 / 18000 Steps) (loss=0.29293): 100%|██████████| 20/20 [00:23<00:00,  1.18s/it]\n",
      "Training (11159 / 18000 Steps) (loss=0.12721): 100%|██████████| 20/20 [00:23<00:00,  1.17s/it]\n",
      "Training (11179 / 18000 Steps) (loss=0.56066): 100%|██████████| 20/20 [00:23<00:00,  1.17s/it]\n",
      "Training (11199 / 18000 Steps) (loss=0.37875): 100%|██████████| 20/20 [00:23<00:00,  1.16s/it]\n",
      "Validate (11200 / 10 Steps): 100%|██████████| 8/8 [00:35<00:00,  4.49s/it]5<?, ?it/s]\n",
      "Training (11200 / 18000 Steps) (loss=0.46809):   5%|▌         | 1/20 [00:41<13:04, 41.27s/it]"
     ]
    },
    {
     "name": "stdout",
     "output_type": "stream",
     "text": [
      "Model Was Not Saved ! Current Best Avg. Dice: 0.6589449644088745 Current Avg. Dice: 0.6351876854896545 Current Avg. tumor Dice: 0.7596704959869385 Current Avg. lymph Dice: 0.47340264916419983\n"
     ]
    },
    {
     "name": "stderr",
     "output_type": "stream",
     "text": [
      "Training (11219 / 18000 Steps) (loss=0.50555): 100%|██████████| 20/20 [00:59<00:00,  2.96s/it]\n",
      "Training (11239 / 18000 Steps) (loss=0.66675): 100%|██████████| 20/20 [00:23<00:00,  1.18s/it]\n",
      "Training (11259 / 18000 Steps) (loss=0.23322): 100%|██████████| 20/20 [00:23<00:00,  1.16s/it]\n",
      "Training (11279 / 18000 Steps) (loss=0.35278): 100%|██████████| 20/20 [00:23<00:00,  1.17s/it]\n",
      "Training (11299 / 18000 Steps) (loss=0.40107): 100%|██████████| 20/20 [00:23<00:00,  1.17s/it]\n",
      "Validate (11300 / 10 Steps): 100%|██████████| 8/8 [00:36<00:00,  4.51s/it]4<?, ?it/s]\n",
      "Training (11300 / 18000 Steps) (loss=0.22696):   5%|▌         | 1/20 [00:40<12:58, 40.97s/it]"
     ]
    },
    {
     "name": "stdout",
     "output_type": "stream",
     "text": [
      "Model Was Not Saved ! Current Best Avg. Dice: 0.6589449644088745 Current Avg. Dice: 0.6179733276367188 Current Avg. tumor Dice: 0.745363175868988 Current Avg. lymph Dice: 0.44654566049575806\n"
     ]
    },
    {
     "name": "stderr",
     "output_type": "stream",
     "text": [
      "Training (11319 / 18000 Steps) (loss=0.46572): 100%|██████████| 20/20 [00:58<00:00,  2.95s/it]\n",
      "Training (11339 / 18000 Steps) (loss=0.10473): 100%|██████████| 20/20 [00:23<00:00,  1.17s/it]\n",
      "Training (11359 / 18000 Steps) (loss=0.66710): 100%|██████████| 20/20 [00:23<00:00,  1.15s/it]\n",
      "Training (11379 / 18000 Steps) (loss=0.22481): 100%|██████████| 20/20 [00:23<00:00,  1.17s/it]\n",
      "Training (11399 / 18000 Steps) (loss=0.17343): 100%|██████████| 20/20 [00:23<00:00,  1.19s/it]\n",
      "Validate (11400 / 10 Steps): 100%|██████████| 8/8 [00:36<00:00,  4.50s/it]5<?, ?it/s]\n",
      "Training (11400 / 18000 Steps) (loss=0.28289):   5%|▌         | 1/20 [00:41<13:08, 41.48s/it]"
     ]
    },
    {
     "name": "stdout",
     "output_type": "stream",
     "text": [
      "Model Was Not Saved ! Current Best Avg. Dice: 0.6589449644088745 Current Avg. Dice: 0.6565456986427307 Current Avg. tumor Dice: 0.7793481349945068 Current Avg. lymph Dice: 0.4993940591812134\n"
     ]
    },
    {
     "name": "stderr",
     "output_type": "stream",
     "text": [
      "Training (11419 / 18000 Steps) (loss=0.66685): 100%|██████████| 20/20 [00:59<00:00,  2.99s/it]\n",
      "Training (11439 / 18000 Steps) (loss=0.24208): 100%|██████████| 20/20 [00:24<00:00,  1.21s/it]\n",
      "Training (11459 / 18000 Steps) (loss=0.15205): 100%|██████████| 20/20 [00:23<00:00,  1.19s/it]\n",
      "Training (11479 / 18000 Steps) (loss=0.28936): 100%|██████████| 20/20 [00:23<00:00,  1.17s/it]\n",
      "Training (11499 / 18000 Steps) (loss=0.18385): 100%|██████████| 20/20 [00:23<00:00,  1.15s/it]\n",
      "Validate (11500 / 10 Steps): 100%|██████████| 8/8 [00:36<00:00,  4.53s/it]4<?, ?it/s]\n",
      "Training (11500 / 18000 Steps) (loss=0.48039):   5%|▌         | 1/20 [00:41<13:00, 41.10s/it]"
     ]
    },
    {
     "name": "stdout",
     "output_type": "stream",
     "text": [
      "Model Was Not Saved ! Current Best Avg. Dice: 0.6589449644088745 Current Avg. Dice: 0.6473165154457092 Current Avg. tumor Dice: 0.7765181064605713 Current Avg. lymph Dice: 0.4858868718147278\n"
     ]
    },
    {
     "name": "stderr",
     "output_type": "stream",
     "text": [
      "Training (11519 / 18000 Steps) (loss=0.20101): 100%|██████████| 20/20 [00:59<00:00,  3.00s/it]\n",
      "Training (11539 / 18000 Steps) (loss=0.36837): 100%|██████████| 20/20 [00:23<00:00,  1.19s/it]\n",
      "Training (11559 / 18000 Steps) (loss=0.66678): 100%|██████████| 20/20 [00:24<00:00,  1.21s/it]\n",
      "Training (11579 / 18000 Steps) (loss=0.26018): 100%|██████████| 20/20 [00:23<00:00,  1.16s/it]\n",
      "Training (11599 / 18000 Steps) (loss=0.19955): 100%|██████████| 20/20 [00:23<00:00,  1.17s/it]\n",
      "Validate (11600 / 10 Steps): 100%|██████████| 8/8 [00:36<00:00,  4.52s/it]5<?, ?it/s]\n",
      "Training (11600 / 18000 Steps) (loss=0.23236):   5%|▌         | 1/20 [00:41<13:12, 41.73s/it]"
     ]
    },
    {
     "name": "stdout",
     "output_type": "stream",
     "text": [
      "Model Was Not Saved ! Current Best Avg. Dice: 0.6589449644088745 Current Avg. Dice: 0.6195669174194336 Current Avg. tumor Dice: 0.7583885788917542 Current Avg. lymph Dice: 0.4482443928718567\n"
     ]
    },
    {
     "name": "stderr",
     "output_type": "stream",
     "text": [
      "Training (11619 / 18000 Steps) (loss=0.24628): 100%|██████████| 20/20 [00:59<00:00,  2.98s/it]\n",
      "Training (11639 / 18000 Steps) (loss=0.18202): 100%|██████████| 20/20 [00:23<00:00,  1.18s/it]\n",
      "Training (11659 / 18000 Steps) (loss=0.33495): 100%|██████████| 20/20 [00:23<00:00,  1.20s/it]\n",
      "Training (11679 / 18000 Steps) (loss=0.66673): 100%|██████████| 20/20 [00:23<00:00,  1.19s/it]\n",
      "Training (11699 / 18000 Steps) (loss=0.16554): 100%|██████████| 20/20 [00:23<00:00,  1.18s/it]\n",
      "Validate (11700 / 10 Steps): 100%|██████████| 8/8 [00:36<00:00,  4.50s/it]4<?, ?it/s]\n",
      "Training (11700 / 18000 Steps) (loss=0.17703):   5%|▌         | 1/20 [00:41<13:00, 41.05s/it]"
     ]
    },
    {
     "name": "stdout",
     "output_type": "stream",
     "text": [
      "Model Was Not Saved ! Current Best Avg. Dice: 0.6589449644088745 Current Avg. Dice: 0.64029860496521 Current Avg. tumor Dice: 0.7740675806999207 Current Avg. lymph Dice: 0.47291338443756104\n"
     ]
    },
    {
     "name": "stderr",
     "output_type": "stream",
     "text": [
      "Training (11719 / 18000 Steps) (loss=0.13387): 100%|██████████| 20/20 [00:59<00:00,  2.99s/it]\n",
      "Training (11739 / 18000 Steps) (loss=0.66731): 100%|██████████| 20/20 [00:23<00:00,  1.19s/it]\n",
      "Training (11759 / 18000 Steps) (loss=0.18229): 100%|██████████| 20/20 [00:23<00:00,  1.18s/it]\n",
      "Training (11779 / 18000 Steps) (loss=0.43020): 100%|██████████| 20/20 [00:23<00:00,  1.19s/it]\n",
      "Training (11799 / 18000 Steps) (loss=0.13007): 100%|██████████| 20/20 [00:23<00:00,  1.18s/it]\n",
      "Validate (11800 / 10 Steps): 100%|██████████| 8/8 [00:35<00:00,  4.50s/it]5<?, ?it/s]\n",
      "Training (11800 / 18000 Steps) (loss=0.36685):   5%|▌         | 1/20 [00:41<13:04, 41.29s/it]"
     ]
    },
    {
     "name": "stdout",
     "output_type": "stream",
     "text": [
      "Model Was Not Saved ! Current Best Avg. Dice: 0.6589449644088745 Current Avg. Dice: 0.6079103946685791 Current Avg. tumor Dice: 0.7258139252662659 Current Avg. lymph Dice: 0.4536086618900299\n"
     ]
    },
    {
     "name": "stderr",
     "output_type": "stream",
     "text": [
      "Training (11819 / 18000 Steps) (loss=0.25930): 100%|██████████| 20/20 [00:59<00:00,  2.99s/it]\n",
      "Training (11839 / 18000 Steps) (loss=0.44768): 100%|██████████| 20/20 [00:23<00:00,  1.20s/it]\n",
      "Training (11859 / 18000 Steps) (loss=0.36044): 100%|██████████| 20/20 [00:24<00:00,  1.20s/it]\n",
      "Training (11879 / 18000 Steps) (loss=0.24550): 100%|██████████| 20/20 [00:23<00:00,  1.20s/it]\n",
      "Training (11899 / 18000 Steps) (loss=0.17176): 100%|██████████| 20/20 [00:23<00:00,  1.17s/it]\n",
      "Validate (11900 / 10 Steps): 100%|██████████| 8/8 [00:35<00:00,  4.47s/it]4<?, ?it/s]\n",
      "Training (11900 / 18000 Steps) (loss=0.43473):   5%|▌         | 1/20 [00:40<12:54, 40.79s/it]"
     ]
    },
    {
     "name": "stdout",
     "output_type": "stream",
     "text": [
      "Model Was Not Saved ! Current Best Avg. Dice: 0.6589449644088745 Current Avg. Dice: 0.6455260515213013 Current Avg. tumor Dice: 0.7736997604370117 Current Avg. lymph Dice: 0.4846568703651428\n"
     ]
    },
    {
     "name": "stderr",
     "output_type": "stream",
     "text": [
      "Training (11919 / 18000 Steps) (loss=0.31959): 100%|██████████| 20/20 [00:59<00:00,  2.95s/it]\n",
      "Training (11939 / 18000 Steps) (loss=0.14574): 100%|██████████| 20/20 [00:23<00:00,  1.17s/it]\n",
      "Training (11959 / 18000 Steps) (loss=0.44268): 100%|██████████| 20/20 [00:23<00:00,  1.19s/it]\n",
      "Training (11979 / 18000 Steps) (loss=0.66676): 100%|██████████| 20/20 [00:23<00:00,  1.17s/it]\n",
      "Training (11999 / 18000 Steps) (loss=0.66955): 100%|██████████| 20/20 [00:23<00:00,  1.20s/it]\n",
      "Validate (12000 / 10 Steps): 100%|██████████| 8/8 [00:36<00:00,  4.50s/it]5<?, ?it/s]\n",
      "Training (12000 / 18000 Steps) (loss=0.20281):   5%|▌         | 1/20 [00:41<13:02, 41.17s/it]"
     ]
    },
    {
     "name": "stdout",
     "output_type": "stream",
     "text": [
      "Model Was Not Saved ! Current Best Avg. Dice: 0.6589449644088745 Current Avg. Dice: 0.6257484555244446 Current Avg. tumor Dice: 0.7659797668457031 Current Avg. lymph Dice: 0.45307350158691406\n"
     ]
    },
    {
     "name": "stderr",
     "output_type": "stream",
     "text": [
      "Training (12019 / 18000 Steps) (loss=0.51451): 100%|██████████| 20/20 [01:00<00:00,  3.00s/it]\n",
      "Training (12039 / 18000 Steps) (loss=0.23732): 100%|██████████| 20/20 [00:23<00:00,  1.18s/it]\n",
      "Training (12059 / 18000 Steps) (loss=0.18817): 100%|██████████| 20/20 [00:23<00:00,  1.17s/it]\n",
      "Training (12079 / 18000 Steps) (loss=0.66713): 100%|██████████| 20/20 [00:23<00:00,  1.17s/it]\n",
      "Training (12099 / 18000 Steps) (loss=0.66688): 100%|██████████| 20/20 [00:24<00:00,  1.21s/it]\n",
      "Validate (12100 / 10 Steps): 100%|██████████| 8/8 [00:36<00:00,  4.50s/it]5<?, ?it/s]\n",
      "Training (12100 / 18000 Steps) (loss=0.43967):   5%|▌         | 1/20 [00:41<13:01, 41.15s/it]"
     ]
    },
    {
     "name": "stdout",
     "output_type": "stream",
     "text": [
      "Model Was Not Saved ! Current Best Avg. Dice: 0.6589449644088745 Current Avg. Dice: 0.6369354128837585 Current Avg. tumor Dice: 0.7721782922744751 Current Avg. lymph Dice: 0.4646722972393036\n"
     ]
    },
    {
     "name": "stderr",
     "output_type": "stream",
     "text": [
      "Training (12119 / 18000 Steps) (loss=0.14134): 100%|██████████| 20/20 [00:59<00:00,  2.97s/it]\n",
      "Training (12139 / 18000 Steps) (loss=0.40830): 100%|██████████| 20/20 [00:24<00:00,  1.20s/it]\n",
      "Training (12159 / 18000 Steps) (loss=0.11957): 100%|██████████| 20/20 [00:23<00:00,  1.16s/it]\n",
      "Training (12179 / 18000 Steps) (loss=0.66698): 100%|██████████| 20/20 [00:23<00:00,  1.18s/it]\n",
      "Training (12199 / 18000 Steps) (loss=0.18067): 100%|██████████| 20/20 [00:23<00:00,  1.18s/it]\n",
      "Validate (12200 / 10 Steps): 100%|██████████| 8/8 [00:36<00:00,  4.51s/it]5<?, ?it/s]\n",
      "Training (12200 / 18000 Steps) (loss=0.29515):   5%|▌         | 1/20 [00:41<13:02, 41.17s/it]"
     ]
    },
    {
     "name": "stdout",
     "output_type": "stream",
     "text": [
      "Model Was Not Saved ! Current Best Avg. Dice: 0.6589449644088745 Current Avg. Dice: 0.5825410485267639 Current Avg. tumor Dice: 0.7527817487716675 Current Avg. lymph Dice: 0.36250731348991394\n"
     ]
    },
    {
     "name": "stderr",
     "output_type": "stream",
     "text": [
      "Training (12219 / 18000 Steps) (loss=0.67128): 100%|██████████| 20/20 [00:59<00:00,  2.97s/it]\n",
      "Training (12239 / 18000 Steps) (loss=0.19462): 100%|██████████| 20/20 [00:23<00:00,  1.19s/it]\n",
      "Training (12259 / 18000 Steps) (loss=0.39489): 100%|██████████| 20/20 [00:24<00:00,  1.20s/it]\n",
      "Training (12279 / 18000 Steps) (loss=0.66683): 100%|██████████| 20/20 [00:23<00:00,  1.19s/it]\n",
      "Training (12299 / 18000 Steps) (loss=0.39598): 100%|██████████| 20/20 [00:23<00:00,  1.17s/it]\n",
      "Validate (12300 / 10 Steps): 100%|██████████| 8/8 [00:35<00:00,  4.49s/it]4<?, ?it/s]\n",
      "Training (12300 / 18000 Steps) (loss=0.59757):   5%|▌         | 1/20 [00:40<12:56, 40.85s/it]"
     ]
    },
    {
     "name": "stdout",
     "output_type": "stream",
     "text": [
      "Model Was Not Saved ! Current Best Avg. Dice: 0.6589449644088745 Current Avg. Dice: 0.6294696927070618 Current Avg. tumor Dice: 0.7673613429069519 Current Avg. lymph Dice: 0.45783600211143494\n"
     ]
    },
    {
     "name": "stderr",
     "output_type": "stream",
     "text": [
      "Training (12319 / 18000 Steps) (loss=0.66708): 100%|██████████| 20/20 [00:59<00:00,  2.96s/it]\n",
      "Training (12339 / 18000 Steps) (loss=0.66740): 100%|██████████| 20/20 [00:22<00:00,  1.14s/it]\n",
      "Training (12359 / 18000 Steps) (loss=0.66679): 100%|██████████| 20/20 [00:23<00:00,  1.17s/it]\n",
      "Training (12379 / 18000 Steps) (loss=0.20053): 100%|██████████| 20/20 [00:23<00:00,  1.15s/it]\n",
      "Training (12399 / 18000 Steps) (loss=0.24306): 100%|██████████| 20/20 [00:23<00:00,  1.18s/it]\n",
      "Validate (12400 / 10 Steps): 100%|██████████| 8/8 [00:35<00:00,  4.49s/it]5<?, ?it/s]\n",
      "Training (12400 / 18000 Steps) (loss=0.34076):   5%|▌         | 1/20 [00:41<13:00, 41.08s/it]"
     ]
    },
    {
     "name": "stdout",
     "output_type": "stream",
     "text": [
      "Model Was Not Saved ! Current Best Avg. Dice: 0.6589449644088745 Current Avg. Dice: 0.6293529272079468 Current Avg. tumor Dice: 0.760057270526886 Current Avg. lymph Dice: 0.47309204936027527\n"
     ]
    },
    {
     "name": "stderr",
     "output_type": "stream",
     "text": [
      "Training (12419 / 18000 Steps) (loss=0.46176): 100%|██████████| 20/20 [00:59<00:00,  2.97s/it]\n",
      "Training (12439 / 18000 Steps) (loss=0.26416): 100%|██████████| 20/20 [00:23<00:00,  1.17s/it]\n",
      "Training (12459 / 18000 Steps) (loss=0.16597): 100%|██████████| 20/20 [00:23<00:00,  1.16s/it]\n",
      "Training (12479 / 18000 Steps) (loss=0.39127): 100%|██████████| 20/20 [00:23<00:00,  1.20s/it]\n",
      "Training (12499 / 18000 Steps) (loss=0.19465): 100%|██████████| 20/20 [00:23<00:00,  1.17s/it]\n",
      "Validate (12500 / 10 Steps): 100%|██████████| 8/8 [00:35<00:00,  4.48s/it]4<?, ?it/s]\n",
      "Training (12500 / 18000 Steps) (loss=0.29221):   5%|▌         | 1/20 [00:40<12:55, 40.80s/it]"
     ]
    },
    {
     "name": "stdout",
     "output_type": "stream",
     "text": [
      "Model Was Not Saved ! Current Best Avg. Dice: 0.6589449644088745 Current Avg. Dice: 0.628045380115509 Current Avg. tumor Dice: 0.7689791321754456 Current Avg. lymph Dice: 0.45152217149734497\n"
     ]
    },
    {
     "name": "stderr",
     "output_type": "stream",
     "text": [
      "Training (12519 / 18000 Steps) (loss=0.63679): 100%|██████████| 20/20 [00:58<00:00,  2.95s/it]\n",
      "Training (12539 / 18000 Steps) (loss=0.34878): 100%|██████████| 20/20 [00:23<00:00,  1.16s/it]\n",
      "Training (12559 / 18000 Steps) (loss=0.66979): 100%|██████████| 20/20 [00:23<00:00,  1.19s/it]\n",
      "Training (12579 / 18000 Steps) (loss=0.66897): 100%|██████████| 20/20 [00:23<00:00,  1.16s/it]\n",
      "Training (12599 / 18000 Steps) (loss=0.16274): 100%|██████████| 20/20 [00:23<00:00,  1.15s/it]\n",
      "Validate (12600 / 10 Steps): 100%|██████████| 8/8 [00:36<00:00,  4.51s/it]5<?, ?it/s]\n",
      "Training (12600 / 18000 Steps) (loss=0.50386):   5%|▌         | 1/20 [00:41<13:11, 41.67s/it]"
     ]
    },
    {
     "name": "stdout",
     "output_type": "stream",
     "text": [
      "Model Was Not Saved ! Current Best Avg. Dice: 0.6589449644088745 Current Avg. Dice: 0.6156907677650452 Current Avg. tumor Dice: 0.7565467953681946 Current Avg. lymph Dice: 0.43188831210136414\n"
     ]
    },
    {
     "name": "stderr",
     "output_type": "stream",
     "text": [
      "Training (12619 / 18000 Steps) (loss=0.13167): 100%|██████████| 20/20 [00:59<00:00,  2.98s/it]\n",
      "Training (12639 / 18000 Steps) (loss=0.66835): 100%|██████████| 20/20 [00:23<00:00,  1.19s/it]\n",
      "Training (12659 / 18000 Steps) (loss=0.66843): 100%|██████████| 20/20 [00:23<00:00,  1.18s/it]\n",
      "Training (12679 / 18000 Steps) (loss=0.11977): 100%|██████████| 20/20 [00:24<00:00,  1.20s/it]\n",
      "Training (12699 / 18000 Steps) (loss=0.16321): 100%|██████████| 20/20 [00:23<00:00,  1.17s/it]\n",
      "Validate (12700 / 10 Steps): 100%|██████████| 8/8 [00:35<00:00,  4.47s/it]5<?, ?it/s]\n",
      "Training (12700 / 18000 Steps) (loss=0.24368):   5%|▌         | 1/20 [00:40<12:56, 40.88s/it]"
     ]
    },
    {
     "name": "stdout",
     "output_type": "stream",
     "text": [
      "Model Was Not Saved ! Current Best Avg. Dice: 0.6589449644088745 Current Avg. Dice: 0.631357729434967 Current Avg. tumor Dice: 0.7737728953361511 Current Avg. lymph Dice: 0.4488355219364166\n"
     ]
    },
    {
     "name": "stderr",
     "output_type": "stream",
     "text": [
      "Training (12719 / 18000 Steps) (loss=0.12957): 100%|██████████| 20/20 [00:59<00:00,  2.96s/it]\n",
      "Training (12739 / 18000 Steps) (loss=0.68505): 100%|██████████| 20/20 [00:23<00:00,  1.20s/it]\n",
      "Training (12759 / 18000 Steps) (loss=0.42950): 100%|██████████| 20/20 [00:23<00:00,  1.17s/it]\n",
      "Training (12779 / 18000 Steps) (loss=0.47339): 100%|██████████| 20/20 [00:23<00:00,  1.17s/it]\n",
      "Training (12799 / 18000 Steps) (loss=0.20908): 100%|██████████| 20/20 [00:22<00:00,  1.15s/it]\n",
      "Validate (12800 / 10 Steps): 100%|██████████| 8/8 [00:35<00:00,  4.47s/it]5<?, ?it/s]\n",
      "Training (12800 / 18000 Steps) (loss=0.66709):   5%|▌         | 1/20 [00:41<13:11, 41.64s/it]"
     ]
    },
    {
     "name": "stdout",
     "output_type": "stream",
     "text": [
      "Model Was Not Saved ! Current Best Avg. Dice: 0.6589449644088745 Current Avg. Dice: 0.5986313223838806 Current Avg. tumor Dice: 0.7616757750511169 Current Avg. lymph Dice: 0.3848240077495575\n"
     ]
    },
    {
     "name": "stderr",
     "output_type": "stream",
     "text": [
      "Training (12819 / 18000 Steps) (loss=0.19013): 100%|██████████| 20/20 [00:59<00:00,  2.97s/it]\n",
      "Training (12839 / 18000 Steps) (loss=0.14636): 100%|██████████| 20/20 [00:23<00:00,  1.18s/it]\n",
      "Training (12859 / 18000 Steps) (loss=0.25395): 100%|██████████| 20/20 [00:23<00:00,  1.17s/it]\n",
      "Training (12879 / 18000 Steps) (loss=0.67537): 100%|██████████| 20/20 [00:23<00:00,  1.20s/it]\n",
      "Training (12899 / 18000 Steps) (loss=0.67507): 100%|██████████| 20/20 [00:26<00:00,  1.31s/it]\n",
      "Validate (12900 / 10 Steps): 100%|██████████| 8/8 [00:35<00:00,  4.48s/it]5<?, ?it/s]\n",
      "Training (12900 / 18000 Steps) (loss=0.17570):   5%|▌         | 1/20 [00:41<13:14, 41.80s/it]"
     ]
    },
    {
     "name": "stdout",
     "output_type": "stream",
     "text": [
      "Model Was Not Saved ! Current Best Avg. Dice: 0.6589449644088745 Current Avg. Dice: 0.6144875884056091 Current Avg. tumor Dice: 0.7351869940757751 Current Avg. lymph Dice: 0.4561115503311157\n"
     ]
    },
    {
     "name": "stderr",
     "output_type": "stream",
     "text": [
      "Training (12919 / 18000 Steps) (loss=0.16792): 100%|██████████| 20/20 [00:59<00:00,  2.99s/it]\n",
      "Training (12939 / 18000 Steps) (loss=0.24273): 100%|██████████| 20/20 [00:23<00:00,  1.16s/it]\n",
      "Training (12959 / 18000 Steps) (loss=0.66673): 100%|██████████| 20/20 [00:23<00:00,  1.17s/it]\n",
      "Training (12979 / 18000 Steps) (loss=0.42107): 100%|██████████| 20/20 [00:23<00:00,  1.19s/it]\n",
      "Training (12999 / 18000 Steps) (loss=0.25208): 100%|██████████| 20/20 [00:23<00:00,  1.17s/it]\n",
      "Validate (13000 / 10 Steps): 100%|██████████| 8/8 [00:35<00:00,  4.49s/it]5<?, ?it/s]\n",
      "Training (13000 / 18000 Steps) (loss=0.66854):   5%|▌         | 1/20 [00:41<13:00, 41.08s/it]"
     ]
    },
    {
     "name": "stdout",
     "output_type": "stream",
     "text": [
      "Model Was Not Saved ! Current Best Avg. Dice: 0.6589449644088745 Current Avg. Dice: 0.6526913046836853 Current Avg. tumor Dice: 0.7817527055740356 Current Avg. lymph Dice: 0.4868166148662567\n"
     ]
    },
    {
     "name": "stderr",
     "output_type": "stream",
     "text": [
      "Training (13019 / 18000 Steps) (loss=0.46421): 100%|██████████| 20/20 [00:59<00:00,  3.00s/it]\n",
      "Training (13039 / 18000 Steps) (loss=0.36218): 100%|██████████| 20/20 [00:23<00:00,  1.20s/it]\n",
      "Training (13059 / 18000 Steps) (loss=0.66712): 100%|██████████| 20/20 [00:23<00:00,  1.18s/it]\n",
      "Training (13079 / 18000 Steps) (loss=0.60268): 100%|██████████| 20/20 [00:23<00:00,  1.15s/it]\n",
      "Training (13099 / 18000 Steps) (loss=0.66683): 100%|██████████| 20/20 [00:23<00:00,  1.19s/it]\n",
      "Validate (13100 / 10 Steps): 100%|██████████| 8/8 [00:35<00:00,  4.47s/it]5<?, ?it/s]\n",
      "Training (13100 / 18000 Steps) (loss=0.40814):   5%|▌         | 1/20 [00:41<12:59, 41.01s/it]"
     ]
    },
    {
     "name": "stdout",
     "output_type": "stream",
     "text": [
      "Model Was Not Saved ! Current Best Avg. Dice: 0.6589449644088745 Current Avg. Dice: 0.5811083316802979 Current Avg. tumor Dice: 0.7257499694824219 Current Avg. lymph Dice: 0.3887519836425781\n"
     ]
    },
    {
     "name": "stderr",
     "output_type": "stream",
     "text": [
      "Training (13119 / 18000 Steps) (loss=0.14770): 100%|██████████| 20/20 [00:58<00:00,  2.94s/it]\n",
      "Training (13139 / 18000 Steps) (loss=0.19982): 100%|██████████| 20/20 [00:23<00:00,  1.17s/it]\n",
      "Training (13159 / 18000 Steps) (loss=0.66684): 100%|██████████| 20/20 [00:23<00:00,  1.18s/it]\n",
      "Training (13179 / 18000 Steps) (loss=0.66675): 100%|██████████| 20/20 [00:23<00:00,  1.17s/it]\n",
      "Training (13199 / 18000 Steps) (loss=0.66827): 100%|██████████| 20/20 [00:23<00:00,  1.19s/it]\n",
      "Validate (13200 / 10 Steps): 100%|██████████| 8/8 [00:35<00:00,  4.48s/it]5<?, ?it/s]\n",
      "Training (13200 / 18000 Steps) (loss=0.52558):   5%|▌         | 1/20 [00:41<13:07, 41.45s/it]"
     ]
    },
    {
     "name": "stdout",
     "output_type": "stream",
     "text": [
      "Model Was Not Saved ! Current Best Avg. Dice: 0.6589449644088745 Current Avg. Dice: 0.6099860072135925 Current Avg. tumor Dice: 0.7566165328025818 Current Avg. lymph Dice: 0.41995131969451904\n"
     ]
    },
    {
     "name": "stderr",
     "output_type": "stream",
     "text": [
      "Training (13219 / 18000 Steps) (loss=0.66675): 100%|██████████| 20/20 [00:58<00:00,  2.94s/it]\n",
      "Training (13239 / 18000 Steps) (loss=0.49745): 100%|██████████| 20/20 [00:23<00:00,  1.17s/it]\n",
      "Training (13259 / 18000 Steps) (loss=0.28545): 100%|██████████| 20/20 [00:23<00:00,  1.18s/it]\n",
      "Training (13279 / 18000 Steps) (loss=0.66693): 100%|██████████| 20/20 [00:23<00:00,  1.18s/it]\n",
      "Training (13299 / 18000 Steps) (loss=0.19357): 100%|██████████| 20/20 [00:23<00:00,  1.16s/it]\n",
      "Validate (13300 / 10 Steps): 100%|██████████| 8/8 [00:35<00:00,  4.49s/it]5<?, ?it/s]\n",
      "Training (13300 / 18000 Steps) (loss=0.34809):   5%|▌         | 1/20 [00:41<13:06, 41.41s/it]"
     ]
    },
    {
     "name": "stdout",
     "output_type": "stream",
     "text": [
      "Model Was Not Saved ! Current Best Avg. Dice: 0.6589449644088745 Current Avg. Dice: 0.6468920111656189 Current Avg. tumor Dice: 0.7844941020011902 Current Avg. lymph Dice: 0.4743387997150421\n"
     ]
    },
    {
     "name": "stderr",
     "output_type": "stream",
     "text": [
      "Training (13319 / 18000 Steps) (loss=0.39701): 100%|██████████| 20/20 [00:59<00:00,  2.97s/it]\n",
      "Training (13339 / 18000 Steps) (loss=0.19856): 100%|██████████| 20/20 [00:23<00:00,  1.18s/it]\n",
      "Training (13359 / 18000 Steps) (loss=0.17812): 100%|██████████| 20/20 [00:23<00:00,  1.17s/it]\n",
      "Training (13379 / 18000 Steps) (loss=0.40172): 100%|██████████| 20/20 [00:23<00:00,  1.17s/it]\n",
      "Training (13399 / 18000 Steps) (loss=0.66679): 100%|██████████| 20/20 [00:23<00:00,  1.15s/it]\n",
      "Validate (13400 / 10 Steps): 100%|██████████| 8/8 [00:35<00:00,  4.46s/it]5<?, ?it/s]\n",
      "Training (13400 / 18000 Steps) (loss=0.43921):   5%|▌         | 1/20 [00:40<12:55, 40.81s/it]"
     ]
    },
    {
     "name": "stdout",
     "output_type": "stream",
     "text": [
      "Model Was Not Saved ! Current Best Avg. Dice: 0.6589449644088745 Current Avg. Dice: 0.6371222138404846 Current Avg. tumor Dice: 0.7768014073371887 Current Avg. lymph Dice: 0.4637286067008972\n"
     ]
    },
    {
     "name": "stderr",
     "output_type": "stream",
     "text": [
      "Training (13419 / 18000 Steps) (loss=0.23208): 100%|██████████| 20/20 [00:59<00:00,  2.97s/it]\n",
      "Training (13439 / 18000 Steps) (loss=0.66672): 100%|██████████| 20/20 [00:23<00:00,  1.17s/it]\n",
      "Training (13459 / 18000 Steps) (loss=0.12608): 100%|██████████| 20/20 [00:23<00:00,  1.19s/it]\n",
      "Training (13479 / 18000 Steps) (loss=0.59599): 100%|██████████| 20/20 [00:27<00:00,  1.38s/it]\n",
      "Training (13499 / 18000 Steps) (loss=0.59077): 100%|██████████| 20/20 [00:28<00:00,  1.41s/it]\n",
      "Validate (13500 / 10 Steps): 100%|██████████| 8/8 [00:36<00:00,  4.62s/it]6<?, ?it/s]\n",
      "Training (13500 / 18000 Steps) (loss=0.35073):   5%|▌         | 1/20 [00:43<13:40, 43.17s/it]"
     ]
    },
    {
     "name": "stdout",
     "output_type": "stream",
     "text": [
      "Model Was Not Saved ! Current Best Avg. Dice: 0.6589449644088745 Current Avg. Dice: 0.5606006383895874 Current Avg. tumor Dice: 0.7627227902412415 Current Avg. lymph Dice: 0.30438295006752014\n"
     ]
    },
    {
     "name": "stderr",
     "output_type": "stream",
     "text": [
      "Training (13519 / 18000 Steps) (loss=0.66721): 100%|██████████| 20/20 [01:04<00:00,  3.23s/it]\n",
      "Training (13539 / 18000 Steps) (loss=0.38196): 100%|██████████| 20/20 [00:26<00:00,  1.32s/it]\n",
      "Training (13559 / 18000 Steps) (loss=0.27211): 100%|██████████| 20/20 [00:27<00:00,  1.38s/it]\n",
      "Training (13579 / 18000 Steps) (loss=0.14341): 100%|██████████| 20/20 [00:26<00:00,  1.35s/it]\n",
      "Training (13599 / 18000 Steps) (loss=0.16361): 100%|██████████| 20/20 [00:27<00:00,  1.37s/it]\n",
      "Validate (13600 / 10 Steps): 100%|██████████| 8/8 [00:36<00:00,  4.62s/it]6<?, ?it/s]\n",
      "Training (13600 / 18000 Steps) (loss=0.66735):   5%|▌         | 1/20 [00:43<13:42, 43.30s/it]"
     ]
    },
    {
     "name": "stdout",
     "output_type": "stream",
     "text": [
      "Model Was Not Saved ! Current Best Avg. Dice: 0.6589449644088745 Current Avg. Dice: 0.5509862899780273 Current Avg. tumor Dice: 0.6430698037147522 Current Avg. lymph Dice: 0.41900011897087097\n"
     ]
    },
    {
     "name": "stderr",
     "output_type": "stream",
     "text": [
      "Training (13619 / 18000 Steps) (loss=0.66688): 100%|██████████| 20/20 [01:03<00:00,  3.20s/it]\n",
      "Training (13639 / 18000 Steps) (loss=0.66893): 100%|██████████| 20/20 [00:26<00:00,  1.35s/it]\n",
      "Training (13659 / 18000 Steps) (loss=0.18997): 100%|██████████| 20/20 [00:26<00:00,  1.33s/it]\n",
      "Training (13679 / 18000 Steps) (loss=0.66693): 100%|██████████| 20/20 [00:28<00:00,  1.40s/it]\n",
      "Training (13699 / 18000 Steps) (loss=0.66672): 100%|██████████| 20/20 [00:26<00:00,  1.31s/it]\n",
      "Validate (13700 / 10 Steps): 100%|██████████| 8/8 [00:36<00:00,  4.61s/it]6<?, ?it/s]\n",
      "Training (13700 / 18000 Steps) (loss=0.14305):   5%|▌         | 1/20 [00:43<13:38, 43.09s/it]"
     ]
    },
    {
     "name": "stdout",
     "output_type": "stream",
     "text": [
      "Model Was Not Saved ! Current Best Avg. Dice: 0.6589449644088745 Current Avg. Dice: 0.6371059417724609 Current Avg. tumor Dice: 0.7677600383758545 Current Avg. lymph Dice: 0.46470707654953003\n"
     ]
    },
    {
     "name": "stderr",
     "output_type": "stream",
     "text": [
      "Training (13719 / 18000 Steps) (loss=0.37424): 100%|██████████| 20/20 [01:02<00:00,  3.12s/it]\n",
      "Training (13739 / 18000 Steps) (loss=0.31906): 100%|██████████| 20/20 [00:26<00:00,  1.33s/it]\n",
      "Training (13759 / 18000 Steps) (loss=0.39873): 100%|██████████| 20/20 [00:25<00:00,  1.30s/it]\n",
      "Training (13779 / 18000 Steps) (loss=0.20438): 100%|██████████| 20/20 [00:25<00:00,  1.28s/it]\n",
      "Training (13799 / 18000 Steps) (loss=0.66672): 100%|██████████| 20/20 [00:25<00:00,  1.28s/it]\n",
      "Validate (13800 / 10 Steps): 100%|██████████| 8/8 [00:36<00:00,  4.56s/it]5<?, ?it/s]\n",
      "Training (13800 / 18000 Steps) (loss=0.48936):   5%|▌         | 1/20 [00:42<13:26, 42.43s/it]"
     ]
    },
    {
     "name": "stdout",
     "output_type": "stream",
     "text": [
      "Model Was Not Saved ! Current Best Avg. Dice: 0.6589449644088745 Current Avg. Dice: 0.6472901701927185 Current Avg. tumor Dice: 0.7898648977279663 Current Avg. lymph Dice: 0.463864803314209\n"
     ]
    },
    {
     "name": "stderr",
     "output_type": "stream",
     "text": [
      "Training (13819 / 18000 Steps) (loss=0.20000): 100%|██████████| 20/20 [01:03<00:00,  3.18s/it]\n",
      "Training (13839 / 18000 Steps) (loss=0.66717): 100%|██████████| 20/20 [00:27<00:00,  1.36s/it]\n",
      "Training (13859 / 18000 Steps) (loss=0.44287): 100%|██████████| 20/20 [00:24<00:00,  1.21s/it]\n",
      "Training (13879 / 18000 Steps) (loss=0.24910): 100%|██████████| 20/20 [00:22<00:00,  1.15s/it]\n",
      "Training (13899 / 18000 Steps) (loss=0.30905): 100%|██████████| 20/20 [00:23<00:00,  1.17s/it]\n",
      "Validate (13900 / 10 Steps): 100%|██████████| 8/8 [00:35<00:00,  4.46s/it]5<?, ?it/s]\n",
      "Training (13900 / 18000 Steps) (loss=0.35954):   5%|▌         | 1/20 [00:40<12:55, 40.81s/it]"
     ]
    },
    {
     "name": "stdout",
     "output_type": "stream",
     "text": [
      "Model Was Not Saved ! Current Best Avg. Dice: 0.6589449644088745 Current Avg. Dice: 0.6521865725517273 Current Avg. tumor Dice: 0.7946241497993469 Current Avg. lymph Dice: 0.4721755385398865\n"
     ]
    },
    {
     "name": "stderr",
     "output_type": "stream",
     "text": [
      "Training (13919 / 18000 Steps) (loss=0.19198): 100%|██████████| 20/20 [00:58<00:00,  2.93s/it]\n",
      "Training (13939 / 18000 Steps) (loss=0.41629): 100%|██████████| 20/20 [00:23<00:00,  1.17s/it]\n",
      "Training (13954 / 18000 Steps) (loss=0.66697):  75%|███████▌  | 15/20 [00:18<00:04,  1.10it/s]"
     ]
    }
   ],
   "source": [
    "epoch = 0 # used for LR scheduler\n",
    "max_num_epochs = 530 # used for LR scheduler\n",
    "\n",
    "torch.autograd.set_detect_anomaly(True)  # Enable anomaly detection\n",
    "\n",
    "while global_step < max_iterations:\n",
    "    global_step, dice_val_best, global_step_best = train(\n",
    "        global_step, train_loader, dice_val_best, global_step_best\n",
    "    )\n",
    "    epoch += 1\n",
    "    #optimizer.param_groups[0]['lr'] = poly_lr(epoch, max_num_epochs, 0.005676 , 0.9)\n",
    "# model.load_state_dict(torch.load(os.path.join(model_dir, \"best_metric_luck_UNETr_prompt.pth\")))"
   ]
  },
  {
   "cell_type": "code",
   "execution_count": null,
   "metadata": {},
   "outputs": [],
   "source": []
  },
  {
   "cell_type": "code",
   "execution_count": null,
   "metadata": {},
   "outputs": [],
   "source": []
  }
 ],
 "metadata": {
  "kernelspec": {
   "display_name": "clam",
   "language": "python",
   "name": "python3"
  },
  "language_info": {
   "codemirror_mode": {
    "name": "ipython",
    "version": 3
   },
   "file_extension": ".py",
   "mimetype": "text/x-python",
   "name": "python",
   "nbconvert_exporter": "python",
   "pygments_lexer": "ipython3",
   "version": "3.8.0"
  }
 },
 "nbformat": 4,
 "nbformat_minor": 2
}
