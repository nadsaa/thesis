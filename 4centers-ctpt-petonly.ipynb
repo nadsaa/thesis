{
 "cells": [
  {
   "cell_type": "code",
   "execution_count": 1,
   "metadata": {},
   "outputs": [
    {
     "name": "stdout",
     "output_type": "stream",
     "text": [
      "1\n"
     ]
    },
    {
     "name": "stderr",
     "output_type": "stream",
     "text": [
      "/tmp/ipykernel_1932668/3390658602.py:9: TqdmWarning: IProgress not found. Please update jupyter and ipywidgets. See https://ipywidgets.readthedocs.io/en/stable/user_install.html\n",
      "  from tqdm.autonotebook import tqdm\n"
     ]
    }
   ],
   "source": [
    "import torch\n",
    "import torch.nn as nn\n",
    "from torch.utils.data import DataLoader\n",
    "from collections.abc import Sequence\n",
    "\n",
    "from unetr import CustomedUNETR\n",
    "\n",
    "import json\n",
    "from tqdm.autonotebook import tqdm\n",
    "import os\n",
    "os.environ[\"CUDA_DEVICE_ORDER\"] = \"PCI_BUS_ID\"\n",
    "os.environ[\"CUDA_VISIBLE_DEVICES\"] = \"6\" \n",
    "\n",
    "print(torch.cuda.device_count())\n",
    "torch.backends.cudnn.benchmark = True\n",
    "device = torch.device(\"cuda\" if torch.cuda.is_available() else \"cpu\")"
   ]
  },
  {
   "cell_type": "code",
   "execution_count": 2,
   "metadata": {},
   "outputs": [],
   "source": [
    "from monai.transforms import EnsureTyped\n",
    "from monai.transforms import Compose, LoadImaged, ScaleIntensityRanged, ConcatItemsd\n",
    "from monai.metrics import DiceMetric\n",
    "from monai.losses import DiceCELoss, DiceFocalLoss, FocalLoss\n",
    "from monai.inferers import sliding_window_inference\n",
    "\n",
    "\n",
    "from monai.data import (\n",
    "    Dataset,\n",
    "    DataLoader,\n",
    "    CacheDataset,\n",
    "    load_decathlon_datalist,\n",
    "    decollate_batch,\n",
    ")\n",
    "\n",
    "\n",
    "from monai.transforms import (\n",
    "    AsDiscrete,\n",
    "    Compose,\n",
    "    CropForegroundd,\n",
    "    LoadImaged,\n",
    "    Orientationd,\n",
    "    RandFlipd,\n",
    "    RandCropByPosNegLabeld,\n",
    "    RandShiftIntensityd,\n",
    "    ScaleIntensityRanged,\n",
    "    Spacingd,\n",
    "    RandRotate90d,\n",
    "    MapTransform,\n",
    "    ScaleIntensityd,\n",
    "    #AddChanneld,\n",
    "    SpatialPadd,\n",
    "    CenterSpatialCropd,\n",
    "    EnsureChannelFirstd,\n",
    "    ConcatItemsd,\n",
    "    AdjustContrastd, \n",
    "    Rand3DElasticd,\n",
    "    HistogramNormalized,\n",
    "    NormalizeIntensityd,\n",
    "    Invertd,\n",
    "    SaveImage,\n",
    "\n",
    ")"
   ]
  },
  {
   "cell_type": "code",
   "execution_count": 3,
   "metadata": {},
   "outputs": [],
   "source": [
    "data_dir = '/home/nada.saadi/MIS-FM/hecktor2022_cropped'\n",
    "json_dir = '/home/nada.saadi/MIS-FM/hecktor2022_cropped/4centers-CTPT.json'"
   ]
  },
  {
   "cell_type": "code",
   "execution_count": 4,
   "metadata": {},
   "outputs": [
    {
     "name": "stdout",
     "output_type": "stream",
     "text": [
      "204 49\n"
     ]
    }
   ],
   "source": [
    "def datafold_read(datalist, basedir, fold=0, key=\"training\"):\n",
    "    with open(datalist) as f:\n",
    "        json_data = json.load(f)\n",
    "\n",
    "    json_data = json_data[key]\n",
    "\n",
    "    for d in json_data:\n",
    "        for k in d:\n",
    "            if isinstance(d[k], list):\n",
    "                d[k] = [os.path.join(basedir, iv) for iv in d[k]]\n",
    "            elif isinstance(d[k], str):\n",
    "                d[k] = os.path.join(basedir, d[k]) if len(d[k]) > 0 else d[k]\n",
    "\n",
    "    tr = []\n",
    "    val = []\n",
    "    for d in json_data:\n",
    "        if \"fold\" in d and d[\"fold\"] == fold:\n",
    "            val.append(d)\n",
    "        else:\n",
    "            tr.append(d)\n",
    "\n",
    "    return tr, val\n",
    "\n",
    "\n",
    "train_data, valid_data = datafold_read(datalist=json_dir, basedir=data_dir, fold=0)\n",
    "print(len(train_data), len(valid_data))"
   ]
  },
  {
   "cell_type": "code",
   "execution_count": 5,
   "metadata": {},
   "outputs": [],
   "source": [
    "num_samples = 1\n",
    "\n",
    "class ClipCT(MapTransform):\n",
    "    \"\"\"\n",
    "    Convert labels to multi channels based on hecktor classes:\n",
    "    label 1 is the tumor\n",
    "    label 2 is the lymph node\n",
    "\n",
    "    \"\"\"\n",
    "\n",
    "    def __call__(self, data):\n",
    "        d = dict(data)\n",
    "        for key in self.keys:\n",
    "            if key == \"ct\":\n",
    "                d[key] = torch.clip(d[key], min=-200, max=200)\n",
    "            # elif key == \"pt\":\n",
    "            #     d[key] = torch.clip(d[key], d[key].min(), 5)\n",
    "        return d\n",
    "\n",
    "train_transforms = Compose(\n",
    "    [\n",
    "        LoadImaged(keys=[\"ct\", \"pt\", \"seg\"], ensure_channel_first=True),\n",
    "        SpatialPadd(keys=[\"ct\", \"pt\", \"seg\"], spatial_size=(200, 200, 310), method='end'),\n",
    "        Orientationd(keys=[\"ct\", \"pt\", \"seg\"], axcodes=\"PLS\"),\n",
    "        NormalizeIntensityd(keys=[\"pt\"]),\n",
    "        ClipCT(keys=[\"ct\"]),\n",
    "        ScaleIntensityd(keys=[\"ct\"], minv=0, maxv=1),\n",
    "        ConcatItemsd(keys=[\"pt\", \"ct\"], name=\"ctpt\"),  # Concatenate CT and PET\n",
    "        RandCropByPosNegLabeld(\n",
    "            keys=[\"ctpt\", \"seg\"],\n",
    "            label_key=\"seg\",\n",
    "            spatial_size=(96, 96, 96),\n",
    "            pos=1,\n",
    "            neg=1,\n",
    "            num_samples=num_samples,\n",
    "            image_key=\"ctpt\",\n",
    "            image_threshold=0,\n",
    "        ),\n",
    "        RandFlipd(keys=[\"ctpt\", \"seg\"], spatial_axis=[0], prob=0.20),\n",
    "        RandFlipd(keys=[\"ctpt\", \"seg\"], spatial_axis=[1], prob=0.20),\n",
    "        RandFlipd(keys=[\"ctpt\", \"seg\"], spatial_axis=[2], prob=0.20),\n",
    "        RandRotate90d(keys=[\"ctpt\", \"seg\"], prob=0.20, max_k=3),\n",
    "        EnsureTyped(keys=[\"ctpt\", \"seg\"]),\n",
    "    \n",
    "    ]\n",
    ")\n",
    "\n",
    "val_transforms = Compose(\n",
    "    [\n",
    "        LoadImaged(keys=[\"ct\", \"pt\", \"seg\"], ensure_channel_first=True),\n",
    "        SpatialPadd(keys=[\"ct\", \"pt\", \"seg\"], spatial_size=(200, 200, 310), method='end'),\n",
    "        Orientationd(keys=[\"ct\", \"pt\", \"seg\"], axcodes=\"PLS\"),\n",
    "        NormalizeIntensityd(keys=[\"pt\"]),\n",
    "        ClipCT(keys=[\"ct\"]),\n",
    "        ScaleIntensityd(keys=[\"ct\"], minv=0, maxv=1),\n",
    "        ConcatItemsd(keys=[\"pt\", \"ct\"], name=\"ctpt\"),# Concatenate CT and PET\n",
    "        EnsureTyped(keys=[\"ctpt\", \"seg\"]),\n",
    "    ]\n",
    ")\n",
    "\n",
    "\n",
    "##----------\n",
    "\n",
    "def create_dataloader(data, transforms, batch_size=2, shuffle=True):\n",
    "    # Create CacheDataset with the reformatted data\n",
    "    dataset = Dataset(data=data, transform=transforms)\n",
    "\n",
    "    # Create DataLoader\n",
    "    return DataLoader(dataset, batch_size=batch_size, shuffle=shuffle, num_workers=8)\n",
    "\n",
    "\n",
    "\n",
    "train_loader = create_dataloader(train_data, train_transforms, shuffle=True)\n",
    "val_loader = create_dataloader(valid_data, val_transforms, shuffle=False)"
   ]
  },
  {
   "cell_type": "code",
   "execution_count": 6,
   "metadata": {},
   "outputs": [
    {
     "name": "stdout",
     "output_type": "stream",
     "text": [
      "Nada's version of UNETR\n",
      "(96, 96, 96)\n",
      "(16, 16, 16)\n",
      "(6, 6, 6)\n",
      "768\n"
     ]
    },
    {
     "name": "stderr",
     "output_type": "stream",
     "text": [
      "/home/nada.saadi/miniconda3/envs/clam/lib/python3.8/site-packages/monai/utils/deprecate_utils.py:221: FutureWarning: unetr CustomedUNETR.__init__:pos_embed: Argument `pos_embed` has been deprecated since version 1.2. It will be removed in version 1.4. please use `proj_type` instead.\n",
      "  warn_deprecated(argname, msg, warning_category)\n"
     ]
    }
   ],
   "source": [
    "model = CustomedUNETR(\n",
    "    in_channels=2,  # Number of input channels\n",
    "    out_channels=3,  # Number of output channels\n",
    "    img_size=(96, 96, 96),  # Size of the input image\n",
    "    feature_size=48,  # Size of the feature maps\n",
    "    hidden_size=768,\n",
    "    num_heads = 12,# Size of the hidden layers in the transformer\n",
    "    mlp_dim=3072,  # Dimension of the MLP in the transformer\n",
    "    pos_embed=\"perceptron\",  # Type of positional embedding\n",
    "    norm_name=\"instance\",  # Type of normalization\n",
    "    res_block=True,  # Whether to use residual blocks\n",
    "    dropout_rate=0.0,\n",
    "    proj_type= \"conv\",\n",
    "    r=4,\n",
    "    lora_layer=None,\n",
    "    \n",
    ").to(device) "
   ]
  },
  {
   "cell_type": "code",
   "execution_count": 7,
   "metadata": {},
   "outputs": [],
   "source": [
    "def poly_lr(epoch, max_epochs, initial_lr, exponent=0.9):\n",
    "    return initial_lr * (1 - epoch / max_epochs)**exponent\n",
    "\n",
    "model_dir='/home/nada.saadi/CTPET/hecktor2022_cropped/4centers-ctpt-tokens-pt'\n",
    "\n",
    "max_iterations = 18000\n",
    "eval_num = 100\n",
    "\n",
    "## running stats\n",
    "global_step = 0\n",
    "dice_val_best = 0.0\n",
    "global_step_best = 0\n",
    "epoch_loss_values = []\n",
    "metric_values = []\n",
    "metric_values_tumor = []\n",
    "metric_values_lymph = []\n",
    "\n",
    "\n",
    "loss_function = DiceCELoss(to_onehot_y=True, softmax=True)\n",
    "optimizer = torch.optim.AdamW(model.parameters(), lr=1e-4, weight_decay=1e-5)\n",
    "\n",
    "\n",
    "post_label = AsDiscrete(to_onehot=3)\n",
    "post_pred = AsDiscrete(argmax=True, to_onehot=3)\n",
    "\n",
    "dice_metric = DiceMetric(include_background=False, reduction=\"mean\", get_not_nans=False)\n",
    "dice_metric_batch = DiceMetric(include_background=False, reduction=\"mean_batch\")\n",
    "\n",
    "\n",
    "##-----------------------------------------------------------------------------\n",
    "\n",
    "def validation(epoch_iterator_val):\n",
    "        model.eval()\n",
    "        with torch.no_grad():\n",
    "            for step, batch in enumerate(epoch_iterator_val):\n",
    "                val_inputs, val_labels = (batch[\"ctpt\"].cuda(), batch[\"seg\"].cuda())\n",
    "                val_outputs = sliding_window_inference(val_inputs, (96, 96, 96), 4, model)\n",
    "                val_labels_list = decollate_batch(val_labels)\n",
    "                val_labels_convert = [\n",
    "                    post_label(val_label_tensor) for val_label_tensor in val_labels_list\n",
    "                ]\n",
    "                val_outputs_list = decollate_batch(val_outputs)\n",
    "                val_output_convert = [\n",
    "                    post_pred(val_pred_tensor) for val_pred_tensor in val_outputs_list\n",
    "                ]\n",
    "                dice_metric(y_pred=val_output_convert, y=val_labels_convert)\n",
    "                dice_metric_batch(y_pred=val_output_convert, y=val_labels_convert)\n",
    "                epoch_iterator_val.set_description(\n",
    "                    \"Validate (%d / %d Steps)\" % (global_step, 10.0)\n",
    "                )\n",
    "            mean_dice_val = dice_metric.aggregate().item()\n",
    "            metric_batch_val = dice_metric_batch.aggregate()\n",
    "\n",
    "            metric_tumor = metric_batch_val[0].item()\n",
    "            metric_lymph = metric_batch_val[1].item()\n",
    "\n",
    "            dice_metric.reset()\n",
    "            dice_metric_batch.reset()\n",
    "        return mean_dice_val, metric_tumor, metric_lymph\n",
    "\n",
    "\n",
    "\n",
    "def train(global_step, train_loader, dice_val_best, global_step_best):\n",
    "        model.train()\n",
    "        epoch_loss = 0\n",
    "        step = 0\n",
    "        epoch_iterator = tqdm(\n",
    "            train_loader, desc=\"Training (X / X Steps) (loss=X.X)\", dynamic_ncols=True\n",
    "        )\n",
    "        \n",
    "        for step, batch in enumerate(epoch_iterator):\n",
    "            step += 1\n",
    "            x, y = (batch[\"ctpt\"].cuda(), batch[\"seg\"].cuda())\n",
    "            logit_map = model(x, mode=\"pt\")\n",
    "            loss = loss_function(logit_map, y)\n",
    "            loss.backward()\n",
    "            epoch_loss += loss.item() \n",
    "            optimizer.step()\n",
    "            optimizer.zero_grad()\n",
    "            epoch_iterator.set_description(\n",
    "                \"Training (%d / %d Steps) (loss=%2.5f)\"\n",
    "                % (global_step, max_iterations, loss)\n",
    "            )\n",
    "            \n",
    "            if (\n",
    "                global_step % eval_num == 0 and global_step != 0\n",
    "            ) or global_step == max_iterations:\n",
    "                epoch_iterator_val = tqdm(\n",
    "                    val_loader, desc=\"Validate (X / X Steps) (dice=X.X)\", dynamic_ncols=True\n",
    "                )\n",
    "                dice_val, metric_tumor, metric_lymph = validation(epoch_iterator_val)\n",
    "                epoch_loss /= step\n",
    "                epoch_loss_values.append(epoch_loss)\n",
    "                metric_values.append(dice_val)\n",
    "                metric_values_tumor.append(metric_tumor)\n",
    "                metric_values_lymph.append(metric_lymph)\n",
    "                if dice_val > dice_val_best:\n",
    "                    dice_val_best = dice_val\n",
    "                    global_step_best = global_step\n",
    "                    torch.save(\n",
    "                        model.state_dict(), os.path.join(model_dir, \"4centers-ctpt-tokens-pt.pth\")\n",
    "                    )\n",
    "                    print(\n",
    "                        \"Model Was Saved ! Current Best Avg. Dice: {} Current Avg. Dice: {} Current Avg. tumor Dice: {} Current Avg. lymph Dice: {}\".format(\n",
    "                            dice_val_best, dice_val, metric_tumor, metric_lymph\n",
    "                        )\n",
    "                    )\n",
    "                else:\n",
    "                    print(\n",
    "                        \"Model Was Not Saved ! Current Best Avg. Dice: {} Current Avg. Dice: {} Current Avg. tumor Dice: {} Current Avg. lymph Dice: {}\".format(\n",
    "                            dice_val_best, dice_val,  metric_tumor, metric_lymph\n",
    "                        )\n",
    "                    )\n",
    "            global_step += 1\n",
    "        return global_step, dice_val_best, global_step_best"
   ]
  },
  {
   "cell_type": "code",
   "execution_count": 8,
   "metadata": {},
   "outputs": [
    {
     "name": "stderr",
     "output_type": "stream",
     "text": [
      "Validate (0 / 10 Steps): 100%|██████████| 25/25 [04:53<00:00, 11.74s/it]2:25<00:02,  1.15s/it]\n",
      "Training (100 / 18000 Steps) (loss=0.97924):  99%|█████████▉| 101/102 [07:20<01:29, 89.45s/it]"
     ]
    },
    {
     "name": "stdout",
     "output_type": "stream",
     "text": [
      "Model Was Saved ! Current Best Avg. Dice: 0.22412674129009247 Current Avg. Dice: 0.22412674129009247 Current Avg. tumor Dice: 0.3958754539489746 Current Avg. lymph Dice: 0.0\n"
     ]
    },
    {
     "name": "stderr",
     "output_type": "stream",
     "text": [
      "Training (101 / 18000 Steps) (loss=0.96597): 100%|██████████| 102/102 [07:21<00:00,  4.33s/it]\n",
      "Validate (102 / 10 Steps): 100%|██████████| 25/25 [04:39<00:00, 11.17s/it]8<00:04,  1.20s/it]\n",
      "Training (200 / 18000 Steps) (loss=0.84278):  97%|█████████▋| 99/102 [06:37<04:15, 85.09s/it]"
     ]
    },
    {
     "name": "stdout",
     "output_type": "stream",
     "text": [
      "Model Was Not Saved ! Current Best Avg. Dice: 0.22412674129009247 Current Avg. Dice: 0.20668886601924896 Current Avg. tumor Dice: 0.3665315806865692 Current Avg. lymph Dice: 0.0\n"
     ]
    },
    {
     "name": "stderr",
     "output_type": "stream",
     "text": [
      "Training (203 / 18000 Steps) (loss=0.87656): 100%|██████████| 102/102 [06:40<00:00,  3.92s/it]\n",
      "Validate (204 / 10 Steps): 100%|██████████| 25/25 [04:43<00:00, 11.32s/it]5<00:05,  1.08it/s]\n",
      "Training (300 / 18000 Steps) (loss=0.78202):  95%|█████████▌| 97/102 [06:39<07:11, 86.28s/it]"
     ]
    },
    {
     "name": "stdout",
     "output_type": "stream",
     "text": [
      "Model Was Saved ! Current Best Avg. Dice: 0.2467256486415863 Current Avg. Dice: 0.2467256486415863 Current Avg. tumor Dice: 0.38501599431037903 Current Avg. lymph Dice: 0.06779229640960693\n"
     ]
    },
    {
     "name": "stderr",
     "output_type": "stream",
     "text": [
      "Training (305 / 18000 Steps) (loss=0.76891): 100%|██████████| 102/102 [06:43<00:00,  3.96s/it]\n",
      "Validate (306 / 10 Steps): 100%|██████████| 25/25 [04:43<00:00, 11.35s/it]3<00:07,  1.00it/s]\n",
      "Training (400 / 18000 Steps) (loss=0.73839):  93%|█████████▎| 95/102 [06:37<10:04, 86.34s/it]"
     ]
    },
    {
     "name": "stdout",
     "output_type": "stream",
     "text": [
      "Model Was Saved ! Current Best Avg. Dice: 0.2780369222164154 Current Avg. Dice: 0.2780369222164154 Current Avg. tumor Dice: 0.4040391743183136 Current Avg. lymph Dice: 0.10803776979446411\n"
     ]
    },
    {
     "name": "stderr",
     "output_type": "stream",
     "text": [
      "Training (407 / 18000 Steps) (loss=0.74545): 100%|██████████| 102/102 [06:44<00:00,  3.97s/it]\n",
      "Validate (408 / 10 Steps): 100%|██████████| 25/25 [04:41<00:00, 11.25s/it]1<00:07,  1.27it/s]\n",
      "Training (500 / 18000 Steps) (loss=0.74528):  91%|█████████ | 93/102 [06:32<12:45, 85.07s/it]"
     ]
    },
    {
     "name": "stdout",
     "output_type": "stream",
     "text": [
      "Model Was Not Saved ! Current Best Avg. Dice: 0.2780369222164154 Current Avg. Dice: 0.14531151950359344 Current Avg. tumor Dice: 0.2611418068408966 Current Avg. lymph Dice: 0.007702836766839027\n"
     ]
    },
    {
     "name": "stderr",
     "output_type": "stream",
     "text": [
      "Training (509 / 18000 Steps) (loss=0.74170): 100%|██████████| 102/102 [06:43<00:00,  3.96s/it]\n",
      "Validate (510 / 10 Steps): 100%|██████████| 25/25 [04:35<00:00, 11.02s/it]3<00:14,  1.21s/it]\n",
      "Training (600 / 18000 Steps) (loss=0.73327):  89%|████████▉ | 91/102 [06:28<15:22, 83.86s/it]"
     ]
    },
    {
     "name": "stdout",
     "output_type": "stream",
     "text": [
      "Model Was Not Saved ! Current Best Avg. Dice: 0.2780369222164154 Current Avg. Dice: 0.2316458821296692 Current Avg. tumor Dice: 0.24000604450702667 Current Avg. lymph Dice: 0.21657127141952515\n"
     ]
    },
    {
     "name": "stderr",
     "output_type": "stream",
     "text": [
      "Training (611 / 18000 Steps) (loss=0.68617): 100%|██████████| 102/102 [06:42<00:00,  3.94s/it]\n",
      "Validate (612 / 10 Steps): 100%|██████████| 25/25 [04:31<00:00, 10.86s/it]8<00:16,  1.15s/it]\n",
      "Training (700 / 18000 Steps) (loss=0.67536):  87%|████████▋ | 89/102 [06:20<17:54, 82.65s/it]"
     ]
    },
    {
     "name": "stdout",
     "output_type": "stream",
     "text": [
      "Model Was Not Saved ! Current Best Avg. Dice: 0.2780369222164154 Current Avg. Dice: 0.16267256438732147 Current Avg. tumor Dice: 0.09630380570888519 Current Avg. lymph Dice: 0.23985356092453003\n"
     ]
    },
    {
     "name": "stderr",
     "output_type": "stream",
     "text": [
      "Training (713 / 18000 Steps) (loss=0.70058): 100%|██████████| 102/102 [06:36<00:00,  3.89s/it]\n",
      "Validate (714 / 10 Steps): 100%|██████████| 25/25 [04:31<00:00, 10.88s/it]8<00:18,  1.13s/it]\n",
      "Training (800 / 18000 Steps) (loss=0.51639):  85%|████████▌ | 87/102 [06:20<20:41, 82.75s/it]"
     ]
    },
    {
     "name": "stdout",
     "output_type": "stream",
     "text": [
      "Model Was Not Saved ! Current Best Avg. Dice: 0.2780369222164154 Current Avg. Dice: 0.23454199731349945 Current Avg. tumor Dice: 0.24679166078567505 Current Avg. lymph Dice: 0.2146841436624527\n"
     ]
    },
    {
     "name": "stderr",
     "output_type": "stream",
     "text": [
      "Training (815 / 18000 Steps) (loss=0.69466): 100%|██████████| 102/102 [06:38<00:00,  3.91s/it]\n",
      "Validate (816 / 10 Steps): 100%|██████████| 25/25 [04:31<00:00, 10.86s/it]6<00:20,  1.13s/it]\n",
      "Training (900 / 18000 Steps) (loss=0.59434):  83%|████████▎ | 85/102 [06:18<23:24, 82.61s/it]"
     ]
    },
    {
     "name": "stdout",
     "output_type": "stream",
     "text": [
      "Model Was Not Saved ! Current Best Avg. Dice: 0.2780369222164154 Current Avg. Dice: 0.26357725262641907 Current Avg. tumor Dice: 0.3074485957622528 Current Avg. lymph Dice: 0.2036302089691162\n"
     ]
    },
    {
     "name": "stderr",
     "output_type": "stream",
     "text": [
      "Training (917 / 18000 Steps) (loss=0.67522): 100%|██████████| 102/102 [06:39<00:00,  3.92s/it]\n",
      "Validate (918 / 10 Steps): 100%|██████████| 25/25 [04:29<00:00, 10.80s/it]45<00:23,  1.18s/it]\n",
      "Training (1000 / 18000 Steps) (loss=0.63969):  81%|████████▏ | 83/102 [06:15<26:02, 82.23s/it]"
     ]
    },
    {
     "name": "stdout",
     "output_type": "stream",
     "text": [
      "Model Was Not Saved ! Current Best Avg. Dice: 0.2780369222164154 Current Avg. Dice: 0.12454461306333542 Current Avg. tumor Dice: 0.22299641370773315 Current Avg. lymph Dice: 0.0064543988555669785\n"
     ]
    },
    {
     "name": "stderr",
     "output_type": "stream",
     "text": [
      "Training (1019 / 18000 Steps) (loss=0.72077): 100%|██████████| 102/102 [06:39<00:00,  3.92s/it]\n",
      "Validate (1020 / 10 Steps): 100%|██████████| 25/25 [04:28<00:00, 10.74s/it]2<00:26,  1.22s/it]\n",
      "Training (1100 / 18000 Steps) (loss=0.65243):  79%|███████▉  | 81/102 [06:10<28:38, 81.84s/it]"
     ]
    },
    {
     "name": "stdout",
     "output_type": "stream",
     "text": [
      "Model Was Not Saved ! Current Best Avg. Dice: 0.2780369222164154 Current Avg. Dice: 0.16089864075183868 Current Avg. tumor Dice: 0.1394352912902832 Current Avg. lymph Dice: 0.18359525501728058\n"
     ]
    },
    {
     "name": "stderr",
     "output_type": "stream",
     "text": [
      "Training (1121 / 18000 Steps) (loss=0.68338): 100%|██████████| 102/102 [06:36<00:00,  3.89s/it]\n",
      "Validate (1122 / 10 Steps): 100%|██████████| 25/25 [04:29<00:00, 10.77s/it]9<00:28,  1.20s/it]\n",
      "Training (1200 / 18000 Steps) (loss=0.53728):  77%|███████▋  | 79/102 [06:08<31:26, 82.03s/it]"
     ]
    },
    {
     "name": "stdout",
     "output_type": "stream",
     "text": [
      "Model Was Not Saved ! Current Best Avg. Dice: 0.2780369222164154 Current Avg. Dice: 0.1941492259502411 Current Avg. tumor Dice: 0.3263665735721588 Current Avg. lymph Dice: 0.02491110749542713\n"
     ]
    },
    {
     "name": "stderr",
     "output_type": "stream",
     "text": [
      "Training (1223 / 18000 Steps) (loss=0.68862): 100%|██████████| 102/102 [06:37<00:00,  3.90s/it]\n",
      "Validate (1224 / 10 Steps): 100%|██████████| 25/25 [04:28<00:00, 10.76s/it]8<00:32,  1.25s/it]\n",
      "Training (1300 / 18000 Steps) (loss=0.55449):  75%|███████▌  | 77/102 [06:07<34:08, 81.95s/it]"
     ]
    },
    {
     "name": "stdout",
     "output_type": "stream",
     "text": [
      "Model Was Not Saved ! Current Best Avg. Dice: 0.2780369222164154 Current Avg. Dice: 0.16913744807243347 Current Avg. tumor Dice: 0.27197661995887756 Current Avg. lymph Dice: 0.03458777442574501\n"
     ]
    },
    {
     "name": "stderr",
     "output_type": "stream",
     "text": [
      "Training (1325 / 18000 Steps) (loss=0.67707): 100%|██████████| 102/102 [06:38<00:00,  3.91s/it]\n",
      "Validate (1326 / 10 Steps): 100%|██████████| 25/25 [04:27<00:00, 10.72s/it]4<00:33,  1.21s/it]\n",
      "Training (1400 / 18000 Steps) (loss=0.48154):  74%|███████▎  | 75/102 [06:02<36:43, 81.62s/it]"
     ]
    },
    {
     "name": "stdout",
     "output_type": "stream",
     "text": [
      "Model Was Not Saved ! Current Best Avg. Dice: 0.2780369222164154 Current Avg. Dice: 0.04119876027107239 Current Avg. tumor Dice: 0.07492062449455261 Current Avg. lymph Dice: 0.0001675332896411419\n"
     ]
    },
    {
     "name": "stderr",
     "output_type": "stream",
     "text": [
      "Training (1427 / 18000 Steps) (loss=0.63046): 100%|██████████| 102/102 [06:36<00:00,  3.89s/it]\n",
      "Validate (1428 / 10 Steps): 100%|██████████| 25/25 [04:29<00:00, 10.79s/it]3<00:29,  1.00it/s]\n",
      "Training (1500 / 18000 Steps) (loss=0.55229):  72%|███████▏  | 73/102 [06:03<39:39, 82.05s/it]"
     ]
    },
    {
     "name": "stdout",
     "output_type": "stream",
     "text": [
      "Model Was Not Saved ! Current Best Avg. Dice: 0.2780369222164154 Current Avg. Dice: 0.14339879155158997 Current Avg. tumor Dice: 0.25457486510276794 Current Avg. lymph Dice: 0.0051601342856884\n"
     ]
    },
    {
     "name": "stderr",
     "output_type": "stream",
     "text": [
      "Training (1529 / 18000 Steps) (loss=0.26867): 100%|██████████| 102/102 [06:40<00:00,  3.92s/it]\n",
      "Validate (1530 / 10 Steps): 100%|██████████| 25/25 [04:29<00:00, 10.76s/it]2<00:39,  1.22s/it]\n",
      "Training (1600 / 18000 Steps) (loss=0.51259):  70%|██████▉   | 71/102 [06:01<42:20, 81.94s/it]"
     ]
    },
    {
     "name": "stdout",
     "output_type": "stream",
     "text": [
      "Model Was Not Saved ! Current Best Avg. Dice: 0.2780369222164154 Current Avg. Dice: 0.09455953538417816 Current Avg. tumor Dice: 0.1685696244239807 Current Avg. lymph Dice: 0.006097153760492802\n"
     ]
    },
    {
     "name": "stderr",
     "output_type": "stream",
     "text": [
      "Training (1631 / 18000 Steps) (loss=0.57456): 100%|██████████| 102/102 [06:38<00:00,  3.91s/it]\n",
      "Validate (1632 / 10 Steps): 100%|██████████| 25/25 [04:28<00:00, 10.75s/it]1<00:43,  1.27s/it]\n",
      "Training (1700 / 18000 Steps) (loss=0.60063):  68%|██████▊   | 69/102 [05:59<45:02, 81.89s/it]"
     ]
    },
    {
     "name": "stdout",
     "output_type": "stream",
     "text": [
      "Model Was Not Saved ! Current Best Avg. Dice: 0.2780369222164154 Current Avg. Dice: 0.1337321698665619 Current Avg. tumor Dice: 0.237967386841774 Current Avg. lymph Dice: 0.0033144354820251465\n"
     ]
    },
    {
     "name": "stderr",
     "output_type": "stream",
     "text": [
      "Training (1733 / 18000 Steps) (loss=0.45470): 100%|██████████| 102/102 [06:38<00:00,  3.91s/it]\n",
      "Validate (1734 / 10 Steps): 100%|██████████| 25/25 [04:28<00:00, 10.74s/it]8<00:37,  1.04s/it]\n",
      "Training (1800 / 18000 Steps) (loss=0.46582):  66%|██████▌   | 67/102 [05:56<47:40, 81.72s/it]"
     ]
    },
    {
     "name": "stdout",
     "output_type": "stream",
     "text": [
      "Model Was Not Saved ! Current Best Avg. Dice: 0.2780369222164154 Current Avg. Dice: 0.10070348531007767 Current Avg. tumor Dice: 0.1689365804195404 Current Avg. lymph Dice: 0.010989836417138577\n"
     ]
    },
    {
     "name": "stderr",
     "output_type": "stream",
     "text": [
      "Training (1835 / 18000 Steps) (loss=0.53028): 100%|██████████| 102/102 [06:39<00:00,  3.92s/it]\n",
      "Validate (1836 / 10 Steps): 100%|██████████| 25/25 [04:30<00:00, 10.82s/it]3<00:46,  1.22s/it]\n",
      "Training (1900 / 18000 Steps) (loss=0.43083):  64%|██████▎   | 65/102 [05:53<50:49, 82.41s/it]"
     ]
    },
    {
     "name": "stdout",
     "output_type": "stream",
     "text": [
      "Model Was Not Saved ! Current Best Avg. Dice: 0.2780369222164154 Current Avg. Dice: 0.09329720586538315 Current Avg. tumor Dice: 0.16306942701339722 Current Avg. lymph Dice: 0.009062567725777626\n"
     ]
    },
    {
     "name": "stderr",
     "output_type": "stream",
     "text": [
      "Training (1937 / 18000 Steps) (loss=0.56560): 100%|██████████| 102/102 [06:38<00:00,  3.91s/it]\n",
      "Validate (1938 / 10 Steps): 100%|██████████| 25/25 [04:30<00:00, 10.83s/it]0<00:47,  1.19s/it]\n",
      "Training (2000 / 18000 Steps) (loss=0.37583):  62%|██████▏   | 63/102 [05:51<53:36, 82.46s/it]"
     ]
    },
    {
     "name": "stdout",
     "output_type": "stream",
     "text": [
      "Model Was Not Saved ! Current Best Avg. Dice: 0.2780369222164154 Current Avg. Dice: 0.08537717908620834 Current Avg. tumor Dice: 0.14568445086479187 Current Avg. lymph Dice: 0.014491858892142773\n"
     ]
    },
    {
     "name": "stderr",
     "output_type": "stream",
     "text": [
      "Training (2039 / 18000 Steps) (loss=0.24839): 100%|██████████| 102/102 [06:38<00:00,  3.91s/it]\n",
      "Validate (2040 / 10 Steps): 100%|██████████| 25/25 [04:33<00:00, 10.93s/it]7<00:51,  1.22s/it]\n",
      "Training (2100 / 18000 Steps) (loss=0.35091):  60%|█████▉    | 61/102 [05:50<56:55, 83.30s/it]"
     ]
    },
    {
     "name": "stdout",
     "output_type": "stream",
     "text": [
      "Model Was Not Saved ! Current Best Avg. Dice: 0.2780369222164154 Current Avg. Dice: 0.1581575572490692 Current Avg. tumor Dice: 0.28180673718452454 Current Avg. lymph Dice: 0.00030328118009492755\n"
     ]
    },
    {
     "name": "stderr",
     "output_type": "stream",
     "text": [
      "Training (2141 / 18000 Steps) (loss=0.58936): 100%|██████████| 102/102 [06:38<00:00,  3.90s/it]\n",
      "Validate (2142 / 10 Steps): 100%|██████████| 25/25 [04:30<00:00, 10.81s/it]6<00:57,  1.30s/it]\n",
      "Training (2200 / 18000 Steps) (loss=0.52263):  58%|█████▊    | 59/102 [05:47<59:02, 82.39s/it]"
     ]
    },
    {
     "name": "stdout",
     "output_type": "stream",
     "text": [
      "Model Was Not Saved ! Current Best Avg. Dice: 0.2780369222164154 Current Avg. Dice: 0.15024113655090332 Current Avg. tumor Dice: 0.26472851634025574 Current Avg. lymph Dice: 0.005158843006938696\n"
     ]
    },
    {
     "name": "stderr",
     "output_type": "stream",
     "text": [
      "Training (2243 / 18000 Steps) (loss=0.59145): 100%|██████████| 102/102 [06:40<00:00,  3.92s/it]\n",
      "Validate (2244 / 10 Steps): 100%|██████████| 25/25 [04:29<00:00, 10.78s/it]4<00:55,  1.21s/it]\n",
      "Training (2300 / 18000 Steps) (loss=0.45350):  56%|█████▌    | 57/102 [05:44<1:01:35, 82.13s/it]"
     ]
    },
    {
     "name": "stdout",
     "output_type": "stream",
     "text": [
      "Model Was Not Saved ! Current Best Avg. Dice: 0.2780369222164154 Current Avg. Dice: 0.1496981382369995 Current Avg. tumor Dice: 0.2597321569919586 Current Avg. lymph Dice: 0.009507391601800919\n"
     ]
    },
    {
     "name": "stderr",
     "output_type": "stream",
     "text": [
      "Training (2345 / 18000 Steps) (loss=0.58119): 100%|██████████| 102/102 [06:40<00:00,  3.93s/it] \n",
      "Validate (2346 / 10 Steps): 100%|██████████| 25/25 [04:29<00:00, 10.78s/it]9<00:59,  1.24s/it]\n",
      "Training (2400 / 18000 Steps) (loss=0.45073):  54%|█████▍    | 55/102 [05:39<1:04:19, 82.12s/it]"
     ]
    },
    {
     "name": "stdout",
     "output_type": "stream",
     "text": [
      "Model Was Not Saved ! Current Best Avg. Dice: 0.2780369222164154 Current Avg. Dice: 0.15115976333618164 Current Avg. tumor Dice: 0.2659323811531067 Current Avg. lymph Dice: 0.0022044724319130182\n"
     ]
    },
    {
     "name": "stderr",
     "output_type": "stream",
     "text": [
      "Training (2447 / 18000 Steps) (loss=0.67055): 100%|██████████| 102/102 [06:38<00:00,  3.90s/it] \n",
      "Validate (2448 / 10 Steps): 100%|██████████| 25/25 [04:27<00:00, 10.68s/it]8<00:59,  1.19s/it]\n",
      "Training (2500 / 18000 Steps) (loss=0.43236):  52%|█████▏    | 53/102 [05:35<1:06:27, 81.37s/it]"
     ]
    },
    {
     "name": "stdout",
     "output_type": "stream",
     "text": [
      "Model Was Not Saved ! Current Best Avg. Dice: 0.2780369222164154 Current Avg. Dice: 0.15182697772979736 Current Avg. tumor Dice: 0.2681364417076111 Current Avg. lymph Dice: 0.008451107889413834\n"
     ]
    },
    {
     "name": "stderr",
     "output_type": "stream",
     "text": [
      "Training (2549 / 18000 Steps) (loss=0.52383): 100%|██████████| 102/102 [06:37<00:00,  3.89s/it] \n",
      "Validate (2550 / 10 Steps): 100%|██████████| 25/25 [04:22<00:00, 10.49s/it]8<01:03,  1.22s/it]\n",
      "Training (2600 / 18000 Steps) (loss=0.50689):  50%|█████     | 51/102 [05:30<1:07:56, 79.93s/it]"
     ]
    },
    {
     "name": "stdout",
     "output_type": "stream",
     "text": [
      "Model Was Not Saved ! Current Best Avg. Dice: 0.2780369222164154 Current Avg. Dice: 0.12912119925022125 Current Avg. tumor Dice: 0.21156595647335052 Current Avg. lymph Dice: 0.026291683316230774\n"
     ]
    },
    {
     "name": "stderr",
     "output_type": "stream",
     "text": [
      "Training (2651 / 18000 Steps) (loss=0.66854): 100%|██████████| 102/102 [06:35<00:00,  3.87s/it] \n",
      "Validate (2652 / 10 Steps): 100%|██████████| 25/25 [04:21<00:00, 10.46s/it]6<01:08,  1.27s/it]\n",
      "Training (2700 / 18000 Steps) (loss=0.45532):  48%|████▊     | 49/102 [05:27<1:10:28, 79.79s/it]"
     ]
    },
    {
     "name": "stdout",
     "output_type": "stream",
     "text": [
      "Model Was Not Saved ! Current Best Avg. Dice: 0.2780369222164154 Current Avg. Dice: 0.12115363776683807 Current Avg. tumor Dice: 0.1982744336128235 Current Avg. lymph Dice: 0.027227051556110382\n"
     ]
    },
    {
     "name": "stderr",
     "output_type": "stream",
     "text": [
      "Training (2753 / 18000 Steps) (loss=0.37558): 100%|██████████| 102/102 [06:34<00:00,  3.87s/it] \n",
      "Validate (2754 / 10 Steps): 100%|██████████| 25/25 [04:19<00:00, 10.38s/it]3<01:10,  1.25s/it]\n",
      "Training (2800 / 18000 Steps) (loss=0.66708):  46%|████▌     | 47/102 [05:23<1:12:33, 79.15s/it]"
     ]
    },
    {
     "name": "stdout",
     "output_type": "stream",
     "text": [
      "Model Was Not Saved ! Current Best Avg. Dice: 0.2780369222164154 Current Avg. Dice: 0.08064895868301392 Current Avg. tumor Dice: 0.0996614396572113 Current Avg. lymph Dice: 0.05894333869218826\n"
     ]
    },
    {
     "name": "stderr",
     "output_type": "stream",
     "text": [
      "Training (2855 / 18000 Steps) (loss=0.57590): 100%|██████████| 102/102 [06:33<00:00,  3.85s/it] \n",
      "Validate (2856 / 10 Steps): 100%|██████████| 25/25 [03:56<00:00,  9.48s/it]1<01:16,  1.31s/it]\n",
      "Training (2900 / 18000 Steps) (loss=0.25267):  44%|████▍     | 45/102 [04:58<1:08:45, 72.38s/it]"
     ]
    },
    {
     "name": "stdout",
     "output_type": "stream",
     "text": [
      "Model Was Not Saved ! Current Best Avg. Dice: 0.2780369222164154 Current Avg. Dice: 0.14181974530220032 Current Avg. tumor Dice: 0.25069305300712585 Current Avg. lymph Dice: 0.007185388822108507\n"
     ]
    },
    {
     "name": "stderr",
     "output_type": "stream",
     "text": [
      "Training (2957 / 18000 Steps) (loss=0.27382): 100%|██████████| 102/102 [05:27<00:00,  3.21s/it] \n",
      "Validate (2958 / 10 Steps): 100%|██████████| 25/25 [01:33<00:00,  3.73s/it]6<00:32,  1.86it/s]\n",
      "Training (3000 / 18000 Steps) (loss=0.52351):  42%|████▏     | 43/102 [02:00<28:01, 28.50s/it]"
     ]
    },
    {
     "name": "stdout",
     "output_type": "stream",
     "text": [
      "Model Was Not Saved ! Current Best Avg. Dice: 0.2780369222164154 Current Avg. Dice: 0.10747445374727249 Current Avg. tumor Dice: 0.1746976673603058 Current Avg. lymph Dice: 0.017778830602765083\n"
     ]
    },
    {
     "name": "stderr",
     "output_type": "stream",
     "text": [
      "Training (3059 / 18000 Steps) (loss=0.48307): 100%|██████████| 102/102 [02:30<00:00,  1.48s/it]\n",
      "Validate (3060 / 10 Steps): 100%|██████████| 25/25 [01:34<00:00,  3.79s/it]5<00:29,  2.10it/s]\n",
      "Training (3100 / 18000 Steps) (loss=0.30429):  40%|████      | 41/102 [02:00<29:27, 28.98s/it]"
     ]
    },
    {
     "name": "stdout",
     "output_type": "stream",
     "text": [
      "Model Was Not Saved ! Current Best Avg. Dice: 0.2780369222164154 Current Avg. Dice: 0.12584325671195984 Current Avg. tumor Dice: 0.22265847027301788 Current Avg. lymph Dice: 0.002806729404255748\n"
     ]
    },
    {
     "name": "stderr",
     "output_type": "stream",
     "text": [
      "Training (3161 / 18000 Steps) (loss=0.32654): 100%|██████████| 102/102 [02:30<00:00,  1.48s/it]\n",
      "Validate (3162 / 10 Steps): 100%|██████████| 25/25 [01:35<00:00,  3.82s/it]4<00:30,  2.08it/s]\n",
      "Training (3200 / 18000 Steps) (loss=0.33844):  38%|███▊      | 39/102 [02:00<30:39, 29.19s/it]"
     ]
    },
    {
     "name": "stdout",
     "output_type": "stream",
     "text": [
      "Model Was Not Saved ! Current Best Avg. Dice: 0.2780369222164154 Current Avg. Dice: 0.13274450600147247 Current Avg. tumor Dice: 0.1793510615825653 Current Avg. lymph Dice: 0.07798308879137039\n"
     ]
    },
    {
     "name": "stderr",
     "output_type": "stream",
     "text": [
      "Training (3263 / 18000 Steps) (loss=0.36506): 100%|██████████| 102/102 [02:31<00:00,  1.49s/it]\n",
      "Validate (3264 / 10 Steps): 100%|██████████| 25/25 [01:34<00:00,  3.78s/it]3<00:34,  1.89it/s]\n",
      "Training (3300 / 18000 Steps) (loss=0.59177):  36%|███▋      | 37/102 [01:58<31:18, 28.89s/it]"
     ]
    },
    {
     "name": "stdout",
     "output_type": "stream",
     "text": [
      "Model Was Not Saved ! Current Best Avg. Dice: 0.2780369222164154 Current Avg. Dice: 0.09910014271736145 Current Avg. tumor Dice: 0.17756317555904388 Current Avg. lymph Dice: 0.0015002742875367403\n"
     ]
    },
    {
     "name": "stderr",
     "output_type": "stream",
     "text": [
      "Training (3365 / 18000 Steps) (loss=0.37069): 100%|██████████| 102/102 [02:30<00:00,  1.48s/it]\n",
      "Validate (3366 / 10 Steps): 100%|██████████| 25/25 [01:35<00:00,  3.80s/it]2<00:43,  1.55it/s]\n",
      "Training (3400 / 18000 Steps) (loss=0.24681):  34%|███▍      | 35/102 [01:57<32:30, 29.11s/it]"
     ]
    },
    {
     "name": "stdout",
     "output_type": "stream",
     "text": [
      "Model Was Not Saved ! Current Best Avg. Dice: 0.2780369222164154 Current Avg. Dice: 0.13595934212207794 Current Avg. tumor Dice: 0.23648390173912048 Current Avg. lymph Dice: 0.0028116388712078333\n"
     ]
    },
    {
     "name": "stderr",
     "output_type": "stream",
     "text": [
      "Training (3467 / 18000 Steps) (loss=0.54811): 100%|██████████| 102/102 [02:29<00:00,  1.47s/it]\n",
      "Validate (3468 / 10 Steps): 100%|██████████| 25/25 [01:35<00:00,  3.82s/it]1<00:32,  2.17it/s]\n",
      "Training (3500 / 18000 Steps) (loss=0.54909):  32%|███▏      | 33/102 [01:57<33:33, 29.17s/it]"
     ]
    },
    {
     "name": "stdout",
     "output_type": "stream",
     "text": [
      "Model Was Not Saved ! Current Best Avg. Dice: 0.2780369222164154 Current Avg. Dice: 0.11850082874298096 Current Avg. tumor Dice: 0.2043524831533432 Current Avg. lymph Dice: 0.00402796221897006\n"
     ]
    },
    {
     "name": "stderr",
     "output_type": "stream",
     "text": [
      "Training (3569 / 18000 Steps) (loss=0.66083): 100%|██████████| 102/102 [02:30<00:00,  1.47s/it]\n",
      "Validate (3570 / 10 Steps): 100%|██████████| 25/25 [01:34<00:00,  3.79s/it]0<00:33,  2.15it/s]\n",
      "Training (3600 / 18000 Steps) (loss=0.53884):  30%|███       | 31/102 [01:54<34:09, 28.87s/it]"
     ]
    },
    {
     "name": "stdout",
     "output_type": "stream",
     "text": [
      "Model Was Not Saved ! Current Best Avg. Dice: 0.2780369222164154 Current Avg. Dice: 0.09734852612018585 Current Avg. tumor Dice: 0.1555410921573639 Current Avg. lymph Dice: 0.023714205250144005\n"
     ]
    },
    {
     "name": "stderr",
     "output_type": "stream",
     "text": [
      "Training (3671 / 18000 Steps) (loss=0.66788): 100%|██████████| 102/102 [02:29<00:00,  1.47s/it]\n",
      "Validate (3672 / 10 Steps): 100%|██████████| 25/25 [01:35<00:00,  3.83s/it]9<00:38,  1.93it/s]\n",
      "Training (3700 / 18000 Steps) (loss=0.44272):  28%|██▊       | 29/102 [01:55<35:33, 29.23s/it]"
     ]
    },
    {
     "name": "stdout",
     "output_type": "stream",
     "text": [
      "Model Was Not Saved ! Current Best Avg. Dice: 0.2780369222164154 Current Avg. Dice: 0.10033342987298965 Current Avg. tumor Dice: 0.17523035407066345 Current Avg. lymph Dice: 0.00901364628225565\n"
     ]
    },
    {
     "name": "stderr",
     "output_type": "stream",
     "text": [
      "Training (3773 / 18000 Steps) (loss=0.42486): 100%|██████████| 102/102 [02:30<00:00,  1.47s/it]\n",
      "Validate (3774 / 10 Steps): 100%|██████████| 25/25 [01:35<00:00,  3.81s/it]7<00:39,  1.94it/s]\n",
      "Training (3800 / 18000 Steps) (loss=0.44767):  26%|██▋       | 27/102 [01:53<36:21, 29.08s/it]"
     ]
    },
    {
     "name": "stdout",
     "output_type": "stream",
     "text": [
      "Model Was Not Saved ! Current Best Avg. Dice: 0.2780369222164154 Current Avg. Dice: 0.14018148183822632 Current Avg. tumor Dice: 0.23493975400924683 Current Avg. lymph Dice: 0.01735556311905384\n"
     ]
    },
    {
     "name": "stderr",
     "output_type": "stream",
     "text": [
      "Training (3875 / 18000 Steps) (loss=0.54530): 100%|██████████| 102/102 [02:28<00:00,  1.45s/it]\n",
      "Validate (3876 / 10 Steps): 100%|██████████| 25/25 [01:33<00:00,  3.76s/it]6<00:33,  2.33it/s]\n",
      "Training (3900 / 18000 Steps) (loss=0.36062):  25%|██▍       | 25/102 [01:50<36:53, 28.75s/it]"
     ]
    },
    {
     "name": "stdout",
     "output_type": "stream",
     "text": [
      "Model Was Not Saved ! Current Best Avg. Dice: 0.2780369222164154 Current Avg. Dice: 0.08228997141122818 Current Avg. tumor Dice: 0.1052982360124588 Current Avg. lymph Dice: 0.0447206124663353\n"
     ]
    },
    {
     "name": "stderr",
     "output_type": "stream",
     "text": [
      "Training (3977 / 18000 Steps) (loss=0.43214): 100%|██████████| 102/102 [02:27<00:00,  1.44s/it]\n",
      "Validate (3978 / 10 Steps): 100%|██████████| 25/25 [01:33<00:00,  3.75s/it]5<00:36,  2.18it/s]\n",
      "Training (4000 / 18000 Steps) (loss=0.54195):  23%|██▎       | 23/102 [01:49<37:36, 28.56s/it]"
     ]
    },
    {
     "name": "stdout",
     "output_type": "stream",
     "text": [
      "Model Was Not Saved ! Current Best Avg. Dice: 0.2780369222164154 Current Avg. Dice: 0.16167882084846497 Current Avg. tumor Dice: 0.28903359174728394 Current Avg. lymph Dice: 0.0007583993719890714\n"
     ]
    },
    {
     "name": "stderr",
     "output_type": "stream",
     "text": [
      "Training (4079 / 18000 Steps) (loss=0.51537): 100%|██████████| 102/102 [02:28<00:00,  1.45s/it]\n",
      "Validate (4080 / 10 Steps): 100%|██████████| 25/25 [01:33<00:00,  3.74s/it]4<00:38,  2.14it/s]\n",
      "Training (4100 / 18000 Steps) (loss=0.71935):  21%|██        | 21/102 [01:47<38:33, 28.56s/it]"
     ]
    },
    {
     "name": "stdout",
     "output_type": "stream",
     "text": [
      "Model Was Not Saved ! Current Best Avg. Dice: 0.2780369222164154 Current Avg. Dice: 0.17461815476417542 Current Avg. tumor Dice: 0.3072018325328827 Current Avg. lymph Dice: 2.4964581371023087e-06\n"
     ]
    },
    {
     "name": "stderr",
     "output_type": "stream",
     "text": [
      "Training (4181 / 18000 Steps) (loss=0.45726): 100%|██████████| 102/102 [02:27<00:00,  1.44s/it]\n",
      "Validate (4182 / 10 Steps): 100%|██████████| 25/25 [01:34<00:00,  3.78s/it]4<00:47,  1.78it/s]\n",
      "Training (4200 / 18000 Steps) (loss=0.41207):  19%|█▊        | 19/102 [01:48<39:59, 28.91s/it]"
     ]
    },
    {
     "name": "stdout",
     "output_type": "stream",
     "text": [
      "Model Was Not Saved ! Current Best Avg. Dice: 0.2780369222164154 Current Avg. Dice: 0.12689709663391113 Current Avg. tumor Dice: 0.22475779056549072 Current Avg. lymph Dice: 0.0040510003454983234\n"
     ]
    },
    {
     "name": "stderr",
     "output_type": "stream",
     "text": [
      "Training (4283 / 18000 Steps) (loss=0.43723): 100%|██████████| 102/102 [02:29<00:00,  1.47s/it]\n",
      "Validate (4284 / 10 Steps): 100%|██████████| 25/25 [01:34<00:00,  3.79s/it]3<00:38,  2.22it/s]\n",
      "Training (4300 / 18000 Steps) (loss=0.44801):  17%|█▋        | 17/102 [01:48<41:23, 29.22s/it]"
     ]
    },
    {
     "name": "stdout",
     "output_type": "stream",
     "text": [
      "Model Was Not Saved ! Current Best Avg. Dice: 0.2780369222164154 Current Avg. Dice: 0.11160854250192642 Current Avg. tumor Dice: 0.18675017356872559 Current Avg. lymph Dice: 0.017956754192709923\n"
     ]
    },
    {
     "name": "stderr",
     "output_type": "stream",
     "text": [
      "Training (4385 / 18000 Steps) (loss=0.43821): 100%|██████████| 102/102 [02:29<00:00,  1.47s/it]\n",
      "Validate (4386 / 10 Steps): 100%|██████████| 25/25 [01:34<00:00,  3.79s/it]1<00:40,  2.18it/s]\n",
      "Training (4400 / 18000 Steps) (loss=0.42507):  15%|█▍        | 15/102 [01:46<42:05, 29.02s/it]"
     ]
    },
    {
     "name": "stdout",
     "output_type": "stream",
     "text": [
      "Model Was Not Saved ! Current Best Avg. Dice: 0.2780369222164154 Current Avg. Dice: 0.1148037537932396 Current Avg. tumor Dice: 0.20344987511634827 Current Avg. lymph Dice: 0.0017360440688207746\n"
     ]
    },
    {
     "name": "stderr",
     "output_type": "stream",
     "text": [
      "Training (4487 / 18000 Steps) (loss=0.39080): 100%|██████████| 102/102 [02:28<00:00,  1.45s/it]\n",
      "Validate (4488 / 10 Steps): 100%|██████████| 25/25 [01:34<00:00,  3.79s/it]0<00:49,  1.83it/s]\n",
      "Training (4500 / 18000 Steps) (loss=0.26052):  13%|█▎        | 13/102 [01:45<43:19, 29.21s/it]"
     ]
    },
    {
     "name": "stdout",
     "output_type": "stream",
     "text": [
      "Model Was Not Saved ! Current Best Avg. Dice: 0.2780369222164154 Current Avg. Dice: 0.07735417783260345 Current Avg. tumor Dice: 0.13853271305561066 Current Avg. lymph Dice: 0.00022542594524566084\n"
     ]
    },
    {
     "name": "stderr",
     "output_type": "stream",
     "text": [
      "Training (4589 / 18000 Steps) (loss=0.29292): 100%|██████████| 102/102 [02:27<00:00,  1.45s/it]\n",
      "Validate (4590 / 10 Steps): 100%|██████████| 25/25 [01:33<00:00,  3.76s/it]9<00:57,  1.59it/s]\n",
      "Training (4600 / 18000 Steps) (loss=0.43122):  11%|█         | 11/102 [01:43<44:36, 29.41s/it]"
     ]
    },
    {
     "name": "stdout",
     "output_type": "stream",
     "text": [
      "Model Was Not Saved ! Current Best Avg. Dice: 0.2780369222164154 Current Avg. Dice: 0.10501129925251007 Current Avg. tumor Dice: 0.1672142744064331 Current Avg. lymph Dice: 0.021302243694663048\n"
     ]
    },
    {
     "name": "stderr",
     "output_type": "stream",
     "text": [
      "Training (4691 / 18000 Steps) (loss=0.61551): 100%|██████████| 102/102 [02:27<00:00,  1.45s/it]\n",
      "Validate (4692 / 10 Steps): 100%|██████████| 25/25 [01:33<00:00,  3.74s/it]<00:53,  1.76it/s]\n",
      "Training (4700 / 18000 Steps) (loss=0.53162):   9%|▉         | 9/102 [01:42<46:11, 29.81s/it]"
     ]
    },
    {
     "name": "stdout",
     "output_type": "stream",
     "text": [
      "Model Was Not Saved ! Current Best Avg. Dice: 0.2780369222164154 Current Avg. Dice: 0.14240975677967072 Current Avg. tumor Dice: 0.24894103407859802 Current Avg. lymph Dice: 0.004135077353566885\n"
     ]
    },
    {
     "name": "stderr",
     "output_type": "stream",
     "text": [
      "Training (4793 / 18000 Steps) (loss=0.59261): 100%|██████████| 102/102 [02:27<00:00,  1.45s/it]\n",
      "Validate (4794 / 10 Steps): 100%|██████████| 25/25 [01:34<00:00,  3.78s/it]<01:09,  1.39it/s]\n",
      "Training (4800 / 18000 Steps) (loss=0.57698):   7%|▋         | 7/102 [01:42<49:56, 31.54s/it]"
     ]
    },
    {
     "name": "stdout",
     "output_type": "stream",
     "text": [
      "Model Was Not Saved ! Current Best Avg. Dice: 0.2780369222164154 Current Avg. Dice: 0.11819346994161606 Current Avg. tumor Dice: 0.1694263517856598 Current Avg. lymph Dice: 0.05231933668255806\n"
     ]
    },
    {
     "name": "stderr",
     "output_type": "stream",
     "text": [
      "Training (4895 / 18000 Steps) (loss=0.54624): 100%|██████████| 102/102 [02:29<00:00,  1.46s/it]\n",
      "Validate (4896 / 10 Steps): 100%|██████████| 25/25 [01:34<00:00,  3.77s/it]<01:43,  1.05s/it]\n",
      "Training (4900 / 18000 Steps) (loss=0.27013):   5%|▍         | 5/102 [01:40<56:17, 34.82s/it]"
     ]
    },
    {
     "name": "stdout",
     "output_type": "stream",
     "text": [
      "Model Was Not Saved ! Current Best Avg. Dice: 0.2780369222164154 Current Avg. Dice: 0.13524693250656128 Current Avg. tumor Dice: 0.1733972132205963 Current Avg. lymph Dice: 0.08720644563436508\n"
     ]
    },
    {
     "name": "stderr",
     "output_type": "stream",
     "text": [
      "Training (4997 / 18000 Steps) (loss=0.56261): 100%|██████████| 102/102 [02:30<00:00,  1.47s/it]\n",
      "Validate (4998 / 10 Steps): 100%|██████████| 25/25 [01:33<00:00,  3.74s/it]<03:59,  2.40s/it]\n",
      "Training (5000 / 18000 Steps) (loss=0.58716):   3%|▎         | 3/102 [01:39<1:13:01, 44.26s/it]"
     ]
    },
    {
     "name": "stdout",
     "output_type": "stream",
     "text": [
      "Model Was Not Saved ! Current Best Avg. Dice: 0.2780369222164154 Current Avg. Dice: 0.14831970632076263 Current Avg. tumor Dice: 0.2452704757452011 Current Avg. lymph Dice: 0.02607298083603382\n"
     ]
    },
    {
     "name": "stderr",
     "output_type": "stream",
     "text": [
      "Training (5099 / 18000 Steps) (loss=0.44011): 100%|██████████| 102/102 [02:31<00:00,  1.48s/it]\n",
      "Validate (5100 / 10 Steps): 100%|██████████| 25/25 [01:33<00:00,  3.73s/it]<?, ?it/s]\n",
      "Training (5100 / 18000 Steps) (loss=0.41007):   1%|          | 1/102 [01:38<2:45:28, 98.30s/it]"
     ]
    },
    {
     "name": "stdout",
     "output_type": "stream",
     "text": [
      "Model Was Not Saved ! Current Best Avg. Dice: 0.2780369222164154 Current Avg. Dice: 0.1142057329416275 Current Avg. tumor Dice: 0.15888437628746033 Current Avg. lymph Dice: 0.04757867753505707\n"
     ]
    },
    {
     "name": "stderr",
     "output_type": "stream",
     "text": [
      "Validate (5100 / 10 Steps): 100%|██████████| 25/25 [01:34<00:00,  3.76s/it]30<00:00,  2.08it/s]\n",
      "Training (5200 / 18000 Steps) (loss=0.40829):  99%|█████████▉| 101/102 [04:04<00:28, 28.74s/it]"
     ]
    },
    {
     "name": "stdout",
     "output_type": "stream",
     "text": [
      "Model Was Not Saved ! Current Best Avg. Dice: 0.2780369222164154 Current Avg. Dice: 0.15749450027942657 Current Avg. tumor Dice: 0.26427531242370605 Current Avg. lymph Dice: 0.012802338227629662\n"
     ]
    },
    {
     "name": "stderr",
     "output_type": "stream",
     "text": [
      "Training (5201 / 18000 Steps) (loss=0.53276): 100%|██████████| 102/102 [04:05<00:00,  2.41s/it]\n",
      "Validate (5202 / 10 Steps): 100%|██████████| 25/25 [01:33<00:00,  3.76s/it]5<00:02,  1.89it/s]\n",
      "Training (5300 / 18000 Steps) (loss=0.58160):  97%|█████████▋| 99/102 [02:29<01:26, 28.68s/it]"
     ]
    },
    {
     "name": "stdout",
     "output_type": "stream",
     "text": [
      "Model Was Not Saved ! Current Best Avg. Dice: 0.2780369222164154 Current Avg. Dice: 0.13501550257205963 Current Avg. tumor Dice: 0.2329109013080597 Current Avg. lymph Dice: 0.01441726554185152\n"
     ]
    },
    {
     "name": "stderr",
     "output_type": "stream",
     "text": [
      "Training (5303 / 18000 Steps) (loss=0.40768): 100%|██████████| 102/102 [02:30<00:00,  1.48s/it]\n",
      "Validate (5304 / 10 Steps): 100%|██████████| 25/25 [01:34<00:00,  3.76s/it]3<00:02,  2.05it/s]\n",
      "Training (5400 / 18000 Steps) (loss=0.53402):  95%|█████████▌| 97/102 [02:27<02:23, 28.73s/it]"
     ]
    },
    {
     "name": "stdout",
     "output_type": "stream",
     "text": [
      "Model Was Not Saved ! Current Best Avg. Dice: 0.2780369222164154 Current Avg. Dice: 0.09912145137786865 Current Avg. tumor Dice: 0.14990875124931335 Current Avg. lymph Dice: 0.0236833356320858\n"
     ]
    },
    {
     "name": "stderr",
     "output_type": "stream",
     "text": [
      "Training (5405 / 18000 Steps) (loss=0.65503): 100%|██████████| 102/102 [02:30<00:00,  1.47s/it]\n",
      "Validate (5406 / 10 Steps): 100%|██████████| 25/25 [01:35<00:00,  3.81s/it]2<00:04,  1.97it/s]\n",
      "Training (5500 / 18000 Steps) (loss=0.66374):  93%|█████████▎| 95/102 [02:27<03:23, 29.05s/it]"
     ]
    },
    {
     "name": "stdout",
     "output_type": "stream",
     "text": [
      "Model Was Not Saved ! Current Best Avg. Dice: 0.2780369222164154 Current Avg. Dice: 0.10760428756475449 Current Avg. tumor Dice: 0.15680277347564697 Current Avg. lymph Dice: 0.03527912124991417\n"
     ]
    },
    {
     "name": "stderr",
     "output_type": "stream",
     "text": [
      "Training (5507 / 18000 Steps) (loss=0.51188): 100%|██████████| 102/102 [02:30<00:00,  1.48s/it]\n",
      "Validate (5508 / 10 Steps): 100%|██████████| 25/25 [01:34<00:00,  3.79s/it]0<00:04,  2.08it/s]\n",
      "Training (5600 / 18000 Steps) (loss=0.41961):  91%|█████████ | 93/102 [02:25<04:19, 28.88s/it]"
     ]
    },
    {
     "name": "stdout",
     "output_type": "stream",
     "text": [
      "Model Was Not Saved ! Current Best Avg. Dice: 0.2780369222164154 Current Avg. Dice: 0.12561804056167603 Current Avg. tumor Dice: 0.19990718364715576 Current Avg. lymph Dice: 0.020176462829113007\n"
     ]
    },
    {
     "name": "stderr",
     "output_type": "stream",
     "text": [
      "Training (5609 / 18000 Steps) (loss=0.36569): 100%|██████████| 102/102 [02:29<00:00,  1.47s/it]\n",
      "Validate (5610 / 10 Steps): 100%|██████████| 25/25 [01:34<00:00,  3.78s/it]8<00:05,  2.09it/s]\n",
      "Training (5700 / 18000 Steps) (loss=0.31082):  89%|████████▉ | 91/102 [02:23<05:17, 28.83s/it]"
     ]
    },
    {
     "name": "stdout",
     "output_type": "stream",
     "text": [
      "Model Was Not Saved ! Current Best Avg. Dice: 0.2780369222164154 Current Avg. Dice: 0.088554248213768 Current Avg. tumor Dice: 0.13032355904579163 Current Avg. lymph Dice: 0.02739500254392624\n"
     ]
    },
    {
     "name": "stderr",
     "output_type": "stream",
     "text": [
      "Training (5711 / 18000 Steps) (loss=0.65226): 100%|██████████| 102/102 [02:28<00:00,  1.46s/it]\n",
      "Validate (5712 / 10 Steps): 100%|██████████| 25/25 [01:34<00:00,  3.78s/it]8<00:06,  2.05it/s]\n",
      "Training (5800 / 18000 Steps) (loss=0.44523):  87%|████████▋ | 89/102 [02:22<06:15, 28.87s/it]"
     ]
    },
    {
     "name": "stdout",
     "output_type": "stream",
     "text": [
      "Model Was Not Saved ! Current Best Avg. Dice: 0.2780369222164154 Current Avg. Dice: 0.1671283096075058 Current Avg. tumor Dice: 0.2945343255996704 Current Avg. lymph Dice: 0.0013287578476592898\n"
     ]
    },
    {
     "name": "stderr",
     "output_type": "stream",
     "text": [
      "Training (5813 / 18000 Steps) (loss=0.40956): 100%|██████████| 102/102 [02:29<00:00,  1.46s/it]\n",
      "Validate (5814 / 10 Steps): 100%|██████████| 25/25 [01:34<00:00,  3.78s/it]6<00:07,  2.15it/s]\n",
      "Training (5900 / 18000 Steps) (loss=0.47713):  85%|████████▌ | 87/102 [02:20<07:13, 28.87s/it]"
     ]
    },
    {
     "name": "stdout",
     "output_type": "stream",
     "text": [
      "Model Was Not Saved ! Current Best Avg. Dice: 0.2780369222164154 Current Avg. Dice: 0.09845132380723953 Current Avg. tumor Dice: 0.13992422819137573 Current Avg. lymph Dice: 0.032899655401706696\n"
     ]
    },
    {
     "name": "stderr",
     "output_type": "stream",
     "text": [
      "Training (5915 / 18000 Steps) (loss=0.24679): 100%|██████████| 102/102 [02:28<00:00,  1.45s/it]\n",
      "Validate (5916 / 10 Steps): 100%|██████████| 25/25 [01:34<00:00,  3.79s/it]6<00:08,  2.13it/s]\n",
      "Training (6000 / 18000 Steps) (loss=0.49919):  83%|████████▎ | 85/102 [02:21<08:11, 28.89s/it]"
     ]
    },
    {
     "name": "stdout",
     "output_type": "stream",
     "text": [
      "Model Was Not Saved ! Current Best Avg. Dice: 0.2780369222164154 Current Avg. Dice: 0.13840655982494354 Current Avg. tumor Dice: 0.23447927832603455 Current Avg. lymph Dice: 0.021971654146909714\n"
     ]
    },
    {
     "name": "stderr",
     "output_type": "stream",
     "text": [
      "Training (6017 / 18000 Steps) (loss=0.55855): 100%|██████████| 102/102 [02:29<00:00,  1.46s/it]\n",
      "Validate (6018 / 10 Steps): 100%|██████████| 25/25 [01:34<00:00,  3.78s/it]5<00:09,  2.10it/s]\n",
      "Training (6100 / 18000 Steps) (loss=0.67134):  81%|████████▏ | 83/102 [02:20<09:08, 28.86s/it]"
     ]
    },
    {
     "name": "stdout",
     "output_type": "stream",
     "text": [
      "Model Was Not Saved ! Current Best Avg. Dice: 0.2780369222164154 Current Avg. Dice: 0.10814729332923889 Current Avg. tumor Dice: 0.1876344531774521 Current Avg. lymph Dice: 0.00045087296166457236\n"
     ]
    },
    {
     "name": "stderr",
     "output_type": "stream",
     "text": [
      "Training (6119 / 18000 Steps) (loss=0.47817): 100%|██████████| 102/102 [02:29<00:00,  1.47s/it]\n",
      "Validate (6120 / 10 Steps): 100%|██████████| 25/25 [01:34<00:00,  3.77s/it]5<00:10,  2.03it/s]\n",
      "Training (6200 / 18000 Steps) (loss=0.33492):  79%|███████▉  | 81/102 [02:19<10:05, 28.82s/it]"
     ]
    },
    {
     "name": "stdout",
     "output_type": "stream",
     "text": [
      "Model Was Not Saved ! Current Best Avg. Dice: 0.2780369222164154 Current Avg. Dice: 0.0560062937438488 Current Avg. tumor Dice: 0.08480247110128403 Current Avg. lymph Dice: 0.020962102338671684\n"
     ]
    },
    {
     "name": "stderr",
     "output_type": "stream",
     "text": [
      "Training (6221 / 18000 Steps) (loss=0.58135): 100%|██████████| 102/102 [02:29<00:00,  1.47s/it]\n",
      "Validate (6222 / 10 Steps): 100%|██████████| 25/25 [01:34<00:00,  3.77s/it]4<00:11,  2.08it/s]\n",
      "Training (6300 / 18000 Steps) (loss=0.56337):  77%|███████▋  | 79/102 [02:18<11:01, 28.74s/it]"
     ]
    },
    {
     "name": "stdout",
     "output_type": "stream",
     "text": [
      "Model Was Not Saved ! Current Best Avg. Dice: 0.2780369222164154 Current Avg. Dice: 0.0584365651011467 Current Avg. tumor Dice: 0.07307875156402588 Current Avg. lymph Dice: 0.02637520805001259\n"
     ]
    },
    {
     "name": "stderr",
     "output_type": "stream",
     "text": [
      "Training (6323 / 18000 Steps) (loss=0.58190): 100%|██████████| 102/102 [02:29<00:00,  1.47s/it]\n",
      "Validate (6324 / 10 Steps): 100%|██████████| 25/25 [01:34<00:00,  3.78s/it]3<00:13,  1.95it/s]\n",
      "Training (6400 / 18000 Steps) (loss=0.57990):  75%|███████▌  | 77/102 [02:17<12:00, 28.83s/it]"
     ]
    },
    {
     "name": "stdout",
     "output_type": "stream",
     "text": [
      "Model Was Not Saved ! Current Best Avg. Dice: 0.2780369222164154 Current Avg. Dice: 0.17578810453414917 Current Avg. tumor Dice: 0.3070880174636841 Current Avg. lymph Dice: 0.0033219328615814447\n"
     ]
    },
    {
     "name": "stderr",
     "output_type": "stream",
     "text": [
      "Training (6425 / 18000 Steps) (loss=0.48500): 100%|██████████| 102/102 [02:29<00:00,  1.47s/it]\n",
      "Validate (6426 / 10 Steps): 100%|██████████| 25/25 [01:34<00:00,  3.79s/it]1<00:14,  2.00it/s]\n",
      "Training (6500 / 18000 Steps) (loss=0.40912):  74%|███████▎  | 75/102 [02:15<13:01, 28.96s/it]"
     ]
    },
    {
     "name": "stdout",
     "output_type": "stream",
     "text": [
      "Model Was Not Saved ! Current Best Avg. Dice: 0.2780369222164154 Current Avg. Dice: 0.12105778604745865 Current Avg. tumor Dice: 0.19142569601535797 Current Avg. lymph Dice: 0.013680782169103622\n"
     ]
    },
    {
     "name": "stderr",
     "output_type": "stream",
     "text": [
      "Training (6527 / 18000 Steps) (loss=0.46821): 100%|██████████| 102/102 [02:29<00:00,  1.46s/it]\n",
      "Validate (6528 / 10 Steps): 100%|██████████| 25/25 [01:33<00:00,  3.76s/it]0<00:14,  2.03it/s]\n",
      "Training (6600 / 18000 Steps) (loss=0.68957):  72%|███████▏  | 73/102 [02:14<13:52, 28.72s/it]"
     ]
    },
    {
     "name": "stdout",
     "output_type": "stream",
     "text": [
      "Model Was Not Saved ! Current Best Avg. Dice: 0.2780369222164154 Current Avg. Dice: 0.12519077956676483 Current Avg. tumor Dice: 0.19542033970355988 Current Avg. lymph Dice: 0.021522510796785355\n"
     ]
    },
    {
     "name": "stderr",
     "output_type": "stream",
     "text": [
      "Training (6629 / 18000 Steps) (loss=0.74385): 100%|██████████| 102/102 [02:29<00:00,  1.47s/it]\n",
      "Validate (6630 / 10 Steps): 100%|██████████| 25/25 [01:34<00:00,  3.77s/it]8<00:15,  2.05it/s]\n",
      "Training (6700 / 18000 Steps) (loss=0.49019):  70%|██████▉   | 71/102 [02:12<14:51, 28.76s/it]"
     ]
    },
    {
     "name": "stdout",
     "output_type": "stream",
     "text": [
      "Model Was Not Saved ! Current Best Avg. Dice: 0.2780369222164154 Current Avg. Dice: 0.10869162529706955 Current Avg. tumor Dice: 0.1762019693851471 Current Avg. lymph Dice: 0.010546375066041946\n"
     ]
    },
    {
     "name": "stderr",
     "output_type": "stream",
     "text": [
      "Training (6731 / 18000 Steps) (loss=0.66651): 100%|██████████| 102/102 [02:27<00:00,  1.45s/it]\n",
      "Validate (6732 / 10 Steps): 100%|██████████| 25/25 [01:33<00:00,  3.76s/it]8<00:16,  2.07it/s]\n",
      "Training (6800 / 18000 Steps) (loss=0.55831):  68%|██████▊   | 69/102 [02:12<15:46, 28.67s/it]"
     ]
    },
    {
     "name": "stdout",
     "output_type": "stream",
     "text": [
      "Model Was Not Saved ! Current Best Avg. Dice: 0.2780369222164154 Current Avg. Dice: 0.10771018266677856 Current Avg. tumor Dice: 0.1668238788843155 Current Avg. lymph Dice: 0.013505633920431137\n"
     ]
    },
    {
     "name": "stderr",
     "output_type": "stream",
     "text": [
      "Training (6833 / 18000 Steps) (loss=0.51355): 100%|██████████| 102/102 [02:29<00:00,  1.46s/it]\n",
      "Validate (6834 / 10 Steps): 100%|██████████| 25/25 [01:34<00:00,  3.76s/it]8<00:19,  1.89it/s]\n",
      "Training (6900 / 18000 Steps) (loss=0.26625):  66%|██████▌   | 67/102 [02:12<16:45, 28.73s/it]"
     ]
    },
    {
     "name": "stdout",
     "output_type": "stream",
     "text": [
      "Model Was Not Saved ! Current Best Avg. Dice: 0.2780369222164154 Current Avg. Dice: 0.176969513297081 Current Avg. tumor Dice: 0.2875090539455414 Current Avg. lymph Dice: 0.021791581064462662\n"
     ]
    },
    {
     "name": "stderr",
     "output_type": "stream",
     "text": [
      "Training (6935 / 18000 Steps) (loss=0.30839): 100%|██████████| 102/102 [02:30<00:00,  1.48s/it]\n",
      "Validate (6936 / 10 Steps): 100%|██████████| 25/25 [01:34<00:00,  3.78s/it]7<00:17,  2.13it/s]\n",
      "Training (7000 / 18000 Steps) (loss=0.32251):  64%|██████▎   | 65/102 [02:12<17:48, 28.89s/it]"
     ]
    },
    {
     "name": "stdout",
     "output_type": "stream",
     "text": [
      "Model Was Not Saved ! Current Best Avg. Dice: 0.2780369222164154 Current Avg. Dice: 0.1411440223455429 Current Avg. tumor Dice: 0.22945764660835266 Current Avg. lymph Dice: 0.01812422275543213\n"
     ]
    },
    {
     "name": "stderr",
     "output_type": "stream",
     "text": [
      "Training (7037 / 18000 Steps) (loss=0.45890): 100%|██████████| 102/102 [02:30<00:00,  1.48s/it]\n",
      "Validate (7038 / 10 Steps): 100%|██████████| 25/25 [01:33<00:00,  3.76s/it]8<00:20,  1.93it/s]\n",
      "Training (7100 / 18000 Steps) (loss=0.44707):  62%|██████▏   | 63/102 [02:12<18:39, 28.71s/it]"
     ]
    },
    {
     "name": "stdout",
     "output_type": "stream",
     "text": [
      "Model Was Not Saved ! Current Best Avg. Dice: 0.2780369222164154 Current Avg. Dice: 0.1473153531551361 Current Avg. tumor Dice: 0.24290968477725983 Current Avg. lymph Dice: 0.01653343252837658\n"
     ]
    },
    {
     "name": "stderr",
     "output_type": "stream",
     "text": [
      "Training (7139 / 18000 Steps) (loss=0.26854): 100%|██████████| 102/102 [02:32<00:00,  1.50s/it]\n",
      "Validate (7140 / 10 Steps): 100%|██████████| 25/25 [01:33<00:00,  3.74s/it]6<00:19,  2.19it/s]\n",
      "Training (7200 / 18000 Steps) (loss=0.35990):  60%|█████▉    | 61/102 [02:10<19:30, 28.56s/it]"
     ]
    },
    {
     "name": "stdout",
     "output_type": "stream",
     "text": [
      "Model Was Not Saved ! Current Best Avg. Dice: 0.2780369222164154 Current Avg. Dice: 0.10130808502435684 Current Avg. tumor Dice: 0.14354461431503296 Current Avg. lymph Dice: 0.037954848259687424\n"
     ]
    },
    {
     "name": "stderr",
     "output_type": "stream",
     "text": [
      "Training (7241 / 18000 Steps) (loss=0.49013): 100%|██████████| 102/102 [02:31<00:00,  1.48s/it]\n",
      "Validate (7242 / 10 Steps): 100%|██████████| 25/25 [01:35<00:00,  3.82s/it]6<00:26,  1.64it/s]\n",
      "Training (7300 / 18000 Steps) (loss=0.36070):  58%|█████▊    | 59/102 [02:12<20:58, 29.26s/it]"
     ]
    },
    {
     "name": "stdout",
     "output_type": "stream",
     "text": [
      "Model Was Not Saved ! Current Best Avg. Dice: 0.2780369222164154 Current Avg. Dice: 0.17675164341926575 Current Avg. tumor Dice: 0.2882557213306427 Current Avg. lymph Dice: 0.025591185316443443\n"
     ]
    },
    {
     "name": "stderr",
     "output_type": "stream",
     "text": [
      "Training (7343 / 18000 Steps) (loss=0.33369): 100%|██████████| 102/102 [02:33<00:00,  1.51s/it]\n",
      "Validate (7344 / 10 Steps): 100%|██████████| 25/25 [01:34<00:00,  3.80s/it]4<00:21,  2.17it/s]\n",
      "Training (7400 / 18000 Steps) (loss=0.50809):  56%|█████▌    | 57/102 [02:09<21:45, 29.01s/it]"
     ]
    },
    {
     "name": "stdout",
     "output_type": "stream",
     "text": [
      "Model Was Not Saved ! Current Best Avg. Dice: 0.2780369222164154 Current Avg. Dice: 0.15374848246574402 Current Avg. tumor Dice: 0.2470090687274933 Current Avg. lymph Dice: 0.02668260969221592\n"
     ]
    },
    {
     "name": "stderr",
     "output_type": "stream",
     "text": [
      "Training (7445 / 18000 Steps) (loss=0.55098): 100%|██████████| 102/102 [02:31<00:00,  1.48s/it]\n",
      "Validate (7446 / 10 Steps): 100%|██████████| 25/25 [01:34<00:00,  3.78s/it]3<00:23,  2.02it/s]\n",
      "Training (7500 / 18000 Steps) (loss=0.55981):  54%|█████▍    | 55/102 [02:08<22:36, 28.87s/it]"
     ]
    },
    {
     "name": "stdout",
     "output_type": "stream",
     "text": [
      "Model Was Not Saved ! Current Best Avg. Dice: 0.2780369222164154 Current Avg. Dice: 0.13330596685409546 Current Avg. tumor Dice: 0.20120489597320557 Current Avg. lymph Dice: 0.03480634465813637\n"
     ]
    },
    {
     "name": "stderr",
     "output_type": "stream",
     "text": [
      "Training (7547 / 18000 Steps) (loss=0.45927): 100%|██████████| 102/102 [02:31<00:00,  1.48s/it]\n",
      "Validate (7548 / 10 Steps): 100%|██████████| 25/25 [01:34<00:00,  3.78s/it]1<00:24,  2.07it/s]\n",
      "Training (7600 / 18000 Steps) (loss=0.38165):  52%|█████▏    | 53/102 [02:05<23:30, 28.80s/it]"
     ]
    },
    {
     "name": "stdout",
     "output_type": "stream",
     "text": [
      "Model Was Not Saved ! Current Best Avg. Dice: 0.2780369222164154 Current Avg. Dice: 0.14179444313049316 Current Avg. tumor Dice: 0.2204606831073761 Current Avg. lymph Dice: 0.027018748223781586\n"
     ]
    },
    {
     "name": "stderr",
     "output_type": "stream",
     "text": [
      "Training (7649 / 18000 Steps) (loss=0.16181): 100%|██████████| 102/102 [02:28<00:00,  1.46s/it]\n",
      "Validate (7650 / 10 Steps): 100%|██████████| 25/25 [01:34<00:00,  3.80s/it]0<00:26,  1.96it/s]\n",
      "Training (7700 / 18000 Steps) (loss=0.55801):  50%|█████     | 51/102 [02:05<24:41, 29.05s/it]"
     ]
    },
    {
     "name": "stdout",
     "output_type": "stream",
     "text": [
      "Model Was Not Saved ! Current Best Avg. Dice: 0.2780369222164154 Current Avg. Dice: 0.19700703024864197 Current Avg. tumor Dice: 0.3105992376804352 Current Avg. lymph Dice: 0.04629110172390938\n"
     ]
    },
    {
     "name": "stderr",
     "output_type": "stream",
     "text": [
      "Training (7751 / 18000 Steps) (loss=0.30798): 100%|██████████| 102/102 [02:29<00:00,  1.47s/it]\n",
      "Validate (7752 / 10 Steps): 100%|██████████| 25/25 [01:35<00:00,  3.81s/it]9<00:27,  1.95it/s]\n",
      "Training (7800 / 18000 Steps) (loss=0.45376):  48%|████▊     | 49/102 [02:04<25:41, 29.09s/it]"
     ]
    },
    {
     "name": "stdout",
     "output_type": "stream",
     "text": [
      "Model Was Not Saved ! Current Best Avg. Dice: 0.2780369222164154 Current Avg. Dice: 0.14911366999149323 Current Avg. tumor Dice: 0.247308149933815 Current Avg. lymph Dice: 0.013914554379880428\n"
     ]
    },
    {
     "name": "stderr",
     "output_type": "stream",
     "text": [
      "Training (7853 / 18000 Steps) (loss=0.56938): 100%|██████████| 102/102 [02:29<00:00,  1.47s/it]\n",
      "Validate (7854 / 10 Steps): 100%|██████████| 25/25 [01:34<00:00,  3.78s/it]7<00:25,  2.22it/s]\n",
      "Training (7900 / 18000 Steps) (loss=0.53718):  46%|████▌     | 47/102 [02:02<26:26, 28.85s/it]"
     ]
    },
    {
     "name": "stdout",
     "output_type": "stream",
     "text": [
      "Model Was Not Saved ! Current Best Avg. Dice: 0.2780369222164154 Current Avg. Dice: 0.11241568624973297 Current Avg. tumor Dice: 0.17187705636024475 Current Avg. lymph Dice: 0.02121993526816368\n"
     ]
    },
    {
     "name": "stderr",
     "output_type": "stream",
     "text": [
      "Training (7955 / 18000 Steps) (loss=0.55390): 100%|██████████| 102/102 [02:29<00:00,  1.47s/it]\n",
      "Validate (7956 / 10 Steps): 100%|██████████| 25/25 [01:34<00:00,  3.77s/it]6<00:29,  1.98it/s]\n",
      "Training (8000 / 18000 Steps) (loss=0.47047):  44%|████▍     | 45/102 [02:01<27:23, 28.84s/it]"
     ]
    },
    {
     "name": "stdout",
     "output_type": "stream",
     "text": [
      "Model Was Not Saved ! Current Best Avg. Dice: 0.2780369222164154 Current Avg. Dice: 0.16196922957897186 Current Avg. tumor Dice: 0.28169578313827515 Current Avg. lymph Dice: 0.011690248735249043\n"
     ]
    },
    {
     "name": "stderr",
     "output_type": "stream",
     "text": [
      "Training (8057 / 18000 Steps) (loss=0.43673): 100%|██████████| 102/102 [02:29<00:00,  1.47s/it]\n",
      "Validate (8058 / 10 Steps): 100%|██████████| 25/25 [01:34<00:00,  3.78s/it]5<00:32,  1.84it/s]\n",
      "Training (8100 / 18000 Steps) (loss=0.64333):  42%|████▏     | 43/102 [02:00<28:23, 28.88s/it]"
     ]
    },
    {
     "name": "stdout",
     "output_type": "stream",
     "text": [
      "Model Was Not Saved ! Current Best Avg. Dice: 0.2780369222164154 Current Avg. Dice: 0.15855933725833893 Current Avg. tumor Dice: 0.2705685496330261 Current Avg. lymph Dice: 0.009663174860179424\n"
     ]
    },
    {
     "name": "stderr",
     "output_type": "stream",
     "text": [
      "Training (8159 / 18000 Steps) (loss=0.56216): 100%|██████████| 102/102 [02:29<00:00,  1.47s/it]\n",
      "Validate (8160 / 10 Steps): 100%|██████████| 25/25 [01:34<00:00,  3.79s/it]4<00:27,  2.22it/s]\n",
      "Training (8200 / 18000 Steps) (loss=0.44493):  40%|████      | 41/102 [01:59<29:27, 28.97s/it]"
     ]
    },
    {
     "name": "stdout",
     "output_type": "stream",
     "text": [
      "Model Was Not Saved ! Current Best Avg. Dice: 0.2780369222164154 Current Avg. Dice: 0.1765793412923813 Current Avg. tumor Dice: 0.30594587326049805 Current Avg. lymph Dice: 0.012956049293279648\n"
     ]
    },
    {
     "name": "stderr",
     "output_type": "stream",
     "text": [
      "Training (8261 / 18000 Steps) (loss=0.66783): 100%|██████████| 102/102 [02:30<00:00,  1.47s/it]\n",
      "Validate (8262 / 10 Steps): 100%|██████████| 25/25 [01:35<00:00,  3.83s/it]3<00:31,  2.04it/s]\n",
      "Training (8300 / 18000 Steps) (loss=0.45929):  38%|███▊      | 39/102 [01:59<30:39, 29.20s/it]"
     ]
    },
    {
     "name": "stdout",
     "output_type": "stream",
     "text": [
      "Model Was Not Saved ! Current Best Avg. Dice: 0.2780369222164154 Current Avg. Dice: 0.2164279818534851 Current Avg. tumor Dice: 0.3786512017250061 Current Avg. lymph Dice: 0.004317170940339565\n"
     ]
    },
    {
     "name": "stderr",
     "output_type": "stream",
     "text": [
      "Training (8363 / 18000 Steps) (loss=0.52296): 100%|██████████| 102/102 [02:31<00:00,  1.48s/it]\n",
      "Validate (8364 / 10 Steps): 100%|██████████| 25/25 [01:35<00:00,  3.81s/it]2<00:32,  2.05it/s]\n",
      "Training (8400 / 18000 Steps) (loss=0.25982):  36%|███▋      | 37/102 [01:58<31:29, 29.07s/it]"
     ]
    },
    {
     "name": "stdout",
     "output_type": "stream",
     "text": [
      "Model Was Not Saved ! Current Best Avg. Dice: 0.2780369222164154 Current Avg. Dice: 0.21148553490638733 Current Avg. tumor Dice: 0.36905813217163086 Current Avg. lymph Dice: 0.006213781423866749\n"
     ]
    },
    {
     "name": "stderr",
     "output_type": "stream",
     "text": [
      "Training (8465 / 18000 Steps) (loss=0.27507): 100%|██████████| 102/102 [02:29<00:00,  1.47s/it]\n",
      "Validate (8466 / 10 Steps): 100%|██████████| 25/25 [01:34<00:00,  3.78s/it]1<00:37,  1.82it/s]\n",
      "Training (8500 / 18000 Steps) (loss=0.55300):  34%|███▍      | 35/102 [01:56<32:17, 28.92s/it]"
     ]
    },
    {
     "name": "stdout",
     "output_type": "stream",
     "text": [
      "Model Was Not Saved ! Current Best Avg. Dice: 0.2780369222164154 Current Avg. Dice: 0.21327435970306396 Current Avg. tumor Dice: 0.3761727511882782 Current Avg. lymph Dice: 5.585401595453732e-05\n"
     ]
    },
    {
     "name": "stderr",
     "output_type": "stream",
     "text": [
      "Training (8567 / 18000 Steps) (loss=0.66798): 100%|██████████| 102/102 [02:28<00:00,  1.46s/it]\n",
      "Validate (8568 / 10 Steps): 100%|██████████| 25/25 [01:35<00:00,  3.80s/it]0<00:31,  2.25it/s]\n",
      "Training (8600 / 18000 Steps) (loss=0.54380):  32%|███▏      | 33/102 [01:55<33:24, 29.05s/it]"
     ]
    },
    {
     "name": "stdout",
     "output_type": "stream",
     "text": [
      "Model Was Not Saved ! Current Best Avg. Dice: 0.2780369222164154 Current Avg. Dice: 0.20256197452545166 Current Avg. tumor Dice: 0.3277536928653717 Current Avg. lymph Dice: 0.033587828278541565\n"
     ]
    },
    {
     "name": "stderr",
     "output_type": "stream",
     "text": [
      "Training (8669 / 18000 Steps) (loss=0.54345): 100%|██████████| 102/102 [02:29<00:00,  1.46s/it]\n",
      "Validate (8670 / 10 Steps): 100%|██████████| 25/25 [01:33<00:00,  3.75s/it]9<00:34,  2.08it/s]\n",
      "Training (8700 / 18000 Steps) (loss=0.36101):  30%|███       | 31/102 [01:53<33:52, 28.63s/it]"
     ]
    },
    {
     "name": "stdout",
     "output_type": "stream",
     "text": [
      "Model Was Not Saved ! Current Best Avg. Dice: 0.2780369222164154 Current Avg. Dice: 0.14283239841461182 Current Avg. tumor Dice: 0.236827090382576 Current Avg. lymph Dice: 0.012536528520286083\n"
     ]
    },
    {
     "name": "stderr",
     "output_type": "stream",
     "text": [
      "Training (8771 / 18000 Steps) (loss=0.56476): 100%|██████████| 102/102 [02:29<00:00,  1.46s/it]\n",
      "Validate (8772 / 10 Steps): 100%|██████████| 25/25 [01:34<00:00,  3.77s/it]8<00:37,  2.00it/s]\n",
      "Training (8800 / 18000 Steps) (loss=0.49764):  28%|██▊       | 29/102 [01:52<35:03, 28.82s/it]"
     ]
    },
    {
     "name": "stdout",
     "output_type": "stream",
     "text": [
      "Model Was Not Saved ! Current Best Avg. Dice: 0.2780369222164154 Current Avg. Dice: 0.1466650813817978 Current Avg. tumor Dice: 0.23759427666664124 Current Avg. lymph Dice: 0.025555729866027832\n"
     ]
    },
    {
     "name": "stderr",
     "output_type": "stream",
     "text": [
      "Training (8873 / 18000 Steps) (loss=0.61856): 100%|██████████| 102/102 [02:28<00:00,  1.46s/it]\n",
      "Validate (8874 / 10 Steps): 100%|██████████| 25/25 [01:33<00:00,  3.76s/it]8<00:39,  1.92it/s]\n",
      "Training (8900 / 18000 Steps) (loss=0.67189):  26%|██▋       | 27/102 [01:52<35:55, 28.74s/it]"
     ]
    },
    {
     "name": "stdout",
     "output_type": "stream",
     "text": [
      "Model Was Not Saved ! Current Best Avg. Dice: 0.2780369222164154 Current Avg. Dice: 0.18631920218467712 Current Avg. tumor Dice: 0.3226641118526459 Current Avg. lymph Dice: 0.007806526962667704\n"
     ]
    },
    {
     "name": "stderr",
     "output_type": "stream",
     "text": [
      "Training (8975 / 18000 Steps) (loss=0.59955): 100%|██████████| 102/102 [02:28<00:00,  1.46s/it]\n",
      "Validate (8976 / 10 Steps): 100%|██████████| 25/25 [01:34<00:00,  3.78s/it]7<00:35,  2.22it/s]\n",
      "Training (9000 / 18000 Steps) (loss=0.63995):  25%|██▍       | 25/102 [01:51<37:10, 28.97s/it]"
     ]
    },
    {
     "name": "stdout",
     "output_type": "stream",
     "text": [
      "Model Was Not Saved ! Current Best Avg. Dice: 0.2780369222164154 Current Avg. Dice: 0.1593981832265854 Current Avg. tumor Dice: 0.2658469080924988 Current Avg. lymph Dice: 0.014075713232159615\n"
     ]
    },
    {
     "name": "stderr",
     "output_type": "stream",
     "text": [
      "Training (9077 / 18000 Steps) (loss=0.37897): 100%|██████████| 102/102 [02:29<00:00,  1.47s/it]\n",
      "Validate (9078 / 10 Steps): 100%|██████████| 25/25 [01:33<00:00,  3.75s/it]5<00:39,  2.02it/s]\n",
      "Training (9100 / 18000 Steps) (loss=0.55177):  23%|██▎       | 23/102 [01:49<37:39, 28.60s/it]"
     ]
    },
    {
     "name": "stdout",
     "output_type": "stream",
     "text": [
      "Model Was Not Saved ! Current Best Avg. Dice: 0.2780369222164154 Current Avg. Dice: 0.13375432789325714 Current Avg. tumor Dice: 0.23543931543827057 Current Avg. lymph Dice: 0.006319004110991955\n"
     ]
    },
    {
     "name": "stderr",
     "output_type": "stream",
     "text": [
      "Training (9179 / 18000 Steps) (loss=0.62723): 100%|██████████| 102/102 [02:28<00:00,  1.46s/it]\n",
      "Validate (9180 / 10 Steps): 100%|██████████| 25/25 [01:33<00:00,  3.76s/it]5<00:48,  1.70it/s]\n",
      "Training (9200 / 18000 Steps) (loss=0.53435):  21%|██        | 21/102 [01:49<38:48, 28.74s/it]"
     ]
    },
    {
     "name": "stdout",
     "output_type": "stream",
     "text": [
      "Model Was Not Saved ! Current Best Avg. Dice: 0.2780369222164154 Current Avg. Dice: 0.14617332816123962 Current Avg. tumor Dice: 0.23564700782299042 Current Avg. lymph Dice: 0.01799960620701313\n"
     ]
    },
    {
     "name": "stderr",
     "output_type": "stream",
     "text": [
      "Training (9281 / 18000 Steps) (loss=0.42220): 100%|██████████| 102/102 [02:29<00:00,  1.46s/it]\n",
      "Validate (9282 / 10 Steps): 100%|██████████| 25/25 [01:33<00:00,  3.75s/it]3<00:40,  2.05it/s]\n",
      "Training (9300 / 18000 Steps) (loss=0.27961):  19%|█▊        | 19/102 [01:47<39:41, 28.69s/it]"
     ]
    },
    {
     "name": "stdout",
     "output_type": "stream",
     "text": [
      "Model Was Not Saved ! Current Best Avg. Dice: 0.2780369222164154 Current Avg. Dice: 0.20291820168495178 Current Avg. tumor Dice: 0.33408141136169434 Current Avg. lymph Dice: 0.03149469569325447\n"
     ]
    },
    {
     "name": "stderr",
     "output_type": "stream",
     "text": [
      "Training (9383 / 18000 Steps) (loss=0.44207): 100%|██████████| 102/102 [02:29<00:00,  1.47s/it]\n",
      "Validate (9384 / 10 Steps): 100%|██████████| 25/25 [01:33<00:00,  3.74s/it]3<00:39,  2.17it/s]\n",
      "Training (9400 / 18000 Steps) (loss=0.56403):  17%|█▋        | 17/102 [01:47<40:50, 28.83s/it]"
     ]
    },
    {
     "name": "stdout",
     "output_type": "stream",
     "text": [
      "Model Was Not Saved ! Current Best Avg. Dice: 0.2780369222164154 Current Avg. Dice: 0.12242962419986725 Current Avg. tumor Dice: 0.19650886952877045 Current Avg. lymph Dice: 0.02163420245051384\n"
     ]
    },
    {
     "name": "stderr",
     "output_type": "stream",
     "text": [
      "Training (9485 / 18000 Steps) (loss=0.45404): 100%|██████████| 102/102 [02:31<00:00,  1.48s/it]\n",
      "Validate (9486 / 10 Steps): 100%|██████████| 25/25 [01:33<00:00,  3.75s/it]1<00:41,  2.11it/s]\n",
      "Training (9500 / 18000 Steps) (loss=0.43528):  15%|█▍        | 15/102 [01:45<41:37, 28.71s/it]"
     ]
    },
    {
     "name": "stdout",
     "output_type": "stream",
     "text": [
      "Model Was Not Saved ! Current Best Avg. Dice: 0.2780369222164154 Current Avg. Dice: 0.16377122700214386 Current Avg. tumor Dice: 0.2724623680114746 Current Avg. lymph Dice: 0.016527608036994934\n"
     ]
    },
    {
     "name": "stderr",
     "output_type": "stream",
     "text": [
      "Training (9587 / 18000 Steps) (loss=0.57206): 100%|██████████| 102/102 [02:31<00:00,  1.49s/it]\n",
      "Validate (9588 / 10 Steps): 100%|██████████| 25/25 [01:35<00:00,  3.80s/it]1<00:52,  1.72it/s]\n",
      "Training (9600 / 18000 Steps) (loss=0.30414):  13%|█▎        | 13/102 [01:47<43:31, 29.34s/it]"
     ]
    },
    {
     "name": "stdout",
     "output_type": "stream",
     "text": [
      "Model Was Not Saved ! Current Best Avg. Dice: 0.2780369222164154 Current Avg. Dice: 0.14368753135204315 Current Avg. tumor Dice: 0.2308797985315323 Current Avg. lymph Dice: 0.022343648597598076\n"
     ]
    },
    {
     "name": "stderr",
     "output_type": "stream",
     "text": [
      "Training (9689 / 18000 Steps) (loss=0.51300): 100%|██████████| 102/102 [02:33<00:00,  1.51s/it]\n",
      "Validate (9690 / 10 Steps): 100%|██████████| 25/25 [01:35<00:00,  3.81s/it]0<01:02,  1.46it/s]\n",
      "Training (9700 / 18000 Steps) (loss=0.49427):  11%|█         | 11/102 [01:46<45:11, 29.80s/it]"
     ]
    },
    {
     "name": "stdout",
     "output_type": "stream",
     "text": [
      "Model Was Not Saved ! Current Best Avg. Dice: 0.2780369222164154 Current Avg. Dice: 0.1916690170764923 Current Avg. tumor Dice: 0.334360271692276 Current Avg. lymph Dice: 0.001534603419713676\n"
     ]
    },
    {
     "name": "stderr",
     "output_type": "stream",
     "text": [
      "Training (9791 / 18000 Steps) (loss=0.57013): 100%|██████████| 102/102 [02:31<00:00,  1.49s/it]\n",
      "Validate (9792 / 10 Steps): 100%|██████████| 25/25 [01:35<00:00,  3.81s/it]<00:54,  1.73it/s]\n",
      "Training (9800 / 18000 Steps) (loss=0.48104):   9%|▉         | 9/102 [01:45<47:32, 30.67s/it]"
     ]
    },
    {
     "name": "stdout",
     "output_type": "stream",
     "text": [
      "Model Was Not Saved ! Current Best Avg. Dice: 0.2780369222164154 Current Avg. Dice: 0.20339103043079376 Current Avg. tumor Dice: 0.3500611484050751 Current Avg. lymph Dice: 0.00994653720408678\n"
     ]
    },
    {
     "name": "stderr",
     "output_type": "stream",
     "text": [
      "Training (9893 / 18000 Steps) (loss=0.57295): 100%|██████████| 102/102 [02:30<00:00,  1.48s/it]\n",
      "Validate (9894 / 10 Steps): 100%|██████████| 25/25 [01:36<00:00,  3.86s/it]<01:11,  1.35it/s]\n",
      "Training (9900 / 18000 Steps) (loss=0.47089):   7%|▋         | 7/102 [01:44<51:07, 32.29s/it]"
     ]
    },
    {
     "name": "stdout",
     "output_type": "stream",
     "text": [
      "Model Was Not Saved ! Current Best Avg. Dice: 0.2780369222164154 Current Avg. Dice: 0.1669928878545761 Current Avg. tumor Dice: 0.2674452066421509 Current Avg. lymph Dice: 0.02567269280552864\n"
     ]
    },
    {
     "name": "stderr",
     "output_type": "stream",
     "text": [
      "Training (9995 / 18000 Steps) (loss=0.54221): 100%|██████████| 102/102 [02:31<00:00,  1.48s/it]\n",
      "Validate (9996 / 10 Steps): 100%|██████████| 25/25 [01:34<00:00,  3.80s/it]7<01:58,  1.21s/it]\n",
      "Training (10000 / 18000 Steps) (loss=0.54805):   5%|▍         | 5/102 [01:42<57:03, 35.30s/it]"
     ]
    },
    {
     "name": "stdout",
     "output_type": "stream",
     "text": [
      "Model Was Not Saved ! Current Best Avg. Dice: 0.2780369222164154 Current Avg. Dice: 0.16268375515937805 Current Avg. tumor Dice: 0.22837218642234802 Current Avg. lymph Dice: 0.06822605431079865\n"
     ]
    },
    {
     "name": "stderr",
     "output_type": "stream",
     "text": [
      "Training (10097 / 18000 Steps) (loss=0.60595): 100%|██████████| 102/102 [02:29<00:00,  1.46s/it]\n",
      "Validate (10098 / 10 Steps): 100%|██████████| 25/25 [01:34<00:00,  3.77s/it]<03:45,  2.25s/it]\n",
      "Training (10100 / 18000 Steps) (loss=0.22299):   3%|▎         | 3/102 [01:40<1:13:32, 44.57s/it]"
     ]
    },
    {
     "name": "stdout",
     "output_type": "stream",
     "text": [
      "Model Was Not Saved ! Current Best Avg. Dice: 0.2780369222164154 Current Avg. Dice: 0.17649759352207184 Current Avg. tumor Dice: 0.29060474038124084 Current Avg. lymph Dice: 0.02513544261455536\n"
     ]
    },
    {
     "name": "stderr",
     "output_type": "stream",
     "text": [
      "Training (10199 / 18000 Steps) (loss=0.54549): 100%|██████████| 102/102 [02:27<00:00,  1.45s/it]\n",
      "Validate (10200 / 10 Steps): 100%|██████████| 25/25 [01:35<00:00,  3.80s/it]<?, ?it/s]\n",
      "Training (10200 / 18000 Steps) (loss=0.34757):   1%|          | 1/102 [01:40<2:48:20, 100.01s/it]"
     ]
    },
    {
     "name": "stdout",
     "output_type": "stream",
     "text": [
      "Model Was Not Saved ! Current Best Avg. Dice: 0.2780369222164154 Current Avg. Dice: 0.15532582998275757 Current Avg. tumor Dice: 0.2299063503742218 Current Avg. lymph Dice: 0.04792340472340584\n"
     ]
    },
    {
     "name": "stderr",
     "output_type": "stream",
     "text": [
      "Validate (10200 / 10 Steps): 100%|██████████| 25/25 [01:33<00:00,  3.76s/it]28<00:00,  2.16it/s] \n",
      "Training (10300 / 18000 Steps) (loss=0.54813):  99%|█████████▉| 101/102 [04:02<00:28, 28.66s/it]"
     ]
    },
    {
     "name": "stdout",
     "output_type": "stream",
     "text": [
      "Model Was Not Saved ! Current Best Avg. Dice: 0.2780369222164154 Current Avg. Dice: 0.1851164698600769 Current Avg. tumor Dice: 0.31662270426750183 Current Avg. lymph Dice: 0.015162854455411434\n"
     ]
    },
    {
     "name": "stderr",
     "output_type": "stream",
     "text": [
      "Training (10301 / 18000 Steps) (loss=0.47346): 100%|██████████| 102/102 [04:03<00:00,  2.38s/it]\n",
      "Validate (10302 / 10 Steps): 100%|██████████| 25/25 [01:33<00:00,  3.75s/it]4<00:01,  2.18it/s]\n",
      "Training (10400 / 18000 Steps) (loss=0.42237):  97%|█████████▋| 99/102 [02:28<01:25, 28.61s/it]"
     ]
    },
    {
     "name": "stdout",
     "output_type": "stream",
     "text": [
      "Model Was Not Saved ! Current Best Avg. Dice: 0.2780369222164154 Current Avg. Dice: 0.1516227275133133 Current Avg. tumor Dice: 0.24392610788345337 Current Avg. lymph Dice: 0.03125878423452377\n"
     ]
    },
    {
     "name": "stderr",
     "output_type": "stream",
     "text": [
      "Training (10403 / 18000 Steps) (loss=0.45126): 100%|██████████| 102/102 [02:29<00:00,  1.47s/it]\n",
      "Validate (10404 / 10 Steps): 100%|██████████| 25/25 [01:33<00:00,  3.75s/it]2<00:02,  2.17it/s]\n",
      "Training (10500 / 18000 Steps) (loss=0.57255):  95%|█████████▌| 97/102 [02:26<02:23, 28.63s/it]"
     ]
    },
    {
     "name": "stdout",
     "output_type": "stream",
     "text": [
      "Model Was Not Saved ! Current Best Avg. Dice: 0.2780369222164154 Current Avg. Dice: 0.1489183008670807 Current Avg. tumor Dice: 0.22228573262691498 Current Avg. lymph Dice: 0.04729728773236275\n"
     ]
    },
    {
     "name": "stderr",
     "output_type": "stream",
     "text": [
      "Training (10505 / 18000 Steps) (loss=0.58065): 100%|██████████| 102/102 [02:28<00:00,  1.46s/it]\n",
      "Validate (10506 / 10 Steps): 100%|██████████| 25/25 [01:33<00:00,  3.74s/it]2<00:04,  1.94it/s]\n",
      "Training (10600 / 18000 Steps) (loss=0.48532):  93%|█████████▎| 95/102 [02:25<03:20, 28.58s/it]"
     ]
    },
    {
     "name": "stdout",
     "output_type": "stream",
     "text": [
      "Model Was Not Saved ! Current Best Avg. Dice: 0.2780369222164154 Current Avg. Dice: 0.1218099296092987 Current Avg. tumor Dice: 0.20179104804992676 Current Avg. lymph Dice: 0.017907528206706047\n"
     ]
    },
    {
     "name": "stderr",
     "output_type": "stream",
     "text": [
      "Training (10607 / 18000 Steps) (loss=0.36389): 100%|██████████| 102/102 [02:29<00:00,  1.46s/it]\n",
      "Validate (10608 / 10 Steps): 100%|██████████| 25/25 [01:34<00:00,  3.76s/it]0<00:04,  2.13it/s]\n",
      "Training (10700 / 18000 Steps) (loss=0.32002):  91%|█████████ | 93/102 [02:24<04:18, 28.71s/it]"
     ]
    },
    {
     "name": "stdout",
     "output_type": "stream",
     "text": [
      "Model Was Not Saved ! Current Best Avg. Dice: 0.2780369222164154 Current Avg. Dice: 0.13614724576473236 Current Avg. tumor Dice: 0.21062076091766357 Current Avg. lymph Dice: 0.027967579662799835\n"
     ]
    },
    {
     "name": "stderr",
     "output_type": "stream",
     "text": [
      "Training (10709 / 18000 Steps) (loss=0.31060): 100%|██████████| 102/102 [02:29<00:00,  1.46s/it]\n",
      "Validate (10710 / 10 Steps): 100%|██████████| 25/25 [01:34<00:00,  3.77s/it]9<00:05,  2.01it/s]\n",
      "Training (10800 / 18000 Steps) (loss=0.46099):  89%|████████▉ | 91/102 [02:24<05:16, 28.78s/it]"
     ]
    },
    {
     "name": "stdout",
     "output_type": "stream",
     "text": [
      "Model Was Not Saved ! Current Best Avg. Dice: 0.2780369222164154 Current Avg. Dice: 0.14439529180526733 Current Avg. tumor Dice: 0.24341483414173126 Current Avg. lymph Dice: 0.009450034238398075\n"
     ]
    },
    {
     "name": "stderr",
     "output_type": "stream",
     "text": [
      "Training (10811 / 18000 Steps) (loss=0.45126): 100%|██████████| 102/102 [02:29<00:00,  1.46s/it]\n",
      "Validate (10812 / 10 Steps): 100%|██████████| 25/25 [01:33<00:00,  3.76s/it]7<00:06,  2.06it/s]\n",
      "Training (10900 / 18000 Steps) (loss=0.50607):  87%|████████▋ | 89/102 [02:21<06:12, 28.69s/it]"
     ]
    },
    {
     "name": "stdout",
     "output_type": "stream",
     "text": [
      "Model Was Not Saved ! Current Best Avg. Dice: 0.2780369222164154 Current Avg. Dice: 0.14514753222465515 Current Avg. tumor Dice: 0.23920752108097076 Current Avg. lymph Dice: 0.012135040946304798\n"
     ]
    },
    {
     "name": "stderr",
     "output_type": "stream",
     "text": [
      "Training (10913 / 18000 Steps) (loss=0.41937): 100%|██████████| 102/102 [02:28<00:00,  1.45s/it]\n",
      "Validate (10914 / 10 Steps): 100%|██████████| 25/25 [01:34<00:00,  3.76s/it]6<00:07,  2.05it/s]\n",
      "Training (11000 / 18000 Steps) (loss=0.46378):  85%|████████▌ | 87/102 [02:20<07:10, 28.71s/it]"
     ]
    },
    {
     "name": "stdout",
     "output_type": "stream",
     "text": [
      "Model Was Not Saved ! Current Best Avg. Dice: 0.2780369222164154 Current Avg. Dice: 0.18037407100200653 Current Avg. tumor Dice: 0.30111420154571533 Current Avg. lymph Dice: 0.02637738734483719\n"
     ]
    },
    {
     "name": "stderr",
     "output_type": "stream",
     "text": [
      "Training (11015 / 18000 Steps) (loss=0.41245): 100%|██████████| 102/102 [02:27<00:00,  1.45s/it]\n",
      "Validate (11016 / 10 Steps): 100%|██████████| 25/25 [01:34<00:00,  3.77s/it]5<00:08,  2.13it/s]\n",
      "Training (11100 / 18000 Steps) (loss=0.41467):  83%|████████▎ | 85/102 [02:19<08:08, 28.74s/it]"
     ]
    },
    {
     "name": "stdout",
     "output_type": "stream",
     "text": [
      "Model Was Not Saved ! Current Best Avg. Dice: 0.2780369222164154 Current Avg. Dice: 0.17735576629638672 Current Avg. tumor Dice: 0.2883780598640442 Current Avg. lymph Dice: 0.021818047389388084\n"
     ]
    },
    {
     "name": "stderr",
     "output_type": "stream",
     "text": [
      "Training (11117 / 18000 Steps) (loss=0.46852): 100%|██████████| 102/102 [02:27<00:00,  1.45s/it]\n",
      "Validate (11118 / 10 Steps): 100%|██████████| 25/25 [01:33<00:00,  3.76s/it]4<00:09,  2.05it/s]\n",
      "Training (11200 / 18000 Steps) (loss=0.47449):  81%|████████▏ | 83/102 [02:18<09:04, 28.66s/it]"
     ]
    },
    {
     "name": "stdout",
     "output_type": "stream",
     "text": [
      "Model Was Not Saved ! Current Best Avg. Dice: 0.2780369222164154 Current Avg. Dice: 0.18630273640155792 Current Avg. tumor Dice: 0.324446439743042 Current Avg. lymph Dice: 0.006283736787736416\n"
     ]
    },
    {
     "name": "stderr",
     "output_type": "stream",
     "text": [
      "Training (11219 / 18000 Steps) (loss=0.67034): 100%|██████████| 102/102 [02:28<00:00,  1.46s/it]\n",
      "Validate (11220 / 10 Steps): 100%|██████████| 25/25 [01:34<00:00,  3.77s/it]4<00:10,  2.11it/s]\n",
      "Training (11300 / 18000 Steps) (loss=0.45041):  79%|███████▉  | 81/102 [02:18<10:04, 28.79s/it]"
     ]
    },
    {
     "name": "stdout",
     "output_type": "stream",
     "text": [
      "Model Was Not Saved ! Current Best Avg. Dice: 0.2780369222164154 Current Avg. Dice: 0.1972767561674118 Current Avg. tumor Dice: 0.33521008491516113 Current Avg. lymph Dice: 0.01136359479278326\n"
     ]
    },
    {
     "name": "stderr",
     "output_type": "stream",
     "text": [
      "Training (11321 / 18000 Steps) (loss=0.51234): 100%|██████████| 102/102 [02:29<00:00,  1.46s/it]\n",
      "Validate (11322 / 10 Steps): 100%|██████████| 25/25 [01:33<00:00,  3.76s/it]4<00:11,  2.11it/s]\n",
      "Training (11400 / 18000 Steps) (loss=0.66731):  77%|███████▋  | 79/102 [02:18<10:59, 28.66s/it]"
     ]
    },
    {
     "name": "stdout",
     "output_type": "stream",
     "text": [
      "Model Was Not Saved ! Current Best Avg. Dice: 0.2780369222164154 Current Avg. Dice: 0.14203891158103943 Current Avg. tumor Dice: 0.23375380039215088 Current Avg. lymph Dice: 0.012181720696389675\n"
     ]
    },
    {
     "name": "stderr",
     "output_type": "stream",
     "text": [
      "Training (11423 / 18000 Steps) (loss=0.51096): 100%|██████████| 102/102 [02:29<00:00,  1.47s/it]\n",
      "Validate (11424 / 10 Steps): 100%|██████████| 25/25 [01:34<00:00,  3.76s/it]3<00:12,  2.09it/s]\n",
      "Training (11500 / 18000 Steps) (loss=0.49389):  75%|███████▌  | 77/102 [02:18<11:57, 28.71s/it]"
     ]
    },
    {
     "name": "stdout",
     "output_type": "stream",
     "text": [
      "Model Was Not Saved ! Current Best Avg. Dice: 0.2780369222164154 Current Avg. Dice: 0.18309630453586578 Current Avg. tumor Dice: 0.3065454959869385 Current Avg. lymph Dice: 0.01741759292781353\n"
     ]
    },
    {
     "name": "stderr",
     "output_type": "stream",
     "text": [
      "Training (11525 / 18000 Steps) (loss=0.53885): 100%|██████████| 102/102 [02:30<00:00,  1.48s/it]\n",
      "Validate (11526 / 10 Steps): 100%|██████████| 25/25 [01:34<00:00,  3.76s/it]4<00:16,  1.71it/s]\n",
      "Training (11600 / 18000 Steps) (loss=0.44686):  74%|███████▎  | 75/102 [02:18<12:58, 28.82s/it]"
     ]
    },
    {
     "name": "stdout",
     "output_type": "stream",
     "text": [
      "Model Was Not Saved ! Current Best Avg. Dice: 0.2780369222164154 Current Avg. Dice: 0.19526813924312592 Current Avg. tumor Dice: 0.33601808547973633 Current Avg. lymph Dice: 0.012868414632976055\n"
     ]
    },
    {
     "name": "stderr",
     "output_type": "stream",
     "text": [
      "Training (11627 / 18000 Steps) (loss=0.42828): 100%|██████████| 102/102 [02:31<00:00,  1.49s/it]\n",
      "Validate (11628 / 10 Steps): 100%|██████████| 25/25 [01:34<00:00,  3.78s/it]2<00:14,  2.11it/s]\n",
      "Training (11700 / 18000 Steps) (loss=0.44032):  72%|███████▏  | 73/102 [02:16<13:58, 28.91s/it]"
     ]
    },
    {
     "name": "stdout",
     "output_type": "stream",
     "text": [
      "Model Was Not Saved ! Current Best Avg. Dice: 0.2780369222164154 Current Avg. Dice: 0.175398588180542 Current Avg. tumor Dice: 0.26612135767936707 Current Avg. lymph Dice: 0.04246421158313751\n"
     ]
    },
    {
     "name": "stderr",
     "output_type": "stream",
     "text": [
      "Training (11729 / 18000 Steps) (loss=0.35080): 100%|██████████| 102/102 [02:30<00:00,  1.48s/it]\n",
      "Validate (11730 / 10 Steps): 100%|██████████| 25/25 [01:34<00:00,  3.79s/it]9<00:15,  2.02it/s]\n",
      "Training (11800 / 18000 Steps) (loss=0.55202):  70%|██████▉   | 71/102 [02:14<14:57, 28.96s/it]"
     ]
    },
    {
     "name": "stdout",
     "output_type": "stream",
     "text": [
      "Model Was Not Saved ! Current Best Avg. Dice: 0.2780369222164154 Current Avg. Dice: 0.13705144822597504 Current Avg. tumor Dice: 0.2091330736875534 Current Avg. lymph Dice: 0.026909032836556435\n"
     ]
    },
    {
     "name": "stderr",
     "output_type": "stream",
     "text": [
      "Training (11831 / 18000 Steps) (loss=0.56477): 100%|██████████| 102/102 [02:29<00:00,  1.46s/it]\n",
      "Validate (11832 / 10 Steps): 100%|██████████| 25/25 [01:34<00:00,  3.79s/it]8<00:17,  1.98it/s]\n",
      "Training (11900 / 18000 Steps) (loss=0.40213):  68%|██████▊   | 69/102 [02:13<15:54, 28.92s/it]"
     ]
    },
    {
     "name": "stdout",
     "output_type": "stream",
     "text": [
      "Model Was Not Saved ! Current Best Avg. Dice: 0.2780369222164154 Current Avg. Dice: 0.1869051158428192 Current Avg. tumor Dice: 0.31079697608947754 Current Avg. lymph Dice: 0.022142555564641953\n"
     ]
    },
    {
     "name": "stderr",
     "output_type": "stream",
     "text": [
      "Training (11933 / 18000 Steps) (loss=0.66716): 100%|██████████| 102/102 [02:29<00:00,  1.46s/it]\n",
      "Validate (11934 / 10 Steps): 100%|██████████| 25/25 [01:34<00:00,  3.77s/it]7<00:17,  2.02it/s]\n",
      "Training (12000 / 18000 Steps) (loss=0.34608):  66%|██████▌   | 67/102 [02:12<16:46, 28.77s/it]"
     ]
    },
    {
     "name": "stdout",
     "output_type": "stream",
     "text": [
      "Model Was Not Saved ! Current Best Avg. Dice: 0.2780369222164154 Current Avg. Dice: 0.21852631866931915 Current Avg. tumor Dice: 0.35194259881973267 Current Avg. lymph Dice: 0.041381772607564926\n"
     ]
    },
    {
     "name": "stderr",
     "output_type": "stream",
     "text": [
      "Training (12035 / 18000 Steps) (loss=0.66737): 100%|██████████| 102/102 [02:28<00:00,  1.46s/it]\n",
      "Validate (12036 / 10 Steps): 100%|██████████| 25/25 [01:34<00:00,  3.78s/it]5<00:17,  2.13it/s]\n",
      "Training (12100 / 18000 Steps) (loss=0.42137):  64%|██████▎   | 65/102 [02:10<17:46, 28.82s/it]"
     ]
    },
    {
     "name": "stdout",
     "output_type": "stream",
     "text": [
      "Model Was Not Saved ! Current Best Avg. Dice: 0.2780369222164154 Current Avg. Dice: 0.20096434652805328 Current Avg. tumor Dice: 0.3426843285560608 Current Avg. lymph Dice: 0.016242731362581253\n"
     ]
    },
    {
     "name": "stderr",
     "output_type": "stream",
     "text": [
      "Training (12137 / 18000 Steps) (loss=0.66762): 100%|██████████| 102/102 [02:27<00:00,  1.45s/it]\n",
      "Validate (12138 / 10 Steps): 100%|██████████| 25/25 [01:33<00:00,  3.75s/it]4<00:19,  2.10it/s]\n",
      "Training (12200 / 18000 Steps) (loss=0.24155):  62%|██████▏   | 63/102 [02:08<18:36, 28.63s/it]"
     ]
    },
    {
     "name": "stdout",
     "output_type": "stream",
     "text": [
      "Model Was Not Saved ! Current Best Avg. Dice: 0.2780369222164154 Current Avg. Dice: 0.19974569976329803 Current Avg. tumor Dice: 0.3384249806404114 Current Avg. lymph Dice: 0.020128319039940834\n"
     ]
    },
    {
     "name": "stderr",
     "output_type": "stream",
     "text": [
      "Training (12239 / 18000 Steps) (loss=0.59149): 100%|██████████| 102/102 [02:27<00:00,  1.44s/it]\n",
      "Validate (12240 / 10 Steps): 100%|██████████| 25/25 [01:33<00:00,  3.76s/it]4<00:21,  2.00it/s]\n",
      "Training (12300 / 18000 Steps) (loss=0.66734):  60%|█████▉    | 61/102 [02:08<19:36, 28.70s/it]"
     ]
    },
    {
     "name": "stdout",
     "output_type": "stream",
     "text": [
      "Model Was Not Saved ! Current Best Avg. Dice: 0.2780369222164154 Current Avg. Dice: 0.12673693895339966 Current Avg. tumor Dice: 0.18920080363750458 Current Avg. lymph Dice: 0.027415871620178223\n"
     ]
    },
    {
     "name": "stderr",
     "output_type": "stream",
     "text": [
      "Training (12341 / 18000 Steps) (loss=0.34294): 100%|██████████| 102/102 [02:28<00:00,  1.46s/it]\n",
      "Validate (12342 / 10 Steps): 100%|██████████| 25/25 [01:34<00:00,  3.77s/it]3<00:21,  2.01it/s]\n",
      "Training (12400 / 18000 Steps) (loss=0.39422):  58%|█████▊    | 59/102 [02:08<20:36, 28.77s/it]"
     ]
    },
    {
     "name": "stdout",
     "output_type": "stream",
     "text": [
      "Model Was Not Saved ! Current Best Avg. Dice: 0.2780369222164154 Current Avg. Dice: 0.15614426136016846 Current Avg. tumor Dice: 0.2513512074947357 Current Avg. lymph Dice: 0.026037830859422684\n"
     ]
    },
    {
     "name": "stderr",
     "output_type": "stream",
     "text": [
      "Training (12443 / 18000 Steps) (loss=0.65179): 100%|██████████| 102/102 [02:28<00:00,  1.46s/it]\n",
      "Validate (12444 / 10 Steps): 100%|██████████| 25/25 [01:34<00:00,  3.76s/it]1<00:22,  2.07it/s]\n",
      "Training (12500 / 18000 Steps) (loss=0.50657):  56%|█████▌    | 57/102 [02:05<21:33, 28.73s/it]"
     ]
    },
    {
     "name": "stdout",
     "output_type": "stream",
     "text": [
      "Model Was Not Saved ! Current Best Avg. Dice: 0.2780369222164154 Current Avg. Dice: 0.19459731876850128 Current Avg. tumor Dice: 0.2853674292564392 Current Avg. lymph Dice: 0.06615298241376877\n"
     ]
    },
    {
     "name": "stderr",
     "output_type": "stream",
     "text": [
      "Training (12545 / 18000 Steps) (loss=0.67960): 100%|██████████| 102/102 [02:27<00:00,  1.44s/it]\n",
      "Validate (12546 / 10 Steps): 100%|██████████| 25/25 [01:34<00:00,  3.76s/it]0<00:22,  2.13it/s]\n",
      "Training (12600 / 18000 Steps) (loss=0.31546):  54%|█████▍    | 55/102 [02:04<22:30, 28.72s/it]"
     ]
    },
    {
     "name": "stdout",
     "output_type": "stream",
     "text": [
      "Model Was Not Saved ! Current Best Avg. Dice: 0.2780369222164154 Current Avg. Dice: 0.1586044430732727 Current Avg. tumor Dice: 0.23249471187591553 Current Avg. lymph Dice: 0.04957111179828644\n"
     ]
    },
    {
     "name": "stderr",
     "output_type": "stream",
     "text": [
      "Training (12647 / 18000 Steps) (loss=0.48515): 100%|██████████| 102/102 [02:27<00:00,  1.44s/it]\n",
      "Validate (12648 / 10 Steps): 100%|██████████| 25/25 [01:33<00:00,  3.74s/it]9<00:22,  2.19it/s]\n",
      "Training (12700 / 18000 Steps) (loss=0.30937):  52%|█████▏    | 53/102 [02:03<23:19, 28.56s/it]"
     ]
    },
    {
     "name": "stdout",
     "output_type": "stream",
     "text": [
      "Model Was Not Saved ! Current Best Avg. Dice: 0.2780369222164154 Current Avg. Dice: 0.13704688847064972 Current Avg. tumor Dice: 0.21347171068191528 Current Avg. lymph Dice: 0.02498655393719673\n"
     ]
    },
    {
     "name": "stderr",
     "output_type": "stream",
     "text": [
      "Training (12749 / 18000 Steps) (loss=0.65121): 100%|██████████| 102/102 [02:26<00:00,  1.43s/it]\n",
      "Validate (12750 / 10 Steps): 100%|██████████| 25/25 [01:33<00:00,  3.76s/it]9<00:24,  2.09it/s]\n",
      "Training (12800 / 18000 Steps) (loss=0.26095):  50%|█████     | 51/102 [02:03<24:24, 28.72s/it]"
     ]
    },
    {
     "name": "stdout",
     "output_type": "stream",
     "text": [
      "Model Was Not Saved ! Current Best Avg. Dice: 0.2780369222164154 Current Avg. Dice: 0.1969585418701172 Current Avg. tumor Dice: 0.31732165813446045 Current Avg. lymph Dice: 0.03319583833217621\n"
     ]
    },
    {
     "name": "stderr",
     "output_type": "stream",
     "text": [
      "Training (12851 / 18000 Steps) (loss=0.42482): 100%|██████████| 102/102 [02:27<00:00,  1.45s/it]\n",
      "Validate (12852 / 10 Steps): 100%|██████████| 25/25 [01:34<00:00,  3.77s/it]7<00:25,  2.13it/s]\n",
      "Training (12900 / 18000 Steps) (loss=0.43080):  48%|████▊     | 49/102 [02:01<25:24, 28.75s/it]"
     ]
    },
    {
     "name": "stdout",
     "output_type": "stream",
     "text": [
      "Model Was Not Saved ! Current Best Avg. Dice: 0.2780369222164154 Current Avg. Dice: 0.16227060556411743 Current Avg. tumor Dice: 0.2557055652141571 Current Avg. lymph Dice: 0.03101300448179245\n"
     ]
    },
    {
     "name": "stderr",
     "output_type": "stream",
     "text": [
      "Training (12953 / 18000 Steps) (loss=0.66681): 100%|██████████| 102/102 [02:27<00:00,  1.45s/it]\n",
      "Validate (12954 / 10 Steps): 100%|██████████| 25/25 [01:33<00:00,  3.74s/it]7<00:26,  2.14it/s]\n",
      "Training (13000 / 18000 Steps) (loss=0.41624):  46%|████▌     | 47/102 [02:00<26:10, 28.56s/it]"
     ]
    },
    {
     "name": "stdout",
     "output_type": "stream",
     "text": [
      "Model Was Not Saved ! Current Best Avg. Dice: 0.2780369222164154 Current Avg. Dice: 0.13590578734874725 Current Avg. tumor Dice: 0.2267664074897766 Current Avg. lymph Dice: 0.008422517217695713\n"
     ]
    },
    {
     "name": "stderr",
     "output_type": "stream",
     "text": [
      "Training (13055 / 18000 Steps) (loss=0.58576): 100%|██████████| 102/102 [02:27<00:00,  1.45s/it]\n",
      "Validate (13056 / 10 Steps): 100%|██████████| 25/25 [01:33<00:00,  3.75s/it]5<00:26,  2.19it/s]\n",
      "Training (13100 / 18000 Steps) (loss=0.38456):  44%|████▍     | 45/102 [01:59<27:09, 28.59s/it]"
     ]
    },
    {
     "name": "stdout",
     "output_type": "stream",
     "text": [
      "Model Was Not Saved ! Current Best Avg. Dice: 0.2780369222164154 Current Avg. Dice: 0.13450130820274353 Current Avg. tumor Dice: 0.2212357074022293 Current Avg. lymph Dice: 0.018744338303804398\n"
     ]
    },
    {
     "name": "stderr",
     "output_type": "stream",
     "text": [
      "Training (13157 / 18000 Steps) (loss=0.42791): 100%|██████████| 102/102 [02:26<00:00,  1.44s/it]\n",
      "Validate (13158 / 10 Steps): 100%|██████████| 25/25 [01:33<00:00,  3.74s/it]5<00:28,  2.14it/s]\n",
      "Training (13200 / 18000 Steps) (loss=0.56300):  42%|████▏     | 43/102 [01:58<28:05, 28.57s/it]"
     ]
    },
    {
     "name": "stdout",
     "output_type": "stream",
     "text": [
      "Model Was Not Saved ! Current Best Avg. Dice: 0.2780369222164154 Current Avg. Dice: 0.19527672231197357 Current Avg. tumor Dice: 0.32319560647010803 Current Avg. lymph Dice: 0.02399543859064579\n"
     ]
    },
    {
     "name": "stderr",
     "output_type": "stream",
     "text": [
      "Training (13259 / 18000 Steps) (loss=0.45706): 100%|██████████| 102/102 [02:27<00:00,  1.44s/it]\n",
      "Validate (13260 / 10 Steps): 100%|██████████| 25/25 [01:34<00:00,  3.76s/it]4<00:29,  2.08it/s]\n",
      "Training (13300 / 18000 Steps) (loss=0.39978):  40%|████      | 41/102 [01:58<29:15, 28.79s/it]"
     ]
    },
    {
     "name": "stdout",
     "output_type": "stream",
     "text": [
      "Model Was Not Saved ! Current Best Avg. Dice: 0.2780369222164154 Current Avg. Dice: 0.15493428707122803 Current Avg. tumor Dice: 0.25618505477905273 Current Avg. lymph Dice: 0.016780663281679153\n"
     ]
    },
    {
     "name": "stderr",
     "output_type": "stream",
     "text": [
      "Training (13361 / 18000 Steps) (loss=0.33485): 100%|██████████| 102/102 [02:28<00:00,  1.45s/it]\n",
      "Validate (13362 / 10 Steps): 100%|██████████| 25/25 [01:33<00:00,  3.74s/it]2<00:27,  2.29it/s]\n",
      "Training (13400 / 18000 Steps) (loss=0.66699):  38%|███▊      | 39/102 [01:56<29:54, 28.49s/it]"
     ]
    },
    {
     "name": "stdout",
     "output_type": "stream",
     "text": [
      "Model Was Not Saved ! Current Best Avg. Dice: 0.2780369222164154 Current Avg. Dice: 0.16748760640621185 Current Avg. tumor Dice: 0.2693427801132202 Current Avg. lymph Dice: 0.03050949051976204\n"
     ]
    },
    {
     "name": "stderr",
     "output_type": "stream",
     "text": [
      "Training (13463 / 18000 Steps) (loss=0.28493): 100%|██████████| 102/102 [02:27<00:00,  1.44s/it]\n",
      "Validate (13464 / 10 Steps): 100%|██████████| 25/25 [01:33<00:00,  3.76s/it]1<00:33,  1.96it/s]\n",
      "Training (13500 / 18000 Steps) (loss=0.26826):  36%|███▋      | 37/102 [01:55<31:04, 28.69s/it]"
     ]
    },
    {
     "name": "stdout",
     "output_type": "stream",
     "text": [
      "Model Was Not Saved ! Current Best Avg. Dice: 0.2780369222164154 Current Avg. Dice: 0.1537013202905655 Current Avg. tumor Dice: 0.24833907186985016 Current Avg. lymph Dice: 0.022773785516619682\n"
     ]
    },
    {
     "name": "stderr",
     "output_type": "stream",
     "text": [
      "Training (13565 / 18000 Steps) (loss=0.46139): 100%|██████████| 102/102 [02:27<00:00,  1.45s/it]\n",
      "Validate (13566 / 10 Steps): 100%|██████████| 25/25 [01:33<00:00,  3.75s/it]1<00:35,  1.92it/s]\n",
      "Training (13600 / 18000 Steps) (loss=0.50835):  34%|███▍      | 35/102 [01:55<32:00, 28.67s/it]"
     ]
    },
    {
     "name": "stdout",
     "output_type": "stream",
     "text": [
      "Model Was Not Saved ! Current Best Avg. Dice: 0.2780369222164154 Current Avg. Dice: 0.18197938799858093 Current Avg. tumor Dice: 0.30362293124198914 Current Avg. lymph Dice: 0.022620683535933495\n"
     ]
    },
    {
     "name": "stderr",
     "output_type": "stream",
     "text": [
      "Training (13667 / 18000 Steps) (loss=0.30480): 100%|██████████| 102/102 [02:28<00:00,  1.46s/it]\n",
      "Validate (13668 / 10 Steps): 100%|██████████| 25/25 [01:32<00:00,  3.72s/it]0<00:30,  2.26it/s]\n",
      "Training (13700 / 18000 Steps) (loss=0.53210):  32%|███▏      | 33/102 [01:53<32:41, 28.43s/it]"
     ]
    },
    {
     "name": "stdout",
     "output_type": "stream",
     "text": [
      "Model Was Not Saved ! Current Best Avg. Dice: 0.2780369222164154 Current Avg. Dice: 0.17856189608573914 Current Avg. tumor Dice: 0.3035688102245331 Current Avg. lymph Dice: 0.015662485733628273\n"
     ]
    },
    {
     "name": "stderr",
     "output_type": "stream",
     "text": [
      "Training (13769 / 18000 Steps) (loss=0.43050): 100%|██████████| 102/102 [02:27<00:00,  1.44s/it]\n",
      "Validate (13770 / 10 Steps): 100%|██████████| 25/25 [01:33<00:00,  3.74s/it]9<00:32,  2.21it/s]\n",
      "Training (13800 / 18000 Steps) (loss=0.63646):  30%|███       | 31/102 [01:53<33:45, 28.53s/it]"
     ]
    },
    {
     "name": "stdout",
     "output_type": "stream",
     "text": [
      "Model Was Not Saved ! Current Best Avg. Dice: 0.2780369222164154 Current Avg. Dice: 0.14285895228385925 Current Avg. tumor Dice: 0.21925434470176697 Current Avg. lymph Dice: 0.03380085155367851\n"
     ]
    },
    {
     "name": "stderr",
     "output_type": "stream",
     "text": [
      "Training (13871 / 18000 Steps) (loss=0.31184): 100%|██████████| 102/102 [02:28<00:00,  1.46s/it]\n",
      "Validate (13872 / 10 Steps): 100%|██████████| 25/25 [01:33<00:00,  3.72s/it]9<00:41,  1.77it/s]\n",
      "Training (13900 / 18000 Steps) (loss=0.42091):  28%|██▊       | 29/102 [01:52<34:37, 28.46s/it]"
     ]
    },
    {
     "name": "stdout",
     "output_type": "stream",
     "text": [
      "Model Was Not Saved ! Current Best Avg. Dice: 0.2780369222164154 Current Avg. Dice: 0.1883438229560852 Current Avg. tumor Dice: 0.2921017110347748 Current Avg. lymph Dice: 0.04026853293180466\n"
     ]
    },
    {
     "name": "stderr",
     "output_type": "stream",
     "text": [
      "Training (13973 / 18000 Steps) (loss=0.52285): 100%|██████████| 102/102 [02:28<00:00,  1.46s/it]\n",
      "Validate (13974 / 10 Steps): 100%|██████████| 25/25 [01:33<00:00,  3.73s/it]7<00:35,  2.14it/s]\n",
      "Training (14000 / 18000 Steps) (loss=0.23095):  26%|██▋       | 27/102 [01:51<35:34, 28.47s/it]"
     ]
    },
    {
     "name": "stdout",
     "output_type": "stream",
     "text": [
      "Model Was Not Saved ! Current Best Avg. Dice: 0.2780369222164154 Current Avg. Dice: 0.18179675936698914 Current Avg. tumor Dice: 0.25862202048301697 Current Avg. lymph Dice: 0.07202041149139404\n"
     ]
    },
    {
     "name": "stderr",
     "output_type": "stream",
     "text": [
      "Training (14075 / 18000 Steps) (loss=0.37593): 100%|██████████| 102/102 [02:27<00:00,  1.45s/it]\n",
      "Validate (14076 / 10 Steps): 100%|██████████| 25/25 [01:33<00:00,  3.76s/it]7<00:35,  2.18it/s]\n",
      "Training (14100 / 18000 Steps) (loss=0.39755):  25%|██▍       | 25/102 [01:51<37:02, 28.86s/it]"
     ]
    },
    {
     "name": "stdout",
     "output_type": "stream",
     "text": [
      "Model Was Not Saved ! Current Best Avg. Dice: 0.2780369222164154 Current Avg. Dice: 0.14285242557525635 Current Avg. tumor Dice: 0.17960092425346375 Current Avg. lymph Dice: 0.09138548374176025\n"
     ]
    },
    {
     "name": "stderr",
     "output_type": "stream",
     "text": [
      "Training (14177 / 18000 Steps) (loss=0.48772): 100%|██████████| 102/102 [02:28<00:00,  1.45s/it]\n",
      "Validate (14178 / 10 Steps): 100%|██████████| 25/25 [01:33<00:00,  3.74s/it]6<00:36,  2.20it/s]\n",
      "Training (14200 / 18000 Steps) (loss=0.66794):  23%|██▎       | 23/102 [01:49<37:36, 28.56s/it]"
     ]
    },
    {
     "name": "stdout",
     "output_type": "stream",
     "text": [
      "Model Was Not Saved ! Current Best Avg. Dice: 0.2780369222164154 Current Avg. Dice: 0.12628772854804993 Current Avg. tumor Dice: 0.146409273147583 Current Avg. lymph Dice: 0.08415950834751129\n"
     ]
    },
    {
     "name": "stderr",
     "output_type": "stream",
     "text": [
      "Training (14279 / 18000 Steps) (loss=0.38202): 100%|██████████| 102/102 [02:27<00:00,  1.45s/it]\n",
      "Validate (14280 / 10 Steps): 100%|██████████| 25/25 [01:34<00:00,  3.77s/it]5<00:41,  1.98it/s]\n",
      "Training (14300 / 18000 Steps) (loss=0.34465):  21%|██        | 21/102 [01:49<38:50, 28.77s/it]"
     ]
    },
    {
     "name": "stdout",
     "output_type": "stream",
     "text": [
      "Model Was Not Saved ! Current Best Avg. Dice: 0.2780369222164154 Current Avg. Dice: 0.19190864264965057 Current Avg. tumor Dice: 0.2711792588233948 Current Avg. lymph Dice: 0.08500047028064728\n"
     ]
    },
    {
     "name": "stderr",
     "output_type": "stream",
     "text": [
      "Training (14381 / 18000 Steps) (loss=0.19392): 100%|██████████| 102/102 [02:28<00:00,  1.46s/it]\n",
      "Validate (14382 / 10 Steps): 100%|██████████| 25/25 [01:34<00:00,  3.79s/it]4<00:43,  1.95it/s]\n",
      "Training (14400 / 18000 Steps) (loss=0.64100):  19%|█▊        | 19/102 [01:49<40:02, 28.95s/it]"
     ]
    },
    {
     "name": "stdout",
     "output_type": "stream",
     "text": [
      "Model Was Not Saved ! Current Best Avg. Dice: 0.2780369222164154 Current Avg. Dice: 0.21231265366077423 Current Avg. tumor Dice: 0.30050432682037354 Current Avg. lymph Dice: 0.09368627518415451\n"
     ]
    },
    {
     "name": "stderr",
     "output_type": "stream",
     "text": [
      "Training (14483 / 18000 Steps) (loss=0.54442): 100%|██████████| 102/102 [02:28<00:00,  1.46s/it]\n",
      "Validate (14484 / 10 Steps): 100%|██████████| 25/25 [01:34<00:00,  3.79s/it]2<00:39,  2.17it/s]\n",
      "Training (14500 / 18000 Steps) (loss=0.33750):  17%|█▋        | 17/102 [01:47<41:07, 29.03s/it]"
     ]
    },
    {
     "name": "stdout",
     "output_type": "stream",
     "text": [
      "Model Was Not Saved ! Current Best Avg. Dice: 0.2780369222164154 Current Avg. Dice: 0.13560263812541962 Current Avg. tumor Dice: 0.19980278611183167 Current Avg. lymph Dice: 0.04479769617319107\n"
     ]
    },
    {
     "name": "stderr",
     "output_type": "stream",
     "text": [
      "Training (14585 / 18000 Steps) (loss=0.39309): 100%|██████████| 102/102 [02:28<00:00,  1.46s/it]\n",
      "Validate (14586 / 10 Steps): 100%|██████████| 25/25 [01:34<00:00,  3.79s/it]1<00:45,  1.93it/s]\n",
      "Training (14600 / 18000 Steps) (loss=0.56346):  15%|█▍        | 15/102 [01:46<42:12, 29.11s/it]"
     ]
    },
    {
     "name": "stdout",
     "output_type": "stream",
     "text": [
      "Model Was Not Saved ! Current Best Avg. Dice: 0.2780369222164154 Current Avg. Dice: 0.17629975080490112 Current Avg. tumor Dice: 0.2753966450691223 Current Avg. lymph Dice: 0.043100230395793915\n"
     ]
    },
    {
     "name": "stderr",
     "output_type": "stream",
     "text": [
      "Training (14687 / 18000 Steps) (loss=0.55784): 100%|██████████| 102/102 [02:27<00:00,  1.45s/it]\n",
      "Validate (14688 / 10 Steps): 100%|██████████| 25/25 [01:34<00:00,  3.77s/it]0<00:45,  1.96it/s]\n",
      "Training (14700 / 18000 Steps) (loss=0.39943):  13%|█▎        | 13/102 [01:44<43:02, 29.02s/it]"
     ]
    },
    {
     "name": "stdout",
     "output_type": "stream",
     "text": [
      "Model Was Not Saved ! Current Best Avg. Dice: 0.2780369222164154 Current Avg. Dice: 0.1973089873790741 Current Avg. tumor Dice: 0.25542378425598145 Current Avg. lymph Dice: 0.10881223529577255\n"
     ]
    },
    {
     "name": "stderr",
     "output_type": "stream",
     "text": [
      "Training (14789 / 18000 Steps) (loss=0.47067): 100%|██████████| 102/102 [02:26<00:00,  1.44s/it]\n",
      "Validate (14790 / 10 Steps): 100%|██████████| 25/25 [01:34<00:00,  3.79s/it]9<00:52,  1.74it/s]\n",
      "Training (14800 / 18000 Steps) (loss=0.51651):  11%|█         | 11/102 [01:44<44:49, 29.56s/it]"
     ]
    },
    {
     "name": "stdout",
     "output_type": "stream",
     "text": [
      "Model Was Not Saved ! Current Best Avg. Dice: 0.2780369222164154 Current Avg. Dice: 0.17272543907165527 Current Avg. tumor Dice: 0.26750314235687256 Current Avg. lymph Dice: 0.04194507747888565\n"
     ]
    },
    {
     "name": "stderr",
     "output_type": "stream",
     "text": [
      "Training (14891 / 18000 Steps) (loss=0.66722): 100%|██████████| 102/102 [02:26<00:00,  1.44s/it]\n",
      "Validate (14892 / 10 Steps): 100%|██████████| 25/25 [01:34<00:00,  3.79s/it]<00:54,  1.72it/s]\n",
      "Training (14900 / 18000 Steps) (loss=0.47503):   9%|▉         | 9/102 [01:42<46:53, 30.25s/it]"
     ]
    },
    {
     "name": "stdout",
     "output_type": "stream",
     "text": [
      "Model Was Not Saved ! Current Best Avg. Dice: 0.2780369222164154 Current Avg. Dice: 0.10553257167339325 Current Avg. tumor Dice: 0.12311506271362305 Current Avg. lymph Dice: 0.08109641820192337\n"
     ]
    },
    {
     "name": "stderr",
     "output_type": "stream",
     "text": [
      "Training (14993 / 18000 Steps) (loss=0.48189): 100%|██████████| 102/102 [02:26<00:00,  1.44s/it]\n",
      "Validate (14994 / 10 Steps): 100%|██████████| 25/25 [01:34<00:00,  3.77s/it]<01:04,  1.50it/s]\n",
      "Training (15000 / 18000 Steps) (loss=0.30790):   7%|▋         | 7/102 [01:41<49:46, 31.44s/it]"
     ]
    },
    {
     "name": "stdout",
     "output_type": "stream",
     "text": [
      "Model Was Not Saved ! Current Best Avg. Dice: 0.2780369222164154 Current Avg. Dice: 0.1611504852771759 Current Avg. tumor Dice: 0.25039198994636536 Current Avg. lymph Dice: 0.036276500672101974\n"
     ]
    },
    {
     "name": "stderr",
     "output_type": "stream",
     "text": [
      "Training (15095 / 18000 Steps) (loss=0.31369): 100%|██████████| 102/102 [02:27<00:00,  1.44s/it]\n",
      "Validate (15096 / 10 Steps): 100%|██████████| 25/25 [01:33<00:00,  3.75s/it]<01:36,  1.01it/s]\n",
      "Training (15100 / 18000 Steps) (loss=0.28770):   5%|▍         | 5/102 [01:39<55:57, 34.61s/it]"
     ]
    },
    {
     "name": "stdout",
     "output_type": "stream",
     "text": [
      "Model Was Not Saved ! Current Best Avg. Dice: 0.2780369222164154 Current Avg. Dice: 0.14151044189929962 Current Avg. tumor Dice: 0.22020776569843292 Current Avg. lymph Dice: 0.026212988421320915\n"
     ]
    },
    {
     "name": "stderr",
     "output_type": "stream",
     "text": [
      "Training (15197 / 18000 Steps) (loss=0.43802): 100%|██████████| 102/102 [02:24<00:00,  1.42s/it]\n",
      "Validate (15198 / 10 Steps): 100%|██████████| 25/25 [01:33<00:00,  3.75s/it]<03:26,  2.07s/it]\n",
      "Training (15200 / 18000 Steps) (loss=0.44060):   3%|▎         | 3/102 [01:39<1:12:58, 44.23s/it]"
     ]
    },
    {
     "name": "stdout",
     "output_type": "stream",
     "text": [
      "Model Was Not Saved ! Current Best Avg. Dice: 0.2780369222164154 Current Avg. Dice: 0.1440468579530716 Current Avg. tumor Dice: 0.19498875737190247 Current Avg. lymph Dice: 0.07343515008687973\n"
     ]
    },
    {
     "name": "stderr",
     "output_type": "stream",
     "text": [
      "Training (15299 / 18000 Steps) (loss=0.67161): 100%|██████████| 102/102 [02:26<00:00,  1.43s/it]\n",
      "Validate (15300 / 10 Steps): 100%|██████████| 25/25 [01:34<00:00,  3.77s/it]<?, ?it/s]\n",
      "Training (15300 / 18000 Steps) (loss=0.52431):   1%|          | 1/102 [01:38<2:46:21, 98.83s/it]"
     ]
    },
    {
     "name": "stdout",
     "output_type": "stream",
     "text": [
      "Model Was Not Saved ! Current Best Avg. Dice: 0.2780369222164154 Current Avg. Dice: 0.15585532784461975 Current Avg. tumor Dice: 0.2232273817062378 Current Avg. lymph Dice: 0.06317286938428879\n"
     ]
    },
    {
     "name": "stderr",
     "output_type": "stream",
     "text": [
      "Validate (15300 / 10 Steps): 100%|██████████| 25/25 [01:33<00:00,  3.75s/it]25<00:00,  2.18it/s]\n",
      "Training (15400 / 18000 Steps) (loss=0.38608):  99%|█████████▉| 101/102 [03:59<00:28, 28.58s/it]"
     ]
    },
    {
     "name": "stdout",
     "output_type": "stream",
     "text": [
      "Model Was Not Saved ! Current Best Avg. Dice: 0.2780369222164154 Current Avg. Dice: 0.17481504380702972 Current Avg. tumor Dice: 0.2649325430393219 Current Avg. lymph Dice: 0.05158622935414314\n"
     ]
    },
    {
     "name": "stderr",
     "output_type": "stream",
     "text": [
      "Training (15401 / 18000 Steps) (loss=0.66730): 100%|██████████| 102/102 [04:00<00:00,  2.35s/it]\n",
      "Validate (15402 / 10 Steps): 100%|██████████| 25/25 [01:33<00:00,  3.74s/it]0<00:01,  2.16it/s]\n",
      "Training (15500 / 18000 Steps) (loss=0.46898):  97%|█████████▋| 99/102 [02:23<01:25, 28.54s/it]"
     ]
    },
    {
     "name": "stdout",
     "output_type": "stream",
     "text": [
      "Model Was Not Saved ! Current Best Avg. Dice: 0.2780369222164154 Current Avg. Dice: 0.19345423579216003 Current Avg. tumor Dice: 0.32098284363746643 Current Avg. lymph Dice: 0.023136435076594353\n"
     ]
    },
    {
     "name": "stderr",
     "output_type": "stream",
     "text": [
      "Training (15503 / 18000 Steps) (loss=0.46832): 100%|██████████| 102/102 [02:25<00:00,  1.43s/it]\n",
      "Validate (15504 / 10 Steps): 100%|██████████| 25/25 [01:34<00:00,  3.77s/it]9<00:02,  2.20it/s]\n",
      "Training (15600 / 18000 Steps) (loss=0.58797):  95%|█████████▌| 97/102 [02:23<02:23, 28.73s/it]"
     ]
    },
    {
     "name": "stdout",
     "output_type": "stream",
     "text": [
      "Model Was Not Saved ! Current Best Avg. Dice: 0.2780369222164154 Current Avg. Dice: 0.12287407368421555 Current Avg. tumor Dice: 0.17669948935508728 Current Avg. lymph Dice: 0.0449632965028286\n"
     ]
    },
    {
     "name": "stderr",
     "output_type": "stream",
     "text": [
      "Training (15605 / 18000 Steps) (loss=0.22976): 100%|██████████| 102/102 [02:26<00:00,  1.44s/it]\n",
      "Validate (15606 / 10 Steps): 100%|██████████| 25/25 [01:33<00:00,  3.75s/it]8<00:03,  2.19it/s]\n",
      "Training (15700 / 18000 Steps) (loss=0.31282):  93%|█████████▎| 95/102 [02:22<03:20, 28.57s/it]"
     ]
    },
    {
     "name": "stdout",
     "output_type": "stream",
     "text": [
      "Model Was Not Saved ! Current Best Avg. Dice: 0.2780369222164154 Current Avg. Dice: 0.14004240930080414 Current Avg. tumor Dice: 0.18465612828731537 Current Avg. lymph Dice: 0.07587379217147827\n"
     ]
    },
    {
     "name": "stderr",
     "output_type": "stream",
     "text": [
      "Training (15707 / 18000 Steps) (loss=0.59131): 100%|██████████| 102/102 [02:25<00:00,  1.43s/it]\n",
      "Validate (15708 / 10 Steps): 100%|██████████| 25/25 [01:33<00:00,  3.74s/it]8<00:04,  2.16it/s]\n",
      "Training (15800 / 18000 Steps) (loss=0.62590):  91%|█████████ | 93/102 [02:21<04:16, 28.55s/it]"
     ]
    },
    {
     "name": "stdout",
     "output_type": "stream",
     "text": [
      "Model Was Not Saved ! Current Best Avg. Dice: 0.2780369222164154 Current Avg. Dice: 0.11513704061508179 Current Avg. tumor Dice: 0.1778154969215393 Current Avg. lymph Dice: 0.02664603479206562\n"
     ]
    },
    {
     "name": "stderr",
     "output_type": "stream",
     "text": [
      "Training (15809 / 18000 Steps) (loss=0.52192): 100%|██████████| 102/102 [02:25<00:00,  1.43s/it]\n",
      "Validate (15810 / 10 Steps): 100%|██████████| 25/25 [01:34<00:00,  3.77s/it]8<00:05,  2.04it/s]\n",
      "Training (15900 / 18000 Steps) (loss=0.56454):  89%|████████▉ | 91/102 [02:22<05:16, 28.80s/it]"
     ]
    },
    {
     "name": "stdout",
     "output_type": "stream",
     "text": [
      "Model Was Not Saved ! Current Best Avg. Dice: 0.2780369222164154 Current Avg. Dice: 0.16701696813106537 Current Avg. tumor Dice: 0.23097243905067444 Current Avg. lymph Dice: 0.08049274981021881\n"
     ]
    },
    {
     "name": "stderr",
     "output_type": "stream",
     "text": [
      "Training (15911 / 18000 Steps) (loss=0.38253): 100%|██████████| 102/102 [02:28<00:00,  1.45s/it]\n",
      "Validate (15912 / 10 Steps): 100%|██████████| 25/25 [01:34<00:00,  3.76s/it]6<00:06,  2.16it/s]\n",
      "Training (16000 / 18000 Steps) (loss=0.58794):  87%|████████▋ | 89/102 [02:20<06:13, 28.71s/it]"
     ]
    },
    {
     "name": "stdout",
     "output_type": "stream",
     "text": [
      "Model Was Not Saved ! Current Best Avg. Dice: 0.2780369222164154 Current Avg. Dice: 0.12346885353326797 Current Avg. tumor Dice: 0.17162668704986572 Current Avg. lymph Dice: 0.04856482148170471\n"
     ]
    },
    {
     "name": "stderr",
     "output_type": "stream",
     "text": [
      "Training (16013 / 18000 Steps) (loss=0.23392): 100%|██████████| 102/102 [02:26<00:00,  1.44s/it]\n",
      "Validate (16014 / 10 Steps): 100%|██████████| 25/25 [01:33<00:00,  3.76s/it]6<00:07,  2.17it/s]\n",
      "Training (16100 / 18000 Steps) (loss=0.58009):  85%|████████▌ | 87/102 [02:20<07:10, 28.67s/it]"
     ]
    },
    {
     "name": "stdout",
     "output_type": "stream",
     "text": [
      "Model Was Not Saved ! Current Best Avg. Dice: 0.2780369222164154 Current Avg. Dice: 0.13644638657569885 Current Avg. tumor Dice: 0.19066812098026276 Current Avg. lymph Dice: 0.06034468114376068\n"
     ]
    },
    {
     "name": "stderr",
     "output_type": "stream",
     "text": [
      "Training (16115 / 18000 Steps) (loss=0.56778): 100%|██████████| 102/102 [02:27<00:00,  1.45s/it]\n",
      "Validate (16116 / 10 Steps): 100%|██████████| 25/25 [01:33<00:00,  3.76s/it]5<00:08,  2.18it/s]\n",
      "Training (16200 / 18000 Steps) (loss=0.43940):  83%|████████▎ | 85/102 [02:18<08:06, 28.65s/it]"
     ]
    },
    {
     "name": "stdout",
     "output_type": "stream",
     "text": [
      "Model Was Not Saved ! Current Best Avg. Dice: 0.2780369222164154 Current Avg. Dice: 0.14991484582424164 Current Avg. tumor Dice: 0.22774727642536163 Current Avg. lymph Dice: 0.03491846099495888\n"
     ]
    },
    {
     "name": "stderr",
     "output_type": "stream",
     "text": [
      "Training (16217 / 18000 Steps) (loss=0.34639): 100%|██████████| 102/102 [02:27<00:00,  1.44s/it]\n",
      "Validate (16218 / 10 Steps): 100%|██████████| 25/25 [01:33<00:00,  3.76s/it]5<00:11,  1.77it/s]\n",
      "Training (16300 / 18000 Steps) (loss=0.66820):  81%|████████▏ | 83/102 [02:19<09:05, 28.73s/it]"
     ]
    },
    {
     "name": "stdout",
     "output_type": "stream",
     "text": [
      "Model Was Not Saved ! Current Best Avg. Dice: 0.2780369222164154 Current Avg. Dice: 0.09802381694316864 Current Avg. tumor Dice: 0.1320800632238388 Current Avg. lymph Dice: 0.037706974893808365\n"
     ]
    },
    {
     "name": "stderr",
     "output_type": "stream",
     "text": [
      "Training (16319 / 18000 Steps) (loss=0.19718): 100%|██████████| 102/102 [02:28<00:00,  1.45s/it]\n",
      "Validate (16320 / 10 Steps): 100%|██████████| 25/25 [01:33<00:00,  3.75s/it]2<00:10,  2.10it/s]\n",
      "Training (16400 / 18000 Steps) (loss=0.28412):  79%|███████▉  | 81/102 [02:16<10:01, 28.63s/it]"
     ]
    },
    {
     "name": "stdout",
     "output_type": "stream",
     "text": [
      "Model Was Not Saved ! Current Best Avg. Dice: 0.2780369222164154 Current Avg. Dice: 0.13222283124923706 Current Avg. tumor Dice: 0.15848834812641144 Current Avg. lymph Dice: 0.0857996791601181\n"
     ]
    },
    {
     "name": "stderr",
     "output_type": "stream",
     "text": [
      "Training (16421 / 18000 Steps) (loss=0.21754): 100%|██████████| 102/102 [02:26<00:00,  1.44s/it]\n",
      "Validate (16422 / 10 Steps): 100%|██████████| 25/25 [01:34<00:00,  3.77s/it]2<00:11,  2.05it/s]\n",
      "Training (16500 / 18000 Steps) (loss=0.68618):  77%|███████▋  | 79/102 [02:16<11:01, 28.75s/it]"
     ]
    },
    {
     "name": "stdout",
     "output_type": "stream",
     "text": [
      "Model Was Not Saved ! Current Best Avg. Dice: 0.2780369222164154 Current Avg. Dice: 0.15156012773513794 Current Avg. tumor Dice: 0.23553404211997986 Current Avg. lymph Dice: 0.03383221849799156\n"
     ]
    },
    {
     "name": "stderr",
     "output_type": "stream",
     "text": [
      "Training (16523 / 18000 Steps) (loss=0.49680): 100%|██████████| 102/102 [02:27<00:00,  1.44s/it]\n",
      "Validate (16524 / 10 Steps): 100%|██████████| 25/25 [01:33<00:00,  3.76s/it]1<00:12,  2.06it/s]\n",
      "Training (16600 / 18000 Steps) (loss=0.43346):  75%|███████▌  | 77/102 [02:15<11:57, 28.70s/it]"
     ]
    },
    {
     "name": "stdout",
     "output_type": "stream",
     "text": [
      "Model Was Not Saved ! Current Best Avg. Dice: 0.2780369222164154 Current Avg. Dice: 0.11871083080768585 Current Avg. tumor Dice: 0.15670306980609894 Current Avg. lymph Dice: 0.05533968657255173\n"
     ]
    },
    {
     "name": "stderr",
     "output_type": "stream",
     "text": [
      "Training (16625 / 18000 Steps) (loss=0.23008): 100%|██████████| 102/102 [02:27<00:00,  1.45s/it]\n",
      "Validate (16626 / 10 Steps): 100%|██████████| 25/25 [01:34<00:00,  3.77s/it]1<00:13,  2.12it/s]\n",
      "Training (16700 / 18000 Steps) (loss=0.47021):  74%|███████▎  | 75/102 [02:15<12:55, 28.74s/it]"
     ]
    },
    {
     "name": "stdout",
     "output_type": "stream",
     "text": [
      "Model Was Not Saved ! Current Best Avg. Dice: 0.2780369222164154 Current Avg. Dice: 0.08808517456054688 Current Avg. tumor Dice: 0.09625206887722015 Current Avg. lymph Dice: 0.07503176480531693\n"
     ]
    },
    {
     "name": "stderr",
     "output_type": "stream",
     "text": [
      "Training (16727 / 18000 Steps) (loss=0.42031): 100%|██████████| 102/102 [02:28<00:00,  1.45s/it]\n",
      "Validate (16728 / 10 Steps): 100%|██████████| 25/25 [01:33<00:00,  3.76s/it]9<00:14,  2.13it/s]\n",
      "Training (16800 / 18000 Steps) (loss=0.25463):  72%|███████▏  | 73/102 [02:13<13:51, 28.66s/it]"
     ]
    },
    {
     "name": "stdout",
     "output_type": "stream",
     "text": [
      "Model Was Not Saved ! Current Best Avg. Dice: 0.2780369222164154 Current Avg. Dice: 0.13852699100971222 Current Avg. tumor Dice: 0.16417323052883148 Current Avg. lymph Dice: 0.09605683386325836\n"
     ]
    },
    {
     "name": "stderr",
     "output_type": "stream",
     "text": [
      "Training (16829 / 18000 Steps) (loss=0.45300): 100%|██████████| 102/102 [02:26<00:00,  1.44s/it]\n",
      "Validate (16830 / 10 Steps): 100%|██████████| 25/25 [01:33<00:00,  3.75s/it]7<00:15,  2.12it/s]\n",
      "Training (16900 / 18000 Steps) (loss=0.57956):  70%|██████▉   | 71/102 [02:11<14:46, 28.59s/it]"
     ]
    },
    {
     "name": "stdout",
     "output_type": "stream",
     "text": [
      "Model Was Not Saved ! Current Best Avg. Dice: 0.2780369222164154 Current Avg. Dice: 0.1487707942724228 Current Avg. tumor Dice: 0.21539293229579926 Current Avg. lymph Dice: 0.0495351105928421\n"
     ]
    },
    {
     "name": "stderr",
     "output_type": "stream",
     "text": [
      "Training (16931 / 18000 Steps) (loss=0.21127): 100%|██████████| 102/102 [02:25<00:00,  1.43s/it]\n",
      "Validate (16932 / 10 Steps): 100%|██████████| 25/25 [01:33<00:00,  3.75s/it]5<00:15,  2.14it/s]\n",
      "Training (17000 / 18000 Steps) (loss=0.44544):  68%|██████▊   | 69/102 [02:09<15:44, 28.64s/it]"
     ]
    },
    {
     "name": "stdout",
     "output_type": "stream",
     "text": [
      "Model Was Not Saved ! Current Best Avg. Dice: 0.2780369222164154 Current Avg. Dice: 0.19960148632526398 Current Avg. tumor Dice: 0.3211504817008972 Current Avg. lymph Dice: 0.043857064098119736\n"
     ]
    },
    {
     "name": "stderr",
     "output_type": "stream",
     "text": [
      "Training (17033 / 18000 Steps) (loss=0.46353): 100%|██████████| 102/102 [02:25<00:00,  1.42s/it]\n",
      "Validate (17034 / 10 Steps): 100%|██████████| 25/25 [01:33<00:00,  3.75s/it]4<00:16,  2.17it/s]\n",
      "Training (17100 / 18000 Steps) (loss=0.41126):  66%|██████▌   | 67/102 [02:08<16:42, 28.64s/it]"
     ]
    },
    {
     "name": "stdout",
     "output_type": "stream",
     "text": [
      "Model Was Not Saved ! Current Best Avg. Dice: 0.2780369222164154 Current Avg. Dice: 0.19971998035907745 Current Avg. tumor Dice: 0.3193220794200897 Current Avg. lymph Dice: 0.038905851542949677\n"
     ]
    },
    {
     "name": "stderr",
     "output_type": "stream",
     "text": [
      "Training (17135 / 18000 Steps) (loss=0.58902): 100%|██████████| 102/102 [02:24<00:00,  1.42s/it]\n",
      "Validate (17136 / 10 Steps): 100%|██████████| 25/25 [01:33<00:00,  3.76s/it]4<00:17,  2.16it/s]\n",
      "Training (17200 / 18000 Steps) (loss=0.27172):  64%|██████▎   | 65/102 [02:08<17:40, 28.67s/it]"
     ]
    },
    {
     "name": "stdout",
     "output_type": "stream",
     "text": [
      "Model Was Not Saved ! Current Best Avg. Dice: 0.2780369222164154 Current Avg. Dice: 0.13700073957443237 Current Avg. tumor Dice: 0.22092463076114655 Current Avg. lymph Dice: 0.020166192203760147\n"
     ]
    },
    {
     "name": "stderr",
     "output_type": "stream",
     "text": [
      "Training (17237 / 18000 Steps) (loss=0.54992): 100%|██████████| 102/102 [02:25<00:00,  1.42s/it]\n",
      "Validate (17238 / 10 Steps): 100%|██████████| 25/25 [01:33<00:00,  3.75s/it]3<00:18,  2.13it/s]\n",
      "Training (17300 / 18000 Steps) (loss=0.51963):  62%|██████▏   | 63/102 [02:07<18:36, 28.64s/it]"
     ]
    },
    {
     "name": "stdout",
     "output_type": "stream",
     "text": [
      "Model Was Not Saved ! Current Best Avg. Dice: 0.2780369222164154 Current Avg. Dice: 0.15718643367290497 Current Avg. tumor Dice: 0.25077855587005615 Current Avg. lymph Dice: 0.028193261474370956\n"
     ]
    },
    {
     "name": "stderr",
     "output_type": "stream",
     "text": [
      "Training (17339 / 18000 Steps) (loss=0.41391): 100%|██████████| 102/102 [02:25<00:00,  1.43s/it]\n",
      "Validate (17340 / 10 Steps): 100%|██████████| 25/25 [01:33<00:00,  3.74s/it]2<00:19,  2.18it/s]\n",
      "Training (17400 / 18000 Steps) (loss=0.44906):  60%|█████▉    | 61/102 [02:05<19:28, 28.51s/it]"
     ]
    },
    {
     "name": "stdout",
     "output_type": "stream",
     "text": [
      "Model Was Not Saved ! Current Best Avg. Dice: 0.2780369222164154 Current Avg. Dice: 0.1788874715566635 Current Avg. tumor Dice: 0.25571537017822266 Current Avg. lymph Dice: 0.06853128969669342\n"
     ]
    },
    {
     "name": "stderr",
     "output_type": "stream",
     "text": [
      "Training (17441 / 18000 Steps) (loss=0.66684): 100%|██████████| 102/102 [02:24<00:00,  1.42s/it]\n",
      "Validate (17442 / 10 Steps): 100%|██████████| 25/25 [01:33<00:00,  3.74s/it]2<00:21,  2.04it/s]\n",
      "Training (17500 / 18000 Steps) (loss=0.44409):  58%|█████▊    | 59/102 [02:05<20:28, 28.57s/it]"
     ]
    },
    {
     "name": "stdout",
     "output_type": "stream",
     "text": [
      "Model Was Not Saved ! Current Best Avg. Dice: 0.2780369222164154 Current Avg. Dice: 0.1757994294166565 Current Avg. tumor Dice: 0.29535043239593506 Current Avg. lymph Dice: 0.018883265554904938\n"
     ]
    },
    {
     "name": "stderr",
     "output_type": "stream",
     "text": [
      "Training (17543 / 18000 Steps) (loss=0.21605): 100%|██████████| 102/102 [02:26<00:00,  1.44s/it]\n",
      "Validate (17544 / 10 Steps): 100%|██████████| 25/25 [01:33<00:00,  3.76s/it]0<00:21,  2.17it/s]\n",
      "Training (17600 / 18000 Steps) (loss=0.34171):  56%|█████▌    | 57/102 [02:05<21:31, 28.69s/it]"
     ]
    },
    {
     "name": "stdout",
     "output_type": "stream",
     "text": [
      "Model Was Not Saved ! Current Best Avg. Dice: 0.2780369222164154 Current Avg. Dice: 0.22362397611141205 Current Avg. tumor Dice: 0.3692886531352997 Current Avg. lymph Dice: 0.032699111849069595\n"
     ]
    },
    {
     "name": "stderr",
     "output_type": "stream",
     "text": [
      "Training (17645 / 18000 Steps) (loss=0.47609): 100%|██████████| 102/102 [02:26<00:00,  1.43s/it]\n",
      "Validate (17646 / 10 Steps): 100%|██████████| 25/25 [01:33<00:00,  3.74s/it]9<00:22,  2.13it/s]\n",
      "Training (17700 / 18000 Steps) (loss=0.34238):  54%|█████▍    | 55/102 [02:03<22:21, 28.54s/it]"
     ]
    },
    {
     "name": "stdout",
     "output_type": "stream",
     "text": [
      "Model Was Not Saved ! Current Best Avg. Dice: 0.2780369222164154 Current Avg. Dice: 0.12704870104789734 Current Avg. tumor Dice: 0.1744248867034912 Current Avg. lymph Dice: 0.06292428076267242\n"
     ]
    },
    {
     "name": "stderr",
     "output_type": "stream",
     "text": [
      "Training (17747 / 18000 Steps) (loss=0.14096): 100%|██████████| 102/102 [02:25<00:00,  1.43s/it]\n",
      "Validate (17748 / 10 Steps): 100%|██████████| 25/25 [01:33<00:00,  3.73s/it]8<00:23,  2.15it/s]\n",
      "Training (17800 / 18000 Steps) (loss=0.32838):  52%|█████▏    | 53/102 [02:01<23:14, 28.45s/it]"
     ]
    },
    {
     "name": "stdout",
     "output_type": "stream",
     "text": [
      "Model Was Not Saved ! Current Best Avg. Dice: 0.2780369222164154 Current Avg. Dice: 0.14069664478302002 Current Avg. tumor Dice: 0.21300429105758667 Current Avg. lymph Dice: 0.05221002548933029\n"
     ]
    },
    {
     "name": "stderr",
     "output_type": "stream",
     "text": [
      "Training (17849 / 18000 Steps) (loss=0.51049): 100%|██████████| 102/102 [02:24<00:00,  1.42s/it]\n",
      "Validate (17850 / 10 Steps): 100%|██████████| 25/25 [01:33<00:00,  3.75s/it]8<00:23,  2.17it/s]\n",
      "Training (17900 / 18000 Steps) (loss=0.30752):  50%|█████     | 51/102 [02:01<24:18, 28.60s/it]"
     ]
    },
    {
     "name": "stdout",
     "output_type": "stream",
     "text": [
      "Model Was Not Saved ! Current Best Avg. Dice: 0.2780369222164154 Current Avg. Dice: 0.14515484869480133 Current Avg. tumor Dice: 0.20958495140075684 Current Avg. lymph Dice: 0.05382256954908371\n"
     ]
    },
    {
     "name": "stderr",
     "output_type": "stream",
     "text": [
      "Training (17951 / 18000 Steps) (loss=0.57700): 100%|██████████| 102/102 [02:25<00:00,  1.43s/it]\n",
      "Validate (17952 / 10 Steps): 100%|██████████| 25/25 [01:33<00:00,  3.75s/it]6<00:24,  2.18it/s]\n",
      "Training (18000 / 18000 Steps) (loss=0.41319):  48%|████▊     | 49/102 [02:00<25:16, 28.61s/it]"
     ]
    },
    {
     "name": "stdout",
     "output_type": "stream",
     "text": [
      "Model Was Not Saved ! Current Best Avg. Dice: 0.2780369222164154 Current Avg. Dice: 0.06744949519634247 Current Avg. tumor Dice: 0.09284871071577072 Current Avg. lymph Dice: 0.034669600427150726\n"
     ]
    },
    {
     "name": "stderr",
     "output_type": "stream",
     "text": [
      "Training (18053 / 18000 Steps) (loss=0.56344): 100%|██████████| 102/102 [02:24<00:00,  1.42s/it]\n"
     ]
    }
   ],
   "source": [
    "epoch = 0 # used for LR scheduler\n",
    "max_num_epochs = 530 # used for LR scheduler\n",
    "\n",
    "\n",
    "while global_step < max_iterations:\n",
    "    global_step, dice_val_best, global_step_best = train(\n",
    "        global_step, train_loader, dice_val_best, global_step_best\n",
    "    )\n",
    "    epoch += 1\n",
    "    #optimizer.param_groups[0]['lr'] = poly_lr(epoch, max_num_epochs, 0.005676 , 0.9)\n",
    "# model.load_state_dict(torch.load(os.path.join(model_dir, \"best_metric_luck_UNETr_prompt.pth\")))"
   ]
  }
 ],
 "metadata": {
  "kernelspec": {
   "display_name": "clam",
   "language": "python",
   "name": "python3"
  },
  "language_info": {
   "codemirror_mode": {
    "name": "ipython",
    "version": 3
   },
   "file_extension": ".py",
   "mimetype": "text/x-python",
   "name": "python",
   "nbconvert_exporter": "python",
   "pygments_lexer": "ipython3",
   "version": "3.8.0"
  }
 },
 "nbformat": 4,
 "nbformat_minor": 2
}
