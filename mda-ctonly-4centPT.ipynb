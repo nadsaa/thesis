{
 "cells": [
  {
   "cell_type": "code",
   "execution_count": 1,
   "metadata": {},
   "outputs": [
    {
     "data": {
      "text/plain": [
       "1"
      ]
     },
     "execution_count": 1,
     "metadata": {},
     "output_type": "execute_result"
    }
   ],
   "source": [
    "import os\n",
    "os.environ[\"CUDA_DEVICE_ORDER\"] = \"PCI_BUS_ID\"\n",
    "os.environ[\"CUDA_VISIBLE_DEVICES\"] = \"3\" \n",
    "import torch\n",
    "torch.cuda.device_count()"
   ]
  },
  {
   "cell_type": "code",
   "execution_count": 2,
   "metadata": {},
   "outputs": [],
   "source": [
    "import os\n",
    "import shutil\n",
    "import tempfile\n",
    "\n",
    "import matplotlib.pyplot as plt\n",
    "import numpy as np\n",
    "from tqdm import tqdm\n",
    "from glob import glob\n",
    "# import wandb\n",
    "\n",
    "import monai\n",
    "from monai.losses import DiceCELoss, DiceFocalLoss, FocalLoss\n",
    "from monai.inferers import sliding_window_inference\n",
    "from monai import transforms\n",
    "\n",
    "from monai.transforms import (\n",
    "    AsDiscrete,\n",
    "    Compose,\n",
    "    CropForegroundd,\n",
    "    LoadImaged,\n",
    "    Orientationd,\n",
    "    RandFlipd,\n",
    "    RandCropByPosNegLabeld,\n",
    "    RandShiftIntensityd,\n",
    "    ScaleIntensityRanged,\n",
    "    Spacingd,\n",
    "    RandRotate90d,\n",
    "    MapTransform,\n",
    "    ScaleIntensityd,\n",
    "    #AddChanneld,\n",
    "    SpatialPadd,\n",
    "    CenterSpatialCropd,\n",
    "    EnsureChannelFirstd,\n",
    "    ConcatItemsd,\n",
    "    AdjustContrastd, \n",
    "    Rand3DElasticd,\n",
    "    HistogramNormalized,\n",
    "    NormalizeIntensityd,\n",
    "    Invertd,\n",
    "    SaveImage,\n",
    "\n",
    ")\n",
    "\n",
    "from monai.config import print_config\n",
    "from monai.metrics import DiceMetric\n",
    "from monai.networks.nets import SwinUNETR, UNETR, SegResNet\n",
    "\n",
    "from monai.data import (\n",
    "    DataLoader,\n",
    "    CacheDataset,\n",
    "    load_decathlon_datalist,\n",
    "    decollate_batch,\n",
    ")\n",
    "from monai import data\n",
    "from monai.data import (\n",
    "    Dataset,\n",
    "    DataLoader,\n",
    "    CacheDataset,\n",
    "    load_decathlon_datalist,\n",
    "    decollate_batch,\n",
    ")\n",
    "\n",
    "\n",
    "from monai.utils import first, set_determinism\n",
    "from sklearn.model_selection import train_test_split\n",
    "import json\n",
    "\n",
    "\n",
    "import torch"
   ]
  },
  {
   "cell_type": "code",
   "execution_count": 3,
   "metadata": {},
   "outputs": [],
   "source": [
    "set_determinism(seed=1024)"
   ]
  },
  {
   "cell_type": "code",
   "execution_count": 4,
   "metadata": {},
   "outputs": [],
   "source": [
    "data_dir = '/home/nada.saadi/MIS-FM/hecktor2022_cropped'\n",
    "json_dir= '/home/nada.saadi/MIS-FM/hecktor2022_cropped/MDA_ct_train_new.json'"
   ]
  },
  {
   "cell_type": "code",
   "execution_count": 5,
   "metadata": {},
   "outputs": [],
   "source": [
    "def datafold_read(datalist, basedir, fold=0, key=\"training\"):\n",
    "    with open(datalist) as f:\n",
    "        json_data = json.load(f)\n",
    "\n",
    "    json_data = json_data[key]\n",
    "\n",
    "    for d in json_data:\n",
    "        for k in d:\n",
    "            if isinstance(d[k], list):\n",
    "                d[k] = [os.path.join(basedir, iv) for iv in d[k]]\n",
    "            elif isinstance(d[k], str):\n",
    "                d[k] = os.path.join(basedir, d[k]) if len(d[k]) > 0 else d[k]\n",
    "\n",
    "    tr = []\n",
    "    val = []\n",
    "    for d in json_data:\n",
    "        if \"fold\" in d and d[\"fold\"] == fold:\n",
    "            val.append(d)\n",
    "        else:\n",
    "            tr.append(d)\n",
    "\n",
    "    return tr, val"
   ]
  },
  {
   "cell_type": "code",
   "execution_count": 6,
   "metadata": {},
   "outputs": [
    {
     "data": {
      "text/plain": [
       "(152, 44)"
      ]
     },
     "execution_count": 6,
     "metadata": {},
     "output_type": "execute_result"
    }
   ],
   "source": [
    "train_data, valid_data = datafold_read(datalist=json_dir, basedir=data_dir, fold=0)\n",
    "len(train_data), len(valid_data)"
   ]
  },
  {
   "cell_type": "code",
   "execution_count": 15,
   "metadata": {},
   "outputs": [
    {
     "name": "stdout",
     "output_type": "stream",
     "text": [
      "Validation data saved to /home/nada.saadi/CTPET/hecktor2022_cropped/test_ct_only_mda.json\n"
     ]
    }
   ],
   "source": [
    "import json\n",
    "import os\n",
    "\n",
    "# Assuming 'datalist' and 'data_dir' are defined and contain the correct paths\n",
    "# Example:\n",
    "# datalist = '/path/to/your/datalist.json'\n",
    "# data_dir = '/path/to/your/data/directory'\n",
    "\n",
    "def datafold_read(datalist, basedir, fold=0, key=\"training\"):\n",
    "    with open(datalist) as f:\n",
    "        json_data = json.load(f)\n",
    "\n",
    "    json_data = json_data[key]\n",
    "\n",
    "    for d in json_data:\n",
    "        for k in d:\n",
    "            if isinstance(d[k], list):\n",
    "                d[k] = [os.path.join(basedir, iv) for iv in d[k]]\n",
    "            elif isinstance(d[k], str):\n",
    "                d[k] = os.path.join(basedir, d[k]) if len(d[k]) > 0 else d[k]\n",
    "\n",
    "    tr = []\n",
    "    val = []\n",
    "    for d in json_data:\n",
    "        if \"fold\" in d and d[\"fold\"] == fold:\n",
    "            val.append(d)\n",
    "        else:\n",
    "            tr.append(d)\n",
    "\n",
    "    return tr, val\n",
    "\n",
    "# Replace 'json_dir' and 'data_dir' with the actual paths\n",
    "train_data, valid_data = datafold_read(datalist=json_dir, basedir=data_dir, fold=0)\n",
    "\n",
    "# Now, save the 'valid_data' to a JSON file \n",
    "\n",
    "json_file_path = '/home/nada.saadi/CTPET/hecktor2022_cropped/test_ct_only_mda.json'  # Specify the path where you want to save the JSON\n",
    "with open(json_file_path, 'w') as outfile:\n",
    "    json.dump(valid_data, outfile, indent=4)\n",
    "\n",
    "print(f\"Validation data saved to {json_file_path}\")\n",
    "\n"
   ]
  },
  {
   "cell_type": "code",
   "execution_count": 18,
   "metadata": {},
   "outputs": [
    {
     "name": "stdout",
     "output_type": "stream",
     "text": [
      "Number of entries in the JSON file: 44\n"
     ]
    }
   ],
   "source": [
    "import json\n",
    "\n",
    "# Path to your JSON file\n",
    "json_file_path = '/home/nada.saadi/CTPET/hecktor2022_cropped/test_ct_only_mda.json'\n",
    "\n",
    "# Load the JSON file\n",
    "with open(json_file_path, 'r') as infile:\n",
    "    data = json.load(infile)\n",
    "\n",
    "# Count the number of entries\n",
    "number_of_files = len(data)\n",
    "\n",
    "print(f\"Number of entries in the JSON file: {number_of_files}\")\n"
   ]
  },
  {
   "cell_type": "code",
   "execution_count": 7,
   "metadata": {},
   "outputs": [],
   "source": [
    "class ClipCT(MapTransform):\n",
    "    \"\"\"\n",
    "    Convert labels to multi channels based on hecktor classes:\n",
    "    label 1 is the tumor\n",
    "    label 2 is the lymph node\n",
    "\n",
    "    \"\"\"\n",
    "\n",
    "    def __call__(self, data):\n",
    "        d = dict(data)\n",
    "        for key in self.keys:\n",
    "            if key == \"ct\":\n",
    "                d[key] = torch.clip(d[key], min=-200, max=200)\n",
    "            # elif key == \"pt\":\n",
    "            #     d[key] = torch.clip(d[key], d[key].min(), 5)\n",
    "        return d\n",
    "\n",
    "class MulPTFM(MapTransform):\n",
    "    \"\"\"\n",
    "    Mult PT and FM \n",
    "\n",
    "    \"\"\"\n",
    "\n",
    "    def __call__(self, data):\n",
    "        d = dict(data)\n",
    "\n",
    "        fm = d[\"ct\"] > 0\n",
    "        d[\"pt\"] = d[\"pt\"] * fm\n",
    "        return d\n",
    "\n",
    "class SelectClass(MapTransform):\n",
    "    \"\"\"\n",
    "    Select the class for which you want to fine tune the model \n",
    "\n",
    "    \"\"\"\n",
    "    # def __init__(self, keys, cls=1):\n",
    "    #     super(self).__init__(keys)\n",
    "    #     self.cls = cls\n",
    "\n",
    "    def __call__(self, data):\n",
    "        d = dict(data)\n",
    "        d[\"seg\"][d[\"seg\"] == 1] = 0\n",
    "        # d[\"seg\"][d[\"seg\"] == 2] = 1\n",
    "        \n",
    "        return d"
   ]
  },
  {
   "cell_type": "code",
   "execution_count": 8,
   "metadata": {},
   "outputs": [],
   "source": [
    "num_samples = 4\n",
    "\n",
    "train_transforms = Compose(\n",
    "    [\n",
    "        LoadImaged(keys=[\"ct\", \"seg\"], ensure_channel_first = True),\n",
    "        SpatialPadd(keys=[\"ct\",  \"seg\"], spatial_size=(200, 200, 310), method='end'),\n",
    "        Orientationd(keys=[\"ct\",  \"seg\"], axcodes=\"PLS\"),\n",
    "        #NormalizeIntensityd(keys=[\"pt\"]),\n",
    "        ClipCT(keys=[\"ct\"]),\n",
    "        ScaleIntensityd(keys=[\"ct\"], minv=0, maxv=1),\n",
    "        #MulPTFM(keys=[\"ct\",\"pt\"]),\n",
    "        #ConcatItemsd(keys=[\"pt\", \"ct\"], name=\"ctpt\"),\n",
    "        #NormalizeIntensityd(keys=[\"ctpt\"], channel_wise=True),\n",
    "        RandCropByPosNegLabeld(\n",
    "            keys=[\"ct\", \"seg\"],\n",
    "            label_key=\"seg\",\n",
    "            spatial_size=(96, 96, 96),\n",
    "            pos=1,\n",
    "            neg=1,\n",
    "            num_samples=num_samples,\n",
    "            image_key=\"ct\",\n",
    "            image_threshold=0,\n",
    "        ),\n",
    "        RandFlipd(\n",
    "            keys=[\"ct\", \"seg\"],\n",
    "            spatial_axis=[0],\n",
    "            prob=0.20,\n",
    "        ),\n",
    "        RandFlipd(\n",
    "            keys=[\"ct\", \"seg\"],\n",
    "            spatial_axis=[1],\n",
    "            prob=0.20,\n",
    "        ),\n",
    "        RandFlipd(\n",
    "            keys=[\"ct\", \"seg\"],\n",
    "            spatial_axis=[2],\n",
    "            prob=0.20,\n",
    "        ),\n",
    "        RandRotate90d(\n",
    "            keys=[\"ct\", \"seg\"],\n",
    "            prob=0.20,\n",
    "            max_k=3,\n",
    "        ),\n",
    "    ]\n",
    ")\n",
    "val_transforms = Compose(\n",
    "    [\n",
    "        LoadImaged(keys=[\"ct\", \"seg\"], ensure_channel_first = True),\n",
    "        SpatialPadd(keys=[\"ct\", \"seg\"], spatial_size=(200, 200, 310), method='end'),\n",
    "        Orientationd(keys=[\"ct\",  \"seg\"], axcodes=\"PLS\"),\n",
    "        #NormalizeIntensityd(keys=[\"pt\"]),\n",
    "        ClipCT(keys=[\"ct\"]),\n",
    "        ScaleIntensityd(keys=[\"ct\"], minv=0, maxv=1),\n",
    "        #MulPTFM(keys=[\"ct\",\"pt\"]),\n",
    "        #ConcatItemsd(keys=[\"pt\", \"ct\"], name=\"ctpt\"),\n",
    "    ]\n",
    ")\n",
    "\n",
    "def create_dataloader(data, transforms, batch_size=2, shuffle=True):\n",
    "    # Create CacheDataset with the reformatted data\n",
    "    dataset = Dataset(data=data, transform=transforms)\n",
    "\n",
    "    # Create DataLoader\n",
    "    return DataLoader(dataset, batch_size=batch_size, shuffle=shuffle, num_workers=8)\n",
    "\n",
    "\n",
    "\n",
    "train_loader = create_dataloader(train_data, train_transforms, shuffle=True)\n",
    "val_loader = create_dataloader(valid_data, val_transforms, shuffle=False)"
   ]
  },
  {
   "cell_type": "code",
   "execution_count": 9,
   "metadata": {},
   "outputs": [
    {
     "name": "stderr",
     "output_type": "stream",
     "text": [
      "/home/nada.saadi/miniconda3/envs/clam/lib/python3.8/site-packages/monai/utils/deprecate_utils.py:221: FutureWarning: monai.networks.nets.unetr UNETR.__init__:pos_embed: Argument `pos_embed` has been deprecated since version 1.2. It will be removed in version 1.4. please use `proj_type` instead.\n",
      "  warn_deprecated(argname, msg, warning_category)\n"
     ]
    }
   ],
   "source": [
    "import torch\n",
    "import torch.nn as nn\n",
    "from monai.networks.nets import UNETR\n",
    "\n",
    "\n",
    "os.environ[\"CUDA_DEVICE_ORDER\"] = \"PCI_BUS_ID\"\n",
    "device = torch.device(\"cuda\" if torch.cuda.is_available() else \"cpu\")\n",
    "# Load the pretrained weights\n",
    "pretrained_weights = torch.load('/home/nada.saadi/CTPET/hecktor2022_cropped/4centers-ctonly/4centers-ctonly.pth')\n",
    "\n",
    "# Instantiate the new model with 2 input channels\n",
    "new_model = UNETR(\n",
    "    in_channels=1, \n",
    "    out_channels=3,\n",
    "    img_size=(96, 96, 96),\n",
    "    feature_size=16,\n",
    "    hidden_size=768,\n",
    "    mlp_dim=3072,\n",
    "    num_heads=12,\n",
    "    pos_embed=\"perceptron\",\n",
    "    norm_name=\"instance\",\n",
    "    res_block=True,\n",
    "    dropout_rate=0.0,\n",
    ").to(device)"
   ]
  },
  {
   "cell_type": "code",
   "execution_count": 10,
   "metadata": {},
   "outputs": [],
   "source": [
    "torch.backends.cudnn.benchmark = True\n",
    "def poly_lr(epoch, max_epochs, initial_lr, exponent=0.9):\n",
    "    return initial_lr * (1 - epoch / max_epochs)**exponent\n",
    "\n",
    "loss_function = DiceCELoss(to_onehot_y=True, softmax=True)\n",
    "optimizer = torch.optim.AdamW(new_model.parameters(), lr=1e-4, weight_decay=1e-5)"
   ]
  },
  {
   "cell_type": "code",
   "execution_count": 11,
   "metadata": {},
   "outputs": [],
   "source": [
    "\n",
    "\n",
    "model_dir='/home/nada.saadi/CTPET/hecktor2022_cropped/mda-ctonly-PT'\n",
    "max_iterations = 18000\n",
    "eval_num = 100\n",
    "\n",
    "## running stats\n",
    "global_step = 0\n",
    "dice_val_best = 0.0\n",
    "global_step_best = 0\n",
    "epoch_loss_values = []\n",
    "metric_values = []\n",
    "metric_values_tumor = []\n",
    "metric_values_lymph = []\n",
    "\n",
    "\n",
    "loss_function = DiceCELoss(to_onehot_y=True, softmax=True)\n",
    "optimizer = torch.optim.AdamW(new_model.parameters(), lr=1e-4, weight_decay=1e-5)\n",
    "\n",
    "\n",
    "post_label = AsDiscrete(to_onehot=3)\n",
    "post_pred = AsDiscrete(argmax=True, to_onehot=3)\n",
    "\n",
    "dice_metric = DiceMetric(include_background=False, reduction=\"mean\", get_not_nans=False)\n",
    "dice_metric_batch = DiceMetric(include_background=False, reduction=\"mean_batch\")\n",
    "\n",
    "\n",
    "##-----------------------------------------------------------------------------\n",
    "\n",
    "def validation(epoch_iterator_val):\n",
    "        new_model.eval()\n",
    "        with torch.no_grad():\n",
    "            for step, batch in enumerate(epoch_iterator_val):\n",
    "                val_inputs, val_labels = (batch[\"ct\"].cuda(), batch[\"seg\"].cuda())\n",
    "                val_outputs = sliding_window_inference(val_inputs, (96, 96, 96), 4, new_model)\n",
    "                val_labels_list = decollate_batch(val_labels)\n",
    "                val_labels_convert = [\n",
    "                    post_label(val_label_tensor) for val_label_tensor in val_labels_list\n",
    "                ]\n",
    "                val_outputs_list = decollate_batch(val_outputs)\n",
    "                val_output_convert = [\n",
    "                    post_pred(val_pred_tensor) for val_pred_tensor in val_outputs_list\n",
    "                ]\n",
    "                dice_metric(y_pred=val_output_convert, y=val_labels_convert)\n",
    "                dice_metric_batch(y_pred=val_output_convert, y=val_labels_convert)\n",
    "                epoch_iterator_val.set_description(\n",
    "                    \"Validate (%d / %d Steps)\" % (global_step, 10.0)\n",
    "                )\n",
    "            mean_dice_val = dice_metric.aggregate().item()\n",
    "            metric_batch_val = dice_metric_batch.aggregate()\n",
    "\n",
    "            metric_tumor = metric_batch_val[0].item()\n",
    "            metric_lymph = metric_batch_val[1].item()\n",
    "\n",
    "            dice_metric.reset()\n",
    "            dice_metric_batch.reset()\n",
    "        return mean_dice_val, metric_tumor, metric_lymph\n",
    "\n",
    "\n",
    "\n",
    "def train(global_step, train_loader, dice_val_best, global_step_best):\n",
    "        new_model.train()\n",
    "        epoch_loss = 0\n",
    "        step = 0\n",
    "        epoch_iterator = tqdm(\n",
    "            train_loader, desc=\"Training (X / X Steps) (loss=X.X)\", dynamic_ncols=True\n",
    "        )\n",
    "        \n",
    "        for step, batch in enumerate(epoch_iterator):\n",
    "            step += 1\n",
    "            x, y = (batch[\"ct\"].cuda(), batch[\"seg\"].cuda())\n",
    "            logit_map = new_model(x)\n",
    "            loss = loss_function(logit_map, y)\n",
    "            loss.backward()\n",
    "            epoch_loss += loss.item() \n",
    "            optimizer.step()\n",
    "            optimizer.zero_grad()\n",
    "            epoch_iterator.set_description(\n",
    "                \"Training (%d / %d Steps) (loss=%2.5f)\"\n",
    "                % (global_step, max_iterations, loss)\n",
    "            )\n",
    "            \n",
    "            if (\n",
    "                global_step % eval_num == 0 and global_step != 0\n",
    "            ) or global_step == max_iterations:\n",
    "                epoch_iterator_val = tqdm(\n",
    "                    val_loader, desc=\"Validate (X / X Steps) (dice=X.X)\", dynamic_ncols=True\n",
    "                )\n",
    "                dice_val, metric_tumor, metric_lymph = validation(epoch_iterator_val)\n",
    "                epoch_loss /= step\n",
    "                epoch_loss_values.append(epoch_loss)\n",
    "                metric_values.append(dice_val)\n",
    "                metric_values_tumor.append(metric_tumor)\n",
    "                metric_values_lymph.append(metric_lymph)\n",
    "                if dice_val > dice_val_best:\n",
    "                    dice_val_best = dice_val\n",
    "                    global_step_best = global_step\n",
    "                    torch.save(\n",
    "                        new_model.state_dict(), os.path.join(model_dir, \"ctonly-PT-with4.pth\")\n",
    "                    )\n",
    "                    print(\n",
    "                        \"Model Was Saved ! Current Best Avg. Dice: {} Current Avg. Dice: {} Current Avg. tumor Dice: {} Current Avg. lymph Dice: {}\".format(\n",
    "                            dice_val_best, dice_val, metric_tumor, metric_lymph\n",
    "                        )\n",
    "                    )\n",
    "                else:\n",
    "                    print(\n",
    "                        \"Model Was Not Saved ! Current Best Avg. Dice: {} Current Avg. Dice: {} Current Avg. tumor Dice: {} Current Avg. lymph Dice: {}\".format(\n",
    "                            dice_val_best, dice_val,  metric_tumor, metric_lymph\n",
    "                        )\n",
    "                    )\n",
    "            global_step += 1\n",
    "        return global_step, dice_val_best, global_step_best"
   ]
  },
  {
   "cell_type": "code",
   "execution_count": 12,
   "metadata": {},
   "outputs": [
    {
     "name": "stderr",
     "output_type": "stream",
     "text": [
      "Training (X / X Steps) (loss=X.X):   0%|          | 0/76 [00:00<?, ?it/s]"
     ]
    },
    {
     "name": "stderr",
     "output_type": "stream",
     "text": [
      "Training (75 / 18000 Steps) (loss=1.23811): 100%|██████████| 76/76 [00:46<00:00,  1.63it/s]\n",
      "Validate (76 / 10 Steps): 100%|██████████| 22/22 [00:28<00:00,  1.29s/it]4<00:24,  2.15it/s]\n",
      "Training (100 / 18000 Steps) (loss=1.21162):  33%|███▎      | 25/76 [00:43<07:56,  9.34s/it]"
     ]
    },
    {
     "name": "stdout",
     "output_type": "stream",
     "text": [
      "Model Was Saved ! Current Best Avg. Dice: 0.00016680559201631695 Current Avg. Dice: 0.00016680559201631695 Current Avg. tumor Dice: 0.0002828880387824029 Current Avg. lymph Dice: 0.0\n"
     ]
    },
    {
     "name": "stderr",
     "output_type": "stream",
     "text": [
      "Training (151 / 18000 Steps) (loss=1.17373): 100%|██████████| 76/76 [01:07<00:00,  1.13it/s]\n",
      "Validate (152 / 10 Steps): 100%|██████████| 22/22 [00:27<00:00,  1.24s/it]<00:12,  2.17it/s]\n",
      "Training (200 / 18000 Steps) (loss=1.13111):  64%|██████▍   | 49/76 [00:52<03:55,  8.72s/it]"
     ]
    },
    {
     "name": "stdout",
     "output_type": "stream",
     "text": [
      "Model Was Not Saved ! Current Best Avg. Dice: 0.00016680559201631695 Current Avg. Dice: 1.1749842087738216e-05 Current Avg. tumor Dice: 1.7013055185088888e-05 Current Avg. lymph Dice: 0.0\n"
     ]
    },
    {
     "name": "stderr",
     "output_type": "stream",
     "text": [
      "Training (227 / 18000 Steps) (loss=1.10062): 100%|██████████| 76/76 [01:05<00:00,  1.16it/s]\n",
      "Validate (228 / 10 Steps): 100%|██████████| 22/22 [00:27<00:00,  1.24s/it]<00:01,  2.18it/s]\n",
      "Training (300 / 18000 Steps) (loss=1.03812):  96%|█████████▌| 73/76 [01:04<00:26,  8.68s/it]"
     ]
    },
    {
     "name": "stdout",
     "output_type": "stream",
     "text": [
      "Model Was Not Saved ! Current Best Avg. Dice: 0.00016680559201631695 Current Avg. Dice: 0.0 Current Avg. tumor Dice: 0.0 Current Avg. lymph Dice: 0.0\n"
     ]
    },
    {
     "name": "stderr",
     "output_type": "stream",
     "text": [
      "Training (303 / 18000 Steps) (loss=1.04034): 100%|██████████| 76/76 [01:05<00:00,  1.16it/s]\n",
      "Training (379 / 18000 Steps) (loss=1.03806): 100%|██████████| 76/76 [00:38<00:00,  1.97it/s]\n",
      "Validate (380 / 10 Steps): 100%|██████████| 22/22 [00:27<00:00,  1.24s/it]<00:25,  2.20it/s]\n",
      "Training (400 / 18000 Steps) (loss=0.98943):  28%|██▊       | 21/76 [00:39<07:54,  8.63s/it]"
     ]
    },
    {
     "name": "stdout",
     "output_type": "stream",
     "text": [
      "Model Was Not Saved ! Current Best Avg. Dice: 0.00016680559201631695 Current Avg. Dice: 0.0 Current Avg. tumor Dice: 0.0 Current Avg. lymph Dice: 0.0\n"
     ]
    },
    {
     "name": "stderr",
     "output_type": "stream",
     "text": [
      "Training (455 / 18000 Steps) (loss=0.96818): 100%|██████████| 76/76 [01:05<00:00,  1.15it/s]\n",
      "Validate (456 / 10 Steps): 100%|██████████| 22/22 [00:27<00:00,  1.25s/it]<00:15,  2.05it/s]\n",
      "Training (500 / 18000 Steps) (loss=0.96684):  59%|█████▉    | 45/76 [00:51<04:36,  8.91s/it]"
     ]
    },
    {
     "name": "stdout",
     "output_type": "stream",
     "text": [
      "Model Was Saved ! Current Best Avg. Dice: 0.005615079775452614 Current Avg. Dice: 0.005615079775452614 Current Avg. tumor Dice: 0.0 Current Avg. lymph Dice: 0.013725749216973782\n"
     ]
    },
    {
     "name": "stderr",
     "output_type": "stream",
     "text": [
      "Training (531 / 18000 Steps) (loss=0.94022): 100%|██████████| 76/76 [01:06<00:00,  1.14it/s]\n",
      "Validate (532 / 10 Steps): 100%|██████████| 22/22 [00:27<00:00,  1.24s/it]<00:03,  2.17it/s]\n",
      "Training (600 / 18000 Steps) (loss=0.93056):  91%|█████████ | 69/76 [01:02<01:00,  8.65s/it]"
     ]
    },
    {
     "name": "stdout",
     "output_type": "stream",
     "text": [
      "Model Was Not Saved ! Current Best Avg. Dice: 0.005615079775452614 Current Avg. Dice: 1.9496175809763372e-05 Current Avg. tumor Dice: 0.0 Current Avg. lymph Dice: 4.765731864608824e-05\n"
     ]
    },
    {
     "name": "stderr",
     "output_type": "stream",
     "text": [
      "Training (607 / 18000 Steps) (loss=0.91733): 100%|██████████| 76/76 [01:05<00:00,  1.16it/s]\n",
      "Training (683 / 18000 Steps) (loss=0.88570): 100%|██████████| 76/76 [00:38<00:00,  1.95it/s]\n",
      "Validate (684 / 10 Steps): 100%|██████████| 22/22 [00:27<00:00,  1.24s/it]<00:27,  2.21it/s]\n",
      "Training (700 / 18000 Steps) (loss=0.90956):  22%|██▏       | 17/76 [00:38<08:46,  8.92s/it]"
     ]
    },
    {
     "name": "stdout",
     "output_type": "stream",
     "text": [
      "Model Was Saved ! Current Best Avg. Dice: 0.029853301122784615 Current Avg. Dice: 0.029853301122784615 Current Avg. tumor Dice: 0.0 Current Avg. lymph Dice: 0.07248067855834961\n"
     ]
    },
    {
     "name": "stderr",
     "output_type": "stream",
     "text": [
      "Training (759 / 18000 Steps) (loss=0.86457): 100%|██████████| 76/76 [01:07<00:00,  1.13it/s]\n",
      "Validate (760 / 10 Steps): 100%|██████████| 22/22 [00:27<00:00,  1.25s/it]<00:16,  2.14it/s]\n",
      "Training (800 / 18000 Steps) (loss=0.84395):  54%|█████▍    | 41/76 [00:50<05:14,  8.98s/it]"
     ]
    },
    {
     "name": "stdout",
     "output_type": "stream",
     "text": [
      "Model Was Saved ! Current Best Avg. Dice: 0.08996458351612091 Current Avg. Dice: 0.08996458351612091 Current Avg. tumor Dice: 0.0 Current Avg. lymph Dice: 0.2141389101743698\n"
     ]
    },
    {
     "name": "stderr",
     "output_type": "stream",
     "text": [
      "Training (835 / 18000 Steps) (loss=0.86702): 100%|██████████| 76/76 [01:06<00:00,  1.14it/s]\n",
      "Validate (836 / 10 Steps): 100%|██████████| 22/22 [00:26<00:00,  1.23s/it]<00:05,  2.19it/s]\n",
      "Training (900 / 18000 Steps) (loss=0.84567):  86%|████████▌ | 65/76 [00:59<01:34,  8.57s/it]"
     ]
    },
    {
     "name": "stdout",
     "output_type": "stream",
     "text": [
      "Model Was Not Saved ! Current Best Avg. Dice: 0.08996458351612091 Current Avg. Dice: 0.06117065250873566 Current Avg. tumor Dice: 0.0 Current Avg. lymph Dice: 0.14476129412651062\n"
     ]
    },
    {
     "name": "stderr",
     "output_type": "stream",
     "text": [
      "Training (911 / 18000 Steps) (loss=0.83677): 100%|██████████| 76/76 [01:04<00:00,  1.17it/s]\n",
      "Training (987 / 18000 Steps) (loss=0.81677): 100%|██████████| 76/76 [00:38<00:00,  1.97it/s]\n",
      "Validate (988 / 10 Steps): 100%|██████████| 22/22 [00:27<00:00,  1.24s/it]8<00:32,  1.99it/s]\n",
      "Training (1000 / 18000 Steps) (loss=0.83896):  17%|█▋        | 13/76 [00:36<09:12,  8.76s/it]"
     ]
    },
    {
     "name": "stdout",
     "output_type": "stream",
     "text": [
      "Model Was Not Saved ! Current Best Avg. Dice: 0.08996458351612091 Current Avg. Dice: 0.06660707294940948 Current Avg. tumor Dice: 0.0 Current Avg. lymph Dice: 0.15533393621444702\n"
     ]
    },
    {
     "name": "stderr",
     "output_type": "stream",
     "text": [
      "Training (1063 / 18000 Steps) (loss=0.78133): 100%|██████████| 76/76 [01:05<00:00,  1.15it/s]\n",
      "Validate (1064 / 10 Steps): 100%|██████████| 22/22 [00:27<00:00,  1.24s/it]<00:19,  2.10it/s]\n",
      "Training (1100 / 18000 Steps) (loss=0.80172):  49%|████▊     | 37/76 [00:47<05:37,  8.66s/it]"
     ]
    },
    {
     "name": "stdout",
     "output_type": "stream",
     "text": [
      "Model Was Not Saved ! Current Best Avg. Dice: 0.08996458351612091 Current Avg. Dice: 0.051104627549648285 Current Avg. tumor Dice: 0.0 Current Avg. lymph Dice: 0.12219822406768799\n"
     ]
    },
    {
     "name": "stderr",
     "output_type": "stream",
     "text": [
      "Training (1139 / 18000 Steps) (loss=0.81564): 100%|██████████| 76/76 [01:05<00:00,  1.16it/s]\n",
      "Validate (1140 / 10 Steps): 100%|██████████| 22/22 [00:27<00:00,  1.25s/it]<00:08,  2.00it/s]\n",
      "Training (1200 / 18000 Steps) (loss=0.80881):  80%|████████  | 61/76 [00:59<02:10,  8.73s/it]"
     ]
    },
    {
     "name": "stdout",
     "output_type": "stream",
     "text": [
      "Model Was Not Saved ! Current Best Avg. Dice: 0.08996458351612091 Current Avg. Dice: 0.0748177319765091 Current Avg. tumor Dice: 0.0 Current Avg. lymph Dice: 0.1794426143169403\n"
     ]
    },
    {
     "name": "stderr",
     "output_type": "stream",
     "text": [
      "Training (1215 / 18000 Steps) (loss=0.75914): 100%|██████████| 76/76 [01:06<00:00,  1.14it/s]\n",
      "Training (1291 / 18000 Steps) (loss=0.75532): 100%|██████████| 76/76 [00:38<00:00,  1.96it/s]\n",
      "Validate (1292 / 10 Steps): 100%|██████████| 22/22 [00:27<00:00,  1.24s/it]00:34,  1.95it/s]\n",
      "Training (1300 / 18000 Steps) (loss=0.73528):  12%|█▏        | 9/76 [00:34<10:18,  9.24s/it]"
     ]
    },
    {
     "name": "stdout",
     "output_type": "stream",
     "text": [
      "Model Was Saved ! Current Best Avg. Dice: 0.09181761741638184 Current Avg. Dice: 0.09181761741638184 Current Avg. tumor Dice: 0.0 Current Avg. lymph Dice: 0.218383327126503\n"
     ]
    },
    {
     "name": "stderr",
     "output_type": "stream",
     "text": [
      "Training (1367 / 18000 Steps) (loss=0.74519): 100%|██████████| 76/76 [01:05<00:00,  1.15it/s]\n",
      "Validate (1368 / 10 Steps): 100%|██████████| 22/22 [00:26<00:00,  1.23s/it]<00:20,  2.14it/s]\n",
      "Training (1400 / 18000 Steps) (loss=0.78825):  43%|████▎     | 33/76 [00:45<06:08,  8.58s/it]"
     ]
    },
    {
     "name": "stdout",
     "output_type": "stream",
     "text": [
      "Model Was Not Saved ! Current Best Avg. Dice: 0.09181761741638184 Current Avg. Dice: 0.06599736213684082 Current Avg. tumor Dice: 0.0 Current Avg. lymph Dice: 0.16131336987018585\n"
     ]
    },
    {
     "name": "stderr",
     "output_type": "stream",
     "text": [
      "Training (1443 / 18000 Steps) (loss=0.71214): 100%|██████████| 76/76 [01:05<00:00,  1.16it/s]\n",
      "Validate (1444 / 10 Steps): 100%|██████████| 22/22 [00:27<00:00,  1.24s/it]<00:09,  2.16it/s]\n",
      "Training (1500 / 18000 Steps) (loss=0.73587):  75%|███████▌  | 57/76 [00:57<02:48,  8.88s/it]"
     ]
    },
    {
     "name": "stdout",
     "output_type": "stream",
     "text": [
      "Model Was Saved ! Current Best Avg. Dice: 0.17618760466575623 Current Avg. Dice: 0.17618760466575623 Current Avg. tumor Dice: 0.11589952558279037 Current Avg. lymph Dice: 0.2656281888484955\n"
     ]
    },
    {
     "name": "stderr",
     "output_type": "stream",
     "text": [
      "Training (1519 / 18000 Steps) (loss=0.75915): 100%|██████████| 76/76 [01:06<00:00,  1.13it/s]\n",
      "Training (1595 / 18000 Steps) (loss=0.60486): 100%|██████████| 76/76 [00:38<00:00,  1.97it/s]\n",
      "Validate (1596 / 10 Steps): 100%|██████████| 22/22 [00:27<00:00,  1.24s/it]00:57,  1.25it/s]\n",
      "Training (1600 / 18000 Steps) (loss=0.69105):   7%|▋         | 5/76 [00:32<12:45, 10.78s/it]"
     ]
    },
    {
     "name": "stdout",
     "output_type": "stream",
     "text": [
      "Model Was Saved ! Current Best Avg. Dice: 0.19067245721817017 Current Avg. Dice: 0.19067245721817017 Current Avg. tumor Dice: 0.13985919952392578 Current Avg. lymph Dice: 0.2652389705181122\n"
     ]
    },
    {
     "name": "stderr",
     "output_type": "stream",
     "text": [
      "Training (1671 / 18000 Steps) (loss=0.73345): 100%|██████████| 76/76 [01:06<00:00,  1.14it/s]\n",
      "Validate (1672 / 10 Steps): 100%|██████████| 22/22 [00:27<00:00,  1.24s/it]<00:22,  2.13it/s]\n",
      "Training (1700 / 18000 Steps) (loss=0.71927):  38%|███▊      | 29/76 [00:44<06:56,  8.86s/it]"
     ]
    },
    {
     "name": "stdout",
     "output_type": "stream",
     "text": [
      "Model Was Saved ! Current Best Avg. Dice: 0.21782849729061127 Current Avg. Dice: 0.21782849729061127 Current Avg. tumor Dice: 0.16796502470970154 Current Avg. lymph Dice: 0.3001560866832733\n"
     ]
    },
    {
     "name": "stderr",
     "output_type": "stream",
     "text": [
      "Training (1747 / 18000 Steps) (loss=0.65151): 100%|██████████| 76/76 [01:06<00:00,  1.14it/s]\n",
      "Validate (1748 / 10 Steps): 100%|██████████| 22/22 [00:26<00:00,  1.23s/it]<00:11,  2.03it/s]\n",
      "Training (1800 / 18000 Steps) (loss=0.58759):  70%|██████▉   | 53/76 [00:55<03:17,  8.59s/it]"
     ]
    },
    {
     "name": "stdout",
     "output_type": "stream",
     "text": [
      "Model Was Not Saved ! Current Best Avg. Dice: 0.21782849729061127 Current Avg. Dice: 0.2034897357225418 Current Avg. tumor Dice: 0.1636308878660202 Current Avg. lymph Dice: 0.2573588490486145\n"
     ]
    },
    {
     "name": "stderr",
     "output_type": "stream",
     "text": [
      "Training (1823 / 18000 Steps) (loss=0.68903): 100%|██████████| 76/76 [01:05<00:00,  1.15it/s]\n",
      "Training (1899 / 18000 Steps) (loss=0.63107): 100%|██████████| 76/76 [00:39<00:00,  1.95it/s]\n",
      "Validate (1900 / 10 Steps): 100%|██████████| 22/22 [00:27<00:00,  1.23s/it]?, ?it/s]\n",
      "Training (1900 / 18000 Steps) (loss=0.68863):   1%|▏         | 1/76 [00:30<37:58, 30.37s/it]"
     ]
    },
    {
     "name": "stdout",
     "output_type": "stream",
     "text": [
      "Model Was Not Saved ! Current Best Avg. Dice: 0.21782849729061127 Current Avg. Dice: 0.18979354202747345 Current Avg. tumor Dice: 0.1843498945236206 Current Avg. lymph Dice: 0.21063290536403656\n"
     ]
    },
    {
     "name": "stderr",
     "output_type": "stream",
     "text": [
      "Training (1975 / 18000 Steps) (loss=0.72154): 100%|██████████| 76/76 [01:05<00:00,  1.17it/s]\n",
      "Validate (1976 / 10 Steps): 100%|██████████| 22/22 [00:27<00:00,  1.24s/it]<00:24,  2.13it/s]\n",
      "Training (2000 / 18000 Steps) (loss=0.69473):  33%|███▎      | 25/76 [00:42<07:33,  8.90s/it]"
     ]
    },
    {
     "name": "stdout",
     "output_type": "stream",
     "text": [
      "Model Was Saved ! Current Best Avg. Dice: 0.23475176095962524 Current Avg. Dice: 0.23475176095962524 Current Avg. tumor Dice: 0.18833673000335693 Current Avg. lymph Dice: 0.29379260540008545\n"
     ]
    },
    {
     "name": "stderr",
     "output_type": "stream",
     "text": [
      "Training (2051 / 18000 Steps) (loss=0.62492): 100%|██████████| 76/76 [01:06<00:00,  1.14it/s]\n",
      "Validate (2052 / 10 Steps): 100%|██████████| 22/22 [00:27<00:00,  1.24s/it]<00:13,  2.15it/s]\n",
      "Training (2100 / 18000 Steps) (loss=0.59381):  64%|██████▍   | 49/76 [00:52<03:53,  8.63s/it]"
     ]
    },
    {
     "name": "stdout",
     "output_type": "stream",
     "text": [
      "Model Was Not Saved ! Current Best Avg. Dice: 0.23475176095962524 Current Avg. Dice: 0.22363127768039703 Current Avg. tumor Dice: 0.2010902613401413 Current Avg. lymph Dice: 0.2652888298034668\n"
     ]
    },
    {
     "name": "stderr",
     "output_type": "stream",
     "text": [
      "Training (2127 / 18000 Steps) (loss=0.68035): 100%|██████████| 76/76 [01:05<00:00,  1.16it/s]\n",
      "Validate (2128 / 10 Steps): 100%|██████████| 22/22 [00:27<00:00,  1.23s/it]<00:01,  2.11it/s]\n",
      "Training (2200 / 18000 Steps) (loss=0.64216):  96%|█████████▌| 73/76 [01:04<00:26,  8.67s/it]"
     ]
    },
    {
     "name": "stdout",
     "output_type": "stream",
     "text": [
      "Model Was Not Saved ! Current Best Avg. Dice: 0.23475176095962524 Current Avg. Dice: 0.16079778969287872 Current Avg. tumor Dice: 0.11477990448474884 Current Avg. lymph Dice: 0.23576705157756805\n"
     ]
    },
    {
     "name": "stderr",
     "output_type": "stream",
     "text": [
      "Training (2203 / 18000 Steps) (loss=0.65430): 100%|██████████| 76/76 [01:06<00:00,  1.15it/s]\n",
      "Training (2279 / 18000 Steps) (loss=0.61921): 100%|██████████| 76/76 [00:38<00:00,  1.98it/s]\n",
      "Validate (2280 / 10 Steps): 100%|██████████| 22/22 [00:27<00:00,  1.25s/it]<00:26,  2.08it/s]\n",
      "Training (2300 / 18000 Steps) (loss=0.69729):  28%|██▊       | 21/76 [00:41<08:13,  8.98s/it]"
     ]
    },
    {
     "name": "stdout",
     "output_type": "stream",
     "text": [
      "Model Was Saved ! Current Best Avg. Dice: 0.25607940554618835 Current Avg. Dice: 0.25607940554618835 Current Avg. tumor Dice: 0.22386489808559418 Current Avg. lymph Dice: 0.3092630207538605\n"
     ]
    },
    {
     "name": "stderr",
     "output_type": "stream",
     "text": [
      "Training (2355 / 18000 Steps) (loss=0.59922): 100%|██████████| 76/76 [01:07<00:00,  1.13it/s]\n",
      "Validate (2356 / 10 Steps): 100%|██████████| 22/22 [00:27<00:00,  1.24s/it]<00:14,  2.17it/s]\n",
      "Training (2400 / 18000 Steps) (loss=0.70772):  59%|█████▉    | 45/76 [00:51<04:28,  8.67s/it]"
     ]
    },
    {
     "name": "stdout",
     "output_type": "stream",
     "text": [
      "Model Was Not Saved ! Current Best Avg. Dice: 0.25607940554618835 Current Avg. Dice: 0.21295031905174255 Current Avg. tumor Dice: 0.16139742732048035 Current Avg. lymph Dice: 0.30413901805877686\n"
     ]
    },
    {
     "name": "stderr",
     "output_type": "stream",
     "text": [
      "Training (2431 / 18000 Steps) (loss=0.67364): 100%|██████████| 76/76 [01:05<00:00,  1.16it/s]\n",
      "Validate (2432 / 10 Steps): 100%|██████████| 22/22 [00:27<00:00,  1.26s/it]<00:03,  2.16it/s]\n",
      "Training (2500 / 18000 Steps) (loss=0.65124):  91%|█████████ | 69/76 [01:02<01:01,  8.78s/it]"
     ]
    },
    {
     "name": "stdout",
     "output_type": "stream",
     "text": [
      "Model Was Not Saved ! Current Best Avg. Dice: 0.25607940554618835 Current Avg. Dice: 0.2165018916130066 Current Avg. tumor Dice: 0.19907118380069733 Current Avg. lymph Dice: 0.24841199815273285\n"
     ]
    },
    {
     "name": "stderr",
     "output_type": "stream",
     "text": [
      "Training (2507 / 18000 Steps) (loss=0.60731): 100%|██████████| 76/76 [01:06<00:00,  1.14it/s]\n",
      "Training (2583 / 18000 Steps) (loss=0.60231): 100%|██████████| 76/76 [00:39<00:00,  1.93it/s]\n",
      "Validate (2584 / 10 Steps): 100%|██████████| 22/22 [00:27<00:00,  1.24s/it]<00:27,  2.22it/s]\n",
      "Training (2600 / 18000 Steps) (loss=0.59676):  22%|██▏       | 17/76 [00:38<08:48,  8.95s/it]"
     ]
    },
    {
     "name": "stdout",
     "output_type": "stream",
     "text": [
      "Model Was Saved ! Current Best Avg. Dice: 0.2806359827518463 Current Avg. Dice: 0.2806359827518463 Current Avg. tumor Dice: 0.2448171228170395 Current Avg. lymph Dice: 0.3437260389328003\n"
     ]
    },
    {
     "name": "stderr",
     "output_type": "stream",
     "text": [
      "Training (2659 / 18000 Steps) (loss=0.55735): 100%|██████████| 76/76 [01:06<00:00,  1.14it/s]\n",
      "Validate (2660 / 10 Steps): 100%|██████████| 22/22 [00:27<00:00,  1.26s/it]<00:17,  2.07it/s]\n",
      "Training (2700 / 18000 Steps) (loss=0.66035):  54%|█████▍    | 41/76 [00:49<05:08,  8.83s/it]"
     ]
    },
    {
     "name": "stdout",
     "output_type": "stream",
     "text": [
      "Model Was Not Saved ! Current Best Avg. Dice: 0.2806359827518463 Current Avg. Dice: 0.22297202050685883 Current Avg. tumor Dice: 0.16041935980319977 Current Avg. lymph Dice: 0.3270142376422882\n"
     ]
    },
    {
     "name": "stderr",
     "output_type": "stream",
     "text": [
      "Training (2735 / 18000 Steps) (loss=0.68113): 100%|██████████| 76/76 [01:06<00:00,  1.14it/s]\n",
      "Validate (2736 / 10 Steps): 100%|██████████| 22/22 [00:27<00:00,  1.24s/it]<00:05,  2.10it/s]\n",
      "Training (2800 / 18000 Steps) (loss=0.51727):  86%|████████▌ | 65/76 [01:01<01:35,  8.70s/it]"
     ]
    },
    {
     "name": "stdout",
     "output_type": "stream",
     "text": [
      "Model Was Not Saved ! Current Best Avg. Dice: 0.2806359827518463 Current Avg. Dice: 0.2459278702735901 Current Avg. tumor Dice: 0.2345622330904007 Current Avg. lymph Dice: 0.28105857968330383\n"
     ]
    },
    {
     "name": "stderr",
     "output_type": "stream",
     "text": [
      "Training (2811 / 18000 Steps) (loss=0.67637): 100%|██████████| 76/76 [01:06<00:00,  1.15it/s]\n",
      "Training (2887 / 18000 Steps) (loss=0.65981): 100%|██████████| 76/76 [00:39<00:00,  1.94it/s]\n",
      "Validate (2888 / 10 Steps): 100%|██████████| 22/22 [00:27<00:00,  1.25s/it]<00:31,  2.06it/s]\n",
      "Training (2900 / 18000 Steps) (loss=0.61846):  17%|█▋        | 13/76 [00:36<09:17,  8.84s/it]"
     ]
    },
    {
     "name": "stdout",
     "output_type": "stream",
     "text": [
      "Model Was Not Saved ! Current Best Avg. Dice: 0.2806359827518463 Current Avg. Dice: 0.2744466960430145 Current Avg. tumor Dice: 0.25793999433517456 Current Avg. lymph Dice: 0.31243637204170227\n"
     ]
    },
    {
     "name": "stderr",
     "output_type": "stream",
     "text": [
      "Training (2963 / 18000 Steps) (loss=0.54765): 100%|██████████| 76/76 [01:06<00:00,  1.14it/s]\n",
      "Validate (2964 / 10 Steps): 100%|██████████| 22/22 [00:27<00:00,  1.26s/it]<00:18,  2.12it/s]\n",
      "Training (3000 / 18000 Steps) (loss=0.60880):  49%|████▊     | 37/76 [00:48<05:50,  8.99s/it]"
     ]
    },
    {
     "name": "stdout",
     "output_type": "stream",
     "text": [
      "Model Was Saved ! Current Best Avg. Dice: 0.2883610427379608 Current Avg. Dice: 0.2883610427379608 Current Avg. tumor Dice: 0.2488749772310257 Current Avg. lymph Dice: 0.35031479597091675\n"
     ]
    },
    {
     "name": "stderr",
     "output_type": "stream",
     "text": [
      "Training (3039 / 18000 Steps) (loss=0.64606): 100%|██████████| 76/76 [01:07<00:00,  1.12it/s]\n",
      "Validate (3040 / 10 Steps): 100%|██████████| 22/22 [00:27<00:00,  1.25s/it]<00:07,  2.11it/s]\n",
      "Training (3100 / 18000 Steps) (loss=0.60523):  80%|████████  | 61/76 [00:59<02:10,  8.72s/it]"
     ]
    },
    {
     "name": "stdout",
     "output_type": "stream",
     "text": [
      "Model Was Not Saved ! Current Best Avg. Dice: 0.2883610427379608 Current Avg. Dice: 0.2766229510307312 Current Avg. tumor Dice: 0.24844467639923096 Current Avg. lymph Dice: 0.3299165964126587\n"
     ]
    },
    {
     "name": "stderr",
     "output_type": "stream",
     "text": [
      "Training (3115 / 18000 Steps) (loss=0.60623): 100%|██████████| 76/76 [01:06<00:00,  1.15it/s]\n",
      "Training (3191 / 18000 Steps) (loss=0.63311): 100%|██████████| 76/76 [00:38<00:00,  1.96it/s]\n",
      "Validate (3192 / 10 Steps): 100%|██████████| 22/22 [00:27<00:00,  1.26s/it]00:34,  1.96it/s]\n",
      "Training (3200 / 18000 Steps) (loss=0.55846):  12%|█▏        | 9/76 [00:35<10:34,  9.46s/it]"
     ]
    },
    {
     "name": "stdout",
     "output_type": "stream",
     "text": [
      "Model Was Saved ! Current Best Avg. Dice: 0.2921355068683624 Current Avg. Dice: 0.2921355068683624 Current Avg. tumor Dice: 0.275326132774353 Current Avg. lymph Dice: 0.33064132928848267\n"
     ]
    },
    {
     "name": "stderr",
     "output_type": "stream",
     "text": [
      "Training (3267 / 18000 Steps) (loss=0.58284): 100%|██████████| 76/76 [01:07<00:00,  1.13it/s]\n",
      "Validate (3268 / 10 Steps): 100%|██████████| 22/22 [00:27<00:00,  1.24s/it]<00:20,  2.12it/s]\n",
      "Training (3300 / 18000 Steps) (loss=0.48554):  43%|████▎     | 33/76 [00:46<06:23,  8.93s/it]"
     ]
    },
    {
     "name": "stdout",
     "output_type": "stream",
     "text": [
      "Model Was Saved ! Current Best Avg. Dice: 0.32113420963287354 Current Avg. Dice: 0.32113420963287354 Current Avg. tumor Dice: 0.30167707800865173 Current Avg. lymph Dice: 0.36253589391708374\n"
     ]
    },
    {
     "name": "stderr",
     "output_type": "stream",
     "text": [
      "Training (3343 / 18000 Steps) (loss=0.63602): 100%|██████████| 76/76 [01:07<00:00,  1.13it/s]\n",
      "Validate (3344 / 10 Steps): 100%|██████████| 22/22 [00:27<00:00,  1.26s/it]<00:09,  2.08it/s]\n",
      "Training (3400 / 18000 Steps) (loss=0.68140):  75%|███████▌  | 57/76 [00:57<02:47,  8.82s/it]"
     ]
    },
    {
     "name": "stdout",
     "output_type": "stream",
     "text": [
      "Model Was Not Saved ! Current Best Avg. Dice: 0.32113420963287354 Current Avg. Dice: 0.3013581931591034 Current Avg. tumor Dice: 0.28989362716674805 Current Avg. lymph Dice: 0.33242425322532654\n"
     ]
    },
    {
     "name": "stderr",
     "output_type": "stream",
     "text": [
      "Training (3419 / 18000 Steps) (loss=0.53215): 100%|██████████| 76/76 [01:06<00:00,  1.14it/s]\n",
      "Training (3495 / 18000 Steps) (loss=0.59159): 100%|██████████| 76/76 [00:38<00:00,  1.95it/s]\n",
      "Validate (3496 / 10 Steps): 100%|██████████| 22/22 [00:27<00:00,  1.25s/it]00:59,  1.22it/s]\n",
      "Training (3500 / 18000 Steps) (loss=0.66155):   7%|▋         | 5/76 [00:32<12:34, 10.62s/it]"
     ]
    },
    {
     "name": "stdout",
     "output_type": "stream",
     "text": [
      "Model Was Not Saved ! Current Best Avg. Dice: 0.32113420963287354 Current Avg. Dice: 0.28729304671287537 Current Avg. tumor Dice: 0.25409501791000366 Current Avg. lymph Dice: 0.3515980839729309\n"
     ]
    },
    {
     "name": "stderr",
     "output_type": "stream",
     "text": [
      "Training (3571 / 18000 Steps) (loss=0.64361): 100%|██████████| 76/76 [01:06<00:00,  1.14it/s]\n",
      "Validate (3572 / 10 Steps): 100%|██████████| 22/22 [00:27<00:00,  1.26s/it]<00:23,  2.08it/s]\n",
      "Training (3600 / 18000 Steps) (loss=0.61103):  38%|███▊      | 29/76 [00:45<07:04,  9.04s/it]"
     ]
    },
    {
     "name": "stdout",
     "output_type": "stream",
     "text": [
      "Model Was Saved ! Current Best Avg. Dice: 0.3278588056564331 Current Avg. Dice: 0.3278588056564331 Current Avg. tumor Dice: 0.293086439371109 Current Avg. lymph Dice: 0.38111284375190735\n"
     ]
    },
    {
     "name": "stderr",
     "output_type": "stream",
     "text": [
      "Training (3647 / 18000 Steps) (loss=0.56528): 100%|██████████| 76/76 [01:07<00:00,  1.12it/s]\n",
      "Validate (3648 / 10 Steps): 100%|██████████| 22/22 [00:27<00:00,  1.25s/it]<00:11,  2.09it/s]\n",
      "Training (3700 / 18000 Steps) (loss=0.61426):  70%|██████▉   | 53/76 [00:55<03:21,  8.74s/it]"
     ]
    },
    {
     "name": "stdout",
     "output_type": "stream",
     "text": [
      "Model Was Not Saved ! Current Best Avg. Dice: 0.3278588056564331 Current Avg. Dice: 0.3186853229999542 Current Avg. tumor Dice: 0.30071189999580383 Current Avg. lymph Dice: 0.36269280314445496\n"
     ]
    },
    {
     "name": "stderr",
     "output_type": "stream",
     "text": [
      "Training (3723 / 18000 Steps) (loss=0.53387): 100%|██████████| 76/76 [01:06<00:00,  1.14it/s]\n",
      "Training (3799 / 18000 Steps) (loss=0.43706): 100%|██████████| 76/76 [00:39<00:00,  1.94it/s]\n",
      "Validate (3800 / 10 Steps): 100%|██████████| 22/22 [00:27<00:00,  1.25s/it]?, ?it/s]\n",
      "Training (3800 / 18000 Steps) (loss=0.67060):   1%|▏         | 1/76 [00:30<38:27, 30.76s/it]"
     ]
    },
    {
     "name": "stdout",
     "output_type": "stream",
     "text": [
      "Model Was Not Saved ! Current Best Avg. Dice: 0.3278588056564331 Current Avg. Dice: 0.26186391711235046 Current Avg. tumor Dice: 0.23789413273334503 Current Avg. lymph Dice: 0.3011798560619354\n"
     ]
    },
    {
     "name": "stderr",
     "output_type": "stream",
     "text": [
      "Training (3875 / 18000 Steps) (loss=0.56119): 100%|██████████| 76/76 [01:07<00:00,  1.13it/s]\n",
      "Validate (3876 / 10 Steps): 100%|██████████| 22/22 [00:27<00:00,  1.24s/it]<00:25,  2.06it/s]\n",
      "Training (3900 / 18000 Steps) (loss=0.68427):  33%|███▎      | 25/76 [00:41<07:21,  8.66s/it]"
     ]
    },
    {
     "name": "stdout",
     "output_type": "stream",
     "text": [
      "Model Was Not Saved ! Current Best Avg. Dice: 0.3278588056564331 Current Avg. Dice: 0.3202252686023712 Current Avg. tumor Dice: 0.30518975853919983 Current Avg. lymph Dice: 0.35891976952552795\n"
     ]
    },
    {
     "name": "stderr",
     "output_type": "stream",
     "text": [
      "Training (3951 / 18000 Steps) (loss=0.61830): 100%|██████████| 76/76 [01:06<00:00,  1.14it/s]\n",
      "Validate (3952 / 10 Steps): 100%|██████████| 22/22 [00:27<00:00,  1.23s/it]<00:13,  2.13it/s]\n",
      "Training (4000 / 18000 Steps) (loss=0.68466):  64%|██████▍   | 49/76 [00:53<03:52,  8.62s/it]"
     ]
    },
    {
     "name": "stdout",
     "output_type": "stream",
     "text": [
      "Model Was Not Saved ! Current Best Avg. Dice: 0.3278588056564331 Current Avg. Dice: 0.3049429655075073 Current Avg. tumor Dice: 0.2607401907444 Current Avg. lymph Dice: 0.3768743872642517\n"
     ]
    },
    {
     "name": "stderr",
     "output_type": "stream",
     "text": [
      "Training (4027 / 18000 Steps) (loss=0.53111): 100%|██████████| 76/76 [01:06<00:00,  1.15it/s]\n",
      "Validate (4028 / 10 Steps): 100%|██████████| 22/22 [00:27<00:00,  1.24s/it]<00:01,  2.19it/s]\n",
      "Training (4100 / 18000 Steps) (loss=0.56454):  96%|█████████▌| 73/76 [01:04<00:26,  8.67s/it]"
     ]
    },
    {
     "name": "stdout",
     "output_type": "stream",
     "text": [
      "Model Was Not Saved ! Current Best Avg. Dice: 0.3278588056564331 Current Avg. Dice: 0.3240956962108612 Current Avg. tumor Dice: 0.2954683005809784 Current Avg. lymph Dice: 0.3730960786342621\n"
     ]
    },
    {
     "name": "stderr",
     "output_type": "stream",
     "text": [
      "Training (4103 / 18000 Steps) (loss=0.61897): 100%|██████████| 76/76 [01:05<00:00,  1.16it/s]\n",
      "Training (4179 / 18000 Steps) (loss=0.55766): 100%|██████████| 76/76 [00:38<00:00,  1.98it/s]\n",
      "Validate (4180 / 10 Steps): 100%|██████████| 22/22 [00:27<00:00,  1.24s/it]<00:26,  2.13it/s]\n",
      "Training (4200 / 18000 Steps) (loss=0.60228):  28%|██▊       | 21/76 [00:39<07:56,  8.66s/it]"
     ]
    },
    {
     "name": "stdout",
     "output_type": "stream",
     "text": [
      "Model Was Not Saved ! Current Best Avg. Dice: 0.3278588056564331 Current Avg. Dice: 0.26156842708587646 Current Avg. tumor Dice: 0.2660290002822876 Current Avg. lymph Dice: 0.2864050269126892\n"
     ]
    },
    {
     "name": "stderr",
     "output_type": "stream",
     "text": [
      "Training (4255 / 18000 Steps) (loss=0.63377): 100%|██████████| 76/76 [01:06<00:00,  1.14it/s]\n",
      "Validate (4256 / 10 Steps): 100%|██████████| 22/22 [00:27<00:00,  1.26s/it]<00:14,  2.19it/s]\n",
      "Training (4300 / 18000 Steps) (loss=0.57583):  59%|█████▉    | 45/76 [00:52<04:39,  9.00s/it]"
     ]
    },
    {
     "name": "stdout",
     "output_type": "stream",
     "text": [
      "Model Was Saved ! Current Best Avg. Dice: 0.3305278420448303 Current Avg. Dice: 0.3305278420448303 Current Avg. tumor Dice: 0.3065161108970642 Current Avg. lymph Dice: 0.3794938623905182\n"
     ]
    },
    {
     "name": "stderr",
     "output_type": "stream",
     "text": [
      "Training (4331 / 18000 Steps) (loss=0.52532): 100%|██████████| 76/76 [01:07<00:00,  1.13it/s]\n",
      "Validate (4332 / 10 Steps): 100%|██████████| 22/22 [00:27<00:00,  1.25s/it]<00:03,  2.18it/s]\n",
      "Training (4400 / 18000 Steps) (loss=0.65772):  91%|█████████ | 69/76 [01:02<01:01,  8.73s/it]"
     ]
    },
    {
     "name": "stdout",
     "output_type": "stream",
     "text": [
      "Model Was Not Saved ! Current Best Avg. Dice: 0.3305278420448303 Current Avg. Dice: 0.2978312075138092 Current Avg. tumor Dice: 0.2563619911670685 Current Avg. lymph Dice: 0.37438875436782837\n"
     ]
    },
    {
     "name": "stderr",
     "output_type": "stream",
     "text": [
      "Training (4407 / 18000 Steps) (loss=0.59243): 100%|██████████| 76/76 [01:06<00:00,  1.15it/s]\n",
      "Training (4483 / 18000 Steps) (loss=0.54428): 100%|██████████| 76/76 [00:38<00:00,  1.98it/s]\n",
      "Validate (4484 / 10 Steps): 100%|██████████| 22/22 [00:27<00:00,  1.24s/it]<00:26,  2.23it/s]\n",
      "Training (4500 / 18000 Steps) (loss=0.61215):  22%|██▏       | 17/76 [00:38<08:37,  8.76s/it]"
     ]
    },
    {
     "name": "stdout",
     "output_type": "stream",
     "text": [
      "Model Was Not Saved ! Current Best Avg. Dice: 0.3305278420448303 Current Avg. Dice: 0.319196492433548 Current Avg. tumor Dice: 0.2696620225906372 Current Avg. lymph Dice: 0.3966042399406433\n"
     ]
    },
    {
     "name": "stderr",
     "output_type": "stream",
     "text": [
      "Training (4559 / 18000 Steps) (loss=0.53510): 100%|██████████| 76/76 [01:06<00:00,  1.14it/s]\n",
      "Validate (4560 / 10 Steps): 100%|██████████| 22/22 [00:27<00:00,  1.24s/it]<00:16,  2.15it/s]\n",
      "Training (4600 / 18000 Steps) (loss=0.61347):  54%|█████▍    | 41/76 [00:49<05:03,  8.68s/it]"
     ]
    },
    {
     "name": "stdout",
     "output_type": "stream",
     "text": [
      "Model Was Not Saved ! Current Best Avg. Dice: 0.3305278420448303 Current Avg. Dice: 0.3145025074481964 Current Avg. tumor Dice: 0.25957584381103516 Current Avg. lymph Dice: 0.38989126682281494\n"
     ]
    },
    {
     "name": "stderr",
     "output_type": "stream",
     "text": [
      "Training (4635 / 18000 Steps) (loss=0.57168): 100%|██████████| 76/76 [01:06<00:00,  1.15it/s]\n",
      "Validate (4636 / 10 Steps): 100%|██████████| 22/22 [00:27<00:00,  1.26s/it]<00:05,  2.13it/s]\n",
      "Training (4700 / 18000 Steps) (loss=0.56751):  86%|████████▌ | 65/76 [01:01<01:36,  8.79s/it]"
     ]
    },
    {
     "name": "stdout",
     "output_type": "stream",
     "text": [
      "Model Was Not Saved ! Current Best Avg. Dice: 0.3305278420448303 Current Avg. Dice: 0.3242008686065674 Current Avg. tumor Dice: 0.2927675247192383 Current Avg. lymph Dice: 0.3771703839302063\n"
     ]
    },
    {
     "name": "stderr",
     "output_type": "stream",
     "text": [
      "Training (4711 / 18000 Steps) (loss=0.56707): 100%|██████████| 76/76 [01:06<00:00,  1.14it/s]\n",
      "Training (4787 / 18000 Steps) (loss=0.56786): 100%|██████████| 76/76 [00:39<00:00,  1.95it/s]\n",
      "Validate (4788 / 10 Steps): 100%|██████████| 22/22 [00:27<00:00,  1.24s/it]<00:31,  2.01it/s]\n",
      "Training (4800 / 18000 Steps) (loss=0.55296):  17%|█▋        | 13/76 [00:36<09:12,  8.77s/it]"
     ]
    },
    {
     "name": "stdout",
     "output_type": "stream",
     "text": [
      "Model Was Not Saved ! Current Best Avg. Dice: 0.3305278420448303 Current Avg. Dice: 0.3011696934700012 Current Avg. tumor Dice: 0.29707255959510803 Current Avg. lymph Dice: 0.3222337067127228\n"
     ]
    },
    {
     "name": "stderr",
     "output_type": "stream",
     "text": [
      "Training (4863 / 18000 Steps) (loss=0.49106): 100%|██████████| 76/76 [01:06<00:00,  1.15it/s]\n",
      "Validate (4864 / 10 Steps): 100%|██████████| 22/22 [00:27<00:00,  1.25s/it]<00:19,  2.02it/s]\n",
      "Training (4900 / 18000 Steps) (loss=0.52650):  49%|████▊     | 37/76 [00:47<05:40,  8.73s/it]"
     ]
    },
    {
     "name": "stdout",
     "output_type": "stream",
     "text": [
      "Model Was Not Saved ! Current Best Avg. Dice: 0.3305278420448303 Current Avg. Dice: 0.31189990043640137 Current Avg. tumor Dice: 0.28778958320617676 Current Avg. lymph Dice: 0.3511481285095215\n"
     ]
    },
    {
     "name": "stderr",
     "output_type": "stream",
     "text": [
      "Training (4939 / 18000 Steps) (loss=0.57405): 100%|██████████| 76/76 [01:06<00:00,  1.15it/s]\n",
      "Validate (4940 / 10 Steps): 100%|██████████| 22/22 [00:27<00:00,  1.23s/it]<00:07,  2.19it/s]\n",
      "Training (5000 / 18000 Steps) (loss=0.48805):  80%|████████  | 61/76 [00:58<02:09,  8.63s/it]"
     ]
    },
    {
     "name": "stdout",
     "output_type": "stream",
     "text": [
      "Model Was Not Saved ! Current Best Avg. Dice: 0.3305278420448303 Current Avg. Dice: 0.25442907214164734 Current Avg. tumor Dice: 0.19337956607341766 Current Avg. lymph Dice: 0.3672821819782257\n"
     ]
    },
    {
     "name": "stderr",
     "output_type": "stream",
     "text": [
      "Training (5015 / 18000 Steps) (loss=0.53405): 100%|██████████| 76/76 [01:05<00:00,  1.15it/s]\n",
      "Training (5091 / 18000 Steps) (loss=0.65186): 100%|██████████| 76/76 [00:38<00:00,  1.98it/s]\n",
      "Validate (5092 / 10 Steps): 100%|██████████| 22/22 [00:27<00:00,  1.24s/it]00:34,  1.98it/s]\n",
      "Training (5100 / 18000 Steps) (loss=0.52624):  12%|█▏        | 9/76 [00:34<10:07,  9.07s/it]"
     ]
    },
    {
     "name": "stdout",
     "output_type": "stream",
     "text": [
      "Model Was Not Saved ! Current Best Avg. Dice: 0.3305278420448303 Current Avg. Dice: 0.3118208646774292 Current Avg. tumor Dice: 0.29447120428085327 Current Avg. lymph Dice: 0.3499370217323303\n"
     ]
    },
    {
     "name": "stderr",
     "output_type": "stream",
     "text": [
      "Training (5167 / 18000 Steps) (loss=0.62588): 100%|██████████| 76/76 [01:05<00:00,  1.16it/s]\n",
      "Validate (5168 / 10 Steps): 100%|██████████| 22/22 [00:27<00:00,  1.24s/it]<00:20,  2.15it/s]\n",
      "Training (5200 / 18000 Steps) (loss=0.57208):  43%|████▎     | 33/76 [00:45<06:14,  8.71s/it]"
     ]
    },
    {
     "name": "stdout",
     "output_type": "stream",
     "text": [
      "Model Was Not Saved ! Current Best Avg. Dice: 0.3305278420448303 Current Avg. Dice: 0.3054575026035309 Current Avg. tumor Dice: 0.2699095606803894 Current Avg. lymph Dice: 0.36956560611724854\n"
     ]
    },
    {
     "name": "stderr",
     "output_type": "stream",
     "text": [
      "Training (5243 / 18000 Steps) (loss=0.43492): 100%|██████████| 76/76 [01:05<00:00,  1.16it/s]\n",
      "Validate (5244 / 10 Steps): 100%|██████████| 22/22 [00:27<00:00,  1.24s/it]<00:09,  2.09it/s]\n",
      "Training (5300 / 18000 Steps) (loss=0.54828):  75%|███████▌  | 57/76 [00:56<02:44,  8.66s/it]"
     ]
    },
    {
     "name": "stdout",
     "output_type": "stream",
     "text": [
      "Model Was Not Saved ! Current Best Avg. Dice: 0.3305278420448303 Current Avg. Dice: 0.3195298910140991 Current Avg. tumor Dice: 0.2825983166694641 Current Avg. lymph Dice: 0.3836689591407776\n"
     ]
    },
    {
     "name": "stderr",
     "output_type": "stream",
     "text": [
      "Training (5319 / 18000 Steps) (loss=0.54250): 100%|██████████| 76/76 [01:06<00:00,  1.15it/s]\n",
      "Training (5395 / 18000 Steps) (loss=0.55813): 100%|██████████| 76/76 [00:39<00:00,  1.95it/s]\n",
      "Validate (5396 / 10 Steps): 100%|██████████| 22/22 [00:27<00:00,  1.25s/it]00:58,  1.23it/s]\n",
      "Training (5400 / 18000 Steps) (loss=0.54356):   7%|▋         | 5/76 [00:32<12:32, 10.60s/it]"
     ]
    },
    {
     "name": "stdout",
     "output_type": "stream",
     "text": [
      "Model Was Not Saved ! Current Best Avg. Dice: 0.3305278420448303 Current Avg. Dice: 0.3233007490634918 Current Avg. tumor Dice: 0.2792239785194397 Current Avg. lymph Dice: 0.4000002145767212\n"
     ]
    },
    {
     "name": "stderr",
     "output_type": "stream",
     "text": [
      "Training (5471 / 18000 Steps) (loss=0.59779): 100%|██████████| 76/76 [01:06<00:00,  1.15it/s]\n",
      "Validate (5472 / 10 Steps): 100%|██████████| 22/22 [00:27<00:00,  1.25s/it]<00:22,  2.16it/s]\n",
      "Training (5500 / 18000 Steps) (loss=0.57319):  38%|███▊      | 29/76 [00:44<07:00,  8.95s/it]"
     ]
    },
    {
     "name": "stdout",
     "output_type": "stream",
     "text": [
      "Model Was Saved ! Current Best Avg. Dice: 0.34160175919532776 Current Avg. Dice: 0.34160175919532776 Current Avg. tumor Dice: 0.319863885641098 Current Avg. lymph Dice: 0.3887360095977783\n"
     ]
    },
    {
     "name": "stderr",
     "output_type": "stream",
     "text": [
      "Training (5547 / 18000 Steps) (loss=0.59987): 100%|██████████| 76/76 [01:06<00:00,  1.14it/s]\n",
      "Validate (5548 / 10 Steps): 100%|██████████| 22/22 [00:27<00:00,  1.23s/it]<00:11,  2.16it/s]\n",
      "Training (5600 / 18000 Steps) (loss=0.54015):  70%|██████▉   | 53/76 [00:54<03:18,  8.62s/it]"
     ]
    },
    {
     "name": "stdout",
     "output_type": "stream",
     "text": [
      "Model Was Not Saved ! Current Best Avg. Dice: 0.34160175919532776 Current Avg. Dice: 0.31679919362068176 Current Avg. tumor Dice: 0.28873211145401 Current Avg. lymph Dice: 0.37128734588623047\n"
     ]
    },
    {
     "name": "stderr",
     "output_type": "stream",
     "text": [
      "Training (5623 / 18000 Steps) (loss=0.59165): 100%|██████████| 76/76 [01:05<00:00,  1.16it/s]\n",
      "Training (5699 / 18000 Steps) (loss=0.57972): 100%|██████████| 76/76 [00:38<00:00,  1.98it/s]\n",
      "Validate (5700 / 10 Steps): 100%|██████████| 22/22 [00:27<00:00,  1.26s/it]?, ?it/s]\n",
      "Training (5700 / 18000 Steps) (loss=0.48662):   1%|▏         | 1/76 [00:31<39:18, 31.44s/it]"
     ]
    },
    {
     "name": "stdout",
     "output_type": "stream",
     "text": [
      "Model Was Saved ! Current Best Avg. Dice: 0.36158621311187744 Current Avg. Dice: 0.36158621311187744 Current Avg. tumor Dice: 0.3392590880393982 Current Avg. lymph Dice: 0.4026278555393219\n"
     ]
    },
    {
     "name": "stderr",
     "output_type": "stream",
     "text": [
      "Training (5775 / 18000 Steps) (loss=0.42808): 100%|██████████| 76/76 [01:07<00:00,  1.13it/s]\n",
      "Validate (5776 / 10 Steps): 100%|██████████| 22/22 [00:27<00:00,  1.27s/it]<00:24,  2.16it/s]\n",
      "Training (5800 / 18000 Steps) (loss=0.43770):  33%|███▎      | 25/76 [00:42<07:33,  8.88s/it]"
     ]
    },
    {
     "name": "stdout",
     "output_type": "stream",
     "text": [
      "Model Was Not Saved ! Current Best Avg. Dice: 0.36158621311187744 Current Avg. Dice: 0.33808913826942444 Current Avg. tumor Dice: 0.30845561623573303 Current Avg. lymph Dice: 0.4001484811306\n"
     ]
    },
    {
     "name": "stderr",
     "output_type": "stream",
     "text": [
      "Training (5851 / 18000 Steps) (loss=0.41703): 100%|██████████| 76/76 [01:06<00:00,  1.14it/s]\n",
      "Validate (5852 / 10 Steps): 100%|██████████| 22/22 [00:27<00:00,  1.23s/it]<00:13,  2.08it/s]\n",
      "Training (5900 / 18000 Steps) (loss=0.61272):  64%|██████▍   | 49/76 [00:52<03:52,  8.62s/it]"
     ]
    },
    {
     "name": "stdout",
     "output_type": "stream",
     "text": [
      "Model Was Not Saved ! Current Best Avg. Dice: 0.36158621311187744 Current Avg. Dice: 0.33871304988861084 Current Avg. tumor Dice: 0.29991641640663147 Current Avg. lymph Dice: 0.39744997024536133\n"
     ]
    },
    {
     "name": "stderr",
     "output_type": "stream",
     "text": [
      "Training (5927 / 18000 Steps) (loss=0.67125): 100%|██████████| 76/76 [01:05<00:00,  1.16it/s]\n",
      "Validate (5928 / 10 Steps): 100%|██████████| 22/22 [00:26<00:00,  1.22s/it]<00:01,  2.17it/s]\n",
      "Training (6000 / 18000 Steps) (loss=0.62623):  96%|█████████▌| 73/76 [01:03<00:25,  8.56s/it]"
     ]
    },
    {
     "name": "stdout",
     "output_type": "stream",
     "text": [
      "Model Was Not Saved ! Current Best Avg. Dice: 0.36158621311187744 Current Avg. Dice: 0.31372109055519104 Current Avg. tumor Dice: 0.294746071100235 Current Avg. lymph Dice: 0.35928773880004883\n"
     ]
    },
    {
     "name": "stderr",
     "output_type": "stream",
     "text": [
      "Training (6003 / 18000 Steps) (loss=0.55021): 100%|██████████| 76/76 [01:05<00:00,  1.17it/s]\n",
      "Training (6079 / 18000 Steps) (loss=0.55434): 100%|██████████| 76/76 [00:38<00:00,  1.98it/s]\n",
      "Validate (6080 / 10 Steps): 100%|██████████| 22/22 [00:27<00:00,  1.25s/it]<00:26,  2.10it/s]\n",
      "Training (6100 / 18000 Steps) (loss=0.54892):  28%|██▊       | 21/76 [00:40<07:59,  8.73s/it]"
     ]
    },
    {
     "name": "stdout",
     "output_type": "stream",
     "text": [
      "Model Was Not Saved ! Current Best Avg. Dice: 0.36158621311187744 Current Avg. Dice: 0.3265397846698761 Current Avg. tumor Dice: 0.2995362877845764 Current Avg. lymph Dice: 0.3821215033531189\n"
     ]
    },
    {
     "name": "stderr",
     "output_type": "stream",
     "text": [
      "Training (6155 / 18000 Steps) (loss=0.47119): 100%|██████████| 76/76 [01:06<00:00,  1.15it/s]\n",
      "Validate (6156 / 10 Steps): 100%|██████████| 22/22 [00:27<00:00,  1.23s/it]<00:15,  2.05it/s]\n",
      "Training (6200 / 18000 Steps) (loss=0.55857):  59%|█████▉    | 45/76 [00:51<04:27,  8.63s/it]"
     ]
    },
    {
     "name": "stdout",
     "output_type": "stream",
     "text": [
      "Model Was Not Saved ! Current Best Avg. Dice: 0.36158621311187744 Current Avg. Dice: 0.3089649975299835 Current Avg. tumor Dice: 0.24934305250644684 Current Avg. lymph Dice: 0.41009604930877686\n"
     ]
    },
    {
     "name": "stderr",
     "output_type": "stream",
     "text": [
      "Training (6231 / 18000 Steps) (loss=0.58112): 100%|██████████| 76/76 [01:06<00:00,  1.15it/s]\n",
      "Validate (6232 / 10 Steps): 100%|██████████| 22/22 [00:27<00:00,  1.25s/it]<00:03,  2.15it/s]\n",
      "Training (6300 / 18000 Steps) (loss=0.44015):  91%|█████████ | 69/76 [01:02<01:01,  8.72s/it]"
     ]
    },
    {
     "name": "stdout",
     "output_type": "stream",
     "text": [
      "Model Was Not Saved ! Current Best Avg. Dice: 0.36158621311187744 Current Avg. Dice: 0.3481679856777191 Current Avg. tumor Dice: 0.31614813208580017 Current Avg. lymph Dice: 0.401843786239624\n"
     ]
    },
    {
     "name": "stderr",
     "output_type": "stream",
     "text": [
      "Training (6307 / 18000 Steps) (loss=0.59499): 100%|██████████| 76/76 [01:06<00:00,  1.15it/s]\n",
      "Training (6383 / 18000 Steps) (loss=0.53727): 100%|██████████| 76/76 [00:38<00:00,  1.97it/s]\n",
      "Validate (6384 / 10 Steps): 100%|██████████| 22/22 [00:27<00:00,  1.25s/it]<00:27,  2.20it/s]\n",
      "Training (6400 / 18000 Steps) (loss=0.52448):  22%|██▏       | 17/76 [00:38<08:35,  8.73s/it]"
     ]
    },
    {
     "name": "stdout",
     "output_type": "stream",
     "text": [
      "Model Was Not Saved ! Current Best Avg. Dice: 0.36158621311187744 Current Avg. Dice: 0.3137204945087433 Current Avg. tumor Dice: 0.25452232360839844 Current Avg. lymph Dice: 0.4223540127277374\n"
     ]
    },
    {
     "name": "stderr",
     "output_type": "stream",
     "text": [
      "Training (6459 / 18000 Steps) (loss=0.51739): 100%|██████████| 76/76 [01:06<00:00,  1.14it/s]\n",
      "Validate (6460 / 10 Steps): 100%|██████████| 22/22 [00:27<00:00,  1.25s/it]<00:17,  2.09it/s]\n",
      "Training (6500 / 18000 Steps) (loss=0.49431):  54%|█████▍    | 41/76 [00:49<05:05,  8.72s/it]"
     ]
    },
    {
     "name": "stdout",
     "output_type": "stream",
     "text": [
      "Model Was Not Saved ! Current Best Avg. Dice: 0.36158621311187744 Current Avg. Dice: 0.3574736714363098 Current Avg. tumor Dice: 0.3163975477218628 Current Avg. lymph Dice: 0.4269309639930725\n"
     ]
    },
    {
     "name": "stderr",
     "output_type": "stream",
     "text": [
      "Training (6535 / 18000 Steps) (loss=0.55130): 100%|██████████| 76/76 [01:06<00:00,  1.14it/s]\n",
      "Validate (6536 / 10 Steps): 100%|██████████| 22/22 [00:27<00:00,  1.25s/it]<00:05,  2.06it/s]\n",
      "Training (6600 / 18000 Steps) (loss=0.48034):  86%|████████▌ | 65/76 [01:01<01:35,  8.72s/it]"
     ]
    },
    {
     "name": "stdout",
     "output_type": "stream",
     "text": [
      "Model Was Not Saved ! Current Best Avg. Dice: 0.36158621311187744 Current Avg. Dice: 0.35760167241096497 Current Avg. tumor Dice: 0.33966949582099915 Current Avg. lymph Dice: 0.3956810235977173\n"
     ]
    },
    {
     "name": "stderr",
     "output_type": "stream",
     "text": [
      "Training (6611 / 18000 Steps) (loss=0.65070): 100%|██████████| 76/76 [01:06<00:00,  1.14it/s]\n",
      "Training (6687 / 18000 Steps) (loss=0.50600): 100%|██████████| 76/76 [00:38<00:00,  1.95it/s]\n",
      "Validate (6688 / 10 Steps): 100%|██████████| 22/22 [00:27<00:00,  1.25s/it]<00:32,  1.99it/s]\n",
      "Training (6700 / 18000 Steps) (loss=0.56303):  17%|█▋        | 13/76 [00:36<09:18,  8.86s/it]"
     ]
    },
    {
     "name": "stdout",
     "output_type": "stream",
     "text": [
      "Model Was Not Saved ! Current Best Avg. Dice: 0.36158621311187744 Current Avg. Dice: 0.3612751066684723 Current Avg. tumor Dice: 0.34361526370048523 Current Avg. lymph Dice: 0.39779096841812134\n"
     ]
    },
    {
     "name": "stderr",
     "output_type": "stream",
     "text": [
      "Training (6763 / 18000 Steps) (loss=0.49033): 100%|██████████| 76/76 [01:06<00:00,  1.14it/s]\n",
      "Validate (6764 / 10 Steps): 100%|██████████| 22/22 [00:27<00:00,  1.25s/it]<00:18,  2.11it/s]\n",
      "Training (6800 / 18000 Steps) (loss=0.61399):  49%|████▊     | 37/76 [00:47<05:41,  8.75s/it]"
     ]
    },
    {
     "name": "stdout",
     "output_type": "stream",
     "text": [
      "Model Was Not Saved ! Current Best Avg. Dice: 0.36158621311187744 Current Avg. Dice: 0.34380242228507996 Current Avg. tumor Dice: 0.3071204721927643 Current Avg. lymph Dice: 0.4096137285232544\n"
     ]
    },
    {
     "name": "stderr",
     "output_type": "stream",
     "text": [
      "Training (6839 / 18000 Steps) (loss=0.40264): 100%|██████████| 76/76 [01:07<00:00,  1.13it/s]\n",
      "Validate (6840 / 10 Steps): 100%|██████████| 22/22 [00:27<00:00,  1.25s/it]<00:07,  2.16it/s]\n",
      "Training (6900 / 18000 Steps) (loss=0.43980):  80%|████████  | 61/76 [00:59<02:10,  8.73s/it]"
     ]
    },
    {
     "name": "stdout",
     "output_type": "stream",
     "text": [
      "Model Was Not Saved ! Current Best Avg. Dice: 0.36158621311187744 Current Avg. Dice: 0.3546193242073059 Current Avg. tumor Dice: 0.3100630044937134 Current Avg. lymph Dice: 0.4282965660095215\n"
     ]
    },
    {
     "name": "stderr",
     "output_type": "stream",
     "text": [
      "Training (6915 / 18000 Steps) (loss=0.60532): 100%|██████████| 76/76 [01:06<00:00,  1.14it/s]\n",
      "Training (6991 / 18000 Steps) (loss=0.63261): 100%|██████████| 76/76 [00:39<00:00,  1.95it/s]\n",
      "Validate (6992 / 10 Steps): 100%|██████████| 22/22 [00:27<00:00,  1.25s/it]00:35,  1.89it/s]\n",
      "Training (7000 / 18000 Steps) (loss=0.49653):  12%|█▏        | 9/76 [00:34<10:11,  9.13s/it]"
     ]
    },
    {
     "name": "stdout",
     "output_type": "stream",
     "text": [
      "Model Was Not Saved ! Current Best Avg. Dice: 0.36158621311187744 Current Avg. Dice: 0.30167219042778015 Current Avg. tumor Dice: 0.2248976081609726 Current Avg. lymph Dice: 0.4059044420719147\n"
     ]
    },
    {
     "name": "stderr",
     "output_type": "stream",
     "text": [
      "Training (7067 / 18000 Steps) (loss=0.51188): 100%|██████████| 76/76 [01:05<00:00,  1.15it/s]\n",
      "Validate (7068 / 10 Steps): 100%|██████████| 22/22 [00:27<00:00,  1.25s/it]<00:21,  2.09it/s]\n",
      "Training (7100 / 18000 Steps) (loss=0.60029):  43%|████▎     | 33/76 [00:46<06:16,  8.76s/it]"
     ]
    },
    {
     "name": "stdout",
     "output_type": "stream",
     "text": [
      "Model Was Not Saved ! Current Best Avg. Dice: 0.36158621311187744 Current Avg. Dice: 0.3512814939022064 Current Avg. tumor Dice: 0.3102162480354309 Current Avg. lymph Dice: 0.4274946451187134\n"
     ]
    },
    {
     "name": "stderr",
     "output_type": "stream",
     "text": [
      "Training (7143 / 18000 Steps) (loss=0.61092): 100%|██████████| 76/76 [01:06<00:00,  1.14it/s]\n",
      "Validate (7144 / 10 Steps): 100%|██████████| 22/22 [00:27<00:00,  1.25s/it]<00:09,  2.14it/s]\n",
      "Training (7200 / 18000 Steps) (loss=0.65858):  75%|███████▌  | 57/76 [00:57<02:46,  8.76s/it]"
     ]
    },
    {
     "name": "stdout",
     "output_type": "stream",
     "text": [
      "Model Was Not Saved ! Current Best Avg. Dice: 0.36158621311187744 Current Avg. Dice: 0.3431289792060852 Current Avg. tumor Dice: 0.310366153717041 Current Avg. lymph Dice: 0.3915259540081024\n"
     ]
    },
    {
     "name": "stderr",
     "output_type": "stream",
     "text": [
      "Training (7219 / 18000 Steps) (loss=0.54441): 100%|██████████| 76/76 [01:06<00:00,  1.14it/s]\n",
      "Training (7295 / 18000 Steps) (loss=0.60651): 100%|██████████| 76/76 [00:38<00:00,  1.96it/s]\n",
      "Validate (7296 / 10 Steps): 100%|██████████| 22/22 [00:27<00:00,  1.25s/it]00:58,  1.22it/s]\n",
      "Training (7300 / 18000 Steps) (loss=0.46836):   7%|▋         | 5/76 [00:33<12:49, 10.84s/it]"
     ]
    },
    {
     "name": "stdout",
     "output_type": "stream",
     "text": [
      "Model Was Saved ! Current Best Avg. Dice: 0.38056451082229614 Current Avg. Dice: 0.38056451082229614 Current Avg. tumor Dice: 0.3511718809604645 Current Avg. lymph Dice: 0.4272838532924652\n"
     ]
    },
    {
     "name": "stderr",
     "output_type": "stream",
     "text": [
      "Training (7371 / 18000 Steps) (loss=0.53762): 100%|██████████| 76/76 [01:07<00:00,  1.13it/s]\n",
      "Validate (7372 / 10 Steps): 100%|██████████| 22/22 [00:27<00:00,  1.25s/it]<00:23,  2.04it/s]\n",
      "Training (7400 / 18000 Steps) (loss=0.56702):  38%|███▊      | 29/76 [00:43<06:49,  8.72s/it]"
     ]
    },
    {
     "name": "stdout",
     "output_type": "stream",
     "text": [
      "Model Was Not Saved ! Current Best Avg. Dice: 0.38056451082229614 Current Avg. Dice: 0.3789038360118866 Current Avg. tumor Dice: 0.3590156137943268 Current Avg. lymph Dice: 0.42262929677963257\n"
     ]
    },
    {
     "name": "stderr",
     "output_type": "stream",
     "text": [
      "Training (7447 / 18000 Steps) (loss=0.51718): 100%|██████████| 76/76 [01:06<00:00,  1.15it/s]\n",
      "Validate (7448 / 10 Steps): 100%|██████████| 22/22 [00:27<00:00,  1.25s/it]<00:11,  2.14it/s]\n",
      "Training (7500 / 18000 Steps) (loss=0.51496):  70%|██████▉   | 53/76 [00:55<03:20,  8.71s/it]"
     ]
    },
    {
     "name": "stdout",
     "output_type": "stream",
     "text": [
      "Model Was Not Saved ! Current Best Avg. Dice: 0.38056451082229614 Current Avg. Dice: 0.3276854157447815 Current Avg. tumor Dice: 0.3188695013523102 Current Avg. lymph Dice: 0.359308660030365\n"
     ]
    },
    {
     "name": "stderr",
     "output_type": "stream",
     "text": [
      "Training (7523 / 18000 Steps) (loss=0.54054): 100%|██████████| 76/76 [01:05<00:00,  1.15it/s]\n",
      "Training (7599 / 18000 Steps) (loss=0.56371): 100%|██████████| 76/76 [00:39<00:00,  1.95it/s]\n",
      "Validate (7600 / 10 Steps): 100%|██████████| 22/22 [00:27<00:00,  1.26s/it]?, ?it/s]\n",
      "Training (7600 / 18000 Steps) (loss=0.51087):   1%|▏         | 1/76 [00:30<38:32, 30.84s/it]"
     ]
    },
    {
     "name": "stdout",
     "output_type": "stream",
     "text": [
      "Model Was Not Saved ! Current Best Avg. Dice: 0.38056451082229614 Current Avg. Dice: 0.37376153469085693 Current Avg. tumor Dice: 0.3575001657009125 Current Avg. lymph Dice: 0.4092794954776764\n"
     ]
    },
    {
     "name": "stderr",
     "output_type": "stream",
     "text": [
      "Training (7675 / 18000 Steps) (loss=0.40849): 100%|██████████| 76/76 [01:06<00:00,  1.14it/s]\n",
      "Validate (7676 / 10 Steps): 100%|██████████| 22/22 [00:27<00:00,  1.24s/it]<00:24,  2.11it/s]\n",
      "Training (7700 / 18000 Steps) (loss=0.57360):  33%|███▎      | 25/76 [00:42<07:26,  8.75s/it]"
     ]
    },
    {
     "name": "stdout",
     "output_type": "stream",
     "text": [
      "Model Was Not Saved ! Current Best Avg. Dice: 0.38056451082229614 Current Avg. Dice: 0.37351343035697937 Current Avg. tumor Dice: 0.34461620450019836 Current Avg. lymph Dice: 0.4141041040420532\n"
     ]
    },
    {
     "name": "stderr",
     "output_type": "stream",
     "text": [
      "Training (7751 / 18000 Steps) (loss=0.32057): 100%|██████████| 76/76 [01:06<00:00,  1.15it/s]\n",
      "Validate (7752 / 10 Steps): 100%|██████████| 22/22 [00:27<00:00,  1.25s/it]<00:13,  2.06it/s]\n",
      "Training (7800 / 18000 Steps) (loss=0.54469):  64%|██████▍   | 49/76 [00:54<04:01,  8.96s/it]"
     ]
    },
    {
     "name": "stdout",
     "output_type": "stream",
     "text": [
      "Model Was Saved ! Current Best Avg. Dice: 0.38850584626197815 Current Avg. Dice: 0.38850584626197815 Current Avg. tumor Dice: 0.34699708223342896 Current Avg. lymph Dice: 0.44803544878959656\n"
     ]
    },
    {
     "name": "stderr",
     "output_type": "stream",
     "text": [
      "Training (7827 / 18000 Steps) (loss=0.53902): 100%|██████████| 76/76 [01:07<00:00,  1.13it/s]\n",
      "Validate (7828 / 10 Steps): 100%|██████████| 22/22 [00:27<00:00,  1.25s/it]<00:01,  2.12it/s]\n",
      "Training (7900 / 18000 Steps) (loss=0.59263):  96%|█████████▌| 73/76 [01:05<00:26,  8.77s/it]"
     ]
    },
    {
     "name": "stdout",
     "output_type": "stream",
     "text": [
      "Model Was Not Saved ! Current Best Avg. Dice: 0.38850584626197815 Current Avg. Dice: 0.34402748942375183 Current Avg. tumor Dice: 0.2916576862335205 Current Avg. lymph Dice: 0.4339213967323303\n"
     ]
    },
    {
     "name": "stderr",
     "output_type": "stream",
     "text": [
      "Training (7903 / 18000 Steps) (loss=0.53477): 100%|██████████| 76/76 [01:06<00:00,  1.14it/s]\n",
      "Training (7979 / 18000 Steps) (loss=0.38228): 100%|██████████| 76/76 [00:39<00:00,  1.95it/s]\n",
      "Validate (7980 / 10 Steps): 100%|██████████| 22/22 [00:27<00:00,  1.26s/it]<00:26,  2.09it/s]\n",
      "Training (8000 / 18000 Steps) (loss=0.56443):  28%|██▊       | 21/76 [00:40<08:04,  8.81s/it]"
     ]
    },
    {
     "name": "stdout",
     "output_type": "stream",
     "text": [
      "Model Was Not Saved ! Current Best Avg. Dice: 0.38850584626197815 Current Avg. Dice: 0.35707148909568787 Current Avg. tumor Dice: 0.3167961537837982 Current Avg. lymph Dice: 0.423367977142334\n"
     ]
    },
    {
     "name": "stderr",
     "output_type": "stream",
     "text": [
      "Training (8055 / 18000 Steps) (loss=0.59241): 100%|██████████| 76/76 [01:06<00:00,  1.14it/s]\n",
      "Validate (8056 / 10 Steps): 100%|██████████| 22/22 [00:27<00:00,  1.25s/it]<00:15,  2.08it/s]\n",
      "Training (8100 / 18000 Steps) (loss=0.51172):  59%|█████▉    | 45/76 [00:52<04:37,  8.95s/it]"
     ]
    },
    {
     "name": "stdout",
     "output_type": "stream",
     "text": [
      "Model Was Saved ! Current Best Avg. Dice: 0.3914763331413269 Current Avg. Dice: 0.3914763331413269 Current Avg. tumor Dice: 0.3612453043460846 Current Avg. lymph Dice: 0.44250810146331787\n"
     ]
    },
    {
     "name": "stderr",
     "output_type": "stream",
     "text": [
      "Training (8131 / 18000 Steps) (loss=0.45213): 100%|██████████| 76/76 [01:07<00:00,  1.13it/s]\n",
      "Validate (8132 / 10 Steps): 100%|██████████| 22/22 [00:27<00:00,  1.24s/it]<00:03,  2.13it/s]\n",
      "Training (8200 / 18000 Steps) (loss=0.44796):  91%|█████████ | 69/76 [01:03<01:00,  8.70s/it]"
     ]
    },
    {
     "name": "stdout",
     "output_type": "stream",
     "text": [
      "Model Was Not Saved ! Current Best Avg. Dice: 0.3914763331413269 Current Avg. Dice: 0.36955025792121887 Current Avg. tumor Dice: 0.3277718126773834 Current Avg. lymph Dice: 0.43128231167793274\n"
     ]
    },
    {
     "name": "stderr",
     "output_type": "stream",
     "text": [
      "Training (8207 / 18000 Steps) (loss=0.38584): 100%|██████████| 76/76 [01:06<00:00,  1.14it/s]\n",
      "Training (8283 / 18000 Steps) (loss=0.60085): 100%|██████████| 76/76 [00:38<00:00,  1.96it/s]\n",
      "Validate (8284 / 10 Steps): 100%|██████████| 22/22 [00:27<00:00,  1.25s/it]<00:27,  2.21it/s]\n",
      "Training (8300 / 18000 Steps) (loss=0.53203):  22%|██▏       | 17/76 [00:38<08:49,  8.97s/it]"
     ]
    },
    {
     "name": "stdout",
     "output_type": "stream",
     "text": [
      "Model Was Saved ! Current Best Avg. Dice: 0.41232216358184814 Current Avg. Dice: 0.41232216358184814 Current Avg. tumor Dice: 0.39275142550468445 Current Avg. lymph Dice: 0.44262203574180603\n"
     ]
    },
    {
     "name": "stderr",
     "output_type": "stream",
     "text": [
      "Training (8359 / 18000 Steps) (loss=0.51819): 100%|██████████| 76/76 [01:07<00:00,  1.13it/s]\n",
      "Validate (8360 / 10 Steps): 100%|██████████| 22/22 [00:27<00:00,  1.27s/it]<00:17,  2.04it/s]\n",
      "Training (8400 / 18000 Steps) (loss=0.62270):  54%|█████▍    | 41/76 [00:50<05:11,  8.89s/it]"
     ]
    },
    {
     "name": "stdout",
     "output_type": "stream",
     "text": [
      "Model Was Not Saved ! Current Best Avg. Dice: 0.41232216358184814 Current Avg. Dice: 0.37784069776535034 Current Avg. tumor Dice: 0.3422495424747467 Current Avg. lymph Dice: 0.43067437410354614\n"
     ]
    },
    {
     "name": "stderr",
     "output_type": "stream",
     "text": [
      "Training (8435 / 18000 Steps) (loss=0.59702): 100%|██████████| 76/76 [01:06<00:00,  1.14it/s]\n",
      "Validate (8436 / 10 Steps): 100%|██████████| 22/22 [00:27<00:00,  1.25s/it]<00:05,  2.13it/s]\n",
      "Training (8500 / 18000 Steps) (loss=0.46442):  86%|████████▌ | 65/76 [01:01<01:35,  8.72s/it]"
     ]
    },
    {
     "name": "stdout",
     "output_type": "stream",
     "text": [
      "Model Was Not Saved ! Current Best Avg. Dice: 0.41232216358184814 Current Avg. Dice: 0.3413671851158142 Current Avg. tumor Dice: 0.2776416838169098 Current Avg. lymph Dice: 0.4448395371437073\n"
     ]
    },
    {
     "name": "stderr",
     "output_type": "stream",
     "text": [
      "Training (8511 / 18000 Steps) (loss=0.50012): 100%|██████████| 76/76 [01:06<00:00,  1.14it/s]\n",
      "Training (8587 / 18000 Steps) (loss=0.62224): 100%|██████████| 76/76 [00:38<00:00,  1.96it/s]\n",
      "Validate (8588 / 10 Steps): 100%|██████████| 22/22 [00:27<00:00,  1.25s/it]<00:30,  2.07it/s]\n",
      "Training (8600 / 18000 Steps) (loss=0.45186):  17%|█▋        | 13/76 [00:36<09:13,  8.79s/it]"
     ]
    },
    {
     "name": "stdout",
     "output_type": "stream",
     "text": [
      "Model Was Not Saved ! Current Best Avg. Dice: 0.41232216358184814 Current Avg. Dice: 0.3603026568889618 Current Avg. tumor Dice: 0.3166424036026001 Current Avg. lymph Dice: 0.4314887225627899\n"
     ]
    },
    {
     "name": "stderr",
     "output_type": "stream",
     "text": [
      "Training (8663 / 18000 Steps) (loss=0.61601): 100%|██████████| 76/76 [01:06<00:00,  1.15it/s]\n",
      "Validate (8664 / 10 Steps): 100%|██████████| 22/22 [00:27<00:00,  1.25s/it]<00:19,  2.10it/s]\n",
      "Training (8700 / 18000 Steps) (loss=0.59194):  49%|████▊     | 37/76 [00:47<05:40,  8.73s/it]"
     ]
    },
    {
     "name": "stdout",
     "output_type": "stream",
     "text": [
      "Model Was Not Saved ! Current Best Avg. Dice: 0.41232216358184814 Current Avg. Dice: 0.369596928358078 Current Avg. tumor Dice: 0.32700884342193604 Current Avg. lymph Dice: 0.4450564980506897\n"
     ]
    },
    {
     "name": "stderr",
     "output_type": "stream",
     "text": [
      "Training (8739 / 18000 Steps) (loss=0.51537): 100%|██████████| 76/76 [01:06<00:00,  1.15it/s]\n",
      "Validate (8740 / 10 Steps): 100%|██████████| 22/22 [00:27<00:00,  1.25s/it]<00:07,  2.16it/s]\n",
      "Training (8800 / 18000 Steps) (loss=0.46893):  80%|████████  | 61/76 [00:59<02:11,  8.73s/it]"
     ]
    },
    {
     "name": "stdout",
     "output_type": "stream",
     "text": [
      "Model Was Not Saved ! Current Best Avg. Dice: 0.41232216358184814 Current Avg. Dice: 0.3483562171459198 Current Avg. tumor Dice: 0.3106268048286438 Current Avg. lymph Dice: 0.42202964425086975\n"
     ]
    },
    {
     "name": "stderr",
     "output_type": "stream",
     "text": [
      "Training (8815 / 18000 Steps) (loss=0.56478): 100%|██████████| 76/76 [01:06<00:00,  1.15it/s]\n",
      "Training (8891 / 18000 Steps) (loss=0.48952): 100%|██████████| 76/76 [00:38<00:00,  1.97it/s]\n",
      "Validate (8892 / 10 Steps): 100%|██████████| 22/22 [00:27<00:00,  1.24s/it]00:35,  1.94it/s]\n",
      "Training (8900 / 18000 Steps) (loss=0.51819):  12%|█▏        | 9/76 [00:34<10:10,  9.11s/it]"
     ]
    },
    {
     "name": "stdout",
     "output_type": "stream",
     "text": [
      "Model Was Not Saved ! Current Best Avg. Dice: 0.41232216358184814 Current Avg. Dice: 0.36209750175476074 Current Avg. tumor Dice: 0.3451998233795166 Current Avg. lymph Dice: 0.4018886089324951\n"
     ]
    },
    {
     "name": "stderr",
     "output_type": "stream",
     "text": [
      "Training (8967 / 18000 Steps) (loss=0.44006): 100%|██████████| 76/76 [01:06<00:00,  1.14it/s]\n",
      "Validate (8968 / 10 Steps): 100%|██████████| 22/22 [00:27<00:00,  1.25s/it]<00:20,  2.14it/s]\n",
      "Training (9000 / 18000 Steps) (loss=0.59691):  43%|████▎     | 33/76 [00:46<06:14,  8.70s/it]"
     ]
    },
    {
     "name": "stdout",
     "output_type": "stream",
     "text": [
      "Model Was Not Saved ! Current Best Avg. Dice: 0.41232216358184814 Current Avg. Dice: 0.3857605755329132 Current Avg. tumor Dice: 0.3496532440185547 Current Avg. lymph Dice: 0.4431387186050415\n"
     ]
    },
    {
     "name": "stderr",
     "output_type": "stream",
     "text": [
      "Training (9043 / 18000 Steps) (loss=0.54752): 100%|██████████| 76/76 [01:06<00:00,  1.14it/s]\n",
      "Validate (9044 / 10 Steps): 100%|██████████| 22/22 [00:27<00:00,  1.24s/it]<00:09,  2.11it/s]\n",
      "Training (9100 / 18000 Steps) (loss=0.54149):  75%|███████▌  | 57/76 [00:57<02:44,  8.67s/it]"
     ]
    },
    {
     "name": "stdout",
     "output_type": "stream",
     "text": [
      "Model Was Not Saved ! Current Best Avg. Dice: 0.41232216358184814 Current Avg. Dice: 0.388468474149704 Current Avg. tumor Dice: 0.35661372542381287 Current Avg. lymph Dice: 0.44301220774650574\n"
     ]
    },
    {
     "name": "stderr",
     "output_type": "stream",
     "text": [
      "Training (9119 / 18000 Steps) (loss=0.61636): 100%|██████████| 76/76 [01:06<00:00,  1.14it/s]\n",
      "Training (9195 / 18000 Steps) (loss=0.63321): 100%|██████████| 76/76 [00:39<00:00,  1.94it/s]\n",
      "Validate (9196 / 10 Steps): 100%|██████████| 22/22 [00:27<00:00,  1.25s/it]00:58,  1.24it/s]\n",
      "Training (9200 / 18000 Steps) (loss=0.56141):   7%|▋         | 5/76 [00:32<12:31, 10.58s/it]"
     ]
    },
    {
     "name": "stdout",
     "output_type": "stream",
     "text": [
      "Model Was Not Saved ! Current Best Avg. Dice: 0.41232216358184814 Current Avg. Dice: 0.3659747838973999 Current Avg. tumor Dice: 0.32684943079948425 Current Avg. lymph Dice: 0.43332138657569885\n"
     ]
    },
    {
     "name": "stderr",
     "output_type": "stream",
     "text": [
      "Training (9271 / 18000 Steps) (loss=0.58591): 100%|██████████| 76/76 [01:05<00:00,  1.15it/s]\n",
      "Validate (9272 / 10 Steps): 100%|██████████| 22/22 [00:27<00:00,  1.26s/it]<00:23,  2.08it/s]\n",
      "Training (9300 / 18000 Steps) (loss=0.46520):  38%|███▊      | 29/76 [00:44<06:53,  8.80s/it]"
     ]
    },
    {
     "name": "stdout",
     "output_type": "stream",
     "text": [
      "Model Was Not Saved ! Current Best Avg. Dice: 0.41232216358184814 Current Avg. Dice: 0.3783186078071594 Current Avg. tumor Dice: 0.3477669656276703 Current Avg. lymph Dice: 0.4400540590286255\n"
     ]
    },
    {
     "name": "stderr",
     "output_type": "stream",
     "text": [
      "Training (9347 / 18000 Steps) (loss=0.49939): 100%|██████████| 76/76 [01:06<00:00,  1.14it/s]\n",
      "Validate (9348 / 10 Steps): 100%|██████████| 22/22 [00:27<00:00,  1.25s/it]<00:11,  2.16it/s]\n",
      "Training (9400 / 18000 Steps) (loss=0.53897):  70%|██████▉   | 53/76 [00:55<03:21,  8.75s/it]"
     ]
    },
    {
     "name": "stdout",
     "output_type": "stream",
     "text": [
      "Model Was Not Saved ! Current Best Avg. Dice: 0.41232216358184814 Current Avg. Dice: 0.38159000873565674 Current Avg. tumor Dice: 0.36664971709251404 Current Avg. lymph Dice: 0.4137011766433716\n"
     ]
    },
    {
     "name": "stderr",
     "output_type": "stream",
     "text": [
      "Training (9423 / 18000 Steps) (loss=0.46477): 100%|██████████| 76/76 [01:06<00:00,  1.15it/s]\n",
      "Training (9499 / 18000 Steps) (loss=0.58415): 100%|██████████| 76/76 [00:38<00:00,  1.96it/s]\n",
      "Validate (9500 / 10 Steps): 100%|██████████| 22/22 [00:27<00:00,  1.25s/it]?, ?it/s]\n",
      "Training (9500 / 18000 Steps) (loss=0.53817):   1%|▏         | 1/76 [00:30<38:18, 30.65s/it]"
     ]
    },
    {
     "name": "stdout",
     "output_type": "stream",
     "text": [
      "Model Was Not Saved ! Current Best Avg. Dice: 0.41232216358184814 Current Avg. Dice: 0.35360774397850037 Current Avg. tumor Dice: 0.347921222448349 Current Avg. lymph Dice: 0.3803676962852478\n"
     ]
    },
    {
     "name": "stderr",
     "output_type": "stream",
     "text": [
      "Training (9575 / 18000 Steps) (loss=0.52704): 100%|██████████| 76/76 [01:06<00:00,  1.15it/s]\n",
      "Validate (9576 / 10 Steps): 100%|██████████| 22/22 [00:27<00:00,  1.24s/it]<00:25,  2.07it/s]\n",
      "Training (9600 / 18000 Steps) (loss=0.56867):  33%|███▎      | 25/76 [00:42<07:23,  8.70s/it]"
     ]
    },
    {
     "name": "stdout",
     "output_type": "stream",
     "text": [
      "Model Was Not Saved ! Current Best Avg. Dice: 0.41232216358184814 Current Avg. Dice: 0.3614838421344757 Current Avg. tumor Dice: 0.3300914764404297 Current Avg. lymph Dice: 0.4238809049129486\n"
     ]
    },
    {
     "name": "stderr",
     "output_type": "stream",
     "text": [
      "Training (9651 / 18000 Steps) (loss=0.52684): 100%|██████████| 76/76 [01:06<00:00,  1.15it/s]\n",
      "Validate (9652 / 10 Steps): 100%|██████████| 22/22 [00:27<00:00,  1.25s/it]<00:13,  2.10it/s]\n",
      "Training (9700 / 18000 Steps) (loss=0.53334):  64%|██████▍   | 49/76 [00:53<03:56,  8.76s/it]"
     ]
    },
    {
     "name": "stdout",
     "output_type": "stream",
     "text": [
      "Model Was Not Saved ! Current Best Avg. Dice: 0.41232216358184814 Current Avg. Dice: 0.34623125195503235 Current Avg. tumor Dice: 0.32712945342063904 Current Avg. lymph Dice: 0.3945069909095764\n"
     ]
    },
    {
     "name": "stderr",
     "output_type": "stream",
     "text": [
      "Training (9727 / 18000 Steps) (loss=0.51203): 100%|██████████| 76/76 [01:06<00:00,  1.14it/s]\n",
      "Validate (9728 / 10 Steps): 100%|██████████| 22/22 [00:27<00:00,  1.24s/it]<00:01,  2.13it/s]\n",
      "Training (9800 / 18000 Steps) (loss=0.58465):  96%|█████████▌| 73/76 [01:04<00:26,  8.69s/it]"
     ]
    },
    {
     "name": "stdout",
     "output_type": "stream",
     "text": [
      "Model Was Not Saved ! Current Best Avg. Dice: 0.41232216358184814 Current Avg. Dice: 0.37984517216682434 Current Avg. tumor Dice: 0.34265202283859253 Current Avg. lymph Dice: 0.4380412697792053\n"
     ]
    },
    {
     "name": "stderr",
     "output_type": "stream",
     "text": [
      "Training (9803 / 18000 Steps) (loss=0.55844): 100%|██████████| 76/76 [01:06<00:00,  1.15it/s]\n",
      "Training (9879 / 18000 Steps) (loss=0.47551): 100%|██████████| 76/76 [00:38<00:00,  1.97it/s]\n",
      "Validate (9880 / 10 Steps): 100%|██████████| 22/22 [00:27<00:00,  1.24s/it]<00:26,  2.14it/s]\n",
      "Training (9900 / 18000 Steps) (loss=0.49774):  28%|██▊       | 21/76 [00:39<07:58,  8.70s/it]"
     ]
    },
    {
     "name": "stdout",
     "output_type": "stream",
     "text": [
      "Model Was Not Saved ! Current Best Avg. Dice: 0.41232216358184814 Current Avg. Dice: 0.40281403064727783 Current Avg. tumor Dice: 0.3593955636024475 Current Avg. lymph Dice: 0.46649277210235596\n"
     ]
    },
    {
     "name": "stderr",
     "output_type": "stream",
     "text": [
      "Training (9955 / 18000 Steps) (loss=0.52376): 100%|██████████| 76/76 [01:06<00:00,  1.14it/s]\n",
      "Validate (9956 / 10 Steps): 100%|██████████| 22/22 [00:27<00:00,  1.25s/it]4<00:14,  2.17it/s]\n",
      "Training (10000 / 18000 Steps) (loss=0.63537):  59%|█████▉    | 45/76 [00:51<04:30,  8.74s/it]"
     ]
    },
    {
     "name": "stdout",
     "output_type": "stream",
     "text": [
      "Model Was Not Saved ! Current Best Avg. Dice: 0.41232216358184814 Current Avg. Dice: 0.3934701085090637 Current Avg. tumor Dice: 0.35344424843788147 Current Avg. lymph Dice: 0.45750364661216736\n"
     ]
    },
    {
     "name": "stderr",
     "output_type": "stream",
     "text": [
      "Training (10031 / 18000 Steps) (loss=0.60422): 100%|██████████| 76/76 [01:06<00:00,  1.14it/s]\n",
      "Validate (10032 / 10 Steps): 100%|██████████| 22/22 [00:27<00:00,  1.25s/it]<00:03,  2.16it/s]\n",
      "Training (10100 / 18000 Steps) (loss=0.54515):  91%|█████████ | 69/76 [01:02<01:00,  8.71s/it]"
     ]
    },
    {
     "name": "stdout",
     "output_type": "stream",
     "text": [
      "Model Was Not Saved ! Current Best Avg. Dice: 0.41232216358184814 Current Avg. Dice: 0.3772543668746948 Current Avg. tumor Dice: 0.3468320667743683 Current Avg. lymph Dice: 0.4261566698551178\n"
     ]
    },
    {
     "name": "stderr",
     "output_type": "stream",
     "text": [
      "Training (10107 / 18000 Steps) (loss=0.59632): 100%|██████████| 76/76 [01:06<00:00,  1.15it/s]\n",
      "Training (10183 / 18000 Steps) (loss=0.59391): 100%|██████████| 76/76 [00:38<00:00,  1.96it/s]\n",
      "Validate (10184 / 10 Steps): 100%|██████████| 22/22 [00:27<00:00,  1.26s/it]<00:27,  2.18it/s]\n",
      "Training (10200 / 18000 Steps) (loss=0.55202):  22%|██▏       | 17/76 [00:38<08:41,  8.84s/it]"
     ]
    },
    {
     "name": "stdout",
     "output_type": "stream",
     "text": [
      "Model Was Not Saved ! Current Best Avg. Dice: 0.41232216358184814 Current Avg. Dice: 0.3796583414077759 Current Avg. tumor Dice: 0.3498794138431549 Current Avg. lymph Dice: 0.4282642900943756\n"
     ]
    },
    {
     "name": "stderr",
     "output_type": "stream",
     "text": [
      "Training (10259 / 18000 Steps) (loss=0.56347): 100%|██████████| 76/76 [01:07<00:00,  1.13it/s]\n",
      "Validate (10260 / 10 Steps): 100%|██████████| 22/22 [00:27<00:00,  1.24s/it]<00:17,  2.06it/s]\n",
      "Training (10300 / 18000 Steps) (loss=0.58229):  54%|█████▍    | 41/76 [00:49<05:05,  8.72s/it]"
     ]
    },
    {
     "name": "stdout",
     "output_type": "stream",
     "text": [
      "Model Was Not Saved ! Current Best Avg. Dice: 0.41232216358184814 Current Avg. Dice: 0.38127467036247253 Current Avg. tumor Dice: 0.3450009822845459 Current Avg. lymph Dice: 0.4384705722332001\n"
     ]
    },
    {
     "name": "stderr",
     "output_type": "stream",
     "text": [
      "Training (10335 / 18000 Steps) (loss=0.47882): 100%|██████████| 76/76 [01:06<00:00,  1.14it/s]\n",
      "Validate (10336 / 10 Steps): 100%|██████████| 22/22 [00:27<00:00,  1.25s/it]<00:05,  2.13it/s]\n",
      "Training (10400 / 18000 Steps) (loss=0.58242):  86%|████████▌ | 65/76 [01:00<01:35,  8.72s/it]"
     ]
    },
    {
     "name": "stdout",
     "output_type": "stream",
     "text": [
      "Model Was Not Saved ! Current Best Avg. Dice: 0.41232216358184814 Current Avg. Dice: 0.38743963837623596 Current Avg. tumor Dice: 0.35821133852005005 Current Avg. lymph Dice: 0.4347897469997406\n"
     ]
    },
    {
     "name": "stderr",
     "output_type": "stream",
     "text": [
      "Training (10411 / 18000 Steps) (loss=0.48950): 100%|██████████| 76/76 [01:06<00:00,  1.15it/s]\n",
      "Training (10487 / 18000 Steps) (loss=0.46402): 100%|██████████| 76/76 [00:38<00:00,  1.97it/s]\n",
      "Validate (10488 / 10 Steps): 100%|██████████| 22/22 [00:27<00:00,  1.25s/it]<00:33,  1.91it/s]\n",
      "Training (10500 / 18000 Steps) (loss=0.45406):  17%|█▋        | 13/76 [00:36<09:15,  8.82s/it]"
     ]
    },
    {
     "name": "stdout",
     "output_type": "stream",
     "text": [
      "Model Was Not Saved ! Current Best Avg. Dice: 0.41232216358184814 Current Avg. Dice: 0.38882681727409363 Current Avg. tumor Dice: 0.3543851375579834 Current Avg. lymph Dice: 0.4464292526245117\n"
     ]
    },
    {
     "name": "stderr",
     "output_type": "stream",
     "text": [
      "Training (10563 / 18000 Steps) (loss=0.41328): 100%|██████████| 76/76 [01:06<00:00,  1.14it/s]\n",
      "Validate (10564 / 10 Steps): 100%|██████████| 22/22 [00:27<00:00,  1.24s/it]<00:19,  2.10it/s]\n",
      "Training (10600 / 18000 Steps) (loss=0.33852):  49%|████▊     | 37/76 [00:47<05:38,  8.69s/it]"
     ]
    },
    {
     "name": "stdout",
     "output_type": "stream",
     "text": [
      "Model Was Not Saved ! Current Best Avg. Dice: 0.41232216358184814 Current Avg. Dice: 0.39812448620796204 Current Avg. tumor Dice: 0.36793628334999084 Current Avg. lymph Dice: 0.4531334340572357\n"
     ]
    },
    {
     "name": "stderr",
     "output_type": "stream",
     "text": [
      "Training (10639 / 18000 Steps) (loss=0.64801): 100%|██████████| 76/76 [01:06<00:00,  1.15it/s]\n",
      "Validate (10640 / 10 Steps): 100%|██████████| 22/22 [00:27<00:00,  1.25s/it]<00:07,  2.19it/s]\n",
      "Training (10700 / 18000 Steps) (loss=0.50787):  80%|████████  | 61/76 [00:59<02:11,  8.74s/it]"
     ]
    },
    {
     "name": "stdout",
     "output_type": "stream",
     "text": [
      "Model Was Not Saved ! Current Best Avg. Dice: 0.41232216358184814 Current Avg. Dice: 0.3745620548725128 Current Avg. tumor Dice: 0.34983915090560913 Current Avg. lymph Dice: 0.42472532391548157\n"
     ]
    },
    {
     "name": "stderr",
     "output_type": "stream",
     "text": [
      "Training (10715 / 18000 Steps) (loss=0.54137): 100%|██████████| 76/76 [01:06<00:00,  1.15it/s]\n",
      "Training (10791 / 18000 Steps) (loss=0.53899): 100%|██████████| 76/76 [00:39<00:00,  1.95it/s]\n",
      "Validate (10792 / 10 Steps): 100%|██████████| 22/22 [00:27<00:00,  1.25s/it]00:35,  1.93it/s]\n",
      "Training (10800 / 18000 Steps) (loss=0.50768):  12%|█▏        | 9/76 [00:34<10:14,  9.16s/it]"
     ]
    },
    {
     "name": "stdout",
     "output_type": "stream",
     "text": [
      "Model Was Not Saved ! Current Best Avg. Dice: 0.41232216358184814 Current Avg. Dice: 0.4043150246143341 Current Avg. tumor Dice: 0.3847540318965912 Current Avg. lymph Dice: 0.4313275218009949\n"
     ]
    },
    {
     "name": "stderr",
     "output_type": "stream",
     "text": [
      "Training (10867 / 18000 Steps) (loss=0.45355): 100%|██████████| 76/76 [01:05<00:00,  1.15it/s]\n",
      "Validate (10868 / 10 Steps): 100%|██████████| 22/22 [00:27<00:00,  1.26s/it]<00:21,  2.07it/s]\n",
      "Training (10900 / 18000 Steps) (loss=0.52786):  43%|████▎     | 33/76 [00:46<06:19,  8.82s/it]"
     ]
    },
    {
     "name": "stdout",
     "output_type": "stream",
     "text": [
      "Model Was Not Saved ! Current Best Avg. Dice: 0.41232216358184814 Current Avg. Dice: 0.3835147023200989 Current Avg. tumor Dice: 0.3401411175727844 Current Avg. lymph Dice: 0.4446586072444916\n"
     ]
    },
    {
     "name": "stderr",
     "output_type": "stream",
     "text": [
      "Training (10943 / 18000 Steps) (loss=0.61301): 100%|██████████| 76/76 [01:06<00:00,  1.14it/s]\n",
      "Validate (10944 / 10 Steps): 100%|██████████| 22/22 [00:27<00:00,  1.25s/it]<00:09,  2.04it/s]\n",
      "Training (11000 / 18000 Steps) (loss=0.40229):  75%|███████▌  | 57/76 [00:57<02:46,  8.77s/it]"
     ]
    },
    {
     "name": "stdout",
     "output_type": "stream",
     "text": [
      "Model Was Not Saved ! Current Best Avg. Dice: 0.41232216358184814 Current Avg. Dice: 0.39915144443511963 Current Avg. tumor Dice: 0.37150800228118896 Current Avg. lymph Dice: 0.4553508758544922\n"
     ]
    },
    {
     "name": "stderr",
     "output_type": "stream",
     "text": [
      "Training (11019 / 18000 Steps) (loss=0.59165): 100%|██████████| 76/76 [01:06<00:00,  1.14it/s]\n",
      "Training (11095 / 18000 Steps) (loss=0.43085): 100%|██████████| 76/76 [00:39<00:00,  1.95it/s]\n",
      "Validate (11096 / 10 Steps): 100%|██████████| 22/22 [00:27<00:00,  1.25s/it]00:59,  1.21it/s]\n",
      "Training (11100 / 18000 Steps) (loss=0.48842):   7%|▋         | 5/76 [00:32<12:36, 10.65s/it]"
     ]
    },
    {
     "name": "stdout",
     "output_type": "stream",
     "text": [
      "Model Was Not Saved ! Current Best Avg. Dice: 0.41232216358184814 Current Avg. Dice: 0.3762154281139374 Current Avg. tumor Dice: 0.33193135261535645 Current Avg. lymph Dice: 0.4606170654296875\n"
     ]
    },
    {
     "name": "stderr",
     "output_type": "stream",
     "text": [
      "Training (11171 / 18000 Steps) (loss=0.47011): 100%|██████████| 76/76 [01:06<00:00,  1.15it/s]\n",
      "Validate (11172 / 10 Steps): 100%|██████████| 22/22 [00:27<00:00,  1.25s/it]<00:22,  2.18it/s]\n",
      "Training (11200 / 18000 Steps) (loss=0.45251):  38%|███▊      | 29/76 [00:43<06:48,  8.70s/it]"
     ]
    },
    {
     "name": "stdout",
     "output_type": "stream",
     "text": [
      "Model Was Not Saved ! Current Best Avg. Dice: 0.41232216358184814 Current Avg. Dice: 0.40627220273017883 Current Avg. tumor Dice: 0.3712153732776642 Current Avg. lymph Dice: 0.46399232745170593\n"
     ]
    },
    {
     "name": "stderr",
     "output_type": "stream",
     "text": [
      "Training (11247 / 18000 Steps) (loss=0.47101): 100%|██████████| 76/76 [01:06<00:00,  1.14it/s]\n",
      "Validate (11248 / 10 Steps): 100%|██████████| 22/22 [00:27<00:00,  1.25s/it]<00:11,  2.14it/s]\n",
      "Training (11300 / 18000 Steps) (loss=0.51025):  70%|██████▉   | 53/76 [00:55<03:21,  8.75s/it]"
     ]
    },
    {
     "name": "stdout",
     "output_type": "stream",
     "text": [
      "Model Was Not Saved ! Current Best Avg. Dice: 0.41232216358184814 Current Avg. Dice: 0.3998066186904907 Current Avg. tumor Dice: 0.38632598519325256 Current Avg. lymph Dice: 0.42848169803619385\n"
     ]
    },
    {
     "name": "stderr",
     "output_type": "stream",
     "text": [
      "Training (11323 / 18000 Steps) (loss=0.40545): 100%|██████████| 76/76 [01:06<00:00,  1.15it/s]\n",
      "Training (11399 / 18000 Steps) (loss=0.52288): 100%|██████████| 76/76 [00:38<00:00,  1.98it/s]\n",
      "Validate (11400 / 10 Steps): 100%|██████████| 22/22 [00:27<00:00,  1.24s/it]?, ?it/s]\n",
      "Training (11400 / 18000 Steps) (loss=0.47768):   1%|▏         | 1/76 [00:30<38:06, 30.49s/it]"
     ]
    },
    {
     "name": "stdout",
     "output_type": "stream",
     "text": [
      "Model Was Not Saved ! Current Best Avg. Dice: 0.41232216358184814 Current Avg. Dice: 0.40328291058540344 Current Avg. tumor Dice: 0.36649298667907715 Current Avg. lymph Dice: 0.4625036418437958\n"
     ]
    },
    {
     "name": "stderr",
     "output_type": "stream",
     "text": [
      "Training (11475 / 18000 Steps) (loss=0.49450): 100%|██████████| 76/76 [01:05<00:00,  1.16it/s]\n",
      "Validate (11476 / 10 Steps): 100%|██████████| 22/22 [00:27<00:00,  1.24s/it]<00:24,  2.10it/s]\n",
      "Training (11500 / 18000 Steps) (loss=0.63259):  33%|███▎      | 25/76 [00:42<07:25,  8.73s/it]"
     ]
    },
    {
     "name": "stdout",
     "output_type": "stream",
     "text": [
      "Model Was Not Saved ! Current Best Avg. Dice: 0.41232216358184814 Current Avg. Dice: 0.4058074951171875 Current Avg. tumor Dice: 0.36837881803512573 Current Avg. lymph Dice: 0.47703737020492554\n"
     ]
    },
    {
     "name": "stderr",
     "output_type": "stream",
     "text": [
      "Training (11551 / 18000 Steps) (loss=0.59987): 100%|██████████| 76/76 [01:06<00:00,  1.14it/s]\n",
      "Validate (11552 / 10 Steps): 100%|██████████| 22/22 [00:27<00:00,  1.25s/it]<00:13,  2.09it/s]\n",
      "Training (11600 / 18000 Steps) (loss=0.65847):  64%|██████▍   | 49/76 [00:53<03:55,  8.73s/it]"
     ]
    },
    {
     "name": "stdout",
     "output_type": "stream",
     "text": [
      "Model Was Not Saved ! Current Best Avg. Dice: 0.41232216358184814 Current Avg. Dice: 0.3906048834323883 Current Avg. tumor Dice: 0.351667582988739 Current Avg. lymph Dice: 0.4695776402950287\n"
     ]
    },
    {
     "name": "stderr",
     "output_type": "stream",
     "text": [
      "Training (11627 / 18000 Steps) (loss=0.52047): 100%|██████████| 76/76 [01:06<00:00,  1.14it/s]\n",
      "Validate (11628 / 10 Steps): 100%|██████████| 22/22 [00:27<00:00,  1.25s/it]<00:01,  2.14it/s]\n",
      "Training (11700 / 18000 Steps) (loss=0.50161):  96%|█████████▌| 73/76 [01:05<00:26,  8.97s/it]"
     ]
    },
    {
     "name": "stdout",
     "output_type": "stream",
     "text": [
      "Model Was Saved ! Current Best Avg. Dice: 0.4148097336292267 Current Avg. Dice: 0.4148097336292267 Current Avg. tumor Dice: 0.3835950493812561 Current Avg. lymph Dice: 0.4577948749065399\n"
     ]
    },
    {
     "name": "stderr",
     "output_type": "stream",
     "text": [
      "Training (11703 / 18000 Steps) (loss=0.56277): 100%|██████████| 76/76 [01:06<00:00,  1.14it/s]\n",
      "Training (11779 / 18000 Steps) (loss=0.44492): 100%|██████████| 76/76 [00:39<00:00,  1.94it/s]\n",
      "Validate (11780 / 10 Steps): 100%|██████████| 22/22 [00:27<00:00,  1.25s/it]<00:25,  2.18it/s]\n",
      "Training (11800 / 18000 Steps) (loss=0.50500):  28%|██▊       | 21/76 [00:40<07:58,  8.71s/it]"
     ]
    },
    {
     "name": "stdout",
     "output_type": "stream",
     "text": [
      "Model Was Not Saved ! Current Best Avg. Dice: 0.4148097336292267 Current Avg. Dice: 0.4038151502609253 Current Avg. tumor Dice: 0.36752045154571533 Current Avg. lymph Dice: 0.4708441495895386\n"
     ]
    },
    {
     "name": "stderr",
     "output_type": "stream",
     "text": [
      "Training (11855 / 18000 Steps) (loss=0.59013): 100%|██████████| 76/76 [01:06<00:00,  1.14it/s]\n",
      "Validate (11856 / 10 Steps): 100%|██████████| 22/22 [00:27<00:00,  1.26s/it]<00:15,  2.12it/s]\n",
      "Training (11900 / 18000 Steps) (loss=0.46479):  59%|█████▉    | 45/76 [00:51<04:32,  8.79s/it]"
     ]
    },
    {
     "name": "stdout",
     "output_type": "stream",
     "text": [
      "Model Was Not Saved ! Current Best Avg. Dice: 0.4148097336292267 Current Avg. Dice: 0.37887516617774963 Current Avg. tumor Dice: 0.31526029109954834 Current Avg. lymph Dice: 0.48135238885879517\n"
     ]
    },
    {
     "name": "stderr",
     "output_type": "stream",
     "text": [
      "Training (11931 / 18000 Steps) (loss=0.45693): 100%|██████████| 76/76 [01:07<00:00,  1.13it/s]\n",
      "Validate (11932 / 10 Steps): 100%|██████████| 22/22 [00:27<00:00,  1.23s/it]<00:03,  2.14it/s]\n",
      "Training (12000 / 18000 Steps) (loss=0.47000):  91%|█████████ | 69/76 [01:02<01:00,  8.60s/it]"
     ]
    },
    {
     "name": "stdout",
     "output_type": "stream",
     "text": [
      "Model Was Not Saved ! Current Best Avg. Dice: 0.4148097336292267 Current Avg. Dice: 0.4097912013530731 Current Avg. tumor Dice: 0.3727959096431732 Current Avg. lymph Dice: 0.46930184960365295\n"
     ]
    },
    {
     "name": "stderr",
     "output_type": "stream",
     "text": [
      "Training (12007 / 18000 Steps) (loss=0.53244): 100%|██████████| 76/76 [01:05<00:00,  1.16it/s]\n",
      "Training (12083 / 18000 Steps) (loss=0.45450): 100%|██████████| 76/76 [00:38<00:00,  1.96it/s]\n",
      "Validate (12084 / 10 Steps): 100%|██████████| 22/22 [00:27<00:00,  1.23s/it]<00:26,  2.24it/s]\n",
      "Training (12100 / 18000 Steps) (loss=0.46877):  22%|██▏       | 17/76 [00:37<08:31,  8.67s/it]"
     ]
    },
    {
     "name": "stdout",
     "output_type": "stream",
     "text": [
      "Model Was Not Saved ! Current Best Avg. Dice: 0.4148097336292267 Current Avg. Dice: 0.3878253698348999 Current Avg. tumor Dice: 0.3802511394023895 Current Avg. lymph Dice: 0.41075149178504944\n"
     ]
    },
    {
     "name": "stderr",
     "output_type": "stream",
     "text": [
      "Training (12159 / 18000 Steps) (loss=0.54345): 100%|██████████| 76/76 [01:05<00:00,  1.16it/s]\n",
      "Validate (12160 / 10 Steps): 100%|██████████| 22/22 [00:27<00:00,  1.24s/it]<00:16,  2.14it/s]\n",
      "Training (12200 / 18000 Steps) (loss=0.39956):  54%|█████▍    | 41/76 [00:50<05:10,  8.87s/it]"
     ]
    },
    {
     "name": "stdout",
     "output_type": "stream",
     "text": [
      "Model Was Saved ! Current Best Avg. Dice: 0.4176410436630249 Current Avg. Dice: 0.4176410436630249 Current Avg. tumor Dice: 0.38371872901916504 Current Avg. lymph Dice: 0.4762958288192749\n"
     ]
    },
    {
     "name": "stderr",
     "output_type": "stream",
     "text": [
      "Training (12235 / 18000 Steps) (loss=0.52733): 100%|██████████| 76/76 [01:06<00:00,  1.13it/s]\n",
      "Validate (12236 / 10 Steps): 100%|██████████| 22/22 [00:27<00:00,  1.23s/it]<00:05,  2.15it/s]\n",
      "Training (12300 / 18000 Steps) (loss=0.54891):  86%|████████▌ | 65/76 [01:01<01:37,  8.84s/it]"
     ]
    },
    {
     "name": "stdout",
     "output_type": "stream",
     "text": [
      "Model Was Saved ! Current Best Avg. Dice: 0.4194256067276001 Current Avg. Dice: 0.4194256067276001 Current Avg. tumor Dice: 0.3822768032550812 Current Avg. lymph Dice: 0.47520339488983154\n"
     ]
    },
    {
     "name": "stderr",
     "output_type": "stream",
     "text": [
      "Training (12311 / 18000 Steps) (loss=0.59073): 100%|██████████| 76/76 [01:06<00:00,  1.14it/s]\n",
      "Training (12387 / 18000 Steps) (loss=0.54299): 100%|██████████| 76/76 [00:38<00:00,  1.98it/s]\n",
      "Validate (12388 / 10 Steps): 100%|██████████| 22/22 [00:27<00:00,  1.25s/it]<00:31,  2.01it/s]\n",
      "Training (12400 / 18000 Steps) (loss=0.51335):  17%|█▋        | 13/76 [00:36<09:17,  8.84s/it]"
     ]
    },
    {
     "name": "stdout",
     "output_type": "stream",
     "text": [
      "Model Was Not Saved ! Current Best Avg. Dice: 0.4194256067276001 Current Avg. Dice: 0.376150906085968 Current Avg. tumor Dice: 0.3298693299293518 Current Avg. lymph Dice: 0.45247989892959595\n"
     ]
    },
    {
     "name": "stderr",
     "output_type": "stream",
     "text": [
      "Training (12463 / 18000 Steps) (loss=0.62108): 100%|██████████| 76/76 [01:06<00:00,  1.14it/s]\n",
      "Validate (12464 / 10 Steps): 100%|██████████| 22/22 [00:27<00:00,  1.25s/it]<00:19,  2.06it/s]\n",
      "Training (12500 / 18000 Steps) (loss=0.48874):  49%|████▊     | 37/76 [00:47<05:42,  8.77s/it]"
     ]
    },
    {
     "name": "stdout",
     "output_type": "stream",
     "text": [
      "Model Was Not Saved ! Current Best Avg. Dice: 0.4194256067276001 Current Avg. Dice: 0.39337193965911865 Current Avg. tumor Dice: 0.36219802498817444 Current Avg. lymph Dice: 0.4505162239074707\n"
     ]
    },
    {
     "name": "stderr",
     "output_type": "stream",
     "text": [
      "Training (12539 / 18000 Steps) (loss=0.59486): 100%|██████████| 76/76 [01:06<00:00,  1.14it/s]\n",
      "Validate (12540 / 10 Steps): 100%|██████████| 22/22 [00:27<00:00,  1.25s/it]<00:07,  2.11it/s]\n",
      "Training (12600 / 18000 Steps) (loss=0.52051):  80%|████████  | 61/76 [00:59<02:11,  8.76s/it]"
     ]
    },
    {
     "name": "stdout",
     "output_type": "stream",
     "text": [
      "Model Was Not Saved ! Current Best Avg. Dice: 0.4194256067276001 Current Avg. Dice: 0.4167576730251312 Current Avg. tumor Dice: 0.38452503085136414 Current Avg. lymph Dice: 0.4679098129272461\n"
     ]
    },
    {
     "name": "stderr",
     "output_type": "stream",
     "text": [
      "Training (12615 / 18000 Steps) (loss=0.61393): 100%|██████████| 76/76 [01:06<00:00,  1.14it/s]\n",
      "Training (12691 / 18000 Steps) (loss=0.46387): 100%|██████████| 76/76 [00:39<00:00,  1.93it/s]\n",
      "Validate (12692 / 10 Steps): 100%|██████████| 22/22 [00:27<00:00,  1.24s/it]00:34,  1.95it/s]\n",
      "Training (12700 / 18000 Steps) (loss=0.31931):  12%|█▏        | 9/76 [00:34<10:11,  9.12s/it]"
     ]
    },
    {
     "name": "stdout",
     "output_type": "stream",
     "text": [
      "Model Was Not Saved ! Current Best Avg. Dice: 0.4194256067276001 Current Avg. Dice: 0.4150351285934448 Current Avg. tumor Dice: 0.37704014778137207 Current Avg. lymph Dice: 0.47900280356407166\n"
     ]
    },
    {
     "name": "stderr",
     "output_type": "stream",
     "text": [
      "Training (12767 / 18000 Steps) (loss=0.39498): 100%|██████████| 76/76 [01:06<00:00,  1.15it/s]\n",
      "Validate (12768 / 10 Steps): 100%|██████████| 22/22 [00:27<00:00,  1.26s/it]<00:20,  2.11it/s]\n",
      "Training (12800 / 18000 Steps) (loss=0.54873):  43%|████▎     | 33/76 [00:45<06:19,  8.82s/it]"
     ]
    },
    {
     "name": "stdout",
     "output_type": "stream",
     "text": [
      "Model Was Not Saved ! Current Best Avg. Dice: 0.4194256067276001 Current Avg. Dice: 0.38916653394699097 Current Avg. tumor Dice: 0.35840651392936707 Current Avg. lymph Dice: 0.44053590297698975\n"
     ]
    },
    {
     "name": "stderr",
     "output_type": "stream",
     "text": [
      "Training (12843 / 18000 Steps) (loss=0.55216): 100%|██████████| 76/76 [01:06<00:00,  1.15it/s]\n",
      "Validate (12844 / 10 Steps): 100%|██████████| 22/22 [00:27<00:00,  1.25s/it]<00:09,  2.06it/s]\n",
      "Training (12900 / 18000 Steps) (loss=0.55499):  75%|███████▌  | 57/76 [00:57<02:46,  8.76s/it]"
     ]
    },
    {
     "name": "stdout",
     "output_type": "stream",
     "text": [
      "Model Was Not Saved ! Current Best Avg. Dice: 0.4194256067276001 Current Avg. Dice: 0.40825894474983215 Current Avg. tumor Dice: 0.37444770336151123 Current Avg. lymph Dice: 0.4774503707885742\n"
     ]
    },
    {
     "name": "stderr",
     "output_type": "stream",
     "text": [
      "Training (12919 / 18000 Steps) (loss=0.57065): 100%|██████████| 76/76 [01:06<00:00,  1.14it/s]\n",
      "Training (12995 / 18000 Steps) (loss=0.44651): 100%|██████████| 76/76 [00:38<00:00,  1.96it/s]\n",
      "Validate (12996 / 10 Steps): 100%|██████████| 22/22 [00:27<00:00,  1.24s/it]00:58,  1.23it/s]\n",
      "Training (13000 / 18000 Steps) (loss=0.50556):   7%|▋         | 5/76 [00:32<12:28, 10.55s/it]"
     ]
    },
    {
     "name": "stdout",
     "output_type": "stream",
     "text": [
      "Model Was Not Saved ! Current Best Avg. Dice: 0.4194256067276001 Current Avg. Dice: 0.4082130193710327 Current Avg. tumor Dice: 0.3532269597053528 Current Avg. lymph Dice: 0.4941630959510803\n"
     ]
    },
    {
     "name": "stderr",
     "output_type": "stream",
     "text": [
      "Training (13071 / 18000 Steps) (loss=0.52756): 100%|██████████| 76/76 [01:06<00:00,  1.15it/s]\n",
      "Validate (13072 / 10 Steps): 100%|██████████| 22/22 [00:27<00:00,  1.25s/it]<00:22,  2.17it/s]\n",
      "Training (13100 / 18000 Steps) (loss=0.42572):  38%|███▊      | 29/76 [00:43<06:49,  8.71s/it]"
     ]
    },
    {
     "name": "stdout",
     "output_type": "stream",
     "text": [
      "Model Was Not Saved ! Current Best Avg. Dice: 0.4194256067276001 Current Avg. Dice: 0.3862271010875702 Current Avg. tumor Dice: 0.3254958689212799 Current Avg. lymph Dice: 0.4891166090965271\n"
     ]
    },
    {
     "name": "stderr",
     "output_type": "stream",
     "text": [
      "Training (13147 / 18000 Steps) (loss=0.44657): 100%|██████████| 76/76 [01:06<00:00,  1.15it/s]\n",
      "Validate (13148 / 10 Steps): 100%|██████████| 22/22 [00:27<00:00,  1.26s/it]<00:11,  2.17it/s]\n",
      "Training (13200 / 18000 Steps) (loss=0.48216):  70%|██████▉   | 53/76 [00:55<03:22,  8.79s/it]"
     ]
    },
    {
     "name": "stdout",
     "output_type": "stream",
     "text": [
      "Model Was Not Saved ! Current Best Avg. Dice: 0.4194256067276001 Current Avg. Dice: 0.3965165317058563 Current Avg. tumor Dice: 0.3740462362766266 Current Avg. lymph Dice: 0.45108917355537415\n"
     ]
    },
    {
     "name": "stderr",
     "output_type": "stream",
     "text": [
      "Training (13223 / 18000 Steps) (loss=0.52372): 100%|██████████| 76/76 [01:06<00:00,  1.14it/s]\n",
      "Training (13299 / 18000 Steps) (loss=0.63199): 100%|██████████| 76/76 [00:38<00:00,  1.97it/s]\n",
      "Validate (13300 / 10 Steps): 100%|██████████| 22/22 [00:27<00:00,  1.27s/it]?, ?it/s]\n",
      "Training (13300 / 18000 Steps) (loss=0.54435):   1%|▏         | 1/76 [00:31<38:51, 31.08s/it]"
     ]
    },
    {
     "name": "stdout",
     "output_type": "stream",
     "text": [
      "Model Was Not Saved ! Current Best Avg. Dice: 0.4194256067276001 Current Avg. Dice: 0.3935548961162567 Current Avg. tumor Dice: 0.3562225103378296 Current Avg. lymph Dice: 0.4710432291030884\n"
     ]
    },
    {
     "name": "stderr",
     "output_type": "stream",
     "text": [
      "Training (13375 / 18000 Steps) (loss=0.54571): 100%|██████████| 76/76 [01:07<00:00,  1.12it/s]\n",
      "Validate (13376 / 10 Steps): 100%|██████████| 22/22 [00:27<00:00,  1.24s/it]<00:24,  2.09it/s]\n",
      "Training (13400 / 18000 Steps) (loss=0.41937):  33%|███▎      | 25/76 [00:41<07:22,  8.68s/it]"
     ]
    },
    {
     "name": "stdout",
     "output_type": "stream",
     "text": [
      "Model Was Not Saved ! Current Best Avg. Dice: 0.4194256067276001 Current Avg. Dice: 0.40506303310394287 Current Avg. tumor Dice: 0.37391602993011475 Current Avg. lymph Dice: 0.47622013092041016\n"
     ]
    },
    {
     "name": "stderr",
     "output_type": "stream",
     "text": [
      "Training (13451 / 18000 Steps) (loss=0.51833): 100%|██████████| 76/76 [01:06<00:00,  1.15it/s]\n",
      "Validate (13452 / 10 Steps): 100%|██████████| 22/22 [00:27<00:00,  1.24s/it]<00:13,  2.13it/s]\n",
      "Training (13500 / 18000 Steps) (loss=0.50105):  64%|██████▍   | 49/76 [00:53<03:54,  8.70s/it]"
     ]
    },
    {
     "name": "stdout",
     "output_type": "stream",
     "text": [
      "Model Was Not Saved ! Current Best Avg. Dice: 0.4194256067276001 Current Avg. Dice: 0.394712895154953 Current Avg. tumor Dice: 0.3428781032562256 Current Avg. lymph Dice: 0.4811343550682068\n"
     ]
    },
    {
     "name": "stderr",
     "output_type": "stream",
     "text": [
      "Training (13527 / 18000 Steps) (loss=0.46210): 100%|██████████| 76/76 [01:06<00:00,  1.15it/s]\n",
      "Validate (13528 / 10 Steps): 100%|██████████| 22/22 [00:27<00:00,  1.24s/it]<00:01,  2.16it/s]\n",
      "Training (13600 / 18000 Steps) (loss=0.44667):  96%|█████████▌| 73/76 [01:04<00:26,  8.68s/it]"
     ]
    },
    {
     "name": "stdout",
     "output_type": "stream",
     "text": [
      "Model Was Not Saved ! Current Best Avg. Dice: 0.4194256067276001 Current Avg. Dice: 0.3947635889053345 Current Avg. tumor Dice: 0.35878270864486694 Current Avg. lymph Dice: 0.4654403328895569\n"
     ]
    },
    {
     "name": "stderr",
     "output_type": "stream",
     "text": [
      "Training (13603 / 18000 Steps) (loss=0.39737): 100%|██████████| 76/76 [01:05<00:00,  1.16it/s]\n",
      "Training (13679 / 18000 Steps) (loss=0.45763): 100%|██████████| 76/76 [00:38<00:00,  1.97it/s]\n",
      "Validate (13680 / 10 Steps): 100%|██████████| 22/22 [00:27<00:00,  1.24s/it]<00:27,  2.06it/s]\n",
      "Training (13700 / 18000 Steps) (loss=0.46220):  28%|██▊       | 21/76 [00:40<08:10,  8.92s/it]"
     ]
    },
    {
     "name": "stdout",
     "output_type": "stream",
     "text": [
      "Model Was Saved ! Current Best Avg. Dice: 0.4230595827102661 Current Avg. Dice: 0.4230595827102661 Current Avg. tumor Dice: 0.38370028138160706 Current Avg. lymph Dice: 0.479977011680603\n"
     ]
    },
    {
     "name": "stderr",
     "output_type": "stream",
     "text": [
      "Training (13755 / 18000 Steps) (loss=0.50210): 100%|██████████| 76/76 [01:07<00:00,  1.13it/s]\n",
      "Validate (13756 / 10 Steps): 100%|██████████| 22/22 [00:26<00:00,  1.22s/it]<00:14,  2.23it/s]\n",
      "Training (13800 / 18000 Steps) (loss=0.50034):  59%|█████▉    | 45/76 [00:50<04:24,  8.52s/it]"
     ]
    },
    {
     "name": "stdout",
     "output_type": "stream",
     "text": [
      "Model Was Not Saved ! Current Best Avg. Dice: 0.4230595827102661 Current Avg. Dice: 0.4089917838573456 Current Avg. tumor Dice: 0.38052648305892944 Current Avg. lymph Dice: 0.4690825045108795\n"
     ]
    },
    {
     "name": "stderr",
     "output_type": "stream",
     "text": [
      "Training (13831 / 18000 Steps) (loss=0.51755): 100%|██████████| 76/76 [01:04<00:00,  1.17it/s]\n",
      "Validate (13832 / 10 Steps): 100%|██████████| 22/22 [00:26<00:00,  1.22s/it]<00:03,  2.22it/s]\n",
      "Training (13900 / 18000 Steps) (loss=0.45226):  91%|█████████ | 69/76 [01:01<00:59,  8.55s/it]"
     ]
    },
    {
     "name": "stdout",
     "output_type": "stream",
     "text": [
      "Model Was Not Saved ! Current Best Avg. Dice: 0.4230595827102661 Current Avg. Dice: 0.3794264495372772 Current Avg. tumor Dice: 0.34382888674736023 Current Avg. lymph Dice: 0.4531875252723694\n"
     ]
    },
    {
     "name": "stderr",
     "output_type": "stream",
     "text": [
      "Training (13907 / 18000 Steps) (loss=0.51186): 100%|██████████| 76/76 [01:05<00:00,  1.17it/s]\n",
      "Training (13983 / 18000 Steps) (loss=0.42811): 100%|██████████| 76/76 [00:38<00:00,  1.98it/s]\n",
      "Validate (13984 / 10 Steps): 100%|██████████| 22/22 [00:27<00:00,  1.23s/it]<00:26,  2.26it/s]\n",
      "Training (14000 / 18000 Steps) (loss=0.55519):  22%|██▏       | 17/76 [00:37<08:27,  8.59s/it]"
     ]
    },
    {
     "name": "stdout",
     "output_type": "stream",
     "text": [
      "Model Was Not Saved ! Current Best Avg. Dice: 0.4230595827102661 Current Avg. Dice: 0.4202475845813751 Current Avg. tumor Dice: 0.38895183801651 Current Avg. lymph Dice: 0.478386253118515\n"
     ]
    },
    {
     "name": "stderr",
     "output_type": "stream",
     "text": [
      "Training (14059 / 18000 Steps) (loss=0.48222): 100%|██████████| 76/76 [01:04<00:00,  1.17it/s]\n",
      "Validate (14060 / 10 Steps): 100%|██████████| 22/22 [00:26<00:00,  1.22s/it]<00:16,  2.18it/s]\n",
      "Training (14100 / 18000 Steps) (loss=0.46408):  54%|█████▍    | 41/76 [00:48<04:58,  8.54s/it]"
     ]
    },
    {
     "name": "stdout",
     "output_type": "stream",
     "text": [
      "Model Was Not Saved ! Current Best Avg. Dice: 0.4230595827102661 Current Avg. Dice: 0.41929319500923157 Current Avg. tumor Dice: 0.3840360641479492 Current Avg. lymph Dice: 0.4749072790145874\n"
     ]
    },
    {
     "name": "stderr",
     "output_type": "stream",
     "text": [
      "Training (14135 / 18000 Steps) (loss=0.54634): 100%|██████████| 76/76 [01:05<00:00,  1.17it/s]\n",
      "Validate (14136 / 10 Steps): 100%|██████████| 22/22 [00:26<00:00,  1.22s/it]<00:05,  2.18it/s]\n",
      "Training (14200 / 18000 Steps) (loss=0.54084):  86%|████████▌ | 65/76 [01:00<01:33,  8.54s/it]"
     ]
    },
    {
     "name": "stdout",
     "output_type": "stream",
     "text": [
      "Model Was Not Saved ! Current Best Avg. Dice: 0.4230595827102661 Current Avg. Dice: 0.3955479562282562 Current Avg. tumor Dice: 0.35224002599716187 Current Avg. lymph Dice: 0.4644278287887573\n"
     ]
    },
    {
     "name": "stderr",
     "output_type": "stream",
     "text": [
      "Training (14211 / 18000 Steps) (loss=0.61240): 100%|██████████| 76/76 [01:05<00:00,  1.16it/s]\n",
      "Training (14287 / 18000 Steps) (loss=0.50589): 100%|██████████| 76/76 [00:38<00:00,  1.97it/s]\n",
      "Validate (14288 / 10 Steps): 100%|██████████| 22/22 [00:26<00:00,  1.22s/it]<00:31,  2.02it/s]\n",
      "Training (14300 / 18000 Steps) (loss=0.56568):  17%|█▋        | 13/76 [00:35<09:03,  8.63s/it]"
     ]
    },
    {
     "name": "stdout",
     "output_type": "stream",
     "text": [
      "Model Was Not Saved ! Current Best Avg. Dice: 0.4230595827102661 Current Avg. Dice: 0.41749289631843567 Current Avg. tumor Dice: 0.3752247989177704 Current Avg. lymph Dice: 0.4895164668560028\n"
     ]
    },
    {
     "name": "stderr",
     "output_type": "stream",
     "text": [
      "Training (14363 / 18000 Steps) (loss=0.40934): 100%|██████████| 76/76 [01:04<00:00,  1.17it/s]\n",
      "Validate (14364 / 10 Steps): 100%|██████████| 22/22 [00:27<00:00,  1.23s/it]<00:18,  2.11it/s]\n",
      "Training (14400 / 18000 Steps) (loss=0.52786):  49%|████▊     | 37/76 [00:47<05:35,  8.60s/it]"
     ]
    },
    {
     "name": "stdout",
     "output_type": "stream",
     "text": [
      "Model Was Not Saved ! Current Best Avg. Dice: 0.4230595827102661 Current Avg. Dice: 0.37281304597854614 Current Avg. tumor Dice: 0.31690406799316406 Current Avg. lymph Dice: 0.48006895184516907\n"
     ]
    },
    {
     "name": "stderr",
     "output_type": "stream",
     "text": [
      "Training (14439 / 18000 Steps) (loss=0.52758): 100%|██████████| 76/76 [01:05<00:00,  1.15it/s]\n",
      "Validate (14440 / 10 Steps): 100%|██████████| 22/22 [00:27<00:00,  1.24s/it]<00:07,  2.06it/s]\n",
      "Training (14500 / 18000 Steps) (loss=0.43142):  80%|████████  | 61/76 [00:59<02:09,  8.64s/it]"
     ]
    },
    {
     "name": "stdout",
     "output_type": "stream",
     "text": [
      "Model Was Not Saved ! Current Best Avg. Dice: 0.4230595827102661 Current Avg. Dice: 0.40874359011650085 Current Avg. tumor Dice: 0.36081463098526 Current Avg. lymph Dice: 0.49426400661468506\n"
     ]
    },
    {
     "name": "stderr",
     "output_type": "stream",
     "text": [
      "Training (14515 / 18000 Steps) (loss=0.43681): 100%|██████████| 76/76 [01:06<00:00,  1.15it/s]\n",
      "Training (14591 / 18000 Steps) (loss=0.57744): 100%|██████████| 76/76 [00:38<00:00,  2.00it/s]\n",
      "Validate (14592 / 10 Steps): 100%|██████████| 22/22 [00:26<00:00,  1.22s/it]00:35,  1.91it/s]\n",
      "Training (14600 / 18000 Steps) (loss=0.46274):  12%|█▏        | 9/76 [00:33<09:59,  8.95s/it]"
     ]
    },
    {
     "name": "stdout",
     "output_type": "stream",
     "text": [
      "Model Was Not Saved ! Current Best Avg. Dice: 0.4230595827102661 Current Avg. Dice: 0.4164210557937622 Current Avg. tumor Dice: 0.3664223253726959 Current Avg. lymph Dice: 0.5014621615409851\n"
     ]
    },
    {
     "name": "stderr",
     "output_type": "stream",
     "text": [
      "Training (14667 / 18000 Steps) (loss=0.53975): 100%|██████████| 76/76 [01:04<00:00,  1.17it/s]\n",
      "Validate (14668 / 10 Steps): 100%|██████████| 22/22 [00:27<00:00,  1.23s/it]<00:19,  2.20it/s]\n",
      "Training (14700 / 18000 Steps) (loss=0.38556):  43%|████▎     | 33/76 [00:45<06:17,  8.78s/it]"
     ]
    },
    {
     "name": "stdout",
     "output_type": "stream",
     "text": [
      "Model Was Saved ! Current Best Avg. Dice: 0.433761328458786 Current Avg. Dice: 0.433761328458786 Current Avg. tumor Dice: 0.3913590908050537 Current Avg. lymph Dice: 0.4983316957950592\n"
     ]
    },
    {
     "name": "stderr",
     "output_type": "stream",
     "text": [
      "Training (14743 / 18000 Steps) (loss=0.63119): 100%|██████████| 76/76 [01:06<00:00,  1.15it/s]\n",
      "Validate (14744 / 10 Steps): 100%|██████████| 22/22 [00:27<00:00,  1.25s/it]<00:09,  2.12it/s]\n",
      "Training (14800 / 18000 Steps) (loss=0.54131):  75%|███████▌  | 57/76 [00:57<02:46,  8.74s/it]"
     ]
    },
    {
     "name": "stdout",
     "output_type": "stream",
     "text": [
      "Model Was Not Saved ! Current Best Avg. Dice: 0.433761328458786 Current Avg. Dice: 0.41038691997528076 Current Avg. tumor Dice: 0.35908812284469604 Current Avg. lymph Dice: 0.4999995231628418\n"
     ]
    },
    {
     "name": "stderr",
     "output_type": "stream",
     "text": [
      "Training (14819 / 18000 Steps) (loss=0.55828): 100%|██████████| 76/76 [01:06<00:00,  1.15it/s]\n",
      "Training (14895 / 18000 Steps) (loss=0.45203): 100%|██████████| 76/76 [00:38<00:00,  1.96it/s]\n",
      "Validate (14896 / 10 Steps): 100%|██████████| 22/22 [00:27<00:00,  1.24s/it]00:57,  1.26it/s]\n",
      "Training (14900 / 18000 Steps) (loss=0.51436):   7%|▋         | 5/76 [00:32<12:29, 10.56s/it]"
     ]
    },
    {
     "name": "stdout",
     "output_type": "stream",
     "text": [
      "Model Was Not Saved ! Current Best Avg. Dice: 0.433761328458786 Current Avg. Dice: 0.3978554606437683 Current Avg. tumor Dice: 0.35369637608528137 Current Avg. lymph Dice: 0.4765464961528778\n"
     ]
    },
    {
     "name": "stderr",
     "output_type": "stream",
     "text": [
      "Training (14971 / 18000 Steps) (loss=0.58174): 100%|██████████| 76/76 [01:06<00:00,  1.15it/s]\n",
      "Validate (14972 / 10 Steps): 100%|██████████| 22/22 [00:27<00:00,  1.24s/it]<00:21,  2.18it/s]\n",
      "Training (15000 / 18000 Steps) (loss=0.44911):  38%|███▊      | 29/76 [00:43<06:46,  8.65s/it]"
     ]
    },
    {
     "name": "stdout",
     "output_type": "stream",
     "text": [
      "Model Was Not Saved ! Current Best Avg. Dice: 0.433761328458786 Current Avg. Dice: 0.40881815552711487 Current Avg. tumor Dice: 0.37777209281921387 Current Avg. lymph Dice: 0.4753074049949646\n"
     ]
    },
    {
     "name": "stderr",
     "output_type": "stream",
     "text": [
      "Training (15047 / 18000 Steps) (loss=0.47705): 100%|██████████| 76/76 [01:05<00:00,  1.16it/s]\n",
      "Validate (15048 / 10 Steps): 100%|██████████| 22/22 [00:27<00:00,  1.24s/it]<00:12,  1.87it/s]\n",
      "Training (15100 / 18000 Steps) (loss=0.38983):  70%|██████▉   | 53/76 [00:55<03:20,  8.72s/it]"
     ]
    },
    {
     "name": "stdout",
     "output_type": "stream",
     "text": [
      "Model Was Not Saved ! Current Best Avg. Dice: 0.433761328458786 Current Avg. Dice: 0.393917441368103 Current Avg. tumor Dice: 0.3444455564022064 Current Avg. lymph Dice: 0.48161718249320984\n"
     ]
    },
    {
     "name": "stderr",
     "output_type": "stream",
     "text": [
      "Training (15123 / 18000 Steps) (loss=0.37979): 100%|██████████| 76/76 [01:06<00:00,  1.15it/s]\n",
      "Training (15199 / 18000 Steps) (loss=0.55830): 100%|██████████| 76/76 [00:38<00:00,  1.99it/s]\n",
      "Validate (15200 / 10 Steps): 100%|██████████| 22/22 [00:27<00:00,  1.25s/it]?, ?it/s]\n",
      "Training (15200 / 18000 Steps) (loss=0.42397):   1%|▏         | 1/76 [00:30<38:04, 30.46s/it]"
     ]
    },
    {
     "name": "stdout",
     "output_type": "stream",
     "text": [
      "Model Was Not Saved ! Current Best Avg. Dice: 0.433761328458786 Current Avg. Dice: 0.4262990951538086 Current Avg. tumor Dice: 0.3835934102535248 Current Avg. lymph Dice: 0.49584776163101196\n"
     ]
    },
    {
     "name": "stderr",
     "output_type": "stream",
     "text": [
      "Training (15275 / 18000 Steps) (loss=0.52734): 100%|██████████| 76/76 [01:06<00:00,  1.15it/s]\n",
      "Validate (15276 / 10 Steps): 100%|██████████| 22/22 [00:27<00:00,  1.25s/it]<00:24,  2.11it/s]\n",
      "Training (15300 / 18000 Steps) (loss=0.46360):  33%|███▎      | 25/76 [00:42<07:27,  8.77s/it]"
     ]
    },
    {
     "name": "stdout",
     "output_type": "stream",
     "text": [
      "Model Was Not Saved ! Current Best Avg. Dice: 0.433761328458786 Current Avg. Dice: 0.3947172164916992 Current Avg. tumor Dice: 0.3555043935775757 Current Avg. lymph Dice: 0.4769051969051361\n"
     ]
    },
    {
     "name": "stderr",
     "output_type": "stream",
     "text": [
      "Training (15351 / 18000 Steps) (loss=0.53916): 100%|██████████| 76/76 [01:06<00:00,  1.15it/s]\n",
      "Validate (15352 / 10 Steps): 100%|██████████| 22/22 [00:27<00:00,  1.24s/it]<00:12,  2.22it/s]\n",
      "Training (15400 / 18000 Steps) (loss=0.44737):  64%|██████▍   | 49/76 [00:52<03:52,  8.63s/it]"
     ]
    },
    {
     "name": "stdout",
     "output_type": "stream",
     "text": [
      "Model Was Not Saved ! Current Best Avg. Dice: 0.433761328458786 Current Avg. Dice: 0.4018474519252777 Current Avg. tumor Dice: 0.3631972670555115 Current Avg. lymph Dice: 0.4721778333187103\n"
     ]
    },
    {
     "name": "stderr",
     "output_type": "stream",
     "text": [
      "Training (15427 / 18000 Steps) (loss=0.55716): 100%|██████████| 76/76 [01:05<00:00,  1.16it/s]\n",
      "Validate (15428 / 10 Steps): 100%|██████████| 22/22 [00:27<00:00,  1.24s/it]<00:01,  2.16it/s]\n",
      "Training (15500 / 18000 Steps) (loss=0.41395):  96%|█████████▌| 73/76 [01:04<00:26,  8.68s/it]"
     ]
    },
    {
     "name": "stdout",
     "output_type": "stream",
     "text": [
      "Model Was Not Saved ! Current Best Avg. Dice: 0.433761328458786 Current Avg. Dice: 0.4134901165962219 Current Avg. tumor Dice: 0.3740810453891754 Current Avg. lymph Dice: 0.48202764987945557\n"
     ]
    },
    {
     "name": "stderr",
     "output_type": "stream",
     "text": [
      "Training (15503 / 18000 Steps) (loss=0.59129): 100%|██████████| 76/76 [01:06<00:00,  1.15it/s]\n",
      "Training (15579 / 18000 Steps) (loss=0.51724): 100%|██████████| 76/76 [00:38<00:00,  1.97it/s]\n",
      "Validate (15580 / 10 Steps): 100%|██████████| 22/22 [00:27<00:00,  1.24s/it]<00:26,  2.10it/s]\n",
      "Training (15600 / 18000 Steps) (loss=0.50248):  28%|██▊       | 21/76 [00:39<07:58,  8.69s/it]"
     ]
    },
    {
     "name": "stdout",
     "output_type": "stream",
     "text": [
      "Model Was Not Saved ! Current Best Avg. Dice: 0.433761328458786 Current Avg. Dice: 0.4328894317150116 Current Avg. tumor Dice: 0.39706143736839294 Current Avg. lymph Dice: 0.4917072057723999\n"
     ]
    },
    {
     "name": "stderr",
     "output_type": "stream",
     "text": [
      "Training (15655 / 18000 Steps) (loss=0.58729): 100%|██████████| 76/76 [01:06<00:00,  1.15it/s]\n",
      "Validate (15656 / 10 Steps): 100%|██████████| 22/22 [00:27<00:00,  1.24s/it]<00:15,  2.09it/s]\n",
      "Training (15700 / 18000 Steps) (loss=0.46891):  59%|█████▉    | 45/76 [00:51<04:29,  8.68s/it]"
     ]
    },
    {
     "name": "stdout",
     "output_type": "stream",
     "text": [
      "Model Was Not Saved ! Current Best Avg. Dice: 0.433761328458786 Current Avg. Dice: 0.406048983335495 Current Avg. tumor Dice: 0.37293022871017456 Current Avg. lymph Dice: 0.47029298543930054\n"
     ]
    },
    {
     "name": "stderr",
     "output_type": "stream",
     "text": [
      "Training (15731 / 18000 Steps) (loss=0.53667): 100%|██████████| 76/76 [01:06<00:00,  1.15it/s]\n",
      "Validate (15732 / 10 Steps): 100%|██████████| 22/22 [00:27<00:00,  1.27s/it]<00:03,  2.15it/s]\n",
      "Training (15800 / 18000 Steps) (loss=0.44063):  91%|█████████ | 69/76 [01:02<01:01,  8.82s/it]"
     ]
    },
    {
     "name": "stdout",
     "output_type": "stream",
     "text": [
      "Model Was Not Saved ! Current Best Avg. Dice: 0.433761328458786 Current Avg. Dice: 0.4216338098049164 Current Avg. tumor Dice: 0.38935333490371704 Current Avg. lymph Dice: 0.4760160446166992\n"
     ]
    },
    {
     "name": "stderr",
     "output_type": "stream",
     "text": [
      "Training (15807 / 18000 Steps) (loss=0.50740): 100%|██████████| 76/76 [01:06<00:00,  1.15it/s]\n",
      "Training (15883 / 18000 Steps) (loss=0.39098): 100%|██████████| 76/76 [00:38<00:00,  1.96it/s]\n",
      "Validate (15884 / 10 Steps): 100%|██████████| 22/22 [00:27<00:00,  1.25s/it]<00:27,  2.16it/s]\n",
      "Training (15900 / 18000 Steps) (loss=0.51907):  22%|██▏       | 17/76 [00:38<08:35,  8.74s/it]"
     ]
    },
    {
     "name": "stdout",
     "output_type": "stream",
     "text": [
      "Model Was Not Saved ! Current Best Avg. Dice: 0.433761328458786 Current Avg. Dice: 0.41311442852020264 Current Avg. tumor Dice: 0.38029444217681885 Current Avg. lymph Dice: 0.4710734188556671\n"
     ]
    },
    {
     "name": "stderr",
     "output_type": "stream",
     "text": [
      "Training (15959 / 18000 Steps) (loss=0.50332): 100%|██████████| 76/76 [01:05<00:00,  1.15it/s]\n",
      "Validate (15960 / 10 Steps): 100%|██████████| 22/22 [00:27<00:00,  1.25s/it]<00:16,  2.13it/s]\n",
      "Training (16000 / 18000 Steps) (loss=0.50155):  54%|█████▍    | 41/76 [00:49<05:05,  8.72s/it]"
     ]
    },
    {
     "name": "stdout",
     "output_type": "stream",
     "text": [
      "Model Was Not Saved ! Current Best Avg. Dice: 0.433761328458786 Current Avg. Dice: 0.4133060574531555 Current Avg. tumor Dice: 0.37516292929649353 Current Avg. lymph Dice: 0.4768148958683014\n"
     ]
    },
    {
     "name": "stderr",
     "output_type": "stream",
     "text": [
      "Training (16035 / 18000 Steps) (loss=0.53005): 100%|██████████| 76/76 [01:06<00:00,  1.15it/s]\n",
      "Validate (16036 / 10 Steps): 100%|██████████| 22/22 [00:27<00:00,  1.24s/it]<00:05,  2.04it/s]\n",
      "Training (16100 / 18000 Steps) (loss=0.55171):  86%|████████▌ | 65/76 [01:01<01:35,  8.68s/it]"
     ]
    },
    {
     "name": "stdout",
     "output_type": "stream",
     "text": [
      "Model Was Not Saved ! Current Best Avg. Dice: 0.433761328458786 Current Avg. Dice: 0.40839341282844543 Current Avg. tumor Dice: 0.3610461950302124 Current Avg. lymph Dice: 0.48996108770370483\n"
     ]
    },
    {
     "name": "stderr",
     "output_type": "stream",
     "text": [
      "Training (16111 / 18000 Steps) (loss=0.43431): 100%|██████████| 76/76 [01:06<00:00,  1.14it/s]\n",
      "Training (16187 / 18000 Steps) (loss=0.58549): 100%|██████████| 76/76 [00:38<00:00,  1.97it/s]\n",
      "Validate (16188 / 10 Steps): 100%|██████████| 22/22 [00:27<00:00,  1.24s/it]<00:33,  1.90it/s]\n",
      "Training (16200 / 18000 Steps) (loss=0.49145):  17%|█▋        | 13/76 [00:36<09:12,  8.77s/it]"
     ]
    },
    {
     "name": "stdout",
     "output_type": "stream",
     "text": [
      "Model Was Not Saved ! Current Best Avg. Dice: 0.433761328458786 Current Avg. Dice: 0.42339393496513367 Current Avg. tumor Dice: 0.38759881258010864 Current Avg. lymph Dice: 0.48474088311195374\n"
     ]
    },
    {
     "name": "stderr",
     "output_type": "stream",
     "text": [
      "Training (16263 / 18000 Steps) (loss=0.59422): 100%|██████████| 76/76 [01:05<00:00,  1.16it/s]\n",
      "Validate (16264 / 10 Steps): 100%|██████████| 22/22 [00:27<00:00,  1.24s/it]<00:18,  2.11it/s]\n",
      "Training (16300 / 18000 Steps) (loss=0.55861):  49%|████▊     | 37/76 [00:47<05:40,  8.73s/it]"
     ]
    },
    {
     "name": "stdout",
     "output_type": "stream",
     "text": [
      "Model Was Not Saved ! Current Best Avg. Dice: 0.433761328458786 Current Avg. Dice: 0.3972846269607544 Current Avg. tumor Dice: 0.349995493888855 Current Avg. lymph Dice: 0.48758867383003235\n"
     ]
    },
    {
     "name": "stderr",
     "output_type": "stream",
     "text": [
      "Training (16339 / 18000 Steps) (loss=0.49870): 100%|██████████| 76/76 [01:06<00:00,  1.15it/s]\n",
      "Validate (16340 / 10 Steps): 100%|██████████| 22/22 [00:27<00:00,  1.23s/it]<00:07,  2.19it/s]\n",
      "Training (16400 / 18000 Steps) (loss=0.65407):  80%|████████  | 61/76 [00:58<02:09,  8.63s/it]"
     ]
    },
    {
     "name": "stdout",
     "output_type": "stream",
     "text": [
      "Model Was Not Saved ! Current Best Avg. Dice: 0.433761328458786 Current Avg. Dice: 0.40531444549560547 Current Avg. tumor Dice: 0.3554970622062683 Current Avg. lymph Dice: 0.48732641339302063\n"
     ]
    },
    {
     "name": "stderr",
     "output_type": "stream",
     "text": [
      "Training (16415 / 18000 Steps) (loss=0.44183): 100%|██████████| 76/76 [01:05<00:00,  1.16it/s]\n",
      "Training (16491 / 18000 Steps) (loss=0.55708): 100%|██████████| 76/76 [00:38<00:00,  1.97it/s]\n",
      "Validate (16492 / 10 Steps): 100%|██████████| 22/22 [00:27<00:00,  1.24s/it]00:35,  1.94it/s]\n",
      "Training (16500 / 18000 Steps) (loss=0.52833):  12%|█▏        | 9/76 [00:33<10:05,  9.04s/it]"
     ]
    },
    {
     "name": "stdout",
     "output_type": "stream",
     "text": [
      "Model Was Not Saved ! Current Best Avg. Dice: 0.433761328458786 Current Avg. Dice: 0.4112384617328644 Current Avg. tumor Dice: 0.36027422547340393 Current Avg. lymph Dice: 0.4964887797832489\n"
     ]
    },
    {
     "name": "stderr",
     "output_type": "stream",
     "text": [
      "Training (16567 / 18000 Steps) (loss=0.39886): 100%|██████████| 76/76 [01:05<00:00,  1.16it/s]\n",
      "Validate (16568 / 10 Steps): 100%|██████████| 22/22 [00:27<00:00,  1.24s/it]<00:21,  2.08it/s]\n",
      "Training (16600 / 18000 Steps) (loss=0.53733):  43%|████▎     | 33/76 [00:45<06:14,  8.71s/it]"
     ]
    },
    {
     "name": "stdout",
     "output_type": "stream",
     "text": [
      "Model Was Not Saved ! Current Best Avg. Dice: 0.433761328458786 Current Avg. Dice: 0.41659390926361084 Current Avg. tumor Dice: 0.3826330304145813 Current Avg. lymph Dice: 0.48704931139945984\n"
     ]
    },
    {
     "name": "stderr",
     "output_type": "stream",
     "text": [
      "Training (16643 / 18000 Steps) (loss=0.47856): 100%|██████████| 76/76 [01:06<00:00,  1.14it/s]\n",
      "Validate (16644 / 10 Steps): 100%|██████████| 22/22 [00:27<00:00,  1.25s/it]<00:09,  2.12it/s]\n",
      "Training (16700 / 18000 Steps) (loss=0.55007):  75%|███████▌  | 57/76 [00:57<02:46,  8.76s/it]"
     ]
    },
    {
     "name": "stdout",
     "output_type": "stream",
     "text": [
      "Model Was Not Saved ! Current Best Avg. Dice: 0.433761328458786 Current Avg. Dice: 0.41285955905914307 Current Avg. tumor Dice: 0.3740123212337494 Current Avg. lymph Dice: 0.4860771894454956\n"
     ]
    },
    {
     "name": "stderr",
     "output_type": "stream",
     "text": [
      "Training (16719 / 18000 Steps) (loss=0.46319): 100%|██████████| 76/76 [01:06<00:00,  1.15it/s]\n",
      "Training (16795 / 18000 Steps) (loss=0.50487): 100%|██████████| 76/76 [00:38<00:00,  1.98it/s]\n",
      "Validate (16796 / 10 Steps): 100%|██████████| 22/22 [00:27<00:00,  1.25s/it]01:00,  1.20it/s]\n",
      "Training (16800 / 18000 Steps) (loss=0.52899):   7%|▋         | 5/76 [00:32<12:33, 10.61s/it]"
     ]
    },
    {
     "name": "stdout",
     "output_type": "stream",
     "text": [
      "Model Was Not Saved ! Current Best Avg. Dice: 0.433761328458786 Current Avg. Dice: 0.39839646220207214 Current Avg. tumor Dice: 0.35178112983703613 Current Avg. lymph Dice: 0.49219560623168945\n"
     ]
    },
    {
     "name": "stderr",
     "output_type": "stream",
     "text": [
      "Training (16871 / 18000 Steps) (loss=0.47282): 100%|██████████| 76/76 [01:06<00:00,  1.15it/s]\n",
      "Validate (16872 / 10 Steps): 100%|██████████| 22/22 [00:27<00:00,  1.25s/it]<00:24,  1.93it/s]\n",
      "Training (16900 / 18000 Steps) (loss=0.51904):  38%|███▊      | 29/76 [00:44<06:53,  8.80s/it]"
     ]
    },
    {
     "name": "stdout",
     "output_type": "stream",
     "text": [
      "Model Was Not Saved ! Current Best Avg. Dice: 0.433761328458786 Current Avg. Dice: 0.3985041677951813 Current Avg. tumor Dice: 0.3407716155052185 Current Avg. lymph Dice: 0.49707305431365967\n"
     ]
    },
    {
     "name": "stderr",
     "output_type": "stream",
     "text": [
      "Training (16947 / 18000 Steps) (loss=0.46060): 100%|██████████| 76/76 [01:06<00:00,  1.15it/s]\n",
      "Validate (16948 / 10 Steps): 100%|██████████| 22/22 [00:27<00:00,  1.24s/it]<00:11,  2.12it/s]\n",
      "Training (17000 / 18000 Steps) (loss=0.48745):  70%|██████▉   | 53/76 [00:55<03:19,  8.68s/it]"
     ]
    },
    {
     "name": "stdout",
     "output_type": "stream",
     "text": [
      "Model Was Not Saved ! Current Best Avg. Dice: 0.433761328458786 Current Avg. Dice: 0.41187000274658203 Current Avg. tumor Dice: 0.3630937933921814 Current Avg. lymph Dice: 0.4974481165409088\n"
     ]
    },
    {
     "name": "stderr",
     "output_type": "stream",
     "text": [
      "Training (17023 / 18000 Steps) (loss=0.44751): 100%|██████████| 76/76 [01:06<00:00,  1.15it/s]\n",
      "Training (17099 / 18000 Steps) (loss=0.54779): 100%|██████████| 76/76 [00:38<00:00,  1.97it/s]\n",
      "Validate (17100 / 10 Steps): 100%|██████████| 22/22 [00:27<00:00,  1.26s/it]?, ?it/s]\n",
      "Training (17100 / 18000 Steps) (loss=0.48292):   1%|▏         | 1/76 [00:30<38:32, 30.83s/it]"
     ]
    },
    {
     "name": "stdout",
     "output_type": "stream",
     "text": [
      "Model Was Not Saved ! Current Best Avg. Dice: 0.433761328458786 Current Avg. Dice: 0.423065185546875 Current Avg. tumor Dice: 0.37959179282188416 Current Avg. lymph Dice: 0.49999433755874634\n"
     ]
    },
    {
     "name": "stderr",
     "output_type": "stream",
     "text": [
      "Training (17175 / 18000 Steps) (loss=0.52284): 100%|██████████| 76/76 [01:06<00:00,  1.15it/s]\n",
      "Validate (17176 / 10 Steps): 100%|██████████| 22/22 [00:27<00:00,  1.25s/it]<00:25,  2.06it/s]\n",
      "Training (17200 / 18000 Steps) (loss=0.49362):  33%|███▎      | 25/76 [00:41<07:25,  8.73s/it]"
     ]
    },
    {
     "name": "stdout",
     "output_type": "stream",
     "text": [
      "Model Was Not Saved ! Current Best Avg. Dice: 0.433761328458786 Current Avg. Dice: 0.42808836698532104 Current Avg. tumor Dice: 0.39495059847831726 Current Avg. lymph Dice: 0.4924217462539673\n"
     ]
    },
    {
     "name": "stderr",
     "output_type": "stream",
     "text": [
      "Training (17251 / 18000 Steps) (loss=0.41298): 100%|██████████| 76/76 [01:06<00:00,  1.15it/s]\n",
      "Validate (17252 / 10 Steps): 100%|██████████| 22/22 [00:27<00:00,  1.25s/it]<00:12,  2.19it/s]\n",
      "Training (17300 / 18000 Steps) (loss=0.47968):  64%|██████▍   | 49/76 [00:53<03:55,  8.71s/it]"
     ]
    },
    {
     "name": "stdout",
     "output_type": "stream",
     "text": [
      "Model Was Not Saved ! Current Best Avg. Dice: 0.433761328458786 Current Avg. Dice: 0.4199853241443634 Current Avg. tumor Dice: 0.3728330135345459 Current Avg. lymph Dice: 0.501096248626709\n"
     ]
    },
    {
     "name": "stderr",
     "output_type": "stream",
     "text": [
      "Training (17327 / 18000 Steps) (loss=0.62550): 100%|██████████| 76/76 [01:05<00:00,  1.15it/s]\n",
      "Validate (17328 / 10 Steps): 100%|██████████| 22/22 [00:27<00:00,  1.24s/it]<00:01,  2.16it/s]\n",
      "Training (17400 / 18000 Steps) (loss=0.52800):  96%|█████████▌| 73/76 [01:04<00:26,  8.69s/it]"
     ]
    },
    {
     "name": "stdout",
     "output_type": "stream",
     "text": [
      "Model Was Not Saved ! Current Best Avg. Dice: 0.433761328458786 Current Avg. Dice: 0.40068694949150085 Current Avg. tumor Dice: 0.3575480878353119 Current Avg. lymph Dice: 0.4814451038837433\n"
     ]
    },
    {
     "name": "stderr",
     "output_type": "stream",
     "text": [
      "Training (17403 / 18000 Steps) (loss=0.56133): 100%|██████████| 76/76 [01:05<00:00,  1.16it/s]\n",
      "Training (17479 / 18000 Steps) (loss=0.60891): 100%|██████████| 76/76 [00:38<00:00,  1.96it/s]\n",
      "Validate (17480 / 10 Steps): 100%|██████████| 22/22 [00:27<00:00,  1.24s/it]<00:25,  2.23it/s]\n",
      "Training (17500 / 18000 Steps) (loss=0.53952):  28%|██▊       | 21/76 [00:39<07:56,  8.67s/it]"
     ]
    },
    {
     "name": "stdout",
     "output_type": "stream",
     "text": [
      "Model Was Not Saved ! Current Best Avg. Dice: 0.433761328458786 Current Avg. Dice: 0.37762296199798584 Current Avg. tumor Dice: 0.3397420346736908 Current Avg. lymph Dice: 0.45170858502388\n"
     ]
    },
    {
     "name": "stderr",
     "output_type": "stream",
     "text": [
      "Training (17555 / 18000 Steps) (loss=0.58826): 100%|██████████| 76/76 [01:06<00:00,  1.15it/s]\n",
      "Validate (17556 / 10 Steps): 100%|██████████| 22/22 [00:27<00:00,  1.24s/it]<00:14,  2.20it/s]\n",
      "Training (17600 / 18000 Steps) (loss=0.51249):  59%|█████▉    | 45/76 [00:51<04:29,  8.68s/it]"
     ]
    },
    {
     "name": "stdout",
     "output_type": "stream",
     "text": [
      "Model Was Not Saved ! Current Best Avg. Dice: 0.433761328458786 Current Avg. Dice: 0.4000082015991211 Current Avg. tumor Dice: 0.36203351616859436 Current Avg. lymph Dice: 0.4673478901386261\n"
     ]
    },
    {
     "name": "stderr",
     "output_type": "stream",
     "text": [
      "Training (17631 / 18000 Steps) (loss=0.45003): 100%|██████████| 76/76 [01:05<00:00,  1.16it/s]\n",
      "Validate (17632 / 10 Steps): 100%|██████████| 22/22 [00:27<00:00,  1.24s/it]<00:03,  2.15it/s]\n",
      "Training (17700 / 18000 Steps) (loss=0.47468):  91%|█████████ | 69/76 [01:02<01:00,  8.67s/it]"
     ]
    },
    {
     "name": "stdout",
     "output_type": "stream",
     "text": [
      "Model Was Not Saved ! Current Best Avg. Dice: 0.433761328458786 Current Avg. Dice: 0.41501858830451965 Current Avg. tumor Dice: 0.3763910233974457 Current Avg. lymph Dice: 0.4856477379798889\n"
     ]
    },
    {
     "name": "stderr",
     "output_type": "stream",
     "text": [
      "Training (17707 / 18000 Steps) (loss=0.62453): 100%|██████████| 76/76 [01:06<00:00,  1.15it/s]\n",
      "Training (17783 / 18000 Steps) (loss=0.50308): 100%|██████████| 76/76 [00:38<00:00,  1.96it/s]\n",
      "Validate (17784 / 10 Steps): 100%|██████████| 22/22 [00:27<00:00,  1.25s/it]<00:27,  2.22it/s]\n",
      "Training (17800 / 18000 Steps) (loss=0.50579):  22%|██▏       | 17/76 [00:38<08:35,  8.74s/it]"
     ]
    },
    {
     "name": "stdout",
     "output_type": "stream",
     "text": [
      "Model Was Not Saved ! Current Best Avg. Dice: 0.433761328458786 Current Avg. Dice: 0.4060511291027069 Current Avg. tumor Dice: 0.39123672246932983 Current Avg. lymph Dice: 0.44218239188194275\n"
     ]
    },
    {
     "name": "stderr",
     "output_type": "stream",
     "text": [
      "Training (17859 / 18000 Steps) (loss=0.59899): 100%|██████████| 76/76 [01:05<00:00,  1.15it/s]\n",
      "Validate (17860 / 10 Steps): 100%|██████████| 22/22 [00:27<00:00,  1.25s/it]<00:17,  2.08it/s]\n",
      "Training (17900 / 18000 Steps) (loss=0.49428):  54%|█████▍    | 41/76 [00:49<05:06,  8.76s/it]"
     ]
    },
    {
     "name": "stdout",
     "output_type": "stream",
     "text": [
      "Model Was Not Saved ! Current Best Avg. Dice: 0.433761328458786 Current Avg. Dice: 0.403152734041214 Current Avg. tumor Dice: 0.36618274450302124 Current Avg. lymph Dice: 0.47115835547447205\n"
     ]
    },
    {
     "name": "stderr",
     "output_type": "stream",
     "text": [
      "Training (17935 / 18000 Steps) (loss=0.50399): 100%|██████████| 76/76 [01:06<00:00,  1.14it/s]\n",
      "Validate (17936 / 10 Steps): 100%|██████████| 22/22 [00:27<00:00,  1.24s/it]<00:05,  2.13it/s]\n",
      "Training (18000 / 18000 Steps) (loss=0.42189):  86%|████████▌ | 65/76 [01:00<01:35,  8.67s/it]"
     ]
    },
    {
     "name": "stdout",
     "output_type": "stream",
     "text": [
      "Model Was Not Saved ! Current Best Avg. Dice: 0.433761328458786 Current Avg. Dice: 0.4110693037509918 Current Avg. tumor Dice: 0.37019583582878113 Current Avg. lymph Dice: 0.4818894565105438\n"
     ]
    },
    {
     "name": "stderr",
     "output_type": "stream",
     "text": [
      "Training (18011 / 18000 Steps) (loss=0.46529): 100%|██████████| 76/76 [01:06<00:00,  1.15it/s]\n"
     ]
    }
   ],
   "source": [
    "epoch = 0 # used for LR scheduler\n",
    "max_num_epochs = 530 # used for LR scheduler\n",
    "\n",
    "\n",
    "while global_step < max_iterations:\n",
    "    global_step, dice_val_best, global_step_best = train(\n",
    "        global_step, train_loader, dice_val_best, global_step_best\n",
    "    )\n",
    "    epoch += 1\n",
    "    #optimizer.param_groups[0]['lr'] = poly_lr(epoch, max_num_epochs, 0.005676 , 0.9)\n",
    "# model.load_state_dict(torch.load(os.path.join(model_dir, \"best_metric_luck_UNETr_prompt.pth\")))"
   ]
  }
 ],
 "metadata": {
  "kernelspec": {
   "display_name": "clam",
   "language": "python",
   "name": "python3"
  },
  "language_info": {
   "codemirror_mode": {
    "name": "ipython",
    "version": 3
   },
   "file_extension": ".py",
   "mimetype": "text/x-python",
   "name": "python",
   "nbconvert_exporter": "python",
   "pygments_lexer": "ipython3",
   "version": "3.8.0"
  }
 },
 "nbformat": 4,
 "nbformat_minor": 2
}
