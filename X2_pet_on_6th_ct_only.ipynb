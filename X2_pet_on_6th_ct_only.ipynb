{
 "cells": [
  {
   "cell_type": "code",
   "execution_count": 8,
   "metadata": {},
   "outputs": [
    {
     "name": "stdout",
     "output_type": "stream",
     "text": [
      "1\n"
     ]
    }
   ],
   "source": [
    "import torch\n",
    "import torch.nn as nn\n",
    "from torch.utils.data import DataLoader\n",
    "from collections.abc import Sequence\n",
    "\n",
    "from unetr import CustomedUNETR\n",
    "\n",
    "import json\n",
    "from tqdm.autonotebook import tqdm\n",
    "import os\n",
    "os.environ[\"CUDA_DEVICE_ORDER\"] = \"PCI_BUS_ID\"\n",
    "os.environ[\"CUDA_VISIBLE_DEVICES\"] = \"2\" \n",
    "\n",
    "print(torch.cuda.device_count())\n",
    "torch.backends.cudnn.benchmark = True\n",
    "device = torch.device(\"cuda\" if torch.cuda.is_available() else \"cpu\")"
   ]
  },
  {
   "cell_type": "code",
   "execution_count": 9,
   "metadata": {},
   "outputs": [],
   "source": [
    "from monai.transforms import EnsureTyped\n",
    "from monai.transforms import Compose, LoadImaged, ScaleIntensityRanged, ConcatItemsd\n",
    "from monai.metrics import DiceMetric\n",
    "from monai.losses import DiceCELoss, DiceFocalLoss, FocalLoss\n",
    "from monai.inferers import sliding_window_inference\n",
    "\n",
    "\n",
    "from monai.data import (\n",
    "    Dataset,\n",
    "    DataLoader,\n",
    "    CacheDataset,\n",
    "    load_decathlon_datalist,\n",
    "    decollate_batch,\n",
    ")\n",
    "\n",
    "\n",
    "from monai.transforms import (\n",
    "    AsDiscrete,\n",
    "    Compose,\n",
    "    CropForegroundd,\n",
    "    LoadImaged,\n",
    "    Orientationd,\n",
    "    RandFlipd,\n",
    "    RandCropByPosNegLabeld,\n",
    "    RandShiftIntensityd,\n",
    "    ScaleIntensityRanged,\n",
    "    Spacingd,\n",
    "    RandRotate90d,\n",
    "    MapTransform,\n",
    "    ScaleIntensityd,\n",
    "    #AddChanneld,\n",
    "    SpatialPadd,\n",
    "    CenterSpatialCropd,\n",
    "    EnsureChannelFirstd,\n",
    "    ConcatItemsd,\n",
    "    AdjustContrastd, \n",
    "    Rand3DElasticd,\n",
    "    HistogramNormalized,\n",
    "    NormalizeIntensityd,\n",
    "    Invertd,\n",
    "    SaveImage,\n",
    "\n",
    ")\n",
    "import monai"
   ]
  },
  {
   "cell_type": "code",
   "execution_count": 12,
   "metadata": {},
   "outputs": [],
   "source": [
    "data_dir = '/home/nada.saadi/MIS-FM/hecktor2022_cropped'\n",
    "json_dir = \"/home/nada.saadi/CTPET/hecktor2022_cropped/HGJ_CT_train_new.json\""
   ]
  },
  {
   "cell_type": "code",
   "execution_count": 17,
   "metadata": {},
   "outputs": [
    {
     "name": "stdout",
     "output_type": "stream",
     "text": [
      "44 10\n"
     ]
    }
   ],
   "source": [
    "def datafold_read(datalist, basedir, fold=0, key=\"training\"):\n",
    "    with open(datalist) as f:\n",
    "        json_data = json.load(f)\n",
    "\n",
    "    json_data = json_data[key]\n",
    "\n",
    "    for d in json_data:\n",
    "        for k in d:\n",
    "            if isinstance(d[k], list):\n",
    "                d[k] = [os.path.join(basedir, iv) for iv in d[k]]\n",
    "            elif isinstance(d[k], str):\n",
    "                d[k] = os.path.join(basedir, d[k]) if len(d[k]) > 0 else d[k]\n",
    "\n",
    "    tr = []\n",
    "    val = []\n",
    "    for d in json_data:\n",
    "        if \"fold\" in d and d[\"fold\"] == fold:\n",
    "            val.append(d)\n",
    "        else:\n",
    "            tr.append(d)\n",
    "\n",
    "    return tr, val\n",
    "\n",
    "\n",
    "train_data, valid_data = datafold_read(datalist=json_dir, basedir=data_dir, fold=4)\n",
    "print(len(train_data), len(valid_data))"
   ]
  },
  {
   "cell_type": "code",
   "execution_count": 5,
   "metadata": {},
   "outputs": [],
   "source": [
    "class ClipCT(MapTransform):\n",
    "    \"\"\"\n",
    "    Convert labels to multi channels based on hecktor classes:\n",
    "    label 1 is the tumor\n",
    "    label 2 is the lymph node\n",
    "\n",
    "    \"\"\"\n",
    "\n",
    "    def __call__(self, data):\n",
    "        d = dict(data)\n",
    "        for key in self.keys:\n",
    "            if key == \"ct\":\n",
    "                d[key] = torch.clip(d[key], min=-200, max=200)\n",
    "            # elif key == \"pt\":\n",
    "            #     d[key] = torch.clip(d[key], d[key].min(), 5)\n",
    "        return d\n",
    "\n",
    "class MulPTFM(MapTransform):\n",
    "    \"\"\"\n",
    "    Mult PT and FM \n",
    "\n",
    "    \"\"\"\n",
    "\n",
    "    def __call__(self, data):\n",
    "        d = dict(data)\n",
    "\n",
    "        fm = d[\"ct\"] > 0\n",
    "        d[\"pt\"] = d[\"pt\"] * fm\n",
    "        return d\n",
    "\n",
    "class SelectClass(MapTransform):\n",
    "    \"\"\"\n",
    "    Select the class for which you want to fine tune the model \n",
    "\n",
    "    \"\"\"\n",
    "    # def __init__(self, keys, cls=1):\n",
    "    #     super(self).__init__(keys)\n",
    "    #     self.cls = cls\n",
    "\n",
    "    def __call__(self, data):\n",
    "        d = dict(data)\n",
    "        d[\"seg\"][d[\"seg\"] == 1] = 0\n",
    "        # d[\"seg\"][d[\"seg\"] == 2] = 1\n",
    "        \n",
    "        return d"
   ]
  },
  {
   "cell_type": "code",
   "execution_count": 6,
   "metadata": {},
   "outputs": [],
   "source": [
    "num_samples = 4\n",
    "\n",
    "train_transforms = Compose(\n",
    "    [\n",
    "        LoadImaged(keys=[\"pt\", \"seg\"], ensure_channel_first = True),\n",
    "        SpatialPadd(keys=[\"pt\",  \"seg\"], spatial_size=(200, 200, 310), method='end'),\n",
    "        Orientationd(keys=[\"pt\",  \"seg\"], axcodes=\"PLS\"),\n",
    "        #NormalizeIntensityd(keys=[\"pt\"]),\n",
    "        ClipCT(keys=[\"pt\"]),\n",
    "        ScaleIntensityd(keys=[\"pt\"], minv=0, maxv=1),\n",
    "        #MulPTFM(keys=[\"ct\",\"pt\"]),\n",
    "        #ConcatItemsd(keys=[\"pt\", \"ct\"], name=\"ctpt\"),\n",
    "        #NormalizeIntensityd(keys=[\"ctpt\"], channel_wise=True),\n",
    "        RandCropByPosNegLabeld(\n",
    "            keys=[\"pt\", \"seg\"],\n",
    "            label_key=\"seg\",\n",
    "            spatial_size=(96, 96, 96),\n",
    "            pos=1,\n",
    "            neg=1,\n",
    "            num_samples=num_samples,\n",
    "            image_key=\"pt\",\n",
    "            image_threshold=0,\n",
    "        ),\n",
    "        RandFlipd(\n",
    "            keys=[\"pt\", \"seg\"],\n",
    "            spatial_axis=[0],\n",
    "            prob=0.20,\n",
    "        ),\n",
    "        RandFlipd(\n",
    "            keys=[\"pt\", \"seg\"],\n",
    "            spatial_axis=[1],\n",
    "            prob=0.20,\n",
    "        ),\n",
    "        RandFlipd(\n",
    "            keys=[\"pt\", \"seg\"],\n",
    "            spatial_axis=[2],\n",
    "            prob=0.20,\n",
    "        ),\n",
    "        RandRotate90d(\n",
    "            keys=[\"pt\", \"seg\"],\n",
    "            prob=0.20,\n",
    "            max_k=3,\n",
    "        ),\n",
    "    ]\n",
    ")\n",
    "val_transforms = Compose(\n",
    "    [\n",
    "        LoadImaged(keys=[\"pt\", \"seg\"], ensure_channel_first = True),\n",
    "        SpatialPadd(keys=[\"pt\", \"seg\"], spatial_size=(200, 200, 310), method='end'),\n",
    "        Orientationd(keys=[\"pt\",  \"seg\"], axcodes=\"PLS\"),\n",
    "        #NormalizeIntensityd(keys=[\"pt\"]),\n",
    "        ClipCT(keys=[\"pt\"]),\n",
    "        ScaleIntensityd(keys=[\"pt\"], minv=0, maxv=1),\n",
    "        #MulPTFM(keys=[\"ct\",\"pt\"]),\n",
    "        #ConcatItemsd(keys=[\"pt\", \"ct\"], name=\"ctpt\"),\n",
    "    ]\n",
    ")"
   ]
  },
  {
   "cell_type": "code",
   "execution_count": 7,
   "metadata": {},
   "outputs": [],
   "source": [
    "train_ds = monai.data.Dataset(data=train_data, transform=train_transforms)\n",
    "\n",
    "train_loader = DataLoader(\n",
    "    train_ds,\n",
    "    batch_size=2,\n",
    "    shuffle=True,\n",
    "    num_workers=8,\n",
    "    pin_memory=torch.cuda.is_available(),\n",
    "    )\n",
    "\n",
    "val_ds = monai.data.Dataset(data=valid_data, transform=val_transforms)\n",
    "\n",
    "val_loader = DataLoader(\n",
    "    val_ds, \n",
    "    batch_size=2, \n",
    "    num_workers=8, \n",
    "    shuffle= False)"
   ]
  },
  {
   "cell_type": "code",
   "execution_count": 8,
   "metadata": {},
   "outputs": [
    {
     "name": "stdout",
     "output_type": "stream",
     "text": [
      "Nada's version of UNETR\n",
      "(96, 96, 96)\n",
      "(16, 16, 16)\n",
      "(6, 6, 6)\n",
      "768\n",
      "zaz w dakchi ya s lbnat\n"
     ]
    },
    {
     "name": "stderr",
     "output_type": "stream",
     "text": [
      "/home/nada.saadi/miniconda3/envs/clam/lib/python3.8/site-packages/monai/utils/deprecate_utils.py:221: FutureWarning: unetr CustomedUNETR.__init__:pos_embed: Argument `pos_embed` has been deprecated since version 1.2. It will be removed in version 1.4. please use `proj_type` instead.\n",
      "  warn_deprecated(argname, msg, warning_category)\n"
     ]
    }
   ],
   "source": [
    "model = CustomedUNETR(\n",
    "    in_channels=1,  # Number of input channels\n",
    "    out_channels=3,  # Number of output channels\n",
    "    img_size=(96, 96, 96),  # Size of the input image\n",
    "    feature_size=48,  # Size of the feature maps\n",
    "    hidden_size=768,\n",
    "    num_heads=12,  # Size of the hidden layers in the transformer\n",
    "    mlp_dim=3072,  # Dimension of the MLP in the transformer\n",
    "    pos_embed=\"perceptron\",  # Type of positional embedding\n",
    "    norm_name=\"instance\",  # Type of normalization\n",
    "    res_block=True,  # Whether to use residual blocks\n",
    "    dropout_rate=0.0,\n",
    "    proj_type=\"conv\",\n",
    "    r=4,\n",
    "    lora_layer=True,\n",
    "    use_ct_encoder=True,\n",
    "    use_pet_encoder=False,\n",
    ").to(device)\n",
    "pt_weights_ct_only_6th='/home/nada.saadi/CTPET/hecktor2022_cropped/6th_CT_ourapproach/6th_center_CT_our_approach.pth'\n",
    "state_dict = torch.load(pt_weights_ct_only_6th)\n",
    "\n",
    "for name, param in model.named_parameters():\n",
    "    if \"decoder5\" in name or \"decoder4\" in name or \"decoder3\" in name or \"decoder2\" in name:\n",
    "        param.requires_grad = False"
   ]
  },
  {
   "cell_type": "code",
   "execution_count": 9,
   "metadata": {},
   "outputs": [],
   "source": [
    "def poly_lr(epoch, max_epochs, initial_lr, exponent=0.9):\n",
    "    return initial_lr * (1 - epoch / max_epochs)**exponent\n",
    "\n",
    "model_dir='/home/nada.saadi/CTPET/hecktor2022_cropped/X2'\n",
    "max_iterations = 18000\n",
    "eval_num = 100\n",
    "\n",
    "## running stats\n",
    "global_step = 0\n",
    "dice_val_best = 0.0\n",
    "global_step_best = 0\n",
    "epoch_loss_values = []\n",
    "metric_values = []\n",
    "metric_values_tumor = []\n",
    "metric_values_lymph = []\n",
    "\n",
    "\n",
    "loss_function = DiceCELoss(to_onehot_y=True, softmax=True)\n",
    "optimizer = torch.optim.AdamW(model.parameters(), lr=1e-4, weight_decay=1e-5)\n",
    "\n",
    "\n",
    "post_label = AsDiscrete(to_onehot=3)\n",
    "post_pred = AsDiscrete(argmax=True, to_onehot=3)\n",
    "\n",
    "dice_metric = DiceMetric(include_background=False, reduction=\"mean\", get_not_nans=False)\n",
    "dice_metric_batch = DiceMetric(include_background=False, reduction=\"mean_batch\")\n",
    "\n",
    "\n",
    "##-----------------------------------------------------------------------------\n",
    "\n",
    "def validation(epoch_iterator_val):\n",
    "        model.eval()\n",
    "        with torch.no_grad():\n",
    "            for step, batch in enumerate(epoch_iterator_val):\n",
    "                val_inputs, val_labels = (batch[\"pt\"].cuda(), batch[\"seg\"].cuda())\n",
    "                val_outputs = sliding_window_inference(val_inputs, (96, 96, 96), 4, model)\n",
    "                val_labels_list = decollate_batch(val_labels)\n",
    "                val_labels_convert = [\n",
    "                    post_label(val_label_tensor) for val_label_tensor in val_labels_list\n",
    "                ]\n",
    "                val_outputs_list = decollate_batch(val_outputs)\n",
    "                val_output_convert = [\n",
    "                    post_pred(val_pred_tensor) for val_pred_tensor in val_outputs_list\n",
    "                ]\n",
    "                dice_metric(y_pred=val_output_convert, y=val_labels_convert)\n",
    "                dice_metric_batch(y_pred=val_output_convert, y=val_labels_convert)\n",
    "                epoch_iterator_val.set_description(\n",
    "                    \"Validate (%d / %d Steps)\" % (global_step, 10.0)\n",
    "                )\n",
    "            mean_dice_val = dice_metric.aggregate().item()\n",
    "            metric_batch_val = dice_metric_batch.aggregate()\n",
    "\n",
    "            metric_tumor = metric_batch_val[0].item()\n",
    "            metric_lymph = metric_batch_val[1].item()\n",
    "\n",
    "            dice_metric.reset()\n",
    "            dice_metric_batch.reset()\n",
    "        return mean_dice_val, metric_tumor, metric_lymph\n",
    "\n",
    "\n",
    "\n",
    "def train(global_step, train_loader, dice_val_best, global_step_best):\n",
    "        model.train()\n",
    "        epoch_loss = 0 \n",
    "        step = 0\n",
    "        epoch_iterator = tqdm(\n",
    "            train_loader, desc=\"Training (X / X Steps) (loss=X.X)\", dynamic_ncols=True\n",
    "        )\n",
    "        \n",
    "        for step, batch in enumerate(epoch_iterator):\n",
    "            step += 1\n",
    "            x, y = (batch[\"pt\"].cuda(), batch[\"seg\"].cuda())\n",
    "            logit_map = model(x,mode=None)\n",
    "            loss = loss_function(logit_map, y)\n",
    "            loss.backward()\n",
    "            epoch_loss += loss.item() \n",
    "            optimizer.step()\n",
    "            optimizer.zero_grad()\n",
    "            epoch_iterator.set_description(\n",
    "                \"Training (%d / %d Steps) (loss=%2.5f)\"\n",
    "                % (global_step, max_iterations, loss)\n",
    "            )\n",
    "            \n",
    "            if (\n",
    "                global_step % eval_num == 0 and global_step != 0\n",
    "            ) or global_step == max_iterations:\n",
    "                epoch_iterator_val = tqdm(\n",
    "                    val_loader, desc=\"Validate (X / X Steps) (dice=X.X)\", dynamic_ncols=True\n",
    "                )\n",
    "                dice_val, metric_tumor, metric_lymph = validation(epoch_iterator_val)\n",
    "                epoch_loss /= step\n",
    "                epoch_loss_values.append(epoch_loss)\n",
    "                metric_values.append(dice_val)\n",
    "                metric_values_tumor.append(metric_tumor)\n",
    "                metric_values_lymph.append(metric_lymph)\n",
    "                if dice_val > dice_val_best:\n",
    "                    dice_val_best = dice_val\n",
    "                    global_step_best = global_step\n",
    "                    torch.save(\n",
    "                        model.state_dict(), os.path.join(model_dir, \"X2_pet.pth\")\n",
    "                    )\n",
    "                    print(\n",
    "                        \"Model Was Saved ! Current Best Avg. Dice: {} Current Avg. Dice: {} Current Avg. tumor Dice: {} Current Avg. lymph Dice: {}\".format(\n",
    "                            dice_val_best, dice_val, metric_tumor, metric_lymph\n",
    "                        )\n",
    "                    )\n",
    "                else:\n",
    "                    print(\n",
    "                        \"Model Was Not Saved ! Current Best Avg. Dice: {} Current Avg. Dice: {} Current Avg. tumor Dice: {} Current Avg. lymph Dice: {}\".format(\n",
    "                            dice_val_best, dice_val,  metric_tumor, metric_lymph\n",
    "                        )\n",
    "                    )\n",
    "            global_step += 1\n",
    "        return global_step, dice_val_best, global_step_best"
   ]
  },
  {
   "cell_type": "code",
   "execution_count": 10,
   "metadata": {},
   "outputs": [
    {
     "name": "stderr",
     "output_type": "stream",
     "text": [
      "Training (19 / 18000 Steps) (loss=1.46545): 100%|██████████| 20/20 [01:11<00:00,  3.60s/it]\n",
      "Training (39 / 18000 Steps) (loss=1.34665): 100%|██████████| 20/20 [00:34<00:00,  1.74s/it]\n",
      "Training (59 / 18000 Steps) (loss=1.26743): 100%|██████████| 20/20 [00:34<00:00,  1.73s/it]\n",
      "Training (79 / 18000 Steps) (loss=1.20780): 100%|██████████| 20/20 [00:34<00:00,  1.72s/it]\n",
      "Training (99 / 18000 Steps) (loss=1.16358): 100%|██████████| 20/20 [00:34<00:00,  1.73s/it]\n",
      "Validate (100 / 10 Steps): 100%|██████████| 8/8 [00:27<00:00,  3.40s/it]4<?, ?it/s]\n",
      "Training (100 / 18000 Steps) (loss=1.14629):   5%|▌         | 1/20 [00:33<10:32, 33.31s/it]"
     ]
    },
    {
     "name": "stdout",
     "output_type": "stream",
     "text": [
      "Model Was Saved ! Current Best Avg. Dice: 1.3949919775768649e-05 Current Avg. Dice: 1.3949919775768649e-05 Current Avg. tumor Dice: 0.0 Current Avg. lymph Dice: 3.219212158001028e-05\n"
     ]
    },
    {
     "name": "stderr",
     "output_type": "stream",
     "text": [
      "Training (119 / 18000 Steps) (loss=1.15582): 100%|██████████| 20/20 [01:02<00:00,  3.13s/it]\n",
      "Training (139 / 18000 Steps) (loss=1.08477): 100%|██████████| 20/20 [00:34<00:00,  1.73s/it]\n",
      "Training (159 / 18000 Steps) (loss=1.08104): 100%|██████████| 20/20 [00:34<00:00,  1.73s/it]\n",
      "Training (179 / 18000 Steps) (loss=1.03485): 100%|██████████| 20/20 [00:34<00:00,  1.70s/it]\n",
      "Training (199 / 18000 Steps) (loss=0.97511): 100%|██████████| 20/20 [00:34<00:00,  1.73s/it]\n",
      "Validate (200 / 10 Steps): 100%|██████████| 8/8 [00:27<00:00,  3.40s/it]4<?, ?it/s]\n",
      "Training (200 / 18000 Steps) (loss=0.99246):   5%|▌         | 1/20 [00:31<10:03, 31.78s/it]"
     ]
    },
    {
     "name": "stdout",
     "output_type": "stream",
     "text": [
      "Model Was Not Saved ! Current Best Avg. Dice: 1.3949919775768649e-05 Current Avg. Dice: 0.0 Current Avg. tumor Dice: 0.0 Current Avg. lymph Dice: 0.0\n"
     ]
    },
    {
     "name": "stderr",
     "output_type": "stream",
     "text": [
      "Training (219 / 18000 Steps) (loss=0.96018): 100%|██████████| 20/20 [01:01<00:00,  3.07s/it]\n",
      "Training (239 / 18000 Steps) (loss=1.01977): 100%|██████████| 20/20 [00:34<00:00,  1.73s/it]\n",
      "Training (259 / 18000 Steps) (loss=0.98089): 100%|██████████| 20/20 [00:33<00:00,  1.70s/it]\n",
      "Training (279 / 18000 Steps) (loss=0.96994): 100%|██████████| 20/20 [00:33<00:00,  1.67s/it]\n",
      "Training (299 / 18000 Steps) (loss=0.96421): 100%|██████████| 20/20 [00:33<00:00,  1.69s/it]\n",
      "Validate (300 / 10 Steps): 100%|██████████| 8/8 [00:26<00:00,  3.37s/it]4<?, ?it/s]\n",
      "Training (300 / 18000 Steps) (loss=0.99215):   5%|▌         | 1/20 [00:31<10:02, 31.71s/it]"
     ]
    },
    {
     "name": "stdout",
     "output_type": "stream",
     "text": [
      "Model Was Not Saved ! Current Best Avg. Dice: 1.3949919775768649e-05 Current Avg. Dice: 0.0 Current Avg. tumor Dice: 0.0 Current Avg. lymph Dice: 0.0\n"
     ]
    },
    {
     "name": "stderr",
     "output_type": "stream",
     "text": [
      "Training (319 / 18000 Steps) (loss=0.93485): 100%|██████████| 20/20 [01:00<00:00,  3.04s/it]\n",
      "Training (339 / 18000 Steps) (loss=0.89777): 100%|██████████| 20/20 [00:34<00:00,  1.71s/it]\n",
      "Training (359 / 18000 Steps) (loss=0.89546): 100%|██████████| 20/20 [00:34<00:00,  1.70s/it]\n",
      "Training (379 / 18000 Steps) (loss=0.86714): 100%|██████████| 20/20 [00:34<00:00,  1.71s/it]\n",
      "Training (399 / 18000 Steps) (loss=0.95145): 100%|██████████| 20/20 [00:33<00:00,  1.69s/it]\n",
      "Validate (400 / 10 Steps): 100%|██████████| 8/8 [00:27<00:00,  3.38s/it]4<?, ?it/s]\n",
      "Training (400 / 18000 Steps) (loss=0.89154):   5%|▌         | 1/20 [00:31<09:58, 31.50s/it]"
     ]
    },
    {
     "name": "stdout",
     "output_type": "stream",
     "text": [
      "Model Was Not Saved ! Current Best Avg. Dice: 1.3949919775768649e-05 Current Avg. Dice: 0.0 Current Avg. tumor Dice: 0.0 Current Avg. lymph Dice: 0.0\n"
     ]
    },
    {
     "name": "stderr",
     "output_type": "stream",
     "text": [
      "Training (419 / 18000 Steps) (loss=0.90485): 100%|██████████| 20/20 [01:00<00:00,  3.03s/it]\n",
      "Training (439 / 18000 Steps) (loss=0.83438): 100%|██████████| 20/20 [00:33<00:00,  1.69s/it]\n",
      "Training (459 / 18000 Steps) (loss=0.82920): 100%|██████████| 20/20 [00:33<00:00,  1.68s/it]\n",
      "Training (479 / 18000 Steps) (loss=0.83366): 100%|██████████| 20/20 [00:33<00:00,  1.69s/it]\n",
      "Training (499 / 18000 Steps) (loss=0.81847): 100%|██████████| 20/20 [00:33<00:00,  1.69s/it]\n",
      "Validate (500 / 10 Steps): 100%|██████████| 8/8 [00:27<00:00,  3.41s/it]4<?, ?it/s]\n",
      "Training (500 / 18000 Steps) (loss=0.84072):   5%|▌         | 1/20 [00:31<10:03, 31.75s/it]"
     ]
    },
    {
     "name": "stdout",
     "output_type": "stream",
     "text": [
      "Model Was Not Saved ! Current Best Avg. Dice: 1.3949919775768649e-05 Current Avg. Dice: 0.0 Current Avg. tumor Dice: 0.0 Current Avg. lymph Dice: 0.0\n"
     ]
    },
    {
     "name": "stderr",
     "output_type": "stream",
     "text": [
      "Training (519 / 18000 Steps) (loss=0.86558): 100%|██████████| 20/20 [01:01<00:00,  3.06s/it]\n",
      "Training (539 / 18000 Steps) (loss=0.80534): 100%|██████████| 20/20 [00:34<00:00,  1.71s/it]\n",
      "Training (559 / 18000 Steps) (loss=0.80180): 100%|██████████| 20/20 [00:34<00:00,  1.74s/it]\n",
      "Training (579 / 18000 Steps) (loss=0.85931): 100%|██████████| 20/20 [00:34<00:00,  1.73s/it]\n",
      "Training (599 / 18000 Steps) (loss=0.81117): 100%|██████████| 20/20 [00:34<00:00,  1.72s/it]\n",
      "Validate (600 / 10 Steps): 100%|██████████| 8/8 [00:27<00:00,  3.39s/it]4<?, ?it/s]\n",
      "Training (600 / 18000 Steps) (loss=0.79927):   5%|▌         | 1/20 [00:32<10:08, 32.05s/it]"
     ]
    },
    {
     "name": "stdout",
     "output_type": "stream",
     "text": [
      "Model Was Not Saved ! Current Best Avg. Dice: 1.3949919775768649e-05 Current Avg. Dice: 0.0 Current Avg. tumor Dice: 0.0 Current Avg. lymph Dice: 0.0\n"
     ]
    },
    {
     "name": "stderr",
     "output_type": "stream",
     "text": [
      "Training (619 / 18000 Steps) (loss=0.78909): 100%|██████████| 20/20 [01:00<00:00,  3.05s/it]\n",
      "Training (639 / 18000 Steps) (loss=0.77387): 100%|██████████| 20/20 [00:34<00:00,  1.72s/it]\n",
      "Training (659 / 18000 Steps) (loss=0.78038): 100%|██████████| 20/20 [00:34<00:00,  1.71s/it]\n",
      "Training (679 / 18000 Steps) (loss=0.78729): 100%|██████████| 20/20 [00:34<00:00,  1.71s/it]\n",
      "Training (699 / 18000 Steps) (loss=0.77542): 100%|██████████| 20/20 [00:33<00:00,  1.68s/it]\n",
      "Validate (700 / 10 Steps): 100%|██████████| 8/8 [00:27<00:00,  3.38s/it]4<?, ?it/s]\n",
      "Training (700 / 18000 Steps) (loss=0.78500):   5%|▌         | 1/20 [00:31<10:01, 31.67s/it]"
     ]
    },
    {
     "name": "stdout",
     "output_type": "stream",
     "text": [
      "Model Was Not Saved ! Current Best Avg. Dice: 1.3949919775768649e-05 Current Avg. Dice: 0.0 Current Avg. tumor Dice: 0.0 Current Avg. lymph Dice: 0.0\n"
     ]
    },
    {
     "name": "stderr",
     "output_type": "stream",
     "text": [
      "Training (719 / 18000 Steps) (loss=0.76208): 100%|██████████| 20/20 [01:00<00:00,  3.05s/it]\n",
      "Training (739 / 18000 Steps) (loss=0.75871): 100%|██████████| 20/20 [00:33<00:00,  1.70s/it]\n",
      "Training (759 / 18000 Steps) (loss=0.76089): 100%|██████████| 20/20 [00:34<00:00,  1.70s/it]\n",
      "Training (779 / 18000 Steps) (loss=0.75682): 100%|██████████| 20/20 [00:33<00:00,  1.69s/it]\n",
      "Training (799 / 18000 Steps) (loss=0.77878): 100%|██████████| 20/20 [00:33<00:00,  1.70s/it]\n",
      "Validate (800 / 10 Steps): 100%|██████████| 8/8 [00:27<00:00,  3.39s/it]4<?, ?it/s]\n",
      "Training (800 / 18000 Steps) (loss=0.77697):   5%|▌         | 1/20 [00:31<10:01, 31.68s/it]"
     ]
    },
    {
     "name": "stdout",
     "output_type": "stream",
     "text": [
      "Model Was Not Saved ! Current Best Avg. Dice: 1.3949919775768649e-05 Current Avg. Dice: 0.0 Current Avg. tumor Dice: 0.0 Current Avg. lymph Dice: 0.0\n"
     ]
    },
    {
     "name": "stderr",
     "output_type": "stream",
     "text": [
      "Training (819 / 18000 Steps) (loss=0.77164): 100%|██████████| 20/20 [01:00<00:00,  3.04s/it]\n",
      "Training (839 / 18000 Steps) (loss=0.80690): 100%|██████████| 20/20 [00:33<00:00,  1.69s/it]\n",
      "Training (859 / 18000 Steps) (loss=0.78313): 100%|██████████| 20/20 [00:33<00:00,  1.70s/it]\n",
      "Training (879 / 18000 Steps) (loss=0.81884): 100%|██████████| 20/20 [00:33<00:00,  1.69s/it]\n",
      "Training (899 / 18000 Steps) (loss=0.80137): 100%|██████████| 20/20 [00:33<00:00,  1.70s/it]\n",
      "Validate (900 / 10 Steps): 100%|██████████| 8/8 [00:26<00:00,  3.37s/it]4<?, ?it/s]\n",
      "Training (900 / 18000 Steps) (loss=0.75155):   5%|▌         | 1/20 [00:31<09:57, 31.46s/it]"
     ]
    },
    {
     "name": "stdout",
     "output_type": "stream",
     "text": [
      "Model Was Not Saved ! Current Best Avg. Dice: 1.3949919775768649e-05 Current Avg. Dice: 0.0 Current Avg. tumor Dice: 0.0 Current Avg. lymph Dice: 0.0\n"
     ]
    },
    {
     "name": "stderr",
     "output_type": "stream",
     "text": [
      "Training (919 / 18000 Steps) (loss=0.78009): 100%|██████████| 20/20 [01:00<00:00,  3.03s/it]\n",
      "Training (939 / 18000 Steps) (loss=0.82159): 100%|██████████| 20/20 [00:34<00:00,  1.71s/it]\n",
      "Training (959 / 18000 Steps) (loss=0.78368): 100%|██████████| 20/20 [00:33<00:00,  1.69s/it]\n",
      "Training (979 / 18000 Steps) (loss=0.74290): 100%|██████████| 20/20 [00:34<00:00,  1.70s/it]\n",
      "Training (999 / 18000 Steps) (loss=0.76085): 100%|██████████| 20/20 [00:33<00:00,  1.70s/it]\n",
      "Validate (1000 / 10 Steps): 100%|██████████| 8/8 [00:27<00:00,  3.38s/it]4<?, ?it/s]\n",
      "Training (1000 / 18000 Steps) (loss=0.74469):   5%|▌         | 1/20 [00:31<10:00, 31.63s/it]"
     ]
    },
    {
     "name": "stdout",
     "output_type": "stream",
     "text": [
      "Model Was Not Saved ! Current Best Avg. Dice: 1.3949919775768649e-05 Current Avg. Dice: 0.0 Current Avg. tumor Dice: 0.0 Current Avg. lymph Dice: 0.0\n"
     ]
    },
    {
     "name": "stderr",
     "output_type": "stream",
     "text": [
      "Training (1019 / 18000 Steps) (loss=0.72212): 100%|██████████| 20/20 [01:00<00:00,  3.03s/it]\n",
      "Training (1039 / 18000 Steps) (loss=0.75291): 100%|██████████| 20/20 [00:34<00:00,  1.71s/it]\n",
      "Training (1059 / 18000 Steps) (loss=0.72902): 100%|██████████| 20/20 [00:33<00:00,  1.69s/it]\n",
      "Training (1079 / 18000 Steps) (loss=0.76664): 100%|██████████| 20/20 [00:33<00:00,  1.70s/it]\n",
      "Training (1099 / 18000 Steps) (loss=0.72978): 100%|██████████| 20/20 [00:33<00:00,  1.69s/it]\n",
      "Validate (1100 / 10 Steps): 100%|██████████| 8/8 [00:27<00:00,  3.38s/it]4<?, ?it/s]\n",
      "Training (1100 / 18000 Steps) (loss=0.74392):   5%|▌         | 1/20 [00:31<09:58, 31.49s/it]"
     ]
    },
    {
     "name": "stdout",
     "output_type": "stream",
     "text": [
      "Model Was Not Saved ! Current Best Avg. Dice: 1.3949919775768649e-05 Current Avg. Dice: 0.0 Current Avg. tumor Dice: 0.0 Current Avg. lymph Dice: 0.0\n"
     ]
    },
    {
     "name": "stderr",
     "output_type": "stream",
     "text": [
      "Training (1119 / 18000 Steps) (loss=0.73579): 100%|██████████| 20/20 [01:00<00:00,  3.04s/it]\n",
      "Training (1139 / 18000 Steps) (loss=0.74106): 100%|██████████| 20/20 [00:33<00:00,  1.69s/it]\n",
      "Training (1159 / 18000 Steps) (loss=0.76298): 100%|██████████| 20/20 [00:34<00:00,  1.70s/it]\n",
      "Training (1179 / 18000 Steps) (loss=0.71382): 100%|██████████| 20/20 [00:33<00:00,  1.69s/it]\n",
      "Training (1199 / 18000 Steps) (loss=0.72512): 100%|██████████| 20/20 [00:33<00:00,  1.69s/it]\n",
      "Validate (1200 / 10 Steps): 100%|██████████| 8/8 [00:27<00:00,  3.38s/it]4<?, ?it/s]\n",
      "Training (1200 / 18000 Steps) (loss=0.72324):   5%|▌         | 1/20 [00:31<10:07, 31.96s/it]"
     ]
    },
    {
     "name": "stdout",
     "output_type": "stream",
     "text": [
      "Model Was Not Saved ! Current Best Avg. Dice: 1.3949919775768649e-05 Current Avg. Dice: 0.0 Current Avg. tumor Dice: 0.0 Current Avg. lymph Dice: 0.0\n"
     ]
    },
    {
     "name": "stderr",
     "output_type": "stream",
     "text": [
      "Training (1219 / 18000 Steps) (loss=0.71968): 100%|██████████| 20/20 [01:00<00:00,  3.05s/it]\n",
      "Training (1239 / 18000 Steps) (loss=0.71463): 100%|██████████| 20/20 [00:33<00:00,  1.69s/it]\n",
      "Training (1259 / 18000 Steps) (loss=0.71776): 100%|██████████| 20/20 [00:33<00:00,  1.70s/it]\n",
      "Training (1279 / 18000 Steps) (loss=0.71217): 100%|██████████| 20/20 [00:33<00:00,  1.67s/it]\n",
      "Training (1299 / 18000 Steps) (loss=0.72492): 100%|██████████| 20/20 [00:33<00:00,  1.70s/it]\n",
      "Validate (1300 / 10 Steps): 100%|██████████| 8/8 [00:27<00:00,  3.39s/it]4<?, ?it/s]\n",
      "Training (1300 / 18000 Steps) (loss=0.73185):   5%|▌         | 1/20 [00:31<10:01, 31.68s/it]"
     ]
    },
    {
     "name": "stdout",
     "output_type": "stream",
     "text": [
      "Model Was Not Saved ! Current Best Avg. Dice: 1.3949919775768649e-05 Current Avg. Dice: 0.0 Current Avg. tumor Dice: 0.0 Current Avg. lymph Dice: 0.0\n"
     ]
    },
    {
     "name": "stderr",
     "output_type": "stream",
     "text": [
      "Training (1319 / 18000 Steps) (loss=0.71935): 100%|██████████| 20/20 [01:00<00:00,  3.03s/it]\n",
      "Training (1339 / 18000 Steps) (loss=0.72687): 100%|██████████| 20/20 [00:33<00:00,  1.69s/it]\n",
      "Training (1359 / 18000 Steps) (loss=0.87851): 100%|██████████| 20/20 [00:33<00:00,  1.68s/it]\n",
      "Training (1379 / 18000 Steps) (loss=0.71905): 100%|██████████| 20/20 [00:33<00:00,  1.68s/it]\n",
      "Training (1399 / 18000 Steps) (loss=0.71198): 100%|██████████| 20/20 [00:33<00:00,  1.68s/it]\n",
      "Validate (1400 / 10 Steps): 100%|██████████| 8/8 [00:27<00:00,  3.39s/it]4<?, ?it/s]\n",
      "Training (1400 / 18000 Steps) (loss=0.72756):   5%|▌         | 1/20 [00:31<10:00, 31.61s/it]"
     ]
    },
    {
     "name": "stdout",
     "output_type": "stream",
     "text": [
      "Model Was Not Saved ! Current Best Avg. Dice: 1.3949919775768649e-05 Current Avg. Dice: 0.0 Current Avg. tumor Dice: 0.0 Current Avg. lymph Dice: 0.0\n"
     ]
    },
    {
     "name": "stderr",
     "output_type": "stream",
     "text": [
      "Training (1419 / 18000 Steps) (loss=0.74028): 100%|██████████| 20/20 [01:00<00:00,  3.05s/it]\n",
      "Training (1439 / 18000 Steps) (loss=0.70610): 100%|██████████| 20/20 [00:33<00:00,  1.69s/it]\n",
      "Training (1459 / 18000 Steps) (loss=0.71196): 100%|██████████| 20/20 [00:33<00:00,  1.68s/it]\n",
      "Training (1479 / 18000 Steps) (loss=0.71134): 100%|██████████| 20/20 [00:33<00:00,  1.68s/it]\n",
      "Training (1499 / 18000 Steps) (loss=0.73113): 100%|██████████| 20/20 [00:33<00:00,  1.67s/it]\n",
      "Validate (1500 / 10 Steps): 100%|██████████| 8/8 [00:27<00:00,  3.43s/it]4<?, ?it/s]\n",
      "Training (1500 / 18000 Steps) (loss=0.71731):   5%|▌         | 1/20 [00:31<10:04, 31.84s/it]"
     ]
    },
    {
     "name": "stdout",
     "output_type": "stream",
     "text": [
      "Model Was Not Saved ! Current Best Avg. Dice: 1.3949919775768649e-05 Current Avg. Dice: 0.0 Current Avg. tumor Dice: 0.0 Current Avg. lymph Dice: 0.0\n"
     ]
    },
    {
     "name": "stderr",
     "output_type": "stream",
     "text": [
      "Training (1519 / 18000 Steps) (loss=0.73734): 100%|██████████| 20/20 [01:00<00:00,  3.04s/it]\n",
      "Training (1539 / 18000 Steps) (loss=0.72622): 100%|██████████| 20/20 [00:33<00:00,  1.68s/it]\n",
      "Training (1559 / 18000 Steps) (loss=0.72045): 100%|██████████| 20/20 [00:33<00:00,  1.69s/it]\n",
      "Training (1579 / 18000 Steps) (loss=0.70685): 100%|██████████| 20/20 [00:33<00:00,  1.68s/it]\n",
      "Training (1599 / 18000 Steps) (loss=0.70740): 100%|██████████| 20/20 [00:33<00:00,  1.70s/it]\n",
      "Validate (1600 / 10 Steps): 100%|██████████| 8/8 [00:27<00:00,  3.40s/it]4<?, ?it/s]\n",
      "Training (1600 / 18000 Steps) (loss=0.70499):   5%|▌         | 1/20 [00:31<09:59, 31.53s/it]"
     ]
    },
    {
     "name": "stdout",
     "output_type": "stream",
     "text": [
      "Model Was Not Saved ! Current Best Avg. Dice: 1.3949919775768649e-05 Current Avg. Dice: 0.0 Current Avg. tumor Dice: 0.0 Current Avg. lymph Dice: 0.0\n"
     ]
    },
    {
     "name": "stderr",
     "output_type": "stream",
     "text": [
      "Training (1619 / 18000 Steps) (loss=0.71229): 100%|██████████| 20/20 [01:00<00:00,  3.04s/it]\n",
      "Training (1639 / 18000 Steps) (loss=0.73426): 100%|██████████| 20/20 [00:33<00:00,  1.68s/it]\n",
      "Training (1659 / 18000 Steps) (loss=0.71017): 100%|██████████| 20/20 [00:33<00:00,  1.68s/it]\n",
      "Training (1679 / 18000 Steps) (loss=0.78148): 100%|██████████| 20/20 [00:33<00:00,  1.67s/it]\n",
      "Training (1699 / 18000 Steps) (loss=0.71490): 100%|██████████| 20/20 [00:33<00:00,  1.69s/it]\n",
      "Validate (1700 / 10 Steps): 100%|██████████| 8/8 [00:27<00:00,  3.39s/it]4<?, ?it/s]\n",
      "Training (1700 / 18000 Steps) (loss=0.70996):   5%|▌         | 1/20 [00:31<10:00, 31.59s/it]"
     ]
    },
    {
     "name": "stdout",
     "output_type": "stream",
     "text": [
      "Model Was Not Saved ! Current Best Avg. Dice: 1.3949919775768649e-05 Current Avg. Dice: 0.0 Current Avg. tumor Dice: 0.0 Current Avg. lymph Dice: 0.0\n"
     ]
    },
    {
     "name": "stderr",
     "output_type": "stream",
     "text": [
      "Training (1719 / 18000 Steps) (loss=0.70067): 100%|██████████| 20/20 [01:00<00:00,  3.04s/it]\n",
      "Training (1739 / 18000 Steps) (loss=0.69230): 100%|██████████| 20/20 [00:33<00:00,  1.68s/it]\n",
      "Training (1759 / 18000 Steps) (loss=0.71130): 100%|██████████| 20/20 [00:33<00:00,  1.68s/it]\n",
      "Training (1779 / 18000 Steps) (loss=0.90635): 100%|██████████| 20/20 [00:33<00:00,  1.69s/it]\n",
      "Training (1799 / 18000 Steps) (loss=0.71751): 100%|██████████| 20/20 [00:33<00:00,  1.68s/it]\n",
      "Validate (1800 / 10 Steps): 100%|██████████| 8/8 [00:27<00:00,  3.40s/it]4<?, ?it/s]\n",
      "Training (1800 / 18000 Steps) (loss=0.72166):   5%|▌         | 1/20 [00:31<10:01, 31.65s/it]"
     ]
    },
    {
     "name": "stdout",
     "output_type": "stream",
     "text": [
      "Model Was Not Saved ! Current Best Avg. Dice: 1.3949919775768649e-05 Current Avg. Dice: 0.0 Current Avg. tumor Dice: 0.0 Current Avg. lymph Dice: 0.0\n"
     ]
    },
    {
     "name": "stderr",
     "output_type": "stream",
     "text": [
      "Training (1819 / 18000 Steps) (loss=0.72461): 100%|██████████| 20/20 [01:01<00:00,  3.07s/it]\n",
      "Training (1839 / 18000 Steps) (loss=0.72073): 100%|██████████| 20/20 [00:34<00:00,  1.71s/it]\n",
      "Training (1859 / 18000 Steps) (loss=0.82545): 100%|██████████| 20/20 [00:33<00:00,  1.69s/it]\n",
      "Training (1879 / 18000 Steps) (loss=0.71415): 100%|██████████| 20/20 [00:34<00:00,  1.70s/it]\n",
      "Training (1899 / 18000 Steps) (loss=1.00422): 100%|██████████| 20/20 [00:33<00:00,  1.68s/it]\n",
      "Validate (1900 / 10 Steps): 100%|██████████| 8/8 [00:27<00:00,  3.40s/it]4<?, ?it/s]\n",
      "Training (1900 / 18000 Steps) (loss=0.84123):   5%|▌         | 1/20 [00:31<10:03, 31.77s/it]"
     ]
    },
    {
     "name": "stdout",
     "output_type": "stream",
     "text": [
      "Model Was Not Saved ! Current Best Avg. Dice: 1.3949919775768649e-05 Current Avg. Dice: 0.0 Current Avg. tumor Dice: 0.0 Current Avg. lymph Dice: 0.0\n"
     ]
    },
    {
     "name": "stderr",
     "output_type": "stream",
     "text": [
      "Training (1919 / 18000 Steps) (loss=0.69972): 100%|██████████| 20/20 [01:01<00:00,  3.06s/it]\n",
      "Training (1939 / 18000 Steps) (loss=0.70118): 100%|██████████| 20/20 [00:33<00:00,  1.69s/it]\n",
      "Training (1959 / 18000 Steps) (loss=0.75450): 100%|██████████| 20/20 [00:34<00:00,  1.71s/it]\n",
      "Training (1979 / 18000 Steps) (loss=0.69835): 100%|██████████| 20/20 [00:33<00:00,  1.69s/it]\n",
      "Training (1999 / 18000 Steps) (loss=0.80617): 100%|██████████| 20/20 [00:34<00:00,  1.71s/it]\n",
      "Validate (2000 / 10 Steps): 100%|██████████| 8/8 [00:27<00:00,  3.39s/it]4<?, ?it/s]\n",
      "Training (2000 / 18000 Steps) (loss=0.69473):   5%|▌         | 1/20 [00:31<10:01, 31.66s/it]"
     ]
    },
    {
     "name": "stdout",
     "output_type": "stream",
     "text": [
      "Model Was Not Saved ! Current Best Avg. Dice: 1.3949919775768649e-05 Current Avg. Dice: 0.0 Current Avg. tumor Dice: 0.0 Current Avg. lymph Dice: 0.0\n"
     ]
    },
    {
     "name": "stderr",
     "output_type": "stream",
     "text": [
      "Training (2019 / 18000 Steps) (loss=0.71760): 100%|██████████| 20/20 [01:00<00:00,  3.03s/it]\n",
      "Training (2039 / 18000 Steps) (loss=0.68976): 100%|██████████| 20/20 [00:33<00:00,  1.68s/it]\n",
      "Training (2059 / 18000 Steps) (loss=0.69261): 100%|██████████| 20/20 [00:33<00:00,  1.68s/it]\n",
      "Training (2079 / 18000 Steps) (loss=0.69522): 100%|██████████| 20/20 [00:33<00:00,  1.67s/it]\n",
      "Training (2099 / 18000 Steps) (loss=0.73703): 100%|██████████| 20/20 [00:33<00:00,  1.68s/it]\n",
      "Validate (2100 / 10 Steps): 100%|██████████| 8/8 [00:27<00:00,  3.40s/it]4<?, ?it/s]\n",
      "Training (2100 / 18000 Steps) (loss=0.70758):   5%|▌         | 1/20 [00:31<10:03, 31.74s/it]"
     ]
    },
    {
     "name": "stdout",
     "output_type": "stream",
     "text": [
      "Model Was Not Saved ! Current Best Avg. Dice: 1.3949919775768649e-05 Current Avg. Dice: 0.0 Current Avg. tumor Dice: 0.0 Current Avg. lymph Dice: 0.0\n"
     ]
    },
    {
     "name": "stderr",
     "output_type": "stream",
     "text": [
      "Training (2119 / 18000 Steps) (loss=0.93555): 100%|██████████| 20/20 [01:00<00:00,  3.04s/it]\n",
      "Training (2139 / 18000 Steps) (loss=0.72885): 100%|██████████| 20/20 [00:33<00:00,  1.68s/it]\n",
      "Training (2159 / 18000 Steps) (loss=0.70225): 100%|██████████| 20/20 [00:33<00:00,  1.68s/it]\n",
      "Training (2179 / 18000 Steps) (loss=0.68249): 100%|██████████| 20/20 [00:33<00:00,  1.67s/it]\n",
      "Training (2199 / 18000 Steps) (loss=0.69198): 100%|██████████| 20/20 [00:33<00:00,  1.67s/it]\n",
      "Validate (2200 / 10 Steps): 100%|██████████| 8/8 [00:27<00:00,  3.40s/it]4<?, ?it/s]\n",
      "Training (2200 / 18000 Steps) (loss=0.72494):   5%|▌         | 1/20 [00:31<10:05, 31.86s/it]"
     ]
    },
    {
     "name": "stdout",
     "output_type": "stream",
     "text": [
      "Model Was Not Saved ! Current Best Avg. Dice: 1.3949919775768649e-05 Current Avg. Dice: 0.0 Current Avg. tumor Dice: 0.0 Current Avg. lymph Dice: 0.0\n"
     ]
    },
    {
     "name": "stderr",
     "output_type": "stream",
     "text": [
      "Training (2219 / 18000 Steps) (loss=0.69320): 100%|██████████| 20/20 [01:00<00:00,  3.05s/it]\n",
      "Training (2239 / 18000 Steps) (loss=0.69812): 100%|██████████| 20/20 [00:33<00:00,  1.68s/it]\n",
      "Training (2259 / 18000 Steps) (loss=0.67988): 100%|██████████| 20/20 [00:33<00:00,  1.69s/it]\n",
      "Training (2279 / 18000 Steps) (loss=0.69187): 100%|██████████| 20/20 [00:33<00:00,  1.69s/it]\n",
      "Training (2299 / 18000 Steps) (loss=0.71486): 100%|██████████| 20/20 [00:33<00:00,  1.68s/it]\n",
      "Validate (2300 / 10 Steps): 100%|██████████| 8/8 [00:27<00:00,  3.40s/it]4<?, ?it/s]\n",
      "Training (2300 / 18000 Steps) (loss=0.68891):   5%|▌         | 1/20 [00:31<10:00, 31.58s/it]"
     ]
    },
    {
     "name": "stdout",
     "output_type": "stream",
     "text": [
      "Model Was Not Saved ! Current Best Avg. Dice: 1.3949919775768649e-05 Current Avg. Dice: 0.0 Current Avg. tumor Dice: 0.0 Current Avg. lymph Dice: 0.0\n"
     ]
    },
    {
     "name": "stderr",
     "output_type": "stream",
     "text": [
      "Training (2319 / 18000 Steps) (loss=0.70538): 100%|██████████| 20/20 [01:00<00:00,  3.02s/it]\n",
      "Training (2339 / 18000 Steps) (loss=0.69627): 100%|██████████| 20/20 [00:33<00:00,  1.67s/it]\n",
      "Training (2359 / 18000 Steps) (loss=0.71256): 100%|██████████| 20/20 [00:33<00:00,  1.68s/it]\n",
      "Training (2379 / 18000 Steps) (loss=0.73846): 100%|██████████| 20/20 [00:33<00:00,  1.66s/it]\n",
      "Training (2399 / 18000 Steps) (loss=0.70202): 100%|██████████| 20/20 [00:33<00:00,  1.68s/it]\n",
      "Validate (2400 / 10 Steps): 100%|██████████| 8/8 [00:27<00:00,  3.39s/it]4<?, ?it/s]\n",
      "Training (2400 / 18000 Steps) (loss=0.68117):   5%|▌         | 1/20 [00:31<10:01, 31.66s/it]"
     ]
    },
    {
     "name": "stdout",
     "output_type": "stream",
     "text": [
      "Model Was Not Saved ! Current Best Avg. Dice: 1.3949919775768649e-05 Current Avg. Dice: 1.2293538929952774e-05 Current Avg. tumor Dice: 0.0 Current Avg. lymph Dice: 2.836970452335663e-05\n"
     ]
    },
    {
     "name": "stderr",
     "output_type": "stream",
     "text": [
      "Training (2419 / 18000 Steps) (loss=0.71842): 100%|██████████| 20/20 [01:00<00:00,  3.02s/it]\n",
      "Training (2439 / 18000 Steps) (loss=0.72301): 100%|██████████| 20/20 [00:33<00:00,  1.68s/it]\n",
      "Training (2459 / 18000 Steps) (loss=0.71238): 100%|██████████| 20/20 [00:33<00:00,  1.67s/it]\n",
      "Training (2479 / 18000 Steps) (loss=0.69070): 100%|██████████| 20/20 [00:33<00:00,  1.67s/it]\n",
      "Training (2499 / 18000 Steps) (loss=0.70964): 100%|██████████| 20/20 [00:33<00:00,  1.67s/it]\n",
      "Validate (2500 / 10 Steps): 100%|██████████| 8/8 [00:27<00:00,  3.39s/it]4<?, ?it/s]\n",
      "Training (2500 / 18000 Steps) (loss=0.74978):   5%|▌         | 1/20 [00:31<09:58, 31.52s/it]"
     ]
    },
    {
     "name": "stdout",
     "output_type": "stream",
     "text": [
      "Model Was Not Saved ! Current Best Avg. Dice: 1.3949919775768649e-05 Current Avg. Dice: 0.0 Current Avg. tumor Dice: 0.0 Current Avg. lymph Dice: 0.0\n"
     ]
    },
    {
     "name": "stderr",
     "output_type": "stream",
     "text": [
      "Training (2519 / 18000 Steps) (loss=0.67645): 100%|██████████| 20/20 [01:00<00:00,  3.02s/it]\n",
      "Training (2539 / 18000 Steps) (loss=0.70385): 100%|██████████| 20/20 [00:33<00:00,  1.66s/it]\n",
      "Training (2559 / 18000 Steps) (loss=0.72251): 100%|██████████| 20/20 [00:33<00:00,  1.68s/it]\n",
      "Training (2579 / 18000 Steps) (loss=0.68131): 100%|██████████| 20/20 [00:33<00:00,  1.66s/it]\n",
      "Training (2599 / 18000 Steps) (loss=0.69804): 100%|██████████| 20/20 [00:33<00:00,  1.66s/it]\n",
      "Validate (2600 / 10 Steps): 100%|██████████| 8/8 [00:27<00:00,  3.41s/it]4<?, ?it/s]\n",
      "Training (2600 / 18000 Steps) (loss=0.71930):   5%|▌         | 1/20 [00:32<10:22, 32.74s/it]"
     ]
    },
    {
     "name": "stdout",
     "output_type": "stream",
     "text": [
      "Model Was Saved ! Current Best Avg. Dice: 1.9423132471274585e-05 Current Avg. Dice: 1.9423132471274585e-05 Current Avg. tumor Dice: 0.0 Current Avg. lymph Dice: 4.4822612835559994e-05\n"
     ]
    },
    {
     "name": "stderr",
     "output_type": "stream",
     "text": [
      "Training (2619 / 18000 Steps) (loss=0.67884): 100%|██████████| 20/20 [01:01<00:00,  3.08s/it]\n",
      "Training (2639 / 18000 Steps) (loss=0.71768): 100%|██████████| 20/20 [00:33<00:00,  1.68s/it]\n",
      "Training (2659 / 18000 Steps) (loss=0.68826): 100%|██████████| 20/20 [00:33<00:00,  1.67s/it]\n",
      "Training (2679 / 18000 Steps) (loss=0.68415): 100%|██████████| 20/20 [00:33<00:00,  1.66s/it]\n",
      "Training (2699 / 18000 Steps) (loss=0.69222): 100%|██████████| 20/20 [00:33<00:00,  1.68s/it]\n",
      "Validate (2700 / 10 Steps): 100%|██████████| 8/8 [00:27<00:00,  3.39s/it]4<?, ?it/s]\n",
      "Training (2700 / 18000 Steps) (loss=0.68926):   5%|▌         | 1/20 [00:32<10:11, 32.18s/it]"
     ]
    },
    {
     "name": "stdout",
     "output_type": "stream",
     "text": [
      "Model Was Saved ! Current Best Avg. Dice: 2.996505099872593e-05 Current Avg. Dice: 2.996505099872593e-05 Current Avg. tumor Dice: 0.0 Current Avg. lymph Dice: 6.915011908859015e-05\n"
     ]
    },
    {
     "name": "stderr",
     "output_type": "stream",
     "text": [
      "Training (2719 / 18000 Steps) (loss=0.70244): 100%|██████████| 20/20 [01:00<00:00,  3.05s/it]\n",
      "Training (2739 / 18000 Steps) (loss=0.68869): 100%|██████████| 20/20 [00:33<00:00,  1.67s/it]\n",
      "Training (2759 / 18000 Steps) (loss=0.66498): 100%|██████████| 20/20 [00:33<00:00,  1.67s/it]\n",
      "Training (2779 / 18000 Steps) (loss=0.76211): 100%|██████████| 20/20 [00:33<00:00,  1.66s/it]\n",
      "Training (2799 / 18000 Steps) (loss=0.72226): 100%|██████████| 20/20 [00:33<00:00,  1.67s/it]\n",
      "Validate (2800 / 10 Steps): 100%|██████████| 8/8 [00:27<00:00,  3.39s/it]4<?, ?it/s]\n",
      "Training (2800 / 18000 Steps) (loss=0.69716):   5%|▌         | 1/20 [00:31<09:56, 31.38s/it]"
     ]
    },
    {
     "name": "stdout",
     "output_type": "stream",
     "text": [
      "Model Was Not Saved ! Current Best Avg. Dice: 2.996505099872593e-05 Current Avg. Dice: 5.490583589562448e-06 Current Avg. tumor Dice: 0.0 Current Avg. lymph Dice: 1.2670577234530356e-05\n"
     ]
    },
    {
     "name": "stderr",
     "output_type": "stream",
     "text": [
      "Training (2819 / 18000 Steps) (loss=0.68694): 100%|██████████| 20/20 [01:00<00:00,  3.01s/it]\n",
      "Training (2839 / 18000 Steps) (loss=0.69301): 100%|██████████| 20/20 [00:33<00:00,  1.67s/it]\n",
      "Training (2859 / 18000 Steps) (loss=0.70511): 100%|██████████| 20/20 [00:33<00:00,  1.67s/it]\n",
      "Training (2879 / 18000 Steps) (loss=0.71176): 100%|██████████| 20/20 [00:33<00:00,  1.66s/it]\n",
      "Training (2899 / 18000 Steps) (loss=0.66700): 100%|██████████| 20/20 [00:33<00:00,  1.67s/it]\n",
      "Validate (2900 / 10 Steps): 100%|██████████| 8/8 [00:27<00:00,  3.38s/it]4<?, ?it/s]\n",
      "Training (2900 / 18000 Steps) (loss=0.66333):   5%|▌         | 1/20 [00:31<09:58, 31.48s/it]"
     ]
    },
    {
     "name": "stdout",
     "output_type": "stream",
     "text": [
      "Model Was Not Saved ! Current Best Avg. Dice: 2.996505099872593e-05 Current Avg. Dice: 2.7443877115729265e-05 Current Avg. tumor Dice: 0.0 Current Avg. lymph Dice: 6.333202327368781e-05\n"
     ]
    },
    {
     "name": "stderr",
     "output_type": "stream",
     "text": [
      "Training (2919 / 18000 Steps) (loss=0.66868): 100%|██████████| 20/20 [01:00<00:00,  3.03s/it]\n",
      "Training (2939 / 18000 Steps) (loss=0.64589): 100%|██████████| 20/20 [00:33<00:00,  1.67s/it]\n",
      "Training (2959 / 18000 Steps) (loss=0.67723): 100%|██████████| 20/20 [00:33<00:00,  1.67s/it]\n",
      "Training (2979 / 18000 Steps) (loss=0.67316): 100%|██████████| 20/20 [00:33<00:00,  1.68s/it]\n",
      "Training (2999 / 18000 Steps) (loss=0.69363): 100%|██████████| 20/20 [00:33<00:00,  1.66s/it]\n",
      "Validate (3000 / 10 Steps): 100%|██████████| 8/8 [00:27<00:00,  3.40s/it]4<?, ?it/s]\n",
      "Training (3000 / 18000 Steps) (loss=0.67563):   5%|▌         | 1/20 [00:32<10:14, 32.32s/it]"
     ]
    },
    {
     "name": "stdout",
     "output_type": "stream",
     "text": [
      "Model Was Saved ! Current Best Avg. Dice: 0.0010912209982052445 Current Avg. Dice: 0.0010912209982052445 Current Avg. tumor Dice: 0.0 Current Avg. lymph Dice: 0.0025182021781802177\n"
     ]
    },
    {
     "name": "stderr",
     "output_type": "stream",
     "text": [
      "Training (3019 / 18000 Steps) (loss=0.63623): 100%|██████████| 20/20 [01:01<00:00,  3.07s/it]\n",
      "Training (3039 / 18000 Steps) (loss=0.71190): 100%|██████████| 20/20 [00:33<00:00,  1.66s/it]\n",
      "Training (3059 / 18000 Steps) (loss=0.68061): 100%|██████████| 20/20 [00:33<00:00,  1.67s/it]\n",
      "Training (3079 / 18000 Steps) (loss=0.67726): 100%|██████████| 20/20 [00:33<00:00,  1.67s/it]\n",
      "Training (3099 / 18000 Steps) (loss=0.69138): 100%|██████████| 20/20 [00:33<00:00,  1.67s/it]\n",
      "Validate (3100 / 10 Steps): 100%|██████████| 8/8 [00:27<00:00,  3.39s/it]4<?, ?it/s]\n",
      "Training (3100 / 18000 Steps) (loss=0.68969):   5%|▌         | 1/20 [00:32<10:15, 32.37s/it]"
     ]
    },
    {
     "name": "stdout",
     "output_type": "stream",
     "text": [
      "Model Was Saved ! Current Best Avg. Dice: 0.0011186472838744521 Current Avg. Dice: 0.0011186472838744521 Current Avg. tumor Dice: 0.0 Current Avg. lymph Dice: 0.0025814936961978674\n"
     ]
    },
    {
     "name": "stderr",
     "output_type": "stream",
     "text": [
      "Training (3119 / 18000 Steps) (loss=0.68491): 100%|██████████| 20/20 [01:01<00:00,  3.06s/it]\n",
      "Training (3139 / 18000 Steps) (loss=0.68193): 100%|██████████| 20/20 [00:33<00:00,  1.66s/it]\n",
      "Training (3159 / 18000 Steps) (loss=0.63878): 100%|██████████| 20/20 [00:33<00:00,  1.67s/it]\n",
      "Training (3179 / 18000 Steps) (loss=0.68262): 100%|██████████| 20/20 [00:33<00:00,  1.66s/it]\n",
      "Training (3199 / 18000 Steps) (loss=0.67062): 100%|██████████| 20/20 [00:33<00:00,  1.66s/it]\n",
      "Validate (3200 / 10 Steps): 100%|██████████| 8/8 [00:27<00:00,  3.40s/it]4<?, ?it/s]\n",
      "Training (3200 / 18000 Steps) (loss=0.72487):   5%|▌         | 1/20 [00:32<10:18, 32.53s/it]"
     ]
    },
    {
     "name": "stdout",
     "output_type": "stream",
     "text": [
      "Model Was Saved ! Current Best Avg. Dice: 0.005533344112336636 Current Avg. Dice: 0.005533344112336636 Current Avg. tumor Dice: 4.742583041661419e-05 Current Avg. lymph Dice: 0.012714534066617489\n"
     ]
    },
    {
     "name": "stderr",
     "output_type": "stream",
     "text": [
      "Training (3219 / 18000 Steps) (loss=0.68139): 100%|██████████| 20/20 [01:01<00:00,  3.06s/it]\n",
      "Training (3239 / 18000 Steps) (loss=0.64060): 100%|██████████| 20/20 [00:33<00:00,  1.68s/it]\n",
      "Training (3259 / 18000 Steps) (loss=0.66477): 100%|██████████| 20/20 [00:33<00:00,  1.66s/it]\n",
      "Training (3279 / 18000 Steps) (loss=0.64314): 100%|██████████| 20/20 [00:33<00:00,  1.67s/it]\n",
      "Training (3299 / 18000 Steps) (loss=0.78143): 100%|██████████| 20/20 [00:33<00:00,  1.66s/it]\n",
      "Validate (3300 / 10 Steps): 100%|██████████| 8/8 [00:27<00:00,  3.40s/it]4<?, ?it/s]\n",
      "Training (3300 / 18000 Steps) (loss=0.66168):   5%|▌         | 1/20 [00:31<09:57, 31.43s/it]"
     ]
    },
    {
     "name": "stdout",
     "output_type": "stream",
     "text": [
      "Model Was Not Saved ! Current Best Avg. Dice: 0.005533344112336636 Current Avg. Dice: 0.0014725589426234365 Current Avg. tumor Dice: 7.806083158357069e-05 Current Avg. lymph Dice: 0.003308143001049757\n"
     ]
    },
    {
     "name": "stderr",
     "output_type": "stream",
     "text": [
      "Training (3319 / 18000 Steps) (loss=0.65540): 100%|██████████| 20/20 [01:00<00:00,  3.03s/it]\n",
      "Training (3339 / 18000 Steps) (loss=0.67511): 100%|██████████| 20/20 [00:33<00:00,  1.67s/it]\n",
      "Training (3359 / 18000 Steps) (loss=0.65053): 100%|██████████| 20/20 [00:33<00:00,  1.68s/it]\n",
      "Training (3379 / 18000 Steps) (loss=0.65184): 100%|██████████| 20/20 [00:33<00:00,  1.68s/it]\n",
      "Training (3399 / 18000 Steps) (loss=0.69831): 100%|██████████| 20/20 [00:33<00:00,  1.67s/it]\n",
      "Validate (3400 / 10 Steps): 100%|██████████| 8/8 [00:27<00:00,  3.39s/it]4<?, ?it/s]\n",
      "Training (3400 / 18000 Steps) (loss=0.69240):   5%|▌         | 1/20 [00:31<09:57, 31.44s/it]"
     ]
    },
    {
     "name": "stdout",
     "output_type": "stream",
     "text": [
      "Model Was Not Saved ! Current Best Avg. Dice: 0.005533344112336636 Current Avg. Dice: 0.0026368978433310986 Current Avg. tumor Dice: 0.002749829553067684 Current Avg. lymph Dice: 0.0029122682753950357\n"
     ]
    },
    {
     "name": "stderr",
     "output_type": "stream",
     "text": [
      "Training (3419 / 18000 Steps) (loss=0.67941): 100%|██████████| 20/20 [01:00<00:00,  3.02s/it]\n",
      "Training (3439 / 18000 Steps) (loss=0.67878): 100%|██████████| 20/20 [00:33<00:00,  1.69s/it]\n",
      "Training (3459 / 18000 Steps) (loss=0.67796): 100%|██████████| 20/20 [00:33<00:00,  1.66s/it]\n",
      "Training (3479 / 18000 Steps) (loss=0.65810): 100%|██████████| 20/20 [00:33<00:00,  1.67s/it]\n",
      "Training (3499 / 18000 Steps) (loss=0.77770): 100%|██████████| 20/20 [00:33<00:00,  1.68s/it]\n",
      "Validate (3500 / 10 Steps): 100%|██████████| 8/8 [00:27<00:00,  3.38s/it]4<?, ?it/s]\n",
      "Training (3500 / 18000 Steps) (loss=0.64048):   5%|▌         | 1/20 [00:32<10:12, 32.23s/it]"
     ]
    },
    {
     "name": "stdout",
     "output_type": "stream",
     "text": [
      "Model Was Saved ! Current Best Avg. Dice: 0.020190754905343056 Current Avg. Dice: 0.020190754905343056 Current Avg. tumor Dice: 0.03273957222700119 Current Avg. lymph Dice: 0.008817622438073158\n"
     ]
    },
    {
     "name": "stderr",
     "output_type": "stream",
     "text": [
      "Training (3519 / 18000 Steps) (loss=0.61037): 100%|██████████| 20/20 [01:01<00:00,  3.05s/it]\n",
      "Training (3539 / 18000 Steps) (loss=0.65985): 100%|██████████| 20/20 [00:33<00:00,  1.68s/it]\n",
      "Training (3559 / 18000 Steps) (loss=0.69014): 100%|██████████| 20/20 [00:33<00:00,  1.67s/it]\n",
      "Training (3579 / 18000 Steps) (loss=0.66744): 100%|██████████| 20/20 [00:33<00:00,  1.68s/it]\n",
      "Training (3599 / 18000 Steps) (loss=0.65497): 100%|██████████| 20/20 [00:33<00:00,  1.66s/it]\n",
      "Validate (3600 / 10 Steps): 100%|██████████| 8/8 [00:27<00:00,  3.38s/it]4<?, ?it/s]\n",
      "Training (3600 / 18000 Steps) (loss=0.69270):   5%|▌         | 1/20 [00:32<10:14, 32.32s/it]"
     ]
    },
    {
     "name": "stdout",
     "output_type": "stream",
     "text": [
      "Model Was Saved ! Current Best Avg. Dice: 0.06433508545160294 Current Avg. Dice: 0.06433508545160294 Current Avg. tumor Dice: 0.10167566686868668 Current Avg. lymph Dice: 0.03114750050008297\n"
     ]
    },
    {
     "name": "stderr",
     "output_type": "stream",
     "text": [
      "Training (3619 / 18000 Steps) (loss=0.74342): 100%|██████████| 20/20 [01:01<00:00,  3.07s/it]\n",
      "Training (3639 / 18000 Steps) (loss=0.62136): 100%|██████████| 20/20 [00:33<00:00,  1.68s/it]\n",
      "Training (3659 / 18000 Steps) (loss=0.66628): 100%|██████████| 20/20 [00:33<00:00,  1.68s/it]\n",
      "Training (3679 / 18000 Steps) (loss=0.59157): 100%|██████████| 20/20 [00:33<00:00,  1.67s/it]\n",
      "Training (3699 / 18000 Steps) (loss=0.69458): 100%|██████████| 20/20 [00:33<00:00,  1.68s/it]\n",
      "Validate (3700 / 10 Steps): 100%|██████████| 8/8 [00:27<00:00,  3.39s/it]4<?, ?it/s]\n",
      "Training (3700 / 18000 Steps) (loss=0.64642):   5%|▌         | 1/20 [00:31<09:58, 31.49s/it]"
     ]
    },
    {
     "name": "stdout",
     "output_type": "stream",
     "text": [
      "Model Was Not Saved ! Current Best Avg. Dice: 0.06433508545160294 Current Avg. Dice: 0.0553671196103096 Current Avg. tumor Dice: 0.09840203821659088 Current Avg. lymph Dice: 0.014229475520551205\n"
     ]
    },
    {
     "name": "stderr",
     "output_type": "stream",
     "text": [
      "Training (3719 / 18000 Steps) (loss=0.60922): 100%|██████████| 20/20 [01:00<00:00,  3.01s/it]\n",
      "Training (3739 / 18000 Steps) (loss=0.63081): 100%|██████████| 20/20 [00:33<00:00,  1.67s/it]\n",
      "Training (3759 / 18000 Steps) (loss=0.66029): 100%|██████████| 20/20 [00:33<00:00,  1.67s/it]\n",
      "Training (3779 / 18000 Steps) (loss=0.60346): 100%|██████████| 20/20 [00:33<00:00,  1.67s/it]\n",
      "Training (3799 / 18000 Steps) (loss=0.68710): 100%|██████████| 20/20 [00:33<00:00,  1.66s/it]\n",
      "Validate (3800 / 10 Steps): 100%|██████████| 8/8 [00:27<00:00,  3.39s/it]4<?, ?it/s]\n",
      "Training (3800 / 18000 Steps) (loss=0.65722):   5%|▌         | 1/20 [00:32<10:14, 32.33s/it]"
     ]
    },
    {
     "name": "stdout",
     "output_type": "stream",
     "text": [
      "Model Was Saved ! Current Best Avg. Dice: 0.06936618685722351 Current Avg. Dice: 0.06936618685722351 Current Avg. tumor Dice: 0.13434633612632751 Current Avg. lymph Dice: 0.004996178206056356\n"
     ]
    },
    {
     "name": "stderr",
     "output_type": "stream",
     "text": [
      "Training (3819 / 18000 Steps) (loss=0.64048): 100%|██████████| 20/20 [01:01<00:00,  3.06s/it]\n",
      "Training (3839 / 18000 Steps) (loss=0.64613): 100%|██████████| 20/20 [00:33<00:00,  1.68s/it]\n",
      "Training (3859 / 18000 Steps) (loss=0.63064): 100%|██████████| 20/20 [00:33<00:00,  1.68s/it]\n",
      "Training (3879 / 18000 Steps) (loss=0.68823): 100%|██████████| 20/20 [00:33<00:00,  1.69s/it]\n",
      "Training (3899 / 18000 Steps) (loss=0.63091): 100%|██████████| 20/20 [00:33<00:00,  1.67s/it]\n",
      "Validate (3900 / 10 Steps): 100%|██████████| 8/8 [00:27<00:00,  3.39s/it]4<?, ?it/s]\n",
      "Training (3900 / 18000 Steps) (loss=0.63916):   5%|▌         | 1/20 [00:32<10:16, 32.43s/it]"
     ]
    },
    {
     "name": "stdout",
     "output_type": "stream",
     "text": [
      "Model Was Saved ! Current Best Avg. Dice: 0.06958385556936264 Current Avg. Dice: 0.06958385556936264 Current Avg. tumor Dice: 0.13908693194389343 Current Avg. lymph Dice: 9.32088732952252e-05\n"
     ]
    },
    {
     "name": "stderr",
     "output_type": "stream",
     "text": [
      "Training (3919 / 18000 Steps) (loss=0.73007): 100%|██████████| 20/20 [01:01<00:00,  3.07s/it]\n",
      "Training (3939 / 18000 Steps) (loss=0.66021): 100%|██████████| 20/20 [00:33<00:00,  1.67s/it]\n",
      "Training (3959 / 18000 Steps) (loss=0.72633): 100%|██████████| 20/20 [00:33<00:00,  1.67s/it]\n",
      "Training (3979 / 18000 Steps) (loss=0.62929): 100%|██████████| 20/20 [00:33<00:00,  1.68s/it]\n",
      "Training (3999 / 18000 Steps) (loss=0.65923): 100%|██████████| 20/20 [00:33<00:00,  1.68s/it]\n",
      "Validate (4000 / 10 Steps): 100%|██████████| 8/8 [00:27<00:00,  3.41s/it]4<?, ?it/s]\n",
      "Training (4000 / 18000 Steps) (loss=0.61226):   5%|▌         | 1/20 [00:32<10:21, 32.73s/it]"
     ]
    },
    {
     "name": "stdout",
     "output_type": "stream",
     "text": [
      "Model Was Saved ! Current Best Avg. Dice: 0.11098833382129669 Current Avg. Dice: 0.11098833382129669 Current Avg. tumor Dice: 0.14434528350830078 Current Avg. lymph Dice: 0.08957470208406448\n"
     ]
    },
    {
     "name": "stderr",
     "output_type": "stream",
     "text": [
      "Training (4019 / 18000 Steps) (loss=0.64146): 100%|██████████| 20/20 [01:02<00:00,  3.12s/it]\n",
      "Training (4039 / 18000 Steps) (loss=0.67179): 100%|██████████| 20/20 [00:33<00:00,  1.69s/it]\n",
      "Training (4059 / 18000 Steps) (loss=0.61312): 100%|██████████| 20/20 [00:33<00:00,  1.70s/it]\n",
      "Training (4079 / 18000 Steps) (loss=0.70720): 100%|██████████| 20/20 [00:33<00:00,  1.67s/it]\n",
      "Training (4099 / 18000 Steps) (loss=0.64106): 100%|██████████| 20/20 [00:33<00:00,  1.69s/it]\n",
      "Validate (4100 / 10 Steps): 100%|██████████| 8/8 [00:27<00:00,  3.39s/it]4<?, ?it/s]\n",
      "Training (4100 / 18000 Steps) (loss=0.61578):   5%|▌         | 1/20 [00:31<10:00, 31.63s/it]"
     ]
    },
    {
     "name": "stdout",
     "output_type": "stream",
     "text": [
      "Model Was Not Saved ! Current Best Avg. Dice: 0.11098833382129669 Current Avg. Dice: 0.10974564403295517 Current Avg. tumor Dice: 0.16330215334892273 Current Avg. lymph Dice: 0.0648152157664299\n"
     ]
    },
    {
     "name": "stderr",
     "output_type": "stream",
     "text": [
      "Training (4119 / 18000 Steps) (loss=0.51091): 100%|██████████| 20/20 [01:00<00:00,  3.04s/it]\n",
      "Training (4139 / 18000 Steps) (loss=0.61941): 100%|██████████| 20/20 [00:33<00:00,  1.69s/it]\n",
      "Training (4159 / 18000 Steps) (loss=0.45919): 100%|██████████| 20/20 [00:33<00:00,  1.69s/it]\n",
      "Training (4179 / 18000 Steps) (loss=0.70491): 100%|██████████| 20/20 [00:33<00:00,  1.68s/it]\n",
      "Training (4199 / 18000 Steps) (loss=0.66349): 100%|██████████| 20/20 [00:33<00:00,  1.67s/it]\n",
      "Validate (4200 / 10 Steps): 100%|██████████| 8/8 [00:27<00:00,  3.40s/it]4<?, ?it/s]\n",
      "Training (4200 / 18000 Steps) (loss=0.65157):   5%|▌         | 1/20 [00:31<10:02, 31.72s/it]"
     ]
    },
    {
     "name": "stdout",
     "output_type": "stream",
     "text": [
      "Model Was Not Saved ! Current Best Avg. Dice: 0.11098833382129669 Current Avg. Dice: 0.020678099244832993 Current Avg. tumor Dice: 0.011745670810341835 Current Avg. lymph Dice: 0.034165993332862854\n"
     ]
    },
    {
     "name": "stderr",
     "output_type": "stream",
     "text": [
      "Training (4219 / 18000 Steps) (loss=0.67828): 100%|██████████| 20/20 [01:00<00:00,  3.03s/it]\n",
      "Training (4239 / 18000 Steps) (loss=0.75020): 100%|██████████| 20/20 [00:33<00:00,  1.68s/it]\n",
      "Training (4259 / 18000 Steps) (loss=0.67940): 100%|██████████| 20/20 [00:33<00:00,  1.66s/it]\n",
      "Training (4279 / 18000 Steps) (loss=0.58007): 100%|██████████| 20/20 [00:33<00:00,  1.68s/it]\n",
      "Training (4299 / 18000 Steps) (loss=0.60685): 100%|██████████| 20/20 [00:33<00:00,  1.67s/it]\n",
      "Validate (4300 / 10 Steps): 100%|██████████| 8/8 [00:27<00:00,  3.40s/it]4<?, ?it/s]\n",
      "Training (4300 / 18000 Steps) (loss=0.65929):   5%|▌         | 1/20 [00:32<10:18, 32.54s/it]"
     ]
    },
    {
     "name": "stdout",
     "output_type": "stream",
     "text": [
      "Model Was Saved ! Current Best Avg. Dice: 0.11682634055614471 Current Avg. Dice: 0.11682634055614471 Current Avg. tumor Dice: 0.15614305436611176 Current Avg. lymph Dice: 0.08921464532613754\n"
     ]
    },
    {
     "name": "stderr",
     "output_type": "stream",
     "text": [
      "Training (4319 / 18000 Steps) (loss=0.60089): 100%|██████████| 20/20 [01:01<00:00,  3.08s/it]\n",
      "Training (4339 / 18000 Steps) (loss=0.69643): 100%|██████████| 20/20 [00:33<00:00,  1.67s/it]\n",
      "Training (4359 / 18000 Steps) (loss=0.68543): 100%|██████████| 20/20 [00:33<00:00,  1.67s/it]\n",
      "Training (4379 / 18000 Steps) (loss=0.57358): 100%|██████████| 20/20 [00:33<00:00,  1.66s/it]\n",
      "Training (4399 / 18000 Steps) (loss=0.54122): 100%|██████████| 20/20 [00:33<00:00,  1.65s/it]\n",
      "Validate (4400 / 10 Steps): 100%|██████████| 8/8 [00:27<00:00,  3.38s/it]4<?, ?it/s]\n",
      "Training (4400 / 18000 Steps) (loss=0.65355):   5%|▌         | 1/20 [00:31<10:01, 31.67s/it]"
     ]
    },
    {
     "name": "stdout",
     "output_type": "stream",
     "text": [
      "Model Was Not Saved ! Current Best Avg. Dice: 0.11682634055614471 Current Avg. Dice: 0.08759191632270813 Current Avg. tumor Dice: 0.12477795034646988 Current Avg. lymph Dice: 0.05816064774990082\n"
     ]
    },
    {
     "name": "stderr",
     "output_type": "stream",
     "text": [
      "Training (4419 / 18000 Steps) (loss=0.64921): 100%|██████████| 20/20 [01:00<00:00,  3.02s/it]\n",
      "Training (4439 / 18000 Steps) (loss=0.66421): 100%|██████████| 20/20 [00:33<00:00,  1.67s/it]\n",
      "Training (4459 / 18000 Steps) (loss=0.68249): 100%|██████████| 20/20 [00:33<00:00,  1.66s/it]\n",
      "Training (4479 / 18000 Steps) (loss=0.68198): 100%|██████████| 20/20 [00:33<00:00,  1.68s/it]\n",
      "Training (4499 / 18000 Steps) (loss=0.64071): 100%|██████████| 20/20 [00:33<00:00,  1.68s/it]\n",
      "Validate (4500 / 10 Steps): 100%|██████████| 8/8 [00:27<00:00,  3.39s/it]4<?, ?it/s]\n",
      "Training (4500 / 18000 Steps) (loss=0.65071):   5%|▌         | 1/20 [00:31<09:56, 31.37s/it]"
     ]
    },
    {
     "name": "stdout",
     "output_type": "stream",
     "text": [
      "Model Was Not Saved ! Current Best Avg. Dice: 0.11682634055614471 Current Avg. Dice: 0.0914347916841507 Current Avg. tumor Dice: 0.11620750278234482 Current Avg. lymph Dice: 0.07691778242588043\n"
     ]
    },
    {
     "name": "stderr",
     "output_type": "stream",
     "text": [
      "Training (4519 / 18000 Steps) (loss=0.59998): 100%|██████████| 20/20 [01:00<00:00,  3.02s/it]\n",
      "Training (4539 / 18000 Steps) (loss=0.61065): 100%|██████████| 20/20 [00:33<00:00,  1.68s/it]\n",
      "Training (4559 / 18000 Steps) (loss=0.57991): 100%|██████████| 20/20 [00:33<00:00,  1.66s/it]\n",
      "Training (4579 / 18000 Steps) (loss=0.69489): 100%|██████████| 20/20 [00:33<00:00,  1.68s/it]\n",
      "Training (4599 / 18000 Steps) (loss=0.62278): 100%|██████████| 20/20 [00:33<00:00,  1.67s/it]\n",
      "Validate (4600 / 10 Steps): 100%|██████████| 8/8 [00:27<00:00,  3.39s/it]4<?, ?it/s]\n",
      "Training (4600 / 18000 Steps) (loss=0.55479):   5%|▌         | 1/20 [00:31<10:02, 31.72s/it]"
     ]
    },
    {
     "name": "stdout",
     "output_type": "stream",
     "text": [
      "Model Was Not Saved ! Current Best Avg. Dice: 0.11682634055614471 Current Avg. Dice: 0.08372081816196442 Current Avg. tumor Dice: 0.1408824920654297 Current Avg. lymph Dice: 0.030645163729786873\n"
     ]
    },
    {
     "name": "stderr",
     "output_type": "stream",
     "text": [
      "Training (4619 / 18000 Steps) (loss=0.62833): 100%|██████████| 20/20 [01:00<00:00,  3.03s/it]\n",
      "Training (4639 / 18000 Steps) (loss=0.70890): 100%|██████████| 20/20 [00:33<00:00,  1.66s/it]\n",
      "Training (4659 / 18000 Steps) (loss=0.55690): 100%|██████████| 20/20 [00:33<00:00,  1.67s/it]\n",
      "Training (4679 / 18000 Steps) (loss=0.64120): 100%|██████████| 20/20 [00:33<00:00,  1.66s/it]\n",
      "Training (4699 / 18000 Steps) (loss=0.62075): 100%|██████████| 20/20 [00:33<00:00,  1.66s/it]\n",
      "Validate (4700 / 10 Steps): 100%|██████████| 8/8 [00:27<00:00,  3.39s/it]4<?, ?it/s]\n",
      "Training (4700 / 18000 Steps) (loss=0.61046):   5%|▌         | 1/20 [00:31<10:01, 31.66s/it]"
     ]
    },
    {
     "name": "stdout",
     "output_type": "stream",
     "text": [
      "Model Was Not Saved ! Current Best Avg. Dice: 0.11682634055614471 Current Avg. Dice: 0.11497987061738968 Current Avg. tumor Dice: 0.1686682403087616 Current Avg. lymph Dice: 0.07072098553180695\n"
     ]
    },
    {
     "name": "stderr",
     "output_type": "stream",
     "text": [
      "Training (4719 / 18000 Steps) (loss=0.64861): 100%|██████████| 20/20 [01:00<00:00,  3.02s/it]\n",
      "Training (4739 / 18000 Steps) (loss=0.68160): 100%|██████████| 20/20 [00:33<00:00,  1.66s/it]\n",
      "Training (4759 / 18000 Steps) (loss=0.66402): 100%|██████████| 20/20 [00:33<00:00,  1.67s/it]\n",
      "Training (4779 / 18000 Steps) (loss=0.56246): 100%|██████████| 20/20 [00:33<00:00,  1.68s/it]\n",
      "Training (4799 / 18000 Steps) (loss=0.67153): 100%|██████████| 20/20 [00:33<00:00,  1.67s/it]\n",
      "Validate (4800 / 10 Steps): 100%|██████████| 8/8 [00:27<00:00,  3.38s/it]4<?, ?it/s]\n",
      "Training (4800 / 18000 Steps) (loss=0.66091):   5%|▌         | 1/20 [00:32<10:16, 32.43s/it]"
     ]
    },
    {
     "name": "stdout",
     "output_type": "stream",
     "text": [
      "Model Was Saved ! Current Best Avg. Dice: 0.11999046057462692 Current Avg. Dice: 0.11999046057462692 Current Avg. tumor Dice: 0.20696285367012024 Current Avg. lymph Dice: 0.03809775039553642\n"
     ]
    },
    {
     "name": "stderr",
     "output_type": "stream",
     "text": [
      "Training (4819 / 18000 Steps) (loss=0.64412): 100%|██████████| 20/20 [01:01<00:00,  3.09s/it]\n",
      "Training (4839 / 18000 Steps) (loss=0.58615): 100%|██████████| 20/20 [00:33<00:00,  1.68s/it]\n",
      "Training (4859 / 18000 Steps) (loss=0.58476): 100%|██████████| 20/20 [00:33<00:00,  1.66s/it]\n",
      "Training (4879 / 18000 Steps) (loss=0.58483): 100%|██████████| 20/20 [00:33<00:00,  1.68s/it]\n",
      "Training (4899 / 18000 Steps) (loss=0.57401): 100%|██████████| 20/20 [00:33<00:00,  1.68s/it]\n",
      "Validate (4900 / 10 Steps): 100%|██████████| 8/8 [00:27<00:00,  3.39s/it]4<?, ?it/s]\n",
      "Training (4900 / 18000 Steps) (loss=0.63353):   5%|▌         | 1/20 [00:32<10:17, 32.50s/it]"
     ]
    },
    {
     "name": "stdout",
     "output_type": "stream",
     "text": [
      "Model Was Saved ! Current Best Avg. Dice: 0.1484975814819336 Current Avg. Dice: 0.1484975814819336 Current Avg. tumor Dice: 0.19123251736164093 Current Avg. lymph Dice: 0.12203383445739746\n"
     ]
    },
    {
     "name": "stderr",
     "output_type": "stream",
     "text": [
      "Training (4919 / 18000 Steps) (loss=0.60045): 100%|██████████| 20/20 [01:01<00:00,  3.08s/it]\n",
      "Training (4939 / 18000 Steps) (loss=0.67738): 100%|██████████| 20/20 [00:33<00:00,  1.67s/it]\n",
      "Training (4959 / 18000 Steps) (loss=0.63607): 100%|██████████| 20/20 [00:33<00:00,  1.68s/it]\n",
      "Training (4979 / 18000 Steps) (loss=0.69049): 100%|██████████| 20/20 [00:33<00:00,  1.68s/it]\n",
      "Training (4999 / 18000 Steps) (loss=0.63461): 100%|██████████| 20/20 [00:33<00:00,  1.68s/it]\n",
      "Validate (5000 / 10 Steps): 100%|██████████| 8/8 [00:27<00:00,  3.40s/it]4<?, ?it/s]\n",
      "Training (5000 / 18000 Steps) (loss=0.63828):   5%|▌         | 1/20 [00:31<10:00, 31.63s/it]"
     ]
    },
    {
     "name": "stdout",
     "output_type": "stream",
     "text": [
      "Model Was Not Saved ! Current Best Avg. Dice: 0.1484975814819336 Current Avg. Dice: 0.10910860449075699 Current Avg. tumor Dice: 0.16779209673404694 Current Avg. lymph Dice: 0.05818282067775726\n"
     ]
    },
    {
     "name": "stderr",
     "output_type": "stream",
     "text": [
      "Training (5019 / 18000 Steps) (loss=0.57281): 100%|██████████| 20/20 [01:00<00:00,  3.02s/it]\n",
      "Training (5039 / 18000 Steps) (loss=0.55724): 100%|██████████| 20/20 [00:33<00:00,  1.67s/it]\n",
      "Training (5059 / 18000 Steps) (loss=0.61794): 100%|██████████| 20/20 [00:33<00:00,  1.67s/it]\n",
      "Training (5079 / 18000 Steps) (loss=0.64799): 100%|██████████| 20/20 [00:33<00:00,  1.66s/it]\n",
      "Training (5099 / 18000 Steps) (loss=0.68812): 100%|██████████| 20/20 [00:33<00:00,  1.66s/it]\n",
      "Validate (5100 / 10 Steps): 100%|██████████| 8/8 [00:27<00:00,  3.39s/it]4<?, ?it/s]\n",
      "Training (5100 / 18000 Steps) (loss=0.62269):   5%|▌         | 1/20 [00:31<10:03, 31.76s/it]"
     ]
    },
    {
     "name": "stdout",
     "output_type": "stream",
     "text": [
      "Model Was Not Saved ! Current Best Avg. Dice: 0.1484975814819336 Current Avg. Dice: 0.10216505080461502 Current Avg. tumor Dice: 0.14202626049518585 Current Avg. lymph Dice: 0.0718890056014061\n"
     ]
    },
    {
     "name": "stderr",
     "output_type": "stream",
     "text": [
      "Training (5119 / 18000 Steps) (loss=0.63287): 100%|██████████| 20/20 [01:00<00:00,  3.03s/it]\n",
      "Training (5139 / 18000 Steps) (loss=0.53532): 100%|██████████| 20/20 [00:33<00:00,  1.67s/it]\n",
      "Training (5159 / 18000 Steps) (loss=0.55619): 100%|██████████| 20/20 [00:33<00:00,  1.66s/it]\n",
      "Training (5179 / 18000 Steps) (loss=0.59852): 100%|██████████| 20/20 [00:33<00:00,  1.67s/it]\n",
      "Training (5199 / 18000 Steps) (loss=0.59402): 100%|██████████| 20/20 [00:33<00:00,  1.67s/it]\n",
      "Validate (5200 / 10 Steps): 100%|██████████| 8/8 [00:27<00:00,  3.38s/it]4<?, ?it/s]\n",
      "Training (5200 / 18000 Steps) (loss=0.60876):   5%|▌         | 1/20 [00:31<09:57, 31.47s/it]"
     ]
    },
    {
     "name": "stdout",
     "output_type": "stream",
     "text": [
      "Model Was Not Saved ! Current Best Avg. Dice: 0.1484975814819336 Current Avg. Dice: 0.12191912531852722 Current Avg. tumor Dice: 0.17858918011188507 Current Avg. lymph Dice: 0.07528737932443619\n"
     ]
    },
    {
     "name": "stderr",
     "output_type": "stream",
     "text": [
      "Training (5219 / 18000 Steps) (loss=0.54702): 100%|██████████| 20/20 [01:00<00:00,  3.02s/it]\n",
      "Training (5239 / 18000 Steps) (loss=0.56534): 100%|██████████| 20/20 [00:33<00:00,  1.67s/it]\n",
      "Training (5259 / 18000 Steps) (loss=0.55876): 100%|██████████| 20/20 [00:33<00:00,  1.66s/it]\n",
      "Training (5279 / 18000 Steps) (loss=0.54241): 100%|██████████| 20/20 [00:33<00:00,  1.68s/it]\n",
      "Training (5299 / 18000 Steps) (loss=0.59854): 100%|██████████| 20/20 [00:33<00:00,  1.66s/it]\n",
      "Validate (5300 / 10 Steps): 100%|██████████| 8/8 [00:27<00:00,  3.39s/it]4<?, ?it/s]\n",
      "Training (5300 / 18000 Steps) (loss=0.59225):   5%|▌         | 1/20 [00:31<09:59, 31.56s/it]"
     ]
    },
    {
     "name": "stdout",
     "output_type": "stream",
     "text": [
      "Model Was Not Saved ! Current Best Avg. Dice: 0.1484975814819336 Current Avg. Dice: 0.14426548779010773 Current Avg. tumor Dice: 0.1939680278301239 Current Avg. lymph Dice: 0.10911114513874054\n"
     ]
    },
    {
     "name": "stderr",
     "output_type": "stream",
     "text": [
      "Training (5319 / 18000 Steps) (loss=0.59310): 100%|██████████| 20/20 [01:00<00:00,  3.02s/it]\n",
      "Training (5339 / 18000 Steps) (loss=0.64400): 100%|██████████| 20/20 [00:33<00:00,  1.68s/it]\n",
      "Training (5359 / 18000 Steps) (loss=0.62030): 100%|██████████| 20/20 [00:33<00:00,  1.68s/it]\n",
      "Training (5379 / 18000 Steps) (loss=0.53003): 100%|██████████| 20/20 [00:33<00:00,  1.68s/it]\n",
      "Training (5399 / 18000 Steps) (loss=0.59006): 100%|██████████| 20/20 [00:33<00:00,  1.66s/it]\n",
      "Validate (5400 / 10 Steps): 100%|██████████| 8/8 [00:27<00:00,  3.42s/it]4<?, ?it/s]\n",
      "Training (5400 / 18000 Steps) (loss=0.61827):   5%|▌         | 1/20 [00:31<10:04, 31.84s/it]"
     ]
    },
    {
     "name": "stdout",
     "output_type": "stream",
     "text": [
      "Model Was Not Saved ! Current Best Avg. Dice: 0.1484975814819336 Current Avg. Dice: 0.1284460425376892 Current Avg. tumor Dice: 0.16321052610874176 Current Avg. lymph Dice: 0.10809413343667984\n"
     ]
    },
    {
     "name": "stderr",
     "output_type": "stream",
     "text": [
      "Training (5419 / 18000 Steps) (loss=0.46423): 100%|██████████| 20/20 [01:00<00:00,  3.03s/it]\n",
      "Training (5439 / 18000 Steps) (loss=0.57673): 100%|██████████| 20/20 [00:33<00:00,  1.66s/it]\n",
      "Training (5459 / 18000 Steps) (loss=0.50683): 100%|██████████| 20/20 [00:33<00:00,  1.67s/it]\n",
      "Training (5479 / 18000 Steps) (loss=0.51151): 100%|██████████| 20/20 [00:33<00:00,  1.66s/it]\n",
      "Training (5499 / 18000 Steps) (loss=0.66622): 100%|██████████| 20/20 [00:33<00:00,  1.69s/it]\n",
      "Validate (5500 / 10 Steps): 100%|██████████| 8/8 [00:27<00:00,  3.38s/it]4<?, ?it/s]\n",
      "Training (5500 / 18000 Steps) (loss=0.64241):   5%|▌         | 1/20 [00:31<09:56, 31.41s/it]"
     ]
    },
    {
     "name": "stdout",
     "output_type": "stream",
     "text": [
      "Model Was Not Saved ! Current Best Avg. Dice: 0.1484975814819336 Current Avg. Dice: 0.13765506446361542 Current Avg. tumor Dice: 0.19131995737552643 Current Avg. lymph Dice: 0.09513665735721588\n"
     ]
    },
    {
     "name": "stderr",
     "output_type": "stream",
     "text": [
      "Training (5519 / 18000 Steps) (loss=0.70197): 100%|██████████| 20/20 [01:00<00:00,  3.01s/it]\n",
      "Training (5539 / 18000 Steps) (loss=0.57944): 100%|██████████| 20/20 [00:33<00:00,  1.69s/it]\n",
      "Training (5559 / 18000 Steps) (loss=0.61468): 100%|██████████| 20/20 [00:33<00:00,  1.67s/it]\n",
      "Training (5579 / 18000 Steps) (loss=0.53529): 100%|██████████| 20/20 [00:33<00:00,  1.69s/it]\n",
      "Training (5599 / 18000 Steps) (loss=0.60826): 100%|██████████| 20/20 [00:33<00:00,  1.68s/it]\n",
      "Validate (5600 / 10 Steps): 100%|██████████| 8/8 [00:27<00:00,  3.38s/it]4<?, ?it/s]\n",
      "Training (5600 / 18000 Steps) (loss=0.69159):   5%|▌         | 1/20 [00:31<10:01, 31.64s/it]"
     ]
    },
    {
     "name": "stdout",
     "output_type": "stream",
     "text": [
      "Model Was Not Saved ! Current Best Avg. Dice: 0.1484975814819336 Current Avg. Dice: 0.12555082142353058 Current Avg. tumor Dice: 0.16798684000968933 Current Avg. lymph Dice: 0.0959017276763916\n"
     ]
    },
    {
     "name": "stderr",
     "output_type": "stream",
     "text": [
      "Training (5619 / 18000 Steps) (loss=0.58132): 100%|██████████| 20/20 [01:00<00:00,  3.04s/it]\n",
      "Training (5639 / 18000 Steps) (loss=0.56558): 100%|██████████| 20/20 [00:33<00:00,  1.68s/it]\n",
      "Training (5659 / 18000 Steps) (loss=0.65739): 100%|██████████| 20/20 [00:33<00:00,  1.67s/it]\n",
      "Training (5679 / 18000 Steps) (loss=0.65329): 100%|██████████| 20/20 [00:33<00:00,  1.69s/it]\n",
      "Training (5699 / 18000 Steps) (loss=0.45287): 100%|██████████| 20/20 [00:33<00:00,  1.68s/it]\n",
      "Validate (5700 / 10 Steps): 100%|██████████| 8/8 [00:27<00:00,  3.41s/it]4<?, ?it/s]\n",
      "Training (5700 / 18000 Steps) (loss=0.54057):   5%|▌         | 1/20 [00:32<10:19, 32.60s/it]"
     ]
    },
    {
     "name": "stdout",
     "output_type": "stream",
     "text": [
      "Model Was Saved ! Current Best Avg. Dice: 0.17482084035873413 Current Avg. Dice: 0.17482084035873413 Current Avg. tumor Dice: 0.21515512466430664 Current Avg. lymph Dice: 0.1527218222618103\n"
     ]
    },
    {
     "name": "stderr",
     "output_type": "stream",
     "text": [
      "Training (5719 / 18000 Steps) (loss=0.59186): 100%|██████████| 20/20 [01:01<00:00,  3.07s/it]\n",
      "Training (5739 / 18000 Steps) (loss=0.48265): 100%|██████████| 20/20 [00:33<00:00,  1.67s/it]\n",
      "Training (5759 / 18000 Steps) (loss=0.66640): 100%|██████████| 20/20 [00:33<00:00,  1.68s/it]\n",
      "Training (5779 / 18000 Steps) (loss=0.50454): 100%|██████████| 20/20 [00:33<00:00,  1.66s/it]\n",
      "Training (5799 / 18000 Steps) (loss=0.57785): 100%|██████████| 20/20 [00:33<00:00,  1.67s/it]\n",
      "Validate (5800 / 10 Steps): 100%|██████████| 8/8 [00:27<00:00,  3.38s/it]4<?, ?it/s]\n",
      "Training (5800 / 18000 Steps) (loss=0.65627):   5%|▌         | 1/20 [00:31<09:59, 31.53s/it]"
     ]
    },
    {
     "name": "stdout",
     "output_type": "stream",
     "text": [
      "Model Was Not Saved ! Current Best Avg. Dice: 0.17482084035873413 Current Avg. Dice: 0.16169977188110352 Current Avg. tumor Dice: 0.2167762666940689 Current Avg. lymph Dice: 0.11888690292835236\n"
     ]
    },
    {
     "name": "stderr",
     "output_type": "stream",
     "text": [
      "Training (5819 / 18000 Steps) (loss=0.54914): 100%|██████████| 20/20 [01:00<00:00,  3.02s/it]\n",
      "Training (5839 / 18000 Steps) (loss=0.61779): 100%|██████████| 20/20 [00:33<00:00,  1.67s/it]\n",
      "Training (5859 / 18000 Steps) (loss=0.63620): 100%|██████████| 20/20 [00:33<00:00,  1.67s/it]\n",
      "Training (5879 / 18000 Steps) (loss=0.60865): 100%|██████████| 20/20 [00:33<00:00,  1.66s/it]\n",
      "Training (5899 / 18000 Steps) (loss=0.55729): 100%|██████████| 20/20 [00:33<00:00,  1.67s/it]\n",
      "Validate (5900 / 10 Steps): 100%|██████████| 8/8 [00:27<00:00,  3.39s/it]4<?, ?it/s]\n",
      "Training (5900 / 18000 Steps) (loss=0.55153):   5%|▌         | 1/20 [00:31<10:01, 31.64s/it]"
     ]
    },
    {
     "name": "stdout",
     "output_type": "stream",
     "text": [
      "Model Was Not Saved ! Current Best Avg. Dice: 0.17482084035873413 Current Avg. Dice: 0.1136331707239151 Current Avg. tumor Dice: 0.1583125740289688 Current Avg. lymph Dice: 0.07787182927131653\n"
     ]
    },
    {
     "name": "stderr",
     "output_type": "stream",
     "text": [
      "Training (5919 / 18000 Steps) (loss=0.65314): 100%|██████████| 20/20 [01:00<00:00,  3.02s/it]\n",
      "Training (5939 / 18000 Steps) (loss=0.62374): 100%|██████████| 20/20 [00:33<00:00,  1.67s/it]\n",
      "Training (5959 / 18000 Steps) (loss=0.60050): 100%|██████████| 20/20 [00:33<00:00,  1.67s/it]\n",
      "Training (5979 / 18000 Steps) (loss=0.68432): 100%|██████████| 20/20 [00:33<00:00,  1.68s/it]\n",
      "Training (5999 / 18000 Steps) (loss=0.53231): 100%|██████████| 20/20 [00:33<00:00,  1.67s/it]\n",
      "Validate (6000 / 10 Steps): 100%|██████████| 8/8 [00:27<00:00,  3.39s/it]4<?, ?it/s]\n",
      "Training (6000 / 18000 Steps) (loss=0.49850):   5%|▌         | 1/20 [00:31<10:00, 31.61s/it]"
     ]
    },
    {
     "name": "stdout",
     "output_type": "stream",
     "text": [
      "Model Was Not Saved ! Current Best Avg. Dice: 0.17482084035873413 Current Avg. Dice: 0.10040252655744553 Current Avg. tumor Dice: 0.16605739295482635 Current Avg. lymph Dice: 0.04009347781538963\n"
     ]
    },
    {
     "name": "stderr",
     "output_type": "stream",
     "text": [
      "Training (6019 / 18000 Steps) (loss=0.62586): 100%|██████████| 20/20 [01:00<00:00,  3.02s/it]\n",
      "Training (6039 / 18000 Steps) (loss=0.65012): 100%|██████████| 20/20 [00:33<00:00,  1.65s/it]\n",
      "Training (6059 / 18000 Steps) (loss=0.52950): 100%|██████████| 20/20 [00:33<00:00,  1.67s/it]\n",
      "Training (6079 / 18000 Steps) (loss=0.58927): 100%|██████████| 20/20 [00:33<00:00,  1.67s/it]\n",
      "Training (6099 / 18000 Steps) (loss=0.67068): 100%|██████████| 20/20 [00:33<00:00,  1.66s/it]\n",
      "Validate (6100 / 10 Steps): 100%|██████████| 8/8 [00:27<00:00,  3.39s/it]4<?, ?it/s]\n",
      "Training (6100 / 18000 Steps) (loss=0.59231):   5%|▌         | 1/20 [00:31<10:07, 31.98s/it]"
     ]
    },
    {
     "name": "stdout",
     "output_type": "stream",
     "text": [
      "Model Was Not Saved ! Current Best Avg. Dice: 0.17482084035873413 Current Avg. Dice: 0.08283186703920364 Current Avg. tumor Dice: 0.1370130181312561 Current Avg. lymph Dice: 0.033058516681194305\n"
     ]
    },
    {
     "name": "stderr",
     "output_type": "stream",
     "text": [
      "Training (6119 / 18000 Steps) (loss=0.69898): 100%|██████████| 20/20 [01:00<00:00,  3.04s/it]\n",
      "Training (6139 / 18000 Steps) (loss=0.55535): 100%|██████████| 20/20 [00:33<00:00,  1.67s/it]\n",
      "Training (6159 / 18000 Steps) (loss=0.57375): 100%|██████████| 20/20 [00:33<00:00,  1.68s/it]\n",
      "Training (6179 / 18000 Steps) (loss=0.64692): 100%|██████████| 20/20 [00:33<00:00,  1.67s/it]\n",
      "Training (6199 / 18000 Steps) (loss=0.65221): 100%|██████████| 20/20 [00:33<00:00,  1.68s/it]\n",
      "Validate (6200 / 10 Steps): 100%|██████████| 8/8 [00:27<00:00,  3.39s/it]4<?, ?it/s]\n",
      "Training (6200 / 18000 Steps) (loss=0.55364):   5%|▌         | 1/20 [00:31<10:00, 31.61s/it]"
     ]
    },
    {
     "name": "stdout",
     "output_type": "stream",
     "text": [
      "Model Was Not Saved ! Current Best Avg. Dice: 0.17482084035873413 Current Avg. Dice: 0.14276479184627533 Current Avg. tumor Dice: 0.17579682171344757 Current Avg. lymph Dice: 0.12573164701461792\n"
     ]
    },
    {
     "name": "stderr",
     "output_type": "stream",
     "text": [
      "Training (6219 / 18000 Steps) (loss=0.49112): 100%|██████████| 20/20 [01:00<00:00,  3.02s/it]\n",
      "Training (6239 / 18000 Steps) (loss=0.64282): 100%|██████████| 20/20 [00:33<00:00,  1.67s/it]\n",
      "Training (6259 / 18000 Steps) (loss=0.51926): 100%|██████████| 20/20 [00:33<00:00,  1.67s/it]\n",
      "Training (6279 / 18000 Steps) (loss=0.57984): 100%|██████████| 20/20 [00:33<00:00,  1.67s/it]\n",
      "Training (6299 / 18000 Steps) (loss=0.61285): 100%|██████████| 20/20 [00:33<00:00,  1.68s/it]\n",
      "Validate (6300 / 10 Steps): 100%|██████████| 8/8 [00:27<00:00,  3.39s/it]4<?, ?it/s]\n",
      "Training (6300 / 18000 Steps) (loss=0.62673):   5%|▌         | 1/20 [00:31<09:58, 31.50s/it]"
     ]
    },
    {
     "name": "stdout",
     "output_type": "stream",
     "text": [
      "Model Was Not Saved ! Current Best Avg. Dice: 0.17482084035873413 Current Avg. Dice: 0.15936975181102753 Current Avg. tumor Dice: 0.2060783952474594 Current Avg. lymph Dice: 0.12999358773231506\n"
     ]
    },
    {
     "name": "stderr",
     "output_type": "stream",
     "text": [
      "Training (6319 / 18000 Steps) (loss=0.60642): 100%|██████████| 20/20 [01:00<00:00,  3.02s/it]\n",
      "Training (6339 / 18000 Steps) (loss=0.62092): 100%|██████████| 20/20 [00:33<00:00,  1.67s/it]\n",
      "Training (6359 / 18000 Steps) (loss=0.55446): 100%|██████████| 20/20 [00:33<00:00,  1.67s/it]\n",
      "Training (6379 / 18000 Steps) (loss=0.54907): 100%|██████████| 20/20 [00:33<00:00,  1.67s/it]\n",
      "Training (6399 / 18000 Steps) (loss=0.45628): 100%|██████████| 20/20 [00:33<00:00,  1.66s/it]\n",
      "Validate (6400 / 10 Steps): 100%|██████████| 8/8 [00:27<00:00,  3.38s/it]4<?, ?it/s]\n",
      "Training (6400 / 18000 Steps) (loss=0.54091):   5%|▌         | 1/20 [00:31<10:01, 31.64s/it]"
     ]
    },
    {
     "name": "stdout",
     "output_type": "stream",
     "text": [
      "Model Was Not Saved ! Current Best Avg. Dice: 0.17482084035873413 Current Avg. Dice: 0.13050749897956848 Current Avg. tumor Dice: 0.17356723546981812 Current Avg. lymph Dice: 0.10090126097202301\n"
     ]
    },
    {
     "name": "stderr",
     "output_type": "stream",
     "text": [
      "Training (6419 / 18000 Steps) (loss=0.59358): 100%|██████████| 20/20 [01:00<00:00,  3.03s/it]\n",
      "Training (6439 / 18000 Steps) (loss=0.64028): 100%|██████████| 20/20 [00:33<00:00,  1.67s/it]\n",
      "Training (6459 / 18000 Steps) (loss=0.64525): 100%|██████████| 20/20 [00:33<00:00,  1.67s/it]\n",
      "Training (6479 / 18000 Steps) (loss=0.59318): 100%|██████████| 20/20 [00:33<00:00,  1.67s/it]\n",
      "Training (6499 / 18000 Steps) (loss=0.68464): 100%|██████████| 20/20 [00:33<00:00,  1.68s/it]\n",
      "Validate (6500 / 10 Steps): 100%|██████████| 8/8 [00:27<00:00,  3.39s/it]4<?, ?it/s]\n",
      "Training (6500 / 18000 Steps) (loss=0.62364):   5%|▌         | 1/20 [00:31<10:01, 31.67s/it]"
     ]
    },
    {
     "name": "stdout",
     "output_type": "stream",
     "text": [
      "Model Was Not Saved ! Current Best Avg. Dice: 0.17482084035873413 Current Avg. Dice: 0.1604173630475998 Current Avg. tumor Dice: 0.2040826827287674 Current Avg. lymph Dice: 0.13471391797065735\n"
     ]
    },
    {
     "name": "stderr",
     "output_type": "stream",
     "text": [
      "Training (6519 / 18000 Steps) (loss=0.57614): 100%|██████████| 20/20 [01:00<00:00,  3.03s/it]\n",
      "Training (6539 / 18000 Steps) (loss=0.53024): 100%|██████████| 20/20 [00:33<00:00,  1.66s/it]\n",
      "Training (6559 / 18000 Steps) (loss=0.60027): 100%|██████████| 20/20 [00:33<00:00,  1.69s/it]\n",
      "Training (6579 / 18000 Steps) (loss=0.48309): 100%|██████████| 20/20 [00:33<00:00,  1.67s/it]\n",
      "Training (6599 / 18000 Steps) (loss=0.66458): 100%|██████████| 20/20 [00:33<00:00,  1.67s/it]\n",
      "Validate (6600 / 10 Steps): 100%|██████████| 8/8 [00:27<00:00,  3.38s/it]4<?, ?it/s]\n",
      "Training (6600 / 18000 Steps) (loss=0.49574):   5%|▌         | 1/20 [00:31<09:58, 31.51s/it]"
     ]
    },
    {
     "name": "stdout",
     "output_type": "stream",
     "text": [
      "Model Was Not Saved ! Current Best Avg. Dice: 0.17482084035873413 Current Avg. Dice: 0.15129812061786652 Current Avg. tumor Dice: 0.190157949924469 Current Avg. lymph Dice: 0.1297365128993988\n"
     ]
    },
    {
     "name": "stderr",
     "output_type": "stream",
     "text": [
      "Training (6619 / 18000 Steps) (loss=0.71098): 100%|██████████| 20/20 [01:00<00:00,  3.02s/it]\n",
      "Training (6639 / 18000 Steps) (loss=0.56215): 100%|██████████| 20/20 [00:33<00:00,  1.67s/it]\n",
      "Training (6659 / 18000 Steps) (loss=0.59997): 100%|██████████| 20/20 [00:33<00:00,  1.67s/it]\n",
      "Training (6679 / 18000 Steps) (loss=0.58473): 100%|██████████| 20/20 [00:33<00:00,  1.66s/it]\n",
      "Training (6699 / 18000 Steps) (loss=0.61212): 100%|██████████| 20/20 [00:33<00:00,  1.68s/it]\n",
      "Validate (6700 / 10 Steps): 100%|██████████| 8/8 [00:27<00:00,  3.38s/it]4<?, ?it/s]\n",
      "Training (6700 / 18000 Steps) (loss=0.64377):   5%|▌         | 1/20 [00:31<09:57, 31.44s/it]"
     ]
    },
    {
     "name": "stdout",
     "output_type": "stream",
     "text": [
      "Model Was Not Saved ! Current Best Avg. Dice: 0.17482084035873413 Current Avg. Dice: 0.13093900680541992 Current Avg. tumor Dice: 0.19557024538516998 Current Avg. lymph Dice: 0.07643360644578934\n"
     ]
    },
    {
     "name": "stderr",
     "output_type": "stream",
     "text": [
      "Training (6719 / 18000 Steps) (loss=0.56608): 100%|██████████| 20/20 [01:00<00:00,  3.01s/it]\n",
      "Training (6739 / 18000 Steps) (loss=0.56707): 100%|██████████| 20/20 [00:33<00:00,  1.67s/it]\n",
      "Training (6759 / 18000 Steps) (loss=0.63073): 100%|██████████| 20/20 [00:33<00:00,  1.66s/it]\n",
      "Training (6779 / 18000 Steps) (loss=0.57928): 100%|██████████| 20/20 [00:33<00:00,  1.68s/it]\n",
      "Training (6799 / 18000 Steps) (loss=0.51843): 100%|██████████| 20/20 [00:33<00:00,  1.66s/it]\n",
      "Validate (6800 / 10 Steps): 100%|██████████| 8/8 [00:27<00:00,  3.40s/it]4<?, ?it/s]\n",
      "Training (6800 / 18000 Steps) (loss=0.48226):   5%|▌         | 1/20 [00:31<10:01, 31.64s/it]"
     ]
    },
    {
     "name": "stdout",
     "output_type": "stream",
     "text": [
      "Model Was Not Saved ! Current Best Avg. Dice: 0.17482084035873413 Current Avg. Dice: 0.15179826319217682 Current Avg. tumor Dice: 0.2027435302734375 Current Avg. lymph Dice: 0.1163688451051712\n"
     ]
    },
    {
     "name": "stderr",
     "output_type": "stream",
     "text": [
      "Training (6819 / 18000 Steps) (loss=0.57490): 100%|██████████| 20/20 [01:00<00:00,  3.03s/it]\n",
      "Training (6839 / 18000 Steps) (loss=0.59568): 100%|██████████| 20/20 [00:33<00:00,  1.68s/it]\n",
      "Training (6859 / 18000 Steps) (loss=0.41616): 100%|██████████| 20/20 [00:33<00:00,  1.67s/it]\n",
      "Training (6879 / 18000 Steps) (loss=0.64357): 100%|██████████| 20/20 [00:33<00:00,  1.67s/it]\n",
      "Training (6899 / 18000 Steps) (loss=0.60289): 100%|██████████| 20/20 [00:33<00:00,  1.67s/it]\n",
      "Validate (6900 / 10 Steps): 100%|██████████| 8/8 [00:27<00:00,  3.40s/it]4<?, ?it/s]\n",
      "Training (6900 / 18000 Steps) (loss=0.58694):   5%|▌         | 1/20 [00:31<09:58, 31.52s/it]"
     ]
    },
    {
     "name": "stdout",
     "output_type": "stream",
     "text": [
      "Model Was Not Saved ! Current Best Avg. Dice: 0.17482084035873413 Current Avg. Dice: 0.14624164998531342 Current Avg. tumor Dice: 0.19100353121757507 Current Avg. lymph Dice: 0.11709204316139221\n"
     ]
    },
    {
     "name": "stderr",
     "output_type": "stream",
     "text": [
      "Training (6919 / 18000 Steps) (loss=0.55020): 100%|██████████| 20/20 [01:00<00:00,  3.02s/it]\n",
      "Training (6939 / 18000 Steps) (loss=0.53229): 100%|██████████| 20/20 [00:33<00:00,  1.66s/it]\n",
      "Training (6959 / 18000 Steps) (loss=0.37617): 100%|██████████| 20/20 [00:33<00:00,  1.67s/it]\n",
      "Training (6979 / 18000 Steps) (loss=0.54663): 100%|██████████| 20/20 [00:33<00:00,  1.65s/it]\n",
      "Training (6999 / 18000 Steps) (loss=0.62963): 100%|██████████| 20/20 [00:33<00:00,  1.68s/it]\n",
      "Validate (7000 / 10 Steps): 100%|██████████| 8/8 [00:27<00:00,  3.39s/it]4<?, ?it/s]\n",
      "Training (7000 / 18000 Steps) (loss=0.55928):   5%|▌         | 1/20 [00:31<09:59, 31.56s/it]"
     ]
    },
    {
     "name": "stdout",
     "output_type": "stream",
     "text": [
      "Model Was Not Saved ! Current Best Avg. Dice: 0.17482084035873413 Current Avg. Dice: 0.1585898995399475 Current Avg. tumor Dice: 0.21681128442287445 Current Avg. lymph Dice: 0.11551764607429504\n"
     ]
    },
    {
     "name": "stderr",
     "output_type": "stream",
     "text": [
      "Training (7019 / 18000 Steps) (loss=0.66962): 100%|██████████| 20/20 [01:00<00:00,  3.02s/it]\n",
      "Training (7039 / 18000 Steps) (loss=0.53310): 100%|██████████| 20/20 [00:33<00:00,  1.67s/it]\n",
      "Training (7059 / 18000 Steps) (loss=0.60025): 100%|██████████| 20/20 [00:33<00:00,  1.67s/it]\n",
      "Training (7079 / 18000 Steps) (loss=0.62649): 100%|██████████| 20/20 [00:33<00:00,  1.67s/it]\n",
      "Training (7099 / 18000 Steps) (loss=0.67174): 100%|██████████| 20/20 [00:33<00:00,  1.67s/it]\n",
      "Validate (7100 / 10 Steps): 100%|██████████| 8/8 [00:27<00:00,  3.39s/it]4<?, ?it/s]\n",
      "Training (7100 / 18000 Steps) (loss=0.47193):   5%|▌         | 1/20 [00:32<10:18, 32.58s/it]"
     ]
    },
    {
     "name": "stdout",
     "output_type": "stream",
     "text": [
      "Model Was Saved ! Current Best Avg. Dice: 0.1827697604894638 Current Avg. Dice: 0.1827697604894638 Current Avg. tumor Dice: 0.2229931354522705 Current Avg. lymph Dice: 0.16442734003067017\n"
     ]
    },
    {
     "name": "stderr",
     "output_type": "stream",
     "text": [
      "Training (7119 / 18000 Steps) (loss=0.53284): 100%|██████████| 20/20 [01:01<00:00,  3.08s/it]\n",
      "Training (7139 / 18000 Steps) (loss=0.57459): 100%|██████████| 20/20 [00:33<00:00,  1.66s/it]\n",
      "Training (7159 / 18000 Steps) (loss=0.61514): 100%|██████████| 20/20 [00:33<00:00,  1.67s/it]\n",
      "Training (7179 / 18000 Steps) (loss=0.66809): 100%|██████████| 20/20 [00:33<00:00,  1.67s/it]\n",
      "Training (7199 / 18000 Steps) (loss=0.67370): 100%|██████████| 20/20 [00:33<00:00,  1.66s/it]\n",
      "Validate (7200 / 10 Steps): 100%|██████████| 8/8 [00:27<00:00,  3.40s/it]4<?, ?it/s]\n",
      "Training (7200 / 18000 Steps) (loss=0.59572):   5%|▌         | 1/20 [00:31<09:59, 31.55s/it]"
     ]
    },
    {
     "name": "stdout",
     "output_type": "stream",
     "text": [
      "Model Was Not Saved ! Current Best Avg. Dice: 0.1827697604894638 Current Avg. Dice: 0.15064261853694916 Current Avg. tumor Dice: 0.18886764347553253 Current Avg. lymph Dice: 0.12971258163452148\n"
     ]
    },
    {
     "name": "stderr",
     "output_type": "stream",
     "text": [
      "Training (7219 / 18000 Steps) (loss=0.51252): 100%|██████████| 20/20 [01:00<00:00,  3.02s/it]\n",
      "Training (7239 / 18000 Steps) (loss=0.61152): 100%|██████████| 20/20 [00:33<00:00,  1.65s/it]\n",
      "Training (7259 / 18000 Steps) (loss=0.57745): 100%|██████████| 20/20 [00:33<00:00,  1.68s/it]\n",
      "Training (7279 / 18000 Steps) (loss=0.56300): 100%|██████████| 20/20 [00:33<00:00,  1.67s/it]\n",
      "Training (7299 / 18000 Steps) (loss=0.63144): 100%|██████████| 20/20 [00:33<00:00,  1.67s/it]\n",
      "Validate (7300 / 10 Steps): 100%|██████████| 8/8 [00:27<00:00,  3.38s/it]4<?, ?it/s]\n",
      "Training (7300 / 18000 Steps) (loss=0.53881):   5%|▌         | 1/20 [00:31<09:56, 31.40s/it]"
     ]
    },
    {
     "name": "stdout",
     "output_type": "stream",
     "text": [
      "Model Was Not Saved ! Current Best Avg. Dice: 0.1827697604894638 Current Avg. Dice: 0.16435937583446503 Current Avg. tumor Dice: 0.19444234669208527 Current Avg. lymph Dice: 0.15493431687355042\n"
     ]
    },
    {
     "name": "stderr",
     "output_type": "stream",
     "text": [
      "Training (7319 / 18000 Steps) (loss=0.56410): 100%|██████████| 20/20 [01:00<00:00,  3.01s/it]\n",
      "Training (7339 / 18000 Steps) (loss=0.66785): 100%|██████████| 20/20 [00:33<00:00,  1.67s/it]\n",
      "Training (7359 / 18000 Steps) (loss=0.47788): 100%|██████████| 20/20 [00:33<00:00,  1.67s/it]\n",
      "Training (7379 / 18000 Steps) (loss=0.48084): 100%|██████████| 20/20 [00:33<00:00,  1.67s/it]\n",
      "Training (7399 / 18000 Steps) (loss=0.67296): 100%|██████████| 20/20 [00:33<00:00,  1.68s/it]\n",
      "Validate (7400 / 10 Steps): 100%|██████████| 8/8 [00:27<00:00,  3.39s/it]4<?, ?it/s]\n",
      "Training (7400 / 18000 Steps) (loss=0.61932):   5%|▌         | 1/20 [00:31<10:01, 31.64s/it]"
     ]
    },
    {
     "name": "stdout",
     "output_type": "stream",
     "text": [
      "Model Was Not Saved ! Current Best Avg. Dice: 0.1827697604894638 Current Avg. Dice: 0.13157561421394348 Current Avg. tumor Dice: 0.1962849646806717 Current Avg. lymph Dice: 0.07715336978435516\n"
     ]
    },
    {
     "name": "stderr",
     "output_type": "stream",
     "text": [
      "Training (7419 / 18000 Steps) (loss=0.60825): 100%|██████████| 20/20 [01:00<00:00,  3.02s/it]\n",
      "Training (7439 / 18000 Steps) (loss=0.57366): 100%|██████████| 20/20 [00:33<00:00,  1.67s/it]\n",
      "Training (7459 / 18000 Steps) (loss=0.56400): 100%|██████████| 20/20 [00:33<00:00,  1.66s/it]\n",
      "Training (7479 / 18000 Steps) (loss=0.52629): 100%|██████████| 20/20 [00:33<00:00,  1.68s/it]\n",
      "Training (7499 / 18000 Steps) (loss=0.51119): 100%|██████████| 20/20 [00:33<00:00,  1.66s/it]\n",
      "Validate (7500 / 10 Steps): 100%|██████████| 8/8 [00:27<00:00,  3.39s/it]4<?, ?it/s]\n",
      "Training (7500 / 18000 Steps) (loss=0.56590):   5%|▌         | 1/20 [00:31<09:59, 31.53s/it]"
     ]
    },
    {
     "name": "stdout",
     "output_type": "stream",
     "text": [
      "Model Was Not Saved ! Current Best Avg. Dice: 0.1827697604894638 Current Avg. Dice: 0.17382507026195526 Current Avg. tumor Dice: 0.22413858771324158 Current Avg. lymph Dice: 0.1422966569662094\n"
     ]
    },
    {
     "name": "stderr",
     "output_type": "stream",
     "text": [
      "Training (7519 / 18000 Steps) (loss=0.53606): 100%|██████████| 20/20 [01:00<00:00,  3.03s/it]\n",
      "Training (7539 / 18000 Steps) (loss=0.53899): 100%|██████████| 20/20 [00:33<00:00,  1.67s/it]\n",
      "Training (7559 / 18000 Steps) (loss=0.48650): 100%|██████████| 20/20 [00:33<00:00,  1.67s/it]\n",
      "Training (7579 / 18000 Steps) (loss=0.58615): 100%|██████████| 20/20 [00:33<00:00,  1.66s/it]\n",
      "Training (7599 / 18000 Steps) (loss=0.56430): 100%|██████████| 20/20 [00:33<00:00,  1.69s/it]\n",
      "Validate (7600 / 10 Steps): 100%|██████████| 8/8 [00:27<00:00,  3.39s/it]4<?, ?it/s]\n",
      "Training (7600 / 18000 Steps) (loss=0.52172):   5%|▌         | 1/20 [00:32<10:19, 32.58s/it]"
     ]
    },
    {
     "name": "stdout",
     "output_type": "stream",
     "text": [
      "Model Was Saved ! Current Best Avg. Dice: 0.1941649168729782 Current Avg. Dice: 0.1941649168729782 Current Avg. tumor Dice: 0.22671350836753845 Current Avg. lymph Dice: 0.18648038804531097\n"
     ]
    },
    {
     "name": "stderr",
     "output_type": "stream",
     "text": [
      "Training (7619 / 18000 Steps) (loss=0.79493): 100%|██████████| 20/20 [01:01<00:00,  3.10s/it]\n",
      "Training (7639 / 18000 Steps) (loss=0.44089): 100%|██████████| 20/20 [00:33<00:00,  1.67s/it]\n",
      "Training (7659 / 18000 Steps) (loss=0.52543): 100%|██████████| 20/20 [00:33<00:00,  1.68s/it]\n",
      "Training (7679 / 18000 Steps) (loss=0.52371): 100%|██████████| 20/20 [00:33<00:00,  1.66s/it]\n",
      "Training (7699 / 18000 Steps) (loss=0.72212): 100%|██████████| 20/20 [00:33<00:00,  1.67s/it]\n",
      "Validate (7700 / 10 Steps): 100%|██████████| 8/8 [00:27<00:00,  3.39s/it]4<?, ?it/s]\n",
      "Training (7700 / 18000 Steps) (loss=0.55675):   5%|▌         | 1/20 [00:31<09:59, 31.55s/it]"
     ]
    },
    {
     "name": "stdout",
     "output_type": "stream",
     "text": [
      "Model Was Not Saved ! Current Best Avg. Dice: 0.1941649168729782 Current Avg. Dice: 0.1550605297088623 Current Avg. tumor Dice: 0.22769512236118317 Current Avg. lymph Dice: 0.09510688483715057\n"
     ]
    },
    {
     "name": "stderr",
     "output_type": "stream",
     "text": [
      "Training (7719 / 18000 Steps) (loss=0.54954): 100%|██████████| 20/20 [01:00<00:00,  3.02s/it]\n",
      "Training (7739 / 18000 Steps) (loss=0.61270): 100%|██████████| 20/20 [00:33<00:00,  1.67s/it]\n",
      "Training (7759 / 18000 Steps) (loss=0.52692): 100%|██████████| 20/20 [00:33<00:00,  1.67s/it]\n",
      "Training (7779 / 18000 Steps) (loss=0.59093): 100%|██████████| 20/20 [00:33<00:00,  1.67s/it]\n",
      "Training (7799 / 18000 Steps) (loss=0.63308): 100%|██████████| 20/20 [00:33<00:00,  1.66s/it]\n",
      "Validate (7800 / 10 Steps): 100%|██████████| 8/8 [00:27<00:00,  3.39s/it]4<?, ?it/s]\n",
      "Training (7800 / 18000 Steps) (loss=0.55636):   5%|▌         | 1/20 [00:31<09:58, 31.52s/it]"
     ]
    },
    {
     "name": "stdout",
     "output_type": "stream",
     "text": [
      "Model Was Not Saved ! Current Best Avg. Dice: 0.1941649168729782 Current Avg. Dice: 0.14364047348499298 Current Avg. tumor Dice: 0.22179843485355377 Current Avg. lymph Dice: 0.07553181052207947\n"
     ]
    },
    {
     "name": "stderr",
     "output_type": "stream",
     "text": [
      "Training (7819 / 18000 Steps) (loss=0.63327): 100%|██████████| 20/20 [01:00<00:00,  3.02s/it]\n",
      "Training (7839 / 18000 Steps) (loss=0.42610): 100%|██████████| 20/20 [00:33<00:00,  1.67s/it]\n",
      "Training (7859 / 18000 Steps) (loss=0.57651): 100%|██████████| 20/20 [00:33<00:00,  1.67s/it]\n",
      "Training (7879 / 18000 Steps) (loss=0.65599): 100%|██████████| 20/20 [00:33<00:00,  1.67s/it]\n",
      "Training (7899 / 18000 Steps) (loss=0.55186): 100%|██████████| 20/20 [00:33<00:00,  1.66s/it]\n",
      "Validate (7900 / 10 Steps): 100%|██████████| 8/8 [00:27<00:00,  3.39s/it]4<?, ?it/s]\n",
      "Training (7900 / 18000 Steps) (loss=0.56061):   5%|▌         | 1/20 [00:31<09:57, 31.46s/it]"
     ]
    },
    {
     "name": "stdout",
     "output_type": "stream",
     "text": [
      "Model Was Not Saved ! Current Best Avg. Dice: 0.1941649168729782 Current Avg. Dice: 0.15091486275196075 Current Avg. tumor Dice: 0.18887345492839813 Current Avg. lymph Dice: 0.13033416867256165\n"
     ]
    },
    {
     "name": "stderr",
     "output_type": "stream",
     "text": [
      "Training (7919 / 18000 Steps) (loss=0.63660): 100%|██████████| 20/20 [01:00<00:00,  3.02s/it]\n",
      "Training (7939 / 18000 Steps) (loss=0.59830): 100%|██████████| 20/20 [00:33<00:00,  1.67s/it]\n",
      "Training (7959 / 18000 Steps) (loss=0.67060): 100%|██████████| 20/20 [00:33<00:00,  1.69s/it]\n",
      "Training (7979 / 18000 Steps) (loss=0.54869): 100%|██████████| 20/20 [00:33<00:00,  1.66s/it]\n",
      "Training (7999 / 18000 Steps) (loss=0.47474): 100%|██████████| 20/20 [00:33<00:00,  1.66s/it]\n",
      "Validate (8000 / 10 Steps): 100%|██████████| 8/8 [00:27<00:00,  3.40s/it]4<?, ?it/s]\n",
      "Training (8000 / 18000 Steps) (loss=0.57549):   5%|▌         | 1/20 [00:31<10:03, 31.79s/it]"
     ]
    },
    {
     "name": "stdout",
     "output_type": "stream",
     "text": [
      "Model Was Not Saved ! Current Best Avg. Dice: 0.1941649168729782 Current Avg. Dice: 0.18772505223751068 Current Avg. tumor Dice: 0.19727535545825958 Current Avg. lymph Dice: 0.2055862545967102\n"
     ]
    },
    {
     "name": "stderr",
     "output_type": "stream",
     "text": [
      "Training (8019 / 18000 Steps) (loss=0.61766): 100%|██████████| 20/20 [01:00<00:00,  3.04s/it]\n",
      "Training (8039 / 18000 Steps) (loss=0.65770): 100%|██████████| 20/20 [00:33<00:00,  1.67s/it]\n",
      "Training (8059 / 18000 Steps) (loss=0.54417): 100%|██████████| 20/20 [00:33<00:00,  1.66s/it]\n",
      "Training (8079 / 18000 Steps) (loss=0.62528): 100%|██████████| 20/20 [00:33<00:00,  1.67s/it]\n",
      "Training (8099 / 18000 Steps) (loss=0.50741): 100%|██████████| 20/20 [00:33<00:00,  1.67s/it]\n",
      "Validate (8100 / 10 Steps): 100%|██████████| 8/8 [00:27<00:00,  3.39s/it]4<?, ?it/s]\n",
      "Training (8100 / 18000 Steps) (loss=0.58456):   5%|▌         | 1/20 [00:31<10:00, 31.60s/it]"
     ]
    },
    {
     "name": "stdout",
     "output_type": "stream",
     "text": [
      "Model Was Not Saved ! Current Best Avg. Dice: 0.1941649168729782 Current Avg. Dice: 0.17271994054317474 Current Avg. tumor Dice: 0.19022029638290405 Current Avg. lymph Dice: 0.17909952998161316\n"
     ]
    },
    {
     "name": "stderr",
     "output_type": "stream",
     "text": [
      "Training (8119 / 18000 Steps) (loss=0.60872): 100%|██████████| 20/20 [01:00<00:00,  3.01s/it]\n",
      "Training (8139 / 18000 Steps) (loss=0.49514): 100%|██████████| 20/20 [00:33<00:00,  1.67s/it]\n",
      "Training (8159 / 18000 Steps) (loss=0.55743): 100%|██████████| 20/20 [00:33<00:00,  1.66s/it]\n",
      "Training (8179 / 18000 Steps) (loss=0.68139): 100%|██████████| 20/20 [00:33<00:00,  1.67s/it]\n",
      "Training (8199 / 18000 Steps) (loss=0.61622): 100%|██████████| 20/20 [00:33<00:00,  1.67s/it]\n",
      "Validate (8200 / 10 Steps): 100%|██████████| 8/8 [00:27<00:00,  3.38s/it]4<?, ?it/s]\n",
      "Training (8200 / 18000 Steps) (loss=0.50387):   5%|▌         | 1/20 [00:31<10:00, 31.63s/it]"
     ]
    },
    {
     "name": "stdout",
     "output_type": "stream",
     "text": [
      "Model Was Not Saved ! Current Best Avg. Dice: 0.1941649168729782 Current Avg. Dice: 0.18240748345851898 Current Avg. tumor Dice: 0.21519136428833008 Current Avg. lymph Dice: 0.17264263331890106\n"
     ]
    },
    {
     "name": "stderr",
     "output_type": "stream",
     "text": [
      "Training (8219 / 18000 Steps) (loss=0.60352): 100%|██████████| 20/20 [01:00<00:00,  3.03s/it]\n",
      "Training (8239 / 18000 Steps) (loss=0.37834): 100%|██████████| 20/20 [00:33<00:00,  1.67s/it]\n",
      "Training (8259 / 18000 Steps) (loss=0.33560): 100%|██████████| 20/20 [00:33<00:00,  1.67s/it]\n",
      "Training (8279 / 18000 Steps) (loss=0.58037): 100%|██████████| 20/20 [00:33<00:00,  1.66s/it]\n",
      "Training (8299 / 18000 Steps) (loss=0.58494): 100%|██████████| 20/20 [00:33<00:00,  1.66s/it]\n",
      "Validate (8300 / 10 Steps): 100%|██████████| 8/8 [00:27<00:00,  3.39s/it]4<?, ?it/s]\n",
      "Training (8300 / 18000 Steps) (loss=0.48336):   5%|▌         | 1/20 [00:31<10:04, 31.82s/it]"
     ]
    },
    {
     "name": "stdout",
     "output_type": "stream",
     "text": [
      "Model Was Not Saved ! Current Best Avg. Dice: 0.1941649168729782 Current Avg. Dice: 0.19028612971305847 Current Avg. tumor Dice: 0.22956030070781708 Current Avg. lymph Dice: 0.1737523078918457\n"
     ]
    },
    {
     "name": "stderr",
     "output_type": "stream",
     "text": [
      "Training (8319 / 18000 Steps) (loss=0.55981): 100%|██████████| 20/20 [01:00<00:00,  3.03s/it]\n",
      "Training (8339 / 18000 Steps) (loss=0.60017): 100%|██████████| 20/20 [00:33<00:00,  1.66s/it]\n",
      "Training (8359 / 18000 Steps) (loss=0.54211): 100%|██████████| 20/20 [00:33<00:00,  1.68s/it]\n",
      "Training (8379 / 18000 Steps) (loss=0.57291): 100%|██████████| 20/20 [00:33<00:00,  1.68s/it]\n",
      "Training (8399 / 18000 Steps) (loss=0.59112): 100%|██████████| 20/20 [00:33<00:00,  1.67s/it]\n",
      "Validate (8400 / 10 Steps): 100%|██████████| 8/8 [00:27<00:00,  3.40s/it]4<?, ?it/s]\n",
      "Training (8400 / 18000 Steps) (loss=0.47999):   5%|▌         | 1/20 [00:31<09:55, 31.33s/it]"
     ]
    },
    {
     "name": "stdout",
     "output_type": "stream",
     "text": [
      "Model Was Not Saved ! Current Best Avg. Dice: 0.1941649168729782 Current Avg. Dice: 0.18239468336105347 Current Avg. tumor Dice: 0.22565892338752747 Current Avg. lymph Dice: 0.16000716388225555\n"
     ]
    },
    {
     "name": "stderr",
     "output_type": "stream",
     "text": [
      "Training (8419 / 18000 Steps) (loss=0.55800): 100%|██████████| 20/20 [01:00<00:00,  3.01s/it]\n",
      "Training (8439 / 18000 Steps) (loss=0.58670): 100%|██████████| 20/20 [00:33<00:00,  1.68s/it]\n",
      "Training (8459 / 18000 Steps) (loss=0.57423): 100%|██████████| 20/20 [00:33<00:00,  1.66s/it]\n",
      "Training (8479 / 18000 Steps) (loss=0.59652): 100%|██████████| 20/20 [00:33<00:00,  1.69s/it]\n",
      "Training (8499 / 18000 Steps) (loss=0.51994): 100%|██████████| 20/20 [00:33<00:00,  1.67s/it]\n",
      "Validate (8500 / 10 Steps): 100%|██████████| 8/8 [00:27<00:00,  3.39s/it]4<?, ?it/s]\n",
      "Training (8500 / 18000 Steps) (loss=0.53235):   5%|▌         | 1/20 [00:32<10:14, 32.33s/it]"
     ]
    },
    {
     "name": "stdout",
     "output_type": "stream",
     "text": [
      "Model Was Saved ! Current Best Avg. Dice: 0.19715462625026703 Current Avg. Dice: 0.19715462625026703 Current Avg. tumor Dice: 0.23966601490974426 Current Avg. lymph Dice: 0.17843452095985413\n"
     ]
    },
    {
     "name": "stderr",
     "output_type": "stream",
     "text": [
      "Training (8519 / 18000 Steps) (loss=0.53573): 100%|██████████| 20/20 [01:01<00:00,  3.07s/it]\n",
      "Training (8539 / 18000 Steps) (loss=0.50691): 100%|██████████| 20/20 [00:33<00:00,  1.66s/it]\n",
      "Training (8559 / 18000 Steps) (loss=0.56262): 100%|██████████| 20/20 [00:33<00:00,  1.68s/it]\n",
      "Training (8579 / 18000 Steps) (loss=0.56634): 100%|██████████| 20/20 [00:33<00:00,  1.67s/it]\n",
      "Training (8599 / 18000 Steps) (loss=0.52502): 100%|██████████| 20/20 [00:33<00:00,  1.67s/it]\n",
      "Validate (8600 / 10 Steps): 100%|██████████| 8/8 [00:27<00:00,  3.38s/it]4<?, ?it/s]\n",
      "Training (8600 / 18000 Steps) (loss=0.48862):   5%|▌         | 1/20 [00:31<10:02, 31.71s/it]"
     ]
    },
    {
     "name": "stdout",
     "output_type": "stream",
     "text": [
      "Model Was Not Saved ! Current Best Avg. Dice: 0.19715462625026703 Current Avg. Dice: 0.17939713597297668 Current Avg. tumor Dice: 0.1923225075006485 Current Avg. lymph Dice: 0.19208280742168427\n"
     ]
    },
    {
     "name": "stderr",
     "output_type": "stream",
     "text": [
      "Training (8619 / 18000 Steps) (loss=0.52678): 100%|██████████| 20/20 [01:00<00:00,  3.03s/it]\n",
      "Training (8639 / 18000 Steps) (loss=0.39845): 100%|██████████| 20/20 [00:33<00:00,  1.67s/it]\n",
      "Training (8659 / 18000 Steps) (loss=0.58568): 100%|██████████| 20/20 [00:33<00:00,  1.68s/it]\n",
      "Training (8679 / 18000 Steps) (loss=0.62723): 100%|██████████| 20/20 [00:33<00:00,  1.67s/it]\n",
      "Training (8699 / 18000 Steps) (loss=0.34974): 100%|██████████| 20/20 [00:33<00:00,  1.67s/it]\n",
      "Validate (8700 / 10 Steps): 100%|██████████| 8/8 [00:27<00:00,  3.39s/it]4<?, ?it/s]\n",
      "Training (8700 / 18000 Steps) (loss=0.52385):   5%|▌         | 1/20 [00:31<10:04, 31.81s/it]"
     ]
    },
    {
     "name": "stdout",
     "output_type": "stream",
     "text": [
      "Model Was Not Saved ! Current Best Avg. Dice: 0.19715462625026703 Current Avg. Dice: 0.18524521589279175 Current Avg. tumor Dice: 0.22421002388000488 Current Avg. lymph Dice: 0.16878509521484375\n"
     ]
    },
    {
     "name": "stderr",
     "output_type": "stream",
     "text": [
      "Training (8719 / 18000 Steps) (loss=0.67650): 100%|██████████| 20/20 [01:00<00:00,  3.04s/it]\n",
      "Training (8739 / 18000 Steps) (loss=0.64937): 100%|██████████| 20/20 [00:33<00:00,  1.67s/it]\n",
      "Training (8759 / 18000 Steps) (loss=0.57257): 100%|██████████| 20/20 [00:33<00:00,  1.67s/it]\n",
      "Training (8779 / 18000 Steps) (loss=0.50784): 100%|██████████| 20/20 [00:33<00:00,  1.66s/it]\n",
      "Training (8799 / 18000 Steps) (loss=0.65763): 100%|██████████| 20/20 [00:33<00:00,  1.65s/it]\n",
      "Validate (8800 / 10 Steps): 100%|██████████| 8/8 [00:27<00:00,  3.39s/it]4<?, ?it/s]\n",
      "Training (8800 / 18000 Steps) (loss=0.59431):   5%|▌         | 1/20 [00:31<09:59, 31.57s/it]"
     ]
    },
    {
     "name": "stdout",
     "output_type": "stream",
     "text": [
      "Model Was Not Saved ! Current Best Avg. Dice: 0.19715462625026703 Current Avg. Dice: 0.17441906034946442 Current Avg. tumor Dice: 0.21704789996147156 Current Avg. lymph Dice: 0.15206564962863922\n"
     ]
    },
    {
     "name": "stderr",
     "output_type": "stream",
     "text": [
      "Training (8819 / 18000 Steps) (loss=0.64534): 100%|██████████| 20/20 [01:00<00:00,  3.03s/it]\n",
      "Training (8839 / 18000 Steps) (loss=0.69452): 100%|██████████| 20/20 [00:33<00:00,  1.66s/it]\n",
      "Training (8859 / 18000 Steps) (loss=0.62937): 100%|██████████| 20/20 [00:33<00:00,  1.67s/it]\n",
      "Training (8879 / 18000 Steps) (loss=0.62026): 100%|██████████| 20/20 [00:33<00:00,  1.66s/it]\n",
      "Training (8899 / 18000 Steps) (loss=0.54915): 100%|██████████| 20/20 [00:33<00:00,  1.67s/it]\n",
      "Validate (8900 / 10 Steps): 100%|██████████| 8/8 [00:27<00:00,  3.40s/it]4<?, ?it/s]\n",
      "Training (8900 / 18000 Steps) (loss=0.53229):   5%|▌         | 1/20 [00:32<10:17, 32.48s/it]"
     ]
    },
    {
     "name": "stdout",
     "output_type": "stream",
     "text": [
      "Model Was Saved ! Current Best Avg. Dice: 0.20047734677791595 Current Avg. Dice: 0.20047734677791595 Current Avg. tumor Dice: 0.23717565834522247 Current Avg. lymph Dice: 0.18897581100463867\n"
     ]
    },
    {
     "name": "stderr",
     "output_type": "stream",
     "text": [
      "Training (8919 / 18000 Steps) (loss=0.63653): 100%|██████████| 20/20 [01:01<00:00,  3.07s/it]\n",
      "Training (8939 / 18000 Steps) (loss=0.50568): 100%|██████████| 20/20 [00:33<00:00,  1.66s/it]\n",
      "Training (8959 / 18000 Steps) (loss=0.64856): 100%|██████████| 20/20 [00:33<00:00,  1.66s/it]\n",
      "Training (8979 / 18000 Steps) (loss=0.53032): 100%|██████████| 20/20 [00:33<00:00,  1.69s/it]\n",
      "Training (8999 / 18000 Steps) (loss=0.54011): 100%|██████████| 20/20 [00:33<00:00,  1.67s/it]\n",
      "Validate (9000 / 10 Steps): 100%|██████████| 8/8 [00:27<00:00,  3.39s/it]4<?, ?it/s]\n",
      "Training (9000 / 18000 Steps) (loss=0.52568):   5%|▌         | 1/20 [00:31<10:02, 31.72s/it]"
     ]
    },
    {
     "name": "stdout",
     "output_type": "stream",
     "text": [
      "Model Was Not Saved ! Current Best Avg. Dice: 0.20047734677791595 Current Avg. Dice: 0.16226986050605774 Current Avg. tumor Dice: 0.21735171973705292 Current Avg. lymph Dice: 0.12367845326662064\n"
     ]
    },
    {
     "name": "stderr",
     "output_type": "stream",
     "text": [
      "Training (9019 / 18000 Steps) (loss=0.49643): 100%|██████████| 20/20 [01:00<00:00,  3.02s/it]\n",
      "Training (9039 / 18000 Steps) (loss=0.51312): 100%|██████████| 20/20 [00:33<00:00,  1.66s/it]\n",
      "Training (9059 / 18000 Steps) (loss=0.49361): 100%|██████████| 20/20 [00:33<00:00,  1.68s/it]\n",
      "Training (9079 / 18000 Steps) (loss=0.53043): 100%|██████████| 20/20 [00:33<00:00,  1.67s/it]\n",
      "Training (9099 / 18000 Steps) (loss=0.53261): 100%|██████████| 20/20 [00:33<00:00,  1.68s/it]\n",
      "Validate (9100 / 10 Steps): 100%|██████████| 8/8 [00:27<00:00,  3.40s/it]4<?, ?it/s]\n",
      "Training (9100 / 18000 Steps) (loss=0.56509):   5%|▌         | 1/20 [00:31<10:02, 31.73s/it]"
     ]
    },
    {
     "name": "stdout",
     "output_type": "stream",
     "text": [
      "Model Was Not Saved ! Current Best Avg. Dice: 0.20047734677791595 Current Avg. Dice: 0.17413672804832458 Current Avg. tumor Dice: 0.22038397192955017 Current Avg. lymph Dice: 0.14756478369235992\n"
     ]
    },
    {
     "name": "stderr",
     "output_type": "stream",
     "text": [
      "Training (9119 / 18000 Steps) (loss=0.59104): 100%|██████████| 20/20 [01:00<00:00,  3.02s/it]\n",
      "Training (9139 / 18000 Steps) (loss=0.63226): 100%|██████████| 20/20 [00:33<00:00,  1.67s/it]\n",
      "Training (9159 / 18000 Steps) (loss=0.51022): 100%|██████████| 20/20 [00:33<00:00,  1.67s/it]\n",
      "Training (9179 / 18000 Steps) (loss=0.60178): 100%|██████████| 20/20 [00:33<00:00,  1.68s/it]\n",
      "Training (9199 / 18000 Steps) (loss=0.47267): 100%|██████████| 20/20 [00:33<00:00,  1.67s/it]\n",
      "Validate (9200 / 10 Steps): 100%|██████████| 8/8 [00:27<00:00,  3.39s/it]4<?, ?it/s]\n",
      "Training (9200 / 18000 Steps) (loss=0.55532):   5%|▌         | 1/20 [00:31<10:00, 31.59s/it]"
     ]
    },
    {
     "name": "stdout",
     "output_type": "stream",
     "text": [
      "Model Was Not Saved ! Current Best Avg. Dice: 0.20047734677791595 Current Avg. Dice: 0.18053826689720154 Current Avg. tumor Dice: 0.21588939428329468 Current Avg. lymph Dice: 0.1674932837486267\n"
     ]
    },
    {
     "name": "stderr",
     "output_type": "stream",
     "text": [
      "Training (9219 / 18000 Steps) (loss=0.68615): 100%|██████████| 20/20 [01:00<00:00,  3.02s/it]\n",
      "Training (9239 / 18000 Steps) (loss=0.30447): 100%|██████████| 20/20 [00:33<00:00,  1.67s/it]\n",
      "Training (9259 / 18000 Steps) (loss=0.47984): 100%|██████████| 20/20 [00:33<00:00,  1.68s/it]\n",
      "Training (9279 / 18000 Steps) (loss=0.66518): 100%|██████████| 20/20 [00:33<00:00,  1.68s/it]\n",
      "Training (9299 / 18000 Steps) (loss=0.45090): 100%|██████████| 20/20 [00:33<00:00,  1.67s/it]\n",
      "Validate (9300 / 10 Steps): 100%|██████████| 8/8 [00:27<00:00,  3.39s/it]4<?, ?it/s]\n",
      "Training (9300 / 18000 Steps) (loss=0.60314):   5%|▌         | 1/20 [00:31<09:59, 31.57s/it]"
     ]
    },
    {
     "name": "stdout",
     "output_type": "stream",
     "text": [
      "Model Was Not Saved ! Current Best Avg. Dice: 0.20047734677791595 Current Avg. Dice: 0.18567505478858948 Current Avg. tumor Dice: 0.23239752650260925 Current Avg. lymph Dice: 0.1603298932313919\n"
     ]
    },
    {
     "name": "stderr",
     "output_type": "stream",
     "text": [
      "Training (9319 / 18000 Steps) (loss=0.54631): 100%|██████████| 20/20 [01:00<00:00,  3.02s/it]\n",
      "Training (9339 / 18000 Steps) (loss=0.68752): 100%|██████████| 20/20 [00:33<00:00,  1.67s/it]\n",
      "Training (9359 / 18000 Steps) (loss=0.52272): 100%|██████████| 20/20 [00:33<00:00,  1.66s/it]\n",
      "Training (9379 / 18000 Steps) (loss=0.61340): 100%|██████████| 20/20 [00:33<00:00,  1.67s/it]\n",
      "Training (9399 / 18000 Steps) (loss=0.67253): 100%|██████████| 20/20 [00:33<00:00,  1.67s/it]\n",
      "Validate (9400 / 10 Steps): 100%|██████████| 8/8 [00:27<00:00,  3.38s/it]4<?, ?it/s]\n",
      "Training (9400 / 18000 Steps) (loss=0.56923):   5%|▌         | 1/20 [00:31<09:58, 31.51s/it]"
     ]
    },
    {
     "name": "stdout",
     "output_type": "stream",
     "text": [
      "Model Was Not Saved ! Current Best Avg. Dice: 0.20047734677791595 Current Avg. Dice: 0.18575544655323029 Current Avg. tumor Dice: 0.22401757538318634 Current Avg. lymph Dice: 0.17018458247184753\n"
     ]
    },
    {
     "name": "stderr",
     "output_type": "stream",
     "text": [
      "Training (9419 / 18000 Steps) (loss=0.58837): 100%|██████████| 20/20 [01:00<00:00,  3.01s/it]\n",
      "Training (9439 / 18000 Steps) (loss=0.52164): 100%|██████████| 20/20 [00:33<00:00,  1.68s/it]\n",
      "Training (9459 / 18000 Steps) (loss=0.66925): 100%|██████████| 20/20 [00:33<00:00,  1.66s/it]\n",
      "Training (9479 / 18000 Steps) (loss=0.59143): 100%|██████████| 20/20 [00:33<00:00,  1.67s/it]\n",
      "Training (9499 / 18000 Steps) (loss=0.54634): 100%|██████████| 20/20 [00:33<00:00,  1.67s/it]\n",
      "Validate (9500 / 10 Steps): 100%|██████████| 8/8 [00:27<00:00,  3.39s/it]4<?, ?it/s]\n",
      "Training (9500 / 18000 Steps) (loss=0.54717):   5%|▌         | 1/20 [00:31<10:00, 31.58s/it]"
     ]
    },
    {
     "name": "stdout",
     "output_type": "stream",
     "text": [
      "Model Was Not Saved ! Current Best Avg. Dice: 0.20047734677791595 Current Avg. Dice: 0.17009297013282776 Current Avg. tumor Dice: 0.23027878999710083 Current Avg. lymph Dice: 0.12681594491004944\n"
     ]
    },
    {
     "name": "stderr",
     "output_type": "stream",
     "text": [
      "Training (9519 / 18000 Steps) (loss=0.29276): 100%|██████████| 20/20 [01:00<00:00,  3.03s/it]\n",
      "Training (9539 / 18000 Steps) (loss=0.67245): 100%|██████████| 20/20 [00:33<00:00,  1.68s/it]\n",
      "Training (9559 / 18000 Steps) (loss=0.64526): 100%|██████████| 20/20 [00:33<00:00,  1.67s/it]\n",
      "Training (9579 / 18000 Steps) (loss=0.62026): 100%|██████████| 20/20 [00:33<00:00,  1.69s/it]\n",
      "Training (9599 / 18000 Steps) (loss=0.56684): 100%|██████████| 20/20 [00:33<00:00,  1.66s/it]\n",
      "Validate (9600 / 10 Steps): 100%|██████████| 8/8 [00:27<00:00,  3.39s/it]4<?, ?it/s]\n",
      "Training (9600 / 18000 Steps) (loss=0.51336):   5%|▌         | 1/20 [00:31<09:55, 31.33s/it]"
     ]
    },
    {
     "name": "stdout",
     "output_type": "stream",
     "text": [
      "Model Was Not Saved ! Current Best Avg. Dice: 0.20047734677791595 Current Avg. Dice: 0.18415644764900208 Current Avg. tumor Dice: 0.21613553166389465 Current Avg. lymph Dice: 0.1754964292049408\n"
     ]
    },
    {
     "name": "stderr",
     "output_type": "stream",
     "text": [
      "Training (9619 / 18000 Steps) (loss=0.61276): 100%|██████████| 20/20 [01:00<00:00,  3.02s/it]\n",
      "Training (9639 / 18000 Steps) (loss=0.50402): 100%|██████████| 20/20 [00:33<00:00,  1.66s/it]\n",
      "Training (9659 / 18000 Steps) (loss=0.48653): 100%|██████████| 20/20 [00:33<00:00,  1.67s/it]\n",
      "Training (9679 / 18000 Steps) (loss=0.47697): 100%|██████████| 20/20 [00:33<00:00,  1.66s/it]\n",
      "Training (9699 / 18000 Steps) (loss=0.51884): 100%|██████████| 20/20 [00:33<00:00,  1.69s/it]\n",
      "Validate (9700 / 10 Steps): 100%|██████████| 8/8 [00:27<00:00,  3.39s/it]4<?, ?it/s]\n",
      "Training (9700 / 18000 Steps) (loss=0.47124):   5%|▌         | 1/20 [00:31<10:01, 31.67s/it]"
     ]
    },
    {
     "name": "stdout",
     "output_type": "stream",
     "text": [
      "Model Was Not Saved ! Current Best Avg. Dice: 0.20047734677791595 Current Avg. Dice: 0.13760581612586975 Current Avg. tumor Dice: 0.19605369865894318 Current Avg. lymph Dice: 0.09133605659008026\n"
     ]
    },
    {
     "name": "stderr",
     "output_type": "stream",
     "text": [
      "Training (9719 / 18000 Steps) (loss=0.50891): 100%|██████████| 20/20 [01:00<00:00,  3.02s/it]\n",
      "Training (9739 / 18000 Steps) (loss=0.58716): 100%|██████████| 20/20 [00:33<00:00,  1.67s/it]\n",
      "Training (9759 / 18000 Steps) (loss=0.51283): 100%|██████████| 20/20 [00:33<00:00,  1.68s/it]\n",
      "Training (9779 / 18000 Steps) (loss=0.51957): 100%|██████████| 20/20 [00:33<00:00,  1.68s/it]\n",
      "Training (9799 / 18000 Steps) (loss=0.49730): 100%|██████████| 20/20 [00:33<00:00,  1.69s/it]\n",
      "Validate (9800 / 10 Steps): 100%|██████████| 8/8 [00:27<00:00,  3.40s/it]4<?, ?it/s]\n",
      "Training (9800 / 18000 Steps) (loss=0.57233):   5%|▌         | 1/20 [00:32<10:19, 32.59s/it]"
     ]
    },
    {
     "name": "stdout",
     "output_type": "stream",
     "text": [
      "Model Was Saved ! Current Best Avg. Dice: 0.20062831044197083 Current Avg. Dice: 0.20062831044197083 Current Avg. tumor Dice: 0.1765829473733902 Current Avg. lymph Dice: 0.25923892855644226\n"
     ]
    },
    {
     "name": "stderr",
     "output_type": "stream",
     "text": [
      "Training (9819 / 18000 Steps) (loss=0.55071): 100%|██████████| 20/20 [01:02<00:00,  3.10s/it]\n",
      "Training (9839 / 18000 Steps) (loss=0.63913): 100%|██████████| 20/20 [00:33<00:00,  1.68s/it]\n",
      "Training (9859 / 18000 Steps) (loss=0.56768): 100%|██████████| 20/20 [00:33<00:00,  1.66s/it]\n",
      "Training (9879 / 18000 Steps) (loss=0.63097): 100%|██████████| 20/20 [00:33<00:00,  1.69s/it]\n",
      "Training (9899 / 18000 Steps) (loss=0.67133): 100%|██████████| 20/20 [00:33<00:00,  1.68s/it]\n",
      "Validate (9900 / 10 Steps): 100%|██████████| 8/8 [00:27<00:00,  3.38s/it]4<?, ?it/s]\n",
      "Training (9900 / 18000 Steps) (loss=0.51947):   5%|▌         | 1/20 [00:32<10:16, 32.45s/it]"
     ]
    },
    {
     "name": "stdout",
     "output_type": "stream",
     "text": [
      "Model Was Saved ! Current Best Avg. Dice: 0.21000084280967712 Current Avg. Dice: 0.21000084280967712 Current Avg. tumor Dice: 0.22362378239631653 Current Avg. lymph Dice: 0.22658990323543549\n"
     ]
    },
    {
     "name": "stderr",
     "output_type": "stream",
     "text": [
      "Training (9919 / 18000 Steps) (loss=0.47159): 100%|██████████| 20/20 [01:01<00:00,  3.07s/it]\n",
      "Training (9939 / 18000 Steps) (loss=0.51589): 100%|██████████| 20/20 [00:33<00:00,  1.66s/it]\n",
      "Training (9959 / 18000 Steps) (loss=0.59325): 100%|██████████| 20/20 [00:33<00:00,  1.67s/it]\n",
      "Training (9979 / 18000 Steps) (loss=0.52964): 100%|██████████| 20/20 [00:33<00:00,  1.66s/it]\n",
      "Training (9999 / 18000 Steps) (loss=0.63535): 100%|██████████| 20/20 [00:33<00:00,  1.66s/it]\n",
      "Validate (10000 / 10 Steps): 100%|██████████| 8/8 [00:27<00:00,  3.41s/it]4<?, ?it/s]\n",
      "Training (10000 / 18000 Steps) (loss=0.53306):   5%|▌         | 1/20 [00:31<10:00, 31.63s/it]"
     ]
    },
    {
     "name": "stdout",
     "output_type": "stream",
     "text": [
      "Model Was Not Saved ! Current Best Avg. Dice: 0.21000084280967712 Current Avg. Dice: 0.1557941436767578 Current Avg. tumor Dice: 0.22552910447120667 Current Avg. lymph Dice: 0.09929907321929932\n"
     ]
    },
    {
     "name": "stderr",
     "output_type": "stream",
     "text": [
      "Training (10019 / 18000 Steps) (loss=0.46815): 100%|██████████| 20/20 [01:00<00:00,  3.02s/it]\n",
      "Training (10039 / 18000 Steps) (loss=0.55551): 100%|██████████| 20/20 [00:33<00:00,  1.66s/it]\n",
      "Training (10059 / 18000 Steps) (loss=0.53687): 100%|██████████| 20/20 [00:33<00:00,  1.67s/it]\n",
      "Training (10079 / 18000 Steps) (loss=0.50764): 100%|██████████| 20/20 [00:33<00:00,  1.66s/it]\n",
      "Training (10099 / 18000 Steps) (loss=0.62236): 100%|██████████| 20/20 [00:33<00:00,  1.67s/it]\n",
      "Validate (10100 / 10 Steps): 100%|██████████| 8/8 [00:27<00:00,  3.38s/it]4<?, ?it/s]\n",
      "Training (10100 / 18000 Steps) (loss=0.49993):   5%|▌         | 1/20 [00:31<09:55, 31.34s/it]"
     ]
    },
    {
     "name": "stdout",
     "output_type": "stream",
     "text": [
      "Model Was Not Saved ! Current Best Avg. Dice: 0.21000084280967712 Current Avg. Dice: 0.19988414645195007 Current Avg. tumor Dice: 0.23780708014965057 Current Avg. lymph Dice: 0.18687830865383148\n"
     ]
    },
    {
     "name": "stderr",
     "output_type": "stream",
     "text": [
      "Training (10119 / 18000 Steps) (loss=0.57595): 100%|██████████| 20/20 [01:00<00:00,  3.01s/it]\n",
      "Training (10139 / 18000 Steps) (loss=0.58276): 100%|██████████| 20/20 [00:33<00:00,  1.68s/it]\n",
      "Training (10159 / 18000 Steps) (loss=0.52580): 100%|██████████| 20/20 [00:33<00:00,  1.67s/it]\n",
      "Training (10179 / 18000 Steps) (loss=0.49921): 100%|██████████| 20/20 [00:33<00:00,  1.66s/it]\n",
      "Training (10199 / 18000 Steps) (loss=0.56613): 100%|██████████| 20/20 [00:33<00:00,  1.67s/it]\n",
      "Validate (10200 / 10 Steps): 100%|██████████| 8/8 [00:27<00:00,  3.39s/it]4<?, ?it/s]\n",
      "Training (10200 / 18000 Steps) (loss=0.53004):   5%|▌         | 1/20 [00:32<10:14, 32.36s/it]"
     ]
    },
    {
     "name": "stdout",
     "output_type": "stream",
     "text": [
      "Model Was Saved ! Current Best Avg. Dice: 0.2130805402994156 Current Avg. Dice: 0.2130805402994156 Current Avg. tumor Dice: 0.26445627212524414 Current Avg. lymph Dice: 0.1860167384147644\n"
     ]
    },
    {
     "name": "stderr",
     "output_type": "stream",
     "text": [
      "Training (10219 / 18000 Steps) (loss=0.52166): 100%|██████████| 20/20 [01:01<00:00,  3.06s/it]\n",
      "Training (10239 / 18000 Steps) (loss=0.67386): 100%|██████████| 20/20 [00:33<00:00,  1.69s/it]\n",
      "Training (10259 / 18000 Steps) (loss=0.52601): 100%|██████████| 20/20 [00:33<00:00,  1.67s/it]\n",
      "Training (10279 / 18000 Steps) (loss=0.64748): 100%|██████████| 20/20 [00:33<00:00,  1.67s/it]\n",
      "Training (10299 / 18000 Steps) (loss=0.59145): 100%|██████████| 20/20 [00:33<00:00,  1.66s/it]\n",
      "Validate (10300 / 10 Steps): 100%|██████████| 8/8 [00:27<00:00,  3.38s/it]4<?, ?it/s]\n",
      "Training (10300 / 18000 Steps) (loss=0.57337):   5%|▌         | 1/20 [00:31<09:59, 31.54s/it]"
     ]
    },
    {
     "name": "stdout",
     "output_type": "stream",
     "text": [
      "Model Was Not Saved ! Current Best Avg. Dice: 0.2130805402994156 Current Avg. Dice: 0.17572644352912903 Current Avg. tumor Dice: 0.22034616768360138 Current Avg. lymph Dice: 0.15127699077129364\n"
     ]
    },
    {
     "name": "stderr",
     "output_type": "stream",
     "text": [
      "Training (10319 / 18000 Steps) (loss=0.49523): 100%|██████████| 20/20 [01:00<00:00,  3.02s/it]\n",
      "Training (10339 / 18000 Steps) (loss=0.56329): 100%|██████████| 20/20 [00:33<00:00,  1.66s/it]\n",
      "Training (10359 / 18000 Steps) (loss=0.55618): 100%|██████████| 20/20 [00:33<00:00,  1.66s/it]\n",
      "Training (10379 / 18000 Steps) (loss=0.53335): 100%|██████████| 20/20 [00:33<00:00,  1.69s/it]\n",
      "Training (10399 / 18000 Steps) (loss=0.67111): 100%|██████████| 20/20 [00:33<00:00,  1.68s/it]\n",
      "Validate (10400 / 10 Steps): 100%|██████████| 8/8 [00:26<00:00,  3.37s/it]4<?, ?it/s]\n",
      "Training (10400 / 18000 Steps) (loss=0.59267):   5%|▌         | 1/20 [00:31<09:54, 31.31s/it]"
     ]
    },
    {
     "name": "stdout",
     "output_type": "stream",
     "text": [
      "Model Was Not Saved ! Current Best Avg. Dice: 0.2130805402994156 Current Avg. Dice: 0.17031808197498322 Current Avg. tumor Dice: 0.20208273828029633 Current Avg. lymph Dice: 0.15986932814121246\n"
     ]
    },
    {
     "name": "stderr",
     "output_type": "stream",
     "text": [
      "Training (10419 / 18000 Steps) (loss=0.50701): 100%|██████████| 20/20 [01:00<00:00,  3.03s/it]\n",
      "Training (10439 / 18000 Steps) (loss=0.52699): 100%|██████████| 20/20 [00:33<00:00,  1.68s/it]\n",
      "Training (10459 / 18000 Steps) (loss=0.54991): 100%|██████████| 20/20 [00:33<00:00,  1.68s/it]\n",
      "Training (10479 / 18000 Steps) (loss=0.61489): 100%|██████████| 20/20 [00:33<00:00,  1.66s/it]\n",
      "Training (10499 / 18000 Steps) (loss=0.43871): 100%|██████████| 20/20 [00:33<00:00,  1.68s/it]\n",
      "Validate (10500 / 10 Steps): 100%|██████████| 8/8 [00:26<00:00,  3.37s/it]4<?, ?it/s]\n",
      "Training (10500 / 18000 Steps) (loss=0.64003):   5%|▌         | 1/20 [00:31<10:02, 31.71s/it]"
     ]
    },
    {
     "name": "stdout",
     "output_type": "stream",
     "text": [
      "Model Was Not Saved ! Current Best Avg. Dice: 0.2130805402994156 Current Avg. Dice: 0.20459888875484467 Current Avg. tumor Dice: 0.23719032108783722 Current Avg. lymph Dice: 0.1984701305627823\n"
     ]
    },
    {
     "name": "stderr",
     "output_type": "stream",
     "text": [
      "Training (10519 / 18000 Steps) (loss=0.41572): 100%|██████████| 20/20 [01:00<00:00,  3.03s/it]\n",
      "Training (10539 / 18000 Steps) (loss=0.45816): 100%|██████████| 20/20 [00:33<00:00,  1.66s/it]\n",
      "Training (10559 / 18000 Steps) (loss=0.53159): 100%|██████████| 20/20 [00:33<00:00,  1.68s/it]\n",
      "Training (10579 / 18000 Steps) (loss=0.60992): 100%|██████████| 20/20 [00:32<00:00,  1.65s/it]\n",
      "Training (10599 / 18000 Steps) (loss=0.51033): 100%|██████████| 20/20 [00:33<00:00,  1.67s/it]\n",
      "Validate (10600 / 10 Steps): 100%|██████████| 8/8 [00:26<00:00,  3.37s/it]4<?, ?it/s]\n",
      "Training (10600 / 18000 Steps) (loss=0.44677):   5%|▌         | 1/20 [00:31<09:58, 31.52s/it]"
     ]
    },
    {
     "name": "stdout",
     "output_type": "stream",
     "text": [
      "Model Was Not Saved ! Current Best Avg. Dice: 0.2130805402994156 Current Avg. Dice: 0.14232607185840607 Current Avg. tumor Dice: 0.18826037645339966 Current Avg. lymph Dice: 0.11122126132249832\n"
     ]
    },
    {
     "name": "stderr",
     "output_type": "stream",
     "text": [
      "Training (10619 / 18000 Steps) (loss=0.57005): 100%|██████████| 20/20 [01:00<00:00,  3.01s/it]\n",
      "Training (10639 / 18000 Steps) (loss=0.63966): 100%|██████████| 20/20 [00:33<00:00,  1.66s/it]\n",
      "Training (10659 / 18000 Steps) (loss=0.60169): 100%|██████████| 20/20 [00:33<00:00,  1.67s/it]\n",
      "Training (10679 / 18000 Steps) (loss=0.57969): 100%|██████████| 20/20 [00:33<00:00,  1.66s/it]\n",
      "Training (10699 / 18000 Steps) (loss=0.43631): 100%|██████████| 20/20 [00:33<00:00,  1.66s/it]\n",
      "Validate (10700 / 10 Steps): 100%|██████████| 8/8 [00:27<00:00,  3.38s/it]4<?, ?it/s]\n",
      "Training (10700 / 18000 Steps) (loss=0.56646):   5%|▌         | 1/20 [00:31<09:55, 31.36s/it]"
     ]
    },
    {
     "name": "stdout",
     "output_type": "stream",
     "text": [
      "Model Was Not Saved ! Current Best Avg. Dice: 0.2130805402994156 Current Avg. Dice: 0.19948342442512512 Current Avg. tumor Dice: 0.24545979499816895 Current Avg. lymph Dice: 0.1771235466003418\n"
     ]
    },
    {
     "name": "stderr",
     "output_type": "stream",
     "text": [
      "Training (10719 / 18000 Steps) (loss=0.61693): 100%|██████████| 20/20 [01:00<00:00,  3.01s/it]\n",
      "Training (10739 / 18000 Steps) (loss=0.57727): 100%|██████████| 20/20 [00:33<00:00,  1.69s/it]\n",
      "Training (10759 / 18000 Steps) (loss=0.47403): 100%|██████████| 20/20 [00:33<00:00,  1.67s/it]\n",
      "Training (10779 / 18000 Steps) (loss=0.38590): 100%|██████████| 20/20 [00:33<00:00,  1.66s/it]\n",
      "Training (10799 / 18000 Steps) (loss=0.48578): 100%|██████████| 20/20 [00:33<00:00,  1.67s/it]\n",
      "Validate (10800 / 10 Steps): 100%|██████████| 8/8 [00:26<00:00,  3.37s/it]4<?, ?it/s]\n",
      "Training (10800 / 18000 Steps) (loss=0.57449):   5%|▌         | 1/20 [00:31<09:54, 31.29s/it]"
     ]
    },
    {
     "name": "stdout",
     "output_type": "stream",
     "text": [
      "Model Was Not Saved ! Current Best Avg. Dice: 0.2130805402994156 Current Avg. Dice: 0.17352499067783356 Current Avg. tumor Dice: 0.22960741817951202 Current Avg. lymph Dice: 0.13551057875156403\n"
     ]
    },
    {
     "name": "stderr",
     "output_type": "stream",
     "text": [
      "Training (10819 / 18000 Steps) (loss=0.54858): 100%|██████████| 20/20 [01:00<00:00,  3.01s/it]\n",
      "Training (10839 / 18000 Steps) (loss=0.51510): 100%|██████████| 20/20 [00:33<00:00,  1.67s/it]\n",
      "Training (10859 / 18000 Steps) (loss=0.50180): 100%|██████████| 20/20 [00:33<00:00,  1.67s/it]\n",
      "Training (10879 / 18000 Steps) (loss=0.48627): 100%|██████████| 20/20 [00:33<00:00,  1.67s/it]\n",
      "Training (10899 / 18000 Steps) (loss=0.49140): 100%|██████████| 20/20 [00:33<00:00,  1.67s/it]\n",
      "Validate (10900 / 10 Steps): 100%|██████████| 8/8 [00:26<00:00,  3.37s/it]4<?, ?it/s]\n",
      "Training (10900 / 18000 Steps) (loss=0.37658):   5%|▌         | 1/20 [00:31<09:58, 31.49s/it]"
     ]
    },
    {
     "name": "stdout",
     "output_type": "stream",
     "text": [
      "Model Was Not Saved ! Current Best Avg. Dice: 0.2130805402994156 Current Avg. Dice: 0.19899842143058777 Current Avg. tumor Dice: 0.2184341847896576 Current Avg. lymph Dice: 0.20718765258789062\n"
     ]
    },
    {
     "name": "stderr",
     "output_type": "stream",
     "text": [
      "Training (10919 / 18000 Steps) (loss=0.58713): 100%|██████████| 20/20 [01:00<00:00,  3.01s/it]\n",
      "Training (10939 / 18000 Steps) (loss=0.45719): 100%|██████████| 20/20 [00:33<00:00,  1.67s/it]\n",
      "Training (10959 / 18000 Steps) (loss=0.46388): 100%|██████████| 20/20 [00:33<00:00,  1.66s/it]\n",
      "Training (10979 / 18000 Steps) (loss=0.63277): 100%|██████████| 20/20 [00:33<00:00,  1.66s/it]\n",
      "Training (10999 / 18000 Steps) (loss=0.33344): 100%|██████████| 20/20 [00:33<00:00,  1.66s/it]\n",
      "Validate (11000 / 10 Steps): 100%|██████████| 8/8 [00:26<00:00,  3.37s/it]4<?, ?it/s]\n",
      "Training (11000 / 18000 Steps) (loss=0.46314):   5%|▌         | 1/20 [00:31<09:56, 31.42s/it]"
     ]
    },
    {
     "name": "stdout",
     "output_type": "stream",
     "text": [
      "Model Was Not Saved ! Current Best Avg. Dice: 0.2130805402994156 Current Avg. Dice: 0.182304248213768 Current Avg. tumor Dice: 0.24263964593410492 Current Avg. lymph Dice: 0.14073330163955688\n"
     ]
    },
    {
     "name": "stderr",
     "output_type": "stream",
     "text": [
      "Training (11019 / 18000 Steps) (loss=0.51512): 100%|██████████| 20/20 [01:00<00:00,  3.01s/it]\n",
      "Training (11039 / 18000 Steps) (loss=0.41134): 100%|██████████| 20/20 [00:33<00:00,  1.67s/it]\n",
      "Training (11059 / 18000 Steps) (loss=0.60119): 100%|██████████| 20/20 [00:33<00:00,  1.67s/it]\n",
      "Training (11079 / 18000 Steps) (loss=0.42807): 100%|██████████| 20/20 [00:33<00:00,  1.66s/it]\n",
      "Training (11099 / 18000 Steps) (loss=0.41461): 100%|██████████| 20/20 [00:33<00:00,  1.67s/it]\n",
      "Validate (11100 / 10 Steps): 100%|██████████| 8/8 [00:26<00:00,  3.37s/it]4<?, ?it/s]\n",
      "Training (11100 / 18000 Steps) (loss=0.54744):   5%|▌         | 1/20 [00:31<10:00, 31.62s/it]"
     ]
    },
    {
     "name": "stdout",
     "output_type": "stream",
     "text": [
      "Model Was Not Saved ! Current Best Avg. Dice: 0.2130805402994156 Current Avg. Dice: 0.20527644455432892 Current Avg. tumor Dice: 0.24669861793518066 Current Avg. lymph Dice: 0.18906259536743164\n"
     ]
    },
    {
     "name": "stderr",
     "output_type": "stream",
     "text": [
      "Training (11119 / 18000 Steps) (loss=0.51780): 100%|██████████| 20/20 [01:00<00:00,  3.03s/it]\n",
      "Training (11139 / 18000 Steps) (loss=0.46838): 100%|██████████| 20/20 [00:34<00:00,  1.70s/it]\n",
      "Training (11159 / 18000 Steps) (loss=0.55241): 100%|██████████| 20/20 [00:33<00:00,  1.67s/it]\n",
      "Training (11179 / 18000 Steps) (loss=0.62816): 100%|██████████| 20/20 [00:33<00:00,  1.68s/it]\n",
      "Training (11199 / 18000 Steps) (loss=0.52587): 100%|██████████| 20/20 [00:33<00:00,  1.67s/it]\n",
      "Validate (11200 / 10 Steps): 100%|██████████| 8/8 [00:26<00:00,  3.37s/it]4<?, ?it/s]\n",
      "Training (11200 / 18000 Steps) (loss=0.57077):   5%|▌         | 1/20 [00:32<10:15, 32.38s/it]"
     ]
    },
    {
     "name": "stdout",
     "output_type": "stream",
     "text": [
      "Model Was Saved ! Current Best Avg. Dice: 0.22115527093410492 Current Avg. Dice: 0.22115527093410492 Current Avg. tumor Dice: 0.24287866055965424 Current Avg. lymph Dice: 0.23011371493339539\n"
     ]
    },
    {
     "name": "stderr",
     "output_type": "stream",
     "text": [
      "Training (11219 / 18000 Steps) (loss=0.63843): 100%|██████████| 20/20 [01:01<00:00,  3.07s/it]\n",
      "Training (11239 / 18000 Steps) (loss=0.55310): 100%|██████████| 20/20 [00:33<00:00,  1.68s/it]\n",
      "Training (11259 / 18000 Steps) (loss=0.52890): 100%|██████████| 20/20 [00:33<00:00,  1.68s/it]\n",
      "Training (11279 / 18000 Steps) (loss=0.54110): 100%|██████████| 20/20 [00:33<00:00,  1.68s/it]\n",
      "Training (11299 / 18000 Steps) (loss=0.48986): 100%|██████████| 20/20 [00:33<00:00,  1.66s/it]\n",
      "Validate (11300 / 10 Steps): 100%|██████████| 8/8 [00:27<00:00,  3.38s/it]4<?, ?it/s]\n",
      "Training (11300 / 18000 Steps) (loss=0.58528):   5%|▌         | 1/20 [00:31<09:58, 31.49s/it]"
     ]
    },
    {
     "name": "stdout",
     "output_type": "stream",
     "text": [
      "Model Was Not Saved ! Current Best Avg. Dice: 0.22115527093410492 Current Avg. Dice: 0.20636656880378723 Current Avg. tumor Dice: 0.23712708055973053 Current Avg. lymph Dice: 0.20262238383293152\n"
     ]
    },
    {
     "name": "stderr",
     "output_type": "stream",
     "text": [
      "Training (11319 / 18000 Steps) (loss=0.53250): 100%|██████████| 20/20 [01:00<00:00,  3.02s/it]\n",
      "Training (11339 / 18000 Steps) (loss=0.42294): 100%|██████████| 20/20 [00:33<00:00,  1.67s/it]\n",
      "Training (11359 / 18000 Steps) (loss=0.47125): 100%|██████████| 20/20 [00:33<00:00,  1.66s/it]\n",
      "Training (11379 / 18000 Steps) (loss=0.52447): 100%|██████████| 20/20 [00:33<00:00,  1.66s/it]\n",
      "Training (11399 / 18000 Steps) (loss=0.48644): 100%|██████████| 20/20 [00:33<00:00,  1.68s/it]\n",
      "Validate (11400 / 10 Steps): 100%|██████████| 8/8 [00:27<00:00,  3.38s/it]4<?, ?it/s]\n",
      "Training (11400 / 18000 Steps) (loss=0.43876):   5%|▌         | 1/20 [00:32<10:17, 32.49s/it]"
     ]
    },
    {
     "name": "stdout",
     "output_type": "stream",
     "text": [
      "Model Was Saved ! Current Best Avg. Dice: 0.22568614780902863 Current Avg. Dice: 0.22568614780902863 Current Avg. tumor Dice: 0.2607233226299286 Current Avg. lymph Dice: 0.21997955441474915\n"
     ]
    },
    {
     "name": "stderr",
     "output_type": "stream",
     "text": [
      "Training (11419 / 18000 Steps) (loss=0.53761): 100%|██████████| 20/20 [01:01<00:00,  3.05s/it]\n",
      "Training (11439 / 18000 Steps) (loss=0.49862): 100%|██████████| 20/20 [00:33<00:00,  1.68s/it]\n",
      "Training (11459 / 18000 Steps) (loss=0.57542): 100%|██████████| 20/20 [00:33<00:00,  1.67s/it]\n",
      "Training (11479 / 18000 Steps) (loss=0.65201): 100%|██████████| 20/20 [00:33<00:00,  1.67s/it]\n",
      "Training (11499 / 18000 Steps) (loss=0.67652): 100%|██████████| 20/20 [00:32<00:00,  1.65s/it]\n",
      "Validate (11500 / 10 Steps): 100%|██████████| 8/8 [00:27<00:00,  3.39s/it]4<?, ?it/s]\n",
      "Training (11500 / 18000 Steps) (loss=0.60782):   5%|▌         | 1/20 [00:31<10:01, 31.66s/it]"
     ]
    },
    {
     "name": "stdout",
     "output_type": "stream",
     "text": [
      "Model Was Not Saved ! Current Best Avg. Dice: 0.22568614780902863 Current Avg. Dice: 0.20368486642837524 Current Avg. tumor Dice: 0.22652556002140045 Current Avg. lymph Dice: 0.20866630971431732\n"
     ]
    },
    {
     "name": "stderr",
     "output_type": "stream",
     "text": [
      "Training (11519 / 18000 Steps) (loss=0.57210): 100%|██████████| 20/20 [01:00<00:00,  3.03s/it]\n",
      "Training (11539 / 18000 Steps) (loss=0.34425): 100%|██████████| 20/20 [00:33<00:00,  1.67s/it]\n",
      "Training (11559 / 18000 Steps) (loss=0.64332): 100%|██████████| 20/20 [00:33<00:00,  1.68s/it]\n",
      "Training (11579 / 18000 Steps) (loss=0.58262): 100%|██████████| 20/20 [00:33<00:00,  1.67s/it]\n",
      "Training (11599 / 18000 Steps) (loss=0.49884): 100%|██████████| 20/20 [00:33<00:00,  1.67s/it]\n",
      "Validate (11600 / 10 Steps): 100%|██████████| 8/8 [00:26<00:00,  3.37s/it]4<?, ?it/s]\n",
      "Training (11600 / 18000 Steps) (loss=0.48830):   5%|▌         | 1/20 [00:31<10:07, 31.95s/it]"
     ]
    },
    {
     "name": "stdout",
     "output_type": "stream",
     "text": [
      "Model Was Not Saved ! Current Best Avg. Dice: 0.22568614780902863 Current Avg. Dice: 0.22109955549240112 Current Avg. tumor Dice: 0.2655491530895233 Current Avg. lymph Dice: 0.20272225141525269\n"
     ]
    },
    {
     "name": "stderr",
     "output_type": "stream",
     "text": [
      "Training (11619 / 18000 Steps) (loss=0.57679): 100%|██████████| 20/20 [01:00<00:00,  3.04s/it]\n",
      "Training (11639 / 18000 Steps) (loss=0.46100): 100%|██████████| 20/20 [00:33<00:00,  1.68s/it]\n",
      "Training (11659 / 18000 Steps) (loss=0.38508): 100%|██████████| 20/20 [00:33<00:00,  1.67s/it]\n",
      "Training (11679 / 18000 Steps) (loss=0.54684): 100%|██████████| 20/20 [00:33<00:00,  1.68s/it]\n",
      "Training (11699 / 18000 Steps) (loss=0.41837): 100%|██████████| 20/20 [00:33<00:00,  1.68s/it]\n",
      "Validate (11700 / 10 Steps): 100%|██████████| 8/8 [00:26<00:00,  3.37s/it]4<?, ?it/s]\n",
      "Training (11700 / 18000 Steps) (loss=0.47675):   5%|▌         | 1/20 [00:31<09:58, 31.48s/it]"
     ]
    },
    {
     "name": "stdout",
     "output_type": "stream",
     "text": [
      "Model Was Not Saved ! Current Best Avg. Dice: 0.22568614780902863 Current Avg. Dice: 0.1820848435163498 Current Avg. tumor Dice: 0.2545708119869232 Current Avg. lymph Dice: 0.1264602392911911\n"
     ]
    },
    {
     "name": "stderr",
     "output_type": "stream",
     "text": [
      "Training (11719 / 18000 Steps) (loss=0.43141): 100%|██████████| 20/20 [01:00<00:00,  3.01s/it]\n",
      "Training (11739 / 18000 Steps) (loss=0.47815): 100%|██████████| 20/20 [00:33<00:00,  1.68s/it]\n",
      "Training (11759 / 18000 Steps) (loss=0.40714): 100%|██████████| 20/20 [00:33<00:00,  1.66s/it]\n",
      "Training (11779 / 18000 Steps) (loss=0.52944): 100%|██████████| 20/20 [00:33<00:00,  1.67s/it]\n",
      "Training (11799 / 18000 Steps) (loss=0.56120): 100%|██████████| 20/20 [00:33<00:00,  1.67s/it]\n",
      "Validate (11800 / 10 Steps): 100%|██████████| 8/8 [00:27<00:00,  3.38s/it]4<?, ?it/s]\n",
      "Training (11800 / 18000 Steps) (loss=0.44425):   5%|▌         | 1/20 [00:31<09:54, 31.28s/it]"
     ]
    },
    {
     "name": "stdout",
     "output_type": "stream",
     "text": [
      "Model Was Not Saved ! Current Best Avg. Dice: 0.22568614780902863 Current Avg. Dice: 0.20669326186180115 Current Avg. tumor Dice: 0.24557121098041534 Current Avg. lymph Dice: 0.19363310933113098\n"
     ]
    },
    {
     "name": "stderr",
     "output_type": "stream",
     "text": [
      "Training (11819 / 18000 Steps) (loss=0.55994): 100%|██████████| 20/20 [01:00<00:00,  3.02s/it]\n",
      "Training (11839 / 18000 Steps) (loss=0.57202): 100%|██████████| 20/20 [00:33<00:00,  1.67s/it]\n",
      "Training (11859 / 18000 Steps) (loss=0.62146): 100%|██████████| 20/20 [00:33<00:00,  1.65s/it]\n",
      "Training (11879 / 18000 Steps) (loss=0.50262): 100%|██████████| 20/20 [00:33<00:00,  1.67s/it]\n",
      "Training (11899 / 18000 Steps) (loss=0.42415): 100%|██████████| 20/20 [00:33<00:00,  1.66s/it]\n",
      "Validate (11900 / 10 Steps): 100%|██████████| 8/8 [00:26<00:00,  3.37s/it]4<?, ?it/s]\n",
      "Training (11900 / 18000 Steps) (loss=0.53765):   5%|▌         | 1/20 [00:31<09:53, 31.25s/it]"
     ]
    },
    {
     "name": "stdout",
     "output_type": "stream",
     "text": [
      "Model Was Not Saved ! Current Best Avg. Dice: 0.22568614780902863 Current Avg. Dice: 0.16485802829265594 Current Avg. tumor Dice: 0.20827645063400269 Current Avg. lymph Dice: 0.14012262225151062\n"
     ]
    },
    {
     "name": "stderr",
     "output_type": "stream",
     "text": [
      "Training (11919 / 18000 Steps) (loss=0.35181): 100%|██████████| 20/20 [01:00<00:00,  3.01s/it]\n",
      "Training (11939 / 18000 Steps) (loss=0.58469): 100%|██████████| 20/20 [00:33<00:00,  1.66s/it]\n",
      "Training (11959 / 18000 Steps) (loss=0.41284): 100%|██████████| 20/20 [00:33<00:00,  1.67s/it]\n",
      "Training (11979 / 18000 Steps) (loss=0.45917): 100%|██████████| 20/20 [00:33<00:00,  1.66s/it]\n",
      "Training (11999 / 18000 Steps) (loss=0.52396): 100%|██████████| 20/20 [00:33<00:00,  1.66s/it]\n",
      "Validate (12000 / 10 Steps): 100%|██████████| 8/8 [00:27<00:00,  3.40s/it]4<?, ?it/s]\n",
      "Training (12000 / 18000 Steps) (loss=0.51794):   5%|▌         | 1/20 [00:31<10:01, 31.64s/it]"
     ]
    },
    {
     "name": "stdout",
     "output_type": "stream",
     "text": [
      "Model Was Not Saved ! Current Best Avg. Dice: 0.22568614780902863 Current Avg. Dice: 0.19767366349697113 Current Avg. tumor Dice: 0.2364756315946579 Current Avg. lymph Dice: 0.1833135336637497\n"
     ]
    },
    {
     "name": "stderr",
     "output_type": "stream",
     "text": [
      "Training (12019 / 18000 Steps) (loss=0.61329): 100%|██████████| 20/20 [01:00<00:00,  3.02s/it]\n",
      "Training (12039 / 18000 Steps) (loss=0.37205): 100%|██████████| 20/20 [00:33<00:00,  1.66s/it]\n",
      "Training (12059 / 18000 Steps) (loss=0.57412): 100%|██████████| 20/20 [00:33<00:00,  1.67s/it]\n",
      "Training (12079 / 18000 Steps) (loss=0.67139): 100%|██████████| 20/20 [00:33<00:00,  1.66s/it]\n",
      "Training (12099 / 18000 Steps) (loss=0.54182): 100%|██████████| 20/20 [00:33<00:00,  1.68s/it]\n",
      "Validate (12100 / 10 Steps): 100%|██████████| 8/8 [00:26<00:00,  3.37s/it]4<?, ?it/s]\n",
      "Training (12100 / 18000 Steps) (loss=0.40854):   5%|▌         | 1/20 [00:31<09:59, 31.58s/it]"
     ]
    },
    {
     "name": "stdout",
     "output_type": "stream",
     "text": [
      "Model Was Not Saved ! Current Best Avg. Dice: 0.22568614780902863 Current Avg. Dice: 0.214983269572258 Current Avg. tumor Dice: 0.25361213088035583 Current Avg. lymph Dice: 0.2034858763217926\n"
     ]
    },
    {
     "name": "stderr",
     "output_type": "stream",
     "text": [
      "Training (12119 / 18000 Steps) (loss=0.57113): 100%|██████████| 20/20 [01:00<00:00,  3.03s/it]\n",
      "Training (12139 / 18000 Steps) (loss=0.66005): 100%|██████████| 20/20 [00:33<00:00,  1.67s/it]\n",
      "Training (12159 / 18000 Steps) (loss=0.49660): 100%|██████████| 20/20 [00:33<00:00,  1.67s/it]\n",
      "Training (12179 / 18000 Steps) (loss=0.56701): 100%|██████████| 20/20 [00:33<00:00,  1.66s/it]\n",
      "Training (12199 / 18000 Steps) (loss=0.28445): 100%|██████████| 20/20 [00:33<00:00,  1.68s/it]\n",
      "Validate (12200 / 10 Steps): 100%|██████████| 8/8 [00:26<00:00,  3.37s/it]4<?, ?it/s]\n",
      "Training (12200 / 18000 Steps) (loss=0.44935):   5%|▌         | 1/20 [00:31<09:53, 31.26s/it]"
     ]
    },
    {
     "name": "stdout",
     "output_type": "stream",
     "text": [
      "Model Was Not Saved ! Current Best Avg. Dice: 0.22568614780902863 Current Avg. Dice: 0.2166062295436859 Current Avg. tumor Dice: 0.24467724561691284 Current Avg. lymph Dice: 0.2175406515598297\n"
     ]
    },
    {
     "name": "stderr",
     "output_type": "stream",
     "text": [
      "Training (12219 / 18000 Steps) (loss=0.61451): 100%|██████████| 20/20 [01:00<00:00,  3.00s/it]\n",
      "Training (12239 / 18000 Steps) (loss=0.40126): 100%|██████████| 20/20 [00:33<00:00,  1.68s/it]\n",
      "Training (12259 / 18000 Steps) (loss=0.56569): 100%|██████████| 20/20 [00:33<00:00,  1.67s/it]\n",
      "Training (12279 / 18000 Steps) (loss=0.55980): 100%|██████████| 20/20 [00:33<00:00,  1.66s/it]\n",
      "Training (12299 / 18000 Steps) (loss=0.63796): 100%|██████████| 20/20 [00:33<00:00,  1.66s/it]\n",
      "Validate (12300 / 10 Steps): 100%|██████████| 8/8 [00:26<00:00,  3.36s/it]4<?, ?it/s]\n",
      "Training (12300 / 18000 Steps) (loss=0.56731):   5%|▌         | 1/20 [00:31<09:52, 31.21s/it]"
     ]
    },
    {
     "name": "stdout",
     "output_type": "stream",
     "text": [
      "Model Was Not Saved ! Current Best Avg. Dice: 0.22568614780902863 Current Avg. Dice: 0.2256229668855667 Current Avg. tumor Dice: 0.2708413898944855 Current Avg. lymph Dice: 0.2080472856760025\n"
     ]
    },
    {
     "name": "stderr",
     "output_type": "stream",
     "text": [
      "Training (12319 / 18000 Steps) (loss=0.59864): 100%|██████████| 20/20 [01:00<00:00,  3.01s/it]\n",
      "Training (12339 / 18000 Steps) (loss=0.50101): 100%|██████████| 20/20 [00:33<00:00,  1.67s/it]\n",
      "Training (12359 / 18000 Steps) (loss=0.51490): 100%|██████████| 20/20 [00:33<00:00,  1.67s/it]\n",
      "Training (12379 / 18000 Steps) (loss=0.33156): 100%|██████████| 20/20 [00:33<00:00,  1.67s/it]\n",
      "Training (12399 / 18000 Steps) (loss=0.50897): 100%|██████████| 20/20 [00:33<00:00,  1.66s/it]\n",
      "Validate (12400 / 10 Steps): 100%|██████████| 8/8 [00:26<00:00,  3.37s/it]4<?, ?it/s]\n",
      "Training (12400 / 18000 Steps) (loss=0.56589):   5%|▌         | 1/20 [00:31<09:53, 31.26s/it]"
     ]
    },
    {
     "name": "stdout",
     "output_type": "stream",
     "text": [
      "Model Was Not Saved ! Current Best Avg. Dice: 0.22568614780902863 Current Avg. Dice: 0.22332563996315002 Current Avg. tumor Dice: 0.23998968303203583 Current Avg. lymph Dice: 0.23845571279525757\n"
     ]
    },
    {
     "name": "stderr",
     "output_type": "stream",
     "text": [
      "Training (12419 / 18000 Steps) (loss=0.56199): 100%|██████████| 20/20 [01:00<00:00,  3.01s/it]\n",
      "Training (12439 / 18000 Steps) (loss=0.59094): 100%|██████████| 20/20 [00:33<00:00,  1.65s/it]\n",
      "Training (12459 / 18000 Steps) (loss=0.59610): 100%|██████████| 20/20 [00:33<00:00,  1.68s/it]\n",
      "Training (12479 / 18000 Steps) (loss=0.59041): 100%|██████████| 20/20 [00:33<00:00,  1.66s/it]\n",
      "Training (12499 / 18000 Steps) (loss=0.52628): 100%|██████████| 20/20 [00:33<00:00,  1.67s/it]\n",
      "Validate (12500 / 10 Steps): 100%|██████████| 8/8 [00:26<00:00,  3.37s/it]4<?, ?it/s]\n",
      "Training (12500 / 18000 Steps) (loss=0.37071):   5%|▌         | 1/20 [00:31<09:52, 31.18s/it]"
     ]
    },
    {
     "name": "stdout",
     "output_type": "stream",
     "text": [
      "Model Was Not Saved ! Current Best Avg. Dice: 0.22568614780902863 Current Avg. Dice: 0.17158092558383942 Current Avg. tumor Dice: 0.24443769454956055 Current Avg. lymph Dice: 0.11391247063875198\n"
     ]
    },
    {
     "name": "stderr",
     "output_type": "stream",
     "text": [
      "Training (12519 / 18000 Steps) (loss=0.54529): 100%|██████████| 20/20 [00:59<00:00,  3.00s/it]\n",
      "Training (12539 / 18000 Steps) (loss=0.23082): 100%|██████████| 20/20 [00:33<00:00,  1.66s/it]\n",
      "Training (12559 / 18000 Steps) (loss=0.59365): 100%|██████████| 20/20 [00:33<00:00,  1.67s/it]\n",
      "Training (12579 / 18000 Steps) (loss=0.49997): 100%|██████████| 20/20 [00:32<00:00,  1.64s/it]\n",
      "Training (12599 / 18000 Steps) (loss=0.45073): 100%|██████████| 20/20 [00:33<00:00,  1.67s/it]\n",
      "Validate (12600 / 10 Steps): 100%|██████████| 8/8 [00:26<00:00,  3.36s/it]4<?, ?it/s]\n",
      "Training (12600 / 18000 Steps) (loss=0.49628):   5%|▌         | 1/20 [00:31<09:56, 31.39s/it]"
     ]
    },
    {
     "name": "stdout",
     "output_type": "stream",
     "text": [
      "Model Was Not Saved ! Current Best Avg. Dice: 0.22568614780902863 Current Avg. Dice: 0.20924368500709534 Current Avg. tumor Dice: 0.2588364779949188 Current Avg. lymph Dice: 0.18421250581741333\n"
     ]
    },
    {
     "name": "stderr",
     "output_type": "stream",
     "text": [
      "Training (12619 / 18000 Steps) (loss=0.48813): 100%|██████████| 20/20 [01:00<00:00,  3.01s/it]\n",
      "Training (12639 / 18000 Steps) (loss=0.69364): 100%|██████████| 20/20 [00:33<00:00,  1.67s/it]\n",
      "Training (12659 / 18000 Steps) (loss=0.56748): 100%|██████████| 20/20 [00:33<00:00,  1.65s/it]\n",
      "Training (12679 / 18000 Steps) (loss=0.51814): 100%|██████████| 20/20 [00:33<00:00,  1.68s/it]\n",
      "Training (12699 / 18000 Steps) (loss=0.34992): 100%|██████████| 20/20 [00:33<00:00,  1.66s/it]\n",
      "Validate (12700 / 10 Steps): 100%|██████████| 8/8 [00:26<00:00,  3.36s/it]4<?, ?it/s]\n",
      "Training (12700 / 18000 Steps) (loss=0.54944):   5%|▌         | 1/20 [00:31<09:50, 31.09s/it]"
     ]
    },
    {
     "name": "stdout",
     "output_type": "stream",
     "text": [
      "Model Was Not Saved ! Current Best Avg. Dice: 0.22568614780902863 Current Avg. Dice: 0.1798907369375229 Current Avg. tumor Dice: 0.23759958148002625 Current Avg. lymph Dice: 0.1409791260957718\n"
     ]
    },
    {
     "name": "stderr",
     "output_type": "stream",
     "text": [
      "Training (12719 / 18000 Steps) (loss=0.39894): 100%|██████████| 20/20 [00:59<00:00,  3.00s/it]\n",
      "Training (12739 / 18000 Steps) (loss=0.64094): 100%|██████████| 20/20 [00:33<00:00,  1.66s/it]\n",
      "Training (12759 / 18000 Steps) (loss=0.51526): 100%|██████████| 20/20 [00:33<00:00,  1.68s/it]\n",
      "Training (12779 / 18000 Steps) (loss=0.54047): 100%|██████████| 20/20 [00:33<00:00,  1.66s/it]\n",
      "Training (12799 / 18000 Steps) (loss=0.62258): 100%|██████████| 20/20 [00:33<00:00,  1.67s/it]\n",
      "Validate (12800 / 10 Steps): 100%|██████████| 8/8 [00:27<00:00,  3.39s/it]4<?, ?it/s]\n",
      "Training (12800 / 18000 Steps) (loss=0.51798):   5%|▌         | 1/20 [00:31<10:02, 31.72s/it]"
     ]
    },
    {
     "name": "stdout",
     "output_type": "stream",
     "text": [
      "Model Was Not Saved ! Current Best Avg. Dice: 0.22568614780902863 Current Avg. Dice: 0.20517565310001373 Current Avg. tumor Dice: 0.25551536679267883 Current Avg. lymph Dice: 0.17865684628486633\n"
     ]
    },
    {
     "name": "stderr",
     "output_type": "stream",
     "text": [
      "Training (12819 / 18000 Steps) (loss=0.56690): 100%|██████████| 20/20 [01:00<00:00,  3.02s/it]\n",
      "Training (12839 / 18000 Steps) (loss=0.57182): 100%|██████████| 20/20 [00:33<00:00,  1.68s/it]\n",
      "Training (12859 / 18000 Steps) (loss=0.66062): 100%|██████████| 20/20 [00:33<00:00,  1.69s/it]\n",
      "Training (12879 / 18000 Steps) (loss=0.45769): 100%|██████████| 20/20 [00:33<00:00,  1.66s/it]\n",
      "Training (12899 / 18000 Steps) (loss=0.53742): 100%|██████████| 20/20 [00:33<00:00,  1.69s/it]\n",
      "Validate (12900 / 10 Steps): 100%|██████████| 8/8 [00:27<00:00,  3.40s/it]4<?, ?it/s]\n",
      "Training (12900 / 18000 Steps) (loss=0.43235):   5%|▌         | 1/20 [00:31<10:00, 31.62s/it]"
     ]
    },
    {
     "name": "stdout",
     "output_type": "stream",
     "text": [
      "Model Was Not Saved ! Current Best Avg. Dice: 0.22568614780902863 Current Avg. Dice: 0.1800047606229782 Current Avg. tumor Dice: 0.24325482547283173 Current Avg. lymph Dice: 0.1347169727087021\n"
     ]
    },
    {
     "name": "stderr",
     "output_type": "stream",
     "text": [
      "Training (12919 / 18000 Steps) (loss=0.42357): 100%|██████████| 20/20 [01:00<00:00,  3.03s/it]\n",
      "Training (12939 / 18000 Steps) (loss=0.55707): 100%|██████████| 20/20 [00:33<00:00,  1.69s/it]\n",
      "Training (12959 / 18000 Steps) (loss=0.59910): 100%|██████████| 20/20 [00:33<00:00,  1.70s/it]\n",
      "Training (12979 / 18000 Steps) (loss=0.50260): 100%|██████████| 20/20 [00:33<00:00,  1.68s/it]\n",
      "Training (12999 / 18000 Steps) (loss=0.48753): 100%|██████████| 20/20 [00:33<00:00,  1.68s/it]\n",
      "Validate (13000 / 10 Steps): 100%|██████████| 8/8 [00:27<00:00,  3.39s/it]4<?, ?it/s]\n",
      "Training (13000 / 18000 Steps) (loss=0.57285):   5%|▌         | 1/20 [00:31<10:01, 31.68s/it]"
     ]
    },
    {
     "name": "stdout",
     "output_type": "stream",
     "text": [
      "Model Was Not Saved ! Current Best Avg. Dice: 0.22568614780902863 Current Avg. Dice: 0.1689012348651886 Current Avg. tumor Dice: 0.23136697709560394 Current Avg. lymph Dice: 0.12281016260385513\n"
     ]
    },
    {
     "name": "stderr",
     "output_type": "stream",
     "text": [
      "Training (13019 / 18000 Steps) (loss=0.49102): 100%|██████████| 20/20 [01:00<00:00,  3.03s/it]\n",
      "Training (13039 / 18000 Steps) (loss=0.48775): 100%|██████████| 20/20 [00:33<00:00,  1.69s/it]\n",
      "Training (13059 / 18000 Steps) (loss=0.57265): 100%|██████████| 20/20 [00:33<00:00,  1.68s/it]\n",
      "Training (13079 / 18000 Steps) (loss=0.54997): 100%|██████████| 20/20 [00:33<00:00,  1.68s/it]\n",
      "Training (13099 / 18000 Steps) (loss=0.40368): 100%|██████████| 20/20 [00:33<00:00,  1.68s/it]\n",
      "Validate (13100 / 10 Steps): 100%|██████████| 8/8 [00:27<00:00,  3.39s/it]4<?, ?it/s]\n",
      "Training (13100 / 18000 Steps) (loss=0.39385):   5%|▌         | 1/20 [00:31<09:53, 31.26s/it]"
     ]
    },
    {
     "name": "stdout",
     "output_type": "stream",
     "text": [
      "Model Was Not Saved ! Current Best Avg. Dice: 0.22568614780902863 Current Avg. Dice: 0.21201878786087036 Current Avg. tumor Dice: 0.2638961374759674 Current Avg. lymph Dice: 0.18477863073349\n"
     ]
    },
    {
     "name": "stderr",
     "output_type": "stream",
     "text": [
      "Training (13119 / 18000 Steps) (loss=0.55011): 100%|██████████| 20/20 [01:00<00:00,  3.01s/it]\n",
      "Training (13139 / 18000 Steps) (loss=0.27731): 100%|██████████| 20/20 [00:33<00:00,  1.66s/it]\n",
      "Training (13159 / 18000 Steps) (loss=0.35749): 100%|██████████| 20/20 [00:33<00:00,  1.67s/it]\n",
      "Training (13179 / 18000 Steps) (loss=0.49578): 100%|██████████| 20/20 [00:33<00:00,  1.68s/it]\n",
      "Training (13199 / 18000 Steps) (loss=0.48405): 100%|██████████| 20/20 [00:33<00:00,  1.67s/it]\n",
      "Validate (13200 / 10 Steps): 100%|██████████| 8/8 [00:27<00:00,  3.38s/it]4<?, ?it/s]\n",
      "Training (13200 / 18000 Steps) (loss=0.49431):   5%|▌         | 1/20 [00:32<10:21, 32.71s/it]"
     ]
    },
    {
     "name": "stdout",
     "output_type": "stream",
     "text": [
      "Model Was Saved ! Current Best Avg. Dice: 0.2326556295156479 Current Avg. Dice: 0.2326556295156479 Current Avg. tumor Dice: 0.24462395906448364 Current Avg. lymph Dice: 0.254639208316803\n"
     ]
    },
    {
     "name": "stderr",
     "output_type": "stream",
     "text": [
      "Training (13219 / 18000 Steps) (loss=0.60057): 100%|██████████| 20/20 [01:01<00:00,  3.09s/it]\n",
      "Training (13239 / 18000 Steps) (loss=0.58322): 100%|██████████| 20/20 [00:33<00:00,  1.68s/it]\n",
      "Training (13259 / 18000 Steps) (loss=0.56909): 100%|██████████| 20/20 [00:33<00:00,  1.68s/it]\n",
      "Training (13279 / 18000 Steps) (loss=0.61771): 100%|██████████| 20/20 [00:33<00:00,  1.68s/it]\n",
      "Training (13299 / 18000 Steps) (loss=0.51033): 100%|██████████| 20/20 [00:33<00:00,  1.68s/it]\n",
      "Validate (13300 / 10 Steps): 100%|██████████| 8/8 [00:27<00:00,  3.39s/it]4<?, ?it/s]\n",
      "Training (13300 / 18000 Steps) (loss=0.61242):   5%|▌         | 1/20 [00:31<10:01, 31.65s/it]"
     ]
    },
    {
     "name": "stdout",
     "output_type": "stream",
     "text": [
      "Model Was Not Saved ! Current Best Avg. Dice: 0.2326556295156479 Current Avg. Dice: 0.21221762895584106 Current Avg. tumor Dice: 0.24943135678768158 Current Avg. lymph Dice: 0.20192758738994598\n"
     ]
    },
    {
     "name": "stderr",
     "output_type": "stream",
     "text": [
      "Training (13319 / 18000 Steps) (loss=0.43782): 100%|██████████| 20/20 [01:00<00:00,  3.03s/it]\n",
      "Training (13339 / 18000 Steps) (loss=0.66931): 100%|██████████| 20/20 [00:33<00:00,  1.67s/it]\n",
      "Training (13359 / 18000 Steps) (loss=0.45953): 100%|██████████| 20/20 [00:33<00:00,  1.67s/it]\n",
      "Training (13379 / 18000 Steps) (loss=0.46768): 100%|██████████| 20/20 [00:33<00:00,  1.67s/it]\n",
      "Training (13399 / 18000 Steps) (loss=0.67120): 100%|██████████| 20/20 [00:33<00:00,  1.67s/it]\n",
      "Validate (13400 / 10 Steps): 100%|██████████| 8/8 [00:27<00:00,  3.39s/it]4<?, ?it/s]\n",
      "Training (13400 / 18000 Steps) (loss=0.42906):   5%|▌         | 1/20 [00:31<10:02, 31.71s/it]"
     ]
    },
    {
     "name": "stdout",
     "output_type": "stream",
     "text": [
      "Model Was Not Saved ! Current Best Avg. Dice: 0.2326556295156479 Current Avg. Dice: 0.1657383292913437 Current Avg. tumor Dice: 0.20297591388225555 Current Avg. lymph Dice: 0.14827010035514832\n"
     ]
    },
    {
     "name": "stderr",
     "output_type": "stream",
     "text": [
      "Training (13419 / 18000 Steps) (loss=0.49685): 100%|██████████| 20/20 [01:00<00:00,  3.03s/it]\n",
      "Training (13439 / 18000 Steps) (loss=0.47979): 100%|██████████| 20/20 [00:33<00:00,  1.68s/it]\n",
      "Training (13459 / 18000 Steps) (loss=0.58218): 100%|██████████| 20/20 [00:33<00:00,  1.67s/it]\n",
      "Training (13479 / 18000 Steps) (loss=0.38179): 100%|██████████| 20/20 [00:33<00:00,  1.68s/it]\n",
      "Training (13499 / 18000 Steps) (loss=0.57560): 100%|██████████| 20/20 [00:33<00:00,  1.68s/it]\n",
      "Validate (13500 / 10 Steps): 100%|██████████| 8/8 [00:27<00:00,  3.39s/it]4<?, ?it/s]\n",
      "Training (13500 / 18000 Steps) (loss=0.58943):   5%|▌         | 1/20 [00:31<09:57, 31.46s/it]"
     ]
    },
    {
     "name": "stdout",
     "output_type": "stream",
     "text": [
      "Model Was Not Saved ! Current Best Avg. Dice: 0.2326556295156479 Current Avg. Dice: 0.16004467010498047 Current Avg. tumor Dice: 0.21748711168766022 Current Avg. lymph Dice: 0.11838717758655548\n"
     ]
    },
    {
     "name": "stderr",
     "output_type": "stream",
     "text": [
      "Training (13519 / 18000 Steps) (loss=0.49854): 100%|██████████| 20/20 [01:00<00:00,  3.02s/it]\n",
      "Training (13539 / 18000 Steps) (loss=0.52680): 100%|██████████| 20/20 [00:33<00:00,  1.68s/it]\n",
      "Training (13559 / 18000 Steps) (loss=0.33093): 100%|██████████| 20/20 [00:33<00:00,  1.67s/it]\n",
      "Training (13579 / 18000 Steps) (loss=0.42519): 100%|██████████| 20/20 [00:33<00:00,  1.69s/it]\n",
      "Training (13599 / 18000 Steps) (loss=0.55301): 100%|██████████| 20/20 [00:33<00:00,  1.68s/it]\n",
      "Validate (13600 / 10 Steps): 100%|██████████| 8/8 [00:27<00:00,  3.39s/it]4<?, ?it/s]\n",
      "Training (13600 / 18000 Steps) (loss=0.48445):   5%|▌         | 1/20 [00:31<10:02, 31.70s/it]"
     ]
    },
    {
     "name": "stdout",
     "output_type": "stream",
     "text": [
      "Model Was Not Saved ! Current Best Avg. Dice: 0.2326556295156479 Current Avg. Dice: 0.19698317348957062 Current Avg. tumor Dice: 0.2073518931865692 Current Avg. lymph Dice: 0.21532437205314636\n"
     ]
    },
    {
     "name": "stderr",
     "output_type": "stream",
     "text": [
      "Training (13619 / 18000 Steps) (loss=0.46500): 100%|██████████| 20/20 [01:00<00:00,  3.03s/it]\n",
      "Training (13639 / 18000 Steps) (loss=0.52323): 100%|██████████| 20/20 [00:33<00:00,  1.67s/it]\n",
      "Training (13659 / 18000 Steps) (loss=0.46910): 100%|██████████| 20/20 [00:33<00:00,  1.67s/it]\n",
      "Training (13679 / 18000 Steps) (loss=0.36784): 100%|██████████| 20/20 [00:33<00:00,  1.68s/it]\n",
      "Training (13699 / 18000 Steps) (loss=0.50737): 100%|██████████| 20/20 [00:33<00:00,  1.68s/it]\n",
      "Validate (13700 / 10 Steps): 100%|██████████| 8/8 [00:27<00:00,  3.38s/it]4<?, ?it/s]\n",
      "Training (13700 / 18000 Steps) (loss=0.54410):   5%|▌         | 1/20 [00:32<10:18, 32.55s/it]"
     ]
    },
    {
     "name": "stdout",
     "output_type": "stream",
     "text": [
      "Model Was Saved ! Current Best Avg. Dice: 0.23676207661628723 Current Avg. Dice: 0.23676207661628723 Current Avg. tumor Dice: 0.2508071959018707 Current Avg. lymph Dice: 0.256777822971344\n"
     ]
    },
    {
     "name": "stderr",
     "output_type": "stream",
     "text": [
      "Training (13719 / 18000 Steps) (loss=0.52926): 100%|██████████| 20/20 [01:01<00:00,  3.07s/it]\n",
      "Training (13739 / 18000 Steps) (loss=0.36017): 100%|██████████| 20/20 [00:33<00:00,  1.68s/it]\n",
      "Training (13759 / 18000 Steps) (loss=0.37922): 100%|██████████| 20/20 [00:33<00:00,  1.68s/it]\n",
      "Training (13779 / 18000 Steps) (loss=0.54353): 100%|██████████| 20/20 [00:33<00:00,  1.69s/it]\n",
      "Training (13799 / 18000 Steps) (loss=0.40056): 100%|██████████| 20/20 [00:33<00:00,  1.67s/it]\n",
      "Validate (13800 / 10 Steps): 100%|██████████| 8/8 [00:27<00:00,  3.38s/it]4<?, ?it/s]\n",
      "Training (13800 / 18000 Steps) (loss=0.51246):   5%|▌         | 1/20 [00:31<09:59, 31.53s/it]"
     ]
    },
    {
     "name": "stdout",
     "output_type": "stream",
     "text": [
      "Model Was Not Saved ! Current Best Avg. Dice: 0.23676207661628723 Current Avg. Dice: 0.20818011462688446 Current Avg. tumor Dice: 0.2208426594734192 Current Avg. lymph Dice: 0.22559715807437897\n"
     ]
    },
    {
     "name": "stderr",
     "output_type": "stream",
     "text": [
      "Training (13819 / 18000 Steps) (loss=0.49390): 100%|██████████| 20/20 [01:00<00:00,  3.02s/it]\n",
      "Training (13839 / 18000 Steps) (loss=0.58972): 100%|██████████| 20/20 [00:33<00:00,  1.68s/it]\n",
      "Training (13859 / 18000 Steps) (loss=0.53695): 100%|██████████| 20/20 [00:33<00:00,  1.67s/it]\n",
      "Training (13879 / 18000 Steps) (loss=0.47646): 100%|██████████| 20/20 [00:33<00:00,  1.68s/it]\n",
      "Training (13899 / 18000 Steps) (loss=0.41685): 100%|██████████| 20/20 [00:33<00:00,  1.68s/it]\n",
      "Validate (13900 / 10 Steps): 100%|██████████| 8/8 [00:26<00:00,  3.37s/it]4<?, ?it/s]\n",
      "Training (13900 / 18000 Steps) (loss=0.41700):   5%|▌         | 1/20 [00:32<10:12, 32.21s/it]"
     ]
    },
    {
     "name": "stdout",
     "output_type": "stream",
     "text": [
      "Model Was Saved ! Current Best Avg. Dice: 0.241254985332489 Current Avg. Dice: 0.241254985332489 Current Avg. tumor Dice: 0.2545524835586548 Current Avg. lymph Dice: 0.2630278766155243\n"
     ]
    },
    {
     "name": "stderr",
     "output_type": "stream",
     "text": [
      "Training (13919 / 18000 Steps) (loss=0.66900): 100%|██████████| 20/20 [01:01<00:00,  3.05s/it]\n",
      "Training (13939 / 18000 Steps) (loss=0.62839): 100%|██████████| 20/20 [00:33<00:00,  1.67s/it]\n",
      "Training (13959 / 18000 Steps) (loss=0.56090): 100%|██████████| 20/20 [00:33<00:00,  1.66s/it]\n",
      "Training (13979 / 18000 Steps) (loss=0.42335): 100%|██████████| 20/20 [00:33<00:00,  1.67s/it]\n",
      "Training (13999 / 18000 Steps) (loss=0.59427): 100%|██████████| 20/20 [00:33<00:00,  1.67s/it]\n",
      "Validate (14000 / 10 Steps): 100%|██████████| 8/8 [00:27<00:00,  3.38s/it]4<?, ?it/s]\n",
      "Training (14000 / 18000 Steps) (loss=0.56531):   5%|▌         | 1/20 [00:31<09:57, 31.45s/it]"
     ]
    },
    {
     "name": "stdout",
     "output_type": "stream",
     "text": [
      "Model Was Not Saved ! Current Best Avg. Dice: 0.241254985332489 Current Avg. Dice: 0.21189624071121216 Current Avg. tumor Dice: 0.24721121788024902 Current Avg. lymph Dice: 0.20374760031700134\n"
     ]
    },
    {
     "name": "stderr",
     "output_type": "stream",
     "text": [
      "Training (14019 / 18000 Steps) (loss=0.52506): 100%|██████████| 20/20 [01:00<00:00,  3.01s/it]\n",
      "Training (14039 / 18000 Steps) (loss=0.57671): 100%|██████████| 20/20 [00:33<00:00,  1.67s/it]\n",
      "Training (14059 / 18000 Steps) (loss=0.47714): 100%|██████████| 20/20 [00:33<00:00,  1.67s/it]\n",
      "Training (14079 / 18000 Steps) (loss=0.34095): 100%|██████████| 20/20 [00:33<00:00,  1.66s/it]\n",
      "Training (14099 / 18000 Steps) (loss=0.39665): 100%|██████████| 20/20 [00:33<00:00,  1.68s/it]\n",
      "Validate (14100 / 10 Steps): 100%|██████████| 8/8 [00:26<00:00,  3.37s/it]4<?, ?it/s]\n",
      "Training (14100 / 18000 Steps) (loss=0.40800):   5%|▌         | 1/20 [00:31<09:55, 31.33s/it]"
     ]
    },
    {
     "name": "stdout",
     "output_type": "stream",
     "text": [
      "Model Was Not Saved ! Current Best Avg. Dice: 0.241254985332489 Current Avg. Dice: 0.22124449908733368 Current Avg. tumor Dice: 0.2595753073692322 Current Avg. lymph Dice: 0.21105419099330902\n"
     ]
    },
    {
     "name": "stderr",
     "output_type": "stream",
     "text": [
      "Training (14119 / 18000 Steps) (loss=0.56510): 100%|██████████| 20/20 [00:59<00:00,  3.00s/it]\n",
      "Training (14139 / 18000 Steps) (loss=0.47229): 100%|██████████| 20/20 [00:33<00:00,  1.68s/it]\n",
      "Training (14159 / 18000 Steps) (loss=0.67009): 100%|██████████| 20/20 [00:33<00:00,  1.67s/it]\n",
      "Training (14179 / 18000 Steps) (loss=0.47947): 100%|██████████| 20/20 [00:33<00:00,  1.67s/it]\n",
      "Training (14199 / 18000 Steps) (loss=0.50824): 100%|██████████| 20/20 [00:33<00:00,  1.68s/it]\n",
      "Validate (14200 / 10 Steps): 100%|██████████| 8/8 [00:26<00:00,  3.37s/it]4<?, ?it/s]\n",
      "Training (14200 / 18000 Steps) (loss=0.48044):   5%|▌         | 1/20 [00:31<09:57, 31.47s/it]"
     ]
    },
    {
     "name": "stdout",
     "output_type": "stream",
     "text": [
      "Model Was Not Saved ! Current Best Avg. Dice: 0.241254985332489 Current Avg. Dice: 0.2236763834953308 Current Avg. tumor Dice: 0.2510097920894623 Current Avg. lymph Dice: 0.22654959559440613\n"
     ]
    },
    {
     "name": "stderr",
     "output_type": "stream",
     "text": [
      "Training (14219 / 18000 Steps) (loss=0.63687): 100%|██████████| 20/20 [01:00<00:00,  3.02s/it]\n",
      "Training (14239 / 18000 Steps) (loss=0.50409): 100%|██████████| 20/20 [00:33<00:00,  1.67s/it]\n",
      "Training (14259 / 18000 Steps) (loss=0.57805): 100%|██████████| 20/20 [00:33<00:00,  1.68s/it]\n",
      "Training (14279 / 18000 Steps) (loss=0.52390): 100%|██████████| 20/20 [00:33<00:00,  1.67s/it]\n",
      "Training (14299 / 18000 Steps) (loss=0.46800): 100%|██████████| 20/20 [00:33<00:00,  1.67s/it]\n",
      "Validate (14300 / 10 Steps): 100%|██████████| 8/8 [00:26<00:00,  3.37s/it]4<?, ?it/s]\n",
      "Training (14300 / 18000 Steps) (loss=0.40893):   5%|▌         | 1/20 [00:31<09:57, 31.46s/it]"
     ]
    },
    {
     "name": "stdout",
     "output_type": "stream",
     "text": [
      "Model Was Not Saved ! Current Best Avg. Dice: 0.241254985332489 Current Avg. Dice: 0.21088889241218567 Current Avg. tumor Dice: 0.23732584714889526 Current Avg. lymph Dice: 0.21282917261123657\n"
     ]
    },
    {
     "name": "stderr",
     "output_type": "stream",
     "text": [
      "Training (14319 / 18000 Steps) (loss=0.62761): 100%|██████████| 20/20 [01:00<00:00,  3.01s/it]\n",
      "Training (14339 / 18000 Steps) (loss=0.50780): 100%|██████████| 20/20 [00:33<00:00,  1.67s/it]\n",
      "Training (14359 / 18000 Steps) (loss=0.54989): 100%|██████████| 20/20 [00:33<00:00,  1.67s/it]\n",
      "Training (14379 / 18000 Steps) (loss=0.55804): 100%|██████████| 20/20 [00:33<00:00,  1.66s/it]\n",
      "Training (14399 / 18000 Steps) (loss=0.43503): 100%|██████████| 20/20 [00:33<00:00,  1.67s/it]\n",
      "Validate (14400 / 10 Steps): 100%|██████████| 8/8 [00:26<00:00,  3.37s/it]4<?, ?it/s]\n",
      "Training (14400 / 18000 Steps) (loss=0.50857):   5%|▌         | 1/20 [00:31<09:57, 31.44s/it]"
     ]
    },
    {
     "name": "stdout",
     "output_type": "stream",
     "text": [
      "Model Was Not Saved ! Current Best Avg. Dice: 0.241254985332489 Current Avg. Dice: 0.2387869507074356 Current Avg. tumor Dice: 0.2544415295124054 Current Avg. lymph Dice: 0.25746041536331177\n"
     ]
    },
    {
     "name": "stderr",
     "output_type": "stream",
     "text": [
      "Training (14419 / 18000 Steps) (loss=0.43075): 100%|██████████| 20/20 [01:00<00:00,  3.02s/it]\n",
      "Training (14439 / 18000 Steps) (loss=0.54643): 100%|██████████| 20/20 [00:33<00:00,  1.68s/it]\n",
      "Training (14459 / 18000 Steps) (loss=0.58725): 100%|██████████| 20/20 [00:33<00:00,  1.66s/it]\n",
      "Training (14479 / 18000 Steps) (loss=0.50057): 100%|██████████| 20/20 [00:33<00:00,  1.67s/it]\n",
      "Training (14499 / 18000 Steps) (loss=0.24497): 100%|██████████| 20/20 [00:33<00:00,  1.66s/it]\n",
      "Validate (14500 / 10 Steps): 100%|██████████| 8/8 [00:26<00:00,  3.37s/it]4<?, ?it/s]\n",
      "Training (14500 / 18000 Steps) (loss=0.50055):   5%|▌         | 1/20 [00:31<09:55, 31.34s/it]"
     ]
    },
    {
     "name": "stdout",
     "output_type": "stream",
     "text": [
      "Model Was Not Saved ! Current Best Avg. Dice: 0.241254985332489 Current Avg. Dice: 0.21812523901462555 Current Avg. tumor Dice: 0.27636319398880005 Current Avg. lymph Dice: 0.18448536098003387\n"
     ]
    },
    {
     "name": "stderr",
     "output_type": "stream",
     "text": [
      "Training (14519 / 18000 Steps) (loss=0.58737): 100%|██████████| 20/20 [01:00<00:00,  3.02s/it]\n",
      "Training (14539 / 18000 Steps) (loss=0.59853): 100%|██████████| 20/20 [00:33<00:00,  1.69s/it]\n",
      "Training (14559 / 18000 Steps) (loss=0.56225): 100%|██████████| 20/20 [00:33<00:00,  1.67s/it]\n",
      "Training (14579 / 18000 Steps) (loss=0.44371): 100%|██████████| 20/20 [00:33<00:00,  1.67s/it]\n",
      "Training (14599 / 18000 Steps) (loss=0.48776): 100%|██████████| 20/20 [00:33<00:00,  1.67s/it]\n",
      "Validate (14600 / 10 Steps): 100%|██████████| 8/8 [00:26<00:00,  3.37s/it]4<?, ?it/s]\n",
      "Training (14600 / 18000 Steps) (loss=0.51692):   5%|▌         | 1/20 [00:31<09:59, 31.54s/it]"
     ]
    },
    {
     "name": "stdout",
     "output_type": "stream",
     "text": [
      "Model Was Not Saved ! Current Best Avg. Dice: 0.241254985332489 Current Avg. Dice: 0.1853826642036438 Current Avg. tumor Dice: 0.24430659413337708 Current Avg. lymph Dice: 0.14591391384601593\n"
     ]
    },
    {
     "name": "stderr",
     "output_type": "stream",
     "text": [
      "Training (14619 / 18000 Steps) (loss=0.61449): 100%|██████████| 20/20 [01:00<00:00,  3.02s/it]\n",
      "Training (14639 / 18000 Steps) (loss=0.57098): 100%|██████████| 20/20 [00:33<00:00,  1.68s/it]\n",
      "Training (14659 / 18000 Steps) (loss=0.48138): 100%|██████████| 20/20 [00:33<00:00,  1.67s/it]\n",
      "Training (14679 / 18000 Steps) (loss=0.61298): 100%|██████████| 20/20 [00:33<00:00,  1.66s/it]\n",
      "Training (14699 / 18000 Steps) (loss=0.61167): 100%|██████████| 20/20 [00:33<00:00,  1.67s/it]\n",
      "Validate (14700 / 10 Steps): 100%|██████████| 8/8 [00:26<00:00,  3.36s/it]4<?, ?it/s]\n",
      "Training (14700 / 18000 Steps) (loss=0.48887):   5%|▌         | 1/20 [00:31<10:03, 31.79s/it]"
     ]
    },
    {
     "name": "stdout",
     "output_type": "stream",
     "text": [
      "Model Was Not Saved ! Current Best Avg. Dice: 0.241254985332489 Current Avg. Dice: 0.18354056775569916 Current Avg. tumor Dice: 0.2343801110982895 Current Avg. lymph Dice: 0.15311658382415771\n"
     ]
    },
    {
     "name": "stderr",
     "output_type": "stream",
     "text": [
      "Training (14719 / 18000 Steps) (loss=0.54702): 100%|██████████| 20/20 [01:00<00:00,  3.03s/it]\n",
      "Training (14739 / 18000 Steps) (loss=0.49798): 100%|██████████| 20/20 [00:34<00:00,  1.70s/it]\n",
      "Training (14759 / 18000 Steps) (loss=0.56612): 100%|██████████| 20/20 [00:33<00:00,  1.67s/it]\n",
      "Training (14779 / 18000 Steps) (loss=0.57394): 100%|██████████| 20/20 [00:33<00:00,  1.68s/it]\n",
      "Training (14799 / 18000 Steps) (loss=0.45675): 100%|██████████| 20/20 [00:33<00:00,  1.68s/it]\n",
      "Validate (14800 / 10 Steps): 100%|██████████| 8/8 [00:26<00:00,  3.37s/it]4<?, ?it/s]\n",
      "Training (14800 / 18000 Steps) (loss=0.58845):   5%|▌         | 1/20 [00:31<09:56, 31.41s/it]"
     ]
    },
    {
     "name": "stdout",
     "output_type": "stream",
     "text": [
      "Model Was Not Saved ! Current Best Avg. Dice: 0.241254985332489 Current Avg. Dice: 0.205435112118721 Current Avg. tumor Dice: 0.2540976107120514 Current Avg. lymph Dice: 0.18033193051815033\n"
     ]
    },
    {
     "name": "stderr",
     "output_type": "stream",
     "text": [
      "Training (14819 / 18000 Steps) (loss=0.45836): 100%|██████████| 20/20 [01:00<00:00,  3.02s/it]\n",
      "Training (14839 / 18000 Steps) (loss=0.57975): 100%|██████████| 20/20 [00:33<00:00,  1.66s/it]\n",
      "Training (14859 / 18000 Steps) (loss=0.41735): 100%|██████████| 20/20 [00:33<00:00,  1.67s/it]\n",
      "Training (14879 / 18000 Steps) (loss=0.30948): 100%|██████████| 20/20 [00:33<00:00,  1.68s/it]\n",
      "Training (14899 / 18000 Steps) (loss=0.59427): 100%|██████████| 20/20 [00:33<00:00,  1.67s/it]\n",
      "Validate (14900 / 10 Steps): 100%|██████████| 8/8 [00:26<00:00,  3.36s/it]4<?, ?it/s]\n",
      "Training (14900 / 18000 Steps) (loss=0.60987):   5%|▌         | 1/20 [00:31<09:55, 31.35s/it]"
     ]
    },
    {
     "name": "stdout",
     "output_type": "stream",
     "text": [
      "Model Was Not Saved ! Current Best Avg. Dice: 0.241254985332489 Current Avg. Dice: 0.1841937005519867 Current Avg. tumor Dice: 0.24486921727657318 Current Avg. lymph Dice: 0.14252102375030518\n"
     ]
    },
    {
     "name": "stderr",
     "output_type": "stream",
     "text": [
      "Training (14919 / 18000 Steps) (loss=0.45221): 100%|██████████| 20/20 [01:00<00:00,  3.03s/it]\n",
      "Training (14939 / 18000 Steps) (loss=0.41127): 100%|██████████| 20/20 [00:33<00:00,  1.67s/it]\n",
      "Training (14959 / 18000 Steps) (loss=0.56787): 100%|██████████| 20/20 [00:33<00:00,  1.67s/it]\n",
      "Training (14979 / 18000 Steps) (loss=0.57201): 100%|██████████| 20/20 [00:33<00:00,  1.70s/it]\n",
      "Training (14999 / 18000 Steps) (loss=0.42869): 100%|██████████| 20/20 [00:34<00:00,  1.70s/it]\n",
      "Validate (15000 / 10 Steps): 100%|██████████| 8/8 [00:27<00:00,  3.41s/it]4<?, ?it/s]\n",
      "Training (15000 / 18000 Steps) (loss=0.50115):   5%|▌         | 1/20 [00:31<10:05, 31.87s/it]"
     ]
    },
    {
     "name": "stdout",
     "output_type": "stream",
     "text": [
      "Model Was Not Saved ! Current Best Avg. Dice: 0.241254985332489 Current Avg. Dice: 0.23615150153636932 Current Avg. tumor Dice: 0.26276615262031555 Current Avg. lymph Dice: 0.24177329242229462\n"
     ]
    },
    {
     "name": "stderr",
     "output_type": "stream",
     "text": [
      "Training (15019 / 18000 Steps) (loss=0.55632): 100%|██████████| 20/20 [01:01<00:00,  3.06s/it]\n",
      "Training (15039 / 18000 Steps) (loss=0.34363): 100%|██████████| 20/20 [00:33<00:00,  1.68s/it]\n",
      "Training (15059 / 18000 Steps) (loss=0.54918): 100%|██████████| 20/20 [00:34<00:00,  1.72s/it]\n",
      "Training (15079 / 18000 Steps) (loss=0.66742): 100%|██████████| 20/20 [00:33<00:00,  1.69s/it]\n",
      "Training (15099 / 18000 Steps) (loss=0.32745): 100%|██████████| 20/20 [00:34<00:00,  1.71s/it]\n",
      "Validate (15100 / 10 Steps): 100%|██████████| 8/8 [00:27<00:00,  3.39s/it]4<?, ?it/s]\n",
      "Training (15100 / 18000 Steps) (loss=0.51812):   5%|▌         | 1/20 [00:31<10:01, 31.67s/it]"
     ]
    },
    {
     "name": "stdout",
     "output_type": "stream",
     "text": [
      "Model Was Not Saved ! Current Best Avg. Dice: 0.241254985332489 Current Avg. Dice: 0.23208920657634735 Current Avg. tumor Dice: 0.25396376848220825 Current Avg. lymph Dice: 0.2425553947687149\n"
     ]
    },
    {
     "name": "stderr",
     "output_type": "stream",
     "text": [
      "Training (15119 / 18000 Steps) (loss=0.42051): 100%|██████████| 20/20 [01:00<00:00,  3.04s/it]\n",
      "Training (15139 / 18000 Steps) (loss=0.49790): 100%|██████████| 20/20 [00:34<00:00,  1.71s/it]\n",
      "Training (15159 / 18000 Steps) (loss=0.43256): 100%|██████████| 20/20 [00:33<00:00,  1.69s/it]\n",
      "Training (15179 / 18000 Steps) (loss=0.62335): 100%|██████████| 20/20 [00:33<00:00,  1.69s/it]\n",
      "Training (15199 / 18000 Steps) (loss=0.48952): 100%|██████████| 20/20 [00:34<00:00,  1.71s/it]\n",
      "Validate (15200 / 10 Steps): 100%|██████████| 8/8 [00:27<00:00,  3.39s/it]4<?, ?it/s]\n",
      "Training (15200 / 18000 Steps) (loss=0.50609):   5%|▌         | 1/20 [00:31<10:02, 31.72s/it]"
     ]
    },
    {
     "name": "stdout",
     "output_type": "stream",
     "text": [
      "Model Was Not Saved ! Current Best Avg. Dice: 0.241254985332489 Current Avg. Dice: 0.20553895831108093 Current Avg. tumor Dice: 0.2646355628967285 Current Avg. lymph Dice: 0.1689719408750534\n"
     ]
    },
    {
     "name": "stderr",
     "output_type": "stream",
     "text": [
      "Training (15219 / 18000 Steps) (loss=0.32147): 100%|██████████| 20/20 [01:01<00:00,  3.05s/it]\n",
      "Training (15239 / 18000 Steps) (loss=0.48331): 100%|██████████| 20/20 [00:34<00:00,  1.70s/it]\n",
      "Training (15259 / 18000 Steps) (loss=0.58845): 100%|██████████| 20/20 [00:33<00:00,  1.69s/it]\n",
      "Training (15279 / 18000 Steps) (loss=0.36380): 100%|██████████| 20/20 [00:34<00:00,  1.73s/it]\n",
      "Training (15299 / 18000 Steps) (loss=0.60258): 100%|██████████| 20/20 [00:33<00:00,  1.69s/it]\n",
      "Validate (15300 / 10 Steps): 100%|██████████| 8/8 [00:27<00:00,  3.39s/it]4<?, ?it/s]\n",
      "Training (15300 / 18000 Steps) (loss=0.58061):   5%|▌         | 1/20 [00:32<10:15, 32.39s/it]"
     ]
    },
    {
     "name": "stdout",
     "output_type": "stream",
     "text": [
      "Model Was Saved ! Current Best Avg. Dice: 0.2487044334411621 Current Avg. Dice: 0.2487044334411621 Current Avg. tumor Dice: 0.2551409602165222 Current Avg. lymph Dice: 0.27953988313674927\n"
     ]
    },
    {
     "name": "stderr",
     "output_type": "stream",
     "text": [
      "Training (15319 / 18000 Steps) (loss=0.29084): 100%|██████████| 20/20 [01:01<00:00,  3.10s/it]\n",
      "Training (15339 / 18000 Steps) (loss=0.54695): 100%|██████████| 20/20 [00:33<00:00,  1.69s/it]\n",
      "Training (15359 / 18000 Steps) (loss=0.37024): 100%|██████████| 20/20 [00:34<00:00,  1.70s/it]\n",
      "Training (15379 / 18000 Steps) (loss=0.58486): 100%|██████████| 20/20 [00:34<00:00,  1.71s/it]\n",
      "Training (15399 / 18000 Steps) (loss=0.38656): 100%|██████████| 20/20 [00:33<00:00,  1.69s/it]\n",
      "Validate (15400 / 10 Steps): 100%|██████████| 8/8 [00:26<00:00,  3.37s/it]4<?, ?it/s]\n",
      "Training (15400 / 18000 Steps) (loss=0.49748):   5%|▌         | 1/20 [00:32<10:18, 32.55s/it]"
     ]
    },
    {
     "name": "stdout",
     "output_type": "stream",
     "text": [
      "Model Was Saved ! Current Best Avg. Dice: 0.2584971487522125 Current Avg. Dice: 0.2584971487522125 Current Avg. tumor Dice: 0.2771652936935425 Current Avg. lymph Dice: 0.27672576904296875\n"
     ]
    },
    {
     "name": "stderr",
     "output_type": "stream",
     "text": [
      "Training (15419 / 18000 Steps) (loss=0.38625): 100%|██████████| 20/20 [01:01<00:00,  3.07s/it]\n",
      "Training (15439 / 18000 Steps) (loss=0.56666): 100%|██████████| 20/20 [00:33<00:00,  1.68s/it]\n",
      "Training (15459 / 18000 Steps) (loss=0.50341): 100%|██████████| 20/20 [00:33<00:00,  1.69s/it]\n",
      "Training (15479 / 18000 Steps) (loss=0.73087): 100%|██████████| 20/20 [00:33<00:00,  1.67s/it]\n",
      "Training (15499 / 18000 Steps) (loss=0.46061): 100%|██████████| 20/20 [00:33<00:00,  1.68s/it]\n",
      "Validate (15500 / 10 Steps): 100%|██████████| 8/8 [00:26<00:00,  3.37s/it]4<?, ?it/s]\n",
      "Training (15500 / 18000 Steps) (loss=0.59209):   5%|▌         | 1/20 [00:31<09:59, 31.56s/it]"
     ]
    },
    {
     "name": "stdout",
     "output_type": "stream",
     "text": [
      "Model Was Not Saved ! Current Best Avg. Dice: 0.2584971487522125 Current Avg. Dice: 0.22779947519302368 Current Avg. tumor Dice: 0.24395594000816345 Current Avg. lymph Dice: 0.24420349299907684\n"
     ]
    },
    {
     "name": "stderr",
     "output_type": "stream",
     "text": [
      "Training (15519 / 18000 Steps) (loss=0.49469): 100%|██████████| 20/20 [01:00<00:00,  3.03s/it]\n",
      "Training (15539 / 18000 Steps) (loss=0.58790): 100%|██████████| 20/20 [00:33<00:00,  1.67s/it]\n",
      "Training (15559 / 18000 Steps) (loss=0.48074): 100%|██████████| 20/20 [00:33<00:00,  1.68s/it]\n",
      "Training (15579 / 18000 Steps) (loss=0.66831): 100%|██████████| 20/20 [00:33<00:00,  1.66s/it]\n",
      "Training (15599 / 18000 Steps) (loss=0.35286): 100%|██████████| 20/20 [00:33<00:00,  1.67s/it]\n",
      "Validate (15600 / 10 Steps): 100%|██████████| 8/8 [00:27<00:00,  3.38s/it]4<?, ?it/s]\n",
      "Training (15600 / 18000 Steps) (loss=0.51163):   5%|▌         | 1/20 [00:31<10:02, 31.70s/it]"
     ]
    },
    {
     "name": "stdout",
     "output_type": "stream",
     "text": [
      "Model Was Not Saved ! Current Best Avg. Dice: 0.2584971487522125 Current Avg. Dice: 0.21549755334854126 Current Avg. tumor Dice: 0.24232983589172363 Current Avg. lymph Dice: 0.21769070625305176\n"
     ]
    },
    {
     "name": "stderr",
     "output_type": "stream",
     "text": [
      "Training (15619 / 18000 Steps) (loss=0.33805): 100%|██████████| 20/20 [01:00<00:00,  3.04s/it]\n",
      "Training (15639 / 18000 Steps) (loss=0.55385): 100%|██████████| 20/20 [00:33<00:00,  1.68s/it]\n",
      "Training (15659 / 18000 Steps) (loss=0.54534): 100%|██████████| 20/20 [00:33<00:00,  1.68s/it]\n",
      "Training (15679 / 18000 Steps) (loss=0.32770): 100%|██████████| 20/20 [00:33<00:00,  1.68s/it]\n",
      "Training (15699 / 18000 Steps) (loss=0.47052): 100%|██████████| 20/20 [00:33<00:00,  1.67s/it]\n",
      "Validate (15700 / 10 Steps): 100%|██████████| 8/8 [00:26<00:00,  3.37s/it]4<?, ?it/s]\n",
      "Training (15700 / 18000 Steps) (loss=0.49697):   5%|▌         | 1/20 [00:31<09:55, 31.33s/it]"
     ]
    },
    {
     "name": "stdout",
     "output_type": "stream",
     "text": [
      "Model Was Not Saved ! Current Best Avg. Dice: 0.2584971487522125 Current Avg. Dice: 0.22639089822769165 Current Avg. tumor Dice: 0.2744516134262085 Current Avg. lymph Dice: 0.20576563477516174\n"
     ]
    },
    {
     "name": "stderr",
     "output_type": "stream",
     "text": [
      "Training (15719 / 18000 Steps) (loss=0.47183): 100%|██████████| 20/20 [01:00<00:00,  3.02s/it]\n",
      "Training (15739 / 18000 Steps) (loss=0.23645): 100%|██████████| 20/20 [00:33<00:00,  1.67s/it]\n",
      "Training (15759 / 18000 Steps) (loss=0.59482): 100%|██████████| 20/20 [00:33<00:00,  1.67s/it]\n",
      "Training (15779 / 18000 Steps) (loss=0.39728): 100%|██████████| 20/20 [00:33<00:00,  1.69s/it]\n",
      "Training (15799 / 18000 Steps) (loss=0.59948): 100%|██████████| 20/20 [00:33<00:00,  1.68s/it]\n",
      "Validate (15800 / 10 Steps): 100%|██████████| 8/8 [00:27<00:00,  3.39s/it]4<?, ?it/s]\n",
      "Training (15800 / 18000 Steps) (loss=0.54501):   5%|▌         | 1/20 [00:31<10:02, 31.68s/it]"
     ]
    },
    {
     "name": "stdout",
     "output_type": "stream",
     "text": [
      "Model Was Not Saved ! Current Best Avg. Dice: 0.2584971487522125 Current Avg. Dice: 0.23376083374023438 Current Avg. tumor Dice: 0.27801793813705444 Current Avg. lymph Dice: 0.2186581790447235\n"
     ]
    },
    {
     "name": "stderr",
     "output_type": "stream",
     "text": [
      "Training (15819 / 18000 Steps) (loss=0.53810): 100%|██████████| 20/20 [01:00<00:00,  3.03s/it]\n",
      "Training (15839 / 18000 Steps) (loss=0.49523): 100%|██████████| 20/20 [00:33<00:00,  1.66s/it]\n",
      "Training (15859 / 18000 Steps) (loss=0.43059): 100%|██████████| 20/20 [00:33<00:00,  1.69s/it]\n",
      "Training (15879 / 18000 Steps) (loss=0.59351): 100%|██████████| 20/20 [00:33<00:00,  1.67s/it]\n",
      "Training (15899 / 18000 Steps) (loss=0.50516): 100%|██████████| 20/20 [00:33<00:00,  1.68s/it]\n",
      "Validate (15900 / 10 Steps): 100%|██████████| 8/8 [00:26<00:00,  3.36s/it]4<?, ?it/s]\n",
      "Training (15900 / 18000 Steps) (loss=0.52478):   5%|▌         | 1/20 [00:31<09:52, 31.20s/it]"
     ]
    },
    {
     "name": "stdout",
     "output_type": "stream",
     "text": [
      "Model Was Not Saved ! Current Best Avg. Dice: 0.2584971487522125 Current Avg. Dice: 0.24611708521842957 Current Avg. tumor Dice: 0.27242612838745117 Current Avg. lymph Dice: 0.25362464785575867\n"
     ]
    },
    {
     "name": "stderr",
     "output_type": "stream",
     "text": [
      "Training (15919 / 18000 Steps) (loss=0.41774): 100%|██████████| 20/20 [01:00<00:00,  3.01s/it]\n",
      "Training (15939 / 18000 Steps) (loss=0.51444): 100%|██████████| 20/20 [00:33<00:00,  1.68s/it]\n",
      "Training (15959 / 18000 Steps) (loss=0.60247): 100%|██████████| 20/20 [00:33<00:00,  1.67s/it]\n",
      "Training (15979 / 18000 Steps) (loss=0.52738): 100%|██████████| 20/20 [00:33<00:00,  1.68s/it]\n",
      "Training (15999 / 18000 Steps) (loss=0.48488): 100%|██████████| 20/20 [00:33<00:00,  1.66s/it]\n",
      "Validate (16000 / 10 Steps): 100%|██████████| 8/8 [00:27<00:00,  3.38s/it]4<?, ?it/s]\n",
      "Training (16000 / 18000 Steps) (loss=0.55414):   5%|▌         | 1/20 [00:31<10:00, 31.61s/it]"
     ]
    },
    {
     "name": "stdout",
     "output_type": "stream",
     "text": [
      "Model Was Not Saved ! Current Best Avg. Dice: 0.2584971487522125 Current Avg. Dice: 0.20564790070056915 Current Avg. tumor Dice: 0.20276221632957458 Current Avg. lymph Dice: 0.2406156361103058\n"
     ]
    },
    {
     "name": "stderr",
     "output_type": "stream",
     "text": [
      "Training (16019 / 18000 Steps) (loss=0.39157): 100%|██████████| 20/20 [01:00<00:00,  3.03s/it]\n",
      "Training (16039 / 18000 Steps) (loss=0.58675): 100%|██████████| 20/20 [00:33<00:00,  1.68s/it]\n",
      "Training (16059 / 18000 Steps) (loss=0.55041): 100%|██████████| 20/20 [00:33<00:00,  1.67s/it]\n",
      "Training (16079 / 18000 Steps) (loss=0.60158): 100%|██████████| 20/20 [00:33<00:00,  1.67s/it]\n",
      "Training (16099 / 18000 Steps) (loss=0.51270): 100%|██████████| 20/20 [00:33<00:00,  1.67s/it]\n",
      "Validate (16100 / 10 Steps): 100%|██████████| 8/8 [00:27<00:00,  3.38s/it]4<?, ?it/s]\n",
      "Training (16100 / 18000 Steps) (loss=0.52737):   5%|▌         | 1/20 [00:31<09:53, 31.25s/it]"
     ]
    },
    {
     "name": "stdout",
     "output_type": "stream",
     "text": [
      "Model Was Not Saved ! Current Best Avg. Dice: 0.2584971487522125 Current Avg. Dice: 0.24312123656272888 Current Avg. tumor Dice: 0.25284966826438904 Current Avg. lymph Dice: 0.26929938793182373\n"
     ]
    },
    {
     "name": "stderr",
     "output_type": "stream",
     "text": [
      "Training (16119 / 18000 Steps) (loss=0.43301): 100%|██████████| 20/20 [01:00<00:00,  3.02s/it]\n",
      "Training (16139 / 18000 Steps) (loss=0.23709): 100%|██████████| 20/20 [00:33<00:00,  1.68s/it]\n",
      "Training (16159 / 18000 Steps) (loss=0.48154): 100%|██████████| 20/20 [00:33<00:00,  1.69s/it]\n",
      "Training (16179 / 18000 Steps) (loss=0.54337): 100%|██████████| 20/20 [00:33<00:00,  1.68s/it]\n",
      "Training (16199 / 18000 Steps) (loss=0.45881): 100%|██████████| 20/20 [00:33<00:00,  1.68s/it]\n",
      "Validate (16200 / 10 Steps): 100%|██████████| 8/8 [00:26<00:00,  3.37s/it]4<?, ?it/s]\n",
      "Training (16200 / 18000 Steps) (loss=0.53250):   5%|▌         | 1/20 [00:31<09:57, 31.43s/it]"
     ]
    },
    {
     "name": "stdout",
     "output_type": "stream",
     "text": [
      "Model Was Not Saved ! Current Best Avg. Dice: 0.2584971487522125 Current Avg. Dice: 0.22658810019493103 Current Avg. tumor Dice: 0.25695735216140747 Current Avg. lymph Dice: 0.22640639543533325\n"
     ]
    },
    {
     "name": "stderr",
     "output_type": "stream",
     "text": [
      "Training (16219 / 18000 Steps) (loss=0.40290): 100%|██████████| 20/20 [01:00<00:00,  3.02s/it]\n",
      "Training (16239 / 18000 Steps) (loss=0.49861): 100%|██████████| 20/20 [00:33<00:00,  1.68s/it]\n",
      "Training (16259 / 18000 Steps) (loss=0.43805): 100%|██████████| 20/20 [00:33<00:00,  1.68s/it]\n",
      "Training (16279 / 18000 Steps) (loss=0.39480): 100%|██████████| 20/20 [00:33<00:00,  1.68s/it]\n",
      "Training (16299 / 18000 Steps) (loss=0.43507): 100%|██████████| 20/20 [00:33<00:00,  1.67s/it]\n",
      "Validate (16300 / 10 Steps): 100%|██████████| 8/8 [00:26<00:00,  3.37s/it]4<?, ?it/s]\n",
      "Training (16300 / 18000 Steps) (loss=0.48335):   5%|▌         | 1/20 [00:31<09:58, 31.49s/it]"
     ]
    },
    {
     "name": "stdout",
     "output_type": "stream",
     "text": [
      "Model Was Not Saved ! Current Best Avg. Dice: 0.2584971487522125 Current Avg. Dice: 0.21378493309020996 Current Avg. tumor Dice: 0.22917479276657104 Current Avg. lymph Dice: 0.22891739010810852\n"
     ]
    },
    {
     "name": "stderr",
     "output_type": "stream",
     "text": [
      "Training (16319 / 18000 Steps) (loss=0.39064): 100%|██████████| 20/20 [01:00<00:00,  3.03s/it]\n",
      "Training (16339 / 18000 Steps) (loss=0.63759): 100%|██████████| 20/20 [00:33<00:00,  1.68s/it]\n",
      "Training (16359 / 18000 Steps) (loss=0.47324): 100%|██████████| 20/20 [00:33<00:00,  1.67s/it]\n",
      "Training (16379 / 18000 Steps) (loss=0.67710): 100%|██████████| 20/20 [00:33<00:00,  1.67s/it]\n",
      "Training (16399 / 18000 Steps) (loss=0.33326): 100%|██████████| 20/20 [00:33<00:00,  1.66s/it]\n",
      "Validate (16400 / 10 Steps): 100%|██████████| 8/8 [00:26<00:00,  3.37s/it]4<?, ?it/s]\n",
      "Training (16400 / 18000 Steps) (loss=0.49886):   5%|▌         | 1/20 [00:32<10:13, 32.31s/it]"
     ]
    },
    {
     "name": "stdout",
     "output_type": "stream",
     "text": [
      "Model Was Saved ! Current Best Avg. Dice: 0.2683631479740143 Current Avg. Dice: 0.2683631479740143 Current Avg. tumor Dice: 0.2861594557762146 Current Avg. lymph Dice: 0.2891155779361725\n"
     ]
    },
    {
     "name": "stderr",
     "output_type": "stream",
     "text": [
      "Training (16419 / 18000 Steps) (loss=0.56694): 100%|██████████| 20/20 [01:01<00:00,  3.09s/it]\n",
      "Training (16439 / 18000 Steps) (loss=0.56221): 100%|██████████| 20/20 [00:33<00:00,  1.68s/it]\n",
      "Training (16459 / 18000 Steps) (loss=0.46615): 100%|██████████| 20/20 [00:33<00:00,  1.68s/it]\n",
      "Training (16479 / 18000 Steps) (loss=0.46816): 100%|██████████| 20/20 [00:33<00:00,  1.70s/it]\n",
      "Training (16499 / 18000 Steps) (loss=0.50956): 100%|██████████| 20/20 [00:33<00:00,  1.69s/it]\n",
      "Validate (16500 / 10 Steps): 100%|██████████| 8/8 [00:26<00:00,  3.37s/it]4<?, ?it/s]\n",
      "Training (16500 / 18000 Steps) (loss=0.45536):   5%|▌         | 1/20 [00:31<09:55, 31.34s/it]"
     ]
    },
    {
     "name": "stdout",
     "output_type": "stream",
     "text": [
      "Model Was Not Saved ! Current Best Avg. Dice: 0.2683631479740143 Current Avg. Dice: 0.25825121998786926 Current Avg. tumor Dice: 0.2550291419029236 Current Avg. lymph Dice: 0.30169999599456787\n"
     ]
    },
    {
     "name": "stderr",
     "output_type": "stream",
     "text": [
      "Training (16519 / 18000 Steps) (loss=0.43376): 100%|██████████| 20/20 [01:00<00:00,  3.02s/it]\n",
      "Training (16539 / 18000 Steps) (loss=0.60552): 100%|██████████| 20/20 [00:33<00:00,  1.69s/it]\n",
      "Training (16559 / 18000 Steps) (loss=0.28590): 100%|██████████| 20/20 [00:33<00:00,  1.68s/it]\n",
      "Training (16579 / 18000 Steps) (loss=0.33281): 100%|██████████| 20/20 [00:33<00:00,  1.65s/it]\n",
      "Training (16599 / 18000 Steps) (loss=0.52619): 100%|██████████| 20/20 [00:33<00:00,  1.68s/it]\n",
      "Validate (16600 / 10 Steps): 100%|██████████| 8/8 [00:27<00:00,  3.38s/it]4<?, ?it/s]\n",
      "Training (16600 / 18000 Steps) (loss=0.54083):   5%|▌         | 1/20 [00:32<10:17, 32.52s/it]"
     ]
    },
    {
     "name": "stdout",
     "output_type": "stream",
     "text": [
      "Model Was Saved ! Current Best Avg. Dice: 0.27092573046684265 Current Avg. Dice: 0.27092573046684265 Current Avg. tumor Dice: 0.28462478518486023 Current Avg. lymph Dice: 0.29680001735687256\n"
     ]
    },
    {
     "name": "stderr",
     "output_type": "stream",
     "text": [
      "Training (16619 / 18000 Steps) (loss=0.32954): 100%|██████████| 20/20 [01:01<00:00,  3.09s/it]\n",
      "Training (16639 / 18000 Steps) (loss=0.39650): 100%|██████████| 20/20 [00:33<00:00,  1.69s/it]\n",
      "Training (16659 / 18000 Steps) (loss=0.60057): 100%|██████████| 20/20 [00:33<00:00,  1.67s/it]\n",
      "Training (16679 / 18000 Steps) (loss=0.54516): 100%|██████████| 20/20 [00:33<00:00,  1.70s/it]\n",
      "Training (16699 / 18000 Steps) (loss=0.29983): 100%|██████████| 20/20 [00:33<00:00,  1.69s/it]\n",
      "Validate (16700 / 10 Steps): 100%|██████████| 8/8 [00:26<00:00,  3.37s/it]4<?, ?it/s]\n",
      "Training (16700 / 18000 Steps) (loss=0.47848):   5%|▌         | 1/20 [00:31<09:56, 31.41s/it]"
     ]
    },
    {
     "name": "stdout",
     "output_type": "stream",
     "text": [
      "Model Was Not Saved ! Current Best Avg. Dice: 0.27092573046684265 Current Avg. Dice: 0.24710038304328918 Current Avg. tumor Dice: 0.2534099519252777 Current Avg. lymph Dice: 0.27783554792404175\n"
     ]
    },
    {
     "name": "stderr",
     "output_type": "stream",
     "text": [
      "Training (16719 / 18000 Steps) (loss=0.55070): 100%|██████████| 20/20 [01:00<00:00,  3.03s/it]\n",
      "Training (16739 / 18000 Steps) (loss=0.47748): 100%|██████████| 20/20 [00:33<00:00,  1.66s/it]\n",
      "Training (16759 / 18000 Steps) (loss=0.53385): 100%|██████████| 20/20 [00:33<00:00,  1.68s/it]\n",
      "Training (16779 / 18000 Steps) (loss=0.21434): 100%|██████████| 20/20 [00:33<00:00,  1.67s/it]\n",
      "Training (16799 / 18000 Steps) (loss=0.61920): 100%|██████████| 20/20 [00:33<00:00,  1.67s/it]\n",
      "Validate (16800 / 10 Steps): 100%|██████████| 8/8 [00:26<00:00,  3.37s/it]4<?, ?it/s]\n",
      "Training (16800 / 18000 Steps) (loss=0.60847):   5%|▌         | 1/20 [00:31<10:04, 31.83s/it]"
     ]
    },
    {
     "name": "stdout",
     "output_type": "stream",
     "text": [
      "Model Was Not Saved ! Current Best Avg. Dice: 0.27092573046684265 Current Avg. Dice: 0.21559375524520874 Current Avg. tumor Dice: 0.2769016623497009 Current Avg. lymph Dice: 0.1780221164226532\n"
     ]
    },
    {
     "name": "stderr",
     "output_type": "stream",
     "text": [
      "Training (16819 / 18000 Steps) (loss=0.54787): 100%|██████████| 20/20 [01:00<00:00,  3.05s/it]\n",
      "Training (16839 / 18000 Steps) (loss=0.54934): 100%|██████████| 20/20 [00:33<00:00,  1.67s/it]\n",
      "Training (16859 / 18000 Steps) (loss=0.48215): 100%|██████████| 20/20 [00:33<00:00,  1.68s/it]\n",
      "Training (16879 / 18000 Steps) (loss=0.53937): 100%|██████████| 20/20 [00:33<00:00,  1.67s/it]\n",
      "Training (16899 / 18000 Steps) (loss=0.50492): 100%|██████████| 20/20 [00:33<00:00,  1.69s/it]\n",
      "Validate (16900 / 10 Steps): 100%|██████████| 8/8 [00:26<00:00,  3.37s/it]4<?, ?it/s]\n",
      "Training (16900 / 18000 Steps) (loss=0.39313):   5%|▌         | 1/20 [00:31<09:58, 31.48s/it]"
     ]
    },
    {
     "name": "stdout",
     "output_type": "stream",
     "text": [
      "Model Was Not Saved ! Current Best Avg. Dice: 0.27092573046684265 Current Avg. Dice: 0.24315905570983887 Current Avg. tumor Dice: 0.2332773655653 Current Avg. lymph Dice: 0.29197007417678833\n"
     ]
    },
    {
     "name": "stderr",
     "output_type": "stream",
     "text": [
      "Training (16919 / 18000 Steps) (loss=0.37012): 100%|██████████| 20/20 [01:00<00:00,  3.04s/it]\n",
      "Training (16939 / 18000 Steps) (loss=0.57625): 100%|██████████| 20/20 [00:33<00:00,  1.69s/it]\n",
      "Training (16959 / 18000 Steps) (loss=0.46575): 100%|██████████| 20/20 [00:33<00:00,  1.69s/it]\n",
      "Training (16979 / 18000 Steps) (loss=0.41350): 100%|██████████| 20/20 [00:33<00:00,  1.66s/it]\n",
      "Training (16999 / 18000 Steps) (loss=0.35521): 100%|██████████| 20/20 [00:33<00:00,  1.67s/it]\n",
      "Validate (17000 / 10 Steps): 100%|██████████| 8/8 [00:27<00:00,  3.38s/it]4<?, ?it/s]\n",
      "Training (17000 / 18000 Steps) (loss=0.51634):   5%|▌         | 1/20 [00:31<09:58, 31.51s/it]"
     ]
    },
    {
     "name": "stdout",
     "output_type": "stream",
     "text": [
      "Model Was Not Saved ! Current Best Avg. Dice: 0.27092573046684265 Current Avg. Dice: 0.2051105797290802 Current Avg. tumor Dice: 0.2229752242565155 Current Avg. lymph Dice: 0.21605299413204193\n"
     ]
    },
    {
     "name": "stderr",
     "output_type": "stream",
     "text": [
      "Training (17019 / 18000 Steps) (loss=0.41294): 100%|██████████| 20/20 [01:00<00:00,  3.03s/it]\n",
      "Training (17039 / 18000 Steps) (loss=0.28741): 100%|██████████| 20/20 [00:33<00:00,  1.68s/it]\n",
      "Training (17059 / 18000 Steps) (loss=0.48404): 100%|██████████| 20/20 [00:33<00:00,  1.67s/it]\n",
      "Training (17079 / 18000 Steps) (loss=0.59541): 100%|██████████| 20/20 [00:34<00:00,  1.71s/it]\n",
      "Training (17099 / 18000 Steps) (loss=0.38142): 100%|██████████| 20/20 [00:33<00:00,  1.68s/it]\n",
      "Validate (17100 / 10 Steps): 100%|██████████| 8/8 [00:26<00:00,  3.37s/it]4<?, ?it/s]\n",
      "Training (17100 / 18000 Steps) (loss=0.50271):   5%|▌         | 1/20 [00:31<09:55, 31.36s/it]"
     ]
    },
    {
     "name": "stdout",
     "output_type": "stream",
     "text": [
      "Model Was Not Saved ! Current Best Avg. Dice: 0.27092573046684265 Current Avg. Dice: 0.24135109782218933 Current Avg. tumor Dice: 0.22675210237503052 Current Avg. lymph Dice: 0.2953270375728607\n"
     ]
    },
    {
     "name": "stderr",
     "output_type": "stream",
     "text": [
      "Training (17119 / 18000 Steps) (loss=0.42613): 100%|██████████| 20/20 [01:00<00:00,  3.01s/it]\n",
      "Training (17139 / 18000 Steps) (loss=0.27668): 100%|██████████| 20/20 [00:33<00:00,  1.69s/it]\n",
      "Training (17159 / 18000 Steps) (loss=0.57175): 100%|██████████| 20/20 [00:33<00:00,  1.67s/it]\n",
      "Training (17179 / 18000 Steps) (loss=0.66788): 100%|██████████| 20/20 [00:34<00:00,  1.72s/it]\n",
      "Training (17199 / 18000 Steps) (loss=0.23641): 100%|██████████| 20/20 [00:33<00:00,  1.67s/it]\n",
      "Validate (17200 / 10 Steps): 100%|██████████| 8/8 [00:26<00:00,  3.37s/it]4<?, ?it/s]\n",
      "Training (17200 / 18000 Steps) (loss=0.41538):   5%|▌         | 1/20 [00:31<10:02, 31.68s/it]"
     ]
    },
    {
     "name": "stdout",
     "output_type": "stream",
     "text": [
      "Model Was Not Saved ! Current Best Avg. Dice: 0.27092573046684265 Current Avg. Dice: 0.23987436294555664 Current Avg. tumor Dice: 0.2728902995586395 Current Avg. lymph Dice: 0.23868276178836823\n"
     ]
    },
    {
     "name": "stderr",
     "output_type": "stream",
     "text": [
      "Training (17219 / 18000 Steps) (loss=0.43423): 100%|██████████| 20/20 [01:00<00:00,  3.04s/it]\n",
      "Training (17239 / 18000 Steps) (loss=0.61120): 100%|██████████| 20/20 [00:33<00:00,  1.67s/it]\n",
      "Training (17259 / 18000 Steps) (loss=0.43902): 100%|██████████| 20/20 [00:33<00:00,  1.67s/it]\n",
      "Training (17279 / 18000 Steps) (loss=0.67354): 100%|██████████| 20/20 [00:33<00:00,  1.66s/it]\n",
      "Training (17299 / 18000 Steps) (loss=0.51982): 100%|██████████| 20/20 [00:33<00:00,  1.70s/it]\n",
      "Validate (17300 / 10 Steps): 100%|██████████| 8/8 [00:26<00:00,  3.37s/it]4<?, ?it/s]\n",
      "Training (17300 / 18000 Steps) (loss=0.49624):   5%|▌         | 1/20 [00:31<09:55, 31.35s/it]"
     ]
    },
    {
     "name": "stdout",
     "output_type": "stream",
     "text": [
      "Model Was Not Saved ! Current Best Avg. Dice: 0.27092573046684265 Current Avg. Dice: 0.22619609534740448 Current Avg. tumor Dice: 0.26740172505378723 Current Avg. lymph Dice: 0.2134505808353424\n"
     ]
    },
    {
     "name": "stderr",
     "output_type": "stream",
     "text": [
      "Training (17319 / 18000 Steps) (loss=0.36899): 100%|██████████| 20/20 [01:00<00:00,  3.02s/it]\n",
      "Training (17339 / 18000 Steps) (loss=0.46888): 100%|██████████| 20/20 [00:33<00:00,  1.67s/it]\n",
      "Training (17359 / 18000 Steps) (loss=0.51113): 100%|██████████| 20/20 [00:33<00:00,  1.68s/it]\n",
      "Training (17379 / 18000 Steps) (loss=0.47591): 100%|██████████| 20/20 [00:33<00:00,  1.66s/it]\n",
      "Training (17399 / 18000 Steps) (loss=0.56896): 100%|██████████| 20/20 [00:33<00:00,  1.67s/it]\n",
      "Validate (17400 / 10 Steps): 100%|██████████| 8/8 [00:26<00:00,  3.37s/it]4<?, ?it/s]\n",
      "Training (17400 / 18000 Steps) (loss=0.26447):   5%|▌         | 1/20 [00:31<09:58, 31.50s/it]"
     ]
    },
    {
     "name": "stdout",
     "output_type": "stream",
     "text": [
      "Model Was Not Saved ! Current Best Avg. Dice: 0.27092573046684265 Current Avg. Dice: 0.20600739121437073 Current Avg. tumor Dice: 0.23017285764217377 Current Avg. lymph Dice: 0.20981763303279877\n"
     ]
    },
    {
     "name": "stderr",
     "output_type": "stream",
     "text": [
      "Training (17419 / 18000 Steps) (loss=0.63018): 100%|██████████| 20/20 [01:00<00:00,  3.02s/it]\n",
      "Training (17439 / 18000 Steps) (loss=0.49612): 100%|██████████| 20/20 [00:33<00:00,  1.68s/it]\n",
      "Training (17459 / 18000 Steps) (loss=0.66386): 100%|██████████| 20/20 [00:33<00:00,  1.68s/it]\n",
      "Training (17479 / 18000 Steps) (loss=0.57244): 100%|██████████| 20/20 [00:33<00:00,  1.68s/it]\n",
      "Training (17499 / 18000 Steps) (loss=0.44134): 100%|██████████| 20/20 [00:33<00:00,  1.67s/it]\n",
      "Validate (17500 / 10 Steps): 100%|██████████| 8/8 [00:27<00:00,  3.39s/it]4<?, ?it/s]\n",
      "Training (17500 / 18000 Steps) (loss=0.46120):   5%|▌         | 1/20 [00:31<10:00, 31.59s/it]"
     ]
    },
    {
     "name": "stdout",
     "output_type": "stream",
     "text": [
      "Model Was Not Saved ! Current Best Avg. Dice: 0.27092573046684265 Current Avg. Dice: 0.22869721055030823 Current Avg. tumor Dice: 0.2537236511707306 Current Avg. lymph Dice: 0.23500467836856842\n"
     ]
    },
    {
     "name": "stderr",
     "output_type": "stream",
     "text": [
      "Training (17519 / 18000 Steps) (loss=0.53400): 100%|██████████| 20/20 [01:00<00:00,  3.02s/it]\n",
      "Training (17539 / 18000 Steps) (loss=0.57396): 100%|██████████| 20/20 [00:33<00:00,  1.66s/it]\n",
      "Training (17559 / 18000 Steps) (loss=0.54572): 100%|██████████| 20/20 [00:33<00:00,  1.67s/it]\n",
      "Training (17579 / 18000 Steps) (loss=0.41521): 100%|██████████| 20/20 [00:33<00:00,  1.68s/it]\n",
      "Training (17599 / 18000 Steps) (loss=0.52171): 100%|██████████| 20/20 [00:33<00:00,  1.66s/it]\n",
      "Validate (17600 / 10 Steps): 100%|██████████| 8/8 [00:27<00:00,  3.38s/it]4<?, ?it/s]\n",
      "Training (17600 / 18000 Steps) (loss=0.53812):   5%|▌         | 1/20 [00:31<09:58, 31.50s/it]"
     ]
    },
    {
     "name": "stdout",
     "output_type": "stream",
     "text": [
      "Model Was Not Saved ! Current Best Avg. Dice: 0.27092573046684265 Current Avg. Dice: 0.244873508810997 Current Avg. tumor Dice: 0.2367691695690155 Current Avg. lymph Dice: 0.2918975055217743\n"
     ]
    },
    {
     "name": "stderr",
     "output_type": "stream",
     "text": [
      "Training (17619 / 18000 Steps) (loss=0.50024): 100%|██████████| 20/20 [01:00<00:00,  3.03s/it]\n",
      "Training (17639 / 18000 Steps) (loss=0.56025): 100%|██████████| 20/20 [00:33<00:00,  1.68s/it]\n",
      "Training (17659 / 18000 Steps) (loss=0.52157): 100%|██████████| 20/20 [00:33<00:00,  1.67s/it]\n",
      "Training (17679 / 18000 Steps) (loss=0.41616): 100%|██████████| 20/20 [00:33<00:00,  1.67s/it]\n",
      "Training (17699 / 18000 Steps) (loss=0.28972): 100%|██████████| 20/20 [00:33<00:00,  1.67s/it]\n",
      "Validate (17700 / 10 Steps): 100%|██████████| 8/8 [00:26<00:00,  3.37s/it]4<?, ?it/s]\n",
      "Training (17700 / 18000 Steps) (loss=0.53451):   5%|▌         | 1/20 [00:31<09:59, 31.55s/it]"
     ]
    },
    {
     "name": "stdout",
     "output_type": "stream",
     "text": [
      "Model Was Not Saved ! Current Best Avg. Dice: 0.27092573046684265 Current Avg. Dice: 0.22202730178833008 Current Avg. tumor Dice: 0.24414658546447754 Current Avg. lymph Dice: 0.23066309094429016\n"
     ]
    },
    {
     "name": "stderr",
     "output_type": "stream",
     "text": [
      "Training (17719 / 18000 Steps) (loss=0.61489): 100%|██████████| 20/20 [01:00<00:00,  3.03s/it]\n",
      "Training (17739 / 18000 Steps) (loss=0.46853): 100%|██████████| 20/20 [00:33<00:00,  1.68s/it]\n",
      "Training (17759 / 18000 Steps) (loss=0.54045): 100%|██████████| 20/20 [00:33<00:00,  1.67s/it]\n",
      "Training (17779 / 18000 Steps) (loss=0.65608): 100%|██████████| 20/20 [00:33<00:00,  1.66s/it]\n",
      "Training (17799 / 18000 Steps) (loss=0.47820): 100%|██████████| 20/20 [00:33<00:00,  1.66s/it]\n",
      "Validate (17800 / 10 Steps): 100%|██████████| 8/8 [00:26<00:00,  3.36s/it]4<?, ?it/s]\n",
      "Training (17800 / 18000 Steps) (loss=0.38888):   5%|▌         | 1/20 [00:31<09:53, 31.24s/it]"
     ]
    },
    {
     "name": "stdout",
     "output_type": "stream",
     "text": [
      "Model Was Not Saved ! Current Best Avg. Dice: 0.27092573046684265 Current Avg. Dice: 0.2220229208469391 Current Avg. tumor Dice: 0.22684602439403534 Current Avg. lymph Dice: 0.2506151795387268\n"
     ]
    },
    {
     "name": "stderr",
     "output_type": "stream",
     "text": [
      "Training (17819 / 18000 Steps) (loss=0.46385): 100%|██████████| 20/20 [01:00<00:00,  3.01s/it]\n",
      "Training (17839 / 18000 Steps) (loss=0.56137): 100%|██████████| 20/20 [00:33<00:00,  1.67s/it]\n",
      "Training (17859 / 18000 Steps) (loss=0.55953): 100%|██████████| 20/20 [00:33<00:00,  1.66s/it]\n",
      "Training (17879 / 18000 Steps) (loss=0.47726): 100%|██████████| 20/20 [00:33<00:00,  1.67s/it]\n",
      "Training (17899 / 18000 Steps) (loss=0.38975): 100%|██████████| 20/20 [00:33<00:00,  1.66s/it]\n",
      "Validate (17900 / 10 Steps): 100%|██████████| 8/8 [00:26<00:00,  3.36s/it]4<?, ?it/s]\n",
      "Training (17900 / 18000 Steps) (loss=0.58376):   5%|▌         | 1/20 [00:31<09:56, 31.40s/it]"
     ]
    },
    {
     "name": "stdout",
     "output_type": "stream",
     "text": [
      "Model Was Not Saved ! Current Best Avg. Dice: 0.27092573046684265 Current Avg. Dice: 0.22142407298088074 Current Avg. tumor Dice: 0.23128554224967957 Current Avg. lymph Dice: 0.24411073327064514\n"
     ]
    },
    {
     "name": "stderr",
     "output_type": "stream",
     "text": [
      "Training (17919 / 18000 Steps) (loss=0.47693): 100%|██████████| 20/20 [01:00<00:00,  3.02s/it]\n",
      "Training (17939 / 18000 Steps) (loss=0.44485): 100%|██████████| 20/20 [00:33<00:00,  1.66s/it]\n",
      "Training (17959 / 18000 Steps) (loss=0.59200): 100%|██████████| 20/20 [00:33<00:00,  1.66s/it]\n",
      "Training (17979 / 18000 Steps) (loss=0.38822): 100%|██████████| 20/20 [00:33<00:00,  1.67s/it]\n",
      "Training (17999 / 18000 Steps) (loss=0.45130): 100%|██████████| 20/20 [00:33<00:00,  1.67s/it]\n"
     ]
    }
   ],
   "source": [
    "epoch = 0 # used for LR scheduler\n",
    "max_num_epochs = 530 # used for LR scheduler\n",
    "\n",
    "torch.autograd.set_detect_anomaly(True)  # Enable anomaly detection\n",
    "\n",
    "while global_step < max_iterations:\n",
    "    global_step, dice_val_best, global_step_best = train(\n",
    "        global_step, train_loader, dice_val_best, global_step_best\n",
    "    )\n",
    "    epoch += 1\n",
    "    #optimizer.param_groups[0]['lr'] = poly_lr(epoch, max_num_epochs, 0.005676 , 0.9)\n",
    "# model.load_state_dict(torch.load(os.path.join(model_dir, \"best_metric_luck_UNETr_prompt.pth\")))"
   ]
  }
 ],
 "metadata": {
  "kernelspec": {
   "display_name": "clam",
   "language": "python",
   "name": "python3"
  },
  "language_info": {
   "codemirror_mode": {
    "name": "ipython",
    "version": 3
   },
   "file_extension": ".py",
   "mimetype": "text/x-python",
   "name": "python",
   "nbconvert_exporter": "python",
   "pygments_lexer": "ipython3",
   "version": "3.8.0"
  }
 },
 "nbformat": 4,
 "nbformat_minor": 2
}
