{
 "cells": [
  {
   "cell_type": "code",
   "execution_count": 1,
   "metadata": {},
   "outputs": [
    {
     "data": {
      "text/plain": [
       "1"
      ]
     },
     "execution_count": 1,
     "metadata": {},
     "output_type": "execute_result"
    }
   ],
   "source": [
    "import os\n",
    "os.environ[\"CUDA_DEVICE_ORDER\"] = \"PCI_BUS_ID\"\n",
    "os.environ[\"CUDA_VISIBLE_DEVICES\"] = \"0\" \n",
    "import torch\n",
    "torch.cuda.device_count()"
   ]
  },
  {
   "cell_type": "code",
   "execution_count": 2,
   "metadata": {},
   "outputs": [],
   "source": [
    "import os\n",
    "import shutil\n",
    "import tempfile\n",
    "\n",
    "import matplotlib.pyplot as plt\n",
    "import numpy as np\n",
    "from tqdm import tqdm\n",
    "from glob import glob\n",
    "# import wandb\n",
    "\n",
    "import monai\n",
    "from monai.losses import DiceCELoss, DiceFocalLoss, FocalLoss\n",
    "from monai.inferers import sliding_window_inference\n",
    "from monai import transforms\n",
    "\n",
    "from monai.transforms import (\n",
    "    AsDiscrete,\n",
    "    Compose,\n",
    "    CropForegroundd,\n",
    "    LoadImaged,\n",
    "    Orientationd,\n",
    "    RandFlipd,\n",
    "    RandCropByPosNegLabeld,\n",
    "    RandShiftIntensityd,\n",
    "    ScaleIntensityRanged,\n",
    "    Spacingd,\n",
    "    RandRotate90d,\n",
    "    MapTransform,\n",
    "    ScaleIntensityd,\n",
    "    #AddChanneld,\n",
    "    SpatialPadd,\n",
    "    CenterSpatialCropd,\n",
    "    EnsureChannelFirstd,\n",
    "    ConcatItemsd,\n",
    "    AdjustContrastd, \n",
    "    Rand3DElasticd,\n",
    "    HistogramNormalized,\n",
    "    NormalizeIntensityd,\n",
    "    Invertd,\n",
    "    SaveImage,\n",
    "\n",
    ")\n",
    "\n",
    "from monai.config import print_config\n",
    "from monai.metrics import DiceMetric\n",
    "from monai.networks.nets import SwinUNETR, UNETR, SegResNet\n",
    "\n",
    "from monai.data import (\n",
    "    DataLoader,\n",
    "    CacheDataset,\n",
    "    load_decathlon_datalist,\n",
    "    decollate_batch,\n",
    ")\n",
    "from monai import data\n",
    "\n",
    "\n",
    "from monai.utils import first, set_determinism\n",
    "from sklearn.model_selection import train_test_split\n",
    "import json\n",
    "\n",
    "\n",
    "import torch"
   ]
  },
  {
   "cell_type": "code",
   "execution_count": 3,
   "metadata": {},
   "outputs": [],
   "source": [
    "set_determinism(seed=1024)"
   ]
  },
  {
   "cell_type": "code",
   "execution_count": 4,
   "metadata": {},
   "outputs": [
    {
     "name": "stdout",
     "output_type": "stream",
     "text": [
      "JSON file created at /home/nada.saadi/CTPET/hecktor2022_cropped/3centers-CTPT.json\n"
     ]
    }
   ],
   "source": [
    "import os\n",
    "import json\n",
    "import random\n",
    "from glob import glob\n",
    "\n",
    "def generate_paths(patient_id):\n",
    "    base_dir = '/home/nada.saadi/MIS-FM/hecktor2022_cropped/data'\n",
    "    return {\n",
    "        'id': os.path.join(base_dir, patient_id),\n",
    "        'ct': os.path.join(base_dir, patient_id, f\"{patient_id}_ct.nii.gz\"),\n",
    "        'pt': os.path.join(base_dir, patient_id, f\"{patient_id}_pt.nii.gz\"),\n",
    "        'seg': os.path.join(base_dir, patient_id, f\"{patient_id}_gt.nii.gz\")\n",
    "    }\n",
    "# Assign each data entry to a random fold\n",
    "all_data = []\n",
    "num_folds = 5\n",
    "centers = ['HGJ', 'HMR', 'MDA']  # Centers to include\n",
    "\n",
    "for file_dir in sorted(glob('data/*')):\n",
    "    patient_id = file_dir.split('/')[-1]\n",
    "    # Check if the file belongs to one of the specified centers\n",
    "    if any(patient_id.startswith(center) for center in centers):\n",
    "        entry = generate_paths(patient_id)\n",
    "        entry['fold'] = random.randint(1, num_folds) - 1\n",
    "        all_data.append(entry)\n",
    "\n",
    "# Compile data into a JSON structure\n",
    "data_json = {\"training\": all_data}\n",
    "\n",
    "# Save to JSON file\n",
    "json_file_path = \"/home/nada.saadi/CTPET/hecktor2022_cropped/3centers-CTPT.json\"\n",
    "with open(json_file_path, 'w') as f:\n",
    "    json.dump(data_json, f, indent=4)\n",
    "\n",
    "print(f\"JSON file created at {json_file_path}\")\n"
   ]
  },
  {
   "cell_type": "code",
   "execution_count": 5,
   "metadata": {},
   "outputs": [],
   "source": [
    "data_dir = '/home/nada.saadi/MIS-FM/hecktor2022_cropped'\n",
    "json_dir = '/home/nada.saadi/CTPET/hecktor2022_cropped/3centers-CTPT.json'"
   ]
  },
  {
   "cell_type": "code",
   "execution_count": 6,
   "metadata": {},
   "outputs": [],
   "source": [
    "def datafold_read(datalist, basedir, fold=0, key=\"training\"):\n",
    "    with open(datalist) as f:\n",
    "        json_data = json.load(f)\n",
    "\n",
    "    json_data = json_data[key]\n",
    "\n",
    "    for d in json_data:\n",
    "        for k in d:\n",
    "            if isinstance(d[k], list):\n",
    "                d[k] = [os.path.join(basedir, iv) for iv in d[k]]\n",
    "            elif isinstance(d[k], str):\n",
    "                d[k] = os.path.join(basedir, d[k]) if len(d[k]) > 0 else d[k]\n",
    "\n",
    "    tr = []\n",
    "    val = []\n",
    "    for d in json_data:\n",
    "        if \"fold\" in d and d[\"fold\"] == fold:\n",
    "            val.append(d)\n",
    "        else:\n",
    "            tr.append(d)\n",
    "\n",
    "    return tr, val"
   ]
  },
  {
   "cell_type": "code",
   "execution_count": 7,
   "metadata": {},
   "outputs": [
    {
     "data": {
      "text/plain": [
       "(216, 51)"
      ]
     },
     "execution_count": 7,
     "metadata": {},
     "output_type": "execute_result"
    }
   ],
   "source": [
    "train_files, validation_files = datafold_read(datalist=json_dir, basedir=data_dir, fold=0)\n",
    "len(train_files), len(validation_files)"
   ]
  },
  {
   "cell_type": "code",
   "execution_count": 8,
   "metadata": {},
   "outputs": [],
   "source": [
    "class ClipCT(MapTransform):\n",
    "    \"\"\"\n",
    "    Convert labels to multi channels based on hecktor classes:\n",
    "    label 1 is the tumor\n",
    "    label 2 is the lymph node\n",
    "\n",
    "    \"\"\"\n",
    "\n",
    "    def __call__(self, data):\n",
    "        d = dict(data)\n",
    "        for key in self.keys:\n",
    "            if key == \"ct\":\n",
    "                d[key] = torch.clip(d[key], min=-200, max=200)\n",
    "            # elif key == \"pt\":\n",
    "            #     d[key] = torch.clip(d[key], d[key].min(), 5)\n",
    "        return d\n",
    "\n",
    "class MulPTFM(MapTransform):\n",
    "    \"\"\"\n",
    "    Mult PT and FM \n",
    "\n",
    "    \"\"\"\n",
    "\n",
    "    def __call__(self, data):\n",
    "        d = dict(data)\n",
    "\n",
    "        fm = d[\"ct\"] > 0\n",
    "        d[\"pt\"] = d[\"pt\"] * fm\n",
    "        return d\n",
    "\n",
    "class SelectClass(MapTransform):\n",
    "    \"\"\"\n",
    "    Select the class for which you want to fine tune the model \n",
    "\n",
    "    \"\"\"\n",
    "    # def __init__(self, keys, cls=1):\n",
    "    #     super(self).__init__(keys)\n",
    "    #     self.cls = cls\n",
    "\n",
    "    def __call__(self, data):\n",
    "        d = dict(data)\n",
    "        d[\"seg\"][d[\"seg\"] == 1] = 0\n",
    "        # d[\"seg\"][d[\"seg\"] == 2] = 1\n",
    "        \n",
    "        return d"
   ]
  },
  {
   "cell_type": "code",
   "execution_count": 9,
   "metadata": {},
   "outputs": [],
   "source": [
    "num_samples = 4\n",
    "\n",
    "train_transforms = Compose(\n",
    "    [\n",
    "        LoadImaged(keys=[\"ct\", \"pt\", \"seg\"], ensure_channel_first = True),\n",
    "        SpatialPadd(keys=[\"ct\", \"pt\", \"seg\"], spatial_size=(200, 200, 310), method='end'),\n",
    "        Orientationd(keys=[\"ct\", \"pt\", \"seg\"], axcodes=\"PLS\"),\n",
    "        NormalizeIntensityd(keys=[\"pt\"]),\n",
    "        ClipCT(keys=[\"ct\"]),\n",
    "        ScaleIntensityd(keys=[\"ct\"], minv=0, maxv=1),\n",
    "        #MulPTFM(keys=[\"ct\",\"pt\"]),\n",
    "        ConcatItemsd(keys=[\"pt\", \"ct\"], name=\"ctpt\"),\n",
    "        #NormalizeIntensityd(keys=[\"ctpt\"], channel_wise=True),\n",
    "        RandCropByPosNegLabeld(\n",
    "            keys=[\"ctpt\", \"seg\"],\n",
    "            label_key=\"seg\",\n",
    "            spatial_size=(96, 96, 96),\n",
    "            pos=1,\n",
    "            neg=1,\n",
    "            num_samples=num_samples,\n",
    "            image_key=\"ctpt\",\n",
    "            image_threshold=0,\n",
    "        ),\n",
    "        RandFlipd(\n",
    "            keys=[\"ctpt\", \"seg\"],\n",
    "            spatial_axis=[0],\n",
    "            prob=0.20,\n",
    "        ),\n",
    "        RandFlipd(\n",
    "            keys=[\"ctpt\", \"seg\"],\n",
    "            spatial_axis=[1],\n",
    "            prob=0.20,\n",
    "        ),\n",
    "        RandFlipd(\n",
    "            keys=[\"ctpt\", \"seg\"],\n",
    "            spatial_axis=[2],\n",
    "            prob=0.20,\n",
    "        ),\n",
    "        RandRotate90d(\n",
    "            keys=[\"ctpt\", \"seg\"],\n",
    "            prob=0.20,\n",
    "            max_k=3,\n",
    "        ),\n",
    "    ]\n",
    ")\n",
    "val_transforms = Compose(\n",
    "    [\n",
    "        LoadImaged(keys=[\"ct\", \"pt\", \"seg\"], ensure_channel_first = True),\n",
    "        SpatialPadd(keys=[\"ct\", \"pt\", \"seg\"], spatial_size=(200, 200, 310), method='end'),\n",
    "        Orientationd(keys=[\"ct\", \"pt\", \"seg\"], axcodes=\"PLS\"),\n",
    "        NormalizeIntensityd(keys=[\"pt\"]),\n",
    "        ClipCT(keys=[\"ct\"]),\n",
    "        ScaleIntensityd(keys=[\"ct\"], minv=0, maxv=1),\n",
    "        #MulPTFM(keys=[\"ct\",\"pt\"]),\n",
    "        ConcatItemsd(keys=[\"pt\", \"ct\"], name=\"ctpt\"),\n",
    "    ]\n",
    ")"
   ]
  },
  {
   "cell_type": "code",
   "execution_count": 10,
   "metadata": {},
   "outputs": [],
   "source": [
    "train_ds = monai.data.Dataset(data=train_files, transform=train_transforms)\n",
    "\n",
    "train_loader = DataLoader(\n",
    "    train_ds,\n",
    "    batch_size=2,\n",
    "    shuffle=True,\n",
    "    num_workers=8,\n",
    "    pin_memory=torch.cuda.is_available(),\n",
    "    )\n",
    "\n",
    "val_ds = monai.data.Dataset(data=validation_files, transform=val_transforms)\n",
    "\n",
    "val_loader = DataLoader(\n",
    "    val_ds, \n",
    "    batch_size=2, \n",
    "    num_workers=8, \n",
    "    shuffle= False)"
   ]
  },
  {
   "cell_type": "code",
   "execution_count": 7,
   "metadata": {},
   "outputs": [
    {
     "name": "stderr",
     "output_type": "stream",
     "text": [
      "/home/nada.saadi/miniconda3/envs/clam/lib/python3.8/site-packages/monai/utils/deprecate_utils.py:221: FutureWarning: monai.networks.nets.unetr UNETR.__init__:pos_embed: Argument `pos_embed` has been deprecated since version 1.2. It will be removed in version 1.4. please use `proj_type` instead.\n",
      "  warn_deprecated(argname, msg, warning_category)\n"
     ]
    },
    {
     "name": "stdout",
     "output_type": "stream",
     "text": [
      "The model has 341 layers in total.\n"
     ]
    }
   ],
   "source": [
    "# os.environ[\"CUDA_DEVICE_ORDER\"] = \"PCI_BUS_ID\"\n",
    "# device = torch.device(\"cuda\" if torch.cuda.is_available() else \"cpu\")\n",
    "# model = UNETR(\n",
    "#     in_channels=2,\n",
    "#     out_channels=3,\n",
    "#     img_size=(96, 96, 96),\n",
    "#     feature_size=16, #16\n",
    "#     hidden_size= 768, #768,\n",
    "#     mlp_dim=3072, #3072,\n",
    "#     num_heads=12,\n",
    "#     pos_embed=\"perceptron\",\n",
    "#     norm_name=\"instance\",\n",
    "#     res_block=True,\n",
    "#     dropout_rate=0.0,\n",
    "# ).to(device) \n",
    "# total_layers = sum(1 for _ in model.modules())\n",
    "# print(f\"The model has {total_layers} layers in total.\")"
   ]
  },
  {
   "cell_type": "code",
   "execution_count": 11,
   "metadata": {},
   "outputs": [
    {
     "name": "stderr",
     "output_type": "stream",
     "text": [
      "/home/nada.saadi/miniconda3/envs/clam/lib/python3.8/site-packages/monai/utils/deprecate_utils.py:221: FutureWarning: monai.networks.nets.unetr UNETR.__init__:pos_embed: Argument `pos_embed` has been deprecated since version 1.2. It will be removed in version 1.4. please use `proj_type` instead.\n",
      "  warn_deprecated(argname, msg, warning_category)\n"
     ]
    }
   ],
   "source": [
    "import torch\n",
    "import torch.nn as nn\n",
    "\n",
    "\n",
    "os.environ[\"CUDA_DEVICE_ORDER\"] = \"PCI_BUS_ID\"\n",
    "device = torch.device(\"cuda\" if torch.cuda.is_available() else \"cpu\")\n",
    "# Load the pretrained weights\n",
    "pretrained_weights = torch.load('/home/nada.saadi/CTPET/hecktor2022_cropped/4centers-ctonly/4centers-ctonly.pth')\n",
    "\n",
    "# Instantiate the new model with 2 input channels\n",
    "new_model = UNETR(\n",
    "    in_channels=2, \n",
    "    out_channels=3,\n",
    "    img_size=(96, 96, 96),\n",
    "    feature_size=16,\n",
    "    hidden_size=768,\n",
    "    mlp_dim=3072,\n",
    "    num_heads=12,\n",
    "    pos_embed=\"perceptron\",\n",
    "    norm_name=\"instance\",\n",
    "    res_block=True,\n",
    "    dropout_rate=0.0,\n",
    ").to(device)"
   ]
  },
  {
   "cell_type": "code",
   "execution_count": 12,
   "metadata": {},
   "outputs": [],
   "source": [
    "def initialize_layers_with_ct_weights(model, pretrained_weights):\n",
    "    for name, param in model.named_parameters():\n",
    "        # Initialize CT channel with pre-trained weights and PET channel randomly for the first convolutional layer\n",
    "        if \"patch_embedding.patch_embeddings.1.weight\" in name:\n",
    "            # CT channel: Use pre-trained weights\n",
    "            ct_weights = pretrained_weights['vit.patch_embedding.patch_embeddings.1.weight']\n",
    "            ct_weights_mean = ct_weights.mean(dim=1, keepdim=True)\n",
    "\n",
    "            # PET channel: Random initialization\n",
    "            pet_weights_random = torch.randn_like(ct_weights_mean)\n",
    "\n",
    "            # Combine CT and PET channel weights\n",
    "            combined_weights = torch.cat([ct_weights_mean, pet_weights_random], dim=1)\n",
    "            param.data.copy_(combined_weights)\n",
    "        else:\n",
    "            # Other layers: Initialize normally\n",
    "            adjusted_name = name.replace(\"vit.\", \"\")\n",
    "            if adjusted_name in pretrained_weights:\n",
    "                param.data.copy_(pretrained_weights[adjusted_name])\n",
    "            else:\n",
    "                # Skipping layers that don't match\n",
    "                print(f\"Skipping initialization for layer: {name}\")"
   ]
  },
  {
   "cell_type": "code",
   "execution_count": 13,
   "metadata": {},
   "outputs": [],
   "source": [
    "torch.backends.cudnn.benchmark = True\n",
    "def poly_lr(epoch, max_epochs, initial_lr, exponent=0.9):\n",
    "    return initial_lr * (1 - epoch / max_epochs)**exponent\n",
    "\n",
    "loss_function = DiceCELoss(to_onehot_y=True, softmax=True)\n",
    "optimizer = torch.optim.AdamW(new_model.parameters(), lr=1e-4, weight_decay=1e-5)"
   ]
  },
  {
   "cell_type": "code",
   "execution_count": 14,
   "metadata": {},
   "outputs": [
    {
     "name": "stderr",
     "output_type": "stream",
     "text": [
      "Training (X / X Steps) (loss=X.X):   0%|          | 0/108 [00:00<?, ?it/s]"
     ]
    },
    {
     "name": "stderr",
     "output_type": "stream",
     "text": [
      "Validate (0 / 10 Steps): 100%|██████████| 26/26 [00:52<00:00,  2.02s/it]1:32<00:05,  1.35it/s]\n",
      "Training (100 / 18000 Steps) (loss=1.41007):  94%|█████████▎| 101/108 [02:26<01:58, 16.90s/it]"
     ]
    },
    {
     "name": "stdout",
     "output_type": "stream",
     "text": [
      "Model Was Saved ! Current Best Avg. Dice: 0.11896323412656784 Current Avg. Dice: 0.11896323412656784 Current Avg. tumor Dice: 0.19775360822677612 Current Avg. lymph Dice: 0.021223638206720352\n"
     ]
    },
    {
     "name": "stderr",
     "output_type": "stream",
     "text": [
      "Training (107 / 18000 Steps) (loss=1.41339): 100%|██████████| 108/108 [02:32<00:00,  1.41s/it]\n",
      "Validate (108 / 10 Steps): 100%|██████████| 26/26 [00:48<00:00,  1.86s/it]5<00:11,  1.39it/s]\n",
      "Training (200 / 18000 Steps) (loss=1.28624):  86%|████████▌ | 93/108 [02:14<03:51, 15.44s/it]"
     ]
    },
    {
     "name": "stdout",
     "output_type": "stream",
     "text": [
      "Model Was Saved ! Current Best Avg. Dice: 0.21938294172286987 Current Avg. Dice: 0.21938294172286987 Current Avg. tumor Dice: 0.35342568159103394 Current Avg. lymph Dice: 0.05774104967713356\n"
     ]
    },
    {
     "name": "stderr",
     "output_type": "stream",
     "text": [
      "Training (215 / 18000 Steps) (loss=1.28419): 100%|██████████| 108/108 [02:24<00:00,  1.34s/it]\n",
      "Validate (216 / 10 Steps): 100%|██████████| 26/26 [00:51<00:00,  2.00s/it]8<00:14,  1.63it/s]\n",
      "Training (300 / 18000 Steps) (loss=1.19556):  79%|███████▊  | 85/108 [01:51<06:18, 16.46s/it]"
     ]
    },
    {
     "name": "stdout",
     "output_type": "stream",
     "text": [
      "Model Was Saved ! Current Best Avg. Dice: 0.25669533014297485 Current Avg. Dice: 0.25669533014297485 Current Avg. tumor Dice: 0.4469369649887085 Current Avg. lymph Dice: 0.012374849058687687\n"
     ]
    },
    {
     "name": "stderr",
     "output_type": "stream",
     "text": [
      "Training (323 / 18000 Steps) (loss=1.14364): 100%|██████████| 108/108 [02:05<00:00,  1.16s/it]\n",
      "Validate (324 / 10 Steps): 100%|██████████| 26/26 [01:15<00:00,  2.89s/it]3<00:26,  1.23it/s]\n",
      "Training (400 / 18000 Steps) (loss=1.09165):  71%|███████▏  | 77/108 [02:19<12:10, 23.56s/it]"
     ]
    },
    {
     "name": "stdout",
     "output_type": "stream",
     "text": [
      "Model Was Saved ! Current Best Avg. Dice: 0.2713523209095001 Current Avg. Dice: 0.2713523209095001 Current Avg. tumor Dice: 0.4791909158229828 Current Avg. lymph Dice: 0.0064237541519105434\n"
     ]
    },
    {
     "name": "stderr",
     "output_type": "stream",
     "text": [
      "Training (431 / 18000 Steps) (loss=1.05432): 100%|██████████| 108/108 [02:40<00:00,  1.49s/it]\n",
      "Validate (432 / 10 Steps): 100%|██████████| 26/26 [00:47<00:00,  1.83s/it]2<00:27,  1.47it/s]\n",
      "Training (500 / 18000 Steps) (loss=1.06941):  64%|██████▍   | 69/108 [01:40<09:43, 14.96s/it]"
     ]
    },
    {
     "name": "stdout",
     "output_type": "stream",
     "text": [
      "Model Was Not Saved ! Current Best Avg. Dice: 0.2713523209095001 Current Avg. Dice: 0.14157690107822418 Current Avg. tumor Dice: 0.25917449593544006 Current Avg. lymph Dice: 0.002249471377581358\n"
     ]
    },
    {
     "name": "stderr",
     "output_type": "stream",
     "text": [
      "Training (539 / 18000 Steps) (loss=1.02419): 100%|██████████| 108/108 [02:06<00:00,  1.17s/it]\n",
      "Validate (540 / 10 Steps): 100%|██████████| 26/26 [00:47<00:00,  1.84s/it]1<00:23,  2.01it/s]\n",
      "Training (600 / 18000 Steps) (loss=0.94377):  56%|█████▋    | 61/108 [01:29<11:36, 14.82s/it]"
     ]
    },
    {
     "name": "stdout",
     "output_type": "stream",
     "text": [
      "Model Was Not Saved ! Current Best Avg. Dice: 0.2713523209095001 Current Avg. Dice: 0.23694393038749695 Current Avg. tumor Dice: 0.4276948869228363 Current Avg. lymph Dice: 0.0010920350905507803\n"
     ]
    },
    {
     "name": "stderr",
     "output_type": "stream",
     "text": [
      "Training (647 / 18000 Steps) (loss=0.93016): 100%|██████████| 108/108 [02:17<00:00,  1.27s/it]\n",
      "Validate (648 / 10 Steps): 100%|██████████| 26/26 [00:48<00:00,  1.87s/it]2<00:48,  1.16it/s]\n",
      "Training (700 / 18000 Steps) (loss=0.92276):  49%|████▉     | 53/108 [01:50<14:08, 15.44s/it]"
     ]
    },
    {
     "name": "stdout",
     "output_type": "stream",
     "text": [
      "Model Was Not Saved ! Current Best Avg. Dice: 0.2713523209095001 Current Avg. Dice: 0.21531382203102112 Current Avg. tumor Dice: 0.38389450311660767 Current Avg. lymph Dice: 0.001874230452813208\n"
     ]
    },
    {
     "name": "stderr",
     "output_type": "stream",
     "text": [
      "Training (755 / 18000 Steps) (loss=0.89405): 100%|██████████| 108/108 [02:26<00:00,  1.36s/it]\n",
      "Validate (756 / 10 Steps): 100%|██████████| 26/26 [00:44<00:00,  1.69s/it]5<00:42,  1.52it/s]\n",
      "Training (800 / 18000 Steps) (loss=0.83831):  42%|████▏     | 45/108 [01:20<14:50, 14.14s/it]"
     ]
    },
    {
     "name": "stdout",
     "output_type": "stream",
     "text": [
      "Model Was Saved ! Current Best Avg. Dice: 0.3084995150566101 Current Avg. Dice: 0.3084995150566101 Current Avg. tumor Dice: 0.45204511284828186 Current Avg. lymph Dice: 0.13205184042453766\n"
     ]
    },
    {
     "name": "stderr",
     "output_type": "stream",
     "text": [
      "Training (863 / 18000 Steps) (loss=0.81330): 100%|██████████| 108/108 [02:00<00:00,  1.12s/it]\n",
      "Validate (864 / 10 Steps): 100%|██████████| 26/26 [01:16<00:00,  2.95s/it]4<01:10,  1.02it/s]\n",
      "Training (900 / 18000 Steps) (loss=0.78717):  34%|███▍      | 37/108 [01:51<28:26, 24.03s/it]"
     ]
    },
    {
     "name": "stdout",
     "output_type": "stream",
     "text": [
      "Model Was Not Saved ! Current Best Avg. Dice: 0.3084995150566101 Current Avg. Dice: 0.27072280645370483 Current Avg. tumor Dice: 0.4084654450416565 Current Avg. lymph Dice: 0.10390316694974899\n"
     ]
    },
    {
     "name": "stderr",
     "output_type": "stream",
     "text": [
      "Training (971 / 18000 Steps) (loss=0.83659): 100%|██████████| 108/108 [02:45<00:00,  1.53s/it]\n",
      "Validate (972 / 10 Steps): 100%|██████████| 26/26 [00:42<00:00,  1.64s/it]26<00:52,  1.53it/s]\n",
      "Training (1000 / 18000 Steps) (loss=0.77609):  27%|██▋       | 29/108 [01:10<18:04, 13.72s/it]"
     ]
    },
    {
     "name": "stdout",
     "output_type": "stream",
     "text": [
      "Model Was Saved ! Current Best Avg. Dice: 0.3851906955242157 Current Avg. Dice: 0.3851906955242157 Current Avg. tumor Dice: 0.5638008713722229 Current Avg. lymph Dice: 0.17338137328624725\n"
     ]
    },
    {
     "name": "stderr",
     "output_type": "stream",
     "text": [
      "Training (1079 / 18000 Steps) (loss=0.74762): 100%|██████████| 108/108 [02:00<00:00,  1.12s/it]\n",
      "Validate (1080 / 10 Steps): 100%|██████████| 26/26 [00:54<00:00,  2.11s/it]9<01:00,  1.47it/s]\n",
      "Training (1100 / 18000 Steps) (loss=0.70416):  19%|█▉        | 21/108 [01:15<25:14, 17.40s/it]"
     ]
    },
    {
     "name": "stdout",
     "output_type": "stream",
     "text": [
      "Model Was Saved ! Current Best Avg. Dice: 0.46082329750061035 Current Avg. Dice: 0.46082329750061035 Current Avg. tumor Dice: 0.5380311012268066 Current Avg. lymph Dice: 0.3763993978500366\n"
     ]
    },
    {
     "name": "stderr",
     "output_type": "stream",
     "text": [
      "Training (1187 / 18000 Steps) (loss=0.78573): 100%|██████████| 108/108 [02:48<00:00,  1.56s/it]\n",
      "Validate (1188 / 10 Steps): 100%|██████████| 26/26 [00:48<00:00,  1.85s/it]5<01:01,  1.56it/s]\n",
      "Training (1200 / 18000 Steps) (loss=0.73097):  12%|█▏        | 13/108 [01:04<24:36, 15.55s/it]"
     ]
    },
    {
     "name": "stdout",
     "output_type": "stream",
     "text": [
      "Model Was Saved ! Current Best Avg. Dice: 0.49959006905555725 Current Avg. Dice: 0.49959006905555725 Current Avg. tumor Dice: 0.571276843547821 Current Avg. lymph Dice: 0.4235186278820038\n"
     ]
    },
    {
     "name": "stderr",
     "output_type": "stream",
     "text": [
      "Training (1295 / 18000 Steps) (loss=0.77901): 100%|██████████| 108/108 [01:58<00:00,  1.09s/it]\n",
      "Validate (1296 / 10 Steps): 100%|██████████| 26/26 [00:45<00:00,  1.75s/it]<02:06,  1.22s/it]\n",
      "Training (1300 / 18000 Steps) (loss=0.69330):   5%|▍         | 5/108 [00:53<30:19, 17.66s/it]"
     ]
    },
    {
     "name": "stdout",
     "output_type": "stream",
     "text": [
      "Model Was Not Saved ! Current Best Avg. Dice: 0.49959006905555725 Current Avg. Dice: 0.41948434710502625 Current Avg. tumor Dice: 0.5309275388717651 Current Avg. lymph Dice: 0.2868225574493408\n"
     ]
    },
    {
     "name": "stderr",
     "output_type": "stream",
     "text": [
      "Validate (1296 / 10 Steps): 100%|██████████| 26/26 [01:11<00:00,  2.76s/it]55<00:03,  1.02it/s]\n",
      "Training (1400 / 18000 Steps) (loss=0.66415):  97%|█████████▋| 105/108 [03:07<01:07, 22.49s/it]"
     ]
    },
    {
     "name": "stdout",
     "output_type": "stream",
     "text": [
      "Model Was Not Saved ! Current Best Avg. Dice: 0.49959006905555725 Current Avg. Dice: 0.3767588138580322 Current Avg. tumor Dice: 0.3757171928882599 Current Avg. lymph Dice: 0.38701331615448\n"
     ]
    },
    {
     "name": "stderr",
     "output_type": "stream",
     "text": [
      "Training (1403 / 18000 Steps) (loss=0.71828): 100%|██████████| 108/108 [03:10<00:00,  1.76s/it]\n",
      "Validate (1404 / 10 Steps): 100%|██████████| 26/26 [00:45<00:00,  1.73s/it]1<00:06,  1.75it/s]\n",
      "Training (1500 / 18000 Steps) (loss=0.59045):  90%|████████▉ | 97/108 [01:46<02:35, 14.12s/it]"
     ]
    },
    {
     "name": "stdout",
     "output_type": "stream",
     "text": [
      "Model Was Not Saved ! Current Best Avg. Dice: 0.49959006905555725 Current Avg. Dice: 0.4859609007835388 Current Avg. tumor Dice: 0.6278300285339355 Current Avg. lymph Dice: 0.31485146284103394\n"
     ]
    },
    {
     "name": "stderr",
     "output_type": "stream",
     "text": [
      "Training (1511 / 18000 Steps) (loss=0.63173): 100%|██████████| 108/108 [01:52<00:00,  1.04s/it]\n",
      "Validate (1512 / 10 Steps): 100%|██████████| 26/26 [00:44<00:00,  1.72s/it]8<00:11,  1.77it/s]\n",
      "Training (1600 / 18000 Steps) (loss=0.58309):  82%|████████▏ | 89/108 [01:43<04:26, 14.03s/it]"
     ]
    },
    {
     "name": "stdout",
     "output_type": "stream",
     "text": [
      "Model Was Not Saved ! Current Best Avg. Dice: 0.49959006905555725 Current Avg. Dice: 0.4870836138725281 Current Avg. tumor Dice: 0.5234735012054443 Current Avg. lymph Dice: 0.4517887532711029\n"
     ]
    },
    {
     "name": "stderr",
     "output_type": "stream",
     "text": [
      "Training (1619 / 18000 Steps) (loss=0.54617): 100%|██████████| 108/108 [01:54<00:00,  1.06s/it]\n",
      "Validate (1620 / 10 Steps): 100%|██████████| 26/26 [00:55<00:00,  2.12s/it]5<00:20,  1.35it/s]\n",
      "Training (1700 / 18000 Steps) (loss=0.62090):  75%|███████▌  | 81/108 [02:11<07:53, 17.53s/it]"
     ]
    },
    {
     "name": "stdout",
     "output_type": "stream",
     "text": [
      "Model Was Saved ! Current Best Avg. Dice: 0.5225220322608948 Current Avg. Dice: 0.5225220322608948 Current Avg. tumor Dice: 0.6034868955612183 Current Avg. lymph Dice: 0.43432244658470154\n"
     ]
    },
    {
     "name": "stderr",
     "output_type": "stream",
     "text": [
      "Training (1727 / 18000 Steps) (loss=0.62053): 100%|██████████| 108/108 [02:27<00:00,  1.36s/it]\n",
      "Validate (1728 / 10 Steps): 100%|██████████| 26/26 [00:46<00:00,  1.78s/it]8<00:22,  1.61it/s]\n",
      "Training (1800 / 18000 Steps) (loss=0.59859):  68%|██████▊   | 73/108 [01:35<08:35, 14.74s/it]"
     ]
    },
    {
     "name": "stdout",
     "output_type": "stream",
     "text": [
      "Model Was Saved ! Current Best Avg. Dice: 0.5572541356086731 Current Avg. Dice: 0.5572541356086731 Current Avg. tumor Dice: 0.6457681059837341 Current Avg. lymph Dice: 0.4581252336502075\n"
     ]
    },
    {
     "name": "stderr",
     "output_type": "stream",
     "text": [
      "Training (1835 / 18000 Steps) (loss=0.60814): 100%|██████████| 108/108 [01:56<00:00,  1.08s/it]\n",
      "Validate (1836 / 10 Steps): 100%|██████████| 26/26 [00:54<00:00,  2.11s/it]3<00:24,  1.79it/s]\n",
      "Training (1900 / 18000 Steps) (loss=0.53860):  60%|██████    | 65/108 [01:38<12:10, 17.00s/it]"
     ]
    },
    {
     "name": "stdout",
     "output_type": "stream",
     "text": [
      "Model Was Not Saved ! Current Best Avg. Dice: 0.5572541356086731 Current Avg. Dice: 0.5307477116584778 Current Avg. tumor Dice: 0.6053944826126099 Current Avg. lymph Dice: 0.44781365990638733\n"
     ]
    },
    {
     "name": "stderr",
     "output_type": "stream",
     "text": [
      "Training (1943 / 18000 Steps) (loss=0.56566): 100%|██████████| 108/108 [02:20<00:00,  1.30s/it]\n",
      "Validate (1944 / 10 Steps): 100%|██████████| 26/26 [00:45<00:00,  1.75s/it]5<00:31,  1.67it/s]\n",
      "Training (2000 / 18000 Steps) (loss=0.60800):  53%|█████▎    | 57/108 [01:31<12:06, 14.25s/it]"
     ]
    },
    {
     "name": "stdout",
     "output_type": "stream",
     "text": [
      "Model Was Not Saved ! Current Best Avg. Dice: 0.5572541356086731 Current Avg. Dice: 0.5348302721977234 Current Avg. tumor Dice: 0.6011214256286621 Current Avg. lymph Dice: 0.4626017212867737\n"
     ]
    },
    {
     "name": "stderr",
     "output_type": "stream",
     "text": [
      "Training (2051 / 18000 Steps) (loss=0.55906): 100%|██████████| 108/108 [02:00<00:00,  1.12s/it]\n",
      "Validate (2052 / 10 Steps): 100%|██████████| 26/26 [00:42<00:00,  1.62s/it]5<00:35,  1.67it/s]\n",
      "Training (2100 / 18000 Steps) (loss=0.59166):  45%|████▌     | 49/108 [01:18<13:12, 13.43s/it]"
     ]
    },
    {
     "name": "stdout",
     "output_type": "stream",
     "text": [
      "Model Was Saved ! Current Best Avg. Dice: 0.5605856776237488 Current Avg. Dice: 0.5605856776237488 Current Avg. tumor Dice: 0.6369365453720093 Current Avg. lymph Dice: 0.4769093096256256\n"
     ]
    },
    {
     "name": "stderr",
     "output_type": "stream",
     "text": [
      "Training (2159 / 18000 Steps) (loss=0.51974): 100%|██████████| 108/108 [01:52<00:00,  1.04s/it]\n",
      "Validate (2160 / 10 Steps): 100%|██████████| 26/26 [01:11<00:00,  2.75s/it]1<01:15,  1.11s/it]\n",
      "Training (2200 / 18000 Steps) (loss=0.50017):  38%|███▊      | 41/108 [02:03<25:15, 22.63s/it]"
     ]
    },
    {
     "name": "stdout",
     "output_type": "stream",
     "text": [
      "Model Was Not Saved ! Current Best Avg. Dice: 0.5605856776237488 Current Avg. Dice: 0.5025396943092346 Current Avg. tumor Dice: 0.6036782264709473 Current Avg. lymph Dice: 0.38512474298477173\n"
     ]
    },
    {
     "name": "stderr",
     "output_type": "stream",
     "text": [
      "Training (2267 / 18000 Steps) (loss=0.65876): 100%|██████████| 108/108 [02:47<00:00,  1.55s/it]\n",
      "Validate (2268 / 10 Steps): 100%|██████████| 26/26 [00:42<00:00,  1.62s/it]5<00:41,  1.85it/s]\n",
      "Training (2300 / 18000 Steps) (loss=0.52310):  31%|███       | 33/108 [01:08<16:54, 13.53s/it]"
     ]
    },
    {
     "name": "stdout",
     "output_type": "stream",
     "text": [
      "Model Was Saved ! Current Best Avg. Dice: 0.5881684422492981 Current Avg. Dice: 0.5881684422492981 Current Avg. tumor Dice: 0.6757164001464844 Current Avg. lymph Dice: 0.49219995737075806\n"
     ]
    },
    {
     "name": "stderr",
     "output_type": "stream",
     "text": [
      "Training (2375 / 18000 Steps) (loss=0.61638): 100%|██████████| 108/108 [01:47<00:00,  1.01it/s]\n",
      "Validate (2376 / 10 Steps): 100%|██████████| 26/26 [01:03<00:00,  2.44s/it]1<00:45,  1.85it/s]\n",
      "Training (2400 / 18000 Steps) (loss=0.55671):  23%|██▎       | 25/108 [01:24<27:05, 19.59s/it]"
     ]
    },
    {
     "name": "stdout",
     "output_type": "stream",
     "text": [
      "Model Was Not Saved ! Current Best Avg. Dice: 0.5881684422492981 Current Avg. Dice: 0.558329701423645 Current Avg. tumor Dice: 0.6357536911964417 Current Avg. lymph Dice: 0.47280153632164\n"
     ]
    },
    {
     "name": "stderr",
     "output_type": "stream",
     "text": [
      "Training (2483 / 18000 Steps) (loss=0.50196): 100%|██████████| 108/108 [02:37<00:00,  1.46s/it]\n",
      "Validate (2484 / 10 Steps): 100%|██████████| 26/26 [00:51<00:00,  1.98s/it]7<01:03,  1.45it/s]\n",
      "Training (2500 / 18000 Steps) (loss=0.41342):  16%|█▌        | 17/108 [01:09<24:28, 16.13s/it]"
     ]
    },
    {
     "name": "stdout",
     "output_type": "stream",
     "text": [
      "Model Was Not Saved ! Current Best Avg. Dice: 0.5881684422492981 Current Avg. Dice: 0.5287880301475525 Current Avg. tumor Dice: 0.5836709141731262 Current Avg. lymph Dice: 0.47237858176231384\n"
     ]
    },
    {
     "name": "stderr",
     "output_type": "stream",
     "text": [
      "Training (2591 / 18000 Steps) (loss=0.56747): 100%|██████████| 108/108 [02:06<00:00,  1.18s/it]\n",
      "Validate (2592 / 10 Steps): 100%|██████████| 26/26 [00:46<00:00,  1.80s/it]<01:24,  1.19it/s]\n",
      "Training (2600 / 18000 Steps) (loss=0.53210):   8%|▊         | 9/108 [01:00<25:29, 15.45s/it]"
     ]
    },
    {
     "name": "stdout",
     "output_type": "stream",
     "text": [
      "Model Was Not Saved ! Current Best Avg. Dice: 0.5881684422492981 Current Avg. Dice: 0.5365898013114929 Current Avg. tumor Dice: 0.6022711992263794 Current Avg. lymph Dice: 0.46506834030151367\n"
     ]
    },
    {
     "name": "stderr",
     "output_type": "stream",
     "text": [
      "Training (2699 / 18000 Steps) (loss=0.39511): 100%|██████████| 108/108 [02:30<00:00,  1.39s/it]\n",
      "Validate (2700 / 10 Steps): 100%|██████████| 26/26 [00:49<00:00,  1.92s/it]<?, ?it/s]\n",
      "Training (2700 / 18000 Steps) (loss=0.58033):   1%|          | 1/108 [00:56<1:41:17, 56.80s/it]"
     ]
    },
    {
     "name": "stdout",
     "output_type": "stream",
     "text": [
      "Model Was Not Saved ! Current Best Avg. Dice: 0.5881684422492981 Current Avg. Dice: 0.5642923712730408 Current Avg. tumor Dice: 0.6269753575325012 Current Avg. lymph Dice: 0.49861449003219604\n"
     ]
    },
    {
     "name": "stderr",
     "output_type": "stream",
     "text": [
      "Validate (2700 / 10 Steps): 100%|██████████| 26/26 [00:44<00:00,  1.70s/it]48<00:04,  1.77it/s]\n",
      "Training (2800 / 18000 Steps) (loss=0.46951):  94%|█████████▎| 101/108 [02:32<01:37, 13.88s/it]"
     ]
    },
    {
     "name": "stdout",
     "output_type": "stream",
     "text": [
      "Model Was Not Saved ! Current Best Avg. Dice: 0.5881684422492981 Current Avg. Dice: 0.5711843371391296 Current Avg. tumor Dice: 0.6589381098747253 Current Avg. lymph Dice: 0.4737341105937958\n"
     ]
    },
    {
     "name": "stderr",
     "output_type": "stream",
     "text": [
      "Training (2807 / 18000 Steps) (loss=0.56810): 100%|██████████| 108/108 [02:37<00:00,  1.46s/it]\n",
      "Validate (2808 / 10 Steps): 100%|██████████| 26/26 [01:05<00:00,  2.51s/it]0<00:09,  1.76it/s]\n",
      "Training (2900 / 18000 Steps) (loss=0.59336):  86%|████████▌ | 93/108 [02:05<05:02, 20.15s/it]"
     ]
    },
    {
     "name": "stdout",
     "output_type": "stream",
     "text": [
      "Model Was Not Saved ! Current Best Avg. Dice: 0.5881684422492981 Current Avg. Dice: 0.5250185132026672 Current Avg. tumor Dice: 0.5580492615699768 Current Avg. lymph Dice: 0.4947662651538849\n"
     ]
    },
    {
     "name": "stderr",
     "output_type": "stream",
     "text": [
      "Training (2915 / 18000 Steps) (loss=0.39192): 100%|██████████| 108/108 [02:21<00:00,  1.31s/it]\n",
      "Validate (2916 / 10 Steps): 100%|██████████| 26/26 [00:46<00:00,  1.79s/it]0<00:11,  2.11it/s]\n",
      "Training (3000 / 18000 Steps) (loss=0.47609):  79%|███████▊  | 85/108 [01:46<05:32, 14.44s/it]"
     ]
    },
    {
     "name": "stdout",
     "output_type": "stream",
     "text": [
      "Model Was Not Saved ! Current Best Avg. Dice: 0.5881684422492981 Current Avg. Dice: 0.5633381605148315 Current Avg. tumor Dice: 0.6239265203475952 Current Avg. lymph Dice: 0.49917224049568176\n"
     ]
    },
    {
     "name": "stderr",
     "output_type": "stream",
     "text": [
      "Training (3023 / 18000 Steps) (loss=0.46064): 100%|██████████| 108/108 [02:00<00:00,  1.11s/it]\n",
      "Validate (3024 / 10 Steps): 100%|██████████| 26/26 [00:45<00:00,  1.73s/it]0<00:18,  1.71it/s]\n",
      "Training (3100 / 18000 Steps) (loss=0.34970):  71%|███████▏  | 77/108 [01:35<07:17, 14.10s/it]"
     ]
    },
    {
     "name": "stdout",
     "output_type": "stream",
     "text": [
      "Model Was Not Saved ! Current Best Avg. Dice: 0.5881684422492981 Current Avg. Dice: 0.5578083395957947 Current Avg. tumor Dice: 0.6514567136764526 Current Avg. lymph Dice: 0.45096555352211\n"
     ]
    },
    {
     "name": "stderr",
     "output_type": "stream",
     "text": [
      "Training (3131 / 18000 Steps) (loss=0.61269): 100%|██████████| 108/108 [01:52<00:00,  1.05s/it]\n",
      "Validate (3132 / 10 Steps): 100%|██████████| 26/26 [00:58<00:00,  2.25s/it]6<00:33,  1.21it/s]\n",
      "Training (3200 / 18000 Steps) (loss=0.46878):  64%|██████▍   | 69/108 [02:05<12:04, 18.59s/it]"
     ]
    },
    {
     "name": "stdout",
     "output_type": "stream",
     "text": [
      "Model Was Saved ! Current Best Avg. Dice: 0.5891624689102173 Current Avg. Dice: 0.5891624689102173 Current Avg. tumor Dice: 0.6751763820648193 Current Avg. lymph Dice: 0.49257320165634155\n"
     ]
    },
    {
     "name": "stderr",
     "output_type": "stream",
     "text": [
      "Training (3239 / 18000 Steps) (loss=0.51595): 100%|██████████| 108/108 [02:28<00:00,  1.37s/it]\n",
      "Validate (3240 / 10 Steps): 100%|██████████| 26/26 [00:45<00:00,  1.74s/it]2<00:28,  1.67it/s]\n",
      "Training (3300 / 18000 Steps) (loss=0.42455):  56%|█████▋    | 61/108 [01:28<11:07, 14.19s/it]"
     ]
    },
    {
     "name": "stdout",
     "output_type": "stream",
     "text": [
      "Model Was Not Saved ! Current Best Avg. Dice: 0.5891624689102173 Current Avg. Dice: 0.580243706703186 Current Avg. tumor Dice: 0.6696035265922546 Current Avg. lymph Dice: 0.4795866310596466\n"
     ]
    },
    {
     "name": "stderr",
     "output_type": "stream",
     "text": [
      "Training (3347 / 18000 Steps) (loss=0.46262): 100%|██████████| 108/108 [01:55<00:00,  1.07s/it]\n",
      "Validate (3348 / 10 Steps): 100%|██████████| 26/26 [00:48<00:00,  1.86s/it]6<00:32,  1.72it/s]\n",
      "Training (3400 / 18000 Steps) (loss=0.51641):  49%|████▉     | 53/108 [01:25<13:50, 15.11s/it]"
     ]
    },
    {
     "name": "stdout",
     "output_type": "stream",
     "text": [
      "Model Was Not Saved ! Current Best Avg. Dice: 0.5891624689102173 Current Avg. Dice: 0.5786802172660828 Current Avg. tumor Dice: 0.6566912531852722 Current Avg. lymph Dice: 0.4944782555103302\n"
     ]
    },
    {
     "name": "stderr",
     "output_type": "stream",
     "text": [
      "Training (3455 / 18000 Steps) (loss=0.52828): 100%|██████████| 108/108 [02:13<00:00,  1.23s/it]\n",
      "Validate (3456 / 10 Steps): 100%|██████████| 26/26 [00:45<00:00,  1.74s/it]4<00:36,  1.74it/s]\n",
      "Training (3500 / 18000 Steps) (loss=0.49213):  42%|████▏     | 45/108 [01:30<15:07, 14.41s/it]"
     ]
    },
    {
     "name": "stdout",
     "output_type": "stream",
     "text": [
      "Model Was Saved ! Current Best Avg. Dice: 0.5912561416625977 Current Avg. Dice: 0.5912561416625977 Current Avg. tumor Dice: 0.6710411310195923 Current Avg. lymph Dice: 0.5039889812469482\n"
     ]
    },
    {
     "name": "stderr",
     "output_type": "stream",
     "text": [
      "Training (3563 / 18000 Steps) (loss=0.36615): 100%|██████████| 108/108 [02:07<00:00,  1.18s/it]\n",
      "Validate (3564 / 10 Steps): 100%|██████████| 26/26 [00:44<00:00,  1.72s/it]7<00:42,  1.69it/s]\n",
      "Training (3600 / 18000 Steps) (loss=0.59072):  34%|███▍      | 37/108 [01:12<16:31, 13.96s/it]"
     ]
    },
    {
     "name": "stdout",
     "output_type": "stream",
     "text": [
      "Model Was Not Saved ! Current Best Avg. Dice: 0.5912561416625977 Current Avg. Dice: 0.5208426713943481 Current Avg. tumor Dice: 0.5785441398620605 Current Avg. lymph Dice: 0.4586726427078247\n"
     ]
    },
    {
     "name": "stderr",
     "output_type": "stream",
     "text": [
      "Training (3671 / 18000 Steps) (loss=0.51580): 100%|██████████| 108/108 [01:46<00:00,  1.02it/s]\n",
      "Validate (3672 / 10 Steps): 100%|██████████| 26/26 [01:11<00:00,  2.76s/it]1<01:16,  1.04it/s]\n",
      "Training (3700 / 18000 Steps) (loss=0.53401):  27%|██▋       | 29/108 [01:43<29:54, 22.71s/it]"
     ]
    },
    {
     "name": "stdout",
     "output_type": "stream",
     "text": [
      "Model Was Saved ! Current Best Avg. Dice: 0.5921851992607117 Current Avg. Dice: 0.5921851992607117 Current Avg. tumor Dice: 0.6698217391967773 Current Avg. lymph Dice: 0.5075434446334839\n"
     ]
    },
    {
     "name": "stderr",
     "output_type": "stream",
     "text": [
      "Training (3779 / 18000 Steps) (loss=0.47086): 100%|██████████| 108/108 [02:33<00:00,  1.42s/it]\n",
      "Validate (3780 / 10 Steps): 100%|██████████| 26/26 [00:44<00:00,  1.72s/it]0<00:51,  1.72it/s]\n",
      "Training (3800 / 18000 Steps) (loss=0.49299):  19%|█▉        | 21/108 [01:04<20:24, 14.07s/it]"
     ]
    },
    {
     "name": "stdout",
     "output_type": "stream",
     "text": [
      "Model Was Not Saved ! Current Best Avg. Dice: 0.5921851992607117 Current Avg. Dice: 0.578702449798584 Current Avg. tumor Dice: 0.643627941608429 Current Avg. lymph Dice: 0.510463535785675\n"
     ]
    },
    {
     "name": "stderr",
     "output_type": "stream",
     "text": [
      "Training (3887 / 18000 Steps) (loss=0.51386): 100%|██████████| 108/108 [01:49<00:00,  1.01s/it]\n",
      "Validate (3888 / 10 Steps): 100%|██████████| 26/26 [00:44<00:00,  1.72s/it]4<01:07,  1.42it/s]\n",
      "Training (3900 / 18000 Steps) (loss=0.49819):  12%|█▏        | 13/108 [01:00<22:54, 14.46s/it]"
     ]
    },
    {
     "name": "stdout",
     "output_type": "stream",
     "text": [
      "Model Was Saved ! Current Best Avg. Dice: 0.5935583114624023 Current Avg. Dice: 0.5935583114624023 Current Avg. tumor Dice: 0.6621478796005249 Current Avg. lymph Dice: 0.5204179286956787\n"
     ]
    },
    {
     "name": "stderr",
     "output_type": "stream",
     "text": [
      "Training (3995 / 18000 Steps) (loss=0.41906): 100%|██████████| 108/108 [02:31<00:00,  1.40s/it]\n",
      "Validate (3996 / 10 Steps): 100%|██████████| 26/26 [00:45<00:00,  1.76s/it]<02:50,  1.64s/it]\n",
      "Training (4000 / 18000 Steps) (loss=0.34350):   5%|▍         | 5/108 [00:55<30:47, 17.94s/it]"
     ]
    },
    {
     "name": "stdout",
     "output_type": "stream",
     "text": [
      "Model Was Not Saved ! Current Best Avg. Dice: 0.5935583114624023 Current Avg. Dice: 0.557826817035675 Current Avg. tumor Dice: 0.6503463387489319 Current Avg. lymph Dice: 0.45521456003189087\n"
     ]
    },
    {
     "name": "stderr",
     "output_type": "stream",
     "text": [
      "Validate (3996 / 10 Steps): 100%|██████████| 26/26 [00:43<00:00,  1.66s/it]48<00:01,  2.04it/s]\n",
      "Training (4100 / 18000 Steps) (loss=0.46735):  97%|█████████▋| 105/108 [02:31<00:40, 13.44s/it]"
     ]
    },
    {
     "name": "stdout",
     "output_type": "stream",
     "text": [
      "Model Was Not Saved ! Current Best Avg. Dice: 0.5935583114624023 Current Avg. Dice: 0.5724340081214905 Current Avg. tumor Dice: 0.6369012594223022 Current Avg. lymph Dice: 0.5056871771812439\n"
     ]
    },
    {
     "name": "stderr",
     "output_type": "stream",
     "text": [
      "Training (4103 / 18000 Steps) (loss=0.39901): 100%|██████████| 108/108 [02:33<00:00,  1.42s/it]\n",
      "Validate (4104 / 10 Steps): 100%|██████████| 26/26 [01:09<00:00,  2.69s/it]1<00:06,  1.73it/s]\n",
      "Training (4200 / 18000 Steps) (loss=0.41696):  90%|████████▉ | 97/108 [02:12<03:59, 21.75s/it]"
     ]
    },
    {
     "name": "stdout",
     "output_type": "stream",
     "text": [
      "Model Was Saved ! Current Best Avg. Dice: 0.5941980481147766 Current Avg. Dice: 0.5941980481147766 Current Avg. tumor Dice: 0.6819053888320923 Current Avg. lymph Dice: 0.49828821420669556\n"
     ]
    },
    {
     "name": "stderr",
     "output_type": "stream",
     "text": [
      "Training (4211 / 18000 Steps) (loss=0.37262): 100%|██████████| 108/108 [02:23<00:00,  1.33s/it]\n",
      "Validate (4212 / 10 Steps): 100%|██████████| 26/26 [00:39<00:00,  1.53s/it]4<00:09,  2.09it/s]\n",
      "Training (4300 / 18000 Steps) (loss=0.34991):  82%|████████▏ | 89/108 [01:44<03:56, 12.45s/it]"
     ]
    },
    {
     "name": "stdout",
     "output_type": "stream",
     "text": [
      "Model Was Not Saved ! Current Best Avg. Dice: 0.5941980481147766 Current Avg. Dice: 0.5576395392417908 Current Avg. tumor Dice: 0.6499375104904175 Current Avg. lymph Dice: 0.45181095600128174\n"
     ]
    },
    {
     "name": "stderr",
     "output_type": "stream",
     "text": [
      "Training (4319 / 18000 Steps) (loss=0.52225): 100%|██████████| 108/108 [01:55<00:00,  1.07s/it]\n",
      "Validate (4320 / 10 Steps): 100%|██████████| 26/26 [00:44<00:00,  1.72s/it]2<00:15,  1.82it/s]\n",
      "Training (4400 / 18000 Steps) (loss=0.33459):  75%|███████▌  | 81/108 [01:37<06:24, 14.24s/it]"
     ]
    },
    {
     "name": "stdout",
     "output_type": "stream",
     "text": [
      "Model Was Saved ! Current Best Avg. Dice: 0.5954046845436096 Current Avg. Dice: 0.5954046845436096 Current Avg. tumor Dice: 0.6704065799713135 Current Avg. lymph Dice: 0.514609694480896\n"
     ]
    },
    {
     "name": "stderr",
     "output_type": "stream",
     "text": [
      "Training (4427 / 18000 Steps) (loss=0.38797): 100%|██████████| 108/108 [01:53<00:00,  1.05s/it]\n",
      "Validate (4428 / 10 Steps): 100%|██████████| 26/26 [00:51<00:00,  1.99s/it]7<00:35,  1.01it/s]\n",
      "Training (4500 / 18000 Steps) (loss=0.62334):  68%|██████▊   | 73/108 [02:08<09:38, 16.52s/it]"
     ]
    },
    {
     "name": "stdout",
     "output_type": "stream",
     "text": [
      "Model Was Not Saved ! Current Best Avg. Dice: 0.5954046845436096 Current Avg. Dice: 0.5761091113090515 Current Avg. tumor Dice: 0.6412580609321594 Current Avg. lymph Dice: 0.5092113018035889\n"
     ]
    },
    {
     "name": "stderr",
     "output_type": "stream",
     "text": [
      "Training (4535 / 18000 Steps) (loss=0.58636): 100%|██████████| 108/108 [02:27<00:00,  1.37s/it]\n",
      "Validate (4536 / 10 Steps): 100%|██████████| 26/26 [00:45<00:00,  1.74s/it]3<00:24,  1.77it/s]\n",
      "Training (4600 / 18000 Steps) (loss=0.44378):  60%|██████    | 65/108 [01:29<10:06, 14.11s/it]"
     ]
    },
    {
     "name": "stdout",
     "output_type": "stream",
     "text": [
      "Model Was Not Saved ! Current Best Avg. Dice: 0.5954046845436096 Current Avg. Dice: 0.5835797786712646 Current Avg. tumor Dice: 0.6573300957679749 Current Avg. lymph Dice: 0.5080937147140503\n"
     ]
    },
    {
     "name": "stderr",
     "output_type": "stream",
     "text": [
      "Training (4643 / 18000 Steps) (loss=0.54999): 100%|██████████| 108/108 [01:53<00:00,  1.05s/it]\n",
      "Validate (4644 / 10 Steps): 100%|██████████| 26/26 [00:57<00:00,  2.19s/it]9<00:28,  1.82it/s]\n",
      "Training (4700 / 18000 Steps) (loss=0.39998):  53%|█████▎    | 57/108 [01:36<15:02, 17.70s/it]"
     ]
    },
    {
     "name": "stdout",
     "output_type": "stream",
     "text": [
      "Model Was Not Saved ! Current Best Avg. Dice: 0.5954046845436096 Current Avg. Dice: 0.5826843976974487 Current Avg. tumor Dice: 0.643359363079071 Current Avg. lymph Dice: 0.520398736000061\n"
     ]
    },
    {
     "name": "stderr",
     "output_type": "stream",
     "text": [
      "Training (4751 / 18000 Steps) (loss=0.49477): 100%|██████████| 108/108 [02:17<00:00,  1.28s/it]\n",
      "Validate (4752 / 10 Steps): 100%|██████████| 26/26 [00:44<00:00,  1.71s/it]3<00:32,  1.82it/s]\n",
      "Training (4800 / 18000 Steps) (loss=0.48664):  45%|████▌     | 49/108 [01:28<13:43, 13.96s/it]"
     ]
    },
    {
     "name": "stdout",
     "output_type": "stream",
     "text": [
      "Model Was Not Saved ! Current Best Avg. Dice: 0.5954046845436096 Current Avg. Dice: 0.585823118686676 Current Avg. tumor Dice: 0.6738389134407043 Current Avg. lymph Dice: 0.4909958839416504\n"
     ]
    },
    {
     "name": "stderr",
     "output_type": "stream",
     "text": [
      "Training (4859 / 18000 Steps) (loss=0.49681): 100%|██████████| 108/108 [02:02<00:00,  1.13s/it]\n",
      "Validate (4860 / 10 Steps): 100%|██████████| 26/26 [00:44<00:00,  1.69s/it]0<00:38,  1.79it/s]\n",
      "Training (4900 / 18000 Steps) (loss=0.49171):  38%|███▊      | 41/108 [01:15<15:40, 14.03s/it]"
     ]
    },
    {
     "name": "stdout",
     "output_type": "stream",
     "text": [
      "Model Was Saved ! Current Best Avg. Dice: 0.5967493057250977 Current Avg. Dice: 0.5967493057250977 Current Avg. tumor Dice: 0.6793789863586426 Current Avg. lymph Dice: 0.5063475966453552\n"
     ]
    },
    {
     "name": "stderr",
     "output_type": "stream",
     "text": [
      "Training (4967 / 18000 Steps) (loss=0.38523): 100%|██████████| 108/108 [01:54<00:00,  1.06s/it]\n",
      "Validate (4968 / 10 Steps): 100%|██████████| 26/26 [01:07<00:00,  2.59s/it]0<00:55,  1.37it/s]\n",
      "Training (5000 / 18000 Steps) (loss=0.52336):  31%|███       | 33/108 [01:37<26:15, 21.00s/it]"
     ]
    },
    {
     "name": "stdout",
     "output_type": "stream",
     "text": [
      "Model Was Not Saved ! Current Best Avg. Dice: 0.5967493057250977 Current Avg. Dice: 0.5034823417663574 Current Avg. tumor Dice: 0.6040947437286377 Current Avg. lymph Dice: 0.3889244794845581\n"
     ]
    },
    {
     "name": "stderr",
     "output_type": "stream",
     "text": [
      "Training (5075 / 18000 Steps) (loss=0.45865): 100%|██████████| 108/108 [02:25<00:00,  1.34s/it]\n",
      "Validate (5076 / 10 Steps): 100%|██████████| 26/26 [00:44<00:00,  1.73s/it]0<00:48,  1.74it/s]\n",
      "Training (5100 / 18000 Steps) (loss=0.56053):  23%|██▎       | 25/108 [01:06<19:47, 14.31s/it]"
     ]
    },
    {
     "name": "stdout",
     "output_type": "stream",
     "text": [
      "Model Was Saved ! Current Best Avg. Dice: 0.599364161491394 Current Avg. Dice: 0.599364161491394 Current Avg. tumor Dice: 0.6616005897521973 Current Avg. lymph Dice: 0.5348551273345947\n"
     ]
    },
    {
     "name": "stderr",
     "output_type": "stream",
     "text": [
      "Training (5183 / 18000 Steps) (loss=0.44782): 100%|██████████| 108/108 [01:54<00:00,  1.06s/it]\n",
      "Validate (5184 / 10 Steps): 100%|██████████| 26/26 [00:40<00:00,  1.54s/it]7<00:47,  1.92it/s]\n",
      "Training (5200 / 18000 Steps) (loss=0.40857):  16%|█▌        | 17/108 [00:58<19:25, 12.81s/it]"
     ]
    },
    {
     "name": "stdout",
     "output_type": "stream",
     "text": [
      "Model Was Saved ! Current Best Avg. Dice: 0.6024190783500671 Current Avg. Dice: 0.6024190783500671 Current Avg. tumor Dice: 0.6824471950531006 Current Avg. lymph Dice: 0.5181912183761597\n"
     ]
    },
    {
     "name": "stderr",
     "output_type": "stream",
     "text": [
      "Training (5291 / 18000 Steps) (loss=0.49541): 100%|██████████| 108/108 [02:24<00:00,  1.33s/it]\n",
      "Validate (5292 / 10 Steps): 100%|██████████| 26/26 [00:46<00:00,  1.80s/it]<01:57,  1.17s/it]\n",
      "Training (5300 / 18000 Steps) (loss=0.51782):   8%|▊         | 9/108 [01:02<25:57, 15.73s/it]"
     ]
    },
    {
     "name": "stdout",
     "output_type": "stream",
     "text": [
      "Model Was Not Saved ! Current Best Avg. Dice: 0.6024190783500671 Current Avg. Dice: 0.5932433009147644 Current Avg. tumor Dice: 0.6592103838920593 Current Avg. lymph Dice: 0.521216869354248\n"
     ]
    },
    {
     "name": "stderr",
     "output_type": "stream",
     "text": [
      "Training (5399 / 18000 Steps) (loss=0.44609): 100%|██████████| 108/108 [01:59<00:00,  1.11s/it]\n",
      "Validate (5400 / 10 Steps): 100%|██████████| 26/26 [00:40<00:00,  1.56s/it]<?, ?it/s]\n",
      "Training (5400 / 18000 Steps) (loss=0.57286):   1%|          | 1/108 [00:47<1:23:59, 47.09s/it]"
     ]
    },
    {
     "name": "stdout",
     "output_type": "stream",
     "text": [
      "Model Was Not Saved ! Current Best Avg. Dice: 0.6024190783500671 Current Avg. Dice: 0.5542104840278625 Current Avg. tumor Dice: 0.6235961318016052 Current Avg. lymph Dice: 0.4781494438648224\n"
     ]
    },
    {
     "name": "stderr",
     "output_type": "stream",
     "text": [
      "Validate (5400 / 10 Steps): 100%|██████████| 26/26 [01:05<00:00,  2.51s/it]42<00:04,  1.74it/s]\n",
      "Training (5500 / 18000 Steps) (loss=0.49725):  94%|█████████▎| 101/108 [02:48<02:21, 20.20s/it]"
     ]
    },
    {
     "name": "stdout",
     "output_type": "stream",
     "text": [
      "Model Was Not Saved ! Current Best Avg. Dice: 0.6024190783500671 Current Avg. Dice: 0.5514040589332581 Current Avg. tumor Dice: 0.6332001686096191 Current Avg. lymph Dice: 0.4620707333087921\n"
     ]
    },
    {
     "name": "stderr",
     "output_type": "stream",
     "text": [
      "Training (5507 / 18000 Steps) (loss=0.49982): 100%|██████████| 108/108 [02:55<00:00,  1.62s/it]\n",
      "Validate (5508 / 10 Steps): 100%|██████████| 26/26 [00:43<00:00,  1.67s/it]5<00:09,  1.77it/s]\n",
      "Training (5600 / 18000 Steps) (loss=0.47912):  86%|████████▌ | 93/108 [01:58<03:23, 13.59s/it]"
     ]
    },
    {
     "name": "stdout",
     "output_type": "stream",
     "text": [
      "Model Was Not Saved ! Current Best Avg. Dice: 0.6024190783500671 Current Avg. Dice: 0.5967726111412048 Current Avg. tumor Dice: 0.6631457805633545 Current Avg. lymph Dice: 0.5285826921463013\n"
     ]
    },
    {
     "name": "stderr",
     "output_type": "stream",
     "text": [
      "Training (5615 / 18000 Steps) (loss=0.62187): 100%|██████████| 108/108 [02:06<00:00,  1.17s/it]\n",
      "Validate (5616 / 10 Steps): 100%|██████████| 26/26 [00:45<00:00,  1.74s/it]5<00:13,  1.78it/s]\n",
      "Training (5700 / 18000 Steps) (loss=0.42988):  79%|███████▊  | 85/108 [01:41<05:26, 14.19s/it]"
     ]
    },
    {
     "name": "stdout",
     "output_type": "stream",
     "text": [
      "Model Was Not Saved ! Current Best Avg. Dice: 0.6024190783500671 Current Avg. Dice: 0.6021153330802917 Current Avg. tumor Dice: 0.6799782514572144 Current Avg. lymph Dice: 0.5153544545173645\n"
     ]
    },
    {
     "name": "stderr",
     "output_type": "stream",
     "text": [
      "Training (5723 / 18000 Steps) (loss=0.36827): 100%|██████████| 108/108 [01:54<00:00,  1.06s/it]\n",
      "Validate (5724 / 10 Steps): 100%|██████████| 26/26 [00:56<00:00,  2.19s/it]7<00:32,  1.01s/it]\n",
      "Training (5800 / 18000 Steps) (loss=0.31107):  71%|███████▏  | 77/108 [02:14<09:21, 18.10s/it]"
     ]
    },
    {
     "name": "stdout",
     "output_type": "stream",
     "text": [
      "Model Was Not Saved ! Current Best Avg. Dice: 0.6024190783500671 Current Avg. Dice: 0.5671291947364807 Current Avg. tumor Dice: 0.6341032981872559 Current Avg. lymph Dice: 0.494428813457489\n"
     ]
    },
    {
     "name": "stderr",
     "output_type": "stream",
     "text": [
      "Training (5831 / 18000 Steps) (loss=0.58458): 100%|██████████| 108/108 [02:29<00:00,  1.39s/it]\n",
      "Validate (5832 / 10 Steps): 100%|██████████| 26/26 [00:45<00:00,  1.76s/it]5<00:22,  1.81it/s]\n",
      "Training (5900 / 18000 Steps) (loss=0.36989):  64%|██████▍   | 69/108 [01:30<09:19, 14.35s/it]"
     ]
    },
    {
     "name": "stdout",
     "output_type": "stream",
     "text": [
      "Model Was Not Saved ! Current Best Avg. Dice: 0.6024190783500671 Current Avg. Dice: 0.5665593147277832 Current Avg. tumor Dice: 0.668107271194458 Current Avg. lymph Dice: 0.45098474621772766\n"
     ]
    },
    {
     "name": "stderr",
     "output_type": "stream",
     "text": [
      "Training (5939 / 18000 Steps) (loss=0.53403): 100%|██████████| 108/108 [01:53<00:00,  1.05s/it]\n",
      "Validate (5940 / 10 Steps): 100%|██████████| 26/26 [00:58<00:00,  2.24s/it]1<00:27,  1.73it/s]\n",
      "Training (6000 / 18000 Steps) (loss=0.51294):  56%|█████▋    | 61/108 [01:39<14:10, 18.10s/it]"
     ]
    },
    {
     "name": "stdout",
     "output_type": "stream",
     "text": [
      "Model Was Not Saved ! Current Best Avg. Dice: 0.6024190783500671 Current Avg. Dice: 0.598649799823761 Current Avg. tumor Dice: 0.6747502088546753 Current Avg. lymph Dice: 0.5154815912246704\n"
     ]
    },
    {
     "name": "stderr",
     "output_type": "stream",
     "text": [
      "Training (6047 / 18000 Steps) (loss=0.44596): 100%|██████████| 108/108 [02:23<00:00,  1.32s/it]\n",
      "Validate (6048 / 10 Steps): 100%|██████████| 26/26 [00:44<00:00,  1.72s/it]0<00:30,  1.82it/s]\n",
      "Training (6100 / 18000 Steps) (loss=0.57573):  49%|████▉     | 53/108 [01:24<12:49, 13.99s/it]"
     ]
    },
    {
     "name": "stdout",
     "output_type": "stream",
     "text": [
      "Model Was Not Saved ! Current Best Avg. Dice: 0.6024190783500671 Current Avg. Dice: 0.5959886312484741 Current Avg. tumor Dice: 0.6718690991401672 Current Avg. lymph Dice: 0.5179832577705383\n"
     ]
    },
    {
     "name": "stderr",
     "output_type": "stream",
     "text": [
      "Training (6155 / 18000 Steps) (loss=0.48659): 100%|██████████| 108/108 [01:56<00:00,  1.08s/it]\n",
      "Validate (6156 / 10 Steps): 100%|██████████| 26/26 [00:44<00:00,  1.72s/it]3<00:36,  1.75it/s]\n",
      "Training (6200 / 18000 Steps) (loss=0.28614):  42%|████▏     | 45/108 [01:18<14:57, 14.25s/it]"
     ]
    },
    {
     "name": "stdout",
     "output_type": "stream",
     "text": [
      "Model Was Saved ! Current Best Avg. Dice: 0.6040494441986084 Current Avg. Dice: 0.6040494441986084 Current Avg. tumor Dice: 0.684350848197937 Current Avg. lymph Dice: 0.5174831748008728\n"
     ]
    },
    {
     "name": "stderr",
     "output_type": "stream",
     "text": [
      "Training (6263 / 18000 Steps) (loss=0.37475): 100%|██████████| 108/108 [01:54<00:00,  1.06s/it]\n",
      "Validate (6264 / 10 Steps): 100%|██████████| 26/26 [01:02<00:00,  2.40s/it]9<00:59,  1.21it/s]\n",
      "Training (6300 / 18000 Steps) (loss=0.49265):  34%|███▍      | 37/108 [01:41<23:08, 19.55s/it]"
     ]
    },
    {
     "name": "stdout",
     "output_type": "stream",
     "text": [
      "Model Was Not Saved ! Current Best Avg. Dice: 0.6040494441986084 Current Avg. Dice: 0.5993674397468567 Current Avg. tumor Dice: 0.6710014939308167 Current Avg. lymph Dice: 0.5227482914924622\n"
     ]
    },
    {
     "name": "stderr",
     "output_type": "stream",
     "text": [
      "Training (6371 / 18000 Steps) (loss=0.59201): 100%|██████████| 108/108 [02:27<00:00,  1.37s/it]\n",
      "Validate (6372 / 10 Steps): 100%|██████████| 26/26 [00:44<00:00,  1.70s/it]3<00:45,  1.75it/s]\n",
      "Training (6400 / 18000 Steps) (loss=0.51487):  27%|██▋       | 29/108 [01:08<18:11, 13.82s/it]"
     ]
    },
    {
     "name": "stdout",
     "output_type": "stream",
     "text": [
      "Model Was Not Saved ! Current Best Avg. Dice: 0.6040494441986084 Current Avg. Dice: 0.5776589512825012 Current Avg. tumor Dice: 0.6572374105453491 Current Avg. lymph Dice: 0.49105119705200195\n"
     ]
    },
    {
     "name": "stderr",
     "output_type": "stream",
     "text": [
      "Training (6479 / 18000 Steps) (loss=0.37866): 100%|██████████| 108/108 [01:53<00:00,  1.05s/it]\n",
      "Validate (6480 / 10 Steps): 100%|██████████| 26/26 [00:44<00:00,  1.69s/it]8<00:49,  1.78it/s]\n",
      "Training (6500 / 18000 Steps) (loss=0.55472):  19%|█▉        | 21/108 [01:02<20:01, 13.81s/it]"
     ]
    },
    {
     "name": "stdout",
     "output_type": "stream",
     "text": [
      "Model Was Not Saved ! Current Best Avg. Dice: 0.6040494441986084 Current Avg. Dice: 0.6020644307136536 Current Avg. tumor Dice: 0.6748005747795105 Current Avg. lymph Dice: 0.5220161080360413\n"
     ]
    },
    {
     "name": "stderr",
     "output_type": "stream",
     "text": [
      "Training (6587 / 18000 Steps) (loss=0.51682): 100%|██████████| 108/108 [02:21<00:00,  1.31s/it]\n",
      "Validate (6588 / 10 Steps): 100%|██████████| 26/26 [00:44<00:00,  1.71s/it]7<01:36,  1.01s/it]\n",
      "Training (6600 / 18000 Steps) (loss=0.49359):  12%|█▏        | 13/108 [01:02<22:59, 14.52s/it]"
     ]
    },
    {
     "name": "stdout",
     "output_type": "stream",
     "text": [
      "Model Was Not Saved ! Current Best Avg. Dice: 0.6040494441986084 Current Avg. Dice: 0.595893383026123 Current Avg. tumor Dice: 0.674945592880249 Current Avg. lymph Dice: 0.5077630877494812\n"
     ]
    },
    {
     "name": "stderr",
     "output_type": "stream",
     "text": [
      "Training (6695 / 18000 Steps) (loss=0.57374): 100%|██████████| 108/108 [01:56<00:00,  1.07s/it]\n",
      "Validate (6696 / 10 Steps): 100%|██████████| 26/26 [00:44<00:00,  1.73s/it]<02:46,  1.60s/it]\n",
      "Training (6700 / 18000 Steps) (loss=0.45998):   5%|▍         | 5/108 [00:55<30:19, 17.66s/it]"
     ]
    },
    {
     "name": "stdout",
     "output_type": "stream",
     "text": [
      "Model Was Saved ! Current Best Avg. Dice: 0.6102381944656372 Current Avg. Dice: 0.6102381944656372 Current Avg. tumor Dice: 0.6854146122932434 Current Avg. lymph Dice: 0.5278434157371521\n"
     ]
    },
    {
     "name": "stderr",
     "output_type": "stream",
     "text": [
      "Validate (6696 / 10 Steps): 100%|██████████| 26/26 [01:03<00:00,  2.46s/it]44<00:02,  1.76it/s]\n",
      "Training (6800 / 18000 Steps) (loss=0.51859):  97%|█████████▋| 105/108 [02:48<00:59, 19.78s/it]"
     ]
    },
    {
     "name": "stdout",
     "output_type": "stream",
     "text": [
      "Model Was Not Saved ! Current Best Avg. Dice: 0.6102381944656372 Current Avg. Dice: 0.5260074734687805 Current Avg. tumor Dice: 0.6553835868835449 Current Avg. lymph Dice: 0.37332332134246826\n"
     ]
    },
    {
     "name": "stderr",
     "output_type": "stream",
     "text": [
      "Training (6803 / 18000 Steps) (loss=0.54523): 100%|██████████| 108/108 [02:51<00:00,  1.59s/it]\n",
      "Validate (6804 / 10 Steps): 100%|██████████| 26/26 [00:45<00:00,  1.73s/it]2<00:07,  1.70it/s]\n",
      "Training (6900 / 18000 Steps) (loss=0.54777):  90%|████████▉ | 97/108 [02:07<02:35, 14.11s/it]"
     ]
    },
    {
     "name": "stdout",
     "output_type": "stream",
     "text": [
      "Model Was Not Saved ! Current Best Avg. Dice: 0.6102381944656372 Current Avg. Dice: 0.5912684202194214 Current Avg. tumor Dice: 0.6719639897346497 Current Avg. lymph Dice: 0.5017389059066772\n"
     ]
    },
    {
     "name": "stderr",
     "output_type": "stream",
     "text": [
      "Training (6911 / 18000 Steps) (loss=0.60062): 100%|██████████| 108/108 [02:14<00:00,  1.24s/it]\n",
      "Validate (6912 / 10 Steps): 100%|██████████| 26/26 [00:45<00:00,  1.76s/it]1<00:09,  2.09it/s]\n",
      "Training (7000 / 18000 Steps) (loss=0.50884):  82%|████████▏ | 89/108 [01:37<04:30, 14.22s/it]"
     ]
    },
    {
     "name": "stdout",
     "output_type": "stream",
     "text": [
      "Model Was Not Saved ! Current Best Avg. Dice: 0.6102381944656372 Current Avg. Dice: 0.5977582931518555 Current Avg. tumor Dice: 0.6750362515449524 Current Avg. lymph Dice: 0.5136276483535767\n"
     ]
    },
    {
     "name": "stderr",
     "output_type": "stream",
     "text": [
      "Training (7019 / 18000 Steps) (loss=0.30784): 100%|██████████| 108/108 [01:48<00:00,  1.00s/it]\n",
      "Validate (7020 / 10 Steps): 100%|██████████| 26/26 [01:11<00:00,  2.76s/it]8<00:26,  1.04it/s]\n",
      "Training (7100 / 18000 Steps) (loss=0.47896):  75%|███████▌  | 81/108 [02:20<10:08, 22.54s/it]"
     ]
    },
    {
     "name": "stdout",
     "output_type": "stream",
     "text": [
      "Model Was Not Saved ! Current Best Avg. Dice: 0.6102381944656372 Current Avg. Dice: 0.47910135984420776 Current Avg. tumor Dice: 0.6735303997993469 Current Avg. lymph Dice: 0.24559463560581207\n"
     ]
    },
    {
     "name": "stderr",
     "output_type": "stream",
     "text": [
      "Training (7127 / 18000 Steps) (loss=0.46487): 100%|██████████| 108/108 [02:39<00:00,  1.47s/it]\n",
      "Validate (7128 / 10 Steps): 100%|██████████| 26/26 [00:51<00:00,  1.98s/it]2<00:20,  1.73it/s]\n",
      "Training (7200 / 18000 Steps) (loss=0.47515):  68%|██████▊   | 73/108 [01:45<09:30, 16.29s/it]"
     ]
    },
    {
     "name": "stdout",
     "output_type": "stream",
     "text": [
      "Model Was Saved ! Current Best Avg. Dice: 0.6103666424751282 Current Avg. Dice: 0.6103666424751282 Current Avg. tumor Dice: 0.6862167716026306 Current Avg. lymph Dice: 0.5288578271865845\n"
     ]
    },
    {
     "name": "stderr",
     "output_type": "stream",
     "text": [
      "Training (7235 / 18000 Steps) (loss=0.61471): 100%|██████████| 108/108 [02:05<00:00,  1.16s/it]\n",
      "Validate (7236 / 10 Steps): 100%|██████████| 26/26 [01:02<00:00,  2.41s/it]2<00:24,  1.80it/s]\n",
      "Training (7300 / 18000 Steps) (loss=0.42981):  60%|██████    | 65/108 [01:45<13:54, 19.41s/it]"
     ]
    },
    {
     "name": "stdout",
     "output_type": "stream",
     "text": [
      "Model Was Not Saved ! Current Best Avg. Dice: 0.6103666424751282 Current Avg. Dice: 0.5999516248703003 Current Avg. tumor Dice: 0.666161060333252 Current Avg. lymph Dice: 0.5303734540939331\n"
     ]
    },
    {
     "name": "stderr",
     "output_type": "stream",
     "text": [
      "Training (7343 / 18000 Steps) (loss=0.32408): 100%|██████████| 108/108 [02:27<00:00,  1.37s/it]\n",
      "Validate (7344 / 10 Steps): 100%|██████████| 26/26 [00:50<00:00,  1.96s/it]2<00:31,  1.66it/s]\n",
      "Training (7400 / 18000 Steps) (loss=0.40356):  53%|█████▎    | 57/108 [01:33<13:28, 15.86s/it]"
     ]
    },
    {
     "name": "stdout",
     "output_type": "stream",
     "text": [
      "Model Was Not Saved ! Current Best Avg. Dice: 0.6103666424751282 Current Avg. Dice: 0.5813546776771545 Current Avg. tumor Dice: 0.6448196172714233 Current Avg. lymph Dice: 0.5144942998886108\n"
     ]
    },
    {
     "name": "stderr",
     "output_type": "stream",
     "text": [
      "Training (7451 / 18000 Steps) (loss=0.57028): 100%|██████████| 108/108 [02:08<00:00,  1.19s/it]\n",
      "Validate (7452 / 10 Steps): 100%|██████████| 26/26 [00:46<00:00,  1.79s/it]9<00:41,  1.43it/s]\n",
      "Training (7500 / 18000 Steps) (loss=0.56889):  45%|████▌     | 49/108 [01:26<14:23, 14.63s/it]"
     ]
    },
    {
     "name": "stdout",
     "output_type": "stream",
     "text": [
      "Model Was Not Saved ! Current Best Avg. Dice: 0.6103666424751282 Current Avg. Dice: 0.6083940863609314 Current Avg. tumor Dice: 0.6789534091949463 Current Avg. lymph Dice: 0.5319750308990479\n"
     ]
    },
    {
     "name": "stderr",
     "output_type": "stream",
     "text": [
      "Training (7559 / 18000 Steps) (loss=0.33566): 100%|██████████| 108/108 [02:14<00:00,  1.25s/it]\n",
      "Validate (7560 / 10 Steps): 100%|██████████| 26/26 [00:54<00:00,  2.10s/it]2<00:48,  1.40it/s]\n",
      "Training (7600 / 18000 Steps) (loss=0.52904):  38%|███▊      | 41/108 [01:37<19:05, 17.10s/it]"
     ]
    },
    {
     "name": "stdout",
     "output_type": "stream",
     "text": [
      "Model Was Not Saved ! Current Best Avg. Dice: 0.6103666424751282 Current Avg. Dice: 0.6085291504859924 Current Avg. tumor Dice: 0.6773194074630737 Current Avg. lymph Dice: 0.5378590226173401\n"
     ]
    },
    {
     "name": "stderr",
     "output_type": "stream",
     "text": [
      "Training (7667 / 18000 Steps) (loss=0.47708): 100%|██████████| 108/108 [02:22<00:00,  1.32s/it]\n",
      "Validate (7668 / 10 Steps): 100%|██████████| 26/26 [00:52<00:00,  2.04s/it]8<00:53,  1.42it/s]\n",
      "Training (7700 / 18000 Steps) (loss=0.57559):  31%|███       | 33/108 [01:21<20:43, 16.58s/it]"
     ]
    },
    {
     "name": "stdout",
     "output_type": "stream",
     "text": [
      "Model Was Not Saved ! Current Best Avg. Dice: 0.6103666424751282 Current Avg. Dice: 0.5992918014526367 Current Avg. tumor Dice: 0.6784020066261292 Current Avg. lymph Dice: 0.5143775343894958\n"
     ]
    },
    {
     "name": "stderr",
     "output_type": "stream",
     "text": [
      "Training (7775 / 18000 Steps) (loss=0.46593): 100%|██████████| 108/108 [02:05<00:00,  1.16s/it]\n",
      "Validate (7776 / 10 Steps): 100%|██████████| 26/26 [00:59<00:00,  2.29s/it]5<01:21,  1.03it/s]\n",
      "Training (7800 / 18000 Steps) (loss=0.36457):  23%|██▎       | 25/108 [01:25<26:06, 18.87s/it]"
     ]
    },
    {
     "name": "stdout",
     "output_type": "stream",
     "text": [
      "Model Was Not Saved ! Current Best Avg. Dice: 0.6103666424751282 Current Avg. Dice: 0.5992361307144165 Current Avg. tumor Dice: 0.675193727016449 Current Avg. lymph Dice: 0.5193520188331604\n"
     ]
    },
    {
     "name": "stderr",
     "output_type": "stream",
     "text": [
      "Training (7883 / 18000 Steps) (loss=0.34458): 100%|██████████| 108/108 [02:26<00:00,  1.36s/it]\n",
      "Validate (7884 / 10 Steps): 100%|██████████| 26/26 [00:45<00:00,  1.73s/it]5<00:51,  1.80it/s]\n",
      "Training (7900 / 18000 Steps) (loss=0.36449):  16%|█▌        | 17/108 [01:00<21:27, 14.15s/it]"
     ]
    },
    {
     "name": "stdout",
     "output_type": "stream",
     "text": [
      "Model Was Not Saved ! Current Best Avg. Dice: 0.6103666424751282 Current Avg. Dice: 0.5998148322105408 Current Avg. tumor Dice: 0.6820968389511108 Current Avg. lymph Dice: 0.5125414729118347\n"
     ]
    },
    {
     "name": "stderr",
     "output_type": "stream",
     "text": [
      "Training (7991 / 18000 Steps) (loss=0.44789): 100%|██████████| 108/108 [01:55<00:00,  1.07s/it]\n",
      "Validate (7992 / 10 Steps): 100%|██████████| 26/26 [00:47<00:00,  1.82s/it]<01:16,  1.30it/s]\n",
      "Training (8000 / 18000 Steps) (loss=0.41384):   8%|▊         | 9/108 [01:00<25:36, 15.52s/it]"
     ]
    },
    {
     "name": "stdout",
     "output_type": "stream",
     "text": [
      "Model Was Not Saved ! Current Best Avg. Dice: 0.6103666424751282 Current Avg. Dice: 0.6092532873153687 Current Avg. tumor Dice: 0.6921823620796204 Current Avg. lymph Dice: 0.5191908478736877\n"
     ]
    },
    {
     "name": "stderr",
     "output_type": "stream",
     "text": [
      "Training (8099 / 18000 Steps) (loss=0.38739): 100%|██████████| 108/108 [02:29<00:00,  1.39s/it]\n",
      "Validate (8100 / 10 Steps): 100%|██████████| 26/26 [00:55<00:00,  2.15s/it]<?, ?it/s]\n",
      "Training (8100 / 18000 Steps) (loss=0.58368):   1%|          | 1/108 [01:05<1:56:42, 65.44s/it]"
     ]
    },
    {
     "name": "stdout",
     "output_type": "stream",
     "text": [
      "Model Was Not Saved ! Current Best Avg. Dice: 0.6103666424751282 Current Avg. Dice: 0.6035628914833069 Current Avg. tumor Dice: 0.6878059506416321 Current Avg. lymph Dice: 0.5119616389274597\n"
     ]
    },
    {
     "name": "stderr",
     "output_type": "stream",
     "text": [
      "Validate (8100 / 10 Steps): 100%|██████████| 26/26 [00:49<00:00,  1.91s/it]09<00:05,  1.52it/s]\n",
      "Training (8200 / 18000 Steps) (loss=0.52191):  94%|█████████▎| 101/108 [02:59<01:49, 15.58s/it]"
     ]
    },
    {
     "name": "stdout",
     "output_type": "stream",
     "text": [
      "Model Was Not Saved ! Current Best Avg. Dice: 0.6103666424751282 Current Avg. Dice: 0.5810852646827698 Current Avg. tumor Dice: 0.6672722101211548 Current Avg. lymph Dice: 0.48548007011413574\n"
     ]
    },
    {
     "name": "stderr",
     "output_type": "stream",
     "text": [
      "Training (8207 / 18000 Steps) (loss=0.37812): 100%|██████████| 108/108 [03:03<00:00,  1.70s/it]\n",
      "Validate (8208 / 10 Steps): 100%|██████████| 26/26 [01:12<00:00,  2.80s/it]0<00:10,  1.56it/s]\n",
      "Training (8300 / 18000 Steps) (loss=0.44099):  86%|████████▌ | 93/108 [02:14<05:41, 22.75s/it]"
     ]
    },
    {
     "name": "stdout",
     "output_type": "stream",
     "text": [
      "Model Was Saved ! Current Best Avg. Dice: 0.6223299503326416 Current Avg. Dice: 0.6223299503326416 Current Avg. tumor Dice: 0.6930917501449585 Current Avg. lymph Dice: 0.54948890209198\n"
     ]
    },
    {
     "name": "stderr",
     "output_type": "stream",
     "text": [
      "Training (8315 / 18000 Steps) (loss=0.42931): 100%|██████████| 108/108 [02:30<00:00,  1.39s/it]\n",
      "Validate (8316 / 10 Steps): 100%|██████████| 26/26 [00:51<00:00,  1.99s/it]9<00:13,  1.72it/s]\n",
      "Training (8400 / 18000 Steps) (loss=0.37208):  79%|███████▊  | 85/108 [02:01<06:11, 16.14s/it]"
     ]
    },
    {
     "name": "stdout",
     "output_type": "stream",
     "text": [
      "Model Was Not Saved ! Current Best Avg. Dice: 0.6223299503326416 Current Avg. Dice: 0.6064740419387817 Current Avg. tumor Dice: 0.6904969215393066 Current Avg. lymph Dice: 0.515124499797821\n"
     ]
    },
    {
     "name": "stderr",
     "output_type": "stream",
     "text": [
      "Training (8423 / 18000 Steps) (loss=0.39623): 100%|██████████| 108/108 [02:15<00:00,  1.25s/it]\n",
      "Validate (8424 / 10 Steps): 100%|██████████| 26/26 [00:51<00:00,  1.96s/it]1<00:15,  2.12it/s]\n",
      "Training (8500 / 18000 Steps) (loss=0.42516):  71%|███████▏  | 77/108 [01:42<08:09, 15.80s/it]"
     ]
    },
    {
     "name": "stdout",
     "output_type": "stream",
     "text": [
      "Model Was Not Saved ! Current Best Avg. Dice: 0.6223299503326416 Current Avg. Dice: 0.6020268797874451 Current Avg. tumor Dice: 0.6795390844345093 Current Avg. lymph Dice: 0.5191945433616638\n"
     ]
    },
    {
     "name": "stderr",
     "output_type": "stream",
     "text": [
      "Training (8531 / 18000 Steps) (loss=0.38141): 100%|██████████| 108/108 [02:00<00:00,  1.12s/it]\n",
      "Validate (8532 / 10 Steps): 100%|██████████| 26/26 [01:00<00:00,  2.34s/it]9<00:40,  1.01s/it]\n",
      "Training (8600 / 18000 Steps) (loss=0.33666):  64%|██████▍   | 69/108 [02:20<12:30, 19.25s/it]"
     ]
    },
    {
     "name": "stdout",
     "output_type": "stream",
     "text": [
      "Model Was Not Saved ! Current Best Avg. Dice: 0.6223299503326416 Current Avg. Dice: 0.6023054718971252 Current Avg. tumor Dice: 0.6682361364364624 Current Avg. lymph Dice: 0.5324302911758423\n"
     ]
    },
    {
     "name": "stderr",
     "output_type": "stream",
     "text": [
      "Training (8639 / 18000 Steps) (loss=0.59055): 100%|██████████| 108/108 [02:45<00:00,  1.53s/it]\n",
      "Validate (8640 / 10 Steps): 100%|██████████| 26/26 [00:48<00:00,  1.85s/it]1<00:25,  1.88it/s]\n",
      "Training (8700 / 18000 Steps) (loss=0.56885):  56%|█████▋    | 61/108 [01:29<11:44, 14.99s/it]"
     ]
    },
    {
     "name": "stdout",
     "output_type": "stream",
     "text": [
      "Model Was Not Saved ! Current Best Avg. Dice: 0.6223299503326416 Current Avg. Dice: 0.6149876713752747 Current Avg. tumor Dice: 0.6848825216293335 Current Avg. lymph Dice: 0.5412368178367615\n"
     ]
    },
    {
     "name": "stderr",
     "output_type": "stream",
     "text": [
      "Training (8747 / 18000 Steps) (loss=0.45503): 100%|██████████| 108/108 [01:59<00:00,  1.10s/it]\n",
      "Validate (8748 / 10 Steps): 100%|██████████| 26/26 [01:09<00:00,  2.69s/it]0<00:32,  1.70it/s]\n",
      "Training (8800 / 18000 Steps) (loss=0.44012):  49%|████▉     | 53/108 [01:49<19:47, 21.59s/it]"
     ]
    },
    {
     "name": "stdout",
     "output_type": "stream",
     "text": [
      "Model Was Not Saved ! Current Best Avg. Dice: 0.6223299503326416 Current Avg. Dice: 0.6129708886146545 Current Avg. tumor Dice: 0.6893962621688843 Current Avg. lymph Dice: 0.530525267124176\n"
     ]
    },
    {
     "name": "stderr",
     "output_type": "stream",
     "text": [
      "Training (8855 / 18000 Steps) (loss=0.43603): 100%|██████████| 108/108 [02:48<00:00,  1.56s/it]\n",
      "Validate (8856 / 10 Steps): 100%|██████████| 26/26 [00:46<00:00,  1.77s/it]5<00:35,  1.78it/s]\n",
      "Training (8900 / 18000 Steps) (loss=0.43667):  42%|████▏     | 45/108 [01:22<15:22, 14.64s/it]"
     ]
    },
    {
     "name": "stdout",
     "output_type": "stream",
     "text": [
      "Model Was Saved ! Current Best Avg. Dice: 0.6254419088363647 Current Avg. Dice: 0.6254419088363647 Current Avg. tumor Dice: 0.6931750178337097 Current Avg. lymph Dice: 0.5534980893135071\n"
     ]
    },
    {
     "name": "stderr",
     "output_type": "stream",
     "text": [
      "Training (8963 / 18000 Steps) (loss=0.37616): 100%|██████████| 108/108 [02:02<00:00,  1.13s/it]\n",
      "Validate (8964 / 10 Steps): 100%|██████████| 26/26 [00:48<00:00,  1.87s/it]0<00:46,  1.53it/s]\n",
      "Training (9000 / 18000 Steps) (loss=0.32654):  34%|███▍      | 37/108 [01:18<18:04, 15.28s/it]"
     ]
    },
    {
     "name": "stdout",
     "output_type": "stream",
     "text": [
      "Model Was Not Saved ! Current Best Avg. Dice: 0.6254419088363647 Current Avg. Dice: 0.6093317866325378 Current Avg. tumor Dice: 0.6858170628547668 Current Avg. lymph Dice: 0.5256165266036987\n"
     ]
    },
    {
     "name": "stderr",
     "output_type": "stream",
     "text": [
      "Training (9071 / 18000 Steps) (loss=0.39833): 100%|██████████| 108/108 [02:13<00:00,  1.24s/it]\n",
      "Validate (9072 / 10 Steps): 100%|██████████| 26/26 [01:01<00:00,  2.37s/it]6<01:25,  1.07s/it]\n",
      "Training (9100 / 18000 Steps) (loss=0.31994):  27%|██▋       | 29/108 [01:38<25:45, 19.56s/it]"
     ]
    },
    {
     "name": "stdout",
     "output_type": "stream",
     "text": [
      "Model Was Not Saved ! Current Best Avg. Dice: 0.6254419088363647 Current Avg. Dice: 0.6075960993766785 Current Avg. tumor Dice: 0.6764801740646362 Current Avg. lymph Dice: 0.5350727438926697\n"
     ]
    },
    {
     "name": "stderr",
     "output_type": "stream",
     "text": [
      "Training (9179 / 18000 Steps) (loss=0.45973): 100%|██████████| 108/108 [02:28<00:00,  1.38s/it]\n",
      "Validate (9180 / 10 Steps): 100%|██████████| 26/26 [00:49<00:00,  1.90s/it]0<00:57,  1.53it/s]\n",
      "Training (9200 / 18000 Steps) (loss=0.22415):  19%|█▉        | 21/108 [01:09<22:27, 15.49s/it]"
     ]
    },
    {
     "name": "stdout",
     "output_type": "stream",
     "text": [
      "Model Was Not Saved ! Current Best Avg. Dice: 0.6254419088363647 Current Avg. Dice: 0.6116681098937988 Current Avg. tumor Dice: 0.687512993812561 Current Avg. lymph Dice: 0.5286048054695129\n"
     ]
    },
    {
     "name": "stderr",
     "output_type": "stream",
     "text": [
      "Training (9287 / 18000 Steps) (loss=0.54503): 100%|██████████| 108/108 [02:05<00:00,  1.16s/it]\n",
      "Validate (9288 / 10 Steps): 100%|██████████| 26/26 [01:03<00:00,  2.43s/it]6<01:06,  1.44it/s]\n",
      "Training (9300 / 18000 Steps) (loss=0.45031):  12%|█▏        | 13/108 [01:19<31:29, 19.89s/it]"
     ]
    },
    {
     "name": "stdout",
     "output_type": "stream",
     "text": [
      "Model Was Not Saved ! Current Best Avg. Dice: 0.6254419088363647 Current Avg. Dice: 0.617215633392334 Current Avg. tumor Dice: 0.6965698003768921 Current Avg. lymph Dice: 0.5310748219490051\n"
     ]
    },
    {
     "name": "stderr",
     "output_type": "stream",
     "text": [
      "Training (9395 / 18000 Steps) (loss=0.43895): 100%|██████████| 108/108 [02:41<00:00,  1.50s/it]\n",
      "Validate (9396 / 10 Steps): 100%|██████████| 26/26 [00:52<00:00,  2.00s/it]<02:23,  1.38s/it]\n",
      "Training (9400 / 18000 Steps) (loss=0.43125):   5%|▍         | 5/108 [01:00<34:09, 19.90s/it]"
     ]
    },
    {
     "name": "stdout",
     "output_type": "stream",
     "text": [
      "Model Was Not Saved ! Current Best Avg. Dice: 0.6254419088363647 Current Avg. Dice: 0.6118384599685669 Current Avg. tumor Dice: 0.6852596402168274 Current Avg. lymph Dice: 0.5330801010131836\n"
     ]
    },
    {
     "name": "stderr",
     "output_type": "stream",
     "text": [
      "Validate (9396 / 10 Steps): 100%|██████████| 26/26 [00:48<00:00,  1.87s/it]05<00:02,  1.52it/s]\n",
      "Training (9500 / 18000 Steps) (loss=0.42349):  97%|█████████▋| 105/108 [02:54<00:45, 15.23s/it]"
     ]
    },
    {
     "name": "stdout",
     "output_type": "stream",
     "text": [
      "Model Was Not Saved ! Current Best Avg. Dice: 0.6254419088363647 Current Avg. Dice: 0.6100131869316101 Current Avg. tumor Dice: 0.6779460310935974 Current Avg. lymph Dice: 0.5322138667106628\n"
     ]
    },
    {
     "name": "stderr",
     "output_type": "stream",
     "text": [
      "Training (9503 / 18000 Steps) (loss=0.58321): 100%|██████████| 108/108 [02:56<00:00,  1.63s/it]\n",
      "Validate (9504 / 10 Steps): 100%|██████████| 26/26 [01:10<00:00,  2.71s/it]4<00:09,  1.23it/s]\n",
      "Training (9600 / 18000 Steps) (loss=0.43304):  90%|████████▉ | 97/108 [02:25<04:02, 22.02s/it]"
     ]
    },
    {
     "name": "stdout",
     "output_type": "stream",
     "text": [
      "Model Was Not Saved ! Current Best Avg. Dice: 0.6254419088363647 Current Avg. Dice: 0.6054201722145081 Current Avg. tumor Dice: 0.6878235936164856 Current Avg. lymph Dice: 0.5160420536994934\n"
     ]
    },
    {
     "name": "stderr",
     "output_type": "stream",
     "text": [
      "Training (9611 / 18000 Steps) (loss=0.41453): 100%|██████████| 108/108 [02:37<00:00,  1.46s/it]\n",
      "Validate (9612 / 10 Steps): 100%|██████████| 26/26 [00:50<00:00,  1.96s/it]4<00:13,  1.48it/s]\n",
      "Training (9700 / 18000 Steps) (loss=0.45195):  82%|████████▏ | 89/108 [01:55<05:03, 15.96s/it]"
     ]
    },
    {
     "name": "stdout",
     "output_type": "stream",
     "text": [
      "Model Was Not Saved ! Current Best Avg. Dice: 0.6254419088363647 Current Avg. Dice: 0.6143237352371216 Current Avg. tumor Dice: 0.6807499527931213 Current Avg. lymph Dice: 0.5381156802177429\n"
     ]
    },
    {
     "name": "stderr",
     "output_type": "stream",
     "text": [
      "Training (9719 / 18000 Steps) (loss=0.42933): 100%|██████████| 108/108 [02:07<00:00,  1.18s/it]\n",
      "Validate (9720 / 10 Steps): 100%|██████████| 26/26 [00:43<00:00,  1.66s/it]9<00:19,  1.45it/s]\n",
      "Training (9800 / 18000 Steps) (loss=0.52715):  75%|███████▌  | 81/108 [01:42<06:08, 13.65s/it]"
     ]
    },
    {
     "name": "stdout",
     "output_type": "stream",
     "text": [
      "Model Was Not Saved ! Current Best Avg. Dice: 0.6254419088363647 Current Avg. Dice: 0.6088617444038391 Current Avg. tumor Dice: 0.6718020439147949 Current Avg. lymph Dice: 0.5404273271560669\n"
     ]
    },
    {
     "name": "stderr",
     "output_type": "stream",
     "text": [
      "Training (9827 / 18000 Steps) (loss=0.29977): 100%|██████████| 108/108 [02:05<00:00,  1.16s/it]\n",
      "Validate (9828 / 10 Steps): 100%|██████████| 26/26 [00:55<00:00,  2.14s/it]3<00:34,  1.03it/s]\n",
      "Training (9900 / 18000 Steps) (loss=0.50609):  68%|██████▊   | 73/108 [02:18<10:18, 17.67s/it]"
     ]
    },
    {
     "name": "stdout",
     "output_type": "stream",
     "text": [
      "Model Was Not Saved ! Current Best Avg. Dice: 0.6254419088363647 Current Avg. Dice: 0.6060106754302979 Current Avg. tumor Dice: 0.6639040112495422 Current Avg. lymph Dice: 0.5478519797325134\n"
     ]
    },
    {
     "name": "stderr",
     "output_type": "stream",
     "text": [
      "Training (9935 / 18000 Steps) (loss=0.38454): 100%|██████████| 108/108 [02:40<00:00,  1.49s/it]\n",
      "Validate (9936 / 10 Steps): 100%|██████████| 26/26 [00:47<00:00,  1.84s/it]52<00:32,  1.37it/s]\n",
      "Training (10000 / 18000 Steps) (loss=0.49003):  60%|██████    | 65/108 [01:41<11:00, 15.37s/it]"
     ]
    },
    {
     "name": "stdout",
     "output_type": "stream",
     "text": [
      "Model Was Saved ! Current Best Avg. Dice: 0.6257655620574951 Current Avg. Dice: 0.6257655620574951 Current Avg. tumor Dice: 0.6915571689605713 Current Avg. lymph Dice: 0.5565698742866516\n"
     ]
    },
    {
     "name": "stderr",
     "output_type": "stream",
     "text": [
      "Training (10043 / 18000 Steps) (loss=0.37951): 100%|██████████| 108/108 [02:12<00:00,  1.22s/it]\n",
      "Validate (10044 / 10 Steps): 100%|██████████| 26/26 [01:11<00:00,  2.76s/it]9<00:50,  1.03it/s]\n",
      "Training (10100 / 18000 Steps) (loss=0.35844):  53%|█████▎    | 57/108 [02:00<19:08, 22.53s/it]"
     ]
    },
    {
     "name": "stdout",
     "output_type": "stream",
     "text": [
      "Model Was Not Saved ! Current Best Avg. Dice: 0.6257655620574951 Current Avg. Dice: 0.6141481399536133 Current Avg. tumor Dice: 0.6896415948867798 Current Avg. lymph Dice: 0.5327154994010925\n"
     ]
    },
    {
     "name": "stderr",
     "output_type": "stream",
     "text": [
      "Training (10151 / 18000 Steps) (loss=0.38341): 100%|██████████| 108/108 [02:32<00:00,  1.41s/it]\n",
      "Validate (10152 / 10 Steps): 100%|██████████| 26/26 [00:42<00:00,  1.63s/it]4<00:34,  1.74it/s]\n",
      "Training (10200 / 18000 Steps) (loss=0.28243):  45%|████▌     | 49/108 [01:17<13:06, 13.32s/it]"
     ]
    },
    {
     "name": "stdout",
     "output_type": "stream",
     "text": [
      "Model Was Not Saved ! Current Best Avg. Dice: 0.6257655620574951 Current Avg. Dice: 0.6072291135787964 Current Avg. tumor Dice: 0.686570405960083 Current Avg. lymph Dice: 0.5219376087188721\n"
     ]
    },
    {
     "name": "stderr",
     "output_type": "stream",
     "text": [
      "Training (10259 / 18000 Steps) (loss=0.45448): 100%|██████████| 108/108 [01:47<00:00,  1.01it/s]\n",
      "Validate (10260 / 10 Steps): 100%|██████████| 26/26 [00:45<00:00,  1.73s/it]0<00:36,  1.84it/s]\n",
      "Training (10300 / 18000 Steps) (loss=0.50326):  38%|███▊      | 41/108 [01:15<15:43, 14.09s/it]"
     ]
    },
    {
     "name": "stdout",
     "output_type": "stream",
     "text": [
      "Model Was Not Saved ! Current Best Avg. Dice: 0.6257655620574951 Current Avg. Dice: 0.6236253380775452 Current Avg. tumor Dice: 0.6845157742500305 Current Avg. lymph Dice: 0.5643617510795593\n"
     ]
    },
    {
     "name": "stderr",
     "output_type": "stream",
     "text": [
      "Training (10367 / 18000 Steps) (loss=0.32479): 100%|██████████| 108/108 [02:05<00:00,  1.16s/it]\n",
      "Validate (10368 / 10 Steps): 100%|██████████| 26/26 [00:58<00:00,  2.26s/it]5<01:08,  1.11it/s]\n",
      "Training (10400 / 18000 Steps) (loss=0.42519):  31%|███       | 33/108 [01:34<23:12, 18.56s/it]"
     ]
    },
    {
     "name": "stdout",
     "output_type": "stream",
     "text": [
      "Model Was Not Saved ! Current Best Avg. Dice: 0.6257655620574951 Current Avg. Dice: 0.592140257358551 Current Avg. tumor Dice: 0.6558369398117065 Current Avg. lymph Dice: 0.5248546004295349\n"
     ]
    },
    {
     "name": "stderr",
     "output_type": "stream",
     "text": [
      "Training (10475 / 18000 Steps) (loss=0.46832): 100%|██████████| 108/108 [02:12<00:00,  1.23s/it]\n",
      "Validate (10476 / 10 Steps): 100%|██████████| 26/26 [00:50<00:00,  1.94s/it]1<00:53,  1.56it/s]\n",
      "Training (10500 / 18000 Steps) (loss=0.54125):  23%|██▎       | 25/108 [01:11<21:52, 15.81s/it]"
     ]
    },
    {
     "name": "stdout",
     "output_type": "stream",
     "text": [
      "Model Was Not Saved ! Current Best Avg. Dice: 0.6257655620574951 Current Avg. Dice: 0.6181235313415527 Current Avg. tumor Dice: 0.6873388290405273 Current Avg. lymph Dice: 0.5466561317443848\n"
     ]
    },
    {
     "name": "stderr",
     "output_type": "stream",
     "text": [
      "Training (10583 / 18000 Steps) (loss=0.50382): 100%|██████████| 108/108 [02:04<00:00,  1.16s/it]\n",
      "Validate (10584 / 10 Steps): 100%|██████████| 26/26 [01:01<00:00,  2.35s/it]7<01:02,  1.46it/s]\n",
      "Training (10600 / 18000 Steps) (loss=0.48941):  16%|█▌        | 17/108 [01:18<28:55, 19.07s/it]"
     ]
    },
    {
     "name": "stdout",
     "output_type": "stream",
     "text": [
      "Model Was Not Saved ! Current Best Avg. Dice: 0.6257655620574951 Current Avg. Dice: 0.6189078688621521 Current Avg. tumor Dice: 0.6837711930274963 Current Avg. lymph Dice: 0.5513787865638733\n"
     ]
    },
    {
     "name": "stderr",
     "output_type": "stream",
     "text": [
      "Training (10691 / 18000 Steps) (loss=0.56026): 100%|██████████| 108/108 [02:42<00:00,  1.51s/it]\n",
      "Validate (10692 / 10 Steps): 100%|██████████| 26/26 [00:49<00:00,  1.92s/it]<01:08,  1.47it/s]\n",
      "Training (10700 / 18000 Steps) (loss=0.36690):   8%|▊         | 9/108 [01:00<26:43, 16.20s/it]"
     ]
    },
    {
     "name": "stdout",
     "output_type": "stream",
     "text": [
      "Model Was Not Saved ! Current Best Avg. Dice: 0.6257655620574951 Current Avg. Dice: 0.6156904101371765 Current Avg. tumor Dice: 0.6904768347740173 Current Avg. lymph Dice: 0.5380922555923462\n"
     ]
    },
    {
     "name": "stderr",
     "output_type": "stream",
     "text": [
      "Training (10799 / 18000 Steps) (loss=0.50869): 100%|██████████| 108/108 [02:03<00:00,  1.14s/it]\n",
      "Validate (10800 / 10 Steps): 100%|██████████| 26/26 [00:50<00:00,  1.94s/it]<?, ?it/s]\n",
      "Training (10800 / 18000 Steps) (loss=0.33999):   1%|          | 1/108 [00:58<1:44:03, 58.35s/it]"
     ]
    },
    {
     "name": "stdout",
     "output_type": "stream",
     "text": [
      "Model Was Not Saved ! Current Best Avg. Dice: 0.6257655620574951 Current Avg. Dice: 0.6011438965797424 Current Avg. tumor Dice: 0.6665363907814026 Current Avg. lymph Dice: 0.5335999727249146\n"
     ]
    },
    {
     "name": "stderr",
     "output_type": "stream",
     "text": [
      "Validate (10800 / 10 Steps): 100%|██████████| 26/26 [01:06<00:00,  2.55s/it]16<00:08,  1.10s/it]\n",
      "Training (10900 / 18000 Steps) (loss=0.42751):  94%|█████████▎| 101/108 [03:23<02:26, 20.99s/it]"
     ]
    },
    {
     "name": "stdout",
     "output_type": "stream",
     "text": [
      "Model Was Not Saved ! Current Best Avg. Dice: 0.6257655620574951 Current Avg. Dice: 0.6020709276199341 Current Avg. tumor Dice: 0.675586462020874 Current Avg. lymph Dice: 0.5200115442276001\n"
     ]
    },
    {
     "name": "stderr",
     "output_type": "stream",
     "text": [
      "Training (10907 / 18000 Steps) (loss=0.51521): 100%|██████████| 108/108 [03:29<00:00,  1.94s/it]\n",
      "Validate (10908 / 10 Steps): 100%|██████████| 26/26 [00:50<00:00,  1.94s/it]7<00:08,  1.79it/s]\n",
      "Training (11000 / 18000 Steps) (loss=0.47023):  86%|████████▌ | 93/108 [01:57<03:55, 15.67s/it]"
     ]
    },
    {
     "name": "stdout",
     "output_type": "stream",
     "text": [
      "Model Was Not Saved ! Current Best Avg. Dice: 0.6257655620574951 Current Avg. Dice: 0.6144077777862549 Current Avg. tumor Dice: 0.6808128952980042 Current Avg. lymph Dice: 0.5472875237464905\n"
     ]
    },
    {
     "name": "stderr",
     "output_type": "stream",
     "text": [
      "Training (11015 / 18000 Steps) (loss=0.57054): 100%|██████████| 108/108 [02:07<00:00,  1.18s/it]\n",
      "Validate (11016 / 10 Steps): 100%|██████████| 26/26 [00:50<00:00,  1.94s/it]9<00:15,  1.52it/s]\n",
      "Training (11100 / 18000 Steps) (loss=0.43406):  79%|███████▊  | 85/108 [01:50<06:03, 15.82s/it]"
     ]
    },
    {
     "name": "stdout",
     "output_type": "stream",
     "text": [
      "Model Was Not Saved ! Current Best Avg. Dice: 0.6257655620574951 Current Avg. Dice: 0.6219516396522522 Current Avg. tumor Dice: 0.6864831447601318 Current Avg. lymph Dice: 0.557141125202179\n"
     ]
    },
    {
     "name": "stderr",
     "output_type": "stream",
     "text": [
      "Training (11123 / 18000 Steps) (loss=0.50044): 100%|██████████| 108/108 [02:09<00:00,  1.20s/it]\n",
      "Validate (11124 / 10 Steps): 100%|██████████| 26/26 [00:51<00:00,  1.99s/it]2<00:34,  1.08s/it]\n",
      "Training (11200 / 18000 Steps) (loss=0.40680):  71%|███████▏  | 77/108 [02:13<08:34, 16.61s/it]"
     ]
    },
    {
     "name": "stdout",
     "output_type": "stream",
     "text": [
      "Model Was Not Saved ! Current Best Avg. Dice: 0.6257655620574951 Current Avg. Dice: 0.6145366430282593 Current Avg. tumor Dice: 0.6829571723937988 Current Avg. lymph Dice: 0.5437110066413879\n"
     ]
    },
    {
     "name": "stderr",
     "output_type": "stream",
     "text": [
      "Training (11231 / 18000 Steps) (loss=0.45218): 100%|██████████| 108/108 [02:34<00:00,  1.43s/it]\n",
      "Validate (11232 / 10 Steps): 100%|██████████| 26/26 [00:49<00:00,  1.91s/it]2<00:27,  1.48it/s]\n",
      "Training (11300 / 18000 Steps) (loss=0.26358):  64%|██████▍   | 69/108 [01:42<10:06, 15.56s/it]"
     ]
    },
    {
     "name": "stdout",
     "output_type": "stream",
     "text": [
      "Model Was Not Saved ! Current Best Avg. Dice: 0.6257655620574951 Current Avg. Dice: 0.604143500328064 Current Avg. tumor Dice: 0.6662944555282593 Current Avg. lymph Dice: 0.5410387516021729\n"
     ]
    },
    {
     "name": "stderr",
     "output_type": "stream",
     "text": [
      "Training (11339 / 18000 Steps) (loss=0.50366): 100%|██████████| 108/108 [02:05<00:00,  1.16s/it]\n",
      "Validate (11340 / 10 Steps): 100%|██████████| 26/26 [01:16<00:00,  2.94s/it]4<00:29,  1.61it/s]\n",
      "Training (11400 / 18000 Steps) (loss=0.48286):  56%|█████▋    | 61/108 [02:00<18:33, 23.70s/it]"
     ]
    },
    {
     "name": "stdout",
     "output_type": "stream",
     "text": [
      "Model Was Not Saved ! Current Best Avg. Dice: 0.6257655620574951 Current Avg. Dice: 0.5954676866531372 Current Avg. tumor Dice: 0.6781771779060364 Current Avg. lymph Dice: 0.5039602518081665\n"
     ]
    },
    {
     "name": "stderr",
     "output_type": "stream",
     "text": [
      "Training (11447 / 18000 Steps) (loss=0.48976): 100%|██████████| 108/108 [02:43<00:00,  1.51s/it]\n",
      "Validate (11448 / 10 Steps): 100%|██████████| 26/26 [00:48<00:00,  1.88s/it]1<00:31,  1.79it/s]\n",
      "Training (11500 / 18000 Steps) (loss=0.34443):  49%|████▉     | 53/108 [01:30<14:03, 15.33s/it]"
     ]
    },
    {
     "name": "stdout",
     "output_type": "stream",
     "text": [
      "Model Was Not Saved ! Current Best Avg. Dice: 0.6257655620574951 Current Avg. Dice: 0.5992505550384521 Current Avg. tumor Dice: 0.6629756093025208 Current Avg. lymph Dice: 0.5295143127441406\n"
     ]
    },
    {
     "name": "stderr",
     "output_type": "stream",
     "text": [
      "Training (11555 / 18000 Steps) (loss=0.59127): 100%|██████████| 108/108 [02:03<00:00,  1.14s/it]\n",
      "Validate (11556 / 10 Steps): 100%|██████████| 26/26 [00:50<00:00,  1.93s/it]2<00:36,  1.77it/s]\n",
      "Training (11600 / 18000 Steps) (loss=0.38175):  42%|████▏     | 45/108 [01:22<16:23, 15.61s/it]"
     ]
    },
    {
     "name": "stdout",
     "output_type": "stream",
     "text": [
      "Model Was Not Saved ! Current Best Avg. Dice: 0.6257655620574951 Current Avg. Dice: 0.6231248378753662 Current Avg. tumor Dice: 0.6942981481552124 Current Avg. lymph Dice: 0.5492700338363647\n"
     ]
    },
    {
     "name": "stderr",
     "output_type": "stream",
     "text": [
      "Training (11663 / 18000 Steps) (loss=0.58679): 100%|██████████| 108/108 [02:21<00:00,  1.31s/it]\n",
      "Validate (11664 / 10 Steps): 100%|██████████| 26/26 [00:55<00:00,  2.12s/it]4<01:15,  1.05s/it]\n",
      "Training (11700 / 18000 Steps) (loss=0.47611):  34%|███▍      | 37/108 [01:39<20:45, 17.55s/it]"
     ]
    },
    {
     "name": "stdout",
     "output_type": "stream",
     "text": [
      "Model Was Not Saved ! Current Best Avg. Dice: 0.6257655620574951 Current Avg. Dice: 0.6144709587097168 Current Avg. tumor Dice: 0.6872506141662598 Current Avg. lymph Dice: 0.541648805141449\n"
     ]
    },
    {
     "name": "stderr",
     "output_type": "stream",
     "text": [
      "Training (11771 / 18000 Steps) (loss=0.39303): 100%|██████████| 108/108 [02:24<00:00,  1.34s/it]\n",
      "Validate (11772 / 10 Steps): 100%|██████████| 26/26 [00:46<00:00,  1.78s/it]4<00:44,  1.79it/s]\n",
      "Training (11800 / 18000 Steps) (loss=0.31435):  27%|██▋       | 29/108 [01:11<19:00, 14.44s/it]"
     ]
    },
    {
     "name": "stdout",
     "output_type": "stream",
     "text": [
      "Model Was Not Saved ! Current Best Avg. Dice: 0.6257655620574951 Current Avg. Dice: 0.6231148838996887 Current Avg. tumor Dice: 0.6919651627540588 Current Avg. lymph Dice: 0.551420271396637\n"
     ]
    },
    {
     "name": "stderr",
     "output_type": "stream",
     "text": [
      "Training (11879 / 18000 Steps) (loss=0.41839): 100%|██████████| 108/108 [02:01<00:00,  1.13s/it]\n",
      "Validate (11880 / 10 Steps): 100%|██████████| 26/26 [01:15<00:00,  2.90s/it]1<00:56,  1.56it/s]\n",
      "Training (11900 / 18000 Steps) (loss=0.46527):  19%|█▉        | 21/108 [01:36<33:45, 23.28s/it]"
     ]
    },
    {
     "name": "stdout",
     "output_type": "stream",
     "text": [
      "Model Was Not Saved ! Current Best Avg. Dice: 0.6257655620574951 Current Avg. Dice: 0.5938382148742676 Current Avg. tumor Dice: 0.6755535006523132 Current Avg. lymph Dice: 0.5074352025985718\n"
     ]
    },
    {
     "name": "stderr",
     "output_type": "stream",
     "text": [
      "Training (11987 / 18000 Steps) (loss=0.47843): 100%|██████████| 108/108 [02:48<00:00,  1.56s/it]\n",
      "Validate (11988 / 10 Steps): 100%|██████████| 26/26 [00:46<00:00,  1.77s/it]4<01:14,  1.30it/s]\n",
      "Training (12000 / 18000 Steps) (loss=0.48192):  12%|█▏        | 13/108 [01:00<23:16, 14.70s/it]"
     ]
    },
    {
     "name": "stdout",
     "output_type": "stream",
     "text": [
      "Model Was Not Saved ! Current Best Avg. Dice: 0.6257655620574951 Current Avg. Dice: 0.6195768713951111 Current Avg. tumor Dice: 0.6908189654350281 Current Avg. lymph Dice: 0.5452605485916138\n"
     ]
    },
    {
     "name": "stderr",
     "output_type": "stream",
     "text": [
      "Training (12095 / 18000 Steps) (loss=0.43004): 100%|██████████| 108/108 [01:59<00:00,  1.10s/it]\n",
      "Validate (12096 / 10 Steps): 100%|██████████| 26/26 [00:50<00:00,  1.94s/it]<02:49,  1.63s/it]\n",
      "Training (12100 / 18000 Steps) (loss=0.43157):   5%|▍         | 5/108 [01:00<33:27, 19.49s/it]"
     ]
    },
    {
     "name": "stdout",
     "output_type": "stream",
     "text": [
      "Model Was Not Saved ! Current Best Avg. Dice: 0.6257655620574951 Current Avg. Dice: 0.6153442859649658 Current Avg. tumor Dice: 0.6880194544792175 Current Avg. lymph Dice: 0.5383111238479614\n"
     ]
    },
    {
     "name": "stderr",
     "output_type": "stream",
     "text": [
      "Validate (12096 / 10 Steps): 100%|██████████| 26/26 [00:57<00:00,  2.20s/it]33<00:04,  1.10s/it]\n",
      "Training (12200 / 18000 Steps) (loss=0.47457):  97%|█████████▋| 105/108 [03:30<00:54, 18.23s/it]"
     ]
    },
    {
     "name": "stdout",
     "output_type": "stream",
     "text": [
      "Model Was Not Saved ! Current Best Avg. Dice: 0.6257655620574951 Current Avg. Dice: 0.6121737360954285 Current Avg. tumor Dice: 0.685981810092926 Current Avg. lymph Dice: 0.5330654382705688\n"
     ]
    },
    {
     "name": "stderr",
     "output_type": "stream",
     "text": [
      "Training (12203 / 18000 Steps) (loss=0.30592): 100%|██████████| 108/108 [03:32<00:00,  1.97s/it]\n",
      "Validate (12204 / 10 Steps): 100%|██████████| 26/26 [00:50<00:00,  1.93s/it]8<00:07,  1.51it/s]\n",
      "Training (12300 / 18000 Steps) (loss=0.36612):  90%|████████▉ | 97/108 [01:59<02:52, 15.73s/it]"
     ]
    },
    {
     "name": "stdout",
     "output_type": "stream",
     "text": [
      "Model Was Not Saved ! Current Best Avg. Dice: 0.6257655620574951 Current Avg. Dice: 0.606411337852478 Current Avg. tumor Dice: 0.6752835512161255 Current Avg. lymph Dice: 0.5314655303955078\n"
     ]
    },
    {
     "name": "stderr",
     "output_type": "stream",
     "text": [
      "Training (12311 / 18000 Steps) (loss=0.55581): 100%|██████████| 108/108 [02:06<00:00,  1.17s/it]\n",
      "Validate (12312 / 10 Steps): 100%|██████████| 26/26 [01:06<00:00,  2.56s/it]3<00:12,  1.55it/s]\n",
      "Training (12400 / 18000 Steps) (loss=0.32998):  82%|████████▏ | 89/108 [02:09<06:30, 20.58s/it]"
     ]
    },
    {
     "name": "stdout",
     "output_type": "stream",
     "text": [
      "Model Was Not Saved ! Current Best Avg. Dice: 0.6257655620574951 Current Avg. Dice: 0.6149288415908813 Current Avg. tumor Dice: 0.6824783682823181 Current Avg. lymph Dice: 0.5448319911956787\n"
     ]
    },
    {
     "name": "stderr",
     "output_type": "stream",
     "text": [
      "Training (12419 / 18000 Steps) (loss=0.52446): 100%|██████████| 108/108 [02:27<00:00,  1.37s/it]\n",
      "Validate (12420 / 10 Steps): 100%|██████████| 26/26 [00:45<00:00,  1.76s/it]9<00:17,  1.56it/s]\n",
      "Training (12500 / 18000 Steps) (loss=0.37523):  75%|███████▌  | 81/108 [01:55<06:27, 14.34s/it]"
     ]
    },
    {
     "name": "stdout",
     "output_type": "stream",
     "text": [
      "Model Was Not Saved ! Current Best Avg. Dice: 0.6257655620574951 Current Avg. Dice: 0.6166024208068848 Current Avg. tumor Dice: 0.6815683245658875 Current Avg. lymph Dice: 0.5480209589004517\n"
     ]
    },
    {
     "name": "stderr",
     "output_type": "stream",
     "text": [
      "Training (12527 / 18000 Steps) (loss=0.49402): 100%|██████████| 108/108 [02:10<00:00,  1.21s/it]\n",
      "Validate (12528 / 10 Steps): 100%|██████████| 26/26 [00:44<00:00,  1.71s/it]8<00:21,  1.70it/s]\n",
      "Training (12600 / 18000 Steps) (loss=0.51983):  68%|██████▊   | 73/108 [01:32<08:06, 13.89s/it]"
     ]
    },
    {
     "name": "stdout",
     "output_type": "stream",
     "text": [
      "Model Was Not Saved ! Current Best Avg. Dice: 0.6257655620574951 Current Avg. Dice: 0.6065968871116638 Current Avg. tumor Dice: 0.6883817315101624 Current Avg. lymph Dice: 0.5186113715171814\n"
     ]
    },
    {
     "name": "stderr",
     "output_type": "stream",
     "text": [
      "Training (12635 / 18000 Steps) (loss=0.49340): 100%|██████████| 108/108 [01:52<00:00,  1.04s/it]\n",
      "Validate (12636 / 10 Steps): 100%|██████████| 26/26 [01:02<00:00,  2.41s/it]0<00:30,  1.43it/s]\n",
      "Training (12700 / 18000 Steps) (loss=0.42469):  60%|██████    | 65/108 [01:52<13:59, 19.52s/it]"
     ]
    },
    {
     "name": "stdout",
     "output_type": "stream",
     "text": [
      "Model Was Not Saved ! Current Best Avg. Dice: 0.6257655620574951 Current Avg. Dice: 0.6101329326629639 Current Avg. tumor Dice: 0.6717350482940674 Current Avg. lymph Dice: 0.5454893112182617\n"
     ]
    },
    {
     "name": "stderr",
     "output_type": "stream",
     "text": [
      "Training (12743 / 18000 Steps) (loss=0.41777): 100%|██████████| 108/108 [02:26<00:00,  1.35s/it]\n",
      "Validate (12744 / 10 Steps): 100%|██████████| 26/26 [00:45<00:00,  1.76s/it]9<00:29,  1.74it/s]\n",
      "Training (12800 / 18000 Steps) (loss=0.46184):  53%|█████▎    | 57/108 [01:24<12:07, 14.27s/it]"
     ]
    },
    {
     "name": "stdout",
     "output_type": "stream",
     "text": [
      "Model Was Not Saved ! Current Best Avg. Dice: 0.6257655620574951 Current Avg. Dice: 0.6183673739433289 Current Avg. tumor Dice: 0.686651885509491 Current Avg. lymph Dice: 0.5467559099197388\n"
     ]
    },
    {
     "name": "stderr",
     "output_type": "stream",
     "text": [
      "Training (12851 / 18000 Steps) (loss=0.36702): 100%|██████████| 108/108 [01:53<00:00,  1.05s/it]\n",
      "Validate (12852 / 10 Steps): 100%|██████████| 26/26 [00:42<00:00,  1.63s/it]4<00:33,  1.80it/s]\n",
      "Training (12900 / 18000 Steps) (loss=0.37755):  45%|████▌     | 49/108 [01:17<13:22, 13.59s/it]"
     ]
    },
    {
     "name": "stdout",
     "output_type": "stream",
     "text": [
      "Model Was Saved ! Current Best Avg. Dice: 0.6284632086753845 Current Avg. Dice: 0.6284632086753845 Current Avg. tumor Dice: 0.6960049867630005 Current Avg. lymph Dice: 0.5582437515258789\n"
     ]
    },
    {
     "name": "stderr",
     "output_type": "stream",
     "text": [
      "Training (12959 / 18000 Steps) (loss=0.27143): 100%|██████████| 108/108 [01:54<00:00,  1.06s/it]\n",
      "Validate (12960 / 10 Steps): 100%|██████████| 26/26 [01:06<00:00,  2.55s/it]8<01:08,  1.01s/it]\n",
      "Training (13000 / 18000 Steps) (loss=0.48140):  38%|███▊      | 41/108 [01:55<23:21, 20.92s/it]"
     ]
    },
    {
     "name": "stdout",
     "output_type": "stream",
     "text": [
      "Model Was Not Saved ! Current Best Avg. Dice: 0.6284632086753845 Current Avg. Dice: 0.6192566752433777 Current Avg. tumor Dice: 0.6882176399230957 Current Avg. lymph Dice: 0.544687032699585\n"
     ]
    },
    {
     "name": "stderr",
     "output_type": "stream",
     "text": [
      "Training (13067 / 18000 Steps) (loss=0.47098): 100%|██████████| 108/108 [02:38<00:00,  1.46s/it]\n",
      "Validate (13068 / 10 Steps): 100%|██████████| 26/26 [00:52<00:00,  2.02s/it]7<00:42,  1.80it/s]\n",
      "Training (13100 / 18000 Steps) (loss=0.43521):  31%|███       | 33/108 [01:19<20:24, 16.32s/it]"
     ]
    },
    {
     "name": "stdout",
     "output_type": "stream",
     "text": [
      "Model Was Not Saved ! Current Best Avg. Dice: 0.6284632086753845 Current Avg. Dice: 0.6103008985519409 Current Avg. tumor Dice: 0.6697843074798584 Current Avg. lymph Dice: 0.5471988916397095\n"
     ]
    },
    {
     "name": "stderr",
     "output_type": "stream",
     "text": [
      "Training (13175 / 18000 Steps) (loss=0.38087): 100%|██████████| 108/108 [02:00<00:00,  1.11s/it]\n",
      "Validate (13176 / 10 Steps): 100%|██████████| 26/26 [01:04<00:00,  2.48s/it]3<00:52,  1.60it/s]\n",
      "Training (13200 / 18000 Steps) (loss=0.39769):  23%|██▎       | 25/108 [01:28<27:40, 20.00s/it]"
     ]
    },
    {
     "name": "stdout",
     "output_type": "stream",
     "text": [
      "Model Was Not Saved ! Current Best Avg. Dice: 0.6284632086753845 Current Avg. Dice: 0.6133137941360474 Current Avg. tumor Dice: 0.6780052185058594 Current Avg. lymph Dice: 0.544666051864624\n"
     ]
    },
    {
     "name": "stderr",
     "output_type": "stream",
     "text": [
      "Training (13283 / 18000 Steps) (loss=0.44520): 100%|██████████| 108/108 [02:49<00:00,  1.57s/it]\n",
      "Validate (13284 / 10 Steps): 100%|██████████| 26/26 [00:49<00:00,  1.89s/it]8<01:02,  1.46it/s]\n",
      "Training (13300 / 18000 Steps) (loss=0.37051):  16%|█▌        | 17/108 [01:07<23:30, 15.50s/it]"
     ]
    },
    {
     "name": "stdout",
     "output_type": "stream",
     "text": [
      "Model Was Not Saved ! Current Best Avg. Dice: 0.6284632086753845 Current Avg. Dice: 0.6139838695526123 Current Avg. tumor Dice: 0.6892110705375671 Current Avg. lymph Dice: 0.5338026881217957\n"
     ]
    },
    {
     "name": "stderr",
     "output_type": "stream",
     "text": [
      "Training (13391 / 18000 Steps) (loss=0.38166): 100%|██████████| 108/108 [02:00<00:00,  1.11s/it]\n",
      "Validate (13392 / 10 Steps): 100%|██████████| 26/26 [00:52<00:00,  2.01s/it]<01:11,  1.40it/s]\n",
      "Training (13400 / 18000 Steps) (loss=0.44485):   8%|▊         | 9/108 [01:03<28:07, 17.04s/it]"
     ]
    },
    {
     "name": "stdout",
     "output_type": "stream",
     "text": [
      "Model Was Not Saved ! Current Best Avg. Dice: 0.6284632086753845 Current Avg. Dice: 0.6120599508285522 Current Avg. tumor Dice: 0.6770122051239014 Current Avg. lymph Dice: 0.5434318780899048\n"
     ]
    },
    {
     "name": "stderr",
     "output_type": "stream",
     "text": [
      "Training (13499 / 18000 Steps) (loss=0.30029): 100%|██████████| 108/108 [02:21<00:00,  1.31s/it]\n",
      "Validate (13500 / 10 Steps): 100%|██████████| 26/26 [01:11<00:00,  2.75s/it]<?, ?it/s]\n",
      "Training (13500 / 18000 Steps) (loss=0.42688):   1%|          | 1/108 [01:18<2:20:03, 78.54s/it]"
     ]
    },
    {
     "name": "stdout",
     "output_type": "stream",
     "text": [
      "Model Was Not Saved ! Current Best Avg. Dice: 0.6284632086753845 Current Avg. Dice: 0.5751422047615051 Current Avg. tumor Dice: 0.6619517207145691 Current Avg. lymph Dice: 0.4784362018108368\n"
     ]
    },
    {
     "name": "stderr",
     "output_type": "stream",
     "text": [
      "Validate (13500 / 10 Steps): 100%|██████████| 26/26 [00:47<00:00,  1.81s/it]18<00:04,  1.76it/s]\n",
      "Training (13600 / 18000 Steps) (loss=0.36517):  94%|█████████▎| 101/108 [03:06<01:43, 14.73s/it]"
     ]
    },
    {
     "name": "stdout",
     "output_type": "stream",
     "text": [
      "Model Was Not Saved ! Current Best Avg. Dice: 0.6284632086753845 Current Avg. Dice: 0.607008159160614 Current Avg. tumor Dice: 0.663722038269043 Current Avg. lymph Dice: 0.5511603355407715\n"
     ]
    },
    {
     "name": "stderr",
     "output_type": "stream",
     "text": [
      "Training (13607 / 18000 Steps) (loss=0.32127): 100%|██████████| 108/108 [03:10<00:00,  1.77s/it]\n",
      "Validate (13608 / 10 Steps): 100%|██████████| 26/26 [00:55<00:00,  2.14s/it]5<00:10,  1.52it/s]\n",
      "Training (13700 / 18000 Steps) (loss=0.39155):  86%|████████▌ | 93/108 [02:01<04:19, 17.33s/it]"
     ]
    },
    {
     "name": "stdout",
     "output_type": "stream",
     "text": [
      "Model Was Not Saved ! Current Best Avg. Dice: 0.6284632086753845 Current Avg. Dice: 0.6274696588516235 Current Avg. tumor Dice: 0.6858593225479126 Current Avg. lymph Dice: 0.569893479347229\n"
     ]
    },
    {
     "name": "stderr",
     "output_type": "stream",
     "text": [
      "Training (13715 / 18000 Steps) (loss=0.36573): 100%|██████████| 108/108 [02:17<00:00,  1.27s/it]\n",
      "Validate (13716 / 10 Steps): 100%|██████████| 26/26 [00:45<00:00,  1.75s/it]7<00:11,  2.00it/s]\n",
      "Training (13800 / 18000 Steps) (loss=0.51118):  79%|███████▊  | 85/108 [02:13<05:25, 14.15s/it]"
     ]
    },
    {
     "name": "stdout",
     "output_type": "stream",
     "text": [
      "Model Was Not Saved ! Current Best Avg. Dice: 0.6284632086753845 Current Avg. Dice: 0.6169238090515137 Current Avg. tumor Dice: 0.6767557859420776 Current Avg. lymph Dice: 0.5572124123573303\n"
     ]
    },
    {
     "name": "stderr",
     "output_type": "stream",
     "text": [
      "Training (13823 / 18000 Steps) (loss=0.48265): 100%|██████████| 108/108 [02:28<00:00,  1.37s/it]\n",
      "Validate (13824 / 10 Steps): 100%|██████████| 26/26 [00:49<00:00,  1.90s/it]7<00:21,  1.50it/s]\n",
      "Training (13900 / 18000 Steps) (loss=0.40908):  71%|███████▏  | 77/108 [01:46<08:00, 15.48s/it]"
     ]
    },
    {
     "name": "stdout",
     "output_type": "stream",
     "text": [
      "Model Was Not Saved ! Current Best Avg. Dice: 0.6284632086753845 Current Avg. Dice: 0.6272777318954468 Current Avg. tumor Dice: 0.686117947101593 Current Avg. lymph Dice: 0.5662738084793091\n"
     ]
    },
    {
     "name": "stderr",
     "output_type": "stream",
     "text": [
      "Training (13931 / 18000 Steps) (loss=0.32187): 100%|██████████| 108/108 [02:07<00:00,  1.18s/it]\n",
      "Validate (13932 / 10 Steps): 100%|██████████| 26/26 [01:06<00:00,  2.57s/it]7<00:42,  1.05s/it]\n",
      "Training (14000 / 18000 Steps) (loss=0.55538):  64%|██████▍   | 69/108 [02:04<13:45, 21.16s/it]"
     ]
    },
    {
     "name": "stdout",
     "output_type": "stream",
     "text": [
      "Model Was Not Saved ! Current Best Avg. Dice: 0.6284632086753845 Current Avg. Dice: 0.6262327432632446 Current Avg. tumor Dice: 0.6918014287948608 Current Avg. lymph Dice: 0.557341992855072\n"
     ]
    },
    {
     "name": "stderr",
     "output_type": "stream",
     "text": [
      "Training (14039 / 18000 Steps) (loss=0.49238): 100%|██████████| 108/108 [02:37<00:00,  1.45s/it]\n",
      "Validate (14040 / 10 Steps): 100%|██████████| 26/26 [00:49<00:00,  1.89s/it]5<00:30,  1.57it/s]\n",
      "Training (14100 / 18000 Steps) (loss=0.36260):  56%|█████▋    | 61/108 [01:34<12:03, 15.39s/it]"
     ]
    },
    {
     "name": "stdout",
     "output_type": "stream",
     "text": [
      "Model Was Not Saved ! Current Best Avg. Dice: 0.6284632086753845 Current Avg. Dice: 0.615597128868103 Current Avg. tumor Dice: 0.6851266622543335 Current Avg. lymph Dice: 0.5419371128082275\n"
     ]
    },
    {
     "name": "stderr",
     "output_type": "stream",
     "text": [
      "Training (14147 / 18000 Steps) (loss=0.38924): 100%|██████████| 108/108 [02:05<00:00,  1.16s/it]\n",
      "Validate (14148 / 10 Steps): 100%|██████████| 26/26 [00:48<00:00,  1.88s/it]0<00:35,  1.56it/s]\n",
      "Training (14200 / 18000 Steps) (loss=0.53017):  49%|████▉     | 53/108 [01:29<14:03, 15.34s/it]"
     ]
    },
    {
     "name": "stdout",
     "output_type": "stream",
     "text": [
      "Model Was Not Saved ! Current Best Avg. Dice: 0.6284632086753845 Current Avg. Dice: 0.613537073135376 Current Avg. tumor Dice: 0.6867270469665527 Current Avg. lymph Dice: 0.5378556847572327\n"
     ]
    },
    {
     "name": "stderr",
     "output_type": "stream",
     "text": [
      "Training (14255 / 18000 Steps) (loss=0.49471): 100%|██████████| 108/108 [02:19<00:00,  1.29s/it]\n",
      "Validate (14256 / 10 Steps): 100%|██████████| 26/26 [00:54<00:00,  2.08s/it]6<01:05,  1.03s/it]\n",
      "Training (14300 / 18000 Steps) (loss=0.52627):  42%|████▏     | 45/108 [01:41<18:24, 17.54s/it]"
     ]
    },
    {
     "name": "stdout",
     "output_type": "stream",
     "text": [
      "Model Was Saved ! Current Best Avg. Dice: 0.6303911209106445 Current Avg. Dice: 0.6303911209106445 Current Avg. tumor Dice: 0.6986697912216187 Current Avg. lymph Dice: 0.5600693821907043\n"
     ]
    },
    {
     "name": "stderr",
     "output_type": "stream",
     "text": [
      "Training (14363 / 18000 Steps) (loss=0.46876): 100%|██████████| 108/108 [02:22<00:00,  1.32s/it]\n",
      "Validate (14364 / 10 Steps): 100%|██████████| 26/26 [00:49<00:00,  1.91s/it]0<00:47,  1.51it/s]\n",
      "Training (14400 / 18000 Steps) (loss=0.42882):  34%|███▍      | 37/108 [01:20<18:22, 15.53s/it]"
     ]
    },
    {
     "name": "stdout",
     "output_type": "stream",
     "text": [
      "Model Was Not Saved ! Current Best Avg. Dice: 0.6303911209106445 Current Avg. Dice: 0.6089067459106445 Current Avg. tumor Dice: 0.6551619172096252 Current Avg. lymph Dice: 0.5622263550758362\n"
     ]
    },
    {
     "name": "stderr",
     "output_type": "stream",
     "text": [
      "Training (14471 / 18000 Steps) (loss=0.38137): 100%|██████████| 108/108 [02:05<00:00,  1.16s/it]\n",
      "Validate (14472 / 10 Steps): 100%|██████████| 26/26 [01:08<00:00,  2.62s/it]2<00:37,  2.11it/s]\n",
      "Training (14500 / 18000 Steps) (loss=0.50462):  27%|██▋       | 29/108 [01:30<27:36, 20.96s/it]"
     ]
    },
    {
     "name": "stdout",
     "output_type": "stream",
     "text": [
      "Model Was Not Saved ! Current Best Avg. Dice: 0.6303911209106445 Current Avg. Dice: 0.6191560626029968 Current Avg. tumor Dice: 0.697407066822052 Current Avg. lymph Dice: 0.5343883037567139\n"
     ]
    },
    {
     "name": "stderr",
     "output_type": "stream",
     "text": [
      "Training (14579 / 18000 Steps) (loss=0.33896): 100%|██████████| 108/108 [02:41<00:00,  1.49s/it]\n",
      "Validate (14580 / 10 Steps): 100%|██████████| 26/26 [00:49<00:00,  1.90s/it]1<00:59,  1.47it/s]\n",
      "Training (14600 / 18000 Steps) (loss=0.42028):  19%|█▉        | 21/108 [01:11<22:30, 15.53s/it]"
     ]
    },
    {
     "name": "stdout",
     "output_type": "stream",
     "text": [
      "Model Was Not Saved ! Current Best Avg. Dice: 0.6303911209106445 Current Avg. Dice: 0.6029581427574158 Current Avg. tumor Dice: 0.6799184083938599 Current Avg. lymph Dice: 0.5197710394859314\n"
     ]
    },
    {
     "name": "stderr",
     "output_type": "stream",
     "text": [
      "Training (14687 / 18000 Steps) (loss=0.44672): 100%|██████████| 108/108 [02:05<00:00,  1.17s/it]\n",
      "Validate (14688 / 10 Steps): 100%|██████████| 26/26 [00:42<00:00,  1.64s/it]5<01:14,  1.28it/s]\n",
      "Training (14700 / 18000 Steps) (loss=0.38616):  12%|█▏        | 13/108 [00:57<21:34, 13.63s/it]"
     ]
    },
    {
     "name": "stdout",
     "output_type": "stream",
     "text": [
      "Model Was Not Saved ! Current Best Avg. Dice: 0.6303911209106445 Current Avg. Dice: 0.617351233959198 Current Avg. tumor Dice: 0.6911928057670593 Current Avg. lymph Dice: 0.5415496230125427\n"
     ]
    },
    {
     "name": "stderr",
     "output_type": "stream",
     "text": [
      "Training (14795 / 18000 Steps) (loss=0.29962): 100%|██████████| 108/108 [02:21<00:00,  1.31s/it]\n",
      "Validate (14796 / 10 Steps): 100%|██████████| 26/26 [01:01<00:00,  2.38s/it]<03:31,  2.04s/it]\n",
      "Training (14800 / 18000 Steps) (loss=0.38819):   5%|▍         | 5/108 [01:14<41:34, 24.21s/it]"
     ]
    },
    {
     "name": "stdout",
     "output_type": "stream",
     "text": [
      "Model Was Saved ! Current Best Avg. Dice: 0.6376742720603943 Current Avg. Dice: 0.6376742720603943 Current Avg. tumor Dice: 0.6977314949035645 Current Avg. lymph Dice: 0.5759016871452332\n"
     ]
    },
    {
     "name": "stderr",
     "output_type": "stream",
     "text": [
      "Validate (14796 / 10 Steps): 100%|██████████| 26/26 [00:45<00:00,  1.75s/it]17<00:02,  1.49it/s]\n",
      "Training (14900 / 18000 Steps) (loss=0.55344):  97%|█████████▋| 105/108 [03:03<00:42, 14.33s/it]"
     ]
    },
    {
     "name": "stdout",
     "output_type": "stream",
     "text": [
      "Model Was Not Saved ! Current Best Avg. Dice: 0.6376742720603943 Current Avg. Dice: 0.6301363110542297 Current Avg. tumor Dice: 0.6983103156089783 Current Avg. lymph Dice: 0.5584899187088013\n"
     ]
    },
    {
     "name": "stderr",
     "output_type": "stream",
     "text": [
      "Training (14903 / 18000 Steps) (loss=0.43389): 100%|██████████| 108/108 [03:05<00:00,  1.72s/it]\n",
      "Validate (14904 / 10 Steps): 100%|██████████| 26/26 [00:58<00:00,  2.23s/it]4<00:08,  1.46it/s]\n",
      "Training (15000 / 18000 Steps) (loss=0.46303):  90%|████████▉ | 97/108 [02:02<03:18, 18.05s/it]"
     ]
    },
    {
     "name": "stdout",
     "output_type": "stream",
     "text": [
      "Model Was Not Saved ! Current Best Avg. Dice: 0.6376742720603943 Current Avg. Dice: 0.6116023659706116 Current Avg. tumor Dice: 0.6818745732307434 Current Avg. lymph Dice: 0.5325491428375244\n"
     ]
    },
    {
     "name": "stderr",
     "output_type": "stream",
     "text": [
      "Training (15011 / 18000 Steps) (loss=0.38500): 100%|██████████| 108/108 [02:13<00:00,  1.24s/it]\n",
      "Validate (15012 / 10 Steps): 100%|██████████| 26/26 [00:44<00:00,  1.71s/it]3<00:11,  1.80it/s]\n",
      "Training (15100 / 18000 Steps) (loss=0.47892):  82%|████████▏ | 89/108 [02:07<04:25, 13.96s/it]"
     ]
    },
    {
     "name": "stdout",
     "output_type": "stream",
     "text": [
      "Model Was Not Saved ! Current Best Avg. Dice: 0.6376742720603943 Current Avg. Dice: 0.6345469355583191 Current Avg. tumor Dice: 0.7035048007965088 Current Avg. lymph Dice: 0.5615711212158203\n"
     ]
    },
    {
     "name": "stderr",
     "output_type": "stream",
     "text": [
      "Training (15119 / 18000 Steps) (loss=0.36495): 100%|██████████| 108/108 [02:18<00:00,  1.28s/it]\n",
      "Validate (15120 / 10 Steps): 100%|██████████| 26/26 [00:45<00:00,  1.76s/it]8<00:15,  1.79it/s]\n",
      "Training (15200 / 18000 Steps) (loss=0.57281):  75%|███████▌  | 81/108 [01:34<06:26, 14.33s/it]"
     ]
    },
    {
     "name": "stdout",
     "output_type": "stream",
     "text": [
      "Model Was Not Saved ! Current Best Avg. Dice: 0.6376742720603943 Current Avg. Dice: 0.621467649936676 Current Avg. tumor Dice: 0.686696469783783 Current Avg. lymph Dice: 0.5524209141731262\n"
     ]
    },
    {
     "name": "stderr",
     "output_type": "stream",
     "text": [
      "Training (15227 / 18000 Steps) (loss=0.46435): 100%|██████████| 108/108 [01:50<00:00,  1.02s/it]\n",
      "Validate (15228 / 10 Steps): 100%|██████████| 26/26 [01:08<00:00,  2.65s/it]7<00:20,  1.79it/s]\n",
      "Training (15300 / 18000 Steps) (loss=0.55371):  68%|██████▊   | 73/108 [01:56<12:22, 21.22s/it]"
     ]
    },
    {
     "name": "stdout",
     "output_type": "stream",
     "text": [
      "Model Was Not Saved ! Current Best Avg. Dice: 0.6376742720603943 Current Avg. Dice: 0.628535270690918 Current Avg. tumor Dice: 0.699757993221283 Current Avg. lymph Dice: 0.5535688400268555\n"
     ]
    },
    {
     "name": "stderr",
     "output_type": "stream",
     "text": [
      "Training (15335 / 18000 Steps) (loss=0.35909): 100%|██████████| 108/108 [02:30<00:00,  1.39s/it]\n",
      "Validate (15336 / 10 Steps): 100%|██████████| 26/26 [00:42<00:00,  1.65s/it]0<00:21,  2.06it/s]\n",
      "Training (15400 / 18000 Steps) (loss=0.51339):  60%|██████    | 65/108 [01:23<09:34, 13.36s/it]"
     ]
    },
    {
     "name": "stdout",
     "output_type": "stream",
     "text": [
      "Model Was Not Saved ! Current Best Avg. Dice: 0.6376742720603943 Current Avg. Dice: 0.5983713865280151 Current Avg. tumor Dice: 0.6801111102104187 Current Avg. lymph Dice: 0.5090333223342896\n"
     ]
    },
    {
     "name": "stderr",
     "output_type": "stream",
     "text": [
      "Training (15443 / 18000 Steps) (loss=0.40193): 100%|██████████| 108/108 [01:48<00:00,  1.00s/it]\n",
      "Validate (15444 / 10 Steps): 100%|██████████| 26/26 [00:51<00:00,  1.97s/it]0<00:28,  1.81it/s]\n",
      "Training (15500 / 18000 Steps) (loss=0.23430):  53%|█████▎    | 57/108 [01:31<13:33, 15.94s/it]"
     ]
    },
    {
     "name": "stdout",
     "output_type": "stream",
     "text": [
      "Model Was Not Saved ! Current Best Avg. Dice: 0.6376742720603943 Current Avg. Dice: 0.6308441162109375 Current Avg. tumor Dice: 0.6932249665260315 Current Avg. lymph Dice: 0.5671359896659851\n"
     ]
    },
    {
     "name": "stderr",
     "output_type": "stream",
     "text": [
      "Training (15551 / 18000 Steps) (loss=0.53302): 100%|██████████| 108/108 [02:04<00:00,  1.16s/it]\n",
      "Validate (15552 / 10 Steps): 100%|██████████| 26/26 [00:59<00:00,  2.30s/it]5<01:05,  1.09s/it]\n",
      "Training (15600 / 18000 Steps) (loss=0.58641):  45%|████▌     | 49/108 [01:55<18:41, 19.00s/it]"
     ]
    },
    {
     "name": "stdout",
     "output_type": "stream",
     "text": [
      "Model Was Not Saved ! Current Best Avg. Dice: 0.6376742720603943 Current Avg. Dice: 0.6269421577453613 Current Avg. tumor Dice: 0.6874786019325256 Current Avg. lymph Dice: 0.5661359429359436\n"
     ]
    },
    {
     "name": "stderr",
     "output_type": "stream",
     "text": [
      "Training (15659 / 18000 Steps) (loss=0.39148): 100%|██████████| 108/108 [02:34<00:00,  1.43s/it]\n",
      "Validate (15660 / 10 Steps): 100%|██████████| 26/26 [00:50<00:00,  1.92s/it]2<00:44,  1.54it/s]\n",
      "Training (15700 / 18000 Steps) (loss=0.38620):  38%|███▊      | 41/108 [01:22<17:30, 15.68s/it]"
     ]
    },
    {
     "name": "stdout",
     "output_type": "stream",
     "text": [
      "Model Was Not Saved ! Current Best Avg. Dice: 0.6376742720603943 Current Avg. Dice: 0.619723379611969 Current Avg. tumor Dice: 0.6851533651351929 Current Avg. lymph Dice: 0.5536410808563232\n"
     ]
    },
    {
     "name": "stderr",
     "output_type": "stream",
     "text": [
      "Training (15767 / 18000 Steps) (loss=0.37188): 100%|██████████| 108/108 [02:07<00:00,  1.18s/it]\n",
      "Validate (15768 / 10 Steps): 100%|██████████| 26/26 [00:59<00:00,  2.28s/it]7<00:48,  1.57it/s]\n",
      "Training (15800 / 18000 Steps) (loss=0.38428):  31%|███       | 33/108 [01:27<23:20, 18.67s/it]"
     ]
    },
    {
     "name": "stdout",
     "output_type": "stream",
     "text": [
      "Model Was Saved ! Current Best Avg. Dice: 0.6399974226951599 Current Avg. Dice: 0.6399974226951599 Current Avg. tumor Dice: 0.6973293423652649 Current Avg. lymph Dice: 0.5808863639831543\n"
     ]
    },
    {
     "name": "stderr",
     "output_type": "stream",
     "text": [
      "Training (15875 / 18000 Steps) (loss=0.39868): 100%|██████████| 108/108 [02:36<00:00,  1.45s/it]\n",
      "Validate (15876 / 10 Steps): 100%|██████████| 26/26 [00:49<00:00,  1.91s/it]5<00:55,  1.51it/s]\n",
      "Training (15900 / 18000 Steps) (loss=0.32408):  23%|██▎       | 25/108 [01:15<21:33, 15.58s/it]"
     ]
    },
    {
     "name": "stdout",
     "output_type": "stream",
     "text": [
      "Model Was Not Saved ! Current Best Avg. Dice: 0.6399974226951599 Current Avg. Dice: 0.6278034448623657 Current Avg. tumor Dice: 0.6865783929824829 Current Avg. lymph Dice: 0.5679832696914673\n"
     ]
    },
    {
     "name": "stderr",
     "output_type": "stream",
     "text": [
      "Training (15983 / 18000 Steps) (loss=0.54116): 100%|██████████| 108/108 [02:08<00:00,  1.19s/it]\n",
      "Validate (15984 / 10 Steps): 100%|██████████| 26/26 [00:48<00:00,  1.87s/it]6<01:02,  1.48it/s]\n",
      "Training (16000 / 18000 Steps) (loss=0.29501):  16%|█▌        | 17/108 [01:05<23:10, 15.28s/it]"
     ]
    },
    {
     "name": "stdout",
     "output_type": "stream",
     "text": [
      "Model Was Not Saved ! Current Best Avg. Dice: 0.6399974226951599 Current Avg. Dice: 0.6247490644454956 Current Avg. tumor Dice: 0.6868389844894409 Current Avg. lymph Dice: 0.5610744953155518\n"
     ]
    },
    {
     "name": "stderr",
     "output_type": "stream",
     "text": [
      "Training (16091 / 18000 Steps) (loss=0.34446): 100%|██████████| 108/108 [01:57<00:00,  1.09s/it]\n",
      "Validate (16092 / 10 Steps): 100%|██████████| 26/26 [01:12<00:00,  2.81s/it]<01:52,  1.12s/it]\n",
      "Training (16100 / 18000 Steps) (loss=0.43806):   8%|▊         | 9/108 [01:28<39:24, 23.88s/it]"
     ]
    },
    {
     "name": "stdout",
     "output_type": "stream",
     "text": [
      "Model Was Not Saved ! Current Best Avg. Dice: 0.6399974226951599 Current Avg. Dice: 0.6294810175895691 Current Avg. tumor Dice: 0.6866055130958557 Current Avg. lymph Dice: 0.5742634534835815\n"
     ]
    },
    {
     "name": "stderr",
     "output_type": "stream",
     "text": [
      "Training (16199 / 18000 Steps) (loss=0.46856): 100%|██████████| 108/108 [02:41<00:00,  1.50s/it]\n",
      "Validate (16200 / 10 Steps): 100%|██████████| 26/26 [00:49<00:00,  1.89s/it]<?, ?it/s]\n",
      "Training (16200 / 18000 Steps) (loss=0.27614):   1%|          | 1/108 [00:55<1:38:29, 55.23s/it]"
     ]
    },
    {
     "name": "stdout",
     "output_type": "stream",
     "text": [
      "Model Was Not Saved ! Current Best Avg. Dice: 0.6399974226951599 Current Avg. Dice: 0.6308729648590088 Current Avg. tumor Dice: 0.6885817050933838 Current Avg. lymph Dice: 0.5742151737213135\n"
     ]
    },
    {
     "name": "stderr",
     "output_type": "stream",
     "text": [
      "Validate (16200 / 10 Steps): 100%|██████████| 26/26 [00:44<00:00,  1.73s/it]55<00:04,  1.78it/s]\n",
      "Training (16300 / 18000 Steps) (loss=0.31016):  94%|█████████▎| 101/108 [02:40<01:38, 14.05s/it]"
     ]
    },
    {
     "name": "stdout",
     "output_type": "stream",
     "text": [
      "Model Was Not Saved ! Current Best Avg. Dice: 0.6399974226951599 Current Avg. Dice: 0.6204496026039124 Current Avg. tumor Dice: 0.6737022399902344 Current Avg. lymph Dice: 0.5684904456138611\n"
     ]
    },
    {
     "name": "stderr",
     "output_type": "stream",
     "text": [
      "Training (16307 / 18000 Steps) (loss=0.47734): 100%|██████████| 108/108 [02:45<00:00,  1.53s/it]\n",
      "Validate (16308 / 10 Steps): 100%|██████████| 26/26 [01:05<00:00,  2.52s/it]8<00:16,  1.03s/it]\n",
      "Training (16400 / 18000 Steps) (loss=0.52382):  86%|████████▌ | 93/108 [02:34<05:10, 20.68s/it]"
     ]
    },
    {
     "name": "stdout",
     "output_type": "stream",
     "text": [
      "Model Was Not Saved ! Current Best Avg. Dice: 0.6399974226951599 Current Avg. Dice: 0.6266496777534485 Current Avg. tumor Dice: 0.6860464215278625 Current Avg. lymph Dice: 0.5680167078971863\n"
     ]
    },
    {
     "name": "stderr",
     "output_type": "stream",
     "text": [
      "Training (16415 / 18000 Steps) (loss=0.31761): 100%|██████████| 108/108 [02:44<00:00,  1.52s/it]\n",
      "Validate (16416 / 10 Steps): 100%|██████████| 26/26 [00:45<00:00,  1.74s/it]1<00:15,  1.51it/s]\n",
      "Training (16500 / 18000 Steps) (loss=0.19326):  79%|███████▊  | 85/108 [01:46<05:27, 14.25s/it]"
     ]
    },
    {
     "name": "stdout",
     "output_type": "stream",
     "text": [
      "Model Was Not Saved ! Current Best Avg. Dice: 0.6399974226951599 Current Avg. Dice: 0.6178380846977234 Current Avg. tumor Dice: 0.6732137799263 Current Avg. lymph Dice: 0.5678004622459412\n"
     ]
    },
    {
     "name": "stderr",
     "output_type": "stream",
     "text": [
      "Training (16523 / 18000 Steps) (loss=0.50065): 100%|██████████| 108/108 [01:59<00:00,  1.10s/it]\n",
      "Validate (16524 / 10 Steps): 100%|██████████| 26/26 [00:54<00:00,  2.11s/it]4<00:20,  1.53it/s]\n",
      "Training (16600 / 18000 Steps) (loss=0.34872):  71%|███████▏  | 77/108 [01:49<08:52, 17.17s/it]"
     ]
    },
    {
     "name": "stdout",
     "output_type": "stream",
     "text": [
      "Model Was Not Saved ! Current Best Avg. Dice: 0.6399974226951599 Current Avg. Dice: 0.6099613308906555 Current Avg. tumor Dice: 0.656528115272522 Current Avg. lymph Dice: 0.5648862719535828\n"
     ]
    },
    {
     "name": "stderr",
     "output_type": "stream",
     "text": [
      "Training (16631 / 18000 Steps) (loss=0.28776): 100%|██████████| 108/108 [02:19<00:00,  1.30s/it]\n",
      "Validate (16632 / 10 Steps): 100%|██████████| 26/26 [00:50<00:00,  1.94s/it]2<00:40,  1.01s/it]\n",
      "Training (16700 / 18000 Steps) (loss=0.25780):  64%|██████▍   | 69/108 [02:03<10:28, 16.11s/it]"
     ]
    },
    {
     "name": "stdout",
     "output_type": "stream",
     "text": [
      "Model Was Not Saved ! Current Best Avg. Dice: 0.6399974226951599 Current Avg. Dice: 0.6187059283256531 Current Avg. tumor Dice: 0.6780710220336914 Current Avg. lymph Dice: 0.5597304701805115\n"
     ]
    },
    {
     "name": "stderr",
     "output_type": "stream",
     "text": [
      "Training (16739 / 18000 Steps) (loss=0.48841): 100%|██████████| 108/108 [02:24<00:00,  1.34s/it]\n",
      "Validate (16740 / 10 Steps): 100%|██████████| 26/26 [00:50<00:00,  1.96s/it]4<00:31,  1.51it/s]\n",
      "Training (16800 / 18000 Steps) (loss=0.33790):  56%|█████▋    | 61/108 [01:35<12:28, 15.93s/it]"
     ]
    },
    {
     "name": "stdout",
     "output_type": "stream",
     "text": [
      "Model Was Not Saved ! Current Best Avg. Dice: 0.6399974226951599 Current Avg. Dice: 0.6337341666221619 Current Avg. tumor Dice: 0.6930912733078003 Current Avg. lymph Dice: 0.5729772448539734\n"
     ]
    },
    {
     "name": "stderr",
     "output_type": "stream",
     "text": [
      "Training (16847 / 18000 Steps) (loss=0.41452): 100%|██████████| 108/108 [02:04<00:00,  1.15s/it]\n",
      "Validate (16848 / 10 Steps): 100%|██████████| 26/26 [01:01<00:00,  2.36s/it]3<00:38,  1.47it/s]\n",
      "Training (16900 / 18000 Steps) (loss=0.25236):  49%|████▉     | 53/108 [01:45<17:28, 19.06s/it]"
     ]
    },
    {
     "name": "stdout",
     "output_type": "stream",
     "text": [
      "Model Was Not Saved ! Current Best Avg. Dice: 0.6399974226951599 Current Avg. Dice: 0.6245712041854858 Current Avg. tumor Dice: 0.684784471988678 Current Avg. lymph Dice: 0.5623345971107483\n"
     ]
    },
    {
     "name": "stderr",
     "output_type": "stream",
     "text": [
      "Training (16955 / 18000 Steps) (loss=0.37068): 100%|██████████| 108/108 [02:12<00:00,  1.22s/it]\n",
      "Validate (16956 / 10 Steps): 100%|██████████| 26/26 [00:40<00:00,  1.56s/it]0<00:32,  1.97it/s]\n",
      "Training (17000 / 18000 Steps) (loss=0.47442):  42%|████▏     | 45/108 [01:10<13:19, 12.69s/it]"
     ]
    },
    {
     "name": "stdout",
     "output_type": "stream",
     "text": [
      "Model Was Not Saved ! Current Best Avg. Dice: 0.6399974226951599 Current Avg. Dice: 0.6343174576759338 Current Avg. tumor Dice: 0.6964412927627563 Current Avg. lymph Dice: 0.5713732242584229\n"
     ]
    },
    {
     "name": "stderr",
     "output_type": "stream",
     "text": [
      "Training (17063 / 18000 Steps) (loss=0.36033): 100%|██████████| 108/108 [01:43<00:00,  1.04it/s]\n",
      "Validate (17064 / 10 Steps): 100%|██████████| 26/26 [00:41<00:00,  1.61s/it]7<00:36,  1.95it/s]\n",
      "Training (17100 / 18000 Steps) (loss=0.38179):  34%|███▍      | 37/108 [01:09<15:27, 13.07s/it]"
     ]
    },
    {
     "name": "stdout",
     "output_type": "stream",
     "text": [
      "Model Was Not Saved ! Current Best Avg. Dice: 0.6399974226951599 Current Avg. Dice: 0.62637859582901 Current Avg. tumor Dice: 0.6832169890403748 Current Avg. lymph Dice: 0.5705814957618713\n"
     ]
    },
    {
     "name": "stderr",
     "output_type": "stream",
     "text": [
      "Training (17171 / 18000 Steps) (loss=0.26491): 100%|██████████| 108/108 [01:45<00:00,  1.03it/s]\n",
      "Validate (17172 / 10 Steps): 100%|██████████| 26/26 [00:39<00:00,  1.51s/it]2<00:42,  1.90it/s]\n",
      "Training (17200 / 18000 Steps) (loss=0.37935):  27%|██▋       | 29/108 [01:01<16:11, 12.30s/it]"
     ]
    },
    {
     "name": "stdout",
     "output_type": "stream",
     "text": [
      "Model Was Not Saved ! Current Best Avg. Dice: 0.6399974226951599 Current Avg. Dice: 0.6275060176849365 Current Avg. tumor Dice: 0.6914141178131104 Current Avg. lymph Dice: 0.5636577010154724\n"
     ]
    },
    {
     "name": "stderr",
     "output_type": "stream",
     "text": [
      "Training (17279 / 18000 Steps) (loss=0.48185): 100%|██████████| 108/108 [01:42<00:00,  1.06it/s]\n",
      "Validate (17280 / 10 Steps): 100%|██████████| 26/26 [00:42<00:00,  1.62s/it]8<00:45,  1.93it/s]\n",
      "Training (17300 / 18000 Steps) (loss=0.49465):  19%|█▉        | 21/108 [01:00<19:06, 13.18s/it]"
     ]
    },
    {
     "name": "stdout",
     "output_type": "stream",
     "text": [
      "Model Was Not Saved ! Current Best Avg. Dice: 0.6399974226951599 Current Avg. Dice: 0.6187332272529602 Current Avg. tumor Dice: 0.6801162362098694 Current Avg. lymph Dice: 0.5571830868721008\n"
     ]
    },
    {
     "name": "stderr",
     "output_type": "stream",
     "text": [
      "Training (17387 / 18000 Steps) (loss=0.32687): 100%|██████████| 108/108 [01:43<00:00,  1.04it/s]\n",
      "Validate (17388 / 10 Steps): 100%|██████████| 26/26 [00:40<00:00,  1.57s/it]4<00:54,  1.78it/s]\n",
      "Training (17400 / 18000 Steps) (loss=0.40859):  12%|█▏        | 13/108 [00:55<20:27, 12.93s/it]"
     ]
    },
    {
     "name": "stdout",
     "output_type": "stream",
     "text": [
      "Model Was Not Saved ! Current Best Avg. Dice: 0.6399974226951599 Current Avg. Dice: 0.62205570936203 Current Avg. tumor Dice: 0.6788573265075684 Current Avg. lymph Dice: 0.5657796263694763\n"
     ]
    },
    {
     "name": "stderr",
     "output_type": "stream",
     "text": [
      "Training (17495 / 18000 Steps) (loss=0.38468): 100%|██████████| 108/108 [01:43<00:00,  1.04it/s]\n",
      "Validate (17496 / 10 Steps): 100%|██████████| 26/26 [00:40<00:00,  1.57s/it]<02:38,  1.52s/it]\n",
      "Training (17500 / 18000 Steps) (loss=0.32327):   5%|▍         | 5/108 [00:50<27:18, 15.91s/it]"
     ]
    },
    {
     "name": "stdout",
     "output_type": "stream",
     "text": [
      "Model Was Not Saved ! Current Best Avg. Dice: 0.6399974226951599 Current Avg. Dice: 0.6318514943122864 Current Avg. tumor Dice: 0.6932748556137085 Current Avg. lymph Dice: 0.571759819984436\n"
     ]
    },
    {
     "name": "stderr",
     "output_type": "stream",
     "text": [
      "Validate (17496 / 10 Steps): 100%|██████████| 26/26 [00:42<00:00,  1.62s/it]41<00:01,  2.18it/s]\n",
      "Training (17600 / 18000 Steps) (loss=0.31870):  97%|█████████▋| 105/108 [02:23<00:39, 13.09s/it]"
     ]
    },
    {
     "name": "stdout",
     "output_type": "stream",
     "text": [
      "Model Was Not Saved ! Current Best Avg. Dice: 0.6399974226951599 Current Avg. Dice: 0.6047713756561279 Current Avg. tumor Dice: 0.6752542853355408 Current Avg. lymph Dice: 0.5303718447685242\n"
     ]
    },
    {
     "name": "stderr",
     "output_type": "stream",
     "text": [
      "Training (17603 / 18000 Steps) (loss=0.40203): 100%|██████████| 108/108 [02:25<00:00,  1.35s/it]\n",
      "Validate (17604 / 10 Steps): 100%|██████████| 26/26 [00:40<00:00,  1.55s/it]8<00:06,  1.91it/s]\n",
      "Training (17700 / 18000 Steps) (loss=0.28614):  90%|████████▉ | 97/108 [01:38<02:20, 12.75s/it]"
     ]
    },
    {
     "name": "stdout",
     "output_type": "stream",
     "text": [
      "Model Was Not Saved ! Current Best Avg. Dice: 0.6399974226951599 Current Avg. Dice: 0.6008140444755554 Current Avg. tumor Dice: 0.6620359420776367 Current Avg. lymph Dice: 0.5381168127059937\n"
     ]
    },
    {
     "name": "stderr",
     "output_type": "stream",
     "text": [
      "Training (17711 / 18000 Steps) (loss=0.51102): 100%|██████████| 108/108 [01:44<00:00,  1.03it/s]\n",
      "Validate (17712 / 10 Steps): 100%|██████████| 26/26 [00:37<00:00,  1.43s/it]2<00:09,  2.13it/s]\n",
      "Training (17800 / 18000 Steps) (loss=0.28993):  82%|████████▏ | 89/108 [01:30<03:43, 11.76s/it]"
     ]
    },
    {
     "name": "stdout",
     "output_type": "stream",
     "text": [
      "Model Was Not Saved ! Current Best Avg. Dice: 0.6399974226951599 Current Avg. Dice: 0.6283513903617859 Current Avg. tumor Dice: 0.6895725727081299 Current Avg. lymph Dice: 0.5663177371025085\n"
     ]
    },
    {
     "name": "stderr",
     "output_type": "stream",
     "text": [
      "Training (17819 / 18000 Steps) (loss=0.44235): 100%|██████████| 108/108 [01:38<00:00,  1.09it/s]\n",
      "Validate (17820 / 10 Steps): 100%|██████████| 26/26 [00:37<00:00,  1.43s/it]1<00:14,  1.87it/s]\n",
      "Training (17900 / 18000 Steps) (loss=0.49807):  75%|███████▌  | 81/108 [01:28<05:14, 11.66s/it]"
     ]
    },
    {
     "name": "stdout",
     "output_type": "stream",
     "text": [
      "Model Was Not Saved ! Current Best Avg. Dice: 0.6399974226951599 Current Avg. Dice: 0.6268396377563477 Current Avg. tumor Dice: 0.6821495294570923 Current Avg. lymph Dice: 0.571020781993866\n"
     ]
    },
    {
     "name": "stderr",
     "output_type": "stream",
     "text": [
      "Training (17927 / 18000 Steps) (loss=0.37213): 100%|██████████| 108/108 [01:40<00:00,  1.08it/s]\n",
      "Validate (17928 / 10 Steps): 100%|██████████| 26/26 [00:36<00:00,  1.41s/it]4<00:16,  2.14it/s]\n",
      "Training (18000 / 18000 Steps) (loss=0.46513):  68%|██████▊   | 73/108 [01:21<06:46, 11.60s/it]"
     ]
    },
    {
     "name": "stdout",
     "output_type": "stream",
     "text": [
      "Model Was Not Saved ! Current Best Avg. Dice: 0.6399974226951599 Current Avg. Dice: 0.6251382827758789 Current Avg. tumor Dice: 0.6753211617469788 Current Avg. lymph Dice: 0.5747661590576172\n"
     ]
    },
    {
     "name": "stderr",
     "output_type": "stream",
     "text": [
      "Training (18035 / 18000 Steps) (loss=0.34503): 100%|██████████| 108/108 [01:36<00:00,  1.11it/s]\n"
     ]
    }
   ],
   "source": [
    "model_dir = '/home/nada.saadi/CTPET/hecktor2022_cropped/3centersctptRAND'\n",
    "\n",
    "def validation(epoch_iterator_val):\n",
    "        new_model.eval()\n",
    "        with torch.no_grad():\n",
    "            for step, batch in enumerate(epoch_iterator_val):\n",
    "                val_inputs, val_labels = (batch[\"ctpt\"].cuda(), batch[\"seg\"].cuda())\n",
    "                val_outputs = sliding_window_inference(val_inputs, (96, 96, 96), 4, new_model)\n",
    "                val_labels_list = decollate_batch(val_labels)\n",
    "                val_labels_convert = [\n",
    "                    post_label(val_label_tensor) for val_label_tensor in val_labels_list\n",
    "                ]\n",
    "                val_outputs_list = decollate_batch(val_outputs)\n",
    "                val_output_convert = [\n",
    "                    post_pred(val_pred_tensor) for val_pred_tensor in val_outputs_list\n",
    "                ]\n",
    "                dice_metric(y_pred=val_output_convert, y=val_labels_convert)\n",
    "                dice_metric_batch(y_pred=val_output_convert, y=val_labels_convert)\n",
    "                epoch_iterator_val.set_description(\n",
    "                    \"Validate (%d / %d Steps)\" % (global_step, 10.0)\n",
    "                )\n",
    "            mean_dice_val = dice_metric.aggregate().item()\n",
    "            metric_batch_val = dice_metric_batch.aggregate()\n",
    "\n",
    "            metric_tumor = metric_batch_val[0].item()\n",
    "            metric_lymph = metric_batch_val[1].item()\n",
    "\n",
    "            dice_metric.reset()\n",
    "            dice_metric_batch.reset()\n",
    "        return mean_dice_val, metric_tumor, metric_lymph\n",
    "\n",
    "\n",
    "def train(global_step, train_loader, dice_val_best, global_step_best):\n",
    "        new_model.train()\n",
    "        epoch_loss = 0\n",
    "        step = 0\n",
    "        epoch_iterator = tqdm(\n",
    "            train_loader, desc=\"Training (X / X Steps) (loss=X.X)\", dynamic_ncols=True\n",
    "        )\n",
    "        \n",
    "        for step, batch in enumerate(epoch_iterator):\n",
    "            step += 1\n",
    "            x, y = (batch[\"ctpt\"].cuda(), batch[\"seg\"].cuda())\n",
    "            logit_map = new_model(x)\n",
    "            loss = loss_function(logit_map, y)\n",
    "            loss.backward()\n",
    "            epoch_loss += loss.item()\n",
    "            optimizer.step()\n",
    "            optimizer.zero_grad()\n",
    "            epoch_iterator.set_description(\n",
    "                \"Training (%d / %d Steps) (loss=%2.5f)\"\n",
    "                % (global_step, max_iterations, loss)\n",
    "            )\n",
    "            \n",
    "            if (\n",
    "                global_step % eval_num == 0 and global_step != 0\n",
    "            ) or global_step == max_iterations:\n",
    "                epoch_iterator_val = tqdm(\n",
    "                    val_loader, desc=\"Validate (X / X Steps) (dice=X.X)\", dynamic_ncols=True\n",
    "                )\n",
    "                dice_val, metric_tumor, metric_lymph = validation(epoch_iterator_val)\n",
    "                epoch_loss /= step\n",
    "                epoch_loss_values.append(epoch_loss)\n",
    "                metric_values.append(dice_val)\n",
    "                metric_values_tumor.append(metric_tumor)\n",
    "                metric_values_lymph.append(metric_lymph)\n",
    "                if dice_val > dice_val_best:\n",
    "                    dice_val_best = dice_val\n",
    "                    global_step_best = global_step\n",
    "                    torch.save(\n",
    "                        new_model.state_dict(), os.path.join(model_dir, \"3centersctptRAND.pth\")\n",
    "                    )\n",
    "                    print(\n",
    "                        \"Model Was Saved ! Current Best Avg. Dice: {} Current Avg. Dice: {} Current Avg. tumor Dice: {} Current Avg. lymph Dice: {}\".format(\n",
    "                            dice_val_best, dice_val, metric_tumor, metric_lymph\n",
    "                        )\n",
    "                    )\n",
    "                else:\n",
    "                    print(\n",
    "                        \"Model Was Not Saved ! Current Best Avg. Dice: {} Current Avg. Dice: {} Current Avg. tumor Dice: {} Current Avg. lymph Dice: {}\".format(\n",
    "                            dice_val_best, dice_val,  metric_tumor, metric_lymph\n",
    "                        )\n",
    "                    )\n",
    "            global_step += 1\n",
    "        return global_step, dice_val_best, global_step_best\n",
    "\n",
    "       \n",
    "\n",
    "max_iterations = 18000\n",
    "eval_num = 100\n",
    "\n",
    "post_label = AsDiscrete(to_onehot=3)\n",
    "post_pred = AsDiscrete(argmax=True, to_onehot=3)\n",
    "\n",
    "dice_metric = DiceMetric(include_background=False, reduction=\"mean\", get_not_nans=False)\n",
    "dice_metric_batch = DiceMetric(include_background=False, reduction=\"mean_batch\")\n",
    "\n",
    "epoch = 0\n",
    "max_num_epochs = 530\n",
    "\n",
    "global_step = 0\n",
    "dice_val_best = 0.0\n",
    "global_step_best = 0\n",
    "epoch_loss_values = []\n",
    "metric_values = []\n",
    "metric_values_tumor = []\n",
    "metric_values_lymph = []\n",
    "while global_step < max_iterations:\n",
    "    global_step, dice_val_best, global_step_best = train(\n",
    "        global_step, train_loader, dice_val_best, global_step_best\n",
    "    )\n",
    "    # wandb.log({'learning_rate': optimizer.param_groups[0]['lr']})\n",
    "    # wandb.log({'Best Dice': dice_val_best})\n",
    "    epoch += 1 \n",
    "    #optimizer.param_groups[0]['lr'] = poly_lr(epoch, max_num_epochs, 0.005676 , 0.9)\n",
    "# model.load_state_dict(torch.load(os.path.join(model_dir, \"best_metric_luck_UNETr_prompt.pth\")))"
   ]
  }
 ],
 "metadata": {
  "kernelspec": {
   "display_name": "clam",
   "language": "python",
   "name": "python3"
  },
  "language_info": {
   "codemirror_mode": {
    "name": "ipython",
    "version": 3
   },
   "file_extension": ".py",
   "mimetype": "text/x-python",
   "name": "python",
   "nbconvert_exporter": "python",
   "pygments_lexer": "ipython3",
   "version": "3.8.0"
  }
 },
 "nbformat": 4,
 "nbformat_minor": 2
}
