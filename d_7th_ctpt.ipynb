{
 "cells": [
  {
   "cell_type": "code",
   "execution_count": 1,
   "metadata": {},
   "outputs": [
    {
     "data": {
      "text/plain": [
       "1"
      ]
     },
     "execution_count": 1,
     "metadata": {},
     "output_type": "execute_result"
    }
   ],
   "source": [
    "import os\n",
    "os.environ[\"CUDA_DEVICE_ORDER\"] = \"PCI_BUS_ID\"\n",
    "os.environ[\"CUDA_VISIBLE_DEVICES\"] = \"3\" \n",
    "import torch\n",
    "torch.cuda.device_count()"
   ]
  },
  {
   "cell_type": "code",
   "execution_count": 2,
   "metadata": {},
   "outputs": [],
   "source": [
    "import os\n",
    "import shutil\n",
    "import tempfile\n",
    "\n",
    "import matplotlib.pyplot as plt\n",
    "import numpy as np\n",
    "from tqdm import tqdm\n",
    "from glob import glob\n",
    "# import wandb\n",
    "\n",
    "import monai\n",
    "from monai.losses import DiceCELoss, DiceFocalLoss, FocalLoss\n",
    "from monai.inferers import sliding_window_inference\n",
    "from monai import transforms\n",
    "\n",
    "from monai.transforms import (\n",
    "       AsDiscrete,\n",
    "    Compose,\n",
    "    CropForegroundd,\n",
    "    LoadImaged,\n",
    "    Orientationd,\n",
    "    RandFlipd,\n",
    "    RandCropByPosNegLabeld,\n",
    "    RandShiftIntensityd,\n",
    "    ScaleIntensityRanged,\n",
    "    Spacingd,\n",
    "    RandRotate90d,\n",
    "    MapTransform,\n",
    "    ScaleIntensityd,\n",
    "    #AddChanneld,\n",
    "    SpatialPadd,\n",
    "    CenterSpatialCropd,\n",
    "    EnsureChannelFirstd,\n",
    "    ConcatItemsd,\n",
    "    AdjustContrastd, \n",
    "    Rand3DElasticd,\n",
    "    HistogramNormalized,\n",
    "    NormalizeIntensityd,\n",
    "    Invertd,\n",
    "    SaveImage,\n",
    "\n",
    ")\n",
    "\n",
    "from monai.config import print_config\n",
    "from monai.metrics import DiceMetric\n",
    "from monai.networks.nets import SwinUNETR, UNETR, SegResNet\n",
    "from monai.data import (\n",
    "    DataLoader,\n",
    "    CacheDataset,\n",
    "    load_decathlon_datalist,\n",
    "    decollate_batch,\n",
    ")\n",
    "from monai import data\n",
    "\n",
    "\n",
    "from monai.utils import first, set_determinism\n",
    "from sklearn.model_selection import train_test_split\n",
    "import json\n",
    "\n",
    "\n",
    "import torch"
   ]
  },
  {
   "cell_type": "code",
   "execution_count": null,
   "metadata": {},
   "outputs": [],
   "source": []
  },
  {
   "cell_type": "code",
   "execution_count": 3,
   "metadata": {},
   "outputs": [],
   "source": [
    "set_determinism(seed=1024)"
   ]
  },
  {
   "cell_type": "code",
   "execution_count": 4,
   "metadata": {},
   "outputs": [
    {
     "name": "stdout",
     "output_type": "stream",
     "text": [
      "JSON file created at /home/nada.saadi/CTPET/hecktor2022_cropped/HMR_ct_train_new.json\n"
     ]
    }
   ],
   "source": [
    "import os\n",
    "import json\n",
    "import random\n",
    "from glob import glob\n",
    "\n",
    "def generate_paths(patient_id):\n",
    "    base_dir = '/home/nada.saadi/MIS-FM/hecktor2022_cropped/data'\n",
    "    return {\n",
    "        'id': os.path.join(base_dir, patient_id),\n",
    "        'ct': os.path.join(base_dir, patient_id, f\"{patient_id}_ct.nii.gz\"),\n",
    "        'seg': os.path.join(base_dir, patient_id, f\"{patient_id}_gt.nii.gz\")\n",
    "    }\n",
    "\n",
    "# Assign each data entry to a random fold\n",
    "all_data = []\n",
    "num_folds = 5\n",
    "\n",
    "for file_dir in sorted(glob('data/*')):\n",
    "    patient_id = file_dir.split('/')[-1]\n",
    "    # Check if the file belongs to the MDA center\n",
    "    if patient_id.startswith(\"HMR-\"):\n",
    "        entry = generate_paths(patient_id)\n",
    "        entry['fold'] = random.randint(1, num_folds) - 1\n",
    "        all_data.append(entry)\n",
    "\n",
    "# Compile data into a JSON structure\n",
    "data_json = {\"training\": all_data}\n",
    "\n",
    "# Save to JSON file\n",
    "json_file_path = \"/home/nada.saadi/CTPET/hecktor2022_cropped/HMR_ct_train_new.json\"\n",
    "with open(json_file_path, 'w') as f:\n",
    "    json.dump(data_json, f, indent=4)\n",
    "\n",
    "print(f\"JSON file created at {json_file_path}\")"
   ]
  },
  {
   "cell_type": "code",
   "execution_count": 5,
   "metadata": {},
   "outputs": [],
   "source": [
    "data_dir = '/home/nada.saadi/MIS-FM/hecktor2022_cropped'\n",
    "json_dir=\"/home/nada.saadi/CTPET/hecktor2022_cropped/HMR_ct_train_new.json\"\n"
   ]
  },
  {
   "cell_type": "code",
   "execution_count": 6,
   "metadata": {},
   "outputs": [],
   "source": [
    "def datafold_read(datalist, basedir, fold=0, key=\"training\"):\n",
    "    with open(datalist) as f:\n",
    "        json_data = json.load(f)\n",
    "\n",
    "    json_data = json_data[key]\n",
    "\n",
    "    for d in json_data:\n",
    "        for k in d:\n",
    "            if isinstance(d[k], list):\n",
    "                d[k] = [os.path.join(basedir, iv) for iv in d[k]]\n",
    "            elif isinstance(d[k], str):\n",
    "                d[k] = os.path.join(basedir, d[k]) if len(d[k]) > 0 else d[k]\n",
    "\n",
    "    tr = []\n",
    "    val = []\n",
    "    for d in json_data:\n",
    "        if \"fold\" in d and d[\"fold\"] == fold:\n",
    "            val.append(d)\n",
    "        else:\n",
    "            tr.append(d)\n",
    "\n",
    "    return tr, val"
   ]
  },
  {
   "cell_type": "code",
   "execution_count": 7,
   "metadata": {},
   "outputs": [
    {
     "data": {
      "text/plain": [
       "(11, 6)"
      ]
     },
     "execution_count": 7,
     "metadata": {},
     "output_type": "execute_result"
    }
   ],
   "source": [
    "train_files, validation_files = datafold_read(datalist=json_dir, basedir=data_dir, fold=3)\n",
    "len(train_files), len(validation_files)"
   ]
  },
  {
   "cell_type": "code",
   "execution_count": 8,
   "metadata": {},
   "outputs": [],
   "source": [
    "class ClipCT(MapTransform):\n",
    "    \"\"\"\n",
    "    Convert labels to multi channels based on hecktor classes:\n",
    "    label 1 is the tumor\n",
    "    label 2 is the lymph node\n",
    "\n",
    "    \"\"\"\n",
    "\n",
    "    def __call__(self, data):\n",
    "        d = dict(data)\n",
    "        for key in self.keys:\n",
    "            if key == \"ct\":\n",
    "                d[key] = torch.clip(d[key], min=-200, max=200)\n",
    "            # elif key == \"pt\":\n",
    "            #     d[key] = torch.clip(d[key], d[key].min(), 5)\n",
    "        return d\n",
    "\n",
    "class MulPTFM(MapTransform):\n",
    "    \"\"\"\n",
    "    Mult PT and FM \n",
    "\n",
    "    \"\"\"\n",
    "\n",
    "    def __call__(self, data):\n",
    "        d = dict(data)\n",
    "\n",
    "        fm = d[\"ct\"] > 0\n",
    "        d[\"pt\"] = d[\"pt\"] * fm\n",
    "        return d\n",
    "\n",
    "class SelectClass(MapTransform):\n",
    "    \"\"\"\n",
    "    Select the class for which you want to fine tune the model \n",
    "\n",
    "    \"\"\"\n",
    "    # def __init__(self, keys, cls=1):\n",
    "    #     super(self).__init__(keys)\n",
    "    #     self.cls = cls\n",
    "\n",
    "    def __call__(self, data):\n",
    "        d = dict(data)\n",
    "        d[\"seg\"][d[\"seg\"] == 1] = 0\n",
    "        # d[\"seg\"][d[\"seg\"] == 2] = 1\n",
    "        \n",
    "        return d"
   ]
  },
  {
   "cell_type": "code",
   "execution_count": 9,
   "metadata": {},
   "outputs": [],
   "source": [
    "num_samples = 4\n",
    "\n",
    "train_transforms = Compose(\n",
    "    [\n",
    "        LoadImaged(keys=[\"ct\", \"seg\"], ensure_channel_first = True),\n",
    "        SpatialPadd(keys=[\"ct\",  \"seg\"], spatial_size=(200, 200, 310), method='end'),\n",
    "        Orientationd(keys=[\"ct\",  \"seg\"], axcodes=\"PLS\"),\n",
    "        #NormalizeIntensityd(keys=[\"pt\"]),\n",
    "        ClipCT(keys=[\"ct\"]),\n",
    "        ScaleIntensityd(keys=[\"ct\"], minv=0, maxv=1),\n",
    "        #MulPTFM(keys=[\"ct\",\"pt\"]),\n",
    "        #ConcatItemsd(keys=[\"pt\", \"ct\"], name=\"ctpt\"),\n",
    "        #NormalizeIntensityd(keys=[\"ctpt\"], channel_wise=True),\n",
    "        RandCropByPosNegLabeld(\n",
    "            keys=[\"ct\", \"seg\"],\n",
    "            label_key=\"seg\",\n",
    "            spatial_size=(96, 96, 96),\n",
    "            pos=1,\n",
    "            neg=1,\n",
    "            num_samples=num_samples,\n",
    "            image_key=\"ct\",\n",
    "            image_threshold=0,\n",
    "        ),\n",
    "        RandFlipd(\n",
    "             keys=[\"ct\", \"seg\"],\n",
    "            spatial_axis=[0],\n",
    "            prob=0.20,\n",
    "        ),\n",
    "        RandFlipd(\n",
    "            keys=[\"ct\", \"seg\"],\n",
    "            spatial_axis=[1],\n",
    "            prob=0.20,\n",
    "        ),\n",
    "        RandFlipd(\n",
    "            keys=[\"ct\", \"seg\"],\n",
    "            spatial_axis=[2],\n",
    "            prob=0.20,\n",
    "        ),\n",
    "        RandRotate90d(\n",
    "            keys=[\"ct\", \"seg\"],\n",
    "            prob=0.20,\n",
    "            max_k=3,\n",
    "        ),\n",
    "    ]\n",
    ")\n",
    "val_transforms = Compose(\n",
    "    [\n",
    "        LoadImaged(keys=[\"ct\", \"seg\"], ensure_channel_first = True),\n",
    "        SpatialPadd(keys=[\"ct\", \"seg\"], spatial_size=(200, 200, 310), method='end'),\n",
    "        Orientationd(keys=[\"ct\",  \"seg\"], axcodes=\"PLS\"),\n",
    "        #NormalizeIntensityd(keys=[\"pt\"]),\n",
    "        ClipCT(keys=[\"ct\"]),\n",
    "        ScaleIntensityd(keys=[\"ct\"], minv=0, maxv=1),\n",
    "        #MulPTFM(keys=[\"ct\",\"pt\"]),\n",
    "        #ConcatItemsd(keys=[\"pt\", \"ct\"], name=\"ctpt\"),\n",
    "    ]\n",
    ")"
   ]
  },
  {
   "cell_type": "code",
   "execution_count": 10,
   "metadata": {},
   "outputs": [],
   "source": [
    "train_ds = monai.data.Dataset(data=train_files, transform=train_transforms)\n",
    "\n",
    "train_loader = DataLoader(\n",
    "    train_ds,\n",
    "    batch_size=2,\n",
    "    shuffle=True,\n",
    "    num_workers=8,\n",
    "    pin_memory=torch.cuda.is_available(),\n",
    "    )\n",
    "\n",
    "val_ds = monai.data.Dataset(data=validation_files, transform=val_transforms)\n",
    "\n",
    "val_loader = DataLoader(\n",
    "    val_ds, \n",
    "    batch_size=2, \n",
    "    num_workers=8, \n",
    "    shuffle= False)"
   ]
  },
  {
   "cell_type": "code",
   "execution_count": 11,
   "metadata": {},
   "outputs": [
    {
     "name": "stderr",
     "output_type": "stream",
     "text": [
      "/home/nada.saadi/miniconda3/envs/clam/lib/python3.8/site-packages/monai/utils/deprecate_utils.py:221: FutureWarning: monai.networks.nets.unetr UNETR.__init__:pos_embed: Argument `pos_embed` has been deprecated since version 1.2. It will be removed in version 1.4. please use `proj_type` instead.\n",
      "  warn_deprecated(argname, msg, warning_category)\n"
     ]
    }
   ],
   "source": [
    "os.environ[\"CUDA_DEVICE_ORDER\"] = \"PCI_BUS_ID\"\n",
    "device = torch.device(\"cuda\" if torch.cuda.is_available() else \"cpu\")\n",
    "\n",
    "\n",
    "model = UNETR(\n",
    "    in_channels=1,\n",
    "    out_channels=3,\n",
    "    img_size=(96, 96, 96),\n",
    "    feature_size=16, #16\n",
    "    hidden_size= 768, #768,\n",
    "    mlp_dim=3072, #3072,\n",
    "    num_heads=12,\n",
    "    pos_embed=\"perceptron\",\n",
    "    norm_name=\"instance\",\n",
    "    res_block=True,\n",
    "    dropout_rate=0.0,\n",
    ").to(device)\n",
    "\n",
    "d_7th_ctpt='/home/nada.saadi/CTPET/hecktor2022_cropped/7thctptchannels/7thctpt_channels_.pth'\n",
    "#model.load_state_dict(torch.load(c_6th_ctpt))\n",
    "state_dict = torch.load(d_7th_ctpt)\n",
    "model_state_dict = model.state_dict()\n",
    "for name, param in state_dict.items():\n",
    "    if name in model_state_dict:\n",
    "        if param.shape == model_state_dict[name].shape:\n",
    "            model_state_dict[name] = param"
   ]
  },
  {
   "cell_type": "code",
   "execution_count": 12,
   "metadata": {},
   "outputs": [],
   "source": [
    "torch.backends.cudnn.benchmark = True\n",
    "def poly_lr(epoch, max_epochs, initial_lr, exponent=0.9):\n",
    "    return initial_lr * (1 - epoch / max_epochs)**exponent\n",
    "\n",
    "loss_function = DiceCELoss(to_onehot_y=True, softmax=True)\n",
    "optimizer = torch.optim.AdamW(model.parameters(), lr=1e-4, weight_decay=1e-5)"
   ]
  },
  {
   "cell_type": "code",
   "execution_count": 14,
   "metadata": {},
   "outputs": [],
   "source": [
    "def poly_lr(epoch, max_epochs, initial_lr, exponent=0.9):\n",
    "    return initial_lr * (1 - epoch / max_epochs)**exponent\n",
    "\n",
    "model_dir='/home/nada.saadi/CTPET/hecktor2022_cropped/d_7th_ctpt'\n",
    "max_iterations = 18000\n",
    "eval_num = 100\n",
    "\n",
    "## running stats\n",
    "global_step = 0\n",
    "dice_val_best = 0.0\n",
    "global_step_best = 0\n",
    "epoch_loss_values = []\n",
    "metric_values = []\n",
    "metric_values_tumor = []\n",
    "metric_values_lymph = []\n",
    "\n",
    "\n",
    "loss_function = DiceCELoss(to_onehot_y=True, softmax=True)\n",
    "optimizer = torch.optim.AdamW(model.parameters(), lr=1e-4, weight_decay=1e-5)\n",
    "\n",
    "\n",
    "post_label = AsDiscrete(to_onehot=3)\n",
    "post_pred = AsDiscrete(argmax=True, to_onehot=3)\n",
    "\n",
    "dice_metric = DiceMetric(include_background=False, reduction=\"mean\", get_not_nans=False)\n",
    "dice_metric_batch = DiceMetric(include_background=False, reduction=\"mean_batch\")\n",
    "\n",
    "\n",
    "##-----------------------------------------------------------------------------\n",
    "\n",
    "def validation(epoch_iterator_val):\n",
    "        model.eval()\n",
    "        with torch.no_grad():\n",
    "            for step, batch in enumerate(epoch_iterator_val):\n",
    "                val_inputs, val_labels = (batch[\"ct\"].cuda(), batch[\"seg\"].cuda())\n",
    "                val_outputs = sliding_window_inference(val_inputs, (96, 96, 96), 4, model)\n",
    "                val_labels_list = decollate_batch(val_labels)\n",
    "                val_labels_convert = [\n",
    "                    post_label(val_label_tensor) for val_label_tensor in val_labels_list\n",
    "                ]\n",
    "                val_outputs_list = decollate_batch(val_outputs)\n",
    "                val_output_convert = [\n",
    "                    post_pred(val_pred_tensor) for val_pred_tensor in val_outputs_list\n",
    "                ]\n",
    "                dice_metric(y_pred=val_output_convert, y=val_labels_convert)\n",
    "                dice_metric_batch(y_pred=val_output_convert, y=val_labels_convert)\n",
    "                epoch_iterator_val.set_description(\n",
    "                    \"Validate (%d / %d Steps)\" % (global_step, 10.0)\n",
    "                )\n",
    "            mean_dice_val = dice_metric.aggregate().item()\n",
    "            metric_batch_val = dice_metric_batch.aggregate()\n",
    "\n",
    "            metric_tumor = metric_batch_val[0].item()\n",
    "            metric_lymph = metric_batch_val[1].item()\n",
    "\n",
    "            dice_metric.reset()\n",
    "            dice_metric_batch.reset()\n",
    "        return mean_dice_val, metric_tumor, metric_lymph\n",
    "\n",
    "\n",
    "\n",
    "def train(global_step, train_loader, dice_val_best, global_step_best):\n",
    "        model.train()\n",
    "        epoch_loss = 0 \n",
    "        step = 0\n",
    "        epoch_iterator = tqdm(\n",
    "            train_loader, desc=\"Training (X / X Steps) (loss=X.X)\", dynamic_ncols=True\n",
    "        )\n",
    "        \n",
    "        for step, batch in enumerate(epoch_iterator):\n",
    "            step += 1\n",
    "            x, y = (batch[\"ct\"].cuda(), batch[\"seg\"].cuda())\n",
    "            logit_map = model(x)\n",
    "            loss = loss_function(logit_map, y)\n",
    "            loss.backward()\n",
    "            epoch_loss += loss.item() \n",
    "            optimizer.step()\n",
    "            optimizer.zero_grad()\n",
    "            epoch_iterator.set_description(\n",
    "                \"Training (%d / %d Steps) (loss=%2.5f)\"\n",
    "                % (global_step, max_iterations, loss)\n",
    "            )\n",
    "            \n",
    "            if (\n",
    "                global_step % eval_num == 0 and global_step != 0\n",
    "            ) or global_step == max_iterations:\n",
    "                epoch_iterator_val = tqdm(\n",
    "                    val_loader, desc=\"Validate (X / X Steps) (dice=X.X)\", dynamic_ncols=True\n",
    "                )\n",
    "                dice_val, metric_tumor, metric_lymph = validation(epoch_iterator_val)\n",
    "                epoch_loss /= step\n",
    "                epoch_loss_values.append(epoch_loss)\n",
    "                metric_values.append(dice_val)\n",
    "                metric_values_tumor.append(metric_tumor)\n",
    "                metric_values_lymph.append(metric_lymph)\n",
    "                if dice_val > dice_val_best:\n",
    "                    dice_val_best = dice_val\n",
    "                    global_step_best = global_step\n",
    "                    torch.save(\n",
    "                        model.state_dict(), os.path.join(model_dir, \"d_7th_ctptct.pth\")\n",
    "                    )\n",
    "                    print(\n",
    "                        \"Model Was Saved ! Current Best Avg. Dice: {} Current Avg. Dice: {} Current Avg. tumor Dice: {} Current Avg. lymph Dice: {}\".format(\n",
    "                            dice_val_best, dice_val, metric_tumor, metric_lymph\n",
    "                        )\n",
    "                    )\n",
    "                else:\n",
    "                    print(\n",
    "                        \"Model Was Not Saved ! Current Best Avg. Dice: {} Current Avg. Dice: {} Current Avg. tumor Dice: {} Current Avg. lymph Dice: {}\".format(\n",
    "                            dice_val_best, dice_val,  metric_tumor, metric_lymph\n",
    "                        )\n",
    "                    )\n",
    "            global_step += 1\n",
    "        return global_step, dice_val_best, global_step_best"
   ]
  },
  {
   "cell_type": "code",
   "execution_count": 15,
   "metadata": {},
   "outputs": [
    {
     "name": "stderr",
     "output_type": "stream",
     "text": [
      "Training (5 / 18000 Steps) (loss=1.62883): 100%|██████████| 6/6 [00:21<00:00,  3.54s/it]\n",
      "Training (11 / 18000 Steps) (loss=1.45613): 100%|██████████| 6/6 [00:08<00:00,  1.35s/it]\n",
      "Training (17 / 18000 Steps) (loss=1.42223): 100%|██████████| 6/6 [00:07<00:00,  1.31s/it]\n",
      "Training (23 / 18000 Steps) (loss=1.45895): 100%|██████████| 6/6 [00:08<00:00,  1.35s/it]\n",
      "Training (29 / 18000 Steps) (loss=1.33507): 100%|██████████| 6/6 [00:08<00:00,  1.38s/it]\n",
      "Training (35 / 18000 Steps) (loss=1.34503): 100%|██████████| 6/6 [00:08<00:00,  1.39s/it]\n",
      "Training (41 / 18000 Steps) (loss=1.32871): 100%|██████████| 6/6 [00:08<00:00,  1.33s/it]\n",
      "Training (47 / 18000 Steps) (loss=1.35511): 100%|██████████| 6/6 [00:08<00:00,  1.39s/it]\n",
      "Training (53 / 18000 Steps) (loss=1.24626): 100%|██████████| 6/6 [00:07<00:00,  1.30s/it]\n",
      "Training (59 / 18000 Steps) (loss=1.32270): 100%|██████████| 6/6 [00:07<00:00,  1.29s/it]\n",
      "Training (65 / 18000 Steps) (loss=1.29928): 100%|██████████| 6/6 [00:08<00:00,  1.38s/it]\n",
      "Training (71 / 18000 Steps) (loss=1.24033): 100%|██████████| 6/6 [00:08<00:00,  1.35s/it]\n",
      "Training (77 / 18000 Steps) (loss=1.22863): 100%|██████████| 6/6 [00:08<00:00,  1.34s/it]\n",
      "Training (83 / 18000 Steps) (loss=1.22274): 100%|██████████| 6/6 [00:07<00:00,  1.32s/it]\n",
      "Training (89 / 18000 Steps) (loss=1.23262): 100%|██████████| 6/6 [00:08<00:00,  1.36s/it]\n",
      "Training (95 / 18000 Steps) (loss=1.24073): 100%|██████████| 6/6 [00:08<00:00,  1.36s/it]\n",
      "Validate (96 / 10 Steps): 100%|██████████| 3/3 [00:05<00:00,  1.96s/it]7<00:02,  1.29s/it]\n",
      "Training (100 / 18000 Steps) (loss=1.23344):  83%|████████▎ | 5/6 [00:14<00:03,  3.67s/it]"
     ]
    },
    {
     "name": "stdout",
     "output_type": "stream",
     "text": [
      "Model Was Saved ! Current Best Avg. Dice: 4.946087938151322e-05 Current Avg. Dice: 4.946087938151322e-05 Current Avg. tumor Dice: 9.892175876302645e-05 Current Avg. lymph Dice: 0.0\n"
     ]
    },
    {
     "name": "stderr",
     "output_type": "stream",
     "text": [
      "Training (101 / 18000 Steps) (loss=1.21831): 100%|██████████| 6/6 [00:15<00:00,  2.53s/it]\n",
      "Training (107 / 18000 Steps) (loss=1.18560): 100%|██████████| 6/6 [00:08<00:00,  1.42s/it]\n",
      "Training (113 / 18000 Steps) (loss=1.20962): 100%|██████████| 6/6 [00:08<00:00,  1.35s/it]\n",
      "Training (119 / 18000 Steps) (loss=1.19732): 100%|██████████| 6/6 [00:07<00:00,  1.32s/it]\n",
      "Training (125 / 18000 Steps) (loss=1.24238): 100%|██████████| 6/6 [00:08<00:00,  1.40s/it]\n",
      "Training (131 / 18000 Steps) (loss=1.19053): 100%|██████████| 6/6 [00:08<00:00,  1.42s/it]\n",
      "Training (137 / 18000 Steps) (loss=1.17443): 100%|██████████| 6/6 [00:08<00:00,  1.37s/it]\n",
      "Training (143 / 18000 Steps) (loss=1.15315): 100%|██████████| 6/6 [00:07<00:00,  1.33s/it]\n",
      "Training (149 / 18000 Steps) (loss=1.16794): 100%|██████████| 6/6 [00:07<00:00,  1.32s/it]\n",
      "Training (155 / 18000 Steps) (loss=1.12559): 100%|██████████| 6/6 [00:07<00:00,  1.31s/it]\n",
      "Training (161 / 18000 Steps) (loss=1.14252): 100%|██████████| 6/6 [00:08<00:00,  1.35s/it]\n",
      "Training (167 / 18000 Steps) (loss=1.13736): 100%|██████████| 6/6 [00:07<00:00,  1.30s/it]\n",
      "Training (173 / 18000 Steps) (loss=1.16543): 100%|██████████| 6/6 [00:08<00:00,  1.35s/it]\n",
      "Training (179 / 18000 Steps) (loss=1.11673): 100%|██████████| 6/6 [00:07<00:00,  1.32s/it]\n",
      "Training (185 / 18000 Steps) (loss=1.12220): 100%|██████████| 6/6 [00:08<00:00,  1.40s/it]\n",
      "Training (191 / 18000 Steps) (loss=1.14795): 100%|██████████| 6/6 [00:07<00:00,  1.30s/it]\n",
      "Training (197 / 18000 Steps) (loss=1.13754): 100%|██████████| 6/6 [00:08<00:00,  1.39s/it]\n",
      "Validate (198 / 10 Steps): 100%|██████████| 3/3 [00:05<00:00,  1.85s/it]<00:08,  2.08s/it]\n",
      "Training (200 / 18000 Steps) (loss=1.12206):  50%|█████     | 3/6 [00:11<00:13,  4.40s/it]"
     ]
    },
    {
     "name": "stdout",
     "output_type": "stream",
     "text": [
      "Model Was Saved ! Current Best Avg. Dice: 0.00014107405149843544 Current Avg. Dice: 0.00014107405149843544 Current Avg. tumor Dice: 0.0002821481029968709 Current Avg. lymph Dice: 0.0\n"
     ]
    },
    {
     "name": "stderr",
     "output_type": "stream",
     "text": [
      "Training (203 / 18000 Steps) (loss=1.13644): 100%|██████████| 6/6 [00:14<00:00,  2.39s/it]\n",
      "Training (209 / 18000 Steps) (loss=1.11401): 100%|██████████| 6/6 [00:08<00:00,  1.35s/it]\n",
      "Training (215 / 18000 Steps) (loss=1.11768): 100%|██████████| 6/6 [00:08<00:00,  1.34s/it]\n",
      "Training (221 / 18000 Steps) (loss=1.08687): 100%|██████████| 6/6 [00:07<00:00,  1.31s/it]\n",
      "Training (227 / 18000 Steps) (loss=1.09587): 100%|██████████| 6/6 [00:08<00:00,  1.34s/it]\n",
      "Training (233 / 18000 Steps) (loss=1.09071): 100%|██████████| 6/6 [00:08<00:00,  1.35s/it]\n",
      "Training (239 / 18000 Steps) (loss=1.08697): 100%|██████████| 6/6 [00:07<00:00,  1.32s/it]\n",
      "Training (245 / 18000 Steps) (loss=1.07133): 100%|██████████| 6/6 [00:07<00:00,  1.29s/it]\n",
      "Training (251 / 18000 Steps) (loss=1.06665): 100%|██████████| 6/6 [00:08<00:00,  1.34s/it]\n",
      "Training (257 / 18000 Steps) (loss=1.09738): 100%|██████████| 6/6 [00:08<00:00,  1.35s/it]\n",
      "Training (263 / 18000 Steps) (loss=1.08465): 100%|██████████| 6/6 [00:07<00:00,  1.29s/it]\n",
      "Training (269 / 18000 Steps) (loss=1.08239): 100%|██████████| 6/6 [00:07<00:00,  1.33s/it]\n",
      "Training (275 / 18000 Steps) (loss=1.06304): 100%|██████████| 6/6 [00:08<00:00,  1.35s/it]\n",
      "Training (281 / 18000 Steps) (loss=1.08310): 100%|██████████| 6/6 [00:08<00:00,  1.37s/it]\n",
      "Training (287 / 18000 Steps) (loss=1.04426): 100%|██████████| 6/6 [00:08<00:00,  1.37s/it]\n",
      "Training (293 / 18000 Steps) (loss=1.03970): 100%|██████████| 6/6 [00:08<00:00,  1.37s/it]\n",
      "Training (299 / 18000 Steps) (loss=1.03170): 100%|██████████| 6/6 [00:08<00:00,  1.35s/it]\n",
      "Validate (300 / 10 Steps): 100%|██████████| 3/3 [00:05<00:00,  1.84s/it]<?, ?it/s]\n",
      "Training (300 / 18000 Steps) (loss=1.03035):  17%|█▋        | 1/6 [00:09<00:46,  9.31s/it]"
     ]
    },
    {
     "name": "stdout",
     "output_type": "stream",
     "text": [
      "Model Was Not Saved ! Current Best Avg. Dice: 0.00014107405149843544 Current Avg. Dice: 0.0 Current Avg. tumor Dice: 0.0 Current Avg. lymph Dice: 0.0\n"
     ]
    },
    {
     "name": "stderr",
     "output_type": "stream",
     "text": [
      "Training (305 / 18000 Steps) (loss=1.04763): 100%|██████████| 6/6 [00:13<00:00,  2.27s/it]\n",
      "Training (311 / 18000 Steps) (loss=1.05414): 100%|██████████| 6/6 [00:07<00:00,  1.30s/it]\n",
      "Training (317 / 18000 Steps) (loss=1.02071): 100%|██████████| 6/6 [00:08<00:00,  1.35s/it]\n",
      "Training (323 / 18000 Steps) (loss=1.01519): 100%|██████████| 6/6 [00:08<00:00,  1.37s/it]\n",
      "Training (329 / 18000 Steps) (loss=1.02876): 100%|██████████| 6/6 [00:08<00:00,  1.36s/it]\n",
      "Training (335 / 18000 Steps) (loss=1.02765): 100%|██████████| 6/6 [00:07<00:00,  1.32s/it]\n",
      "Training (341 / 18000 Steps) (loss=1.01278): 100%|██████████| 6/6 [00:07<00:00,  1.33s/it]\n",
      "Training (347 / 18000 Steps) (loss=1.01649): 100%|██████████| 6/6 [00:07<00:00,  1.29s/it]\n",
      "Training (353 / 18000 Steps) (loss=1.00852): 100%|██████████| 6/6 [00:08<00:00,  1.34s/it]\n",
      "Training (359 / 18000 Steps) (loss=1.00186): 100%|██████████| 6/6 [00:07<00:00,  1.32s/it]\n",
      "Training (365 / 18000 Steps) (loss=1.03192): 100%|██████████| 6/6 [00:08<00:00,  1.34s/it]\n",
      "Training (371 / 18000 Steps) (loss=1.01490): 100%|██████████| 6/6 [00:08<00:00,  1.33s/it]\n",
      "Training (377 / 18000 Steps) (loss=1.04792): 100%|██████████| 6/6 [00:07<00:00,  1.29s/it]\n",
      "Training (383 / 18000 Steps) (loss=1.03051): 100%|██████████| 6/6 [00:07<00:00,  1.33s/it]\n",
      "Training (389 / 18000 Steps) (loss=0.99156): 100%|██████████| 6/6 [00:08<00:00,  1.42s/it]\n",
      "Training (395 / 18000 Steps) (loss=0.99664): 100%|██████████| 6/6 [00:07<00:00,  1.29s/it]\n",
      "Validate (396 / 10 Steps): 100%|██████████| 3/3 [00:05<00:00,  1.87s/it]<00:02,  1.23s/it]\n",
      "Training (400 / 18000 Steps) (loss=0.99315):  83%|████████▎ | 5/6 [00:12<00:03,  3.13s/it]"
     ]
    },
    {
     "name": "stdout",
     "output_type": "stream",
     "text": [
      "Model Was Not Saved ! Current Best Avg. Dice: 0.00014107405149843544 Current Avg. Dice: 4.042363798362203e-05 Current Avg. tumor Dice: 8.084727596724406e-05 Current Avg. lymph Dice: 0.0\n"
     ]
    },
    {
     "name": "stderr",
     "output_type": "stream",
     "text": [
      "Training (401 / 18000 Steps) (loss=0.98494): 100%|██████████| 6/6 [00:13<00:00,  2.26s/it]\n",
      "Training (407 / 18000 Steps) (loss=1.00174): 100%|██████████| 6/6 [00:07<00:00,  1.31s/it]\n",
      "Training (413 / 18000 Steps) (loss=1.00486): 100%|██████████| 6/6 [00:08<00:00,  1.36s/it]\n",
      "Training (419 / 18000 Steps) (loss=0.98183): 100%|██████████| 6/6 [00:08<00:00,  1.36s/it]\n",
      "Training (425 / 18000 Steps) (loss=0.97371): 100%|██████████| 6/6 [00:07<00:00,  1.29s/it]\n",
      "Training (431 / 18000 Steps) (loss=0.97932): 100%|██████████| 6/6 [00:07<00:00,  1.32s/it]\n",
      "Training (437 / 18000 Steps) (loss=0.95992): 100%|██████████| 6/6 [00:08<00:00,  1.33s/it]\n",
      "Training (443 / 18000 Steps) (loss=0.99958): 100%|██████████| 6/6 [00:08<00:00,  1.34s/it]\n",
      "Training (449 / 18000 Steps) (loss=0.96044): 100%|██████████| 6/6 [00:08<00:00,  1.34s/it]\n",
      "Training (455 / 18000 Steps) (loss=0.96342): 100%|██████████| 6/6 [00:08<00:00,  1.34s/it]\n",
      "Training (461 / 18000 Steps) (loss=0.99110): 100%|██████████| 6/6 [00:07<00:00,  1.30s/it]\n",
      "Training (467 / 18000 Steps) (loss=0.95634): 100%|██████████| 6/6 [00:07<00:00,  1.31s/it]\n",
      "Training (473 / 18000 Steps) (loss=0.95764): 100%|██████████| 6/6 [00:08<00:00,  1.36s/it]\n",
      "Training (479 / 18000 Steps) (loss=0.98189): 100%|██████████| 6/6 [00:08<00:00,  1.34s/it]\n",
      "Training (485 / 18000 Steps) (loss=0.98078): 100%|██████████| 6/6 [00:08<00:00,  1.39s/it]\n",
      "Training (491 / 18000 Steps) (loss=1.01179): 100%|██████████| 6/6 [00:07<00:00,  1.31s/it]\n",
      "Training (497 / 18000 Steps) (loss=0.95563): 100%|██████████| 6/6 [00:07<00:00,  1.33s/it]\n",
      "Validate (498 / 10 Steps): 100%|██████████| 3/3 [00:05<00:00,  1.87s/it]<00:08,  2.02s/it]\n",
      "Training (500 / 18000 Steps) (loss=0.95322):  50%|█████     | 3/6 [00:11<00:13,  4.40s/it]"
     ]
    },
    {
     "name": "stdout",
     "output_type": "stream",
     "text": [
      "Model Was Saved ! Current Best Avg. Dice: 0.04164804145693779 Current Avg. Dice: 0.04164804145693779 Current Avg. tumor Dice: 0.08329608291387558 Current Avg. lymph Dice: 0.0\n"
     ]
    },
    {
     "name": "stderr",
     "output_type": "stream",
     "text": [
      "Training (503 / 18000 Steps) (loss=0.93956): 100%|██████████| 6/6 [00:14<00:00,  2.38s/it]\n",
      "Training (509 / 18000 Steps) (loss=0.96431): 100%|██████████| 6/6 [00:08<00:00,  1.35s/it]\n",
      "Training (515 / 18000 Steps) (loss=0.93624): 100%|██████████| 6/6 [00:08<00:00,  1.42s/it]\n",
      "Training (521 / 18000 Steps) (loss=0.94348): 100%|██████████| 6/6 [00:07<00:00,  1.30s/it]\n",
      "Training (527 / 18000 Steps) (loss=0.92377): 100%|██████████| 6/6 [00:07<00:00,  1.29s/it]\n",
      "Training (533 / 18000 Steps) (loss=0.94943): 100%|██████████| 6/6 [00:08<00:00,  1.36s/it]\n",
      "Training (539 / 18000 Steps) (loss=0.93907): 100%|██████████| 6/6 [00:07<00:00,  1.30s/it]\n",
      "Training (545 / 18000 Steps) (loss=0.91964): 100%|██████████| 6/6 [00:07<00:00,  1.30s/it]\n",
      "Training (551 / 18000 Steps) (loss=0.93828): 100%|██████████| 6/6 [00:08<00:00,  1.35s/it]\n",
      "Training (557 / 18000 Steps) (loss=0.94387): 100%|██████████| 6/6 [00:08<00:00,  1.33s/it]\n",
      "Training (563 / 18000 Steps) (loss=0.90663): 100%|██████████| 6/6 [00:07<00:00,  1.33s/it]\n",
      "Training (569 / 18000 Steps) (loss=0.90977): 100%|██████████| 6/6 [00:07<00:00,  1.31s/it]\n",
      "Training (575 / 18000 Steps) (loss=0.90758): 100%|██████████| 6/6 [00:07<00:00,  1.26s/it]\n",
      "Training (581 / 18000 Steps) (loss=0.90515): 100%|██████████| 6/6 [00:08<00:00,  1.38s/it]\n",
      "Training (587 / 18000 Steps) (loss=0.90572): 100%|██████████| 6/6 [00:08<00:00,  1.38s/it]\n",
      "Training (593 / 18000 Steps) (loss=0.91971): 100%|██████████| 6/6 [00:07<00:00,  1.31s/it]\n",
      "Training (599 / 18000 Steps) (loss=0.88545): 100%|██████████| 6/6 [00:07<00:00,  1.30s/it]\n",
      "Validate (600 / 10 Steps): 100%|██████████| 3/3 [00:05<00:00,  1.85s/it]<?, ?it/s]\n",
      "Training (600 / 18000 Steps) (loss=0.91954):  17%|█▋        | 1/6 [00:09<00:49,  9.99s/it]"
     ]
    },
    {
     "name": "stdout",
     "output_type": "stream",
     "text": [
      "Model Was Saved ! Current Best Avg. Dice: 0.047980789095163345 Current Avg. Dice: 0.047980789095163345 Current Avg. tumor Dice: 0.0959615707397461 Current Avg. lymph Dice: 0.0\n"
     ]
    },
    {
     "name": "stderr",
     "output_type": "stream",
     "text": [
      "Training (605 / 18000 Steps) (loss=0.95127): 100%|██████████| 6/6 [00:14<00:00,  2.41s/it]\n",
      "Training (611 / 18000 Steps) (loss=0.90913): 100%|██████████| 6/6 [00:07<00:00,  1.28s/it]\n",
      "Training (617 / 18000 Steps) (loss=0.90961): 100%|██████████| 6/6 [00:07<00:00,  1.32s/it]\n",
      "Training (623 / 18000 Steps) (loss=0.91922): 100%|██████████| 6/6 [00:07<00:00,  1.27s/it]\n",
      "Training (629 / 18000 Steps) (loss=0.91366): 100%|██████████| 6/6 [00:07<00:00,  1.32s/it]\n",
      "Training (635 / 18000 Steps) (loss=0.88411): 100%|██████████| 6/6 [00:08<00:00,  1.38s/it]\n",
      "Training (641 / 18000 Steps) (loss=0.89149): 100%|██████████| 6/6 [00:08<00:00,  1.41s/it]\n",
      "Training (647 / 18000 Steps) (loss=0.87755): 100%|██████████| 6/6 [00:08<00:00,  1.36s/it]\n",
      "Training (653 / 18000 Steps) (loss=0.89880): 100%|██████████| 6/6 [00:07<00:00,  1.30s/it]\n",
      "Training (659 / 18000 Steps) (loss=0.89339): 100%|██████████| 6/6 [00:07<00:00,  1.27s/it]\n",
      "Training (665 / 18000 Steps) (loss=0.88819): 100%|██████████| 6/6 [00:07<00:00,  1.32s/it]\n",
      "Training (671 / 18000 Steps) (loss=0.87693): 100%|██████████| 6/6 [00:07<00:00,  1.31s/it]\n",
      "Training (677 / 18000 Steps) (loss=0.88936): 100%|██████████| 6/6 [00:07<00:00,  1.33s/it]\n",
      "Training (683 / 18000 Steps) (loss=0.87560): 100%|██████████| 6/6 [00:08<00:00,  1.35s/it]\n",
      "Training (689 / 18000 Steps) (loss=0.84093): 100%|██████████| 6/6 [00:07<00:00,  1.33s/it]\n",
      "Training (695 / 18000 Steps) (loss=0.89878): 100%|██████████| 6/6 [00:07<00:00,  1.29s/it]\n",
      "Validate (696 / 10 Steps): 100%|██████████| 3/3 [00:05<00:00,  1.84s/it]<00:02,  1.28s/it]\n",
      "Training (700 / 18000 Steps) (loss=0.85620):  83%|████████▎ | 5/6 [00:13<00:03,  3.38s/it]"
     ]
    },
    {
     "name": "stdout",
     "output_type": "stream",
     "text": [
      "Model Was Saved ! Current Best Avg. Dice: 0.07288163155317307 Current Avg. Dice: 0.07288163155317307 Current Avg. tumor Dice: 0.14576326310634613 Current Avg. lymph Dice: 0.0\n"
     ]
    },
    {
     "name": "stderr",
     "output_type": "stream",
     "text": [
      "Training (701 / 18000 Steps) (loss=0.89257): 100%|██████████| 6/6 [00:14<00:00,  2.42s/it]\n",
      "Training (707 / 18000 Steps) (loss=0.85921): 100%|██████████| 6/6 [00:08<00:00,  1.35s/it]\n",
      "Training (713 / 18000 Steps) (loss=0.87488): 100%|██████████| 6/6 [00:07<00:00,  1.31s/it]\n",
      "Training (719 / 18000 Steps) (loss=0.87403): 100%|██████████| 6/6 [00:07<00:00,  1.31s/it]\n",
      "Training (725 / 18000 Steps) (loss=0.85518): 100%|██████████| 6/6 [00:07<00:00,  1.30s/it]\n",
      "Training (731 / 18000 Steps) (loss=0.85646): 100%|██████████| 6/6 [00:08<00:00,  1.36s/it]\n",
      "Training (737 / 18000 Steps) (loss=0.88205): 100%|██████████| 6/6 [00:08<00:00,  1.38s/it]\n",
      "Training (743 / 18000 Steps) (loss=0.88422): 100%|██████████| 6/6 [00:08<00:00,  1.38s/it]\n",
      "Training (749 / 18000 Steps) (loss=0.84550): 100%|██████████| 6/6 [00:08<00:00,  1.35s/it]\n",
      "Training (755 / 18000 Steps) (loss=0.86841): 100%|██████████| 6/6 [00:07<00:00,  1.30s/it]\n",
      "Training (761 / 18000 Steps) (loss=0.87672): 100%|██████████| 6/6 [00:07<00:00,  1.30s/it]\n",
      "Training (767 / 18000 Steps) (loss=0.86361): 100%|██████████| 6/6 [00:07<00:00,  1.27s/it]\n",
      "Training (773 / 18000 Steps) (loss=0.82815): 100%|██████████| 6/6 [00:07<00:00,  1.32s/it]\n",
      "Training (779 / 18000 Steps) (loss=0.87894): 100%|██████████| 6/6 [00:08<00:00,  1.36s/it]\n",
      "Training (785 / 18000 Steps) (loss=0.90481): 100%|██████████| 6/6 [00:08<00:00,  1.35s/it]\n",
      "Training (791 / 18000 Steps) (loss=0.87089): 100%|██████████| 6/6 [00:08<00:00,  1.34s/it]\n",
      "Training (797 / 18000 Steps) (loss=0.85305): 100%|██████████| 6/6 [00:08<00:00,  1.36s/it]\n",
      "Validate (798 / 10 Steps): 100%|██████████| 3/3 [00:05<00:00,  1.86s/it]<00:08,  2.09s/it]\n",
      "Training (800 / 18000 Steps) (loss=0.84712):  50%|█████     | 3/6 [00:11<00:13,  4.42s/it]"
     ]
    },
    {
     "name": "stdout",
     "output_type": "stream",
     "text": [
      "Model Was Saved ! Current Best Avg. Dice: 0.08709747344255447 Current Avg. Dice: 0.08709747344255447 Current Avg. tumor Dice: 0.17419494688510895 Current Avg. lymph Dice: 0.0\n"
     ]
    },
    {
     "name": "stderr",
     "output_type": "stream",
     "text": [
      "Training (803 / 18000 Steps) (loss=0.86916): 100%|██████████| 6/6 [00:14<00:00,  2.41s/it]\n",
      "Training (809 / 18000 Steps) (loss=0.84961): 100%|██████████| 6/6 [00:07<00:00,  1.28s/it]\n",
      "Training (815 / 18000 Steps) (loss=0.83346): 100%|██████████| 6/6 [00:07<00:00,  1.30s/it]\n",
      "Training (821 / 18000 Steps) (loss=0.85274): 100%|██████████| 6/6 [00:07<00:00,  1.29s/it]\n",
      "Training (827 / 18000 Steps) (loss=0.84806): 100%|██████████| 6/6 [00:07<00:00,  1.29s/it]\n",
      "Training (833 / 18000 Steps) (loss=0.85428): 100%|██████████| 6/6 [00:08<00:00,  1.39s/it]\n",
      "Training (839 / 18000 Steps) (loss=0.81894): 100%|██████████| 6/6 [00:08<00:00,  1.36s/it]\n",
      "Training (845 / 18000 Steps) (loss=0.84166): 100%|██████████| 6/6 [00:08<00:00,  1.33s/it]\n",
      "Training (851 / 18000 Steps) (loss=0.83806): 100%|██████████| 6/6 [00:07<00:00,  1.32s/it]\n",
      "Training (857 / 18000 Steps) (loss=0.81010): 100%|██████████| 6/6 [00:08<00:00,  1.35s/it]\n",
      "Training (863 / 18000 Steps) (loss=0.82211): 100%|██████████| 6/6 [00:07<00:00,  1.27s/it]\n",
      "Training (869 / 18000 Steps) (loss=0.81263): 100%|██████████| 6/6 [00:07<00:00,  1.32s/it]\n",
      "Training (875 / 18000 Steps) (loss=0.85375): 100%|██████████| 6/6 [00:07<00:00,  1.28s/it]\n",
      "Training (881 / 18000 Steps) (loss=0.85206): 100%|██████████| 6/6 [00:07<00:00,  1.30s/it]\n",
      "Training (887 / 18000 Steps) (loss=0.81094): 100%|██████████| 6/6 [00:08<00:00,  1.36s/it]\n",
      "Training (893 / 18000 Steps) (loss=0.81131): 100%|██████████| 6/6 [00:07<00:00,  1.31s/it]\n",
      "Training (899 / 18000 Steps) (loss=0.83014): 100%|██████████| 6/6 [00:07<00:00,  1.33s/it]\n",
      "Validate (900 / 10 Steps): 100%|██████████| 3/3 [00:05<00:00,  1.88s/it]<?, ?it/s]\n",
      "Training (900 / 18000 Steps) (loss=0.80198):  17%|█▋        | 1/6 [00:09<00:47,  9.53s/it]"
     ]
    },
    {
     "name": "stdout",
     "output_type": "stream",
     "text": [
      "Model Was Not Saved ! Current Best Avg. Dice: 0.08709747344255447 Current Avg. Dice: 0.05758531764149666 Current Avg. tumor Dice: 0.11517063528299332 Current Avg. lymph Dice: 0.0\n"
     ]
    },
    {
     "name": "stderr",
     "output_type": "stream",
     "text": [
      "Training (905 / 18000 Steps) (loss=0.81235): 100%|██████████| 6/6 [00:13<00:00,  2.27s/it]\n",
      "Training (911 / 18000 Steps) (loss=0.84313): 100%|██████████| 6/6 [00:07<00:00,  1.28s/it]\n",
      "Training (917 / 18000 Steps) (loss=0.82969): 100%|██████████| 6/6 [00:07<00:00,  1.29s/it]\n",
      "Training (923 / 18000 Steps) (loss=0.82377): 100%|██████████| 6/6 [00:07<00:00,  1.31s/it]\n",
      "Training (929 / 18000 Steps) (loss=0.82431): 100%|██████████| 6/6 [00:07<00:00,  1.31s/it]\n",
      "Training (935 / 18000 Steps) (loss=0.82347): 100%|██████████| 6/6 [00:08<00:00,  1.42s/it]\n",
      "Training (941 / 18000 Steps) (loss=0.85269): 100%|██████████| 6/6 [00:08<00:00,  1.34s/it]\n",
      "Training (947 / 18000 Steps) (loss=0.81996): 100%|██████████| 6/6 [00:07<00:00,  1.33s/it]\n",
      "Training (953 / 18000 Steps) (loss=0.82750): 100%|██████████| 6/6 [00:07<00:00,  1.32s/it]\n",
      "Training (959 / 18000 Steps) (loss=0.76605): 100%|██████████| 6/6 [00:07<00:00,  1.28s/it]\n",
      "Training (965 / 18000 Steps) (loss=0.80519): 100%|██████████| 6/6 [00:07<00:00,  1.27s/it]\n",
      "Training (971 / 18000 Steps) (loss=0.80741): 100%|██████████| 6/6 [00:08<00:00,  1.36s/it]\n",
      "Training (977 / 18000 Steps) (loss=0.81043): 100%|██████████| 6/6 [00:07<00:00,  1.31s/it]\n",
      "Training (983 / 18000 Steps) (loss=0.82273): 100%|██████████| 6/6 [00:08<00:00,  1.34s/it]\n",
      "Training (989 / 18000 Steps) (loss=0.80500): 100%|██████████| 6/6 [00:07<00:00,  1.33s/it]\n",
      "Training (995 / 18000 Steps) (loss=0.80333): 100%|██████████| 6/6 [00:07<00:00,  1.32s/it]\n",
      "Validate (996 / 10 Steps): 100%|██████████| 3/3 [00:05<00:00,  1.90s/it]7<00:02,  1.25s/it]\n",
      "Training (1000 / 18000 Steps) (loss=0.84284):  83%|████████▎ | 5/6 [00:13<00:03,  3.44s/it]"
     ]
    },
    {
     "name": "stdout",
     "output_type": "stream",
     "text": [
      "Model Was Saved ! Current Best Avg. Dice: 0.10906483978033066 Current Avg. Dice: 0.10906483978033066 Current Avg. tumor Dice: 0.21812967956066132 Current Avg. lymph Dice: 0.0\n"
     ]
    },
    {
     "name": "stderr",
     "output_type": "stream",
     "text": [
      "Training (1001 / 18000 Steps) (loss=0.80100): 100%|██████████| 6/6 [00:14<00:00,  2.40s/it]\n",
      "Training (1007 / 18000 Steps) (loss=0.82327): 100%|██████████| 6/6 [00:07<00:00,  1.28s/it]\n",
      "Training (1013 / 18000 Steps) (loss=0.73964): 100%|██████████| 6/6 [00:07<00:00,  1.29s/it]\n",
      "Training (1019 / 18000 Steps) (loss=0.77727): 100%|██████████| 6/6 [00:07<00:00,  1.27s/it]\n",
      "Training (1025 / 18000 Steps) (loss=0.75012): 100%|██████████| 6/6 [00:08<00:00,  1.34s/it]\n",
      "Training (1031 / 18000 Steps) (loss=0.79463): 100%|██████████| 6/6 [00:08<00:00,  1.40s/it]\n",
      "Training (1037 / 18000 Steps) (loss=0.81874): 100%|██████████| 6/6 [00:07<00:00,  1.32s/it]\n",
      "Training (1043 / 18000 Steps) (loss=0.81675): 100%|██████████| 6/6 [00:07<00:00,  1.32s/it]\n",
      "Training (1049 / 18000 Steps) (loss=0.80473): 100%|██████████| 6/6 [00:08<00:00,  1.33s/it]\n",
      "Training (1055 / 18000 Steps) (loss=0.80825): 100%|██████████| 6/6 [00:07<00:00,  1.29s/it]\n",
      "Training (1061 / 18000 Steps) (loss=0.79804): 100%|██████████| 6/6 [00:07<00:00,  1.30s/it]\n",
      "Training (1067 / 18000 Steps) (loss=0.79403): 100%|██████████| 6/6 [00:08<00:00,  1.34s/it]\n",
      "Training (1073 / 18000 Steps) (loss=0.80713): 100%|██████████| 6/6 [00:07<00:00,  1.33s/it]\n",
      "Training (1079 / 18000 Steps) (loss=0.79331): 100%|██████████| 6/6 [00:07<00:00,  1.29s/it]\n",
      "Training (1085 / 18000 Steps) (loss=0.79534): 100%|██████████| 6/6 [00:07<00:00,  1.30s/it]\n",
      "Training (1091 / 18000 Steps) (loss=0.80180): 100%|██████████| 6/6 [00:07<00:00,  1.33s/it]\n",
      "Training (1097 / 18000 Steps) (loss=0.79934): 100%|██████████| 6/6 [00:08<00:00,  1.37s/it]\n",
      "Validate (1098 / 10 Steps): 100%|██████████| 3/3 [00:05<00:00,  1.84s/it]<00:08,  2.15s/it]\n",
      "Training (1100 / 18000 Steps) (loss=0.76720):  50%|█████     | 3/6 [00:11<00:13,  4.41s/it]"
     ]
    },
    {
     "name": "stdout",
     "output_type": "stream",
     "text": [
      "Model Was Saved ! Current Best Avg. Dice: 0.11534685641527176 Current Avg. Dice: 0.11534685641527176 Current Avg. tumor Dice: 0.2283981591463089 Current Avg. lymph Dice: 0.0022955634631216526\n"
     ]
    },
    {
     "name": "stderr",
     "output_type": "stream",
     "text": [
      "Training (1103 / 18000 Steps) (loss=0.80339): 100%|██████████| 6/6 [00:14<00:00,  2.41s/it]\n",
      "Training (1109 / 18000 Steps) (loss=0.78740): 100%|██████████| 6/6 [00:07<00:00,  1.27s/it]\n",
      "Training (1115 / 18000 Steps) (loss=0.78759): 100%|██████████| 6/6 [00:07<00:00,  1.33s/it]\n",
      "Training (1121 / 18000 Steps) (loss=0.76960): 100%|██████████| 6/6 [00:07<00:00,  1.32s/it]\n",
      "Training (1127 / 18000 Steps) (loss=0.78327): 100%|██████████| 6/6 [00:08<00:00,  1.35s/it]\n",
      "Training (1133 / 18000 Steps) (loss=0.74964): 100%|██████████| 6/6 [00:07<00:00,  1.32s/it]\n",
      "Training (1139 / 18000 Steps) (loss=0.73774): 100%|██████████| 6/6 [00:08<00:00,  1.35s/it]\n",
      "Training (1145 / 18000 Steps) (loss=0.79477): 100%|██████████| 6/6 [00:07<00:00,  1.30s/it]\n",
      "Training (1151 / 18000 Steps) (loss=0.73514): 100%|██████████| 6/6 [00:08<00:00,  1.34s/it]\n",
      "Training (1157 / 18000 Steps) (loss=0.79324): 100%|██████████| 6/6 [00:07<00:00,  1.29s/it]\n",
      "Training (1163 / 18000 Steps) (loss=0.78809): 100%|██████████| 6/6 [00:08<00:00,  1.34s/it]\n",
      "Training (1169 / 18000 Steps) (loss=0.74558): 100%|██████████| 6/6 [00:08<00:00,  1.34s/it]\n",
      "Training (1175 / 18000 Steps) (loss=0.74445): 100%|██████████| 6/6 [00:07<00:00,  1.29s/it]\n",
      "Training (1181 / 18000 Steps) (loss=0.77915): 100%|██████████| 6/6 [00:07<00:00,  1.29s/it]\n",
      "Training (1187 / 18000 Steps) (loss=0.77242): 100%|██████████| 6/6 [00:07<00:00,  1.32s/it]\n",
      "Training (1193 / 18000 Steps) (loss=0.78542): 100%|██████████| 6/6 [00:07<00:00,  1.33s/it]\n",
      "Training (1199 / 18000 Steps) (loss=0.72551): 100%|██████████| 6/6 [00:08<00:00,  1.34s/it]\n",
      "Validate (1200 / 10 Steps): 100%|██████████| 3/3 [00:05<00:00,  1.80s/it]<?, ?it/s]\n",
      "Training (1200 / 18000 Steps) (loss=0.78879):  17%|█▋        | 1/6 [00:09<00:45,  9.15s/it]"
     ]
    },
    {
     "name": "stdout",
     "output_type": "stream",
     "text": [
      "Model Was Not Saved ! Current Best Avg. Dice: 0.11534685641527176 Current Avg. Dice: 0.09898021817207336 Current Avg. tumor Dice: 0.19116215407848358 Current Avg. lymph Dice: 0.006798280403017998\n"
     ]
    },
    {
     "name": "stderr",
     "output_type": "stream",
     "text": [
      "Training (1205 / 18000 Steps) (loss=0.79529): 100%|██████████| 6/6 [00:13<00:00,  2.24s/it]\n",
      "Training (1211 / 18000 Steps) (loss=0.71978): 100%|██████████| 6/6 [00:07<00:00,  1.31s/it]\n",
      "Training (1217 / 18000 Steps) (loss=0.76548): 100%|██████████| 6/6 [00:08<00:00,  1.33s/it]\n",
      "Training (1223 / 18000 Steps) (loss=0.76814): 100%|██████████| 6/6 [00:08<00:00,  1.36s/it]\n",
      "Training (1229 / 18000 Steps) (loss=0.79315): 100%|██████████| 6/6 [00:07<00:00,  1.32s/it]\n",
      "Training (1235 / 18000 Steps) (loss=0.77465): 100%|██████████| 6/6 [00:07<00:00,  1.33s/it]\n",
      "Training (1241 / 18000 Steps) (loss=0.76725): 100%|██████████| 6/6 [00:07<00:00,  1.28s/it]\n",
      "Training (1247 / 18000 Steps) (loss=0.68455): 100%|██████████| 6/6 [00:08<00:00,  1.37s/it]\n",
      "Training (1253 / 18000 Steps) (loss=0.77171): 100%|██████████| 6/6 [00:08<00:00,  1.34s/it]\n",
      "Training (1259 / 18000 Steps) (loss=0.76277): 100%|██████████| 6/6 [00:08<00:00,  1.34s/it]\n",
      "Training (1265 / 18000 Steps) (loss=0.76659): 100%|██████████| 6/6 [00:08<00:00,  1.34s/it]\n",
      "Training (1271 / 18000 Steps) (loss=0.67093): 100%|██████████| 6/6 [00:07<00:00,  1.30s/it]\n",
      "Training (1277 / 18000 Steps) (loss=0.74449): 100%|██████████| 6/6 [00:07<00:00,  1.30s/it]\n",
      "Training (1283 / 18000 Steps) (loss=0.76181): 100%|██████████| 6/6 [00:07<00:00,  1.29s/it]\n",
      "Training (1289 / 18000 Steps) (loss=0.78151): 100%|██████████| 6/6 [00:07<00:00,  1.33s/it]\n",
      "Training (1295 / 18000 Steps) (loss=0.71448): 100%|██████████| 6/6 [00:08<00:00,  1.37s/it]\n",
      "Validate (1296 / 10 Steps): 100%|██████████| 3/3 [00:05<00:00,  1.88s/it]<00:02,  1.22s/it]\n",
      "Training (1300 / 18000 Steps) (loss=0.69666):  83%|████████▎ | 5/6 [00:13<00:03,  3.37s/it]"
     ]
    },
    {
     "name": "stdout",
     "output_type": "stream",
     "text": [
      "Model Was Saved ! Current Best Avg. Dice: 0.13838894665241241 Current Avg. Dice: 0.13838894665241241 Current Avg. tumor Dice: 0.24869774281978607 Current Avg. lymph Dice: 0.028080135583877563\n"
     ]
    },
    {
     "name": "stderr",
     "output_type": "stream",
     "text": [
      "Training (1301 / 18000 Steps) (loss=0.75997): 100%|██████████| 6/6 [00:14<00:00,  2.35s/it]\n",
      "Training (1307 / 18000 Steps) (loss=0.76121): 100%|██████████| 6/6 [00:08<00:00,  1.37s/it]\n",
      "Training (1313 / 18000 Steps) (loss=0.76082): 100%|██████████| 6/6 [00:07<00:00,  1.30s/it]\n",
      "Training (1319 / 18000 Steps) (loss=0.73292): 100%|██████████| 6/6 [00:07<00:00,  1.30s/it]\n",
      "Training (1325 / 18000 Steps) (loss=0.77967): 100%|██████████| 6/6 [00:08<00:00,  1.37s/it]\n",
      "Training (1331 / 18000 Steps) (loss=0.69582): 100%|██████████| 6/6 [00:07<00:00,  1.30s/it]\n",
      "Training (1337 / 18000 Steps) (loss=0.71322): 100%|██████████| 6/6 [00:07<00:00,  1.32s/it]\n",
      "Training (1343 / 18000 Steps) (loss=0.72012): 100%|██████████| 6/6 [00:08<00:00,  1.37s/it]\n",
      "Training (1349 / 18000 Steps) (loss=0.69576): 100%|██████████| 6/6 [00:07<00:00,  1.32s/it]\n",
      "Training (1355 / 18000 Steps) (loss=0.75240): 100%|██████████| 6/6 [00:08<00:00,  1.39s/it]\n",
      "Training (1361 / 18000 Steps) (loss=0.73933): 100%|██████████| 6/6 [00:08<00:00,  1.34s/it]\n",
      "Training (1367 / 18000 Steps) (loss=0.71343): 100%|██████████| 6/6 [00:08<00:00,  1.34s/it]\n",
      "Training (1373 / 18000 Steps) (loss=0.74925): 100%|██████████| 6/6 [00:07<00:00,  1.31s/it]\n",
      "Training (1379 / 18000 Steps) (loss=0.63751): 100%|██████████| 6/6 [00:07<00:00,  1.29s/it]\n",
      "Training (1385 / 18000 Steps) (loss=0.76276): 100%|██████████| 6/6 [00:07<00:00,  1.31s/it]\n",
      "Training (1391 / 18000 Steps) (loss=0.74179): 100%|██████████| 6/6 [00:07<00:00,  1.32s/it]\n",
      "Training (1397 / 18000 Steps) (loss=0.69397): 100%|██████████| 6/6 [00:07<00:00,  1.28s/it]\n",
      "Validate (1398 / 10 Steps): 100%|██████████| 3/3 [00:05<00:00,  1.84s/it]<00:08,  2.10s/it]\n",
      "Training (1400 / 18000 Steps) (loss=0.66488):  50%|█████     | 3/6 [00:11<00:12,  4.07s/it]"
     ]
    },
    {
     "name": "stdout",
     "output_type": "stream",
     "text": [
      "Model Was Not Saved ! Current Best Avg. Dice: 0.13838894665241241 Current Avg. Dice: 0.1302480846643448 Current Avg. tumor Dice: 0.25954166054725647 Current Avg. lymph Dice: 0.0009545115754008293\n"
     ]
    },
    {
     "name": "stderr",
     "output_type": "stream",
     "text": [
      "Training (1403 / 18000 Steps) (loss=0.76038): 100%|██████████| 6/6 [00:13<00:00,  2.29s/it]\n",
      "Training (1409 / 18000 Steps) (loss=0.75653): 100%|██████████| 6/6 [00:07<00:00,  1.28s/it]\n",
      "Training (1415 / 18000 Steps) (loss=0.73634): 100%|██████████| 6/6 [00:08<00:00,  1.35s/it]\n",
      "Training (1421 / 18000 Steps) (loss=0.71009): 100%|██████████| 6/6 [00:08<00:00,  1.33s/it]\n",
      "Training (1427 / 18000 Steps) (loss=0.77797): 100%|██████████| 6/6 [00:07<00:00,  1.28s/it]\n",
      "Training (1433 / 18000 Steps) (loss=0.72347): 100%|██████████| 6/6 [00:07<00:00,  1.32s/it]\n",
      "Training (1439 / 18000 Steps) (loss=0.69544): 100%|██████████| 6/6 [00:07<00:00,  1.33s/it]\n",
      "Training (1445 / 18000 Steps) (loss=0.74566): 100%|██████████| 6/6 [00:07<00:00,  1.31s/it]\n",
      "Training (1451 / 18000 Steps) (loss=0.74593): 100%|██████████| 6/6 [00:08<00:00,  1.39s/it]\n",
      "Training (1457 / 18000 Steps) (loss=0.71192): 100%|██████████| 6/6 [00:08<00:00,  1.36s/it]\n",
      "Training (1463 / 18000 Steps) (loss=0.74576): 100%|██████████| 6/6 [00:07<00:00,  1.31s/it]\n",
      "Training (1469 / 18000 Steps) (loss=0.74209): 100%|██████████| 6/6 [00:07<00:00,  1.29s/it]\n",
      "Training (1475 / 18000 Steps) (loss=0.68069): 100%|██████████| 6/6 [00:07<00:00,  1.29s/it]\n",
      "Training (1481 / 18000 Steps) (loss=0.73293): 100%|██████████| 6/6 [00:07<00:00,  1.31s/it]\n",
      "Training (1487 / 18000 Steps) (loss=0.72624): 100%|██████████| 6/6 [00:08<00:00,  1.36s/it]\n",
      "Training (1493 / 18000 Steps) (loss=0.67569): 100%|██████████| 6/6 [00:07<00:00,  1.33s/it]\n",
      "Training (1499 / 18000 Steps) (loss=0.72771): 100%|██████████| 6/6 [00:07<00:00,  1.33s/it]\n",
      "Validate (1500 / 10 Steps): 100%|██████████| 3/3 [00:05<00:00,  1.89s/it]<?, ?it/s]\n",
      "Training (1500 / 18000 Steps) (loss=0.69881):  17%|█▋        | 1/6 [00:10<00:50, 10.05s/it]"
     ]
    },
    {
     "name": "stdout",
     "output_type": "stream",
     "text": [
      "Model Was Saved ! Current Best Avg. Dice: 0.15021421015262604 Current Avg. Dice: 0.15021421015262604 Current Avg. tumor Dice: 0.2607057988643646 Current Avg. lymph Dice: 0.03972261771559715\n"
     ]
    },
    {
     "name": "stderr",
     "output_type": "stream",
     "text": [
      "Training (1505 / 18000 Steps) (loss=0.68787): 100%|██████████| 6/6 [00:14<00:00,  2.37s/it]\n",
      "Training (1511 / 18000 Steps) (loss=0.63799): 100%|██████████| 6/6 [00:08<00:00,  1.34s/it]\n",
      "Training (1517 / 18000 Steps) (loss=0.72265): 100%|██████████| 6/6 [00:08<00:00,  1.37s/it]\n",
      "Training (1523 / 18000 Steps) (loss=0.74622): 100%|██████████| 6/6 [00:07<00:00,  1.31s/it]\n",
      "Training (1529 / 18000 Steps) (loss=0.75099): 100%|██████████| 6/6 [00:07<00:00,  1.29s/it]\n",
      "Training (1535 / 18000 Steps) (loss=0.67000): 100%|██████████| 6/6 [00:07<00:00,  1.31s/it]\n",
      "Training (1541 / 18000 Steps) (loss=0.67952): 100%|██████████| 6/6 [00:07<00:00,  1.27s/it]\n",
      "Training (1547 / 18000 Steps) (loss=0.62605): 100%|██████████| 6/6 [00:07<00:00,  1.33s/it]\n",
      "Training (1553 / 18000 Steps) (loss=0.74049): 100%|██████████| 6/6 [00:08<00:00,  1.39s/it]\n",
      "Training (1559 / 18000 Steps) (loss=0.71798): 100%|██████████| 6/6 [00:08<00:00,  1.38s/it]\n",
      "Training (1565 / 18000 Steps) (loss=0.72446): 100%|██████████| 6/6 [00:07<00:00,  1.29s/it]\n",
      "Training (1571 / 18000 Steps) (loss=0.72707): 100%|██████████| 6/6 [00:07<00:00,  1.30s/it]\n",
      "Training (1577 / 18000 Steps) (loss=0.69196): 100%|██████████| 6/6 [00:08<00:00,  1.35s/it]\n",
      "Training (1583 / 18000 Steps) (loss=0.65090): 100%|██████████| 6/6 [00:07<00:00,  1.30s/it]\n",
      "Training (1589 / 18000 Steps) (loss=0.65893): 100%|██████████| 6/6 [00:07<00:00,  1.31s/it]\n",
      "Training (1595 / 18000 Steps) (loss=0.68494): 100%|██████████| 6/6 [00:07<00:00,  1.32s/it]\n",
      "Validate (1596 / 10 Steps): 100%|██████████| 3/3 [00:05<00:00,  1.87s/it]<00:02,  1.30s/it]\n",
      "Training (1600 / 18000 Steps) (loss=0.69607):  83%|████████▎ | 5/6 [00:13<00:03,  3.20s/it]"
     ]
    },
    {
     "name": "stdout",
     "output_type": "stream",
     "text": [
      "Model Was Not Saved ! Current Best Avg. Dice: 0.15021421015262604 Current Avg. Dice: 0.1496654748916626 Current Avg. tumor Dice: 0.2813092768192291 Current Avg. lymph Dice: 0.01802166737616062\n"
     ]
    },
    {
     "name": "stderr",
     "output_type": "stream",
     "text": [
      "Training (1601 / 18000 Steps) (loss=0.71741): 100%|██████████| 6/6 [00:13<00:00,  2.31s/it]\n",
      "Training (1607 / 18000 Steps) (loss=0.62122): 100%|██████████| 6/6 [00:08<00:00,  1.37s/it]\n",
      "Training (1613 / 18000 Steps) (loss=0.68455): 100%|██████████| 6/6 [00:08<00:00,  1.36s/it]\n",
      "Training (1619 / 18000 Steps) (loss=0.69896): 100%|██████████| 6/6 [00:07<00:00,  1.28s/it]\n",
      "Training (1625 / 18000 Steps) (loss=0.67749): 100%|██████████| 6/6 [00:08<00:00,  1.34s/it]\n",
      "Training (1631 / 18000 Steps) (loss=0.66145): 100%|██████████| 6/6 [00:08<00:00,  1.34s/it]\n",
      "Training (1637 / 18000 Steps) (loss=0.66761): 100%|██████████| 6/6 [00:07<00:00,  1.31s/it]\n",
      "Training (1643 / 18000 Steps) (loss=0.66701): 100%|██████████| 6/6 [00:07<00:00,  1.32s/it]\n",
      "Training (1649 / 18000 Steps) (loss=0.62083): 100%|██████████| 6/6 [00:08<00:00,  1.45s/it]\n",
      "Training (1655 / 18000 Steps) (loss=0.63372): 100%|██████████| 6/6 [00:08<00:00,  1.34s/it]\n",
      "Training (1661 / 18000 Steps) (loss=0.73408): 100%|██████████| 6/6 [00:08<00:00,  1.34s/it]\n",
      "Training (1667 / 18000 Steps) (loss=0.71279): 100%|██████████| 6/6 [00:08<00:00,  1.34s/it]\n",
      "Training (1673 / 18000 Steps) (loss=0.62350): 100%|██████████| 6/6 [00:08<00:00,  1.34s/it]\n",
      "Training (1679 / 18000 Steps) (loss=0.67568): 100%|██████████| 6/6 [00:07<00:00,  1.30s/it]\n",
      "Training (1685 / 18000 Steps) (loss=0.71768): 100%|██████████| 6/6 [00:08<00:00,  1.36s/it]\n",
      "Training (1691 / 18000 Steps) (loss=0.63087): 100%|██████████| 6/6 [00:07<00:00,  1.31s/it]\n",
      "Training (1697 / 18000 Steps) (loss=0.66517): 100%|██████████| 6/6 [00:07<00:00,  1.29s/it]\n",
      "Validate (1698 / 10 Steps): 100%|██████████| 3/3 [00:05<00:00,  1.89s/it]<00:08,  2.11s/it]\n",
      "Training (1700 / 18000 Steps) (loss=0.64447):  50%|█████     | 3/6 [00:11<00:12,  4.14s/it]"
     ]
    },
    {
     "name": "stdout",
     "output_type": "stream",
     "text": [
      "Model Was Not Saved ! Current Best Avg. Dice: 0.15021421015262604 Current Avg. Dice: 0.09860286861658096 Current Avg. tumor Dice: 0.16231276094913483 Current Avg. lymph Dice: 0.03489299491047859\n"
     ]
    },
    {
     "name": "stderr",
     "output_type": "stream",
     "text": [
      "Training (1703 / 18000 Steps) (loss=0.68106): 100%|██████████| 6/6 [00:13<00:00,  2.31s/it]\n",
      "Training (1709 / 18000 Steps) (loss=0.67297): 100%|██████████| 6/6 [00:07<00:00,  1.32s/it]\n",
      "Training (1715 / 18000 Steps) (loss=0.64768): 100%|██████████| 6/6 [00:08<00:00,  1.37s/it]\n",
      "Training (1721 / 18000 Steps) (loss=0.71205): 100%|██████████| 6/6 [00:07<00:00,  1.29s/it]\n",
      "Training (1727 / 18000 Steps) (loss=0.65898): 100%|██████████| 6/6 [00:07<00:00,  1.33s/it]\n",
      "Training (1733 / 18000 Steps) (loss=0.64785): 100%|██████████| 6/6 [00:07<00:00,  1.28s/it]\n",
      "Training (1739 / 18000 Steps) (loss=0.72277): 100%|██████████| 6/6 [00:07<00:00,  1.31s/it]\n",
      "Training (1745 / 18000 Steps) (loss=0.62994): 100%|██████████| 6/6 [00:07<00:00,  1.33s/it]\n",
      "Training (1751 / 18000 Steps) (loss=0.71677): 100%|██████████| 6/6 [00:08<00:00,  1.38s/it]\n",
      "Training (1757 / 18000 Steps) (loss=0.60535): 100%|██████████| 6/6 [00:08<00:00,  1.37s/it]\n",
      "Training (1763 / 18000 Steps) (loss=0.52542): 100%|██████████| 6/6 [00:07<00:00,  1.33s/it]\n",
      "Training (1769 / 18000 Steps) (loss=0.58555): 100%|██████████| 6/6 [00:07<00:00,  1.32s/it]\n",
      "Training (1775 / 18000 Steps) (loss=0.71479): 100%|██████████| 6/6 [00:08<00:00,  1.36s/it]\n",
      "Training (1781 / 18000 Steps) (loss=0.68779): 100%|██████████| 6/6 [00:08<00:00,  1.37s/it]\n",
      "Training (1787 / 18000 Steps) (loss=0.69769): 100%|██████████| 6/6 [00:07<00:00,  1.28s/it]\n",
      "Training (1793 / 18000 Steps) (loss=0.61950): 100%|██████████| 6/6 [00:07<00:00,  1.28s/it]\n",
      "Training (1799 / 18000 Steps) (loss=0.66145): 100%|██████████| 6/6 [00:07<00:00,  1.31s/it]\n",
      "Validate (1800 / 10 Steps): 100%|██████████| 3/3 [00:05<00:00,  1.89s/it]<?, ?it/s]\n",
      "Training (1800 / 18000 Steps) (loss=0.65537):  17%|█▋        | 1/6 [00:10<00:50, 10.10s/it]"
     ]
    },
    {
     "name": "stdout",
     "output_type": "stream",
     "text": [
      "Model Was Saved ! Current Best Avg. Dice: 0.1814005821943283 Current Avg. Dice: 0.1814005821943283 Current Avg. tumor Dice: 0.25003543496131897 Current Avg. lymph Dice: 0.11276575177907944\n"
     ]
    },
    {
     "name": "stderr",
     "output_type": "stream",
     "text": [
      "Training (1805 / 18000 Steps) (loss=0.61763): 100%|██████████| 6/6 [00:14<00:00,  2.45s/it]\n",
      "Training (1811 / 18000 Steps) (loss=0.58802): 100%|██████████| 6/6 [00:08<00:00,  1.35s/it]\n",
      "Training (1817 / 18000 Steps) (loss=0.53975): 100%|██████████| 6/6 [00:07<00:00,  1.30s/it]\n",
      "Training (1823 / 18000 Steps) (loss=0.51964): 100%|██████████| 6/6 [00:07<00:00,  1.32s/it]\n",
      "Training (1829 / 18000 Steps) (loss=0.69615): 100%|██████████| 6/6 [00:07<00:00,  1.29s/it]\n",
      "Training (1835 / 18000 Steps) (loss=0.69390): 100%|██████████| 6/6 [00:07<00:00,  1.31s/it]\n",
      "Training (1841 / 18000 Steps) (loss=0.58569): 100%|██████████| 6/6 [00:08<00:00,  1.41s/it]\n",
      "Training (1847 / 18000 Steps) (loss=0.63327): 100%|██████████| 6/6 [00:08<00:00,  1.34s/it]\n",
      "Training (1853 / 18000 Steps) (loss=0.66027): 100%|██████████| 6/6 [00:08<00:00,  1.37s/it]\n",
      "Training (1859 / 18000 Steps) (loss=0.62724): 100%|██████████| 6/6 [00:08<00:00,  1.34s/it]\n",
      "Training (1865 / 18000 Steps) (loss=0.57103): 100%|██████████| 6/6 [00:07<00:00,  1.33s/it]\n",
      "Training (1871 / 18000 Steps) (loss=0.66690): 100%|██████████| 6/6 [00:07<00:00,  1.28s/it]\n",
      "Training (1877 / 18000 Steps) (loss=0.61919): 100%|██████████| 6/6 [00:08<00:00,  1.45s/it]\n",
      "Training (1883 / 18000 Steps) (loss=0.58027): 100%|██████████| 6/6 [00:07<00:00,  1.32s/it]\n",
      "Training (1889 / 18000 Steps) (loss=0.70456): 100%|██████████| 6/6 [00:07<00:00,  1.30s/it]\n",
      "Training (1895 / 18000 Steps) (loss=0.62145): 100%|██████████| 6/6 [00:07<00:00,  1.30s/it]\n",
      "Validate (1896 / 10 Steps): 100%|██████████| 3/3 [00:05<00:00,  1.88s/it]<00:02,  1.26s/it]\n",
      "Training (1900 / 18000 Steps) (loss=0.66545):  83%|████████▎ | 5/6 [00:12<00:03,  3.17s/it]"
     ]
    },
    {
     "name": "stdout",
     "output_type": "stream",
     "text": [
      "Model Was Not Saved ! Current Best Avg. Dice: 0.1814005821943283 Current Avg. Dice: 0.11730816960334778 Current Avg. tumor Dice: 0.20007215440273285 Current Avg. lymph Dice: 0.0345441959798336\n"
     ]
    },
    {
     "name": "stderr",
     "output_type": "stream",
     "text": [
      "Training (1901 / 18000 Steps) (loss=0.57765): 100%|██████████| 6/6 [00:13<00:00,  2.29s/it]\n",
      "Training (1907 / 18000 Steps) (loss=0.71606): 100%|██████████| 6/6 [00:08<00:00,  1.43s/it]\n",
      "Training (1913 / 18000 Steps) (loss=0.70173): 100%|██████████| 6/6 [00:07<00:00,  1.33s/it]\n",
      "Training (1919 / 18000 Steps) (loss=0.69359): 100%|██████████| 6/6 [00:07<00:00,  1.31s/it]\n",
      "Training (1925 / 18000 Steps) (loss=0.61519): 100%|██████████| 6/6 [00:07<00:00,  1.33s/it]\n",
      "Training (1931 / 18000 Steps) (loss=0.65473): 100%|██████████| 6/6 [00:07<00:00,  1.29s/it]\n",
      "Training (1937 / 18000 Steps) (loss=0.67648): 100%|██████████| 6/6 [00:07<00:00,  1.31s/it]\n",
      "Training (1943 / 18000 Steps) (loss=0.61449): 100%|██████████| 6/6 [00:08<00:00,  1.36s/it]\n",
      "Training (1949 / 18000 Steps) (loss=0.59500): 100%|██████████| 6/6 [00:07<00:00,  1.31s/it]\n",
      "Training (1955 / 18000 Steps) (loss=0.68795): 100%|██████████| 6/6 [00:07<00:00,  1.32s/it]\n",
      "Training (1961 / 18000 Steps) (loss=0.66997): 100%|██████████| 6/6 [00:08<00:00,  1.38s/it]\n",
      "Training (1967 / 18000 Steps) (loss=0.67366): 100%|██████████| 6/6 [00:07<00:00,  1.30s/it]\n",
      "Training (1973 / 18000 Steps) (loss=0.62267): 100%|██████████| 6/6 [00:08<00:00,  1.38s/it]\n",
      "Training (1979 / 18000 Steps) (loss=0.63919): 100%|██████████| 6/6 [00:07<00:00,  1.29s/it]\n",
      "Training (1985 / 18000 Steps) (loss=0.68231): 100%|██████████| 6/6 [00:07<00:00,  1.27s/it]\n",
      "Training (1991 / 18000 Steps) (loss=0.71184): 100%|██████████| 6/6 [00:07<00:00,  1.30s/it]\n",
      "Training (1997 / 18000 Steps) (loss=0.70208): 100%|██████████| 6/6 [00:07<00:00,  1.30s/it]\n",
      "Validate (1998 / 10 Steps): 100%|██████████| 3/3 [00:05<00:00,  1.90s/it]<00:08,  2.08s/it]\n",
      "Training (2000 / 18000 Steps) (loss=0.66006):  50%|█████     | 3/6 [00:11<00:12,  4.21s/it]"
     ]
    },
    {
     "name": "stdout",
     "output_type": "stream",
     "text": [
      "Model Was Not Saved ! Current Best Avg. Dice: 0.1814005821943283 Current Avg. Dice: 0.1620326042175293 Current Avg. tumor Dice: 0.2474992871284485 Current Avg. lymph Dice: 0.07656592130661011\n"
     ]
    },
    {
     "name": "stderr",
     "output_type": "stream",
     "text": [
      "Training (2003 / 18000 Steps) (loss=0.57940): 100%|██████████| 6/6 [00:14<00:00,  2.34s/it]\n",
      "Training (2009 / 18000 Steps) (loss=0.69345): 100%|██████████| 6/6 [00:08<00:00,  1.35s/it]\n",
      "Training (2015 / 18000 Steps) (loss=0.65381): 100%|██████████| 6/6 [00:07<00:00,  1.32s/it]\n",
      "Training (2021 / 18000 Steps) (loss=0.69341): 100%|██████████| 6/6 [00:08<00:00,  1.38s/it]\n",
      "Training (2027 / 18000 Steps) (loss=0.61114): 100%|██████████| 6/6 [00:07<00:00,  1.29s/it]\n",
      "Training (2033 / 18000 Steps) (loss=0.68276): 100%|██████████| 6/6 [00:08<00:00,  1.35s/it]\n",
      "Training (2039 / 18000 Steps) (loss=0.68310): 100%|██████████| 6/6 [00:07<00:00,  1.33s/it]\n",
      "Training (2045 / 18000 Steps) (loss=0.49153): 100%|██████████| 6/6 [00:07<00:00,  1.33s/it]\n",
      "Training (2051 / 18000 Steps) (loss=0.61240): 100%|██████████| 6/6 [00:07<00:00,  1.29s/it]\n",
      "Training (2057 / 18000 Steps) (loss=0.68782): 100%|██████████| 6/6 [00:07<00:00,  1.32s/it]\n",
      "Training (2063 / 18000 Steps) (loss=0.68553): 100%|██████████| 6/6 [00:08<00:00,  1.39s/it]\n",
      "Training (2069 / 18000 Steps) (loss=0.68977): 100%|██████████| 6/6 [00:08<00:00,  1.35s/it]\n",
      "Training (2075 / 18000 Steps) (loss=0.57767): 100%|██████████| 6/6 [00:07<00:00,  1.33s/it]\n",
      "Training (2081 / 18000 Steps) (loss=0.54992): 100%|██████████| 6/6 [00:07<00:00,  1.29s/it]\n",
      "Training (2087 / 18000 Steps) (loss=0.64613): 100%|██████████| 6/6 [00:07<00:00,  1.31s/it]\n",
      "Training (2093 / 18000 Steps) (loss=0.64427): 100%|██████████| 6/6 [00:07<00:00,  1.32s/it]\n",
      "Training (2099 / 18000 Steps) (loss=0.60667): 100%|██████████| 6/6 [00:07<00:00,  1.32s/it]\n",
      "Validate (2100 / 10 Steps): 100%|██████████| 3/3 [00:05<00:00,  1.92s/it]<?, ?it/s]\n",
      "Training (2100 / 18000 Steps) (loss=0.61208):  17%|█▋        | 1/6 [00:09<00:48,  9.77s/it]"
     ]
    },
    {
     "name": "stdout",
     "output_type": "stream",
     "text": [
      "Model Was Not Saved ! Current Best Avg. Dice: 0.1814005821943283 Current Avg. Dice: 0.14170046150684357 Current Avg. tumor Dice: 0.2814014256000519 Current Avg. lymph Dice: 0.001999493921175599\n"
     ]
    },
    {
     "name": "stderr",
     "output_type": "stream",
     "text": [
      "Training (2105 / 18000 Steps) (loss=0.45700): 100%|██████████| 6/6 [00:14<00:00,  2.36s/it]\n",
      "Training (2111 / 18000 Steps) (loss=0.57217): 100%|██████████| 6/6 [00:08<00:00,  1.37s/it]\n",
      "Training (2117 / 18000 Steps) (loss=0.72543): 100%|██████████| 6/6 [00:08<00:00,  1.34s/it]\n",
      "Training (2123 / 18000 Steps) (loss=0.55865): 100%|██████████| 6/6 [00:07<00:00,  1.31s/it]\n",
      "Training (2129 / 18000 Steps) (loss=0.69795): 100%|██████████| 6/6 [00:07<00:00,  1.31s/it]\n",
      "Training (2135 / 18000 Steps) (loss=0.58742): 100%|██████████| 6/6 [00:08<00:00,  1.33s/it]\n",
      "Training (2141 / 18000 Steps) (loss=0.62646): 100%|██████████| 6/6 [00:08<00:00,  1.35s/it]\n",
      "Training (2147 / 18000 Steps) (loss=0.57889): 100%|██████████| 6/6 [00:08<00:00,  1.34s/it]\n",
      "Training (2153 / 18000 Steps) (loss=0.58500): 100%|██████████| 6/6 [00:07<00:00,  1.33s/it]\n",
      "Training (2159 / 18000 Steps) (loss=0.53529): 100%|██████████| 6/6 [00:08<00:00,  1.36s/it]\n",
      "Training (2165 / 18000 Steps) (loss=0.68577): 100%|██████████| 6/6 [00:08<00:00,  1.34s/it]\n",
      "Training (2171 / 18000 Steps) (loss=0.56660): 100%|██████████| 6/6 [00:07<00:00,  1.30s/it]\n",
      "Training (2177 / 18000 Steps) (loss=0.56605): 100%|██████████| 6/6 [00:07<00:00,  1.31s/it]\n",
      "Training (2183 / 18000 Steps) (loss=0.58349): 100%|██████████| 6/6 [00:08<00:00,  1.35s/it]\n",
      "Training (2189 / 18000 Steps) (loss=0.67509): 100%|██████████| 6/6 [00:08<00:00,  1.33s/it]\n",
      "Training (2195 / 18000 Steps) (loss=0.62672): 100%|██████████| 6/6 [00:07<00:00,  1.29s/it]\n",
      "Validate (2196 / 10 Steps): 100%|██████████| 3/3 [00:05<00:00,  1.87s/it]<00:02,  1.35s/it]\n",
      "Training (2200 / 18000 Steps) (loss=0.50494):  83%|████████▎ | 5/6 [00:13<00:03,  3.31s/it]"
     ]
    },
    {
     "name": "stdout",
     "output_type": "stream",
     "text": [
      "Model Was Not Saved ! Current Best Avg. Dice: 0.1814005821943283 Current Avg. Dice: 0.16913126409053802 Current Avg. tumor Dice: 0.2213064581155777 Current Avg. lymph Dice: 0.11695605516433716\n"
     ]
    },
    {
     "name": "stderr",
     "output_type": "stream",
     "text": [
      "Training (2201 / 18000 Steps) (loss=0.45802): 100%|██████████| 6/6 [00:14<00:00,  2.39s/it]\n",
      "Training (2207 / 18000 Steps) (loss=0.56667): 100%|██████████| 6/6 [00:08<00:00,  1.34s/it]\n",
      "Training (2213 / 18000 Steps) (loss=0.52756): 100%|██████████| 6/6 [00:08<00:00,  1.36s/it]\n",
      "Training (2219 / 18000 Steps) (loss=0.67915): 100%|██████████| 6/6 [00:07<00:00,  1.28s/it]\n",
      "Training (2225 / 18000 Steps) (loss=0.59354): 100%|██████████| 6/6 [00:07<00:00,  1.31s/it]\n",
      "Training (2231 / 18000 Steps) (loss=0.66587): 100%|██████████| 6/6 [00:08<00:00,  1.37s/it]\n",
      "Training (2237 / 18000 Steps) (loss=0.63837): 100%|██████████| 6/6 [00:08<00:00,  1.35s/it]\n",
      "Training (2243 / 18000 Steps) (loss=0.58987): 100%|██████████| 6/6 [00:07<00:00,  1.32s/it]\n",
      "Training (2249 / 18000 Steps) (loss=0.67141): 100%|██████████| 6/6 [00:08<00:00,  1.33s/it]\n",
      "Training (2255 / 18000 Steps) (loss=0.71810): 100%|██████████| 6/6 [00:07<00:00,  1.31s/it]\n",
      "Training (2261 / 18000 Steps) (loss=0.51947): 100%|██████████| 6/6 [00:08<00:00,  1.35s/it]\n",
      "Training (2267 / 18000 Steps) (loss=0.61112): 100%|██████████| 6/6 [00:08<00:00,  1.41s/it]\n",
      "Training (2273 / 18000 Steps) (loss=0.64573): 100%|██████████| 6/6 [00:07<00:00,  1.31s/it]\n",
      "Training (2279 / 18000 Steps) (loss=0.64727): 100%|██████████| 6/6 [00:07<00:00,  1.33s/it]\n",
      "Training (2285 / 18000 Steps) (loss=0.48573): 100%|██████████| 6/6 [00:07<00:00,  1.31s/it]\n",
      "Training (2291 / 18000 Steps) (loss=0.68326): 100%|██████████| 6/6 [00:07<00:00,  1.27s/it]\n",
      "Training (2297 / 18000 Steps) (loss=0.54364): 100%|██████████| 6/6 [00:08<00:00,  1.37s/it]\n",
      "Validate (2298 / 10 Steps): 100%|██████████| 3/3 [00:05<00:00,  1.93s/it]<00:08,  2.16s/it]\n",
      "Training (2300 / 18000 Steps) (loss=0.58475):  50%|█████     | 3/6 [00:12<00:13,  4.58s/it]"
     ]
    },
    {
     "name": "stdout",
     "output_type": "stream",
     "text": [
      "Model Was Saved ! Current Best Avg. Dice: 0.21878497302532196 Current Avg. Dice: 0.21878497302532196 Current Avg. tumor Dice: 0.3202911615371704 Current Avg. lymph Dice: 0.11727879196405411\n"
     ]
    },
    {
     "name": "stderr",
     "output_type": "stream",
     "text": [
      "Training (2303 / 18000 Steps) (loss=0.46946): 100%|██████████| 6/6 [00:14<00:00,  2.50s/it]\n",
      "Training (2309 / 18000 Steps) (loss=0.59739): 100%|██████████| 6/6 [00:08<00:00,  1.39s/it]\n",
      "Training (2315 / 18000 Steps) (loss=0.45166): 100%|██████████| 6/6 [00:08<00:00,  1.34s/it]\n",
      "Training (2321 / 18000 Steps) (loss=0.72009): 100%|██████████| 6/6 [00:08<00:00,  1.34s/it]\n",
      "Training (2327 / 18000 Steps) (loss=0.60358): 100%|██████████| 6/6 [00:07<00:00,  1.31s/it]\n",
      "Training (2333 / 18000 Steps) (loss=0.55755): 100%|██████████| 6/6 [00:08<00:00,  1.35s/it]\n",
      "Training (2339 / 18000 Steps) (loss=0.68547): 100%|██████████| 6/6 [00:08<00:00,  1.36s/it]\n",
      "Training (2345 / 18000 Steps) (loss=0.51971): 100%|██████████| 6/6 [00:07<00:00,  1.32s/it]\n",
      "Training (2351 / 18000 Steps) (loss=0.64715): 100%|██████████| 6/6 [00:07<00:00,  1.32s/it]\n",
      "Training (2357 / 18000 Steps) (loss=0.57039): 100%|██████████| 6/6 [00:08<00:00,  1.36s/it]\n",
      "Training (2363 / 18000 Steps) (loss=0.65704): 100%|██████████| 6/6 [00:07<00:00,  1.31s/it]\n",
      "Training (2369 / 18000 Steps) (loss=0.65542): 100%|██████████| 6/6 [00:08<00:00,  1.34s/it]\n",
      "Training (2375 / 18000 Steps) (loss=0.49889): 100%|██████████| 6/6 [00:07<00:00,  1.32s/it]\n",
      "Training (2381 / 18000 Steps) (loss=0.46382): 100%|██████████| 6/6 [00:07<00:00,  1.32s/it]\n",
      "Training (2387 / 18000 Steps) (loss=0.62305): 100%|██████████| 6/6 [00:07<00:00,  1.31s/it]\n",
      "Training (2393 / 18000 Steps) (loss=0.37513): 100%|██████████| 6/6 [00:08<00:00,  1.38s/it]\n",
      "Training (2399 / 18000 Steps) (loss=0.39601): 100%|██████████| 6/6 [00:08<00:00,  1.36s/it]\n",
      "Validate (2400 / 10 Steps): 100%|██████████| 3/3 [00:05<00:00,  1.80s/it]<?, ?it/s]\n",
      "Training (2400 / 18000 Steps) (loss=0.62040):  17%|█▋        | 1/6 [00:08<00:44,  8.96s/it]"
     ]
    },
    {
     "name": "stdout",
     "output_type": "stream",
     "text": [
      "Model Was Not Saved ! Current Best Avg. Dice: 0.21878497302532196 Current Avg. Dice: 0.12651388347148895 Current Avg. tumor Dice: 0.2361549586057663 Current Avg. lymph Dice: 0.0168728306889534\n"
     ]
    },
    {
     "name": "stderr",
     "output_type": "stream",
     "text": [
      "Training (2405 / 18000 Steps) (loss=0.48423): 100%|██████████| 6/6 [00:13<00:00,  2.20s/it]\n",
      "Training (2411 / 18000 Steps) (loss=0.55787): 100%|██████████| 6/6 [00:07<00:00,  1.32s/it]\n",
      "Training (2417 / 18000 Steps) (loss=0.54542): 100%|██████████| 6/6 [00:07<00:00,  1.30s/it]\n",
      "Training (2423 / 18000 Steps) (loss=0.65661): 100%|██████████| 6/6 [00:08<00:00,  1.39s/it]\n",
      "Training (2429 / 18000 Steps) (loss=0.50668): 100%|██████████| 6/6 [00:07<00:00,  1.32s/it]\n",
      "Training (2435 / 18000 Steps) (loss=0.52397): 100%|██████████| 6/6 [00:07<00:00,  1.31s/it]\n",
      "Training (2441 / 18000 Steps) (loss=0.45479): 100%|██████████| 6/6 [00:07<00:00,  1.29s/it]\n",
      "Training (2447 / 18000 Steps) (loss=0.52342): 100%|██████████| 6/6 [00:07<00:00,  1.32s/it]\n",
      "Training (2453 / 18000 Steps) (loss=0.69949): 100%|██████████| 6/6 [00:07<00:00,  1.33s/it]\n",
      "Training (2459 / 18000 Steps) (loss=0.59241): 100%|██████████| 6/6 [00:08<00:00,  1.37s/it]\n",
      "Training (2465 / 18000 Steps) (loss=0.62908): 100%|██████████| 6/6 [00:08<00:00,  1.33s/it]\n",
      "Training (2471 / 18000 Steps) (loss=0.55814): 100%|██████████| 6/6 [00:08<00:00,  1.39s/it]\n",
      "Training (2477 / 18000 Steps) (loss=0.54183): 100%|██████████| 6/6 [00:08<00:00,  1.37s/it]\n",
      "Training (2483 / 18000 Steps) (loss=0.62524): 100%|██████████| 6/6 [00:07<00:00,  1.30s/it]\n",
      "Training (2489 / 18000 Steps) (loss=0.50024): 100%|██████████| 6/6 [00:07<00:00,  1.29s/it]\n",
      "Training (2495 / 18000 Steps) (loss=0.60051): 100%|██████████| 6/6 [00:08<00:00,  1.39s/it]\n",
      "Validate (2496 / 10 Steps): 100%|██████████| 3/3 [00:05<00:00,  1.83s/it]<00:02,  1.23s/it]\n",
      "Training (2500 / 18000 Steps) (loss=0.60404):  83%|████████▎ | 5/6 [00:12<00:03,  3.12s/it]"
     ]
    },
    {
     "name": "stdout",
     "output_type": "stream",
     "text": [
      "Model Was Not Saved ! Current Best Avg. Dice: 0.21878497302532196 Current Avg. Dice: 0.16163493692874908 Current Avg. tumor Dice: 0.31643855571746826 Current Avg. lymph Dice: 0.006831316743046045\n"
     ]
    },
    {
     "name": "stderr",
     "output_type": "stream",
     "text": [
      "Training (2501 / 18000 Steps) (loss=0.49478): 100%|██████████| 6/6 [00:13<00:00,  2.25s/it]\n",
      "Training (2507 / 18000 Steps) (loss=0.43429): 100%|██████████| 6/6 [00:07<00:00,  1.30s/it]\n",
      "Training (2513 / 18000 Steps) (loss=0.56463): 100%|██████████| 6/6 [00:08<00:00,  1.35s/it]\n",
      "Training (2519 / 18000 Steps) (loss=0.47095): 100%|██████████| 6/6 [00:08<00:00,  1.39s/it]\n",
      "Training (2525 / 18000 Steps) (loss=0.54399): 100%|██████████| 6/6 [00:08<00:00,  1.40s/it]\n",
      "Training (2531 / 18000 Steps) (loss=0.62314): 100%|██████████| 6/6 [00:08<00:00,  1.41s/it]\n",
      "Training (2537 / 18000 Steps) (loss=0.59114): 100%|██████████| 6/6 [00:07<00:00,  1.31s/it]\n",
      "Training (2543 / 18000 Steps) (loss=0.67101): 100%|██████████| 6/6 [00:08<00:00,  1.33s/it]\n",
      "Training (2549 / 18000 Steps) (loss=0.46790): 100%|██████████| 6/6 [00:07<00:00,  1.29s/it]\n",
      "Training (2555 / 18000 Steps) (loss=0.54440): 100%|██████████| 6/6 [00:07<00:00,  1.30s/it]\n",
      "Training (2561 / 18000 Steps) (loss=0.49433): 100%|██████████| 6/6 [00:07<00:00,  1.31s/it]\n",
      "Training (2567 / 18000 Steps) (loss=0.56770): 100%|██████████| 6/6 [00:08<00:00,  1.37s/it]\n",
      "Training (2573 / 18000 Steps) (loss=0.51841): 100%|██████████| 6/6 [00:08<00:00,  1.40s/it]\n",
      "Training (2579 / 18000 Steps) (loss=0.63025): 100%|██████████| 6/6 [00:08<00:00,  1.36s/it]\n",
      "Training (2585 / 18000 Steps) (loss=0.62480): 100%|██████████| 6/6 [00:08<00:00,  1.40s/it]\n",
      "Training (2591 / 18000 Steps) (loss=0.65909): 100%|██████████| 6/6 [00:07<00:00,  1.33s/it]\n",
      "Training (2597 / 18000 Steps) (loss=0.60589): 100%|██████████| 6/6 [00:08<00:00,  1.34s/it]\n",
      "Validate (2598 / 10 Steps): 100%|██████████| 3/3 [00:05<00:00,  1.89s/it]<00:08,  2.12s/it]\n",
      "Training (2600 / 18000 Steps) (loss=0.58319):  50%|█████     | 3/6 [00:11<00:12,  4.15s/it]"
     ]
    },
    {
     "name": "stdout",
     "output_type": "stream",
     "text": [
      "Model Was Not Saved ! Current Best Avg. Dice: 0.21878497302532196 Current Avg. Dice: 0.13056541979312897 Current Avg. tumor Dice: 0.17896734178066254 Current Avg. lymph Dice: 0.08216351270675659\n"
     ]
    },
    {
     "name": "stderr",
     "output_type": "stream",
     "text": [
      "Training (2603 / 18000 Steps) (loss=0.56470): 100%|██████████| 6/6 [00:13<00:00,  2.31s/it]\n",
      "Training (2609 / 18000 Steps) (loss=0.53758): 100%|██████████| 6/6 [00:07<00:00,  1.30s/it]\n",
      "Training (2615 / 18000 Steps) (loss=0.54550): 100%|██████████| 6/6 [00:08<00:00,  1.40s/it]\n",
      "Training (2621 / 18000 Steps) (loss=0.46107): 100%|██████████| 6/6 [00:08<00:00,  1.45s/it]\n",
      "Training (2627 / 18000 Steps) (loss=0.59352): 100%|██████████| 6/6 [00:08<00:00,  1.35s/it]\n",
      "Training (2633 / 18000 Steps) (loss=0.54193): 100%|██████████| 6/6 [00:07<00:00,  1.32s/it]\n",
      "Training (2639 / 18000 Steps) (loss=0.61406): 100%|██████████| 6/6 [00:07<00:00,  1.30s/it]\n",
      "Training (2645 / 18000 Steps) (loss=0.54217): 100%|██████████| 6/6 [00:07<00:00,  1.31s/it]\n",
      "Training (2651 / 18000 Steps) (loss=0.62179): 100%|██████████| 6/6 [00:08<00:00,  1.36s/it]\n",
      "Training (2657 / 18000 Steps) (loss=0.63961): 100%|██████████| 6/6 [00:07<00:00,  1.29s/it]\n",
      "Training (2663 / 18000 Steps) (loss=0.56401): 100%|██████████| 6/6 [00:08<00:00,  1.34s/it]\n",
      "Training (2669 / 18000 Steps) (loss=0.56149): 100%|██████████| 6/6 [00:08<00:00,  1.40s/it]\n",
      "Training (2675 / 18000 Steps) (loss=0.65834): 100%|██████████| 6/6 [00:07<00:00,  1.32s/it]\n",
      "Training (2681 / 18000 Steps) (loss=0.59258): 100%|██████████| 6/6 [00:08<00:00,  1.34s/it]\n",
      "Training (2687 / 18000 Steps) (loss=0.60900): 100%|██████████| 6/6 [00:08<00:00,  1.37s/it]\n",
      "Training (2693 / 18000 Steps) (loss=0.54241): 100%|██████████| 6/6 [00:07<00:00,  1.29s/it]\n",
      "Training (2699 / 18000 Steps) (loss=0.59788): 100%|██████████| 6/6 [00:07<00:00,  1.31s/it]\n",
      "Validate (2700 / 10 Steps): 100%|██████████| 3/3 [00:05<00:00,  1.85s/it]<?, ?it/s]\n",
      "Training (2700 / 18000 Steps) (loss=0.52727):  17%|█▋        | 1/6 [00:09<00:49,  9.90s/it]"
     ]
    },
    {
     "name": "stdout",
     "output_type": "stream",
     "text": [
      "Model Was Saved ! Current Best Avg. Dice: 0.23150114715099335 Current Avg. Dice: 0.23150114715099335 Current Avg. tumor Dice: 0.32457831501960754 Current Avg. lymph Dice: 0.13842396438121796\n"
     ]
    },
    {
     "name": "stderr",
     "output_type": "stream",
     "text": [
      "Training (2705 / 18000 Steps) (loss=0.62906): 100%|██████████| 6/6 [00:14<00:00,  2.37s/it]\n",
      "Training (2711 / 18000 Steps) (loss=0.55662): 100%|██████████| 6/6 [00:08<00:00,  1.34s/it]\n",
      "Training (2717 / 18000 Steps) (loss=0.64558): 100%|██████████| 6/6 [00:08<00:00,  1.42s/it]\n",
      "Training (2723 / 18000 Steps) (loss=0.56314): 100%|██████████| 6/6 [00:08<00:00,  1.38s/it]\n",
      "Training (2729 / 18000 Steps) (loss=0.58945): 100%|██████████| 6/6 [00:07<00:00,  1.32s/it]\n",
      "Training (2735 / 18000 Steps) (loss=0.59605): 100%|██████████| 6/6 [00:08<00:00,  1.35s/it]\n",
      "Training (2741 / 18000 Steps) (loss=0.56302): 100%|██████████| 6/6 [00:07<00:00,  1.31s/it]\n",
      "Training (2747 / 18000 Steps) (loss=0.58427): 100%|██████████| 6/6 [00:07<00:00,  1.28s/it]\n",
      "Training (2753 / 18000 Steps) (loss=0.49230): 100%|██████████| 6/6 [00:07<00:00,  1.29s/it]\n",
      "Training (2759 / 18000 Steps) (loss=0.55808): 100%|██████████| 6/6 [00:08<00:00,  1.37s/it]\n",
      "Training (2765 / 18000 Steps) (loss=0.58008): 100%|██████████| 6/6 [00:08<00:00,  1.42s/it]\n",
      "Training (2771 / 18000 Steps) (loss=0.55788): 100%|██████████| 6/6 [00:08<00:00,  1.34s/it]\n",
      "Training (2777 / 18000 Steps) (loss=0.53481): 100%|██████████| 6/6 [00:08<00:00,  1.41s/it]\n",
      "Training (2783 / 18000 Steps) (loss=0.59349): 100%|██████████| 6/6 [00:08<00:00,  1.41s/it]\n",
      "Training (2789 / 18000 Steps) (loss=0.52048): 100%|██████████| 6/6 [00:07<00:00,  1.30s/it]\n",
      "Training (2795 / 18000 Steps) (loss=0.56270): 100%|██████████| 6/6 [00:07<00:00,  1.30s/it]\n",
      "Validate (2796 / 10 Steps): 100%|██████████| 3/3 [00:05<00:00,  1.95s/it]<00:02,  1.29s/it]\n",
      "Training (2800 / 18000 Steps) (loss=0.58020):  83%|████████▎ | 5/6 [00:13<00:03,  3.26s/it]"
     ]
    },
    {
     "name": "stdout",
     "output_type": "stream",
     "text": [
      "Model Was Not Saved ! Current Best Avg. Dice: 0.23150114715099335 Current Avg. Dice: 0.19120915234088898 Current Avg. tumor Dice: 0.28063902258872986 Current Avg. lymph Dice: 0.10177931934595108\n"
     ]
    },
    {
     "name": "stderr",
     "output_type": "stream",
     "text": [
      "Training (2801 / 18000 Steps) (loss=0.51738): 100%|██████████| 6/6 [00:14<00:00,  2.34s/it]\n",
      "Training (2807 / 18000 Steps) (loss=0.48843): 100%|██████████| 6/6 [00:08<00:00,  1.36s/it]\n",
      "Training (2813 / 18000 Steps) (loss=0.44553): 100%|██████████| 6/6 [00:08<00:00,  1.41s/it]\n",
      "Training (2819 / 18000 Steps) (loss=0.52550): 100%|██████████| 6/6 [00:08<00:00,  1.37s/it]\n",
      "Training (2825 / 18000 Steps) (loss=0.42555): 100%|██████████| 6/6 [00:08<00:00,  1.35s/it]\n",
      "Training (2831 / 18000 Steps) (loss=0.51917): 100%|██████████| 6/6 [00:07<00:00,  1.32s/it]\n",
      "Training (2837 / 18000 Steps) (loss=0.63330): 100%|██████████| 6/6 [00:08<00:00,  1.34s/it]\n",
      "Training (2843 / 18000 Steps) (loss=0.49258): 100%|██████████| 6/6 [00:08<00:00,  1.35s/it]\n",
      "Training (2849 / 18000 Steps) (loss=0.63347): 100%|██████████| 6/6 [00:07<00:00,  1.32s/it]\n",
      "Training (2855 / 18000 Steps) (loss=0.57415): 100%|██████████| 6/6 [00:07<00:00,  1.33s/it]\n",
      "Training (2861 / 18000 Steps) (loss=0.44940): 100%|██████████| 6/6 [00:08<00:00,  1.36s/it]\n",
      "Training (2867 / 18000 Steps) (loss=0.61467): 100%|██████████| 6/6 [00:08<00:00,  1.35s/it]\n",
      "Training (2873 / 18000 Steps) (loss=0.54826): 100%|██████████| 6/6 [00:07<00:00,  1.33s/it]\n",
      "Training (2879 / 18000 Steps) (loss=0.47548): 100%|██████████| 6/6 [00:08<00:00,  1.45s/it]\n",
      "Training (2885 / 18000 Steps) (loss=0.55311): 100%|██████████| 6/6 [00:07<00:00,  1.32s/it]\n",
      "Training (2891 / 18000 Steps) (loss=0.41549): 100%|██████████| 6/6 [00:07<00:00,  1.31s/it]\n",
      "Training (2897 / 18000 Steps) (loss=0.56132): 100%|██████████| 6/6 [00:07<00:00,  1.30s/it]\n",
      "Validate (2898 / 10 Steps): 100%|██████████| 3/3 [00:05<00:00,  1.88s/it]<00:08,  2.07s/it]\n",
      "Training (2900 / 18000 Steps) (loss=0.57830):  50%|█████     | 3/6 [00:11<00:12,  4.13s/it]"
     ]
    },
    {
     "name": "stdout",
     "output_type": "stream",
     "text": [
      "Model Was Not Saved ! Current Best Avg. Dice: 0.23150114715099335 Current Avg. Dice: 0.12973591685295105 Current Avg. tumor Dice: 0.2336413711309433 Current Avg. lymph Dice: 0.025830432772636414\n"
     ]
    },
    {
     "name": "stderr",
     "output_type": "stream",
     "text": [
      "Training (2903 / 18000 Steps) (loss=0.59333): 100%|██████████| 6/6 [00:13<00:00,  2.29s/it]\n",
      "Training (2909 / 18000 Steps) (loss=0.39259): 100%|██████████| 6/6 [00:08<00:00,  1.42s/it]\n",
      "Training (2915 / 18000 Steps) (loss=0.64437): 100%|██████████| 6/6 [00:08<00:00,  1.34s/it]\n",
      "Training (2921 / 18000 Steps) (loss=0.52431): 100%|██████████| 6/6 [00:08<00:00,  1.36s/it]\n",
      "Training (2927 / 18000 Steps) (loss=0.45275): 100%|██████████| 6/6 [00:08<00:00,  1.36s/it]\n",
      "Training (2933 / 18000 Steps) (loss=0.70950): 100%|██████████| 6/6 [00:08<00:00,  1.36s/it]\n",
      "Training (2939 / 18000 Steps) (loss=0.60050): 100%|██████████| 6/6 [00:07<00:00,  1.32s/it]\n",
      "Training (2945 / 18000 Steps) (loss=0.43664): 100%|██████████| 6/6 [00:07<00:00,  1.30s/it]\n",
      "Training (2951 / 18000 Steps) (loss=0.54476): 100%|██████████| 6/6 [00:08<00:00,  1.34s/it]\n",
      "Training (2957 / 18000 Steps) (loss=0.52188): 100%|██████████| 6/6 [00:07<00:00,  1.32s/it]\n",
      "Training (2963 / 18000 Steps) (loss=0.62850): 100%|██████████| 6/6 [00:07<00:00,  1.30s/it]\n",
      "Training (2969 / 18000 Steps) (loss=0.52238): 100%|██████████| 6/6 [00:08<00:00,  1.35s/it]\n",
      "Training (2975 / 18000 Steps) (loss=0.53655): 100%|██████████| 6/6 [00:09<00:00,  1.50s/it]\n",
      "Training (2981 / 18000 Steps) (loss=0.58139): 100%|██████████| 6/6 [00:08<00:00,  1.36s/it]\n",
      "Training (2987 / 18000 Steps) (loss=0.68551): 100%|██████████| 6/6 [00:07<00:00,  1.30s/it]\n",
      "Training (2993 / 18000 Steps) (loss=0.61883): 100%|██████████| 6/6 [00:07<00:00,  1.32s/it]\n",
      "Training (2999 / 18000 Steps) (loss=0.60744): 100%|██████████| 6/6 [00:08<00:00,  1.36s/it]\n",
      "Validate (3000 / 10 Steps): 100%|██████████| 3/3 [00:05<00:00,  1.90s/it]<?, ?it/s]\n",
      "Training (3000 / 18000 Steps) (loss=0.44915):  17%|█▋        | 1/6 [00:09<00:46,  9.24s/it]"
     ]
    },
    {
     "name": "stdout",
     "output_type": "stream",
     "text": [
      "Model Was Not Saved ! Current Best Avg. Dice: 0.23150114715099335 Current Avg. Dice: 0.16251035034656525 Current Avg. tumor Dice: 0.23709219694137573 Current Avg. lymph Dice: 0.08792850375175476\n"
     ]
    },
    {
     "name": "stderr",
     "output_type": "stream",
     "text": [
      "Training (3005 / 18000 Steps) (loss=0.58087): 100%|██████████| 6/6 [00:13<00:00,  2.25s/it]\n",
      "Training (3011 / 18000 Steps) (loss=0.43569): 100%|██████████| 6/6 [00:08<00:00,  1.35s/it]\n",
      "Training (3017 / 18000 Steps) (loss=0.50000): 100%|██████████| 6/6 [00:08<00:00,  1.35s/it]\n",
      "Training (3023 / 18000 Steps) (loss=0.47680): 100%|██████████| 6/6 [00:08<00:00,  1.37s/it]\n",
      "Training (3029 / 18000 Steps) (loss=0.52385): 100%|██████████| 6/6 [00:08<00:00,  1.41s/it]\n",
      "Training (3035 / 18000 Steps) (loss=0.42486): 100%|██████████| 6/6 [00:07<00:00,  1.33s/it]\n",
      "Training (3041 / 18000 Steps) (loss=0.65577): 100%|██████████| 6/6 [00:08<00:00,  1.37s/it]\n",
      "Training (3047 / 18000 Steps) (loss=0.43102): 100%|██████████| 6/6 [00:08<00:00,  1.37s/it]\n",
      "Training (3053 / 18000 Steps) (loss=0.66126): 100%|██████████| 6/6 [00:07<00:00,  1.33s/it]\n",
      "Training (3059 / 18000 Steps) (loss=0.68449): 100%|██████████| 6/6 [00:07<00:00,  1.33s/it]\n",
      "Training (3065 / 18000 Steps) (loss=0.56250): 100%|██████████| 6/6 [00:07<00:00,  1.32s/it]\n",
      "Training (3071 / 18000 Steps) (loss=0.62653): 100%|██████████| 6/6 [00:08<00:00,  1.40s/it]\n",
      "Training (3077 / 18000 Steps) (loss=0.54244): 100%|██████████| 6/6 [00:08<00:00,  1.39s/it]\n",
      "Training (3083 / 18000 Steps) (loss=0.48187): 100%|██████████| 6/6 [00:07<00:00,  1.30s/it]\n",
      "Training (3089 / 18000 Steps) (loss=0.40622): 100%|██████████| 6/6 [00:08<00:00,  1.39s/it]\n",
      "Training (3095 / 18000 Steps) (loss=0.46678): 100%|██████████| 6/6 [00:08<00:00,  1.34s/it]\n",
      "Validate (3096 / 10 Steps): 100%|██████████| 3/3 [00:05<00:00,  1.89s/it]<00:02,  1.25s/it]\n",
      "Training (3100 / 18000 Steps) (loss=0.58372):  83%|████████▎ | 5/6 [00:13<00:03,  3.47s/it]"
     ]
    },
    {
     "name": "stdout",
     "output_type": "stream",
     "text": [
      "Model Was Saved ! Current Best Avg. Dice: 0.24061858654022217 Current Avg. Dice: 0.24061858654022217 Current Avg. tumor Dice: 0.33044764399528503 Current Avg. lymph Dice: 0.1507895290851593\n"
     ]
    },
    {
     "name": "stderr",
     "output_type": "stream",
     "text": [
      "Training (3101 / 18000 Steps) (loss=0.61070): 100%|██████████| 6/6 [00:14<00:00,  2.42s/it]\n",
      "Training (3107 / 18000 Steps) (loss=0.57706): 100%|██████████| 6/6 [00:08<00:00,  1.37s/it]\n",
      "Training (3113 / 18000 Steps) (loss=0.45065): 100%|██████████| 6/6 [00:08<00:00,  1.35s/it]\n",
      "Training (3119 / 18000 Steps) (loss=0.47518): 100%|██████████| 6/6 [00:08<00:00,  1.33s/it]\n",
      "Training (3125 / 18000 Steps) (loss=0.60827): 100%|██████████| 6/6 [00:08<00:00,  1.39s/it]\n",
      "Training (3131 / 18000 Steps) (loss=0.51141): 100%|██████████| 6/6 [00:07<00:00,  1.33s/it]\n",
      "Training (3137 / 18000 Steps) (loss=0.44544): 100%|██████████| 6/6 [00:08<00:00,  1.34s/it]\n",
      "Training (3143 / 18000 Steps) (loss=0.49056): 100%|██████████| 6/6 [00:07<00:00,  1.33s/it]\n",
      "Training (3149 / 18000 Steps) (loss=0.55801): 100%|██████████| 6/6 [00:07<00:00,  1.32s/it]\n",
      "Training (3155 / 18000 Steps) (loss=0.41159): 100%|██████████| 6/6 [00:08<00:00,  1.35s/it]\n",
      "Training (3161 / 18000 Steps) (loss=0.51717): 100%|██████████| 6/6 [00:08<00:00,  1.34s/it]\n",
      "Training (3167 / 18000 Steps) (loss=0.48160): 100%|██████████| 6/6 [00:08<00:00,  1.39s/it]\n",
      "Training (3173 / 18000 Steps) (loss=0.48190): 100%|██████████| 6/6 [00:08<00:00,  1.34s/it]\n",
      "Training (3179 / 18000 Steps) (loss=0.47130): 100%|██████████| 6/6 [00:08<00:00,  1.34s/it]\n",
      "Training (3185 / 18000 Steps) (loss=0.52227): 100%|██████████| 6/6 [00:08<00:00,  1.41s/it]\n",
      "Training (3191 / 18000 Steps) (loss=0.53542): 100%|██████████| 6/6 [00:07<00:00,  1.32s/it]\n",
      "Training (3197 / 18000 Steps) (loss=0.63588): 100%|██████████| 6/6 [00:08<00:00,  1.40s/it]\n",
      "Validate (3198 / 10 Steps): 100%|██████████| 3/3 [00:05<00:00,  1.90s/it]<00:08,  2.04s/it]\n",
      "Training (3200 / 18000 Steps) (loss=0.57452):  50%|█████     | 3/6 [00:11<00:12,  4.13s/it]"
     ]
    },
    {
     "name": "stdout",
     "output_type": "stream",
     "text": [
      "Model Was Not Saved ! Current Best Avg. Dice: 0.24061858654022217 Current Avg. Dice: 0.1881752610206604 Current Avg. tumor Dice: 0.2915137708187103 Current Avg. lymph Dice: 0.08483674377202988\n"
     ]
    },
    {
     "name": "stderr",
     "output_type": "stream",
     "text": [
      "Training (3203 / 18000 Steps) (loss=0.49211): 100%|██████████| 6/6 [00:13<00:00,  2.27s/it]\n",
      "Training (3209 / 18000 Steps) (loss=0.63395): 100%|██████████| 6/6 [00:08<00:00,  1.36s/it]\n",
      "Training (3215 / 18000 Steps) (loss=0.55868): 100%|██████████| 6/6 [00:07<00:00,  1.31s/it]\n",
      "Training (3221 / 18000 Steps) (loss=0.66440): 100%|██████████| 6/6 [00:08<00:00,  1.38s/it]\n",
      "Training (3227 / 18000 Steps) (loss=0.46727): 100%|██████████| 6/6 [00:08<00:00,  1.42s/it]\n",
      "Training (3233 / 18000 Steps) (loss=0.65040): 100%|██████████| 6/6 [00:08<00:00,  1.45s/it]\n",
      "Training (3239 / 18000 Steps) (loss=0.49097): 100%|██████████| 6/6 [00:07<00:00,  1.33s/it]\n",
      "Training (3245 / 18000 Steps) (loss=0.49264): 100%|██████████| 6/6 [00:07<00:00,  1.31s/it]\n",
      "Training (3251 / 18000 Steps) (loss=0.67315): 100%|██████████| 6/6 [00:08<00:00,  1.36s/it]\n",
      "Training (3257 / 18000 Steps) (loss=0.58429): 100%|██████████| 6/6 [00:07<00:00,  1.32s/it]\n",
      "Training (3263 / 18000 Steps) (loss=0.51142): 100%|██████████| 6/6 [00:08<00:00,  1.34s/it]\n",
      "Training (3269 / 18000 Steps) (loss=0.65345): 100%|██████████| 6/6 [00:08<00:00,  1.40s/it]\n",
      "Training (3275 / 18000 Steps) (loss=0.50517): 100%|██████████| 6/6 [00:08<00:00,  1.34s/it]\n",
      "Training (3281 / 18000 Steps) (loss=0.64306): 100%|██████████| 6/6 [00:08<00:00,  1.39s/it]\n",
      "Training (3287 / 18000 Steps) (loss=0.48698): 100%|██████████| 6/6 [00:07<00:00,  1.31s/it]\n",
      "Training (3293 / 18000 Steps) (loss=0.58137): 100%|██████████| 6/6 [00:08<00:00,  1.36s/it]\n",
      "Training (3299 / 18000 Steps) (loss=0.49649): 100%|██████████| 6/6 [00:08<00:00,  1.42s/it]\n",
      "Validate (3300 / 10 Steps): 100%|██████████| 3/3 [00:05<00:00,  1.87s/it]<?, ?it/s]\n",
      "Training (3300 / 18000 Steps) (loss=0.52670):  17%|█▋        | 1/6 [00:09<00:46,  9.34s/it]"
     ]
    },
    {
     "name": "stdout",
     "output_type": "stream",
     "text": [
      "Model Was Not Saved ! Current Best Avg. Dice: 0.24061858654022217 Current Avg. Dice: 0.23851768672466278 Current Avg. tumor Dice: 0.33584728837013245 Current Avg. lymph Dice: 0.14118805527687073\n"
     ]
    },
    {
     "name": "stderr",
     "output_type": "stream",
     "text": [
      "Training (3305 / 18000 Steps) (loss=0.60306): 100%|██████████| 6/6 [00:13<00:00,  2.29s/it]\n",
      "Training (3311 / 18000 Steps) (loss=0.57172): 100%|██████████| 6/6 [00:07<00:00,  1.32s/it]\n",
      "Training (3317 / 18000 Steps) (loss=0.63042): 100%|██████████| 6/6 [00:08<00:00,  1.34s/it]\n",
      "Training (3323 / 18000 Steps) (loss=0.65845): 100%|██████████| 6/6 [00:08<00:00,  1.37s/it]\n",
      "Training (3329 / 18000 Steps) (loss=0.40972): 100%|██████████| 6/6 [00:08<00:00,  1.42s/it]\n",
      "Training (3335 / 18000 Steps) (loss=0.66492): 100%|██████████| 6/6 [00:08<00:00,  1.38s/it]\n",
      "Training (3341 / 18000 Steps) (loss=0.51145): 100%|██████████| 6/6 [00:08<00:00,  1.37s/it]\n",
      "Training (3347 / 18000 Steps) (loss=0.48541): 100%|██████████| 6/6 [00:08<00:00,  1.36s/it]\n",
      "Training (3353 / 18000 Steps) (loss=0.58744): 100%|██████████| 6/6 [00:08<00:00,  1.37s/it]\n",
      "Training (3359 / 18000 Steps) (loss=0.49947): 100%|██████████| 6/6 [00:08<00:00,  1.34s/it]\n",
      "Training (3365 / 18000 Steps) (loss=0.60877): 100%|██████████| 6/6 [00:08<00:00,  1.38s/it]\n",
      "Training (3371 / 18000 Steps) (loss=0.60296): 100%|██████████| 6/6 [00:08<00:00,  1.35s/it]\n",
      "Training (3377 / 18000 Steps) (loss=0.58484): 100%|██████████| 6/6 [00:07<00:00,  1.31s/it]\n",
      "Training (3383 / 18000 Steps) (loss=0.59931): 100%|██████████| 6/6 [00:07<00:00,  1.32s/it]\n",
      "Training (3389 / 18000 Steps) (loss=0.62320): 100%|██████████| 6/6 [00:08<00:00,  1.38s/it]\n",
      "Training (3395 / 18000 Steps) (loss=0.63949): 100%|██████████| 6/6 [00:07<00:00,  1.33s/it]\n",
      "Validate (3396 / 10 Steps): 100%|██████████| 3/3 [00:05<00:00,  1.90s/it]<00:02,  1.21s/it]\n",
      "Training (3400 / 18000 Steps) (loss=0.46063):  83%|████████▎ | 5/6 [00:12<00:03,  3.15s/it]"
     ]
    },
    {
     "name": "stdout",
     "output_type": "stream",
     "text": [
      "Model Was Not Saved ! Current Best Avg. Dice: 0.24061858654022217 Current Avg. Dice: 0.2280896157026291 Current Avg. tumor Dice: 0.35690101981163025 Current Avg. lymph Dice: 0.09927818924188614\n"
     ]
    },
    {
     "name": "stderr",
     "output_type": "stream",
     "text": [
      "Training (3401 / 18000 Steps) (loss=0.43301): 100%|██████████| 6/6 [00:13<00:00,  2.24s/it]\n",
      "Training (3407 / 18000 Steps) (loss=0.42008): 100%|██████████| 6/6 [00:07<00:00,  1.31s/it]\n",
      "Training (3413 / 18000 Steps) (loss=0.46883): 100%|██████████| 6/6 [00:07<00:00,  1.31s/it]\n",
      "Training (3419 / 18000 Steps) (loss=0.47957): 100%|██████████| 6/6 [00:08<00:00,  1.34s/it]\n",
      "Training (3425 / 18000 Steps) (loss=0.63563): 100%|██████████| 6/6 [00:08<00:00,  1.37s/it]\n",
      "Training (3431 / 18000 Steps) (loss=0.62306): 100%|██████████| 6/6 [00:08<00:00,  1.36s/it]\n",
      "Training (3437 / 18000 Steps) (loss=0.43746): 100%|██████████| 6/6 [00:07<00:00,  1.31s/it]\n",
      "Training (3443 / 18000 Steps) (loss=0.31495): 100%|██████████| 6/6 [00:08<00:00,  1.37s/it]\n",
      "Training (3449 / 18000 Steps) (loss=0.51550): 100%|██████████| 6/6 [00:07<00:00,  1.31s/it]\n",
      "Training (3455 / 18000 Steps) (loss=0.58883): 100%|██████████| 6/6 [00:08<00:00,  1.35s/it]\n",
      "Training (3461 / 18000 Steps) (loss=0.52980): 100%|██████████| 6/6 [00:08<00:00,  1.39s/it]\n",
      "Training (3467 / 18000 Steps) (loss=0.55947): 100%|██████████| 6/6 [00:07<00:00,  1.32s/it]\n",
      "Training (3473 / 18000 Steps) (loss=0.42779): 100%|██████████| 6/6 [00:08<00:00,  1.41s/it]\n",
      "Training (3479 / 18000 Steps) (loss=0.34135): 100%|██████████| 6/6 [00:08<00:00,  1.38s/it]\n",
      "Training (3485 / 18000 Steps) (loss=0.64506): 100%|██████████| 6/6 [00:08<00:00,  1.38s/it]\n",
      "Training (3491 / 18000 Steps) (loss=0.50718): 100%|██████████| 6/6 [00:08<00:00,  1.44s/it]\n",
      "Training (3497 / 18000 Steps) (loss=0.50174): 100%|██████████| 6/6 [00:08<00:00,  1.38s/it]\n",
      "Validate (3498 / 10 Steps): 100%|██████████| 3/3 [00:05<00:00,  1.87s/it]<00:08,  2.11s/it]\n",
      "Training (3500 / 18000 Steps) (loss=0.50371):  50%|█████     | 3/6 [00:11<00:12,  4.12s/it]"
     ]
    },
    {
     "name": "stdout",
     "output_type": "stream",
     "text": [
      "Model Was Not Saved ! Current Best Avg. Dice: 0.24061858654022217 Current Avg. Dice: 0.23608697950839996 Current Avg. tumor Dice: 0.3756692111492157 Current Avg. lymph Dice: 0.09650478512048721\n"
     ]
    },
    {
     "name": "stderr",
     "output_type": "stream",
     "text": [
      "Training (3503 / 18000 Steps) (loss=0.53488): 100%|██████████| 6/6 [00:13<00:00,  2.32s/it]\n",
      "Training (3509 / 18000 Steps) (loss=0.39126): 100%|██████████| 6/6 [00:08<00:00,  1.35s/it]\n",
      "Training (3515 / 18000 Steps) (loss=0.53462): 100%|██████████| 6/6 [00:08<00:00,  1.39s/it]\n",
      "Training (3521 / 18000 Steps) (loss=0.40404): 100%|██████████| 6/6 [00:08<00:00,  1.44s/it]\n",
      "Training (3527 / 18000 Steps) (loss=0.55525): 100%|██████████| 6/6 [00:08<00:00,  1.36s/it]\n",
      "Training (3533 / 18000 Steps) (loss=0.63206): 100%|██████████| 6/6 [00:08<00:00,  1.39s/it]\n",
      "Training (3539 / 18000 Steps) (loss=0.59374): 100%|██████████| 6/6 [00:08<00:00,  1.37s/it]\n",
      "Training (3545 / 18000 Steps) (loss=0.58056): 100%|██████████| 6/6 [00:08<00:00,  1.41s/it]\n",
      "Training (3551 / 18000 Steps) (loss=0.51552): 100%|██████████| 6/6 [00:08<00:00,  1.43s/it]\n",
      "Training (3557 / 18000 Steps) (loss=0.62175): 100%|██████████| 6/6 [00:07<00:00,  1.32s/it]\n",
      "Training (3563 / 18000 Steps) (loss=0.49339): 100%|██████████| 6/6 [00:08<00:00,  1.40s/it]\n",
      "Training (3569 / 18000 Steps) (loss=0.45086): 100%|██████████| 6/6 [00:08<00:00,  1.39s/it]\n",
      "Training (3575 / 18000 Steps) (loss=0.55570): 100%|██████████| 6/6 [00:08<00:00,  1.41s/it]\n",
      "Training (3581 / 18000 Steps) (loss=0.58095): 100%|██████████| 6/6 [00:08<00:00,  1.39s/it]\n",
      "Training (3587 / 18000 Steps) (loss=0.61487): 100%|██████████| 6/6 [00:08<00:00,  1.37s/it]\n",
      "Training (3593 / 18000 Steps) (loss=0.58653): 100%|██████████| 6/6 [00:08<00:00,  1.40s/it]\n",
      "Training (3599 / 18000 Steps) (loss=0.51750): 100%|██████████| 6/6 [00:08<00:00,  1.37s/it]\n",
      "Validate (3600 / 10 Steps): 100%|██████████| 3/3 [00:05<00:00,  1.90s/it]<?, ?it/s]\n",
      "Training (3600 / 18000 Steps) (loss=0.57875):  17%|█▋        | 1/6 [00:09<00:48,  9.64s/it]"
     ]
    },
    {
     "name": "stdout",
     "output_type": "stream",
     "text": [
      "Model Was Not Saved ! Current Best Avg. Dice: 0.24061858654022217 Current Avg. Dice: 0.1907791942358017 Current Avg. tumor Dice: 0.3011936843395233 Current Avg. lymph Dice: 0.0803646519780159\n"
     ]
    },
    {
     "name": "stderr",
     "output_type": "stream",
     "text": [
      "Training (3605 / 18000 Steps) (loss=0.49060): 100%|██████████| 6/6 [00:14<00:00,  2.35s/it]\n",
      "Training (3611 / 18000 Steps) (loss=0.56839): 100%|██████████| 6/6 [00:08<00:00,  1.48s/it]\n",
      "Training (3617 / 18000 Steps) (loss=0.50538): 100%|██████████| 6/6 [00:08<00:00,  1.42s/it]\n",
      "Training (3623 / 18000 Steps) (loss=0.55470): 100%|██████████| 6/6 [00:08<00:00,  1.41s/it]\n",
      "Training (3629 / 18000 Steps) (loss=0.50881): 100%|██████████| 6/6 [00:08<00:00,  1.39s/it]\n",
      "Training (3635 / 18000 Steps) (loss=0.54434): 100%|██████████| 6/6 [00:08<00:00,  1.36s/it]\n",
      "Training (3641 / 18000 Steps) (loss=0.40372): 100%|██████████| 6/6 [00:07<00:00,  1.33s/it]\n",
      "Training (3647 / 18000 Steps) (loss=0.64194): 100%|██████████| 6/6 [00:08<00:00,  1.44s/it]\n",
      "Training (3653 / 18000 Steps) (loss=0.51753): 100%|██████████| 6/6 [00:07<00:00,  1.32s/it]\n",
      "Training (3659 / 18000 Steps) (loss=0.49841): 100%|██████████| 6/6 [00:08<00:00,  1.35s/it]\n",
      "Training (3665 / 18000 Steps) (loss=0.51939): 100%|██████████| 6/6 [00:08<00:00,  1.41s/it]\n",
      "Training (3671 / 18000 Steps) (loss=0.48681): 100%|██████████| 6/6 [00:08<00:00,  1.38s/it]\n",
      "Training (3677 / 18000 Steps) (loss=0.55181): 100%|██████████| 6/6 [00:08<00:00,  1.39s/it]\n",
      "Training (3683 / 18000 Steps) (loss=0.50118): 100%|██████████| 6/6 [00:08<00:00,  1.37s/it]\n",
      "Training (3689 / 18000 Steps) (loss=0.38501): 100%|██████████| 6/6 [00:08<00:00,  1.36s/it]\n",
      "Training (3695 / 18000 Steps) (loss=0.54561): 100%|██████████| 6/6 [00:08<00:00,  1.39s/it]\n",
      "Validate (3696 / 10 Steps): 100%|██████████| 3/3 [00:05<00:00,  1.86s/it]<00:02,  1.23s/it]\n",
      "Training (3700 / 18000 Steps) (loss=0.56631):  83%|████████▎ | 5/6 [00:12<00:03,  3.13s/it]"
     ]
    },
    {
     "name": "stdout",
     "output_type": "stream",
     "text": [
      "Model Was Not Saved ! Current Best Avg. Dice: 0.24061858654022217 Current Avg. Dice: 0.18935765326023102 Current Avg. tumor Dice: 0.29109376668930054 Current Avg. lymph Dice: 0.0876215323805809\n"
     ]
    },
    {
     "name": "stderr",
     "output_type": "stream",
     "text": [
      "Training (3701 / 18000 Steps) (loss=0.59907): 100%|██████████| 6/6 [00:13<00:00,  2.24s/it]\n",
      "Training (3707 / 18000 Steps) (loss=0.43423): 100%|██████████| 6/6 [00:08<00:00,  1.43s/it]\n",
      "Training (3713 / 18000 Steps) (loss=0.66739): 100%|██████████| 6/6 [00:08<00:00,  1.38s/it]\n",
      "Training (3719 / 18000 Steps) (loss=0.65250): 100%|██████████| 6/6 [00:07<00:00,  1.32s/it]\n",
      "Training (3725 / 18000 Steps) (loss=0.64195): 100%|██████████| 6/6 [00:07<00:00,  1.32s/it]\n",
      "Training (3731 / 18000 Steps) (loss=0.40235): 100%|██████████| 6/6 [00:08<00:00,  1.33s/it]\n",
      "Training (3737 / 18000 Steps) (loss=0.63421): 100%|██████████| 6/6 [00:08<00:00,  1.35s/it]\n",
      "Training (3743 / 18000 Steps) (loss=0.58272): 100%|██████████| 6/6 [00:07<00:00,  1.31s/it]\n",
      "Training (3749 / 18000 Steps) (loss=0.47103): 100%|██████████| 6/6 [00:07<00:00,  1.31s/it]\n",
      "Training (3755 / 18000 Steps) (loss=0.68612): 100%|██████████| 6/6 [00:07<00:00,  1.31s/it]\n",
      "Training (3761 / 18000 Steps) (loss=0.66665): 100%|██████████| 6/6 [00:07<00:00,  1.29s/it]\n",
      "Training (3767 / 18000 Steps) (loss=0.58805): 100%|██████████| 6/6 [00:07<00:00,  1.32s/it]\n",
      "Training (3773 / 18000 Steps) (loss=0.65768): 100%|██████████| 6/6 [00:08<00:00,  1.43s/it]\n",
      "Training (3779 / 18000 Steps) (loss=0.49756): 100%|██████████| 6/6 [00:07<00:00,  1.29s/it]\n",
      "Training (3785 / 18000 Steps) (loss=0.47620): 100%|██████████| 6/6 [00:07<00:00,  1.31s/it]\n",
      "Training (3791 / 18000 Steps) (loss=0.48024): 100%|██████████| 6/6 [00:07<00:00,  1.31s/it]\n",
      "Training (3797 / 18000 Steps) (loss=0.44796): 100%|██████████| 6/6 [00:07<00:00,  1.30s/it]\n",
      "Validate (3798 / 10 Steps): 100%|██████████| 3/3 [00:05<00:00,  1.83s/it]<00:07,  1.96s/it]\n",
      "Training (3800 / 18000 Steps) (loss=0.55624):  50%|█████     | 3/6 [00:11<00:12,  4.30s/it]"
     ]
    },
    {
     "name": "stdout",
     "output_type": "stream",
     "text": [
      "Model Was Saved ! Current Best Avg. Dice: 0.25947320461273193 Current Avg. Dice: 0.25947320461273193 Current Avg. tumor Dice: 0.2981187105178833 Current Avg. lymph Dice: 0.22082769870758057\n"
     ]
    },
    {
     "name": "stderr",
     "output_type": "stream",
     "text": [
      "Training (3803 / 18000 Steps) (loss=0.49300): 100%|██████████| 6/6 [00:14<00:00,  2.37s/it]\n",
      "Training (3809 / 18000 Steps) (loss=0.42807): 100%|██████████| 6/6 [00:07<00:00,  1.32s/it]\n",
      "Training (3815 / 18000 Steps) (loss=0.22807): 100%|██████████| 6/6 [00:08<00:00,  1.34s/it]\n",
      "Training (3821 / 18000 Steps) (loss=0.26581): 100%|██████████| 6/6 [00:08<00:00,  1.39s/it]\n",
      "Training (3827 / 18000 Steps) (loss=0.58705): 100%|██████████| 6/6 [00:08<00:00,  1.36s/it]\n",
      "Training (3833 / 18000 Steps) (loss=0.48014): 100%|██████████| 6/6 [00:07<00:00,  1.32s/it]\n",
      "Training (3839 / 18000 Steps) (loss=0.64784): 100%|██████████| 6/6 [00:08<00:00,  1.38s/it]\n",
      "Training (3845 / 18000 Steps) (loss=0.59130): 100%|██████████| 6/6 [00:07<00:00,  1.33s/it]\n",
      "Training (3851 / 18000 Steps) (loss=0.61834): 100%|██████████| 6/6 [00:07<00:00,  1.33s/it]\n",
      "Training (3857 / 18000 Steps) (loss=0.67211): 100%|██████████| 6/6 [00:07<00:00,  1.30s/it]\n",
      "Training (3863 / 18000 Steps) (loss=0.56291): 100%|██████████| 6/6 [00:07<00:00,  1.31s/it]\n",
      "Training (3869 / 18000 Steps) (loss=0.48425): 100%|██████████| 6/6 [00:08<00:00,  1.38s/it]\n",
      "Training (3875 / 18000 Steps) (loss=0.67256): 100%|██████████| 6/6 [00:08<00:00,  1.40s/it]\n",
      "Training (3881 / 18000 Steps) (loss=0.45655): 100%|██████████| 6/6 [00:07<00:00,  1.32s/it]\n",
      "Training (3887 / 18000 Steps) (loss=0.56213): 100%|██████████| 6/6 [00:07<00:00,  1.31s/it]\n",
      "Training (3893 / 18000 Steps) (loss=0.61804): 100%|██████████| 6/6 [00:07<00:00,  1.33s/it]\n",
      "Training (3899 / 18000 Steps) (loss=0.52648): 100%|██████████| 6/6 [00:07<00:00,  1.32s/it]\n",
      "Validate (3900 / 10 Steps): 100%|██████████| 3/3 [00:05<00:00,  1.89s/it]<?, ?it/s]\n",
      "Training (3900 / 18000 Steps) (loss=0.51913):  17%|█▋        | 1/6 [00:09<00:47,  9.51s/it]"
     ]
    },
    {
     "name": "stdout",
     "output_type": "stream",
     "text": [
      "Model Was Not Saved ! Current Best Avg. Dice: 0.25947320461273193 Current Avg. Dice: 0.1681940108537674 Current Avg. tumor Dice: 0.1915683001279831 Current Avg. lymph Dice: 0.14481975138187408\n"
     ]
    },
    {
     "name": "stderr",
     "output_type": "stream",
     "text": [
      "Training (3905 / 18000 Steps) (loss=0.52324): 100%|██████████| 6/6 [00:13<00:00,  2.30s/it]\n",
      "Training (3911 / 18000 Steps) (loss=0.39868): 100%|██████████| 6/6 [00:07<00:00,  1.32s/it]\n",
      "Training (3917 / 18000 Steps) (loss=0.50603): 100%|██████████| 6/6 [00:07<00:00,  1.32s/it]\n",
      "Training (3923 / 18000 Steps) (loss=0.43575): 100%|██████████| 6/6 [00:08<00:00,  1.35s/it]\n",
      "Training (3929 / 18000 Steps) (loss=0.56548): 100%|██████████| 6/6 [00:07<00:00,  1.33s/it]\n",
      "Training (3935 / 18000 Steps) (loss=0.63160): 100%|██████████| 6/6 [00:08<00:00,  1.36s/it]\n",
      "Training (3941 / 18000 Steps) (loss=0.34305): 100%|██████████| 6/6 [00:07<00:00,  1.31s/it]\n",
      "Training (3947 / 18000 Steps) (loss=0.44007): 100%|██████████| 6/6 [00:08<00:00,  1.34s/it]\n",
      "Training (3953 / 18000 Steps) (loss=0.33921): 100%|██████████| 6/6 [00:07<00:00,  1.33s/it]\n",
      "Training (3959 / 18000 Steps) (loss=0.47958): 100%|██████████| 6/6 [00:07<00:00,  1.33s/it]\n",
      "Training (3965 / 18000 Steps) (loss=0.59132): 100%|██████████| 6/6 [00:08<00:00,  1.40s/it]\n",
      "Training (3971 / 18000 Steps) (loss=0.53841): 100%|██████████| 6/6 [00:07<00:00,  1.30s/it]\n",
      "Training (3977 / 18000 Steps) (loss=0.59490): 100%|██████████| 6/6 [00:08<00:00,  1.34s/it]\n",
      "Training (3983 / 18000 Steps) (loss=0.51785): 100%|██████████| 6/6 [00:08<00:00,  1.39s/it]\n",
      "Training (3989 / 18000 Steps) (loss=0.55838): 100%|██████████| 6/6 [00:08<00:00,  1.36s/it]\n",
      "Training (3995 / 18000 Steps) (loss=0.56289): 100%|██████████| 6/6 [00:07<00:00,  1.29s/it]\n",
      "Validate (3996 / 10 Steps): 100%|██████████| 3/3 [00:05<00:00,  1.88s/it]<00:02,  1.28s/it]\n",
      "Training (4000 / 18000 Steps) (loss=0.47257):  83%|████████▎ | 5/6 [00:12<00:03,  3.18s/it]"
     ]
    },
    {
     "name": "stdout",
     "output_type": "stream",
     "text": [
      "Model Was Not Saved ! Current Best Avg. Dice: 0.25947320461273193 Current Avg. Dice: 0.2204943746328354 Current Avg. tumor Dice: 0.3192295730113983 Current Avg. lymph Dice: 0.12175918370485306\n"
     ]
    },
    {
     "name": "stderr",
     "output_type": "stream",
     "text": [
      "Training (4001 / 18000 Steps) (loss=0.52057): 100%|██████████| 6/6 [00:13<00:00,  2.30s/it]\n",
      "Training (4007 / 18000 Steps) (loss=0.38971): 100%|██████████| 6/6 [00:07<00:00,  1.31s/it]\n",
      "Training (4013 / 18000 Steps) (loss=0.46517): 100%|██████████| 6/6 [00:07<00:00,  1.31s/it]\n",
      "Training (4019 / 18000 Steps) (loss=0.60282): 100%|██████████| 6/6 [00:07<00:00,  1.31s/it]\n",
      "Training (4025 / 18000 Steps) (loss=0.41941): 100%|██████████| 6/6 [00:07<00:00,  1.28s/it]\n",
      "Training (4031 / 18000 Steps) (loss=0.50089): 100%|██████████| 6/6 [00:08<00:00,  1.34s/it]\n",
      "Training (4037 / 18000 Steps) (loss=0.21928): 100%|██████████| 6/6 [00:08<00:00,  1.37s/it]\n",
      "Training (4043 / 18000 Steps) (loss=0.50064): 100%|██████████| 6/6 [00:07<00:00,  1.28s/it]\n",
      "Training (4049 / 18000 Steps) (loss=0.56402): 100%|██████████| 6/6 [00:08<00:00,  1.34s/it]\n",
      "Training (4055 / 18000 Steps) (loss=0.37460): 100%|██████████| 6/6 [00:08<00:00,  1.34s/it]\n",
      "Training (4061 / 18000 Steps) (loss=0.57458): 100%|██████████| 6/6 [00:07<00:00,  1.33s/it]\n",
      "Training (4067 / 18000 Steps) (loss=0.43750): 100%|██████████| 6/6 [00:07<00:00,  1.32s/it]\n",
      "Training (4073 / 18000 Steps) (loss=0.37748): 100%|██████████| 6/6 [00:08<00:00,  1.35s/it]\n",
      "Training (4079 / 18000 Steps) (loss=0.58901): 100%|██████████| 6/6 [00:07<00:00,  1.33s/it]\n",
      "Training (4085 / 18000 Steps) (loss=0.61254): 100%|██████████| 6/6 [00:07<00:00,  1.31s/it]\n",
      "Training (4091 / 18000 Steps) (loss=0.55955): 100%|██████████| 6/6 [00:07<00:00,  1.31s/it]\n",
      "Training (4097 / 18000 Steps) (loss=0.46103): 100%|██████████| 6/6 [00:07<00:00,  1.33s/it]\n",
      "Validate (4098 / 10 Steps): 100%|██████████| 3/3 [00:05<00:00,  1.85s/it]<00:07,  1.98s/it]\n",
      "Training (4100 / 18000 Steps) (loss=0.50700):  50%|█████     | 3/6 [00:10<00:12,  4.03s/it]"
     ]
    },
    {
     "name": "stdout",
     "output_type": "stream",
     "text": [
      "Model Was Not Saved ! Current Best Avg. Dice: 0.25947320461273193 Current Avg. Dice: 0.1562499701976776 Current Avg. tumor Dice: 0.29262760281562805 Current Avg. lymph Dice: 0.019872339442372322\n"
     ]
    },
    {
     "name": "stderr",
     "output_type": "stream",
     "text": [
      "Training (4103 / 18000 Steps) (loss=0.57053): 100%|██████████| 6/6 [00:13<00:00,  2.23s/it]\n",
      "Training (4109 / 18000 Steps) (loss=0.51889): 100%|██████████| 6/6 [00:07<00:00,  1.32s/it]\n",
      "Training (4115 / 18000 Steps) (loss=0.53079): 100%|██████████| 6/6 [00:07<00:00,  1.29s/it]\n",
      "Training (4121 / 18000 Steps) (loss=0.46976): 100%|██████████| 6/6 [00:07<00:00,  1.31s/it]\n",
      "Training (4127 / 18000 Steps) (loss=0.49556): 100%|██████████| 6/6 [00:08<00:00,  1.39s/it]\n",
      "Training (4133 / 18000 Steps) (loss=0.42932): 100%|██████████| 6/6 [00:07<00:00,  1.29s/it]\n",
      "Training (4139 / 18000 Steps) (loss=0.59738): 100%|██████████| 6/6 [00:07<00:00,  1.28s/it]\n",
      "Training (4145 / 18000 Steps) (loss=0.63527): 100%|██████████| 6/6 [00:07<00:00,  1.33s/it]\n",
      "Training (4151 / 18000 Steps) (loss=0.27043): 100%|██████████| 6/6 [00:08<00:00,  1.35s/it]\n",
      "Training (4157 / 18000 Steps) (loss=0.58398): 100%|██████████| 6/6 [00:07<00:00,  1.31s/it]\n",
      "Training (4163 / 18000 Steps) (loss=0.43266): 100%|██████████| 6/6 [00:08<00:00,  1.34s/it]\n",
      "Training (4169 / 18000 Steps) (loss=0.47790): 100%|██████████| 6/6 [00:07<00:00,  1.31s/it]\n",
      "Training (4175 / 18000 Steps) (loss=0.55712): 100%|██████████| 6/6 [00:07<00:00,  1.32s/it]\n",
      "Training (4181 / 18000 Steps) (loss=0.41023): 100%|██████████| 6/6 [00:07<00:00,  1.30s/it]\n",
      "Training (4187 / 18000 Steps) (loss=0.47182): 100%|██████████| 6/6 [00:07<00:00,  1.29s/it]\n",
      "Training (4193 / 18000 Steps) (loss=0.52359): 100%|██████████| 6/6 [00:07<00:00,  1.32s/it]\n",
      "Training (4199 / 18000 Steps) (loss=0.38211): 100%|██████████| 6/6 [00:08<00:00,  1.34s/it]\n",
      "Validate (4200 / 10 Steps): 100%|██████████| 3/3 [00:05<00:00,  1.89s/it]<?, ?it/s]\n",
      "Training (4200 / 18000 Steps) (loss=0.49783):  17%|█▋        | 1/6 [00:09<00:46,  9.39s/it]"
     ]
    },
    {
     "name": "stdout",
     "output_type": "stream",
     "text": [
      "Model Was Not Saved ! Current Best Avg. Dice: 0.25947320461273193 Current Avg. Dice: 0.24761651456356049 Current Avg. tumor Dice: 0.36669912934303284 Current Avg. lymph Dice: 0.12853384017944336\n"
     ]
    },
    {
     "name": "stderr",
     "output_type": "stream",
     "text": [
      "Training (4205 / 18000 Steps) (loss=0.37749): 100%|██████████| 6/6 [00:13<00:00,  2.32s/it]\n",
      "Training (4211 / 18000 Steps) (loss=0.49169): 100%|██████████| 6/6 [00:07<00:00,  1.32s/it]\n",
      "Training (4217 / 18000 Steps) (loss=0.51282): 100%|██████████| 6/6 [00:07<00:00,  1.29s/it]\n",
      "Training (4223 / 18000 Steps) (loss=0.48920): 100%|██████████| 6/6 [00:08<00:00,  1.37s/it]\n",
      "Training (4229 / 18000 Steps) (loss=0.44920): 100%|██████████| 6/6 [00:07<00:00,  1.32s/it]\n",
      "Training (4235 / 18000 Steps) (loss=0.52059): 100%|██████████| 6/6 [00:07<00:00,  1.29s/it]\n",
      "Training (4241 / 18000 Steps) (loss=0.32454): 100%|██████████| 6/6 [00:07<00:00,  1.30s/it]\n",
      "Training (4247 / 18000 Steps) (loss=0.67496): 100%|██████████| 6/6 [00:08<00:00,  1.34s/it]\n",
      "Training (4253 / 18000 Steps) (loss=0.47099): 100%|██████████| 6/6 [00:07<00:00,  1.30s/it]\n",
      "Training (4259 / 18000 Steps) (loss=0.52519): 100%|██████████| 6/6 [00:08<00:00,  1.34s/it]\n",
      "Training (4265 / 18000 Steps) (loss=0.47908): 100%|██████████| 6/6 [00:08<00:00,  1.43s/it]\n",
      "Training (4271 / 18000 Steps) (loss=0.59902): 100%|██████████| 6/6 [00:07<00:00,  1.30s/it]\n",
      "Training (4277 / 18000 Steps) (loss=0.42096): 100%|██████████| 6/6 [00:07<00:00,  1.32s/it]\n",
      "Training (4283 / 18000 Steps) (loss=0.61311): 100%|██████████| 6/6 [00:07<00:00,  1.27s/it]\n",
      "Training (4289 / 18000 Steps) (loss=0.39919): 100%|██████████| 6/6 [00:07<00:00,  1.30s/it]\n",
      "Training (4295 / 18000 Steps) (loss=0.42539): 100%|██████████| 6/6 [00:07<00:00,  1.28s/it]\n",
      "Validate (4296 / 10 Steps): 100%|██████████| 3/3 [00:05<00:00,  1.82s/it]<00:02,  1.28s/it]\n",
      "Training (4300 / 18000 Steps) (loss=0.57085):  83%|████████▎ | 5/6 [00:12<00:03,  3.17s/it]"
     ]
    },
    {
     "name": "stdout",
     "output_type": "stream",
     "text": [
      "Model Was Not Saved ! Current Best Avg. Dice: 0.25947320461273193 Current Avg. Dice: 0.11558284610509872 Current Avg. tumor Dice: 0.17187397181987762 Current Avg. lymph Dice: 0.059291716665029526\n"
     ]
    },
    {
     "name": "stderr",
     "output_type": "stream",
     "text": [
      "Training (4301 / 18000 Steps) (loss=0.50511): 100%|██████████| 6/6 [00:13<00:00,  2.29s/it]\n",
      "Training (4307 / 18000 Steps) (loss=0.54686): 100%|██████████| 6/6 [00:08<00:00,  1.36s/it]\n",
      "Training (4313 / 18000 Steps) (loss=0.44526): 100%|██████████| 6/6 [00:08<00:00,  1.36s/it]\n",
      "Training (4319 / 18000 Steps) (loss=0.61260): 100%|██████████| 6/6 [00:07<00:00,  1.32s/it]\n",
      "Training (4325 / 18000 Steps) (loss=0.45011): 100%|██████████| 6/6 [00:08<00:00,  1.36s/it]\n",
      "Training (4331 / 18000 Steps) (loss=0.47329): 100%|██████████| 6/6 [00:07<00:00,  1.31s/it]\n",
      "Training (4337 / 18000 Steps) (loss=0.67615): 100%|██████████| 6/6 [00:07<00:00,  1.32s/it]\n",
      "Training (4343 / 18000 Steps) (loss=0.47964): 100%|██████████| 6/6 [00:07<00:00,  1.32s/it]\n",
      "Training (4349 / 18000 Steps) (loss=0.47603): 100%|██████████| 6/6 [00:07<00:00,  1.33s/it]\n",
      "Training (4355 / 18000 Steps) (loss=0.57180): 100%|██████████| 6/6 [00:08<00:00,  1.36s/it]\n",
      "Training (4361 / 18000 Steps) (loss=0.25876): 100%|██████████| 6/6 [00:08<00:00,  1.48s/it]\n",
      "Training (4367 / 18000 Steps) (loss=0.43714): 100%|██████████| 6/6 [00:08<00:00,  1.39s/it]\n",
      "Training (4373 / 18000 Steps) (loss=0.46897): 100%|██████████| 6/6 [00:08<00:00,  1.36s/it]\n",
      "Training (4379 / 18000 Steps) (loss=0.38709): 100%|██████████| 6/6 [00:07<00:00,  1.30s/it]\n",
      "Training (4385 / 18000 Steps) (loss=0.39250): 100%|██████████| 6/6 [00:07<00:00,  1.33s/it]\n",
      "Training (4391 / 18000 Steps) (loss=0.58938): 100%|██████████| 6/6 [00:07<00:00,  1.32s/it]\n",
      "Training (4397 / 18000 Steps) (loss=0.50585): 100%|██████████| 6/6 [00:08<00:00,  1.38s/it]\n",
      "Validate (4398 / 10 Steps): 100%|██████████| 3/3 [00:05<00:00,  1.91s/it]<00:08,  2.13s/it]\n",
      "Training (4400 / 18000 Steps) (loss=0.46258):  50%|█████     | 3/6 [00:11<00:12,  4.22s/it]"
     ]
    },
    {
     "name": "stdout",
     "output_type": "stream",
     "text": [
      "Model Was Not Saved ! Current Best Avg. Dice: 0.25947320461273193 Current Avg. Dice: 0.17196087539196014 Current Avg. tumor Dice: 0.24259094893932343 Current Avg. lymph Dice: 0.10133081674575806\n"
     ]
    },
    {
     "name": "stderr",
     "output_type": "stream",
     "text": [
      "Training (4403 / 18000 Steps) (loss=0.34512): 100%|██████████| 6/6 [00:14<00:00,  2.35s/it]\n",
      "Training (4409 / 18000 Steps) (loss=0.41717): 100%|██████████| 6/6 [00:08<00:00,  1.38s/it]\n",
      "Training (4415 / 18000 Steps) (loss=0.38133): 100%|██████████| 6/6 [00:07<00:00,  1.32s/it]\n",
      "Training (4421 / 18000 Steps) (loss=0.50096): 100%|██████████| 6/6 [00:07<00:00,  1.29s/it]\n",
      "Training (4427 / 18000 Steps) (loss=0.50565): 100%|██████████| 6/6 [00:07<00:00,  1.33s/it]\n",
      "Training (4433 / 18000 Steps) (loss=0.56593): 100%|██████████| 6/6 [00:08<00:00,  1.34s/it]\n",
      "Training (4439 / 18000 Steps) (loss=0.42293): 100%|██████████| 6/6 [00:07<00:00,  1.32s/it]\n",
      "Training (4445 / 18000 Steps) (loss=0.55097): 100%|██████████| 6/6 [00:07<00:00,  1.32s/it]\n",
      "Training (4451 / 18000 Steps) (loss=0.47498): 100%|██████████| 6/6 [00:08<00:00,  1.40s/it]\n",
      "Training (4457 / 18000 Steps) (loss=0.54682): 100%|██████████| 6/6 [00:08<00:00,  1.40s/it]\n",
      "Training (4463 / 18000 Steps) (loss=0.62669): 100%|██████████| 6/6 [00:08<00:00,  1.37s/it]\n",
      "Training (4469 / 18000 Steps) (loss=0.61955): 100%|██████████| 6/6 [00:08<00:00,  1.38s/it]\n",
      "Training (4475 / 18000 Steps) (loss=0.41552): 100%|██████████| 6/6 [00:07<00:00,  1.28s/it]\n",
      "Training (4481 / 18000 Steps) (loss=0.55569): 100%|██████████| 6/6 [00:07<00:00,  1.29s/it]\n",
      "Training (4487 / 18000 Steps) (loss=0.38676): 100%|██████████| 6/6 [00:08<00:00,  1.36s/it]\n",
      "Training (4493 / 18000 Steps) (loss=0.35330): 100%|██████████| 6/6 [00:08<00:00,  1.34s/it]\n",
      "Training (4499 / 18000 Steps) (loss=0.49971): 100%|██████████| 6/6 [00:07<00:00,  1.32s/it]\n",
      "Validate (4500 / 10 Steps): 100%|██████████| 3/3 [00:05<00:00,  1.86s/it]<?, ?it/s]\n",
      "Training (4500 / 18000 Steps) (loss=0.52165):  17%|█▋        | 1/6 [00:09<00:47,  9.58s/it]"
     ]
    },
    {
     "name": "stdout",
     "output_type": "stream",
     "text": [
      "Model Was Not Saved ! Current Best Avg. Dice: 0.25947320461273193 Current Avg. Dice: 0.14290101826190948 Current Avg. tumor Dice: 0.20112265646457672 Current Avg. lymph Dice: 0.08467939496040344\n"
     ]
    },
    {
     "name": "stderr",
     "output_type": "stream",
     "text": [
      "Training (4505 / 18000 Steps) (loss=0.40755): 100%|██████████| 6/6 [00:14<00:00,  2.35s/it]\n",
      "Training (4511 / 18000 Steps) (loss=0.49578): 100%|██████████| 6/6 [00:08<00:00,  1.38s/it]\n",
      "Training (4517 / 18000 Steps) (loss=0.31574): 100%|██████████| 6/6 [00:08<00:00,  1.35s/it]\n",
      "Training (4523 / 18000 Steps) (loss=0.48634): 100%|██████████| 6/6 [00:07<00:00,  1.32s/it]\n",
      "Training (4529 / 18000 Steps) (loss=0.40297): 100%|██████████| 6/6 [00:08<00:00,  1.36s/it]\n",
      "Training (4535 / 18000 Steps) (loss=0.52290): 100%|██████████| 6/6 [00:07<00:00,  1.31s/it]\n",
      "Training (4541 / 18000 Steps) (loss=0.48112): 100%|██████████| 6/6 [00:07<00:00,  1.31s/it]\n",
      "Training (4547 / 18000 Steps) (loss=0.49713): 100%|██████████| 6/6 [00:08<00:00,  1.42s/it]\n",
      "Training (4553 / 18000 Steps) (loss=0.52287): 100%|██████████| 6/6 [00:08<00:00,  1.37s/it]\n",
      "Training (4559 / 18000 Steps) (loss=0.41482): 100%|██████████| 6/6 [00:08<00:00,  1.34s/it]\n",
      "Training (4565 / 18000 Steps) (loss=0.40930): 100%|██████████| 6/6 [00:08<00:00,  1.36s/it]\n",
      "Training (4571 / 18000 Steps) (loss=0.67152): 100%|██████████| 6/6 [00:08<00:00,  1.35s/it]\n",
      "Training (4577 / 18000 Steps) (loss=0.60850): 100%|██████████| 6/6 [00:07<00:00,  1.30s/it]\n",
      "Training (4583 / 18000 Steps) (loss=0.35599): 100%|██████████| 6/6 [00:08<00:00,  1.35s/it]\n",
      "Training (4589 / 18000 Steps) (loss=0.49594): 100%|██████████| 6/6 [00:08<00:00,  1.40s/it]\n",
      "Training (4595 / 18000 Steps) (loss=0.50169): 100%|██████████| 6/6 [00:08<00:00,  1.35s/it]\n",
      "Validate (4596 / 10 Steps): 100%|██████████| 3/3 [00:05<00:00,  1.96s/it]<00:02,  1.30s/it]\n",
      "Training (4600 / 18000 Steps) (loss=0.48750):  83%|████████▎ | 5/6 [00:13<00:03,  3.29s/it]"
     ]
    },
    {
     "name": "stdout",
     "output_type": "stream",
     "text": [
      "Model Was Not Saved ! Current Best Avg. Dice: 0.25947320461273193 Current Avg. Dice: 0.18190433084964752 Current Avg. tumor Dice: 0.27789321541786194 Current Avg. lymph Dice: 0.0859154462814331\n"
     ]
    },
    {
     "name": "stderr",
     "output_type": "stream",
     "text": [
      "Training (4601 / 18000 Steps) (loss=0.61901): 100%|██████████| 6/6 [00:14<00:00,  2.35s/it]\n",
      "Training (4607 / 18000 Steps) (loss=0.56365): 100%|██████████| 6/6 [00:08<00:00,  1.40s/it]\n",
      "Training (4613 / 18000 Steps) (loss=0.43376): 100%|██████████| 6/6 [00:07<00:00,  1.31s/it]\n",
      "Training (4619 / 18000 Steps) (loss=0.33217): 100%|██████████| 6/6 [00:07<00:00,  1.33s/it]\n",
      "Training (4625 / 18000 Steps) (loss=0.53275): 100%|██████████| 6/6 [00:08<00:00,  1.39s/it]\n",
      "Training (4631 / 18000 Steps) (loss=0.59512): 100%|██████████| 6/6 [00:08<00:00,  1.36s/it]\n",
      "Training (4637 / 18000 Steps) (loss=0.54968): 100%|██████████| 6/6 [00:07<00:00,  1.32s/it]\n",
      "Training (4643 / 18000 Steps) (loss=0.19636): 100%|██████████| 6/6 [00:07<00:00,  1.31s/it]\n",
      "Training (4649 / 18000 Steps) (loss=0.40288): 100%|██████████| 6/6 [00:08<00:00,  1.41s/it]\n",
      "Training (4655 / 18000 Steps) (loss=0.61329): 100%|██████████| 6/6 [00:08<00:00,  1.38s/it]\n",
      "Training (4661 / 18000 Steps) (loss=0.54395): 100%|██████████| 6/6 [00:07<00:00,  1.32s/it]\n",
      "Training (4667 / 18000 Steps) (loss=0.53561): 100%|██████████| 6/6 [00:07<00:00,  1.28s/it]\n",
      "Training (4673 / 18000 Steps) (loss=0.39349): 100%|██████████| 6/6 [00:07<00:00,  1.33s/it]\n",
      "Training (4679 / 18000 Steps) (loss=0.40611): 100%|██████████| 6/6 [00:08<00:00,  1.36s/it]\n",
      "Training (4685 / 18000 Steps) (loss=0.47502): 100%|██████████| 6/6 [00:07<00:00,  1.31s/it]\n",
      "Training (4691 / 18000 Steps) (loss=0.66406): 100%|██████████| 6/6 [00:08<00:00,  1.35s/it]\n",
      "Training (4697 / 18000 Steps) (loss=0.35761): 100%|██████████| 6/6 [00:08<00:00,  1.35s/it]\n",
      "Validate (4698 / 10 Steps): 100%|██████████| 3/3 [00:05<00:00,  1.82s/it]<00:08,  2.04s/it]\n",
      "Training (4700 / 18000 Steps) (loss=0.49059):  50%|█████     | 3/6 [00:10<00:12,  4.02s/it]"
     ]
    },
    {
     "name": "stdout",
     "output_type": "stream",
     "text": [
      "Model Was Not Saved ! Current Best Avg. Dice: 0.25947320461273193 Current Avg. Dice: 0.13573312759399414 Current Avg. tumor Dice: 0.2405531257390976 Current Avg. lymph Dice: 0.030913129448890686\n"
     ]
    },
    {
     "name": "stderr",
     "output_type": "stream",
     "text": [
      "Training (4703 / 18000 Steps) (loss=0.59009): 100%|██████████| 6/6 [00:13<00:00,  2.26s/it]\n",
      "Training (4709 / 18000 Steps) (loss=0.43554): 100%|██████████| 6/6 [00:08<00:00,  1.36s/it]\n",
      "Training (4715 / 18000 Steps) (loss=0.40889): 100%|██████████| 6/6 [00:07<00:00,  1.29s/it]\n",
      "Training (4721 / 18000 Steps) (loss=0.56940): 100%|██████████| 6/6 [00:08<00:00,  1.34s/it]\n",
      "Training (4727 / 18000 Steps) (loss=0.46374): 100%|██████████| 6/6 [00:07<00:00,  1.30s/it]\n",
      "Training (4733 / 18000 Steps) (loss=0.43480): 100%|██████████| 6/6 [00:07<00:00,  1.33s/it]\n",
      "Training (4739 / 18000 Steps) (loss=0.47147): 100%|██████████| 6/6 [00:08<00:00,  1.38s/it]\n",
      "Training (4745 / 18000 Steps) (loss=0.37390): 100%|██████████| 6/6 [00:08<00:00,  1.40s/it]\n",
      "Training (4751 / 18000 Steps) (loss=0.43447): 100%|██████████| 6/6 [00:07<00:00,  1.30s/it]\n",
      "Training (4757 / 18000 Steps) (loss=0.56990): 100%|██████████| 6/6 [00:08<00:00,  1.37s/it]\n",
      "Training (4763 / 18000 Steps) (loss=0.42092): 100%|██████████| 6/6 [00:07<00:00,  1.27s/it]\n",
      "Training (4769 / 18000 Steps) (loss=0.58890): 100%|██████████| 6/6 [00:07<00:00,  1.29s/it]\n",
      "Training (4775 / 18000 Steps) (loss=0.49989): 100%|██████████| 6/6 [00:07<00:00,  1.32s/it]\n",
      "Training (4781 / 18000 Steps) (loss=0.34459): 100%|██████████| 6/6 [00:07<00:00,  1.33s/it]\n",
      "Training (4787 / 18000 Steps) (loss=0.63561): 100%|██████████| 6/6 [00:07<00:00,  1.33s/it]\n",
      "Training (4793 / 18000 Steps) (loss=0.58695): 100%|██████████| 6/6 [00:08<00:00,  1.35s/it]\n",
      "Training (4799 / 18000 Steps) (loss=0.49466): 100%|██████████| 6/6 [00:08<00:00,  1.35s/it]\n",
      "Validate (4800 / 10 Steps): 100%|██████████| 3/3 [00:05<00:00,  1.91s/it]<?, ?it/s]\n",
      "Training (4800 / 18000 Steps) (loss=0.52585):  17%|█▋        | 1/6 [00:09<00:47,  9.56s/it]"
     ]
    },
    {
     "name": "stdout",
     "output_type": "stream",
     "text": [
      "Model Was Not Saved ! Current Best Avg. Dice: 0.25947320461273193 Current Avg. Dice: 0.16647116839885712 Current Avg. tumor Dice: 0.24983209371566772 Current Avg. lymph Dice: 0.08311021327972412\n"
     ]
    },
    {
     "name": "stderr",
     "output_type": "stream",
     "text": [
      "Training (4805 / 18000 Steps) (loss=0.34055): 100%|██████████| 6/6 [00:13<00:00,  2.32s/it]\n",
      "Training (4811 / 18000 Steps) (loss=0.53450): 100%|██████████| 6/6 [00:08<00:00,  1.33s/it]\n",
      "Training (4817 / 18000 Steps) (loss=0.43873): 100%|██████████| 6/6 [00:08<00:00,  1.36s/it]\n",
      "Training (4823 / 18000 Steps) (loss=0.33452): 100%|██████████| 6/6 [00:07<00:00,  1.31s/it]\n",
      "Training (4829 / 18000 Steps) (loss=0.55239): 100%|██████████| 6/6 [00:07<00:00,  1.32s/it]\n",
      "Training (4835 / 18000 Steps) (loss=0.43066): 100%|██████████| 6/6 [00:08<00:00,  1.33s/it]\n",
      "Training (4841 / 18000 Steps) (loss=0.51353): 100%|██████████| 6/6 [00:07<00:00,  1.33s/it]\n",
      "Training (4847 / 18000 Steps) (loss=0.27897): 100%|██████████| 6/6 [00:08<00:00,  1.41s/it]\n",
      "Training (4853 / 18000 Steps) (loss=0.48308): 100%|██████████| 6/6 [00:08<00:00,  1.36s/it]\n",
      "Training (4859 / 18000 Steps) (loss=0.43227): 100%|██████████| 6/6 [00:07<00:00,  1.32s/it]\n",
      "Training (4865 / 18000 Steps) (loss=0.47375): 100%|██████████| 6/6 [00:07<00:00,  1.27s/it]\n",
      "Training (4871 / 18000 Steps) (loss=0.55418): 100%|██████████| 6/6 [00:08<00:00,  1.34s/it]\n",
      "Training (4877 / 18000 Steps) (loss=0.54824): 100%|██████████| 6/6 [00:07<00:00,  1.32s/it]\n",
      "Training (4883 / 18000 Steps) (loss=0.56971): 100%|██████████| 6/6 [00:07<00:00,  1.29s/it]\n",
      "Training (4889 / 18000 Steps) (loss=0.40231): 100%|██████████| 6/6 [00:07<00:00,  1.31s/it]\n",
      "Training (4895 / 18000 Steps) (loss=0.51586): 100%|██████████| 6/6 [00:08<00:00,  1.34s/it]\n",
      "Validate (4896 / 10 Steps): 100%|██████████| 3/3 [00:05<00:00,  1.93s/it]<00:02,  1.29s/it]\n",
      "Training (4900 / 18000 Steps) (loss=0.54131):  83%|████████▎ | 5/6 [00:13<00:03,  3.29s/it]"
     ]
    },
    {
     "name": "stdout",
     "output_type": "stream",
     "text": [
      "Model Was Not Saved ! Current Best Avg. Dice: 0.25947320461273193 Current Avg. Dice: 0.13808207213878632 Current Avg. tumor Dice: 0.26290735602378845 Current Avg. lymph Dice: 0.013256744481623173\n"
     ]
    },
    {
     "name": "stderr",
     "output_type": "stream",
     "text": [
      "Training (4901 / 18000 Steps) (loss=0.60705): 100%|██████████| 6/6 [00:14<00:00,  2.33s/it]\n",
      "Training (4907 / 18000 Steps) (loss=0.32881): 100%|██████████| 6/6 [00:07<00:00,  1.31s/it]\n",
      "Training (4913 / 18000 Steps) (loss=0.32139): 100%|██████████| 6/6 [00:08<00:00,  1.34s/it]\n",
      "Training (4919 / 18000 Steps) (loss=0.41644): 100%|██████████| 6/6 [00:07<00:00,  1.31s/it]\n",
      "Training (4925 / 18000 Steps) (loss=0.52521): 100%|██████████| 6/6 [00:07<00:00,  1.31s/it]\n",
      "Training (4931 / 18000 Steps) (loss=0.38168): 100%|██████████| 6/6 [00:07<00:00,  1.32s/it]\n",
      "Training (4937 / 18000 Steps) (loss=0.42189): 100%|██████████| 6/6 [00:08<00:00,  1.42s/it]\n",
      "Training (4943 / 18000 Steps) (loss=0.42128): 100%|██████████| 6/6 [00:07<00:00,  1.29s/it]\n",
      "Training (4949 / 18000 Steps) (loss=0.42931): 100%|██████████| 6/6 [00:08<00:00,  1.34s/it]\n",
      "Training (4955 / 18000 Steps) (loss=0.29640): 100%|██████████| 6/6 [00:07<00:00,  1.33s/it]\n",
      "Training (4961 / 18000 Steps) (loss=0.49131): 100%|██████████| 6/6 [00:07<00:00,  1.30s/it]\n",
      "Training (4967 / 18000 Steps) (loss=0.27452): 100%|██████████| 6/6 [00:07<00:00,  1.29s/it]\n",
      "Training (4973 / 18000 Steps) (loss=0.61827): 100%|██████████| 6/6 [00:08<00:00,  1.39s/it]\n",
      "Training (4979 / 18000 Steps) (loss=0.46245): 100%|██████████| 6/6 [00:07<00:00,  1.31s/it]\n",
      "Training (4985 / 18000 Steps) (loss=0.56313): 100%|██████████| 6/6 [00:07<00:00,  1.32s/it]\n",
      "Training (4991 / 18000 Steps) (loss=0.62558): 100%|██████████| 6/6 [00:08<00:00,  1.34s/it]\n",
      "Training (4997 / 18000 Steps) (loss=0.46018): 100%|██████████| 6/6 [00:08<00:00,  1.34s/it]\n",
      "Validate (4998 / 10 Steps): 100%|██████████| 3/3 [00:05<00:00,  1.80s/it]<00:07,  1.96s/it]\n",
      "Training (5000 / 18000 Steps) (loss=0.52100):  50%|█████     | 3/6 [00:10<00:11,  3.94s/it]"
     ]
    },
    {
     "name": "stdout",
     "output_type": "stream",
     "text": [
      "Model Was Not Saved ! Current Best Avg. Dice: 0.25947320461273193 Current Avg. Dice: 0.11960062384605408 Current Avg. tumor Dice: 0.22903108596801758 Current Avg. lymph Dice: 0.0101701645180583\n"
     ]
    },
    {
     "name": "stderr",
     "output_type": "stream",
     "text": [
      "Training (5003 / 18000 Steps) (loss=0.45518): 100%|██████████| 6/6 [00:13<00:00,  2.20s/it]\n",
      "Training (5009 / 18000 Steps) (loss=0.45467): 100%|██████████| 6/6 [00:07<00:00,  1.31s/it]\n",
      "Training (5015 / 18000 Steps) (loss=0.38334): 100%|██████████| 6/6 [00:07<00:00,  1.31s/it]\n",
      "Training (5021 / 18000 Steps) (loss=0.57508): 100%|██████████| 6/6 [00:07<00:00,  1.31s/it]\n",
      "Training (5027 / 18000 Steps) (loss=0.60126): 100%|██████████| 6/6 [00:07<00:00,  1.31s/it]\n",
      "Training (5033 / 18000 Steps) (loss=0.60387): 100%|██████████| 6/6 [00:08<00:00,  1.35s/it]\n",
      "Training (5039 / 18000 Steps) (loss=0.36994): 100%|██████████| 6/6 [00:08<00:00,  1.37s/it]\n",
      "Training (5045 / 18000 Steps) (loss=0.60215): 100%|██████████| 6/6 [00:08<00:00,  1.36s/it]\n",
      "Training (5051 / 18000 Steps) (loss=0.44873): 100%|██████████| 6/6 [00:07<00:00,  1.31s/it]\n",
      "Training (5057 / 18000 Steps) (loss=0.57819): 100%|██████████| 6/6 [00:07<00:00,  1.33s/it]\n",
      "Training (5063 / 18000 Steps) (loss=0.43571): 100%|██████████| 6/6 [00:07<00:00,  1.33s/it]\n",
      "Training (5069 / 18000 Steps) (loss=0.57466): 100%|██████████| 6/6 [00:07<00:00,  1.30s/it]\n",
      "Training (5075 / 18000 Steps) (loss=0.47977): 100%|██████████| 6/6 [00:07<00:00,  1.30s/it]\n",
      "Training (5081 / 18000 Steps) (loss=0.47887): 100%|██████████| 6/6 [00:08<00:00,  1.34s/it]\n",
      "Training (5087 / 18000 Steps) (loss=0.53761): 100%|██████████| 6/6 [00:07<00:00,  1.31s/it]\n",
      "Training (5093 / 18000 Steps) (loss=0.48027): 100%|██████████| 6/6 [00:07<00:00,  1.31s/it]\n",
      "Training (5099 / 18000 Steps) (loss=0.48138): 100%|██████████| 6/6 [00:08<00:00,  1.40s/it]\n",
      "Validate (5100 / 10 Steps): 100%|██████████| 3/3 [00:05<00:00,  1.91s/it]<?, ?it/s]\n",
      "Training (5100 / 18000 Steps) (loss=0.43996):  17%|█▋        | 1/6 [00:09<00:46,  9.37s/it]"
     ]
    },
    {
     "name": "stdout",
     "output_type": "stream",
     "text": [
      "Model Was Not Saved ! Current Best Avg. Dice: 0.25947320461273193 Current Avg. Dice: 0.21732322871685028 Current Avg. tumor Dice: 0.2832900285720825 Current Avg. lymph Dice: 0.15135641396045685\n"
     ]
    },
    {
     "name": "stderr",
     "output_type": "stream",
     "text": [
      "Training (5105 / 18000 Steps) (loss=0.43411): 100%|██████████| 6/6 [00:13<00:00,  2.30s/it]\n",
      "Training (5111 / 18000 Steps) (loss=0.53812): 100%|██████████| 6/6 [00:07<00:00,  1.28s/it]\n",
      "Training (5117 / 18000 Steps) (loss=0.41066): 100%|██████████| 6/6 [00:08<00:00,  1.34s/it]\n",
      "Training (5123 / 18000 Steps) (loss=0.46673): 100%|██████████| 6/6 [00:08<00:00,  1.37s/it]\n",
      "Training (5129 / 18000 Steps) (loss=0.57634): 100%|██████████| 6/6 [00:07<00:00,  1.30s/it]\n",
      "Training (5135 / 18000 Steps) (loss=0.44801): 100%|██████████| 6/6 [00:08<00:00,  1.37s/it]\n",
      "Training (5141 / 18000 Steps) (loss=0.56147): 100%|██████████| 6/6 [00:07<00:00,  1.33s/it]\n",
      "Training (5147 / 18000 Steps) (loss=0.43435): 100%|██████████| 6/6 [00:07<00:00,  1.31s/it]\n",
      "Training (5153 / 18000 Steps) (loss=0.45868): 100%|██████████| 6/6 [00:08<00:00,  1.36s/it]\n",
      "Training (5159 / 18000 Steps) (loss=0.68443): 100%|██████████| 6/6 [00:07<00:00,  1.32s/it]\n",
      "Training (5165 / 18000 Steps) (loss=0.37064): 100%|██████████| 6/6 [00:08<00:00,  1.37s/it]\n",
      "Training (5171 / 18000 Steps) (loss=0.59242): 100%|██████████| 6/6 [00:08<00:00,  1.42s/it]\n",
      "Training (5177 / 18000 Steps) (loss=0.33577): 100%|██████████| 6/6 [00:07<00:00,  1.29s/it]\n",
      "Training (5183 / 18000 Steps) (loss=0.38357): 100%|██████████| 6/6 [00:07<00:00,  1.32s/it]\n",
      "Training (5189 / 18000 Steps) (loss=0.66867): 100%|██████████| 6/6 [00:07<00:00,  1.29s/it]\n",
      "Training (5195 / 18000 Steps) (loss=0.38869): 100%|██████████| 6/6 [00:08<00:00,  1.35s/it]\n",
      "Validate (5196 / 10 Steps): 100%|██████████| 3/3 [00:05<00:00,  1.94s/it]<00:02,  1.25s/it]\n",
      "Training (5200 / 18000 Steps) (loss=0.53452):  83%|████████▎ | 5/6 [00:13<00:03,  3.26s/it]"
     ]
    },
    {
     "name": "stdout",
     "output_type": "stream",
     "text": [
      "Model Was Not Saved ! Current Best Avg. Dice: 0.25947320461273193 Current Avg. Dice: 0.24155360460281372 Current Avg. tumor Dice: 0.334337443113327 Current Avg. lymph Dice: 0.14876976609230042\n"
     ]
    },
    {
     "name": "stderr",
     "output_type": "stream",
     "text": [
      "Training (5201 / 18000 Steps) (loss=0.42565): 100%|██████████| 6/6 [00:13<00:00,  2.31s/it]\n",
      "Training (5207 / 18000 Steps) (loss=0.58239): 100%|██████████| 6/6 [00:08<00:00,  1.34s/it]\n",
      "Training (5213 / 18000 Steps) (loss=0.52266): 100%|██████████| 6/6 [00:07<00:00,  1.28s/it]\n",
      "Training (5219 / 18000 Steps) (loss=0.47435): 100%|██████████| 6/6 [00:07<00:00,  1.32s/it]\n",
      "Training (5225 / 18000 Steps) (loss=0.46395): 100%|██████████| 6/6 [00:08<00:00,  1.37s/it]\n",
      "Training (5231 / 18000 Steps) (loss=0.46465): 100%|██████████| 6/6 [00:07<00:00,  1.31s/it]\n",
      "Training (5237 / 18000 Steps) (loss=0.38321): 100%|██████████| 6/6 [00:08<00:00,  1.39s/it]\n",
      "Training (5243 / 18000 Steps) (loss=0.46519): 100%|██████████| 6/6 [00:07<00:00,  1.33s/it]\n",
      "Training (5249 / 18000 Steps) (loss=0.32687): 100%|██████████| 6/6 [00:08<00:00,  1.34s/it]\n",
      "Training (5255 / 18000 Steps) (loss=0.28472): 100%|██████████| 6/6 [00:07<00:00,  1.33s/it]\n",
      "Training (5261 / 18000 Steps) (loss=0.40790): 100%|██████████| 6/6 [00:08<00:00,  1.34s/it]\n",
      "Training (5267 / 18000 Steps) (loss=0.48915): 100%|██████████| 6/6 [00:07<00:00,  1.31s/it]\n",
      "Training (5273 / 18000 Steps) (loss=0.32764): 100%|██████████| 6/6 [00:08<00:00,  1.35s/it]\n",
      "Training (5279 / 18000 Steps) (loss=0.51262): 100%|██████████| 6/6 [00:07<00:00,  1.32s/it]\n",
      "Training (5285 / 18000 Steps) (loss=0.32967): 100%|██████████| 6/6 [00:07<00:00,  1.26s/it]\n",
      "Training (5291 / 18000 Steps) (loss=0.44292): 100%|██████████| 6/6 [00:08<00:00,  1.34s/it]\n",
      "Training (5297 / 18000 Steps) (loss=0.60181): 100%|██████████| 6/6 [00:08<00:00,  1.37s/it]\n",
      "Validate (5298 / 10 Steps): 100%|██████████| 3/3 [00:05<00:00,  1.94s/it]<00:07,  1.99s/it]\n",
      "Training (5300 / 18000 Steps) (loss=0.38754):  50%|█████     | 3/6 [00:11<00:12,  4.19s/it]"
     ]
    },
    {
     "name": "stdout",
     "output_type": "stream",
     "text": [
      "Model Was Not Saved ! Current Best Avg. Dice: 0.25947320461273193 Current Avg. Dice: 0.1978132128715515 Current Avg. tumor Dice: 0.2992418706417084 Current Avg. lymph Dice: 0.09638453274965286\n"
     ]
    },
    {
     "name": "stderr",
     "output_type": "stream",
     "text": [
      "Training (5303 / 18000 Steps) (loss=0.36474): 100%|██████████| 6/6 [00:13<00:00,  2.29s/it]\n",
      "Training (5309 / 18000 Steps) (loss=0.58721): 100%|██████████| 6/6 [00:07<00:00,  1.28s/it]\n",
      "Training (5315 / 18000 Steps) (loss=0.53645): 100%|██████████| 6/6 [00:07<00:00,  1.28s/it]\n",
      "Training (5321 / 18000 Steps) (loss=0.41961): 100%|██████████| 6/6 [00:08<00:00,  1.34s/it]\n",
      "Training (5327 / 18000 Steps) (loss=0.38850): 100%|██████████| 6/6 [00:08<00:00,  1.37s/it]\n",
      "Training (5333 / 18000 Steps) (loss=0.51393): 100%|██████████| 6/6 [00:08<00:00,  1.34s/it]\n",
      "Training (5339 / 18000 Steps) (loss=0.51208): 100%|██████████| 6/6 [00:07<00:00,  1.30s/it]\n",
      "Training (5345 / 18000 Steps) (loss=0.30002): 100%|██████████| 6/6 [00:07<00:00,  1.32s/it]\n",
      "Training (5351 / 18000 Steps) (loss=0.60376): 100%|██████████| 6/6 [00:08<00:00,  1.37s/it]\n",
      "Training (5357 / 18000 Steps) (loss=0.43583): 100%|██████████| 6/6 [00:07<00:00,  1.29s/it]\n",
      "Training (5363 / 18000 Steps) (loss=0.66870): 100%|██████████| 6/6 [00:08<00:00,  1.37s/it]\n",
      "Training (5369 / 18000 Steps) (loss=0.39615): 100%|██████████| 6/6 [00:07<00:00,  1.33s/it]\n",
      "Training (5375 / 18000 Steps) (loss=0.58253): 100%|██████████| 6/6 [00:07<00:00,  1.30s/it]\n",
      "Training (5381 / 18000 Steps) (loss=0.52574): 100%|██████████| 6/6 [00:07<00:00,  1.27s/it]\n",
      "Training (5387 / 18000 Steps) (loss=0.44095): 100%|██████████| 6/6 [00:07<00:00,  1.31s/it]\n",
      "Training (5393 / 18000 Steps) (loss=0.46832): 100%|██████████| 6/6 [00:07<00:00,  1.30s/it]\n",
      "Training (5399 / 18000 Steps) (loss=0.38242): 100%|██████████| 6/6 [00:08<00:00,  1.39s/it]\n",
      "Validate (5400 / 10 Steps): 100%|██████████| 3/3 [00:05<00:00,  1.85s/it]<?, ?it/s]\n",
      "Training (5400 / 18000 Steps) (loss=0.49549):  17%|█▋        | 1/6 [00:09<00:48,  9.60s/it]"
     ]
    },
    {
     "name": "stdout",
     "output_type": "stream",
     "text": [
      "Model Was Not Saved ! Current Best Avg. Dice: 0.25947320461273193 Current Avg. Dice: 0.23465144634246826 Current Avg. tumor Dice: 0.3105940520763397 Current Avg. lymph Dice: 0.15870881080627441\n"
     ]
    },
    {
     "name": "stderr",
     "output_type": "stream",
     "text": [
      "Training (5405 / 18000 Steps) (loss=0.41727): 100%|██████████| 6/6 [00:13<00:00,  2.33s/it]\n",
      "Training (5411 / 18000 Steps) (loss=0.37190): 100%|██████████| 6/6 [00:07<00:00,  1.30s/it]\n",
      "Training (5417 / 18000 Steps) (loss=0.37265): 100%|██████████| 6/6 [00:08<00:00,  1.37s/it]\n",
      "Training (5423 / 18000 Steps) (loss=0.34253): 100%|██████████| 6/6 [00:07<00:00,  1.30s/it]\n",
      "Training (5429 / 18000 Steps) (loss=0.33527): 100%|██████████| 6/6 [00:08<00:00,  1.35s/it]\n",
      "Training (5435 / 18000 Steps) (loss=0.56836): 100%|██████████| 6/6 [00:08<00:00,  1.35s/it]\n",
      "Training (5441 / 18000 Steps) (loss=0.30459): 100%|██████████| 6/6 [00:07<00:00,  1.31s/it]\n",
      "Training (5447 / 18000 Steps) (loss=0.44433): 100%|██████████| 6/6 [00:07<00:00,  1.31s/it]\n",
      "Training (5453 / 18000 Steps) (loss=0.51589): 100%|██████████| 6/6 [00:07<00:00,  1.32s/it]\n",
      "Training (5459 / 18000 Steps) (loss=0.38493): 100%|██████████| 6/6 [00:07<00:00,  1.32s/it]\n",
      "Training (5465 / 18000 Steps) (loss=0.49563): 100%|██████████| 6/6 [00:08<00:00,  1.34s/it]\n",
      "Training (5471 / 18000 Steps) (loss=0.26443): 100%|██████████| 6/6 [00:07<00:00,  1.31s/it]\n",
      "Training (5477 / 18000 Steps) (loss=0.46770): 100%|██████████| 6/6 [00:08<00:00,  1.34s/it]\n",
      "Training (5483 / 18000 Steps) (loss=0.57135): 100%|██████████| 6/6 [00:07<00:00,  1.30s/it]\n",
      "Training (5489 / 18000 Steps) (loss=0.46949): 100%|██████████| 6/6 [00:08<00:00,  1.36s/it]\n",
      "Training (5495 / 18000 Steps) (loss=0.45697): 100%|██████████| 6/6 [00:07<00:00,  1.33s/it]\n",
      "Validate (5496 / 10 Steps): 100%|██████████| 3/3 [00:05<00:00,  1.93s/it]<00:02,  1.29s/it]\n",
      "Training (5500 / 18000 Steps) (loss=0.55312):  83%|████████▎ | 5/6 [00:13<00:03,  3.28s/it]"
     ]
    },
    {
     "name": "stdout",
     "output_type": "stream",
     "text": [
      "Model Was Not Saved ! Current Best Avg. Dice: 0.25947320461273193 Current Avg. Dice: 0.22041304409503937 Current Avg. tumor Dice: 0.325654000043869 Current Avg. lymph Dice: 0.11517209559679031\n"
     ]
    },
    {
     "name": "stderr",
     "output_type": "stream",
     "text": [
      "Training (5501 / 18000 Steps) (loss=0.50841): 100%|██████████| 6/6 [00:14<00:00,  2.35s/it]\n",
      "Training (5507 / 18000 Steps) (loss=0.45293): 100%|██████████| 6/6 [00:08<00:00,  1.36s/it]\n",
      "Training (5513 / 18000 Steps) (loss=0.48476): 100%|██████████| 6/6 [00:07<00:00,  1.33s/it]\n",
      "Training (5519 / 18000 Steps) (loss=0.44080): 100%|██████████| 6/6 [00:08<00:00,  1.39s/it]\n",
      "Training (5525 / 18000 Steps) (loss=0.57880): 100%|██████████| 6/6 [00:07<00:00,  1.31s/it]\n",
      "Training (5531 / 18000 Steps) (loss=0.32938): 100%|██████████| 6/6 [00:07<00:00,  1.29s/it]\n",
      "Training (5537 / 18000 Steps) (loss=0.43029): 100%|██████████| 6/6 [00:07<00:00,  1.29s/it]\n",
      "Training (5543 / 18000 Steps) (loss=0.35881): 100%|██████████| 6/6 [00:07<00:00,  1.33s/it]\n",
      "Training (5549 / 18000 Steps) (loss=0.41765): 100%|██████████| 6/6 [00:08<00:00,  1.37s/it]\n",
      "Training (5555 / 18000 Steps) (loss=0.45663): 100%|██████████| 6/6 [00:08<00:00,  1.45s/it]\n",
      "Training (5561 / 18000 Steps) (loss=0.41196): 100%|██████████| 6/6 [00:07<00:00,  1.32s/it]\n",
      "Training (5567 / 18000 Steps) (loss=0.40543): 100%|██████████| 6/6 [00:07<00:00,  1.30s/it]\n",
      "Training (5573 / 18000 Steps) (loss=0.64256): 100%|██████████| 6/6 [00:07<00:00,  1.33s/it]\n",
      "Training (5579 / 18000 Steps) (loss=0.54719): 100%|██████████| 6/6 [00:07<00:00,  1.32s/it]\n",
      "Training (5585 / 18000 Steps) (loss=0.43621): 100%|██████████| 6/6 [00:07<00:00,  1.26s/it]\n",
      "Training (5591 / 18000 Steps) (loss=0.18027): 100%|██████████| 6/6 [00:08<00:00,  1.36s/it]\n",
      "Training (5597 / 18000 Steps) (loss=0.56301): 100%|██████████| 6/6 [00:08<00:00,  1.37s/it]\n",
      "Validate (5598 / 10 Steps): 100%|██████████| 3/3 [00:05<00:00,  1.86s/it]<00:08,  2.17s/it]\n",
      "Training (5600 / 18000 Steps) (loss=0.43694):  50%|█████     | 3/6 [00:11<00:12,  4.16s/it]"
     ]
    },
    {
     "name": "stdout",
     "output_type": "stream",
     "text": [
      "Model Was Not Saved ! Current Best Avg. Dice: 0.25947320461273193 Current Avg. Dice: 0.22558264434337616 Current Avg. tumor Dice: 0.33087801933288574 Current Avg. lymph Dice: 0.12028723955154419\n"
     ]
    },
    {
     "name": "stderr",
     "output_type": "stream",
     "text": [
      "Training (5603 / 18000 Steps) (loss=0.65330): 100%|██████████| 6/6 [00:13<00:00,  2.30s/it]\n",
      "Training (5609 / 18000 Steps) (loss=0.24503): 100%|██████████| 6/6 [00:07<00:00,  1.32s/it]\n",
      "Training (5615 / 18000 Steps) (loss=0.41982): 100%|██████████| 6/6 [00:07<00:00,  1.32s/it]\n",
      "Training (5621 / 18000 Steps) (loss=0.35086): 100%|██████████| 6/6 [00:08<00:00,  1.37s/it]\n",
      "Training (5627 / 18000 Steps) (loss=0.48853): 100%|██████████| 6/6 [00:07<00:00,  1.30s/it]\n",
      "Training (5633 / 18000 Steps) (loss=0.34458): 100%|██████████| 6/6 [00:07<00:00,  1.25s/it]\n",
      "Training (5639 / 18000 Steps) (loss=0.30099): 100%|██████████| 6/6 [00:08<00:00,  1.34s/it]\n",
      "Training (5645 / 18000 Steps) (loss=0.48660): 100%|██████████| 6/6 [00:07<00:00,  1.33s/it]\n",
      "Training (5651 / 18000 Steps) (loss=0.42237): 100%|██████████| 6/6 [00:08<00:00,  1.34s/it]\n",
      "Training (5657 / 18000 Steps) (loss=0.48684): 100%|██████████| 6/6 [00:08<00:00,  1.37s/it]\n",
      "Training (5663 / 18000 Steps) (loss=0.43632): 100%|██████████| 6/6 [00:07<00:00,  1.27s/it]\n",
      "Training (5669 / 18000 Steps) (loss=0.65203): 100%|██████████| 6/6 [00:07<00:00,  1.30s/it]\n",
      "Training (5675 / 18000 Steps) (loss=0.62144): 100%|██████████| 6/6 [00:07<00:00,  1.31s/it]\n",
      "Training (5681 / 18000 Steps) (loss=0.45819): 100%|██████████| 6/6 [00:07<00:00,  1.33s/it]\n",
      "Training (5687 / 18000 Steps) (loss=0.45978): 100%|██████████| 6/6 [00:07<00:00,  1.29s/it]\n",
      "Training (5693 / 18000 Steps) (loss=0.42740): 100%|██████████| 6/6 [00:08<00:00,  1.36s/it]\n",
      "Training (5699 / 18000 Steps) (loss=0.57062): 100%|██████████| 6/6 [00:07<00:00,  1.31s/it]\n",
      "Validate (5700 / 10 Steps): 100%|██████████| 3/3 [00:05<00:00,  1.84s/it]<?, ?it/s]\n",
      "Training (5700 / 18000 Steps) (loss=0.50102):  17%|█▋        | 1/6 [00:09<00:47,  9.42s/it]"
     ]
    },
    {
     "name": "stdout",
     "output_type": "stream",
     "text": [
      "Model Was Not Saved ! Current Best Avg. Dice: 0.25947320461273193 Current Avg. Dice: 0.17663393914699554 Current Avg. tumor Dice: 0.2792153060436249 Current Avg. lymph Dice: 0.07405254989862442\n"
     ]
    },
    {
     "name": "stderr",
     "output_type": "stream",
     "text": [
      "Training (5705 / 18000 Steps) (loss=0.37175): 100%|██████████| 6/6 [00:13<00:00,  2.30s/it]\n",
      "Training (5711 / 18000 Steps) (loss=0.31884): 100%|██████████| 6/6 [00:08<00:00,  1.35s/it]\n",
      "Training (5717 / 18000 Steps) (loss=0.49638): 100%|██████████| 6/6 [00:08<00:00,  1.35s/it]\n",
      "Training (5723 / 18000 Steps) (loss=0.37404): 100%|██████████| 6/6 [00:08<00:00,  1.34s/it]\n",
      "Training (5729 / 18000 Steps) (loss=0.58716): 100%|██████████| 6/6 [00:07<00:00,  1.29s/it]\n",
      "Training (5735 / 18000 Steps) (loss=0.34968): 100%|██████████| 6/6 [00:07<00:00,  1.31s/it]\n",
      "Training (5741 / 18000 Steps) (loss=0.55824): 100%|██████████| 6/6 [00:08<00:00,  1.37s/it]\n",
      "Training (5747 / 18000 Steps) (loss=0.40599): 100%|██████████| 6/6 [00:08<00:00,  1.37s/it]\n",
      "Training (5753 / 18000 Steps) (loss=0.49953): 100%|██████████| 6/6 [00:08<00:00,  1.37s/it]\n",
      "Training (5759 / 18000 Steps) (loss=0.22489): 100%|██████████| 6/6 [00:07<00:00,  1.28s/it]\n",
      "Training (5765 / 18000 Steps) (loss=0.47289): 100%|██████████| 6/6 [00:07<00:00,  1.33s/it]\n",
      "Training (5771 / 18000 Steps) (loss=0.19017): 100%|██████████| 6/6 [00:08<00:00,  1.35s/it]\n",
      "Training (5777 / 18000 Steps) (loss=0.46611): 100%|██████████| 6/6 [00:07<00:00,  1.28s/it]\n",
      "Training (5783 / 18000 Steps) (loss=0.52844): 100%|██████████| 6/6 [00:08<00:00,  1.35s/it]\n",
      "Training (5789 / 18000 Steps) (loss=0.54735): 100%|██████████| 6/6 [00:08<00:00,  1.40s/it]\n",
      "Training (5795 / 18000 Steps) (loss=0.40594): 100%|██████████| 6/6 [00:08<00:00,  1.35s/it]\n",
      "Validate (5796 / 10 Steps): 100%|██████████| 3/3 [00:05<00:00,  1.98s/it]<00:02,  1.29s/it]\n",
      "Training (5800 / 18000 Steps) (loss=0.51688):  83%|████████▎ | 5/6 [00:13<00:03,  3.30s/it]"
     ]
    },
    {
     "name": "stdout",
     "output_type": "stream",
     "text": [
      "Model Was Not Saved ! Current Best Avg. Dice: 0.25947320461273193 Current Avg. Dice: 0.21697776019573212 Current Avg. tumor Dice: 0.2697587311267853 Current Avg. lymph Dice: 0.16419678926467896\n"
     ]
    },
    {
     "name": "stderr",
     "output_type": "stream",
     "text": [
      "Training (5801 / 18000 Steps) (loss=0.37209): 100%|██████████| 6/6 [00:14<00:00,  2.34s/it]\n",
      "Training (5807 / 18000 Steps) (loss=0.60984): 100%|██████████| 6/6 [00:07<00:00,  1.32s/it]\n",
      "Training (5813 / 18000 Steps) (loss=0.55472): 100%|██████████| 6/6 [00:07<00:00,  1.30s/it]\n",
      "Training (5819 / 18000 Steps) (loss=0.53186): 100%|██████████| 6/6 [00:08<00:00,  1.36s/it]\n",
      "Training (5825 / 18000 Steps) (loss=0.53339): 100%|██████████| 6/6 [00:07<00:00,  1.30s/it]\n",
      "Training (5831 / 18000 Steps) (loss=0.30936): 100%|██████████| 6/6 [00:07<00:00,  1.31s/it]\n",
      "Training (5837 / 18000 Steps) (loss=0.61096): 100%|██████████| 6/6 [00:08<00:00,  1.35s/it]\n",
      "Training (5843 / 18000 Steps) (loss=0.41013): 100%|██████████| 6/6 [00:08<00:00,  1.34s/it]\n",
      "Training (5849 / 18000 Steps) (loss=0.43653): 100%|██████████| 6/6 [00:08<00:00,  1.33s/it]\n",
      "Training (5855 / 18000 Steps) (loss=0.46388): 100%|██████████| 6/6 [00:07<00:00,  1.33s/it]\n",
      "Training (5861 / 18000 Steps) (loss=0.55946): 100%|██████████| 6/6 [00:08<00:00,  1.36s/it]\n",
      "Training (5867 / 18000 Steps) (loss=0.52799): 100%|██████████| 6/6 [00:07<00:00,  1.27s/it]\n",
      "Training (5873 / 18000 Steps) (loss=0.54907): 100%|██████████| 6/6 [00:08<00:00,  1.34s/it]\n",
      "Training (5879 / 18000 Steps) (loss=0.51525): 100%|██████████| 6/6 [00:08<00:00,  1.34s/it]\n",
      "Training (5885 / 18000 Steps) (loss=0.53246): 100%|██████████| 6/6 [00:08<00:00,  1.38s/it]\n",
      "Training (5891 / 18000 Steps) (loss=0.37414): 100%|██████████| 6/6 [00:08<00:00,  1.34s/it]\n",
      "Training (5897 / 18000 Steps) (loss=0.40019): 100%|██████████| 6/6 [00:07<00:00,  1.33s/it]\n",
      "Validate (5898 / 10 Steps): 100%|██████████| 3/3 [00:05<00:00,  1.86s/it]<00:08,  2.10s/it]\n",
      "Training (5900 / 18000 Steps) (loss=0.37870):  50%|█████     | 3/6 [00:11<00:12,  4.11s/it]"
     ]
    },
    {
     "name": "stdout",
     "output_type": "stream",
     "text": [
      "Model Was Not Saved ! Current Best Avg. Dice: 0.25947320461273193 Current Avg. Dice: 0.22249345481395721 Current Avg. tumor Dice: 0.31789642572402954 Current Avg. lymph Dice: 0.1270904541015625\n"
     ]
    },
    {
     "name": "stderr",
     "output_type": "stream",
     "text": [
      "Training (5903 / 18000 Steps) (loss=0.42337): 100%|██████████| 6/6 [00:13<00:00,  2.29s/it]\n",
      "Training (5909 / 18000 Steps) (loss=0.37836): 100%|██████████| 6/6 [00:08<00:00,  1.35s/it]\n",
      "Training (5915 / 18000 Steps) (loss=0.56629): 100%|██████████| 6/6 [00:07<00:00,  1.33s/it]\n",
      "Training (5921 / 18000 Steps) (loss=0.49374): 100%|██████████| 6/6 [00:07<00:00,  1.26s/it]\n",
      "Training (5927 / 18000 Steps) (loss=0.61199): 100%|██████████| 6/6 [00:07<00:00,  1.29s/it]\n",
      "Training (5933 / 18000 Steps) (loss=0.47336): 100%|██████████| 6/6 [00:08<00:00,  1.37s/it]\n",
      "Training (5939 / 18000 Steps) (loss=0.54745): 100%|██████████| 6/6 [00:08<00:00,  1.36s/it]\n",
      "Training (5945 / 18000 Steps) (loss=0.56621): 100%|██████████| 6/6 [00:08<00:00,  1.42s/it]\n",
      "Training (5951 / 18000 Steps) (loss=0.51436): 100%|██████████| 6/6 [00:07<00:00,  1.33s/it]\n",
      "Training (5957 / 18000 Steps) (loss=0.49912): 100%|██████████| 6/6 [00:07<00:00,  1.31s/it]\n",
      "Training (5963 / 18000 Steps) (loss=0.40991): 100%|██████████| 6/6 [00:07<00:00,  1.29s/it]\n",
      "Training (5969 / 18000 Steps) (loss=0.53276): 100%|██████████| 6/6 [00:07<00:00,  1.30s/it]\n",
      "Training (5975 / 18000 Steps) (loss=0.46986): 100%|██████████| 6/6 [00:07<00:00,  1.27s/it]\n",
      "Training (5981 / 18000 Steps) (loss=0.41870): 100%|██████████| 6/6 [00:08<00:00,  1.37s/it]\n",
      "Training (5987 / 18000 Steps) (loss=0.39457): 100%|██████████| 6/6 [00:07<00:00,  1.32s/it]\n",
      "Training (5993 / 18000 Steps) (loss=0.42176): 100%|██████████| 6/6 [00:07<00:00,  1.33s/it]\n",
      "Training (5999 / 18000 Steps) (loss=0.36400): 100%|██████████| 6/6 [00:08<00:00,  1.34s/it]\n",
      "Validate (6000 / 10 Steps): 100%|██████████| 3/3 [00:05<00:00,  1.85s/it]<?, ?it/s]\n",
      "Training (6000 / 18000 Steps) (loss=0.42031):  17%|█▋        | 1/6 [00:09<00:47,  9.41s/it]"
     ]
    },
    {
     "name": "stdout",
     "output_type": "stream",
     "text": [
      "Model Was Not Saved ! Current Best Avg. Dice: 0.25947320461273193 Current Avg. Dice: 0.1649610996246338 Current Avg. tumor Dice: 0.1693067103624344 Current Avg. lymph Dice: 0.16061550378799438\n"
     ]
    },
    {
     "name": "stderr",
     "output_type": "stream",
     "text": [
      "Training (6005 / 18000 Steps) (loss=0.48166): 100%|██████████| 6/6 [00:13<00:00,  2.30s/it]\n",
      "Training (6011 / 18000 Steps) (loss=0.26182): 100%|██████████| 6/6 [00:08<00:00,  1.37s/it]\n",
      "Training (6017 / 18000 Steps) (loss=0.48577): 100%|██████████| 6/6 [00:07<00:00,  1.32s/it]\n",
      "Training (6023 / 18000 Steps) (loss=0.39010): 100%|██████████| 6/6 [00:07<00:00,  1.29s/it]\n",
      "Training (6029 / 18000 Steps) (loss=0.52939): 100%|██████████| 6/6 [00:08<00:00,  1.36s/it]\n",
      "Training (6035 / 18000 Steps) (loss=0.48660): 100%|██████████| 6/6 [00:08<00:00,  1.34s/it]\n",
      "Training (6041 / 18000 Steps) (loss=0.53968): 100%|██████████| 6/6 [00:08<00:00,  1.35s/it]\n",
      "Training (6047 / 18000 Steps) (loss=0.62503): 100%|██████████| 6/6 [00:08<00:00,  1.37s/it]\n",
      "Training (6053 / 18000 Steps) (loss=0.61392): 100%|██████████| 6/6 [00:08<00:00,  1.37s/it]\n",
      "Training (6059 / 18000 Steps) (loss=0.57075): 100%|██████████| 6/6 [00:08<00:00,  1.35s/it]\n",
      "Training (6065 / 18000 Steps) (loss=0.56684): 100%|██████████| 6/6 [00:08<00:00,  1.34s/it]\n",
      "Training (6071 / 18000 Steps) (loss=0.57850): 100%|██████████| 6/6 [00:08<00:00,  1.39s/it]\n",
      "Training (6077 / 18000 Steps) (loss=0.35348): 100%|██████████| 6/6 [00:08<00:00,  1.39s/it]\n",
      "Training (6083 / 18000 Steps) (loss=0.43614): 100%|██████████| 6/6 [00:07<00:00,  1.31s/it]\n",
      "Training (6089 / 18000 Steps) (loss=0.24723): 100%|██████████| 6/6 [00:08<00:00,  1.37s/it]\n",
      "Training (6095 / 18000 Steps) (loss=0.38194): 100%|██████████| 6/6 [00:08<00:00,  1.35s/it]\n",
      "Validate (6096 / 10 Steps): 100%|██████████| 3/3 [00:05<00:00,  1.98s/it]<00:02,  1.26s/it]\n",
      "Training (6100 / 18000 Steps) (loss=0.51549):  83%|████████▎ | 5/6 [00:13<00:03,  3.30s/it]"
     ]
    },
    {
     "name": "stdout",
     "output_type": "stream",
     "text": [
      "Model Was Not Saved ! Current Best Avg. Dice: 0.25947320461273193 Current Avg. Dice: 0.2283201664686203 Current Avg. tumor Dice: 0.34775611758232117 Current Avg. lymph Dice: 0.10888424515724182\n"
     ]
    },
    {
     "name": "stderr",
     "output_type": "stream",
     "text": [
      "Training (6101 / 18000 Steps) (loss=0.48773): 100%|██████████| 6/6 [00:14<00:00,  2.35s/it]\n",
      "Training (6107 / 18000 Steps) (loss=0.40089): 100%|██████████| 6/6 [00:08<00:00,  1.38s/it]\n",
      "Training (6113 / 18000 Steps) (loss=0.41472): 100%|██████████| 6/6 [00:07<00:00,  1.27s/it]\n",
      "Training (6119 / 18000 Steps) (loss=0.54571): 100%|██████████| 6/6 [00:08<00:00,  1.34s/it]\n",
      "Training (6125 / 18000 Steps) (loss=0.45321): 100%|██████████| 6/6 [00:07<00:00,  1.32s/it]\n",
      "Training (6131 / 18000 Steps) (loss=0.35042): 100%|██████████| 6/6 [00:07<00:00,  1.31s/it]\n",
      "Training (6137 / 18000 Steps) (loss=0.49244): 100%|██████████| 6/6 [00:08<00:00,  1.39s/it]\n",
      "Training (6143 / 18000 Steps) (loss=0.50183): 100%|██████████| 6/6 [00:08<00:00,  1.35s/it]\n",
      "Training (6149 / 18000 Steps) (loss=0.41638): 100%|██████████| 6/6 [00:08<00:00,  1.34s/it]\n",
      "Training (6155 / 18000 Steps) (loss=0.48286): 100%|██████████| 6/6 [00:07<00:00,  1.33s/it]\n",
      "Training (6161 / 18000 Steps) (loss=0.48798): 100%|██████████| 6/6 [00:07<00:00,  1.30s/it]\n",
      "Training (6167 / 18000 Steps) (loss=0.27952): 100%|██████████| 6/6 [00:07<00:00,  1.30s/it]\n",
      "Training (6173 / 18000 Steps) (loss=0.60737): 100%|██████████| 6/6 [00:08<00:00,  1.36s/it]\n",
      "Training (6179 / 18000 Steps) (loss=0.42073): 100%|██████████| 6/6 [00:07<00:00,  1.33s/it]\n",
      "Training (6185 / 18000 Steps) (loss=0.32894): 100%|██████████| 6/6 [00:07<00:00,  1.32s/it]\n",
      "Training (6191 / 18000 Steps) (loss=0.47011): 100%|██████████| 6/6 [00:08<00:00,  1.37s/it]\n",
      "Training (6197 / 18000 Steps) (loss=0.45610): 100%|██████████| 6/6 [00:08<00:00,  1.35s/it]\n",
      "Validate (6198 / 10 Steps): 100%|██████████| 3/3 [00:05<00:00,  1.91s/it]<00:07,  2.00s/it]\n",
      "Training (6200 / 18000 Steps) (loss=0.56685):  50%|█████     | 3/6 [00:11<00:12,  4.10s/it]"
     ]
    },
    {
     "name": "stdout",
     "output_type": "stream",
     "text": [
      "Model Was Not Saved ! Current Best Avg. Dice: 0.25947320461273193 Current Avg. Dice: 0.2403557300567627 Current Avg. tumor Dice: 0.410836786031723 Current Avg. lymph Dice: 0.06987466663122177\n"
     ]
    },
    {
     "name": "stderr",
     "output_type": "stream",
     "text": [
      "Training (6203 / 18000 Steps) (loss=0.53408): 100%|██████████| 6/6 [00:13<00:00,  2.29s/it]\n",
      "Training (6209 / 18000 Steps) (loss=0.46522): 100%|██████████| 6/6 [00:08<00:00,  1.33s/it]\n",
      "Training (6215 / 18000 Steps) (loss=0.29549): 100%|██████████| 6/6 [00:08<00:00,  1.34s/it]\n",
      "Training (6221 / 18000 Steps) (loss=0.43268): 100%|██████████| 6/6 [00:08<00:00,  1.35s/it]\n",
      "Training (6227 / 18000 Steps) (loss=0.35306): 100%|██████████| 6/6 [00:07<00:00,  1.33s/it]\n",
      "Training (6233 / 18000 Steps) (loss=0.35523): 100%|██████████| 6/6 [00:07<00:00,  1.29s/it]\n",
      "Training (6239 / 18000 Steps) (loss=0.60592): 100%|██████████| 6/6 [00:08<00:00,  1.38s/it]\n",
      "Training (6245 / 18000 Steps) (loss=0.28067): 100%|██████████| 6/6 [00:08<00:00,  1.39s/it]\n",
      "Training (6251 / 18000 Steps) (loss=0.42835): 100%|██████████| 6/6 [00:07<00:00,  1.33s/it]\n",
      "Training (6257 / 18000 Steps) (loss=0.34776): 100%|██████████| 6/6 [00:08<00:00,  1.34s/it]\n",
      "Training (6263 / 18000 Steps) (loss=0.46025): 100%|██████████| 6/6 [00:08<00:00,  1.40s/it]\n",
      "Training (6269 / 18000 Steps) (loss=0.36395): 100%|██████████| 6/6 [00:08<00:00,  1.40s/it]\n",
      "Training (6275 / 18000 Steps) (loss=0.47366): 100%|██████████| 6/6 [00:08<00:00,  1.36s/it]\n",
      "Training (6281 / 18000 Steps) (loss=0.15136): 100%|██████████| 6/6 [00:08<00:00,  1.35s/it]\n",
      "Training (6287 / 18000 Steps) (loss=0.45508): 100%|██████████| 6/6 [00:08<00:00,  1.34s/it]\n",
      "Training (6293 / 18000 Steps) (loss=0.39873): 100%|██████████| 6/6 [00:08<00:00,  1.36s/it]\n",
      "Training (6299 / 18000 Steps) (loss=0.57764): 100%|██████████| 6/6 [00:08<00:00,  1.44s/it]\n",
      "Validate (6300 / 10 Steps): 100%|██████████| 3/3 [00:05<00:00,  1.85s/it]<?, ?it/s]\n",
      "Training (6300 / 18000 Steps) (loss=0.45351):  17%|█▋        | 1/6 [00:09<00:47,  9.45s/it]"
     ]
    },
    {
     "name": "stdout",
     "output_type": "stream",
     "text": [
      "Model Was Not Saved ! Current Best Avg. Dice: 0.25947320461273193 Current Avg. Dice: 0.23736190795898438 Current Avg. tumor Dice: 0.3153693675994873 Current Avg. lymph Dice: 0.15935447812080383\n"
     ]
    },
    {
     "name": "stderr",
     "output_type": "stream",
     "text": [
      "Training (6305 / 18000 Steps) (loss=0.49808): 100%|██████████| 6/6 [00:13<00:00,  2.28s/it]\n",
      "Training (6311 / 18000 Steps) (loss=0.56182): 100%|██████████| 6/6 [00:07<00:00,  1.32s/it]\n",
      "Training (6317 / 18000 Steps) (loss=0.33047): 100%|██████████| 6/6 [00:08<00:00,  1.35s/it]\n",
      "Training (6323 / 18000 Steps) (loss=0.54638): 100%|██████████| 6/6 [00:08<00:00,  1.35s/it]\n",
      "Training (6329 / 18000 Steps) (loss=0.50617): 100%|██████████| 6/6 [00:08<00:00,  1.36s/it]\n",
      "Training (6335 / 18000 Steps) (loss=0.55459): 100%|██████████| 6/6 [00:08<00:00,  1.40s/it]\n",
      "Training (6341 / 18000 Steps) (loss=0.49444): 100%|██████████| 6/6 [00:08<00:00,  1.39s/it]\n",
      "Training (6347 / 18000 Steps) (loss=0.37572): 100%|██████████| 6/6 [00:08<00:00,  1.34s/it]\n",
      "Training (6353 / 18000 Steps) (loss=0.62245): 100%|██████████| 6/6 [00:07<00:00,  1.29s/it]\n",
      "Training (6359 / 18000 Steps) (loss=0.43985): 100%|██████████| 6/6 [00:08<00:00,  1.35s/it]\n",
      "Training (6365 / 18000 Steps) (loss=0.60706): 100%|██████████| 6/6 [00:08<00:00,  1.37s/it]\n",
      "Training (6371 / 18000 Steps) (loss=0.51538): 100%|██████████| 6/6 [00:08<00:00,  1.37s/it]\n",
      "Training (6377 / 18000 Steps) (loss=0.45244): 100%|██████████| 6/6 [00:07<00:00,  1.32s/it]\n",
      "Training (6383 / 18000 Steps) (loss=0.44700): 100%|██████████| 6/6 [00:07<00:00,  1.33s/it]\n",
      "Training (6389 / 18000 Steps) (loss=0.25011): 100%|██████████| 6/6 [00:08<00:00,  1.36s/it]\n",
      "Training (6395 / 18000 Steps) (loss=0.42327): 100%|██████████| 6/6 [00:08<00:00,  1.36s/it]\n",
      "Validate (6396 / 10 Steps): 100%|██████████| 3/3 [00:05<00:00,  1.86s/it]<00:02,  1.33s/it]\n",
      "Training (6400 / 18000 Steps) (loss=0.47325):  83%|████████▎ | 5/6 [00:13<00:03,  3.32s/it]"
     ]
    },
    {
     "name": "stdout",
     "output_type": "stream",
     "text": [
      "Model Was Not Saved ! Current Best Avg. Dice: 0.25947320461273193 Current Avg. Dice: 0.2012302130460739 Current Avg. tumor Dice: 0.2713434398174286 Current Avg. lymph Dice: 0.13111700117588043\n"
     ]
    },
    {
     "name": "stderr",
     "output_type": "stream",
     "text": [
      "Training (6401 / 18000 Steps) (loss=0.44303): 100%|██████████| 6/6 [00:14<00:00,  2.40s/it]\n",
      "Training (6407 / 18000 Steps) (loss=0.57908): 100%|██████████| 6/6 [00:07<00:00,  1.33s/it]\n",
      "Training (6413 / 18000 Steps) (loss=0.54573): 100%|██████████| 6/6 [00:07<00:00,  1.31s/it]\n",
      "Training (6419 / 18000 Steps) (loss=0.38853): 100%|██████████| 6/6 [00:08<00:00,  1.34s/it]\n",
      "Training (6425 / 18000 Steps) (loss=0.22343): 100%|██████████| 6/6 [00:08<00:00,  1.34s/it]\n",
      "Training (6431 / 18000 Steps) (loss=0.48594): 100%|██████████| 6/6 [00:07<00:00,  1.32s/it]\n",
      "Training (6437 / 18000 Steps) (loss=0.47812): 100%|██████████| 6/6 [00:07<00:00,  1.32s/it]\n",
      "Training (6443 / 18000 Steps) (loss=0.34775): 100%|██████████| 6/6 [00:08<00:00,  1.38s/it]\n",
      "Training (6449 / 18000 Steps) (loss=0.28490): 100%|██████████| 6/6 [00:07<00:00,  1.33s/it]\n",
      "Training (6455 / 18000 Steps) (loss=0.48105): 100%|██████████| 6/6 [00:07<00:00,  1.28s/it]\n",
      "Training (6461 / 18000 Steps) (loss=0.41031): 100%|██████████| 6/6 [00:08<00:00,  1.39s/it]\n",
      "Training (6467 / 18000 Steps) (loss=0.61379): 100%|██████████| 6/6 [00:07<00:00,  1.33s/it]\n",
      "Training (6473 / 18000 Steps) (loss=0.29856): 100%|██████████| 6/6 [00:07<00:00,  1.30s/it]\n",
      "Training (6479 / 18000 Steps) (loss=0.37252): 100%|██████████| 6/6 [00:07<00:00,  1.32s/it]\n",
      "Training (6485 / 18000 Steps) (loss=0.51143): 100%|██████████| 6/6 [00:07<00:00,  1.33s/it]\n",
      "Training (6491 / 18000 Steps) (loss=0.45891): 100%|██████████| 6/6 [00:07<00:00,  1.33s/it]\n",
      "Training (6497 / 18000 Steps) (loss=0.67952): 100%|██████████| 6/6 [00:08<00:00,  1.42s/it]\n",
      "Validate (6498 / 10 Steps): 100%|██████████| 3/3 [00:05<00:00,  1.91s/it]<00:07,  1.96s/it]\n",
      "Training (6500 / 18000 Steps) (loss=0.52197):  50%|█████     | 3/6 [00:11<00:12,  4.09s/it]"
     ]
    },
    {
     "name": "stdout",
     "output_type": "stream",
     "text": [
      "Model Was Not Saved ! Current Best Avg. Dice: 0.25947320461273193 Current Avg. Dice: 0.21037833392620087 Current Avg. tumor Dice: 0.2974604368209839 Current Avg. lymph Dice: 0.12329620122909546\n"
     ]
    },
    {
     "name": "stderr",
     "output_type": "stream",
     "text": [
      "Training (6503 / 18000 Steps) (loss=0.38105): 100%|██████████| 6/6 [00:13<00:00,  2.25s/it]\n",
      "Training (6509 / 18000 Steps) (loss=0.33835): 100%|██████████| 6/6 [00:07<00:00,  1.33s/it]\n",
      "Training (6515 / 18000 Steps) (loss=0.32309): 100%|██████████| 6/6 [00:07<00:00,  1.33s/it]\n",
      "Training (6521 / 18000 Steps) (loss=0.49363): 100%|██████████| 6/6 [00:07<00:00,  1.31s/it]\n",
      "Training (6527 / 18000 Steps) (loss=0.53550): 100%|██████████| 6/6 [00:08<00:00,  1.41s/it]\n",
      "Training (6533 / 18000 Steps) (loss=0.49030): 100%|██████████| 6/6 [00:08<00:00,  1.35s/it]\n",
      "Training (6539 / 18000 Steps) (loss=0.49123): 100%|██████████| 6/6 [00:08<00:00,  1.38s/it]\n",
      "Training (6545 / 18000 Steps) (loss=0.53266): 100%|██████████| 6/6 [00:08<00:00,  1.40s/it]\n",
      "Training (6551 / 18000 Steps) (loss=0.45522): 100%|██████████| 6/6 [00:07<00:00,  1.31s/it]\n",
      "Training (6557 / 18000 Steps) (loss=0.55996): 100%|██████████| 6/6 [00:07<00:00,  1.31s/it]\n",
      "Training (6563 / 18000 Steps) (loss=0.33872): 100%|██████████| 6/6 [00:08<00:00,  1.37s/it]\n",
      "Training (6569 / 18000 Steps) (loss=0.60079): 100%|██████████| 6/6 [00:07<00:00,  1.32s/it]\n",
      "Training (6575 / 18000 Steps) (loss=0.41647): 100%|██████████| 6/6 [00:07<00:00,  1.32s/it]\n",
      "Training (6581 / 18000 Steps) (loss=0.46896): 100%|██████████| 6/6 [00:07<00:00,  1.31s/it]\n",
      "Training (6587 / 18000 Steps) (loss=0.42871): 100%|██████████| 6/6 [00:08<00:00,  1.40s/it]\n",
      "Training (6593 / 18000 Steps) (loss=0.47480): 100%|██████████| 6/6 [00:08<00:00,  1.37s/it]\n",
      "Training (6599 / 18000 Steps) (loss=0.29267): 100%|██████████| 6/6 [00:08<00:00,  1.35s/it]\n",
      "Validate (6600 / 10 Steps): 100%|██████████| 3/3 [00:05<00:00,  1.84s/it]<?, ?it/s]\n",
      "Training (6600 / 18000 Steps) (loss=0.37925):  17%|█▋        | 1/6 [00:09<00:45,  9.03s/it]"
     ]
    },
    {
     "name": "stdout",
     "output_type": "stream",
     "text": [
      "Model Was Not Saved ! Current Best Avg. Dice: 0.25947320461273193 Current Avg. Dice: 0.18890781700611115 Current Avg. tumor Dice: 0.24205797910690308 Current Avg. lymph Dice: 0.1357576698064804\n"
     ]
    },
    {
     "name": "stderr",
     "output_type": "stream",
     "text": [
      "Training (6605 / 18000 Steps) (loss=0.43775): 100%|██████████| 6/6 [00:13<00:00,  2.20s/it]\n",
      "Training (6611 / 18000 Steps) (loss=0.50182): 100%|██████████| 6/6 [00:08<00:00,  1.34s/it]\n",
      "Training (6617 / 18000 Steps) (loss=0.54419): 100%|██████████| 6/6 [00:07<00:00,  1.28s/it]\n",
      "Training (6623 / 18000 Steps) (loss=0.40576): 100%|██████████| 6/6 [00:08<00:00,  1.37s/it]\n",
      "Training (6629 / 18000 Steps) (loss=0.33653): 100%|██████████| 6/6 [00:08<00:00,  1.35s/it]\n",
      "Training (6635 / 18000 Steps) (loss=0.53982): 100%|██████████| 6/6 [00:08<00:00,  1.38s/it]\n",
      "Training (6641 / 18000 Steps) (loss=0.35047): 100%|██████████| 6/6 [00:08<00:00,  1.34s/it]\n",
      "Training (6647 / 18000 Steps) (loss=0.53897): 100%|██████████| 6/6 [00:07<00:00,  1.30s/it]\n",
      "Training (6653 / 18000 Steps) (loss=0.47535): 100%|██████████| 6/6 [00:08<00:00,  1.35s/it]\n",
      "Training (6659 / 18000 Steps) (loss=0.53999): 100%|██████████| 6/6 [00:07<00:00,  1.30s/it]\n",
      "Training (6665 / 18000 Steps) (loss=0.57508): 100%|██████████| 6/6 [00:07<00:00,  1.28s/it]\n",
      "Training (6671 / 18000 Steps) (loss=0.48197): 100%|██████████| 6/6 [00:07<00:00,  1.30s/it]\n",
      "Training (6677 / 18000 Steps) (loss=0.56798): 100%|██████████| 6/6 [00:07<00:00,  1.28s/it]\n",
      "Training (6683 / 18000 Steps) (loss=0.29020): 100%|██████████| 6/6 [00:08<00:00,  1.37s/it]\n",
      "Training (6689 / 18000 Steps) (loss=0.38958): 100%|██████████| 6/6 [00:08<00:00,  1.36s/it]\n",
      "Training (6695 / 18000 Steps) (loss=0.20695): 100%|██████████| 6/6 [00:08<00:00,  1.34s/it]\n",
      "Validate (6696 / 10 Steps): 100%|██████████| 3/3 [00:05<00:00,  1.87s/it]<00:02,  1.21s/it]\n",
      "Training (6700 / 18000 Steps) (loss=0.46730):  83%|████████▎ | 5/6 [00:12<00:03,  3.11s/it]"
     ]
    },
    {
     "name": "stdout",
     "output_type": "stream",
     "text": [
      "Model Was Not Saved ! Current Best Avg. Dice: 0.25947320461273193 Current Avg. Dice: 0.2011195421218872 Current Avg. tumor Dice: 0.2575804889202118 Current Avg. lymph Dice: 0.14465861022472382\n"
     ]
    },
    {
     "name": "stderr",
     "output_type": "stream",
     "text": [
      "Training (6701 / 18000 Steps) (loss=0.31280): 100%|██████████| 6/6 [00:13<00:00,  2.22s/it]\n",
      "Training (6707 / 18000 Steps) (loss=0.55511): 100%|██████████| 6/6 [00:07<00:00,  1.31s/it]\n",
      "Training (6713 / 18000 Steps) (loss=0.42411): 100%|██████████| 6/6 [00:07<00:00,  1.28s/it]\n",
      "Training (6719 / 18000 Steps) (loss=0.56481): 100%|██████████| 6/6 [00:08<00:00,  1.34s/it]\n",
      "Training (6725 / 18000 Steps) (loss=0.43207): 100%|██████████| 6/6 [00:08<00:00,  1.37s/it]\n",
      "Training (6731 / 18000 Steps) (loss=0.49536): 100%|██████████| 6/6 [00:08<00:00,  1.37s/it]\n",
      "Training (6737 / 18000 Steps) (loss=0.55872): 100%|██████████| 6/6 [00:08<00:00,  1.36s/it]\n",
      "Training (6743 / 18000 Steps) (loss=0.56454): 100%|██████████| 6/6 [00:07<00:00,  1.30s/it]\n",
      "Training (6749 / 18000 Steps) (loss=0.42263): 100%|██████████| 6/6 [00:07<00:00,  1.26s/it]\n",
      "Training (6755 / 18000 Steps) (loss=0.13317): 100%|██████████| 6/6 [00:08<00:00,  1.34s/it]\n",
      "Training (6761 / 18000 Steps) (loss=0.40465): 100%|██████████| 6/6 [00:08<00:00,  1.35s/it]\n",
      "Training (6767 / 18000 Steps) (loss=0.66232): 100%|██████████| 6/6 [00:07<00:00,  1.31s/it]\n",
      "Training (6773 / 18000 Steps) (loss=0.55633): 100%|██████████| 6/6 [00:08<00:00,  1.36s/it]\n",
      "Training (6779 / 18000 Steps) (loss=0.32507): 100%|██████████| 6/6 [00:07<00:00,  1.31s/it]\n",
      "Training (6785 / 18000 Steps) (loss=0.35715): 100%|██████████| 6/6 [00:07<00:00,  1.30s/it]\n",
      "Training (6791 / 18000 Steps) (loss=0.43907): 100%|██████████| 6/6 [00:08<00:00,  1.37s/it]\n",
      "Training (6797 / 18000 Steps) (loss=0.43400): 100%|██████████| 6/6 [00:07<00:00,  1.33s/it]\n",
      "Validate (6798 / 10 Steps): 100%|██████████| 3/3 [00:05<00:00,  1.85s/it]<00:07,  1.97s/it]\n",
      "Training (6800 / 18000 Steps) (loss=0.49737):  50%|█████     | 3/6 [00:10<00:12,  4.01s/it]"
     ]
    },
    {
     "name": "stdout",
     "output_type": "stream",
     "text": [
      "Model Was Not Saved ! Current Best Avg. Dice: 0.25947320461273193 Current Avg. Dice: 0.19096118211746216 Current Avg. tumor Dice: 0.2480544000864029 Current Avg. lymph Dice: 0.13386797904968262\n"
     ]
    },
    {
     "name": "stderr",
     "output_type": "stream",
     "text": [
      "Training (6803 / 18000 Steps) (loss=0.56612): 100%|██████████| 6/6 [00:13<00:00,  2.22s/it]\n",
      "Training (6809 / 18000 Steps) (loss=0.56822): 100%|██████████| 6/6 [00:07<00:00,  1.33s/it]\n",
      "Training (6815 / 18000 Steps) (loss=0.44109): 100%|██████████| 6/6 [00:08<00:00,  1.35s/it]\n",
      "Training (6821 / 18000 Steps) (loss=0.38109): 100%|██████████| 6/6 [00:07<00:00,  1.31s/it]\n",
      "Training (6827 / 18000 Steps) (loss=0.31868): 100%|██████████| 6/6 [00:08<00:00,  1.34s/it]\n",
      "Training (6833 / 18000 Steps) (loss=0.66940): 100%|██████████| 6/6 [00:08<00:00,  1.36s/it]\n",
      "Training (6839 / 18000 Steps) (loss=0.54581): 100%|██████████| 6/6 [00:07<00:00,  1.33s/it]\n",
      "Training (6845 / 18000 Steps) (loss=0.60792): 100%|██████████| 6/6 [00:07<00:00,  1.32s/it]\n",
      "Training (6851 / 18000 Steps) (loss=0.16156): 100%|██████████| 6/6 [00:08<00:00,  1.38s/it]\n",
      "Training (6857 / 18000 Steps) (loss=0.50340): 100%|██████████| 6/6 [00:07<00:00,  1.30s/it]\n",
      "Training (6863 / 18000 Steps) (loss=0.31548): 100%|██████████| 6/6 [00:07<00:00,  1.31s/it]\n",
      "Training (6869 / 18000 Steps) (loss=0.51966): 100%|██████████| 6/6 [00:07<00:00,  1.30s/it]\n",
      "Training (6875 / 18000 Steps) (loss=0.40664): 100%|██████████| 6/6 [00:07<00:00,  1.33s/it]\n",
      "Training (6881 / 18000 Steps) (loss=0.42646): 100%|██████████| 6/6 [00:07<00:00,  1.28s/it]\n",
      "Training (6887 / 18000 Steps) (loss=0.41712): 100%|██████████| 6/6 [00:08<00:00,  1.42s/it]\n",
      "Training (6893 / 18000 Steps) (loss=0.28767): 100%|██████████| 6/6 [00:08<00:00,  1.36s/it]\n",
      "Training (6899 / 18000 Steps) (loss=0.32601): 100%|██████████| 6/6 [00:07<00:00,  1.30s/it]\n",
      "Validate (6900 / 10 Steps): 100%|██████████| 3/3 [00:05<00:00,  1.81s/it]<?, ?it/s]\n",
      "Training (6900 / 18000 Steps) (loss=0.42511):  17%|█▋        | 1/6 [00:09<00:45,  9.10s/it]"
     ]
    },
    {
     "name": "stdout",
     "output_type": "stream",
     "text": [
      "Model Was Not Saved ! Current Best Avg. Dice: 0.25947320461273193 Current Avg. Dice: 0.21977461874485016 Current Avg. tumor Dice: 0.2709805369377136 Current Avg. lymph Dice: 0.16856873035430908\n"
     ]
    },
    {
     "name": "stderr",
     "output_type": "stream",
     "text": [
      "Training (6905 / 18000 Steps) (loss=0.28145): 100%|██████████| 6/6 [00:13<00:00,  2.28s/it]\n",
      "Training (6911 / 18000 Steps) (loss=0.47546): 100%|██████████| 6/6 [00:07<00:00,  1.25s/it]\n",
      "Training (6917 / 18000 Steps) (loss=0.43646): 100%|██████████| 6/6 [00:08<00:00,  1.34s/it]\n",
      "Training (6923 / 18000 Steps) (loss=0.52027): 100%|██████████| 6/6 [00:08<00:00,  1.35s/it]\n",
      "Training (6929 / 18000 Steps) (loss=0.50279): 100%|██████████| 6/6 [00:07<00:00,  1.33s/it]\n",
      "Training (6935 / 18000 Steps) (loss=0.48854): 100%|██████████| 6/6 [00:07<00:00,  1.32s/it]\n",
      "Training (6941 / 18000 Steps) (loss=0.54725): 100%|██████████| 6/6 [00:07<00:00,  1.31s/it]\n",
      "Training (6947 / 18000 Steps) (loss=0.54485): 100%|██████████| 6/6 [00:07<00:00,  1.31s/it]\n",
      "Training (6953 / 18000 Steps) (loss=0.53214): 100%|██████████| 6/6 [00:08<00:00,  1.38s/it]\n",
      "Training (6959 / 18000 Steps) (loss=0.41663): 100%|██████████| 6/6 [00:08<00:00,  1.34s/it]\n",
      "Training (6965 / 18000 Steps) (loss=0.37447): 100%|██████████| 6/6 [00:07<00:00,  1.30s/it]\n",
      "Training (6971 / 18000 Steps) (loss=0.36714): 100%|██████████| 6/6 [00:07<00:00,  1.32s/it]\n",
      "Training (6977 / 18000 Steps) (loss=0.25215): 100%|██████████| 6/6 [00:07<00:00,  1.27s/it]\n",
      "Training (6983 / 18000 Steps) (loss=0.52839): 100%|██████████| 6/6 [00:08<00:00,  1.34s/it]\n",
      "Training (6989 / 18000 Steps) (loss=0.27617): 100%|██████████| 6/6 [00:08<00:00,  1.35s/it]\n",
      "Training (6995 / 18000 Steps) (loss=0.59249): 100%|██████████| 6/6 [00:08<00:00,  1.39s/it]\n",
      "Validate (6996 / 10 Steps): 100%|██████████| 3/3 [00:05<00:00,  1.90s/it]<00:02,  1.22s/it]\n",
      "Training (7000 / 18000 Steps) (loss=0.33788):  83%|████████▎ | 5/6 [00:12<00:03,  3.15s/it]"
     ]
    },
    {
     "name": "stdout",
     "output_type": "stream",
     "text": [
      "Model Was Not Saved ! Current Best Avg. Dice: 0.25947320461273193 Current Avg. Dice: 0.15562422573566437 Current Avg. tumor Dice: 0.1783691793680191 Current Avg. lymph Dice: 0.13287927210330963\n"
     ]
    },
    {
     "name": "stderr",
     "output_type": "stream",
     "text": [
      "Training (7001 / 18000 Steps) (loss=0.46877): 100%|██████████| 6/6 [00:13<00:00,  2.26s/it]\n",
      "Training (7007 / 18000 Steps) (loss=0.32630): 100%|██████████| 6/6 [00:07<00:00,  1.28s/it]\n",
      "Training (7013 / 18000 Steps) (loss=0.23691): 100%|██████████| 6/6 [00:07<00:00,  1.31s/it]\n",
      "Training (7019 / 18000 Steps) (loss=0.16320): 100%|██████████| 6/6 [00:07<00:00,  1.33s/it]\n",
      "Training (7025 / 18000 Steps) (loss=0.20222): 100%|██████████| 6/6 [00:07<00:00,  1.32s/it]\n",
      "Training (7031 / 18000 Steps) (loss=0.39962): 100%|██████████| 6/6 [00:08<00:00,  1.33s/it]\n",
      "Training (7037 / 18000 Steps) (loss=0.44247): 100%|██████████| 6/6 [00:07<00:00,  1.30s/it]\n",
      "Training (7043 / 18000 Steps) (loss=0.60632): 100%|██████████| 6/6 [00:08<00:00,  1.41s/it]\n",
      "Training (7049 / 18000 Steps) (loss=0.42539): 100%|██████████| 6/6 [00:08<00:00,  1.35s/it]\n",
      "Training (7055 / 18000 Steps) (loss=0.37880): 100%|██████████| 6/6 [00:07<00:00,  1.31s/it]\n",
      "Training (7061 / 18000 Steps) (loss=0.56064): 100%|██████████| 6/6 [00:07<00:00,  1.33s/it]\n",
      "Training (7067 / 18000 Steps) (loss=0.37719): 100%|██████████| 6/6 [00:07<00:00,  1.29s/it]\n",
      "Training (7073 / 18000 Steps) (loss=0.48814): 100%|██████████| 6/6 [00:07<00:00,  1.31s/it]\n",
      "Training (7079 / 18000 Steps) (loss=0.51636): 100%|██████████| 6/6 [00:07<00:00,  1.30s/it]\n",
      "Training (7085 / 18000 Steps) (loss=0.13729): 100%|██████████| 6/6 [00:07<00:00,  1.32s/it]\n",
      "Training (7091 / 18000 Steps) (loss=0.43009): 100%|██████████| 6/6 [00:07<00:00,  1.33s/it]\n",
      "Training (7097 / 18000 Steps) (loss=0.47234): 100%|██████████| 6/6 [00:07<00:00,  1.27s/it]\n",
      "Validate (7098 / 10 Steps): 100%|██████████| 3/3 [00:05<00:00,  1.82s/it]<00:07,  1.95s/it]\n",
      "Training (7100 / 18000 Steps) (loss=0.56803):  50%|█████     | 3/6 [00:10<00:11,  3.95s/it]"
     ]
    },
    {
     "name": "stdout",
     "output_type": "stream",
     "text": [
      "Model Was Not Saved ! Current Best Avg. Dice: 0.25947320461273193 Current Avg. Dice: 0.22294946014881134 Current Avg. tumor Dice: 0.29027828574180603 Current Avg. lymph Dice: 0.15562063455581665\n"
     ]
    },
    {
     "name": "stderr",
     "output_type": "stream",
     "text": [
      "Training (7103 / 18000 Steps) (loss=0.56859): 100%|██████████| 6/6 [00:13<00:00,  2.21s/it]\n",
      "Training (7109 / 18000 Steps) (loss=0.41581): 100%|██████████| 6/6 [00:07<00:00,  1.27s/it]\n",
      "Training (7115 / 18000 Steps) (loss=0.47684): 100%|██████████| 6/6 [00:07<00:00,  1.31s/it]\n",
      "Training (7121 / 18000 Steps) (loss=0.50654): 100%|██████████| 6/6 [00:07<00:00,  1.32s/it]\n",
      "Training (7127 / 18000 Steps) (loss=0.62323): 100%|██████████| 6/6 [00:07<00:00,  1.28s/it]\n",
      "Training (7133 / 18000 Steps) (loss=0.41039): 100%|██████████| 6/6 [00:07<00:00,  1.28s/it]\n",
      "Training (7139 / 18000 Steps) (loss=0.43986): 100%|██████████| 6/6 [00:08<00:00,  1.34s/it]\n",
      "Training (7145 / 18000 Steps) (loss=0.48468): 100%|██████████| 6/6 [00:07<00:00,  1.32s/it]\n",
      "Training (7151 / 18000 Steps) (loss=0.57367): 100%|██████████| 6/6 [00:07<00:00,  1.32s/it]\n",
      "Training (7157 / 18000 Steps) (loss=0.28665): 100%|██████████| 6/6 [00:07<00:00,  1.33s/it]\n",
      "Training (7163 / 18000 Steps) (loss=0.53862): 100%|██████████| 6/6 [00:07<00:00,  1.32s/it]\n",
      "Training (7169 / 18000 Steps) (loss=0.53726): 100%|██████████| 6/6 [00:08<00:00,  1.35s/it]\n",
      "Training (7175 / 18000 Steps) (loss=0.51860): 100%|██████████| 6/6 [00:07<00:00,  1.28s/it]\n",
      "Training (7181 / 18000 Steps) (loss=0.31694): 100%|██████████| 6/6 [00:07<00:00,  1.33s/it]\n",
      "Training (7187 / 18000 Steps) (loss=0.39448): 100%|██████████| 6/6 [00:08<00:00,  1.37s/it]\n",
      "Training (7193 / 18000 Steps) (loss=0.45133): 100%|██████████| 6/6 [00:07<00:00,  1.31s/it]\n",
      "Training (7199 / 18000 Steps) (loss=0.41579): 100%|██████████| 6/6 [00:07<00:00,  1.28s/it]\n",
      "Validate (7200 / 10 Steps): 100%|██████████| 3/3 [00:05<00:00,  1.84s/it]<?, ?it/s]\n",
      "Training (7200 / 18000 Steps) (loss=0.49924):  17%|█▋        | 1/6 [00:09<00:45,  9.02s/it]"
     ]
    },
    {
     "name": "stdout",
     "output_type": "stream",
     "text": [
      "Model Was Not Saved ! Current Best Avg. Dice: 0.25947320461273193 Current Avg. Dice: 0.2198592871427536 Current Avg. tumor Dice: 0.3580359220504761 Current Avg. lymph Dice: 0.08168266713619232\n"
     ]
    },
    {
     "name": "stderr",
     "output_type": "stream",
     "text": [
      "Training (7205 / 18000 Steps) (loss=0.45116): 100%|██████████| 6/6 [00:13<00:00,  2.22s/it]\n",
      "Training (7211 / 18000 Steps) (loss=0.26496): 100%|██████████| 6/6 [00:07<00:00,  1.30s/it]\n",
      "Training (7217 / 18000 Steps) (loss=0.18620): 100%|██████████| 6/6 [00:07<00:00,  1.29s/it]\n",
      "Training (7223 / 18000 Steps) (loss=0.56115): 100%|██████████| 6/6 [00:07<00:00,  1.31s/it]\n",
      "Training (7229 / 18000 Steps) (loss=0.42538): 100%|██████████| 6/6 [00:08<00:00,  1.34s/it]\n",
      "Training (7235 / 18000 Steps) (loss=0.56620): 100%|██████████| 6/6 [00:07<00:00,  1.32s/it]\n",
      "Training (7241 / 18000 Steps) (loss=0.44374): 100%|██████████| 6/6 [00:08<00:00,  1.34s/it]\n",
      "Training (7247 / 18000 Steps) (loss=0.32501): 100%|██████████| 6/6 [00:07<00:00,  1.28s/it]\n",
      "Training (7253 / 18000 Steps) (loss=0.53741): 100%|██████████| 6/6 [00:07<00:00,  1.28s/it]\n",
      "Training (7259 / 18000 Steps) (loss=0.34193): 100%|██████████| 6/6 [00:07<00:00,  1.25s/it]\n",
      "Training (7265 / 18000 Steps) (loss=0.56238): 100%|██████████| 6/6 [00:07<00:00,  1.26s/it]\n",
      "Training (7271 / 18000 Steps) (loss=0.50196): 100%|██████████| 6/6 [00:07<00:00,  1.28s/it]\n",
      "Training (7277 / 18000 Steps) (loss=0.40137): 100%|██████████| 6/6 [00:08<00:00,  1.33s/it]\n",
      "Training (7283 / 18000 Steps) (loss=0.48596): 100%|██████████| 6/6 [00:07<00:00,  1.30s/it]\n",
      "Training (7289 / 18000 Steps) (loss=0.38211): 100%|██████████| 6/6 [00:08<00:00,  1.37s/it]\n",
      "Training (7295 / 18000 Steps) (loss=0.54336): 100%|██████████| 6/6 [00:07<00:00,  1.32s/it]\n",
      "Validate (7296 / 10 Steps): 100%|██████████| 3/3 [00:05<00:00,  1.87s/it]<00:02,  1.26s/it]\n",
      "Training (7300 / 18000 Steps) (loss=0.35494):  83%|████████▎ | 5/6 [00:12<00:03,  3.16s/it]"
     ]
    },
    {
     "name": "stdout",
     "output_type": "stream",
     "text": [
      "Model Was Not Saved ! Current Best Avg. Dice: 0.25947320461273193 Current Avg. Dice: 0.17832981050014496 Current Avg. tumor Dice: 0.20489926636219025 Current Avg. lymph Dice: 0.15176035463809967\n"
     ]
    },
    {
     "name": "stderr",
     "output_type": "stream",
     "text": [
      "Training (7301 / 18000 Steps) (loss=0.38533): 100%|██████████| 6/6 [00:13<00:00,  2.26s/it]\n",
      "Training (7307 / 18000 Steps) (loss=0.49727): 100%|██████████| 6/6 [00:07<00:00,  1.29s/it]\n",
      "Training (7313 / 18000 Steps) (loss=0.54692): 100%|██████████| 6/6 [00:07<00:00,  1.29s/it]\n",
      "Training (7319 / 18000 Steps) (loss=0.66730): 100%|██████████| 6/6 [00:07<00:00,  1.30s/it]\n",
      "Training (7325 / 18000 Steps) (loss=0.55361): 100%|██████████| 6/6 [00:07<00:00,  1.29s/it]\n",
      "Training (7331 / 18000 Steps) (loss=0.37080): 100%|██████████| 6/6 [00:07<00:00,  1.27s/it]\n",
      "Training (7337 / 18000 Steps) (loss=0.29622): 100%|██████████| 6/6 [00:07<00:00,  1.30s/it]\n",
      "Training (7343 / 18000 Steps) (loss=0.39131): 100%|██████████| 6/6 [00:08<00:00,  1.34s/it]\n",
      "Training (7349 / 18000 Steps) (loss=0.42113): 100%|██████████| 6/6 [00:07<00:00,  1.32s/it]\n",
      "Training (7355 / 18000 Steps) (loss=0.32969): 100%|██████████| 6/6 [00:07<00:00,  1.29s/it]\n",
      "Training (7361 / 18000 Steps) (loss=0.50651): 100%|██████████| 6/6 [00:07<00:00,  1.32s/it]\n",
      "Training (7367 / 18000 Steps) (loss=0.42424): 100%|██████████| 6/6 [00:07<00:00,  1.32s/it]\n",
      "Training (7373 / 18000 Steps) (loss=0.56103): 100%|██████████| 6/6 [00:07<00:00,  1.28s/it]\n",
      "Training (7379 / 18000 Steps) (loss=0.54226): 100%|██████████| 6/6 [00:07<00:00,  1.30s/it]\n",
      "Training (7385 / 18000 Steps) (loss=0.46346): 100%|██████████| 6/6 [00:08<00:00,  1.36s/it]\n",
      "Training (7391 / 18000 Steps) (loss=0.56251): 100%|██████████| 6/6 [00:07<00:00,  1.27s/it]\n",
      "Training (7397 / 18000 Steps) (loss=0.40984): 100%|██████████| 6/6 [00:07<00:00,  1.26s/it]\n",
      "Validate (7398 / 10 Steps): 100%|██████████| 3/3 [00:05<00:00,  1.84s/it]<00:07,  2.00s/it]\n",
      "Training (7400 / 18000 Steps) (loss=0.48215):  50%|█████     | 3/6 [00:10<00:12,  4.01s/it]"
     ]
    },
    {
     "name": "stdout",
     "output_type": "stream",
     "text": [
      "Model Was Not Saved ! Current Best Avg. Dice: 0.25947320461273193 Current Avg. Dice: 0.19514699280261993 Current Avg. tumor Dice: 0.2774353623390198 Current Avg. lymph Dice: 0.11285864561796188\n"
     ]
    },
    {
     "name": "stderr",
     "output_type": "stream",
     "text": [
      "Training (7403 / 18000 Steps) (loss=0.41085): 100%|██████████| 6/6 [00:13<00:00,  2.25s/it]\n",
      "Training (7409 / 18000 Steps) (loss=0.33762): 100%|██████████| 6/6 [00:07<00:00,  1.29s/it]\n",
      "Training (7415 / 18000 Steps) (loss=0.61741): 100%|██████████| 6/6 [00:07<00:00,  1.33s/it]\n",
      "Training (7421 / 18000 Steps) (loss=0.33930): 100%|██████████| 6/6 [00:07<00:00,  1.31s/it]\n",
      "Training (7427 / 18000 Steps) (loss=0.31018): 100%|██████████| 6/6 [00:07<00:00,  1.31s/it]\n",
      "Training (7433 / 18000 Steps) (loss=0.36883): 100%|██████████| 6/6 [00:08<00:00,  1.35s/it]\n",
      "Training (7439 / 18000 Steps) (loss=0.38122): 100%|██████████| 6/6 [00:07<00:00,  1.31s/it]\n",
      "Training (7445 / 18000 Steps) (loss=0.44953): 100%|██████████| 6/6 [00:07<00:00,  1.32s/it]\n",
      "Training (7451 / 18000 Steps) (loss=0.49068): 100%|██████████| 6/6 [00:07<00:00,  1.30s/it]\n",
      "Training (7457 / 18000 Steps) (loss=0.42990): 100%|██████████| 6/6 [00:07<00:00,  1.26s/it]\n",
      "Training (7463 / 18000 Steps) (loss=0.25161): 100%|██████████| 6/6 [00:07<00:00,  1.30s/it]\n",
      "Training (7469 / 18000 Steps) (loss=0.31816): 100%|██████████| 6/6 [00:07<00:00,  1.27s/it]\n",
      "Training (7475 / 18000 Steps) (loss=0.42286): 100%|██████████| 6/6 [00:08<00:00,  1.35s/it]\n",
      "Training (7481 / 18000 Steps) (loss=0.38817): 100%|██████████| 6/6 [00:07<00:00,  1.32s/it]\n",
      "Training (7487 / 18000 Steps) (loss=0.28183): 100%|██████████| 6/6 [00:07<00:00,  1.29s/it]\n",
      "Training (7493 / 18000 Steps) (loss=0.26751): 100%|██████████| 6/6 [00:08<00:00,  1.34s/it]\n",
      "Training (7499 / 18000 Steps) (loss=0.27084): 100%|██████████| 6/6 [00:08<00:00,  1.38s/it]\n",
      "Validate (7500 / 10 Steps): 100%|██████████| 3/3 [00:05<00:00,  1.83s/it]<?, ?it/s]\n",
      "Training (7500 / 18000 Steps) (loss=0.39433):  17%|█▋        | 1/6 [00:09<00:45,  9.02s/it]"
     ]
    },
    {
     "name": "stdout",
     "output_type": "stream",
     "text": [
      "Model Was Not Saved ! Current Best Avg. Dice: 0.25947320461273193 Current Avg. Dice: 0.2503955662250519 Current Avg. tumor Dice: 0.3982337713241577 Current Avg. lymph Dice: 0.10255736112594604\n"
     ]
    },
    {
     "name": "stderr",
     "output_type": "stream",
     "text": [
      "Training (7505 / 18000 Steps) (loss=0.56035): 100%|██████████| 6/6 [00:13<00:00,  2.21s/it]\n",
      "Training (7511 / 18000 Steps) (loss=0.42795): 100%|██████████| 6/6 [00:07<00:00,  1.28s/it]\n",
      "Training (7517 / 18000 Steps) (loss=0.27022): 100%|██████████| 6/6 [00:07<00:00,  1.31s/it]\n",
      "Training (7523 / 18000 Steps) (loss=0.38342): 100%|██████████| 6/6 [00:07<00:00,  1.26s/it]\n",
      "Training (7529 / 18000 Steps) (loss=0.57662): 100%|██████████| 6/6 [00:07<00:00,  1.29s/it]\n",
      "Training (7535 / 18000 Steps) (loss=0.21613): 100%|██████████| 6/6 [00:07<00:00,  1.29s/it]\n",
      "Training (7541 / 18000 Steps) (loss=0.29562): 100%|██████████| 6/6 [00:07<00:00,  1.31s/it]\n",
      "Training (7547 / 18000 Steps) (loss=0.13040): 100%|██████████| 6/6 [00:07<00:00,  1.31s/it]\n",
      "Training (7553 / 18000 Steps) (loss=0.40898): 100%|██████████| 6/6 [00:07<00:00,  1.30s/it]\n",
      "Training (7559 / 18000 Steps) (loss=0.46862): 100%|██████████| 6/6 [00:08<00:00,  1.33s/it]\n",
      "Training (7565 / 18000 Steps) (loss=0.31759): 100%|██████████| 6/6 [00:07<00:00,  1.33s/it]\n",
      "Training (7571 / 18000 Steps) (loss=0.50304): 100%|██████████| 6/6 [00:07<00:00,  1.31s/it]\n",
      "Training (7577 / 18000 Steps) (loss=0.51725): 100%|██████████| 6/6 [00:08<00:00,  1.34s/it]\n",
      "Training (7583 / 18000 Steps) (loss=0.33865): 100%|██████████| 6/6 [00:07<00:00,  1.27s/it]\n",
      "Training (7589 / 18000 Steps) (loss=0.32665): 100%|██████████| 6/6 [00:07<00:00,  1.29s/it]\n",
      "Training (7595 / 18000 Steps) (loss=0.42396): 100%|██████████| 6/6 [00:07<00:00,  1.29s/it]\n",
      "Validate (7596 / 10 Steps): 100%|██████████| 3/3 [00:05<00:00,  1.83s/it]<00:02,  1.22s/it]\n",
      "Training (7600 / 18000 Steps) (loss=0.30242):  83%|████████▎ | 5/6 [00:12<00:03,  3.11s/it]"
     ]
    },
    {
     "name": "stdout",
     "output_type": "stream",
     "text": [
      "Model Was Not Saved ! Current Best Avg. Dice: 0.25947320461273193 Current Avg. Dice: 0.22378170490264893 Current Avg. tumor Dice: 0.31879398226737976 Current Avg. lymph Dice: 0.12876944243907928\n"
     ]
    },
    {
     "name": "stderr",
     "output_type": "stream",
     "text": [
      "Training (7601 / 18000 Steps) (loss=0.46462): 100%|██████████| 6/6 [00:13<00:00,  2.22s/it]\n",
      "Training (7607 / 18000 Steps) (loss=0.27321): 100%|██████████| 6/6 [00:07<00:00,  1.30s/it]\n",
      "Training (7613 / 18000 Steps) (loss=0.20705): 100%|██████████| 6/6 [00:07<00:00,  1.32s/it]\n",
      "Training (7619 / 18000 Steps) (loss=0.38643): 100%|██████████| 6/6 [00:08<00:00,  1.36s/it]\n",
      "Training (7625 / 18000 Steps) (loss=0.45205): 100%|██████████| 6/6 [00:07<00:00,  1.32s/it]\n",
      "Training (7631 / 18000 Steps) (loss=0.46247): 100%|██████████| 6/6 [00:07<00:00,  1.31s/it]\n",
      "Training (7637 / 18000 Steps) (loss=0.21452): 100%|██████████| 6/6 [00:07<00:00,  1.32s/it]\n",
      "Training (7643 / 18000 Steps) (loss=0.37850): 100%|██████████| 6/6 [00:07<00:00,  1.31s/it]\n",
      "Training (7649 / 18000 Steps) (loss=0.38878): 100%|██████████| 6/6 [00:07<00:00,  1.30s/it]\n",
      "Training (7655 / 18000 Steps) (loss=0.30285): 100%|██████████| 6/6 [00:07<00:00,  1.26s/it]\n",
      "Training (7661 / 18000 Steps) (loss=0.43922): 100%|██████████| 6/6 [00:07<00:00,  1.26s/it]\n",
      "Training (7667 / 18000 Steps) (loss=0.35559): 100%|██████████| 6/6 [00:07<00:00,  1.33s/it]\n",
      "Training (7673 / 18000 Steps) (loss=0.50492): 100%|██████████| 6/6 [00:08<00:00,  1.35s/it]\n",
      "Training (7679 / 18000 Steps) (loss=0.29416): 100%|██████████| 6/6 [00:07<00:00,  1.29s/it]\n",
      "Training (7685 / 18000 Steps) (loss=0.27774): 100%|██████████| 6/6 [00:07<00:00,  1.30s/it]\n",
      "Training (7691 / 18000 Steps) (loss=0.30627): 100%|██████████| 6/6 [00:08<00:00,  1.37s/it]\n",
      "Training (7697 / 18000 Steps) (loss=0.53961): 100%|██████████| 6/6 [00:08<00:00,  1.36s/it]\n",
      "Validate (7698 / 10 Steps): 100%|██████████| 3/3 [00:05<00:00,  1.85s/it]<00:07,  1.96s/it]\n",
      "Training (7700 / 18000 Steps) (loss=0.42804):  50%|█████     | 3/6 [00:11<00:13,  4.35s/it]"
     ]
    },
    {
     "name": "stdout",
     "output_type": "stream",
     "text": [
      "Model Was Saved ! Current Best Avg. Dice: 0.2690812945365906 Current Avg. Dice: 0.2690812945365906 Current Avg. tumor Dice: 0.34547996520996094 Current Avg. lymph Dice: 0.19268262386322021\n"
     ]
    },
    {
     "name": "stderr",
     "output_type": "stream",
     "text": [
      "Training (7703 / 18000 Steps) (loss=0.48033): 100%|██████████| 6/6 [00:14<00:00,  2.34s/it]\n",
      "Training (7709 / 18000 Steps) (loss=0.36974): 100%|██████████| 6/6 [00:07<00:00,  1.32s/it]\n",
      "Training (7715 / 18000 Steps) (loss=0.47895): 100%|██████████| 6/6 [00:07<00:00,  1.33s/it]\n",
      "Training (7721 / 18000 Steps) (loss=0.32872): 100%|██████████| 6/6 [00:07<00:00,  1.29s/it]\n",
      "Training (7727 / 18000 Steps) (loss=0.63372): 100%|██████████| 6/6 [00:07<00:00,  1.26s/it]\n",
      "Training (7733 / 18000 Steps) (loss=0.47564): 100%|██████████| 6/6 [00:07<00:00,  1.28s/it]\n",
      "Training (7739 / 18000 Steps) (loss=0.53099): 100%|██████████| 6/6 [00:07<00:00,  1.31s/it]\n",
      "Training (7745 / 18000 Steps) (loss=0.54027): 100%|██████████| 6/6 [00:08<00:00,  1.34s/it]\n",
      "Training (7751 / 18000 Steps) (loss=0.40155): 100%|██████████| 6/6 [00:07<00:00,  1.32s/it]\n",
      "Training (7757 / 18000 Steps) (loss=0.32165): 100%|██████████| 6/6 [00:08<00:00,  1.34s/it]\n",
      "Training (7763 / 18000 Steps) (loss=0.27427): 100%|██████████| 6/6 [00:08<00:00,  1.34s/it]\n",
      "Training (7769 / 18000 Steps) (loss=0.29975): 100%|██████████| 6/6 [00:07<00:00,  1.29s/it]\n",
      "Training (7775 / 18000 Steps) (loss=0.46654): 100%|██████████| 6/6 [00:08<00:00,  1.35s/it]\n",
      "Training (7781 / 18000 Steps) (loss=0.40774): 100%|██████████| 6/6 [00:07<00:00,  1.29s/it]\n",
      "Training (7787 / 18000 Steps) (loss=0.45741): 100%|██████████| 6/6 [00:07<00:00,  1.28s/it]\n",
      "Training (7793 / 18000 Steps) (loss=0.18936): 100%|██████████| 6/6 [00:07<00:00,  1.27s/it]\n",
      "Training (7799 / 18000 Steps) (loss=0.54114): 100%|██████████| 6/6 [00:07<00:00,  1.31s/it]\n",
      "Validate (7800 / 10 Steps): 100%|██████████| 3/3 [00:05<00:00,  1.85s/it]<?, ?it/s]\n",
      "Training (7800 / 18000 Steps) (loss=0.50686):  17%|█▋        | 1/6 [00:09<00:45,  9.13s/it]"
     ]
    },
    {
     "name": "stdout",
     "output_type": "stream",
     "text": [
      "Model Was Not Saved ! Current Best Avg. Dice: 0.2690812945365906 Current Avg. Dice: 0.12493457645177841 Current Avg. tumor Dice: 0.20004166662693024 Current Avg. lymph Dice: 0.04982750117778778\n"
     ]
    },
    {
     "name": "stderr",
     "output_type": "stream",
     "text": [
      "Training (7805 / 18000 Steps) (loss=0.60819): 100%|██████████| 6/6 [00:13<00:00,  2.25s/it]\n",
      "Training (7811 / 18000 Steps) (loss=0.53356): 100%|██████████| 6/6 [00:08<00:00,  1.34s/it]\n",
      "Training (7817 / 18000 Steps) (loss=0.42800): 100%|██████████| 6/6 [00:07<00:00,  1.30s/it]\n",
      "Training (7823 / 18000 Steps) (loss=0.55856): 100%|██████████| 6/6 [00:07<00:00,  1.32s/it]\n",
      "Training (7829 / 18000 Steps) (loss=0.45928): 100%|██████████| 6/6 [00:08<00:00,  1.34s/it]\n",
      "Training (7835 / 18000 Steps) (loss=0.55533): 100%|██████████| 6/6 [00:07<00:00,  1.25s/it]\n",
      "Training (7841 / 18000 Steps) (loss=0.44944): 100%|██████████| 6/6 [00:07<00:00,  1.29s/it]\n",
      "Training (7847 / 18000 Steps) (loss=0.48143): 100%|██████████| 6/6 [00:07<00:00,  1.32s/it]\n",
      "Training (7853 / 18000 Steps) (loss=0.60737): 100%|██████████| 6/6 [00:07<00:00,  1.31s/it]\n",
      "Training (7859 / 18000 Steps) (loss=0.17892): 100%|██████████| 6/6 [00:07<00:00,  1.33s/it]\n",
      "Training (7865 / 18000 Steps) (loss=0.45460): 100%|██████████| 6/6 [00:07<00:00,  1.28s/it]\n",
      "Training (7871 / 18000 Steps) (loss=0.33609): 100%|██████████| 6/6 [00:07<00:00,  1.30s/it]\n",
      "Training (7877 / 18000 Steps) (loss=0.30485): 100%|██████████| 6/6 [00:07<00:00,  1.31s/it]\n",
      "Training (7883 / 18000 Steps) (loss=0.37372): 100%|██████████| 6/6 [00:07<00:00,  1.26s/it]\n",
      "Training (7889 / 18000 Steps) (loss=0.62928): 100%|██████████| 6/6 [00:07<00:00,  1.31s/it]\n",
      "Training (7895 / 18000 Steps) (loss=0.34257): 100%|██████████| 6/6 [00:07<00:00,  1.33s/it]\n",
      "Validate (7896 / 10 Steps): 100%|██████████| 3/3 [00:05<00:00,  1.89s/it]<00:02,  1.25s/it]\n",
      "Training (7900 / 18000 Steps) (loss=0.56258):  83%|████████▎ | 5/6 [00:12<00:03,  3.18s/it]"
     ]
    },
    {
     "name": "stdout",
     "output_type": "stream",
     "text": [
      "Model Was Not Saved ! Current Best Avg. Dice: 0.2690812945365906 Current Avg. Dice: 0.2613140642642975 Current Avg. tumor Dice: 0.3467269837856293 Current Avg. lymph Dice: 0.17590118944644928\n"
     ]
    },
    {
     "name": "stderr",
     "output_type": "stream",
     "text": [
      "Training (7901 / 18000 Steps) (loss=0.40302): 100%|██████████| 6/6 [00:13<00:00,  2.27s/it]\n",
      "Training (7907 / 18000 Steps) (loss=0.47055): 100%|██████████| 6/6 [00:07<00:00,  1.33s/it]\n",
      "Training (7913 / 18000 Steps) (loss=0.46038): 100%|██████████| 6/6 [00:07<00:00,  1.31s/it]\n",
      "Training (7919 / 18000 Steps) (loss=0.18776): 100%|██████████| 6/6 [00:07<00:00,  1.28s/it]\n",
      "Training (7925 / 18000 Steps) (loss=0.51077): 100%|██████████| 6/6 [00:07<00:00,  1.29s/it]\n",
      "Training (7931 / 18000 Steps) (loss=0.41064): 100%|██████████| 6/6 [00:07<00:00,  1.29s/it]\n",
      "Training (7937 / 18000 Steps) (loss=0.37963): 100%|██████████| 6/6 [00:08<00:00,  1.34s/it]\n",
      "Training (7943 / 18000 Steps) (loss=0.31989): 100%|██████████| 6/6 [00:07<00:00,  1.32s/it]\n",
      "Training (7949 / 18000 Steps) (loss=0.47327): 100%|██████████| 6/6 [00:07<00:00,  1.31s/it]\n",
      "Training (7955 / 18000 Steps) (loss=0.52719): 100%|██████████| 6/6 [00:08<00:00,  1.34s/it]\n",
      "Training (7961 / 18000 Steps) (loss=0.38233): 100%|██████████| 6/6 [00:08<00:00,  1.35s/it]\n",
      "Training (7967 / 18000 Steps) (loss=0.23279): 100%|██████████| 6/6 [00:07<00:00,  1.27s/it]\n",
      "Training (7973 / 18000 Steps) (loss=0.38502): 100%|██████████| 6/6 [00:07<00:00,  1.31s/it]\n",
      "Training (7979 / 18000 Steps) (loss=0.42370): 100%|██████████| 6/6 [00:07<00:00,  1.30s/it]\n",
      "Training (7985 / 18000 Steps) (loss=0.40059): 100%|██████████| 6/6 [00:07<00:00,  1.27s/it]\n",
      "Training (7991 / 18000 Steps) (loss=0.31851): 100%|██████████| 6/6 [00:07<00:00,  1.30s/it]\n",
      "Training (7997 / 18000 Steps) (loss=0.39241): 100%|██████████| 6/6 [00:07<00:00,  1.30s/it]\n",
      "Validate (7998 / 10 Steps): 100%|██████████| 3/3 [00:05<00:00,  1.85s/it]<00:07,  1.98s/it]\n",
      "Training (8000 / 18000 Steps) (loss=0.49593):  50%|█████     | 3/6 [00:10<00:12,  4.04s/it]"
     ]
    },
    {
     "name": "stdout",
     "output_type": "stream",
     "text": [
      "Model Was Not Saved ! Current Best Avg. Dice: 0.2690812945365906 Current Avg. Dice: 0.19966751337051392 Current Avg. tumor Dice: 0.2669052183628082 Current Avg. lymph Dice: 0.13242977857589722\n"
     ]
    },
    {
     "name": "stderr",
     "output_type": "stream",
     "text": [
      "Training (8003 / 18000 Steps) (loss=0.32553): 100%|██████████| 6/6 [00:13<00:00,  2.27s/it]\n",
      "Training (8009 / 18000 Steps) (loss=0.24014): 100%|██████████| 6/6 [00:07<00:00,  1.30s/it]\n",
      "Training (8015 / 18000 Steps) (loss=0.35517): 100%|██████████| 6/6 [00:07<00:00,  1.29s/it]\n",
      "Training (8021 / 18000 Steps) (loss=0.40521): 100%|██████████| 6/6 [00:07<00:00,  1.32s/it]\n",
      "Training (8027 / 18000 Steps) (loss=0.62450): 100%|██████████| 6/6 [00:08<00:00,  1.36s/it]\n",
      "Training (8033 / 18000 Steps) (loss=0.41517): 100%|██████████| 6/6 [00:07<00:00,  1.30s/it]\n",
      "Training (8039 / 18000 Steps) (loss=0.43764): 100%|██████████| 6/6 [00:07<00:00,  1.32s/it]\n",
      "Training (8045 / 18000 Steps) (loss=0.61225): 100%|██████████| 6/6 [00:07<00:00,  1.32s/it]\n",
      "Training (8051 / 18000 Steps) (loss=0.59843): 100%|██████████| 6/6 [00:07<00:00,  1.30s/it]\n",
      "Training (8057 / 18000 Steps) (loss=0.40510): 100%|██████████| 6/6 [00:07<00:00,  1.30s/it]\n",
      "Training (8063 / 18000 Steps) (loss=0.53798): 100%|██████████| 6/6 [00:07<00:00,  1.28s/it]\n",
      "Training (8069 / 18000 Steps) (loss=0.31554): 100%|██████████| 6/6 [00:07<00:00,  1.28s/it]\n",
      "Training (8075 / 18000 Steps) (loss=0.39679): 100%|██████████| 6/6 [00:07<00:00,  1.32s/it]\n",
      "Training (8081 / 18000 Steps) (loss=0.24208): 100%|██████████| 6/6 [00:07<00:00,  1.33s/it]\n",
      "Training (8087 / 18000 Steps) (loss=0.39291): 100%|██████████| 6/6 [00:07<00:00,  1.32s/it]\n",
      "Training (8093 / 18000 Steps) (loss=0.55017): 100%|██████████| 6/6 [00:08<00:00,  1.42s/it]\n",
      "Training (8099 / 18000 Steps) (loss=0.19152): 100%|██████████| 6/6 [00:08<00:00,  1.37s/it]\n",
      "Validate (8100 / 10 Steps): 100%|██████████| 3/3 [00:05<00:00,  1.80s/it]<?, ?it/s]\n",
      "Training (8100 / 18000 Steps) (loss=0.40384):  17%|█▋        | 1/6 [00:08<00:44,  8.95s/it]"
     ]
    },
    {
     "name": "stdout",
     "output_type": "stream",
     "text": [
      "Model Was Not Saved ! Current Best Avg. Dice: 0.2690812945365906 Current Avg. Dice: 0.18060512840747833 Current Avg. tumor Dice: 0.2615039646625519 Current Avg. lymph Dice: 0.09970629960298538\n"
     ]
    },
    {
     "name": "stderr",
     "output_type": "stream",
     "text": [
      "Training (8105 / 18000 Steps) (loss=0.38357): 100%|██████████| 6/6 [00:13<00:00,  2.20s/it]\n",
      "Training (8111 / 18000 Steps) (loss=0.40916): 100%|██████████| 6/6 [00:07<00:00,  1.29s/it]\n",
      "Training (8117 / 18000 Steps) (loss=0.41711): 100%|██████████| 6/6 [00:07<00:00,  1.26s/it]\n",
      "Training (8123 / 18000 Steps) (loss=0.27079): 100%|██████████| 6/6 [00:07<00:00,  1.29s/it]\n",
      "Training (8129 / 18000 Steps) (loss=0.60512): 100%|██████████| 6/6 [00:07<00:00,  1.30s/it]\n",
      "Training (8135 / 18000 Steps) (loss=0.30815): 100%|██████████| 6/6 [00:07<00:00,  1.30s/it]\n",
      "Training (8141 / 18000 Steps) (loss=0.67119): 100%|██████████| 6/6 [00:08<00:00,  1.37s/it]\n",
      "Training (8147 / 18000 Steps) (loss=0.23738): 100%|██████████| 6/6 [00:07<00:00,  1.30s/it]\n",
      "Training (8153 / 18000 Steps) (loss=0.35306): 100%|██████████| 6/6 [00:07<00:00,  1.32s/it]\n",
      "Training (8159 / 18000 Steps) (loss=0.55008): 100%|██████████| 6/6 [00:08<00:00,  1.36s/it]\n",
      "Training (8165 / 18000 Steps) (loss=0.41445): 100%|██████████| 6/6 [00:07<00:00,  1.31s/it]\n",
      "Training (8171 / 18000 Steps) (loss=0.45280): 100%|██████████| 6/6 [00:07<00:00,  1.29s/it]\n",
      "Training (8177 / 18000 Steps) (loss=0.47777): 100%|██████████| 6/6 [00:07<00:00,  1.29s/it]\n",
      "Training (8183 / 18000 Steps) (loss=0.50894): 100%|██████████| 6/6 [00:07<00:00,  1.27s/it]\n",
      "Training (8189 / 18000 Steps) (loss=0.27253): 100%|██████████| 6/6 [00:07<00:00,  1.33s/it]\n",
      "Training (8195 / 18000 Steps) (loss=0.23881): 100%|██████████| 6/6 [00:07<00:00,  1.27s/it]\n",
      "Validate (8196 / 10 Steps): 100%|██████████| 3/3 [00:05<00:00,  1.88s/it]<00:02,  1.23s/it]\n",
      "Training (8200 / 18000 Steps) (loss=0.44838):  83%|████████▎ | 5/6 [00:13<00:03,  3.43s/it]"
     ]
    },
    {
     "name": "stdout",
     "output_type": "stream",
     "text": [
      "Model Was Saved ! Current Best Avg. Dice: 0.2967126667499542 Current Avg. Dice: 0.2967126667499542 Current Avg. tumor Dice: 0.3880714178085327 Current Avg. lymph Dice: 0.2053539752960205\n"
     ]
    },
    {
     "name": "stderr",
     "output_type": "stream",
     "text": [
      "Training (8201 / 18000 Steps) (loss=0.31116): 100%|██████████| 6/6 [00:14<00:00,  2.37s/it]\n",
      "Training (8207 / 18000 Steps) (loss=0.43971): 100%|██████████| 6/6 [00:08<00:00,  1.34s/it]\n",
      "Training (8213 / 18000 Steps) (loss=0.32081): 100%|██████████| 6/6 [00:07<00:00,  1.32s/it]\n",
      "Training (8219 / 18000 Steps) (loss=0.55110): 100%|██████████| 6/6 [00:07<00:00,  1.33s/it]\n",
      "Training (8225 / 18000 Steps) (loss=0.31334): 100%|██████████| 6/6 [00:07<00:00,  1.33s/it]\n",
      "Training (8231 / 18000 Steps) (loss=0.44032): 100%|██████████| 6/6 [00:07<00:00,  1.27s/it]\n",
      "Training (8237 / 18000 Steps) (loss=0.54841): 100%|██████████| 6/6 [00:07<00:00,  1.28s/it]\n",
      "Training (8243 / 18000 Steps) (loss=0.42892): 100%|██████████| 6/6 [00:07<00:00,  1.33s/it]\n",
      "Training (8249 / 18000 Steps) (loss=0.50051): 100%|██████████| 6/6 [00:07<00:00,  1.27s/it]\n",
      "Training (8255 / 18000 Steps) (loss=0.37873): 100%|██████████| 6/6 [00:07<00:00,  1.26s/it]\n",
      "Training (8261 / 18000 Steps) (loss=0.49625): 100%|██████████| 6/6 [00:07<00:00,  1.31s/it]\n",
      "Training (8267 / 18000 Steps) (loss=0.26914): 100%|██████████| 6/6 [00:07<00:00,  1.29s/it]\n",
      "Training (8273 / 18000 Steps) (loss=0.59460): 100%|██████████| 6/6 [00:07<00:00,  1.31s/it]\n",
      "Training (8279 / 18000 Steps) (loss=0.38225): 100%|██████████| 6/6 [00:07<00:00,  1.33s/it]\n",
      "Training (8285 / 18000 Steps) (loss=0.45720): 100%|██████████| 6/6 [00:08<00:00,  1.37s/it]\n",
      "Training (8291 / 18000 Steps) (loss=0.46996): 100%|██████████| 6/6 [00:08<00:00,  1.38s/it]\n",
      "Training (8297 / 18000 Steps) (loss=0.33096): 100%|██████████| 6/6 [00:08<00:00,  1.34s/it]\n",
      "Validate (8298 / 10 Steps): 100%|██████████| 3/3 [00:05<00:00,  1.80s/it]<00:07,  1.98s/it]\n",
      "Training (8300 / 18000 Steps) (loss=0.36887):  50%|█████     | 3/6 [00:10<00:11,  3.98s/it]"
     ]
    },
    {
     "name": "stdout",
     "output_type": "stream",
     "text": [
      "Model Was Not Saved ! Current Best Avg. Dice: 0.2967126667499542 Current Avg. Dice: 0.2624276280403137 Current Avg. tumor Dice: 0.39540162682533264 Current Avg. lymph Dice: 0.1294536143541336\n"
     ]
    },
    {
     "name": "stderr",
     "output_type": "stream",
     "text": [
      "Training (8303 / 18000 Steps) (loss=0.41724): 100%|██████████| 6/6 [00:13<00:00,  2.21s/it]\n",
      "Training (8309 / 18000 Steps) (loss=0.39604): 100%|██████████| 6/6 [00:07<00:00,  1.29s/it]\n",
      "Training (8315 / 18000 Steps) (loss=0.21925): 100%|██████████| 6/6 [00:07<00:00,  1.28s/it]\n",
      "Training (8321 / 18000 Steps) (loss=0.43512): 100%|██████████| 6/6 [00:07<00:00,  1.28s/it]\n",
      "Training (8327 / 18000 Steps) (loss=0.49089): 100%|██████████| 6/6 [00:07<00:00,  1.32s/it]\n",
      "Training (8333 / 18000 Steps) (loss=0.26635): 100%|██████████| 6/6 [00:07<00:00,  1.30s/it]\n",
      "Training (8339 / 18000 Steps) (loss=0.36228): 100%|██████████| 6/6 [00:08<00:00,  1.35s/it]\n",
      "Training (8345 / 18000 Steps) (loss=0.31694): 100%|██████████| 6/6 [00:07<00:00,  1.29s/it]\n",
      "Training (8351 / 18000 Steps) (loss=0.36869): 100%|██████████| 6/6 [00:07<00:00,  1.32s/it]\n",
      "Training (8357 / 18000 Steps) (loss=0.45738): 100%|██████████| 6/6 [00:07<00:00,  1.31s/it]\n",
      "Training (8363 / 18000 Steps) (loss=0.21278): 100%|██████████| 6/6 [00:07<00:00,  1.32s/it]\n",
      "Training (8369 / 18000 Steps) (loss=0.59422): 100%|██████████| 6/6 [00:07<00:00,  1.28s/it]\n",
      "Training (8375 / 18000 Steps) (loss=0.45725): 100%|██████████| 6/6 [00:07<00:00,  1.26s/it]\n",
      "Training (8381 / 18000 Steps) (loss=0.42299): 100%|██████████| 6/6 [00:07<00:00,  1.29s/it]\n",
      "Training (8387 / 18000 Steps) (loss=0.46704): 100%|██████████| 6/6 [00:08<00:00,  1.35s/it]\n",
      "Training (8393 / 18000 Steps) (loss=0.47432): 100%|██████████| 6/6 [00:07<00:00,  1.28s/it]\n",
      "Training (8399 / 18000 Steps) (loss=0.57969): 100%|██████████| 6/6 [00:07<00:00,  1.29s/it]\n",
      "Validate (8400 / 10 Steps): 100%|██████████| 3/3 [00:05<00:00,  1.83s/it]<?, ?it/s]\n",
      "Training (8400 / 18000 Steps) (loss=0.41384):  17%|█▋        | 1/6 [00:09<00:46,  9.25s/it]"
     ]
    },
    {
     "name": "stdout",
     "output_type": "stream",
     "text": [
      "Model Was Not Saved ! Current Best Avg. Dice: 0.2967126667499542 Current Avg. Dice: 0.19528253376483917 Current Avg. tumor Dice: 0.29004189372062683 Current Avg. lymph Dice: 0.10052317380905151\n"
     ]
    },
    {
     "name": "stderr",
     "output_type": "stream",
     "text": [
      "Training (8405 / 18000 Steps) (loss=0.20997): 100%|██████████| 6/6 [00:13<00:00,  2.24s/it]\n",
      "Training (8411 / 18000 Steps) (loss=0.47200): 100%|██████████| 6/6 [00:07<00:00,  1.31s/it]\n",
      "Training (8417 / 18000 Steps) (loss=0.24895): 100%|██████████| 6/6 [00:07<00:00,  1.33s/it]\n",
      "Training (8423 / 18000 Steps) (loss=0.33288): 100%|██████████| 6/6 [00:07<00:00,  1.33s/it]\n",
      "Training (8429 / 18000 Steps) (loss=0.55494): 100%|██████████| 6/6 [00:07<00:00,  1.30s/it]\n",
      "Training (8435 / 18000 Steps) (loss=0.33433): 100%|██████████| 6/6 [00:08<00:00,  1.34s/it]\n",
      "Training (8441 / 18000 Steps) (loss=0.48535): 100%|██████████| 6/6 [00:07<00:00,  1.31s/it]\n",
      "Training (8447 / 18000 Steps) (loss=0.29186): 100%|██████████| 6/6 [00:07<00:00,  1.27s/it]\n",
      "Training (8453 / 18000 Steps) (loss=0.40315): 100%|██████████| 6/6 [00:07<00:00,  1.31s/it]\n",
      "Training (8459 / 18000 Steps) (loss=0.29588): 100%|██████████| 6/6 [00:07<00:00,  1.32s/it]\n",
      "Training (8465 / 18000 Steps) (loss=0.42014): 100%|██████████| 6/6 [00:07<00:00,  1.30s/it]\n",
      "Training (8471 / 18000 Steps) (loss=0.41420): 100%|██████████| 6/6 [00:07<00:00,  1.30s/it]\n",
      "Training (8477 / 18000 Steps) (loss=0.34391): 100%|██████████| 6/6 [00:07<00:00,  1.30s/it]\n",
      "Training (8483 / 18000 Steps) (loss=0.34781): 100%|██████████| 6/6 [00:08<00:00,  1.34s/it]\n",
      "Training (8489 / 18000 Steps) (loss=0.44290): 100%|██████████| 6/6 [00:07<00:00,  1.31s/it]\n",
      "Training (8495 / 18000 Steps) (loss=0.34507): 100%|██████████| 6/6 [00:07<00:00,  1.30s/it]\n",
      "Validate (8496 / 10 Steps): 100%|██████████| 3/3 [00:05<00:00,  1.81s/it]<00:02,  1.21s/it]\n",
      "Training (8500 / 18000 Steps) (loss=0.38082):  83%|████████▎ | 5/6 [00:12<00:03,  3.05s/it]"
     ]
    },
    {
     "name": "stdout",
     "output_type": "stream",
     "text": [
      "Model Was Not Saved ! Current Best Avg. Dice: 0.2967126667499542 Current Avg. Dice: 0.19046683609485626 Current Avg. tumor Dice: 0.329615980386734 Current Avg. lymph Dice: 0.051317665725946426\n"
     ]
    },
    {
     "name": "stderr",
     "output_type": "stream",
     "text": [
      "Training (8501 / 18000 Steps) (loss=0.44296): 100%|██████████| 6/6 [00:13<00:00,  2.19s/it]\n",
      "Training (8507 / 18000 Steps) (loss=0.46038): 100%|██████████| 6/6 [00:07<00:00,  1.27s/it]\n",
      "Training (8513 / 18000 Steps) (loss=0.41689): 100%|██████████| 6/6 [00:07<00:00,  1.26s/it]\n",
      "Training (8519 / 18000 Steps) (loss=0.30642): 100%|██████████| 6/6 [00:07<00:00,  1.25s/it]\n",
      "Training (8525 / 18000 Steps) (loss=0.44308): 100%|██████████| 6/6 [00:08<00:00,  1.36s/it]\n",
      "Training (8531 / 18000 Steps) (loss=0.43348): 100%|██████████| 6/6 [00:07<00:00,  1.31s/it]\n",
      "Training (8537 / 18000 Steps) (loss=0.24317): 100%|██████████| 6/6 [00:07<00:00,  1.29s/it]\n",
      "Training (8543 / 18000 Steps) (loss=0.28064): 100%|██████████| 6/6 [00:07<00:00,  1.31s/it]\n",
      "Training (8549 / 18000 Steps) (loss=0.54914): 100%|██████████| 6/6 [00:07<00:00,  1.31s/it]\n",
      "Training (8555 / 18000 Steps) (loss=0.37263): 100%|██████████| 6/6 [00:07<00:00,  1.31s/it]\n",
      "Training (8561 / 18000 Steps) (loss=0.60006): 100%|██████████| 6/6 [00:07<00:00,  1.32s/it]\n",
      "Training (8567 / 18000 Steps) (loss=0.25770): 100%|██████████| 6/6 [00:07<00:00,  1.32s/it]\n",
      "Training (8573 / 18000 Steps) (loss=0.36021): 100%|██████████| 6/6 [00:08<00:00,  1.34s/it]\n",
      "Training (8579 / 18000 Steps) (loss=0.53911): 100%|██████████| 6/6 [00:07<00:00,  1.27s/it]\n",
      "Training (8585 / 18000 Steps) (loss=0.41920): 100%|██████████| 6/6 [00:07<00:00,  1.28s/it]\n",
      "Training (8591 / 18000 Steps) (loss=0.46224): 100%|██████████| 6/6 [00:07<00:00,  1.26s/it]\n",
      "Training (8597 / 18000 Steps) (loss=0.28477): 100%|██████████| 6/6 [00:07<00:00,  1.29s/it]\n",
      "Validate (8598 / 10 Steps): 100%|██████████| 3/3 [00:05<00:00,  1.85s/it]<00:07,  1.98s/it]\n",
      "Training (8600 / 18000 Steps) (loss=0.34829):  50%|█████     | 3/6 [00:10<00:12,  4.02s/it]"
     ]
    },
    {
     "name": "stdout",
     "output_type": "stream",
     "text": [
      "Model Was Not Saved ! Current Best Avg. Dice: 0.2967126667499542 Current Avg. Dice: 0.19711188971996307 Current Avg. tumor Dice: 0.3439823389053345 Current Avg. lymph Dice: 0.050241440534591675\n"
     ]
    },
    {
     "name": "stderr",
     "output_type": "stream",
     "text": [
      "Training (8603 / 18000 Steps) (loss=0.47321): 100%|██████████| 6/6 [00:13<00:00,  2.23s/it]\n",
      "Training (8609 / 18000 Steps) (loss=0.42599): 100%|██████████| 6/6 [00:07<00:00,  1.32s/it]\n",
      "Training (8615 / 18000 Steps) (loss=0.53446): 100%|██████████| 6/6 [00:08<00:00,  1.34s/it]\n",
      "Training (8621 / 18000 Steps) (loss=0.51990): 100%|██████████| 6/6 [00:08<00:00,  1.38s/it]\n",
      "Training (8627 / 18000 Steps) (loss=0.67060): 100%|██████████| 6/6 [00:07<00:00,  1.33s/it]\n",
      "Training (8633 / 18000 Steps) (loss=0.63419): 100%|██████████| 6/6 [00:07<00:00,  1.27s/it]\n",
      "Training (8639 / 18000 Steps) (loss=0.40211): 100%|██████████| 6/6 [00:07<00:00,  1.29s/it]\n",
      "Training (8645 / 18000 Steps) (loss=0.49129): 100%|██████████| 6/6 [00:07<00:00,  1.28s/it]\n",
      "Training (8651 / 18000 Steps) (loss=0.27666): 100%|██████████| 6/6 [00:08<00:00,  1.34s/it]\n",
      "Training (8657 / 18000 Steps) (loss=0.31643): 100%|██████████| 6/6 [00:07<00:00,  1.30s/it]\n",
      "Training (8663 / 18000 Steps) (loss=0.43636): 100%|██████████| 6/6 [00:07<00:00,  1.32s/it]\n",
      "Training (8669 / 18000 Steps) (loss=0.26357): 100%|██████████| 6/6 [00:08<00:00,  1.34s/it]\n",
      "Training (8675 / 18000 Steps) (loss=0.45891): 100%|██████████| 6/6 [00:07<00:00,  1.28s/it]\n",
      "Training (8681 / 18000 Steps) (loss=0.29839): 100%|██████████| 6/6 [00:07<00:00,  1.32s/it]\n",
      "Training (8687 / 18000 Steps) (loss=0.46549): 100%|██████████| 6/6 [00:07<00:00,  1.33s/it]\n",
      "Training (8693 / 18000 Steps) (loss=0.57369): 100%|██████████| 6/6 [00:07<00:00,  1.32s/it]\n",
      "Training (8699 / 18000 Steps) (loss=0.47621): 100%|██████████| 6/6 [00:07<00:00,  1.30s/it]\n",
      "Validate (8700 / 10 Steps): 100%|██████████| 3/3 [00:05<00:00,  1.83s/it]<?, ?it/s]\n",
      "Training (8700 / 18000 Steps) (loss=0.29778):  17%|█▋        | 1/6 [00:08<00:44,  8.92s/it]"
     ]
    },
    {
     "name": "stdout",
     "output_type": "stream",
     "text": [
      "Model Was Not Saved ! Current Best Avg. Dice: 0.2967126667499542 Current Avg. Dice: 0.23628239333629608 Current Avg. tumor Dice: 0.36159852147102356 Current Avg. lymph Dice: 0.11096623539924622\n"
     ]
    },
    {
     "name": "stderr",
     "output_type": "stream",
     "text": [
      "Training (8705 / 18000 Steps) (loss=0.34202): 100%|██████████| 6/6 [00:13<00:00,  2.18s/it]\n",
      "Training (8711 / 18000 Steps) (loss=0.47564): 100%|██████████| 6/6 [00:07<00:00,  1.29s/it]\n",
      "Training (8717 / 18000 Steps) (loss=0.16296): 100%|██████████| 6/6 [00:07<00:00,  1.32s/it]\n",
      "Training (8723 / 18000 Steps) (loss=0.45886): 100%|██████████| 6/6 [00:07<00:00,  1.28s/it]\n",
      "Training (8729 / 18000 Steps) (loss=0.34738): 100%|██████████| 6/6 [00:07<00:00,  1.30s/it]\n",
      "Training (8735 / 18000 Steps) (loss=0.37325): 100%|██████████| 6/6 [00:07<00:00,  1.30s/it]\n",
      "Training (8741 / 18000 Steps) (loss=0.29805): 100%|██████████| 6/6 [00:07<00:00,  1.33s/it]\n",
      "Training (8747 / 18000 Steps) (loss=0.30195): 100%|██████████| 6/6 [00:07<00:00,  1.33s/it]\n",
      "Training (8753 / 18000 Steps) (loss=0.31306): 100%|██████████| 6/6 [00:08<00:00,  1.36s/it]\n",
      "Training (8759 / 18000 Steps) (loss=0.50606): 100%|██████████| 6/6 [00:08<00:00,  1.34s/it]\n",
      "Training (8765 / 18000 Steps) (loss=0.34267): 100%|██████████| 6/6 [00:07<00:00,  1.33s/it]\n",
      "Training (8771 / 18000 Steps) (loss=0.41050): 100%|██████████| 6/6 [00:07<00:00,  1.30s/it]\n",
      "Training (8777 / 18000 Steps) (loss=0.37648): 100%|██████████| 6/6 [00:07<00:00,  1.28s/it]\n",
      "Training (8783 / 18000 Steps) (loss=0.50611): 100%|██████████| 6/6 [00:07<00:00,  1.29s/it]\n",
      "Training (8789 / 18000 Steps) (loss=0.56270): 100%|██████████| 6/6 [00:07<00:00,  1.31s/it]\n",
      "Training (8795 / 18000 Steps) (loss=0.45280): 100%|██████████| 6/6 [00:07<00:00,  1.30s/it]\n",
      "Validate (8796 / 10 Steps): 100%|██████████| 3/3 [00:05<00:00,  1.87s/it]<00:02,  1.26s/it]\n",
      "Training (8800 / 18000 Steps) (loss=0.30761):  83%|████████▎ | 5/6 [00:12<00:03,  3.16s/it]"
     ]
    },
    {
     "name": "stdout",
     "output_type": "stream",
     "text": [
      "Model Was Not Saved ! Current Best Avg. Dice: 0.2967126667499542 Current Avg. Dice: 0.21455810964107513 Current Avg. tumor Dice: 0.3282604217529297 Current Avg. lymph Dice: 0.1008557677268982\n"
     ]
    },
    {
     "name": "stderr",
     "output_type": "stream",
     "text": [
      "Training (8801 / 18000 Steps) (loss=0.36761): 100%|██████████| 6/6 [00:13<00:00,  2.28s/it]\n",
      "Training (8807 / 18000 Steps) (loss=0.21269): 100%|██████████| 6/6 [00:07<00:00,  1.32s/it]\n",
      "Training (8813 / 18000 Steps) (loss=0.54055): 100%|██████████| 6/6 [00:08<00:00,  1.33s/it]\n",
      "Training (8819 / 18000 Steps) (loss=0.29593): 100%|██████████| 6/6 [00:08<00:00,  1.34s/it]\n",
      "Training (8825 / 18000 Steps) (loss=0.37532): 100%|██████████| 6/6 [00:07<00:00,  1.31s/it]\n",
      "Training (8831 / 18000 Steps) (loss=0.14579): 100%|██████████| 6/6 [00:07<00:00,  1.25s/it]\n",
      "Training (8837 / 18000 Steps) (loss=0.43229): 100%|██████████| 6/6 [00:07<00:00,  1.29s/it]\n",
      "Training (8843 / 18000 Steps) (loss=0.47367): 100%|██████████| 6/6 [00:07<00:00,  1.29s/it]\n",
      "Training (8849 / 18000 Steps) (loss=0.29431): 100%|██████████| 6/6 [00:07<00:00,  1.29s/it]\n",
      "Training (8855 / 18000 Steps) (loss=0.55237): 100%|██████████| 6/6 [00:07<00:00,  1.28s/it]\n",
      "Training (8861 / 18000 Steps) (loss=0.48554): 100%|██████████| 6/6 [00:07<00:00,  1.25s/it]\n",
      "Training (8867 / 18000 Steps) (loss=0.45805): 100%|██████████| 6/6 [00:07<00:00,  1.33s/it]\n",
      "Training (8873 / 18000 Steps) (loss=0.40949): 100%|██████████| 6/6 [00:07<00:00,  1.31s/it]\n",
      "Training (8879 / 18000 Steps) (loss=0.53389): 100%|██████████| 6/6 [00:07<00:00,  1.31s/it]\n",
      "Training (8885 / 18000 Steps) (loss=0.47323): 100%|██████████| 6/6 [00:07<00:00,  1.32s/it]\n",
      "Training (8891 / 18000 Steps) (loss=0.47760): 100%|██████████| 6/6 [00:08<00:00,  1.34s/it]\n",
      "Training (8897 / 18000 Steps) (loss=0.56210): 100%|██████████| 6/6 [00:07<00:00,  1.27s/it]\n",
      "Validate (8898 / 10 Steps): 100%|██████████| 3/3 [00:05<00:00,  1.83s/it]<00:07,  1.94s/it]\n",
      "Training (8900 / 18000 Steps) (loss=0.29935):  50%|█████     | 3/6 [00:10<00:11,  3.99s/it]"
     ]
    },
    {
     "name": "stdout",
     "output_type": "stream",
     "text": [
      "Model Was Not Saved ! Current Best Avg. Dice: 0.2967126667499542 Current Avg. Dice: 0.2329093962907791 Current Avg. tumor Dice: 0.2765218913555145 Current Avg. lymph Dice: 0.1892969161272049\n"
     ]
    },
    {
     "name": "stderr",
     "output_type": "stream",
     "text": [
      "Training (8903 / 18000 Steps) (loss=0.48576): 100%|██████████| 6/6 [00:13<00:00,  2.21s/it]\n",
      "Training (8909 / 18000 Steps) (loss=0.29901): 100%|██████████| 6/6 [00:07<00:00,  1.31s/it]\n",
      "Training (8915 / 18000 Steps) (loss=0.32751): 100%|██████████| 6/6 [00:07<00:00,  1.30s/it]\n",
      "Training (8921 / 18000 Steps) (loss=0.43438): 100%|██████████| 6/6 [00:07<00:00,  1.30s/it]\n",
      "Training (8927 / 18000 Steps) (loss=0.20810): 100%|██████████| 6/6 [00:07<00:00,  1.30s/it]\n",
      "Training (8933 / 18000 Steps) (loss=0.22933): 100%|██████████| 6/6 [00:07<00:00,  1.27s/it]\n",
      "Training (8939 / 18000 Steps) (loss=0.26603): 100%|██████████| 6/6 [00:07<00:00,  1.30s/it]\n",
      "Training (8945 / 18000 Steps) (loss=0.35242): 100%|██████████| 6/6 [00:07<00:00,  1.32s/it]\n",
      "Training (8951 / 18000 Steps) (loss=0.35763): 100%|██████████| 6/6 [00:07<00:00,  1.31s/it]\n",
      "Training (8957 / 18000 Steps) (loss=0.41545): 100%|██████████| 6/6 [00:08<00:00,  1.38s/it]\n",
      "Training (8963 / 18000 Steps) (loss=0.42075): 100%|██████████| 6/6 [00:07<00:00,  1.29s/it]\n",
      "Training (8969 / 18000 Steps) (loss=0.47391): 100%|██████████| 6/6 [00:07<00:00,  1.32s/it]\n",
      "Training (8975 / 18000 Steps) (loss=0.43938): 100%|██████████| 6/6 [00:07<00:00,  1.26s/it]\n",
      "Training (8981 / 18000 Steps) (loss=0.41933): 100%|██████████| 6/6 [00:07<00:00,  1.28s/it]\n",
      "Training (8987 / 18000 Steps) (loss=0.42343): 100%|██████████| 6/6 [00:07<00:00,  1.28s/it]\n",
      "Training (8993 / 18000 Steps) (loss=0.60696): 100%|██████████| 6/6 [00:07<00:00,  1.24s/it]\n",
      "Training (8999 / 18000 Steps) (loss=0.48534): 100%|██████████| 6/6 [00:07<00:00,  1.31s/it]\n",
      "Validate (9000 / 10 Steps): 100%|██████████| 3/3 [00:05<00:00,  1.85s/it]<?, ?it/s]\n",
      "Training (9000 / 18000 Steps) (loss=0.40679):  17%|█▋        | 1/6 [00:09<00:45,  9.15s/it]"
     ]
    },
    {
     "name": "stdout",
     "output_type": "stream",
     "text": [
      "Model Was Not Saved ! Current Best Avg. Dice: 0.2967126667499542 Current Avg. Dice: 0.20895294845104218 Current Avg. tumor Dice: 0.28913843631744385 Current Avg. lymph Dice: 0.1287674605846405\n"
     ]
    },
    {
     "name": "stderr",
     "output_type": "stream",
     "text": [
      "Training (9005 / 18000 Steps) (loss=0.35962): 100%|██████████| 6/6 [00:13<00:00,  2.28s/it]\n",
      "Training (9011 / 18000 Steps) (loss=0.51092): 100%|██████████| 6/6 [00:07<00:00,  1.33s/it]\n",
      "Training (9017 / 18000 Steps) (loss=0.32644): 100%|██████████| 6/6 [00:08<00:00,  1.34s/it]\n",
      "Training (9023 / 18000 Steps) (loss=0.39160): 100%|██████████| 6/6 [00:07<00:00,  1.30s/it]\n",
      "Training (9029 / 18000 Steps) (loss=0.33707): 100%|██████████| 6/6 [00:07<00:00,  1.26s/it]\n",
      "Training (9035 / 18000 Steps) (loss=0.43297): 100%|██████████| 6/6 [00:07<00:00,  1.28s/it]\n",
      "Training (9041 / 18000 Steps) (loss=0.24444): 100%|██████████| 6/6 [00:07<00:00,  1.30s/it]\n",
      "Training (9047 / 18000 Steps) (loss=0.54164): 100%|██████████| 6/6 [00:07<00:00,  1.27s/it]\n",
      "Training (9053 / 18000 Steps) (loss=0.45577): 100%|██████████| 6/6 [00:08<00:00,  1.34s/it]\n",
      "Training (9059 / 18000 Steps) (loss=0.43773): 100%|██████████| 6/6 [00:08<00:00,  1.35s/it]\n",
      "Training (9065 / 18000 Steps) (loss=0.45007): 100%|██████████| 6/6 [00:07<00:00,  1.30s/it]\n",
      "Training (9071 / 18000 Steps) (loss=0.44609): 100%|██████████| 6/6 [00:07<00:00,  1.28s/it]\n",
      "Training (9077 / 18000 Steps) (loss=0.53367): 100%|██████████| 6/6 [00:07<00:00,  1.29s/it]\n",
      "Training (9083 / 18000 Steps) (loss=0.37741): 100%|██████████| 6/6 [00:07<00:00,  1.33s/it]\n",
      "Training (9089 / 18000 Steps) (loss=0.48167): 100%|██████████| 6/6 [00:08<00:00,  1.35s/it]\n",
      "Training (9095 / 18000 Steps) (loss=0.26587): 100%|██████████| 6/6 [00:07<00:00,  1.31s/it]\n",
      "Validate (9096 / 10 Steps): 100%|██████████| 3/3 [00:05<00:00,  1.83s/it]<00:02,  1.22s/it]\n",
      "Training (9100 / 18000 Steps) (loss=0.52495):  83%|████████▎ | 5/6 [00:12<00:03,  3.17s/it]"
     ]
    },
    {
     "name": "stdout",
     "output_type": "stream",
     "text": [
      "Model Was Not Saved ! Current Best Avg. Dice: 0.2967126667499542 Current Avg. Dice: 0.22780339419841766 Current Avg. tumor Dice: 0.34189072251319885 Current Avg. lymph Dice: 0.1137160062789917\n"
     ]
    },
    {
     "name": "stderr",
     "output_type": "stream",
     "text": [
      "Training (9101 / 18000 Steps) (loss=0.29721): 100%|██████████| 6/6 [00:13<00:00,  2.25s/it]\n",
      "Training (9107 / 18000 Steps) (loss=0.22257): 100%|██████████| 6/6 [00:07<00:00,  1.31s/it]\n",
      "Training (9113 / 18000 Steps) (loss=0.36411): 100%|██████████| 6/6 [00:07<00:00,  1.26s/it]\n",
      "Training (9119 / 18000 Steps) (loss=0.37177): 100%|██████████| 6/6 [00:07<00:00,  1.31s/it]\n",
      "Training (9125 / 18000 Steps) (loss=0.48188): 100%|██████████| 6/6 [00:07<00:00,  1.31s/it]\n",
      "Training (9131 / 18000 Steps) (loss=0.37633): 100%|██████████| 6/6 [00:07<00:00,  1.30s/it]\n",
      "Training (9137 / 18000 Steps) (loss=0.49256): 100%|██████████| 6/6 [00:08<00:00,  1.33s/it]\n",
      "Training (9143 / 18000 Steps) (loss=0.66894): 100%|██████████| 6/6 [00:07<00:00,  1.32s/it]\n",
      "Training (9149 / 18000 Steps) (loss=0.56922): 100%|██████████| 6/6 [00:07<00:00,  1.33s/it]\n",
      "Training (9155 / 18000 Steps) (loss=0.33870): 100%|██████████| 6/6 [00:08<00:00,  1.38s/it]\n",
      "Training (9161 / 18000 Steps) (loss=0.41705): 100%|██████████| 6/6 [00:07<00:00,  1.25s/it]\n",
      "Training (9167 / 18000 Steps) (loss=0.43633): 100%|██████████| 6/6 [00:07<00:00,  1.28s/it]\n",
      "Training (9173 / 18000 Steps) (loss=0.48512): 100%|██████████| 6/6 [00:07<00:00,  1.29s/it]\n",
      "Training (9179 / 18000 Steps) (loss=0.34987): 100%|██████████| 6/6 [00:07<00:00,  1.29s/it]\n",
      "Training (9185 / 18000 Steps) (loss=0.33768): 100%|██████████| 6/6 [00:07<00:00,  1.30s/it]\n",
      "Training (9191 / 18000 Steps) (loss=0.47301): 100%|██████████| 6/6 [00:07<00:00,  1.27s/it]\n",
      "Training (9197 / 18000 Steps) (loss=0.32434): 100%|██████████| 6/6 [00:07<00:00,  1.30s/it]\n",
      "Validate (9198 / 10 Steps): 100%|██████████| 3/3 [00:05<00:00,  1.82s/it]<00:08,  2.04s/it]\n",
      "Training (9200 / 18000 Steps) (loss=0.35011):  50%|█████     | 3/6 [00:10<00:12,  4.01s/it]"
     ]
    },
    {
     "name": "stdout",
     "output_type": "stream",
     "text": [
      "Model Was Not Saved ! Current Best Avg. Dice: 0.2967126667499542 Current Avg. Dice: 0.2383253127336502 Current Avg. tumor Dice: 0.37127935886383057 Current Avg. lymph Dice: 0.10537127405405045\n"
     ]
    },
    {
     "name": "stderr",
     "output_type": "stream",
     "text": [
      "Training (9203 / 18000 Steps) (loss=0.22969): 100%|██████████| 6/6 [00:13<00:00,  2.24s/it]\n",
      "Training (9209 / 18000 Steps) (loss=0.36015): 100%|██████████| 6/6 [00:07<00:00,  1.33s/it]\n",
      "Training (9215 / 18000 Steps) (loss=0.42604): 100%|██████████| 6/6 [00:08<00:00,  1.35s/it]\n",
      "Training (9221 / 18000 Steps) (loss=0.43366): 100%|██████████| 6/6 [00:07<00:00,  1.28s/it]\n",
      "Training (9227 / 18000 Steps) (loss=0.44491): 100%|██████████| 6/6 [00:07<00:00,  1.30s/it]\n",
      "Training (9233 / 18000 Steps) (loss=0.29980): 100%|██████████| 6/6 [00:07<00:00,  1.31s/it]\n",
      "Training (9239 / 18000 Steps) (loss=0.17936): 100%|██████████| 6/6 [00:07<00:00,  1.30s/it]\n",
      "Training (9245 / 18000 Steps) (loss=0.31750): 100%|██████████| 6/6 [00:07<00:00,  1.32s/it]\n",
      "Training (9251 / 18000 Steps) (loss=0.39299): 100%|██████████| 6/6 [00:07<00:00,  1.32s/it]\n",
      "Training (9257 / 18000 Steps) (loss=0.30775): 100%|██████████| 6/6 [00:07<00:00,  1.30s/it]\n",
      "Training (9263 / 18000 Steps) (loss=0.47395): 100%|██████████| 6/6 [00:07<00:00,  1.30s/it]\n",
      "Training (9269 / 18000 Steps) (loss=0.29533): 100%|██████████| 6/6 [00:07<00:00,  1.32s/it]\n",
      "Training (9275 / 18000 Steps) (loss=0.36172): 100%|██████████| 6/6 [00:07<00:00,  1.30s/it]\n",
      "Training (9281 / 18000 Steps) (loss=0.42400): 100%|██████████| 6/6 [00:07<00:00,  1.31s/it]\n",
      "Training (9287 / 18000 Steps) (loss=0.42602): 100%|██████████| 6/6 [00:08<00:00,  1.37s/it]\n",
      "Training (9293 / 18000 Steps) (loss=0.41075): 100%|██████████| 6/6 [00:07<00:00,  1.30s/it]\n",
      "Training (9299 / 18000 Steps) (loss=0.42929): 100%|██████████| 6/6 [00:07<00:00,  1.28s/it]\n",
      "Validate (9300 / 10 Steps): 100%|██████████| 3/3 [00:05<00:00,  1.83s/it]<?, ?it/s]\n",
      "Training (9300 / 18000 Steps) (loss=0.38149):  17%|█▋        | 1/6 [00:08<00:44,  8.96s/it]"
     ]
    },
    {
     "name": "stdout",
     "output_type": "stream",
     "text": [
      "Model Was Not Saved ! Current Best Avg. Dice: 0.2967126667499542 Current Avg. Dice: 0.20637214183807373 Current Avg. tumor Dice: 0.2893156111240387 Current Avg. lymph Dice: 0.12342866510152817\n"
     ]
    },
    {
     "name": "stderr",
     "output_type": "stream",
     "text": [
      "Training (9305 / 18000 Steps) (loss=0.31562): 100%|██████████| 6/6 [00:13<00:00,  2.19s/it]\n",
      "Training (9311 / 18000 Steps) (loss=0.18450): 100%|██████████| 6/6 [00:07<00:00,  1.29s/it]\n",
      "Training (9317 / 18000 Steps) (loss=0.47936): 100%|██████████| 6/6 [00:07<00:00,  1.29s/it]\n",
      "Training (9323 / 18000 Steps) (loss=0.37412): 100%|██████████| 6/6 [00:07<00:00,  1.26s/it]\n",
      "Training (9329 / 18000 Steps) (loss=0.52461): 100%|██████████| 6/6 [00:08<00:00,  1.35s/it]\n",
      "Training (9335 / 18000 Steps) (loss=0.53760): 100%|██████████| 6/6 [00:07<00:00,  1.29s/it]\n",
      "Training (9341 / 18000 Steps) (loss=0.13179): 100%|██████████| 6/6 [00:08<00:00,  1.35s/it]\n",
      "Training (9347 / 18000 Steps) (loss=0.31381): 100%|██████████| 6/6 [00:07<00:00,  1.33s/it]\n",
      "Training (9353 / 18000 Steps) (loss=0.22679): 100%|██████████| 6/6 [00:08<00:00,  1.36s/it]\n",
      "Training (9359 / 18000 Steps) (loss=0.40514): 100%|██████████| 6/6 [00:07<00:00,  1.27s/it]\n",
      "Training (9365 / 18000 Steps) (loss=0.50934): 100%|██████████| 6/6 [00:07<00:00,  1.29s/it]\n",
      "Training (9371 / 18000 Steps) (loss=0.43532): 100%|██████████| 6/6 [00:07<00:00,  1.31s/it]\n",
      "Training (9377 / 18000 Steps) (loss=0.27299): 100%|██████████| 6/6 [00:07<00:00,  1.28s/it]\n",
      "Training (9383 / 18000 Steps) (loss=0.53576): 100%|██████████| 6/6 [00:07<00:00,  1.28s/it]\n",
      "Training (9389 / 18000 Steps) (loss=0.34889): 100%|██████████| 6/6 [00:07<00:00,  1.30s/it]\n",
      "Training (9395 / 18000 Steps) (loss=0.22452): 100%|██████████| 6/6 [00:07<00:00,  1.29s/it]\n",
      "Validate (9396 / 10 Steps): 100%|██████████| 3/3 [00:05<00:00,  1.84s/it]<00:02,  1.23s/it]\n",
      "Training (9400 / 18000 Steps) (loss=0.39236):  83%|████████▎ | 5/6 [00:12<00:03,  3.11s/it]"
     ]
    },
    {
     "name": "stdout",
     "output_type": "stream",
     "text": [
      "Model Was Not Saved ! Current Best Avg. Dice: 0.2967126667499542 Current Avg. Dice: 0.23218052089214325 Current Avg. tumor Dice: 0.2926035225391388 Current Avg. lymph Dice: 0.1717575043439865\n"
     ]
    },
    {
     "name": "stderr",
     "output_type": "stream",
     "text": [
      "Training (9401 / 18000 Steps) (loss=0.42369): 100%|██████████| 6/6 [00:13<00:00,  2.24s/it]\n",
      "Training (9407 / 18000 Steps) (loss=0.59746): 100%|██████████| 6/6 [00:07<00:00,  1.32s/it]\n",
      "Training (9413 / 18000 Steps) (loss=0.37975): 100%|██████████| 6/6 [00:08<00:00,  1.36s/it]\n",
      "Training (9419 / 18000 Steps) (loss=0.44015): 100%|██████████| 6/6 [00:07<00:00,  1.31s/it]\n",
      "Training (9425 / 18000 Steps) (loss=0.49123): 100%|██████████| 6/6 [00:07<00:00,  1.31s/it]\n",
      "Training (9431 / 18000 Steps) (loss=0.33984): 100%|██████████| 6/6 [00:07<00:00,  1.33s/it]\n",
      "Training (9437 / 18000 Steps) (loss=0.26246): 100%|██████████| 6/6 [00:07<00:00,  1.29s/it]\n",
      "Training (9443 / 18000 Steps) (loss=0.57123): 100%|██████████| 6/6 [00:07<00:00,  1.27s/it]\n",
      "Training (9449 / 18000 Steps) (loss=0.46063): 100%|██████████| 6/6 [00:07<00:00,  1.28s/it]\n",
      "Training (9455 / 18000 Steps) (loss=0.34556): 100%|██████████| 6/6 [00:07<00:00,  1.31s/it]\n",
      "Training (9461 / 18000 Steps) (loss=0.26714): 100%|██████████| 6/6 [00:07<00:00,  1.29s/it]\n",
      "Training (9467 / 18000 Steps) (loss=0.40397): 100%|██████████| 6/6 [00:07<00:00,  1.32s/it]\n",
      "Training (9473 / 18000 Steps) (loss=0.50758): 100%|██████████| 6/6 [00:08<00:00,  1.37s/it]\n",
      "Training (9479 / 18000 Steps) (loss=0.28944): 100%|██████████| 6/6 [00:07<00:00,  1.33s/it]\n",
      "Training (9485 / 18000 Steps) (loss=0.28118): 100%|██████████| 6/6 [00:08<00:00,  1.37s/it]\n",
      "Training (9491 / 18000 Steps) (loss=0.38396): 100%|██████████| 6/6 [00:07<00:00,  1.26s/it]\n",
      "Training (9497 / 18000 Steps) (loss=0.47949): 100%|██████████| 6/6 [00:07<00:00,  1.28s/it]\n",
      "Validate (9498 / 10 Steps): 100%|██████████| 3/3 [00:05<00:00,  1.82s/it]<00:07,  1.96s/it]\n",
      "Training (9500 / 18000 Steps) (loss=0.42384):  50%|█████     | 3/6 [00:10<00:11,  3.97s/it]"
     ]
    },
    {
     "name": "stdout",
     "output_type": "stream",
     "text": [
      "Model Was Not Saved ! Current Best Avg. Dice: 0.2967126667499542 Current Avg. Dice: 0.2584091126918793 Current Avg. tumor Dice: 0.2875649333000183 Current Avg. lymph Dice: 0.22925327718257904\n"
     ]
    },
    {
     "name": "stderr",
     "output_type": "stream",
     "text": [
      "Training (9503 / 18000 Steps) (loss=0.39298): 100%|██████████| 6/6 [00:13<00:00,  2.21s/it]\n",
      "Training (9509 / 18000 Steps) (loss=0.34797): 100%|██████████| 6/6 [00:07<00:00,  1.33s/it]\n",
      "Training (9515 / 18000 Steps) (loss=0.60356): 100%|██████████| 6/6 [00:07<00:00,  1.33s/it]\n",
      "Training (9521 / 18000 Steps) (loss=0.10764): 100%|██████████| 6/6 [00:07<00:00,  1.29s/it]\n",
      "Training (9527 / 18000 Steps) (loss=0.42509): 100%|██████████| 6/6 [00:08<00:00,  1.34s/it]\n",
      "Training (9533 / 18000 Steps) (loss=0.18005): 100%|██████████| 6/6 [00:07<00:00,  1.32s/it]\n",
      "Training (9539 / 18000 Steps) (loss=0.61771): 100%|██████████| 6/6 [00:07<00:00,  1.31s/it]\n",
      "Training (9545 / 18000 Steps) (loss=0.32756): 100%|██████████| 6/6 [00:07<00:00,  1.33s/it]\n",
      "Training (9551 / 18000 Steps) (loss=0.53002): 100%|██████████| 6/6 [00:07<00:00,  1.33s/it]\n",
      "Training (9557 / 18000 Steps) (loss=0.38410): 100%|██████████| 6/6 [00:07<00:00,  1.31s/it]\n",
      "Training (9563 / 18000 Steps) (loss=0.61989): 100%|██████████| 6/6 [00:07<00:00,  1.33s/it]\n",
      "Training (9569 / 18000 Steps) (loss=0.24844): 100%|██████████| 6/6 [00:08<00:00,  1.37s/it]\n",
      "Training (9575 / 18000 Steps) (loss=0.32270): 100%|██████████| 6/6 [00:07<00:00,  1.26s/it]\n",
      "Training (9581 / 18000 Steps) (loss=0.44492): 100%|██████████| 6/6 [00:07<00:00,  1.26s/it]\n",
      "Training (9587 / 18000 Steps) (loss=0.29913): 100%|██████████| 6/6 [00:07<00:00,  1.27s/it]\n",
      "Training (9593 / 18000 Steps) (loss=0.50062): 100%|██████████| 6/6 [00:07<00:00,  1.31s/it]\n",
      "Training (9599 / 18000 Steps) (loss=0.42668): 100%|██████████| 6/6 [00:07<00:00,  1.30s/it]\n",
      "Validate (9600 / 10 Steps): 100%|██████████| 3/3 [00:05<00:00,  1.85s/it]<?, ?it/s]\n",
      "Training (9600 / 18000 Steps) (loss=0.43721):  17%|█▋        | 1/6 [00:09<00:46,  9.30s/it]"
     ]
    },
    {
     "name": "stdout",
     "output_type": "stream",
     "text": [
      "Model Was Not Saved ! Current Best Avg. Dice: 0.2967126667499542 Current Avg. Dice: 0.18741345405578613 Current Avg. tumor Dice: 0.26773756742477417 Current Avg. lymph Dice: 0.1070893406867981\n"
     ]
    },
    {
     "name": "stderr",
     "output_type": "stream",
     "text": [
      "Training (9605 / 18000 Steps) (loss=0.35478): 100%|██████████| 6/6 [00:13<00:00,  2.32s/it]\n",
      "Training (9611 / 18000 Steps) (loss=0.31200): 100%|██████████| 6/6 [00:08<00:00,  1.42s/it]\n",
      "Training (9617 / 18000 Steps) (loss=0.48057): 100%|██████████| 6/6 [00:07<00:00,  1.31s/it]\n",
      "Training (9623 / 18000 Steps) (loss=0.44274): 100%|██████████| 6/6 [00:07<00:00,  1.31s/it]\n",
      "Training (9629 / 18000 Steps) (loss=0.43749): 100%|██████████| 6/6 [00:07<00:00,  1.29s/it]\n",
      "Training (9635 / 18000 Steps) (loss=0.42121): 100%|██████████| 6/6 [00:07<00:00,  1.27s/it]\n",
      "Training (9641 / 18000 Steps) (loss=0.27066): 100%|██████████| 6/6 [00:07<00:00,  1.29s/it]\n",
      "Training (9647 / 18000 Steps) (loss=0.65051): 100%|██████████| 6/6 [00:07<00:00,  1.30s/it]\n",
      "Training (9653 / 18000 Steps) (loss=0.61616): 100%|██████████| 6/6 [00:07<00:00,  1.30s/it]\n",
      "Training (9659 / 18000 Steps) (loss=0.54108): 100%|██████████| 6/6 [00:08<00:00,  1.37s/it]\n",
      "Training (9665 / 18000 Steps) (loss=0.31112): 100%|██████████| 6/6 [00:07<00:00,  1.31s/it]\n",
      "Training (9671 / 18000 Steps) (loss=0.37829): 100%|██████████| 6/6 [00:07<00:00,  1.30s/it]\n",
      "Training (9677 / 18000 Steps) (loss=0.42758): 100%|██████████| 6/6 [00:07<00:00,  1.31s/it]\n",
      "Training (9683 / 18000 Steps) (loss=0.37353): 100%|██████████| 6/6 [00:08<00:00,  1.34s/it]\n",
      "Training (9689 / 18000 Steps) (loss=0.37590): 100%|██████████| 6/6 [00:07<00:00,  1.29s/it]\n",
      "Training (9695 / 18000 Steps) (loss=0.45461): 100%|██████████| 6/6 [00:07<00:00,  1.27s/it]\n",
      "Validate (9696 / 10 Steps): 100%|██████████| 3/3 [00:05<00:00,  1.86s/it]<00:02,  1.24s/it]\n",
      "Training (9700 / 18000 Steps) (loss=0.37171):  83%|████████▎ | 5/6 [00:12<00:03,  3.14s/it]"
     ]
    },
    {
     "name": "stdout",
     "output_type": "stream",
     "text": [
      "Model Was Not Saved ! Current Best Avg. Dice: 0.2967126667499542 Current Avg. Dice: 0.18929040431976318 Current Avg. tumor Dice: 0.2802222967147827 Current Avg. lymph Dice: 0.09835853427648544\n"
     ]
    },
    {
     "name": "stderr",
     "output_type": "stream",
     "text": [
      "Training (9701 / 18000 Steps) (loss=0.32508): 100%|██████████| 6/6 [00:13<00:00,  2.26s/it]\n",
      "Training (9707 / 18000 Steps) (loss=0.53627): 100%|██████████| 6/6 [00:07<00:00,  1.28s/it]\n",
      "Training (9713 / 18000 Steps) (loss=0.35652): 100%|██████████| 6/6 [00:07<00:00,  1.29s/it]\n",
      "Training (9719 / 18000 Steps) (loss=0.30740): 100%|██████████| 6/6 [00:07<00:00,  1.30s/it]\n",
      "Training (9725 / 18000 Steps) (loss=0.35401): 100%|██████████| 6/6 [00:07<00:00,  1.30s/it]\n",
      "Training (9731 / 18000 Steps) (loss=0.41212): 100%|██████████| 6/6 [00:07<00:00,  1.29s/it]\n",
      "Training (9737 / 18000 Steps) (loss=0.46875): 100%|██████████| 6/6 [00:08<00:00,  1.34s/it]\n",
      "Training (9743 / 18000 Steps) (loss=0.20558): 100%|██████████| 6/6 [00:07<00:00,  1.32s/it]\n",
      "Training (9749 / 18000 Steps) (loss=0.26923): 100%|██████████| 6/6 [00:08<00:00,  1.38s/it]\n",
      "Training (9755 / 18000 Steps) (loss=0.40769): 100%|██████████| 6/6 [00:07<00:00,  1.30s/it]\n",
      "Training (9761 / 18000 Steps) (loss=0.39798): 100%|██████████| 6/6 [00:07<00:00,  1.26s/it]\n",
      "Training (9767 / 18000 Steps) (loss=0.20723): 100%|██████████| 6/6 [00:07<00:00,  1.30s/it]\n",
      "Training (9773 / 18000 Steps) (loss=0.41565): 100%|██████████| 6/6 [00:07<00:00,  1.28s/it]\n",
      "Training (9779 / 18000 Steps) (loss=0.51877): 100%|██████████| 6/6 [00:07<00:00,  1.28s/it]\n",
      "Training (9785 / 18000 Steps) (loss=0.24238): 100%|██████████| 6/6 [00:07<00:00,  1.26s/it]\n",
      "Training (9791 / 18000 Steps) (loss=0.41198): 100%|██████████| 6/6 [00:07<00:00,  1.29s/it]\n",
      "Training (9797 / 18000 Steps) (loss=0.30366): 100%|██████████| 6/6 [00:08<00:00,  1.35s/it]\n",
      "Validate (9798 / 10 Steps): 100%|██████████| 3/3 [00:05<00:00,  1.83s/it]<00:08,  2.02s/it]\n",
      "Training (9800 / 18000 Steps) (loss=0.34415):  50%|█████     | 3/6 [00:10<00:12,  4.01s/it]"
     ]
    },
    {
     "name": "stdout",
     "output_type": "stream",
     "text": [
      "Model Was Not Saved ! Current Best Avg. Dice: 0.2967126667499542 Current Avg. Dice: 0.1965012103319168 Current Avg. tumor Dice: 0.2720445692539215 Current Avg. lymph Dice: 0.12095785140991211\n"
     ]
    },
    {
     "name": "stderr",
     "output_type": "stream",
     "text": [
      "Training (9803 / 18000 Steps) (loss=0.38179): 100%|██████████| 6/6 [00:13<00:00,  2.27s/it]\n",
      "Training (9809 / 18000 Steps) (loss=0.55067): 100%|██████████| 6/6 [00:08<00:00,  1.38s/it]\n",
      "Training (9815 / 18000 Steps) (loss=0.33404): 100%|██████████| 6/6 [00:07<00:00,  1.32s/it]\n",
      "Training (9821 / 18000 Steps) (loss=0.25337): 100%|██████████| 6/6 [00:07<00:00,  1.29s/it]\n",
      "Training (9827 / 18000 Steps) (loss=0.50082): 100%|██████████| 6/6 [00:07<00:00,  1.28s/it]\n",
      "Training (9833 / 18000 Steps) (loss=0.22401): 100%|██████████| 6/6 [00:07<00:00,  1.30s/it]\n",
      "Training (9839 / 18000 Steps) (loss=0.36969): 100%|██████████| 6/6 [00:08<00:00,  1.39s/it]\n",
      "Training (9845 / 18000 Steps) (loss=0.48614): 100%|██████████| 6/6 [00:07<00:00,  1.30s/it]\n",
      "Training (9851 / 18000 Steps) (loss=0.39343): 100%|██████████| 6/6 [00:07<00:00,  1.33s/it]\n",
      "Training (9857 / 18000 Steps) (loss=0.47553): 100%|██████████| 6/6 [00:07<00:00,  1.29s/it]\n",
      "Training (9863 / 18000 Steps) (loss=0.20622): 100%|██████████| 6/6 [00:07<00:00,  1.28s/it]\n",
      "Training (9869 / 18000 Steps) (loss=0.54152): 100%|██████████| 6/6 [00:07<00:00,  1.28s/it]\n",
      "Training (9875 / 18000 Steps) (loss=0.57358): 100%|██████████| 6/6 [00:08<00:00,  1.34s/it]\n",
      "Training (9881 / 18000 Steps) (loss=0.49001): 100%|██████████| 6/6 [00:07<00:00,  1.30s/it]\n",
      "Training (9887 / 18000 Steps) (loss=0.48303): 100%|██████████| 6/6 [00:08<00:00,  1.34s/it]\n",
      "Training (9893 / 18000 Steps) (loss=0.24063): 100%|██████████| 6/6 [00:07<00:00,  1.30s/it]\n",
      "Training (9899 / 18000 Steps) (loss=0.40075): 100%|██████████| 6/6 [00:07<00:00,  1.32s/it]\n",
      "Validate (9900 / 10 Steps): 100%|██████████| 3/3 [00:05<00:00,  1.82s/it]<?, ?it/s]\n",
      "Training (9900 / 18000 Steps) (loss=0.38868):  17%|█▋        | 1/6 [00:09<00:45,  9.16s/it]"
     ]
    },
    {
     "name": "stdout",
     "output_type": "stream",
     "text": [
      "Model Was Not Saved ! Current Best Avg. Dice: 0.2967126667499542 Current Avg. Dice: 0.16574592888355255 Current Avg. tumor Dice: 0.2527775466442108 Current Avg. lymph Dice: 0.07871431857347488\n"
     ]
    },
    {
     "name": "stderr",
     "output_type": "stream",
     "text": [
      "Training (9905 / 18000 Steps) (loss=0.28866): 100%|██████████| 6/6 [00:13<00:00,  2.27s/it]\n",
      "Training (9911 / 18000 Steps) (loss=0.35982): 100%|██████████| 6/6 [00:07<00:00,  1.31s/it]\n",
      "Training (9917 / 18000 Steps) (loss=0.25731): 100%|██████████| 6/6 [00:07<00:00,  1.26s/it]\n",
      "Training (9923 / 18000 Steps) (loss=0.52859): 100%|██████████| 6/6 [00:07<00:00,  1.32s/it]\n",
      "Training (9929 / 18000 Steps) (loss=0.57537): 100%|██████████| 6/6 [00:08<00:00,  1.34s/it]\n",
      "Training (9935 / 18000 Steps) (loss=0.24394): 100%|██████████| 6/6 [00:08<00:00,  1.39s/it]\n",
      "Training (9941 / 18000 Steps) (loss=0.32315): 100%|██████████| 6/6 [00:08<00:00,  1.37s/it]\n",
      "Training (9947 / 18000 Steps) (loss=0.48247): 100%|██████████| 6/6 [00:08<00:00,  1.36s/it]\n",
      "Training (9953 / 18000 Steps) (loss=0.49168): 100%|██████████| 6/6 [00:07<00:00,  1.30s/it]\n",
      "Training (9959 / 18000 Steps) (loss=0.42952): 100%|██████████| 6/6 [00:07<00:00,  1.28s/it]\n",
      "Training (9965 / 18000 Steps) (loss=0.15678): 100%|██████████| 6/6 [00:07<00:00,  1.28s/it]\n",
      "Training (9971 / 18000 Steps) (loss=0.46506): 100%|██████████| 6/6 [00:07<00:00,  1.28s/it]\n",
      "Training (9977 / 18000 Steps) (loss=0.53170): 100%|██████████| 6/6 [00:07<00:00,  1.28s/it]\n",
      "Training (9983 / 18000 Steps) (loss=0.34177): 100%|██████████| 6/6 [00:07<00:00,  1.32s/it]\n",
      "Training (9989 / 18000 Steps) (loss=0.53690): 100%|██████████| 6/6 [00:07<00:00,  1.31s/it]\n",
      "Training (9995 / 18000 Steps) (loss=0.45221): 100%|██████████| 6/6 [00:07<00:00,  1.29s/it]\n",
      "Validate (9996 / 10 Steps): 100%|██████████| 3/3 [00:05<00:00,  1.88s/it]6<00:02,  1.23s/it]\n",
      "Training (10000 / 18000 Steps) (loss=0.47112):  83%|████████▎ | 5/6 [00:12<00:03,  3.15s/it]"
     ]
    },
    {
     "name": "stdout",
     "output_type": "stream",
     "text": [
      "Model Was Not Saved ! Current Best Avg. Dice: 0.2967126667499542 Current Avg. Dice: 0.19224925339221954 Current Avg. tumor Dice: 0.29426154494285583 Current Avg. lymph Dice: 0.09023701399564743\n"
     ]
    },
    {
     "name": "stderr",
     "output_type": "stream",
     "text": [
      "Training (10001 / 18000 Steps) (loss=0.42704): 100%|██████████| 6/6 [00:13<00:00,  2.26s/it]\n",
      "Training (10007 / 18000 Steps) (loss=0.35365): 100%|██████████| 6/6 [00:08<00:00,  1.40s/it]\n",
      "Training (10013 / 18000 Steps) (loss=0.20386): 100%|██████████| 6/6 [00:07<00:00,  1.31s/it]\n",
      "Training (10019 / 18000 Steps) (loss=0.53977): 100%|██████████| 6/6 [00:07<00:00,  1.32s/it]\n",
      "Training (10025 / 18000 Steps) (loss=0.32609): 100%|██████████| 6/6 [00:07<00:00,  1.30s/it]\n",
      "Training (10031 / 18000 Steps) (loss=0.26199): 100%|██████████| 6/6 [00:08<00:00,  1.35s/it]\n",
      "Training (10037 / 18000 Steps) (loss=0.34877): 100%|██████████| 6/6 [00:07<00:00,  1.32s/it]\n",
      "Training (10043 / 18000 Steps) (loss=0.54343): 100%|██████████| 6/6 [00:07<00:00,  1.29s/it]\n",
      "Training (10049 / 18000 Steps) (loss=0.56770): 100%|██████████| 6/6 [00:07<00:00,  1.30s/it]\n",
      "Training (10055 / 18000 Steps) (loss=0.45521): 100%|██████████| 6/6 [00:07<00:00,  1.30s/it]\n",
      "Training (10061 / 18000 Steps) (loss=0.33188): 100%|██████████| 6/6 [00:07<00:00,  1.32s/it]\n",
      "Training (10067 / 18000 Steps) (loss=0.33262): 100%|██████████| 6/6 [00:08<00:00,  1.34s/it]\n",
      "Training (10073 / 18000 Steps) (loss=0.37780): 100%|██████████| 6/6 [00:08<00:00,  1.42s/it]\n",
      "Training (10079 / 18000 Steps) (loss=0.42233): 100%|██████████| 6/6 [00:08<00:00,  1.35s/it]\n",
      "Training (10085 / 18000 Steps) (loss=0.36750): 100%|██████████| 6/6 [00:07<00:00,  1.29s/it]\n",
      "Training (10091 / 18000 Steps) (loss=0.40678): 100%|██████████| 6/6 [00:07<00:00,  1.31s/it]\n",
      "Training (10097 / 18000 Steps) (loss=0.27392): 100%|██████████| 6/6 [00:07<00:00,  1.31s/it]\n",
      "Validate (10098 / 10 Steps): 100%|██████████| 3/3 [00:05<00:00,  1.81s/it]<00:07,  1.95s/it]\n",
      "Training (10100 / 18000 Steps) (loss=0.50746):  50%|█████     | 3/6 [00:10<00:11,  3.95s/it]"
     ]
    },
    {
     "name": "stdout",
     "output_type": "stream",
     "text": [
      "Model Was Not Saved ! Current Best Avg. Dice: 0.2967126667499542 Current Avg. Dice: 0.1771463304758072 Current Avg. tumor Dice: 0.28784072399139404 Current Avg. lymph Dice: 0.06645194441080093\n"
     ]
    },
    {
     "name": "stderr",
     "output_type": "stream",
     "text": [
      "Training (10103 / 18000 Steps) (loss=0.25223): 100%|██████████| 6/6 [00:13<00:00,  2.21s/it]\n",
      "Training (10109 / 18000 Steps) (loss=0.51819): 100%|██████████| 6/6 [00:07<00:00,  1.30s/it]\n",
      "Training (10115 / 18000 Steps) (loss=0.47579): 100%|██████████| 6/6 [00:07<00:00,  1.28s/it]\n",
      "Training (10121 / 18000 Steps) (loss=0.53690): 100%|██████████| 6/6 [00:08<00:00,  1.36s/it]\n",
      "Training (10127 / 18000 Steps) (loss=0.42983): 100%|██████████| 6/6 [00:07<00:00,  1.32s/it]\n",
      "Training (10133 / 18000 Steps) (loss=0.56684): 100%|██████████| 6/6 [00:07<00:00,  1.33s/it]\n",
      "Training (10139 / 18000 Steps) (loss=0.22353): 100%|██████████| 6/6 [00:08<00:00,  1.34s/it]\n",
      "Training (10145 / 18000 Steps) (loss=0.31203): 100%|██████████| 6/6 [00:07<00:00,  1.33s/it]\n",
      "Training (10151 / 18000 Steps) (loss=0.54053): 100%|██████████| 6/6 [00:07<00:00,  1.28s/it]\n",
      "Training (10157 / 18000 Steps) (loss=0.41890): 100%|██████████| 6/6 [00:07<00:00,  1.29s/it]\n",
      "Training (10163 / 18000 Steps) (loss=0.24574): 100%|██████████| 6/6 [00:07<00:00,  1.32s/it]\n",
      "Training (10169 / 18000 Steps) (loss=0.29279): 100%|██████████| 6/6 [00:08<00:00,  1.33s/it]\n",
      "Training (10175 / 18000 Steps) (loss=0.56134): 100%|██████████| 6/6 [00:07<00:00,  1.29s/it]\n",
      "Training (10181 / 18000 Steps) (loss=0.41309): 100%|██████████| 6/6 [00:07<00:00,  1.26s/it]\n",
      "Training (10187 / 18000 Steps) (loss=0.53047): 100%|██████████| 6/6 [00:08<00:00,  1.34s/it]\n",
      "Training (10193 / 18000 Steps) (loss=0.40240): 100%|██████████| 6/6 [00:08<00:00,  1.35s/it]\n",
      "Training (10199 / 18000 Steps) (loss=0.44608): 100%|██████████| 6/6 [00:07<00:00,  1.31s/it]\n",
      "Validate (10200 / 10 Steps): 100%|██████████| 3/3 [00:05<00:00,  1.86s/it]<?, ?it/s]\n",
      "Training (10200 / 18000 Steps) (loss=0.57193):  17%|█▋        | 1/6 [00:09<00:46,  9.39s/it]"
     ]
    },
    {
     "name": "stdout",
     "output_type": "stream",
     "text": [
      "Model Was Not Saved ! Current Best Avg. Dice: 0.2967126667499542 Current Avg. Dice: 0.1938965767621994 Current Avg. tumor Dice: 0.2809610664844513 Current Avg. lymph Dice: 0.1068321242928505\n"
     ]
    },
    {
     "name": "stderr",
     "output_type": "stream",
     "text": [
      "Training (10205 / 18000 Steps) (loss=0.27844): 100%|██████████| 6/6 [00:13<00:00,  2.31s/it]\n",
      "Training (10211 / 18000 Steps) (loss=0.31007): 100%|██████████| 6/6 [00:08<00:00,  1.36s/it]\n",
      "Training (10217 / 18000 Steps) (loss=0.31816): 100%|██████████| 6/6 [00:07<00:00,  1.33s/it]\n",
      "Training (10223 / 18000 Steps) (loss=0.41103): 100%|██████████| 6/6 [00:07<00:00,  1.30s/it]\n",
      "Training (10229 / 18000 Steps) (loss=0.30223): 100%|██████████| 6/6 [00:07<00:00,  1.30s/it]\n",
      "Training (10235 / 18000 Steps) (loss=0.40021): 100%|██████████| 6/6 [00:08<00:00,  1.34s/it]\n",
      "Training (10241 / 18000 Steps) (loss=0.27558): 100%|██████████| 6/6 [00:07<00:00,  1.28s/it]\n",
      "Training (10247 / 18000 Steps) (loss=0.24751): 100%|██████████| 6/6 [00:07<00:00,  1.30s/it]\n",
      "Training (10253 / 18000 Steps) (loss=0.47827): 100%|██████████| 6/6 [00:07<00:00,  1.30s/it]\n",
      "Training (10259 / 18000 Steps) (loss=0.41337): 100%|██████████| 6/6 [00:07<00:00,  1.33s/it]\n",
      "Training (10265 / 18000 Steps) (loss=0.51888): 100%|██████████| 6/6 [00:07<00:00,  1.32s/it]\n",
      "Training (10271 / 18000 Steps) (loss=0.45563): 100%|██████████| 6/6 [00:08<00:00,  1.35s/it]\n",
      "Training (10277 / 18000 Steps) (loss=0.33030): 100%|██████████| 6/6 [00:07<00:00,  1.32s/it]\n",
      "Training (10283 / 18000 Steps) (loss=0.22661): 100%|██████████| 6/6 [00:07<00:00,  1.29s/it]\n",
      "Training (10289 / 18000 Steps) (loss=0.30097): 100%|██████████| 6/6 [00:07<00:00,  1.29s/it]\n",
      "Training (10295 / 18000 Steps) (loss=0.41323): 100%|██████████| 6/6 [00:07<00:00,  1.30s/it]\n",
      "Validate (10296 / 10 Steps): 100%|██████████| 3/3 [00:05<00:00,  1.85s/it]<00:02,  1.22s/it]\n",
      "Training (10300 / 18000 Steps) (loss=0.47504):  83%|████████▎ | 5/6 [00:12<00:03,  3.10s/it]"
     ]
    },
    {
     "name": "stdout",
     "output_type": "stream",
     "text": [
      "Model Was Not Saved ! Current Best Avg. Dice: 0.2967126667499542 Current Avg. Dice: 0.16665410995483398 Current Avg. tumor Dice: 0.24686706066131592 Current Avg. lymph Dice: 0.08644115179777145\n"
     ]
    },
    {
     "name": "stderr",
     "output_type": "stream",
     "text": [
      "Training (10301 / 18000 Steps) (loss=0.39074): 100%|██████████| 6/6 [00:13<00:00,  2.25s/it]\n",
      "Training (10307 / 18000 Steps) (loss=0.53770): 100%|██████████| 6/6 [00:07<00:00,  1.25s/it]\n",
      "Training (10313 / 18000 Steps) (loss=0.29693): 100%|██████████| 6/6 [00:07<00:00,  1.32s/it]\n",
      "Training (10319 / 18000 Steps) (loss=0.38867): 100%|██████████| 6/6 [00:08<00:00,  1.35s/it]\n",
      "Training (10325 / 18000 Steps) (loss=0.53214): 100%|██████████| 6/6 [00:07<00:00,  1.30s/it]\n",
      "Training (10331 / 18000 Steps) (loss=0.27816): 100%|██████████| 6/6 [00:07<00:00,  1.31s/it]\n",
      "Training (10337 / 18000 Steps) (loss=0.53717): 100%|██████████| 6/6 [00:08<00:00,  1.36s/it]\n",
      "Training (10343 / 18000 Steps) (loss=0.48033): 100%|██████████| 6/6 [00:07<00:00,  1.33s/it]\n",
      "Training (10349 / 18000 Steps) (loss=0.39847): 100%|██████████| 6/6 [00:07<00:00,  1.33s/it]\n",
      "Training (10355 / 18000 Steps) (loss=0.24428): 100%|██████████| 6/6 [00:07<00:00,  1.28s/it]\n",
      "Training (10361 / 18000 Steps) (loss=0.37162): 100%|██████████| 6/6 [00:07<00:00,  1.31s/it]\n",
      "Training (10367 / 18000 Steps) (loss=0.25982): 100%|██████████| 6/6 [00:07<00:00,  1.28s/it]\n",
      "Training (10373 / 18000 Steps) (loss=0.27855): 100%|██████████| 6/6 [00:07<00:00,  1.29s/it]\n",
      "Training (10379 / 18000 Steps) (loss=0.27744): 100%|██████████| 6/6 [00:07<00:00,  1.27s/it]\n",
      "Training (10385 / 18000 Steps) (loss=0.29671): 100%|██████████| 6/6 [00:07<00:00,  1.30s/it]\n",
      "Training (10391 / 18000 Steps) (loss=0.48621): 100%|██████████| 6/6 [00:07<00:00,  1.33s/it]\n",
      "Training (10397 / 18000 Steps) (loss=0.41843): 100%|██████████| 6/6 [00:08<00:00,  1.36s/it]\n",
      "Validate (10398 / 10 Steps): 100%|██████████| 3/3 [00:05<00:00,  1.86s/it]<00:08,  2.05s/it]\n",
      "Training (10400 / 18000 Steps) (loss=0.47815):  50%|█████     | 3/6 [00:11<00:12,  4.10s/it]"
     ]
    },
    {
     "name": "stdout",
     "output_type": "stream",
     "text": [
      "Model Was Not Saved ! Current Best Avg. Dice: 0.2967126667499542 Current Avg. Dice: 0.16901619732379913 Current Avg. tumor Dice: 0.2180885523557663 Current Avg. lymph Dice: 0.11994385719299316\n"
     ]
    },
    {
     "name": "stderr",
     "output_type": "stream",
     "text": [
      "Training (10403 / 18000 Steps) (loss=0.21548): 100%|██████████| 6/6 [00:13<00:00,  2.29s/it]\n",
      "Training (10409 / 18000 Steps) (loss=0.44188): 100%|██████████| 6/6 [00:07<00:00,  1.31s/it]\n",
      "Training (10415 / 18000 Steps) (loss=0.39443): 100%|██████████| 6/6 [00:07<00:00,  1.30s/it]\n",
      "Training (10421 / 18000 Steps) (loss=0.50911): 100%|██████████| 6/6 [00:07<00:00,  1.29s/it]\n",
      "Training (10427 / 18000 Steps) (loss=0.32345): 100%|██████████| 6/6 [00:07<00:00,  1.26s/it]\n",
      "Training (10433 / 18000 Steps) (loss=0.66789): 100%|██████████| 6/6 [00:07<00:00,  1.32s/it]\n",
      "Training (10439 / 18000 Steps) (loss=0.28688): 100%|██████████| 6/6 [00:07<00:00,  1.31s/it]\n",
      "Training (10445 / 18000 Steps) (loss=0.35219): 100%|██████████| 6/6 [00:07<00:00,  1.28s/it]\n",
      "Training (10451 / 18000 Steps) (loss=0.25492): 100%|██████████| 6/6 [00:07<00:00,  1.27s/it]\n",
      "Training (10457 / 18000 Steps) (loss=0.16387): 100%|██████████| 6/6 [00:07<00:00,  1.30s/it]\n",
      "Training (10463 / 18000 Steps) (loss=0.64637): 100%|██████████| 6/6 [00:07<00:00,  1.31s/it]\n",
      "Training (10469 / 18000 Steps) (loss=0.59835): 100%|██████████| 6/6 [00:08<00:00,  1.35s/it]\n",
      "Training (10475 / 18000 Steps) (loss=0.28311): 100%|██████████| 6/6 [00:07<00:00,  1.33s/it]\n",
      "Training (10481 / 18000 Steps) (loss=0.42351): 100%|██████████| 6/6 [00:07<00:00,  1.28s/it]\n",
      "Training (10487 / 18000 Steps) (loss=0.40177): 100%|██████████| 6/6 [00:07<00:00,  1.31s/it]\n",
      "Training (10493 / 18000 Steps) (loss=0.53065): 100%|██████████| 6/6 [00:07<00:00,  1.31s/it]\n",
      "Training (10499 / 18000 Steps) (loss=0.21729): 100%|██████████| 6/6 [00:07<00:00,  1.29s/it]\n",
      "Validate (10500 / 10 Steps): 100%|██████████| 3/3 [00:05<00:00,  1.84s/it]<?, ?it/s]\n",
      "Training (10500 / 18000 Steps) (loss=0.60093):  17%|█▋        | 1/6 [00:09<00:46,  9.40s/it]"
     ]
    },
    {
     "name": "stdout",
     "output_type": "stream",
     "text": [
      "Model Was Not Saved ! Current Best Avg. Dice: 0.2967126667499542 Current Avg. Dice: 0.18471188843250275 Current Avg. tumor Dice: 0.2244216352701187 Current Avg. lymph Dice: 0.14500214159488678\n"
     ]
    },
    {
     "name": "stderr",
     "output_type": "stream",
     "text": [
      "Training (10505 / 18000 Steps) (loss=0.40883): 100%|██████████| 6/6 [00:13<00:00,  2.26s/it]\n",
      "Training (10511 / 18000 Steps) (loss=0.42869): 100%|██████████| 6/6 [00:07<00:00,  1.28s/it]\n",
      "Training (10517 / 18000 Steps) (loss=0.54101): 100%|██████████| 6/6 [00:07<00:00,  1.30s/it]\n",
      "Training (10523 / 18000 Steps) (loss=0.23356): 100%|██████████| 6/6 [00:07<00:00,  1.29s/it]\n",
      "Training (10529 / 18000 Steps) (loss=0.33714): 100%|██████████| 6/6 [00:07<00:00,  1.31s/it]\n",
      "Training (10535 / 18000 Steps) (loss=0.37528): 100%|██████████| 6/6 [00:08<00:00,  1.41s/it]\n",
      "Training (10541 / 18000 Steps) (loss=0.40387): 100%|██████████| 6/6 [00:07<00:00,  1.31s/it]\n",
      "Training (10547 / 18000 Steps) (loss=0.31982): 100%|██████████| 6/6 [00:07<00:00,  1.29s/it]\n",
      "Training (10553 / 18000 Steps) (loss=0.36370): 100%|██████████| 6/6 [00:07<00:00,  1.28s/it]\n",
      "Training (10559 / 18000 Steps) (loss=0.31540): 100%|██████████| 6/6 [00:07<00:00,  1.30s/it]\n",
      "Training (10565 / 18000 Steps) (loss=0.42455): 100%|██████████| 6/6 [00:07<00:00,  1.27s/it]\n",
      "Training (10571 / 18000 Steps) (loss=0.44218): 100%|██████████| 6/6 [00:07<00:00,  1.27s/it]\n",
      "Training (10577 / 18000 Steps) (loss=0.11242): 100%|██████████| 6/6 [00:07<00:00,  1.30s/it]\n",
      "Training (10583 / 18000 Steps) (loss=0.13661): 100%|██████████| 6/6 [00:07<00:00,  1.31s/it]\n",
      "Training (10589 / 18000 Steps) (loss=0.40106): 100%|██████████| 6/6 [00:08<00:00,  1.37s/it]\n",
      "Training (10595 / 18000 Steps) (loss=0.36870): 100%|██████████| 6/6 [00:08<00:00,  1.34s/it]\n",
      "Validate (10596 / 10 Steps): 100%|██████████| 3/3 [00:05<00:00,  1.85s/it]<00:02,  1.24s/it]\n",
      "Training (10600 / 18000 Steps) (loss=0.29378):  83%|████████▎ | 5/6 [00:12<00:03,  3.12s/it]"
     ]
    },
    {
     "name": "stdout",
     "output_type": "stream",
     "text": [
      "Model Was Not Saved ! Current Best Avg. Dice: 0.2967126667499542 Current Avg. Dice: 0.19778300821781158 Current Avg. tumor Dice: 0.2754499018192291 Current Avg. lymph Dice: 0.12011613696813583\n"
     ]
    },
    {
     "name": "stderr",
     "output_type": "stream",
     "text": [
      "Training (10601 / 18000 Steps) (loss=0.19963): 100%|██████████| 6/6 [00:13<00:00,  2.26s/it]\n",
      "Training (10607 / 18000 Steps) (loss=0.33568): 100%|██████████| 6/6 [00:07<00:00,  1.31s/it]\n",
      "Training (10613 / 18000 Steps) (loss=0.43548): 100%|██████████| 6/6 [00:07<00:00,  1.30s/it]\n",
      "Training (10619 / 18000 Steps) (loss=0.47681): 100%|██████████| 6/6 [00:07<00:00,  1.29s/it]\n",
      "Training (10625 / 18000 Steps) (loss=0.43713): 100%|██████████| 6/6 [00:07<00:00,  1.29s/it]\n",
      "Training (10631 / 18000 Steps) (loss=0.39290): 100%|██████████| 6/6 [00:07<00:00,  1.30s/it]\n",
      "Training (10637 / 18000 Steps) (loss=0.57299): 100%|██████████| 6/6 [00:07<00:00,  1.33s/it]\n",
      "Training (10643 / 18000 Steps) (loss=0.32709): 100%|██████████| 6/6 [00:07<00:00,  1.26s/it]\n",
      "Training (10649 / 18000 Steps) (loss=0.36466): 100%|██████████| 6/6 [00:07<00:00,  1.30s/it]\n",
      "Training (10655 / 18000 Steps) (loss=0.30236): 100%|██████████| 6/6 [00:07<00:00,  1.30s/it]\n",
      "Training (10661 / 18000 Steps) (loss=0.37931): 100%|██████████| 6/6 [00:07<00:00,  1.32s/it]\n",
      "Training (10667 / 18000 Steps) (loss=0.52535): 100%|██████████| 6/6 [00:07<00:00,  1.33s/it]\n",
      "Training (10673 / 18000 Steps) (loss=0.29588): 100%|██████████| 6/6 [00:07<00:00,  1.33s/it]\n",
      "Training (10679 / 18000 Steps) (loss=0.50329): 100%|██████████| 6/6 [00:07<00:00,  1.30s/it]\n",
      "Training (10685 / 18000 Steps) (loss=0.30057): 100%|██████████| 6/6 [00:07<00:00,  1.30s/it]\n",
      "Training (10691 / 18000 Steps) (loss=0.27657): 100%|██████████| 6/6 [00:07<00:00,  1.30s/it]\n",
      "Training (10697 / 18000 Steps) (loss=0.49337): 100%|██████████| 6/6 [00:07<00:00,  1.32s/it]\n",
      "Validate (10698 / 10 Steps): 100%|██████████| 3/3 [00:05<00:00,  1.83s/it]<00:08,  2.01s/it]\n",
      "Training (10700 / 18000 Steps) (loss=0.27095):  50%|█████     | 3/6 [00:10<00:12,  4.00s/it]"
     ]
    },
    {
     "name": "stdout",
     "output_type": "stream",
     "text": [
      "Model Was Not Saved ! Current Best Avg. Dice: 0.2967126667499542 Current Avg. Dice: 0.16452087461948395 Current Avg. tumor Dice: 0.22488923370838165 Current Avg. lymph Dice: 0.10415250062942505\n"
     ]
    },
    {
     "name": "stderr",
     "output_type": "stream",
     "text": [
      "Training (10703 / 18000 Steps) (loss=0.28376): 100%|██████████| 6/6 [00:13<00:00,  2.22s/it]\n",
      "Training (10709 / 18000 Steps) (loss=0.22019): 100%|██████████| 6/6 [00:07<00:00,  1.27s/it]\n",
      "Training (10715 / 18000 Steps) (loss=0.42515): 100%|██████████| 6/6 [00:07<00:00,  1.31s/it]\n",
      "Training (10721 / 18000 Steps) (loss=0.47576): 100%|██████████| 6/6 [00:07<00:00,  1.32s/it]\n",
      "Training (10727 / 18000 Steps) (loss=0.52001): 100%|██████████| 6/6 [00:07<00:00,  1.31s/it]\n",
      "Training (10733 / 18000 Steps) (loss=0.47244): 100%|██████████| 6/6 [00:08<00:00,  1.44s/it]\n",
      "Training (10739 / 18000 Steps) (loss=0.25287): 100%|██████████| 6/6 [00:08<00:00,  1.34s/it]\n",
      "Training (10745 / 18000 Steps) (loss=0.30053): 100%|██████████| 6/6 [00:07<00:00,  1.27s/it]\n",
      "Training (10751 / 18000 Steps) (loss=0.41516): 100%|██████████| 6/6 [00:07<00:00,  1.30s/it]\n",
      "Training (10757 / 18000 Steps) (loss=0.42042): 100%|██████████| 6/6 [00:07<00:00,  1.29s/it]\n",
      "Training (10763 / 18000 Steps) (loss=0.41777): 100%|██████████| 6/6 [00:07<00:00,  1.27s/it]\n",
      "Training (10769 / 18000 Steps) (loss=0.67067): 100%|██████████| 6/6 [00:07<00:00,  1.29s/it]\n",
      "Training (10775 / 18000 Steps) (loss=0.55254): 100%|██████████| 6/6 [00:07<00:00,  1.32s/it]\n",
      "Training (10781 / 18000 Steps) (loss=0.43775): 100%|██████████| 6/6 [00:08<00:00,  1.34s/it]\n",
      "Training (10787 / 18000 Steps) (loss=0.30735): 100%|██████████| 6/6 [00:07<00:00,  1.32s/it]\n",
      "Training (10793 / 18000 Steps) (loss=0.30164): 100%|██████████| 6/6 [00:08<00:00,  1.37s/it]\n",
      "Training (10799 / 18000 Steps) (loss=0.26185): 100%|██████████| 6/6 [00:07<00:00,  1.31s/it]\n",
      "Validate (10800 / 10 Steps): 100%|██████████| 3/3 [00:05<00:00,  1.86s/it]<?, ?it/s]\n",
      "Training (10800 / 18000 Steps) (loss=0.38466):  17%|█▋        | 1/6 [00:09<00:46,  9.32s/it]"
     ]
    },
    {
     "name": "stdout",
     "output_type": "stream",
     "text": [
      "Model Was Not Saved ! Current Best Avg. Dice: 0.2967126667499542 Current Avg. Dice: 0.16430531442165375 Current Avg. tumor Dice: 0.2540298402309418 Current Avg. lymph Dice: 0.07458081096410751\n"
     ]
    },
    {
     "name": "stderr",
     "output_type": "stream",
     "text": [
      "Training (10805 / 18000 Steps) (loss=0.42141): 100%|██████████| 6/6 [00:13<00:00,  2.27s/it]\n",
      "Training (10811 / 18000 Steps) (loss=0.40469): 100%|██████████| 6/6 [00:07<00:00,  1.27s/it]\n",
      "Training (10817 / 18000 Steps) (loss=0.39173): 100%|██████████| 6/6 [00:07<00:00,  1.30s/it]\n",
      "Training (10823 / 18000 Steps) (loss=0.53586): 100%|██████████| 6/6 [00:07<00:00,  1.33s/it]\n",
      "Training (10829 / 18000 Steps) (loss=0.34653): 100%|██████████| 6/6 [00:08<00:00,  1.35s/it]\n",
      "Training (10835 / 18000 Steps) (loss=0.36155): 100%|██████████| 6/6 [00:07<00:00,  1.28s/it]\n",
      "Training (10841 / 18000 Steps) (loss=0.46344): 100%|██████████| 6/6 [00:07<00:00,  1.27s/it]\n",
      "Training (10847 / 18000 Steps) (loss=0.38874): 100%|██████████| 6/6 [00:07<00:00,  1.32s/it]\n",
      "Training (10853 / 18000 Steps) (loss=0.32915): 100%|██████████| 6/6 [00:07<00:00,  1.32s/it]\n",
      "Training (10859 / 18000 Steps) (loss=0.55773): 100%|██████████| 6/6 [00:08<00:00,  1.35s/it]\n",
      "Training (10865 / 18000 Steps) (loss=0.51452): 100%|██████████| 6/6 [00:08<00:00,  1.35s/it]\n",
      "Training (10871 / 18000 Steps) (loss=0.60894): 100%|██████████| 6/6 [00:08<00:00,  1.35s/it]\n",
      "Training (10877 / 18000 Steps) (loss=0.29917): 100%|██████████| 6/6 [00:07<00:00,  1.27s/it]\n",
      "Training (10883 / 18000 Steps) (loss=0.56908): 100%|██████████| 6/6 [00:07<00:00,  1.30s/it]\n",
      "Training (10889 / 18000 Steps) (loss=0.30098): 100%|██████████| 6/6 [00:07<00:00,  1.31s/it]\n",
      "Training (10895 / 18000 Steps) (loss=0.22753): 100%|██████████| 6/6 [00:07<00:00,  1.28s/it]\n",
      "Validate (10896 / 10 Steps): 100%|██████████| 3/3 [00:05<00:00,  1.84s/it]<00:02,  1.23s/it]\n",
      "Training (10900 / 18000 Steps) (loss=0.32732):  83%|████████▎ | 5/6 [00:12<00:03,  3.10s/it]"
     ]
    },
    {
     "name": "stdout",
     "output_type": "stream",
     "text": [
      "Model Was Not Saved ! Current Best Avg. Dice: 0.2967126667499542 Current Avg. Dice: 0.21788352727890015 Current Avg. tumor Dice: 0.2917517423629761 Current Avg. lymph Dice: 0.1440153270959854\n"
     ]
    },
    {
     "name": "stderr",
     "output_type": "stream",
     "text": [
      "Training (10901 / 18000 Steps) (loss=0.54391): 100%|██████████| 6/6 [00:13<00:00,  2.22s/it]\n",
      "Training (10907 / 18000 Steps) (loss=0.31994): 100%|██████████| 6/6 [00:07<00:00,  1.33s/it]\n",
      "Training (10913 / 18000 Steps) (loss=0.42635): 100%|██████████| 6/6 [00:07<00:00,  1.33s/it]\n",
      "Training (10919 / 18000 Steps) (loss=0.54031): 100%|██████████| 6/6 [00:07<00:00,  1.31s/it]\n",
      "Training (10925 / 18000 Steps) (loss=0.32027): 100%|██████████| 6/6 [00:08<00:00,  1.34s/it]\n",
      "Training (10931 / 18000 Steps) (loss=0.54908): 100%|██████████| 6/6 [00:08<00:00,  1.38s/it]\n",
      "Training (10937 / 18000 Steps) (loss=0.39040): 100%|██████████| 6/6 [00:07<00:00,  1.30s/it]\n",
      "Training (10943 / 18000 Steps) (loss=0.61553): 100%|██████████| 6/6 [00:07<00:00,  1.27s/it]\n",
      "Training (10949 / 18000 Steps) (loss=0.53559): 100%|██████████| 6/6 [00:07<00:00,  1.28s/it]\n",
      "Training (10955 / 18000 Steps) (loss=0.37078): 100%|██████████| 6/6 [00:07<00:00,  1.29s/it]\n",
      "Training (10961 / 18000 Steps) (loss=0.52029): 100%|██████████| 6/6 [00:07<00:00,  1.32s/it]\n",
      "Training (10967 / 18000 Steps) (loss=0.38504): 100%|██████████| 6/6 [00:07<00:00,  1.28s/it]\n",
      "Training (10973 / 18000 Steps) (loss=0.34258): 100%|██████████| 6/6 [00:07<00:00,  1.30s/it]\n",
      "Training (10979 / 18000 Steps) (loss=0.29935): 100%|██████████| 6/6 [00:07<00:00,  1.32s/it]\n",
      "Training (10985 / 18000 Steps) (loss=0.42339): 100%|██████████| 6/6 [00:07<00:00,  1.30s/it]\n",
      "Training (10991 / 18000 Steps) (loss=0.66282): 100%|██████████| 6/6 [00:07<00:00,  1.33s/it]\n",
      "Training (10997 / 18000 Steps) (loss=0.27005): 100%|██████████| 6/6 [00:07<00:00,  1.32s/it]\n",
      "Validate (10998 / 10 Steps): 100%|██████████| 3/3 [00:05<00:00,  1.85s/it]<00:08,  2.04s/it]\n",
      "Training (11000 / 18000 Steps) (loss=0.37839):  50%|█████     | 3/6 [00:11<00:12,  4.07s/it]"
     ]
    },
    {
     "name": "stdout",
     "output_type": "stream",
     "text": [
      "Model Was Not Saved ! Current Best Avg. Dice: 0.2967126667499542 Current Avg. Dice: 0.1811683028936386 Current Avg. tumor Dice: 0.24919869005680084 Current Avg. lymph Dice: 0.1131378784775734\n"
     ]
    },
    {
     "name": "stderr",
     "output_type": "stream",
     "text": [
      "Training (11003 / 18000 Steps) (loss=0.56225): 100%|██████████| 6/6 [00:13<00:00,  2.25s/it]\n",
      "Training (11009 / 18000 Steps) (loss=0.11808): 100%|██████████| 6/6 [00:07<00:00,  1.29s/it]\n",
      "Training (11015 / 18000 Steps) (loss=0.21718): 100%|██████████| 6/6 [00:08<00:00,  1.35s/it]\n",
      "Training (11021 / 18000 Steps) (loss=0.28663): 100%|██████████| 6/6 [00:07<00:00,  1.30s/it]\n",
      "Training (11027 / 18000 Steps) (loss=0.31003): 100%|██████████| 6/6 [00:07<00:00,  1.29s/it]\n",
      "Training (11033 / 18000 Steps) (loss=0.19576): 100%|██████████| 6/6 [00:07<00:00,  1.26s/it]\n",
      "Training (11039 / 18000 Steps) (loss=0.54798): 100%|██████████| 6/6 [00:07<00:00,  1.24s/it]\n",
      "Training (11045 / 18000 Steps) (loss=0.27886): 100%|██████████| 6/6 [00:07<00:00,  1.30s/it]\n",
      "Training (11051 / 18000 Steps) (loss=0.27005): 100%|██████████| 6/6 [00:07<00:00,  1.32s/it]\n",
      "Training (11057 / 18000 Steps) (loss=0.40877): 100%|██████████| 6/6 [00:08<00:00,  1.34s/it]\n",
      "Training (11063 / 18000 Steps) (loss=0.34064): 100%|██████████| 6/6 [00:07<00:00,  1.33s/it]\n",
      "Training (11069 / 18000 Steps) (loss=0.33426): 100%|██████████| 6/6 [00:07<00:00,  1.33s/it]\n",
      "Training (11075 / 18000 Steps) (loss=0.39937): 100%|██████████| 6/6 [00:07<00:00,  1.30s/it]\n",
      "Training (11081 / 18000 Steps) (loss=0.37700): 100%|██████████| 6/6 [00:07<00:00,  1.27s/it]\n",
      "Training (11087 / 18000 Steps) (loss=0.46903): 100%|██████████| 6/6 [00:07<00:00,  1.32s/it]\n",
      "Training (11093 / 18000 Steps) (loss=0.38734): 100%|██████████| 6/6 [00:08<00:00,  1.34s/it]\n",
      "Training (11099 / 18000 Steps) (loss=0.28684): 100%|██████████| 6/6 [00:07<00:00,  1.31s/it]\n",
      "Validate (11100 / 10 Steps): 100%|██████████| 3/3 [00:05<00:00,  1.80s/it]<?, ?it/s]\n",
      "Training (11100 / 18000 Steps) (loss=0.26068):  17%|█▋        | 1/6 [00:08<00:44,  8.96s/it]"
     ]
    },
    {
     "name": "stdout",
     "output_type": "stream",
     "text": [
      "Model Was Not Saved ! Current Best Avg. Dice: 0.2967126667499542 Current Avg. Dice: 0.16949914395809174 Current Avg. tumor Dice: 0.239311084151268 Current Avg. lymph Dice: 0.09968715906143188\n"
     ]
    },
    {
     "name": "stderr",
     "output_type": "stream",
     "text": [
      "Training (11105 / 18000 Steps) (loss=0.26382): 100%|██████████| 6/6 [00:13<00:00,  2.20s/it]\n",
      "Training (11111 / 18000 Steps) (loss=0.42498): 100%|██████████| 6/6 [00:07<00:00,  1.33s/it]\n",
      "Training (11117 / 18000 Steps) (loss=0.39638): 100%|██████████| 6/6 [00:07<00:00,  1.29s/it]\n",
      "Training (11123 / 18000 Steps) (loss=0.33630): 100%|██████████| 6/6 [00:08<00:00,  1.35s/it]\n",
      "Training (11129 / 18000 Steps) (loss=0.27147): 100%|██████████| 6/6 [00:08<00:00,  1.34s/it]\n",
      "Training (11135 / 18000 Steps) (loss=0.32944): 100%|██████████| 6/6 [00:07<00:00,  1.31s/it]\n",
      "Training (11141 / 18000 Steps) (loss=0.49584): 100%|██████████| 6/6 [00:07<00:00,  1.30s/it]\n",
      "Training (11147 / 18000 Steps) (loss=0.53806): 100%|██████████| 6/6 [00:07<00:00,  1.26s/it]\n",
      "Training (11153 / 18000 Steps) (loss=0.18668): 100%|██████████| 6/6 [00:07<00:00,  1.30s/it]\n",
      "Training (11159 / 18000 Steps) (loss=0.25721): 100%|██████████| 6/6 [00:07<00:00,  1.32s/it]\n",
      "Training (11165 / 18000 Steps) (loss=0.24691): 100%|██████████| 6/6 [00:07<00:00,  1.25s/it]\n",
      "Training (11171 / 18000 Steps) (loss=0.60292): 100%|██████████| 6/6 [00:07<00:00,  1.30s/it]\n",
      "Training (11177 / 18000 Steps) (loss=0.35411): 100%|██████████| 6/6 [00:07<00:00,  1.30s/it]\n",
      "Training (11183 / 18000 Steps) (loss=0.52489): 100%|██████████| 6/6 [00:07<00:00,  1.32s/it]\n",
      "Training (11189 / 18000 Steps) (loss=0.24797): 100%|██████████| 6/6 [00:08<00:00,  1.34s/it]\n",
      "Training (11195 / 18000 Steps) (loss=0.37213): 100%|██████████| 6/6 [00:07<00:00,  1.30s/it]\n",
      "Validate (11196 / 10 Steps): 100%|██████████| 3/3 [00:05<00:00,  1.86s/it]<00:02,  1.36s/it]\n",
      "Training (11200 / 18000 Steps) (loss=0.38751):  83%|████████▎ | 5/6 [00:13<00:03,  3.23s/it]"
     ]
    },
    {
     "name": "stdout",
     "output_type": "stream",
     "text": [
      "Model Was Not Saved ! Current Best Avg. Dice: 0.2967126667499542 Current Avg. Dice: 0.2773810923099518 Current Avg. tumor Dice: 0.36209937930107117 Current Avg. lymph Dice: 0.1926628202199936\n"
     ]
    },
    {
     "name": "stderr",
     "output_type": "stream",
     "text": [
      "Training (11201 / 18000 Steps) (loss=0.54123): 100%|██████████| 6/6 [00:13<00:00,  2.30s/it]\n",
      "Training (11207 / 18000 Steps) (loss=0.39391): 100%|██████████| 6/6 [00:07<00:00,  1.26s/it]\n",
      "Training (11213 / 18000 Steps) (loss=0.57918): 100%|██████████| 6/6 [00:07<00:00,  1.29s/it]\n",
      "Training (11219 / 18000 Steps) (loss=0.32922): 100%|██████████| 6/6 [00:07<00:00,  1.32s/it]\n",
      "Training (11225 / 18000 Steps) (loss=0.27158): 100%|██████████| 6/6 [00:07<00:00,  1.29s/it]\n",
      "Training (11231 / 18000 Steps) (loss=0.32260): 100%|██████████| 6/6 [00:07<00:00,  1.28s/it]\n",
      "Training (11237 / 18000 Steps) (loss=0.26710): 100%|██████████| 6/6 [00:07<00:00,  1.30s/it]\n",
      "Training (11243 / 18000 Steps) (loss=0.42986): 100%|██████████| 6/6 [00:08<00:00,  1.34s/it]\n",
      "Training (11249 / 18000 Steps) (loss=0.40962): 100%|██████████| 6/6 [00:07<00:00,  1.33s/it]\n",
      "Training (11255 / 18000 Steps) (loss=0.12329): 100%|██████████| 6/6 [00:07<00:00,  1.33s/it]\n",
      "Training (11261 / 18000 Steps) (loss=0.44113): 100%|██████████| 6/6 [00:08<00:00,  1.33s/it]\n",
      "Training (11267 / 18000 Steps) (loss=0.36869): 100%|██████████| 6/6 [00:07<00:00,  1.31s/it]\n",
      "Training (11273 / 18000 Steps) (loss=0.16047): 100%|██████████| 6/6 [00:07<00:00,  1.32s/it]\n",
      "Training (11279 / 18000 Steps) (loss=0.53694): 100%|██████████| 6/6 [00:07<00:00,  1.28s/it]\n",
      "Training (11285 / 18000 Steps) (loss=0.37558): 100%|██████████| 6/6 [00:07<00:00,  1.32s/it]\n",
      "Training (11291 / 18000 Steps) (loss=0.37920): 100%|██████████| 6/6 [00:08<00:00,  1.36s/it]\n",
      "Training (11297 / 18000 Steps) (loss=0.59643): 100%|██████████| 6/6 [00:07<00:00,  1.25s/it]\n",
      "Validate (11298 / 10 Steps): 100%|██████████| 3/3 [00:05<00:00,  1.79s/it]<00:07,  1.93s/it]\n",
      "Training (11300 / 18000 Steps) (loss=0.22854):  50%|█████     | 3/6 [00:10<00:11,  3.91s/it]"
     ]
    },
    {
     "name": "stdout",
     "output_type": "stream",
     "text": [
      "Model Was Not Saved ! Current Best Avg. Dice: 0.2967126667499542 Current Avg. Dice: 0.17557430267333984 Current Avg. tumor Dice: 0.31341269612312317 Current Avg. lymph Dice: 0.037735894322395325\n"
     ]
    },
    {
     "name": "stderr",
     "output_type": "stream",
     "text": [
      "Training (11303 / 18000 Steps) (loss=0.32427): 100%|██████████| 6/6 [00:13<00:00,  2.18s/it]\n",
      "Training (11309 / 18000 Steps) (loss=0.34314): 100%|██████████| 6/6 [00:07<00:00,  1.29s/it]\n",
      "Training (11315 / 18000 Steps) (loss=0.23407): 100%|██████████| 6/6 [00:07<00:00,  1.31s/it]\n",
      "Training (11321 / 18000 Steps) (loss=0.48053): 100%|██████████| 6/6 [00:07<00:00,  1.32s/it]\n",
      "Training (11327 / 18000 Steps) (loss=0.31907): 100%|██████████| 6/6 [00:07<00:00,  1.33s/it]\n",
      "Training (11333 / 18000 Steps) (loss=0.41843): 100%|██████████| 6/6 [00:08<00:00,  1.35s/it]\n",
      "Training (11339 / 18000 Steps) (loss=0.28385): 100%|██████████| 6/6 [00:07<00:00,  1.31s/it]\n",
      "Training (11345 / 18000 Steps) (loss=0.30778): 100%|██████████| 6/6 [00:07<00:00,  1.28s/it]\n",
      "Training (11351 / 18000 Steps) (loss=0.53064): 100%|██████████| 6/6 [00:07<00:00,  1.28s/it]\n",
      "Training (11357 / 18000 Steps) (loss=0.66344): 100%|██████████| 6/6 [00:07<00:00,  1.29s/it]\n",
      "Training (11363 / 18000 Steps) (loss=0.52932): 100%|██████████| 6/6 [00:07<00:00,  1.27s/it]\n",
      "Training (11369 / 18000 Steps) (loss=0.41989): 100%|██████████| 6/6 [00:07<00:00,  1.26s/it]\n",
      "Training (11375 / 18000 Steps) (loss=0.49620): 100%|██████████| 6/6 [00:07<00:00,  1.27s/it]\n",
      "Training (11381 / 18000 Steps) (loss=0.52788): 100%|██████████| 6/6 [00:07<00:00,  1.31s/it]\n",
      "Training (11387 / 18000 Steps) (loss=0.45137): 100%|██████████| 6/6 [00:08<00:00,  1.36s/it]\n",
      "Training (11393 / 18000 Steps) (loss=0.66743): 100%|██████████| 6/6 [00:07<00:00,  1.29s/it]\n",
      "Training (11399 / 18000 Steps) (loss=0.31862): 100%|██████████| 6/6 [00:07<00:00,  1.31s/it]\n",
      "Validate (11400 / 10 Steps): 100%|██████████| 3/3 [00:05<00:00,  1.85s/it]<?, ?it/s]\n",
      "Training (11400 / 18000 Steps) (loss=0.41810):  17%|█▋        | 1/6 [00:09<00:46,  9.21s/it]"
     ]
    },
    {
     "name": "stdout",
     "output_type": "stream",
     "text": [
      "Model Was Not Saved ! Current Best Avg. Dice: 0.2967126667499542 Current Avg. Dice: 0.18240417540073395 Current Avg. tumor Dice: 0.2623922526836395 Current Avg. lymph Dice: 0.10241612792015076\n"
     ]
    },
    {
     "name": "stderr",
     "output_type": "stream",
     "text": [
      "Training (11405 / 18000 Steps) (loss=0.60733): 100%|██████████| 6/6 [00:13<00:00,  2.24s/it]\n",
      "Training (11411 / 18000 Steps) (loss=0.54710): 100%|██████████| 6/6 [00:07<00:00,  1.27s/it]\n",
      "Training (11417 / 18000 Steps) (loss=0.46748): 100%|██████████| 6/6 [00:07<00:00,  1.33s/it]\n",
      "Training (11423 / 18000 Steps) (loss=0.56790): 100%|██████████| 6/6 [00:07<00:00,  1.29s/it]\n",
      "Training (11429 / 18000 Steps) (loss=0.26430): 100%|██████████| 6/6 [00:07<00:00,  1.27s/it]\n",
      "Training (11435 / 18000 Steps) (loss=0.18969): 100%|██████████| 6/6 [00:07<00:00,  1.30s/it]\n",
      "Training (11441 / 18000 Steps) (loss=0.33535): 100%|██████████| 6/6 [00:07<00:00,  1.31s/it]\n",
      "Training (11447 / 18000 Steps) (loss=0.47715): 100%|██████████| 6/6 [00:07<00:00,  1.30s/it]\n",
      "Training (11453 / 18000 Steps) (loss=0.41680): 100%|██████████| 6/6 [00:07<00:00,  1.33s/it]\n",
      "Training (11459 / 18000 Steps) (loss=0.28764): 100%|██████████| 6/6 [00:08<00:00,  1.35s/it]\n",
      "Training (11465 / 18000 Steps) (loss=0.53755): 100%|██████████| 6/6 [00:07<00:00,  1.33s/it]\n",
      "Training (11471 / 18000 Steps) (loss=0.22580): 100%|██████████| 6/6 [00:07<00:00,  1.33s/it]\n",
      "Training (11477 / 18000 Steps) (loss=0.30104): 100%|██████████| 6/6 [00:07<00:00,  1.29s/it]\n",
      "Training (11483 / 18000 Steps) (loss=0.36032): 100%|██████████| 6/6 [00:08<00:00,  1.35s/it]\n",
      "Training (11489 / 18000 Steps) (loss=0.51889): 100%|██████████| 6/6 [00:07<00:00,  1.31s/it]\n",
      "Training (11495 / 18000 Steps) (loss=0.39662): 100%|██████████| 6/6 [00:07<00:00,  1.26s/it]\n",
      "Validate (11496 / 10 Steps): 100%|██████████| 3/3 [00:05<00:00,  1.83s/it]<00:02,  1.23s/it]\n",
      "Training (11500 / 18000 Steps) (loss=0.53629):  83%|████████▎ | 5/6 [00:12<00:03,  3.09s/it]"
     ]
    },
    {
     "name": "stdout",
     "output_type": "stream",
     "text": [
      "Model Was Not Saved ! Current Best Avg. Dice: 0.2967126667499542 Current Avg. Dice: 0.22511811554431915 Current Avg. tumor Dice: 0.3055673837661743 Current Avg. lymph Dice: 0.1446688324213028\n"
     ]
    },
    {
     "name": "stderr",
     "output_type": "stream",
     "text": [
      "Training (11501 / 18000 Steps) (loss=0.27579): 100%|██████████| 6/6 [00:13<00:00,  2.22s/it]\n",
      "Training (11507 / 18000 Steps) (loss=0.54735): 100%|██████████| 6/6 [00:07<00:00,  1.28s/it]\n",
      "Training (11513 / 18000 Steps) (loss=0.31144): 100%|██████████| 6/6 [00:07<00:00,  1.33s/it]\n",
      "Training (11519 / 18000 Steps) (loss=0.49718): 100%|██████████| 6/6 [00:07<00:00,  1.33s/it]\n",
      "Training (11525 / 18000 Steps) (loss=0.26704): 100%|██████████| 6/6 [00:08<00:00,  1.35s/it]\n",
      "Training (11531 / 18000 Steps) (loss=0.20604): 100%|██████████| 6/6 [00:07<00:00,  1.33s/it]\n",
      "Training (11537 / 18000 Steps) (loss=0.30119): 100%|██████████| 6/6 [00:07<00:00,  1.33s/it]\n",
      "Training (11543 / 18000 Steps) (loss=0.31041): 100%|██████████| 6/6 [00:07<00:00,  1.30s/it]\n",
      "Training (11549 / 18000 Steps) (loss=0.29018): 100%|██████████| 6/6 [00:07<00:00,  1.31s/it]\n",
      "Training (11555 / 18000 Steps) (loss=0.37267): 100%|██████████| 6/6 [00:07<00:00,  1.31s/it]\n",
      "Training (11561 / 18000 Steps) (loss=0.17429): 100%|██████████| 6/6 [00:07<00:00,  1.28s/it]\n",
      "Training (11567 / 18000 Steps) (loss=0.36850): 100%|██████████| 6/6 [00:07<00:00,  1.26s/it]\n",
      "Training (11573 / 18000 Steps) (loss=0.45962): 100%|██████████| 6/6 [00:07<00:00,  1.31s/it]\n",
      "Training (11579 / 18000 Steps) (loss=0.33038): 100%|██████████| 6/6 [00:08<00:00,  1.35s/it]\n",
      "Training (11585 / 18000 Steps) (loss=0.40337): 100%|██████████| 6/6 [00:07<00:00,  1.31s/it]\n",
      "Training (11591 / 18000 Steps) (loss=0.33118): 100%|██████████| 6/6 [00:07<00:00,  1.31s/it]\n",
      "Training (11597 / 18000 Steps) (loss=0.25922): 100%|██████████| 6/6 [00:07<00:00,  1.31s/it]\n",
      "Validate (11598 / 10 Steps): 100%|██████████| 3/3 [00:05<00:00,  1.82s/it]<00:08,  2.03s/it]\n",
      "Training (11600 / 18000 Steps) (loss=0.56820):  50%|█████     | 3/6 [00:10<00:12,  4.04s/it]"
     ]
    },
    {
     "name": "stdout",
     "output_type": "stream",
     "text": [
      "Model Was Not Saved ! Current Best Avg. Dice: 0.2967126667499542 Current Avg. Dice: 0.2682463824748993 Current Avg. tumor Dice: 0.347302109003067 Current Avg. lymph Dice: 0.1891905814409256\n"
     ]
    },
    {
     "name": "stderr",
     "output_type": "stream",
     "text": [
      "Training (11603 / 18000 Steps) (loss=0.29821): 100%|██████████| 6/6 [00:13<00:00,  2.25s/it]\n",
      "Training (11609 / 18000 Steps) (loss=0.53127): 100%|██████████| 6/6 [00:07<00:00,  1.31s/it]\n",
      "Training (11615 / 18000 Steps) (loss=0.33911): 100%|██████████| 6/6 [00:08<00:00,  1.36s/it]\n",
      "Training (11621 / 18000 Steps) (loss=0.34732): 100%|██████████| 6/6 [00:07<00:00,  1.27s/it]\n",
      "Training (11627 / 18000 Steps) (loss=0.46573): 100%|██████████| 6/6 [00:07<00:00,  1.29s/it]\n",
      "Training (11633 / 18000 Steps) (loss=0.49017): 100%|██████████| 6/6 [00:07<00:00,  1.26s/it]\n",
      "Training (11639 / 18000 Steps) (loss=0.29038): 100%|██████████| 6/6 [00:07<00:00,  1.32s/it]\n",
      "Training (11645 / 18000 Steps) (loss=0.31897): 100%|██████████| 6/6 [00:07<00:00,  1.29s/it]\n",
      "Training (11651 / 18000 Steps) (loss=0.33185): 100%|██████████| 6/6 [00:08<00:00,  1.37s/it]\n",
      "Training (11657 / 18000 Steps) (loss=0.34755): 100%|██████████| 6/6 [00:07<00:00,  1.33s/it]\n",
      "Training (11663 / 18000 Steps) (loss=0.47461): 100%|██████████| 6/6 [00:07<00:00,  1.30s/it]\n",
      "Training (11669 / 18000 Steps) (loss=0.38169): 100%|██████████| 6/6 [00:07<00:00,  1.28s/it]\n",
      "Training (11675 / 18000 Steps) (loss=0.22601): 100%|██████████| 6/6 [00:07<00:00,  1.30s/it]\n",
      "Training (11681 / 18000 Steps) (loss=0.32640): 100%|██████████| 6/6 [00:07<00:00,  1.28s/it]\n",
      "Training (11687 / 18000 Steps) (loss=0.40989): 100%|██████████| 6/6 [00:07<00:00,  1.31s/it]\n",
      "Training (11693 / 18000 Steps) (loss=0.47570): 100%|██████████| 6/6 [00:07<00:00,  1.26s/it]\n",
      "Training (11699 / 18000 Steps) (loss=0.58256): 100%|██████████| 6/6 [00:07<00:00,  1.28s/it]\n",
      "Validate (11700 / 10 Steps): 100%|██████████| 3/3 [00:05<00:00,  1.82s/it]<?, ?it/s]\n",
      "Training (11700 / 18000 Steps) (loss=0.35778):  17%|█▋        | 1/6 [00:08<00:44,  8.96s/it]"
     ]
    },
    {
     "name": "stdout",
     "output_type": "stream",
     "text": [
      "Model Was Not Saved ! Current Best Avg. Dice: 0.2967126667499542 Current Avg. Dice: 0.22155223786830902 Current Avg. tumor Dice: 0.33001601696014404 Current Avg. lymph Dice: 0.1130884662270546\n"
     ]
    },
    {
     "name": "stderr",
     "output_type": "stream",
     "text": [
      "Training (11705 / 18000 Steps) (loss=0.29378): 100%|██████████| 6/6 [00:13<00:00,  2.21s/it]\n",
      "Training (11711 / 18000 Steps) (loss=0.49201): 100%|██████████| 6/6 [00:07<00:00,  1.28s/it]\n",
      "Training (11717 / 18000 Steps) (loss=0.40476): 100%|██████████| 6/6 [00:07<00:00,  1.32s/it]\n",
      "Training (11723 / 18000 Steps) (loss=0.25815): 100%|██████████| 6/6 [00:08<00:00,  1.38s/it]\n",
      "Training (11729 / 18000 Steps) (loss=0.47722): 100%|██████████| 6/6 [00:07<00:00,  1.32s/it]\n",
      "Training (11735 / 18000 Steps) (loss=0.61172): 100%|██████████| 6/6 [00:07<00:00,  1.29s/it]\n",
      "Training (11741 / 18000 Steps) (loss=0.43550): 100%|██████████| 6/6 [00:07<00:00,  1.29s/it]\n",
      "Training (11747 / 18000 Steps) (loss=0.36745): 100%|██████████| 6/6 [00:07<00:00,  1.30s/it]\n",
      "Training (11753 / 18000 Steps) (loss=0.34551): 100%|██████████| 6/6 [00:07<00:00,  1.31s/it]\n",
      "Training (11759 / 18000 Steps) (loss=0.17042): 100%|██████████| 6/6 [00:07<00:00,  1.28s/it]\n",
      "Training (11765 / 18000 Steps) (loss=0.47552): 100%|██████████| 6/6 [00:07<00:00,  1.27s/it]\n",
      "Training (11771 / 18000 Steps) (loss=0.57404): 100%|██████████| 6/6 [00:07<00:00,  1.30s/it]\n",
      "Training (11777 / 18000 Steps) (loss=0.32064): 100%|██████████| 6/6 [00:07<00:00,  1.29s/it]\n",
      "Training (11783 / 18000 Steps) (loss=0.32036): 100%|██████████| 6/6 [00:07<00:00,  1.31s/it]\n",
      "Training (11789 / 18000 Steps) (loss=0.41440): 100%|██████████| 6/6 [00:08<00:00,  1.34s/it]\n",
      "Training (11795 / 18000 Steps) (loss=0.40092): 100%|██████████| 6/6 [00:08<00:00,  1.34s/it]\n",
      "Validate (11796 / 10 Steps): 100%|██████████| 3/3 [00:05<00:00,  1.81s/it]<00:02,  1.27s/it]\n",
      "Training (11800 / 18000 Steps) (loss=0.39013):  83%|████████▎ | 5/6 [00:12<00:03,  3.13s/it]"
     ]
    },
    {
     "name": "stdout",
     "output_type": "stream",
     "text": [
      "Model Was Not Saved ! Current Best Avg. Dice: 0.2967126667499542 Current Avg. Dice: 0.25251445174217224 Current Avg. tumor Dice: 0.32750746607780457 Current Avg. lymph Dice: 0.17752140760421753\n"
     ]
    },
    {
     "name": "stderr",
     "output_type": "stream",
     "text": [
      "Training (11801 / 18000 Steps) (loss=0.27009): 100%|██████████| 6/6 [00:13<00:00,  2.25s/it]\n",
      "Training (11807 / 18000 Steps) (loss=0.43979): 100%|██████████| 6/6 [00:07<00:00,  1.26s/it]\n",
      "Training (11813 / 18000 Steps) (loss=0.46242): 100%|██████████| 6/6 [00:08<00:00,  1.36s/it]\n",
      "Training (11819 / 18000 Steps) (loss=0.44986): 100%|██████████| 6/6 [00:07<00:00,  1.27s/it]\n",
      "Training (11825 / 18000 Steps) (loss=0.60023): 100%|██████████| 6/6 [00:07<00:00,  1.31s/it]\n",
      "Training (11831 / 18000 Steps) (loss=0.43474): 100%|██████████| 6/6 [00:07<00:00,  1.26s/it]\n",
      "Training (11837 / 18000 Steps) (loss=0.38939): 100%|██████████| 6/6 [00:07<00:00,  1.28s/it]\n",
      "Training (11843 / 18000 Steps) (loss=0.29624): 100%|██████████| 6/6 [00:08<00:00,  1.33s/it]\n",
      "Training (11849 / 18000 Steps) (loss=0.13802): 100%|██████████| 6/6 [00:07<00:00,  1.33s/it]\n",
      "Training (11855 / 18000 Steps) (loss=0.45514): 100%|██████████| 6/6 [00:08<00:00,  1.35s/it]\n",
      "Training (11861 / 18000 Steps) (loss=0.45869): 100%|██████████| 6/6 [00:08<00:00,  1.36s/it]\n",
      "Training (11867 / 18000 Steps) (loss=0.55774): 100%|██████████| 6/6 [00:07<00:00,  1.33s/it]\n",
      "Training (11873 / 18000 Steps) (loss=0.26106): 100%|██████████| 6/6 [00:07<00:00,  1.27s/it]\n",
      "Training (11879 / 18000 Steps) (loss=0.38961): 100%|██████████| 6/6 [00:07<00:00,  1.29s/it]\n",
      "Training (11885 / 18000 Steps) (loss=0.41482): 100%|██████████| 6/6 [00:08<00:00,  1.35s/it]\n",
      "Training (11891 / 18000 Steps) (loss=0.42825): 100%|██████████| 6/6 [00:07<00:00,  1.30s/it]\n",
      "Training (11897 / 18000 Steps) (loss=0.16870): 100%|██████████| 6/6 [00:07<00:00,  1.25s/it]\n",
      "Validate (11898 / 10 Steps): 100%|██████████| 3/3 [00:05<00:00,  1.82s/it]<00:07,  1.92s/it]\n",
      "Training (11900 / 18000 Steps) (loss=0.64968):  50%|█████     | 3/6 [00:10<00:11,  3.95s/it]"
     ]
    },
    {
     "name": "stdout",
     "output_type": "stream",
     "text": [
      "Model Was Not Saved ! Current Best Avg. Dice: 0.2967126667499542 Current Avg. Dice: 0.19749963283538818 Current Avg. tumor Dice: 0.2407657504081726 Current Avg. lymph Dice: 0.15423350036144257\n"
     ]
    },
    {
     "name": "stderr",
     "output_type": "stream",
     "text": [
      "Training (11903 / 18000 Steps) (loss=0.32400): 100%|██████████| 6/6 [00:13<00:00,  2.19s/it]\n",
      "Training (11909 / 18000 Steps) (loss=0.40630): 100%|██████████| 6/6 [00:07<00:00,  1.27s/it]\n",
      "Training (11915 / 18000 Steps) (loss=0.40546): 100%|██████████| 6/6 [00:08<00:00,  1.36s/it]\n",
      "Training (11921 / 18000 Steps) (loss=0.60259): 100%|██████████| 6/6 [00:07<00:00,  1.31s/it]\n",
      "Training (11927 / 18000 Steps) (loss=0.38021): 100%|██████████| 6/6 [00:08<00:00,  1.34s/it]\n",
      "Training (11933 / 18000 Steps) (loss=0.24804): 100%|██████████| 6/6 [00:08<00:00,  1.34s/it]\n",
      "Training (11939 / 18000 Steps) (loss=0.12804): 100%|██████████| 6/6 [00:07<00:00,  1.28s/it]\n",
      "Training (11945 / 18000 Steps) (loss=0.25991): 100%|██████████| 6/6 [00:07<00:00,  1.30s/it]\n",
      "Training (11951 / 18000 Steps) (loss=0.58829): 100%|██████████| 6/6 [00:07<00:00,  1.31s/it]\n",
      "Training (11957 / 18000 Steps) (loss=0.28785): 100%|██████████| 6/6 [00:07<00:00,  1.28s/it]\n",
      "Training (11963 / 18000 Steps) (loss=0.19571): 100%|██████████| 6/6 [00:07<00:00,  1.30s/it]\n",
      "Training (11969 / 18000 Steps) (loss=0.29544): 100%|██████████| 6/6 [00:07<00:00,  1.25s/it]\n",
      "Training (11975 / 18000 Steps) (loss=0.43823): 100%|██████████| 6/6 [00:07<00:00,  1.29s/it]\n",
      "Training (11981 / 18000 Steps) (loss=0.14992): 100%|██████████| 6/6 [00:08<00:00,  1.35s/it]\n",
      "Training (11987 / 18000 Steps) (loss=0.28141): 100%|██████████| 6/6 [00:07<00:00,  1.31s/it]\n",
      "Training (11993 / 18000 Steps) (loss=0.61548): 100%|██████████| 6/6 [00:07<00:00,  1.30s/it]\n",
      "Training (11999 / 18000 Steps) (loss=0.54531): 100%|██████████| 6/6 [00:08<00:00,  1.36s/it]\n",
      "Validate (12000 / 10 Steps): 100%|██████████| 3/3 [00:05<00:00,  1.81s/it]<?, ?it/s]\n",
      "Training (12000 / 18000 Steps) (loss=0.30293):  17%|█▋        | 1/6 [00:08<00:44,  8.92s/it]"
     ]
    },
    {
     "name": "stdout",
     "output_type": "stream",
     "text": [
      "Model Was Not Saved ! Current Best Avg. Dice: 0.2967126667499542 Current Avg. Dice: 0.21418683230876923 Current Avg. tumor Dice: 0.24579353630542755 Current Avg. lymph Dice: 0.1825801581144333\n"
     ]
    },
    {
     "name": "stderr",
     "output_type": "stream",
     "text": [
      "Training (12005 / 18000 Steps) (loss=0.53134): 100%|██████████| 6/6 [00:13<00:00,  2.20s/it]\n",
      "Training (12011 / 18000 Steps) (loss=0.32171): 100%|██████████| 6/6 [00:07<00:00,  1.30s/it]\n",
      "Training (12017 / 18000 Steps) (loss=0.40614): 100%|██████████| 6/6 [00:07<00:00,  1.31s/it]\n",
      "Training (12023 / 18000 Steps) (loss=0.34043): 100%|██████████| 6/6 [00:07<00:00,  1.31s/it]\n",
      "Training (12029 / 18000 Steps) (loss=0.47160): 100%|██████████| 6/6 [00:07<00:00,  1.27s/it]\n",
      "Training (12035 / 18000 Steps) (loss=0.44849): 100%|██████████| 6/6 [00:07<00:00,  1.28s/it]\n",
      "Training (12041 / 18000 Steps) (loss=0.27272): 100%|██████████| 6/6 [00:07<00:00,  1.33s/it]\n",
      "Training (12047 / 18000 Steps) (loss=0.30369): 100%|██████████| 6/6 [00:07<00:00,  1.30s/it]\n",
      "Training (12053 / 18000 Steps) (loss=0.49073): 100%|██████████| 6/6 [00:07<00:00,  1.31s/it]\n",
      "Training (12059 / 18000 Steps) (loss=0.43483): 100%|██████████| 6/6 [00:07<00:00,  1.32s/it]\n",
      "Training (12065 / 18000 Steps) (loss=0.27359): 100%|██████████| 6/6 [00:07<00:00,  1.33s/it]\n",
      "Training (12071 / 18000 Steps) (loss=0.28588): 100%|██████████| 6/6 [00:07<00:00,  1.29s/it]\n",
      "Training (12077 / 18000 Steps) (loss=0.45654): 100%|██████████| 6/6 [00:07<00:00,  1.26s/it]\n",
      "Training (12083 / 18000 Steps) (loss=0.78868): 100%|██████████| 6/6 [00:07<00:00,  1.32s/it]\n",
      "Training (12089 / 18000 Steps) (loss=0.52600): 100%|██████████| 6/6 [00:07<00:00,  1.28s/it]\n",
      "Training (12095 / 18000 Steps) (loss=0.32302): 100%|██████████| 6/6 [00:07<00:00,  1.26s/it]\n",
      "Validate (12096 / 10 Steps): 100%|██████████| 3/3 [00:05<00:00,  1.85s/it]<00:02,  1.21s/it]\n",
      "Training (12100 / 18000 Steps) (loss=0.52362):  83%|████████▎ | 5/6 [00:12<00:03,  3.09s/it]"
     ]
    },
    {
     "name": "stdout",
     "output_type": "stream",
     "text": [
      "Model Was Not Saved ! Current Best Avg. Dice: 0.2967126667499542 Current Avg. Dice: 0.1555113047361374 Current Avg. tumor Dice: 0.23807965219020844 Current Avg. lymph Dice: 0.07294294983148575\n"
     ]
    },
    {
     "name": "stderr",
     "output_type": "stream",
     "text": [
      "Training (12101 / 18000 Steps) (loss=0.74315): 100%|██████████| 6/6 [00:13<00:00,  2.21s/it]\n",
      "Training (12107 / 18000 Steps) (loss=0.53411): 100%|██████████| 6/6 [00:07<00:00,  1.31s/it]\n",
      "Training (12113 / 18000 Steps) (loss=0.37998): 100%|██████████| 6/6 [00:08<00:00,  1.36s/it]\n",
      "Training (12119 / 18000 Steps) (loss=0.52141): 100%|██████████| 6/6 [00:07<00:00,  1.31s/it]\n",
      "Training (12125 / 18000 Steps) (loss=0.47766): 100%|██████████| 6/6 [00:07<00:00,  1.32s/it]\n",
      "Training (12131 / 18000 Steps) (loss=0.24540): 100%|██████████| 6/6 [00:07<00:00,  1.30s/it]\n",
      "Training (12137 / 18000 Steps) (loss=0.50289): 100%|██████████| 6/6 [00:07<00:00,  1.29s/it]\n",
      "Training (12143 / 18000 Steps) (loss=0.53768): 100%|██████████| 6/6 [00:07<00:00,  1.29s/it]\n",
      "Training (12149 / 18000 Steps) (loss=0.42570): 100%|██████████| 6/6 [00:07<00:00,  1.30s/it]\n",
      "Training (12155 / 18000 Steps) (loss=0.44298): 100%|██████████| 6/6 [00:07<00:00,  1.32s/it]\n",
      "Training (12161 / 18000 Steps) (loss=0.28500): 100%|██████████| 6/6 [00:07<00:00,  1.28s/it]\n",
      "Training (12167 / 18000 Steps) (loss=0.34009): 100%|██████████| 6/6 [00:07<00:00,  1.24s/it]\n",
      "Training (12173 / 18000 Steps) (loss=0.20569): 100%|██████████| 6/6 [00:07<00:00,  1.33s/it]\n",
      "Training (12179 / 18000 Steps) (loss=0.38347): 100%|██████████| 6/6 [00:07<00:00,  1.32s/it]\n",
      "Training (12185 / 18000 Steps) (loss=0.28885): 100%|██████████| 6/6 [00:08<00:00,  1.35s/it]\n",
      "Training (12191 / 18000 Steps) (loss=0.39423): 100%|██████████| 6/6 [00:07<00:00,  1.32s/it]\n",
      "Training (12197 / 18000 Steps) (loss=0.16797): 100%|██████████| 6/6 [00:07<00:00,  1.30s/it]\n",
      "Validate (12198 / 10 Steps): 100%|██████████| 3/3 [00:05<00:00,  1.82s/it]<00:07,  1.96s/it]\n",
      "Training (12200 / 18000 Steps) (loss=0.47000):  50%|█████     | 3/6 [00:10<00:11,  3.96s/it]"
     ]
    },
    {
     "name": "stdout",
     "output_type": "stream",
     "text": [
      "Model Was Not Saved ! Current Best Avg. Dice: 0.2967126667499542 Current Avg. Dice: 0.14570680260658264 Current Avg. tumor Dice: 0.19225730001926422 Current Avg. lymph Dice: 0.09915629774332047\n"
     ]
    },
    {
     "name": "stderr",
     "output_type": "stream",
     "text": [
      "Training (12203 / 18000 Steps) (loss=0.52740): 100%|██████████| 6/6 [00:13<00:00,  2.20s/it]\n",
      "Training (12209 / 18000 Steps) (loss=0.50909): 100%|██████████| 6/6 [00:07<00:00,  1.31s/it]\n",
      "Training (12215 / 18000 Steps) (loss=0.30851): 100%|██████████| 6/6 [00:07<00:00,  1.28s/it]\n",
      "Training (12221 / 18000 Steps) (loss=0.29663): 100%|██████████| 6/6 [00:07<00:00,  1.29s/it]\n",
      "Training (12227 / 18000 Steps) (loss=0.39773): 100%|██████████| 6/6 [00:07<00:00,  1.30s/it]\n",
      "Training (12233 / 18000 Steps) (loss=0.36771): 100%|██████████| 6/6 [00:07<00:00,  1.24s/it]\n",
      "Training (12239 / 18000 Steps) (loss=0.60781): 100%|██████████| 6/6 [00:07<00:00,  1.30s/it]\n",
      "Training (12245 / 18000 Steps) (loss=0.38706): 100%|██████████| 6/6 [00:07<00:00,  1.33s/it]\n",
      "Training (12251 / 18000 Steps) (loss=0.29147): 100%|██████████| 6/6 [00:07<00:00,  1.30s/it]\n",
      "Training (12257 / 18000 Steps) (loss=0.60430): 100%|██████████| 6/6 [00:07<00:00,  1.33s/it]\n",
      "Training (12263 / 18000 Steps) (loss=0.30494): 100%|██████████| 6/6 [00:07<00:00,  1.32s/it]\n",
      "Training (12269 / 18000 Steps) (loss=0.29813): 100%|██████████| 6/6 [00:07<00:00,  1.28s/it]\n",
      "Training (12275 / 18000 Steps) (loss=0.36904): 100%|██████████| 6/6 [00:07<00:00,  1.30s/it]\n",
      "Training (12281 / 18000 Steps) (loss=0.31409): 100%|██████████| 6/6 [00:07<00:00,  1.31s/it]\n",
      "Training (12287 / 18000 Steps) (loss=0.29104): 100%|██████████| 6/6 [00:07<00:00,  1.28s/it]\n",
      "Training (12293 / 18000 Steps) (loss=0.18812): 100%|██████████| 6/6 [00:07<00:00,  1.25s/it]\n",
      "Training (12299 / 18000 Steps) (loss=0.49904): 100%|██████████| 6/6 [00:07<00:00,  1.26s/it]\n",
      "Validate (12300 / 10 Steps): 100%|██████████| 3/3 [00:05<00:00,  1.82s/it]<?, ?it/s]\n",
      "Training (12300 / 18000 Steps) (loss=0.26400):  17%|█▋        | 1/6 [00:08<00:44,  8.91s/it]"
     ]
    },
    {
     "name": "stdout",
     "output_type": "stream",
     "text": [
      "Model Was Not Saved ! Current Best Avg. Dice: 0.2967126667499542 Current Avg. Dice: 0.1373128741979599 Current Avg. tumor Dice: 0.1878507286310196 Current Avg. lymph Dice: 0.08677498251199722\n"
     ]
    },
    {
     "name": "stderr",
     "output_type": "stream",
     "text": [
      "Training (12305 / 18000 Steps) (loss=0.36291): 100%|██████████| 6/6 [00:13<00:00,  2.20s/it]\n",
      "Training (12311 / 18000 Steps) (loss=0.16615): 100%|██████████| 6/6 [00:07<00:00,  1.33s/it]\n",
      "Training (12317 / 18000 Steps) (loss=0.42485): 100%|██████████| 6/6 [00:08<00:00,  1.36s/it]\n",
      "Training (12323 / 18000 Steps) (loss=0.39421): 100%|██████████| 6/6 [00:07<00:00,  1.32s/it]\n",
      "Training (12329 / 18000 Steps) (loss=0.35348): 100%|██████████| 6/6 [00:08<00:00,  1.34s/it]\n",
      "Training (12335 / 18000 Steps) (loss=0.29048): 100%|██████████| 6/6 [00:07<00:00,  1.26s/it]\n",
      "Training (12341 / 18000 Steps) (loss=0.31336): 100%|██████████| 6/6 [00:07<00:00,  1.29s/it]\n",
      "Training (12347 / 18000 Steps) (loss=0.40089): 100%|██████████| 6/6 [00:07<00:00,  1.29s/it]\n",
      "Training (12353 / 18000 Steps) (loss=0.47944): 100%|██████████| 6/6 [00:07<00:00,  1.29s/it]\n",
      "Training (12359 / 18000 Steps) (loss=0.25181): 100%|██████████| 6/6 [00:07<00:00,  1.29s/it]\n",
      "Training (12365 / 18000 Steps) (loss=0.24259): 100%|██████████| 6/6 [00:07<00:00,  1.27s/it]\n",
      "Training (12371 / 18000 Steps) (loss=0.39737): 100%|██████████| 6/6 [00:07<00:00,  1.27s/it]\n",
      "Training (12377 / 18000 Steps) (loss=0.48652): 100%|██████████| 6/6 [00:08<00:00,  1.36s/it]\n",
      "Training (12383 / 18000 Steps) (loss=0.58050): 100%|██████████| 6/6 [00:07<00:00,  1.27s/it]\n",
      "Training (12389 / 18000 Steps) (loss=0.30756): 100%|██████████| 6/6 [00:07<00:00,  1.30s/it]\n",
      "Training (12395 / 18000 Steps) (loss=0.42723): 100%|██████████| 6/6 [00:07<00:00,  1.33s/it]\n",
      "Validate (12396 / 10 Steps): 100%|██████████| 3/3 [00:05<00:00,  1.82s/it]<00:02,  1.28s/it]\n",
      "Training (12400 / 18000 Steps) (loss=0.39336):  83%|████████▎ | 5/6 [00:12<00:03,  3.11s/it]"
     ]
    },
    {
     "name": "stdout",
     "output_type": "stream",
     "text": [
      "Model Was Not Saved ! Current Best Avg. Dice: 0.2967126667499542 Current Avg. Dice: 0.2136211395263672 Current Avg. tumor Dice: 0.27590498328208923 Current Avg. lymph Dice: 0.15133734047412872\n"
     ]
    },
    {
     "name": "stderr",
     "output_type": "stream",
     "text": [
      "Training (12401 / 18000 Steps) (loss=0.30248): 100%|██████████| 6/6 [00:13<00:00,  2.24s/it]\n",
      "Training (12407 / 18000 Steps) (loss=0.46176): 100%|██████████| 6/6 [00:08<00:00,  1.33s/it]\n",
      "Training (12413 / 18000 Steps) (loss=0.18309): 100%|██████████| 6/6 [00:07<00:00,  1.32s/it]\n",
      "Training (12419 / 18000 Steps) (loss=0.28717): 100%|██████████| 6/6 [00:07<00:00,  1.26s/it]\n",
      "Training (12425 / 18000 Steps) (loss=0.45448): 100%|██████████| 6/6 [00:07<00:00,  1.26s/it]\n",
      "Training (12431 / 18000 Steps) (loss=0.57591): 100%|██████████| 6/6 [00:07<00:00,  1.25s/it]\n",
      "Training (12437 / 18000 Steps) (loss=0.29905): 100%|██████████| 6/6 [00:07<00:00,  1.29s/it]\n",
      "Training (12443 / 18000 Steps) (loss=0.40742): 100%|██████████| 6/6 [00:08<00:00,  1.34s/it]\n",
      "Training (12449 / 18000 Steps) (loss=0.38813): 100%|██████████| 6/6 [00:07<00:00,  1.31s/it]\n",
      "Training (12455 / 18000 Steps) (loss=0.41786): 100%|██████████| 6/6 [00:07<00:00,  1.32s/it]\n",
      "Training (12461 / 18000 Steps) (loss=0.15682): 100%|██████████| 6/6 [00:07<00:00,  1.32s/it]\n",
      "Training (12467 / 18000 Steps) (loss=0.57018): 100%|██████████| 6/6 [00:07<00:00,  1.28s/it]\n",
      "Training (12473 / 18000 Steps) (loss=0.31229): 100%|██████████| 6/6 [00:07<00:00,  1.26s/it]\n",
      "Training (12479 / 18000 Steps) (loss=0.19403): 100%|██████████| 6/6 [00:07<00:00,  1.32s/it]\n",
      "Training (12485 / 18000 Steps) (loss=0.44347): 100%|██████████| 6/6 [00:07<00:00,  1.29s/it]\n",
      "Training (12491 / 18000 Steps) (loss=0.57207): 100%|██████████| 6/6 [00:07<00:00,  1.23s/it]\n",
      "Training (12497 / 18000 Steps) (loss=0.25246): 100%|██████████| 6/6 [00:07<00:00,  1.30s/it]\n",
      "Validate (12498 / 10 Steps): 100%|██████████| 3/3 [00:05<00:00,  1.81s/it]<00:07,  1.97s/it]\n",
      "Training (12500 / 18000 Steps) (loss=0.50091):  50%|█████     | 3/6 [00:10<00:11,  3.96s/it]"
     ]
    },
    {
     "name": "stdout",
     "output_type": "stream",
     "text": [
      "Model Was Not Saved ! Current Best Avg. Dice: 0.2967126667499542 Current Avg. Dice: 0.20044612884521484 Current Avg. tumor Dice: 0.25191399455070496 Current Avg. lymph Dice: 0.14897827804088593\n"
     ]
    },
    {
     "name": "stderr",
     "output_type": "stream",
     "text": [
      "Training (12503 / 18000 Steps) (loss=0.27127): 100%|██████████| 6/6 [00:13<00:00,  2.21s/it]\n",
      "Training (12509 / 18000 Steps) (loss=0.43559): 100%|██████████| 6/6 [00:07<00:00,  1.30s/it]\n",
      "Training (12515 / 18000 Steps) (loss=0.41310): 100%|██████████| 6/6 [00:07<00:00,  1.30s/it]\n",
      "Training (12521 / 18000 Steps) (loss=0.67724): 100%|██████████| 6/6 [00:07<00:00,  1.30s/it]\n",
      "Training (12527 / 18000 Steps) (loss=0.27264): 100%|██████████| 6/6 [00:07<00:00,  1.31s/it]\n",
      "Training (12533 / 18000 Steps) (loss=0.41982): 100%|██████████| 6/6 [00:07<00:00,  1.29s/it]\n",
      "Training (12539 / 18000 Steps) (loss=0.48537): 100%|██████████| 6/6 [00:07<00:00,  1.28s/it]\n",
      "Training (12545 / 18000 Steps) (loss=0.32645): 100%|██████████| 6/6 [00:07<00:00,  1.33s/it]\n",
      "Training (12551 / 18000 Steps) (loss=0.38635): 100%|██████████| 6/6 [00:07<00:00,  1.26s/it]\n",
      "Training (12557 / 18000 Steps) (loss=0.58496): 100%|██████████| 6/6 [00:07<00:00,  1.27s/it]\n",
      "Training (12563 / 18000 Steps) (loss=0.43630): 100%|██████████| 6/6 [00:07<00:00,  1.27s/it]\n",
      "Training (12569 / 18000 Steps) (loss=0.54880): 100%|██████████| 6/6 [00:07<00:00,  1.25s/it]\n",
      "Training (12575 / 18000 Steps) (loss=0.16891): 100%|██████████| 6/6 [00:08<00:00,  1.34s/it]\n",
      "Training (12581 / 18000 Steps) (loss=0.33706): 100%|██████████| 6/6 [00:07<00:00,  1.31s/it]\n",
      "Training (12587 / 18000 Steps) (loss=0.31018): 100%|██████████| 6/6 [00:07<00:00,  1.33s/it]\n",
      "Training (12593 / 18000 Steps) (loss=0.29167): 100%|██████████| 6/6 [00:07<00:00,  1.31s/it]\n",
      "Training (12599 / 18000 Steps) (loss=0.19735): 100%|██████████| 6/6 [00:07<00:00,  1.31s/it]\n",
      "Validate (12600 / 10 Steps): 100%|██████████| 3/3 [00:05<00:00,  1.79s/it]<?, ?it/s]\n",
      "Training (12600 / 18000 Steps) (loss=0.41628):  17%|█▋        | 1/6 [00:08<00:44,  8.90s/it]"
     ]
    },
    {
     "name": "stdout",
     "output_type": "stream",
     "text": [
      "Model Was Not Saved ! Current Best Avg. Dice: 0.2967126667499542 Current Avg. Dice: 0.24008536338806152 Current Avg. tumor Dice: 0.2662079334259033 Current Avg. lymph Dice: 0.21396273374557495\n"
     ]
    },
    {
     "name": "stderr",
     "output_type": "stream",
     "text": [
      "Training (12605 / 18000 Steps) (loss=0.41352): 100%|██████████| 6/6 [00:13<00:00,  2.18s/it]\n",
      "Training (12611 / 18000 Steps) (loss=0.39476): 100%|██████████| 6/6 [00:07<00:00,  1.28s/it]\n",
      "Training (12617 / 18000 Steps) (loss=0.42362): 100%|██████████| 6/6 [00:07<00:00,  1.32s/it]\n",
      "Training (12623 / 18000 Steps) (loss=0.43786): 100%|██████████| 6/6 [00:07<00:00,  1.26s/it]\n",
      "Training (12629 / 18000 Steps) (loss=0.34397): 100%|██████████| 6/6 [00:07<00:00,  1.27s/it]\n",
      "Training (12635 / 18000 Steps) (loss=0.66811): 100%|██████████| 6/6 [00:07<00:00,  1.30s/it]\n",
      "Training (12641 / 18000 Steps) (loss=0.50616): 100%|██████████| 6/6 [00:07<00:00,  1.31s/it]\n",
      "Training (12647 / 18000 Steps) (loss=0.34450): 100%|██████████| 6/6 [00:07<00:00,  1.29s/it]\n",
      "Training (12653 / 18000 Steps) (loss=0.40990): 100%|██████████| 6/6 [00:07<00:00,  1.30s/it]\n",
      "Training (12659 / 18000 Steps) (loss=0.54160): 100%|██████████| 6/6 [00:07<00:00,  1.33s/it]\n",
      "Training (12665 / 18000 Steps) (loss=0.18028): 100%|██████████| 6/6 [00:08<00:00,  1.34s/it]\n",
      "Training (12671 / 18000 Steps) (loss=0.28477): 100%|██████████| 6/6 [00:07<00:00,  1.29s/it]\n",
      "Training (12677 / 18000 Steps) (loss=0.50364): 100%|██████████| 6/6 [00:07<00:00,  1.28s/it]\n",
      "Training (12683 / 18000 Steps) (loss=0.47871): 100%|██████████| 6/6 [00:07<00:00,  1.32s/it]\n",
      "Training (12689 / 18000 Steps) (loss=0.24041): 100%|██████████| 6/6 [00:07<00:00,  1.26s/it]\n",
      "Training (12695 / 18000 Steps) (loss=0.53862): 100%|██████████| 6/6 [00:07<00:00,  1.27s/it]\n",
      "Validate (12696 / 10 Steps): 100%|██████████| 3/3 [00:05<00:00,  1.82s/it]<00:02,  1.19s/it]\n",
      "Training (12700 / 18000 Steps) (loss=0.32442):  83%|████████▎ | 5/6 [00:12<00:03,  3.06s/it]"
     ]
    },
    {
     "name": "stdout",
     "output_type": "stream",
     "text": [
      "Model Was Not Saved ! Current Best Avg. Dice: 0.2967126667499542 Current Avg. Dice: 0.23504023253917694 Current Avg. tumor Dice: 0.2891259491443634 Current Avg. lymph Dice: 0.18095453083515167\n"
     ]
    },
    {
     "name": "stderr",
     "output_type": "stream",
     "text": [
      "Training (12701 / 18000 Steps) (loss=0.30716): 100%|██████████| 6/6 [00:13<00:00,  2.18s/it]\n",
      "Training (12707 / 18000 Steps) (loss=0.53894): 100%|██████████| 6/6 [00:07<00:00,  1.30s/it]\n",
      "Training (12713 / 18000 Steps) (loss=0.41970): 100%|██████████| 6/6 [00:07<00:00,  1.33s/it]\n",
      "Training (12719 / 18000 Steps) (loss=0.32360): 100%|██████████| 6/6 [00:07<00:00,  1.28s/it]\n",
      "Training (12725 / 18000 Steps) (loss=0.57053): 100%|██████████| 6/6 [00:07<00:00,  1.33s/it]\n",
      "Training (12731 / 18000 Steps) (loss=0.54815): 100%|██████████| 6/6 [00:08<00:00,  1.37s/it]\n",
      "Training (12737 / 18000 Steps) (loss=0.17009): 100%|██████████| 6/6 [00:07<00:00,  1.26s/it]\n",
      "Training (12743 / 18000 Steps) (loss=0.42819): 100%|██████████| 6/6 [00:07<00:00,  1.29s/it]\n",
      "Training (12749 / 18000 Steps) (loss=0.29787): 100%|██████████| 6/6 [00:07<00:00,  1.27s/it]\n",
      "Training (12755 / 18000 Steps) (loss=0.43565): 100%|██████████| 6/6 [00:07<00:00,  1.29s/it]\n",
      "Training (12761 / 18000 Steps) (loss=0.50820): 100%|██████████| 6/6 [00:07<00:00,  1.28s/it]\n",
      "Training (12767 / 18000 Steps) (loss=0.40984): 100%|██████████| 6/6 [00:07<00:00,  1.26s/it]\n",
      "Training (12773 / 18000 Steps) (loss=0.26846): 100%|██████████| 6/6 [00:07<00:00,  1.32s/it]\n",
      "Training (12779 / 18000 Steps) (loss=0.42639): 100%|██████████| 6/6 [00:07<00:00,  1.32s/it]\n",
      "Training (12785 / 18000 Steps) (loss=0.25598): 100%|██████████| 6/6 [00:07<00:00,  1.29s/it]\n",
      "Training (12791 / 18000 Steps) (loss=0.63026): 100%|██████████| 6/6 [00:07<00:00,  1.33s/it]\n",
      "Training (12797 / 18000 Steps) (loss=0.45600): 100%|██████████| 6/6 [00:07<00:00,  1.32s/it]\n",
      "Validate (12798 / 10 Steps): 100%|██████████| 3/3 [00:05<00:00,  1.89s/it]<00:08,  2.03s/it]\n",
      "Training (12800 / 18000 Steps) (loss=0.53763):  50%|█████     | 3/6 [00:11<00:12,  4.11s/it]"
     ]
    },
    {
     "name": "stdout",
     "output_type": "stream",
     "text": [
      "Model Was Not Saved ! Current Best Avg. Dice: 0.2967126667499542 Current Avg. Dice: 0.1260467767715454 Current Avg. tumor Dice: 0.14406538009643555 Current Avg. lymph Dice: 0.10802817344665527\n"
     ]
    },
    {
     "name": "stderr",
     "output_type": "stream",
     "text": [
      "Training (12803 / 18000 Steps) (loss=0.21611): 100%|██████████| 6/6 [00:13<00:00,  2.28s/it]\n",
      "Training (12809 / 18000 Steps) (loss=0.55802): 100%|██████████| 6/6 [00:07<00:00,  1.28s/it]\n",
      "Training (12815 / 18000 Steps) (loss=0.18012): 100%|██████████| 6/6 [00:07<00:00,  1.29s/it]\n",
      "Training (12821 / 18000 Steps) (loss=0.37215): 100%|██████████| 6/6 [00:07<00:00,  1.31s/it]\n",
      "Training (12827 / 18000 Steps) (loss=0.50520): 100%|██████████| 6/6 [00:07<00:00,  1.26s/it]\n",
      "Training (12833 / 18000 Steps) (loss=0.11899): 100%|██████████| 6/6 [00:07<00:00,  1.26s/it]\n",
      "Training (12839 / 18000 Steps) (loss=0.42838): 100%|██████████| 6/6 [00:07<00:00,  1.30s/it]\n",
      "Training (12845 / 18000 Steps) (loss=0.20501): 100%|██████████| 6/6 [00:07<00:00,  1.32s/it]\n",
      "Training (12851 / 18000 Steps) (loss=0.12700): 100%|██████████| 6/6 [00:07<00:00,  1.27s/it]\n",
      "Training (12857 / 18000 Steps) (loss=0.40783): 100%|██████████| 6/6 [00:08<00:00,  1.34s/it]\n",
      "Training (12863 / 18000 Steps) (loss=0.31961): 100%|██████████| 6/6 [00:08<00:00,  1.36s/it]\n",
      "Training (12869 / 18000 Steps) (loss=0.53428): 100%|██████████| 6/6 [00:07<00:00,  1.33s/it]\n",
      "Training (12875 / 18000 Steps) (loss=0.31007): 100%|██████████| 6/6 [00:07<00:00,  1.29s/it]\n",
      "Training (12881 / 18000 Steps) (loss=0.32332): 100%|██████████| 6/6 [00:07<00:00,  1.26s/it]\n",
      "Training (12887 / 18000 Steps) (loss=0.31117): 100%|██████████| 6/6 [00:07<00:00,  1.28s/it]\n",
      "Training (12893 / 18000 Steps) (loss=0.19598): 100%|██████████| 6/6 [00:07<00:00,  1.28s/it]\n",
      "Training (12899 / 18000 Steps) (loss=0.46190): 100%|██████████| 6/6 [00:07<00:00,  1.28s/it]\n",
      "Validate (12900 / 10 Steps): 100%|██████████| 3/3 [00:05<00:00,  1.84s/it]<?, ?it/s]\n",
      "Training (12900 / 18000 Steps) (loss=0.55282):  17%|█▋        | 1/6 [00:09<00:45,  9.12s/it]"
     ]
    },
    {
     "name": "stdout",
     "output_type": "stream",
     "text": [
      "Model Was Not Saved ! Current Best Avg. Dice: 0.2967126667499542 Current Avg. Dice: 0.23554910719394684 Current Avg. tumor Dice: 0.2961982488632202 Current Avg. lymph Dice: 0.17489999532699585\n"
     ]
    },
    {
     "name": "stderr",
     "output_type": "stream",
     "text": [
      "Training (12905 / 18000 Steps) (loss=0.30761): 100%|██████████| 6/6 [00:13<00:00,  2.22s/it]\n",
      "Training (12911 / 18000 Steps) (loss=0.42688): 100%|██████████| 6/6 [00:07<00:00,  1.32s/it]\n",
      "Training (12917 / 18000 Steps) (loss=0.44120): 100%|██████████| 6/6 [00:07<00:00,  1.31s/it]\n",
      "Training (12923 / 18000 Steps) (loss=0.29115): 100%|██████████| 6/6 [00:07<00:00,  1.32s/it]\n",
      "Training (12929 / 18000 Steps) (loss=0.53098): 100%|██████████| 6/6 [00:07<00:00,  1.31s/it]\n",
      "Training (12935 / 18000 Steps) (loss=0.46228): 100%|██████████| 6/6 [00:07<00:00,  1.27s/it]\n",
      "Training (12941 / 18000 Steps) (loss=0.53093): 100%|██████████| 6/6 [00:07<00:00,  1.28s/it]\n",
      "Training (12947 / 18000 Steps) (loss=0.37368): 100%|██████████| 6/6 [00:07<00:00,  1.32s/it]\n",
      "Training (12953 / 18000 Steps) (loss=0.43080): 100%|██████████| 6/6 [00:07<00:00,  1.26s/it]\n",
      "Training (12959 / 18000 Steps) (loss=0.23834): 100%|██████████| 6/6 [00:07<00:00,  1.26s/it]\n",
      "Training (12965 / 18000 Steps) (loss=0.60108): 100%|██████████| 6/6 [00:07<00:00,  1.32s/it]\n",
      "Training (12971 / 18000 Steps) (loss=0.19418): 100%|██████████| 6/6 [00:07<00:00,  1.26s/it]\n",
      "Training (12977 / 18000 Steps) (loss=0.35071): 100%|██████████| 6/6 [00:07<00:00,  1.30s/it]\n",
      "Training (12983 / 18000 Steps) (loss=0.32253): 100%|██████████| 6/6 [00:07<00:00,  1.31s/it]\n",
      "Training (12989 / 18000 Steps) (loss=0.32949): 100%|██████████| 6/6 [00:07<00:00,  1.32s/it]\n",
      "Training (12995 / 18000 Steps) (loss=0.30564): 100%|██████████| 6/6 [00:08<00:00,  1.35s/it]\n",
      "Validate (12996 / 10 Steps): 100%|██████████| 3/3 [00:05<00:00,  1.82s/it]<00:02,  1.25s/it]\n",
      "Training (13000 / 18000 Steps) (loss=0.25054):  83%|████████▎ | 5/6 [00:12<00:03,  3.10s/it]"
     ]
    },
    {
     "name": "stdout",
     "output_type": "stream",
     "text": [
      "Model Was Not Saved ! Current Best Avg. Dice: 0.2967126667499542 Current Avg. Dice: 0.1673506498336792 Current Avg. tumor Dice: 0.20800364017486572 Current Avg. lymph Dice: 0.12669770419597626\n"
     ]
    },
    {
     "name": "stderr",
     "output_type": "stream",
     "text": [
      "Training (13001 / 18000 Steps) (loss=0.52775): 100%|██████████| 6/6 [00:13<00:00,  2.24s/it]\n",
      "Training (13007 / 18000 Steps) (loss=0.40900): 100%|██████████| 6/6 [00:07<00:00,  1.27s/it]\n",
      "Training (13013 / 18000 Steps) (loss=0.42055): 100%|██████████| 6/6 [00:07<00:00,  1.30s/it]\n",
      "Training (13019 / 18000 Steps) (loss=0.19958): 100%|██████████| 6/6 [00:07<00:00,  1.25s/it]\n",
      "Training (13025 / 18000 Steps) (loss=0.52809): 100%|██████████| 6/6 [00:07<00:00,  1.27s/it]\n",
      "Training (13031 / 18000 Steps) (loss=0.19849): 100%|██████████| 6/6 [00:07<00:00,  1.28s/it]\n",
      "Training (13037 / 18000 Steps) (loss=0.66828): 100%|██████████| 6/6 [00:07<00:00,  1.30s/it]\n",
      "Training (13043 / 18000 Steps) (loss=0.34467): 100%|██████████| 6/6 [00:08<00:00,  1.34s/it]\n",
      "Training (13049 / 18000 Steps) (loss=0.41053): 100%|██████████| 6/6 [00:07<00:00,  1.28s/it]\n",
      "Training (13055 / 18000 Steps) (loss=0.38746): 100%|██████████| 6/6 [00:07<00:00,  1.29s/it]\n",
      "Training (13061 / 18000 Steps) (loss=0.47309): 100%|██████████| 6/6 [00:08<00:00,  1.37s/it]\n",
      "Training (13067 / 18000 Steps) (loss=0.47565): 100%|██████████| 6/6 [00:07<00:00,  1.30s/it]\n",
      "Training (13073 / 18000 Steps) (loss=0.28613): 100%|██████████| 6/6 [00:07<00:00,  1.31s/it]\n",
      "Training (13079 / 18000 Steps) (loss=0.19639): 100%|██████████| 6/6 [00:07<00:00,  1.28s/it]\n",
      "Training (13085 / 18000 Steps) (loss=0.37076): 100%|██████████| 6/6 [00:07<00:00,  1.33s/it]\n",
      "Training (13091 / 18000 Steps) (loss=0.23354): 100%|██████████| 6/6 [00:07<00:00,  1.25s/it]\n",
      "Training (13097 / 18000 Steps) (loss=0.29279): 100%|██████████| 6/6 [00:07<00:00,  1.26s/it]\n",
      "Validate (13098 / 10 Steps): 100%|██████████| 3/3 [00:05<00:00,  1.82s/it]<00:07,  1.89s/it]\n",
      "Training (13100 / 18000 Steps) (loss=0.47246):  50%|█████     | 3/6 [00:10<00:11,  3.94s/it]"
     ]
    },
    {
     "name": "stdout",
     "output_type": "stream",
     "text": [
      "Model Was Not Saved ! Current Best Avg. Dice: 0.2967126667499542 Current Avg. Dice: 0.25102266669273376 Current Avg. tumor Dice: 0.37239471077919006 Current Avg. lymph Dice: 0.12965060770511627\n"
     ]
    },
    {
     "name": "stderr",
     "output_type": "stream",
     "text": [
      "Training (13103 / 18000 Steps) (loss=0.55157): 100%|██████████| 6/6 [00:13<00:00,  2.22s/it]\n",
      "Training (13109 / 18000 Steps) (loss=0.29958): 100%|██████████| 6/6 [00:08<00:00,  1.35s/it]\n",
      "Training (13115 / 18000 Steps) (loss=0.22493): 100%|██████████| 6/6 [00:07<00:00,  1.30s/it]\n",
      "Training (13121 / 18000 Steps) (loss=0.33937): 100%|██████████| 6/6 [00:07<00:00,  1.30s/it]\n",
      "Training (13127 / 18000 Steps) (loss=0.53378): 100%|██████████| 6/6 [00:08<00:00,  1.36s/it]\n",
      "Training (13133 / 18000 Steps) (loss=0.30714): 100%|██████████| 6/6 [00:07<00:00,  1.30s/it]\n",
      "Training (13139 / 18000 Steps) (loss=0.17421): 100%|██████████| 6/6 [00:07<00:00,  1.26s/it]\n",
      "Training (13145 / 18000 Steps) (loss=0.48728): 100%|██████████| 6/6 [00:07<00:00,  1.27s/it]\n",
      "Training (13151 / 18000 Steps) (loss=0.24997): 100%|██████████| 6/6 [00:07<00:00,  1.33s/it]\n",
      "Training (13157 / 18000 Steps) (loss=0.47412): 100%|██████████| 6/6 [00:07<00:00,  1.29s/it]\n",
      "Training (13163 / 18000 Steps) (loss=0.21695): 100%|██████████| 6/6 [00:07<00:00,  1.25s/it]\n",
      "Training (13169 / 18000 Steps) (loss=0.31220): 100%|██████████| 6/6 [00:07<00:00,  1.27s/it]\n",
      "Training (13175 / 18000 Steps) (loss=0.42107): 100%|██████████| 6/6 [00:07<00:00,  1.31s/it]\n",
      "Training (13181 / 18000 Steps) (loss=0.46893): 100%|██████████| 6/6 [00:07<00:00,  1.33s/it]\n",
      "Training (13187 / 18000 Steps) (loss=0.36390): 100%|██████████| 6/6 [00:07<00:00,  1.33s/it]\n",
      "Training (13193 / 18000 Steps) (loss=0.54849): 100%|██████████| 6/6 [00:07<00:00,  1.33s/it]\n",
      "Training (13199 / 18000 Steps) (loss=0.39857): 100%|██████████| 6/6 [00:07<00:00,  1.27s/it]\n",
      "Validate (13200 / 10 Steps): 100%|██████████| 3/3 [00:05<00:00,  1.89s/it]<?, ?it/s]\n",
      "Training (13200 / 18000 Steps) (loss=0.35523):  17%|█▋        | 1/6 [00:09<00:46,  9.39s/it]"
     ]
    },
    {
     "name": "stdout",
     "output_type": "stream",
     "text": [
      "Model Was Not Saved ! Current Best Avg. Dice: 0.2967126667499542 Current Avg. Dice: 0.15818458795547485 Current Avg. tumor Dice: 0.23916538059711456 Current Avg. lymph Dice: 0.07720378041267395\n"
     ]
    },
    {
     "name": "stderr",
     "output_type": "stream",
     "text": [
      "Training (13205 / 18000 Steps) (loss=0.22548): 100%|██████████| 6/6 [00:13<00:00,  2.25s/it]\n",
      "Training (13211 / 18000 Steps) (loss=0.42529): 100%|██████████| 6/6 [00:07<00:00,  1.28s/it]\n",
      "Training (13217 / 18000 Steps) (loss=0.29693): 100%|██████████| 6/6 [00:07<00:00,  1.30s/it]\n",
      "Training (13223 / 18000 Steps) (loss=0.43102): 100%|██████████| 6/6 [00:07<00:00,  1.28s/it]\n",
      "Training (13229 / 18000 Steps) (loss=0.34490): 100%|██████████| 6/6 [00:07<00:00,  1.32s/it]\n",
      "Training (13235 / 18000 Steps) (loss=0.43067): 100%|██████████| 6/6 [00:07<00:00,  1.25s/it]\n",
      "Training (13241 / 18000 Steps) (loss=0.35887): 100%|██████████| 6/6 [00:08<00:00,  1.35s/it]\n",
      "Training (13247 / 18000 Steps) (loss=0.41410): 100%|██████████| 6/6 [00:07<00:00,  1.31s/it]\n",
      "Training (13253 / 18000 Steps) (loss=0.54198): 100%|██████████| 6/6 [00:07<00:00,  1.29s/it]\n",
      "Training (13259 / 18000 Steps) (loss=0.30124): 100%|██████████| 6/6 [00:08<00:00,  1.35s/it]\n",
      "Training (13265 / 18000 Steps) (loss=0.20406): 100%|██████████| 6/6 [00:07<00:00,  1.33s/it]\n",
      "Training (13271 / 18000 Steps) (loss=0.40408): 100%|██████████| 6/6 [00:07<00:00,  1.27s/it]\n",
      "Training (13277 / 18000 Steps) (loss=0.41007): 100%|██████████| 6/6 [00:08<00:00,  1.34s/it]\n",
      "Training (13283 / 18000 Steps) (loss=0.24155): 100%|██████████| 6/6 [00:07<00:00,  1.31s/it]\n",
      "Training (13289 / 18000 Steps) (loss=0.17780): 100%|██████████| 6/6 [00:07<00:00,  1.26s/it]\n",
      "Training (13295 / 18000 Steps) (loss=0.39147): 100%|██████████| 6/6 [00:07<00:00,  1.25s/it]\n",
      "Validate (13296 / 10 Steps): 100%|██████████| 3/3 [00:05<00:00,  1.84s/it]<00:02,  1.20s/it]\n",
      "Training (13300 / 18000 Steps) (loss=0.19975):  83%|████████▎ | 5/6 [00:12<00:03,  3.08s/it]"
     ]
    },
    {
     "name": "stdout",
     "output_type": "stream",
     "text": [
      "Model Was Not Saved ! Current Best Avg. Dice: 0.2967126667499542 Current Avg. Dice: 0.20444779098033905 Current Avg. tumor Dice: 0.2135806828737259 Current Avg. lymph Dice: 0.19531488418579102\n"
     ]
    },
    {
     "name": "stderr",
     "output_type": "stream",
     "text": [
      "Training (13301 / 18000 Steps) (loss=0.46510): 100%|██████████| 6/6 [00:13<00:00,  2.19s/it]\n",
      "Training (13307 / 18000 Steps) (loss=0.33940): 100%|██████████| 6/6 [00:07<00:00,  1.30s/it]\n",
      "Training (13313 / 18000 Steps) (loss=0.38920): 100%|██████████| 6/6 [00:08<00:00,  1.34s/it]\n",
      "Training (13319 / 18000 Steps) (loss=0.32168): 100%|██████████| 6/6 [00:07<00:00,  1.31s/it]\n",
      "Training (13325 / 18000 Steps) (loss=0.27302): 100%|██████████| 6/6 [00:07<00:00,  1.31s/it]\n",
      "Training (13331 / 18000 Steps) (loss=0.54156): 100%|██████████| 6/6 [00:08<00:00,  1.35s/it]\n",
      "Training (13337 / 18000 Steps) (loss=0.16854): 100%|██████████| 6/6 [00:07<00:00,  1.27s/it]\n",
      "Training (13343 / 18000 Steps) (loss=0.28479): 100%|██████████| 6/6 [00:07<00:00,  1.25s/it]\n",
      "Training (13349 / 18000 Steps) (loss=0.41921): 100%|██████████| 6/6 [00:07<00:00,  1.28s/it]\n",
      "Training (13355 / 18000 Steps) (loss=0.32442): 100%|██████████| 6/6 [00:07<00:00,  1.26s/it]\n",
      "Training (13361 / 18000 Steps) (loss=0.66891): 100%|██████████| 6/6 [00:07<00:00,  1.29s/it]\n",
      "Training (13367 / 18000 Steps) (loss=0.26812): 100%|██████████| 6/6 [00:07<00:00,  1.27s/it]\n",
      "Training (13373 / 18000 Steps) (loss=0.42651): 100%|██████████| 6/6 [00:07<00:00,  1.31s/it]\n",
      "Training (13379 / 18000 Steps) (loss=0.38343): 100%|██████████| 6/6 [00:07<00:00,  1.32s/it]\n",
      "Training (13385 / 18000 Steps) (loss=0.29079): 100%|██████████| 6/6 [00:07<00:00,  1.28s/it]\n",
      "Training (13391 / 18000 Steps) (loss=0.43441): 100%|██████████| 6/6 [00:08<00:00,  1.34s/it]\n",
      "Training (13397 / 18000 Steps) (loss=0.18259): 100%|██████████| 6/6 [00:07<00:00,  1.32s/it]\n",
      "Validate (13398 / 10 Steps): 100%|██████████| 3/3 [00:05<00:00,  1.88s/it]<00:08,  2.02s/it]\n",
      "Training (13400 / 18000 Steps) (loss=0.41791):  50%|█████     | 3/6 [00:11<00:12,  4.07s/it]"
     ]
    },
    {
     "name": "stdout",
     "output_type": "stream",
     "text": [
      "Model Was Not Saved ! Current Best Avg. Dice: 0.2967126667499542 Current Avg. Dice: 0.17063415050506592 Current Avg. tumor Dice: 0.20704209804534912 Current Avg. lymph Dice: 0.13422617316246033\n"
     ]
    },
    {
     "name": "stderr",
     "output_type": "stream",
     "text": [
      "Training (13403 / 18000 Steps) (loss=0.39532): 100%|██████████| 6/6 [00:13<00:00,  2.26s/it]\n",
      "Training (13409 / 18000 Steps) (loss=0.40822): 100%|██████████| 6/6 [00:07<00:00,  1.28s/it]\n",
      "Training (13415 / 18000 Steps) (loss=0.45742): 100%|██████████| 6/6 [00:07<00:00,  1.32s/it]\n",
      "Training (13421 / 18000 Steps) (loss=0.51266): 100%|██████████| 6/6 [00:07<00:00,  1.25s/it]\n",
      "Training (13427 / 18000 Steps) (loss=0.35727): 100%|██████████| 6/6 [00:07<00:00,  1.30s/it]\n",
      "Training (13433 / 18000 Steps) (loss=0.30219): 100%|██████████| 6/6 [00:07<00:00,  1.28s/it]\n",
      "Training (13439 / 18000 Steps) (loss=0.29119): 100%|██████████| 6/6 [00:07<00:00,  1.31s/it]\n",
      "Training (13445 / 18000 Steps) (loss=0.44955): 100%|██████████| 6/6 [00:07<00:00,  1.33s/it]\n",
      "Training (13451 / 18000 Steps) (loss=0.54813): 100%|██████████| 6/6 [00:07<00:00,  1.33s/it]\n",
      "Training (13457 / 18000 Steps) (loss=0.41402): 100%|██████████| 6/6 [00:07<00:00,  1.30s/it]\n",
      "Training (13463 / 18000 Steps) (loss=0.46990): 100%|██████████| 6/6 [00:07<00:00,  1.33s/it]\n",
      "Training (13469 / 18000 Steps) (loss=0.39021): 100%|██████████| 6/6 [00:07<00:00,  1.31s/it]\n",
      "Training (13475 / 18000 Steps) (loss=0.34140): 100%|██████████| 6/6 [00:07<00:00,  1.30s/it]\n",
      "Training (13481 / 18000 Steps) (loss=0.47161): 100%|██████████| 6/6 [00:07<00:00,  1.25s/it]\n",
      "Training (13487 / 18000 Steps) (loss=0.40860): 100%|██████████| 6/6 [00:07<00:00,  1.28s/it]\n",
      "Training (13493 / 18000 Steps) (loss=0.54501): 100%|██████████| 6/6 [00:07<00:00,  1.29s/it]\n",
      "Training (13499 / 18000 Steps) (loss=0.50863): 100%|██████████| 6/6 [00:07<00:00,  1.25s/it]\n",
      "Validate (13500 / 10 Steps): 100%|██████████| 3/3 [00:05<00:00,  1.84s/it]<?, ?it/s]\n",
      "Training (13500 / 18000 Steps) (loss=0.38075):  17%|█▋        | 1/6 [00:08<00:44,  8.97s/it]"
     ]
    },
    {
     "name": "stdout",
     "output_type": "stream",
     "text": [
      "Model Was Not Saved ! Current Best Avg. Dice: 0.2967126667499542 Current Avg. Dice: 0.11353302001953125 Current Avg. tumor Dice: 0.1430201530456543 Current Avg. lymph Dice: 0.08404586464166641\n"
     ]
    },
    {
     "name": "stderr",
     "output_type": "stream",
     "text": [
      "Training (13505 / 18000 Steps) (loss=0.46076): 100%|██████████| 6/6 [00:13<00:00,  2.23s/it]\n",
      "Training (13511 / 18000 Steps) (loss=0.24565): 100%|██████████| 6/6 [00:07<00:00,  1.31s/it]\n",
      "Training (13517 / 18000 Steps) (loss=0.34807): 100%|██████████| 6/6 [00:07<00:00,  1.32s/it]\n",
      "Training (13523 / 18000 Steps) (loss=0.56718): 100%|██████████| 6/6 [00:08<00:00,  1.36s/it]\n",
      "Training (13529 / 18000 Steps) (loss=0.41188): 100%|██████████| 6/6 [00:07<00:00,  1.31s/it]\n",
      "Training (13535 / 18000 Steps) (loss=0.29486): 100%|██████████| 6/6 [00:07<00:00,  1.29s/it]\n",
      "Training (13541 / 18000 Steps) (loss=0.39547): 100%|██████████| 6/6 [00:07<00:00,  1.28s/it]\n",
      "Training (13547 / 18000 Steps) (loss=0.24544): 100%|██████████| 6/6 [00:07<00:00,  1.32s/it]\n",
      "Training (13553 / 18000 Steps) (loss=0.54296): 100%|██████████| 6/6 [00:07<00:00,  1.26s/it]\n",
      "Training (13559 / 18000 Steps) (loss=0.25531): 100%|██████████| 6/6 [00:07<00:00,  1.28s/it]\n",
      "Training (13565 / 18000 Steps) (loss=0.48885): 100%|██████████| 6/6 [00:07<00:00,  1.29s/it]\n",
      "Training (13571 / 18000 Steps) (loss=0.43489): 100%|██████████| 6/6 [00:08<00:00,  1.35s/it]\n",
      "Training (13577 / 18000 Steps) (loss=0.30392): 100%|██████████| 6/6 [00:07<00:00,  1.31s/it]\n",
      "Training (13583 / 18000 Steps) (loss=0.34219): 100%|██████████| 6/6 [00:07<00:00,  1.30s/it]\n",
      "Training (13589 / 18000 Steps) (loss=0.55715): 100%|██████████| 6/6 [00:07<00:00,  1.30s/it]\n",
      "Training (13595 / 18000 Steps) (loss=0.41960): 100%|██████████| 6/6 [00:07<00:00,  1.30s/it]\n",
      "Validate (13596 / 10 Steps): 100%|██████████| 3/3 [00:05<00:00,  1.86s/it]<00:02,  1.24s/it]\n",
      "Training (13600 / 18000 Steps) (loss=0.33244):  83%|████████▎ | 5/6 [00:12<00:03,  3.16s/it]"
     ]
    },
    {
     "name": "stdout",
     "output_type": "stream",
     "text": [
      "Model Was Not Saved ! Current Best Avg. Dice: 0.2967126667499542 Current Avg. Dice: 0.2150731086730957 Current Avg. tumor Dice: 0.2785036265850067 Current Avg. lymph Dice: 0.1516426056623459\n"
     ]
    },
    {
     "name": "stderr",
     "output_type": "stream",
     "text": [
      "Training (13601 / 18000 Steps) (loss=0.54994): 100%|██████████| 6/6 [00:13<00:00,  2.27s/it]\n",
      "Training (13607 / 18000 Steps) (loss=0.27913): 100%|██████████| 6/6 [00:07<00:00,  1.25s/it]\n",
      "Training (13613 / 18000 Steps) (loss=0.32296): 100%|██████████| 6/6 [00:07<00:00,  1.29s/it]\n",
      "Training (13619 / 18000 Steps) (loss=0.40802): 100%|██████████| 6/6 [00:07<00:00,  1.30s/it]\n",
      "Training (13625 / 18000 Steps) (loss=0.31925): 100%|██████████| 6/6 [00:07<00:00,  1.25s/it]\n",
      "Training (13631 / 18000 Steps) (loss=0.30234): 100%|██████████| 6/6 [00:07<00:00,  1.30s/it]\n",
      "Training (13637 / 18000 Steps) (loss=0.35020): 100%|██████████| 6/6 [00:07<00:00,  1.29s/it]\n",
      "Training (13643 / 18000 Steps) (loss=0.53631): 100%|██████████| 6/6 [00:07<00:00,  1.29s/it]\n",
      "Training (13649 / 18000 Steps) (loss=0.45324): 100%|██████████| 6/6 [00:07<00:00,  1.30s/it]\n",
      "Training (13655 / 18000 Steps) (loss=0.47164): 100%|██████████| 6/6 [00:07<00:00,  1.29s/it]\n",
      "Training (13661 / 18000 Steps) (loss=0.31904): 100%|██████████| 6/6 [00:07<00:00,  1.32s/it]\n",
      "Training (13667 / 18000 Steps) (loss=0.19659): 100%|██████████| 6/6 [00:07<00:00,  1.32s/it]\n",
      "Training (13673 / 18000 Steps) (loss=0.39887): 100%|██████████| 6/6 [00:08<00:00,  1.39s/it]\n",
      "Training (13679 / 18000 Steps) (loss=0.41713): 100%|██████████| 6/6 [00:07<00:00,  1.25s/it]\n",
      "Training (13685 / 18000 Steps) (loss=0.36944): 100%|██████████| 6/6 [00:07<00:00,  1.32s/it]\n",
      "Training (13691 / 18000 Steps) (loss=0.48195): 100%|██████████| 6/6 [00:07<00:00,  1.30s/it]\n",
      "Training (13697 / 18000 Steps) (loss=0.46398): 100%|██████████| 6/6 [00:07<00:00,  1.29s/it]\n",
      "Validate (13698 / 10 Steps): 100%|██████████| 3/3 [00:05<00:00,  1.82s/it]<00:07,  1.98s/it]\n",
      "Training (13700 / 18000 Steps) (loss=0.23115):  50%|█████     | 3/6 [00:10<00:11,  3.97s/it]"
     ]
    },
    {
     "name": "stdout",
     "output_type": "stream",
     "text": [
      "Model Was Not Saved ! Current Best Avg. Dice: 0.2967126667499542 Current Avg. Dice: 0.259773313999176 Current Avg. tumor Dice: 0.31438273191452026 Current Avg. lymph Dice: 0.2051638811826706\n"
     ]
    },
    {
     "name": "stderr",
     "output_type": "stream",
     "text": [
      "Training (13703 / 18000 Steps) (loss=0.52614): 100%|██████████| 6/6 [00:13<00:00,  2.23s/it]\n",
      "Training (13709 / 18000 Steps) (loss=0.40072): 100%|██████████| 6/6 [00:07<00:00,  1.29s/it]\n",
      "Training (13715 / 18000 Steps) (loss=0.43186): 100%|██████████| 6/6 [00:08<00:00,  1.33s/it]\n",
      "Training (13721 / 18000 Steps) (loss=0.54078): 100%|██████████| 6/6 [00:07<00:00,  1.30s/it]\n",
      "Training (13727 / 18000 Steps) (loss=0.53799): 100%|██████████| 6/6 [00:07<00:00,  1.31s/it]\n",
      "Training (13733 / 18000 Steps) (loss=0.42891): 100%|██████████| 6/6 [00:07<00:00,  1.32s/it]\n",
      "Training (13739 / 18000 Steps) (loss=0.45387): 100%|██████████| 6/6 [00:07<00:00,  1.27s/it]\n",
      "Training (13745 / 18000 Steps) (loss=0.50036): 100%|██████████| 6/6 [00:07<00:00,  1.24s/it]\n",
      "Training (13751 / 18000 Steps) (loss=0.27201): 100%|██████████| 6/6 [00:07<00:00,  1.27s/it]\n",
      "Training (13757 / 18000 Steps) (loss=0.16729): 100%|██████████| 6/6 [00:07<00:00,  1.26s/it]\n",
      "Training (13763 / 18000 Steps) (loss=0.53576): 100%|██████████| 6/6 [00:07<00:00,  1.27s/it]\n",
      "Training (13769 / 18000 Steps) (loss=0.34657): 100%|██████████| 6/6 [00:08<00:00,  1.34s/it]\n",
      "Training (13775 / 18000 Steps) (loss=0.34014): 100%|██████████| 6/6 [00:07<00:00,  1.32s/it]\n",
      "Training (13781 / 18000 Steps) (loss=0.25898): 100%|██████████| 6/6 [00:07<00:00,  1.28s/it]\n",
      "Training (13787 / 18000 Steps) (loss=0.43602): 100%|██████████| 6/6 [00:07<00:00,  1.28s/it]\n",
      "Training (13793 / 18000 Steps) (loss=0.16917): 100%|██████████| 6/6 [00:07<00:00,  1.30s/it]\n",
      "Training (13799 / 18000 Steps) (loss=0.39844): 100%|██████████| 6/6 [00:07<00:00,  1.32s/it]\n",
      "Validate (13800 / 10 Steps): 100%|██████████| 3/3 [00:05<00:00,  1.84s/it]<?, ?it/s]\n",
      "Training (13800 / 18000 Steps) (loss=0.27243):  17%|█▋        | 1/6 [00:09<00:46,  9.23s/it]"
     ]
    },
    {
     "name": "stdout",
     "output_type": "stream",
     "text": [
      "Model Was Not Saved ! Current Best Avg. Dice: 0.2967126667499542 Current Avg. Dice: 0.24761956930160522 Current Avg. tumor Dice: 0.2350829839706421 Current Avg. lymph Dice: 0.26015618443489075\n"
     ]
    },
    {
     "name": "stderr",
     "output_type": "stream",
     "text": [
      "Training (13805 / 18000 Steps) (loss=0.14923): 100%|██████████| 6/6 [00:13<00:00,  2.23s/it]\n",
      "Training (13811 / 18000 Steps) (loss=0.26878): 100%|██████████| 6/6 [00:07<00:00,  1.33s/it]\n",
      "Training (13817 / 18000 Steps) (loss=0.53502): 100%|██████████| 6/6 [00:07<00:00,  1.28s/it]\n",
      "Training (13823 / 18000 Steps) (loss=0.53493): 100%|██████████| 6/6 [00:07<00:00,  1.25s/it]\n",
      "Training (13829 / 18000 Steps) (loss=0.31260): 100%|██████████| 6/6 [00:07<00:00,  1.25s/it]\n",
      "Training (13835 / 18000 Steps) (loss=0.25899): 100%|██████████| 6/6 [00:07<00:00,  1.29s/it]\n",
      "Training (13841 / 18000 Steps) (loss=0.10844): 100%|██████████| 6/6 [00:07<00:00,  1.30s/it]\n",
      "Training (13847 / 18000 Steps) (loss=0.42782): 100%|██████████| 6/6 [00:07<00:00,  1.30s/it]\n",
      "Training (13853 / 18000 Steps) (loss=0.39387): 100%|██████████| 6/6 [00:07<00:00,  1.30s/it]\n",
      "Training (13859 / 18000 Steps) (loss=0.33271): 100%|██████████| 6/6 [00:08<00:00,  1.34s/it]\n",
      "Training (13865 / 18000 Steps) (loss=0.20034): 100%|██████████| 6/6 [00:08<00:00,  1.35s/it]\n",
      "Training (13871 / 18000 Steps) (loss=0.66690): 100%|██████████| 6/6 [00:07<00:00,  1.28s/it]\n",
      "Training (13877 / 18000 Steps) (loss=0.22380): 100%|██████████| 6/6 [00:07<00:00,  1.26s/it]\n",
      "Training (13883 / 18000 Steps) (loss=0.45098): 100%|██████████| 6/6 [00:07<00:00,  1.27s/it]\n",
      "Training (13889 / 18000 Steps) (loss=0.53131): 100%|██████████| 6/6 [00:07<00:00,  1.28s/it]\n",
      "Training (13895 / 18000 Steps) (loss=0.30518): 100%|██████████| 6/6 [00:07<00:00,  1.24s/it]\n",
      "Validate (13896 / 10 Steps): 100%|██████████| 3/3 [00:05<00:00,  1.84s/it]<00:02,  1.18s/it]\n",
      "Training (13900 / 18000 Steps) (loss=0.40616):  83%|████████▎ | 5/6 [00:12<00:03,  3.06s/it]"
     ]
    },
    {
     "name": "stdout",
     "output_type": "stream",
     "text": [
      "Model Was Not Saved ! Current Best Avg. Dice: 0.2967126667499542 Current Avg. Dice: 0.16649217903614044 Current Avg. tumor Dice: 0.1828390210866928 Current Avg. lymph Dice: 0.15014533698558807\n"
     ]
    },
    {
     "name": "stderr",
     "output_type": "stream",
     "text": [
      "Training (13901 / 18000 Steps) (loss=0.49104): 100%|██████████| 6/6 [00:13<00:00,  2.18s/it]\n",
      "Training (13907 / 18000 Steps) (loss=0.53404): 100%|██████████| 6/6 [00:07<00:00,  1.31s/it]\n",
      "Training (13913 / 18000 Steps) (loss=0.46650): 100%|██████████| 6/6 [00:07<00:00,  1.32s/it]\n",
      "Training (13919 / 18000 Steps) (loss=0.34769): 100%|██████████| 6/6 [00:07<00:00,  1.30s/it]\n",
      "Training (13925 / 18000 Steps) (loss=0.45570): 100%|██████████| 6/6 [00:07<00:00,  1.31s/it]\n",
      "Training (13931 / 18000 Steps) (loss=0.35570): 100%|██████████| 6/6 [00:07<00:00,  1.33s/it]\n",
      "Training (13937 / 18000 Steps) (loss=0.21056): 100%|██████████| 6/6 [00:07<00:00,  1.30s/it]\n",
      "Training (13943 / 18000 Steps) (loss=0.23317): 100%|██████████| 6/6 [00:07<00:00,  1.30s/it]\n",
      "Training (13949 / 18000 Steps) (loss=0.32254): 100%|██████████| 6/6 [00:07<00:00,  1.31s/it]\n",
      "Training (13955 / 18000 Steps) (loss=0.40881): 100%|██████████| 6/6 [00:07<00:00,  1.28s/it]\n",
      "Training (13961 / 18000 Steps) (loss=0.32456): 100%|██████████| 6/6 [00:07<00:00,  1.29s/it]\n",
      "Training (13967 / 18000 Steps) (loss=0.11121): 100%|██████████| 6/6 [00:07<00:00,  1.26s/it]\n",
      "Training (13973 / 18000 Steps) (loss=0.46094): 100%|██████████| 6/6 [00:07<00:00,  1.30s/it]\n",
      "Training (13979 / 18000 Steps) (loss=0.10219): 100%|██████████| 6/6 [00:07<00:00,  1.31s/it]\n",
      "Training (13985 / 18000 Steps) (loss=0.35486): 100%|██████████| 6/6 [00:07<00:00,  1.29s/it]\n",
      "Training (13991 / 18000 Steps) (loss=0.18749): 100%|██████████| 6/6 [00:07<00:00,  1.31s/it]\n",
      "Training (13997 / 18000 Steps) (loss=0.23421): 100%|██████████| 6/6 [00:07<00:00,  1.30s/it]\n",
      "Validate (13998 / 10 Steps): 100%|██████████| 3/3 [00:05<00:00,  1.87s/it]<00:08,  2.04s/it]\n",
      "Training (14000 / 18000 Steps) (loss=0.26976):  50%|█████     | 3/6 [00:11<00:12,  4.11s/it]"
     ]
    },
    {
     "name": "stdout",
     "output_type": "stream",
     "text": [
      "Model Was Not Saved ! Current Best Avg. Dice: 0.2967126667499542 Current Avg. Dice: 0.22814667224884033 Current Avg. tumor Dice: 0.3160754144191742 Current Avg. lymph Dice: 0.14021794497966766\n"
     ]
    },
    {
     "name": "stderr",
     "output_type": "stream",
     "text": [
      "Training (14003 / 18000 Steps) (loss=0.55320): 100%|██████████| 6/6 [00:13<00:00,  2.26s/it]\n",
      "Training (14009 / 18000 Steps) (loss=0.48318): 100%|██████████| 6/6 [00:07<00:00,  1.30s/it]\n",
      "Training (14015 / 18000 Steps) (loss=0.37148): 100%|██████████| 6/6 [00:07<00:00,  1.32s/it]\n",
      "Training (14021 / 18000 Steps) (loss=0.24739): 100%|██████████| 6/6 [00:07<00:00,  1.29s/it]\n",
      "Training (14027 / 18000 Steps) (loss=0.31532): 100%|██████████| 6/6 [00:07<00:00,  1.25s/it]\n",
      "Training (14033 / 18000 Steps) (loss=0.34026): 100%|██████████| 6/6 [00:07<00:00,  1.28s/it]\n",
      "Training (14039 / 18000 Steps) (loss=0.54822): 100%|██████████| 6/6 [00:07<00:00,  1.29s/it]\n",
      "Training (14045 / 18000 Steps) (loss=0.25631): 100%|██████████| 6/6 [00:07<00:00,  1.28s/it]\n",
      "Training (14051 / 18000 Steps) (loss=0.47837): 100%|██████████| 6/6 [00:07<00:00,  1.31s/it]\n",
      "Training (14057 / 18000 Steps) (loss=0.54923): 100%|██████████| 6/6 [00:08<00:00,  1.35s/it]\n",
      "Training (14063 / 18000 Steps) (loss=0.53363): 100%|██████████| 6/6 [00:08<00:00,  1.35s/it]\n",
      "Training (14069 / 18000 Steps) (loss=0.28495): 100%|██████████| 6/6 [00:07<00:00,  1.31s/it]\n",
      "Training (14075 / 18000 Steps) (loss=0.55115): 100%|██████████| 6/6 [00:07<00:00,  1.25s/it]\n",
      "Training (14081 / 18000 Steps) (loss=0.26917): 100%|██████████| 6/6 [00:07<00:00,  1.27s/it]\n",
      "Training (14087 / 18000 Steps) (loss=0.50417): 100%|██████████| 6/6 [00:07<00:00,  1.27s/it]\n",
      "Training (14093 / 18000 Steps) (loss=0.20749): 100%|██████████| 6/6 [00:07<00:00,  1.26s/it]\n",
      "Training (14099 / 18000 Steps) (loss=0.41285): 100%|██████████| 6/6 [00:07<00:00,  1.29s/it]\n",
      "Validate (14100 / 10 Steps): 100%|██████████| 3/3 [00:05<00:00,  1.84s/it]<?, ?it/s]\n",
      "Training (14100 / 18000 Steps) (loss=0.23843):  17%|█▋        | 1/6 [00:08<00:44,  8.95s/it]"
     ]
    },
    {
     "name": "stdout",
     "output_type": "stream",
     "text": [
      "Model Was Not Saved ! Current Best Avg. Dice: 0.2967126667499542 Current Avg. Dice: 0.217432901263237 Current Avg. tumor Dice: 0.272952675819397 Current Avg. lymph Dice: 0.16191308200359344\n"
     ]
    },
    {
     "name": "stderr",
     "output_type": "stream",
     "text": [
      "Training (14105 / 18000 Steps) (loss=0.30252): 100%|██████████| 6/6 [00:13<00:00,  2.26s/it]\n",
      "Training (14111 / 18000 Steps) (loss=0.54132): 100%|██████████| 6/6 [00:07<00:00,  1.29s/it]\n",
      "Training (14117 / 18000 Steps) (loss=0.29252): 100%|██████████| 6/6 [00:07<00:00,  1.28s/it]\n",
      "Training (14123 / 18000 Steps) (loss=0.27164): 100%|██████████| 6/6 [00:07<00:00,  1.31s/it]\n",
      "Training (14129 / 18000 Steps) (loss=0.56572): 100%|██████████| 6/6 [00:07<00:00,  1.33s/it]\n",
      "Training (14135 / 18000 Steps) (loss=0.13685): 100%|██████████| 6/6 [00:07<00:00,  1.30s/it]\n",
      "Training (14141 / 18000 Steps) (loss=0.41124): 100%|██████████| 6/6 [00:07<00:00,  1.25s/it]\n",
      "Training (14147 / 18000 Steps) (loss=0.17544): 100%|██████████| 6/6 [00:07<00:00,  1.33s/it]\n",
      "Training (14153 / 18000 Steps) (loss=0.45198): 100%|██████████| 6/6 [00:07<00:00,  1.32s/it]\n",
      "Training (14159 / 18000 Steps) (loss=0.40334): 100%|██████████| 6/6 [00:07<00:00,  1.24s/it]\n",
      "Training (14165 / 18000 Steps) (loss=0.37015): 100%|██████████| 6/6 [00:07<00:00,  1.28s/it]\n",
      "Training (14171 / 18000 Steps) (loss=0.15987): 100%|██████████| 6/6 [00:07<00:00,  1.29s/it]\n",
      "Training (14177 / 18000 Steps) (loss=0.40306): 100%|██████████| 6/6 [00:07<00:00,  1.31s/it]\n",
      "Training (14183 / 18000 Steps) (loss=0.27204): 100%|██████████| 6/6 [00:07<00:00,  1.31s/it]\n",
      "Training (14189 / 18000 Steps) (loss=0.24481): 100%|██████████| 6/6 [00:07<00:00,  1.31s/it]\n",
      "Training (14195 / 18000 Steps) (loss=0.39613): 100%|██████████| 6/6 [00:07<00:00,  1.30s/it]\n",
      "Validate (14196 / 10 Steps): 100%|██████████| 3/3 [00:05<00:00,  1.87s/it]<00:02,  1.30s/it]\n",
      "Training (14200 / 18000 Steps) (loss=0.50043):  83%|████████▎ | 5/6 [00:12<00:03,  3.18s/it]"
     ]
    },
    {
     "name": "stdout",
     "output_type": "stream",
     "text": [
      "Model Was Not Saved ! Current Best Avg. Dice: 0.2967126667499542 Current Avg. Dice: 0.17200635373592377 Current Avg. tumor Dice: 0.24671794474124908 Current Avg. lymph Dice: 0.09729477018117905\n"
     ]
    },
    {
     "name": "stderr",
     "output_type": "stream",
     "text": [
      "Training (14201 / 18000 Steps) (loss=0.50226): 100%|██████████| 6/6 [00:13<00:00,  2.28s/it]\n",
      "Training (14207 / 18000 Steps) (loss=0.53106): 100%|██████████| 6/6 [00:07<00:00,  1.25s/it]\n",
      "Training (14213 / 18000 Steps) (loss=0.20772): 100%|██████████| 6/6 [00:07<00:00,  1.28s/it]\n",
      "Training (14219 / 18000 Steps) (loss=0.57924): 100%|██████████| 6/6 [00:07<00:00,  1.30s/it]\n",
      "Training (14225 / 18000 Steps) (loss=0.33645): 100%|██████████| 6/6 [00:07<00:00,  1.26s/it]\n",
      "Training (14231 / 18000 Steps) (loss=0.42359): 100%|██████████| 6/6 [00:07<00:00,  1.28s/it]\n",
      "Training (14237 / 18000 Steps) (loss=0.27899): 100%|██████████| 6/6 [00:07<00:00,  1.30s/it]\n",
      "Training (14243 / 18000 Steps) (loss=0.60706): 100%|██████████| 6/6 [00:07<00:00,  1.28s/it]\n",
      "Training (14249 / 18000 Steps) (loss=0.41308): 100%|██████████| 6/6 [00:07<00:00,  1.30s/it]\n",
      "Training (14255 / 18000 Steps) (loss=0.53175): 100%|██████████| 6/6 [00:07<00:00,  1.31s/it]\n",
      "Training (14261 / 18000 Steps) (loss=0.32544): 100%|██████████| 6/6 [00:07<00:00,  1.32s/it]\n",
      "Training (14267 / 18000 Steps) (loss=0.36594): 100%|██████████| 6/6 [00:07<00:00,  1.31s/it]\n",
      "Training (14273 / 18000 Steps) (loss=0.39243): 100%|██████████| 6/6 [00:07<00:00,  1.32s/it]\n",
      "Training (14279 / 18000 Steps) (loss=0.30029): 100%|██████████| 6/6 [00:07<00:00,  1.28s/it]\n",
      "Training (14285 / 18000 Steps) (loss=0.46467): 100%|██████████| 6/6 [00:07<00:00,  1.27s/it]\n",
      "Training (14291 / 18000 Steps) (loss=0.66912): 100%|██████████| 6/6 [00:07<00:00,  1.26s/it]\n",
      "Training (14297 / 18000 Steps) (loss=0.18822): 100%|██████████| 6/6 [00:07<00:00,  1.30s/it]\n",
      "Validate (14298 / 10 Steps): 100%|██████████| 3/3 [00:05<00:00,  1.80s/it]<00:07,  1.90s/it]\n",
      "Training (14300 / 18000 Steps) (loss=0.49167):  50%|█████     | 3/6 [00:10<00:11,  3.90s/it]"
     ]
    },
    {
     "name": "stdout",
     "output_type": "stream",
     "text": [
      "Model Was Not Saved ! Current Best Avg. Dice: 0.2967126667499542 Current Avg. Dice: 0.23160682618618011 Current Avg. tumor Dice: 0.29915085434913635 Current Avg. lymph Dice: 0.1640627682209015\n"
     ]
    },
    {
     "name": "stderr",
     "output_type": "stream",
     "text": [
      "Training (14303 / 18000 Steps) (loss=0.33301): 100%|██████████| 6/6 [00:13<00:00,  2.19s/it]\n",
      "Training (14309 / 18000 Steps) (loss=0.46811): 100%|██████████| 6/6 [00:08<00:00,  1.35s/it]\n",
      "Training (14315 / 18000 Steps) (loss=0.32942): 100%|██████████| 6/6 [00:07<00:00,  1.31s/it]\n",
      "Training (14321 / 18000 Steps) (loss=0.37009): 100%|██████████| 6/6 [00:07<00:00,  1.31s/it]\n",
      "Training (14327 / 18000 Steps) (loss=0.27170): 100%|██████████| 6/6 [00:07<00:00,  1.32s/it]\n",
      "Training (14333 / 18000 Steps) (loss=0.66258): 100%|██████████| 6/6 [00:07<00:00,  1.29s/it]\n",
      "Training (14339 / 18000 Steps) (loss=0.22707): 100%|██████████| 6/6 [00:07<00:00,  1.30s/it]\n",
      "Training (14345 / 18000 Steps) (loss=0.46492): 100%|██████████| 6/6 [00:07<00:00,  1.27s/it]\n",
      "Training (14351 / 18000 Steps) (loss=0.39286): 100%|██████████| 6/6 [00:07<00:00,  1.29s/it]\n",
      "Training (14357 / 18000 Steps) (loss=0.26219): 100%|██████████| 6/6 [00:07<00:00,  1.30s/it]\n",
      "Training (14363 / 18000 Steps) (loss=0.17569): 100%|██████████| 6/6 [00:07<00:00,  1.25s/it]\n",
      "Training (14369 / 18000 Steps) (loss=0.66148): 100%|██████████| 6/6 [00:07<00:00,  1.28s/it]\n",
      "Training (14375 / 18000 Steps) (loss=0.28907): 100%|██████████| 6/6 [00:07<00:00,  1.29s/it]\n",
      "Training (14381 / 18000 Steps) (loss=0.60768): 100%|██████████| 6/6 [00:07<00:00,  1.32s/it]\n",
      "Training (14387 / 18000 Steps) (loss=0.24678): 100%|██████████| 6/6 [00:07<00:00,  1.28s/it]\n",
      "Training (14393 / 18000 Steps) (loss=0.42742): 100%|██████████| 6/6 [00:07<00:00,  1.33s/it]\n",
      "Training (14399 / 18000 Steps) (loss=0.22159): 100%|██████████| 6/6 [00:08<00:00,  1.36s/it]\n",
      "Validate (14400 / 10 Steps): 100%|██████████| 3/3 [00:05<00:00,  1.83s/it]<?, ?it/s]\n",
      "Training (14400 / 18000 Steps) (loss=0.24948):  17%|█▋        | 1/6 [00:09<00:46,  9.28s/it]"
     ]
    },
    {
     "name": "stdout",
     "output_type": "stream",
     "text": [
      "Model Was Not Saved ! Current Best Avg. Dice: 0.2967126667499542 Current Avg. Dice: 0.15613070130348206 Current Avg. tumor Dice: 0.16470308601856232 Current Avg. lymph Dice: 0.1475583165884018\n"
     ]
    },
    {
     "name": "stderr",
     "output_type": "stream",
     "text": [
      "Training (14405 / 18000 Steps) (loss=0.42683): 100%|██████████| 6/6 [00:13<00:00,  2.24s/it]\n",
      "Training (14411 / 18000 Steps) (loss=0.27782): 100%|██████████| 6/6 [00:07<00:00,  1.25s/it]\n",
      "Training (14417 / 18000 Steps) (loss=0.44263): 100%|██████████| 6/6 [00:07<00:00,  1.30s/it]\n",
      "Training (14423 / 18000 Steps) (loss=0.27087): 100%|██████████| 6/6 [00:07<00:00,  1.27s/it]\n",
      "Training (14429 / 18000 Steps) (loss=0.25379): 100%|██████████| 6/6 [00:07<00:00,  1.28s/it]\n",
      "Training (14435 / 18000 Steps) (loss=0.62177): 100%|██████████| 6/6 [00:07<00:00,  1.30s/it]\n",
      "Training (14441 / 18000 Steps) (loss=0.41146): 100%|██████████| 6/6 [00:07<00:00,  1.32s/it]\n",
      "Training (14447 / 18000 Steps) (loss=0.49367): 100%|██████████| 6/6 [00:07<00:00,  1.30s/it]\n",
      "Training (14453 / 18000 Steps) (loss=0.50217): 100%|██████████| 6/6 [00:07<00:00,  1.27s/it]\n",
      "Training (14459 / 18000 Steps) (loss=0.47045): 100%|██████████| 6/6 [00:07<00:00,  1.32s/it]\n",
      "Training (14465 / 18000 Steps) (loss=0.45932): 100%|██████████| 6/6 [00:07<00:00,  1.32s/it]\n",
      "Training (14471 / 18000 Steps) (loss=0.41595): 100%|██████████| 6/6 [00:07<00:00,  1.32s/it]\n",
      "Training (14477 / 18000 Steps) (loss=0.62696): 100%|██████████| 6/6 [00:07<00:00,  1.33s/it]\n",
      "Training (14483 / 18000 Steps) (loss=0.26688): 100%|██████████| 6/6 [00:07<00:00,  1.29s/it]\n",
      "Training (14489 / 18000 Steps) (loss=0.42123): 100%|██████████| 6/6 [00:07<00:00,  1.27s/it]\n",
      "Training (14495 / 18000 Steps) (loss=0.33752): 100%|██████████| 6/6 [00:07<00:00,  1.26s/it]\n",
      "Validate (14496 / 10 Steps): 100%|██████████| 3/3 [00:05<00:00,  1.83s/it]<00:02,  1.17s/it]\n",
      "Training (14500 / 18000 Steps) (loss=0.29799):  83%|████████▎ | 5/6 [00:12<00:03,  3.05s/it]"
     ]
    },
    {
     "name": "stdout",
     "output_type": "stream",
     "text": [
      "Model Was Not Saved ! Current Best Avg. Dice: 0.2967126667499542 Current Avg. Dice: 0.1887289434671402 Current Avg. tumor Dice: 0.20617203414440155 Current Avg. lymph Dice: 0.17128588259220123\n"
     ]
    },
    {
     "name": "stderr",
     "output_type": "stream",
     "text": [
      "Training (14501 / 18000 Steps) (loss=0.50508): 100%|██████████| 6/6 [00:13<00:00,  2.18s/it]\n",
      "Training (14507 / 18000 Steps) (loss=0.37319): 100%|██████████| 6/6 [00:08<00:00,  1.35s/it]\n",
      "Training (14513 / 18000 Steps) (loss=0.41129): 100%|██████████| 6/6 [00:07<00:00,  1.29s/it]\n",
      "Training (14519 / 18000 Steps) (loss=0.47997): 100%|██████████| 6/6 [00:07<00:00,  1.30s/it]\n",
      "Training (14525 / 18000 Steps) (loss=0.30071): 100%|██████████| 6/6 [00:08<00:00,  1.36s/it]\n",
      "Training (14531 / 18000 Steps) (loss=0.41603): 100%|██████████| 6/6 [00:07<00:00,  1.30s/it]\n",
      "Training (14537 / 18000 Steps) (loss=0.40067): 100%|██████████| 6/6 [00:07<00:00,  1.31s/it]\n",
      "Training (14543 / 18000 Steps) (loss=0.54664): 100%|██████████| 6/6 [00:07<00:00,  1.27s/it]\n",
      "Training (14549 / 18000 Steps) (loss=0.66789): 100%|██████████| 6/6 [00:07<00:00,  1.28s/it]\n",
      "Training (14555 / 18000 Steps) (loss=0.54414): 100%|██████████| 6/6 [00:07<00:00,  1.29s/it]\n",
      "Training (14561 / 18000 Steps) (loss=0.33125): 100%|██████████| 6/6 [00:07<00:00,  1.30s/it]\n",
      "Training (14567 / 18000 Steps) (loss=0.39697): 100%|██████████| 6/6 [00:07<00:00,  1.32s/it]\n",
      "Training (14573 / 18000 Steps) (loss=0.39144): 100%|██████████| 6/6 [00:07<00:00,  1.30s/it]\n",
      "Training (14579 / 18000 Steps) (loss=0.40625): 100%|██████████| 6/6 [00:07<00:00,  1.30s/it]\n",
      "Training (14585 / 18000 Steps) (loss=0.63552): 100%|██████████| 6/6 [00:07<00:00,  1.28s/it]\n",
      "Training (14591 / 18000 Steps) (loss=0.30584): 100%|██████████| 6/6 [00:07<00:00,  1.29s/it]\n",
      "Training (14597 / 18000 Steps) (loss=0.55008): 100%|██████████| 6/6 [00:08<00:00,  1.35s/it]\n",
      "Validate (14598 / 10 Steps): 100%|██████████| 3/3 [00:05<00:00,  1.90s/it]<00:08,  2.03s/it]\n",
      "Training (14600 / 18000 Steps) (loss=0.32437):  50%|█████     | 3/6 [00:11<00:12,  4.16s/it]"
     ]
    },
    {
     "name": "stdout",
     "output_type": "stream",
     "text": [
      "Model Was Not Saved ! Current Best Avg. Dice: 0.2967126667499542 Current Avg. Dice: 0.2655431926250458 Current Avg. tumor Dice: 0.3241477310657501 Current Avg. lymph Dice: 0.20693860948085785\n"
     ]
    },
    {
     "name": "stderr",
     "output_type": "stream",
     "text": [
      "Training (14603 / 18000 Steps) (loss=0.41838): 100%|██████████| 6/6 [00:13<00:00,  2.29s/it]\n",
      "Training (14609 / 18000 Steps) (loss=0.28245): 100%|██████████| 6/6 [00:07<00:00,  1.25s/it]\n",
      "Training (14615 / 18000 Steps) (loss=0.37457): 100%|██████████| 6/6 [00:07<00:00,  1.30s/it]\n",
      "Training (14621 / 18000 Steps) (loss=0.39148): 100%|██████████| 6/6 [00:07<00:00,  1.29s/it]\n",
      "Training (14627 / 18000 Steps) (loss=0.36107): 100%|██████████| 6/6 [00:07<00:00,  1.24s/it]\n",
      "Training (14633 / 18000 Steps) (loss=0.54462): 100%|██████████| 6/6 [00:07<00:00,  1.27s/it]\n",
      "Training (14639 / 18000 Steps) (loss=0.46619): 100%|██████████| 6/6 [00:08<00:00,  1.34s/it]\n",
      "Training (14645 / 18000 Steps) (loss=0.29103): 100%|██████████| 6/6 [00:07<00:00,  1.30s/it]\n",
      "Training (14651 / 18000 Steps) (loss=0.28583): 100%|██████████| 6/6 [00:07<00:00,  1.30s/it]\n",
      "Training (14657 / 18000 Steps) (loss=0.41706): 100%|██████████| 6/6 [00:07<00:00,  1.28s/it]\n",
      "Training (14663 / 18000 Steps) (loss=0.29113): 100%|██████████| 6/6 [00:08<00:00,  1.35s/it]\n",
      "Training (14669 / 18000 Steps) (loss=0.34397): 100%|██████████| 6/6 [00:08<00:00,  1.33s/it]\n",
      "Training (14675 / 18000 Steps) (loss=0.21003): 100%|██████████| 6/6 [00:07<00:00,  1.27s/it]\n",
      "Training (14681 / 18000 Steps) (loss=0.39536): 100%|██████████| 6/6 [00:07<00:00,  1.32s/it]\n",
      "Training (14687 / 18000 Steps) (loss=0.22849): 100%|██████████| 6/6 [00:07<00:00,  1.28s/it]\n",
      "Training (14693 / 18000 Steps) (loss=0.15328): 100%|██████████| 6/6 [00:07<00:00,  1.27s/it]\n",
      "Training (14699 / 18000 Steps) (loss=0.46398): 100%|██████████| 6/6 [00:07<00:00,  1.27s/it]\n",
      "Validate (14700 / 10 Steps): 100%|██████████| 3/3 [00:05<00:00,  1.82s/it]<?, ?it/s]\n",
      "Training (14700 / 18000 Steps) (loss=0.44494):  17%|█▋        | 1/6 [00:08<00:44,  8.85s/it]"
     ]
    },
    {
     "name": "stdout",
     "output_type": "stream",
     "text": [
      "Model Was Not Saved ! Current Best Avg. Dice: 0.2967126667499542 Current Avg. Dice: 0.25723615288734436 Current Avg. tumor Dice: 0.3274153470993042 Current Avg. lymph Dice: 0.1870570033788681\n"
     ]
    },
    {
     "name": "stderr",
     "output_type": "stream",
     "text": [
      "Training (14705 / 18000 Steps) (loss=0.26319): 100%|██████████| 6/6 [00:13<00:00,  2.22s/it]\n",
      "Training (14711 / 18000 Steps) (loss=0.20538): 100%|██████████| 6/6 [00:07<00:00,  1.29s/it]\n",
      "Training (14717 / 18000 Steps) (loss=0.29405): 100%|██████████| 6/6 [00:07<00:00,  1.29s/it]\n",
      "Training (14723 / 18000 Steps) (loss=0.53516): 100%|██████████| 6/6 [00:07<00:00,  1.30s/it]\n",
      "Training (14729 / 18000 Steps) (loss=0.53150): 100%|██████████| 6/6 [00:08<00:00,  1.35s/it]\n",
      "Training (14735 / 18000 Steps) (loss=0.41883): 100%|██████████| 6/6 [00:07<00:00,  1.32s/it]\n",
      "Training (14741 / 18000 Steps) (loss=0.40402): 100%|██████████| 6/6 [00:07<00:00,  1.28s/it]\n",
      "Training (14747 / 18000 Steps) (loss=0.18487): 100%|██████████| 6/6 [00:07<00:00,  1.26s/it]\n",
      "Training (14753 / 18000 Steps) (loss=0.67058): 100%|██████████| 6/6 [00:07<00:00,  1.31s/it]\n",
      "Training (14759 / 18000 Steps) (loss=0.27092): 100%|██████████| 6/6 [00:07<00:00,  1.27s/it]\n",
      "Training (14765 / 18000 Steps) (loss=0.12005): 100%|██████████| 6/6 [00:07<00:00,  1.29s/it]\n",
      "Training (14771 / 18000 Steps) (loss=0.60385): 100%|██████████| 6/6 [00:07<00:00,  1.27s/it]\n",
      "Training (14777 / 18000 Steps) (loss=0.45763): 100%|██████████| 6/6 [00:07<00:00,  1.30s/it]\n",
      "Training (14783 / 18000 Steps) (loss=0.44062): 100%|██████████| 6/6 [00:07<00:00,  1.31s/it]\n",
      "Training (14789 / 18000 Steps) (loss=0.36472): 100%|██████████| 6/6 [00:07<00:00,  1.27s/it]\n",
      "Training (14795 / 18000 Steps) (loss=0.29022): 100%|██████████| 6/6 [00:07<00:00,  1.31s/it]\n",
      "Validate (14796 / 10 Steps): 100%|██████████| 3/3 [00:05<00:00,  1.91s/it]<00:02,  1.33s/it]\n",
      "Training (14800 / 18000 Steps) (loss=0.33431):  83%|████████▎ | 5/6 [00:13<00:03,  3.26s/it]"
     ]
    },
    {
     "name": "stdout",
     "output_type": "stream",
     "text": [
      "Model Was Not Saved ! Current Best Avg. Dice: 0.2967126667499542 Current Avg. Dice: 0.2375272959470749 Current Avg. tumor Dice: 0.3202907145023346 Current Avg. lymph Dice: 0.154763862490654\n"
     ]
    },
    {
     "name": "stderr",
     "output_type": "stream",
     "text": [
      "Training (14801 / 18000 Steps) (loss=0.34177): 100%|██████████| 6/6 [00:14<00:00,  2.35s/it]\n",
      "Training (14807 / 18000 Steps) (loss=0.24489): 100%|██████████| 6/6 [00:07<00:00,  1.32s/it]\n",
      "Training (14813 / 18000 Steps) (loss=0.42443): 100%|██████████| 6/6 [00:07<00:00,  1.29s/it]\n",
      "Training (14819 / 18000 Steps) (loss=0.33447): 100%|██████████| 6/6 [00:07<00:00,  1.27s/it]\n",
      "Training (14825 / 18000 Steps) (loss=0.30195): 100%|██████████| 6/6 [00:07<00:00,  1.26s/it]\n",
      "Training (14831 / 18000 Steps) (loss=0.52237): 100%|██████████| 6/6 [00:07<00:00,  1.26s/it]\n",
      "Training (14837 / 18000 Steps) (loss=0.53607): 100%|██████████| 6/6 [00:07<00:00,  1.27s/it]\n",
      "Training (14843 / 18000 Steps) (loss=0.36556): 100%|██████████| 6/6 [00:07<00:00,  1.32s/it]\n",
      "Training (14849 / 18000 Steps) (loss=0.25781): 100%|██████████| 6/6 [00:08<00:00,  1.39s/it]\n",
      "Training (14855 / 18000 Steps) (loss=0.28473): 100%|██████████| 6/6 [00:07<00:00,  1.28s/it]\n",
      "Training (14861 / 18000 Steps) (loss=0.55538): 100%|██████████| 6/6 [00:07<00:00,  1.31s/it]\n",
      "Training (14867 / 18000 Steps) (loss=0.47484): 100%|██████████| 6/6 [00:08<00:00,  1.34s/it]\n",
      "Training (14873 / 18000 Steps) (loss=0.40027): 100%|██████████| 6/6 [00:07<00:00,  1.25s/it]\n",
      "Training (14879 / 18000 Steps) (loss=0.23343): 100%|██████████| 6/6 [00:07<00:00,  1.27s/it]\n",
      "Training (14885 / 18000 Steps) (loss=0.37257): 100%|██████████| 6/6 [00:07<00:00,  1.28s/it]\n",
      "Training (14891 / 18000 Steps) (loss=0.40145): 100%|██████████| 6/6 [00:07<00:00,  1.29s/it]\n",
      "Training (14897 / 18000 Steps) (loss=0.48434): 100%|██████████| 6/6 [00:07<00:00,  1.28s/it]\n",
      "Validate (14898 / 10 Steps): 100%|██████████| 3/3 [00:05<00:00,  1.86s/it]<00:07,  1.98s/it]\n",
      "Training (14900 / 18000 Steps) (loss=0.25483):  50%|█████     | 3/6 [00:10<00:12,  4.03s/it]"
     ]
    },
    {
     "name": "stdout",
     "output_type": "stream",
     "text": [
      "Model Was Not Saved ! Current Best Avg. Dice: 0.2967126667499542 Current Avg. Dice: 0.1625622808933258 Current Avg. tumor Dice: 0.20090220868587494 Current Avg. lymph Dice: 0.12422236800193787\n"
     ]
    },
    {
     "name": "stderr",
     "output_type": "stream",
     "text": [
      "Training (14903 / 18000 Steps) (loss=0.55900): 100%|██████████| 6/6 [00:13<00:00,  2.23s/it]\n",
      "Training (14909 / 18000 Steps) (loss=0.53875): 100%|██████████| 6/6 [00:07<00:00,  1.30s/it]\n",
      "Training (14915 / 18000 Steps) (loss=0.39886): 100%|██████████| 6/6 [00:07<00:00,  1.29s/it]\n",
      "Training (14921 / 18000 Steps) (loss=0.50805): 100%|██████████| 6/6 [00:08<00:00,  1.33s/it]\n",
      "Training (14927 / 18000 Steps) (loss=0.17678): 100%|██████████| 6/6 [00:07<00:00,  1.33s/it]\n",
      "Training (14933 / 18000 Steps) (loss=0.29899): 100%|██████████| 6/6 [00:08<00:00,  1.34s/it]\n",
      "Training (14939 / 18000 Steps) (loss=0.28785): 100%|██████████| 6/6 [00:07<00:00,  1.27s/it]\n",
      "Training (14945 / 18000 Steps) (loss=0.27936): 100%|██████████| 6/6 [00:07<00:00,  1.30s/it]\n",
      "Training (14951 / 18000 Steps) (loss=0.44652): 100%|██████████| 6/6 [00:07<00:00,  1.30s/it]\n",
      "Training (14957 / 18000 Steps) (loss=0.46225): 100%|██████████| 6/6 [00:07<00:00,  1.24s/it]\n",
      "Training (14963 / 18000 Steps) (loss=0.16791): 100%|██████████| 6/6 [00:07<00:00,  1.27s/it]\n",
      "Training (14969 / 18000 Steps) (loss=0.36213): 100%|██████████| 6/6 [00:07<00:00,  1.29s/it]\n",
      "Training (14975 / 18000 Steps) (loss=0.28890): 100%|██████████| 6/6 [00:07<00:00,  1.32s/it]\n",
      "Training (14981 / 18000 Steps) (loss=0.46903): 100%|██████████| 6/6 [00:07<00:00,  1.33s/it]\n",
      "Training (14987 / 18000 Steps) (loss=0.16371): 100%|██████████| 6/6 [00:07<00:00,  1.31s/it]\n",
      "Training (14993 / 18000 Steps) (loss=0.35396): 100%|██████████| 6/6 [00:07<00:00,  1.31s/it]\n",
      "Training (14999 / 18000 Steps) (loss=0.59958): 100%|██████████| 6/6 [00:08<00:00,  1.36s/it]\n",
      "Validate (15000 / 10 Steps): 100%|██████████| 3/3 [00:05<00:00,  1.81s/it]<?, ?it/s]\n",
      "Training (15000 / 18000 Steps) (loss=0.26712):  17%|█▋        | 1/6 [00:09<00:45,  9.07s/it]"
     ]
    },
    {
     "name": "stdout",
     "output_type": "stream",
     "text": [
      "Model Was Not Saved ! Current Best Avg. Dice: 0.2967126667499542 Current Avg. Dice: 0.23878800868988037 Current Avg. tumor Dice: 0.2732767164707184 Current Avg. lymph Dice: 0.20429933071136475\n"
     ]
    },
    {
     "name": "stderr",
     "output_type": "stream",
     "text": [
      "Training (15005 / 18000 Steps) (loss=0.33530): 100%|██████████| 6/6 [00:13<00:00,  2.21s/it]\n",
      "Training (15011 / 18000 Steps) (loss=0.45785): 100%|██████████| 6/6 [00:07<00:00,  1.27s/it]\n",
      "Training (15017 / 18000 Steps) (loss=0.42881): 100%|██████████| 6/6 [00:07<00:00,  1.28s/it]\n",
      "Training (15023 / 18000 Steps) (loss=0.38396): 100%|██████████| 6/6 [00:07<00:00,  1.25s/it]\n",
      "Training (15029 / 18000 Steps) (loss=0.48323): 100%|██████████| 6/6 [00:07<00:00,  1.25s/it]\n",
      "Training (15035 / 18000 Steps) (loss=0.40836): 100%|██████████| 6/6 [00:07<00:00,  1.31s/it]\n",
      "Training (15041 / 18000 Steps) (loss=0.32833): 100%|██████████| 6/6 [00:07<00:00,  1.31s/it]\n",
      "Training (15047 / 18000 Steps) (loss=0.26300): 100%|██████████| 6/6 [00:07<00:00,  1.31s/it]\n",
      "Training (15053 / 18000 Steps) (loss=0.32468): 100%|██████████| 6/6 [00:07<00:00,  1.33s/it]\n",
      "Training (15059 / 18000 Steps) (loss=0.40018): 100%|██████████| 6/6 [00:07<00:00,  1.33s/it]\n",
      "Training (15065 / 18000 Steps) (loss=0.24645): 100%|██████████| 6/6 [00:07<00:00,  1.32s/it]\n",
      "Training (15071 / 18000 Steps) (loss=0.31716): 100%|██████████| 6/6 [00:07<00:00,  1.31s/it]\n",
      "Training (15077 / 18000 Steps) (loss=0.27528): 100%|██████████| 6/6 [00:07<00:00,  1.25s/it]\n",
      "Training (15083 / 18000 Steps) (loss=0.34092): 100%|██████████| 6/6 [00:07<00:00,  1.32s/it]\n",
      "Training (15089 / 18000 Steps) (loss=0.19984): 100%|██████████| 6/6 [00:07<00:00,  1.27s/it]\n",
      "Training (15095 / 18000 Steps) (loss=0.46804): 100%|██████████| 6/6 [00:07<00:00,  1.28s/it]\n",
      "Validate (15096 / 10 Steps): 100%|██████████| 3/3 [00:05<00:00,  1.90s/it]<00:02,  1.23s/it]\n",
      "Training (15100 / 18000 Steps) (loss=0.43710):  83%|████████▎ | 5/6 [00:12<00:03,  3.16s/it]"
     ]
    },
    {
     "name": "stdout",
     "output_type": "stream",
     "text": [
      "Model Was Not Saved ! Current Best Avg. Dice: 0.2967126667499542 Current Avg. Dice: 0.1923316866159439 Current Avg. tumor Dice: 0.2538563013076782 Current Avg. lymph Dice: 0.1308070570230484\n"
     ]
    },
    {
     "name": "stderr",
     "output_type": "stream",
     "text": [
      "Training (15101 / 18000 Steps) (loss=0.24628): 100%|██████████| 6/6 [00:13<00:00,  2.26s/it]\n",
      "Training (15107 / 18000 Steps) (loss=0.41443): 100%|██████████| 6/6 [00:07<00:00,  1.32s/it]\n",
      "Training (15113 / 18000 Steps) (loss=0.15456): 100%|██████████| 6/6 [00:07<00:00,  1.27s/it]\n",
      "Training (15119 / 18000 Steps) (loss=0.27357): 100%|██████████| 6/6 [00:07<00:00,  1.29s/it]\n",
      "Training (15125 / 18000 Steps) (loss=0.31478): 100%|██████████| 6/6 [00:07<00:00,  1.33s/it]\n",
      "Training (15131 / 18000 Steps) (loss=0.29981): 100%|██████████| 6/6 [00:08<00:00,  1.35s/it]\n",
      "Training (15137 / 18000 Steps) (loss=0.44904): 100%|██████████| 6/6 [00:08<00:00,  1.37s/it]\n",
      "Training (15143 / 18000 Steps) (loss=0.57397): 100%|██████████| 6/6 [00:07<00:00,  1.28s/it]\n",
      "Training (15149 / 18000 Steps) (loss=0.46195): 100%|██████████| 6/6 [00:07<00:00,  1.29s/it]\n",
      "Training (15155 / 18000 Steps) (loss=0.27464): 100%|██████████| 6/6 [00:07<00:00,  1.27s/it]\n",
      "Training (15161 / 18000 Steps) (loss=0.34973): 100%|██████████| 6/6 [00:07<00:00,  1.28s/it]\n",
      "Training (15167 / 18000 Steps) (loss=0.16460): 100%|██████████| 6/6 [00:07<00:00,  1.29s/it]\n",
      "Training (15173 / 18000 Steps) (loss=0.46344): 100%|██████████| 6/6 [00:07<00:00,  1.26s/it]\n",
      "Training (15179 / 18000 Steps) (loss=0.34658): 100%|██████████| 6/6 [00:07<00:00,  1.33s/it]\n",
      "Training (15185 / 18000 Steps) (loss=0.31074): 100%|██████████| 6/6 [00:07<00:00,  1.31s/it]\n",
      "Training (15191 / 18000 Steps) (loss=0.47210): 100%|██████████| 6/6 [00:07<00:00,  1.28s/it]\n",
      "Training (15197 / 18000 Steps) (loss=0.58935): 100%|██████████| 6/6 [00:08<00:00,  1.36s/it]\n",
      "Validate (15198 / 10 Steps): 100%|██████████| 3/3 [00:05<00:00,  1.82s/it]<00:08,  2.05s/it]\n",
      "Training (15200 / 18000 Steps) (loss=0.32284):  50%|█████     | 3/6 [00:10<00:12,  4.03s/it]"
     ]
    },
    {
     "name": "stdout",
     "output_type": "stream",
     "text": [
      "Model Was Not Saved ! Current Best Avg. Dice: 0.2967126667499542 Current Avg. Dice: 0.14448325335979462 Current Avg. tumor Dice: 0.174504816532135 Current Avg. lymph Dice: 0.11446168273687363\n"
     ]
    },
    {
     "name": "stderr",
     "output_type": "stream",
     "text": [
      "Training (15203 / 18000 Steps) (loss=0.40058): 100%|██████████| 6/6 [00:13<00:00,  2.23s/it]\n",
      "Training (15209 / 18000 Steps) (loss=0.43067): 100%|██████████| 6/6 [00:07<00:00,  1.27s/it]\n",
      "Training (15215 / 18000 Steps) (loss=0.34842): 100%|██████████| 6/6 [00:07<00:00,  1.30s/it]\n",
      "Training (15221 / 18000 Steps) (loss=0.26358): 100%|██████████| 6/6 [00:07<00:00,  1.31s/it]\n",
      "Training (15227 / 18000 Steps) (loss=0.30746): 100%|██████████| 6/6 [00:07<00:00,  1.29s/it]\n",
      "Training (15233 / 18000 Steps) (loss=0.44977): 100%|██████████| 6/6 [00:07<00:00,  1.26s/it]\n",
      "Training (15239 / 18000 Steps) (loss=0.34956): 100%|██████████| 6/6 [00:07<00:00,  1.27s/it]\n",
      "Training (15245 / 18000 Steps) (loss=0.29858): 100%|██████████| 6/6 [00:07<00:00,  1.30s/it]\n",
      "Training (15251 / 18000 Steps) (loss=0.38505): 100%|██████████| 6/6 [00:07<00:00,  1.33s/it]\n",
      "Training (15257 / 18000 Steps) (loss=0.19654): 100%|██████████| 6/6 [00:07<00:00,  1.31s/it]\n",
      "Training (15263 / 18000 Steps) (loss=0.54411): 100%|██████████| 6/6 [00:08<00:00,  1.35s/it]\n",
      "Training (15269 / 18000 Steps) (loss=0.36886): 100%|██████████| 6/6 [00:08<00:00,  1.36s/it]\n",
      "Training (15275 / 18000 Steps) (loss=0.41166): 100%|██████████| 6/6 [00:07<00:00,  1.25s/it]\n",
      "Training (15281 / 18000 Steps) (loss=0.15959): 100%|██████████| 6/6 [00:07<00:00,  1.27s/it]\n",
      "Training (15287 / 18000 Steps) (loss=0.28971): 100%|██████████| 6/6 [00:07<00:00,  1.27s/it]\n",
      "Training (15293 / 18000 Steps) (loss=0.09895): 100%|██████████| 6/6 [00:07<00:00,  1.26s/it]\n",
      "Training (15299 / 18000 Steps) (loss=0.37578): 100%|██████████| 6/6 [00:07<00:00,  1.29s/it]\n",
      "Validate (15300 / 10 Steps): 100%|██████████| 3/3 [00:05<00:00,  1.88s/it]<?, ?it/s]\n",
      "Training (15300 / 18000 Steps) (loss=0.44294):  17%|█▋        | 1/6 [00:09<00:45,  9.18s/it]"
     ]
    },
    {
     "name": "stdout",
     "output_type": "stream",
     "text": [
      "Model Was Not Saved ! Current Best Avg. Dice: 0.2967126667499542 Current Avg. Dice: 0.2026885598897934 Current Avg. tumor Dice: 0.27593764662742615 Current Avg. lymph Dice: 0.12943945825099945\n"
     ]
    },
    {
     "name": "stderr",
     "output_type": "stream",
     "text": [
      "Training (15305 / 18000 Steps) (loss=0.34101): 100%|██████████| 6/6 [00:13<00:00,  2.26s/it]\n",
      "Training (15311 / 18000 Steps) (loss=0.55297): 100%|██████████| 6/6 [00:07<00:00,  1.28s/it]\n",
      "Training (15317 / 18000 Steps) (loss=0.40076): 100%|██████████| 6/6 [00:07<00:00,  1.31s/it]\n",
      "Training (15323 / 18000 Steps) (loss=0.26571): 100%|██████████| 6/6 [00:07<00:00,  1.31s/it]\n",
      "Training (15329 / 18000 Steps) (loss=0.52657): 100%|██████████| 6/6 [00:07<00:00,  1.30s/it]\n",
      "Training (15335 / 18000 Steps) (loss=0.27502): 100%|██████████| 6/6 [00:07<00:00,  1.31s/it]\n",
      "Training (15341 / 18000 Steps) (loss=0.27472): 100%|██████████| 6/6 [00:08<00:00,  1.33s/it]\n",
      "Training (15347 / 18000 Steps) (loss=0.30335): 100%|██████████| 6/6 [00:07<00:00,  1.29s/it]\n",
      "Training (15353 / 18000 Steps) (loss=0.56289): 100%|██████████| 6/6 [00:07<00:00,  1.31s/it]\n",
      "Training (15359 / 18000 Steps) (loss=0.31333): 100%|██████████| 6/6 [00:07<00:00,  1.25s/it]\n",
      "Training (15365 / 18000 Steps) (loss=0.21711): 100%|██████████| 6/6 [00:07<00:00,  1.31s/it]\n",
      "Training (15371 / 18000 Steps) (loss=0.47928): 100%|██████████| 6/6 [00:07<00:00,  1.27s/it]\n",
      "Training (15377 / 18000 Steps) (loss=0.34107): 100%|██████████| 6/6 [00:07<00:00,  1.29s/it]\n",
      "Training (15383 / 18000 Steps) (loss=0.40919): 100%|██████████| 6/6 [00:07<00:00,  1.32s/it]\n",
      "Training (15389 / 18000 Steps) (loss=0.53430): 100%|██████████| 6/6 [00:07<00:00,  1.30s/it]\n",
      "Training (15395 / 18000 Steps) (loss=0.43841): 100%|██████████| 6/6 [00:07<00:00,  1.32s/it]\n",
      "Validate (15396 / 10 Steps): 100%|██████████| 3/3 [00:05<00:00,  1.85s/it]<00:02,  1.30s/it]\n",
      "Training (15400 / 18000 Steps) (loss=0.37612):  83%|████████▎ | 5/6 [00:12<00:03,  3.16s/it]"
     ]
    },
    {
     "name": "stdout",
     "output_type": "stream",
     "text": [
      "Model Was Not Saved ! Current Best Avg. Dice: 0.2967126667499542 Current Avg. Dice: 0.19996769726276398 Current Avg. tumor Dice: 0.23140539228916168 Current Avg. lymph Dice: 0.16852998733520508\n"
     ]
    },
    {
     "name": "stderr",
     "output_type": "stream",
     "text": [
      "Training (15401 / 18000 Steps) (loss=0.15384): 100%|██████████| 6/6 [00:13<00:00,  2.28s/it]\n",
      "Training (15407 / 18000 Steps) (loss=0.26837): 100%|██████████| 6/6 [00:07<00:00,  1.29s/it]\n",
      "Training (15413 / 18000 Steps) (loss=0.53040): 100%|██████████| 6/6 [00:07<00:00,  1.27s/it]\n",
      "Training (15419 / 18000 Steps) (loss=0.22141): 100%|██████████| 6/6 [00:07<00:00,  1.28s/it]\n",
      "Training (15425 / 18000 Steps) (loss=0.16627): 100%|██████████| 6/6 [00:07<00:00,  1.29s/it]\n",
      "Training (15431 / 18000 Steps) (loss=0.41453): 100%|██████████| 6/6 [00:08<00:00,  1.34s/it]\n",
      "Training (15437 / 18000 Steps) (loss=0.43162): 100%|██████████| 6/6 [00:07<00:00,  1.28s/it]\n",
      "Training (15443 / 18000 Steps) (loss=0.13791): 100%|██████████| 6/6 [00:07<00:00,  1.28s/it]\n",
      "Training (15449 / 18000 Steps) (loss=0.20038): 100%|██████████| 6/6 [00:07<00:00,  1.30s/it]\n",
      "Training (15455 / 18000 Steps) (loss=0.39523): 100%|██████████| 6/6 [00:07<00:00,  1.32s/it]\n",
      "Training (15461 / 18000 Steps) (loss=0.39984): 100%|██████████| 6/6 [00:08<00:00,  1.35s/it]\n",
      "Training (15467 / 18000 Steps) (loss=0.29803): 100%|██████████| 6/6 [00:08<00:00,  1.38s/it]\n",
      "Training (15473 / 18000 Steps) (loss=0.24896): 100%|██████████| 6/6 [00:07<00:00,  1.27s/it]\n",
      "Training (15479 / 18000 Steps) (loss=0.16821): 100%|██████████| 6/6 [00:07<00:00,  1.28s/it]\n",
      "Training (15485 / 18000 Steps) (loss=0.16070): 100%|██████████| 6/6 [00:07<00:00,  1.30s/it]\n",
      "Training (15491 / 18000 Steps) (loss=0.54141): 100%|██████████| 6/6 [00:07<00:00,  1.24s/it]\n",
      "Training (15497 / 18000 Steps) (loss=0.36902): 100%|██████████| 6/6 [00:07<00:00,  1.28s/it]\n",
      "Validate (15498 / 10 Steps): 100%|██████████| 3/3 [00:05<00:00,  1.96s/it]<00:07,  1.93s/it]\n",
      "Training (15500 / 18000 Steps) (loss=0.31349):  50%|█████     | 3/6 [00:11<00:12,  4.14s/it]"
     ]
    },
    {
     "name": "stdout",
     "output_type": "stream",
     "text": [
      "Model Was Not Saved ! Current Best Avg. Dice: 0.2967126667499542 Current Avg. Dice: 0.18994183838367462 Current Avg. tumor Dice: 0.2207973748445511 Current Avg. lymph Dice: 0.15908631682395935\n"
     ]
    },
    {
     "name": "stderr",
     "output_type": "stream",
     "text": [
      "Training (15503 / 18000 Steps) (loss=0.37841): 100%|██████████| 6/6 [00:13<00:00,  2.26s/it]\n",
      "Training (15509 / 18000 Steps) (loss=0.68845): 100%|██████████| 6/6 [00:07<00:00,  1.32s/it]\n",
      "Training (15515 / 18000 Steps) (loss=0.24991): 100%|██████████| 6/6 [00:07<00:00,  1.27s/it]\n",
      "Training (15521 / 18000 Steps) (loss=0.53626): 100%|██████████| 6/6 [00:07<00:00,  1.28s/it]\n",
      "Training (15527 / 18000 Steps) (loss=0.30862): 100%|██████████| 6/6 [00:07<00:00,  1.32s/it]\n",
      "Training (15533 / 18000 Steps) (loss=0.15875): 100%|██████████| 6/6 [00:07<00:00,  1.31s/it]\n",
      "Training (15539 / 18000 Steps) (loss=0.34216): 100%|██████████| 6/6 [00:07<00:00,  1.28s/it]\n",
      "Training (15545 / 18000 Steps) (loss=0.40953): 100%|██████████| 6/6 [00:07<00:00,  1.32s/it]\n",
      "Training (15551 / 18000 Steps) (loss=0.49773): 100%|██████████| 6/6 [00:08<00:00,  1.34s/it]\n",
      "Training (15557 / 18000 Steps) (loss=0.34921): 100%|██████████| 6/6 [00:07<00:00,  1.24s/it]\n",
      "Training (15563 / 18000 Steps) (loss=0.23973): 100%|██████████| 6/6 [00:07<00:00,  1.25s/it]\n",
      "Training (15569 / 18000 Steps) (loss=0.16477): 100%|██████████| 6/6 [00:07<00:00,  1.27s/it]\n",
      "Training (15575 / 18000 Steps) (loss=0.40336): 100%|██████████| 6/6 [00:07<00:00,  1.25s/it]\n",
      "Training (15581 / 18000 Steps) (loss=0.38769): 100%|██████████| 6/6 [00:07<00:00,  1.29s/it]\n",
      "Training (15587 / 18000 Steps) (loss=0.37610): 100%|██████████| 6/6 [00:07<00:00,  1.33s/it]\n",
      "Training (15593 / 18000 Steps) (loss=0.31936): 100%|██████████| 6/6 [00:07<00:00,  1.31s/it]\n",
      "Training (15599 / 18000 Steps) (loss=0.52807): 100%|██████████| 6/6 [00:08<00:00,  1.41s/it]\n",
      "Validate (15600 / 10 Steps): 100%|██████████| 3/3 [00:05<00:00,  1.80s/it]<?, ?it/s]\n",
      "Training (15600 / 18000 Steps) (loss=0.33256):  17%|█▋        | 1/6 [00:09<00:45,  9.02s/it]"
     ]
    },
    {
     "name": "stdout",
     "output_type": "stream",
     "text": [
      "Model Was Not Saved ! Current Best Avg. Dice: 0.2967126667499542 Current Avg. Dice: 0.18804395198822021 Current Avg. tumor Dice: 0.21971839666366577 Current Avg. lymph Dice: 0.15636950731277466\n"
     ]
    },
    {
     "name": "stderr",
     "output_type": "stream",
     "text": [
      "Training (15605 / 18000 Steps) (loss=0.25524): 100%|██████████| 6/6 [00:13<00:00,  2.19s/it]\n",
      "Training (15611 / 18000 Steps) (loss=0.20665): 100%|██████████| 6/6 [00:07<00:00,  1.30s/it]\n",
      "Training (15617 / 18000 Steps) (loss=0.42753): 100%|██████████| 6/6 [00:07<00:00,  1.26s/it]\n",
      "Training (15623 / 18000 Steps) (loss=0.44607): 100%|██████████| 6/6 [00:07<00:00,  1.29s/it]\n",
      "Training (15629 / 18000 Steps) (loss=0.43869): 100%|██████████| 6/6 [00:07<00:00,  1.26s/it]\n",
      "Training (15635 / 18000 Steps) (loss=0.39951): 100%|██████████| 6/6 [00:07<00:00,  1.27s/it]\n",
      "Training (15641 / 18000 Steps) (loss=0.42288): 100%|██████████| 6/6 [00:07<00:00,  1.28s/it]\n",
      "Training (15647 / 18000 Steps) (loss=0.41600): 100%|██████████| 6/6 [00:08<00:00,  1.34s/it]\n",
      "Training (15653 / 18000 Steps) (loss=0.53248): 100%|██████████| 6/6 [00:07<00:00,  1.26s/it]\n",
      "Training (15659 / 18000 Steps) (loss=0.28179): 100%|██████████| 6/6 [00:07<00:00,  1.29s/it]\n",
      "Training (15665 / 18000 Steps) (loss=0.56975): 100%|██████████| 6/6 [00:07<00:00,  1.32s/it]\n",
      "Training (15671 / 18000 Steps) (loss=0.37429): 100%|██████████| 6/6 [00:07<00:00,  1.30s/it]\n",
      "Training (15677 / 18000 Steps) (loss=0.30376): 100%|██████████| 6/6 [00:07<00:00,  1.29s/it]\n",
      "Training (15683 / 18000 Steps) (loss=0.66691): 100%|██████████| 6/6 [00:07<00:00,  1.30s/it]\n",
      "Training (15689 / 18000 Steps) (loss=0.35483): 100%|██████████| 6/6 [00:07<00:00,  1.24s/it]\n",
      "Training (15695 / 18000 Steps) (loss=0.38118): 100%|██████████| 6/6 [00:07<00:00,  1.32s/it]\n",
      "Validate (15696 / 10 Steps): 100%|██████████| 3/3 [00:05<00:00,  1.78s/it]<00:02,  1.19s/it]\n",
      "Training (15700 / 18000 Steps) (loss=0.59474):  83%|████████▎ | 5/6 [00:12<00:02,  3.00s/it]"
     ]
    },
    {
     "name": "stdout",
     "output_type": "stream",
     "text": [
      "Model Was Not Saved ! Current Best Avg. Dice: 0.2967126667499542 Current Avg. Dice: 0.20159758627414703 Current Avg. tumor Dice: 0.3066287934780121 Current Avg. lymph Dice: 0.09656640142202377\n"
     ]
    },
    {
     "name": "stderr",
     "output_type": "stream",
     "text": [
      "Training (15701 / 18000 Steps) (loss=0.25360): 100%|██████████| 6/6 [00:12<00:00,  2.14s/it]\n",
      "Training (15707 / 18000 Steps) (loss=0.57468): 100%|██████████| 6/6 [00:07<00:00,  1.32s/it]\n",
      "Training (15713 / 18000 Steps) (loss=0.38065): 100%|██████████| 6/6 [00:07<00:00,  1.31s/it]\n",
      "Training (15719 / 18000 Steps) (loss=0.53705): 100%|██████████| 6/6 [00:07<00:00,  1.33s/it]\n",
      "Training (15725 / 18000 Steps) (loss=0.29242): 100%|██████████| 6/6 [00:07<00:00,  1.30s/it]\n",
      "Training (15731 / 18000 Steps) (loss=0.15908): 100%|██████████| 6/6 [00:07<00:00,  1.31s/it]\n",
      "Training (15737 / 18000 Steps) (loss=0.39036): 100%|██████████| 6/6 [00:07<00:00,  1.32s/it]\n",
      "Training (15743 / 18000 Steps) (loss=0.58198): 100%|██████████| 6/6 [00:07<00:00,  1.27s/it]\n",
      "Training (15749 / 18000 Steps) (loss=0.41247): 100%|██████████| 6/6 [00:07<00:00,  1.27s/it]\n",
      "Training (15755 / 18000 Steps) (loss=0.23494): 100%|██████████| 6/6 [00:07<00:00,  1.31s/it]\n",
      "Training (15761 / 18000 Steps) (loss=0.23388): 100%|██████████| 6/6 [00:07<00:00,  1.25s/it]\n",
      "Training (15767 / 18000 Steps) (loss=0.38009): 100%|██████████| 6/6 [00:07<00:00,  1.25s/it]\n",
      "Training (15773 / 18000 Steps) (loss=0.30712): 100%|██████████| 6/6 [00:07<00:00,  1.30s/it]\n",
      "Training (15779 / 18000 Steps) (loss=0.52283): 100%|██████████| 6/6 [00:07<00:00,  1.28s/it]\n",
      "Training (15785 / 18000 Steps) (loss=0.16403): 100%|██████████| 6/6 [00:07<00:00,  1.31s/it]\n",
      "Training (15791 / 18000 Steps) (loss=0.30856): 100%|██████████| 6/6 [00:07<00:00,  1.29s/it]\n",
      "Training (15797 / 18000 Steps) (loss=0.29185): 100%|██████████| 6/6 [00:07<00:00,  1.32s/it]\n",
      "Validate (15798 / 10 Steps): 100%|██████████| 3/3 [00:05<00:00,  1.83s/it]<00:08,  2.10s/it]\n",
      "Training (15800 / 18000 Steps) (loss=0.57127):  50%|█████     | 3/6 [00:11<00:12,  4.06s/it]"
     ]
    },
    {
     "name": "stdout",
     "output_type": "stream",
     "text": [
      "Model Was Not Saved ! Current Best Avg. Dice: 0.2967126667499542 Current Avg. Dice: 0.21435536444187164 Current Avg. tumor Dice: 0.2610056698322296 Current Avg. lymph Dice: 0.16770505905151367\n"
     ]
    },
    {
     "name": "stderr",
     "output_type": "stream",
     "text": [
      "Training (15803 / 18000 Steps) (loss=0.48673): 100%|██████████| 6/6 [00:13<00:00,  2.25s/it]\n",
      "Training (15809 / 18000 Steps) (loss=0.40563): 100%|██████████| 6/6 [00:07<00:00,  1.26s/it]\n",
      "Training (15815 / 18000 Steps) (loss=0.27478): 100%|██████████| 6/6 [00:07<00:00,  1.25s/it]\n",
      "Training (15821 / 18000 Steps) (loss=0.35262): 100%|██████████| 6/6 [00:07<00:00,  1.26s/it]\n",
      "Training (15827 / 18000 Steps) (loss=0.38775): 100%|██████████| 6/6 [00:07<00:00,  1.25s/it]\n",
      "Training (15833 / 18000 Steps) (loss=0.41505): 100%|██████████| 6/6 [00:07<00:00,  1.30s/it]\n",
      "Training (15839 / 18000 Steps) (loss=0.29097): 100%|██████████| 6/6 [00:07<00:00,  1.30s/it]\n",
      "Training (15845 / 18000 Steps) (loss=0.26753): 100%|██████████| 6/6 [00:08<00:00,  1.34s/it]\n",
      "Training (15851 / 18000 Steps) (loss=0.66713): 100%|██████████| 6/6 [00:07<00:00,  1.26s/it]\n",
      "Training (15857 / 18000 Steps) (loss=0.35601): 100%|██████████| 6/6 [00:07<00:00,  1.28s/it]\n",
      "Training (15863 / 18000 Steps) (loss=0.38124): 100%|██████████| 6/6 [00:07<00:00,  1.29s/it]\n",
      "Training (15869 / 18000 Steps) (loss=0.15261): 100%|██████████| 6/6 [00:07<00:00,  1.32s/it]\n",
      "Training (15875 / 18000 Steps) (loss=0.32662): 100%|██████████| 6/6 [00:07<00:00,  1.28s/it]\n",
      "Training (15881 / 18000 Steps) (loss=0.27336): 100%|██████████| 6/6 [00:07<00:00,  1.30s/it]\n",
      "Training (15887 / 18000 Steps) (loss=0.19245): 100%|██████████| 6/6 [00:07<00:00,  1.29s/it]\n",
      "Training (15893 / 18000 Steps) (loss=0.41933): 100%|██████████| 6/6 [00:07<00:00,  1.24s/it]\n",
      "Training (15899 / 18000 Steps) (loss=0.29971): 100%|██████████| 6/6 [00:07<00:00,  1.26s/it]\n",
      "Validate (15900 / 10 Steps): 100%|██████████| 3/3 [00:05<00:00,  1.79s/it]<?, ?it/s]\n",
      "Training (15900 / 18000 Steps) (loss=0.41713):  17%|█▋        | 1/6 [00:08<00:44,  8.93s/it]"
     ]
    },
    {
     "name": "stdout",
     "output_type": "stream",
     "text": [
      "Model Was Not Saved ! Current Best Avg. Dice: 0.2967126667499542 Current Avg. Dice: 0.2118908166885376 Current Avg. tumor Dice: 0.24862462282180786 Current Avg. lymph Dice: 0.17515702545642853\n"
     ]
    },
    {
     "name": "stderr",
     "output_type": "stream",
     "text": [
      "Training (15905 / 18000 Steps) (loss=0.51304): 100%|██████████| 6/6 [00:13<00:00,  2.19s/it]\n",
      "Training (15911 / 18000 Steps) (loss=0.53046): 100%|██████████| 6/6 [00:07<00:00,  1.29s/it]\n",
      "Training (15917 / 18000 Steps) (loss=0.26515): 100%|██████████| 6/6 [00:07<00:00,  1.29s/it]\n",
      "Training (15923 / 18000 Steps) (loss=0.51263): 100%|██████████| 6/6 [00:08<00:00,  1.36s/it]\n",
      "Training (15929 / 18000 Steps) (loss=0.43450): 100%|██████████| 6/6 [00:08<00:00,  1.38s/it]\n",
      "Training (15935 / 18000 Steps) (loss=0.33957): 100%|██████████| 6/6 [00:08<00:00,  1.34s/it]\n",
      "Training (15941 / 18000 Steps) (loss=0.28246): 100%|██████████| 6/6 [00:07<00:00,  1.27s/it]\n",
      "Training (15947 / 18000 Steps) (loss=0.28710): 100%|██████████| 6/6 [00:07<00:00,  1.25s/it]\n",
      "Training (15953 / 18000 Steps) (loss=0.43200): 100%|██████████| 6/6 [00:07<00:00,  1.27s/it]\n",
      "Training (15959 / 18000 Steps) (loss=0.32828): 100%|██████████| 6/6 [00:07<00:00,  1.26s/it]\n",
      "Training (15965 / 18000 Steps) (loss=0.40933): 100%|██████████| 6/6 [00:07<00:00,  1.26s/it]\n",
      "Training (15971 / 18000 Steps) (loss=0.60197): 100%|██████████| 6/6 [00:07<00:00,  1.27s/it]\n",
      "Training (15977 / 18000 Steps) (loss=0.55127): 100%|██████████| 6/6 [00:07<00:00,  1.29s/it]\n",
      "Training (15983 / 18000 Steps) (loss=0.39971): 100%|██████████| 6/6 [00:07<00:00,  1.28s/it]\n",
      "Training (15989 / 18000 Steps) (loss=0.39479): 100%|██████████| 6/6 [00:07<00:00,  1.29s/it]\n",
      "Training (15995 / 18000 Steps) (loss=0.26773): 100%|██████████| 6/6 [00:07<00:00,  1.30s/it]\n",
      "Validate (15996 / 10 Steps): 100%|██████████| 3/3 [00:05<00:00,  1.84s/it]<00:02,  1.27s/it]\n",
      "Training (16000 / 18000 Steps) (loss=0.31533):  83%|████████▎ | 5/6 [00:12<00:03,  3.13s/it]"
     ]
    },
    {
     "name": "stdout",
     "output_type": "stream",
     "text": [
      "Model Was Not Saved ! Current Best Avg. Dice: 0.2967126667499542 Current Avg. Dice: 0.17801357805728912 Current Avg. tumor Dice: 0.24646802246570587 Current Avg. lymph Dice: 0.10955914855003357\n"
     ]
    },
    {
     "name": "stderr",
     "output_type": "stream",
     "text": [
      "Training (16001 / 18000 Steps) (loss=0.46082): 100%|██████████| 6/6 [00:13<00:00,  2.26s/it]\n",
      "Training (16007 / 18000 Steps) (loss=0.56346): 100%|██████████| 6/6 [00:07<00:00,  1.28s/it]\n",
      "Training (16013 / 18000 Steps) (loss=0.43398): 100%|██████████| 6/6 [00:07<00:00,  1.28s/it]\n",
      "Training (16019 / 18000 Steps) (loss=0.31117): 100%|██████████| 6/6 [00:07<00:00,  1.29s/it]\n",
      "Training (16025 / 18000 Steps) (loss=0.53556): 100%|██████████| 6/6 [00:07<00:00,  1.28s/it]\n",
      "Training (16031 / 18000 Steps) (loss=0.47190): 100%|██████████| 6/6 [00:07<00:00,  1.27s/it]\n",
      "Training (16037 / 18000 Steps) (loss=0.46763): 100%|██████████| 6/6 [00:07<00:00,  1.26s/it]\n",
      "Training (16043 / 18000 Steps) (loss=0.42782): 100%|██████████| 6/6 [00:07<00:00,  1.31s/it]\n",
      "Training (16049 / 18000 Steps) (loss=0.41137): 100%|██████████| 6/6 [00:08<00:00,  1.34s/it]\n",
      "Training (16055 / 18000 Steps) (loss=0.39120): 100%|██████████| 6/6 [00:07<00:00,  1.26s/it]\n",
      "Training (16061 / 18000 Steps) (loss=0.46431): 100%|██████████| 6/6 [00:07<00:00,  1.28s/it]\n",
      "Training (16067 / 18000 Steps) (loss=0.52370): 100%|██████████| 6/6 [00:07<00:00,  1.31s/it]\n",
      "Training (16073 / 18000 Steps) (loss=0.26021): 100%|██████████| 6/6 [00:07<00:00,  1.32s/it]\n",
      "Training (16079 / 18000 Steps) (loss=0.28218): 100%|██████████| 6/6 [00:07<00:00,  1.28s/it]\n",
      "Training (16085 / 18000 Steps) (loss=0.28953): 100%|██████████| 6/6 [00:07<00:00,  1.31s/it]\n",
      "Training (16091 / 18000 Steps) (loss=0.52659): 100%|██████████| 6/6 [00:07<00:00,  1.31s/it]\n",
      "Training (16097 / 18000 Steps) (loss=0.32313): 100%|██████████| 6/6 [00:07<00:00,  1.27s/it]\n",
      "Validate (16098 / 10 Steps): 100%|██████████| 3/3 [00:05<00:00,  1.78s/it]<00:08,  2.02s/it]\n",
      "Training (16100 / 18000 Steps) (loss=0.28610):  50%|█████     | 3/6 [00:10<00:11,  3.95s/it]"
     ]
    },
    {
     "name": "stdout",
     "output_type": "stream",
     "text": [
      "Model Was Not Saved ! Current Best Avg. Dice: 0.2967126667499542 Current Avg. Dice: 0.20859569311141968 Current Avg. tumor Dice: 0.28341689705848694 Current Avg. lymph Dice: 0.1337745040655136\n"
     ]
    },
    {
     "name": "stderr",
     "output_type": "stream",
     "text": [
      "Training (16103 / 18000 Steps) (loss=0.55813): 100%|██████████| 6/6 [00:13<00:00,  2.20s/it]\n",
      "Training (16109 / 18000 Steps) (loss=0.53346): 100%|██████████| 6/6 [00:07<00:00,  1.27s/it]\n",
      "Training (16115 / 18000 Steps) (loss=0.49734): 100%|██████████| 6/6 [00:07<00:00,  1.28s/it]\n",
      "Training (16121 / 18000 Steps) (loss=0.53289): 100%|██████████| 6/6 [00:07<00:00,  1.29s/it]\n",
      "Training (16127 / 18000 Steps) (loss=0.39357): 100%|██████████| 6/6 [00:08<00:00,  1.36s/it]\n",
      "Training (16133 / 18000 Steps) (loss=0.48459): 100%|██████████| 6/6 [00:07<00:00,  1.31s/it]\n",
      "Training (16139 / 18000 Steps) (loss=0.60496): 100%|██████████| 6/6 [00:07<00:00,  1.28s/it]\n",
      "Training (16145 / 18000 Steps) (loss=0.52667): 100%|██████████| 6/6 [00:07<00:00,  1.28s/it]\n",
      "Training (16151 / 18000 Steps) (loss=0.48565): 100%|██████████| 6/6 [00:07<00:00,  1.27s/it]\n",
      "Training (16157 / 18000 Steps) (loss=0.20106): 100%|██████████| 6/6 [00:07<00:00,  1.28s/it]\n",
      "Training (16163 / 18000 Steps) (loss=0.45463): 100%|██████████| 6/6 [00:07<00:00,  1.25s/it]\n",
      "Training (16169 / 18000 Steps) (loss=0.47068): 100%|██████████| 6/6 [00:07<00:00,  1.24s/it]\n",
      "Training (16175 / 18000 Steps) (loss=0.34488): 100%|██████████| 6/6 [00:08<00:00,  1.34s/it]\n",
      "Training (16181 / 18000 Steps) (loss=0.40059): 100%|██████████| 6/6 [00:07<00:00,  1.27s/it]\n",
      "Training (16187 / 18000 Steps) (loss=0.38902): 100%|██████████| 6/6 [00:07<00:00,  1.26s/it]\n",
      "Training (16193 / 18000 Steps) (loss=0.33395): 100%|██████████| 6/6 [00:07<00:00,  1.25s/it]\n",
      "Training (16199 / 18000 Steps) (loss=0.22043): 100%|██████████| 6/6 [00:07<00:00,  1.33s/it]\n",
      "Validate (16200 / 10 Steps): 100%|██████████| 3/3 [00:05<00:00,  1.86s/it]<?, ?it/s]\n",
      "Training (16200 / 18000 Steps) (loss=0.26553):  17%|█▋        | 1/6 [00:09<00:46,  9.27s/it]"
     ]
    },
    {
     "name": "stdout",
     "output_type": "stream",
     "text": [
      "Model Was Not Saved ! Current Best Avg. Dice: 0.2967126667499542 Current Avg. Dice: 0.2321079969406128 Current Avg. tumor Dice: 0.285253643989563 Current Avg. lymph Dice: 0.1789623498916626\n"
     ]
    },
    {
     "name": "stderr",
     "output_type": "stream",
     "text": [
      "Training (16205 / 18000 Steps) (loss=0.46444): 100%|██████████| 6/6 [00:13<00:00,  2.24s/it]\n",
      "Training (16211 / 18000 Steps) (loss=0.39255): 100%|██████████| 6/6 [00:07<00:00,  1.28s/it]\n",
      "Training (16217 / 18000 Steps) (loss=0.43472): 100%|██████████| 6/6 [00:07<00:00,  1.32s/it]\n",
      "Training (16223 / 18000 Steps) (loss=0.23970): 100%|██████████| 6/6 [00:07<00:00,  1.27s/it]\n",
      "Training (16229 / 18000 Steps) (loss=0.20025): 100%|██████████| 6/6 [00:07<00:00,  1.25s/it]\n",
      "Training (16235 / 18000 Steps) (loss=0.40345): 100%|██████████| 6/6 [00:07<00:00,  1.23s/it]\n",
      "Training (16241 / 18000 Steps) (loss=0.27027): 100%|██████████| 6/6 [00:07<00:00,  1.23s/it]\n",
      "Training (16247 / 18000 Steps) (loss=0.23183): 100%|██████████| 6/6 [00:08<00:00,  1.34s/it]\n",
      "Training (16253 / 18000 Steps) (loss=0.43414): 100%|██████████| 6/6 [00:07<00:00,  1.32s/it]\n",
      "Training (16259 / 18000 Steps) (loss=0.35739): 100%|██████████| 6/6 [00:07<00:00,  1.29s/it]\n",
      "Training (16265 / 18000 Steps) (loss=0.34424): 100%|██████████| 6/6 [00:08<00:00,  1.34s/it]\n",
      "Training (16271 / 18000 Steps) (loss=0.32099): 100%|██████████| 6/6 [00:07<00:00,  1.30s/it]\n",
      "Training (16277 / 18000 Steps) (loss=0.40810): 100%|██████████| 6/6 [00:07<00:00,  1.27s/it]\n",
      "Training (16283 / 18000 Steps) (loss=0.22688): 100%|██████████| 6/6 [00:07<00:00,  1.25s/it]\n",
      "Training (16289 / 18000 Steps) (loss=0.46064): 100%|██████████| 6/6 [00:07<00:00,  1.29s/it]\n",
      "Training (16295 / 18000 Steps) (loss=0.45812): 100%|██████████| 6/6 [00:07<00:00,  1.29s/it]\n",
      "Validate (16296 / 10 Steps): 100%|██████████| 3/3 [00:05<00:00,  1.86s/it]<00:02,  1.21s/it]\n",
      "Training (16300 / 18000 Steps) (loss=0.31727):  83%|████████▎ | 5/6 [00:12<00:03,  3.10s/it]"
     ]
    },
    {
     "name": "stdout",
     "output_type": "stream",
     "text": [
      "Model Was Not Saved ! Current Best Avg. Dice: 0.2967126667499542 Current Avg. Dice: 0.15132205188274384 Current Avg. tumor Dice: 0.22982458770275116 Current Avg. lymph Dice: 0.07281951606273651\n"
     ]
    },
    {
     "name": "stderr",
     "output_type": "stream",
     "text": [
      "Training (16301 / 18000 Steps) (loss=0.36778): 100%|██████████| 6/6 [00:13<00:00,  2.20s/it]\n",
      "Training (16307 / 18000 Steps) (loss=0.29949): 100%|██████████| 6/6 [00:07<00:00,  1.26s/it]\n",
      "Training (16313 / 18000 Steps) (loss=0.46122): 100%|██████████| 6/6 [00:07<00:00,  1.30s/it]\n",
      "Training (16319 / 18000 Steps) (loss=0.45530): 100%|██████████| 6/6 [00:07<00:00,  1.29s/it]\n",
      "Training (16325 / 18000 Steps) (loss=0.38274): 100%|██████████| 6/6 [00:07<00:00,  1.30s/it]\n",
      "Training (16331 / 18000 Steps) (loss=0.25851): 100%|██████████| 6/6 [00:07<00:00,  1.30s/it]\n",
      "Training (16337 / 18000 Steps) (loss=0.31622): 100%|██████████| 6/6 [00:07<00:00,  1.31s/it]\n",
      "Training (16343 / 18000 Steps) (loss=0.62272): 100%|██████████| 6/6 [00:07<00:00,  1.30s/it]\n",
      "Training (16349 / 18000 Steps) (loss=0.16448): 100%|██████████| 6/6 [00:07<00:00,  1.29s/it]\n",
      "Training (16355 / 18000 Steps) (loss=0.14450): 100%|██████████| 6/6 [00:07<00:00,  1.26s/it]\n",
      "Training (16361 / 18000 Steps) (loss=0.40580): 100%|██████████| 6/6 [00:07<00:00,  1.31s/it]\n",
      "Training (16367 / 18000 Steps) (loss=0.42990): 100%|██████████| 6/6 [00:07<00:00,  1.26s/it]\n",
      "Training (16373 / 18000 Steps) (loss=0.45002): 100%|██████████| 6/6 [00:07<00:00,  1.24s/it]\n",
      "Training (16379 / 18000 Steps) (loss=0.54256): 100%|██████████| 6/6 [00:07<00:00,  1.29s/it]\n",
      "Training (16385 / 18000 Steps) (loss=0.35805): 100%|██████████| 6/6 [00:07<00:00,  1.28s/it]\n",
      "Training (16391 / 18000 Steps) (loss=0.37729): 100%|██████████| 6/6 [00:07<00:00,  1.30s/it]\n",
      "Training (16397 / 18000 Steps) (loss=0.36287): 100%|██████████| 6/6 [00:07<00:00,  1.30s/it]\n",
      "Validate (16398 / 10 Steps): 100%|██████████| 3/3 [00:05<00:00,  1.90s/it]<00:08,  2.06s/it]\n",
      "Training (16400 / 18000 Steps) (loss=0.52414):  50%|█████     | 3/6 [00:11<00:12,  4.17s/it]"
     ]
    },
    {
     "name": "stdout",
     "output_type": "stream",
     "text": [
      "Model Was Not Saved ! Current Best Avg. Dice: 0.2967126667499542 Current Avg. Dice: 0.23127615451812744 Current Avg. tumor Dice: 0.28703364729881287 Current Avg. lymph Dice: 0.17551858723163605\n"
     ]
    },
    {
     "name": "stderr",
     "output_type": "stream",
     "text": [
      "Training (16403 / 18000 Steps) (loss=0.43412): 100%|██████████| 6/6 [00:13<00:00,  2.29s/it]\n",
      "Training (16409 / 18000 Steps) (loss=0.16848): 100%|██████████| 6/6 [00:07<00:00,  1.29s/it]\n",
      "Training (16415 / 18000 Steps) (loss=0.36838): 100%|██████████| 6/6 [00:07<00:00,  1.25s/it]\n",
      "Training (16421 / 18000 Steps) (loss=0.37666): 100%|██████████| 6/6 [00:07<00:00,  1.25s/it]\n",
      "Training (16427 / 18000 Steps) (loss=0.26515): 100%|██████████| 6/6 [00:07<00:00,  1.23s/it]\n",
      "Training (16433 / 18000 Steps) (loss=0.54483): 100%|██████████| 6/6 [00:07<00:00,  1.24s/it]\n",
      "Training (16439 / 18000 Steps) (loss=0.21809): 100%|██████████| 6/6 [00:07<00:00,  1.27s/it]\n",
      "Training (16445 / 18000 Steps) (loss=0.36672): 100%|██████████| 6/6 [00:07<00:00,  1.27s/it]\n",
      "Training (16451 / 18000 Steps) (loss=0.53999): 100%|██████████| 6/6 [00:07<00:00,  1.31s/it]\n",
      "Training (16457 / 18000 Steps) (loss=0.38429): 100%|██████████| 6/6 [00:07<00:00,  1.28s/it]\n",
      "Training (16463 / 18000 Steps) (loss=0.26841): 100%|██████████| 6/6 [00:07<00:00,  1.32s/it]\n",
      "Training (16469 / 18000 Steps) (loss=0.29874): 100%|██████████| 6/6 [00:07<00:00,  1.27s/it]\n",
      "Training (16475 / 18000 Steps) (loss=0.26882): 100%|██████████| 6/6 [00:08<00:00,  1.35s/it]\n",
      "Training (16481 / 18000 Steps) (loss=0.21712): 100%|██████████| 6/6 [00:07<00:00,  1.26s/it]\n",
      "Training (16487 / 18000 Steps) (loss=0.40268): 100%|██████████| 6/6 [00:07<00:00,  1.26s/it]\n",
      "Training (16493 / 18000 Steps) (loss=0.36907): 100%|██████████| 6/6 [00:07<00:00,  1.26s/it]\n",
      "Training (16499 / 18000 Steps) (loss=0.39709): 100%|██████████| 6/6 [00:07<00:00,  1.29s/it]\n",
      "Validate (16500 / 10 Steps): 100%|██████████| 3/3 [00:05<00:00,  1.85s/it]<?, ?it/s]\n",
      "Training (16500 / 18000 Steps) (loss=0.38846):  17%|█▋        | 1/6 [00:09<00:46,  9.22s/it]"
     ]
    },
    {
     "name": "stdout",
     "output_type": "stream",
     "text": [
      "Model Was Not Saved ! Current Best Avg. Dice: 0.2967126667499542 Current Avg. Dice: 0.19258803129196167 Current Avg. tumor Dice: 0.2564292252063751 Current Avg. lymph Dice: 0.1287468671798706\n"
     ]
    },
    {
     "name": "stderr",
     "output_type": "stream",
     "text": [
      "Training (16505 / 18000 Steps) (loss=0.52099): 100%|██████████| 6/6 [00:13<00:00,  2.22s/it]\n",
      "Training (16511 / 18000 Steps) (loss=0.30539): 100%|██████████| 6/6 [00:07<00:00,  1.29s/it]\n",
      "Training (16517 / 18000 Steps) (loss=0.25908): 100%|██████████| 6/6 [00:07<00:00,  1.28s/it]\n",
      "Training (16523 / 18000 Steps) (loss=0.17073): 100%|██████████| 6/6 [00:07<00:00,  1.27s/it]\n",
      "Training (16529 / 18000 Steps) (loss=0.55889): 100%|██████████| 6/6 [00:07<00:00,  1.31s/it]\n",
      "Training (16535 / 18000 Steps) (loss=0.42863): 100%|██████████| 6/6 [00:07<00:00,  1.32s/it]\n",
      "Training (16541 / 18000 Steps) (loss=0.44780): 100%|██████████| 6/6 [00:08<00:00,  1.34s/it]\n",
      "Training (16547 / 18000 Steps) (loss=0.34088): 100%|██████████| 6/6 [00:07<00:00,  1.30s/it]\n",
      "Training (16553 / 18000 Steps) (loss=0.23241): 100%|██████████| 6/6 [00:07<00:00,  1.32s/it]\n",
      "Training (16559 / 18000 Steps) (loss=0.28338): 100%|██████████| 6/6 [00:07<00:00,  1.32s/it]\n",
      "Training (16565 / 18000 Steps) (loss=0.46887): 100%|██████████| 6/6 [00:07<00:00,  1.26s/it]\n",
      "Training (16571 / 18000 Steps) (loss=0.24209): 100%|██████████| 6/6 [00:07<00:00,  1.24s/it]\n",
      "Training (16577 / 18000 Steps) (loss=0.48837): 100%|██████████| 6/6 [00:07<00:00,  1.24s/it]\n",
      "Training (16583 / 18000 Steps) (loss=0.43052): 100%|██████████| 6/6 [00:07<00:00,  1.27s/it]\n",
      "Training (16589 / 18000 Steps) (loss=0.25673): 100%|██████████| 6/6 [00:07<00:00,  1.29s/it]\n",
      "Training (16595 / 18000 Steps) (loss=0.28459): 100%|██████████| 6/6 [00:07<00:00,  1.30s/it]\n",
      "Validate (16596 / 10 Steps): 100%|██████████| 3/3 [00:05<00:00,  1.89s/it]<00:02,  1.24s/it]\n",
      "Training (16600 / 18000 Steps) (loss=0.26313):  83%|████████▎ | 5/6 [00:12<00:03,  3.18s/it]"
     ]
    },
    {
     "name": "stdout",
     "output_type": "stream",
     "text": [
      "Model Was Not Saved ! Current Best Avg. Dice: 0.2967126667499542 Current Avg. Dice: 0.2326662391424179 Current Avg. tumor Dice: 0.32405778765678406 Current Avg. lymph Dice: 0.14127467572689056\n"
     ]
    },
    {
     "name": "stderr",
     "output_type": "stream",
     "text": [
      "Training (16601 / 18000 Steps) (loss=0.42527): 100%|██████████| 6/6 [00:13<00:00,  2.25s/it]\n",
      "Training (16607 / 18000 Steps) (loss=0.46363): 100%|██████████| 6/6 [00:07<00:00,  1.33s/it]\n",
      "Training (16613 / 18000 Steps) (loss=0.47220): 100%|██████████| 6/6 [00:07<00:00,  1.26s/it]\n",
      "Training (16619 / 18000 Steps) (loss=0.41766): 100%|██████████| 6/6 [00:07<00:00,  1.26s/it]\n",
      "Training (16625 / 18000 Steps) (loss=0.32224): 100%|██████████| 6/6 [00:07<00:00,  1.31s/it]\n",
      "Training (16631 / 18000 Steps) (loss=0.24191): 100%|██████████| 6/6 [00:07<00:00,  1.27s/it]\n",
      "Training (16637 / 18000 Steps) (loss=0.52848): 100%|██████████| 6/6 [00:07<00:00,  1.33s/it]\n",
      "Training (16643 / 18000 Steps) (loss=0.19221): 100%|██████████| 6/6 [00:07<00:00,  1.25s/it]\n",
      "Training (16649 / 18000 Steps) (loss=0.45644): 100%|██████████| 6/6 [00:07<00:00,  1.27s/it]\n",
      "Training (16655 / 18000 Steps) (loss=0.25550): 100%|██████████| 6/6 [00:07<00:00,  1.30s/it]\n",
      "Training (16661 / 18000 Steps) (loss=0.47413): 100%|██████████| 6/6 [00:07<00:00,  1.30s/it]\n",
      "Training (16667 / 18000 Steps) (loss=0.32608): 100%|██████████| 6/6 [00:07<00:00,  1.31s/it]\n",
      "Training (16673 / 18000 Steps) (loss=0.41390): 100%|██████████| 6/6 [00:07<00:00,  1.32s/it]\n",
      "Training (16679 / 18000 Steps) (loss=0.30167): 100%|██████████| 6/6 [00:07<00:00,  1.32s/it]\n",
      "Training (16685 / 18000 Steps) (loss=0.26174): 100%|██████████| 6/6 [00:07<00:00,  1.26s/it]\n",
      "Training (16691 / 18000 Steps) (loss=0.31360): 100%|██████████| 6/6 [00:07<00:00,  1.30s/it]\n",
      "Training (16697 / 18000 Steps) (loss=0.44897): 100%|██████████| 6/6 [00:07<00:00,  1.29s/it]\n",
      "Validate (16698 / 10 Steps): 100%|██████████| 3/3 [00:05<00:00,  1.83s/it]<00:07,  1.85s/it]\n",
      "Training (16700 / 18000 Steps) (loss=0.31117):  50%|█████     | 3/6 [00:10<00:11,  3.91s/it]"
     ]
    },
    {
     "name": "stdout",
     "output_type": "stream",
     "text": [
      "Model Was Not Saved ! Current Best Avg. Dice: 0.2967126667499542 Current Avg. Dice: 0.13887010514736176 Current Avg. tumor Dice: 0.1628480851650238 Current Avg. lymph Dice: 0.1148921325802803\n"
     ]
    },
    {
     "name": "stderr",
     "output_type": "stream",
     "text": [
      "Training (16703 / 18000 Steps) (loss=0.21269): 100%|██████████| 6/6 [00:13<00:00,  2.19s/it]\n",
      "Training (16709 / 18000 Steps) (loss=0.54044): 100%|██████████| 6/6 [00:07<00:00,  1.24s/it]\n",
      "Training (16715 / 18000 Steps) (loss=0.40625): 100%|██████████| 6/6 [00:07<00:00,  1.26s/it]\n",
      "Training (16721 / 18000 Steps) (loss=0.43808): 100%|██████████| 6/6 [00:07<00:00,  1.27s/it]\n",
      "Training (16727 / 18000 Steps) (loss=0.11502): 100%|██████████| 6/6 [00:07<00:00,  1.28s/it]\n",
      "Training (16733 / 18000 Steps) (loss=0.66718): 100%|██████████| 6/6 [00:07<00:00,  1.32s/it]\n",
      "Training (16739 / 18000 Steps) (loss=0.17781): 100%|██████████| 6/6 [00:08<00:00,  1.34s/it]\n",
      "Training (16745 / 18000 Steps) (loss=0.23446): 100%|██████████| 6/6 [00:07<00:00,  1.27s/it]\n",
      "Training (16751 / 18000 Steps) (loss=0.40766): 100%|██████████| 6/6 [00:07<00:00,  1.30s/it]\n",
      "Training (16757 / 18000 Steps) (loss=0.47337): 100%|██████████| 6/6 [00:07<00:00,  1.31s/it]\n",
      "Training (16763 / 18000 Steps) (loss=0.22441): 100%|██████████| 6/6 [00:07<00:00,  1.27s/it]\n",
      "Training (16769 / 18000 Steps) (loss=0.28788): 100%|██████████| 6/6 [00:07<00:00,  1.23s/it]\n",
      "Training (16775 / 18000 Steps) (loss=0.50722): 100%|██████████| 6/6 [00:07<00:00,  1.26s/it]\n",
      "Training (16781 / 18000 Steps) (loss=0.47864): 100%|██████████| 6/6 [00:07<00:00,  1.27s/it]\n",
      "Training (16787 / 18000 Steps) (loss=0.32301): 100%|██████████| 6/6 [00:07<00:00,  1.33s/it]\n",
      "Training (16793 / 18000 Steps) (loss=0.20323): 100%|██████████| 6/6 [00:07<00:00,  1.29s/it]\n",
      "Training (16799 / 18000 Steps) (loss=0.26585): 100%|██████████| 6/6 [00:07<00:00,  1.27s/it]\n",
      "Validate (16800 / 10 Steps): 100%|██████████| 3/3 [00:05<00:00,  1.87s/it]<?, ?it/s]\n",
      "Training (16800 / 18000 Steps) (loss=0.26140):  17%|█▋        | 1/6 [00:09<00:47,  9.42s/it]"
     ]
    },
    {
     "name": "stdout",
     "output_type": "stream",
     "text": [
      "Model Was Not Saved ! Current Best Avg. Dice: 0.2967126667499542 Current Avg. Dice: 0.17386667430400848 Current Avg. tumor Dice: 0.19020313024520874 Current Avg. lymph Dice: 0.15753020346164703\n"
     ]
    },
    {
     "name": "stderr",
     "output_type": "stream",
     "text": [
      "Training (16805 / 18000 Steps) (loss=0.23487): 100%|██████████| 6/6 [00:13<00:00,  2.32s/it]\n",
      "Training (16811 / 18000 Steps) (loss=0.40222): 100%|██████████| 6/6 [00:07<00:00,  1.25s/it]\n",
      "Training (16817 / 18000 Steps) (loss=0.47186): 100%|██████████| 6/6 [00:07<00:00,  1.25s/it]\n",
      "Training (16823 / 18000 Steps) (loss=0.40246): 100%|██████████| 6/6 [00:07<00:00,  1.30s/it]\n",
      "Training (16829 / 18000 Steps) (loss=0.40668): 100%|██████████| 6/6 [00:07<00:00,  1.33s/it]\n",
      "Training (16835 / 18000 Steps) (loss=0.34511): 100%|██████████| 6/6 [00:07<00:00,  1.29s/it]\n",
      "Training (16841 / 18000 Steps) (loss=0.29544): 100%|██████████| 6/6 [00:07<00:00,  1.25s/it]\n",
      "Training (16847 / 18000 Steps) (loss=0.42173): 100%|██████████| 6/6 [00:07<00:00,  1.26s/it]\n",
      "Training (16853 / 18000 Steps) (loss=0.36919): 100%|██████████| 6/6 [00:08<00:00,  1.35s/it]\n",
      "Training (16859 / 18000 Steps) (loss=0.46898): 100%|██████████| 6/6 [00:07<00:00,  1.27s/it]\n",
      "Training (16865 / 18000 Steps) (loss=0.44487): 100%|██████████| 6/6 [00:07<00:00,  1.29s/it]\n",
      "Training (16871 / 18000 Steps) (loss=0.40608): 100%|██████████| 6/6 [00:07<00:00,  1.30s/it]\n",
      "Training (16877 / 18000 Steps) (loss=0.36687): 100%|██████████| 6/6 [00:07<00:00,  1.32s/it]\n",
      "Training (16883 / 18000 Steps) (loss=0.27026): 100%|██████████| 6/6 [00:07<00:00,  1.30s/it]\n",
      "Training (16889 / 18000 Steps) (loss=0.52785): 100%|██████████| 6/6 [00:07<00:00,  1.26s/it]\n",
      "Training (16895 / 18000 Steps) (loss=0.32104): 100%|██████████| 6/6 [00:07<00:00,  1.25s/it]\n",
      "Validate (16896 / 10 Steps): 100%|██████████| 3/3 [00:05<00:00,  1.80s/it]<00:02,  1.30s/it]\n",
      "Training (16900 / 18000 Steps) (loss=0.30835):  83%|████████▎ | 5/6 [00:12<00:03,  3.11s/it]"
     ]
    },
    {
     "name": "stdout",
     "output_type": "stream",
     "text": [
      "Model Was Not Saved ! Current Best Avg. Dice: 0.2967126667499542 Current Avg. Dice: 0.23013222217559814 Current Avg. tumor Dice: 0.2916608154773712 Current Avg. lymph Dice: 0.16860359907150269\n"
     ]
    },
    {
     "name": "stderr",
     "output_type": "stream",
     "text": [
      "Training (16901 / 18000 Steps) (loss=0.24329): 100%|██████████| 6/6 [00:13<00:00,  2.24s/it]\n",
      "Training (16907 / 18000 Steps) (loss=0.32941): 100%|██████████| 6/6 [00:07<00:00,  1.25s/it]\n",
      "Training (16913 / 18000 Steps) (loss=0.34268): 100%|██████████| 6/6 [00:07<00:00,  1.25s/it]\n",
      "Training (16919 / 18000 Steps) (loss=0.60059): 100%|██████████| 6/6 [00:07<00:00,  1.28s/it]\n",
      "Training (16925 / 18000 Steps) (loss=0.28243): 100%|██████████| 6/6 [00:07<00:00,  1.31s/it]\n",
      "Training (16931 / 18000 Steps) (loss=0.45141): 100%|██████████| 6/6 [00:07<00:00,  1.31s/it]\n",
      "Training (16937 / 18000 Steps) (loss=0.52763): 100%|██████████| 6/6 [00:07<00:00,  1.30s/it]\n",
      "Training (16943 / 18000 Steps) (loss=0.44203): 100%|██████████| 6/6 [00:07<00:00,  1.28s/it]\n",
      "Training (16949 / 18000 Steps) (loss=0.41250): 100%|██████████| 6/6 [00:07<00:00,  1.30s/it]\n",
      "Training (16955 / 18000 Steps) (loss=0.16197): 100%|██████████| 6/6 [00:07<00:00,  1.29s/it]\n",
      "Training (16961 / 18000 Steps) (loss=0.25044): 100%|██████████| 6/6 [00:07<00:00,  1.25s/it]\n",
      "Training (16967 / 18000 Steps) (loss=0.23164): 100%|██████████| 6/6 [00:07<00:00,  1.24s/it]\n",
      "Training (16973 / 18000 Steps) (loss=0.53055): 100%|██████████| 6/6 [00:07<00:00,  1.26s/it]\n",
      "Training (16979 / 18000 Steps) (loss=0.53584): 100%|██████████| 6/6 [00:07<00:00,  1.28s/it]\n",
      "Training (16985 / 18000 Steps) (loss=0.21531): 100%|██████████| 6/6 [00:07<00:00,  1.30s/it]\n",
      "Training (16991 / 18000 Steps) (loss=0.25824): 100%|██████████| 6/6 [00:07<00:00,  1.27s/it]\n",
      "Training (16997 / 18000 Steps) (loss=0.15696): 100%|██████████| 6/6 [00:07<00:00,  1.27s/it]\n",
      "Validate (16998 / 10 Steps): 100%|██████████| 3/3 [00:05<00:00,  1.84s/it]<00:08,  2.04s/it]\n",
      "Training (17000 / 18000 Steps) (loss=0.21149):  50%|█████     | 3/6 [00:11<00:12,  4.04s/it]"
     ]
    },
    {
     "name": "stdout",
     "output_type": "stream",
     "text": [
      "Model Was Not Saved ! Current Best Avg. Dice: 0.2967126667499542 Current Avg. Dice: 0.20485682785511017 Current Avg. tumor Dice: 0.23319195210933685 Current Avg. lymph Dice: 0.17652170360088348\n"
     ]
    },
    {
     "name": "stderr",
     "output_type": "stream",
     "text": [
      "Training (17003 / 18000 Steps) (loss=0.33425): 100%|██████████| 6/6 [00:13<00:00,  2.26s/it]\n",
      "Training (17009 / 18000 Steps) (loss=0.29992): 100%|██████████| 6/6 [00:07<00:00,  1.31s/it]\n",
      "Training (17015 / 18000 Steps) (loss=0.16217): 100%|██████████| 6/6 [00:07<00:00,  1.26s/it]\n",
      "Training (17021 / 18000 Steps) (loss=0.28975): 100%|██████████| 6/6 [00:07<00:00,  1.24s/it]\n",
      "Training (17027 / 18000 Steps) (loss=0.56583): 100%|██████████| 6/6 [00:07<00:00,  1.31s/it]\n",
      "Training (17033 / 18000 Steps) (loss=0.53438): 100%|██████████| 6/6 [00:07<00:00,  1.29s/it]\n",
      "Training (17039 / 18000 Steps) (loss=0.46373): 100%|██████████| 6/6 [00:07<00:00,  1.23s/it]\n",
      "Training (17045 / 18000 Steps) (loss=0.53903): 100%|██████████| 6/6 [00:07<00:00,  1.24s/it]\n",
      "Training (17051 / 18000 Steps) (loss=0.39626): 100%|██████████| 6/6 [00:08<00:00,  1.35s/it]\n",
      "Training (17057 / 18000 Steps) (loss=0.26395): 100%|██████████| 6/6 [00:07<00:00,  1.29s/it]\n",
      "Training (17063 / 18000 Steps) (loss=0.41745): 100%|██████████| 6/6 [00:07<00:00,  1.29s/it]\n",
      "Training (17069 / 18000 Steps) (loss=0.43163): 100%|██████████| 6/6 [00:07<00:00,  1.28s/it]\n",
      "Training (17075 / 18000 Steps) (loss=0.17037): 100%|██████████| 6/6 [00:07<00:00,  1.30s/it]\n",
      "Training (17081 / 18000 Steps) (loss=0.40590): 100%|██████████| 6/6 [00:08<00:00,  1.35s/it]\n",
      "Training (17087 / 18000 Steps) (loss=0.38318): 100%|██████████| 6/6 [00:07<00:00,  1.27s/it]\n",
      "Training (17093 / 18000 Steps) (loss=0.50241): 100%|██████████| 6/6 [00:07<00:00,  1.25s/it]\n",
      "Training (17099 / 18000 Steps) (loss=0.33337): 100%|██████████| 6/6 [00:08<00:00,  1.33s/it]\n",
      "Validate (17100 / 10 Steps): 100%|██████████| 3/3 [00:05<00:00,  1.82s/it]<?, ?it/s]\n",
      "Training (17100 / 18000 Steps) (loss=0.45589):  17%|█▋        | 1/6 [00:08<00:44,  8.96s/it]"
     ]
    },
    {
     "name": "stdout",
     "output_type": "stream",
     "text": [
      "Model Was Not Saved ! Current Best Avg. Dice: 0.2967126667499542 Current Avg. Dice: 0.26822200417518616 Current Avg. tumor Dice: 0.36992597579956055 Current Avg. lymph Dice: 0.16651801764965057\n"
     ]
    },
    {
     "name": "stderr",
     "output_type": "stream",
     "text": [
      "Training (17105 / 18000 Steps) (loss=0.69835): 100%|██████████| 6/6 [00:12<00:00,  2.16s/it]\n",
      "Training (17111 / 18000 Steps) (loss=0.48571): 100%|██████████| 6/6 [00:07<00:00,  1.23s/it]\n",
      "Training (17117 / 18000 Steps) (loss=0.46245): 100%|██████████| 6/6 [00:07<00:00,  1.24s/it]\n",
      "Training (17123 / 18000 Steps) (loss=0.52861): 100%|██████████| 6/6 [00:07<00:00,  1.30s/it]\n",
      "Training (17129 / 18000 Steps) (loss=0.45912): 100%|██████████| 6/6 [00:08<00:00,  1.37s/it]\n",
      "Training (17135 / 18000 Steps) (loss=0.53645): 100%|██████████| 6/6 [00:07<00:00,  1.27s/it]\n",
      "Training (17141 / 18000 Steps) (loss=0.45525): 100%|██████████| 6/6 [00:08<00:00,  1.36s/it]\n",
      "Training (17147 / 18000 Steps) (loss=0.39893): 100%|██████████| 6/6 [00:07<00:00,  1.30s/it]\n",
      "Training (17153 / 18000 Steps) (loss=0.48032): 100%|██████████| 6/6 [00:07<00:00,  1.25s/it]\n",
      "Training (17159 / 18000 Steps) (loss=0.32399): 100%|██████████| 6/6 [00:07<00:00,  1.32s/it]\n",
      "Training (17165 / 18000 Steps) (loss=0.45937): 100%|██████████| 6/6 [00:07<00:00,  1.26s/it]\n",
      "Training (17171 / 18000 Steps) (loss=0.35326): 100%|██████████| 6/6 [00:07<00:00,  1.25s/it]\n",
      "Training (17177 / 18000 Steps) (loss=0.29613): 100%|██████████| 6/6 [00:07<00:00,  1.29s/it]\n",
      "Training (17183 / 18000 Steps) (loss=0.25132): 100%|██████████| 6/6 [00:07<00:00,  1.25s/it]\n",
      "Training (17189 / 18000 Steps) (loss=0.59562): 100%|██████████| 6/6 [00:07<00:00,  1.26s/it]\n",
      "Training (17195 / 18000 Steps) (loss=0.52545): 100%|██████████| 6/6 [00:07<00:00,  1.32s/it]\n",
      "Validate (17196 / 10 Steps): 100%|██████████| 3/3 [00:05<00:00,  1.88s/it]<00:02,  1.23s/it]\n",
      "Training (17200 / 18000 Steps) (loss=0.48429):  83%|████████▎ | 5/6 [00:12<00:03,  3.16s/it]"
     ]
    },
    {
     "name": "stdout",
     "output_type": "stream",
     "text": [
      "Model Was Not Saved ! Current Best Avg. Dice: 0.2967126667499542 Current Avg. Dice: 0.27276143431663513 Current Avg. tumor Dice: 0.36101624369621277 Current Avg. lymph Dice: 0.1845066398382187\n"
     ]
    },
    {
     "name": "stderr",
     "output_type": "stream",
     "text": [
      "Training (17201 / 18000 Steps) (loss=0.45506): 100%|██████████| 6/6 [00:13<00:00,  2.24s/it]\n",
      "Training (17207 / 18000 Steps) (loss=0.43569): 100%|██████████| 6/6 [00:07<00:00,  1.30s/it]\n",
      "Training (17213 / 18000 Steps) (loss=0.25346): 100%|██████████| 6/6 [00:07<00:00,  1.31s/it]\n",
      "Training (17219 / 18000 Steps) (loss=0.30595): 100%|██████████| 6/6 [00:07<00:00,  1.25s/it]\n",
      "Training (17225 / 18000 Steps) (loss=0.32147): 100%|██████████| 6/6 [00:07<00:00,  1.30s/it]\n",
      "Training (17231 / 18000 Steps) (loss=0.24029): 100%|██████████| 6/6 [00:07<00:00,  1.31s/it]\n",
      "Training (17237 / 18000 Steps) (loss=0.41068): 100%|██████████| 6/6 [00:07<00:00,  1.26s/it]\n",
      "Training (17243 / 18000 Steps) (loss=0.29201): 100%|██████████| 6/6 [00:07<00:00,  1.28s/it]\n",
      "Training (17249 / 18000 Steps) (loss=0.37037): 100%|██████████| 6/6 [00:07<00:00,  1.23s/it]\n",
      "Training (17255 / 18000 Steps) (loss=0.55570): 100%|██████████| 6/6 [00:07<00:00,  1.29s/it]\n",
      "Training (17261 / 18000 Steps) (loss=0.22438): 100%|██████████| 6/6 [00:07<00:00,  1.30s/it]\n",
      "Training (17267 / 18000 Steps) (loss=0.40861): 100%|██████████| 6/6 [00:07<00:00,  1.26s/it]\n",
      "Training (17273 / 18000 Steps) (loss=0.30362): 100%|██████████| 6/6 [00:07<00:00,  1.31s/it]\n",
      "Training (17279 / 18000 Steps) (loss=0.28220): 100%|██████████| 6/6 [00:07<00:00,  1.32s/it]\n",
      "Training (17285 / 18000 Steps) (loss=0.53639): 100%|██████████| 6/6 [00:07<00:00,  1.32s/it]\n",
      "Training (17291 / 18000 Steps) (loss=0.26573): 100%|██████████| 6/6 [00:07<00:00,  1.28s/it]\n",
      "Training (17297 / 18000 Steps) (loss=0.23006): 100%|██████████| 6/6 [00:07<00:00,  1.26s/it]\n",
      "Validate (17298 / 10 Steps): 100%|██████████| 3/3 [00:05<00:00,  1.80s/it]<00:07,  1.89s/it]\n",
      "Training (17300 / 18000 Steps) (loss=0.33975):  50%|█████     | 3/6 [00:10<00:11,  3.91s/it]"
     ]
    },
    {
     "name": "stdout",
     "output_type": "stream",
     "text": [
      "Model Was Not Saved ! Current Best Avg. Dice: 0.2967126667499542 Current Avg. Dice: 0.2033485621213913 Current Avg. tumor Dice: 0.291168749332428 Current Avg. lymph Dice: 0.11552836745977402\n"
     ]
    },
    {
     "name": "stderr",
     "output_type": "stream",
     "text": [
      "Training (17303 / 18000 Steps) (loss=0.35971): 100%|██████████| 6/6 [00:12<00:00,  2.16s/it]\n",
      "Training (17309 / 18000 Steps) (loss=0.26991): 100%|██████████| 6/6 [00:07<00:00,  1.25s/it]\n",
      "Training (17315 / 18000 Steps) (loss=0.26019): 100%|██████████| 6/6 [00:07<00:00,  1.26s/it]\n",
      "Training (17321 / 18000 Steps) (loss=0.25176): 100%|██████████| 6/6 [00:07<00:00,  1.29s/it]\n",
      "Training (17327 / 18000 Steps) (loss=0.40835): 100%|██████████| 6/6 [00:07<00:00,  1.30s/it]\n",
      "Training (17333 / 18000 Steps) (loss=0.47237): 100%|██████████| 6/6 [00:07<00:00,  1.33s/it]\n",
      "Training (17339 / 18000 Steps) (loss=0.36776): 100%|██████████| 6/6 [00:07<00:00,  1.26s/it]\n",
      "Training (17345 / 18000 Steps) (loss=0.37825): 100%|██████████| 6/6 [00:07<00:00,  1.30s/it]\n",
      "Training (17351 / 18000 Steps) (loss=0.33014): 100%|██████████| 6/6 [00:07<00:00,  1.30s/it]\n",
      "Training (17357 / 18000 Steps) (loss=0.31688): 100%|██████████| 6/6 [00:07<00:00,  1.29s/it]\n",
      "Training (17363 / 18000 Steps) (loss=0.53280): 100%|██████████| 6/6 [00:07<00:00,  1.27s/it]\n",
      "Training (17369 / 18000 Steps) (loss=0.39594): 100%|██████████| 6/6 [00:07<00:00,  1.27s/it]\n",
      "Training (17375 / 18000 Steps) (loss=0.45841): 100%|██████████| 6/6 [00:07<00:00,  1.30s/it]\n",
      "Training (17381 / 18000 Steps) (loss=0.26116): 100%|██████████| 6/6 [00:07<00:00,  1.33s/it]\n",
      "Training (17387 / 18000 Steps) (loss=0.30928): 100%|██████████| 6/6 [00:07<00:00,  1.24s/it]\n",
      "Training (17393 / 18000 Steps) (loss=0.45974): 100%|██████████| 6/6 [00:07<00:00,  1.26s/it]\n",
      "Training (17399 / 18000 Steps) (loss=0.55968): 100%|██████████| 6/6 [00:07<00:00,  1.24s/it]\n",
      "Validate (17400 / 10 Steps): 100%|██████████| 3/3 [00:05<00:00,  1.80s/it]<?, ?it/s]\n",
      "Training (17400 / 18000 Steps) (loss=0.34584):  17%|█▋        | 1/6 [00:08<00:44,  8.91s/it]"
     ]
    },
    {
     "name": "stdout",
     "output_type": "stream",
     "text": [
      "Model Was Not Saved ! Current Best Avg. Dice: 0.2967126667499542 Current Avg. Dice: 0.24531114101409912 Current Avg. tumor Dice: 0.30694809556007385 Current Avg. lymph Dice: 0.1836741715669632\n"
     ]
    },
    {
     "name": "stderr",
     "output_type": "stream",
     "text": [
      "Training (17405 / 18000 Steps) (loss=0.52272): 100%|██████████| 6/6 [00:13<00:00,  2.20s/it]\n",
      "Training (17411 / 18000 Steps) (loss=0.46961): 100%|██████████| 6/6 [00:07<00:00,  1.25s/it]\n",
      "Training (17417 / 18000 Steps) (loss=0.27486): 100%|██████████| 6/6 [00:07<00:00,  1.27s/it]\n",
      "Training (17423 / 18000 Steps) (loss=0.45795): 100%|██████████| 6/6 [00:07<00:00,  1.26s/it]\n",
      "Training (17429 / 18000 Steps) (loss=0.55871): 100%|██████████| 6/6 [00:07<00:00,  1.29s/it]\n",
      "Training (17435 / 18000 Steps) (loss=0.43144): 100%|██████████| 6/6 [00:08<00:00,  1.38s/it]\n",
      "Training (17441 / 18000 Steps) (loss=0.29400): 100%|██████████| 6/6 [00:07<00:00,  1.26s/it]\n",
      "Training (17447 / 18000 Steps) (loss=0.11358): 100%|██████████| 6/6 [00:07<00:00,  1.25s/it]\n",
      "Training (17453 / 18000 Steps) (loss=0.59933): 100%|██████████| 6/6 [00:07<00:00,  1.25s/it]\n",
      "Training (17459 / 18000 Steps) (loss=0.43083): 100%|██████████| 6/6 [00:07<00:00,  1.30s/it]\n",
      "Training (17465 / 18000 Steps) (loss=0.42530): 100%|██████████| 6/6 [00:07<00:00,  1.26s/it]\n",
      "Training (17471 / 18000 Steps) (loss=0.35034): 100%|██████████| 6/6 [00:07<00:00,  1.27s/it]\n",
      "Training (17477 / 18000 Steps) (loss=0.52311): 100%|██████████| 6/6 [00:07<00:00,  1.30s/it]\n",
      "Training (17483 / 18000 Steps) (loss=0.27772): 100%|██████████| 6/6 [00:07<00:00,  1.25s/it]\n",
      "Training (17489 / 18000 Steps) (loss=0.25494): 100%|██████████| 6/6 [00:07<00:00,  1.24s/it]\n",
      "Training (17495 / 18000 Steps) (loss=0.53281): 100%|██████████| 6/6 [00:07<00:00,  1.24s/it]\n",
      "Validate (17496 / 10 Steps): 100%|██████████| 3/3 [00:05<00:00,  1.80s/it]<00:02,  1.16s/it]\n",
      "Training (17500 / 18000 Steps) (loss=0.27646):  83%|████████▎ | 5/6 [00:12<00:03,  3.00s/it]"
     ]
    },
    {
     "name": "stdout",
     "output_type": "stream",
     "text": [
      "Model Was Not Saved ! Current Best Avg. Dice: 0.2967126667499542 Current Avg. Dice: 0.2313380241394043 Current Avg. tumor Dice: 0.31000614166259766 Current Avg. lymph Dice: 0.15266989171504974\n"
     ]
    },
    {
     "name": "stderr",
     "output_type": "stream",
     "text": [
      "Training (17501 / 18000 Steps) (loss=0.47763): 100%|██████████| 6/6 [00:12<00:00,  2.15s/it]\n",
      "Training (17507 / 18000 Steps) (loss=0.29617): 100%|██████████| 6/6 [00:07<00:00,  1.28s/it]\n",
      "Training (17513 / 18000 Steps) (loss=0.28579): 100%|██████████| 6/6 [00:07<00:00,  1.25s/it]\n",
      "Training (17519 / 18000 Steps) (loss=0.60782): 100%|██████████| 6/6 [00:07<00:00,  1.28s/it]\n",
      "Training (17525 / 18000 Steps) (loss=0.53773): 100%|██████████| 6/6 [00:07<00:00,  1.29s/it]\n",
      "Training (17531 / 18000 Steps) (loss=0.49947): 100%|██████████| 6/6 [00:07<00:00,  1.28s/it]\n",
      "Training (17537 / 18000 Steps) (loss=0.31170): 100%|██████████| 6/6 [00:07<00:00,  1.26s/it]\n",
      "Training (17543 / 18000 Steps) (loss=0.52991): 100%|██████████| 6/6 [00:07<00:00,  1.23s/it]\n",
      "Training (17549 / 18000 Steps) (loss=0.22889): 100%|██████████| 6/6 [00:07<00:00,  1.26s/it]\n",
      "Training (17555 / 18000 Steps) (loss=0.28485): 100%|██████████| 6/6 [00:07<00:00,  1.23s/it]\n",
      "Training (17561 / 18000 Steps) (loss=0.35899): 100%|██████████| 6/6 [00:07<00:00,  1.31s/it]\n",
      "Training (17567 / 18000 Steps) (loss=0.34892): 100%|██████████| 6/6 [00:07<00:00,  1.28s/it]\n",
      "Training (17573 / 18000 Steps) (loss=0.32171): 100%|██████████| 6/6 [00:07<00:00,  1.29s/it]\n",
      "Training (17579 / 18000 Steps) (loss=0.50302): 100%|██████████| 6/6 [00:07<00:00,  1.26s/it]\n",
      "Training (17585 / 18000 Steps) (loss=0.37703): 100%|██████████| 6/6 [00:07<00:00,  1.25s/it]\n",
      "Training (17591 / 18000 Steps) (loss=0.38750): 100%|██████████| 6/6 [00:07<00:00,  1.27s/it]\n",
      "Training (17597 / 18000 Steps) (loss=0.26719): 100%|██████████| 6/6 [00:07<00:00,  1.24s/it]\n",
      "Validate (17598 / 10 Steps): 100%|██████████| 3/3 [00:05<00:00,  1.80s/it]<00:07,  1.91s/it]\n",
      "Training (17600 / 18000 Steps) (loss=0.42750):  50%|█████     | 3/6 [00:10<00:11,  3.89s/it]"
     ]
    },
    {
     "name": "stdout",
     "output_type": "stream",
     "text": [
      "Model Was Not Saved ! Current Best Avg. Dice: 0.2967126667499542 Current Avg. Dice: 0.19391393661499023 Current Avg. tumor Dice: 0.22866909205913544 Current Avg. lymph Dice: 0.15915878117084503\n"
     ]
    },
    {
     "name": "stderr",
     "output_type": "stream",
     "text": [
      "Training (17603 / 18000 Steps) (loss=0.34937): 100%|██████████| 6/6 [00:12<00:00,  2.15s/it]\n",
      "Training (17609 / 18000 Steps) (loss=0.32988): 100%|██████████| 6/6 [00:07<00:00,  1.28s/it]\n",
      "Training (17615 / 18000 Steps) (loss=0.37009): 100%|██████████| 6/6 [00:07<00:00,  1.30s/it]\n",
      "Training (17621 / 18000 Steps) (loss=0.33724): 100%|██████████| 6/6 [00:07<00:00,  1.31s/it]\n",
      "Training (17627 / 18000 Steps) (loss=0.12987): 100%|██████████| 6/6 [00:07<00:00,  1.25s/it]\n",
      "Training (17633 / 18000 Steps) (loss=0.25276): 100%|██████████| 6/6 [00:07<00:00,  1.26s/it]\n",
      "Training (17639 / 18000 Steps) (loss=0.21162): 100%|██████████| 6/6 [00:07<00:00,  1.27s/it]\n",
      "Training (17645 / 18000 Steps) (loss=0.29072): 100%|██████████| 6/6 [00:07<00:00,  1.25s/it]\n",
      "Training (17651 / 18000 Steps) (loss=0.39401): 100%|██████████| 6/6 [00:07<00:00,  1.26s/it]\n",
      "Training (17657 / 18000 Steps) (loss=0.32009): 100%|██████████| 6/6 [00:07<00:00,  1.25s/it]\n",
      "Training (17663 / 18000 Steps) (loss=0.24802): 100%|██████████| 6/6 [00:07<00:00,  1.31s/it]\n",
      "Training (17669 / 18000 Steps) (loss=0.40932): 100%|██████████| 6/6 [00:07<00:00,  1.33s/it]\n",
      "Training (17675 / 18000 Steps) (loss=0.22421): 100%|██████████| 6/6 [00:07<00:00,  1.24s/it]\n",
      "Training (17681 / 18000 Steps) (loss=0.32857): 100%|██████████| 6/6 [00:07<00:00,  1.25s/it]\n",
      "Training (17687 / 18000 Steps) (loss=0.29443): 100%|██████████| 6/6 [00:07<00:00,  1.30s/it]\n",
      "Training (17693 / 18000 Steps) (loss=0.38918): 100%|██████████| 6/6 [00:07<00:00,  1.28s/it]\n",
      "Training (17699 / 18000 Steps) (loss=0.42833): 100%|██████████| 6/6 [00:07<00:00,  1.26s/it]\n",
      "Validate (17700 / 10 Steps): 100%|██████████| 3/3 [00:05<00:00,  1.78s/it]<?, ?it/s]\n",
      "Training (17700 / 18000 Steps) (loss=0.31018):  17%|█▋        | 1/6 [00:08<00:43,  8.71s/it]"
     ]
    },
    {
     "name": "stdout",
     "output_type": "stream",
     "text": [
      "Model Was Not Saved ! Current Best Avg. Dice: 0.2967126667499542 Current Avg. Dice: 0.20059232413768768 Current Avg. tumor Dice: 0.2051558643579483 Current Avg. lymph Dice: 0.19602881371974945\n"
     ]
    },
    {
     "name": "stderr",
     "output_type": "stream",
     "text": [
      "Training (17705 / 18000 Steps) (loss=0.39856): 100%|██████████| 6/6 [00:12<00:00,  2.13s/it]\n",
      "Training (17711 / 18000 Steps) (loss=0.30659): 100%|██████████| 6/6 [00:07<00:00,  1.33s/it]\n",
      "Training (17717 / 18000 Steps) (loss=0.53079): 100%|██████████| 6/6 [00:07<00:00,  1.27s/it]\n",
      "Training (17723 / 18000 Steps) (loss=0.35237): 100%|██████████| 6/6 [00:07<00:00,  1.28s/it]\n",
      "Training (17729 / 18000 Steps) (loss=0.29874): 100%|██████████| 6/6 [00:07<00:00,  1.22s/it]\n",
      "Training (17735 / 18000 Steps) (loss=0.47428): 100%|██████████| 6/6 [00:07<00:00,  1.24s/it]\n",
      "Training (17741 / 18000 Steps) (loss=0.43394): 100%|██████████| 6/6 [00:07<00:00,  1.32s/it]\n",
      "Training (17747 / 18000 Steps) (loss=0.29711): 100%|██████████| 6/6 [00:07<00:00,  1.25s/it]\n",
      "Training (17753 / 18000 Steps) (loss=0.29179): 100%|██████████| 6/6 [00:07<00:00,  1.26s/it]\n",
      "Training (17759 / 18000 Steps) (loss=0.34729): 100%|██████████| 6/6 [00:07<00:00,  1.27s/it]\n",
      "Training (17765 / 18000 Steps) (loss=0.45603): 100%|██████████| 6/6 [00:07<00:00,  1.27s/it]\n",
      "Training (17771 / 18000 Steps) (loss=0.39887): 100%|██████████| 6/6 [00:07<00:00,  1.32s/it]\n",
      "Training (17777 / 18000 Steps) (loss=0.27907): 100%|██████████| 6/6 [00:07<00:00,  1.21s/it]\n",
      "Training (17783 / 18000 Steps) (loss=0.53431): 100%|██████████| 6/6 [00:07<00:00,  1.27s/it]\n",
      "Training (17789 / 18000 Steps) (loss=0.29292): 100%|██████████| 6/6 [00:07<00:00,  1.25s/it]\n",
      "Training (17795 / 18000 Steps) (loss=0.46805): 100%|██████████| 6/6 [00:07<00:00,  1.24s/it]\n",
      "Validate (17796 / 10 Steps): 100%|██████████| 3/3 [00:05<00:00,  1.81s/it]<00:02,  1.21s/it]\n",
      "Training (17800 / 18000 Steps) (loss=0.21271):  83%|████████▎ | 5/6 [00:12<00:03,  3.05s/it]"
     ]
    },
    {
     "name": "stdout",
     "output_type": "stream",
     "text": [
      "Model Was Not Saved ! Current Best Avg. Dice: 0.2967126667499542 Current Avg. Dice: 0.25472185015678406 Current Avg. tumor Dice: 0.32920679450035095 Current Avg. lymph Dice: 0.18023689091205597\n"
     ]
    },
    {
     "name": "stderr",
     "output_type": "stream",
     "text": [
      "Training (17801 / 18000 Steps) (loss=0.52779): 100%|██████████| 6/6 [00:13<00:00,  2.19s/it]\n",
      "Training (17807 / 18000 Steps) (loss=0.39667): 100%|██████████| 6/6 [00:07<00:00,  1.27s/it]\n",
      "Training (17813 / 18000 Steps) (loss=0.57122): 100%|██████████| 6/6 [00:07<00:00,  1.33s/it]\n",
      "Training (17819 / 18000 Steps) (loss=0.27092): 100%|██████████| 6/6 [00:07<00:00,  1.24s/it]\n",
      "Training (17825 / 18000 Steps) (loss=0.30506): 100%|██████████| 6/6 [00:07<00:00,  1.25s/it]\n",
      "Training (17831 / 18000 Steps) (loss=0.27457): 100%|██████████| 6/6 [00:07<00:00,  1.25s/it]\n",
      "Training (17837 / 18000 Steps) (loss=0.35809): 100%|██████████| 6/6 [00:07<00:00,  1.27s/it]\n",
      "Training (17843 / 18000 Steps) (loss=0.52968): 100%|██████████| 6/6 [00:07<00:00,  1.29s/it]\n",
      "Training (17849 / 18000 Steps) (loss=0.33012): 100%|██████████| 6/6 [00:07<00:00,  1.24s/it]\n",
      "Training (17855 / 18000 Steps) (loss=0.47263): 100%|██████████| 6/6 [00:07<00:00,  1.26s/it]\n",
      "Training (17861 / 18000 Steps) (loss=0.38448): 100%|██████████| 6/6 [00:07<00:00,  1.31s/it]\n",
      "Training (17867 / 18000 Steps) (loss=0.39203): 100%|██████████| 6/6 [00:07<00:00,  1.30s/it]\n",
      "Training (17873 / 18000 Steps) (loss=0.44887): 100%|██████████| 6/6 [00:07<00:00,  1.28s/it]\n",
      "Training (17879 / 18000 Steps) (loss=0.34760): 100%|██████████| 6/6 [00:07<00:00,  1.22s/it]\n",
      "Training (17885 / 18000 Steps) (loss=0.37725): 100%|██████████| 6/6 [00:07<00:00,  1.26s/it]\n",
      "Training (17891 / 18000 Steps) (loss=0.59918): 100%|██████████| 6/6 [00:07<00:00,  1.25s/it]\n",
      "Training (17897 / 18000 Steps) (loss=0.28561): 100%|██████████| 6/6 [00:07<00:00,  1.29s/it]\n",
      "Validate (17898 / 10 Steps): 100%|██████████| 3/3 [00:05<00:00,  1.82s/it]<00:07,  1.93s/it]\n",
      "Training (17900 / 18000 Steps) (loss=0.38967):  50%|█████     | 3/6 [00:10<00:11,  3.95s/it]"
     ]
    },
    {
     "name": "stdout",
     "output_type": "stream",
     "text": [
      "Model Was Not Saved ! Current Best Avg. Dice: 0.2967126667499542 Current Avg. Dice: 0.2442600280046463 Current Avg. tumor Dice: 0.36843690276145935 Current Avg. lymph Dice: 0.12008321285247803\n"
     ]
    },
    {
     "name": "stderr",
     "output_type": "stream",
     "text": [
      "Training (17903 / 18000 Steps) (loss=0.10170): 100%|██████████| 6/6 [00:13<00:00,  2.21s/it]\n",
      "Training (17909 / 18000 Steps) (loss=0.34178): 100%|██████████| 6/6 [00:07<00:00,  1.25s/it]\n",
      "Training (17915 / 18000 Steps) (loss=0.35678): 100%|██████████| 6/6 [00:07<00:00,  1.28s/it]\n",
      "Training (17921 / 18000 Steps) (loss=0.19498): 100%|██████████| 6/6 [00:07<00:00,  1.30s/it]\n",
      "Training (17927 / 18000 Steps) (loss=0.39981): 100%|██████████| 6/6 [00:07<00:00,  1.26s/it]\n",
      "Training (17933 / 18000 Steps) (loss=0.30832): 100%|██████████| 6/6 [00:07<00:00,  1.24s/it]\n",
      "Training (17939 / 18000 Steps) (loss=0.39487): 100%|██████████| 6/6 [00:07<00:00,  1.23s/it]\n",
      "Training (17945 / 18000 Steps) (loss=0.25161): 100%|██████████| 6/6 [00:07<00:00,  1.26s/it]\n",
      "Training (17951 / 18000 Steps) (loss=0.63325): 100%|██████████| 6/6 [00:07<00:00,  1.28s/it]\n",
      "Training (17957 / 18000 Steps) (loss=0.49301): 100%|██████████| 6/6 [00:07<00:00,  1.24s/it]\n",
      "Training (17963 / 18000 Steps) (loss=0.48055): 100%|██████████| 6/6 [00:07<00:00,  1.24s/it]\n",
      "Training (17969 / 18000 Steps) (loss=0.47636): 100%|██████████| 6/6 [00:07<00:00,  1.30s/it]\n",
      "Training (17975 / 18000 Steps) (loss=0.53898): 100%|██████████| 6/6 [00:07<00:00,  1.25s/it]\n",
      "Training (17981 / 18000 Steps) (loss=0.38601): 100%|██████████| 6/6 [00:07<00:00,  1.24s/it]\n",
      "Training (17987 / 18000 Steps) (loss=0.45361): 100%|██████████| 6/6 [00:07<00:00,  1.22s/it]\n",
      "Training (17993 / 18000 Steps) (loss=0.33979): 100%|██████████| 6/6 [00:07<00:00,  1.33s/it]\n",
      "Training (17999 / 18000 Steps) (loss=0.54857): 100%|██████████| 6/6 [00:07<00:00,  1.29s/it]\n"
     ]
    }
   ],
   "source": [
    "epoch = 0 # used for LR scheduler\n",
    "max_num_epochs = 530 # used for LR scheduler\n",
    "\n",
    "torch.autograd.set_detect_anomaly(True)  # Enable anomaly detection\n",
    "\n",
    "while global_step < max_iterations:\n",
    "    global_step, dice_val_best, global_step_best = train(\n",
    "        global_step, train_loader, dice_val_best, global_step_best\n",
    "    )\n",
    "    epoch += 1\n",
    "    #optimizer.param_groups[0]['lr'] = poly_lr(epoch, max_num_epochs, 0.005676 , 0.9)\n",
    "# model.load_state_dict(torch.load(os.path.join(model_dir, \"best_metric_luck_UNETr_prompt.pth\")))"
   ]
  }
 ],
 "metadata": {
  "kernelspec": {
   "display_name": "clam",
   "language": "python",
   "name": "python3"
  },
  "language_info": {
   "codemirror_mode": {
    "name": "ipython",
    "version": 3
   },
   "file_extension": ".py",
   "mimetype": "text/x-python",
   "name": "python",
   "nbconvert_exporter": "python",
   "pygments_lexer": "ipython3",
   "version": "3.8.0"
  }
 },
 "nbformat": 4,
 "nbformat_minor": 2
}
