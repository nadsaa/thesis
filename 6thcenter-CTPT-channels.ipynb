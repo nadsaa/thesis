{
 "cells": [
  {
   "cell_type": "code",
   "execution_count": 1,
   "metadata": {},
   "outputs": [
    {
     "data": {
      "text/plain": [
       "1"
      ]
     },
     "execution_count": 1,
     "metadata": {},
     "output_type": "execute_result"
    }
   ],
   "source": [
    "import os\n",
    "os.environ[\"CUDA_DEVICE_ORDER\"] = \"PCI_BUS_ID\"\n",
    "os.environ[\"CUDA_VISIBLE_DEVICES\"] = \"1\" \n",
    "import torch\n",
    "torch.cuda.device_count()"
   ]
  },
  {
   "cell_type": "code",
   "execution_count": 2,
   "metadata": {},
   "outputs": [],
   "source": [
    "\n",
    "import os\n",
    "import shutil\n",
    "import tempfile\n",
    "\n",
    "import matplotlib.pyplot as plt\n",
    "import numpy as np\n",
    "from tqdm import tqdm\n",
    "from glob import glob\n",
    "# import wandb\n",
    "\n",
    "import monai\n",
    "from monai.losses import DiceCELoss, DiceFocalLoss, FocalLoss\n",
    "from monai.inferers import sliding_window_inference\n",
    "from monai import transforms\n",
    "\n",
    "from monai.transforms import (\n",
    "       AsDiscrete,\n",
    "    Compose,\n",
    "    CropForegroundd,\n",
    "    LoadImaged,\n",
    "    Orientationd,\n",
    "    RandFlipd,\n",
    "    RandCropByPosNegLabeld,\n",
    "    RandShiftIntensityd,\n",
    "    ScaleIntensityRanged,\n",
    "    Spacingd,\n",
    "    RandRotate90d,\n",
    "    MapTransform,\n",
    "    ScaleIntensityd,\n",
    "    #AddChanneld,\n",
    "    SpatialPadd,\n",
    "    CenterSpatialCropd,\n",
    "    EnsureChannelFirstd,\n",
    "    ConcatItemsd,\n",
    "    AdjustContrastd, \n",
    "    Rand3DElasticd,\n",
    "    HistogramNormalized,\n",
    "    NormalizeIntensityd,\n",
    "    Invertd,\n",
    "    SaveImage,\n",
    "\n",
    ")\n",
    "\n",
    "from monai.config import print_config\n",
    "from monai.metrics import DiceMetric\n",
    "from monai.networks.nets import SwinUNETR, UNETR, SegResNet\n",
    "from monai.data import (\n",
    "    DataLoader,\n",
    "    CacheDataset,\n",
    "    load_decathlon_datalist,\n",
    "    decollate_batch,\n",
    ")\n",
    "from monai import data\n",
    "\n",
    "\n",
    "from monai.utils import first, set_determinism\n",
    "from sklearn.model_selection import train_test_split\n",
    "import json\n",
    "\n",
    "\n",
    "import torch"
   ]
  },
  {
   "cell_type": "code",
   "execution_count": 3,
   "metadata": {},
   "outputs": [],
   "source": [
    "set_determinism(seed=1024)"
   ]
  },
  {
   "cell_type": "code",
   "execution_count": 4,
   "metadata": {},
   "outputs": [
    {
     "name": "stdout",
     "output_type": "stream",
     "text": [
      "JSON file created at /home/nada.saadi/CTPET/hecktor2022_cropped/HGJ_ctpt_train_new.json\n"
     ]
    }
   ],
   "source": [
    "import os\n",
    "import json\n",
    "import random\n",
    "from glob import glob\n",
    "\n",
    "def generate_paths(patient_id):\n",
    "    base_dir = '/home/nada.saadi/MIS-FM/hecktor2022_cropped/data'\n",
    "    return {\n",
    "        'id': os.path.join(base_dir, patient_id),\n",
    "        'ct': os.path.join(base_dir, patient_id, f\"{patient_id}_ct.nii.gz\"),\n",
    "        'pt': os.path.join(base_dir, patient_id, f\"{patient_id}_pt.nii.gz\"),\n",
    "        'seg': os.path.join(base_dir, patient_id, f\"{patient_id}_gt.nii.gz\")\n",
    "    }\n",
    "\n",
    "# Assign each data entry to a random fold\n",
    "all_data = []\n",
    "num_folds = 5\n",
    "\n",
    "for file_dir in sorted(glob('data/*')):\n",
    "    patient_id = file_dir.split('/')[-1]\n",
    "    # Check if the file belongs to the MDA center\n",
    "    if patient_id.startswith(\"HGJ-\"):\n",
    "        entry = generate_paths(patient_id)\n",
    "        entry['fold'] = random.randint(1, num_folds) - 1\n",
    "        all_data.append(entry)\n",
    "\n",
    "# Compile data into a JSON structure\n",
    "data_json = {\"training\": all_data}\n",
    "\n",
    "# Save to JSON file\n",
    "json_file_path = \"/home/nada.saadi/CTPET/hecktor2022_cropped/HGJ_ctpt_train_new.json\"\n",
    "with open(json_file_path, 'w') as f:\n",
    "    json.dump(data_json, f, indent=4)\n",
    "\n",
    "print(f\"JSON file created at {json_file_path}\")\n",
    "\n"
   ]
  },
  {
   "cell_type": "code",
   "execution_count": 5,
   "metadata": {},
   "outputs": [
    {
     "name": "stdout",
     "output_type": "stream",
     "text": [
      "[{'id': '/home/nada.saadi/MIS-FM/hecktor2022_cropped/data/HGJ-007', 'ct': '/home/nada.saadi/MIS-FM/hecktor2022_cropped/data/HGJ-007/HGJ-007_ct.nii.gz', 'pt': '/home/nada.saadi/MIS-FM/hecktor2022_cropped/data/HGJ-007/HGJ-007_pt.nii.gz', 'seg': '/home/nada.saadi/MIS-FM/hecktor2022_cropped/data/HGJ-007/HGJ-007_gt.nii.gz', 'fold': 0}, {'id': '/home/nada.saadi/MIS-FM/hecktor2022_cropped/data/HGJ-008', 'ct': '/home/nada.saadi/MIS-FM/hecktor2022_cropped/data/HGJ-008/HGJ-008_ct.nii.gz', 'pt': '/home/nada.saadi/MIS-FM/hecktor2022_cropped/data/HGJ-008/HGJ-008_pt.nii.gz', 'seg': '/home/nada.saadi/MIS-FM/hecktor2022_cropped/data/HGJ-008/HGJ-008_gt.nii.gz', 'fold': 3}, {'id': '/home/nada.saadi/MIS-FM/hecktor2022_cropped/data/HGJ-010', 'ct': '/home/nada.saadi/MIS-FM/hecktor2022_cropped/data/HGJ-010/HGJ-010_ct.nii.gz', 'pt': '/home/nada.saadi/MIS-FM/hecktor2022_cropped/data/HGJ-010/HGJ-010_pt.nii.gz', 'seg': '/home/nada.saadi/MIS-FM/hecktor2022_cropped/data/HGJ-010/HGJ-010_gt.nii.gz', 'fold': 3}, {'id': '/home/nada.saadi/MIS-FM/hecktor2022_cropped/data/HGJ-013', 'ct': '/home/nada.saadi/MIS-FM/hecktor2022_cropped/data/HGJ-013/HGJ-013_ct.nii.gz', 'pt': '/home/nada.saadi/MIS-FM/hecktor2022_cropped/data/HGJ-013/HGJ-013_pt.nii.gz', 'seg': '/home/nada.saadi/MIS-FM/hecktor2022_cropped/data/HGJ-013/HGJ-013_gt.nii.gz', 'fold': 2}, {'id': '/home/nada.saadi/MIS-FM/hecktor2022_cropped/data/HGJ-015', 'ct': '/home/nada.saadi/MIS-FM/hecktor2022_cropped/data/HGJ-015/HGJ-015_ct.nii.gz', 'pt': '/home/nada.saadi/MIS-FM/hecktor2022_cropped/data/HGJ-015/HGJ-015_pt.nii.gz', 'seg': '/home/nada.saadi/MIS-FM/hecktor2022_cropped/data/HGJ-015/HGJ-015_gt.nii.gz', 'fold': 4}]\n"
     ]
    }
   ],
   "source": [
    "import json\n",
    "\n",
    "json_file_path = \"/home/nada.saadi/CTPET/hecktor2022_cropped/HGJ_ctpt_train_new.json\"\n",
    "\n",
    "with open(json_file_path, 'r') as f:\n",
    "    data = json.load(f)\n",
    "\n",
    "first_5_elements = data[\"training\"][:5]\n",
    "print(first_5_elements)\n"
   ]
  },
  {
   "cell_type": "code",
   "execution_count": 6,
   "metadata": {},
   "outputs": [],
   "source": [
    "data_dir = '/home/nada.saadi/MIS-FM/hecktor2022_cropped'\n",
    "json_dir = \"/home/nada.saadi/CTPET/hecktor2022_cropped/HGJ_ctpt_train_new.json\""
   ]
  },
  {
   "cell_type": "code",
   "execution_count": 7,
   "metadata": {},
   "outputs": [],
   "source": [
    "def datafold_read(datalist, basedir, fold=0, key=\"training\"):\n",
    "    with open(datalist) as f:\n",
    "        json_data = json.load(f)\n",
    "\n",
    "    json_data = json_data[key]\n",
    "\n",
    "    for d in json_data:\n",
    "        for k in d:\n",
    "            if isinstance(d[k], list):\n",
    "                d[k] = [os.path.join(basedir, iv) for iv in d[k]]\n",
    "            elif isinstance(d[k], str):\n",
    "                d[k] = os.path.join(basedir, d[k]) if len(d[k]) > 0 else d[k]\n",
    "\n",
    "    tr = []\n",
    "    val = []\n",
    "    for d in json_data:\n",
    "        if \"fold\" in d and d[\"fold\"] == fold:\n",
    "            val.append(d)\n",
    "        else:\n",
    "            tr.append(d)\n",
    "\n",
    "    return tr, val"
   ]
  },
  {
   "cell_type": "code",
   "execution_count": 8,
   "metadata": {},
   "outputs": [
    {
     "data": {
      "text/plain": [
       "(39, 15)"
      ]
     },
     "execution_count": 8,
     "metadata": {},
     "output_type": "execute_result"
    }
   ],
   "source": [
    "train_files, validation_files = datafold_read(datalist=json_dir, basedir=data_dir, fold=0)\n",
    "len(train_files), len(validation_files)"
   ]
  },
  {
   "cell_type": "code",
   "execution_count": 9,
   "metadata": {},
   "outputs": [],
   "source": [
    "class ClipCT(MapTransform):\n",
    "    \"\"\"\n",
    "    Convert labels to multi channels based on hecktor classes:\n",
    "    label 1 is the tumor\n",
    "    label 2 is the lymph node\n",
    "\n",
    "    \"\"\"\n",
    "\n",
    "    def __call__(self, data):\n",
    "        d = dict(data)\n",
    "        for key in self.keys:\n",
    "            if key == \"ct\":\n",
    "                d[key] = torch.clip(d[key], min=-200, max=200)\n",
    "            # elif key == \"pt\":\n",
    "            #     d[key] = torch.clip(d[key], d[key].min(), 5)\n",
    "        return d\n",
    "\n",
    "class MulPTFM(MapTransform):\n",
    "    \"\"\"\n",
    "    Mult PT and FM \n",
    "\n",
    "    \"\"\"\n",
    "\n",
    "    def __call__(self, data):\n",
    "        d = dict(data)\n",
    "\n",
    "        fm = d[\"ct\"] > 0\n",
    "        d[\"pt\"] = d[\"pt\"] * fm\n",
    "        return d\n",
    "\n",
    "class SelectClass(MapTransform):\n",
    "    \"\"\"\n",
    "    Select the class for which you want to fine tune the model \n",
    "\n",
    "    \"\"\"\n",
    "    # def __init__(self, keys, cls=1):\n",
    "    #     super(self).__init__(keys)\n",
    "    #     self.cls = cls\n",
    "\n",
    "    def __call__(self, data):\n",
    "        d = dict(data)\n",
    "        d[\"seg\"][d[\"seg\"] == 1] = 0\n",
    "        # d[\"seg\"][d[\"seg\"] == 2] = 1\n",
    "        \n",
    "        return d"
   ]
  },
  {
   "cell_type": "code",
   "execution_count": 10,
   "metadata": {},
   "outputs": [],
   "source": [
    "num_samples = 4\n",
    "\n",
    "train_transforms = Compose(\n",
    "    [\n",
    "        LoadImaged(keys=[\"ct\", \"pt\", \"seg\"], ensure_channel_first = True),\n",
    "        SpatialPadd(keys=[\"ct\", \"pt\", \"seg\"], spatial_size=(200, 200, 310), method='end'),\n",
    "        Orientationd(keys=[\"ct\", \"pt\", \"seg\"], axcodes=\"PLS\"),\n",
    "        NormalizeIntensityd(keys=[\"pt\"]),\n",
    "        ClipCT(keys=[\"ct\"]),\n",
    "        ScaleIntensityd(keys=[\"ct\"], minv=0, maxv=1),\n",
    "        #MulPTFM(keys=[\"ct\",\"pt\"]),\n",
    "        ConcatItemsd(keys=[\"pt\", \"ct\"], name=\"ctpt\"),\n",
    "        #NormalizeIntensityd(keys=[\"ctpt\"], channel_wise=True),\n",
    "        RandCropByPosNegLabeld(\n",
    "            keys=[\"ctpt\", \"seg\"],\n",
    "            label_key=\"seg\",\n",
    "            spatial_size=(96, 96, 96),\n",
    "            pos=1,\n",
    "            neg=1,\n",
    "            num_samples=num_samples,\n",
    "            image_key=\"ctpt\",\n",
    "            image_threshold=0,\n",
    "        ),\n",
    "        RandFlipd(\n",
    "            keys=[\"ctpt\", \"seg\"],\n",
    "            spatial_axis=[0],\n",
    "            prob=0.20,\n",
    "        ),\n",
    "        RandFlipd(\n",
    "            keys=[\"ctpt\", \"seg\"],\n",
    "            spatial_axis=[1],\n",
    "            prob=0.20,\n",
    "        ),\n",
    "        RandFlipd(\n",
    "            keys=[\"ctpt\", \"seg\"],\n",
    "            spatial_axis=[2],\n",
    "            prob=0.20,\n",
    "        ),\n",
    "        RandRotate90d(\n",
    "            keys=[\"ctpt\", \"seg\"],\n",
    "            prob=0.20,\n",
    "            max_k=3,\n",
    "        ),\n",
    "    ]\n",
    ")\n",
    "val_transforms = Compose(\n",
    "    [\n",
    "        LoadImaged(keys=[\"ct\", \"pt\", \"seg\"], ensure_channel_first = True),\n",
    "        SpatialPadd(keys=[\"ct\", \"pt\", \"seg\"], spatial_size=(200, 200, 310), method='end'),\n",
    "        Orientationd(keys=[\"ct\", \"pt\", \"seg\"], axcodes=\"PLS\"),\n",
    "        NormalizeIntensityd(keys=[\"pt\"]),\n",
    "        ClipCT(keys=[\"ct\"]),\n",
    "        ScaleIntensityd(keys=[\"ct\"], minv=0, maxv=1),\n",
    "        #MulPTFM(keys=[\"ct\",\"pt\"]),\n",
    "        ConcatItemsd(keys=[\"pt\", \"ct\"], name=\"ctpt\"),\n",
    "    ]\n",
    ")"
   ]
  },
  {
   "cell_type": "code",
   "execution_count": 11,
   "metadata": {},
   "outputs": [],
   "source": [
    "train_ds = monai.data.Dataset(data=train_files, transform=train_transforms)\n",
    "\n",
    "train_loader = DataLoader(\n",
    "    train_ds,\n",
    "    batch_size=2,\n",
    "    shuffle=True,\n",
    "    num_workers=8,\n",
    "    pin_memory=torch.cuda.is_available(),\n",
    "    )\n",
    "\n",
    "val_ds = monai.data.Dataset(data=validation_files, transform=val_transforms)\n",
    "\n",
    "val_loader = DataLoader(\n",
    "    val_ds, \n",
    "    batch_size=2, \n",
    "    num_workers=8, \n",
    "    shuffle= False)"
   ]
  },
  {
   "cell_type": "code",
   "execution_count": 13,
   "metadata": {},
   "outputs": [
    {
     "name": "stderr",
     "output_type": "stream",
     "text": [
      "/home/nada.saadi/miniconda3/envs/clam/lib/python3.8/site-packages/monai/utils/deprecate_utils.py:221: FutureWarning: monai.networks.nets.unetr UNETR.__init__:pos_embed: Argument `pos_embed` has been deprecated since version 1.2. It will be removed in version 1.4. please use `proj_type` instead.\n",
      "  warn_deprecated(argname, msg, warning_category)\n"
     ]
    }
   ],
   "source": [
    "os.environ[\"CUDA_DEVICE_ORDER\"] = \"PCI_BUS_ID\"\n",
    "device = torch.device(\"cuda\" if torch.cuda.is_available() else \"cpu\")\n",
    "model = UNETR(\n",
    "    in_channels=2,\n",
    "    out_channels=3,\n",
    "    img_size=(96, 96, 96),\n",
    "    feature_size=16, #16\n",
    "    hidden_size= 768, #768,\n",
    "    mlp_dim=3072, #3072,\n",
    "    num_heads=12,\n",
    "    pos_embed=\"perceptron\",\n",
    "    norm_name=\"instance\",\n",
    "    res_block=True,\n",
    "    dropout_rate=0.0,\n",
    ").to(device)"
   ]
  },
  {
   "cell_type": "code",
   "execution_count": 14,
   "metadata": {},
   "outputs": [],
   "source": [
    "torch.backends.cudnn.benchmark = True\n",
    "def poly_lr(epoch, max_epochs, initial_lr, exponent=0.9):\n",
    "    return initial_lr * (1 - epoch / max_epochs)**exponent\n",
    "\n",
    "loss_function = DiceCELoss(to_onehot_y=True, softmax=True)\n",
    "optimizer = torch.optim.AdamW(model.parameters(), lr=1e-4, weight_decay=1e-5)"
   ]
  },
  {
   "cell_type": "code",
   "execution_count": 15,
   "metadata": {},
   "outputs": [
    {
     "name": "stderr",
     "output_type": "stream",
     "text": [
      "Training (19 / 18000 Steps) (loss=1.65604): 100%|██████████| 20/20 [00:38<00:00,  1.90s/it]\n",
      "Training (39 / 18000 Steps) (loss=1.53889): 100%|██████████| 20/20 [00:16<00:00,  1.18it/s]\n",
      "Training (59 / 18000 Steps) (loss=1.50366): 100%|██████████| 20/20 [00:16<00:00,  1.20it/s]\n",
      "Training (79 / 18000 Steps) (loss=1.47294): 100%|██████████| 20/20 [00:17<00:00,  1.14it/s]\n",
      "Training (99 / 18000 Steps) (loss=1.43906): 100%|██████████| 20/20 [00:17<00:00,  1.17it/s]\n",
      "Validate (100 / 10 Steps): 100%|██████████| 8/8 [00:14<00:00,  1.84s/it]5<?, ?it/s]\n",
      "Training (100 / 18000 Steps) (loss=1.44105):   5%|▌         | 1/20 [00:21<06:45, 21.34s/it]"
     ]
    },
    {
     "name": "stdout",
     "output_type": "stream",
     "text": [
      "Model Was Saved ! Current Best Avg. Dice: 0.14850464463233948 Current Avg. Dice: 0.14850464463233948 Current Avg. tumor Dice: 0.2559812366962433 Current Avg. lymph Dice: 0.015555944293737411\n"
     ]
    },
    {
     "name": "stderr",
     "output_type": "stream",
     "text": [
      "Training (119 / 18000 Steps) (loss=1.40822): 100%|██████████| 20/20 [00:29<00:00,  1.46s/it]\n",
      "Training (139 / 18000 Steps) (loss=1.31243): 100%|██████████| 20/20 [00:17<00:00,  1.13it/s]\n",
      "Training (159 / 18000 Steps) (loss=1.29712): 100%|██████████| 20/20 [00:16<00:00,  1.19it/s]\n",
      "Training (179 / 18000 Steps) (loss=1.30821): 100%|██████████| 20/20 [00:16<00:00,  1.22it/s]\n",
      "Training (199 / 18000 Steps) (loss=1.28761): 100%|██████████| 20/20 [00:15<00:00,  1.26it/s]\n",
      "Validate (200 / 10 Steps): 100%|██████████| 8/8 [00:13<00:00,  1.68s/it]7<?, ?it/s]\n",
      "Training (200 / 18000 Steps) (loss=1.29390):   5%|▌         | 1/20 [00:21<06:46, 21.38s/it]"
     ]
    },
    {
     "name": "stdout",
     "output_type": "stream",
     "text": [
      "Model Was Saved ! Current Best Avg. Dice: 0.28007516264915466 Current Avg. Dice: 0.28007516264915466 Current Avg. tumor Dice: 0.44826021790504456 Current Avg. lymph Dice: 0.05783892422914505\n"
     ]
    },
    {
     "name": "stderr",
     "output_type": "stream",
     "text": [
      "Training (219 / 18000 Steps) (loss=1.24182): 100%|██████████| 20/20 [00:29<00:00,  1.47s/it]\n",
      "Training (239 / 18000 Steps) (loss=1.27435): 100%|██████████| 20/20 [00:17<00:00,  1.16it/s]\n",
      "Training (259 / 18000 Steps) (loss=1.18689): 100%|██████████| 20/20 [00:16<00:00,  1.22it/s]\n",
      "Training (279 / 18000 Steps) (loss=1.21848): 100%|██████████| 20/20 [00:17<00:00,  1.16it/s]\n",
      "Training (299 / 18000 Steps) (loss=1.16249): 100%|██████████| 20/20 [00:17<00:00,  1.14it/s]\n",
      "Validate (300 / 10 Steps): 100%|██████████| 8/8 [00:13<00:00,  1.72s/it]7<?, ?it/s]\n",
      "Training (300 / 18000 Steps) (loss=1.17017):   5%|▌         | 1/20 [00:21<06:56, 21.91s/it]"
     ]
    },
    {
     "name": "stdout",
     "output_type": "stream",
     "text": [
      "Model Was Saved ! Current Best Avg. Dice: 0.35397157073020935 Current Avg. Dice: 0.35397157073020935 Current Avg. tumor Dice: 0.5629507303237915 Current Avg. lymph Dice: 0.06133411452174187\n"
     ]
    },
    {
     "name": "stderr",
     "output_type": "stream",
     "text": [
      "Training (319 / 18000 Steps) (loss=1.14078): 100%|██████████| 20/20 [00:29<00:00,  1.50s/it]\n",
      "Training (339 / 18000 Steps) (loss=1.13491): 100%|██████████| 20/20 [00:16<00:00,  1.24it/s]\n",
      "Training (359 / 18000 Steps) (loss=1.15328): 100%|██████████| 20/20 [00:17<00:00,  1.14it/s]\n",
      "Training (379 / 18000 Steps) (loss=1.09873): 100%|██████████| 20/20 [00:17<00:00,  1.15it/s]\n",
      "Training (399 / 18000 Steps) (loss=1.07493): 100%|██████████| 20/20 [00:17<00:00,  1.16it/s]\n",
      "Validate (400 / 10 Steps): 100%|██████████| 8/8 [00:13<00:00,  1.74s/it]5<?, ?it/s]\n",
      "Training (400 / 18000 Steps) (loss=1.10848):   5%|▌         | 1/20 [00:19<06:18, 19.94s/it]"
     ]
    },
    {
     "name": "stdout",
     "output_type": "stream",
     "text": [
      "Model Was Not Saved ! Current Best Avg. Dice: 0.35397157073020935 Current Avg. Dice: 0.30070915818214417 Current Avg. tumor Dice: 0.5117999315261841 Current Avg. lymph Dice: 0.0007614794303663075\n"
     ]
    },
    {
     "name": "stderr",
     "output_type": "stream",
     "text": [
      "Training (419 / 18000 Steps) (loss=1.10116): 100%|██████████| 20/20 [00:27<00:00,  1.40s/it]\n",
      "Training (439 / 18000 Steps) (loss=1.09504): 100%|██████████| 20/20 [00:17<00:00,  1.12it/s]\n",
      "Training (459 / 18000 Steps) (loss=1.05999): 100%|██████████| 20/20 [00:17<00:00,  1.14it/s]\n",
      "Training (479 / 18000 Steps) (loss=1.06842): 100%|██████████| 20/20 [00:18<00:00,  1.09it/s]\n",
      "Training (499 / 18000 Steps) (loss=1.01172): 100%|██████████| 20/20 [00:18<00:00,  1.09it/s]\n",
      "Validate (500 / 10 Steps): 100%|██████████| 8/8 [00:13<00:00,  1.72s/it]6<?, ?it/s]\n",
      "Training (500 / 18000 Steps) (loss=0.99439):   5%|▌         | 1/20 [00:20<06:22, 20.13s/it]"
     ]
    },
    {
     "name": "stdout",
     "output_type": "stream",
     "text": [
      "Model Was Not Saved ! Current Best Avg. Dice: 0.35397157073020935 Current Avg. Dice: 0.33374086022377014 Current Avg. tumor Dice: 0.5732592344284058 Current Avg. lymph Dice: 0.0\n"
     ]
    },
    {
     "name": "stderr",
     "output_type": "stream",
     "text": [
      "Training (519 / 18000 Steps) (loss=1.04529): 100%|██████████| 20/20 [00:28<00:00,  1.41s/it]\n",
      "Training (539 / 18000 Steps) (loss=1.02541): 100%|██████████| 20/20 [00:16<00:00,  1.24it/s]\n",
      "Training (559 / 18000 Steps) (loss=0.98279): 100%|██████████| 20/20 [00:18<00:00,  1.11it/s]\n",
      "Training (579 / 18000 Steps) (loss=1.00365): 100%|██████████| 20/20 [00:17<00:00,  1.14it/s]\n",
      "Training (599 / 18000 Steps) (loss=0.97005): 100%|██████████| 20/20 [00:17<00:00,  1.16it/s]\n",
      "Validate (600 / 10 Steps): 100%|██████████| 8/8 [00:13<00:00,  1.73s/it]6<?, ?it/s]\n",
      "Training (600 / 18000 Steps) (loss=0.98008):   5%|▌         | 1/20 [00:21<06:48, 21.49s/it]"
     ]
    },
    {
     "name": "stdout",
     "output_type": "stream",
     "text": [
      "Model Was Saved ! Current Best Avg. Dice: 0.3856833279132843 Current Avg. Dice: 0.3856833279132843 Current Avg. tumor Dice: 0.6783537268638611 Current Avg. lymph Dice: 3.8008605770301074e-05\n"
     ]
    },
    {
     "name": "stderr",
     "output_type": "stream",
     "text": [
      "Training (619 / 18000 Steps) (loss=0.87601): 100%|██████████| 20/20 [00:29<00:00,  1.48s/it]\n",
      "Training (639 / 18000 Steps) (loss=0.91193): 100%|██████████| 20/20 [00:17<00:00,  1.14it/s]\n",
      "Training (659 / 18000 Steps) (loss=0.94938): 100%|██████████| 20/20 [00:17<00:00,  1.12it/s]\n",
      "Training (679 / 18000 Steps) (loss=0.86882): 100%|██████████| 20/20 [00:17<00:00,  1.13it/s]\n",
      "Training (699 / 18000 Steps) (loss=0.88820): 100%|██████████| 20/20 [00:17<00:00,  1.18it/s]\n",
      "Validate (700 / 10 Steps): 100%|██████████| 8/8 [00:13<00:00,  1.72s/it]7<?, ?it/s]\n",
      "Training (700 / 18000 Steps) (loss=0.89678):   5%|▌         | 1/20 [00:21<06:51, 21.64s/it]"
     ]
    },
    {
     "name": "stdout",
     "output_type": "stream",
     "text": [
      "Model Was Not Saved ! Current Best Avg. Dice: 0.3856833279132843 Current Avg. Dice: 0.3499605059623718 Current Avg. tumor Dice: 0.6011930108070374 Current Avg. lymph Dice: 0.006389710120856762\n"
     ]
    },
    {
     "name": "stderr",
     "output_type": "stream",
     "text": [
      "Training (719 / 18000 Steps) (loss=0.92006): 100%|██████████| 20/20 [00:29<00:00,  1.48s/it]\n",
      "Training (739 / 18000 Steps) (loss=0.84455): 100%|██████████| 20/20 [00:18<00:00,  1.06it/s]\n",
      "Training (759 / 18000 Steps) (loss=0.84003): 100%|██████████| 20/20 [00:16<00:00,  1.19it/s]\n",
      "Training (779 / 18000 Steps) (loss=0.86928): 100%|██████████| 20/20 [00:16<00:00,  1.19it/s]\n",
      "Training (799 / 18000 Steps) (loss=0.88761): 100%|██████████| 20/20 [00:17<00:00,  1.12it/s]\n",
      "Validate (800 / 10 Steps): 100%|██████████| 8/8 [00:13<00:00,  1.72s/it]8<?, ?it/s]\n",
      "Training (800 / 18000 Steps) (loss=0.86490):   5%|▌         | 1/20 [00:23<07:22, 23.27s/it]"
     ]
    },
    {
     "name": "stdout",
     "output_type": "stream",
     "text": [
      "Model Was Saved ! Current Best Avg. Dice: 0.3960789442062378 Current Avg. Dice: 0.3960789442062378 Current Avg. tumor Dice: 0.6988056302070618 Current Avg. lymph Dice: 0.0010797175345942378\n"
     ]
    },
    {
     "name": "stderr",
     "output_type": "stream",
     "text": [
      "Training (819 / 18000 Steps) (loss=0.88296): 100%|██████████| 20/20 [00:31<00:00,  1.56s/it]\n",
      "Training (839 / 18000 Steps) (loss=0.83606): 100%|██████████| 20/20 [00:18<00:00,  1.09it/s]\n",
      "Training (859 / 18000 Steps) (loss=0.85213): 100%|██████████| 20/20 [00:16<00:00,  1.19it/s]\n",
      "Training (879 / 18000 Steps) (loss=0.74769): 100%|██████████| 20/20 [00:18<00:00,  1.10it/s]\n",
      "Training (899 / 18000 Steps) (loss=0.82552): 100%|██████████| 20/20 [00:16<00:00,  1.23it/s]\n",
      "Validate (900 / 10 Steps): 100%|██████████| 8/8 [00:13<00:00,  1.75s/it]7<?, ?it/s]\n",
      "Training (900 / 18000 Steps) (loss=0.76083):   5%|▌         | 1/20 [00:21<06:56, 21.94s/it]"
     ]
    },
    {
     "name": "stdout",
     "output_type": "stream",
     "text": [
      "Model Was Not Saved ! Current Best Avg. Dice: 0.3960789442062378 Current Avg. Dice: 0.395624041557312 Current Avg. tumor Dice: 0.6721487641334534 Current Avg. lymph Dice: 0.0248882994055748\n"
     ]
    },
    {
     "name": "stderr",
     "output_type": "stream",
     "text": [
      "Training (919 / 18000 Steps) (loss=0.79370): 100%|██████████| 20/20 [00:29<00:00,  1.49s/it]\n",
      "Training (939 / 18000 Steps) (loss=0.80993): 100%|██████████| 20/20 [00:16<00:00,  1.19it/s]\n",
      "Training (959 / 18000 Steps) (loss=0.83531): 100%|██████████| 20/20 [00:18<00:00,  1.11it/s]\n",
      "Training (979 / 18000 Steps) (loss=0.84886): 100%|██████████| 20/20 [00:17<00:00,  1.17it/s]\n",
      "Training (999 / 18000 Steps) (loss=0.77039): 100%|██████████| 20/20 [00:17<00:00,  1.11it/s]\n",
      "Validate (1000 / 10 Steps): 100%|██████████| 8/8 [00:13<00:00,  1.72s/it]9<?, ?it/s]\n",
      "Training (1000 / 18000 Steps) (loss=0.80790):   5%|▌         | 1/20 [00:23<07:33, 23.86s/it]"
     ]
    },
    {
     "name": "stdout",
     "output_type": "stream",
     "text": [
      "Model Was Saved ! Current Best Avg. Dice: 0.3995259702205658 Current Avg. Dice: 0.3995259702205658 Current Avg. tumor Dice: 0.6934884190559387 Current Avg. lymph Dice: 0.00592097407206893\n"
     ]
    },
    {
     "name": "stderr",
     "output_type": "stream",
     "text": [
      "Training (1019 / 18000 Steps) (loss=0.77625): 100%|██████████| 20/20 [00:31<00:00,  1.59s/it]\n",
      "Training (1039 / 18000 Steps) (loss=0.67137): 100%|██████████| 20/20 [00:17<00:00,  1.12it/s]\n",
      "Training (1059 / 18000 Steps) (loss=0.65260): 100%|██████████| 20/20 [00:17<00:00,  1.16it/s]\n",
      "Training (1079 / 18000 Steps) (loss=0.78203): 100%|██████████| 20/20 [00:17<00:00,  1.15it/s]\n",
      "Training (1099 / 18000 Steps) (loss=0.80353): 100%|██████████| 20/20 [00:19<00:00,  1.01it/s]\n",
      "Validate (1100 / 10 Steps): 100%|██████████| 8/8 [00:14<00:00,  1.75s/it]6<?, ?it/s]\n",
      "Training (1100 / 18000 Steps) (loss=0.73481):   5%|▌         | 1/20 [00:20<06:31, 20.58s/it]"
     ]
    },
    {
     "name": "stdout",
     "output_type": "stream",
     "text": [
      "Model Was Not Saved ! Current Best Avg. Dice: 0.3995259702205658 Current Avg. Dice: 0.37179088592529297 Current Avg. tumor Dice: 0.6303983926773071 Current Avg. lymph Dice: 0.025769513100385666\n"
     ]
    },
    {
     "name": "stderr",
     "output_type": "stream",
     "text": [
      "Training (1119 / 18000 Steps) (loss=0.69590): 100%|██████████| 20/20 [00:28<00:00,  1.43s/it]\n",
      "Training (1139 / 18000 Steps) (loss=0.71659): 100%|██████████| 20/20 [00:18<00:00,  1.08it/s]\n",
      "Training (1159 / 18000 Steps) (loss=0.77278): 100%|██████████| 20/20 [00:18<00:00,  1.10it/s]\n",
      "Training (1179 / 18000 Steps) (loss=0.74268): 100%|██████████| 20/20 [00:18<00:00,  1.08it/s]\n",
      "Training (1199 / 18000 Steps) (loss=0.72692): 100%|██████████| 20/20 [00:17<00:00,  1.11it/s]\n",
      "Validate (1200 / 10 Steps): 100%|██████████| 8/8 [00:14<00:00,  1.85s/it]6<?, ?it/s]\n",
      "Training (1200 / 18000 Steps) (loss=0.71896):   5%|▌         | 1/20 [00:21<06:57, 21.99s/it]"
     ]
    },
    {
     "name": "stdout",
     "output_type": "stream",
     "text": [
      "Model Was Saved ! Current Best Avg. Dice: 0.4102625250816345 Current Avg. Dice: 0.4102625250816345 Current Avg. tumor Dice: 0.6967445015907288 Current Avg. lymph Dice: 0.03255608305335045\n"
     ]
    },
    {
     "name": "stderr",
     "output_type": "stream",
     "text": [
      "Training (1219 / 18000 Steps) (loss=0.73355): 100%|██████████| 20/20 [00:29<00:00,  1.50s/it]\n",
      "Training (1239 / 18000 Steps) (loss=0.70066): 100%|██████████| 20/20 [00:16<00:00,  1.19it/s]\n",
      "Training (1259 / 18000 Steps) (loss=0.69194): 100%|██████████| 20/20 [00:18<00:00,  1.10it/s]\n",
      "Training (1279 / 18000 Steps) (loss=0.67604): 100%|██████████| 20/20 [00:18<00:00,  1.09it/s]\n",
      "Training (1299 / 18000 Steps) (loss=0.75125): 100%|██████████| 20/20 [00:18<00:00,  1.06it/s]\n",
      "Validate (1300 / 10 Steps): 100%|██████████| 8/8 [00:14<00:00,  1.76s/it]7<?, ?it/s]\n",
      "Training (1300 / 18000 Steps) (loss=0.80049):   5%|▌         | 1/20 [00:22<07:05, 22.39s/it]"
     ]
    },
    {
     "name": "stdout",
     "output_type": "stream",
     "text": [
      "Model Was Saved ! Current Best Avg. Dice: 0.48115018010139465 Current Avg. Dice: 0.48115018010139465 Current Avg. tumor Dice: 0.6978352069854736 Current Avg. lymph Dice: 0.19384156167507172\n"
     ]
    },
    {
     "name": "stderr",
     "output_type": "stream",
     "text": [
      "Training (1319 / 18000 Steps) (loss=0.61960): 100%|██████████| 20/20 [00:30<00:00,  1.52s/it]\n",
      "Training (1339 / 18000 Steps) (loss=0.68681): 100%|██████████| 20/20 [00:19<00:00,  1.02it/s]\n",
      "Training (1359 / 18000 Steps) (loss=0.72868): 100%|██████████| 20/20 [00:18<00:00,  1.11it/s]\n",
      "Training (1379 / 18000 Steps) (loss=0.61899): 100%|██████████| 20/20 [00:18<00:00,  1.06it/s]\n",
      "Training (1399 / 18000 Steps) (loss=0.69428): 100%|██████████| 20/20 [00:18<00:00,  1.06it/s]\n",
      "Validate (1400 / 10 Steps): 100%|██████████| 8/8 [00:14<00:00,  1.81s/it]8<?, ?it/s]\n",
      "Training (1400 / 18000 Steps) (loss=0.69974):   5%|▌         | 1/20 [00:23<07:17, 23.01s/it]"
     ]
    },
    {
     "name": "stdout",
     "output_type": "stream",
     "text": [
      "Model Was Not Saved ! Current Best Avg. Dice: 0.48115018010139465 Current Avg. Dice: 0.46510669589042664 Current Avg. tumor Dice: 0.6024668216705322 Current Avg. lymph Dice: 0.27801528573036194\n"
     ]
    },
    {
     "name": "stderr",
     "output_type": "stream",
     "text": [
      "Training (1419 / 18000 Steps) (loss=0.69198): 100%|██████████| 20/20 [00:30<00:00,  1.55s/it]\n",
      "Training (1439 / 18000 Steps) (loss=0.58108): 100%|██████████| 20/20 [00:19<00:00,  1.05it/s]\n",
      "Training (1459 / 18000 Steps) (loss=0.68161): 100%|██████████| 20/20 [00:18<00:00,  1.10it/s]\n",
      "Training (1479 / 18000 Steps) (loss=0.63363): 100%|██████████| 20/20 [00:18<00:00,  1.08it/s]\n",
      "Training (1499 / 18000 Steps) (loss=0.72827): 100%|██████████| 20/20 [00:17<00:00,  1.13it/s]\n",
      "Validate (1500 / 10 Steps): 100%|██████████| 8/8 [00:14<00:00,  1.75s/it]7<?, ?it/s]\n",
      "Training (1500 / 18000 Steps) (loss=0.65550):   5%|▌         | 1/20 [00:22<07:06, 22.42s/it]"
     ]
    },
    {
     "name": "stdout",
     "output_type": "stream",
     "text": [
      "Model Was Saved ! Current Best Avg. Dice: 0.543109118938446 Current Avg. Dice: 0.543109118938446 Current Avg. tumor Dice: 0.7081138491630554 Current Avg. lymph Dice: 0.3209242522716522\n"
     ]
    },
    {
     "name": "stderr",
     "output_type": "stream",
     "text": [
      "Training (1519 / 18000 Steps) (loss=0.71361): 100%|██████████| 20/20 [00:30<00:00,  1.52s/it]\n",
      "Training (1539 / 18000 Steps) (loss=0.72720): 100%|██████████| 20/20 [00:18<00:00,  1.07it/s]\n",
      "Training (1559 / 18000 Steps) (loss=0.54272): 100%|██████████| 20/20 [00:18<00:00,  1.06it/s]\n",
      "Training (1579 / 18000 Steps) (loss=0.64170): 100%|██████████| 20/20 [00:18<00:00,  1.07it/s]\n",
      "Training (1599 / 18000 Steps) (loss=0.59224): 100%|██████████| 20/20 [00:18<00:00,  1.10it/s]\n",
      "Validate (1600 / 10 Steps): 100%|██████████| 8/8 [00:13<00:00,  1.72s/it]8<?, ?it/s]\n",
      "Training (1600 / 18000 Steps) (loss=0.61380):   5%|▌         | 1/20 [00:22<07:05, 22.39s/it]"
     ]
    },
    {
     "name": "stdout",
     "output_type": "stream",
     "text": [
      "Model Was Not Saved ! Current Best Avg. Dice: 0.543109118938446 Current Avg. Dice: 0.5083006620407104 Current Avg. tumor Dice: 0.6324766278266907 Current Avg. lymph Dice: 0.33838552236557007\n"
     ]
    },
    {
     "name": "stderr",
     "output_type": "stream",
     "text": [
      "Training (1619 / 18000 Steps) (loss=0.75383): 100%|██████████| 20/20 [00:30<00:00,  1.52s/it]\n",
      "Training (1639 / 18000 Steps) (loss=0.64376): 100%|██████████| 20/20 [00:19<00:00,  1.01it/s]\n",
      "Training (1659 / 18000 Steps) (loss=0.58340): 100%|██████████| 20/20 [00:18<00:00,  1.10it/s]\n",
      "Training (1679 / 18000 Steps) (loss=0.68319): 100%|██████████| 20/20 [00:20<00:00,  1.03s/it]\n",
      "Training (1699 / 18000 Steps) (loss=0.70093): 100%|██████████| 20/20 [00:19<00:00,  1.01it/s]\n",
      "Validate (1700 / 10 Steps): 100%|██████████| 8/8 [00:15<00:00,  1.92s/it]7<?, ?it/s]\n",
      "Training (1700 / 18000 Steps) (loss=0.62024):   5%|▌         | 1/20 [00:22<07:09, 22.62s/it]"
     ]
    },
    {
     "name": "stdout",
     "output_type": "stream",
     "text": [
      "Model Was Not Saved ! Current Best Avg. Dice: 0.543109118938446 Current Avg. Dice: 0.5376384854316711 Current Avg. tumor Dice: 0.646319568157196 Current Avg. lymph Dice: 0.39388465881347656\n"
     ]
    },
    {
     "name": "stderr",
     "output_type": "stream",
     "text": [
      "Training (1719 / 18000 Steps) (loss=0.52849): 100%|██████████| 20/20 [00:30<00:00,  1.53s/it]\n",
      "Training (1739 / 18000 Steps) (loss=0.66726): 100%|██████████| 20/20 [00:18<00:00,  1.06it/s]\n",
      "Training (1759 / 18000 Steps) (loss=0.67537): 100%|██████████| 20/20 [00:19<00:00,  1.02it/s]\n",
      "Training (1779 / 18000 Steps) (loss=0.51449): 100%|██████████| 20/20 [00:18<00:00,  1.10it/s]\n",
      "Training (1799 / 18000 Steps) (loss=0.62622): 100%|██████████| 20/20 [00:17<00:00,  1.13it/s]\n",
      "Validate (1800 / 10 Steps): 100%|██████████| 8/8 [00:14<00:00,  1.76s/it]7<?, ?it/s]\n",
      "Training (1800 / 18000 Steps) (loss=0.50056):   5%|▌         | 1/20 [00:21<06:54, 21.84s/it]"
     ]
    },
    {
     "name": "stdout",
     "output_type": "stream",
     "text": [
      "Model Was Saved ! Current Best Avg. Dice: 0.5781370997428894 Current Avg. Dice: 0.5781370997428894 Current Avg. tumor Dice: 0.7110059261322021 Current Avg. lymph Dice: 0.40466511249542236\n"
     ]
    },
    {
     "name": "stderr",
     "output_type": "stream",
     "text": [
      "Training (1819 / 18000 Steps) (loss=0.71378): 100%|██████████| 20/20 [00:29<00:00,  1.49s/it]\n",
      "Training (1839 / 18000 Steps) (loss=0.67562): 100%|██████████| 20/20 [00:18<00:00,  1.08it/s]\n",
      "Training (1859 / 18000 Steps) (loss=0.54621): 100%|██████████| 20/20 [00:17<00:00,  1.13it/s]\n",
      "Training (1879 / 18000 Steps) (loss=0.61102): 100%|██████████| 20/20 [00:18<00:00,  1.10it/s]\n",
      "Training (1899 / 18000 Steps) (loss=0.46306): 100%|██████████| 20/20 [00:18<00:00,  1.06it/s]\n",
      "Validate (1900 / 10 Steps): 100%|██████████| 8/8 [00:15<00:00,  1.88s/it]8<?, ?it/s]\n",
      "Training (1900 / 18000 Steps) (loss=0.58645):   5%|▌         | 1/20 [00:24<07:47, 24.61s/it]"
     ]
    },
    {
     "name": "stdout",
     "output_type": "stream",
     "text": [
      "Model Was Saved ! Current Best Avg. Dice: 0.5846177339553833 Current Avg. Dice: 0.5846177339553833 Current Avg. tumor Dice: 0.6785915493965149 Current Avg. lymph Dice: 0.46905070543289185\n"
     ]
    },
    {
     "name": "stderr",
     "output_type": "stream",
     "text": [
      "Training (1919 / 18000 Steps) (loss=0.63703): 100%|██████████| 20/20 [00:32<00:00,  1.63s/it]\n",
      "Training (1939 / 18000 Steps) (loss=0.61379): 100%|██████████| 20/20 [00:18<00:00,  1.10it/s]\n",
      "Training (1959 / 18000 Steps) (loss=0.50555): 100%|██████████| 20/20 [00:20<00:00,  1.00s/it]\n",
      "Training (1979 / 18000 Steps) (loss=0.64125): 100%|██████████| 20/20 [00:18<00:00,  1.07it/s]\n",
      "Training (1999 / 18000 Steps) (loss=0.66971): 100%|██████████| 20/20 [00:18<00:00,  1.09it/s]\n",
      "Validate (2000 / 10 Steps): 100%|██████████| 8/8 [00:13<00:00,  1.70s/it]9<?, ?it/s]\n",
      "Training (2000 / 18000 Steps) (loss=0.49043):   5%|▌         | 1/20 [00:22<07:11, 22.70s/it]"
     ]
    },
    {
     "name": "stdout",
     "output_type": "stream",
     "text": [
      "Model Was Not Saved ! Current Best Avg. Dice: 0.5846177339553833 Current Avg. Dice: 0.5681639313697815 Current Avg. tumor Dice: 0.6829554438591003 Current Avg. lymph Dice: 0.4174211323261261\n"
     ]
    },
    {
     "name": "stderr",
     "output_type": "stream",
     "text": [
      "Training (2019 / 18000 Steps) (loss=0.45536): 100%|██████████| 20/20 [00:30<00:00,  1.54s/it]\n",
      "Training (2039 / 18000 Steps) (loss=0.30315): 100%|██████████| 20/20 [00:20<00:00,  1.02s/it]\n",
      "Training (2059 / 18000 Steps) (loss=0.55408): 100%|██████████| 20/20 [00:17<00:00,  1.15it/s]\n",
      "Training (2079 / 18000 Steps) (loss=0.62457): 100%|██████████| 20/20 [00:18<00:00,  1.09it/s]\n",
      "Training (2099 / 18000 Steps) (loss=0.50695): 100%|██████████| 20/20 [00:20<00:00,  1.03s/it]\n",
      "Validate (2100 / 10 Steps): 100%|██████████| 8/8 [00:13<00:00,  1.75s/it]6<?, ?it/s]\n",
      "Training (2100 / 18000 Steps) (loss=0.54999):   5%|▌         | 1/20 [00:21<06:45, 21.35s/it]"
     ]
    },
    {
     "name": "stdout",
     "output_type": "stream",
     "text": [
      "Model Was Saved ! Current Best Avg. Dice: 0.6045016050338745 Current Avg. Dice: 0.6045016050338745 Current Avg. tumor Dice: 0.6935749053955078 Current Avg. lymph Dice: 0.48824235796928406\n"
     ]
    },
    {
     "name": "stderr",
     "output_type": "stream",
     "text": [
      "Training (2119 / 18000 Steps) (loss=0.39659): 100%|██████████| 20/20 [00:29<00:00,  1.47s/it]\n",
      "Training (2139 / 18000 Steps) (loss=0.37297): 100%|██████████| 20/20 [00:19<00:00,  1.03it/s]\n",
      "Training (2159 / 18000 Steps) (loss=0.50384): 100%|██████████| 20/20 [00:17<00:00,  1.13it/s]\n",
      "Training (2179 / 18000 Steps) (loss=0.58993): 100%|██████████| 20/20 [00:21<00:00,  1.06s/it]\n",
      "Training (2199 / 18000 Steps) (loss=0.60228): 100%|██████████| 20/20 [00:17<00:00,  1.13it/s]\n",
      "Validate (2200 / 10 Steps): 100%|██████████| 8/8 [00:15<00:00,  1.95s/it]6<?, ?it/s]\n",
      "Training (2200 / 18000 Steps) (loss=0.49527):   5%|▌         | 1/20 [00:22<07:08, 22.55s/it]"
     ]
    },
    {
     "name": "stdout",
     "output_type": "stream",
     "text": [
      "Model Was Saved ! Current Best Avg. Dice: 0.6060956716537476 Current Avg. Dice: 0.6060956716537476 Current Avg. tumor Dice: 0.7358785271644592 Current Avg. lymph Dice: 0.44193655252456665\n"
     ]
    },
    {
     "name": "stderr",
     "output_type": "stream",
     "text": [
      "Training (2219 / 18000 Steps) (loss=0.53494): 100%|██████████| 20/20 [00:30<00:00,  1.53s/it]\n",
      "Training (2239 / 18000 Steps) (loss=0.57465): 100%|██████████| 20/20 [00:18<00:00,  1.06it/s]\n",
      "Training (2259 / 18000 Steps) (loss=0.43767): 100%|██████████| 20/20 [00:19<00:00,  1.02it/s]\n",
      "Training (2279 / 18000 Steps) (loss=0.50377): 100%|██████████| 20/20 [00:19<00:00,  1.04it/s]\n",
      "Training (2299 / 18000 Steps) (loss=0.50288): 100%|██████████| 20/20 [00:18<00:00,  1.07it/s]\n",
      "Validate (2300 / 10 Steps): 100%|██████████| 8/8 [00:15<00:00,  1.92s/it]6<?, ?it/s]\n",
      "Training (2300 / 18000 Steps) (loss=0.56654):   5%|▌         | 1/20 [00:22<07:04, 22.35s/it]"
     ]
    },
    {
     "name": "stdout",
     "output_type": "stream",
     "text": [
      "Model Was Saved ! Current Best Avg. Dice: 0.6061052680015564 Current Avg. Dice: 0.6061052680015564 Current Avg. tumor Dice: 0.7252486944198608 Current Avg. lymph Dice: 0.4535466432571411\n"
     ]
    },
    {
     "name": "stderr",
     "output_type": "stream",
     "text": [
      "Training (2319 / 18000 Steps) (loss=0.38357): 100%|██████████| 20/20 [00:30<00:00,  1.52s/it]\n",
      "Training (2339 / 18000 Steps) (loss=0.58295): 100%|██████████| 20/20 [00:19<00:00,  1.02it/s]\n",
      "Training (2359 / 18000 Steps) (loss=0.33176): 100%|██████████| 20/20 [00:18<00:00,  1.10it/s]\n",
      "Training (2379 / 18000 Steps) (loss=0.61339): 100%|██████████| 20/20 [00:18<00:00,  1.10it/s]\n",
      "Training (2399 / 18000 Steps) (loss=0.69957): 100%|██████████| 20/20 [00:17<00:00,  1.12it/s]\n",
      "Validate (2400 / 10 Steps): 100%|██████████| 8/8 [00:14<00:00,  1.84s/it]9<?, ?it/s]\n",
      "Training (2400 / 18000 Steps) (loss=0.55573):   5%|▌         | 1/20 [00:23<07:32, 23.81s/it]"
     ]
    },
    {
     "name": "stdout",
     "output_type": "stream",
     "text": [
      "Model Was Not Saved ! Current Best Avg. Dice: 0.6061052680015564 Current Avg. Dice: 0.5645065307617188 Current Avg. tumor Dice: 0.6707299947738647 Current Avg. lymph Dice: 0.430418461561203\n"
     ]
    },
    {
     "name": "stderr",
     "output_type": "stream",
     "text": [
      "Training (2419 / 18000 Steps) (loss=0.38417): 100%|██████████| 20/20 [00:31<00:00,  1.59s/it]\n",
      "Training (2439 / 18000 Steps) (loss=0.55343): 100%|██████████| 20/20 [00:18<00:00,  1.11it/s]\n",
      "Training (2459 / 18000 Steps) (loss=0.52409): 100%|██████████| 20/20 [00:18<00:00,  1.08it/s]\n",
      "Training (2479 / 18000 Steps) (loss=0.46174): 100%|██████████| 20/20 [00:19<00:00,  1.04it/s]\n",
      "Training (2499 / 18000 Steps) (loss=0.50757): 100%|██████████| 20/20 [00:18<00:00,  1.08it/s]\n",
      "Validate (2500 / 10 Steps): 100%|██████████| 8/8 [00:15<00:00,  1.91s/it]8<?, ?it/s]\n",
      "Training (2500 / 18000 Steps) (loss=0.51109):   5%|▌         | 1/20 [00:24<07:40, 24.24s/it]"
     ]
    },
    {
     "name": "stdout",
     "output_type": "stream",
     "text": [
      "Model Was Saved ! Current Best Avg. Dice: 0.6116466522216797 Current Avg. Dice: 0.6116466522216797 Current Avg. tumor Dice: 0.7080802917480469 Current Avg. lymph Dice: 0.48896101117134094\n"
     ]
    },
    {
     "name": "stderr",
     "output_type": "stream",
     "text": [
      "Training (2519 / 18000 Steps) (loss=0.33133): 100%|██████████| 20/20 [00:32<00:00,  1.61s/it]\n",
      "Training (2539 / 18000 Steps) (loss=0.56139): 100%|██████████| 20/20 [00:18<00:00,  1.09it/s]\n",
      "Training (2559 / 18000 Steps) (loss=0.67293): 100%|██████████| 20/20 [00:19<00:00,  1.05it/s]\n",
      "Training (2579 / 18000 Steps) (loss=0.59935): 100%|██████████| 20/20 [00:18<00:00,  1.07it/s]\n",
      "Training (2599 / 18000 Steps) (loss=0.51400): 100%|██████████| 20/20 [00:18<00:00,  1.11it/s]\n",
      "Validate (2600 / 10 Steps): 100%|██████████| 8/8 [00:14<00:00,  1.80s/it]6<?, ?it/s]\n",
      "Training (2600 / 18000 Steps) (loss=0.48344):   5%|▌         | 1/20 [00:21<06:44, 21.27s/it]"
     ]
    },
    {
     "name": "stdout",
     "output_type": "stream",
     "text": [
      "Model Was Saved ! Current Best Avg. Dice: 0.6271387934684753 Current Avg. Dice: 0.6271387934684753 Current Avg. tumor Dice: 0.744637668132782 Current Avg. lymph Dice: 0.47518783807754517\n"
     ]
    },
    {
     "name": "stderr",
     "output_type": "stream",
     "text": [
      "Training (2619 / 18000 Steps) (loss=0.39575): 100%|██████████| 20/20 [00:29<00:00,  1.46s/it]\n",
      "Training (2639 / 18000 Steps) (loss=0.47361): 100%|██████████| 20/20 [00:19<00:00,  1.01it/s]\n",
      "Training (2659 / 18000 Steps) (loss=0.58063): 100%|██████████| 20/20 [00:17<00:00,  1.13it/s]\n",
      "Training (2679 / 18000 Steps) (loss=0.59387): 100%|██████████| 20/20 [00:19<00:00,  1.04it/s]\n",
      "Training (2699 / 18000 Steps) (loss=0.42465): 100%|██████████| 20/20 [00:18<00:00,  1.09it/s]\n",
      "Validate (2700 / 10 Steps): 100%|██████████| 8/8 [00:14<00:00,  1.77s/it]6<?, ?it/s]\n",
      "Training (2700 / 18000 Steps) (loss=0.40018):   5%|▌         | 1/20 [00:20<06:32, 20.66s/it]"
     ]
    },
    {
     "name": "stdout",
     "output_type": "stream",
     "text": [
      "Model Was Not Saved ! Current Best Avg. Dice: 0.6271387934684753 Current Avg. Dice: 0.5957967042922974 Current Avg. tumor Dice: 0.7135989665985107 Current Avg. lymph Dice: 0.4541039764881134\n"
     ]
    },
    {
     "name": "stderr",
     "output_type": "stream",
     "text": [
      "Training (2719 / 18000 Steps) (loss=0.61562): 100%|██████████| 20/20 [00:28<00:00,  1.43s/it]\n",
      "Training (2739 / 18000 Steps) (loss=0.39405): 100%|██████████| 20/20 [00:18<00:00,  1.10it/s]\n",
      "Training (2759 / 18000 Steps) (loss=0.32729): 100%|██████████| 20/20 [00:18<00:00,  1.08it/s]\n",
      "Training (2779 / 18000 Steps) (loss=0.51166): 100%|██████████| 20/20 [00:18<00:00,  1.10it/s]\n",
      "Training (2799 / 18000 Steps) (loss=0.33955): 100%|██████████| 20/20 [00:16<00:00,  1.19it/s]\n",
      "Validate (2800 / 10 Steps): 100%|██████████| 8/8 [00:13<00:00,  1.74s/it]7<?, ?it/s]\n",
      "Training (2800 / 18000 Steps) (loss=0.44444):   5%|▌         | 1/20 [00:22<07:08, 22.53s/it]"
     ]
    },
    {
     "name": "stdout",
     "output_type": "stream",
     "text": [
      "Model Was Saved ! Current Best Avg. Dice: 0.6448114514350891 Current Avg. Dice: 0.6448114514350891 Current Avg. tumor Dice: 0.7691975235939026 Current Avg. lymph Dice: 0.49346235394477844\n"
     ]
    },
    {
     "name": "stderr",
     "output_type": "stream",
     "text": [
      "Training (2819 / 18000 Steps) (loss=0.34378): 100%|██████████| 20/20 [00:30<00:00,  1.52s/it]\n",
      "Training (2839 / 18000 Steps) (loss=0.35382): 100%|██████████| 20/20 [00:19<00:00,  1.05it/s]\n",
      "Training (2859 / 18000 Steps) (loss=0.43561): 100%|██████████| 20/20 [00:18<00:00,  1.10it/s]\n",
      "Training (2879 / 18000 Steps) (loss=0.54806): 100%|██████████| 20/20 [00:19<00:00,  1.05it/s]\n",
      "Training (2899 / 18000 Steps) (loss=0.57654): 100%|██████████| 20/20 [00:18<00:00,  1.10it/s]\n",
      "Validate (2900 / 10 Steps): 100%|██████████| 8/8 [00:13<00:00,  1.70s/it]7<?, ?it/s]\n",
      "Training (2900 / 18000 Steps) (loss=0.53417):   5%|▌         | 1/20 [00:21<06:49, 21.56s/it]"
     ]
    },
    {
     "name": "stdout",
     "output_type": "stream",
     "text": [
      "Model Was Saved ! Current Best Avg. Dice: 0.6501054167747498 Current Avg. Dice: 0.6501054167747498 Current Avg. tumor Dice: 0.7701104283332825 Current Avg. lymph Dice: 0.4996005594730377\n"
     ]
    },
    {
     "name": "stderr",
     "output_type": "stream",
     "text": [
      "Training (2919 / 18000 Steps) (loss=0.49006): 100%|██████████| 20/20 [00:29<00:00,  1.48s/it]\n",
      "Training (2939 / 18000 Steps) (loss=0.51250): 100%|██████████| 20/20 [00:19<00:00,  1.05it/s]\n",
      "Training (2959 / 18000 Steps) (loss=0.30552): 100%|██████████| 20/20 [00:17<00:00,  1.12it/s]\n",
      "Training (2979 / 18000 Steps) (loss=0.48802): 100%|██████████| 20/20 [00:20<00:00,  1.01s/it]\n",
      "Training (2999 / 18000 Steps) (loss=0.60072): 100%|██████████| 20/20 [00:16<00:00,  1.18it/s]\n",
      "Validate (3000 / 10 Steps): 100%|██████████| 8/8 [00:14<00:00,  1.81s/it]6<?, ?it/s]\n",
      "Training (3000 / 18000 Steps) (loss=0.62104):   5%|▌         | 1/20 [00:21<06:40, 21.10s/it]"
     ]
    },
    {
     "name": "stdout",
     "output_type": "stream",
     "text": [
      "Model Was Not Saved ! Current Best Avg. Dice: 0.6501054167747498 Current Avg. Dice: 0.5773170590400696 Current Avg. tumor Dice: 0.6791616082191467 Current Avg. lymph Dice: 0.4432569742202759\n"
     ]
    },
    {
     "name": "stderr",
     "output_type": "stream",
     "text": [
      "Training (3019 / 18000 Steps) (loss=0.57455): 100%|██████████| 20/20 [00:29<00:00,  1.45s/it]\n",
      "Training (3039 / 18000 Steps) (loss=0.31391): 100%|██████████| 20/20 [00:18<00:00,  1.11it/s]\n",
      "Training (3059 / 18000 Steps) (loss=0.53804): 100%|██████████| 20/20 [00:20<00:00,  1.01s/it]\n",
      "Training (3079 / 18000 Steps) (loss=0.50159): 100%|██████████| 20/20 [00:18<00:00,  1.07it/s]\n",
      "Training (3099 / 18000 Steps) (loss=0.54105): 100%|██████████| 20/20 [00:18<00:00,  1.09it/s]\n",
      "Validate (3100 / 10 Steps): 100%|██████████| 8/8 [00:14<00:00,  1.76s/it]7<?, ?it/s]\n",
      "Training (3100 / 18000 Steps) (loss=0.48291):   5%|▌         | 1/20 [00:21<06:44, 21.27s/it]"
     ]
    },
    {
     "name": "stdout",
     "output_type": "stream",
     "text": [
      "Model Was Not Saved ! Current Best Avg. Dice: 0.6501054167747498 Current Avg. Dice: 0.6184744238853455 Current Avg. tumor Dice: 0.7505097985267639 Current Avg. lymph Dice: 0.4523255527019501\n"
     ]
    },
    {
     "name": "stderr",
     "output_type": "stream",
     "text": [
      "Training (3119 / 18000 Steps) (loss=0.32154): 100%|██████████| 20/20 [00:29<00:00,  1.46s/it]\n",
      "Training (3139 / 18000 Steps) (loss=0.49347): 100%|██████████| 20/20 [00:19<00:00,  1.05it/s]\n",
      "Training (3159 / 18000 Steps) (loss=0.44418): 100%|██████████| 20/20 [00:17<00:00,  1.12it/s]\n",
      "Training (3179 / 18000 Steps) (loss=0.38073): 100%|██████████| 20/20 [00:17<00:00,  1.14it/s]\n",
      "Training (3199 / 18000 Steps) (loss=0.33705): 100%|██████████| 20/20 [00:17<00:00,  1.13it/s]\n",
      "Validate (3200 / 10 Steps): 100%|██████████| 8/8 [00:13<00:00,  1.69s/it]8<?, ?it/s]\n",
      "Training (3200 / 18000 Steps) (loss=0.40871):   5%|▌         | 1/20 [00:22<07:08, 22.55s/it]"
     ]
    },
    {
     "name": "stdout",
     "output_type": "stream",
     "text": [
      "Model Was Not Saved ! Current Best Avg. Dice: 0.6501054167747498 Current Avg. Dice: 0.6116371154785156 Current Avg. tumor Dice: 0.7322207093238831 Current Avg. lymph Dice: 0.4576640725135803\n"
     ]
    },
    {
     "name": "stderr",
     "output_type": "stream",
     "text": [
      "Training (3219 / 18000 Steps) (loss=0.25230): 100%|██████████| 20/20 [00:30<00:00,  1.53s/it]\n",
      "Training (3239 / 18000 Steps) (loss=0.55244): 100%|██████████| 20/20 [00:18<00:00,  1.10it/s]\n",
      "Training (3259 / 18000 Steps) (loss=0.45640): 100%|██████████| 20/20 [00:17<00:00,  1.15it/s]\n",
      "Training (3279 / 18000 Steps) (loss=0.47550): 100%|██████████| 20/20 [00:18<00:00,  1.10it/s]\n",
      "Training (3299 / 18000 Steps) (loss=0.43635): 100%|██████████| 20/20 [00:18<00:00,  1.10it/s]\n",
      "Validate (3300 / 10 Steps): 100%|██████████| 8/8 [00:14<00:00,  1.85s/it]1<?, ?it/s]\n",
      "Training (3300 / 18000 Steps) (loss=0.38270):   5%|▌         | 1/20 [00:25<08:12, 25.92s/it]"
     ]
    },
    {
     "name": "stdout",
     "output_type": "stream",
     "text": [
      "Model Was Not Saved ! Current Best Avg. Dice: 0.6501054167747498 Current Avg. Dice: 0.6221455335617065 Current Avg. tumor Dice: 0.714410662651062 Current Avg. lymph Dice: 0.5068607926368713\n"
     ]
    },
    {
     "name": "stderr",
     "output_type": "stream",
     "text": [
      "Training (3319 / 18000 Steps) (loss=0.33129): 100%|██████████| 20/20 [00:33<00:00,  1.70s/it]\n",
      "Training (3339 / 18000 Steps) (loss=0.30069): 100%|██████████| 20/20 [00:18<00:00,  1.09it/s]\n",
      "Training (3359 / 18000 Steps) (loss=0.60760): 100%|██████████| 20/20 [00:19<00:00,  1.02it/s]\n",
      "Training (3379 / 18000 Steps) (loss=0.47447): 100%|██████████| 20/20 [00:17<00:00,  1.14it/s]\n",
      "Training (3399 / 18000 Steps) (loss=0.31291): 100%|██████████| 20/20 [00:18<00:00,  1.06it/s]\n",
      "Validate (3400 / 10 Steps): 100%|██████████| 8/8 [00:14<00:00,  1.81s/it]8<?, ?it/s]\n",
      "Training (3400 / 18000 Steps) (loss=0.39878):   5%|▌         | 1/20 [00:22<07:14, 22.85s/it]"
     ]
    },
    {
     "name": "stdout",
     "output_type": "stream",
     "text": [
      "Model Was Not Saved ! Current Best Avg. Dice: 0.6501054167747498 Current Avg. Dice: 0.6366987824440002 Current Avg. tumor Dice: 0.7504119873046875 Current Avg. lymph Dice: 0.4919462203979492\n"
     ]
    },
    {
     "name": "stderr",
     "output_type": "stream",
     "text": [
      "Training (3419 / 18000 Steps) (loss=0.44261): 100%|██████████| 20/20 [00:30<00:00,  1.54s/it]\n",
      "Training (3439 / 18000 Steps) (loss=0.43139): 100%|██████████| 20/20 [00:18<00:00,  1.05it/s]\n",
      "Training (3459 / 18000 Steps) (loss=0.51900): 100%|██████████| 20/20 [00:19<00:00,  1.04it/s]\n",
      "Training (3479 / 18000 Steps) (loss=0.28665): 100%|██████████| 20/20 [00:18<00:00,  1.06it/s]\n",
      "Training (3499 / 18000 Steps) (loss=0.40068): 100%|██████████| 20/20 [00:19<00:00,  1.01it/s]\n",
      "Validate (3500 / 10 Steps): 100%|██████████| 8/8 [00:14<00:00,  1.77s/it]7<?, ?it/s]\n",
      "Training (3500 / 18000 Steps) (loss=0.38672):   5%|▌         | 1/20 [00:22<06:59, 22.06s/it]"
     ]
    },
    {
     "name": "stdout",
     "output_type": "stream",
     "text": [
      "Model Was Saved ! Current Best Avg. Dice: 0.6506025791168213 Current Avg. Dice: 0.6506025791168213 Current Avg. tumor Dice: 0.7505826354026794 Current Avg. lymph Dice: 0.5285647511482239\n"
     ]
    },
    {
     "name": "stderr",
     "output_type": "stream",
     "text": [
      "Training (3519 / 18000 Steps) (loss=0.45945): 100%|██████████| 20/20 [00:30<00:00,  1.51s/it]\n",
      "Training (3539 / 18000 Steps) (loss=0.39706): 100%|██████████| 20/20 [00:18<00:00,  1.10it/s]\n",
      "Training (3559 / 18000 Steps) (loss=0.48360): 100%|██████████| 20/20 [00:19<00:00,  1.03it/s]\n",
      "Training (3579 / 18000 Steps) (loss=0.52782): 100%|██████████| 20/20 [00:18<00:00,  1.10it/s]\n",
      "Training (3599 / 18000 Steps) (loss=0.50448): 100%|██████████| 20/20 [00:18<00:00,  1.05it/s]\n",
      "Validate (3600 / 10 Steps): 100%|██████████| 8/8 [00:14<00:00,  1.85s/it]6<?, ?it/s]\n",
      "Training (3600 / 18000 Steps) (loss=0.45047):   5%|▌         | 1/20 [00:21<06:39, 21.04s/it]"
     ]
    },
    {
     "name": "stdout",
     "output_type": "stream",
     "text": [
      "Model Was Not Saved ! Current Best Avg. Dice: 0.6506025791168213 Current Avg. Dice: 0.6488915681838989 Current Avg. tumor Dice: 0.7622523903846741 Current Avg. lymph Dice: 0.5070218443870544\n"
     ]
    },
    {
     "name": "stderr",
     "output_type": "stream",
     "text": [
      "Training (3619 / 18000 Steps) (loss=0.51099): 100%|██████████| 20/20 [00:29<00:00,  1.45s/it]\n",
      "Training (3639 / 18000 Steps) (loss=0.53892): 100%|██████████| 20/20 [00:19<00:00,  1.01it/s]\n",
      "Training (3659 / 18000 Steps) (loss=0.56742): 100%|██████████| 20/20 [00:17<00:00,  1.12it/s]\n",
      "Training (3679 / 18000 Steps) (loss=0.26195): 100%|██████████| 20/20 [00:18<00:00,  1.07it/s]\n",
      "Training (3699 / 18000 Steps) (loss=0.38309): 100%|██████████| 20/20 [00:18<00:00,  1.08it/s]\n",
      "Validate (3700 / 10 Steps): 100%|██████████| 8/8 [00:13<00:00,  1.67s/it]9<?, ?it/s]\n",
      "Training (3700 / 18000 Steps) (loss=0.38834):   5%|▌         | 1/20 [00:23<07:17, 23.03s/it]"
     ]
    },
    {
     "name": "stdout",
     "output_type": "stream",
     "text": [
      "Model Was Not Saved ! Current Best Avg. Dice: 0.6506025791168213 Current Avg. Dice: 0.6342946290969849 Current Avg. tumor Dice: 0.7586977481842041 Current Avg. lymph Dice: 0.47854453325271606\n"
     ]
    },
    {
     "name": "stderr",
     "output_type": "stream",
     "text": [
      "Training (3719 / 18000 Steps) (loss=0.35280): 100%|██████████| 20/20 [00:31<00:00,  1.56s/it]\n",
      "Training (3739 / 18000 Steps) (loss=0.53572): 100%|██████████| 20/20 [00:17<00:00,  1.12it/s]\n",
      "Training (3759 / 18000 Steps) (loss=0.26987): 100%|██████████| 20/20 [00:18<00:00,  1.07it/s]\n",
      "Training (3779 / 18000 Steps) (loss=0.28545): 100%|██████████| 20/20 [00:18<00:00,  1.08it/s]\n",
      "Training (3799 / 18000 Steps) (loss=0.54321): 100%|██████████| 20/20 [00:18<00:00,  1.10it/s]\n",
      "Validate (3800 / 10 Steps): 100%|██████████| 8/8 [00:13<00:00,  1.74s/it]6<?, ?it/s]\n",
      "Training (3800 / 18000 Steps) (loss=0.46214):   5%|▌         | 1/20 [00:21<06:42, 21.17s/it]"
     ]
    },
    {
     "name": "stdout",
     "output_type": "stream",
     "text": [
      "Model Was Saved ! Current Best Avg. Dice: 0.651678204536438 Current Avg. Dice: 0.651678204536438 Current Avg. tumor Dice: 0.769558846950531 Current Avg. lymph Dice: 0.502770185470581\n"
     ]
    },
    {
     "name": "stderr",
     "output_type": "stream",
     "text": [
      "Training (3819 / 18000 Steps) (loss=0.29830): 100%|██████████| 20/20 [00:29<00:00,  1.46s/it]\n",
      "Training (3839 / 18000 Steps) (loss=0.48268): 100%|██████████| 20/20 [00:18<00:00,  1.06it/s]\n",
      "Training (3859 / 18000 Steps) (loss=0.56467): 100%|██████████| 20/20 [00:17<00:00,  1.13it/s]\n",
      "Training (3879 / 18000 Steps) (loss=0.47713): 100%|██████████| 20/20 [00:18<00:00,  1.08it/s]\n",
      "Training (3899 / 18000 Steps) (loss=0.36958): 100%|██████████| 20/20 [00:18<00:00,  1.07it/s]\n",
      "Validate (3900 / 10 Steps): 100%|██████████| 8/8 [00:14<00:00,  1.75s/it]6<?, ?it/s]\n",
      "Training (3900 / 18000 Steps) (loss=0.39094):   5%|▌         | 1/20 [00:20<06:27, 20.41s/it]"
     ]
    },
    {
     "name": "stdout",
     "output_type": "stream",
     "text": [
      "Model Was Not Saved ! Current Best Avg. Dice: 0.651678204536438 Current Avg. Dice: 0.6404130458831787 Current Avg. tumor Dice: 0.7714968323707581 Current Avg. lymph Dice: 0.4841122627258301\n"
     ]
    },
    {
     "name": "stderr",
     "output_type": "stream",
     "text": [
      "Training (3919 / 18000 Steps) (loss=0.35857): 100%|██████████| 20/20 [00:28<00:00,  1.42s/it]\n",
      "Training (3939 / 18000 Steps) (loss=0.56722): 100%|██████████| 20/20 [00:18<00:00,  1.08it/s]\n",
      "Training (3959 / 18000 Steps) (loss=0.49236): 100%|██████████| 20/20 [00:18<00:00,  1.09it/s]\n",
      "Training (3979 / 18000 Steps) (loss=0.46516): 100%|██████████| 20/20 [00:19<00:00,  1.04it/s]\n",
      "Training (3999 / 18000 Steps) (loss=0.44492): 100%|██████████| 20/20 [00:18<00:00,  1.06it/s]\n",
      "Validate (4000 / 10 Steps): 100%|██████████| 8/8 [00:13<00:00,  1.75s/it]8<?, ?it/s]\n",
      "Training (4000 / 18000 Steps) (loss=0.48738):   5%|▌         | 1/20 [00:22<07:05, 22.40s/it]"
     ]
    },
    {
     "name": "stdout",
     "output_type": "stream",
     "text": [
      "Model Was Not Saved ! Current Best Avg. Dice: 0.651678204536438 Current Avg. Dice: 0.6257988214492798 Current Avg. tumor Dice: 0.7467386722564697 Current Avg. lymph Dice: 0.4779720902442932\n"
     ]
    },
    {
     "name": "stderr",
     "output_type": "stream",
     "text": [
      "Training (4019 / 18000 Steps) (loss=0.49772): 100%|██████████| 20/20 [00:30<00:00,  1.52s/it]\n",
      "Training (4039 / 18000 Steps) (loss=0.45959): 100%|██████████| 20/20 [00:17<00:00,  1.12it/s]\n",
      "Training (4059 / 18000 Steps) (loss=0.22979): 100%|██████████| 20/20 [00:18<00:00,  1.05it/s]\n",
      "Training (4079 / 18000 Steps) (loss=0.41124): 100%|██████████| 20/20 [00:16<00:00,  1.22it/s]\n",
      "Training (4099 / 18000 Steps) (loss=0.34967): 100%|██████████| 20/20 [00:18<00:00,  1.08it/s]\n",
      "Validate (4100 / 10 Steps): 100%|██████████| 8/8 [00:14<00:00,  1.79s/it]6<?, ?it/s]\n",
      "Training (4100 / 18000 Steps) (loss=0.37117):   5%|▌         | 1/20 [00:21<06:45, 21.36s/it]"
     ]
    },
    {
     "name": "stdout",
     "output_type": "stream",
     "text": [
      "Model Was Saved ! Current Best Avg. Dice: 0.6603345274925232 Current Avg. Dice: 0.6603345274925232 Current Avg. tumor Dice: 0.7714875340461731 Current Avg. lymph Dice: 0.5209928750991821\n"
     ]
    },
    {
     "name": "stderr",
     "output_type": "stream",
     "text": [
      "Training (4119 / 18000 Steps) (loss=0.48627): 100%|██████████| 20/20 [00:29<00:00,  1.47s/it]\n",
      "Training (4139 / 18000 Steps) (loss=0.42067): 100%|██████████| 20/20 [00:19<00:00,  1.01it/s]\n",
      "Training (4159 / 18000 Steps) (loss=0.47167): 100%|██████████| 20/20 [00:18<00:00,  1.08it/s]\n",
      "Training (4179 / 18000 Steps) (loss=0.40911): 100%|██████████| 20/20 [00:17<00:00,  1.11it/s]\n",
      "Training (4199 / 18000 Steps) (loss=0.16388): 100%|██████████| 20/20 [00:19<00:00,  1.03it/s]\n",
      "Validate (4200 / 10 Steps): 100%|██████████| 8/8 [00:13<00:00,  1.66s/it]8<?, ?it/s]\n",
      "Training (4200 / 18000 Steps) (loss=0.35687):   5%|▌         | 1/20 [00:22<06:59, 22.06s/it]"
     ]
    },
    {
     "name": "stdout",
     "output_type": "stream",
     "text": [
      "Model Was Not Saved ! Current Best Avg. Dice: 0.6603345274925232 Current Avg. Dice: 0.6409290432929993 Current Avg. tumor Dice: 0.7608500719070435 Current Avg. lymph Dice: 0.4925212264060974\n"
     ]
    },
    {
     "name": "stderr",
     "output_type": "stream",
     "text": [
      "Training (4219 / 18000 Steps) (loss=0.44197): 100%|██████████| 20/20 [00:30<00:00,  1.51s/it]\n",
      "Training (4239 / 18000 Steps) (loss=0.40550): 100%|██████████| 20/20 [00:18<00:00,  1.11it/s]\n",
      "Training (4259 / 18000 Steps) (loss=0.28028): 100%|██████████| 20/20 [00:17<00:00,  1.13it/s]\n",
      "Training (4279 / 18000 Steps) (loss=0.54948): 100%|██████████| 20/20 [00:18<00:00,  1.07it/s]\n",
      "Training (4299 / 18000 Steps) (loss=0.40378): 100%|██████████| 20/20 [00:19<00:00,  1.05it/s]\n",
      "Validate (4300 / 10 Steps): 100%|██████████| 8/8 [00:15<00:00,  1.93s/it]7<?, ?it/s]\n",
      "Training (4300 / 18000 Steps) (loss=0.43340):   5%|▌         | 1/20 [00:23<07:18, 23.06s/it]"
     ]
    },
    {
     "name": "stdout",
     "output_type": "stream",
     "text": [
      "Model Was Not Saved ! Current Best Avg. Dice: 0.6603345274925232 Current Avg. Dice: 0.6174776554107666 Current Avg. tumor Dice: 0.7158740162849426 Current Avg. lymph Dice: 0.49613139033317566\n"
     ]
    },
    {
     "name": "stderr",
     "output_type": "stream",
     "text": [
      "Training (4319 / 18000 Steps) (loss=0.59218): 100%|██████████| 20/20 [00:31<00:00,  1.55s/it]\n",
      "Training (4339 / 18000 Steps) (loss=0.50743): 100%|██████████| 20/20 [00:18<00:00,  1.10it/s]\n",
      "Training (4359 / 18000 Steps) (loss=0.31786): 100%|██████████| 20/20 [00:20<00:00,  1.03s/it]\n",
      "Training (4379 / 18000 Steps) (loss=0.56156): 100%|██████████| 20/20 [00:17<00:00,  1.12it/s]\n",
      "Training (4399 / 18000 Steps) (loss=0.30988): 100%|██████████| 20/20 [00:18<00:00,  1.08it/s]\n",
      "Validate (4400 / 10 Steps): 100%|██████████| 8/8 [00:13<00:00,  1.71s/it]6<?, ?it/s]\n",
      "Training (4400 / 18000 Steps) (loss=0.34873):   5%|▌         | 1/20 [00:19<06:16, 19.83s/it]"
     ]
    },
    {
     "name": "stdout",
     "output_type": "stream",
     "text": [
      "Model Was Not Saved ! Current Best Avg. Dice: 0.6603345274925232 Current Avg. Dice: 0.6448948979377747 Current Avg. tumor Dice: 0.7522708773612976 Current Avg. lymph Dice: 0.5107066035270691\n"
     ]
    },
    {
     "name": "stderr",
     "output_type": "stream",
     "text": [
      "Training (4419 / 18000 Steps) (loss=0.31122): 100%|██████████| 20/20 [00:27<00:00,  1.39s/it]\n",
      "Training (4439 / 18000 Steps) (loss=0.44760): 100%|██████████| 20/20 [00:20<00:00,  1.01s/it]\n",
      "Training (4459 / 18000 Steps) (loss=0.51059): 100%|██████████| 20/20 [00:17<00:00,  1.11it/s]\n",
      "Training (4479 / 18000 Steps) (loss=0.43795): 100%|██████████| 20/20 [00:18<00:00,  1.10it/s]\n",
      "Training (4499 / 18000 Steps) (loss=0.42131): 100%|██████████| 20/20 [00:17<00:00,  1.14it/s]\n",
      "Validate (4500 / 10 Steps): 100%|██████████| 8/8 [00:14<00:00,  1.78s/it]6<?, ?it/s]\n",
      "Training (4500 / 18000 Steps) (loss=0.23905):   5%|▌         | 1/20 [00:20<06:33, 20.70s/it]"
     ]
    },
    {
     "name": "stdout",
     "output_type": "stream",
     "text": [
      "Model Was Not Saved ! Current Best Avg. Dice: 0.6603345274925232 Current Avg. Dice: 0.6524471640586853 Current Avg. tumor Dice: 0.7507910132408142 Current Avg. lymph Dice: 0.5380510687828064\n"
     ]
    },
    {
     "name": "stderr",
     "output_type": "stream",
     "text": [
      "Training (4519 / 18000 Steps) (loss=0.45225): 100%|██████████| 20/20 [00:29<00:00,  1.45s/it]\n",
      "Training (4539 / 18000 Steps) (loss=0.57039): 100%|██████████| 20/20 [00:16<00:00,  1.18it/s]\n",
      "Training (4559 / 18000 Steps) (loss=0.49266): 100%|██████████| 20/20 [00:18<00:00,  1.09it/s]\n",
      "Training (4579 / 18000 Steps) (loss=0.42583): 100%|██████████| 20/20 [00:20<00:00,  1.02s/it]\n",
      "Training (4599 / 18000 Steps) (loss=0.30695): 100%|██████████| 20/20 [00:18<00:00,  1.08it/s]\n",
      "Validate (4600 / 10 Steps): 100%|██████████| 8/8 [00:14<00:00,  1.83s/it]7<?, ?it/s]\n",
      "Training (4600 / 18000 Steps) (loss=0.50905):   5%|▌         | 1/20 [00:21<06:57, 21.99s/it]"
     ]
    },
    {
     "name": "stdout",
     "output_type": "stream",
     "text": [
      "Model Was Not Saved ! Current Best Avg. Dice: 0.6603345274925232 Current Avg. Dice: 0.6382368803024292 Current Avg. tumor Dice: 0.7569379210472107 Current Avg. lymph Dice: 0.5018160939216614\n"
     ]
    },
    {
     "name": "stderr",
     "output_type": "stream",
     "text": [
      "Training (4619 / 18000 Steps) (loss=0.38530): 100%|██████████| 20/20 [00:30<00:00,  1.50s/it]\n",
      "Training (4639 / 18000 Steps) (loss=0.25476): 100%|██████████| 20/20 [00:19<00:00,  1.04it/s]\n",
      "Training (4659 / 18000 Steps) (loss=0.17867): 100%|██████████| 20/20 [00:19<00:00,  1.04it/s]\n",
      "Training (4679 / 18000 Steps) (loss=0.31449): 100%|██████████| 20/20 [00:17<00:00,  1.13it/s]\n",
      "Training (4699 / 18000 Steps) (loss=0.41494): 100%|██████████| 20/20 [00:18<00:00,  1.07it/s]\n",
      "Validate (4700 / 10 Steps): 100%|██████████| 8/8 [00:14<00:00,  1.87s/it]7<?, ?it/s]\n",
      "Training (4700 / 18000 Steps) (loss=0.42827):   5%|▌         | 1/20 [00:23<07:18, 23.06s/it]"
     ]
    },
    {
     "name": "stdout",
     "output_type": "stream",
     "text": [
      "Model Was Saved ! Current Best Avg. Dice: 0.670659065246582 Current Avg. Dice: 0.670659065246582 Current Avg. tumor Dice: 0.7806002497673035 Current Avg. lymph Dice: 0.5424078702926636\n"
     ]
    },
    {
     "name": "stderr",
     "output_type": "stream",
     "text": [
      "Training (4719 / 18000 Steps) (loss=0.18269): 100%|██████████| 20/20 [00:31<00:00,  1.55s/it]\n",
      "Training (4739 / 18000 Steps) (loss=0.50644): 100%|██████████| 20/20 [00:19<00:00,  1.03it/s]\n",
      "Training (4759 / 18000 Steps) (loss=0.30932): 100%|██████████| 20/20 [00:16<00:00,  1.18it/s]\n",
      "Training (4779 / 18000 Steps) (loss=0.42861): 100%|██████████| 20/20 [00:19<00:00,  1.04it/s]\n",
      "Training (4799 / 18000 Steps) (loss=0.34987): 100%|██████████| 20/20 [00:18<00:00,  1.09it/s]\n",
      "Validate (4800 / 10 Steps): 100%|██████████| 8/8 [00:14<00:00,  1.82s/it]7<?, ?it/s]\n",
      "Training (4800 / 18000 Steps) (loss=0.42173):   5%|▌         | 1/20 [00:21<06:54, 21.80s/it]"
     ]
    },
    {
     "name": "stdout",
     "output_type": "stream",
     "text": [
      "Model Was Not Saved ! Current Best Avg. Dice: 0.670659065246582 Current Avg. Dice: 0.6405273675918579 Current Avg. tumor Dice: 0.754499077796936 Current Avg. lymph Dice: 0.4998789429664612\n"
     ]
    },
    {
     "name": "stderr",
     "output_type": "stream",
     "text": [
      "Training (4819 / 18000 Steps) (loss=0.45815): 100%|██████████| 20/20 [00:29<00:00,  1.50s/it]\n",
      "Training (4839 / 18000 Steps) (loss=0.52156): 100%|██████████| 20/20 [00:18<00:00,  1.07it/s]\n",
      "Training (4859 / 18000 Steps) (loss=0.54504): 100%|██████████| 20/20 [00:17<00:00,  1.13it/s]\n",
      "Training (4879 / 18000 Steps) (loss=0.20969): 100%|██████████| 20/20 [00:19<00:00,  1.02it/s]\n",
      "Training (4899 / 18000 Steps) (loss=0.26324): 100%|██████████| 20/20 [00:17<00:00,  1.15it/s]\n",
      "Validate (4900 / 10 Steps): 100%|██████████| 8/8 [00:15<00:00,  1.92s/it]7<?, ?it/s]\n",
      "Training (4900 / 18000 Steps) (loss=0.35272):   5%|▌         | 1/20 [00:22<07:14, 22.88s/it]"
     ]
    },
    {
     "name": "stdout",
     "output_type": "stream",
     "text": [
      "Model Was Not Saved ! Current Best Avg. Dice: 0.670659065246582 Current Avg. Dice: 0.6537295579910278 Current Avg. tumor Dice: 0.7735937237739563 Current Avg. lymph Dice: 0.5030491948127747\n"
     ]
    },
    {
     "name": "stderr",
     "output_type": "stream",
     "text": [
      "Training (4919 / 18000 Steps) (loss=0.31145): 100%|██████████| 20/20 [00:31<00:00,  1.55s/it]\n",
      "Training (4939 / 18000 Steps) (loss=0.34413): 100%|██████████| 20/20 [00:16<00:00,  1.21it/s]\n",
      "Training (4959 / 18000 Steps) (loss=0.50760): 100%|██████████| 20/20 [00:18<00:00,  1.07it/s]\n",
      "Training (4979 / 18000 Steps) (loss=0.18326): 100%|██████████| 20/20 [00:17<00:00,  1.12it/s]\n",
      "Training (4999 / 18000 Steps) (loss=0.41557): 100%|██████████| 20/20 [00:18<00:00,  1.11it/s]\n",
      "Validate (5000 / 10 Steps): 100%|██████████| 8/8 [00:14<00:00,  1.84s/it]6<?, ?it/s]\n",
      "Training (5000 / 18000 Steps) (loss=0.37267):   5%|▌         | 1/20 [00:20<06:37, 20.90s/it]"
     ]
    },
    {
     "name": "stdout",
     "output_type": "stream",
     "text": [
      "Model Was Not Saved ! Current Best Avg. Dice: 0.670659065246582 Current Avg. Dice: 0.65388023853302 Current Avg. tumor Dice: 0.762934148311615 Current Avg. lymph Dice: 0.5194918513298035\n"
     ]
    },
    {
     "name": "stderr",
     "output_type": "stream",
     "text": [
      "Training (5019 / 18000 Steps) (loss=0.53410): 100%|██████████| 20/20 [00:28<00:00,  1.44s/it]\n",
      "Training (5039 / 18000 Steps) (loss=0.37109): 100%|██████████| 20/20 [00:18<00:00,  1.09it/s]\n",
      "Training (5059 / 18000 Steps) (loss=0.16757): 100%|██████████| 20/20 [00:17<00:00,  1.12it/s]\n",
      "Training (5079 / 18000 Steps) (loss=0.59371): 100%|██████████| 20/20 [00:17<00:00,  1.11it/s]\n",
      "Training (5099 / 18000 Steps) (loss=0.54446): 100%|██████████| 20/20 [00:18<00:00,  1.10it/s]\n",
      "Validate (5100 / 10 Steps): 100%|██████████| 8/8 [00:14<00:00,  1.81s/it]6<?, ?it/s]\n",
      "Training (5100 / 18000 Steps) (loss=0.38074):   5%|▌         | 1/20 [00:20<06:31, 20.60s/it]"
     ]
    },
    {
     "name": "stdout",
     "output_type": "stream",
     "text": [
      "Model Was Not Saved ! Current Best Avg. Dice: 0.670659065246582 Current Avg. Dice: 0.6326507329940796 Current Avg. tumor Dice: 0.7233309149742126 Current Avg. lymph Dice: 0.5241844058036804\n"
     ]
    },
    {
     "name": "stderr",
     "output_type": "stream",
     "text": [
      "Training (5119 / 18000 Steps) (loss=0.43655): 100%|██████████| 20/20 [00:28<00:00,  1.44s/it]\n",
      "Training (5139 / 18000 Steps) (loss=0.14842): 100%|██████████| 20/20 [00:17<00:00,  1.16it/s]\n",
      "Training (5159 / 18000 Steps) (loss=0.20468): 100%|██████████| 20/20 [00:18<00:00,  1.10it/s]\n",
      "Training (5179 / 18000 Steps) (loss=0.31360): 100%|██████████| 20/20 [00:18<00:00,  1.09it/s]\n",
      "Training (5199 / 18000 Steps) (loss=0.19708): 100%|██████████| 20/20 [00:17<00:00,  1.11it/s]\n",
      "Validate (5200 / 10 Steps): 100%|██████████| 8/8 [00:14<00:00,  1.83s/it]6<?, ?it/s]\n",
      "Training (5200 / 18000 Steps) (loss=0.38154):   5%|▌         | 1/20 [00:20<06:35, 20.84s/it]"
     ]
    },
    {
     "name": "stdout",
     "output_type": "stream",
     "text": [
      "Model Was Not Saved ! Current Best Avg. Dice: 0.670659065246582 Current Avg. Dice: 0.6503807902336121 Current Avg. tumor Dice: 0.7694833874702454 Current Avg. lymph Dice: 0.5086663961410522\n"
     ]
    },
    {
     "name": "stderr",
     "output_type": "stream",
     "text": [
      "Training (5219 / 18000 Steps) (loss=0.54711): 100%|██████████| 20/20 [00:28<00:00,  1.44s/it]\n",
      "Training (5239 / 18000 Steps) (loss=0.24085): 100%|██████████| 20/20 [00:18<00:00,  1.10it/s]\n",
      "Training (5259 / 18000 Steps) (loss=0.32199): 100%|██████████| 20/20 [00:18<00:00,  1.06it/s]\n",
      "Training (5279 / 18000 Steps) (loss=0.38091): 100%|██████████| 20/20 [00:17<00:00,  1.12it/s]\n",
      "Training (5299 / 18000 Steps) (loss=0.31274): 100%|██████████| 20/20 [00:19<00:00,  1.05it/s]\n",
      "Validate (5300 / 10 Steps): 100%|██████████| 8/8 [00:14<00:00,  1.79s/it]5<?, ?it/s]\n",
      "Training (5300 / 18000 Steps) (loss=0.34453):   5%|▌         | 1/20 [00:20<06:21, 20.07s/it]"
     ]
    },
    {
     "name": "stdout",
     "output_type": "stream",
     "text": [
      "Model Was Not Saved ! Current Best Avg. Dice: 0.670659065246582 Current Avg. Dice: 0.6542977690696716 Current Avg. tumor Dice: 0.769743025302887 Current Avg. lymph Dice: 0.5203630924224854\n"
     ]
    },
    {
     "name": "stderr",
     "output_type": "stream",
     "text": [
      "Training (5319 / 18000 Steps) (loss=0.21883): 100%|██████████| 20/20 [00:28<00:00,  1.42s/it]\n",
      "Training (5339 / 18000 Steps) (loss=0.25259): 100%|██████████| 20/20 [00:18<00:00,  1.09it/s]\n",
      "Training (5359 / 18000 Steps) (loss=0.48095): 100%|██████████| 20/20 [00:18<00:00,  1.10it/s]\n",
      "Training (5379 / 18000 Steps) (loss=0.28155): 100%|██████████| 20/20 [00:17<00:00,  1.12it/s]\n",
      "Training (5399 / 18000 Steps) (loss=0.33767): 100%|██████████| 20/20 [00:17<00:00,  1.13it/s]\n",
      "Validate (5400 / 10 Steps): 100%|██████████| 8/8 [00:14<00:00,  1.77s/it]6<?, ?it/s]\n",
      "Training (5400 / 18000 Steps) (loss=0.51814):   5%|▌         | 1/20 [00:20<06:36, 20.85s/it]"
     ]
    },
    {
     "name": "stdout",
     "output_type": "stream",
     "text": [
      "Model Was Not Saved ! Current Best Avg. Dice: 0.670659065246582 Current Avg. Dice: 0.6534265875816345 Current Avg. tumor Dice: 0.769128680229187 Current Avg. lymph Dice: 0.5122979879379272\n"
     ]
    },
    {
     "name": "stderr",
     "output_type": "stream",
     "text": [
      "Training (5419 / 18000 Steps) (loss=0.19568): 100%|██████████| 20/20 [00:29<00:00,  1.45s/it]\n",
      "Training (5439 / 18000 Steps) (loss=0.27802): 100%|██████████| 20/20 [00:16<00:00,  1.24it/s]\n",
      "Training (5459 / 18000 Steps) (loss=0.50110): 100%|██████████| 20/20 [00:19<00:00,  1.03it/s]\n",
      "Training (5479 / 18000 Steps) (loss=0.53391): 100%|██████████| 20/20 [00:17<00:00,  1.15it/s]\n",
      "Training (5499 / 18000 Steps) (loss=0.47371): 100%|██████████| 20/20 [00:18<00:00,  1.06it/s]\n",
      "Validate (5500 / 10 Steps): 100%|██████████| 8/8 [00:13<00:00,  1.72s/it]9<?, ?it/s]\n",
      "Training (5500 / 18000 Steps) (loss=0.42749):   5%|▌         | 1/20 [00:23<07:17, 23.05s/it]"
     ]
    },
    {
     "name": "stdout",
     "output_type": "stream",
     "text": [
      "Model Was Not Saved ! Current Best Avg. Dice: 0.670659065246582 Current Avg. Dice: 0.6585438251495361 Current Avg. tumor Dice: 0.7772334814071655 Current Avg. lymph Dice: 0.5115960836410522\n"
     ]
    },
    {
     "name": "stderr",
     "output_type": "stream",
     "text": [
      "Training (5519 / 18000 Steps) (loss=0.33242): 100%|██████████| 20/20 [00:30<00:00,  1.55s/it]\n",
      "Training (5539 / 18000 Steps) (loss=0.36203): 100%|██████████| 20/20 [00:17<00:00,  1.13it/s]\n",
      "Training (5559 / 18000 Steps) (loss=0.64057): 100%|██████████| 20/20 [00:19<00:00,  1.04it/s]\n",
      "Training (5579 / 18000 Steps) (loss=0.52817): 100%|██████████| 20/20 [00:17<00:00,  1.15it/s]\n",
      "Training (5599 / 18000 Steps) (loss=0.54716): 100%|██████████| 20/20 [00:17<00:00,  1.12it/s]\n",
      "Validate (5600 / 10 Steps): 100%|██████████| 8/8 [00:14<00:00,  1.75s/it]6<?, ?it/s]\n",
      "Training (5600 / 18000 Steps) (loss=0.51578):   5%|▌         | 1/20 [00:20<06:35, 20.84s/it]"
     ]
    },
    {
     "name": "stdout",
     "output_type": "stream",
     "text": [
      "Model Was Not Saved ! Current Best Avg. Dice: 0.670659065246582 Current Avg. Dice: 0.6472623944282532 Current Avg. tumor Dice: 0.7653871178627014 Current Avg. lymph Dice: 0.5023229122161865\n"
     ]
    },
    {
     "name": "stderr",
     "output_type": "stream",
     "text": [
      "Training (5619 / 18000 Steps) (loss=0.41480): 100%|██████████| 20/20 [00:28<00:00,  1.44s/it]\n",
      "Training (5639 / 18000 Steps) (loss=0.49682): 100%|██████████| 20/20 [00:18<00:00,  1.11it/s]\n",
      "Training (5659 / 18000 Steps) (loss=0.19262): 100%|██████████| 20/20 [00:18<00:00,  1.09it/s]\n",
      "Training (5679 / 18000 Steps) (loss=0.31026): 100%|██████████| 20/20 [00:19<00:00,  1.04it/s]\n",
      "Training (5699 / 18000 Steps) (loss=0.39849): 100%|██████████| 20/20 [00:17<00:00,  1.15it/s]\n",
      "Validate (5700 / 10 Steps): 100%|██████████| 8/8 [00:14<00:00,  1.80s/it]6<?, ?it/s]\n",
      "Training (5700 / 18000 Steps) (loss=0.32476):   5%|▌         | 1/20 [00:21<06:41, 21.11s/it]"
     ]
    },
    {
     "name": "stdout",
     "output_type": "stream",
     "text": [
      "Model Was Not Saved ! Current Best Avg. Dice: 0.670659065246582 Current Avg. Dice: 0.618848443031311 Current Avg. tumor Dice: 0.7360667586326599 Current Avg. lymph Dice: 0.4723955988883972\n"
     ]
    },
    {
     "name": "stderr",
     "output_type": "stream",
     "text": [
      "Training (5719 / 18000 Steps) (loss=0.31206): 100%|██████████| 20/20 [00:29<00:00,  1.45s/it]\n",
      "Training (5739 / 18000 Steps) (loss=0.51018): 100%|██████████| 20/20 [00:17<00:00,  1.17it/s]\n",
      "Training (5759 / 18000 Steps) (loss=0.41880): 100%|██████████| 20/20 [00:17<00:00,  1.12it/s]\n",
      "Training (5779 / 18000 Steps) (loss=0.31832): 100%|██████████| 20/20 [00:16<00:00,  1.18it/s]\n",
      "Training (5799 / 18000 Steps) (loss=0.38827): 100%|██████████| 20/20 [00:16<00:00,  1.19it/s]\n",
      "Validate (5800 / 10 Steps): 100%|██████████| 8/8 [00:14<00:00,  1.79s/it]8<?, ?it/s]\n",
      "Training (5800 / 18000 Steps) (loss=0.37458):   5%|▌         | 1/20 [00:23<07:22, 23.30s/it]"
     ]
    },
    {
     "name": "stdout",
     "output_type": "stream",
     "text": [
      "Model Was Not Saved ! Current Best Avg. Dice: 0.670659065246582 Current Avg. Dice: 0.667567253112793 Current Avg. tumor Dice: 0.7831481695175171 Current Avg. lymph Dice: 0.5265324115753174\n"
     ]
    },
    {
     "name": "stderr",
     "output_type": "stream",
     "text": [
      "Training (5819 / 18000 Steps) (loss=0.35906): 100%|██████████| 20/20 [00:31<00:00,  1.56s/it]\n",
      "Training (5839 / 18000 Steps) (loss=0.49353): 100%|██████████| 20/20 [00:17<00:00,  1.13it/s]\n",
      "Training (5859 / 18000 Steps) (loss=0.61080): 100%|██████████| 20/20 [00:18<00:00,  1.07it/s]\n",
      "Training (5879 / 18000 Steps) (loss=0.41467): 100%|██████████| 20/20 [00:17<00:00,  1.11it/s]\n",
      "Training (5899 / 18000 Steps) (loss=0.42812): 100%|██████████| 20/20 [00:19<00:00,  1.03it/s]\n",
      "Validate (5900 / 10 Steps): 100%|██████████| 8/8 [00:13<00:00,  1.70s/it]6<?, ?it/s]\n",
      "Training (5900 / 18000 Steps) (loss=0.37215):   5%|▌         | 1/20 [00:19<06:19, 19.98s/it]"
     ]
    },
    {
     "name": "stdout",
     "output_type": "stream",
     "text": [
      "Model Was Not Saved ! Current Best Avg. Dice: 0.670659065246582 Current Avg. Dice: 0.6563170552253723 Current Avg. tumor Dice: 0.7955036163330078 Current Avg. lymph Dice: 0.48480987548828125\n"
     ]
    },
    {
     "name": "stderr",
     "output_type": "stream",
     "text": [
      "Training (5919 / 18000 Steps) (loss=0.36766): 100%|██████████| 20/20 [00:27<00:00,  1.40s/it]\n",
      "Training (5939 / 18000 Steps) (loss=0.47376): 100%|██████████| 20/20 [00:18<00:00,  1.09it/s]\n",
      "Training (5959 / 18000 Steps) (loss=0.45836): 100%|██████████| 20/20 [00:16<00:00,  1.18it/s]\n",
      "Training (5979 / 18000 Steps) (loss=0.40096): 100%|██████████| 20/20 [00:18<00:00,  1.07it/s]\n",
      "Training (5999 / 18000 Steps) (loss=0.45367): 100%|██████████| 20/20 [00:16<00:00,  1.24it/s]\n",
      "Validate (6000 / 10 Steps): 100%|██████████| 8/8 [00:14<00:00,  1.79s/it]6<?, ?it/s]\n",
      "Training (6000 / 18000 Steps) (loss=0.52393):   5%|▌         | 1/20 [00:20<06:32, 20.65s/it]"
     ]
    },
    {
     "name": "stdout",
     "output_type": "stream",
     "text": [
      "Model Was Not Saved ! Current Best Avg. Dice: 0.670659065246582 Current Avg. Dice: 0.650728166103363 Current Avg. tumor Dice: 0.7638839483261108 Current Avg. lymph Dice: 0.5165728330612183\n"
     ]
    },
    {
     "name": "stderr",
     "output_type": "stream",
     "text": [
      "Training (6019 / 18000 Steps) (loss=0.31732): 100%|██████████| 20/20 [00:28<00:00,  1.44s/it]\n",
      "Training (6039 / 18000 Steps) (loss=0.34947): 100%|██████████| 20/20 [00:17<00:00,  1.13it/s]\n",
      "Training (6059 / 18000 Steps) (loss=0.60844): 100%|██████████| 20/20 [00:17<00:00,  1.16it/s]\n",
      "Training (6079 / 18000 Steps) (loss=0.45328): 100%|██████████| 20/20 [00:19<00:00,  1.03it/s]\n",
      "Training (6099 / 18000 Steps) (loss=0.53424): 100%|██████████| 20/20 [00:17<00:00,  1.16it/s]\n",
      "Validate (6100 / 10 Steps): 100%|██████████| 8/8 [00:14<00:00,  1.87s/it]7<?, ?it/s]\n",
      "Training (6100 / 18000 Steps) (loss=0.44268):   5%|▌         | 1/20 [00:22<07:07, 22.52s/it]"
     ]
    },
    {
     "name": "stdout",
     "output_type": "stream",
     "text": [
      "Model Was Not Saved ! Current Best Avg. Dice: 0.670659065246582 Current Avg. Dice: 0.6484614610671997 Current Avg. tumor Dice: 0.770250678062439 Current Avg. lymph Dice: 0.5015429854393005\n"
     ]
    },
    {
     "name": "stderr",
     "output_type": "stream",
     "text": [
      "Training (6119 / 18000 Steps) (loss=0.27615): 100%|██████████| 20/20 [00:30<00:00,  1.52s/it]\n",
      "Training (6139 / 18000 Steps) (loss=0.20644): 100%|██████████| 20/20 [00:17<00:00,  1.12it/s]\n",
      "Training (6159 / 18000 Steps) (loss=0.42135): 100%|██████████| 20/20 [00:19<00:00,  1.03it/s]\n",
      "Training (6179 / 18000 Steps) (loss=0.45924): 100%|██████████| 20/20 [00:18<00:00,  1.09it/s]\n",
      "Training (6199 / 18000 Steps) (loss=0.54299): 100%|██████████| 20/20 [00:18<00:00,  1.09it/s]\n",
      "Validate (6200 / 10 Steps): 100%|██████████| 8/8 [00:13<00:00,  1.75s/it]7<?, ?it/s]\n",
      "Training (6200 / 18000 Steps) (loss=0.45014):   5%|▌         | 1/20 [00:21<06:48, 21.49s/it]"
     ]
    },
    {
     "name": "stdout",
     "output_type": "stream",
     "text": [
      "Model Was Not Saved ! Current Best Avg. Dice: 0.670659065246582 Current Avg. Dice: 0.657602071762085 Current Avg. tumor Dice: 0.778911292552948 Current Avg. lymph Dice: 0.5078001618385315\n"
     ]
    },
    {
     "name": "stderr",
     "output_type": "stream",
     "text": [
      "Training (6219 / 18000 Steps) (loss=0.33230): 100%|██████████| 20/20 [00:29<00:00,  1.47s/it]\n",
      "Training (6239 / 18000 Steps) (loss=0.47334): 100%|██████████| 20/20 [00:18<00:00,  1.09it/s]\n",
      "Training (6259 / 18000 Steps) (loss=0.33299): 100%|██████████| 20/20 [00:18<00:00,  1.09it/s]\n",
      "Training (6279 / 18000 Steps) (loss=0.47331): 100%|██████████| 20/20 [00:19<00:00,  1.05it/s]\n",
      "Training (6299 / 18000 Steps) (loss=0.39905): 100%|██████████| 20/20 [00:17<00:00,  1.12it/s]\n",
      "Validate (6300 / 10 Steps): 100%|██████████| 8/8 [00:14<00:00,  1.87s/it]5<?, ?it/s]\n",
      "Training (6300 / 18000 Steps) (loss=0.34175):   5%|▌         | 1/20 [00:20<06:36, 20.86s/it]"
     ]
    },
    {
     "name": "stdout",
     "output_type": "stream",
     "text": [
      "Model Was Not Saved ! Current Best Avg. Dice: 0.670659065246582 Current Avg. Dice: 0.6613937616348267 Current Avg. tumor Dice: 0.7820923328399658 Current Avg. lymph Dice: 0.5193020105361938\n"
     ]
    },
    {
     "name": "stderr",
     "output_type": "stream",
     "text": [
      "Training (6319 / 18000 Steps) (loss=0.38346): 100%|██████████| 20/20 [00:28<00:00,  1.44s/it]\n",
      "Training (6339 / 18000 Steps) (loss=0.54606): 100%|██████████| 20/20 [00:18<00:00,  1.10it/s]\n",
      "Training (6359 / 18000 Steps) (loss=0.53162): 100%|██████████| 20/20 [00:18<00:00,  1.08it/s]\n",
      "Training (6379 / 18000 Steps) (loss=0.27328): 100%|██████████| 20/20 [00:18<00:00,  1.08it/s]\n",
      "Training (6399 / 18000 Steps) (loss=0.41129): 100%|██████████| 20/20 [00:17<00:00,  1.14it/s]\n",
      "Validate (6400 / 10 Steps): 100%|██████████| 8/8 [00:13<00:00,  1.70s/it]0<?, ?it/s]\n",
      "Training (6400 / 18000 Steps) (loss=0.28731):   5%|▌         | 1/20 [00:24<07:44, 24.43s/it]"
     ]
    },
    {
     "name": "stdout",
     "output_type": "stream",
     "text": [
      "Model Was Not Saved ! Current Best Avg. Dice: 0.670659065246582 Current Avg. Dice: 0.6602804660797119 Current Avg. tumor Dice: 0.7794821262359619 Current Avg. lymph Dice: 0.5191085338592529\n"
     ]
    },
    {
     "name": "stderr",
     "output_type": "stream",
     "text": [
      "Training (6419 / 18000 Steps) (loss=0.43380): 100%|██████████| 20/20 [00:32<00:00,  1.62s/it]\n",
      "Training (6439 / 18000 Steps) (loss=0.40640): 100%|██████████| 20/20 [00:17<00:00,  1.13it/s]\n",
      "Training (6459 / 18000 Steps) (loss=0.33396): 100%|██████████| 20/20 [00:18<00:00,  1.09it/s]\n",
      "Training (6479 / 18000 Steps) (loss=0.31203): 100%|██████████| 20/20 [00:17<00:00,  1.14it/s]\n",
      "Training (6499 / 18000 Steps) (loss=0.28342): 100%|██████████| 20/20 [00:17<00:00,  1.14it/s]\n",
      "Validate (6500 / 10 Steps): 100%|██████████| 8/8 [00:14<00:00,  1.77s/it]6<?, ?it/s]\n",
      "Training (6500 / 18000 Steps) (loss=0.48194):   5%|▌         | 1/20 [00:20<06:38, 20.97s/it]"
     ]
    },
    {
     "name": "stdout",
     "output_type": "stream",
     "text": [
      "Model Was Not Saved ! Current Best Avg. Dice: 0.670659065246582 Current Avg. Dice: 0.6582866907119751 Current Avg. tumor Dice: 0.7709283232688904 Current Avg. lymph Dice: 0.5203345417976379\n"
     ]
    },
    {
     "name": "stderr",
     "output_type": "stream",
     "text": [
      "Training (6519 / 18000 Steps) (loss=0.47362): 100%|██████████| 20/20 [00:28<00:00,  1.45s/it]\n",
      "Training (6539 / 18000 Steps) (loss=0.59517): 100%|██████████| 20/20 [00:17<00:00,  1.12it/s]\n",
      "Training (6559 / 18000 Steps) (loss=0.43913): 100%|██████████| 20/20 [00:17<00:00,  1.17it/s]\n",
      "Training (6579 / 18000 Steps) (loss=0.54179): 100%|██████████| 20/20 [00:18<00:00,  1.06it/s]\n",
      "Training (6599 / 18000 Steps) (loss=0.26836): 100%|██████████| 20/20 [00:19<00:00,  1.05it/s]\n",
      "Validate (6600 / 10 Steps): 100%|██████████| 8/8 [00:14<00:00,  1.77s/it]6<?, ?it/s]\n",
      "Training (6600 / 18000 Steps) (loss=0.45058):   5%|▌         | 1/20 [00:20<06:34, 20.75s/it]"
     ]
    },
    {
     "name": "stdout",
     "output_type": "stream",
     "text": [
      "Model Was Not Saved ! Current Best Avg. Dice: 0.670659065246582 Current Avg. Dice: 0.6493943333625793 Current Avg. tumor Dice: 0.7683351039886475 Current Avg. lymph Dice: 0.5076673030853271\n"
     ]
    },
    {
     "name": "stderr",
     "output_type": "stream",
     "text": [
      "Training (6619 / 18000 Steps) (loss=0.47818): 100%|██████████| 20/20 [00:28<00:00,  1.43s/it]\n",
      "Training (6639 / 18000 Steps) (loss=0.31805): 100%|██████████| 20/20 [00:16<00:00,  1.19it/s]\n",
      "Training (6659 / 18000 Steps) (loss=0.55427): 100%|██████████| 20/20 [00:18<00:00,  1.09it/s]\n",
      "Training (6679 / 18000 Steps) (loss=0.42705): 100%|██████████| 20/20 [00:17<00:00,  1.17it/s]\n",
      "Training (6699 / 18000 Steps) (loss=0.28429): 100%|██████████| 20/20 [00:18<00:00,  1.10it/s]\n",
      "Validate (6700 / 10 Steps): 100%|██████████| 8/8 [00:14<00:00,  1.78s/it]0<?, ?it/s]\n",
      "Training (6700 / 18000 Steps) (loss=0.60628):   5%|▌         | 1/20 [00:24<07:49, 24.73s/it]"
     ]
    },
    {
     "name": "stdout",
     "output_type": "stream",
     "text": [
      "Model Was Not Saved ! Current Best Avg. Dice: 0.670659065246582 Current Avg. Dice: 0.6652557849884033 Current Avg. tumor Dice: 0.7838995456695557 Current Avg. lymph Dice: 0.5203357934951782\n"
     ]
    },
    {
     "name": "stderr",
     "output_type": "stream",
     "text": [
      "Training (6719 / 18000 Steps) (loss=0.49540): 100%|██████████| 20/20 [00:32<00:00,  1.64s/it]\n",
      "Training (6739 / 18000 Steps) (loss=0.23756): 100%|██████████| 20/20 [00:16<00:00,  1.21it/s]\n",
      "Training (6759 / 18000 Steps) (loss=0.25872): 100%|██████████| 20/20 [00:18<00:00,  1.09it/s]\n",
      "Training (6779 / 18000 Steps) (loss=0.33550): 100%|██████████| 20/20 [00:17<00:00,  1.17it/s]\n",
      "Training (6799 / 18000 Steps) (loss=0.33725): 100%|██████████| 20/20 [00:18<00:00,  1.05it/s]\n",
      "Validate (6800 / 10 Steps): 100%|██████████| 8/8 [00:13<00:00,  1.71s/it]8<?, ?it/s]\n",
      "Training (6800 / 18000 Steps) (loss=0.47742):   5%|▌         | 1/20 [00:22<07:04, 22.36s/it]"
     ]
    },
    {
     "name": "stdout",
     "output_type": "stream",
     "text": [
      "Model Was Not Saved ! Current Best Avg. Dice: 0.670659065246582 Current Avg. Dice: 0.6620467901229858 Current Avg. tumor Dice: 0.7881996035575867 Current Avg. lymph Dice: 0.5115894675254822\n"
     ]
    },
    {
     "name": "stderr",
     "output_type": "stream",
     "text": [
      "Training (6819 / 18000 Steps) (loss=0.40816): 100%|██████████| 20/20 [00:30<00:00,  1.52s/it]\n",
      "Training (6839 / 18000 Steps) (loss=0.35637): 100%|██████████| 20/20 [00:18<00:00,  1.09it/s]\n",
      "Training (6859 / 18000 Steps) (loss=0.42850): 100%|██████████| 20/20 [00:17<00:00,  1.17it/s]\n",
      "Training (6879 / 18000 Steps) (loss=0.47667): 100%|██████████| 20/20 [00:19<00:00,  1.03it/s]\n",
      "Training (6899 / 18000 Steps) (loss=0.52499): 100%|██████████| 20/20 [00:18<00:00,  1.11it/s]\n",
      "Validate (6900 / 10 Steps): 100%|██████████| 8/8 [00:14<00:00,  1.83s/it]7<?, ?it/s]\n",
      "Training (6900 / 18000 Steps) (loss=0.45799):   5%|▌         | 1/20 [00:21<06:57, 21.99s/it]"
     ]
    },
    {
     "name": "stdout",
     "output_type": "stream",
     "text": [
      "Model Was Not Saved ! Current Best Avg. Dice: 0.670659065246582 Current Avg. Dice: 0.625331699848175 Current Avg. tumor Dice: 0.7590053081512451 Current Avg. lymph Dice: 0.4721827507019043\n"
     ]
    },
    {
     "name": "stderr",
     "output_type": "stream",
     "text": [
      "Training (6919 / 18000 Steps) (loss=0.35527): 100%|██████████| 20/20 [00:30<00:00,  1.50s/it]\n",
      "Training (6939 / 18000 Steps) (loss=0.47794): 100%|██████████| 20/20 [00:17<00:00,  1.16it/s]\n",
      "Training (6959 / 18000 Steps) (loss=0.40758): 100%|██████████| 20/20 [00:20<00:00,  1.02s/it]\n",
      "Training (6979 / 18000 Steps) (loss=0.27407): 100%|██████████| 20/20 [00:18<00:00,  1.09it/s]\n",
      "Training (6999 / 18000 Steps) (loss=0.25221): 100%|██████████| 20/20 [00:18<00:00,  1.08it/s]\n",
      "Validate (7000 / 10 Steps): 100%|██████████| 8/8 [00:13<00:00,  1.70s/it]8<?, ?it/s]\n",
      "Training (7000 / 18000 Steps) (loss=0.53176):   5%|▌         | 1/20 [00:21<06:55, 21.86s/it]"
     ]
    },
    {
     "name": "stdout",
     "output_type": "stream",
     "text": [
      "Model Was Not Saved ! Current Best Avg. Dice: 0.670659065246582 Current Avg. Dice: 0.6537532806396484 Current Avg. tumor Dice: 0.7714417576789856 Current Avg. lymph Dice: 0.5080248117446899\n"
     ]
    },
    {
     "name": "stderr",
     "output_type": "stream",
     "text": [
      "Training (7019 / 18000 Steps) (loss=0.41361): 100%|██████████| 20/20 [00:29<00:00,  1.49s/it]\n",
      "Training (7039 / 18000 Steps) (loss=0.23115): 100%|██████████| 20/20 [00:19<00:00,  1.01it/s]\n",
      "Training (7059 / 18000 Steps) (loss=0.54568): 100%|██████████| 20/20 [00:17<00:00,  1.15it/s]\n",
      "Training (7079 / 18000 Steps) (loss=0.27871): 100%|██████████| 20/20 [00:17<00:00,  1.14it/s]\n",
      "Training (7099 / 18000 Steps) (loss=0.25406): 100%|██████████| 20/20 [00:18<00:00,  1.09it/s]\n",
      "Validate (7100 / 10 Steps): 100%|██████████| 8/8 [00:13<00:00,  1.72s/it]7<?, ?it/s]\n",
      "Training (7100 / 18000 Steps) (loss=0.44010):   5%|▌         | 1/20 [00:21<06:53, 21.75s/it]"
     ]
    },
    {
     "name": "stdout",
     "output_type": "stream",
     "text": [
      "Model Was Saved ! Current Best Avg. Dice: 0.6742343902587891 Current Avg. Dice: 0.6742343902587891 Current Avg. tumor Dice: 0.7958424091339111 Current Avg. lymph Dice: 0.5267991423606873\n"
     ]
    },
    {
     "name": "stderr",
     "output_type": "stream",
     "text": [
      "Training (7119 / 18000 Steps) (loss=0.29756): 100%|██████████| 20/20 [00:29<00:00,  1.48s/it]\n",
      "Training (7139 / 18000 Steps) (loss=0.44524): 100%|██████████| 20/20 [00:17<00:00,  1.14it/s]\n",
      "Training (7159 / 18000 Steps) (loss=0.45012): 100%|██████████| 20/20 [00:19<00:00,  1.04it/s]\n",
      "Training (7179 / 18000 Steps) (loss=0.42214): 100%|██████████| 20/20 [00:18<00:00,  1.10it/s]\n",
      "Training (7199 / 18000 Steps) (loss=0.66518): 100%|██████████| 20/20 [00:19<00:00,  1.03it/s]\n",
      "Validate (7200 / 10 Steps): 100%|██████████| 8/8 [00:13<00:00,  1.73s/it]7<?, ?it/s]\n",
      "Training (7200 / 18000 Steps) (loss=0.47634):   5%|▌         | 1/20 [00:20<06:38, 20.96s/it]"
     ]
    },
    {
     "name": "stdout",
     "output_type": "stream",
     "text": [
      "Model Was Not Saved ! Current Best Avg. Dice: 0.6742343902587891 Current Avg. Dice: 0.6423991322517395 Current Avg. tumor Dice: 0.7696765065193176 Current Avg. lymph Dice: 0.4933522939682007\n"
     ]
    },
    {
     "name": "stderr",
     "output_type": "stream",
     "text": [
      "Training (7219 / 18000 Steps) (loss=0.53105): 100%|██████████| 20/20 [00:28<00:00,  1.45s/it]\n",
      "Training (7239 / 18000 Steps) (loss=0.40672): 100%|██████████| 20/20 [00:17<00:00,  1.12it/s]\n",
      "Training (7259 / 18000 Steps) (loss=0.31225): 100%|██████████| 20/20 [00:17<00:00,  1.15it/s]\n",
      "Training (7279 / 18000 Steps) (loss=0.24284): 100%|██████████| 20/20 [00:17<00:00,  1.14it/s]\n",
      "Training (7299 / 18000 Steps) (loss=0.50255): 100%|██████████| 20/20 [00:18<00:00,  1.10it/s]\n",
      "Validate (7300 / 10 Steps): 100%|██████████| 8/8 [00:14<00:00,  1.76s/it]5<?, ?it/s]\n",
      "Training (7300 / 18000 Steps) (loss=0.44819):   5%|▌         | 1/20 [00:19<06:17, 19.86s/it]"
     ]
    },
    {
     "name": "stdout",
     "output_type": "stream",
     "text": [
      "Model Was Not Saved ! Current Best Avg. Dice: 0.6742343902587891 Current Avg. Dice: 0.6599144339561462 Current Avg. tumor Dice: 0.789582371711731 Current Avg. lymph Dice: 0.5108166933059692\n"
     ]
    },
    {
     "name": "stderr",
     "output_type": "stream",
     "text": [
      "Training (7319 / 18000 Steps) (loss=0.53684): 100%|██████████| 20/20 [00:27<00:00,  1.39s/it]\n",
      "Training (7339 / 18000 Steps) (loss=0.25217): 100%|██████████| 20/20 [00:19<00:00,  1.01it/s]\n",
      "Training (7359 / 18000 Steps) (loss=0.40635): 100%|██████████| 20/20 [00:17<00:00,  1.17it/s]\n",
      "Training (7379 / 18000 Steps) (loss=0.53854): 100%|██████████| 20/20 [00:18<00:00,  1.10it/s]\n",
      "Training (7399 / 18000 Steps) (loss=0.14854): 100%|██████████| 20/20 [00:19<00:00,  1.04it/s]\n",
      "Validate (7400 / 10 Steps): 100%|██████████| 8/8 [00:14<00:00,  1.83s/it]6<?, ?it/s]\n",
      "Training (7400 / 18000 Steps) (loss=0.44028):   5%|▌         | 1/20 [00:20<06:36, 20.85s/it]"
     ]
    },
    {
     "name": "stdout",
     "output_type": "stream",
     "text": [
      "Model Was Not Saved ! Current Best Avg. Dice: 0.6742343902587891 Current Avg. Dice: 0.656058132648468 Current Avg. tumor Dice: 0.7810877561569214 Current Avg. lymph Dice: 0.5071079730987549\n"
     ]
    },
    {
     "name": "stderr",
     "output_type": "stream",
     "text": [
      "Training (7419 / 18000 Steps) (loss=0.38887): 100%|██████████| 20/20 [00:28<00:00,  1.44s/it]\n",
      "Training (7439 / 18000 Steps) (loss=0.56612): 100%|██████████| 20/20 [00:18<00:00,  1.09it/s]\n",
      "Training (7459 / 18000 Steps) (loss=0.50223): 100%|██████████| 20/20 [00:19<00:00,  1.05it/s]\n",
      "Training (7479 / 18000 Steps) (loss=0.37611): 100%|██████████| 20/20 [00:17<00:00,  1.11it/s]\n",
      "Training (7499 / 18000 Steps) (loss=0.54418): 100%|██████████| 20/20 [00:16<00:00,  1.19it/s]\n",
      "Validate (7500 / 10 Steps): 100%|██████████| 8/8 [00:13<00:00,  1.66s/it]0<?, ?it/s]\n",
      "Training (7500 / 18000 Steps) (loss=0.29174):   5%|▌         | 1/20 [00:23<07:31, 23.75s/it]"
     ]
    },
    {
     "name": "stdout",
     "output_type": "stream",
     "text": [
      "Model Was Not Saved ! Current Best Avg. Dice: 0.6742343902587891 Current Avg. Dice: 0.6303432583808899 Current Avg. tumor Dice: 0.7452794313430786 Current Avg. lymph Dice: 0.48742881417274475\n"
     ]
    },
    {
     "name": "stderr",
     "output_type": "stream",
     "text": [
      "Training (7519 / 18000 Steps) (loss=0.38061): 100%|██████████| 20/20 [00:31<00:00,  1.59s/it]\n",
      "Training (7539 / 18000 Steps) (loss=0.34615): 100%|██████████| 20/20 [00:17<00:00,  1.11it/s]\n",
      "Training (7559 / 18000 Steps) (loss=0.39201): 100%|██████████| 20/20 [00:18<00:00,  1.10it/s]\n",
      "Training (7579 / 18000 Steps) (loss=0.41391): 100%|██████████| 20/20 [00:17<00:00,  1.14it/s]\n",
      "Training (7599 / 18000 Steps) (loss=0.29552): 100%|██████████| 20/20 [00:18<00:00,  1.09it/s]\n",
      "Validate (7600 / 10 Steps): 100%|██████████| 8/8 [00:14<00:00,  1.79s/it]6<?, ?it/s]\n",
      "Training (7600 / 18000 Steps) (loss=0.30841):   5%|▌         | 1/20 [00:20<06:37, 20.93s/it]"
     ]
    },
    {
     "name": "stdout",
     "output_type": "stream",
     "text": [
      "Model Was Not Saved ! Current Best Avg. Dice: 0.6742343902587891 Current Avg. Dice: 0.6456155180931091 Current Avg. tumor Dice: 0.7711798548698425 Current Avg. lymph Dice: 0.4985562860965729\n"
     ]
    },
    {
     "name": "stderr",
     "output_type": "stream",
     "text": [
      "Training (7619 / 18000 Steps) (loss=0.39744): 100%|██████████| 20/20 [00:28<00:00,  1.45s/it]\n",
      "Training (7639 / 18000 Steps) (loss=0.19848): 100%|██████████| 20/20 [00:16<00:00,  1.18it/s]\n",
      "Training (7659 / 18000 Steps) (loss=0.20670): 100%|██████████| 20/20 [00:18<00:00,  1.11it/s]\n",
      "Training (7679 / 18000 Steps) (loss=0.34699): 100%|██████████| 20/20 [00:18<00:00,  1.09it/s]\n",
      "Training (7699 / 18000 Steps) (loss=0.35093): 100%|██████████| 20/20 [00:17<00:00,  1.13it/s]\n",
      "Validate (7700 / 10 Steps): 100%|██████████| 8/8 [00:14<00:00,  1.76s/it]7<?, ?it/s]\n",
      "Training (7700 / 18000 Steps) (loss=0.26474):   5%|▌         | 1/20 [00:21<06:45, 21.34s/it]"
     ]
    },
    {
     "name": "stdout",
     "output_type": "stream",
     "text": [
      "Model Was Not Saved ! Current Best Avg. Dice: 0.6742343902587891 Current Avg. Dice: 0.6404677033424377 Current Avg. tumor Dice: 0.790842592716217 Current Avg. lymph Dice: 0.46513062715530396\n"
     ]
    },
    {
     "name": "stderr",
     "output_type": "stream",
     "text": [
      "Training (7719 / 18000 Steps) (loss=0.40462): 100%|██████████| 20/20 [00:29<00:00,  1.46s/it]\n",
      "Training (7739 / 18000 Steps) (loss=0.29223): 100%|██████████| 20/20 [00:18<00:00,  1.09it/s]\n",
      "Training (7759 / 18000 Steps) (loss=0.38653): 100%|██████████| 20/20 [00:19<00:00,  1.05it/s]\n",
      "Training (7779 / 18000 Steps) (loss=0.29001): 100%|██████████| 20/20 [00:17<00:00,  1.17it/s]\n",
      "Training (7799 / 18000 Steps) (loss=0.58891): 100%|██████████| 20/20 [00:17<00:00,  1.17it/s]\n",
      "Validate (7800 / 10 Steps): 100%|██████████| 8/8 [00:13<00:00,  1.68s/it]6<?, ?it/s]\n",
      "Training (7800 / 18000 Steps) (loss=0.34179):   5%|▌         | 1/20 [00:20<06:24, 20.24s/it]"
     ]
    },
    {
     "name": "stdout",
     "output_type": "stream",
     "text": [
      "Model Was Not Saved ! Current Best Avg. Dice: 0.6742343902587891 Current Avg. Dice: 0.6635150909423828 Current Avg. tumor Dice: 0.7729507684707642 Current Avg. lymph Dice: 0.534392774105072\n"
     ]
    },
    {
     "name": "stderr",
     "output_type": "stream",
     "text": [
      "Training (7819 / 18000 Steps) (loss=0.38487): 100%|██████████| 20/20 [00:28<00:00,  1.41s/it]\n",
      "Training (7839 / 18000 Steps) (loss=0.32560): 100%|██████████| 20/20 [00:18<00:00,  1.10it/s]\n",
      "Training (7859 / 18000 Steps) (loss=0.30145): 100%|██████████| 20/20 [00:17<00:00,  1.17it/s]\n",
      "Training (7879 / 18000 Steps) (loss=0.39312): 100%|██████████| 20/20 [00:17<00:00,  1.11it/s]\n",
      "Training (7899 / 18000 Steps) (loss=0.26605): 100%|██████████| 20/20 [00:17<00:00,  1.12it/s]\n",
      "Validate (7900 / 10 Steps): 100%|██████████| 8/8 [00:13<00:00,  1.72s/it]6<?, ?it/s]\n",
      "Training (7900 / 18000 Steps) (loss=0.38221):   5%|▌         | 1/20 [00:20<06:24, 20.22s/it]"
     ]
    },
    {
     "name": "stdout",
     "output_type": "stream",
     "text": [
      "Model Was Not Saved ! Current Best Avg. Dice: 0.6742343902587891 Current Avg. Dice: 0.6456669569015503 Current Avg. tumor Dice: 0.7813470363616943 Current Avg. lymph Dice: 0.48226022720336914\n"
     ]
    },
    {
     "name": "stderr",
     "output_type": "stream",
     "text": [
      "Training (7919 / 18000 Steps) (loss=0.28008): 100%|██████████| 20/20 [00:28<00:00,  1.41s/it]\n",
      "Training (7939 / 18000 Steps) (loss=0.39541): 100%|██████████| 20/20 [00:18<00:00,  1.07it/s]\n",
      "Training (7959 / 18000 Steps) (loss=0.54144): 100%|██████████| 20/20 [00:16<00:00,  1.19it/s]\n",
      "Training (7979 / 18000 Steps) (loss=0.40950): 100%|██████████| 20/20 [00:17<00:00,  1.15it/s]\n",
      "Training (7999 / 18000 Steps) (loss=0.31012): 100%|██████████| 20/20 [00:18<00:00,  1.10it/s]\n",
      "Validate (8000 / 10 Steps): 100%|██████████| 8/8 [00:13<00:00,  1.75s/it]6<?, ?it/s]\n",
      "Training (8000 / 18000 Steps) (loss=0.34610):   5%|▌         | 1/20 [00:20<06:38, 20.96s/it]"
     ]
    },
    {
     "name": "stdout",
     "output_type": "stream",
     "text": [
      "Model Was Not Saved ! Current Best Avg. Dice: 0.6742343902587891 Current Avg. Dice: 0.6280307769775391 Current Avg. tumor Dice: 0.7585935592651367 Current Avg. lymph Dice: 0.4686054587364197\n"
     ]
    },
    {
     "name": "stderr",
     "output_type": "stream",
     "text": [
      "Training (8019 / 18000 Steps) (loss=0.53313): 100%|██████████| 20/20 [00:28<00:00,  1.44s/it]\n",
      "Training (8039 / 18000 Steps) (loss=0.40455): 100%|██████████| 20/20 [00:17<00:00,  1.13it/s]\n",
      "Training (8059 / 18000 Steps) (loss=0.15408): 100%|██████████| 20/20 [00:18<00:00,  1.11it/s]\n",
      "Training (8079 / 18000 Steps) (loss=0.35160): 100%|██████████| 20/20 [00:17<00:00,  1.16it/s]\n",
      "Training (8099 / 18000 Steps) (loss=0.45666): 100%|██████████| 20/20 [00:16<00:00,  1.24it/s]\n",
      "Validate (8100 / 10 Steps): 100%|██████████| 8/8 [00:13<00:00,  1.66s/it]9<?, ?it/s]\n",
      "Training (8100 / 18000 Steps) (loss=0.42049):   5%|▌         | 1/20 [00:22<07:05, 22.39s/it]"
     ]
    },
    {
     "name": "stdout",
     "output_type": "stream",
     "text": [
      "Model Was Not Saved ! Current Best Avg. Dice: 0.6742343902587891 Current Avg. Dice: 0.6456345319747925 Current Avg. tumor Dice: 0.767839789390564 Current Avg. lymph Dice: 0.4949494004249573\n"
     ]
    },
    {
     "name": "stderr",
     "output_type": "stream",
     "text": [
      "Training (8119 / 18000 Steps) (loss=0.61523): 100%|██████████| 20/20 [00:30<00:00,  1.52s/it]\n",
      "Training (8139 / 18000 Steps) (loss=0.18478): 100%|██████████| 20/20 [00:18<00:00,  1.10it/s]\n",
      "Training (8159 / 18000 Steps) (loss=0.61168): 100%|██████████| 20/20 [00:17<00:00,  1.14it/s]\n",
      "Training (8179 / 18000 Steps) (loss=0.41816): 100%|██████████| 20/20 [00:16<00:00,  1.24it/s]\n",
      "Training (8199 / 18000 Steps) (loss=0.14303): 100%|██████████| 20/20 [00:18<00:00,  1.11it/s]\n",
      "Validate (8200 / 10 Steps): 100%|██████████| 8/8 [00:13<00:00,  1.73s/it]6<?, ?it/s]\n",
      "Training (8200 / 18000 Steps) (loss=0.33329):   5%|▌         | 1/20 [00:20<06:25, 20.27s/it]"
     ]
    },
    {
     "name": "stdout",
     "output_type": "stream",
     "text": [
      "Model Was Not Saved ! Current Best Avg. Dice: 0.6742343902587891 Current Avg. Dice: 0.6628064513206482 Current Avg. tumor Dice: 0.7717095613479614 Current Avg. lymph Dice: 0.5316046476364136\n"
     ]
    },
    {
     "name": "stderr",
     "output_type": "stream",
     "text": [
      "Training (8219 / 18000 Steps) (loss=0.45530): 100%|██████████| 20/20 [00:28<00:00,  1.41s/it]\n",
      "Training (8239 / 18000 Steps) (loss=0.12818): 100%|██████████| 20/20 [00:18<00:00,  1.07it/s]\n",
      "Training (8259 / 18000 Steps) (loss=0.40789): 100%|██████████| 20/20 [00:18<00:00,  1.10it/s]\n",
      "Training (8279 / 18000 Steps) (loss=0.27688): 100%|██████████| 20/20 [00:17<00:00,  1.12it/s]\n",
      "Training (8299 / 18000 Steps) (loss=0.48776): 100%|██████████| 20/20 [00:17<00:00,  1.12it/s]\n",
      "Validate (8300 / 10 Steps): 100%|██████████| 8/8 [00:13<00:00,  1.74s/it]6<?, ?it/s]\n",
      "Training (8300 / 18000 Steps) (loss=0.42089):   5%|▌         | 1/20 [00:20<06:21, 20.06s/it]"
     ]
    },
    {
     "name": "stdout",
     "output_type": "stream",
     "text": [
      "Model Was Not Saved ! Current Best Avg. Dice: 0.6742343902587891 Current Avg. Dice: 0.6694818139076233 Current Avg. tumor Dice: 0.7833907604217529 Current Avg. lymph Dice: 0.5416547060012817\n"
     ]
    },
    {
     "name": "stderr",
     "output_type": "stream",
     "text": [
      "Training (8319 / 18000 Steps) (loss=0.36148): 100%|██████████| 20/20 [00:27<00:00,  1.40s/it]\n",
      "Training (8339 / 18000 Steps) (loss=0.42249): 100%|██████████| 20/20 [00:17<00:00,  1.17it/s]\n",
      "Training (8359 / 18000 Steps) (loss=0.45758): 100%|██████████| 20/20 [00:18<00:00,  1.09it/s]\n",
      "Training (8379 / 18000 Steps) (loss=0.53862): 100%|██████████| 20/20 [00:17<00:00,  1.17it/s]\n",
      "Training (8399 / 18000 Steps) (loss=0.42685): 100%|██████████| 20/20 [00:17<00:00,  1.14it/s]\n",
      "Validate (8400 / 10 Steps): 100%|██████████| 8/8 [00:13<00:00,  1.71s/it]8<?, ?it/s]\n",
      "Training (8400 / 18000 Steps) (loss=0.29113):   5%|▌         | 1/20 [00:22<07:06, 22.45s/it]"
     ]
    },
    {
     "name": "stdout",
     "output_type": "stream",
     "text": [
      "Model Was Not Saved ! Current Best Avg. Dice: 0.6742343902587891 Current Avg. Dice: 0.6728886961936951 Current Avg. tumor Dice: 0.7787247896194458 Current Avg. lymph Dice: 0.5455780625343323\n"
     ]
    },
    {
     "name": "stderr",
     "output_type": "stream",
     "text": [
      "Training (8419 / 18000 Steps) (loss=0.55576): 100%|██████████| 20/20 [00:30<00:00,  1.52s/it]\n",
      "Training (8439 / 18000 Steps) (loss=0.46473): 100%|██████████| 20/20 [00:17<00:00,  1.13it/s]\n",
      "Training (8459 / 18000 Steps) (loss=0.38558): 100%|██████████| 20/20 [00:18<00:00,  1.09it/s]\n",
      "Training (8479 / 18000 Steps) (loss=0.30100): 100%|██████████| 20/20 [00:18<00:00,  1.08it/s]\n",
      "Training (8499 / 18000 Steps) (loss=0.44601): 100%|██████████| 20/20 [00:18<00:00,  1.10it/s]\n",
      "Validate (8500 / 10 Steps): 100%|██████████| 8/8 [00:13<00:00,  1.72s/it]6<?, ?it/s]\n",
      "Training (8500 / 18000 Steps) (loss=0.41203):   5%|▌         | 1/20 [00:19<06:18, 19.93s/it]"
     ]
    },
    {
     "name": "stdout",
     "output_type": "stream",
     "text": [
      "Model Was Not Saved ! Current Best Avg. Dice: 0.6742343902587891 Current Avg. Dice: 0.6684037446975708 Current Avg. tumor Dice: 0.7758769392967224 Current Avg. lymph Dice: 0.5375010967254639\n"
     ]
    },
    {
     "name": "stderr",
     "output_type": "stream",
     "text": [
      "Training (8519 / 18000 Steps) (loss=0.42277): 100%|██████████| 20/20 [00:27<00:00,  1.40s/it]\n",
      "Training (8539 / 18000 Steps) (loss=0.35906): 100%|██████████| 20/20 [00:17<00:00,  1.12it/s]\n",
      "Training (8559 / 18000 Steps) (loss=0.27327): 100%|██████████| 20/20 [00:17<00:00,  1.16it/s]\n",
      "Training (8579 / 18000 Steps) (loss=0.49688): 100%|██████████| 20/20 [00:17<00:00,  1.14it/s]\n",
      "Training (8599 / 18000 Steps) (loss=0.25640): 100%|██████████| 20/20 [00:17<00:00,  1.17it/s]\n",
      "Validate (8600 / 10 Steps): 100%|██████████| 8/8 [00:14<00:00,  1.82s/it]7<?, ?it/s]\n",
      "Training (8600 / 18000 Steps) (loss=0.33084):   5%|▌         | 1/20 [00:21<06:51, 21.66s/it]"
     ]
    },
    {
     "name": "stdout",
     "output_type": "stream",
     "text": [
      "Model Was Not Saved ! Current Best Avg. Dice: 0.6742343902587891 Current Avg. Dice: 0.6547307372093201 Current Avg. tumor Dice: 0.7689235210418701 Current Avg. lymph Dice: 0.5242177248001099\n"
     ]
    },
    {
     "name": "stderr",
     "output_type": "stream",
     "text": [
      "Training (8619 / 18000 Steps) (loss=0.57954): 100%|██████████| 20/20 [00:29<00:00,  1.48s/it]\n",
      "Training (8639 / 18000 Steps) (loss=0.17882): 100%|██████████| 20/20 [00:17<00:00,  1.17it/s]\n",
      "Training (8659 / 18000 Steps) (loss=0.53704): 100%|██████████| 20/20 [00:17<00:00,  1.14it/s]\n",
      "Training (8679 / 18000 Steps) (loss=0.41637): 100%|██████████| 20/20 [00:18<00:00,  1.11it/s]\n",
      "Training (8699 / 18000 Steps) (loss=0.29098): 100%|██████████| 20/20 [00:18<00:00,  1.09it/s]\n",
      "Validate (8700 / 10 Steps): 100%|██████████| 8/8 [00:14<00:00,  1.78s/it]6<?, ?it/s]\n",
      "Training (8700 / 18000 Steps) (loss=0.41244):   5%|▌         | 1/20 [00:21<06:54, 21.81s/it]"
     ]
    },
    {
     "name": "stdout",
     "output_type": "stream",
     "text": [
      "Model Was Saved ! Current Best Avg. Dice: 0.6785069704055786 Current Avg. Dice: 0.6785069704055786 Current Avg. tumor Dice: 0.7935112118721008 Current Avg. lymph Dice: 0.5421469211578369\n"
     ]
    },
    {
     "name": "stderr",
     "output_type": "stream",
     "text": [
      "Training (8719 / 18000 Steps) (loss=0.29571): 100%|██████████| 20/20 [00:29<00:00,  1.49s/it]\n",
      "Training (8739 / 18000 Steps) (loss=0.22804): 100%|██████████| 20/20 [00:17<00:00,  1.18it/s]\n",
      "Training (8759 / 18000 Steps) (loss=0.32129): 100%|██████████| 20/20 [00:18<00:00,  1.08it/s]\n",
      "Training (8779 / 18000 Steps) (loss=0.18713): 100%|██████████| 20/20 [00:16<00:00,  1.18it/s]\n",
      "Training (8799 / 18000 Steps) (loss=0.41424): 100%|██████████| 20/20 [00:17<00:00,  1.12it/s]\n",
      "Validate (8800 / 10 Steps): 100%|██████████| 8/8 [00:13<00:00,  1.74s/it]6<?, ?it/s]\n",
      "Training (8800 / 18000 Steps) (loss=0.43921):   5%|▌         | 1/20 [00:20<06:22, 20.15s/it]"
     ]
    },
    {
     "name": "stdout",
     "output_type": "stream",
     "text": [
      "Model Was Not Saved ! Current Best Avg. Dice: 0.6785069704055786 Current Avg. Dice: 0.6734716892242432 Current Avg. tumor Dice: 0.7787433862686157 Current Avg. lymph Dice: 0.5521669983863831\n"
     ]
    },
    {
     "name": "stderr",
     "output_type": "stream",
     "text": [
      "Training (8819 / 18000 Steps) (loss=0.51911): 100%|██████████| 20/20 [00:28<00:00,  1.41s/it]\n",
      "Training (8839 / 18000 Steps) (loss=0.15030): 100%|██████████| 20/20 [00:18<00:00,  1.07it/s]\n",
      "Training (8859 / 18000 Steps) (loss=0.36189): 100%|██████████| 20/20 [00:17<00:00,  1.18it/s]\n",
      "Training (8879 / 18000 Steps) (loss=0.40304): 100%|██████████| 20/20 [00:17<00:00,  1.12it/s]\n",
      "Training (8899 / 18000 Steps) (loss=0.42518): 100%|██████████| 20/20 [00:19<00:00,  1.04it/s]\n",
      "Validate (8900 / 10 Steps): 100%|██████████| 8/8 [00:14<00:00,  1.77s/it]8<?, ?it/s]\n",
      "Training (8900 / 18000 Steps) (loss=0.33157):   5%|▌         | 1/20 [00:22<07:03, 22.28s/it]"
     ]
    },
    {
     "name": "stdout",
     "output_type": "stream",
     "text": [
      "Model Was Not Saved ! Current Best Avg. Dice: 0.6785069704055786 Current Avg. Dice: 0.6728672385215759 Current Avg. tumor Dice: 0.7843616008758545 Current Avg. lymph Dice: 0.5427999496459961\n"
     ]
    },
    {
     "name": "stderr",
     "output_type": "stream",
     "text": [
      "Training (8919 / 18000 Steps) (loss=0.55091): 100%|██████████| 20/20 [00:30<00:00,  1.51s/it]\n",
      "Training (8939 / 18000 Steps) (loss=0.55616): 100%|██████████| 20/20 [00:16<00:00,  1.18it/s]\n",
      "Training (8959 / 18000 Steps) (loss=0.66697): 100%|██████████| 20/20 [00:17<00:00,  1.15it/s]\n",
      "Training (8979 / 18000 Steps) (loss=0.18289): 100%|██████████| 20/20 [00:18<00:00,  1.09it/s]\n",
      "Training (8999 / 18000 Steps) (loss=0.44558): 100%|██████████| 20/20 [00:16<00:00,  1.22it/s]\n",
      "Validate (9000 / 10 Steps): 100%|██████████| 8/8 [00:14<00:00,  1.80s/it]6<?, ?it/s]\n",
      "Training (9000 / 18000 Steps) (loss=0.25110):   5%|▌         | 1/20 [00:21<06:53, 21.74s/it]"
     ]
    },
    {
     "name": "stdout",
     "output_type": "stream",
     "text": [
      "Model Was Saved ! Current Best Avg. Dice: 0.678744912147522 Current Avg. Dice: 0.678744912147522 Current Avg. tumor Dice: 0.7931102514266968 Current Avg. lymph Dice: 0.5416055917739868\n"
     ]
    },
    {
     "name": "stderr",
     "output_type": "stream",
     "text": [
      "Training (9019 / 18000 Steps) (loss=0.29837): 100%|██████████| 20/20 [00:29<00:00,  1.48s/it]\n",
      "Training (9039 / 18000 Steps) (loss=0.43569): 100%|██████████| 20/20 [00:18<00:00,  1.10it/s]\n",
      "Training (9059 / 18000 Steps) (loss=0.29534): 100%|██████████| 20/20 [00:16<00:00,  1.21it/s]\n",
      "Training (9079 / 18000 Steps) (loss=0.43343): 100%|██████████| 20/20 [00:16<00:00,  1.19it/s]\n",
      "Training (9099 / 18000 Steps) (loss=0.31394): 100%|██████████| 20/20 [00:18<00:00,  1.09it/s]\n",
      "Validate (9100 / 10 Steps): 100%|██████████| 8/8 [00:13<00:00,  1.72s/it]6<?, ?it/s]\n",
      "Training (9100 / 18000 Steps) (loss=0.40468):   5%|▌         | 1/20 [00:20<06:34, 20.76s/it]"
     ]
    },
    {
     "name": "stdout",
     "output_type": "stream",
     "text": [
      "Model Was Not Saved ! Current Best Avg. Dice: 0.678744912147522 Current Avg. Dice: 0.6579445004463196 Current Avg. tumor Dice: 0.7695217132568359 Current Avg. lymph Dice: 0.5308718085289001\n"
     ]
    },
    {
     "name": "stderr",
     "output_type": "stream",
     "text": [
      "Training (9119 / 18000 Steps) (loss=0.36544): 100%|██████████| 20/20 [00:28<00:00,  1.43s/it]\n",
      "Training (9139 / 18000 Steps) (loss=0.42814): 100%|██████████| 20/20 [00:17<00:00,  1.12it/s]\n",
      "Training (9159 / 18000 Steps) (loss=0.40481): 100%|██████████| 20/20 [00:17<00:00,  1.12it/s]\n",
      "Training (9179 / 18000 Steps) (loss=0.26125): 100%|██████████| 20/20 [00:17<00:00,  1.15it/s]\n",
      "Training (9199 / 18000 Steps) (loss=0.54212): 100%|██████████| 20/20 [00:17<00:00,  1.14it/s]\n",
      "Validate (9200 / 10 Steps): 100%|██████████| 8/8 [00:13<00:00,  1.75s/it]6<?, ?it/s]\n",
      "Training (9200 / 18000 Steps) (loss=0.31322):   5%|▌         | 1/20 [00:20<06:30, 20.54s/it]"
     ]
    },
    {
     "name": "stdout",
     "output_type": "stream",
     "text": [
      "Model Was Not Saved ! Current Best Avg. Dice: 0.678744912147522 Current Avg. Dice: 0.666517436504364 Current Avg. tumor Dice: 0.773756206035614 Current Avg. lymph Dice: 0.5338696837425232\n"
     ]
    },
    {
     "name": "stderr",
     "output_type": "stream",
     "text": [
      "Training (9219 / 18000 Steps) (loss=0.50592): 100%|██████████| 20/20 [00:28<00:00,  1.42s/it]\n",
      "Training (9239 / 18000 Steps) (loss=0.50077): 100%|██████████| 20/20 [00:17<00:00,  1.15it/s]\n",
      "Training (9259 / 18000 Steps) (loss=0.38952): 100%|██████████| 20/20 [00:17<00:00,  1.13it/s]\n",
      "Training (9279 / 18000 Steps) (loss=0.40112): 100%|██████████| 20/20 [00:17<00:00,  1.15it/s]\n",
      "Training (9299 / 18000 Steps) (loss=0.32916): 100%|██████████| 20/20 [00:17<00:00,  1.15it/s]\n",
      "Validate (9300 / 10 Steps): 100%|██████████| 8/8 [00:14<00:00,  1.78s/it]6<?, ?it/s]\n",
      "Training (9300 / 18000 Steps) (loss=0.34610):   5%|▌         | 1/20 [00:21<06:41, 21.11s/it]"
     ]
    },
    {
     "name": "stdout",
     "output_type": "stream",
     "text": [
      "Model Was Not Saved ! Current Best Avg. Dice: 0.678744912147522 Current Avg. Dice: 0.6618257164955139 Current Avg. tumor Dice: 0.7739789485931396 Current Avg. lymph Dice: 0.5299037098884583\n"
     ]
    },
    {
     "name": "stderr",
     "output_type": "stream",
     "text": [
      "Training (9319 / 18000 Steps) (loss=0.66689): 100%|██████████| 20/20 [00:29<00:00,  1.46s/it]\n",
      "Training (9339 / 18000 Steps) (loss=0.42006): 100%|██████████| 20/20 [00:16<00:00,  1.21it/s]\n",
      "Training (9359 / 18000 Steps) (loss=0.20664): 100%|██████████| 20/20 [00:17<00:00,  1.12it/s]\n",
      "Training (9379 / 18000 Steps) (loss=0.43186): 100%|██████████| 20/20 [00:17<00:00,  1.13it/s]\n",
      "Training (9399 / 18000 Steps) (loss=0.41453): 100%|██████████| 20/20 [00:18<00:00,  1.10it/s]\n",
      "Validate (9400 / 10 Steps): 100%|██████████| 8/8 [00:13<00:00,  1.66s/it]8<?, ?it/s]\n",
      "Training (9400 / 18000 Steps) (loss=0.30941):   5%|▌         | 1/20 [00:21<06:49, 21.54s/it]"
     ]
    },
    {
     "name": "stdout",
     "output_type": "stream",
     "text": [
      "Model Was Not Saved ! Current Best Avg. Dice: 0.678744912147522 Current Avg. Dice: 0.655223548412323 Current Avg. tumor Dice: 0.763739287853241 Current Avg. lymph Dice: 0.5258708596229553\n"
     ]
    },
    {
     "name": "stderr",
     "output_type": "stream",
     "text": [
      "Training (9419 / 18000 Steps) (loss=0.47591): 100%|██████████| 20/20 [00:29<00:00,  1.47s/it]\n",
      "Training (9439 / 18000 Steps) (loss=0.18633): 100%|██████████| 20/20 [00:18<00:00,  1.06it/s]\n",
      "Training (9459 / 18000 Steps) (loss=0.53295): 100%|██████████| 20/20 [00:16<00:00,  1.20it/s]\n",
      "Training (9479 / 18000 Steps) (loss=0.16643): 100%|██████████| 20/20 [00:18<00:00,  1.10it/s]\n",
      "Training (9499 / 18000 Steps) (loss=0.29072): 100%|██████████| 20/20 [00:16<00:00,  1.20it/s]\n",
      "Validate (9500 / 10 Steps): 100%|██████████| 8/8 [00:14<00:00,  1.77s/it]6<?, ?it/s]\n",
      "Training (9500 / 18000 Steps) (loss=0.38820):   5%|▌         | 1/20 [00:20<06:32, 20.64s/it]"
     ]
    },
    {
     "name": "stdout",
     "output_type": "stream",
     "text": [
      "Model Was Not Saved ! Current Best Avg. Dice: 0.678744912147522 Current Avg. Dice: 0.668493926525116 Current Avg. tumor Dice: 0.7764703035354614 Current Avg. lymph Dice: 0.5393693447113037\n"
     ]
    },
    {
     "name": "stderr",
     "output_type": "stream",
     "text": [
      "Training (9519 / 18000 Steps) (loss=0.56881): 100%|██████████| 20/20 [00:28<00:00,  1.43s/it]\n",
      "Training (9539 / 18000 Steps) (loss=0.51047): 100%|██████████| 20/20 [00:17<00:00,  1.16it/s]\n",
      "Training (9559 / 18000 Steps) (loss=0.27029): 100%|██████████| 20/20 [00:17<00:00,  1.14it/s]\n",
      "Training (9579 / 18000 Steps) (loss=0.39366): 100%|██████████| 20/20 [00:17<00:00,  1.15it/s]\n",
      "Training (9599 / 18000 Steps) (loss=0.45873): 100%|██████████| 20/20 [00:16<00:00,  1.19it/s]\n",
      "Validate (9600 / 10 Steps): 100%|██████████| 8/8 [00:13<00:00,  1.74s/it]9<?, ?it/s]\n",
      "Training (9600 / 18000 Steps) (loss=0.27377):   5%|▌         | 1/20 [00:23<07:21, 23.22s/it]"
     ]
    },
    {
     "name": "stdout",
     "output_type": "stream",
     "text": [
      "Model Was Not Saved ! Current Best Avg. Dice: 0.678744912147522 Current Avg. Dice: 0.6764981746673584 Current Avg. tumor Dice: 0.7864320874214172 Current Avg. lymph Dice: 0.5494472980499268\n"
     ]
    },
    {
     "name": "stderr",
     "output_type": "stream",
     "text": [
      "Training (9619 / 18000 Steps) (loss=0.51408): 100%|██████████| 20/20 [00:31<00:00,  1.56s/it]\n",
      "Training (9639 / 18000 Steps) (loss=0.52536): 100%|██████████| 20/20 [00:16<00:00,  1.20it/s]\n",
      "Training (9659 / 18000 Steps) (loss=0.46114): 100%|██████████| 20/20 [00:17<00:00,  1.12it/s]\n",
      "Training (9679 / 18000 Steps) (loss=0.67206): 100%|██████████| 20/20 [00:17<00:00,  1.14it/s]\n",
      "Training (9699 / 18000 Steps) (loss=0.53142): 100%|██████████| 20/20 [00:18<00:00,  1.11it/s]\n",
      "Validate (9700 / 10 Steps): 100%|██████████| 8/8 [00:13<00:00,  1.72s/it]6<?, ?it/s]\n",
      "Training (9700 / 18000 Steps) (loss=0.40052):   5%|▌         | 1/20 [00:20<06:23, 20.20s/it]"
     ]
    },
    {
     "name": "stdout",
     "output_type": "stream",
     "text": [
      "Model Was Not Saved ! Current Best Avg. Dice: 0.678744912147522 Current Avg. Dice: 0.6785247921943665 Current Avg. tumor Dice: 0.7911179661750793 Current Avg. lymph Dice: 0.5444344878196716\n"
     ]
    },
    {
     "name": "stderr",
     "output_type": "stream",
     "text": [
      "Training (9719 / 18000 Steps) (loss=0.26480): 100%|██████████| 20/20 [00:28<00:00,  1.41s/it]\n",
      "Training (9739 / 18000 Steps) (loss=0.46005): 100%|██████████| 20/20 [00:18<00:00,  1.08it/s]\n",
      "Training (9759 / 18000 Steps) (loss=0.36170): 100%|██████████| 20/20 [00:16<00:00,  1.23it/s]\n",
      "Training (9779 / 18000 Steps) (loss=0.37804): 100%|██████████| 20/20 [00:16<00:00,  1.21it/s]\n",
      "Training (9799 / 18000 Steps) (loss=0.40937): 100%|██████████| 20/20 [00:18<00:00,  1.11it/s]\n",
      "Validate (9800 / 10 Steps): 100%|██████████| 8/8 [00:13<00:00,  1.74s/it]6<?, ?it/s]\n",
      "Training (9800 / 18000 Steps) (loss=0.32891):   5%|▌         | 1/20 [00:20<06:22, 20.14s/it]"
     ]
    },
    {
     "name": "stdout",
     "output_type": "stream",
     "text": [
      "Model Was Not Saved ! Current Best Avg. Dice: 0.678744912147522 Current Avg. Dice: 0.6643275618553162 Current Avg. tumor Dice: 0.7775980830192566 Current Avg. lymph Dice: 0.5341044068336487\n"
     ]
    },
    {
     "name": "stderr",
     "output_type": "stream",
     "text": [
      "Training (9819 / 18000 Steps) (loss=0.39110): 100%|██████████| 20/20 [00:28<00:00,  1.41s/it]\n",
      "Training (9839 / 18000 Steps) (loss=0.44512): 100%|██████████| 20/20 [00:17<00:00,  1.15it/s]\n",
      "Training (9859 / 18000 Steps) (loss=0.55704): 100%|██████████| 20/20 [00:16<00:00,  1.21it/s]\n",
      "Training (9879 / 18000 Steps) (loss=0.25753): 100%|██████████| 20/20 [00:19<00:00,  1.04it/s]\n",
      "Training (9899 / 18000 Steps) (loss=0.66839): 100%|██████████| 20/20 [00:16<00:00,  1.18it/s]\n",
      "Validate (9900 / 10 Steps): 100%|██████████| 8/8 [00:13<00:00,  1.74s/it]6<?, ?it/s]\n",
      "Training (9900 / 18000 Steps) (loss=0.56506):   5%|▌         | 1/20 [00:20<06:37, 20.93s/it]"
     ]
    },
    {
     "name": "stdout",
     "output_type": "stream",
     "text": [
      "Model Was Not Saved ! Current Best Avg. Dice: 0.678744912147522 Current Avg. Dice: 0.6693284511566162 Current Avg. tumor Dice: 0.7763373255729675 Current Avg. lymph Dice: 0.5429818630218506\n"
     ]
    },
    {
     "name": "stderr",
     "output_type": "stream",
     "text": [
      "Training (9919 / 18000 Steps) (loss=0.41397): 100%|██████████| 20/20 [00:28<00:00,  1.44s/it]\n",
      "Training (9939 / 18000 Steps) (loss=0.40651): 100%|██████████| 20/20 [00:16<00:00,  1.18it/s]\n",
      "Training (9959 / 18000 Steps) (loss=0.29823): 100%|██████████| 20/20 [00:18<00:00,  1.07it/s]\n",
      "Training (9979 / 18000 Steps) (loss=0.33575): 100%|██████████| 20/20 [00:17<00:00,  1.17it/s]\n",
      "Training (9999 / 18000 Steps) (loss=0.41664): 100%|██████████| 20/20 [00:17<00:00,  1.17it/s]\n",
      "Validate (10000 / 10 Steps): 100%|██████████| 8/8 [00:13<00:00,  1.70s/it]8<?, ?it/s]\n",
      "Training (10000 / 18000 Steps) (loss=0.35320):   5%|▌         | 1/20 [00:22<07:04, 22.34s/it]"
     ]
    },
    {
     "name": "stdout",
     "output_type": "stream",
     "text": [
      "Model Was Not Saved ! Current Best Avg. Dice: 0.678744912147522 Current Avg. Dice: 0.6562030911445618 Current Avg. tumor Dice: 0.7782484889030457 Current Avg. lymph Dice: 0.5170742273330688\n"
     ]
    },
    {
     "name": "stderr",
     "output_type": "stream",
     "text": [
      "Training (10019 / 18000 Steps) (loss=0.32750): 100%|██████████| 20/20 [00:30<00:00,  1.52s/it]\n",
      "Training (10039 / 18000 Steps) (loss=0.47195): 100%|██████████| 20/20 [00:17<00:00,  1.15it/s]\n",
      "Training (10059 / 18000 Steps) (loss=0.27495): 100%|██████████| 20/20 [00:17<00:00,  1.15it/s]\n",
      "Training (10079 / 18000 Steps) (loss=0.27348): 100%|██████████| 20/20 [00:17<00:00,  1.16it/s]\n",
      "Training (10099 / 18000 Steps) (loss=0.54132): 100%|██████████| 20/20 [00:19<00:00,  1.02it/s]\n",
      "Validate (10100 / 10 Steps): 100%|██████████| 8/8 [00:13<00:00,  1.69s/it]6<?, ?it/s]\n",
      "Training (10100 / 18000 Steps) (loss=0.47035):   5%|▌         | 1/20 [00:20<06:23, 20.18s/it]"
     ]
    },
    {
     "name": "stdout",
     "output_type": "stream",
     "text": [
      "Model Was Not Saved ! Current Best Avg. Dice: 0.678744912147522 Current Avg. Dice: 0.6559394598007202 Current Avg. tumor Dice: 0.7869832515716553 Current Avg. lymph Dice: 0.5013148188591003\n"
     ]
    },
    {
     "name": "stderr",
     "output_type": "stream",
     "text": [
      "Training (10119 / 18000 Steps) (loss=0.27763): 100%|██████████| 20/20 [00:28<00:00,  1.41s/it]\n",
      "Training (10139 / 18000 Steps) (loss=0.55599): 100%|██████████| 20/20 [00:17<00:00,  1.13it/s]\n",
      "Training (10159 / 18000 Steps) (loss=0.13849): 100%|██████████| 20/20 [00:16<00:00,  1.19it/s]\n",
      "Training (10179 / 18000 Steps) (loss=0.39026): 100%|██████████| 20/20 [00:16<00:00,  1.18it/s]\n",
      "Training (10199 / 18000 Steps) (loss=0.27805): 100%|██████████| 20/20 [00:16<00:00,  1.18it/s]\n",
      "Validate (10200 / 10 Steps): 100%|██████████| 8/8 [00:13<00:00,  1.72s/it]7<?, ?it/s]\n",
      "Training (10200 / 18000 Steps) (loss=0.17053):   5%|▌         | 1/20 [00:21<06:39, 21.03s/it]"
     ]
    },
    {
     "name": "stdout",
     "output_type": "stream",
     "text": [
      "Model Was Not Saved ! Current Best Avg. Dice: 0.678744912147522 Current Avg. Dice: 0.6682544350624084 Current Avg. tumor Dice: 0.7826486825942993 Current Avg. lymph Dice: 0.5348351001739502\n"
     ]
    },
    {
     "name": "stderr",
     "output_type": "stream",
     "text": [
      "Training (10219 / 18000 Steps) (loss=0.27105): 100%|██████████| 20/20 [00:28<00:00,  1.45s/it]\n",
      "Training (10239 / 18000 Steps) (loss=0.50454): 100%|██████████| 20/20 [00:16<00:00,  1.19it/s]\n",
      "Training (10259 / 18000 Steps) (loss=0.28104): 100%|██████████| 20/20 [00:17<00:00,  1.14it/s]\n",
      "Training (10279 / 18000 Steps) (loss=0.39452): 100%|██████████| 20/20 [00:18<00:00,  1.10it/s]\n",
      "Training (10299 / 18000 Steps) (loss=0.26166): 100%|██████████| 20/20 [00:17<00:00,  1.13it/s]\n",
      "Validate (10300 / 10 Steps): 100%|██████████| 8/8 [00:13<00:00,  1.72s/it]8<?, ?it/s]\n",
      "Training (10300 / 18000 Steps) (loss=0.32509):   5%|▌         | 1/20 [00:22<07:02, 22.22s/it]"
     ]
    },
    {
     "name": "stdout",
     "output_type": "stream",
     "text": [
      "Model Was Not Saved ! Current Best Avg. Dice: 0.678744912147522 Current Avg. Dice: 0.6540423035621643 Current Avg. tumor Dice: 0.7789130806922913 Current Avg. lymph Dice: 0.5086640119552612\n"
     ]
    },
    {
     "name": "stderr",
     "output_type": "stream",
     "text": [
      "Training (10319 / 18000 Steps) (loss=0.53465): 100%|██████████| 20/20 [00:30<00:00,  1.51s/it]\n",
      "Training (10339 / 18000 Steps) (loss=0.39686): 100%|██████████| 20/20 [00:18<00:00,  1.10it/s]\n",
      "Training (10359 / 18000 Steps) (loss=0.15857): 100%|██████████| 20/20 [00:17<00:00,  1.14it/s]\n",
      "Training (10379 / 18000 Steps) (loss=0.13534): 100%|██████████| 20/20 [00:17<00:00,  1.14it/s]\n",
      "Training (10399 / 18000 Steps) (loss=0.31725): 100%|██████████| 20/20 [00:16<00:00,  1.19it/s]\n",
      "Validate (10400 / 10 Steps): 100%|██████████| 8/8 [00:13<00:00,  1.73s/it]6<?, ?it/s]\n",
      "Training (10400 / 18000 Steps) (loss=0.33114):   5%|▌         | 1/20 [00:20<06:36, 20.84s/it]"
     ]
    },
    {
     "name": "stdout",
     "output_type": "stream",
     "text": [
      "Model Was Not Saved ! Current Best Avg. Dice: 0.678744912147522 Current Avg. Dice: 0.635165274143219 Current Avg. tumor Dice: 0.7608262300491333 Current Avg. lymph Dice: 0.4846188724040985\n"
     ]
    },
    {
     "name": "stderr",
     "output_type": "stream",
     "text": [
      "Training (10419 / 18000 Steps) (loss=0.31168): 100%|██████████| 20/20 [00:28<00:00,  1.44s/it]\n",
      "Training (10439 / 18000 Steps) (loss=0.40202): 100%|██████████| 20/20 [00:19<00:00,  1.01it/s]\n",
      "Training (10459 / 18000 Steps) (loss=0.24601): 100%|██████████| 20/20 [00:16<00:00,  1.18it/s]\n",
      "Training (10479 / 18000 Steps) (loss=0.29189): 100%|██████████| 20/20 [00:17<00:00,  1.13it/s]\n",
      "Training (10499 / 18000 Steps) (loss=0.31940): 100%|██████████| 20/20 [00:17<00:00,  1.16it/s]\n",
      "Validate (10500 / 10 Steps): 100%|██████████| 8/8 [00:14<00:00,  1.78s/it]7<?, ?it/s]\n",
      "Training (10500 / 18000 Steps) (loss=0.39989):   5%|▌         | 1/20 [00:21<06:49, 21.53s/it]"
     ]
    },
    {
     "name": "stdout",
     "output_type": "stream",
     "text": [
      "Model Was Not Saved ! Current Best Avg. Dice: 0.678744912147522 Current Avg. Dice: 0.6599771976470947 Current Avg. tumor Dice: 0.7801007032394409 Current Avg. lymph Dice: 0.5193671584129333\n"
     ]
    },
    {
     "name": "stderr",
     "output_type": "stream",
     "text": [
      "Training (10519 / 18000 Steps) (loss=0.44705): 100%|██████████| 20/20 [00:29<00:00,  1.47s/it]\n",
      "Training (10539 / 18000 Steps) (loss=0.39336): 100%|██████████| 20/20 [00:17<00:00,  1.15it/s]\n",
      "Training (10559 / 18000 Steps) (loss=0.49834): 100%|██████████| 20/20 [00:18<00:00,  1.10it/s]\n",
      "Training (10579 / 18000 Steps) (loss=0.34516): 100%|██████████| 20/20 [00:18<00:00,  1.11it/s]\n",
      "Training (10599 / 18000 Steps) (loss=0.30219): 100%|██████████| 20/20 [00:16<00:00,  1.19it/s]\n",
      "Validate (10600 / 10 Steps): 100%|██████████| 8/8 [00:14<00:00,  1.77s/it]7<?, ?it/s]\n",
      "Training (10600 / 18000 Steps) (loss=0.42524):   5%|▌         | 1/20 [00:21<06:44, 21.31s/it]"
     ]
    },
    {
     "name": "stdout",
     "output_type": "stream",
     "text": [
      "Model Was Not Saved ! Current Best Avg. Dice: 0.678744912147522 Current Avg. Dice: 0.5943973064422607 Current Avg. tumor Dice: 0.709033191204071 Current Avg. lymph Dice: 0.45014461874961853\n"
     ]
    },
    {
     "name": "stderr",
     "output_type": "stream",
     "text": [
      "Training (10619 / 18000 Steps) (loss=0.47942): 100%|██████████| 20/20 [00:29<00:00,  1.47s/it]\n",
      "Training (10639 / 18000 Steps) (loss=0.36432): 100%|██████████| 20/20 [00:18<00:00,  1.11it/s]\n",
      "Training (10659 / 18000 Steps) (loss=0.31014): 100%|██████████| 20/20 [00:17<00:00,  1.14it/s]\n",
      "Training (10679 / 18000 Steps) (loss=0.39643): 100%|██████████| 20/20 [00:17<00:00,  1.14it/s]\n",
      "Training (10699 / 18000 Steps) (loss=0.28330): 100%|██████████| 20/20 [00:17<00:00,  1.12it/s]\n",
      "Validate (10700 / 10 Steps): 100%|██████████| 8/8 [00:14<00:00,  1.78s/it]5<?, ?it/s]\n",
      "Training (10700 / 18000 Steps) (loss=0.34559):   5%|▌         | 1/20 [00:20<06:23, 20.16s/it]"
     ]
    },
    {
     "name": "stdout",
     "output_type": "stream",
     "text": [
      "Model Was Not Saved ! Current Best Avg. Dice: 0.678744912147522 Current Avg. Dice: 0.6637052893638611 Current Avg. tumor Dice: 0.7813878655433655 Current Avg. lymph Dice: 0.5308350920677185\n"
     ]
    },
    {
     "name": "stderr",
     "output_type": "stream",
     "text": [
      "Training (10719 / 18000 Steps) (loss=0.28683): 100%|██████████| 20/20 [00:28<00:00,  1.40s/it]\n",
      "Training (10739 / 18000 Steps) (loss=0.51790): 100%|██████████| 20/20 [00:17<00:00,  1.13it/s]\n",
      "Training (10759 / 18000 Steps) (loss=0.36234): 100%|██████████| 20/20 [00:17<00:00,  1.14it/s]\n",
      "Training (10779 / 18000 Steps) (loss=0.41951): 100%|██████████| 20/20 [00:17<00:00,  1.16it/s]\n",
      "Training (10799 / 18000 Steps) (loss=0.28372): 100%|██████████| 20/20 [00:16<00:00,  1.19it/s]\n",
      "Validate (10800 / 10 Steps): 100%|██████████| 8/8 [00:13<00:00,  1.71s/it]5<?, ?it/s]\n",
      "Training (10800 / 18000 Steps) (loss=0.41844):   5%|▌         | 1/20 [00:19<06:06, 19.31s/it]"
     ]
    },
    {
     "name": "stdout",
     "output_type": "stream",
     "text": [
      "Model Was Not Saved ! Current Best Avg. Dice: 0.678744912147522 Current Avg. Dice: 0.5735169649124146 Current Avg. tumor Dice: 0.7159269452095032 Current Avg. lymph Dice: 0.3940966725349426\n"
     ]
    },
    {
     "name": "stderr",
     "output_type": "stream",
     "text": [
      "Training (10819 / 18000 Steps) (loss=0.31996): 100%|██████████| 20/20 [00:27<00:00,  1.36s/it]\n",
      "Training (10839 / 18000 Steps) (loss=0.51052): 100%|██████████| 20/20 [00:16<00:00,  1.22it/s]\n",
      "Training (10859 / 18000 Steps) (loss=0.40360): 100%|██████████| 20/20 [00:17<00:00,  1.15it/s]\n",
      "Training (10879 / 18000 Steps) (loss=0.52559): 100%|██████████| 20/20 [00:17<00:00,  1.12it/s]\n",
      "Training (10899 / 18000 Steps) (loss=0.42688): 100%|██████████| 20/20 [00:17<00:00,  1.14it/s]\n",
      "Validate (10900 / 10 Steps): 100%|██████████| 8/8 [00:14<00:00,  1.85s/it]6<?, ?it/s]\n",
      "Training (10900 / 18000 Steps) (loss=0.52819):   5%|▌         | 1/20 [00:21<06:45, 21.33s/it]"
     ]
    },
    {
     "name": "stdout",
     "output_type": "stream",
     "text": [
      "Model Was Not Saved ! Current Best Avg. Dice: 0.678744912147522 Current Avg. Dice: 0.6628603339195251 Current Avg. tumor Dice: 0.7762202024459839 Current Avg. lymph Dice: 0.5318883061408997\n"
     ]
    },
    {
     "name": "stderr",
     "output_type": "stream",
     "text": [
      "Training (10919 / 18000 Steps) (loss=0.39464): 100%|██████████| 20/20 [00:29<00:00,  1.46s/it]\n",
      "Training (10939 / 18000 Steps) (loss=0.26039): 100%|██████████| 20/20 [00:18<00:00,  1.11it/s]\n",
      "Training (10959 / 18000 Steps) (loss=0.40407): 100%|██████████| 20/20 [00:18<00:00,  1.11it/s]\n",
      "Training (10979 / 18000 Steps) (loss=0.47379): 100%|██████████| 20/20 [00:17<00:00,  1.12it/s]\n",
      "Training (10999 / 18000 Steps) (loss=0.23223): 100%|██████████| 20/20 [00:18<00:00,  1.07it/s]\n",
      "Validate (11000 / 10 Steps): 100%|██████████| 8/8 [00:13<00:00,  1.70s/it]5<?, ?it/s]\n",
      "Training (11000 / 18000 Steps) (loss=0.33079):   5%|▌         | 1/20 [00:19<06:11, 19.54s/it]"
     ]
    },
    {
     "name": "stdout",
     "output_type": "stream",
     "text": [
      "Model Was Not Saved ! Current Best Avg. Dice: 0.678744912147522 Current Avg. Dice: 0.6724264621734619 Current Avg. tumor Dice: 0.7866958379745483 Current Avg. lymph Dice: 0.541567862033844\n"
     ]
    },
    {
     "name": "stderr",
     "output_type": "stream",
     "text": [
      "Training (11019 / 18000 Steps) (loss=0.23306): 100%|██████████| 20/20 [00:27<00:00,  1.38s/it]\n",
      "Training (11039 / 18000 Steps) (loss=0.33990): 100%|██████████| 20/20 [00:17<00:00,  1.13it/s]\n",
      "Training (11059 / 18000 Steps) (loss=0.13975): 100%|██████████| 20/20 [00:17<00:00,  1.17it/s]\n",
      "Training (11079 / 18000 Steps) (loss=0.39485): 100%|██████████| 20/20 [00:16<00:00,  1.20it/s]\n",
      "Training (11099 / 18000 Steps) (loss=0.27142): 100%|██████████| 20/20 [00:18<00:00,  1.08it/s]\n",
      "Validate (11100 / 10 Steps): 100%|██████████| 8/8 [00:13<00:00,  1.74s/it]6<?, ?it/s]\n",
      "Training (11100 / 18000 Steps) (loss=0.44588):   5%|▌         | 1/20 [00:20<06:27, 20.40s/it]"
     ]
    },
    {
     "name": "stdout",
     "output_type": "stream",
     "text": [
      "Model Was Not Saved ! Current Best Avg. Dice: 0.678744912147522 Current Avg. Dice: 0.6725224852561951 Current Avg. tumor Dice: 0.7835676670074463 Current Avg. lymph Dice: 0.5454680323600769\n"
     ]
    },
    {
     "name": "stderr",
     "output_type": "stream",
     "text": [
      "Training (11119 / 18000 Steps) (loss=0.38722): 100%|██████████| 20/20 [00:28<00:00,  1.42s/it]\n",
      "Training (11139 / 18000 Steps) (loss=0.31782): 100%|██████████| 20/20 [00:17<00:00,  1.16it/s]\n",
      "Training (11159 / 18000 Steps) (loss=0.29216): 100%|██████████| 20/20 [00:16<00:00,  1.25it/s]\n",
      "Training (11179 / 18000 Steps) (loss=0.31808): 100%|██████████| 20/20 [00:18<00:00,  1.06it/s]\n",
      "Training (11199 / 18000 Steps) (loss=0.35927): 100%|██████████| 20/20 [00:17<00:00,  1.16it/s]\n",
      "Validate (11200 / 10 Steps): 100%|██████████| 8/8 [00:14<00:00,  1.80s/it]7<?, ?it/s]\n",
      "Training (11200 / 18000 Steps) (loss=0.42879):   5%|▌         | 1/20 [00:21<06:52, 21.71s/it]"
     ]
    },
    {
     "name": "stdout",
     "output_type": "stream",
     "text": [
      "Model Was Not Saved ! Current Best Avg. Dice: 0.678744912147522 Current Avg. Dice: 0.6636543273925781 Current Avg. tumor Dice: 0.7890763878822327 Current Avg. lymph Dice: 0.5200751423835754\n"
     ]
    },
    {
     "name": "stderr",
     "output_type": "stream",
     "text": [
      "Training (11219 / 18000 Steps) (loss=0.39781): 100%|██████████| 20/20 [00:29<00:00,  1.48s/it]\n",
      "Training (11239 / 18000 Steps) (loss=0.33612): 100%|██████████| 20/20 [00:17<00:00,  1.13it/s]\n",
      "Training (11259 / 18000 Steps) (loss=0.54532): 100%|██████████| 20/20 [00:19<00:00,  1.05it/s]\n",
      "Training (11279 / 18000 Steps) (loss=0.13747): 100%|██████████| 20/20 [00:17<00:00,  1.13it/s]\n",
      "Training (11299 / 18000 Steps) (loss=0.41525): 100%|██████████| 20/20 [00:15<00:00,  1.25it/s]\n",
      "Validate (11300 / 10 Steps): 100%|██████████| 8/8 [00:13<00:00,  1.70s/it]6<?, ?it/s]\n",
      "Training (11300 / 18000 Steps) (loss=0.50346):   5%|▌         | 1/20 [00:20<06:25, 20.27s/it]"
     ]
    },
    {
     "name": "stdout",
     "output_type": "stream",
     "text": [
      "Model Was Not Saved ! Current Best Avg. Dice: 0.678744912147522 Current Avg. Dice: 0.6646011471748352 Current Avg. tumor Dice: 0.7722901105880737 Current Avg. lymph Dice: 0.5424195528030396\n"
     ]
    },
    {
     "name": "stderr",
     "output_type": "stream",
     "text": [
      "Training (11319 / 18000 Steps) (loss=0.46175): 100%|██████████| 20/20 [00:28<00:00,  1.41s/it]\n",
      "Training (11339 / 18000 Steps) (loss=0.39105): 100%|██████████| 20/20 [00:17<00:00,  1.15it/s]\n",
      "Training (11359 / 18000 Steps) (loss=0.28924): 100%|██████████| 20/20 [00:17<00:00,  1.17it/s]\n",
      "Training (11379 / 18000 Steps) (loss=0.59798): 100%|██████████| 20/20 [00:16<00:00,  1.19it/s]\n",
      "Training (11399 / 18000 Steps) (loss=0.53387): 100%|██████████| 20/20 [00:19<00:00,  1.04it/s]\n",
      "Validate (11400 / 10 Steps): 100%|██████████| 8/8 [00:14<00:00,  1.75s/it]5<?, ?it/s]\n",
      "Training (11400 / 18000 Steps) (loss=0.38757):   5%|▌         | 1/20 [00:19<06:14, 19.72s/it]"
     ]
    },
    {
     "name": "stdout",
     "output_type": "stream",
     "text": [
      "Model Was Not Saved ! Current Best Avg. Dice: 0.678744912147522 Current Avg. Dice: 0.6735675930976868 Current Avg. tumor Dice: 0.7747975587844849 Current Avg. lymph Dice: 0.5609989166259766\n"
     ]
    },
    {
     "name": "stderr",
     "output_type": "stream",
     "text": [
      "Training (11419 / 18000 Steps) (loss=0.48690): 100%|██████████| 20/20 [00:27<00:00,  1.38s/it]\n",
      "Training (11439 / 18000 Steps) (loss=0.24559): 100%|██████████| 20/20 [00:18<00:00,  1.08it/s]\n",
      "Training (11459 / 18000 Steps) (loss=0.45730): 100%|██████████| 20/20 [00:16<00:00,  1.18it/s]\n",
      "Training (11479 / 18000 Steps) (loss=0.59965): 100%|██████████| 20/20 [00:19<00:00,  1.03it/s]\n",
      "Training (11499 / 18000 Steps) (loss=0.14504): 100%|██████████| 20/20 [00:17<00:00,  1.13it/s]\n",
      "Validate (11500 / 10 Steps): 100%|██████████| 8/8 [00:13<00:00,  1.74s/it]5<?, ?it/s]\n",
      "Training (11500 / 18000 Steps) (loss=0.38188):   5%|▌         | 1/20 [00:19<06:17, 19.88s/it]"
     ]
    },
    {
     "name": "stdout",
     "output_type": "stream",
     "text": [
      "Model Was Not Saved ! Current Best Avg. Dice: 0.678744912147522 Current Avg. Dice: 0.6612340211868286 Current Avg. tumor Dice: 0.7756497859954834 Current Avg. lymph Dice: 0.5315872430801392\n"
     ]
    },
    {
     "name": "stderr",
     "output_type": "stream",
     "text": [
      "Training (11519 / 18000 Steps) (loss=0.34464): 100%|██████████| 20/20 [00:27<00:00,  1.39s/it]\n",
      "Training (11539 / 18000 Steps) (loss=0.40218): 100%|██████████| 20/20 [00:18<00:00,  1.10it/s]\n",
      "Training (11559 / 18000 Steps) (loss=0.38381): 100%|██████████| 20/20 [00:19<00:00,  1.03it/s]\n",
      "Training (11579 / 18000 Steps) (loss=0.39596): 100%|██████████| 20/20 [00:16<00:00,  1.20it/s]\n",
      "Training (11599 / 18000 Steps) (loss=0.39812): 100%|██████████| 20/20 [00:17<00:00,  1.12it/s]\n",
      "Validate (11600 / 10 Steps): 100%|██████████| 8/8 [00:13<00:00,  1.71s/it]8<?, ?it/s]\n",
      "Training (11600 / 18000 Steps) (loss=0.38756):   5%|▌         | 1/20 [00:21<06:53, 21.78s/it]"
     ]
    },
    {
     "name": "stdout",
     "output_type": "stream",
     "text": [
      "Model Was Not Saved ! Current Best Avg. Dice: 0.678744912147522 Current Avg. Dice: 0.6675621271133423 Current Avg. tumor Dice: 0.7786964774131775 Current Avg. lymph Dice: 0.5425779819488525\n"
     ]
    },
    {
     "name": "stderr",
     "output_type": "stream",
     "text": [
      "Training (11619 / 18000 Steps) (loss=0.48011): 100%|██████████| 20/20 [00:29<00:00,  1.49s/it]\n",
      "Training (11639 / 18000 Steps) (loss=0.25348): 100%|██████████| 20/20 [00:15<00:00,  1.27it/s]\n",
      "Training (11659 / 18000 Steps) (loss=0.28170): 100%|██████████| 20/20 [00:17<00:00,  1.16it/s]\n",
      "Training (11679 / 18000 Steps) (loss=0.39648): 100%|██████████| 20/20 [00:17<00:00,  1.17it/s]\n",
      "Training (11699 / 18000 Steps) (loss=0.36468): 100%|██████████| 20/20 [00:17<00:00,  1.11it/s]\n",
      "Validate (11700 / 10 Steps): 100%|██████████| 8/8 [00:13<00:00,  1.68s/it]6<?, ?it/s]\n",
      "Training (11700 / 18000 Steps) (loss=0.40591):   5%|▌         | 1/20 [00:20<06:21, 20.10s/it]"
     ]
    },
    {
     "name": "stdout",
     "output_type": "stream",
     "text": [
      "Model Was Not Saved ! Current Best Avg. Dice: 0.678744912147522 Current Avg. Dice: 0.648162841796875 Current Avg. tumor Dice: 0.7668041586875916 Current Avg. lymph Dice: 0.5065632462501526\n"
     ]
    },
    {
     "name": "stderr",
     "output_type": "stream",
     "text": [
      "Training (11719 / 18000 Steps) (loss=0.49827): 100%|██████████| 20/20 [00:28<00:00,  1.40s/it]\n",
      "Training (11739 / 18000 Steps) (loss=0.57883): 100%|██████████| 20/20 [00:18<00:00,  1.05it/s]\n",
      "Training (11759 / 18000 Steps) (loss=0.43999): 100%|██████████| 20/20 [00:16<00:00,  1.22it/s]\n",
      "Training (11779 / 18000 Steps) (loss=0.53963): 100%|██████████| 20/20 [00:18<00:00,  1.09it/s]\n",
      "Training (11799 / 18000 Steps) (loss=0.16315): 100%|██████████| 20/20 [00:17<00:00,  1.12it/s]\n",
      "Validate (11800 / 10 Steps): 100%|██████████| 8/8 [00:13<00:00,  1.70s/it]8<?, ?it/s]\n",
      "Training (11800 / 18000 Steps) (loss=0.37613):   5%|▌         | 1/20 [00:21<06:55, 21.85s/it]"
     ]
    },
    {
     "name": "stdout",
     "output_type": "stream",
     "text": [
      "Model Was Not Saved ! Current Best Avg. Dice: 0.678744912147522 Current Avg. Dice: 0.6786200404167175 Current Avg. tumor Dice: 0.7847936749458313 Current Avg. lymph Dice: 0.5548387765884399\n"
     ]
    },
    {
     "name": "stderr",
     "output_type": "stream",
     "text": [
      "Training (11819 / 18000 Steps) (loss=0.39660): 100%|██████████| 20/20 [00:29<00:00,  1.49s/it]\n",
      "Training (11839 / 18000 Steps) (loss=0.44869): 100%|██████████| 20/20 [00:18<00:00,  1.07it/s]\n",
      "Training (11859 / 18000 Steps) (loss=0.54846): 100%|██████████| 20/20 [00:17<00:00,  1.11it/s]\n",
      "Training (11879 / 18000 Steps) (loss=0.52818): 100%|██████████| 20/20 [00:18<00:00,  1.10it/s]\n",
      "Training (11899 / 18000 Steps) (loss=0.37196): 100%|██████████| 20/20 [00:17<00:00,  1.16it/s]\n",
      "Validate (11900 / 10 Steps): 100%|██████████| 8/8 [00:13<00:00,  1.67s/it]9<?, ?it/s]\n",
      "Training (11900 / 18000 Steps) (loss=0.52710):   5%|▌         | 1/20 [00:22<07:06, 22.44s/it]"
     ]
    },
    {
     "name": "stdout",
     "output_type": "stream",
     "text": [
      "Model Was Not Saved ! Current Best Avg. Dice: 0.678744912147522 Current Avg. Dice: 0.6654491424560547 Current Avg. tumor Dice: 0.7818676233291626 Current Avg. lymph Dice: 0.5267730951309204\n"
     ]
    },
    {
     "name": "stderr",
     "output_type": "stream",
     "text": [
      "Training (11919 / 18000 Steps) (loss=0.47204): 100%|██████████| 20/20 [00:30<00:00,  1.52s/it]\n",
      "Training (11939 / 18000 Steps) (loss=0.50030): 100%|██████████| 20/20 [00:17<00:00,  1.14it/s]\n",
      "Training (11959 / 18000 Steps) (loss=0.27858): 100%|██████████| 20/20 [00:17<00:00,  1.17it/s]\n",
      "Training (11979 / 18000 Steps) (loss=0.45002): 100%|██████████| 20/20 [00:17<00:00,  1.17it/s]\n",
      "Training (11999 / 18000 Steps) (loss=0.32964): 100%|██████████| 20/20 [00:17<00:00,  1.14it/s]\n",
      "Validate (12000 / 10 Steps): 100%|██████████| 8/8 [00:14<00:00,  1.77s/it]5<?, ?it/s]\n",
      "Training (12000 / 18000 Steps) (loss=0.28191):   5%|▌         | 1/20 [00:20<06:22, 20.14s/it]"
     ]
    },
    {
     "name": "stdout",
     "output_type": "stream",
     "text": [
      "Model Was Not Saved ! Current Best Avg. Dice: 0.678744912147522 Current Avg. Dice: 0.6699511408805847 Current Avg. tumor Dice: 0.7809340357780457 Current Avg. lymph Dice: 0.538563072681427\n"
     ]
    },
    {
     "name": "stderr",
     "output_type": "stream",
     "text": [
      "Training (12019 / 18000 Steps) (loss=0.38474): 100%|██████████| 20/20 [00:28<00:00,  1.40s/it]\n",
      "Training (12039 / 18000 Steps) (loss=0.31951): 100%|██████████| 20/20 [00:17<00:00,  1.15it/s]\n",
      "Training (12059 / 18000 Steps) (loss=0.38412): 100%|██████████| 20/20 [00:15<00:00,  1.26it/s]\n",
      "Training (12079 / 18000 Steps) (loss=0.41310): 100%|██████████| 20/20 [00:17<00:00,  1.12it/s]\n",
      "Training (12099 / 18000 Steps) (loss=0.10444): 100%|██████████| 20/20 [00:16<00:00,  1.20it/s]\n",
      "Validate (12100 / 10 Steps): 100%|██████████| 8/8 [00:13<00:00,  1.69s/it]7<?, ?it/s]\n",
      "Training (12100 / 18000 Steps) (loss=0.36388):   5%|▌         | 1/20 [00:21<06:48, 21.51s/it]"
     ]
    },
    {
     "name": "stdout",
     "output_type": "stream",
     "text": [
      "Model Was Not Saved ! Current Best Avg. Dice: 0.678744912147522 Current Avg. Dice: 0.6519363522529602 Current Avg. tumor Dice: 0.7677342891693115 Current Avg. lymph Dice: 0.5203712582588196\n"
     ]
    },
    {
     "name": "stderr",
     "output_type": "stream",
     "text": [
      "Training (12119 / 18000 Steps) (loss=0.26650): 100%|██████████| 20/20 [00:29<00:00,  1.48s/it]\n",
      "Training (12139 / 18000 Steps) (loss=0.42695): 100%|██████████| 20/20 [00:17<00:00,  1.14it/s]\n",
      "Training (12159 / 18000 Steps) (loss=0.47043): 100%|██████████| 20/20 [00:17<00:00,  1.14it/s]\n",
      "Training (12179 / 18000 Steps) (loss=0.66697): 100%|██████████| 20/20 [00:16<00:00,  1.19it/s]\n",
      "Training (12199 / 18000 Steps) (loss=0.40970): 100%|██████████| 20/20 [00:16<00:00,  1.18it/s]\n",
      "Validate (12200 / 10 Steps): 100%|██████████| 8/8 [00:15<00:00,  1.97s/it]5<?, ?it/s]\n",
      "Training (12200 / 18000 Steps) (loss=0.46776):   5%|▌         | 1/20 [00:21<06:48, 21.51s/it]"
     ]
    },
    {
     "name": "stdout",
     "output_type": "stream",
     "text": [
      "Model Was Not Saved ! Current Best Avg. Dice: 0.678744912147522 Current Avg. Dice: 0.6452170610427856 Current Avg. tumor Dice: 0.7567994594573975 Current Avg. lymph Dice: 0.516117513179779\n"
     ]
    },
    {
     "name": "stderr",
     "output_type": "stream",
     "text": [
      "Training (12219 / 18000 Steps) (loss=0.60472): 100%|██████████| 20/20 [00:29<00:00,  1.47s/it]\n",
      "Training (12239 / 18000 Steps) (loss=0.29261): 100%|██████████| 20/20 [00:18<00:00,  1.06it/s]\n",
      "Training (12259 / 18000 Steps) (loss=0.50408): 100%|██████████| 20/20 [00:18<00:00,  1.06it/s]\n",
      "Training (12279 / 18000 Steps) (loss=0.51491): 100%|██████████| 20/20 [00:16<00:00,  1.19it/s]\n",
      "Training (12299 / 18000 Steps) (loss=0.39985): 100%|██████████| 20/20 [00:17<00:00,  1.13it/s]\n",
      "Validate (12300 / 10 Steps): 100%|██████████| 8/8 [00:13<00:00,  1.71s/it]6<?, ?it/s]\n",
      "Training (12300 / 18000 Steps) (loss=0.33663):   5%|▌         | 1/20 [00:20<06:23, 20.19s/it]"
     ]
    },
    {
     "name": "stdout",
     "output_type": "stream",
     "text": [
      "Model Was Not Saved ! Current Best Avg. Dice: 0.678744912147522 Current Avg. Dice: 0.6450320482254028 Current Avg. tumor Dice: 0.7530668377876282 Current Avg. lymph Dice: 0.5210476517677307\n"
     ]
    },
    {
     "name": "stderr",
     "output_type": "stream",
     "text": [
      "Training (12319 / 18000 Steps) (loss=0.39874): 100%|██████████| 20/20 [00:28<00:00,  1.41s/it]\n",
      "Training (12339 / 18000 Steps) (loss=0.47113): 100%|██████████| 20/20 [00:17<00:00,  1.16it/s]\n",
      "Training (12359 / 18000 Steps) (loss=0.22146): 100%|██████████| 20/20 [00:18<00:00,  1.09it/s]\n",
      "Training (12379 / 18000 Steps) (loss=0.26611): 100%|██████████| 20/20 [00:17<00:00,  1.17it/s]\n",
      "Training (12399 / 18000 Steps) (loss=0.41006): 100%|██████████| 20/20 [00:18<00:00,  1.10it/s]\n",
      "Validate (12400 / 10 Steps): 100%|██████████| 8/8 [00:13<00:00,  1.68s/it]8<?, ?it/s]\n",
      "Training (12400 / 18000 Steps) (loss=0.31207):   5%|▌         | 1/20 [00:21<06:49, 21.54s/it]"
     ]
    },
    {
     "name": "stdout",
     "output_type": "stream",
     "text": [
      "Model Was Not Saved ! Current Best Avg. Dice: 0.678744912147522 Current Avg. Dice: 0.6581754088401794 Current Avg. tumor Dice: 0.7594451904296875 Current Avg. lymph Dice: 0.5387560725212097\n"
     ]
    },
    {
     "name": "stderr",
     "output_type": "stream",
     "text": [
      "Training (12419 / 18000 Steps) (loss=0.29846): 100%|██████████| 20/20 [00:29<00:00,  1.48s/it]\n",
      "Training (12439 / 18000 Steps) (loss=0.53667): 100%|██████████| 20/20 [00:18<00:00,  1.10it/s]\n",
      "Training (12459 / 18000 Steps) (loss=0.47610): 100%|██████████| 20/20 [00:17<00:00,  1.17it/s]\n",
      "Training (12479 / 18000 Steps) (loss=0.41784): 100%|██████████| 20/20 [00:18<00:00,  1.08it/s]\n",
      "Training (12499 / 18000 Steps) (loss=0.25796): 100%|██████████| 20/20 [00:17<00:00,  1.16it/s]\n",
      "Validate (12500 / 10 Steps): 100%|██████████| 8/8 [00:14<00:00,  1.75s/it]7<?, ?it/s]\n",
      "Training (12500 / 18000 Steps) (loss=0.36964):   5%|▌         | 1/20 [00:21<06:50, 21.63s/it]"
     ]
    },
    {
     "name": "stdout",
     "output_type": "stream",
     "text": [
      "Model Was Not Saved ! Current Best Avg. Dice: 0.678744912147522 Current Avg. Dice: 0.6685009598731995 Current Avg. tumor Dice: 0.7829652428627014 Current Avg. lymph Dice: 0.5314929485321045\n"
     ]
    },
    {
     "name": "stderr",
     "output_type": "stream",
     "text": [
      "Training (12519 / 18000 Steps) (loss=0.29682): 100%|██████████| 20/20 [00:29<00:00,  1.47s/it]\n",
      "Training (12539 / 18000 Steps) (loss=0.39398): 100%|██████████| 20/20 [00:17<00:00,  1.14it/s]\n",
      "Training (12559 / 18000 Steps) (loss=0.38472): 100%|██████████| 20/20 [00:17<00:00,  1.12it/s]\n",
      "Training (12579 / 18000 Steps) (loss=0.54895): 100%|██████████| 20/20 [00:17<00:00,  1.12it/s]\n",
      "Training (12599 / 18000 Steps) (loss=0.24016): 100%|██████████| 20/20 [00:18<00:00,  1.07it/s]\n",
      "Validate (12600 / 10 Steps): 100%|██████████| 8/8 [00:13<00:00,  1.73s/it]7<?, ?it/s]\n",
      "Training (12600 / 18000 Steps) (loss=0.38660):   5%|▌         | 1/20 [00:21<06:49, 21.56s/it]"
     ]
    },
    {
     "name": "stdout",
     "output_type": "stream",
     "text": [
      "Model Was Not Saved ! Current Best Avg. Dice: 0.678744912147522 Current Avg. Dice: 0.645751953125 Current Avg. tumor Dice: 0.7585558295249939 Current Avg. lymph Dice: 0.5179908275604248\n"
     ]
    },
    {
     "name": "stderr",
     "output_type": "stream",
     "text": [
      "Training (12619 / 18000 Steps) (loss=0.49312): 100%|██████████| 20/20 [00:29<00:00,  1.48s/it]\n",
      "Training (12639 / 18000 Steps) (loss=0.54822): 100%|██████████| 20/20 [00:19<00:00,  1.04it/s]\n",
      "Training (12659 / 18000 Steps) (loss=0.33933): 100%|██████████| 20/20 [00:17<00:00,  1.17it/s]\n",
      "Training (12679 / 18000 Steps) (loss=0.41105): 100%|██████████| 20/20 [00:17<00:00,  1.13it/s]\n",
      "Training (12699 / 18000 Steps) (loss=0.40417): 100%|██████████| 20/20 [00:18<00:00,  1.09it/s]\n",
      "Validate (12700 / 10 Steps): 100%|██████████| 8/8 [00:13<00:00,  1.72s/it]7<?, ?it/s]\n",
      "Training (12700 / 18000 Steps) (loss=0.48127):   5%|▌         | 1/20 [00:21<06:46, 21.42s/it]"
     ]
    },
    {
     "name": "stdout",
     "output_type": "stream",
     "text": [
      "Model Was Not Saved ! Current Best Avg. Dice: 0.678744912147522 Current Avg. Dice: 0.676538348197937 Current Avg. tumor Dice: 0.7830178141593933 Current Avg. lymph Dice: 0.5534372925758362\n"
     ]
    },
    {
     "name": "stderr",
     "output_type": "stream",
     "text": [
      "Training (12719 / 18000 Steps) (loss=0.46342): 100%|██████████| 20/20 [00:29<00:00,  1.47s/it]\n",
      "Training (12739 / 18000 Steps) (loss=0.25983): 100%|██████████| 20/20 [00:16<00:00,  1.18it/s]\n",
      "Training (12759 / 18000 Steps) (loss=0.52134): 100%|██████████| 20/20 [00:16<00:00,  1.20it/s]\n",
      "Training (12779 / 18000 Steps) (loss=0.26347): 100%|██████████| 20/20 [00:18<00:00,  1.08it/s]\n",
      "Training (12799 / 18000 Steps) (loss=0.20563): 100%|██████████| 20/20 [00:17<00:00,  1.14it/s]\n",
      "Validate (12800 / 10 Steps): 100%|██████████| 8/8 [00:14<00:00,  1.81s/it]7<?, ?it/s]\n",
      "Training (12800 / 18000 Steps) (loss=0.41423):   5%|▌         | 1/20 [00:21<06:50, 21.59s/it]"
     ]
    },
    {
     "name": "stdout",
     "output_type": "stream",
     "text": [
      "Model Was Not Saved ! Current Best Avg. Dice: 0.678744912147522 Current Avg. Dice: 0.6602509617805481 Current Avg. tumor Dice: 0.7677013874053955 Current Avg. lymph Dice: 0.5345531105995178\n"
     ]
    },
    {
     "name": "stderr",
     "output_type": "stream",
     "text": [
      "Training (12819 / 18000 Steps) (loss=0.26832): 100%|██████████| 20/20 [00:29<00:00,  1.48s/it]\n",
      "Training (12839 / 18000 Steps) (loss=0.26350): 100%|██████████| 20/20 [00:17<00:00,  1.12it/s]\n",
      "Training (12859 / 18000 Steps) (loss=0.40609): 100%|██████████| 20/20 [00:18<00:00,  1.10it/s]\n",
      "Training (12879 / 18000 Steps) (loss=0.40114): 100%|██████████| 20/20 [00:18<00:00,  1.09it/s]\n",
      "Training (12899 / 18000 Steps) (loss=0.26820): 100%|██████████| 20/20 [00:17<00:00,  1.14it/s]\n",
      "Validate (12900 / 10 Steps): 100%|██████████| 8/8 [00:13<00:00,  1.73s/it]5<?, ?it/s]\n",
      "Training (12900 / 18000 Steps) (loss=0.33435):   5%|▌         | 1/20 [00:19<06:14, 19.73s/it]"
     ]
    },
    {
     "name": "stdout",
     "output_type": "stream",
     "text": [
      "Model Was Not Saved ! Current Best Avg. Dice: 0.678744912147522 Current Avg. Dice: 0.6634234189987183 Current Avg. tumor Dice: 0.7769430875778198 Current Avg. lymph Dice: 0.5291293859481812\n"
     ]
    },
    {
     "name": "stderr",
     "output_type": "stream",
     "text": [
      "Training (12919 / 18000 Steps) (loss=0.31785): 100%|██████████| 20/20 [00:27<00:00,  1.39s/it]\n",
      "Training (12939 / 18000 Steps) (loss=0.39419): 100%|██████████| 20/20 [00:18<00:00,  1.10it/s]\n",
      "Training (12959 / 18000 Steps) (loss=0.14241): 100%|██████████| 20/20 [00:17<00:00,  1.17it/s]\n",
      "Training (12979 / 18000 Steps) (loss=0.24050): 100%|██████████| 20/20 [00:17<00:00,  1.13it/s]\n",
      "Training (12999 / 18000 Steps) (loss=0.33881): 100%|██████████| 20/20 [00:17<00:00,  1.17it/s]\n",
      "Validate (13000 / 10 Steps): 100%|██████████| 8/8 [00:13<00:00,  1.68s/it]6<?, ?it/s]\n",
      "Training (13000 / 18000 Steps) (loss=0.21873):   5%|▌         | 1/20 [00:19<06:18, 19.93s/it]"
     ]
    },
    {
     "name": "stdout",
     "output_type": "stream",
     "text": [
      "Model Was Not Saved ! Current Best Avg. Dice: 0.678744912147522 Current Avg. Dice: 0.6313332915306091 Current Avg. tumor Dice: 0.7531922459602356 Current Avg. lymph Dice: 0.4871370196342468\n"
     ]
    },
    {
     "name": "stderr",
     "output_type": "stream",
     "text": [
      "Training (13019 / 18000 Steps) (loss=0.26828): 100%|██████████| 20/20 [00:27<00:00,  1.39s/it]\n",
      "Training (13039 / 18000 Steps) (loss=0.43374): 100%|██████████| 20/20 [00:18<00:00,  1.09it/s]\n",
      "Training (13059 / 18000 Steps) (loss=0.25069): 100%|██████████| 20/20 [00:18<00:00,  1.07it/s]\n",
      "Training (13079 / 18000 Steps) (loss=0.12282): 100%|██████████| 20/20 [00:17<00:00,  1.16it/s]\n",
      "Training (13099 / 18000 Steps) (loss=0.40775): 100%|██████████| 20/20 [00:16<00:00,  1.19it/s]\n",
      "Validate (13100 / 10 Steps): 100%|██████████| 8/8 [00:14<00:00,  1.76s/it]6<?, ?it/s]\n",
      "Training (13100 / 18000 Steps) (loss=0.22261):   5%|▌         | 1/20 [00:20<06:24, 20.26s/it]"
     ]
    },
    {
     "name": "stdout",
     "output_type": "stream",
     "text": [
      "Model Was Not Saved ! Current Best Avg. Dice: 0.678744912147522 Current Avg. Dice: 0.6452125310897827 Current Avg. tumor Dice: 0.7633159756660461 Current Avg. lymph Dice: 0.5143957734107971\n"
     ]
    },
    {
     "name": "stderr",
     "output_type": "stream",
     "text": [
      "Training (13119 / 18000 Steps) (loss=0.39938): 100%|██████████| 20/20 [00:28<00:00,  1.41s/it]\n",
      "Training (13139 / 18000 Steps) (loss=0.27644): 100%|██████████| 20/20 [00:17<00:00,  1.13it/s]\n",
      "Training (13159 / 18000 Steps) (loss=0.52689): 100%|██████████| 20/20 [00:17<00:00,  1.16it/s]\n",
      "Training (13179 / 18000 Steps) (loss=0.32768): 100%|██████████| 20/20 [00:17<00:00,  1.15it/s]\n",
      "Training (13199 / 18000 Steps) (loss=0.39448): 100%|██████████| 20/20 [00:17<00:00,  1.16it/s]\n",
      "Validate (13200 / 10 Steps): 100%|██████████| 8/8 [00:13<00:00,  1.70s/it]8<?, ?it/s]\n",
      "Training (13200 / 18000 Steps) (loss=0.28960):   5%|▌         | 1/20 [00:21<06:57, 21.96s/it]"
     ]
    },
    {
     "name": "stdout",
     "output_type": "stream",
     "text": [
      "Model Was Not Saved ! Current Best Avg. Dice: 0.678744912147522 Current Avg. Dice: 0.6579148769378662 Current Avg. tumor Dice: 0.7758920788764954 Current Avg. lymph Dice: 0.5150115489959717\n"
     ]
    },
    {
     "name": "stderr",
     "output_type": "stream",
     "text": [
      "Training (13219 / 18000 Steps) (loss=0.53461): 100%|██████████| 20/20 [00:30<00:00,  1.50s/it]\n",
      "Training (13239 / 18000 Steps) (loss=0.19005): 100%|██████████| 20/20 [00:17<00:00,  1.14it/s]\n",
      "Training (13259 / 18000 Steps) (loss=0.34945): 100%|██████████| 20/20 [00:17<00:00,  1.17it/s]\n",
      "Training (13279 / 18000 Steps) (loss=0.12509): 100%|██████████| 20/20 [00:16<00:00,  1.20it/s]\n",
      "Training (13299 / 18000 Steps) (loss=0.46722): 100%|██████████| 20/20 [00:17<00:00,  1.17it/s]\n",
      "Validate (13300 / 10 Steps): 100%|██████████| 8/8 [00:13<00:00,  1.72s/it]5<?, ?it/s]\n",
      "Training (13300 / 18000 Steps) (loss=0.27806):   5%|▌         | 1/20 [00:19<06:17, 19.89s/it]"
     ]
    },
    {
     "name": "stdout",
     "output_type": "stream",
     "text": [
      "Model Was Saved ! Current Best Avg. Dice: 0.6814115643501282 Current Avg. Dice: 0.6814115643501282 Current Avg. tumor Dice: 0.789585292339325 Current Avg. lymph Dice: 0.5527219772338867\n"
     ]
    },
    {
     "name": "stderr",
     "output_type": "stream",
     "text": [
      "Training (13319 / 18000 Steps) (loss=0.13685): 100%|██████████| 20/20 [00:27<00:00,  1.39s/it]\n",
      "Training (13339 / 18000 Steps) (loss=0.23317): 100%|██████████| 20/20 [00:17<00:00,  1.14it/s]\n",
      "Training (13359 / 18000 Steps) (loss=0.54256): 100%|██████████| 20/20 [00:17<00:00,  1.17it/s]\n",
      "Training (13379 / 18000 Steps) (loss=0.54947): 100%|██████████| 20/20 [00:16<00:00,  1.22it/s]\n",
      "Training (13399 / 18000 Steps) (loss=0.46666): 100%|██████████| 20/20 [00:17<00:00,  1.14it/s]\n",
      "Validate (13400 / 10 Steps): 100%|██████████| 8/8 [00:13<00:00,  1.68s/it]8<?, ?it/s]\n",
      "Training (13400 / 18000 Steps) (loss=0.35057):   5%|▌         | 1/20 [00:22<06:59, 22.05s/it]"
     ]
    },
    {
     "name": "stdout",
     "output_type": "stream",
     "text": [
      "Model Was Not Saved ! Current Best Avg. Dice: 0.6814115643501282 Current Avg. Dice: 0.6807166934013367 Current Avg. tumor Dice: 0.7869606018066406 Current Avg. lymph Dice: 0.5536741018295288\n"
     ]
    },
    {
     "name": "stderr",
     "output_type": "stream",
     "text": [
      "Training (13419 / 18000 Steps) (loss=0.53369): 100%|██████████| 20/20 [00:30<00:00,  1.50s/it]\n",
      "Training (13439 / 18000 Steps) (loss=0.53890): 100%|██████████| 20/20 [00:17<00:00,  1.16it/s]\n",
      "Training (13459 / 18000 Steps) (loss=0.25903): 100%|██████████| 20/20 [00:16<00:00,  1.19it/s]\n",
      "Training (13479 / 18000 Steps) (loss=0.26512): 100%|██████████| 20/20 [00:17<00:00,  1.12it/s]\n",
      "Training (13499 / 18000 Steps) (loss=0.41827): 100%|██████████| 20/20 [00:16<00:00,  1.20it/s]\n",
      "Validate (13500 / 10 Steps): 100%|██████████| 8/8 [00:14<00:00,  1.80s/it]5<?, ?it/s]\n",
      "Training (13500 / 18000 Steps) (loss=0.30372):   5%|▌         | 1/20 [00:20<06:27, 20.38s/it]"
     ]
    },
    {
     "name": "stdout",
     "output_type": "stream",
     "text": [
      "Model Was Not Saved ! Current Best Avg. Dice: 0.6814115643501282 Current Avg. Dice: 0.6432998180389404 Current Avg. tumor Dice: 0.7789140343666077 Current Avg. lymph Dice: 0.4787157475948334\n"
     ]
    },
    {
     "name": "stderr",
     "output_type": "stream",
     "text": [
      "Training (13519 / 18000 Steps) (loss=0.32354): 100%|██████████| 20/20 [00:28<00:00,  1.41s/it]\n",
      "Training (13539 / 18000 Steps) (loss=0.40961): 100%|██████████| 20/20 [00:17<00:00,  1.16it/s]\n",
      "Training (13559 / 18000 Steps) (loss=0.38699): 100%|██████████| 20/20 [00:17<00:00,  1.12it/s]\n",
      "Training (13579 / 18000 Steps) (loss=0.36485): 100%|██████████| 20/20 [00:17<00:00,  1.17it/s]\n",
      "Training (13599 / 18000 Steps) (loss=0.38935): 100%|██████████| 20/20 [00:16<00:00,  1.22it/s]\n",
      "Validate (13600 / 10 Steps): 100%|██████████| 8/8 [00:13<00:00,  1.75s/it]6<?, ?it/s]\n",
      "Training (13600 / 18000 Steps) (loss=0.20196):   5%|▌         | 1/20 [00:20<06:37, 20.94s/it]"
     ]
    },
    {
     "name": "stdout",
     "output_type": "stream",
     "text": [
      "Model Was Not Saved ! Current Best Avg. Dice: 0.6814115643501282 Current Avg. Dice: 0.6593168377876282 Current Avg. tumor Dice: 0.783972442150116 Current Avg. lymph Dice: 0.5134404897689819\n"
     ]
    },
    {
     "name": "stderr",
     "output_type": "stream",
     "text": [
      "Training (13619 / 18000 Steps) (loss=0.25557): 100%|██████████| 20/20 [00:28<00:00,  1.44s/it]\n",
      "Training (13639 / 18000 Steps) (loss=0.48522): 100%|██████████| 20/20 [00:16<00:00,  1.23it/s]\n",
      "Training (13659 / 18000 Steps) (loss=0.19082): 100%|██████████| 20/20 [00:17<00:00,  1.15it/s]\n",
      "Training (13679 / 18000 Steps) (loss=0.11990): 100%|██████████| 20/20 [00:16<00:00,  1.21it/s]\n",
      "Training (13699 / 18000 Steps) (loss=0.27525): 100%|██████████| 20/20 [00:16<00:00,  1.18it/s]\n",
      "Validate (13700 / 10 Steps): 100%|██████████| 8/8 [00:13<00:00,  1.69s/it]9<?, ?it/s]\n",
      "Training (13700 / 18000 Steps) (loss=0.21438):   5%|▌         | 1/20 [00:22<07:11, 22.70s/it]"
     ]
    },
    {
     "name": "stdout",
     "output_type": "stream",
     "text": [
      "Model Was Not Saved ! Current Best Avg. Dice: 0.6814115643501282 Current Avg. Dice: 0.6514720916748047 Current Avg. tumor Dice: 0.7773413062095642 Current Avg. lymph Dice: 0.5063117146492004\n"
     ]
    },
    {
     "name": "stderr",
     "output_type": "stream",
     "text": [
      "Training (13719 / 18000 Steps) (loss=0.32166): 100%|██████████| 20/20 [00:30<00:00,  1.53s/it]\n",
      "Training (13739 / 18000 Steps) (loss=0.42578): 100%|██████████| 20/20 [00:18<00:00,  1.08it/s]\n",
      "Training (13759 / 18000 Steps) (loss=0.56327): 100%|██████████| 20/20 [00:17<00:00,  1.17it/s]\n",
      "Training (13779 / 18000 Steps) (loss=0.48520): 100%|██████████| 20/20 [00:18<00:00,  1.10it/s]\n",
      "Training (13799 / 18000 Steps) (loss=0.40221): 100%|██████████| 20/20 [00:17<00:00,  1.12it/s]\n",
      "Validate (13800 / 10 Steps): 100%|██████████| 8/8 [00:13<00:00,  1.74s/it]6<?, ?it/s]\n",
      "Training (13800 / 18000 Steps) (loss=0.49808):   5%|▌         | 1/20 [00:20<06:35, 20.82s/it]"
     ]
    },
    {
     "name": "stdout",
     "output_type": "stream",
     "text": [
      "Model Was Not Saved ! Current Best Avg. Dice: 0.6814115643501282 Current Avg. Dice: 0.6456177234649658 Current Avg. tumor Dice: 0.7791967988014221 Current Avg. lymph Dice: 0.4951561391353607\n"
     ]
    },
    {
     "name": "stderr",
     "output_type": "stream",
     "text": [
      "Training (13819 / 18000 Steps) (loss=0.55697): 100%|██████████| 20/20 [00:28<00:00,  1.44s/it]\n",
      "Training (13839 / 18000 Steps) (loss=0.37975): 100%|██████████| 20/20 [00:16<00:00,  1.25it/s]\n",
      "Training (13859 / 18000 Steps) (loss=0.19170): 100%|██████████| 20/20 [00:17<00:00,  1.14it/s]\n",
      "Training (13879 / 18000 Steps) (loss=0.40011): 100%|██████████| 20/20 [00:17<00:00,  1.12it/s]\n",
      "Training (13899 / 18000 Steps) (loss=0.53178): 100%|██████████| 20/20 [00:17<00:00,  1.11it/s]\n",
      "Validate (13900 / 10 Steps): 100%|██████████| 8/8 [00:13<00:00,  1.70s/it]8<?, ?it/s]\n",
      "Training (13900 / 18000 Steps) (loss=0.24434):   5%|▌         | 1/20 [00:22<07:00, 22.13s/it]"
     ]
    },
    {
     "name": "stdout",
     "output_type": "stream",
     "text": [
      "Model Was Not Saved ! Current Best Avg. Dice: 0.6814115643501282 Current Avg. Dice: 0.6640605926513672 Current Avg. tumor Dice: 0.7907701134681702 Current Avg. lymph Dice: 0.520699143409729\n"
     ]
    },
    {
     "name": "stderr",
     "output_type": "stream",
     "text": [
      "Training (13919 / 18000 Steps) (loss=0.19576): 100%|██████████| 20/20 [00:30<00:00,  1.50s/it]\n",
      "Training (13939 / 18000 Steps) (loss=0.22677): 100%|██████████| 20/20 [00:18<00:00,  1.11it/s]\n",
      "Training (13959 / 18000 Steps) (loss=0.39370): 100%|██████████| 20/20 [00:17<00:00,  1.14it/s]\n",
      "Training (13979 / 18000 Steps) (loss=0.26664): 100%|██████████| 20/20 [00:16<00:00,  1.21it/s]\n",
      "Training (13999 / 18000 Steps) (loss=0.44295): 100%|██████████| 20/20 [00:18<00:00,  1.09it/s]\n",
      "Validate (14000 / 10 Steps): 100%|██████████| 8/8 [00:13<00:00,  1.69s/it]5<?, ?it/s]\n",
      "Training (14000 / 18000 Steps) (loss=0.26342):   5%|▌         | 1/20 [00:19<06:03, 19.11s/it]"
     ]
    },
    {
     "name": "stdout",
     "output_type": "stream",
     "text": [
      "Model Was Not Saved ! Current Best Avg. Dice: 0.6814115643501282 Current Avg. Dice: 0.6586316823959351 Current Avg. tumor Dice: 0.7678499221801758 Current Avg. lymph Dice: 0.5367963314056396\n"
     ]
    },
    {
     "name": "stderr",
     "output_type": "stream",
     "text": [
      "Training (14019 / 18000 Steps) (loss=0.16545): 100%|██████████| 20/20 [00:27<00:00,  1.35s/it]\n",
      "Training (14039 / 18000 Steps) (loss=0.48183): 100%|██████████| 20/20 [00:19<00:00,  1.05it/s]\n",
      "Training (14059 / 18000 Steps) (loss=0.45098): 100%|██████████| 20/20 [00:16<00:00,  1.20it/s]\n",
      "Training (14079 / 18000 Steps) (loss=0.39168): 100%|██████████| 20/20 [00:16<00:00,  1.18it/s]\n",
      "Training (14099 / 18000 Steps) (loss=0.52270): 100%|██████████| 20/20 [00:16<00:00,  1.21it/s]\n",
      "Validate (14100 / 10 Steps): 100%|██████████| 8/8 [00:13<00:00,  1.69s/it]6<?, ?it/s]\n",
      "Training (14100 / 18000 Steps) (loss=0.40293):   5%|▌         | 1/20 [00:20<06:27, 20.39s/it]"
     ]
    },
    {
     "name": "stdout",
     "output_type": "stream",
     "text": [
      "Model Was Not Saved ! Current Best Avg. Dice: 0.6814115643501282 Current Avg. Dice: 0.6359094977378845 Current Avg. tumor Dice: 0.7545803189277649 Current Avg. lymph Dice: 0.4969539940357208\n"
     ]
    },
    {
     "name": "stderr",
     "output_type": "stream",
     "text": [
      "Training (14119 / 18000 Steps) (loss=0.25208): 100%|██████████| 20/20 [00:28<00:00,  1.42s/it]\n",
      "Training (14139 / 18000 Steps) (loss=0.39606): 100%|██████████| 20/20 [00:17<00:00,  1.15it/s]\n",
      "Training (14159 / 18000 Steps) (loss=0.59795): 100%|██████████| 20/20 [00:16<00:00,  1.19it/s]\n",
      "Training (14179 / 18000 Steps) (loss=0.54567): 100%|██████████| 20/20 [00:16<00:00,  1.20it/s]\n",
      "Training (14199 / 18000 Steps) (loss=0.47559): 100%|██████████| 20/20 [00:17<00:00,  1.15it/s]\n",
      "Validate (14200 / 10 Steps): 100%|██████████| 8/8 [00:14<00:00,  1.80s/it]6<?, ?it/s]\n",
      "Training (14200 / 18000 Steps) (loss=0.30684):   5%|▌         | 1/20 [00:20<06:37, 20.93s/it]"
     ]
    },
    {
     "name": "stdout",
     "output_type": "stream",
     "text": [
      "Model Was Not Saved ! Current Best Avg. Dice: 0.6814115643501282 Current Avg. Dice: 0.6580489873886108 Current Avg. tumor Dice: 0.7741865515708923 Current Avg. lymph Dice: 0.5196644067764282\n"
     ]
    },
    {
     "name": "stderr",
     "output_type": "stream",
     "text": [
      "Training (14219 / 18000 Steps) (loss=0.25410): 100%|██████████| 20/20 [00:28<00:00,  1.44s/it]\n",
      "Training (14239 / 18000 Steps) (loss=0.45255): 100%|██████████| 20/20 [00:15<00:00,  1.26it/s]\n",
      "Training (14259 / 18000 Steps) (loss=0.53432): 100%|██████████| 20/20 [00:18<00:00,  1.09it/s]\n",
      "Training (14279 / 18000 Steps) (loss=0.52422): 100%|██████████| 20/20 [00:16<00:00,  1.21it/s]\n",
      "Training (14299 / 18000 Steps) (loss=0.18132): 100%|██████████| 20/20 [00:16<00:00,  1.19it/s]\n",
      "Validate (14300 / 10 Steps): 100%|██████████| 8/8 [00:13<00:00,  1.73s/it]7<?, ?it/s]\n",
      "Training (14300 / 18000 Steps) (loss=0.36324):   5%|▌         | 1/20 [00:21<06:40, 21.09s/it]"
     ]
    },
    {
     "name": "stdout",
     "output_type": "stream",
     "text": [
      "Model Was Not Saved ! Current Best Avg. Dice: 0.6814115643501282 Current Avg. Dice: 0.6758655309677124 Current Avg. tumor Dice: 0.7772350311279297 Current Avg. lymph Dice: 0.5602016448974609\n"
     ]
    },
    {
     "name": "stderr",
     "output_type": "stream",
     "text": [
      "Training (14319 / 18000 Steps) (loss=0.16999): 100%|██████████| 20/20 [00:29<00:00,  1.45s/it]\n",
      "Training (14339 / 18000 Steps) (loss=0.39196): 100%|██████████| 20/20 [00:16<00:00,  1.18it/s]\n",
      "Training (14359 / 18000 Steps) (loss=0.26900): 100%|██████████| 20/20 [00:18<00:00,  1.09it/s]\n",
      "Training (14379 / 18000 Steps) (loss=0.38099): 100%|██████████| 20/20 [00:17<00:00,  1.17it/s]\n",
      "Training (14399 / 18000 Steps) (loss=0.53018): 100%|██████████| 20/20 [00:18<00:00,  1.09it/s]\n",
      "Validate (14400 / 10 Steps): 100%|██████████| 8/8 [00:13<00:00,  1.69s/it]6<?, ?it/s]\n",
      "Training (14400 / 18000 Steps) (loss=0.34030):   5%|▌         | 1/20 [00:20<06:30, 20.54s/it]"
     ]
    },
    {
     "name": "stdout",
     "output_type": "stream",
     "text": [
      "Model Was Not Saved ! Current Best Avg. Dice: 0.6814115643501282 Current Avg. Dice: 0.6526333689689636 Current Avg. tumor Dice: 0.759876012802124 Current Avg. lymph Dice: 0.5308858156204224\n"
     ]
    },
    {
     "name": "stderr",
     "output_type": "stream",
     "text": [
      "Training (14419 / 18000 Steps) (loss=0.39318): 100%|██████████| 20/20 [00:28<00:00,  1.42s/it]\n",
      "Training (14439 / 18000 Steps) (loss=0.45251): 100%|██████████| 20/20 [00:17<00:00,  1.14it/s]\n",
      "Training (14459 / 18000 Steps) (loss=0.35353): 100%|██████████| 20/20 [00:16<00:00,  1.21it/s]\n",
      "Training (14479 / 18000 Steps) (loss=0.59833): 100%|██████████| 20/20 [00:16<00:00,  1.18it/s]\n",
      "Training (14499 / 18000 Steps) (loss=0.25953): 100%|██████████| 20/20 [00:17<00:00,  1.15it/s]\n",
      "Validate (14500 / 10 Steps): 100%|██████████| 8/8 [00:13<00:00,  1.71s/it]8<?, ?it/s]\n",
      "Training (14500 / 18000 Steps) (loss=0.47145):   5%|▌         | 1/20 [00:22<07:12, 22.74s/it]"
     ]
    },
    {
     "name": "stdout",
     "output_type": "stream",
     "text": [
      "Model Was Not Saved ! Current Best Avg. Dice: 0.6814115643501282 Current Avg. Dice: 0.6447467803955078 Current Avg. tumor Dice: 0.7546584010124207 Current Avg. lymph Dice: 0.5121538639068604\n"
     ]
    },
    {
     "name": "stderr",
     "output_type": "stream",
     "text": [
      "Training (14519 / 18000 Steps) (loss=0.40112): 100%|██████████| 20/20 [00:30<00:00,  1.53s/it]\n",
      "Training (14539 / 18000 Steps) (loss=0.38795): 100%|██████████| 20/20 [00:16<00:00,  1.23it/s]\n",
      "Training (14559 / 18000 Steps) (loss=0.53060): 100%|██████████| 20/20 [00:17<00:00,  1.12it/s]\n",
      "Training (14579 / 18000 Steps) (loss=0.29162): 100%|██████████| 20/20 [00:16<00:00,  1.18it/s]\n",
      "Training (14599 / 18000 Steps) (loss=0.39001): 100%|██████████| 20/20 [00:16<00:00,  1.18it/s]\n",
      "Validate (14600 / 10 Steps): 100%|██████████| 8/8 [00:14<00:00,  1.81s/it]8<?, ?it/s]\n",
      "Training (14600 / 18000 Steps) (loss=0.38030):   5%|▌         | 1/20 [00:23<07:17, 23.04s/it]"
     ]
    },
    {
     "name": "stdout",
     "output_type": "stream",
     "text": [
      "Model Was Not Saved ! Current Best Avg. Dice: 0.6814115643501282 Current Avg. Dice: 0.6552804708480835 Current Avg. tumor Dice: 0.7560425996780396 Current Avg. lymph Dice: 0.5406757593154907\n"
     ]
    },
    {
     "name": "stderr",
     "output_type": "stream",
     "text": [
      "Training (14619 / 18000 Steps) (loss=0.39533): 100%|██████████| 20/20 [00:30<00:00,  1.55s/it]\n",
      "Training (14639 / 18000 Steps) (loss=0.40275): 100%|██████████| 20/20 [00:17<00:00,  1.17it/s]\n",
      "Training (14659 / 18000 Steps) (loss=0.10712): 100%|██████████| 20/20 [00:18<00:00,  1.08it/s]\n",
      "Training (14679 / 18000 Steps) (loss=0.27626): 100%|██████████| 20/20 [00:17<00:00,  1.17it/s]\n",
      "Training (14699 / 18000 Steps) (loss=0.45548): 100%|██████████| 20/20 [00:17<00:00,  1.11it/s]\n",
      "Validate (14700 / 10 Steps): 100%|██████████| 8/8 [00:13<00:00,  1.67s/it]8<?, ?it/s]\n",
      "Training (14700 / 18000 Steps) (loss=0.32213):   5%|▌         | 1/20 [00:21<06:55, 21.85s/it]"
     ]
    },
    {
     "name": "stdout",
     "output_type": "stream",
     "text": [
      "Model Was Not Saved ! Current Best Avg. Dice: 0.6814115643501282 Current Avg. Dice: 0.6581918597221375 Current Avg. tumor Dice: 0.7675636410713196 Current Avg. lymph Dice: 0.5336897969245911\n"
     ]
    },
    {
     "name": "stderr",
     "output_type": "stream",
     "text": [
      "Training (14719 / 18000 Steps) (loss=0.10490): 100%|██████████| 20/20 [00:29<00:00,  1.49s/it]\n",
      "Training (14739 / 18000 Steps) (loss=0.52428): 100%|██████████| 20/20 [00:18<00:00,  1.10it/s]\n",
      "Training (14759 / 18000 Steps) (loss=0.47053): 100%|██████████| 20/20 [00:17<00:00,  1.14it/s]\n",
      "Training (14779 / 18000 Steps) (loss=0.13969): 100%|██████████| 20/20 [00:17<00:00,  1.12it/s]\n",
      "Training (14799 / 18000 Steps) (loss=0.19724): 100%|██████████| 20/20 [00:17<00:00,  1.16it/s]\n",
      "Validate (14800 / 10 Steps): 100%|██████████| 8/8 [00:13<00:00,  1.73s/it]6<?, ?it/s]\n",
      "Training (14800 / 18000 Steps) (loss=0.25137):   5%|▌         | 1/20 [00:20<06:22, 20.13s/it]"
     ]
    },
    {
     "name": "stdout",
     "output_type": "stream",
     "text": [
      "Model Was Not Saved ! Current Best Avg. Dice: 0.6814115643501282 Current Avg. Dice: 0.6496717929840088 Current Avg. tumor Dice: 0.7627875804901123 Current Avg. lymph Dice: 0.5185937285423279\n"
     ]
    },
    {
     "name": "stderr",
     "output_type": "stream",
     "text": [
      "Training (14819 / 18000 Steps) (loss=0.25889): 100%|██████████| 20/20 [00:28<00:00,  1.41s/it]\n",
      "Training (14839 / 18000 Steps) (loss=0.41691): 100%|██████████| 20/20 [00:17<00:00,  1.13it/s]\n",
      "Training (14859 / 18000 Steps) (loss=0.51603): 100%|██████████| 20/20 [00:16<00:00,  1.23it/s]\n",
      "Training (14879 / 18000 Steps) (loss=0.39092): 100%|██████████| 20/20 [00:18<00:00,  1.08it/s]\n",
      "Training (14899 / 18000 Steps) (loss=0.25001): 100%|██████████| 20/20 [00:17<00:00,  1.12it/s]\n",
      "Validate (14900 / 10 Steps): 100%|██████████| 8/8 [00:15<00:00,  1.90s/it]7<?, ?it/s]\n",
      "Training (14900 / 18000 Steps) (loss=0.33538):   5%|▌         | 1/20 [00:23<07:17, 23.01s/it]"
     ]
    },
    {
     "name": "stdout",
     "output_type": "stream",
     "text": [
      "Model Was Not Saved ! Current Best Avg. Dice: 0.6814115643501282 Current Avg. Dice: 0.64943528175354 Current Avg. tumor Dice: 0.7545652985572815 Current Avg. lymph Dice: 0.5263729691505432\n"
     ]
    },
    {
     "name": "stderr",
     "output_type": "stream",
     "text": [
      "Training (14919 / 18000 Steps) (loss=0.28995): 100%|██████████| 20/20 [00:30<00:00,  1.55s/it]\n",
      "Training (14939 / 18000 Steps) (loss=0.39046): 100%|██████████| 20/20 [00:16<00:00,  1.20it/s]\n",
      "Training (14959 / 18000 Steps) (loss=0.66744): 100%|██████████| 20/20 [00:17<00:00,  1.14it/s]\n",
      "Training (14979 / 18000 Steps) (loss=0.14730): 100%|██████████| 20/20 [00:17<00:00,  1.16it/s]\n",
      "Training (14999 / 18000 Steps) (loss=0.24142): 100%|██████████| 20/20 [00:16<00:00,  1.19it/s]\n",
      "Validate (15000 / 10 Steps): 100%|██████████| 8/8 [00:13<00:00,  1.69s/it]6<?, ?it/s]\n",
      "Training (15000 / 18000 Steps) (loss=0.18626):   5%|▌         | 1/20 [00:20<06:22, 20.14s/it]"
     ]
    },
    {
     "name": "stdout",
     "output_type": "stream",
     "text": [
      "Model Was Not Saved ! Current Best Avg. Dice: 0.6814115643501282 Current Avg. Dice: 0.6517309546470642 Current Avg. tumor Dice: 0.7635829448699951 Current Avg. lymph Dice: 0.5206560492515564\n"
     ]
    },
    {
     "name": "stderr",
     "output_type": "stream",
     "text": [
      "Training (15019 / 18000 Steps) (loss=0.66699): 100%|██████████| 20/20 [00:28<00:00,  1.40s/it]\n",
      "Training (15039 / 18000 Steps) (loss=0.41102): 100%|██████████| 20/20 [00:18<00:00,  1.08it/s]\n",
      "Training (15059 / 18000 Steps) (loss=0.53497): 100%|██████████| 20/20 [00:16<00:00,  1.18it/s]\n",
      "Training (15079 / 18000 Steps) (loss=0.42711): 100%|██████████| 20/20 [00:16<00:00,  1.23it/s]\n",
      "Training (15099 / 18000 Steps) (loss=0.28974): 100%|██████████| 20/20 [00:17<00:00,  1.12it/s]\n",
      "Validate (15100 / 10 Steps): 100%|██████████| 8/8 [00:13<00:00,  1.74s/it]7<?, ?it/s]\n",
      "Training (15100 / 18000 Steps) (loss=0.45374):   5%|▌         | 1/20 [00:21<06:56, 21.91s/it]"
     ]
    },
    {
     "name": "stdout",
     "output_type": "stream",
     "text": [
      "Model Was Not Saved ! Current Best Avg. Dice: 0.6814115643501282 Current Avg. Dice: 0.6589253544807434 Current Avg. tumor Dice: 0.7665452361106873 Current Avg. lymph Dice: 0.5344205498695374\n"
     ]
    },
    {
     "name": "stderr",
     "output_type": "stream",
     "text": [
      "Training (15119 / 18000 Steps) (loss=0.23448): 100%|██████████| 20/20 [00:29<00:00,  1.50s/it]\n",
      "Training (15139 / 18000 Steps) (loss=0.24742): 100%|██████████| 20/20 [00:17<00:00,  1.14it/s]\n",
      "Training (15159 / 18000 Steps) (loss=0.46134): 100%|██████████| 20/20 [00:17<00:00,  1.13it/s]\n",
      "Training (15179 / 18000 Steps) (loss=0.63111): 100%|██████████| 20/20 [00:17<00:00,  1.15it/s]\n",
      "Training (15199 / 18000 Steps) (loss=0.24220): 100%|██████████| 20/20 [00:16<00:00,  1.22it/s]\n",
      "Validate (15200 / 10 Steps): 100%|██████████| 8/8 [00:13<00:00,  1.72s/it]5<?, ?it/s]\n",
      "Training (15200 / 18000 Steps) (loss=0.35950):   5%|▌         | 1/20 [00:19<06:12, 19.60s/it]"
     ]
    },
    {
     "name": "stdout",
     "output_type": "stream",
     "text": [
      "Model Was Not Saved ! Current Best Avg. Dice: 0.6814115643501282 Current Avg. Dice: 0.6741575598716736 Current Avg. tumor Dice: 0.7753076553344727 Current Avg. lymph Dice: 0.5555594563484192\n"
     ]
    },
    {
     "name": "stderr",
     "output_type": "stream",
     "text": [
      "Training (15219 / 18000 Steps) (loss=0.36276): 100%|██████████| 20/20 [00:27<00:00,  1.38s/it]\n",
      "Training (15239 / 18000 Steps) (loss=0.28708): 100%|██████████| 20/20 [00:17<00:00,  1.17it/s]\n",
      "Training (15259 / 18000 Steps) (loss=0.27902): 100%|██████████| 20/20 [00:16<00:00,  1.18it/s]\n",
      "Training (15279 / 18000 Steps) (loss=0.34905): 100%|██████████| 20/20 [00:16<00:00,  1.19it/s]\n",
      "Training (15299 / 18000 Steps) (loss=0.33950): 100%|██████████| 20/20 [00:16<00:00,  1.23it/s]\n",
      "Validate (15300 / 10 Steps): 100%|██████████| 8/8 [00:13<00:00,  1.72s/it]7<?, ?it/s]\n",
      "Training (15300 / 18000 Steps) (loss=0.40184):   5%|▌         | 1/20 [00:20<06:35, 20.83s/it]"
     ]
    },
    {
     "name": "stdout",
     "output_type": "stream",
     "text": [
      "Model Was Not Saved ! Current Best Avg. Dice: 0.6814115643501282 Current Avg. Dice: 0.6470226645469666 Current Avg. tumor Dice: 0.7681506872177124 Current Avg. lymph Dice: 0.5039815306663513\n"
     ]
    },
    {
     "name": "stderr",
     "output_type": "stream",
     "text": [
      "Training (15319 / 18000 Steps) (loss=0.43941): 100%|██████████| 20/20 [00:28<00:00,  1.44s/it]\n",
      "Training (15339 / 18000 Steps) (loss=0.16936): 100%|██████████| 20/20 [00:16<00:00,  1.21it/s]\n",
      "Training (15359 / 18000 Steps) (loss=0.12585): 100%|██████████| 20/20 [00:17<00:00,  1.16it/s]\n",
      "Training (15379 / 18000 Steps) (loss=0.13065): 100%|██████████| 20/20 [00:15<00:00,  1.28it/s]\n",
      "Training (15399 / 18000 Steps) (loss=0.52792): 100%|██████████| 20/20 [00:15<00:00,  1.26it/s]\n",
      "Validate (15400 / 10 Steps): 100%|██████████| 8/8 [00:13<00:00,  1.66s/it]6<?, ?it/s]\n",
      "Training (15400 / 18000 Steps) (loss=0.40859):   5%|▌         | 1/20 [00:19<06:10, 19.48s/it]"
     ]
    },
    {
     "name": "stdout",
     "output_type": "stream",
     "text": [
      "Model Was Not Saved ! Current Best Avg. Dice: 0.6814115643501282 Current Avg. Dice: 0.6471856832504272 Current Avg. tumor Dice: 0.7717562913894653 Current Avg. lymph Dice: 0.5006015300750732\n"
     ]
    },
    {
     "name": "stderr",
     "output_type": "stream",
     "text": [
      "Training (15419 / 18000 Steps) (loss=0.40378): 100%|██████████| 20/20 [00:27<00:00,  1.37s/it]\n",
      "Training (15439 / 18000 Steps) (loss=0.22367): 100%|██████████| 20/20 [00:16<00:00,  1.22it/s]\n",
      "Training (15459 / 18000 Steps) (loss=0.26520): 100%|██████████| 20/20 [00:16<00:00,  1.23it/s]\n",
      "Training (15479 / 18000 Steps) (loss=0.53812): 100%|██████████| 20/20 [00:17<00:00,  1.16it/s]\n",
      "Training (15499 / 18000 Steps) (loss=0.37943): 100%|██████████| 20/20 [00:17<00:00,  1.16it/s]\n",
      "Validate (15500 / 10 Steps): 100%|██████████| 8/8 [00:13<00:00,  1.70s/it]6<?, ?it/s]\n",
      "Training (15500 / 18000 Steps) (loss=0.39894):   5%|▌         | 1/20 [00:19<06:16, 19.82s/it]"
     ]
    },
    {
     "name": "stdout",
     "output_type": "stream",
     "text": [
      "Model Was Not Saved ! Current Best Avg. Dice: 0.6814115643501282 Current Avg. Dice: 0.6608226895332336 Current Avg. tumor Dice: 0.7698087096214294 Current Avg. lymph Dice: 0.5276056528091431\n"
     ]
    },
    {
     "name": "stderr",
     "output_type": "stream",
     "text": [
      "Training (15519 / 18000 Steps) (loss=0.20723): 100%|██████████| 20/20 [00:27<00:00,  1.39s/it]\n",
      "Training (15539 / 18000 Steps) (loss=0.38408): 100%|██████████| 20/20 [00:17<00:00,  1.17it/s]\n",
      "Training (15559 / 18000 Steps) (loss=0.24861): 100%|██████████| 20/20 [00:16<00:00,  1.22it/s]\n",
      "Training (15579 / 18000 Steps) (loss=0.40053): 100%|██████████| 20/20 [00:17<00:00,  1.17it/s]\n",
      "Training (15599 / 18000 Steps) (loss=0.38087): 100%|██████████| 20/20 [00:15<00:00,  1.27it/s]\n",
      "Validate (15600 / 10 Steps): 100%|██████████| 8/8 [00:13<00:00,  1.71s/it]6<?, ?it/s]\n",
      "Training (15600 / 18000 Steps) (loss=0.33292):   5%|▌         | 1/20 [00:20<06:21, 20.06s/it]"
     ]
    },
    {
     "name": "stdout",
     "output_type": "stream",
     "text": [
      "Model Was Not Saved ! Current Best Avg. Dice: 0.6814115643501282 Current Avg. Dice: 0.6487681865692139 Current Avg. tumor Dice: 0.7726953029632568 Current Avg. lymph Dice: 0.49810343980789185\n"
     ]
    },
    {
     "name": "stderr",
     "output_type": "stream",
     "text": [
      "Training (15619 / 18000 Steps) (loss=0.26497): 100%|██████████| 20/20 [00:28<00:00,  1.40s/it]\n",
      "Training (15639 / 18000 Steps) (loss=0.37755): 100%|██████████| 20/20 [00:16<00:00,  1.24it/s]\n",
      "Training (15659 / 18000 Steps) (loss=0.44375): 100%|██████████| 20/20 [00:17<00:00,  1.14it/s]\n",
      "Training (15679 / 18000 Steps) (loss=0.33724): 100%|██████████| 20/20 [00:16<00:00,  1.18it/s]\n",
      "Training (15699 / 18000 Steps) (loss=0.14363): 100%|██████████| 20/20 [00:16<00:00,  1.24it/s]\n",
      "Validate (15700 / 10 Steps): 100%|██████████| 8/8 [00:13<00:00,  1.73s/it]5<?, ?it/s]\n",
      "Training (15700 / 18000 Steps) (loss=0.36820):   5%|▌         | 1/20 [00:19<06:13, 19.65s/it]"
     ]
    },
    {
     "name": "stdout",
     "output_type": "stream",
     "text": [
      "Model Was Not Saved ! Current Best Avg. Dice: 0.6814115643501282 Current Avg. Dice: 0.6036604046821594 Current Avg. tumor Dice: 0.6999615430831909 Current Avg. lymph Dice: 0.5057904720306396\n"
     ]
    },
    {
     "name": "stderr",
     "output_type": "stream",
     "text": [
      "Training (15719 / 18000 Steps) (loss=0.38927): 100%|██████████| 20/20 [00:27<00:00,  1.38s/it]\n",
      "Training (15739 / 18000 Steps) (loss=0.42972): 100%|██████████| 20/20 [00:16<00:00,  1.18it/s]\n",
      "Training (15759 / 18000 Steps) (loss=0.14477): 100%|██████████| 20/20 [00:17<00:00,  1.15it/s]\n",
      "Training (15779 / 18000 Steps) (loss=0.18994): 100%|██████████| 20/20 [00:16<00:00,  1.20it/s]\n",
      "Training (15799 / 18000 Steps) (loss=0.39755): 100%|██████████| 20/20 [00:16<00:00,  1.24it/s]\n",
      "Validate (15800 / 10 Steps): 100%|██████████| 8/8 [00:13<00:00,  1.72s/it]8<?, ?it/s]\n",
      "Training (15800 / 18000 Steps) (loss=0.52268):   5%|▌         | 1/20 [00:22<07:01, 22.20s/it]"
     ]
    },
    {
     "name": "stdout",
     "output_type": "stream",
     "text": [
      "Model Was Not Saved ! Current Best Avg. Dice: 0.6814115643501282 Current Avg. Dice: 0.6576256155967712 Current Avg. tumor Dice: 0.7696040868759155 Current Avg. lymph Dice: 0.5303429365158081\n"
     ]
    },
    {
     "name": "stderr",
     "output_type": "stream",
     "text": [
      "Training (15819 / 18000 Steps) (loss=0.37393): 100%|██████████| 20/20 [00:30<00:00,  1.50s/it]\n",
      "Training (15839 / 18000 Steps) (loss=0.26586): 100%|██████████| 20/20 [00:16<00:00,  1.19it/s]\n",
      "Training (15859 / 18000 Steps) (loss=0.54119): 100%|██████████| 20/20 [00:17<00:00,  1.15it/s]\n",
      "Training (15879 / 18000 Steps) (loss=0.09938): 100%|██████████| 20/20 [00:17<00:00,  1.16it/s]\n",
      "Training (15899 / 18000 Steps) (loss=0.38999): 100%|██████████| 20/20 [00:16<00:00,  1.20it/s]\n",
      "Validate (15900 / 10 Steps): 100%|██████████| 8/8 [00:13<00:00,  1.67s/it]7<?, ?it/s]\n",
      "Training (15900 / 18000 Steps) (loss=0.30388):   5%|▌         | 1/20 [00:20<06:36, 20.86s/it]"
     ]
    },
    {
     "name": "stdout",
     "output_type": "stream",
     "text": [
      "Model Was Not Saved ! Current Best Avg. Dice: 0.6814115643501282 Current Avg. Dice: 0.6274500489234924 Current Avg. tumor Dice: 0.7439383268356323 Current Avg. lymph Dice: 0.4922594726085663\n"
     ]
    },
    {
     "name": "stderr",
     "output_type": "stream",
     "text": [
      "Training (15919 / 18000 Steps) (loss=0.47095): 100%|██████████| 20/20 [00:28<00:00,  1.44s/it]\n",
      "Training (15939 / 18000 Steps) (loss=0.40619): 100%|██████████| 20/20 [00:17<00:00,  1.12it/s]\n",
      "Training (15959 / 18000 Steps) (loss=0.50338): 100%|██████████| 20/20 [00:17<00:00,  1.14it/s]\n",
      "Training (15979 / 18000 Steps) (loss=0.14712): 100%|██████████| 20/20 [00:16<00:00,  1.19it/s]\n",
      "Training (15999 / 18000 Steps) (loss=0.59423): 100%|██████████| 20/20 [00:17<00:00,  1.16it/s]\n",
      "Validate (16000 / 10 Steps): 100%|██████████| 8/8 [00:13<00:00,  1.70s/it]6<?, ?it/s]\n",
      "Training (16000 / 18000 Steps) (loss=0.32722):   5%|▌         | 1/20 [00:20<06:20, 20.01s/it]"
     ]
    },
    {
     "name": "stdout",
     "output_type": "stream",
     "text": [
      "Model Was Not Saved ! Current Best Avg. Dice: 0.6814115643501282 Current Avg. Dice: 0.6360766887664795 Current Avg. tumor Dice: 0.7554603219032288 Current Avg. lymph Dice: 0.49330997467041016\n"
     ]
    },
    {
     "name": "stderr",
     "output_type": "stream",
     "text": [
      "Training (16019 / 18000 Steps) (loss=0.25731): 100%|██████████| 20/20 [00:28<00:00,  1.40s/it]\n",
      "Training (16039 / 18000 Steps) (loss=0.10167): 100%|██████████| 20/20 [00:16<00:00,  1.20it/s]\n",
      "Training (16059 / 18000 Steps) (loss=0.13083): 100%|██████████| 20/20 [00:16<00:00,  1.19it/s]\n",
      "Training (16079 / 18000 Steps) (loss=0.32717): 100%|██████████| 20/20 [00:17<00:00,  1.11it/s]\n",
      "Training (16099 / 18000 Steps) (loss=0.66681): 100%|██████████| 20/20 [00:16<00:00,  1.19it/s]\n",
      "Validate (16100 / 10 Steps): 100%|██████████| 8/8 [00:13<00:00,  1.73s/it]8<?, ?it/s]\n",
      "Training (16100 / 18000 Steps) (loss=0.52585):   5%|▌         | 1/20 [00:22<06:59, 22.07s/it]"
     ]
    },
    {
     "name": "stdout",
     "output_type": "stream",
     "text": [
      "Model Was Not Saved ! Current Best Avg. Dice: 0.6814115643501282 Current Avg. Dice: 0.654127836227417 Current Avg. tumor Dice: 0.7669737339019775 Current Avg. lymph Dice: 0.5198638439178467\n"
     ]
    },
    {
     "name": "stderr",
     "output_type": "stream",
     "text": [
      "Training (16119 / 18000 Steps) (loss=0.44610): 100%|██████████| 20/20 [00:30<00:00,  1.50s/it]\n",
      "Training (16139 / 18000 Steps) (loss=0.40429): 100%|██████████| 20/20 [00:15<00:00,  1.28it/s]\n",
      "Training (16159 / 18000 Steps) (loss=0.26266): 100%|██████████| 20/20 [00:17<00:00,  1.17it/s]\n",
      "Training (16179 / 18000 Steps) (loss=0.46465): 100%|██████████| 20/20 [00:16<00:00,  1.20it/s]\n",
      "Training (16199 / 18000 Steps) (loss=0.11294): 100%|██████████| 20/20 [00:16<00:00,  1.21it/s]\n",
      "Validate (16200 / 10 Steps): 100%|██████████| 8/8 [00:13<00:00,  1.70s/it]7<?, ?it/s]\n",
      "Training (16200 / 18000 Steps) (loss=0.21396):   5%|▌         | 1/20 [00:21<06:45, 21.32s/it]"
     ]
    },
    {
     "name": "stdout",
     "output_type": "stream",
     "text": [
      "Model Was Not Saved ! Current Best Avg. Dice: 0.6814115643501282 Current Avg. Dice: 0.6479616761207581 Current Avg. tumor Dice: 0.7616196870803833 Current Avg. lymph Dice: 0.517531156539917\n"
     ]
    },
    {
     "name": "stderr",
     "output_type": "stream",
     "text": [
      "Training (16219 / 18000 Steps) (loss=0.28549): 100%|██████████| 20/20 [00:29<00:00,  1.46s/it]\n",
      "Training (16239 / 18000 Steps) (loss=0.52452): 100%|██████████| 20/20 [00:16<00:00,  1.20it/s]\n",
      "Training (16259 / 18000 Steps) (loss=0.23493): 100%|██████████| 20/20 [00:16<00:00,  1.21it/s]\n",
      "Training (16279 / 18000 Steps) (loss=0.38843): 100%|██████████| 20/20 [00:15<00:00,  1.26it/s]\n",
      "Training (16299 / 18000 Steps) (loss=0.39382): 100%|██████████| 20/20 [00:16<00:00,  1.20it/s]\n",
      "Validate (16300 / 10 Steps): 100%|██████████| 8/8 [00:13<00:00,  1.70s/it]5<?, ?it/s]\n",
      "Training (16300 / 18000 Steps) (loss=0.50757):   5%|▌         | 1/20 [00:19<06:05, 19.22s/it]"
     ]
    },
    {
     "name": "stdout",
     "output_type": "stream",
     "text": [
      "Model Was Not Saved ! Current Best Avg. Dice: 0.6814115643501282 Current Avg. Dice: 0.6648607850074768 Current Avg. tumor Dice: 0.7734546661376953 Current Avg. lymph Dice: 0.5403507947921753\n"
     ]
    },
    {
     "name": "stderr",
     "output_type": "stream",
     "text": [
      "Training (16319 / 18000 Steps) (loss=0.19553): 100%|██████████| 20/20 [00:27<00:00,  1.35s/it]\n",
      "Training (16339 / 18000 Steps) (loss=0.49299): 100%|██████████| 20/20 [00:16<00:00,  1.25it/s]\n",
      "Training (16359 / 18000 Steps) (loss=0.27464): 100%|██████████| 20/20 [00:16<00:00,  1.23it/s]\n",
      "Training (16379 / 18000 Steps) (loss=0.46745): 100%|██████████| 20/20 [00:16<00:00,  1.19it/s]\n",
      "Training (16399 / 18000 Steps) (loss=0.27901): 100%|██████████| 20/20 [00:16<00:00,  1.18it/s]\n",
      "Validate (16400 / 10 Steps): 100%|██████████| 8/8 [00:13<00:00,  1.65s/it]7<?, ?it/s]\n",
      "Training (16400 / 18000 Steps) (loss=0.31721):   5%|▌         | 1/20 [00:21<06:39, 21.02s/it]"
     ]
    },
    {
     "name": "stdout",
     "output_type": "stream",
     "text": [
      "Model Was Not Saved ! Current Best Avg. Dice: 0.6814115643501282 Current Avg. Dice: 0.6488912105560303 Current Avg. tumor Dice: 0.7826938629150391 Current Avg. lymph Dice: 0.48712509870529175\n"
     ]
    },
    {
     "name": "stderr",
     "output_type": "stream",
     "text": [
      "Training (16419 / 18000 Steps) (loss=0.54060): 100%|██████████| 20/20 [00:29<00:00,  1.45s/it]\n",
      "Training (16439 / 18000 Steps) (loss=0.26013): 100%|██████████| 20/20 [00:16<00:00,  1.21it/s]\n",
      "Training (16459 / 18000 Steps) (loss=0.12764): 100%|██████████| 20/20 [00:16<00:00,  1.23it/s]\n",
      "Training (16479 / 18000 Steps) (loss=0.40551): 100%|██████████| 20/20 [00:17<00:00,  1.16it/s]\n",
      "Training (16499 / 18000 Steps) (loss=0.38697): 100%|██████████| 20/20 [00:15<00:00,  1.26it/s]\n",
      "Validate (16500 / 10 Steps): 100%|██████████| 8/8 [00:13<00:00,  1.68s/it]6<?, ?it/s]\n",
      "Training (16500 / 18000 Steps) (loss=0.40820):   5%|▌         | 1/20 [00:20<06:28, 20.43s/it]"
     ]
    },
    {
     "name": "stdout",
     "output_type": "stream",
     "text": [
      "Model Was Not Saved ! Current Best Avg. Dice: 0.6814115643501282 Current Avg. Dice: 0.6561252474784851 Current Avg. tumor Dice: 0.7693509459495544 Current Avg. lymph Dice: 0.522840142250061\n"
     ]
    },
    {
     "name": "stderr",
     "output_type": "stream",
     "text": [
      "Training (16519 / 18000 Steps) (loss=0.25879): 100%|██████████| 20/20 [00:28<00:00,  1.42s/it]\n",
      "Training (16539 / 18000 Steps) (loss=0.31951): 100%|██████████| 20/20 [00:15<00:00,  1.25it/s]\n",
      "Training (16559 / 18000 Steps) (loss=0.25891): 100%|██████████| 20/20 [00:17<00:00,  1.13it/s]\n",
      "Training (16579 / 18000 Steps) (loss=0.31080): 100%|██████████| 20/20 [00:16<00:00,  1.21it/s]\n",
      "Training (16599 / 18000 Steps) (loss=0.25540): 100%|██████████| 20/20 [00:16<00:00,  1.22it/s]\n",
      "Validate (16600 / 10 Steps): 100%|██████████| 8/8 [00:13<00:00,  1.70s/it]8<?, ?it/s]\n",
      "Training (16600 / 18000 Steps) (loss=0.36574):   5%|▌         | 1/20 [00:22<07:01, 22.21s/it]"
     ]
    },
    {
     "name": "stdout",
     "output_type": "stream",
     "text": [
      "Model Was Not Saved ! Current Best Avg. Dice: 0.6814115643501282 Current Avg. Dice: 0.6611892580986023 Current Avg. tumor Dice: 0.7754205465316772 Current Avg. lymph Dice: 0.5276961922645569\n"
     ]
    },
    {
     "name": "stderr",
     "output_type": "stream",
     "text": [
      "Training (16619 / 18000 Steps) (loss=0.60068): 100%|██████████| 20/20 [00:30<00:00,  1.51s/it]\n",
      "Training (16639 / 18000 Steps) (loss=0.54256): 100%|██████████| 20/20 [00:16<00:00,  1.21it/s]\n",
      "Training (16659 / 18000 Steps) (loss=0.52009): 100%|██████████| 20/20 [00:17<00:00,  1.14it/s]\n",
      "Training (16679 / 18000 Steps) (loss=0.48150): 100%|██████████| 20/20 [00:15<00:00,  1.28it/s]\n",
      "Training (16699 / 18000 Steps) (loss=0.63191): 100%|██████████| 20/20 [00:16<00:00,  1.25it/s]\n",
      "Validate (16700 / 10 Steps): 100%|██████████| 8/8 [00:13<00:00,  1.67s/it]6<?, ?it/s]\n",
      "Training (16700 / 18000 Steps) (loss=0.28037):   5%|▌         | 1/20 [00:20<06:21, 20.06s/it]"
     ]
    },
    {
     "name": "stdout",
     "output_type": "stream",
     "text": [
      "Model Was Not Saved ! Current Best Avg. Dice: 0.6814115643501282 Current Avg. Dice: 0.6573626399040222 Current Avg. tumor Dice: 0.7634007930755615 Current Avg. lymph Dice: 0.5362507104873657\n"
     ]
    },
    {
     "name": "stderr",
     "output_type": "stream",
     "text": [
      "Training (16719 / 18000 Steps) (loss=0.46258): 100%|██████████| 20/20 [00:27<00:00,  1.40s/it]\n",
      "Training (16739 / 18000 Steps) (loss=0.14506): 100%|██████████| 20/20 [00:16<00:00,  1.18it/s]\n",
      "Training (16759 / 18000 Steps) (loss=0.32106): 100%|██████████| 20/20 [00:17<00:00,  1.16it/s]\n",
      "Training (16779 / 18000 Steps) (loss=0.09836): 100%|██████████| 20/20 [00:16<00:00,  1.23it/s]\n",
      "Training (16799 / 18000 Steps) (loss=0.45984): 100%|██████████| 20/20 [00:17<00:00,  1.15it/s]\n",
      "Validate (16800 / 10 Steps): 100%|██████████| 8/8 [00:13<00:00,  1.71s/it]6<?, ?it/s]\n",
      "Training (16800 / 18000 Steps) (loss=0.38754):   5%|▌         | 1/20 [00:19<06:16, 19.80s/it]"
     ]
    },
    {
     "name": "stdout",
     "output_type": "stream",
     "text": [
      "Model Was Not Saved ! Current Best Avg. Dice: 0.6814115643501282 Current Avg. Dice: 0.655116856098175 Current Avg. tumor Dice: 0.7652676105499268 Current Avg. lymph Dice: 0.5290459394454956\n"
     ]
    },
    {
     "name": "stderr",
     "output_type": "stream",
     "text": [
      "Training (16819 / 18000 Steps) (loss=0.51663): 100%|██████████| 20/20 [00:27<00:00,  1.38s/it]\n",
      "Training (16839 / 18000 Steps) (loss=0.22526): 100%|██████████| 20/20 [00:17<00:00,  1.15it/s]\n",
      "Training (16859 / 18000 Steps) (loss=0.24268): 100%|██████████| 20/20 [00:16<00:00,  1.18it/s]\n",
      "Training (16879 / 18000 Steps) (loss=0.39285): 100%|██████████| 20/20 [00:16<00:00,  1.25it/s]\n",
      "Training (16899 / 18000 Steps) (loss=0.25355): 100%|██████████| 20/20 [00:16<00:00,  1.22it/s]\n",
      "Validate (16900 / 10 Steps): 100%|██████████| 8/8 [00:13<00:00,  1.65s/it]6<?, ?it/s]\n",
      "Training (16900 / 18000 Steps) (loss=0.39639):   5%|▌         | 1/20 [00:19<06:14, 19.71s/it]"
     ]
    },
    {
     "name": "stdout",
     "output_type": "stream",
     "text": [
      "Model Was Not Saved ! Current Best Avg. Dice: 0.6814115643501282 Current Avg. Dice: 0.6552391648292542 Current Avg. tumor Dice: 0.7742339968681335 Current Avg. lymph Dice: 0.5109241008758545\n"
     ]
    },
    {
     "name": "stderr",
     "output_type": "stream",
     "text": [
      "Training (16919 / 18000 Steps) (loss=0.41305): 100%|██████████| 20/20 [00:27<00:00,  1.39s/it]\n",
      "Training (16939 / 18000 Steps) (loss=0.60194): 100%|██████████| 20/20 [00:16<00:00,  1.19it/s]\n",
      "Training (16959 / 18000 Steps) (loss=0.41235): 100%|██████████| 20/20 [00:15<00:00,  1.25it/s]\n",
      "Training (16979 / 18000 Steps) (loss=0.32424): 100%|██████████| 20/20 [00:16<00:00,  1.23it/s]\n",
      "Training (16999 / 18000 Steps) (loss=0.39568): 100%|██████████| 20/20 [00:16<00:00,  1.20it/s]\n",
      "Validate (17000 / 10 Steps): 100%|██████████| 8/8 [00:13<00:00,  1.69s/it]5<?, ?it/s]\n",
      "Training (17000 / 18000 Steps) (loss=0.31982):   5%|▌         | 1/20 [00:19<06:06, 19.29s/it]"
     ]
    },
    {
     "name": "stdout",
     "output_type": "stream",
     "text": [
      "Model Was Not Saved ! Current Best Avg. Dice: 0.6814115643501282 Current Avg. Dice: 0.6249727010726929 Current Avg. tumor Dice: 0.7641488313674927 Current Avg. lymph Dice: 0.459829181432724\n"
     ]
    },
    {
     "name": "stderr",
     "output_type": "stream",
     "text": [
      "Training (17019 / 18000 Steps) (loss=0.11362): 100%|██████████| 20/20 [00:27<00:00,  1.36s/it]\n",
      "Training (17039 / 18000 Steps) (loss=0.45893): 100%|██████████| 20/20 [00:16<00:00,  1.22it/s]\n",
      "Training (17059 / 18000 Steps) (loss=0.36265): 100%|██████████| 20/20 [00:16<00:00,  1.24it/s]\n",
      "Training (17079 / 18000 Steps) (loss=0.26972): 100%|██████████| 20/20 [00:16<00:00,  1.22it/s]\n",
      "Training (17099 / 18000 Steps) (loss=0.38370): 100%|██████████| 20/20 [00:16<00:00,  1.22it/s]\n",
      "Validate (17100 / 10 Steps): 100%|██████████| 8/8 [00:14<00:00,  1.79s/it]5<?, ?it/s]\n",
      "Training (17100 / 18000 Steps) (loss=0.42415):   5%|▌         | 1/20 [00:20<06:23, 20.20s/it]"
     ]
    },
    {
     "name": "stdout",
     "output_type": "stream",
     "text": [
      "Model Was Not Saved ! Current Best Avg. Dice: 0.6814115643501282 Current Avg. Dice: 0.6748160719871521 Current Avg. tumor Dice: 0.7800950407981873 Current Avg. lymph Dice: 0.5549448728561401\n"
     ]
    },
    {
     "name": "stderr",
     "output_type": "stream",
     "text": [
      "Training (17119 / 18000 Steps) (loss=0.38640): 100%|██████████| 20/20 [00:28<00:00,  1.41s/it]\n",
      "Training (17139 / 18000 Steps) (loss=0.23849): 100%|██████████| 20/20 [00:17<00:00,  1.15it/s]\n",
      "Training (17159 / 18000 Steps) (loss=0.10540): 100%|██████████| 20/20 [00:16<00:00,  1.22it/s]\n",
      "Training (17179 / 18000 Steps) (loss=0.24115): 100%|██████████| 20/20 [00:16<00:00,  1.22it/s]\n",
      "Training (17199 / 18000 Steps) (loss=0.38898): 100%|██████████| 20/20 [00:15<00:00,  1.25it/s]\n",
      "Validate (17200 / 10 Steps): 100%|██████████| 8/8 [00:13<00:00,  1.64s/it]8<?, ?it/s]\n",
      "Training (17200 / 18000 Steps) (loss=0.39600):   5%|▌         | 1/20 [00:21<06:42, 21.16s/it]"
     ]
    },
    {
     "name": "stdout",
     "output_type": "stream",
     "text": [
      "Model Was Not Saved ! Current Best Avg. Dice: 0.6814115643501282 Current Avg. Dice: 0.6536934971809387 Current Avg. tumor Dice: 0.7683709859848022 Current Avg. lymph Dice: 0.520865797996521\n"
     ]
    },
    {
     "name": "stderr",
     "output_type": "stream",
     "text": [
      "Training (17219 / 18000 Steps) (loss=0.44007): 100%|██████████| 20/20 [00:29<00:00,  1.45s/it]\n",
      "Training (17239 / 18000 Steps) (loss=0.23034): 100%|██████████| 20/20 [00:17<00:00,  1.17it/s]\n",
      "Training (17259 / 18000 Steps) (loss=0.36276): 100%|██████████| 20/20 [00:15<00:00,  1.28it/s]\n",
      "Training (17279 / 18000 Steps) (loss=0.38158): 100%|██████████| 20/20 [00:16<00:00,  1.18it/s]\n",
      "Training (17299 / 18000 Steps) (loss=0.46362): 100%|██████████| 20/20 [00:16<00:00,  1.22it/s]\n",
      "Validate (17300 / 10 Steps): 100%|██████████| 8/8 [00:13<00:00,  1.63s/it]7<?, ?it/s]\n",
      "Training (17300 / 18000 Steps) (loss=0.35441):   5%|▌         | 1/20 [00:20<06:35, 20.83s/it]"
     ]
    },
    {
     "name": "stdout",
     "output_type": "stream",
     "text": [
      "Model Was Not Saved ! Current Best Avg. Dice: 0.6814115643501282 Current Avg. Dice: 0.654769778251648 Current Avg. tumor Dice: 0.7610470652580261 Current Avg. lymph Dice: 0.5341585874557495\n"
     ]
    },
    {
     "name": "stderr",
     "output_type": "stream",
     "text": [
      "Training (17319 / 18000 Steps) (loss=0.38566): 100%|██████████| 20/20 [00:28<00:00,  1.44s/it]\n",
      "Training (17339 / 18000 Steps) (loss=0.14585): 100%|██████████| 20/20 [00:17<00:00,  1.17it/s]\n",
      "Training (17359 / 18000 Steps) (loss=0.33848): 100%|██████████| 20/20 [00:16<00:00,  1.22it/s]\n",
      "Training (17379 / 18000 Steps) (loss=0.22334): 100%|██████████| 20/20 [00:16<00:00,  1.19it/s]\n",
      "Training (17399 / 18000 Steps) (loss=0.27607): 100%|██████████| 20/20 [00:16<00:00,  1.18it/s]\n",
      "Validate (17400 / 10 Steps): 100%|██████████| 8/8 [00:13<00:00,  1.68s/it]6<?, ?it/s]\n",
      "Training (17400 / 18000 Steps) (loss=0.46132):   5%|▌         | 1/20 [00:20<06:26, 20.34s/it]"
     ]
    },
    {
     "name": "stdout",
     "output_type": "stream",
     "text": [
      "Model Was Not Saved ! Current Best Avg. Dice: 0.6814115643501282 Current Avg. Dice: 0.6444713473320007 Current Avg. tumor Dice: 0.7574334740638733 Current Avg. lymph Dice: 0.5132485628128052\n"
     ]
    },
    {
     "name": "stderr",
     "output_type": "stream",
     "text": [
      "Training (17419 / 18000 Steps) (loss=0.16048): 100%|██████████| 20/20 [00:28<00:00,  1.42s/it]\n",
      "Training (17439 / 18000 Steps) (loss=0.24945): 100%|██████████| 20/20 [00:16<00:00,  1.19it/s]\n",
      "Training (17459 / 18000 Steps) (loss=0.27521): 100%|██████████| 20/20 [00:16<00:00,  1.19it/s]\n",
      "Training (17479 / 18000 Steps) (loss=0.38061): 100%|██████████| 20/20 [00:16<00:00,  1.24it/s]\n",
      "Training (17499 / 18000 Steps) (loss=0.52730): 100%|██████████| 20/20 [00:15<00:00,  1.29it/s]\n",
      "Validate (17500 / 10 Steps): 100%|██████████| 8/8 [00:13<00:00,  1.68s/it]5<?, ?it/s]\n",
      "Training (17500 / 18000 Steps) (loss=0.38202):   5%|▌         | 1/20 [00:19<06:10, 19.50s/it]"
     ]
    },
    {
     "name": "stdout",
     "output_type": "stream",
     "text": [
      "Model Was Not Saved ! Current Best Avg. Dice: 0.6814115643501282 Current Avg. Dice: 0.6677185297012329 Current Avg. tumor Dice: 0.7783242464065552 Current Avg. lymph Dice: 0.5352005362510681\n"
     ]
    },
    {
     "name": "stderr",
     "output_type": "stream",
     "text": [
      "Training (17519 / 18000 Steps) (loss=0.53186): 100%|██████████| 20/20 [00:27<00:00,  1.37s/it]\n",
      "Training (17539 / 18000 Steps) (loss=0.52846): 100%|██████████| 20/20 [00:16<00:00,  1.20it/s]\n",
      "Training (17559 / 18000 Steps) (loss=0.11495): 100%|██████████| 20/20 [00:17<00:00,  1.16it/s]\n",
      "Training (17579 / 18000 Steps) (loss=0.26293): 100%|██████████| 20/20 [00:16<00:00,  1.21it/s]\n",
      "Training (17599 / 18000 Steps) (loss=0.39895): 100%|██████████| 20/20 [00:16<00:00,  1.19it/s]\n",
      "Validate (17600 / 10 Steps): 100%|██████████| 8/8 [00:13<00:00,  1.64s/it]8<?, ?it/s]\n",
      "Training (17600 / 18000 Steps) (loss=0.36571):   5%|▌         | 1/20 [00:21<06:54, 21.80s/it]"
     ]
    },
    {
     "name": "stdout",
     "output_type": "stream",
     "text": [
      "Model Was Not Saved ! Current Best Avg. Dice: 0.6814115643501282 Current Avg. Dice: 0.6417710781097412 Current Avg. tumor Dice: 0.7613242864608765 Current Avg. lymph Dice: 0.49890026450157166\n"
     ]
    },
    {
     "name": "stderr",
     "output_type": "stream",
     "text": [
      "Training (17619 / 18000 Steps) (loss=0.23553): 100%|██████████| 20/20 [00:29<00:00,  1.48s/it]\n",
      "Training (17639 / 18000 Steps) (loss=0.39967): 100%|██████████| 20/20 [00:16<00:00,  1.18it/s]\n",
      "Training (17659 / 18000 Steps) (loss=0.09694): 100%|██████████| 20/20 [00:16<00:00,  1.21it/s]\n",
      "Training (17679 / 18000 Steps) (loss=0.38314): 100%|██████████| 20/20 [00:15<00:00,  1.27it/s]\n",
      "Training (17699 / 18000 Steps) (loss=0.27138): 100%|██████████| 20/20 [00:16<00:00,  1.18it/s]\n",
      "Validate (17700 / 10 Steps): 100%|██████████| 8/8 [00:12<00:00,  1.62s/it]8<?, ?it/s]\n",
      "Training (17700 / 18000 Steps) (loss=0.42294):   5%|▌         | 1/20 [00:21<06:46, 21.42s/it]"
     ]
    },
    {
     "name": "stdout",
     "output_type": "stream",
     "text": [
      "Model Was Not Saved ! Current Best Avg. Dice: 0.6814115643501282 Current Avg. Dice: 0.63942551612854 Current Avg. tumor Dice: 0.7637814879417419 Current Avg. lymph Dice: 0.49377039074897766\n"
     ]
    },
    {
     "name": "stderr",
     "output_type": "stream",
     "text": [
      "Training (17719 / 18000 Steps) (loss=0.49007): 100%|██████████| 20/20 [00:29<00:00,  1.47s/it]\n",
      "Training (17739 / 18000 Steps) (loss=0.60830): 100%|██████████| 20/20 [00:18<00:00,  1.10it/s]\n",
      "Training (17759 / 18000 Steps) (loss=0.13705): 100%|██████████| 20/20 [00:16<00:00,  1.23it/s]\n",
      "Training (17779 / 18000 Steps) (loss=0.24320): 100%|██████████| 20/20 [00:15<00:00,  1.30it/s]\n",
      "Training (17799 / 18000 Steps) (loss=0.41571): 100%|██████████| 20/20 [00:17<00:00,  1.14it/s]\n",
      "Validate (17800 / 10 Steps): 100%|██████████| 8/8 [00:13<00:00,  1.66s/it]5<?, ?it/s]\n",
      "Training (17800 / 18000 Steps) (loss=0.39255):   5%|▌         | 1/20 [00:18<05:57, 18.81s/it]"
     ]
    },
    {
     "name": "stdout",
     "output_type": "stream",
     "text": [
      "Model Was Not Saved ! Current Best Avg. Dice: 0.6814115643501282 Current Avg. Dice: 0.6578230261802673 Current Avg. tumor Dice: 0.7737236022949219 Current Avg. lymph Dice: 0.5221010446548462\n"
     ]
    },
    {
     "name": "stderr",
     "output_type": "stream",
     "text": [
      "Training (17819 / 18000 Steps) (loss=0.38156): 100%|██████████| 20/20 [00:26<00:00,  1.34s/it]\n",
      "Training (17839 / 18000 Steps) (loss=0.31348): 100%|██████████| 20/20 [00:17<00:00,  1.15it/s]\n",
      "Training (17859 / 18000 Steps) (loss=0.34860): 100%|██████████| 20/20 [00:15<00:00,  1.26it/s]\n",
      "Training (17879 / 18000 Steps) (loss=0.39606): 100%|██████████| 20/20 [00:16<00:00,  1.24it/s]\n",
      "Training (17899 / 18000 Steps) (loss=0.17384): 100%|██████████| 20/20 [00:17<00:00,  1.17it/s]\n",
      "Validate (17900 / 10 Steps): 100%|██████████| 8/8 [00:13<00:00,  1.68s/it]5<?, ?it/s]\n",
      "Training (17900 / 18000 Steps) (loss=0.29529):   5%|▌         | 1/20 [00:18<05:59, 18.94s/it]"
     ]
    },
    {
     "name": "stdout",
     "output_type": "stream",
     "text": [
      "Model Was Not Saved ! Current Best Avg. Dice: 0.6814115643501282 Current Avg. Dice: 0.6420872807502747 Current Avg. tumor Dice: 0.7570057511329651 Current Avg. lymph Dice: 0.5113979578018188\n"
     ]
    },
    {
     "name": "stderr",
     "output_type": "stream",
     "text": [
      "Training (17919 / 18000 Steps) (loss=0.31520): 100%|██████████| 20/20 [00:26<00:00,  1.34s/it]\n",
      "Training (17939 / 18000 Steps) (loss=0.27317): 100%|██████████| 20/20 [00:17<00:00,  1.16it/s]\n",
      "Training (17959 / 18000 Steps) (loss=0.11535): 100%|██████████| 20/20 [00:16<00:00,  1.24it/s]\n",
      "Training (17979 / 18000 Steps) (loss=0.43465): 100%|██████████| 20/20 [00:17<00:00,  1.15it/s]\n",
      "Training (17999 / 18000 Steps) (loss=0.24382): 100%|██████████| 20/20 [00:16<00:00,  1.23it/s]\n"
     ]
    }
   ],
   "source": [
    "model_dir = '/home/nada.saadi/CTPET/hecktor2022_cropped/6thctptchannels'\n",
    "def validation(epoch_iterator_val):\n",
    "        model.eval()\n",
    "        with torch.no_grad():\n",
    "            for step, batch in enumerate(epoch_iterator_val):\n",
    "                val_inputs, val_labels = (batch[\"ctpt\"].cuda(), batch[\"seg\"].cuda())\n",
    "                val_outputs = sliding_window_inference(val_inputs, (96, 96, 96), 4, model)\n",
    "                val_labels_list = decollate_batch(val_labels)\n",
    "                val_labels_convert = [\n",
    "                    post_label(val_label_tensor) for val_label_tensor in val_labels_list\n",
    "                ]\n",
    "                val_outputs_list = decollate_batch(val_outputs)\n",
    "                val_output_convert = [\n",
    "                    post_pred(val_pred_tensor) for val_pred_tensor in val_outputs_list\n",
    "                ]\n",
    "                dice_metric(y_pred=val_output_convert, y=val_labels_convert)\n",
    "                dice_metric_batch(y_pred=val_output_convert, y=val_labels_convert)\n",
    "                epoch_iterator_val.set_description(\n",
    "                    \"Validate (%d / %d Steps)\" % (global_step, 10.0)\n",
    "                )\n",
    "            mean_dice_val = dice_metric.aggregate().item()\n",
    "            metric_batch_val = dice_metric_batch.aggregate()\n",
    "\n",
    "            metric_tumor = metric_batch_val[0].item()\n",
    "            metric_lymph = metric_batch_val[1].item()\n",
    "\n",
    "            dice_metric.reset()\n",
    "            dice_metric_batch.reset()\n",
    "        return mean_dice_val, metric_tumor, metric_lymph\n",
    "\n",
    "\n",
    "def train(global_step, train_loader, dice_val_best, global_step_best):\n",
    "        model.train()\n",
    "        epoch_loss = 0\n",
    "        step = 0\n",
    "        epoch_iterator = tqdm(\n",
    "            train_loader, desc=\"Training (X / X Steps) (loss=X.X)\", dynamic_ncols=True\n",
    "        )\n",
    "        \n",
    "        for step, batch in enumerate(epoch_iterator):\n",
    "            step += 1\n",
    "            x, y = (batch[\"ctpt\"].cuda(), batch[\"seg\"].cuda())\n",
    "            logit_map = model(x)\n",
    "            \n",
    "            loss = loss_function(logit_map, y)\n",
    "            loss.backward()\n",
    "            epoch_loss += loss.item()\n",
    "            optimizer.step()\n",
    "            optimizer.zero_grad()\n",
    "            epoch_iterator.set_description(\n",
    "                \"Training (%d / %d Steps) (loss=%2.5f)\"\n",
    "                % (global_step, max_iterations, loss)\n",
    "            )\n",
    "            \n",
    "            if (\n",
    "                global_step % eval_num == 0 and global_step != 0\n",
    "            ) or global_step == max_iterations:\n",
    "                epoch_iterator_val = tqdm(\n",
    "                    val_loader, desc=\"Validate (X / X Steps) (dice=X.X)\", dynamic_ncols=True\n",
    "                )\n",
    "                dice_val, metric_tumor, metric_lymph = validation(epoch_iterator_val)\n",
    "                epoch_loss /= step\n",
    "                epoch_loss_values.append(epoch_loss)\n",
    "                metric_values.append(dice_val)\n",
    "                metric_values_tumor.append(metric_tumor)\n",
    "                metric_values_lymph.append(metric_lymph)\n",
    "                if dice_val > dice_val_best:\n",
    "                    dice_val_best = dice_val\n",
    "                    global_step_best = global_step\n",
    "                    torch.save(\n",
    "                        model.state_dict(), os.path.join(model_dir, \"6thctpt_channels_.pth\")\n",
    "                    )\n",
    "                    print(\n",
    "                        \"Model Was Saved ! Current Best Avg. Dice: {} Current Avg. Dice: {} Current Avg. tumor Dice: {} Current Avg. lymph Dice: {}\".format(\n",
    "                            dice_val_best, dice_val, metric_tumor, metric_lymph\n",
    "                        )\n",
    "                    )\n",
    "                else:\n",
    "                    print(\n",
    "                        \"Model Was Not Saved ! Current Best Avg. Dice: {} Current Avg. Dice: {} Current Avg. tumor Dice: {} Current Avg. lymph Dice: {}\".format(\n",
    "                            dice_val_best, dice_val,  metric_tumor, metric_lymph\n",
    "                        )\n",
    "                    )\n",
    "            global_step += 1\n",
    "        return global_step, dice_val_best, global_step_best\n",
    "\n",
    "       \n",
    "\n",
    "max_iterations = 18000\n",
    "eval_num = 100\n",
    "\n",
    "post_label = AsDiscrete(to_onehot=3)\n",
    "post_pred = AsDiscrete(argmax=True, to_onehot=3)\n",
    "\n",
    "dice_metric = DiceMetric(include_background=False, reduction=\"mean\", get_not_nans=False)\n",
    "dice_metric_batch = DiceMetric(include_background=False, reduction=\"mean_batch\")\n",
    "\n",
    "epoch = 0\n",
    "max_num_epochs = 530\n",
    "\n",
    "global_step = 0\n",
    "dice_val_best = 0.0\n",
    "global_step_best = 0\n",
    "epoch_loss_values = []\n",
    "metric_values = []\n",
    "metric_values_tumor = []\n",
    "metric_values_lymph = []\n",
    "while global_step < max_iterations:\n",
    "    global_step, dice_val_best, global_step_best = train(\n",
    "        global_step, train_loader, dice_val_best, global_step_best\n",
    "    )\n",
    "    # wandb.log({'learning_rate': optimizer.param_groups[0]['lr']})\n",
    "    # wandb.log({'Best Dice': dice_val_best})\n",
    "    epoch += 1 \n",
    "    #optimizer.param_groups[0]['lr'] = poly_lr(epoch, max_num_epochs, 0.005676 , 0.9)\n",
    "# model.load_state_dict(torch.load(os.path.join(model_dir, \"best_metric_luck_UNETr_prompt.pth\")))"
   ]
  }
 ],
 "metadata": {
  "kernelspec": {
   "display_name": "clam",
   "language": "python",
   "name": "python3"
  },
  "language_info": {
   "codemirror_mode": {
    "name": "ipython",
    "version": 3
   },
   "file_extension": ".py",
   "mimetype": "text/x-python",
   "name": "python",
   "nbconvert_exporter": "python",
   "pygments_lexer": "ipython3",
   "version": "3.8.0"
  }
 },
 "nbformat": 4,
 "nbformat_minor": 2
}
