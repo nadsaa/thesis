{
 "cells": [
  {
   "cell_type": "code",
   "execution_count": 1,
   "metadata": {},
   "outputs": [
    {
     "name": "stdout",
     "output_type": "stream",
     "text": [
      "1\n"
     ]
    },
    {
     "name": "stderr",
     "output_type": "stream",
     "text": [
      "/tmp/ipykernel_2612284/1896300350.py:9: TqdmWarning: IProgress not found. Please update jupyter and ipywidgets. See https://ipywidgets.readthedocs.io/en/stable/user_install.html\n",
      "  from tqdm.autonotebook import tqdm\n"
     ]
    }
   ],
   "source": [
    "import torch\n",
    "import torch.nn as nn\n",
    "from torch.utils.data import DataLoader\n",
    "from collections.abc import Sequence\n",
    "\n",
    "from unetr import CustomedUNETR\n",
    "\n",
    "import json\n",
    "from tqdm.autonotebook import tqdm\n",
    "import os\n",
    "os.environ[\"CUDA_DEVICE_ORDER\"] = \"PCI_BUS_ID\"\n",
    "os.environ[\"CUDA_VISIBLE_DEVICES\"] = \"0\" \n",
    "\n",
    "print(torch.cuda.device_count())\n",
    "torch.backends.cudnn.benchmark = True\n",
    "device = torch.device(\"cuda\" if torch.cuda.is_available() else \"cpu\")"
   ]
  },
  {
   "cell_type": "code",
   "execution_count": 2,
   "metadata": {},
   "outputs": [],
   "source": [
    "from monai.transforms import EnsureTyped\n",
    "from monai.transforms import Compose, LoadImaged, ScaleIntensityRanged, ConcatItemsd\n",
    "from monai.metrics import DiceMetric\n",
    "from monai.losses import DiceCELoss, DiceFocalLoss, FocalLoss\n",
    "from monai.inferers import sliding_window_inference\n",
    "\n",
    "\n",
    "from monai.data import (\n",
    "    Dataset,\n",
    "    DataLoader,\n",
    "    CacheDataset,\n",
    "    load_decathlon_datalist,\n",
    "    decollate_batch,\n",
    ")\n",
    "\n",
    "\n",
    "from monai.transforms import (\n",
    "    AsDiscrete,\n",
    "    Compose,\n",
    "    CropForegroundd,\n",
    "    LoadImaged,\n",
    "    Orientationd,\n",
    "    RandFlipd,\n",
    "    RandCropByPosNegLabeld,\n",
    "    RandShiftIntensityd,\n",
    "    ScaleIntensityRanged,\n",
    "    Spacingd,\n",
    "    RandRotate90d,\n",
    "    MapTransform,\n",
    "    ScaleIntensityd,\n",
    "    #AddChanneld,\n",
    "    SpatialPadd,\n",
    "    CenterSpatialCropd,\n",
    "    EnsureChannelFirstd,\n",
    "    ConcatItemsd,\n",
    "    AdjustContrastd, \n",
    "    Rand3DElasticd,\n",
    "    HistogramNormalized,\n",
    "    NormalizeIntensityd,\n",
    "    Invertd,\n",
    "    SaveImage,\n",
    "\n",
    ")\n",
    "import monai"
   ]
  },
  {
   "cell_type": "code",
   "execution_count": 8,
   "metadata": {},
   "outputs": [
    {
     "name": "stdout",
     "output_type": "stream",
     "text": [
      "JSON file created at /home/nada.saadi/CTPET/hecktor2022_cropped/HMR_ct_train_new.json\n"
     ]
    }
   ],
   "source": [
    "import os\n",
    "import json\n",
    "import random\n",
    "from glob import glob\n",
    "\n",
    "def generate_paths(patient_id):\n",
    "    base_dir = '/home/nada.saadi/MIS-FM/hecktor2022_cropped/data'\n",
    "    return {\n",
    "        'id': os.path.join(base_dir, patient_id),\n",
    "        'ct': os.path.join(base_dir, patient_id, f\"{patient_id}_ct.nii.gz\"),\n",
    "        'seg': os.path.join(base_dir, patient_id, f\"{patient_id}_gt.nii.gz\")\n",
    "    }\n",
    "\n",
    "# Assign each data entry to a random fold\n",
    "all_data = []\n",
    "num_folds = 5\n",
    "\n",
    "for file_dir in sorted(glob('data/*')):\n",
    "    patient_id = file_dir.split('/')[-1]\n",
    "    # Check if the file belongs to the MDA center\n",
    "    if patient_id.startswith(\"HMR-\"):\n",
    "        entry = generate_paths(patient_id)\n",
    "        entry['fold'] = random.randint(1, num_folds) - 1\n",
    "        all_data.append(entry)\n",
    "\n",
    "# Compile data into a JSON structure\n",
    "data_json = {\"training\": all_data}\n",
    "\n",
    "# Save to JSON file\n",
    "json_file_path = \"/home/nada.saadi/CTPET/hecktor2022_cropped/HMR_ct_train_new.json\"\n",
    "with open(json_file_path, 'w') as f:\n",
    "    json.dump(data_json, f, indent=4)\n",
    "\n",
    "print(f\"JSON file created at {json_file_path}\")"
   ]
  },
  {
   "cell_type": "code",
   "execution_count": 9,
   "metadata": {},
   "outputs": [],
   "source": [
    "data_dir = '/home/nada.saadi/MIS-FM/hecktor2022_cropped'\n",
    "json_dir=\"/home/nada.saadi/CTPET/hecktor2022_cropped/HMR_ct_train_new.json\""
   ]
  },
  {
   "cell_type": "code",
   "execution_count": 10,
   "metadata": {},
   "outputs": [],
   "source": [
    "def datafold_read(datalist, basedir, fold=0, key=\"training\"):\n",
    "    with open(datalist) as f:\n",
    "        json_data = json.load(f)\n",
    "\n",
    "    json_data = json_data[key]\n",
    "\n",
    "    for d in json_data:\n",
    "        for k in d:\n",
    "            if isinstance(d[k], list):\n",
    "                d[k] = [os.path.join(basedir, iv) for iv in d[k]]\n",
    "            elif isinstance(d[k], str):\n",
    "                d[k] = os.path.join(basedir, d[k]) if len(d[k]) > 0 else d[k]\n",
    "\n",
    "    tr = []\n",
    "    val = []\n",
    "    for d in json_data:\n",
    "        if \"fold\" in d and d[\"fold\"] == fold:\n",
    "            val.append(d)\n",
    "        else:\n",
    "            tr.append(d)\n",
    "\n",
    "    return tr, val"
   ]
  },
  {
   "cell_type": "code",
   "execution_count": 17,
   "metadata": {},
   "outputs": [
    {
     "data": {
      "text/plain": [
       "(11, 6)"
      ]
     },
     "execution_count": 17,
     "metadata": {},
     "output_type": "execute_result"
    }
   ],
   "source": [
    "train_files, validation_files = datafold_read(datalist=json_dir, basedir=data_dir, fold=3)\n",
    "len(train_files), len(validation_files)"
   ]
  },
  {
   "cell_type": "code",
   "execution_count": 18,
   "metadata": {},
   "outputs": [],
   "source": [
    "class ClipCT(MapTransform):\n",
    "    \"\"\"\n",
    "    Convert labels to multi channels based on hecktor classes:\n",
    "    label 1 is the tumor\n",
    "    label 2 is the lymph node\n",
    "\n",
    "    \"\"\"\n",
    "\n",
    "    def __call__(self, data):\n",
    "        d = dict(data)\n",
    "        for key in self.keys:\n",
    "            if key == \"ct\":\n",
    "                d[key] = torch.clip(d[key], min=-200, max=200)\n",
    "            # elif key == \"pt\":\n",
    "            #     d[key] = torch.clip(d[key], d[key].min(), 5)\n",
    "        return d\n",
    "\n",
    "class MulPTFM(MapTransform):\n",
    "    \"\"\"\n",
    "    Mult PT and FM \n",
    "\n",
    "    \"\"\"\n",
    "\n",
    "    def __call__(self, data):\n",
    "        d = dict(data)\n",
    "\n",
    "        fm = d[\"ct\"] > 0\n",
    "        d[\"pt\"] = d[\"pt\"] * fm\n",
    "        return d\n",
    "\n",
    "class SelectClass(MapTransform):\n",
    "    \"\"\"\n",
    "    Select the class for which you want to fine tune the model \n",
    "\n",
    "    \"\"\"\n",
    "    # def __init__(self, keys, cls=1):\n",
    "    #     super(self).__init__(keys)\n",
    "    #     self.cls = cls\n",
    "\n",
    "    def __call__(self, data):\n",
    "        d = dict(data)\n",
    "        d[\"seg\"][d[\"seg\"] == 1] = 0\n",
    "        # d[\"seg\"][d[\"seg\"] == 2] = 1\n",
    "        \n",
    "        return d"
   ]
  },
  {
   "cell_type": "code",
   "execution_count": 19,
   "metadata": {},
   "outputs": [],
   "source": [
    "num_samples = 4\n",
    "\n",
    "train_transforms = Compose(\n",
    "    [\n",
    "        LoadImaged(keys=[\"ct\", \"seg\"], ensure_channel_first = True),\n",
    "        SpatialPadd(keys=[\"ct\",  \"seg\"], spatial_size=(200, 200, 310), method='end'),\n",
    "        Orientationd(keys=[\"ct\",  \"seg\"], axcodes=\"PLS\"),\n",
    "        #NormalizeIntensityd(keys=[\"pt\"]),\n",
    "        ClipCT(keys=[\"ct\"]),\n",
    "        ScaleIntensityd(keys=[\"ct\"], minv=0, maxv=1),\n",
    "        #MulPTFM(keys=[\"ct\",\"pt\"]),\n",
    "        #ConcatItemsd(keys=[\"pt\", \"ct\"], name=\"ctpt\"),\n",
    "        #NormalizeIntensityd(keys=[\"ctpt\"], channel_wise=True),\n",
    "        RandCropByPosNegLabeld(\n",
    "            keys=[\"ct\", \"seg\"],\n",
    "            label_key=\"seg\",\n",
    "            spatial_size=(96, 96, 96),\n",
    "            pos=1,\n",
    "            neg=1,\n",
    "            num_samples=num_samples,\n",
    "            image_key=\"ct\",\n",
    "            image_threshold=0,\n",
    "        ),\n",
    "        RandFlipd(\n",
    "             keys=[\"ct\", \"seg\"],\n",
    "            spatial_axis=[0],\n",
    "            prob=0.20,\n",
    "        ),\n",
    "        RandFlipd(\n",
    "            keys=[\"ct\", \"seg\"],\n",
    "            spatial_axis=[1],\n",
    "            prob=0.20,\n",
    "        ),\n",
    "        RandFlipd(\n",
    "            keys=[\"ct\", \"seg\"],\n",
    "            spatial_axis=[2],\n",
    "            prob=0.20,\n",
    "        ),\n",
    "        RandRotate90d(\n",
    "            keys=[\"ct\", \"seg\"],\n",
    "            prob=0.20,\n",
    "            max_k=3,\n",
    "        ),\n",
    "    ]\n",
    ")\n",
    "val_transforms = Compose(\n",
    "    [\n",
    "        LoadImaged(keys=[\"ct\", \"seg\"], ensure_channel_first = True),\n",
    "        SpatialPadd(keys=[\"ct\", \"seg\"], spatial_size=(200, 200, 310), method='end'),\n",
    "        Orientationd(keys=[\"ct\",  \"seg\"], axcodes=\"PLS\"),\n",
    "        #NormalizeIntensityd(keys=[\"pt\"]),\n",
    "        ClipCT(keys=[\"ct\"]),\n",
    "        ScaleIntensityd(keys=[\"ct\"], minv=0, maxv=1),\n",
    "        #MulPTFM(keys=[\"ct\",\"pt\"]),\n",
    "        #ConcatItemsd(keys=[\"pt\", \"ct\"], name=\"ctpt\"),\n",
    "    ]\n",
    ")"
   ]
  },
  {
   "cell_type": "code",
   "execution_count": 20,
   "metadata": {},
   "outputs": [],
   "source": [
    "train_ds = monai.data.Dataset(data=train_files, transform=train_transforms)\n",
    "\n",
    "train_loader = DataLoader(\n",
    "    train_ds,\n",
    "    batch_size=2,\n",
    "    shuffle=True,\n",
    "    num_workers=8,\n",
    "    pin_memory=torch.cuda.is_available(),\n",
    "    )\n",
    "\n",
    "val_ds = monai.data.Dataset(data=validation_files, transform=val_transforms)\n",
    "\n",
    "val_loader = DataLoader(\n",
    "    val_ds, \n",
    "    batch_size=2, \n",
    "    num_workers=8, \n",
    "    shuffle= False)"
   ]
  },
  {
   "cell_type": "code",
   "execution_count": 21,
   "metadata": {},
   "outputs": [
    {
     "name": "stderr",
     "output_type": "stream",
     "text": [
      "/home/nada.saadi/miniconda3/envs/clam/lib/python3.8/site-packages/monai/utils/deprecate_utils.py:221: FutureWarning: unetr CustomedUNETR.__init__:pos_embed: Argument `pos_embed` has been deprecated since version 1.2. It will be removed in version 1.4. please use `proj_type` instead.\n",
      "  warn_deprecated(argname, msg, warning_category)\n"
     ]
    },
    {
     "name": "stdout",
     "output_type": "stream",
     "text": [
      "Nada's version of UNETR\n",
      "(96, 96, 96)\n",
      "(16, 16, 16)\n",
      "(6, 6, 6)\n",
      "768\n",
      "zaz w dakchi ya s lbnat\n"
     ]
    }
   ],
   "source": [
    "os.environ[\"CUDA_DEVICE_ORDER\"] = \"PCI_BUS_ID\"\n",
    "device = torch.device(\"cuda\" if torch.cuda.is_available() else \"cpu\")\n",
    "model = CustomedUNETR(\n",
    "    in_channels=1,  # Number of input channels\n",
    "    out_channels=3,  # Number of output channels\n",
    "    img_size=(96, 96, 96),  # Size of the input image\n",
    "    feature_size=48,  # Size of the feature maps\n",
    "    hidden_size=768,\n",
    "    num_heads=12,  # Size of the hidden layers in the transformer\n",
    "    mlp_dim=3072,  # Dimension of the MLP in the transformer\n",
    "    pos_embed=\"perceptron\",  # Type of positional embedding\n",
    "    norm_name=\"instance\",  # Type of normalization\n",
    "    res_block=True,  # Whether to use residual blocks\n",
    "    dropout_rate=0.0,\n",
    "    proj_type=\"conv\",\n",
    "    r=4,\n",
    "    lora_layer=True,\n",
    "    use_ct_encoder=True,\n",
    "    use_pet_encoder=False,\n",
    ").to(device) \n",
    "a_weights_ctpt7 = '/home/nada.saadi/CTPET/hecktor2022_cropped/7th_CTPT_tokens_ourapproach/7thctpt_tokens_ourapproach.pth'\n",
    "state_dict = torch.load(a_weights_ctpt7)\n",
    "model_state_dict = model.state_dict()\n",
    "for name, param in state_dict.items():\n",
    "    if name in model_state_dict:\n",
    "        if param.shape == model_state_dict[name].shape:\n",
    "            model_state_dict[name] = param\n",
    "\n",
    "model.load_state_dict(model_state_dict) \n",
    "\n",
    "for name, param in model.named_parameters():\n",
    "    if \"decoder5\" in name or \"decoder4\" in name or \"decoder3\" in name or \"decoder2\" in name:\n",
    "        param.requires_grad = False"
   ]
  },
  {
   "cell_type": "code",
   "execution_count": 22,
   "metadata": {},
   "outputs": [],
   "source": [
    "torch.backends.cudnn.benchmark = True\n",
    "def poly_lr(epoch, max_epochs, initial_lr, exponent=0.9):\n",
    "    return initial_lr * (1 - epoch / max_epochs)**exponent\n",
    "\n",
    "loss_function = DiceCELoss(to_onehot_y=True, softmax=True)\n",
    "optimizer = torch.optim.AdamW(model.parameters(), lr=1e-4, weight_decay=1e-5)"
   ]
  },
  {
   "cell_type": "code",
   "execution_count": 23,
   "metadata": {},
   "outputs": [],
   "source": [
    "def poly_lr(epoch, max_epochs, initial_lr, exponent=0.9):\n",
    "    return initial_lr * (1 - epoch / max_epochs)**exponent\n",
    "\n",
    "model_dir='/home/nada.saadi/CTPET/hecktor2022_cropped/b_7th'\n",
    "max_iterations = 18000\n",
    "eval_num = 100\n",
    "\n",
    "## running stats\n",
    "global_step = 0\n",
    "dice_val_best = 0.0\n",
    "global_step_best = 0\n",
    "epoch_loss_values = []\n",
    "metric_values = []\n",
    "metric_values_tumor = []\n",
    "metric_values_lymph = []\n",
    "\n",
    "\n",
    "loss_function = DiceCELoss(to_onehot_y=True, softmax=True)\n",
    "optimizer = torch.optim.AdamW(model.parameters(), lr=1e-4, weight_decay=1e-5)\n",
    "\n",
    "\n",
    "post_label = AsDiscrete(to_onehot=3)\n",
    "post_pred = AsDiscrete(argmax=True, to_onehot=3)\n",
    "\n",
    "dice_metric = DiceMetric(include_background=False, reduction=\"mean\", get_not_nans=False)\n",
    "dice_metric_batch = DiceMetric(include_background=False, reduction=\"mean_batch\")\n",
    "\n",
    "\n",
    "##-----------------------------------------------------------------------------\n",
    "\n",
    "def validation(epoch_iterator_val):\n",
    "        model.eval()\n",
    "        with torch.no_grad():\n",
    "            for step, batch in enumerate(epoch_iterator_val):\n",
    "                val_inputs, val_labels = (batch[\"ct\"].cuda(), batch[\"seg\"].cuda())\n",
    "                val_outputs = sliding_window_inference(val_inputs, (96, 96, 96), 4, model)\n",
    "                val_labels_list = decollate_batch(val_labels)\n",
    "                val_labels_convert = [\n",
    "                    post_label(val_label_tensor) for val_label_tensor in val_labels_list\n",
    "                ]\n",
    "                val_outputs_list = decollate_batch(val_outputs)\n",
    "                val_output_convert = [\n",
    "                    post_pred(val_pred_tensor) for val_pred_tensor in val_outputs_list\n",
    "                ]\n",
    "                dice_metric(y_pred=val_output_convert, y=val_labels_convert)\n",
    "                dice_metric_batch(y_pred=val_output_convert, y=val_labels_convert)\n",
    "                epoch_iterator_val.set_description(\n",
    "                    \"Validate (%d / %d Steps)\" % (global_step, 10.0)\n",
    "                )\n",
    "            mean_dice_val = dice_metric.aggregate().item()\n",
    "            metric_batch_val = dice_metric_batch.aggregate()\n",
    "\n",
    "            metric_tumor = metric_batch_val[0].item()\n",
    "            metric_lymph = metric_batch_val[1].item()\n",
    "\n",
    "            dice_metric.reset()\n",
    "            dice_metric_batch.reset()\n",
    "        return mean_dice_val, metric_tumor, metric_lymph\n",
    "\n",
    "\n",
    "\n",
    "def train(global_step, train_loader, dice_val_best, global_step_best):\n",
    "        model.train()\n",
    "        epoch_loss = 0 \n",
    "        step = 0\n",
    "        epoch_iterator = tqdm(\n",
    "            train_loader, desc=\"Training (X / X Steps) (loss=X.X)\", dynamic_ncols=True\n",
    "        )\n",
    "        \n",
    "        for step, batch in enumerate(epoch_iterator):\n",
    "            step += 1\n",
    "            x, y = (batch[\"ct\"].cuda(), batch[\"seg\"].cuda())\n",
    "            logit_map = model(x, mode=None)\n",
    "            loss = loss_function(logit_map, y)\n",
    "            loss.backward()\n",
    "            epoch_loss += loss.item() \n",
    "            optimizer.step()\n",
    "            optimizer.zero_grad()\n",
    "            epoch_iterator.set_description(\n",
    "                \"Training (%d / %d Steps) (loss=%2.5f)\"\n",
    "                % (global_step, max_iterations, loss)\n",
    "            )\n",
    "            \n",
    "            if (\n",
    "                global_step % eval_num == 0 and global_step != 0\n",
    "            ) or global_step == max_iterations:\n",
    "                epoch_iterator_val = tqdm(\n",
    "                    val_loader, desc=\"Validate (X / X Steps) (dice=X.X)\", dynamic_ncols=True\n",
    "                )\n",
    "                dice_val, metric_tumor, metric_lymph = validation(epoch_iterator_val)\n",
    "                epoch_loss /= step\n",
    "                epoch_loss_values.append(epoch_loss)\n",
    "                metric_values.append(dice_val)\n",
    "                metric_values_tumor.append(metric_tumor)\n",
    "                metric_values_lymph.append(metric_lymph)\n",
    "                if dice_val > dice_val_best:\n",
    "                    dice_val_best = dice_val\n",
    "                    global_step_best = global_step\n",
    "                    torch.save(\n",
    "                        model.state_dict(), os.path.join(model_dir, \"b_7th_ctptct.pth\")\n",
    "                    )\n",
    "                    print(\n",
    "                        \"Model Was Saved ! Current Best Avg. Dice: {} Current Avg. Dice: {} Current Avg. tumor Dice: {} Current Avg. lymph Dice: {}\".format(\n",
    "                            dice_val_best, dice_val, metric_tumor, metric_lymph\n",
    "                        )\n",
    "                    )\n",
    "                else:\n",
    "                    print(\n",
    "                        \"Model Was Not Saved ! Current Best Avg. Dice: {} Current Avg. Dice: {} Current Avg. tumor Dice: {} Current Avg. lymph Dice: {}\".format(\n",
    "                            dice_val_best, dice_val,  metric_tumor, metric_lymph\n",
    "                        )\n",
    "                    )\n",
    "            global_step += 1\n",
    "        return global_step, dice_val_best, global_step_best"
   ]
  },
  {
   "cell_type": "code",
   "execution_count": 24,
   "metadata": {},
   "outputs": [
    {
     "name": "stderr",
     "output_type": "stream",
     "text": [
      "Training (5 / 18000 Steps) (loss=1.06927): 100%|██████████| 6/6 [00:49<00:00,  8.17s/it]\n",
      "Training (11 / 18000 Steps) (loss=0.80538): 100%|██████████| 6/6 [00:11<00:00,  1.87s/it]\n",
      "Training (17 / 18000 Steps) (loss=0.71965): 100%|██████████| 6/6 [00:11<00:00,  1.91s/it]\n",
      "Training (23 / 18000 Steps) (loss=0.86846): 100%|██████████| 6/6 [00:11<00:00,  1.94s/it]\n",
      "Training (29 / 18000 Steps) (loss=0.71175): 100%|██████████| 6/6 [00:11<00:00,  1.93s/it]\n",
      "Training (35 / 18000 Steps) (loss=0.70339): 100%|██████████| 6/6 [00:11<00:00,  1.90s/it]\n",
      "Training (41 / 18000 Steps) (loss=0.70920): 100%|██████████| 6/6 [00:11<00:00,  1.90s/it]\n",
      "Training (47 / 18000 Steps) (loss=0.72357): 100%|██████████| 6/6 [00:11<00:00,  1.97s/it]\n",
      "Training (53 / 18000 Steps) (loss=0.81133): 100%|██████████| 6/6 [00:11<00:00,  1.87s/it]\n",
      "Training (59 / 18000 Steps) (loss=0.65397): 100%|██████████| 6/6 [00:11<00:00,  1.91s/it]\n",
      "Training (65 / 18000 Steps) (loss=0.67839): 100%|██████████| 6/6 [00:11<00:00,  1.94s/it]\n",
      "Training (71 / 18000 Steps) (loss=0.67394): 100%|██████████| 6/6 [00:11<00:00,  1.93s/it]\n",
      "Training (77 / 18000 Steps) (loss=0.75014): 100%|██████████| 6/6 [00:11<00:00,  1.94s/it]\n",
      "Training (83 / 18000 Steps) (loss=0.77439): 100%|██████████| 6/6 [00:11<00:00,  1.91s/it]\n",
      "Training (89 / 18000 Steps) (loss=0.66201): 100%|██████████| 6/6 [00:11<00:00,  1.97s/it]\n",
      "Training (95 / 18000 Steps) (loss=0.59404): 100%|██████████| 6/6 [00:11<00:00,  1.90s/it]\n",
      "Validate (96 / 10 Steps): 100%|██████████| 3/3 [00:12<00:00,  4.07s/it]0<00:03,  1.93s/it]\n",
      "Training (100 / 18000 Steps) (loss=0.68098):  83%|████████▎ | 5/6 [00:23<00:06,  6.67s/it]"
     ]
    },
    {
     "name": "stdout",
     "output_type": "stream",
     "text": [
      "Model Was Saved ! Current Best Avg. Dice: 0.05822630226612091 Current Avg. Dice: 0.05822630226612091 Current Avg. tumor Dice: 0.10762479901313782 Current Avg. lymph Dice: 0.00882780458778143\n"
     ]
    },
    {
     "name": "stderr",
     "output_type": "stream",
     "text": [
      "Training (101 / 18000 Steps) (loss=0.65033): 100%|██████████| 6/6 [00:25<00:00,  4.17s/it]\n",
      "Training (107 / 18000 Steps) (loss=0.61157): 100%|██████████| 6/6 [00:11<00:00,  1.93s/it]\n",
      "Training (113 / 18000 Steps) (loss=0.63313): 100%|██████████| 6/6 [00:11<00:00,  1.91s/it]\n",
      "Training (119 / 18000 Steps) (loss=0.72972): 100%|██████████| 6/6 [00:11<00:00,  1.94s/it]\n",
      "Training (125 / 18000 Steps) (loss=0.79459): 100%|██████████| 6/6 [00:11<00:00,  1.90s/it]\n",
      "Training (131 / 18000 Steps) (loss=0.70009): 100%|██████████| 6/6 [00:11<00:00,  1.92s/it]\n",
      "Training (137 / 18000 Steps) (loss=0.64250): 100%|██████████| 6/6 [00:11<00:00,  1.89s/it]\n",
      "Training (143 / 18000 Steps) (loss=0.72183): 100%|██████████| 6/6 [00:11<00:00,  1.92s/it]\n",
      "Training (149 / 18000 Steps) (loss=0.59862): 100%|██████████| 6/6 [00:11<00:00,  1.90s/it]\n",
      "Training (155 / 18000 Steps) (loss=0.66498): 100%|██████████| 6/6 [00:11<00:00,  1.93s/it]\n",
      "Training (161 / 18000 Steps) (loss=0.63664): 100%|██████████| 6/6 [00:11<00:00,  1.95s/it]\n",
      "Training (167 / 18000 Steps) (loss=0.61864): 100%|██████████| 6/6 [00:11<00:00,  1.94s/it]\n",
      "Training (173 / 18000 Steps) (loss=0.58459): 100%|██████████| 6/6 [00:11<00:00,  1.91s/it]\n",
      "Training (179 / 18000 Steps) (loss=0.75160): 100%|██████████| 6/6 [00:11<00:00,  1.98s/it]\n",
      "Training (185 / 18000 Steps) (loss=0.65894): 100%|██████████| 6/6 [00:11<00:00,  1.90s/it]\n",
      "Training (191 / 18000 Steps) (loss=0.64835): 100%|██████████| 6/6 [00:11<00:00,  1.90s/it]\n",
      "Training (197 / 18000 Steps) (loss=0.61806): 100%|██████████| 6/6 [00:11<00:00,  1.94s/it]\n",
      "Validate (198 / 10 Steps): 100%|██████████| 3/3 [00:11<00:00,  3.98s/it]<00:10,  2.68s/it]\n",
      "Training (200 / 18000 Steps) (loss=0.63690):  50%|█████     | 3/6 [00:20<00:24,  8.08s/it]"
     ]
    },
    {
     "name": "stdout",
     "output_type": "stream",
     "text": [
      "Model Was Saved ! Current Best Avg. Dice: 0.10837512463331223 Current Avg. Dice: 0.10837512463331223 Current Avg. tumor Dice: 0.17940497398376465 Current Avg. lymph Dice: 0.037345290184020996\n"
     ]
    },
    {
     "name": "stderr",
     "output_type": "stream",
     "text": [
      "Training (203 / 18000 Steps) (loss=0.51679): 100%|██████████| 6/6 [00:24<00:00,  4.10s/it]\n",
      "Training (209 / 18000 Steps) (loss=0.62274): 100%|██████████| 6/6 [00:11<00:00,  1.96s/it]\n",
      "Training (215 / 18000 Steps) (loss=0.79620): 100%|██████████| 6/6 [00:11<00:00,  1.94s/it]\n",
      "Training (221 / 18000 Steps) (loss=0.50414): 100%|██████████| 6/6 [00:11<00:00,  1.91s/it]\n",
      "Training (227 / 18000 Steps) (loss=0.64637): 100%|██████████| 6/6 [00:11<00:00,  1.89s/it]\n",
      "Training (233 / 18000 Steps) (loss=0.52730): 100%|██████████| 6/6 [00:11<00:00,  1.95s/it]\n",
      "Training (239 / 18000 Steps) (loss=0.62721): 100%|██████████| 6/6 [00:11<00:00,  1.97s/it]\n",
      "Training (245 / 18000 Steps) (loss=0.65417): 100%|██████████| 6/6 [00:11<00:00,  1.92s/it]\n",
      "Training (251 / 18000 Steps) (loss=0.44943): 100%|██████████| 6/6 [00:11<00:00,  1.93s/it]\n",
      "Training (257 / 18000 Steps) (loss=0.53199): 100%|██████████| 6/6 [00:11<00:00,  1.91s/it]\n",
      "Training (263 / 18000 Steps) (loss=0.65376): 100%|██████████| 6/6 [00:11<00:00,  1.91s/it]\n",
      "Training (269 / 18000 Steps) (loss=0.66937): 100%|██████████| 6/6 [00:11<00:00,  1.91s/it]\n",
      "Training (275 / 18000 Steps) (loss=0.52323): 100%|██████████| 6/6 [00:11<00:00,  1.89s/it]\n",
      "Training (281 / 18000 Steps) (loss=0.69437): 100%|██████████| 6/6 [00:11<00:00,  1.91s/it]\n",
      "Training (287 / 18000 Steps) (loss=0.61511): 100%|██████████| 6/6 [00:11<00:00,  1.97s/it]\n",
      "Training (293 / 18000 Steps) (loss=0.62263): 100%|██████████| 6/6 [00:11<00:00,  1.94s/it]\n",
      "Training (299 / 18000 Steps) (loss=0.63170): 100%|██████████| 6/6 [00:11<00:00,  1.94s/it]\n",
      "Validate (300 / 10 Steps): 100%|██████████| 3/3 [00:11<00:00,  3.97s/it]<?, ?it/s]\n",
      "Training (300 / 18000 Steps) (loss=0.63293):  17%|█▋        | 1/6 [00:17<01:25, 17.00s/it]"
     ]
    },
    {
     "name": "stdout",
     "output_type": "stream",
     "text": [
      "Model Was Saved ! Current Best Avg. Dice: 0.15829235315322876 Current Avg. Dice: 0.15829235315322876 Current Avg. tumor Dice: 0.24832259118556976 Current Avg. lymph Dice: 0.06826212257146835\n"
     ]
    },
    {
     "name": "stderr",
     "output_type": "stream",
     "text": [
      "Training (305 / 18000 Steps) (loss=0.58683): 100%|██████████| 6/6 [00:24<00:00,  4.06s/it]\n",
      "Training (311 / 18000 Steps) (loss=0.44748): 100%|██████████| 6/6 [00:11<00:00,  1.90s/it]\n",
      "Training (317 / 18000 Steps) (loss=0.51406): 100%|██████████| 6/6 [00:11<00:00,  1.87s/it]\n",
      "Training (323 / 18000 Steps) (loss=0.59345): 100%|██████████| 6/6 [00:11<00:00,  1.91s/it]\n",
      "Training (329 / 18000 Steps) (loss=0.46141): 100%|██████████| 6/6 [00:11<00:00,  1.94s/it]\n",
      "Training (335 / 18000 Steps) (loss=0.61381): 100%|██████████| 6/6 [00:11<00:00,  1.93s/it]\n",
      "Training (341 / 18000 Steps) (loss=0.56309): 100%|██████████| 6/6 [00:11<00:00,  1.97s/it]\n",
      "Training (347 / 18000 Steps) (loss=0.64574): 100%|██████████| 6/6 [00:11<00:00,  1.91s/it]\n",
      "Training (353 / 18000 Steps) (loss=0.60476): 100%|██████████| 6/6 [00:11<00:00,  1.92s/it]\n",
      "Training (359 / 18000 Steps) (loss=0.56008): 100%|██████████| 6/6 [00:11<00:00,  1.88s/it]\n",
      "Training (365 / 18000 Steps) (loss=0.58913): 100%|██████████| 6/6 [00:11<00:00,  1.89s/it]\n",
      "Training (371 / 18000 Steps) (loss=0.63131): 100%|██████████| 6/6 [00:11<00:00,  1.95s/it]\n",
      "Training (377 / 18000 Steps) (loss=0.61245): 100%|██████████| 6/6 [00:11<00:00,  1.90s/it]\n",
      "Training (383 / 18000 Steps) (loss=0.49576): 100%|██████████| 6/6 [00:11<00:00,  1.93s/it]\n",
      "Training (389 / 18000 Steps) (loss=0.52885): 100%|██████████| 6/6 [00:11<00:00,  1.99s/it]\n",
      "Training (395 / 18000 Steps) (loss=0.53776): 100%|██████████| 6/6 [00:11<00:00,  1.89s/it]\n",
      "Validate (396 / 10 Steps): 100%|██████████| 3/3 [00:11<00:00,  3.95s/it]<00:03,  1.95s/it]\n",
      "Training (400 / 18000 Steps) (loss=0.54320):  83%|████████▎ | 5/6 [00:23<00:06,  6.41s/it]"
     ]
    },
    {
     "name": "stdout",
     "output_type": "stream",
     "text": [
      "Model Was Saved ! Current Best Avg. Dice: 0.17874698340892792 Current Avg. Dice: 0.17874698340892792 Current Avg. tumor Dice: 0.29393211007118225 Current Avg. lymph Dice: 0.06356186419725418\n"
     ]
    },
    {
     "name": "stderr",
     "output_type": "stream",
     "text": [
      "Training (401 / 18000 Steps) (loss=0.58094): 100%|██████████| 6/6 [00:24<00:00,  4.08s/it]\n",
      "Training (407 / 18000 Steps) (loss=0.60240): 100%|██████████| 6/6 [00:11<00:00,  1.89s/it]\n",
      "Training (413 / 18000 Steps) (loss=0.56149): 100%|██████████| 6/6 [00:11<00:00,  1.95s/it]\n",
      "Training (419 / 18000 Steps) (loss=0.53506): 100%|██████████| 6/6 [00:11<00:00,  1.93s/it]\n",
      "Training (425 / 18000 Steps) (loss=0.66084): 100%|██████████| 6/6 [00:11<00:00,  1.99s/it]\n",
      "Training (431 / 18000 Steps) (loss=0.66431): 100%|██████████| 6/6 [00:11<00:00,  1.92s/it]\n",
      "Training (437 / 18000 Steps) (loss=0.64642): 100%|██████████| 6/6 [00:11<00:00,  1.96s/it]\n",
      "Training (443 / 18000 Steps) (loss=0.51376): 100%|██████████| 6/6 [00:11<00:00,  1.93s/it]\n",
      "Training (449 / 18000 Steps) (loss=0.48719): 100%|██████████| 6/6 [00:11<00:00,  1.88s/it]\n",
      "Training (455 / 18000 Steps) (loss=0.48218): 100%|██████████| 6/6 [00:11<00:00,  1.92s/it]\n",
      "Training (461 / 18000 Steps) (loss=0.65902): 100%|██████████| 6/6 [00:11<00:00,  1.97s/it]\n",
      "Training (467 / 18000 Steps) (loss=0.74558): 100%|██████████| 6/6 [00:12<00:00,  2.01s/it]\n",
      "Training (473 / 18000 Steps) (loss=0.61148): 100%|██████████| 6/6 [00:11<00:00,  1.99s/it]\n",
      "Training (479 / 18000 Steps) (loss=0.55909): 100%|██████████| 6/6 [00:12<00:00,  2.02s/it]\n",
      "Training (485 / 18000 Steps) (loss=0.64213): 100%|██████████| 6/6 [00:12<00:00,  2.01s/it]\n",
      "Training (491 / 18000 Steps) (loss=0.47357): 100%|██████████| 6/6 [00:11<00:00,  1.98s/it]\n",
      "Training (497 / 18000 Steps) (loss=0.60364): 100%|██████████| 6/6 [00:11<00:00,  1.94s/it]\n",
      "Validate (498 / 10 Steps): 100%|██████████| 3/3 [00:12<00:00,  4.05s/it]<00:10,  2.65s/it]\n",
      "Training (500 / 18000 Steps) (loss=0.46516):  50%|█████     | 3/6 [00:20<00:24,  8.15s/it]"
     ]
    },
    {
     "name": "stdout",
     "output_type": "stream",
     "text": [
      "Model Was Saved ! Current Best Avg. Dice: 0.18031100928783417 Current Avg. Dice: 0.18031100928783417 Current Avg. tumor Dice: 0.29254576563835144 Current Avg. lymph Dice: 0.0680762454867363\n"
     ]
    },
    {
     "name": "stderr",
     "output_type": "stream",
     "text": [
      "Training (503 / 18000 Steps) (loss=0.63068): 100%|██████████| 6/6 [00:24<00:00,  4.12s/it]\n",
      "Training (509 / 18000 Steps) (loss=0.54965): 100%|██████████| 6/6 [00:11<00:00,  1.98s/it]\n",
      "Training (515 / 18000 Steps) (loss=0.59197): 100%|██████████| 6/6 [00:11<00:00,  1.97s/it]\n",
      "Training (521 / 18000 Steps) (loss=0.68313): 100%|██████████| 6/6 [00:11<00:00,  1.96s/it]\n",
      "Training (527 / 18000 Steps) (loss=0.44618): 100%|██████████| 6/6 [00:11<00:00,  1.97s/it]\n",
      "Training (533 / 18000 Steps) (loss=0.48503): 100%|██████████| 6/6 [00:11<00:00,  1.96s/it]\n",
      "Training (539 / 18000 Steps) (loss=0.55001): 100%|██████████| 6/6 [00:12<00:00,  2.04s/it]\n",
      "Training (545 / 18000 Steps) (loss=0.57736): 100%|██████████| 6/6 [00:11<00:00,  1.99s/it]\n",
      "Training (551 / 18000 Steps) (loss=0.53493): 100%|██████████| 6/6 [00:11<00:00,  2.00s/it]\n",
      "Training (557 / 18000 Steps) (loss=0.63616): 100%|██████████| 6/6 [00:12<00:00,  2.02s/it]\n",
      "Training (563 / 18000 Steps) (loss=0.57683): 100%|██████████| 6/6 [00:11<00:00,  1.99s/it]\n",
      "Training (569 / 18000 Steps) (loss=0.63421): 100%|██████████| 6/6 [00:11<00:00,  1.98s/it]\n",
      "Training (575 / 18000 Steps) (loss=0.53133): 100%|██████████| 6/6 [00:11<00:00,  2.00s/it]\n",
      "Training (581 / 18000 Steps) (loss=0.54350): 100%|██████████| 6/6 [00:11<00:00,  1.99s/it]\n",
      "Training (587 / 18000 Steps) (loss=0.55539): 100%|██████████| 6/6 [00:12<00:00,  2.05s/it]\n",
      "Training (593 / 18000 Steps) (loss=0.53117): 100%|██████████| 6/6 [00:12<00:00,  2.02s/it]\n",
      "Training (599 / 18000 Steps) (loss=0.64153): 100%|██████████| 6/6 [00:12<00:00,  2.03s/it]\n",
      "Validate (600 / 10 Steps): 100%|██████████| 3/3 [00:12<00:00,  4.11s/it]<?, ?it/s]\n",
      "Training (600 / 18000 Steps) (loss=0.55907):  17%|█▋        | 1/6 [00:16<01:24, 16.84s/it]"
     ]
    },
    {
     "name": "stdout",
     "output_type": "stream",
     "text": [
      "Model Was Not Saved ! Current Best Avg. Dice: 0.18031100928783417 Current Avg. Dice: 0.1796291619539261 Current Avg. tumor Dice: 0.30542483925819397 Current Avg. lymph Dice: 0.0538334958255291\n"
     ]
    },
    {
     "name": "stderr",
     "output_type": "stream",
     "text": [
      "Training (605 / 18000 Steps) (loss=0.69775): 100%|██████████| 6/6 [00:24<00:00,  4.06s/it]\n",
      "Training (611 / 18000 Steps) (loss=0.49616): 100%|██████████| 6/6 [00:12<00:00,  2.00s/it]\n",
      "Training (617 / 18000 Steps) (loss=0.58208): 100%|██████████| 6/6 [00:11<00:00,  1.98s/it]\n",
      "Training (623 / 18000 Steps) (loss=0.51342): 100%|██████████| 6/6 [00:12<00:00,  2.00s/it]\n",
      "Training (629 / 18000 Steps) (loss=0.55904): 100%|██████████| 6/6 [00:12<00:00,  2.05s/it]\n",
      "Training (635 / 18000 Steps) (loss=0.58448): 100%|██████████| 6/6 [00:12<00:00,  2.05s/it]\n",
      "Training (641 / 18000 Steps) (loss=0.57611): 100%|██████████| 6/6 [00:12<00:00,  2.01s/it]\n",
      "Training (647 / 18000 Steps) (loss=0.39590): 100%|██████████| 6/6 [00:12<00:00,  2.02s/it]\n",
      "Training (653 / 18000 Steps) (loss=0.63481): 100%|██████████| 6/6 [00:12<00:00,  2.02s/it]\n",
      "Training (659 / 18000 Steps) (loss=0.49418): 100%|██████████| 6/6 [00:12<00:00,  2.02s/it]\n",
      "Training (665 / 18000 Steps) (loss=0.56566): 100%|██████████| 6/6 [00:11<00:00,  1.97s/it]\n",
      "Training (671 / 18000 Steps) (loss=0.51582): 100%|██████████| 6/6 [00:12<00:00,  2.00s/it]\n",
      "Training (677 / 18000 Steps) (loss=0.63600): 100%|██████████| 6/6 [00:12<00:00,  2.01s/it]\n",
      "Training (683 / 18000 Steps) (loss=0.54409): 100%|██████████| 6/6 [00:12<00:00,  2.05s/it]\n",
      "Training (689 / 18000 Steps) (loss=0.55269): 100%|██████████| 6/6 [00:11<00:00,  2.00s/it]\n",
      "Training (695 / 18000 Steps) (loss=0.58952): 100%|██████████| 6/6 [00:12<00:00,  2.01s/it]\n",
      "Validate (696 / 10 Steps): 100%|██████████| 3/3 [00:12<00:00,  4.04s/it]<00:04,  2.04s/it]\n",
      "Training (700 / 18000 Steps) (loss=0.52538):  83%|████████▎ | 5/6 [00:23<00:06,  6.28s/it]"
     ]
    },
    {
     "name": "stdout",
     "output_type": "stream",
     "text": [
      "Model Was Not Saved ! Current Best Avg. Dice: 0.18031100928783417 Current Avg. Dice: 0.17312228679656982 Current Avg. tumor Dice: 0.2435188740491867 Current Avg. lymph Dice: 0.10272572189569473\n"
     ]
    },
    {
     "name": "stderr",
     "output_type": "stream",
     "text": [
      "Training (701 / 18000 Steps) (loss=0.53733): 100%|██████████| 6/6 [00:24<00:00,  4.08s/it]\n",
      "Training (707 / 18000 Steps) (loss=0.46080): 100%|██████████| 6/6 [00:11<00:00,  1.97s/it]\n",
      "Training (713 / 18000 Steps) (loss=0.48898): 100%|██████████| 6/6 [00:11<00:00,  1.99s/it]\n",
      "Training (719 / 18000 Steps) (loss=0.62676): 100%|██████████| 6/6 [00:11<00:00,  1.98s/it]\n",
      "Training (725 / 18000 Steps) (loss=0.60527): 100%|██████████| 6/6 [00:12<00:00,  2.01s/it]\n",
      "Training (731 / 18000 Steps) (loss=0.60033): 100%|██████████| 6/6 [00:11<00:00,  1.94s/it]\n",
      "Training (737 / 18000 Steps) (loss=0.54275): 100%|██████████| 6/6 [00:11<00:00,  1.97s/it]\n",
      "Training (743 / 18000 Steps) (loss=0.58613): 100%|██████████| 6/6 [00:11<00:00,  1.94s/it]\n",
      "Training (749 / 18000 Steps) (loss=0.66316): 100%|██████████| 6/6 [00:11<00:00,  1.97s/it]\n",
      "Training (755 / 18000 Steps) (loss=0.57839): 100%|██████████| 6/6 [00:11<00:00,  1.95s/it]\n",
      "Training (761 / 18000 Steps) (loss=0.62528): 100%|██████████| 6/6 [00:12<00:00,  2.04s/it]\n",
      "Training (767 / 18000 Steps) (loss=0.41332): 100%|██████████| 6/6 [00:11<00:00,  1.98s/it]\n",
      "Training (773 / 18000 Steps) (loss=0.51269): 100%|██████████| 6/6 [00:12<00:00,  2.01s/it]\n",
      "Training (779 / 18000 Steps) (loss=0.64613): 100%|██████████| 6/6 [00:12<00:00,  2.04s/it]\n",
      "Training (785 / 18000 Steps) (loss=0.65451): 100%|██████████| 6/6 [00:12<00:00,  2.04s/it]\n",
      "Training (791 / 18000 Steps) (loss=0.59403): 100%|██████████| 6/6 [00:11<00:00,  1.99s/it]\n",
      "Training (797 / 18000 Steps) (loss=0.58155): 100%|██████████| 6/6 [00:11<00:00,  1.98s/it]\n",
      "Validate (798 / 10 Steps): 100%|██████████| 3/3 [00:12<00:00,  4.08s/it]<00:10,  2.74s/it]\n",
      "Training (800 / 18000 Steps) (loss=0.50428):  50%|█████     | 3/6 [00:20<00:24,  8.23s/it]"
     ]
    },
    {
     "name": "stdout",
     "output_type": "stream",
     "text": [
      "Model Was Saved ! Current Best Avg. Dice: 0.18624861538410187 Current Avg. Dice: 0.18624861538410187 Current Avg. tumor Dice: 0.30650219321250916 Current Avg. lymph Dice: 0.06599508225917816\n"
     ]
    },
    {
     "name": "stderr",
     "output_type": "stream",
     "text": [
      "Training (803 / 18000 Steps) (loss=0.59438): 100%|██████████| 6/6 [00:25<00:00,  4.20s/it]\n",
      "Training (809 / 18000 Steps) (loss=0.55546): 100%|██████████| 6/6 [00:12<00:00,  2.01s/it]\n",
      "Training (815 / 18000 Steps) (loss=0.50766): 100%|██████████| 6/6 [00:11<00:00,  1.95s/it]\n",
      "Training (821 / 18000 Steps) (loss=0.59024): 100%|██████████| 6/6 [00:11<00:00,  1.99s/it]\n",
      "Training (827 / 18000 Steps) (loss=0.55420): 100%|██████████| 6/6 [00:11<00:00,  2.00s/it]\n",
      "Training (833 / 18000 Steps) (loss=0.52731): 100%|██████████| 6/6 [00:11<00:00,  1.93s/it]\n",
      "Training (839 / 18000 Steps) (loss=0.63154): 100%|██████████| 6/6 [00:11<00:00,  1.93s/it]\n",
      "Training (845 / 18000 Steps) (loss=0.59426): 100%|██████████| 6/6 [00:11<00:00,  1.95s/it]\n",
      "Training (851 / 18000 Steps) (loss=0.61620): 100%|██████████| 6/6 [00:11<00:00,  1.99s/it]\n",
      "Training (857 / 18000 Steps) (loss=0.58956): 100%|██████████| 6/6 [00:12<00:00,  2.03s/it]\n",
      "Training (863 / 18000 Steps) (loss=0.62830): 100%|██████████| 6/6 [00:11<00:00,  1.94s/it]\n",
      "Training (869 / 18000 Steps) (loss=0.61149): 100%|██████████| 6/6 [00:11<00:00,  1.96s/it]\n",
      "Training (875 / 18000 Steps) (loss=0.44268): 100%|██████████| 6/6 [00:12<00:00,  2.01s/it]\n",
      "Training (881 / 18000 Steps) (loss=0.48709): 100%|██████████| 6/6 [00:11<00:00,  1.98s/it]\n",
      "Training (887 / 18000 Steps) (loss=0.38334): 100%|██████████| 6/6 [00:12<00:00,  2.00s/it]\n",
      "Training (893 / 18000 Steps) (loss=0.54413): 100%|██████████| 6/6 [00:11<00:00,  1.99s/it]\n",
      "Training (899 / 18000 Steps) (loss=0.41762): 100%|██████████| 6/6 [00:11<00:00,  1.98s/it]\n",
      "Validate (900 / 10 Steps): 100%|██████████| 3/3 [00:12<00:00,  4.01s/it]<?, ?it/s]\n",
      "Training (900 / 18000 Steps) (loss=0.48622):  17%|█▋        | 1/6 [00:16<01:22, 16.42s/it]"
     ]
    },
    {
     "name": "stdout",
     "output_type": "stream",
     "text": [
      "Model Was Not Saved ! Current Best Avg. Dice: 0.18624861538410187 Current Avg. Dice: 0.17706187069416046 Current Avg. tumor Dice: 0.27451232075691223 Current Avg. lymph Dice: 0.07961144298315048\n"
     ]
    },
    {
     "name": "stderr",
     "output_type": "stream",
     "text": [
      "Training (905 / 18000 Steps) (loss=0.65822): 100%|██████████| 6/6 [00:23<00:00,  3.97s/it]\n",
      "Training (911 / 18000 Steps) (loss=0.54321): 100%|██████████| 6/6 [00:11<00:00,  1.98s/it]\n",
      "Training (917 / 18000 Steps) (loss=0.59190): 100%|██████████| 6/6 [00:11<00:00,  1.92s/it]\n",
      "Training (923 / 18000 Steps) (loss=0.54030): 100%|██████████| 6/6 [00:11<00:00,  1.98s/it]\n",
      "Training (929 / 18000 Steps) (loss=0.65753): 100%|██████████| 6/6 [00:11<00:00,  1.96s/it]\n",
      "Training (935 / 18000 Steps) (loss=0.55726): 100%|██████████| 6/6 [00:11<00:00,  1.99s/it]\n",
      "Training (941 / 18000 Steps) (loss=0.60354): 100%|██████████| 6/6 [00:11<00:00,  1.99s/it]\n",
      "Training (947 / 18000 Steps) (loss=0.63350): 100%|██████████| 6/6 [00:12<00:00,  2.00s/it]\n",
      "Training (953 / 18000 Steps) (loss=0.56189): 100%|██████████| 6/6 [00:11<00:00,  1.98s/it]\n",
      "Training (959 / 18000 Steps) (loss=0.46602): 100%|██████████| 6/6 [00:11<00:00,  1.96s/it]\n",
      "Training (965 / 18000 Steps) (loss=0.46120): 100%|██████████| 6/6 [00:11<00:00,  1.95s/it]\n",
      "Training (971 / 18000 Steps) (loss=0.53849): 100%|██████████| 6/6 [00:12<00:00,  2.00s/it]\n",
      "Training (977 / 18000 Steps) (loss=0.43143): 100%|██████████| 6/6 [00:11<00:00,  2.00s/it]\n",
      "Training (983 / 18000 Steps) (loss=0.56384): 100%|██████████| 6/6 [00:11<00:00,  2.00s/it]\n",
      "Training (989 / 18000 Steps) (loss=0.37231): 100%|██████████| 6/6 [00:11<00:00,  2.00s/it]\n",
      "Training (995 / 18000 Steps) (loss=0.49666): 100%|██████████| 6/6 [00:11<00:00,  1.92s/it]\n",
      "Validate (996 / 10 Steps): 100%|██████████| 3/3 [00:12<00:00,  4.03s/it]0<00:03,  1.98s/it]\n",
      "Training (1000 / 18000 Steps) (loss=0.59343):  83%|████████▎ | 5/6 [00:23<00:06,  6.56s/it]"
     ]
    },
    {
     "name": "stdout",
     "output_type": "stream",
     "text": [
      "Model Was Saved ! Current Best Avg. Dice: 0.20673777163028717 Current Avg. Dice: 0.20673777163028717 Current Avg. tumor Dice: 0.316597044467926 Current Avg. lymph Dice: 0.09687850624322891\n"
     ]
    },
    {
     "name": "stderr",
     "output_type": "stream",
     "text": [
      "Training (1001 / 18000 Steps) (loss=0.55641): 100%|██████████| 6/6 [00:24<00:00,  4.14s/it]\n",
      "Training (1007 / 18000 Steps) (loss=0.41309): 100%|██████████| 6/6 [00:11<00:00,  1.98s/it]\n",
      "Training (1013 / 18000 Steps) (loss=0.44063): 100%|██████████| 6/6 [00:11<00:00,  1.96s/it]\n",
      "Training (1019 / 18000 Steps) (loss=0.75076): 100%|██████████| 6/6 [00:11<00:00,  1.95s/it]\n",
      "Training (1025 / 18000 Steps) (loss=0.56164): 100%|██████████| 6/6 [00:12<00:00,  2.02s/it]\n",
      "Training (1031 / 18000 Steps) (loss=0.61464): 100%|██████████| 6/6 [00:11<00:00,  1.96s/it]\n",
      "Training (1037 / 18000 Steps) (loss=0.63363): 100%|██████████| 6/6 [00:11<00:00,  1.97s/it]\n",
      "Training (1043 / 18000 Steps) (loss=0.67315): 100%|██████████| 6/6 [00:11<00:00,  2.00s/it]\n",
      "Training (1049 / 18000 Steps) (loss=0.53161): 100%|██████████| 6/6 [00:11<00:00,  1.99s/it]\n",
      "Training (1055 / 18000 Steps) (loss=0.57052): 100%|██████████| 6/6 [00:11<00:00,  1.97s/it]\n",
      "Training (1061 / 18000 Steps) (loss=0.43866): 100%|██████████| 6/6 [00:11<00:00,  1.99s/it]\n",
      "Training (1067 / 18000 Steps) (loss=0.55776): 100%|██████████| 6/6 [00:12<00:00,  2.00s/it]\n",
      "Training (1073 / 18000 Steps) (loss=0.54324): 100%|██████████| 6/6 [00:12<00:00,  2.02s/it]\n",
      "Training (1079 / 18000 Steps) (loss=0.49126): 100%|██████████| 6/6 [00:12<00:00,  2.00s/it]\n",
      "Training (1085 / 18000 Steps) (loss=0.66185): 100%|██████████| 6/6 [00:11<00:00,  1.97s/it]\n",
      "Training (1091 / 18000 Steps) (loss=0.52247): 100%|██████████| 6/6 [00:11<00:00,  1.98s/it]\n",
      "Training (1097 / 18000 Steps) (loss=0.63335): 100%|██████████| 6/6 [00:11<00:00,  1.93s/it]\n",
      "Validate (1098 / 10 Steps): 100%|██████████| 3/3 [00:12<00:00,  4.05s/it]<00:10,  2.74s/it]\n",
      "Training (1100 / 18000 Steps) (loss=0.57215):  50%|█████     | 3/6 [00:20<00:24,  8.21s/it]"
     ]
    },
    {
     "name": "stdout",
     "output_type": "stream",
     "text": [
      "Model Was Saved ! Current Best Avg. Dice: 0.21293066442012787 Current Avg. Dice: 0.21293066442012787 Current Avg. tumor Dice: 0.3412853181362152 Current Avg. lymph Dice: 0.08457600325345993\n"
     ]
    },
    {
     "name": "stderr",
     "output_type": "stream",
     "text": [
      "Training (1103 / 18000 Steps) (loss=0.51089): 100%|██████████| 6/6 [00:25<00:00,  4.17s/it]\n",
      "Training (1109 / 18000 Steps) (loss=0.25058): 100%|██████████| 6/6 [00:11<00:00,  2.00s/it]\n",
      "Training (1115 / 18000 Steps) (loss=0.54351): 100%|██████████| 6/6 [00:11<00:00,  1.98s/it]\n",
      "Training (1121 / 18000 Steps) (loss=0.48152): 100%|██████████| 6/6 [00:11<00:00,  1.95s/it]\n",
      "Training (1127 / 18000 Steps) (loss=0.57959): 100%|██████████| 6/6 [00:12<00:00,  2.01s/it]\n",
      "Training (1133 / 18000 Steps) (loss=0.55469): 100%|██████████| 6/6 [00:12<00:00,  2.01s/it]\n",
      "Training (1139 / 18000 Steps) (loss=0.62219): 100%|██████████| 6/6 [00:11<00:00,  1.98s/it]\n",
      "Training (1145 / 18000 Steps) (loss=0.64841): 100%|██████████| 6/6 [00:12<00:00,  2.00s/it]\n",
      "Training (1151 / 18000 Steps) (loss=0.59102): 100%|██████████| 6/6 [00:12<00:00,  2.03s/it]\n",
      "Training (1157 / 18000 Steps) (loss=0.59578): 100%|██████████| 6/6 [00:11<00:00,  2.00s/it]\n",
      "Training (1163 / 18000 Steps) (loss=0.40065): 100%|██████████| 6/6 [00:11<00:00,  1.95s/it]\n",
      "Training (1169 / 18000 Steps) (loss=0.60931): 100%|██████████| 6/6 [00:11<00:00,  1.99s/it]\n",
      "Training (1175 / 18000 Steps) (loss=0.50287): 100%|██████████| 6/6 [00:11<00:00,  1.99s/it]\n",
      "Training (1181 / 18000 Steps) (loss=0.55605): 100%|██████████| 6/6 [00:11<00:00,  1.97s/it]\n",
      "Training (1187 / 18000 Steps) (loss=0.58677): 100%|██████████| 6/6 [00:11<00:00,  1.98s/it]\n",
      "Training (1193 / 18000 Steps) (loss=0.48803): 100%|██████████| 6/6 [00:11<00:00,  1.97s/it]\n",
      "Training (1199 / 18000 Steps) (loss=0.58612): 100%|██████████| 6/6 [00:12<00:00,  2.00s/it]\n",
      "Validate (1200 / 10 Steps): 100%|██████████| 3/3 [00:12<00:00,  4.07s/it]<?, ?it/s]\n",
      "Training (1200 / 18000 Steps) (loss=0.49862):  17%|█▋        | 1/6 [00:16<01:22, 16.57s/it]"
     ]
    },
    {
     "name": "stdout",
     "output_type": "stream",
     "text": [
      "Model Was Not Saved ! Current Best Avg. Dice: 0.21293066442012787 Current Avg. Dice: 0.20740880072116852 Current Avg. tumor Dice: 0.27802959084510803 Current Avg. lymph Dice: 0.13678805530071259\n"
     ]
    },
    {
     "name": "stderr",
     "output_type": "stream",
     "text": [
      "Training (1205 / 18000 Steps) (loss=0.52429): 100%|██████████| 6/6 [00:24<00:00,  4.01s/it]\n",
      "Training (1211 / 18000 Steps) (loss=0.45088): 100%|██████████| 6/6 [00:11<00:00,  1.97s/it]\n",
      "Training (1217 / 18000 Steps) (loss=0.31132): 100%|██████████| 6/6 [00:12<00:00,  2.02s/it]\n",
      "Training (1223 / 18000 Steps) (loss=0.45953): 100%|██████████| 6/6 [00:11<00:00,  1.97s/it]\n",
      "Training (1229 / 18000 Steps) (loss=0.32316): 100%|██████████| 6/6 [00:12<00:00,  2.02s/it]\n",
      "Training (1235 / 18000 Steps) (loss=0.57555): 100%|██████████| 6/6 [00:12<00:00,  2.01s/it]\n",
      "Training (1241 / 18000 Steps) (loss=0.57993): 100%|██████████| 6/6 [00:12<00:00,  2.01s/it]\n",
      "Training (1247 / 18000 Steps) (loss=0.64193): 100%|██████████| 6/6 [00:11<00:00,  1.99s/it]\n",
      "Training (1253 / 18000 Steps) (loss=0.52352): 100%|██████████| 6/6 [00:12<00:00,  2.05s/it]\n",
      "Training (1259 / 18000 Steps) (loss=0.35187): 100%|██████████| 6/6 [00:11<00:00,  1.97s/it]\n",
      "Training (1265 / 18000 Steps) (loss=0.47237): 100%|██████████| 6/6 [00:11<00:00,  1.95s/it]\n",
      "Training (1271 / 18000 Steps) (loss=0.58741): 100%|██████████| 6/6 [00:11<00:00,  1.98s/it]\n",
      "Training (1277 / 18000 Steps) (loss=0.56693): 100%|██████████| 6/6 [00:11<00:00,  1.99s/it]\n",
      "Training (1283 / 18000 Steps) (loss=0.48236): 100%|██████████| 6/6 [00:11<00:00,  1.99s/it]\n",
      "Training (1289 / 18000 Steps) (loss=0.57972): 100%|██████████| 6/6 [00:12<00:00,  2.05s/it]\n",
      "Training (1295 / 18000 Steps) (loss=0.50599): 100%|██████████| 6/6 [00:11<00:00,  1.98s/it]\n",
      "Validate (1296 / 10 Steps): 100%|██████████| 3/3 [00:12<00:00,  4.01s/it]<00:03,  1.98s/it]\n",
      "Training (1300 / 18000 Steps) (loss=0.50384):  83%|████████▎ | 5/6 [00:22<00:06,  6.21s/it]"
     ]
    },
    {
     "name": "stdout",
     "output_type": "stream",
     "text": [
      "Model Was Not Saved ! Current Best Avg. Dice: 0.21293066442012787 Current Avg. Dice: 0.19788312911987305 Current Avg. tumor Dice: 0.2704700529575348 Current Avg. lymph Dice: 0.1252961903810501\n"
     ]
    },
    {
     "name": "stderr",
     "output_type": "stream",
     "text": [
      "Training (1301 / 18000 Steps) (loss=0.41506): 100%|██████████| 6/6 [00:23<00:00,  4.00s/it]\n",
      "Training (1307 / 18000 Steps) (loss=0.46651): 100%|██████████| 6/6 [00:11<00:00,  1.96s/it]\n",
      "Training (1313 / 18000 Steps) (loss=0.40809): 100%|██████████| 6/6 [00:12<00:00,  2.02s/it]\n",
      "Training (1319 / 18000 Steps) (loss=0.60578): 100%|██████████| 6/6 [00:12<00:00,  2.05s/it]\n",
      "Training (1325 / 18000 Steps) (loss=0.38563): 100%|██████████| 6/6 [00:12<00:00,  2.06s/it]\n",
      "Training (1331 / 18000 Steps) (loss=0.39437): 100%|██████████| 6/6 [00:11<00:00,  2.00s/it]\n",
      "Training (1337 / 18000 Steps) (loss=0.46682): 100%|██████████| 6/6 [00:11<00:00,  1.97s/it]\n",
      "Training (1343 / 18000 Steps) (loss=0.50075): 100%|██████████| 6/6 [00:11<00:00,  1.99s/it]\n",
      "Training (1349 / 18000 Steps) (loss=0.34234): 100%|██████████| 6/6 [00:11<00:00,  1.93s/it]\n",
      "Training (1355 / 18000 Steps) (loss=0.57233): 100%|██████████| 6/6 [00:11<00:00,  1.98s/it]\n",
      "Training (1361 / 18000 Steps) (loss=0.62833): 100%|██████████| 6/6 [00:11<00:00,  1.97s/it]\n",
      "Training (1367 / 18000 Steps) (loss=0.61978): 100%|██████████| 6/6 [00:12<00:00,  2.01s/it]\n",
      "Training (1373 / 18000 Steps) (loss=0.49597): 100%|██████████| 6/6 [00:11<00:00,  2.00s/it]\n",
      "Training (1379 / 18000 Steps) (loss=0.37491): 100%|██████████| 6/6 [00:11<00:00,  1.98s/it]\n",
      "Training (1385 / 18000 Steps) (loss=0.53229): 100%|██████████| 6/6 [00:12<00:00,  2.02s/it]\n",
      "Training (1391 / 18000 Steps) (loss=0.37765): 100%|██████████| 6/6 [00:11<00:00,  1.97s/it]\n",
      "Training (1397 / 18000 Steps) (loss=0.40189): 100%|██████████| 6/6 [00:11<00:00,  1.96s/it]\n",
      "Validate (1398 / 10 Steps): 100%|██████████| 3/3 [00:12<00:00,  4.02s/it]<00:10,  2.72s/it]\n",
      "Training (1400 / 18000 Steps) (loss=0.50203):  50%|█████     | 3/6 [00:19<00:23,  7.73s/it]"
     ]
    },
    {
     "name": "stdout",
     "output_type": "stream",
     "text": [
      "Model Was Not Saved ! Current Best Avg. Dice: 0.21293066442012787 Current Avg. Dice: 0.19352389872074127 Current Avg. tumor Dice: 0.27228936553001404 Current Avg. lymph Dice: 0.1147584393620491\n"
     ]
    },
    {
     "name": "stderr",
     "output_type": "stream",
     "text": [
      "Training (1403 / 18000 Steps) (loss=0.57607): 100%|██████████| 6/6 [00:23<00:00,  3.98s/it]\n",
      "Training (1409 / 18000 Steps) (loss=0.49749): 100%|██████████| 6/6 [00:11<00:00,  2.00s/it]\n",
      "Training (1415 / 18000 Steps) (loss=0.66627): 100%|██████████| 6/6 [00:12<00:00,  2.01s/it]\n",
      "Training (1421 / 18000 Steps) (loss=0.49515): 100%|██████████| 6/6 [00:12<00:00,  2.01s/it]\n",
      "Training (1427 / 18000 Steps) (loss=0.47924): 100%|██████████| 6/6 [00:11<00:00,  1.97s/it]\n",
      "Training (1433 / 18000 Steps) (loss=0.56398): 100%|██████████| 6/6 [00:11<00:00,  1.91s/it]\n",
      "Training (1439 / 18000 Steps) (loss=0.61972): 100%|██████████| 6/6 [00:11<00:00,  1.94s/it]\n",
      "Training (1445 / 18000 Steps) (loss=0.43285): 100%|██████████| 6/6 [00:11<00:00,  1.97s/it]\n",
      "Training (1451 / 18000 Steps) (loss=0.41534): 100%|██████████| 6/6 [00:12<00:00,  2.02s/it]\n",
      "Training (1457 / 18000 Steps) (loss=0.48001): 100%|██████████| 6/6 [00:12<00:00,  2.01s/it]\n",
      "Training (1463 / 18000 Steps) (loss=0.56752): 100%|██████████| 6/6 [00:11<00:00,  1.94s/it]\n",
      "Training (1469 / 18000 Steps) (loss=0.45255): 100%|██████████| 6/6 [00:11<00:00,  1.95s/it]\n",
      "Training (1475 / 18000 Steps) (loss=0.49031): 100%|██████████| 6/6 [00:12<00:00,  2.08s/it]\n",
      "Training (1481 / 18000 Steps) (loss=0.36416): 100%|██████████| 6/6 [00:11<00:00,  1.95s/it]\n",
      "Training (1487 / 18000 Steps) (loss=0.58171): 100%|██████████| 6/6 [00:12<00:00,  2.02s/it]\n",
      "Training (1493 / 18000 Steps) (loss=0.55765): 100%|██████████| 6/6 [00:12<00:00,  2.01s/it]\n",
      "Training (1499 / 18000 Steps) (loss=0.56640): 100%|██████████| 6/6 [00:11<00:00,  1.96s/it]\n",
      "Validate (1500 / 10 Steps): 100%|██████████| 3/3 [00:12<00:00,  4.03s/it]<?, ?it/s]\n",
      "Training (1500 / 18000 Steps) (loss=0.53087):  17%|█▋        | 1/6 [00:16<01:22, 16.45s/it]"
     ]
    },
    {
     "name": "stdout",
     "output_type": "stream",
     "text": [
      "Model Was Not Saved ! Current Best Avg. Dice: 0.21293066442012787 Current Avg. Dice: 0.19344961643218994 Current Avg. tumor Dice: 0.2597711980342865 Current Avg. lymph Dice: 0.12712804973125458\n"
     ]
    },
    {
     "name": "stderr",
     "output_type": "stream",
     "text": [
      "Training (1505 / 18000 Steps) (loss=0.48956): 100%|██████████| 6/6 [00:23<00:00,  3.98s/it]\n",
      "Training (1511 / 18000 Steps) (loss=0.47791): 100%|██████████| 6/6 [00:12<00:00,  2.04s/it]\n",
      "Training (1517 / 18000 Steps) (loss=0.46190): 100%|██████████| 6/6 [00:11<00:00,  1.95s/it]\n",
      "Training (1523 / 18000 Steps) (loss=0.31321): 100%|██████████| 6/6 [00:12<00:00,  2.00s/it]\n",
      "Training (1529 / 18000 Steps) (loss=0.57819): 100%|██████████| 6/6 [00:11<00:00,  1.94s/it]\n",
      "Training (1535 / 18000 Steps) (loss=0.61750): 100%|██████████| 6/6 [00:11<00:00,  1.98s/it]\n",
      "Training (1541 / 18000 Steps) (loss=0.51895): 100%|██████████| 6/6 [00:11<00:00,  1.95s/it]\n",
      "Training (1547 / 18000 Steps) (loss=0.46065): 100%|██████████| 6/6 [00:11<00:00,  1.97s/it]\n",
      "Training (1553 / 18000 Steps) (loss=0.42810): 100%|██████████| 6/6 [00:11<00:00,  2.00s/it]\n",
      "Training (1559 / 18000 Steps) (loss=0.30008): 100%|██████████| 6/6 [00:12<00:00,  2.00s/it]\n",
      "Training (1565 / 18000 Steps) (loss=0.60724): 100%|██████████| 6/6 [00:11<00:00,  1.95s/it]\n",
      "Training (1571 / 18000 Steps) (loss=0.43403): 100%|██████████| 6/6 [00:12<00:00,  2.01s/it]\n",
      "Training (1577 / 18000 Steps) (loss=0.48730): 100%|██████████| 6/6 [00:11<00:00,  2.00s/it]\n",
      "Training (1583 / 18000 Steps) (loss=0.58362): 100%|██████████| 6/6 [00:11<00:00,  1.98s/it]\n",
      "Training (1589 / 18000 Steps) (loss=0.42201): 100%|██████████| 6/6 [00:12<00:00,  2.02s/it]\n",
      "Training (1595 / 18000 Steps) (loss=0.41673): 100%|██████████| 6/6 [00:11<00:00,  1.96s/it]\n",
      "Validate (1596 / 10 Steps): 100%|██████████| 3/3 [00:12<00:00,  4.07s/it]<00:03,  1.94s/it]\n",
      "Training (1600 / 18000 Steps) (loss=0.48428):  83%|████████▎ | 5/6 [00:22<00:06,  6.27s/it]"
     ]
    },
    {
     "name": "stdout",
     "output_type": "stream",
     "text": [
      "Model Was Not Saved ! Current Best Avg. Dice: 0.21293066442012787 Current Avg. Dice: 0.18937522172927856 Current Avg. tumor Dice: 0.25494876503944397 Current Avg. lymph Dice: 0.12380167096853256\n"
     ]
    },
    {
     "name": "stderr",
     "output_type": "stream",
     "text": [
      "Training (1601 / 18000 Steps) (loss=0.38306): 100%|██████████| 6/6 [00:24<00:00,  4.01s/it]\n",
      "Training (1607 / 18000 Steps) (loss=0.45726): 100%|██████████| 6/6 [00:11<00:00,  1.97s/it]\n",
      "Training (1613 / 18000 Steps) (loss=0.56793): 100%|██████████| 6/6 [00:11<00:00,  1.99s/it]\n",
      "Training (1619 / 18000 Steps) (loss=0.49081): 100%|██████████| 6/6 [00:12<00:00,  2.00s/it]\n",
      "Training (1625 / 18000 Steps) (loss=0.59426): 100%|██████████| 6/6 [00:12<00:00,  2.00s/it]\n",
      "Training (1631 / 18000 Steps) (loss=0.45261): 100%|██████████| 6/6 [00:11<00:00,  1.97s/it]\n",
      "Training (1637 / 18000 Steps) (loss=0.58559): 100%|██████████| 6/6 [00:11<00:00,  1.97s/it]\n",
      "Training (1643 / 18000 Steps) (loss=0.47171): 100%|██████████| 6/6 [00:11<00:00,  1.97s/it]\n",
      "Training (1649 / 18000 Steps) (loss=0.56991): 100%|██████████| 6/6 [00:11<00:00,  1.97s/it]\n",
      "Training (1655 / 18000 Steps) (loss=0.53215): 100%|██████████| 6/6 [00:12<00:00,  2.00s/it]\n",
      "Training (1661 / 18000 Steps) (loss=0.41751): 100%|██████████| 6/6 [00:11<00:00,  1.97s/it]\n",
      "Training (1667 / 18000 Steps) (loss=0.50231): 100%|██████████| 6/6 [00:11<00:00,  1.98s/it]\n",
      "Training (1673 / 18000 Steps) (loss=0.55427): 100%|██████████| 6/6 [00:11<00:00,  1.98s/it]\n",
      "Training (1679 / 18000 Steps) (loss=0.46840): 100%|██████████| 6/6 [00:12<00:00,  2.07s/it]\n",
      "Training (1685 / 18000 Steps) (loss=0.49235): 100%|██████████| 6/6 [00:12<00:00,  2.04s/it]\n",
      "Training (1691 / 18000 Steps) (loss=0.45643): 100%|██████████| 6/6 [00:12<00:00,  2.02s/it]\n",
      "Training (1697 / 18000 Steps) (loss=0.39364): 100%|██████████| 6/6 [00:11<00:00,  1.99s/it]\n",
      "Validate (1698 / 10 Steps): 100%|██████████| 3/3 [00:11<00:00,  3.99s/it]<00:10,  2.70s/it]\n",
      "Training (1700 / 18000 Steps) (loss=0.47965):  50%|█████     | 3/6 [00:19<00:22,  7.66s/it]"
     ]
    },
    {
     "name": "stdout",
     "output_type": "stream",
     "text": [
      "Model Was Not Saved ! Current Best Avg. Dice: 0.21293066442012787 Current Avg. Dice: 0.19162683188915253 Current Avg. tumor Dice: 0.26215606927871704 Current Avg. lymph Dice: 0.12109759449958801\n"
     ]
    },
    {
     "name": "stderr",
     "output_type": "stream",
     "text": [
      "Training (1703 / 18000 Steps) (loss=0.58899): 100%|██████████| 6/6 [00:23<00:00,  3.97s/it]\n",
      "Training (1709 / 18000 Steps) (loss=0.51956): 100%|██████████| 6/6 [00:11<00:00,  1.94s/it]\n",
      "Training (1715 / 18000 Steps) (loss=0.43745): 100%|██████████| 6/6 [00:11<00:00,  1.99s/it]\n",
      "Training (1721 / 18000 Steps) (loss=0.55623): 100%|██████████| 6/6 [00:12<00:00,  2.02s/it]\n",
      "Training (1727 / 18000 Steps) (loss=0.44703): 100%|██████████| 6/6 [00:12<00:00,  2.01s/it]\n",
      "Training (1733 / 18000 Steps) (loss=0.56394): 100%|██████████| 6/6 [00:11<00:00,  1.96s/it]\n",
      "Training (1739 / 18000 Steps) (loss=0.58823): 100%|██████████| 6/6 [00:11<00:00,  1.98s/it]\n",
      "Training (1745 / 18000 Steps) (loss=0.51819): 100%|██████████| 6/6 [00:11<00:00,  1.97s/it]\n",
      "Training (1751 / 18000 Steps) (loss=0.38953): 100%|██████████| 6/6 [00:12<00:00,  2.02s/it]\n",
      "Training (1757 / 18000 Steps) (loss=0.52184): 100%|██████████| 6/6 [00:11<00:00,  1.97s/it]\n",
      "Training (1763 / 18000 Steps) (loss=0.39171): 100%|██████████| 6/6 [00:12<00:00,  2.02s/it]\n",
      "Training (1769 / 18000 Steps) (loss=0.57495): 100%|██████████| 6/6 [00:11<00:00,  1.97s/it]\n",
      "Training (1775 / 18000 Steps) (loss=0.48797): 100%|██████████| 6/6 [00:12<00:00,  2.02s/it]\n",
      "Training (1781 / 18000 Steps) (loss=0.41141): 100%|██████████| 6/6 [00:11<00:00,  1.99s/it]\n",
      "Training (1787 / 18000 Steps) (loss=0.52555): 100%|██████████| 6/6 [00:11<00:00,  1.99s/it]\n",
      "Training (1793 / 18000 Steps) (loss=0.66733): 100%|██████████| 6/6 [00:12<00:00,  2.01s/it]\n",
      "Training (1799 / 18000 Steps) (loss=0.47243): 100%|██████████| 6/6 [00:11<00:00,  1.97s/it]\n",
      "Validate (1800 / 10 Steps): 100%|██████████| 3/3 [00:11<00:00,  3.98s/it]<?, ?it/s]\n",
      "Training (1800 / 18000 Steps) (loss=0.50211):  17%|█▋        | 1/6 [00:16<01:21, 16.37s/it]"
     ]
    },
    {
     "name": "stdout",
     "output_type": "stream",
     "text": [
      "Model Was Not Saved ! Current Best Avg. Dice: 0.21293066442012787 Current Avg. Dice: 0.1901797205209732 Current Avg. tumor Dice: 0.2638622224330902 Current Avg. lymph Dice: 0.11649724096059799\n"
     ]
    },
    {
     "name": "stderr",
     "output_type": "stream",
     "text": [
      "Training (1805 / 18000 Steps) (loss=0.38303): 100%|██████████| 6/6 [00:23<00:00,  3.97s/it]\n",
      "Training (1811 / 18000 Steps) (loss=0.54811): 100%|██████████| 6/6 [00:12<00:00,  2.01s/it]\n",
      "Training (1817 / 18000 Steps) (loss=0.47108): 100%|██████████| 6/6 [00:11<00:00,  1.96s/it]\n",
      "Training (1823 / 18000 Steps) (loss=0.47623): 100%|██████████| 6/6 [00:11<00:00,  1.98s/it]\n",
      "Training (1829 / 18000 Steps) (loss=0.55258): 100%|██████████| 6/6 [00:11<00:00,  1.99s/it]\n",
      "Training (1835 / 18000 Steps) (loss=0.52065): 100%|██████████| 6/6 [00:12<00:00,  2.02s/it]\n",
      "Training (1841 / 18000 Steps) (loss=0.40100): 100%|██████████| 6/6 [00:11<00:00,  1.99s/it]\n",
      "Training (1847 / 18000 Steps) (loss=0.56028): 100%|██████████| 6/6 [00:11<00:00,  1.95s/it]\n",
      "Training (1853 / 18000 Steps) (loss=0.52309): 100%|██████████| 6/6 [00:12<00:00,  2.03s/it]\n",
      "Training (1859 / 18000 Steps) (loss=0.42711): 100%|██████████| 6/6 [00:12<00:00,  2.00s/it]\n",
      "Training (1865 / 18000 Steps) (loss=0.36637): 100%|██████████| 6/6 [00:11<00:00,  1.96s/it]\n",
      "Training (1871 / 18000 Steps) (loss=0.57889): 100%|██████████| 6/6 [00:11<00:00,  2.00s/it]\n",
      "Training (1877 / 18000 Steps) (loss=0.57819): 100%|██████████| 6/6 [00:12<00:00,  2.02s/it]\n",
      "Training (1883 / 18000 Steps) (loss=0.51806): 100%|██████████| 6/6 [00:11<00:00,  1.97s/it]\n",
      "Training (1889 / 18000 Steps) (loss=0.62473): 100%|██████████| 6/6 [00:11<00:00,  1.97s/it]\n",
      "Training (1895 / 18000 Steps) (loss=0.50367): 100%|██████████| 6/6 [00:11<00:00,  2.00s/it]\n",
      "Validate (1896 / 10 Steps): 100%|██████████| 3/3 [00:11<00:00,  3.99s/it]<00:03,  1.97s/it]\n",
      "Training (1900 / 18000 Steps) (loss=0.52434):  83%|████████▎ | 5/6 [00:22<00:06,  6.15s/it]"
     ]
    },
    {
     "name": "stdout",
     "output_type": "stream",
     "text": [
      "Model Was Not Saved ! Current Best Avg. Dice: 0.21293066442012787 Current Avg. Dice: 0.2044636756181717 Current Avg. tumor Dice: 0.2616434097290039 Current Avg. lymph Dice: 0.1472839117050171\n"
     ]
    },
    {
     "name": "stderr",
     "output_type": "stream",
     "text": [
      "Training (1901 / 18000 Steps) (loss=0.62104): 100%|██████████| 6/6 [00:23<00:00,  3.97s/it]\n",
      "Training (1907 / 18000 Steps) (loss=0.47237): 100%|██████████| 6/6 [00:11<00:00,  1.98s/it]\n",
      "Training (1913 / 18000 Steps) (loss=0.47164): 100%|██████████| 6/6 [00:12<00:00,  2.01s/it]\n",
      "Training (1919 / 18000 Steps) (loss=0.38967): 100%|██████████| 6/6 [00:11<00:00,  1.99s/it]\n",
      "Training (1925 / 18000 Steps) (loss=0.43094): 100%|██████████| 6/6 [00:11<00:00,  1.99s/it]\n",
      "Training (1931 / 18000 Steps) (loss=0.32317): 100%|██████████| 6/6 [00:11<00:00,  1.96s/it]\n",
      "Training (1937 / 18000 Steps) (loss=0.48493): 100%|██████████| 6/6 [00:12<00:00,  2.02s/it]\n",
      "Training (1943 / 18000 Steps) (loss=0.58178): 100%|██████████| 6/6 [00:11<00:00,  1.96s/it]\n",
      "Training (1949 / 18000 Steps) (loss=0.40100): 100%|██████████| 6/6 [00:11<00:00,  1.96s/it]\n",
      "Training (1955 / 18000 Steps) (loss=0.63800): 100%|██████████| 6/6 [00:12<00:00,  2.02s/it]\n",
      "Training (1961 / 18000 Steps) (loss=0.62323): 100%|██████████| 6/6 [00:12<00:00,  2.02s/it]\n",
      "Training (1967 / 18000 Steps) (loss=0.34509): 100%|██████████| 6/6 [00:11<00:00,  1.96s/it]\n",
      "Training (1973 / 18000 Steps) (loss=0.49628): 100%|██████████| 6/6 [00:11<00:00,  1.99s/it]\n",
      "Training (1979 / 18000 Steps) (loss=0.39031): 100%|██████████| 6/6 [00:11<00:00,  1.99s/it]\n",
      "Training (1985 / 18000 Steps) (loss=0.42354): 100%|██████████| 6/6 [00:12<00:00,  2.00s/it]\n",
      "Training (1991 / 18000 Steps) (loss=0.44781): 100%|██████████| 6/6 [00:11<00:00,  1.97s/it]\n",
      "Training (1997 / 18000 Steps) (loss=0.37043): 100%|██████████| 6/6 [00:11<00:00,  1.95s/it]\n",
      "Validate (1998 / 10 Steps): 100%|██████████| 3/3 [00:12<00:00,  4.07s/it]<00:11,  2.75s/it]\n",
      "Training (2000 / 18000 Steps) (loss=0.48427):  50%|█████     | 3/6 [00:19<00:23,  7.83s/it]"
     ]
    },
    {
     "name": "stdout",
     "output_type": "stream",
     "text": [
      "Model Was Not Saved ! Current Best Avg. Dice: 0.21293066442012787 Current Avg. Dice: 0.21044428646564484 Current Avg. tumor Dice: 0.2690386176109314 Current Avg. lymph Dice: 0.15184994041919708\n"
     ]
    },
    {
     "name": "stderr",
     "output_type": "stream",
     "text": [
      "Training (2003 / 18000 Steps) (loss=0.51907): 100%|██████████| 6/6 [00:24<00:00,  4.04s/it]\n",
      "Training (2009 / 18000 Steps) (loss=0.52211): 100%|██████████| 6/6 [00:11<00:00,  1.94s/it]\n",
      "Training (2015 / 18000 Steps) (loss=0.56281): 100%|██████████| 6/6 [00:11<00:00,  1.98s/it]\n",
      "Training (2021 / 18000 Steps) (loss=0.53361): 100%|██████████| 6/6 [00:11<00:00,  2.00s/it]\n",
      "Training (2027 / 18000 Steps) (loss=0.37862): 100%|██████████| 6/6 [00:12<00:00,  2.00s/it]\n",
      "Training (2033 / 18000 Steps) (loss=0.55741): 100%|██████████| 6/6 [00:12<00:00,  2.00s/it]\n",
      "Training (2039 / 18000 Steps) (loss=0.59932): 100%|██████████| 6/6 [00:11<00:00,  1.99s/it]\n",
      "Training (2045 / 18000 Steps) (loss=0.43108): 100%|██████████| 6/6 [00:11<00:00,  1.96s/it]\n",
      "Training (2051 / 18000 Steps) (loss=0.56101): 100%|██████████| 6/6 [00:12<00:00,  2.02s/it]\n",
      "Training (2057 / 18000 Steps) (loss=0.42900): 100%|██████████| 6/6 [00:12<00:00,  2.01s/it]\n",
      "Training (2063 / 18000 Steps) (loss=0.38159): 100%|██████████| 6/6 [00:12<00:00,  2.00s/it]\n",
      "Training (2069 / 18000 Steps) (loss=0.50983): 100%|██████████| 6/6 [00:12<00:00,  2.02s/it]\n",
      "Training (2075 / 18000 Steps) (loss=0.55524): 100%|██████████| 6/6 [00:11<00:00,  1.93s/it]\n",
      "Training (2081 / 18000 Steps) (loss=0.31599): 100%|██████████| 6/6 [00:12<00:00,  2.00s/it]\n",
      "Training (2087 / 18000 Steps) (loss=0.35008): 100%|██████████| 6/6 [00:11<00:00,  1.99s/it]\n",
      "Training (2093 / 18000 Steps) (loss=0.45413): 100%|██████████| 6/6 [00:12<00:00,  2.05s/it]\n",
      "Training (2099 / 18000 Steps) (loss=0.45371): 100%|██████████| 6/6 [00:11<00:00,  1.96s/it]\n",
      "Validate (2100 / 10 Steps): 100%|██████████| 3/3 [00:12<00:00,  4.00s/it]<?, ?it/s]\n",
      "Training (2100 / 18000 Steps) (loss=0.47137):  17%|█▋        | 1/6 [00:17<01:26, 17.27s/it]"
     ]
    },
    {
     "name": "stdout",
     "output_type": "stream",
     "text": [
      "Model Was Saved ! Current Best Avg. Dice: 0.2194688469171524 Current Avg. Dice: 0.2194688469171524 Current Avg. tumor Dice: 0.2799936532974243 Current Avg. lymph Dice: 0.1589440554380417\n"
     ]
    },
    {
     "name": "stderr",
     "output_type": "stream",
     "text": [
      "Training (2105 / 18000 Steps) (loss=0.61557): 100%|██████████| 6/6 [00:24<00:00,  4.12s/it]\n",
      "Training (2111 / 18000 Steps) (loss=0.58622): 100%|██████████| 6/6 [00:12<00:00,  2.03s/it]\n",
      "Training (2117 / 18000 Steps) (loss=0.33465): 100%|██████████| 6/6 [00:11<00:00,  1.99s/it]\n",
      "Training (2123 / 18000 Steps) (loss=0.47627): 100%|██████████| 6/6 [00:11<00:00,  1.96s/it]\n",
      "Training (2129 / 18000 Steps) (loss=0.58824): 100%|██████████| 6/6 [00:12<00:00,  2.01s/it]\n",
      "Training (2135 / 18000 Steps) (loss=0.56566): 100%|██████████| 6/6 [00:11<00:00,  1.96s/it]\n",
      "Training (2141 / 18000 Steps) (loss=0.58761): 100%|██████████| 6/6 [00:11<00:00,  1.94s/it]\n",
      "Training (2147 / 18000 Steps) (loss=0.51355): 100%|██████████| 6/6 [00:11<00:00,  1.98s/it]\n",
      "Training (2153 / 18000 Steps) (loss=0.62763): 100%|██████████| 6/6 [00:11<00:00,  1.98s/it]\n",
      "Training (2159 / 18000 Steps) (loss=0.40063): 100%|██████████| 6/6 [00:11<00:00,  1.98s/it]\n",
      "Training (2165 / 18000 Steps) (loss=0.61828): 100%|██████████| 6/6 [00:11<00:00,  1.96s/it]\n",
      "Training (2171 / 18000 Steps) (loss=0.41663): 100%|██████████| 6/6 [00:11<00:00,  1.98s/it]\n",
      "Training (2177 / 18000 Steps) (loss=0.68512): 100%|██████████| 6/6 [00:12<00:00,  2.03s/it]\n",
      "Training (2183 / 18000 Steps) (loss=0.54737): 100%|██████████| 6/6 [00:12<00:00,  2.07s/it]\n",
      "Training (2189 / 18000 Steps) (loss=0.54222): 100%|██████████| 6/6 [00:12<00:00,  2.05s/it]\n",
      "Training (2195 / 18000 Steps) (loss=0.41772): 100%|██████████| 6/6 [00:12<00:00,  2.06s/it]\n",
      "Validate (2196 / 10 Steps): 100%|██████████| 3/3 [00:12<00:00,  4.00s/it]<00:03,  1.99s/it]\n",
      "Training (2200 / 18000 Steps) (loss=0.33401):  83%|████████▎ | 5/6 [00:23<00:06,  6.52s/it]"
     ]
    },
    {
     "name": "stdout",
     "output_type": "stream",
     "text": [
      "Model Was Saved ! Current Best Avg. Dice: 0.2225738763809204 Current Avg. Dice: 0.2225738763809204 Current Avg. tumor Dice: 0.28126099705696106 Current Avg. lymph Dice: 0.16388677060604095\n"
     ]
    },
    {
     "name": "stderr",
     "output_type": "stream",
     "text": [
      "Training (2201 / 18000 Steps) (loss=0.50434): 100%|██████████| 6/6 [00:24<00:00,  4.16s/it]\n",
      "Training (2207 / 18000 Steps) (loss=0.57310): 100%|██████████| 6/6 [00:11<00:00,  1.98s/it]\n",
      "Training (2213 / 18000 Steps) (loss=0.50945): 100%|██████████| 6/6 [00:11<00:00,  2.00s/it]\n",
      "Training (2219 / 18000 Steps) (loss=0.33145): 100%|██████████| 6/6 [00:12<00:00,  2.03s/it]\n",
      "Training (2225 / 18000 Steps) (loss=0.53046): 100%|██████████| 6/6 [00:12<00:00,  2.04s/it]\n",
      "Training (2231 / 18000 Steps) (loss=0.48695): 100%|██████████| 6/6 [00:11<00:00,  1.99s/it]\n",
      "Training (2237 / 18000 Steps) (loss=0.48445): 100%|██████████| 6/6 [00:12<00:00,  2.02s/it]\n",
      "Training (2243 / 18000 Steps) (loss=0.59475): 100%|██████████| 6/6 [00:11<00:00,  1.97s/it]\n",
      "Training (2249 / 18000 Steps) (loss=0.48100): 100%|██████████| 6/6 [00:12<00:00,  2.00s/it]\n",
      "Training (2255 / 18000 Steps) (loss=0.52285): 100%|██████████| 6/6 [00:12<00:00,  2.02s/it]\n",
      "Training (2261 / 18000 Steps) (loss=0.55481): 100%|██████████| 6/6 [00:12<00:00,  2.02s/it]\n",
      "Training (2267 / 18000 Steps) (loss=0.28929): 100%|██████████| 6/6 [00:11<00:00,  1.98s/it]\n",
      "Training (2273 / 18000 Steps) (loss=0.30280): 100%|██████████| 6/6 [00:12<00:00,  2.01s/it]\n",
      "Training (2279 / 18000 Steps) (loss=0.47606): 100%|██████████| 6/6 [00:12<00:00,  2.05s/it]\n",
      "Training (2285 / 18000 Steps) (loss=0.63871): 100%|██████████| 6/6 [00:11<00:00,  1.97s/it]\n",
      "Training (2291 / 18000 Steps) (loss=0.43816): 100%|██████████| 6/6 [00:11<00:00,  1.99s/it]\n",
      "Training (2297 / 18000 Steps) (loss=0.52711): 100%|██████████| 6/6 [00:11<00:00,  2.00s/it]\n",
      "Validate (2298 / 10 Steps): 100%|██████████| 3/3 [00:12<00:00,  4.07s/it]<00:10,  2.71s/it]\n",
      "Training (2300 / 18000 Steps) (loss=0.46703):  50%|█████     | 3/6 [00:19<00:23,  7.82s/it]"
     ]
    },
    {
     "name": "stdout",
     "output_type": "stream",
     "text": [
      "Model Was Not Saved ! Current Best Avg. Dice: 0.2225738763809204 Current Avg. Dice: 0.1858048290014267 Current Avg. tumor Dice: 0.2379605621099472 Current Avg. lymph Dice: 0.1336490958929062\n"
     ]
    },
    {
     "name": "stderr",
     "output_type": "stream",
     "text": [
      "Training (2303 / 18000 Steps) (loss=0.66962): 100%|██████████| 6/6 [00:24<00:00,  4.02s/it]\n",
      "Training (2309 / 18000 Steps) (loss=0.41915): 100%|██████████| 6/6 [00:11<00:00,  1.98s/it]\n",
      "Training (2315 / 18000 Steps) (loss=0.31247): 100%|██████████| 6/6 [00:11<00:00,  1.97s/it]\n",
      "Training (2321 / 18000 Steps) (loss=0.45278): 100%|██████████| 6/6 [00:12<00:00,  2.03s/it]\n",
      "Training (2327 / 18000 Steps) (loss=0.36182): 100%|██████████| 6/6 [00:11<00:00,  2.00s/it]\n",
      "Training (2333 / 18000 Steps) (loss=0.46937): 100%|██████████| 6/6 [00:11<00:00,  1.99s/it]\n",
      "Training (2339 / 18000 Steps) (loss=0.47290): 100%|██████████| 6/6 [00:12<00:00,  2.02s/it]\n",
      "Training (2345 / 18000 Steps) (loss=0.46720): 100%|██████████| 6/6 [00:12<00:00,  2.04s/it]\n",
      "Training (2351 / 18000 Steps) (loss=0.33563): 100%|██████████| 6/6 [00:12<00:00,  2.01s/it]\n",
      "Training (2357 / 18000 Steps) (loss=0.54639): 100%|██████████| 6/6 [00:12<00:00,  2.03s/it]\n",
      "Training (2363 / 18000 Steps) (loss=0.52367): 100%|██████████| 6/6 [00:12<00:00,  2.01s/it]\n",
      "Training (2369 / 18000 Steps) (loss=0.59108): 100%|██████████| 6/6 [00:12<00:00,  2.01s/it]\n",
      "Training (2375 / 18000 Steps) (loss=0.33893): 100%|██████████| 6/6 [00:11<00:00,  1.96s/it]\n",
      "Training (2381 / 18000 Steps) (loss=0.52776): 100%|██████████| 6/6 [00:11<00:00,  1.99s/it]\n",
      "Training (2387 / 18000 Steps) (loss=0.60797): 100%|██████████| 6/6 [00:11<00:00,  1.99s/it]\n",
      "Training (2393 / 18000 Steps) (loss=0.39701): 100%|██████████| 6/6 [00:11<00:00,  1.96s/it]\n",
      "Training (2399 / 18000 Steps) (loss=0.38318): 100%|██████████| 6/6 [00:12<00:00,  2.04s/it]\n",
      "Validate (2400 / 10 Steps): 100%|██████████| 3/3 [00:12<00:00,  4.05s/it]<?, ?it/s]\n",
      "Training (2400 / 18000 Steps) (loss=0.48872):  17%|█▋        | 1/6 [00:16<01:22, 16.57s/it]"
     ]
    },
    {
     "name": "stdout",
     "output_type": "stream",
     "text": [
      "Model Was Not Saved ! Current Best Avg. Dice: 0.2225738763809204 Current Avg. Dice: 0.1937980204820633 Current Avg. tumor Dice: 0.2257838100194931 Current Avg. lymph Dice: 0.16181226074695587\n"
     ]
    },
    {
     "name": "stderr",
     "output_type": "stream",
     "text": [
      "Training (2405 / 18000 Steps) (loss=0.47293): 100%|██████████| 6/6 [00:24<00:00,  4.01s/it]\n",
      "Training (2411 / 18000 Steps) (loss=0.62764): 100%|██████████| 6/6 [00:11<00:00,  1.96s/it]\n",
      "Training (2417 / 18000 Steps) (loss=0.49509): 100%|██████████| 6/6 [00:12<00:00,  2.00s/it]\n",
      "Training (2423 / 18000 Steps) (loss=0.51350): 100%|██████████| 6/6 [00:12<00:00,  2.04s/it]\n",
      "Training (2429 / 18000 Steps) (loss=0.39703): 100%|██████████| 6/6 [00:11<00:00,  1.99s/it]\n",
      "Training (2435 / 18000 Steps) (loss=0.47666): 100%|██████████| 6/6 [00:12<00:00,  2.02s/it]\n",
      "Training (2441 / 18000 Steps) (loss=0.50784): 100%|██████████| 6/6 [00:12<00:00,  2.00s/it]\n",
      "Training (2447 / 18000 Steps) (loss=0.63527): 100%|██████████| 6/6 [00:12<00:00,  2.01s/it]\n",
      "Training (2453 / 18000 Steps) (loss=0.29778): 100%|██████████| 6/6 [00:11<00:00,  1.97s/it]\n",
      "Training (2459 / 18000 Steps) (loss=0.34827): 100%|██████████| 6/6 [00:11<00:00,  1.97s/it]\n",
      "Training (2465 / 18000 Steps) (loss=0.44399): 100%|██████████| 6/6 [00:11<00:00,  1.96s/it]\n",
      "Training (2471 / 18000 Steps) (loss=0.34155): 100%|██████████| 6/6 [00:12<00:00,  2.07s/it]\n",
      "Training (2477 / 18000 Steps) (loss=0.55953): 100%|██████████| 6/6 [00:12<00:00,  2.00s/it]\n",
      "Training (2483 / 18000 Steps) (loss=0.41860): 100%|██████████| 6/6 [00:12<00:00,  2.01s/it]\n",
      "Training (2489 / 18000 Steps) (loss=0.40298): 100%|██████████| 6/6 [00:11<00:00,  1.96s/it]\n",
      "Training (2495 / 18000 Steps) (loss=0.29583): 100%|██████████| 6/6 [00:12<00:00,  2.02s/it]\n",
      "Validate (2496 / 10 Steps): 100%|██████████| 3/3 [00:12<00:00,  4.01s/it]<00:04,  2.02s/it]\n",
      "Training (2500 / 18000 Steps) (loss=0.52508):  83%|████████▎ | 5/6 [00:23<00:06,  6.21s/it]"
     ]
    },
    {
     "name": "stdout",
     "output_type": "stream",
     "text": [
      "Model Was Not Saved ! Current Best Avg. Dice: 0.2225738763809204 Current Avg. Dice: 0.19348353147506714 Current Avg. tumor Dice: 0.23202960193157196 Current Avg. lymph Dice: 0.15493746101856232\n"
     ]
    },
    {
     "name": "stderr",
     "output_type": "stream",
     "text": [
      "Training (2501 / 18000 Steps) (loss=0.49838): 100%|██████████| 6/6 [00:24<00:00,  4.05s/it]\n",
      "Training (2507 / 18000 Steps) (loss=0.25099): 100%|██████████| 6/6 [00:12<00:00,  2.00s/it]\n",
      "Training (2513 / 18000 Steps) (loss=0.46454): 100%|██████████| 6/6 [00:11<00:00,  2.00s/it]\n",
      "Training (2519 / 18000 Steps) (loss=0.51765): 100%|██████████| 6/6 [00:12<00:00,  2.03s/it]\n",
      "Training (2525 / 18000 Steps) (loss=0.45435): 100%|██████████| 6/6 [00:12<00:00,  2.01s/it]\n",
      "Training (2531 / 18000 Steps) (loss=0.44559): 100%|██████████| 6/6 [00:11<00:00,  1.99s/it]\n",
      "Training (2537 / 18000 Steps) (loss=0.56672): 100%|██████████| 6/6 [00:11<00:00,  1.97s/it]\n",
      "Training (2543 / 18000 Steps) (loss=0.33334): 100%|██████████| 6/6 [00:11<00:00,  1.95s/it]\n",
      "Training (2549 / 18000 Steps) (loss=0.55390): 100%|██████████| 6/6 [00:11<00:00,  1.95s/it]\n",
      "Training (2555 / 18000 Steps) (loss=0.50306): 100%|██████████| 6/6 [00:11<00:00,  2.00s/it]\n",
      "Training (2561 / 18000 Steps) (loss=0.50803): 100%|██████████| 6/6 [00:11<00:00,  1.99s/it]\n",
      "Training (2567 / 18000 Steps) (loss=0.44559): 100%|██████████| 6/6 [00:11<00:00,  2.00s/it]\n",
      "Training (2573 / 18000 Steps) (loss=0.48853): 100%|██████████| 6/6 [00:12<00:00,  2.00s/it]\n",
      "Training (2579 / 18000 Steps) (loss=0.39606): 100%|██████████| 6/6 [00:12<00:00,  2.05s/it]\n",
      "Training (2585 / 18000 Steps) (loss=0.43029): 100%|██████████| 6/6 [00:11<00:00,  1.97s/it]\n",
      "Training (2591 / 18000 Steps) (loss=0.38300): 100%|██████████| 6/6 [00:11<00:00,  1.98s/it]\n",
      "Training (2597 / 18000 Steps) (loss=0.42235): 100%|██████████| 6/6 [00:11<00:00,  2.00s/it]\n",
      "Validate (2598 / 10 Steps): 100%|██████████| 3/3 [00:12<00:00,  4.02s/it]<00:11,  2.82s/it]\n",
      "Training (2600 / 18000 Steps) (loss=0.58448):  50%|█████     | 3/6 [00:19<00:23,  7.78s/it]"
     ]
    },
    {
     "name": "stdout",
     "output_type": "stream",
     "text": [
      "Model Was Not Saved ! Current Best Avg. Dice: 0.2225738763809204 Current Avg. Dice: 0.22072733938694 Current Avg. tumor Dice: 0.26642248034477234 Current Avg. lymph Dice: 0.17503224313259125\n"
     ]
    },
    {
     "name": "stderr",
     "output_type": "stream",
     "text": [
      "Training (2603 / 18000 Steps) (loss=0.37741): 100%|██████████| 6/6 [00:24<00:00,  4.05s/it]\n",
      "Training (2609 / 18000 Steps) (loss=0.61845): 100%|██████████| 6/6 [00:11<00:00,  1.96s/it]\n",
      "Training (2615 / 18000 Steps) (loss=0.49168): 100%|██████████| 6/6 [00:11<00:00,  1.97s/it]\n",
      "Training (2621 / 18000 Steps) (loss=0.37410): 100%|██████████| 6/6 [00:12<00:00,  2.06s/it]\n",
      "Training (2627 / 18000 Steps) (loss=0.50178): 100%|██████████| 6/6 [00:11<00:00,  1.96s/it]\n",
      "Training (2633 / 18000 Steps) (loss=0.31258): 100%|██████████| 6/6 [00:11<00:00,  1.99s/it]\n",
      "Training (2639 / 18000 Steps) (loss=0.50001): 100%|██████████| 6/6 [00:11<00:00,  1.99s/it]\n",
      "Training (2645 / 18000 Steps) (loss=0.42750): 100%|██████████| 6/6 [00:11<00:00,  1.94s/it]\n",
      "Training (2651 / 18000 Steps) (loss=0.42522): 100%|██████████| 6/6 [00:12<00:00,  2.02s/it]\n",
      "Training (2657 / 18000 Steps) (loss=0.39852): 100%|██████████| 6/6 [00:12<00:00,  2.07s/it]\n",
      "Training (2663 / 18000 Steps) (loss=0.60698): 100%|██████████| 6/6 [00:12<00:00,  2.01s/it]\n",
      "Training (2669 / 18000 Steps) (loss=0.54705): 100%|██████████| 6/6 [00:12<00:00,  2.06s/it]\n",
      "Training (2675 / 18000 Steps) (loss=0.43909): 100%|██████████| 6/6 [00:12<00:00,  2.01s/it]\n",
      "Training (2681 / 18000 Steps) (loss=0.49983): 100%|██████████| 6/6 [00:12<00:00,  2.04s/it]\n",
      "Training (2687 / 18000 Steps) (loss=0.58071): 100%|██████████| 6/6 [00:12<00:00,  2.03s/it]\n",
      "Training (2693 / 18000 Steps) (loss=0.55775): 100%|██████████| 6/6 [00:12<00:00,  2.01s/it]\n",
      "Training (2699 / 18000 Steps) (loss=0.49010): 100%|██████████| 6/6 [00:11<00:00,  1.95s/it]\n",
      "Validate (2700 / 10 Steps): 100%|██████████| 3/3 [00:11<00:00,  3.98s/it]<?, ?it/s]\n",
      "Training (2700 / 18000 Steps) (loss=0.41089):  17%|█▋        | 1/6 [00:16<01:21, 16.37s/it]"
     ]
    },
    {
     "name": "stdout",
     "output_type": "stream",
     "text": [
      "Model Was Not Saved ! Current Best Avg. Dice: 0.2225738763809204 Current Avg. Dice: 0.18940360844135284 Current Avg. tumor Dice: 0.22175775468349457 Current Avg. lymph Dice: 0.15704946219921112\n"
     ]
    },
    {
     "name": "stderr",
     "output_type": "stream",
     "text": [
      "Training (2705 / 18000 Steps) (loss=0.59121): 100%|██████████| 6/6 [00:23<00:00,  3.96s/it]\n",
      "Training (2711 / 18000 Steps) (loss=0.52329): 100%|██████████| 6/6 [00:11<00:00,  1.98s/it]\n",
      "Training (2717 / 18000 Steps) (loss=0.49112): 100%|██████████| 6/6 [00:12<00:00,  2.02s/it]\n",
      "Training (2723 / 18000 Steps) (loss=0.53541): 100%|██████████| 6/6 [00:12<00:00,  2.01s/it]\n",
      "Training (2729 / 18000 Steps) (loss=0.61174): 100%|██████████| 6/6 [00:12<00:00,  2.00s/it]\n",
      "Training (2735 / 18000 Steps) (loss=0.51403): 100%|██████████| 6/6 [00:11<00:00,  1.95s/it]\n",
      "Training (2741 / 18000 Steps) (loss=0.49870): 100%|██████████| 6/6 [00:11<00:00,  1.98s/it]\n",
      "Training (2747 / 18000 Steps) (loss=0.52322): 100%|██████████| 6/6 [00:12<00:00,  2.01s/it]\n",
      "Training (2753 / 18000 Steps) (loss=0.43249): 100%|██████████| 6/6 [00:12<00:00,  2.03s/it]\n",
      "Training (2759 / 18000 Steps) (loss=0.45410): 100%|██████████| 6/6 [00:11<00:00,  2.00s/it]\n",
      "Training (2765 / 18000 Steps) (loss=0.33660): 100%|██████████| 6/6 [00:11<00:00,  1.99s/it]\n",
      "Training (2771 / 18000 Steps) (loss=0.45379): 100%|██████████| 6/6 [00:11<00:00,  1.99s/it]\n",
      "Training (2777 / 18000 Steps) (loss=0.48801): 100%|██████████| 6/6 [00:11<00:00,  1.94s/it]\n",
      "Training (2783 / 18000 Steps) (loss=0.39618): 100%|██████████| 6/6 [00:11<00:00,  1.96s/it]\n",
      "Training (2789 / 18000 Steps) (loss=0.38008): 100%|██████████| 6/6 [00:11<00:00,  1.99s/it]\n",
      "Training (2795 / 18000 Steps) (loss=0.47525): 100%|██████████| 6/6 [00:11<00:00,  1.97s/it]\n",
      "Validate (2796 / 10 Steps): 100%|██████████| 3/3 [00:11<00:00,  3.93s/it]<00:03,  1.96s/it]\n",
      "Training (2800 / 18000 Steps) (loss=0.36961):  83%|████████▎ | 5/6 [00:22<00:06,  6.11s/it]"
     ]
    },
    {
     "name": "stdout",
     "output_type": "stream",
     "text": [
      "Model Was Not Saved ! Current Best Avg. Dice: 0.2225738763809204 Current Avg. Dice: 0.22103726863861084 Current Avg. tumor Dice: 0.23182804882526398 Current Avg. lymph Dice: 0.21024644374847412\n"
     ]
    },
    {
     "name": "stderr",
     "output_type": "stream",
     "text": [
      "Training (2801 / 18000 Steps) (loss=0.40578): 100%|██████████| 6/6 [00:23<00:00,  3.95s/it]\n",
      "Training (2807 / 18000 Steps) (loss=0.57963): 100%|██████████| 6/6 [00:11<00:00,  1.99s/it]\n",
      "Training (2813 / 18000 Steps) (loss=0.57752): 100%|██████████| 6/6 [00:11<00:00,  1.95s/it]\n",
      "Training (2819 / 18000 Steps) (loss=0.45474): 100%|██████████| 6/6 [00:12<00:00,  2.02s/it]\n",
      "Training (2825 / 18000 Steps) (loss=0.42323): 100%|██████████| 6/6 [00:11<00:00,  1.98s/it]\n",
      "Training (2831 / 18000 Steps) (loss=0.40059): 100%|██████████| 6/6 [00:12<00:00,  2.01s/it]\n",
      "Training (2837 / 18000 Steps) (loss=0.41549): 100%|██████████| 6/6 [00:11<00:00,  1.93s/it]\n",
      "Training (2843 / 18000 Steps) (loss=0.37495): 100%|██████████| 6/6 [00:11<00:00,  1.97s/it]\n",
      "Training (2849 / 18000 Steps) (loss=0.56173): 100%|██████████| 6/6 [00:11<00:00,  1.96s/it]\n",
      "Training (2855 / 18000 Steps) (loss=0.33835): 100%|██████████| 6/6 [00:12<00:00,  2.06s/it]\n",
      "Training (2861 / 18000 Steps) (loss=0.55790): 100%|██████████| 6/6 [00:11<00:00,  1.98s/it]\n",
      "Training (2867 / 18000 Steps) (loss=0.46418): 100%|██████████| 6/6 [00:11<00:00,  1.98s/it]\n",
      "Training (2873 / 18000 Steps) (loss=0.44047): 100%|██████████| 6/6 [00:11<00:00,  1.99s/it]\n",
      "Training (2879 / 18000 Steps) (loss=0.46841): 100%|██████████| 6/6 [00:12<00:00,  2.00s/it]\n",
      "Training (2885 / 18000 Steps) (loss=0.57037): 100%|██████████| 6/6 [00:11<00:00,  1.93s/it]\n",
      "Training (2891 / 18000 Steps) (loss=0.42741): 100%|██████████| 6/6 [00:12<00:00,  2.02s/it]\n",
      "Training (2897 / 18000 Steps) (loss=0.48060): 100%|██████████| 6/6 [00:11<00:00,  1.96s/it]\n",
      "Validate (2898 / 10 Steps): 100%|██████████| 3/3 [00:12<00:00,  4.01s/it]<00:10,  2.69s/it]\n",
      "Training (2900 / 18000 Steps) (loss=0.45293):  50%|█████     | 3/6 [00:19<00:23,  7.69s/it]"
     ]
    },
    {
     "name": "stdout",
     "output_type": "stream",
     "text": [
      "Model Was Not Saved ! Current Best Avg. Dice: 0.2225738763809204 Current Avg. Dice: 0.2223910242319107 Current Avg. tumor Dice: 0.2851971685886383 Current Avg. lymph Dice: 0.1595848947763443\n"
     ]
    },
    {
     "name": "stderr",
     "output_type": "stream",
     "text": [
      "Training (2903 / 18000 Steps) (loss=0.42957): 100%|██████████| 6/6 [00:23<00:00,  3.96s/it]\n",
      "Training (2909 / 18000 Steps) (loss=0.43716): 100%|██████████| 6/6 [00:11<00:00,  1.98s/it]\n",
      "Training (2915 / 18000 Steps) (loss=0.65014): 100%|██████████| 6/6 [00:12<00:00,  2.03s/it]\n",
      "Training (2921 / 18000 Steps) (loss=0.43273): 100%|██████████| 6/6 [00:12<00:00,  2.01s/it]\n",
      "Training (2927 / 18000 Steps) (loss=0.50579): 100%|██████████| 6/6 [00:11<00:00,  1.99s/it]\n",
      "Training (2933 / 18000 Steps) (loss=0.58226): 100%|██████████| 6/6 [00:11<00:00,  1.94s/it]\n",
      "Training (2939 / 18000 Steps) (loss=0.52638): 100%|██████████| 6/6 [00:12<00:00,  2.03s/it]\n",
      "Training (2945 / 18000 Steps) (loss=0.53173): 100%|██████████| 6/6 [00:11<00:00,  1.95s/it]\n",
      "Training (2951 / 18000 Steps) (loss=0.40139): 100%|██████████| 6/6 [00:12<00:00,  2.01s/it]\n",
      "Training (2957 / 18000 Steps) (loss=0.39525): 100%|██████████| 6/6 [00:11<00:00,  1.98s/it]\n",
      "Training (2963 / 18000 Steps) (loss=0.50556): 100%|██████████| 6/6 [00:12<00:00,  2.08s/it]\n",
      "Training (2969 / 18000 Steps) (loss=0.38870): 100%|██████████| 6/6 [00:11<00:00,  1.93s/it]\n",
      "Training (2975 / 18000 Steps) (loss=0.62605): 100%|██████████| 6/6 [00:11<00:00,  1.99s/it]\n",
      "Training (2981 / 18000 Steps) (loss=0.36467): 100%|██████████| 6/6 [00:11<00:00,  1.94s/it]\n",
      "Training (2987 / 18000 Steps) (loss=0.53157): 100%|██████████| 6/6 [00:12<00:00,  2.01s/it]\n",
      "Training (2993 / 18000 Steps) (loss=0.42950): 100%|██████████| 6/6 [00:11<00:00,  1.96s/it]\n",
      "Training (2999 / 18000 Steps) (loss=0.45158): 100%|██████████| 6/6 [00:11<00:00,  1.95s/it]\n",
      "Validate (3000 / 10 Steps): 100%|██████████| 3/3 [00:12<00:00,  4.05s/it]<?, ?it/s]\n",
      "Training (3000 / 18000 Steps) (loss=0.33751):  17%|█▋        | 1/6 [00:17<01:27, 17.48s/it]"
     ]
    },
    {
     "name": "stdout",
     "output_type": "stream",
     "text": [
      "Model Was Saved ! Current Best Avg. Dice: 0.225381538271904 Current Avg. Dice: 0.225381538271904 Current Avg. tumor Dice: 0.2291942685842514 Current Avg. lymph Dice: 0.22156880795955658\n"
     ]
    },
    {
     "name": "stderr",
     "output_type": "stream",
     "text": [
      "Training (3005 / 18000 Steps) (loss=0.50266): 100%|██████████| 6/6 [00:24<00:00,  4.17s/it]\n",
      "Training (3011 / 18000 Steps) (loss=0.43006): 100%|██████████| 6/6 [00:11<00:00,  1.95s/it]\n",
      "Training (3017 / 18000 Steps) (loss=0.34388): 100%|██████████| 6/6 [00:12<00:00,  2.03s/it]\n",
      "Training (3023 / 18000 Steps) (loss=0.52572): 100%|██████████| 6/6 [00:11<00:00,  1.99s/it]\n",
      "Training (3029 / 18000 Steps) (loss=0.41397): 100%|██████████| 6/6 [00:11<00:00,  1.98s/it]\n",
      "Training (3035 / 18000 Steps) (loss=0.61141): 100%|██████████| 6/6 [00:11<00:00,  1.98s/it]\n",
      "Training (3041 / 18000 Steps) (loss=0.49352): 100%|██████████| 6/6 [00:12<00:00,  2.00s/it]\n",
      "Training (3047 / 18000 Steps) (loss=0.24125): 100%|██████████| 6/6 [00:12<00:00,  2.01s/it]\n",
      "Training (3053 / 18000 Steps) (loss=0.47396): 100%|██████████| 6/6 [00:11<00:00,  1.99s/it]\n",
      "Training (3059 / 18000 Steps) (loss=0.52758): 100%|██████████| 6/6 [00:11<00:00,  1.96s/it]\n",
      "Training (3065 / 18000 Steps) (loss=0.19126): 100%|██████████| 6/6 [00:12<00:00,  2.01s/it]\n",
      "Training (3071 / 18000 Steps) (loss=0.40275): 100%|██████████| 6/6 [00:11<00:00,  1.97s/it]\n",
      "Training (3077 / 18000 Steps) (loss=0.48050): 100%|██████████| 6/6 [00:11<00:00,  1.98s/it]\n",
      "Training (3083 / 18000 Steps) (loss=0.45595): 100%|██████████| 6/6 [00:11<00:00,  1.95s/it]\n",
      "Training (3089 / 18000 Steps) (loss=0.58984): 100%|██████████| 6/6 [00:12<00:00,  2.03s/it]\n",
      "Training (3095 / 18000 Steps) (loss=0.42015): 100%|██████████| 6/6 [00:11<00:00,  1.99s/it]\n",
      "Validate (3096 / 10 Steps): 100%|██████████| 3/3 [00:11<00:00,  3.98s/it]<00:04,  2.02s/it]\n",
      "Training (3100 / 18000 Steps) (loss=0.35893):  83%|████████▎ | 5/6 [00:23<00:06,  6.49s/it]"
     ]
    },
    {
     "name": "stdout",
     "output_type": "stream",
     "text": [
      "Model Was Saved ! Current Best Avg. Dice: 0.24165546894073486 Current Avg. Dice: 0.24165546894073486 Current Avg. tumor Dice: 0.2516922056674957 Current Avg. lymph Dice: 0.2316187471151352\n"
     ]
    },
    {
     "name": "stderr",
     "output_type": "stream",
     "text": [
      "Training (3101 / 18000 Steps) (loss=0.46077): 100%|██████████| 6/6 [00:25<00:00,  4.17s/it]\n",
      "Training (3107 / 18000 Steps) (loss=0.47565): 100%|██████████| 6/6 [00:11<00:00,  1.98s/it]\n",
      "Training (3113 / 18000 Steps) (loss=0.54526): 100%|██████████| 6/6 [00:12<00:00,  2.00s/it]\n",
      "Training (3119 / 18000 Steps) (loss=0.59765): 100%|██████████| 6/6 [00:12<00:00,  2.03s/it]\n",
      "Training (3125 / 18000 Steps) (loss=0.48571): 100%|██████████| 6/6 [00:11<00:00,  2.00s/it]\n",
      "Training (3131 / 18000 Steps) (loss=0.54452): 100%|██████████| 6/6 [00:11<00:00,  1.98s/it]\n",
      "Training (3137 / 18000 Steps) (loss=0.45376): 100%|██████████| 6/6 [00:11<00:00,  1.96s/it]\n",
      "Training (3143 / 18000 Steps) (loss=0.62034): 100%|██████████| 6/6 [00:11<00:00,  1.96s/it]\n",
      "Training (3149 / 18000 Steps) (loss=0.44375): 100%|██████████| 6/6 [00:12<00:00,  2.00s/it]\n",
      "Training (3155 / 18000 Steps) (loss=0.41937): 100%|██████████| 6/6 [00:11<00:00,  1.95s/it]\n",
      "Training (3161 / 18000 Steps) (loss=0.45252): 100%|██████████| 6/6 [00:11<00:00,  1.97s/it]\n",
      "Training (3167 / 18000 Steps) (loss=0.58696): 100%|██████████| 6/6 [00:11<00:00,  1.96s/it]\n",
      "Training (3173 / 18000 Steps) (loss=0.63195): 100%|██████████| 6/6 [00:11<00:00,  1.98s/it]\n",
      "Training (3179 / 18000 Steps) (loss=0.64877): 100%|██████████| 6/6 [00:11<00:00,  1.98s/it]\n",
      "Training (3185 / 18000 Steps) (loss=0.50276): 100%|██████████| 6/6 [00:11<00:00,  1.96s/it]\n",
      "Training (3191 / 18000 Steps) (loss=0.53725): 100%|██████████| 6/6 [00:11<00:00,  1.95s/it]\n",
      "Training (3197 / 18000 Steps) (loss=0.34545): 100%|██████████| 6/6 [00:12<00:00,  2.01s/it]\n",
      "Validate (3198 / 10 Steps): 100%|██████████| 3/3 [00:11<00:00,  3.94s/it]<00:10,  2.72s/it]\n",
      "Training (3200 / 18000 Steps) (loss=0.45328):  50%|█████     | 3/6 [00:19<00:22,  7.61s/it]"
     ]
    },
    {
     "name": "stdout",
     "output_type": "stream",
     "text": [
      "Model Was Not Saved ! Current Best Avg. Dice: 0.24165546894073486 Current Avg. Dice: 0.23137779533863068 Current Avg. tumor Dice: 0.25115877389907837 Current Avg. lymph Dice: 0.21159683167934418\n"
     ]
    },
    {
     "name": "stderr",
     "output_type": "stream",
     "text": [
      "Training (3203 / 18000 Steps) (loss=0.21635): 100%|██████████| 6/6 [00:23<00:00,  3.93s/it]\n",
      "Training (3209 / 18000 Steps) (loss=0.35996): 100%|██████████| 6/6 [00:11<00:00,  1.97s/it]\n",
      "Training (3215 / 18000 Steps) (loss=0.67328): 100%|██████████| 6/6 [00:12<00:00,  2.07s/it]\n",
      "Training (3221 / 18000 Steps) (loss=0.55379): 100%|██████████| 6/6 [00:12<00:00,  2.07s/it]\n",
      "Training (3227 / 18000 Steps) (loss=0.35168): 100%|██████████| 6/6 [00:11<00:00,  1.96s/it]\n",
      "Training (3233 / 18000 Steps) (loss=0.55911): 100%|██████████| 6/6 [00:11<00:00,  1.95s/it]\n",
      "Training (3239 / 18000 Steps) (loss=0.46101): 100%|██████████| 6/6 [00:12<00:00,  2.02s/it]\n",
      "Training (3245 / 18000 Steps) (loss=0.55048): 100%|██████████| 6/6 [00:11<00:00,  1.97s/it]\n",
      "Training (3251 / 18000 Steps) (loss=0.43602): 100%|██████████| 6/6 [00:11<00:00,  1.99s/it]\n",
      "Training (3257 / 18000 Steps) (loss=0.53665): 100%|██████████| 6/6 [00:12<00:00,  2.03s/it]\n",
      "Training (3263 / 18000 Steps) (loss=0.47499): 100%|██████████| 6/6 [00:12<00:00,  2.04s/it]\n",
      "Training (3269 / 18000 Steps) (loss=0.46304): 100%|██████████| 6/6 [00:12<00:00,  2.00s/it]\n",
      "Training (3275 / 18000 Steps) (loss=0.39193): 100%|██████████| 6/6 [00:11<00:00,  1.96s/it]\n",
      "Training (3281 / 18000 Steps) (loss=0.58068): 100%|██████████| 6/6 [00:11<00:00,  1.99s/it]\n",
      "Training (3287 / 18000 Steps) (loss=0.38951): 100%|██████████| 6/6 [00:12<00:00,  2.03s/it]\n",
      "Training (3293 / 18000 Steps) (loss=0.57998): 100%|██████████| 6/6 [00:12<00:00,  2.04s/it]\n",
      "Training (3299 / 18000 Steps) (loss=0.56030): 100%|██████████| 6/6 [00:12<00:00,  2.01s/it]\n",
      "Validate (3300 / 10 Steps): 100%|██████████| 3/3 [00:12<00:00,  4.02s/it]<?, ?it/s]\n",
      "Training (3300 / 18000 Steps) (loss=0.34665):  17%|█▋        | 1/6 [00:16<01:23, 16.67s/it]"
     ]
    },
    {
     "name": "stdout",
     "output_type": "stream",
     "text": [
      "Model Was Not Saved ! Current Best Avg. Dice: 0.24165546894073486 Current Avg. Dice: 0.23876138031482697 Current Avg. tumor Dice: 0.26778101921081543 Current Avg. lymph Dice: 0.2097417265176773\n"
     ]
    },
    {
     "name": "stderr",
     "output_type": "stream",
     "text": [
      "Training (3305 / 18000 Steps) (loss=0.41034): 100%|██████████| 6/6 [00:24<00:00,  4.04s/it]\n",
      "Training (3311 / 18000 Steps) (loss=0.47734): 100%|██████████| 6/6 [00:11<00:00,  1.96s/it]\n",
      "Training (3317 / 18000 Steps) (loss=0.43163): 100%|██████████| 6/6 [00:11<00:00,  2.00s/it]\n",
      "Training (3323 / 18000 Steps) (loss=0.58044): 100%|██████████| 6/6 [00:12<00:00,  2.03s/it]\n",
      "Training (3329 / 18000 Steps) (loss=0.30565): 100%|██████████| 6/6 [00:12<00:00,  2.01s/it]\n",
      "Training (3335 / 18000 Steps) (loss=0.46701): 100%|██████████| 6/6 [00:11<00:00,  1.98s/it]\n",
      "Training (3341 / 18000 Steps) (loss=0.44835): 100%|██████████| 6/6 [00:12<00:00,  2.01s/it]\n",
      "Training (3347 / 18000 Steps) (loss=0.28564): 100%|██████████| 6/6 [00:11<00:00,  1.96s/it]\n",
      "Training (3353 / 18000 Steps) (loss=0.52190): 100%|██████████| 6/6 [00:12<00:00,  2.03s/it]\n",
      "Training (3359 / 18000 Steps) (loss=0.32528): 100%|██████████| 6/6 [00:12<00:00,  2.01s/it]\n",
      "Training (3365 / 18000 Steps) (loss=0.49005): 100%|██████████| 6/6 [00:12<00:00,  2.04s/it]\n",
      "Training (3371 / 18000 Steps) (loss=0.59115): 100%|██████████| 6/6 [00:12<00:00,  2.04s/it]\n",
      "Training (3377 / 18000 Steps) (loss=0.37095): 100%|██████████| 6/6 [00:11<00:00,  2.00s/it]\n",
      "Training (3383 / 18000 Steps) (loss=0.54940): 100%|██████████| 6/6 [00:11<00:00,  1.99s/it]\n",
      "Training (3389 / 18000 Steps) (loss=0.58362): 100%|██████████| 6/6 [00:11<00:00,  1.99s/it]\n",
      "Training (3395 / 18000 Steps) (loss=0.57823): 100%|██████████| 6/6 [00:12<00:00,  2.02s/it]\n",
      "Validate (3396 / 10 Steps): 100%|██████████| 3/3 [00:11<00:00,  3.99s/it]<00:03,  1.98s/it]\n",
      "Training (3400 / 18000 Steps) (loss=0.49147):  83%|████████▎ | 5/6 [00:22<00:06,  6.16s/it]"
     ]
    },
    {
     "name": "stdout",
     "output_type": "stream",
     "text": [
      "Model Was Not Saved ! Current Best Avg. Dice: 0.24165546894073486 Current Avg. Dice: 0.2180943340063095 Current Avg. tumor Dice: 0.2912249267101288 Current Avg. lymph Dice: 0.14496375620365143\n"
     ]
    },
    {
     "name": "stderr",
     "output_type": "stream",
     "text": [
      "Training (3401 / 18000 Steps) (loss=0.42257): 100%|██████████| 6/6 [00:23<00:00,  3.97s/it]\n",
      "Training (3407 / 18000 Steps) (loss=0.56515): 100%|██████████| 6/6 [00:11<00:00,  1.98s/it]\n",
      "Training (3413 / 18000 Steps) (loss=0.36382): 100%|██████████| 6/6 [00:12<00:00,  2.06s/it]\n",
      "Training (3419 / 18000 Steps) (loss=0.42688): 100%|██████████| 6/6 [00:12<00:00,  2.02s/it]\n",
      "Training (3425 / 18000 Steps) (loss=0.49366): 100%|██████████| 6/6 [00:12<00:00,  2.07s/it]\n",
      "Training (3431 / 18000 Steps) (loss=0.60076): 100%|██████████| 6/6 [00:12<00:00,  2.02s/it]\n",
      "Training (3437 / 18000 Steps) (loss=0.63815): 100%|██████████| 6/6 [00:11<00:00,  1.99s/it]\n",
      "Training (3443 / 18000 Steps) (loss=0.42472): 100%|██████████| 6/6 [00:11<00:00,  1.97s/it]\n",
      "Training (3449 / 18000 Steps) (loss=0.53638): 100%|██████████| 6/6 [00:12<00:00,  2.02s/it]\n",
      "Training (3455 / 18000 Steps) (loss=0.50007): 100%|██████████| 6/6 [00:12<00:00,  2.03s/it]\n",
      "Training (3461 / 18000 Steps) (loss=0.42029): 100%|██████████| 6/6 [00:12<00:00,  2.03s/it]\n",
      "Training (3467 / 18000 Steps) (loss=0.42412): 100%|██████████| 6/6 [00:12<00:00,  2.04s/it]\n",
      "Training (3473 / 18000 Steps) (loss=0.40367): 100%|██████████| 6/6 [00:11<00:00,  1.95s/it]\n",
      "Training (3479 / 18000 Steps) (loss=0.27470): 100%|██████████| 6/6 [00:11<00:00,  1.97s/it]\n",
      "Training (3485 / 18000 Steps) (loss=0.33832): 100%|██████████| 6/6 [00:12<00:00,  2.03s/it]\n",
      "Training (3491 / 18000 Steps) (loss=0.43883): 100%|██████████| 6/6 [00:12<00:00,  2.00s/it]\n",
      "Training (3497 / 18000 Steps) (loss=0.53444): 100%|██████████| 6/6 [00:12<00:00,  2.08s/it]\n",
      "Validate (3498 / 10 Steps): 100%|██████████| 3/3 [00:12<00:00,  4.00s/it]<00:11,  2.83s/it]\n",
      "Training (3500 / 18000 Steps) (loss=0.48870):  50%|█████     | 3/6 [00:20<00:24,  8.16s/it]"
     ]
    },
    {
     "name": "stdout",
     "output_type": "stream",
     "text": [
      "Model Was Saved ! Current Best Avg. Dice: 0.25018376111984253 Current Avg. Dice: 0.25018376111984253 Current Avg. tumor Dice: 0.26937541365623474 Current Avg. lymph Dice: 0.2309921383857727\n"
     ]
    },
    {
     "name": "stderr",
     "output_type": "stream",
     "text": [
      "Training (3503 / 18000 Steps) (loss=0.38532): 100%|██████████| 6/6 [00:25<00:00,  4.18s/it]\n",
      "Training (3509 / 18000 Steps) (loss=0.58540): 100%|██████████| 6/6 [00:11<00:00,  2.00s/it]\n",
      "Training (3515 / 18000 Steps) (loss=0.45176): 100%|██████████| 6/6 [00:12<00:00,  2.01s/it]\n",
      "Training (3521 / 18000 Steps) (loss=0.52698): 100%|██████████| 6/6 [00:12<00:00,  2.07s/it]\n",
      "Training (3527 / 18000 Steps) (loss=0.44847): 100%|██████████| 6/6 [00:11<00:00,  1.99s/it]\n",
      "Training (3533 / 18000 Steps) (loss=0.54208): 100%|██████████| 6/6 [00:12<00:00,  2.00s/it]\n",
      "Training (3539 / 18000 Steps) (loss=0.43416): 100%|██████████| 6/6 [00:11<00:00,  1.99s/it]\n",
      "Training (3545 / 18000 Steps) (loss=0.44368): 100%|██████████| 6/6 [00:12<00:00,  2.01s/it]\n",
      "Training (3551 / 18000 Steps) (loss=0.49662): 100%|██████████| 6/6 [00:11<00:00,  1.99s/it]\n",
      "Training (3557 / 18000 Steps) (loss=0.34899): 100%|██████████| 6/6 [00:12<00:00,  2.06s/it]\n",
      "Training (3563 / 18000 Steps) (loss=0.47526): 100%|██████████| 6/6 [00:12<00:00,  2.01s/it]\n",
      "Training (3569 / 18000 Steps) (loss=0.38328): 100%|██████████| 6/6 [00:11<00:00,  1.98s/it]\n",
      "Training (3575 / 18000 Steps) (loss=0.40842): 100%|██████████| 6/6 [00:12<00:00,  2.07s/it]\n",
      "Training (3581 / 18000 Steps) (loss=0.19019): 100%|██████████| 6/6 [00:12<00:00,  2.02s/it]\n",
      "Training (3587 / 18000 Steps) (loss=0.46640): 100%|██████████| 6/6 [00:12<00:00,  2.01s/it]\n",
      "Training (3593 / 18000 Steps) (loss=0.30317): 100%|██████████| 6/6 [00:12<00:00,  2.09s/it]\n",
      "Training (3599 / 18000 Steps) (loss=0.41650): 100%|██████████| 6/6 [00:12<00:00,  2.00s/it]\n",
      "Validate (3600 / 10 Steps): 100%|██████████| 3/3 [00:12<00:00,  4.03s/it]<?, ?it/s]\n",
      "Training (3600 / 18000 Steps) (loss=0.48459):  17%|█▋        | 1/6 [00:16<01:22, 16.53s/it]"
     ]
    },
    {
     "name": "stdout",
     "output_type": "stream",
     "text": [
      "Model Was Not Saved ! Current Best Avg. Dice: 0.25018376111984253 Current Avg. Dice: 0.2346910685300827 Current Avg. tumor Dice: 0.26351675391197205 Current Avg. lymph Dice: 0.20586536824703217\n"
     ]
    },
    {
     "name": "stderr",
     "output_type": "stream",
     "text": [
      "Training (3605 / 18000 Steps) (loss=0.47679): 100%|██████████| 6/6 [00:24<00:00,  4.01s/it]\n",
      "Training (3611 / 18000 Steps) (loss=0.19268): 100%|██████████| 6/6 [00:11<00:00,  1.98s/it]\n",
      "Training (3617 / 18000 Steps) (loss=0.50227): 100%|██████████| 6/6 [00:12<00:00,  2.02s/it]\n",
      "Training (3623 / 18000 Steps) (loss=0.51302): 100%|██████████| 6/6 [00:12<00:00,  2.12s/it]\n",
      "Training (3629 / 18000 Steps) (loss=0.42160): 100%|██████████| 6/6 [00:12<00:00,  2.02s/it]\n",
      "Training (3635 / 18000 Steps) (loss=0.45300): 100%|██████████| 6/6 [00:12<00:00,  2.00s/it]\n",
      "Training (3641 / 18000 Steps) (loss=0.53326): 100%|██████████| 6/6 [00:12<00:00,  2.05s/it]\n",
      "Training (3647 / 18000 Steps) (loss=0.46819): 100%|██████████| 6/6 [00:12<00:00,  2.02s/it]\n",
      "Training (3653 / 18000 Steps) (loss=0.48072): 100%|██████████| 6/6 [00:11<00:00,  1.98s/it]\n",
      "Training (3659 / 18000 Steps) (loss=0.48082): 100%|██████████| 6/6 [00:12<00:00,  2.03s/it]\n",
      "Training (3665 / 18000 Steps) (loss=0.32555): 100%|██████████| 6/6 [00:11<00:00,  1.97s/it]\n",
      "Training (3671 / 18000 Steps) (loss=0.54304): 100%|██████████| 6/6 [00:12<00:00,  2.06s/it]\n",
      "Training (3677 / 18000 Steps) (loss=0.45746): 100%|██████████| 6/6 [00:11<00:00,  1.99s/it]\n",
      "Training (3683 / 18000 Steps) (loss=0.35810): 100%|██████████| 6/6 [00:11<00:00,  2.00s/it]\n",
      "Training (3689 / 18000 Steps) (loss=0.46503): 100%|██████████| 6/6 [00:11<00:00,  1.97s/it]\n",
      "Training (3695 / 18000 Steps) (loss=0.28003): 100%|██████████| 6/6 [00:11<00:00,  1.97s/it]\n",
      "Validate (3696 / 10 Steps): 100%|██████████| 3/3 [00:12<00:00,  4.05s/it]<00:03,  1.98s/it]\n",
      "Training (3700 / 18000 Steps) (loss=0.45010):  83%|████████▎ | 5/6 [00:23<00:06,  6.25s/it]"
     ]
    },
    {
     "name": "stdout",
     "output_type": "stream",
     "text": [
      "Model Was Not Saved ! Current Best Avg. Dice: 0.25018376111984253 Current Avg. Dice: 0.22327667474746704 Current Avg. tumor Dice: 0.2504752278327942 Current Avg. lymph Dice: 0.1960781067609787\n"
     ]
    },
    {
     "name": "stderr",
     "output_type": "stream",
     "text": [
      "Training (3701 / 18000 Steps) (loss=0.23711): 100%|██████████| 6/6 [00:24<00:00,  4.03s/it]\n",
      "Training (3707 / 18000 Steps) (loss=0.34779): 100%|██████████| 6/6 [00:12<00:00,  2.03s/it]\n",
      "Training (3713 / 18000 Steps) (loss=0.40829): 100%|██████████| 6/6 [00:12<00:00,  2.01s/it]\n",
      "Training (3719 / 18000 Steps) (loss=0.62606): 100%|██████████| 6/6 [00:12<00:00,  2.05s/it]\n",
      "Training (3725 / 18000 Steps) (loss=0.54301): 100%|██████████| 6/6 [00:12<00:00,  2.05s/it]\n",
      "Training (3731 / 18000 Steps) (loss=0.29126): 100%|██████████| 6/6 [00:11<00:00,  1.98s/it]\n",
      "Training (3737 / 18000 Steps) (loss=0.48879): 100%|██████████| 6/6 [00:11<00:00,  1.97s/it]\n",
      "Training (3743 / 18000 Steps) (loss=0.44783): 100%|██████████| 6/6 [00:12<00:00,  2.00s/it]\n",
      "Training (3749 / 18000 Steps) (loss=0.42375): 100%|██████████| 6/6 [00:12<00:00,  2.04s/it]\n",
      "Training (3755 / 18000 Steps) (loss=0.45478): 100%|██████████| 6/6 [00:11<00:00,  1.97s/it]\n",
      "Training (3761 / 18000 Steps) (loss=0.27306): 100%|██████████| 6/6 [00:12<00:00,  2.01s/it]\n",
      "Training (3767 / 18000 Steps) (loss=0.39091): 100%|██████████| 6/6 [00:11<00:00,  1.98s/it]\n",
      "Training (3773 / 18000 Steps) (loss=0.44676): 100%|██████████| 6/6 [00:12<00:00,  2.06s/it]\n",
      "Training (3779 / 18000 Steps) (loss=0.50456): 100%|██████████| 6/6 [00:11<00:00,  1.97s/it]\n",
      "Training (3785 / 18000 Steps) (loss=0.33171): 100%|██████████| 6/6 [00:11<00:00,  1.96s/it]\n",
      "Training (3791 / 18000 Steps) (loss=0.47034): 100%|██████████| 6/6 [00:12<00:00,  2.01s/it]\n",
      "Training (3797 / 18000 Steps) (loss=0.54515): 100%|██████████| 6/6 [00:12<00:00,  2.06s/it]\n",
      "Validate (3798 / 10 Steps): 100%|██████████| 3/3 [00:12<00:00,  4.03s/it]<00:11,  2.86s/it]\n",
      "Training (3800 / 18000 Steps) (loss=0.60826):  50%|█████     | 3/6 [00:19<00:23,  7.83s/it]"
     ]
    },
    {
     "name": "stdout",
     "output_type": "stream",
     "text": [
      "Model Was Not Saved ! Current Best Avg. Dice: 0.25018376111984253 Current Avg. Dice: 0.21551454067230225 Current Avg. tumor Dice: 0.26394110918045044 Current Avg. lymph Dice: 0.16708791255950928\n"
     ]
    },
    {
     "name": "stderr",
     "output_type": "stream",
     "text": [
      "Training (3803 / 18000 Steps) (loss=0.45175): 100%|██████████| 6/6 [00:24<00:00,  4.06s/it]\n",
      "Training (3809 / 18000 Steps) (loss=0.44010): 100%|██████████| 6/6 [00:12<00:00,  2.05s/it]\n",
      "Training (3815 / 18000 Steps) (loss=0.55450): 100%|██████████| 6/6 [00:11<00:00,  1.99s/it]\n",
      "Training (3821 / 18000 Steps) (loss=0.59741): 100%|██████████| 6/6 [00:11<00:00,  1.99s/it]\n",
      "Training (3827 / 18000 Steps) (loss=0.57211): 100%|██████████| 6/6 [00:11<00:00,  1.95s/it]\n",
      "Training (3833 / 18000 Steps) (loss=0.43160): 100%|██████████| 6/6 [00:12<00:00,  2.00s/it]\n",
      "Training (3839 / 18000 Steps) (loss=0.57960): 100%|██████████| 6/6 [00:11<00:00,  1.96s/it]\n",
      "Training (3845 / 18000 Steps) (loss=0.57645): 100%|██████████| 6/6 [00:12<00:00,  2.01s/it]\n",
      "Training (3851 / 18000 Steps) (loss=0.32173): 100%|██████████| 6/6 [00:11<00:00,  1.95s/it]\n",
      "Training (3857 / 18000 Steps) (loss=0.48628): 100%|██████████| 6/6 [00:12<00:00,  2.02s/it]\n",
      "Training (3863 / 18000 Steps) (loss=0.41781): 100%|██████████| 6/6 [00:11<00:00,  1.98s/it]\n",
      "Training (3869 / 18000 Steps) (loss=0.44551): 100%|██████████| 6/6 [00:12<00:00,  2.03s/it]\n",
      "Training (3875 / 18000 Steps) (loss=0.34385): 100%|██████████| 6/6 [00:11<00:00,  2.00s/it]\n",
      "Training (3881 / 18000 Steps) (loss=0.59517): 100%|██████████| 6/6 [00:12<00:00,  2.04s/it]\n",
      "Training (3887 / 18000 Steps) (loss=0.57343): 100%|██████████| 6/6 [00:12<00:00,  2.02s/it]\n",
      "Training (3893 / 18000 Steps) (loss=0.26175): 100%|██████████| 6/6 [00:12<00:00,  2.03s/it]\n",
      "Training (3899 / 18000 Steps) (loss=0.35814): 100%|██████████| 6/6 [00:12<00:00,  2.02s/it]\n",
      "Validate (3900 / 10 Steps): 100%|██████████| 3/3 [00:11<00:00,  3.99s/it]<?, ?it/s]\n",
      "Training (3900 / 18000 Steps) (loss=0.38279):  17%|█▋        | 1/6 [00:16<01:23, 16.70s/it]"
     ]
    },
    {
     "name": "stdout",
     "output_type": "stream",
     "text": [
      "Model Was Not Saved ! Current Best Avg. Dice: 0.25018376111984253 Current Avg. Dice: 0.19800741970539093 Current Avg. tumor Dice: 0.2332252711057663 Current Avg. lymph Dice: 0.16278956830501556\n"
     ]
    },
    {
     "name": "stderr",
     "output_type": "stream",
     "text": [
      "Training (3905 / 18000 Steps) (loss=0.37242): 100%|██████████| 6/6 [00:24<00:00,  4.06s/it]\n",
      "Training (3911 / 18000 Steps) (loss=0.47347): 100%|██████████| 6/6 [00:11<00:00,  2.00s/it]\n",
      "Training (3917 / 18000 Steps) (loss=0.27697): 100%|██████████| 6/6 [00:12<00:00,  2.02s/it]\n",
      "Training (3923 / 18000 Steps) (loss=0.44018): 100%|██████████| 6/6 [00:12<00:00,  2.05s/it]\n",
      "Training (3929 / 18000 Steps) (loss=0.57579): 100%|██████████| 6/6 [00:12<00:00,  2.00s/it]\n",
      "Training (3935 / 18000 Steps) (loss=0.54008): 100%|██████████| 6/6 [00:12<00:00,  2.01s/it]\n",
      "Training (3941 / 18000 Steps) (loss=0.35599): 100%|██████████| 6/6 [00:12<00:00,  2.03s/it]\n",
      "Training (3947 / 18000 Steps) (loss=0.38519): 100%|██████████| 6/6 [00:11<00:00,  1.98s/it]\n",
      "Training (3953 / 18000 Steps) (loss=0.45890): 100%|██████████| 6/6 [00:12<00:00,  2.05s/it]\n",
      "Training (3959 / 18000 Steps) (loss=0.25107): 100%|██████████| 6/6 [00:12<00:00,  2.06s/it]\n",
      "Training (3965 / 18000 Steps) (loss=0.36291): 100%|██████████| 6/6 [00:12<00:00,  2.08s/it]\n",
      "Training (3971 / 18000 Steps) (loss=0.48526): 100%|██████████| 6/6 [00:12<00:00,  2.03s/it]\n",
      "Training (3977 / 18000 Steps) (loss=0.40271): 100%|██████████| 6/6 [00:11<00:00,  1.96s/it]\n",
      "Training (3983 / 18000 Steps) (loss=0.52225): 100%|██████████| 6/6 [00:11<00:00,  1.98s/it]\n",
      "Training (3989 / 18000 Steps) (loss=0.54325): 100%|██████████| 6/6 [00:12<00:00,  2.01s/it]\n",
      "Training (3995 / 18000 Steps) (loss=0.52148): 100%|██████████| 6/6 [00:12<00:00,  2.01s/it]\n",
      "Validate (3996 / 10 Steps): 100%|██████████| 3/3 [00:12<00:00,  4.04s/it]<00:04,  2.02s/it]\n",
      "Training (4000 / 18000 Steps) (loss=0.41100):  83%|████████▎ | 5/6 [00:23<00:06,  6.29s/it]"
     ]
    },
    {
     "name": "stdout",
     "output_type": "stream",
     "text": [
      "Model Was Not Saved ! Current Best Avg. Dice: 0.25018376111984253 Current Avg. Dice: 0.189595028758049 Current Avg. tumor Dice: 0.24317793548107147 Current Avg. lymph Dice: 0.13601213693618774\n"
     ]
    },
    {
     "name": "stderr",
     "output_type": "stream",
     "text": [
      "Training (4001 / 18000 Steps) (loss=0.60136): 100%|██████████| 6/6 [00:24<00:00,  4.05s/it]\n",
      "Training (4007 / 18000 Steps) (loss=0.41665): 100%|██████████| 6/6 [00:11<00:00,  2.00s/it]\n",
      "Training (4013 / 18000 Steps) (loss=0.47607): 100%|██████████| 6/6 [00:12<00:00,  2.10s/it]\n",
      "Training (4019 / 18000 Steps) (loss=0.57435): 100%|██████████| 6/6 [00:12<00:00,  2.08s/it]\n",
      "Training (4025 / 18000 Steps) (loss=0.32657): 100%|██████████| 6/6 [00:12<00:00,  2.09s/it]\n",
      "Training (4031 / 18000 Steps) (loss=0.35978): 100%|██████████| 6/6 [00:12<00:00,  2.04s/it]\n",
      "Training (4037 / 18000 Steps) (loss=0.23661): 100%|██████████| 6/6 [00:12<00:00,  2.02s/it]\n",
      "Training (4043 / 18000 Steps) (loss=0.55203): 100%|██████████| 6/6 [00:12<00:00,  2.03s/it]\n",
      "Training (4049 / 18000 Steps) (loss=0.42024): 100%|██████████| 6/6 [00:12<00:00,  2.02s/it]\n",
      "Training (4055 / 18000 Steps) (loss=0.50455): 100%|██████████| 6/6 [00:11<00:00,  1.99s/it]\n",
      "Training (4061 / 18000 Steps) (loss=0.46672): 100%|██████████| 6/6 [00:11<00:00,  1.98s/it]\n",
      "Training (4067 / 18000 Steps) (loss=0.42048): 100%|██████████| 6/6 [00:11<00:00,  2.00s/it]\n",
      "Training (4073 / 18000 Steps) (loss=0.35391): 100%|██████████| 6/6 [00:11<00:00,  1.95s/it]\n",
      "Training (4079 / 18000 Steps) (loss=0.39856): 100%|██████████| 6/6 [00:11<00:00,  1.97s/it]\n",
      "Training (4085 / 18000 Steps) (loss=0.54866): 100%|██████████| 6/6 [00:11<00:00,  2.00s/it]\n",
      "Training (4091 / 18000 Steps) (loss=0.47551): 100%|██████████| 6/6 [00:12<00:00,  2.02s/it]\n",
      "Training (4097 / 18000 Steps) (loss=0.60547): 100%|██████████| 6/6 [00:12<00:00,  2.01s/it]\n",
      "Validate (4098 / 10 Steps): 100%|██████████| 3/3 [00:11<00:00,  3.96s/it]<00:11,  2.76s/it]\n",
      "Training (4100 / 18000 Steps) (loss=0.39635):  50%|█████     | 3/6 [00:19<00:23,  7.68s/it]"
     ]
    },
    {
     "name": "stdout",
     "output_type": "stream",
     "text": [
      "Model Was Not Saved ! Current Best Avg. Dice: 0.25018376111984253 Current Avg. Dice: 0.20868630707263947 Current Avg. tumor Dice: 0.2683166265487671 Current Avg. lymph Dice: 0.14905601739883423\n"
     ]
    },
    {
     "name": "stderr",
     "output_type": "stream",
     "text": [
      "Training (4103 / 18000 Steps) (loss=0.34228): 100%|██████████| 6/6 [00:23<00:00,  4.00s/it]\n",
      "Training (4109 / 18000 Steps) (loss=0.51595): 100%|██████████| 6/6 [00:12<00:00,  2.08s/it]\n",
      "Training (4115 / 18000 Steps) (loss=0.49885): 100%|██████████| 6/6 [00:11<00:00,  1.95s/it]\n",
      "Training (4121 / 18000 Steps) (loss=0.51498): 100%|██████████| 6/6 [00:11<00:00,  1.97s/it]\n",
      "Training (4127 / 18000 Steps) (loss=0.49054): 100%|██████████| 6/6 [00:11<00:00,  1.99s/it]\n",
      "Training (4133 / 18000 Steps) (loss=0.42137): 100%|██████████| 6/6 [00:12<00:00,  2.01s/it]\n",
      "Training (4139 / 18000 Steps) (loss=0.51382): 100%|██████████| 6/6 [00:12<00:00,  2.00s/it]\n",
      "Training (4145 / 18000 Steps) (loss=0.18911): 100%|██████████| 6/6 [00:11<00:00,  1.94s/it]\n",
      "Training (4151 / 18000 Steps) (loss=0.43781): 100%|██████████| 6/6 [00:12<00:00,  2.03s/it]\n",
      "Training (4157 / 18000 Steps) (loss=0.47259): 100%|██████████| 6/6 [00:12<00:00,  2.02s/it]\n",
      "Training (4163 / 18000 Steps) (loss=0.47343): 100%|██████████| 6/6 [00:12<00:00,  2.00s/it]\n",
      "Training (4169 / 18000 Steps) (loss=0.61272): 100%|██████████| 6/6 [00:11<00:00,  1.96s/it]\n",
      "Training (4175 / 18000 Steps) (loss=0.54998): 100%|██████████| 6/6 [00:12<00:00,  2.03s/it]\n",
      "Training (4181 / 18000 Steps) (loss=0.56650): 100%|██████████| 6/6 [00:12<00:00,  2.03s/it]\n",
      "Training (4187 / 18000 Steps) (loss=0.59958): 100%|██████████| 6/6 [00:12<00:00,  2.03s/it]\n",
      "Training (4193 / 18000 Steps) (loss=0.56175): 100%|██████████| 6/6 [00:12<00:00,  2.02s/it]\n",
      "Training (4199 / 18000 Steps) (loss=0.57479): 100%|██████████| 6/6 [00:11<00:00,  1.98s/it]\n",
      "Validate (4200 / 10 Steps): 100%|██████████| 3/3 [00:12<00:00,  4.01s/it]<?, ?it/s]\n",
      "Training (4200 / 18000 Steps) (loss=0.47951):  17%|█▋        | 1/6 [00:16<01:22, 16.46s/it]"
     ]
    },
    {
     "name": "stdout",
     "output_type": "stream",
     "text": [
      "Model Was Not Saved ! Current Best Avg. Dice: 0.25018376111984253 Current Avg. Dice: 0.22319059073925018 Current Avg. tumor Dice: 0.25915956497192383 Current Avg. lymph Dice: 0.18722163140773773\n"
     ]
    },
    {
     "name": "stderr",
     "output_type": "stream",
     "text": [
      "Training (4205 / 18000 Steps) (loss=0.54722): 100%|██████████| 6/6 [00:24<00:00,  4.06s/it]\n",
      "Training (4211 / 18000 Steps) (loss=0.43834): 100%|██████████| 6/6 [00:12<00:00,  2.03s/it]\n",
      "Training (4217 / 18000 Steps) (loss=0.51414): 100%|██████████| 6/6 [00:11<00:00,  1.98s/it]\n",
      "Training (4223 / 18000 Steps) (loss=0.40571): 100%|██████████| 6/6 [00:11<00:00,  2.00s/it]\n",
      "Training (4229 / 18000 Steps) (loss=0.23101): 100%|██████████| 6/6 [00:11<00:00,  1.92s/it]\n",
      "Training (4235 / 18000 Steps) (loss=0.37079): 100%|██████████| 6/6 [00:12<00:00,  2.03s/it]\n",
      "Training (4241 / 18000 Steps) (loss=0.37321): 100%|██████████| 6/6 [00:11<00:00,  2.00s/it]\n",
      "Training (4247 / 18000 Steps) (loss=0.44891): 100%|██████████| 6/6 [00:11<00:00,  1.95s/it]\n",
      "Training (4253 / 18000 Steps) (loss=0.51359): 100%|██████████| 6/6 [00:12<00:00,  2.00s/it]\n",
      "Training (4259 / 18000 Steps) (loss=0.38968): 100%|██████████| 6/6 [00:12<00:00,  2.07s/it]\n",
      "Training (4265 / 18000 Steps) (loss=0.66692): 100%|██████████| 6/6 [00:12<00:00,  2.01s/it]\n",
      "Training (4271 / 18000 Steps) (loss=0.39334): 100%|██████████| 6/6 [00:11<00:00,  2.00s/it]\n",
      "Training (4277 / 18000 Steps) (loss=0.32651): 100%|██████████| 6/6 [00:12<00:00,  2.00s/it]\n",
      "Training (4283 / 18000 Steps) (loss=0.45546): 100%|██████████| 6/6 [00:11<00:00,  2.00s/it]\n",
      "Training (4289 / 18000 Steps) (loss=0.37576): 100%|██████████| 6/6 [00:11<00:00,  1.95s/it]\n",
      "Training (4295 / 18000 Steps) (loss=0.66749): 100%|██████████| 6/6 [00:11<00:00,  1.93s/it]\n",
      "Validate (4296 / 10 Steps): 100%|██████████| 3/3 [00:12<00:00,  4.02s/it]<00:03,  1.97s/it]\n",
      "Training (4300 / 18000 Steps) (loss=0.50182):  83%|████████▎ | 5/6 [00:22<00:06,  6.21s/it]"
     ]
    },
    {
     "name": "stdout",
     "output_type": "stream",
     "text": [
      "Model Was Not Saved ! Current Best Avg. Dice: 0.25018376111984253 Current Avg. Dice: 0.21597260236740112 Current Avg. tumor Dice: 0.25592344999313354 Current Avg. lymph Dice: 0.1760217398405075\n"
     ]
    },
    {
     "name": "stderr",
     "output_type": "stream",
     "text": [
      "Training (4301 / 18000 Steps) (loss=0.62474): 100%|██████████| 6/6 [00:23<00:00,  4.00s/it]\n",
      "Training (4307 / 18000 Steps) (loss=0.43374): 100%|██████████| 6/6 [00:12<00:00,  2.04s/it]\n",
      "Training (4313 / 18000 Steps) (loss=0.44960): 100%|██████████| 6/6 [00:11<00:00,  1.97s/it]\n",
      "Training (4319 / 18000 Steps) (loss=0.39610): 100%|██████████| 6/6 [00:11<00:00,  1.98s/it]\n",
      "Training (4325 / 18000 Steps) (loss=0.49408): 100%|██████████| 6/6 [00:11<00:00,  1.95s/it]\n",
      "Training (4331 / 18000 Steps) (loss=0.55807): 100%|██████████| 6/6 [00:11<00:00,  1.97s/it]\n",
      "Training (4337 / 18000 Steps) (loss=0.44860): 100%|██████████| 6/6 [00:12<00:00,  2.01s/it]\n",
      "Training (4343 / 18000 Steps) (loss=0.32902): 100%|██████████| 6/6 [00:12<00:00,  2.03s/it]\n",
      "Training (4349 / 18000 Steps) (loss=0.49537): 100%|██████████| 6/6 [00:11<00:00,  1.99s/it]\n",
      "Training (4355 / 18000 Steps) (loss=0.31746): 100%|██████████| 6/6 [00:12<00:00,  2.05s/it]\n",
      "Training (4361 / 18000 Steps) (loss=0.59710): 100%|██████████| 6/6 [00:11<00:00,  1.95s/it]\n",
      "Training (4367 / 18000 Steps) (loss=0.19937): 100%|██████████| 6/6 [00:12<00:00,  2.00s/it]\n",
      "Training (4373 / 18000 Steps) (loss=0.43915): 100%|██████████| 6/6 [00:11<00:00,  1.98s/it]\n",
      "Training (4379 / 18000 Steps) (loss=0.59335): 100%|██████████| 6/6 [00:11<00:00,  1.96s/it]\n",
      "Training (4385 / 18000 Steps) (loss=0.39805): 100%|██████████| 6/6 [00:11<00:00,  1.95s/it]\n",
      "Training (4391 / 18000 Steps) (loss=0.26938): 100%|██████████| 6/6 [00:11<00:00,  1.97s/it]\n",
      "Training (4397 / 18000 Steps) (loss=0.48611): 100%|██████████| 6/6 [00:11<00:00,  1.96s/it]\n",
      "Validate (4398 / 10 Steps): 100%|██████████| 3/3 [00:12<00:00,  4.01s/it]<00:10,  2.74s/it]\n",
      "Training (4400 / 18000 Steps) (loss=0.43523):  50%|█████     | 3/6 [00:19<00:23,  7.78s/it]"
     ]
    },
    {
     "name": "stdout",
     "output_type": "stream",
     "text": [
      "Model Was Not Saved ! Current Best Avg. Dice: 0.25018376111984253 Current Avg. Dice: 0.22704458236694336 Current Avg. tumor Dice: 0.2594589293003082 Current Avg. lymph Dice: 0.19463025033473969\n"
     ]
    },
    {
     "name": "stderr",
     "output_type": "stream",
     "text": [
      "Training (4403 / 18000 Steps) (loss=0.52820): 100%|██████████| 6/6 [00:24<00:00,  4.04s/it]\n",
      "Training (4409 / 18000 Steps) (loss=0.60942): 100%|██████████| 6/6 [00:12<00:00,  2.00s/it]\n",
      "Training (4415 / 18000 Steps) (loss=0.37858): 100%|██████████| 6/6 [00:11<00:00,  1.99s/it]\n",
      "Training (4421 / 18000 Steps) (loss=0.40041): 100%|██████████| 6/6 [00:11<00:00,  1.94s/it]\n",
      "Training (4427 / 18000 Steps) (loss=0.50181): 100%|██████████| 6/6 [00:11<00:00,  1.98s/it]\n",
      "Training (4433 / 18000 Steps) (loss=0.42374): 100%|██████████| 6/6 [00:11<00:00,  1.98s/it]\n",
      "Training (4439 / 18000 Steps) (loss=0.33549): 100%|██████████| 6/6 [00:12<00:00,  2.00s/it]\n",
      "Training (4445 / 18000 Steps) (loss=0.45927): 100%|██████████| 6/6 [00:11<00:00,  1.96s/it]\n",
      "Training (4451 / 18000 Steps) (loss=0.44970): 100%|██████████| 6/6 [00:12<00:00,  2.03s/it]\n",
      "Training (4457 / 18000 Steps) (loss=0.45526): 100%|██████████| 6/6 [00:11<00:00,  1.95s/it]\n",
      "Training (4463 / 18000 Steps) (loss=0.44091): 100%|██████████| 6/6 [00:11<00:00,  1.98s/it]\n",
      "Training (4469 / 18000 Steps) (loss=0.49082): 100%|██████████| 6/6 [00:11<00:00,  1.95s/it]\n",
      "Training (4475 / 18000 Steps) (loss=0.22498): 100%|██████████| 6/6 [00:12<00:00,  2.03s/it]\n",
      "Training (4481 / 18000 Steps) (loss=0.59556): 100%|██████████| 6/6 [00:11<00:00,  1.94s/it]\n",
      "Training (4487 / 18000 Steps) (loss=0.37348): 100%|██████████| 6/6 [00:11<00:00,  1.93s/it]\n",
      "Training (4493 / 18000 Steps) (loss=0.46300): 100%|██████████| 6/6 [00:11<00:00,  1.95s/it]\n",
      "Training (4499 / 18000 Steps) (loss=0.29092): 100%|██████████| 6/6 [00:12<00:00,  2.03s/it]\n",
      "Validate (4500 / 10 Steps): 100%|██████████| 3/3 [00:12<00:00,  4.18s/it]<?, ?it/s]\n",
      "Training (4500 / 18000 Steps) (loss=0.54940):  17%|█▋        | 1/6 [00:17<01:25, 17.11s/it]"
     ]
    },
    {
     "name": "stdout",
     "output_type": "stream",
     "text": [
      "Model Was Not Saved ! Current Best Avg. Dice: 0.25018376111984253 Current Avg. Dice: 0.1946038454771042 Current Avg. tumor Dice: 0.2518271803855896 Current Avg. lymph Dice: 0.13738049566745758\n"
     ]
    },
    {
     "name": "stderr",
     "output_type": "stream",
     "text": [
      "Training (4505 / 18000 Steps) (loss=0.55777): 100%|██████████| 6/6 [00:24<00:00,  4.10s/it]\n",
      "Training (4511 / 18000 Steps) (loss=0.45106): 100%|██████████| 6/6 [00:11<00:00,  1.95s/it]\n",
      "Training (4517 / 18000 Steps) (loss=0.49735): 100%|██████████| 6/6 [00:12<00:00,  2.03s/it]\n",
      "Training (4523 / 18000 Steps) (loss=0.41077): 100%|██████████| 6/6 [00:11<00:00,  1.96s/it]\n",
      "Training (4529 / 18000 Steps) (loss=0.35612): 100%|██████████| 6/6 [00:12<00:00,  2.01s/it]\n",
      "Training (4535 / 18000 Steps) (loss=0.50174): 100%|██████████| 6/6 [00:12<00:00,  2.08s/it]\n",
      "Training (4541 / 18000 Steps) (loss=0.66757): 100%|██████████| 6/6 [00:12<00:00,  2.04s/it]\n",
      "Training (4547 / 18000 Steps) (loss=0.50769): 100%|██████████| 6/6 [00:11<00:00,  1.97s/it]\n",
      "Training (4553 / 18000 Steps) (loss=0.53269): 100%|██████████| 6/6 [00:11<00:00,  1.99s/it]\n",
      "Training (4559 / 18000 Steps) (loss=0.21662): 100%|██████████| 6/6 [00:11<00:00,  1.93s/it]\n",
      "Training (4565 / 18000 Steps) (loss=0.41814): 100%|██████████| 6/6 [00:11<00:00,  1.94s/it]\n",
      "Training (4571 / 18000 Steps) (loss=0.34772): 100%|██████████| 6/6 [00:11<00:00,  1.96s/it]\n",
      "Training (4577 / 18000 Steps) (loss=0.27951): 100%|██████████| 6/6 [00:12<00:00,  2.02s/it]\n",
      "Training (4583 / 18000 Steps) (loss=0.43414): 100%|██████████| 6/6 [00:11<00:00,  1.95s/it]\n",
      "Training (4589 / 18000 Steps) (loss=0.35541): 100%|██████████| 6/6 [00:11<00:00,  1.94s/it]\n",
      "Training (4595 / 18000 Steps) (loss=0.44761): 100%|██████████| 6/6 [00:11<00:00,  1.96s/it]\n",
      "Validate (4596 / 10 Steps): 100%|██████████| 3/3 [00:12<00:00,  4.04s/it]<00:03,  1.97s/it]\n",
      "Training (4600 / 18000 Steps) (loss=0.45990):  83%|████████▎ | 5/6 [00:22<00:06,  6.24s/it]"
     ]
    },
    {
     "name": "stdout",
     "output_type": "stream",
     "text": [
      "Model Was Not Saved ! Current Best Avg. Dice: 0.25018376111984253 Current Avg. Dice: 0.20918627083301544 Current Avg. tumor Dice: 0.24201060831546783 Current Avg. lymph Dice: 0.17636197805404663\n"
     ]
    },
    {
     "name": "stderr",
     "output_type": "stream",
     "text": [
      "Training (4601 / 18000 Steps) (loss=0.34275): 100%|██████████| 6/6 [00:23<00:00,  3.99s/it]\n",
      "Training (4607 / 18000 Steps) (loss=0.46379): 100%|██████████| 6/6 [00:12<00:00,  2.03s/it]\n",
      "Training (4613 / 18000 Steps) (loss=0.33754): 100%|██████████| 6/6 [00:11<00:00,  1.96s/it]\n",
      "Training (4619 / 18000 Steps) (loss=0.61170): 100%|██████████| 6/6 [00:12<00:00,  2.01s/it]\n",
      "Training (4625 / 18000 Steps) (loss=0.42468): 100%|██████████| 6/6 [00:11<00:00,  2.00s/it]\n",
      "Training (4631 / 18000 Steps) (loss=0.43568): 100%|██████████| 6/6 [00:12<00:00,  2.00s/it]\n",
      "Training (4637 / 18000 Steps) (loss=0.34298): 100%|██████████| 6/6 [00:11<00:00,  1.99s/it]\n",
      "Training (4643 / 18000 Steps) (loss=0.48599): 100%|██████████| 6/6 [00:11<00:00,  1.95s/it]\n",
      "Training (4649 / 18000 Steps) (loss=0.36958): 100%|██████████| 6/6 [00:11<00:00,  1.93s/it]\n",
      "Training (4655 / 18000 Steps) (loss=0.55438): 100%|██████████| 6/6 [00:11<00:00,  1.99s/it]\n",
      "Training (4661 / 18000 Steps) (loss=0.39558): 100%|██████████| 6/6 [00:11<00:00,  1.96s/it]\n",
      "Training (4667 / 18000 Steps) (loss=0.38169): 100%|██████████| 6/6 [00:11<00:00,  1.98s/it]\n",
      "Training (4673 / 18000 Steps) (loss=0.54738): 100%|██████████| 6/6 [00:11<00:00,  1.98s/it]\n",
      "Training (4679 / 18000 Steps) (loss=0.55342): 100%|██████████| 6/6 [00:11<00:00,  1.92s/it]\n",
      "Training (4685 / 18000 Steps) (loss=0.46832): 100%|██████████| 6/6 [00:11<00:00,  1.95s/it]\n",
      "Training (4691 / 18000 Steps) (loss=0.44994): 100%|██████████| 6/6 [00:11<00:00,  1.98s/it]\n",
      "Training (4697 / 18000 Steps) (loss=0.47369): 100%|██████████| 6/6 [00:11<00:00,  1.99s/it]\n",
      "Validate (4698 / 10 Steps): 100%|██████████| 3/3 [00:11<00:00,  3.95s/it]<00:10,  2.74s/it]\n",
      "Training (4700 / 18000 Steps) (loss=0.45129):  50%|█████     | 3/6 [00:19<00:22,  7.66s/it]"
     ]
    },
    {
     "name": "stdout",
     "output_type": "stream",
     "text": [
      "Model Was Not Saved ! Current Best Avg. Dice: 0.25018376111984253 Current Avg. Dice: 0.21532875299453735 Current Avg. tumor Dice: 0.2563623785972595 Current Avg. lymph Dice: 0.17429514229297638\n"
     ]
    },
    {
     "name": "stderr",
     "output_type": "stream",
     "text": [
      "Training (4703 / 18000 Steps) (loss=0.41435): 100%|██████████| 6/6 [00:23<00:00,  3.96s/it]\n",
      "Training (4709 / 18000 Steps) (loss=0.53220): 100%|██████████| 6/6 [00:11<00:00,  1.96s/it]\n",
      "Training (4715 / 18000 Steps) (loss=0.45612): 100%|██████████| 6/6 [00:11<00:00,  1.99s/it]\n",
      "Training (4721 / 18000 Steps) (loss=0.52630): 100%|██████████| 6/6 [00:12<00:00,  2.00s/it]\n",
      "Training (4727 / 18000 Steps) (loss=0.39648): 100%|██████████| 6/6 [00:11<00:00,  1.99s/it]\n",
      "Training (4733 / 18000 Steps) (loss=0.41225): 100%|██████████| 6/6 [00:11<00:00,  2.00s/it]\n",
      "Training (4739 / 18000 Steps) (loss=0.47714): 100%|██████████| 6/6 [00:12<00:00,  2.01s/it]\n",
      "Training (4745 / 18000 Steps) (loss=0.29188): 100%|██████████| 6/6 [00:11<00:00,  1.99s/it]\n",
      "Training (4751 / 18000 Steps) (loss=0.45422): 100%|██████████| 6/6 [00:11<00:00,  2.00s/it]\n",
      "Training (4757 / 18000 Steps) (loss=0.43637): 100%|██████████| 6/6 [00:11<00:00,  1.99s/it]\n",
      "Training (4763 / 18000 Steps) (loss=0.49678): 100%|██████████| 6/6 [00:11<00:00,  1.95s/it]\n",
      "Training (4769 / 18000 Steps) (loss=0.53145): 100%|██████████| 6/6 [00:12<00:00,  2.01s/it]\n",
      "Training (4775 / 18000 Steps) (loss=0.36873): 100%|██████████| 6/6 [00:12<00:00,  2.00s/it]\n",
      "Training (4781 / 18000 Steps) (loss=0.54538): 100%|██████████| 6/6 [00:11<00:00,  2.00s/it]\n",
      "Training (4787 / 18000 Steps) (loss=0.53464): 100%|██████████| 6/6 [00:11<00:00,  1.99s/it]\n",
      "Training (4793 / 18000 Steps) (loss=0.47299): 100%|██████████| 6/6 [00:11<00:00,  1.96s/it]\n",
      "Training (4799 / 18000 Steps) (loss=0.35239): 100%|██████████| 6/6 [00:11<00:00,  2.00s/it]\n",
      "Validate (4800 / 10 Steps): 100%|██████████| 3/3 [00:11<00:00,  4.00s/it]<?, ?it/s]\n",
      "Training (4800 / 18000 Steps) (loss=0.35878):  17%|█▋        | 1/6 [00:16<01:22, 16.49s/it]"
     ]
    },
    {
     "name": "stdout",
     "output_type": "stream",
     "text": [
      "Model Was Not Saved ! Current Best Avg. Dice: 0.25018376111984253 Current Avg. Dice: 0.19558344781398773 Current Avg. tumor Dice: 0.21781481802463531 Current Avg. lymph Dice: 0.17335204780101776\n"
     ]
    },
    {
     "name": "stderr",
     "output_type": "stream",
     "text": [
      "Training (4805 / 18000 Steps) (loss=0.66745): 100%|██████████| 6/6 [00:23<00:00,  3.97s/it]\n",
      "Training (4811 / 18000 Steps) (loss=0.55620): 100%|██████████| 6/6 [00:11<00:00,  1.99s/it]\n",
      "Training (4817 / 18000 Steps) (loss=0.33621): 100%|██████████| 6/6 [00:11<00:00,  1.96s/it]\n",
      "Training (4823 / 18000 Steps) (loss=0.37797): 100%|██████████| 6/6 [00:11<00:00,  1.98s/it]\n",
      "Training (4829 / 18000 Steps) (loss=0.43386): 100%|██████████| 6/6 [00:11<00:00,  1.97s/it]\n",
      "Training (4835 / 18000 Steps) (loss=0.42270): 100%|██████████| 6/6 [00:11<00:00,  2.00s/it]\n",
      "Training (4841 / 18000 Steps) (loss=0.29254): 100%|██████████| 6/6 [00:11<00:00,  1.98s/it]\n",
      "Training (4847 / 18000 Steps) (loss=0.52538): 100%|██████████| 6/6 [00:11<00:00,  2.00s/it]\n",
      "Training (4853 / 18000 Steps) (loss=0.51134): 100%|██████████| 6/6 [00:11<00:00,  1.96s/it]\n",
      "Training (4859 / 18000 Steps) (loss=0.27199): 100%|██████████| 6/6 [00:12<00:00,  2.01s/it]\n",
      "Training (4865 / 18000 Steps) (loss=0.50134): 100%|██████████| 6/6 [00:11<00:00,  1.97s/it]\n",
      "Training (4871 / 18000 Steps) (loss=0.45253): 100%|██████████| 6/6 [00:11<00:00,  1.99s/it]\n",
      "Training (4877 / 18000 Steps) (loss=0.39651): 100%|██████████| 6/6 [00:11<00:00,  1.94s/it]\n",
      "Training (4883 / 18000 Steps) (loss=0.48367): 100%|██████████| 6/6 [00:12<00:00,  2.03s/it]\n",
      "Training (4889 / 18000 Steps) (loss=0.34356): 100%|██████████| 6/6 [00:11<00:00,  1.94s/it]\n",
      "Training (4895 / 18000 Steps) (loss=0.31562): 100%|██████████| 6/6 [00:12<00:00,  2.01s/it]\n",
      "Validate (4896 / 10 Steps): 100%|██████████| 3/3 [00:12<00:00,  4.02s/it]<00:04,  2.00s/it]\n",
      "Training (4900 / 18000 Steps) (loss=0.27971):  83%|████████▎ | 5/6 [00:23<00:06,  6.26s/it]"
     ]
    },
    {
     "name": "stdout",
     "output_type": "stream",
     "text": [
      "Model Was Not Saved ! Current Best Avg. Dice: 0.25018376111984253 Current Avg. Dice: 0.2358933836221695 Current Avg. tumor Dice: 0.24887895584106445 Current Avg. lymph Dice: 0.22290782630443573\n"
     ]
    },
    {
     "name": "stderr",
     "output_type": "stream",
     "text": [
      "Training (4901 / 18000 Steps) (loss=0.50785): 100%|██████████| 6/6 [00:24<00:00,  4.06s/it]\n",
      "Training (4907 / 18000 Steps) (loss=0.38802): 100%|██████████| 6/6 [00:11<00:00,  1.98s/it]\n",
      "Training (4913 / 18000 Steps) (loss=0.54070): 100%|██████████| 6/6 [00:11<00:00,  1.95s/it]\n",
      "Training (4919 / 18000 Steps) (loss=0.50751): 100%|██████████| 6/6 [00:11<00:00,  1.95s/it]\n",
      "Training (4925 / 18000 Steps) (loss=0.56978): 100%|██████████| 6/6 [00:12<00:00,  2.02s/it]\n",
      "Training (4931 / 18000 Steps) (loss=0.30353): 100%|██████████| 6/6 [00:11<00:00,  1.98s/it]\n",
      "Training (4937 / 18000 Steps) (loss=0.46534): 100%|██████████| 6/6 [00:11<00:00,  1.96s/it]\n",
      "Training (4943 / 18000 Steps) (loss=0.42064): 100%|██████████| 6/6 [00:11<00:00,  1.99s/it]\n",
      "Training (4949 / 18000 Steps) (loss=0.39933): 100%|██████████| 6/6 [00:11<00:00,  1.93s/it]\n",
      "Training (4955 / 18000 Steps) (loss=0.36694): 100%|██████████| 6/6 [00:11<00:00,  1.95s/it]\n",
      "Training (4961 / 18000 Steps) (loss=0.41896): 100%|██████████| 6/6 [00:11<00:00,  1.97s/it]\n",
      "Training (4967 / 18000 Steps) (loss=0.48745): 100%|██████████| 6/6 [00:12<00:00,  2.01s/it]\n",
      "Training (4973 / 18000 Steps) (loss=0.50936): 100%|██████████| 6/6 [00:11<00:00,  1.98s/it]\n",
      "Training (4979 / 18000 Steps) (loss=0.20321): 100%|██████████| 6/6 [00:11<00:00,  1.99s/it]\n",
      "Training (4985 / 18000 Steps) (loss=0.34849): 100%|██████████| 6/6 [00:11<00:00,  1.95s/it]\n",
      "Training (4991 / 18000 Steps) (loss=0.26936): 100%|██████████| 6/6 [00:12<00:00,  2.02s/it]\n",
      "Training (4997 / 18000 Steps) (loss=0.57512): 100%|██████████| 6/6 [00:12<00:00,  2.01s/it]\n",
      "Validate (4998 / 10 Steps): 100%|██████████| 3/3 [00:12<00:00,  4.02s/it]<00:11,  2.89s/it]\n",
      "Training (5000 / 18000 Steps) (loss=0.42308):  50%|█████     | 3/6 [00:20<00:23,  7.82s/it]"
     ]
    },
    {
     "name": "stdout",
     "output_type": "stream",
     "text": [
      "Model Was Not Saved ! Current Best Avg. Dice: 0.25018376111984253 Current Avg. Dice: 0.2404840737581253 Current Avg. tumor Dice: 0.23455356061458588 Current Avg. lymph Dice: 0.24641461670398712\n"
     ]
    },
    {
     "name": "stderr",
     "output_type": "stream",
     "text": [
      "Training (5003 / 18000 Steps) (loss=0.33772): 100%|██████████| 6/6 [00:24<00:00,  4.07s/it]\n",
      "Training (5009 / 18000 Steps) (loss=0.31486): 100%|██████████| 6/6 [00:12<00:00,  2.07s/it]\n",
      "Training (5015 / 18000 Steps) (loss=0.33985): 100%|██████████| 6/6 [00:11<00:00,  1.96s/it]\n",
      "Training (5021 / 18000 Steps) (loss=0.34656): 100%|██████████| 6/6 [00:11<00:00,  1.97s/it]\n",
      "Training (5027 / 18000 Steps) (loss=0.28032): 100%|██████████| 6/6 [00:11<00:00,  1.96s/it]\n",
      "Training (5033 / 18000 Steps) (loss=0.56867): 100%|██████████| 6/6 [00:11<00:00,  1.98s/it]\n",
      "Training (5039 / 18000 Steps) (loss=0.58517): 100%|██████████| 6/6 [00:11<00:00,  1.96s/it]\n",
      "Training (5045 / 18000 Steps) (loss=0.28811): 100%|██████████| 6/6 [00:12<00:00,  2.04s/it]\n",
      "Training (5051 / 18000 Steps) (loss=0.53661): 100%|██████████| 6/6 [00:11<00:00,  1.99s/it]\n",
      "Training (5057 / 18000 Steps) (loss=0.42803): 100%|██████████| 6/6 [00:11<00:00,  1.99s/it]\n",
      "Training (5063 / 18000 Steps) (loss=0.42762): 100%|██████████| 6/6 [00:12<00:00,  2.00s/it]\n",
      "Training (5069 / 18000 Steps) (loss=0.32336): 100%|██████████| 6/6 [00:12<00:00,  2.01s/it]\n",
      "Training (5075 / 18000 Steps) (loss=0.29481): 100%|██████████| 6/6 [00:12<00:00,  2.03s/it]\n",
      "Training (5081 / 18000 Steps) (loss=0.45678): 100%|██████████| 6/6 [00:12<00:00,  2.00s/it]\n",
      "Training (5087 / 18000 Steps) (loss=0.17358): 100%|██████████| 6/6 [00:11<00:00,  1.97s/it]\n",
      "Training (5093 / 18000 Steps) (loss=0.31556): 100%|██████████| 6/6 [00:12<00:00,  2.03s/it]\n",
      "Training (5099 / 18000 Steps) (loss=0.43093): 100%|██████████| 6/6 [00:11<00:00,  1.95s/it]\n",
      "Validate (5100 / 10 Steps): 100%|██████████| 3/3 [00:11<00:00,  3.97s/it]<?, ?it/s]\n",
      "Training (5100 / 18000 Steps) (loss=0.50775):  17%|█▋        | 1/6 [00:16<01:21, 16.22s/it]"
     ]
    },
    {
     "name": "stdout",
     "output_type": "stream",
     "text": [
      "Model Was Not Saved ! Current Best Avg. Dice: 0.25018376111984253 Current Avg. Dice: 0.23347477614879608 Current Avg. tumor Dice: 0.266507089138031 Current Avg. lymph Dice: 0.20044247806072235\n"
     ]
    },
    {
     "name": "stderr",
     "output_type": "stream",
     "text": [
      "Training (5105 / 18000 Steps) (loss=0.44751): 100%|██████████| 6/6 [00:23<00:00,  3.95s/it]\n",
      "Training (5111 / 18000 Steps) (loss=0.25200): 100%|██████████| 6/6 [00:11<00:00,  1.97s/it]\n",
      "Training (5117 / 18000 Steps) (loss=0.41130): 100%|██████████| 6/6 [00:11<00:00,  1.94s/it]\n",
      "Training (5123 / 18000 Steps) (loss=0.25744): 100%|██████████| 6/6 [00:11<00:00,  1.93s/it]\n",
      "Training (5129 / 18000 Steps) (loss=0.55030): 100%|██████████| 6/6 [00:11<00:00,  1.97s/it]\n",
      "Training (5135 / 18000 Steps) (loss=0.54615): 100%|██████████| 6/6 [00:11<00:00,  1.99s/it]\n",
      "Training (5141 / 18000 Steps) (loss=0.33268): 100%|██████████| 6/6 [00:11<00:00,  1.95s/it]\n",
      "Training (5147 / 18000 Steps) (loss=0.45946): 100%|██████████| 6/6 [00:12<00:00,  2.03s/it]\n",
      "Training (5153 / 18000 Steps) (loss=0.45926): 100%|██████████| 6/6 [00:11<00:00,  2.00s/it]\n",
      "Training (5159 / 18000 Steps) (loss=0.44480): 100%|██████████| 6/6 [00:11<00:00,  1.96s/it]\n",
      "Training (5165 / 18000 Steps) (loss=0.40339): 100%|██████████| 6/6 [00:12<00:00,  2.01s/it]\n",
      "Training (5171 / 18000 Steps) (loss=0.43198): 100%|██████████| 6/6 [00:11<00:00,  1.96s/it]\n",
      "Training (5177 / 18000 Steps) (loss=0.52497): 100%|██████████| 6/6 [00:11<00:00,  2.00s/it]\n",
      "Training (5183 / 18000 Steps) (loss=0.31556): 100%|██████████| 6/6 [00:12<00:00,  2.02s/it]\n",
      "Training (5189 / 18000 Steps) (loss=0.41458): 100%|██████████| 6/6 [00:12<00:00,  2.01s/it]\n",
      "Training (5195 / 18000 Steps) (loss=0.42599): 100%|██████████| 6/6 [00:11<00:00,  1.96s/it]\n",
      "Validate (5196 / 10 Steps): 100%|██████████| 3/3 [00:12<00:00,  4.01s/it]<00:03,  1.96s/it]\n",
      "Training (5200 / 18000 Steps) (loss=0.31827):  83%|████████▎ | 5/6 [00:22<00:06,  6.20s/it]"
     ]
    },
    {
     "name": "stdout",
     "output_type": "stream",
     "text": [
      "Model Was Not Saved ! Current Best Avg. Dice: 0.25018376111984253 Current Avg. Dice: 0.22073930501937866 Current Avg. tumor Dice: 0.2306678146123886 Current Avg. lymph Dice: 0.21081078052520752\n"
     ]
    },
    {
     "name": "stderr",
     "output_type": "stream",
     "text": [
      "Training (5201 / 18000 Steps) (loss=0.31940): 100%|██████████| 6/6 [00:23<00:00,  3.98s/it]\n",
      "Training (5207 / 18000 Steps) (loss=0.61004): 100%|██████████| 6/6 [00:11<00:00,  1.96s/it]\n",
      "Training (5213 / 18000 Steps) (loss=0.46751): 100%|██████████| 6/6 [00:11<00:00,  1.95s/it]\n",
      "Training (5219 / 18000 Steps) (loss=0.42554): 100%|██████████| 6/6 [00:12<00:00,  2.02s/it]\n",
      "Training (5225 / 18000 Steps) (loss=0.42278): 100%|██████████| 6/6 [00:12<00:00,  2.00s/it]\n",
      "Training (5231 / 18000 Steps) (loss=0.55437): 100%|██████████| 6/6 [00:11<00:00,  1.98s/it]\n",
      "Training (5237 / 18000 Steps) (loss=0.42274): 100%|██████████| 6/6 [00:11<00:00,  1.97s/it]\n",
      "Training (5243 / 18000 Steps) (loss=0.37719): 100%|██████████| 6/6 [00:12<00:00,  2.03s/it]\n",
      "Training (5249 / 18000 Steps) (loss=0.42525): 100%|██████████| 6/6 [00:11<00:00,  1.98s/it]\n",
      "Training (5255 / 18000 Steps) (loss=0.31895): 100%|██████████| 6/6 [00:11<00:00,  1.92s/it]\n",
      "Training (5261 / 18000 Steps) (loss=0.21376): 100%|██████████| 6/6 [00:12<00:00,  2.00s/it]\n",
      "Training (5267 / 18000 Steps) (loss=0.32884): 100%|██████████| 6/6 [00:12<00:00,  2.09s/it]\n",
      "Training (5273 / 18000 Steps) (loss=0.65772): 100%|██████████| 6/6 [00:11<00:00,  1.95s/it]\n",
      "Training (5279 / 18000 Steps) (loss=0.40336): 100%|██████████| 6/6 [00:11<00:00,  1.95s/it]\n",
      "Training (5285 / 18000 Steps) (loss=0.55620): 100%|██████████| 6/6 [00:11<00:00,  1.96s/it]\n",
      "Training (5291 / 18000 Steps) (loss=0.31368): 100%|██████████| 6/6 [00:12<00:00,  2.01s/it]\n",
      "Training (5297 / 18000 Steps) (loss=0.48528): 100%|██████████| 6/6 [00:11<00:00,  1.98s/it]\n",
      "Validate (5298 / 10 Steps): 100%|██████████| 3/3 [00:11<00:00,  3.96s/it]<00:10,  2.69s/it]\n",
      "Training (5300 / 18000 Steps) (loss=0.46286):  50%|█████     | 3/6 [00:19<00:22,  7.64s/it]"
     ]
    },
    {
     "name": "stdout",
     "output_type": "stream",
     "text": [
      "Model Was Not Saved ! Current Best Avg. Dice: 0.25018376111984253 Current Avg. Dice: 0.22500412166118622 Current Avg. tumor Dice: 0.2766626477241516 Current Avg. lymph Dice: 0.17334561049938202\n"
     ]
    },
    {
     "name": "stderr",
     "output_type": "stream",
     "text": [
      "Training (5303 / 18000 Steps) (loss=0.54972): 100%|██████████| 6/6 [00:23<00:00,  3.96s/it]\n",
      "Training (5309 / 18000 Steps) (loss=0.33409): 100%|██████████| 6/6 [00:11<00:00,  2.00s/it]\n",
      "Training (5315 / 18000 Steps) (loss=0.59935): 100%|██████████| 6/6 [00:11<00:00,  1.92s/it]\n",
      "Training (5321 / 18000 Steps) (loss=0.51148): 100%|██████████| 6/6 [00:11<00:00,  1.96s/it]\n",
      "Training (5327 / 18000 Steps) (loss=0.49579): 100%|██████████| 6/6 [00:11<00:00,  1.97s/it]\n",
      "Training (5333 / 18000 Steps) (loss=0.42388): 100%|██████████| 6/6 [00:11<00:00,  1.98s/it]\n",
      "Training (5339 / 18000 Steps) (loss=0.31326): 100%|██████████| 6/6 [00:11<00:00,  1.97s/it]\n",
      "Training (5345 / 18000 Steps) (loss=0.45804): 100%|██████████| 6/6 [00:11<00:00,  1.96s/it]\n",
      "Training (5351 / 18000 Steps) (loss=0.50198): 100%|██████████| 6/6 [00:11<00:00,  1.98s/it]\n",
      "Training (5357 / 18000 Steps) (loss=0.45700): 100%|██████████| 6/6 [00:11<00:00,  1.98s/it]\n",
      "Training (5363 / 18000 Steps) (loss=0.40322): 100%|██████████| 6/6 [00:12<00:00,  2.01s/it]\n",
      "Training (5369 / 18000 Steps) (loss=0.56324): 100%|██████████| 6/6 [00:11<00:00,  1.97s/it]\n",
      "Training (5375 / 18000 Steps) (loss=0.45160): 100%|██████████| 6/6 [00:11<00:00,  1.97s/it]\n",
      "Training (5381 / 18000 Steps) (loss=0.51655): 100%|██████████| 6/6 [00:11<00:00,  1.92s/it]\n",
      "Training (5387 / 18000 Steps) (loss=0.36365): 100%|██████████| 6/6 [00:11<00:00,  1.98s/it]\n",
      "Training (5393 / 18000 Steps) (loss=0.46625): 100%|██████████| 6/6 [00:11<00:00,  1.97s/it]\n",
      "Training (5399 / 18000 Steps) (loss=0.42954): 100%|██████████| 6/6 [00:12<00:00,  2.02s/it]\n",
      "Validate (5400 / 10 Steps): 100%|██████████| 3/3 [00:12<00:00,  4.04s/it]<?, ?it/s]\n",
      "Training (5400 / 18000 Steps) (loss=0.32370):  17%|█▋        | 1/6 [00:16<01:21, 16.36s/it]"
     ]
    },
    {
     "name": "stdout",
     "output_type": "stream",
     "text": [
      "Model Was Not Saved ! Current Best Avg. Dice: 0.25018376111984253 Current Avg. Dice: 0.21206742525100708 Current Avg. tumor Dice: 0.24875633418560028 Current Avg. lymph Dice: 0.17537851631641388\n"
     ]
    },
    {
     "name": "stderr",
     "output_type": "stream",
     "text": [
      "Training (5405 / 18000 Steps) (loss=0.54961): 100%|██████████| 6/6 [00:23<00:00,  3.97s/it]\n",
      "Training (5411 / 18000 Steps) (loss=0.41401): 100%|██████████| 6/6 [00:11<00:00,  1.96s/it]\n",
      "Training (5417 / 18000 Steps) (loss=0.61572): 100%|██████████| 6/6 [00:12<00:00,  2.04s/it]\n",
      "Training (5423 / 18000 Steps) (loss=0.27954): 100%|██████████| 6/6 [00:12<00:00,  2.03s/it]\n",
      "Training (5429 / 18000 Steps) (loss=0.41471): 100%|██████████| 6/6 [00:12<00:00,  2.01s/it]\n",
      "Training (5435 / 18000 Steps) (loss=0.53744): 100%|██████████| 6/6 [00:12<00:00,  2.05s/it]\n",
      "Training (5441 / 18000 Steps) (loss=0.39774): 100%|██████████| 6/6 [00:12<00:00,  2.03s/it]\n",
      "Training (5447 / 18000 Steps) (loss=0.35694): 100%|██████████| 6/6 [00:11<00:00,  1.98s/it]\n",
      "Training (5453 / 18000 Steps) (loss=0.37284): 100%|██████████| 6/6 [00:11<00:00,  1.98s/it]\n",
      "Training (5459 / 18000 Steps) (loss=0.43327): 100%|██████████| 6/6 [00:12<00:00,  2.01s/it]\n",
      "Training (5465 / 18000 Steps) (loss=0.33384): 100%|██████████| 6/6 [00:11<00:00,  1.99s/it]\n",
      "Training (5471 / 18000 Steps) (loss=0.37665): 100%|██████████| 6/6 [00:12<00:00,  2.01s/it]\n",
      "Training (5477 / 18000 Steps) (loss=0.46639): 100%|██████████| 6/6 [00:11<00:00,  1.96s/it]\n",
      "Training (5483 / 18000 Steps) (loss=0.55184): 100%|██████████| 6/6 [00:11<00:00,  1.97s/it]\n",
      "Training (5489 / 18000 Steps) (loss=0.43364): 100%|██████████| 6/6 [00:11<00:00,  1.99s/it]\n",
      "Training (5495 / 18000 Steps) (loss=0.48182): 100%|██████████| 6/6 [00:11<00:00,  1.98s/it]\n",
      "Validate (5496 / 10 Steps): 100%|██████████| 3/3 [00:12<00:00,  4.01s/it]<00:04,  2.01s/it]\n",
      "Training (5500 / 18000 Steps) (loss=0.42809):  83%|████████▎ | 5/6 [00:22<00:06,  6.22s/it]"
     ]
    },
    {
     "name": "stdout",
     "output_type": "stream",
     "text": [
      "Model Was Not Saved ! Current Best Avg. Dice: 0.25018376111984253 Current Avg. Dice: 0.22600455582141876 Current Avg. tumor Dice: 0.23528249561786652 Current Avg. lymph Dice: 0.2167266458272934\n"
     ]
    },
    {
     "name": "stderr",
     "output_type": "stream",
     "text": [
      "Training (5501 / 18000 Steps) (loss=0.39581): 100%|██████████| 6/6 [00:24<00:00,  4.01s/it]\n",
      "Training (5507 / 18000 Steps) (loss=0.45923): 100%|██████████| 6/6 [00:11<00:00,  1.93s/it]\n",
      "Training (5513 / 18000 Steps) (loss=0.57300): 100%|██████████| 6/6 [00:11<00:00,  2.00s/it]\n",
      "Training (5519 / 18000 Steps) (loss=0.51026): 100%|██████████| 6/6 [00:12<00:00,  2.08s/it]\n",
      "Training (5525 / 18000 Steps) (loss=0.44192): 100%|██████████| 6/6 [00:12<00:00,  2.05s/it]\n",
      "Training (5531 / 18000 Steps) (loss=0.33785): 100%|██████████| 6/6 [00:12<00:00,  2.02s/it]\n",
      "Training (5537 / 18000 Steps) (loss=0.49986): 100%|██████████| 6/6 [00:11<00:00,  1.96s/it]\n",
      "Training (5543 / 18000 Steps) (loss=0.19098): 100%|██████████| 6/6 [00:11<00:00,  1.94s/it]\n",
      "Training (5549 / 18000 Steps) (loss=0.20265): 100%|██████████| 6/6 [00:11<00:00,  1.96s/it]\n",
      "Training (5555 / 18000 Steps) (loss=0.52380): 100%|██████████| 6/6 [00:11<00:00,  1.98s/it]\n",
      "Training (5561 / 18000 Steps) (loss=0.55697): 100%|██████████| 6/6 [00:11<00:00,  1.98s/it]\n",
      "Training (5567 / 18000 Steps) (loss=0.45497): 100%|██████████| 6/6 [00:11<00:00,  1.96s/it]\n",
      "Training (5573 / 18000 Steps) (loss=0.66775): 100%|██████████| 6/6 [00:11<00:00,  1.94s/it]\n",
      "Training (5579 / 18000 Steps) (loss=0.54894): 100%|██████████| 6/6 [00:11<00:00,  1.98s/it]\n",
      "Training (5585 / 18000 Steps) (loss=0.51879): 100%|██████████| 6/6 [00:11<00:00,  1.96s/it]\n",
      "Training (5591 / 18000 Steps) (loss=0.43039): 100%|██████████| 6/6 [00:11<00:00,  1.97s/it]\n",
      "Training (5597 / 18000 Steps) (loss=0.49485): 100%|██████████| 6/6 [00:11<00:00,  1.97s/it]\n",
      "Validate (5598 / 10 Steps): 100%|██████████| 3/3 [00:11<00:00,  3.95s/it]<00:10,  2.74s/it]\n",
      "Training (5600 / 18000 Steps) (loss=0.36493):  50%|█████     | 3/6 [00:20<00:24,  8.06s/it]"
     ]
    },
    {
     "name": "stdout",
     "output_type": "stream",
     "text": [
      "Model Was Saved ! Current Best Avg. Dice: 0.2640021741390228 Current Avg. Dice: 0.2640021741390228 Current Avg. tumor Dice: 0.29952290654182434 Current Avg. lymph Dice: 0.2284814715385437\n"
     ]
    },
    {
     "name": "stderr",
     "output_type": "stream",
     "text": [
      "Training (5603 / 18000 Steps) (loss=0.34564): 100%|██████████| 6/6 [00:24<00:00,  4.13s/it]\n",
      "Training (5609 / 18000 Steps) (loss=0.55201): 100%|██████████| 6/6 [00:11<00:00,  1.97s/it]\n",
      "Training (5615 / 18000 Steps) (loss=0.28516): 100%|██████████| 6/6 [00:12<00:00,  2.00s/it]\n",
      "Training (5621 / 18000 Steps) (loss=0.35769): 100%|██████████| 6/6 [00:11<00:00,  1.99s/it]\n",
      "Training (5627 / 18000 Steps) (loss=0.22417): 100%|██████████| 6/6 [00:12<00:00,  2.04s/it]\n",
      "Training (5633 / 18000 Steps) (loss=0.43476): 100%|██████████| 6/6 [00:11<00:00,  1.95s/it]\n",
      "Training (5639 / 18000 Steps) (loss=0.35416): 100%|██████████| 6/6 [00:11<00:00,  1.96s/it]\n",
      "Training (5645 / 18000 Steps) (loss=0.47740): 100%|██████████| 6/6 [00:11<00:00,  1.95s/it]\n",
      "Training (5651 / 18000 Steps) (loss=0.35475): 100%|██████████| 6/6 [00:12<00:00,  2.00s/it]\n",
      "Training (5657 / 18000 Steps) (loss=0.24370): 100%|██████████| 6/6 [00:11<00:00,  1.95s/it]\n",
      "Training (5663 / 18000 Steps) (loss=0.42047): 100%|██████████| 6/6 [00:11<00:00,  1.95s/it]\n",
      "Training (5669 / 18000 Steps) (loss=0.37931): 100%|██████████| 6/6 [00:11<00:00,  1.91s/it]\n",
      "Training (5675 / 18000 Steps) (loss=0.28098): 100%|██████████| 6/6 [00:12<00:00,  2.00s/it]\n",
      "Training (5681 / 18000 Steps) (loss=0.46284): 100%|██████████| 6/6 [00:11<00:00,  1.99s/it]\n",
      "Training (5687 / 18000 Steps) (loss=0.48294): 100%|██████████| 6/6 [00:12<00:00,  2.01s/it]\n",
      "Training (5693 / 18000 Steps) (loss=0.23929): 100%|██████████| 6/6 [00:11<00:00,  1.99s/it]\n",
      "Training (5699 / 18000 Steps) (loss=0.52037): 100%|██████████| 6/6 [00:12<00:00,  2.03s/it]\n",
      "Validate (5700 / 10 Steps): 100%|██████████| 3/3 [00:11<00:00,  3.96s/it]<?, ?it/s]\n",
      "Training (5700 / 18000 Steps) (loss=0.50019):  17%|█▋        | 1/6 [00:16<01:21, 16.26s/it]"
     ]
    },
    {
     "name": "stdout",
     "output_type": "stream",
     "text": [
      "Model Was Not Saved ! Current Best Avg. Dice: 0.2640021741390228 Current Avg. Dice: 0.23961149156093597 Current Avg. tumor Dice: 0.26945969462394714 Current Avg. lymph Dice: 0.2097632735967636\n"
     ]
    },
    {
     "name": "stderr",
     "output_type": "stream",
     "text": [
      "Training (5705 / 18000 Steps) (loss=0.50771): 100%|██████████| 6/6 [00:23<00:00,  3.99s/it]\n",
      "Training (5711 / 18000 Steps) (loss=0.29230): 100%|██████████| 6/6 [00:11<00:00,  2.00s/it]\n",
      "Training (5717 / 18000 Steps) (loss=0.35004): 100%|██████████| 6/6 [00:12<00:00,  2.02s/it]\n",
      "Training (5723 / 18000 Steps) (loss=0.25399): 100%|██████████| 6/6 [00:11<00:00,  1.97s/it]\n",
      "Training (5729 / 18000 Steps) (loss=0.43930): 100%|██████████| 6/6 [00:12<00:00,  2.03s/it]\n",
      "Training (5735 / 18000 Steps) (loss=0.50906): 100%|██████████| 6/6 [00:12<00:00,  2.05s/it]\n",
      "Training (5741 / 18000 Steps) (loss=0.42841): 100%|██████████| 6/6 [00:11<00:00,  2.00s/it]\n",
      "Training (5747 / 18000 Steps) (loss=0.57983): 100%|██████████| 6/6 [00:11<00:00,  1.99s/it]\n",
      "Training (5753 / 18000 Steps) (loss=0.31012): 100%|██████████| 6/6 [00:11<00:00,  1.99s/it]\n",
      "Training (5759 / 18000 Steps) (loss=0.38820): 100%|██████████| 6/6 [00:12<00:00,  2.01s/it]\n",
      "Training (5765 / 18000 Steps) (loss=0.45410): 100%|██████████| 6/6 [00:11<00:00,  1.96s/it]\n",
      "Training (5771 / 18000 Steps) (loss=0.40170): 100%|██████████| 6/6 [00:12<00:00,  2.04s/it]\n",
      "Training (5777 / 18000 Steps) (loss=0.40851): 100%|██████████| 6/6 [00:12<00:00,  2.03s/it]\n",
      "Training (5783 / 18000 Steps) (loss=0.53232): 100%|██████████| 6/6 [00:12<00:00,  2.09s/it]\n",
      "Training (5789 / 18000 Steps) (loss=0.33548): 100%|██████████| 6/6 [00:11<00:00,  1.98s/it]\n",
      "Training (5795 / 18000 Steps) (loss=0.36694): 100%|██████████| 6/6 [00:11<00:00,  1.97s/it]\n",
      "Validate (5796 / 10 Steps): 100%|██████████| 3/3 [00:12<00:00,  4.02s/it]<00:03,  1.96s/it]\n",
      "Training (5800 / 18000 Steps) (loss=0.31014):  83%|████████▎ | 5/6 [00:22<00:06,  6.20s/it]"
     ]
    },
    {
     "name": "stdout",
     "output_type": "stream",
     "text": [
      "Model Was Not Saved ! Current Best Avg. Dice: 0.2640021741390228 Current Avg. Dice: 0.2355477660894394 Current Avg. tumor Dice: 0.2706187963485718 Current Avg. lymph Dice: 0.2004767507314682\n"
     ]
    },
    {
     "name": "stderr",
     "output_type": "stream",
     "text": [
      "Training (5801 / 18000 Steps) (loss=0.50543): 100%|██████████| 6/6 [00:24<00:00,  4.01s/it]\n",
      "Training (5807 / 18000 Steps) (loss=0.42607): 100%|██████████| 6/6 [00:11<00:00,  2.00s/it]\n",
      "Training (5813 / 18000 Steps) (loss=0.51757): 100%|██████████| 6/6 [00:12<00:00,  2.01s/it]\n",
      "Training (5819 / 18000 Steps) (loss=0.39690): 100%|██████████| 6/6 [00:12<00:00,  2.03s/it]\n",
      "Training (5825 / 18000 Steps) (loss=0.20238): 100%|██████████| 6/6 [00:12<00:00,  2.04s/it]\n",
      "Training (5831 / 18000 Steps) (loss=0.46302): 100%|██████████| 6/6 [00:11<00:00,  1.94s/it]\n",
      "Training (5837 / 18000 Steps) (loss=0.47342): 100%|██████████| 6/6 [00:11<00:00,  1.96s/it]\n",
      "Training (5843 / 18000 Steps) (loss=0.33386): 100%|██████████| 6/6 [00:11<00:00,  1.95s/it]\n",
      "Training (5849 / 18000 Steps) (loss=0.42059): 100%|██████████| 6/6 [00:11<00:00,  1.98s/it]\n",
      "Training (5855 / 18000 Steps) (loss=0.44290): 100%|██████████| 6/6 [00:11<00:00,  1.98s/it]\n",
      "Training (5861 / 18000 Steps) (loss=0.42337): 100%|██████████| 6/6 [00:11<00:00,  1.92s/it]\n",
      "Training (5867 / 18000 Steps) (loss=0.32489): 100%|██████████| 6/6 [00:12<00:00,  2.04s/it]\n",
      "Training (5873 / 18000 Steps) (loss=0.32089): 100%|██████████| 6/6 [00:12<00:00,  2.03s/it]\n",
      "Training (5879 / 18000 Steps) (loss=0.56076): 100%|██████████| 6/6 [00:11<00:00,  1.97s/it]\n",
      "Training (5885 / 18000 Steps) (loss=0.47579): 100%|██████████| 6/6 [00:11<00:00,  1.98s/it]\n",
      "Training (5891 / 18000 Steps) (loss=0.45698): 100%|██████████| 6/6 [00:12<00:00,  2.07s/it]\n",
      "Training (5897 / 18000 Steps) (loss=0.33328): 100%|██████████| 6/6 [00:11<00:00,  1.95s/it]\n",
      "Validate (5898 / 10 Steps): 100%|██████████| 3/3 [00:11<00:00,  3.98s/it]<00:10,  2.67s/it]\n",
      "Training (5900 / 18000 Steps) (loss=0.35025):  50%|█████     | 3/6 [00:19<00:22,  7.64s/it]"
     ]
    },
    {
     "name": "stdout",
     "output_type": "stream",
     "text": [
      "Model Was Not Saved ! Current Best Avg. Dice: 0.2640021741390228 Current Avg. Dice: 0.23367007076740265 Current Avg. tumor Dice: 0.2548557221889496 Current Avg. lymph Dice: 0.21248435974121094\n"
     ]
    },
    {
     "name": "stderr",
     "output_type": "stream",
     "text": [
      "Training (5903 / 18000 Steps) (loss=0.50342): 100%|██████████| 6/6 [00:23<00:00,  3.95s/it]\n",
      "Training (5909 / 18000 Steps) (loss=0.45142): 100%|██████████| 6/6 [00:12<00:00,  2.04s/it]\n",
      "Training (5915 / 18000 Steps) (loss=0.36493): 100%|██████████| 6/6 [00:12<00:00,  2.02s/it]\n",
      "Training (5921 / 18000 Steps) (loss=0.31652): 100%|██████████| 6/6 [00:11<00:00,  1.92s/it]\n",
      "Training (5927 / 18000 Steps) (loss=0.45626): 100%|██████████| 6/6 [00:12<00:00,  2.04s/it]\n",
      "Training (5933 / 18000 Steps) (loss=0.44946): 100%|██████████| 6/6 [00:12<00:00,  2.01s/it]\n",
      "Training (5939 / 18000 Steps) (loss=0.50545): 100%|██████████| 6/6 [00:12<00:00,  2.01s/it]\n",
      "Training (5945 / 18000 Steps) (loss=0.50978): 100%|██████████| 6/6 [00:12<00:00,  2.01s/it]\n",
      "Training (5951 / 18000 Steps) (loss=0.44570): 100%|██████████| 6/6 [00:12<00:00,  2.05s/it]\n",
      "Training (5957 / 18000 Steps) (loss=0.59613): 100%|██████████| 6/6 [00:11<00:00,  1.98s/it]\n",
      "Training (5963 / 18000 Steps) (loss=0.33651): 100%|██████████| 6/6 [00:11<00:00,  1.99s/it]\n",
      "Training (5969 / 18000 Steps) (loss=0.47208): 100%|██████████| 6/6 [00:12<00:00,  2.02s/it]\n",
      "Training (5975 / 18000 Steps) (loss=0.34654): 100%|██████████| 6/6 [00:12<00:00,  2.09s/it]\n",
      "Training (5981 / 18000 Steps) (loss=0.50895): 100%|██████████| 6/6 [00:12<00:00,  2.00s/it]\n",
      "Training (5987 / 18000 Steps) (loss=0.44270): 100%|██████████| 6/6 [00:12<00:00,  2.05s/it]\n",
      "Training (5993 / 18000 Steps) (loss=0.53482): 100%|██████████| 6/6 [00:11<00:00,  1.99s/it]\n",
      "Training (5999 / 18000 Steps) (loss=0.54281): 100%|██████████| 6/6 [00:11<00:00,  1.99s/it]\n",
      "Validate (6000 / 10 Steps): 100%|██████████| 3/3 [00:11<00:00,  3.99s/it]<?, ?it/s]\n",
      "Training (6000 / 18000 Steps) (loss=0.36133):  17%|█▋        | 1/6 [00:16<01:21, 16.26s/it]"
     ]
    },
    {
     "name": "stdout",
     "output_type": "stream",
     "text": [
      "Model Was Not Saved ! Current Best Avg. Dice: 0.2640021741390228 Current Avg. Dice: 0.23519103229045868 Current Avg. tumor Dice: 0.269307941198349 Current Avg. lymph Dice: 0.20107407867908478\n"
     ]
    },
    {
     "name": "stderr",
     "output_type": "stream",
     "text": [
      "Training (6005 / 18000 Steps) (loss=0.44806): 100%|██████████| 6/6 [00:23<00:00,  3.97s/it]\n",
      "Training (6011 / 18000 Steps) (loss=0.36849): 100%|██████████| 6/6 [00:12<00:00,  2.02s/it]\n",
      "Training (6017 / 18000 Steps) (loss=0.56779): 100%|██████████| 6/6 [00:11<00:00,  1.97s/it]\n",
      "Training (6023 / 18000 Steps) (loss=0.56118): 100%|██████████| 6/6 [00:12<00:00,  2.03s/it]\n",
      "Training (6029 / 18000 Steps) (loss=0.56904): 100%|██████████| 6/6 [00:11<00:00,  2.00s/it]\n",
      "Training (6035 / 18000 Steps) (loss=0.43382): 100%|██████████| 6/6 [00:12<00:00,  2.06s/it]\n",
      "Training (6041 / 18000 Steps) (loss=0.29602): 100%|██████████| 6/6 [00:12<00:00,  2.06s/it]\n",
      "Training (6047 / 18000 Steps) (loss=0.37857): 100%|██████████| 6/6 [00:12<00:00,  2.01s/it]\n",
      "Training (6053 / 18000 Steps) (loss=0.35334): 100%|██████████| 6/6 [00:11<00:00,  1.99s/it]\n",
      "Training (6059 / 18000 Steps) (loss=0.37154): 100%|██████████| 6/6 [00:11<00:00,  1.99s/it]\n",
      "Training (6065 / 18000 Steps) (loss=0.48743): 100%|██████████| 6/6 [00:11<00:00,  1.95s/it]\n",
      "Training (6071 / 18000 Steps) (loss=0.35172): 100%|██████████| 6/6 [00:12<00:00,  2.04s/it]\n",
      "Training (6077 / 18000 Steps) (loss=0.24187): 100%|██████████| 6/6 [00:11<00:00,  1.99s/it]\n",
      "Training (6083 / 18000 Steps) (loss=0.33002): 100%|██████████| 6/6 [00:12<00:00,  2.06s/it]\n",
      "Training (6089 / 18000 Steps) (loss=0.65438): 100%|██████████| 6/6 [00:11<00:00,  1.96s/it]\n",
      "Training (6095 / 18000 Steps) (loss=0.34547): 100%|██████████| 6/6 [00:11<00:00,  1.93s/it]\n",
      "Validate (6096 / 10 Steps): 100%|██████████| 3/3 [00:12<00:00,  4.01s/it]<00:03,  1.98s/it]\n",
      "Training (6100 / 18000 Steps) (loss=0.44313):  83%|████████▎ | 5/6 [00:22<00:06,  6.24s/it]"
     ]
    },
    {
     "name": "stdout",
     "output_type": "stream",
     "text": [
      "Model Was Not Saved ! Current Best Avg. Dice: 0.2640021741390228 Current Avg. Dice: 0.2088606357574463 Current Avg. tumor Dice: 0.22211281955242157 Current Avg. lymph Dice: 0.1956084966659546\n"
     ]
    },
    {
     "name": "stderr",
     "output_type": "stream",
     "text": [
      "Training (6101 / 18000 Steps) (loss=0.31545): 100%|██████████| 6/6 [00:23<00:00,  4.00s/it]\n",
      "Training (6107 / 18000 Steps) (loss=0.49823): 100%|██████████| 6/6 [00:12<00:00,  2.02s/it]\n",
      "Training (6113 / 18000 Steps) (loss=0.27736): 100%|██████████| 6/6 [00:11<00:00,  1.98s/it]\n",
      "Training (6119 / 18000 Steps) (loss=0.38827): 100%|██████████| 6/6 [00:12<00:00,  2.03s/it]\n",
      "Training (6125 / 18000 Steps) (loss=0.33825): 100%|██████████| 6/6 [00:11<00:00,  1.97s/it]\n",
      "Training (6131 / 18000 Steps) (loss=0.31660): 100%|██████████| 6/6 [00:11<00:00,  1.97s/it]\n",
      "Training (6137 / 18000 Steps) (loss=0.52679): 100%|██████████| 6/6 [00:11<00:00,  2.00s/it]\n",
      "Training (6143 / 18000 Steps) (loss=0.22803): 100%|██████████| 6/6 [00:12<00:00,  2.09s/it]\n",
      "Training (6149 / 18000 Steps) (loss=0.28853): 100%|██████████| 6/6 [00:11<00:00,  1.96s/it]\n",
      "Training (6155 / 18000 Steps) (loss=0.34311): 100%|██████████| 6/6 [00:11<00:00,  1.98s/it]\n",
      "Training (6161 / 18000 Steps) (loss=0.25740): 100%|██████████| 6/6 [00:11<00:00,  1.98s/it]\n",
      "Training (6167 / 18000 Steps) (loss=0.45699): 100%|██████████| 6/6 [00:12<00:00,  2.03s/it]\n",
      "Training (6173 / 18000 Steps) (loss=0.27534): 100%|██████████| 6/6 [00:11<00:00,  2.00s/it]\n",
      "Training (6179 / 18000 Steps) (loss=0.39003): 100%|██████████| 6/6 [00:12<00:00,  2.00s/it]\n",
      "Training (6185 / 18000 Steps) (loss=0.29667): 100%|██████████| 6/6 [00:11<00:00,  1.95s/it]\n",
      "Training (6191 / 18000 Steps) (loss=0.49539): 100%|██████████| 6/6 [00:11<00:00,  1.99s/it]\n",
      "Training (6197 / 18000 Steps) (loss=0.66608): 100%|██████████| 6/6 [00:11<00:00,  1.97s/it]\n",
      "Validate (6198 / 10 Steps): 100%|██████████| 3/3 [00:12<00:00,  4.00s/it]<00:10,  2.68s/it]\n",
      "Training (6200 / 18000 Steps) (loss=0.39147):  50%|█████     | 3/6 [00:19<00:23,  7.70s/it]"
     ]
    },
    {
     "name": "stdout",
     "output_type": "stream",
     "text": [
      "Model Was Not Saved ! Current Best Avg. Dice: 0.2640021741390228 Current Avg. Dice: 0.22934339940547943 Current Avg. tumor Dice: 0.253353089094162 Current Avg. lymph Dice: 0.20533370971679688\n"
     ]
    },
    {
     "name": "stderr",
     "output_type": "stream",
     "text": [
      "Training (6203 / 18000 Steps) (loss=0.59018): 100%|██████████| 6/6 [00:23<00:00,  3.96s/it]\n",
      "Training (6209 / 18000 Steps) (loss=0.45863): 100%|██████████| 6/6 [00:11<00:00,  1.99s/it]\n",
      "Training (6215 / 18000 Steps) (loss=0.45017): 100%|██████████| 6/6 [00:11<00:00,  1.98s/it]\n",
      "Training (6221 / 18000 Steps) (loss=0.32762): 100%|██████████| 6/6 [00:11<00:00,  2.00s/it]\n",
      "Training (6227 / 18000 Steps) (loss=0.48246): 100%|██████████| 6/6 [00:11<00:00,  1.96s/it]\n",
      "Training (6233 / 18000 Steps) (loss=0.48474): 100%|██████████| 6/6 [00:11<00:00,  1.96s/it]\n",
      "Training (6239 / 18000 Steps) (loss=0.33607): 100%|██████████| 6/6 [00:11<00:00,  1.98s/it]\n",
      "Training (6245 / 18000 Steps) (loss=0.49859): 100%|██████████| 6/6 [00:11<00:00,  2.00s/it]\n",
      "Training (6251 / 18000 Steps) (loss=0.47718): 100%|██████████| 6/6 [00:11<00:00,  2.00s/it]\n",
      "Training (6257 / 18000 Steps) (loss=0.35235): 100%|██████████| 6/6 [00:11<00:00,  1.94s/it]\n",
      "Training (6263 / 18000 Steps) (loss=0.56747): 100%|██████████| 6/6 [00:11<00:00,  1.95s/it]\n",
      "Training (6269 / 18000 Steps) (loss=0.68479): 100%|██████████| 6/6 [00:11<00:00,  1.98s/it]\n",
      "Training (6275 / 18000 Steps) (loss=0.56003): 100%|██████████| 6/6 [00:11<00:00,  1.98s/it]\n",
      "Training (6281 / 18000 Steps) (loss=0.47593): 100%|██████████| 6/6 [00:11<00:00,  1.93s/it]\n",
      "Training (6287 / 18000 Steps) (loss=0.33578): 100%|██████████| 6/6 [00:11<00:00,  1.95s/it]\n",
      "Training (6293 / 18000 Steps) (loss=0.47919): 100%|██████████| 6/6 [00:11<00:00,  1.92s/it]\n",
      "Training (6299 / 18000 Steps) (loss=0.57950): 100%|██████████| 6/6 [00:11<00:00,  1.97s/it]\n",
      "Validate (6300 / 10 Steps): 100%|██████████| 3/3 [00:11<00:00,  3.96s/it]<?, ?it/s]\n",
      "Training (6300 / 18000 Steps) (loss=0.33805):  17%|█▋        | 1/6 [00:16<01:20, 16.15s/it]"
     ]
    },
    {
     "name": "stdout",
     "output_type": "stream",
     "text": [
      "Model Was Not Saved ! Current Best Avg. Dice: 0.2640021741390228 Current Avg. Dice: 0.23030073940753937 Current Avg. tumor Dice: 0.26672616600990295 Current Avg. lymph Dice: 0.19387532770633698\n"
     ]
    },
    {
     "name": "stderr",
     "output_type": "stream",
     "text": [
      "Training (6305 / 18000 Steps) (loss=0.37072): 100%|██████████| 6/6 [00:23<00:00,  3.92s/it]\n",
      "Training (6311 / 18000 Steps) (loss=0.43578): 100%|██████████| 6/6 [00:11<00:00,  1.99s/it]\n",
      "Training (6317 / 18000 Steps) (loss=0.31577): 100%|██████████| 6/6 [00:11<00:00,  1.97s/it]\n",
      "Training (6323 / 18000 Steps) (loss=0.45278): 100%|██████████| 6/6 [00:11<00:00,  1.94s/it]\n",
      "Training (6329 / 18000 Steps) (loss=0.55489): 100%|██████████| 6/6 [00:11<00:00,  1.94s/it]\n",
      "Training (6335 / 18000 Steps) (loss=0.41253): 100%|██████████| 6/6 [00:11<00:00,  1.96s/it]\n",
      "Training (6341 / 18000 Steps) (loss=0.41824): 100%|██████████| 6/6 [00:11<00:00,  1.99s/it]\n",
      "Training (6347 / 18000 Steps) (loss=0.44342): 100%|██████████| 6/6 [00:11<00:00,  1.93s/it]\n",
      "Training (6353 / 18000 Steps) (loss=0.32347): 100%|██████████| 6/6 [00:11<00:00,  1.92s/it]\n",
      "Training (6359 / 18000 Steps) (loss=0.39387): 100%|██████████| 6/6 [00:11<00:00,  1.93s/it]\n",
      "Training (6365 / 18000 Steps) (loss=0.48147): 100%|██████████| 6/6 [00:11<00:00,  1.94s/it]\n",
      "Training (6371 / 18000 Steps) (loss=0.43563): 100%|██████████| 6/6 [00:11<00:00,  1.92s/it]\n",
      "Training (6377 / 18000 Steps) (loss=0.48692): 100%|██████████| 6/6 [00:11<00:00,  1.95s/it]\n",
      "Training (6383 / 18000 Steps) (loss=0.56028): 100%|██████████| 6/6 [00:11<00:00,  1.96s/it]\n",
      "Training (6389 / 18000 Steps) (loss=0.38266): 100%|██████████| 6/6 [00:11<00:00,  1.92s/it]\n",
      "Training (6395 / 18000 Steps) (loss=0.55996): 100%|██████████| 6/6 [00:11<00:00,  1.93s/it]\n",
      "Validate (6396 / 10 Steps): 100%|██████████| 3/3 [00:12<00:00,  4.01s/it]<00:03,  1.93s/it]\n",
      "Training (6400 / 18000 Steps) (loss=0.31437):  83%|████████▎ | 5/6 [00:22<00:06,  6.19s/it]"
     ]
    },
    {
     "name": "stdout",
     "output_type": "stream",
     "text": [
      "Model Was Not Saved ! Current Best Avg. Dice: 0.2640021741390228 Current Avg. Dice: 0.21479539573192596 Current Avg. tumor Dice: 0.2559088170528412 Current Avg. lymph Dice: 0.17368192970752716\n"
     ]
    },
    {
     "name": "stderr",
     "output_type": "stream",
     "text": [
      "Training (6401 / 18000 Steps) (loss=0.53175): 100%|██████████| 6/6 [00:23<00:00,  3.96s/it]\n",
      "Training (6407 / 18000 Steps) (loss=0.43707): 100%|██████████| 6/6 [00:11<00:00,  1.94s/it]\n",
      "Training (6413 / 18000 Steps) (loss=0.44216): 100%|██████████| 6/6 [00:11<00:00,  1.93s/it]\n",
      "Training (6419 / 18000 Steps) (loss=0.36656): 100%|██████████| 6/6 [00:11<00:00,  2.00s/it]\n",
      "Training (6425 / 18000 Steps) (loss=0.45983): 100%|██████████| 6/6 [00:11<00:00,  1.93s/it]\n",
      "Training (6431 / 18000 Steps) (loss=0.58400): 100%|██████████| 6/6 [00:11<00:00,  1.90s/it]\n",
      "Training (6437 / 18000 Steps) (loss=0.52844): 100%|██████████| 6/6 [00:11<00:00,  1.93s/it]\n",
      "Training (6443 / 18000 Steps) (loss=0.54709): 100%|██████████| 6/6 [00:11<00:00,  1.96s/it]\n",
      "Training (6449 / 18000 Steps) (loss=0.60522): 100%|██████████| 6/6 [00:11<00:00,  1.94s/it]\n",
      "Training (6455 / 18000 Steps) (loss=0.43264): 100%|██████████| 6/6 [00:11<00:00,  1.88s/it]\n",
      "Training (6461 / 18000 Steps) (loss=0.63823): 100%|██████████| 6/6 [00:11<00:00,  1.92s/it]\n",
      "Training (6467 / 18000 Steps) (loss=0.54267): 100%|██████████| 6/6 [00:11<00:00,  1.94s/it]\n",
      "Training (6473 / 18000 Steps) (loss=0.47573): 100%|██████████| 6/6 [00:11<00:00,  1.99s/it]\n",
      "Training (6479 / 18000 Steps) (loss=0.59421): 100%|██████████| 6/6 [00:11<00:00,  1.94s/it]\n",
      "Training (6485 / 18000 Steps) (loss=0.41369): 100%|██████████| 6/6 [00:11<00:00,  1.92s/it]\n",
      "Training (6491 / 18000 Steps) (loss=0.41159): 100%|██████████| 6/6 [00:11<00:00,  1.91s/it]\n",
      "Training (6497 / 18000 Steps) (loss=0.56595): 100%|██████████| 6/6 [00:11<00:00,  1.93s/it]\n",
      "Validate (6498 / 10 Steps): 100%|██████████| 3/3 [00:11<00:00,  3.93s/it]<00:10,  2.70s/it]\n",
      "Training (6500 / 18000 Steps) (loss=0.36327):  50%|█████     | 3/6 [00:19<00:22,  7.58s/it]"
     ]
    },
    {
     "name": "stdout",
     "output_type": "stream",
     "text": [
      "Model Was Not Saved ! Current Best Avg. Dice: 0.2640021741390228 Current Avg. Dice: 0.1976757049560547 Current Avg. tumor Dice: 0.2774580419063568 Current Avg. lymph Dice: 0.11789337545633316\n"
     ]
    },
    {
     "name": "stderr",
     "output_type": "stream",
     "text": [
      "Training (6503 / 18000 Steps) (loss=0.65888): 100%|██████████| 6/6 [00:23<00:00,  3.97s/it]\n",
      "Training (6509 / 18000 Steps) (loss=0.44965): 100%|██████████| 6/6 [00:11<00:00,  1.96s/it]\n",
      "Training (6515 / 18000 Steps) (loss=0.36865): 100%|██████████| 6/6 [00:11<00:00,  1.92s/it]\n",
      "Training (6521 / 18000 Steps) (loss=0.42120): 100%|██████████| 6/6 [00:11<00:00,  1.94s/it]\n",
      "Training (6527 / 18000 Steps) (loss=0.35767): 100%|██████████| 6/6 [00:11<00:00,  1.97s/it]\n",
      "Training (6533 / 18000 Steps) (loss=0.43560): 100%|██████████| 6/6 [00:11<00:00,  1.92s/it]\n",
      "Training (6539 / 18000 Steps) (loss=0.33524): 100%|██████████| 6/6 [00:11<00:00,  1.94s/it]\n",
      "Training (6545 / 18000 Steps) (loss=0.30742): 100%|██████████| 6/6 [00:11<00:00,  1.91s/it]\n",
      "Training (6551 / 18000 Steps) (loss=0.30633): 100%|██████████| 6/6 [00:11<00:00,  1.93s/it]\n",
      "Training (6557 / 18000 Steps) (loss=0.35767): 100%|██████████| 6/6 [00:11<00:00,  1.94s/it]\n",
      "Training (6563 / 18000 Steps) (loss=0.40268): 100%|██████████| 6/6 [00:11<00:00,  1.95s/it]\n",
      "Training (6569 / 18000 Steps) (loss=0.33185): 100%|██████████| 6/6 [00:11<00:00,  1.96s/it]\n",
      "Training (6575 / 18000 Steps) (loss=0.35199): 100%|██████████| 6/6 [00:11<00:00,  1.94s/it]\n",
      "Training (6581 / 18000 Steps) (loss=0.16751): 100%|██████████| 6/6 [00:11<00:00,  1.96s/it]\n",
      "Training (6587 / 18000 Steps) (loss=0.54989): 100%|██████████| 6/6 [00:11<00:00,  1.91s/it]\n",
      "Training (6593 / 18000 Steps) (loss=0.29919): 100%|██████████| 6/6 [00:11<00:00,  1.92s/it]\n",
      "Training (6599 / 18000 Steps) (loss=0.59962): 100%|██████████| 6/6 [00:11<00:00,  1.95s/it]\n",
      "Validate (6600 / 10 Steps): 100%|██████████| 3/3 [00:11<00:00,  3.98s/it]<?, ?it/s]\n",
      "Training (6600 / 18000 Steps) (loss=0.44874):  17%|█▋        | 1/6 [00:16<01:21, 16.29s/it]"
     ]
    },
    {
     "name": "stdout",
     "output_type": "stream",
     "text": [
      "Model Was Not Saved ! Current Best Avg. Dice: 0.2640021741390228 Current Avg. Dice: 0.20392930507659912 Current Avg. tumor Dice: 0.2376188039779663 Current Avg. lymph Dice: 0.17023979127407074\n"
     ]
    },
    {
     "name": "stderr",
     "output_type": "stream",
     "text": [
      "Training (6605 / 18000 Steps) (loss=0.37873): 100%|██████████| 6/6 [00:23<00:00,  3.94s/it]\n",
      "Training (6611 / 18000 Steps) (loss=0.40970): 100%|██████████| 6/6 [00:11<00:00,  1.97s/it]\n",
      "Training (6617 / 18000 Steps) (loss=0.59054): 100%|██████████| 6/6 [00:11<00:00,  1.95s/it]\n",
      "Training (6623 / 18000 Steps) (loss=0.54545): 100%|██████████| 6/6 [00:11<00:00,  1.94s/it]\n",
      "Training (6629 / 18000 Steps) (loss=0.25043): 100%|██████████| 6/6 [00:11<00:00,  1.91s/it]\n",
      "Training (6635 / 18000 Steps) (loss=0.31191): 100%|██████████| 6/6 [00:11<00:00,  1.95s/it]\n",
      "Training (6641 / 18000 Steps) (loss=0.53782): 100%|██████████| 6/6 [00:11<00:00,  1.95s/it]\n",
      "Training (6647 / 18000 Steps) (loss=0.29922): 100%|██████████| 6/6 [00:11<00:00,  1.94s/it]\n",
      "Training (6653 / 18000 Steps) (loss=0.36678): 100%|██████████| 6/6 [00:11<00:00,  1.91s/it]\n",
      "Training (6659 / 18000 Steps) (loss=0.55666): 100%|██████████| 6/6 [00:11<00:00,  1.93s/it]\n",
      "Training (6665 / 18000 Steps) (loss=0.43668): 100%|██████████| 6/6 [00:11<00:00,  2.00s/it]\n",
      "Training (6671 / 18000 Steps) (loss=0.52481): 100%|██████████| 6/6 [00:11<00:00,  1.93s/it]\n",
      "Training (6677 / 18000 Steps) (loss=0.36540): 100%|██████████| 6/6 [00:11<00:00,  1.95s/it]\n",
      "Training (6683 / 18000 Steps) (loss=0.26351): 100%|██████████| 6/6 [00:11<00:00,  1.93s/it]\n",
      "Training (6689 / 18000 Steps) (loss=0.30639): 100%|██████████| 6/6 [00:11<00:00,  1.96s/it]\n",
      "Training (6695 / 18000 Steps) (loss=0.60645): 100%|██████████| 6/6 [00:11<00:00,  1.93s/it]\n",
      "Validate (6696 / 10 Steps): 100%|██████████| 3/3 [00:11<00:00,  3.95s/it]<00:03,  1.91s/it]\n",
      "Training (6700 / 18000 Steps) (loss=0.33982):  83%|████████▎ | 5/6 [00:22<00:06,  6.08s/it]"
     ]
    },
    {
     "name": "stdout",
     "output_type": "stream",
     "text": [
      "Model Was Not Saved ! Current Best Avg. Dice: 0.2640021741390228 Current Avg. Dice: 0.2194567173719406 Current Avg. tumor Dice: 0.27473321557044983 Current Avg. lymph Dice: 0.164180189371109\n"
     ]
    },
    {
     "name": "stderr",
     "output_type": "stream",
     "text": [
      "Training (6701 / 18000 Steps) (loss=0.57782): 100%|██████████| 6/6 [00:23<00:00,  3.91s/it]\n",
      "Training (6707 / 18000 Steps) (loss=0.41595): 100%|██████████| 6/6 [00:11<00:00,  1.95s/it]\n",
      "Training (6713 / 18000 Steps) (loss=0.35171): 100%|██████████| 6/6 [00:11<00:00,  1.93s/it]\n",
      "Training (6719 / 18000 Steps) (loss=0.54694): 100%|██████████| 6/6 [00:11<00:00,  1.94s/it]\n",
      "Training (6725 / 18000 Steps) (loss=0.48587): 100%|██████████| 6/6 [00:11<00:00,  1.94s/it]\n",
      "Training (6731 / 18000 Steps) (loss=0.49127): 100%|██████████| 6/6 [00:11<00:00,  1.96s/it]\n",
      "Training (6737 / 18000 Steps) (loss=0.33296): 100%|██████████| 6/6 [00:11<00:00,  1.92s/it]\n",
      "Training (6743 / 18000 Steps) (loss=0.28861): 100%|██████████| 6/6 [00:11<00:00,  1.94s/it]\n",
      "Training (6749 / 18000 Steps) (loss=0.39706): 100%|██████████| 6/6 [00:11<00:00,  1.95s/it]\n",
      "Training (6755 / 18000 Steps) (loss=0.57230): 100%|██████████| 6/6 [00:11<00:00,  1.91s/it]\n",
      "Training (6761 / 18000 Steps) (loss=0.39623): 100%|██████████| 6/6 [00:11<00:00,  1.94s/it]\n",
      "Training (6767 / 18000 Steps) (loss=0.31586): 100%|██████████| 6/6 [00:11<00:00,  1.98s/it]\n",
      "Training (6773 / 18000 Steps) (loss=0.44237): 100%|██████████| 6/6 [00:11<00:00,  1.97s/it]\n",
      "Training (6779 / 18000 Steps) (loss=0.54352): 100%|██████████| 6/6 [00:11<00:00,  1.96s/it]\n",
      "Training (6785 / 18000 Steps) (loss=0.26566): 100%|██████████| 6/6 [00:11<00:00,  1.93s/it]\n",
      "Training (6791 / 18000 Steps) (loss=0.58691): 100%|██████████| 6/6 [00:11<00:00,  1.94s/it]\n",
      "Training (6797 / 18000 Steps) (loss=0.58229): 100%|██████████| 6/6 [00:11<00:00,  1.97s/it]\n",
      "Validate (6798 / 10 Steps): 100%|██████████| 3/3 [00:11<00:00,  3.94s/it]<00:10,  2.63s/it]\n",
      "Training (6800 / 18000 Steps) (loss=0.28117):  50%|█████     | 3/6 [00:19<00:22,  7.56s/it]"
     ]
    },
    {
     "name": "stdout",
     "output_type": "stream",
     "text": [
      "Model Was Not Saved ! Current Best Avg. Dice: 0.2640021741390228 Current Avg. Dice: 0.216577410697937 Current Avg. tumor Dice: 0.2569226324558258 Current Avg. lymph Dice: 0.17623217403888702\n"
     ]
    },
    {
     "name": "stderr",
     "output_type": "stream",
     "text": [
      "Training (6803 / 18000 Steps) (loss=0.45914): 100%|██████████| 6/6 [00:23<00:00,  3.91s/it]\n",
      "Training (6809 / 18000 Steps) (loss=0.39709): 100%|██████████| 6/6 [00:11<00:00,  1.94s/it]\n",
      "Training (6815 / 18000 Steps) (loss=0.40338): 100%|██████████| 6/6 [00:11<00:00,  1.95s/it]\n",
      "Training (6821 / 18000 Steps) (loss=0.45476): 100%|██████████| 6/6 [00:11<00:00,  1.95s/it]\n",
      "Training (6827 / 18000 Steps) (loss=0.48817): 100%|██████████| 6/6 [00:11<00:00,  1.91s/it]\n",
      "Training (6833 / 18000 Steps) (loss=0.48138): 100%|██████████| 6/6 [00:11<00:00,  1.93s/it]\n",
      "Training (6839 / 18000 Steps) (loss=0.41462): 100%|██████████| 6/6 [00:11<00:00,  1.96s/it]\n",
      "Training (6845 / 18000 Steps) (loss=0.41910): 100%|██████████| 6/6 [00:11<00:00,  1.95s/it]\n",
      "Training (6851 / 18000 Steps) (loss=0.41140): 100%|██████████| 6/6 [00:11<00:00,  1.92s/it]\n",
      "Training (6857 / 18000 Steps) (loss=0.31208): 100%|██████████| 6/6 [00:11<00:00,  1.95s/it]\n",
      "Training (6863 / 18000 Steps) (loss=0.57791): 100%|██████████| 6/6 [00:11<00:00,  1.98s/it]\n",
      "Training (6869 / 18000 Steps) (loss=0.45763): 100%|██████████| 6/6 [00:11<00:00,  1.95s/it]\n",
      "Training (6875 / 18000 Steps) (loss=0.30000): 100%|██████████| 6/6 [00:11<00:00,  1.95s/it]\n",
      "Training (6881 / 18000 Steps) (loss=0.29570): 100%|██████████| 6/6 [00:11<00:00,  1.96s/it]\n",
      "Training (6887 / 18000 Steps) (loss=0.45585): 100%|██████████| 6/6 [00:11<00:00,  1.89s/it]\n",
      "Training (6893 / 18000 Steps) (loss=0.36364): 100%|██████████| 6/6 [00:11<00:00,  1.93s/it]\n",
      "Training (6899 / 18000 Steps) (loss=0.44472): 100%|██████████| 6/6 [00:11<00:00,  1.93s/it]\n",
      "Validate (6900 / 10 Steps): 100%|██████████| 3/3 [00:11<00:00,  3.97s/it]<?, ?it/s]\n",
      "Training (6900 / 18000 Steps) (loss=0.42082):  17%|█▋        | 1/6 [00:16<01:21, 16.30s/it]"
     ]
    },
    {
     "name": "stdout",
     "output_type": "stream",
     "text": [
      "Model Was Not Saved ! Current Best Avg. Dice: 0.2640021741390228 Current Avg. Dice: 0.2230924367904663 Current Avg. tumor Dice: 0.27498528361320496 Current Avg. lymph Dice: 0.17119957506656647\n"
     ]
    },
    {
     "name": "stderr",
     "output_type": "stream",
     "text": [
      "Training (6905 / 18000 Steps) (loss=0.30453): 100%|██████████| 6/6 [00:23<00:00,  3.96s/it]\n",
      "Training (6911 / 18000 Steps) (loss=0.55324): 100%|██████████| 6/6 [00:11<00:00,  1.93s/it]\n",
      "Training (6917 / 18000 Steps) (loss=0.49846): 100%|██████████| 6/6 [00:11<00:00,  1.99s/it]\n",
      "Training (6923 / 18000 Steps) (loss=0.43594): 100%|██████████| 6/6 [00:11<00:00,  1.95s/it]\n",
      "Training (6929 / 18000 Steps) (loss=0.39754): 100%|██████████| 6/6 [00:11<00:00,  1.94s/it]\n",
      "Training (6935 / 18000 Steps) (loss=0.53200): 100%|██████████| 6/6 [00:11<00:00,  1.93s/it]\n",
      "Training (6941 / 18000 Steps) (loss=0.31442): 100%|██████████| 6/6 [00:11<00:00,  1.98s/it]\n",
      "Training (6947 / 18000 Steps) (loss=0.45992): 100%|██████████| 6/6 [00:11<00:00,  1.94s/it]\n",
      "Training (6953 / 18000 Steps) (loss=0.32363): 100%|██████████| 6/6 [00:11<00:00,  1.90s/it]\n",
      "Training (6959 / 18000 Steps) (loss=0.16814): 100%|██████████| 6/6 [00:11<00:00,  1.93s/it]\n",
      "Training (6965 / 18000 Steps) (loss=0.54377): 100%|██████████| 6/6 [00:11<00:00,  1.93s/it]\n",
      "Training (6971 / 18000 Steps) (loss=0.42424): 100%|██████████| 6/6 [00:12<00:00,  2.01s/it]\n",
      "Training (6977 / 18000 Steps) (loss=0.32484): 100%|██████████| 6/6 [00:11<00:00,  1.92s/it]\n",
      "Training (6983 / 18000 Steps) (loss=0.34052): 100%|██████████| 6/6 [00:11<00:00,  1.92s/it]\n",
      "Training (6989 / 18000 Steps) (loss=0.53871): 100%|██████████| 6/6 [00:11<00:00,  1.91s/it]\n",
      "Training (6995 / 18000 Steps) (loss=0.60396): 100%|██████████| 6/6 [00:11<00:00,  1.99s/it]\n",
      "Validate (6996 / 10 Steps): 100%|██████████| 3/3 [00:11<00:00,  3.96s/it]<00:03,  1.91s/it]\n",
      "Training (7000 / 18000 Steps) (loss=0.43684):  83%|████████▎ | 5/6 [00:22<00:06,  6.10s/it]"
     ]
    },
    {
     "name": "stdout",
     "output_type": "stream",
     "text": [
      "Model Was Not Saved ! Current Best Avg. Dice: 0.2640021741390228 Current Avg. Dice: 0.2174844890832901 Current Avg. tumor Dice: 0.26273825764656067 Current Avg. lymph Dice: 0.17223070561885834\n"
     ]
    },
    {
     "name": "stderr",
     "output_type": "stream",
     "text": [
      "Training (7001 / 18000 Steps) (loss=0.36918): 100%|██████████| 6/6 [00:23<00:00,  3.90s/it]\n",
      "Training (7007 / 18000 Steps) (loss=0.44001): 100%|██████████| 6/6 [00:11<00:00,  1.93s/it]\n",
      "Training (7013 / 18000 Steps) (loss=0.48897): 100%|██████████| 6/6 [00:11<00:00,  1.92s/it]\n",
      "Training (7019 / 18000 Steps) (loss=0.41178): 100%|██████████| 6/6 [00:11<00:00,  1.94s/it]\n",
      "Training (7025 / 18000 Steps) (loss=0.65978): 100%|██████████| 6/6 [00:11<00:00,  1.92s/it]\n",
      "Training (7031 / 18000 Steps) (loss=0.41592): 100%|██████████| 6/6 [00:11<00:00,  1.96s/it]\n",
      "Training (7037 / 18000 Steps) (loss=0.45419): 100%|██████████| 6/6 [00:11<00:00,  1.95s/it]\n",
      "Training (7043 / 18000 Steps) (loss=0.67187): 100%|██████████| 6/6 [00:11<00:00,  1.92s/it]\n",
      "Training (7049 / 18000 Steps) (loss=0.33235): 100%|██████████| 6/6 [00:11<00:00,  1.92s/it]\n",
      "Training (7055 / 18000 Steps) (loss=0.49434): 100%|██████████| 6/6 [00:11<00:00,  1.96s/it]\n",
      "Training (7061 / 18000 Steps) (loss=0.42262): 100%|██████████| 6/6 [00:11<00:00,  1.92s/it]\n",
      "Training (7067 / 18000 Steps) (loss=0.21724): 100%|██████████| 6/6 [00:11<00:00,  1.97s/it]\n",
      "Training (7073 / 18000 Steps) (loss=0.35192): 100%|██████████| 6/6 [00:11<00:00,  1.93s/it]\n",
      "Training (7079 / 18000 Steps) (loss=0.31093): 100%|██████████| 6/6 [00:11<00:00,  1.98s/it]\n",
      "Training (7085 / 18000 Steps) (loss=0.27466): 100%|██████████| 6/6 [00:11<00:00,  1.92s/it]\n",
      "Training (7091 / 18000 Steps) (loss=0.42489): 100%|██████████| 6/6 [00:11<00:00,  1.91s/it]\n",
      "Training (7097 / 18000 Steps) (loss=0.35116): 100%|██████████| 6/6 [00:11<00:00,  1.91s/it]\n",
      "Validate (7098 / 10 Steps): 100%|██████████| 3/3 [00:11<00:00,  3.93s/it]<00:11,  2.79s/it]\n",
      "Training (7100 / 18000 Steps) (loss=0.40769):  50%|█████     | 3/6 [00:19<00:22,  7.64s/it]"
     ]
    },
    {
     "name": "stdout",
     "output_type": "stream",
     "text": [
      "Model Was Not Saved ! Current Best Avg. Dice: 0.2640021741390228 Current Avg. Dice: 0.17951041460037231 Current Avg. tumor Dice: 0.22811859846115112 Current Avg. lymph Dice: 0.1309022307395935\n"
     ]
    },
    {
     "name": "stderr",
     "output_type": "stream",
     "text": [
      "Training (7103 / 18000 Steps) (loss=0.40672): 100%|██████████| 6/6 [00:23<00:00,  3.96s/it]\n",
      "Training (7109 / 18000 Steps) (loss=0.31824): 100%|██████████| 6/6 [00:11<00:00,  1.92s/it]\n",
      "Training (7115 / 18000 Steps) (loss=0.49361): 100%|██████████| 6/6 [00:11<00:00,  1.97s/it]\n",
      "Training (7121 / 18000 Steps) (loss=0.36707): 100%|██████████| 6/6 [00:11<00:00,  1.99s/it]\n",
      "Training (7127 / 18000 Steps) (loss=0.43393): 100%|██████████| 6/6 [00:11<00:00,  1.91s/it]\n",
      "Training (7133 / 18000 Steps) (loss=0.48702): 100%|██████████| 6/6 [00:11<00:00,  1.91s/it]\n",
      "Training (7139 / 18000 Steps) (loss=0.39580): 100%|██████████| 6/6 [00:11<00:00,  1.92s/it]\n",
      "Training (7145 / 18000 Steps) (loss=0.37897): 100%|██████████| 6/6 [00:11<00:00,  1.94s/it]\n",
      "Training (7151 / 18000 Steps) (loss=0.38287): 100%|██████████| 6/6 [00:11<00:00,  1.89s/it]\n",
      "Training (7157 / 18000 Steps) (loss=0.46292): 100%|██████████| 6/6 [00:11<00:00,  1.90s/it]\n",
      "Training (7163 / 18000 Steps) (loss=0.62640): 100%|██████████| 6/6 [00:12<00:00,  2.05s/it]\n",
      "Training (7169 / 18000 Steps) (loss=0.50627): 100%|██████████| 6/6 [00:11<00:00,  1.95s/it]\n",
      "Training (7175 / 18000 Steps) (loss=0.20683): 100%|██████████| 6/6 [00:11<00:00,  1.94s/it]\n",
      "Training (7181 / 18000 Steps) (loss=0.38245): 100%|██████████| 6/6 [00:11<00:00,  1.92s/it]\n",
      "Training (7187 / 18000 Steps) (loss=0.31040): 100%|██████████| 6/6 [00:11<00:00,  1.98s/it]\n",
      "Training (7193 / 18000 Steps) (loss=0.56979): 100%|██████████| 6/6 [00:11<00:00,  1.90s/it]\n",
      "Training (7199 / 18000 Steps) (loss=0.32264): 100%|██████████| 6/6 [00:11<00:00,  1.93s/it]\n",
      "Validate (7200 / 10 Steps): 100%|██████████| 3/3 [00:12<00:00,  4.04s/it]<?, ?it/s]\n",
      "Training (7200 / 18000 Steps) (loss=0.44869):  17%|█▋        | 1/6 [00:16<01:22, 16.50s/it]"
     ]
    },
    {
     "name": "stdout",
     "output_type": "stream",
     "text": [
      "Model Was Not Saved ! Current Best Avg. Dice: 0.2640021741390228 Current Avg. Dice: 0.23116447031497955 Current Avg. tumor Dice: 0.2522132396697998 Current Avg. lymph Dice: 0.2101157158613205\n"
     ]
    },
    {
     "name": "stderr",
     "output_type": "stream",
     "text": [
      "Training (7205 / 18000 Steps) (loss=0.32130): 100%|██████████| 6/6 [00:23<00:00,  3.98s/it]\n",
      "Training (7211 / 18000 Steps) (loss=0.34908): 100%|██████████| 6/6 [00:11<00:00,  1.96s/it]\n",
      "Training (7217 / 18000 Steps) (loss=0.55268): 100%|██████████| 6/6 [00:11<00:00,  1.94s/it]\n",
      "Training (7223 / 18000 Steps) (loss=0.39942): 100%|██████████| 6/6 [00:11<00:00,  1.91s/it]\n",
      "Training (7229 / 18000 Steps) (loss=0.25252): 100%|██████████| 6/6 [00:12<00:00,  2.02s/it]\n",
      "Training (7235 / 18000 Steps) (loss=0.29105): 100%|██████████| 6/6 [00:11<00:00,  1.90s/it]\n",
      "Training (7241 / 18000 Steps) (loss=0.32813): 100%|██████████| 6/6 [00:11<00:00,  1.93s/it]\n",
      "Training (7247 / 18000 Steps) (loss=0.43219): 100%|██████████| 6/6 [00:11<00:00,  1.91s/it]\n",
      "Training (7253 / 18000 Steps) (loss=0.41654): 100%|██████████| 6/6 [00:11<00:00,  2.00s/it]\n",
      "Training (7259 / 18000 Steps) (loss=0.50597): 100%|██████████| 6/6 [00:11<00:00,  1.99s/it]\n",
      "Training (7265 / 18000 Steps) (loss=0.49276): 100%|██████████| 6/6 [00:11<00:00,  1.91s/it]\n",
      "Training (7271 / 18000 Steps) (loss=0.57106): 100%|██████████| 6/6 [00:11<00:00,  1.92s/it]\n",
      "Training (7277 / 18000 Steps) (loss=0.44444): 100%|██████████| 6/6 [00:11<00:00,  1.94s/it]\n",
      "Training (7283 / 18000 Steps) (loss=0.41999): 100%|██████████| 6/6 [00:11<00:00,  1.92s/it]\n",
      "Training (7289 / 18000 Steps) (loss=0.58721): 100%|██████████| 6/6 [00:11<00:00,  1.94s/it]\n",
      "Training (7295 / 18000 Steps) (loss=0.36433): 100%|██████████| 6/6 [00:11<00:00,  1.99s/it]\n",
      "Validate (7296 / 10 Steps): 100%|██████████| 3/3 [00:11<00:00,  3.96s/it]<00:03,  1.93s/it]\n",
      "Training (7300 / 18000 Steps) (loss=0.23080):  83%|████████▎ | 5/6 [00:22<00:06,  6.09s/it]"
     ]
    },
    {
     "name": "stdout",
     "output_type": "stream",
     "text": [
      "Model Was Not Saved ! Current Best Avg. Dice: 0.2640021741390228 Current Avg. Dice: 0.21369242668151855 Current Avg. tumor Dice: 0.2278335690498352 Current Avg. lymph Dice: 0.1995512694120407\n"
     ]
    },
    {
     "name": "stderr",
     "output_type": "stream",
     "text": [
      "Training (7301 / 18000 Steps) (loss=0.42924): 100%|██████████| 6/6 [00:23<00:00,  3.92s/it]\n",
      "Training (7307 / 18000 Steps) (loss=0.47039): 100%|██████████| 6/6 [00:11<00:00,  1.92s/it]\n",
      "Training (7313 / 18000 Steps) (loss=0.42813): 100%|██████████| 6/6 [00:12<00:00,  2.03s/it]\n",
      "Training (7319 / 18000 Steps) (loss=0.22572): 100%|██████████| 6/6 [00:11<00:00,  1.94s/it]\n",
      "Training (7325 / 18000 Steps) (loss=0.22375): 100%|██████████| 6/6 [00:11<00:00,  1.92s/it]\n",
      "Training (7331 / 18000 Steps) (loss=0.42021): 100%|██████████| 6/6 [00:11<00:00,  1.91s/it]\n",
      "Training (7337 / 18000 Steps) (loss=0.39341): 100%|██████████| 6/6 [00:11<00:00,  1.93s/it]\n",
      "Training (7343 / 18000 Steps) (loss=0.47030): 100%|██████████| 6/6 [00:11<00:00,  1.95s/it]\n",
      "Training (7349 / 18000 Steps) (loss=0.35494): 100%|██████████| 6/6 [00:11<00:00,  1.92s/it]\n",
      "Training (7355 / 18000 Steps) (loss=0.33318): 100%|██████████| 6/6 [00:11<00:00,  1.92s/it]\n",
      "Training (7361 / 18000 Steps) (loss=0.41400): 100%|██████████| 6/6 [00:12<00:00,  2.02s/it]\n",
      "Training (7367 / 18000 Steps) (loss=0.37105): 100%|██████████| 6/6 [00:11<00:00,  1.91s/it]\n",
      "Training (7373 / 18000 Steps) (loss=0.43567): 100%|██████████| 6/6 [00:11<00:00,  1.93s/it]\n",
      "Training (7379 / 18000 Steps) (loss=0.16771): 100%|██████████| 6/6 [00:11<00:00,  1.93s/it]\n",
      "Training (7385 / 18000 Steps) (loss=0.48210): 100%|██████████| 6/6 [00:11<00:00,  1.95s/it]\n",
      "Training (7391 / 18000 Steps) (loss=0.46471): 100%|██████████| 6/6 [00:11<00:00,  1.91s/it]\n",
      "Training (7397 / 18000 Steps) (loss=0.48783): 100%|██████████| 6/6 [00:11<00:00,  1.92s/it]\n",
      "Validate (7398 / 10 Steps): 100%|██████████| 3/3 [00:11<00:00,  3.98s/it]<00:10,  2.71s/it]\n",
      "Training (7400 / 18000 Steps) (loss=0.39928):  50%|█████     | 3/6 [00:19<00:23,  7.68s/it]"
     ]
    },
    {
     "name": "stdout",
     "output_type": "stream",
     "text": [
      "Model Was Not Saved ! Current Best Avg. Dice: 0.2640021741390228 Current Avg. Dice: 0.18687015771865845 Current Avg. tumor Dice: 0.23480837047100067 Current Avg. lymph Dice: 0.13893194496631622\n"
     ]
    },
    {
     "name": "stderr",
     "output_type": "stream",
     "text": [
      "Training (7403 / 18000 Steps) (loss=0.35234): 100%|██████████| 6/6 [00:23<00:00,  3.96s/it]\n",
      "Training (7409 / 18000 Steps) (loss=0.48680): 100%|██████████| 6/6 [00:11<00:00,  1.96s/it]\n",
      "Training (7415 / 18000 Steps) (loss=0.22897): 100%|██████████| 6/6 [00:11<00:00,  1.99s/it]\n",
      "Training (7421 / 18000 Steps) (loss=0.33300): 100%|██████████| 6/6 [00:11<00:00,  1.93s/it]\n",
      "Training (7427 / 18000 Steps) (loss=0.48434): 100%|██████████| 6/6 [00:11<00:00,  1.94s/it]\n",
      "Training (7433 / 18000 Steps) (loss=0.28501): 100%|██████████| 6/6 [00:11<00:00,  1.92s/it]\n",
      "Training (7439 / 18000 Steps) (loss=0.47671): 100%|██████████| 6/6 [00:11<00:00,  1.92s/it]\n",
      "Training (7445 / 18000 Steps) (loss=0.53751): 100%|██████████| 6/6 [00:11<00:00,  1.93s/it]\n",
      "Training (7451 / 18000 Steps) (loss=0.54566): 100%|██████████| 6/6 [00:11<00:00,  1.94s/it]\n",
      "Training (7457 / 18000 Steps) (loss=0.44199): 100%|██████████| 6/6 [00:11<00:00,  1.91s/it]\n",
      "Training (7463 / 18000 Steps) (loss=0.53047): 100%|██████████| 6/6 [00:11<00:00,  1.95s/it]\n",
      "Training (7469 / 18000 Steps) (loss=0.47280): 100%|██████████| 6/6 [00:11<00:00,  1.94s/it]\n",
      "Training (7475 / 18000 Steps) (loss=0.38943): 100%|██████████| 6/6 [00:11<00:00,  1.92s/it]\n",
      "Training (7481 / 18000 Steps) (loss=0.44736): 100%|██████████| 6/6 [00:11<00:00,  1.91s/it]\n",
      "Training (7487 / 18000 Steps) (loss=0.22537): 100%|██████████| 6/6 [00:11<00:00,  1.92s/it]\n",
      "Training (7493 / 18000 Steps) (loss=0.27790): 100%|██████████| 6/6 [00:11<00:00,  1.93s/it]\n",
      "Training (7499 / 18000 Steps) (loss=0.49934): 100%|██████████| 6/6 [00:11<00:00,  1.93s/it]\n",
      "Validate (7500 / 10 Steps): 100%|██████████| 3/3 [00:11<00:00,  3.97s/it]<?, ?it/s]\n",
      "Training (7500 / 18000 Steps) (loss=0.28796):  17%|█▋        | 1/6 [00:16<01:20, 16.10s/it]"
     ]
    },
    {
     "name": "stdout",
     "output_type": "stream",
     "text": [
      "Model Was Not Saved ! Current Best Avg. Dice: 0.2640021741390228 Current Avg. Dice: 0.21066336333751678 Current Avg. tumor Dice: 0.23409801721572876 Current Avg. lymph Dice: 0.18722867965698242\n"
     ]
    },
    {
     "name": "stderr",
     "output_type": "stream",
     "text": [
      "Training (7505 / 18000 Steps) (loss=0.52503): 100%|██████████| 6/6 [00:23<00:00,  3.92s/it]\n",
      "Training (7511 / 18000 Steps) (loss=0.41950): 100%|██████████| 6/6 [00:11<00:00,  1.97s/it]\n",
      "Training (7517 / 18000 Steps) (loss=0.32342): 100%|██████████| 6/6 [00:11<00:00,  1.96s/it]\n",
      "Training (7523 / 18000 Steps) (loss=0.37557): 100%|██████████| 6/6 [00:11<00:00,  1.89s/it]\n",
      "Training (7529 / 18000 Steps) (loss=0.53686): 100%|██████████| 6/6 [00:11<00:00,  1.93s/it]\n",
      "Training (7535 / 18000 Steps) (loss=0.32444): 100%|██████████| 6/6 [00:11<00:00,  1.92s/it]\n",
      "Training (7541 / 18000 Steps) (loss=0.57706): 100%|██████████| 6/6 [00:11<00:00,  1.93s/it]\n",
      "Training (7547 / 18000 Steps) (loss=0.46001): 100%|██████████| 6/6 [00:11<00:00,  1.95s/it]\n",
      "Training (7553 / 18000 Steps) (loss=0.28232): 100%|██████████| 6/6 [00:11<00:00,  1.93s/it]\n",
      "Training (7559 / 18000 Steps) (loss=0.49342): 100%|██████████| 6/6 [00:11<00:00,  1.91s/it]\n",
      "Training (7565 / 18000 Steps) (loss=0.57292): 100%|██████████| 6/6 [00:11<00:00,  1.94s/it]\n",
      "Training (7571 / 18000 Steps) (loss=0.36086): 100%|██████████| 6/6 [00:11<00:00,  1.91s/it]\n",
      "Training (7577 / 18000 Steps) (loss=0.19647): 100%|██████████| 6/6 [00:11<00:00,  1.92s/it]\n",
      "Training (7583 / 18000 Steps) (loss=0.32819): 100%|██████████| 6/6 [00:11<00:00,  1.97s/it]\n",
      "Training (7589 / 18000 Steps) (loss=0.52660): 100%|██████████| 6/6 [00:11<00:00,  1.93s/it]\n",
      "Training (7595 / 18000 Steps) (loss=0.55603): 100%|██████████| 6/6 [00:11<00:00,  1.92s/it]\n",
      "Validate (7596 / 10 Steps): 100%|██████████| 3/3 [00:11<00:00,  3.95s/it]<00:03,  1.93s/it]\n",
      "Training (7600 / 18000 Steps) (loss=0.44355):  83%|████████▎ | 5/6 [00:22<00:06,  6.10s/it]"
     ]
    },
    {
     "name": "stdout",
     "output_type": "stream",
     "text": [
      "Model Was Not Saved ! Current Best Avg. Dice: 0.2640021741390228 Current Avg. Dice: 0.22831469774246216 Current Avg. tumor Dice: 0.26522472500801086 Current Avg. lymph Dice: 0.19140470027923584\n"
     ]
    },
    {
     "name": "stderr",
     "output_type": "stream",
     "text": [
      "Training (7601 / 18000 Steps) (loss=0.46058): 100%|██████████| 6/6 [00:23<00:00,  3.91s/it]\n",
      "Training (7607 / 18000 Steps) (loss=0.32116): 100%|██████████| 6/6 [00:11<00:00,  1.93s/it]\n",
      "Training (7613 / 18000 Steps) (loss=0.55261): 100%|██████████| 6/6 [00:11<00:00,  1.95s/it]\n",
      "Training (7619 / 18000 Steps) (loss=0.57506): 100%|██████████| 6/6 [00:11<00:00,  1.93s/it]\n",
      "Training (7625 / 18000 Steps) (loss=0.34283): 100%|██████████| 6/6 [00:11<00:00,  1.93s/it]\n",
      "Training (7631 / 18000 Steps) (loss=0.49133): 100%|██████████| 6/6 [00:11<00:00,  1.93s/it]\n",
      "Training (7637 / 18000 Steps) (loss=0.44339): 100%|██████████| 6/6 [00:11<00:00,  1.95s/it]\n",
      "Training (7643 / 18000 Steps) (loss=0.38155): 100%|██████████| 6/6 [00:11<00:00,  1.95s/it]\n",
      "Training (7649 / 18000 Steps) (loss=0.55180): 100%|██████████| 6/6 [00:11<00:00,  1.94s/it]\n",
      "Training (7655 / 18000 Steps) (loss=0.43362): 100%|██████████| 6/6 [00:11<00:00,  1.90s/it]\n",
      "Training (7661 / 18000 Steps) (loss=0.66695): 100%|██████████| 6/6 [00:11<00:00,  1.97s/it]\n",
      "Training (7667 / 18000 Steps) (loss=0.60061): 100%|██████████| 6/6 [00:11<00:00,  1.95s/it]\n",
      "Training (7673 / 18000 Steps) (loss=0.31574): 100%|██████████| 6/6 [00:11<00:00,  1.94s/it]\n",
      "Training (7679 / 18000 Steps) (loss=0.24363): 100%|██████████| 6/6 [00:11<00:00,  1.90s/it]\n",
      "Training (7685 / 18000 Steps) (loss=0.27419): 100%|██████████| 6/6 [00:11<00:00,  1.96s/it]\n",
      "Training (7691 / 18000 Steps) (loss=0.44274): 100%|██████████| 6/6 [00:11<00:00,  1.91s/it]\n",
      "Training (7697 / 18000 Steps) (loss=0.49243): 100%|██████████| 6/6 [00:11<00:00,  1.95s/it]\n",
      "Validate (7698 / 10 Steps): 100%|██████████| 3/3 [00:11<00:00,  3.98s/it]<00:10,  2.68s/it]\n",
      "Training (7700 / 18000 Steps) (loss=0.44916):  50%|█████     | 3/6 [00:19<00:23,  7.68s/it]"
     ]
    },
    {
     "name": "stdout",
     "output_type": "stream",
     "text": [
      "Model Was Not Saved ! Current Best Avg. Dice: 0.2640021741390228 Current Avg. Dice: 0.18064157664775848 Current Avg. tumor Dice: 0.19781740009784698 Current Avg. lymph Dice: 0.16346575319766998\n"
     ]
    },
    {
     "name": "stderr",
     "output_type": "stream",
     "text": [
      "Training (7703 / 18000 Steps) (loss=0.50474): 100%|██████████| 6/6 [00:23<00:00,  3.96s/it]\n",
      "Training (7709 / 18000 Steps) (loss=0.48719): 100%|██████████| 6/6 [00:11<00:00,  2.00s/it]\n",
      "Training (7715 / 18000 Steps) (loss=0.62810): 100%|██████████| 6/6 [00:11<00:00,  1.91s/it]\n",
      "Training (7721 / 18000 Steps) (loss=0.33806): 100%|██████████| 6/6 [00:11<00:00,  1.95s/it]\n",
      "Training (7727 / 18000 Steps) (loss=0.29784): 100%|██████████| 6/6 [00:11<00:00,  1.97s/it]\n",
      "Training (7733 / 18000 Steps) (loss=0.34395): 100%|██████████| 6/6 [00:11<00:00,  1.95s/it]\n",
      "Training (7739 / 18000 Steps) (loss=0.27258): 100%|██████████| 6/6 [00:11<00:00,  1.93s/it]\n",
      "Training (7745 / 18000 Steps) (loss=0.31444): 100%|██████████| 6/6 [00:11<00:00,  1.90s/it]\n",
      "Training (7751 / 18000 Steps) (loss=0.50258): 100%|██████████| 6/6 [00:11<00:00,  1.96s/it]\n",
      "Training (7757 / 18000 Steps) (loss=0.56596): 100%|██████████| 6/6 [00:11<00:00,  1.93s/it]\n",
      "Training (7763 / 18000 Steps) (loss=0.37702): 100%|██████████| 6/6 [00:11<00:00,  1.97s/it]\n",
      "Training (7769 / 18000 Steps) (loss=0.33392): 100%|██████████| 6/6 [00:11<00:00,  1.93s/it]\n",
      "Training (7775 / 18000 Steps) (loss=0.43888): 100%|██████████| 6/6 [00:11<00:00,  1.94s/it]\n",
      "Training (7781 / 18000 Steps) (loss=0.30722): 100%|██████████| 6/6 [00:11<00:00,  1.94s/it]\n",
      "Training (7787 / 18000 Steps) (loss=0.51572): 100%|██████████| 6/6 [00:11<00:00,  1.92s/it]\n",
      "Training (7793 / 18000 Steps) (loss=0.45376): 100%|██████████| 6/6 [00:11<00:00,  1.92s/it]\n",
      "Training (7799 / 18000 Steps) (loss=0.43692): 100%|██████████| 6/6 [00:11<00:00,  1.98s/it]\n",
      "Validate (7800 / 10 Steps): 100%|██████████| 3/3 [00:11<00:00,  3.96s/it]<?, ?it/s]\n",
      "Training (7800 / 18000 Steps) (loss=0.44129):  17%|█▋        | 1/6 [00:16<01:20, 16.09s/it]"
     ]
    },
    {
     "name": "stdout",
     "output_type": "stream",
     "text": [
      "Model Was Not Saved ! Current Best Avg. Dice: 0.2640021741390228 Current Avg. Dice: 0.17754818499088287 Current Avg. tumor Dice: 0.24533230066299438 Current Avg. lymph Dice: 0.10976415127515793\n"
     ]
    },
    {
     "name": "stderr",
     "output_type": "stream",
     "text": [
      "Training (7805 / 18000 Steps) (loss=0.43931): 100%|██████████| 6/6 [00:23<00:00,  3.89s/it]\n",
      "Training (7811 / 18000 Steps) (loss=0.50920): 100%|██████████| 6/6 [00:11<00:00,  1.94s/it]\n",
      "Training (7817 / 18000 Steps) (loss=0.62852): 100%|██████████| 6/6 [00:11<00:00,  1.95s/it]\n",
      "Training (7823 / 18000 Steps) (loss=0.35592): 100%|██████████| 6/6 [00:11<00:00,  1.94s/it]\n",
      "Training (7829 / 18000 Steps) (loss=0.51142): 100%|██████████| 6/6 [00:11<00:00,  1.93s/it]\n",
      "Training (7835 / 18000 Steps) (loss=0.47105): 100%|██████████| 6/6 [00:11<00:00,  1.94s/it]\n",
      "Training (7841 / 18000 Steps) (loss=0.33158): 100%|██████████| 6/6 [00:11<00:00,  1.94s/it]\n",
      "Training (7847 / 18000 Steps) (loss=0.38866): 100%|██████████| 6/6 [00:11<00:00,  1.91s/it]\n",
      "Training (7853 / 18000 Steps) (loss=0.36331): 100%|██████████| 6/6 [00:11<00:00,  1.94s/it]\n",
      "Training (7859 / 18000 Steps) (loss=0.40302): 100%|██████████| 6/6 [00:11<00:00,  2.00s/it]\n",
      "Training (7865 / 18000 Steps) (loss=0.46086): 100%|██████████| 6/6 [00:11<00:00,  1.96s/it]\n",
      "Training (7871 / 18000 Steps) (loss=0.45109): 100%|██████████| 6/6 [00:11<00:00,  1.92s/it]\n",
      "Training (7877 / 18000 Steps) (loss=0.48055): 100%|██████████| 6/6 [00:11<00:00,  1.93s/it]\n",
      "Training (7883 / 18000 Steps) (loss=0.32795): 100%|██████████| 6/6 [00:11<00:00,  1.96s/it]\n",
      "Training (7889 / 18000 Steps) (loss=0.48352): 100%|██████████| 6/6 [00:11<00:00,  1.94s/it]\n",
      "Training (7895 / 18000 Steps) (loss=0.41871): 100%|██████████| 6/6 [00:11<00:00,  1.95s/it]\n",
      "Validate (7896 / 10 Steps): 100%|██████████| 3/3 [00:11<00:00,  3.94s/it]<00:03,  1.91s/it]\n",
      "Training (7900 / 18000 Steps) (loss=0.38538):  83%|████████▎ | 5/6 [00:22<00:06,  6.07s/it]"
     ]
    },
    {
     "name": "stdout",
     "output_type": "stream",
     "text": [
      "Model Was Not Saved ! Current Best Avg. Dice: 0.2640021741390228 Current Avg. Dice: 0.1931792050600052 Current Avg. tumor Dice: 0.2655867636203766 Current Avg. lymph Dice: 0.12077166885137558\n"
     ]
    },
    {
     "name": "stderr",
     "output_type": "stream",
     "text": [
      "Training (7901 / 18000 Steps) (loss=0.54051): 100%|██████████| 6/6 [00:23<00:00,  3.90s/it]\n",
      "Training (7907 / 18000 Steps) (loss=0.48731): 100%|██████████| 6/6 [00:11<00:00,  1.96s/it]\n",
      "Training (7913 / 18000 Steps) (loss=0.58891): 100%|██████████| 6/6 [00:11<00:00,  1.98s/it]\n",
      "Training (7919 / 18000 Steps) (loss=0.42946): 100%|██████████| 6/6 [00:11<00:00,  1.94s/it]\n",
      "Training (7925 / 18000 Steps) (loss=0.24514): 100%|██████████| 6/6 [00:11<00:00,  1.92s/it]\n",
      "Training (7931 / 18000 Steps) (loss=0.23885): 100%|██████████| 6/6 [00:11<00:00,  1.92s/it]\n",
      "Training (7937 / 18000 Steps) (loss=0.47475): 100%|██████████| 6/6 [00:11<00:00,  1.91s/it]\n",
      "Training (7943 / 18000 Steps) (loss=0.15778): 100%|██████████| 6/6 [00:11<00:00,  1.95s/it]\n",
      "Training (7949 / 18000 Steps) (loss=0.48003): 100%|██████████| 6/6 [00:11<00:00,  1.98s/it]\n",
      "Training (7955 / 18000 Steps) (loss=0.30894): 100%|██████████| 6/6 [00:11<00:00,  1.93s/it]\n",
      "Training (7961 / 18000 Steps) (loss=0.46066): 100%|██████████| 6/6 [00:11<00:00,  1.95s/it]\n",
      "Training (7967 / 18000 Steps) (loss=0.28672): 100%|██████████| 6/6 [00:11<00:00,  1.92s/it]\n",
      "Training (7973 / 18000 Steps) (loss=0.33197): 100%|██████████| 6/6 [00:11<00:00,  1.95s/it]\n",
      "Training (7979 / 18000 Steps) (loss=0.62303): 100%|██████████| 6/6 [00:11<00:00,  1.97s/it]\n",
      "Training (7985 / 18000 Steps) (loss=0.34240): 100%|██████████| 6/6 [00:11<00:00,  1.94s/it]\n",
      "Training (7991 / 18000 Steps) (loss=0.42652): 100%|██████████| 6/6 [00:11<00:00,  1.92s/it]\n",
      "Training (7997 / 18000 Steps) (loss=0.30002): 100%|██████████| 6/6 [00:11<00:00,  1.98s/it]\n",
      "Validate (7998 / 10 Steps): 100%|██████████| 3/3 [00:11<00:00,  3.95s/it]<00:10,  2.62s/it]\n",
      "Training (8000 / 18000 Steps) (loss=0.34766):  50%|█████     | 3/6 [00:19<00:22,  7.56s/it]"
     ]
    },
    {
     "name": "stdout",
     "output_type": "stream",
     "text": [
      "Model Was Not Saved ! Current Best Avg. Dice: 0.2640021741390228 Current Avg. Dice: 0.20909111201763153 Current Avg. tumor Dice: 0.250614196062088 Current Avg. lymph Dice: 0.16756796836853027\n"
     ]
    },
    {
     "name": "stderr",
     "output_type": "stream",
     "text": [
      "Training (8003 / 18000 Steps) (loss=0.50499): 100%|██████████| 6/6 [00:23<00:00,  3.89s/it]\n",
      "Training (8009 / 18000 Steps) (loss=0.36584): 100%|██████████| 6/6 [00:11<00:00,  1.96s/it]\n",
      "Training (8015 / 18000 Steps) (loss=0.31810): 100%|██████████| 6/6 [00:11<00:00,  2.00s/it]\n",
      "Training (8021 / 18000 Steps) (loss=0.48002): 100%|██████████| 6/6 [00:11<00:00,  1.92s/it]\n",
      "Training (8027 / 18000 Steps) (loss=0.23661): 100%|██████████| 6/6 [00:11<00:00,  1.94s/it]\n",
      "Training (8033 / 18000 Steps) (loss=0.35805): 100%|██████████| 6/6 [00:11<00:00,  1.97s/it]\n",
      "Training (8039 / 18000 Steps) (loss=0.48240): 100%|██████████| 6/6 [00:12<00:00,  2.02s/it]\n",
      "Training (8045 / 18000 Steps) (loss=0.42245): 100%|██████████| 6/6 [00:11<00:00,  1.91s/it]\n",
      "Training (8051 / 18000 Steps) (loss=0.35790): 100%|██████████| 6/6 [00:11<00:00,  1.93s/it]\n",
      "Training (8057 / 18000 Steps) (loss=0.33971): 100%|██████████| 6/6 [00:11<00:00,  1.92s/it]\n",
      "Training (8063 / 18000 Steps) (loss=0.39166): 100%|██████████| 6/6 [00:11<00:00,  1.90s/it]\n",
      "Training (8069 / 18000 Steps) (loss=0.22363): 100%|██████████| 6/6 [00:11<00:00,  1.97s/it]\n",
      "Training (8075 / 18000 Steps) (loss=0.56181): 100%|██████████| 6/6 [00:11<00:00,  1.96s/it]\n",
      "Training (8081 / 18000 Steps) (loss=0.53604): 100%|██████████| 6/6 [00:11<00:00,  1.98s/it]\n",
      "Training (8087 / 18000 Steps) (loss=0.17178): 100%|██████████| 6/6 [00:11<00:00,  1.98s/it]\n",
      "Training (8093 / 18000 Steps) (loss=0.30936): 100%|██████████| 6/6 [00:11<00:00,  1.93s/it]\n",
      "Training (8099 / 18000 Steps) (loss=0.34192): 100%|██████████| 6/6 [00:11<00:00,  1.98s/it]\n",
      "Validate (8100 / 10 Steps): 100%|██████████| 3/3 [00:11<00:00,  4.00s/it]<?, ?it/s]\n",
      "Training (8100 / 18000 Steps) (loss=0.38602):  17%|█▋        | 1/6 [00:16<01:22, 16.49s/it]"
     ]
    },
    {
     "name": "stdout",
     "output_type": "stream",
     "text": [
      "Model Was Not Saved ! Current Best Avg. Dice: 0.2640021741390228 Current Avg. Dice: 0.23689256608486176 Current Avg. tumor Dice: 0.26866188645362854 Current Avg. lymph Dice: 0.20512323081493378\n"
     ]
    },
    {
     "name": "stderr",
     "output_type": "stream",
     "text": [
      "Training (8105 / 18000 Steps) (loss=0.26700): 100%|██████████| 6/6 [00:23<00:00,  3.99s/it]\n",
      "Training (8111 / 18000 Steps) (loss=0.35248): 100%|██████████| 6/6 [00:11<00:00,  1.92s/it]\n",
      "Training (8117 / 18000 Steps) (loss=0.53839): 100%|██████████| 6/6 [00:11<00:00,  1.98s/it]\n",
      "Training (8123 / 18000 Steps) (loss=0.41762): 100%|██████████| 6/6 [00:11<00:00,  1.96s/it]\n",
      "Training (8129 / 18000 Steps) (loss=0.20164): 100%|██████████| 6/6 [00:11<00:00,  1.92s/it]\n",
      "Training (8135 / 18000 Steps) (loss=0.52661): 100%|██████████| 6/6 [00:11<00:00,  1.98s/it]\n",
      "Training (8141 / 18000 Steps) (loss=0.27213): 100%|██████████| 6/6 [00:11<00:00,  1.95s/it]\n",
      "Training (8147 / 18000 Steps) (loss=0.44145): 100%|██████████| 6/6 [00:11<00:00,  1.97s/it]\n",
      "Training (8153 / 18000 Steps) (loss=0.21650): 100%|██████████| 6/6 [00:11<00:00,  1.92s/it]\n",
      "Training (8159 / 18000 Steps) (loss=0.55932): 100%|██████████| 6/6 [00:11<00:00,  1.94s/it]\n",
      "Training (8165 / 18000 Steps) (loss=0.55414): 100%|██████████| 6/6 [00:11<00:00,  1.99s/it]\n",
      "Training (8171 / 18000 Steps) (loss=0.46025): 100%|██████████| 6/6 [00:11<00:00,  1.99s/it]\n",
      "Training (8177 / 18000 Steps) (loss=0.47075): 100%|██████████| 6/6 [00:11<00:00,  1.91s/it]\n",
      "Training (8183 / 18000 Steps) (loss=0.43646): 100%|██████████| 6/6 [00:11<00:00,  1.92s/it]\n",
      "Training (8189 / 18000 Steps) (loss=0.54913): 100%|██████████| 6/6 [00:11<00:00,  1.92s/it]\n",
      "Training (8195 / 18000 Steps) (loss=0.29473): 100%|██████████| 6/6 [00:11<00:00,  1.93s/it]\n",
      "Validate (8196 / 10 Steps): 100%|██████████| 3/3 [00:11<00:00,  3.94s/it]<00:03,  1.97s/it]\n",
      "Training (8200 / 18000 Steps) (loss=0.36637):  83%|████████▎ | 5/6 [00:22<00:06,  6.10s/it]"
     ]
    },
    {
     "name": "stdout",
     "output_type": "stream",
     "text": [
      "Model Was Not Saved ! Current Best Avg. Dice: 0.2640021741390228 Current Avg. Dice: 0.21422548592090607 Current Avg. tumor Dice: 0.26494938135147095 Current Avg. lymph Dice: 0.16350160539150238\n"
     ]
    },
    {
     "name": "stderr",
     "output_type": "stream",
     "text": [
      "Training (8201 / 18000 Steps) (loss=0.40031): 100%|██████████| 6/6 [00:23<00:00,  3.96s/it]\n",
      "Training (8207 / 18000 Steps) (loss=0.31060): 100%|██████████| 6/6 [00:12<00:00,  2.00s/it]\n",
      "Training (8213 / 18000 Steps) (loss=0.46107): 100%|██████████| 6/6 [00:11<00:00,  1.95s/it]\n",
      "Training (8219 / 18000 Steps) (loss=0.35305): 100%|██████████| 6/6 [00:11<00:00,  1.98s/it]\n",
      "Training (8225 / 18000 Steps) (loss=0.37029): 100%|██████████| 6/6 [00:11<00:00,  1.98s/it]\n",
      "Training (8231 / 18000 Steps) (loss=0.19321): 100%|██████████| 6/6 [00:11<00:00,  1.98s/it]\n",
      "Training (8237 / 18000 Steps) (loss=0.32177): 100%|██████████| 6/6 [00:11<00:00,  1.94s/it]\n",
      "Training (8243 / 18000 Steps) (loss=0.38327): 100%|██████████| 6/6 [00:11<00:00,  1.92s/it]\n",
      "Training (8249 / 18000 Steps) (loss=0.60342): 100%|██████████| 6/6 [00:11<00:00,  1.97s/it]\n",
      "Training (8255 / 18000 Steps) (loss=0.43038): 100%|██████████| 6/6 [00:11<00:00,  1.97s/it]\n",
      "Training (8261 / 18000 Steps) (loss=0.45493): 100%|██████████| 6/6 [00:11<00:00,  1.94s/it]\n",
      "Training (8267 / 18000 Steps) (loss=0.32655): 100%|██████████| 6/6 [00:11<00:00,  1.97s/it]\n",
      "Training (8273 / 18000 Steps) (loss=0.34619): 100%|██████████| 6/6 [00:11<00:00,  1.93s/it]\n",
      "Training (8279 / 18000 Steps) (loss=0.41156): 100%|██████████| 6/6 [00:11<00:00,  1.96s/it]\n",
      "Training (8285 / 18000 Steps) (loss=0.18897): 100%|██████████| 6/6 [00:11<00:00,  1.94s/it]\n",
      "Training (8291 / 18000 Steps) (loss=0.43978): 100%|██████████| 6/6 [00:11<00:00,  1.94s/it]\n",
      "Training (8297 / 18000 Steps) (loss=0.26680): 100%|██████████| 6/6 [00:11<00:00,  1.94s/it]\n",
      "Validate (8298 / 10 Steps): 100%|██████████| 3/3 [00:11<00:00,  3.95s/it]<00:11,  2.84s/it]\n",
      "Training (8300 / 18000 Steps) (loss=0.42595):  50%|█████     | 3/6 [00:19<00:23,  7.71s/it]"
     ]
    },
    {
     "name": "stdout",
     "output_type": "stream",
     "text": [
      "Model Was Not Saved ! Current Best Avg. Dice: 0.2640021741390228 Current Avg. Dice: 0.21454769372940063 Current Avg. tumor Dice: 0.2598707973957062 Current Avg. lymph Dice: 0.1692245751619339\n"
     ]
    },
    {
     "name": "stderr",
     "output_type": "stream",
     "text": [
      "Training (8303 / 18000 Steps) (loss=0.57150): 100%|██████████| 6/6 [00:23<00:00,  3.99s/it]\n",
      "Training (8309 / 18000 Steps) (loss=0.55779): 100%|██████████| 6/6 [00:11<00:00,  1.94s/it]\n",
      "Training (8315 / 18000 Steps) (loss=0.45131): 100%|██████████| 6/6 [00:11<00:00,  1.97s/it]\n",
      "Training (8321 / 18000 Steps) (loss=0.60809): 100%|██████████| 6/6 [00:11<00:00,  1.98s/it]\n",
      "Training (8327 / 18000 Steps) (loss=0.44496): 100%|██████████| 6/6 [00:11<00:00,  1.96s/it]\n",
      "Training (8333 / 18000 Steps) (loss=0.53980): 100%|██████████| 6/6 [00:11<00:00,  1.94s/it]\n",
      "Training (8339 / 18000 Steps) (loss=0.55694): 100%|██████████| 6/6 [00:11<00:00,  1.98s/it]\n",
      "Training (8345 / 18000 Steps) (loss=0.43672): 100%|██████████| 6/6 [00:11<00:00,  1.93s/it]\n",
      "Training (8351 / 18000 Steps) (loss=0.50425): 100%|██████████| 6/6 [00:11<00:00,  1.97s/it]\n",
      "Training (8357 / 18000 Steps) (loss=0.38791): 100%|██████████| 6/6 [00:11<00:00,  1.95s/it]\n",
      "Training (8363 / 18000 Steps) (loss=0.44545): 100%|██████████| 6/6 [00:11<00:00,  1.99s/it]\n",
      "Training (8369 / 18000 Steps) (loss=0.50863): 100%|██████████| 6/6 [00:11<00:00,  1.98s/it]\n",
      "Training (8375 / 18000 Steps) (loss=0.31100): 100%|██████████| 6/6 [00:11<00:00,  1.91s/it]\n",
      "Training (8381 / 18000 Steps) (loss=0.41468): 100%|██████████| 6/6 [00:11<00:00,  1.97s/it]\n",
      "Training (8387 / 18000 Steps) (loss=0.36237): 100%|██████████| 6/6 [00:12<00:00,  2.02s/it]\n",
      "Training (8393 / 18000 Steps) (loss=0.40294): 100%|██████████| 6/6 [00:11<00:00,  1.92s/it]\n",
      "Training (8399 / 18000 Steps) (loss=0.37004): 100%|██████████| 6/6 [00:11<00:00,  1.93s/it]\n",
      "Validate (8400 / 10 Steps): 100%|██████████| 3/3 [00:11<00:00,  3.97s/it]<?, ?it/s]\n",
      "Training (8400 / 18000 Steps) (loss=0.31772):  17%|█▋        | 1/6 [00:16<01:20, 16.09s/it]"
     ]
    },
    {
     "name": "stdout",
     "output_type": "stream",
     "text": [
      "Model Was Not Saved ! Current Best Avg. Dice: 0.2640021741390228 Current Avg. Dice: 0.21961386501789093 Current Avg. tumor Dice: 0.24929434061050415 Current Avg. lymph Dice: 0.1899334043264389\n"
     ]
    },
    {
     "name": "stderr",
     "output_type": "stream",
     "text": [
      "Training (8405 / 18000 Steps) (loss=0.26077): 100%|██████████| 6/6 [00:23<00:00,  3.91s/it]\n",
      "Training (8411 / 18000 Steps) (loss=0.33647): 100%|██████████| 6/6 [00:11<00:00,  2.00s/it]\n",
      "Training (8417 / 18000 Steps) (loss=0.35178): 100%|██████████| 6/6 [00:11<00:00,  1.93s/it]\n",
      "Training (8423 / 18000 Steps) (loss=0.25516): 100%|██████████| 6/6 [00:11<00:00,  1.92s/it]\n",
      "Training (8429 / 18000 Steps) (loss=0.28680): 100%|██████████| 6/6 [00:11<00:00,  1.99s/it]\n",
      "Training (8435 / 18000 Steps) (loss=0.44455): 100%|██████████| 6/6 [00:11<00:00,  1.94s/it]\n",
      "Training (8441 / 18000 Steps) (loss=0.37354): 100%|██████████| 6/6 [00:11<00:00,  1.94s/it]\n",
      "Training (8447 / 18000 Steps) (loss=0.46139): 100%|██████████| 6/6 [00:11<00:00,  1.92s/it]\n",
      "Training (8453 / 18000 Steps) (loss=0.24240): 100%|██████████| 6/6 [00:11<00:00,  1.91s/it]\n",
      "Training (8459 / 18000 Steps) (loss=0.35377): 100%|██████████| 6/6 [00:11<00:00,  1.95s/it]\n",
      "Training (8465 / 18000 Steps) (loss=0.55711): 100%|██████████| 6/6 [00:11<00:00,  1.97s/it]\n",
      "Training (8471 / 18000 Steps) (loss=0.49207): 100%|██████████| 6/6 [00:11<00:00,  1.99s/it]\n",
      "Training (8477 / 18000 Steps) (loss=0.47472): 100%|██████████| 6/6 [00:11<00:00,  1.92s/it]\n",
      "Training (8483 / 18000 Steps) (loss=0.51200): 100%|██████████| 6/6 [00:11<00:00,  1.92s/it]\n",
      "Training (8489 / 18000 Steps) (loss=0.37124): 100%|██████████| 6/6 [00:11<00:00,  1.91s/it]\n",
      "Training (8495 / 18000 Steps) (loss=0.38877): 100%|██████████| 6/6 [00:11<00:00,  1.96s/it]\n",
      "Validate (8496 / 10 Steps): 100%|██████████| 3/3 [00:11<00:00,  3.95s/it]<00:03,  1.95s/it]\n",
      "Training (8500 / 18000 Steps) (loss=0.47494):  83%|████████▎ | 5/6 [00:22<00:06,  6.10s/it]"
     ]
    },
    {
     "name": "stdout",
     "output_type": "stream",
     "text": [
      "Model Was Not Saved ! Current Best Avg. Dice: 0.2640021741390228 Current Avg. Dice: 0.20219451189041138 Current Avg. tumor Dice: 0.22301220893859863 Current Avg. lymph Dice: 0.18137679994106293\n"
     ]
    },
    {
     "name": "stderr",
     "output_type": "stream",
     "text": [
      "Training (8501 / 18000 Steps) (loss=0.41678): 100%|██████████| 6/6 [00:23<00:00,  3.91s/it]\n",
      "Training (8507 / 18000 Steps) (loss=0.32676): 100%|██████████| 6/6 [00:11<00:00,  1.93s/it]\n",
      "Training (8513 / 18000 Steps) (loss=0.31364): 100%|██████████| 6/6 [00:11<00:00,  1.99s/it]\n",
      "Training (8519 / 18000 Steps) (loss=0.39848): 100%|██████████| 6/6 [00:11<00:00,  1.91s/it]\n",
      "Training (8525 / 18000 Steps) (loss=0.32678): 100%|██████████| 6/6 [00:11<00:00,  1.92s/it]\n",
      "Training (8531 / 18000 Steps) (loss=0.49545): 100%|██████████| 6/6 [00:11<00:00,  1.93s/it]\n",
      "Training (8537 / 18000 Steps) (loss=0.38533): 100%|██████████| 6/6 [00:11<00:00,  1.99s/it]\n",
      "Training (8543 / 18000 Steps) (loss=0.35738): 100%|██████████| 6/6 [00:11<00:00,  1.90s/it]\n",
      "Training (8549 / 18000 Steps) (loss=0.16433): 100%|██████████| 6/6 [00:11<00:00,  1.91s/it]\n",
      "Training (8555 / 18000 Steps) (loss=0.50189): 100%|██████████| 6/6 [00:11<00:00,  1.91s/it]\n",
      "Training (8561 / 18000 Steps) (loss=0.24904): 100%|██████████| 6/6 [00:12<00:00,  2.02s/it]\n",
      "Training (8567 / 18000 Steps) (loss=0.28124): 100%|██████████| 6/6 [00:11<00:00,  1.94s/it]\n",
      "Training (8573 / 18000 Steps) (loss=0.23033): 100%|██████████| 6/6 [00:11<00:00,  1.94s/it]\n",
      "Training (8579 / 18000 Steps) (loss=0.45134): 100%|██████████| 6/6 [00:11<00:00,  1.91s/it]\n",
      "Training (8585 / 18000 Steps) (loss=0.33619): 100%|██████████| 6/6 [00:11<00:00,  1.94s/it]\n",
      "Training (8591 / 18000 Steps) (loss=0.42928): 100%|██████████| 6/6 [00:11<00:00,  1.95s/it]\n",
      "Training (8597 / 18000 Steps) (loss=0.35791): 100%|██████████| 6/6 [00:11<00:00,  1.98s/it]\n",
      "Validate (8598 / 10 Steps): 100%|██████████| 3/3 [00:11<00:00,  3.98s/it]<00:10,  2.74s/it]\n",
      "Training (8600 / 18000 Steps) (loss=0.39293):  50%|█████     | 3/6 [00:19<00:23,  7.69s/it]"
     ]
    },
    {
     "name": "stdout",
     "output_type": "stream",
     "text": [
      "Model Was Not Saved ! Current Best Avg. Dice: 0.2640021741390228 Current Avg. Dice: 0.2029302716255188 Current Avg. tumor Dice: 0.24400579929351807 Current Avg. lymph Dice: 0.16185469925403595\n"
     ]
    },
    {
     "name": "stderr",
     "output_type": "stream",
     "text": [
      "Training (8603 / 18000 Steps) (loss=0.53702): 100%|██████████| 6/6 [00:23<00:00,  3.98s/it]\n",
      "Training (8609 / 18000 Steps) (loss=0.66691): 100%|██████████| 6/6 [00:11<00:00,  1.98s/it]\n",
      "Training (8615 / 18000 Steps) (loss=0.50303): 100%|██████████| 6/6 [00:11<00:00,  1.97s/it]\n",
      "Training (8621 / 18000 Steps) (loss=0.42909): 100%|██████████| 6/6 [00:11<00:00,  1.98s/it]\n",
      "Training (8627 / 18000 Steps) (loss=0.40289): 100%|██████████| 6/6 [00:11<00:00,  1.91s/it]\n",
      "Training (8633 / 18000 Steps) (loss=0.53393): 100%|██████████| 6/6 [00:11<00:00,  1.99s/it]\n",
      "Training (8639 / 18000 Steps) (loss=0.45164): 100%|██████████| 6/6 [00:11<00:00,  1.98s/it]\n",
      "Training (8645 / 18000 Steps) (loss=0.31722): 100%|██████████| 6/6 [00:11<00:00,  1.96s/it]\n",
      "Training (8651 / 18000 Steps) (loss=0.46278): 100%|██████████| 6/6 [00:11<00:00,  1.95s/it]\n",
      "Training (8657 / 18000 Steps) (loss=0.55331): 100%|██████████| 6/6 [00:11<00:00,  1.92s/it]\n",
      "Training (8663 / 18000 Steps) (loss=0.45481): 100%|██████████| 6/6 [00:11<00:00,  1.97s/it]\n",
      "Training (8669 / 18000 Steps) (loss=0.29082): 100%|██████████| 6/6 [00:12<00:00,  2.03s/it]\n",
      "Training (8675 / 18000 Steps) (loss=0.29883): 100%|██████████| 6/6 [00:11<00:00,  1.90s/it]\n",
      "Training (8681 / 18000 Steps) (loss=0.43074): 100%|██████████| 6/6 [00:11<00:00,  1.98s/it]\n",
      "Training (8687 / 18000 Steps) (loss=0.34431): 100%|██████████| 6/6 [00:11<00:00,  1.99s/it]\n",
      "Training (8693 / 18000 Steps) (loss=0.47311): 100%|██████████| 6/6 [00:12<00:00,  2.01s/it]\n",
      "Training (8699 / 18000 Steps) (loss=0.60174): 100%|██████████| 6/6 [00:11<00:00,  1.95s/it]\n",
      "Validate (8700 / 10 Steps): 100%|██████████| 3/3 [00:11<00:00,  3.96s/it]<?, ?it/s]\n",
      "Training (8700 / 18000 Steps) (loss=0.32512):  17%|█▋        | 1/6 [00:16<01:21, 16.23s/it]"
     ]
    },
    {
     "name": "stdout",
     "output_type": "stream",
     "text": [
      "Model Was Not Saved ! Current Best Avg. Dice: 0.2640021741390228 Current Avg. Dice: 0.19890879094600677 Current Avg. tumor Dice: 0.2435358315706253 Current Avg. lymph Dice: 0.15428169071674347\n"
     ]
    },
    {
     "name": "stderr",
     "output_type": "stream",
     "text": [
      "Training (8705 / 18000 Steps) (loss=0.29684): 100%|██████████| 6/6 [00:23<00:00,  3.93s/it]\n",
      "Training (8711 / 18000 Steps) (loss=0.55284): 100%|██████████| 6/6 [00:11<00:00,  1.95s/it]\n",
      "Training (8717 / 18000 Steps) (loss=0.53131): 100%|██████████| 6/6 [00:11<00:00,  1.95s/it]\n",
      "Training (8723 / 18000 Steps) (loss=0.57306): 100%|██████████| 6/6 [00:11<00:00,  1.98s/it]\n",
      "Training (8729 / 18000 Steps) (loss=0.31590): 100%|██████████| 6/6 [00:11<00:00,  1.97s/it]\n",
      "Training (8735 / 18000 Steps) (loss=0.32396): 100%|██████████| 6/6 [00:11<00:00,  1.94s/it]\n",
      "Training (8741 / 18000 Steps) (loss=0.36748): 100%|██████████| 6/6 [00:11<00:00,  1.95s/it]\n",
      "Training (8747 / 18000 Steps) (loss=0.43030): 100%|██████████| 6/6 [00:11<00:00,  1.97s/it]\n",
      "Training (8753 / 18000 Steps) (loss=0.35937): 100%|██████████| 6/6 [00:11<00:00,  1.98s/it]\n",
      "Training (8759 / 18000 Steps) (loss=0.44557): 100%|██████████| 6/6 [00:11<00:00,  1.91s/it]\n",
      "Training (8765 / 18000 Steps) (loss=0.36001): 100%|██████████| 6/6 [00:11<00:00,  1.96s/it]\n",
      "Training (8771 / 18000 Steps) (loss=0.38573): 100%|██████████| 6/6 [00:11<00:00,  1.96s/it]\n",
      "Training (8777 / 18000 Steps) (loss=0.15502): 100%|██████████| 6/6 [00:11<00:00,  1.98s/it]\n",
      "Training (8783 / 18000 Steps) (loss=0.49840): 100%|██████████| 6/6 [00:11<00:00,  1.94s/it]\n",
      "Training (8789 / 18000 Steps) (loss=0.33238): 100%|██████████| 6/6 [00:11<00:00,  1.93s/it]\n",
      "Training (8795 / 18000 Steps) (loss=0.38605): 100%|██████████| 6/6 [00:11<00:00,  1.95s/it]\n",
      "Validate (8796 / 10 Steps): 100%|██████████| 3/3 [00:11<00:00,  3.95s/it]<00:03,  1.93s/it]\n",
      "Training (8800 / 18000 Steps) (loss=0.51205):  83%|████████▎ | 5/6 [00:22<00:06,  6.09s/it]"
     ]
    },
    {
     "name": "stdout",
     "output_type": "stream",
     "text": [
      "Model Was Not Saved ! Current Best Avg. Dice: 0.2640021741390228 Current Avg. Dice: 0.19612586498260498 Current Avg. tumor Dice: 0.22249706089496613 Current Avg. lymph Dice: 0.16975468397140503\n"
     ]
    },
    {
     "name": "stderr",
     "output_type": "stream",
     "text": [
      "Training (8801 / 18000 Steps) (loss=0.40944): 100%|██████████| 6/6 [00:23<00:00,  3.93s/it]\n",
      "Training (8807 / 18000 Steps) (loss=0.21570): 100%|██████████| 6/6 [00:11<00:00,  1.95s/it]\n",
      "Training (8813 / 18000 Steps) (loss=0.56718): 100%|██████████| 6/6 [00:11<00:00,  1.97s/it]\n",
      "Training (8819 / 18000 Steps) (loss=0.47513): 100%|██████████| 6/6 [00:11<00:00,  1.98s/it]\n",
      "Training (8825 / 18000 Steps) (loss=0.65402): 100%|██████████| 6/6 [00:11<00:00,  1.90s/it]\n",
      "Training (8831 / 18000 Steps) (loss=0.29154): 100%|██████████| 6/6 [00:11<00:00,  1.93s/it]\n",
      "Training (8837 / 18000 Steps) (loss=0.31577): 100%|██████████| 6/6 [00:11<00:00,  1.93s/it]\n",
      "Training (8843 / 18000 Steps) (loss=0.41348): 100%|██████████| 6/6 [00:11<00:00,  1.92s/it]\n",
      "Training (8849 / 18000 Steps) (loss=0.39222): 100%|██████████| 6/6 [00:11<00:00,  1.91s/it]\n",
      "Training (8855 / 18000 Steps) (loss=0.34614): 100%|██████████| 6/6 [00:11<00:00,  1.93s/it]\n",
      "Training (8861 / 18000 Steps) (loss=0.57171): 100%|██████████| 6/6 [00:11<00:00,  1.96s/it]\n",
      "Training (8867 / 18000 Steps) (loss=0.46951): 100%|██████████| 6/6 [00:11<00:00,  1.95s/it]\n",
      "Training (8873 / 18000 Steps) (loss=0.31764): 100%|██████████| 6/6 [00:11<00:00,  1.95s/it]\n",
      "Training (8879 / 18000 Steps) (loss=0.49648): 100%|██████████| 6/6 [00:11<00:00,  1.94s/it]\n",
      "Training (8885 / 18000 Steps) (loss=0.56356): 100%|██████████| 6/6 [00:11<00:00,  1.94s/it]\n",
      "Training (8891 / 18000 Steps) (loss=0.50978): 100%|██████████| 6/6 [00:11<00:00,  1.90s/it]\n",
      "Training (8897 / 18000 Steps) (loss=0.27976): 100%|██████████| 6/6 [00:11<00:00,  1.92s/it]\n",
      "Validate (8898 / 10 Steps): 100%|██████████| 3/3 [00:12<00:00,  4.01s/it]<00:10,  2.73s/it]\n",
      "Training (8900 / 18000 Steps) (loss=0.45788):  50%|█████     | 3/6 [00:19<00:23,  7.71s/it]"
     ]
    },
    {
     "name": "stdout",
     "output_type": "stream",
     "text": [
      "Model Was Not Saved ! Current Best Avg. Dice: 0.2640021741390228 Current Avg. Dice: 0.19172130525112152 Current Avg. tumor Dice: 0.2537204325199127 Current Avg. lymph Dice: 0.12972217798233032\n"
     ]
    },
    {
     "name": "stderr",
     "output_type": "stream",
     "text": [
      "Training (8903 / 18000 Steps) (loss=0.49152): 100%|██████████| 6/6 [00:23<00:00,  3.96s/it]\n",
      "Training (8909 / 18000 Steps) (loss=0.32557): 100%|██████████| 6/6 [00:11<00:00,  1.95s/it]\n",
      "Training (8915 / 18000 Steps) (loss=0.53610): 100%|██████████| 6/6 [00:11<00:00,  1.92s/it]\n",
      "Training (8921 / 18000 Steps) (loss=0.47206): 100%|██████████| 6/6 [00:11<00:00,  1.98s/it]\n",
      "Training (8927 / 18000 Steps) (loss=0.15662): 100%|██████████| 6/6 [00:11<00:00,  1.94s/it]\n",
      "Training (8933 / 18000 Steps) (loss=0.57812): 100%|██████████| 6/6 [00:11<00:00,  1.91s/it]\n",
      "Training (8939 / 18000 Steps) (loss=0.38184): 100%|██████████| 6/6 [00:11<00:00,  1.91s/it]\n",
      "Training (8945 / 18000 Steps) (loss=0.56794): 100%|██████████| 6/6 [00:11<00:00,  1.94s/it]\n",
      "Training (8951 / 18000 Steps) (loss=0.40025): 100%|██████████| 6/6 [00:11<00:00,  1.96s/it]\n",
      "Training (8957 / 18000 Steps) (loss=0.41824): 100%|██████████| 6/6 [00:11<00:00,  1.94s/it]\n",
      "Training (8963 / 18000 Steps) (loss=0.49730): 100%|██████████| 6/6 [00:11<00:00,  1.95s/it]\n",
      "Training (8969 / 18000 Steps) (loss=0.45924): 100%|██████████| 6/6 [00:11<00:00,  1.92s/it]\n",
      "Training (8975 / 18000 Steps) (loss=0.28973): 100%|██████████| 6/6 [00:11<00:00,  1.92s/it]\n",
      "Training (8981 / 18000 Steps) (loss=0.25170): 100%|██████████| 6/6 [00:11<00:00,  1.91s/it]\n",
      "Training (8987 / 18000 Steps) (loss=0.33362): 100%|██████████| 6/6 [00:11<00:00,  1.97s/it]\n",
      "Training (8993 / 18000 Steps) (loss=0.32457): 100%|██████████| 6/6 [00:11<00:00,  1.98s/it]\n",
      "Training (8999 / 18000 Steps) (loss=0.47965): 100%|██████████| 6/6 [00:11<00:00,  1.91s/it]\n",
      "Validate (9000 / 10 Steps): 100%|██████████| 3/3 [00:11<00:00,  3.93s/it]<?, ?it/s]\n",
      "Training (9000 / 18000 Steps) (loss=0.44291):  17%|█▋        | 1/6 [00:16<01:20, 16.02s/it]"
     ]
    },
    {
     "name": "stdout",
     "output_type": "stream",
     "text": [
      "Model Was Not Saved ! Current Best Avg. Dice: 0.2640021741390228 Current Avg. Dice: 0.22254182398319244 Current Avg. tumor Dice: 0.26037999987602234 Current Avg. lymph Dice: 0.18470363318920135\n"
     ]
    },
    {
     "name": "stderr",
     "output_type": "stream",
     "text": [
      "Training (9005 / 18000 Steps) (loss=0.42628): 100%|██████████| 6/6 [00:23<00:00,  3.92s/it]\n",
      "Training (9011 / 18000 Steps) (loss=0.28340): 100%|██████████| 6/6 [00:11<00:00,  1.98s/it]\n",
      "Training (9017 / 18000 Steps) (loss=0.34884): 100%|██████████| 6/6 [00:11<00:00,  1.97s/it]\n",
      "Training (9023 / 18000 Steps) (loss=0.39846): 100%|██████████| 6/6 [00:11<00:00,  1.94s/it]\n",
      "Training (9029 / 18000 Steps) (loss=0.23900): 100%|██████████| 6/6 [00:11<00:00,  1.96s/it]\n",
      "Training (9035 / 18000 Steps) (loss=0.57998): 100%|██████████| 6/6 [00:11<00:00,  1.93s/it]\n",
      "Training (9041 / 18000 Steps) (loss=0.37130): 100%|██████████| 6/6 [00:11<00:00,  1.91s/it]\n",
      "Training (9047 / 18000 Steps) (loss=0.48807): 100%|██████████| 6/6 [00:11<00:00,  1.92s/it]\n",
      "Training (9053 / 18000 Steps) (loss=0.41997): 100%|██████████| 6/6 [00:11<00:00,  1.93s/it]\n",
      "Training (9059 / 18000 Steps) (loss=0.44108): 100%|██████████| 6/6 [00:12<00:00,  2.01s/it]\n",
      "Training (9065 / 18000 Steps) (loss=0.21833): 100%|██████████| 6/6 [00:11<00:00,  1.91s/it]\n",
      "Training (9071 / 18000 Steps) (loss=0.41022): 100%|██████████| 6/6 [00:11<00:00,  1.90s/it]\n",
      "Training (9077 / 18000 Steps) (loss=0.39243): 100%|██████████| 6/6 [00:11<00:00,  1.94s/it]\n",
      "Training (9083 / 18000 Steps) (loss=0.53495): 100%|██████████| 6/6 [00:11<00:00,  1.99s/it]\n",
      "Training (9089 / 18000 Steps) (loss=0.56766): 100%|██████████| 6/6 [00:11<00:00,  1.99s/it]\n",
      "Training (9095 / 18000 Steps) (loss=0.48621): 100%|██████████| 6/6 [00:11<00:00,  1.91s/it]\n",
      "Validate (9096 / 10 Steps): 100%|██████████| 3/3 [00:11<00:00,  3.99s/it]<00:03,  1.94s/it]\n",
      "Training (9100 / 18000 Steps) (loss=0.51241):  83%|████████▎ | 5/6 [00:22<00:06,  6.13s/it]"
     ]
    },
    {
     "name": "stdout",
     "output_type": "stream",
     "text": [
      "Model Was Not Saved ! Current Best Avg. Dice: 0.2640021741390228 Current Avg. Dice: 0.18502862751483917 Current Avg. tumor Dice: 0.2405744194984436 Current Avg. lymph Dice: 0.12948285043239594\n"
     ]
    },
    {
     "name": "stderr",
     "output_type": "stream",
     "text": [
      "Training (9101 / 18000 Steps) (loss=0.60699): 100%|██████████| 6/6 [00:23<00:00,  3.94s/it]\n",
      "Training (9107 / 18000 Steps) (loss=0.16425): 100%|██████████| 6/6 [00:11<00:00,  1.98s/it]\n",
      "Training (9113 / 18000 Steps) (loss=0.55014): 100%|██████████| 6/6 [00:11<00:00,  1.92s/it]\n",
      "Training (9119 / 18000 Steps) (loss=0.19439): 100%|██████████| 6/6 [00:11<00:00,  1.96s/it]\n",
      "Training (9125 / 18000 Steps) (loss=0.43587): 100%|██████████| 6/6 [00:11<00:00,  1.90s/it]\n",
      "Training (9131 / 18000 Steps) (loss=0.44781): 100%|██████████| 6/6 [00:11<00:00,  1.92s/it]\n",
      "Training (9137 / 18000 Steps) (loss=0.40477): 100%|██████████| 6/6 [00:11<00:00,  1.91s/it]\n",
      "Training (9143 / 18000 Steps) (loss=0.29148): 100%|██████████| 6/6 [00:11<00:00,  1.98s/it]\n",
      "Training (9149 / 18000 Steps) (loss=0.57299): 100%|██████████| 6/6 [00:11<00:00,  1.94s/it]\n",
      "Training (9155 / 18000 Steps) (loss=0.56682): 100%|██████████| 6/6 [00:11<00:00,  1.99s/it]\n",
      "Training (9161 / 18000 Steps) (loss=0.41963): 100%|██████████| 6/6 [00:11<00:00,  1.92s/it]\n",
      "Training (9167 / 18000 Steps) (loss=0.57946): 100%|██████████| 6/6 [00:11<00:00,  1.97s/it]\n",
      "Training (9173 / 18000 Steps) (loss=0.34869): 100%|██████████| 6/6 [00:11<00:00,  1.94s/it]\n",
      "Training (9179 / 18000 Steps) (loss=0.60041): 100%|██████████| 6/6 [00:11<00:00,  1.96s/it]\n",
      "Training (9185 / 18000 Steps) (loss=0.26641): 100%|██████████| 6/6 [00:11<00:00,  1.94s/it]\n",
      "Training (9191 / 18000 Steps) (loss=0.54298): 100%|██████████| 6/6 [00:11<00:00,  1.95s/it]\n",
      "Training (9197 / 18000 Steps) (loss=0.38721): 100%|██████████| 6/6 [00:11<00:00,  1.92s/it]\n",
      "Validate (9198 / 10 Steps): 100%|██████████| 3/3 [00:11<00:00,  3.95s/it]<00:10,  2.64s/it]\n",
      "Training (9200 / 18000 Steps) (loss=0.42485):  50%|█████     | 3/6 [00:19<00:22,  7.57s/it]"
     ]
    },
    {
     "name": "stdout",
     "output_type": "stream",
     "text": [
      "Model Was Not Saved ! Current Best Avg. Dice: 0.2640021741390228 Current Avg. Dice: 0.18454311788082123 Current Avg. tumor Dice: 0.23890195786952972 Current Avg. lymph Dice: 0.13018424808979034\n"
     ]
    },
    {
     "name": "stderr",
     "output_type": "stream",
     "text": [
      "Training (9203 / 18000 Steps) (loss=0.45503): 100%|██████████| 6/6 [00:23<00:00,  3.94s/it]\n",
      "Training (9209 / 18000 Steps) (loss=0.46628): 100%|██████████| 6/6 [00:12<00:00,  2.01s/it]\n",
      "Training (9215 / 18000 Steps) (loss=0.26141): 100%|██████████| 6/6 [00:11<00:00,  1.96s/it]\n",
      "Training (9221 / 18000 Steps) (loss=0.33775): 100%|██████████| 6/6 [00:11<00:00,  1.91s/it]\n",
      "Training (9227 / 18000 Steps) (loss=0.16472): 100%|██████████| 6/6 [00:11<00:00,  1.94s/it]\n",
      "Training (9233 / 18000 Steps) (loss=0.32951): 100%|██████████| 6/6 [00:11<00:00,  1.94s/it]\n",
      "Training (9239 / 18000 Steps) (loss=0.39614): 100%|██████████| 6/6 [00:11<00:00,  1.90s/it]\n",
      "Training (9245 / 18000 Steps) (loss=0.30789): 100%|██████████| 6/6 [00:11<00:00,  1.91s/it]\n",
      "Training (9251 / 18000 Steps) (loss=0.53735): 100%|██████████| 6/6 [00:12<00:00,  2.00s/it]\n",
      "Training (9257 / 18000 Steps) (loss=0.23646): 100%|██████████| 6/6 [00:11<00:00,  1.91s/it]\n",
      "Training (9263 / 18000 Steps) (loss=0.39847): 100%|██████████| 6/6 [00:11<00:00,  1.95s/it]\n",
      "Training (9269 / 18000 Steps) (loss=0.36831): 100%|██████████| 6/6 [00:11<00:00,  1.92s/it]\n",
      "Training (9275 / 18000 Steps) (loss=0.44457): 100%|██████████| 6/6 [00:11<00:00,  1.99s/it]\n",
      "Training (9281 / 18000 Steps) (loss=0.42151): 100%|██████████| 6/6 [00:11<00:00,  1.93s/it]\n",
      "Training (9287 / 18000 Steps) (loss=0.30876): 100%|██████████| 6/6 [00:11<00:00,  1.94s/it]\n",
      "Training (9293 / 18000 Steps) (loss=0.40887): 100%|██████████| 6/6 [00:11<00:00,  1.93s/it]\n",
      "Training (9299 / 18000 Steps) (loss=0.29715): 100%|██████████| 6/6 [00:12<00:00,  2.03s/it]\n",
      "Validate (9300 / 10 Steps): 100%|██████████| 3/3 [00:11<00:00,  3.93s/it]<?, ?it/s]\n",
      "Training (9300 / 18000 Steps) (loss=0.47155):  17%|█▋        | 1/6 [00:16<01:20, 16.00s/it]"
     ]
    },
    {
     "name": "stdout",
     "output_type": "stream",
     "text": [
      "Model Was Not Saved ! Current Best Avg. Dice: 0.2640021741390228 Current Avg. Dice: 0.20197616517543793 Current Avg. tumor Dice: 0.2483053356409073 Current Avg. lymph Dice: 0.15564699470996857\n"
     ]
    },
    {
     "name": "stderr",
     "output_type": "stream",
     "text": [
      "Training (9305 / 18000 Steps) (loss=0.22016): 100%|██████████| 6/6 [00:23<00:00,  3.88s/it]\n",
      "Training (9311 / 18000 Steps) (loss=0.48673): 100%|██████████| 6/6 [00:11<00:00,  1.91s/it]\n",
      "Training (9317 / 18000 Steps) (loss=0.45372): 100%|██████████| 6/6 [00:11<00:00,  1.94s/it]\n",
      "Training (9323 / 18000 Steps) (loss=0.38393): 100%|██████████| 6/6 [00:11<00:00,  1.93s/it]\n",
      "Training (9329 / 18000 Steps) (loss=0.60165): 100%|██████████| 6/6 [00:11<00:00,  1.92s/it]\n",
      "Training (9335 / 18000 Steps) (loss=0.41914): 100%|██████████| 6/6 [00:11<00:00,  1.90s/it]\n",
      "Training (9341 / 18000 Steps) (loss=0.25592): 100%|██████████| 6/6 [00:11<00:00,  1.95s/it]\n",
      "Training (9347 / 18000 Steps) (loss=0.31654): 100%|██████████| 6/6 [00:11<00:00,  1.96s/it]\n",
      "Training (9353 / 18000 Steps) (loss=0.34130): 100%|██████████| 6/6 [00:11<00:00,  1.93s/it]\n",
      "Training (9359 / 18000 Steps) (loss=0.55211): 100%|██████████| 6/6 [00:11<00:00,  1.93s/it]\n",
      "Training (9365 / 18000 Steps) (loss=0.44109): 100%|██████████| 6/6 [00:11<00:00,  1.94s/it]\n",
      "Training (9371 / 18000 Steps) (loss=0.36336): 100%|██████████| 6/6 [00:11<00:00,  1.89s/it]\n",
      "Training (9377 / 18000 Steps) (loss=0.42160): 100%|██████████| 6/6 [00:11<00:00,  1.92s/it]\n",
      "Training (9383 / 18000 Steps) (loss=0.30037): 100%|██████████| 6/6 [00:11<00:00,  1.91s/it]\n",
      "Training (9389 / 18000 Steps) (loss=0.54708): 100%|██████████| 6/6 [00:11<00:00,  1.97s/it]\n",
      "Training (9395 / 18000 Steps) (loss=0.36799): 100%|██████████| 6/6 [00:11<00:00,  1.95s/it]\n",
      "Validate (9396 / 10 Steps): 100%|██████████| 3/3 [00:11<00:00,  3.98s/it]<00:03,  1.93s/it]\n",
      "Training (9400 / 18000 Steps) (loss=0.36800):  83%|████████▎ | 5/6 [00:22<00:06,  6.12s/it]"
     ]
    },
    {
     "name": "stdout",
     "output_type": "stream",
     "text": [
      "Model Was Not Saved ! Current Best Avg. Dice: 0.2640021741390228 Current Avg. Dice: 0.1918729543685913 Current Avg. tumor Dice: 0.2439994364976883 Current Avg. lymph Dice: 0.13974648714065552\n"
     ]
    },
    {
     "name": "stderr",
     "output_type": "stream",
     "text": [
      "Training (9401 / 18000 Steps) (loss=0.33136): 100%|██████████| 6/6 [00:23<00:00,  3.93s/it]\n",
      "Training (9407 / 18000 Steps) (loss=0.47987): 100%|██████████| 6/6 [00:11<00:00,  1.90s/it]\n",
      "Training (9413 / 18000 Steps) (loss=0.43533): 100%|██████████| 6/6 [00:11<00:00,  1.93s/it]\n",
      "Training (9419 / 18000 Steps) (loss=0.47514): 100%|██████████| 6/6 [00:11<00:00,  1.94s/it]\n",
      "Training (9425 / 18000 Steps) (loss=0.16007): 100%|██████████| 6/6 [00:11<00:00,  1.97s/it]\n",
      "Training (9431 / 18000 Steps) (loss=0.53499): 100%|██████████| 6/6 [00:11<00:00,  1.94s/it]\n",
      "Training (9437 / 18000 Steps) (loss=0.52842): 100%|██████████| 6/6 [00:11<00:00,  1.91s/it]\n",
      "Training (9443 / 18000 Steps) (loss=0.48847): 100%|██████████| 6/6 [00:11<00:00,  1.95s/it]\n",
      "Training (9449 / 18000 Steps) (loss=0.40309): 100%|██████████| 6/6 [00:11<00:00,  1.95s/it]\n",
      "Training (9455 / 18000 Steps) (loss=0.53605): 100%|██████████| 6/6 [00:11<00:00,  1.94s/it]\n",
      "Training (9461 / 18000 Steps) (loss=0.36448): 100%|██████████| 6/6 [00:11<00:00,  1.92s/it]\n",
      "Training (9467 / 18000 Steps) (loss=0.47386): 100%|██████████| 6/6 [00:11<00:00,  1.95s/it]\n",
      "Training (9473 / 18000 Steps) (loss=0.17365): 100%|██████████| 6/6 [00:11<00:00,  1.97s/it]\n",
      "Training (9479 / 18000 Steps) (loss=0.45211): 100%|██████████| 6/6 [00:11<00:00,  1.93s/it]\n",
      "Training (9485 / 18000 Steps) (loss=0.18077): 100%|██████████| 6/6 [00:11<00:00,  1.92s/it]\n",
      "Training (9491 / 18000 Steps) (loss=0.29093): 100%|██████████| 6/6 [00:11<00:00,  1.93s/it]\n",
      "Training (9497 / 18000 Steps) (loss=0.35895): 100%|██████████| 6/6 [00:11<00:00,  1.94s/it]\n",
      "Validate (9498 / 10 Steps): 100%|██████████| 3/3 [00:11<00:00,  3.93s/it]<00:10,  2.67s/it]\n",
      "Training (9500 / 18000 Steps) (loss=0.42752):  50%|█████     | 3/6 [00:19<00:22,  7.57s/it]"
     ]
    },
    {
     "name": "stdout",
     "output_type": "stream",
     "text": [
      "Model Was Not Saved ! Current Best Avg. Dice: 0.2640021741390228 Current Avg. Dice: 0.18129931390285492 Current Avg. tumor Dice: 0.22482137382030487 Current Avg. lymph Dice: 0.13777725398540497\n"
     ]
    },
    {
     "name": "stderr",
     "output_type": "stream",
     "text": [
      "Training (9503 / 18000 Steps) (loss=0.35601): 100%|██████████| 6/6 [00:23<00:00,  3.92s/it]\n",
      "Training (9509 / 18000 Steps) (loss=0.55547): 100%|██████████| 6/6 [00:11<00:00,  1.96s/it]\n",
      "Training (9515 / 18000 Steps) (loss=0.42943): 100%|██████████| 6/6 [00:11<00:00,  1.93s/it]\n",
      "Training (9521 / 18000 Steps) (loss=0.57126): 100%|██████████| 6/6 [00:11<00:00,  1.93s/it]\n",
      "Training (9527 / 18000 Steps) (loss=0.33569): 100%|██████████| 6/6 [00:11<00:00,  1.92s/it]\n",
      "Training (9533 / 18000 Steps) (loss=0.50091): 100%|██████████| 6/6 [00:11<00:00,  1.94s/it]\n",
      "Training (9539 / 18000 Steps) (loss=0.43179): 100%|██████████| 6/6 [00:11<00:00,  1.96s/it]\n",
      "Training (9545 / 18000 Steps) (loss=0.26439): 100%|██████████| 6/6 [00:11<00:00,  1.96s/it]\n",
      "Training (9551 / 18000 Steps) (loss=0.22165): 100%|██████████| 6/6 [00:11<00:00,  1.89s/it]\n",
      "Training (9557 / 18000 Steps) (loss=0.40834): 100%|██████████| 6/6 [00:11<00:00,  1.95s/it]\n",
      "Training (9563 / 18000 Steps) (loss=0.27781): 100%|██████████| 6/6 [00:11<00:00,  1.94s/it]\n",
      "Training (9569 / 18000 Steps) (loss=0.29457): 100%|██████████| 6/6 [00:11<00:00,  1.94s/it]\n",
      "Training (9575 / 18000 Steps) (loss=0.33867): 100%|██████████| 6/6 [00:11<00:00,  1.93s/it]\n",
      "Training (9581 / 18000 Steps) (loss=0.50123): 100%|██████████| 6/6 [00:11<00:00,  1.94s/it]\n",
      "Training (9587 / 18000 Steps) (loss=0.45079): 100%|██████████| 6/6 [00:11<00:00,  1.93s/it]\n",
      "Training (9593 / 18000 Steps) (loss=0.38248): 100%|██████████| 6/6 [00:11<00:00,  1.91s/it]\n",
      "Training (9599 / 18000 Steps) (loss=0.28166): 100%|██████████| 6/6 [00:11<00:00,  1.94s/it]\n",
      "Validate (9600 / 10 Steps): 100%|██████████| 3/3 [00:11<00:00,  3.99s/it]<?, ?it/s]\n",
      "Training (9600 / 18000 Steps) (loss=0.43157):  17%|█▋        | 1/6 [00:16<01:21, 16.21s/it]"
     ]
    },
    {
     "name": "stdout",
     "output_type": "stream",
     "text": [
      "Model Was Not Saved ! Current Best Avg. Dice: 0.2640021741390228 Current Avg. Dice: 0.20509672164916992 Current Avg. tumor Dice: 0.23618541657924652 Current Avg. lymph Dice: 0.17400802671909332\n"
     ]
    },
    {
     "name": "stderr",
     "output_type": "stream",
     "text": [
      "Training (9605 / 18000 Steps) (loss=0.48170): 100%|██████████| 6/6 [00:23<00:00,  3.91s/it]\n",
      "Training (9611 / 18000 Steps) (loss=0.51660): 100%|██████████| 6/6 [00:11<00:00,  1.94s/it]\n",
      "Training (9617 / 18000 Steps) (loss=0.49755): 100%|██████████| 6/6 [00:11<00:00,  1.94s/it]\n",
      "Training (9623 / 18000 Steps) (loss=0.31379): 100%|██████████| 6/6 [00:11<00:00,  1.91s/it]\n",
      "Training (9629 / 18000 Steps) (loss=0.32863): 100%|██████████| 6/6 [00:11<00:00,  1.97s/it]\n",
      "Training (9635 / 18000 Steps) (loss=0.28770): 100%|██████████| 6/6 [00:11<00:00,  1.96s/it]\n",
      "Training (9641 / 18000 Steps) (loss=0.41758): 100%|██████████| 6/6 [00:11<00:00,  1.96s/it]\n",
      "Training (9647 / 18000 Steps) (loss=0.32831): 100%|██████████| 6/6 [00:11<00:00,  1.95s/it]\n",
      "Training (9653 / 18000 Steps) (loss=0.49527): 100%|██████████| 6/6 [00:11<00:00,  1.92s/it]\n",
      "Training (9659 / 18000 Steps) (loss=0.41352): 100%|██████████| 6/6 [00:11<00:00,  1.91s/it]\n",
      "Training (9665 / 18000 Steps) (loss=0.16423): 100%|██████████| 6/6 [00:11<00:00,  1.93s/it]\n",
      "Training (9671 / 18000 Steps) (loss=0.53772): 100%|██████████| 6/6 [00:11<00:00,  1.90s/it]\n",
      "Training (9677 / 18000 Steps) (loss=0.53914): 100%|██████████| 6/6 [00:11<00:00,  1.91s/it]\n",
      "Training (9683 / 18000 Steps) (loss=0.31764): 100%|██████████| 6/6 [00:11<00:00,  1.88s/it]\n",
      "Training (9689 / 18000 Steps) (loss=0.49952): 100%|██████████| 6/6 [00:11<00:00,  1.93s/it]\n",
      "Training (9695 / 18000 Steps) (loss=0.19726): 100%|██████████| 6/6 [00:11<00:00,  1.94s/it]\n",
      "Validate (9696 / 10 Steps): 100%|██████████| 3/3 [00:11<00:00,  3.99s/it]<00:03,  1.94s/it]\n",
      "Training (9700 / 18000 Steps) (loss=0.34356):  83%|████████▎ | 5/6 [00:22<00:06,  6.15s/it]"
     ]
    },
    {
     "name": "stdout",
     "output_type": "stream",
     "text": [
      "Model Was Not Saved ! Current Best Avg. Dice: 0.2640021741390228 Current Avg. Dice: 0.18419794738292694 Current Avg. tumor Dice: 0.24576199054718018 Current Avg. lymph Dice: 0.12263387441635132\n"
     ]
    },
    {
     "name": "stderr",
     "output_type": "stream",
     "text": [
      "Training (9701 / 18000 Steps) (loss=0.34242): 100%|██████████| 6/6 [00:23<00:00,  3.94s/it]\n",
      "Training (9707 / 18000 Steps) (loss=0.43948): 100%|██████████| 6/6 [00:11<00:00,  1.93s/it]\n",
      "Training (9713 / 18000 Steps) (loss=0.18408): 100%|██████████| 6/6 [00:11<00:00,  1.93s/it]\n",
      "Training (9719 / 18000 Steps) (loss=0.32397): 100%|██████████| 6/6 [00:11<00:00,  1.88s/it]\n",
      "Training (9725 / 18000 Steps) (loss=0.18802): 100%|██████████| 6/6 [00:11<00:00,  1.92s/it]\n",
      "Training (9731 / 18000 Steps) (loss=0.48075): 100%|██████████| 6/6 [00:11<00:00,  1.94s/it]\n",
      "Training (9737 / 18000 Steps) (loss=0.34084): 100%|██████████| 6/6 [00:11<00:00,  1.97s/it]\n",
      "Training (9743 / 18000 Steps) (loss=0.48051): 100%|██████████| 6/6 [00:11<00:00,  1.90s/it]\n",
      "Training (9749 / 18000 Steps) (loss=0.47433): 100%|██████████| 6/6 [00:11<00:00,  1.92s/it]\n",
      "Training (9755 / 18000 Steps) (loss=0.55221): 100%|██████████| 6/6 [00:11<00:00,  1.93s/it]\n",
      "Training (9761 / 18000 Steps) (loss=0.59972): 100%|██████████| 6/6 [00:11<00:00,  1.96s/it]\n",
      "Training (9767 / 18000 Steps) (loss=0.55535): 100%|██████████| 6/6 [00:11<00:00,  1.90s/it]\n",
      "Training (9773 / 18000 Steps) (loss=0.58931): 100%|██████████| 6/6 [00:11<00:00,  1.88s/it]\n",
      "Training (9779 / 18000 Steps) (loss=0.27456): 100%|██████████| 6/6 [00:11<00:00,  1.96s/it]\n",
      "Training (9785 / 18000 Steps) (loss=0.33608): 100%|██████████| 6/6 [00:11<00:00,  1.94s/it]\n",
      "Training (9791 / 18000 Steps) (loss=0.66799): 100%|██████████| 6/6 [00:11<00:00,  1.92s/it]\n",
      "Training (9797 / 18000 Steps) (loss=0.20666): 100%|██████████| 6/6 [00:11<00:00,  1.95s/it]\n",
      "Validate (9798 / 10 Steps): 100%|██████████| 3/3 [00:11<00:00,  3.96s/it]<00:10,  2.72s/it]\n",
      "Training (9800 / 18000 Steps) (loss=0.39638):  50%|█████     | 3/6 [00:19<00:22,  7.64s/it]"
     ]
    },
    {
     "name": "stdout",
     "output_type": "stream",
     "text": [
      "Model Was Not Saved ! Current Best Avg. Dice: 0.2640021741390228 Current Avg. Dice: 0.1969708949327469 Current Avg. tumor Dice: 0.237972691655159 Current Avg. lymph Dice: 0.15596911311149597\n"
     ]
    },
    {
     "name": "stderr",
     "output_type": "stream",
     "text": [
      "Training (9803 / 18000 Steps) (loss=0.44255): 100%|██████████| 6/6 [00:23<00:00,  3.93s/it]\n",
      "Training (9809 / 18000 Steps) (loss=0.39656): 100%|██████████| 6/6 [00:11<00:00,  1.90s/it]\n",
      "Training (9815 / 18000 Steps) (loss=0.32668): 100%|██████████| 6/6 [00:11<00:00,  1.94s/it]\n",
      "Training (9821 / 18000 Steps) (loss=0.54200): 100%|██████████| 6/6 [00:11<00:00,  1.98s/it]\n",
      "Training (9827 / 18000 Steps) (loss=0.19807): 100%|██████████| 6/6 [00:11<00:00,  1.90s/it]\n",
      "Training (9833 / 18000 Steps) (loss=0.28688): 100%|██████████| 6/6 [00:11<00:00,  1.90s/it]\n",
      "Training (9839 / 18000 Steps) (loss=0.14890): 100%|██████████| 6/6 [00:11<00:00,  1.91s/it]\n",
      "Training (9845 / 18000 Steps) (loss=0.26418): 100%|██████████| 6/6 [00:11<00:00,  1.97s/it]\n",
      "Training (9851 / 18000 Steps) (loss=0.27252): 100%|██████████| 6/6 [00:11<00:00,  1.96s/it]\n",
      "Training (9857 / 18000 Steps) (loss=0.26630): 100%|██████████| 6/6 [00:11<00:00,  1.89s/it]\n",
      "Training (9863 / 18000 Steps) (loss=0.22325): 100%|██████████| 6/6 [00:11<00:00,  1.91s/it]\n",
      "Training (9869 / 18000 Steps) (loss=0.27159): 100%|██████████| 6/6 [00:11<00:00,  1.98s/it]\n",
      "Training (9875 / 18000 Steps) (loss=0.61440): 100%|██████████| 6/6 [00:11<00:00,  1.90s/it]\n",
      "Training (9881 / 18000 Steps) (loss=0.42041): 100%|██████████| 6/6 [00:11<00:00,  1.90s/it]\n",
      "Training (9887 / 18000 Steps) (loss=0.42151): 100%|██████████| 6/6 [00:11<00:00,  1.95s/it]\n",
      "Training (9893 / 18000 Steps) (loss=0.30893): 100%|██████████| 6/6 [00:11<00:00,  1.89s/it]\n",
      "Training (9899 / 18000 Steps) (loss=0.31211): 100%|██████████| 6/6 [00:11<00:00,  1.91s/it]\n",
      "Validate (9900 / 10 Steps): 100%|██████████| 3/3 [00:11<00:00,  3.94s/it]<?, ?it/s]\n",
      "Training (9900 / 18000 Steps) (loss=0.48307):  17%|█▋        | 1/6 [00:15<01:19, 15.96s/it]"
     ]
    },
    {
     "name": "stdout",
     "output_type": "stream",
     "text": [
      "Model Was Not Saved ! Current Best Avg. Dice: 0.2640021741390228 Current Avg. Dice: 0.21276293694972992 Current Avg. tumor Dice: 0.2535022795200348 Current Avg. lymph Dice: 0.17202360928058624\n"
     ]
    },
    {
     "name": "stderr",
     "output_type": "stream",
     "text": [
      "Training (9905 / 18000 Steps) (loss=0.35062): 100%|██████████| 6/6 [00:23<00:00,  3.89s/it]\n",
      "Training (9911 / 18000 Steps) (loss=0.17764): 100%|██████████| 6/6 [00:11<00:00,  1.93s/it]\n",
      "Training (9917 / 18000 Steps) (loss=0.20059): 100%|██████████| 6/6 [00:11<00:00,  1.92s/it]\n",
      "Training (9923 / 18000 Steps) (loss=0.48699): 100%|██████████| 6/6 [00:11<00:00,  1.88s/it]\n",
      "Training (9929 / 18000 Steps) (loss=0.36187): 100%|██████████| 6/6 [00:11<00:00,  1.94s/it]\n",
      "Training (9935 / 18000 Steps) (loss=0.29895): 100%|██████████| 6/6 [00:11<00:00,  2.00s/it]\n",
      "Training (9941 / 18000 Steps) (loss=0.27696): 100%|██████████| 6/6 [00:11<00:00,  1.97s/it]\n",
      "Training (9947 / 18000 Steps) (loss=0.40995): 100%|██████████| 6/6 [00:11<00:00,  1.90s/it]\n",
      "Training (9953 / 18000 Steps) (loss=0.25214): 100%|██████████| 6/6 [00:11<00:00,  1.95s/it]\n",
      "Training (9959 / 18000 Steps) (loss=0.51713): 100%|██████████| 6/6 [00:11<00:00,  1.90s/it]\n",
      "Training (9965 / 18000 Steps) (loss=0.35649): 100%|██████████| 6/6 [00:11<00:00,  1.94s/it]\n",
      "Training (9971 / 18000 Steps) (loss=0.53884): 100%|██████████| 6/6 [00:11<00:00,  1.94s/it]\n",
      "Training (9977 / 18000 Steps) (loss=0.54573): 100%|██████████| 6/6 [00:11<00:00,  1.94s/it]\n",
      "Training (9983 / 18000 Steps) (loss=0.53412): 100%|██████████| 6/6 [00:11<00:00,  1.88s/it]\n",
      "Training (9989 / 18000 Steps) (loss=0.43197): 100%|██████████| 6/6 [00:11<00:00,  1.92s/it]\n",
      "Training (9995 / 18000 Steps) (loss=0.30123): 100%|██████████| 6/6 [00:11<00:00,  1.91s/it]\n",
      "Validate (9996 / 10 Steps): 100%|██████████| 3/3 [00:11<00:00,  3.91s/it]0<00:03,  1.92s/it]\n",
      "Training (10000 / 18000 Steps) (loss=0.28187):  83%|████████▎ | 5/6 [00:22<00:06,  6.03s/it]"
     ]
    },
    {
     "name": "stdout",
     "output_type": "stream",
     "text": [
      "Model Was Not Saved ! Current Best Avg. Dice: 0.2640021741390228 Current Avg. Dice: 0.21558183431625366 Current Avg. tumor Dice: 0.2653931677341461 Current Avg. lymph Dice: 0.1657704859972\n"
     ]
    },
    {
     "name": "stderr",
     "output_type": "stream",
     "text": [
      "Training (10001 / 18000 Steps) (loss=0.53000): 100%|██████████| 6/6 [00:23<00:00,  3.87s/it]\n",
      "Training (10007 / 18000 Steps) (loss=0.33029): 100%|██████████| 6/6 [00:11<00:00,  1.89s/it]\n",
      "Training (10013 / 18000 Steps) (loss=0.40878): 100%|██████████| 6/6 [00:11<00:00,  1.92s/it]\n",
      "Training (10019 / 18000 Steps) (loss=0.29372): 100%|██████████| 6/6 [00:11<00:00,  1.91s/it]\n",
      "Training (10025 / 18000 Steps) (loss=0.64801): 100%|██████████| 6/6 [00:11<00:00,  1.94s/it]\n",
      "Training (10031 / 18000 Steps) (loss=0.49046): 100%|██████████| 6/6 [00:11<00:00,  1.95s/it]\n",
      "Training (10037 / 18000 Steps) (loss=0.26130): 100%|██████████| 6/6 [00:11<00:00,  2.00s/it]\n",
      "Training (10043 / 18000 Steps) (loss=0.33051): 100%|██████████| 6/6 [00:11<00:00,  1.89s/it]\n",
      "Training (10049 / 18000 Steps) (loss=0.55576): 100%|██████████| 6/6 [00:11<00:00,  1.91s/it]\n",
      "Training (10055 / 18000 Steps) (loss=0.37247): 100%|██████████| 6/6 [00:11<00:00,  1.91s/it]\n",
      "Training (10061 / 18000 Steps) (loss=0.41399): 100%|██████████| 6/6 [00:11<00:00,  1.97s/it]\n",
      "Training (10067 / 18000 Steps) (loss=0.45481): 100%|██████████| 6/6 [00:11<00:00,  1.92s/it]\n",
      "Training (10073 / 18000 Steps) (loss=0.49298): 100%|██████████| 6/6 [00:11<00:00,  1.93s/it]\n",
      "Training (10079 / 18000 Steps) (loss=0.43836): 100%|██████████| 6/6 [00:11<00:00,  1.91s/it]\n",
      "Training (10085 / 18000 Steps) (loss=0.62936): 100%|██████████| 6/6 [00:11<00:00,  1.94s/it]\n",
      "Training (10091 / 18000 Steps) (loss=0.31298): 100%|██████████| 6/6 [00:11<00:00,  1.92s/it]\n",
      "Training (10097 / 18000 Steps) (loss=0.39576): 100%|██████████| 6/6 [00:11<00:00,  1.95s/it]\n",
      "Validate (10098 / 10 Steps): 100%|██████████| 3/3 [00:11<00:00,  3.92s/it]<00:10,  2.64s/it]\n",
      "Training (10100 / 18000 Steps) (loss=0.48837):  50%|█████     | 3/6 [00:19<00:22,  7.54s/it]"
     ]
    },
    {
     "name": "stdout",
     "output_type": "stream",
     "text": [
      "Model Was Not Saved ! Current Best Avg. Dice: 0.2640021741390228 Current Avg. Dice: 0.20657716691493988 Current Avg. tumor Dice: 0.2215399146080017 Current Avg. lymph Dice: 0.19161443412303925\n"
     ]
    },
    {
     "name": "stderr",
     "output_type": "stream",
     "text": [
      "Training (10103 / 18000 Steps) (loss=0.24218): 100%|██████████| 6/6 [00:23<00:00,  3.91s/it]\n",
      "Training (10109 / 18000 Steps) (loss=0.45931): 100%|██████████| 6/6 [00:11<00:00,  1.91s/it]\n",
      "Training (10115 / 18000 Steps) (loss=0.29316): 100%|██████████| 6/6 [00:11<00:00,  1.91s/it]\n",
      "Training (10121 / 18000 Steps) (loss=0.26936): 100%|██████████| 6/6 [00:11<00:00,  1.89s/it]\n",
      "Training (10127 / 18000 Steps) (loss=0.28676): 100%|██████████| 6/6 [00:11<00:00,  1.93s/it]\n",
      "Training (10133 / 18000 Steps) (loss=0.42868): 100%|██████████| 6/6 [00:11<00:00,  1.98s/it]\n",
      "Training (10139 / 18000 Steps) (loss=0.30575): 100%|██████████| 6/6 [00:11<00:00,  1.89s/it]\n",
      "Training (10145 / 18000 Steps) (loss=0.44229): 100%|██████████| 6/6 [00:11<00:00,  1.92s/it]\n",
      "Training (10151 / 18000 Steps) (loss=0.54279): 100%|██████████| 6/6 [00:11<00:00,  1.93s/it]\n",
      "Training (10157 / 18000 Steps) (loss=0.41256): 100%|██████████| 6/6 [00:11<00:00,  1.91s/it]\n",
      "Training (10163 / 18000 Steps) (loss=0.28717): 100%|██████████| 6/6 [00:11<00:00,  1.90s/it]\n",
      "Training (10169 / 18000 Steps) (loss=0.42758): 100%|██████████| 6/6 [00:11<00:00,  1.95s/it]\n",
      "Training (10175 / 18000 Steps) (loss=0.44399): 100%|██████████| 6/6 [00:11<00:00,  1.93s/it]\n",
      "Training (10181 / 18000 Steps) (loss=0.56829): 100%|██████████| 6/6 [00:11<00:00,  1.89s/it]\n",
      "Training (10187 / 18000 Steps) (loss=0.32554): 100%|██████████| 6/6 [00:11<00:00,  1.94s/it]\n",
      "Training (10193 / 18000 Steps) (loss=0.29305): 100%|██████████| 6/6 [00:11<00:00,  1.91s/it]\n",
      "Training (10199 / 18000 Steps) (loss=0.22794): 100%|██████████| 6/6 [00:11<00:00,  1.91s/it]\n",
      "Validate (10200 / 10 Steps): 100%|██████████| 3/3 [00:11<00:00,  3.95s/it]<?, ?it/s]\n",
      "Training (10200 / 18000 Steps) (loss=0.43724):  17%|█▋        | 1/6 [00:16<01:21, 16.25s/it]"
     ]
    },
    {
     "name": "stdout",
     "output_type": "stream",
     "text": [
      "Model Was Not Saved ! Current Best Avg. Dice: 0.2640021741390228 Current Avg. Dice: 0.16806195676326752 Current Avg. tumor Dice: 0.21839730441570282 Current Avg. lymph Dice: 0.11772658675909042\n"
     ]
    },
    {
     "name": "stderr",
     "output_type": "stream",
     "text": [
      "Training (10205 / 18000 Steps) (loss=0.42360): 100%|██████████| 6/6 [00:23<00:00,  3.92s/it]\n",
      "Training (10211 / 18000 Steps) (loss=0.17566): 100%|██████████| 6/6 [00:11<00:00,  1.95s/it]\n",
      "Training (10217 / 18000 Steps) (loss=0.40681): 100%|██████████| 6/6 [00:11<00:00,  1.92s/it]\n",
      "Training (10223 / 18000 Steps) (loss=0.33045): 100%|██████████| 6/6 [00:11<00:00,  1.88s/it]\n",
      "Training (10229 / 18000 Steps) (loss=0.32730): 100%|██████████| 6/6 [00:11<00:00,  1.94s/it]\n",
      "Training (10235 / 18000 Steps) (loss=0.33490): 100%|██████████| 6/6 [00:11<00:00,  1.91s/it]\n",
      "Training (10241 / 18000 Steps) (loss=0.43666): 100%|██████████| 6/6 [00:11<00:00,  1.92s/it]\n",
      "Training (10247 / 18000 Steps) (loss=0.21853): 100%|██████████| 6/6 [00:11<00:00,  1.91s/it]\n",
      "Training (10253 / 18000 Steps) (loss=0.42121): 100%|██████████| 6/6 [00:11<00:00,  1.91s/it]\n",
      "Training (10259 / 18000 Steps) (loss=0.46091): 100%|██████████| 6/6 [00:11<00:00,  1.93s/it]\n",
      "Training (10265 / 18000 Steps) (loss=0.22023): 100%|██████████| 6/6 [00:11<00:00,  1.96s/it]\n",
      "Training (10271 / 18000 Steps) (loss=0.17821): 100%|██████████| 6/6 [00:11<00:00,  1.91s/it]\n",
      "Training (10277 / 18000 Steps) (loss=0.38902): 100%|██████████| 6/6 [00:11<00:00,  1.94s/it]\n",
      "Training (10283 / 18000 Steps) (loss=0.42415): 100%|██████████| 6/6 [00:11<00:00,  1.89s/it]\n",
      "Training (10289 / 18000 Steps) (loss=0.31404): 100%|██████████| 6/6 [00:11<00:00,  1.93s/it]\n",
      "Training (10295 / 18000 Steps) (loss=0.53866): 100%|██████████| 6/6 [00:11<00:00,  1.89s/it]\n",
      "Validate (10296 / 10 Steps): 100%|██████████| 3/3 [00:11<00:00,  3.96s/it]<00:03,  1.93s/it]\n",
      "Training (10300 / 18000 Steps) (loss=0.34958):  83%|████████▎ | 5/6 [00:22<00:06,  6.09s/it]"
     ]
    },
    {
     "name": "stdout",
     "output_type": "stream",
     "text": [
      "Model Was Not Saved ! Current Best Avg. Dice: 0.2640021741390228 Current Avg. Dice: 0.18616043031215668 Current Avg. tumor Dice: 0.21499793231487274 Current Avg. lymph Dice: 0.15732289850711823\n"
     ]
    },
    {
     "name": "stderr",
     "output_type": "stream",
     "text": [
      "Training (10301 / 18000 Steps) (loss=0.51442): 100%|██████████| 6/6 [00:23<00:00,  3.91s/it]\n",
      "Training (10307 / 18000 Steps) (loss=0.23707): 100%|██████████| 6/6 [00:11<00:00,  1.92s/it]\n",
      "Training (10313 / 18000 Steps) (loss=0.27247): 100%|██████████| 6/6 [00:11<00:00,  1.92s/it]\n",
      "Training (10319 / 18000 Steps) (loss=0.47401): 100%|██████████| 6/6 [00:11<00:00,  1.92s/it]\n",
      "Training (10325 / 18000 Steps) (loss=0.53424): 100%|██████████| 6/6 [00:11<00:00,  1.95s/it]\n",
      "Training (10331 / 18000 Steps) (loss=0.51620): 100%|██████████| 6/6 [00:11<00:00,  1.94s/it]\n",
      "Training (10337 / 18000 Steps) (loss=0.35619): 100%|██████████| 6/6 [00:11<00:00,  1.92s/it]\n",
      "Training (10343 / 18000 Steps) (loss=0.46482): 100%|██████████| 6/6 [00:11<00:00,  1.90s/it]\n",
      "Training (10349 / 18000 Steps) (loss=0.61607): 100%|██████████| 6/6 [00:11<00:00,  1.94s/it]\n",
      "Training (10355 / 18000 Steps) (loss=0.20403): 100%|██████████| 6/6 [00:11<00:00,  1.90s/it]\n",
      "Training (10361 / 18000 Steps) (loss=0.31973): 100%|██████████| 6/6 [00:11<00:00,  1.89s/it]\n",
      "Training (10367 / 18000 Steps) (loss=0.25977): 100%|██████████| 6/6 [00:11<00:00,  1.90s/it]\n",
      "Training (10373 / 18000 Steps) (loss=0.42203): 100%|██████████| 6/6 [00:11<00:00,  1.96s/it]\n",
      "Training (10379 / 18000 Steps) (loss=0.44549): 100%|██████████| 6/6 [00:11<00:00,  1.95s/it]\n",
      "Training (10385 / 18000 Steps) (loss=0.30828): 100%|██████████| 6/6 [00:11<00:00,  1.92s/it]\n",
      "Training (10391 / 18000 Steps) (loss=0.37135): 100%|██████████| 6/6 [00:11<00:00,  1.90s/it]\n",
      "Training (10397 / 18000 Steps) (loss=0.28217): 100%|██████████| 6/6 [00:11<00:00,  1.92s/it]\n",
      "Validate (10398 / 10 Steps): 100%|██████████| 3/3 [00:11<00:00,  3.93s/it]<00:10,  2.60s/it]\n",
      "Training (10400 / 18000 Steps) (loss=0.36147):  50%|█████     | 3/6 [00:19<00:22,  7.53s/it]"
     ]
    },
    {
     "name": "stdout",
     "output_type": "stream",
     "text": [
      "Model Was Not Saved ! Current Best Avg. Dice: 0.2640021741390228 Current Avg. Dice: 0.19675691425800323 Current Avg. tumor Dice: 0.23837178945541382 Current Avg. lymph Dice: 0.15514208376407623\n"
     ]
    },
    {
     "name": "stderr",
     "output_type": "stream",
     "text": [
      "Training (10403 / 18000 Steps) (loss=0.31509): 100%|██████████| 6/6 [00:23<00:00,  3.87s/it]\n",
      "Training (10409 / 18000 Steps) (loss=0.43676): 100%|██████████| 6/6 [00:11<00:00,  1.93s/it]\n",
      "Training (10415 / 18000 Steps) (loss=0.34407): 100%|██████████| 6/6 [00:11<00:00,  1.94s/it]\n",
      "Training (10421 / 18000 Steps) (loss=0.29043): 100%|██████████| 6/6 [00:11<00:00,  1.90s/it]\n",
      "Training (10427 / 18000 Steps) (loss=0.23141): 100%|██████████| 6/6 [00:11<00:00,  1.93s/it]\n",
      "Training (10433 / 18000 Steps) (loss=0.36120): 100%|██████████| 6/6 [00:11<00:00,  1.91s/it]\n",
      "Training (10439 / 18000 Steps) (loss=0.44112): 100%|██████████| 6/6 [00:11<00:00,  1.92s/it]\n",
      "Training (10445 / 18000 Steps) (loss=0.29339): 100%|██████████| 6/6 [00:11<00:00,  1.91s/it]\n",
      "Training (10451 / 18000 Steps) (loss=0.16857): 100%|██████████| 6/6 [00:11<00:00,  1.94s/it]\n",
      "Training (10457 / 18000 Steps) (loss=0.46612): 100%|██████████| 6/6 [00:11<00:00,  1.96s/it]\n",
      "Training (10463 / 18000 Steps) (loss=0.40599): 100%|██████████| 6/6 [00:11<00:00,  1.92s/it]\n",
      "Training (10469 / 18000 Steps) (loss=0.44147): 100%|██████████| 6/6 [00:11<00:00,  1.90s/it]\n",
      "Training (10475 / 18000 Steps) (loss=0.35280): 100%|██████████| 6/6 [00:11<00:00,  1.96s/it]\n",
      "Training (10481 / 18000 Steps) (loss=0.55123): 100%|██████████| 6/6 [00:11<00:00,  1.88s/it]\n",
      "Training (10487 / 18000 Steps) (loss=0.47171): 100%|██████████| 6/6 [00:11<00:00,  1.92s/it]\n",
      "Training (10493 / 18000 Steps) (loss=0.38435): 100%|██████████| 6/6 [00:11<00:00,  1.91s/it]\n",
      "Training (10499 / 18000 Steps) (loss=0.46345): 100%|██████████| 6/6 [00:11<00:00,  1.91s/it]\n",
      "Validate (10500 / 10 Steps): 100%|██████████| 3/3 [00:11<00:00,  3.97s/it]<?, ?it/s]\n",
      "Training (10500 / 18000 Steps) (loss=0.41870):  17%|█▋        | 1/6 [00:16<01:21, 16.34s/it]"
     ]
    },
    {
     "name": "stdout",
     "output_type": "stream",
     "text": [
      "Model Was Not Saved ! Current Best Avg. Dice: 0.2640021741390228 Current Avg. Dice: 0.1761285662651062 Current Avg. tumor Dice: 0.23193395137786865 Current Avg. lymph Dice: 0.12032320350408554\n"
     ]
    },
    {
     "name": "stderr",
     "output_type": "stream",
     "text": [
      "Training (10505 / 18000 Steps) (loss=0.48778): 100%|██████████| 6/6 [00:23<00:00,  3.97s/it]\n",
      "Training (10511 / 18000 Steps) (loss=0.32322): 100%|██████████| 6/6 [00:11<00:00,  1.91s/it]\n",
      "Training (10517 / 18000 Steps) (loss=0.40390): 100%|██████████| 6/6 [00:11<00:00,  1.92s/it]\n",
      "Training (10523 / 18000 Steps) (loss=0.50041): 100%|██████████| 6/6 [00:11<00:00,  1.97s/it]\n",
      "Training (10529 / 18000 Steps) (loss=0.41350): 100%|██████████| 6/6 [00:11<00:00,  1.94s/it]\n",
      "Training (10535 / 18000 Steps) (loss=0.32833): 100%|██████████| 6/6 [00:11<00:00,  1.92s/it]\n",
      "Training (10541 / 18000 Steps) (loss=0.31405): 100%|██████████| 6/6 [00:11<00:00,  1.90s/it]\n",
      "Training (10547 / 18000 Steps) (loss=0.32307): 100%|██████████| 6/6 [00:11<00:00,  1.91s/it]\n",
      "Training (10553 / 18000 Steps) (loss=0.46862): 100%|██████████| 6/6 [00:11<00:00,  1.89s/it]\n",
      "Training (10559 / 18000 Steps) (loss=0.56808): 100%|██████████| 6/6 [00:11<00:00,  1.92s/it]\n",
      "Training (10565 / 18000 Steps) (loss=0.18524): 100%|██████████| 6/6 [00:11<00:00,  1.94s/it]\n",
      "Training (10571 / 18000 Steps) (loss=0.47489): 100%|██████████| 6/6 [00:11<00:00,  1.92s/it]\n",
      "Training (10577 / 18000 Steps) (loss=0.39166): 100%|██████████| 6/6 [00:11<00:00,  1.91s/it]\n",
      "Training (10583 / 18000 Steps) (loss=0.30122): 100%|██████████| 6/6 [00:11<00:00,  1.93s/it]\n",
      "Training (10589 / 18000 Steps) (loss=0.15079): 100%|██████████| 6/6 [00:11<00:00,  1.90s/it]\n",
      "Training (10595 / 18000 Steps) (loss=0.38082): 100%|██████████| 6/6 [00:11<00:00,  1.92s/it]\n",
      "Validate (10596 / 10 Steps): 100%|██████████| 3/3 [00:11<00:00,  3.96s/it]<00:03,  1.91s/it]\n",
      "Training (10600 / 18000 Steps) (loss=0.37634):  83%|████████▎ | 5/6 [00:22<00:06,  6.08s/it]"
     ]
    },
    {
     "name": "stdout",
     "output_type": "stream",
     "text": [
      "Model Was Not Saved ! Current Best Avg. Dice: 0.2640021741390228 Current Avg. Dice: 0.1843198984861374 Current Avg. tumor Dice: 0.24351267516613007 Current Avg. lymph Dice: 0.12512709200382233\n"
     ]
    },
    {
     "name": "stderr",
     "output_type": "stream",
     "text": [
      "Training (10601 / 18000 Steps) (loss=0.47397): 100%|██████████| 6/6 [00:23<00:00,  3.89s/it]\n",
      "Training (10607 / 18000 Steps) (loss=0.41711): 100%|██████████| 6/6 [00:11<00:00,  1.95s/it]\n",
      "Training (10613 / 18000 Steps) (loss=0.34604): 100%|██████████| 6/6 [00:11<00:00,  1.93s/it]\n",
      "Training (10619 / 18000 Steps) (loss=0.32617): 100%|██████████| 6/6 [00:11<00:00,  1.92s/it]\n",
      "Training (10625 / 18000 Steps) (loss=0.39373): 100%|██████████| 6/6 [00:11<00:00,  1.92s/it]\n",
      "Training (10631 / 18000 Steps) (loss=0.52936): 100%|██████████| 6/6 [00:11<00:00,  1.95s/it]\n",
      "Training (10637 / 18000 Steps) (loss=0.48241): 100%|██████████| 6/6 [00:11<00:00,  1.95s/it]\n",
      "Training (10643 / 18000 Steps) (loss=0.37684): 100%|██████████| 6/6 [00:11<00:00,  1.94s/it]\n",
      "Training (10649 / 18000 Steps) (loss=0.34570): 100%|██████████| 6/6 [00:11<00:00,  1.93s/it]\n",
      "Training (10655 / 18000 Steps) (loss=0.37603): 100%|██████████| 6/6 [00:11<00:00,  1.94s/it]\n",
      "Training (10661 / 18000 Steps) (loss=0.46428): 100%|██████████| 6/6 [00:11<00:00,  1.93s/it]\n",
      "Training (10667 / 18000 Steps) (loss=0.31306): 100%|██████████| 6/6 [00:11<00:00,  1.90s/it]\n",
      "Training (10673 / 18000 Steps) (loss=0.42797): 100%|██████████| 6/6 [00:11<00:00,  1.89s/it]\n",
      "Training (10679 / 18000 Steps) (loss=0.40035): 100%|██████████| 6/6 [00:11<00:00,  1.96s/it]\n",
      "Training (10685 / 18000 Steps) (loss=0.46206): 100%|██████████| 6/6 [00:11<00:00,  1.90s/it]\n",
      "Training (10691 / 18000 Steps) (loss=0.43472): 100%|██████████| 6/6 [00:11<00:00,  1.90s/it]\n",
      "Training (10697 / 18000 Steps) (loss=0.50142): 100%|██████████| 6/6 [00:11<00:00,  1.93s/it]\n",
      "Validate (10698 / 10 Steps): 100%|██████████| 3/3 [00:11<00:00,  3.95s/it]<00:11,  2.76s/it]\n",
      "Training (10700 / 18000 Steps) (loss=0.43046):  50%|█████     | 3/6 [00:19<00:22,  7.64s/it]"
     ]
    },
    {
     "name": "stdout",
     "output_type": "stream",
     "text": [
      "Model Was Not Saved ! Current Best Avg. Dice: 0.2640021741390228 Current Avg. Dice: 0.1772158294916153 Current Avg. tumor Dice: 0.23492835462093353 Current Avg. lymph Dice: 0.11950329691171646\n"
     ]
    },
    {
     "name": "stderr",
     "output_type": "stream",
     "text": [
      "Training (10703 / 18000 Steps) (loss=0.69071): 100%|██████████| 6/6 [00:23<00:00,  3.94s/it]\n",
      "Training (10709 / 18000 Steps) (loss=0.27837): 100%|██████████| 6/6 [00:11<00:00,  1.90s/it]\n",
      "Training (10715 / 18000 Steps) (loss=0.43169): 100%|██████████| 6/6 [00:11<00:00,  1.89s/it]\n",
      "Training (10721 / 18000 Steps) (loss=0.51040): 100%|██████████| 6/6 [00:11<00:00,  1.96s/it]\n",
      "Training (10727 / 18000 Steps) (loss=0.30911): 100%|██████████| 6/6 [00:11<00:00,  1.96s/it]\n",
      "Training (10733 / 18000 Steps) (loss=0.55211): 100%|██████████| 6/6 [00:11<00:00,  1.92s/it]\n",
      "Training (10739 / 18000 Steps) (loss=0.30693): 100%|██████████| 6/6 [00:11<00:00,  1.89s/it]\n",
      "Training (10745 / 18000 Steps) (loss=0.49782): 100%|██████████| 6/6 [00:11<00:00,  1.96s/it]\n",
      "Training (10751 / 18000 Steps) (loss=0.55458): 100%|██████████| 6/6 [00:11<00:00,  1.92s/it]\n",
      "Training (10757 / 18000 Steps) (loss=0.24971): 100%|██████████| 6/6 [00:11<00:00,  1.90s/it]\n",
      "Training (10763 / 18000 Steps) (loss=0.54794): 100%|██████████| 6/6 [00:11<00:00,  1.91s/it]\n",
      "Training (10769 / 18000 Steps) (loss=0.35532): 100%|██████████| 6/6 [00:11<00:00,  1.96s/it]\n",
      "Training (10775 / 18000 Steps) (loss=0.22847): 100%|██████████| 6/6 [00:11<00:00,  1.93s/it]\n",
      "Training (10781 / 18000 Steps) (loss=0.39420): 100%|██████████| 6/6 [00:11<00:00,  1.88s/it]\n",
      "Training (10787 / 18000 Steps) (loss=0.41253): 100%|██████████| 6/6 [00:11<00:00,  1.88s/it]\n",
      "Training (10793 / 18000 Steps) (loss=0.39918): 100%|██████████| 6/6 [00:11<00:00,  1.96s/it]\n",
      "Training (10799 / 18000 Steps) (loss=0.54653): 100%|██████████| 6/6 [00:11<00:00,  1.90s/it]\n",
      "Validate (10800 / 10 Steps): 100%|██████████| 3/3 [00:11<00:00,  3.95s/it]<?, ?it/s]\n",
      "Training (10800 / 18000 Steps) (loss=0.33467):  17%|█▋        | 1/6 [00:16<01:20, 16.10s/it]"
     ]
    },
    {
     "name": "stdout",
     "output_type": "stream",
     "text": [
      "Model Was Not Saved ! Current Best Avg. Dice: 0.2640021741390228 Current Avg. Dice: 0.20570147037506104 Current Avg. tumor Dice: 0.2420981377363205 Current Avg. lymph Dice: 0.16930480301380157\n"
     ]
    },
    {
     "name": "stderr",
     "output_type": "stream",
     "text": [
      "Training (10805 / 18000 Steps) (loss=0.50227): 100%|██████████| 6/6 [00:23<00:00,  3.90s/it]\n",
      "Training (10811 / 18000 Steps) (loss=0.30089): 100%|██████████| 6/6 [00:11<00:00,  1.91s/it]\n",
      "Training (10817 / 18000 Steps) (loss=0.51137): 100%|██████████| 6/6 [00:11<00:00,  1.94s/it]\n",
      "Training (10823 / 18000 Steps) (loss=0.26357): 100%|██████████| 6/6 [00:11<00:00,  1.92s/it]\n",
      "Training (10829 / 18000 Steps) (loss=0.27764): 100%|██████████| 6/6 [00:11<00:00,  1.94s/it]\n",
      "Training (10835 / 18000 Steps) (loss=0.54173): 100%|██████████| 6/6 [00:11<00:00,  1.91s/it]\n",
      "Training (10841 / 18000 Steps) (loss=0.34178): 100%|██████████| 6/6 [00:11<00:00,  1.91s/it]\n",
      "Training (10847 / 18000 Steps) (loss=0.47089): 100%|██████████| 6/6 [00:11<00:00,  1.91s/it]\n",
      "Training (10853 / 18000 Steps) (loss=0.49643): 100%|██████████| 6/6 [00:11<00:00,  1.91s/it]\n",
      "Training (10859 / 18000 Steps) (loss=0.54547): 100%|██████████| 6/6 [00:11<00:00,  1.91s/it]\n",
      "Training (10865 / 18000 Steps) (loss=0.39747): 100%|██████████| 6/6 [00:11<00:00,  1.91s/it]\n",
      "Training (10871 / 18000 Steps) (loss=0.31126): 100%|██████████| 6/6 [00:11<00:00,  1.92s/it]\n",
      "Training (10877 / 18000 Steps) (loss=0.37246): 100%|██████████| 6/6 [00:11<00:00,  1.98s/it]\n",
      "Training (10883 / 18000 Steps) (loss=0.25178): 100%|██████████| 6/6 [00:11<00:00,  1.90s/it]\n",
      "Training (10889 / 18000 Steps) (loss=0.28008): 100%|██████████| 6/6 [00:11<00:00,  1.91s/it]\n",
      "Training (10895 / 18000 Steps) (loss=0.22255): 100%|██████████| 6/6 [00:11<00:00,  1.89s/it]\n",
      "Validate (10896 / 10 Steps): 100%|██████████| 3/3 [00:11<00:00,  3.96s/it]<00:03,  1.95s/it]\n",
      "Training (10900 / 18000 Steps) (loss=0.46922):  83%|████████▎ | 5/6 [00:22<00:06,  6.12s/it]"
     ]
    },
    {
     "name": "stdout",
     "output_type": "stream",
     "text": [
      "Model Was Not Saved ! Current Best Avg. Dice: 0.2640021741390228 Current Avg. Dice: 0.20923149585723877 Current Avg. tumor Dice: 0.26226380467414856 Current Avg. lymph Dice: 0.15619917213916779\n"
     ]
    },
    {
     "name": "stderr",
     "output_type": "stream",
     "text": [
      "Training (10901 / 18000 Steps) (loss=0.32151): 100%|██████████| 6/6 [00:23<00:00,  3.93s/it]\n",
      "Training (10907 / 18000 Steps) (loss=0.34084): 100%|██████████| 6/6 [00:11<00:00,  1.92s/it]\n",
      "Training (10913 / 18000 Steps) (loss=0.41475): 100%|██████████| 6/6 [00:11<00:00,  1.91s/it]\n",
      "Training (10919 / 18000 Steps) (loss=0.26703): 100%|██████████| 6/6 [00:11<00:00,  1.91s/it]\n",
      "Training (10925 / 18000 Steps) (loss=0.48359): 100%|██████████| 6/6 [00:11<00:00,  1.97s/it]\n",
      "Training (10931 / 18000 Steps) (loss=0.59886): 100%|██████████| 6/6 [00:11<00:00,  1.97s/it]\n",
      "Training (10937 / 18000 Steps) (loss=0.20668): 100%|██████████| 6/6 [00:11<00:00,  1.87s/it]\n",
      "Training (10943 / 18000 Steps) (loss=0.34722): 100%|██████████| 6/6 [00:11<00:00,  1.93s/it]\n",
      "Training (10949 / 18000 Steps) (loss=0.39096): 100%|██████████| 6/6 [00:11<00:00,  1.89s/it]\n",
      "Training (10955 / 18000 Steps) (loss=0.66734): 100%|██████████| 6/6 [00:11<00:00,  1.95s/it]\n",
      "Training (10961 / 18000 Steps) (loss=0.50396): 100%|██████████| 6/6 [00:11<00:00,  1.92s/it]\n",
      "Training (10967 / 18000 Steps) (loss=0.43325): 100%|██████████| 6/6 [00:11<00:00,  1.94s/it]\n",
      "Training (10973 / 18000 Steps) (loss=0.40927): 100%|██████████| 6/6 [00:11<00:00,  1.90s/it]\n",
      "Training (10979 / 18000 Steps) (loss=0.46569): 100%|██████████| 6/6 [00:11<00:00,  1.94s/it]\n",
      "Training (10985 / 18000 Steps) (loss=0.53271): 100%|██████████| 6/6 [00:11<00:00,  1.91s/it]\n",
      "Training (10991 / 18000 Steps) (loss=0.30376): 100%|██████████| 6/6 [00:11<00:00,  1.96s/it]\n",
      "Training (10997 / 18000 Steps) (loss=0.54896): 100%|██████████| 6/6 [00:11<00:00,  1.89s/it]\n",
      "Validate (10998 / 10 Steps): 100%|██████████| 3/3 [00:11<00:00,  3.93s/it]<00:10,  2.73s/it]\n",
      "Training (11000 / 18000 Steps) (loss=0.49856):  50%|█████     | 3/6 [00:19<00:22,  7.60s/it]"
     ]
    },
    {
     "name": "stdout",
     "output_type": "stream",
     "text": [
      "Model Was Not Saved ! Current Best Avg. Dice: 0.2640021741390228 Current Avg. Dice: 0.2001476138830185 Current Avg. tumor Dice: 0.2798275947570801 Current Avg. lymph Dice: 0.12046758085489273\n"
     ]
    },
    {
     "name": "stderr",
     "output_type": "stream",
     "text": [
      "Training (11003 / 18000 Steps) (loss=0.31431): 100%|██████████| 6/6 [00:23<00:00,  3.92s/it]\n",
      "Training (11009 / 18000 Steps) (loss=0.41074): 100%|██████████| 6/6 [00:11<00:00,  1.97s/it]\n",
      "Training (11015 / 18000 Steps) (loss=0.33408): 100%|██████████| 6/6 [00:11<00:00,  1.91s/it]\n",
      "Training (11021 / 18000 Steps) (loss=0.44636): 100%|██████████| 6/6 [00:11<00:00,  1.90s/it]\n",
      "Training (11027 / 18000 Steps) (loss=0.18825): 100%|██████████| 6/6 [00:11<00:00,  1.93s/it]\n",
      "Training (11033 / 18000 Steps) (loss=0.17861): 100%|██████████| 6/6 [00:11<00:00,  1.96s/it]\n",
      "Training (11039 / 18000 Steps) (loss=0.29471): 100%|██████████| 6/6 [00:11<00:00,  1.91s/it]\n",
      "Training (11045 / 18000 Steps) (loss=0.25212): 100%|██████████| 6/6 [00:11<00:00,  1.89s/it]\n",
      "Training (11051 / 18000 Steps) (loss=0.27819): 100%|██████████| 6/6 [00:11<00:00,  1.89s/it]\n",
      "Training (11057 / 18000 Steps) (loss=0.39951): 100%|██████████| 6/6 [00:11<00:00,  1.97s/it]\n",
      "Training (11063 / 18000 Steps) (loss=0.32911): 100%|██████████| 6/6 [00:11<00:00,  1.94s/it]\n",
      "Training (11069 / 18000 Steps) (loss=0.54066): 100%|██████████| 6/6 [00:11<00:00,  1.95s/it]\n",
      "Training (11075 / 18000 Steps) (loss=0.49703): 100%|██████████| 6/6 [00:11<00:00,  1.97s/it]\n",
      "Training (11081 / 18000 Steps) (loss=0.42501): 100%|██████████| 6/6 [00:11<00:00,  1.91s/it]\n",
      "Training (11087 / 18000 Steps) (loss=0.41934): 100%|██████████| 6/6 [00:11<00:00,  1.92s/it]\n",
      "Training (11093 / 18000 Steps) (loss=0.18240): 100%|██████████| 6/6 [00:11<00:00,  1.93s/it]\n",
      "Training (11099 / 18000 Steps) (loss=0.42598): 100%|██████████| 6/6 [00:11<00:00,  1.94s/it]\n",
      "Validate (11100 / 10 Steps): 100%|██████████| 3/3 [00:11<00:00,  3.97s/it]<?, ?it/s]\n",
      "Training (11100 / 18000 Steps) (loss=0.30862):  17%|█▋        | 1/6 [00:16<01:20, 16.16s/it]"
     ]
    },
    {
     "name": "stdout",
     "output_type": "stream",
     "text": [
      "Model Was Not Saved ! Current Best Avg. Dice: 0.2640021741390228 Current Avg. Dice: 0.18899570405483246 Current Avg. tumor Dice: 0.26265543699264526 Current Avg. lymph Dice: 0.11533597856760025\n"
     ]
    },
    {
     "name": "stderr",
     "output_type": "stream",
     "text": [
      "Training (11105 / 18000 Steps) (loss=0.29970): 100%|██████████| 6/6 [00:23<00:00,  3.92s/it]\n",
      "Training (11111 / 18000 Steps) (loss=0.56522): 100%|██████████| 6/6 [00:11<00:00,  1.90s/it]\n",
      "Training (11117 / 18000 Steps) (loss=0.34585): 100%|██████████| 6/6 [00:11<00:00,  1.97s/it]\n",
      "Training (11123 / 18000 Steps) (loss=0.18802): 100%|██████████| 6/6 [00:11<00:00,  1.93s/it]\n",
      "Training (11129 / 18000 Steps) (loss=0.46364): 100%|██████████| 6/6 [00:11<00:00,  1.92s/it]\n",
      "Training (11135 / 18000 Steps) (loss=0.13438): 100%|██████████| 6/6 [00:11<00:00,  1.92s/it]\n",
      "Training (11141 / 18000 Steps) (loss=0.17461): 100%|██████████| 6/6 [00:11<00:00,  1.95s/it]\n",
      "Training (11147 / 18000 Steps) (loss=0.30571): 100%|██████████| 6/6 [00:11<00:00,  1.91s/it]\n",
      "Training (11153 / 18000 Steps) (loss=0.41927): 100%|██████████| 6/6 [00:11<00:00,  1.92s/it]\n",
      "Training (11159 / 18000 Steps) (loss=0.28785): 100%|██████████| 6/6 [00:11<00:00,  1.89s/it]\n",
      "Training (11165 / 18000 Steps) (loss=0.37715): 100%|██████████| 6/6 [00:11<00:00,  1.95s/it]\n",
      "Training (11171 / 18000 Steps) (loss=0.43824): 100%|██████████| 6/6 [00:11<00:00,  1.93s/it]\n",
      "Training (11177 / 18000 Steps) (loss=0.47201): 100%|██████████| 6/6 [00:11<00:00,  1.92s/it]\n",
      "Training (11183 / 18000 Steps) (loss=0.40129): 100%|██████████| 6/6 [00:11<00:00,  1.95s/it]\n",
      "Training (11189 / 18000 Steps) (loss=0.54084): 100%|██████████| 6/6 [00:11<00:00,  1.93s/it]\n",
      "Training (11195 / 18000 Steps) (loss=0.28493): 100%|██████████| 6/6 [00:11<00:00,  1.88s/it]\n",
      "Validate (11196 / 10 Steps): 100%|██████████| 3/3 [00:11<00:00,  3.94s/it]<00:03,  1.95s/it]\n",
      "Training (11200 / 18000 Steps) (loss=0.47497):  83%|████████▎ | 5/6 [00:22<00:06,  6.08s/it]"
     ]
    },
    {
     "name": "stdout",
     "output_type": "stream",
     "text": [
      "Model Was Not Saved ! Current Best Avg. Dice: 0.2640021741390228 Current Avg. Dice: 0.21508802473545074 Current Avg. tumor Dice: 0.27277079224586487 Current Avg. lymph Dice: 0.15740524232387543\n"
     ]
    },
    {
     "name": "stderr",
     "output_type": "stream",
     "text": [
      "Training (11201 / 18000 Steps) (loss=0.60967): 100%|██████████| 6/6 [00:23<00:00,  3.90s/it]\n",
      "Training (11207 / 18000 Steps) (loss=0.41521): 100%|██████████| 6/6 [00:11<00:00,  1.92s/it]\n",
      "Training (11213 / 18000 Steps) (loss=0.38046): 100%|██████████| 6/6 [00:11<00:00,  1.91s/it]\n",
      "Training (11219 / 18000 Steps) (loss=0.43023): 100%|██████████| 6/6 [00:11<00:00,  1.94s/it]\n",
      "Training (11225 / 18000 Steps) (loss=0.42118): 100%|██████████| 6/6 [00:11<00:00,  1.93s/it]\n",
      "Training (11231 / 18000 Steps) (loss=0.21976): 100%|██████████| 6/6 [00:11<00:00,  1.91s/it]\n",
      "Training (11237 / 18000 Steps) (loss=0.53629): 100%|██████████| 6/6 [00:11<00:00,  1.94s/it]\n",
      "Training (11243 / 18000 Steps) (loss=0.56112): 100%|██████████| 6/6 [00:11<00:00,  1.93s/it]\n",
      "Training (11249 / 18000 Steps) (loss=0.29432): 100%|██████████| 6/6 [00:11<00:00,  1.91s/it]\n",
      "Training (11255 / 18000 Steps) (loss=0.67294): 100%|██████████| 6/6 [00:11<00:00,  1.93s/it]\n",
      "Training (11261 / 18000 Steps) (loss=0.36453): 100%|██████████| 6/6 [00:11<00:00,  1.91s/it]\n",
      "Training (11267 / 18000 Steps) (loss=0.49513): 100%|██████████| 6/6 [00:11<00:00,  1.96s/it]\n",
      "Training (11273 / 18000 Steps) (loss=0.30150): 100%|██████████| 6/6 [00:11<00:00,  1.92s/it]\n",
      "Training (11279 / 18000 Steps) (loss=0.55866): 100%|██████████| 6/6 [00:11<00:00,  1.92s/it]\n",
      "Training (11285 / 18000 Steps) (loss=0.43276): 100%|██████████| 6/6 [00:11<00:00,  1.90s/it]\n",
      "Training (11291 / 18000 Steps) (loss=0.34598): 100%|██████████| 6/6 [00:11<00:00,  1.91s/it]\n",
      "Training (11297 / 18000 Steps) (loss=0.32265): 100%|██████████| 6/6 [00:11<00:00,  1.93s/it]\n",
      "Validate (11298 / 10 Steps): 100%|██████████| 3/3 [00:11<00:00,  3.95s/it]<00:10,  2.66s/it]\n",
      "Training (11300 / 18000 Steps) (loss=0.50015):  50%|█████     | 3/6 [00:19<00:22,  7.58s/it]"
     ]
    },
    {
     "name": "stdout",
     "output_type": "stream",
     "text": [
      "Model Was Not Saved ! Current Best Avg. Dice: 0.2640021741390228 Current Avg. Dice: 0.19839827716350555 Current Avg. tumor Dice: 0.22490037977695465 Current Avg. lymph Dice: 0.17189614474773407\n"
     ]
    },
    {
     "name": "stderr",
     "output_type": "stream",
     "text": [
      "Training (11303 / 18000 Steps) (loss=0.41346): 100%|██████████| 6/6 [00:23<00:00,  3.89s/it]\n",
      "Training (11309 / 18000 Steps) (loss=0.68896): 100%|██████████| 6/6 [00:11<00:00,  1.91s/it]\n",
      "Training (11315 / 18000 Steps) (loss=0.28079): 100%|██████████| 6/6 [00:11<00:00,  1.95s/it]\n",
      "Training (11321 / 18000 Steps) (loss=0.55052): 100%|██████████| 6/6 [00:11<00:00,  1.93s/it]\n",
      "Training (11327 / 18000 Steps) (loss=0.28199): 100%|██████████| 6/6 [00:11<00:00,  1.89s/it]\n",
      "Training (11333 / 18000 Steps) (loss=0.32108): 100%|██████████| 6/6 [00:11<00:00,  1.93s/it]\n",
      "Training (11339 / 18000 Steps) (loss=0.41478): 100%|██████████| 6/6 [00:11<00:00,  1.91s/it]\n",
      "Training (11345 / 18000 Steps) (loss=0.35468): 100%|██████████| 6/6 [00:11<00:00,  1.91s/it]\n",
      "Training (11351 / 18000 Steps) (loss=0.46154): 100%|██████████| 6/6 [00:11<00:00,  1.95s/it]\n",
      "Training (11357 / 18000 Steps) (loss=0.37383): 100%|██████████| 6/6 [00:11<00:00,  1.96s/it]\n",
      "Training (11363 / 18000 Steps) (loss=0.37131): 100%|██████████| 6/6 [00:11<00:00,  1.95s/it]\n",
      "Training (11369 / 18000 Steps) (loss=0.32577): 100%|██████████| 6/6 [00:11<00:00,  1.89s/it]\n",
      "Training (11375 / 18000 Steps) (loss=0.32281): 100%|██████████| 6/6 [00:11<00:00,  1.88s/it]\n",
      "Training (11381 / 18000 Steps) (loss=0.22789): 100%|██████████| 6/6 [00:11<00:00,  1.91s/it]\n",
      "Training (11387 / 18000 Steps) (loss=0.40771): 100%|██████████| 6/6 [00:11<00:00,  1.97s/it]\n",
      "Training (11393 / 18000 Steps) (loss=0.14952): 100%|██████████| 6/6 [00:11<00:00,  1.92s/it]\n",
      "Training (11399 / 18000 Steps) (loss=0.36714): 100%|██████████| 6/6 [00:11<00:00,  1.92s/it]\n",
      "Validate (11400 / 10 Steps): 100%|██████████| 3/3 [00:11<00:00,  3.92s/it]<?, ?it/s]\n",
      "Training (11400 / 18000 Steps) (loss=0.24438):  17%|█▋        | 1/6 [00:15<01:19, 16.00s/it]"
     ]
    },
    {
     "name": "stdout",
     "output_type": "stream",
     "text": [
      "Model Was Not Saved ! Current Best Avg. Dice: 0.2640021741390228 Current Avg. Dice: 0.19790659844875336 Current Avg. tumor Dice: 0.2605349123477936 Current Avg. lymph Dice: 0.13527828454971313\n"
     ]
    },
    {
     "name": "stderr",
     "output_type": "stream",
     "text": [
      "Training (11405 / 18000 Steps) (loss=0.37087): 100%|██████████| 6/6 [00:23<00:00,  3.92s/it]\n",
      "Training (11411 / 18000 Steps) (loss=0.43225): 100%|██████████| 6/6 [00:11<00:00,  1.92s/it]\n",
      "Training (11417 / 18000 Steps) (loss=0.33692): 100%|██████████| 6/6 [00:11<00:00,  1.93s/it]\n",
      "Training (11423 / 18000 Steps) (loss=0.29054): 100%|██████████| 6/6 [00:11<00:00,  1.91s/it]\n",
      "Training (11429 / 18000 Steps) (loss=0.49243): 100%|██████████| 6/6 [00:11<00:00,  1.94s/it]\n",
      "Training (11435 / 18000 Steps) (loss=0.25667): 100%|██████████| 6/6 [00:11<00:00,  1.94s/it]\n",
      "Training (11441 / 18000 Steps) (loss=0.54721): 100%|██████████| 6/6 [00:11<00:00,  1.95s/it]\n",
      "Training (11447 / 18000 Steps) (loss=0.27466): 100%|██████████| 6/6 [00:11<00:00,  1.93s/it]\n",
      "Training (11453 / 18000 Steps) (loss=0.47251): 100%|██████████| 6/6 [00:11<00:00,  1.95s/it]\n",
      "Training (11459 / 18000 Steps) (loss=0.19514): 100%|██████████| 6/6 [00:11<00:00,  1.93s/it]\n",
      "Training (11465 / 18000 Steps) (loss=0.28042): 100%|██████████| 6/6 [00:11<00:00,  1.91s/it]\n",
      "Training (11471 / 18000 Steps) (loss=0.30979): 100%|██████████| 6/6 [00:11<00:00,  1.92s/it]\n",
      "Training (11477 / 18000 Steps) (loss=0.39222): 100%|██████████| 6/6 [00:11<00:00,  1.96s/it]\n",
      "Training (11483 / 18000 Steps) (loss=0.29534): 100%|██████████| 6/6 [00:11<00:00,  1.89s/it]\n",
      "Training (11489 / 18000 Steps) (loss=0.13549): 100%|██████████| 6/6 [00:11<00:00,  1.92s/it]\n",
      "Training (11495 / 18000 Steps) (loss=0.45814): 100%|██████████| 6/6 [00:11<00:00,  1.94s/it]\n",
      "Validate (11496 / 10 Steps): 100%|██████████| 3/3 [00:11<00:00,  3.97s/it]<00:03,  1.92s/it]\n",
      "Training (11500 / 18000 Steps) (loss=0.38218):  83%|████████▎ | 5/6 [00:22<00:06,  6.11s/it]"
     ]
    },
    {
     "name": "stdout",
     "output_type": "stream",
     "text": [
      "Model Was Not Saved ! Current Best Avg. Dice: 0.2640021741390228 Current Avg. Dice: 0.22163696587085724 Current Avg. tumor Dice: 0.2611427307128906 Current Avg. lymph Dice: 0.18213121592998505\n"
     ]
    },
    {
     "name": "stderr",
     "output_type": "stream",
     "text": [
      "Training (11501 / 18000 Steps) (loss=0.30215): 100%|██████████| 6/6 [00:23<00:00,  3.92s/it]\n",
      "Training (11507 / 18000 Steps) (loss=0.17473): 100%|██████████| 6/6 [00:11<00:00,  1.96s/it]\n",
      "Training (11513 / 18000 Steps) (loss=0.19945): 100%|██████████| 6/6 [00:11<00:00,  1.95s/it]\n",
      "Training (11519 / 18000 Steps) (loss=0.37661): 100%|██████████| 6/6 [00:11<00:00,  1.91s/it]\n",
      "Training (11525 / 18000 Steps) (loss=0.41180): 100%|██████████| 6/6 [00:11<00:00,  1.90s/it]\n",
      "Training (11531 / 18000 Steps) (loss=0.59713): 100%|██████████| 6/6 [00:11<00:00,  1.91s/it]\n",
      "Training (11537 / 18000 Steps) (loss=0.21495): 100%|██████████| 6/6 [00:11<00:00,  1.95s/it]\n",
      "Training (11543 / 18000 Steps) (loss=0.43453): 100%|██████████| 6/6 [00:11<00:00,  1.94s/it]\n",
      "Training (11549 / 18000 Steps) (loss=0.48470): 100%|██████████| 6/6 [00:11<00:00,  1.91s/it]\n",
      "Training (11555 / 18000 Steps) (loss=0.53167): 100%|██████████| 6/6 [00:11<00:00,  1.94s/it]\n",
      "Training (11561 / 18000 Steps) (loss=0.67237): 100%|██████████| 6/6 [00:11<00:00,  1.99s/it]\n",
      "Training (11567 / 18000 Steps) (loss=0.36125): 100%|██████████| 6/6 [00:11<00:00,  1.91s/it]\n",
      "Training (11573 / 18000 Steps) (loss=0.44616): 100%|██████████| 6/6 [00:11<00:00,  1.89s/it]\n",
      "Training (11579 / 18000 Steps) (loss=0.33237): 100%|██████████| 6/6 [00:11<00:00,  1.95s/it]\n",
      "Training (11585 / 18000 Steps) (loss=0.45902): 100%|██████████| 6/6 [00:11<00:00,  1.92s/it]\n",
      "Training (11591 / 18000 Steps) (loss=0.29801): 100%|██████████| 6/6 [00:11<00:00,  1.93s/it]\n",
      "Training (11597 / 18000 Steps) (loss=0.46140): 100%|██████████| 6/6 [00:11<00:00,  1.91s/it]\n",
      "Validate (11598 / 10 Steps): 100%|██████████| 3/3 [00:11<00:00,  3.97s/it]<00:10,  2.63s/it]\n",
      "Training (11600 / 18000 Steps) (loss=0.22216):  50%|█████     | 3/6 [00:19<00:22,  7.59s/it]"
     ]
    },
    {
     "name": "stdout",
     "output_type": "stream",
     "text": [
      "Model Was Not Saved ! Current Best Avg. Dice: 0.2640021741390228 Current Avg. Dice: 0.2330164909362793 Current Avg. tumor Dice: 0.26942577958106995 Current Avg. lymph Dice: 0.19660718739032745\n"
     ]
    },
    {
     "name": "stderr",
     "output_type": "stream",
     "text": [
      "Training (11603 / 18000 Steps) (loss=0.40254): 100%|██████████| 6/6 [00:23<00:00,  3.93s/it]\n",
      "Training (11609 / 18000 Steps) (loss=0.27958): 100%|██████████| 6/6 [00:11<00:00,  1.92s/it]\n",
      "Training (11615 / 18000 Steps) (loss=0.28366): 100%|██████████| 6/6 [00:11<00:00,  1.89s/it]\n",
      "Training (11621 / 18000 Steps) (loss=0.26773): 100%|██████████| 6/6 [00:11<00:00,  1.92s/it]\n",
      "Training (11627 / 18000 Steps) (loss=0.47803): 100%|██████████| 6/6 [00:11<00:00,  1.91s/it]\n",
      "Training (11633 / 18000 Steps) (loss=0.42148): 100%|██████████| 6/6 [00:11<00:00,  1.91s/it]\n",
      "Training (11639 / 18000 Steps) (loss=0.22272): 100%|██████████| 6/6 [00:11<00:00,  1.88s/it]\n",
      "Training (11645 / 18000 Steps) (loss=0.41567): 100%|██████████| 6/6 [00:11<00:00,  1.96s/it]\n",
      "Training (11651 / 18000 Steps) (loss=0.41266): 100%|██████████| 6/6 [00:11<00:00,  1.92s/it]\n",
      "Training (11657 / 18000 Steps) (loss=0.51037): 100%|██████████| 6/6 [00:11<00:00,  1.92s/it]\n",
      "Training (11663 / 18000 Steps) (loss=0.24530): 100%|██████████| 6/6 [00:11<00:00,  1.90s/it]\n",
      "Training (11669 / 18000 Steps) (loss=0.57095): 100%|██████████| 6/6 [00:11<00:00,  1.92s/it]\n",
      "Training (11675 / 18000 Steps) (loss=0.43318): 100%|██████████| 6/6 [00:11<00:00,  1.92s/it]\n",
      "Training (11681 / 18000 Steps) (loss=0.66690): 100%|██████████| 6/6 [00:11<00:00,  1.91s/it]\n",
      "Training (11687 / 18000 Steps) (loss=0.48960): 100%|██████████| 6/6 [00:11<00:00,  1.91s/it]\n",
      "Training (11693 / 18000 Steps) (loss=0.49498): 100%|██████████| 6/6 [00:11<00:00,  1.93s/it]\n",
      "Training (11699 / 18000 Steps) (loss=0.39526): 100%|██████████| 6/6 [00:11<00:00,  1.94s/it]\n",
      "Validate (11700 / 10 Steps): 100%|██████████| 3/3 [00:11<00:00,  3.96s/it]<?, ?it/s]\n",
      "Training (11700 / 18000 Steps) (loss=0.38854):  17%|█▋        | 1/6 [00:16<01:21, 16.38s/it]"
     ]
    },
    {
     "name": "stdout",
     "output_type": "stream",
     "text": [
      "Model Was Not Saved ! Current Best Avg. Dice: 0.2640021741390228 Current Avg. Dice: 0.19309675693511963 Current Avg. tumor Dice: 0.25080642104148865 Current Avg. lymph Dice: 0.135387122631073\n"
     ]
    },
    {
     "name": "stderr",
     "output_type": "stream",
     "text": [
      "Training (11705 / 18000 Steps) (loss=0.45453): 100%|██████████| 6/6 [00:23<00:00,  3.96s/it]\n",
      "Training (11711 / 18000 Steps) (loss=0.33867): 100%|██████████| 6/6 [00:12<00:00,  2.01s/it]\n",
      "Training (11717 / 18000 Steps) (loss=0.28262): 100%|██████████| 6/6 [00:11<00:00,  1.97s/it]\n",
      "Training (11723 / 18000 Steps) (loss=0.54725): 100%|██████████| 6/6 [00:11<00:00,  1.92s/it]\n",
      "Training (11729 / 18000 Steps) (loss=0.59907): 100%|██████████| 6/6 [00:11<00:00,  1.92s/it]\n",
      "Training (11735 / 18000 Steps) (loss=0.34967): 100%|██████████| 6/6 [00:11<00:00,  1.91s/it]\n",
      "Training (11741 / 18000 Steps) (loss=0.41836): 100%|██████████| 6/6 [00:11<00:00,  1.93s/it]\n",
      "Training (11747 / 18000 Steps) (loss=0.48037): 100%|██████████| 6/6 [00:11<00:00,  1.95s/it]\n",
      "Training (11753 / 18000 Steps) (loss=0.50106): 100%|██████████| 6/6 [00:11<00:00,  1.93s/it]\n",
      "Training (11759 / 18000 Steps) (loss=0.26748): 100%|██████████| 6/6 [00:11<00:00,  1.91s/it]\n",
      "Training (11765 / 18000 Steps) (loss=0.25870): 100%|██████████| 6/6 [00:11<00:00,  1.90s/it]\n",
      "Training (11771 / 18000 Steps) (loss=0.66673): 100%|██████████| 6/6 [00:11<00:00,  1.90s/it]\n",
      "Training (11777 / 18000 Steps) (loss=0.31227): 100%|██████████| 6/6 [00:11<00:00,  1.94s/it]\n",
      "Training (11783 / 18000 Steps) (loss=0.27909): 100%|██████████| 6/6 [00:11<00:00,  1.93s/it]\n",
      "Training (11789 / 18000 Steps) (loss=0.41992): 100%|██████████| 6/6 [00:11<00:00,  1.92s/it]\n",
      "Training (11795 / 18000 Steps) (loss=0.53607): 100%|██████████| 6/6 [00:11<00:00,  1.88s/it]\n",
      "Validate (11796 / 10 Steps): 100%|██████████| 3/3 [00:12<00:00,  4.07s/it]<00:03,  1.92s/it]\n",
      "Training (11800 / 18000 Steps) (loss=0.45530):  83%|████████▎ | 5/6 [00:22<00:06,  6.22s/it]"
     ]
    },
    {
     "name": "stdout",
     "output_type": "stream",
     "text": [
      "Model Was Not Saved ! Current Best Avg. Dice: 0.2640021741390228 Current Avg. Dice: 0.19926804304122925 Current Avg. tumor Dice: 0.2583034336566925 Current Avg. lymph Dice: 0.1402326375246048\n"
     ]
    },
    {
     "name": "stderr",
     "output_type": "stream",
     "text": [
      "Training (11801 / 18000 Steps) (loss=0.61578): 100%|██████████| 6/6 [00:23<00:00,  3.98s/it]\n",
      "Training (11807 / 18000 Steps) (loss=0.33350): 100%|██████████| 6/6 [00:11<00:00,  1.95s/it]\n",
      "Training (11813 / 18000 Steps) (loss=0.59997): 100%|██████████| 6/6 [00:11<00:00,  1.92s/it]\n",
      "Training (11819 / 18000 Steps) (loss=0.21854): 100%|██████████| 6/6 [00:11<00:00,  1.98s/it]\n",
      "Training (11825 / 18000 Steps) (loss=0.43367): 100%|██████████| 6/6 [00:11<00:00,  1.98s/it]\n",
      "Training (11831 / 18000 Steps) (loss=0.40115): 100%|██████████| 6/6 [00:11<00:00,  1.95s/it]\n",
      "Training (11837 / 18000 Steps) (loss=0.25743): 100%|██████████| 6/6 [00:11<00:00,  1.91s/it]\n",
      "Training (11843 / 18000 Steps) (loss=0.21909): 100%|██████████| 6/6 [00:11<00:00,  1.94s/it]\n",
      "Training (11849 / 18000 Steps) (loss=0.36725): 100%|██████████| 6/6 [00:11<00:00,  1.89s/it]\n",
      "Training (11855 / 18000 Steps) (loss=0.32427): 100%|██████████| 6/6 [00:11<00:00,  1.96s/it]\n",
      "Training (11861 / 18000 Steps) (loss=0.41035): 100%|██████████| 6/6 [00:11<00:00,  1.94s/it]\n",
      "Training (11867 / 18000 Steps) (loss=0.31319): 100%|██████████| 6/6 [00:11<00:00,  1.94s/it]\n",
      "Training (11873 / 18000 Steps) (loss=0.27624): 100%|██████████| 6/6 [00:11<00:00,  1.94s/it]\n",
      "Training (11879 / 18000 Steps) (loss=0.47045): 100%|██████████| 6/6 [00:11<00:00,  1.96s/it]\n",
      "Training (11885 / 18000 Steps) (loss=0.30463): 100%|██████████| 6/6 [00:11<00:00,  1.90s/it]\n",
      "Training (11891 / 18000 Steps) (loss=0.24602): 100%|██████████| 6/6 [00:11<00:00,  1.94s/it]\n",
      "Training (11897 / 18000 Steps) (loss=0.31944): 100%|██████████| 6/6 [00:11<00:00,  1.96s/it]\n",
      "Validate (11898 / 10 Steps): 100%|██████████| 3/3 [00:11<00:00,  3.99s/it]<00:10,  2.67s/it]\n",
      "Training (11900 / 18000 Steps) (loss=0.36507):  50%|█████     | 3/6 [00:19<00:23,  7.67s/it]"
     ]
    },
    {
     "name": "stdout",
     "output_type": "stream",
     "text": [
      "Model Was Not Saved ! Current Best Avg. Dice: 0.2640021741390228 Current Avg. Dice: 0.2209995836019516 Current Avg. tumor Dice: 0.25749656558036804 Current Avg. lymph Dice: 0.18450258672237396\n"
     ]
    },
    {
     "name": "stderr",
     "output_type": "stream",
     "text": [
      "Training (11903 / 18000 Steps) (loss=0.13134): 100%|██████████| 6/6 [00:23<00:00,  3.98s/it]\n",
      "Training (11909 / 18000 Steps) (loss=0.46123): 100%|██████████| 6/6 [00:11<00:00,  1.97s/it]\n",
      "Training (11915 / 18000 Steps) (loss=0.18439): 100%|██████████| 6/6 [00:11<00:00,  1.91s/it]\n",
      "Training (11921 / 18000 Steps) (loss=0.43288): 100%|██████████| 6/6 [00:11<00:00,  1.93s/it]\n",
      "Training (11927 / 18000 Steps) (loss=0.15738): 100%|██████████| 6/6 [00:11<00:00,  1.95s/it]\n",
      "Training (11933 / 18000 Steps) (loss=0.52630): 100%|██████████| 6/6 [00:11<00:00,  1.95s/it]\n",
      "Training (11939 / 18000 Steps) (loss=0.31325): 100%|██████████| 6/6 [00:11<00:00,  2.00s/it]\n",
      "Training (11945 / 18000 Steps) (loss=0.38885): 100%|██████████| 6/6 [00:11<00:00,  1.97s/it]\n",
      "Training (11951 / 18000 Steps) (loss=0.36228): 100%|██████████| 6/6 [00:11<00:00,  1.94s/it]\n",
      "Training (11957 / 18000 Steps) (loss=0.49153): 100%|██████████| 6/6 [00:11<00:00,  1.94s/it]\n",
      "Training (11963 / 18000 Steps) (loss=0.50571): 100%|██████████| 6/6 [00:11<00:00,  1.94s/it]\n",
      "Training (11969 / 18000 Steps) (loss=0.38552): 100%|██████████| 6/6 [00:11<00:00,  1.93s/it]\n",
      "Training (11975 / 18000 Steps) (loss=0.37196): 100%|██████████| 6/6 [00:11<00:00,  1.94s/it]\n",
      "Training (11981 / 18000 Steps) (loss=0.47287): 100%|██████████| 6/6 [00:11<00:00,  1.90s/it]\n",
      "Training (11987 / 18000 Steps) (loss=0.44618): 100%|██████████| 6/6 [00:11<00:00,  1.96s/it]\n",
      "Training (11993 / 18000 Steps) (loss=0.44360): 100%|██████████| 6/6 [00:12<00:00,  2.00s/it]\n",
      "Training (11999 / 18000 Steps) (loss=0.22994): 100%|██████████| 6/6 [00:11<00:00,  1.99s/it]\n",
      "Validate (12000 / 10 Steps): 100%|██████████| 3/3 [00:11<00:00,  3.94s/it]<?, ?it/s]\n",
      "Training (12000 / 18000 Steps) (loss=0.40173):  17%|█▋        | 1/6 [00:16<01:20, 16.18s/it]"
     ]
    },
    {
     "name": "stdout",
     "output_type": "stream",
     "text": [
      "Model Was Not Saved ! Current Best Avg. Dice: 0.2640021741390228 Current Avg. Dice: 0.1978502869606018 Current Avg. tumor Dice: 0.2373596578836441 Current Avg. lymph Dice: 0.1583409309387207\n"
     ]
    },
    {
     "name": "stderr",
     "output_type": "stream",
     "text": [
      "Training (12005 / 18000 Steps) (loss=0.44484): 100%|██████████| 6/6 [00:23<00:00,  3.92s/it]\n",
      "Training (12011 / 18000 Steps) (loss=0.53392): 100%|██████████| 6/6 [00:11<00:00,  1.99s/it]\n",
      "Training (12017 / 18000 Steps) (loss=0.28890): 100%|██████████| 6/6 [00:11<00:00,  1.90s/it]\n",
      "Training (12023 / 18000 Steps) (loss=0.43963): 100%|██████████| 6/6 [00:11<00:00,  1.96s/it]\n",
      "Training (12029 / 18000 Steps) (loss=0.38755): 100%|██████████| 6/6 [00:11<00:00,  1.92s/it]\n",
      "Training (12035 / 18000 Steps) (loss=0.60603): 100%|██████████| 6/6 [00:11<00:00,  1.96s/it]\n",
      "Training (12041 / 18000 Steps) (loss=0.45805): 100%|██████████| 6/6 [00:12<00:00,  2.01s/it]\n",
      "Training (12047 / 18000 Steps) (loss=0.27199): 100%|██████████| 6/6 [00:11<00:00,  1.93s/it]\n",
      "Training (12053 / 18000 Steps) (loss=0.32063): 100%|██████████| 6/6 [00:11<00:00,  1.95s/it]\n",
      "Training (12059 / 18000 Steps) (loss=0.42388): 100%|██████████| 6/6 [00:11<00:00,  1.90s/it]\n",
      "Training (12065 / 18000 Steps) (loss=0.34369): 100%|██████████| 6/6 [00:11<00:00,  1.91s/it]\n",
      "Training (12071 / 18000 Steps) (loss=0.42819): 100%|██████████| 6/6 [00:11<00:00,  1.94s/it]\n",
      "Training (12077 / 18000 Steps) (loss=0.53419): 100%|██████████| 6/6 [00:11<00:00,  1.93s/it]\n",
      "Training (12083 / 18000 Steps) (loss=0.49888): 100%|██████████| 6/6 [00:11<00:00,  1.93s/it]\n",
      "Training (12089 / 18000 Steps) (loss=0.56502): 100%|██████████| 6/6 [00:11<00:00,  1.98s/it]\n",
      "Training (12095 / 18000 Steps) (loss=0.40924): 100%|██████████| 6/6 [00:11<00:00,  1.90s/it]\n",
      "Validate (12096 / 10 Steps): 100%|██████████| 3/3 [00:11<00:00,  3.95s/it]<00:04,  2.02s/it]\n",
      "Training (12100 / 18000 Steps) (loss=0.37071):  83%|████████▎ | 5/6 [00:22<00:06,  6.18s/it]"
     ]
    },
    {
     "name": "stdout",
     "output_type": "stream",
     "text": [
      "Model Was Not Saved ! Current Best Avg. Dice: 0.2640021741390228 Current Avg. Dice: 0.22527407109737396 Current Avg. tumor Dice: 0.25631189346313477 Current Avg. lymph Dice: 0.19423626363277435\n"
     ]
    },
    {
     "name": "stderr",
     "output_type": "stream",
     "text": [
      "Training (12101 / 18000 Steps) (loss=0.40138): 100%|██████████| 6/6 [00:23<00:00,  3.99s/it]\n",
      "Training (12107 / 18000 Steps) (loss=0.35697): 100%|██████████| 6/6 [00:11<00:00,  1.92s/it]\n",
      "Training (12113 / 18000 Steps) (loss=0.62640): 100%|██████████| 6/6 [00:11<00:00,  1.97s/it]\n",
      "Training (12119 / 18000 Steps) (loss=0.49005): 100%|██████████| 6/6 [00:11<00:00,  1.91s/it]\n",
      "Training (12125 / 18000 Steps) (loss=0.32477): 100%|██████████| 6/6 [00:11<00:00,  1.98s/it]\n",
      "Training (12131 / 18000 Steps) (loss=0.33728): 100%|██████████| 6/6 [00:11<00:00,  1.94s/it]\n",
      "Training (12137 / 18000 Steps) (loss=0.61985): 100%|██████████| 6/6 [00:11<00:00,  1.93s/it]\n",
      "Training (12143 / 18000 Steps) (loss=0.41950): 100%|██████████| 6/6 [00:11<00:00,  1.91s/it]\n",
      "Training (12149 / 18000 Steps) (loss=0.25888): 100%|██████████| 6/6 [00:11<00:00,  1.97s/it]\n",
      "Training (12155 / 18000 Steps) (loss=0.39300): 100%|██████████| 6/6 [00:11<00:00,  1.91s/it]\n",
      "Training (12161 / 18000 Steps) (loss=0.44566): 100%|██████████| 6/6 [00:11<00:00,  1.95s/it]\n",
      "Training (12167 / 18000 Steps) (loss=0.33266): 100%|██████████| 6/6 [00:11<00:00,  1.92s/it]\n",
      "Training (12173 / 18000 Steps) (loss=0.43559): 100%|██████████| 6/6 [00:11<00:00,  1.96s/it]\n",
      "Training (12179 / 18000 Steps) (loss=0.28155): 100%|██████████| 6/6 [00:11<00:00,  1.94s/it]\n",
      "Training (12185 / 18000 Steps) (loss=0.53523): 100%|██████████| 6/6 [00:11<00:00,  1.93s/it]\n",
      "Training (12191 / 18000 Steps) (loss=0.46652): 100%|██████████| 6/6 [00:11<00:00,  1.90s/it]\n",
      "Training (12197 / 18000 Steps) (loss=0.23034): 100%|██████████| 6/6 [00:11<00:00,  1.90s/it]\n",
      "Validate (12198 / 10 Steps): 100%|██████████| 3/3 [00:11<00:00,  4.00s/it]<00:10,  2.71s/it]\n",
      "Training (12200 / 18000 Steps) (loss=0.39468):  50%|█████     | 3/6 [00:19<00:23,  7.68s/it]"
     ]
    },
    {
     "name": "stdout",
     "output_type": "stream",
     "text": [
      "Model Was Not Saved ! Current Best Avg. Dice: 0.2640021741390228 Current Avg. Dice: 0.21149973571300507 Current Avg. tumor Dice: 0.23886527121067047 Current Avg. lymph Dice: 0.18413423001766205\n"
     ]
    },
    {
     "name": "stderr",
     "output_type": "stream",
     "text": [
      "Training (12203 / 18000 Steps) (loss=0.46399): 100%|██████████| 6/6 [00:23<00:00,  3.95s/it]\n",
      "Training (12209 / 18000 Steps) (loss=0.49598): 100%|██████████| 6/6 [00:11<00:00,  1.95s/it]\n",
      "Training (12215 / 18000 Steps) (loss=0.18389): 100%|██████████| 6/6 [00:11<00:00,  1.95s/it]\n",
      "Training (12221 / 18000 Steps) (loss=0.42180): 100%|██████████| 6/6 [00:11<00:00,  1.92s/it]\n",
      "Training (12227 / 18000 Steps) (loss=0.32521): 100%|██████████| 6/6 [00:11<00:00,  1.94s/it]\n",
      "Training (12233 / 18000 Steps) (loss=0.32507): 100%|██████████| 6/6 [00:11<00:00,  1.91s/it]\n",
      "Training (12239 / 18000 Steps) (loss=0.36334): 100%|██████████| 6/6 [00:11<00:00,  1.94s/it]\n",
      "Training (12245 / 18000 Steps) (loss=0.41250): 100%|██████████| 6/6 [00:11<00:00,  1.92s/it]\n",
      "Training (12251 / 18000 Steps) (loss=0.39967): 100%|██████████| 6/6 [00:11<00:00,  1.96s/it]\n",
      "Training (12257 / 18000 Steps) (loss=0.21668): 100%|██████████| 6/6 [00:11<00:00,  1.98s/it]\n",
      "Training (12263 / 18000 Steps) (loss=0.38366): 100%|██████████| 6/6 [00:11<00:00,  1.98s/it]\n",
      "Training (12269 / 18000 Steps) (loss=0.53737): 100%|██████████| 6/6 [00:11<00:00,  1.94s/it]\n",
      "Training (12275 / 18000 Steps) (loss=0.40234): 100%|██████████| 6/6 [00:11<00:00,  1.90s/it]\n",
      "Training (12281 / 18000 Steps) (loss=0.29071): 100%|██████████| 6/6 [00:11<00:00,  1.94s/it]\n",
      "Training (12287 / 18000 Steps) (loss=0.66678): 100%|██████████| 6/6 [00:11<00:00,  1.92s/it]\n",
      "Training (12293 / 18000 Steps) (loss=0.42727): 100%|██████████| 6/6 [00:11<00:00,  1.93s/it]\n",
      "Training (12299 / 18000 Steps) (loss=0.38763): 100%|██████████| 6/6 [00:11<00:00,  1.96s/it]\n",
      "Validate (12300 / 10 Steps): 100%|██████████| 3/3 [00:12<00:00,  4.01s/it]<?, ?it/s]\n",
      "Training (12300 / 18000 Steps) (loss=0.40592):  17%|█▋        | 1/6 [00:16<01:22, 16.49s/it]"
     ]
    },
    {
     "name": "stdout",
     "output_type": "stream",
     "text": [
      "Model Was Not Saved ! Current Best Avg. Dice: 0.2640021741390228 Current Avg. Dice: 0.20006336271762848 Current Avg. tumor Dice: 0.2129678577184677 Current Avg. lymph Dice: 0.18715888261795044\n"
     ]
    },
    {
     "name": "stderr",
     "output_type": "stream",
     "text": [
      "Training (12305 / 18000 Steps) (loss=0.23986): 100%|██████████| 6/6 [00:23<00:00,  3.97s/it]\n",
      "Training (12311 / 18000 Steps) (loss=0.34186): 100%|██████████| 6/6 [00:11<00:00,  1.94s/it]\n",
      "Training (12317 / 18000 Steps) (loss=0.50162): 100%|██████████| 6/6 [00:11<00:00,  1.92s/it]\n",
      "Training (12323 / 18000 Steps) (loss=0.30703): 100%|██████████| 6/6 [00:11<00:00,  1.90s/it]\n",
      "Training (12329 / 18000 Steps) (loss=0.37903): 100%|██████████| 6/6 [00:11<00:00,  1.90s/it]\n",
      "Training (12335 / 18000 Steps) (loss=0.30509): 100%|██████████| 6/6 [00:11<00:00,  1.97s/it]\n",
      "Training (12341 / 18000 Steps) (loss=0.29659): 100%|██████████| 6/6 [00:11<00:00,  1.96s/it]\n",
      "Training (12347 / 18000 Steps) (loss=0.44730): 100%|██████████| 6/6 [00:11<00:00,  1.96s/it]\n",
      "Training (12353 / 18000 Steps) (loss=0.40192): 100%|██████████| 6/6 [00:11<00:00,  1.93s/it]\n",
      "Training (12359 / 18000 Steps) (loss=0.24193): 100%|██████████| 6/6 [00:11<00:00,  1.91s/it]\n",
      "Training (12365 / 18000 Steps) (loss=0.53114): 100%|██████████| 6/6 [00:11<00:00,  1.97s/it]\n",
      "Training (12371 / 18000 Steps) (loss=0.49629): 100%|██████████| 6/6 [00:11<00:00,  1.92s/it]\n",
      "Training (12377 / 18000 Steps) (loss=0.41772): 100%|██████████| 6/6 [00:11<00:00,  1.93s/it]\n",
      "Training (12383 / 18000 Steps) (loss=0.35842): 100%|██████████| 6/6 [00:11<00:00,  1.95s/it]\n",
      "Training (12389 / 18000 Steps) (loss=0.40985): 100%|██████████| 6/6 [00:11<00:00,  1.94s/it]\n",
      "Training (12395 / 18000 Steps) (loss=0.45681): 100%|██████████| 6/6 [00:11<00:00,  1.99s/it]\n",
      "Validate (12396 / 10 Steps): 100%|██████████| 3/3 [00:11<00:00,  3.95s/it]<00:03,  1.96s/it]\n",
      "Training (12400 / 18000 Steps) (loss=0.48931):  83%|████████▎ | 5/6 [00:22<00:06,  6.12s/it]"
     ]
    },
    {
     "name": "stdout",
     "output_type": "stream",
     "text": [
      "Model Was Not Saved ! Current Best Avg. Dice: 0.2640021741390228 Current Avg. Dice: 0.19415158033370972 Current Avg. tumor Dice: 0.2221243530511856 Current Avg. lymph Dice: 0.16617879271507263\n"
     ]
    },
    {
     "name": "stderr",
     "output_type": "stream",
     "text": [
      "Training (12401 / 18000 Steps) (loss=0.40838): 100%|██████████| 6/6 [00:23<00:00,  3.94s/it]\n",
      "Training (12407 / 18000 Steps) (loss=0.53721): 100%|██████████| 6/6 [00:11<00:00,  1.90s/it]\n",
      "Training (12413 / 18000 Steps) (loss=0.21694): 100%|██████████| 6/6 [00:11<00:00,  1.89s/it]\n",
      "Training (12419 / 18000 Steps) (loss=0.54504): 100%|██████████| 6/6 [00:11<00:00,  1.92s/it]\n",
      "Training (12425 / 18000 Steps) (loss=0.31139): 100%|██████████| 6/6 [00:11<00:00,  1.96s/it]\n",
      "Training (12431 / 18000 Steps) (loss=0.28717): 100%|██████████| 6/6 [00:11<00:00,  1.96s/it]\n",
      "Training (12437 / 18000 Steps) (loss=0.32446): 100%|██████████| 6/6 [00:11<00:00,  1.95s/it]\n",
      "Training (12443 / 18000 Steps) (loss=0.53928): 100%|██████████| 6/6 [00:11<00:00,  1.91s/it]\n",
      "Training (12449 / 18000 Steps) (loss=0.16976): 100%|██████████| 6/6 [00:11<00:00,  1.92s/it]\n",
      "Training (12455 / 18000 Steps) (loss=0.41393): 100%|██████████| 6/6 [00:11<00:00,  1.90s/it]\n",
      "Training (12461 / 18000 Steps) (loss=0.33338): 100%|██████████| 6/6 [00:11<00:00,  1.92s/it]\n",
      "Training (12467 / 18000 Steps) (loss=0.52221): 100%|██████████| 6/6 [00:11<00:00,  1.96s/it]\n",
      "Training (12473 / 18000 Steps) (loss=0.23007): 100%|██████████| 6/6 [00:11<00:00,  1.93s/it]\n",
      "Training (12479 / 18000 Steps) (loss=0.31126): 100%|██████████| 6/6 [00:11<00:00,  1.94s/it]\n",
      "Training (12485 / 18000 Steps) (loss=0.54172): 100%|██████████| 6/6 [00:11<00:00,  1.96s/it]\n",
      "Training (12491 / 18000 Steps) (loss=0.41799): 100%|██████████| 6/6 [00:11<00:00,  1.92s/it]\n",
      "Training (12497 / 18000 Steps) (loss=0.45504): 100%|██████████| 6/6 [00:11<00:00,  1.94s/it]\n",
      "Validate (12498 / 10 Steps): 100%|██████████| 3/3 [00:11<00:00,  3.95s/it]<00:10,  2.67s/it]\n",
      "Training (12500 / 18000 Steps) (loss=0.39459):  50%|█████     | 3/6 [00:19<00:22,  7.60s/it]"
     ]
    },
    {
     "name": "stdout",
     "output_type": "stream",
     "text": [
      "Model Was Not Saved ! Current Best Avg. Dice: 0.2640021741390228 Current Avg. Dice: 0.22773204743862152 Current Avg. tumor Dice: 0.24959595501422882 Current Avg. lymph Dice: 0.20586813986301422\n"
     ]
    },
    {
     "name": "stderr",
     "output_type": "stream",
     "text": [
      "Training (12503 / 18000 Steps) (loss=0.66809): 100%|██████████| 6/6 [00:23<00:00,  3.90s/it]\n",
      "Training (12509 / 18000 Steps) (loss=0.25875): 100%|██████████| 6/6 [00:11<00:00,  1.93s/it]\n",
      "Training (12515 / 18000 Steps) (loss=0.45994): 100%|██████████| 6/6 [00:11<00:00,  1.97s/it]\n",
      "Training (12521 / 18000 Steps) (loss=0.56150): 100%|██████████| 6/6 [00:11<00:00,  1.99s/it]\n",
      "Training (12527 / 18000 Steps) (loss=0.49663): 100%|██████████| 6/6 [00:11<00:00,  1.94s/it]\n",
      "Training (12533 / 18000 Steps) (loss=0.53735): 100%|██████████| 6/6 [00:11<00:00,  1.94s/it]\n",
      "Training (12539 / 18000 Steps) (loss=0.40467): 100%|██████████| 6/6 [00:11<00:00,  1.95s/it]\n",
      "Training (12545 / 18000 Steps) (loss=0.39945): 100%|██████████| 6/6 [00:11<00:00,  1.90s/it]\n",
      "Training (12551 / 18000 Steps) (loss=0.53201): 100%|██████████| 6/6 [00:11<00:00,  1.92s/it]\n",
      "Training (12557 / 18000 Steps) (loss=0.31157): 100%|██████████| 6/6 [00:11<00:00,  1.95s/it]\n",
      "Training (12563 / 18000 Steps) (loss=0.32856): 100%|██████████| 6/6 [00:11<00:00,  1.94s/it]\n",
      "Training (12569 / 18000 Steps) (loss=0.20853): 100%|██████████| 6/6 [00:11<00:00,  1.96s/it]\n",
      "Training (12575 / 18000 Steps) (loss=0.42559): 100%|██████████| 6/6 [00:11<00:00,  1.91s/it]\n",
      "Training (12581 / 18000 Steps) (loss=0.57649): 100%|██████████| 6/6 [00:11<00:00,  1.92s/it]\n",
      "Training (12587 / 18000 Steps) (loss=0.47397): 100%|██████████| 6/6 [00:11<00:00,  1.95s/it]\n",
      "Training (12593 / 18000 Steps) (loss=0.17659): 100%|██████████| 6/6 [00:11<00:00,  1.92s/it]\n",
      "Training (12599 / 18000 Steps) (loss=0.25578): 100%|██████████| 6/6 [00:11<00:00,  1.89s/it]\n",
      "Validate (12600 / 10 Steps): 100%|██████████| 3/3 [00:11<00:00,  3.97s/it]<?, ?it/s]\n",
      "Training (12600 / 18000 Steps) (loss=0.44420):  17%|█▋        | 1/6 [00:16<01:21, 16.21s/it]"
     ]
    },
    {
     "name": "stdout",
     "output_type": "stream",
     "text": [
      "Model Was Not Saved ! Current Best Avg. Dice: 0.2640021741390228 Current Avg. Dice: 0.20404420793056488 Current Avg. tumor Dice: 0.23874934017658234 Current Avg. lymph Dice: 0.16933901607990265\n"
     ]
    },
    {
     "name": "stderr",
     "output_type": "stream",
     "text": [
      "Training (12605 / 18000 Steps) (loss=0.29543): 100%|██████████| 6/6 [00:23<00:00,  3.93s/it]\n",
      "Training (12611 / 18000 Steps) (loss=0.40008): 100%|██████████| 6/6 [00:11<00:00,  1.96s/it]\n",
      "Training (12617 / 18000 Steps) (loss=0.43648): 100%|██████████| 6/6 [00:11<00:00,  1.92s/it]\n",
      "Training (12623 / 18000 Steps) (loss=0.33559): 100%|██████████| 6/6 [00:11<00:00,  1.95s/it]\n",
      "Training (12629 / 18000 Steps) (loss=0.46700): 100%|██████████| 6/6 [00:11<00:00,  1.92s/it]\n",
      "Training (12635 / 18000 Steps) (loss=0.51917): 100%|██████████| 6/6 [00:11<00:00,  1.91s/it]\n",
      "Training (12641 / 18000 Steps) (loss=0.19177): 100%|██████████| 6/6 [00:11<00:00,  1.92s/it]\n",
      "Training (12647 / 18000 Steps) (loss=0.44964): 100%|██████████| 6/6 [00:11<00:00,  1.94s/it]\n",
      "Training (12653 / 18000 Steps) (loss=0.17567): 100%|██████████| 6/6 [00:11<00:00,  1.98s/it]\n",
      "Training (12659 / 18000 Steps) (loss=0.23662): 100%|██████████| 6/6 [00:11<00:00,  1.91s/it]\n",
      "Training (12665 / 18000 Steps) (loss=0.23164): 100%|██████████| 6/6 [00:11<00:00,  1.93s/it]\n",
      "Training (12671 / 18000 Steps) (loss=0.29657): 100%|██████████| 6/6 [00:11<00:00,  1.90s/it]\n",
      "Training (12677 / 18000 Steps) (loss=0.24099): 100%|██████████| 6/6 [00:11<00:00,  1.91s/it]\n",
      "Training (12683 / 18000 Steps) (loss=0.27707): 100%|██████████| 6/6 [00:11<00:00,  1.96s/it]\n",
      "Training (12689 / 18000 Steps) (loss=0.53958): 100%|██████████| 6/6 [00:11<00:00,  1.97s/it]\n",
      "Training (12695 / 18000 Steps) (loss=0.22515): 100%|██████████| 6/6 [00:11<00:00,  1.96s/it]\n",
      "Validate (12696 / 10 Steps): 100%|██████████| 3/3 [00:11<00:00,  3.96s/it]<00:03,  1.96s/it]\n",
      "Training (12700 / 18000 Steps) (loss=0.39209):  83%|████████▎ | 5/6 [00:22<00:06,  6.13s/it]"
     ]
    },
    {
     "name": "stdout",
     "output_type": "stream",
     "text": [
      "Model Was Not Saved ! Current Best Avg. Dice: 0.2640021741390228 Current Avg. Dice: 0.18620871007442474 Current Avg. tumor Dice: 0.25004735589027405 Current Avg. lymph Dice: 0.12237002700567245\n"
     ]
    },
    {
     "name": "stderr",
     "output_type": "stream",
     "text": [
      "Training (12701 / 18000 Steps) (loss=0.26235): 100%|██████████| 6/6 [00:23<00:00,  3.95s/it]\n",
      "Training (12707 / 18000 Steps) (loss=0.25496): 100%|██████████| 6/6 [00:11<00:00,  1.91s/it]\n",
      "Training (12713 / 18000 Steps) (loss=0.44065): 100%|██████████| 6/6 [00:11<00:00,  1.96s/it]\n",
      "Training (12719 / 18000 Steps) (loss=0.52109): 100%|██████████| 6/6 [00:11<00:00,  1.90s/it]\n",
      "Training (12725 / 18000 Steps) (loss=0.52141): 100%|██████████| 6/6 [00:11<00:00,  1.92s/it]\n",
      "Training (12731 / 18000 Steps) (loss=0.36593): 100%|██████████| 6/6 [00:11<00:00,  1.93s/it]\n",
      "Training (12737 / 18000 Steps) (loss=0.37393): 100%|██████████| 6/6 [00:11<00:00,  1.97s/it]\n",
      "Training (12743 / 18000 Steps) (loss=0.34277): 100%|██████████| 6/6 [00:11<00:00,  1.98s/it]\n",
      "Training (12749 / 18000 Steps) (loss=0.35493): 100%|██████████| 6/6 [00:11<00:00,  1.96s/it]\n",
      "Training (12755 / 18000 Steps) (loss=0.41723): 100%|██████████| 6/6 [00:11<00:00,  1.91s/it]\n",
      "Training (12761 / 18000 Steps) (loss=0.34069): 100%|██████████| 6/6 [00:11<00:00,  1.97s/it]\n",
      "Training (12767 / 18000 Steps) (loss=0.43462): 100%|██████████| 6/6 [00:11<00:00,  1.90s/it]\n",
      "Training (12773 / 18000 Steps) (loss=0.47395): 100%|██████████| 6/6 [00:11<00:00,  1.90s/it]\n",
      "Training (12779 / 18000 Steps) (loss=0.32049): 100%|██████████| 6/6 [00:11<00:00,  1.95s/it]\n",
      "Training (12785 / 18000 Steps) (loss=0.46967): 100%|██████████| 6/6 [00:12<00:00,  2.01s/it]\n",
      "Training (12791 / 18000 Steps) (loss=0.29493): 100%|██████████| 6/6 [00:11<00:00,  1.96s/it]\n",
      "Training (12797 / 18000 Steps) (loss=0.35974): 100%|██████████| 6/6 [00:11<00:00,  1.90s/it]\n",
      "Validate (12798 / 10 Steps): 100%|██████████| 3/3 [00:11<00:00,  3.93s/it]<00:10,  2.66s/it]\n",
      "Training (12800 / 18000 Steps) (loss=0.33765):  50%|█████     | 3/6 [00:19<00:22,  7.56s/it]"
     ]
    },
    {
     "name": "stdout",
     "output_type": "stream",
     "text": [
      "Model Was Not Saved ! Current Best Avg. Dice: 0.2640021741390228 Current Avg. Dice: 0.21715275943279266 Current Avg. tumor Dice: 0.25824663043022156 Current Avg. lymph Dice: 0.17605890333652496\n"
     ]
    },
    {
     "name": "stderr",
     "output_type": "stream",
     "text": [
      "Training (12803 / 18000 Steps) (loss=0.47678): 100%|██████████| 6/6 [00:23<00:00,  3.89s/it]\n",
      "Training (12809 / 18000 Steps) (loss=0.34541): 100%|██████████| 6/6 [00:11<00:00,  1.95s/it]\n",
      "Training (12815 / 18000 Steps) (loss=0.40852): 100%|██████████| 6/6 [00:11<00:00,  1.94s/it]\n",
      "Training (12821 / 18000 Steps) (loss=0.31760): 100%|██████████| 6/6 [00:11<00:00,  1.95s/it]\n",
      "Training (12827 / 18000 Steps) (loss=0.37368): 100%|██████████| 6/6 [00:11<00:00,  1.94s/it]\n",
      "Training (12833 / 18000 Steps) (loss=0.28613): 100%|██████████| 6/6 [00:12<00:00,  2.00s/it]\n",
      "Training (12839 / 18000 Steps) (loss=0.20382): 100%|██████████| 6/6 [00:11<00:00,  1.90s/it]\n",
      "Training (12845 / 18000 Steps) (loss=0.47633): 100%|██████████| 6/6 [00:11<00:00,  1.97s/it]\n",
      "Training (12851 / 18000 Steps) (loss=0.20975): 100%|██████████| 6/6 [00:11<00:00,  1.89s/it]\n",
      "Training (12857 / 18000 Steps) (loss=0.26785): 100%|██████████| 6/6 [00:11<00:00,  1.91s/it]\n",
      "Training (12863 / 18000 Steps) (loss=0.28029): 100%|██████████| 6/6 [00:11<00:00,  1.95s/it]\n",
      "Training (12869 / 18000 Steps) (loss=0.32793): 100%|██████████| 6/6 [00:11<00:00,  1.95s/it]\n",
      "Training (12875 / 18000 Steps) (loss=0.45861): 100%|██████████| 6/6 [00:11<00:00,  1.99s/it]\n",
      "Training (12881 / 18000 Steps) (loss=0.37837): 100%|██████████| 6/6 [00:11<00:00,  1.98s/it]\n",
      "Training (12887 / 18000 Steps) (loss=0.19461): 100%|██████████| 6/6 [00:11<00:00,  1.94s/it]\n",
      "Training (12893 / 18000 Steps) (loss=0.34694): 100%|██████████| 6/6 [00:11<00:00,  1.92s/it]\n",
      "Training (12899 / 18000 Steps) (loss=0.31964): 100%|██████████| 6/6 [00:11<00:00,  1.89s/it]\n",
      "Validate (12900 / 10 Steps): 100%|██████████| 3/3 [00:12<00:00,  4.01s/it]<?, ?it/s]\n",
      "Training (12900 / 18000 Steps) (loss=0.36581):  17%|█▋        | 1/6 [00:16<01:20, 16.14s/it]"
     ]
    },
    {
     "name": "stdout",
     "output_type": "stream",
     "text": [
      "Model Was Not Saved ! Current Best Avg. Dice: 0.2640021741390228 Current Avg. Dice: 0.21173323690891266 Current Avg. tumor Dice: 0.23995231091976166 Current Avg. lymph Dice: 0.18351416289806366\n"
     ]
    },
    {
     "name": "stderr",
     "output_type": "stream",
     "text": [
      "Training (12905 / 18000 Steps) (loss=0.36372): 100%|██████████| 6/6 [00:23<00:00,  3.95s/it]\n",
      "Training (12911 / 18000 Steps) (loss=0.16757): 100%|██████████| 6/6 [00:11<00:00,  1.96s/it]\n",
      "Training (12917 / 18000 Steps) (loss=0.53522): 100%|██████████| 6/6 [00:11<00:00,  1.97s/it]\n",
      "Training (12923 / 18000 Steps) (loss=0.43162): 100%|██████████| 6/6 [00:11<00:00,  1.94s/it]\n",
      "Training (12929 / 18000 Steps) (loss=0.27572): 100%|██████████| 6/6 [00:11<00:00,  1.96s/it]\n",
      "Training (12935 / 18000 Steps) (loss=0.34397): 100%|██████████| 6/6 [00:11<00:00,  1.93s/it]\n",
      "Training (12941 / 18000 Steps) (loss=0.51196): 100%|██████████| 6/6 [00:11<00:00,  1.92s/it]\n",
      "Training (12947 / 18000 Steps) (loss=0.34566): 100%|██████████| 6/6 [00:11<00:00,  1.88s/it]\n",
      "Training (12953 / 18000 Steps) (loss=0.42250): 100%|██████████| 6/6 [00:11<00:00,  1.91s/it]\n",
      "Training (12959 / 18000 Steps) (loss=0.30561): 100%|██████████| 6/6 [00:11<00:00,  1.97s/it]\n",
      "Training (12965 / 18000 Steps) (loss=0.21677): 100%|██████████| 6/6 [00:11<00:00,  1.95s/it]\n",
      "Training (12971 / 18000 Steps) (loss=0.28633): 100%|██████████| 6/6 [00:11<00:00,  1.92s/it]\n",
      "Training (12977 / 18000 Steps) (loss=0.34472): 100%|██████████| 6/6 [00:11<00:00,  1.94s/it]\n",
      "Training (12983 / 18000 Steps) (loss=0.18434): 100%|██████████| 6/6 [00:11<00:00,  1.95s/it]\n",
      "Training (12989 / 18000 Steps) (loss=0.19413): 100%|██████████| 6/6 [00:11<00:00,  1.90s/it]\n",
      "Training (12995 / 18000 Steps) (loss=0.31211): 100%|██████████| 6/6 [00:11<00:00,  1.93s/it]\n",
      "Validate (12996 / 10 Steps): 100%|██████████| 3/3 [00:11<00:00,  3.97s/it]<00:03,  1.93s/it]\n",
      "Training (13000 / 18000 Steps) (loss=0.52765):  83%|████████▎ | 5/6 [00:22<00:06,  6.11s/it]"
     ]
    },
    {
     "name": "stdout",
     "output_type": "stream",
     "text": [
      "Model Was Not Saved ! Current Best Avg. Dice: 0.2640021741390228 Current Avg. Dice: 0.21395359933376312 Current Avg. tumor Dice: 0.24174664914608002 Current Avg. lymph Dice: 0.18616054952144623\n"
     ]
    },
    {
     "name": "stderr",
     "output_type": "stream",
     "text": [
      "Training (13001 / 18000 Steps) (loss=0.42662): 100%|██████████| 6/6 [00:23<00:00,  3.92s/it]\n",
      "Training (13007 / 18000 Steps) (loss=0.39870): 100%|██████████| 6/6 [00:11<00:00,  1.96s/it]\n",
      "Training (13013 / 18000 Steps) (loss=0.60589): 100%|██████████| 6/6 [00:11<00:00,  1.92s/it]\n",
      "Training (13019 / 18000 Steps) (loss=0.42517): 100%|██████████| 6/6 [00:11<00:00,  1.91s/it]\n",
      "Training (13025 / 18000 Steps) (loss=0.45953): 100%|██████████| 6/6 [00:11<00:00,  1.89s/it]\n",
      "Training (13031 / 18000 Steps) (loss=0.28226): 100%|██████████| 6/6 [00:11<00:00,  1.95s/it]\n",
      "Training (13037 / 18000 Steps) (loss=0.21072): 100%|██████████| 6/6 [00:11<00:00,  1.94s/it]\n",
      "Training (13043 / 18000 Steps) (loss=0.39635): 100%|██████████| 6/6 [00:11<00:00,  1.95s/it]\n",
      "Training (13049 / 18000 Steps) (loss=0.20045): 100%|██████████| 6/6 [00:11<00:00,  1.95s/it]\n",
      "Training (13055 / 18000 Steps) (loss=0.49004): 100%|██████████| 6/6 [00:11<00:00,  1.96s/it]\n",
      "Training (13061 / 18000 Steps) (loss=0.45238): 100%|██████████| 6/6 [00:11<00:00,  1.91s/it]\n",
      "Training (13067 / 18000 Steps) (loss=0.55254): 100%|██████████| 6/6 [00:11<00:00,  1.92s/it]\n",
      "Training (13073 / 18000 Steps) (loss=0.35443): 100%|██████████| 6/6 [00:11<00:00,  1.90s/it]\n",
      "Training (13079 / 18000 Steps) (loss=0.50179): 100%|██████████| 6/6 [00:11<00:00,  1.91s/it]\n",
      "Training (13085 / 18000 Steps) (loss=0.52832): 100%|██████████| 6/6 [00:11<00:00,  1.97s/it]\n",
      "Training (13091 / 18000 Steps) (loss=0.39650): 100%|██████████| 6/6 [00:11<00:00,  1.94s/it]\n",
      "Training (13097 / 18000 Steps) (loss=0.41994): 100%|██████████| 6/6 [00:11<00:00,  1.96s/it]\n",
      "Validate (13098 / 10 Steps): 100%|██████████| 3/3 [00:11<00:00,  3.96s/it]<00:10,  2.74s/it]\n",
      "Training (13100 / 18000 Steps) (loss=0.28593):  50%|█████     | 3/6 [00:19<00:22,  7.66s/it]"
     ]
    },
    {
     "name": "stdout",
     "output_type": "stream",
     "text": [
      "Model Was Not Saved ! Current Best Avg. Dice: 0.2640021741390228 Current Avg. Dice: 0.20985335111618042 Current Avg. tumor Dice: 0.22778534889221191 Current Avg. lymph Dice: 0.19192136824131012\n"
     ]
    },
    {
     "name": "stderr",
     "output_type": "stream",
     "text": [
      "Training (13103 / 18000 Steps) (loss=0.22629): 100%|██████████| 6/6 [00:23<00:00,  3.97s/it]\n",
      "Training (13109 / 18000 Steps) (loss=0.45824): 100%|██████████| 6/6 [00:11<00:00,  1.93s/it]\n",
      "Training (13115 / 18000 Steps) (loss=0.30234): 100%|██████████| 6/6 [00:11<00:00,  1.89s/it]\n",
      "Training (13121 / 18000 Steps) (loss=0.30829): 100%|██████████| 6/6 [00:11<00:00,  1.91s/it]\n",
      "Training (13127 / 18000 Steps) (loss=0.40792): 100%|██████████| 6/6 [00:11<00:00,  1.96s/it]\n",
      "Training (13133 / 18000 Steps) (loss=0.46575): 100%|██████████| 6/6 [00:11<00:00,  1.99s/it]\n",
      "Training (13139 / 18000 Steps) (loss=0.32349): 100%|██████████| 6/6 [00:11<00:00,  1.95s/it]\n",
      "Training (13145 / 18000 Steps) (loss=0.26904): 100%|██████████| 6/6 [00:11<00:00,  1.91s/it]\n",
      "Training (13151 / 18000 Steps) (loss=0.35351): 100%|██████████| 6/6 [00:11<00:00,  1.90s/it]\n",
      "Training (13157 / 18000 Steps) (loss=0.36405): 100%|██████████| 6/6 [00:11<00:00,  1.94s/it]\n",
      "Training (13163 / 18000 Steps) (loss=0.33478): 100%|██████████| 6/6 [00:11<00:00,  1.90s/it]\n",
      "Training (13169 / 18000 Steps) (loss=0.29606): 100%|██████████| 6/6 [00:11<00:00,  1.92s/it]\n",
      "Training (13175 / 18000 Steps) (loss=0.38005): 100%|██████████| 6/6 [00:11<00:00,  1.94s/it]\n",
      "Training (13181 / 18000 Steps) (loss=0.27168): 100%|██████████| 6/6 [00:11<00:00,  1.96s/it]\n",
      "Training (13187 / 18000 Steps) (loss=0.13934): 100%|██████████| 6/6 [00:11<00:00,  1.96s/it]\n",
      "Training (13193 / 18000 Steps) (loss=0.54319): 100%|██████████| 6/6 [00:11<00:00,  1.94s/it]\n",
      "Training (13199 / 18000 Steps) (loss=0.36243): 100%|██████████| 6/6 [00:11<00:00,  1.91s/it]\n",
      "Validate (13200 / 10 Steps): 100%|██████████| 3/3 [00:11<00:00,  3.96s/it]<?, ?it/s]\n",
      "Training (13200 / 18000 Steps) (loss=0.24504):  17%|█▋        | 1/6 [00:16<01:20, 16.11s/it]"
     ]
    },
    {
     "name": "stdout",
     "output_type": "stream",
     "text": [
      "Model Was Not Saved ! Current Best Avg. Dice: 0.2640021741390228 Current Avg. Dice: 0.18352407217025757 Current Avg. tumor Dice: 0.23697273433208466 Current Avg. lymph Dice: 0.13007541000843048\n"
     ]
    },
    {
     "name": "stderr",
     "output_type": "stream",
     "text": [
      "Training (13205 / 18000 Steps) (loss=0.51001): 100%|██████████| 6/6 [00:23<00:00,  3.90s/it]\n",
      "Training (13211 / 18000 Steps) (loss=0.41324): 100%|██████████| 6/6 [00:11<00:00,  1.93s/it]\n",
      "Training (13217 / 18000 Steps) (loss=0.29779): 100%|██████████| 6/6 [00:11<00:00,  1.93s/it]\n",
      "Training (13223 / 18000 Steps) (loss=0.36239): 100%|██████████| 6/6 [00:11<00:00,  1.95s/it]\n",
      "Training (13229 / 18000 Steps) (loss=0.49059): 100%|██████████| 6/6 [00:12<00:00,  2.02s/it]\n",
      "Training (13235 / 18000 Steps) (loss=0.15556): 100%|██████████| 6/6 [00:11<00:00,  1.88s/it]\n",
      "Training (13241 / 18000 Steps) (loss=0.31978): 100%|██████████| 6/6 [00:11<00:00,  1.92s/it]\n",
      "Training (13247 / 18000 Steps) (loss=0.31791): 100%|██████████| 6/6 [00:11<00:00,  1.89s/it]\n",
      "Training (13253 / 18000 Steps) (loss=0.62107): 100%|██████████| 6/6 [00:11<00:00,  1.92s/it]\n",
      "Training (13259 / 18000 Steps) (loss=0.47270): 100%|██████████| 6/6 [00:11<00:00,  1.95s/it]\n",
      "Training (13265 / 18000 Steps) (loss=0.48432): 100%|██████████| 6/6 [00:11<00:00,  1.93s/it]\n",
      "Training (13271 / 18000 Steps) (loss=0.29499): 100%|██████████| 6/6 [00:11<00:00,  1.92s/it]\n",
      "Training (13277 / 18000 Steps) (loss=0.31141): 100%|██████████| 6/6 [00:11<00:00,  1.97s/it]\n",
      "Training (13283 / 18000 Steps) (loss=0.37690): 100%|██████████| 6/6 [00:11<00:00,  1.88s/it]\n",
      "Training (13289 / 18000 Steps) (loss=0.32736): 100%|██████████| 6/6 [00:11<00:00,  1.93s/it]\n",
      "Training (13295 / 18000 Steps) (loss=0.21721): 100%|██████████| 6/6 [00:11<00:00,  1.89s/it]\n",
      "Validate (13296 / 10 Steps): 100%|██████████| 3/3 [00:11<00:00,  3.95s/it]<00:03,  1.91s/it]\n",
      "Training (13300 / 18000 Steps) (loss=0.30777):  83%|████████▎ | 5/6 [00:22<00:06,  6.09s/it]"
     ]
    },
    {
     "name": "stdout",
     "output_type": "stream",
     "text": [
      "Model Was Not Saved ! Current Best Avg. Dice: 0.2640021741390228 Current Avg. Dice: 0.2019186168909073 Current Avg. tumor Dice: 0.23075397312641144 Current Avg. lymph Dice: 0.17308329045772552\n"
     ]
    },
    {
     "name": "stderr",
     "output_type": "stream",
     "text": [
      "Training (13301 / 18000 Steps) (loss=0.44162): 100%|██████████| 6/6 [00:23<00:00,  3.91s/it]\n",
      "Training (13307 / 18000 Steps) (loss=0.24204): 100%|██████████| 6/6 [00:11<00:00,  1.94s/it]\n",
      "Training (13313 / 18000 Steps) (loss=0.25222): 100%|██████████| 6/6 [00:11<00:00,  1.97s/it]\n",
      "Training (13319 / 18000 Steps) (loss=0.54066): 100%|██████████| 6/6 [00:11<00:00,  1.95s/it]\n",
      "Training (13325 / 18000 Steps) (loss=0.14464): 100%|██████████| 6/6 [00:11<00:00,  1.93s/it]\n",
      "Training (13331 / 18000 Steps) (loss=0.47232): 100%|██████████| 6/6 [00:11<00:00,  1.91s/it]\n",
      "Training (13337 / 18000 Steps) (loss=0.41756): 100%|██████████| 6/6 [00:11<00:00,  1.90s/it]\n",
      "Training (13343 / 18000 Steps) (loss=0.30687): 100%|██████████| 6/6 [00:11<00:00,  1.89s/it]\n",
      "Training (13349 / 18000 Steps) (loss=0.40604): 100%|██████████| 6/6 [00:11<00:00,  1.92s/it]\n",
      "Training (13355 / 18000 Steps) (loss=0.44315): 100%|██████████| 6/6 [00:11<00:00,  1.98s/it]\n",
      "Training (13361 / 18000 Steps) (loss=0.42252): 100%|██████████| 6/6 [00:11<00:00,  1.95s/it]\n",
      "Training (13367 / 18000 Steps) (loss=0.47298): 100%|██████████| 6/6 [00:11<00:00,  1.92s/it]\n",
      "Training (13373 / 18000 Steps) (loss=0.40824): 100%|██████████| 6/6 [00:11<00:00,  1.92s/it]\n",
      "Training (13379 / 18000 Steps) (loss=0.27852): 100%|██████████| 6/6 [00:11<00:00,  1.95s/it]\n",
      "Training (13385 / 18000 Steps) (loss=0.45879): 100%|██████████| 6/6 [00:11<00:00,  1.91s/it]\n",
      "Training (13391 / 18000 Steps) (loss=0.41334): 100%|██████████| 6/6 [00:11<00:00,  1.93s/it]\n",
      "Training (13397 / 18000 Steps) (loss=0.40504): 100%|██████████| 6/6 [00:11<00:00,  1.93s/it]\n",
      "Validate (13398 / 10 Steps): 100%|██████████| 3/3 [00:11<00:00,  4.00s/it]<00:10,  2.65s/it]\n",
      "Training (13400 / 18000 Steps) (loss=0.42366):  50%|█████     | 3/6 [00:19<00:22,  7.66s/it]"
     ]
    },
    {
     "name": "stdout",
     "output_type": "stream",
     "text": [
      "Model Was Not Saved ! Current Best Avg. Dice: 0.2640021741390228 Current Avg. Dice: 0.20641003549098969 Current Avg. tumor Dice: 0.24394334852695465 Current Avg. lymph Dice: 0.16887672245502472\n"
     ]
    },
    {
     "name": "stderr",
     "output_type": "stream",
     "text": [
      "Training (13403 / 18000 Steps) (loss=0.46794): 100%|██████████| 6/6 [00:23<00:00,  3.94s/it]\n",
      "Training (13409 / 18000 Steps) (loss=0.46639): 100%|██████████| 6/6 [00:11<00:00,  1.92s/it]\n",
      "Training (13415 / 18000 Steps) (loss=0.15681): 100%|██████████| 6/6 [00:11<00:00,  1.95s/it]\n",
      "Training (13421 / 18000 Steps) (loss=0.42288): 100%|██████████| 6/6 [00:11<00:00,  1.90s/it]\n",
      "Training (13427 / 18000 Steps) (loss=0.25666): 100%|██████████| 6/6 [00:11<00:00,  1.92s/it]\n",
      "Training (13433 / 18000 Steps) (loss=0.28565): 100%|██████████| 6/6 [00:11<00:00,  1.98s/it]\n",
      "Training (13439 / 18000 Steps) (loss=0.22264): 100%|██████████| 6/6 [00:11<00:00,  1.98s/it]\n",
      "Training (13445 / 18000 Steps) (loss=0.27311): 100%|██████████| 6/6 [00:11<00:00,  1.96s/it]\n",
      "Training (13451 / 18000 Steps) (loss=0.39525): 100%|██████████| 6/6 [00:11<00:00,  1.95s/it]\n",
      "Training (13457 / 18000 Steps) (loss=0.47082): 100%|██████████| 6/6 [00:11<00:00,  1.90s/it]\n",
      "Training (13463 / 18000 Steps) (loss=0.36023): 100%|██████████| 6/6 [00:11<00:00,  1.94s/it]\n",
      "Training (13469 / 18000 Steps) (loss=0.36219): 100%|██████████| 6/6 [00:11<00:00,  1.90s/it]\n",
      "Training (13475 / 18000 Steps) (loss=0.66678): 100%|██████████| 6/6 [00:11<00:00,  1.89s/it]\n",
      "Training (13481 / 18000 Steps) (loss=0.51088): 100%|██████████| 6/6 [00:11<00:00,  1.94s/it]\n",
      "Training (13487 / 18000 Steps) (loss=0.41130): 100%|██████████| 6/6 [00:11<00:00,  1.91s/it]\n",
      "Training (13493 / 18000 Steps) (loss=0.29623): 100%|██████████| 6/6 [00:11<00:00,  1.92s/it]\n",
      "Training (13499 / 18000 Steps) (loss=0.61470): 100%|██████████| 6/6 [00:11<00:00,  1.92s/it]\n",
      "Validate (13500 / 10 Steps): 100%|██████████| 3/3 [00:11<00:00,  3.92s/it]<?, ?it/s]\n",
      "Training (13500 / 18000 Steps) (loss=0.51250):  17%|█▋        | 1/6 [00:15<01:18, 15.79s/it]"
     ]
    },
    {
     "name": "stdout",
     "output_type": "stream",
     "text": [
      "Model Was Not Saved ! Current Best Avg. Dice: 0.2640021741390228 Current Avg. Dice: 0.21238547563552856 Current Avg. tumor Dice: 0.24506054818630219 Current Avg. lymph Dice: 0.17971040308475494\n"
     ]
    },
    {
     "name": "stderr",
     "output_type": "stream",
     "text": [
      "Training (13505 / 18000 Steps) (loss=0.15358): 100%|██████████| 6/6 [00:23<00:00,  3.85s/it]\n",
      "Training (13511 / 18000 Steps) (loss=0.48117): 100%|██████████| 6/6 [00:11<00:00,  1.88s/it]\n",
      "Training (13517 / 18000 Steps) (loss=0.49065): 100%|██████████| 6/6 [00:11<00:00,  1.89s/it]\n",
      "Training (13523 / 18000 Steps) (loss=0.47466): 100%|██████████| 6/6 [00:11<00:00,  1.93s/it]\n",
      "Training (13529 / 18000 Steps) (loss=0.53106): 100%|██████████| 6/6 [00:11<00:00,  1.91s/it]\n",
      "Training (13535 / 18000 Steps) (loss=0.31489): 100%|██████████| 6/6 [00:12<00:00,  2.03s/it]\n",
      "Training (13541 / 18000 Steps) (loss=0.49154): 100%|██████████| 6/6 [00:11<00:00,  1.92s/it]\n",
      "Training (13547 / 18000 Steps) (loss=0.33636): 100%|██████████| 6/6 [00:11<00:00,  1.90s/it]\n",
      "Training (13553 / 18000 Steps) (loss=0.19346): 100%|██████████| 6/6 [00:11<00:00,  1.93s/it]\n",
      "Training (13559 / 18000 Steps) (loss=0.39945): 100%|██████████| 6/6 [00:11<00:00,  1.87s/it]\n",
      "Training (13565 / 18000 Steps) (loss=0.21590): 100%|██████████| 6/6 [00:11<00:00,  1.92s/it]\n",
      "Training (13571 / 18000 Steps) (loss=0.27492): 100%|██████████| 6/6 [00:11<00:00,  1.92s/it]\n",
      "Training (13577 / 18000 Steps) (loss=0.43957): 100%|██████████| 6/6 [00:11<00:00,  1.96s/it]\n",
      "Training (13583 / 18000 Steps) (loss=0.27978): 100%|██████████| 6/6 [00:11<00:00,  1.95s/it]\n",
      "Training (13589 / 18000 Steps) (loss=0.54132): 100%|██████████| 6/6 [00:11<00:00,  1.92s/it]\n",
      "Training (13595 / 18000 Steps) (loss=0.30839): 100%|██████████| 6/6 [00:11<00:00,  1.91s/it]\n",
      "Validate (13596 / 10 Steps): 100%|██████████| 3/3 [00:11<00:00,  3.95s/it]<00:03,  1.89s/it]\n",
      "Training (13600 / 18000 Steps) (loss=0.33139):  83%|████████▎ | 5/6 [00:22<00:06,  6.06s/it]"
     ]
    },
    {
     "name": "stdout",
     "output_type": "stream",
     "text": [
      "Model Was Not Saved ! Current Best Avg. Dice: 0.2640021741390228 Current Avg. Dice: 0.22770242393016815 Current Avg. tumor Dice: 0.2594008147716522 Current Avg. lymph Dice: 0.1960039883852005\n"
     ]
    },
    {
     "name": "stderr",
     "output_type": "stream",
     "text": [
      "Training (13601 / 18000 Steps) (loss=0.29208): 100%|██████████| 6/6 [00:23<00:00,  3.87s/it]\n",
      "Training (13607 / 18000 Steps) (loss=0.41733): 100%|██████████| 6/6 [00:11<00:00,  1.92s/it]\n",
      "Training (13613 / 18000 Steps) (loss=0.44998): 100%|██████████| 6/6 [00:11<00:00,  1.89s/it]\n",
      "Training (13619 / 18000 Steps) (loss=0.54612): 100%|██████████| 6/6 [00:11<00:00,  1.94s/it]\n",
      "Training (13625 / 18000 Steps) (loss=0.56915): 100%|██████████| 6/6 [00:11<00:00,  1.90s/it]\n",
      "Training (13631 / 18000 Steps) (loss=0.53900): 100%|██████████| 6/6 [00:11<00:00,  1.92s/it]\n",
      "Training (13637 / 18000 Steps) (loss=0.41806): 100%|██████████| 6/6 [00:11<00:00,  1.94s/it]\n",
      "Training (13643 / 18000 Steps) (loss=0.35491): 100%|██████████| 6/6 [00:11<00:00,  1.90s/it]\n",
      "Training (13649 / 18000 Steps) (loss=0.60115): 100%|██████████| 6/6 [00:11<00:00,  1.91s/it]\n",
      "Training (13655 / 18000 Steps) (loss=0.35915): 100%|██████████| 6/6 [00:11<00:00,  1.91s/it]\n",
      "Training (13661 / 18000 Steps) (loss=0.41460): 100%|██████████| 6/6 [00:11<00:00,  1.91s/it]\n",
      "Training (13667 / 18000 Steps) (loss=0.26432): 100%|██████████| 6/6 [00:11<00:00,  1.98s/it]\n",
      "Training (13673 / 18000 Steps) (loss=0.21759): 100%|██████████| 6/6 [00:11<00:00,  1.94s/it]\n",
      "Training (13679 / 18000 Steps) (loss=0.43226): 100%|██████████| 6/6 [00:11<00:00,  1.90s/it]\n",
      "Training (13685 / 18000 Steps) (loss=0.26778): 100%|██████████| 6/6 [00:11<00:00,  1.90s/it]\n",
      "Training (13691 / 18000 Steps) (loss=0.53101): 100%|██████████| 6/6 [00:11<00:00,  1.89s/it]\n",
      "Training (13697 / 18000 Steps) (loss=0.46609): 100%|██████████| 6/6 [00:11<00:00,  1.88s/it]\n",
      "Validate (13698 / 10 Steps): 100%|██████████| 3/3 [00:12<00:00,  4.01s/it]<00:10,  2.68s/it]\n",
      "Training (13700 / 18000 Steps) (loss=0.42126):  50%|█████     | 3/6 [00:19<00:23,  7.70s/it]"
     ]
    },
    {
     "name": "stdout",
     "output_type": "stream",
     "text": [
      "Model Was Not Saved ! Current Best Avg. Dice: 0.2640021741390228 Current Avg. Dice: 0.1800415962934494 Current Avg. tumor Dice: 0.2174871563911438 Current Avg. lymph Dice: 0.1425960212945938\n"
     ]
    },
    {
     "name": "stderr",
     "output_type": "stream",
     "text": [
      "Training (13703 / 18000 Steps) (loss=0.42949): 100%|██████████| 6/6 [00:23<00:00,  3.95s/it]\n",
      "Training (13709 / 18000 Steps) (loss=0.14080): 100%|██████████| 6/6 [00:11<00:00,  1.93s/it]\n",
      "Training (13715 / 18000 Steps) (loss=0.31100): 100%|██████████| 6/6 [00:11<00:00,  1.94s/it]\n",
      "Training (13721 / 18000 Steps) (loss=0.35288): 100%|██████████| 6/6 [00:11<00:00,  1.89s/it]\n",
      "Training (13727 / 18000 Steps) (loss=0.55738): 100%|██████████| 6/6 [00:11<00:00,  1.93s/it]\n",
      "Training (13733 / 18000 Steps) (loss=0.18642): 100%|██████████| 6/6 [00:11<00:00,  1.92s/it]\n",
      "Training (13739 / 18000 Steps) (loss=0.33018): 100%|██████████| 6/6 [00:11<00:00,  1.90s/it]\n",
      "Training (13745 / 18000 Steps) (loss=0.31080): 100%|██████████| 6/6 [00:11<00:00,  1.92s/it]\n",
      "Training (13751 / 18000 Steps) (loss=0.19942): 100%|██████████| 6/6 [00:11<00:00,  1.93s/it]\n",
      "Training (13757 / 18000 Steps) (loss=0.27481): 100%|██████████| 6/6 [00:11<00:00,  1.95s/it]\n",
      "Training (13763 / 18000 Steps) (loss=0.41638): 100%|██████████| 6/6 [00:11<00:00,  1.89s/it]\n",
      "Training (13769 / 18000 Steps) (loss=0.17635): 100%|██████████| 6/6 [00:11<00:00,  1.95s/it]\n",
      "Training (13775 / 18000 Steps) (loss=0.29287): 100%|██████████| 6/6 [00:11<00:00,  1.94s/it]\n",
      "Training (13781 / 18000 Steps) (loss=0.42095): 100%|██████████| 6/6 [00:11<00:00,  1.92s/it]\n",
      "Training (13787 / 18000 Steps) (loss=0.40878): 100%|██████████| 6/6 [00:11<00:00,  1.90s/it]\n",
      "Training (13793 / 18000 Steps) (loss=0.49909): 100%|██████████| 6/6 [00:11<00:00,  1.91s/it]\n",
      "Training (13799 / 18000 Steps) (loss=0.46967): 100%|██████████| 6/6 [00:11<00:00,  1.91s/it]\n",
      "Validate (13800 / 10 Steps): 100%|██████████| 3/3 [00:12<00:00,  4.04s/it]<?, ?it/s]\n",
      "Training (13800 / 18000 Steps) (loss=0.39455):  17%|█▋        | 1/6 [00:16<01:22, 16.53s/it]"
     ]
    },
    {
     "name": "stdout",
     "output_type": "stream",
     "text": [
      "Model Was Not Saved ! Current Best Avg. Dice: 0.2640021741390228 Current Avg. Dice: 0.16929496824741364 Current Avg. tumor Dice: 0.21364809572696686 Current Avg. lymph Dice: 0.12494183331727982\n"
     ]
    },
    {
     "name": "stderr",
     "output_type": "stream",
     "text": [
      "Training (13805 / 18000 Steps) (loss=0.53141): 100%|██████████| 6/6 [00:23<00:00,  3.96s/it]\n",
      "Training (13811 / 18000 Steps) (loss=0.37904): 100%|██████████| 6/6 [00:11<00:00,  1.87s/it]\n",
      "Training (13817 / 18000 Steps) (loss=0.55786): 100%|██████████| 6/6 [00:11<00:00,  1.90s/it]\n",
      "Training (13823 / 18000 Steps) (loss=0.54678): 100%|██████████| 6/6 [00:11<00:00,  1.88s/it]\n",
      "Training (13829 / 18000 Steps) (loss=0.46344): 100%|██████████| 6/6 [00:11<00:00,  1.95s/it]\n",
      "Training (13835 / 18000 Steps) (loss=0.20005): 100%|██████████| 6/6 [00:11<00:00,  1.93s/it]\n",
      "Training (13841 / 18000 Steps) (loss=0.56095): 100%|██████████| 6/6 [00:11<00:00,  1.90s/it]\n",
      "Training (13847 / 18000 Steps) (loss=0.15972): 100%|██████████| 6/6 [00:11<00:00,  1.94s/it]\n",
      "Training (13853 / 18000 Steps) (loss=0.42442): 100%|██████████| 6/6 [00:11<00:00,  1.89s/it]\n",
      "Training (13859 / 18000 Steps) (loss=0.27021): 100%|██████████| 6/6 [00:11<00:00,  1.89s/it]\n",
      "Training (13865 / 18000 Steps) (loss=0.26011): 100%|██████████| 6/6 [00:11<00:00,  1.92s/it]\n",
      "Training (13871 / 18000 Steps) (loss=0.41766): 100%|██████████| 6/6 [00:11<00:00,  1.90s/it]\n",
      "Training (13877 / 18000 Steps) (loss=0.46065): 100%|██████████| 6/6 [00:11<00:00,  1.90s/it]\n",
      "Training (13883 / 18000 Steps) (loss=0.54493): 100%|██████████| 6/6 [00:11<00:00,  1.92s/it]\n",
      "Training (13889 / 18000 Steps) (loss=0.45029): 100%|██████████| 6/6 [00:11<00:00,  1.93s/it]\n",
      "Training (13895 / 18000 Steps) (loss=0.30390): 100%|██████████| 6/6 [00:11<00:00,  1.93s/it]\n",
      "Validate (13896 / 10 Steps): 100%|██████████| 3/3 [00:11<00:00,  3.95s/it]<00:03,  1.95s/it]\n",
      "Training (13900 / 18000 Steps) (loss=0.37799):  83%|████████▎ | 5/6 [00:22<00:06,  6.12s/it]"
     ]
    },
    {
     "name": "stdout",
     "output_type": "stream",
     "text": [
      "Model Was Not Saved ! Current Best Avg. Dice: 0.2640021741390228 Current Avg. Dice: 0.19199489057064056 Current Avg. tumor Dice: 0.2229270488023758 Current Avg. lymph Dice: 0.16106270253658295\n"
     ]
    },
    {
     "name": "stderr",
     "output_type": "stream",
     "text": [
      "Training (13901 / 18000 Steps) (loss=0.43564): 100%|██████████| 6/6 [00:23<00:00,  3.94s/it]\n",
      "Training (13907 / 18000 Steps) (loss=0.30848): 100%|██████████| 6/6 [00:11<00:00,  1.88s/it]\n",
      "Training (13913 / 18000 Steps) (loss=0.47790): 100%|██████████| 6/6 [00:11<00:00,  1.90s/it]\n",
      "Training (13919 / 18000 Steps) (loss=0.26949): 100%|██████████| 6/6 [00:11<00:00,  1.92s/it]\n",
      "Training (13925 / 18000 Steps) (loss=0.21415): 100%|██████████| 6/6 [00:11<00:00,  1.95s/it]\n",
      "Training (13931 / 18000 Steps) (loss=0.52755): 100%|██████████| 6/6 [00:11<00:00,  1.91s/it]\n",
      "Training (13937 / 18000 Steps) (loss=0.40892): 100%|██████████| 6/6 [00:11<00:00,  1.94s/it]\n",
      "Training (13943 / 18000 Steps) (loss=0.15126): 100%|██████████| 6/6 [00:11<00:00,  1.88s/it]\n",
      "Training (13949 / 18000 Steps) (loss=0.55813): 100%|██████████| 6/6 [00:11<00:00,  1.93s/it]\n",
      "Training (13955 / 18000 Steps) (loss=0.41594): 100%|██████████| 6/6 [00:11<00:00,  1.90s/it]\n",
      "Training (13961 / 18000 Steps) (loss=0.46817): 100%|██████████| 6/6 [00:11<00:00,  1.90s/it]\n",
      "Training (13967 / 18000 Steps) (loss=0.44672): 100%|██████████| 6/6 [00:11<00:00,  1.94s/it]\n",
      "Training (13973 / 18000 Steps) (loss=0.30490): 100%|██████████| 6/6 [00:11<00:00,  1.92s/it]\n",
      "Training (13979 / 18000 Steps) (loss=0.14342): 100%|██████████| 6/6 [00:11<00:00,  1.95s/it]\n",
      "Training (13985 / 18000 Steps) (loss=0.46193): 100%|██████████| 6/6 [00:11<00:00,  1.96s/it]\n",
      "Training (13991 / 18000 Steps) (loss=0.51961): 100%|██████████| 6/6 [00:11<00:00,  1.91s/it]\n",
      "Training (13997 / 18000 Steps) (loss=0.38925): 100%|██████████| 6/6 [00:11<00:00,  1.91s/it]\n",
      "Validate (13998 / 10 Steps): 100%|██████████| 3/3 [00:11<00:00,  3.94s/it]<00:10,  2.63s/it]\n",
      "Training (14000 / 18000 Steps) (loss=0.47471):  50%|█████     | 3/6 [00:19<00:22,  7.56s/it]"
     ]
    },
    {
     "name": "stdout",
     "output_type": "stream",
     "text": [
      "Model Was Not Saved ! Current Best Avg. Dice: 0.2640021741390228 Current Avg. Dice: 0.2043144255876541 Current Avg. tumor Dice: 0.22768087685108185 Current Avg. lymph Dice: 0.18094795942306519\n"
     ]
    },
    {
     "name": "stderr",
     "output_type": "stream",
     "text": [
      "Training (14003 / 18000 Steps) (loss=0.36893): 100%|██████████| 6/6 [00:23<00:00,  3.88s/it]\n",
      "Training (14009 / 18000 Steps) (loss=0.44728): 100%|██████████| 6/6 [00:11<00:00,  1.92s/it]\n",
      "Training (14015 / 18000 Steps) (loss=0.29402): 100%|██████████| 6/6 [00:11<00:00,  1.95s/it]\n",
      "Training (14021 / 18000 Steps) (loss=0.43320): 100%|██████████| 6/6 [00:11<00:00,  1.95s/it]\n",
      "Training (14027 / 18000 Steps) (loss=0.48077): 100%|██████████| 6/6 [00:11<00:00,  1.96s/it]\n",
      "Training (14033 / 18000 Steps) (loss=0.30624): 100%|██████████| 6/6 [00:11<00:00,  1.88s/it]\n",
      "Training (14039 / 18000 Steps) (loss=0.47416): 100%|██████████| 6/6 [00:11<00:00,  1.90s/it]\n",
      "Training (14045 / 18000 Steps) (loss=0.41037): 100%|██████████| 6/6 [00:11<00:00,  1.87s/it]\n",
      "Training (14051 / 18000 Steps) (loss=0.18827): 100%|██████████| 6/6 [00:11<00:00,  1.91s/it]\n",
      "Training (14057 / 18000 Steps) (loss=0.30439): 100%|██████████| 6/6 [00:11<00:00,  1.94s/it]\n",
      "Training (14063 / 18000 Steps) (loss=0.31149): 100%|██████████| 6/6 [00:11<00:00,  1.91s/it]\n",
      "Training (14069 / 18000 Steps) (loss=0.33600): 100%|██████████| 6/6 [00:11<00:00,  1.96s/it]\n",
      "Training (14075 / 18000 Steps) (loss=0.30600): 100%|██████████| 6/6 [00:11<00:00,  1.93s/it]\n",
      "Training (14081 / 18000 Steps) (loss=0.53493): 100%|██████████| 6/6 [00:11<00:00,  2.00s/it]\n",
      "Training (14087 / 18000 Steps) (loss=0.36766): 100%|██████████| 6/6 [00:11<00:00,  1.92s/it]\n",
      "Training (14093 / 18000 Steps) (loss=0.63009): 100%|██████████| 6/6 [00:11<00:00,  1.88s/it]\n",
      "Training (14099 / 18000 Steps) (loss=0.29072): 100%|██████████| 6/6 [00:11<00:00,  1.92s/it]\n",
      "Validate (14100 / 10 Steps): 100%|██████████| 3/3 [00:11<00:00,  3.97s/it]<?, ?it/s]\n",
      "Training (14100 / 18000 Steps) (loss=0.46631):  17%|█▋        | 1/6 [00:16<01:20, 16.12s/it]"
     ]
    },
    {
     "name": "stdout",
     "output_type": "stream",
     "text": [
      "Model Was Not Saved ! Current Best Avg. Dice: 0.2640021741390228 Current Avg. Dice: 0.18472878634929657 Current Avg. tumor Dice: 0.21819977462291718 Current Avg. lymph Dice: 0.15125776827335358\n"
     ]
    },
    {
     "name": "stderr",
     "output_type": "stream",
     "text": [
      "Training (14105 / 18000 Steps) (loss=0.54325): 100%|██████████| 6/6 [00:23<00:00,  3.91s/it]\n",
      "Training (14111 / 18000 Steps) (loss=0.30946): 100%|██████████| 6/6 [00:11<00:00,  1.96s/it]\n",
      "Training (14117 / 18000 Steps) (loss=0.29400): 100%|██████████| 6/6 [00:11<00:00,  1.93s/it]\n",
      "Training (14123 / 18000 Steps) (loss=0.28977): 100%|██████████| 6/6 [00:11<00:00,  1.88s/it]\n",
      "Training (14129 / 18000 Steps) (loss=0.45531): 100%|██████████| 6/6 [00:11<00:00,  1.93s/it]\n",
      "Training (14135 / 18000 Steps) (loss=0.40876): 100%|██████████| 6/6 [00:11<00:00,  1.89s/it]\n",
      "Training (14141 / 18000 Steps) (loss=0.40548): 100%|██████████| 6/6 [00:11<00:00,  1.90s/it]\n",
      "Training (14147 / 18000 Steps) (loss=0.48618): 100%|██████████| 6/6 [00:11<00:00,  2.00s/it]\n",
      "Training (14153 / 18000 Steps) (loss=0.26365): 100%|██████████| 6/6 [00:11<00:00,  1.92s/it]\n",
      "Training (14159 / 18000 Steps) (loss=0.41789): 100%|██████████| 6/6 [00:11<00:00,  1.93s/it]\n",
      "Training (14165 / 18000 Steps) (loss=0.30362): 100%|██████████| 6/6 [00:11<00:00,  1.92s/it]\n",
      "Training (14171 / 18000 Steps) (loss=0.42748): 100%|██████████| 6/6 [00:11<00:00,  1.94s/it]\n",
      "Training (14177 / 18000 Steps) (loss=0.54206): 100%|██████████| 6/6 [00:11<00:00,  1.90s/it]\n",
      "Training (14183 / 18000 Steps) (loss=0.36433): 100%|██████████| 6/6 [00:11<00:00,  1.92s/it]\n",
      "Training (14189 / 18000 Steps) (loss=0.31736): 100%|██████████| 6/6 [00:11<00:00,  1.89s/it]\n",
      "Training (14195 / 18000 Steps) (loss=0.52665): 100%|██████████| 6/6 [00:11<00:00,  1.90s/it]\n",
      "Validate (14196 / 10 Steps): 100%|██████████| 3/3 [00:11<00:00,  3.98s/it]<00:03,  1.95s/it]\n",
      "Training (14200 / 18000 Steps) (loss=0.46560):  83%|████████▎ | 5/6 [00:22<00:06,  6.14s/it]"
     ]
    },
    {
     "name": "stdout",
     "output_type": "stream",
     "text": [
      "Model Was Not Saved ! Current Best Avg. Dice: 0.2640021741390228 Current Avg. Dice: 0.2111099511384964 Current Avg. tumor Dice: 0.26679420471191406 Current Avg. lymph Dice: 0.15542569756507874\n"
     ]
    },
    {
     "name": "stderr",
     "output_type": "stream",
     "text": [
      "Training (14201 / 18000 Steps) (loss=0.29478): 100%|██████████| 6/6 [00:23<00:00,  3.94s/it]\n",
      "Training (14207 / 18000 Steps) (loss=0.51565): 100%|██████████| 6/6 [00:11<00:00,  1.90s/it]\n",
      "Training (14213 / 18000 Steps) (loss=0.14922): 100%|██████████| 6/6 [00:11<00:00,  1.92s/it]\n",
      "Training (14219 / 18000 Steps) (loss=0.47369): 100%|██████████| 6/6 [00:11<00:00,  1.86s/it]\n",
      "Training (14225 / 18000 Steps) (loss=0.33099): 100%|██████████| 6/6 [00:11<00:00,  1.92s/it]\n",
      "Training (14231 / 18000 Steps) (loss=0.43104): 100%|██████████| 6/6 [00:11<00:00,  1.91s/it]\n",
      "Training (14237 / 18000 Steps) (loss=0.38320): 100%|██████████| 6/6 [00:11<00:00,  1.91s/it]\n",
      "Training (14243 / 18000 Steps) (loss=0.40528): 100%|██████████| 6/6 [00:11<00:00,  1.97s/it]\n",
      "Training (14249 / 18000 Steps) (loss=0.39733): 100%|██████████| 6/6 [00:11<00:00,  1.93s/it]\n",
      "Training (14255 / 18000 Steps) (loss=0.21460): 100%|██████████| 6/6 [00:11<00:00,  1.87s/it]\n",
      "Training (14261 / 18000 Steps) (loss=0.45381): 100%|██████████| 6/6 [00:11<00:00,  1.92s/it]\n",
      "Training (14267 / 18000 Steps) (loss=0.54367): 100%|██████████| 6/6 [00:11<00:00,  1.88s/it]\n",
      "Training (14273 / 18000 Steps) (loss=0.47826): 100%|██████████| 6/6 [00:11<00:00,  1.90s/it]\n",
      "Training (14279 / 18000 Steps) (loss=0.43963): 100%|██████████| 6/6 [00:11<00:00,  1.98s/it]\n",
      "Training (14285 / 18000 Steps) (loss=0.41269): 100%|██████████| 6/6 [00:11<00:00,  1.91s/it]\n",
      "Training (14291 / 18000 Steps) (loss=0.40805): 100%|██████████| 6/6 [00:11<00:00,  1.94s/it]\n",
      "Training (14297 / 18000 Steps) (loss=0.33131): 100%|██████████| 6/6 [00:11<00:00,  1.94s/it]\n",
      "Validate (14298 / 10 Steps): 100%|██████████| 3/3 [00:11<00:00,  3.97s/it]<00:10,  2.56s/it]\n",
      "Training (14300 / 18000 Steps) (loss=0.34117):  50%|█████     | 3/6 [00:19<00:22,  7.56s/it]"
     ]
    },
    {
     "name": "stdout",
     "output_type": "stream",
     "text": [
      "Model Was Not Saved ! Current Best Avg. Dice: 0.2640021741390228 Current Avg. Dice: 0.21978919208049774 Current Avg. tumor Dice: 0.24619264900684357 Current Avg. lymph Dice: 0.19338570535182953\n"
     ]
    },
    {
     "name": "stderr",
     "output_type": "stream",
     "text": [
      "Training (14303 / 18000 Steps) (loss=0.36459): 100%|██████████| 6/6 [00:23<00:00,  3.89s/it]\n",
      "Training (14309 / 18000 Steps) (loss=0.32252): 100%|██████████| 6/6 [00:11<00:00,  1.89s/it]\n",
      "Training (14315 / 18000 Steps) (loss=0.35973): 100%|██████████| 6/6 [00:11<00:00,  1.89s/it]\n",
      "Training (14321 / 18000 Steps) (loss=0.21548): 100%|██████████| 6/6 [00:11<00:00,  1.91s/it]\n",
      "Training (14327 / 18000 Steps) (loss=0.36081): 100%|██████████| 6/6 [00:11<00:00,  1.96s/it]\n",
      "Training (14333 / 18000 Steps) (loss=0.36584): 100%|██████████| 6/6 [00:11<00:00,  1.95s/it]\n",
      "Training (14339 / 18000 Steps) (loss=0.15144): 100%|██████████| 6/6 [00:11<00:00,  1.96s/it]\n",
      "Training (14345 / 18000 Steps) (loss=0.47352): 100%|██████████| 6/6 [00:11<00:00,  1.92s/it]\n",
      "Training (14351 / 18000 Steps) (loss=0.38142): 100%|██████████| 6/6 [00:11<00:00,  1.90s/it]\n",
      "Training (14357 / 18000 Steps) (loss=0.54984): 100%|██████████| 6/6 [00:11<00:00,  1.88s/it]\n",
      "Training (14363 / 18000 Steps) (loss=0.43446): 100%|██████████| 6/6 [00:11<00:00,  1.93s/it]\n",
      "Training (14369 / 18000 Steps) (loss=0.53389): 100%|██████████| 6/6 [00:11<00:00,  1.94s/it]\n",
      "Training (14375 / 18000 Steps) (loss=0.43172): 100%|██████████| 6/6 [00:11<00:00,  1.96s/it]\n",
      "Training (14381 / 18000 Steps) (loss=0.38075): 100%|██████████| 6/6 [00:11<00:00,  1.96s/it]\n",
      "Training (14387 / 18000 Steps) (loss=0.46440): 100%|██████████| 6/6 [00:11<00:00,  1.90s/it]\n",
      "Training (14393 / 18000 Steps) (loss=0.40607): 100%|██████████| 6/6 [00:11<00:00,  1.89s/it]\n",
      "Training (14399 / 18000 Steps) (loss=0.43820): 100%|██████████| 6/6 [00:11<00:00,  1.92s/it]\n",
      "Validate (14400 / 10 Steps): 100%|██████████| 3/3 [00:11<00:00,  3.97s/it]<?, ?it/s]\n",
      "Training (14400 / 18000 Steps) (loss=0.23636):  17%|█▋        | 1/6 [00:16<01:20, 16.10s/it]"
     ]
    },
    {
     "name": "stdout",
     "output_type": "stream",
     "text": [
      "Model Was Not Saved ! Current Best Avg. Dice: 0.2640021741390228 Current Avg. Dice: 0.20853865146636963 Current Avg. tumor Dice: 0.2607893645763397 Current Avg. lymph Dice: 0.15628798305988312\n"
     ]
    },
    {
     "name": "stderr",
     "output_type": "stream",
     "text": [
      "Training (14405 / 18000 Steps) (loss=0.26633): 100%|██████████| 6/6 [00:23<00:00,  3.90s/it]\n",
      "Training (14411 / 18000 Steps) (loss=0.43520): 100%|██████████| 6/6 [00:11<00:00,  1.93s/it]\n",
      "Training (14417 / 18000 Steps) (loss=0.40702): 100%|██████████| 6/6 [00:11<00:00,  1.89s/it]\n",
      "Training (14423 / 18000 Steps) (loss=0.16510): 100%|██████████| 6/6 [00:11<00:00,  1.96s/it]\n",
      "Training (14429 / 18000 Steps) (loss=0.24889): 100%|██████████| 6/6 [00:11<00:00,  1.92s/it]\n",
      "Training (14435 / 18000 Steps) (loss=0.37207): 100%|██████████| 6/6 [00:11<00:00,  1.94s/it]\n",
      "Training (14441 / 18000 Steps) (loss=0.38360): 100%|██████████| 6/6 [00:11<00:00,  1.90s/it]\n",
      "Training (14447 / 18000 Steps) (loss=0.47427): 100%|██████████| 6/6 [00:11<00:00,  1.89s/it]\n",
      "Training (14453 / 18000 Steps) (loss=0.50187): 100%|██████████| 6/6 [00:11<00:00,  1.90s/it]\n",
      "Training (14459 / 18000 Steps) (loss=0.48012): 100%|██████████| 6/6 [00:11<00:00,  1.94s/it]\n",
      "Training (14465 / 18000 Steps) (loss=0.45700): 100%|██████████| 6/6 [00:11<00:00,  1.95s/it]\n",
      "Training (14471 / 18000 Steps) (loss=0.33560): 100%|██████████| 6/6 [00:11<00:00,  1.94s/it]\n",
      "Training (14477 / 18000 Steps) (loss=0.56681): 100%|██████████| 6/6 [00:11<00:00,  1.91s/it]\n",
      "Training (14483 / 18000 Steps) (loss=0.15413): 100%|██████████| 6/6 [00:11<00:00,  1.94s/it]\n",
      "Training (14489 / 18000 Steps) (loss=0.45166): 100%|██████████| 6/6 [00:11<00:00,  1.89s/it]\n",
      "Training (14495 / 18000 Steps) (loss=0.53694): 100%|██████████| 6/6 [00:11<00:00,  1.90s/it]\n",
      "Validate (14496 / 10 Steps): 100%|██████████| 3/3 [00:11<00:00,  3.96s/it]<00:03,  1.97s/it]\n",
      "Training (14500 / 18000 Steps) (loss=0.40072):  83%|████████▎ | 5/6 [00:22<00:06,  6.14s/it]"
     ]
    },
    {
     "name": "stdout",
     "output_type": "stream",
     "text": [
      "Model Was Not Saved ! Current Best Avg. Dice: 0.2640021741390228 Current Avg. Dice: 0.200902059674263 Current Avg. tumor Dice: 0.24418026208877563 Current Avg. lymph Dice: 0.15762390196323395\n"
     ]
    },
    {
     "name": "stderr",
     "output_type": "stream",
     "text": [
      "Training (14501 / 18000 Steps) (loss=0.35255): 100%|██████████| 6/6 [00:23<00:00,  3.96s/it]\n",
      "Training (14507 / 18000 Steps) (loss=0.38384): 100%|██████████| 6/6 [00:11<00:00,  1.93s/it]\n",
      "Training (14513 / 18000 Steps) (loss=0.36747): 100%|██████████| 6/6 [00:11<00:00,  1.94s/it]\n",
      "Training (14519 / 18000 Steps) (loss=0.21039): 100%|██████████| 6/6 [00:11<00:00,  1.89s/it]\n",
      "Training (14525 / 18000 Steps) (loss=0.53059): 100%|██████████| 6/6 [00:11<00:00,  1.93s/it]\n",
      "Training (14531 / 18000 Steps) (loss=0.41986): 100%|██████████| 6/6 [00:11<00:00,  1.89s/it]\n",
      "Training (14537 / 18000 Steps) (loss=0.36710): 100%|██████████| 6/6 [00:11<00:00,  1.90s/it]\n",
      "Training (14543 / 18000 Steps) (loss=0.31728): 100%|██████████| 6/6 [00:11<00:00,  1.96s/it]\n",
      "Training (14549 / 18000 Steps) (loss=0.41142): 100%|██████████| 6/6 [00:11<00:00,  1.90s/it]\n",
      "Training (14555 / 18000 Steps) (loss=0.66091): 100%|██████████| 6/6 [00:11<00:00,  1.96s/it]\n",
      "Training (14561 / 18000 Steps) (loss=0.30411): 100%|██████████| 6/6 [00:11<00:00,  1.96s/it]\n",
      "Training (14567 / 18000 Steps) (loss=0.53722): 100%|██████████| 6/6 [00:11<00:00,  1.90s/it]\n",
      "Training (14573 / 18000 Steps) (loss=0.28450): 100%|██████████| 6/6 [00:11<00:00,  1.93s/it]\n",
      "Training (14579 / 18000 Steps) (loss=0.40790): 100%|██████████| 6/6 [00:11<00:00,  1.90s/it]\n",
      "Training (14585 / 18000 Steps) (loss=0.35358): 100%|██████████| 6/6 [00:11<00:00,  1.88s/it]\n",
      "Training (14591 / 18000 Steps) (loss=0.44180): 100%|██████████| 6/6 [00:11<00:00,  1.93s/it]\n",
      "Training (14597 / 18000 Steps) (loss=0.33227): 100%|██████████| 6/6 [00:11<00:00,  1.99s/it]\n",
      "Validate (14598 / 10 Steps): 100%|██████████| 3/3 [00:11<00:00,  3.97s/it]<00:10,  2.64s/it]\n",
      "Training (14600 / 18000 Steps) (loss=0.35088):  50%|█████     | 3/6 [00:19<00:22,  7.62s/it]"
     ]
    },
    {
     "name": "stdout",
     "output_type": "stream",
     "text": [
      "Model Was Not Saved ! Current Best Avg. Dice: 0.2640021741390228 Current Avg. Dice: 0.19174917042255402 Current Avg. tumor Dice: 0.2116960734128952 Current Avg. lymph Dice: 0.17180229723453522\n"
     ]
    },
    {
     "name": "stderr",
     "output_type": "stream",
     "text": [
      "Training (14603 / 18000 Steps) (loss=0.39913): 100%|██████████| 6/6 [00:23<00:00,  3.90s/it]\n",
      "Training (14609 / 18000 Steps) (loss=0.31869): 100%|██████████| 6/6 [00:11<00:00,  1.94s/it]\n",
      "Training (14615 / 18000 Steps) (loss=0.35031): 100%|██████████| 6/6 [00:11<00:00,  1.90s/it]\n",
      "Training (14621 / 18000 Steps) (loss=0.23004): 100%|██████████| 6/6 [00:11<00:00,  1.96s/it]\n",
      "Training (14627 / 18000 Steps) (loss=0.52119): 100%|██████████| 6/6 [00:11<00:00,  1.91s/it]\n",
      "Training (14633 / 18000 Steps) (loss=0.66930): 100%|██████████| 6/6 [00:11<00:00,  1.90s/it]\n",
      "Training (14639 / 18000 Steps) (loss=0.15822): 100%|██████████| 6/6 [00:11<00:00,  1.93s/it]\n",
      "Training (14645 / 18000 Steps) (loss=0.42934): 100%|██████████| 6/6 [00:11<00:00,  1.94s/it]\n",
      "Training (14651 / 18000 Steps) (loss=0.44117): 100%|██████████| 6/6 [00:11<00:00,  1.89s/it]\n",
      "Training (14657 / 18000 Steps) (loss=0.46526): 100%|██████████| 6/6 [00:11<00:00,  1.95s/it]\n",
      "Training (14663 / 18000 Steps) (loss=0.40714): 100%|██████████| 6/6 [00:11<00:00,  1.89s/it]\n",
      "Training (14669 / 18000 Steps) (loss=0.48605): 100%|██████████| 6/6 [00:11<00:00,  1.88s/it]\n",
      "Training (14675 / 18000 Steps) (loss=0.25502): 100%|██████████| 6/6 [00:11<00:00,  1.93s/it]\n",
      "Training (14681 / 18000 Steps) (loss=0.32813): 100%|██████████| 6/6 [00:11<00:00,  1.95s/it]\n",
      "Training (14687 / 18000 Steps) (loss=0.21924): 100%|██████████| 6/6 [00:11<00:00,  1.93s/it]\n",
      "Training (14693 / 18000 Steps) (loss=0.47322): 100%|██████████| 6/6 [00:11<00:00,  1.94s/it]\n",
      "Training (14699 / 18000 Steps) (loss=0.46359): 100%|██████████| 6/6 [00:11<00:00,  1.88s/it]\n",
      "Validate (14700 / 10 Steps): 100%|██████████| 3/3 [00:11<00:00,  3.96s/it]<?, ?it/s]\n",
      "Training (14700 / 18000 Steps) (loss=0.39434):  17%|█▋        | 1/6 [00:16<01:20, 16.01s/it]"
     ]
    },
    {
     "name": "stdout",
     "output_type": "stream",
     "text": [
      "Model Was Not Saved ! Current Best Avg. Dice: 0.2640021741390228 Current Avg. Dice: 0.21400086581707 Current Avg. tumor Dice: 0.23718148469924927 Current Avg. lymph Dice: 0.19082021713256836\n"
     ]
    },
    {
     "name": "stderr",
     "output_type": "stream",
     "text": [
      "Training (14705 / 18000 Steps) (loss=0.13815): 100%|██████████| 6/6 [00:23<00:00,  3.90s/it]\n",
      "Training (14711 / 18000 Steps) (loss=0.22086): 100%|██████████| 6/6 [00:11<00:00,  1.92s/it]\n",
      "Training (14717 / 18000 Steps) (loss=0.34952): 100%|██████████| 6/6 [00:11<00:00,  1.92s/it]\n",
      "Training (14723 / 18000 Steps) (loss=0.40843): 100%|██████████| 6/6 [00:11<00:00,  1.96s/it]\n",
      "Training (14729 / 18000 Steps) (loss=0.26757): 100%|██████████| 6/6 [00:11<00:00,  1.93s/it]\n",
      "Training (14735 / 18000 Steps) (loss=0.26627): 100%|██████████| 6/6 [00:11<00:00,  1.97s/it]\n",
      "Training (14741 / 18000 Steps) (loss=0.40449): 100%|██████████| 6/6 [00:11<00:00,  1.91s/it]\n",
      "Training (14747 / 18000 Steps) (loss=0.42657): 100%|██████████| 6/6 [00:11<00:00,  1.91s/it]\n",
      "Training (14753 / 18000 Steps) (loss=0.41180): 100%|██████████| 6/6 [00:11<00:00,  1.91s/it]\n",
      "Training (14759 / 18000 Steps) (loss=0.36728): 100%|██████████| 6/6 [00:11<00:00,  1.91s/it]\n",
      "Training (14765 / 18000 Steps) (loss=0.55858): 100%|██████████| 6/6 [00:11<00:00,  1.91s/it]\n",
      "Training (14771 / 18000 Steps) (loss=0.54798): 100%|██████████| 6/6 [00:11<00:00,  1.95s/it]\n",
      "Training (14777 / 18000 Steps) (loss=0.37176): 100%|██████████| 6/6 [00:11<00:00,  1.95s/it]\n",
      "Training (14783 / 18000 Steps) (loss=0.22464): 100%|██████████| 6/6 [00:11<00:00,  1.93s/it]\n",
      "Training (14789 / 18000 Steps) (loss=0.53786): 100%|██████████| 6/6 [00:11<00:00,  1.88s/it]\n",
      "Training (14795 / 18000 Steps) (loss=0.53074): 100%|██████████| 6/6 [00:11<00:00,  1.93s/it]\n",
      "Validate (14796 / 10 Steps): 100%|██████████| 3/3 [00:11<00:00,  3.94s/it]<00:03,  1.88s/it]\n",
      "Training (14800 / 18000 Steps) (loss=0.34226):  83%|████████▎ | 5/6 [00:22<00:06,  6.04s/it]"
     ]
    },
    {
     "name": "stdout",
     "output_type": "stream",
     "text": [
      "Model Was Not Saved ! Current Best Avg. Dice: 0.2640021741390228 Current Avg. Dice: 0.20280106365680695 Current Avg. tumor Dice: 0.23281113803386688 Current Avg. lymph Dice: 0.17279104888439178\n"
     ]
    },
    {
     "name": "stderr",
     "output_type": "stream",
     "text": [
      "Training (14801 / 18000 Steps) (loss=0.41463): 100%|██████████| 6/6 [00:23<00:00,  3.86s/it]\n",
      "Training (14807 / 18000 Steps) (loss=0.27959): 100%|██████████| 6/6 [00:11<00:00,  1.97s/it]\n",
      "Training (14813 / 18000 Steps) (loss=0.14175): 100%|██████████| 6/6 [00:11<00:00,  1.93s/it]\n",
      "Training (14819 / 18000 Steps) (loss=0.17591): 100%|██████████| 6/6 [00:11<00:00,  1.95s/it]\n",
      "Training (14825 / 18000 Steps) (loss=0.33523): 100%|██████████| 6/6 [00:11<00:00,  1.91s/it]\n",
      "Training (14831 / 18000 Steps) (loss=0.41891): 100%|██████████| 6/6 [00:11<00:00,  1.86s/it]\n",
      "Training (14837 / 18000 Steps) (loss=0.30302): 100%|██████████| 6/6 [00:11<00:00,  1.91s/it]\n",
      "Training (14843 / 18000 Steps) (loss=0.18424): 100%|██████████| 6/6 [00:11<00:00,  1.90s/it]\n",
      "Training (14849 / 18000 Steps) (loss=0.29494): 100%|██████████| 6/6 [00:11<00:00,  1.90s/it]\n",
      "Training (14855 / 18000 Steps) (loss=0.50970): 100%|██████████| 6/6 [00:11<00:00,  1.91s/it]\n",
      "Training (14861 / 18000 Steps) (loss=0.54461): 100%|██████████| 6/6 [00:11<00:00,  1.90s/it]\n",
      "Training (14867 / 18000 Steps) (loss=0.35991): 100%|██████████| 6/6 [00:11<00:00,  1.98s/it]\n",
      "Training (14873 / 18000 Steps) (loss=0.26581): 100%|██████████| 6/6 [00:11<00:00,  1.91s/it]\n",
      "Training (14879 / 18000 Steps) (loss=0.41570): 100%|██████████| 6/6 [00:11<00:00,  1.91s/it]\n",
      "Training (14885 / 18000 Steps) (loss=0.14473): 100%|██████████| 6/6 [00:11<00:00,  1.90s/it]\n",
      "Training (14891 / 18000 Steps) (loss=0.47952): 100%|██████████| 6/6 [00:11<00:00,  1.89s/it]\n",
      "Training (14897 / 18000 Steps) (loss=0.15110): 100%|██████████| 6/6 [00:11<00:00,  1.89s/it]\n",
      "Validate (14898 / 10 Steps): 100%|██████████| 3/3 [00:11<00:00,  3.97s/it]<00:10,  2.62s/it]\n",
      "Training (14900 / 18000 Steps) (loss=0.48844):  50%|█████     | 3/6 [00:19<00:22,  7.61s/it]"
     ]
    },
    {
     "name": "stdout",
     "output_type": "stream",
     "text": [
      "Model Was Not Saved ! Current Best Avg. Dice: 0.2640021741390228 Current Avg. Dice: 0.214902862906456 Current Avg. tumor Dice: 0.2580071687698364 Current Avg. lymph Dice: 0.17179852724075317\n"
     ]
    },
    {
     "name": "stderr",
     "output_type": "stream",
     "text": [
      "Training (14903 / 18000 Steps) (loss=0.54864): 100%|██████████| 6/6 [00:23<00:00,  3.93s/it]\n",
      "Training (14909 / 18000 Steps) (loss=0.35672): 100%|██████████| 6/6 [00:11<00:00,  1.96s/it]\n",
      "Training (14915 / 18000 Steps) (loss=0.35627): 100%|██████████| 6/6 [00:11<00:00,  1.92s/it]\n",
      "Training (14921 / 18000 Steps) (loss=0.29459): 100%|██████████| 6/6 [00:11<00:00,  1.90s/it]\n",
      "Training (14927 / 18000 Steps) (loss=0.17599): 100%|██████████| 6/6 [00:11<00:00,  1.90s/it]\n",
      "Training (14933 / 18000 Steps) (loss=0.36921): 100%|██████████| 6/6 [00:11<00:00,  1.88s/it]\n",
      "Training (14939 / 18000 Steps) (loss=0.34999): 100%|██████████| 6/6 [00:11<00:00,  1.92s/it]\n",
      "Training (14945 / 18000 Steps) (loss=0.52089): 100%|██████████| 6/6 [00:11<00:00,  1.95s/it]\n",
      "Training (14951 / 18000 Steps) (loss=0.22780): 100%|██████████| 6/6 [00:11<00:00,  1.92s/it]\n",
      "Training (14957 / 18000 Steps) (loss=0.58959): 100%|██████████| 6/6 [00:11<00:00,  1.95s/it]\n",
      "Training (14963 / 18000 Steps) (loss=0.12966): 100%|██████████| 6/6 [00:11<00:00,  1.91s/it]\n",
      "Training (14969 / 18000 Steps) (loss=0.21825): 100%|██████████| 6/6 [00:11<00:00,  1.95s/it]\n",
      "Training (14975 / 18000 Steps) (loss=0.31704): 100%|██████████| 6/6 [00:11<00:00,  1.93s/it]\n",
      "Training (14981 / 18000 Steps) (loss=0.43198): 100%|██████████| 6/6 [00:11<00:00,  1.91s/it]\n",
      "Training (14987 / 18000 Steps) (loss=0.43408): 100%|██████████| 6/6 [00:11<00:00,  1.90s/it]\n",
      "Training (14993 / 18000 Steps) (loss=0.48674): 100%|██████████| 6/6 [00:11<00:00,  1.93s/it]\n",
      "Training (14999 / 18000 Steps) (loss=0.11646): 100%|██████████| 6/6 [00:11<00:00,  1.92s/it]\n",
      "Validate (15000 / 10 Steps): 100%|██████████| 3/3 [00:12<00:00,  4.03s/it]<?, ?it/s]\n",
      "Training (15000 / 18000 Steps) (loss=0.31395):  17%|█▋        | 1/6 [00:16<01:22, 16.46s/it]"
     ]
    },
    {
     "name": "stdout",
     "output_type": "stream",
     "text": [
      "Model Was Not Saved ! Current Best Avg. Dice: 0.2640021741390228 Current Avg. Dice: 0.19420959055423737 Current Avg. tumor Dice: 0.25039976835250854 Current Avg. lymph Dice: 0.13801944255828857\n"
     ]
    },
    {
     "name": "stderr",
     "output_type": "stream",
     "text": [
      "Training (15005 / 18000 Steps) (loss=0.30812): 100%|██████████| 6/6 [00:23<00:00,  3.95s/it]\n",
      "Training (15011 / 18000 Steps) (loss=0.32760): 100%|██████████| 6/6 [00:11<00:00,  1.91s/it]\n",
      "Training (15017 / 18000 Steps) (loss=0.42799): 100%|██████████| 6/6 [00:11<00:00,  1.93s/it]\n",
      "Training (15023 / 18000 Steps) (loss=0.17280): 100%|██████████| 6/6 [00:11<00:00,  1.88s/it]\n",
      "Training (15029 / 18000 Steps) (loss=0.31448): 100%|██████████| 6/6 [00:11<00:00,  1.93s/it]\n",
      "Training (15035 / 18000 Steps) (loss=0.42075): 100%|██████████| 6/6 [00:11<00:00,  1.97s/it]\n",
      "Training (15041 / 18000 Steps) (loss=0.41690): 100%|██████████| 6/6 [00:11<00:00,  1.97s/it]\n",
      "Training (15047 / 18000 Steps) (loss=0.50777): 100%|██████████| 6/6 [00:11<00:00,  1.92s/it]\n",
      "Training (15053 / 18000 Steps) (loss=0.47827): 100%|██████████| 6/6 [00:11<00:00,  1.89s/it]\n",
      "Training (15059 / 18000 Steps) (loss=0.45864): 100%|██████████| 6/6 [00:11<00:00,  1.90s/it]\n",
      "Training (15065 / 18000 Steps) (loss=0.29505): 100%|██████████| 6/6 [00:11<00:00,  1.93s/it]\n",
      "Training (15071 / 18000 Steps) (loss=0.28258): 100%|██████████| 6/6 [00:11<00:00,  1.95s/it]\n",
      "Training (15077 / 18000 Steps) (loss=0.24316): 100%|██████████| 6/6 [00:11<00:00,  1.91s/it]\n",
      "Training (15083 / 18000 Steps) (loss=0.41803): 100%|██████████| 6/6 [00:11<00:00,  1.91s/it]\n",
      "Training (15089 / 18000 Steps) (loss=0.46922): 100%|██████████| 6/6 [00:11<00:00,  1.95s/it]\n",
      "Training (15095 / 18000 Steps) (loss=0.18963): 100%|██████████| 6/6 [00:11<00:00,  1.91s/it]\n",
      "Validate (15096 / 10 Steps): 100%|██████████| 3/3 [00:11<00:00,  3.98s/it]<00:03,  1.92s/it]\n",
      "Training (15100 / 18000 Steps) (loss=0.41464):  83%|████████▎ | 5/6 [00:22<00:06,  6.11s/it]"
     ]
    },
    {
     "name": "stdout",
     "output_type": "stream",
     "text": [
      "Model Was Not Saved ! Current Best Avg. Dice: 0.2640021741390228 Current Avg. Dice: 0.20650415122509003 Current Avg. tumor Dice: 0.24300716817378998 Current Avg. lymph Dice: 0.17000114917755127\n"
     ]
    },
    {
     "name": "stderr",
     "output_type": "stream",
     "text": [
      "Training (15101 / 18000 Steps) (loss=0.42983): 100%|██████████| 6/6 [00:23<00:00,  3.92s/it]\n",
      "Training (15107 / 18000 Steps) (loss=0.24282): 100%|██████████| 6/6 [00:11<00:00,  1.88s/it]\n",
      "Training (15113 / 18000 Steps) (loss=0.20298): 100%|██████████| 6/6 [00:11<00:00,  1.93s/it]\n",
      "Training (15119 / 18000 Steps) (loss=0.29678): 100%|██████████| 6/6 [00:11<00:00,  1.94s/it]\n",
      "Training (15125 / 18000 Steps) (loss=0.21105): 100%|██████████| 6/6 [00:11<00:00,  1.95s/it]\n",
      "Training (15131 / 18000 Steps) (loss=0.40268): 100%|██████████| 6/6 [00:11<00:00,  1.94s/it]\n",
      "Training (15137 / 18000 Steps) (loss=0.42517): 100%|██████████| 6/6 [00:11<00:00,  1.90s/it]\n",
      "Training (15143 / 18000 Steps) (loss=0.34387): 100%|██████████| 6/6 [00:11<00:00,  1.90s/it]\n",
      "Training (15149 / 18000 Steps) (loss=0.43146): 100%|██████████| 6/6 [00:11<00:00,  1.88s/it]\n",
      "Training (15155 / 18000 Steps) (loss=0.46206): 100%|██████████| 6/6 [00:11<00:00,  1.92s/it]\n",
      "Training (15161 / 18000 Steps) (loss=0.26645): 100%|██████████| 6/6 [00:11<00:00,  1.95s/it]\n",
      "Training (15167 / 18000 Steps) (loss=0.21649): 100%|██████████| 6/6 [00:11<00:00,  1.93s/it]\n",
      "Training (15173 / 18000 Steps) (loss=0.14012): 100%|██████████| 6/6 [00:11<00:00,  1.95s/it]\n",
      "Training (15179 / 18000 Steps) (loss=0.43100): 100%|██████████| 6/6 [00:11<00:00,  1.94s/it]\n",
      "Training (15185 / 18000 Steps) (loss=0.52967): 100%|██████████| 6/6 [00:11<00:00,  1.93s/it]\n",
      "Training (15191 / 18000 Steps) (loss=0.40626): 100%|██████████| 6/6 [00:11<00:00,  1.93s/it]\n",
      "Training (15197 / 18000 Steps) (loss=0.15055): 100%|██████████| 6/6 [00:11<00:00,  1.91s/it]\n",
      "Validate (15198 / 10 Steps): 100%|██████████| 3/3 [00:11<00:00,  3.94s/it]<00:10,  2.57s/it]\n",
      "Training (15200 / 18000 Steps) (loss=0.29551):  50%|█████     | 3/6 [00:18<00:22,  7.52s/it]"
     ]
    },
    {
     "name": "stdout",
     "output_type": "stream",
     "text": [
      "Model Was Not Saved ! Current Best Avg. Dice: 0.2640021741390228 Current Avg. Dice: 0.18976186215877533 Current Avg. tumor Dice: 0.26052331924438477 Current Avg. lymph Dice: 0.11900042742490768\n"
     ]
    },
    {
     "name": "stderr",
     "output_type": "stream",
     "text": [
      "Training (15203 / 18000 Steps) (loss=0.47165): 100%|██████████| 6/6 [00:23<00:00,  3.86s/it]\n",
      "Training (15209 / 18000 Steps) (loss=0.26147): 100%|██████████| 6/6 [00:11<00:00,  1.95s/it]\n",
      "Training (15215 / 18000 Steps) (loss=0.21576): 100%|██████████| 6/6 [00:11<00:00,  1.94s/it]\n",
      "Training (15221 / 18000 Steps) (loss=0.33994): 100%|██████████| 6/6 [00:11<00:00,  1.92s/it]\n",
      "Training (15227 / 18000 Steps) (loss=0.19750): 100%|██████████| 6/6 [00:11<00:00,  1.94s/it]\n",
      "Training (15233 / 18000 Steps) (loss=0.55422): 100%|██████████| 6/6 [00:11<00:00,  1.93s/it]\n",
      "Training (15239 / 18000 Steps) (loss=0.36171): 100%|██████████| 6/6 [00:11<00:00,  1.89s/it]\n",
      "Training (15245 / 18000 Steps) (loss=0.28279): 100%|██████████| 6/6 [00:11<00:00,  1.88s/it]\n",
      "Training (15251 / 18000 Steps) (loss=0.55748): 100%|██████████| 6/6 [00:11<00:00,  1.93s/it]\n",
      "Training (15257 / 18000 Steps) (loss=0.53723): 100%|██████████| 6/6 [00:11<00:00,  1.98s/it]\n",
      "Training (15263 / 18000 Steps) (loss=0.31924): 100%|██████████| 6/6 [00:11<00:00,  1.93s/it]\n",
      "Training (15269 / 18000 Steps) (loss=0.36439): 100%|██████████| 6/6 [00:11<00:00,  1.94s/it]\n",
      "Training (15275 / 18000 Steps) (loss=0.60879): 100%|██████████| 6/6 [00:11<00:00,  1.89s/it]\n",
      "Training (15281 / 18000 Steps) (loss=0.48061): 100%|██████████| 6/6 [00:11<00:00,  1.89s/it]\n",
      "Training (15287 / 18000 Steps) (loss=0.25565): 100%|██████████| 6/6 [00:11<00:00,  1.92s/it]\n",
      "Training (15293 / 18000 Steps) (loss=0.27408): 100%|██████████| 6/6 [00:11<00:00,  1.94s/it]\n",
      "Training (15299 / 18000 Steps) (loss=0.41055): 100%|██████████| 6/6 [00:11<00:00,  1.94s/it]\n",
      "Validate (15300 / 10 Steps): 100%|██████████| 3/3 [00:11<00:00,  3.98s/it]<?, ?it/s]\n",
      "Training (15300 / 18000 Steps) (loss=0.23906):  17%|█▋        | 1/6 [00:16<01:20, 16.13s/it]"
     ]
    },
    {
     "name": "stdout",
     "output_type": "stream",
     "text": [
      "Model Was Not Saved ! Current Best Avg. Dice: 0.2640021741390228 Current Avg. Dice: 0.204071044921875 Current Avg. tumor Dice: 0.27354755997657776 Current Avg. lymph Dice: 0.13459454476833344\n"
     ]
    },
    {
     "name": "stderr",
     "output_type": "stream",
     "text": [
      "Training (15305 / 18000 Steps) (loss=0.56185): 100%|██████████| 6/6 [00:23<00:00,  3.95s/it]\n",
      "Training (15311 / 18000 Steps) (loss=0.46200): 100%|██████████| 6/6 [00:11<00:00,  1.92s/it]\n",
      "Training (15317 / 18000 Steps) (loss=0.38635): 100%|██████████| 6/6 [00:11<00:00,  1.91s/it]\n",
      "Training (15323 / 18000 Steps) (loss=0.50090): 100%|██████████| 6/6 [00:11<00:00,  1.93s/it]\n",
      "Training (15329 / 18000 Steps) (loss=0.11765): 100%|██████████| 6/6 [00:11<00:00,  1.90s/it]\n",
      "Training (15335 / 18000 Steps) (loss=0.34641): 100%|██████████| 6/6 [00:11<00:00,  1.92s/it]\n",
      "Training (15341 / 18000 Steps) (loss=0.51791): 100%|██████████| 6/6 [00:11<00:00,  1.93s/it]\n",
      "Training (15347 / 18000 Steps) (loss=0.30149): 100%|██████████| 6/6 [00:11<00:00,  1.96s/it]\n",
      "Training (15353 / 18000 Steps) (loss=0.40931): 100%|██████████| 6/6 [00:12<00:00,  2.00s/it]\n",
      "Training (15359 / 18000 Steps) (loss=0.22402): 100%|██████████| 6/6 [00:11<00:00,  1.94s/it]\n",
      "Training (15365 / 18000 Steps) (loss=0.27931): 100%|██████████| 6/6 [00:11<00:00,  1.92s/it]\n",
      "Training (15371 / 18000 Steps) (loss=0.56886): 100%|██████████| 6/6 [00:11<00:00,  1.93s/it]\n",
      "Training (15377 / 18000 Steps) (loss=0.47139): 100%|██████████| 6/6 [00:11<00:00,  1.88s/it]\n",
      "Training (15383 / 18000 Steps) (loss=0.30123): 100%|██████████| 6/6 [00:11<00:00,  1.91s/it]\n",
      "Training (15389 / 18000 Steps) (loss=0.27884): 100%|██████████| 6/6 [00:11<00:00,  1.98s/it]\n",
      "Training (15395 / 18000 Steps) (loss=0.27425): 100%|██████████| 6/6 [00:11<00:00,  1.92s/it]\n",
      "Validate (15396 / 10 Steps): 100%|██████████| 3/3 [00:11<00:00,  3.97s/it]<00:03,  1.94s/it]\n",
      "Training (15400 / 18000 Steps) (loss=0.49849):  83%|████████▎ | 5/6 [00:22<00:06,  6.13s/it]"
     ]
    },
    {
     "name": "stdout",
     "output_type": "stream",
     "text": [
      "Model Was Not Saved ! Current Best Avg. Dice: 0.2640021741390228 Current Avg. Dice: 0.20488852262496948 Current Avg. tumor Dice: 0.25966206192970276 Current Avg. lymph Dice: 0.1501149833202362\n"
     ]
    },
    {
     "name": "stderr",
     "output_type": "stream",
     "text": [
      "Training (15401 / 18000 Steps) (loss=0.33109): 100%|██████████| 6/6 [00:23<00:00,  3.93s/it]\n",
      "Training (15407 / 18000 Steps) (loss=0.46758): 100%|██████████| 6/6 [00:11<00:00,  1.96s/it]\n",
      "Training (15413 / 18000 Steps) (loss=0.32197): 100%|██████████| 6/6 [00:11<00:00,  1.90s/it]\n",
      "Training (15419 / 18000 Steps) (loss=0.48202): 100%|██████████| 6/6 [00:11<00:00,  1.89s/it]\n",
      "Training (15425 / 18000 Steps) (loss=0.52888): 100%|██████████| 6/6 [00:11<00:00,  1.94s/it]\n",
      "Training (15431 / 18000 Steps) (loss=0.37317): 100%|██████████| 6/6 [00:11<00:00,  1.95s/it]\n",
      "Training (15437 / 18000 Steps) (loss=0.66696): 100%|██████████| 6/6 [00:11<00:00,  1.92s/it]\n",
      "Training (15443 / 18000 Steps) (loss=0.38749): 100%|██████████| 6/6 [00:11<00:00,  1.95s/it]\n",
      "Training (15449 / 18000 Steps) (loss=0.47071): 100%|██████████| 6/6 [00:11<00:00,  1.94s/it]\n",
      "Training (15455 / 18000 Steps) (loss=0.27102): 100%|██████████| 6/6 [00:11<00:00,  1.96s/it]\n",
      "Training (15461 / 18000 Steps) (loss=0.27250): 100%|██████████| 6/6 [00:11<00:00,  1.88s/it]\n",
      "Training (15467 / 18000 Steps) (loss=0.41915): 100%|██████████| 6/6 [00:11<00:00,  1.90s/it]\n",
      "Training (15473 / 18000 Steps) (loss=0.28907): 100%|██████████| 6/6 [00:11<00:00,  1.93s/it]\n",
      "Training (15479 / 18000 Steps) (loss=0.38488): 100%|██████████| 6/6 [00:11<00:00,  1.96s/it]\n",
      "Training (15485 / 18000 Steps) (loss=0.12934): 100%|██████████| 6/6 [00:11<00:00,  1.98s/it]\n",
      "Training (15491 / 18000 Steps) (loss=0.33982): 100%|██████████| 6/6 [00:11<00:00,  1.94s/it]\n",
      "Training (15497 / 18000 Steps) (loss=0.53129): 100%|██████████| 6/6 [00:11<00:00,  1.88s/it]\n",
      "Validate (15498 / 10 Steps): 100%|██████████| 3/3 [00:11<00:00,  3.95s/it]<00:10,  2.71s/it]\n",
      "Training (15500 / 18000 Steps) (loss=0.37513):  50%|█████     | 3/6 [00:19<00:22,  7.63s/it]"
     ]
    },
    {
     "name": "stdout",
     "output_type": "stream",
     "text": [
      "Model Was Not Saved ! Current Best Avg. Dice: 0.2640021741390228 Current Avg. Dice: 0.22048260271549225 Current Avg. tumor Dice: 0.2675674259662628 Current Avg. lymph Dice: 0.17339777946472168\n"
     ]
    },
    {
     "name": "stderr",
     "output_type": "stream",
     "text": [
      "Training (15503 / 18000 Steps) (loss=0.28964): 100%|██████████| 6/6 [00:23<00:00,  3.92s/it]\n",
      "Training (15509 / 18000 Steps) (loss=0.55175): 100%|██████████| 6/6 [00:11<00:00,  1.88s/it]\n",
      "Training (15515 / 18000 Steps) (loss=0.17120): 100%|██████████| 6/6 [00:11<00:00,  1.94s/it]\n",
      "Training (15521 / 18000 Steps) (loss=0.48725): 100%|██████████| 6/6 [00:11<00:00,  1.95s/it]\n",
      "Training (15527 / 18000 Steps) (loss=0.48672): 100%|██████████| 6/6 [00:11<00:00,  1.95s/it]\n",
      "Training (15533 / 18000 Steps) (loss=0.30139): 100%|██████████| 6/6 [00:11<00:00,  1.93s/it]\n",
      "Training (15539 / 18000 Steps) (loss=0.44788): 100%|██████████| 6/6 [00:11<00:00,  1.91s/it]\n",
      "Training (15545 / 18000 Steps) (loss=0.28355): 100%|██████████| 6/6 [00:11<00:00,  1.90s/it]\n",
      "Training (15551 / 18000 Steps) (loss=0.52162): 100%|██████████| 6/6 [00:11<00:00,  1.93s/it]\n",
      "Training (15557 / 18000 Steps) (loss=0.39202): 100%|██████████| 6/6 [00:11<00:00,  1.92s/it]\n",
      "Training (15563 / 18000 Steps) (loss=0.43331): 100%|██████████| 6/6 [00:11<00:00,  1.94s/it]\n",
      "Training (15569 / 18000 Steps) (loss=0.66767): 100%|██████████| 6/6 [00:11<00:00,  1.95s/it]\n",
      "Training (15575 / 18000 Steps) (loss=0.55156): 100%|██████████| 6/6 [00:11<00:00,  1.94s/it]\n",
      "Training (15581 / 18000 Steps) (loss=0.31079): 100%|██████████| 6/6 [00:11<00:00,  1.92s/it]\n",
      "Training (15587 / 18000 Steps) (loss=0.62349): 100%|██████████| 6/6 [00:11<00:00,  1.90s/it]\n",
      "Training (15593 / 18000 Steps) (loss=0.34493): 100%|██████████| 6/6 [00:11<00:00,  1.95s/it]\n",
      "Training (15599 / 18000 Steps) (loss=0.40342): 100%|██████████| 6/6 [00:11<00:00,  1.94s/it]\n",
      "Validate (15600 / 10 Steps): 100%|██████████| 3/3 [00:11<00:00,  3.96s/it]<?, ?it/s]\n",
      "Training (15600 / 18000 Steps) (loss=0.43476):  17%|█▋        | 1/6 [00:16<01:22, 16.46s/it]"
     ]
    },
    {
     "name": "stdout",
     "output_type": "stream",
     "text": [
      "Model Was Not Saved ! Current Best Avg. Dice: 0.2640021741390228 Current Avg. Dice: 0.21535281836986542 Current Avg. tumor Dice: 0.2622528672218323 Current Avg. lymph Dice: 0.16845278441905975\n"
     ]
    },
    {
     "name": "stderr",
     "output_type": "stream",
     "text": [
      "Training (15605 / 18000 Steps) (loss=0.53642): 100%|██████████| 6/6 [00:23<00:00,  3.98s/it]\n",
      "Training (15611 / 18000 Steps) (loss=0.18990): 100%|██████████| 6/6 [00:11<00:00,  1.97s/it]\n",
      "Training (15617 / 18000 Steps) (loss=0.21502): 100%|██████████| 6/6 [00:11<00:00,  1.96s/it]\n",
      "Training (15623 / 18000 Steps) (loss=0.29165): 100%|██████████| 6/6 [00:11<00:00,  1.91s/it]\n",
      "Training (15629 / 18000 Steps) (loss=0.23703): 100%|██████████| 6/6 [00:11<00:00,  1.95s/it]\n",
      "Training (15635 / 18000 Steps) (loss=0.45224): 100%|██████████| 6/6 [00:11<00:00,  1.90s/it]\n",
      "Training (15641 / 18000 Steps) (loss=0.17480): 100%|██████████| 6/6 [00:11<00:00,  1.89s/it]\n",
      "Training (15647 / 18000 Steps) (loss=0.22533): 100%|██████████| 6/6 [00:11<00:00,  1.98s/it]\n",
      "Training (15653 / 18000 Steps) (loss=0.32329): 100%|██████████| 6/6 [00:11<00:00,  1.91s/it]\n",
      "Training (15659 / 18000 Steps) (loss=0.46345): 100%|██████████| 6/6 [00:11<00:00,  1.93s/it]\n",
      "Training (15665 / 18000 Steps) (loss=0.52096): 100%|██████████| 6/6 [00:11<00:00,  1.98s/it]\n",
      "Training (15671 / 18000 Steps) (loss=0.40587): 100%|██████████| 6/6 [00:11<00:00,  1.91s/it]\n",
      "Training (15677 / 18000 Steps) (loss=0.60010): 100%|██████████| 6/6 [00:11<00:00,  1.96s/it]\n",
      "Training (15683 / 18000 Steps) (loss=0.16819): 100%|██████████| 6/6 [00:11<00:00,  1.93s/it]\n",
      "Training (15689 / 18000 Steps) (loss=0.28527): 100%|██████████| 6/6 [00:11<00:00,  1.88s/it]\n",
      "Training (15695 / 18000 Steps) (loss=0.14785): 100%|██████████| 6/6 [00:11<00:00,  1.98s/it]\n",
      "Validate (15696 / 10 Steps): 100%|██████████| 3/3 [00:11<00:00,  3.99s/it]<00:03,  1.95s/it]\n",
      "Training (15700 / 18000 Steps) (loss=0.43563):  83%|████████▎ | 5/6 [00:22<00:06,  6.15s/it]"
     ]
    },
    {
     "name": "stdout",
     "output_type": "stream",
     "text": [
      "Model Was Not Saved ! Current Best Avg. Dice: 0.2640021741390228 Current Avg. Dice: 0.22099797427654266 Current Avg. tumor Dice: 0.28356626629829407 Current Avg. lymph Dice: 0.15842966735363007\n"
     ]
    },
    {
     "name": "stderr",
     "output_type": "stream",
     "text": [
      "Training (15701 / 18000 Steps) (loss=0.43373): 100%|██████████| 6/6 [00:23<00:00,  3.95s/it]\n",
      "Training (15707 / 18000 Steps) (loss=0.19076): 100%|██████████| 6/6 [00:11<00:00,  1.92s/it]\n",
      "Training (15713 / 18000 Steps) (loss=0.21092): 100%|██████████| 6/6 [00:11<00:00,  1.93s/it]\n",
      "Training (15719 / 18000 Steps) (loss=0.31221): 100%|██████████| 6/6 [00:11<00:00,  1.90s/it]\n",
      "Training (15725 / 18000 Steps) (loss=0.24858): 100%|██████████| 6/6 [00:11<00:00,  1.94s/it]\n",
      "Training (15731 / 18000 Steps) (loss=0.33993): 100%|██████████| 6/6 [00:11<00:00,  1.91s/it]\n",
      "Training (15737 / 18000 Steps) (loss=0.35619): 100%|██████████| 6/6 [00:11<00:00,  1.93s/it]\n",
      "Training (15743 / 18000 Steps) (loss=0.19067): 100%|██████████| 6/6 [00:11<00:00,  1.94s/it]\n",
      "Training (15749 / 18000 Steps) (loss=0.37581): 100%|██████████| 6/6 [00:11<00:00,  1.99s/it]\n",
      "Training (15755 / 18000 Steps) (loss=0.67102): 100%|██████████| 6/6 [00:11<00:00,  1.91s/it]\n",
      "Training (15761 / 18000 Steps) (loss=0.33880): 100%|██████████| 6/6 [00:11<00:00,  1.93s/it]\n",
      "Training (15767 / 18000 Steps) (loss=0.28131): 100%|██████████| 6/6 [00:11<00:00,  1.89s/it]\n",
      "Training (15773 / 18000 Steps) (loss=0.38061): 100%|██████████| 6/6 [00:11<00:00,  1.90s/it]\n",
      "Training (15779 / 18000 Steps) (loss=0.52488): 100%|██████████| 6/6 [00:11<00:00,  1.90s/it]\n",
      "Training (15785 / 18000 Steps) (loss=0.30008): 100%|██████████| 6/6 [00:11<00:00,  1.93s/it]\n",
      "Training (15791 / 18000 Steps) (loss=0.41325): 100%|██████████| 6/6 [00:11<00:00,  1.96s/it]\n",
      "Training (15797 / 18000 Steps) (loss=0.39738): 100%|██████████| 6/6 [00:11<00:00,  1.98s/it]\n",
      "Validate (15798 / 10 Steps): 100%|██████████| 3/3 [00:11<00:00,  3.93s/it]<00:10,  2.62s/it]\n",
      "Training (15800 / 18000 Steps) (loss=0.37947):  50%|█████     | 3/6 [00:19<00:22,  7.53s/it]"
     ]
    },
    {
     "name": "stdout",
     "output_type": "stream",
     "text": [
      "Model Was Not Saved ! Current Best Avg. Dice: 0.2640021741390228 Current Avg. Dice: 0.18874774873256683 Current Avg. tumor Dice: 0.22584550082683563 Current Avg. lymph Dice: 0.15164999663829803\n"
     ]
    },
    {
     "name": "stderr",
     "output_type": "stream",
     "text": [
      "Training (15803 / 18000 Steps) (loss=0.29709): 100%|██████████| 6/6 [00:23<00:00,  3.88s/it]\n",
      "Training (15809 / 18000 Steps) (loss=0.44256): 100%|██████████| 6/6 [00:11<00:00,  1.91s/it]\n",
      "Training (15815 / 18000 Steps) (loss=0.21648): 100%|██████████| 6/6 [00:11<00:00,  1.89s/it]\n",
      "Training (15821 / 18000 Steps) (loss=0.37843): 100%|██████████| 6/6 [00:11<00:00,  1.93s/it]\n",
      "Training (15827 / 18000 Steps) (loss=0.31886): 100%|██████████| 6/6 [00:11<00:00,  1.93s/it]\n",
      "Training (15833 / 18000 Steps) (loss=0.45858): 100%|██████████| 6/6 [00:11<00:00,  1.93s/it]\n",
      "Training (15839 / 18000 Steps) (loss=0.28552): 100%|██████████| 6/6 [00:11<00:00,  1.98s/it]\n",
      "Training (15845 / 18000 Steps) (loss=0.24751): 100%|██████████| 6/6 [00:11<00:00,  1.93s/it]\n",
      "Training (15851 / 18000 Steps) (loss=0.35960): 100%|██████████| 6/6 [00:11<00:00,  1.90s/it]\n",
      "Training (15857 / 18000 Steps) (loss=0.30363): 100%|██████████| 6/6 [00:11<00:00,  1.91s/it]\n",
      "Training (15863 / 18000 Steps) (loss=0.38901): 100%|██████████| 6/6 [00:11<00:00,  1.89s/it]\n",
      "Training (15869 / 18000 Steps) (loss=0.45596): 100%|██████████| 6/6 [00:11<00:00,  1.91s/it]\n",
      "Training (15875 / 18000 Steps) (loss=0.35676): 100%|██████████| 6/6 [00:11<00:00,  1.92s/it]\n",
      "Training (15881 / 18000 Steps) (loss=0.39154): 100%|██████████| 6/6 [00:11<00:00,  1.96s/it]\n",
      "Training (15887 / 18000 Steps) (loss=0.50250): 100%|██████████| 6/6 [00:11<00:00,  1.96s/it]\n",
      "Training (15893 / 18000 Steps) (loss=0.53072): 100%|██████████| 6/6 [00:11<00:00,  1.93s/it]\n",
      "Training (15899 / 18000 Steps) (loss=0.25436): 100%|██████████| 6/6 [00:11<00:00,  1.91s/it]\n",
      "Validate (15900 / 10 Steps): 100%|██████████| 3/3 [00:11<00:00,  3.93s/it]<?, ?it/s]\n",
      "Training (15900 / 18000 Steps) (loss=0.30010):  17%|█▋        | 1/6 [00:15<01:19, 15.88s/it]"
     ]
    },
    {
     "name": "stdout",
     "output_type": "stream",
     "text": [
      "Model Was Not Saved ! Current Best Avg. Dice: 0.2640021741390228 Current Avg. Dice: 0.189680814743042 Current Avg. tumor Dice: 0.22839345037937164 Current Avg. lymph Dice: 0.15096817910671234\n"
     ]
    },
    {
     "name": "stderr",
     "output_type": "stream",
     "text": [
      "Training (15905 / 18000 Steps) (loss=0.29643): 100%|██████████| 6/6 [00:23<00:00,  3.86s/it]\n",
      "Training (15911 / 18000 Steps) (loss=0.29295): 100%|██████████| 6/6 [00:11<00:00,  1.94s/it]\n",
      "Training (15917 / 18000 Steps) (loss=0.32658): 100%|██████████| 6/6 [00:11<00:00,  1.92s/it]\n",
      "Training (15923 / 18000 Steps) (loss=0.30467): 100%|██████████| 6/6 [00:11<00:00,  1.95s/it]\n",
      "Training (15929 / 18000 Steps) (loss=0.66748): 100%|██████████| 6/6 [00:11<00:00,  1.92s/it]\n",
      "Training (15935 / 18000 Steps) (loss=0.45588): 100%|██████████| 6/6 [00:11<00:00,  1.89s/it]\n",
      "Training (15941 / 18000 Steps) (loss=0.25689): 100%|██████████| 6/6 [00:11<00:00,  1.97s/it]\n",
      "Training (15947 / 18000 Steps) (loss=0.30844): 100%|██████████| 6/6 [00:11<00:00,  1.90s/it]\n",
      "Training (15953 / 18000 Steps) (loss=0.30282): 100%|██████████| 6/6 [00:11<00:00,  1.89s/it]\n",
      "Training (15959 / 18000 Steps) (loss=0.30969): 100%|██████████| 6/6 [00:11<00:00,  1.93s/it]\n",
      "Training (15965 / 18000 Steps) (loss=0.38044): 100%|██████████| 6/6 [00:11<00:00,  1.93s/it]\n",
      "Training (15971 / 18000 Steps) (loss=0.50731): 100%|██████████| 6/6 [00:11<00:00,  1.95s/it]\n",
      "Training (15977 / 18000 Steps) (loss=0.43381): 100%|██████████| 6/6 [00:11<00:00,  1.92s/it]\n",
      "Training (15983 / 18000 Steps) (loss=0.27099): 100%|██████████| 6/6 [00:11<00:00,  1.94s/it]\n",
      "Training (15989 / 18000 Steps) (loss=0.45951): 100%|██████████| 6/6 [00:11<00:00,  1.93s/it]\n",
      "Training (15995 / 18000 Steps) (loss=0.49787): 100%|██████████| 6/6 [00:11<00:00,  1.92s/it]\n",
      "Validate (15996 / 10 Steps): 100%|██████████| 3/3 [00:11<00:00,  3.97s/it]<00:03,  1.93s/it]\n",
      "Training (16000 / 18000 Steps) (loss=0.29413):  83%|████████▎ | 5/6 [00:22<00:06,  6.11s/it]"
     ]
    },
    {
     "name": "stdout",
     "output_type": "stream",
     "text": [
      "Model Was Not Saved ! Current Best Avg. Dice: 0.2640021741390228 Current Avg. Dice: 0.19331412017345428 Current Avg. tumor Dice: 0.23685415089130402 Current Avg. lymph Dice: 0.14977407455444336\n"
     ]
    },
    {
     "name": "stderr",
     "output_type": "stream",
     "text": [
      "Training (16001 / 18000 Steps) (loss=0.50935): 100%|██████████| 6/6 [00:23<00:00,  3.92s/it]\n",
      "Training (16007 / 18000 Steps) (loss=0.18534): 100%|██████████| 6/6 [00:11<00:00,  1.91s/it]\n",
      "Training (16013 / 18000 Steps) (loss=0.42793): 100%|██████████| 6/6 [00:11<00:00,  1.95s/it]\n",
      "Training (16019 / 18000 Steps) (loss=0.33919): 100%|██████████| 6/6 [00:11<00:00,  1.90s/it]\n",
      "Training (16025 / 18000 Steps) (loss=0.56149): 100%|██████████| 6/6 [00:11<00:00,  1.93s/it]\n",
      "Training (16031 / 18000 Steps) (loss=0.61883): 100%|██████████| 6/6 [00:11<00:00,  1.90s/it]\n",
      "Training (16037 / 18000 Steps) (loss=0.28282): 100%|██████████| 6/6 [00:11<00:00,  1.91s/it]\n",
      "Training (16043 / 18000 Steps) (loss=0.12382): 100%|██████████| 6/6 [00:11<00:00,  1.97s/it]\n",
      "Training (16049 / 18000 Steps) (loss=0.56600): 100%|██████████| 6/6 [00:11<00:00,  1.91s/it]\n",
      "Training (16055 / 18000 Steps) (loss=0.35091): 100%|██████████| 6/6 [00:11<00:00,  1.93s/it]\n",
      "Training (16061 / 18000 Steps) (loss=0.21278): 100%|██████████| 6/6 [00:11<00:00,  1.97s/it]\n",
      "Training (16067 / 18000 Steps) (loss=0.62329): 100%|██████████| 6/6 [00:11<00:00,  1.92s/it]\n",
      "Training (16073 / 18000 Steps) (loss=0.16269): 100%|██████████| 6/6 [00:11<00:00,  1.88s/it]\n",
      "Training (16079 / 18000 Steps) (loss=0.45384): 100%|██████████| 6/6 [00:11<00:00,  1.89s/it]\n",
      "Training (16085 / 18000 Steps) (loss=0.25197): 100%|██████████| 6/6 [00:11<00:00,  1.89s/it]\n",
      "Training (16091 / 18000 Steps) (loss=0.39160): 100%|██████████| 6/6 [00:11<00:00,  1.98s/it]\n",
      "Training (16097 / 18000 Steps) (loss=0.43053): 100%|██████████| 6/6 [00:11<00:00,  1.92s/it]\n",
      "Validate (16098 / 10 Steps): 100%|██████████| 3/3 [00:11<00:00,  3.99s/it]<00:10,  2.64s/it]\n",
      "Training (16100 / 18000 Steps) (loss=0.27826):  50%|█████     | 3/6 [00:19<00:22,  7.64s/it]"
     ]
    },
    {
     "name": "stdout",
     "output_type": "stream",
     "text": [
      "Model Was Not Saved ! Current Best Avg. Dice: 0.2640021741390228 Current Avg. Dice: 0.2081446796655655 Current Avg. tumor Dice: 0.22792743146419525 Current Avg. lymph Dice: 0.1883619874715805\n"
     ]
    },
    {
     "name": "stderr",
     "output_type": "stream",
     "text": [
      "Training (16103 / 18000 Steps) (loss=0.20809): 100%|██████████| 6/6 [00:23<00:00,  3.91s/it]\n",
      "Training (16109 / 18000 Steps) (loss=0.53994): 100%|██████████| 6/6 [00:11<00:00,  1.89s/it]\n",
      "Training (16115 / 18000 Steps) (loss=0.35874): 100%|██████████| 6/6 [00:11<00:00,  1.90s/it]\n",
      "Training (16121 / 18000 Steps) (loss=0.36627): 100%|██████████| 6/6 [00:11<00:00,  1.91s/it]\n",
      "Training (16127 / 18000 Steps) (loss=0.35946): 100%|██████████| 6/6 [00:11<00:00,  1.90s/it]\n",
      "Training (16133 / 18000 Steps) (loss=0.43838): 100%|██████████| 6/6 [00:11<00:00,  1.94s/it]\n",
      "Training (16139 / 18000 Steps) (loss=0.13106): 100%|██████████| 6/6 [00:11<00:00,  1.94s/it]\n",
      "Training (16145 / 18000 Steps) (loss=0.43212): 100%|██████████| 6/6 [00:11<00:00,  1.97s/it]\n",
      "Training (16151 / 18000 Steps) (loss=0.37505): 100%|██████████| 6/6 [00:11<00:00,  1.91s/it]\n",
      "Training (16157 / 18000 Steps) (loss=0.46368): 100%|██████████| 6/6 [00:11<00:00,  1.91s/it]\n",
      "Training (16163 / 18000 Steps) (loss=0.48262): 100%|██████████| 6/6 [00:11<00:00,  1.92s/it]\n",
      "Training (16169 / 18000 Steps) (loss=0.54925): 100%|██████████| 6/6 [00:11<00:00,  1.92s/it]\n",
      "Training (16175 / 18000 Steps) (loss=0.53779): 100%|██████████| 6/6 [00:11<00:00,  1.90s/it]\n",
      "Training (16181 / 18000 Steps) (loss=0.40104): 100%|██████████| 6/6 [00:11<00:00,  1.96s/it]\n",
      "Training (16187 / 18000 Steps) (loss=0.46059): 100%|██████████| 6/6 [00:11<00:00,  1.94s/it]\n",
      "Training (16193 / 18000 Steps) (loss=0.23864): 100%|██████████| 6/6 [00:11<00:00,  1.96s/it]\n",
      "Training (16199 / 18000 Steps) (loss=0.54464): 100%|██████████| 6/6 [00:11<00:00,  1.97s/it]\n",
      "Validate (16200 / 10 Steps): 100%|██████████| 3/3 [00:11<00:00,  3.95s/it]<?, ?it/s]\n",
      "Training (16200 / 18000 Steps) (loss=0.39116):  17%|█▋        | 1/6 [00:15<01:19, 15.96s/it]"
     ]
    },
    {
     "name": "stdout",
     "output_type": "stream",
     "text": [
      "Model Was Not Saved ! Current Best Avg. Dice: 0.2640021741390228 Current Avg. Dice: 0.20164738595485687 Current Avg. tumor Dice: 0.23183439671993256 Current Avg. lymph Dice: 0.1714603751897812\n"
     ]
    },
    {
     "name": "stderr",
     "output_type": "stream",
     "text": [
      "Training (16205 / 18000 Steps) (loss=0.54085): 100%|██████████| 6/6 [00:23<00:00,  3.87s/it]\n",
      "Training (16211 / 18000 Steps) (loss=0.23448): 100%|██████████| 6/6 [00:11<00:00,  1.89s/it]\n",
      "Training (16217 / 18000 Steps) (loss=0.56139): 100%|██████████| 6/6 [00:11<00:00,  1.91s/it]\n",
      "Training (16223 / 18000 Steps) (loss=0.29835): 100%|██████████| 6/6 [00:11<00:00,  1.98s/it]\n",
      "Training (16229 / 18000 Steps) (loss=0.28910): 100%|██████████| 6/6 [00:11<00:00,  1.91s/it]\n",
      "Training (16235 / 18000 Steps) (loss=0.66700): 100%|██████████| 6/6 [00:11<00:00,  1.95s/it]\n",
      "Training (16241 / 18000 Steps) (loss=0.28013): 100%|██████████| 6/6 [00:11<00:00,  1.91s/it]\n",
      "Training (16247 / 18000 Steps) (loss=0.17338): 100%|██████████| 6/6 [00:11<00:00,  1.93s/it]\n",
      "Training (16253 / 18000 Steps) (loss=0.25927): 100%|██████████| 6/6 [00:11<00:00,  1.89s/it]\n",
      "Training (16259 / 18000 Steps) (loss=0.22984): 100%|██████████| 6/6 [00:11<00:00,  1.91s/it]\n",
      "Training (16265 / 18000 Steps) (loss=0.34444): 100%|██████████| 6/6 [00:11<00:00,  1.92s/it]\n",
      "Training (16271 / 18000 Steps) (loss=0.21061): 100%|██████████| 6/6 [00:11<00:00,  1.92s/it]\n",
      "Training (16277 / 18000 Steps) (loss=0.17640): 100%|██████████| 6/6 [00:11<00:00,  1.92s/it]\n",
      "Training (16283 / 18000 Steps) (loss=0.31219): 100%|██████████| 6/6 [00:11<00:00,  1.94s/it]\n",
      "Training (16289 / 18000 Steps) (loss=0.15863): 100%|██████████| 6/6 [00:11<00:00,  1.90s/it]\n",
      "Training (16295 / 18000 Steps) (loss=0.13179): 100%|██████████| 6/6 [00:11<00:00,  1.92s/it]\n",
      "Validate (16296 / 10 Steps): 100%|██████████| 3/3 [00:11<00:00,  3.92s/it]<00:03,  1.90s/it]\n",
      "Training (16300 / 18000 Steps) (loss=0.36000):  83%|████████▎ | 5/6 [00:22<00:06,  6.02s/it]"
     ]
    },
    {
     "name": "stdout",
     "output_type": "stream",
     "text": [
      "Model Was Not Saved ! Current Best Avg. Dice: 0.2640021741390228 Current Avg. Dice: 0.1874961256980896 Current Avg. tumor Dice: 0.19858670234680176 Current Avg. lymph Dice: 0.17640554904937744\n"
     ]
    },
    {
     "name": "stderr",
     "output_type": "stream",
     "text": [
      "Training (16301 / 18000 Steps) (loss=0.28073): 100%|██████████| 6/6 [00:23<00:00,  3.86s/it]\n",
      "Training (16307 / 18000 Steps) (loss=0.45523): 100%|██████████| 6/6 [00:11<00:00,  1.93s/it]\n",
      "Training (16313 / 18000 Steps) (loss=0.54479): 100%|██████████| 6/6 [00:11<00:00,  1.91s/it]\n",
      "Training (16319 / 18000 Steps) (loss=0.57117): 100%|██████████| 6/6 [00:11<00:00,  1.95s/it]\n",
      "Training (16325 / 18000 Steps) (loss=0.47296): 100%|██████████| 6/6 [00:11<00:00,  1.94s/it]\n",
      "Training (16331 / 18000 Steps) (loss=0.36951): 100%|██████████| 6/6 [00:11<00:00,  1.90s/it]\n",
      "Training (16337 / 18000 Steps) (loss=0.45197): 100%|██████████| 6/6 [00:11<00:00,  1.90s/it]\n",
      "Training (16343 / 18000 Steps) (loss=0.29810): 100%|██████████| 6/6 [00:11<00:00,  1.88s/it]\n",
      "Training (16349 / 18000 Steps) (loss=0.52845): 100%|██████████| 6/6 [00:11<00:00,  1.94s/it]\n",
      "Training (16355 / 18000 Steps) (loss=0.45729): 100%|██████████| 6/6 [00:11<00:00,  1.92s/it]\n",
      "Training (16361 / 18000 Steps) (loss=0.30194): 100%|██████████| 6/6 [00:11<00:00,  1.93s/it]\n",
      "Training (16367 / 18000 Steps) (loss=0.33758): 100%|██████████| 6/6 [00:11<00:00,  1.92s/it]\n",
      "Training (16373 / 18000 Steps) (loss=0.48532): 100%|██████████| 6/6 [00:11<00:00,  1.92s/it]\n",
      "Training (16379 / 18000 Steps) (loss=0.40774): 100%|██████████| 6/6 [00:11<00:00,  1.89s/it]\n",
      "Training (16381 / 18000 Steps) (loss=0.46172):  33%|███▎      | 2/6 [00:05<00:10,  2.59s/it]"
     ]
    }
   ],
   "source": [
    "epoch = 0 # used for LR scheduler\n",
    "max_num_epochs = 530 # used for LR scheduler\n",
    "\n",
    "torch.autograd.set_detect_anomaly(True)  # Enable anomaly detection\n",
    "\n",
    "while global_step < max_iterations:\n",
    "    global_step, dice_val_best, global_step_best = train(\n",
    "        global_step, train_loader, dice_val_best, global_step_best\n",
    "    )\n",
    "    epoch += 1\n",
    "    #optimizer.param_groups[0]['lr'] = poly_lr(epoch, max_num_epochs, 0.005676 , 0.9)\n",
    "# model.load_state_dict(torch.load(os.path.join(model_dir, \"best_metric_luck_UNETr_prompt.pth\")))"
   ]
  }
 ],
 "metadata": {
  "kernelspec": {
   "display_name": "clam",
   "language": "python",
   "name": "python3"
  },
  "language_info": {
   "codemirror_mode": {
    "name": "ipython",
    "version": 3
   },
   "file_extension": ".py",
   "mimetype": "text/x-python",
   "name": "python",
   "nbconvert_exporter": "python",
   "pygments_lexer": "ipython3",
   "version": "3.8.0"
  }
 },
 "nbformat": 4,
 "nbformat_minor": 2
}
