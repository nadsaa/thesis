{
 "cells": [
  {
   "cell_type": "code",
   "execution_count": 1,
   "metadata": {},
   "outputs": [
    {
     "name": "stdout",
     "output_type": "stream",
     "text": [
      "1\n"
     ]
    },
    {
     "name": "stderr",
     "output_type": "stream",
     "text": [
      "/tmp/ipykernel_1393054/433176979.py:10: TqdmWarning: IProgress not found. Please update jupyter and ipywidgets. See https://ipywidgets.readthedocs.io/en/stable/user_install.html\n",
      "  from tqdm.autonotebook import tqdm\n"
     ]
    }
   ],
   "source": [
    "import torch\n",
    "import torch.nn as nn\n",
    "from torch.utils.data import DataLoader\n",
    "\n",
    "from collections.abc import Sequence\n",
    "\n",
    "from unetr import CustomedUNETR\n",
    "\n",
    "import json\n",
    "from tqdm.autonotebook import tqdm\n",
    "import os\n",
    "os.environ[\"CUDA_DEVICE_ORDER\"] = \"PCI_BUS_ID\"\n",
    "os.environ[\"CUDA_VISIBLE_DEVICES\"] = \"1\" \n",
    "\n",
    "print(torch.cuda.device_count())\n",
    "torch.backends.cudnn.benchmark = True\n",
    "device = torch.device(\"cuda\" if torch.cuda.is_available() else \"cpu\")"
   ]
  },
  {
   "cell_type": "code",
   "execution_count": 2,
   "metadata": {},
   "outputs": [],
   "source": [
    "from monai.transforms import EnsureTyped\n",
    "from monai.transforms import Compose, LoadImaged, ScaleIntensityRanged, ConcatItemsd\n",
    "from monai.metrics import DiceMetric\n",
    "from monai.losses import DiceCELoss, DiceFocalLoss, FocalLoss\n",
    "from monai.inferers import sliding_window_inference\n",
    "\n",
    "\n",
    "from monai.data import (\n",
    "    Dataset,\n",
    "    DataLoader,\n",
    "    CacheDataset,\n",
    "    load_decathlon_datalist,\n",
    "    decollate_batch,\n",
    ")\n",
    "from monai.transforms import (\n",
    "    AsDiscrete,\n",
    "    Compose,\n",
    "    CropForegroundd,\n",
    "    LoadImaged,\n",
    "    Orientationd,\n",
    "    RandFlipd,\n",
    "    RandCropByPosNegLabeld,\n",
    "    RandShiftIntensityd,\n",
    "    ScaleIntensityRanged,\n",
    "    Spacingd,\n",
    "    RandRotate90d,\n",
    "    MapTransform,\n",
    "    ScaleIntensityd,\n",
    "    #AddChanneld,\n",
    "    SpatialPadd,\n",
    "    CenterSpatialCropd,\n",
    "    EnsureChannelFirstd,\n",
    "    ConcatItemsd,\n",
    "    AdjustContrastd, \n",
    "    Rand3DElasticd,\n",
    "    HistogramNormalized,\n",
    "    NormalizeIntensityd,\n",
    "    Invertd,\n",
    "    SaveImage,\n",
    "\n",
    ")\n",
    "import monai"
   ]
  },
  {
   "cell_type": "code",
   "execution_count": 3,
   "metadata": {},
   "outputs": [],
   "source": [
    "data_dir = '/home/nada.saadi/MIS-FM/hecktor2022_cropped'\n",
    "json_dir = \"/home/nada.saadi/CTPET/hecktor2022_cropped/HGJ_ctpt_train_new.json\""
   ]
  },
  {
   "cell_type": "code",
   "execution_count": 4,
   "metadata": {},
   "outputs": [],
   "source": [
    "def datafold_read(datalist, basedir, fold=0, key=\"training\"):\n",
    "    with open(datalist) as f:\n",
    "        json_data = json.load(f)\n",
    "\n",
    "    json_data = json_data[key]\n",
    "\n",
    "    for d in json_data:\n",
    "        for k in d:\n",
    "            if isinstance(d[k], list):\n",
    "                d[k] = [os.path.join(basedir, iv) for iv in d[k]]\n",
    "            elif isinstance(d[k], str):\n",
    "                d[k] = os.path.join(basedir, d[k]) if len(d[k]) > 0 else d[k]\n",
    "\n",
    "    tr = []\n",
    "    val = []\n",
    "    for d in json_data:\n",
    "        if \"fold\" in d and d[\"fold\"] == fold:\n",
    "            val.append(d)\n",
    "        else:\n",
    "            tr.append(d)\n",
    "    return tr, val"
   ]
  },
  {
   "cell_type": "code",
   "execution_count": 5,
   "metadata": {},
   "outputs": [
    {
     "data": {
      "text/plain": [
       "(39, 15)"
      ]
     },
     "execution_count": 5,
     "metadata": {},
     "output_type": "execute_result"
    }
   ],
   "source": [
    "train_files, validation_files = datafold_read(datalist=json_dir, basedir=data_dir, fold=0)\n",
    "len(train_files), len(validation_files)"
   ]
  },
  {
   "cell_type": "code",
   "execution_count": 6,
   "metadata": {},
   "outputs": [],
   "source": [
    "class ClipCT(MapTransform):\n",
    "    \"\"\"\n",
    "    Convert labels to multi channels based on hecktor classes:\n",
    "    label 1 is the tumor\n",
    "    label 2 is the lymph node\n",
    "\n",
    "    \"\"\"\n",
    "\n",
    "    def __call__(self, data):\n",
    "        d = dict(data)\n",
    "        for key in self.keys:\n",
    "            if key == \"ct\":\n",
    "                d[key] = torch.clip(d[key], min=-200, max=200)\n",
    "            # elif key == \"pt\":\n",
    "            #     d[key] = torch.clip(d[key], d[key].min(), 5)\n",
    "        return d\n",
    "\n",
    "class MulPTFM(MapTransform):\n",
    "    \"\"\"\n",
    "    Mult PT and FM \n",
    "    \"\"\"\n",
    "\n",
    "    def __call__(self, data):\n",
    "        d = dict(data)\n",
    "\n",
    "        fm = d[\"ct\"] > 0\n",
    "        d[\"pt\"] = d[\"pt\"] * fm\n",
    "        return d\n",
    "\n",
    "class SelectClass(MapTransform):\n",
    "    \"\"\"\n",
    "    Select the class for which you want to fine tune the model \n",
    "\n",
    "    \"\"\"\n",
    "    # def __init__(self, keys, cls=1):\n",
    "    #     super(self).__init__(keys)\n",
    "    #     self.cls = cls\n",
    "\n",
    "    def __call__(self, data):\n",
    "        d = dict(data)\n",
    "        d[\"seg\"][d[\"seg\"] == 1] = 0\n",
    "        # d[\"seg\"][d[\"seg\"] == 2] = 1\n",
    "        return d"
   ]
  },
  {
   "cell_type": "code",
   "execution_count": 7,
   "metadata": {},
   "outputs": [],
   "source": [
    "num_samples = 4\n",
    "\n",
    "train_transforms = Compose(\n",
    "    [\n",
    "        LoadImaged(keys=[\"ct\", \"pt\", \"seg\"], ensure_channel_first = True),\n",
    "        SpatialPadd(keys=[\"ct\", \"pt\", \"seg\"], spatial_size=(200, 200, 310), method='end'),\n",
    "        Orientationd(keys=[\"ct\", \"pt\", \"seg\"], axcodes=\"PLS\"),\n",
    "        NormalizeIntensityd(keys=[\"pt\"]),\n",
    "        ClipCT(keys=[\"ct\"]),\n",
    "        ScaleIntensityd(keys=[\"ct\"], minv=0, maxv=1),\n",
    "        #MulPTFM(keys=[\"ct\",\"pt\"]),\n",
    "        ConcatItemsd(keys=[\"pt\", \"ct\"], name=\"ctpt\"),\n",
    "        #NormalizeIntensityd(keys=[\"ctpt\"], channel_wise=True),\n",
    "        RandCropByPosNegLabeld(\n",
    "            keys=[\"ctpt\", \"seg\"],\n",
    "            label_key=\"seg\",\n",
    "            spatial_size=(96, 96, 96),\n",
    "            pos=1,\n",
    "            neg=1,\n",
    "            num_samples=num_samples,\n",
    "            image_key=\"ctpt\",\n",
    "            image_threshold=0,\n",
    "        ),\n",
    "        RandFlipd(\n",
    "            keys=[\"ctpt\", \"seg\"],\n",
    "            spatial_axis=[0],\n",
    "            prob=0.20,\n",
    "        ),\n",
    "        RandFlipd(\n",
    "            keys=[\"ctpt\", \"seg\"],\n",
    "            spatial_axis=[1],\n",
    "            prob=0.20,\n",
    "        ),\n",
    "        RandFlipd(\n",
    "            keys=[\"ctpt\", \"seg\"],\n",
    "            spatial_axis=[2],\n",
    "            prob=0.20,\n",
    "        ),\n",
    "        RandRotate90d(\n",
    "            keys=[\"ctpt\", \"seg\"],\n",
    "            prob=0.20,\n",
    "            max_k=3,\n",
    "             ),\n",
    "    ]\n",
    ")\n",
    "val_transforms = Compose(\n",
    "    [\n",
    "        LoadImaged(keys=[\"ct\", \"pt\", \"seg\"], ensure_channel_first = True),\n",
    "        SpatialPadd(keys=[\"ct\", \"pt\", \"seg\"], spatial_size=(200, 200, 310), method='end'),\n",
    "        Orientationd(keys=[\"ct\", \"pt\", \"seg\"], axcodes=\"PLS\"),\n",
    "        NormalizeIntensityd(keys=[\"pt\"]),\n",
    "        ClipCT(keys=[\"ct\"]),\n",
    "        ScaleIntensityd(keys=[\"ct\"], minv=0, maxv=1),\n",
    "        #MulPTFM(keys=[\"ct\",\"pt\"]),\n",
    "        ConcatItemsd(keys=[\"pt\", \"ct\"], name=\"ctpt\"),\n",
    "    ]\n",
    ")"
   ]
  },
  {
   "cell_type": "code",
   "execution_count": 8,
   "metadata": {},
   "outputs": [],
   "source": [
    "train_ds = monai.data.Dataset(data=train_files, transform=train_transforms)\n",
    "\n",
    "train_loader = DataLoader(\n",
    "    train_ds,\n",
    "    batch_size=2,\n",
    "    shuffle=True,\n",
    "    num_workers=8,\n",
    "    pin_memory=torch.cuda.is_available(),\n",
    "    )\n",
    "\n",
    "val_ds = monai.data.Dataset(data=validation_files, transform=val_transforms)\n",
    "\n",
    "val_loader = DataLoader(\n",
    "    val_ds, \n",
    "    batch_size=2, \n",
    "    num_workers=8, \n",
    "    shuffle= False)"
   ]
  },
  {
   "cell_type": "code",
   "execution_count": 9,
   "metadata": {},
   "outputs": [
    {
     "name": "stderr",
     "output_type": "stream",
     "text": [
      "/home/nada.saadi/miniconda3/envs/clam/lib/python3.8/site-packages/monai/utils/deprecate_utils.py:221: FutureWarning: unetr CustomedUNETR.__init__:pos_embed: Argument `pos_embed` has been deprecated since version 1.2. It will be removed in version 1.4. please use `proj_type` instead.\n",
      "  warn_deprecated(argname, msg, warning_category)\n"
     ]
    },
    {
     "name": "stdout",
     "output_type": "stream",
     "text": [
      "Nada's version of UNETR\n",
      "(96, 96, 96)\n",
      "(16, 16, 16)\n",
      "(6, 6, 6)\n",
      "768\n",
      "zaz w dakchi ya s lbnat\n"
     ]
    }
   ],
   "source": [
    "model = CustomedUNETR(\n",
    "    in_channels=2,  # Number of input channels\n",
    "    out_channels=3,  # Number of output channels\n",
    "    img_size=(96, 96, 96),  # Size of the input image\n",
    "    feature_size=48,  # Size of the feature maps\n",
    "    hidden_size=768,\n",
    "    num_heads=12,  # Size of the hidden layers in the transformer\n",
    "    mlp_dim=3072,  # Dimension of the MLP in the transformer\n",
    "    pos_embed=\"perceptron\",  # Type of positional embedding\n",
    "    norm_name=\"instance\",  # Type of normalization\n",
    "    res_block=True,  # Whether to use residual blocks\n",
    "    dropout_rate=0.0,\n",
    "    proj_type=\"conv\",\n",
    "    r=4,\n",
    "    lora_layer=True,\n",
    "    use_ct_encoder=True,\n",
    "    use_pet_encoder=False,\n",
    ").to(device)\n",
    "pt_weights_ct_only_6th='/home/nada.saadi/CTPET/hecktor2022_cropped/6th_CT_ourapproach/6th_center_CT_our_approach.pth'\n",
    "# Ignore layers with size mismatch\n",
    "state_dict = torch.load(pt_weights_ct_only_6th)\n",
    "model_state_dict = model.state_dict()\n",
    "for name, param in state_dict.items():\n",
    "    if name in model_state_dict:\n",
    "        if param.shape == model_state_dict[name].shape:\n",
    "            model_state_dict[name] = param\n",
    "\n",
    "model.load_state_dict(model_state_dict)\n",
    "\n",
    "\n",
    "\n",
    "for name, param in model.named_parameters():\n",
    "    if \"decoder5\" in name or \"decoder4\" in name or \"decoder3\" in name or \"decoder2\" in name:\n",
    "        param.requires_grad = False"
   ]
  },
  {
   "cell_type": "code",
   "execution_count": 10,
   "metadata": {},
   "outputs": [],
   "source": [
    "def poly_lr(epoch, max_epochs, initial_lr, exponent=0.9):\n",
    "    return initial_lr * (1 - epoch / max_epochs)**exponent\n",
    "\n",
    "model_dir='/home/nada.saadi/CTPET/hecktor2022_cropped/x2_ctpt_6th'\n",
    "max_iterations = 18000\n",
    "eval_num = 100\n",
    "## running stats\n",
    "global_step = 0\n",
    "dice_val_best = 0.0\n",
    "global_step_best = 0\n",
    "epoch_loss_values = []\n",
    "metric_values = []\n",
    "metric_values_tumor = []\n",
    "metric_values_lymph = []\n",
    "\n",
    "loss_function = DiceCELoss(to_onehot_y=True, softmax=True)\n",
    "optimizer = torch.optim.AdamW(model.parameters(), lr=1e-4, weight_decay=1e-5)\n",
    "\n",
    "\n",
    "post_label = AsDiscrete(to_onehot=3)\n",
    "post_pred = AsDiscrete(argmax=True, to_onehot=3)\n",
    "\n",
    "dice_metric = DiceMetric(include_background=False, reduction=\"mean\", get_not_nans=False)\n",
    "dice_metric_batch = DiceMetric(include_background=False, reduction=\"mean_batch\")\n",
    "\n",
    "\n",
    "def validation(epoch_iterator_val):\n",
    "        model.eval()\n",
    "        with torch.no_grad():\n",
    "            for step, batch in enumerate(epoch_iterator_val):\n",
    "                val_inputs, val_labels = (batch[\"ctpt\"].cuda(), batch[\"seg\"].cuda())\n",
    "                val_outputs = sliding_window_inference(val_inputs, (96, 96, 96), 4, model)\n",
    "                val_labels_list = decollate_batch(val_labels)\n",
    "                val_labels_convert = [\n",
    "                    post_label(val_label_tensor) for val_label_tensor in val_labels_list\n",
    "                ]\n",
    "                val_outputs_list = decollate_batch(val_outputs)\n",
    "                val_output_convert = [\n",
    "                    post_pred(val_pred_tensor) for val_pred_tensor in val_outputs_list\n",
    "                ]\n",
    "                dice_metric(y_pred=val_output_convert, y=val_labels_convert)\n",
    "                dice_metric_batch(y_pred=val_output_convert, y=val_labels_convert)\n",
    "                epoch_iterator_val.set_description(\n",
    "                    \"Validate (%d / %d Steps)\" % (global_step, 10.0)\n",
    "                )\n",
    "            mean_dice_val = dice_metric.aggregate().item()\n",
    "            metric_batch_val = dice_metric_batch.aggregate()\n",
    "\n",
    "            metric_tumor = metric_batch_val[0].item()\n",
    "            metric_lymph = metric_batch_val[1].item()\n",
    "\n",
    "            dice_metric.reset()\n",
    "            dice_metric_batch.reset()\n",
    "        return mean_dice_val, metric_tumor, metric_lymph\n",
    "def train(global_step, train_loader, dice_val_best, global_step_best):\n",
    "        model.train()\n",
    "        epoch_loss = 0 \n",
    "        step = 0\n",
    "        epoch_iterator = tqdm(\n",
    "            train_loader, desc=\"Training (X / X Steps) (loss=X.X)\", dynamic_ncols=True\n",
    "        )\n",
    "        \n",
    "        for step, batch in enumerate(epoch_iterator):\n",
    "            step += 1\n",
    "            x, y = (batch[\"ctpt\"].cuda(), batch[\"seg\"].cuda())\n",
    "            logit_map = model(x,mode='ct')\n",
    "            loss = loss_function(logit_map, y)\n",
    "            loss.backward()\n",
    "            epoch_loss += loss.item() \n",
    "            optimizer.step()\n",
    "            optimizer.zero_grad()\n",
    "            epoch_iterator.set_description(\n",
    "                \"Training (%d / %d Steps) (loss=%2.5f)\"\n",
    "                % (global_step, max_iterations, loss)\n",
    "            )\n",
    "            if (\n",
    "                global_step % eval_num == 0 and global_step != 0\n",
    "            ) or global_step == max_iterations:\n",
    "                epoch_iterator_val = tqdm(\n",
    "                    val_loader, desc=\"Validate (X / X Steps) (dice=X.X)\", dynamic_ncols=True\n",
    "                )\n",
    "                dice_val, metric_tumor, metric_lymph = validation(epoch_iterator_val)\n",
    "                epoch_loss /= step\n",
    "                epoch_loss_values.append(epoch_loss)\n",
    "                metric_values.append(dice_val)\n",
    "                metric_values_tumor.append(metric_tumor)\n",
    "                metric_values_lymph.append(metric_lymph)\n",
    "                if dice_val > dice_val_best:\n",
    "                    dice_val_best = dice_val\n",
    "                    global_step_best = global_step\n",
    "                    torch.save(\n",
    "                        model.state_dict(), os.path.join(model_dir, \"X2_ctpt_6th.pth\")\n",
    "                    )\n",
    "                    print(\n",
    "                        \"Model Was Saved ! Current Best Avg. Dice: {} Current Avg. Dice: {} Current Avg. tumor Dice: {} Current Avg. lymph Dice: {}\".format(\n",
    "                            dice_val_best, dice_val, metric_tumor, metric_lymph\n",
    "                        )\n",
    "                    )\n",
    "                else:\n",
    "                    print(\n",
    "                        \"Model Was Not Saved ! Current Best Avg. Dice: {} Current Avg. Dice: {} Current Avg. tumor Dice: {} Current Avg. lymph Dice: {}\".format(\n",
    "                            dice_val_best, dice_val,  metric_tumor, metric_lymph\n",
    "                        )\n",
    "                    )\n",
    "            global_step += 1\n",
    "        return global_step, dice_val_best, global_step_best"
   ]
  },
  {
   "cell_type": "code",
   "execution_count": 11,
   "metadata": {},
   "outputs": [
    {
     "name": "stderr",
     "output_type": "stream",
     "text": [
      "Training (19 / 18000 Steps) (loss=0.68234): 100%|██████████| 20/20 [01:24<00:00,  4.21s/it]\n",
      "Training (39 / 18000 Steps) (loss=0.62267): 100%|██████████| 20/20 [00:38<00:00,  1.91s/it]\n",
      "Training (59 / 18000 Steps) (loss=0.51417): 100%|██████████| 20/20 [00:40<00:00,  2.04s/it]\n",
      "Training (79 / 18000 Steps) (loss=0.60537): 100%|██████████| 20/20 [00:39<00:00,  1.96s/it]\n",
      "Training (99 / 18000 Steps) (loss=0.61613): 100%|██████████| 20/20 [00:37<00:00,  1.89s/it]\n",
      "Validate (100 / 10 Steps): 100%|██████████| 8/8 [00:31<00:00,  3.89s/it]8<?, ?it/s]\n",
      "Training (100 / 18000 Steps) (loss=0.57959):   5%|▌         | 1/20 [00:41<13:01, 41.13s/it]"
     ]
    },
    {
     "name": "stdout",
     "output_type": "stream",
     "text": [
      "Model Was Saved ! Current Best Avg. Dice: 0.4209599792957306 Current Avg. Dice: 0.4209599792957306 Current Avg. tumor Dice: 0.5366868376731873 Current Avg. lymph Dice: 0.28321725130081177\n"
     ]
    },
    {
     "name": "stderr",
     "output_type": "stream",
     "text": [
      "Training (119 / 18000 Steps) (loss=0.38125): 100%|██████████| 20/20 [01:11<00:00,  3.60s/it]\n",
      "Training (139 / 18000 Steps) (loss=0.60721): 100%|██████████| 20/20 [00:39<00:00,  1.95s/it]\n",
      "Training (159 / 18000 Steps) (loss=0.35216): 100%|██████████| 20/20 [00:38<00:00,  1.94s/it]\n",
      "Training (179 / 18000 Steps) (loss=0.39769): 100%|██████████| 20/20 [00:38<00:00,  1.95s/it]\n",
      "Training (199 / 18000 Steps) (loss=0.54775): 100%|██████████| 20/20 [00:38<00:00,  1.95s/it]\n",
      "Validate (200 / 10 Steps): 100%|██████████| 8/8 [00:31<00:00,  3.91s/it]7<?, ?it/s]\n",
      "Training (200 / 18000 Steps) (loss=0.43337):   5%|▌         | 1/20 [00:39<12:39, 39.96s/it]"
     ]
    },
    {
     "name": "stdout",
     "output_type": "stream",
     "text": [
      "Model Was Saved ! Current Best Avg. Dice: 0.5470917820930481 Current Avg. Dice: 0.5470917820930481 Current Avg. tumor Dice: 0.64809650182724 Current Avg. lymph Dice: 0.42180949449539185\n"
     ]
    },
    {
     "name": "stderr",
     "output_type": "stream",
     "text": [
      "Training (219 / 18000 Steps) (loss=0.49897): 100%|██████████| 20/20 [01:10<00:00,  3.54s/it]\n",
      "Training (239 / 18000 Steps) (loss=0.43132): 100%|██████████| 20/20 [00:39<00:00,  1.96s/it]\n",
      "Training (259 / 18000 Steps) (loss=0.36056): 100%|██████████| 20/20 [00:39<00:00,  1.96s/it]\n",
      "Training (279 / 18000 Steps) (loss=0.31959): 100%|██████████| 20/20 [00:39<00:00,  1.98s/it]\n",
      "Training (299 / 18000 Steps) (loss=0.48718): 100%|██████████| 20/20 [00:38<00:00,  1.92s/it]\n",
      "Validate (300 / 10 Steps): 100%|██████████| 8/8 [00:31<00:00,  3.91s/it]8<?, ?it/s]\n",
      "Training (300 / 18000 Steps) (loss=0.49382):   5%|▌         | 1/20 [00:40<12:48, 40.47s/it]"
     ]
    },
    {
     "name": "stdout",
     "output_type": "stream",
     "text": [
      "Model Was Saved ! Current Best Avg. Dice: 0.557782769203186 Current Avg. Dice: 0.557782769203186 Current Avg. tumor Dice: 0.6618934273719788 Current Avg. lymph Dice: 0.425760418176651\n"
     ]
    },
    {
     "name": "stderr",
     "output_type": "stream",
     "text": [
      "Training (319 / 18000 Steps) (loss=0.36228): 100%|██████████| 20/20 [01:10<00:00,  3.55s/it]\n",
      "Training (339 / 18000 Steps) (loss=0.43477): 100%|██████████| 20/20 [00:38<00:00,  1.95s/it]\n",
      "Training (359 / 18000 Steps) (loss=0.66701): 100%|██████████| 20/20 [00:38<00:00,  1.94s/it]\n",
      "Training (379 / 18000 Steps) (loss=0.51556): 100%|██████████| 20/20 [00:38<00:00,  1.92s/it]\n",
      "Training (399 / 18000 Steps) (loss=0.35381): 100%|██████████| 20/20 [00:38<00:00,  1.91s/it]\n",
      "Validate (400 / 10 Steps): 100%|██████████| 8/8 [00:31<00:00,  3.97s/it]7<?, ?it/s]\n",
      "Training (400 / 18000 Steps) (loss=0.50703):   5%|▌         | 1/20 [00:39<12:23, 39.15s/it]"
     ]
    },
    {
     "name": "stdout",
     "output_type": "stream",
     "text": [
      "Model Was Not Saved ! Current Best Avg. Dice: 0.557782769203186 Current Avg. Dice: 0.5572953820228577 Current Avg. tumor Dice: 0.6725227236747742 Current Avg. lymph Dice: 0.4125670790672302\n"
     ]
    },
    {
     "name": "stderr",
     "output_type": "stream",
     "text": [
      "Training (419 / 18000 Steps) (loss=0.42222): 100%|██████████| 20/20 [01:09<00:00,  3.50s/it]\n",
      "Training (439 / 18000 Steps) (loss=0.50949): 100%|██████████| 20/20 [00:38<00:00,  1.93s/it]\n",
      "Training (459 / 18000 Steps) (loss=0.52071): 100%|██████████| 20/20 [00:38<00:00,  1.92s/it]\n",
      "Training (479 / 18000 Steps) (loss=0.32230): 100%|██████████| 20/20 [00:40<00:00,  2.04s/it]\n",
      "Training (499 / 18000 Steps) (loss=0.16776): 100%|██████████| 20/20 [00:39<00:00,  1.96s/it]\n",
      "Validate (500 / 10 Steps): 100%|██████████| 8/8 [00:31<00:00,  4.00s/it]7<?, ?it/s]\n",
      "Training (500 / 18000 Steps) (loss=0.34324):   5%|▌         | 1/20 [00:40<12:49, 40.51s/it]"
     ]
    },
    {
     "name": "stdout",
     "output_type": "stream",
     "text": [
      "Model Was Saved ! Current Best Avg. Dice: 0.5729390382766724 Current Avg. Dice: 0.5729390382766724 Current Avg. tumor Dice: 0.6998618841171265 Current Avg. lymph Dice: 0.4134279489517212\n"
     ]
    },
    {
     "name": "stderr",
     "output_type": "stream",
     "text": [
      "Training (519 / 18000 Steps) (loss=0.53054): 100%|██████████| 20/20 [01:11<00:00,  3.56s/it]\n",
      "Training (539 / 18000 Steps) (loss=0.46735): 100%|██████████| 20/20 [00:39<00:00,  1.98s/it]\n",
      "Training (559 / 18000 Steps) (loss=0.46766): 100%|██████████| 20/20 [00:38<00:00,  1.93s/it]\n",
      "Training (579 / 18000 Steps) (loss=0.43436): 100%|██████████| 20/20 [00:39<00:00,  1.95s/it]\n",
      "Training (599 / 18000 Steps) (loss=0.39362): 100%|██████████| 20/20 [00:38<00:00,  1.91s/it]\n",
      "Validate (600 / 10 Steps): 100%|██████████| 8/8 [00:31<00:00,  3.92s/it]8<?, ?it/s]\n",
      "Training (600 / 18000 Steps) (loss=0.39498):   5%|▌         | 1/20 [00:39<12:33, 39.65s/it]"
     ]
    },
    {
     "name": "stdout",
     "output_type": "stream",
     "text": [
      "Model Was Not Saved ! Current Best Avg. Dice: 0.5729390382766724 Current Avg. Dice: 0.5488971471786499 Current Avg. tumor Dice: 0.6595260500907898 Current Avg. lymph Dice: 0.4095630645751953\n"
     ]
    },
    {
     "name": "stderr",
     "output_type": "stream",
     "text": [
      "Training (619 / 18000 Steps) (loss=0.47198): 100%|██████████| 20/20 [01:10<00:00,  3.53s/it]\n",
      "Training (639 / 18000 Steps) (loss=0.46982): 100%|██████████| 20/20 [00:38<00:00,  1.91s/it]\n",
      "Training (659 / 18000 Steps) (loss=0.31575): 100%|██████████| 20/20 [00:38<00:00,  1.94s/it]\n",
      "Training (679 / 18000 Steps) (loss=0.49638): 100%|██████████| 20/20 [00:38<00:00,  1.95s/it]\n",
      "Training (699 / 18000 Steps) (loss=0.42744): 100%|██████████| 20/20 [00:38<00:00,  1.92s/it]\n",
      "Validate (700 / 10 Steps): 100%|██████████| 8/8 [00:31<00:00,  3.93s/it]9<?, ?it/s]\n",
      "Training (700 / 18000 Steps) (loss=0.51578):   5%|▌         | 1/20 [00:41<12:59, 41.01s/it]"
     ]
    },
    {
     "name": "stdout",
     "output_type": "stream",
     "text": [
      "Model Was Not Saved ! Current Best Avg. Dice: 0.5729390382766724 Current Avg. Dice: 0.5543240308761597 Current Avg. tumor Dice: 0.6732030510902405 Current Avg. lymph Dice: 0.4047984480857849\n"
     ]
    },
    {
     "name": "stderr",
     "output_type": "stream",
     "text": [
      "Training (719 / 18000 Steps) (loss=0.44459): 100%|██████████| 20/20 [01:11<00:00,  3.60s/it]\n",
      "Training (739 / 18000 Steps) (loss=0.53542): 100%|██████████| 20/20 [00:38<00:00,  1.91s/it]\n",
      "Training (759 / 18000 Steps) (loss=0.30093): 100%|██████████| 20/20 [00:38<00:00,  1.93s/it]\n",
      "Training (779 / 18000 Steps) (loss=0.49186): 100%|██████████| 20/20 [00:38<00:00,  1.95s/it]\n",
      "Training (799 / 18000 Steps) (loss=0.44580): 100%|██████████| 20/20 [00:39<00:00,  1.95s/it]\n",
      "Validate (800 / 10 Steps): 100%|██████████| 8/8 [00:31<00:00,  3.91s/it]8<?, ?it/s]\n",
      "Training (800 / 18000 Steps) (loss=0.32978):   5%|▌         | 1/20 [00:40<12:49, 40.48s/it]"
     ]
    },
    {
     "name": "stdout",
     "output_type": "stream",
     "text": [
      "Model Was Saved ! Current Best Avg. Dice: 0.5899682641029358 Current Avg. Dice: 0.5899682641029358 Current Avg. tumor Dice: 0.7012245059013367 Current Avg. lymph Dice: 0.4525505602359772\n"
     ]
    },
    {
     "name": "stderr",
     "output_type": "stream",
     "text": [
      "Training (819 / 18000 Steps) (loss=0.51089): 100%|██████████| 20/20 [01:11<00:00,  3.58s/it]\n",
      "Training (839 / 18000 Steps) (loss=0.34268): 100%|██████████| 20/20 [00:39<00:00,  1.99s/it]\n",
      "Training (859 / 18000 Steps) (loss=0.39361): 100%|██████████| 20/20 [00:39<00:00,  1.98s/it]\n",
      "Training (879 / 18000 Steps) (loss=0.53926): 100%|██████████| 20/20 [00:40<00:00,  2.01s/it]\n",
      "Training (899 / 18000 Steps) (loss=0.35366): 100%|██████████| 20/20 [00:39<00:00,  1.97s/it]\n",
      "Validate (900 / 10 Steps): 100%|██████████| 8/8 [00:31<00:00,  3.95s/it]7<?, ?it/s]\n",
      "Training (900 / 18000 Steps) (loss=0.53140):   5%|▌         | 1/20 [00:39<12:34, 39.70s/it]"
     ]
    },
    {
     "name": "stdout",
     "output_type": "stream",
     "text": [
      "Model Was Saved ! Current Best Avg. Dice: 0.6032029986381531 Current Avg. Dice: 0.6032029986381531 Current Avg. tumor Dice: 0.7098976969718933 Current Avg. lymph Dice: 0.4779588282108307\n"
     ]
    },
    {
     "name": "stderr",
     "output_type": "stream",
     "text": [
      "Training (919 / 18000 Steps) (loss=0.45445): 100%|██████████| 20/20 [01:10<00:00,  3.52s/it]\n",
      "Training (939 / 18000 Steps) (loss=0.44832): 100%|██████████| 20/20 [00:38<00:00,  1.95s/it]\n",
      "Training (959 / 18000 Steps) (loss=0.44627): 100%|██████████| 20/20 [00:38<00:00,  1.92s/it]\n",
      "Training (979 / 18000 Steps) (loss=0.49155): 100%|██████████| 20/20 [00:38<00:00,  1.93s/it]\n",
      "Training (999 / 18000 Steps) (loss=0.45552): 100%|██████████| 20/20 [00:38<00:00,  1.94s/it]\n",
      "Validate (1000 / 10 Steps): 100%|██████████| 8/8 [00:31<00:00,  3.93s/it]9<?, ?it/s]\n",
      "Training (1000 / 18000 Steps) (loss=0.48759):   5%|▌         | 1/20 [00:40<12:55, 40.82s/it]"
     ]
    },
    {
     "name": "stdout",
     "output_type": "stream",
     "text": [
      "Model Was Not Saved ! Current Best Avg. Dice: 0.6032029986381531 Current Avg. Dice: 0.5924383997917175 Current Avg. tumor Dice: 0.7115193605422974 Current Avg. lymph Dice: 0.44309455156326294\n"
     ]
    },
    {
     "name": "stderr",
     "output_type": "stream",
     "text": [
      "Training (1019 / 18000 Steps) (loss=0.41179): 100%|██████████| 20/20 [01:11<00:00,  3.58s/it]\n",
      "Training (1039 / 18000 Steps) (loss=0.17965): 100%|██████████| 20/20 [00:38<00:00,  1.94s/it]\n",
      "Training (1059 / 18000 Steps) (loss=0.44101): 100%|██████████| 20/20 [00:38<00:00,  1.93s/it]\n",
      "Training (1079 / 18000 Steps) (loss=0.67454): 100%|██████████| 20/20 [00:38<00:00,  1.95s/it]\n",
      "Training (1099 / 18000 Steps) (loss=0.28076): 100%|██████████| 20/20 [00:38<00:00,  1.92s/it]\n",
      "Validate (1100 / 10 Steps): 100%|██████████| 8/8 [00:31<00:00,  3.98s/it]7<?, ?it/s]\n",
      "Training (1100 / 18000 Steps) (loss=0.39912):   5%|▌         | 1/20 [00:40<12:44, 40.25s/it]"
     ]
    },
    {
     "name": "stdout",
     "output_type": "stream",
     "text": [
      "Model Was Saved ! Current Best Avg. Dice: 0.614444375038147 Current Avg. Dice: 0.614444375038147 Current Avg. tumor Dice: 0.7161428928375244 Current Avg. lymph Dice: 0.4943830072879791\n"
     ]
    },
    {
     "name": "stderr",
     "output_type": "stream",
     "text": [
      "Training (1119 / 18000 Steps) (loss=0.29544): 100%|██████████| 20/20 [01:11<00:00,  3.56s/it]\n",
      "Training (1139 / 18000 Steps) (loss=0.28998): 100%|██████████| 20/20 [00:38<00:00,  1.92s/it]\n",
      "Training (1159 / 18000 Steps) (loss=0.55485): 100%|██████████| 20/20 [00:38<00:00,  1.91s/it]\n",
      "Training (1179 / 18000 Steps) (loss=0.25144): 100%|██████████| 20/20 [00:38<00:00,  1.91s/it]\n",
      "Training (1199 / 18000 Steps) (loss=0.60665): 100%|██████████| 20/20 [00:38<00:00,  1.92s/it]\n",
      "Validate (1200 / 10 Steps): 100%|██████████| 8/8 [00:31<00:00,  3.97s/it]6<?, ?it/s]\n",
      "Training (1200 / 18000 Steps) (loss=0.28187):   5%|▌         | 1/20 [00:38<12:15, 38.70s/it]"
     ]
    },
    {
     "name": "stdout",
     "output_type": "stream",
     "text": [
      "Model Was Not Saved ! Current Best Avg. Dice: 0.614444375038147 Current Avg. Dice: 0.6044027209281921 Current Avg. tumor Dice: 0.7194193005561829 Current Avg. lymph Dice: 0.4613642990589142\n"
     ]
    },
    {
     "name": "stderr",
     "output_type": "stream",
     "text": [
      "Training (1219 / 18000 Steps) (loss=0.48079): 100%|██████████| 20/20 [01:09<00:00,  3.47s/it]\n",
      "Training (1239 / 18000 Steps) (loss=0.28750): 100%|██████████| 20/20 [00:40<00:00,  2.01s/it]\n",
      "Training (1259 / 18000 Steps) (loss=0.59215): 100%|██████████| 20/20 [00:41<00:00,  2.06s/it]\n",
      "Training (1279 / 18000 Steps) (loss=0.48466): 100%|██████████| 20/20 [00:38<00:00,  1.93s/it]\n",
      "Training (1299 / 18000 Steps) (loss=0.43236): 100%|██████████| 20/20 [00:38<00:00,  1.95s/it]\n",
      "Validate (1300 / 10 Steps): 100%|██████████| 8/8 [00:31<00:00,  3.95s/it]6<?, ?it/s]\n",
      "Training (1300 / 18000 Steps) (loss=0.33368):   5%|▌         | 1/20 [00:39<12:27, 39.35s/it]"
     ]
    },
    {
     "name": "stdout",
     "output_type": "stream",
     "text": [
      "Model Was Saved ! Current Best Avg. Dice: 0.6165063381195068 Current Avg. Dice: 0.6165063381195068 Current Avg. tumor Dice: 0.725796103477478 Current Avg. lymph Dice: 0.48152461647987366\n"
     ]
    },
    {
     "name": "stderr",
     "output_type": "stream",
     "text": [
      "Training (1319 / 18000 Steps) (loss=0.46195): 100%|██████████| 20/20 [01:10<00:00,  3.51s/it]\n",
      "Training (1339 / 18000 Steps) (loss=0.24945): 100%|██████████| 20/20 [00:38<00:00,  1.93s/it]\n",
      "Training (1359 / 18000 Steps) (loss=0.36499): 100%|██████████| 20/20 [00:39<00:00,  1.95s/it]\n",
      "Training (1379 / 18000 Steps) (loss=0.33511): 100%|██████████| 20/20 [00:38<00:00,  1.91s/it]\n",
      "Training (1399 / 18000 Steps) (loss=0.18357): 100%|██████████| 20/20 [00:38<00:00,  1.92s/it]\n",
      "Validate (1400 / 10 Steps): 100%|██████████| 8/8 [00:31<00:00,  3.91s/it]8<?, ?it/s]\n",
      "Training (1400 / 18000 Steps) (loss=0.34239):   5%|▌         | 1/20 [00:39<12:33, 39.67s/it]"
     ]
    },
    {
     "name": "stdout",
     "output_type": "stream",
     "text": [
      "Model Was Not Saved ! Current Best Avg. Dice: 0.6165063381195068 Current Avg. Dice: 0.6038736701011658 Current Avg. tumor Dice: 0.7117430567741394 Current Avg. lymph Dice: 0.4732207953929901\n"
     ]
    },
    {
     "name": "stderr",
     "output_type": "stream",
     "text": [
      "Training (1419 / 18000 Steps) (loss=0.35509): 100%|██████████| 20/20 [01:10<00:00,  3.52s/it]\n",
      "Training (1439 / 18000 Steps) (loss=0.35983): 100%|██████████| 20/20 [00:38<00:00,  1.93s/it]\n",
      "Training (1459 / 18000 Steps) (loss=0.36948): 100%|██████████| 20/20 [00:38<00:00,  1.94s/it]\n",
      "Training (1479 / 18000 Steps) (loss=0.22410): 100%|██████████| 20/20 [00:38<00:00,  1.92s/it]\n",
      "Training (1499 / 18000 Steps) (loss=0.41676): 100%|██████████| 20/20 [00:39<00:00,  1.96s/it]\n",
      "Validate (1500 / 10 Steps): 100%|██████████| 8/8 [00:31<00:00,  3.95s/it]7<?, ?it/s]\n",
      "Training (1500 / 18000 Steps) (loss=0.48619):   5%|▌         | 1/20 [00:38<12:18, 38.85s/it]"
     ]
    },
    {
     "name": "stdout",
     "output_type": "stream",
     "text": [
      "Model Was Not Saved ! Current Best Avg. Dice: 0.6165063381195068 Current Avg. Dice: 0.5950103998184204 Current Avg. tumor Dice: 0.7019833922386169 Current Avg. lymph Dice: 0.45930927991867065\n"
     ]
    },
    {
     "name": "stderr",
     "output_type": "stream",
     "text": [
      "Training (1519 / 18000 Steps) (loss=0.60066): 100%|██████████| 20/20 [01:09<00:00,  3.47s/it]\n",
      "Training (1539 / 18000 Steps) (loss=0.54803): 100%|██████████| 20/20 [00:38<00:00,  1.95s/it]\n",
      "Training (1559 / 18000 Steps) (loss=0.39869): 100%|██████████| 20/20 [00:38<00:00,  1.92s/it]\n",
      "Training (1579 / 18000 Steps) (loss=0.55692): 100%|██████████| 20/20 [00:38<00:00,  1.92s/it]\n",
      "Training (1599 / 18000 Steps) (loss=0.61028): 100%|██████████| 20/20 [00:38<00:00,  1.94s/it]\n",
      "Validate (1600 / 10 Steps): 100%|██████████| 8/8 [00:31<00:00,  3.92s/it]8<?, ?it/s]\n",
      "Training (1600 / 18000 Steps) (loss=0.35818):   5%|▌         | 1/20 [00:39<12:35, 39.75s/it]"
     ]
    },
    {
     "name": "stdout",
     "output_type": "stream",
     "text": [
      "Model Was Not Saved ! Current Best Avg. Dice: 0.6165063381195068 Current Avg. Dice: 0.6027151942253113 Current Avg. tumor Dice: 0.705978274345398 Current Avg. lymph Dice: 0.47764894366264343\n"
     ]
    },
    {
     "name": "stderr",
     "output_type": "stream",
     "text": [
      "Training (1619 / 18000 Steps) (loss=0.32119): 100%|██████████| 20/20 [01:10<00:00,  3.53s/it]\n",
      "Training (1639 / 18000 Steps) (loss=0.20043): 100%|██████████| 20/20 [00:39<00:00,  1.98s/it]\n",
      "Training (1659 / 18000 Steps) (loss=0.45423): 100%|██████████| 20/20 [00:39<00:00,  1.97s/it]\n",
      "Training (1679 / 18000 Steps) (loss=0.38288): 100%|██████████| 20/20 [00:39<00:00,  1.97s/it]\n",
      "Training (1699 / 18000 Steps) (loss=0.49956): 100%|██████████| 20/20 [00:39<00:00,  1.99s/it]\n",
      "Validate (1700 / 10 Steps): 100%|██████████| 8/8 [00:31<00:00,  3.90s/it]8<?, ?it/s]\n",
      "Training (1700 / 18000 Steps) (loss=0.52056):   5%|▌         | 1/20 [00:40<12:40, 40.02s/it]"
     ]
    },
    {
     "name": "stdout",
     "output_type": "stream",
     "text": [
      "Model Was Not Saved ! Current Best Avg. Dice: 0.6165063381195068 Current Avg. Dice: 0.588375985622406 Current Avg. tumor Dice: 0.6903226375579834 Current Avg. lymph Dice: 0.4593167006969452\n"
     ]
    },
    {
     "name": "stderr",
     "output_type": "stream",
     "text": [
      "Training (1719 / 18000 Steps) (loss=0.55615): 100%|██████████| 20/20 [01:10<00:00,  3.54s/it]\n",
      "Training (1739 / 18000 Steps) (loss=0.53076): 100%|██████████| 20/20 [00:40<00:00,  2.00s/it]\n",
      "Training (1759 / 18000 Steps) (loss=0.33584): 100%|██████████| 20/20 [00:38<00:00,  1.95s/it]\n",
      "Training (1779 / 18000 Steps) (loss=0.45665): 100%|██████████| 20/20 [00:38<00:00,  1.94s/it]\n",
      "Training (1799 / 18000 Steps) (loss=0.24635): 100%|██████████| 20/20 [00:40<00:00,  2.00s/it]\n",
      "Validate (1800 / 10 Steps): 100%|██████████| 8/8 [00:31<00:00,  3.91s/it]7<?, ?it/s]\n",
      "Training (1800 / 18000 Steps) (loss=0.49344):   5%|▌         | 1/20 [00:38<12:12, 38.55s/it]"
     ]
    },
    {
     "name": "stdout",
     "output_type": "stream",
     "text": [
      "Model Was Not Saved ! Current Best Avg. Dice: 0.6165063381195068 Current Avg. Dice: 0.6140857338905334 Current Avg. tumor Dice: 0.7197622060775757 Current Avg. lymph Dice: 0.4935401678085327\n"
     ]
    },
    {
     "name": "stderr",
     "output_type": "stream",
     "text": [
      "Training (1819 / 18000 Steps) (loss=0.56245): 100%|██████████| 20/20 [01:09<00:00,  3.47s/it]\n",
      "Training (1839 / 18000 Steps) (loss=0.51423): 100%|██████████| 20/20 [00:38<00:00,  1.92s/it]\n",
      "Training (1859 / 18000 Steps) (loss=0.34209): 100%|██████████| 20/20 [00:40<00:00,  2.04s/it]\n",
      "Training (1879 / 18000 Steps) (loss=0.39153): 100%|██████████| 20/20 [00:39<00:00,  1.95s/it]\n",
      "Training (1899 / 18000 Steps) (loss=0.52471): 100%|██████████| 20/20 [00:38<00:00,  1.91s/it]\n",
      "Validate (1900 / 10 Steps): 100%|██████████| 8/8 [00:31<00:00,  3.88s/it]7<?, ?it/s]\n",
      "Training (1900 / 18000 Steps) (loss=0.47367):   5%|▌         | 1/20 [00:38<12:09, 38.40s/it]"
     ]
    },
    {
     "name": "stdout",
     "output_type": "stream",
     "text": [
      "Model Was Not Saved ! Current Best Avg. Dice: 0.6165063381195068 Current Avg. Dice: 0.6155305504798889 Current Avg. tumor Dice: 0.7255812287330627 Current Avg. lymph Dice: 0.48819640278816223\n"
     ]
    },
    {
     "name": "stderr",
     "output_type": "stream",
     "text": [
      "Training (1919 / 18000 Steps) (loss=0.49977): 100%|██████████| 20/20 [01:09<00:00,  3.46s/it]\n",
      "Training (1939 / 18000 Steps) (loss=0.55659): 100%|██████████| 20/20 [00:40<00:00,  2.01s/it]\n",
      "Training (1959 / 18000 Steps) (loss=0.31726): 100%|██████████| 20/20 [00:38<00:00,  1.91s/it]\n",
      "Training (1979 / 18000 Steps) (loss=0.33753): 100%|██████████| 20/20 [00:37<00:00,  1.89s/it]\n",
      "Training (1999 / 18000 Steps) (loss=0.46892): 100%|██████████| 20/20 [00:39<00:00,  1.97s/it]\n",
      "Validate (2000 / 10 Steps): 100%|██████████| 8/8 [00:31<00:00,  3.88s/it]7<?, ?it/s]\n",
      "Training (2000 / 18000 Steps) (loss=0.36428):   5%|▌         | 1/20 [00:39<12:39, 39.99s/it]"
     ]
    },
    {
     "name": "stdout",
     "output_type": "stream",
     "text": [
      "Model Was Saved ! Current Best Avg. Dice: 0.6325594782829285 Current Avg. Dice: 0.6325594782829285 Current Avg. tumor Dice: 0.7412610650062561 Current Avg. lymph Dice: 0.5028775930404663\n"
     ]
    },
    {
     "name": "stderr",
     "output_type": "stream",
     "text": [
      "Training (2019 / 18000 Steps) (loss=0.44705): 100%|██████████| 20/20 [01:10<00:00,  3.54s/it]\n",
      "Training (2039 / 18000 Steps) (loss=0.43920): 100%|██████████| 20/20 [00:38<00:00,  1.92s/it]\n",
      "Training (2059 / 18000 Steps) (loss=0.34842): 100%|██████████| 20/20 [00:38<00:00,  1.91s/it]\n",
      "Training (2079 / 18000 Steps) (loss=0.56054): 100%|██████████| 20/20 [00:38<00:00,  1.94s/it]\n",
      "Training (2099 / 18000 Steps) (loss=0.49627): 100%|██████████| 20/20 [00:38<00:00,  1.94s/it]\n",
      "Validate (2100 / 10 Steps): 100%|██████████| 8/8 [00:31<00:00,  3.92s/it]8<?, ?it/s]\n",
      "Training (2100 / 18000 Steps) (loss=0.46781):   5%|▌         | 1/20 [00:39<12:31, 39.53s/it]"
     ]
    },
    {
     "name": "stdout",
     "output_type": "stream",
     "text": [
      "Model Was Not Saved ! Current Best Avg. Dice: 0.6325594782829285 Current Avg. Dice: 0.6062555909156799 Current Avg. tumor Dice: 0.7042344212532043 Current Avg. lymph Dice: 0.48788386583328247\n"
     ]
    },
    {
     "name": "stderr",
     "output_type": "stream",
     "text": [
      "Training (2119 / 18000 Steps) (loss=0.43667): 100%|██████████| 20/20 [01:10<00:00,  3.52s/it]\n",
      "Training (2139 / 18000 Steps) (loss=0.55496): 100%|██████████| 20/20 [00:38<00:00,  1.92s/it]\n",
      "Training (2159 / 18000 Steps) (loss=0.40878): 100%|██████████| 20/20 [00:38<00:00,  1.92s/it]\n",
      "Training (2179 / 18000 Steps) (loss=0.46704): 100%|██████████| 20/20 [00:38<00:00,  1.91s/it]\n",
      "Training (2199 / 18000 Steps) (loss=0.48748): 100%|██████████| 20/20 [00:39<00:00,  1.99s/it]\n",
      "Validate (2200 / 10 Steps): 100%|██████████| 8/8 [00:31<00:00,  3.93s/it]9<?, ?it/s]\n",
      "Training (2200 / 18000 Steps) (loss=0.39561):   5%|▌         | 1/20 [00:41<13:07, 41.45s/it]"
     ]
    },
    {
     "name": "stdout",
     "output_type": "stream",
     "text": [
      "Model Was Not Saved ! Current Best Avg. Dice: 0.6325594782829285 Current Avg. Dice: 0.625813364982605 Current Avg. tumor Dice: 0.7297627925872803 Current Avg. lymph Dice: 0.5031858086585999\n"
     ]
    },
    {
     "name": "stderr",
     "output_type": "stream",
     "text": [
      "Training (2219 / 18000 Steps) (loss=0.31970): 100%|██████████| 20/20 [01:12<00:00,  3.62s/it]\n",
      "Training (2239 / 18000 Steps) (loss=0.34753): 100%|██████████| 20/20 [00:38<00:00,  1.92s/it]\n",
      "Training (2259 / 18000 Steps) (loss=0.54306): 100%|██████████| 20/20 [00:38<00:00,  1.94s/it]\n",
      "Training (2279 / 18000 Steps) (loss=0.51220): 100%|██████████| 20/20 [00:39<00:00,  1.96s/it]\n",
      "Training (2299 / 18000 Steps) (loss=0.31613): 100%|██████████| 20/20 [00:39<00:00,  1.95s/it]\n",
      "Validate (2300 / 10 Steps): 100%|██████████| 8/8 [00:31<00:00,  3.95s/it]6<?, ?it/s]\n",
      "Training (2300 / 18000 Steps) (loss=0.37415):   5%|▌         | 1/20 [00:38<12:12, 38.57s/it]"
     ]
    },
    {
     "name": "stdout",
     "output_type": "stream",
     "text": [
      "Model Was Not Saved ! Current Best Avg. Dice: 0.6325594782829285 Current Avg. Dice: 0.6178233623504639 Current Avg. tumor Dice: 0.7212753891944885 Current Avg. lymph Dice: 0.49101734161376953\n"
     ]
    },
    {
     "name": "stderr",
     "output_type": "stream",
     "text": [
      "Training (2319 / 18000 Steps) (loss=0.47405): 100%|██████████| 20/20 [01:09<00:00,  3.47s/it]\n",
      "Training (2339 / 18000 Steps) (loss=0.48774): 100%|██████████| 20/20 [00:39<00:00,  1.96s/it]\n",
      "Training (2359 / 18000 Steps) (loss=0.33761): 100%|██████████| 20/20 [00:38<00:00,  1.92s/it]\n",
      "Training (2379 / 18000 Steps) (loss=0.29238): 100%|██████████| 20/20 [00:38<00:00,  1.94s/it]\n",
      "Training (2399 / 18000 Steps) (loss=0.47646): 100%|██████████| 20/20 [00:38<00:00,  1.93s/it]\n",
      "Validate (2400 / 10 Steps): 100%|██████████| 8/8 [00:31<00:00,  3.96s/it]7<?, ?it/s]\n",
      "Training (2400 / 18000 Steps) (loss=0.32345):   5%|▌         | 1/20 [00:39<12:22, 39.07s/it]"
     ]
    },
    {
     "name": "stdout",
     "output_type": "stream",
     "text": [
      "Model Was Not Saved ! Current Best Avg. Dice: 0.6325594782829285 Current Avg. Dice: 0.6200217008590698 Current Avg. tumor Dice: 0.7327492833137512 Current Avg. lymph Dice: 0.4921930730342865\n"
     ]
    },
    {
     "name": "stderr",
     "output_type": "stream",
     "text": [
      "Training (2419 / 18000 Steps) (loss=0.51581): 100%|██████████| 20/20 [01:09<00:00,  3.48s/it]\n",
      "Training (2439 / 18000 Steps) (loss=0.52940): 100%|██████████| 20/20 [00:38<00:00,  1.94s/it]\n",
      "Training (2459 / 18000 Steps) (loss=0.21300): 100%|██████████| 20/20 [00:38<00:00,  1.92s/it]\n",
      "Training (2479 / 18000 Steps) (loss=0.53922): 100%|██████████| 20/20 [00:38<00:00,  1.94s/it]\n",
      "Training (2499 / 18000 Steps) (loss=0.51004): 100%|██████████| 20/20 [00:38<00:00,  1.91s/it]\n",
      "Validate (2500 / 10 Steps): 100%|██████████| 8/8 [00:31<00:00,  3.90s/it]7<?, ?it/s]\n",
      "Training (2500 / 18000 Steps) (loss=0.36301):   5%|▌         | 1/20 [00:38<12:12, 38.53s/it]"
     ]
    },
    {
     "name": "stdout",
     "output_type": "stream",
     "text": [
      "Model Was Not Saved ! Current Best Avg. Dice: 0.6325594782829285 Current Avg. Dice: 0.6094796657562256 Current Avg. tumor Dice: 0.7163360118865967 Current Avg. lymph Dice: 0.48379024863243103\n"
     ]
    },
    {
     "name": "stderr",
     "output_type": "stream",
     "text": [
      "Training (2519 / 18000 Steps) (loss=0.26770): 100%|██████████| 20/20 [01:09<00:00,  3.46s/it]\n",
      "Training (2539 / 18000 Steps) (loss=0.32624): 100%|██████████| 20/20 [00:38<00:00,  1.91s/it]\n",
      "Training (2559 / 18000 Steps) (loss=0.35860): 100%|██████████| 20/20 [00:38<00:00,  1.94s/it]\n",
      "Training (2579 / 18000 Steps) (loss=0.55317): 100%|██████████| 20/20 [00:38<00:00,  1.92s/it]\n",
      "Training (2599 / 18000 Steps) (loss=0.19851): 100%|██████████| 20/20 [00:38<00:00,  1.91s/it]\n",
      "Validate (2600 / 10 Steps): 100%|██████████| 8/8 [00:31<00:00,  3.91s/it]7<?, ?it/s]\n",
      "Training (2600 / 18000 Steps) (loss=0.42637):   5%|▌         | 1/20 [00:38<12:13, 38.60s/it]"
     ]
    },
    {
     "name": "stdout",
     "output_type": "stream",
     "text": [
      "Model Was Not Saved ! Current Best Avg. Dice: 0.6325594782829285 Current Avg. Dice: 0.6250379085540771 Current Avg. tumor Dice: 0.7308206558227539 Current Avg. lymph Dice: 0.5038411021232605\n"
     ]
    },
    {
     "name": "stderr",
     "output_type": "stream",
     "text": [
      "Training (2619 / 18000 Steps) (loss=0.33201): 100%|██████████| 20/20 [01:09<00:00,  3.46s/it]\n",
      "Training (2639 / 18000 Steps) (loss=0.49839): 100%|██████████| 20/20 [00:37<00:00,  1.90s/it]\n",
      "Training (2659 / 18000 Steps) (loss=0.33979): 100%|██████████| 20/20 [00:38<00:00,  1.93s/it]\n",
      "Training (2679 / 18000 Steps) (loss=0.39690): 100%|██████████| 20/20 [00:38<00:00,  1.93s/it]\n",
      "Training (2699 / 18000 Steps) (loss=0.27060): 100%|██████████| 20/20 [00:38<00:00,  1.90s/it]\n",
      "Validate (2700 / 10 Steps): 100%|██████████| 8/8 [00:31<00:00,  3.93s/it]7<?, ?it/s]\n",
      "Training (2700 / 18000 Steps) (loss=0.34456):   5%|▌         | 1/20 [00:38<12:13, 38.60s/it]"
     ]
    },
    {
     "name": "stdout",
     "output_type": "stream",
     "text": [
      "Model Was Not Saved ! Current Best Avg. Dice: 0.6325594782829285 Current Avg. Dice: 0.6000229120254517 Current Avg. tumor Dice: 0.7241659760475159 Current Avg. lymph Dice: 0.4530690312385559\n"
     ]
    },
    {
     "name": "stderr",
     "output_type": "stream",
     "text": [
      "Training (2719 / 18000 Steps) (loss=0.39403): 100%|██████████| 20/20 [01:09<00:00,  3.46s/it]\n",
      "Training (2739 / 18000 Steps) (loss=0.32917): 100%|██████████| 20/20 [00:38<00:00,  1.90s/it]\n",
      "Training (2759 / 18000 Steps) (loss=0.33468): 100%|██████████| 20/20 [00:37<00:00,  1.89s/it]\n",
      "Training (2779 / 18000 Steps) (loss=0.45156): 100%|██████████| 20/20 [00:39<00:00,  1.99s/it]\n",
      "Training (2799 / 18000 Steps) (loss=0.57130): 100%|██████████| 20/20 [00:38<00:00,  1.92s/it]\n",
      "Validate (2800 / 10 Steps): 100%|██████████| 8/8 [00:31<00:00,  3.92s/it]6<?, ?it/s]\n",
      "Training (2800 / 18000 Steps) (loss=0.36475):   5%|▌         | 1/20 [00:38<12:08, 38.34s/it]"
     ]
    },
    {
     "name": "stdout",
     "output_type": "stream",
     "text": [
      "Model Was Not Saved ! Current Best Avg. Dice: 0.6325594782829285 Current Avg. Dice: 0.6240073442459106 Current Avg. tumor Dice: 0.7284464240074158 Current Avg. lymph Dice: 0.49898669123649597\n"
     ]
    },
    {
     "name": "stderr",
     "output_type": "stream",
     "text": [
      "Training (2819 / 18000 Steps) (loss=0.23332): 100%|██████████| 20/20 [01:09<00:00,  3.46s/it]\n",
      "Training (2839 / 18000 Steps) (loss=0.24374): 100%|██████████| 20/20 [00:39<00:00,  1.99s/it]\n",
      "Training (2859 / 18000 Steps) (loss=0.36406): 100%|██████████| 20/20 [00:38<00:00,  1.92s/it]\n",
      "Training (2879 / 18000 Steps) (loss=0.66753): 100%|██████████| 20/20 [00:38<00:00,  1.91s/it]\n",
      "Training (2899 / 18000 Steps) (loss=0.25542): 100%|██████████| 20/20 [00:38<00:00,  1.95s/it]\n",
      "Validate (2900 / 10 Steps): 100%|██████████| 8/8 [00:31<00:00,  3.90s/it]9<?, ?it/s]\n",
      "Training (2900 / 18000 Steps) (loss=0.36579):   5%|▌         | 1/20 [00:40<12:52, 40.63s/it]"
     ]
    },
    {
     "name": "stdout",
     "output_type": "stream",
     "text": [
      "Model Was Not Saved ! Current Best Avg. Dice: 0.6325594782829285 Current Avg. Dice: 0.6210340261459351 Current Avg. tumor Dice: 0.7198265194892883 Current Avg. lymph Dice: 0.5003387928009033\n"
     ]
    },
    {
     "name": "stderr",
     "output_type": "stream",
     "text": [
      "Training (2919 / 18000 Steps) (loss=0.36634): 100%|██████████| 20/20 [01:11<00:00,  3.57s/it]\n",
      "Training (2939 / 18000 Steps) (loss=0.59731): 100%|██████████| 20/20 [00:40<00:00,  2.02s/it]\n",
      "Training (2959 / 18000 Steps) (loss=0.45672): 100%|██████████| 20/20 [00:39<00:00,  1.99s/it]\n",
      "Training (2979 / 18000 Steps) (loss=0.43010): 100%|██████████| 20/20 [00:39<00:00,  1.97s/it]\n",
      "Training (2999 / 18000 Steps) (loss=0.42583): 100%|██████████| 20/20 [00:38<00:00,  1.94s/it]\n",
      "Validate (3000 / 10 Steps): 100%|██████████| 8/8 [00:31<00:00,  3.94s/it]7<?, ?it/s]\n",
      "Training (3000 / 18000 Steps) (loss=0.29601):   5%|▌         | 1/20 [00:38<12:15, 38.70s/it]"
     ]
    },
    {
     "name": "stdout",
     "output_type": "stream",
     "text": [
      "Model Was Not Saved ! Current Best Avg. Dice: 0.6325594782829285 Current Avg. Dice: 0.627373993396759 Current Avg. tumor Dice: 0.7331792116165161 Current Avg. lymph Dice: 0.49640071392059326\n"
     ]
    },
    {
     "name": "stderr",
     "output_type": "stream",
     "text": [
      "Training (3019 / 18000 Steps) (loss=0.56261): 100%|██████████| 20/20 [01:09<00:00,  3.46s/it]\n",
      "Training (3039 / 18000 Steps) (loss=0.53894): 100%|██████████| 20/20 [00:38<00:00,  1.93s/it]\n",
      "Training (3059 / 18000 Steps) (loss=0.28729): 100%|██████████| 20/20 [00:40<00:00,  2.01s/it]\n",
      "Training (3079 / 18000 Steps) (loss=0.41757): 100%|██████████| 20/20 [00:40<00:00,  2.04s/it]\n",
      "Training (3099 / 18000 Steps) (loss=0.36860): 100%|██████████| 20/20 [00:40<00:00,  2.01s/it]\n",
      "Validate (3100 / 10 Steps): 100%|██████████| 8/8 [00:31<00:00,  3.90s/it]7<?, ?it/s]\n",
      "Training (3100 / 18000 Steps) (loss=0.37273):   5%|▌         | 1/20 [00:38<12:09, 38.40s/it]"
     ]
    },
    {
     "name": "stdout",
     "output_type": "stream",
     "text": [
      "Model Was Not Saved ! Current Best Avg. Dice: 0.6325594782829285 Current Avg. Dice: 0.6141650676727295 Current Avg. tumor Dice: 0.7206389904022217 Current Avg. lymph Dice: 0.4974452555179596\n"
     ]
    },
    {
     "name": "stderr",
     "output_type": "stream",
     "text": [
      "Training (3119 / 18000 Steps) (loss=0.30218): 100%|██████████| 20/20 [01:09<00:00,  3.45s/it]\n",
      "Training (3139 / 18000 Steps) (loss=0.60193): 100%|██████████| 20/20 [00:38<00:00,  1.92s/it]\n",
      "Training (3159 / 18000 Steps) (loss=0.38981): 100%|██████████| 20/20 [00:38<00:00,  1.95s/it]\n",
      "Training (3179 / 18000 Steps) (loss=0.49658): 100%|██████████| 20/20 [00:38<00:00,  1.90s/it]\n",
      "Training (3199 / 18000 Steps) (loss=0.32723): 100%|██████████| 20/20 [00:38<00:00,  1.92s/it]\n",
      "Validate (3200 / 10 Steps): 100%|██████████| 8/8 [00:31<00:00,  3.90s/it]6<?, ?it/s]\n",
      "Training (3200 / 18000 Steps) (loss=0.48774):   5%|▌         | 1/20 [00:38<12:02, 38.05s/it]"
     ]
    },
    {
     "name": "stdout",
     "output_type": "stream",
     "text": [
      "Model Was Not Saved ! Current Best Avg. Dice: 0.6325594782829285 Current Avg. Dice: 0.6283004879951477 Current Avg. tumor Dice: 0.7251141667366028 Current Avg. lymph Dice: 0.5293998718261719\n"
     ]
    },
    {
     "name": "stderr",
     "output_type": "stream",
     "text": [
      "Training (3219 / 18000 Steps) (loss=0.33762): 100%|██████████| 20/20 [01:08<00:00,  3.43s/it]\n",
      "Training (3239 / 18000 Steps) (loss=0.66259): 100%|██████████| 20/20 [00:38<00:00,  1.94s/it]\n",
      "Training (3259 / 18000 Steps) (loss=0.50981): 100%|██████████| 20/20 [00:38<00:00,  1.95s/it]\n",
      "Training (3279 / 18000 Steps) (loss=0.41751): 100%|██████████| 20/20 [00:37<00:00,  1.90s/it]\n",
      "Training (3299 / 18000 Steps) (loss=0.23666): 100%|██████████| 20/20 [00:40<00:00,  2.02s/it]\n",
      "Validate (3300 / 10 Steps): 100%|██████████| 8/8 [00:31<00:00,  3.89s/it]7<?, ?it/s]\n",
      "Training (3300 / 18000 Steps) (loss=0.38106):   5%|▌         | 1/20 [00:38<12:12, 38.57s/it]"
     ]
    },
    {
     "name": "stdout",
     "output_type": "stream",
     "text": [
      "Model Was Not Saved ! Current Best Avg. Dice: 0.6325594782829285 Current Avg. Dice: 0.6104927062988281 Current Avg. tumor Dice: 0.7132346034049988 Current Avg. lymph Dice: 0.5025021433830261\n"
     ]
    },
    {
     "name": "stderr",
     "output_type": "stream",
     "text": [
      "Training (3319 / 18000 Steps) (loss=0.50089): 100%|██████████| 20/20 [01:09<00:00,  3.47s/it]\n",
      "Training (3339 / 18000 Steps) (loss=0.24185): 100%|██████████| 20/20 [00:38<00:00,  1.91s/it]\n",
      "Training (3359 / 18000 Steps) (loss=0.35665): 100%|██████████| 20/20 [00:40<00:00,  2.02s/it]\n",
      "Training (3379 / 18000 Steps) (loss=0.30734): 100%|██████████| 20/20 [00:38<00:00,  1.94s/it]\n",
      "Training (3399 / 18000 Steps) (loss=0.41734): 100%|██████████| 20/20 [00:39<00:00,  1.95s/it]\n",
      "Validate (3400 / 10 Steps): 100%|██████████| 8/8 [00:31<00:00,  3.89s/it]7<?, ?it/s]\n",
      "Training (3400 / 18000 Steps) (loss=0.45200):   5%|▌         | 1/20 [00:38<12:19, 38.94s/it]"
     ]
    },
    {
     "name": "stdout",
     "output_type": "stream",
     "text": [
      "Model Was Not Saved ! Current Best Avg. Dice: 0.6325594782829285 Current Avg. Dice: 0.6235735416412354 Current Avg. tumor Dice: 0.7236286401748657 Current Avg. lymph Dice: 0.5170983672142029\n"
     ]
    },
    {
     "name": "stderr",
     "output_type": "stream",
     "text": [
      "Training (3419 / 18000 Steps) (loss=0.55511): 100%|██████████| 20/20 [01:09<00:00,  3.50s/it]\n",
      "Training (3439 / 18000 Steps) (loss=0.42078): 100%|██████████| 20/20 [00:40<00:00,  2.01s/it]\n",
      "Training (3459 / 18000 Steps) (loss=0.42932): 100%|██████████| 20/20 [00:38<00:00,  1.91s/it]\n",
      "Training (3479 / 18000 Steps) (loss=0.23990): 100%|██████████| 20/20 [00:38<00:00,  1.91s/it]\n",
      "Training (3499 / 18000 Steps) (loss=0.56361): 100%|██████████| 20/20 [00:39<00:00,  1.97s/it]\n",
      "Validate (3500 / 10 Steps): 100%|██████████| 8/8 [00:31<00:00,  3.98s/it]7<?, ?it/s]\n",
      "Training (3500 / 18000 Steps) (loss=0.41265):   5%|▌         | 1/20 [00:39<12:21, 39.05s/it]"
     ]
    },
    {
     "name": "stdout",
     "output_type": "stream",
     "text": [
      "Model Was Not Saved ! Current Best Avg. Dice: 0.6325594782829285 Current Avg. Dice: 0.614919126033783 Current Avg. tumor Dice: 0.7186472415924072 Current Avg. lymph Dice: 0.49145200848579407\n"
     ]
    },
    {
     "name": "stderr",
     "output_type": "stream",
     "text": [
      "Training (3519 / 18000 Steps) (loss=0.17549): 100%|██████████| 20/20 [01:09<00:00,  3.48s/it]\n",
      "Training (3539 / 18000 Steps) (loss=0.29491): 100%|██████████| 20/20 [00:39<00:00,  1.98s/it]\n",
      "Training (3559 / 18000 Steps) (loss=0.55081): 100%|██████████| 20/20 [00:39<00:00,  1.95s/it]\n",
      "Training (3579 / 18000 Steps) (loss=0.43178): 100%|██████████| 20/20 [00:38<00:00,  1.92s/it]\n",
      "Training (3599 / 18000 Steps) (loss=0.44645): 100%|██████████| 20/20 [00:38<00:00,  1.91s/it]\n",
      "Validate (3600 / 10 Steps): 100%|██████████| 8/8 [00:31<00:00,  3.92s/it]8<?, ?it/s]\n",
      "Training (3600 / 18000 Steps) (loss=0.43632):   5%|▌         | 1/20 [00:39<12:34, 39.68s/it]"
     ]
    },
    {
     "name": "stdout",
     "output_type": "stream",
     "text": [
      "Model Was Not Saved ! Current Best Avg. Dice: 0.6325594782829285 Current Avg. Dice: 0.6244829893112183 Current Avg. tumor Dice: 0.727138876914978 Current Avg. lymph Dice: 0.5055438280105591\n"
     ]
    },
    {
     "name": "stderr",
     "output_type": "stream",
     "text": [
      "Training (3619 / 18000 Steps) (loss=0.34336): 100%|██████████| 20/20 [01:10<00:00,  3.52s/it]\n",
      "Training (3639 / 18000 Steps) (loss=0.45590): 100%|██████████| 20/20 [00:39<00:00,  1.95s/it]\n",
      "Training (3659 / 18000 Steps) (loss=0.55006): 100%|██████████| 20/20 [00:38<00:00,  1.95s/it]\n",
      "Training (3679 / 18000 Steps) (loss=0.55490): 100%|██████████| 20/20 [00:39<00:00,  1.95s/it]\n",
      "Training (3699 / 18000 Steps) (loss=0.36234): 100%|██████████| 20/20 [00:37<00:00,  1.89s/it]\n",
      "Validate (3700 / 10 Steps): 100%|██████████| 8/8 [00:31<00:00,  3.93s/it]7<?, ?it/s]\n",
      "Training (3700 / 18000 Steps) (loss=0.34511):   5%|▌         | 1/20 [00:38<12:19, 38.92s/it]"
     ]
    },
    {
     "name": "stdout",
     "output_type": "stream",
     "text": [
      "Model Was Not Saved ! Current Best Avg. Dice: 0.6325594782829285 Current Avg. Dice: 0.6183813810348511 Current Avg. tumor Dice: 0.7197390198707581 Current Avg. lymph Dice: 0.49383947253227234\n"
     ]
    },
    {
     "name": "stderr",
     "output_type": "stream",
     "text": [
      "Training (3719 / 18000 Steps) (loss=0.32865): 100%|██████████| 20/20 [01:09<00:00,  3.48s/it]\n",
      "Training (3739 / 18000 Steps) (loss=0.50980): 100%|██████████| 20/20 [00:38<00:00,  1.92s/it]\n",
      "Training (3759 / 18000 Steps) (loss=0.21578): 100%|██████████| 20/20 [00:38<00:00,  1.93s/it]\n",
      "Training (3779 / 18000 Steps) (loss=0.42634): 100%|██████████| 20/20 [00:38<00:00,  1.91s/it]\n",
      "Training (3799 / 18000 Steps) (loss=0.61270): 100%|██████████| 20/20 [00:40<00:00,  2.03s/it]\n",
      "Validate (3800 / 10 Steps): 100%|██████████| 8/8 [00:31<00:00,  3.91s/it]7<?, ?it/s]\n",
      "Training (3800 / 18000 Steps) (loss=0.41001):   5%|▌         | 1/20 [00:39<12:32, 39.60s/it]"
     ]
    },
    {
     "name": "stdout",
     "output_type": "stream",
     "text": [
      "Model Was Saved ! Current Best Avg. Dice: 0.6331673860549927 Current Avg. Dice: 0.6331673860549927 Current Avg. tumor Dice: 0.7402670383453369 Current Avg. lymph Dice: 0.5043192505836487\n"
     ]
    },
    {
     "name": "stderr",
     "output_type": "stream",
     "text": [
      "Training (3819 / 18000 Steps) (loss=0.31101): 100%|██████████| 20/20 [01:10<00:00,  3.51s/it]\n",
      "Training (3839 / 18000 Steps) (loss=0.34061): 100%|██████████| 20/20 [00:38<00:00,  1.91s/it]\n",
      "Training (3859 / 18000 Steps) (loss=0.29699): 100%|██████████| 20/20 [00:38<00:00,  1.93s/it]\n",
      "Training (3879 / 18000 Steps) (loss=0.60378): 100%|██████████| 20/20 [00:38<00:00,  1.91s/it]\n",
      "Training (3899 / 18000 Steps) (loss=0.49777): 100%|██████████| 20/20 [00:38<00:00,  1.94s/it]\n",
      "Validate (3900 / 10 Steps): 100%|██████████| 8/8 [00:30<00:00,  3.87s/it]8<?, ?it/s]\n",
      "Training (3900 / 18000 Steps) (loss=0.27349):   5%|▌         | 1/20 [00:39<12:33, 39.68s/it]"
     ]
    },
    {
     "name": "stdout",
     "output_type": "stream",
     "text": [
      "Model Was Not Saved ! Current Best Avg. Dice: 0.6331673860549927 Current Avg. Dice: 0.6297433376312256 Current Avg. tumor Dice: 0.7380063533782959 Current Avg. lymph Dice: 0.5041530132293701\n"
     ]
    },
    {
     "name": "stderr",
     "output_type": "stream",
     "text": [
      "Training (3919 / 18000 Steps) (loss=0.40667): 100%|██████████| 20/20 [01:10<00:00,  3.52s/it]\n",
      "Training (3939 / 18000 Steps) (loss=0.41953): 100%|██████████| 20/20 [00:38<00:00,  1.92s/it]\n",
      "Training (3959 / 18000 Steps) (loss=0.63995): 100%|██████████| 20/20 [00:39<00:00,  1.96s/it]\n",
      "Training (3979 / 18000 Steps) (loss=0.49428): 100%|██████████| 20/20 [00:39<00:00,  1.97s/it]\n",
      "Training (3999 / 18000 Steps) (loss=0.42098): 100%|██████████| 20/20 [00:38<00:00,  1.92s/it]\n",
      "Validate (4000 / 10 Steps): 100%|██████████| 8/8 [00:31<00:00,  3.89s/it]8<?, ?it/s]\n",
      "Training (4000 / 18000 Steps) (loss=0.49157):   5%|▌         | 1/20 [00:40<12:57, 40.91s/it]"
     ]
    },
    {
     "name": "stdout",
     "output_type": "stream",
     "text": [
      "Model Was Saved ! Current Best Avg. Dice: 0.6341495513916016 Current Avg. Dice: 0.6341495513916016 Current Avg. tumor Dice: 0.7415832877159119 Current Avg. lymph Dice: 0.5121133327484131\n"
     ]
    },
    {
     "name": "stderr",
     "output_type": "stream",
     "text": [
      "Training (4019 / 18000 Steps) (loss=0.53213): 100%|██████████| 20/20 [01:11<00:00,  3.58s/it]\n",
      "Training (4039 / 18000 Steps) (loss=0.34246): 100%|██████████| 20/20 [00:38<00:00,  1.92s/it]\n",
      "Training (4059 / 18000 Steps) (loss=0.44162): 100%|██████████| 20/20 [00:39<00:00,  1.97s/it]\n",
      "Training (4079 / 18000 Steps) (loss=0.47474): 100%|██████████| 20/20 [00:38<00:00,  1.93s/it]\n",
      "Training (4099 / 18000 Steps) (loss=0.21675): 100%|██████████| 20/20 [00:38<00:00,  1.91s/it]\n",
      "Validate (4100 / 10 Steps): 100%|██████████| 8/8 [00:31<00:00,  3.92s/it]7<?, ?it/s]\n",
      "Training (4100 / 18000 Steps) (loss=0.32917):   5%|▌         | 1/20 [00:38<12:20, 38.98s/it]"
     ]
    },
    {
     "name": "stdout",
     "output_type": "stream",
     "text": [
      "Model Was Not Saved ! Current Best Avg. Dice: 0.6341495513916016 Current Avg. Dice: 0.6012145280838013 Current Avg. tumor Dice: 0.71546471118927 Current Avg. lymph Dice: 0.45696067810058594\n"
     ]
    },
    {
     "name": "stderr",
     "output_type": "stream",
     "text": [
      "Training (4119 / 18000 Steps) (loss=0.41999): 100%|██████████| 20/20 [01:09<00:00,  3.48s/it]\n",
      "Training (4139 / 18000 Steps) (loss=0.44774): 100%|██████████| 20/20 [00:38<00:00,  1.92s/it]\n",
      "Training (4159 / 18000 Steps) (loss=0.48191): 100%|██████████| 20/20 [00:38<00:00,  1.92s/it]\n",
      "Training (4179 / 18000 Steps) (loss=0.23855): 100%|██████████| 20/20 [00:38<00:00,  1.94s/it]\n",
      "Training (4199 / 18000 Steps) (loss=0.53900): 100%|██████████| 20/20 [00:38<00:00,  1.93s/it]\n",
      "Validate (4200 / 10 Steps): 100%|██████████| 8/8 [00:31<00:00,  3.91s/it]7<?, ?it/s]\n",
      "Training (4200 / 18000 Steps) (loss=0.26429):   5%|▌         | 1/20 [00:40<12:43, 40.18s/it]"
     ]
    },
    {
     "name": "stdout",
     "output_type": "stream",
     "text": [
      "Model Was Saved ! Current Best Avg. Dice: 0.6357605457305908 Current Avg. Dice: 0.6357605457305908 Current Avg. tumor Dice: 0.7356160879135132 Current Avg. lymph Dice: 0.5134356021881104\n"
     ]
    },
    {
     "name": "stderr",
     "output_type": "stream",
     "text": [
      "Training (4219 / 18000 Steps) (loss=0.28924): 100%|██████████| 20/20 [01:10<00:00,  3.55s/it]\n",
      "Training (4239 / 18000 Steps) (loss=0.57107): 100%|██████████| 20/20 [00:38<00:00,  1.91s/it]\n",
      "Training (4259 / 18000 Steps) (loss=0.47658): 100%|██████████| 20/20 [00:38<00:00,  1.95s/it]\n",
      "Training (4279 / 18000 Steps) (loss=0.60246): 100%|██████████| 20/20 [00:40<00:00,  2.01s/it]\n",
      "Training (4299 / 18000 Steps) (loss=0.55313): 100%|██████████| 20/20 [00:37<00:00,  1.89s/it]\n",
      "Validate (4300 / 10 Steps): 100%|██████████| 8/8 [00:31<00:00,  3.92s/it]7<?, ?it/s]\n",
      "Training (4300 / 18000 Steps) (loss=0.42578):   5%|▌         | 1/20 [00:39<12:28, 39.41s/it]"
     ]
    },
    {
     "name": "stdout",
     "output_type": "stream",
     "text": [
      "Model Was Saved ! Current Best Avg. Dice: 0.6391565203666687 Current Avg. Dice: 0.6391565203666687 Current Avg. tumor Dice: 0.7471203207969666 Current Avg. lymph Dice: 0.5125847458839417\n"
     ]
    },
    {
     "name": "stderr",
     "output_type": "stream",
     "text": [
      "Training (4319 / 18000 Steps) (loss=0.39471): 100%|██████████| 20/20 [01:10<00:00,  3.51s/it]\n",
      "Training (4339 / 18000 Steps) (loss=0.30720): 100%|██████████| 20/20 [00:38<00:00,  1.93s/it]\n",
      "Training (4359 / 18000 Steps) (loss=0.29151): 100%|██████████| 20/20 [00:38<00:00,  1.92s/it]\n",
      "Training (4379 / 18000 Steps) (loss=0.32246): 100%|██████████| 20/20 [00:39<00:00,  1.99s/it]\n",
      "Training (4399 / 18000 Steps) (loss=0.31662): 100%|██████████| 20/20 [00:41<00:00,  2.06s/it]\n",
      "Validate (4400 / 10 Steps): 100%|██████████| 8/8 [00:31<00:00,  3.91s/it]7<?, ?it/s]\n",
      "Training (4400 / 18000 Steps) (loss=0.41394):   5%|▌         | 1/20 [00:40<12:41, 40.09s/it]"
     ]
    },
    {
     "name": "stdout",
     "output_type": "stream",
     "text": [
      "Model Was Saved ! Current Best Avg. Dice: 0.6417087316513062 Current Avg. Dice: 0.6417087316513062 Current Avg. tumor Dice: 0.7508307099342346 Current Avg. lymph Dice: 0.5168724060058594\n"
     ]
    },
    {
     "name": "stderr",
     "output_type": "stream",
     "text": [
      "Training (4419 / 18000 Steps) (loss=0.57254): 100%|██████████| 20/20 [01:10<00:00,  3.54s/it]\n",
      "Training (4439 / 18000 Steps) (loss=0.42923): 100%|██████████| 20/20 [00:38<00:00,  1.91s/it]\n",
      "Training (4459 / 18000 Steps) (loss=0.55947): 100%|██████████| 20/20 [00:38<00:00,  1.93s/it]\n",
      "Training (4479 / 18000 Steps) (loss=0.28233): 100%|██████████| 20/20 [00:38<00:00,  1.92s/it]\n",
      "Training (4499 / 18000 Steps) (loss=0.26215): 100%|██████████| 20/20 [00:38<00:00,  1.94s/it]\n",
      "Validate (4500 / 10 Steps): 100%|██████████| 8/8 [00:31<00:00,  3.91s/it]7<?, ?it/s]\n",
      "Training (4500 / 18000 Steps) (loss=0.44411):   5%|▌         | 1/20 [00:39<12:28, 39.37s/it]"
     ]
    },
    {
     "name": "stdout",
     "output_type": "stream",
     "text": [
      "Model Was Not Saved ! Current Best Avg. Dice: 0.6417087316513062 Current Avg. Dice: 0.631360650062561 Current Avg. tumor Dice: 0.7343397736549377 Current Avg. lymph Dice: 0.5086713433265686\n"
     ]
    },
    {
     "name": "stderr",
     "output_type": "stream",
     "text": [
      "Training (4519 / 18000 Steps) (loss=0.55795): 100%|██████████| 20/20 [01:10<00:00,  3.51s/it]\n",
      "Training (4539 / 18000 Steps) (loss=0.40577): 100%|██████████| 20/20 [00:38<00:00,  1.95s/it]\n",
      "Training (4559 / 18000 Steps) (loss=0.41505): 100%|██████████| 20/20 [00:39<00:00,  2.00s/it]\n",
      "Training (4579 / 18000 Steps) (loss=0.39317): 100%|██████████| 20/20 [00:38<00:00,  1.95s/it]\n",
      "Training (4599 / 18000 Steps) (loss=0.53515): 100%|██████████| 20/20 [00:38<00:00,  1.90s/it]\n",
      "Validate (4600 / 10 Steps): 100%|██████████| 8/8 [00:31<00:00,  3.88s/it]9<?, ?it/s]\n",
      "Training (4600 / 18000 Steps) (loss=0.49732):   5%|▌         | 1/20 [00:40<12:58, 40.98s/it]"
     ]
    },
    {
     "name": "stdout",
     "output_type": "stream",
     "text": [
      "Model Was Not Saved ! Current Best Avg. Dice: 0.6417087316513062 Current Avg. Dice: 0.6373510956764221 Current Avg. tumor Dice: 0.7433087825775146 Current Avg. lymph Dice: 0.5137504935264587\n"
     ]
    },
    {
     "name": "stderr",
     "output_type": "stream",
     "text": [
      "Training (4619 / 18000 Steps) (loss=0.50373): 100%|██████████| 20/20 [01:11<00:00,  3.59s/it]\n",
      "Training (4639 / 18000 Steps) (loss=0.37406): 100%|██████████| 20/20 [00:38<00:00,  1.94s/it]\n",
      "Training (4659 / 18000 Steps) (loss=0.19057): 100%|██████████| 20/20 [00:38<00:00,  1.90s/it]\n",
      "Training (4679 / 18000 Steps) (loss=0.28563): 100%|██████████| 20/20 [00:38<00:00,  1.92s/it]\n",
      "Training (4699 / 18000 Steps) (loss=0.30990): 100%|██████████| 20/20 [00:38<00:00,  1.94s/it]\n",
      "Validate (4700 / 10 Steps): 100%|██████████| 8/8 [00:31<00:00,  3.92s/it]6<?, ?it/s]\n",
      "Training (4700 / 18000 Steps) (loss=0.41360):   5%|▌         | 1/20 [00:38<12:09, 38.40s/it]"
     ]
    },
    {
     "name": "stdout",
     "output_type": "stream",
     "text": [
      "Model Was Not Saved ! Current Best Avg. Dice: 0.6417087316513062 Current Avg. Dice: 0.6258280277252197 Current Avg. tumor Dice: 0.7389265298843384 Current Avg. lymph Dice: 0.49066776037216187\n"
     ]
    },
    {
     "name": "stderr",
     "output_type": "stream",
     "text": [
      "Training (4719 / 18000 Steps) (loss=0.54244): 100%|██████████| 20/20 [01:09<00:00,  3.47s/it]\n",
      "Training (4739 / 18000 Steps) (loss=0.36424): 100%|██████████| 20/20 [00:39<00:00,  2.00s/it]\n",
      "Training (4759 / 18000 Steps) (loss=0.33339): 100%|██████████| 20/20 [00:40<00:00,  2.04s/it]\n",
      "Training (4779 / 18000 Steps) (loss=0.54114): 100%|██████████| 20/20 [00:38<00:00,  1.90s/it]\n",
      "Training (4799 / 18000 Steps) (loss=0.42558): 100%|██████████| 20/20 [00:39<00:00,  1.95s/it]\n",
      "Validate (4800 / 10 Steps): 100%|██████████| 8/8 [00:31<00:00,  3.90s/it]7<?, ?it/s]\n",
      "Training (4800 / 18000 Steps) (loss=0.31913):   5%|▌         | 1/20 [00:39<12:39, 39.99s/it]"
     ]
    },
    {
     "name": "stdout",
     "output_type": "stream",
     "text": [
      "Model Was Saved ! Current Best Avg. Dice: 0.6417623162269592 Current Avg. Dice: 0.6417623162269592 Current Avg. tumor Dice: 0.7519950270652771 Current Avg. lymph Dice: 0.5147213339805603\n"
     ]
    },
    {
     "name": "stderr",
     "output_type": "stream",
     "text": [
      "Training (4819 / 18000 Steps) (loss=0.30723): 100%|██████████| 20/20 [01:10<00:00,  3.54s/it]\n",
      "Training (4839 / 18000 Steps) (loss=0.36954): 100%|██████████| 20/20 [00:38<00:00,  1.94s/it]\n",
      "Training (4859 / 18000 Steps) (loss=0.34219): 100%|██████████| 20/20 [00:38<00:00,  1.92s/it]\n",
      "Training (4879 / 18000 Steps) (loss=0.42950): 100%|██████████| 20/20 [00:38<00:00,  1.94s/it]\n",
      "Training (4899 / 18000 Steps) (loss=0.36314): 100%|██████████| 20/20 [00:39<00:00,  1.95s/it]\n",
      "Validate (4900 / 10 Steps): 100%|██████████| 8/8 [00:31<00:00,  3.92s/it]7<?, ?it/s]\n",
      "Training (4900 / 18000 Steps) (loss=0.34057):   5%|▌         | 1/20 [00:38<12:15, 38.70s/it]"
     ]
    },
    {
     "name": "stdout",
     "output_type": "stream",
     "text": [
      "Model Was Not Saved ! Current Best Avg. Dice: 0.6417623162269592 Current Avg. Dice: 0.6165311336517334 Current Avg. tumor Dice: 0.730304479598999 Current Avg. lymph Dice: 0.473580539226532\n"
     ]
    },
    {
     "name": "stderr",
     "output_type": "stream",
     "text": [
      "Training (4919 / 18000 Steps) (loss=0.44123): 100%|██████████| 20/20 [01:10<00:00,  3.50s/it]\n",
      "Training (4939 / 18000 Steps) (loss=0.49189): 100%|██████████| 20/20 [00:38<00:00,  1.95s/it]\n",
      "Training (4959 / 18000 Steps) (loss=0.47873): 100%|██████████| 20/20 [00:38<00:00,  1.93s/it]\n",
      "Training (4979 / 18000 Steps) (loss=0.36887): 100%|██████████| 20/20 [00:38<00:00,  1.93s/it]\n",
      "Training (4999 / 18000 Steps) (loss=0.45435): 100%|██████████| 20/20 [00:38<00:00,  1.94s/it]\n",
      "Validate (5000 / 10 Steps): 100%|██████████| 8/8 [00:31<00:00,  3.91s/it]7<?, ?it/s]\n",
      "Training (5000 / 18000 Steps) (loss=0.33535):   5%|▌         | 1/20 [00:38<12:10, 38.47s/it]"
     ]
    },
    {
     "name": "stdout",
     "output_type": "stream",
     "text": [
      "Model Was Not Saved ! Current Best Avg. Dice: 0.6417623162269592 Current Avg. Dice: 0.640842616558075 Current Avg. tumor Dice: 0.7456148862838745 Current Avg. lymph Dice: 0.5135636329650879\n"
     ]
    },
    {
     "name": "stderr",
     "output_type": "stream",
     "text": [
      "Training (5019 / 18000 Steps) (loss=0.44862): 100%|██████████| 20/20 [01:09<00:00,  3.47s/it]\n",
      "Training (5039 / 18000 Steps) (loss=0.27521): 100%|██████████| 20/20 [00:38<00:00,  1.95s/it]\n",
      "Training (5059 / 18000 Steps) (loss=0.41007): 100%|██████████| 20/20 [00:38<00:00,  1.93s/it]\n",
      "Training (5079 / 18000 Steps) (loss=0.31127): 100%|██████████| 20/20 [00:38<00:00,  1.94s/it]\n",
      "Training (5099 / 18000 Steps) (loss=0.27710): 100%|██████████| 20/20 [00:38<00:00,  1.94s/it]\n",
      "Validate (5100 / 10 Steps): 100%|██████████| 8/8 [00:31<00:00,  3.89s/it]7<?, ?it/s]\n",
      "Training (5100 / 18000 Steps) (loss=0.49601):   5%|▌         | 1/20 [00:38<12:11, 38.49s/it]"
     ]
    },
    {
     "name": "stdout",
     "output_type": "stream",
     "text": [
      "Model Was Not Saved ! Current Best Avg. Dice: 0.6417623162269592 Current Avg. Dice: 0.628986656665802 Current Avg. tumor Dice: 0.7367092370986938 Current Avg. lymph Dice: 0.4981139004230499\n"
     ]
    },
    {
     "name": "stderr",
     "output_type": "stream",
     "text": [
      "Training (5119 / 18000 Steps) (loss=0.33658): 100%|██████████| 20/20 [01:09<00:00,  3.47s/it]\n",
      "Training (5139 / 18000 Steps) (loss=0.34162): 100%|██████████| 20/20 [00:38<00:00,  1.91s/it]\n",
      "Training (5159 / 18000 Steps) (loss=0.35268): 100%|██████████| 20/20 [00:39<00:00,  1.99s/it]\n",
      "Training (5179 / 18000 Steps) (loss=0.35798): 100%|██████████| 20/20 [00:40<00:00,  2.01s/it]\n",
      "Training (5199 / 18000 Steps) (loss=0.21677): 100%|██████████| 20/20 [00:39<00:00,  1.96s/it]\n",
      "Validate (5200 / 10 Steps): 100%|██████████| 8/8 [00:30<00:00,  3.87s/it]7<?, ?it/s]\n",
      "Training (5200 / 18000 Steps) (loss=0.46972):   5%|▌         | 1/20 [00:39<12:37, 39.86s/it]"
     ]
    },
    {
     "name": "stdout",
     "output_type": "stream",
     "text": [
      "Model Was Saved ! Current Best Avg. Dice: 0.6419901251792908 Current Avg. Dice: 0.6419901251792908 Current Avg. tumor Dice: 0.7496114373207092 Current Avg. lymph Dice: 0.5158523917198181\n"
     ]
    },
    {
     "name": "stderr",
     "output_type": "stream",
     "text": [
      "Training (5219 / 18000 Steps) (loss=0.49031): 100%|██████████| 20/20 [01:10<00:00,  3.54s/it]\n",
      "Training (5239 / 18000 Steps) (loss=0.31534): 100%|██████████| 20/20 [00:38<00:00,  1.94s/it]\n",
      "Training (5259 / 18000 Steps) (loss=0.29289): 100%|██████████| 20/20 [00:38<00:00,  1.94s/it]\n",
      "Training (5279 / 18000 Steps) (loss=0.42799): 100%|██████████| 20/20 [00:39<00:00,  1.97s/it]\n",
      "Training (5299 / 18000 Steps) (loss=0.53068): 100%|██████████| 20/20 [00:38<00:00,  1.92s/it]\n",
      "Validate (5300 / 10 Steps): 100%|██████████| 8/8 [00:31<00:00,  3.93s/it]6<?, ?it/s]\n",
      "Training (5300 / 18000 Steps) (loss=0.43669):   5%|▌         | 1/20 [00:39<12:24, 39.16s/it]"
     ]
    },
    {
     "name": "stdout",
     "output_type": "stream",
     "text": [
      "Model Was Saved ! Current Best Avg. Dice: 0.6473864316940308 Current Avg. Dice: 0.6473864316940308 Current Avg. tumor Dice: 0.7508445978164673 Current Avg. lymph Dice: 0.522915244102478\n"
     ]
    },
    {
     "name": "stderr",
     "output_type": "stream",
     "text": [
      "Training (5319 / 18000 Steps) (loss=0.46480): 100%|██████████| 20/20 [01:10<00:00,  3.52s/it]\n",
      "Training (5339 / 18000 Steps) (loss=0.36179): 100%|██████████| 20/20 [00:38<00:00,  1.95s/it]\n",
      "Training (5359 / 18000 Steps) (loss=0.34009): 100%|██████████| 20/20 [00:38<00:00,  1.94s/it]\n",
      "Training (5379 / 18000 Steps) (loss=0.36955): 100%|██████████| 20/20 [00:38<00:00,  1.93s/it]\n",
      "Training (5399 / 18000 Steps) (loss=0.30341): 100%|██████████| 20/20 [00:38<00:00,  1.92s/it]\n",
      "Validate (5400 / 10 Steps): 100%|██████████| 8/8 [00:31<00:00,  3.90s/it]9<?, ?it/s]\n",
      "Training (5400 / 18000 Steps) (loss=0.49708):   5%|▌         | 1/20 [00:41<13:00, 41.11s/it]"
     ]
    },
    {
     "name": "stdout",
     "output_type": "stream",
     "text": [
      "Model Was Not Saved ! Current Best Avg. Dice: 0.6473864316940308 Current Avg. Dice: 0.6391018033027649 Current Avg. tumor Dice: 0.7454937100410461 Current Avg. lymph Dice: 0.5155580043792725\n"
     ]
    },
    {
     "name": "stderr",
     "output_type": "stream",
     "text": [
      "Training (5419 / 18000 Steps) (loss=0.30476): 100%|██████████| 20/20 [01:12<00:00,  3.61s/it]\n",
      "Training (5439 / 18000 Steps) (loss=0.28554): 100%|██████████| 20/20 [00:38<00:00,  1.94s/it]\n",
      "Training (5459 / 18000 Steps) (loss=0.41158): 100%|██████████| 20/20 [00:38<00:00,  1.94s/it]\n",
      "Training (5479 / 18000 Steps) (loss=0.19767): 100%|██████████| 20/20 [00:39<00:00,  1.95s/it]\n",
      "Training (5499 / 18000 Steps) (loss=0.58410): 100%|██████████| 20/20 [00:38<00:00,  1.92s/it]\n",
      "Validate (5500 / 10 Steps): 100%|██████████| 8/8 [00:31<00:00,  3.95s/it]7<?, ?it/s]\n",
      "Training (5500 / 18000 Steps) (loss=0.57374):   5%|▌         | 1/20 [00:39<12:23, 39.11s/it]"
     ]
    },
    {
     "name": "stdout",
     "output_type": "stream",
     "text": [
      "Model Was Not Saved ! Current Best Avg. Dice: 0.6473864316940308 Current Avg. Dice: 0.5979045033454895 Current Avg. tumor Dice: 0.7064529061317444 Current Avg. lymph Dice: 0.4562816917896271\n"
     ]
    },
    {
     "name": "stderr",
     "output_type": "stream",
     "text": [
      "Training (5519 / 18000 Steps) (loss=0.17837): 100%|██████████| 20/20 [01:09<00:00,  3.49s/it]\n",
      "Training (5539 / 18000 Steps) (loss=0.41113): 100%|██████████| 20/20 [00:39<00:00,  1.98s/it]\n",
      "Training (5559 / 18000 Steps) (loss=0.47697): 100%|██████████| 20/20 [00:39<00:00,  1.95s/it]\n",
      "Training (5579 / 18000 Steps) (loss=0.52956): 100%|██████████| 20/20 [00:39<00:00,  1.95s/it]\n",
      "Training (5599 / 18000 Steps) (loss=0.27743): 100%|██████████| 20/20 [00:39<00:00,  1.98s/it]\n",
      "Validate (5600 / 10 Steps): 100%|██████████| 8/8 [00:31<00:00,  3.92s/it]7<?, ?it/s]\n",
      "Training (5600 / 18000 Steps) (loss=0.34132):   5%|▌         | 1/20 [00:39<12:29, 39.45s/it]"
     ]
    },
    {
     "name": "stdout",
     "output_type": "stream",
     "text": [
      "Model Was Not Saved ! Current Best Avg. Dice: 0.6473864316940308 Current Avg. Dice: 0.609844446182251 Current Avg. tumor Dice: 0.6988121271133423 Current Avg. lymph Dice: 0.5013387203216553\n"
     ]
    },
    {
     "name": "stderr",
     "output_type": "stream",
     "text": [
      "Training (5619 / 18000 Steps) (loss=0.42585): 100%|██████████| 20/20 [01:10<00:00,  3.51s/it]\n",
      "Training (5639 / 18000 Steps) (loss=0.29901): 100%|██████████| 20/20 [00:38<00:00,  1.93s/it]\n",
      "Training (5659 / 18000 Steps) (loss=0.14775): 100%|██████████| 20/20 [00:37<00:00,  1.89s/it]\n",
      "Training (5679 / 18000 Steps) (loss=0.49469): 100%|██████████| 20/20 [00:39<00:00,  1.97s/it]\n",
      "Training (5699 / 18000 Steps) (loss=0.41290): 100%|██████████| 20/20 [00:38<00:00,  1.91s/it]\n",
      "Validate (5700 / 10 Steps): 100%|██████████| 8/8 [00:31<00:00,  3.90s/it]7<?, ?it/s]\n",
      "Training (5700 / 18000 Steps) (loss=0.39119):   5%|▌         | 1/20 [00:39<12:22, 39.07s/it]"
     ]
    },
    {
     "name": "stdout",
     "output_type": "stream",
     "text": [
      "Model Was Not Saved ! Current Best Avg. Dice: 0.6473864316940308 Current Avg. Dice: 0.6271129250526428 Current Avg. tumor Dice: 0.7308353185653687 Current Avg. lymph Dice: 0.49998247623443604\n"
     ]
    },
    {
     "name": "stderr",
     "output_type": "stream",
     "text": [
      "Training (5719 / 18000 Steps) (loss=0.41446): 100%|██████████| 20/20 [01:09<00:00,  3.49s/it]\n",
      "Training (5739 / 18000 Steps) (loss=0.31230): 100%|██████████| 20/20 [00:39<00:00,  1.96s/it]\n",
      "Training (5759 / 18000 Steps) (loss=0.40943): 100%|██████████| 20/20 [00:39<00:00,  1.98s/it]\n",
      "Training (5779 / 18000 Steps) (loss=0.31646): 100%|██████████| 20/20 [00:37<00:00,  1.90s/it]\n",
      "Training (5799 / 18000 Steps) (loss=0.54652): 100%|██████████| 20/20 [00:38<00:00,  1.94s/it]\n",
      "Validate (5800 / 10 Steps): 100%|██████████| 8/8 [00:31<00:00,  3.94s/it]6<?, ?it/s]\n",
      "Training (5800 / 18000 Steps) (loss=0.29638):   5%|▌         | 1/20 [00:38<12:10, 38.46s/it]"
     ]
    },
    {
     "name": "stdout",
     "output_type": "stream",
     "text": [
      "Model Was Not Saved ! Current Best Avg. Dice: 0.6473864316940308 Current Avg. Dice: 0.6236549615859985 Current Avg. tumor Dice: 0.7271977066993713 Current Avg. lymph Dice: 0.49775853753089905\n"
     ]
    },
    {
     "name": "stderr",
     "output_type": "stream",
     "text": [
      "Training (5819 / 18000 Steps) (loss=0.41052): 100%|██████████| 20/20 [01:09<00:00,  3.46s/it]\n",
      "Training (5839 / 18000 Steps) (loss=0.35681): 100%|██████████| 20/20 [00:38<00:00,  1.94s/it]\n",
      "Training (5859 / 18000 Steps) (loss=0.42615): 100%|██████████| 20/20 [00:38<00:00,  1.93s/it]\n",
      "Training (5879 / 18000 Steps) (loss=0.24172): 100%|██████████| 20/20 [00:38<00:00,  1.95s/it]\n",
      "Training (5899 / 18000 Steps) (loss=0.53417): 100%|██████████| 20/20 [00:38<00:00,  1.91s/it]\n",
      "Validate (5900 / 10 Steps): 100%|██████████| 8/8 [00:31<00:00,  3.93s/it]7<?, ?it/s]\n",
      "Training (5900 / 18000 Steps) (loss=0.39131):   5%|▌         | 1/20 [00:38<12:14, 38.65s/it]"
     ]
    },
    {
     "name": "stdout",
     "output_type": "stream",
     "text": [
      "Model Was Not Saved ! Current Best Avg. Dice: 0.6473864316940308 Current Avg. Dice: 0.6160525679588318 Current Avg. tumor Dice: 0.7264899015426636 Current Avg. lymph Dice: 0.48527878522872925\n"
     ]
    },
    {
     "name": "stderr",
     "output_type": "stream",
     "text": [
      "Training (5919 / 18000 Steps) (loss=0.20917): 100%|██████████| 20/20 [01:09<00:00,  3.47s/it]\n",
      "Training (5939 / 18000 Steps) (loss=0.30627): 100%|██████████| 20/20 [00:39<00:00,  1.96s/it]\n",
      "Training (5959 / 18000 Steps) (loss=0.62446): 100%|██████████| 20/20 [00:38<00:00,  1.90s/it]\n",
      "Training (5979 / 18000 Steps) (loss=0.23570): 100%|██████████| 20/20 [00:38<00:00,  1.94s/it]\n",
      "Training (5999 / 18000 Steps) (loss=0.34916): 100%|██████████| 20/20 [00:38<00:00,  1.91s/it]\n",
      "Validate (6000 / 10 Steps): 100%|██████████| 8/8 [00:31<00:00,  3.93s/it]8<?, ?it/s]\n",
      "Training (6000 / 18000 Steps) (loss=0.36140):   5%|▌         | 1/20 [00:40<12:40, 40.04s/it]"
     ]
    },
    {
     "name": "stdout",
     "output_type": "stream",
     "text": [
      "Model Was Not Saved ! Current Best Avg. Dice: 0.6473864316940308 Current Avg. Dice: 0.6274304986000061 Current Avg. tumor Dice: 0.7338293790817261 Current Avg. lymph Dice: 0.495527446269989\n"
     ]
    },
    {
     "name": "stderr",
     "output_type": "stream",
     "text": [
      "Training (6019 / 18000 Steps) (loss=0.26629): 100%|██████████| 20/20 [01:10<00:00,  3.54s/it]\n",
      "Training (6039 / 18000 Steps) (loss=0.18755): 100%|██████████| 20/20 [00:40<00:00,  2.05s/it]\n",
      "Training (6059 / 18000 Steps) (loss=0.30399): 100%|██████████| 20/20 [00:38<00:00,  1.90s/it]\n",
      "Training (6079 / 18000 Steps) (loss=0.25627): 100%|██████████| 20/20 [00:38<00:00,  1.92s/it]\n",
      "Training (6099 / 18000 Steps) (loss=0.34948): 100%|██████████| 20/20 [00:38<00:00,  1.91s/it]\n",
      "Validate (6100 / 10 Steps): 100%|██████████| 8/8 [00:31<00:00,  3.96s/it]7<?, ?it/s]\n",
      "Training (6100 / 18000 Steps) (loss=0.40106):   5%|▌         | 1/20 [00:39<12:25, 39.22s/it]"
     ]
    },
    {
     "name": "stdout",
     "output_type": "stream",
     "text": [
      "Model Was Not Saved ! Current Best Avg. Dice: 0.6473864316940308 Current Avg. Dice: 0.6369816660881042 Current Avg. tumor Dice: 0.7441669702529907 Current Avg. lymph Dice: 0.5071508884429932\n"
     ]
    },
    {
     "name": "stderr",
     "output_type": "stream",
     "text": [
      "Training (6119 / 18000 Steps) (loss=0.33948): 100%|██████████| 20/20 [01:09<00:00,  3.50s/it]\n",
      "Training (6139 / 18000 Steps) (loss=0.32297): 100%|██████████| 20/20 [00:38<00:00,  1.92s/it]\n",
      "Training (6159 / 18000 Steps) (loss=0.16437): 100%|██████████| 20/20 [00:38<00:00,  1.91s/it]\n",
      "Training (6179 / 18000 Steps) (loss=0.40725): 100%|██████████| 20/20 [00:38<00:00,  1.95s/it]\n",
      "Training (6199 / 18000 Steps) (loss=0.29564): 100%|██████████| 20/20 [00:38<00:00,  1.94s/it]\n",
      "Validate (6200 / 10 Steps): 100%|██████████| 8/8 [00:31<00:00,  3.98s/it]8<?, ?it/s]\n",
      "Training (6200 / 18000 Steps) (loss=0.38781):   5%|▌         | 1/20 [00:40<12:51, 40.58s/it]"
     ]
    },
    {
     "name": "stdout",
     "output_type": "stream",
     "text": [
      "Model Was Not Saved ! Current Best Avg. Dice: 0.6473864316940308 Current Avg. Dice: 0.6209659576416016 Current Avg. tumor Dice: 0.7329036593437195 Current Avg. lymph Dice: 0.48542073369026184\n"
     ]
    },
    {
     "name": "stderr",
     "output_type": "stream",
     "text": [
      "Training (6219 / 18000 Steps) (loss=0.43361): 100%|██████████| 20/20 [01:11<00:00,  3.57s/it]\n",
      "Training (6239 / 18000 Steps) (loss=0.56625): 100%|██████████| 20/20 [00:38<00:00,  1.92s/it]\n",
      "Training (6259 / 18000 Steps) (loss=0.40633): 100%|██████████| 20/20 [00:38<00:00,  1.93s/it]\n",
      "Training (6279 / 18000 Steps) (loss=0.53706): 100%|██████████| 20/20 [00:38<00:00,  1.93s/it]\n",
      "Training (6299 / 18000 Steps) (loss=0.42063): 100%|██████████| 20/20 [00:39<00:00,  1.98s/it]\n",
      "Validate (6300 / 10 Steps): 100%|██████████| 8/8 [00:31<00:00,  3.97s/it]6<?, ?it/s]\n",
      "Training (6300 / 18000 Steps) (loss=0.47758):   5%|▌         | 1/20 [00:38<12:11, 38.49s/it]"
     ]
    },
    {
     "name": "stdout",
     "output_type": "stream",
     "text": [
      "Model Was Not Saved ! Current Best Avg. Dice: 0.6473864316940308 Current Avg. Dice: 0.6163454055786133 Current Avg. tumor Dice: 0.7182438969612122 Current Avg. lymph Dice: 0.4830743372440338\n"
     ]
    },
    {
     "name": "stderr",
     "output_type": "stream",
     "text": [
      "Training (6319 / 18000 Steps) (loss=0.21536): 100%|██████████| 20/20 [01:08<00:00,  3.44s/it]\n",
      "Training (6339 / 18000 Steps) (loss=0.55030): 100%|██████████| 20/20 [00:37<00:00,  1.88s/it]\n",
      "Training (6359 / 18000 Steps) (loss=0.28505): 100%|██████████| 20/20 [00:37<00:00,  1.87s/it]\n",
      "Training (6379 / 18000 Steps) (loss=0.30508): 100%|██████████| 20/20 [00:38<00:00,  1.90s/it]\n",
      "Training (6399 / 18000 Steps) (loss=0.41425): 100%|██████████| 20/20 [00:37<00:00,  1.87s/it]\n",
      "Validate (6400 / 10 Steps): 100%|██████████| 8/8 [00:31<00:00,  3.95s/it]7<?, ?it/s]\n",
      "Training (6400 / 18000 Steps) (loss=0.22348):   5%|▌         | 1/20 [00:39<12:32, 39.59s/it]"
     ]
    },
    {
     "name": "stdout",
     "output_type": "stream",
     "text": [
      "Model Was Not Saved ! Current Best Avg. Dice: 0.6473864316940308 Current Avg. Dice: 0.6415669918060303 Current Avg. tumor Dice: 0.7482887506484985 Current Avg. lymph Dice: 0.517845094203949\n"
     ]
    },
    {
     "name": "stderr",
     "output_type": "stream",
     "text": [
      "Training (6419 / 18000 Steps) (loss=0.27751): 100%|██████████| 20/20 [01:10<00:00,  3.50s/it]\n",
      "Training (6439 / 18000 Steps) (loss=0.47070): 100%|██████████| 20/20 [00:39<00:00,  1.97s/it]\n",
      "Training (6459 / 18000 Steps) (loss=0.48346): 100%|██████████| 20/20 [00:37<00:00,  1.86s/it]\n",
      "Training (6479 / 18000 Steps) (loss=0.35202): 100%|██████████| 20/20 [00:38<00:00,  1.94s/it]\n",
      "Training (6499 / 18000 Steps) (loss=0.41201): 100%|██████████| 20/20 [00:38<00:00,  1.93s/it]\n",
      "Validate (6500 / 10 Steps): 100%|██████████| 8/8 [00:31<00:00,  3.92s/it]7<?, ?it/s]\n",
      "Training (6500 / 18000 Steps) (loss=0.42932):   5%|▌         | 1/20 [00:38<12:14, 38.66s/it]"
     ]
    },
    {
     "name": "stdout",
     "output_type": "stream",
     "text": [
      "Model Was Not Saved ! Current Best Avg. Dice: 0.6473864316940308 Current Avg. Dice: 0.6296900510787964 Current Avg. tumor Dice: 0.7263427972793579 Current Avg. lymph Dice: 0.504330039024353\n"
     ]
    },
    {
     "name": "stderr",
     "output_type": "stream",
     "text": [
      "Training (6519 / 18000 Steps) (loss=0.54366): 100%|██████████| 20/20 [01:09<00:00,  3.45s/it]\n",
      "Training (6539 / 18000 Steps) (loss=0.50400): 100%|██████████| 20/20 [00:38<00:00,  1.90s/it]\n",
      "Training (6559 / 18000 Steps) (loss=0.59882): 100%|██████████| 20/20 [00:37<00:00,  1.88s/it]\n",
      "Training (6579 / 18000 Steps) (loss=0.46886): 100%|██████████| 20/20 [00:37<00:00,  1.90s/it]\n",
      "Training (6599 / 18000 Steps) (loss=0.42268): 100%|██████████| 20/20 [00:38<00:00,  1.90s/it]\n",
      "Validate (6600 / 10 Steps): 100%|██████████| 8/8 [00:31<00:00,  3.95s/it]6<?, ?it/s]\n",
      "Training (6600 / 18000 Steps) (loss=0.20959):   5%|▌         | 1/20 [00:38<12:09, 38.40s/it]"
     ]
    },
    {
     "name": "stdout",
     "output_type": "stream",
     "text": [
      "Model Was Not Saved ! Current Best Avg. Dice: 0.6473864316940308 Current Avg. Dice: 0.6430162787437439 Current Avg. tumor Dice: 0.7396208047866821 Current Avg. lymph Dice: 0.5266496539115906\n"
     ]
    },
    {
     "name": "stderr",
     "output_type": "stream",
     "text": [
      "Training (6619 / 18000 Steps) (loss=0.31035): 100%|██████████| 20/20 [01:08<00:00,  3.45s/it]\n",
      "Training (6639 / 18000 Steps) (loss=0.50595): 100%|██████████| 20/20 [00:38<00:00,  1.92s/it]\n",
      "Training (6659 / 18000 Steps) (loss=0.42301): 100%|██████████| 20/20 [00:37<00:00,  1.88s/it]\n",
      "Training (6679 / 18000 Steps) (loss=0.40458): 100%|██████████| 20/20 [00:38<00:00,  1.91s/it]\n",
      "Training (6699 / 18000 Steps) (loss=0.48430): 100%|██████████| 20/20 [00:37<00:00,  1.86s/it]\n",
      "Validate (6700 / 10 Steps): 100%|██████████| 8/8 [00:31<00:00,  3.89s/it]9<?, ?it/s]\n",
      "Training (6700 / 18000 Steps) (loss=0.39556):   5%|▌         | 1/20 [00:41<12:59, 41.05s/it]"
     ]
    },
    {
     "name": "stdout",
     "output_type": "stream",
     "text": [
      "Model Was Not Saved ! Current Best Avg. Dice: 0.6473864316940308 Current Avg. Dice: 0.6305410861968994 Current Avg. tumor Dice: 0.725622296333313 Current Avg. lymph Dice: 0.5147156715393066\n"
     ]
    },
    {
     "name": "stderr",
     "output_type": "stream",
     "text": [
      "Training (6719 / 18000 Steps) (loss=0.39995): 100%|██████████| 20/20 [01:11<00:00,  3.57s/it]\n",
      "Training (6739 / 18000 Steps) (loss=0.42101): 100%|██████████| 20/20 [00:39<00:00,  1.99s/it]\n",
      "Training (6759 / 18000 Steps) (loss=0.42937): 100%|██████████| 20/20 [00:37<00:00,  1.89s/it]\n",
      "Training (6779 / 18000 Steps) (loss=0.50872): 100%|██████████| 20/20 [00:38<00:00,  1.91s/it]\n",
      "Training (6799 / 18000 Steps) (loss=0.42641): 100%|██████████| 20/20 [00:37<00:00,  1.89s/it]\n",
      "Validate (6800 / 10 Steps): 100%|██████████| 8/8 [00:31<00:00,  3.89s/it]8<?, ?it/s]\n",
      "Training (6800 / 18000 Steps) (loss=0.35437):   5%|▌         | 1/20 [00:39<12:31, 39.58s/it]"
     ]
    },
    {
     "name": "stdout",
     "output_type": "stream",
     "text": [
      "Model Was Not Saved ! Current Best Avg. Dice: 0.6473864316940308 Current Avg. Dice: 0.6297118067741394 Current Avg. tumor Dice: 0.7345089316368103 Current Avg. lymph Dice: 0.5078691244125366\n"
     ]
    },
    {
     "name": "stderr",
     "output_type": "stream",
     "text": [
      "Training (6819 / 18000 Steps) (loss=0.29287): 100%|██████████| 20/20 [01:09<00:00,  3.49s/it]\n",
      "Training (6839 / 18000 Steps) (loss=0.29049): 100%|██████████| 20/20 [00:38<00:00,  1.95s/it]\n",
      "Training (6859 / 18000 Steps) (loss=0.46108): 100%|██████████| 20/20 [00:37<00:00,  1.89s/it]\n",
      "Training (6879 / 18000 Steps) (loss=0.29090): 100%|██████████| 20/20 [00:37<00:00,  1.87s/it]\n",
      "Training (6899 / 18000 Steps) (loss=0.26679): 100%|██████████| 20/20 [00:39<00:00,  1.98s/it]\n",
      "Validate (6900 / 10 Steps): 100%|██████████| 8/8 [00:31<00:00,  3.97s/it]6<?, ?it/s]\n",
      "Training (6900 / 18000 Steps) (loss=0.39865):   5%|▌         | 1/20 [00:38<12:09, 38.40s/it]"
     ]
    },
    {
     "name": "stdout",
     "output_type": "stream",
     "text": [
      "Model Was Not Saved ! Current Best Avg. Dice: 0.6473864316940308 Current Avg. Dice: 0.6186329126358032 Current Avg. tumor Dice: 0.7216206192970276 Current Avg. lymph Dice: 0.4995401203632355\n"
     ]
    },
    {
     "name": "stderr",
     "output_type": "stream",
     "text": [
      "Training (6919 / 18000 Steps) (loss=0.59968): 100%|██████████| 20/20 [01:09<00:00,  3.46s/it]\n",
      "Training (6939 / 18000 Steps) (loss=0.54553): 100%|██████████| 20/20 [00:37<00:00,  1.87s/it]\n",
      "Training (6959 / 18000 Steps) (loss=0.28336): 100%|██████████| 20/20 [00:37<00:00,  1.89s/it]\n",
      "Training (6979 / 18000 Steps) (loss=0.41984): 100%|██████████| 20/20 [00:39<00:00,  1.99s/it]\n",
      "Training (6999 / 18000 Steps) (loss=0.46578): 100%|██████████| 20/20 [00:38<00:00,  1.90s/it]\n",
      "Validate (7000 / 10 Steps): 100%|██████████| 8/8 [00:31<00:00,  3.88s/it]7<?, ?it/s]\n",
      "Training (7000 / 18000 Steps) (loss=0.21730):   5%|▌         | 1/20 [00:38<12:08, 38.33s/it]"
     ]
    },
    {
     "name": "stdout",
     "output_type": "stream",
     "text": [
      "Model Was Not Saved ! Current Best Avg. Dice: 0.6473864316940308 Current Avg. Dice: 0.6169707179069519 Current Avg. tumor Dice: 0.7251754403114319 Current Avg. lymph Dice: 0.48089855909347534\n"
     ]
    },
    {
     "name": "stderr",
     "output_type": "stream",
     "text": [
      "Training (7019 / 18000 Steps) (loss=0.35932): 100%|██████████| 20/20 [01:08<00:00,  3.45s/it]\n",
      "Training (7039 / 18000 Steps) (loss=0.31263): 100%|██████████| 20/20 [00:38<00:00,  1.92s/it]\n",
      "Training (7059 / 18000 Steps) (loss=0.53242): 100%|██████████| 20/20 [00:38<00:00,  1.91s/it]\n",
      "Training (7079 / 18000 Steps) (loss=0.42160): 100%|██████████| 20/20 [00:40<00:00,  2.03s/it]\n",
      "Training (7099 / 18000 Steps) (loss=0.52542): 100%|██████████| 20/20 [00:38<00:00,  1.91s/it]\n",
      "Validate (7100 / 10 Steps): 100%|██████████| 8/8 [00:31<00:00,  3.91s/it]6<?, ?it/s]\n",
      "Training (7100 / 18000 Steps) (loss=0.41271):   5%|▌         | 1/20 [00:38<12:03, 38.10s/it]"
     ]
    },
    {
     "name": "stdout",
     "output_type": "stream",
     "text": [
      "Model Was Not Saved ! Current Best Avg. Dice: 0.6473864316940308 Current Avg. Dice: 0.6465826034545898 Current Avg. tumor Dice: 0.751783013343811 Current Avg. lymph Dice: 0.5193213820457458\n"
     ]
    },
    {
     "name": "stderr",
     "output_type": "stream",
     "text": [
      "Training (7119 / 18000 Steps) (loss=0.40812): 100%|██████████| 20/20 [01:08<00:00,  3.43s/it]\n",
      "Training (7139 / 18000 Steps) (loss=0.30228): 100%|██████████| 20/20 [00:39<00:00,  1.97s/it]\n",
      "Training (7159 / 18000 Steps) (loss=0.44343): 100%|██████████| 20/20 [00:36<00:00,  1.84s/it]\n",
      "Training (7179 / 18000 Steps) (loss=0.33483): 100%|██████████| 20/20 [00:38<00:00,  1.92s/it]\n",
      "Training (7199 / 18000 Steps) (loss=0.42578): 100%|██████████| 20/20 [00:37<00:00,  1.86s/it]\n",
      "Validate (7200 / 10 Steps): 100%|██████████| 8/8 [00:30<00:00,  3.87s/it]8<?, ?it/s]\n",
      "Training (7200 / 18000 Steps) (loss=0.37975):   5%|▌         | 1/20 [00:39<12:25, 39.23s/it]"
     ]
    },
    {
     "name": "stdout",
     "output_type": "stream",
     "text": [
      "Model Was Not Saved ! Current Best Avg. Dice: 0.6473864316940308 Current Avg. Dice: 0.6361310482025146 Current Avg. tumor Dice: 0.7430355548858643 Current Avg. lymph Dice: 0.5027052760124207\n"
     ]
    },
    {
     "name": "stderr",
     "output_type": "stream",
     "text": [
      "Training (7219 / 18000 Steps) (loss=0.40687): 100%|██████████| 20/20 [01:09<00:00,  3.46s/it]\n",
      "Training (7239 / 18000 Steps) (loss=0.29019): 100%|██████████| 20/20 [00:38<00:00,  1.94s/it]\n",
      "Training (7259 / 18000 Steps) (loss=0.49041): 100%|██████████| 20/20 [00:37<00:00,  1.87s/it]\n",
      "Training (7279 / 18000 Steps) (loss=0.29878): 100%|██████████| 20/20 [00:37<00:00,  1.86s/it]\n",
      "Training (7299 / 18000 Steps) (loss=0.56389): 100%|██████████| 20/20 [00:38<00:00,  1.93s/it]\n",
      "Validate (7300 / 10 Steps): 100%|██████████| 8/8 [00:31<00:00,  3.91s/it]7<?, ?it/s]\n",
      "Training (7300 / 18000 Steps) (loss=0.30821):   5%|▌         | 1/20 [00:38<12:12, 38.55s/it]"
     ]
    },
    {
     "name": "stdout",
     "output_type": "stream",
     "text": [
      "Model Was Not Saved ! Current Best Avg. Dice: 0.6473864316940308 Current Avg. Dice: 0.6053396463394165 Current Avg. tumor Dice: 0.7189877033233643 Current Avg. lymph Dice: 0.4600016176700592\n"
     ]
    },
    {
     "name": "stderr",
     "output_type": "stream",
     "text": [
      "Training (7319 / 18000 Steps) (loss=0.54538): 100%|██████████| 20/20 [01:08<00:00,  3.45s/it]\n",
      "Training (7339 / 18000 Steps) (loss=0.43252): 100%|██████████| 20/20 [00:38<00:00,  1.91s/it]\n",
      "Training (7359 / 18000 Steps) (loss=0.60031): 100%|██████████| 20/20 [00:38<00:00,  1.95s/it]\n",
      "Training (7379 / 18000 Steps) (loss=0.42928): 100%|██████████| 20/20 [00:39<00:00,  2.00s/it]\n",
      "Training (7399 / 18000 Steps) (loss=0.40054): 100%|██████████| 20/20 [00:39<00:00,  1.95s/it]\n",
      "Validate (7400 / 10 Steps): 100%|██████████| 8/8 [00:31<00:00,  3.88s/it]7<?, ?it/s]\n",
      "Training (7400 / 18000 Steps) (loss=0.45554):   5%|▌         | 1/20 [00:38<12:09, 38.39s/it]"
     ]
    },
    {
     "name": "stdout",
     "output_type": "stream",
     "text": [
      "Model Was Not Saved ! Current Best Avg. Dice: 0.6473864316940308 Current Avg. Dice: 0.6347490549087524 Current Avg. tumor Dice: 0.7288544178009033 Current Avg. lymph Dice: 0.5242523550987244\n"
     ]
    },
    {
     "name": "stderr",
     "output_type": "stream",
     "text": [
      "Training (7419 / 18000 Steps) (loss=0.45427): 100%|██████████| 20/20 [01:08<00:00,  3.44s/it]\n",
      "Training (7439 / 18000 Steps) (loss=0.46375): 100%|██████████| 20/20 [00:38<00:00,  1.92s/it]\n",
      "Training (7459 / 18000 Steps) (loss=0.16631): 100%|██████████| 20/20 [00:39<00:00,  1.98s/it]\n",
      "Training (7479 / 18000 Steps) (loss=0.45954): 100%|██████████| 20/20 [00:37<00:00,  1.86s/it]\n",
      "Training (7499 / 18000 Steps) (loss=0.43889): 100%|██████████| 20/20 [00:39<00:00,  1.95s/it]\n",
      "Validate (7500 / 10 Steps): 100%|██████████| 8/8 [00:31<00:00,  3.88s/it]7<?, ?it/s]\n",
      "Training (7500 / 18000 Steps) (loss=0.35223):   5%|▌         | 1/20 [00:38<12:17, 38.83s/it]"
     ]
    },
    {
     "name": "stdout",
     "output_type": "stream",
     "text": [
      "Model Was Not Saved ! Current Best Avg. Dice: 0.6473864316940308 Current Avg. Dice: 0.6220809817314148 Current Avg. tumor Dice: 0.7214136123657227 Current Avg. lymph Dice: 0.5040073394775391\n"
     ]
    },
    {
     "name": "stderr",
     "output_type": "stream",
     "text": [
      "Training (7519 / 18000 Steps) (loss=0.28628): 100%|██████████| 20/20 [01:09<00:00,  3.46s/it]\n",
      "Training (7539 / 18000 Steps) (loss=0.39827): 100%|██████████| 20/20 [00:37<00:00,  1.90s/it]\n",
      "Training (7559 / 18000 Steps) (loss=0.40349): 100%|██████████| 20/20 [00:37<00:00,  1.89s/it]\n",
      "Training (7579 / 18000 Steps) (loss=0.18634): 100%|██████████| 20/20 [00:37<00:00,  1.87s/it]\n",
      "Training (7599 / 18000 Steps) (loss=0.53580): 100%|██████████| 20/20 [00:38<00:00,  1.93s/it]\n",
      "Validate (7600 / 10 Steps): 100%|██████████| 8/8 [00:31<00:00,  3.88s/it]9<?, ?it/s]\n",
      "Training (7600 / 18000 Steps) (loss=0.40408):   5%|▌         | 1/20 [00:40<12:44, 40.24s/it]"
     ]
    },
    {
     "name": "stdout",
     "output_type": "stream",
     "text": [
      "Model Was Not Saved ! Current Best Avg. Dice: 0.6473864316940308 Current Avg. Dice: 0.620146632194519 Current Avg. tumor Dice: 0.7216151356697083 Current Avg. lymph Dice: 0.5017104744911194\n"
     ]
    },
    {
     "name": "stderr",
     "output_type": "stream",
     "text": [
      "Training (7619 / 18000 Steps) (loss=0.27945): 100%|██████████| 20/20 [01:10<00:00,  3.54s/it]\n",
      "Training (7639 / 18000 Steps) (loss=0.30926): 100%|██████████| 20/20 [00:38<00:00,  1.94s/it]\n",
      "Training (7659 / 18000 Steps) (loss=0.28356): 100%|██████████| 20/20 [00:40<00:00,  2.02s/it]\n",
      "Training (7679 / 18000 Steps) (loss=0.26850): 100%|██████████| 20/20 [00:38<00:00,  1.90s/it]\n",
      "Training (7699 / 18000 Steps) (loss=0.41821): 100%|██████████| 20/20 [00:38<00:00,  1.91s/it]\n",
      "Validate (7700 / 10 Steps): 100%|██████████| 8/8 [00:31<00:00,  3.93s/it]7<?, ?it/s]\n",
      "Training (7700 / 18000 Steps) (loss=0.31800):   5%|▌         | 1/20 [00:38<12:20, 38.96s/it]"
     ]
    },
    {
     "name": "stdout",
     "output_type": "stream",
     "text": [
      "Model Was Not Saved ! Current Best Avg. Dice: 0.6473864316940308 Current Avg. Dice: 0.626220703125 Current Avg. tumor Dice: 0.7344135642051697 Current Avg. lymph Dice: 0.49781209230422974\n"
     ]
    },
    {
     "name": "stderr",
     "output_type": "stream",
     "text": [
      "Training (7719 / 18000 Steps) (loss=0.56968): 100%|██████████| 20/20 [01:09<00:00,  3.47s/it]\n",
      "Training (7739 / 18000 Steps) (loss=0.41456): 100%|██████████| 20/20 [00:37<00:00,  1.90s/it]\n",
      "Training (7759 / 18000 Steps) (loss=0.42674): 100%|██████████| 20/20 [00:38<00:00,  1.91s/it]\n",
      "Training (7779 / 18000 Steps) (loss=0.30186): 100%|██████████| 20/20 [00:38<00:00,  1.91s/it]\n",
      "Training (7799 / 18000 Steps) (loss=0.56545): 100%|██████████| 20/20 [00:39<00:00,  1.98s/it]\n",
      "Validate (7800 / 10 Steps): 100%|██████████| 8/8 [00:31<00:00,  3.89s/it]7<?, ?it/s]\n",
      "Training (7800 / 18000 Steps) (loss=0.42080):   5%|▌         | 1/20 [00:39<12:22, 39.09s/it]"
     ]
    },
    {
     "name": "stdout",
     "output_type": "stream",
     "text": [
      "Model Was Not Saved ! Current Best Avg. Dice: 0.6473864316940308 Current Avg. Dice: 0.6262073516845703 Current Avg. tumor Dice: 0.7339068651199341 Current Avg. lymph Dice: 0.49439918994903564\n"
     ]
    },
    {
     "name": "stderr",
     "output_type": "stream",
     "text": [
      "Training (7819 / 18000 Steps) (loss=0.30354): 100%|██████████| 20/20 [01:09<00:00,  3.47s/it]\n",
      "Training (7839 / 18000 Steps) (loss=0.32100): 100%|██████████| 20/20 [00:37<00:00,  1.86s/it]\n",
      "Training (7859 / 18000 Steps) (loss=0.47714): 100%|██████████| 20/20 [00:39<00:00,  1.95s/it]\n",
      "Training (7879 / 18000 Steps) (loss=0.55520): 100%|██████████| 20/20 [00:40<00:00,  2.03s/it]\n",
      "Training (7899 / 18000 Steps) (loss=0.61335): 100%|██████████| 20/20 [00:37<00:00,  1.89s/it]\n",
      "Validate (7900 / 10 Steps): 100%|██████████| 8/8 [00:30<00:00,  3.87s/it]8<?, ?it/s]\n",
      "Training (7900 / 18000 Steps) (loss=0.30634):   5%|▌         | 1/20 [00:39<12:32, 39.59s/it]"
     ]
    },
    {
     "name": "stdout",
     "output_type": "stream",
     "text": [
      "Model Was Not Saved ! Current Best Avg. Dice: 0.6473864316940308 Current Avg. Dice: 0.6303213834762573 Current Avg. tumor Dice: 0.7346363067626953 Current Avg. lymph Dice: 0.5048229098320007\n"
     ]
    },
    {
     "name": "stderr",
     "output_type": "stream",
     "text": [
      "Training (7919 / 18000 Steps) (loss=0.51196): 100%|██████████| 20/20 [01:10<00:00,  3.52s/it]\n",
      "Training (7939 / 18000 Steps) (loss=0.46685): 100%|██████████| 20/20 [00:38<00:00,  1.92s/it]\n",
      "Training (7959 / 18000 Steps) (loss=0.29237): 100%|██████████| 20/20 [00:37<00:00,  1.90s/it]\n",
      "Training (7979 / 18000 Steps) (loss=0.32425): 100%|██████████| 20/20 [00:37<00:00,  1.89s/it]\n",
      "Training (7999 / 18000 Steps) (loss=0.35012): 100%|██████████| 20/20 [00:37<00:00,  1.88s/it]\n",
      "Validate (8000 / 10 Steps): 100%|██████████| 8/8 [00:30<00:00,  3.87s/it]8<?, ?it/s]\n",
      "Training (8000 / 18000 Steps) (loss=0.43326):   5%|▌         | 1/20 [00:39<12:26, 39.27s/it]"
     ]
    },
    {
     "name": "stdout",
     "output_type": "stream",
     "text": [
      "Model Was Not Saved ! Current Best Avg. Dice: 0.6473864316940308 Current Avg. Dice: 0.6236468553543091 Current Avg. tumor Dice: 0.7324326634407043 Current Avg. lymph Dice: 0.4830085337162018\n"
     ]
    },
    {
     "name": "stderr",
     "output_type": "stream",
     "text": [
      "Training (8019 / 18000 Steps) (loss=0.28826): 100%|██████████| 20/20 [01:09<00:00,  3.49s/it]\n",
      "Training (8039 / 18000 Steps) (loss=0.45798): 100%|██████████| 20/20 [00:38<00:00,  1.91s/it]\n",
      "Training (8059 / 18000 Steps) (loss=0.28348): 100%|██████████| 20/20 [00:37<00:00,  1.90s/it]\n",
      "Training (8079 / 18000 Steps) (loss=0.44005): 100%|██████████| 20/20 [00:37<00:00,  1.87s/it]\n",
      "Training (8099 / 18000 Steps) (loss=0.31790): 100%|██████████| 20/20 [00:37<00:00,  1.89s/it]\n",
      "Validate (8100 / 10 Steps): 100%|██████████| 8/8 [00:31<00:00,  3.91s/it]6<?, ?it/s]\n",
      "Training (8100 / 18000 Steps) (loss=0.31911):   5%|▌         | 1/20 [00:37<11:59, 37.84s/it]"
     ]
    },
    {
     "name": "stdout",
     "output_type": "stream",
     "text": [
      "Model Was Not Saved ! Current Best Avg. Dice: 0.6473864316940308 Current Avg. Dice: 0.6229820847511292 Current Avg. tumor Dice: 0.7307496666908264 Current Avg. lymph Dice: 0.4887167811393738\n"
     ]
    },
    {
     "name": "stderr",
     "output_type": "stream",
     "text": [
      "Training (8119 / 18000 Steps) (loss=0.32936): 100%|██████████| 20/20 [01:08<00:00,  3.43s/it]\n",
      "Training (8139 / 18000 Steps) (loss=0.35966): 100%|██████████| 20/20 [00:37<00:00,  1.87s/it]\n",
      "Training (8159 / 18000 Steps) (loss=0.54846): 100%|██████████| 20/20 [00:39<00:00,  2.00s/it]\n",
      "Training (8179 / 18000 Steps) (loss=0.28678): 100%|██████████| 20/20 [00:38<00:00,  1.93s/it]\n",
      "Training (8199 / 18000 Steps) (loss=0.55104): 100%|██████████| 20/20 [00:40<00:00,  2.02s/it]\n",
      "Validate (8200 / 10 Steps): 100%|██████████| 8/8 [00:31<00:00,  3.95s/it]6<?, ?it/s]\n",
      "Training (8200 / 18000 Steps) (loss=0.53807):   5%|▌         | 1/20 [00:38<12:07, 38.28s/it]"
     ]
    },
    {
     "name": "stdout",
     "output_type": "stream",
     "text": [
      "Model Was Not Saved ! Current Best Avg. Dice: 0.6473864316940308 Current Avg. Dice: 0.6180428266525269 Current Avg. tumor Dice: 0.7262641191482544 Current Avg. lymph Dice: 0.48699143528938293\n"
     ]
    },
    {
     "name": "stderr",
     "output_type": "stream",
     "text": [
      "Training (8219 / 18000 Steps) (loss=0.27611): 100%|██████████| 20/20 [01:08<00:00,  3.44s/it]\n",
      "Training (8239 / 18000 Steps) (loss=0.49755): 100%|██████████| 20/20 [00:37<00:00,  1.89s/it]\n",
      "Training (8259 / 18000 Steps) (loss=0.38910): 100%|██████████| 20/20 [00:39<00:00,  1.97s/it]\n",
      "Training (8279 / 18000 Steps) (loss=0.41391): 100%|██████████| 20/20 [00:37<00:00,  1.90s/it]\n",
      "Training (8299 / 18000 Steps) (loss=0.17664): 100%|██████████| 20/20 [00:40<00:00,  2.02s/it]\n",
      "Validate (8300 / 10 Steps): 100%|██████████| 8/8 [00:31<00:00,  3.93s/it]6<?, ?it/s]\n",
      "Training (8300 / 18000 Steps) (loss=0.38448):   5%|▌         | 1/20 [00:38<12:09, 38.39s/it]"
     ]
    },
    {
     "name": "stdout",
     "output_type": "stream",
     "text": [
      "Model Was Not Saved ! Current Best Avg. Dice: 0.6473864316940308 Current Avg. Dice: 0.6209261417388916 Current Avg. tumor Dice: 0.7212161421775818 Current Avg. lymph Dice: 0.5020501017570496\n"
     ]
    },
    {
     "name": "stderr",
     "output_type": "stream",
     "text": [
      "Training (8319 / 18000 Steps) (loss=0.47706): 100%|██████████| 20/20 [01:08<00:00,  3.44s/it]\n",
      "Training (8339 / 18000 Steps) (loss=0.38063): 100%|██████████| 20/20 [00:38<00:00,  1.93s/it]\n",
      "Training (8359 / 18000 Steps) (loss=0.13760): 100%|██████████| 20/20 [00:38<00:00,  1.92s/it]\n",
      "Training (8379 / 18000 Steps) (loss=0.43084): 100%|██████████| 20/20 [00:38<00:00,  1.92s/it]\n",
      "Training (8399 / 18000 Steps) (loss=0.24281): 100%|██████████| 20/20 [00:38<00:00,  1.94s/it]\n",
      "Validate (8400 / 10 Steps): 100%|██████████| 8/8 [00:31<00:00,  3.91s/it]7<?, ?it/s]\n",
      "Training (8400 / 18000 Steps) (loss=0.37975):   5%|▌         | 1/20 [00:39<12:25, 39.25s/it]"
     ]
    },
    {
     "name": "stdout",
     "output_type": "stream",
     "text": [
      "Model Was Not Saved ! Current Best Avg. Dice: 0.6473864316940308 Current Avg. Dice: 0.62284255027771 Current Avg. tumor Dice: 0.7281990647315979 Current Avg. lymph Dice: 0.49547311663627625\n"
     ]
    },
    {
     "name": "stderr",
     "output_type": "stream",
     "text": [
      "Training (8419 / 18000 Steps) (loss=0.24259): 100%|██████████| 20/20 [01:09<00:00,  3.48s/it]\n",
      "Training (8439 / 18000 Steps) (loss=0.36455): 100%|██████████| 20/20 [00:38<00:00,  1.91s/it]\n",
      "Training (8459 / 18000 Steps) (loss=0.49786): 100%|██████████| 20/20 [00:37<00:00,  1.90s/it]\n",
      "Training (8479 / 18000 Steps) (loss=0.34415): 100%|██████████| 20/20 [00:37<00:00,  1.89s/it]\n",
      "Training (8499 / 18000 Steps) (loss=0.36458): 100%|██████████| 20/20 [00:39<00:00,  1.95s/it]\n",
      "Validate (8500 / 10 Steps): 100%|██████████| 8/8 [00:31<00:00,  3.92s/it]6<?, ?it/s]\n",
      "Training (8500 / 18000 Steps) (loss=0.36051):   5%|▌         | 1/20 [00:38<12:06, 38.25s/it]"
     ]
    },
    {
     "name": "stdout",
     "output_type": "stream",
     "text": [
      "Model Was Not Saved ! Current Best Avg. Dice: 0.6473864316940308 Current Avg. Dice: 0.6154661774635315 Current Avg. tumor Dice: 0.7252979278564453 Current Avg. lymph Dice: 0.4797298312187195\n"
     ]
    },
    {
     "name": "stderr",
     "output_type": "stream",
     "text": [
      "Training (8519 / 18000 Steps) (loss=0.35619): 100%|██████████| 20/20 [01:08<00:00,  3.43s/it]\n",
      "Training (8539 / 18000 Steps) (loss=0.48004): 100%|██████████| 20/20 [00:38<00:00,  1.92s/it]\n",
      "Training (8559 / 18000 Steps) (loss=0.40433): 100%|██████████| 20/20 [00:37<00:00,  1.86s/it]\n",
      "Training (8579 / 18000 Steps) (loss=0.30534): 100%|██████████| 20/20 [00:37<00:00,  1.90s/it]\n",
      "Training (8599 / 18000 Steps) (loss=0.40150): 100%|██████████| 20/20 [00:38<00:00,  1.92s/it]\n",
      "Validate (8600 / 10 Steps): 100%|██████████| 8/8 [00:30<00:00,  3.87s/it]9<?, ?it/s]\n",
      "Training (8600 / 18000 Steps) (loss=0.35340):   5%|▌         | 1/20 [00:40<12:47, 40.39s/it]"
     ]
    },
    {
     "name": "stdout",
     "output_type": "stream",
     "text": [
      "Model Was Not Saved ! Current Best Avg. Dice: 0.6473864316940308 Current Avg. Dice: 0.6103746891021729 Current Avg. tumor Dice: 0.7234585881233215 Current Avg. lymph Dice: 0.47116440534591675\n"
     ]
    },
    {
     "name": "stderr",
     "output_type": "stream",
     "text": [
      "Training (8619 / 18000 Steps) (loss=0.22143): 100%|██████████| 20/20 [01:10<00:00,  3.54s/it]\n",
      "Training (8639 / 18000 Steps) (loss=0.25586): 100%|██████████| 20/20 [00:37<00:00,  1.86s/it]\n",
      "Training (8659 / 18000 Steps) (loss=0.41346): 100%|██████████| 20/20 [00:37<00:00,  1.89s/it]\n",
      "Training (8679 / 18000 Steps) (loss=0.60408): 100%|██████████| 20/20 [00:38<00:00,  1.92s/it]\n",
      "Training (8699 / 18000 Steps) (loss=0.46422): 100%|██████████| 20/20 [00:38<00:00,  1.90s/it]\n",
      "Validate (8700 / 10 Steps): 100%|██████████| 8/8 [00:31<00:00,  3.88s/it]8<?, ?it/s]\n",
      "Training (8700 / 18000 Steps) (loss=0.42009):   5%|▌         | 1/20 [00:39<12:26, 39.32s/it]"
     ]
    },
    {
     "name": "stdout",
     "output_type": "stream",
     "text": [
      "Model Was Not Saved ! Current Best Avg. Dice: 0.6473864316940308 Current Avg. Dice: 0.6143165230751038 Current Avg. tumor Dice: 0.7223721146583557 Current Avg. lymph Dice: 0.47891902923583984\n"
     ]
    },
    {
     "name": "stderr",
     "output_type": "stream",
     "text": [
      "Training (8719 / 18000 Steps) (loss=0.19209): 100%|██████████| 20/20 [01:09<00:00,  3.48s/it]\n",
      "Training (8739 / 18000 Steps) (loss=0.41865): 100%|██████████| 20/20 [00:37<00:00,  1.90s/it]\n",
      "Training (8759 / 18000 Steps) (loss=0.44334): 100%|██████████| 20/20 [00:37<00:00,  1.85s/it]\n",
      "Training (8779 / 18000 Steps) (loss=0.29701): 100%|██████████| 20/20 [00:37<00:00,  1.90s/it]\n",
      "Training (8799 / 18000 Steps) (loss=0.39116): 100%|██████████| 20/20 [00:38<00:00,  1.94s/it]\n",
      "Validate (8800 / 10 Steps): 100%|██████████| 8/8 [00:30<00:00,  3.86s/it]9<?, ?it/s]\n",
      "Training (8800 / 18000 Steps) (loss=0.49678):   5%|▌         | 1/20 [00:40<12:49, 40.51s/it]"
     ]
    },
    {
     "name": "stdout",
     "output_type": "stream",
     "text": [
      "Model Was Not Saved ! Current Best Avg. Dice: 0.6473864316940308 Current Avg. Dice: 0.6383810639381409 Current Avg. tumor Dice: 0.7461881041526794 Current Avg. lymph Dice: 0.51100093126297\n"
     ]
    },
    {
     "name": "stderr",
     "output_type": "stream",
     "text": [
      "Training (8819 / 18000 Steps) (loss=0.46022): 100%|██████████| 20/20 [01:10<00:00,  3.55s/it]\n",
      "Training (8839 / 18000 Steps) (loss=0.39829): 100%|██████████| 20/20 [00:38<00:00,  1.92s/it]\n",
      "Training (8859 / 18000 Steps) (loss=0.29173): 100%|██████████| 20/20 [00:39<00:00,  1.96s/it]\n",
      "Training (8879 / 18000 Steps) (loss=0.46302): 100%|██████████| 20/20 [00:38<00:00,  1.91s/it]\n",
      "Training (8899 / 18000 Steps) (loss=0.44314): 100%|██████████| 20/20 [00:38<00:00,  1.93s/it]\n",
      "Validate (8900 / 10 Steps): 100%|██████████| 8/8 [00:31<00:00,  3.88s/it]7<?, ?it/s]\n",
      "Training (8900 / 18000 Steps) (loss=0.47083):   5%|▌         | 1/20 [00:38<12:16, 38.79s/it]"
     ]
    },
    {
     "name": "stdout",
     "output_type": "stream",
     "text": [
      "Model Was Not Saved ! Current Best Avg. Dice: 0.6473864316940308 Current Avg. Dice: 0.6226339936256409 Current Avg. tumor Dice: 0.7322156429290771 Current Avg. lymph Dice: 0.49480941891670227\n"
     ]
    },
    {
     "name": "stderr",
     "output_type": "stream",
     "text": [
      "Training (8919 / 18000 Steps) (loss=0.32245): 100%|██████████| 20/20 [01:09<00:00,  3.46s/it]\n",
      "Training (8939 / 18000 Steps) (loss=0.55239): 100%|██████████| 20/20 [00:39<00:00,  2.00s/it]\n",
      "Training (8959 / 18000 Steps) (loss=0.35240): 100%|██████████| 20/20 [00:37<00:00,  1.88s/it]\n",
      "Training (8979 / 18000 Steps) (loss=0.17721): 100%|██████████| 20/20 [00:38<00:00,  1.92s/it]\n",
      "Training (8999 / 18000 Steps) (loss=0.51531): 100%|██████████| 20/20 [00:38<00:00,  1.91s/it]\n",
      "Validate (9000 / 10 Steps): 100%|██████████| 8/8 [00:31<00:00,  3.90s/it]7<?, ?it/s]\n",
      "Training (9000 / 18000 Steps) (loss=0.43059):   5%|▌         | 1/20 [00:39<12:24, 39.19s/it]"
     ]
    },
    {
     "name": "stdout",
     "output_type": "stream",
     "text": [
      "Model Was Not Saved ! Current Best Avg. Dice: 0.6473864316940308 Current Avg. Dice: 0.6340915560722351 Current Avg. tumor Dice: 0.7257348299026489 Current Avg. lymph Dice: 0.5258442759513855\n"
     ]
    },
    {
     "name": "stderr",
     "output_type": "stream",
     "text": [
      "Training (9019 / 18000 Steps) (loss=0.50471): 100%|██████████| 20/20 [01:09<00:00,  3.48s/it]\n",
      "Training (9039 / 18000 Steps) (loss=0.41399): 100%|██████████| 20/20 [00:40<00:00,  2.00s/it]\n",
      "Training (9059 / 18000 Steps) (loss=0.34768): 100%|██████████| 20/20 [00:39<00:00,  1.98s/it]\n",
      "Training (9079 / 18000 Steps) (loss=0.28366): 100%|██████████| 20/20 [00:38<00:00,  1.92s/it]\n",
      "Training (9099 / 18000 Steps) (loss=0.44876): 100%|██████████| 20/20 [00:38<00:00,  1.91s/it]\n",
      "Validate (9100 / 10 Steps): 100%|██████████| 8/8 [00:31<00:00,  3.90s/it]6<?, ?it/s]\n",
      "Training (9100 / 18000 Steps) (loss=0.48550):   5%|▌         | 1/20 [00:37<11:58, 37.79s/it]"
     ]
    },
    {
     "name": "stdout",
     "output_type": "stream",
     "text": [
      "Model Was Not Saved ! Current Best Avg. Dice: 0.6473864316940308 Current Avg. Dice: 0.6310905814170837 Current Avg. tumor Dice: 0.7267163395881653 Current Avg. lymph Dice: 0.5201233625411987\n"
     ]
    },
    {
     "name": "stderr",
     "output_type": "stream",
     "text": [
      "Training (9119 / 18000 Steps) (loss=0.46790): 100%|██████████| 20/20 [01:08<00:00,  3.40s/it]\n",
      "Training (9139 / 18000 Steps) (loss=0.49184): 100%|██████████| 20/20 [00:37<00:00,  1.88s/it]\n",
      "Training (9159 / 18000 Steps) (loss=0.29889): 100%|██████████| 20/20 [00:39<00:00,  2.00s/it]\n",
      "Training (9179 / 18000 Steps) (loss=0.53997): 100%|██████████| 20/20 [00:37<00:00,  1.89s/it]\n",
      "Training (9199 / 18000 Steps) (loss=0.19286): 100%|██████████| 20/20 [00:37<00:00,  1.86s/it]\n",
      "Validate (9200 / 10 Steps): 100%|██████████| 8/8 [00:31<00:00,  3.88s/it]9<?, ?it/s]\n",
      "Training (9200 / 18000 Steps) (loss=0.31194):   5%|▌         | 1/20 [00:40<12:47, 40.39s/it]"
     ]
    },
    {
     "name": "stdout",
     "output_type": "stream",
     "text": [
      "Model Was Not Saved ! Current Best Avg. Dice: 0.6473864316940308 Current Avg. Dice: 0.6130948662757874 Current Avg. tumor Dice: 0.7096055150032043 Current Avg. lymph Dice: 0.5024315118789673\n"
     ]
    },
    {
     "name": "stderr",
     "output_type": "stream",
     "text": [
      "Training (9219 / 18000 Steps) (loss=0.30981): 100%|██████████| 20/20 [01:10<00:00,  3.54s/it]\n",
      "Training (9239 / 18000 Steps) (loss=0.29536): 100%|██████████| 20/20 [00:37<00:00,  1.87s/it]\n",
      "Training (9259 / 18000 Steps) (loss=0.34775): 100%|██████████| 20/20 [00:39<00:00,  1.96s/it]\n",
      "Training (9279 / 18000 Steps) (loss=0.40617): 100%|██████████| 20/20 [00:38<00:00,  1.92s/it]\n",
      "Training (9299 / 18000 Steps) (loss=0.26998): 100%|██████████| 20/20 [00:38<00:00,  1.93s/it]\n",
      "Validate (9300 / 10 Steps): 100%|██████████| 8/8 [00:30<00:00,  3.87s/it]9<?, ?it/s]\n",
      "Training (9300 / 18000 Steps) (loss=0.39250):   5%|▌         | 1/20 [00:40<12:56, 40.86s/it]"
     ]
    },
    {
     "name": "stdout",
     "output_type": "stream",
     "text": [
      "Model Was Not Saved ! Current Best Avg. Dice: 0.6473864316940308 Current Avg. Dice: 0.6296126246452332 Current Avg. tumor Dice: 0.7268140912055969 Current Avg. lymph Dice: 0.5138745903968811\n"
     ]
    },
    {
     "name": "stderr",
     "output_type": "stream",
     "text": [
      "Training (9319 / 18000 Steps) (loss=0.31913): 100%|██████████| 20/20 [01:11<00:00,  3.57s/it]\n",
      "Training (9339 / 18000 Steps) (loss=0.42671): 100%|██████████| 20/20 [00:40<00:00,  2.01s/it]\n",
      "Training (9359 / 18000 Steps) (loss=0.45689): 100%|██████████| 20/20 [00:37<00:00,  1.89s/it]\n",
      "Training (9379 / 18000 Steps) (loss=0.60789): 100%|██████████| 20/20 [00:38<00:00,  1.91s/it]\n",
      "Training (9399 / 18000 Steps) (loss=0.49788): 100%|██████████| 20/20 [00:38<00:00,  1.93s/it]\n",
      "Validate (9400 / 10 Steps): 100%|██████████| 8/8 [00:31<00:00,  3.91s/it]6<?, ?it/s]\n",
      "Training (9400 / 18000 Steps) (loss=0.17713):   5%|▌         | 1/20 [00:37<12:00, 37.92s/it]"
     ]
    },
    {
     "name": "stdout",
     "output_type": "stream",
     "text": [
      "Model Was Not Saved ! Current Best Avg. Dice: 0.6473864316940308 Current Avg. Dice: 0.6385775208473206 Current Avg. tumor Dice: 0.7263743281364441 Current Avg. lymph Dice: 0.5461711883544922\n"
     ]
    },
    {
     "name": "stderr",
     "output_type": "stream",
     "text": [
      "Training (9419 / 18000 Steps) (loss=0.29284): 100%|██████████| 20/20 [01:08<00:00,  3.43s/it]\n",
      "Training (9439 / 18000 Steps) (loss=0.53699): 100%|██████████| 20/20 [00:37<00:00,  1.89s/it]\n",
      "Training (9459 / 18000 Steps) (loss=0.54307): 100%|██████████| 20/20 [00:37<00:00,  1.89s/it]\n",
      "Training (9479 / 18000 Steps) (loss=0.53773): 100%|██████████| 20/20 [00:40<00:00,  2.04s/it]\n",
      "Training (9499 / 18000 Steps) (loss=0.41218): 100%|██████████| 20/20 [00:38<00:00,  1.92s/it]\n",
      "Validate (9500 / 10 Steps): 100%|██████████| 8/8 [00:31<00:00,  3.91s/it]6<?, ?it/s]\n",
      "Training (9500 / 18000 Steps) (loss=0.37301):   5%|▌         | 1/20 [00:38<12:06, 38.22s/it]"
     ]
    },
    {
     "name": "stdout",
     "output_type": "stream",
     "text": [
      "Model Was Not Saved ! Current Best Avg. Dice: 0.6473864316940308 Current Avg. Dice: 0.6377550959587097 Current Avg. tumor Dice: 0.7307674288749695 Current Avg. lymph Dice: 0.5447008013725281\n"
     ]
    },
    {
     "name": "stderr",
     "output_type": "stream",
     "text": [
      "Training (9519 / 18000 Steps) (loss=0.33906): 100%|██████████| 20/20 [01:08<00:00,  3.44s/it]\n",
      "Training (9539 / 18000 Steps) (loss=0.22883): 100%|██████████| 20/20 [00:38<00:00,  1.92s/it]\n",
      "Training (9559 / 18000 Steps) (loss=0.59963): 100%|██████████| 20/20 [00:37<00:00,  1.86s/it]\n",
      "Training (9579 / 18000 Steps) (loss=0.42250): 100%|██████████| 20/20 [00:40<00:00,  2.00s/it]\n",
      "Training (9599 / 18000 Steps) (loss=0.19492): 100%|██████████| 20/20 [00:37<00:00,  1.88s/it]\n",
      "Validate (9600 / 10 Steps): 100%|██████████| 8/8 [00:31<00:00,  3.88s/it]8<?, ?it/s]\n",
      "Training (9600 / 18000 Steps) (loss=0.35806):   5%|▌         | 1/20 [00:39<12:35, 39.79s/it]"
     ]
    },
    {
     "name": "stdout",
     "output_type": "stream",
     "text": [
      "Model Was Not Saved ! Current Best Avg. Dice: 0.6473864316940308 Current Avg. Dice: 0.6072630286216736 Current Avg. tumor Dice: 0.7130674719810486 Current Avg. lymph Dice: 0.4716830849647522\n"
     ]
    },
    {
     "name": "stderr",
     "output_type": "stream",
     "text": [
      "Training (9619 / 18000 Steps) (loss=0.40018): 100%|██████████| 20/20 [01:10<00:00,  3.51s/it]\n",
      "Training (9639 / 18000 Steps) (loss=0.31268): 100%|██████████| 20/20 [00:37<00:00,  1.89s/it]\n",
      "Training (9659 / 18000 Steps) (loss=0.41254): 100%|██████████| 20/20 [00:37<00:00,  1.89s/it]\n",
      "Training (9679 / 18000 Steps) (loss=0.31899): 100%|██████████| 20/20 [00:37<00:00,  1.86s/it]\n",
      "Training (9699 / 18000 Steps) (loss=0.27734): 100%|██████████| 20/20 [00:38<00:00,  1.91s/it]\n",
      "Validate (9700 / 10 Steps): 100%|██████████| 8/8 [00:31<00:00,  3.91s/it]6<?, ?it/s]\n",
      "Training (9700 / 18000 Steps) (loss=0.43179):   5%|▌         | 1/20 [00:38<12:02, 38.03s/it]"
     ]
    },
    {
     "name": "stdout",
     "output_type": "stream",
     "text": [
      "Model Was Not Saved ! Current Best Avg. Dice: 0.6473864316940308 Current Avg. Dice: 0.6316304802894592 Current Avg. tumor Dice: 0.7335560321807861 Current Avg. lymph Dice: 0.5184766054153442\n"
     ]
    },
    {
     "name": "stderr",
     "output_type": "stream",
     "text": [
      "Training (9719 / 18000 Steps) (loss=0.53513): 100%|██████████| 20/20 [01:08<00:00,  3.41s/it]\n",
      "Training (9739 / 18000 Steps) (loss=0.30471): 100%|██████████| 20/20 [00:38<00:00,  1.91s/it]\n",
      "Training (9759 / 18000 Steps) (loss=0.32505): 100%|██████████| 20/20 [00:39<00:00,  1.98s/it]\n",
      "Training (9779 / 18000 Steps) (loss=0.54538): 100%|██████████| 20/20 [00:38<00:00,  1.90s/it]\n",
      "Training (9799 / 18000 Steps) (loss=0.36014): 100%|██████████| 20/20 [00:38<00:00,  1.90s/it]\n",
      "Validate (9800 / 10 Steps): 100%|██████████| 8/8 [00:31<00:00,  3.91s/it]6<?, ?it/s]\n",
      "Training (9800 / 18000 Steps) (loss=0.39841):   5%|▌         | 1/20 [00:37<12:00, 37.90s/it]"
     ]
    },
    {
     "name": "stdout",
     "output_type": "stream",
     "text": [
      "Model Was Not Saved ! Current Best Avg. Dice: 0.6473864316940308 Current Avg. Dice: 0.629715085029602 Current Avg. tumor Dice: 0.7276487946510315 Current Avg. lymph Dice: 0.51600581407547\n"
     ]
    },
    {
     "name": "stderr",
     "output_type": "stream",
     "text": [
      "Training (9819 / 18000 Steps) (loss=0.20988): 100%|██████████| 20/20 [01:08<00:00,  3.43s/it]\n",
      "Training (9839 / 18000 Steps) (loss=0.49631): 100%|██████████| 20/20 [00:40<00:00,  2.01s/it]\n",
      "Training (9859 / 18000 Steps) (loss=0.40254): 100%|██████████| 20/20 [00:40<00:00,  2.00s/it]\n",
      "Training (9879 / 18000 Steps) (loss=0.37058): 100%|██████████| 20/20 [00:38<00:00,  1.90s/it]\n",
      "Training (9899 / 18000 Steps) (loss=0.62948): 100%|██████████| 20/20 [00:37<00:00,  1.89s/it]\n",
      "Validate (9900 / 10 Steps): 100%|██████████| 8/8 [00:31<00:00,  3.91s/it]7<?, ?it/s]\n",
      "Training (9900 / 18000 Steps) (loss=0.40284):   5%|▌         | 1/20 [00:38<12:08, 38.35s/it]"
     ]
    },
    {
     "name": "stdout",
     "output_type": "stream",
     "text": [
      "Model Was Not Saved ! Current Best Avg. Dice: 0.6473864316940308 Current Avg. Dice: 0.6133846044540405 Current Avg. tumor Dice: 0.7138137817382812 Current Avg. lymph Dice: 0.4969847798347473\n"
     ]
    },
    {
     "name": "stderr",
     "output_type": "stream",
     "text": [
      "Training (9919 / 18000 Steps) (loss=0.38817): 100%|██████████| 20/20 [01:08<00:00,  3.44s/it]\n",
      "Training (9939 / 18000 Steps) (loss=0.53099): 100%|██████████| 20/20 [00:38<00:00,  1.93s/it]\n",
      "Training (9959 / 18000 Steps) (loss=0.51025): 100%|██████████| 20/20 [00:37<00:00,  1.90s/it]\n",
      "Training (9979 / 18000 Steps) (loss=0.25586): 100%|██████████| 20/20 [00:38<00:00,  1.90s/it]\n",
      "Training (9999 / 18000 Steps) (loss=0.28526): 100%|██████████| 20/20 [00:38<00:00,  1.93s/it]\n",
      "Validate (10000 / 10 Steps): 100%|██████████| 8/8 [00:30<00:00,  3.87s/it]7<?, ?it/s]\n",
      "Training (10000 / 18000 Steps) (loss=0.27443):   5%|▌         | 1/20 [00:38<12:12, 38.55s/it]"
     ]
    },
    {
     "name": "stdout",
     "output_type": "stream",
     "text": [
      "Model Was Not Saved ! Current Best Avg. Dice: 0.6473864316940308 Current Avg. Dice: 0.6205125451087952 Current Avg. tumor Dice: 0.7212913632392883 Current Avg. lymph Dice: 0.5008029341697693\n"
     ]
    },
    {
     "name": "stderr",
     "output_type": "stream",
     "text": [
      "Training (10019 / 18000 Steps) (loss=0.31949): 100%|██████████| 20/20 [01:09<00:00,  3.46s/it]\n",
      "Training (10039 / 18000 Steps) (loss=0.27094): 100%|██████████| 20/20 [00:39<00:00,  1.98s/it]\n",
      "Training (10059 / 18000 Steps) (loss=0.32627): 100%|██████████| 20/20 [00:38<00:00,  1.95s/it]\n",
      "Training (10079 / 18000 Steps) (loss=0.43255): 100%|██████████| 20/20 [00:38<00:00,  1.91s/it]\n",
      "Training (10099 / 18000 Steps) (loss=0.29058): 100%|██████████| 20/20 [00:37<00:00,  1.87s/it]\n",
      "Validate (10100 / 10 Steps): 100%|██████████| 8/8 [00:31<00:00,  3.91s/it]6<?, ?it/s]\n",
      "Training (10100 / 18000 Steps) (loss=0.23822):   5%|▌         | 1/20 [00:38<12:05, 38.20s/it]"
     ]
    },
    {
     "name": "stdout",
     "output_type": "stream",
     "text": [
      "Model Was Not Saved ! Current Best Avg. Dice: 0.6473864316940308 Current Avg. Dice: 0.6236217617988586 Current Avg. tumor Dice: 0.7258152365684509 Current Avg. lymph Dice: 0.49419552087783813\n"
     ]
    },
    {
     "name": "stderr",
     "output_type": "stream",
     "text": [
      "Training (10119 / 18000 Steps) (loss=0.17946): 100%|██████████| 20/20 [01:08<00:00,  3.44s/it]\n",
      "Training (10139 / 18000 Steps) (loss=0.42491): 100%|██████████| 20/20 [00:39<00:00,  2.00s/it]\n",
      "Training (10159 / 18000 Steps) (loss=0.43624): 100%|██████████| 20/20 [00:38<00:00,  1.92s/it]\n",
      "Training (10179 / 18000 Steps) (loss=0.39290): 100%|██████████| 20/20 [00:38<00:00,  1.95s/it]\n",
      "Training (10199 / 18000 Steps) (loss=0.45481): 100%|██████████| 20/20 [00:40<00:00,  2.00s/it]\n",
      "Validate (10200 / 10 Steps): 100%|██████████| 8/8 [00:31<00:00,  3.91s/it]6<?, ?it/s]\n",
      "Training (10200 / 18000 Steps) (loss=0.37961):   5%|▌         | 1/20 [00:37<12:01, 37.95s/it]"
     ]
    },
    {
     "name": "stdout",
     "output_type": "stream",
     "text": [
      "Model Was Not Saved ! Current Best Avg. Dice: 0.6473864316940308 Current Avg. Dice: 0.6104611754417419 Current Avg. tumor Dice: 0.7195039391517639 Current Avg. lymph Dice: 0.4682103395462036\n"
     ]
    },
    {
     "name": "stderr",
     "output_type": "stream",
     "text": [
      "Training (10219 / 18000 Steps) (loss=0.29151): 100%|██████████| 20/20 [01:08<00:00,  3.43s/it]\n",
      "Training (10239 / 18000 Steps) (loss=0.29655): 100%|██████████| 20/20 [00:38<00:00,  1.91s/it]\n",
      "Training (10259 / 18000 Steps) (loss=0.19316): 100%|██████████| 20/20 [00:38<00:00,  1.95s/it]\n",
      "Training (10279 / 18000 Steps) (loss=0.52825): 100%|██████████| 20/20 [00:37<00:00,  1.88s/it]\n",
      "Training (10299 / 18000 Steps) (loss=0.43247): 100%|██████████| 20/20 [00:37<00:00,  1.90s/it]\n",
      "Validate (10300 / 10 Steps): 100%|██████████| 8/8 [00:31<00:00,  3.94s/it]7<?, ?it/s]\n",
      "Training (10300 / 18000 Steps) (loss=0.27119):   5%|▌         | 1/20 [00:38<12:18, 38.88s/it]"
     ]
    },
    {
     "name": "stdout",
     "output_type": "stream",
     "text": [
      "Model Was Not Saved ! Current Best Avg. Dice: 0.6473864316940308 Current Avg. Dice: 0.6239432096481323 Current Avg. tumor Dice: 0.7165383100509644 Current Avg. lymph Dice: 0.5099102854728699\n"
     ]
    },
    {
     "name": "stderr",
     "output_type": "stream",
     "text": [
      "Training (10319 / 18000 Steps) (loss=0.48044): 100%|██████████| 20/20 [01:09<00:00,  3.47s/it]\n",
      "Training (10339 / 18000 Steps) (loss=0.43783): 100%|██████████| 20/20 [00:38<00:00,  1.92s/it]\n",
      "Training (10359 / 18000 Steps) (loss=0.56711): 100%|██████████| 20/20 [00:37<00:00,  1.89s/it]\n",
      "Training (10379 / 18000 Steps) (loss=0.17278): 100%|██████████| 20/20 [00:40<00:00,  2.02s/it]\n",
      "Training (10399 / 18000 Steps) (loss=0.48476): 100%|██████████| 20/20 [00:38<00:00,  1.91s/it]\n",
      "Validate (10400 / 10 Steps): 100%|██████████| 8/8 [00:31<00:00,  3.90s/it]6<?, ?it/s]\n",
      "Training (10400 / 18000 Steps) (loss=0.37981):   5%|▌         | 1/20 [00:38<12:05, 38.18s/it]"
     ]
    },
    {
     "name": "stdout",
     "output_type": "stream",
     "text": [
      "Model Was Not Saved ! Current Best Avg. Dice: 0.6473864316940308 Current Avg. Dice: 0.6298536658287048 Current Avg. tumor Dice: 0.7337777614593506 Current Avg. lymph Dice: 0.5066494345664978\n"
     ]
    },
    {
     "name": "stderr",
     "output_type": "stream",
     "text": [
      "Training (10419 / 18000 Steps) (loss=0.47864): 100%|██████████| 20/20 [01:08<00:00,  3.43s/it]\n",
      "Training (10439 / 18000 Steps) (loss=0.31264): 100%|██████████| 20/20 [00:37<00:00,  1.89s/it]\n",
      "Training (10459 / 18000 Steps) (loss=0.43749): 100%|██████████| 20/20 [00:38<00:00,  1.94s/it]\n",
      "Training (10479 / 18000 Steps) (loss=0.29779): 100%|██████████| 20/20 [00:38<00:00,  1.95s/it]\n",
      "Training (10499 / 18000 Steps) (loss=0.40843): 100%|██████████| 20/20 [00:37<00:00,  1.88s/it]\n",
      "Validate (10500 / 10 Steps): 100%|██████████| 8/8 [00:31<00:00,  3.91s/it]8<?, ?it/s]\n",
      "Training (10500 / 18000 Steps) (loss=0.24803):   5%|▌         | 1/20 [00:39<12:29, 39.43s/it]"
     ]
    },
    {
     "name": "stdout",
     "output_type": "stream",
     "text": [
      "Model Was Not Saved ! Current Best Avg. Dice: 0.6473864316940308 Current Avg. Dice: 0.6303549408912659 Current Avg. tumor Dice: 0.7264257073402405 Current Avg. lymph Dice: 0.5166077017784119\n"
     ]
    },
    {
     "name": "stderr",
     "output_type": "stream",
     "text": [
      "Training (10519 / 18000 Steps) (loss=0.53377): 100%|██████████| 20/20 [01:10<00:00,  3.51s/it]\n",
      "Training (10539 / 18000 Steps) (loss=0.27079): 100%|██████████| 20/20 [00:38<00:00,  1.91s/it]\n",
      "Training (10559 / 18000 Steps) (loss=0.19777): 100%|██████████| 20/20 [00:37<00:00,  1.89s/it]\n",
      "Training (10579 / 18000 Steps) (loss=0.33446): 100%|██████████| 20/20 [00:37<00:00,  1.90s/it]\n",
      "Training (10599 / 18000 Steps) (loss=0.57905): 100%|██████████| 20/20 [00:37<00:00,  1.89s/it]\n",
      "Validate (10600 / 10 Steps): 100%|██████████| 8/8 [00:30<00:00,  3.87s/it]8<?, ?it/s]\n",
      "Training (10600 / 18000 Steps) (loss=0.42621):   5%|▌         | 1/20 [00:39<12:33, 39.63s/it]"
     ]
    },
    {
     "name": "stdout",
     "output_type": "stream",
     "text": [
      "Model Was Not Saved ! Current Best Avg. Dice: 0.6473864316940308 Current Avg. Dice: 0.605290412902832 Current Avg. tumor Dice: 0.7182857394218445 Current Avg. lymph Dice: 0.4732455611228943\n"
     ]
    },
    {
     "name": "stderr",
     "output_type": "stream",
     "text": [
      "Training (10619 / 18000 Steps) (loss=0.18248): 100%|██████████| 20/20 [01:10<00:00,  3.52s/it]\n",
      "Training (10639 / 18000 Steps) (loss=0.38051): 100%|██████████| 20/20 [00:40<00:00,  2.00s/it]\n",
      "Training (10659 / 18000 Steps) (loss=0.30986): 100%|██████████| 20/20 [00:39<00:00,  1.97s/it]\n",
      "Training (10679 / 18000 Steps) (loss=0.40710): 100%|██████████| 20/20 [00:38<00:00,  1.92s/it]\n",
      "Training (10699 / 18000 Steps) (loss=0.48720): 100%|██████████| 20/20 [00:37<00:00,  1.87s/it]\n",
      "Validate (10700 / 10 Steps): 100%|██████████| 8/8 [00:31<00:00,  3.88s/it]9<?, ?it/s]\n",
      "Training (10700 / 18000 Steps) (loss=0.35800):   5%|▌         | 1/20 [00:40<12:45, 40.29s/it]"
     ]
    },
    {
     "name": "stdout",
     "output_type": "stream",
     "text": [
      "Model Was Not Saved ! Current Best Avg. Dice: 0.6473864316940308 Current Avg. Dice: 0.6247541904449463 Current Avg. tumor Dice: 0.716897189617157 Current Avg. lymph Dice: 0.516025185585022\n"
     ]
    },
    {
     "name": "stderr",
     "output_type": "stream",
     "text": [
      "Training (10719 / 18000 Steps) (loss=0.36524): 100%|██████████| 20/20 [01:10<00:00,  3.54s/it]\n",
      "Training (10739 / 18000 Steps) (loss=0.24292): 100%|██████████| 20/20 [00:37<00:00,  1.89s/it]\n",
      "Training (10759 / 18000 Steps) (loss=0.28733): 100%|██████████| 20/20 [00:37<00:00,  1.85s/it]\n",
      "Training (10779 / 18000 Steps) (loss=0.37292): 100%|██████████| 20/20 [00:38<00:00,  1.91s/it]\n",
      "Training (10799 / 18000 Steps) (loss=0.65517): 100%|██████████| 20/20 [00:38<00:00,  1.94s/it]\n",
      "Validate (10800 / 10 Steps): 100%|██████████| 8/8 [00:31<00:00,  3.90s/it]9<?, ?it/s]\n",
      "Training (10800 / 18000 Steps) (loss=0.28811):   5%|▌         | 1/20 [00:40<12:49, 40.48s/it]"
     ]
    },
    {
     "name": "stdout",
     "output_type": "stream",
     "text": [
      "Model Was Not Saved ! Current Best Avg. Dice: 0.6473864316940308 Current Avg. Dice: 0.6264540553092957 Current Avg. tumor Dice: 0.72110515832901 Current Avg. lymph Dice: 0.5167654156684875\n"
     ]
    },
    {
     "name": "stderr",
     "output_type": "stream",
     "text": [
      "Training (10819 / 18000 Steps) (loss=0.55802): 100%|██████████| 20/20 [01:10<00:00,  3.55s/it]\n",
      "Training (10839 / 18000 Steps) (loss=0.40463): 100%|██████████| 20/20 [00:37<00:00,  1.90s/it]\n",
      "Training (10859 / 18000 Steps) (loss=0.53817): 100%|██████████| 20/20 [00:37<00:00,  1.88s/it]\n",
      "Training (10879 / 18000 Steps) (loss=0.46816): 100%|██████████| 20/20 [00:39<00:00,  1.97s/it]\n",
      "Training (10899 / 18000 Steps) (loss=0.31462): 100%|██████████| 20/20 [00:37<00:00,  1.85s/it]\n",
      "Validate (10900 / 10 Steps): 100%|██████████| 8/8 [00:31<00:00,  3.94s/it]6<?, ?it/s]\n",
      "Training (10900 / 18000 Steps) (loss=0.32191):   5%|▌         | 1/20 [00:38<12:10, 38.43s/it]"
     ]
    },
    {
     "name": "stdout",
     "output_type": "stream",
     "text": [
      "Model Was Not Saved ! Current Best Avg. Dice: 0.6473864316940308 Current Avg. Dice: 0.6229249238967896 Current Avg. tumor Dice: 0.7199854254722595 Current Avg. lymph Dice: 0.5071009397506714\n"
     ]
    },
    {
     "name": "stderr",
     "output_type": "stream",
     "text": [
      "Training (10919 / 18000 Steps) (loss=0.62356): 100%|██████████| 20/20 [01:08<00:00,  3.44s/it]\n",
      "Training (10939 / 18000 Steps) (loss=0.48000): 100%|██████████| 20/20 [00:38<00:00,  1.95s/it]\n",
      "Training (10959 / 18000 Steps) (loss=0.14381): 100%|██████████| 20/20 [00:37<00:00,  1.88s/it]\n",
      "Training (10979 / 18000 Steps) (loss=0.36301): 100%|██████████| 20/20 [00:38<00:00,  1.93s/it]\n",
      "Training (10999 / 18000 Steps) (loss=0.13337): 100%|██████████| 20/20 [00:38<00:00,  1.94s/it]\n",
      "Validate (11000 / 10 Steps): 100%|██████████| 8/8 [00:31<00:00,  3.93s/it]7<?, ?it/s]\n",
      "Training (11000 / 18000 Steps) (loss=0.27960):   5%|▌         | 1/20 [00:38<12:15, 38.73s/it]"
     ]
    },
    {
     "name": "stdout",
     "output_type": "stream",
     "text": [
      "Model Was Not Saved ! Current Best Avg. Dice: 0.6473864316940308 Current Avg. Dice: 0.6145783066749573 Current Avg. tumor Dice: 0.7125439047813416 Current Avg. lymph Dice: 0.5011509656906128\n"
     ]
    },
    {
     "name": "stderr",
     "output_type": "stream",
     "text": [
      "Training (11019 / 18000 Steps) (loss=0.28449): 100%|██████████| 20/20 [01:09<00:00,  3.46s/it]\n",
      "Training (11039 / 18000 Steps) (loss=0.48739): 100%|██████████| 20/20 [00:37<00:00,  1.88s/it]\n",
      "Training (11059 / 18000 Steps) (loss=0.41262): 100%|██████████| 20/20 [00:38<00:00,  1.91s/it]\n",
      "Training (11079 / 18000 Steps) (loss=0.39370): 100%|██████████| 20/20 [00:38<00:00,  1.90s/it]\n",
      "Training (11099 / 18000 Steps) (loss=0.32687): 100%|██████████| 20/20 [00:37<00:00,  1.88s/it]\n",
      "Validate (11100 / 10 Steps): 100%|██████████| 8/8 [00:31<00:00,  3.88s/it]7<?, ?it/s]\n",
      "Training (11100 / 18000 Steps) (loss=0.43484):   5%|▌         | 1/20 [00:38<12:08, 38.33s/it]"
     ]
    },
    {
     "name": "stdout",
     "output_type": "stream",
     "text": [
      "Model Was Not Saved ! Current Best Avg. Dice: 0.6473864316940308 Current Avg. Dice: 0.606926679611206 Current Avg. tumor Dice: 0.7093988060951233 Current Avg. lymph Dice: 0.48083290457725525\n"
     ]
    },
    {
     "name": "stderr",
     "output_type": "stream",
     "text": [
      "Training (11119 / 18000 Steps) (loss=0.39149): 100%|██████████| 20/20 [01:08<00:00,  3.44s/it]\n",
      "Training (11139 / 18000 Steps) (loss=0.33715): 100%|██████████| 20/20 [00:37<00:00,  1.88s/it]\n",
      "Training (11159 / 18000 Steps) (loss=0.56105): 100%|██████████| 20/20 [00:37<00:00,  1.87s/it]\n",
      "Training (11179 / 18000 Steps) (loss=0.66257): 100%|██████████| 20/20 [00:38<00:00,  1.93s/it]\n",
      "Training (11199 / 18000 Steps) (loss=0.30087): 100%|██████████| 20/20 [00:38<00:00,  1.94s/it]\n",
      "Validate (11200 / 10 Steps): 100%|██████████| 8/8 [00:30<00:00,  3.86s/it]9<?, ?it/s]\n",
      "Training (11200 / 18000 Steps) (loss=0.34725):   5%|▌         | 1/20 [00:40<12:49, 40.52s/it]"
     ]
    },
    {
     "name": "stdout",
     "output_type": "stream",
     "text": [
      "Model Was Not Saved ! Current Best Avg. Dice: 0.6473864316940308 Current Avg. Dice: 0.6112061142921448 Current Avg. tumor Dice: 0.7184942960739136 Current Avg. lymph Dice: 0.4735894501209259\n"
     ]
    },
    {
     "name": "stderr",
     "output_type": "stream",
     "text": [
      "Training (11219 / 18000 Steps) (loss=0.13402): 100%|██████████| 20/20 [01:11<00:00,  3.55s/it]\n",
      "Training (11239 / 18000 Steps) (loss=0.51511): 100%|██████████| 20/20 [00:37<00:00,  1.89s/it]\n",
      "Training (11259 / 18000 Steps) (loss=0.34623): 100%|██████████| 20/20 [00:38<00:00,  1.90s/it]\n",
      "Training (11279 / 18000 Steps) (loss=0.47129): 100%|██████████| 20/20 [00:38<00:00,  1.91s/it]\n",
      "Training (11299 / 18000 Steps) (loss=0.34288): 100%|██████████| 20/20 [00:39<00:00,  1.98s/it]\n",
      "Validate (11300 / 10 Steps): 100%|██████████| 8/8 [00:30<00:00,  3.87s/it]9<?, ?it/s]\n",
      "Training (11300 / 18000 Steps) (loss=0.35036):   5%|▌         | 1/20 [00:40<12:53, 40.74s/it]"
     ]
    },
    {
     "name": "stdout",
     "output_type": "stream",
     "text": [
      "Model Was Not Saved ! Current Best Avg. Dice: 0.6473864316940308 Current Avg. Dice: 0.5995463132858276 Current Avg. tumor Dice: 0.7172146439552307 Current Avg. lymph Dice: 0.45368507504463196\n"
     ]
    },
    {
     "name": "stderr",
     "output_type": "stream",
     "text": [
      "Training (11319 / 18000 Steps) (loss=0.41687): 100%|██████████| 20/20 [01:11<00:00,  3.57s/it]\n",
      "Training (11339 / 18000 Steps) (loss=0.43135): 100%|██████████| 20/20 [00:38<00:00,  1.92s/it]\n",
      "Training (11359 / 18000 Steps) (loss=0.20556): 100%|██████████| 20/20 [00:38<00:00,  1.90s/it]\n",
      "Training (11379 / 18000 Steps) (loss=0.53442): 100%|██████████| 20/20 [00:38<00:00,  1.93s/it]\n",
      "Training (11399 / 18000 Steps) (loss=0.38619): 100%|██████████| 20/20 [00:38<00:00,  1.90s/it]\n",
      "Validate (11400 / 10 Steps): 100%|██████████| 8/8 [00:31<00:00,  3.93s/it]6<?, ?it/s]\n",
      "Training (11400 / 18000 Steps) (loss=0.27944):   5%|▌         | 1/20 [00:38<12:10, 38.43s/it]"
     ]
    },
    {
     "name": "stdout",
     "output_type": "stream",
     "text": [
      "Model Was Not Saved ! Current Best Avg. Dice: 0.6473864316940308 Current Avg. Dice: 0.6106148958206177 Current Avg. tumor Dice: 0.7181139588356018 Current Avg. lymph Dice: 0.4873051345348358\n"
     ]
    },
    {
     "name": "stderr",
     "output_type": "stream",
     "text": [
      "Training (11419 / 18000 Steps) (loss=0.40148): 100%|██████████| 20/20 [01:08<00:00,  3.44s/it]\n",
      "Training (11439 / 18000 Steps) (loss=0.30140): 100%|██████████| 20/20 [00:37<00:00,  1.87s/it]\n",
      "Training (11459 / 18000 Steps) (loss=0.46834): 100%|██████████| 20/20 [00:39<00:00,  1.98s/it]\n",
      "Training (11479 / 18000 Steps) (loss=0.54732): 100%|██████████| 20/20 [00:37<00:00,  1.87s/it]\n",
      "Training (11499 / 18000 Steps) (loss=0.42577): 100%|██████████| 20/20 [00:38<00:00,  1.91s/it]\n",
      "Validate (11500 / 10 Steps): 100%|██████████| 8/8 [00:31<00:00,  3.94s/it]6<?, ?it/s]\n",
      "Training (11500 / 18000 Steps) (loss=0.33394):   5%|▌         | 1/20 [00:38<12:04, 38.13s/it]"
     ]
    },
    {
     "name": "stdout",
     "output_type": "stream",
     "text": [
      "Model Was Not Saved ! Current Best Avg. Dice: 0.6473864316940308 Current Avg. Dice: 0.6329943537712097 Current Avg. tumor Dice: 0.7344791293144226 Current Avg. lymph Dice: 0.5147208571434021\n"
     ]
    },
    {
     "name": "stderr",
     "output_type": "stream",
     "text": [
      "Training (11519 / 18000 Steps) (loss=0.34670): 100%|██████████| 20/20 [01:08<00:00,  3.42s/it]\n",
      "Training (11539 / 18000 Steps) (loss=0.31740): 100%|██████████| 20/20 [00:39<00:00,  1.98s/it]\n",
      "Training (11559 / 18000 Steps) (loss=0.40521): 100%|██████████| 20/20 [00:37<00:00,  1.87s/it]\n",
      "Training (11579 / 18000 Steps) (loss=0.23768): 100%|██████████| 20/20 [00:38<00:00,  1.94s/it]\n",
      "Training (11599 / 18000 Steps) (loss=0.46821): 100%|██████████| 20/20 [00:38<00:00,  1.92s/it]\n",
      "Validate (11600 / 10 Steps): 100%|██████████| 8/8 [00:31<00:00,  3.94s/it]7<?, ?it/s]\n",
      "Training (11600 / 18000 Steps) (loss=0.31162):   5%|▌         | 1/20 [00:38<12:15, 38.69s/it]"
     ]
    },
    {
     "name": "stdout",
     "output_type": "stream",
     "text": [
      "Model Was Not Saved ! Current Best Avg. Dice: 0.6473864316940308 Current Avg. Dice: 0.6184878945350647 Current Avg. tumor Dice: 0.7285206913948059 Current Avg. lymph Dice: 0.4851198196411133\n"
     ]
    },
    {
     "name": "stderr",
     "output_type": "stream",
     "text": [
      "Training (11619 / 18000 Steps) (loss=0.31394): 100%|██████████| 20/20 [01:09<00:00,  3.46s/it]\n",
      "Training (11639 / 18000 Steps) (loss=0.41885): 100%|██████████| 20/20 [00:37<00:00,  1.87s/it]\n",
      "Training (11659 / 18000 Steps) (loss=0.25369): 100%|██████████| 20/20 [00:37<00:00,  1.89s/it]\n",
      "Training (11679 / 18000 Steps) (loss=0.62030): 100%|██████████| 20/20 [00:37<00:00,  1.88s/it]\n",
      "Training (11699 / 18000 Steps) (loss=0.45156): 100%|██████████| 20/20 [00:38<00:00,  1.93s/it]\n",
      "Validate (11700 / 10 Steps): 100%|██████████| 8/8 [00:31<00:00,  3.92s/it]7<?, ?it/s]\n",
      "Training (11700 / 18000 Steps) (loss=0.36679):   5%|▌         | 1/20 [00:38<12:14, 38.65s/it]"
     ]
    },
    {
     "name": "stdout",
     "output_type": "stream",
     "text": [
      "Model Was Not Saved ! Current Best Avg. Dice: 0.6473864316940308 Current Avg. Dice: 0.6037377715110779 Current Avg. tumor Dice: 0.7214853763580322 Current Avg. lymph Dice: 0.4622982442378998\n"
     ]
    },
    {
     "name": "stderr",
     "output_type": "stream",
     "text": [
      "Training (11719 / 18000 Steps) (loss=0.15403): 100%|██████████| 20/20 [01:09<00:00,  3.45s/it]\n",
      "Training (11739 / 18000 Steps) (loss=0.33598): 100%|██████████| 20/20 [00:38<00:00,  1.93s/it]\n",
      "Training (11759 / 18000 Steps) (loss=0.35146): 100%|██████████| 20/20 [00:40<00:00,  2.01s/it]\n",
      "Training (11779 / 18000 Steps) (loss=0.26676): 100%|██████████| 20/20 [00:37<00:00,  1.87s/it]\n",
      "Training (11799 / 18000 Steps) (loss=0.35231): 100%|██████████| 20/20 [00:38<00:00,  1.93s/it]\n",
      "Validate (11800 / 10 Steps): 100%|██████████| 8/8 [00:31<00:00,  3.89s/it]8<?, ?it/s]\n",
      "Training (11800 / 18000 Steps) (loss=0.30092):   5%|▌         | 1/20 [00:39<12:36, 39.82s/it]"
     ]
    },
    {
     "name": "stdout",
     "output_type": "stream",
     "text": [
      "Model Was Not Saved ! Current Best Avg. Dice: 0.6473864316940308 Current Avg. Dice: 0.6272266507148743 Current Avg. tumor Dice: 0.7261599898338318 Current Avg. lymph Dice: 0.5038536190986633\n"
     ]
    },
    {
     "name": "stderr",
     "output_type": "stream",
     "text": [
      "Training (11819 / 18000 Steps) (loss=0.43631): 100%|██████████| 20/20 [01:10<00:00,  3.52s/it]\n",
      "Training (11839 / 18000 Steps) (loss=0.36837): 100%|██████████| 20/20 [00:38<00:00,  1.90s/it]\n",
      "Training (11859 / 18000 Steps) (loss=0.61026): 100%|██████████| 20/20 [00:38<00:00,  1.94s/it]\n",
      "Training (11879 / 18000 Steps) (loss=0.35956): 100%|██████████| 20/20 [00:37<00:00,  1.87s/it]\n",
      "Training (11899 / 18000 Steps) (loss=0.22124): 100%|██████████| 20/20 [00:39<00:00,  2.00s/it]\n",
      "Validate (11900 / 10 Steps): 100%|██████████| 8/8 [00:31<00:00,  3.91s/it]8<?, ?it/s]\n",
      "Training (11900 / 18000 Steps) (loss=0.43049):   5%|▌         | 1/20 [00:39<12:34, 39.70s/it]"
     ]
    },
    {
     "name": "stdout",
     "output_type": "stream",
     "text": [
      "Model Was Not Saved ! Current Best Avg. Dice: 0.6473864316940308 Current Avg. Dice: 0.6210731267929077 Current Avg. tumor Dice: 0.723159670829773 Current Avg. lymph Dice: 0.5048502683639526\n"
     ]
    },
    {
     "name": "stderr",
     "output_type": "stream",
     "text": [
      "Training (11919 / 18000 Steps) (loss=0.44378): 100%|██████████| 20/20 [01:10<00:00,  3.51s/it]\n",
      "Training (11939 / 18000 Steps) (loss=0.33321): 100%|██████████| 20/20 [00:38<00:00,  1.93s/it]\n",
      "Training (11959 / 18000 Steps) (loss=0.53544): 100%|██████████| 20/20 [00:39<00:00,  1.98s/it]\n",
      "Training (11979 / 18000 Steps) (loss=0.33863): 100%|██████████| 20/20 [00:39<00:00,  1.97s/it]\n",
      "Training (11999 / 18000 Steps) (loss=0.42411): 100%|██████████| 20/20 [00:39<00:00,  1.97s/it]\n",
      "Validate (12000 / 10 Steps): 100%|██████████| 8/8 [00:31<00:00,  3.92s/it]8<?, ?it/s]\n",
      "Training (12000 / 18000 Steps) (loss=0.23716):   5%|▌         | 1/20 [00:39<12:29, 39.45s/it]"
     ]
    },
    {
     "name": "stdout",
     "output_type": "stream",
     "text": [
      "Model Was Not Saved ! Current Best Avg. Dice: 0.6473864316940308 Current Avg. Dice: 0.6257928013801575 Current Avg. tumor Dice: 0.7327357530593872 Current Avg. lymph Dice: 0.5011841058731079\n"
     ]
    },
    {
     "name": "stderr",
     "output_type": "stream",
     "text": [
      "Training (12019 / 18000 Steps) (loss=0.15384): 100%|██████████| 20/20 [01:10<00:00,  3.50s/it]\n",
      "Training (12039 / 18000 Steps) (loss=0.44914): 100%|██████████| 20/20 [00:40<00:00,  2.04s/it]\n",
      "Training (12059 / 18000 Steps) (loss=0.50482): 100%|██████████| 20/20 [00:40<00:00,  2.02s/it]\n",
      "Training (12079 / 18000 Steps) (loss=0.45783): 100%|██████████| 20/20 [00:37<00:00,  1.90s/it]\n",
      "Training (12099 / 18000 Steps) (loss=0.35181): 100%|██████████| 20/20 [00:39<00:00,  1.96s/it]\n",
      "Validate (12100 / 10 Steps): 100%|██████████| 8/8 [00:31<00:00,  3.89s/it]9<?, ?it/s]\n",
      "Training (12100 / 18000 Steps) (loss=0.46595):   5%|▌         | 1/20 [00:40<12:48, 40.46s/it]"
     ]
    },
    {
     "name": "stdout",
     "output_type": "stream",
     "text": [
      "Model Was Not Saved ! Current Best Avg. Dice: 0.6473864316940308 Current Avg. Dice: 0.6173827648162842 Current Avg. tumor Dice: 0.726848840713501 Current Avg. lymph Dice: 0.48995113372802734\n"
     ]
    },
    {
     "name": "stderr",
     "output_type": "stream",
     "text": [
      "Training (12119 / 18000 Steps) (loss=0.48784): 100%|██████████| 20/20 [01:11<00:00,  3.56s/it]\n",
      "Training (12139 / 18000 Steps) (loss=0.53907): 100%|██████████| 20/20 [00:37<00:00,  1.86s/it]\n",
      "Training (12159 / 18000 Steps) (loss=0.33626): 100%|██████████| 20/20 [00:37<00:00,  1.89s/it]\n",
      "Training (12179 / 18000 Steps) (loss=0.40872): 100%|██████████| 20/20 [00:38<00:00,  1.92s/it]\n",
      "Training (12199 / 18000 Steps) (loss=0.23952): 100%|██████████| 20/20 [00:37<00:00,  1.89s/it]\n",
      "Validate (12200 / 10 Steps): 100%|██████████| 8/8 [00:31<00:00,  3.91s/it]6<?, ?it/s]\n",
      "Training (12200 / 18000 Steps) (loss=0.31348):   5%|▌         | 1/20 [00:38<12:06, 38.26s/it]"
     ]
    },
    {
     "name": "stdout",
     "output_type": "stream",
     "text": [
      "Model Was Not Saved ! Current Best Avg. Dice: 0.6473864316940308 Current Avg. Dice: 0.6430033445358276 Current Avg. tumor Dice: 0.7407891154289246 Current Avg. lymph Dice: 0.5220345258712769\n"
     ]
    },
    {
     "name": "stderr",
     "output_type": "stream",
     "text": [
      "Training (12219 / 18000 Steps) (loss=0.32815): 100%|██████████| 20/20 [01:08<00:00,  3.44s/it]\n",
      "Training (12239 / 18000 Steps) (loss=0.47456): 100%|██████████| 20/20 [00:38<00:00,  1.95s/it]\n",
      "Training (12259 / 18000 Steps) (loss=0.27188): 100%|██████████| 20/20 [00:40<00:00,  2.04s/it]\n",
      "Training (12279 / 18000 Steps) (loss=0.50739): 100%|██████████| 20/20 [00:37<00:00,  1.88s/it]\n",
      "Training (12299 / 18000 Steps) (loss=0.48506): 100%|██████████| 20/20 [00:39<00:00,  1.97s/it]\n",
      "Validate (12300 / 10 Steps): 100%|██████████| 8/8 [00:31<00:00,  3.92s/it]6<?, ?it/s]\n",
      "Training (12300 / 18000 Steps) (loss=0.37991):   5%|▌         | 1/20 [00:38<12:02, 38.02s/it]"
     ]
    },
    {
     "name": "stdout",
     "output_type": "stream",
     "text": [
      "Model Was Not Saved ! Current Best Avg. Dice: 0.6473864316940308 Current Avg. Dice: 0.6357592344284058 Current Avg. tumor Dice: 0.7374371886253357 Current Avg. lymph Dice: 0.506820559501648\n"
     ]
    },
    {
     "name": "stderr",
     "output_type": "stream",
     "text": [
      "Training (12319 / 18000 Steps) (loss=0.64580): 100%|██████████| 20/20 [01:08<00:00,  3.45s/it]\n",
      "Training (12339 / 18000 Steps) (loss=0.51453): 100%|██████████| 20/20 [00:38<00:00,  1.90s/it]\n",
      "Training (12359 / 18000 Steps) (loss=0.37979): 100%|██████████| 20/20 [00:40<00:00,  2.02s/it]\n",
      "Training (12379 / 18000 Steps) (loss=0.27836): 100%|██████████| 20/20 [00:40<00:00,  2.03s/it]\n",
      "Training (12399 / 18000 Steps) (loss=0.47596): 100%|██████████| 20/20 [00:38<00:00,  1.95s/it]\n",
      "Validate (12400 / 10 Steps): 100%|██████████| 8/8 [00:31<00:00,  3.95s/it]6<?, ?it/s]\n",
      "Training (12400 / 18000 Steps) (loss=0.47315):   5%|▌         | 1/20 [00:38<12:12, 38.53s/it]"
     ]
    },
    {
     "name": "stdout",
     "output_type": "stream",
     "text": [
      "Model Was Not Saved ! Current Best Avg. Dice: 0.6473864316940308 Current Avg. Dice: 0.6225128769874573 Current Avg. tumor Dice: 0.7339932918548584 Current Avg. lymph Dice: 0.48864036798477173\n"
     ]
    },
    {
     "name": "stderr",
     "output_type": "stream",
     "text": [
      "Training (12419 / 18000 Steps) (loss=0.21788): 100%|██████████| 20/20 [01:09<00:00,  3.47s/it]\n",
      "Training (12439 / 18000 Steps) (loss=0.49747): 100%|██████████| 20/20 [00:40<00:00,  2.01s/it]\n",
      "Training (12459 / 18000 Steps) (loss=0.27273): 100%|██████████| 20/20 [00:39<00:00,  1.99s/it]\n",
      "Training (12479 / 18000 Steps) (loss=0.40905): 100%|██████████| 20/20 [00:38<00:00,  1.90s/it]\n",
      "Training (12499 / 18000 Steps) (loss=0.47622): 100%|██████████| 20/20 [00:39<00:00,  1.97s/it]\n",
      "Validate (12500 / 10 Steps): 100%|██████████| 8/8 [00:30<00:00,  3.86s/it]9<?, ?it/s]\n",
      "Training (12500 / 18000 Steps) (loss=0.40154):   5%|▌         | 1/20 [00:40<12:44, 40.26s/it]"
     ]
    },
    {
     "name": "stdout",
     "output_type": "stream",
     "text": [
      "Model Was Not Saved ! Current Best Avg. Dice: 0.6473864316940308 Current Avg. Dice: 0.6452742218971252 Current Avg. tumor Dice: 0.7437627911567688 Current Avg. lymph Dice: 0.5264554023742676\n"
     ]
    },
    {
     "name": "stderr",
     "output_type": "stream",
     "text": [
      "Training (12519 / 18000 Steps) (loss=0.47021): 100%|██████████| 20/20 [01:11<00:00,  3.55s/it]\n",
      "Training (12539 / 18000 Steps) (loss=0.23474): 100%|██████████| 20/20 [00:37<00:00,  1.87s/it]\n",
      "Training (12559 / 18000 Steps) (loss=0.19907): 100%|██████████| 20/20 [00:39<00:00,  1.96s/it]\n",
      "Training (12579 / 18000 Steps) (loss=0.32059): 100%|██████████| 20/20 [00:40<00:00,  2.01s/it]\n",
      "Training (12599 / 18000 Steps) (loss=0.60008): 100%|██████████| 20/20 [00:38<00:00,  1.94s/it]\n",
      "Validate (12600 / 10 Steps): 100%|██████████| 8/8 [00:30<00:00,  3.87s/it]9<?, ?it/s]\n",
      "Training (12600 / 18000 Steps) (loss=0.31491):   5%|▌         | 1/20 [00:40<12:58, 40.95s/it]"
     ]
    },
    {
     "name": "stdout",
     "output_type": "stream",
     "text": [
      "Model Was Not Saved ! Current Best Avg. Dice: 0.6473864316940308 Current Avg. Dice: 0.6317452788352966 Current Avg. tumor Dice: 0.7365533113479614 Current Avg. lymph Dice: 0.5038589835166931\n"
     ]
    },
    {
     "name": "stderr",
     "output_type": "stream",
     "text": [
      "Training (12619 / 18000 Steps) (loss=0.43085): 100%|██████████| 20/20 [01:11<00:00,  3.58s/it]\n",
      "Training (12639 / 18000 Steps) (loss=0.30063): 100%|██████████| 20/20 [00:38<00:00,  1.93s/it]\n",
      "Training (12659 / 18000 Steps) (loss=0.17173): 100%|██████████| 20/20 [00:37<00:00,  1.89s/it]\n",
      "Training (12679 / 18000 Steps) (loss=0.57356): 100%|██████████| 20/20 [00:37<00:00,  1.89s/it]\n",
      "Training (12699 / 18000 Steps) (loss=0.30812): 100%|██████████| 20/20 [00:39<00:00,  1.98s/it]\n",
      "Validate (12700 / 10 Steps): 100%|██████████| 8/8 [00:31<00:00,  3.92s/it]6<?, ?it/s]\n",
      "Training (12700 / 18000 Steps) (loss=0.50382):   5%|▌         | 1/20 [00:37<12:01, 37.97s/it]"
     ]
    },
    {
     "name": "stdout",
     "output_type": "stream",
     "text": [
      "Model Was Not Saved ! Current Best Avg. Dice: 0.6473864316940308 Current Avg. Dice: 0.6276613473892212 Current Avg. tumor Dice: 0.7373747229576111 Current Avg. lymph Dice: 0.4984898269176483\n"
     ]
    },
    {
     "name": "stderr",
     "output_type": "stream",
     "text": [
      "Training (12719 / 18000 Steps) (loss=0.40996): 100%|██████████| 20/20 [01:08<00:00,  3.43s/it]\n",
      "Training (12739 / 18000 Steps) (loss=0.27844): 100%|██████████| 20/20 [00:38<00:00,  1.91s/it]\n",
      "Training (12759 / 18000 Steps) (loss=0.42329): 100%|██████████| 20/20 [00:37<00:00,  1.90s/it]\n",
      "Training (12779 / 18000 Steps) (loss=0.37721): 100%|██████████| 20/20 [00:40<00:00,  2.01s/it]\n",
      "Training (12799 / 18000 Steps) (loss=0.41912): 100%|██████████| 20/20 [00:38<00:00,  1.91s/it]\n",
      "Validate (12800 / 10 Steps): 100%|██████████| 8/8 [00:31<00:00,  3.91s/it]6<?, ?it/s]\n",
      "Training (12800 / 18000 Steps) (loss=0.35764):   5%|▌         | 1/20 [00:37<12:00, 37.95s/it]"
     ]
    },
    {
     "name": "stdout",
     "output_type": "stream",
     "text": [
      "Model Was Not Saved ! Current Best Avg. Dice: 0.6473864316940308 Current Avg. Dice: 0.6353403329849243 Current Avg. tumor Dice: 0.7340323328971863 Current Avg. lymph Dice: 0.5130066871643066\n"
     ]
    },
    {
     "name": "stderr",
     "output_type": "stream",
     "text": [
      "Training (12819 / 18000 Steps) (loss=0.35479): 100%|██████████| 20/20 [01:08<00:00,  3.42s/it]\n",
      "Training (12839 / 18000 Steps) (loss=0.30782): 100%|██████████| 20/20 [00:37<00:00,  1.88s/it]\n",
      "Training (12859 / 18000 Steps) (loss=0.60159): 100%|██████████| 20/20 [00:40<00:00,  2.01s/it]\n",
      "Training (12879 / 18000 Steps) (loss=0.46776): 100%|██████████| 20/20 [00:39<00:00,  1.95s/it]\n",
      "Training (12899 / 18000 Steps) (loss=0.37551): 100%|██████████| 20/20 [00:37<00:00,  1.89s/it]\n",
      "Validate (12900 / 10 Steps): 100%|██████████| 8/8 [00:31<00:00,  3.92s/it]6<?, ?it/s]\n",
      "Training (12900 / 18000 Steps) (loss=0.33680):   5%|▌         | 1/20 [00:37<12:01, 37.97s/it]"
     ]
    },
    {
     "name": "stdout",
     "output_type": "stream",
     "text": [
      "Model Was Not Saved ! Current Best Avg. Dice: 0.6473864316940308 Current Avg. Dice: 0.6314839720726013 Current Avg. tumor Dice: 0.731616735458374 Current Avg. lymph Dice: 0.5110204219818115\n"
     ]
    },
    {
     "name": "stderr",
     "output_type": "stream",
     "text": [
      "Training (12919 / 18000 Steps) (loss=0.31343): 100%|██████████| 20/20 [01:08<00:00,  3.43s/it]\n",
      "Training (12939 / 18000 Steps) (loss=0.19606): 100%|██████████| 20/20 [00:37<00:00,  1.88s/it]\n",
      "Training (12959 / 18000 Steps) (loss=0.26832): 100%|██████████| 20/20 [00:39<00:00,  1.95s/it]\n",
      "Training (12979 / 18000 Steps) (loss=0.36242): 100%|██████████| 20/20 [00:40<00:00,  2.01s/it]\n",
      "Training (12999 / 18000 Steps) (loss=0.54679): 100%|██████████| 20/20 [00:37<00:00,  1.89s/it]\n",
      "Validate (13000 / 10 Steps): 100%|██████████| 8/8 [00:31<00:00,  3.89s/it]8<?, ?it/s]\n",
      "Training (13000 / 18000 Steps) (loss=0.26172):   5%|▌         | 1/20 [00:39<12:31, 39.58s/it]"
     ]
    },
    {
     "name": "stdout",
     "output_type": "stream",
     "text": [
      "Model Was Not Saved ! Current Best Avg. Dice: 0.6473864316940308 Current Avg. Dice: 0.6412525177001953 Current Avg. tumor Dice: 0.7423359155654907 Current Avg. lymph Dice: 0.520220935344696\n"
     ]
    },
    {
     "name": "stderr",
     "output_type": "stream",
     "text": [
      "Training (13019 / 18000 Steps) (loss=0.27713): 100%|██████████| 20/20 [01:10<00:00,  3.50s/it]\n",
      "Training (13039 / 18000 Steps) (loss=0.21965): 100%|██████████| 20/20 [00:38<00:00,  1.93s/it]\n",
      "Training (13059 / 18000 Steps) (loss=0.39843): 100%|██████████| 20/20 [00:39<00:00,  1.95s/it]\n",
      "Training (13079 / 18000 Steps) (loss=0.29102): 100%|██████████| 20/20 [00:38<00:00,  1.93s/it]\n",
      "Training (13099 / 18000 Steps) (loss=0.40756): 100%|██████████| 20/20 [00:39<00:00,  1.98s/it]\n",
      "Validate (13100 / 10 Steps): 100%|██████████| 8/8 [00:31<00:00,  3.90s/it]7<?, ?it/s]\n",
      "Training (13100 / 18000 Steps) (loss=0.53522):   5%|▌         | 1/20 [00:38<12:06, 38.24s/it]"
     ]
    },
    {
     "name": "stdout",
     "output_type": "stream",
     "text": [
      "Model Was Not Saved ! Current Best Avg. Dice: 0.6473864316940308 Current Avg. Dice: 0.6036142706871033 Current Avg. tumor Dice: 0.7279366850852966 Current Avg. lymph Dice: 0.4443322420120239\n"
     ]
    },
    {
     "name": "stderr",
     "output_type": "stream",
     "text": [
      "Training (13119 / 18000 Steps) (loss=0.20720): 100%|██████████| 20/20 [01:08<00:00,  3.44s/it]\n",
      "Training (13139 / 18000 Steps) (loss=0.53658): 100%|██████████| 20/20 [00:37<00:00,  1.89s/it]\n",
      "Training (13159 / 18000 Steps) (loss=0.52919): 100%|██████████| 20/20 [00:38<00:00,  1.92s/it]\n",
      "Training (13179 / 18000 Steps) (loss=0.41574): 100%|██████████| 20/20 [00:38<00:00,  1.94s/it]\n",
      "Training (13199 / 18000 Steps) (loss=0.27361): 100%|██████████| 20/20 [00:37<00:00,  1.90s/it]\n",
      "Validate (13200 / 10 Steps): 100%|██████████| 8/8 [00:30<00:00,  3.87s/it]8<?, ?it/s]\n",
      "Training (13200 / 18000 Steps) (loss=0.41415):   5%|▌         | 1/20 [00:39<12:26, 39.28s/it]"
     ]
    },
    {
     "name": "stdout",
     "output_type": "stream",
     "text": [
      "Model Was Not Saved ! Current Best Avg. Dice: 0.6473864316940308 Current Avg. Dice: 0.6263909935951233 Current Avg. tumor Dice: 0.7310969829559326 Current Avg. lymph Dice: 0.4961530864238739\n"
     ]
    },
    {
     "name": "stderr",
     "output_type": "stream",
     "text": [
      "Training (13219 / 18000 Steps) (loss=0.36214): 100%|██████████| 20/20 [01:09<00:00,  3.50s/it]\n",
      "Training (13239 / 18000 Steps) (loss=0.28717): 100%|██████████| 20/20 [00:39<00:00,  1.95s/it]\n",
      "Training (13259 / 18000 Steps) (loss=0.33702): 100%|██████████| 20/20 [00:38<00:00,  1.95s/it]\n",
      "Training (13279 / 18000 Steps) (loss=0.41715): 100%|██████████| 20/20 [00:38<00:00,  1.92s/it]\n",
      "Training (13299 / 18000 Steps) (loss=0.25782): 100%|██████████| 20/20 [00:37<00:00,  1.89s/it]\n",
      "Validate (13300 / 10 Steps): 100%|██████████| 8/8 [00:30<00:00,  3.86s/it]9<?, ?it/s]\n",
      "Training (13300 / 18000 Steps) (loss=0.38207):   5%|▌         | 1/20 [00:40<12:44, 40.25s/it]"
     ]
    },
    {
     "name": "stdout",
     "output_type": "stream",
     "text": [
      "Model Was Not Saved ! Current Best Avg. Dice: 0.6473864316940308 Current Avg. Dice: 0.6389944553375244 Current Avg. tumor Dice: 0.7401062250137329 Current Avg. lymph Dice: 0.509282112121582\n"
     ]
    },
    {
     "name": "stderr",
     "output_type": "stream",
     "text": [
      "Training (13319 / 18000 Steps) (loss=0.34296): 100%|██████████| 20/20 [01:10<00:00,  3.54s/it]\n",
      "Training (13339 / 18000 Steps) (loss=0.30912): 100%|██████████| 20/20 [00:39<00:00,  1.98s/it]\n",
      "Training (13359 / 18000 Steps) (loss=0.32270): 100%|██████████| 20/20 [00:39<00:00,  1.98s/it]\n",
      "Training (13379 / 18000 Steps) (loss=0.15190): 100%|██████████| 20/20 [00:40<00:00,  2.02s/it]\n",
      "Training (13399 / 18000 Steps) (loss=0.36966): 100%|██████████| 20/20 [00:39<00:00,  1.95s/it]\n",
      "Validate (13400 / 10 Steps): 100%|██████████| 8/8 [00:31<00:00,  3.94s/it]6<?, ?it/s]\n",
      "Training (13400 / 18000 Steps) (loss=0.26511):   5%|▌         | 1/20 [00:38<12:07, 38.29s/it]"
     ]
    },
    {
     "name": "stdout",
     "output_type": "stream",
     "text": [
      "Model Was Not Saved ! Current Best Avg. Dice: 0.6473864316940308 Current Avg. Dice: 0.6025145053863525 Current Avg. tumor Dice: 0.7119700312614441 Current Avg. lymph Dice: 0.46001961827278137\n"
     ]
    },
    {
     "name": "stderr",
     "output_type": "stream",
     "text": [
      "Training (13419 / 18000 Steps) (loss=0.48740): 100%|██████████| 20/20 [01:09<00:00,  3.46s/it]\n",
      "Training (13439 / 18000 Steps) (loss=0.27856): 100%|██████████| 20/20 [00:37<00:00,  1.89s/it]\n",
      "Training (13459 / 18000 Steps) (loss=0.54198): 100%|██████████| 20/20 [00:39<00:00,  1.96s/it]\n",
      "Training (13479 / 18000 Steps) (loss=0.53042): 100%|██████████| 20/20 [00:38<00:00,  1.92s/it]\n",
      "Training (13499 / 18000 Steps) (loss=0.54134): 100%|██████████| 20/20 [00:40<00:00,  2.02s/it]\n",
      "Validate (13500 / 10 Steps): 100%|██████████| 8/8 [00:31<00:00,  3.92s/it]6<?, ?it/s]\n",
      "Training (13500 / 18000 Steps) (loss=0.53635):   5%|▌         | 1/20 [00:38<12:09, 38.37s/it]"
     ]
    },
    {
     "name": "stdout",
     "output_type": "stream",
     "text": [
      "Model Was Not Saved ! Current Best Avg. Dice: 0.6473864316940308 Current Avg. Dice: 0.6170232892036438 Current Avg. tumor Dice: 0.7310705184936523 Current Avg. lymph Dice: 0.47414878010749817\n"
     ]
    },
    {
     "name": "stderr",
     "output_type": "stream",
     "text": [
      "Training (13501 / 18000 Steps) (loss=0.42159):  10%|█         | 2/20 [00:40<05:01, 16.76s/it]"
     ]
    }
   ],
   "source": [
    "epoch = 0 # used for LR scheduler\n",
    "max_num_epochs = 530 # used for LR scheduler\n",
    "\n",
    "torch.autograd.set_detect_anomaly(True)  # Enable anomaly detection\n",
    "\n",
    "while global_step < max_iterations:\n",
    "    global_step, dice_val_best, global_step_best = train(\n",
    "        global_step, train_loader, dice_val_best, global_step_best\n",
    "    )\n",
    "    epoch += 1\n",
    "    #optimizer.param_groups[0]['lr'] = poly_lr(epoch, max_num_epochs, 0.005676 , 0.9)\n",
    "# model.load_state_dict(torch.load(os.path.join(model_dir, \"best_metric_luck_UNETr_prompt.pth\")))"
   ]
  }
 ],
 "metadata": {
  "kernelspec": {
   "display_name": "clam",
   "language": "python",
   "name": "python3"
  },
  "language_info": {
   "codemirror_mode": {
    "name": "ipython",
    "version": 3
   },
   "file_extension": ".py",
   "mimetype": "text/x-python",
   "name": "python",
   "nbconvert_exporter": "python",
   "pygments_lexer": "ipython3",
   "version": "3.8.0"
  }
 },
 "nbformat": 4,
 "nbformat_minor": 2
}
