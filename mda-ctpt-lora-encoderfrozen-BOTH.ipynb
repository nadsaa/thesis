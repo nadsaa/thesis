{
 "cells": [
  {
   "cell_type": "code",
   "execution_count": 1,
   "metadata": {},
   "outputs": [
    {
     "name": "stdout",
     "output_type": "stream",
     "text": [
      "1\n"
     ]
    },
    {
     "name": "stderr",
     "output_type": "stream",
     "text": [
      "/tmp/ipykernel_1562796/2846298510.py:9: TqdmWarning: IProgress not found. Please update jupyter and ipywidgets. See https://ipywidgets.readthedocs.io/en/stable/user_install.html\n",
      "  from tqdm.autonotebook import tqdm\n"
     ]
    }
   ],
   "source": [
    "import torch\n",
    "import torch.nn as nn\n",
    "from torch.utils.data import DataLoader\n",
    "from collections.abc import Sequence\n",
    "\n",
    "from unetr import CustomedUNETR\n",
    "\n",
    "import json\n",
    "from tqdm.autonotebook import tqdm\n",
    "import os\n",
    "os.environ[\"CUDA_DEVICE_ORDER\"] = \"PCI_BUS_ID\"\n",
    "os.environ[\"CUDA_VISIBLE_DEVICES\"] = \"5\" \n",
    "\n",
    "print(torch.cuda.device_count())\n",
    "torch.backends.cudnn.benchmark = True\n",
    "device = torch.device(\"cuda\" if torch.cuda.is_available() else \"cpu\")"
   ]
  },
  {
   "cell_type": "code",
   "execution_count": 2,
   "metadata": {},
   "outputs": [],
   "source": [
    "from monai.transforms import EnsureTyped\n",
    "from monai.transforms import Compose, LoadImaged, ScaleIntensityRanged, ConcatItemsd\n",
    "from monai.metrics import DiceMetric\n",
    "from monai.losses import DiceCELoss, DiceFocalLoss, FocalLoss\n",
    "from monai.inferers import sliding_window_inference\n",
    "\n",
    "\n",
    "from monai.data import (\n",
    "    Dataset,\n",
    "    DataLoader,\n",
    "    CacheDataset,\n",
    "    load_decathlon_datalist,\n",
    "    decollate_batch,\n",
    ")\n",
    "\n",
    "\n",
    "from monai.transforms import (\n",
    "    AsDiscrete,\n",
    "    Compose,\n",
    "    CropForegroundd,\n",
    "    LoadImaged,\n",
    "    Orientationd,\n",
    "    RandFlipd,\n",
    "    RandCropByPosNegLabeld,\n",
    "    RandShiftIntensityd,\n",
    "    ScaleIntensityRanged,\n",
    "    Spacingd,\n",
    "    RandRotate90d,\n",
    "    MapTransform,\n",
    "    ScaleIntensityd,\n",
    "    #AddChanneld,\n",
    "    SpatialPadd,\n",
    "    CenterSpatialCropd,\n",
    "    EnsureChannelFirstd,\n",
    "    ConcatItemsd,\n",
    "    AdjustContrastd, \n",
    "    Rand3DElasticd,\n",
    "    HistogramNormalized,\n",
    "    NormalizeIntensityd,\n",
    "    Invertd,\n",
    "    SaveImage,\n",
    "\n",
    ")"
   ]
  },
  {
   "cell_type": "code",
   "execution_count": 3,
   "metadata": {},
   "outputs": [],
   "source": [
    "data_dir = '/home/nada.saadi/MIS-FM/hecktor2022_cropped'\n",
    "json_dir = '/home/nada.saadi/MIS-FM/hecktor2022_cropped/MDA_CTPT_TRAIN.json'"
   ]
  },
  {
   "cell_type": "code",
   "execution_count": 4,
   "metadata": {},
   "outputs": [
    {
     "name": "stdout",
     "output_type": "stream",
     "text": [
      "152 44\n"
     ]
    }
   ],
   "source": [
    "def datafold_read(datalist, basedir, fold=0, key=\"training\"):\n",
    "    with open(datalist) as f:\n",
    "        json_data = json.load(f)\n",
    "\n",
    "    json_data = json_data[key]\n",
    "\n",
    "    for d in json_data:\n",
    "        for k in d:\n",
    "            if isinstance(d[k], list):\n",
    "                d[k] = [os.path.join(basedir, iv) for iv in d[k]]\n",
    "            elif isinstance(d[k], str):\n",
    "                d[k] = os.path.join(basedir, d[k]) if len(d[k]) > 0 else d[k]\n",
    "\n",
    "    tr = []\n",
    "    val = []\n",
    "    for d in json_data:\n",
    "        if \"fold\" in d and d[\"fold\"] == fold:\n",
    "            val.append(d)\n",
    "        else:\n",
    "            tr.append(d)\n",
    "\n",
    "    return tr, val\n",
    "\n",
    "\n",
    "train_data, valid_data = datafold_read(datalist=json_dir, basedir=data_dir, fold=0)\n",
    "print(len(train_data), len(valid_data))"
   ]
  },
  {
   "cell_type": "code",
   "execution_count": 5,
   "metadata": {},
   "outputs": [],
   "source": [
    "num_samples = 1\n",
    "\n",
    "class ClipCT(MapTransform):\n",
    "    \"\"\"\n",
    "    Convert labels to multi channels based on hecktor classes:\n",
    "    label 1 is the tumor\n",
    "    label 2 is the lymph node\n",
    "\n",
    "    \"\"\"\n",
    "\n",
    "    def __call__(self, data):\n",
    "        d = dict(data)\n",
    "        for key in self.keys:\n",
    "            if key == \"ct\":\n",
    "                d[key] = torch.clip(d[key], min=-200, max=200)\n",
    "            # elif key == \"pt\":\n",
    "            #     d[key] = torch.clip(d[key], d[key].min(), 5)\n",
    "        return d\n",
    "\n",
    "train_transforms = Compose(\n",
    "    [\n",
    "        LoadImaged(keys=[\"ct\", \"pt\", \"seg\"], ensure_channel_first=True),\n",
    "        SpatialPadd(keys=[\"ct\", \"pt\", \"seg\"], spatial_size=(200, 200, 310), method='end'),\n",
    "        Orientationd(keys=[\"ct\", \"pt\", \"seg\"], axcodes=\"PLS\"),\n",
    "        NormalizeIntensityd(keys=[\"pt\"]),\n",
    "        ClipCT(keys=[\"ct\"]),\n",
    "        ScaleIntensityd(keys=[\"ct\"], minv=0, maxv=1),\n",
    "        ConcatItemsd(keys=[\"pt\", \"ct\"], name=\"ctpt\"),  # Concatenate CT and PET\n",
    "        RandCropByPosNegLabeld(\n",
    "            keys=[\"ctpt\", \"seg\"],\n",
    "            label_key=\"seg\",\n",
    "            spatial_size=(96, 96, 96),\n",
    "            pos=1,\n",
    "            neg=1,\n",
    "            num_samples=num_samples,\n",
    "            image_key=\"ctpt\",\n",
    "            image_threshold=0,\n",
    "        ),\n",
    "        RandFlipd(keys=[\"ctpt\", \"seg\"], spatial_axis=[0], prob=0.20),\n",
    "        RandFlipd(keys=[\"ctpt\", \"seg\"], spatial_axis=[1], prob=0.20),\n",
    "        RandFlipd(keys=[\"ctpt\", \"seg\"], spatial_axis=[2], prob=0.20),\n",
    "        RandRotate90d(keys=[\"ctpt\", \"seg\"], prob=0.20, max_k=3),\n",
    "        EnsureTyped(keys=[\"ctpt\", \"seg\"]),\n",
    "    \n",
    "    ]\n",
    ")\n",
    "\n",
    "val_transforms = Compose(\n",
    "    [\n",
    "        LoadImaged(keys=[\"ct\", \"pt\", \"seg\"], ensure_channel_first=True),\n",
    "        SpatialPadd(keys=[\"ct\", \"pt\", \"seg\"], spatial_size=(200, 200, 310), method='end'),\n",
    "        Orientationd(keys=[\"ct\", \"pt\", \"seg\"], axcodes=\"PLS\"),\n",
    "        NormalizeIntensityd(keys=[\"pt\"]),\n",
    "        ClipCT(keys=[\"ct\"]),\n",
    "        ScaleIntensityd(keys=[\"ct\"], minv=0, maxv=1),\n",
    "        ConcatItemsd(keys=[\"pt\", \"ct\"], name=\"ctpt\"),# Concatenate CT and PET\n",
    "        EnsureTyped(keys=[\"ctpt\", \"seg\"]),\n",
    "    ]\n",
    ")\n",
    "\n",
    "\n",
    "##----------\n",
    "\n",
    "def create_dataloader(data, transforms, batch_size=2, shuffle=True):\n",
    "    # Create CacheDataset with the reformatted data\n",
    "    dataset = Dataset(data=data, transform=transforms)\n",
    "\n",
    "    # Create DataLoader\n",
    "    return DataLoader(dataset, batch_size=batch_size, shuffle=shuffle, num_workers=8)\n",
    "\n",
    "\n",
    "\n",
    "train_loader = create_dataloader(train_data, train_transforms, shuffle=True)\n",
    "val_loader = create_dataloader(valid_data, val_transforms, shuffle=False)"
   ]
  },
  {
   "cell_type": "code",
   "execution_count": 6,
   "metadata": {},
   "outputs": [
    {
     "name": "stderr",
     "output_type": "stream",
     "text": [
      "/home/nada.saadi/miniconda3/envs/clam/lib/python3.8/site-packages/monai/utils/deprecate_utils.py:221: FutureWarning: unetr CustomedUNETR.__init__:pos_embed: Argument `pos_embed` has been deprecated since version 1.2. It will be removed in version 1.4. please use `proj_type` instead.\n",
      "  warn_deprecated(argname, msg, warning_category)\n"
     ]
    },
    {
     "name": "stdout",
     "output_type": "stream",
     "text": [
      "Nada's version of UNETR\n",
      "(96, 96, 96)\n",
      "(16, 16, 16)\n",
      "(6, 6, 6)\n",
      "768\n"
     ]
    }
   ],
   "source": [
    "model = CustomedUNETR(\n",
    "    in_channels=2,  # Number of input channels\n",
    "    out_channels=3,  # Number of output channels\n",
    "    img_size=(96, 96, 96),  # Size of the input image\n",
    "    feature_size=48,  # Size of the feature maps\n",
    "    hidden_size=768,\n",
    "    num_heads = 12,# Size of the hidden layers in the transformer\n",
    "    mlp_dim=3072,  # Dimension of the MLP in the transformer\n",
    "    pos_embed=\"perceptron\",  # Type of positional embedding\n",
    "    norm_name=\"instance\",  # Type of normalization\n",
    "    res_block=True,  # Whether to use residual blocks\n",
    "    dropout_rate=0.0,\n",
    "    proj_type= \"conv\",\n",
    "    r=8,\n",
    "    lora_layer=None,\n",
    "    \n",
    ").to(device) "
   ]
  },
  {
   "cell_type": "code",
   "execution_count": 7,
   "metadata": {},
   "outputs": [
    {
     "data": {
      "text/plain": [
       "CustomedUNETR(\n",
       "  (vit): ViT(\n",
       "    (patch_embedding): PatchEmbeddingBlock(\n",
       "      (patch_embeddings): Conv3d(1, 768, kernel_size=(16, 16, 16), stride=(16, 16, 16))\n",
       "      (dropout): Dropout(p=0.0, inplace=False)\n",
       "    )\n",
       "    (blocks): ModuleList(\n",
       "      (0-11): 12 x TransformerBlock(\n",
       "        (mlp): MLPBlock(\n",
       "          (linear1): Linear(in_features=768, out_features=3072, bias=True)\n",
       "          (linear2): Linear(in_features=3072, out_features=768, bias=True)\n",
       "          (fn): GELU(approximate='none')\n",
       "          (drop1): Dropout(p=0.0, inplace=False)\n",
       "          (drop2): Dropout(p=0.0, inplace=False)\n",
       "        )\n",
       "        (norm1): LayerNorm((768,), eps=1e-05, elementwise_affine=True)\n",
       "        (attn): SABlock(\n",
       "          (out_proj): Linear(in_features=768, out_features=768, bias=True)\n",
       "          (proj_q): Linear(in_features=768, out_features=768, bias=False)\n",
       "          (proj_k): Linear(in_features=768, out_features=768, bias=False)\n",
       "          (proj_v): Linear(in_features=768, out_features=768, bias=False)\n",
       "          (input_rearrange): Rearrange('b h (l d) -> b l h d', l=12)\n",
       "          (out_rearrange): Rearrange('b h l d -> b l (h d)')\n",
       "          (drop_output): Dropout(p=0.0, inplace=False)\n",
       "          (drop_weights): Dropout(p=0.0, inplace=False)\n",
       "        )\n",
       "        (norm2): LayerNorm((768,), eps=1e-05, elementwise_affine=True)\n",
       "      )\n",
       "    )\n",
       "    (norm): LayerNorm((768,), eps=1e-05, elementwise_affine=True)\n",
       "  )\n",
       "  (encoder1): UnetrBasicBlock(\n",
       "    (layer): UnetResBlock(\n",
       "      (conv1): Convolution(\n",
       "        (conv): Conv3d(2, 48, kernel_size=(3, 3, 3), stride=(1, 1, 1), padding=(1, 1, 1), bias=False)\n",
       "      )\n",
       "      (conv2): Convolution(\n",
       "        (conv): Conv3d(48, 48, kernel_size=(3, 3, 3), stride=(1, 1, 1), padding=(1, 1, 1), bias=False)\n",
       "      )\n",
       "      (lrelu): LeakyReLU(negative_slope=0.01, inplace=True)\n",
       "      (norm1): InstanceNorm3d(48, eps=1e-05, momentum=0.1, affine=False, track_running_stats=False)\n",
       "      (norm2): InstanceNorm3d(48, eps=1e-05, momentum=0.1, affine=False, track_running_stats=False)\n",
       "      (conv3): Convolution(\n",
       "        (conv): Conv3d(2, 48, kernel_size=(1, 1, 1), stride=(1, 1, 1), bias=False)\n",
       "      )\n",
       "      (norm3): InstanceNorm3d(48, eps=1e-05, momentum=0.1, affine=False, track_running_stats=False)\n",
       "    )\n",
       "  )\n",
       "  (encoder2): UnetrPrUpBlock(\n",
       "    (transp_conv_init): Convolution(\n",
       "      (conv): ConvTranspose3d(768, 96, kernel_size=(2, 2, 2), stride=(2, 2, 2), bias=False)\n",
       "    )\n",
       "    (blocks): ModuleList(\n",
       "      (0-1): 2 x Sequential(\n",
       "        (0): Convolution(\n",
       "          (conv): ConvTranspose3d(96, 96, kernel_size=(2, 2, 2), stride=(2, 2, 2), bias=False)\n",
       "        )\n",
       "        (1): UnetResBlock(\n",
       "          (conv1): Convolution(\n",
       "            (conv): Conv3d(96, 96, kernel_size=(3, 3, 3), stride=(1, 1, 1), padding=(1, 1, 1), bias=False)\n",
       "          )\n",
       "          (conv2): Convolution(\n",
       "            (conv): Conv3d(96, 96, kernel_size=(3, 3, 3), stride=(1, 1, 1), padding=(1, 1, 1), bias=False)\n",
       "          )\n",
       "          (lrelu): LeakyReLU(negative_slope=0.01, inplace=True)\n",
       "          (norm1): InstanceNorm3d(96, eps=1e-05, momentum=0.1, affine=False, track_running_stats=False)\n",
       "          (norm2): InstanceNorm3d(96, eps=1e-05, momentum=0.1, affine=False, track_running_stats=False)\n",
       "        )\n",
       "      )\n",
       "    )\n",
       "  )\n",
       "  (encoder3): UnetrPrUpBlock(\n",
       "    (transp_conv_init): Convolution(\n",
       "      (conv): ConvTranspose3d(768, 192, kernel_size=(2, 2, 2), stride=(2, 2, 2), bias=False)\n",
       "    )\n",
       "    (blocks): ModuleList(\n",
       "      (0): Sequential(\n",
       "        (0): Convolution(\n",
       "          (conv): ConvTranspose3d(192, 192, kernel_size=(2, 2, 2), stride=(2, 2, 2), bias=False)\n",
       "        )\n",
       "        (1): UnetResBlock(\n",
       "          (conv1): Convolution(\n",
       "            (conv): Conv3d(192, 192, kernel_size=(3, 3, 3), stride=(1, 1, 1), padding=(1, 1, 1), bias=False)\n",
       "          )\n",
       "          (conv2): Convolution(\n",
       "            (conv): Conv3d(192, 192, kernel_size=(3, 3, 3), stride=(1, 1, 1), padding=(1, 1, 1), bias=False)\n",
       "          )\n",
       "          (lrelu): LeakyReLU(negative_slope=0.01, inplace=True)\n",
       "          (norm1): InstanceNorm3d(192, eps=1e-05, momentum=0.1, affine=False, track_running_stats=False)\n",
       "          (norm2): InstanceNorm3d(192, eps=1e-05, momentum=0.1, affine=False, track_running_stats=False)\n",
       "        )\n",
       "      )\n",
       "    )\n",
       "  )\n",
       "  (encoder4): UnetrPrUpBlock(\n",
       "    (transp_conv_init): Convolution(\n",
       "      (conv): ConvTranspose3d(768, 384, kernel_size=(2, 2, 2), stride=(2, 2, 2), bias=False)\n",
       "    )\n",
       "    (blocks): ModuleList()\n",
       "  )\n",
       "  (decoder5): UnetrUpBlock(\n",
       "    (transp_conv): Convolution(\n",
       "      (conv): ConvTranspose3d(768, 384, kernel_size=(2, 2, 2), stride=(2, 2, 2), bias=False)\n",
       "    )\n",
       "    (conv_block): UnetResBlock(\n",
       "      (conv1): Convolution(\n",
       "        (conv): Conv3d(768, 384, kernel_size=(3, 3, 3), stride=(1, 1, 1), padding=(1, 1, 1), bias=False)\n",
       "      )\n",
       "      (conv2): Convolution(\n",
       "        (conv): Conv3d(384, 384, kernel_size=(3, 3, 3), stride=(1, 1, 1), padding=(1, 1, 1), bias=False)\n",
       "      )\n",
       "      (lrelu): LeakyReLU(negative_slope=0.01, inplace=True)\n",
       "      (norm1): InstanceNorm3d(384, eps=1e-05, momentum=0.1, affine=False, track_running_stats=False)\n",
       "      (norm2): InstanceNorm3d(384, eps=1e-05, momentum=0.1, affine=False, track_running_stats=False)\n",
       "      (conv3): Convolution(\n",
       "        (conv): Conv3d(768, 384, kernel_size=(1, 1, 1), stride=(1, 1, 1), bias=False)\n",
       "      )\n",
       "      (norm3): InstanceNorm3d(384, eps=1e-05, momentum=0.1, affine=False, track_running_stats=False)\n",
       "    )\n",
       "  )\n",
       "  (decoder4): UnetrUpBlock(\n",
       "    (transp_conv): Convolution(\n",
       "      (conv): ConvTranspose3d(384, 192, kernel_size=(2, 2, 2), stride=(2, 2, 2), bias=False)\n",
       "    )\n",
       "    (conv_block): UnetResBlock(\n",
       "      (conv1): Convolution(\n",
       "        (conv): Conv3d(384, 192, kernel_size=(3, 3, 3), stride=(1, 1, 1), padding=(1, 1, 1), bias=False)\n",
       "      )\n",
       "      (conv2): Convolution(\n",
       "        (conv): Conv3d(192, 192, kernel_size=(3, 3, 3), stride=(1, 1, 1), padding=(1, 1, 1), bias=False)\n",
       "      )\n",
       "      (lrelu): LeakyReLU(negative_slope=0.01, inplace=True)\n",
       "      (norm1): InstanceNorm3d(192, eps=1e-05, momentum=0.1, affine=False, track_running_stats=False)\n",
       "      (norm2): InstanceNorm3d(192, eps=1e-05, momentum=0.1, affine=False, track_running_stats=False)\n",
       "      (conv3): Convolution(\n",
       "        (conv): Conv3d(384, 192, kernel_size=(1, 1, 1), stride=(1, 1, 1), bias=False)\n",
       "      )\n",
       "      (norm3): InstanceNorm3d(192, eps=1e-05, momentum=0.1, affine=False, track_running_stats=False)\n",
       "    )\n",
       "  )\n",
       "  (decoder3): UnetrUpBlock(\n",
       "    (transp_conv): Convolution(\n",
       "      (conv): ConvTranspose3d(192, 96, kernel_size=(2, 2, 2), stride=(2, 2, 2), bias=False)\n",
       "    )\n",
       "    (conv_block): UnetResBlock(\n",
       "      (conv1): Convolution(\n",
       "        (conv): Conv3d(192, 96, kernel_size=(3, 3, 3), stride=(1, 1, 1), padding=(1, 1, 1), bias=False)\n",
       "      )\n",
       "      (conv2): Convolution(\n",
       "        (conv): Conv3d(96, 96, kernel_size=(3, 3, 3), stride=(1, 1, 1), padding=(1, 1, 1), bias=False)\n",
       "      )\n",
       "      (lrelu): LeakyReLU(negative_slope=0.01, inplace=True)\n",
       "      (norm1): InstanceNorm3d(96, eps=1e-05, momentum=0.1, affine=False, track_running_stats=False)\n",
       "      (norm2): InstanceNorm3d(96, eps=1e-05, momentum=0.1, affine=False, track_running_stats=False)\n",
       "      (conv3): Convolution(\n",
       "        (conv): Conv3d(192, 96, kernel_size=(1, 1, 1), stride=(1, 1, 1), bias=False)\n",
       "      )\n",
       "      (norm3): InstanceNorm3d(96, eps=1e-05, momentum=0.1, affine=False, track_running_stats=False)\n",
       "    )\n",
       "  )\n",
       "  (decoder2): UnetrUpBlock(\n",
       "    (transp_conv): Convolution(\n",
       "      (conv): ConvTranspose3d(96, 48, kernel_size=(2, 2, 2), stride=(2, 2, 2), bias=False)\n",
       "    )\n",
       "    (conv_block): UnetResBlock(\n",
       "      (conv1): Convolution(\n",
       "        (conv): Conv3d(96, 48, kernel_size=(3, 3, 3), stride=(1, 1, 1), padding=(1, 1, 1), bias=False)\n",
       "      )\n",
       "      (conv2): Convolution(\n",
       "        (conv): Conv3d(48, 48, kernel_size=(3, 3, 3), stride=(1, 1, 1), padding=(1, 1, 1), bias=False)\n",
       "      )\n",
       "      (lrelu): LeakyReLU(negative_slope=0.01, inplace=True)\n",
       "      (norm1): InstanceNorm3d(48, eps=1e-05, momentum=0.1, affine=False, track_running_stats=False)\n",
       "      (norm2): InstanceNorm3d(48, eps=1e-05, momentum=0.1, affine=False, track_running_stats=False)\n",
       "      (conv3): Convolution(\n",
       "        (conv): Conv3d(96, 48, kernel_size=(1, 1, 1), stride=(1, 1, 1), bias=False)\n",
       "      )\n",
       "      (norm3): InstanceNorm3d(48, eps=1e-05, momentum=0.1, affine=False, track_running_stats=False)\n",
       "    )\n",
       "  )\n",
       "  (out): UnetOutBlock(\n",
       "    (conv): Convolution(\n",
       "      (conv): Conv3d(48, 3, kernel_size=(1, 1, 1), stride=(1, 1, 1))\n",
       "    )\n",
       "  )\n",
       ")"
      ]
     },
     "execution_count": 7,
     "metadata": {},
     "output_type": "execute_result"
    }
   ],
   "source": [
    "model"
   ]
  },
  {
   "cell_type": "code",
   "execution_count": null,
   "metadata": {},
   "outputs": [],
   "source": [
    "def poly_lr(epoch, max_epochs, initial_lr, exponent=0.9):\n",
    "    return initial_lr * (1 - epoch / max_epochs)**exponent\n",
    "\n",
    "model_dir='/home/nada.saadi/CTPET/hecktor2022_cropped/MDA-CTPT-lora-encoderfrozen-BOTH'\n",
    "\n",
    "max_iterations = 18000\n",
    "eval_num = 100\n",
    "\n",
    "## running stats\n",
    "global_step = 0\n",
    "dice_val_best = 0.0\n",
    "global_step_best = 0\n",
    "epoch_loss_values = []\n",
    "metric_values = []\n",
    "metric_values_tumor = []\n",
    "metric_values_lymph = []\n",
    "\n",
    "\n",
    "loss_function = DiceCELoss(to_onehot_y=True, softmax=True)\n",
    "optimizer = torch.optim.AdamW(model.parameters(), lr=1e-4, weight_decay=1e-5)\n",
    "\n",
    "\n",
    "post_label = AsDiscrete(to_onehot=3)\n",
    "post_pred = AsDiscrete(argmax=True, to_onehot=3)\n",
    "\n",
    "dice_metric = DiceMetric(include_background=False, reduction=\"mean\", get_not_nans=False)\n",
    "dice_metric_batch = DiceMetric(include_background=False, reduction=\"mean_batch\")\n",
    "\n",
    "\n",
    "##-----------------------------------------------------------------------------\n",
    "\n",
    "def validation(epoch_iterator_val):\n",
    "        model.eval()\n",
    "        with torch.no_grad():\n",
    "            for step, batch in enumerate(epoch_iterator_val):\n",
    "                val_inputs, val_labels = (batch[\"ctpt\"].cuda(), batch[\"seg\"].cuda())\n",
    "                val_outputs = sliding_window_inference(val_inputs, (96, 96, 96), 4, model)\n",
    "                val_labels_list = decollate_batch(val_labels)\n",
    "                val_labels_convert = [\n",
    "                    post_label(val_label_tensor) for val_label_tensor in val_labels_list\n",
    "                ]\n",
    "                val_outputs_list = decollate_batch(val_outputs)\n",
    "                val_output_convert = [\n",
    "                    post_pred(val_pred_tensor) for val_pred_tensor in val_outputs_list\n",
    "                ]\n",
    "                dice_metric(y_pred=val_output_convert, y=val_labels_convert)\n",
    "                dice_metric_batch(y_pred=val_output_convert, y=val_labels_convert)\n",
    "                epoch_iterator_val.set_description(\n",
    "                    \"Validate (%d / %d Steps)\" % (global_step, 10.0)\n",
    "                )\n",
    "            mean_dice_val = dice_metric.aggregate().item()\n",
    "            metric_batch_val = dice_metric_batch.aggregate()\n",
    "\n",
    "            metric_tumor = metric_batch_val[0].item()\n",
    "            metric_lymph = metric_batch_val[1].item()\n",
    "\n",
    "            dice_metric.reset()\n",
    "            dice_metric_batch.reset()\n",
    "        return mean_dice_val, metric_tumor, metric_lymph\n",
    "\n",
    "\n",
    "\n",
    "def train(global_step, train_loader, dice_val_best, global_step_best):\n",
    "        model.train()\n",
    "        epoch_loss = 0\n",
    "        step = 0\n",
    "        epoch_iterator = tqdm(\n",
    "            train_loader, desc=\"Training (X / X Steps) (loss=X.X)\", dynamic_ncols=True\n",
    "        )\n",
    "        \n",
    "        for step, batch in enumerate(epoch_iterator):\n",
    "            step += 1\n",
    "            x, y = (batch[\"ctpt\"].cuda(), batch[\"seg\"].cuda())\n",
    "            logit_map = model(x, mode=\"mix\")\n",
    "            loss = loss_function(logit_map, y)\n",
    "            loss.backward()\n",
    "            epoch_loss += loss.item() \n",
    "            optimizer.step()\n",
    "            optimizer.zero_grad()\n",
    "            epoch_iterator.set_description(\n",
    "                \"Training (%d / %d Steps) (loss=%2.5f)\"\n",
    "                % (global_step, max_iterations, loss)\n",
    "            )\n",
    "            \n",
    "            if (\n",
    "                global_step % eval_num == 0 and global_step != 0\n",
    "            ) or global_step == max_iterations:\n",
    "                epoch_iterator_val = tqdm(\n",
    "                    val_loader, desc=\"Validate (X / X Steps) (dice=X.X)\", dynamic_ncols=True\n",
    "                )\n",
    "                dice_val, metric_tumor, metric_lymph = validation(epoch_iterator_val)\n",
    "                epoch_loss /= step\n",
    "                epoch_loss_values.append(epoch_loss)\n",
    "                metric_values.append(dice_val)\n",
    "                metric_values_tumor.append(metric_tumor)\n",
    "                metric_values_lymph.append(metric_lymph)\n",
    "                if dice_val > dice_val_best:\n",
    "                    dice_val_best = dice_val\n",
    "                    global_step_best = global_step\n",
    "                    torch.save(\n",
    "                        model.state_dict(), os.path.join(model_dir, \"/home/nada.saadi/CTPET/hecktor2022_cropped/MDA-CTPT-lora-encoderfrozen-BOTH/mda-ctpt-loraencoderfrozen-BOTH-r8.pth\")\n",
    "                    )\n",
    "                    print(\n",
    "                        \"Model Was Saved ! Current Best Avg. Dice: {} Current Avg. Dice: {} Current Avg. tumor Dice: {} Current Avg. lymph Dice: {}\".format(\n",
    "                            dice_val_best, dice_val, metric_tumor, metric_lymph\n",
    "                        )\n",
    "                    )\n",
    "                else:\n",
    "                    print(\n",
    "                        \"Model Was Not Saved ! Current Best Avg. Dice: {} Current Avg. Dice: {} Current Avg. tumor Dice: {} Current Avg. lymph Dice: {}\".format(\n",
    "                            dice_val_best, dice_val,  metric_tumor, metric_lymph\n",
    "                        )\n",
    "                    )\n",
    "            global_step += 1\n",
    "        return global_step, dice_val_best, global_step_best\n"
   ]
  },
  {
   "cell_type": "code",
   "execution_count": null,
   "metadata": {},
   "outputs": [
    {
     "name": "stderr",
     "output_type": "stream",
     "text": [
      "Training (75 / 18000 Steps) (loss=0.89623): 100%|██████████| 76/76 [01:25<00:00,  1.12s/it]\n",
      "Validate (76 / 10 Steps): 100%|██████████| 22/22 [01:36<00:00,  4.40s/it]6<00:45,  1.15it/s]\n",
      "Training (100 / 18000 Steps) (loss=0.85483):  33%|███▎      | 25/76 [02:04<25:43, 30.26s/it]"
     ]
    },
    {
     "name": "stdout",
     "output_type": "stream",
     "text": [
      "Model Was Saved ! Current Best Avg. Dice: 0.2457013577222824 Current Avg. Dice: 0.2457013577222824 Current Avg. tumor Dice: 0.3005249500274658 Current Avg. lymph Dice: 0.15375395119190216\n"
     ]
    },
    {
     "name": "stderr",
     "output_type": "stream",
     "text": [
      "Training (151 / 18000 Steps) (loss=0.76162): 100%|██████████| 76/76 [02:29<00:00,  1.97s/it]\n",
      "Validate (152 / 10 Steps): 100%|██████████| 22/22 [01:25<00:00,  3.91s/it]<00:13,  2.09it/s]\n",
      "Training (200 / 18000 Steps) (loss=0.79083):  64%|██████▍   | 49/76 [01:56<11:49, 26.29s/it]"
     ]
    },
    {
     "name": "stdout",
     "output_type": "stream",
     "text": [
      "Model Was Not Saved ! Current Best Avg. Dice: 0.2457013577222824 Current Avg. Dice: 0.19457492232322693 Current Avg. tumor Dice: 0.32474273443222046 Current Avg. lymph Dice: 0.00904328003525734\n"
     ]
    },
    {
     "name": "stderr",
     "output_type": "stream",
     "text": [
      "Training (227 / 18000 Steps) (loss=0.81410): 100%|██████████| 76/76 [02:10<00:00,  1.71s/it]\n",
      "Validate (228 / 10 Steps): 100%|██████████| 22/22 [01:24<00:00,  3.86s/it]<00:01,  2.10it/s]\n",
      "Training (300 / 18000 Steps) (loss=0.75361):  96%|█████████▌| 73/76 [02:08<01:18, 26.27s/it]"
     ]
    },
    {
     "name": "stdout",
     "output_type": "stream",
     "text": [
      "Model Was Saved ! Current Best Avg. Dice: 0.27645713090896606 Current Avg. Dice: 0.27645713090896606 Current Avg. tumor Dice: 0.3076570928096771 Current Avg. lymph Dice: 0.21740414202213287\n"
     ]
    },
    {
     "name": "stderr",
     "output_type": "stream",
     "text": [
      "Training (303 / 18000 Steps) (loss=0.69949): 100%|██████████| 76/76 [02:10<00:00,  1.71s/it]\n",
      "Training (379 / 18000 Steps) (loss=0.68051): 100%|██████████| 76/76 [00:44<00:00,  1.72it/s]\n",
      "Validate (380 / 10 Steps): 100%|██████████| 22/22 [01:25<00:00,  3.89s/it]<00:29,  1.87it/s]\n",
      "Training (400 / 18000 Steps) (loss=0.63929):  28%|██▊       | 21/76 [01:43<24:20, 26.55s/it]"
     ]
    },
    {
     "name": "stdout",
     "output_type": "stream",
     "text": [
      "Model Was Saved ! Current Best Avg. Dice: 0.2795552909374237 Current Avg. Dice: 0.2795552909374237 Current Avg. tumor Dice: 0.30735164880752563 Current Avg. lymph Dice: 0.21981094777584076\n"
     ]
    },
    {
     "name": "stderr",
     "output_type": "stream",
     "text": [
      "Training (455 / 18000 Steps) (loss=0.64973): 100%|██████████| 76/76 [02:11<00:00,  1.73s/it]\n",
      "Validate (456 / 10 Steps): 100%|██████████| 22/22 [01:25<00:00,  3.87s/it]<00:15,  2.06it/s]\n",
      "Training (500 / 18000 Steps) (loss=0.68355):  59%|█████▉    | 45/76 [01:53<13:30, 26.13s/it]"
     ]
    },
    {
     "name": "stdout",
     "output_type": "stream",
     "text": [
      "Model Was Not Saved ! Current Best Avg. Dice: 0.2795552909374237 Current Avg. Dice: 0.15263336896896362 Current Avg. tumor Dice: 0.0008476025541312993 Current Avg. lymph Dice: 0.35558637976646423\n"
     ]
    },
    {
     "name": "stderr",
     "output_type": "stream",
     "text": [
      "Training (531 / 18000 Steps) (loss=0.57755): 100%|██████████| 76/76 [02:09<00:00,  1.71s/it]\n",
      "Validate (532 / 10 Steps): 100%|██████████| 22/22 [01:25<00:00,  3.89s/it]<00:04,  1.88it/s]\n",
      "Training (600 / 18000 Steps) (loss=0.71747):  91%|█████████ | 69/76 [02:08<03:05, 26.46s/it]"
     ]
    },
    {
     "name": "stdout",
     "output_type": "stream",
     "text": [
      "Model Was Saved ! Current Best Avg. Dice: 0.32993757724761963 Current Avg. Dice: 0.32993757724761963 Current Avg. tumor Dice: 0.4187244176864624 Current Avg. lymph Dice: 0.1820770502090454\n"
     ]
    },
    {
     "name": "stderr",
     "output_type": "stream",
     "text": [
      "Training (607 / 18000 Steps) (loss=0.68545): 100%|██████████| 76/76 [02:11<00:00,  1.74s/it]\n",
      "Training (683 / 18000 Steps) (loss=0.61167): 100%|██████████| 76/76 [00:45<00:00,  1.67it/s]\n",
      "Validate (684 / 10 Steps): 100%|██████████| 22/22 [01:25<00:00,  3.88s/it]<00:27,  2.21it/s]\n",
      "Training (700 / 18000 Steps) (loss=0.61603):  22%|██▏       | 17/76 [01:38<25:48, 26.24s/it]"
     ]
    },
    {
     "name": "stdout",
     "output_type": "stream",
     "text": [
      "Model Was Not Saved ! Current Best Avg. Dice: 0.32993757724761963 Current Avg. Dice: 0.20014669001102448 Current Avg. tumor Dice: 0.27265986800193787 Current Avg. lymph Dice: 0.09818745404481888\n"
     ]
    },
    {
     "name": "stderr",
     "output_type": "stream",
     "text": [
      "Training (759 / 18000 Steps) (loss=0.67772): 100%|██████████| 76/76 [02:09<00:00,  1.70s/it]\n",
      "Validate (760 / 10 Steps): 100%|██████████| 22/22 [01:25<00:00,  3.89s/it]<00:16,  2.14it/s]\n",
      "Training (800 / 18000 Steps) (loss=0.55741):  54%|█████▍    | 41/76 [01:53<15:26, 26.48s/it]"
     ]
    },
    {
     "name": "stdout",
     "output_type": "stream",
     "text": [
      "Model Was Not Saved ! Current Best Avg. Dice: 0.32993757724761963 Current Avg. Dice: 0.3044425845146179 Current Avg. tumor Dice: 0.3805953562259674 Current Avg. lymph Dice: 0.18802616000175476\n"
     ]
    },
    {
     "name": "stderr",
     "output_type": "stream",
     "text": [
      "Training (835 / 18000 Steps) (loss=0.63134): 100%|██████████| 76/76 [02:11<00:00,  1.73s/it]\n",
      "Validate (836 / 10 Steps): 100%|██████████| 22/22 [01:25<00:00,  3.90s/it]<00:05,  2.02it/s]\n",
      "Training (900 / 18000 Steps) (loss=0.62575):  86%|████████▌ | 65/76 [02:06<04:51, 26.50s/it]"
     ]
    },
    {
     "name": "stdout",
     "output_type": "stream",
     "text": [
      "Model Was Saved ! Current Best Avg. Dice: 0.35851478576660156 Current Avg. Dice: 0.35851478576660156 Current Avg. tumor Dice: 0.43814989924430847 Current Avg. lymph Dice: 0.21951453387737274\n"
     ]
    },
    {
     "name": "stderr",
     "output_type": "stream",
     "text": [
      "Training (911 / 18000 Steps) (loss=0.59206): 100%|██████████| 76/76 [02:12<00:00,  1.74s/it]\n",
      "Training (987 / 18000 Steps) (loss=0.36412): 100%|██████████| 76/76 [00:43<00:00,  1.74it/s]\n",
      "Validate (988 / 10 Steps): 100%|██████████| 22/22 [01:25<00:00,  3.90s/it]1<00:34,  1.85it/s]\n",
      "Training (1000 / 18000 Steps) (loss=0.64857):  17%|█▋        | 13/76 [01:37<27:50, 26.51s/it]"
     ]
    },
    {
     "name": "stdout",
     "output_type": "stream",
     "text": [
      "Model Was Not Saved ! Current Best Avg. Dice: 0.35851478576660156 Current Avg. Dice: 0.35482147336006165 Current Avg. tumor Dice: 0.3803052008152008 Current Avg. lymph Dice: 0.3070841431617737\n"
     ]
    },
    {
     "name": "stderr",
     "output_type": "stream",
     "text": [
      "Training (1063 / 18000 Steps) (loss=0.37346): 100%|██████████| 76/76 [02:10<00:00,  1.72s/it]\n",
      "Validate (1064 / 10 Steps): 100%|██████████| 22/22 [01:26<00:00,  3.93s/it]<00:23,  1.69it/s]\n",
      "Training (1100 / 18000 Steps) (loss=0.47993):  49%|████▊     | 37/76 [01:51<17:24, 26.79s/it]"
     ]
    },
    {
     "name": "stdout",
     "output_type": "stream",
     "text": [
      "Model Was Saved ! Current Best Avg. Dice: 0.3861885964870453 Current Avg. Dice: 0.3861885964870453 Current Avg. tumor Dice: 0.36782610416412354 Current Avg. lymph Dice: 0.3895530104637146\n"
     ]
    },
    {
     "name": "stderr",
     "output_type": "stream",
     "text": [
      "Training (1139 / 18000 Steps) (loss=0.63361): 100%|██████████| 76/76 [02:11<00:00,  1.74s/it]\n",
      "Validate (1140 / 10 Steps): 100%|██████████| 22/22 [01:26<00:00,  3.91s/it]<00:09,  1.65it/s]\n",
      "Training (1200 / 18000 Steps) (loss=0.54958):  80%|████████  | 61/76 [02:03<06:37, 26.48s/it]"
     ]
    },
    {
     "name": "stdout",
     "output_type": "stream",
     "text": [
      "Model Was Not Saved ! Current Best Avg. Dice: 0.3861885964870453 Current Avg. Dice: 0.3392253816127777 Current Avg. tumor Dice: 0.3452827036380768 Current Avg. lymph Dice: 0.30208009481430054\n"
     ]
    },
    {
     "name": "stderr",
     "output_type": "stream",
     "text": [
      "Training (1215 / 18000 Steps) (loss=0.67759): 100%|██████████| 76/76 [02:10<00:00,  1.72s/it]\n",
      "Training (1291 / 18000 Steps) (loss=0.47967): 100%|██████████| 76/76 [00:47<00:00,  1.61it/s]\n",
      "Validate (1292 / 10 Steps): 100%|██████████| 22/22 [01:25<00:00,  3.87s/it]00:40,  1.69it/s]\n",
      "Training (1300 / 18000 Steps) (loss=0.49574):  12%|█▏        | 9/76 [01:35<30:25, 27.25s/it]"
     ]
    },
    {
     "name": "stdout",
     "output_type": "stream",
     "text": [
      "Model Was Not Saved ! Current Best Avg. Dice: 0.3861885964870453 Current Avg. Dice: 0.3676803410053253 Current Avg. tumor Dice: 0.4325469732284546 Current Avg. lymph Dice: 0.2537749707698822\n"
     ]
    },
    {
     "name": "stderr",
     "output_type": "stream",
     "text": [
      "Training (1367 / 18000 Steps) (loss=0.50580): 100%|██████████| 76/76 [02:10<00:00,  1.72s/it]\n",
      "Validate (1368 / 10 Steps): 100%|██████████| 22/22 [01:26<00:00,  3.92s/it]<00:19,  2.25it/s]\n",
      "Training (1400 / 18000 Steps) (loss=0.41368):  43%|████▎     | 33/76 [01:49<19:02, 26.57s/it]"
     ]
    },
    {
     "name": "stdout",
     "output_type": "stream",
     "text": [
      "Model Was Not Saved ! Current Best Avg. Dice: 0.3861885964870453 Current Avg. Dice: 0.3731236159801483 Current Avg. tumor Dice: 0.4399109482765198 Current Avg. lymph Dice: 0.26611316204071045\n"
     ]
    },
    {
     "name": "stderr",
     "output_type": "stream",
     "text": [
      "Training (1443 / 18000 Steps) (loss=0.55540): 100%|██████████| 76/76 [02:11<00:00,  1.73s/it]\n",
      "Validate (1444 / 10 Steps): 100%|██████████| 22/22 [01:26<00:00,  3.93s/it]<00:09,  2.07it/s]\n",
      "Training (1500 / 18000 Steps) (loss=0.73525):  75%|███████▌  | 57/76 [02:02<08:22, 26.46s/it]"
     ]
    },
    {
     "name": "stdout",
     "output_type": "stream",
     "text": [
      "Model Was Not Saved ! Current Best Avg. Dice: 0.3861885964870453 Current Avg. Dice: 0.35769522190093994 Current Avg. tumor Dice: 0.3924359381198883 Current Avg. lymph Dice: 0.2903843820095062\n"
     ]
    },
    {
     "name": "stderr",
     "output_type": "stream",
     "text": [
      "Training (1519 / 18000 Steps) (loss=0.60070): 100%|██████████| 76/76 [02:11<00:00,  1.73s/it]\n",
      "Training (1595 / 18000 Steps) (loss=0.59584): 100%|██████████| 76/76 [00:44<00:00,  1.69it/s]\n",
      "Validate (1596 / 10 Steps): 100%|██████████| 22/22 [01:25<00:00,  3.88s/it]01:19,  1.10s/it]\n",
      "Training (1600 / 18000 Steps) (loss=0.54432):   7%|▋         | 5/76 [01:32<37:28, 31.67s/it]"
     ]
    },
    {
     "name": "stdout",
     "output_type": "stream",
     "text": [
      "Model Was Not Saved ! Current Best Avg. Dice: 0.3861885964870453 Current Avg. Dice: 0.3504365384578705 Current Avg. tumor Dice: 0.3437444269657135 Current Avg. lymph Dice: 0.3286430835723877\n"
     ]
    },
    {
     "name": "stderr",
     "output_type": "stream",
     "text": [
      "Training (1671 / 18000 Steps) (loss=0.33009): 100%|██████████| 76/76 [02:09<00:00,  1.70s/it]\n",
      "Validate (1672 / 10 Steps): 100%|██████████| 22/22 [01:26<00:00,  3.93s/it]<00:25,  1.87it/s]\n",
      "Training (1700 / 18000 Steps) (loss=0.54639):  38%|███▊      | 29/76 [01:47<20:45, 26.50s/it]"
     ]
    },
    {
     "name": "stdout",
     "output_type": "stream",
     "text": [
      "Model Was Not Saved ! Current Best Avg. Dice: 0.3861885964870453 Current Avg. Dice: 0.26776620745658875 Current Avg. tumor Dice: 0.34103238582611084 Current Avg. lymph Dice: 0.15645195543766022\n"
     ]
    },
    {
     "name": "stderr",
     "output_type": "stream",
     "text": [
      "Training (1747 / 18000 Steps) (loss=0.68128): 100%|██████████| 76/76 [02:12<00:00,  1.74s/it]\n",
      "Validate (1748 / 10 Steps): 100%|██████████| 22/22 [01:25<00:00,  3.88s/it]<00:13,  1.84it/s]\n",
      "Training (1800 / 18000 Steps) (loss=0.68443):  70%|██████▉   | 53/76 [02:00<10:03, 26.25s/it]"
     ]
    },
    {
     "name": "stdout",
     "output_type": "stream",
     "text": [
      "Model Was Not Saved ! Current Best Avg. Dice: 0.3861885964870453 Current Avg. Dice: 0.3756517171859741 Current Avg. tumor Dice: 0.41265350580215454 Current Avg. lymph Dice: 0.29616212844848633\n"
     ]
    },
    {
     "name": "stderr",
     "output_type": "stream",
     "text": [
      "Training (1823 / 18000 Steps) (loss=0.51245): 100%|██████████| 76/76 [02:11<00:00,  1.73s/it]\n",
      "Training (1899 / 18000 Steps) (loss=0.50715): 100%|██████████| 76/76 [00:47<00:00,  1.59it/s]\n",
      "Validate (1900 / 10 Steps): 100%|██████████| 22/22 [01:25<00:00,  3.90s/it]?, ?it/s]\n",
      "Training (1900 / 18000 Steps) (loss=0.50836):   1%|▏         | 1/76 [01:31<1:54:16, 91.42s/it]"
     ]
    },
    {
     "name": "stdout",
     "output_type": "stream",
     "text": [
      "Model Was Not Saved ! Current Best Avg. Dice: 0.3861885964870453 Current Avg. Dice: 0.3734283447265625 Current Avg. tumor Dice: 0.4510008990764618 Current Avg. lymph Dice: 0.24755924940109253\n"
     ]
    },
    {
     "name": "stderr",
     "output_type": "stream",
     "text": [
      "Training (1975 / 18000 Steps) (loss=0.53838): 100%|██████████| 76/76 [02:09<00:00,  1.70s/it] \n",
      "Validate (1976 / 10 Steps): 100%|██████████| 22/22 [01:25<00:00,  3.90s/it]<00:23,  2.19it/s]\n",
      "Training (2000 / 18000 Steps) (loss=0.60373):  33%|███▎      | 25/76 [01:44<22:24, 26.37s/it]"
     ]
    },
    {
     "name": "stdout",
     "output_type": "stream",
     "text": [
      "Model Was Not Saved ! Current Best Avg. Dice: 0.3861885964870453 Current Avg. Dice: 0.3320412039756775 Current Avg. tumor Dice: 0.3862932324409485 Current Avg. lymph Dice: 0.24005348980426788\n"
     ]
    },
    {
     "name": "stderr",
     "output_type": "stream",
     "text": [
      "Training (2051 / 18000 Steps) (loss=0.31875): 100%|██████████| 76/76 [02:10<00:00,  1.72s/it]\n",
      "Validate (2052 / 10 Steps): 100%|██████████| 22/22 [01:26<00:00,  3.92s/it]<00:13,  2.15it/s]\n",
      "Training (2100 / 18000 Steps) (loss=0.39100):  64%|██████▍   | 49/76 [01:58<11:58, 26.61s/it]"
     ]
    },
    {
     "name": "stdout",
     "output_type": "stream",
     "text": [
      "Model Was Not Saved ! Current Best Avg. Dice: 0.3861885964870453 Current Avg. Dice: 0.34129658341407776 Current Avg. tumor Dice: 0.3785339593887329 Current Avg. lymph Dice: 0.2656346559524536\n"
     ]
    },
    {
     "name": "stderr",
     "output_type": "stream",
     "text": [
      "Training (2127 / 18000 Steps) (loss=0.59640): 100%|██████████| 76/76 [02:12<00:00,  1.74s/it]\n",
      "Validate (2128 / 10 Steps): 100%|██████████| 22/22 [01:26<00:00,  3.93s/it]<00:01,  2.19it/s]\n",
      "Training (2200 / 18000 Steps) (loss=0.55742):  96%|█████████▌| 73/76 [02:11<01:19, 26.45s/it]"
     ]
    },
    {
     "name": "stdout",
     "output_type": "stream",
     "text": [
      "Model Was Not Saved ! Current Best Avg. Dice: 0.3861885964870453 Current Avg. Dice: 0.36064156889915466 Current Avg. tumor Dice: 0.41342276334762573 Current Avg. lymph Dice: 0.2661536931991577\n"
     ]
    },
    {
     "name": "stderr",
     "output_type": "stream",
     "text": [
      "Training (2203 / 18000 Steps) (loss=0.68885): 100%|██████████| 76/76 [02:13<00:00,  1.75s/it]\n",
      "Training (2279 / 18000 Steps) (loss=0.53639): 100%|██████████| 76/76 [00:45<00:00,  1.66it/s]\n",
      "Validate (2280 / 10 Steps): 100%|██████████| 22/22 [01:26<00:00,  3.91s/it]<00:29,  1.91it/s]\n",
      "Training (2300 / 18000 Steps) (loss=0.50173):  28%|██▊       | 21/76 [01:42<24:09, 26.35s/it]"
     ]
    },
    {
     "name": "stdout",
     "output_type": "stream",
     "text": [
      "Model Was Not Saved ! Current Best Avg. Dice: 0.3861885964870453 Current Avg. Dice: 0.35145103931427 Current Avg. tumor Dice: 0.354449987411499 Current Avg. lymph Dice: 0.32467904686927795\n"
     ]
    },
    {
     "name": "stderr",
     "output_type": "stream",
     "text": [
      "Training (2355 / 18000 Steps) (loss=0.67956): 100%|██████████| 76/76 [02:10<00:00,  1.72s/it]\n",
      "Validate (2356 / 10 Steps): 100%|██████████| 22/22 [01:26<00:00,  3.92s/it]<00:17,  1.79it/s]\n",
      "Training (2400 / 18000 Steps) (loss=0.45035):  59%|█████▉    | 45/76 [01:56<13:39, 26.45s/it]"
     ]
    },
    {
     "name": "stdout",
     "output_type": "stream",
     "text": [
      "Model Was Not Saved ! Current Best Avg. Dice: 0.3861885964870453 Current Avg. Dice: 0.2870875597000122 Current Avg. tumor Dice: 0.3771112859249115 Current Avg. lymph Dice: 0.14746221899986267\n"
     ]
    },
    {
     "name": "stderr",
     "output_type": "stream",
     "text": [
      "Training (2431 / 18000 Steps) (loss=0.43621): 100%|██████████| 76/76 [02:12<00:00,  1.74s/it]\n",
      "Validate (2432 / 10 Steps): 100%|██████████| 22/22 [01:26<00:00,  3.93s/it]<00:04,  1.75it/s]\n",
      "Training (2500 / 18000 Steps) (loss=0.56363):  91%|█████████ | 69/76 [02:12<03:05, 26.48s/it]"
     ]
    },
    {
     "name": "stdout",
     "output_type": "stream",
     "text": [
      "Model Was Not Saved ! Current Best Avg. Dice: 0.3861885964870453 Current Avg. Dice: 0.2819368541240692 Current Avg. tumor Dice: 0.3278682231903076 Current Avg. lymph Dice: 0.20891398191452026\n"
     ]
    },
    {
     "name": "stderr",
     "output_type": "stream",
     "text": [
      "Training (2507 / 18000 Steps) (loss=0.45637): 100%|██████████| 76/76 [02:15<00:00,  1.78s/it]\n",
      "Training (2583 / 18000 Steps) (loss=0.67316): 100%|██████████| 76/76 [00:47<00:00,  1.61it/s]\n",
      "Validate (2584 / 10 Steps): 100%|██████████| 22/22 [01:25<00:00,  3.89s/it]<00:30,  1.97it/s]\n",
      "Training (2600 / 18000 Steps) (loss=0.53093):  22%|██▏       | 17/76 [01:41<26:00, 26.45s/it]"
     ]
    },
    {
     "name": "stdout",
     "output_type": "stream",
     "text": [
      "Model Was Not Saved ! Current Best Avg. Dice: 0.3861885964870453 Current Avg. Dice: 0.3270428478717804 Current Avg. tumor Dice: 0.34571853280067444 Current Avg. lymph Dice: 0.2874498963356018\n"
     ]
    },
    {
     "name": "stderr",
     "output_type": "stream",
     "text": [
      "Training (2659 / 18000 Steps) (loss=0.31682): 100%|██████████| 76/76 [02:12<00:00,  1.74s/it]\n",
      "Validate (2660 / 10 Steps): 100%|██████████| 22/22 [01:26<00:00,  3.91s/it]<00:16,  2.24it/s]\n",
      "Training (2700 / 18000 Steps) (loss=0.39364):  54%|█████▍    | 41/76 [01:54<15:30, 26.60s/it]"
     ]
    },
    {
     "name": "stdout",
     "output_type": "stream",
     "text": [
      "Model Was Saved ! Current Best Avg. Dice: 0.40144264698028564 Current Avg. Dice: 0.40144264698028564 Current Avg. tumor Dice: 0.4089478552341461 Current Avg. lymph Dice: 0.36766114830970764\n"
     ]
    },
    {
     "name": "stderr",
     "output_type": "stream",
     "text": [
      "Training (2735 / 18000 Steps) (loss=0.45772): 100%|██████████| 76/76 [02:12<00:00,  1.75s/it]\n",
      "Validate (2736 / 10 Steps): 100%|██████████| 22/22 [01:25<00:00,  3.89s/it]<00:06,  1.93it/s]\n",
      "Training (2800 / 18000 Steps) (loss=0.43131):  86%|████████▌ | 65/76 [02:04<04:48, 26.21s/it]"
     ]
    },
    {
     "name": "stdout",
     "output_type": "stream",
     "text": [
      "Model Was Not Saved ! Current Best Avg. Dice: 0.40144264698028564 Current Avg. Dice: 0.3536262810230255 Current Avg. tumor Dice: 0.42545613646507263 Current Avg. lymph Dice: 0.23295259475708008\n"
     ]
    },
    {
     "name": "stderr",
     "output_type": "stream",
     "text": [
      "Training (2811 / 18000 Steps) (loss=0.67936): 100%|██████████| 76/76 [02:10<00:00,  1.71s/it]\n",
      "Training (2887 / 18000 Steps) (loss=0.54255): 100%|██████████| 76/76 [00:46<00:00,  1.65it/s]\n",
      "Validate (2888 / 10 Steps): 100%|██████████| 22/22 [01:26<00:00,  3.91s/it]<00:39,  1.63it/s]\n",
      "Training (2900 / 18000 Steps) (loss=0.50666):  17%|█▋        | 13/76 [01:39<28:16, 26.93s/it]"
     ]
    },
    {
     "name": "stdout",
     "output_type": "stream",
     "text": [
      "Model Was Saved ! Current Best Avg. Dice: 0.41310787200927734 Current Avg. Dice: 0.41310787200927734 Current Avg. tumor Dice: 0.4600781500339508 Current Avg. lymph Dice: 0.3280828297138214\n"
     ]
    },
    {
     "name": "stderr",
     "output_type": "stream",
     "text": [
      "Training (2963 / 18000 Steps) (loss=0.66869): 100%|██████████| 76/76 [02:11<00:00,  1.74s/it]\n",
      "Validate (2964 / 10 Steps): 100%|██████████| 22/22 [01:26<00:00,  3.94s/it]<00:25,  1.55it/s]\n",
      "Training (3000 / 18000 Steps) (loss=0.46708):  49%|████▊     | 37/76 [01:51<17:18, 26.62s/it]"
     ]
    },
    {
     "name": "stdout",
     "output_type": "stream",
     "text": [
      "Model Was Not Saved ! Current Best Avg. Dice: 0.41310787200927734 Current Avg. Dice: 0.3744127154350281 Current Avg. tumor Dice: 0.4057826101779938 Current Avg. lymph Dice: 0.3107385039329529\n"
     ]
    },
    {
     "name": "stderr",
     "output_type": "stream",
     "text": [
      "Training (3039 / 18000 Steps) (loss=0.28879): 100%|██████████| 76/76 [02:11<00:00,  1.73s/it]\n",
      "Validate (3040 / 10 Steps): 100%|██████████| 22/22 [01:25<00:00,  3.90s/it]<00:09,  1.62it/s]\n",
      "Training (3100 / 18000 Steps) (loss=0.49895):  80%|████████  | 61/76 [02:03<06:35, 26.34s/it]"
     ]
    },
    {
     "name": "stdout",
     "output_type": "stream",
     "text": [
      "Model Was Not Saved ! Current Best Avg. Dice: 0.41310787200927734 Current Avg. Dice: 0.3864497244358063 Current Avg. tumor Dice: 0.3973199725151062 Current Avg. lymph Dice: 0.3530409038066864\n"
     ]
    },
    {
     "name": "stderr",
     "output_type": "stream",
     "text": [
      "Training (3115 / 18000 Steps) (loss=0.58355): 100%|██████████| 76/76 [02:10<00:00,  1.72s/it]\n",
      "Training (3191 / 18000 Steps) (loss=0.58180): 100%|██████████| 76/76 [00:46<00:00,  1.63it/s]\n",
      "Validate (3192 / 10 Steps): 100%|██████████| 22/22 [01:26<00:00,  3.94s/it]00:39,  1.74it/s]\n",
      "Training (3200 / 18000 Steps) (loss=0.38708):  12%|█▏        | 9/76 [01:36<31:06, 27.85s/it]"
     ]
    },
    {
     "name": "stdout",
     "output_type": "stream",
     "text": [
      "Model Was Not Saved ! Current Best Avg. Dice: 0.41310787200927734 Current Avg. Dice: 0.3744465112686157 Current Avg. tumor Dice: 0.43501096963882446 Current Avg. lymph Dice: 0.27156293392181396\n"
     ]
    },
    {
     "name": "stderr",
     "output_type": "stream",
     "text": [
      "Training (3267 / 18000 Steps) (loss=0.68871): 100%|██████████| 76/76 [02:11<00:00,  1.72s/it]\n",
      "Validate (3268 / 10 Steps): 100%|██████████| 22/22 [01:25<00:00,  3.87s/it]<00:20,  2.14it/s]\n",
      "Training (3300 / 18000 Steps) (loss=0.39747):  43%|████▎     | 33/76 [01:50<18:55, 26.41s/it]"
     ]
    },
    {
     "name": "stdout",
     "output_type": "stream",
     "text": [
      "Model Was Not Saved ! Current Best Avg. Dice: 0.41310787200927734 Current Avg. Dice: 0.3341112434864044 Current Avg. tumor Dice: 0.431365430355072 Current Avg. lymph Dice: 0.18741150200366974\n"
     ]
    },
    {
     "name": "stderr",
     "output_type": "stream",
     "text": [
      "Training (3343 / 18000 Steps) (loss=0.36932): 100%|██████████| 76/76 [02:12<00:00,  1.74s/it]\n",
      "Validate (3344 / 10 Steps): 100%|██████████| 22/22 [01:25<00:00,  3.87s/it]<00:09,  2.13it/s]\n",
      "Training (3400 / 18000 Steps) (loss=0.66899):  75%|███████▌  | 57/76 [02:02<08:16, 26.13s/it]"
     ]
    },
    {
     "name": "stdout",
     "output_type": "stream",
     "text": [
      "Model Was Not Saved ! Current Best Avg. Dice: 0.41310787200927734 Current Avg. Dice: 0.33684203028678894 Current Avg. tumor Dice: 0.4132949411869049 Current Avg. lymph Dice: 0.2199549376964569\n"
     ]
    },
    {
     "name": "stderr",
     "output_type": "stream",
     "text": [
      "Training (3419 / 18000 Steps) (loss=0.31843): 100%|██████████| 76/76 [02:11<00:00,  1.73s/it]\n",
      "Training (3495 / 18000 Steps) (loss=0.71020): 100%|██████████| 76/76 [00:47<00:00,  1.62it/s]\n",
      "Validate (3496 / 10 Steps): 100%|██████████| 22/22 [01:25<00:00,  3.89s/it]01:32,  1.29s/it]\n",
      "Training (3500 / 18000 Steps) (loss=0.34328):   7%|▋         | 5/76 [01:34<37:42, 31.86s/it]"
     ]
    },
    {
     "name": "stdout",
     "output_type": "stream",
     "text": [
      "Model Was Not Saved ! Current Best Avg. Dice: 0.41310787200927734 Current Avg. Dice: 0.386067658662796 Current Avg. tumor Dice: 0.4524971544742584 Current Avg. lymph Dice: 0.277424156665802\n"
     ]
    },
    {
     "name": "stderr",
     "output_type": "stream",
     "text": [
      "Training (3571 / 18000 Steps) (loss=0.44561): 100%|██████████| 76/76 [02:11<00:00,  1.74s/it]\n",
      "Validate (3572 / 10 Steps): 100%|██████████| 22/22 [01:25<00:00,  3.90s/it]<00:26,  1.80it/s]\n",
      "Training (3600 / 18000 Steps) (loss=0.40347):  38%|███▊      | 29/76 [01:48<20:49, 26.59s/it]"
     ]
    },
    {
     "name": "stdout",
     "output_type": "stream",
     "text": [
      "Model Was Saved ! Current Best Avg. Dice: 0.42903441190719604 Current Avg. Dice: 0.42903441190719604 Current Avg. tumor Dice: 0.4602982997894287 Current Avg. lymph Dice: 0.358291357755661\n"
     ]
    },
    {
     "name": "stderr",
     "output_type": "stream",
     "text": [
      "Training (3647 / 18000 Steps) (loss=0.41741): 100%|██████████| 76/76 [02:13<00:00,  1.76s/it]\n",
      "Validate (3648 / 10 Steps): 100%|██████████| 22/22 [01:26<00:00,  3.94s/it]<00:15,  1.56it/s]\n",
      "Training (3700 / 18000 Steps) (loss=0.70004):  70%|██████▉   | 53/76 [02:02<10:12, 26.63s/it]"
     ]
    },
    {
     "name": "stdout",
     "output_type": "stream",
     "text": [
      "Model Was Not Saved ! Current Best Avg. Dice: 0.42903441190719604 Current Avg. Dice: 0.3898244798183441 Current Avg. tumor Dice: 0.43378424644470215 Current Avg. lymph Dice: 0.30647003650665283\n"
     ]
    },
    {
     "name": "stderr",
     "output_type": "stream",
     "text": [
      "Training (3723 / 18000 Steps) (loss=0.32853): 100%|██████████| 76/76 [02:13<00:00,  1.76s/it]\n",
      "Training (3799 / 18000 Steps) (loss=0.50319): 100%|██████████| 76/76 [00:46<00:00,  1.63it/s]\n",
      "Validate (3800 / 10 Steps): 100%|██████████| 22/22 [01:26<00:00,  3.94s/it]?, ?it/s]\n",
      "Training (3800 / 18000 Steps) (loss=0.66882):   1%|▏         | 1/76 [01:33<1:56:33, 93.25s/it]"
     ]
    },
    {
     "name": "stdout",
     "output_type": "stream",
     "text": [
      "Model Was Not Saved ! Current Best Avg. Dice: 0.42903441190719604 Current Avg. Dice: 0.38249969482421875 Current Avg. tumor Dice: 0.4180520474910736 Current Avg. lymph Dice: 0.3051619827747345\n"
     ]
    },
    {
     "name": "stderr",
     "output_type": "stream",
     "text": [
      "Training (3875 / 18000 Steps) (loss=0.66944): 100%|██████████| 76/76 [02:14<00:00,  1.77s/it] \n",
      "Validate (3876 / 10 Steps): 100%|██████████| 22/22 [01:25<00:00,  3.90s/it]<00:28,  1.85it/s]\n",
      "Training (3900 / 18000 Steps) (loss=0.58748):  33%|███▎      | 25/76 [01:47<22:33, 26.54s/it]"
     ]
    },
    {
     "name": "stdout",
     "output_type": "stream",
     "text": [
      "Model Was Not Saved ! Current Best Avg. Dice: 0.42903441190719604 Current Avg. Dice: 0.4133903682231903 Current Avg. tumor Dice: 0.4315773546695709 Current Avg. lymph Dice: 0.36297157406806946\n"
     ]
    },
    {
     "name": "stderr",
     "output_type": "stream",
     "text": [
      "Training (3951 / 18000 Steps) (loss=0.45625): 100%|██████████| 76/76 [02:14<00:00,  1.77s/it]\n",
      "Validate (3952 / 10 Steps): 100%|██████████| 22/22 [01:27<00:00,  3.99s/it]<00:13,  2.10it/s]\n",
      "Training (4000 / 18000 Steps) (loss=0.60467):  64%|██████▍   | 49/76 [01:59<12:04, 26.82s/it]"
     ]
    },
    {
     "name": "stdout",
     "output_type": "stream",
     "text": [
      "Model Was Not Saved ! Current Best Avg. Dice: 0.42903441190719604 Current Avg. Dice: 0.3806680738925934 Current Avg. tumor Dice: 0.3788336217403412 Current Avg. lymph Dice: 0.357835978269577\n"
     ]
    },
    {
     "name": "stderr",
     "output_type": "stream",
     "text": [
      "Training (4027 / 18000 Steps) (loss=0.67225): 100%|██████████| 76/76 [02:13<00:00,  1.75s/it]\n",
      "Validate (4028 / 10 Steps): 100%|██████████| 22/22 [01:25<00:00,  3.87s/it]<00:01,  2.30it/s]\n",
      "Training (4100 / 18000 Steps) (loss=0.47223):  96%|█████████▌| 73/76 [02:06<01:18, 26.04s/it]"
     ]
    },
    {
     "name": "stdout",
     "output_type": "stream",
     "text": [
      "Model Was Not Saved ! Current Best Avg. Dice: 0.42903441190719604 Current Avg. Dice: 0.33159705996513367 Current Avg. tumor Dice: 0.4034658670425415 Current Avg. lymph Dice: 0.2074868232011795\n"
     ]
    },
    {
     "name": "stderr",
     "output_type": "stream",
     "text": [
      "Training (4103 / 18000 Steps) (loss=0.59176): 100%|██████████| 76/76 [02:07<00:00,  1.68s/it]\n",
      "Training (4179 / 18000 Steps) (loss=0.60004): 100%|██████████| 76/76 [00:43<00:00,  1.74it/s]\n",
      "Validate (4180 / 10 Steps): 100%|██████████| 22/22 [01:25<00:00,  3.90s/it]<00:30,  1.86it/s]\n",
      "Training (4200 / 18000 Steps) (loss=0.44510):  28%|██▊       | 21/76 [01:41<24:07, 26.31s/it]"
     ]
    },
    {
     "name": "stdout",
     "output_type": "stream",
     "text": [
      "Model Was Not Saved ! Current Best Avg. Dice: 0.42903441190719604 Current Avg. Dice: 0.3148925006389618 Current Avg. tumor Dice: 0.41277965903282166 Current Avg. lymph Dice: 0.15413618087768555\n"
     ]
    },
    {
     "name": "stderr",
     "output_type": "stream",
     "text": [
      "Training (4255 / 18000 Steps) (loss=0.58433): 100%|██████████| 76/76 [02:09<00:00,  1.70s/it]\n",
      "Validate (4256 / 10 Steps): 100%|██████████| 22/22 [01:26<00:00,  3.92s/it]<00:18,  1.75it/s]\n",
      "Training (4300 / 18000 Steps) (loss=0.56235):  59%|█████▉    | 45/76 [01:54<13:38, 26.40s/it]"
     ]
    },
    {
     "name": "stdout",
     "output_type": "stream",
     "text": [
      "Model Was Not Saved ! Current Best Avg. Dice: 0.42903441190719604 Current Avg. Dice: 0.3166528046131134 Current Avg. tumor Dice: 0.3426250219345093 Current Avg. lymph Dice: 0.2622412443161011\n"
     ]
    },
    {
     "name": "stderr",
     "output_type": "stream",
     "text": [
      "Training (4331 / 18000 Steps) (loss=0.65660): 100%|██████████| 76/76 [02:09<00:00,  1.71s/it]\n",
      "Validate (4332 / 10 Steps): 100%|██████████| 22/22 [01:26<00:00,  3.94s/it]<00:04,  1.90it/s]\n",
      "Training (4400 / 18000 Steps) (loss=0.54773):  91%|█████████ | 69/76 [02:08<03:05, 26.55s/it]"
     ]
    },
    {
     "name": "stdout",
     "output_type": "stream",
     "text": [
      "Model Was Not Saved ! Current Best Avg. Dice: 0.42903441190719604 Current Avg. Dice: 0.3944404423236847 Current Avg. tumor Dice: 0.43935438990592957 Current Avg. lymph Dice: 0.30845314264297485\n"
     ]
    },
    {
     "name": "stderr",
     "output_type": "stream",
     "text": [
      "Training (4407 / 18000 Steps) (loss=0.43271): 100%|██████████| 76/76 [02:11<00:00,  1.73s/it]\n",
      "Training (4483 / 18000 Steps) (loss=0.52846): 100%|██████████| 76/76 [00:47<00:00,  1.62it/s]\n",
      "Validate (4484 / 10 Steps): 100%|██████████| 22/22 [01:26<00:00,  3.93s/it]<00:29,  2.05it/s]\n",
      "Training (4500 / 18000 Steps) (loss=0.62348):  22%|██▏       | 17/76 [01:40<26:20, 26.78s/it]"
     ]
    },
    {
     "name": "stdout",
     "output_type": "stream",
     "text": [
      "Model Was Saved ! Current Best Avg. Dice: 0.44148361682891846 Current Avg. Dice: 0.44148361682891846 Current Avg. tumor Dice: 0.4691835939884186 Current Avg. lymph Dice: 0.3727128803730011\n"
     ]
    },
    {
     "name": "stderr",
     "output_type": "stream",
     "text": [
      "Training (4559 / 18000 Steps) (loss=0.33112): 100%|██████████| 76/76 [02:10<00:00,  1.72s/it]\n",
      "Validate (4560 / 10 Steps): 100%|██████████| 22/22 [01:26<00:00,  3.91s/it]<00:17,  2.07it/s]\n",
      "Training (4600 / 18000 Steps) (loss=0.68699):  54%|█████▍    | 41/76 [01:51<15:26, 26.46s/it]"
     ]
    },
    {
     "name": "stdout",
     "output_type": "stream",
     "text": [
      "Model Was Not Saved ! Current Best Avg. Dice: 0.44148361682891846 Current Avg. Dice: 0.3926240801811218 Current Avg. tumor Dice: 0.4165656268596649 Current Avg. lymph Dice: 0.32569852471351624\n"
     ]
    },
    {
     "name": "stderr",
     "output_type": "stream",
     "text": [
      "Training (4635 / 18000 Steps) (loss=0.65059): 100%|██████████| 76/76 [02:08<00:00,  1.69s/it]\n",
      "Validate (4636 / 10 Steps): 100%|██████████| 22/22 [01:26<00:00,  3.94s/it]<00:05,  2.20it/s]\n",
      "Training (4700 / 18000 Steps) (loss=0.61939):  86%|████████▌ | 65/76 [02:07<04:51, 26.50s/it]"
     ]
    },
    {
     "name": "stdout",
     "output_type": "stream",
     "text": [
      "Model Was Not Saved ! Current Best Avg. Dice: 0.44148361682891846 Current Avg. Dice: 0.4038958251476288 Current Avg. tumor Dice: 0.4202091097831726 Current Avg. lymph Dice: 0.35740941762924194\n"
     ]
    },
    {
     "name": "stderr",
     "output_type": "stream",
     "text": [
      "Training (4711 / 18000 Steps) (loss=0.62986): 100%|██████████| 76/76 [02:13<00:00,  1.75s/it]\n",
      "Training (4787 / 18000 Steps) (loss=0.40079): 100%|██████████| 76/76 [00:43<00:00,  1.77it/s]\n",
      "Validate (4788 / 10 Steps): 100%|██████████| 22/22 [01:26<00:00,  3.95s/it]<00:38,  1.67it/s]\n",
      "Training (4800 / 18000 Steps) (loss=0.56732):  17%|█▋        | 13/76 [01:39<28:15, 26.91s/it]"
     ]
    },
    {
     "name": "stdout",
     "output_type": "stream",
     "text": [
      "Model Was Not Saved ! Current Best Avg. Dice: 0.44148361682891846 Current Avg. Dice: 0.41707465052604675 Current Avg. tumor Dice: 0.44531285762786865 Current Avg. lymph Dice: 0.3508850038051605\n"
     ]
    },
    {
     "name": "stderr",
     "output_type": "stream",
     "text": [
      "Training (4863 / 18000 Steps) (loss=0.65629): 100%|██████████| 76/76 [02:12<00:00,  1.75s/it]\n",
      "Validate (4864 / 10 Steps): 100%|██████████| 22/22 [01:26<00:00,  3.91s/it]<00:19,  2.05it/s]\n",
      "Training (4900 / 18000 Steps) (loss=0.55824):  49%|████▊     | 37/76 [01:50<17:06, 26.31s/it]"
     ]
    },
    {
     "name": "stdout",
     "output_type": "stream",
     "text": [
      "Model Was Not Saved ! Current Best Avg. Dice: 0.44148361682891846 Current Avg. Dice: 0.4106126129627228 Current Avg. tumor Dice: 0.4283188283443451 Current Avg. lymph Dice: 0.35694682598114014\n"
     ]
    },
    {
     "name": "stderr",
     "output_type": "stream",
     "text": [
      "Training (4939 / 18000 Steps) (loss=0.45942): 100%|██████████| 76/76 [02:09<00:00,  1.70s/it]\n",
      "Validate (4940 / 10 Steps): 100%|██████████| 22/22 [01:26<00:00,  3.95s/it]<00:07,  2.07it/s]\n",
      "Training (5000 / 18000 Steps) (loss=0.59964):  80%|████████  | 61/76 [02:01<06:38, 26.55s/it]"
     ]
    },
    {
     "name": "stdout",
     "output_type": "stream",
     "text": [
      "Model Was Not Saved ! Current Best Avg. Dice: 0.44148361682891846 Current Avg. Dice: 0.3947746455669403 Current Avg. tumor Dice: 0.4541359841823578 Current Avg. lymph Dice: 0.28646257519721985\n"
     ]
    },
    {
     "name": "stderr",
     "output_type": "stream",
     "text": [
      "Training (5015 / 18000 Steps) (loss=0.32781): 100%|██████████| 76/76 [02:08<00:00,  1.70s/it]\n",
      "Training (5091 / 18000 Steps) (loss=0.60301): 100%|██████████| 76/76 [00:44<00:00,  1.72it/s]\n",
      "Validate (5092 / 10 Steps): 100%|██████████| 22/22 [01:25<00:00,  3.90s/it]00:40,  1.67it/s]\n",
      "Training (5100 / 18000 Steps) (loss=0.51284):  12%|█▏        | 9/76 [01:36<30:59, 27.76s/it]"
     ]
    },
    {
     "name": "stdout",
     "output_type": "stream",
     "text": [
      "Model Was Not Saved ! Current Best Avg. Dice: 0.44148361682891846 Current Avg. Dice: 0.3716449737548828 Current Avg. tumor Dice: 0.4080761969089508 Current Avg. lymph Dice: 0.2950543761253357\n"
     ]
    },
    {
     "name": "stderr",
     "output_type": "stream",
     "text": [
      "Training (5167 / 18000 Steps) (loss=0.45417): 100%|██████████| 76/76 [02:09<00:00,  1.70s/it]\n",
      "Validate (5168 / 10 Steps): 100%|██████████| 22/22 [01:25<00:00,  3.89s/it]<00:21,  2.04it/s]\n",
      "Training (5200 / 18000 Steps) (loss=0.67664):  43%|████▎     | 33/76 [01:47<18:46, 26.20s/it]"
     ]
    },
    {
     "name": "stdout",
     "output_type": "stream",
     "text": [
      "Model Was Not Saved ! Current Best Avg. Dice: 0.44148361682891846 Current Avg. Dice: 0.4010738134384155 Current Avg. tumor Dice: 0.41686907410621643 Current Avg. lymph Dice: 0.3493797481060028\n"
     ]
    },
    {
     "name": "stderr",
     "output_type": "stream",
     "text": [
      "Training (5243 / 18000 Steps) (loss=0.46118): 100%|██████████| 76/76 [02:10<00:00,  1.72s/it]\n",
      "Validate (5244 / 10 Steps): 100%|██████████| 22/22 [01:26<00:00,  3.92s/it]<00:09,  2.16it/s]\n",
      "Training (5300 / 18000 Steps) (loss=0.48441):  75%|███████▌  | 57/76 [01:59<08:20, 26.33s/it]"
     ]
    },
    {
     "name": "stdout",
     "output_type": "stream",
     "text": [
      "Model Was Not Saved ! Current Best Avg. Dice: 0.44148361682891846 Current Avg. Dice: 0.3933573067188263 Current Avg. tumor Dice: 0.44360116124153137 Current Avg. lymph Dice: 0.3006000518798828\n"
     ]
    },
    {
     "name": "stderr",
     "output_type": "stream",
     "text": [
      "Training (5319 / 18000 Steps) (loss=0.20196): 100%|██████████| 76/76 [02:08<00:00,  1.69s/it]\n",
      "Training (5395 / 18000 Steps) (loss=0.32124): 100%|██████████| 76/76 [00:43<00:00,  1.73it/s]\n",
      "Validate (5396 / 10 Steps): 100%|██████████| 22/22 [01:25<00:00,  3.89s/it]01:26,  1.21s/it]\n",
      "Training (5400 / 18000 Steps) (loss=0.67287):   7%|▋         | 5/76 [01:33<37:42, 31.86s/it]"
     ]
    },
    {
     "name": "stdout",
     "output_type": "stream",
     "text": [
      "Model Was Not Saved ! Current Best Avg. Dice: 0.44148361682891846 Current Avg. Dice: 0.41545945405960083 Current Avg. tumor Dice: 0.42009830474853516 Current Avg. lymph Dice: 0.37206897139549255\n"
     ]
    },
    {
     "name": "stderr",
     "output_type": "stream",
     "text": [
      "Training (5471 / 18000 Steps) (loss=0.35334): 100%|██████████| 76/76 [02:12<00:00,  1.74s/it]\n",
      "Validate (5472 / 10 Steps): 100%|██████████| 22/22 [01:26<00:00,  3.95s/it]<00:23,  2.07it/s]\n",
      "Training (5500 / 18000 Steps) (loss=0.28852):  38%|███▊      | 29/76 [01:46<20:49, 26.58s/it]"
     ]
    },
    {
     "name": "stdout",
     "output_type": "stream",
     "text": [
      "Model Was Not Saved ! Current Best Avg. Dice: 0.44148361682891846 Current Avg. Dice: 0.41541221737861633 Current Avg. tumor Dice: 0.4509764313697815 Current Avg. lymph Dice: 0.337990403175354\n"
     ]
    },
    {
     "name": "stderr",
     "output_type": "stream",
     "text": [
      "Training (5547 / 18000 Steps) (loss=0.44916): 100%|██████████| 76/76 [02:10<00:00,  1.72s/it]\n",
      "Validate (5548 / 10 Steps): 100%|██████████| 22/22 [01:26<00:00,  3.94s/it]<00:13,  1.80it/s]\n",
      "Training (5600 / 18000 Steps) (loss=0.58721):  70%|██████▉   | 53/76 [02:01<10:09, 26.51s/it]"
     ]
    },
    {
     "name": "stdout",
     "output_type": "stream",
     "text": [
      "Model Was Not Saved ! Current Best Avg. Dice: 0.44148361682891846 Current Avg. Dice: 0.4141782522201538 Current Avg. tumor Dice: 0.46318870782852173 Current Avg. lymph Dice: 0.32147496938705444\n"
     ]
    },
    {
     "name": "stderr",
     "output_type": "stream",
     "text": [
      "Training (5623 / 18000 Steps) (loss=0.56726): 100%|██████████| 76/76 [02:12<00:00,  1.75s/it]\n",
      "Training (5699 / 18000 Steps) (loss=0.41371): 100%|██████████| 76/76 [00:47<00:00,  1.60it/s]\n",
      "Validate (5700 / 10 Steps): 100%|██████████| 22/22 [01:26<00:00,  3.94s/it]?, ?it/s]\n",
      "Training (5700 / 18000 Steps) (loss=0.67403):   1%|▏         | 1/76 [01:32<1:55:15, 92.20s/it]"
     ]
    },
    {
     "name": "stdout",
     "output_type": "stream",
     "text": [
      "Model Was Not Saved ! Current Best Avg. Dice: 0.44148361682891846 Current Avg. Dice: 0.38021281361579895 Current Avg. tumor Dice: 0.435247004032135 Current Avg. lymph Dice: 0.2809009850025177\n"
     ]
    },
    {
     "name": "stderr",
     "output_type": "stream",
     "text": [
      "Training (5775 / 18000 Steps) (loss=0.56804): 100%|██████████| 76/76 [02:10<00:00,  1.72s/it] \n",
      "Validate (5776 / 10 Steps): 100%|██████████| 22/22 [01:26<00:00,  3.92s/it]<00:26,  1.99it/s]\n",
      "Training (5800 / 18000 Steps) (loss=0.48209):  33%|███▎      | 25/76 [01:44<22:27, 26.42s/it]"
     ]
    },
    {
     "name": "stdout",
     "output_type": "stream",
     "text": [
      "Model Was Not Saved ! Current Best Avg. Dice: 0.44148361682891846 Current Avg. Dice: 0.3428717851638794 Current Avg. tumor Dice: 0.4030725359916687 Current Avg. lymph Dice: 0.23360103368759155\n"
     ]
    },
    {
     "name": "stderr",
     "output_type": "stream",
     "text": [
      "Training (5851 / 18000 Steps) (loss=0.56000): 100%|██████████| 76/76 [02:11<00:00,  1.73s/it]\n",
      "Validate (5852 / 10 Steps): 100%|██████████| 22/22 [01:25<00:00,  3.87s/it]<00:12,  2.22it/s]\n",
      "Training (5900 / 18000 Steps) (loss=0.66841):  64%|██████▍   | 49/76 [01:56<11:47, 26.20s/it]"
     ]
    },
    {
     "name": "stdout",
     "output_type": "stream",
     "text": [
      "Model Was Not Saved ! Current Best Avg. Dice: 0.44148361682891846 Current Avg. Dice: 0.35792243480682373 Current Avg. tumor Dice: 0.3928734362125397 Current Avg. lymph Dice: 0.28860870003700256\n"
     ]
    },
    {
     "name": "stderr",
     "output_type": "stream",
     "text": [
      "Training (5927 / 18000 Steps) (loss=0.56018): 100%|██████████| 76/76 [02:09<00:00,  1.71s/it]\n",
      "Validate (5928 / 10 Steps): 100%|██████████| 22/22 [01:25<00:00,  3.87s/it]<00:01,  2.12it/s]\n",
      "Training (6000 / 18000 Steps) (loss=0.66727):  96%|█████████▌| 73/76 [02:08<01:18, 26.03s/it]"
     ]
    },
    {
     "name": "stdout",
     "output_type": "stream",
     "text": [
      "Model Was Not Saved ! Current Best Avg. Dice: 0.44148361682891846 Current Avg. Dice: 0.413764089345932 Current Avg. tumor Dice: 0.45358771085739136 Current Avg. lymph Dice: 0.32600831985473633\n"
     ]
    },
    {
     "name": "stderr",
     "output_type": "stream",
     "text": [
      "Training (6003 / 18000 Steps) (loss=0.44290): 100%|██████████| 76/76 [02:09<00:00,  1.71s/it]\n",
      "Training (6079 / 18000 Steps) (loss=0.40764): 100%|██████████| 76/76 [00:43<00:00,  1.76it/s]\n",
      "Validate (6080 / 10 Steps): 100%|██████████| 22/22 [01:24<00:00,  3.86s/it]<00:28,  1.96it/s]\n",
      "Training (6100 / 18000 Steps) (loss=0.66863):  28%|██▊       | 21/76 [01:40<23:50, 26.01s/it]"
     ]
    },
    {
     "name": "stdout",
     "output_type": "stream",
     "text": [
      "Model Was Not Saved ! Current Best Avg. Dice: 0.44148361682891846 Current Avg. Dice: 0.42057350277900696 Current Avg. tumor Dice: 0.45439374446868896 Current Avg. lymph Dice: 0.3499663472175598\n"
     ]
    },
    {
     "name": "stderr",
     "output_type": "stream",
     "text": [
      "Training (6155 / 18000 Steps) (loss=0.46217): 100%|██████████| 76/76 [02:06<00:00,  1.67s/it]\n",
      "Validate (6156 / 10 Steps): 100%|██████████| 22/22 [01:24<00:00,  3.86s/it]<00:15,  2.08it/s]\n",
      "Training (6200 / 18000 Steps) (loss=0.25809):  59%|█████▉    | 45/76 [01:52<13:23, 25.93s/it]"
     ]
    },
    {
     "name": "stdout",
     "output_type": "stream",
     "text": [
      "Model Was Not Saved ! Current Best Avg. Dice: 0.44148361682891846 Current Avg. Dice: 0.41153672337532043 Current Avg. tumor Dice: 0.43313947319984436 Current Avg. lymph Dice: 0.3552614450454712\n"
     ]
    },
    {
     "name": "stderr",
     "output_type": "stream",
     "text": [
      "Training (6231 / 18000 Steps) (loss=0.47128): 100%|██████████| 76/76 [02:07<00:00,  1.67s/it]\n",
      "Validate (6232 / 10 Steps): 100%|██████████| 22/22 [01:24<00:00,  3.85s/it]<00:03,  2.22it/s]\n",
      "Training (6300 / 18000 Steps) (loss=0.66754):  91%|█████████ | 69/76 [02:03<03:01, 25.88s/it]"
     ]
    },
    {
     "name": "stdout",
     "output_type": "stream",
     "text": [
      "Model Was Not Saved ! Current Best Avg. Dice: 0.44148361682891846 Current Avg. Dice: 0.4190294146537781 Current Avg. tumor Dice: 0.4550522267818451 Current Avg. lymph Dice: 0.34057796001434326\n"
     ]
    },
    {
     "name": "stderr",
     "output_type": "stream",
     "text": [
      "Training (6307 / 18000 Steps) (loss=0.22726): 100%|██████████| 76/76 [02:06<00:00,  1.67s/it]\n",
      "Training (6383 / 18000 Steps) (loss=0.48592): 100%|██████████| 76/76 [00:42<00:00,  1.80it/s]\n",
      "Validate (6384 / 10 Steps): 100%|██████████| 22/22 [01:25<00:00,  3.89s/it]<00:27,  2.21it/s]\n",
      "Training (6400 / 18000 Steps) (loss=0.54087):  22%|██▏       | 17/76 [01:39<25:59, 26.43s/it]"
     ]
    },
    {
     "name": "stdout",
     "output_type": "stream",
     "text": [
      "Model Was Not Saved ! Current Best Avg. Dice: 0.44148361682891846 Current Avg. Dice: 0.3541018068790436 Current Avg. tumor Dice: 0.41508719325065613 Current Avg. lymph Dice: 0.24886780977249146\n"
     ]
    },
    {
     "name": "stderr",
     "output_type": "stream",
     "text": [
      "Training (6459 / 18000 Steps) (loss=0.52676): 100%|██████████| 76/76 [02:07<00:00,  1.68s/it]\n",
      "Validate (6460 / 10 Steps): 100%|██████████| 22/22 [01:25<00:00,  3.88s/it]<00:16,  2.14it/s]\n",
      "Training (6500 / 18000 Steps) (loss=0.42944):  54%|█████▍    | 41/76 [01:51<15:18, 26.24s/it]"
     ]
    },
    {
     "name": "stdout",
     "output_type": "stream",
     "text": [
      "Model Was Not Saved ! Current Best Avg. Dice: 0.44148361682891846 Current Avg. Dice: 0.40102460980415344 Current Avg. tumor Dice: 0.4514423608779907 Current Avg. lymph Dice: 0.3052704930305481\n"
     ]
    },
    {
     "name": "stderr",
     "output_type": "stream",
     "text": [
      "Training (6535 / 18000 Steps) (loss=0.51130): 100%|██████████| 76/76 [02:07<00:00,  1.68s/it]\n",
      "Validate (6536 / 10 Steps): 100%|██████████| 22/22 [01:25<00:00,  3.87s/it]<00:05,  2.14it/s]\n",
      "Training (6600 / 18000 Steps) (loss=0.58493):  86%|████████▌ | 65/76 [02:02<04:47, 26.14s/it]"
     ]
    },
    {
     "name": "stdout",
     "output_type": "stream",
     "text": [
      "Model Was Not Saved ! Current Best Avg. Dice: 0.44148361682891846 Current Avg. Dice: 0.3757675886154175 Current Avg. tumor Dice: 0.39326271414756775 Current Avg. lymph Dice: 0.3285380005836487\n"
     ]
    },
    {
     "name": "stderr",
     "output_type": "stream",
     "text": [
      "Training (6611 / 18000 Steps) (loss=0.28941): 100%|██████████| 76/76 [02:08<00:00,  1.69s/it]\n",
      "Training (6687 / 18000 Steps) (loss=0.66334): 100%|██████████| 76/76 [00:42<00:00,  1.78it/s]\n",
      "Validate (6688 / 10 Steps): 100%|██████████| 22/22 [01:25<00:00,  3.88s/it]<00:35,  1.83it/s]\n",
      "Training (6700 / 18000 Steps) (loss=0.23299):  17%|█▋        | 13/76 [01:36<27:43, 26.40s/it]"
     ]
    },
    {
     "name": "stdout",
     "output_type": "stream",
     "text": [
      "Model Was Not Saved ! Current Best Avg. Dice: 0.44148361682891846 Current Avg. Dice: 0.39172255992889404 Current Avg. tumor Dice: 0.4282595217227936 Current Avg. lymph Dice: 0.32122930884361267\n"
     ]
    },
    {
     "name": "stderr",
     "output_type": "stream",
     "text": [
      "Training (6763 / 18000 Steps) (loss=0.59133): 100%|██████████| 76/76 [02:08<00:00,  1.68s/it]\n",
      "Validate (6764 / 10 Steps): 100%|██████████| 22/22 [01:25<00:00,  3.87s/it]<00:20,  1.94it/s]\n",
      "Training (6800 / 18000 Steps) (loss=0.44759):  49%|████▊     | 37/76 [01:48<16:54, 26.02s/it]"
     ]
    },
    {
     "name": "stdout",
     "output_type": "stream",
     "text": [
      "Model Was Not Saved ! Current Best Avg. Dice: 0.44148361682891846 Current Avg. Dice: 0.39765655994415283 Current Avg. tumor Dice: 0.46327531337738037 Current Avg. lymph Dice: 0.28744590282440186\n"
     ]
    },
    {
     "name": "stderr",
     "output_type": "stream",
     "text": [
      "Training (6839 / 18000 Steps) (loss=0.37133): 100%|██████████| 76/76 [02:06<00:00,  1.67s/it]\n",
      "Validate (6840 / 10 Steps): 100%|██████████| 22/22 [01:25<00:00,  3.87s/it]<00:08,  1.98it/s]\n",
      "Training (6900 / 18000 Steps) (loss=0.48701):  80%|████████  | 61/76 [02:00<06:30, 26.06s/it]"
     ]
    },
    {
     "name": "stdout",
     "output_type": "stream",
     "text": [
      "Model Was Not Saved ! Current Best Avg. Dice: 0.44148361682891846 Current Avg. Dice: 0.3772068917751312 Current Avg. tumor Dice: 0.4482935965061188 Current Avg. lymph Dice: 0.26147982478141785\n"
     ]
    },
    {
     "name": "stderr",
     "output_type": "stream",
     "text": [
      "Training (6915 / 18000 Steps) (loss=0.38791): 100%|██████████| 76/76 [02:07<00:00,  1.68s/it]\n",
      "Training (6991 / 18000 Steps) (loss=0.66974): 100%|██████████| 76/76 [00:41<00:00,  1.83it/s]\n",
      "Validate (6992 / 10 Steps): 100%|██████████| 22/22 [01:25<00:00,  3.90s/it]00:41,  1.65it/s]\n",
      "Training (7000 / 18000 Steps) (loss=0.66760):  12%|█▏        | 9/76 [01:34<30:35, 27.39s/it]"
     ]
    },
    {
     "name": "stdout",
     "output_type": "stream",
     "text": [
      "Model Was Not Saved ! Current Best Avg. Dice: 0.44148361682891846 Current Avg. Dice: 0.3881818950176239 Current Avg. tumor Dice: 0.46248966455459595 Current Avg. lymph Dice: 0.2722720503807068\n"
     ]
    },
    {
     "name": "stderr",
     "output_type": "stream",
     "text": [
      "Training (7067 / 18000 Steps) (loss=0.43726): 100%|██████████| 76/76 [02:06<00:00,  1.67s/it]\n",
      "Validate (7068 / 10 Steps): 100%|██████████| 22/22 [01:25<00:00,  3.89s/it]<00:20,  2.14it/s]\n",
      "Training (7100 / 18000 Steps) (loss=0.47793):  43%|████▎     | 33/76 [01:47<18:47, 26.23s/it]"
     ]
    },
    {
     "name": "stdout",
     "output_type": "stream",
     "text": [
      "Model Was Not Saved ! Current Best Avg. Dice: 0.44148361682891846 Current Avg. Dice: 0.43447113037109375 Current Avg. tumor Dice: 0.49117687344551086 Current Avg. lymph Dice: 0.33966064453125\n"
     ]
    },
    {
     "name": "stderr",
     "output_type": "stream",
     "text": [
      "Training (7143 / 18000 Steps) (loss=0.45224): 100%|██████████| 76/76 [02:08<00:00,  1.69s/it]\n",
      "Validate (7144 / 10 Steps): 100%|██████████| 22/22 [01:25<00:00,  3.88s/it]<00:09,  2.19it/s]\n",
      "Training (7200 / 18000 Steps) (loss=0.37547):  75%|███████▌  | 57/76 [01:58<08:16, 26.11s/it]"
     ]
    },
    {
     "name": "stdout",
     "output_type": "stream",
     "text": [
      "Model Was Not Saved ! Current Best Avg. Dice: 0.44148361682891846 Current Avg. Dice: 0.40316641330718994 Current Avg. tumor Dice: 0.38737568259239197 Current Avg. lymph Dice: 0.41872072219848633\n"
     ]
    },
    {
     "name": "stderr",
     "output_type": "stream",
     "text": [
      "Training (7219 / 18000 Steps) (loss=0.66750): 100%|██████████| 76/76 [02:07<00:00,  1.68s/it]\n",
      "Training (7295 / 18000 Steps) (loss=0.36426): 100%|██████████| 76/76 [00:42<00:00,  1.77it/s]\n",
      "Validate (7296 / 10 Steps): 100%|██████████| 22/22 [01:25<00:00,  3.87s/it]01:24,  1.17s/it]\n",
      "Training (7300 / 18000 Steps) (loss=0.45956):   7%|▋         | 5/76 [01:32<37:48, 31.94s/it]"
     ]
    },
    {
     "name": "stdout",
     "output_type": "stream",
     "text": [
      "Model Was Saved ! Current Best Avg. Dice: 0.4485538601875305 Current Avg. Dice: 0.4485538601875305 Current Avg. tumor Dice: 0.46675291657447815 Current Avg. lymph Dice: 0.3970312774181366\n"
     ]
    },
    {
     "name": "stderr",
     "output_type": "stream",
     "text": [
      "Training (7371 / 18000 Steps) (loss=0.50975): 100%|██████████| 76/76 [02:07<00:00,  1.68s/it]\n",
      "Validate (7372 / 10 Steps): 100%|██████████| 22/22 [01:24<00:00,  3.85s/it]<00:23,  2.01it/s]\n",
      "Training (7400 / 18000 Steps) (loss=0.45180):  38%|███▊      | 29/76 [01:44<20:19, 25.94s/it]"
     ]
    },
    {
     "name": "stdout",
     "output_type": "stream",
     "text": [
      "Model Was Not Saved ! Current Best Avg. Dice: 0.4485538601875305 Current Avg. Dice: 0.39417803287506104 Current Avg. tumor Dice: 0.4147736132144928 Current Avg. lymph Dice: 0.34734004735946655\n"
     ]
    },
    {
     "name": "stderr",
     "output_type": "stream",
     "text": [
      "Training (7447 / 18000 Steps) (loss=0.45876): 100%|██████████| 76/76 [02:07<00:00,  1.67s/it]\n",
      "Validate (7448 / 10 Steps): 100%|██████████| 22/22 [01:25<00:00,  3.86s/it]<00:11,  2.08it/s]\n",
      "Training (7500 / 18000 Steps) (loss=0.36336):  70%|██████▉   | 53/76 [01:56<09:58, 26.03s/it]"
     ]
    },
    {
     "name": "stdout",
     "output_type": "stream",
     "text": [
      "Model Was Not Saved ! Current Best Avg. Dice: 0.4485538601875305 Current Avg. Dice: 0.4405350387096405 Current Avg. tumor Dice: 0.4654856324195862 Current Avg. lymph Dice: 0.38266581296920776\n"
     ]
    },
    {
     "name": "stderr",
     "output_type": "stream",
     "text": [
      "Training (7523 / 18000 Steps) (loss=0.54904): 100%|██████████| 76/76 [02:07<00:00,  1.68s/it]\n",
      "Training (7599 / 18000 Steps) (loss=0.58163): 100%|██████████| 76/76 [00:43<00:00,  1.75it/s]\n",
      "Validate (7600 / 10 Steps): 100%|██████████| 22/22 [01:25<00:00,  3.88s/it]?, ?it/s]\n",
      "Training (7600 / 18000 Steps) (loss=0.67682):   1%|▏         | 1/76 [01:31<1:53:57, 91.17s/it]"
     ]
    },
    {
     "name": "stdout",
     "output_type": "stream",
     "text": [
      "Model Was Saved ! Current Best Avg. Dice: 0.4634528160095215 Current Avg. Dice: 0.4634528160095215 Current Avg. tumor Dice: 0.48376497626304626 Current Avg. lymph Dice: 0.409382164478302\n"
     ]
    },
    {
     "name": "stderr",
     "output_type": "stream",
     "text": [
      "Training (7675 / 18000 Steps) (loss=0.31271): 100%|██████████| 76/76 [02:07<00:00,  1.67s/it] \n",
      "Validate (7676 / 10 Steps): 100%|██████████| 22/22 [01:25<00:00,  3.88s/it]<00:23,  2.21it/s]\n",
      "Training (7700 / 18000 Steps) (loss=0.48634):  33%|███▎      | 25/76 [01:42<22:14, 26.18s/it]"
     ]
    },
    {
     "name": "stdout",
     "output_type": "stream",
     "text": [
      "Model Was Not Saved ! Current Best Avg. Dice: 0.4634528160095215 Current Avg. Dice: 0.42087307572364807 Current Avg. tumor Dice: 0.42735323309898376 Current Avg. lymph Dice: 0.38644444942474365\n"
     ]
    },
    {
     "name": "stderr",
     "output_type": "stream",
     "text": [
      "Training (7751 / 18000 Steps) (loss=0.51406): 100%|██████████| 76/76 [02:08<00:00,  1.69s/it]\n",
      "Validate (7752 / 10 Steps): 100%|██████████| 22/22 [01:25<00:00,  3.86s/it]<00:13,  2.14it/s]\n",
      "Training (7800 / 18000 Steps) (loss=0.44608):  64%|██████▍   | 49/76 [01:54<11:44, 26.09s/it]"
     ]
    },
    {
     "name": "stdout",
     "output_type": "stream",
     "text": [
      "Model Was Not Saved ! Current Best Avg. Dice: 0.4634528160095215 Current Avg. Dice: 0.4036145508289337 Current Avg. tumor Dice: 0.43686604499816895 Current Avg. lymph Dice: 0.33218902349472046\n"
     ]
    },
    {
     "name": "stderr",
     "output_type": "stream",
     "text": [
      "Training (7827 / 18000 Steps) (loss=0.37675): 100%|██████████| 76/76 [02:07<00:00,  1.68s/it]\n",
      "Validate (7828 / 10 Steps): 100%|██████████| 22/22 [01:24<00:00,  3.84s/it]<00:01,  2.14it/s]\n",
      "Training (7900 / 18000 Steps) (loss=0.66706):  96%|█████████▌| 73/76 [02:05<01:17, 25.85s/it]"
     ]
    },
    {
     "name": "stdout",
     "output_type": "stream",
     "text": [
      "Model Was Not Saved ! Current Best Avg. Dice: 0.4634528160095215 Current Avg. Dice: 0.3915952444076538 Current Avg. tumor Dice: 0.3712597191333771 Current Avg. lymph Dice: 0.38595402240753174\n"
     ]
    },
    {
     "name": "stderr",
     "output_type": "stream",
     "text": [
      "Training (7903 / 18000 Steps) (loss=0.50259): 100%|██████████| 76/76 [02:07<00:00,  1.68s/it]\n",
      "Training (7979 / 18000 Steps) (loss=0.65927): 100%|██████████| 76/76 [00:41<00:00,  1.83it/s]\n",
      "Validate (7980 / 10 Steps): 100%|██████████| 22/22 [01:24<00:00,  3.84s/it]<00:30,  1.82it/s]\n",
      "Training (8000 / 18000 Steps) (loss=0.45544):  28%|██▊       | 21/76 [01:39<23:43, 25.89s/it]"
     ]
    },
    {
     "name": "stdout",
     "output_type": "stream",
     "text": [
      "Model Was Not Saved ! Current Best Avg. Dice: 0.4634528160095215 Current Avg. Dice: 0.42996370792388916 Current Avg. tumor Dice: 0.446774423122406 Current Avg. lymph Dice: 0.37346693873405457\n"
     ]
    },
    {
     "name": "stderr",
     "output_type": "stream",
     "text": [
      "Training (8055 / 18000 Steps) (loss=0.24389): 100%|██████████| 76/76 [02:04<00:00,  1.64s/it]\n",
      "Validate (8056 / 10 Steps): 100%|██████████| 22/22 [01:24<00:00,  3.86s/it]<00:16,  1.96it/s]\n",
      "Training (8100 / 18000 Steps) (loss=0.67564):  59%|█████▉    | 45/76 [01:51<13:26, 26.01s/it]"
     ]
    },
    {
     "name": "stdout",
     "output_type": "stream",
     "text": [
      "Model Was Not Saved ! Current Best Avg. Dice: 0.4634528160095215 Current Avg. Dice: 0.34580323100090027 Current Avg. tumor Dice: 0.3383917212486267 Current Avg. lymph Dice: 0.33599090576171875\n"
     ]
    },
    {
     "name": "stderr",
     "output_type": "stream",
     "text": [
      "Training (8131 / 18000 Steps) (loss=0.66755): 100%|██████████| 76/76 [02:06<00:00,  1.67s/it]\n",
      "Validate (8132 / 10 Steps): 100%|██████████| 22/22 [01:24<00:00,  3.84s/it]<00:03,  2.04it/s]\n",
      "Training (8200 / 18000 Steps) (loss=0.61260):  91%|█████████ | 69/76 [02:03<03:00, 25.82s/it]"
     ]
    },
    {
     "name": "stdout",
     "output_type": "stream",
     "text": [
      "Model Was Not Saved ! Current Best Avg. Dice: 0.4634528160095215 Current Avg. Dice: 0.3763739764690399 Current Avg. tumor Dice: 0.4843175411224365 Current Avg. lymph Dice: 0.2114000767469406\n"
     ]
    },
    {
     "name": "stderr",
     "output_type": "stream",
     "text": [
      "Training (8207 / 18000 Steps) (loss=0.26539): 100%|██████████| 76/76 [02:06<00:00,  1.67s/it]\n",
      "Training (8283 / 18000 Steps) (loss=0.37987): 100%|██████████| 76/76 [00:41<00:00,  1.81it/s]\n",
      "Validate (8284 / 10 Steps): 100%|██████████| 22/22 [01:25<00:00,  3.87s/it]<00:28,  2.08it/s]\n",
      "Training (8300 / 18000 Steps) (loss=0.59238):  22%|██▏       | 17/76 [01:38<25:45, 26.20s/it]"
     ]
    },
    {
     "name": "stdout",
     "output_type": "stream",
     "text": [
      "Model Was Not Saved ! Current Best Avg. Dice: 0.4634528160095215 Current Avg. Dice: 0.39199382066726685 Current Avg. tumor Dice: 0.44004788994789124 Current Avg. lymph Dice: 0.29659080505371094\n"
     ]
    },
    {
     "name": "stderr",
     "output_type": "stream",
     "text": [
      "Training (8359 / 18000 Steps) (loss=0.28423): 100%|██████████| 76/76 [02:07<00:00,  1.68s/it]\n",
      "Validate (8360 / 10 Steps): 100%|██████████| 22/22 [01:25<00:00,  3.88s/it]<00:16,  2.20it/s]\n",
      "Training (8400 / 18000 Steps) (loss=0.47161):  54%|█████▍    | 41/76 [01:50<15:16, 26.19s/it]"
     ]
    },
    {
     "name": "stdout",
     "output_type": "stream",
     "text": [
      "Model Was Not Saved ! Current Best Avg. Dice: 0.4634528160095215 Current Avg. Dice: 0.4137400686740875 Current Avg. tumor Dice: 0.4248514175415039 Current Avg. lymph Dice: 0.37094974517822266\n"
     ]
    },
    {
     "name": "stderr",
     "output_type": "stream",
     "text": [
      "Training (8435 / 18000 Steps) (loss=0.47461): 100%|██████████| 76/76 [02:07<00:00,  1.68s/it]\n",
      "Validate (8436 / 10 Steps): 100%|██████████| 22/22 [01:25<00:00,  3.87s/it]<00:05,  2.08it/s]\n",
      "Training (8500 / 18000 Steps) (loss=0.57511):  86%|████████▌ | 65/76 [02:03<04:46, 26.06s/it]"
     ]
    },
    {
     "name": "stdout",
     "output_type": "stream",
     "text": [
      "Model Was Not Saved ! Current Best Avg. Dice: 0.4634528160095215 Current Avg. Dice: 0.39297768473625183 Current Avg. tumor Dice: 0.45104554295539856 Current Avg. lymph Dice: 0.2933592200279236\n"
     ]
    },
    {
     "name": "stderr",
     "output_type": "stream",
     "text": [
      "Training (8511 / 18000 Steps) (loss=0.76733): 100%|██████████| 76/76 [02:08<00:00,  1.69s/it]\n",
      "Training (8587 / 18000 Steps) (loss=0.24157): 100%|██████████| 76/76 [00:42<00:00,  1.80it/s]\n",
      "Validate (8588 / 10 Steps): 100%|██████████| 22/22 [01:25<00:00,  3.88s/it]<00:33,  1.92it/s]\n",
      "Training (8600 / 18000 Steps) (loss=0.20284):  17%|█▋        | 13/76 [01:36<27:40, 26.36s/it]"
     ]
    },
    {
     "name": "stdout",
     "output_type": "stream",
     "text": [
      "Model Was Not Saved ! Current Best Avg. Dice: 0.4634528160095215 Current Avg. Dice: 0.4172554016113281 Current Avg. tumor Dice: 0.4546503722667694 Current Avg. lymph Dice: 0.3489922285079956\n"
     ]
    },
    {
     "name": "stderr",
     "output_type": "stream",
     "text": [
      "Training (8663 / 18000 Steps) (loss=0.38244): 100%|██████████| 76/76 [02:07<00:00,  1.67s/it]\n",
      "Validate (8664 / 10 Steps): 100%|██████████| 22/22 [01:24<00:00,  3.86s/it]<00:21,  1.85it/s]\n",
      "Training (8700 / 18000 Steps) (loss=0.66699):  49%|████▊     | 37/76 [01:47<16:53, 25.98s/it]"
     ]
    },
    {
     "name": "stdout",
     "output_type": "stream",
     "text": [
      "Model Was Not Saved ! Current Best Avg. Dice: 0.4634528160095215 Current Avg. Dice: 0.38481733202934265 Current Avg. tumor Dice: 0.45273709297180176 Current Avg. lymph Dice: 0.26538363099098206\n"
     ]
    },
    {
     "name": "stderr",
     "output_type": "stream",
     "text": [
      "Training (8739 / 18000 Steps) (loss=0.51562): 100%|██████████| 76/76 [02:06<00:00,  1.67s/it]\n",
      "Validate (8740 / 10 Steps): 100%|██████████| 22/22 [01:24<00:00,  3.86s/it]<00:08,  1.96it/s]\n",
      "Training (8800 / 18000 Steps) (loss=0.59699):  80%|████████  | 61/76 [01:59<06:30, 26.00s/it]"
     ]
    },
    {
     "name": "stdout",
     "output_type": "stream",
     "text": [
      "Model Was Not Saved ! Current Best Avg. Dice: 0.4634528160095215 Current Avg. Dice: 0.40469619631767273 Current Avg. tumor Dice: 0.452537477016449 Current Avg. lymph Dice: 0.31799349188804626\n"
     ]
    },
    {
     "name": "stderr",
     "output_type": "stream",
     "text": [
      "Training (8815 / 18000 Steps) (loss=0.52821): 100%|██████████| 76/76 [02:06<00:00,  1.67s/it]\n",
      "Training (8891 / 18000 Steps) (loss=0.66928): 100%|██████████| 76/76 [00:42<00:00,  1.79it/s]\n",
      "Validate (8892 / 10 Steps): 100%|██████████| 22/22 [01:25<00:00,  3.87s/it]00:38,  1.77it/s]\n",
      "Training (8900 / 18000 Steps) (loss=0.55726):  12%|█▏        | 9/76 [01:34<30:25, 27.24s/it]"
     ]
    },
    {
     "name": "stdout",
     "output_type": "stream",
     "text": [
      "Model Was Not Saved ! Current Best Avg. Dice: 0.4634528160095215 Current Avg. Dice: 0.3584252595901489 Current Avg. tumor Dice: 0.3672666549682617 Current Avg. lymph Dice: 0.328239381313324\n"
     ]
    },
    {
     "name": "stderr",
     "output_type": "stream",
     "text": [
      "Training (8967 / 18000 Steps) (loss=0.43581): 100%|██████████| 76/76 [02:06<00:00,  1.66s/it]\n",
      "Validate (8968 / 10 Steps): 100%|██████████| 22/22 [01:24<00:00,  3.85s/it]<00:19,  2.23it/s]\n",
      "Training (9000 / 18000 Steps) (loss=0.67084):  43%|████▎     | 33/76 [01:45<18:40, 26.06s/it]"
     ]
    },
    {
     "name": "stdout",
     "output_type": "stream",
     "text": [
      "Model Was Not Saved ! Current Best Avg. Dice: 0.4634528160095215 Current Avg. Dice: 0.44624078273773193 Current Avg. tumor Dice: 0.4977068305015564 Current Avg. lymph Dice: 0.3582168221473694\n"
     ]
    },
    {
     "name": "stderr",
     "output_type": "stream",
     "text": [
      "Training (9043 / 18000 Steps) (loss=0.48237): 100%|██████████| 76/76 [02:06<00:00,  1.67s/it]\n",
      "Validate (9044 / 10 Steps): 100%|██████████| 22/22 [01:25<00:00,  3.87s/it]<00:09,  2.13it/s]\n",
      "Training (9100 / 18000 Steps) (loss=0.60279):  75%|███████▌  | 57/76 [01:58<08:15, 26.09s/it]"
     ]
    },
    {
     "name": "stdout",
     "output_type": "stream",
     "text": [
      "Model Was Not Saved ! Current Best Avg. Dice: 0.4634528160095215 Current Avg. Dice: 0.4005533456802368 Current Avg. tumor Dice: 0.4864332973957062 Current Avg. lymph Dice: 0.26455605030059814\n"
     ]
    },
    {
     "name": "stderr",
     "output_type": "stream",
     "text": [
      "Training (9119 / 18000 Steps) (loss=0.25722): 100%|██████████| 76/76 [02:07<00:00,  1.68s/it]\n",
      "Training (9195 / 18000 Steps) (loss=0.42018): 100%|██████████| 76/76 [00:41<00:00,  1.82it/s]\n",
      "Validate (9196 / 10 Steps): 100%|██████████| 22/22 [01:25<00:00,  3.88s/it]01:18,  1.09s/it]\n",
      "Training (9200 / 18000 Steps) (loss=0.60505):   7%|▋         | 5/76 [01:32<37:27, 31.65s/it]"
     ]
    },
    {
     "name": "stdout",
     "output_type": "stream",
     "text": [
      "Model Was Not Saved ! Current Best Avg. Dice: 0.4634528160095215 Current Avg. Dice: 0.4391123950481415 Current Avg. tumor Dice: 0.4752714931964874 Current Avg. lymph Dice: 0.36995160579681396\n"
     ]
    },
    {
     "name": "stderr",
     "output_type": "stream",
     "text": [
      "Training (9271 / 18000 Steps) (loss=0.58469): 100%|██████████| 76/76 [02:06<00:00,  1.67s/it]\n",
      "Validate (9272 / 10 Steps): 100%|██████████| 22/22 [01:25<00:00,  3.87s/it]<00:24,  1.98it/s]\n",
      "Training (9300 / 18000 Steps) (loss=0.24588):  38%|███▊      | 29/76 [01:45<20:36, 26.30s/it]"
     ]
    },
    {
     "name": "stdout",
     "output_type": "stream",
     "text": [
      "Model Was Saved ! Current Best Avg. Dice: 0.4822622537612915 Current Avg. Dice: 0.4822622537612915 Current Avg. tumor Dice: 0.4968845844268799 Current Avg. lymph Dice: 0.4350181818008423\n"
     ]
    },
    {
     "name": "stderr",
     "output_type": "stream",
     "text": [
      "Training (9347 / 18000 Steps) (loss=0.45462): 100%|██████████| 76/76 [02:08<00:00,  1.69s/it]\n",
      "Validate (9348 / 10 Steps): 100%|██████████| 22/22 [01:24<00:00,  3.86s/it]<00:11,  2.08it/s]\n",
      "Training (9400 / 18000 Steps) (loss=0.44643):  70%|██████▉   | 53/76 [01:56<09:57, 25.97s/it]"
     ]
    },
    {
     "name": "stdout",
     "output_type": "stream",
     "text": [
      "Model Was Not Saved ! Current Best Avg. Dice: 0.4822622537612915 Current Avg. Dice: 0.44069308042526245 Current Avg. tumor Dice: 0.4469253420829773 Current Avg. lymph Dice: 0.400187611579895\n"
     ]
    },
    {
     "name": "stderr",
     "output_type": "stream",
     "text": [
      "Training (9423 / 18000 Steps) (loss=0.23868): 100%|██████████| 76/76 [02:07<00:00,  1.68s/it]\n",
      "Training (9499 / 18000 Steps) (loss=0.66728): 100%|██████████| 76/76 [00:41<00:00,  1.81it/s]\n",
      "Validate (9500 / 10 Steps): 100%|██████████| 22/22 [01:25<00:00,  3.90s/it]?, ?it/s]\n",
      "Training (9500 / 18000 Steps) (loss=0.66760):   1%|▏         | 1/76 [01:29<1:52:22, 89.90s/it]"
     ]
    },
    {
     "name": "stdout",
     "output_type": "stream",
     "text": [
      "Model Was Not Saved ! Current Best Avg. Dice: 0.4822622537612915 Current Avg. Dice: 0.40191546082496643 Current Avg. tumor Dice: 0.4841274619102478 Current Avg. lymph Dice: 0.2794145345687866\n"
     ]
    },
    {
     "name": "stderr",
     "output_type": "stream",
     "text": [
      "Training (9575 / 18000 Steps) (loss=0.49181): 100%|██████████| 76/76 [02:06<00:00,  1.66s/it] \n",
      "Validate (9576 / 10 Steps): 100%|██████████| 22/22 [01:25<00:00,  3.89s/it]<00:24,  2.13it/s]\n",
      "Training (9600 / 18000 Steps) (loss=0.70950):  33%|███▎      | 25/76 [01:42<22:17, 26.22s/it]"
     ]
    },
    {
     "name": "stdout",
     "output_type": "stream",
     "text": [
      "Model Was Not Saved ! Current Best Avg. Dice: 0.4822622537612915 Current Avg. Dice: 0.4299047589302063 Current Avg. tumor Dice: 0.483989953994751 Current Avg. lymph Dice: 0.3381277322769165\n"
     ]
    },
    {
     "name": "stderr",
     "output_type": "stream",
     "text": [
      "Training (9651 / 18000 Steps) (loss=0.48771): 100%|██████████| 76/76 [02:07<00:00,  1.68s/it]\n",
      "Validate (9652 / 10 Steps): 100%|██████████| 22/22 [01:25<00:00,  3.89s/it]<00:12,  2.29it/s]\n",
      "Training (9700 / 18000 Steps) (loss=0.16824):  64%|██████▍   | 49/76 [01:54<11:49, 26.28s/it]"
     ]
    },
    {
     "name": "stdout",
     "output_type": "stream",
     "text": [
      "Model Was Not Saved ! Current Best Avg. Dice: 0.4822622537612915 Current Avg. Dice: 0.38684967160224915 Current Avg. tumor Dice: 0.4186575412750244 Current Avg. lymph Dice: 0.321144700050354\n"
     ]
    },
    {
     "name": "stderr",
     "output_type": "stream",
     "text": [
      "Training (9727 / 18000 Steps) (loss=0.58121): 100%|██████████| 76/76 [02:07<00:00,  1.68s/it]\n",
      "Validate (9728 / 10 Steps): 100%|██████████| 22/22 [01:25<00:00,  3.87s/it]<00:02,  2.00it/s]\n",
      "Training (9800 / 18000 Steps) (loss=0.66703):  96%|█████████▌| 73/76 [02:05<01:18, 26.02s/it]"
     ]
    },
    {
     "name": "stdout",
     "output_type": "stream",
     "text": [
      "Model Was Not Saved ! Current Best Avg. Dice: 0.4822622537612915 Current Avg. Dice: 0.3943774402141571 Current Avg. tumor Dice: 0.4519626200199127 Current Avg. lymph Dice: 0.3000207245349884\n"
     ]
    },
    {
     "name": "stderr",
     "output_type": "stream",
     "text": [
      "Training (9803 / 18000 Steps) (loss=0.65299): 100%|██████████| 76/76 [02:06<00:00,  1.66s/it]\n",
      "Training (9879 / 18000 Steps) (loss=0.56990): 100%|██████████| 76/76 [00:42<00:00,  1.79it/s]\n",
      "Validate (9880 / 10 Steps): 100%|██████████| 22/22 [01:25<00:00,  3.88s/it]<00:27,  2.05it/s]\n",
      "Training (9900 / 18000 Steps) (loss=0.58329):  28%|██▊       | 21/76 [01:40<23:57, 26.14s/it]"
     ]
    },
    {
     "name": "stdout",
     "output_type": "stream",
     "text": [
      "Model Was Not Saved ! Current Best Avg. Dice: 0.4822622537612915 Current Avg. Dice: 0.3620400130748749 Current Avg. tumor Dice: 0.46158912777900696 Current Avg. lymph Dice: 0.2127642035484314\n"
     ]
    },
    {
     "name": "stderr",
     "output_type": "stream",
     "text": [
      "Training (9955 / 18000 Steps) (loss=0.66610): 100%|██████████| 76/76 [02:06<00:00,  1.67s/it]\n",
      "Validate (9956 / 10 Steps): 100%|██████████| 22/22 [01:24<00:00,  3.85s/it]7<00:15,  2.02it/s]\n",
      "Training (10000 / 18000 Steps) (loss=0.35938):  59%|█████▉    | 45/76 [01:51<13:23, 25.92s/it]"
     ]
    },
    {
     "name": "stdout",
     "output_type": "stream",
     "text": [
      "Model Was Not Saved ! Current Best Avg. Dice: 0.4822622537612915 Current Avg. Dice: 0.3831591308116913 Current Avg. tumor Dice: 0.3771515190601349 Current Avg. lymph Dice: 0.36177363991737366\n"
     ]
    },
    {
     "name": "stderr",
     "output_type": "stream",
     "text": [
      "Training (10031 / 18000 Steps) (loss=0.58407): 100%|██████████| 76/76 [02:07<00:00,  1.67s/it]\n",
      "Validate (10032 / 10 Steps): 100%|██████████| 22/22 [01:25<00:00,  3.87s/it]<00:03,  2.09it/s]\n",
      "Training (10100 / 18000 Steps) (loss=0.46484):  91%|█████████ | 69/76 [02:03<03:02, 26.01s/it]"
     ]
    },
    {
     "name": "stdout",
     "output_type": "stream",
     "text": [
      "Model Was Not Saved ! Current Best Avg. Dice: 0.4822622537612915 Current Avg. Dice: 0.4652038514614105 Current Avg. tumor Dice: 0.4891515374183655 Current Avg. lymph Dice: 0.40564385056495667\n"
     ]
    },
    {
     "name": "stderr",
     "output_type": "stream",
     "text": [
      "Training (10107 / 18000 Steps) (loss=0.38246): 100%|██████████| 76/76 [02:06<00:00,  1.67s/it]\n",
      "Training (10183 / 18000 Steps) (loss=0.41694): 100%|██████████| 76/76 [00:41<00:00,  1.84it/s]\n",
      "Validate (10184 / 10 Steps): 100%|██████████| 22/22 [01:25<00:00,  3.88s/it]<00:27,  2.22it/s]\n",
      "Training (10200 / 18000 Steps) (loss=0.51192):  22%|██▏       | 17/76 [01:38<25:48, 26.24s/it]"
     ]
    },
    {
     "name": "stdout",
     "output_type": "stream",
     "text": [
      "Model Was Not Saved ! Current Best Avg. Dice: 0.4822622537612915 Current Avg. Dice: 0.42161238193511963 Current Avg. tumor Dice: 0.4711284041404724 Current Avg. lymph Dice: 0.33507028222084045\n"
     ]
    },
    {
     "name": "stderr",
     "output_type": "stream",
     "text": [
      "Training (10259 / 18000 Steps) (loss=0.64667): 100%|██████████| 76/76 [02:07<00:00,  1.68s/it]\n",
      "Validate (10260 / 10 Steps): 100%|██████████| 22/22 [01:25<00:00,  3.89s/it]<00:16,  2.12it/s]\n",
      "Training (10300 / 18000 Steps) (loss=0.55952):  54%|█████▍    | 41/76 [01:51<15:18, 26.25s/it]"
     ]
    },
    {
     "name": "stdout",
     "output_type": "stream",
     "text": [
      "Model Was Not Saved ! Current Best Avg. Dice: 0.4822622537612915 Current Avg. Dice: 0.42606690526008606 Current Avg. tumor Dice: 0.4559619426727295 Current Avg. lymph Dice: 0.354554682970047\n"
     ]
    },
    {
     "name": "stderr",
     "output_type": "stream",
     "text": [
      "Training (10335 / 18000 Steps) (loss=0.43781): 100%|██████████| 76/76 [02:08<00:00,  1.69s/it]\n",
      "Validate (10336 / 10 Steps): 100%|██████████| 22/22 [01:24<00:00,  3.86s/it]<00:05,  2.17it/s]\n",
      "Training (10400 / 18000 Steps) (loss=0.61069):  86%|████████▌ | 65/76 [02:02<04:45, 25.96s/it]"
     ]
    },
    {
     "name": "stdout",
     "output_type": "stream",
     "text": [
      "Model Was Not Saved ! Current Best Avg. Dice: 0.4822622537612915 Current Avg. Dice: 0.37961986660957336 Current Avg. tumor Dice: 0.4125584065914154 Current Avg. lymph Dice: 0.3093529939651489\n"
     ]
    },
    {
     "name": "stderr",
     "output_type": "stream",
     "text": [
      "Training (10411 / 18000 Steps) (loss=0.36576): 100%|██████████| 76/76 [02:07<00:00,  1.68s/it]\n",
      "Training (10487 / 18000 Steps) (loss=0.42427): 100%|██████████| 76/76 [00:42<00:00,  1.78it/s]\n",
      "Validate (10488 / 10 Steps): 100%|██████████| 22/22 [01:24<00:00,  3.86s/it]<00:33,  1.92it/s]\n",
      "Training (10500 / 18000 Steps) (loss=0.48638):  17%|█▋        | 13/76 [01:36<27:33, 26.25s/it]"
     ]
    },
    {
     "name": "stdout",
     "output_type": "stream",
     "text": [
      "Model Was Not Saved ! Current Best Avg. Dice: 0.4822622537612915 Current Avg. Dice: 0.43885287642478943 Current Avg. tumor Dice: 0.4458372890949249 Current Avg. lymph Dice: 0.4058064818382263\n"
     ]
    },
    {
     "name": "stderr",
     "output_type": "stream",
     "text": [
      "Training (10563 / 18000 Steps) (loss=0.32242): 100%|██████████| 76/76 [02:06<00:00,  1.67s/it]\n",
      "Validate (10564 / 10 Steps): 100%|██████████| 22/22 [01:24<00:00,  3.85s/it]<00:21,  1.87it/s]\n",
      "Training (10600 / 18000 Steps) (loss=0.66777):  49%|████▊     | 37/76 [01:47<16:50, 25.91s/it]"
     ]
    },
    {
     "name": "stdout",
     "output_type": "stream",
     "text": [
      "Model Was Not Saved ! Current Best Avg. Dice: 0.4822622537612915 Current Avg. Dice: 0.4472824037075043 Current Avg. tumor Dice: 0.48096519708633423 Current Avg. lymph Dice: 0.3772452771663666\n"
     ]
    },
    {
     "name": "stderr",
     "output_type": "stream",
     "text": [
      "Training (10639 / 18000 Steps) (loss=0.55187): 100%|██████████| 76/76 [02:06<00:00,  1.67s/it]\n",
      "Validate (10640 / 10 Steps): 100%|██████████| 22/22 [01:24<00:00,  3.86s/it]<00:07,  2.17it/s]\n",
      "Training (10700 / 18000 Steps) (loss=0.56153):  80%|████████  | 61/76 [01:59<06:29, 25.94s/it]"
     ]
    },
    {
     "name": "stdout",
     "output_type": "stream",
     "text": [
      "Model Was Not Saved ! Current Best Avg. Dice: 0.4822622537612915 Current Avg. Dice: 0.3865959942340851 Current Avg. tumor Dice: 0.38125625252723694 Current Avg. lymph Dice: 0.3631293475627899\n"
     ]
    },
    {
     "name": "stderr",
     "output_type": "stream",
     "text": [
      "Training (10715 / 18000 Steps) (loss=0.18663): 100%|██████████| 76/76 [02:06<00:00,  1.67s/it]\n",
      "Training (10791 / 18000 Steps) (loss=0.50974): 100%|██████████| 76/76 [00:42<00:00,  1.78it/s]\n",
      "Validate (10792 / 10 Steps): 100%|██████████| 22/22 [01:24<00:00,  3.85s/it]00:37,  1.79it/s]\n",
      "Training (10800 / 18000 Steps) (loss=0.66729):  12%|█▏        | 9/76 [01:33<30:15, 27.10s/it]"
     ]
    },
    {
     "name": "stdout",
     "output_type": "stream",
     "text": [
      "Model Was Not Saved ! Current Best Avg. Dice: 0.4822622537612915 Current Avg. Dice: 0.44527703523635864 Current Avg. tumor Dice: 0.47834718227386475 Current Avg. lymph Dice: 0.37274155020713806\n"
     ]
    },
    {
     "name": "stderr",
     "output_type": "stream",
     "text": [
      "Training (10867 / 18000 Steps) (loss=0.41017): 100%|██████████| 76/76 [02:06<00:00,  1.67s/it]\n",
      "Validate (10868 / 10 Steps): 100%|██████████| 22/22 [01:24<00:00,  3.86s/it]<00:18,  2.32it/s]\n",
      "Training (10900 / 18000 Steps) (loss=0.53566):  43%|████▎     | 33/76 [01:46<18:43, 26.14s/it]"
     ]
    },
    {
     "name": "stdout",
     "output_type": "stream",
     "text": [
      "Model Was Not Saved ! Current Best Avg. Dice: 0.4822622537612915 Current Avg. Dice: 0.43845221400260925 Current Avg. tumor Dice: 0.4783778488636017 Current Avg. lymph Dice: 0.3676880896091461\n"
     ]
    },
    {
     "name": "stderr",
     "output_type": "stream",
     "text": [
      "Training (10943 / 18000 Steps) (loss=0.46350): 100%|██████████| 76/76 [02:06<00:00,  1.67s/it]\n",
      "Validate (10944 / 10 Steps): 100%|██████████| 22/22 [01:24<00:00,  3.85s/it]<00:09,  2.20it/s]\n",
      "Training (11000 / 18000 Steps) (loss=0.38982):  75%|███████▌  | 57/76 [01:58<08:14, 26.00s/it]"
     ]
    },
    {
     "name": "stdout",
     "output_type": "stream",
     "text": [
      "Model Was Not Saved ! Current Best Avg. Dice: 0.4822622537612915 Current Avg. Dice: 0.4275979995727539 Current Avg. tumor Dice: 0.4835434556007385 Current Avg. lymph Dice: 0.3325407803058624\n"
     ]
    },
    {
     "name": "stderr",
     "output_type": "stream",
     "text": [
      "Training (11019 / 18000 Steps) (loss=0.38481): 100%|██████████| 76/76 [02:07<00:00,  1.67s/it]\n",
      "Training (11095 / 18000 Steps) (loss=0.66830): 100%|██████████| 76/76 [00:41<00:00,  1.84it/s]\n",
      "Validate (11096 / 10 Steps): 100%|██████████| 22/22 [01:24<00:00,  3.85s/it]01:17,  1.08s/it]\n",
      "Training (11100 / 18000 Steps) (loss=0.69471):   7%|▋         | 5/76 [01:31<37:13, 31.46s/it]"
     ]
    },
    {
     "name": "stdout",
     "output_type": "stream",
     "text": [
      "Model Was Not Saved ! Current Best Avg. Dice: 0.4822622537612915 Current Avg. Dice: 0.47123897075653076 Current Avg. tumor Dice: 0.4922410547733307 Current Avg. lymph Dice: 0.428865909576416\n"
     ]
    },
    {
     "name": "stderr",
     "output_type": "stream",
     "text": [
      "Training (11171 / 18000 Steps) (loss=0.66695): 100%|██████████| 76/76 [02:05<00:00,  1.65s/it]\n",
      "Validate (11172 / 10 Steps): 100%|██████████| 22/22 [01:25<00:00,  3.87s/it]<00:24,  1.97it/s]\n",
      "Training (11200 / 18000 Steps) (loss=0.42444):  38%|███▊      | 29/76 [01:45<20:36, 26.32s/it]"
     ]
    },
    {
     "name": "stdout",
     "output_type": "stream",
     "text": [
      "Model Was Saved ! Current Best Avg. Dice: 0.4985658526420593 Current Avg. Dice: 0.4985658526420593 Current Avg. tumor Dice: 0.5034708976745605 Current Avg. lymph Dice: 0.4699944853782654\n"
     ]
    },
    {
     "name": "stderr",
     "output_type": "stream",
     "text": [
      "Training (11247 / 18000 Steps) (loss=0.23605): 100%|██████████| 76/76 [02:07<00:00,  1.68s/it]\n",
      "Validate (11248 / 10 Steps): 100%|██████████| 22/22 [01:24<00:00,  3.84s/it]<00:11,  2.01it/s]\n",
      "Training (11300 / 18000 Steps) (loss=0.38501):  70%|██████▉   | 53/76 [01:55<09:54, 25.85s/it]"
     ]
    },
    {
     "name": "stdout",
     "output_type": "stream",
     "text": [
      "Model Was Not Saved ! Current Best Avg. Dice: 0.4985658526420593 Current Avg. Dice: 0.40812933444976807 Current Avg. tumor Dice: 0.47804245352745056 Current Avg. lymph Dice: 0.2945045828819275\n"
     ]
    },
    {
     "name": "stderr",
     "output_type": "stream",
     "text": [
      "Training (11323 / 18000 Steps) (loss=0.55673): 100%|██████████| 76/76 [02:06<00:00,  1.66s/it]\n",
      "Training (11399 / 18000 Steps) (loss=0.66702): 100%|██████████| 76/76 [00:42<00:00,  1.78it/s]\n",
      "Validate (11400 / 10 Steps): 100%|██████████| 22/22 [01:24<00:00,  3.86s/it]?, ?it/s]\n",
      "Training (11400 / 18000 Steps) (loss=0.60404):   1%|▏         | 1/76 [01:29<1:52:13, 89.77s/it]"
     ]
    },
    {
     "name": "stdout",
     "output_type": "stream",
     "text": [
      "Model Was Not Saved ! Current Best Avg. Dice: 0.4985658526420593 Current Avg. Dice: 0.44717922806739807 Current Avg. tumor Dice: 0.5009894967079163 Current Avg. lymph Dice: 0.3555223047733307\n"
     ]
    },
    {
     "name": "stderr",
     "output_type": "stream",
     "text": [
      "Training (11475 / 18000 Steps) (loss=0.63159): 100%|██████████| 76/76 [02:05<00:00,  1.66s/it] \n",
      "Validate (11476 / 10 Steps): 100%|██████████| 22/22 [01:25<00:00,  3.89s/it]<00:25,  2.07it/s]\n",
      "Training (11500 / 18000 Steps) (loss=0.47030):  33%|███▎      | 25/76 [01:42<22:15, 26.18s/it]"
     ]
    },
    {
     "name": "stdout",
     "output_type": "stream",
     "text": [
      "Model Was Not Saved ! Current Best Avg. Dice: 0.4985658526420593 Current Avg. Dice: 0.4585580825805664 Current Avg. tumor Dice: 0.47784847021102905 Current Avg. lymph Dice: 0.40121686458587646\n"
     ]
    },
    {
     "name": "stderr",
     "output_type": "stream",
     "text": [
      "Training (11551 / 18000 Steps) (loss=0.42839): 100%|██████████| 76/76 [02:07<00:00,  1.67s/it]\n",
      "Validate (11552 / 10 Steps): 100%|██████████| 22/22 [01:26<00:00,  3.91s/it]<00:12,  2.25it/s]\n",
      "Training (11600 / 18000 Steps) (loss=0.33103):  64%|██████▍   | 49/76 [01:55<11:51, 26.35s/it]"
     ]
    },
    {
     "name": "stdout",
     "output_type": "stream",
     "text": [
      "Model Was Not Saved ! Current Best Avg. Dice: 0.4985658526420593 Current Avg. Dice: 0.3851528465747833 Current Avg. tumor Dice: 0.4436156451702118 Current Avg. lymph Dice: 0.28438645601272583\n"
     ]
    },
    {
     "name": "stderr",
     "output_type": "stream",
     "text": [
      "Training (11627 / 18000 Steps) (loss=0.60875): 100%|██████████| 76/76 [02:08<00:00,  1.68s/it]\n",
      "Validate (11628 / 10 Steps): 100%|██████████| 22/22 [01:25<00:00,  3.86s/it]<00:01,  2.18it/s]\n",
      "Training (11700 / 18000 Steps) (loss=0.36693):  96%|█████████▌| 73/76 [02:06<01:17, 25.99s/it]"
     ]
    },
    {
     "name": "stdout",
     "output_type": "stream",
     "text": [
      "Model Was Not Saved ! Current Best Avg. Dice: 0.4985658526420593 Current Avg. Dice: 0.47490450739860535 Current Avg. tumor Dice: 0.5018097758293152 Current Avg. lymph Dice: 0.4139793813228607\n"
     ]
    },
    {
     "name": "stderr",
     "output_type": "stream",
     "text": [
      "Training (11703 / 18000 Steps) (loss=0.38830): 100%|██████████| 76/76 [02:07<00:00,  1.68s/it]\n",
      "Training (11779 / 18000 Steps) (loss=0.31063): 100%|██████████| 76/76 [00:43<00:00,  1.77it/s]\n",
      "Validate (11780 / 10 Steps): 100%|██████████| 22/22 [01:25<00:00,  3.87s/it]<00:27,  2.05it/s]\n",
      "Training (11800 / 18000 Steps) (loss=0.66727):  28%|██▊       | 21/76 [01:40<23:53, 26.06s/it]"
     ]
    },
    {
     "name": "stdout",
     "output_type": "stream",
     "text": [
      "Model Was Not Saved ! Current Best Avg. Dice: 0.4985658526420593 Current Avg. Dice: 0.4620784521102905 Current Avg. tumor Dice: 0.49370747804641724 Current Avg. lymph Dice: 0.39692339301109314\n"
     ]
    },
    {
     "name": "stderr",
     "output_type": "stream",
     "text": [
      "Training (11855 / 18000 Steps) (loss=0.46431): 100%|██████████| 76/76 [02:07<00:00,  1.68s/it]\n",
      "Validate (11856 / 10 Steps): 100%|██████████| 22/22 [01:25<00:00,  3.87s/it]<00:17,  1.80it/s]\n",
      "Training (11900 / 18000 Steps) (loss=0.58687):  59%|█████▉    | 45/76 [01:52<13:28, 26.09s/it]"
     ]
    },
    {
     "name": "stdout",
     "output_type": "stream",
     "text": [
      "Model Was Not Saved ! Current Best Avg. Dice: 0.4985658526420593 Current Avg. Dice: 0.43393048644065857 Current Avg. tumor Dice: 0.4493456780910492 Current Avg. lymph Dice: 0.38082635402679443\n"
     ]
    },
    {
     "name": "stderr",
     "output_type": "stream",
     "text": [
      "Training (11931 / 18000 Steps) (loss=0.67117): 100%|██████████| 76/76 [02:07<00:00,  1.68s/it]\n",
      "Validate (11932 / 10 Steps): 100%|██████████| 22/22 [01:25<00:00,  3.87s/it]<00:03,  2.15it/s]\n",
      "Training (12000 / 18000 Steps) (loss=0.35372):  91%|█████████ | 69/76 [02:04<03:02, 26.04s/it]"
     ]
    },
    {
     "name": "stdout",
     "output_type": "stream",
     "text": [
      "Model Was Not Saved ! Current Best Avg. Dice: 0.4985658526420593 Current Avg. Dice: 0.44020453095436096 Current Avg. tumor Dice: 0.4931820034980774 Current Avg. lymph Dice: 0.3417833149433136\n"
     ]
    },
    {
     "name": "stderr",
     "output_type": "stream",
     "text": [
      "Training (12007 / 18000 Steps) (loss=0.21718): 100%|██████████| 76/76 [02:07<00:00,  1.68s/it]\n",
      "Training (12083 / 18000 Steps) (loss=0.56954): 100%|██████████| 76/76 [00:41<00:00,  1.85it/s]\n",
      "Validate (12084 / 10 Steps): 100%|██████████| 22/22 [01:25<00:00,  3.87s/it]<00:26,  2.28it/s]\n",
      "Training (12100 / 18000 Steps) (loss=0.34520):  22%|██▏       | 17/76 [01:38<25:53, 26.33s/it]"
     ]
    },
    {
     "name": "stdout",
     "output_type": "stream",
     "text": [
      "Model Was Not Saved ! Current Best Avg. Dice: 0.4985658526420593 Current Avg. Dice: 0.42899999022483826 Current Avg. tumor Dice: 0.49198776483535767 Current Avg. lymph Dice: 0.3250659704208374\n"
     ]
    },
    {
     "name": "stderr",
     "output_type": "stream",
     "text": [
      "Training (12159 / 18000 Steps) (loss=0.66875): 100%|██████████| 76/76 [02:07<00:00,  1.68s/it]\n",
      "Validate (12160 / 10 Steps): 100%|██████████| 22/22 [01:25<00:00,  3.90s/it]<00:17,  2.06it/s]\n",
      "Training (12200 / 18000 Steps) (loss=0.50569):  54%|█████▍    | 41/76 [01:51<15:22, 26.35s/it]"
     ]
    },
    {
     "name": "stdout",
     "output_type": "stream",
     "text": [
      "Model Was Not Saved ! Current Best Avg. Dice: 0.4985658526420593 Current Avg. Dice: 0.4223678708076477 Current Avg. tumor Dice: 0.47093290090560913 Current Avg. lymph Dice: 0.32760608196258545\n"
     ]
    },
    {
     "name": "stderr",
     "output_type": "stream",
     "text": [
      "Training (12235 / 18000 Steps) (loss=0.39516): 100%|██████████| 76/76 [02:08<00:00,  1.68s/it]\n",
      "Validate (12236 / 10 Steps): 100%|██████████| 22/22 [01:24<00:00,  3.86s/it]<00:05,  2.15it/s]\n",
      "Training (12300 / 18000 Steps) (loss=0.54770):  86%|████████▌ | 65/76 [02:01<04:45, 25.97s/it]"
     ]
    },
    {
     "name": "stdout",
     "output_type": "stream",
     "text": [
      "Model Was Not Saved ! Current Best Avg. Dice: 0.4985658526420593 Current Avg. Dice: 0.45676448941230774 Current Avg. tumor Dice: 0.482435405254364 Current Avg. lymph Dice: 0.3957575559616089\n"
     ]
    },
    {
     "name": "stderr",
     "output_type": "stream",
     "text": [
      "Training (12311 / 18000 Steps) (loss=0.52859): 100%|██████████| 76/76 [02:06<00:00,  1.67s/it]\n",
      "Training (12387 / 18000 Steps) (loss=0.39293): 100%|██████████| 76/76 [00:41<00:00,  1.82it/s]\n",
      "Validate (12388 / 10 Steps): 100%|██████████| 22/22 [01:24<00:00,  3.85s/it]<00:32,  1.97it/s]\n",
      "Training (12400 / 18000 Steps) (loss=0.40433):  17%|█▋        | 13/76 [01:34<27:29, 26.18s/it]"
     ]
    },
    {
     "name": "stdout",
     "output_type": "stream",
     "text": [
      "Model Was Not Saved ! Current Best Avg. Dice: 0.4985658526420593 Current Avg. Dice: 0.45999956130981445 Current Avg. tumor Dice: 0.4801356792449951 Current Avg. lymph Dice: 0.4192255139350891\n"
     ]
    },
    {
     "name": "stderr",
     "output_type": "stream",
     "text": [
      "Training (12463 / 18000 Steps) (loss=0.53850): 100%|██████████| 76/76 [02:04<00:00,  1.64s/it]\n",
      "Validate (12464 / 10 Steps): 100%|██████████| 22/22 [01:24<00:00,  3.85s/it]<00:18,  2.19it/s]\n",
      "Training (12500 / 18000 Steps) (loss=0.37597):  49%|████▊     | 37/76 [01:47<16:49, 25.88s/it]"
     ]
    },
    {
     "name": "stdout",
     "output_type": "stream",
     "text": [
      "Model Was Not Saved ! Current Best Avg. Dice: 0.4985658526420593 Current Avg. Dice: 0.4135192036628723 Current Avg. tumor Dice: 0.4508669376373291 Current Avg. lymph Dice: 0.35282668471336365\n"
     ]
    },
    {
     "name": "stderr",
     "output_type": "stream",
     "text": [
      "Training (12539 / 18000 Steps) (loss=0.52053): 100%|██████████| 76/76 [02:05<00:00,  1.65s/it]\n",
      "Validate (12540 / 10 Steps): 100%|██████████| 22/22 [01:24<00:00,  3.86s/it]<00:07,  2.11it/s]\n",
      "Training (12600 / 18000 Steps) (loss=0.46502):  80%|████████  | 61/76 [01:58<06:29, 25.96s/it]"
     ]
    },
    {
     "name": "stdout",
     "output_type": "stream",
     "text": [
      "Model Was Not Saved ! Current Best Avg. Dice: 0.4985658526420593 Current Avg. Dice: 0.4527764618396759 Current Avg. tumor Dice: 0.5137680768966675 Current Avg. lymph Dice: 0.35015761852264404\n"
     ]
    },
    {
     "name": "stderr",
     "output_type": "stream",
     "text": [
      "Training (12615 / 18000 Steps) (loss=0.54170): 100%|██████████| 76/76 [02:06<00:00,  1.66s/it]\n",
      "Training (12691 / 18000 Steps) (loss=0.28633): 100%|██████████| 76/76 [00:40<00:00,  1.87it/s]\n",
      "Validate (12692 / 10 Steps): 100%|██████████| 22/22 [01:24<00:00,  3.83s/it]00:36,  1.84it/s]\n",
      "Training (12700 / 18000 Steps) (loss=0.56046):  12%|█▏        | 9/76 [01:32<30:04, 26.93s/it]"
     ]
    },
    {
     "name": "stdout",
     "output_type": "stream",
     "text": [
      "Model Was Not Saved ! Current Best Avg. Dice: 0.4985658526420593 Current Avg. Dice: 0.4062459170818329 Current Avg. tumor Dice: 0.4931040406227112 Current Avg. lymph Dice: 0.2736304998397827\n"
     ]
    },
    {
     "name": "stderr",
     "output_type": "stream",
     "text": [
      "Training (12767 / 18000 Steps) (loss=0.51627): 100%|██████████| 76/76 [02:04<00:00,  1.64s/it]\n",
      "Validate (12768 / 10 Steps): 100%|██████████| 22/22 [01:24<00:00,  3.84s/it]<00:20,  2.18it/s]\n",
      "Training (12800 / 18000 Steps) (loss=0.50065):  43%|████▎     | 33/76 [01:45<18:33, 25.90s/it]"
     ]
    },
    {
     "name": "stdout",
     "output_type": "stream",
     "text": [
      "Model Was Not Saved ! Current Best Avg. Dice: 0.4985658526420593 Current Avg. Dice: 0.47236883640289307 Current Avg. tumor Dice: 0.5043292045593262 Current Avg. lymph Dice: 0.4077509343624115\n"
     ]
    },
    {
     "name": "stderr",
     "output_type": "stream",
     "text": [
      "Training (12843 / 18000 Steps) (loss=0.46775): 100%|██████████| 76/76 [02:05<00:00,  1.65s/it]\n",
      "Validate (12844 / 10 Steps): 100%|██████████| 22/22 [01:24<00:00,  3.85s/it]<00:10,  1.90it/s]\n",
      "Training (12900 / 18000 Steps) (loss=0.69753):  75%|███████▌  | 57/76 [01:56<08:13, 25.97s/it]"
     ]
    },
    {
     "name": "stdout",
     "output_type": "stream",
     "text": [
      "Model Was Not Saved ! Current Best Avg. Dice: 0.4985658526420593 Current Avg. Dice: 0.4644148051738739 Current Avg. tumor Dice: 0.5132630467414856 Current Avg. lymph Dice: 0.38001948595046997\n"
     ]
    },
    {
     "name": "stderr",
     "output_type": "stream",
     "text": [
      "Training (12919 / 18000 Steps) (loss=0.66773): 100%|██████████| 76/76 [02:05<00:00,  1.65s/it]\n",
      "Training (12995 / 18000 Steps) (loss=0.23794): 100%|██████████| 76/76 [00:40<00:00,  1.85it/s]\n",
      "Validate (12996 / 10 Steps): 100%|██████████| 22/22 [01:24<00:00,  3.84s/it]01:13,  1.02s/it]\n",
      "Training (13000 / 18000 Steps) (loss=0.38791):   7%|▋         | 5/76 [01:31<37:02, 31.30s/it]"
     ]
    },
    {
     "name": "stdout",
     "output_type": "stream",
     "text": [
      "Model Was Not Saved ! Current Best Avg. Dice: 0.4985658526420593 Current Avg. Dice: 0.47599661350250244 Current Avg. tumor Dice: 0.4971504211425781 Current Avg. lymph Dice: 0.4213418960571289\n"
     ]
    },
    {
     "name": "stderr",
     "output_type": "stream",
     "text": [
      "Training (13071 / 18000 Steps) (loss=0.62179): 100%|██████████| 76/76 [02:05<00:00,  1.65s/it]\n",
      "Validate (13072 / 10 Steps): 100%|██████████| 22/22 [01:24<00:00,  3.85s/it]<00:23,  2.06it/s]\n",
      "Training (13100 / 18000 Steps) (loss=0.56621):  38%|███▊      | 29/76 [01:43<20:20, 25.96s/it]"
     ]
    },
    {
     "name": "stdout",
     "output_type": "stream",
     "text": [
      "Model Was Not Saved ! Current Best Avg. Dice: 0.4985658526420593 Current Avg. Dice: 0.46341606974601746 Current Avg. tumor Dice: 0.4761993885040283 Current Avg. lymph Dice: 0.4217461049556732\n"
     ]
    },
    {
     "name": "stderr",
     "output_type": "stream",
     "text": [
      "Training (13147 / 18000 Steps) (loss=0.54596): 100%|██████████| 76/76 [02:05<00:00,  1.65s/it]\n",
      "Validate (13148 / 10 Steps): 100%|██████████| 22/22 [01:24<00:00,  3.84s/it]<00:11,  2.17it/s]\n",
      "Training (13200 / 18000 Steps) (loss=0.43623):  70%|██████▉   | 53/76 [01:55<09:53, 25.82s/it]"
     ]
    },
    {
     "name": "stdout",
     "output_type": "stream",
     "text": [
      "Model Was Not Saved ! Current Best Avg. Dice: 0.4985658526420593 Current Avg. Dice: 0.4622684717178345 Current Avg. tumor Dice: 0.4862951934337616 Current Avg. lymph Dice: 0.405903697013855\n"
     ]
    },
    {
     "name": "stderr",
     "output_type": "stream",
     "text": [
      "Training (13223 / 18000 Steps) (loss=0.66900): 100%|██████████| 76/76 [02:05<00:00,  1.66s/it]\n",
      "Training (13299 / 18000 Steps) (loss=0.60541): 100%|██████████| 76/76 [00:40<00:00,  1.88it/s]\n",
      "Validate (13300 / 10 Steps): 100%|██████████| 22/22 [01:24<00:00,  3.85s/it]?, ?it/s]\n",
      "Training (13300 / 18000 Steps) (loss=0.66832):   1%|▏         | 1/76 [01:30<1:53:05, 90.47s/it]"
     ]
    },
    {
     "name": "stdout",
     "output_type": "stream",
     "text": [
      "Model Was Not Saved ! Current Best Avg. Dice: 0.4985658526420593 Current Avg. Dice: 0.40568363666534424 Current Avg. tumor Dice: 0.40466609597206116 Current Avg. lymph Dice: 0.38468068838119507\n"
     ]
    },
    {
     "name": "stderr",
     "output_type": "stream",
     "text": [
      "Training (13375 / 18000 Steps) (loss=0.28521): 100%|██████████| 76/76 [02:05<00:00,  1.66s/it] \n",
      "Validate (13376 / 10 Steps): 100%|██████████| 22/22 [01:24<00:00,  3.86s/it]<00:22,  2.27it/s]\n",
      "Training (13400 / 18000 Steps) (loss=0.59182):  33%|███▎      | 25/76 [01:40<22:02, 25.92s/it]"
     ]
    },
    {
     "name": "stdout",
     "output_type": "stream",
     "text": [
      "Model Was Not Saved ! Current Best Avg. Dice: 0.4985658526420593 Current Avg. Dice: 0.4303283989429474 Current Avg. tumor Dice: 0.44333821535110474 Current Avg. lymph Dice: 0.38657432794570923\n"
     ]
    },
    {
     "name": "stderr",
     "output_type": "stream",
     "text": [
      "Training (13451 / 18000 Steps) (loss=0.20975): 100%|██████████| 76/76 [02:05<00:00,  1.65s/it]\n",
      "Validate (13452 / 10 Steps): 100%|██████████| 22/22 [01:24<00:00,  3.84s/it]<00:13,  2.09it/s]\n",
      "Training (13500 / 18000 Steps) (loss=0.27876):  64%|██████▍   | 49/76 [01:52<11:40, 25.93s/it]"
     ]
    },
    {
     "name": "stdout",
     "output_type": "stream",
     "text": [
      "Model Was Not Saved ! Current Best Avg. Dice: 0.4985658526420593 Current Avg. Dice: 0.42937108874320984 Current Avg. tumor Dice: 0.42197200655937195 Current Avg. lymph Dice: 0.4066994786262512\n"
     ]
    },
    {
     "name": "stderr",
     "output_type": "stream",
     "text": [
      "Training (13527 / 18000 Steps) (loss=0.61221): 100%|██████████| 76/76 [02:05<00:00,  1.65s/it]\n",
      "Validate (13528 / 10 Steps): 100%|██████████| 22/22 [01:24<00:00,  3.82s/it]<00:01,  2.17it/s]\n",
      "Training (13600 / 18000 Steps) (loss=0.30282):  96%|█████████▌| 73/76 [02:03<01:17, 25.71s/it]"
     ]
    },
    {
     "name": "stdout",
     "output_type": "stream",
     "text": [
      "Model Was Not Saved ! Current Best Avg. Dice: 0.4985658526420593 Current Avg. Dice: 0.41648924350738525 Current Avg. tumor Dice: 0.4262853264808655 Current Avg. lymph Dice: 0.37588122487068176\n"
     ]
    },
    {
     "name": "stderr",
     "output_type": "stream",
     "text": [
      "Training (13603 / 18000 Steps) (loss=0.32415): 100%|██████████| 76/76 [02:05<00:00,  1.65s/it]\n",
      "Training (13679 / 18000 Steps) (loss=0.45123): 100%|██████████| 76/76 [00:40<00:00,  1.86it/s]\n",
      "Validate (13680 / 10 Steps): 100%|██████████| 22/22 [01:24<00:00,  3.83s/it]<00:28,  1.98it/s]\n",
      "Training (13700 / 18000 Steps) (loss=0.34761):  28%|██▊       | 21/76 [01:38<23:38, 25.78s/it]"
     ]
    },
    {
     "name": "stdout",
     "output_type": "stream",
     "text": [
      "Model Was Not Saved ! Current Best Avg. Dice: 0.4985658526420593 Current Avg. Dice: 0.42620718479156494 Current Avg. tumor Dice: 0.4575301706790924 Current Avg. lymph Dice: 0.34842580556869507\n"
     ]
    },
    {
     "name": "stderr",
     "output_type": "stream",
     "text": [
      "Training (13755 / 18000 Steps) (loss=0.67278): 100%|██████████| 76/76 [02:04<00:00,  1.64s/it]\n",
      "Validate (13756 / 10 Steps): 100%|██████████| 22/22 [01:24<00:00,  3.82s/it]<00:17,  1.83it/s]\n",
      "Training (13800 / 18000 Steps) (loss=0.33772):  59%|█████▉    | 45/76 [01:49<13:18, 25.76s/it]"
     ]
    },
    {
     "name": "stdout",
     "output_type": "stream",
     "text": [
      "Model Was Not Saved ! Current Best Avg. Dice: 0.4985658526420593 Current Avg. Dice: 0.45141077041625977 Current Avg. tumor Dice: 0.4688491225242615 Current Avg. lymph Dice: 0.3919755220413208\n"
     ]
    },
    {
     "name": "stderr",
     "output_type": "stream",
     "text": [
      "Training (13831 / 18000 Steps) (loss=0.61471): 100%|██████████| 76/76 [02:04<00:00,  1.64s/it]\n",
      "Validate (13832 / 10 Steps): 100%|██████████| 22/22 [01:23<00:00,  3.81s/it]<00:03,  2.26it/s]\n",
      "Training (13900 / 18000 Steps) (loss=0.36573):  91%|█████████ | 69/76 [02:00<02:59, 25.59s/it]"
     ]
    },
    {
     "name": "stdout",
     "output_type": "stream",
     "text": [
      "Model Was Not Saved ! Current Best Avg. Dice: 0.4985658526420593 Current Avg. Dice: 0.35426977276802063 Current Avg. tumor Dice: 0.4811486601829529 Current Avg. lymph Dice: 0.164611354470253\n"
     ]
    },
    {
     "name": "stderr",
     "output_type": "stream",
     "text": [
      "Training (13907 / 18000 Steps) (loss=0.47744): 100%|██████████| 76/76 [02:04<00:00,  1.63s/it]\n",
      "Training (13983 / 18000 Steps) (loss=0.33629): 100%|██████████| 76/76 [00:40<00:00,  1.86it/s]\n",
      "Validate (13984 / 10 Steps): 100%|██████████| 22/22 [01:24<00:00,  3.82s/it]<00:26,  2.26it/s]\n",
      "Training (14000 / 18000 Steps) (loss=0.26791):  22%|██▏       | 17/76 [01:36<25:26, 25.87s/it]"
     ]
    },
    {
     "name": "stdout",
     "output_type": "stream",
     "text": [
      "Model Was Not Saved ! Current Best Avg. Dice: 0.4985658526420593 Current Avg. Dice: 0.4571468234062195 Current Avg. tumor Dice: 0.4912220239639282 Current Avg. lymph Dice: 0.3825669288635254\n"
     ]
    },
    {
     "name": "stderr",
     "output_type": "stream",
     "text": [
      "Training (14059 / 18000 Steps) (loss=0.44692): 100%|██████████| 76/76 [02:04<00:00,  1.64s/it]\n",
      "Validate (14060 / 10 Steps): 100%|██████████| 22/22 [01:24<00:00,  3.84s/it]<00:16,  2.14it/s]\n",
      "Training (14100 / 18000 Steps) (loss=0.46839):  54%|█████▍    | 41/76 [01:48<15:03, 25.83s/it]"
     ]
    },
    {
     "name": "stdout",
     "output_type": "stream",
     "text": [
      "Model Was Not Saved ! Current Best Avg. Dice: 0.4985658526420593 Current Avg. Dice: 0.46203315258026123 Current Avg. tumor Dice: 0.47994810342788696 Current Avg. lymph Dice: 0.4041498005390167\n"
     ]
    },
    {
     "name": "stderr",
     "output_type": "stream",
     "text": [
      "Training (14135 / 18000 Steps) (loss=0.44317): 100%|██████████| 76/76 [02:04<00:00,  1.64s/it]\n",
      "Validate (14136 / 10 Steps): 100%|██████████| 22/22 [01:24<00:00,  3.82s/it]<00:05,  2.08it/s]\n",
      "Training (14200 / 18000 Steps) (loss=0.56889):  86%|████████▌ | 65/76 [01:59<04:42, 25.70s/it]"
     ]
    },
    {
     "name": "stdout",
     "output_type": "stream",
     "text": [
      "Model Was Not Saved ! Current Best Avg. Dice: 0.4985658526420593 Current Avg. Dice: 0.4290825128555298 Current Avg. tumor Dice: 0.47496917843818665 Current Avg. lymph Dice: 0.33256614208221436\n"
     ]
    },
    {
     "name": "stderr",
     "output_type": "stream",
     "text": [
      "Training (14211 / 18000 Steps) (loss=0.64426): 100%|██████████| 76/76 [02:05<00:00,  1.65s/it]\n",
      "Training (14287 / 18000 Steps) (loss=0.56040): 100%|██████████| 76/76 [00:40<00:00,  1.88it/s]\n",
      "Validate (14288 / 10 Steps): 100%|██████████| 22/22 [01:23<00:00,  3.82s/it]<00:31,  2.05it/s]\n",
      "Training (14300 / 18000 Steps) (loss=0.66719):  17%|█▋        | 13/76 [01:34<27:13, 25.92s/it]"
     ]
    },
    {
     "name": "stdout",
     "output_type": "stream",
     "text": [
      "Model Was Not Saved ! Current Best Avg. Dice: 0.4985658526420593 Current Avg. Dice: 0.43445417284965515 Current Avg. tumor Dice: 0.4311986565589905 Current Avg. lymph Dice: 0.41496604681015015\n"
     ]
    },
    {
     "name": "stderr",
     "output_type": "stream",
     "text": [
      "Training (14363 / 18000 Steps) (loss=0.59488): 100%|██████████| 76/76 [02:04<00:00,  1.64s/it]\n",
      "Validate (14364 / 10 Steps): 100%|██████████| 22/22 [01:24<00:00,  3.83s/it]<00:20,  1.97it/s]\n",
      "Training (14400 / 18000 Steps) (loss=0.49020):  49%|████▊     | 37/76 [01:46<16:43, 25.74s/it]"
     ]
    },
    {
     "name": "stdout",
     "output_type": "stream",
     "text": [
      "Model Was Not Saved ! Current Best Avg. Dice: 0.4985658526420593 Current Avg. Dice: 0.44208791851997375 Current Avg. tumor Dice: 0.44427189230918884 Current Avg. lymph Dice: 0.4113548994064331\n"
     ]
    },
    {
     "name": "stderr",
     "output_type": "stream",
     "text": [
      "Training (14439 / 18000 Steps) (loss=0.26342): 100%|██████████| 76/76 [02:04<00:00,  1.64s/it]\n",
      "Validate (14440 / 10 Steps): 100%|██████████| 22/22 [01:24<00:00,  3.84s/it]<00:07,  2.08it/s]\n",
      "Training (14500 / 18000 Steps) (loss=0.52852):  80%|████████  | 61/76 [01:58<06:27, 25.83s/it]"
     ]
    },
    {
     "name": "stdout",
     "output_type": "stream",
     "text": [
      "Model Was Not Saved ! Current Best Avg. Dice: 0.4985658526420593 Current Avg. Dice: 0.4544125497341156 Current Avg. tumor Dice: 0.4681106209754944 Current Avg. lymph Dice: 0.39763396978378296\n"
     ]
    },
    {
     "name": "stderr",
     "output_type": "stream",
     "text": [
      "Training (14515 / 18000 Steps) (loss=0.49237): 100%|██████████| 76/76 [02:05<00:00,  1.65s/it]\n",
      "Training (14591 / 18000 Steps) (loss=0.48994): 100%|██████████| 76/76 [00:40<00:00,  1.86it/s]\n",
      "Validate (14592 / 10 Steps): 100%|██████████| 22/22 [01:24<00:00,  3.86s/it]00:38,  1.76it/s]\n",
      "Training (14600 / 18000 Steps) (loss=0.48977):  12%|█▏        | 9/76 [01:33<30:16, 27.11s/it]"
     ]
    },
    {
     "name": "stdout",
     "output_type": "stream",
     "text": [
      "Model Was Not Saved ! Current Best Avg. Dice: 0.4985658526420593 Current Avg. Dice: 0.43408405780792236 Current Avg. tumor Dice: 0.49500924348831177 Current Avg. lymph Dice: 0.3372993469238281\n"
     ]
    },
    {
     "name": "stderr",
     "output_type": "stream",
     "text": [
      "Training (14667 / 18000 Steps) (loss=0.35702): 100%|██████████| 76/76 [02:05<00:00,  1.65s/it]\n",
      "Validate (14668 / 10 Steps): 100%|██████████| 22/22 [01:25<00:00,  3.88s/it]<00:20,  2.10it/s]\n",
      "Training (14700 / 18000 Steps) (loss=0.47574):  43%|████▎     | 33/76 [01:45<18:42, 26.10s/it]"
     ]
    },
    {
     "name": "stdout",
     "output_type": "stream",
     "text": [
      "Model Was Not Saved ! Current Best Avg. Dice: 0.4985658526420593 Current Avg. Dice: 0.4229734539985657 Current Avg. tumor Dice: 0.4476254880428314 Current Avg. lymph Dice: 0.3700442314147949\n"
     ]
    },
    {
     "name": "stderr",
     "output_type": "stream",
     "text": [
      "Training (14743 / 18000 Steps) (loss=0.67002): 100%|██████████| 76/76 [02:05<00:00,  1.66s/it]\n",
      "Validate (14744 / 10 Steps): 100%|██████████| 22/22 [01:24<00:00,  3.86s/it]<00:09,  2.13it/s]\n",
      "Training (14800 / 18000 Steps) (loss=0.32101):  75%|███████▌  | 57/76 [01:56<08:13, 26.00s/it]"
     ]
    },
    {
     "name": "stdout",
     "output_type": "stream",
     "text": [
      "Model Was Not Saved ! Current Best Avg. Dice: 0.4985658526420593 Current Avg. Dice: 0.4562237858772278 Current Avg. tumor Dice: 0.51507568359375 Current Avg. lymph Dice: 0.3620017170906067\n"
     ]
    },
    {
     "name": "stderr",
     "output_type": "stream",
     "text": [
      "Training (14819 / 18000 Steps) (loss=0.66896): 100%|██████████| 76/76 [02:05<00:00,  1.65s/it]\n",
      "Training (14895 / 18000 Steps) (loss=0.45505): 100%|██████████| 76/76 [00:41<00:00,  1.85it/s]\n",
      "Validate (14896 / 10 Steps): 100%|██████████| 22/22 [01:24<00:00,  3.85s/it]01:20,  1.12s/it]\n",
      "Training (14900 / 18000 Steps) (loss=0.66709):   7%|▋         | 5/76 [01:31<37:13, 31.46s/it]"
     ]
    },
    {
     "name": "stdout",
     "output_type": "stream",
     "text": [
      "Model Was Not Saved ! Current Best Avg. Dice: 0.4985658526420593 Current Avg. Dice: 0.4896700084209442 Current Avg. tumor Dice: 0.5105574727058411 Current Avg. lymph Dice: 0.43921566009521484\n"
     ]
    },
    {
     "name": "stderr",
     "output_type": "stream",
     "text": [
      "Training (14971 / 18000 Steps) (loss=0.45092): 100%|██████████| 76/76 [02:05<00:00,  1.65s/it]\n",
      "Validate (14972 / 10 Steps): 100%|██████████| 22/22 [01:24<00:00,  3.86s/it]<00:26,  1.84it/s]\n",
      "Training (15000 / 18000 Steps) (loss=0.74699):  38%|███▊      | 29/76 [01:43<20:23, 26.04s/it]"
     ]
    },
    {
     "name": "stdout",
     "output_type": "stream",
     "text": [
      "Model Was Not Saved ! Current Best Avg. Dice: 0.4985658526420593 Current Avg. Dice: 0.4564248025417328 Current Avg. tumor Dice: 0.47778764367103577 Current Avg. lymph Dice: 0.4051722288131714\n"
     ]
    },
    {
     "name": "stderr",
     "output_type": "stream",
     "text": [
      "Training (15047 / 18000 Steps) (loss=0.37951): 100%|██████████| 76/76 [02:05<00:00,  1.65s/it]\n",
      "Validate (15048 / 10 Steps): 100%|██████████| 22/22 [01:24<00:00,  3.85s/it]<00:11,  2.10it/s]\n",
      "Training (15100 / 18000 Steps) (loss=0.56917):  70%|██████▉   | 53/76 [01:54<09:55, 25.90s/it]"
     ]
    },
    {
     "name": "stdout",
     "output_type": "stream",
     "text": [
      "Model Was Not Saved ! Current Best Avg. Dice: 0.4985658526420593 Current Avg. Dice: 0.4305228292942047 Current Avg. tumor Dice: 0.4351051449775696 Current Avg. lymph Dice: 0.40649616718292236\n"
     ]
    },
    {
     "name": "stderr",
     "output_type": "stream",
     "text": [
      "Training (15123 / 18000 Steps) (loss=0.56896): 100%|██████████| 76/76 [02:05<00:00,  1.65s/it]\n",
      "Training (15199 / 18000 Steps) (loss=0.53587): 100%|██████████| 76/76 [00:40<00:00,  1.88it/s]\n",
      "Validate (15200 / 10 Steps): 100%|██████████| 22/22 [01:24<00:00,  3.86s/it]?, ?it/s]\n",
      "Training (15200 / 18000 Steps) (loss=0.32681):   1%|▏         | 1/76 [01:29<1:52:00, 89.61s/it]"
     ]
    },
    {
     "name": "stdout",
     "output_type": "stream",
     "text": [
      "Model Was Not Saved ! Current Best Avg. Dice: 0.4985658526420593 Current Avg. Dice: 0.45324191451072693 Current Avg. tumor Dice: 0.48000645637512207 Current Avg. lymph Dice: 0.39418914914131165\n"
     ]
    },
    {
     "name": "stderr",
     "output_type": "stream",
     "text": [
      "Training (15275 / 18000 Steps) (loss=0.60032): 100%|██████████| 76/76 [02:05<00:00,  1.64s/it] \n",
      "Validate (15276 / 10 Steps): 100%|██████████| 22/22 [01:24<00:00,  3.85s/it]<00:23,  2.23it/s]\n",
      "Training (15300 / 18000 Steps) (loss=0.38258):  33%|███▎      | 25/76 [01:40<22:03, 25.96s/it]"
     ]
    },
    {
     "name": "stdout",
     "output_type": "stream",
     "text": [
      "Model Was Not Saved ! Current Best Avg. Dice: 0.4985658526420593 Current Avg. Dice: 0.43153172731399536 Current Avg. tumor Dice: 0.4843040704727173 Current Avg. lymph Dice: 0.34046193957328796\n"
     ]
    },
    {
     "name": "stderr",
     "output_type": "stream",
     "text": [
      "Training (15351 / 18000 Steps) (loss=0.33158): 100%|██████████| 76/76 [02:04<00:00,  1.64s/it]\n",
      "Validate (15352 / 10 Steps): 100%|██████████| 22/22 [01:24<00:00,  3.86s/it]<00:12,  2.19it/s]\n",
      "Training (15400 / 18000 Steps) (loss=0.53158):  64%|██████▍   | 49/76 [01:52<11:40, 25.95s/it]"
     ]
    },
    {
     "name": "stdout",
     "output_type": "stream",
     "text": [
      "Model Was Not Saved ! Current Best Avg. Dice: 0.4985658526420593 Current Avg. Dice: 0.44335469603538513 Current Avg. tumor Dice: 0.4889569878578186 Current Avg. lymph Dice: 0.364667147397995\n"
     ]
    },
    {
     "name": "stderr",
     "output_type": "stream",
     "text": [
      "Training (15427 / 18000 Steps) (loss=0.59126): 100%|██████████| 76/76 [02:05<00:00,  1.65s/it]\n",
      "Validate (15428 / 10 Steps): 100%|██████████| 22/22 [01:24<00:00,  3.86s/it]<00:01,  2.19it/s]\n",
      "Training (15500 / 18000 Steps) (loss=0.60114):  96%|█████████▌| 73/76 [02:04<01:17, 25.93s/it]"
     ]
    },
    {
     "name": "stdout",
     "output_type": "stream",
     "text": [
      "Model Was Not Saved ! Current Best Avg. Dice: 0.4985658526420593 Current Avg. Dice: 0.44073808193206787 Current Avg. tumor Dice: 0.46438243985176086 Current Avg. lymph Dice: 0.38660112023353577\n"
     ]
    },
    {
     "name": "stderr",
     "output_type": "stream",
     "text": [
      "Training (15503 / 18000 Steps) (loss=0.39925): 100%|██████████| 76/76 [02:05<00:00,  1.66s/it]\n",
      "Training (15579 / 18000 Steps) (loss=0.66733): 100%|██████████| 76/76 [00:40<00:00,  1.88it/s]\n",
      "Validate (15580 / 10 Steps): 100%|██████████| 22/22 [01:25<00:00,  3.87s/it]<00:27,  2.06it/s]\n",
      "Training (15600 / 18000 Steps) (loss=0.68419):  28%|██▊       | 21/76 [01:39<23:51, 26.02s/it]"
     ]
    },
    {
     "name": "stdout",
     "output_type": "stream",
     "text": [
      "Model Was Not Saved ! Current Best Avg. Dice: 0.4985658526420593 Current Avg. Dice: 0.4689163863658905 Current Avg. tumor Dice: 0.5144986510276794 Current Avg. lymph Dice: 0.3856043219566345\n"
     ]
    },
    {
     "name": "stderr",
     "output_type": "stream",
     "text": [
      "Training (15655 / 18000 Steps) (loss=0.58084): 100%|██████████| 76/76 [02:05<00:00,  1.65s/it]\n",
      "Validate (15656 / 10 Steps): 100%|██████████| 22/22 [01:24<00:00,  3.84s/it]<00:15,  2.08it/s]\n",
      "Training (15700 / 18000 Steps) (loss=0.67818):  59%|█████▉    | 45/76 [01:50<13:21, 25.84s/it]"
     ]
    },
    {
     "name": "stdout",
     "output_type": "stream",
     "text": [
      "Model Was Not Saved ! Current Best Avg. Dice: 0.4985658526420593 Current Avg. Dice: 0.4591057002544403 Current Avg. tumor Dice: 0.49765533208847046 Current Avg. lymph Dice: 0.38714101910591125\n"
     ]
    },
    {
     "name": "stderr",
     "output_type": "stream",
     "text": [
      "Training (15731 / 18000 Steps) (loss=0.40050): 100%|██████████| 76/76 [02:05<00:00,  1.65s/it]\n",
      "Validate (15732 / 10 Steps): 100%|██████████| 22/22 [01:24<00:00,  3.84s/it]<00:03,  2.11it/s]\n",
      "Training (15800 / 18000 Steps) (loss=0.39323):  91%|█████████ | 69/76 [02:02<03:01, 25.87s/it]"
     ]
    },
    {
     "name": "stdout",
     "output_type": "stream",
     "text": [
      "Model Was Not Saved ! Current Best Avg. Dice: 0.4985658526420593 Current Avg. Dice: 0.46673384308815 Current Avg. tumor Dice: 0.51171875 Current Avg. lymph Dice: 0.3905986547470093\n"
     ]
    },
    {
     "name": "stderr",
     "output_type": "stream",
     "text": [
      "Training (15807 / 18000 Steps) (loss=0.39890): 100%|██████████| 76/76 [02:05<00:00,  1.65s/it]\n",
      "Training (15883 / 18000 Steps) (loss=0.66701): 100%|██████████| 76/76 [00:39<00:00,  1.90it/s]\n",
      "Validate (15884 / 10 Steps): 100%|██████████| 22/22 [01:25<00:00,  3.86s/it]<00:26,  2.29it/s]\n",
      "Training (15900 / 18000 Steps) (loss=0.57536):  22%|██▏       | 17/76 [01:36<25:36, 26.04s/it]"
     ]
    },
    {
     "name": "stdout",
     "output_type": "stream",
     "text": [
      "Model Was Not Saved ! Current Best Avg. Dice: 0.4985658526420593 Current Avg. Dice: 0.40782997012138367 Current Avg. tumor Dice: 0.4801812767982483 Current Avg. lymph Dice: 0.2919290363788605\n"
     ]
    },
    {
     "name": "stderr",
     "output_type": "stream",
     "text": [
      "Training (15959 / 18000 Steps) (loss=0.66728): 100%|██████████| 76/76 [02:04<00:00,  1.64s/it]\n",
      "Validate (15960 / 10 Steps): 100%|██████████| 22/22 [01:24<00:00,  3.84s/it]<00:16,  2.19it/s]\n",
      "Training (16000 / 18000 Steps) (loss=0.73068):  54%|█████▍    | 41/76 [01:48<15:08, 25.95s/it]"
     ]
    },
    {
     "name": "stdout",
     "output_type": "stream",
     "text": [
      "Model Was Not Saved ! Current Best Avg. Dice: 0.4985658526420593 Current Avg. Dice: 0.43972834944725037 Current Avg. tumor Dice: 0.47944656014442444 Current Avg. lymph Dice: 0.3658728003501892\n"
     ]
    },
    {
     "name": "stderr",
     "output_type": "stream",
     "text": [
      "Training (16035 / 18000 Steps) (loss=0.66719): 100%|██████████| 76/76 [02:04<00:00,  1.64s/it]\n",
      "Validate (16036 / 10 Steps): 100%|██████████| 22/22 [01:24<00:00,  3.84s/it]<00:05,  2.13it/s]\n",
      "Training (16100 / 18000 Steps) (loss=0.45058):  86%|████████▌ | 65/76 [02:00<04:44, 25.85s/it]"
     ]
    },
    {
     "name": "stdout",
     "output_type": "stream",
     "text": [
      "Model Was Not Saved ! Current Best Avg. Dice: 0.4985658526420593 Current Avg. Dice: 0.4479925334453583 Current Avg. tumor Dice: 0.48959118127822876 Current Avg. lymph Dice: 0.37197330594062805\n"
     ]
    },
    {
     "name": "stderr",
     "output_type": "stream",
     "text": [
      "Training (16111 / 18000 Steps) (loss=0.55519): 100%|██████████| 76/76 [02:05<00:00,  1.65s/it]\n",
      "Training (16187 / 18000 Steps) (loss=0.61624): 100%|██████████| 76/76 [00:39<00:00,  1.91it/s]\n",
      "Validate (16188 / 10 Steps): 100%|██████████| 22/22 [01:24<00:00,  3.82s/it]<00:34,  1.87it/s]\n",
      "Training (16200 / 18000 Steps) (loss=0.23437):  17%|█▋        | 13/76 [01:34<27:18, 26.00s/it]"
     ]
    },
    {
     "name": "stdout",
     "output_type": "stream",
     "text": [
      "Model Was Not Saved ! Current Best Avg. Dice: 0.4985658526420593 Current Avg. Dice: 0.46388956904411316 Current Avg. tumor Dice: 0.49356260895729065 Current Avg. lymph Dice: 0.3952905237674713\n"
     ]
    },
    {
     "name": "stderr",
     "output_type": "stream",
     "text": [
      "Training (16263 / 18000 Steps) (loss=0.67212): 100%|██████████| 76/76 [02:03<00:00,  1.63s/it]\n",
      "Validate (16264 / 10 Steps): 100%|██████████| 22/22 [01:24<00:00,  3.84s/it]<00:17,  2.23it/s]\n",
      "Training (16300 / 18000 Steps) (loss=0.66715):  49%|████▊     | 37/76 [01:46<16:47, 25.84s/it]"
     ]
    },
    {
     "name": "stdout",
     "output_type": "stream",
     "text": [
      "Model Was Not Saved ! Current Best Avg. Dice: 0.4985658526420593 Current Avg. Dice: 0.4413180351257324 Current Avg. tumor Dice: 0.47338753938674927 Current Avg. lymph Dice: 0.37352439761161804\n"
     ]
    },
    {
     "name": "stderr",
     "output_type": "stream",
     "text": [
      "Training (16339 / 18000 Steps) (loss=0.46917): 100%|██████████| 76/76 [02:04<00:00,  1.63s/it]\n",
      "Validate (16340 / 10 Steps): 100%|██████████| 22/22 [01:24<00:00,  3.85s/it]<00:07,  2.14it/s]\n",
      "Training (16400 / 18000 Steps) (loss=0.61859):  80%|████████  | 61/76 [01:57<06:28, 25.91s/it]"
     ]
    },
    {
     "name": "stdout",
     "output_type": "stream",
     "text": [
      "Model Was Not Saved ! Current Best Avg. Dice: 0.4985658526420593 Current Avg. Dice: 0.4219752252101898 Current Avg. tumor Dice: 0.46071943640708923 Current Avg. lymph Dice: 0.3419722318649292\n"
     ]
    },
    {
     "name": "stderr",
     "output_type": "stream",
     "text": [
      "Training (16415 / 18000 Steps) (loss=0.29564): 100%|██████████| 76/76 [02:04<00:00,  1.64s/it]\n",
      "Training (16491 / 18000 Steps) (loss=0.51084): 100%|██████████| 76/76 [00:39<00:00,  1.92it/s]\n",
      "Validate (16492 / 10 Steps): 100%|██████████| 22/22 [01:24<00:00,  3.84s/it]00:38,  1.78it/s]\n",
      "Training (16500 / 18000 Steps) (loss=0.42607):  12%|█▏        | 9/76 [01:33<30:16, 27.12s/it]"
     ]
    },
    {
     "name": "stdout",
     "output_type": "stream",
     "text": [
      "Model Was Not Saved ! Current Best Avg. Dice: 0.4985658526420593 Current Avg. Dice: 0.47087419033050537 Current Avg. tumor Dice: 0.5178650617599487 Current Avg. lymph Dice: 0.38910773396492004\n"
     ]
    },
    {
     "name": "stderr",
     "output_type": "stream",
     "text": [
      "Training (16567 / 18000 Steps) (loss=0.59214): 100%|██████████| 76/76 [02:04<00:00,  1.64s/it]\n",
      "Validate (16568 / 10 Steps): 100%|██████████| 22/22 [01:24<00:00,  3.83s/it]<00:19,  2.23it/s]\n",
      "Training (16600 / 18000 Steps) (loss=0.46627):  43%|████▎     | 33/76 [01:44<18:31, 25.84s/it]"
     ]
    },
    {
     "name": "stdout",
     "output_type": "stream",
     "text": [
      "Model Was Not Saved ! Current Best Avg. Dice: 0.4985658526420593 Current Avg. Dice: 0.42415913939476013 Current Avg. tumor Dice: 0.5065624713897705 Current Avg. lymph Dice: 0.304877370595932\n"
     ]
    },
    {
     "name": "stderr",
     "output_type": "stream",
     "text": [
      "Training (16643 / 18000 Steps) (loss=0.40455): 100%|██████████| 76/76 [02:03<00:00,  1.63s/it]\n",
      "Validate (16644 / 10 Steps): 100%|██████████| 22/22 [01:24<00:00,  3.83s/it]<00:09,  2.17it/s]\n",
      "Training (16700 / 18000 Steps) (loss=0.28527):  75%|███████▌  | 57/76 [01:54<08:09, 25.74s/it]"
     ]
    },
    {
     "name": "stdout",
     "output_type": "stream",
     "text": [
      "Model Was Not Saved ! Current Best Avg. Dice: 0.4985658526420593 Current Avg. Dice: 0.4089994430541992 Current Avg. tumor Dice: 0.4264321029186249 Current Avg. lymph Dice: 0.3609088361263275\n"
     ]
    },
    {
     "name": "stderr",
     "output_type": "stream",
     "text": [
      "Training (16719 / 18000 Steps) (loss=0.66466): 100%|██████████| 76/76 [02:03<00:00,  1.62s/it]\n",
      "Training (16795 / 18000 Steps) (loss=0.49357): 100%|██████████| 76/76 [00:39<00:00,  1.91it/s]\n",
      "Validate (16796 / 10 Steps): 100%|██████████| 22/22 [01:24<00:00,  3.83s/it]01:18,  1.09s/it]\n",
      "Training (16800 / 18000 Steps) (loss=0.66997):   7%|▋         | 5/76 [01:30<36:56, 31.22s/it]"
     ]
    },
    {
     "name": "stdout",
     "output_type": "stream",
     "text": [
      "Model Was Not Saved ! Current Best Avg. Dice: 0.4985658526420593 Current Avg. Dice: 0.4472303092479706 Current Avg. tumor Dice: 0.4803750216960907 Current Avg. lymph Dice: 0.3740338683128357\n"
     ]
    },
    {
     "name": "stderr",
     "output_type": "stream",
     "text": [
      "Training (16871 / 18000 Steps) (loss=0.66802): 100%|██████████| 76/76 [02:04<00:00,  1.63s/it]\n",
      "Validate (16872 / 10 Steps): 100%|██████████| 22/22 [01:24<00:00,  3.83s/it]<00:23,  2.08it/s]\n",
      "Training (16900 / 18000 Steps) (loss=0.45223):  38%|███▊      | 29/76 [01:42<20:11, 25.78s/it]"
     ]
    },
    {
     "name": "stdout",
     "output_type": "stream",
     "text": [
      "Model Was Not Saved ! Current Best Avg. Dice: 0.4985658526420593 Current Avg. Dice: 0.41617295145988464 Current Avg. tumor Dice: 0.4751719534397125 Current Avg. lymph Dice: 0.31202948093414307\n"
     ]
    },
    {
     "name": "stderr",
     "output_type": "stream",
     "text": [
      "Training (16947 / 18000 Steps) (loss=0.42845): 100%|██████████| 76/76 [02:04<00:00,  1.63s/it]\n",
      "Validate (16948 / 10 Steps): 100%|██████████| 22/22 [01:24<00:00,  3.83s/it]<00:10,  2.21it/s]\n",
      "Training (17000 / 18000 Steps) (loss=0.47871):  70%|██████▉   | 53/76 [01:53<09:51, 25.73s/it]"
     ]
    },
    {
     "name": "stdout",
     "output_type": "stream",
     "text": [
      "Model Was Not Saved ! Current Best Avg. Dice: 0.4985658526420593 Current Avg. Dice: 0.409135639667511 Current Avg. tumor Dice: 0.4466126263141632 Current Avg. lymph Dice: 0.3441927134990692\n"
     ]
    },
    {
     "name": "stderr",
     "output_type": "stream",
     "text": [
      "Training (17023 / 18000 Steps) (loss=0.20273): 100%|██████████| 76/76 [02:03<00:00,  1.63s/it]\n",
      "Training (17099 / 18000 Steps) (loss=0.24267): 100%|██████████| 76/76 [00:39<00:00,  1.92it/s]\n",
      "Validate (17100 / 10 Steps): 100%|██████████| 22/22 [01:24<00:00,  3.83s/it]?, ?it/s]\n",
      "Training (17100 / 18000 Steps) (loss=0.59904):   1%|▏         | 1/76 [01:29<1:51:34, 89.27s/it]"
     ]
    },
    {
     "name": "stdout",
     "output_type": "stream",
     "text": [
      "Model Was Not Saved ! Current Best Avg. Dice: 0.4985658526420593 Current Avg. Dice: 0.44354578852653503 Current Avg. tumor Dice: 0.49527671933174133 Current Avg. lymph Dice: 0.35166189074516296\n"
     ]
    },
    {
     "name": "stderr",
     "output_type": "stream",
     "text": [
      "Training (17175 / 18000 Steps) (loss=0.57662): 100%|██████████| 76/76 [02:03<00:00,  1.63s/it] \n",
      "Validate (17176 / 10 Steps): 100%|██████████| 22/22 [01:24<00:00,  3.84s/it]<00:22,  2.26it/s]\n",
      "Training (17200 / 18000 Steps) (loss=0.29522):  33%|███▎      | 25/76 [01:40<22:02, 25.94s/it]"
     ]
    },
    {
     "name": "stdout",
     "output_type": "stream",
     "text": [
      "Model Was Not Saved ! Current Best Avg. Dice: 0.4985658526420593 Current Avg. Dice: 0.4236023724079132 Current Avg. tumor Dice: 0.48529475927352905 Current Avg. lymph Dice: 0.322184681892395\n"
     ]
    },
    {
     "name": "stderr",
     "output_type": "stream",
     "text": [
      "Training (17251 / 18000 Steps) (loss=0.58572): 100%|██████████| 76/76 [02:05<00:00,  1.65s/it]\n",
      "Validate (17252 / 10 Steps): 100%|██████████| 22/22 [01:24<00:00,  3.83s/it]<00:12,  2.21it/s]\n",
      "Training (17300 / 18000 Steps) (loss=0.39394):  64%|██████▍   | 49/76 [01:51<11:36, 25.81s/it]"
     ]
    },
    {
     "name": "stdout",
     "output_type": "stream",
     "text": [
      "Model Was Not Saved ! Current Best Avg. Dice: 0.4985658526420593 Current Avg. Dice: 0.4173429310321808 Current Avg. tumor Dice: 0.46230149269104004 Current Avg. lymph Dice: 0.33264854550361633\n"
     ]
    },
    {
     "name": "stderr",
     "output_type": "stream",
     "text": [
      "Training (17327 / 18000 Steps) (loss=0.50523): 100%|██████████| 76/76 [02:04<00:00,  1.63s/it]\n",
      "Validate (17328 / 10 Steps): 100%|██████████| 22/22 [01:23<00:00,  3.81s/it]<00:01,  2.22it/s]\n",
      "Training (17400 / 18000 Steps) (loss=0.50667):  96%|█████████▌| 73/76 [02:02<01:16, 25.60s/it]"
     ]
    },
    {
     "name": "stdout",
     "output_type": "stream",
     "text": [
      "Model Was Not Saved ! Current Best Avg. Dice: 0.4985658526420593 Current Avg. Dice: 0.45786866545677185 Current Avg. tumor Dice: 0.5005675554275513 Current Avg. lymph Dice: 0.37890470027923584\n"
     ]
    },
    {
     "name": "stderr",
     "output_type": "stream",
     "text": [
      "Training (17403 / 18000 Steps) (loss=0.40046): 100%|██████████| 76/76 [02:03<00:00,  1.63s/it]\n",
      "Training (17479 / 18000 Steps) (loss=0.45980): 100%|██████████| 76/76 [00:40<00:00,  1.90it/s]\n",
      "Validate (17480 / 10 Steps): 100%|██████████| 22/22 [01:24<00:00,  3.83s/it]<00:28,  1.93it/s]\n",
      "Training (17500 / 18000 Steps) (loss=0.41653):  28%|██▊       | 21/76 [01:38<23:37, 25.77s/it]"
     ]
    },
    {
     "name": "stdout",
     "output_type": "stream",
     "text": [
      "Model Was Not Saved ! Current Best Avg. Dice: 0.4985658526420593 Current Avg. Dice: 0.3797867000102997 Current Avg. tumor Dice: 0.4445180892944336 Current Avg. lymph Dice: 0.27024686336517334\n"
     ]
    },
    {
     "name": "stderr",
     "output_type": "stream",
     "text": [
      "Training (17555 / 18000 Steps) (loss=0.44795): 100%|██████████| 76/76 [02:03<00:00,  1.63s/it]\n",
      "Validate (17556 / 10 Steps): 100%|██████████| 22/22 [01:24<00:00,  3.85s/it]<00:15,  2.12it/s]\n",
      "Training (17600 / 18000 Steps) (loss=0.55262):  59%|█████▉    | 45/76 [01:50<13:23, 25.90s/it]"
     ]
    },
    {
     "name": "stdout",
     "output_type": "stream",
     "text": [
      "Model Was Not Saved ! Current Best Avg. Dice: 0.4985658526420593 Current Avg. Dice: 0.3981890380382538 Current Avg. tumor Dice: 0.481107622385025 Current Avg. lymph Dice: 0.2684037387371063\n"
     ]
    },
    {
     "name": "stderr",
     "output_type": "stream",
     "text": [
      "Training (17631 / 18000 Steps) (loss=0.66875): 100%|██████████| 76/76 [02:04<00:00,  1.64s/it]\n",
      "Validate (17632 / 10 Steps): 100%|██████████| 22/22 [01:25<00:00,  3.87s/it]<00:03,  2.15it/s]\n",
      "Training (17700 / 18000 Steps) (loss=0.44185):  91%|█████████ | 69/76 [02:01<03:02, 26.03s/it]"
     ]
    },
    {
     "name": "stdout",
     "output_type": "stream",
     "text": [
      "Model Was Not Saved ! Current Best Avg. Dice: 0.4985658526420593 Current Avg. Dice: 0.42187178134918213 Current Avg. tumor Dice: 0.46964696049690247 Current Avg. lymph Dice: 0.3396075665950775\n"
     ]
    },
    {
     "name": "stderr",
     "output_type": "stream",
     "text": [
      "Training (17707 / 18000 Steps) (loss=0.43450): 100%|██████████| 76/76 [02:04<00:00,  1.64s/it]\n",
      "Training (17783 / 18000 Steps) (loss=0.30962): 100%|██████████| 76/76 [00:39<00:00,  1.91it/s]\n",
      "Validate (17784 / 10 Steps): 100%|██████████| 22/22 [01:25<00:00,  3.87s/it]<00:27,  2.21it/s]\n",
      "Training (17800 / 18000 Steps) (loss=0.43438):  22%|██▏       | 17/76 [01:37<25:38, 26.07s/it]"
     ]
    },
    {
     "name": "stdout",
     "output_type": "stream",
     "text": [
      "Model Was Not Saved ! Current Best Avg. Dice: 0.4985658526420593 Current Avg. Dice: 0.4476122558116913 Current Avg. tumor Dice: 0.4790894091129303 Current Avg. lymph Dice: 0.38330507278442383\n"
     ]
    },
    {
     "name": "stderr",
     "output_type": "stream",
     "text": [
      "Training (17859 / 18000 Steps) (loss=0.35876): 100%|██████████| 76/76 [02:04<00:00,  1.64s/it]\n",
      "Validate (17860 / 10 Steps): 100%|██████████| 22/22 [01:24<00:00,  3.86s/it]<00:16,  2.17it/s]\n",
      "Training (17900 / 18000 Steps) (loss=0.39429):  54%|█████▍    | 41/76 [01:48<15:07, 25.93s/it]"
     ]
    },
    {
     "name": "stdout",
     "output_type": "stream",
     "text": [
      "Model Was Not Saved ! Current Best Avg. Dice: 0.4985658526420593 Current Avg. Dice: 0.4242517352104187 Current Avg. tumor Dice: 0.48234257102012634 Current Avg. lymph Dice: 0.32152050733566284\n"
     ]
    },
    {
     "name": "stderr",
     "output_type": "stream",
     "text": [
      "Training (17935 / 18000 Steps) (loss=0.60494): 100%|██████████| 76/76 [02:05<00:00,  1.65s/it]\n",
      "Validate (17936 / 10 Steps): 100%|██████████| 22/22 [01:24<00:00,  3.85s/it]<00:05,  2.15it/s]\n",
      "Training (18000 / 18000 Steps) (loss=0.52146):  86%|████████▌ | 65/76 [01:59<04:45, 25.92s/it]"
     ]
    },
    {
     "name": "stdout",
     "output_type": "stream",
     "text": [
      "Model Was Not Saved ! Current Best Avg. Dice: 0.4985658526420593 Current Avg. Dice: 0.36942294239997864 Current Avg. tumor Dice: 0.4700005352497101 Current Avg. lymph Dice: 0.21861380338668823\n"
     ]
    },
    {
     "name": "stderr",
     "output_type": "stream",
     "text": [
      "Training (18011 / 18000 Steps) (loss=0.40378): 100%|██████████| 76/76 [02:04<00:00,  1.64s/it]\n"
     ]
    }
   ],
   "source": [
    "epoch = 0 # used for LR scheduler\n",
    "max_num_epochs = 530 # used for LR scheduler\n",
    "\n",
    "\n",
    "while global_step < max_iterations:\n",
    "    global_step, dice_val_best, global_step_best = train(\n",
    "        global_step, train_loader, dice_val_best, global_step_best\n",
    "    )\n",
    "    epoch += 1\n",
    "    #optimizer.param_groups[0]['lr'] = poly_lr(epoch, max_num_epochs, 0.005676 , 0.9)\n",
    "# model.load_state_dict(torch.load(os.path.join(model_dir, \"best_metric_luck_UNETr_prompt.pth\")))"
   ]
  }
 ],
 "metadata": {
  "kernelspec": {
   "display_name": "clam",
   "language": "python",
   "name": "python3"
  },
  "language_info": {
   "codemirror_mode": {
    "name": "ipython",
    "version": 3
   },
   "file_extension": ".py",
   "mimetype": "text/x-python",
   "name": "python",
   "nbconvert_exporter": "python",
   "pygments_lexer": "ipython3",
   "version": "3.8.0"
  }
 },
 "nbformat": 4,
 "nbformat_minor": 2
}
