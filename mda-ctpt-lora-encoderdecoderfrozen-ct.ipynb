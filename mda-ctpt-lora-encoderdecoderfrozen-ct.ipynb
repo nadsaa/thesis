{
 "cells": [
  {
   "cell_type": "code",
   "execution_count": 1,
   "metadata": {},
   "outputs": [
    {
     "name": "stdout",
     "output_type": "stream",
     "text": [
      "1\n"
     ]
    },
    {
     "name": "stderr",
     "output_type": "stream",
     "text": [
      "/tmp/ipykernel_546674/2970517962.py:9: TqdmWarning: IProgress not found. Please update jupyter and ipywidgets. See https://ipywidgets.readthedocs.io/en/stable/user_install.html\n",
      "  from tqdm.autonotebook import tqdm\n"
     ]
    }
   ],
   "source": [
    "import torch\n",
    "import torch.nn as nn\n",
    "from torch.utils.data import DataLoader\n",
    "from collections.abc import Sequence\n",
    "\n",
    "from unetr import CustomedUNETR\n",
    "\n",
    "import json\n",
    "from tqdm.autonotebook import tqdm\n",
    "import os\n",
    "os.environ[\"CUDA_DEVICE_ORDER\"] = \"PCI_BUS_ID\"\n",
    "os.environ[\"CUDA_VISIBLE_DEVICES\"] = \"3\" \n",
    "\n",
    "print(torch.cuda.device_count())\n",
    "torch.backends.cudnn.benchmark = True\n",
    "device = torch.device(\"cuda\" if torch.cuda.is_available() else \"cpu\")"
   ]
  },
  {
   "cell_type": "code",
   "execution_count": 2,
   "metadata": {},
   "outputs": [],
   "source": [
    "from monai.transforms import EnsureTyped\n",
    "from monai.transforms import Compose, LoadImaged, ScaleIntensityRanged, ConcatItemsd\n",
    "from monai.metrics import DiceMetric\n",
    "from monai.losses import DiceCELoss, DiceFocalLoss, FocalLoss\n",
    "from monai.inferers import sliding_window_inference\n",
    "\n",
    "\n",
    "from monai.data import (\n",
    "    Dataset,\n",
    "    DataLoader,\n",
    "    CacheDataset,\n",
    "    load_decathlon_datalist,\n",
    "    decollate_batch,\n",
    ")\n",
    "\n",
    "\n",
    "from monai.transforms import (\n",
    "    AsDiscrete,\n",
    "    Compose,\n",
    "    CropForegroundd,\n",
    "    LoadImaged,\n",
    "    Orientationd,\n",
    "    RandFlipd,\n",
    "    RandCropByPosNegLabeld,\n",
    "    RandShiftIntensityd,\n",
    "    ScaleIntensityRanged,\n",
    "    Spacingd,\n",
    "    RandRotate90d,\n",
    "    MapTransform,\n",
    "    ScaleIntensityd,\n",
    "    #AddChanneld,\n",
    "    SpatialPadd,\n",
    "    CenterSpatialCropd,\n",
    "    EnsureChannelFirstd,\n",
    "    ConcatItemsd,\n",
    "    AdjustContrastd, \n",
    "    Rand3DElasticd,\n",
    "    HistogramNormalized,\n",
    "    NormalizeIntensityd,\n",
    "    Invertd,\n",
    "    SaveImage,\n",
    "\n",
    ")"
   ]
  },
  {
   "cell_type": "code",
   "execution_count": 3,
   "metadata": {},
   "outputs": [],
   "source": [
    "data_dir = '/home/nada.saadi/MIS-FM/hecktor2022_cropped'\n",
    "json_dir = '/home/nada.saadi/MIS-FM/hecktor2022_cropped/MDA_CTPT_TRAIN.json'"
   ]
  },
  {
   "cell_type": "code",
   "execution_count": 4,
   "metadata": {},
   "outputs": [
    {
     "name": "stdout",
     "output_type": "stream",
     "text": [
      "152 44\n"
     ]
    }
   ],
   "source": [
    "def datafold_read(datalist, basedir, fold=0, key=\"training\"):\n",
    "    with open(datalist) as f:\n",
    "        json_data = json.load(f)\n",
    "\n",
    "    json_data = json_data[key]\n",
    "\n",
    "    for d in json_data:\n",
    "        for k in d:\n",
    "            if isinstance(d[k], list):\n",
    "                d[k] = [os.path.join(basedir, iv) for iv in d[k]]\n",
    "            elif isinstance(d[k], str):\n",
    "                d[k] = os.path.join(basedir, d[k]) if len(d[k]) > 0 else d[k]\n",
    "\n",
    "    tr = []\n",
    "    val = []\n",
    "    for d in json_data:\n",
    "        if \"fold\" in d and d[\"fold\"] == fold:\n",
    "            val.append(d)\n",
    "        else:\n",
    "            tr.append(d)\n",
    "\n",
    "    return tr, val\n",
    "\n",
    "\n",
    "train_data, valid_data = datafold_read(datalist=json_dir, basedir=data_dir, fold=0)\n",
    "print(len(train_data), len(valid_data))"
   ]
  },
  {
   "cell_type": "code",
   "execution_count": 5,
   "metadata": {},
   "outputs": [],
   "source": [
    "num_samples = 1\n",
    "\n",
    "class ClipCT(MapTransform):\n",
    "    \"\"\"\n",
    "    Convert labels to multi channels based on hecktor classes:\n",
    "    label 1 is the tumor\n",
    "    label 2 is the lymph node\n",
    "\n",
    "    \"\"\"\n",
    "\n",
    "    def __call__(self, data):\n",
    "        d = dict(data)\n",
    "        for key in self.keys:\n",
    "            if key == \"ct\":\n",
    "                d[key] = torch.clip(d[key], min=-200, max=200)\n",
    "            # elif key == \"pt\":\n",
    "            #     d[key] = torch.clip(d[key], d[key].min(), 5)\n",
    "        return d\n",
    "\n",
    "train_transforms = Compose(\n",
    "    [\n",
    "        LoadImaged(keys=[\"ct\", \"pt\", \"seg\"], ensure_channel_first=True),\n",
    "        SpatialPadd(keys=[\"ct\", \"pt\", \"seg\"], spatial_size=(200, 200, 310), method='end'),\n",
    "        Orientationd(keys=[\"ct\", \"pt\", \"seg\"], axcodes=\"PLS\"),\n",
    "        NormalizeIntensityd(keys=[\"pt\"]),\n",
    "        ClipCT(keys=[\"ct\"]),\n",
    "        ScaleIntensityd(keys=[\"ct\"], minv=0, maxv=1),\n",
    "        ConcatItemsd(keys=[\"pt\", \"ct\"], name=\"ctpt\"),  # Concatenate CT and PET\n",
    "        RandCropByPosNegLabeld(\n",
    "            keys=[\"ctpt\", \"seg\"],\n",
    "            label_key=\"seg\",\n",
    "            spatial_size=(96, 96, 96),\n",
    "            pos=1,\n",
    "            neg=1,\n",
    "            num_samples=num_samples,\n",
    "            image_key=\"ctpt\",\n",
    "            image_threshold=0,\n",
    "        ),\n",
    "        RandFlipd(keys=[\"ctpt\", \"seg\"], spatial_axis=[0], prob=0.20),\n",
    "        RandFlipd(keys=[\"ctpt\", \"seg\"], spatial_axis=[1], prob=0.20),\n",
    "        RandFlipd(keys=[\"ctpt\", \"seg\"], spatial_axis=[2], prob=0.20),\n",
    "        RandRotate90d(keys=[\"ctpt\", \"seg\"], prob=0.20, max_k=3),\n",
    "        EnsureTyped(keys=[\"ctpt\", \"seg\"]),\n",
    "    \n",
    "    ]\n",
    ")\n",
    "\n",
    "val_transforms = Compose(\n",
    "    [\n",
    "        LoadImaged(keys=[\"ct\", \"pt\", \"seg\"], ensure_channel_first=True),\n",
    "        SpatialPadd(keys=[\"ct\", \"pt\", \"seg\"], spatial_size=(200, 200, 310), method='end'),\n",
    "        Orientationd(keys=[\"ct\", \"pt\", \"seg\"], axcodes=\"PLS\"),\n",
    "        NormalizeIntensityd(keys=[\"pt\"]),\n",
    "        ClipCT(keys=[\"ct\"]),\n",
    "        ScaleIntensityd(keys=[\"ct\"], minv=0, maxv=1),\n",
    "        ConcatItemsd(keys=[\"pt\", \"ct\"], name=\"ctpt\"),# Concatenate CT and PET\n",
    "        EnsureTyped(keys=[\"ctpt\", \"seg\"]),\n",
    "    ]\n",
    ")\n",
    "\n",
    "\n",
    "##----------\n",
    "\n",
    "def create_dataloader(data, transforms, batch_size=2, shuffle=True):\n",
    "    # Create CacheDataset with the reformatted data\n",
    "    dataset = Dataset(data=data, transform=transforms)\n",
    "\n",
    "    # Create DataLoader\n",
    "    return DataLoader(dataset, batch_size=batch_size, shuffle=shuffle, num_workers=8)\n",
    "\n",
    "\n",
    "\n",
    "train_loader = create_dataloader(train_data, train_transforms, shuffle=True)\n",
    "val_loader = create_dataloader(valid_data, val_transforms, shuffle=False)"
   ]
  },
  {
   "cell_type": "code",
   "execution_count": 6,
   "metadata": {},
   "outputs": [
    {
     "name": "stdout",
     "output_type": "stream",
     "text": [
      "Nada's version of UNETR\n",
      "(96, 96, 96)\n",
      "(16, 16, 16)\n",
      "(6, 6, 6)\n",
      "768\n",
      "zaz w dakchi ya s lbnat\n"
     ]
    },
    {
     "name": "stderr",
     "output_type": "stream",
     "text": [
      "/home/nada.saadi/miniconda3/envs/clam/lib/python3.8/site-packages/monai/utils/deprecate_utils.py:221: FutureWarning: unetr CustomedUNETR.__init__:pos_embed: Argument `pos_embed` has been deprecated since version 1.2. It will be removed in version 1.4. please use `proj_type` instead.\n",
      "  warn_deprecated(argname, msg, warning_category)\n"
     ]
    },
    {
     "data": {
      "text/plain": [
       "<All keys matched successfully>"
      ]
     },
     "execution_count": 6,
     "metadata": {},
     "output_type": "execute_result"
    }
   ],
   "source": [
    "\n",
    "model = CustomedUNETR(\n",
    "    in_channels=2,  # Number of input channels\n",
    "    out_channels=3,  # Number of output channels\n",
    "    img_size=(96, 96, 96),  # Size of the input image\n",
    "    feature_size=48,  # Size of the feature maps\n",
    "    hidden_size=768,\n",
    "    num_heads=12,  # Size of the hidden layers in the transformer\n",
    "    mlp_dim=3072,  # Dimension of the MLP in the transformer\n",
    "    pos_embed=\"perceptron\",  # Type of positional embedding\n",
    "    norm_name=\"instance\",  # Type of normalization\n",
    "    res_block=True,  # Whether to use residual blocks\n",
    "    dropout_rate=0.0,\n",
    "    proj_type=\"conv\",\n",
    "    r=4,\n",
    "    lora_layer=True,\n",
    "    use_ct_encoder=True,\n",
    "    use_pet_encoder=True,\n",
    ").to(device)\n",
    "\n",
    "pt_weights_4 = '/home/nada.saadi/CTPET/hecktor2022_cropped/Module1-4centers-CT-only-tokens/-module1-4centers-ctonly-tokens.pth'\n",
    "# state_dict = torch.load(pt_weights)\n",
    "# model.load_state_dict(state_dict, strict=False)\n",
    "\n",
    "\n",
    "\n",
    "state_dict = torch.load(pt_weights_4)\n",
    "model_state_dict = model.state_dict()\n",
    "for name, param in state_dict.items():\n",
    "    if name in model_state_dict:\n",
    "        if param.shape == model_state_dict[name].shape:\n",
    "            model_state_dict[name] = param\n",
    "\n",
    "model.load_state_dict(model_state_dict)\n",
    "\n"
   ]
  },
  {
   "cell_type": "code",
   "execution_count": 7,
   "metadata": {},
   "outputs": [],
   "source": [
    "def poly_lr(epoch, max_epochs, initial_lr, exponent=0.9):\n",
    "    return initial_lr * (1 - epoch / max_epochs)**exponent\n",
    "\n",
    "model_dir='/home/nada.saadi/CTPET/hecktor2022_cropped/5th_ctpt_tokens_ourapproach'\n",
    "\n",
    "max_iterations = 18000\n",
    "eval_num = 100\n",
    "\n",
    "## running stats\n",
    "global_step = 0\n",
    "dice_val_best = 0.0\n",
    "global_step_best = 0\n",
    "epoch_loss_values = []\n",
    "metric_values = []\n",
    "metric_values_tumor = []\n",
    "metric_values_lymph = []\n",
    "\n",
    "\n",
    "loss_function = DiceCELoss(to_onehot_y=True, softmax=True)\n",
    "optimizer = torch.optim.AdamW(model.parameters(), lr=1e-4, weight_decay=1e-5)\n",
    "\n",
    "\n",
    "post_label = AsDiscrete(to_onehot=3)\n",
    "post_pred = AsDiscrete(argmax=True, to_onehot=3)\n",
    "\n",
    "dice_metric = DiceMetric(include_background=False, reduction=\"mean\", get_not_nans=False)\n",
    "dice_metric_batch = DiceMetric(include_background=False, reduction=\"mean_batch\")\n",
    "\n",
    "\n",
    "##-----------------------------------------------------------------------------\n",
    "\n",
    "def validation(epoch_iterator_val):\n",
    "        model.eval()\n",
    "        with torch.no_grad():\n",
    "            for step, batch in enumerate(epoch_iterator_val):\n",
    "                val_inputs, val_labels = (batch[\"ctpt\"].cuda(), batch[\"seg\"].cuda())\n",
    "                val_outputs = sliding_window_inference(val_inputs, (96, 96, 96), 4, model)\n",
    "                val_labels_list = decollate_batch(val_labels)\n",
    "                val_labels_convert = [\n",
    "                    post_label(val_label_tensor) for val_label_tensor in val_labels_list\n",
    "                ]\n",
    "                val_outputs_list = decollate_batch(val_outputs)\n",
    "                val_output_convert = [\n",
    "                    post_pred(val_pred_tensor) for val_pred_tensor in val_outputs_list\n",
    "                ]\n",
    "                dice_metric(y_pred=val_output_convert, y=val_labels_convert)\n",
    "                dice_metric_batch(y_pred=val_output_convert, y=val_labels_convert)\n",
    "                epoch_iterator_val.set_description(\n",
    "                    \"Validate (%d / %d Steps)\" % (global_step, 10.0)\n",
    "                )\n",
    "            mean_dice_val = dice_metric.aggregate().item()\n",
    "            metric_batch_val = dice_metric_batch.aggregate()\n",
    "\n",
    "            metric_tumor = metric_batch_val[0].item()\n",
    "            metric_lymph = metric_batch_val[1].item()\n",
    "\n",
    "            dice_metric.reset()\n",
    "            dice_metric_batch.reset()\n",
    "        return mean_dice_val, metric_tumor, metric_lymph\n",
    "\n",
    "\n",
    "\n",
    "def train(global_step, train_loader, dice_val_best, global_step_best):\n",
    "        model.train()\n",
    "        epoch_loss = 0 \n",
    "        step = 0\n",
    "        epoch_iterator = tqdm(\n",
    "            train_loader, desc=\"Training (X / X Steps) (loss=X.X)\", dynamic_ncols=True\n",
    "        )\n",
    "        \n",
    "        for step, batch in enumerate(epoch_iterator):\n",
    "            step += 1\n",
    "            x, y = (batch[\"ctpt\"].cuda(), batch[\"seg\"].cuda())\n",
    "            logit_map = model(x,mode='ct')\n",
    "            loss = loss_function(logit_map, y)\n",
    "            loss.backward()\n",
    "            epoch_loss += loss.item() \n",
    "            optimizer.step()\n",
    "            optimizer.zero_grad()\n",
    "            epoch_iterator.set_description(\n",
    "                \"Training (%d / %d Steps) (loss=%2.5f)\"\n",
    "                % (global_step, max_iterations, loss)\n",
    "            )\n",
    "            \n",
    "            if (\n",
    "                global_step % eval_num == 0 and global_step != 0\n",
    "            ) or global_step == max_iterations:\n",
    "                epoch_iterator_val = tqdm(\n",
    "                    val_loader, desc=\"Validate (X / X Steps) (dice=X.X)\", dynamic_ncols=True\n",
    "                )\n",
    "                dice_val, metric_tumor, metric_lymph = validation(epoch_iterator_val)\n",
    "                epoch_loss /= step\n",
    "                epoch_loss_values.append(epoch_loss)\n",
    "                metric_values.append(dice_val)\n",
    "                metric_values_tumor.append(metric_tumor)\n",
    "                metric_values_lymph.append(metric_lymph)\n",
    "                if dice_val > dice_val_best:\n",
    "                    dice_val_best = dice_val\n",
    "                    global_step_best = global_step\n",
    "                    torch.save(\n",
    "                        model.state_dict(), os.path.join(model_dir, \"5th_center_our_approach.pth\")\n",
    "                    )\n",
    "                    print(\n",
    "                        \"Model Was Saved ! Current Best Avg. Dice: {} Current Avg. Dice: {} Current Avg. tumor Dice: {} Current Avg. lymph Dice: {}\".format(\n",
    "                            dice_val_best, dice_val, metric_tumor, metric_lymph\n",
    "                        )\n",
    "                    )\n",
    "                else:\n",
    "                    print(\n",
    "                        \"Model Was Not Saved ! Current Best Avg. Dice: {} Current Avg. Dice: {} Current Avg. tumor Dice: {} Current Avg. lymph Dice: {}\".format(\n",
    "                            dice_val_best, dice_val,  metric_tumor, metric_lymph\n",
    "                        )\n",
    "                    )\n",
    "            global_step += 1\n",
    "        return global_step, dice_val_best, global_step_best\n"
   ]
  },
  {
   "cell_type": "code",
   "execution_count": 8,
   "metadata": {},
   "outputs": [
    {
     "name": "stderr",
     "output_type": "stream",
     "text": [
      "Training (75 / 18000 Steps) (loss=0.60515): 100%|██████████| 76/76 [03:31<00:00,  2.78s/it]\n",
      "Validate (76 / 10 Steps): 100%|██████████| 22/22 [01:43<00:00,  4.69s/it]1<00:56,  1.09s/it]\n",
      "Training (100 / 18000 Steps) (loss=0.62627):  33%|███▎      | 25/76 [02:26<27:36, 32.47s/it]"
     ]
    },
    {
     "name": "stdout",
     "output_type": "stream",
     "text": [
      "Model Was Saved ! Current Best Avg. Dice: 0.3372526466846466 Current Avg. Dice: 0.3372526466846466 Current Avg. tumor Dice: 0.3816148638725281 Current Avg. lymph Dice: 0.2586529552936554\n"
     ]
    },
    {
     "name": "stderr",
     "output_type": "stream",
     "text": [
      "Training (151 / 18000 Steps) (loss=0.42071): 100%|██████████| 76/76 [03:18<00:00,  2.61s/it]\n",
      "Validate (152 / 10 Steps): 100%|██████████| 22/22 [01:38<00:00,  4.47s/it]<00:27,  1.02it/s]\n",
      "Training (200 / 18000 Steps) (loss=0.63126):  64%|██████▍   | 49/76 [02:33<13:50, 30.77s/it]"
     ]
    },
    {
     "name": "stdout",
     "output_type": "stream",
     "text": [
      "Model Was Saved ! Current Best Avg. Dice: 0.3435346782207489 Current Avg. Dice: 0.3435346782207489 Current Avg. tumor Dice: 0.3882196843624115 Current Avg. lymph Dice: 0.27658605575561523\n"
     ]
    },
    {
     "name": "stderr",
     "output_type": "stream",
     "text": [
      "Training (227 / 18000 Steps) (loss=0.29461): 100%|██████████| 76/76 [03:00<00:00,  2.38s/it]\n",
      "Validate (228 / 10 Steps): 100%|██████████| 22/22 [01:38<00:00,  4.46s/it]<00:03,  1.03it/s]\n",
      "Training (300 / 18000 Steps) (loss=0.66789):  96%|█████████▌| 73/76 [02:56<01:32, 30.72s/it]"
     ]
    },
    {
     "name": "stdout",
     "output_type": "stream",
     "text": [
      "Model Was Saved ! Current Best Avg. Dice: 0.41080552339553833 Current Avg. Dice: 0.41080552339553833 Current Avg. tumor Dice: 0.4489533007144928 Current Avg. lymph Dice: 0.35730597376823425\n"
     ]
    },
    {
     "name": "stderr",
     "output_type": "stream",
     "text": [
      "Training (303 / 18000 Steps) (loss=0.59327): 100%|██████████| 76/76 [02:59<00:00,  2.36s/it]\n",
      "Training (379 / 18000 Steps) (loss=0.46585): 100%|██████████| 76/76 [01:20<00:00,  1.06s/it]\n",
      "Validate (380 / 10 Steps): 100%|██████████| 22/22 [01:38<00:00,  4.46s/it]<00:56,  1.01s/it]\n",
      "Training (400 / 18000 Steps) (loss=0.66729):  28%|██▊       | 21/76 [02:05<28:10, 30.73s/it]"
     ]
    },
    {
     "name": "stdout",
     "output_type": "stream",
     "text": [
      "Model Was Saved ! Current Best Avg. Dice: 0.492028146982193 Current Avg. Dice: 0.492028146982193 Current Avg. tumor Dice: 0.5170950293540955 Current Avg. lymph Dice: 0.4599035978317261\n"
     ]
    },
    {
     "name": "stderr",
     "output_type": "stream",
     "text": [
      "Training (455 / 18000 Steps) (loss=0.46546): 100%|██████████| 76/76 [03:01<00:00,  2.39s/it]\n",
      "Validate (456 / 10 Steps): 100%|██████████| 22/22 [01:37<00:00,  4.45s/it]<00:33,  1.03s/it]\n",
      "Training (500 / 18000 Steps) (loss=0.32252):  59%|█████▉    | 45/76 [02:28<15:43, 30.43s/it]"
     ]
    },
    {
     "name": "stdout",
     "output_type": "stream",
     "text": [
      "Model Was Not Saved ! Current Best Avg. Dice: 0.492028146982193 Current Avg. Dice: 0.47648370265960693 Current Avg. tumor Dice: 0.5332142114639282 Current Avg. lymph Dice: 0.40510404109954834\n"
     ]
    },
    {
     "name": "stderr",
     "output_type": "stream",
     "text": [
      "Training (531 / 18000 Steps) (loss=0.26529): 100%|██████████| 76/76 [02:59<00:00,  2.36s/it]\n",
      "Validate (532 / 10 Steps): 100%|██████████| 22/22 [01:38<00:00,  4.46s/it]<00:08,  1.03s/it]\n",
      "Training (600 / 18000 Steps) (loss=0.51990):  91%|█████████ | 69/76 [02:53<03:33, 30.44s/it]"
     ]
    },
    {
     "name": "stdout",
     "output_type": "stream",
     "text": [
      "Model Was Not Saved ! Current Best Avg. Dice: 0.492028146982193 Current Avg. Dice: 0.48842352628707886 Current Avg. tumor Dice: 0.539892852306366 Current Avg. lymph Dice: 0.4219178557395935\n"
     ]
    },
    {
     "name": "stderr",
     "output_type": "stream",
     "text": [
      "Training (607 / 18000 Steps) (loss=0.34922): 100%|██████████| 76/76 [03:00<00:00,  2.38s/it]\n",
      "Training (683 / 18000 Steps) (loss=0.50278): 100%|██████████| 76/76 [01:21<00:00,  1.07s/it]\n",
      "Validate (684 / 10 Steps): 100%|██████████| 22/22 [01:38<00:00,  4.47s/it]<00:59,  1.02it/s]\n",
      "Training (700 / 18000 Steps) (loss=0.46016):  22%|██▏       | 17/76 [02:00<30:07, 30.64s/it]"
     ]
    },
    {
     "name": "stdout",
     "output_type": "stream",
     "text": [
      "Model Was Not Saved ! Current Best Avg. Dice: 0.492028146982193 Current Avg. Dice: 0.4627392590045929 Current Avg. tumor Dice: 0.49665459990501404 Current Avg. lymph Dice: 0.4008939862251282\n"
     ]
    },
    {
     "name": "stderr",
     "output_type": "stream",
     "text": [
      "Training (759 / 18000 Steps) (loss=0.65310): 100%|██████████| 76/76 [03:04<00:00,  2.43s/it]\n",
      "Validate (760 / 10 Steps): 100%|██████████| 22/22 [01:39<00:00,  4.52s/it]<00:40,  1.13s/it]\n",
      "Training (800 / 18000 Steps) (loss=0.46093):  54%|█████▍    | 41/76 [02:31<18:07, 31.06s/it]"
     ]
    },
    {
     "name": "stdout",
     "output_type": "stream",
     "text": [
      "Model Was Not Saved ! Current Best Avg. Dice: 0.492028146982193 Current Avg. Dice: 0.4261839985847473 Current Avg. tumor Dice: 0.47462859749794006 Current Avg. lymph Dice: 0.3522060811519623\n"
     ]
    },
    {
     "name": "stderr",
     "output_type": "stream",
     "text": [
      "Training (835 / 18000 Steps) (loss=0.58033): 100%|██████████| 76/76 [03:11<00:00,  2.52s/it]\n",
      "Validate (836 / 10 Steps): 100%|██████████| 22/22 [01:39<00:00,  4.54s/it]<00:13,  1.14s/it]\n",
      "Training (900 / 18000 Steps) (loss=0.47394):  86%|████████▌ | 65/76 [03:02<05:46, 31.49s/it]"
     ]
    },
    {
     "name": "stdout",
     "output_type": "stream",
     "text": [
      "Model Was Saved ! Current Best Avg. Dice: 0.5202372670173645 Current Avg. Dice: 0.5202372670173645 Current Avg. tumor Dice: 0.5944579243659973 Current Avg. lymph Dice: 0.4294942319393158\n"
     ]
    },
    {
     "name": "stderr",
     "output_type": "stream",
     "text": [
      "Training (911 / 18000 Steps) (loss=0.59062): 100%|██████████| 76/76 [03:14<00:00,  2.56s/it]\n",
      "Training (987 / 18000 Steps) (loss=0.50922): 100%|██████████| 76/76 [01:30<00:00,  1.20s/it]\n",
      "Validate (988 / 10 Steps): 100%|██████████| 22/22 [01:39<00:00,  4.54s/it]0<01:18,  1.22s/it]\n",
      "Training (1000 / 18000 Steps) (loss=0.53078):  17%|█▋        | 13/76 [02:01<33:16, 31.69s/it]"
     ]
    },
    {
     "name": "stdout",
     "output_type": "stream",
     "text": [
      "Model Was Saved ! Current Best Avg. Dice: 0.5467013716697693 Current Avg. Dice: 0.5467013716697693 Current Avg. tumor Dice: 0.5889862775802612 Current Avg. lymph Dice: 0.48958736658096313\n"
     ]
    },
    {
     "name": "stderr",
     "output_type": "stream",
     "text": [
      "Training (1063 / 18000 Steps) (loss=0.51409): 100%|██████████| 76/76 [03:12<00:00,  2.54s/it]\n",
      "Validate (1064 / 10 Steps): 100%|██████████| 22/22 [01:38<00:00,  4.49s/it]<00:41,  1.04s/it]\n",
      "Training (1100 / 18000 Steps) (loss=0.68366):  49%|████▊     | 37/76 [02:25<19:59, 30.75s/it]"
     ]
    },
    {
     "name": "stdout",
     "output_type": "stream",
     "text": [
      "Model Was Not Saved ! Current Best Avg. Dice: 0.5467013716697693 Current Avg. Dice: 0.4411188066005707 Current Avg. tumor Dice: 0.5090185403823853 Current Avg. lymph Dice: 0.3587169349193573\n"
     ]
    },
    {
     "name": "stderr",
     "output_type": "stream",
     "text": [
      "Training (1139 / 18000 Steps) (loss=0.47231): 100%|██████████| 76/76 [03:09<00:00,  2.50s/it]\n",
      "Validate (1140 / 10 Steps): 100%|██████████| 22/22 [01:38<00:00,  4.49s/it]<00:17,  1.08s/it]\n",
      "Training (1200 / 18000 Steps) (loss=0.32486):  80%|████████  | 61/76 [02:53<07:41, 30.74s/it]"
     ]
    },
    {
     "name": "stdout",
     "output_type": "stream",
     "text": [
      "Model Was Not Saved ! Current Best Avg. Dice: 0.5467013716697693 Current Avg. Dice: 0.45083558559417725 Current Avg. tumor Dice: 0.5162245631217957 Current Avg. lymph Dice: 0.37654241919517517\n"
     ]
    },
    {
     "name": "stderr",
     "output_type": "stream",
     "text": [
      "Training (1215 / 18000 Steps) (loss=0.44214): 100%|██████████| 76/76 [03:09<00:00,  2.49s/it]\n",
      "Training (1291 / 18000 Steps) (loss=0.29117): 100%|██████████| 76/76 [01:28<00:00,  1.17s/it]\n",
      "Validate (1292 / 10 Steps): 100%|██████████| 22/22 [01:38<00:00,  4.47s/it]01:18,  1.16s/it]\n",
      "Training (1300 / 18000 Steps) (loss=0.50279):  12%|█▏        | 9/76 [01:52<35:35, 31.88s/it]"
     ]
    },
    {
     "name": "stdout",
     "output_type": "stream",
     "text": [
      "Model Was Not Saved ! Current Best Avg. Dice: 0.5467013716697693 Current Avg. Dice: 0.5003775954246521 Current Avg. tumor Dice: 0.5818181037902832 Current Avg. lymph Dice: 0.3968537151813507\n"
     ]
    },
    {
     "name": "stderr",
     "output_type": "stream",
     "text": [
      "Training (1367 / 18000 Steps) (loss=0.60757): 100%|██████████| 76/76 [03:06<00:00,  2.46s/it]\n",
      "Validate (1368 / 10 Steps): 100%|██████████| 22/22 [01:38<00:00,  4.48s/it]<00:51,  1.18s/it]\n",
      "Training (1400 / 18000 Steps) (loss=0.57018):  43%|████▎     | 33/76 [02:20<22:01, 30.73s/it]"
     ]
    },
    {
     "name": "stdout",
     "output_type": "stream",
     "text": [
      "Model Was Not Saved ! Current Best Avg. Dice: 0.5467013716697693 Current Avg. Dice: 0.5222144722938538 Current Avg. tumor Dice: 0.5321338176727295 Current Avg. lymph Dice: 0.5009066462516785\n"
     ]
    },
    {
     "name": "stderr",
     "output_type": "stream",
     "text": [
      "Training (1443 / 18000 Steps) (loss=0.66701): 100%|██████████| 76/76 [03:06<00:00,  2.45s/it]\n",
      "Validate (1444 / 10 Steps): 100%|██████████| 22/22 [01:38<00:00,  4.47s/it]<00:20,  1.02s/it]\n",
      "Training (1500 / 18000 Steps) (loss=0.56639):  75%|███████▌  | 57/76 [02:42<09:40, 30.56s/it]"
     ]
    },
    {
     "name": "stdout",
     "output_type": "stream",
     "text": [
      "Model Was Not Saved ! Current Best Avg. Dice: 0.5467013716697693 Current Avg. Dice: 0.4039001762866974 Current Avg. tumor Dice: 0.4202462136745453 Current Avg. lymph Dice: 0.40424251556396484\n"
     ]
    },
    {
     "name": "stderr",
     "output_type": "stream",
     "text": [
      "Training (1519 / 18000 Steps) (loss=0.44203): 100%|██████████| 76/76 [03:01<00:00,  2.39s/it]\n",
      "Training (1595 / 18000 Steps) (loss=0.73314): 100%|██████████| 76/76 [01:22<00:00,  1.08s/it]\n",
      "Validate (1596 / 10 Steps): 100%|██████████| 22/22 [01:38<00:00,  4.48s/it]01:57,  1.63s/it]\n",
      "Training (1600 / 18000 Steps) (loss=0.61288):   7%|▋         | 5/76 [01:48<43:41, 36.92s/it]"
     ]
    },
    {
     "name": "stdout",
     "output_type": "stream",
     "text": [
      "Model Was Not Saved ! Current Best Avg. Dice: 0.5467013716697693 Current Avg. Dice: 0.5195866227149963 Current Avg. tumor Dice: 0.5606489777565002 Current Avg. lymph Dice: 0.47379010915756226\n"
     ]
    },
    {
     "name": "stderr",
     "output_type": "stream",
     "text": [
      "Training (1671 / 18000 Steps) (loss=0.66768): 100%|██████████| 76/76 [02:59<00:00,  2.36s/it]\n",
      "Validate (1672 / 10 Steps): 100%|██████████| 22/22 [01:38<00:00,  4.47s/it]<00:50,  1.06s/it]\n",
      "Training (1700 / 18000 Steps) (loss=0.37916):  38%|███▊      | 29/76 [02:11<23:55, 30.55s/it]"
     ]
    },
    {
     "name": "stdout",
     "output_type": "stream",
     "text": [
      "Model Was Not Saved ! Current Best Avg. Dice: 0.5467013716697693 Current Avg. Dice: 0.5274032354354858 Current Avg. tumor Dice: 0.5685373544692993 Current Avg. lymph Dice: 0.48323261737823486\n"
     ]
    },
    {
     "name": "stderr",
     "output_type": "stream",
     "text": [
      "Training (1747 / 18000 Steps) (loss=0.42711): 100%|██████████| 76/76 [02:58<00:00,  2.34s/it]\n",
      "Validate (1748 / 10 Steps): 100%|██████████| 22/22 [01:38<00:00,  4.48s/it]<00:24,  1.04s/it]\n",
      "Training (1800 / 18000 Steps) (loss=0.47808):  70%|██████▉   | 53/76 [02:38<11:50, 30.89s/it]"
     ]
    },
    {
     "name": "stdout",
     "output_type": "stream",
     "text": [
      "Model Was Saved ! Current Best Avg. Dice: 0.5612914562225342 Current Avg. Dice: 0.5612914562225342 Current Avg. tumor Dice: 0.611463189125061 Current Avg. lymph Dice: 0.5008723735809326\n"
     ]
    },
    {
     "name": "stderr",
     "output_type": "stream",
     "text": [
      "Training (1823 / 18000 Steps) (loss=0.37831): 100%|██████████| 76/76 [03:00<00:00,  2.38s/it]\n",
      "Training (1899 / 18000 Steps) (loss=0.60921): 100%|██████████| 76/76 [01:21<00:00,  1.08s/it]\n",
      "Validate (1900 / 10 Steps): 100%|██████████| 22/22 [01:38<00:00,  4.46s/it]?, ?it/s]\n",
      "Training (1900 / 18000 Steps) (loss=0.66734):   1%|▏         | 1/76 [01:42<2:08:44, 102.99s/it]"
     ]
    },
    {
     "name": "stdout",
     "output_type": "stream",
     "text": [
      "Model Was Not Saved ! Current Best Avg. Dice: 0.5612914562225342 Current Avg. Dice: 0.5476565957069397 Current Avg. tumor Dice: 0.5950263142585754 Current Avg. lymph Dice: 0.48588645458221436\n"
     ]
    },
    {
     "name": "stderr",
     "output_type": "stream",
     "text": [
      "Training (1975 / 18000 Steps) (loss=0.50867): 100%|██████████| 76/76 [02:59<00:00,  2.36s/it]  \n",
      "Validate (1976 / 10 Steps): 100%|██████████| 22/22 [01:38<00:00,  4.47s/it]<00:51,  1.00it/s]\n",
      "Training (2000 / 18000 Steps) (loss=0.53840):  33%|███▎      | 25/76 [02:08<26:10, 30.79s/it]"
     ]
    },
    {
     "name": "stdout",
     "output_type": "stream",
     "text": [
      "Model Was Saved ! Current Best Avg. Dice: 0.566215991973877 Current Avg. Dice: 0.566215991973877 Current Avg. tumor Dice: 0.5825935006141663 Current Avg. lymph Dice: 0.5420519709587097\n"
     ]
    },
    {
     "name": "stderr",
     "output_type": "stream",
     "text": [
      "Training (2051 / 18000 Steps) (loss=0.58355): 100%|██████████| 76/76 [03:00<00:00,  2.37s/it]\n",
      "Validate (2052 / 10 Steps): 100%|██████████| 22/22 [01:38<00:00,  4.48s/it]<00:27,  1.02it/s]\n",
      "Training (2100 / 18000 Steps) (loss=0.66782):  64%|██████▍   | 49/76 [02:31<13:46, 30.60s/it]"
     ]
    },
    {
     "name": "stdout",
     "output_type": "stream",
     "text": [
      "Model Was Not Saved ! Current Best Avg. Dice: 0.566215991973877 Current Avg. Dice: 0.5369899272918701 Current Avg. tumor Dice: 0.5719946622848511 Current Avg. lymph Dice: 0.49479758739471436\n"
     ]
    },
    {
     "name": "stderr",
     "output_type": "stream",
     "text": [
      "Training (2127 / 18000 Steps) (loss=0.56283): 100%|██████████| 76/76 [02:57<00:00,  2.34s/it]\n",
      "Validate (2128 / 10 Steps): 100%|██████████| 22/22 [01:38<00:00,  4.46s/it]<00:03,  1.02it/s]\n",
      "Training (2200 / 18000 Steps) (loss=0.42457):  96%|█████████▌| 73/76 [02:55<01:31, 30.48s/it]"
     ]
    },
    {
     "name": "stdout",
     "output_type": "stream",
     "text": [
      "Model Was Not Saved ! Current Best Avg. Dice: 0.566215991973877 Current Avg. Dice: 0.5101141333580017 Current Avg. tumor Dice: 0.5585084557533264 Current Avg. lymph Dice: 0.45027127861976624\n"
     ]
    },
    {
     "name": "stderr",
     "output_type": "stream",
     "text": [
      "Training (2203 / 18000 Steps) (loss=0.58134): 100%|██████████| 76/76 [02:58<00:00,  2.35s/it]\n",
      "Training (2279 / 18000 Steps) (loss=0.66706): 100%|██████████| 76/76 [01:19<00:00,  1.05s/it]\n",
      "Validate (2280 / 10 Steps): 100%|██████████| 22/22 [01:38<00:00,  4.47s/it]<00:54,  1.02it/s]\n",
      "Training (2300 / 18000 Steps) (loss=0.38519):  28%|██▊       | 21/76 [02:04<27:59, 30.54s/it]"
     ]
    },
    {
     "name": "stdout",
     "output_type": "stream",
     "text": [
      "Model Was Not Saved ! Current Best Avg. Dice: 0.566215991973877 Current Avg. Dice: 0.5145358443260193 Current Avg. tumor Dice: 0.5763751268386841 Current Avg. lymph Dice: 0.44371122121810913\n"
     ]
    },
    {
     "name": "stderr",
     "output_type": "stream",
     "text": [
      "Training (2355 / 18000 Steps) (loss=0.29351): 100%|██████████| 76/76 [02:59<00:00,  2.37s/it]\n",
      "Validate (2356 / 10 Steps): 100%|██████████| 22/22 [01:38<00:00,  4.47s/it]<00:33,  1.06s/it]\n",
      "Training (2400 / 18000 Steps) (loss=0.24261):  59%|█████▉    | 45/76 [02:29<15:47, 30.56s/it]"
     ]
    },
    {
     "name": "stdout",
     "output_type": "stream",
     "text": [
      "Model Was Not Saved ! Current Best Avg. Dice: 0.566215991973877 Current Avg. Dice: 0.4955708384513855 Current Avg. tumor Dice: 0.5718611478805542 Current Avg. lymph Dice: 0.4059230089187622\n"
     ]
    },
    {
     "name": "stderr",
     "output_type": "stream",
     "text": [
      "Training (2431 / 18000 Steps) (loss=0.56177): 100%|██████████| 76/76 [03:02<00:00,  2.40s/it]\n",
      "Validate (2432 / 10 Steps): 100%|██████████| 22/22 [01:37<00:00,  4.45s/it]<00:07,  1.06it/s]\n",
      "Training (2500 / 18000 Steps) (loss=0.33515):  91%|█████████ | 69/76 [02:51<03:32, 30.32s/it]"
     ]
    },
    {
     "name": "stdout",
     "output_type": "stream",
     "text": [
      "Model Was Not Saved ! Current Best Avg. Dice: 0.566215991973877 Current Avg. Dice: 0.5386221408843994 Current Avg. tumor Dice: 0.5620632171630859 Current Avg. lymph Dice: 0.5083701014518738\n"
     ]
    },
    {
     "name": "stderr",
     "output_type": "stream",
     "text": [
      "Training (2507 / 18000 Steps) (loss=0.57219): 100%|██████████| 76/76 [02:58<00:00,  2.35s/it]\n",
      "Training (2583 / 18000 Steps) (loss=0.68581): 100%|██████████| 76/76 [01:23<00:00,  1.10s/it]\n",
      "Validate (2584 / 10 Steps): 100%|██████████| 22/22 [01:38<00:00,  4.46s/it]<01:01,  1.02s/it]\n",
      "Training (2600 / 18000 Steps) (loss=0.37826):  22%|██▏       | 17/76 [02:00<30:06, 30.61s/it]"
     ]
    },
    {
     "name": "stdout",
     "output_type": "stream",
     "text": [
      "Model Was Not Saved ! Current Best Avg. Dice: 0.566215991973877 Current Avg. Dice: 0.5532159209251404 Current Avg. tumor Dice: 0.5879343152046204 Current Avg. lymph Dice: 0.5197385549545288\n"
     ]
    },
    {
     "name": "stderr",
     "output_type": "stream",
     "text": [
      "Training (2659 / 18000 Steps) (loss=0.42556): 100%|██████████| 76/76 [03:02<00:00,  2.40s/it]\n",
      "Validate (2660 / 10 Steps): 100%|██████████| 22/22 [01:37<00:00,  4.45s/it]<00:38,  1.06s/it]\n",
      "Training (2700 / 18000 Steps) (loss=0.47984):  54%|█████▍    | 41/76 [02:25<17:48, 30.52s/it]"
     ]
    },
    {
     "name": "stdout",
     "output_type": "stream",
     "text": [
      "Model Was Not Saved ! Current Best Avg. Dice: 0.566215991973877 Current Avg. Dice: 0.5397562384605408 Current Avg. tumor Dice: 0.6089106798171997 Current Avg. lymph Dice: 0.4586808979511261\n"
     ]
    },
    {
     "name": "stderr",
     "output_type": "stream",
     "text": [
      "Training (2735 / 18000 Steps) (loss=0.41081): 100%|██████████| 76/76 [03:02<00:00,  2.40s/it]\n",
      "Validate (2736 / 10 Steps): 100%|██████████| 22/22 [01:38<00:00,  4.46s/it]<00:11,  1.02it/s]\n",
      "Training (2800 / 18000 Steps) (loss=0.57217):  86%|████████▌ | 65/76 [02:51<05:35, 30.49s/it]"
     ]
    },
    {
     "name": "stdout",
     "output_type": "stream",
     "text": [
      "Model Was Not Saved ! Current Best Avg. Dice: 0.566215991973877 Current Avg. Dice: 0.5183922052383423 Current Avg. tumor Dice: 0.5592328310012817 Current Avg. lymph Dice: 0.47291120886802673\n"
     ]
    },
    {
     "name": "stderr",
     "output_type": "stream",
     "text": [
      "Training (2811 / 18000 Steps) (loss=0.31963): 100%|██████████| 76/76 [03:03<00:00,  2.41s/it]\n",
      "Training (2887 / 18000 Steps) (loss=0.31164): 100%|██████████| 76/76 [01:25<00:00,  1.12s/it]\n",
      "Validate (2888 / 10 Steps): 100%|██████████| 22/22 [01:37<00:00,  4.44s/it]<01:11,  1.12s/it]\n",
      "Training (2900 / 18000 Steps) (loss=0.57476):  17%|█▋        | 13/76 [01:56<32:13, 30.69s/it]"
     ]
    },
    {
     "name": "stdout",
     "output_type": "stream",
     "text": [
      "Model Was Not Saved ! Current Best Avg. Dice: 0.566215991973877 Current Avg. Dice: 0.5483991503715515 Current Avg. tumor Dice: 0.5852538347244263 Current Avg. lymph Dice: 0.5064614415168762\n"
     ]
    },
    {
     "name": "stderr",
     "output_type": "stream",
     "text": [
      "Training (2963 / 18000 Steps) (loss=0.52428): 100%|██████████| 76/76 [03:02<00:00,  2.40s/it]\n",
      "Validate (2964 / 10 Steps): 100%|██████████| 22/22 [01:37<00:00,  4.45s/it]<00:39,  1.02it/s]\n",
      "Training (3000 / 18000 Steps) (loss=0.40048):  49%|████▊     | 37/76 [02:21<19:43, 30.36s/it]"
     ]
    },
    {
     "name": "stdout",
     "output_type": "stream",
     "text": [
      "Model Was Not Saved ! Current Best Avg. Dice: 0.566215991973877 Current Avg. Dice: 0.5439916253089905 Current Avg. tumor Dice: 0.5746088624000549 Current Avg. lymph Dice: 0.49315834045410156\n"
     ]
    },
    {
     "name": "stderr",
     "output_type": "stream",
     "text": [
      "Training (3039 / 18000 Steps) (loss=0.39881): 100%|██████████| 76/76 [03:02<00:00,  2.40s/it]\n",
      "Validate (3040 / 10 Steps): 100%|██████████| 22/22 [01:37<00:00,  4.45s/it]<00:16,  1.04s/it]\n",
      "Training (3100 / 18000 Steps) (loss=0.29794):  80%|████████  | 61/76 [02:47<07:39, 30.65s/it]"
     ]
    },
    {
     "name": "stdout",
     "output_type": "stream",
     "text": [
      "Model Was Saved ! Current Best Avg. Dice: 0.5747582912445068 Current Avg. Dice: 0.5747582912445068 Current Avg. tumor Dice: 0.6020899415016174 Current Avg. lymph Dice: 0.5420064330101013\n"
     ]
    },
    {
     "name": "stderr",
     "output_type": "stream",
     "text": [
      "Training (3115 / 18000 Steps) (loss=0.53219): 100%|██████████| 76/76 [03:03<00:00,  2.41s/it]\n",
      "Training (3191 / 18000 Steps) (loss=0.21339): 100%|██████████| 76/76 [01:24<00:00,  1.12s/it]\n",
      "Validate (3192 / 10 Steps): 100%|██████████| 22/22 [01:38<00:00,  4.46s/it]01:20,  1.18s/it]\n",
      "Training (3200 / 18000 Steps) (loss=0.57529):  12%|█▏        | 9/76 [01:52<35:44, 32.01s/it]"
     ]
    },
    {
     "name": "stdout",
     "output_type": "stream",
     "text": [
      "Model Was Not Saved ! Current Best Avg. Dice: 0.5747582912445068 Current Avg. Dice: 0.5489662289619446 Current Avg. tumor Dice: 0.5721516013145447 Current Avg. lymph Dice: 0.5142467021942139\n"
     ]
    },
    {
     "name": "stderr",
     "output_type": "stream",
     "text": [
      "Training (3267 / 18000 Steps) (loss=0.50557): 100%|██████████| 76/76 [03:02<00:00,  2.40s/it]\n",
      "Validate (3268 / 10 Steps): 100%|██████████| 22/22 [01:38<00:00,  4.49s/it]<00:43,  1.00it/s]\n",
      "Training (3300 / 18000 Steps) (loss=0.30152):  43%|████▎     | 33/76 [02:17<21:59, 30.68s/it]"
     ]
    },
    {
     "name": "stdout",
     "output_type": "stream",
     "text": [
      "Model Was Not Saved ! Current Best Avg. Dice: 0.5747582912445068 Current Avg. Dice: 0.5306052565574646 Current Avg. tumor Dice: 0.5571915507316589 Current Avg. lymph Dice: 0.4925743639469147\n"
     ]
    },
    {
     "name": "stderr",
     "output_type": "stream",
     "text": [
      "Training (3343 / 18000 Steps) (loss=0.43947): 100%|██████████| 76/76 [03:03<00:00,  2.41s/it]\n",
      "Validate (3344 / 10 Steps): 100%|██████████| 22/22 [01:38<00:00,  4.46s/it]<00:20,  1.02s/it]\n",
      "Training (3400 / 18000 Steps) (loss=0.62861):  75%|███████▌  | 57/76 [02:43<09:39, 30.48s/it]"
     ]
    },
    {
     "name": "stdout",
     "output_type": "stream",
     "text": [
      "Model Was Not Saved ! Current Best Avg. Dice: 0.5747582912445068 Current Avg. Dice: 0.561258852481842 Current Avg. tumor Dice: 0.5938369631767273 Current Avg. lymph Dice: 0.5243303775787354\n"
     ]
    },
    {
     "name": "stderr",
     "output_type": "stream",
     "text": [
      "Training (3419 / 18000 Steps) (loss=0.66686): 100%|██████████| 76/76 [03:03<00:00,  2.41s/it]\n",
      "Training (3495 / 18000 Steps) (loss=0.50753): 100%|██████████| 76/76 [01:22<00:00,  1.09s/it]\n",
      "Validate (3496 / 10 Steps): 100%|██████████| 22/22 [01:38<00:00,  4.49s/it]01:56,  1.62s/it]\n",
      "Training (3500 / 18000 Steps) (loss=0.41473):   7%|▋         | 5/76 [01:49<44:15, 37.40s/it]"
     ]
    },
    {
     "name": "stdout",
     "output_type": "stream",
     "text": [
      "Model Was Saved ! Current Best Avg. Dice: 0.5788612961769104 Current Avg. Dice: 0.5788612961769104 Current Avg. tumor Dice: 0.6174445152282715 Current Avg. lymph Dice: 0.5369297862052917\n"
     ]
    },
    {
     "name": "stderr",
     "output_type": "stream",
     "text": [
      "Training (3571 / 18000 Steps) (loss=0.39946): 100%|██████████| 76/76 [03:04<00:00,  2.42s/it]\n",
      "Validate (3572 / 10 Steps): 100%|██████████| 22/22 [01:38<00:00,  4.47s/it]<00:49,  1.02s/it]\n",
      "Training (3600 / 18000 Steps) (loss=0.52641):  38%|███▊      | 29/76 [02:12<23:56, 30.56s/it]"
     ]
    },
    {
     "name": "stdout",
     "output_type": "stream",
     "text": [
      "Model Was Not Saved ! Current Best Avg. Dice: 0.5788612961769104 Current Avg. Dice: 0.5566092133522034 Current Avg. tumor Dice: 0.5798242092132568 Current Avg. lymph Dice: 0.5384745597839355\n"
     ]
    },
    {
     "name": "stderr",
     "output_type": "stream",
     "text": [
      "Training (3647 / 18000 Steps) (loss=0.34965): 100%|██████████| 76/76 [03:01<00:00,  2.39s/it]\n",
      "Validate (3648 / 10 Steps): 100%|██████████| 22/22 [01:38<00:00,  4.46s/it]<00:24,  1.01s/it]\n",
      "Training (3700 / 18000 Steps) (loss=0.38514):  70%|██████▉   | 53/76 [02:37<11:41, 30.49s/it]"
     ]
    },
    {
     "name": "stdout",
     "output_type": "stream",
     "text": [
      "Model Was Not Saved ! Current Best Avg. Dice: 0.5788612961769104 Current Avg. Dice: 0.5764428973197937 Current Avg. tumor Dice: 0.6150795817375183 Current Avg. lymph Dice: 0.5254018306732178\n"
     ]
    },
    {
     "name": "stderr",
     "output_type": "stream",
     "text": [
      "Training (3723 / 18000 Steps) (loss=0.43710): 100%|██████████| 76/76 [03:01<00:00,  2.38s/it]\n",
      "Training (3799 / 18000 Steps) (loss=0.48209): 100%|██████████| 76/76 [01:26<00:00,  1.13s/it]\n",
      "Validate (3800 / 10 Steps): 100%|██████████| 22/22 [01:38<00:00,  4.46s/it]?, ?it/s]\n",
      "Training (3800 / 18000 Steps) (loss=0.42039):   1%|▏         | 1/76 [01:43<2:09:09, 103.33s/it]"
     ]
    },
    {
     "name": "stdout",
     "output_type": "stream",
     "text": [
      "Model Was Not Saved ! Current Best Avg. Dice: 0.5788612961769104 Current Avg. Dice: 0.5545785427093506 Current Avg. tumor Dice: 0.5689542889595032 Current Avg. lymph Dice: 0.5467048287391663\n"
     ]
    },
    {
     "name": "stderr",
     "output_type": "stream",
     "text": [
      "Training (3875 / 18000 Steps) (loss=0.23578): 100%|██████████| 76/76 [03:03<00:00,  2.41s/it]  \n",
      "Validate (3876 / 10 Steps): 100%|██████████| 22/22 [01:38<00:00,  4.47s/it]<00:52,  1.01s/it]\n",
      "Training (3900 / 18000 Steps) (loss=0.49396):  33%|███▎      | 25/76 [02:09<26:02, 30.64s/it]"
     ]
    },
    {
     "name": "stdout",
     "output_type": "stream",
     "text": [
      "Model Was Not Saved ! Current Best Avg. Dice: 0.5788612961769104 Current Avg. Dice: 0.5387541651725769 Current Avg. tumor Dice: 0.5572972893714905 Current Avg. lymph Dice: 0.5234315395355225\n"
     ]
    },
    {
     "name": "stderr",
     "output_type": "stream",
     "text": [
      "Training (3951 / 18000 Steps) (loss=0.47470): 100%|██████████| 76/76 [03:03<00:00,  2.41s/it]\n",
      "Validate (3952 / 10 Steps): 100%|██████████| 22/22 [01:38<00:00,  4.49s/it]<00:29,  1.05s/it]\n",
      "Training (4000 / 18000 Steps) (loss=0.30820):  64%|██████▍   | 49/76 [02:35<13:48, 30.68s/it]"
     ]
    },
    {
     "name": "stdout",
     "output_type": "stream",
     "text": [
      "Model Was Not Saved ! Current Best Avg. Dice: 0.5788612961769104 Current Avg. Dice: 0.5492530465126038 Current Avg. tumor Dice: 0.5794712901115417 Current Avg. lymph Dice: 0.5189376473426819\n"
     ]
    },
    {
     "name": "stderr",
     "output_type": "stream",
     "text": [
      "Training (4027 / 18000 Steps) (loss=0.52554): 100%|██████████| 76/76 [03:03<00:00,  2.41s/it]\n",
      "Validate (4028 / 10 Steps): 100%|██████████| 22/22 [01:37<00:00,  4.45s/it]<00:04,  1.04s/it]\n",
      "Training (4100 / 18000 Steps) (loss=0.35100):  96%|█████████▌| 73/76 [03:00<01:31, 30.54s/it]"
     ]
    },
    {
     "name": "stdout",
     "output_type": "stream",
     "text": [
      "Model Was Not Saved ! Current Best Avg. Dice: 0.5788612961769104 Current Avg. Dice: 0.572008490562439 Current Avg. tumor Dice: 0.6085335612297058 Current Avg. lymph Dice: 0.5322359800338745\n"
     ]
    },
    {
     "name": "stderr",
     "output_type": "stream",
     "text": [
      "Training (4103 / 18000 Steps) (loss=0.66825): 100%|██████████| 76/76 [03:03<00:00,  2.41s/it]\n",
      "Training (4179 / 18000 Steps) (loss=0.53703): 100%|██████████| 76/76 [01:26<00:00,  1.13s/it]\n",
      "Validate (4180 / 10 Steps): 100%|██████████| 22/22 [01:37<00:00,  4.43s/it]<00:58,  1.04s/it]\n",
      "Training (4200 / 18000 Steps) (loss=0.42007):  28%|██▊       | 21/76 [02:05<28:00, 30.55s/it]"
     ]
    },
    {
     "name": "stdout",
     "output_type": "stream",
     "text": [
      "Model Was Saved ! Current Best Avg. Dice: 0.5998719334602356 Current Avg. Dice: 0.5998719334602356 Current Avg. tumor Dice: 0.6364312171936035 Current Avg. lymph Dice: 0.5599482655525208\n"
     ]
    },
    {
     "name": "stderr",
     "output_type": "stream",
     "text": [
      "Training (4255 / 18000 Steps) (loss=0.34145): 100%|██████████| 76/76 [03:03<00:00,  2.42s/it]\n",
      "Validate (4256 / 10 Steps): 100%|██████████| 22/22 [01:38<00:00,  4.47s/it]<00:33,  1.05s/it]\n",
      "Training (4300 / 18000 Steps) (loss=0.39735):  59%|█████▉    | 45/76 [02:31<15:48, 30.59s/it]"
     ]
    },
    {
     "name": "stdout",
     "output_type": "stream",
     "text": [
      "Model Was Not Saved ! Current Best Avg. Dice: 0.5998719334602356 Current Avg. Dice: 0.5854535698890686 Current Avg. tumor Dice: 0.6191563606262207 Current Avg. lymph Dice: 0.549778938293457\n"
     ]
    },
    {
     "name": "stderr",
     "output_type": "stream",
     "text": [
      "Training (4331 / 18000 Steps) (loss=0.65521): 100%|██████████| 76/76 [03:04<00:00,  2.43s/it]\n",
      "Validate (4332 / 10 Steps): 100%|██████████| 22/22 [01:38<00:00,  4.46s/it]<00:08,  1.01s/it]\n",
      "Training (4400 / 18000 Steps) (loss=0.55783):  91%|█████████ | 69/76 [02:54<03:33, 30.47s/it]"
     ]
    },
    {
     "name": "stdout",
     "output_type": "stream",
     "text": [
      "Model Was Not Saved ! Current Best Avg. Dice: 0.5998719334602356 Current Avg. Dice: 0.5658316016197205 Current Avg. tumor Dice: 0.6075682640075684 Current Avg. lymph Dice: 0.5239104628562927\n"
     ]
    },
    {
     "name": "stderr",
     "output_type": "stream",
     "text": [
      "Training (4407 / 18000 Steps) (loss=0.25913): 100%|██████████| 76/76 [03:02<00:00,  2.40s/it]\n",
      "Training (4483 / 18000 Steps) (loss=0.21403): 100%|██████████| 76/76 [01:23<00:00,  1.10s/it]\n",
      "Validate (4484 / 10 Steps): 100%|██████████| 22/22 [01:37<00:00,  4.44s/it]<01:01,  1.03s/it]\n",
      "Training (4500 / 18000 Steps) (loss=0.43733):  22%|██▏       | 17/76 [02:01<30:12, 30.73s/it]"
     ]
    },
    {
     "name": "stdout",
     "output_type": "stream",
     "text": [
      "Model Was Saved ! Current Best Avg. Dice: 0.6038233041763306 Current Avg. Dice: 0.6038233041763306 Current Avg. tumor Dice: 0.634624183177948 Current Avg. lymph Dice: 0.5686069130897522\n"
     ]
    },
    {
     "name": "stderr",
     "output_type": "stream",
     "text": [
      "Training (4559 / 18000 Steps) (loss=0.58846): 100%|██████████| 76/76 [03:03<00:00,  2.42s/it]\n",
      "Validate (4560 / 10 Steps): 100%|██████████| 22/22 [01:37<00:00,  4.45s/it]<00:37,  1.05s/it]\n",
      "Training (4600 / 18000 Steps) (loss=0.25817):  54%|█████▍    | 41/76 [02:26<17:48, 30.53s/it]"
     ]
    },
    {
     "name": "stdout",
     "output_type": "stream",
     "text": [
      "Model Was Not Saved ! Current Best Avg. Dice: 0.6038233041763306 Current Avg. Dice: 0.5724716186523438 Current Avg. tumor Dice: 0.6044957637786865 Current Avg. lymph Dice: 0.524517297744751\n"
     ]
    },
    {
     "name": "stderr",
     "output_type": "stream",
     "text": [
      "Training (4635 / 18000 Steps) (loss=0.41386): 100%|██████████| 76/76 [03:02<00:00,  2.40s/it]\n",
      "Validate (4636 / 10 Steps): 100%|██████████| 22/22 [01:38<00:00,  4.46s/it]<00:12,  1.02s/it]\n",
      "Training (4700 / 18000 Steps) (loss=0.58434):  86%|████████▌ | 65/76 [02:50<05:36, 30.56s/it]"
     ]
    },
    {
     "name": "stdout",
     "output_type": "stream",
     "text": [
      "Model Was Not Saved ! Current Best Avg. Dice: 0.6038233041763306 Current Avg. Dice: 0.5604867935180664 Current Avg. tumor Dice: 0.6063218712806702 Current Avg. lymph Dice: 0.5033006072044373\n"
     ]
    },
    {
     "name": "stderr",
     "output_type": "stream",
     "text": [
      "Training (4711 / 18000 Steps) (loss=0.51998): 100%|██████████| 76/76 [03:02<00:00,  2.40s/it]\n",
      "Training (4787 / 18000 Steps) (loss=0.36898): 100%|██████████| 76/76 [01:24<00:00,  1.11s/it]\n",
      "Validate (4788 / 10 Steps): 100%|██████████| 22/22 [01:38<00:00,  4.47s/it]<01:10,  1.09s/it]\n",
      "Training (4800 / 18000 Steps) (loss=0.45237):  17%|█▋        | 13/76 [01:56<32:27, 30.92s/it]"
     ]
    },
    {
     "name": "stdout",
     "output_type": "stream",
     "text": [
      "Model Was Not Saved ! Current Best Avg. Dice: 0.6038233041763306 Current Avg. Dice: 0.5108165144920349 Current Avg. tumor Dice: 0.5282617211341858 Current Avg. lymph Dice: 0.4858454465866089\n"
     ]
    },
    {
     "name": "stderr",
     "output_type": "stream",
     "text": [
      "Training (4863 / 18000 Steps) (loss=0.37251): 100%|██████████| 76/76 [03:02<00:00,  2.40s/it]\n",
      "Validate (4864 / 10 Steps): 100%|██████████| 22/22 [01:38<00:00,  4.46s/it]<00:40,  1.00s/it]\n",
      "Training (4900 / 18000 Steps) (loss=0.34129):  49%|████▊     | 37/76 [02:21<19:47, 30.45s/it]"
     ]
    },
    {
     "name": "stdout",
     "output_type": "stream",
     "text": [
      "Model Was Not Saved ! Current Best Avg. Dice: 0.6038233041763306 Current Avg. Dice: 0.5917155146598816 Current Avg. tumor Dice: 0.637999415397644 Current Avg. lymph Dice: 0.5385603308677673\n"
     ]
    },
    {
     "name": "stderr",
     "output_type": "stream",
     "text": [
      "Training (4939 / 18000 Steps) (loss=0.44482): 100%|██████████| 76/76 [03:02<00:00,  2.40s/it]\n",
      "Validate (4940 / 10 Steps): 100%|██████████| 22/22 [01:38<00:00,  4.47s/it]<00:17,  1.07s/it]\n",
      "Training (5000 / 18000 Steps) (loss=0.64304):  80%|████████  | 61/76 [02:47<07:38, 30.55s/it]"
     ]
    },
    {
     "name": "stdout",
     "output_type": "stream",
     "text": [
      "Model Was Not Saved ! Current Best Avg. Dice: 0.6038233041763306 Current Avg. Dice: 0.410055935382843 Current Avg. tumor Dice: 0.4539238214492798 Current Avg. lymph Dice: 0.35775014758110046\n"
     ]
    },
    {
     "name": "stderr",
     "output_type": "stream",
     "text": [
      "Training (5015 / 18000 Steps) (loss=0.55687): 100%|██████████| 76/76 [03:03<00:00,  2.42s/it]\n",
      "Training (5091 / 18000 Steps) (loss=0.53358): 100%|██████████| 76/76 [01:25<00:00,  1.13s/it]\n",
      "Validate (5092 / 10 Steps): 100%|██████████| 22/22 [01:38<00:00,  4.46s/it]01:20,  1.18s/it]\n",
      "Training (5100 / 18000 Steps) (loss=0.44605):  12%|█▏        | 9/76 [01:53<35:58, 32.22s/it]"
     ]
    },
    {
     "name": "stdout",
     "output_type": "stream",
     "text": [
      "Model Was Saved ! Current Best Avg. Dice: 0.6169978380203247 Current Avg. Dice: 0.6169978380203247 Current Avg. tumor Dice: 0.6504678130149841 Current Avg. lymph Dice: 0.577551543712616\n"
     ]
    },
    {
     "name": "stderr",
     "output_type": "stream",
     "text": [
      "Training (5167 / 18000 Steps) (loss=0.57122): 100%|██████████| 76/76 [03:03<00:00,  2.42s/it]\n",
      "Validate (5168 / 10 Steps): 100%|██████████| 22/22 [01:37<00:00,  4.44s/it]<00:45,  1.03s/it]\n",
      "Training (5200 / 18000 Steps) (loss=0.48954):  43%|████▎     | 33/76 [02:18<22:02, 30.76s/it]"
     ]
    },
    {
     "name": "stdout",
     "output_type": "stream",
     "text": [
      "Model Was Saved ! Current Best Avg. Dice: 0.6180263161659241 Current Avg. Dice: 0.6180263161659241 Current Avg. tumor Dice: 0.6664484739303589 Current Avg. lymph Dice: 0.5603755712509155\n"
     ]
    },
    {
     "name": "stderr",
     "output_type": "stream",
     "text": [
      "Training (5243 / 18000 Steps) (loss=0.66725): 100%|██████████| 76/76 [03:03<00:00,  2.42s/it]\n",
      "Validate (5244 / 10 Steps): 100%|██████████| 22/22 [01:38<00:00,  4.46s/it]<00:20,  1.05s/it]\n",
      "Training (5300 / 18000 Steps) (loss=0.66706):  75%|███████▌  | 57/76 [02:44<09:39, 30.51s/it]"
     ]
    },
    {
     "name": "stdout",
     "output_type": "stream",
     "text": [
      "Model Was Not Saved ! Current Best Avg. Dice: 0.6180263161659241 Current Avg. Dice: 0.6137662529945374 Current Avg. tumor Dice: 0.6419686675071716 Current Avg. lymph Dice: 0.5740875005722046\n"
     ]
    },
    {
     "name": "stderr",
     "output_type": "stream",
     "text": [
      "Training (5319 / 18000 Steps) (loss=0.56008): 100%|██████████| 76/76 [03:03<00:00,  2.42s/it]\n",
      "Training (5395 / 18000 Steps) (loss=0.49088): 100%|██████████| 76/76 [01:24<00:00,  1.11s/it]\n",
      "Validate (5396 / 10 Steps): 100%|██████████| 22/22 [01:38<00:00,  4.46s/it]01:55,  1.60s/it]\n",
      "Training (5400 / 18000 Steps) (loss=0.44103):   7%|▋         | 5/76 [01:47<43:31, 36.78s/it]"
     ]
    },
    {
     "name": "stdout",
     "output_type": "stream",
     "text": [
      "Model Was Not Saved ! Current Best Avg. Dice: 0.6180263161659241 Current Avg. Dice: 0.5856789946556091 Current Avg. tumor Dice: 0.6239331364631653 Current Avg. lymph Dice: 0.5283234119415283\n"
     ]
    },
    {
     "name": "stderr",
     "output_type": "stream",
     "text": [
      "Training (5471 / 18000 Steps) (loss=0.44533): 100%|██████████| 76/76 [03:03<00:00,  2.41s/it]\n",
      "Validate (5472 / 10 Steps): 100%|██████████| 22/22 [01:38<00:00,  4.47s/it]<00:49,  1.04s/it]\n",
      "Training (5500 / 18000 Steps) (loss=0.54677):  38%|███▊      | 29/76 [02:13<23:55, 30.55s/it]"
     ]
    },
    {
     "name": "stdout",
     "output_type": "stream",
     "text": [
      "Model Was Not Saved ! Current Best Avg. Dice: 0.6180263161659241 Current Avg. Dice: 0.5480685830116272 Current Avg. tumor Dice: 0.5661324858665466 Current Avg. lymph Dice: 0.5314498543739319\n"
     ]
    },
    {
     "name": "stderr",
     "output_type": "stream",
     "text": [
      "Training (5547 / 18000 Steps) (loss=0.30874): 100%|██████████| 76/76 [03:03<00:00,  2.42s/it]\n",
      "Validate (5548 / 10 Steps): 100%|██████████| 22/22 [01:38<00:00,  4.47s/it]<00:24,  1.04s/it]\n",
      "Training (5600 / 18000 Steps) (loss=0.44996):  70%|██████▉   | 53/76 [02:38<11:42, 30.53s/it]"
     ]
    },
    {
     "name": "stdout",
     "output_type": "stream",
     "text": [
      "Model Was Not Saved ! Current Best Avg. Dice: 0.6180263161659241 Current Avg. Dice: 0.47912347316741943 Current Avg. tumor Dice: 0.5315293669700623 Current Avg. lymph Dice: 0.41021350026130676\n"
     ]
    },
    {
     "name": "stderr",
     "output_type": "stream",
     "text": [
      "Training (5623 / 18000 Steps) (loss=0.31684): 100%|██████████| 76/76 [03:02<00:00,  2.40s/it]\n",
      "Training (5699 / 18000 Steps) (loss=0.37131): 100%|██████████| 76/76 [01:23<00:00,  1.10s/it]\n",
      "Validate (5700 / 10 Steps): 100%|██████████| 22/22 [01:38<00:00,  4.47s/it]?, ?it/s]\n",
      "Training (5700 / 18000 Steps) (loss=0.63431):   1%|▏         | 1/76 [01:43<2:09:48, 103.85s/it]"
     ]
    },
    {
     "name": "stdout",
     "output_type": "stream",
     "text": [
      "Model Was Not Saved ! Current Best Avg. Dice: 0.6180263161659241 Current Avg. Dice: 0.582746684551239 Current Avg. tumor Dice: 0.6261967420578003 Current Avg. lymph Dice: 0.535372257232666\n"
     ]
    },
    {
     "name": "stderr",
     "output_type": "stream",
     "text": [
      "Training (5775 / 18000 Steps) (loss=0.57678): 100%|██████████| 76/76 [03:01<00:00,  2.38s/it]  \n",
      "Validate (5776 / 10 Steps): 100%|██████████| 22/22 [01:37<00:00,  4.45s/it]<00:52,  1.00s/it]\n",
      "Training (5800 / 18000 Steps) (loss=0.56546):  33%|███▎      | 25/76 [02:08<25:57, 30.55s/it]"
     ]
    },
    {
     "name": "stdout",
     "output_type": "stream",
     "text": [
      "Model Was Not Saved ! Current Best Avg. Dice: 0.6180263161659241 Current Avg. Dice: 0.5853520035743713 Current Avg. tumor Dice: 0.6347493529319763 Current Avg. lymph Dice: 0.5316200256347656\n"
     ]
    },
    {
     "name": "stderr",
     "output_type": "stream",
     "text": [
      "Training (5851 / 18000 Steps) (loss=0.39584): 100%|██████████| 76/76 [03:01<00:00,  2.39s/it]\n",
      "Validate (5852 / 10 Steps): 100%|██████████| 22/22 [01:38<00:00,  4.47s/it]<00:29,  1.04s/it]\n",
      "Training (5900 / 18000 Steps) (loss=0.20890):  64%|██████▍   | 49/76 [02:34<13:45, 30.59s/it]"
     ]
    },
    {
     "name": "stdout",
     "output_type": "stream",
     "text": [
      "Model Was Not Saved ! Current Best Avg. Dice: 0.6180263161659241 Current Avg. Dice: 0.5794817209243774 Current Avg. tumor Dice: 0.6045060157775879 Current Avg. lymph Dice: 0.5418365001678467\n"
     ]
    },
    {
     "name": "stderr",
     "output_type": "stream",
     "text": [
      "Training (5927 / 18000 Steps) (loss=0.66689): 100%|██████████| 76/76 [03:02<00:00,  2.40s/it]\n",
      "Validate (5928 / 10 Steps): 100%|██████████| 22/22 [01:38<00:00,  4.46s/it]<00:03,  1.02it/s]\n",
      "Training (6000 / 18000 Steps) (loss=0.56140):  96%|█████████▌| 73/76 [02:59<01:31, 30.49s/it]"
     ]
    },
    {
     "name": "stdout",
     "output_type": "stream",
     "text": [
      "Model Was Not Saved ! Current Best Avg. Dice: 0.6180263161659241 Current Avg. Dice: 0.5473775863647461 Current Avg. tumor Dice: 0.5764737129211426 Current Avg. lymph Dice: 0.5261968970298767\n"
     ]
    },
    {
     "name": "stderr",
     "output_type": "stream",
     "text": [
      "Training (6003 / 18000 Steps) (loss=0.38712): 100%|██████████| 76/76 [03:02<00:00,  2.40s/it]\n",
      "Training (6079 / 18000 Steps) (loss=0.43886): 100%|██████████| 76/76 [01:23<00:00,  1.10s/it]\n",
      "Validate (6080 / 10 Steps): 100%|██████████| 22/22 [01:38<00:00,  4.46s/it]<00:56,  1.01s/it]\n",
      "Training (6100 / 18000 Steps) (loss=0.43251):  28%|██▊       | 21/76 [02:04<27:58, 30.53s/it]"
     ]
    },
    {
     "name": "stdout",
     "output_type": "stream",
     "text": [
      "Model Was Not Saved ! Current Best Avg. Dice: 0.6180263161659241 Current Avg. Dice: 0.5811704993247986 Current Avg. tumor Dice: 0.6441704630851746 Current Avg. lymph Dice: 0.5145295858383179\n"
     ]
    },
    {
     "name": "stderr",
     "output_type": "stream",
     "text": [
      "Training (6155 / 18000 Steps) (loss=0.62707): 100%|██████████| 76/76 [03:01<00:00,  2.38s/it]\n",
      "Validate (6156 / 10 Steps): 100%|██████████| 22/22 [01:38<00:00,  4.48s/it]<00:33,  1.04s/it]\n",
      "Training (6200 / 18000 Steps) (loss=0.44049):  59%|█████▉    | 45/76 [02:30<15:50, 30.66s/it]"
     ]
    },
    {
     "name": "stdout",
     "output_type": "stream",
     "text": [
      "Model Was Not Saved ! Current Best Avg. Dice: 0.6180263161659241 Current Avg. Dice: 0.5765345096588135 Current Avg. tumor Dice: 0.6026734113693237 Current Avg. lymph Dice: 0.5487673878669739\n"
     ]
    },
    {
     "name": "stderr",
     "output_type": "stream",
     "text": [
      "Training (6231 / 18000 Steps) (loss=0.47955): 100%|██████████| 76/76 [03:02<00:00,  2.40s/it]\n",
      "Validate (6232 / 10 Steps): 100%|██████████| 22/22 [01:38<00:00,  4.46s/it]<00:08,  1.03s/it]\n",
      "Training (6300 / 18000 Steps) (loss=0.59581):  91%|█████████ | 69/76 [02:55<03:33, 30.47s/it]"
     ]
    },
    {
     "name": "stdout",
     "output_type": "stream",
     "text": [
      "Model Was Not Saved ! Current Best Avg. Dice: 0.6180263161659241 Current Avg. Dice: 0.5444720983505249 Current Avg. tumor Dice: 0.6121149659156799 Current Avg. lymph Dice: 0.46800151467323303\n"
     ]
    },
    {
     "name": "stderr",
     "output_type": "stream",
     "text": [
      "Training (6307 / 18000 Steps) (loss=0.42497): 100%|██████████| 76/76 [03:03<00:00,  2.41s/it]\n",
      "Training (6383 / 18000 Steps) (loss=0.57122): 100%|██████████| 76/76 [01:24<00:00,  1.11s/it]\n",
      "Validate (6384 / 10 Steps): 100%|██████████| 22/22 [01:38<00:00,  4.47s/it]<00:58,  1.03it/s]\n",
      "Training (6400 / 18000 Steps) (loss=0.66688):  22%|██▏       | 17/76 [02:00<30:11, 30.70s/it]"
     ]
    },
    {
     "name": "stdout",
     "output_type": "stream",
     "text": [
      "Model Was Not Saved ! Current Best Avg. Dice: 0.6180263161659241 Current Avg. Dice: 0.5899775624275208 Current Avg. tumor Dice: 0.6301056742668152 Current Avg. lymph Dice: 0.5547600984573364\n"
     ]
    },
    {
     "name": "stderr",
     "output_type": "stream",
     "text": [
      "Training (6459 / 18000 Steps) (loss=0.61845): 100%|██████████| 76/76 [03:01<00:00,  2.39s/it]\n",
      "Validate (6460 / 10 Steps): 100%|██████████| 22/22 [01:38<00:00,  4.46s/it]<00:38,  1.06s/it]\n",
      "Training (6500 / 18000 Steps) (loss=0.54111):  54%|█████▍    | 41/76 [02:26<17:48, 30.53s/it]"
     ]
    },
    {
     "name": "stdout",
     "output_type": "stream",
     "text": [
      "Model Was Not Saved ! Current Best Avg. Dice: 0.6180263161659241 Current Avg. Dice: 0.5650610327720642 Current Avg. tumor Dice: 0.594460129737854 Current Avg. lymph Dice: 0.5158345103263855\n"
     ]
    },
    {
     "name": "stderr",
     "output_type": "stream",
     "text": [
      "Training (6535 / 18000 Steps) (loss=0.69132): 100%|██████████| 76/76 [03:02<00:00,  2.40s/it]\n",
      "Validate (6536 / 10 Steps): 100%|██████████| 22/22 [01:38<00:00,  4.46s/it]<00:13,  1.09s/it]\n",
      "Training (6600 / 18000 Steps) (loss=0.48212):  86%|████████▌ | 65/76 [02:50<05:36, 30.62s/it]"
     ]
    },
    {
     "name": "stdout",
     "output_type": "stream",
     "text": [
      "Model Was Not Saved ! Current Best Avg. Dice: 0.6180263161659241 Current Avg. Dice: 0.6067860126495361 Current Avg. tumor Dice: 0.6376875042915344 Current Avg. lymph Dice: 0.568904459476471\n"
     ]
    },
    {
     "name": "stderr",
     "output_type": "stream",
     "text": [
      "Training (6611 / 18000 Steps) (loss=0.40478): 100%|██████████| 76/76 [03:02<00:00,  2.40s/it]\n",
      "Training (6687 / 18000 Steps) (loss=0.46605): 100%|██████████| 76/76 [01:24<00:00,  1.11s/it]\n",
      "Validate (6688 / 10 Steps): 100%|██████████| 22/22 [01:37<00:00,  4.45s/it]<01:08,  1.07s/it]\n",
      "Training (6700 / 18000 Steps) (loss=0.43354):  17%|█▋        | 13/76 [01:55<32:15, 30.71s/it]"
     ]
    },
    {
     "name": "stdout",
     "output_type": "stream",
     "text": [
      "Model Was Not Saved ! Current Best Avg. Dice: 0.6180263161659241 Current Avg. Dice: 0.5901029109954834 Current Avg. tumor Dice: 0.6279076337814331 Current Avg. lymph Dice: 0.5467221736907959\n"
     ]
    },
    {
     "name": "stderr",
     "output_type": "stream",
     "text": [
      "Training (6763 / 18000 Steps) (loss=0.33934): 100%|██████████| 76/76 [03:02<00:00,  2.40s/it]\n",
      "Validate (6764 / 10 Steps): 100%|██████████| 22/22 [01:37<00:00,  4.45s/it]<00:43,  1.08s/it]\n",
      "Training (6800 / 18000 Steps) (loss=0.55459):  49%|████▊     | 37/76 [02:21<19:48, 30.46s/it]"
     ]
    },
    {
     "name": "stdout",
     "output_type": "stream",
     "text": [
      "Model Was Not Saved ! Current Best Avg. Dice: 0.6180263161659241 Current Avg. Dice: 0.5170794129371643 Current Avg. tumor Dice: 0.5695364475250244 Current Avg. lymph Dice: 0.4536510109901428\n"
     ]
    },
    {
     "name": "stderr",
     "output_type": "stream",
     "text": [
      "Training (6839 / 18000 Steps) (loss=0.66718): 100%|██████████| 76/76 [03:01<00:00,  2.39s/it]\n",
      "Validate (6840 / 10 Steps): 100%|██████████| 22/22 [01:38<00:00,  4.48s/it]<00:16,  1.04s/it]\n",
      "Training (6900 / 18000 Steps) (loss=0.65728):  80%|████████  | 61/76 [02:47<07:39, 30.66s/it]"
     ]
    },
    {
     "name": "stdout",
     "output_type": "stream",
     "text": [
      "Model Was Not Saved ! Current Best Avg. Dice: 0.6180263161659241 Current Avg. Dice: 0.5526747107505798 Current Avg. tumor Dice: 0.5568730235099792 Current Avg. lymph Dice: 0.5549976825714111\n"
     ]
    },
    {
     "name": "stderr",
     "output_type": "stream",
     "text": [
      "Training (6915 / 18000 Steps) (loss=0.53609): 100%|██████████| 76/76 [03:03<00:00,  2.41s/it]\n",
      "Training (6991 / 18000 Steps) (loss=0.56569): 100%|██████████| 76/76 [01:22<00:00,  1.09s/it]\n",
      "Validate (6992 / 10 Steps): 100%|██████████| 22/22 [01:38<00:00,  4.46s/it]01:17,  1.14s/it]\n",
      "Training (7000 / 18000 Steps) (loss=0.27310):  12%|█▏        | 9/76 [01:52<35:38, 31.91s/it]"
     ]
    },
    {
     "name": "stdout",
     "output_type": "stream",
     "text": [
      "Model Was Not Saved ! Current Best Avg. Dice: 0.6180263161659241 Current Avg. Dice: 0.5391538143157959 Current Avg. tumor Dice: 0.5708014369010925 Current Avg. lymph Dice: 0.5078537464141846\n"
     ]
    },
    {
     "name": "stderr",
     "output_type": "stream",
     "text": [
      "Training (7067 / 18000 Steps) (loss=0.29065): 100%|██████████| 76/76 [03:00<00:00,  2.37s/it]\n",
      "Validate (7068 / 10 Steps): 100%|██████████| 22/22 [01:38<00:00,  4.47s/it]<00:43,  1.01it/s]\n",
      "Training (7100 / 18000 Steps) (loss=0.33325):  43%|████▎     | 33/76 [02:15<21:55, 30.60s/it]"
     ]
    },
    {
     "name": "stdout",
     "output_type": "stream",
     "text": [
      "Model Was Not Saved ! Current Best Avg. Dice: 0.6180263161659241 Current Avg. Dice: 0.5684581995010376 Current Avg. tumor Dice: 0.5929358601570129 Current Avg. lymph Dice: 0.5421048402786255\n"
     ]
    },
    {
     "name": "stderr",
     "output_type": "stream",
     "text": [
      "Training (7143 / 18000 Steps) (loss=0.51890): 100%|██████████| 76/76 [02:57<00:00,  2.33s/it]\n",
      "Validate (7144 / 10 Steps): 100%|██████████| 22/22 [01:37<00:00,  4.43s/it]<00:20,  1.00s/it]\n",
      "Training (7200 / 18000 Steps) (loss=0.34629):  75%|███████▌  | 57/76 [02:38<09:35, 30.28s/it]"
     ]
    },
    {
     "name": "stdout",
     "output_type": "stream",
     "text": [
      "Model Was Not Saved ! Current Best Avg. Dice: 0.6180263161659241 Current Avg. Dice: 0.5923593640327454 Current Avg. tumor Dice: 0.6320525407791138 Current Avg. lymph Dice: 0.554328203201294\n"
     ]
    },
    {
     "name": "stderr",
     "output_type": "stream",
     "text": [
      "Training (7219 / 18000 Steps) (loss=0.32137): 100%|██████████| 76/76 [02:56<00:00,  2.32s/it]\n",
      "Training (7295 / 18000 Steps) (loss=0.30217): 100%|██████████| 76/76 [01:19<00:00,  1.04s/it]\n",
      "Validate (7296 / 10 Steps): 100%|██████████| 22/22 [01:37<00:00,  4.42s/it]01:51,  1.55s/it]\n",
      "Training (7300 / 18000 Steps) (loss=0.52486):   7%|▋         | 5/76 [01:46<43:03, 36.39s/it]"
     ]
    },
    {
     "name": "stdout",
     "output_type": "stream",
     "text": [
      "Model Was Not Saved ! Current Best Avg. Dice: 0.6180263161659241 Current Avg. Dice: 0.5881971716880798 Current Avg. tumor Dice: 0.6158429384231567 Current Avg. lymph Dice: 0.5482762455940247\n"
     ]
    },
    {
     "name": "stderr",
     "output_type": "stream",
     "text": [
      "Training (7371 / 18000 Steps) (loss=0.49105): 100%|██████████| 76/76 [02:56<00:00,  2.32s/it]\n",
      "Validate (7372 / 10 Steps): 100%|██████████| 22/22 [01:37<00:00,  4.41s/it]<00:45,  1.05it/s]\n",
      "Training (7400 / 18000 Steps) (loss=0.66875):  38%|███▊      | 29/76 [02:09<23:37, 30.15s/it]"
     ]
    },
    {
     "name": "stdout",
     "output_type": "stream",
     "text": [
      "Model Was Not Saved ! Current Best Avg. Dice: 0.6180263161659241 Current Avg. Dice: 0.5950761437416077 Current Avg. tumor Dice: 0.6232091784477234 Current Avg. lymph Dice: 0.5587589740753174\n"
     ]
    },
    {
     "name": "stderr",
     "output_type": "stream",
     "text": [
      "Training (7447 / 18000 Steps) (loss=0.26935): 100%|██████████| 76/76 [02:54<00:00,  2.29s/it]\n",
      "Validate (7448 / 10 Steps): 100%|██████████| 22/22 [01:37<00:00,  4.43s/it]<00:22,  1.05it/s]\n",
      "Training (7500 / 18000 Steps) (loss=0.46157):  70%|██████▉   | 53/76 [02:33<11:35, 30.22s/it]"
     ]
    },
    {
     "name": "stdout",
     "output_type": "stream",
     "text": [
      "Model Was Not Saved ! Current Best Avg. Dice: 0.6180263161659241 Current Avg. Dice: 0.581603467464447 Current Avg. tumor Dice: 0.6420818567276001 Current Avg. lymph Dice: 0.5165683031082153\n"
     ]
    },
    {
     "name": "stderr",
     "output_type": "stream",
     "text": [
      "Training (7523 / 18000 Steps) (loss=0.57619): 100%|██████████| 76/76 [02:55<00:00,  2.31s/it]\n",
      "Training (7599 / 18000 Steps) (loss=0.61938): 100%|██████████| 76/76 [01:19<00:00,  1.05s/it]\n",
      "Validate (7600 / 10 Steps): 100%|██████████| 22/22 [01:37<00:00,  4.45s/it]?, ?it/s]\n",
      "Training (7600 / 18000 Steps) (loss=0.66830):   1%|▏         | 1/76 [01:42<2:08:44, 102.99s/it]"
     ]
    },
    {
     "name": "stdout",
     "output_type": "stream",
     "text": [
      "Model Was Not Saved ! Current Best Avg. Dice: 0.6180263161659241 Current Avg. Dice: 0.5389001965522766 Current Avg. tumor Dice: 0.5799357295036316 Current Avg. lymph Dice: 0.49658143520355225\n"
     ]
    },
    {
     "name": "stderr",
     "output_type": "stream",
     "text": [
      "Training (7675 / 18000 Steps) (loss=0.18915): 100%|██████████| 76/76 [02:56<00:00,  2.32s/it]  \n",
      "Validate (7676 / 10 Steps): 100%|██████████| 22/22 [01:37<00:00,  4.44s/it]<00:48,  1.06it/s]\n",
      "Training (7700 / 18000 Steps) (loss=0.52645):  33%|███▎      | 25/76 [02:06<25:44, 30.28s/it]"
     ]
    },
    {
     "name": "stdout",
     "output_type": "stream",
     "text": [
      "Model Was Not Saved ! Current Best Avg. Dice: 0.6180263161659241 Current Avg. Dice: 0.6112343072891235 Current Avg. tumor Dice: 0.6494448781013489 Current Avg. lymph Dice: 0.57118159532547\n"
     ]
    },
    {
     "name": "stderr",
     "output_type": "stream",
     "text": [
      "Training (7751 / 18000 Steps) (loss=0.63381): 100%|██████████| 76/76 [02:56<00:00,  2.33s/it]\n",
      "Validate (7752 / 10 Steps): 100%|██████████| 22/22 [01:37<00:00,  4.45s/it]<00:27,  1.02it/s]\n",
      "Training (7800 / 18000 Steps) (loss=0.66700):  64%|██████▍   | 49/76 [02:31<13:41, 30.43s/it]"
     ]
    },
    {
     "name": "stdout",
     "output_type": "stream",
     "text": [
      "Model Was Not Saved ! Current Best Avg. Dice: 0.6180263161659241 Current Avg. Dice: 0.6079190969467163 Current Avg. tumor Dice: 0.6585143804550171 Current Avg. lymph Dice: 0.5563257932662964\n"
     ]
    },
    {
     "name": "stderr",
     "output_type": "stream",
     "text": [
      "Training (7827 / 18000 Steps) (loss=0.42129): 100%|██████████| 76/76 [02:58<00:00,  2.34s/it]\n",
      "Validate (7828 / 10 Steps): 100%|██████████| 22/22 [01:37<00:00,  4.43s/it]<00:04,  1.01s/it]\n",
      "Training (7900 / 18000 Steps) (loss=0.62201):  96%|█████████▌| 73/76 [02:53<01:30, 30.24s/it]"
     ]
    },
    {
     "name": "stdout",
     "output_type": "stream",
     "text": [
      "Model Was Not Saved ! Current Best Avg. Dice: 0.6180263161659241 Current Avg. Dice: 0.6081996560096741 Current Avg. tumor Dice: 0.6384883522987366 Current Avg. lymph Dice: 0.5758826732635498\n"
     ]
    },
    {
     "name": "stderr",
     "output_type": "stream",
     "text": [
      "Training (7903 / 18000 Steps) (loss=0.44768): 100%|██████████| 76/76 [02:57<00:00,  2.33s/it]\n",
      "Training (7979 / 18000 Steps) (loss=0.49673): 100%|██████████| 76/76 [01:19<00:00,  1.05s/it]\n",
      "Validate (7980 / 10 Steps): 100%|██████████| 22/22 [01:37<00:00,  4.45s/it]<00:55,  1.01it/s]\n",
      "Training (8000 / 18000 Steps) (loss=0.52343):  28%|██▊       | 21/76 [02:02<27:57, 30.50s/it]"
     ]
    },
    {
     "name": "stdout",
     "output_type": "stream",
     "text": [
      "Model Was Not Saved ! Current Best Avg. Dice: 0.6180263161659241 Current Avg. Dice: 0.6146932244300842 Current Avg. tumor Dice: 0.6416894793510437 Current Avg. lymph Dice: 0.5781007409095764\n"
     ]
    },
    {
     "name": "stderr",
     "output_type": "stream",
     "text": [
      "Training (8055 / 18000 Steps) (loss=0.47472): 100%|██████████| 76/76 [02:56<00:00,  2.32s/it]\n",
      "Validate (8056 / 10 Steps): 100%|██████████| 22/22 [01:38<00:00,  4.46s/it]<00:30,  1.03it/s]\n",
      "Training (8100 / 18000 Steps) (loss=0.20205):  59%|█████▉    | 45/76 [02:26<15:42, 30.41s/it]"
     ]
    },
    {
     "name": "stdout",
     "output_type": "stream",
     "text": [
      "Model Was Not Saved ! Current Best Avg. Dice: 0.6180263161659241 Current Avg. Dice: 0.5986275672912598 Current Avg. tumor Dice: 0.6341657042503357 Current Avg. lymph Dice: 0.5526989698410034\n"
     ]
    },
    {
     "name": "stderr",
     "output_type": "stream",
     "text": [
      "Training (8131 / 18000 Steps) (loss=0.31868): 100%|██████████| 76/76 [02:56<00:00,  2.32s/it]\n",
      "Validate (8132 / 10 Steps): 100%|██████████| 22/22 [01:38<00:00,  4.47s/it]<00:07,  1.05it/s]\n",
      "Training (8200 / 18000 Steps) (loss=0.42564):  91%|█████████ | 69/76 [02:51<03:33, 30.48s/it]"
     ]
    },
    {
     "name": "stdout",
     "output_type": "stream",
     "text": [
      "Model Was Not Saved ! Current Best Avg. Dice: 0.6180263161659241 Current Avg. Dice: 0.6060836911201477 Current Avg. tumor Dice: 0.6485283374786377 Current Avg. lymph Dice: 0.5485634207725525\n"
     ]
    },
    {
     "name": "stderr",
     "output_type": "stream",
     "text": [
      "Training (8207 / 18000 Steps) (loss=0.23549): 100%|██████████| 76/76 [02:58<00:00,  2.35s/it]\n",
      "Training (8283 / 18000 Steps) (loss=0.54882): 100%|██████████| 76/76 [01:17<00:00,  1.02s/it]\n",
      "Validate (8284 / 10 Steps): 100%|██████████| 22/22 [01:38<00:00,  4.46s/it]<00:56,  1.06it/s]\n",
      "Training (8300 / 18000 Steps) (loss=0.67131):  22%|██▏       | 17/76 [01:58<29:58, 30.48s/it]"
     ]
    },
    {
     "name": "stdout",
     "output_type": "stream",
     "text": [
      "Model Was Not Saved ! Current Best Avg. Dice: 0.6180263161659241 Current Avg. Dice: 0.5906431078910828 Current Avg. tumor Dice: 0.6313931941986084 Current Avg. lymph Dice: 0.5368289947509766\n"
     ]
    },
    {
     "name": "stderr",
     "output_type": "stream",
     "text": [
      "Training (8359 / 18000 Steps) (loss=0.47890): 100%|██████████| 76/76 [02:57<00:00,  2.33s/it]\n",
      "Validate (8360 / 10 Steps): 100%|██████████| 22/22 [01:38<00:00,  4.46s/it]<00:34,  1.03it/s]\n",
      "Training (8400 / 18000 Steps) (loss=0.41633):  54%|█████▍    | 41/76 [02:22<17:48, 30.54s/it]"
     ]
    },
    {
     "name": "stdout",
     "output_type": "stream",
     "text": [
      "Model Was Not Saved ! Current Best Avg. Dice: 0.6180263161659241 Current Avg. Dice: 0.5903098583221436 Current Avg. tumor Dice: 0.6273006200790405 Current Avg. lymph Dice: 0.5522825121879578\n"
     ]
    },
    {
     "name": "stderr",
     "output_type": "stream",
     "text": [
      "Training (8435 / 18000 Steps) (loss=0.47747): 100%|██████████| 76/76 [02:57<00:00,  2.33s/it]\n",
      "Validate (8436 / 10 Steps): 100%|██████████| 22/22 [01:37<00:00,  4.43s/it]<00:11,  1.07it/s]\n",
      "Training (8500 / 18000 Steps) (loss=0.67186):  86%|████████▌ | 65/76 [02:45<05:32, 30.24s/it]"
     ]
    },
    {
     "name": "stdout",
     "output_type": "stream",
     "text": [
      "Model Was Not Saved ! Current Best Avg. Dice: 0.6180263161659241 Current Avg. Dice: 0.569343626499176 Current Avg. tumor Dice: 0.6068151593208313 Current Avg. lymph Dice: 0.5329131484031677\n"
     ]
    },
    {
     "name": "stderr",
     "output_type": "stream",
     "text": [
      "Training (8511 / 18000 Steps) (loss=0.49185): 100%|██████████| 76/76 [02:56<00:00,  2.32s/it]\n",
      "Training (8587 / 18000 Steps) (loss=0.66692): 100%|██████████| 76/76 [01:19<00:00,  1.04s/it]\n",
      "Validate (8588 / 10 Steps): 100%|██████████| 22/22 [01:37<00:00,  4.45s/it]<01:03,  1.01it/s]\n",
      "Training (8600 / 18000 Steps) (loss=0.64478):  17%|█▋        | 13/76 [01:55<32:25, 30.88s/it]"
     ]
    },
    {
     "name": "stdout",
     "output_type": "stream",
     "text": [
      "Model Was Saved ! Current Best Avg. Dice: 0.619704008102417 Current Avg. Dice: 0.619704008102417 Current Avg. tumor Dice: 0.6481719017028809 Current Avg. lymph Dice: 0.5859794616699219\n"
     ]
    },
    {
     "name": "stderr",
     "output_type": "stream",
     "text": [
      "Training (8663 / 18000 Steps) (loss=0.40913): 100%|██████████| 76/76 [02:58<00:00,  2.35s/it]\n",
      "Validate (8664 / 10 Steps): 100%|██████████| 22/22 [01:37<00:00,  4.44s/it]<00:38,  1.05it/s]\n",
      "Training (8700 / 18000 Steps) (loss=0.67380):  49%|████▊     | 37/76 [02:18<19:42, 30.32s/it]"
     ]
    },
    {
     "name": "stdout",
     "output_type": "stream",
     "text": [
      "Model Was Not Saved ! Current Best Avg. Dice: 0.619704008102417 Current Avg. Dice: 0.5712574124336243 Current Avg. tumor Dice: 0.6041006445884705 Current Avg. lymph Dice: 0.541519284248352\n"
     ]
    },
    {
     "name": "stderr",
     "output_type": "stream",
     "text": [
      "Training (8739 / 18000 Steps) (loss=0.64042): 100%|██████████| 76/76 [02:57<00:00,  2.33s/it]\n",
      "Validate (8740 / 10 Steps): 100%|██████████| 22/22 [01:37<00:00,  4.44s/it]<00:16,  1.02s/it]\n",
      "Training (8800 / 18000 Steps) (loss=0.58573):  80%|████████  | 61/76 [02:44<07:34, 30.31s/it]"
     ]
    },
    {
     "name": "stdout",
     "output_type": "stream",
     "text": [
      "Model Was Not Saved ! Current Best Avg. Dice: 0.619704008102417 Current Avg. Dice: 0.5715251564979553 Current Avg. tumor Dice: 0.6149080395698547 Current Avg. lymph Dice: 0.5178772807121277\n"
     ]
    },
    {
     "name": "stderr",
     "output_type": "stream",
     "text": [
      "Training (8815 / 18000 Steps) (loss=0.45057): 100%|██████████| 76/76 [02:59<00:00,  2.36s/it]\n",
      "Training (8891 / 18000 Steps) (loss=0.33547): 100%|██████████| 76/76 [01:19<00:00,  1.05s/it]\n",
      "Validate (8892 / 10 Steps): 100%|██████████| 22/22 [01:37<00:00,  4.43s/it]01:16,  1.12s/it]\n",
      "Training (8900 / 18000 Steps) (loss=0.46066):  12%|█▏        | 9/76 [01:50<35:18, 31.61s/it]"
     ]
    },
    {
     "name": "stdout",
     "output_type": "stream",
     "text": [
      "Model Was Not Saved ! Current Best Avg. Dice: 0.619704008102417 Current Avg. Dice: 0.6040353178977966 Current Avg. tumor Dice: 0.6310069561004639 Current Avg. lymph Dice: 0.5722520351409912\n"
     ]
    },
    {
     "name": "stderr",
     "output_type": "stream",
     "text": [
      "Training (8967 / 18000 Steps) (loss=0.33344): 100%|██████████| 76/76 [02:57<00:00,  2.33s/it]\n",
      "Validate (8968 / 10 Steps): 100%|██████████| 22/22 [01:37<00:00,  4.43s/it]<00:42,  1.04it/s]\n",
      "Training (9000 / 18000 Steps) (loss=0.36809):  43%|████▎     | 33/76 [02:14<21:44, 30.35s/it]"
     ]
    },
    {
     "name": "stdout",
     "output_type": "stream",
     "text": [
      "Model Was Not Saved ! Current Best Avg. Dice: 0.619704008102417 Current Avg. Dice: 0.6148224472999573 Current Avg. tumor Dice: 0.6497381925582886 Current Avg. lymph Dice: 0.5717363953590393\n"
     ]
    },
    {
     "name": "stderr",
     "output_type": "stream",
     "text": [
      "Training (9043 / 18000 Steps) (loss=0.36480): 100%|██████████| 76/76 [02:56<00:00,  2.32s/it]\n",
      "Validate (9044 / 10 Steps): 100%|██████████| 22/22 [01:36<00:00,  4.40s/it]<00:19,  1.04it/s]\n",
      "Training (9100 / 18000 Steps) (loss=0.44461):  75%|███████▌  | 57/76 [02:36<09:31, 30.08s/it]"
     ]
    },
    {
     "name": "stdout",
     "output_type": "stream",
     "text": [
      "Model Was Not Saved ! Current Best Avg. Dice: 0.619704008102417 Current Avg. Dice: 0.5886847972869873 Current Avg. tumor Dice: 0.63099205493927 Current Avg. lymph Dice: 0.54389488697052\n"
     ]
    },
    {
     "name": "stderr",
     "output_type": "stream",
     "text": [
      "Training (9119 / 18000 Steps) (loss=0.22624): 100%|██████████| 76/76 [02:54<00:00,  2.30s/it]\n",
      "Training (9195 / 18000 Steps) (loss=0.51093): 100%|██████████| 76/76 [01:19<00:00,  1.05s/it]\n",
      "Validate (9196 / 10 Steps): 100%|██████████| 22/22 [01:37<00:00,  4.44s/it]01:58,  1.65s/it]\n",
      "Training (9200 / 18000 Steps) (loss=0.56974):   7%|▋         | 5/76 [01:48<43:45, 36.98s/it]"
     ]
    },
    {
     "name": "stdout",
     "output_type": "stream",
     "text": [
      "Model Was Saved ! Current Best Avg. Dice: 0.6229711174964905 Current Avg. Dice: 0.6229711174964905 Current Avg. tumor Dice: 0.6618028283119202 Current Avg. lymph Dice: 0.5743848085403442\n"
     ]
    },
    {
     "name": "stderr",
     "output_type": "stream",
     "text": [
      "Training (9271 / 18000 Steps) (loss=0.30533): 100%|██████████| 76/76 [02:57<00:00,  2.34s/it]\n",
      "Validate (9272 / 10 Steps): 100%|██████████| 22/22 [01:37<00:00,  4.43s/it]<00:47,  1.00it/s]\n",
      "Training (9300 / 18000 Steps) (loss=0.67034):  38%|███▊      | 29/76 [02:10<23:41, 30.24s/it]"
     ]
    },
    {
     "name": "stdout",
     "output_type": "stream",
     "text": [
      "Model Was Not Saved ! Current Best Avg. Dice: 0.6229711174964905 Current Avg. Dice: 0.5894150137901306 Current Avg. tumor Dice: 0.6244643330574036 Current Avg. lymph Dice: 0.5445383787155151\n"
     ]
    },
    {
     "name": "stderr",
     "output_type": "stream",
     "text": [
      "Training (9347 / 18000 Steps) (loss=0.45338): 100%|██████████| 76/76 [02:56<00:00,  2.32s/it]\n",
      "Validate (9348 / 10 Steps): 100%|██████████| 22/22 [01:38<00:00,  4.47s/it]<00:23,  1.00it/s]\n",
      "Training (9400 / 18000 Steps) (loss=0.36561):  70%|██████▉   | 53/76 [02:35<11:41, 30.51s/it]"
     ]
    },
    {
     "name": "stdout",
     "output_type": "stream",
     "text": [
      "Model Was Not Saved ! Current Best Avg. Dice: 0.6229711174964905 Current Avg. Dice: 0.5727732181549072 Current Avg. tumor Dice: 0.6278422474861145 Current Avg. lymph Dice: 0.5090683698654175\n"
     ]
    },
    {
     "name": "stderr",
     "output_type": "stream",
     "text": [
      "Training (9423 / 18000 Steps) (loss=0.22875): 100%|██████████| 76/76 [02:57<00:00,  2.33s/it]\n",
      "Training (9499 / 18000 Steps) (loss=0.65886): 100%|██████████| 76/76 [01:19<00:00,  1.05s/it]\n",
      "Validate (9500 / 10 Steps): 100%|██████████| 22/22 [01:37<00:00,  4.43s/it]?, ?it/s]\n",
      "Training (9500 / 18000 Steps) (loss=0.35680):   1%|▏         | 1/76 [01:42<2:08:34, 102.86s/it]"
     ]
    },
    {
     "name": "stdout",
     "output_type": "stream",
     "text": [
      "Model Was Not Saved ! Current Best Avg. Dice: 0.6229711174964905 Current Avg. Dice: 0.5770614147186279 Current Avg. tumor Dice: 0.6238101720809937 Current Avg. lymph Dice: 0.5403211116790771\n"
     ]
    },
    {
     "name": "stderr",
     "output_type": "stream",
     "text": [
      "Training (9575 / 18000 Steps) (loss=0.59415): 100%|██████████| 76/76 [02:57<00:00,  2.34s/it]  \n",
      "Validate (9576 / 10 Steps): 100%|██████████| 22/22 [01:38<00:00,  4.46s/it]<00:49,  1.05it/s]\n",
      "Training (9600 / 18000 Steps) (loss=0.26913):  33%|███▎      | 25/76 [02:06<25:51, 30.43s/it]"
     ]
    },
    {
     "name": "stdout",
     "output_type": "stream",
     "text": [
      "Model Was Not Saved ! Current Best Avg. Dice: 0.6229711174964905 Current Avg. Dice: 0.5365102291107178 Current Avg. tumor Dice: 0.5826325416564941 Current Avg. lymph Dice: 0.4984818994998932\n"
     ]
    },
    {
     "name": "stderr",
     "output_type": "stream",
     "text": [
      "Training (9651 / 18000 Steps) (loss=0.58315): 100%|██████████| 76/76 [02:57<00:00,  2.34s/it]\n",
      "Validate (9652 / 10 Steps): 100%|██████████| 22/22 [01:37<00:00,  4.43s/it]<00:26,  1.06it/s]\n",
      "Training (9700 / 18000 Steps) (loss=0.38258):  64%|██████▍   | 49/76 [02:29<13:35, 30.19s/it]"
     ]
    },
    {
     "name": "stdout",
     "output_type": "stream",
     "text": [
      "Model Was Not Saved ! Current Best Avg. Dice: 0.6229711174964905 Current Avg. Dice: 0.6199352145195007 Current Avg. tumor Dice: 0.6562085747718811 Current Avg. lymph Dice: 0.5851037502288818\n"
     ]
    },
    {
     "name": "stderr",
     "output_type": "stream",
     "text": [
      "Training (9727 / 18000 Steps) (loss=0.30998): 100%|██████████| 76/76 [02:56<00:00,  2.32s/it]\n",
      "Validate (9728 / 10 Steps): 100%|██████████| 22/22 [01:38<00:00,  4.47s/it]<00:03,  1.07it/s]\n",
      "Training (9800 / 18000 Steps) (loss=0.57707):  96%|█████████▌| 73/76 [02:54<01:31, 30.54s/it]"
     ]
    },
    {
     "name": "stdout",
     "output_type": "stream",
     "text": [
      "Model Was Not Saved ! Current Best Avg. Dice: 0.6229711174964905 Current Avg. Dice: 0.6216440200805664 Current Avg. tumor Dice: 0.6657088398933411 Current Avg. lymph Dice: 0.5729016065597534\n"
     ]
    },
    {
     "name": "stderr",
     "output_type": "stream",
     "text": [
      "Training (9803 / 18000 Steps) (loss=0.62955): 100%|██████████| 76/76 [02:57<00:00,  2.33s/it]\n",
      "Training (9879 / 18000 Steps) (loss=0.42091): 100%|██████████| 76/76 [01:19<00:00,  1.05s/it]\n",
      "Validate (9880 / 10 Steps): 100%|██████████| 22/22 [01:37<00:00,  4.44s/it]<00:56,  1.01s/it]\n",
      "Training (9900 / 18000 Steps) (loss=0.41872):  28%|██▊       | 21/76 [02:03<27:49, 30.36s/it]"
     ]
    },
    {
     "name": "stdout",
     "output_type": "stream",
     "text": [
      "Model Was Not Saved ! Current Best Avg. Dice: 0.6229711174964905 Current Avg. Dice: 0.6056849956512451 Current Avg. tumor Dice: 0.6532570719718933 Current Avg. lymph Dice: 0.5523617267608643\n"
     ]
    },
    {
     "name": "stderr",
     "output_type": "stream",
     "text": [
      "Training (9955 / 18000 Steps) (loss=0.16690): 100%|██████████| 76/76 [02:58<00:00,  2.34s/it]\n",
      "Validate (9956 / 10 Steps): 100%|██████████| 22/22 [01:38<00:00,  4.47s/it]9<00:32,  1.01s/it]\n",
      "Training (10000 / 18000 Steps) (loss=0.23265):  59%|█████▉    | 45/76 [02:27<15:46, 30.54s/it]"
     ]
    },
    {
     "name": "stdout",
     "output_type": "stream",
     "text": [
      "Model Was Not Saved ! Current Best Avg. Dice: 0.6229711174964905 Current Avg. Dice: 0.6133831143379211 Current Avg. tumor Dice: 0.6431896686553955 Current Avg. lymph Dice: 0.5729904174804688\n"
     ]
    },
    {
     "name": "stderr",
     "output_type": "stream",
     "text": [
      "Training (10031 / 18000 Steps) (loss=0.17585): 100%|██████████| 76/76 [02:58<00:00,  2.35s/it]\n",
      "Validate (10032 / 10 Steps): 100%|██████████| 22/22 [01:38<00:00,  4.47s/it]<00:07,  1.01it/s]\n",
      "Training (10100 / 18000 Steps) (loss=0.46292):  91%|█████████ | 69/76 [02:51<03:33, 30.51s/it]"
     ]
    },
    {
     "name": "stdout",
     "output_type": "stream",
     "text": [
      "Model Was Not Saved ! Current Best Avg. Dice: 0.6229711174964905 Current Avg. Dice: 0.5606598258018494 Current Avg. tumor Dice: 0.5867175459861755 Current Avg. lymph Dice: 0.5387744903564453\n"
     ]
    },
    {
     "name": "stderr",
     "output_type": "stream",
     "text": [
      "Training (10107 / 18000 Steps) (loss=0.19205): 100%|██████████| 76/76 [02:58<00:00,  2.35s/it]\n",
      "Training (10183 / 18000 Steps) (loss=0.56272): 100%|██████████| 76/76 [01:20<00:00,  1.05s/it]\n",
      "Validate (10184 / 10 Steps): 100%|██████████| 22/22 [01:37<00:00,  4.45s/it]<00:59,  1.02it/s]\n",
      "Training (10200 / 18000 Steps) (loss=0.58788):  22%|██▏       | 17/76 [01:59<30:00, 30.51s/it]"
     ]
    },
    {
     "name": "stdout",
     "output_type": "stream",
     "text": [
      "Model Was Not Saved ! Current Best Avg. Dice: 0.6229711174964905 Current Avg. Dice: 0.6222026348114014 Current Avg. tumor Dice: 0.655329167842865 Current Avg. lymph Dice: 0.5820699334144592\n"
     ]
    },
    {
     "name": "stderr",
     "output_type": "stream",
     "text": [
      "Training (10259 / 18000 Steps) (loss=0.47396): 100%|██████████| 76/76 [02:57<00:00,  2.34s/it]\n",
      "Validate (10260 / 10 Steps): 100%|██████████| 22/22 [01:37<00:00,  4.44s/it]<00:35,  1.00it/s]\n",
      "Training (10300 / 18000 Steps) (loss=0.44335):  54%|█████▍    | 41/76 [02:22<17:41, 30.34s/it]"
     ]
    },
    {
     "name": "stdout",
     "output_type": "stream",
     "text": [
      "Model Was Not Saved ! Current Best Avg. Dice: 0.6229711174964905 Current Avg. Dice: 0.5999193787574768 Current Avg. tumor Dice: 0.6401779055595398 Current Avg. lymph Dice: 0.5496690273284912\n"
     ]
    },
    {
     "name": "stderr",
     "output_type": "stream",
     "text": [
      "Training (10335 / 18000 Steps) (loss=0.56380): 100%|██████████| 76/76 [02:56<00:00,  2.32s/it]\n",
      "Validate (10336 / 10 Steps): 100%|██████████| 22/22 [01:38<00:00,  4.46s/it]<00:12,  1.05s/it]\n",
      "Training (10400 / 18000 Steps) (loss=0.25022):  86%|████████▌ | 65/76 [02:46<05:36, 30.55s/it]"
     ]
    },
    {
     "name": "stdout",
     "output_type": "stream",
     "text": [
      "Model Was Not Saved ! Current Best Avg. Dice: 0.6229711174964905 Current Avg. Dice: 0.6059311032295227 Current Avg. tumor Dice: 0.6530067920684814 Current Avg. lymph Dice: 0.5661401748657227\n"
     ]
    },
    {
     "name": "stderr",
     "output_type": "stream",
     "text": [
      "Training (10411 / 18000 Steps) (loss=0.49138): 100%|██████████| 76/76 [02:57<00:00,  2.33s/it]\n",
      "Training (10487 / 18000 Steps) (loss=0.66986): 100%|██████████| 76/76 [01:19<00:00,  1.05s/it]\n",
      "Validate (10488 / 10 Steps): 100%|██████████| 22/22 [01:37<00:00,  4.44s/it]<01:06,  1.04s/it]\n",
      "Training (10500 / 18000 Steps) (loss=0.49607):  17%|█▋        | 13/76 [01:55<32:12, 30.68s/it]"
     ]
    },
    {
     "name": "stdout",
     "output_type": "stream",
     "text": [
      "Model Was Not Saved ! Current Best Avg. Dice: 0.6229711174964905 Current Avg. Dice: 0.6151167154312134 Current Avg. tumor Dice: 0.6572865843772888 Current Avg. lymph Dice: 0.5674532651901245\n"
     ]
    },
    {
     "name": "stderr",
     "output_type": "stream",
     "text": [
      "Training (10563 / 18000 Steps) (loss=0.45555): 100%|██████████| 76/76 [02:56<00:00,  2.33s/it]\n",
      "Validate (10564 / 10 Steps): 100%|██████████| 22/22 [01:38<00:00,  4.46s/it]<00:38,  1.05it/s]\n",
      "Training (10600 / 18000 Steps) (loss=0.29387):  49%|████▊     | 37/76 [02:18<19:45, 30.39s/it]"
     ]
    },
    {
     "name": "stdout",
     "output_type": "stream",
     "text": [
      "Model Was Not Saved ! Current Best Avg. Dice: 0.6229711174964905 Current Avg. Dice: 0.5999502539634705 Current Avg. tumor Dice: 0.6274321675300598 Current Avg. lymph Dice: 0.5655921697616577\n"
     ]
    },
    {
     "name": "stderr",
     "output_type": "stream",
     "text": [
      "Training (10639 / 18000 Steps) (loss=0.43550): 100%|██████████| 76/76 [02:58<00:00,  2.35s/it]\n",
      "Validate (10640 / 10 Steps): 100%|██████████| 22/22 [01:38<00:00,  4.46s/it]<00:15,  1.01it/s]\n",
      "Training (10700 / 18000 Steps) (loss=0.47813):  80%|████████  | 61/76 [02:42<07:36, 30.41s/it]"
     ]
    },
    {
     "name": "stdout",
     "output_type": "stream",
     "text": [
      "Model Was Not Saved ! Current Best Avg. Dice: 0.6229711174964905 Current Avg. Dice: 0.5898986458778381 Current Avg. tumor Dice: 0.6398077607154846 Current Avg. lymph Dice: 0.5314931869506836\n"
     ]
    },
    {
     "name": "stderr",
     "output_type": "stream",
     "text": [
      "Training (10715 / 18000 Steps) (loss=0.52990): 100%|██████████| 76/76 [02:57<00:00,  2.33s/it]\n",
      "Training (10791 / 18000 Steps) (loss=0.47880): 100%|██████████| 76/76 [01:19<00:00,  1.05s/it]\n",
      "Validate (10792 / 10 Steps): 100%|██████████| 22/22 [01:37<00:00,  4.44s/it]01:09,  1.02s/it]\n",
      "Training (10800 / 18000 Steps) (loss=0.36120):  12%|█▏        | 9/76 [01:51<35:23, 31.70s/it]"
     ]
    },
    {
     "name": "stdout",
     "output_type": "stream",
     "text": [
      "Model Was Not Saved ! Current Best Avg. Dice: 0.6229711174964905 Current Avg. Dice: 0.5143389105796814 Current Avg. tumor Dice: 0.5171340703964233 Current Avg. lymph Dice: 0.529933512210846\n"
     ]
    },
    {
     "name": "stderr",
     "output_type": "stream",
     "text": [
      "Training (10867 / 18000 Steps) (loss=0.28173): 100%|██████████| 76/76 [02:56<00:00,  2.33s/it]\n",
      "Validate (10868 / 10 Steps): 100%|██████████| 22/22 [01:37<00:00,  4.45s/it]<00:43,  1.02it/s]\n",
      "Training (10900 / 18000 Steps) (loss=0.55607):  43%|████▎     | 33/76 [02:14<21:45, 30.36s/it]"
     ]
    },
    {
     "name": "stdout",
     "output_type": "stream",
     "text": [
      "Model Was Not Saved ! Current Best Avg. Dice: 0.6229711174964905 Current Avg. Dice: 0.5756773948669434 Current Avg. tumor Dice: 0.616986095905304 Current Avg. lymph Dice: 0.516326904296875\n"
     ]
    },
    {
     "name": "stderr",
     "output_type": "stream",
     "text": [
      "Training (10943 / 18000 Steps) (loss=0.59145): 100%|██████████| 76/76 [02:56<00:00,  2.32s/it]\n",
      "Validate (10944 / 10 Steps): 100%|██████████| 22/22 [01:37<00:00,  4.45s/it]<00:19,  1.05it/s]\n",
      "Training (11000 / 18000 Steps) (loss=0.54074):  75%|███████▌  | 57/76 [02:37<09:37, 30.40s/it]"
     ]
    },
    {
     "name": "stdout",
     "output_type": "stream",
     "text": [
      "Model Was Not Saved ! Current Best Avg. Dice: 0.6229711174964905 Current Avg. Dice: 0.590959906578064 Current Avg. tumor Dice: 0.6047846674919128 Current Avg. lymph Dice: 0.5660538077354431\n"
     ]
    },
    {
     "name": "stderr",
     "output_type": "stream",
     "text": [
      "Training (11019 / 18000 Steps) (loss=0.43229): 100%|██████████| 76/76 [02:56<00:00,  2.32s/it]\n",
      "Training (11095 / 18000 Steps) (loss=0.32998): 100%|██████████| 76/76 [01:17<00:00,  1.02s/it]\n",
      "Validate (11096 / 10 Steps): 100%|██████████| 22/22 [01:37<00:00,  4.44s/it]01:47,  1.49s/it]\n",
      "Training (11100 / 18000 Steps) (loss=0.23278):   7%|▋         | 5/76 [01:46<43:17, 36.58s/it]"
     ]
    },
    {
     "name": "stdout",
     "output_type": "stream",
     "text": [
      "Model Was Not Saved ! Current Best Avg. Dice: 0.6229711174964905 Current Avg. Dice: 0.6137544512748718 Current Avg. tumor Dice: 0.6544655561447144 Current Avg. lymph Dice: 0.5669354200363159\n"
     ]
    },
    {
     "name": "stderr",
     "output_type": "stream",
     "text": [
      "Training (11171 / 18000 Steps) (loss=0.55266): 100%|██████████| 76/76 [02:57<00:00,  2.33s/it]\n",
      "Validate (11172 / 10 Steps): 100%|██████████| 22/22 [01:37<00:00,  4.45s/it]<00:48,  1.01s/it]\n",
      "Training (11200 / 18000 Steps) (loss=0.22621):  38%|███▊      | 29/76 [02:11<23:49, 30.42s/it]"
     ]
    },
    {
     "name": "stdout",
     "output_type": "stream",
     "text": [
      "Model Was Not Saved ! Current Best Avg. Dice: 0.6229711174964905 Current Avg. Dice: 0.6002469658851624 Current Avg. tumor Dice: 0.624178409576416 Current Avg. lymph Dice: 0.5712262392044067\n"
     ]
    },
    {
     "name": "stderr",
     "output_type": "stream",
     "text": [
      "Training (11247 / 18000 Steps) (loss=0.58649): 100%|██████████| 76/76 [02:57<00:00,  2.34s/it]\n",
      "Validate (11248 / 10 Steps): 100%|██████████| 22/22 [01:37<00:00,  4.45s/it]<00:23,  1.03it/s]\n",
      "Training (11300 / 18000 Steps) (loss=0.43357):  70%|██████▉   | 53/76 [02:34<11:38, 30.35s/it]"
     ]
    },
    {
     "name": "stdout",
     "output_type": "stream",
     "text": [
      "Model Was Not Saved ! Current Best Avg. Dice: 0.6229711174964905 Current Avg. Dice: 0.5866400003433228 Current Avg. tumor Dice: 0.6216824650764465 Current Avg. lymph Dice: 0.5590506792068481\n"
     ]
    },
    {
     "name": "stderr",
     "output_type": "stream",
     "text": [
      "Training (11323 / 18000 Steps) (loss=0.66854): 100%|██████████| 76/76 [02:57<00:00,  2.33s/it]\n",
      "Training (11399 / 18000 Steps) (loss=0.41639): 100%|██████████| 76/76 [01:18<00:00,  1.03s/it]\n",
      "Validate (11400 / 10 Steps): 100%|██████████| 22/22 [01:38<00:00,  4.46s/it]?, ?it/s]\n",
      "Training (11400 / 18000 Steps) (loss=0.26324):   1%|▏         | 1/76 [01:43<2:08:54, 103.13s/it]"
     ]
    },
    {
     "name": "stdout",
     "output_type": "stream",
     "text": [
      "Model Was Not Saved ! Current Best Avg. Dice: 0.6229711174964905 Current Avg. Dice: 0.6147021651268005 Current Avg. tumor Dice: 0.6489917039871216 Current Avg. lymph Dice: 0.5719220638275146\n"
     ]
    },
    {
     "name": "stderr",
     "output_type": "stream",
     "text": [
      "Training (11475 / 18000 Steps) (loss=0.20278): 100%|██████████| 76/76 [02:56<00:00,  2.32s/it]  \n",
      "Validate (11476 / 10 Steps): 100%|██████████| 22/22 [01:38<00:00,  4.46s/it]<00:49,  1.06it/s]\n",
      "Training (11500 / 18000 Steps) (loss=0.36886):  33%|███▎      | 25/76 [02:06<25:53, 30.46s/it]"
     ]
    },
    {
     "name": "stdout",
     "output_type": "stream",
     "text": [
      "Model Was Not Saved ! Current Best Avg. Dice: 0.6229711174964905 Current Avg. Dice: 0.6209556460380554 Current Avg. tumor Dice: 0.6549345850944519 Current Avg. lymph Dice: 0.579037070274353\n"
     ]
    },
    {
     "name": "stderr",
     "output_type": "stream",
     "text": [
      "Training (11551 / 18000 Steps) (loss=0.45030): 100%|██████████| 76/76 [02:55<00:00,  2.31s/it]\n",
      "Validate (11552 / 10 Steps): 100%|██████████| 22/22 [01:37<00:00,  4.43s/it]<00:27,  1.03it/s]\n",
      "Training (11600 / 18000 Steps) (loss=0.45019):  64%|██████▍   | 49/76 [02:30<13:37, 30.26s/it]"
     ]
    },
    {
     "name": "stdout",
     "output_type": "stream",
     "text": [
      "Model Was Not Saved ! Current Best Avg. Dice: 0.6229711174964905 Current Avg. Dice: 0.5909180045127869 Current Avg. tumor Dice: 0.6087267994880676 Current Avg. lymph Dice: 0.573898196220398\n"
     ]
    },
    {
     "name": "stderr",
     "output_type": "stream",
     "text": [
      "Training (11627 / 18000 Steps) (loss=0.50287): 100%|██████████| 76/76 [02:57<00:00,  2.33s/it]\n",
      "Validate (11628 / 10 Steps): 100%|██████████| 22/22 [01:38<00:00,  4.46s/it]<00:03,  1.01it/s]\n",
      "Training (11700 / 18000 Steps) (loss=0.19182):  96%|█████████▌| 73/76 [02:54<01:31, 30.41s/it]"
     ]
    },
    {
     "name": "stdout",
     "output_type": "stream",
     "text": [
      "Model Was Not Saved ! Current Best Avg. Dice: 0.6229711174964905 Current Avg. Dice: 0.5961624383926392 Current Avg. tumor Dice: 0.6259409189224243 Current Avg. lymph Dice: 0.5599761009216309\n"
     ]
    },
    {
     "name": "stderr",
     "output_type": "stream",
     "text": [
      "Training (11703 / 18000 Steps) (loss=0.66694): 100%|██████████| 76/76 [02:57<00:00,  2.34s/it]\n",
      "Training (11779 / 18000 Steps) (loss=0.57625): 100%|██████████| 76/76 [01:18<00:00,  1.03s/it]\n",
      "Validate (11780 / 10 Steps): 100%|██████████| 22/22 [01:38<00:00,  4.46s/it]<00:50,  1.11it/s]\n",
      "Training (11800 / 18000 Steps) (loss=0.59058):  28%|██▊       | 21/76 [02:01<27:49, 30.35s/it]"
     ]
    },
    {
     "name": "stdout",
     "output_type": "stream",
     "text": [
      "Model Was Not Saved ! Current Best Avg. Dice: 0.6229711174964905 Current Avg. Dice: 0.5934095978736877 Current Avg. tumor Dice: 0.6112664341926575 Current Avg. lymph Dice: 0.5672619342803955\n"
     ]
    },
    {
     "name": "stderr",
     "output_type": "stream",
     "text": [
      "Training (11855 / 18000 Steps) (loss=0.48229): 100%|██████████| 76/76 [02:56<00:00,  2.32s/it]\n",
      "Validate (11856 / 10 Steps): 100%|██████████| 22/22 [01:37<00:00,  4.45s/it]<00:32,  1.02s/it]\n",
      "Training (11900 / 18000 Steps) (loss=0.43474):  59%|█████▉    | 45/76 [02:27<15:41, 30.37s/it]"
     ]
    },
    {
     "name": "stdout",
     "output_type": "stream",
     "text": [
      "Model Was Not Saved ! Current Best Avg. Dice: 0.6229711174964905 Current Avg. Dice: 0.620307981967926 Current Avg. tumor Dice: 0.6529303789138794 Current Avg. lymph Dice: 0.5820834040641785\n"
     ]
    },
    {
     "name": "stderr",
     "output_type": "stream",
     "text": [
      "Training (11931 / 18000 Steps) (loss=0.19447): 100%|██████████| 76/76 [02:58<00:00,  2.34s/it]\n",
      "Validate (11932 / 10 Steps): 100%|██████████| 22/22 [01:37<00:00,  4.45s/it]<00:07,  1.04it/s]\n",
      "Training (12000 / 18000 Steps) (loss=0.29017):  91%|█████████ | 69/76 [02:51<03:34, 30.60s/it]"
     ]
    },
    {
     "name": "stdout",
     "output_type": "stream",
     "text": [
      "Model Was Saved ! Current Best Avg. Dice: 0.6239408254623413 Current Avg. Dice: 0.6239408254623413 Current Avg. tumor Dice: 0.6516439914703369 Current Avg. lymph Dice: 0.591423749923706\n"
     ]
    },
    {
     "name": "stderr",
     "output_type": "stream",
     "text": [
      "Training (12007 / 18000 Steps) (loss=0.15660): 100%|██████████| 76/76 [02:58<00:00,  2.34s/it]\n",
      "Training (12083 / 18000 Steps) (loss=0.58531): 100%|██████████| 76/76 [01:18<00:00,  1.04s/it]\n",
      "Validate (12084 / 10 Steps): 100%|██████████| 22/22 [01:38<00:00,  4.47s/it]<00:58,  1.02it/s]\n",
      "Training (12100 / 18000 Steps) (loss=0.52309):  22%|██▏       | 17/76 [01:58<30:02, 30.55s/it]"
     ]
    },
    {
     "name": "stdout",
     "output_type": "stream",
     "text": [
      "Model Was Not Saved ! Current Best Avg. Dice: 0.6239408254623413 Current Avg. Dice: 0.6191908121109009 Current Avg. tumor Dice: 0.6473181247711182 Current Avg. lymph Dice: 0.5820992588996887\n"
     ]
    },
    {
     "name": "stderr",
     "output_type": "stream",
     "text": [
      "Training (12159 / 18000 Steps) (loss=0.66691): 100%|██████████| 76/76 [02:57<00:00,  2.33s/it]\n",
      "Validate (12160 / 10 Steps): 100%|██████████| 22/22 [01:38<00:00,  4.46s/it]<00:35,  1.02it/s]\n",
      "Training (12200 / 18000 Steps) (loss=0.27637):  54%|█████▍    | 41/76 [02:22<17:47, 30.50s/it]"
     ]
    },
    {
     "name": "stdout",
     "output_type": "stream",
     "text": [
      "Model Was Not Saved ! Current Best Avg. Dice: 0.6239408254623413 Current Avg. Dice: 0.5811973810195923 Current Avg. tumor Dice: 0.6079097986221313 Current Avg. lymph Dice: 0.5566505193710327\n"
     ]
    },
    {
     "name": "stderr",
     "output_type": "stream",
     "text": [
      "Training (12235 / 18000 Steps) (loss=0.42526): 100%|██████████| 76/76 [02:57<00:00,  2.33s/it]\n",
      "Validate (12236 / 10 Steps): 100%|██████████| 22/22 [01:38<00:00,  4.47s/it]<00:12,  1.01s/it]\n",
      "Training (12300 / 18000 Steps) (loss=0.67203):  86%|████████▌ | 65/76 [02:47<05:36, 30.60s/it]"
     ]
    },
    {
     "name": "stdout",
     "output_type": "stream",
     "text": [
      "Model Was Not Saved ! Current Best Avg. Dice: 0.6239408254623413 Current Avg. Dice: 0.6028926968574524 Current Avg. tumor Dice: 0.6259968876838684 Current Avg. lymph Dice: 0.5722105503082275\n"
     ]
    },
    {
     "name": "stderr",
     "output_type": "stream",
     "text": [
      "Training (12311 / 18000 Steps) (loss=0.48238): 100%|██████████| 76/76 [02:57<00:00,  2.34s/it]\n",
      "Training (12387 / 18000 Steps) (loss=0.33019): 100%|██████████| 76/76 [01:18<00:00,  1.03s/it]\n",
      "Validate (12388 / 10 Steps): 100%|██████████| 22/22 [01:38<00:00,  4.47s/it]<01:05,  1.02s/it]\n",
      "Training (12400 / 18000 Steps) (loss=0.66880):  17%|█▋        | 13/76 [01:55<32:20, 30.80s/it]"
     ]
    },
    {
     "name": "stdout",
     "output_type": "stream",
     "text": [
      "Model Was Not Saved ! Current Best Avg. Dice: 0.6239408254623413 Current Avg. Dice: 0.6070301532745361 Current Avg. tumor Dice: 0.6451841592788696 Current Avg. lymph Dice: 0.5697329044342041\n"
     ]
    },
    {
     "name": "stderr",
     "output_type": "stream",
     "text": [
      "Training (12463 / 18000 Steps) (loss=0.32830): 100%|██████████| 76/76 [02:58<00:00,  2.35s/it]\n",
      "Validate (12464 / 10 Steps): 100%|██████████| 22/22 [01:38<00:00,  4.47s/it]<00:38,  1.05it/s]\n",
      "Training (12500 / 18000 Steps) (loss=0.56947):  49%|████▊     | 37/76 [02:19<19:49, 30.51s/it]"
     ]
    },
    {
     "name": "stdout",
     "output_type": "stream",
     "text": [
      "Model Was Not Saved ! Current Best Avg. Dice: 0.6239408254623413 Current Avg. Dice: 0.5889835953712463 Current Avg. tumor Dice: 0.6397576332092285 Current Avg. lymph Dice: 0.5362946391105652\n"
     ]
    },
    {
     "name": "stderr",
     "output_type": "stream",
     "text": [
      "Training (12539 / 18000 Steps) (loss=0.51068): 100%|██████████| 76/76 [02:58<00:00,  2.35s/it]\n",
      "Validate (12540 / 10 Steps): 100%|██████████| 22/22 [01:38<00:00,  4.46s/it]<00:16,  1.01s/it]\n",
      "Training (12600 / 18000 Steps) (loss=0.53088):  80%|████████  | 61/76 [02:41<07:36, 30.44s/it]"
     ]
    },
    {
     "name": "stdout",
     "output_type": "stream",
     "text": [
      "Model Was Not Saved ! Current Best Avg. Dice: 0.6239408254623413 Current Avg. Dice: 0.5986960530281067 Current Avg. tumor Dice: 0.6284581422805786 Current Avg. lymph Dice: 0.5707392692565918\n"
     ]
    },
    {
     "name": "stderr",
     "output_type": "stream",
     "text": [
      "Training (12615 / 18000 Steps) (loss=0.44718): 100%|██████████| 76/76 [02:56<00:00,  2.32s/it]\n",
      "Training (12691 / 18000 Steps) (loss=0.43177): 100%|██████████| 76/76 [01:17<00:00,  1.02s/it]\n",
      "Validate (12692 / 10 Steps): 100%|██████████| 22/22 [01:37<00:00,  4.45s/it]01:14,  1.09s/it]\n",
      "Training (12700 / 18000 Steps) (loss=0.39297):  12%|█▏        | 9/76 [01:50<35:26, 31.74s/it]"
     ]
    },
    {
     "name": "stdout",
     "output_type": "stream",
     "text": [
      "Model Was Not Saved ! Current Best Avg. Dice: 0.6239408254623413 Current Avg. Dice: 0.574240505695343 Current Avg. tumor Dice: 0.5959664583206177 Current Avg. lymph Dice: 0.5673843622207642\n"
     ]
    },
    {
     "name": "stderr",
     "output_type": "stream",
     "text": [
      "Training (12767 / 18000 Steps) (loss=0.49478): 100%|██████████| 76/76 [02:56<00:00,  2.33s/it]\n",
      "Validate (12768 / 10 Steps): 100%|██████████| 22/22 [01:37<00:00,  4.45s/it]<00:41,  1.06it/s]\n",
      "Training (12800 / 18000 Steps) (loss=0.55657):  43%|████▎     | 33/76 [02:14<21:48, 30.43s/it]"
     ]
    },
    {
     "name": "stdout",
     "output_type": "stream",
     "text": [
      "Model Was Not Saved ! Current Best Avg. Dice: 0.6239408254623413 Current Avg. Dice: 0.5932016372680664 Current Avg. tumor Dice: 0.6302732825279236 Current Avg. lymph Dice: 0.5622426867485046\n"
     ]
    },
    {
     "name": "stderr",
     "output_type": "stream",
     "text": [
      "Training (12843 / 18000 Steps) (loss=0.54154): 100%|██████████| 76/76 [02:55<00:00,  2.31s/it]\n",
      "Validate (12844 / 10 Steps): 100%|██████████| 22/22 [01:38<00:00,  4.46s/it]<00:19,  1.03it/s]\n",
      "Training (12900 / 18000 Steps) (loss=0.39331):  75%|███████▌  | 57/76 [02:38<09:38, 30.45s/it]"
     ]
    },
    {
     "name": "stdout",
     "output_type": "stream",
     "text": [
      "Model Was Not Saved ! Current Best Avg. Dice: 0.6239408254623413 Current Avg. Dice: 0.6131157279014587 Current Avg. tumor Dice: 0.6393263936042786 Current Avg. lymph Dice: 0.58241868019104\n"
     ]
    },
    {
     "name": "stderr",
     "output_type": "stream",
     "text": [
      "Training (12919 / 18000 Steps) (loss=0.39701): 100%|██████████| 76/76 [02:56<00:00,  2.33s/it]\n",
      "Training (12995 / 18000 Steps) (loss=0.49697): 100%|██████████| 76/76 [01:17<00:00,  1.02s/it]\n",
      "Validate (12996 / 10 Steps): 100%|██████████| 22/22 [01:37<00:00,  4.44s/it]01:47,  1.50s/it]\n",
      "Training (13000 / 18000 Steps) (loss=0.60495):   7%|▋         | 5/76 [01:46<43:18, 36.60s/it]"
     ]
    },
    {
     "name": "stdout",
     "output_type": "stream",
     "text": [
      "Model Was Not Saved ! Current Best Avg. Dice: 0.6239408254623413 Current Avg. Dice: 0.5897685885429382 Current Avg. tumor Dice: 0.611943781375885 Current Avg. lymph Dice: 0.5696460008621216\n"
     ]
    },
    {
     "name": "stderr",
     "output_type": "stream",
     "text": [
      "Training (13071 / 18000 Steps) (loss=0.32615): 100%|██████████| 76/76 [02:57<00:00,  2.34s/it]\n",
      "Validate (13072 / 10 Steps): 100%|██████████| 22/22 [01:37<00:00,  4.41s/it]<00:48,  1.00s/it]\n",
      "Training (13100 / 18000 Steps) (loss=0.23995):  38%|███▊      | 29/76 [02:10<23:36, 30.13s/it]"
     ]
    },
    {
     "name": "stdout",
     "output_type": "stream",
     "text": [
      "Model Was Not Saved ! Current Best Avg. Dice: 0.6239408254623413 Current Avg. Dice: 0.6057265996932983 Current Avg. tumor Dice: 0.6514412760734558 Current Avg. lymph Dice: 0.5552647709846497\n"
     ]
    },
    {
     "name": "stderr",
     "output_type": "stream",
     "text": [
      "Training (13147 / 18000 Steps) (loss=0.58058): 100%|██████████| 76/76 [02:57<00:00,  2.34s/it]\n",
      "Validate (13148 / 10 Steps): 100%|██████████| 22/22 [01:37<00:00,  4.45s/it]<00:24,  1.03s/it]\n",
      "Training (13200 / 18000 Steps) (loss=0.34255):  70%|██████▉   | 53/76 [02:35<11:39, 30.39s/it]"
     ]
    },
    {
     "name": "stdout",
     "output_type": "stream",
     "text": [
      "Model Was Not Saved ! Current Best Avg. Dice: 0.6239408254623413 Current Avg. Dice: 0.623403787612915 Current Avg. tumor Dice: 0.6565157771110535 Current Avg. lymph Dice: 0.5843417048454285\n"
     ]
    },
    {
     "name": "stderr",
     "output_type": "stream",
     "text": [
      "Training (13223 / 18000 Steps) (loss=0.60822): 100%|██████████| 76/76 [02:57<00:00,  2.34s/it]\n",
      "Training (13299 / 18000 Steps) (loss=0.46115): 100%|██████████| 76/76 [01:20<00:00,  1.05s/it]\n",
      "Validate (13300 / 10 Steps): 100%|██████████| 22/22 [01:38<00:00,  4.46s/it]?, ?it/s]\n",
      "Training (13300 / 18000 Steps) (loss=0.44507):   1%|▏         | 1/76 [01:43<2:09:21, 103.48s/it]"
     ]
    },
    {
     "name": "stdout",
     "output_type": "stream",
     "text": [
      "Model Was Not Saved ! Current Best Avg. Dice: 0.6239408254623413 Current Avg. Dice: 0.6002267599105835 Current Avg. tumor Dice: 0.6505330204963684 Current Avg. lymph Dice: 0.5488434433937073\n"
     ]
    },
    {
     "name": "stderr",
     "output_type": "stream",
     "text": [
      "Training (13375 / 18000 Steps) (loss=0.25775): 100%|██████████| 76/76 [02:58<00:00,  2.34s/it]  \n",
      "Validate (13376 / 10 Steps): 100%|██████████| 22/22 [01:37<00:00,  4.45s/it]<00:49,  1.05it/s]\n",
      "Training (13400 / 18000 Steps) (loss=0.20020):  33%|███▎      | 25/76 [02:06<25:54, 30.47s/it]"
     ]
    },
    {
     "name": "stdout",
     "output_type": "stream",
     "text": [
      "Model Was Not Saved ! Current Best Avg. Dice: 0.6239408254623413 Current Avg. Dice: 0.5903209447860718 Current Avg. tumor Dice: 0.6150298118591309 Current Avg. lymph Dice: 0.5681085586547852\n"
     ]
    },
    {
     "name": "stderr",
     "output_type": "stream",
     "text": [
      "Training (13451 / 18000 Steps) (loss=0.29834): 100%|██████████| 76/76 [02:56<00:00,  2.33s/it]\n",
      "Validate (13452 / 10 Steps): 100%|██████████| 22/22 [01:37<00:00,  4.45s/it]<00:29,  1.04s/it]\n",
      "Training (13500 / 18000 Steps) (loss=0.28006):  64%|██████▍   | 49/76 [02:31<13:49, 30.71s/it]"
     ]
    },
    {
     "name": "stdout",
     "output_type": "stream",
     "text": [
      "Model Was Saved ! Current Best Avg. Dice: 0.624485194683075 Current Avg. Dice: 0.624485194683075 Current Avg. tumor Dice: 0.6613596677780151 Current Avg. lymph Dice: 0.5855391025543213\n"
     ]
    },
    {
     "name": "stderr",
     "output_type": "stream",
     "text": [
      "Training (13527 / 18000 Steps) (loss=0.26999): 100%|██████████| 76/76 [02:57<00:00,  2.33s/it]\n",
      "Validate (13528 / 10 Steps): 100%|██████████| 22/22 [01:38<00:00,  4.49s/it]<00:03,  1.04it/s]\n",
      "Training (13600 / 18000 Steps) (loss=0.66678):  96%|█████████▌| 73/76 [02:55<01:32, 30.95s/it]"
     ]
    },
    {
     "name": "stdout",
     "output_type": "stream",
     "text": [
      "Model Was Saved ! Current Best Avg. Dice: 0.6287459135055542 Current Avg. Dice: 0.6287459135055542 Current Avg. tumor Dice: 0.666198194026947 Current Avg. lymph Dice: 0.5823876857757568\n"
     ]
    },
    {
     "name": "stderr",
     "output_type": "stream",
     "text": [
      "Training (13603 / 18000 Steps) (loss=0.52677): 100%|██████████| 76/76 [02:58<00:00,  2.35s/it]\n",
      "Training (13679 / 18000 Steps) (loss=0.44570): 100%|██████████| 76/76 [01:17<00:00,  1.02s/it]\n",
      "Validate (13680 / 10 Steps): 100%|██████████| 22/22 [01:38<00:00,  4.46s/it]<00:52,  1.07it/s]\n",
      "Training (13700 / 18000 Steps) (loss=0.28641):  28%|██▊       | 21/76 [02:02<27:53, 30.43s/it]"
     ]
    },
    {
     "name": "stdout",
     "output_type": "stream",
     "text": [
      "Model Was Not Saved ! Current Best Avg. Dice: 0.6287459135055542 Current Avg. Dice: 0.6189985275268555 Current Avg. tumor Dice: 0.6589024662971497 Current Avg. lymph Dice: 0.5748156309127808\n"
     ]
    },
    {
     "name": "stderr",
     "output_type": "stream",
     "text": [
      "Training (13755 / 18000 Steps) (loss=0.45752): 100%|██████████| 76/76 [02:55<00:00,  2.31s/it]\n",
      "Validate (13756 / 10 Steps): 100%|██████████| 22/22 [01:38<00:00,  4.45s/it]<00:31,  1.01it/s]\n",
      "Training (13800 / 18000 Steps) (loss=0.45342):  59%|█████▉    | 45/76 [02:28<15:50, 30.66s/it]"
     ]
    },
    {
     "name": "stdout",
     "output_type": "stream",
     "text": [
      "Model Was Saved ! Current Best Avg. Dice: 0.634040117263794 Current Avg. Dice: 0.634040117263794 Current Avg. tumor Dice: 0.6729254126548767 Current Avg. lymph Dice: 0.5872045755386353\n"
     ]
    },
    {
     "name": "stderr",
     "output_type": "stream",
     "text": [
      "Training (13831 / 18000 Steps) (loss=0.56548): 100%|██████████| 76/76 [02:58<00:00,  2.35s/it]\n",
      "Validate (13832 / 10 Steps): 100%|██████████| 22/22 [01:37<00:00,  4.45s/it]<00:07,  1.08it/s]\n",
      "Training (13900 / 18000 Steps) (loss=0.48191):  91%|█████████ | 69/76 [02:50<03:31, 30.27s/it]"
     ]
    },
    {
     "name": "stdout",
     "output_type": "stream",
     "text": [
      "Model Was Not Saved ! Current Best Avg. Dice: 0.634040117263794 Current Avg. Dice: 0.6099395751953125 Current Avg. tumor Dice: 0.6466569304466248 Current Avg. lymph Dice: 0.5584363341331482\n"
     ]
    },
    {
     "name": "stderr",
     "output_type": "stream",
     "text": [
      "Training (13907 / 18000 Steps) (loss=0.26986): 100%|██████████| 76/76 [02:57<00:00,  2.33s/it]\n",
      "Training (13983 / 18000 Steps) (loss=0.46594): 100%|██████████| 76/76 [01:19<00:00,  1.05s/it]\n",
      "Validate (13984 / 10 Steps): 100%|██████████| 22/22 [01:37<00:00,  4.45s/it]<00:56,  1.06it/s]\n",
      "Training (14000 / 18000 Steps) (loss=0.26102):  22%|██▏       | 17/76 [01:58<29:58, 30.48s/it]"
     ]
    },
    {
     "name": "stdout",
     "output_type": "stream",
     "text": [
      "Model Was Not Saved ! Current Best Avg. Dice: 0.634040117263794 Current Avg. Dice: 0.613996148109436 Current Avg. tumor Dice: 0.648735523223877 Current Avg. lymph Dice: 0.5648062229156494\n"
     ]
    },
    {
     "name": "stderr",
     "output_type": "stream",
     "text": [
      "Training (14059 / 18000 Steps) (loss=0.29154): 100%|██████████| 76/76 [02:57<00:00,  2.33s/it]\n",
      "Validate (14060 / 10 Steps): 100%|██████████| 22/22 [01:37<00:00,  4.44s/it]<00:33,  1.06it/s]\n",
      "Training (14100 / 18000 Steps) (loss=0.46973):  54%|█████▍    | 41/76 [02:22<17:40, 30.30s/it]"
     ]
    },
    {
     "name": "stdout",
     "output_type": "stream",
     "text": [
      "Model Was Not Saved ! Current Best Avg. Dice: 0.634040117263794 Current Avg. Dice: 0.5985426902770996 Current Avg. tumor Dice: 0.6316154599189758 Current Avg. lymph Dice: 0.5622842311859131\n"
     ]
    },
    {
     "name": "stderr",
     "output_type": "stream",
     "text": [
      "Training (14135 / 18000 Steps) (loss=0.21323): 100%|██████████| 76/76 [02:56<00:00,  2.32s/it]\n",
      "Validate (14136 / 10 Steps): 100%|██████████| 22/22 [01:37<00:00,  4.45s/it]<00:11,  1.03it/s]\n",
      "Training (14200 / 18000 Steps) (loss=0.33907):  86%|████████▌ | 65/76 [02:45<05:34, 30.44s/it]"
     ]
    },
    {
     "name": "stdout",
     "output_type": "stream",
     "text": [
      "Model Was Not Saved ! Current Best Avg. Dice: 0.634040117263794 Current Avg. Dice: 0.614610493183136 Current Avg. tumor Dice: 0.6467064023017883 Current Avg. lymph Dice: 0.57523512840271\n"
     ]
    },
    {
     "name": "stderr",
     "output_type": "stream",
     "text": [
      "Training (14211 / 18000 Steps) (loss=0.63328): 100%|██████████| 76/76 [02:56<00:00,  2.32s/it]\n",
      "Training (14287 / 18000 Steps) (loss=0.78766): 100%|██████████| 76/76 [01:18<00:00,  1.04s/it]\n",
      "Validate (14288 / 10 Steps): 100%|██████████| 22/22 [01:37<00:00,  4.44s/it]<01:10,  1.09s/it]\n",
      "Training (14300 / 18000 Steps) (loss=0.29368):  17%|█▋        | 13/76 [01:54<32:12, 30.68s/it]"
     ]
    },
    {
     "name": "stdout",
     "output_type": "stream",
     "text": [
      "Model Was Not Saved ! Current Best Avg. Dice: 0.634040117263794 Current Avg. Dice: 0.6293332576751709 Current Avg. tumor Dice: 0.6587487459182739 Current Avg. lymph Dice: 0.5926231145858765\n"
     ]
    },
    {
     "name": "stderr",
     "output_type": "stream",
     "text": [
      "Training (14363 / 18000 Steps) (loss=0.50785): 100%|██████████| 76/76 [02:56<00:00,  2.33s/it]\n",
      "Validate (14364 / 10 Steps): 100%|██████████| 22/22 [01:37<00:00,  4.44s/it]<00:40,  1.01s/it]\n",
      "Training (14400 / 18000 Steps) (loss=0.41733):  49%|████▊     | 37/76 [02:20<19:43, 30.35s/it]"
     ]
    },
    {
     "name": "stdout",
     "output_type": "stream",
     "text": [
      "Model Was Not Saved ! Current Best Avg. Dice: 0.634040117263794 Current Avg. Dice: 0.624600350856781 Current Avg. tumor Dice: 0.6578728556632996 Current Avg. lymph Dice: 0.5887274146080017\n"
     ]
    },
    {
     "name": "stderr",
     "output_type": "stream",
     "text": [
      "Training (14439 / 18000 Steps) (loss=0.67368): 100%|██████████| 76/76 [02:59<00:00,  2.36s/it]\n",
      "Validate (14440 / 10 Steps): 100%|██████████| 22/22 [01:38<00:00,  4.46s/it]<00:16,  1.04s/it]\n",
      "Training (14500 / 18000 Steps) (loss=0.52342):  80%|████████  | 61/76 [02:42<07:37, 30.48s/it]"
     ]
    },
    {
     "name": "stdout",
     "output_type": "stream",
     "text": [
      "Model Was Not Saved ! Current Best Avg. Dice: 0.634040117263794 Current Avg. Dice: 0.6055126190185547 Current Avg. tumor Dice: 0.6515631675720215 Current Avg. lymph Dice: 0.5570061206817627\n"
     ]
    },
    {
     "name": "stderr",
     "output_type": "stream",
     "text": [
      "Training (14515 / 18000 Steps) (loss=0.37188): 100%|██████████| 76/76 [02:57<00:00,  2.34s/it]\n",
      "Training (14591 / 18000 Steps) (loss=0.66687): 100%|██████████| 76/76 [01:19<00:00,  1.05s/it]\n",
      "Validate (14592 / 10 Steps): 100%|██████████| 22/22 [01:37<00:00,  4.44s/it]01:13,  1.08s/it]\n",
      "Training (14600 / 18000 Steps) (loss=0.23188):  12%|█▏        | 9/76 [01:51<35:31, 31.81s/it]"
     ]
    },
    {
     "name": "stdout",
     "output_type": "stream",
     "text": [
      "Model Was Not Saved ! Current Best Avg. Dice: 0.634040117263794 Current Avg. Dice: 0.6135793328285217 Current Avg. tumor Dice: 0.645608127117157 Current Avg. lymph Dice: 0.5882947444915771\n"
     ]
    },
    {
     "name": "stderr",
     "output_type": "stream",
     "text": [
      "Training (14667 / 18000 Steps) (loss=0.67995): 100%|██████████| 76/76 [02:57<00:00,  2.34s/it]\n",
      "Validate (14668 / 10 Steps): 100%|██████████| 22/22 [01:38<00:00,  4.46s/it]<00:43,  1.02it/s]\n",
      "Training (14700 / 18000 Steps) (loss=0.22350):  43%|████▎     | 33/76 [02:14<21:49, 30.44s/it]"
     ]
    },
    {
     "name": "stdout",
     "output_type": "stream",
     "text": [
      "Model Was Not Saved ! Current Best Avg. Dice: 0.634040117263794 Current Avg. Dice: 0.6323148608207703 Current Avg. tumor Dice: 0.656663715839386 Current Avg. lymph Dice: 0.6045536398887634\n"
     ]
    },
    {
     "name": "stderr",
     "output_type": "stream",
     "text": [
      "Training (14743 / 18000 Steps) (loss=0.41112): 100%|██████████| 76/76 [02:57<00:00,  2.33s/it]\n",
      "Validate (14744 / 10 Steps): 100%|██████████| 22/22 [01:37<00:00,  4.45s/it]<00:19,  1.02it/s]\n",
      "Training (14800 / 18000 Steps) (loss=0.51501):  75%|███████▌  | 57/76 [02:39<09:38, 30.47s/it]"
     ]
    },
    {
     "name": "stdout",
     "output_type": "stream",
     "text": [
      "Model Was Not Saved ! Current Best Avg. Dice: 0.634040117263794 Current Avg. Dice: 0.5931682586669922 Current Avg. tumor Dice: 0.6301802396774292 Current Avg. lymph Dice: 0.546477198600769\n"
     ]
    },
    {
     "name": "stderr",
     "output_type": "stream",
     "text": [
      "Training (14819 / 18000 Steps) (loss=0.63382): 100%|██████████| 76/76 [02:57<00:00,  2.34s/it]\n",
      "Training (14895 / 18000 Steps) (loss=0.32458): 100%|██████████| 76/76 [01:19<00:00,  1.05s/it]\n",
      "Validate (14896 / 10 Steps): 100%|██████████| 22/22 [01:38<00:00,  4.46s/it]01:49,  1.53s/it]\n",
      "Training (14900 / 18000 Steps) (loss=0.40895):   7%|▋         | 5/76 [01:46<43:24, 36.69s/it]"
     ]
    },
    {
     "name": "stdout",
     "output_type": "stream",
     "text": [
      "Model Was Not Saved ! Current Best Avg. Dice: 0.634040117263794 Current Avg. Dice: 0.6224051117897034 Current Avg. tumor Dice: 0.6604043245315552 Current Avg. lymph Dice: 0.5788549780845642\n"
     ]
    },
    {
     "name": "stderr",
     "output_type": "stream",
     "text": [
      "Training (14971 / 18000 Steps) (loss=0.59117): 100%|██████████| 76/76 [02:57<00:00,  2.33s/it]\n",
      "Validate (14972 / 10 Steps): 100%|██████████| 22/22 [01:38<00:00,  4.47s/it]<00:45,  1.06it/s]\n",
      "Training (15000 / 18000 Steps) (loss=0.51692):  38%|███▊      | 29/76 [02:11<23:53, 30.49s/it]"
     ]
    },
    {
     "name": "stdout",
     "output_type": "stream",
     "text": [
      "Model Was Not Saved ! Current Best Avg. Dice: 0.634040117263794 Current Avg. Dice: 0.6321981549263 Current Avg. tumor Dice: 0.6746663451194763 Current Avg. lymph Dice: 0.5866907835006714\n"
     ]
    },
    {
     "name": "stderr",
     "output_type": "stream",
     "text": [
      "Training (15047 / 18000 Steps) (loss=0.66675): 100%|██████████| 76/76 [02:57<00:00,  2.34s/it]\n",
      "Validate (15048 / 10 Steps): 100%|██████████| 22/22 [01:38<00:00,  4.46s/it]<00:25,  1.05s/it]\n",
      "Training (15100 / 18000 Steps) (loss=0.43321):  70%|██████▉   | 53/76 [02:34<11:41, 30.50s/it]"
     ]
    },
    {
     "name": "stdout",
     "output_type": "stream",
     "text": [
      "Model Was Not Saved ! Current Best Avg. Dice: 0.634040117263794 Current Avg. Dice: 0.6225676536560059 Current Avg. tumor Dice: 0.6554892063140869 Current Avg. lymph Dice: 0.5882749557495117\n"
     ]
    },
    {
     "name": "stderr",
     "output_type": "stream",
     "text": [
      "Training (15123 / 18000 Steps) (loss=0.50574): 100%|██████████| 76/76 [02:56<00:00,  2.33s/it]\n",
      "Training (15199 / 18000 Steps) (loss=0.43577): 100%|██████████| 76/76 [01:19<00:00,  1.05s/it]\n",
      "Validate (15200 / 10 Steps): 100%|██████████| 22/22 [01:38<00:00,  4.46s/it]?, ?it/s]\n",
      "Training (15200 / 18000 Steps) (loss=0.40566):   1%|▏         | 1/76 [01:43<2:09:07, 103.30s/it]"
     ]
    },
    {
     "name": "stdout",
     "output_type": "stream",
     "text": [
      "Model Was Not Saved ! Current Best Avg. Dice: 0.634040117263794 Current Avg. Dice: 0.5436926484107971 Current Avg. tumor Dice: 0.5896864533424377 Current Avg. lymph Dice: 0.4893207550048828\n"
     ]
    },
    {
     "name": "stderr",
     "output_type": "stream",
     "text": [
      "Training (15275 / 18000 Steps) (loss=0.53913): 100%|██████████| 76/76 [02:57<00:00,  2.34s/it]  \n",
      "Validate (15276 / 10 Steps): 100%|██████████| 22/22 [01:37<00:00,  4.45s/it]<00:48,  1.08it/s]\n",
      "Training (15300 / 18000 Steps) (loss=0.22822):  33%|███▎      | 25/76 [02:06<25:46, 30.33s/it]"
     ]
    },
    {
     "name": "stdout",
     "output_type": "stream",
     "text": [
      "Model Was Not Saved ! Current Best Avg. Dice: 0.634040117263794 Current Avg. Dice: 0.6112258434295654 Current Avg. tumor Dice: 0.6536732316017151 Current Avg. lymph Dice: 0.5590551495552063\n"
     ]
    },
    {
     "name": "stderr",
     "output_type": "stream",
     "text": [
      "Training (15351 / 18000 Steps) (loss=0.29972): 100%|██████████| 76/76 [02:56<00:00,  2.32s/it]\n",
      "Validate (15352 / 10 Steps): 100%|██████████| 22/22 [01:38<00:00,  4.46s/it]<00:27,  1.02it/s]\n",
      "Training (15400 / 18000 Steps) (loss=0.29675):  64%|██████▍   | 49/76 [02:30<13:41, 30.43s/it]"
     ]
    },
    {
     "name": "stdout",
     "output_type": "stream",
     "text": [
      "Model Was Not Saved ! Current Best Avg. Dice: 0.634040117263794 Current Avg. Dice: 0.6160079836845398 Current Avg. tumor Dice: 0.6583437919616699 Current Avg. lymph Dice: 0.5702478885650635\n"
     ]
    },
    {
     "name": "stderr",
     "output_type": "stream",
     "text": [
      "Training (15427 / 18000 Steps) (loss=0.42669): 100%|██████████| 76/76 [02:57<00:00,  2.34s/it]\n",
      "Validate (15428 / 10 Steps): 100%|██████████| 22/22 [01:37<00:00,  4.44s/it]<00:03,  1.05it/s]\n",
      "Training (15500 / 18000 Steps) (loss=0.29608):  96%|█████████▌| 73/76 [02:53<01:31, 30.37s/it]"
     ]
    },
    {
     "name": "stdout",
     "output_type": "stream",
     "text": [
      "Model Was Not Saved ! Current Best Avg. Dice: 0.634040117263794 Current Avg. Dice: 0.6291872262954712 Current Avg. tumor Dice: 0.6736185550689697 Current Avg. lymph Dice: 0.5825095176696777\n"
     ]
    },
    {
     "name": "stderr",
     "output_type": "stream",
     "text": [
      "Training (15503 / 18000 Steps) (loss=0.42618): 100%|██████████| 76/76 [02:56<00:00,  2.32s/it]\n",
      "Training (15579 / 18000 Steps) (loss=0.43673): 100%|██████████| 76/76 [01:17<00:00,  1.02s/it]\n",
      "Validate (15580 / 10 Steps): 100%|██████████| 22/22 [01:38<00:00,  4.46s/it]<00:52,  1.08it/s]\n",
      "Training (15600 / 18000 Steps) (loss=0.41073):  28%|██▊       | 21/76 [02:02<27:51, 30.39s/it]"
     ]
    },
    {
     "name": "stdout",
     "output_type": "stream",
     "text": [
      "Model Was Not Saved ! Current Best Avg. Dice: 0.634040117263794 Current Avg. Dice: 0.61314857006073 Current Avg. tumor Dice: 0.6494563221931458 Current Avg. lymph Dice: 0.5689019560813904\n"
     ]
    },
    {
     "name": "stderr",
     "output_type": "stream",
     "text": [
      "Training (15655 / 18000 Steps) (loss=0.12706): 100%|██████████| 76/76 [02:55<00:00,  2.32s/it]\n",
      "Validate (15656 / 10 Steps): 100%|██████████| 22/22 [01:38<00:00,  4.47s/it]<00:31,  1.02it/s]\n",
      "Training (15700 / 18000 Steps) (loss=0.49062):  59%|█████▉    | 45/76 [02:27<15:44, 30.48s/it]"
     ]
    },
    {
     "name": "stdout",
     "output_type": "stream",
     "text": [
      "Model Was Not Saved ! Current Best Avg. Dice: 0.634040117263794 Current Avg. Dice: 0.5653849244117737 Current Avg. tumor Dice: 0.6248411536216736 Current Avg. lymph Dice: 0.4875575602054596\n"
     ]
    },
    {
     "name": "stderr",
     "output_type": "stream",
     "text": [
      "Training (15731 / 18000 Steps) (loss=0.29627): 100%|██████████| 76/76 [02:57<00:00,  2.34s/it]\n",
      "Validate (15732 / 10 Steps): 100%|██████████| 22/22 [01:38<00:00,  4.47s/it]<00:07,  1.06it/s]\n",
      "Training (15800 / 18000 Steps) (loss=0.49675):  91%|█████████ | 69/76 [02:51<03:33, 30.47s/it]"
     ]
    },
    {
     "name": "stdout",
     "output_type": "stream",
     "text": [
      "Model Was Not Saved ! Current Best Avg. Dice: 0.634040117263794 Current Avg. Dice: 0.6292113661766052 Current Avg. tumor Dice: 0.6567404866218567 Current Avg. lymph Dice: 0.5940015316009521\n"
     ]
    },
    {
     "name": "stderr",
     "output_type": "stream",
     "text": [
      "Training (15807 / 18000 Steps) (loss=0.34835): 100%|██████████| 76/76 [02:58<00:00,  2.35s/it]\n",
      "Training (15883 / 18000 Steps) (loss=0.22992): 100%|██████████| 76/76 [01:19<00:00,  1.04s/it]\n",
      "Validate (15884 / 10 Steps): 100%|██████████| 22/22 [01:37<00:00,  4.44s/it]<00:57,  1.04it/s]\n",
      "Training (15900 / 18000 Steps) (loss=0.46538):  22%|██▏       | 17/76 [01:59<29:56, 30.45s/it]"
     ]
    },
    {
     "name": "stdout",
     "output_type": "stream",
     "text": [
      "Model Was Not Saved ! Current Best Avg. Dice: 0.634040117263794 Current Avg. Dice: 0.6128047704696655 Current Avg. tumor Dice: 0.6510367393493652 Current Avg. lymph Dice: 0.5761265754699707\n"
     ]
    },
    {
     "name": "stderr",
     "output_type": "stream",
     "text": [
      "Training (15959 / 18000 Steps) (loss=0.27631): 100%|██████████| 76/76 [02:58<00:00,  2.34s/it]\n",
      "Validate (15960 / 10 Steps): 100%|██████████| 22/22 [01:37<00:00,  4.45s/it]<00:34,  1.04it/s]\n",
      "Training (16000 / 18000 Steps) (loss=0.39497):  54%|█████▍    | 41/76 [02:23<17:53, 30.66s/it]"
     ]
    },
    {
     "name": "stdout",
     "output_type": "stream",
     "text": [
      "Model Was Saved ! Current Best Avg. Dice: 0.6344791650772095 Current Avg. Dice: 0.6344791650772095 Current Avg. tumor Dice: 0.6712912321090698 Current Avg. lymph Dice: 0.5925340056419373\n"
     ]
    },
    {
     "name": "stderr",
     "output_type": "stream",
     "text": [
      "Training (16035 / 18000 Steps) (loss=0.39095): 100%|██████████| 76/76 [02:58<00:00,  2.34s/it]\n",
      "Validate (16036 / 10 Steps): 100%|██████████| 22/22 [01:37<00:00,  4.43s/it]<00:11,  1.04it/s]\n",
      "Training (16100 / 18000 Steps) (loss=0.44435):  86%|████████▌ | 65/76 [02:46<05:32, 30.19s/it]"
     ]
    },
    {
     "name": "stdout",
     "output_type": "stream",
     "text": [
      "Model Was Not Saved ! Current Best Avg. Dice: 0.6344791650772095 Current Avg. Dice: 0.6033616065979004 Current Avg. tumor Dice: 0.6326825022697449 Current Avg. lymph Dice: 0.5750257968902588\n"
     ]
    },
    {
     "name": "stderr",
     "output_type": "stream",
     "text": [
      "Training (16111 / 18000 Steps) (loss=0.23007): 100%|██████████| 76/76 [02:57<00:00,  2.33s/it]\n",
      "Training (16187 / 18000 Steps) (loss=0.66687): 100%|██████████| 76/76 [01:19<00:00,  1.05s/it]\n",
      "Validate (16188 / 10 Steps): 100%|██████████| 22/22 [01:37<00:00,  4.44s/it]<01:03,  1.00it/s]\n",
      "Training (16200 / 18000 Steps) (loss=0.46051):  17%|█▋        | 13/76 [01:55<32:08, 30.61s/it]"
     ]
    },
    {
     "name": "stdout",
     "output_type": "stream",
     "text": [
      "Model Was Not Saved ! Current Best Avg. Dice: 0.6344791650772095 Current Avg. Dice: 0.616940975189209 Current Avg. tumor Dice: 0.6373956799507141 Current Avg. lymph Dice: 0.5842391848564148\n"
     ]
    },
    {
     "name": "stderr",
     "output_type": "stream",
     "text": [
      "Training (16263 / 18000 Steps) (loss=0.39910): 100%|██████████| 76/76 [02:57<00:00,  2.34s/it]\n",
      "Validate (16264 / 10 Steps): 100%|██████████| 22/22 [01:38<00:00,  4.45s/it]<00:38,  1.04it/s]\n",
      "Training (16300 / 18000 Steps) (loss=0.51509):  49%|████▊     | 37/76 [02:18<19:45, 30.40s/it]"
     ]
    },
    {
     "name": "stdout",
     "output_type": "stream",
     "text": [
      "Model Was Not Saved ! Current Best Avg. Dice: 0.6344791650772095 Current Avg. Dice: 0.612054705619812 Current Avg. tumor Dice: 0.6390250325202942 Current Avg. lymph Dice: 0.5911781787872314\n"
     ]
    },
    {
     "name": "stderr",
     "output_type": "stream",
     "text": [
      "Training (16339 / 18000 Steps) (loss=0.35428): 100%|██████████| 76/76 [02:57<00:00,  2.33s/it]\n",
      "Validate (16340 / 10 Steps): 100%|██████████| 22/22 [01:37<00:00,  4.44s/it]<00:16,  1.02s/it]\n",
      "Training (16400 / 18000 Steps) (loss=0.58578):  80%|████████  | 61/76 [02:42<07:34, 30.29s/it]"
     ]
    },
    {
     "name": "stdout",
     "output_type": "stream",
     "text": [
      "Model Was Not Saved ! Current Best Avg. Dice: 0.6344791650772095 Current Avg. Dice: 0.6169052124023438 Current Avg. tumor Dice: 0.6499312520027161 Current Avg. lymph Dice: 0.5869230628013611\n"
     ]
    },
    {
     "name": "stderr",
     "output_type": "stream",
     "text": [
      "Training (16415 / 18000 Steps) (loss=0.46737): 100%|██████████| 76/76 [02:57<00:00,  2.34s/it]\n",
      "Training (16491 / 18000 Steps) (loss=0.47727): 100%|██████████| 76/76 [01:19<00:00,  1.04s/it]\n",
      "Validate (16492 / 10 Steps): 100%|██████████| 22/22 [01:37<00:00,  4.42s/it]01:15,  1.11s/it]\n",
      "Training (16500 / 18000 Steps) (loss=0.66680):  12%|█▏        | 9/76 [01:51<35:19, 31.64s/it]"
     ]
    },
    {
     "name": "stdout",
     "output_type": "stream",
     "text": [
      "Model Was Not Saved ! Current Best Avg. Dice: 0.6344791650772095 Current Avg. Dice: 0.5948102474212646 Current Avg. tumor Dice: 0.6423455476760864 Current Avg. lymph Dice: 0.5394822359085083\n"
     ]
    },
    {
     "name": "stderr",
     "output_type": "stream",
     "text": [
      "Training (16567 / 18000 Steps) (loss=0.66720): 100%|██████████| 76/76 [02:56<00:00,  2.32s/it]\n",
      "Validate (16568 / 10 Steps): 100%|██████████| 22/22 [01:37<00:00,  4.42s/it]<00:42,  1.05it/s]\n",
      "Training (16600 / 18000 Steps) (loss=0.25505):  43%|████▎     | 33/76 [02:14<21:36, 30.14s/it]"
     ]
    },
    {
     "name": "stdout",
     "output_type": "stream",
     "text": [
      "Model Was Not Saved ! Current Best Avg. Dice: 0.6344791650772095 Current Avg. Dice: 0.566495954990387 Current Avg. tumor Dice: 0.5864062309265137 Current Avg. lymph Dice: 0.5511948466300964\n"
     ]
    },
    {
     "name": "stderr",
     "output_type": "stream",
     "text": [
      "Training (16643 / 18000 Steps) (loss=0.17435): 100%|██████████| 76/76 [02:57<00:00,  2.34s/it]\n",
      "Validate (16644 / 10 Steps): 100%|██████████| 22/22 [01:37<00:00,  4.44s/it]<00:19,  1.00it/s]\n",
      "Training (16700 / 18000 Steps) (loss=0.68695):  75%|███████▌  | 57/76 [02:38<09:36, 30.36s/it]"
     ]
    },
    {
     "name": "stdout",
     "output_type": "stream",
     "text": [
      "Model Was Not Saved ! Current Best Avg. Dice: 0.6344791650772095 Current Avg. Dice: 0.601456880569458 Current Avg. tumor Dice: 0.62384432554245 Current Avg. lymph Dice: 0.566771388053894\n"
     ]
    },
    {
     "name": "stderr",
     "output_type": "stream",
     "text": [
      "Training (16719 / 18000 Steps) (loss=0.44572): 100%|██████████| 76/76 [02:57<00:00,  2.34s/it]\n",
      "Training (16795 / 18000 Steps) (loss=0.19473): 100%|██████████| 76/76 [01:19<00:00,  1.05s/it]\n",
      "Validate (16796 / 10 Steps): 100%|██████████| 22/22 [01:37<00:00,  4.42s/it]01:50,  1.53s/it]\n",
      "Training (16800 / 18000 Steps) (loss=0.46090):   7%|▋         | 5/76 [01:46<43:04, 36.40s/it]"
     ]
    },
    {
     "name": "stdout",
     "output_type": "stream",
     "text": [
      "Model Was Not Saved ! Current Best Avg. Dice: 0.6344791650772095 Current Avg. Dice: 0.6151370406150818 Current Avg. tumor Dice: 0.6361297965049744 Current Avg. lymph Dice: 0.5839688777923584\n"
     ]
    },
    {
     "name": "stderr",
     "output_type": "stream",
     "text": [
      "Training (16871 / 18000 Steps) (loss=0.66748): 100%|██████████| 76/76 [02:56<00:00,  2.33s/it]\n",
      "Validate (16872 / 10 Steps): 100%|██████████| 22/22 [01:37<00:00,  4.44s/it]<00:47,  1.02it/s]\n",
      "Training (16900 / 18000 Steps) (loss=0.66674):  38%|███▊      | 29/76 [02:10<23:43, 30.29s/it]"
     ]
    },
    {
     "name": "stdout",
     "output_type": "stream",
     "text": [
      "Model Was Not Saved ! Current Best Avg. Dice: 0.6344791650772095 Current Avg. Dice: 0.6255064010620117 Current Avg. tumor Dice: 0.646821141242981 Current Avg. lymph Dice: 0.601840078830719\n"
     ]
    },
    {
     "name": "stderr",
     "output_type": "stream",
     "text": [
      "Training (16947 / 18000 Steps) (loss=0.35623): 100%|██████████| 76/76 [02:57<00:00,  2.33s/it]\n",
      "Validate (16948 / 10 Steps): 100%|██████████| 22/22 [01:38<00:00,  4.46s/it]<00:24,  1.02s/it]\n",
      "Training (17000 / 18000 Steps) (loss=0.51830):  70%|██████▉   | 53/76 [02:34<11:40, 30.44s/it]"
     ]
    },
    {
     "name": "stdout",
     "output_type": "stream",
     "text": [
      "Model Was Not Saved ! Current Best Avg. Dice: 0.6344791650772095 Current Avg. Dice: 0.6262221932411194 Current Avg. tumor Dice: 0.649725079536438 Current Avg. lymph Dice: 0.5940890908241272\n"
     ]
    },
    {
     "name": "stderr",
     "output_type": "stream",
     "text": [
      "Training (17023 / 18000 Steps) (loss=0.28755): 100%|██████████| 76/76 [02:56<00:00,  2.32s/it]\n",
      "Training (17099 / 18000 Steps) (loss=0.39794): 100%|██████████| 76/76 [01:20<00:00,  1.05s/it]\n",
      "Validate (17100 / 10 Steps): 100%|██████████| 22/22 [01:38<00:00,  4.47s/it]?, ?it/s]\n",
      "Training (17100 / 18000 Steps) (loss=0.34739):   1%|▏         | 1/76 [01:43<2:09:03, 103.25s/it]"
     ]
    },
    {
     "name": "stdout",
     "output_type": "stream",
     "text": [
      "Model Was Not Saved ! Current Best Avg. Dice: 0.6344791650772095 Current Avg. Dice: 0.6156348586082458 Current Avg. tumor Dice: 0.6710826754570007 Current Avg. lymph Dice: 0.5588157176971436\n"
     ]
    },
    {
     "name": "stderr",
     "output_type": "stream",
     "text": [
      "Training (17175 / 18000 Steps) (loss=0.45569): 100%|██████████| 76/76 [02:56<00:00,  2.32s/it]  \n",
      "Validate (17176 / 10 Steps): 100%|██████████| 22/22 [01:37<00:00,  4.45s/it]<00:50,  1.03it/s]\n",
      "Training (17200 / 18000 Steps) (loss=0.12277):  33%|███▎      | 25/76 [02:06<25:50, 30.40s/it]"
     ]
    },
    {
     "name": "stdout",
     "output_type": "stream",
     "text": [
      "Model Was Not Saved ! Current Best Avg. Dice: 0.6344791650772095 Current Avg. Dice: 0.6277730464935303 Current Avg. tumor Dice: 0.6731635928153992 Current Avg. lymph Dice: 0.5840911269187927\n"
     ]
    },
    {
     "name": "stderr",
     "output_type": "stream",
     "text": [
      "Training (17251 / 18000 Steps) (loss=0.25360): 100%|██████████| 76/76 [02:57<00:00,  2.33s/it]\n",
      "Validate (17252 / 10 Steps): 100%|██████████| 22/22 [01:37<00:00,  4.44s/it]<00:27,  1.01it/s]\n",
      "Training (17300 / 18000 Steps) (loss=0.29726):  64%|██████▍   | 49/76 [02:30<13:39, 30.34s/it]"
     ]
    },
    {
     "name": "stdout",
     "output_type": "stream",
     "text": [
      "Model Was Not Saved ! Current Best Avg. Dice: 0.6344791650772095 Current Avg. Dice: 0.62937331199646 Current Avg. tumor Dice: 0.6561475396156311 Current Avg. lymph Dice: 0.6026269793510437\n"
     ]
    },
    {
     "name": "stderr",
     "output_type": "stream",
     "text": [
      "Training (17327 / 18000 Steps) (loss=0.36099): 100%|██████████| 76/76 [02:56<00:00,  2.33s/it]\n",
      "Validate (17328 / 10 Steps): 100%|██████████| 22/22 [01:38<00:00,  4.46s/it]<00:03,  1.05it/s]\n",
      "Training (17400 / 18000 Steps) (loss=0.32405):  96%|█████████▌| 73/76 [02:54<01:31, 30.43s/it]"
     ]
    },
    {
     "name": "stdout",
     "output_type": "stream",
     "text": [
      "Model Was Not Saved ! Current Best Avg. Dice: 0.6344791650772095 Current Avg. Dice: 0.6204910278320312 Current Avg. tumor Dice: 0.6442096829414368 Current Avg. lymph Dice: 0.5940161943435669\n"
     ]
    },
    {
     "name": "stderr",
     "output_type": "stream",
     "text": [
      "Training (17403 / 18000 Steps) (loss=0.45396): 100%|██████████| 76/76 [02:57<00:00,  2.33s/it]\n",
      "Training (17479 / 18000 Steps) (loss=0.55845): 100%|██████████| 76/76 [01:18<00:00,  1.03s/it]\n",
      "Validate (17480 / 10 Steps): 100%|██████████| 22/22 [01:37<00:00,  4.44s/it]<00:54,  1.03it/s]\n",
      "Training (17500 / 18000 Steps) (loss=0.67013):  28%|██▊       | 21/76 [02:02<27:49, 30.35s/it]"
     ]
    },
    {
     "name": "stdout",
     "output_type": "stream",
     "text": [
      "Model Was Not Saved ! Current Best Avg. Dice: 0.6344791650772095 Current Avg. Dice: 0.6152331829071045 Current Avg. tumor Dice: 0.6434897184371948 Current Avg. lymph Dice: 0.5811917185783386\n"
     ]
    },
    {
     "name": "stderr",
     "output_type": "stream",
     "text": [
      "Training (17555 / 18000 Steps) (loss=0.25494): 100%|██████████| 76/76 [02:56<00:00,  2.32s/it]\n",
      "Validate (17556 / 10 Steps): 100%|██████████| 22/22 [01:37<00:00,  4.41s/it]<00:31,  1.03it/s]\n",
      "Training (17600 / 18000 Steps) (loss=0.41872):  59%|█████▉    | 45/76 [02:26<15:33, 30.11s/it]"
     ]
    },
    {
     "name": "stdout",
     "output_type": "stream",
     "text": [
      "Model Was Not Saved ! Current Best Avg. Dice: 0.6344791650772095 Current Avg. Dice: 0.546323299407959 Current Avg. tumor Dice: 0.5273252129554749 Current Avg. lymph Dice: 0.5698407292366028\n"
     ]
    },
    {
     "name": "stderr",
     "output_type": "stream",
     "text": [
      "Training (17631 / 18000 Steps) (loss=0.35874): 100%|██████████| 76/76 [02:56<00:00,  2.33s/it]\n",
      "Validate (17632 / 10 Steps): 100%|██████████| 22/22 [01:37<00:00,  4.44s/it]<00:07,  1.06it/s]\n",
      "Training (17700 / 18000 Steps) (loss=0.42417):  91%|█████████ | 69/76 [02:50<03:32, 30.31s/it]"
     ]
    },
    {
     "name": "stdout",
     "output_type": "stream",
     "text": [
      "Model Was Not Saved ! Current Best Avg. Dice: 0.6344791650772095 Current Avg. Dice: 0.6318255066871643 Current Avg. tumor Dice: 0.6508406400680542 Current Avg. lymph Dice: 0.6073268055915833\n"
     ]
    },
    {
     "name": "stderr",
     "output_type": "stream",
     "text": [
      "Training (17707 / 18000 Steps) (loss=0.25080): 100%|██████████| 76/76 [02:57<00:00,  2.33s/it]\n",
      "Training (17783 / 18000 Steps) (loss=0.50419): 100%|██████████| 76/76 [01:19<00:00,  1.04s/it]\n",
      "Validate (17784 / 10 Steps): 100%|██████████| 22/22 [01:37<00:00,  4.43s/it]<00:55,  1.08it/s]\n",
      "Training (17800 / 18000 Steps) (loss=0.44464):  22%|██▏       | 17/76 [01:58<29:45, 30.26s/it]"
     ]
    },
    {
     "name": "stdout",
     "output_type": "stream",
     "text": [
      "Model Was Not Saved ! Current Best Avg. Dice: 0.6344791650772095 Current Avg. Dice: 0.6203153133392334 Current Avg. tumor Dice: 0.6492592692375183 Current Avg. lymph Dice: 0.5884959101676941\n"
     ]
    },
    {
     "name": "stderr",
     "output_type": "stream",
     "text": [
      "Training (17859 / 18000 Steps) (loss=0.66672): 100%|██████████| 76/76 [02:55<00:00,  2.31s/it]\n",
      "Validate (17860 / 10 Steps): 100%|██████████| 22/22 [01:37<00:00,  4.44s/it]<00:34,  1.04it/s]\n",
      "Training (17900 / 18000 Steps) (loss=0.30710):  54%|█████▍    | 41/76 [02:22<17:39, 30.27s/it]"
     ]
    },
    {
     "name": "stdout",
     "output_type": "stream",
     "text": [
      "Model Was Not Saved ! Current Best Avg. Dice: 0.6344791650772095 Current Avg. Dice: 0.584362268447876 Current Avg. tumor Dice: 0.6329026222229004 Current Avg. lymph Dice: 0.5385145545005798\n"
     ]
    },
    {
     "name": "stderr",
     "output_type": "stream",
     "text": [
      "Training (17935 / 18000 Steps) (loss=0.66782): 100%|██████████| 76/76 [02:57<00:00,  2.34s/it]\n",
      "Validate (17936 / 10 Steps): 100%|██████████| 22/22 [01:38<00:00,  4.46s/it]<00:11,  1.07it/s]\n",
      "Training (18000 / 18000 Steps) (loss=0.33659):  86%|████████▌ | 65/76 [02:46<05:34, 30.39s/it]"
     ]
    },
    {
     "name": "stdout",
     "output_type": "stream",
     "text": [
      "Model Was Not Saved ! Current Best Avg. Dice: 0.6344791650772095 Current Avg. Dice: 0.6158292889595032 Current Avg. tumor Dice: 0.6394084692001343 Current Avg. lymph Dice: 0.5994457006454468\n"
     ]
    },
    {
     "name": "stderr",
     "output_type": "stream",
     "text": [
      "Training (18011 / 18000 Steps) (loss=0.42628): 100%|██████████| 76/76 [02:57<00:00,  2.34s/it]\n"
     ]
    }
   ],
   "source": [
    "epoch = 0 # used for LR scheduler\n",
    "max_num_epochs = 530 # used for LR scheduler\n",
    "\n",
    "torch.autograd.set_detect_anomaly(True)  # Enable anomaly detection\n",
    "\n",
    "while global_step < max_iterations:\n",
    "    global_step, dice_val_best, global_step_best = train(\n",
    "        global_step, train_loader, dice_val_best, global_step_best\n",
    "    )\n",
    "    epoch += 1\n",
    "    #optimizer.param_groups[0]['lr'] = poly_lr(epoch, max_num_epochs, 0.005676 , 0.9)\n",
    "# model.load_state_dict(torch.load(os.path.join(model_dir, \"best_metric_luck_UNETr_prompt.pth\")))"
   ]
  }
 ],
 "metadata": {
  "kernelspec": {
   "display_name": "clam",
   "language": "python",
   "name": "python3"
  },
  "language_info": {
   "codemirror_mode": {
    "name": "ipython",
    "version": 3
   },
   "file_extension": ".py",
   "mimetype": "text/x-python",
   "name": "python",
   "nbconvert_exporter": "python",
   "pygments_lexer": "ipython3",
   "version": "3.8.0"
  }
 },
 "nbformat": 4,
 "nbformat_minor": 2
}
