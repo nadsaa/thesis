{
 "cells": [
  {
   "cell_type": "code",
   "execution_count": 1,
   "metadata": {},
   "outputs": [
    {
     "name": "stdout",
     "output_type": "stream",
     "text": [
      "1\n"
     ]
    },
    {
     "name": "stderr",
     "output_type": "stream",
     "text": [
      "/tmp/ipykernel_309345/306556414.py:9: TqdmWarning: IProgress not found. Please update jupyter and ipywidgets. See https://ipywidgets.readthedocs.io/en/stable/user_install.html\n",
      "  from tqdm.autonotebook import tqdm\n"
     ]
    }
   ],
   "source": [
    "import torch\n",
    "import torch.nn as nn\n",
    "from torch.utils.data import DataLoader\n",
    "from collections.abc import Sequence\n",
    "\n",
    "from unetr import CustomedUNETR\n",
    "\n",
    "import json\n",
    "from tqdm.autonotebook import tqdm\n",
    "import os\n",
    "os.environ[\"CUDA_DEVICE_ORDER\"] = \"PCI_BUS_ID\"\n",
    "os.environ[\"CUDA_VISIBLE_DEVICES\"] = \"2\" \n",
    "\n",
    "print(torch.cuda.device_count())\n",
    "torch.backends.cudnn.benchmark = True\n",
    "device = torch.device(\"cuda\" if torch.cuda.is_available() else \"cpu\")"
   ]
  },
  {
   "cell_type": "code",
   "execution_count": 2,
   "metadata": {},
   "outputs": [],
   "source": [
    "from monai.transforms import EnsureTyped\n",
    "from monai.transforms import Compose, LoadImaged, ScaleIntensityRanged, ConcatItemsd\n",
    "from monai.metrics import DiceMetric\n",
    "from monai.losses import DiceCELoss, DiceFocalLoss, FocalLoss\n",
    "from monai.inferers import sliding_window_inference\n",
    "\n",
    "\n",
    "from monai.data import (\n",
    "    Dataset,\n",
    "    DataLoader,\n",
    "    CacheDataset,\n",
    "    load_decathlon_datalist,\n",
    "    decollate_batch,\n",
    ")\n",
    "from monai.transforms import (\n",
    "    AsDiscrete,\n",
    "    Compose,\n",
    "    CropForegroundd,\n",
    "    LoadImaged,\n",
    "    Orientationd,\n",
    "    RandFlipd,\n",
    "    RandCropByPosNegLabeld,\n",
    "    RandShiftIntensityd,\n",
    "    ScaleIntensityRanged,\n",
    "    Spacingd,\n",
    "    RandRotate90d,\n",
    "    MapTransform,\n",
    "    ScaleIntensityd,\n",
    "    #AddChanneld,\n",
    "    SpatialPadd,\n",
    "    CenterSpatialCropd,\n",
    "    EnsureChannelFirstd,\n",
    "    ConcatItemsd,\n",
    "    AdjustContrastd, \n",
    "    Rand3DElasticd,\n",
    "    HistogramNormalized,\n",
    "    NormalizeIntensityd,\n",
    "    Invertd,\n",
    "    SaveImage,\n",
    "\n",
    ")\n",
    "import monai\n",
    "from monai.config import print_config\n",
    "from monai.metrics import DiceMetric\n",
    "from monai.networks.nets import SwinUNETR, UNETR, SegResNet\n",
    "from monai.data import (\n",
    "    DataLoader,\n",
    "    CacheDataset,\n",
    "    load_decathlon_datalist,\n",
    "    decollate_batch,\n",
    ")\n",
    "from monai import data\n",
    "\n",
    "\n",
    "from monai.utils import first, set_determinism\n",
    "from sklearn.model_selection import train_test_split\n",
    "import json\n",
    "\n"
   ]
  },
  {
   "cell_type": "code",
   "execution_count": 3,
   "metadata": {},
   "outputs": [],
   "source": [
    "data_dir = '/home/nada.saadi/MIS-FM/hecktor2022_cropped'\n",
    "json_dir = \"/home/nada.saadi/CTPET/hecktor2022_cropped/HGJ_PET_train_new.json\""
   ]
  },
  {
   "cell_type": "code",
   "execution_count": 4,
   "metadata": {},
   "outputs": [
    {
     "name": "stdout",
     "output_type": "stream",
     "text": [
      "39 15\n"
     ]
    }
   ],
   "source": [
    "def datafold_read(datalist, basedir, fold=0, key=\"training\"):\n",
    "    with open(datalist) as f:\n",
    "        json_data = json.load(f)\n",
    "\n",
    "    json_data = json_data[key]\n",
    "\n",
    "    for d in json_data:\n",
    "        for k in d:\n",
    "            if isinstance(d[k], list):\n",
    "                d[k] = [os.path.join(basedir, iv) for iv in d[k]]\n",
    "            elif isinstance(d[k], str):\n",
    "                d[k] = os.path.join(basedir, d[k]) if len(d[k]) > 0 else d[k]\n",
    "\n",
    "    tr = []\n",
    "    val = []\n",
    "    for d in json_data:\n",
    "        if \"fold\" in d and d[\"fold\"] == fold:\n",
    "            val.append(d)\n",
    "        else:\n",
    "            tr.append(d)\n",
    "\n",
    "    return tr, val\n",
    "\n",
    "\n",
    "train_data, valid_data = datafold_read(datalist=json_dir, basedir=data_dir, fold=0)\n",
    "print(len(train_data), len(valid_data))"
   ]
  },
  {
   "cell_type": "code",
   "execution_count": 5,
   "metadata": {},
   "outputs": [],
   "source": [
    "class ClipCT(MapTransform):\n",
    "    \"\"\"\n",
    "    Convert labels to multi channels based on hecktor classes:\n",
    "    label 1 is the tumor\n",
    "    label 2 is the lymph node\n",
    "\n",
    "    \"\"\"\n",
    "\n",
    "    def __call__(self, data):\n",
    "        d = dict(data)\n",
    "        for key in self.keys:\n",
    "            if key == \"ct\":\n",
    "                d[key] = torch.clip(d[key], min=-200, max=200)\n",
    "            # elif key == \"pt\":\n",
    "            #     d[key] = torch.clip(d[key], d[key].min(), 5)\n",
    "        return d\n",
    "class MulPTFM(MapTransform):\n",
    "    \"\"\"\n",
    "    Mult PT and FM \n",
    "\n",
    "    \"\"\"\n",
    "\n",
    "    def __call__(self, data):\n",
    "        d = dict(data)\n",
    "\n",
    "        fm = d[\"ct\"] > 0\n",
    "        d[\"pt\"] = d[\"pt\"] * fm\n",
    "        return d\n",
    "\n",
    "class SelectClass(MapTransform):\n",
    "    \"\"\"\n",
    "    Select the class for which you want to fine tune the model \n",
    "\n",
    "    \"\"\"\n",
    "    # def __init__(self, keys, cls=1):\n",
    "    #     super(self).__init__(keys)\n",
    "    #     self.cls = cls\n",
    "    def __call__(self, data):\n",
    "        d = dict(data)\n",
    "        d[\"seg\"][d[\"seg\"] == 1] = 0\n",
    "        # d[\"seg\"][d[\"seg\"] == 2] = 1\n",
    "        \n",
    "        return d"
   ]
  },
  {
   "cell_type": "code",
   "execution_count": 6,
   "metadata": {},
   "outputs": [],
   "source": [
    "num_samples = 4\n",
    "\n",
    "train_transforms = Compose(\n",
    "    [\n",
    "        LoadImaged(keys=[\"pt\", \"seg\"], ensure_channel_first = True),\n",
    "        SpatialPadd(keys=[\"pt\",  \"seg\"], spatial_size=(200, 200, 310), method='end'),\n",
    "        Orientationd(keys=[\"pt\",  \"seg\"], axcodes=\"PLS\"),\n",
    "        #NormalizeIntensityd(keys=[\"pt\"]),\n",
    "        ClipCT(keys=[\"pt\"]),\n",
    "        ScaleIntensityd(keys=[\"pt\"], minv=0, maxv=1),\n",
    "        #MulPTFM(keys=[\"ct\",\"pt\"]),\n",
    "        #ConcatItemsd(keys=[\"pt\", \"ct\"], name=\"ctpt\"),\n",
    "        #NormalizeIntensityd(keys=[\"ctpt\"], channel_wise=True),\n",
    "        RandCropByPosNegLabeld(\n",
    "            keys=[\"pt\", \"seg\"],\n",
    "            label_key=\"seg\",\n",
    "             spatial_size=(96, 96, 96),\n",
    "            pos=1,\n",
    "            neg=1,\n",
    "            num_samples=num_samples,\n",
    "            image_key=\"pt\",\n",
    "            image_threshold=0,\n",
    "        ),\n",
    "        RandFlipd(\n",
    "            keys=[\"pt\", \"seg\"],\n",
    "            spatial_axis=[0],\n",
    "            prob=0.20,\n",
    "        ),\n",
    "        RandFlipd(\n",
    "            keys=[\"pt\", \"seg\"],\n",
    "            spatial_axis=[1],\n",
    "            prob=0.20,\n",
    "        ),\n",
    "        RandFlipd(\n",
    "            keys=[\"pt\", \"seg\"],\n",
    "            spatial_axis=[2],\n",
    "            prob=0.20,\n",
    "        ),\n",
    "        RandRotate90d(\n",
    "            keys=[\"pt\", \"seg\"],\n",
    "            prob=0.20,\n",
    "            max_k=3,\n",
    "        ),\n",
    "    ]\n",
    ")\n",
    "val_transforms = Compose(\n",
    "    [ \n",
    "      LoadImaged(keys=[\"pt\", \"seg\"], ensure_channel_first = True),\n",
    "        SpatialPadd(keys=[\"pt\", \"seg\"], spatial_size=(200, 200, 310), method='end'),\n",
    "        Orientationd(keys=[\"pt\",  \"seg\"], axcodes=\"PLS\"),\n",
    "        #NormalizeIntensityd(keys=[\"pt\"]),\n",
    "        ClipCT(keys=[\"pt\"]),\n",
    "        ScaleIntensityd(keys=[\"pt\"], minv=0, maxv=1),\n",
    "        #MulPTFM(keys=[\"ct\",\"pt\"]),\n",
    "        #ConcatItemsd(keys=[\"pt\", \"ct\"], name=\"ctpt\"),\n",
    "    ]\n",
    ")"
   ]
  },
  {
   "cell_type": "code",
   "execution_count": 7,
   "metadata": {},
   "outputs": [],
   "source": [
    "train_ds = monai.data.Dataset(data=train_data, transform=train_transforms)\n",
    "\n",
    "train_loader = DataLoader(\n",
    "    train_ds,\n",
    "    batch_size=2,\n",
    "    shuffle=True,\n",
    "    num_workers=8,\n",
    "    pin_memory=torch.cuda.is_available(),\n",
    "    )\n",
    "\n",
    "val_ds = monai.data.Dataset(data=valid_data, transform=val_transforms)\n",
    "\n",
    "val_loader = DataLoader(\n",
    "    val_ds, \n",
    "    batch_size=2, \n",
    "    num_workers=8, \n",
    "    shuffle= False)"
   ]
  },
  {
   "cell_type": "code",
   "execution_count": 8,
   "metadata": {},
   "outputs": [
    {
     "name": "stderr",
     "output_type": "stream",
     "text": [
      "/home/nada.saadi/miniconda3/envs/clam/lib/python3.8/site-packages/monai/utils/deprecate_utils.py:221: FutureWarning: monai.networks.nets.unetr UNETR.__init__:pos_embed: Argument `pos_embed` has been deprecated since version 1.2. It will be removed in version 1.4. please use `proj_type` instead.\n",
      "  warn_deprecated(argname, msg, warning_category)\n"
     ]
    }
   ],
   "source": [
    "\n",
    "os.environ[\"CUDA_DEVICE_ORDER\"] = \"PCI_BUS_ID\"\n",
    "device = torch.device(\"cuda\" if torch.cuda.is_available() else \"cpu\")\n",
    "model = UNETR(\n",
    "    in_channels=1,\n",
    "    out_channels=3,\n",
    "    img_size=(96, 96, 96),\n",
    "    feature_size=16, #16\n",
    "    hidden_size= 768, #768,\n",
    "    mlp_dim=3072, #3072,\n",
    "    num_heads=12,\n",
    "    pos_embed=\"perceptron\",\n",
    "    norm_name=\"instance\",\n",
    "    res_block=True,\n",
    "    dropout_rate=0.0,\n",
    ").to(device)\n",
    "pt_ct_weights_ct_6th_channel = '/home/nada.saadi/CTPET/hecktor2022_cropped/6thCTonly_channel/6thCTonly_channel.pth'\n",
    "torch.save(model.state_dict(), pt_ct_weights_ct_6th_channel)\n",
    "\n",
    "for name, param in model.named_parameters():\n",
    "    if \"decoder5\" in name or \"decoder4\" in name or \"decoder3\" in name or \"decoder2\" in name:\n",
    "        param.requires_grad = False\n",
    "\n"
   ]
  },
  {
   "cell_type": "code",
   "execution_count": 9,
   "metadata": {},
   "outputs": [],
   "source": [
    "def poly_lr(epoch, max_epochs, initial_lr, exponent=0.9):\n",
    "    return initial_lr * (1 - epoch / max_epochs)**exponent\n",
    "\n",
    "model_dir='/home/nada.saadi/CTPET/hecktor2022_cropped/X1'\n",
    "max_iterations = 18000\n",
    "eval_num = 100\n",
    "\n",
    "## running stats\n",
    "global_step = 0\n",
    "dice_val_best = 0.0\n",
    "global_step_best = 0\n",
    "epoch_loss_values = []\n",
    "metric_values = []\n",
    "metric_values_tumor = []\n",
    "metric_values_lymph = []\n",
    "\n",
    "loss_function = DiceCELoss(to_onehot_y=True, softmax=True)\n",
    "optimizer = torch.optim.AdamW(model.parameters(), lr=1e-4, weight_decay=1e-5)\n",
    "\n",
    "\n",
    "post_label = AsDiscrete(to_onehot=3)\n",
    "post_pred = AsDiscrete(argmax=True, to_onehot=3)\n",
    "\n",
    "dice_metric = DiceMetric(include_background=False, reduction=\"mean\", get_not_nans=False)\n",
    "dice_metric_batch = DiceMetric(include_background=False, reduction=\"mean_batch\")\n",
    "def validation(epoch_iterator_val):\n",
    "        model.eval()\n",
    "        with torch.no_grad():\n",
    "            for step, batch in enumerate(epoch_iterator_val):\n",
    "                val_inputs, val_labels = (batch[\"pt\"].cuda(), batch[\"seg\"].cuda())\n",
    "                val_outputs = sliding_window_inference(val_inputs, (96, 96, 96), 4, model)\n",
    "                val_labels_list = decollate_batch(val_labels)\n",
    "                val_labels_convert = [\n",
    "                    post_label(val_label_tensor) for val_label_tensor in val_labels_list\n",
    "                ]\n",
    "                val_outputs_list = decollate_batch(val_outputs)\n",
    "                val_output_convert = [\n",
    "                    post_pred(val_pred_tensor) for val_pred_tensor in val_outputs_list\n",
    "                ]\n",
    "                dice_metric(y_pred=val_output_convert, y=val_labels_convert)\n",
    "                dice_metric_batch(y_pred=val_output_convert, y=val_labels_convert)\n",
    "                epoch_iterator_val.set_description(\n",
    "                    \"Validate (%d / %d Steps)\" % (global_step, 10.0)\n",
    "                )\n",
    "            mean_dice_val = dice_metric.aggregate().item()\n",
    "            metric_batch_val = dice_metric_batch.aggregate()\n",
    "\n",
    "            metric_tumor = metric_batch_val[0].item()\n",
    "            metric_lymph = metric_batch_val[1].item()\n",
    "\n",
    "            dice_metric.reset()\n",
    "            dice_metric_batch.reset()\n",
    "        return mean_dice_val, metric_tumor, metric_lymph\n",
    "\n",
    "def train(global_step, train_loader, dice_val_best, global_step_best):\n",
    "        model.train()\n",
    "        epoch_loss = 0 \n",
    "        step = 0\n",
    "        epoch_iterator = tqdm(\n",
    "            train_loader, desc=\"Training (X / X Steps) (loss=X.X)\", dynamic_ncols=True\n",
    "        )\n",
    "        for step, batch in enumerate(epoch_iterator):\n",
    "            step += 1\n",
    "            x, y = (batch[\"pt\"].cuda(), batch[\"seg\"].cuda())\n",
    "            logit_map = model(x)\n",
    "            loss = loss_function(logit_map, y)\n",
    "            loss.backward()\n",
    "            epoch_loss += loss.item() \n",
    "            optimizer.step()\n",
    "            optimizer.zero_grad()\n",
    "            epoch_iterator.set_description(\n",
    "                \"Training (%d / %d Steps) (loss=%2.5f)\"\n",
    "                % (global_step, max_iterations, loss)\n",
    "            )\n",
    "            if (\n",
    "                global_step % eval_num == 0 and global_step != 0\n",
    "            ) or global_step == max_iterations:\n",
    "                epoch_iterator_val = tqdm(\n",
    "                    val_loader, desc=\"Validate (X / X Steps) (dice=X.X)\", dynamic_ncols=True\n",
    "                )\n",
    "                dice_val, metric_tumor, metric_lymph = validation(epoch_iterator_val)\n",
    "                epoch_loss /= step\n",
    "                epoch_loss_values.append(epoch_loss)\n",
    "                metric_values.append(dice_val)\n",
    "                metric_values_tumor.append(metric_tumor)\n",
    "                metric_values_lymph.append(metric_lymph)\n",
    "                if dice_val > dice_val_best:\n",
    "                    dice_val_best = dice_val\n",
    "                    global_step_best = global_step\n",
    "                    torch.save(\n",
    "                        model.state_dict(), os.path.join(model_dir, \"X1_ct_channel_pet.pth\")\n",
    "                    )\n",
    "                    print(\n",
    "                        \"Model Was Saved ! Current Best Avg. Dice: {} Current Avg. Dice: {} Current Avg. tumor Dice: {} Current Avg. lymph Dice: {}\".format(\n",
    "                            dice_val_best, dice_val, metric_tumor, metric_lymph\n",
    "                        )\n",
    "                    )\n",
    "                else:\n",
    "                    print(\n",
    "                        \"Model Was Not Saved ! Current Best Avg. Dice: {} Current Avg. Dice: {} Current Avg. tumor Dice: {} Current Avg. lymph Dice: {}\".format(\n",
    "                            dice_val_best, dice_val,  metric_tumor, metric_lymph\n",
    "                        )\n",
    "                    )\n",
    "            global_step += 1\n",
    "        return global_step, dice_val_best, global_step_best"
   ]
  },
  {
   "cell_type": "code",
   "execution_count": 10,
   "metadata": {},
   "outputs": [
    {
     "name": "stderr",
     "output_type": "stream",
     "text": [
      "Training (X / X Steps) (loss=X.X):   0%|          | 0/20 [00:00<?, ?it/s]"
     ]
    },
    {
     "name": "stderr",
     "output_type": "stream",
     "text": [
      "Training (19 / 18000 Steps) (loss=1.68435): 100%|██████████| 20/20 [00:29<00:00,  1.45s/it]\n",
      "Training (39 / 18000 Steps) (loss=1.60282): 100%|██████████| 20/20 [00:18<00:00,  1.06it/s]\n",
      "Training (59 / 18000 Steps) (loss=1.56336): 100%|██████████| 20/20 [00:19<00:00,  1.03it/s]\n",
      "Training (79 / 18000 Steps) (loss=1.54340): 100%|██████████| 20/20 [00:18<00:00,  1.05it/s]\n",
      "Training (99 / 18000 Steps) (loss=1.49632): 100%|██████████| 20/20 [00:19<00:00,  1.04it/s]\n",
      "Validate (100 / 10 Steps): 100%|██████████| 8/8 [00:10<00:00,  1.35s/it]3<?, ?it/s]\n",
      "Training (100 / 18000 Steps) (loss=1.47996):   5%|▌         | 1/20 [00:16<05:06, 16.12s/it]"
     ]
    },
    {
     "name": "stdout",
     "output_type": "stream",
     "text": [
      "Model Was Saved ! Current Best Avg. Dice: 0.0009428094490431249 Current Avg. Dice: 0.0009428094490431249 Current Avg. tumor Dice: 0.0005060692201368511 Current Avg. lymph Dice: 0.0015504746697843075\n"
     ]
    },
    {
     "name": "stderr",
     "output_type": "stream",
     "text": [
      "Training (119 / 18000 Steps) (loss=1.43207): 100%|██████████| 20/20 [00:31<00:00,  1.56s/it]\n",
      "Training (139 / 18000 Steps) (loss=1.42996): 100%|██████████| 20/20 [00:19<00:00,  1.04it/s]\n",
      "Training (159 / 18000 Steps) (loss=1.41464): 100%|██████████| 20/20 [00:19<00:00,  1.05it/s]\n",
      "Training (179 / 18000 Steps) (loss=1.39056): 100%|██████████| 20/20 [00:18<00:00,  1.07it/s]\n",
      "Training (199 / 18000 Steps) (loss=1.37291): 100%|██████████| 20/20 [00:19<00:00,  1.05it/s]\n",
      "Validate (200 / 10 Steps): 100%|██████████| 8/8 [00:10<00:00,  1.34s/it]3<?, ?it/s]\n",
      "Training (200 / 18000 Steps) (loss=1.36697):   5%|▌         | 1/20 [00:14<04:36, 14.56s/it]"
     ]
    },
    {
     "name": "stdout",
     "output_type": "stream",
     "text": [
      "Model Was Not Saved ! Current Best Avg. Dice: 0.0009428094490431249 Current Avg. Dice: 0.0005183593602851033 Current Avg. tumor Dice: 0.00023386874818243086 Current Avg. lymph Dice: 0.0009263654355891049\n"
     ]
    },
    {
     "name": "stderr",
     "output_type": "stream",
     "text": [
      "Training (219 / 18000 Steps) (loss=1.33431): 100%|██████████| 20/20 [00:29<00:00,  1.50s/it]\n",
      "Training (239 / 18000 Steps) (loss=1.34297): 100%|██████████| 20/20 [00:18<00:00,  1.05it/s]\n",
      "Training (259 / 18000 Steps) (loss=1.31282): 100%|██████████| 20/20 [00:19<00:00,  1.04it/s]\n",
      "Training (279 / 18000 Steps) (loss=1.28674): 100%|██████████| 20/20 [00:19<00:00,  1.05it/s]\n",
      "Training (299 / 18000 Steps) (loss=1.28400): 100%|██████████| 20/20 [00:19<00:00,  1.04it/s]\n",
      "Validate (300 / 10 Steps): 100%|██████████| 8/8 [00:10<00:00,  1.35s/it]3<?, ?it/s]\n",
      "Training (300 / 18000 Steps) (loss=1.29112):   5%|▌         | 1/20 [00:14<04:39, 14.71s/it]"
     ]
    },
    {
     "name": "stdout",
     "output_type": "stream",
     "text": [
      "Model Was Not Saved ! Current Best Avg. Dice: 0.0009428094490431249 Current Avg. Dice: 0.00018765911227092147 Current Avg. tumor Dice: 5.56220838916488e-05 Current Avg. lymph Dice: 0.00034562297514639795\n"
     ]
    },
    {
     "name": "stderr",
     "output_type": "stream",
     "text": [
      "Training (319 / 18000 Steps) (loss=1.25037): 100%|██████████| 20/20 [00:30<00:00,  1.50s/it]\n",
      "Training (339 / 18000 Steps) (loss=1.22926): 100%|██████████| 20/20 [00:19<00:00,  1.05it/s]\n",
      "Training (359 / 18000 Steps) (loss=1.21837): 100%|██████████| 20/20 [00:19<00:00,  1.05it/s]\n",
      "Training (379 / 18000 Steps) (loss=1.21976): 100%|██████████| 20/20 [00:19<00:00,  1.04it/s]\n",
      "Training (399 / 18000 Steps) (loss=1.20032): 100%|██████████| 20/20 [00:19<00:00,  1.05it/s]\n",
      "Validate (400 / 10 Steps): 100%|██████████| 8/8 [00:10<00:00,  1.37s/it]3<?, ?it/s]\n",
      "Training (400 / 18000 Steps) (loss=1.19445):   5%|▌         | 1/20 [00:14<04:40, 14.75s/it]"
     ]
    },
    {
     "name": "stdout",
     "output_type": "stream",
     "text": [
      "Model Was Not Saved ! Current Best Avg. Dice: 0.0009428094490431249 Current Avg. Dice: 2.0560339180519804e-05 Current Avg. tumor Dice: 2.7050787139160093e-06 Current Avg. lymph Dice: 4.4325690396362916e-05\n"
     ]
    },
    {
     "name": "stderr",
     "output_type": "stream",
     "text": [
      "Training (419 / 18000 Steps) (loss=1.16639): 100%|██████████| 20/20 [00:29<00:00,  1.50s/it]\n",
      "Training (439 / 18000 Steps) (loss=1.17578): 100%|██████████| 20/20 [00:19<00:00,  1.03it/s]\n",
      "Training (459 / 18000 Steps) (loss=1.12574): 100%|██████████| 20/20 [00:19<00:00,  1.04it/s]\n",
      "Training (479 / 18000 Steps) (loss=1.12387): 100%|██████████| 20/20 [00:19<00:00,  1.05it/s]\n",
      "Training (499 / 18000 Steps) (loss=1.14510): 100%|██████████| 20/20 [00:19<00:00,  1.02it/s]\n",
      "Validate (500 / 10 Steps): 100%|██████████| 8/8 [00:10<00:00,  1.34s/it]3<?, ?it/s]\n",
      "Training (500 / 18000 Steps) (loss=1.15512):   5%|▌         | 1/20 [00:14<04:37, 14.58s/it]"
     ]
    },
    {
     "name": "stdout",
     "output_type": "stream",
     "text": [
      "Model Was Not Saved ! Current Best Avg. Dice: 0.0009428094490431249 Current Avg. Dice: 0.0 Current Avg. tumor Dice: 0.0 Current Avg. lymph Dice: 0.0\n"
     ]
    },
    {
     "name": "stderr",
     "output_type": "stream",
     "text": [
      "Training (519 / 18000 Steps) (loss=1.13704): 100%|██████████| 20/20 [00:29<00:00,  1.49s/it]\n",
      "Training (539 / 18000 Steps) (loss=1.13000): 100%|██████████| 20/20 [00:18<00:00,  1.06it/s]\n",
      "Training (559 / 18000 Steps) (loss=1.10938): 100%|██████████| 20/20 [00:19<00:00,  1.04it/s]\n",
      "Training (579 / 18000 Steps) (loss=1.07119): 100%|██████████| 20/20 [00:18<00:00,  1.07it/s]\n",
      "Training (599 / 18000 Steps) (loss=1.08746): 100%|██████████| 20/20 [00:18<00:00,  1.06it/s]\n",
      "Validate (600 / 10 Steps): 100%|██████████| 8/8 [00:10<00:00,  1.35s/it]3<?, ?it/s]\n",
      "Training (600 / 18000 Steps) (loss=1.08397):   5%|▌         | 1/20 [00:14<04:38, 14.67s/it]"
     ]
    },
    {
     "name": "stdout",
     "output_type": "stream",
     "text": [
      "Model Was Not Saved ! Current Best Avg. Dice: 0.0009428094490431249 Current Avg. Dice: 0.0 Current Avg. tumor Dice: 0.0 Current Avg. lymph Dice: 0.0\n"
     ]
    },
    {
     "name": "stderr",
     "output_type": "stream",
     "text": [
      "Training (619 / 18000 Steps) (loss=1.09849): 100%|██████████| 20/20 [00:30<00:00,  1.52s/it]\n",
      "Training (639 / 18000 Steps) (loss=1.09284): 100%|██████████| 20/20 [00:19<00:00,  1.02it/s]\n",
      "Training (659 / 18000 Steps) (loss=1.04477): 100%|██████████| 20/20 [00:19<00:00,  1.04it/s]\n",
      "Training (679 / 18000 Steps) (loss=1.02070): 100%|██████████| 20/20 [00:20<00:00,  1.01s/it]\n",
      "Training (699 / 18000 Steps) (loss=1.07682): 100%|██████████| 20/20 [00:19<00:00,  1.00it/s]\n",
      "Validate (700 / 10 Steps): 100%|██████████| 8/8 [00:10<00:00,  1.36s/it]4<?, ?it/s]\n",
      "Training (700 / 18000 Steps) (loss=1.02884):   5%|▌         | 1/20 [00:15<04:47, 15.12s/it]"
     ]
    },
    {
     "name": "stdout",
     "output_type": "stream",
     "text": [
      "Model Was Not Saved ! Current Best Avg. Dice: 0.0009428094490431249 Current Avg. Dice: 0.0 Current Avg. tumor Dice: 0.0 Current Avg. lymph Dice: 0.0\n"
     ]
    },
    {
     "name": "stderr",
     "output_type": "stream",
     "text": [
      "Training (719 / 18000 Steps) (loss=1.03213): 100%|██████████| 20/20 [00:31<00:00,  1.56s/it]\n",
      "Training (739 / 18000 Steps) (loss=1.03153): 100%|██████████| 20/20 [00:19<00:00,  1.00it/s]\n",
      "Training (759 / 18000 Steps) (loss=0.99788): 100%|██████████| 20/20 [00:20<00:00,  1.00s/it]\n",
      "Training (779 / 18000 Steps) (loss=1.03102): 100%|██████████| 20/20 [00:20<00:00,  1.01s/it]\n",
      "Training (799 / 18000 Steps) (loss=0.99402): 100%|██████████| 20/20 [00:20<00:00,  1.01s/it]\n",
      "Validate (800 / 10 Steps): 100%|██████████| 8/8 [00:10<00:00,  1.36s/it]3<?, ?it/s]\n",
      "Training (800 / 18000 Steps) (loss=0.98603):   5%|▌         | 1/20 [00:14<04:42, 14.86s/it]"
     ]
    },
    {
     "name": "stdout",
     "output_type": "stream",
     "text": [
      "Model Was Not Saved ! Current Best Avg. Dice: 0.0009428094490431249 Current Avg. Dice: 0.0 Current Avg. tumor Dice: 0.0 Current Avg. lymph Dice: 0.0\n"
     ]
    },
    {
     "name": "stderr",
     "output_type": "stream",
     "text": [
      "Training (819 / 18000 Steps) (loss=1.00743): 100%|██████████| 20/20 [00:30<00:00,  1.54s/it]\n",
      "Training (839 / 18000 Steps) (loss=0.97997): 100%|██████████| 20/20 [00:19<00:00,  1.01it/s]\n",
      "Training (859 / 18000 Steps) (loss=1.03753): 100%|██████████| 20/20 [00:20<00:00,  1.02s/it]\n",
      "Training (879 / 18000 Steps) (loss=0.99132): 100%|██████████| 20/20 [00:19<00:00,  1.00it/s]\n",
      "Training (899 / 18000 Steps) (loss=0.97609): 100%|██████████| 20/20 [00:20<00:00,  1.01s/it]\n",
      "Validate (900 / 10 Steps): 100%|██████████| 8/8 [00:10<00:00,  1.36s/it]3<?, ?it/s]\n",
      "Training (900 / 18000 Steps) (loss=0.96214):   5%|▌         | 1/20 [00:14<04:42, 14.89s/it]"
     ]
    },
    {
     "name": "stdout",
     "output_type": "stream",
     "text": [
      "Model Was Not Saved ! Current Best Avg. Dice: 0.0009428094490431249 Current Avg. Dice: 0.0 Current Avg. tumor Dice: 0.0 Current Avg. lymph Dice: 0.0\n"
     ]
    },
    {
     "name": "stderr",
     "output_type": "stream",
     "text": [
      "Training (919 / 18000 Steps) (loss=0.98902): 100%|██████████| 20/20 [00:30<00:00,  1.53s/it]\n",
      "Training (939 / 18000 Steps) (loss=0.96379): 100%|██████████| 20/20 [00:20<00:00,  1.01s/it]\n",
      "Training (959 / 18000 Steps) (loss=0.96716): 100%|██████████| 20/20 [00:20<00:00,  1.02s/it]\n",
      "Training (979 / 18000 Steps) (loss=0.95652): 100%|██████████| 20/20 [00:20<00:00,  1.00s/it]\n",
      "Training (999 / 18000 Steps) (loss=0.95683): 100%|██████████| 20/20 [00:20<00:00,  1.00s/it]\n",
      "Validate (1000 / 10 Steps): 100%|██████████| 8/8 [00:10<00:00,  1.37s/it]4<?, ?it/s]\n",
      "Training (1000 / 18000 Steps) (loss=0.92872):   5%|▌         | 1/20 [00:15<04:48, 15.21s/it]"
     ]
    },
    {
     "name": "stdout",
     "output_type": "stream",
     "text": [
      "Model Was Not Saved ! Current Best Avg. Dice: 0.0009428094490431249 Current Avg. Dice: 0.0 Current Avg. tumor Dice: 0.0 Current Avg. lymph Dice: 0.0\n"
     ]
    },
    {
     "name": "stderr",
     "output_type": "stream",
     "text": [
      "Training (1019 / 18000 Steps) (loss=0.93753): 100%|██████████| 20/20 [00:31<00:00,  1.55s/it]\n",
      "Training (1039 / 18000 Steps) (loss=0.93617): 100%|██████████| 20/20 [00:19<00:00,  1.00it/s]\n",
      "Training (1059 / 18000 Steps) (loss=0.92899): 100%|██████████| 20/20 [00:19<00:00,  1.01it/s]\n",
      "Training (1079 / 18000 Steps) (loss=0.93462): 100%|██████████| 20/20 [00:20<00:00,  1.02s/it]\n",
      "Training (1099 / 18000 Steps) (loss=0.90095): 100%|██████████| 20/20 [00:20<00:00,  1.00s/it]\n",
      "Validate (1100 / 10 Steps): 100%|██████████| 8/8 [00:10<00:00,  1.36s/it]3<?, ?it/s]\n",
      "Training (1100 / 18000 Steps) (loss=0.92398):   5%|▌         | 1/20 [00:14<04:41, 14.81s/it]"
     ]
    },
    {
     "name": "stdout",
     "output_type": "stream",
     "text": [
      "Model Was Not Saved ! Current Best Avg. Dice: 0.0009428094490431249 Current Avg. Dice: 0.0 Current Avg. tumor Dice: 0.0 Current Avg. lymph Dice: 0.0\n"
     ]
    },
    {
     "name": "stderr",
     "output_type": "stream",
     "text": [
      "Training (1119 / 18000 Steps) (loss=0.96301): 100%|██████████| 20/20 [00:31<00:00,  1.55s/it]\n",
      "Training (1139 / 18000 Steps) (loss=0.89752): 100%|██████████| 20/20 [00:19<00:00,  1.00it/s]\n",
      "Training (1159 / 18000 Steps) (loss=0.90603): 100%|██████████| 20/20 [00:19<00:00,  1.01it/s]\n",
      "Training (1179 / 18000 Steps) (loss=0.89520): 100%|██████████| 20/20 [00:20<00:00,  1.01s/it]\n",
      "Training (1199 / 18000 Steps) (loss=0.90366): 100%|██████████| 20/20 [00:20<00:00,  1.01s/it]\n",
      "Validate (1200 / 10 Steps): 100%|██████████| 8/8 [00:10<00:00,  1.36s/it]3<?, ?it/s]\n",
      "Training (1200 / 18000 Steps) (loss=0.87211):   5%|▌         | 1/20 [00:14<04:42, 14.88s/it]"
     ]
    },
    {
     "name": "stdout",
     "output_type": "stream",
     "text": [
      "Model Was Not Saved ! Current Best Avg. Dice: 0.0009428094490431249 Current Avg. Dice: 0.0 Current Avg. tumor Dice: 0.0 Current Avg. lymph Dice: 0.0\n"
     ]
    },
    {
     "name": "stderr",
     "output_type": "stream",
     "text": [
      "Training (1219 / 18000 Steps) (loss=0.89226): 100%|██████████| 20/20 [00:30<00:00,  1.55s/it]\n",
      "Training (1239 / 18000 Steps) (loss=0.88639): 100%|██████████| 20/20 [00:19<00:00,  1.00it/s]\n",
      "Training (1259 / 18000 Steps) (loss=0.86439): 100%|██████████| 20/20 [00:20<00:00,  1.01s/it]\n",
      "Training (1279 / 18000 Steps) (loss=0.91700): 100%|██████████| 20/20 [00:20<00:00,  1.02s/it]\n",
      "Training (1299 / 18000 Steps) (loss=0.87544): 100%|██████████| 20/20 [00:20<00:00,  1.00s/it]\n",
      "Validate (1300 / 10 Steps): 100%|██████████| 8/8 [00:11<00:00,  1.38s/it]3<?, ?it/s]\n",
      "Training (1300 / 18000 Steps) (loss=0.88170):   5%|▌         | 1/20 [00:15<04:45, 15.05s/it]"
     ]
    },
    {
     "name": "stdout",
     "output_type": "stream",
     "text": [
      "Model Was Not Saved ! Current Best Avg. Dice: 0.0009428094490431249 Current Avg. Dice: 0.0 Current Avg. tumor Dice: 0.0 Current Avg. lymph Dice: 0.0\n"
     ]
    },
    {
     "name": "stderr",
     "output_type": "stream",
     "text": [
      "Training (1319 / 18000 Steps) (loss=0.86935): 100%|██████████| 20/20 [00:31<00:00,  1.55s/it]\n",
      "Training (1339 / 18000 Steps) (loss=0.84443): 100%|██████████| 20/20 [00:20<00:00,  1.00s/it]\n",
      "Training (1359 / 18000 Steps) (loss=0.85267): 100%|██████████| 20/20 [00:20<00:00,  1.01s/it]\n",
      "Training (1379 / 18000 Steps) (loss=0.84465): 100%|██████████| 20/20 [00:19<00:00,  1.00it/s]\n",
      "Training (1399 / 18000 Steps) (loss=0.88076): 100%|██████████| 20/20 [00:20<00:00,  1.01s/it]\n",
      "Validate (1400 / 10 Steps): 100%|██████████| 8/8 [00:10<00:00,  1.37s/it]3<?, ?it/s]\n",
      "Training (1400 / 18000 Steps) (loss=0.84836):   5%|▌         | 1/20 [00:14<04:42, 14.87s/it]"
     ]
    },
    {
     "name": "stdout",
     "output_type": "stream",
     "text": [
      "Model Was Not Saved ! Current Best Avg. Dice: 0.0009428094490431249 Current Avg. Dice: 0.0 Current Avg. tumor Dice: 0.0 Current Avg. lymph Dice: 0.0\n"
     ]
    },
    {
     "name": "stderr",
     "output_type": "stream",
     "text": [
      "Training (1419 / 18000 Steps) (loss=0.99208): 100%|██████████| 20/20 [00:30<00:00,  1.54s/it]\n",
      "Training (1439 / 18000 Steps) (loss=0.85437): 100%|██████████| 20/20 [00:20<00:00,  1.00s/it]\n",
      "Training (1459 / 18000 Steps) (loss=0.88774): 100%|██████████| 20/20 [00:20<00:00,  1.00s/it]\n",
      "Training (1479 / 18000 Steps) (loss=0.83813): 100%|██████████| 20/20 [00:20<00:00,  1.02s/it]\n",
      "Training (1499 / 18000 Steps) (loss=0.85773): 100%|██████████| 20/20 [00:20<00:00,  1.01s/it]\n",
      "Validate (1500 / 10 Steps): 100%|██████████| 8/8 [00:10<00:00,  1.36s/it]4<?, ?it/s]\n",
      "Training (1500 / 18000 Steps) (loss=0.88327):   5%|▌         | 1/20 [00:14<04:44, 14.95s/it]"
     ]
    },
    {
     "name": "stdout",
     "output_type": "stream",
     "text": [
      "Model Was Not Saved ! Current Best Avg. Dice: 0.0009428094490431249 Current Avg. Dice: 0.0 Current Avg. tumor Dice: 0.0 Current Avg. lymph Dice: 0.0\n"
     ]
    },
    {
     "name": "stderr",
     "output_type": "stream",
     "text": [
      "Training (1519 / 18000 Steps) (loss=0.83065): 100%|██████████| 20/20 [00:30<00:00,  1.54s/it]\n",
      "Training (1539 / 18000 Steps) (loss=0.85627): 100%|██████████| 20/20 [00:20<00:00,  1.00s/it]\n",
      "Training (1559 / 18000 Steps) (loss=0.81627): 100%|██████████| 20/20 [00:19<00:00,  1.01it/s]\n",
      "Training (1579 / 18000 Steps) (loss=0.85545): 100%|██████████| 20/20 [00:20<00:00,  1.02s/it]\n",
      "Training (1599 / 18000 Steps) (loss=0.82734): 100%|██████████| 20/20 [00:20<00:00,  1.01s/it]\n",
      "Validate (1600 / 10 Steps): 100%|██████████| 8/8 [00:10<00:00,  1.36s/it]3<?, ?it/s]\n",
      "Training (1600 / 18000 Steps) (loss=0.83189):   5%|▌         | 1/20 [00:14<04:41, 14.83s/it]"
     ]
    },
    {
     "name": "stdout",
     "output_type": "stream",
     "text": [
      "Model Was Not Saved ! Current Best Avg. Dice: 0.0009428094490431249 Current Avg. Dice: 0.0 Current Avg. tumor Dice: 0.0 Current Avg. lymph Dice: 0.0\n"
     ]
    },
    {
     "name": "stderr",
     "output_type": "stream",
     "text": [
      "Training (1619 / 18000 Steps) (loss=0.79884): 100%|██████████| 20/20 [00:31<00:00,  1.55s/it]\n",
      "Training (1639 / 18000 Steps) (loss=0.88003): 100%|██████████| 20/20 [00:19<00:00,  1.01it/s]\n",
      "Training (1659 / 18000 Steps) (loss=0.81697): 100%|██████████| 20/20 [00:20<00:00,  1.00s/it]\n",
      "Training (1679 / 18000 Steps) (loss=0.80330): 100%|██████████| 20/20 [00:20<00:00,  1.00s/it]\n",
      "Training (1699 / 18000 Steps) (loss=0.80235): 100%|██████████| 20/20 [00:20<00:00,  1.03s/it]\n",
      "Validate (1700 / 10 Steps): 100%|██████████| 8/8 [00:10<00:00,  1.37s/it]3<?, ?it/s]\n",
      "Training (1700 / 18000 Steps) (loss=0.82746):   5%|▌         | 1/20 [00:14<04:43, 14.94s/it]"
     ]
    },
    {
     "name": "stdout",
     "output_type": "stream",
     "text": [
      "Model Was Not Saved ! Current Best Avg. Dice: 0.0009428094490431249 Current Avg. Dice: 0.0 Current Avg. tumor Dice: 0.0 Current Avg. lymph Dice: 0.0\n"
     ]
    },
    {
     "name": "stderr",
     "output_type": "stream",
     "text": [
      "Training (1719 / 18000 Steps) (loss=0.80906): 100%|██████████| 20/20 [00:30<00:00,  1.55s/it]\n",
      "Training (1739 / 18000 Steps) (loss=0.80519): 100%|██████████| 20/20 [00:19<00:00,  1.00it/s]\n",
      "Training (1759 / 18000 Steps) (loss=0.80703): 100%|██████████| 20/20 [00:20<00:00,  1.01s/it]\n",
      "Training (1779 / 18000 Steps) (loss=0.80099): 100%|██████████| 20/20 [00:20<00:00,  1.02s/it]\n",
      "Training (1799 / 18000 Steps) (loss=0.79569): 100%|██████████| 20/20 [00:20<00:00,  1.01s/it]\n",
      "Validate (1800 / 10 Steps): 100%|██████████| 8/8 [00:10<00:00,  1.35s/it]4<?, ?it/s]\n",
      "Training (1800 / 18000 Steps) (loss=0.81081):   5%|▌         | 1/20 [00:14<04:43, 14.91s/it]"
     ]
    },
    {
     "name": "stdout",
     "output_type": "stream",
     "text": [
      "Model Was Not Saved ! Current Best Avg. Dice: 0.0009428094490431249 Current Avg. Dice: 0.0 Current Avg. tumor Dice: 0.0 Current Avg. lymph Dice: 0.0\n"
     ]
    },
    {
     "name": "stderr",
     "output_type": "stream",
     "text": [
      "Training (1819 / 18000 Steps) (loss=0.79025): 100%|██████████| 20/20 [00:30<00:00,  1.53s/it]\n",
      "Training (1839 / 18000 Steps) (loss=0.78783): 100%|██████████| 20/20 [00:20<00:00,  1.02s/it]\n",
      "Training (1859 / 18000 Steps) (loss=0.78520): 100%|██████████| 20/20 [00:19<00:00,  1.00it/s]\n",
      "Training (1879 / 18000 Steps) (loss=1.00571): 100%|██████████| 20/20 [00:20<00:00,  1.02s/it]\n",
      "Training (1899 / 18000 Steps) (loss=0.80348): 100%|██████████| 20/20 [00:20<00:00,  1.00s/it]\n",
      "Validate (1900 / 10 Steps): 100%|██████████| 8/8 [00:10<00:00,  1.37s/it]4<?, ?it/s]\n",
      "Training (1900 / 18000 Steps) (loss=0.80543):   5%|▌         | 1/20 [00:15<04:47, 15.11s/it]"
     ]
    },
    {
     "name": "stdout",
     "output_type": "stream",
     "text": [
      "Model Was Not Saved ! Current Best Avg. Dice: 0.0009428094490431249 Current Avg. Dice: 0.0 Current Avg. tumor Dice: 0.0 Current Avg. lymph Dice: 0.0\n"
     ]
    },
    {
     "name": "stderr",
     "output_type": "stream",
     "text": [
      "Training (1919 / 18000 Steps) (loss=0.79934): 100%|██████████| 20/20 [00:31<00:00,  1.57s/it]\n",
      "Training (1939 / 18000 Steps) (loss=0.78027): 100%|██████████| 20/20 [00:20<00:00,  1.01s/it]\n",
      "Training (1959 / 18000 Steps) (loss=0.82344): 100%|██████████| 20/20 [00:20<00:00,  1.01s/it]\n",
      "Training (1979 / 18000 Steps) (loss=0.77743): 100%|██████████| 20/20 [00:20<00:00,  1.03s/it]\n",
      "Training (1999 / 18000 Steps) (loss=0.79576): 100%|██████████| 20/20 [00:20<00:00,  1.00s/it]\n",
      "Validate (2000 / 10 Steps): 100%|██████████| 8/8 [00:10<00:00,  1.37s/it]3<?, ?it/s]\n",
      "Training (2000 / 18000 Steps) (loss=0.80292):   5%|▌         | 1/20 [00:14<04:42, 14.85s/it]"
     ]
    },
    {
     "name": "stdout",
     "output_type": "stream",
     "text": [
      "Model Was Not Saved ! Current Best Avg. Dice: 0.0009428094490431249 Current Avg. Dice: 0.0 Current Avg. tumor Dice: 0.0 Current Avg. lymph Dice: 0.0\n"
     ]
    },
    {
     "name": "stderr",
     "output_type": "stream",
     "text": [
      "Training (2019 / 18000 Steps) (loss=0.80615): 100%|██████████| 20/20 [00:30<00:00,  1.54s/it]\n",
      "Training (2039 / 18000 Steps) (loss=0.77912): 100%|██████████| 20/20 [00:20<00:00,  1.01s/it]\n",
      "Training (2059 / 18000 Steps) (loss=1.01393): 100%|██████████| 20/20 [00:19<00:00,  1.00it/s]\n",
      "Training (2079 / 18000 Steps) (loss=0.80447): 100%|██████████| 20/20 [00:20<00:00,  1.00s/it]\n",
      "Training (2099 / 18000 Steps) (loss=0.78741): 100%|██████████| 20/20 [00:20<00:00,  1.00s/it]\n",
      "Validate (2100 / 10 Steps): 100%|██████████| 8/8 [00:10<00:00,  1.36s/it]4<?, ?it/s]\n",
      "Training (2100 / 18000 Steps) (loss=0.78824):   5%|▌         | 1/20 [00:15<04:45, 15.00s/it]"
     ]
    },
    {
     "name": "stdout",
     "output_type": "stream",
     "text": [
      "Model Was Not Saved ! Current Best Avg. Dice: 0.0009428094490431249 Current Avg. Dice: 0.0 Current Avg. tumor Dice: 0.0 Current Avg. lymph Dice: 0.0\n"
     ]
    },
    {
     "name": "stderr",
     "output_type": "stream",
     "text": [
      "Training (2119 / 18000 Steps) (loss=0.77777): 100%|██████████| 20/20 [00:30<00:00,  1.55s/it]\n",
      "Training (2139 / 18000 Steps) (loss=0.79296): 100%|██████████| 20/20 [00:20<00:00,  1.01s/it]\n",
      "Training (2159 / 18000 Steps) (loss=0.79232): 100%|██████████| 20/20 [00:20<00:00,  1.01s/it]\n",
      "Training (2179 / 18000 Steps) (loss=0.78467): 100%|██████████| 20/20 [00:20<00:00,  1.00s/it]\n",
      "Training (2199 / 18000 Steps) (loss=0.76586): 100%|██████████| 20/20 [00:20<00:00,  1.02s/it]\n",
      "Validate (2200 / 10 Steps): 100%|██████████| 8/8 [00:10<00:00,  1.37s/it]3<?, ?it/s]\n",
      "Training (2200 / 18000 Steps) (loss=0.76727):   5%|▌         | 1/20 [00:14<04:44, 14.96s/it]"
     ]
    },
    {
     "name": "stdout",
     "output_type": "stream",
     "text": [
      "Model Was Not Saved ! Current Best Avg. Dice: 0.0009428094490431249 Current Avg. Dice: 0.0 Current Avg. tumor Dice: 0.0 Current Avg. lymph Dice: 0.0\n"
     ]
    },
    {
     "name": "stderr",
     "output_type": "stream",
     "text": [
      "Training (2219 / 18000 Steps) (loss=0.75232): 100%|██████████| 20/20 [00:30<00:00,  1.53s/it]\n",
      "Training (2239 / 18000 Steps) (loss=0.78498): 100%|██████████| 20/20 [00:19<00:00,  1.00it/s]\n",
      "Training (2259 / 18000 Steps) (loss=0.81434): 100%|██████████| 20/20 [00:19<00:00,  1.00it/s]\n",
      "Training (2279 / 18000 Steps) (loss=0.75429): 100%|██████████| 20/20 [00:20<00:00,  1.02s/it]\n",
      "Training (2299 / 18000 Steps) (loss=0.78203): 100%|██████████| 20/20 [00:20<00:00,  1.00s/it]\n",
      "Validate (2300 / 10 Steps): 100%|██████████| 8/8 [00:10<00:00,  1.36s/it]4<?, ?it/s]\n",
      "Training (2300 / 18000 Steps) (loss=0.77282):   5%|▌         | 1/20 [00:14<04:44, 14.95s/it]"
     ]
    },
    {
     "name": "stdout",
     "output_type": "stream",
     "text": [
      "Model Was Not Saved ! Current Best Avg. Dice: 0.0009428094490431249 Current Avg. Dice: 0.0 Current Avg. tumor Dice: 0.0 Current Avg. lymph Dice: 0.0\n"
     ]
    },
    {
     "name": "stderr",
     "output_type": "stream",
     "text": [
      "Training (2319 / 18000 Steps) (loss=0.77695): 100%|██████████| 20/20 [00:30<00:00,  1.55s/it]\n",
      "Training (2339 / 18000 Steps) (loss=0.77674): 100%|██████████| 20/20 [00:20<00:00,  1.00s/it]\n",
      "Training (2359 / 18000 Steps) (loss=0.75040): 100%|██████████| 20/20 [00:20<00:00,  1.00s/it]\n",
      "Training (2379 / 18000 Steps) (loss=0.75515): 100%|██████████| 20/20 [00:20<00:00,  1.01s/it]\n",
      "Training (2399 / 18000 Steps) (loss=0.76232): 100%|██████████| 20/20 [00:19<00:00,  1.01it/s]\n",
      "Validate (2400 / 10 Steps): 100%|██████████| 8/8 [00:11<00:00,  1.39s/it]3<?, ?it/s]\n",
      "Training (2400 / 18000 Steps) (loss=0.78058):   5%|▌         | 1/20 [00:15<04:46, 15.06s/it]"
     ]
    },
    {
     "name": "stdout",
     "output_type": "stream",
     "text": [
      "Model Was Not Saved ! Current Best Avg. Dice: 0.0009428094490431249 Current Avg. Dice: 0.0 Current Avg. tumor Dice: 0.0 Current Avg. lymph Dice: 0.0\n"
     ]
    },
    {
     "name": "stderr",
     "output_type": "stream",
     "text": [
      "Training (2419 / 18000 Steps) (loss=0.75299): 100%|██████████| 20/20 [00:30<00:00,  1.54s/it]\n",
      "Training (2439 / 18000 Steps) (loss=0.75982): 100%|██████████| 20/20 [00:19<00:00,  1.00it/s]\n",
      "Training (2459 / 18000 Steps) (loss=0.83765): 100%|██████████| 20/20 [00:20<00:00,  1.01s/it]\n",
      "Training (2479 / 18000 Steps) (loss=0.80285): 100%|██████████| 20/20 [00:19<00:00,  1.01it/s]\n",
      "Training (2499 / 18000 Steps) (loss=0.72941): 100%|██████████| 20/20 [00:20<00:00,  1.01s/it]\n",
      "Validate (2500 / 10 Steps): 100%|██████████| 8/8 [00:10<00:00,  1.36s/it]3<?, ?it/s]\n",
      "Training (2500 / 18000 Steps) (loss=0.78631):   5%|▌         | 1/20 [00:14<04:42, 14.87s/it]"
     ]
    },
    {
     "name": "stdout",
     "output_type": "stream",
     "text": [
      "Model Was Not Saved ! Current Best Avg. Dice: 0.0009428094490431249 Current Avg. Dice: 0.0 Current Avg. tumor Dice: 0.0 Current Avg. lymph Dice: 0.0\n"
     ]
    },
    {
     "name": "stderr",
     "output_type": "stream",
     "text": [
      "Training (2519 / 18000 Steps) (loss=1.00714): 100%|██████████| 20/20 [00:30<00:00,  1.53s/it]\n",
      "Training (2539 / 18000 Steps) (loss=0.76928): 100%|██████████| 20/20 [00:19<00:00,  1.00it/s]\n",
      "Training (2559 / 18000 Steps) (loss=0.75216): 100%|██████████| 20/20 [00:20<00:00,  1.03s/it]\n",
      "Training (2579 / 18000 Steps) (loss=0.73896): 100%|██████████| 20/20 [00:20<00:00,  1.00s/it]\n",
      "Training (2599 / 18000 Steps) (loss=0.73624): 100%|██████████| 20/20 [00:19<00:00,  1.00it/s]\n",
      "Validate (2600 / 10 Steps): 100%|██████████| 8/8 [00:10<00:00,  1.37s/it]3<?, ?it/s]\n",
      "Training (2600 / 18000 Steps) (loss=0.76567):   5%|▌         | 1/20 [00:14<04:43, 14.94s/it]"
     ]
    },
    {
     "name": "stdout",
     "output_type": "stream",
     "text": [
      "Model Was Not Saved ! Current Best Avg. Dice: 0.0009428094490431249 Current Avg. Dice: 0.0 Current Avg. tumor Dice: 0.0 Current Avg. lymph Dice: 0.0\n"
     ]
    },
    {
     "name": "stderr",
     "output_type": "stream",
     "text": [
      "Training (2619 / 18000 Steps) (loss=0.73641): 100%|██████████| 20/20 [00:30<00:00,  1.54s/it]\n",
      "Training (2639 / 18000 Steps) (loss=0.75419): 100%|██████████| 20/20 [00:20<00:00,  1.02s/it]\n",
      "Training (2659 / 18000 Steps) (loss=0.73939): 100%|██████████| 20/20 [00:20<00:00,  1.00s/it]\n",
      "Training (2679 / 18000 Steps) (loss=0.74277): 100%|██████████| 20/20 [00:20<00:00,  1.01s/it]\n",
      "Training (2699 / 18000 Steps) (loss=0.75258): 100%|██████████| 20/20 [00:20<00:00,  1.01s/it]\n",
      "Validate (2700 / 10 Steps): 100%|██████████| 8/8 [00:11<00:00,  1.38s/it]3<?, ?it/s]\n",
      "Training (2700 / 18000 Steps) (loss=0.77701):   5%|▌         | 1/20 [00:14<04:44, 14.98s/it]"
     ]
    },
    {
     "name": "stdout",
     "output_type": "stream",
     "text": [
      "Model Was Not Saved ! Current Best Avg. Dice: 0.0009428094490431249 Current Avg. Dice: 0.0 Current Avg. tumor Dice: 0.0 Current Avg. lymph Dice: 0.0\n"
     ]
    },
    {
     "name": "stderr",
     "output_type": "stream",
     "text": [
      "Training (2719 / 18000 Steps) (loss=0.80835): 100%|██████████| 20/20 [00:31<00:00,  1.55s/it]\n",
      "Training (2739 / 18000 Steps) (loss=0.78748): 100%|██████████| 20/20 [00:19<00:00,  1.00it/s]\n",
      "Training (2759 / 18000 Steps) (loss=0.74362): 100%|██████████| 20/20 [00:19<00:00,  1.00it/s]\n",
      "Training (2779 / 18000 Steps) (loss=0.76163): 100%|██████████| 20/20 [00:19<00:00,  1.02it/s]\n",
      "Training (2799 / 18000 Steps) (loss=0.76574): 100%|██████████| 20/20 [00:20<00:00,  1.00s/it]\n",
      "Validate (2800 / 10 Steps): 100%|██████████| 8/8 [00:10<00:00,  1.35s/it]4<?, ?it/s]\n",
      "Training (2800 / 18000 Steps) (loss=0.77248):   5%|▌         | 1/20 [00:15<04:48, 15.19s/it]"
     ]
    },
    {
     "name": "stdout",
     "output_type": "stream",
     "text": [
      "Model Was Not Saved ! Current Best Avg. Dice: 0.0009428094490431249 Current Avg. Dice: 0.0 Current Avg. tumor Dice: 0.0 Current Avg. lymph Dice: 0.0\n"
     ]
    },
    {
     "name": "stderr",
     "output_type": "stream",
     "text": [
      "Training (2819 / 18000 Steps) (loss=0.72235): 100%|██████████| 20/20 [00:31<00:00,  1.56s/it]\n",
      "Training (2839 / 18000 Steps) (loss=0.75470): 100%|██████████| 20/20 [00:19<00:00,  1.00it/s]\n",
      "Training (2859 / 18000 Steps) (loss=0.73162): 100%|██████████| 20/20 [00:19<00:00,  1.02it/s]\n",
      "Training (2879 / 18000 Steps) (loss=0.74721): 100%|██████████| 20/20 [00:19<00:00,  1.01it/s]\n",
      "Training (2899 / 18000 Steps) (loss=0.74057): 100%|██████████| 20/20 [00:19<00:00,  1.00it/s]\n",
      "Validate (2900 / 10 Steps): 100%|██████████| 8/8 [00:10<00:00,  1.35s/it]3<?, ?it/s]\n",
      "Training (2900 / 18000 Steps) (loss=0.75029):   5%|▌         | 1/20 [00:14<04:39, 14.70s/it]"
     ]
    },
    {
     "name": "stdout",
     "output_type": "stream",
     "text": [
      "Model Was Not Saved ! Current Best Avg. Dice: 0.0009428094490431249 Current Avg. Dice: 0.0 Current Avg. tumor Dice: 0.0 Current Avg. lymph Dice: 0.0\n"
     ]
    },
    {
     "name": "stderr",
     "output_type": "stream",
     "text": [
      "Training (2919 / 18000 Steps) (loss=0.76582): 100%|██████████| 20/20 [00:30<00:00,  1.51s/it]\n",
      "Training (2939 / 18000 Steps) (loss=0.74174): 100%|██████████| 20/20 [00:20<00:00,  1.01s/it]\n",
      "Training (2959 / 18000 Steps) (loss=0.74608): 100%|██████████| 20/20 [00:19<00:00,  1.01it/s]\n",
      "Training (2979 / 18000 Steps) (loss=0.74759): 100%|██████████| 20/20 [00:19<00:00,  1.00it/s]\n",
      "Training (2999 / 18000 Steps) (loss=0.76290): 100%|██████████| 20/20 [00:19<00:00,  1.01it/s]\n",
      "Validate (3000 / 10 Steps): 100%|██████████| 8/8 [00:10<00:00,  1.36s/it]3<?, ?it/s]\n",
      "Training (3000 / 18000 Steps) (loss=0.75804):   5%|▌         | 1/20 [00:14<04:41, 14.80s/it]"
     ]
    },
    {
     "name": "stdout",
     "output_type": "stream",
     "text": [
      "Model Was Not Saved ! Current Best Avg. Dice: 0.0009428094490431249 Current Avg. Dice: 0.0 Current Avg. tumor Dice: 0.0 Current Avg. lymph Dice: 0.0\n"
     ]
    },
    {
     "name": "stderr",
     "output_type": "stream",
     "text": [
      "Training (3019 / 18000 Steps) (loss=0.73182): 100%|██████████| 20/20 [00:30<00:00,  1.52s/it]\n",
      "Training (3039 / 18000 Steps) (loss=0.74652): 100%|██████████| 20/20 [00:20<00:00,  1.00s/it]\n",
      "Training (3059 / 18000 Steps) (loss=0.73904): 100%|██████████| 20/20 [00:20<00:00,  1.01s/it]\n",
      "Training (3079 / 18000 Steps) (loss=0.73939): 100%|██████████| 20/20 [00:19<00:00,  1.00it/s]\n",
      "Training (3099 / 18000 Steps) (loss=0.74900): 100%|██████████| 20/20 [00:19<00:00,  1.01it/s]\n",
      "Validate (3100 / 10 Steps): 100%|██████████| 8/8 [00:11<00:00,  1.38s/it]3<?, ?it/s]\n",
      "Training (3100 / 18000 Steps) (loss=0.72401):   5%|▌         | 1/20 [00:15<04:45, 15.03s/it]"
     ]
    },
    {
     "name": "stdout",
     "output_type": "stream",
     "text": [
      "Model Was Not Saved ! Current Best Avg. Dice: 0.0009428094490431249 Current Avg. Dice: 0.0 Current Avg. tumor Dice: 0.0 Current Avg. lymph Dice: 0.0\n"
     ]
    },
    {
     "name": "stderr",
     "output_type": "stream",
     "text": [
      "Training (3119 / 18000 Steps) (loss=0.75146): 100%|██████████| 20/20 [00:30<00:00,  1.52s/it]\n",
      "Training (3139 / 18000 Steps) (loss=0.73759): 100%|██████████| 20/20 [00:19<00:00,  1.01it/s]\n",
      "Training (3159 / 18000 Steps) (loss=0.72874): 100%|██████████| 20/20 [00:19<00:00,  1.00it/s]\n",
      "Training (3179 / 18000 Steps) (loss=0.73542): 100%|██████████| 20/20 [00:19<00:00,  1.00it/s]\n",
      "Training (3199 / 18000 Steps) (loss=0.77812): 100%|██████████| 20/20 [00:20<00:00,  1.00s/it]\n",
      "Validate (3200 / 10 Steps): 100%|██████████| 8/8 [00:10<00:00,  1.36s/it]3<?, ?it/s]\n",
      "Training (3200 / 18000 Steps) (loss=0.71969):   5%|▌         | 1/20 [00:14<04:42, 14.86s/it]"
     ]
    },
    {
     "name": "stdout",
     "output_type": "stream",
     "text": [
      "Model Was Not Saved ! Current Best Avg. Dice: 0.0009428094490431249 Current Avg. Dice: 0.0 Current Avg. tumor Dice: 0.0 Current Avg. lymph Dice: 0.0\n"
     ]
    },
    {
     "name": "stderr",
     "output_type": "stream",
     "text": [
      "Training (3219 / 18000 Steps) (loss=0.73223): 100%|██████████| 20/20 [00:30<00:00,  1.53s/it]\n",
      "Training (3239 / 18000 Steps) (loss=0.76474): 100%|██████████| 20/20 [00:19<00:00,  1.00it/s]\n",
      "Training (3259 / 18000 Steps) (loss=0.73178): 100%|██████████| 20/20 [00:20<00:00,  1.02s/it]\n",
      "Training (3279 / 18000 Steps) (loss=0.74126): 100%|██████████| 20/20 [00:19<00:00,  1.01it/s]\n",
      "Training (3299 / 18000 Steps) (loss=0.72182): 100%|██████████| 20/20 [00:20<00:00,  1.01s/it]\n",
      "Validate (3300 / 10 Steps): 100%|██████████| 8/8 [00:10<00:00,  1.35s/it]3<?, ?it/s]\n",
      "Training (3300 / 18000 Steps) (loss=0.74554):   5%|▌         | 1/20 [00:14<04:40, 14.79s/it]"
     ]
    },
    {
     "name": "stdout",
     "output_type": "stream",
     "text": [
      "Model Was Not Saved ! Current Best Avg. Dice: 0.0009428094490431249 Current Avg. Dice: 0.0 Current Avg. tumor Dice: 0.0 Current Avg. lymph Dice: 0.0\n"
     ]
    },
    {
     "name": "stderr",
     "output_type": "stream",
     "text": [
      "Training (3319 / 18000 Steps) (loss=0.72581): 100%|██████████| 20/20 [00:30<00:00,  1.51s/it]\n",
      "Training (3339 / 18000 Steps) (loss=0.76362): 100%|██████████| 20/20 [00:20<00:00,  1.01s/it]\n",
      "Training (3359 / 18000 Steps) (loss=0.78232): 100%|██████████| 20/20 [00:19<00:00,  1.01it/s]\n",
      "Training (3379 / 18000 Steps) (loss=0.73568): 100%|██████████| 20/20 [00:19<00:00,  1.02it/s]\n",
      "Training (3399 / 18000 Steps) (loss=0.75524): 100%|██████████| 20/20 [00:20<00:00,  1.00s/it]\n",
      "Validate (3400 / 10 Steps): 100%|██████████| 8/8 [00:10<00:00,  1.35s/it]3<?, ?it/s]\n",
      "Training (3400 / 18000 Steps) (loss=0.72419):   5%|▌         | 1/20 [00:14<04:40, 14.76s/it]"
     ]
    },
    {
     "name": "stdout",
     "output_type": "stream",
     "text": [
      "Model Was Not Saved ! Current Best Avg. Dice: 0.0009428094490431249 Current Avg. Dice: 0.0 Current Avg. tumor Dice: 0.0 Current Avg. lymph Dice: 0.0\n"
     ]
    },
    {
     "name": "stderr",
     "output_type": "stream",
     "text": [
      "Training (3419 / 18000 Steps) (loss=0.73243): 100%|██████████| 20/20 [00:30<00:00,  1.52s/it]\n",
      "Training (3439 / 18000 Steps) (loss=0.71849): 100%|██████████| 20/20 [00:20<00:00,  1.02s/it]\n",
      "Training (3459 / 18000 Steps) (loss=0.74049): 100%|██████████| 20/20 [00:20<00:00,  1.00s/it]\n",
      "Training (3479 / 18000 Steps) (loss=0.71071): 100%|██████████| 20/20 [00:20<00:00,  1.00s/it]\n",
      "Training (3499 / 18000 Steps) (loss=0.72935): 100%|██████████| 20/20 [00:19<00:00,  1.01it/s]\n",
      "Validate (3500 / 10 Steps): 100%|██████████| 8/8 [00:10<00:00,  1.36s/it]4<?, ?it/s]\n",
      "Training (3500 / 18000 Steps) (loss=0.71423):   5%|▌         | 1/20 [00:15<04:45, 15.02s/it]"
     ]
    },
    {
     "name": "stdout",
     "output_type": "stream",
     "text": [
      "Model Was Not Saved ! Current Best Avg. Dice: 0.0009428094490431249 Current Avg. Dice: 0.0 Current Avg. tumor Dice: 0.0 Current Avg. lymph Dice: 0.0\n"
     ]
    },
    {
     "name": "stderr",
     "output_type": "stream",
     "text": [
      "Training (3519 / 18000 Steps) (loss=0.71479): 100%|██████████| 20/20 [00:30<00:00,  1.54s/it]\n",
      "Training (3539 / 18000 Steps) (loss=0.75861): 100%|██████████| 20/20 [00:19<00:00,  1.00it/s]\n",
      "Training (3559 / 18000 Steps) (loss=0.72471): 100%|██████████| 20/20 [00:19<00:00,  1.02it/s]\n",
      "Training (3579 / 18000 Steps) (loss=0.71045): 100%|██████████| 20/20 [00:19<00:00,  1.01it/s]\n",
      "Training (3599 / 18000 Steps) (loss=0.80562): 100%|██████████| 20/20 [00:19<00:00,  1.00it/s]\n",
      "Validate (3600 / 10 Steps): 100%|██████████| 8/8 [00:10<00:00,  1.35s/it]3<?, ?it/s]\n",
      "Training (3600 / 18000 Steps) (loss=0.71713):   5%|▌         | 1/20 [00:14<04:40, 14.79s/it]"
     ]
    },
    {
     "name": "stdout",
     "output_type": "stream",
     "text": [
      "Model Was Not Saved ! Current Best Avg. Dice: 0.0009428094490431249 Current Avg. Dice: 0.0 Current Avg. tumor Dice: 0.0 Current Avg. lymph Dice: 0.0\n"
     ]
    },
    {
     "name": "stderr",
     "output_type": "stream",
     "text": [
      "Training (3619 / 18000 Steps) (loss=0.72133): 100%|██████████| 20/20 [00:30<00:00,  1.54s/it]\n",
      "Training (3639 / 18000 Steps) (loss=0.72277): 100%|██████████| 20/20 [00:19<00:00,  1.03it/s]\n",
      "Training (3659 / 18000 Steps) (loss=0.71870): 100%|██████████| 20/20 [00:19<00:00,  1.00it/s]\n",
      "Training (3679 / 18000 Steps) (loss=0.70195): 100%|██████████| 20/20 [00:19<00:00,  1.02it/s]\n",
      "Training (3699 / 18000 Steps) (loss=0.75061): 100%|██████████| 20/20 [00:19<00:00,  1.02it/s]\n",
      "Validate (3700 / 10 Steps): 100%|██████████| 8/8 [00:10<00:00,  1.34s/it]3<?, ?it/s]\n",
      "Training (3700 / 18000 Steps) (loss=0.72926):   5%|▌         | 1/20 [00:14<04:40, 14.75s/it]"
     ]
    },
    {
     "name": "stdout",
     "output_type": "stream",
     "text": [
      "Model Was Not Saved ! Current Best Avg. Dice: 0.0009428094490431249 Current Avg. Dice: 0.0 Current Avg. tumor Dice: 0.0 Current Avg. lymph Dice: 0.0\n"
     ]
    },
    {
     "name": "stderr",
     "output_type": "stream",
     "text": [
      "Training (3719 / 18000 Steps) (loss=0.70891): 100%|██████████| 20/20 [00:29<00:00,  1.50s/it]\n",
      "Training (3739 / 18000 Steps) (loss=0.70429): 100%|██████████| 20/20 [00:19<00:00,  1.01it/s]\n",
      "Training (3759 / 18000 Steps) (loss=0.73521): 100%|██████████| 20/20 [00:19<00:00,  1.03it/s]\n",
      "Training (3779 / 18000 Steps) (loss=0.71437): 100%|██████████| 20/20 [00:19<00:00,  1.03it/s]\n",
      "Training (3799 / 18000 Steps) (loss=0.73763): 100%|██████████| 20/20 [00:19<00:00,  1.02it/s]\n",
      "Validate (3800 / 10 Steps): 100%|██████████| 8/8 [00:10<00:00,  1.35s/it]3<?, ?it/s]\n",
      "Training (3800 / 18000 Steps) (loss=0.75072):   5%|▌         | 1/20 [00:14<04:41, 14.83s/it]"
     ]
    },
    {
     "name": "stdout",
     "output_type": "stream",
     "text": [
      "Model Was Not Saved ! Current Best Avg. Dice: 0.0009428094490431249 Current Avg. Dice: 0.0 Current Avg. tumor Dice: 0.0 Current Avg. lymph Dice: 0.0\n"
     ]
    },
    {
     "name": "stderr",
     "output_type": "stream",
     "text": [
      "Training (3819 / 18000 Steps) (loss=0.74011): 100%|██████████| 20/20 [00:30<00:00,  1.50s/it]\n",
      "Training (3839 / 18000 Steps) (loss=0.71446): 100%|██████████| 20/20 [00:19<00:00,  1.02it/s]\n",
      "Training (3859 / 18000 Steps) (loss=0.75860): 100%|██████████| 20/20 [00:19<00:00,  1.03it/s]\n",
      "Training (3879 / 18000 Steps) (loss=0.71827): 100%|██████████| 20/20 [00:19<00:00,  1.03it/s]\n",
      "Training (3899 / 18000 Steps) (loss=0.72645): 100%|██████████| 20/20 [00:19<00:00,  1.03it/s]\n",
      "Validate (3900 / 10 Steps): 100%|██████████| 8/8 [00:10<00:00,  1.34s/it]3<?, ?it/s]\n",
      "Training (3900 / 18000 Steps) (loss=0.70257):   5%|▌         | 1/20 [00:14<04:35, 14.50s/it]"
     ]
    },
    {
     "name": "stdout",
     "output_type": "stream",
     "text": [
      "Model Was Not Saved ! Current Best Avg. Dice: 0.0009428094490431249 Current Avg. Dice: 0.0 Current Avg. tumor Dice: 0.0 Current Avg. lymph Dice: 0.0\n"
     ]
    },
    {
     "name": "stderr",
     "output_type": "stream",
     "text": [
      "Training (3919 / 18000 Steps) (loss=0.71833): 100%|██████████| 20/20 [00:30<00:00,  1.50s/it]\n",
      "Training (3939 / 18000 Steps) (loss=0.70474): 100%|██████████| 20/20 [00:19<00:00,  1.00it/s]\n",
      "Training (3959 / 18000 Steps) (loss=0.73072): 100%|██████████| 20/20 [00:19<00:00,  1.03it/s]\n",
      "Training (3979 / 18000 Steps) (loss=0.73723): 100%|██████████| 20/20 [00:19<00:00,  1.03it/s]\n",
      "Training (3999 / 18000 Steps) (loss=0.69526): 100%|██████████| 20/20 [00:19<00:00,  1.02it/s]\n",
      "Validate (4000 / 10 Steps): 100%|██████████| 8/8 [00:10<00:00,  1.34s/it]3<?, ?it/s]\n",
      "Training (4000 / 18000 Steps) (loss=0.69786):   5%|▌         | 1/20 [00:14<04:39, 14.70s/it]"
     ]
    },
    {
     "name": "stdout",
     "output_type": "stream",
     "text": [
      "Model Was Not Saved ! Current Best Avg. Dice: 0.0009428094490431249 Current Avg. Dice: 0.0 Current Avg. tumor Dice: 0.0 Current Avg. lymph Dice: 0.0\n"
     ]
    },
    {
     "name": "stderr",
     "output_type": "stream",
     "text": [
      "Training (4019 / 18000 Steps) (loss=0.70705): 100%|██████████| 20/20 [00:29<00:00,  1.49s/it]\n",
      "Training (4039 / 18000 Steps) (loss=0.72906): 100%|██████████| 20/20 [00:19<00:00,  1.01it/s]\n",
      "Training (4059 / 18000 Steps) (loss=0.71061): 100%|██████████| 20/20 [00:19<00:00,  1.03it/s]\n",
      "Training (4079 / 18000 Steps) (loss=0.71085): 100%|██████████| 20/20 [00:19<00:00,  1.02it/s]\n",
      "Training (4099 / 18000 Steps) (loss=0.71235): 100%|██████████| 20/20 [00:19<00:00,  1.03it/s]\n",
      "Validate (4100 / 10 Steps): 100%|██████████| 8/8 [00:10<00:00,  1.35s/it]3<?, ?it/s]\n",
      "Training (4100 / 18000 Steps) (loss=0.71247):   5%|▌         | 1/20 [00:14<04:41, 14.80s/it]"
     ]
    },
    {
     "name": "stdout",
     "output_type": "stream",
     "text": [
      "Model Was Not Saved ! Current Best Avg. Dice: 0.0009428094490431249 Current Avg. Dice: 0.0 Current Avg. tumor Dice: 0.0 Current Avg. lymph Dice: 0.0\n"
     ]
    },
    {
     "name": "stderr",
     "output_type": "stream",
     "text": [
      "Training (4119 / 18000 Steps) (loss=0.69737): 100%|██████████| 20/20 [00:30<00:00,  1.50s/it]\n",
      "Training (4139 / 18000 Steps) (loss=0.69904): 100%|██████████| 20/20 [00:19<00:00,  1.03it/s]\n",
      "Training (4159 / 18000 Steps) (loss=0.90827): 100%|██████████| 20/20 [00:19<00:00,  1.03it/s]\n",
      "Training (4179 / 18000 Steps) (loss=0.69453): 100%|██████████| 20/20 [00:19<00:00,  1.01it/s]\n",
      "Training (4199 / 18000 Steps) (loss=0.72736): 100%|██████████| 20/20 [00:19<00:00,  1.03it/s]\n",
      "Validate (4200 / 10 Steps): 100%|██████████| 8/8 [00:10<00:00,  1.34s/it]4<?, ?it/s]\n",
      "Training (4200 / 18000 Steps) (loss=0.70331):   5%|▌         | 1/20 [00:14<04:42, 14.86s/it]"
     ]
    },
    {
     "name": "stdout",
     "output_type": "stream",
     "text": [
      "Model Was Not Saved ! Current Best Avg. Dice: 0.0009428094490431249 Current Avg. Dice: 0.0 Current Avg. tumor Dice: 0.0 Current Avg. lymph Dice: 0.0\n"
     ]
    },
    {
     "name": "stderr",
     "output_type": "stream",
     "text": [
      "Training (4219 / 18000 Steps) (loss=0.70226): 100%|██████████| 20/20 [00:30<00:00,  1.52s/it]\n",
      "Training (4239 / 18000 Steps) (loss=0.68288): 100%|██████████| 20/20 [00:19<00:00,  1.02it/s]\n",
      "Training (4259 / 18000 Steps) (loss=0.69145): 100%|██████████| 20/20 [00:19<00:00,  1.02it/s]\n",
      "Training (4279 / 18000 Steps) (loss=0.72751): 100%|██████████| 20/20 [00:19<00:00,  1.01it/s]\n",
      "Training (4299 / 18000 Steps) (loss=0.73144): 100%|██████████| 20/20 [00:19<00:00,  1.01it/s]\n",
      "Validate (4300 / 10 Steps): 100%|██████████| 8/8 [00:10<00:00,  1.34s/it]4<?, ?it/s]\n",
      "Training (4300 / 18000 Steps) (loss=0.72664):   5%|▌         | 1/20 [00:14<04:43, 14.93s/it]"
     ]
    },
    {
     "name": "stdout",
     "output_type": "stream",
     "text": [
      "Model Was Not Saved ! Current Best Avg. Dice: 0.0009428094490431249 Current Avg. Dice: 0.0 Current Avg. tumor Dice: 0.0 Current Avg. lymph Dice: 0.0\n"
     ]
    },
    {
     "name": "stderr",
     "output_type": "stream",
     "text": [
      "Training (4319 / 18000 Steps) (loss=0.69491): 100%|██████████| 20/20 [00:30<00:00,  1.51s/it]\n",
      "Training (4339 / 18000 Steps) (loss=0.70699): 100%|██████████| 20/20 [00:20<00:00,  1.01s/it]\n",
      "Training (4359 / 18000 Steps) (loss=0.71032): 100%|██████████| 20/20 [00:20<00:00,  1.01s/it]\n",
      "Training (4379 / 18000 Steps) (loss=0.71937): 100%|██████████| 20/20 [00:19<00:00,  1.01it/s]\n",
      "Training (4399 / 18000 Steps) (loss=0.70417): 100%|██████████| 20/20 [00:20<00:00,  1.00s/it]\n",
      "Validate (4400 / 10 Steps): 100%|██████████| 8/8 [00:10<00:00,  1.36s/it]4<?, ?it/s]\n",
      "Training (4400 / 18000 Steps) (loss=0.69526):   5%|▌         | 1/20 [00:14<04:42, 14.89s/it]"
     ]
    },
    {
     "name": "stdout",
     "output_type": "stream",
     "text": [
      "Model Was Not Saved ! Current Best Avg. Dice: 0.0009428094490431249 Current Avg. Dice: 0.0 Current Avg. tumor Dice: 0.0 Current Avg. lymph Dice: 0.0\n"
     ]
    },
    {
     "name": "stderr",
     "output_type": "stream",
     "text": [
      "Training (4419 / 18000 Steps) (loss=0.70903): 100%|██████████| 20/20 [00:30<00:00,  1.51s/it]\n",
      "Training (4439 / 18000 Steps) (loss=0.70015): 100%|██████████| 20/20 [00:19<00:00,  1.04it/s]\n",
      "Training (4459 / 18000 Steps) (loss=0.70576): 100%|██████████| 20/20 [00:19<00:00,  1.02it/s]\n",
      "Training (4479 / 18000 Steps) (loss=0.69316): 100%|██████████| 20/20 [00:20<00:00,  1.01s/it]\n",
      "Training (4499 / 18000 Steps) (loss=0.72744): 100%|██████████| 20/20 [00:19<00:00,  1.04it/s]\n",
      "Validate (4500 / 10 Steps): 100%|██████████| 8/8 [00:10<00:00,  1.35s/it]3<?, ?it/s]\n",
      "Training (4500 / 18000 Steps) (loss=0.71249):   5%|▌         | 1/20 [00:14<04:41, 14.83s/it]"
     ]
    },
    {
     "name": "stdout",
     "output_type": "stream",
     "text": [
      "Model Was Not Saved ! Current Best Avg. Dice: 0.0009428094490431249 Current Avg. Dice: 0.0 Current Avg. tumor Dice: 0.0 Current Avg. lymph Dice: 0.0\n"
     ]
    },
    {
     "name": "stderr",
     "output_type": "stream",
     "text": [
      "Training (4519 / 18000 Steps) (loss=0.68040): 100%|██████████| 20/20 [00:30<00:00,  1.51s/it]\n",
      "Training (4539 / 18000 Steps) (loss=0.71477): 100%|██████████| 20/20 [00:19<00:00,  1.01it/s]\n",
      "Training (4559 / 18000 Steps) (loss=0.70249): 100%|██████████| 20/20 [00:19<00:00,  1.03it/s]\n",
      "Training (4579 / 18000 Steps) (loss=0.68296): 100%|██████████| 20/20 [00:19<00:00,  1.02it/s]\n",
      "Training (4599 / 18000 Steps) (loss=0.69223): 100%|██████████| 20/20 [00:19<00:00,  1.03it/s]\n",
      "Validate (4600 / 10 Steps): 100%|██████████| 8/8 [00:10<00:00,  1.35s/it]3<?, ?it/s]\n",
      "Training (4600 / 18000 Steps) (loss=0.68889):   5%|▌         | 1/20 [00:14<04:38, 14.64s/it]"
     ]
    },
    {
     "name": "stdout",
     "output_type": "stream",
     "text": [
      "Model Was Not Saved ! Current Best Avg. Dice: 0.0009428094490431249 Current Avg. Dice: 0.0 Current Avg. tumor Dice: 0.0 Current Avg. lymph Dice: 0.0\n"
     ]
    },
    {
     "name": "stderr",
     "output_type": "stream",
     "text": [
      "Training (4619 / 18000 Steps) (loss=0.70129): 100%|██████████| 20/20 [00:30<00:00,  1.52s/it]\n",
      "Training (4639 / 18000 Steps) (loss=0.72213): 100%|██████████| 20/20 [00:19<00:00,  1.01it/s]\n",
      "Training (4659 / 18000 Steps) (loss=0.72071): 100%|██████████| 20/20 [00:19<00:00,  1.01it/s]\n",
      "Training (4679 / 18000 Steps) (loss=0.73365): 100%|██████████| 20/20 [00:19<00:00,  1.04it/s]\n",
      "Training (4699 / 18000 Steps) (loss=0.69207): 100%|██████████| 20/20 [00:19<00:00,  1.04it/s]\n",
      "Validate (4700 / 10 Steps): 100%|██████████| 8/8 [00:10<00:00,  1.35s/it]3<?, ?it/s]\n",
      "Training (4700 / 18000 Steps) (loss=0.70626):   5%|▌         | 1/20 [00:14<04:40, 14.75s/it]"
     ]
    },
    {
     "name": "stdout",
     "output_type": "stream",
     "text": [
      "Model Was Not Saved ! Current Best Avg. Dice: 0.0009428094490431249 Current Avg. Dice: 0.0 Current Avg. tumor Dice: 0.0 Current Avg. lymph Dice: 0.0\n"
     ]
    },
    {
     "name": "stderr",
     "output_type": "stream",
     "text": [
      "Training (4719 / 18000 Steps) (loss=0.70366): 100%|██████████| 20/20 [00:29<00:00,  1.50s/it]\n",
      "Training (4739 / 18000 Steps) (loss=0.71090): 100%|██████████| 20/20 [00:19<00:00,  1.02it/s]\n",
      "Training (4759 / 18000 Steps) (loss=0.72900): 100%|██████████| 20/20 [00:20<00:00,  1.01s/it]\n",
      "Training (4779 / 18000 Steps) (loss=0.67751): 100%|██████████| 20/20 [00:20<00:00,  1.02s/it]\n",
      "Training (4799 / 18000 Steps) (loss=0.69035): 100%|██████████| 20/20 [00:19<00:00,  1.00it/s]\n",
      "Validate (4800 / 10 Steps): 100%|██████████| 8/8 [00:10<00:00,  1.36s/it]4<?, ?it/s]\n",
      "Training (4800 / 18000 Steps) (loss=0.71281):   5%|▌         | 1/20 [00:15<04:49, 15.24s/it]"
     ]
    },
    {
     "name": "stdout",
     "output_type": "stream",
     "text": [
      "Model Was Not Saved ! Current Best Avg. Dice: 0.0009428094490431249 Current Avg. Dice: 0.0 Current Avg. tumor Dice: 0.0 Current Avg. lymph Dice: 0.0\n"
     ]
    },
    {
     "name": "stderr",
     "output_type": "stream",
     "text": [
      "Training (4819 / 18000 Steps) (loss=0.72042): 100%|██████████| 20/20 [00:30<00:00,  1.54s/it]\n",
      "Training (4839 / 18000 Steps) (loss=0.71095): 100%|██████████| 20/20 [00:19<00:00,  1.02it/s]\n",
      "Training (4859 / 18000 Steps) (loss=0.67801): 100%|██████████| 20/20 [00:20<00:00,  1.01s/it]\n",
      "Training (4879 / 18000 Steps) (loss=0.71917): 100%|██████████| 20/20 [00:20<00:00,  1.03s/it]\n",
      "Training (4899 / 18000 Steps) (loss=0.69590): 100%|██████████| 20/20 [00:19<00:00,  1.00it/s]\n",
      "Validate (4900 / 10 Steps): 100%|██████████| 8/8 [00:10<00:00,  1.34s/it]4<?, ?it/s]\n",
      "Training (4900 / 18000 Steps) (loss=0.69736):   5%|▌         | 1/20 [00:14<04:42, 14.88s/it]"
     ]
    },
    {
     "name": "stdout",
     "output_type": "stream",
     "text": [
      "Model Was Not Saved ! Current Best Avg. Dice: 0.0009428094490431249 Current Avg. Dice: 0.0 Current Avg. tumor Dice: 0.0 Current Avg. lymph Dice: 0.0\n"
     ]
    },
    {
     "name": "stderr",
     "output_type": "stream",
     "text": [
      "Training (4919 / 18000 Steps) (loss=0.70040): 100%|██████████| 20/20 [00:30<00:00,  1.51s/it]\n",
      "Training (4939 / 18000 Steps) (loss=0.68728): 100%|██████████| 20/20 [00:19<00:00,  1.01it/s]\n",
      "Training (4959 / 18000 Steps) (loss=0.69338): 100%|██████████| 20/20 [00:19<00:00,  1.01it/s]\n",
      "Training (4979 / 18000 Steps) (loss=0.68385): 100%|██████████| 20/20 [00:19<00:00,  1.01it/s]\n",
      "Training (4999 / 18000 Steps) (loss=0.71112): 100%|██████████| 20/20 [00:19<00:00,  1.01it/s]\n",
      "Validate (5000 / 10 Steps): 100%|██████████| 8/8 [00:10<00:00,  1.35s/it]4<?, ?it/s]\n",
      "Training (5000 / 18000 Steps) (loss=0.70828):   5%|▌         | 1/20 [00:14<04:42, 14.85s/it]"
     ]
    },
    {
     "name": "stdout",
     "output_type": "stream",
     "text": [
      "Model Was Not Saved ! Current Best Avg. Dice: 0.0009428094490431249 Current Avg. Dice: 0.0 Current Avg. tumor Dice: 0.0 Current Avg. lymph Dice: 0.0\n"
     ]
    },
    {
     "name": "stderr",
     "output_type": "stream",
     "text": [
      "Training (5019 / 18000 Steps) (loss=0.68992): 100%|██████████| 20/20 [00:30<00:00,  1.51s/it]\n",
      "Training (5039 / 18000 Steps) (loss=0.67993): 100%|██████████| 20/20 [00:19<00:00,  1.01it/s]\n",
      "Training (5059 / 18000 Steps) (loss=0.70564): 100%|██████████| 20/20 [00:19<00:00,  1.01it/s]\n",
      "Training (5079 / 18000 Steps) (loss=0.87268): 100%|██████████| 20/20 [00:19<00:00,  1.02it/s]\n",
      "Training (5099 / 18000 Steps) (loss=0.67814): 100%|██████████| 20/20 [00:19<00:00,  1.02it/s]\n",
      "Validate (5100 / 10 Steps): 100%|██████████| 8/8 [00:10<00:00,  1.35s/it]4<?, ?it/s]\n",
      "Training (5100 / 18000 Steps) (loss=0.69940):   5%|▌         | 1/20 [00:14<04:44, 14.96s/it]"
     ]
    },
    {
     "name": "stdout",
     "output_type": "stream",
     "text": [
      "Model Was Not Saved ! Current Best Avg. Dice: 0.0009428094490431249 Current Avg. Dice: 0.0 Current Avg. tumor Dice: 0.0 Current Avg. lymph Dice: 0.0\n"
     ]
    },
    {
     "name": "stderr",
     "output_type": "stream",
     "text": [
      "Training (5119 / 18000 Steps) (loss=0.69853): 100%|██████████| 20/20 [00:30<00:00,  1.54s/it]\n",
      "Training (5139 / 18000 Steps) (loss=0.68831): 100%|██████████| 20/20 [00:19<00:00,  1.01it/s]\n",
      "Training (5159 / 18000 Steps) (loss=0.71418): 100%|██████████| 20/20 [00:19<00:00,  1.02it/s]\n",
      "Training (5179 / 18000 Steps) (loss=0.71024): 100%|██████████| 20/20 [00:19<00:00,  1.00it/s]\n",
      "Training (5199 / 18000 Steps) (loss=0.69508): 100%|██████████| 20/20 [00:19<00:00,  1.02it/s]\n",
      "Validate (5200 / 10 Steps): 100%|██████████| 8/8 [00:11<00:00,  1.40s/it]4<?, ?it/s]\n",
      "Training (5200 / 18000 Steps) (loss=0.69763):   5%|▌         | 1/20 [00:15<04:50, 15.27s/it]"
     ]
    },
    {
     "name": "stdout",
     "output_type": "stream",
     "text": [
      "Model Was Not Saved ! Current Best Avg. Dice: 0.0009428094490431249 Current Avg. Dice: 0.0 Current Avg. tumor Dice: 0.0 Current Avg. lymph Dice: 0.0\n"
     ]
    },
    {
     "name": "stderr",
     "output_type": "stream",
     "text": [
      "Training (5219 / 18000 Steps) (loss=0.68856): 100%|██████████| 20/20 [00:31<00:00,  1.57s/it]\n",
      "Training (5239 / 18000 Steps) (loss=0.68463): 100%|██████████| 20/20 [00:19<00:00,  1.00it/s]\n",
      "Training (5259 / 18000 Steps) (loss=0.70918): 100%|██████████| 20/20 [00:20<00:00,  1.02s/it]\n",
      "Training (5279 / 18000 Steps) (loss=0.69138): 100%|██████████| 20/20 [00:20<00:00,  1.01s/it]\n",
      "Training (5299 / 18000 Steps) (loss=0.71531): 100%|██████████| 20/20 [00:20<00:00,  1.01s/it]\n",
      "Validate (5300 / 10 Steps): 100%|██████████| 8/8 [00:10<00:00,  1.36s/it]3<?, ?it/s]\n",
      "Training (5300 / 18000 Steps) (loss=0.68026):   5%|▌         | 1/20 [00:14<04:43, 14.92s/it]"
     ]
    },
    {
     "name": "stdout",
     "output_type": "stream",
     "text": [
      "Model Was Not Saved ! Current Best Avg. Dice: 0.0009428094490431249 Current Avg. Dice: 0.0 Current Avg. tumor Dice: 0.0 Current Avg. lymph Dice: 0.0\n"
     ]
    },
    {
     "name": "stderr",
     "output_type": "stream",
     "text": [
      "Training (5319 / 18000 Steps) (loss=0.69081): 100%|██████████| 20/20 [00:30<00:00,  1.52s/it]\n",
      "Training (5339 / 18000 Steps) (loss=0.71610): 100%|██████████| 20/20 [00:19<00:00,  1.03it/s]\n",
      "Training (5359 / 18000 Steps) (loss=0.71715): 100%|██████████| 20/20 [00:19<00:00,  1.01it/s]\n",
      "Training (5379 / 18000 Steps) (loss=0.68024): 100%|██████████| 20/20 [00:19<00:00,  1.04it/s]\n",
      "Training (5399 / 18000 Steps) (loss=0.67139): 100%|██████████| 20/20 [00:19<00:00,  1.02it/s]\n",
      "Validate (5400 / 10 Steps): 100%|██████████| 8/8 [00:10<00:00,  1.35s/it]3<?, ?it/s]\n",
      "Training (5400 / 18000 Steps) (loss=0.71071):   5%|▌         | 1/20 [00:14<04:40, 14.74s/it]"
     ]
    },
    {
     "name": "stdout",
     "output_type": "stream",
     "text": [
      "Model Was Not Saved ! Current Best Avg. Dice: 0.0009428094490431249 Current Avg. Dice: 0.0 Current Avg. tumor Dice: 0.0 Current Avg. lymph Dice: 0.0\n"
     ]
    },
    {
     "name": "stderr",
     "output_type": "stream",
     "text": [
      "Training (5419 / 18000 Steps) (loss=0.66762): 100%|██████████| 20/20 [00:30<00:00,  1.51s/it]\n",
      "Training (5439 / 18000 Steps) (loss=0.73889): 100%|██████████| 20/20 [00:19<00:00,  1.00it/s]\n",
      "Training (5459 / 18000 Steps) (loss=0.67746): 100%|██████████| 20/20 [00:19<00:00,  1.04it/s]\n",
      "Training (5479 / 18000 Steps) (loss=0.68472): 100%|██████████| 20/20 [00:19<00:00,  1.02it/s]\n",
      "Training (5499 / 18000 Steps) (loss=0.70706): 100%|██████████| 20/20 [00:19<00:00,  1.04it/s]\n",
      "Validate (5500 / 10 Steps): 100%|██████████| 8/8 [00:10<00:00,  1.34s/it]3<?, ?it/s]\n",
      "Training (5500 / 18000 Steps) (loss=0.69136):   5%|▌         | 1/20 [00:14<04:37, 14.62s/it]"
     ]
    },
    {
     "name": "stdout",
     "output_type": "stream",
     "text": [
      "Model Was Not Saved ! Current Best Avg. Dice: 0.0009428094490431249 Current Avg. Dice: 0.0 Current Avg. tumor Dice: 0.0 Current Avg. lymph Dice: 0.0\n"
     ]
    },
    {
     "name": "stderr",
     "output_type": "stream",
     "text": [
      "Training (5519 / 18000 Steps) (loss=0.67505): 100%|██████████| 20/20 [00:30<00:00,  1.50s/it]\n",
      "Training (5539 / 18000 Steps) (loss=0.69770): 100%|██████████| 20/20 [00:19<00:00,  1.04it/s]\n",
      "Training (5559 / 18000 Steps) (loss=0.68562): 100%|██████████| 20/20 [00:19<00:00,  1.04it/s]\n",
      "Training (5579 / 18000 Steps) (loss=0.69536): 100%|██████████| 20/20 [00:19<00:00,  1.04it/s]\n",
      "Training (5599 / 18000 Steps) (loss=0.67943): 100%|██████████| 20/20 [00:19<00:00,  1.02it/s]\n",
      "Validate (5600 / 10 Steps): 100%|██████████| 8/8 [00:10<00:00,  1.34s/it]4<?, ?it/s]\n",
      "Training (5600 / 18000 Steps) (loss=0.69868):   5%|▌         | 1/20 [00:14<04:40, 14.78s/it]"
     ]
    },
    {
     "name": "stdout",
     "output_type": "stream",
     "text": [
      "Model Was Not Saved ! Current Best Avg. Dice: 0.0009428094490431249 Current Avg. Dice: 0.0 Current Avg. tumor Dice: 0.0 Current Avg. lymph Dice: 0.0\n"
     ]
    },
    {
     "name": "stderr",
     "output_type": "stream",
     "text": [
      "Training (5619 / 18000 Steps) (loss=0.67443): 100%|██████████| 20/20 [00:30<00:00,  1.50s/it]\n",
      "Training (5639 / 18000 Steps) (loss=0.73516): 100%|██████████| 20/20 [00:19<00:00,  1.03it/s]\n",
      "Training (5659 / 18000 Steps) (loss=0.70300): 100%|██████████| 20/20 [00:19<00:00,  1.03it/s]\n",
      "Training (5679 / 18000 Steps) (loss=0.77904): 100%|██████████| 20/20 [00:19<00:00,  1.01it/s]\n",
      "Training (5699 / 18000 Steps) (loss=0.71904): 100%|██████████| 20/20 [00:19<00:00,  1.03it/s]\n",
      "Validate (5700 / 10 Steps): 100%|██████████| 8/8 [00:10<00:00,  1.34s/it]3<?, ?it/s]\n",
      "Training (5700 / 18000 Steps) (loss=0.68177):   5%|▌         | 1/20 [00:14<04:39, 14.71s/it]"
     ]
    },
    {
     "name": "stdout",
     "output_type": "stream",
     "text": [
      "Model Was Not Saved ! Current Best Avg. Dice: 0.0009428094490431249 Current Avg. Dice: 0.0 Current Avg. tumor Dice: 0.0 Current Avg. lymph Dice: 0.0\n"
     ]
    },
    {
     "name": "stderr",
     "output_type": "stream",
     "text": [
      "Training (5719 / 18000 Steps) (loss=0.70216): 100%|██████████| 20/20 [00:29<00:00,  1.50s/it]\n",
      "Training (5739 / 18000 Steps) (loss=0.71378): 100%|██████████| 20/20 [00:19<00:00,  1.01it/s]\n",
      "Training (5759 / 18000 Steps) (loss=0.66682): 100%|██████████| 20/20 [00:19<00:00,  1.03it/s]\n",
      "Training (5779 / 18000 Steps) (loss=0.69846): 100%|██████████| 20/20 [00:19<00:00,  1.00it/s]\n",
      "Training (5799 / 18000 Steps) (loss=0.68610): 100%|██████████| 20/20 [00:19<00:00,  1.03it/s]\n",
      "Validate (5800 / 10 Steps): 100%|██████████| 8/8 [00:10<00:00,  1.36s/it]4<?, ?it/s]\n",
      "Training (5800 / 18000 Steps) (loss=0.69787):   5%|▌         | 1/20 [00:14<04:44, 15.00s/it]"
     ]
    },
    {
     "name": "stdout",
     "output_type": "stream",
     "text": [
      "Model Was Not Saved ! Current Best Avg. Dice: 0.0009428094490431249 Current Avg. Dice: 0.0 Current Avg. tumor Dice: 0.0 Current Avg. lymph Dice: 0.0\n"
     ]
    },
    {
     "name": "stderr",
     "output_type": "stream",
     "text": [
      "Training (5819 / 18000 Steps) (loss=0.69000): 100%|██████████| 20/20 [00:30<00:00,  1.52s/it]\n",
      "Training (5839 / 18000 Steps) (loss=0.68312): 100%|██████████| 20/20 [00:20<00:00,  1.01s/it]\n",
      "Training (5859 / 18000 Steps) (loss=0.68154): 100%|██████████| 20/20 [00:19<00:00,  1.01it/s]\n",
      "Training (5879 / 18000 Steps) (loss=0.69818): 100%|██████████| 20/20 [00:19<00:00,  1.03it/s]\n",
      "Training (5899 / 18000 Steps) (loss=0.68639): 100%|██████████| 20/20 [00:20<00:00,  1.01s/it]\n",
      "Validate (5900 / 10 Steps): 100%|██████████| 8/8 [00:10<00:00,  1.37s/it]3<?, ?it/s]\n",
      "Training (5900 / 18000 Steps) (loss=0.70928):   5%|▌         | 1/20 [00:14<04:42, 14.89s/it]"
     ]
    },
    {
     "name": "stdout",
     "output_type": "stream",
     "text": [
      "Model Was Not Saved ! Current Best Avg. Dice: 0.0009428094490431249 Current Avg. Dice: 0.0 Current Avg. tumor Dice: 0.0 Current Avg. lymph Dice: 0.0\n"
     ]
    },
    {
     "name": "stderr",
     "output_type": "stream",
     "text": [
      "Training (5919 / 18000 Steps) (loss=0.66115): 100%|██████████| 20/20 [00:29<00:00,  1.49s/it]\n",
      "Training (5939 / 18000 Steps) (loss=0.68480): 100%|██████████| 20/20 [00:19<00:00,  1.02it/s]\n",
      "Training (5959 / 18000 Steps) (loss=0.71756): 100%|██████████| 20/20 [00:19<00:00,  1.02it/s]\n",
      "Training (5979 / 18000 Steps) (loss=0.67087): 100%|██████████| 20/20 [00:19<00:00,  1.02it/s]\n",
      "Training (5999 / 18000 Steps) (loss=0.70177): 100%|██████████| 20/20 [00:19<00:00,  1.03it/s]\n",
      "Validate (6000 / 10 Steps): 100%|██████████| 8/8 [00:10<00:00,  1.34s/it]4<?, ?it/s]\n",
      "Training (6000 / 18000 Steps) (loss=0.74563):   5%|▌         | 1/20 [00:14<04:42, 14.88s/it]"
     ]
    },
    {
     "name": "stdout",
     "output_type": "stream",
     "text": [
      "Model Was Not Saved ! Current Best Avg. Dice: 0.0009428094490431249 Current Avg. Dice: 0.0 Current Avg. tumor Dice: 0.0 Current Avg. lymph Dice: 0.0\n"
     ]
    },
    {
     "name": "stderr",
     "output_type": "stream",
     "text": [
      "Training (6019 / 18000 Steps) (loss=0.68350): 100%|██████████| 20/20 [00:30<00:00,  1.50s/it]\n",
      "Training (6039 / 18000 Steps) (loss=0.71315): 100%|██████████| 20/20 [00:19<00:00,  1.03it/s]\n",
      "Training (6059 / 18000 Steps) (loss=0.72022): 100%|██████████| 20/20 [00:20<00:00,  1.01s/it]\n",
      "Training (6079 / 18000 Steps) (loss=0.68147): 100%|██████████| 20/20 [00:19<00:00,  1.01it/s]\n",
      "Training (6099 / 18000 Steps) (loss=0.69078): 100%|██████████| 20/20 [00:19<00:00,  1.00it/s]\n",
      "Validate (6100 / 10 Steps): 100%|██████████| 8/8 [00:10<00:00,  1.34s/it]3<?, ?it/s]\n",
      "Training (6100 / 18000 Steps) (loss=0.73365):   5%|▌         | 1/20 [00:14<04:40, 14.75s/it]"
     ]
    },
    {
     "name": "stdout",
     "output_type": "stream",
     "text": [
      "Model Was Not Saved ! Current Best Avg. Dice: 0.0009428094490431249 Current Avg. Dice: 0.0 Current Avg. tumor Dice: 0.0 Current Avg. lymph Dice: 0.0\n"
     ]
    },
    {
     "name": "stderr",
     "output_type": "stream",
     "text": [
      "Training (6119 / 18000 Steps) (loss=0.71285): 100%|██████████| 20/20 [00:30<00:00,  1.50s/it]\n",
      "Training (6139 / 18000 Steps) (loss=0.70802): 100%|██████████| 20/20 [00:19<00:00,  1.01it/s]\n",
      "Training (6159 / 18000 Steps) (loss=0.69302): 100%|██████████| 20/20 [00:20<00:00,  1.00s/it]\n",
      "Training (6179 / 18000 Steps) (loss=0.69090): 100%|██████████| 20/20 [00:19<00:00,  1.02it/s]\n",
      "Training (6199 / 18000 Steps) (loss=0.67762): 100%|██████████| 20/20 [00:19<00:00,  1.02it/s]\n",
      "Validate (6200 / 10 Steps): 100%|██████████| 8/8 [00:10<00:00,  1.34s/it]3<?, ?it/s]\n",
      "Training (6200 / 18000 Steps) (loss=0.67838):   5%|▌         | 1/20 [00:14<04:38, 14.67s/it]"
     ]
    },
    {
     "name": "stdout",
     "output_type": "stream",
     "text": [
      "Model Was Not Saved ! Current Best Avg. Dice: 0.0009428094490431249 Current Avg. Dice: 0.0 Current Avg. tumor Dice: 0.0 Current Avg. lymph Dice: 0.0\n"
     ]
    },
    {
     "name": "stderr",
     "output_type": "stream",
     "text": [
      "Training (6219 / 18000 Steps) (loss=0.66461): 100%|██████████| 20/20 [00:30<00:00,  1.50s/it]\n",
      "Training (6239 / 18000 Steps) (loss=0.68780): 100%|██████████| 20/20 [00:19<00:00,  1.03it/s]\n",
      "Training (6259 / 18000 Steps) (loss=0.68390): 100%|██████████| 20/20 [00:19<00:00,  1.01it/s]\n",
      "Training (6279 / 18000 Steps) (loss=0.68482): 100%|██████████| 20/20 [00:20<00:00,  1.02s/it]\n",
      "Training (6299 / 18000 Steps) (loss=0.67835): 100%|██████████| 20/20 [00:19<00:00,  1.03it/s]\n",
      "Validate (6300 / 10 Steps): 100%|██████████| 8/8 [00:10<00:00,  1.34s/it]3<?, ?it/s]\n",
      "Training (6300 / 18000 Steps) (loss=0.68208):   5%|▌         | 1/20 [00:14<04:39, 14.72s/it]"
     ]
    },
    {
     "name": "stdout",
     "output_type": "stream",
     "text": [
      "Model Was Not Saved ! Current Best Avg. Dice: 0.0009428094490431249 Current Avg. Dice: 0.0 Current Avg. tumor Dice: 0.0 Current Avg. lymph Dice: 0.0\n"
     ]
    },
    {
     "name": "stderr",
     "output_type": "stream",
     "text": [
      "Training (6319 / 18000 Steps) (loss=0.67179): 100%|██████████| 20/20 [00:30<00:00,  1.52s/it]\n",
      "Training (6339 / 18000 Steps) (loss=0.67091): 100%|██████████| 20/20 [00:19<00:00,  1.03it/s]\n",
      "Training (6359 / 18000 Steps) (loss=0.70253): 100%|██████████| 20/20 [00:19<00:00,  1.04it/s]\n",
      "Training (6379 / 18000 Steps) (loss=0.71785): 100%|██████████| 20/20 [00:19<00:00,  1.01it/s]\n",
      "Training (6399 / 18000 Steps) (loss=0.67209): 100%|██████████| 20/20 [00:19<00:00,  1.03it/s]\n",
      "Validate (6400 / 10 Steps): 100%|██████████| 8/8 [00:11<00:00,  1.38s/it]4<?, ?it/s]\n",
      "Training (6400 / 18000 Steps) (loss=0.65111):   5%|▌         | 1/20 [00:15<04:47, 15.11s/it]"
     ]
    },
    {
     "name": "stdout",
     "output_type": "stream",
     "text": [
      "Model Was Not Saved ! Current Best Avg. Dice: 0.0009428094490431249 Current Avg. Dice: 0.0 Current Avg. tumor Dice: 0.0 Current Avg. lymph Dice: 0.0\n"
     ]
    },
    {
     "name": "stderr",
     "output_type": "stream",
     "text": [
      "Training (6419 / 18000 Steps) (loss=0.66245): 100%|██████████| 20/20 [00:30<00:00,  1.51s/it]\n",
      "Training (6439 / 18000 Steps) (loss=0.65601): 100%|██████████| 20/20 [00:19<00:00,  1.02it/s]\n",
      "Training (6459 / 18000 Steps) (loss=0.70240): 100%|██████████| 20/20 [00:19<00:00,  1.01it/s]\n",
      "Training (6479 / 18000 Steps) (loss=0.69393): 100%|██████████| 20/20 [00:19<00:00,  1.01it/s]\n",
      "Training (6499 / 18000 Steps) (loss=0.68276): 100%|██████████| 20/20 [00:19<00:00,  1.02it/s]\n",
      "Validate (6500 / 10 Steps): 100%|██████████| 8/8 [00:10<00:00,  1.34s/it]3<?, ?it/s]\n",
      "Training (6500 / 18000 Steps) (loss=0.68363):   5%|▌         | 1/20 [00:14<04:39, 14.70s/it]"
     ]
    },
    {
     "name": "stdout",
     "output_type": "stream",
     "text": [
      "Model Was Not Saved ! Current Best Avg. Dice: 0.0009428094490431249 Current Avg. Dice: 0.0 Current Avg. tumor Dice: 0.0 Current Avg. lymph Dice: 0.0\n"
     ]
    },
    {
     "name": "stderr",
     "output_type": "stream",
     "text": [
      "Training (6519 / 18000 Steps) (loss=0.67397): 100%|██████████| 20/20 [00:30<00:00,  1.51s/it]\n",
      "Training (6539 / 18000 Steps) (loss=0.68684): 100%|██████████| 20/20 [00:19<00:00,  1.02it/s]\n",
      "Training (6559 / 18000 Steps) (loss=0.66809): 100%|██████████| 20/20 [00:20<00:00,  1.01s/it]\n",
      "Training (6579 / 18000 Steps) (loss=0.69293): 100%|██████████| 20/20 [00:19<00:00,  1.02it/s]\n",
      "Training (6599 / 18000 Steps) (loss=0.69530): 100%|██████████| 20/20 [00:19<00:00,  1.01it/s]\n",
      "Validate (6600 / 10 Steps): 100%|██████████| 8/8 [00:10<00:00,  1.33s/it]4<?, ?it/s]\n",
      "Training (6600 / 18000 Steps) (loss=0.68415):   5%|▌         | 1/20 [00:14<04:39, 14.73s/it]"
     ]
    },
    {
     "name": "stdout",
     "output_type": "stream",
     "text": [
      "Model Was Not Saved ! Current Best Avg. Dice: 0.0009428094490431249 Current Avg. Dice: 0.0 Current Avg. tumor Dice: 0.0 Current Avg. lymph Dice: 0.0\n"
     ]
    },
    {
     "name": "stderr",
     "output_type": "stream",
     "text": [
      "Training (6619 / 18000 Steps) (loss=0.68648): 100%|██████████| 20/20 [00:30<00:00,  1.50s/it]\n",
      "Training (6639 / 18000 Steps) (loss=0.68671): 100%|██████████| 20/20 [00:19<00:00,  1.01it/s]\n",
      "Training (6659 / 18000 Steps) (loss=0.72925): 100%|██████████| 20/20 [00:20<00:00,  1.03s/it]\n",
      "Training (6679 / 18000 Steps) (loss=0.72187): 100%|██████████| 20/20 [00:19<00:00,  1.01it/s]\n",
      "Training (6699 / 18000 Steps) (loss=0.65732): 100%|██████████| 20/20 [00:19<00:00,  1.00it/s]\n",
      "Validate (6700 / 10 Steps): 100%|██████████| 8/8 [00:10<00:00,  1.35s/it]3<?, ?it/s]\n",
      "Training (6700 / 18000 Steps) (loss=0.68360):   5%|▌         | 1/20 [00:14<04:39, 14.70s/it]"
     ]
    },
    {
     "name": "stdout",
     "output_type": "stream",
     "text": [
      "Model Was Not Saved ! Current Best Avg. Dice: 0.0009428094490431249 Current Avg. Dice: 0.0 Current Avg. tumor Dice: 0.0 Current Avg. lymph Dice: 0.0\n"
     ]
    },
    {
     "name": "stderr",
     "output_type": "stream",
     "text": [
      "Training (6719 / 18000 Steps) (loss=0.87047): 100%|██████████| 20/20 [00:30<00:00,  1.53s/it]\n",
      "Training (6739 / 18000 Steps) (loss=0.67872): 100%|██████████| 20/20 [00:20<00:00,  1.00s/it]\n",
      "Training (6759 / 18000 Steps) (loss=0.68558): 100%|██████████| 20/20 [00:19<00:00,  1.02it/s]\n",
      "Training (6779 / 18000 Steps) (loss=0.67597): 100%|██████████| 20/20 [00:19<00:00,  1.01it/s]\n",
      "Training (6799 / 18000 Steps) (loss=0.68300): 100%|██████████| 20/20 [00:19<00:00,  1.02it/s]\n",
      "Validate (6800 / 10 Steps): 100%|██████████| 8/8 [00:10<00:00,  1.36s/it]4<?, ?it/s]\n",
      "Training (6800 / 18000 Steps) (loss=0.67727):   5%|▌         | 1/20 [00:14<04:44, 14.97s/it]"
     ]
    },
    {
     "name": "stdout",
     "output_type": "stream",
     "text": [
      "Model Was Not Saved ! Current Best Avg. Dice: 0.0009428094490431249 Current Avg. Dice: 0.0 Current Avg. tumor Dice: 0.0 Current Avg. lymph Dice: 0.0\n"
     ]
    },
    {
     "name": "stderr",
     "output_type": "stream",
     "text": [
      "Training (6819 / 18000 Steps) (loss=0.69677): 100%|██████████| 20/20 [00:30<00:00,  1.54s/it]\n",
      "Training (6839 / 18000 Steps) (loss=0.70075): 100%|██████████| 20/20 [00:20<00:00,  1.00s/it]\n",
      "Training (6859 / 18000 Steps) (loss=0.68458): 100%|██████████| 20/20 [00:19<00:00,  1.03it/s]\n",
      "Training (6879 / 18000 Steps) (loss=0.70496): 100%|██████████| 20/20 [00:19<00:00,  1.01it/s]\n",
      "Training (6899 / 18000 Steps) (loss=0.70754): 100%|██████████| 20/20 [00:19<00:00,  1.02it/s]\n",
      "Validate (6900 / 10 Steps): 100%|██████████| 8/8 [00:10<00:00,  1.34s/it]4<?, ?it/s]\n",
      "Training (6900 / 18000 Steps) (loss=0.69989):   5%|▌         | 1/20 [00:14<04:41, 14.79s/it]"
     ]
    },
    {
     "name": "stdout",
     "output_type": "stream",
     "text": [
      "Model Was Not Saved ! Current Best Avg. Dice: 0.0009428094490431249 Current Avg. Dice: 0.0 Current Avg. tumor Dice: 0.0 Current Avg. lymph Dice: 0.0\n"
     ]
    },
    {
     "name": "stderr",
     "output_type": "stream",
     "text": [
      "Training (6919 / 18000 Steps) (loss=0.67154): 100%|██████████| 20/20 [00:30<00:00,  1.51s/it]\n",
      "Training (6939 / 18000 Steps) (loss=0.68056): 100%|██████████| 20/20 [00:20<00:00,  1.00s/it]\n",
      "Training (6959 / 18000 Steps) (loss=0.66336): 100%|██████████| 20/20 [00:20<00:00,  1.00s/it]\n",
      "Training (6979 / 18000 Steps) (loss=0.65628): 100%|██████████| 20/20 [00:20<00:00,  1.02s/it]\n",
      "Training (6999 / 18000 Steps) (loss=0.71276): 100%|██████████| 20/20 [00:19<00:00,  1.03it/s]\n",
      "Validate (7000 / 10 Steps): 100%|██████████| 8/8 [00:10<00:00,  1.34s/it]3<?, ?it/s]\n",
      "Training (7000 / 18000 Steps) (loss=0.68872):   5%|▌         | 1/20 [00:14<04:39, 14.72s/it]"
     ]
    },
    {
     "name": "stdout",
     "output_type": "stream",
     "text": [
      "Model Was Not Saved ! Current Best Avg. Dice: 0.0009428094490431249 Current Avg. Dice: 0.0 Current Avg. tumor Dice: 0.0 Current Avg. lymph Dice: 0.0\n"
     ]
    },
    {
     "name": "stderr",
     "output_type": "stream",
     "text": [
      "Training (7019 / 18000 Steps) (loss=0.69745): 100%|██████████| 20/20 [00:29<00:00,  1.50s/it]\n",
      "Training (7039 / 18000 Steps) (loss=0.64840): 100%|██████████| 20/20 [00:20<00:00,  1.01s/it]\n",
      "Training (7059 / 18000 Steps) (loss=0.68968): 100%|██████████| 20/20 [00:19<00:00,  1.02it/s]\n",
      "Training (7079 / 18000 Steps) (loss=0.67977): 100%|██████████| 20/20 [00:19<00:00,  1.01it/s]\n",
      "Training (7099 / 18000 Steps) (loss=0.67391): 100%|██████████| 20/20 [00:19<00:00,  1.03it/s]\n",
      "Validate (7100 / 10 Steps): 100%|██████████| 8/8 [00:10<00:00,  1.34s/it]3<?, ?it/s]\n",
      "Training (7100 / 18000 Steps) (loss=0.68528):   5%|▌         | 1/20 [00:14<04:39, 14.69s/it]"
     ]
    },
    {
     "name": "stdout",
     "output_type": "stream",
     "text": [
      "Model Was Not Saved ! Current Best Avg. Dice: 0.0009428094490431249 Current Avg. Dice: 0.0 Current Avg. tumor Dice: 0.0 Current Avg. lymph Dice: 0.0\n"
     ]
    },
    {
     "name": "stderr",
     "output_type": "stream",
     "text": [
      "Training (7119 / 18000 Steps) (loss=0.66954): 100%|██████████| 20/20 [00:30<00:00,  1.51s/it]\n",
      "Training (7139 / 18000 Steps) (loss=0.69946): 100%|██████████| 20/20 [00:19<00:00,  1.05it/s]\n",
      "Training (7159 / 18000 Steps) (loss=0.67204): 100%|██████████| 20/20 [00:19<00:00,  1.02it/s]\n",
      "Training (7179 / 18000 Steps) (loss=0.68001): 100%|██████████| 20/20 [00:19<00:00,  1.03it/s]\n",
      "Training (7199 / 18000 Steps) (loss=0.64897): 100%|██████████| 20/20 [00:19<00:00,  1.02it/s]\n",
      "Validate (7200 / 10 Steps): 100%|██████████| 8/8 [00:10<00:00,  1.36s/it]3<?, ?it/s]\n",
      "Training (7200 / 18000 Steps) (loss=0.67444):   5%|▌         | 1/20 [00:14<04:41, 14.82s/it]"
     ]
    },
    {
     "name": "stdout",
     "output_type": "stream",
     "text": [
      "Model Was Not Saved ! Current Best Avg. Dice: 0.0009428094490431249 Current Avg. Dice: 0.0 Current Avg. tumor Dice: 0.0 Current Avg. lymph Dice: 0.0\n"
     ]
    },
    {
     "name": "stderr",
     "output_type": "stream",
     "text": [
      "Training (7219 / 18000 Steps) (loss=0.66908): 100%|██████████| 20/20 [00:30<00:00,  1.51s/it]\n",
      "Training (7239 / 18000 Steps) (loss=0.67403): 100%|██████████| 20/20 [00:19<00:00,  1.02it/s]\n",
      "Training (7259 / 18000 Steps) (loss=0.65908): 100%|██████████| 20/20 [00:19<00:00,  1.04it/s]\n",
      "Training (7279 / 18000 Steps) (loss=0.65410): 100%|██████████| 20/20 [00:19<00:00,  1.02it/s]\n",
      "Training (7299 / 18000 Steps) (loss=0.68008): 100%|██████████| 20/20 [00:19<00:00,  1.02it/s]\n",
      "Validate (7300 / 10 Steps): 100%|██████████| 8/8 [00:10<00:00,  1.34s/it]4<?, ?it/s]\n",
      "Training (7300 / 18000 Steps) (loss=0.66517):   5%|▌         | 1/20 [00:14<04:43, 14.94s/it]"
     ]
    },
    {
     "name": "stdout",
     "output_type": "stream",
     "text": [
      "Model Was Not Saved ! Current Best Avg. Dice: 0.0009428094490431249 Current Avg. Dice: 0.0 Current Avg. tumor Dice: 0.0 Current Avg. lymph Dice: 0.0\n"
     ]
    },
    {
     "name": "stderr",
     "output_type": "stream",
     "text": [
      "Training (7319 / 18000 Steps) (loss=0.65353): 100%|██████████| 20/20 [00:30<00:00,  1.51s/it]\n",
      "Training (7339 / 18000 Steps) (loss=0.68617): 100%|██████████| 20/20 [00:19<00:00,  1.01it/s]\n",
      "Training (7359 / 18000 Steps) (loss=0.72893): 100%|██████████| 20/20 [00:19<00:00,  1.01it/s]\n",
      "Training (7379 / 18000 Steps) (loss=0.65887): 100%|██████████| 20/20 [00:20<00:00,  1.01s/it]\n",
      "Training (7399 / 18000 Steps) (loss=0.65238): 100%|██████████| 20/20 [00:19<00:00,  1.03it/s]\n",
      "Validate (7400 / 10 Steps): 100%|██████████| 8/8 [00:10<00:00,  1.36s/it]4<?, ?it/s]\n",
      "Training (7400 / 18000 Steps) (loss=0.67000):   5%|▌         | 1/20 [00:14<04:43, 14.94s/it]"
     ]
    },
    {
     "name": "stdout",
     "output_type": "stream",
     "text": [
      "Model Was Not Saved ! Current Best Avg. Dice: 0.0009428094490431249 Current Avg. Dice: 0.0 Current Avg. tumor Dice: 0.0 Current Avg. lymph Dice: 0.0\n"
     ]
    },
    {
     "name": "stderr",
     "output_type": "stream",
     "text": [
      "Training (7419 / 18000 Steps) (loss=0.67868): 100%|██████████| 20/20 [00:30<00:00,  1.53s/it]\n",
      "Training (7439 / 18000 Steps) (loss=0.70406): 100%|██████████| 20/20 [00:19<00:00,  1.01it/s]\n",
      "Training (7459 / 18000 Steps) (loss=0.64477): 100%|██████████| 20/20 [00:20<00:00,  1.01s/it]\n",
      "Training (7479 / 18000 Steps) (loss=0.67244): 100%|██████████| 20/20 [00:19<00:00,  1.00it/s]\n",
      "Training (7499 / 18000 Steps) (loss=0.66670): 100%|██████████| 20/20 [00:19<00:00,  1.03it/s]\n",
      "Validate (7500 / 10 Steps): 100%|██████████| 8/8 [00:10<00:00,  1.34s/it]4<?, ?it/s]\n",
      "Training (7500 / 18000 Steps) (loss=0.68527):   5%|▌         | 1/20 [00:14<04:43, 14.94s/it]"
     ]
    },
    {
     "name": "stdout",
     "output_type": "stream",
     "text": [
      "Model Was Not Saved ! Current Best Avg. Dice: 0.0009428094490431249 Current Avg. Dice: 0.0 Current Avg. tumor Dice: 0.0 Current Avg. lymph Dice: 0.0\n"
     ]
    },
    {
     "name": "stderr",
     "output_type": "stream",
     "text": [
      "Training (7519 / 18000 Steps) (loss=0.66322): 100%|██████████| 20/20 [00:30<00:00,  1.53s/it]\n",
      "Training (7539 / 18000 Steps) (loss=0.66315): 100%|██████████| 20/20 [00:19<00:00,  1.02it/s]\n",
      "Training (7559 / 18000 Steps) (loss=0.68937): 100%|██████████| 20/20 [00:19<00:00,  1.00it/s]\n",
      "Training (7579 / 18000 Steps) (loss=0.68378): 100%|██████████| 20/20 [00:19<00:00,  1.03it/s]\n",
      "Training (7599 / 18000 Steps) (loss=0.69515): 100%|██████████| 20/20 [00:19<00:00,  1.03it/s]\n",
      "Validate (7600 / 10 Steps): 100%|██████████| 8/8 [00:10<00:00,  1.35s/it]3<?, ?it/s]\n",
      "Training (7600 / 18000 Steps) (loss=0.68255):   5%|▌         | 1/20 [00:14<04:39, 14.71s/it]"
     ]
    },
    {
     "name": "stdout",
     "output_type": "stream",
     "text": [
      "Model Was Not Saved ! Current Best Avg. Dice: 0.0009428094490431249 Current Avg. Dice: 0.0 Current Avg. tumor Dice: 0.0 Current Avg. lymph Dice: 0.0\n"
     ]
    },
    {
     "name": "stderr",
     "output_type": "stream",
     "text": [
      "Training (7619 / 18000 Steps) (loss=0.65274): 100%|██████████| 20/20 [00:29<00:00,  1.49s/it]\n",
      "Training (7639 / 18000 Steps) (loss=0.66279): 100%|██████████| 20/20 [00:19<00:00,  1.01it/s]\n",
      "Training (7659 / 18000 Steps) (loss=0.70284): 100%|██████████| 20/20 [00:19<00:00,  1.02it/s]\n",
      "Training (7679 / 18000 Steps) (loss=0.67204): 100%|██████████| 20/20 [00:19<00:00,  1.02it/s]\n",
      "Training (7699 / 18000 Steps) (loss=0.69264): 100%|██████████| 20/20 [00:20<00:00,  1.02s/it]\n",
      "Validate (7700 / 10 Steps): 100%|██████████| 8/8 [00:11<00:00,  1.38s/it]4<?, ?it/s]\n",
      "Training (7700 / 18000 Steps) (loss=0.68138):   5%|▌         | 1/20 [00:15<04:50, 15.26s/it]"
     ]
    },
    {
     "name": "stdout",
     "output_type": "stream",
     "text": [
      "Model Was Not Saved ! Current Best Avg. Dice: 0.0009428094490431249 Current Avg. Dice: 0.0 Current Avg. tumor Dice: 0.0 Current Avg. lymph Dice: 0.0\n"
     ]
    },
    {
     "name": "stderr",
     "output_type": "stream",
     "text": [
      "Training (7719 / 18000 Steps) (loss=0.69155): 100%|██████████| 20/20 [00:31<00:00,  1.56s/it]\n",
      "Training (7739 / 18000 Steps) (loss=0.68397): 100%|██████████| 20/20 [00:19<00:00,  1.00it/s]\n",
      "Training (7759 / 18000 Steps) (loss=0.65379): 100%|██████████| 20/20 [00:19<00:00,  1.00it/s]\n",
      "Training (7779 / 18000 Steps) (loss=0.76705): 100%|██████████| 20/20 [00:20<00:00,  1.01s/it]\n",
      "Training (7799 / 18000 Steps) (loss=0.68418): 100%|██████████| 20/20 [00:20<00:00,  1.01s/it]\n",
      "Validate (7800 / 10 Steps): 100%|██████████| 8/8 [00:10<00:00,  1.36s/it]4<?, ?it/s]\n",
      "Training (7800 / 18000 Steps) (loss=0.66462):   5%|▌         | 1/20 [00:15<04:45, 15.02s/it]"
     ]
    },
    {
     "name": "stdout",
     "output_type": "stream",
     "text": [
      "Model Was Not Saved ! Current Best Avg. Dice: 0.0009428094490431249 Current Avg. Dice: 0.0 Current Avg. tumor Dice: 0.0 Current Avg. lymph Dice: 0.0\n"
     ]
    },
    {
     "name": "stderr",
     "output_type": "stream",
     "text": [
      "Training (7819 / 18000 Steps) (loss=0.71929): 100%|██████████| 20/20 [00:31<00:00,  1.57s/it]\n",
      "Training (7839 / 18000 Steps) (loss=0.67637): 100%|██████████| 20/20 [00:20<00:00,  1.00s/it]\n",
      "Training (7859 / 18000 Steps) (loss=0.65992): 100%|██████████| 20/20 [00:19<00:00,  1.00it/s]\n",
      "Training (7879 / 18000 Steps) (loss=0.65068): 100%|██████████| 20/20 [00:20<00:00,  1.01s/it]\n",
      "Training (7899 / 18000 Steps) (loss=0.67244): 100%|██████████| 20/20 [00:20<00:00,  1.01s/it]\n",
      "Validate (7900 / 10 Steps): 100%|██████████| 8/8 [00:10<00:00,  1.37s/it]3<?, ?it/s]\n",
      "Training (7900 / 18000 Steps) (loss=0.67631):   5%|▌         | 1/20 [00:14<04:43, 14.92s/it]"
     ]
    },
    {
     "name": "stdout",
     "output_type": "stream",
     "text": [
      "Model Was Not Saved ! Current Best Avg. Dice: 0.0009428094490431249 Current Avg. Dice: 0.0 Current Avg. tumor Dice: 0.0 Current Avg. lymph Dice: 0.0\n"
     ]
    },
    {
     "name": "stderr",
     "output_type": "stream",
     "text": [
      "Training (7919 / 18000 Steps) (loss=0.68151): 100%|██████████| 20/20 [00:30<00:00,  1.54s/it]\n",
      "Training (7939 / 18000 Steps) (loss=0.70600): 100%|██████████| 20/20 [00:20<00:00,  1.01s/it]\n",
      "Training (7959 / 18000 Steps) (loss=0.66370): 100%|██████████| 20/20 [00:19<00:00,  1.02it/s]\n",
      "Training (7979 / 18000 Steps) (loss=0.68600): 100%|██████████| 20/20 [00:19<00:00,  1.04it/s]\n",
      "Training (7999 / 18000 Steps) (loss=0.65877): 100%|██████████| 20/20 [00:19<00:00,  1.05it/s]\n",
      "Validate (8000 / 10 Steps): 100%|██████████| 8/8 [00:10<00:00,  1.35s/it]3<?, ?it/s]\n",
      "Training (8000 / 18000 Steps) (loss=0.66825):   5%|▌         | 1/20 [00:14<04:40, 14.79s/it]"
     ]
    },
    {
     "name": "stdout",
     "output_type": "stream",
     "text": [
      "Model Was Not Saved ! Current Best Avg. Dice: 0.0009428094490431249 Current Avg. Dice: 0.0 Current Avg. tumor Dice: 0.0 Current Avg. lymph Dice: 0.0\n"
     ]
    },
    {
     "name": "stderr",
     "output_type": "stream",
     "text": [
      "Training (8019 / 18000 Steps) (loss=0.67714): 100%|██████████| 20/20 [00:30<00:00,  1.50s/it]\n",
      "Training (8039 / 18000 Steps) (loss=0.87975): 100%|██████████| 20/20 [00:19<00:00,  1.02it/s]\n",
      "Training (8059 / 18000 Steps) (loss=0.65355): 100%|██████████| 20/20 [00:19<00:00,  1.03it/s]\n",
      "Training (8079 / 18000 Steps) (loss=0.69354): 100%|██████████| 20/20 [00:19<00:00,  1.04it/s]\n",
      "Training (8099 / 18000 Steps) (loss=0.65459): 100%|██████████| 20/20 [00:19<00:00,  1.02it/s]\n",
      "Validate (8100 / 10 Steps): 100%|██████████| 8/8 [00:10<00:00,  1.36s/it]3<?, ?it/s]\n",
      "Training (8100 / 18000 Steps) (loss=0.75834):   5%|▌         | 1/20 [00:14<04:37, 14.61s/it]"
     ]
    },
    {
     "name": "stdout",
     "output_type": "stream",
     "text": [
      "Model Was Not Saved ! Current Best Avg. Dice: 0.0009428094490431249 Current Avg. Dice: 0.0 Current Avg. tumor Dice: 0.0 Current Avg. lymph Dice: 0.0\n"
     ]
    },
    {
     "name": "stderr",
     "output_type": "stream",
     "text": [
      "Training (8119 / 18000 Steps) (loss=0.69653): 100%|██████████| 20/20 [00:29<00:00,  1.49s/it]\n",
      "Training (8139 / 18000 Steps) (loss=0.66576): 100%|██████████| 20/20 [00:19<00:00,  1.02it/s]\n",
      "Training (8159 / 18000 Steps) (loss=0.65016): 100%|██████████| 20/20 [00:19<00:00,  1.03it/s]\n",
      "Training (8179 / 18000 Steps) (loss=0.68362): 100%|██████████| 20/20 [00:19<00:00,  1.03it/s]\n",
      "Training (8199 / 18000 Steps) (loss=0.67058): 100%|██████████| 20/20 [00:19<00:00,  1.04it/s]\n",
      "Validate (8200 / 10 Steps): 100%|██████████| 8/8 [00:10<00:00,  1.37s/it]3<?, ?it/s]\n",
      "Training (8200 / 18000 Steps) (loss=0.65881):   5%|▌         | 1/20 [00:14<04:42, 14.86s/it]"
     ]
    },
    {
     "name": "stdout",
     "output_type": "stream",
     "text": [
      "Model Was Not Saved ! Current Best Avg. Dice: 0.0009428094490431249 Current Avg. Dice: 0.0 Current Avg. tumor Dice: 0.0 Current Avg. lymph Dice: 0.0\n"
     ]
    },
    {
     "name": "stderr",
     "output_type": "stream",
     "text": [
      "Training (8219 / 18000 Steps) (loss=0.65516): 100%|██████████| 20/20 [00:30<00:00,  1.52s/it]\n",
      "Training (8239 / 18000 Steps) (loss=0.65814): 100%|██████████| 20/20 [00:19<00:00,  1.03it/s]\n",
      "Training (8259 / 18000 Steps) (loss=0.66389): 100%|██████████| 20/20 [00:19<00:00,  1.02it/s]\n",
      "Training (8279 / 18000 Steps) (loss=0.65038): 100%|██████████| 20/20 [00:19<00:00,  1.03it/s]\n",
      "Training (8299 / 18000 Steps) (loss=0.67874): 100%|██████████| 20/20 [00:19<00:00,  1.04it/s]\n",
      "Validate (8300 / 10 Steps): 100%|██████████| 8/8 [00:10<00:00,  1.36s/it]3<?, ?it/s]\n",
      "Training (8300 / 18000 Steps) (loss=0.65706):   5%|▌         | 1/20 [00:14<04:41, 14.84s/it]"
     ]
    },
    {
     "name": "stdout",
     "output_type": "stream",
     "text": [
      "Model Was Not Saved ! Current Best Avg. Dice: 0.0009428094490431249 Current Avg. Dice: 0.0 Current Avg. tumor Dice: 0.0 Current Avg. lymph Dice: 0.0\n"
     ]
    },
    {
     "name": "stderr",
     "output_type": "stream",
     "text": [
      "Training (8319 / 18000 Steps) (loss=0.70674): 100%|██████████| 20/20 [00:29<00:00,  1.50s/it]\n",
      "Training (8339 / 18000 Steps) (loss=0.64834): 100%|██████████| 20/20 [00:18<00:00,  1.05it/s]\n",
      "Training (8359 / 18000 Steps) (loss=0.64746): 100%|██████████| 20/20 [00:19<00:00,  1.04it/s]\n",
      "Training (8379 / 18000 Steps) (loss=0.68733): 100%|██████████| 20/20 [00:18<00:00,  1.06it/s]\n",
      "Training (8399 / 18000 Steps) (loss=0.66440): 100%|██████████| 20/20 [00:19<00:00,  1.05it/s]\n",
      "Validate (8400 / 10 Steps): 100%|██████████| 8/8 [00:10<00:00,  1.35s/it]3<?, ?it/s]\n",
      "Training (8400 / 18000 Steps) (loss=0.65892):   5%|▌         | 1/20 [00:14<04:39, 14.72s/it]"
     ]
    },
    {
     "name": "stdout",
     "output_type": "stream",
     "text": [
      "Model Was Not Saved ! Current Best Avg. Dice: 0.0009428094490431249 Current Avg. Dice: 0.0 Current Avg. tumor Dice: 0.0 Current Avg. lymph Dice: 0.0\n"
     ]
    },
    {
     "name": "stderr",
     "output_type": "stream",
     "text": [
      "Training (8419 / 18000 Steps) (loss=0.70016): 100%|██████████| 20/20 [00:29<00:00,  1.48s/it]\n",
      "Training (8439 / 18000 Steps) (loss=0.68158): 100%|██████████| 20/20 [00:19<00:00,  1.04it/s]\n",
      "Training (8459 / 18000 Steps) (loss=0.66320): 100%|██████████| 20/20 [00:18<00:00,  1.06it/s]\n",
      "Training (8479 / 18000 Steps) (loss=0.68195): 100%|██████████| 20/20 [00:18<00:00,  1.06it/s]\n",
      "Training (8499 / 18000 Steps) (loss=0.65811): 100%|██████████| 20/20 [00:18<00:00,  1.06it/s]\n",
      "Validate (8500 / 10 Steps): 100%|██████████| 8/8 [00:10<00:00,  1.36s/it]3<?, ?it/s]\n",
      "Training (8500 / 18000 Steps) (loss=0.66815):   5%|▌         | 1/20 [00:14<04:40, 14.77s/it]"
     ]
    },
    {
     "name": "stdout",
     "output_type": "stream",
     "text": [
      "Model Was Not Saved ! Current Best Avg. Dice: 0.0009428094490431249 Current Avg. Dice: 0.0 Current Avg. tumor Dice: 0.0 Current Avg. lymph Dice: 0.0\n"
     ]
    },
    {
     "name": "stderr",
     "output_type": "stream",
     "text": [
      "Training (8519 / 18000 Steps) (loss=0.69447): 100%|██████████| 20/20 [00:29<00:00,  1.48s/it]\n",
      "Training (8539 / 18000 Steps) (loss=0.86325): 100%|██████████| 20/20 [00:19<00:00,  1.01it/s]\n",
      "Training (8559 / 18000 Steps) (loss=0.66401): 100%|██████████| 20/20 [00:19<00:00,  1.05it/s]\n",
      "Training (8579 / 18000 Steps) (loss=0.65995): 100%|██████████| 20/20 [00:19<00:00,  1.03it/s]\n",
      "Training (8599 / 18000 Steps) (loss=0.66861): 100%|██████████| 20/20 [00:18<00:00,  1.06it/s]\n",
      "Validate (8600 / 10 Steps): 100%|██████████| 8/8 [00:10<00:00,  1.35s/it]3<?, ?it/s]\n",
      "Training (8600 / 18000 Steps) (loss=0.65004):   5%|▌         | 1/20 [00:14<04:39, 14.72s/it]"
     ]
    },
    {
     "name": "stdout",
     "output_type": "stream",
     "text": [
      "Model Was Not Saved ! Current Best Avg. Dice: 0.0009428094490431249 Current Avg. Dice: 0.0 Current Avg. tumor Dice: 0.0 Current Avg. lymph Dice: 0.0\n"
     ]
    },
    {
     "name": "stderr",
     "output_type": "stream",
     "text": [
      "Training (8619 / 18000 Steps) (loss=0.68711): 100%|██████████| 20/20 [00:29<00:00,  1.49s/it]\n",
      "Training (8639 / 18000 Steps) (loss=0.65918): 100%|██████████| 20/20 [00:18<00:00,  1.06it/s]\n",
      "Training (8659 / 18000 Steps) (loss=0.68018): 100%|██████████| 20/20 [00:19<00:00,  1.05it/s]\n",
      "Training (8679 / 18000 Steps) (loss=0.65828): 100%|██████████| 20/20 [00:19<00:00,  1.05it/s]\n",
      "Training (8699 / 18000 Steps) (loss=0.67673): 100%|██████████| 20/20 [00:18<00:00,  1.06it/s]\n",
      "Validate (8700 / 10 Steps): 100%|██████████| 8/8 [00:10<00:00,  1.34s/it]3<?, ?it/s]\n",
      "Training (8700 / 18000 Steps) (loss=0.64906):   5%|▌         | 1/20 [00:14<04:37, 14.60s/it]"
     ]
    },
    {
     "name": "stdout",
     "output_type": "stream",
     "text": [
      "Model Was Not Saved ! Current Best Avg. Dice: 0.0009428094490431249 Current Avg. Dice: 0.0 Current Avg. tumor Dice: 0.0 Current Avg. lymph Dice: 0.0\n"
     ]
    },
    {
     "name": "stderr",
     "output_type": "stream",
     "text": [
      "Training (8719 / 18000 Steps) (loss=0.64196): 100%|██████████| 20/20 [00:29<00:00,  1.49s/it]\n",
      "Training (8739 / 18000 Steps) (loss=0.70004): 100%|██████████| 20/20 [00:18<00:00,  1.06it/s]\n",
      "Training (8759 / 18000 Steps) (loss=0.64644): 100%|██████████| 20/20 [00:19<00:00,  1.04it/s]\n",
      "Training (8779 / 18000 Steps) (loss=0.70161): 100%|██████████| 20/20 [00:18<00:00,  1.06it/s]\n",
      "Training (8799 / 18000 Steps) (loss=0.66993): 100%|██████████| 20/20 [00:18<00:00,  1.06it/s]\n",
      "Validate (8800 / 10 Steps): 100%|██████████| 8/8 [00:10<00:00,  1.36s/it]3<?, ?it/s]\n",
      "Training (8800 / 18000 Steps) (loss=0.67970):   5%|▌         | 1/20 [00:14<04:32, 14.36s/it]"
     ]
    },
    {
     "name": "stdout",
     "output_type": "stream",
     "text": [
      "Model Was Not Saved ! Current Best Avg. Dice: 0.0009428094490431249 Current Avg. Dice: 0.0 Current Avg. tumor Dice: 0.0 Current Avg. lymph Dice: 0.0\n"
     ]
    },
    {
     "name": "stderr",
     "output_type": "stream",
     "text": [
      "Training (8819 / 18000 Steps) (loss=0.66892): 100%|██████████| 20/20 [00:29<00:00,  1.47s/it]\n",
      "Training (8839 / 18000 Steps) (loss=0.66771): 100%|██████████| 20/20 [00:18<00:00,  1.06it/s]\n",
      "Training (8859 / 18000 Steps) (loss=0.63699): 100%|██████████| 20/20 [00:18<00:00,  1.06it/s]\n",
      "Training (8879 / 18000 Steps) (loss=0.67301): 100%|██████████| 20/20 [00:18<00:00,  1.06it/s]\n",
      "Training (8899 / 18000 Steps) (loss=0.68559): 100%|██████████| 20/20 [00:19<00:00,  1.05it/s]\n",
      "Validate (8900 / 10 Steps): 100%|██████████| 8/8 [00:10<00:00,  1.35s/it]3<?, ?it/s]\n",
      "Training (8900 / 18000 Steps) (loss=0.67306):   5%|▌         | 1/20 [00:14<04:39, 14.71s/it]"
     ]
    },
    {
     "name": "stdout",
     "output_type": "stream",
     "text": [
      "Model Was Not Saved ! Current Best Avg. Dice: 0.0009428094490431249 Current Avg. Dice: 0.0 Current Avg. tumor Dice: 0.0 Current Avg. lymph Dice: 0.0\n"
     ]
    },
    {
     "name": "stderr",
     "output_type": "stream",
     "text": [
      "Training (8919 / 18000 Steps) (loss=0.65251): 100%|██████████| 20/20 [00:29<00:00,  1.48s/it]\n",
      "Training (8939 / 18000 Steps) (loss=0.66433): 100%|██████████| 20/20 [00:18<00:00,  1.05it/s]\n",
      "Training (8959 / 18000 Steps) (loss=0.69759): 100%|██████████| 20/20 [00:18<00:00,  1.06it/s]\n",
      "Training (8979 / 18000 Steps) (loss=0.68387): 100%|██████████| 20/20 [00:18<00:00,  1.08it/s]\n",
      "Training (8999 / 18000 Steps) (loss=0.67237): 100%|██████████| 20/20 [00:18<00:00,  1.05it/s]\n",
      "Validate (9000 / 10 Steps): 100%|██████████| 8/8 [00:10<00:00,  1.35s/it]3<?, ?it/s]\n",
      "Training (9000 / 18000 Steps) (loss=0.65782):   5%|▌         | 1/20 [00:14<04:35, 14.52s/it]"
     ]
    },
    {
     "name": "stdout",
     "output_type": "stream",
     "text": [
      "Model Was Not Saved ! Current Best Avg. Dice: 0.0009428094490431249 Current Avg. Dice: 0.0 Current Avg. tumor Dice: 0.0 Current Avg. lymph Dice: 0.0\n"
     ]
    },
    {
     "name": "stderr",
     "output_type": "stream",
     "text": [
      "Training (9019 / 18000 Steps) (loss=0.67121): 100%|██████████| 20/20 [00:29<00:00,  1.47s/it]\n",
      "Training (9039 / 18000 Steps) (loss=0.67062): 100%|██████████| 20/20 [00:18<00:00,  1.05it/s]\n",
      "Training (9059 / 18000 Steps) (loss=0.67305): 100%|██████████| 20/20 [00:18<00:00,  1.06it/s]\n",
      "Training (9079 / 18000 Steps) (loss=0.67033): 100%|██████████| 20/20 [00:19<00:00,  1.02it/s]\n",
      "Training (9099 / 18000 Steps) (loss=0.66978): 100%|██████████| 20/20 [00:19<00:00,  1.04it/s]\n",
      "Validate (9100 / 10 Steps): 100%|██████████| 8/8 [00:10<00:00,  1.35s/it]3<?, ?it/s]\n",
      "Training (9100 / 18000 Steps) (loss=0.73777):   5%|▌         | 1/20 [00:14<04:35, 14.52s/it]"
     ]
    },
    {
     "name": "stdout",
     "output_type": "stream",
     "text": [
      "Model Was Not Saved ! Current Best Avg. Dice: 0.0009428094490431249 Current Avg. Dice: 0.0 Current Avg. tumor Dice: 0.0 Current Avg. lymph Dice: 0.0\n"
     ]
    },
    {
     "name": "stderr",
     "output_type": "stream",
     "text": [
      "Training (9119 / 18000 Steps) (loss=0.68489): 100%|██████████| 20/20 [00:29<00:00,  1.49s/it]\n",
      "Training (9139 / 18000 Steps) (loss=0.66303): 100%|██████████| 20/20 [00:18<00:00,  1.05it/s]\n",
      "Training (9159 / 18000 Steps) (loss=0.67108): 100%|██████████| 20/20 [00:18<00:00,  1.06it/s]\n",
      "Training (9179 / 18000 Steps) (loss=0.69329): 100%|██████████| 20/20 [00:19<00:00,  1.02it/s]\n",
      "Training (9199 / 18000 Steps) (loss=0.65556): 100%|██████████| 20/20 [00:19<00:00,  1.04it/s]\n",
      "Validate (9200 / 10 Steps): 100%|██████████| 8/8 [00:10<00:00,  1.35s/it]3<?, ?it/s]\n",
      "Training (9200 / 18000 Steps) (loss=0.66550):   5%|▌         | 1/20 [00:14<04:36, 14.56s/it]"
     ]
    },
    {
     "name": "stdout",
     "output_type": "stream",
     "text": [
      "Model Was Not Saved ! Current Best Avg. Dice: 0.0009428094490431249 Current Avg. Dice: 0.0 Current Avg. tumor Dice: 0.0 Current Avg. lymph Dice: 0.0\n"
     ]
    },
    {
     "name": "stderr",
     "output_type": "stream",
     "text": [
      "Training (9219 / 18000 Steps) (loss=0.63022): 100%|██████████| 20/20 [00:29<00:00,  1.48s/it]\n",
      "Training (9239 / 18000 Steps) (loss=0.64908): 100%|██████████| 20/20 [00:18<00:00,  1.06it/s]\n",
      "Training (9259 / 18000 Steps) (loss=0.64931): 100%|██████████| 20/20 [00:19<00:00,  1.04it/s]\n",
      "Training (9279 / 18000 Steps) (loss=0.64058): 100%|██████████| 20/20 [00:19<00:00,  1.03it/s]\n",
      "Training (9299 / 18000 Steps) (loss=0.64914): 100%|██████████| 20/20 [00:19<00:00,  1.05it/s]\n",
      "Validate (9300 / 10 Steps): 100%|██████████| 8/8 [00:10<00:00,  1.35s/it]4<?, ?it/s]\n",
      "Training (9300 / 18000 Steps) (loss=0.66660):   5%|▌         | 1/20 [00:15<04:45, 15.03s/it]"
     ]
    },
    {
     "name": "stdout",
     "output_type": "stream",
     "text": [
      "Model Was Not Saved ! Current Best Avg. Dice: 0.0009428094490431249 Current Avg. Dice: 0.0 Current Avg. tumor Dice: 0.0 Current Avg. lymph Dice: 0.0\n"
     ]
    },
    {
     "name": "stderr",
     "output_type": "stream",
     "text": [
      "Training (9319 / 18000 Steps) (loss=0.66198): 100%|██████████| 20/20 [00:30<00:00,  1.52s/it]\n",
      "Training (9339 / 18000 Steps) (loss=0.66953): 100%|██████████| 20/20 [00:19<00:00,  1.03it/s]\n",
      "Training (9359 / 18000 Steps) (loss=0.65680): 100%|██████████| 20/20 [00:19<00:00,  1.02it/s]\n",
      "Training (9379 / 18000 Steps) (loss=0.62881): 100%|██████████| 20/20 [00:19<00:00,  1.05it/s]\n",
      "Training (9399 / 18000 Steps) (loss=0.65025): 100%|██████████| 20/20 [00:19<00:00,  1.03it/s]\n",
      "Validate (9400 / 10 Steps): 100%|██████████| 8/8 [00:10<00:00,  1.35s/it]3<?, ?it/s]\n",
      "Training (9400 / 18000 Steps) (loss=0.65577):   5%|▌         | 1/20 [00:14<04:37, 14.62s/it]"
     ]
    },
    {
     "name": "stdout",
     "output_type": "stream",
     "text": [
      "Model Was Not Saved ! Current Best Avg. Dice: 0.0009428094490431249 Current Avg. Dice: 0.0 Current Avg. tumor Dice: 0.0 Current Avg. lymph Dice: 0.0\n"
     ]
    },
    {
     "name": "stderr",
     "output_type": "stream",
     "text": [
      "Training (9419 / 18000 Steps) (loss=0.65181): 100%|██████████| 20/20 [00:29<00:00,  1.50s/it]\n",
      "Training (9439 / 18000 Steps) (loss=0.65261): 100%|██████████| 20/20 [00:19<00:00,  1.05it/s]\n",
      "Training (9459 / 18000 Steps) (loss=0.63611): 100%|██████████| 20/20 [00:18<00:00,  1.06it/s]\n",
      "Training (9479 / 18000 Steps) (loss=0.62958): 100%|██████████| 20/20 [00:19<00:00,  1.05it/s]\n",
      "Training (9499 / 18000 Steps) (loss=0.65944): 100%|██████████| 20/20 [00:18<00:00,  1.06it/s]\n",
      "Validate (9500 / 10 Steps): 100%|██████████| 8/8 [00:10<00:00,  1.34s/it]3<?, ?it/s]\n",
      "Training (9500 / 18000 Steps) (loss=0.66707):   5%|▌         | 1/20 [00:14<04:36, 14.57s/it]"
     ]
    },
    {
     "name": "stdout",
     "output_type": "stream",
     "text": [
      "Model Was Not Saved ! Current Best Avg. Dice: 0.0009428094490431249 Current Avg. Dice: 0.0 Current Avg. tumor Dice: 0.0 Current Avg. lymph Dice: 0.0\n"
     ]
    },
    {
     "name": "stderr",
     "output_type": "stream",
     "text": [
      "Training (9519 / 18000 Steps) (loss=0.66358): 100%|██████████| 20/20 [00:29<00:00,  1.49s/it]\n",
      "Training (9539 / 18000 Steps) (loss=0.67266): 100%|██████████| 20/20 [00:18<00:00,  1.06it/s]\n",
      "Training (9559 / 18000 Steps) (loss=0.68090): 100%|██████████| 20/20 [00:18<00:00,  1.07it/s]\n",
      "Training (9579 / 18000 Steps) (loss=0.67625): 100%|██████████| 20/20 [00:18<00:00,  1.05it/s]\n",
      "Training (9599 / 18000 Steps) (loss=0.66722): 100%|██████████| 20/20 [00:18<00:00,  1.06it/s]\n",
      "Validate (9600 / 10 Steps): 100%|██████████| 8/8 [00:10<00:00,  1.35s/it]3<?, ?it/s]\n",
      "Training (9600 / 18000 Steps) (loss=0.64667):   5%|▌         | 1/20 [00:14<04:34, 14.42s/it]"
     ]
    },
    {
     "name": "stdout",
     "output_type": "stream",
     "text": [
      "Model Was Not Saved ! Current Best Avg. Dice: 0.0009428094490431249 Current Avg. Dice: 0.0 Current Avg. tumor Dice: 0.0 Current Avg. lymph Dice: 0.0\n"
     ]
    },
    {
     "name": "stderr",
     "output_type": "stream",
     "text": [
      "Training (9619 / 18000 Steps) (loss=0.66847): 100%|██████████| 20/20 [00:29<00:00,  1.48s/it]\n",
      "Training (9639 / 18000 Steps) (loss=0.67339): 100%|██████████| 20/20 [00:18<00:00,  1.06it/s]\n",
      "Training (9659 / 18000 Steps) (loss=0.65551): 100%|██████████| 20/20 [00:19<00:00,  1.05it/s]\n",
      "Training (9679 / 18000 Steps) (loss=0.66918): 100%|██████████| 20/20 [00:18<00:00,  1.06it/s]\n",
      "Training (9699 / 18000 Steps) (loss=0.64741): 100%|██████████| 20/20 [00:19<00:00,  1.04it/s]\n",
      "Validate (9700 / 10 Steps): 100%|██████████| 8/8 [00:10<00:00,  1.34s/it]3<?, ?it/s]\n",
      "Training (9700 / 18000 Steps) (loss=0.64975):   5%|▌         | 1/20 [00:14<04:36, 14.55s/it]"
     ]
    },
    {
     "name": "stdout",
     "output_type": "stream",
     "text": [
      "Model Was Not Saved ! Current Best Avg. Dice: 0.0009428094490431249 Current Avg. Dice: 0.0 Current Avg. tumor Dice: 0.0 Current Avg. lymph Dice: 0.0\n"
     ]
    },
    {
     "name": "stderr",
     "output_type": "stream",
     "text": [
      "Training (9719 / 18000 Steps) (loss=0.65673): 100%|██████████| 20/20 [00:29<00:00,  1.48s/it]\n",
      "Training (9739 / 18000 Steps) (loss=0.65056): 100%|██████████| 20/20 [00:19<00:00,  1.05it/s]\n",
      "Training (9759 / 18000 Steps) (loss=0.67264): 100%|██████████| 20/20 [00:18<00:00,  1.06it/s]\n",
      "Training (9779 / 18000 Steps) (loss=0.62024): 100%|██████████| 20/20 [00:19<00:00,  1.05it/s]\n",
      "Training (9799 / 18000 Steps) (loss=0.67480): 100%|██████████| 20/20 [00:18<00:00,  1.08it/s]\n",
      "Validate (9800 / 10 Steps): 100%|██████████| 8/8 [00:10<00:00,  1.34s/it]3<?, ?it/s]\n",
      "Training (9800 / 18000 Steps) (loss=0.65372):   5%|▌         | 1/20 [00:14<04:34, 14.47s/it]"
     ]
    },
    {
     "name": "stdout",
     "output_type": "stream",
     "text": [
      "Model Was Not Saved ! Current Best Avg. Dice: 0.0009428094490431249 Current Avg. Dice: 0.0 Current Avg. tumor Dice: 0.0 Current Avg. lymph Dice: 0.0\n"
     ]
    },
    {
     "name": "stderr",
     "output_type": "stream",
     "text": [
      "Training (9819 / 18000 Steps) (loss=0.66762): 100%|██████████| 20/20 [00:29<00:00,  1.45s/it]\n",
      "Training (9839 / 18000 Steps) (loss=0.64697): 100%|██████████| 20/20 [00:18<00:00,  1.08it/s]\n",
      "Training (9859 / 18000 Steps) (loss=0.68507): 100%|██████████| 20/20 [00:18<00:00,  1.06it/s]\n",
      "Training (9879 / 18000 Steps) (loss=0.67164): 100%|██████████| 20/20 [00:19<00:00,  1.05it/s]\n",
      "Training (9899 / 18000 Steps) (loss=0.66480): 100%|██████████| 20/20 [00:18<00:00,  1.07it/s]\n",
      "Validate (9900 / 10 Steps): 100%|██████████| 8/8 [00:10<00:00,  1.33s/it]3<?, ?it/s]\n",
      "Training (9900 / 18000 Steps) (loss=0.65110):   5%|▌         | 1/20 [00:14<04:34, 14.43s/it]"
     ]
    },
    {
     "name": "stdout",
     "output_type": "stream",
     "text": [
      "Model Was Not Saved ! Current Best Avg. Dice: 0.0009428094490431249 Current Avg. Dice: 0.0 Current Avg. tumor Dice: 0.0 Current Avg. lymph Dice: 0.0\n"
     ]
    },
    {
     "name": "stderr",
     "output_type": "stream",
     "text": [
      "Training (9919 / 18000 Steps) (loss=0.67585): 100%|██████████| 20/20 [00:29<00:00,  1.46s/it]\n",
      "Training (9939 / 18000 Steps) (loss=0.64818): 100%|██████████| 20/20 [00:18<00:00,  1.09it/s]\n",
      "Training (9959 / 18000 Steps) (loss=0.66451): 100%|██████████| 20/20 [00:18<00:00,  1.10it/s]\n",
      "Training (9979 / 18000 Steps) (loss=0.66835): 100%|██████████| 20/20 [00:18<00:00,  1.08it/s]\n",
      "Training (9999 / 18000 Steps) (loss=0.67007): 100%|██████████| 20/20 [00:18<00:00,  1.10it/s]\n",
      "Validate (10000 / 10 Steps): 100%|██████████| 8/8 [00:10<00:00,  1.32s/it]3<?, ?it/s]\n",
      "Training (10000 / 18000 Steps) (loss=0.70391):   5%|▌         | 1/20 [00:14<04:34, 14.47s/it]"
     ]
    },
    {
     "name": "stdout",
     "output_type": "stream",
     "text": [
      "Model Was Not Saved ! Current Best Avg. Dice: 0.0009428094490431249 Current Avg. Dice: 0.0 Current Avg. tumor Dice: 0.0 Current Avg. lymph Dice: 0.0\n"
     ]
    },
    {
     "name": "stderr",
     "output_type": "stream",
     "text": [
      "Training (10019 / 18000 Steps) (loss=0.67926): 100%|██████████| 20/20 [00:29<00:00,  1.47s/it]\n",
      "Training (10039 / 18000 Steps) (loss=0.65483): 100%|██████████| 20/20 [00:18<00:00,  1.09it/s]\n",
      "Training (10059 / 18000 Steps) (loss=0.67557): 100%|██████████| 20/20 [00:18<00:00,  1.07it/s]\n",
      "Training (10079 / 18000 Steps) (loss=0.71698): 100%|██████████| 20/20 [00:18<00:00,  1.09it/s]\n",
      "Training (10099 / 18000 Steps) (loss=0.66376): 100%|██████████| 20/20 [00:18<00:00,  1.08it/s]\n",
      "Validate (10100 / 10 Steps): 100%|██████████| 8/8 [00:10<00:00,  1.31s/it]3<?, ?it/s]\n",
      "Training (10100 / 18000 Steps) (loss=0.67194):   5%|▌         | 1/20 [00:14<04:31, 14.28s/it]"
     ]
    },
    {
     "name": "stdout",
     "output_type": "stream",
     "text": [
      "Model Was Not Saved ! Current Best Avg. Dice: 0.0009428094490431249 Current Avg. Dice: 0.0 Current Avg. tumor Dice: 0.0 Current Avg. lymph Dice: 0.0\n"
     ]
    },
    {
     "name": "stderr",
     "output_type": "stream",
     "text": [
      "Training (10119 / 18000 Steps) (loss=0.65334): 100%|██████████| 20/20 [00:28<00:00,  1.44s/it]\n",
      "Training (10139 / 18000 Steps) (loss=0.66004): 100%|██████████| 20/20 [00:18<00:00,  1.09it/s]\n",
      "Training (10159 / 18000 Steps) (loss=0.65719): 100%|██████████| 20/20 [00:18<00:00,  1.06it/s]\n",
      "Training (10179 / 18000 Steps) (loss=0.63688): 100%|██████████| 20/20 [00:18<00:00,  1.06it/s]\n",
      "Training (10199 / 18000 Steps) (loss=0.68747): 100%|██████████| 20/20 [00:19<00:00,  1.03it/s]\n",
      "Validate (10200 / 10 Steps): 100%|██████████| 8/8 [00:10<00:00,  1.34s/it]3<?, ?it/s]\n",
      "Training (10200 / 18000 Steps) (loss=0.65476):   5%|▌         | 1/20 [00:14<04:38, 14.65s/it]"
     ]
    },
    {
     "name": "stdout",
     "output_type": "stream",
     "text": [
      "Model Was Not Saved ! Current Best Avg. Dice: 0.0009428094490431249 Current Avg. Dice: 0.0 Current Avg. tumor Dice: 0.0 Current Avg. lymph Dice: 0.0\n"
     ]
    },
    {
     "name": "stderr",
     "output_type": "stream",
     "text": [
      "Training (10219 / 18000 Steps) (loss=0.64117): 100%|██████████| 20/20 [00:29<00:00,  1.47s/it]\n",
      "Training (10239 / 18000 Steps) (loss=0.66377): 100%|██████████| 20/20 [00:18<00:00,  1.06it/s]\n",
      "Training (10259 / 18000 Steps) (loss=0.66614): 100%|██████████| 20/20 [00:18<00:00,  1.09it/s]\n",
      "Training (10279 / 18000 Steps) (loss=0.63676): 100%|██████████| 20/20 [00:18<00:00,  1.08it/s]\n",
      "Training (10299 / 18000 Steps) (loss=0.69545): 100%|██████████| 20/20 [00:18<00:00,  1.09it/s]\n",
      "Validate (10300 / 10 Steps): 100%|██████████| 8/8 [00:10<00:00,  1.33s/it]3<?, ?it/s]\n",
      "Training (10300 / 18000 Steps) (loss=0.66628):   5%|▌         | 1/20 [00:14<04:33, 14.41s/it]"
     ]
    },
    {
     "name": "stdout",
     "output_type": "stream",
     "text": [
      "Model Was Not Saved ! Current Best Avg. Dice: 0.0009428094490431249 Current Avg. Dice: 0.0 Current Avg. tumor Dice: 0.0 Current Avg. lymph Dice: 0.0\n"
     ]
    },
    {
     "name": "stderr",
     "output_type": "stream",
     "text": [
      "Training (10319 / 18000 Steps) (loss=0.67981): 100%|██████████| 20/20 [00:29<00:00,  1.46s/it]\n",
      "Training (10339 / 18000 Steps) (loss=0.64047): 100%|██████████| 20/20 [00:18<00:00,  1.09it/s]\n",
      "Training (10359 / 18000 Steps) (loss=0.65873): 100%|██████████| 20/20 [00:18<00:00,  1.07it/s]\n",
      "Training (10379 / 18000 Steps) (loss=0.64209): 100%|██████████| 20/20 [00:18<00:00,  1.08it/s]\n",
      "Training (10399 / 18000 Steps) (loss=0.62128): 100%|██████████| 20/20 [00:19<00:00,  1.05it/s]\n",
      "Validate (10400 / 10 Steps): 100%|██████████| 8/8 [00:10<00:00,  1.33s/it]3<?, ?it/s]\n",
      "Training (10400 / 18000 Steps) (loss=0.65968):   5%|▌         | 1/20 [00:14<04:33, 14.37s/it]"
     ]
    },
    {
     "name": "stdout",
     "output_type": "stream",
     "text": [
      "Model Was Not Saved ! Current Best Avg. Dice: 0.0009428094490431249 Current Avg. Dice: 0.0 Current Avg. tumor Dice: 0.0 Current Avg. lymph Dice: 0.0\n"
     ]
    },
    {
     "name": "stderr",
     "output_type": "stream",
     "text": [
      "Training (10419 / 18000 Steps) (loss=0.64991): 100%|██████████| 20/20 [00:28<00:00,  1.45s/it]\n",
      "Training (10439 / 18000 Steps) (loss=0.70180): 100%|██████████| 20/20 [00:18<00:00,  1.07it/s]\n",
      "Training (10459 / 18000 Steps) (loss=0.63681): 100%|██████████| 20/20 [00:18<00:00,  1.07it/s]\n",
      "Training (10479 / 18000 Steps) (loss=0.66957): 100%|██████████| 20/20 [00:18<00:00,  1.07it/s]\n",
      "Training (10499 / 18000 Steps) (loss=0.66881): 100%|██████████| 20/20 [00:19<00:00,  1.05it/s]\n",
      "Validate (10500 / 10 Steps): 100%|██████████| 8/8 [00:10<00:00,  1.35s/it]4<?, ?it/s]\n",
      "Training (10500 / 18000 Steps) (loss=0.64916):   5%|▌         | 1/20 [00:14<04:42, 14.86s/it]"
     ]
    },
    {
     "name": "stdout",
     "output_type": "stream",
     "text": [
      "Model Was Not Saved ! Current Best Avg. Dice: 0.0009428094490431249 Current Avg. Dice: 0.0 Current Avg. tumor Dice: 0.0 Current Avg. lymph Dice: 0.0\n"
     ]
    },
    {
     "name": "stderr",
     "output_type": "stream",
     "text": [
      "Training (10519 / 18000 Steps) (loss=0.62852): 100%|██████████| 20/20 [00:29<00:00,  1.50s/it]\n",
      "Training (10539 / 18000 Steps) (loss=0.67462): 100%|██████████| 20/20 [00:18<00:00,  1.06it/s]\n",
      "Training (10559 / 18000 Steps) (loss=0.67300): 100%|██████████| 20/20 [00:18<00:00,  1.09it/s]\n",
      "Training (10579 / 18000 Steps) (loss=0.63353): 100%|██████████| 20/20 [00:18<00:00,  1.08it/s]\n",
      "Training (10599 / 18000 Steps) (loss=0.62906): 100%|██████████| 20/20 [00:18<00:00,  1.08it/s]\n",
      "Validate (10600 / 10 Steps): 100%|██████████| 8/8 [00:10<00:00,  1.32s/it]3<?, ?it/s]\n",
      "Training (10600 / 18000 Steps) (loss=0.66890):   5%|▌         | 1/20 [00:14<04:36, 14.55s/it]"
     ]
    },
    {
     "name": "stdout",
     "output_type": "stream",
     "text": [
      "Model Was Not Saved ! Current Best Avg. Dice: 0.0009428094490431249 Current Avg. Dice: 0.0 Current Avg. tumor Dice: 0.0 Current Avg. lymph Dice: 0.0\n"
     ]
    },
    {
     "name": "stderr",
     "output_type": "stream",
     "text": [
      "Training (10619 / 18000 Steps) (loss=0.70447): 100%|██████████| 20/20 [00:29<00:00,  1.47s/it]\n",
      "Training (10639 / 18000 Steps) (loss=0.64275): 100%|██████████| 20/20 [00:18<00:00,  1.07it/s]\n",
      "Training (10659 / 18000 Steps) (loss=0.65554): 100%|██████████| 20/20 [00:18<00:00,  1.08it/s]\n",
      "Training (10679 / 18000 Steps) (loss=0.63848): 100%|██████████| 20/20 [00:18<00:00,  1.06it/s]\n",
      "Training (10699 / 18000 Steps) (loss=0.64041): 100%|██████████| 20/20 [00:18<00:00,  1.08it/s]\n",
      "Validate (10700 / 10 Steps): 100%|██████████| 8/8 [00:10<00:00,  1.33s/it]3<?, ?it/s]\n",
      "Training (10700 / 18000 Steps) (loss=0.66732):   5%|▌         | 1/20 [00:14<04:34, 14.45s/it]"
     ]
    },
    {
     "name": "stdout",
     "output_type": "stream",
     "text": [
      "Model Was Not Saved ! Current Best Avg. Dice: 0.0009428094490431249 Current Avg. Dice: 0.0 Current Avg. tumor Dice: 0.0 Current Avg. lymph Dice: 0.0\n"
     ]
    },
    {
     "name": "stderr",
     "output_type": "stream",
     "text": [
      "Training (10719 / 18000 Steps) (loss=0.65717): 100%|██████████| 20/20 [00:28<00:00,  1.44s/it]\n",
      "Training (10739 / 18000 Steps) (loss=0.66628): 100%|██████████| 20/20 [00:18<00:00,  1.09it/s]\n",
      "Training (10759 / 18000 Steps) (loss=0.69167): 100%|██████████| 20/20 [00:18<00:00,  1.08it/s]\n",
      "Training (10779 / 18000 Steps) (loss=0.62758): 100%|██████████| 20/20 [00:18<00:00,  1.08it/s]\n",
      "Training (10799 / 18000 Steps) (loss=0.63295): 100%|██████████| 20/20 [00:18<00:00,  1.07it/s]\n",
      "Validate (10800 / 10 Steps): 100%|██████████| 8/8 [00:10<00:00,  1.32s/it]3<?, ?it/s]\n",
      "Training (10800 / 18000 Steps) (loss=0.67245):   5%|▌         | 1/20 [00:14<04:32, 14.34s/it]"
     ]
    },
    {
     "name": "stdout",
     "output_type": "stream",
     "text": [
      "Model Was Not Saved ! Current Best Avg. Dice: 0.0009428094490431249 Current Avg. Dice: 0.0 Current Avg. tumor Dice: 0.0 Current Avg. lymph Dice: 0.0\n"
     ]
    },
    {
     "name": "stderr",
     "output_type": "stream",
     "text": [
      "Training (10819 / 18000 Steps) (loss=0.67251): 100%|██████████| 20/20 [00:29<00:00,  1.45s/it]\n",
      "Training (10839 / 18000 Steps) (loss=0.64937): 100%|██████████| 20/20 [00:18<00:00,  1.07it/s]\n",
      "Training (10859 / 18000 Steps) (loss=0.67539): 100%|██████████| 20/20 [00:18<00:00,  1.09it/s]\n",
      "Training (10879 / 18000 Steps) (loss=0.68123): 100%|██████████| 20/20 [00:18<00:00,  1.07it/s]\n",
      "Training (10899 / 18000 Steps) (loss=0.68209): 100%|██████████| 20/20 [00:18<00:00,  1.06it/s]\n",
      "Validate (10900 / 10 Steps): 100%|██████████| 8/8 [00:10<00:00,  1.33s/it]3<?, ?it/s]\n",
      "Training (10900 / 18000 Steps) (loss=0.65224):   5%|▌         | 1/20 [00:14<04:35, 14.50s/it]"
     ]
    },
    {
     "name": "stdout",
     "output_type": "stream",
     "text": [
      "Model Was Not Saved ! Current Best Avg. Dice: 0.0009428094490431249 Current Avg. Dice: 4.538543635135284e-06 Current Avg. tumor Dice: 9.077087270270567e-06 Current Avg. lymph Dice: 0.0\n"
     ]
    },
    {
     "name": "stderr",
     "output_type": "stream",
     "text": [
      "Training (10919 / 18000 Steps) (loss=0.66349): 100%|██████████| 20/20 [00:29<00:00,  1.45s/it]\n",
      "Training (10939 / 18000 Steps) (loss=0.66340): 100%|██████████| 20/20 [00:18<00:00,  1.08it/s]\n",
      "Training (10959 / 18000 Steps) (loss=0.66964): 100%|██████████| 20/20 [00:18<00:00,  1.08it/s]\n",
      "Training (10979 / 18000 Steps) (loss=0.62541): 100%|██████████| 20/20 [00:18<00:00,  1.08it/s]\n",
      "Training (10999 / 18000 Steps) (loss=0.66134): 100%|██████████| 20/20 [00:18<00:00,  1.09it/s]\n",
      "Validate (11000 / 10 Steps): 100%|██████████| 8/8 [00:10<00:00,  1.32s/it]3<?, ?it/s]\n",
      "Training (11000 / 18000 Steps) (loss=0.66515):   5%|▌         | 1/20 [00:14<04:35, 14.50s/it]"
     ]
    },
    {
     "name": "stdout",
     "output_type": "stream",
     "text": [
      "Model Was Not Saved ! Current Best Avg. Dice: 0.0009428094490431249 Current Avg. Dice: 3.085098433075473e-05 Current Avg. tumor Dice: 6.170196866150945e-05 Current Avg. lymph Dice: 0.0\n"
     ]
    },
    {
     "name": "stderr",
     "output_type": "stream",
     "text": [
      "Training (11019 / 18000 Steps) (loss=0.65769): 100%|██████████| 20/20 [00:29<00:00,  1.46s/it]\n",
      "Training (11039 / 18000 Steps) (loss=0.64108): 100%|██████████| 20/20 [00:18<00:00,  1.10it/s]\n",
      "Training (11059 / 18000 Steps) (loss=0.65296): 100%|██████████| 20/20 [00:18<00:00,  1.09it/s]\n",
      "Training (11079 / 18000 Steps) (loss=0.67035): 100%|██████████| 20/20 [00:18<00:00,  1.10it/s]\n",
      "Training (11099 / 18000 Steps) (loss=0.64441): 100%|██████████| 20/20 [00:18<00:00,  1.08it/s]\n",
      "Validate (11100 / 10 Steps): 100%|██████████| 8/8 [00:10<00:00,  1.32s/it]3<?, ?it/s]\n",
      "Training (11100 / 18000 Steps) (loss=0.65245):   5%|▌         | 1/20 [00:14<04:29, 14.17s/it]"
     ]
    },
    {
     "name": "stdout",
     "output_type": "stream",
     "text": [
      "Model Was Not Saved ! Current Best Avg. Dice: 0.0009428094490431249 Current Avg. Dice: 0.0007997083012014627 Current Avg. tumor Dice: 0.0015994166024029255 Current Avg. lymph Dice: 0.0\n"
     ]
    },
    {
     "name": "stderr",
     "output_type": "stream",
     "text": [
      "Training (11119 / 18000 Steps) (loss=0.62700): 100%|██████████| 20/20 [00:28<00:00,  1.43s/it]\n",
      "Training (11139 / 18000 Steps) (loss=0.63436): 100%|██████████| 20/20 [00:18<00:00,  1.10it/s]\n",
      "Training (11159 / 18000 Steps) (loss=0.65505): 100%|██████████| 20/20 [00:18<00:00,  1.08it/s]\n",
      "Training (11179 / 18000 Steps) (loss=0.63854): 100%|██████████| 20/20 [00:18<00:00,  1.10it/s]\n",
      "Training (11199 / 18000 Steps) (loss=0.64789): 100%|██████████| 20/20 [00:18<00:00,  1.09it/s]\n",
      "Validate (11200 / 10 Steps): 100%|██████████| 8/8 [00:10<00:00,  1.34s/it]3<?, ?it/s]\n",
      "Training (11200 / 18000 Steps) (loss=0.65381):   5%|▌         | 1/20 [00:15<04:52, 15.40s/it]"
     ]
    },
    {
     "name": "stdout",
     "output_type": "stream",
     "text": [
      "Model Was Saved ! Current Best Avg. Dice: 0.006470064632594585 Current Avg. Dice: 0.006470064632594585 Current Avg. tumor Dice: 0.012940130196511745 Current Avg. lymph Dice: 0.0\n"
     ]
    },
    {
     "name": "stderr",
     "output_type": "stream",
     "text": [
      "Training (11219 / 18000 Steps) (loss=0.66407): 100%|██████████| 20/20 [00:29<00:00,  1.49s/it]\n",
      "Training (11239 / 18000 Steps) (loss=0.73514): 100%|██████████| 20/20 [00:18<00:00,  1.08it/s]\n",
      "Training (11259 / 18000 Steps) (loss=0.61598): 100%|██████████| 20/20 [00:18<00:00,  1.10it/s]\n",
      "Training (11279 / 18000 Steps) (loss=0.65975): 100%|██████████| 20/20 [00:18<00:00,  1.09it/s]\n",
      "Training (11299 / 18000 Steps) (loss=0.67080): 100%|██████████| 20/20 [00:18<00:00,  1.09it/s]\n",
      "Validate (11300 / 10 Steps): 100%|██████████| 8/8 [00:10<00:00,  1.33s/it]3<?, ?it/s]\n",
      "Training (11300 / 18000 Steps) (loss=0.66269):   5%|▌         | 1/20 [00:15<04:51, 15.33s/it]"
     ]
    },
    {
     "name": "stdout",
     "output_type": "stream",
     "text": [
      "Model Was Saved ! Current Best Avg. Dice: 0.009066913276910782 Current Avg. Dice: 0.009066913276910782 Current Avg. tumor Dice: 0.018133826553821564 Current Avg. lymph Dice: 0.0\n"
     ]
    },
    {
     "name": "stderr",
     "output_type": "stream",
     "text": [
      "Training (11319 / 18000 Steps) (loss=0.62055): 100%|██████████| 20/20 [00:30<00:00,  1.51s/it]\n",
      "Training (11339 / 18000 Steps) (loss=0.62854): 100%|██████████| 20/20 [00:18<00:00,  1.08it/s]\n",
      "Training (11359 / 18000 Steps) (loss=0.66864): 100%|██████████| 20/20 [00:18<00:00,  1.10it/s]\n",
      "Training (11379 / 18000 Steps) (loss=0.65987): 100%|██████████| 20/20 [00:18<00:00,  1.09it/s]\n",
      "Training (11399 / 18000 Steps) (loss=0.72434): 100%|██████████| 20/20 [00:18<00:00,  1.11it/s]\n",
      "Validate (11400 / 10 Steps): 100%|██████████| 8/8 [00:10<00:00,  1.33s/it]3<?, ?it/s]\n",
      "Training (11400 / 18000 Steps) (loss=0.65401):   5%|▌         | 1/20 [00:15<04:52, 15.41s/it]"
     ]
    },
    {
     "name": "stdout",
     "output_type": "stream",
     "text": [
      "Model Was Saved ! Current Best Avg. Dice: 0.028259459882974625 Current Avg. Dice: 0.028259459882974625 Current Avg. tumor Dice: 0.05651892349123955 Current Avg. lymph Dice: 0.0\n"
     ]
    },
    {
     "name": "stderr",
     "output_type": "stream",
     "text": [
      "Training (11419 / 18000 Steps) (loss=0.65343): 100%|██████████| 20/20 [00:29<00:00,  1.50s/it]\n",
      "Training (11439 / 18000 Steps) (loss=0.67817): 100%|██████████| 20/20 [00:18<00:00,  1.09it/s]\n",
      "Training (11459 / 18000 Steps) (loss=0.66621): 100%|██████████| 20/20 [00:18<00:00,  1.07it/s]\n",
      "Training (11479 / 18000 Steps) (loss=0.66161): 100%|██████████| 20/20 [00:18<00:00,  1.08it/s]\n",
      "Training (11499 / 18000 Steps) (loss=0.64309): 100%|██████████| 20/20 [00:18<00:00,  1.10it/s]\n",
      "Validate (11500 / 10 Steps): 100%|██████████| 8/8 [00:10<00:00,  1.32s/it]3<?, ?it/s]\n",
      "Training (11500 / 18000 Steps) (loss=0.64802):   5%|▌         | 1/20 [00:15<04:49, 15.25s/it]"
     ]
    },
    {
     "name": "stdout",
     "output_type": "stream",
     "text": [
      "Model Was Saved ! Current Best Avg. Dice: 0.03493090346455574 Current Avg. Dice: 0.03493090346455574 Current Avg. tumor Dice: 0.06986181437969208 Current Avg. lymph Dice: 0.0\n"
     ]
    },
    {
     "name": "stderr",
     "output_type": "stream",
     "text": [
      "Training (11519 / 18000 Steps) (loss=0.65626): 100%|██████████| 20/20 [00:29<00:00,  1.49s/it]\n",
      "Training (11539 / 18000 Steps) (loss=0.66752): 100%|██████████| 20/20 [00:18<00:00,  1.09it/s]\n",
      "Training (11559 / 18000 Steps) (loss=0.64177): 100%|██████████| 20/20 [00:18<00:00,  1.10it/s]\n",
      "Training (11579 / 18000 Steps) (loss=0.62105): 100%|██████████| 20/20 [00:18<00:00,  1.10it/s]\n",
      "Training (11599 / 18000 Steps) (loss=0.67321): 100%|██████████| 20/20 [00:18<00:00,  1.08it/s]\n",
      "Validate (11600 / 10 Steps): 100%|██████████| 8/8 [00:10<00:00,  1.32s/it]3<?, ?it/s]\n",
      "Training (11600 / 18000 Steps) (loss=0.65880):   5%|▌         | 1/20 [00:15<04:52, 15.38s/it]"
     ]
    },
    {
     "name": "stdout",
     "output_type": "stream",
     "text": [
      "Model Was Saved ! Current Best Avg. Dice: 0.03745785728096962 Current Avg. Dice: 0.03745785728096962 Current Avg. tumor Dice: 0.07491569966077805 Current Avg. lymph Dice: 0.0\n"
     ]
    },
    {
     "name": "stderr",
     "output_type": "stream",
     "text": [
      "Training (11619 / 18000 Steps) (loss=0.62999): 100%|██████████| 20/20 [00:29<00:00,  1.50s/it]\n",
      "Training (11639 / 18000 Steps) (loss=0.67834): 100%|██████████| 20/20 [00:18<00:00,  1.09it/s]\n",
      "Training (11659 / 18000 Steps) (loss=0.64759): 100%|██████████| 20/20 [00:18<00:00,  1.09it/s]\n",
      "Training (11679 / 18000 Steps) (loss=0.64667): 100%|██████████| 20/20 [00:18<00:00,  1.10it/s]\n",
      "Training (11699 / 18000 Steps) (loss=0.66997): 100%|██████████| 20/20 [00:18<00:00,  1.10it/s]\n",
      "Validate (11700 / 10 Steps): 100%|██████████| 8/8 [00:10<00:00,  1.32s/it]3<?, ?it/s]\n",
      "Training (11700 / 18000 Steps) (loss=0.64270):   5%|▌         | 1/20 [00:14<04:30, 14.22s/it]"
     ]
    },
    {
     "name": "stdout",
     "output_type": "stream",
     "text": [
      "Model Was Not Saved ! Current Best Avg. Dice: 0.03745785728096962 Current Avg. Dice: 0.01593719981610775 Current Avg. tumor Dice: 0.0318743996322155 Current Avg. lymph Dice: 0.0\n"
     ]
    },
    {
     "name": "stderr",
     "output_type": "stream",
     "text": [
      "Training (11719 / 18000 Steps) (loss=0.67022): 100%|██████████| 20/20 [00:28<00:00,  1.42s/it]\n",
      "Training (11739 / 18000 Steps) (loss=0.73647): 100%|██████████| 20/20 [00:18<00:00,  1.08it/s]\n",
      "Training (11759 / 18000 Steps) (loss=0.67583): 100%|██████████| 20/20 [00:18<00:00,  1.10it/s]\n",
      "Training (11779 / 18000 Steps) (loss=0.63877): 100%|██████████| 20/20 [00:18<00:00,  1.09it/s]\n",
      "Training (11799 / 18000 Steps) (loss=0.66483): 100%|██████████| 20/20 [00:17<00:00,  1.12it/s]\n",
      "Validate (11800 / 10 Steps): 100%|██████████| 8/8 [00:10<00:00,  1.33s/it]3<?, ?it/s]\n",
      "Training (11800 / 18000 Steps) (loss=0.64021):   5%|▌         | 1/20 [00:15<04:50, 15.30s/it]"
     ]
    },
    {
     "name": "stdout",
     "output_type": "stream",
     "text": [
      "Model Was Saved ! Current Best Avg. Dice: 0.0602278970181942 Current Avg. Dice: 0.0602278970181942 Current Avg. tumor Dice: 0.11950254440307617 Current Avg. lymph Dice: 0.0\n"
     ]
    },
    {
     "name": "stderr",
     "output_type": "stream",
     "text": [
      "Training (11819 / 18000 Steps) (loss=0.65705): 100%|██████████| 20/20 [00:30<00:00,  1.51s/it]\n",
      "Training (11839 / 18000 Steps) (loss=0.65164): 100%|██████████| 20/20 [00:18<00:00,  1.10it/s]\n",
      "Training (11859 / 18000 Steps) (loss=0.69410): 100%|██████████| 20/20 [00:18<00:00,  1.10it/s]\n",
      "Training (11879 / 18000 Steps) (loss=0.66676): 100%|██████████| 20/20 [00:18<00:00,  1.10it/s]\n",
      "Training (11899 / 18000 Steps) (loss=0.63469): 100%|██████████| 20/20 [00:18<00:00,  1.10it/s]\n",
      "Validate (11900 / 10 Steps): 100%|██████████| 8/8 [00:10<00:00,  1.32s/it]3<?, ?it/s]\n",
      "Training (11900 / 18000 Steps) (loss=0.65101):   5%|▌         | 1/20 [00:14<04:32, 14.34s/it]"
     ]
    },
    {
     "name": "stdout",
     "output_type": "stream",
     "text": [
      "Model Was Not Saved ! Current Best Avg. Dice: 0.0602278970181942 Current Avg. Dice: 0.04946661368012428 Current Avg. tumor Dice: 0.09893322736024857 Current Avg. lymph Dice: 0.0\n"
     ]
    },
    {
     "name": "stderr",
     "output_type": "stream",
     "text": [
      "Training (11919 / 18000 Steps) (loss=0.65664): 100%|██████████| 20/20 [00:29<00:00,  1.46s/it]\n",
      "Training (11939 / 18000 Steps) (loss=0.66926): 100%|██████████| 20/20 [00:18<00:00,  1.10it/s]\n",
      "Training (11959 / 18000 Steps) (loss=0.80448): 100%|██████████| 20/20 [00:18<00:00,  1.11it/s]\n",
      "Training (11979 / 18000 Steps) (loss=0.66109): 100%|██████████| 20/20 [00:18<00:00,  1.08it/s]\n",
      "Training (11999 / 18000 Steps) (loss=0.65255): 100%|██████████| 20/20 [00:17<00:00,  1.11it/s]\n",
      "Validate (12000 / 10 Steps): 100%|██████████| 8/8 [00:10<00:00,  1.32s/it]3<?, ?it/s]\n",
      "Training (12000 / 18000 Steps) (loss=0.65180):   5%|▌         | 1/20 [00:14<04:31, 14.27s/it]"
     ]
    },
    {
     "name": "stdout",
     "output_type": "stream",
     "text": [
      "Model Was Not Saved ! Current Best Avg. Dice: 0.0602278970181942 Current Avg. Dice: 0.04491810128092766 Current Avg. tumor Dice: 0.08980192989110947 Current Avg. lymph Dice: 0.0\n"
     ]
    },
    {
     "name": "stderr",
     "output_type": "stream",
     "text": [
      "Training (12019 / 18000 Steps) (loss=0.68781): 100%|██████████| 20/20 [00:28<00:00,  1.43s/it]\n",
      "Training (12039 / 18000 Steps) (loss=0.63253): 100%|██████████| 20/20 [00:18<00:00,  1.10it/s]\n",
      "Training (12059 / 18000 Steps) (loss=0.64817): 100%|██████████| 20/20 [00:18<00:00,  1.09it/s]\n",
      "Training (12079 / 18000 Steps) (loss=0.66474): 100%|██████████| 20/20 [00:18<00:00,  1.09it/s]\n",
      "Training (12099 / 18000 Steps) (loss=0.63970): 100%|██████████| 20/20 [00:18<00:00,  1.10it/s]\n",
      "Validate (12100 / 10 Steps): 100%|██████████| 8/8 [00:10<00:00,  1.32s/it]3<?, ?it/s]\n",
      "Training (12100 / 18000 Steps) (loss=0.64948):   5%|▌         | 1/20 [00:14<04:31, 14.30s/it]"
     ]
    },
    {
     "name": "stdout",
     "output_type": "stream",
     "text": [
      "Model Was Not Saved ! Current Best Avg. Dice: 0.0602278970181942 Current Avg. Dice: 0.05115931108593941 Current Avg. tumor Dice: 0.10231861472129822 Current Avg. lymph Dice: 0.0\n"
     ]
    },
    {
     "name": "stderr",
     "output_type": "stream",
     "text": [
      "Training (12119 / 18000 Steps) (loss=0.64533): 100%|██████████| 20/20 [00:28<00:00,  1.43s/it]\n",
      "Training (12139 / 18000 Steps) (loss=0.67691): 100%|██████████| 20/20 [00:18<00:00,  1.09it/s]\n",
      "Training (12159 / 18000 Steps) (loss=0.65062): 100%|██████████| 20/20 [00:17<00:00,  1.12it/s]\n",
      "Training (12179 / 18000 Steps) (loss=0.65900): 100%|██████████| 20/20 [00:18<00:00,  1.11it/s]\n",
      "Training (12199 / 18000 Steps) (loss=0.65761): 100%|██████████| 20/20 [00:18<00:00,  1.07it/s]\n",
      "Validate (12200 / 10 Steps): 100%|██████████| 8/8 [00:10<00:00,  1.34s/it]3<?, ?it/s]\n",
      "Training (12200 / 18000 Steps) (loss=0.65601):   5%|▌         | 1/20 [00:15<04:52, 15.40s/it]"
     ]
    },
    {
     "name": "stdout",
     "output_type": "stream",
     "text": [
      "Model Was Saved ! Current Best Avg. Dice: 0.06209706887602806 Current Avg. Dice: 0.06209706887602806 Current Avg. tumor Dice: 0.12419414520263672 Current Avg. lymph Dice: 0.0\n"
     ]
    },
    {
     "name": "stderr",
     "output_type": "stream",
     "text": [
      "Training (12219 / 18000 Steps) (loss=0.62028): 100%|██████████| 20/20 [00:29<00:00,  1.50s/it]\n",
      "Training (12239 / 18000 Steps) (loss=0.64148): 100%|██████████| 20/20 [00:18<00:00,  1.08it/s]\n",
      "Training (12259 / 18000 Steps) (loss=0.65250): 100%|██████████| 20/20 [00:18<00:00,  1.08it/s]\n",
      "Training (12279 / 18000 Steps) (loss=0.64419): 100%|██████████| 20/20 [00:18<00:00,  1.07it/s]\n",
      "Training (12299 / 18000 Steps) (loss=0.64776): 100%|██████████| 20/20 [00:18<00:00,  1.10it/s]\n",
      "Validate (12300 / 10 Steps): 100%|██████████| 8/8 [00:10<00:00,  1.34s/it]3<?, ?it/s]\n",
      "Training (12300 / 18000 Steps) (loss=0.62314):   5%|▌         | 1/20 [00:14<04:34, 14.45s/it]"
     ]
    },
    {
     "name": "stdout",
     "output_type": "stream",
     "text": [
      "Model Was Not Saved ! Current Best Avg. Dice: 0.06209706887602806 Current Avg. Dice: 0.04324466735124588 Current Avg. tumor Dice: 0.08648933470249176 Current Avg. lymph Dice: 0.0\n"
     ]
    },
    {
     "name": "stderr",
     "output_type": "stream",
     "text": [
      "Training (12319 / 18000 Steps) (loss=0.62286): 100%|██████████| 20/20 [00:29<00:00,  1.46s/it]\n",
      "Training (12339 / 18000 Steps) (loss=0.62520): 100%|██████████| 20/20 [00:18<00:00,  1.10it/s]\n",
      "Training (12359 / 18000 Steps) (loss=0.62756): 100%|██████████| 20/20 [00:18<00:00,  1.10it/s]\n",
      "Training (12379 / 18000 Steps) (loss=0.63332): 100%|██████████| 20/20 [00:18<00:00,  1.08it/s]\n",
      "Training (12399 / 18000 Steps) (loss=0.67947): 100%|██████████| 20/20 [00:17<00:00,  1.11it/s]\n",
      "Validate (12400 / 10 Steps): 100%|██████████| 8/8 [00:10<00:00,  1.33s/it]3<?, ?it/s]\n",
      "Training (12400 / 18000 Steps) (loss=0.64837):   5%|▌         | 1/20 [00:15<04:52, 15.37s/it]"
     ]
    },
    {
     "name": "stdout",
     "output_type": "stream",
     "text": [
      "Model Was Saved ! Current Best Avg. Dice: 0.07213820517063141 Current Avg. Dice: 0.07213820517063141 Current Avg. tumor Dice: 0.14388425648212433 Current Avg. lymph Dice: 0.0\n"
     ]
    },
    {
     "name": "stderr",
     "output_type": "stream",
     "text": [
      "Training (12419 / 18000 Steps) (loss=0.62174): 100%|██████████| 20/20 [00:29<00:00,  1.50s/it]\n",
      "Training (12439 / 18000 Steps) (loss=0.61856): 100%|██████████| 20/20 [00:18<00:00,  1.09it/s]\n",
      "Training (12459 / 18000 Steps) (loss=0.63801): 100%|██████████| 20/20 [00:18<00:00,  1.09it/s]\n",
      "Training (12479 / 18000 Steps) (loss=0.63443): 100%|██████████| 20/20 [00:18<00:00,  1.10it/s]\n",
      "Training (12499 / 18000 Steps) (loss=0.66703): 100%|██████████| 20/20 [00:18<00:00,  1.09it/s]\n",
      "Validate (12500 / 10 Steps): 100%|██████████| 8/8 [00:10<00:00,  1.33s/it]3<?, ?it/s]\n",
      "Training (12500 / 18000 Steps) (loss=0.65497):   5%|▌         | 1/20 [00:14<04:30, 14.21s/it]"
     ]
    },
    {
     "name": "stdout",
     "output_type": "stream",
     "text": [
      "Model Was Not Saved ! Current Best Avg. Dice: 0.07213820517063141 Current Avg. Dice: 0.06801007688045502 Current Avg. tumor Dice: 0.13602015376091003 Current Avg. lymph Dice: 0.0\n"
     ]
    },
    {
     "name": "stderr",
     "output_type": "stream",
     "text": [
      "Training (12519 / 18000 Steps) (loss=0.65267): 100%|██████████| 20/20 [00:28<00:00,  1.43s/it]\n",
      "Training (12539 / 18000 Steps) (loss=0.65791): 100%|██████████| 20/20 [00:18<00:00,  1.10it/s]\n",
      "Training (12559 / 18000 Steps) (loss=0.66633): 100%|██████████| 20/20 [00:17<00:00,  1.12it/s]\n",
      "Training (12579 / 18000 Steps) (loss=0.62307): 100%|██████████| 20/20 [00:18<00:00,  1.07it/s]\n",
      "Training (12599 / 18000 Steps) (loss=0.66681): 100%|██████████| 20/20 [00:18<00:00,  1.11it/s]\n",
      "Validate (12600 / 10 Steps): 100%|██████████| 8/8 [00:10<00:00,  1.32s/it]3<?, ?it/s]\n",
      "Training (12600 / 18000 Steps) (loss=0.61466):   5%|▌         | 1/20 [00:14<04:30, 14.26s/it]"
     ]
    },
    {
     "name": "stdout",
     "output_type": "stream",
     "text": [
      "Model Was Not Saved ! Current Best Avg. Dice: 0.07213820517063141 Current Avg. Dice: 0.04380219429731369 Current Avg. tumor Dice: 0.08760439604520798 Current Avg. lymph Dice: 0.0\n"
     ]
    },
    {
     "name": "stderr",
     "output_type": "stream",
     "text": [
      "Training (12619 / 18000 Steps) (loss=0.63244): 100%|██████████| 20/20 [00:29<00:00,  1.45s/it]\n",
      "Training (12639 / 18000 Steps) (loss=0.61845): 100%|██████████| 20/20 [00:18<00:00,  1.10it/s]\n",
      "Training (12659 / 18000 Steps) (loss=0.62571): 100%|██████████| 20/20 [00:18<00:00,  1.11it/s]\n",
      "Training (12679 / 18000 Steps) (loss=0.65992): 100%|██████████| 20/20 [00:18<00:00,  1.09it/s]\n",
      "Training (12699 / 18000 Steps) (loss=0.61158): 100%|██████████| 20/20 [00:18<00:00,  1.10it/s]\n",
      "Validate (12700 / 10 Steps): 100%|██████████| 8/8 [00:10<00:00,  1.35s/it]3<?, ?it/s]\n",
      "Training (12700 / 18000 Steps) (loss=0.65742):   5%|▌         | 1/20 [00:14<04:35, 14.50s/it]"
     ]
    },
    {
     "name": "stdout",
     "output_type": "stream",
     "text": [
      "Model Was Not Saved ! Current Best Avg. Dice: 0.07213820517063141 Current Avg. Dice: 0.06241792067885399 Current Avg. tumor Dice: 0.12483584880828857 Current Avg. lymph Dice: 0.0\n"
     ]
    },
    {
     "name": "stderr",
     "output_type": "stream",
     "text": [
      "Training (12719 / 18000 Steps) (loss=0.61301): 100%|██████████| 20/20 [00:29<00:00,  1.46s/it]\n",
      "Training (12739 / 18000 Steps) (loss=0.63730): 100%|██████████| 20/20 [00:18<00:00,  1.10it/s]\n",
      "Training (12759 / 18000 Steps) (loss=0.62840): 100%|██████████| 20/20 [00:18<00:00,  1.08it/s]\n",
      "Training (12779 / 18000 Steps) (loss=0.63696): 100%|██████████| 20/20 [00:18<00:00,  1.09it/s]\n",
      "Training (12799 / 18000 Steps) (loss=0.68213): 100%|██████████| 20/20 [00:18<00:00,  1.09it/s]\n",
      "Validate (12800 / 10 Steps): 100%|██████████| 8/8 [00:10<00:00,  1.32s/it]3<?, ?it/s]\n",
      "Training (12800 / 18000 Steps) (loss=0.63431):   5%|▌         | 1/20 [00:14<04:31, 14.27s/it]"
     ]
    },
    {
     "name": "stdout",
     "output_type": "stream",
     "text": [
      "Model Was Not Saved ! Current Best Avg. Dice: 0.07213820517063141 Current Avg. Dice: 0.07024369388818741 Current Avg. tumor Dice: 0.140487402677536 Current Avg. lymph Dice: 0.0\n"
     ]
    },
    {
     "name": "stderr",
     "output_type": "stream",
     "text": [
      "Training (12819 / 18000 Steps) (loss=0.67215): 100%|██████████| 20/20 [00:28<00:00,  1.44s/it]\n",
      "Training (12839 / 18000 Steps) (loss=0.65331): 100%|██████████| 20/20 [00:18<00:00,  1.09it/s]\n",
      "Training (12859 / 18000 Steps) (loss=0.65425): 100%|██████████| 20/20 [00:18<00:00,  1.08it/s]\n",
      "Training (12879 / 18000 Steps) (loss=0.64491): 100%|██████████| 20/20 [00:18<00:00,  1.10it/s]\n",
      "Training (12899 / 18000 Steps) (loss=0.64359): 100%|██████████| 20/20 [00:18<00:00,  1.08it/s]\n",
      "Validate (12900 / 10 Steps): 100%|██████████| 8/8 [00:10<00:00,  1.33s/it]3<?, ?it/s]\n",
      "Training (12900 / 18000 Steps) (loss=0.63806):   5%|▌         | 1/20 [00:14<04:32, 14.32s/it]"
     ]
    },
    {
     "name": "stdout",
     "output_type": "stream",
     "text": [
      "Model Was Not Saved ! Current Best Avg. Dice: 0.07213820517063141 Current Avg. Dice: 0.07157737761735916 Current Avg. tumor Dice: 0.14315475523471832 Current Avg. lymph Dice: 0.0\n"
     ]
    },
    {
     "name": "stderr",
     "output_type": "stream",
     "text": [
      "Training (12919 / 18000 Steps) (loss=0.61255): 100%|██████████| 20/20 [00:28<00:00,  1.44s/it]\n",
      "Training (12939 / 18000 Steps) (loss=0.66973): 100%|██████████| 20/20 [00:18<00:00,  1.08it/s]\n",
      "Training (12959 / 18000 Steps) (loss=0.65047): 100%|██████████| 20/20 [00:18<00:00,  1.09it/s]\n",
      "Training (12979 / 18000 Steps) (loss=0.68116): 100%|██████████| 20/20 [00:18<00:00,  1.09it/s]\n",
      "Training (12999 / 18000 Steps) (loss=0.61600): 100%|██████████| 20/20 [00:18<00:00,  1.09it/s]\n",
      "Validate (13000 / 10 Steps): 100%|██████████| 8/8 [00:10<00:00,  1.34s/it]3<?, ?it/s]\n",
      "Training (13000 / 18000 Steps) (loss=0.64264):   5%|▌         | 1/20 [00:15<04:51, 15.36s/it]"
     ]
    },
    {
     "name": "stdout",
     "output_type": "stream",
     "text": [
      "Model Was Saved ! Current Best Avg. Dice: 0.07653474062681198 Current Avg. Dice: 0.07653474062681198 Current Avg. tumor Dice: 0.15306948125362396 Current Avg. lymph Dice: 0.0\n"
     ]
    },
    {
     "name": "stderr",
     "output_type": "stream",
     "text": [
      "Training (13019 / 18000 Steps) (loss=0.66313): 100%|██████████| 20/20 [00:29<00:00,  1.50s/it]\n",
      "Training (13039 / 18000 Steps) (loss=0.63754): 100%|██████████| 20/20 [00:18<00:00,  1.10it/s]\n",
      "Training (13059 / 18000 Steps) (loss=0.64223): 100%|██████████| 20/20 [00:18<00:00,  1.06it/s]\n",
      "Training (13079 / 18000 Steps) (loss=0.67709): 100%|██████████| 20/20 [00:18<00:00,  1.10it/s]\n",
      "Training (13099 / 18000 Steps) (loss=0.65860): 100%|██████████| 20/20 [00:18<00:00,  1.09it/s]\n",
      "Validate (13100 / 10 Steps): 100%|██████████| 8/8 [00:10<00:00,  1.32s/it]3<?, ?it/s]\n",
      "Training (13100 / 18000 Steps) (loss=0.62034):   5%|▌         | 1/20 [00:14<04:30, 14.22s/it]"
     ]
    },
    {
     "name": "stdout",
     "output_type": "stream",
     "text": [
      "Model Was Not Saved ! Current Best Avg. Dice: 0.07653474062681198 Current Avg. Dice: 0.06628081202507019 Current Avg. tumor Dice: 0.13256162405014038 Current Avg. lymph Dice: 0.0\n"
     ]
    },
    {
     "name": "stderr",
     "output_type": "stream",
     "text": [
      "Training (13119 / 18000 Steps) (loss=0.59589): 100%|██████████| 20/20 [00:28<00:00,  1.43s/it]\n",
      "Training (13139 / 18000 Steps) (loss=0.67078): 100%|██████████| 20/20 [00:18<00:00,  1.11it/s]\n",
      "Training (13159 / 18000 Steps) (loss=0.68016): 100%|██████████| 20/20 [00:18<00:00,  1.08it/s]\n",
      "Training (13179 / 18000 Steps) (loss=0.65782): 100%|██████████| 20/20 [00:18<00:00,  1.07it/s]\n",
      "Training (13199 / 18000 Steps) (loss=0.63735): 100%|██████████| 20/20 [00:18<00:00,  1.07it/s]\n",
      "Validate (13200 / 10 Steps): 100%|██████████| 8/8 [00:10<00:00,  1.34s/it]3<?, ?it/s]\n",
      "Training (13200 / 18000 Steps) (loss=0.64472):   5%|▌         | 1/20 [00:14<04:33, 14.39s/it]"
     ]
    },
    {
     "name": "stdout",
     "output_type": "stream",
     "text": [
      "Model Was Not Saved ! Current Best Avg. Dice: 0.07653474062681198 Current Avg. Dice: 0.06550084799528122 Current Avg. tumor Dice: 0.13100168108940125 Current Avg. lymph Dice: 0.0\n"
     ]
    },
    {
     "name": "stderr",
     "output_type": "stream",
     "text": [
      "Training (13219 / 18000 Steps) (loss=0.62723): 100%|██████████| 20/20 [00:28<00:00,  1.45s/it]\n",
      "Training (13239 / 18000 Steps) (loss=0.64925): 100%|██████████| 20/20 [00:18<00:00,  1.09it/s]\n",
      "Training (13259 / 18000 Steps) (loss=0.67335): 100%|██████████| 20/20 [00:18<00:00,  1.10it/s]\n",
      "Training (13279 / 18000 Steps) (loss=0.63130): 100%|██████████| 20/20 [00:18<00:00,  1.09it/s]\n",
      "Training (13299 / 18000 Steps) (loss=0.63184): 100%|██████████| 20/20 [00:18<00:00,  1.09it/s]\n",
      "Validate (13300 / 10 Steps): 100%|██████████| 8/8 [00:10<00:00,  1.36s/it]3<?, ?it/s]\n",
      "Training (13300 / 18000 Steps) (loss=0.64703):   5%|▌         | 1/20 [00:14<04:36, 14.57s/it]"
     ]
    },
    {
     "name": "stdout",
     "output_type": "stream",
     "text": [
      "Model Was Not Saved ! Current Best Avg. Dice: 0.07653474062681198 Current Avg. Dice: 0.06904205679893494 Current Avg. tumor Dice: 0.13801594078540802 Current Avg. lymph Dice: 0.0\n"
     ]
    },
    {
     "name": "stderr",
     "output_type": "stream",
     "text": [
      "Training (13319 / 18000 Steps) (loss=0.60517): 100%|██████████| 20/20 [00:29<00:00,  1.46s/it]\n",
      "Training (13339 / 18000 Steps) (loss=0.66310): 100%|██████████| 20/20 [00:18<00:00,  1.11it/s]\n",
      "Training (13359 / 18000 Steps) (loss=0.64486): 100%|██████████| 20/20 [00:18<00:00,  1.09it/s]\n",
      "Training (13379 / 18000 Steps) (loss=0.60770): 100%|██████████| 20/20 [00:18<00:00,  1.09it/s]\n",
      "Training (13399 / 18000 Steps) (loss=0.67612): 100%|██████████| 20/20 [00:18<00:00,  1.09it/s]\n",
      "Validate (13400 / 10 Steps): 100%|██████████| 8/8 [00:10<00:00,  1.37s/it]3<?, ?it/s]\n",
      "Training (13400 / 18000 Steps) (loss=0.63344):   5%|▌         | 1/20 [00:14<04:39, 14.69s/it]"
     ]
    },
    {
     "name": "stdout",
     "output_type": "stream",
     "text": [
      "Model Was Not Saved ! Current Best Avg. Dice: 0.07653474062681198 Current Avg. Dice: 0.07082489132881165 Current Avg. tumor Dice: 0.14158330857753754 Current Avg. lymph Dice: 0.0\n"
     ]
    },
    {
     "name": "stderr",
     "output_type": "stream",
     "text": [
      "Training (13419 / 18000 Steps) (loss=0.63513): 100%|██████████| 20/20 [00:29<00:00,  1.45s/it]\n",
      "Training (13439 / 18000 Steps) (loss=0.64130): 100%|██████████| 20/20 [00:18<00:00,  1.11it/s]\n",
      "Training (13459 / 18000 Steps) (loss=0.78676): 100%|██████████| 20/20 [00:18<00:00,  1.10it/s]\n",
      "Training (13479 / 18000 Steps) (loss=0.63276): 100%|██████████| 20/20 [00:18<00:00,  1.09it/s]\n",
      "Training (13499 / 18000 Steps) (loss=0.63797): 100%|██████████| 20/20 [00:18<00:00,  1.10it/s]\n",
      "Validate (13500 / 10 Steps): 100%|██████████| 8/8 [00:10<00:00,  1.33s/it]3<?, ?it/s]\n",
      "Training (13500 / 18000 Steps) (loss=0.61514):   5%|▌         | 1/20 [00:14<04:37, 14.58s/it]"
     ]
    },
    {
     "name": "stdout",
     "output_type": "stream",
     "text": [
      "Model Was Not Saved ! Current Best Avg. Dice: 0.07653474062681198 Current Avg. Dice: 0.06397008150815964 Current Avg. tumor Dice: 0.12794017791748047 Current Avg. lymph Dice: 0.0\n"
     ]
    },
    {
     "name": "stderr",
     "output_type": "stream",
     "text": [
      "Training (13519 / 18000 Steps) (loss=0.69140): 100%|██████████| 20/20 [00:28<00:00,  1.45s/it]\n",
      "Training (13539 / 18000 Steps) (loss=0.64531): 100%|██████████| 20/20 [00:17<00:00,  1.11it/s]\n",
      "Training (13559 / 18000 Steps) (loss=0.67091): 100%|██████████| 20/20 [00:18<00:00,  1.09it/s]\n",
      "Training (13579 / 18000 Steps) (loss=0.55998): 100%|██████████| 20/20 [00:18<00:00,  1.11it/s]\n",
      "Training (13599 / 18000 Steps) (loss=0.62916): 100%|██████████| 20/20 [00:18<00:00,  1.09it/s]\n",
      "Validate (13600 / 10 Steps): 100%|██████████| 8/8 [00:10<00:00,  1.35s/it]3<?, ?it/s]\n",
      "Training (13600 / 18000 Steps) (loss=0.62587):   5%|▌         | 1/20 [00:14<04:36, 14.53s/it]"
     ]
    },
    {
     "name": "stdout",
     "output_type": "stream",
     "text": [
      "Model Was Not Saved ! Current Best Avg. Dice: 0.07653474062681198 Current Avg. Dice: 0.0601482056081295 Current Avg. tumor Dice: 0.120296411216259 Current Avg. lymph Dice: 0.0\n"
     ]
    },
    {
     "name": "stderr",
     "output_type": "stream",
     "text": [
      "Training (13619 / 18000 Steps) (loss=0.61650): 100%|██████████| 20/20 [00:28<00:00,  1.44s/it]\n",
      "Training (13639 / 18000 Steps) (loss=0.64958): 100%|██████████| 20/20 [00:18<00:00,  1.10it/s]\n",
      "Training (13659 / 18000 Steps) (loss=0.65796): 100%|██████████| 20/20 [00:18<00:00,  1.10it/s]\n",
      "Training (13679 / 18000 Steps) (loss=0.64757): 100%|██████████| 20/20 [00:18<00:00,  1.11it/s]\n",
      "Training (13699 / 18000 Steps) (loss=0.62807): 100%|██████████| 20/20 [00:18<00:00,  1.10it/s]\n",
      "Validate (13700 / 10 Steps): 100%|██████████| 8/8 [00:10<00:00,  1.33s/it]3<?, ?it/s]\n",
      "Training (13700 / 18000 Steps) (loss=0.65673):   5%|▌         | 1/20 [00:15<04:49, 15.26s/it]"
     ]
    },
    {
     "name": "stdout",
     "output_type": "stream",
     "text": [
      "Model Was Saved ! Current Best Avg. Dice: 0.0845571979880333 Current Avg. Dice: 0.0845571979880333 Current Avg. tumor Dice: 0.16908130049705505 Current Avg. lymph Dice: 0.0\n"
     ]
    },
    {
     "name": "stderr",
     "output_type": "stream",
     "text": [
      "Training (13719 / 18000 Steps) (loss=0.64700): 100%|██████████| 20/20 [00:29<00:00,  1.48s/it]\n",
      "Training (13739 / 18000 Steps) (loss=0.64543): 100%|██████████| 20/20 [00:18<00:00,  1.10it/s]\n",
      "Training (13759 / 18000 Steps) (loss=0.64499): 100%|██████████| 20/20 [00:18<00:00,  1.11it/s]\n",
      "Training (13779 / 18000 Steps) (loss=0.62269): 100%|██████████| 20/20 [00:18<00:00,  1.07it/s]\n",
      "Training (13799 / 18000 Steps) (loss=0.64746): 100%|██████████| 20/20 [00:18<00:00,  1.11it/s]\n",
      "Validate (13800 / 10 Steps): 100%|██████████| 8/8 [00:10<00:00,  1.34s/it]3<?, ?it/s]\n",
      "Training (13800 / 18000 Steps) (loss=0.63421):   5%|▌         | 1/20 [00:14<04:33, 14.39s/it]"
     ]
    },
    {
     "name": "stdout",
     "output_type": "stream",
     "text": [
      "Model Was Not Saved ! Current Best Avg. Dice: 0.0845571979880333 Current Avg. Dice: 0.07695641368627548 Current Avg. tumor Dice: 0.15391282737255096 Current Avg. lymph Dice: 0.0\n"
     ]
    },
    {
     "name": "stderr",
     "output_type": "stream",
     "text": [
      "Training (13819 / 18000 Steps) (loss=0.65364): 100%|██████████| 20/20 [00:28<00:00,  1.44s/it]\n",
      "Training (13839 / 18000 Steps) (loss=0.66477): 100%|██████████| 20/20 [00:18<00:00,  1.09it/s]\n",
      "Training (13859 / 18000 Steps) (loss=0.64138): 100%|██████████| 20/20 [00:18<00:00,  1.10it/s]\n",
      "Training (13879 / 18000 Steps) (loss=0.67702): 100%|██████████| 20/20 [00:18<00:00,  1.08it/s]\n",
      "Training (13899 / 18000 Steps) (loss=0.62169): 100%|██████████| 20/20 [00:18<00:00,  1.10it/s]\n",
      "Validate (13900 / 10 Steps): 100%|██████████| 8/8 [00:10<00:00,  1.34s/it]3<?, ?it/s]\n",
      "Training (13900 / 18000 Steps) (loss=0.63383):   5%|▌         | 1/20 [00:14<04:35, 14.48s/it]"
     ]
    },
    {
     "name": "stdout",
     "output_type": "stream",
     "text": [
      "Model Was Not Saved ! Current Best Avg. Dice: 0.0845571979880333 Current Avg. Dice: 0.07351601868867874 Current Avg. tumor Dice: 0.14703203737735748 Current Avg. lymph Dice: 0.0\n"
     ]
    },
    {
     "name": "stderr",
     "output_type": "stream",
     "text": [
      "Training (13919 / 18000 Steps) (loss=0.62063): 100%|██████████| 20/20 [00:29<00:00,  1.46s/it]\n",
      "Training (13939 / 18000 Steps) (loss=0.62602): 100%|██████████| 20/20 [00:18<00:00,  1.11it/s]\n",
      "Training (13959 / 18000 Steps) (loss=0.64968): 100%|██████████| 20/20 [00:18<00:00,  1.10it/s]\n",
      "Training (13979 / 18000 Steps) (loss=0.64922): 100%|██████████| 20/20 [00:18<00:00,  1.09it/s]\n",
      "Training (13999 / 18000 Steps) (loss=0.65577): 100%|██████████| 20/20 [00:18<00:00,  1.09it/s]\n",
      "Validate (14000 / 10 Steps): 100%|██████████| 8/8 [00:10<00:00,  1.34s/it]3<?, ?it/s]\n",
      "Training (14000 / 18000 Steps) (loss=0.65523):   5%|▌         | 1/20 [00:14<04:32, 14.34s/it]"
     ]
    },
    {
     "name": "stdout",
     "output_type": "stream",
     "text": [
      "Model Was Not Saved ! Current Best Avg. Dice: 0.0845571979880333 Current Avg. Dice: 0.08133848756551743 Current Avg. tumor Dice: 0.16267697513103485 Current Avg. lymph Dice: 0.0\n"
     ]
    },
    {
     "name": "stderr",
     "output_type": "stream",
     "text": [
      "Training (14019 / 18000 Steps) (loss=0.60163): 100%|██████████| 20/20 [00:28<00:00,  1.43s/it]\n",
      "Training (14039 / 18000 Steps) (loss=0.62496): 100%|██████████| 20/20 [00:18<00:00,  1.09it/s]\n",
      "Training (14059 / 18000 Steps) (loss=0.61208): 100%|██████████| 20/20 [00:18<00:00,  1.10it/s]\n",
      "Training (14079 / 18000 Steps) (loss=0.63326): 100%|██████████| 20/20 [00:18<00:00,  1.10it/s]\n",
      "Training (14099 / 18000 Steps) (loss=0.66295): 100%|██████████| 20/20 [00:18<00:00,  1.10it/s]\n",
      "Validate (14100 / 10 Steps): 100%|██████████| 8/8 [00:10<00:00,  1.33s/it]3<?, ?it/s]\n",
      "Training (14100 / 18000 Steps) (loss=0.58806):   5%|▌         | 1/20 [00:14<04:37, 14.63s/it]"
     ]
    },
    {
     "name": "stdout",
     "output_type": "stream",
     "text": [
      "Model Was Not Saved ! Current Best Avg. Dice: 0.0845571979880333 Current Avg. Dice: 0.07279851287603378 Current Avg. tumor Dice: 0.14556542038917542 Current Avg. lymph Dice: 0.0\n"
     ]
    },
    {
     "name": "stderr",
     "output_type": "stream",
     "text": [
      "Training (14119 / 18000 Steps) (loss=0.65395): 100%|██████████| 20/20 [00:29<00:00,  1.46s/it]\n",
      "Training (14139 / 18000 Steps) (loss=0.66841): 100%|██████████| 20/20 [00:18<00:00,  1.10it/s]\n",
      "Training (14159 / 18000 Steps) (loss=0.65406): 100%|██████████| 20/20 [00:18<00:00,  1.11it/s]\n",
      "Training (14179 / 18000 Steps) (loss=0.62043): 100%|██████████| 20/20 [00:18<00:00,  1.09it/s]\n",
      "Training (14199 / 18000 Steps) (loss=0.60651): 100%|██████████| 20/20 [00:18<00:00,  1.09it/s]\n",
      "Validate (14200 / 10 Steps): 100%|██████████| 8/8 [00:10<00:00,  1.33s/it]3<?, ?it/s]\n",
      "Training (14200 / 18000 Steps) (loss=0.64109):   5%|▌         | 1/20 [00:14<04:33, 14.40s/it]"
     ]
    },
    {
     "name": "stdout",
     "output_type": "stream",
     "text": [
      "Model Was Not Saved ! Current Best Avg. Dice: 0.0845571979880333 Current Avg. Dice: 0.08327721059322357 Current Avg. tumor Dice: 0.16655442118644714 Current Avg. lymph Dice: 0.0\n"
     ]
    },
    {
     "name": "stderr",
     "output_type": "stream",
     "text": [
      "Training (14219 / 18000 Steps) (loss=0.68696): 100%|██████████| 20/20 [00:28<00:00,  1.44s/it]\n",
      "Training (14239 / 18000 Steps) (loss=0.59473): 100%|██████████| 20/20 [00:18<00:00,  1.09it/s]\n",
      "Training (14259 / 18000 Steps) (loss=0.64858): 100%|██████████| 20/20 [00:18<00:00,  1.11it/s]\n",
      "Training (14279 / 18000 Steps) (loss=0.64110): 100%|██████████| 20/20 [00:18<00:00,  1.10it/s]\n",
      "Training (14299 / 18000 Steps) (loss=0.65080): 100%|██████████| 20/20 [00:18<00:00,  1.10it/s]\n",
      "Validate (14300 / 10 Steps): 100%|██████████| 8/8 [00:10<00:00,  1.33s/it]3<?, ?it/s]\n",
      "Training (14300 / 18000 Steps) (loss=0.65204):   5%|▌         | 1/20 [00:14<04:30, 14.25s/it]"
     ]
    },
    {
     "name": "stdout",
     "output_type": "stream",
     "text": [
      "Model Was Not Saved ! Current Best Avg. Dice: 0.0845571979880333 Current Avg. Dice: 0.07610667496919632 Current Avg. tumor Dice: 0.15157859027385712 Current Avg. lymph Dice: 0.0\n"
     ]
    },
    {
     "name": "stderr",
     "output_type": "stream",
     "text": [
      "Training (14319 / 18000 Steps) (loss=0.64891): 100%|██████████| 20/20 [00:28<00:00,  1.44s/it]\n",
      "Training (14339 / 18000 Steps) (loss=0.58269): 100%|██████████| 20/20 [00:18<00:00,  1.11it/s]\n",
      "Training (14359 / 18000 Steps) (loss=0.62680): 100%|██████████| 20/20 [00:18<00:00,  1.10it/s]\n",
      "Training (14379 / 18000 Steps) (loss=0.63289): 100%|██████████| 20/20 [00:18<00:00,  1.10it/s]\n",
      "Training (14399 / 18000 Steps) (loss=0.64315): 100%|██████████| 20/20 [00:18<00:00,  1.09it/s]\n",
      "Validate (14400 / 10 Steps): 100%|██████████| 8/8 [00:10<00:00,  1.35s/it]3<?, ?it/s]\n",
      "Training (14400 / 18000 Steps) (loss=0.63177):   5%|▌         | 1/20 [00:14<04:35, 14.52s/it]"
     ]
    },
    {
     "name": "stdout",
     "output_type": "stream",
     "text": [
      "Model Was Not Saved ! Current Best Avg. Dice: 0.0845571979880333 Current Avg. Dice: 0.07482936978340149 Current Avg. tumor Dice: 0.14965875446796417 Current Avg. lymph Dice: 0.0\n"
     ]
    },
    {
     "name": "stderr",
     "output_type": "stream",
     "text": [
      "Training (14419 / 18000 Steps) (loss=0.66290): 100%|██████████| 20/20 [00:28<00:00,  1.44s/it]\n",
      "Training (14439 / 18000 Steps) (loss=0.64418): 100%|██████████| 20/20 [00:18<00:00,  1.10it/s]\n",
      "Training (14459 / 18000 Steps) (loss=0.64551): 100%|██████████| 20/20 [00:18<00:00,  1.10it/s]\n",
      "Training (14479 / 18000 Steps) (loss=0.62621): 100%|██████████| 20/20 [00:18<00:00,  1.10it/s]\n",
      "Training (14499 / 18000 Steps) (loss=0.63798): 100%|██████████| 20/20 [00:18<00:00,  1.09it/s]\n",
      "Validate (14500 / 10 Steps): 100%|██████████| 8/8 [00:10<00:00,  1.34s/it]3<?, ?it/s]\n",
      "Training (14500 / 18000 Steps) (loss=0.64002):   5%|▌         | 1/20 [00:14<04:29, 14.20s/it]"
     ]
    },
    {
     "name": "stdout",
     "output_type": "stream",
     "text": [
      "Model Was Not Saved ! Current Best Avg. Dice: 0.0845571979880333 Current Avg. Dice: 0.08227752149105072 Current Avg. tumor Dice: 0.16443035006523132 Current Avg. lymph Dice: 0.0\n"
     ]
    },
    {
     "name": "stderr",
     "output_type": "stream",
     "text": [
      "Training (14519 / 18000 Steps) (loss=0.57277): 100%|██████████| 20/20 [00:28<00:00,  1.43s/it]\n",
      "Training (14539 / 18000 Steps) (loss=0.61765): 100%|██████████| 20/20 [00:18<00:00,  1.10it/s]\n",
      "Training (14559 / 18000 Steps) (loss=0.65634): 100%|██████████| 20/20 [00:18<00:00,  1.08it/s]\n",
      "Training (14579 / 18000 Steps) (loss=0.60033): 100%|██████████| 20/20 [00:18<00:00,  1.11it/s]\n",
      "Training (14599 / 18000 Steps) (loss=0.62451): 100%|██████████| 20/20 [00:18<00:00,  1.11it/s]\n",
      "Validate (14600 / 10 Steps): 100%|██████████| 8/8 [00:10<00:00,  1.33s/it]3<?, ?it/s]\n",
      "Training (14600 / 18000 Steps) (loss=0.65452):   5%|▌         | 1/20 [00:14<04:32, 14.34s/it]"
     ]
    },
    {
     "name": "stdout",
     "output_type": "stream",
     "text": [
      "Model Was Not Saved ! Current Best Avg. Dice: 0.0845571979880333 Current Avg. Dice: 0.06331789493560791 Current Avg. tumor Dice: 0.12663578987121582 Current Avg. lymph Dice: 0.0\n"
     ]
    },
    {
     "name": "stderr",
     "output_type": "stream",
     "text": [
      "Training (14619 / 18000 Steps) (loss=0.64242): 100%|██████████| 20/20 [00:28<00:00,  1.44s/it]\n",
      "Training (14639 / 18000 Steps) (loss=0.63543): 100%|██████████| 20/20 [00:18<00:00,  1.10it/s]\n",
      "Training (14659 / 18000 Steps) (loss=0.61920): 100%|██████████| 20/20 [00:18<00:00,  1.09it/s]\n",
      "Training (14679 / 18000 Steps) (loss=0.62870): 100%|██████████| 20/20 [00:18<00:00,  1.09it/s]\n",
      "Training (14699 / 18000 Steps) (loss=0.62027): 100%|██████████| 20/20 [00:18<00:00,  1.10it/s]\n",
      "Validate (14700 / 10 Steps): 100%|██████████| 8/8 [00:10<00:00,  1.33s/it]3<?, ?it/s]\n",
      "Training (14700 / 18000 Steps) (loss=0.63464):   5%|▌         | 1/20 [00:14<04:33, 14.38s/it]"
     ]
    },
    {
     "name": "stdout",
     "output_type": "stream",
     "text": [
      "Model Was Not Saved ! Current Best Avg. Dice: 0.0845571979880333 Current Avg. Dice: 0.07595422863960266 Current Avg. tumor Dice: 0.15190847218036652 Current Avg. lymph Dice: 0.0\n"
     ]
    },
    {
     "name": "stderr",
     "output_type": "stream",
     "text": [
      "Training (14719 / 18000 Steps) (loss=0.65233): 100%|██████████| 20/20 [00:28<00:00,  1.44s/it]\n",
      "Training (14739 / 18000 Steps) (loss=0.64769): 100%|██████████| 20/20 [00:18<00:00,  1.10it/s]\n",
      "Training (14759 / 18000 Steps) (loss=0.64002): 100%|██████████| 20/20 [00:18<00:00,  1.09it/s]\n",
      "Training (14779 / 18000 Steps) (loss=0.60814): 100%|██████████| 20/20 [00:18<00:00,  1.08it/s]\n",
      "Training (14799 / 18000 Steps) (loss=0.62738): 100%|██████████| 20/20 [00:18<00:00,  1.10it/s]\n",
      "Validate (14800 / 10 Steps): 100%|██████████| 8/8 [00:10<00:00,  1.33s/it]3<?, ?it/s]\n",
      "Training (14800 / 18000 Steps) (loss=0.62949):   5%|▌         | 1/20 [00:14<04:30, 14.21s/it]"
     ]
    },
    {
     "name": "stdout",
     "output_type": "stream",
     "text": [
      "Model Was Not Saved ! Current Best Avg. Dice: 0.0845571979880333 Current Avg. Dice: 0.06465180218219757 Current Avg. tumor Dice: 0.12930361926555634 Current Avg. lymph Dice: 0.0\n"
     ]
    },
    {
     "name": "stderr",
     "output_type": "stream",
     "text": [
      "Training (14819 / 18000 Steps) (loss=0.60013): 100%|██████████| 20/20 [00:28<00:00,  1.44s/it]\n",
      "Training (14839 / 18000 Steps) (loss=0.58342): 100%|██████████| 20/20 [00:18<00:00,  1.11it/s]\n",
      "Training (14859 / 18000 Steps) (loss=0.65497): 100%|██████████| 20/20 [00:18<00:00,  1.09it/s]\n",
      "Training (14879 / 18000 Steps) (loss=0.67372): 100%|██████████| 20/20 [00:18<00:00,  1.09it/s]\n",
      "Training (14899 / 18000 Steps) (loss=0.67111): 100%|██████████| 20/20 [00:18<00:00,  1.08it/s]\n",
      "Validate (14900 / 10 Steps): 100%|██████████| 8/8 [00:10<00:00,  1.35s/it]3<?, ?it/s]\n",
      "Training (14900 / 18000 Steps) (loss=0.62672):   5%|▌         | 1/20 [00:14<04:33, 14.39s/it]"
     ]
    },
    {
     "name": "stdout",
     "output_type": "stream",
     "text": [
      "Model Was Not Saved ! Current Best Avg. Dice: 0.0845571979880333 Current Avg. Dice: 0.07976491749286652 Current Avg. tumor Dice: 0.15952984988689423 Current Avg. lymph Dice: 0.0\n"
     ]
    },
    {
     "name": "stderr",
     "output_type": "stream",
     "text": [
      "Training (14919 / 18000 Steps) (loss=0.68504): 100%|██████████| 20/20 [00:28<00:00,  1.44s/it]\n",
      "Training (14939 / 18000 Steps) (loss=0.62426): 100%|██████████| 20/20 [00:18<00:00,  1.09it/s]\n",
      "Training (14959 / 18000 Steps) (loss=0.64425): 100%|██████████| 20/20 [00:18<00:00,  1.10it/s]\n",
      "Training (14979 / 18000 Steps) (loss=0.61380): 100%|██████████| 20/20 [00:18<00:00,  1.10it/s]\n",
      "Training (14999 / 18000 Steps) (loss=0.67410): 100%|██████████| 20/20 [00:18<00:00,  1.09it/s]\n",
      "Validate (15000 / 10 Steps): 100%|██████████| 8/8 [00:10<00:00,  1.34s/it]3<?, ?it/s]\n",
      "Training (15000 / 18000 Steps) (loss=0.63312):   5%|▌         | 1/20 [00:14<04:28, 14.14s/it]"
     ]
    },
    {
     "name": "stdout",
     "output_type": "stream",
     "text": [
      "Model Was Not Saved ! Current Best Avg. Dice: 0.0845571979880333 Current Avg. Dice: 0.06448577344417572 Current Avg. tumor Dice: 0.12897154688835144 Current Avg. lymph Dice: 0.0\n"
     ]
    },
    {
     "name": "stderr",
     "output_type": "stream",
     "text": [
      "Training (15019 / 18000 Steps) (loss=0.65691): 100%|██████████| 20/20 [00:28<00:00,  1.42s/it]\n",
      "Training (15039 / 18000 Steps) (loss=0.61835): 100%|██████████| 20/20 [00:18<00:00,  1.10it/s]\n",
      "Training (15059 / 18000 Steps) (loss=0.65800): 100%|██████████| 20/20 [00:18<00:00,  1.11it/s]\n",
      "Training (15079 / 18000 Steps) (loss=0.58919): 100%|██████████| 20/20 [00:18<00:00,  1.10it/s]\n",
      "Training (15099 / 18000 Steps) (loss=0.67218): 100%|██████████| 20/20 [00:18<00:00,  1.10it/s]\n",
      "Validate (15100 / 10 Steps): 100%|██████████| 8/8 [00:10<00:00,  1.35s/it]3<?, ?it/s]\n",
      "Training (15100 / 18000 Steps) (loss=0.61969):   5%|▌         | 1/20 [00:15<04:53, 15.44s/it]"
     ]
    },
    {
     "name": "stdout",
     "output_type": "stream",
     "text": [
      "Model Was Saved ! Current Best Avg. Dice: 0.08482449501752853 Current Avg. Dice: 0.08482449501752853 Current Avg. tumor Dice: 0.1695837378501892 Current Avg. lymph Dice: 0.0\n"
     ]
    },
    {
     "name": "stderr",
     "output_type": "stream",
     "text": [
      "Training (15119 / 18000 Steps) (loss=0.63619): 100%|██████████| 20/20 [00:29<00:00,  1.49s/it]\n",
      "Training (15139 / 18000 Steps) (loss=0.65364): 100%|██████████| 20/20 [00:18<00:00,  1.11it/s]\n",
      "Training (15159 / 18000 Steps) (loss=0.60452): 100%|██████████| 20/20 [00:18<00:00,  1.10it/s]\n",
      "Training (15179 / 18000 Steps) (loss=0.62062): 100%|██████████| 20/20 [00:18<00:00,  1.09it/s]\n",
      "Training (15199 / 18000 Steps) (loss=0.63637): 100%|██████████| 20/20 [00:18<00:00,  1.10it/s]\n",
      "Validate (15200 / 10 Steps): 100%|██████████| 8/8 [00:10<00:00,  1.34s/it]3<?, ?it/s]\n",
      "Training (15200 / 18000 Steps) (loss=0.60865):   5%|▌         | 1/20 [00:14<04:33, 14.39s/it]"
     ]
    },
    {
     "name": "stdout",
     "output_type": "stream",
     "text": [
      "Model Was Not Saved ! Current Best Avg. Dice: 0.08482449501752853 Current Avg. Dice: 0.08120314031839371 Current Avg. tumor Dice: 0.16240628063678741 Current Avg. lymph Dice: 0.0\n"
     ]
    },
    {
     "name": "stderr",
     "output_type": "stream",
     "text": [
      "Training (15219 / 18000 Steps) (loss=0.64395): 100%|██████████| 20/20 [00:28<00:00,  1.44s/it]\n",
      "Training (15239 / 18000 Steps) (loss=0.66904): 100%|██████████| 20/20 [00:18<00:00,  1.08it/s]\n",
      "Training (15259 / 18000 Steps) (loss=0.62423): 100%|██████████| 20/20 [00:18<00:00,  1.09it/s]\n",
      "Training (15279 / 18000 Steps) (loss=0.61738): 100%|██████████| 20/20 [00:18<00:00,  1.10it/s]\n",
      "Training (15299 / 18000 Steps) (loss=0.63905): 100%|██████████| 20/20 [00:18<00:00,  1.09it/s]\n",
      "Validate (15300 / 10 Steps): 100%|██████████| 8/8 [00:10<00:00,  1.34s/it]3<?, ?it/s]\n",
      "Training (15300 / 18000 Steps) (loss=0.62787):   5%|▌         | 1/20 [00:14<04:32, 14.35s/it]"
     ]
    },
    {
     "name": "stdout",
     "output_type": "stream",
     "text": [
      "Model Was Not Saved ! Current Best Avg. Dice: 0.08482449501752853 Current Avg. Dice: 0.07830999791622162 Current Avg. tumor Dice: 0.15636546909809113 Current Avg. lymph Dice: 0.0\n"
     ]
    },
    {
     "name": "stderr",
     "output_type": "stream",
     "text": [
      "Training (15319 / 18000 Steps) (loss=0.65966): 100%|██████████| 20/20 [00:28<00:00,  1.44s/it]\n",
      "Training (15339 / 18000 Steps) (loss=0.64126): 100%|██████████| 20/20 [00:18<00:00,  1.11it/s]\n",
      "Training (15359 / 18000 Steps) (loss=0.61681): 100%|██████████| 20/20 [00:18<00:00,  1.09it/s]\n",
      "Training (15379 / 18000 Steps) (loss=0.63124): 100%|██████████| 20/20 [00:18<00:00,  1.10it/s]\n",
      "Training (15399 / 18000 Steps) (loss=0.65951): 100%|██████████| 20/20 [00:18<00:00,  1.08it/s]\n",
      "Validate (15400 / 10 Steps): 100%|██████████| 8/8 [00:10<00:00,  1.35s/it]3<?, ?it/s]\n",
      "Training (15400 / 18000 Steps) (loss=0.60902):   5%|▌         | 1/20 [00:14<04:33, 14.39s/it]"
     ]
    },
    {
     "name": "stdout",
     "output_type": "stream",
     "text": [
      "Model Was Not Saved ! Current Best Avg. Dice: 0.08482449501752853 Current Avg. Dice: 0.07115885615348816 Current Avg. tumor Dice: 0.14231771230697632 Current Avg. lymph Dice: 0.0\n"
     ]
    },
    {
     "name": "stderr",
     "output_type": "stream",
     "text": [
      "Training (15419 / 18000 Steps) (loss=0.62799): 100%|██████████| 20/20 [00:28<00:00,  1.44s/it]\n",
      "Training (15439 / 18000 Steps) (loss=0.60970): 100%|██████████| 20/20 [00:18<00:00,  1.10it/s]\n",
      "Training (15459 / 18000 Steps) (loss=0.63589): 100%|██████████| 20/20 [00:18<00:00,  1.10it/s]\n",
      "Training (15479 / 18000 Steps) (loss=0.60398): 100%|██████████| 20/20 [00:18<00:00,  1.10it/s]\n",
      "Training (15499 / 18000 Steps) (loss=0.55880): 100%|██████████| 20/20 [00:18<00:00,  1.10it/s]\n",
      "Validate (15500 / 10 Steps): 100%|██████████| 8/8 [00:10<00:00,  1.33s/it]3<?, ?it/s]\n",
      "Training (15500 / 18000 Steps) (loss=0.61568):   5%|▌         | 1/20 [00:14<04:33, 14.39s/it]"
     ]
    },
    {
     "name": "stdout",
     "output_type": "stream",
     "text": [
      "Model Was Not Saved ! Current Best Avg. Dice: 0.08482449501752853 Current Avg. Dice: 0.08149894326925278 Current Avg. tumor Dice: 0.16299787163734436 Current Avg. lymph Dice: 0.0\n"
     ]
    },
    {
     "name": "stderr",
     "output_type": "stream",
     "text": [
      "Training (15519 / 18000 Steps) (loss=0.66199): 100%|██████████| 20/20 [00:28<00:00,  1.44s/it]\n",
      "Training (15539 / 18000 Steps) (loss=0.64993): 100%|██████████| 20/20 [00:18<00:00,  1.10it/s]\n",
      "Training (15559 / 18000 Steps) (loss=0.60942): 100%|██████████| 20/20 [00:18<00:00,  1.11it/s]\n",
      "Training (15579 / 18000 Steps) (loss=0.58702): 100%|██████████| 20/20 [00:18<00:00,  1.10it/s]\n",
      "Training (15599 / 18000 Steps) (loss=0.64843): 100%|██████████| 20/20 [00:18<00:00,  1.10it/s]\n",
      "Validate (15600 / 10 Steps): 100%|██████████| 8/8 [00:10<00:00,  1.33s/it]3<?, ?it/s]\n",
      "Training (15600 / 18000 Steps) (loss=0.61464):   5%|▌         | 1/20 [00:14<04:34, 14.44s/it]"
     ]
    },
    {
     "name": "stdout",
     "output_type": "stream",
     "text": [
      "Model Was Not Saved ! Current Best Avg. Dice: 0.08482449501752853 Current Avg. Dice: 0.08329366147518158 Current Avg. tumor Dice: 0.16658732295036316 Current Avg. lymph Dice: 0.0\n"
     ]
    },
    {
     "name": "stderr",
     "output_type": "stream",
     "text": [
      "Training (15619 / 18000 Steps) (loss=0.64692): 100%|██████████| 20/20 [00:28<00:00,  1.45s/it]\n",
      "Training (15639 / 18000 Steps) (loss=0.62021): 100%|██████████| 20/20 [00:18<00:00,  1.10it/s]\n",
      "Training (15659 / 18000 Steps) (loss=0.63806): 100%|██████████| 20/20 [00:18<00:00,  1.10it/s]\n",
      "Training (15679 / 18000 Steps) (loss=0.60843): 100%|██████████| 20/20 [00:18<00:00,  1.10it/s]\n",
      "Training (15699 / 18000 Steps) (loss=0.59645): 100%|██████████| 20/20 [00:18<00:00,  1.11it/s]\n",
      "Validate (15700 / 10 Steps): 100%|██████████| 8/8 [00:10<00:00,  1.33s/it]3<?, ?it/s]\n",
      "Training (15700 / 18000 Steps) (loss=0.61579):   5%|▌         | 1/20 [00:14<04:33, 14.37s/it]"
     ]
    },
    {
     "name": "stdout",
     "output_type": "stream",
     "text": [
      "Model Was Not Saved ! Current Best Avg. Dice: 0.08482449501752853 Current Avg. Dice: 0.07948972284793854 Current Avg. tumor Dice: 0.15897946059703827 Current Avg. lymph Dice: 0.0\n"
     ]
    },
    {
     "name": "stderr",
     "output_type": "stream",
     "text": [
      "Training (15719 / 18000 Steps) (loss=0.63109): 100%|██████████| 20/20 [00:29<00:00,  1.45s/it]\n",
      "Training (15739 / 18000 Steps) (loss=0.59728): 100%|██████████| 20/20 [00:18<00:00,  1.11it/s]\n",
      "Training (15759 / 18000 Steps) (loss=0.64407): 100%|██████████| 20/20 [00:18<00:00,  1.09it/s]\n",
      "Training (15779 / 18000 Steps) (loss=0.65826): 100%|██████████| 20/20 [00:18<00:00,  1.11it/s]\n",
      "Training (15799 / 18000 Steps) (loss=0.62894): 100%|██████████| 20/20 [00:18<00:00,  1.10it/s]\n",
      "Validate (15800 / 10 Steps): 100%|██████████| 8/8 [00:10<00:00,  1.35s/it]3<?, ?it/s]\n",
      "Training (15800 / 18000 Steps) (loss=0.62935):   5%|▌         | 1/20 [00:14<04:34, 14.44s/it]"
     ]
    },
    {
     "name": "stdout",
     "output_type": "stream",
     "text": [
      "Model Was Not Saved ! Current Best Avg. Dice: 0.08482449501752853 Current Avg. Dice: 0.07895126193761826 Current Avg. tumor Dice: 0.157835453748703 Current Avg. lymph Dice: 0.0\n"
     ]
    },
    {
     "name": "stderr",
     "output_type": "stream",
     "text": [
      "Training (15819 / 18000 Steps) (loss=0.56978): 100%|██████████| 20/20 [00:28<00:00,  1.44s/it]\n",
      "Training (15839 / 18000 Steps) (loss=0.67373): 100%|██████████| 20/20 [00:18<00:00,  1.10it/s]\n",
      "Training (15859 / 18000 Steps) (loss=0.59156): 100%|██████████| 20/20 [00:18<00:00,  1.08it/s]\n",
      "Training (15879 / 18000 Steps) (loss=0.65153): 100%|██████████| 20/20 [00:17<00:00,  1.11it/s]\n",
      "Training (15899 / 18000 Steps) (loss=0.61327): 100%|██████████| 20/20 [00:18<00:00,  1.10it/s]\n",
      "Validate (15900 / 10 Steps): 100%|██████████| 8/8 [00:10<00:00,  1.33s/it]3<?, ?it/s]\n",
      "Training (15900 / 18000 Steps) (loss=0.63721):   5%|▌         | 1/20 [00:14<04:31, 14.31s/it]"
     ]
    },
    {
     "name": "stdout",
     "output_type": "stream",
     "text": [
      "Model Was Not Saved ! Current Best Avg. Dice: 0.08482449501752853 Current Avg. Dice: 0.07814710587263107 Current Avg. tumor Dice: 0.15629424154758453 Current Avg. lymph Dice: 0.0\n"
     ]
    },
    {
     "name": "stderr",
     "output_type": "stream",
     "text": [
      "Training (15919 / 18000 Steps) (loss=0.67106): 100%|██████████| 20/20 [00:28<00:00,  1.43s/it]\n",
      "Training (15939 / 18000 Steps) (loss=0.63071): 100%|██████████| 20/20 [00:18<00:00,  1.09it/s]\n",
      "Training (15959 / 18000 Steps) (loss=0.60340): 100%|██████████| 20/20 [00:17<00:00,  1.11it/s]\n",
      "Training (15979 / 18000 Steps) (loss=0.62796): 100%|██████████| 20/20 [00:18<00:00,  1.10it/s]\n",
      "Training (15999 / 18000 Steps) (loss=0.62389): 100%|██████████| 20/20 [00:18<00:00,  1.10it/s]\n",
      "Validate (16000 / 10 Steps): 100%|██████████| 8/8 [00:10<00:00,  1.33s/it]3<?, ?it/s]\n",
      "Training (16000 / 18000 Steps) (loss=0.60281):   5%|▌         | 1/20 [00:14<04:32, 14.35s/it]"
     ]
    },
    {
     "name": "stdout",
     "output_type": "stream",
     "text": [
      "Model Was Not Saved ! Current Best Avg. Dice: 0.08482449501752853 Current Avg. Dice: 0.08214575797319412 Current Avg. tumor Dice: 0.16429153084754944 Current Avg. lymph Dice: 0.0\n"
     ]
    },
    {
     "name": "stderr",
     "output_type": "stream",
     "text": [
      "Training (16019 / 18000 Steps) (loss=0.64073): 100%|██████████| 20/20 [00:28<00:00,  1.44s/it]\n",
      "Training (16039 / 18000 Steps) (loss=0.61812): 100%|██████████| 20/20 [00:18<00:00,  1.10it/s]\n",
      "Training (16059 / 18000 Steps) (loss=0.63893): 100%|██████████| 20/20 [00:18<00:00,  1.10it/s]\n",
      "Training (16079 / 18000 Steps) (loss=0.61497): 100%|██████████| 20/20 [00:18<00:00,  1.09it/s]\n",
      "Training (16099 / 18000 Steps) (loss=0.67214): 100%|██████████| 20/20 [00:18<00:00,  1.11it/s]\n",
      "Validate (16100 / 10 Steps): 100%|██████████| 8/8 [00:10<00:00,  1.33s/it]3<?, ?it/s]\n",
      "Training (16100 / 18000 Steps) (loss=0.65659):   5%|▌         | 1/20 [00:14<04:30, 14.23s/it]"
     ]
    },
    {
     "name": "stdout",
     "output_type": "stream",
     "text": [
      "Model Was Not Saved ! Current Best Avg. Dice: 0.08482449501752853 Current Avg. Dice: 0.07547100633382797 Current Avg. tumor Dice: 0.15094202756881714 Current Avg. lymph Dice: 0.0\n"
     ]
    },
    {
     "name": "stderr",
     "output_type": "stream",
     "text": [
      "Training (16119 / 18000 Steps) (loss=0.61462): 100%|██████████| 20/20 [00:28<00:00,  1.44s/it]\n",
      "Training (16139 / 18000 Steps) (loss=0.67133): 100%|██████████| 20/20 [00:18<00:00,  1.10it/s]\n",
      "Training (16159 / 18000 Steps) (loss=0.61173): 100%|██████████| 20/20 [00:18<00:00,  1.10it/s]\n",
      "Training (16179 / 18000 Steps) (loss=0.76817): 100%|██████████| 20/20 [00:18<00:00,  1.08it/s]\n",
      "Training (16199 / 18000 Steps) (loss=0.63985): 100%|██████████| 20/20 [00:18<00:00,  1.10it/s]\n",
      "Validate (16200 / 10 Steps): 100%|██████████| 8/8 [00:10<00:00,  1.34s/it]3<?, ?it/s]\n",
      "Training (16200 / 18000 Steps) (loss=0.58438):   5%|▌         | 1/20 [00:14<04:32, 14.35s/it]"
     ]
    },
    {
     "name": "stdout",
     "output_type": "stream",
     "text": [
      "Model Was Not Saved ! Current Best Avg. Dice: 0.08482449501752853 Current Avg. Dice: 0.07280610501766205 Current Avg. tumor Dice: 0.1456122249364853 Current Avg. lymph Dice: 0.0\n"
     ]
    },
    {
     "name": "stderr",
     "output_type": "stream",
     "text": [
      "Training (16219 / 18000 Steps) (loss=0.66837): 100%|██████████| 20/20 [00:28<00:00,  1.44s/it]\n",
      "Training (16239 / 18000 Steps) (loss=0.65689): 100%|██████████| 20/20 [00:18<00:00,  1.09it/s]\n",
      "Training (16259 / 18000 Steps) (loss=0.64565): 100%|██████████| 20/20 [00:18<00:00,  1.08it/s]\n",
      "Training (16279 / 18000 Steps) (loss=0.62528): 100%|██████████| 20/20 [00:18<00:00,  1.10it/s]\n",
      "Training (16299 / 18000 Steps) (loss=0.63569): 100%|██████████| 20/20 [00:18<00:00,  1.08it/s]\n",
      "Validate (16300 / 10 Steps): 100%|██████████| 8/8 [00:10<00:00,  1.34s/it]3<?, ?it/s]\n",
      "Training (16300 / 18000 Steps) (loss=0.61828):   5%|▌         | 1/20 [00:14<04:33, 14.37s/it]"
     ]
    },
    {
     "name": "stdout",
     "output_type": "stream",
     "text": [
      "Model Was Not Saved ! Current Best Avg. Dice: 0.08482449501752853 Current Avg. Dice: 0.07635542005300522 Current Avg. tumor Dice: 0.15271085500717163 Current Avg. lymph Dice: 0.0\n"
     ]
    },
    {
     "name": "stderr",
     "output_type": "stream",
     "text": [
      "Training (16319 / 18000 Steps) (loss=0.61855): 100%|██████████| 20/20 [00:28<00:00,  1.43s/it]\n",
      "Training (16339 / 18000 Steps) (loss=0.57250): 100%|██████████| 20/20 [00:17<00:00,  1.11it/s]\n",
      "Training (16359 / 18000 Steps) (loss=0.59604): 100%|██████████| 20/20 [00:18<00:00,  1.08it/s]\n",
      "Training (16379 / 18000 Steps) (loss=0.66291): 100%|██████████| 20/20 [00:18<00:00,  1.10it/s]\n",
      "Training (16399 / 18000 Steps) (loss=0.65298): 100%|██████████| 20/20 [00:17<00:00,  1.11it/s]\n",
      "Validate (16400 / 10 Steps): 100%|██████████| 8/8 [00:10<00:00,  1.33s/it]3<?, ?it/s]\n",
      "Training (16400 / 18000 Steps) (loss=0.61201):   5%|▌         | 1/20 [00:14<04:33, 14.40s/it]"
     ]
    },
    {
     "name": "stdout",
     "output_type": "stream",
     "text": [
      "Model Was Not Saved ! Current Best Avg. Dice: 0.08482449501752853 Current Avg. Dice: 0.0793612003326416 Current Avg. tumor Dice: 0.1587224006652832 Current Avg. lymph Dice: 0.0\n"
     ]
    },
    {
     "name": "stderr",
     "output_type": "stream",
     "text": [
      "Training (16419 / 18000 Steps) (loss=0.66982): 100%|██████████| 20/20 [00:28<00:00,  1.44s/it]\n",
      "Training (16439 / 18000 Steps) (loss=0.56432): 100%|██████████| 20/20 [00:18<00:00,  1.10it/s]\n",
      "Training (16459 / 18000 Steps) (loss=0.56356): 100%|██████████| 20/20 [00:18<00:00,  1.08it/s]\n",
      "Training (16479 / 18000 Steps) (loss=0.67768): 100%|██████████| 20/20 [00:18<00:00,  1.10it/s]\n",
      "Training (16499 / 18000 Steps) (loss=0.67475): 100%|██████████| 20/20 [00:17<00:00,  1.11it/s]\n",
      "Validate (16500 / 10 Steps): 100%|██████████| 8/8 [00:10<00:00,  1.33s/it]3<?, ?it/s]\n",
      "Training (16500 / 18000 Steps) (loss=0.66493):   5%|▌         | 1/20 [00:15<04:52, 15.38s/it]"
     ]
    },
    {
     "name": "stdout",
     "output_type": "stream",
     "text": [
      "Model Was Saved ! Current Best Avg. Dice: 0.08987482637166977 Current Avg. Dice: 0.08987482637166977 Current Avg. tumor Dice: 0.17974962294101715 Current Avg. lymph Dice: 0.0\n"
     ]
    },
    {
     "name": "stderr",
     "output_type": "stream",
     "text": [
      "Training (16519 / 18000 Steps) (loss=0.62086): 100%|██████████| 20/20 [00:29<00:00,  1.50s/it]\n",
      "Training (16539 / 18000 Steps) (loss=0.76978): 100%|██████████| 20/20 [00:18<00:00,  1.08it/s]\n",
      "Training (16559 / 18000 Steps) (loss=0.55534): 100%|██████████| 20/20 [00:18<00:00,  1.09it/s]\n",
      "Training (16579 / 18000 Steps) (loss=0.57502): 100%|██████████| 20/20 [00:18<00:00,  1.11it/s]\n",
      "Training (16599 / 18000 Steps) (loss=0.62236): 100%|██████████| 20/20 [00:18<00:00,  1.09it/s]\n",
      "Validate (16600 / 10 Steps): 100%|██████████| 8/8 [00:10<00:00,  1.34s/it]3<?, ?it/s]\n",
      "Training (16600 / 18000 Steps) (loss=0.62889):   5%|▌         | 1/20 [00:14<04:32, 14.36s/it]"
     ]
    },
    {
     "name": "stdout",
     "output_type": "stream",
     "text": [
      "Model Was Not Saved ! Current Best Avg. Dice: 0.08987482637166977 Current Avg. Dice: 0.06577020138502121 Current Avg. tumor Dice: 0.13154040277004242 Current Avg. lymph Dice: 0.0\n"
     ]
    },
    {
     "name": "stderr",
     "output_type": "stream",
     "text": [
      "Training (16619 / 18000 Steps) (loss=0.62781): 100%|██████████| 20/20 [00:28<00:00,  1.43s/it]\n",
      "Training (16639 / 18000 Steps) (loss=0.63715): 100%|██████████| 20/20 [00:18<00:00,  1.10it/s]\n",
      "Training (16659 / 18000 Steps) (loss=0.59158): 100%|██████████| 20/20 [00:18<00:00,  1.09it/s]\n",
      "Training (16679 / 18000 Steps) (loss=0.66310): 100%|██████████| 20/20 [00:18<00:00,  1.10it/s]\n",
      "Training (16699 / 18000 Steps) (loss=0.60581): 100%|██████████| 20/20 [00:18<00:00,  1.10it/s]\n",
      "Validate (16700 / 10 Steps): 100%|██████████| 8/8 [00:10<00:00,  1.33s/it]3<?, ?it/s]\n",
      "Training (16700 / 18000 Steps) (loss=0.61096):   5%|▌         | 1/20 [00:15<04:50, 15.31s/it]"
     ]
    },
    {
     "name": "stdout",
     "output_type": "stream",
     "text": [
      "Model Was Saved ! Current Best Avg. Dice: 0.09305433183908463 Current Avg. Dice: 0.09305433183908463 Current Avg. tumor Dice: 0.18607552349567413 Current Avg. lymph Dice: 0.0\n"
     ]
    },
    {
     "name": "stderr",
     "output_type": "stream",
     "text": [
      "Training (16719 / 18000 Steps) (loss=0.62689): 100%|██████████| 20/20 [00:29<00:00,  1.49s/it]\n",
      "Training (16739 / 18000 Steps) (loss=0.67471): 100%|██████████| 20/20 [00:18<00:00,  1.10it/s]\n",
      "Training (16759 / 18000 Steps) (loss=0.64042): 100%|██████████| 20/20 [00:18<00:00,  1.09it/s]\n",
      "Training (16779 / 18000 Steps) (loss=0.62240): 100%|██████████| 20/20 [00:18<00:00,  1.09it/s]\n",
      "Training (16799 / 18000 Steps) (loss=0.66567): 100%|██████████| 20/20 [00:18<00:00,  1.10it/s]\n",
      "Validate (16800 / 10 Steps): 100%|██████████| 8/8 [00:10<00:00,  1.34s/it]3<?, ?it/s]\n",
      "Training (16800 / 18000 Steps) (loss=0.62425):   5%|▌         | 1/20 [00:14<04:31, 14.30s/it]"
     ]
    },
    {
     "name": "stdout",
     "output_type": "stream",
     "text": [
      "Model Was Not Saved ! Current Best Avg. Dice: 0.09305433183908463 Current Avg. Dice: 0.08263013511896133 Current Avg. tumor Dice: 0.16526028513908386 Current Avg. lymph Dice: 0.0\n"
     ]
    },
    {
     "name": "stderr",
     "output_type": "stream",
     "text": [
      "Training (16819 / 18000 Steps) (loss=0.63284): 100%|██████████| 20/20 [00:28<00:00,  1.45s/it]\n",
      "Training (16839 / 18000 Steps) (loss=0.63230): 100%|██████████| 20/20 [00:18<00:00,  1.10it/s]\n",
      "Training (16859 / 18000 Steps) (loss=0.60628): 100%|██████████| 20/20 [00:18<00:00,  1.06it/s]\n",
      "Training (16879 / 18000 Steps) (loss=0.55863): 100%|██████████| 20/20 [00:18<00:00,  1.09it/s]\n",
      "Training (16899 / 18000 Steps) (loss=0.67164): 100%|██████████| 20/20 [00:18<00:00,  1.09it/s]\n",
      "Validate (16900 / 10 Steps): 100%|██████████| 8/8 [00:10<00:00,  1.34s/it]3<?, ?it/s]\n",
      "Training (16900 / 18000 Steps) (loss=0.63953):   5%|▌         | 1/20 [00:14<04:36, 14.53s/it]"
     ]
    },
    {
     "name": "stdout",
     "output_type": "stream",
     "text": [
      "Model Was Not Saved ! Current Best Avg. Dice: 0.09305433183908463 Current Avg. Dice: 0.07404213398694992 Current Avg. tumor Dice: 0.14808425307273865 Current Avg. lymph Dice: 0.0\n"
     ]
    },
    {
     "name": "stderr",
     "output_type": "stream",
     "text": [
      "Training (16919 / 18000 Steps) (loss=0.60512): 100%|██████████| 20/20 [00:28<00:00,  1.44s/it]\n",
      "Training (16939 / 18000 Steps) (loss=0.61526): 100%|██████████| 20/20 [00:18<00:00,  1.09it/s]\n",
      "Training (16959 / 18000 Steps) (loss=0.63130): 100%|██████████| 20/20 [00:18<00:00,  1.07it/s]\n",
      "Training (16979 / 18000 Steps) (loss=0.62028): 100%|██████████| 20/20 [00:18<00:00,  1.10it/s]\n",
      "Training (16999 / 18000 Steps) (loss=0.58152): 100%|██████████| 20/20 [00:18<00:00,  1.07it/s]\n",
      "Validate (17000 / 10 Steps): 100%|██████████| 8/8 [00:10<00:00,  1.35s/it]3<?, ?it/s]\n",
      "Training (17000 / 18000 Steps) (loss=0.60861):   5%|▌         | 1/20 [00:14<04:31, 14.30s/it]"
     ]
    },
    {
     "name": "stdout",
     "output_type": "stream",
     "text": [
      "Model Was Not Saved ! Current Best Avg. Dice: 0.09305433183908463 Current Avg. Dice: 0.08728865534067154 Current Avg. tumor Dice: 0.17457729578018188 Current Avg. lymph Dice: 0.0\n"
     ]
    },
    {
     "name": "stderr",
     "output_type": "stream",
     "text": [
      "Training (17019 / 18000 Steps) (loss=0.64659): 100%|██████████| 20/20 [00:28<00:00,  1.44s/it]\n",
      "Training (17039 / 18000 Steps) (loss=0.63525): 100%|██████████| 20/20 [00:18<00:00,  1.08it/s]\n",
      "Training (17059 / 18000 Steps) (loss=0.64115): 100%|██████████| 20/20 [00:18<00:00,  1.10it/s]\n",
      "Training (17079 / 18000 Steps) (loss=0.59157): 100%|██████████| 20/20 [00:18<00:00,  1.11it/s]\n",
      "Training (17099 / 18000 Steps) (loss=0.61799): 100%|██████████| 20/20 [00:18<00:00,  1.08it/s]\n",
      "Validate (17100 / 10 Steps): 100%|██████████| 8/8 [00:10<00:00,  1.32s/it]3<?, ?it/s]\n",
      "Training (17100 / 18000 Steps) (loss=0.60310):   5%|▌         | 1/20 [00:14<04:33, 14.39s/it]"
     ]
    },
    {
     "name": "stdout",
     "output_type": "stream",
     "text": [
      "Model Was Not Saved ! Current Best Avg. Dice: 0.09305433183908463 Current Avg. Dice: 0.07358940690755844 Current Avg. tumor Dice: 0.14717881381511688 Current Avg. lymph Dice: 0.0\n"
     ]
    },
    {
     "name": "stderr",
     "output_type": "stream",
     "text": [
      "Training (17119 / 18000 Steps) (loss=0.75083): 100%|██████████| 20/20 [00:28<00:00,  1.44s/it]\n",
      "Training (17139 / 18000 Steps) (loss=0.66646): 100%|██████████| 20/20 [00:18<00:00,  1.08it/s]\n",
      "Training (17159 / 18000 Steps) (loss=0.60335): 100%|██████████| 20/20 [00:18<00:00,  1.10it/s]\n",
      "Training (17179 / 18000 Steps) (loss=0.61612): 100%|██████████| 20/20 [00:18<00:00,  1.09it/s]\n",
      "Training (17199 / 18000 Steps) (loss=0.62736): 100%|██████████| 20/20 [00:18<00:00,  1.09it/s]\n",
      "Validate (17200 / 10 Steps): 100%|██████████| 8/8 [00:10<00:00,  1.32s/it]3<?, ?it/s]\n",
      "Training (17200 / 18000 Steps) (loss=0.55284):   5%|▌         | 1/20 [00:14<04:28, 14.11s/it]"
     ]
    },
    {
     "name": "stdout",
     "output_type": "stream",
     "text": [
      "Model Was Not Saved ! Current Best Avg. Dice: 0.09305433183908463 Current Avg. Dice: 0.07562974095344543 Current Avg. tumor Dice: 0.15125949680805206 Current Avg. lymph Dice: 0.0\n"
     ]
    },
    {
     "name": "stderr",
     "output_type": "stream",
     "text": [
      "Training (17219 / 18000 Steps) (loss=0.60370): 100%|██████████| 20/20 [00:28<00:00,  1.44s/it]\n",
      "Training (17239 / 18000 Steps) (loss=0.59816): 100%|██████████| 20/20 [00:18<00:00,  1.09it/s]\n",
      "Training (17259 / 18000 Steps) (loss=0.62591): 100%|██████████| 20/20 [00:18<00:00,  1.08it/s]\n",
      "Training (17279 / 18000 Steps) (loss=0.61918): 100%|██████████| 20/20 [00:18<00:00,  1.10it/s]\n",
      "Training (17299 / 18000 Steps) (loss=0.64780): 100%|██████████| 20/20 [00:18<00:00,  1.10it/s]\n",
      "Validate (17300 / 10 Steps): 100%|██████████| 8/8 [00:10<00:00,  1.32s/it]3<?, ?it/s]\n",
      "Training (17300 / 18000 Steps) (loss=0.64940):   5%|▌         | 1/20 [00:14<04:32, 14.37s/it]"
     ]
    },
    {
     "name": "stdout",
     "output_type": "stream",
     "text": [
      "Model Was Not Saved ! Current Best Avg. Dice: 0.09305433183908463 Current Avg. Dice: 0.06543410569429398 Current Avg. tumor Dice: 0.13086822628974915 Current Avg. lymph Dice: 0.0\n"
     ]
    },
    {
     "name": "stderr",
     "output_type": "stream",
     "text": [
      "Training (17319 / 18000 Steps) (loss=0.70292): 100%|██████████| 20/20 [00:28<00:00,  1.44s/it]\n",
      "Training (17339 / 18000 Steps) (loss=0.63693): 100%|██████████| 20/20 [00:18<00:00,  1.08it/s]\n",
      "Training (17359 / 18000 Steps) (loss=0.57116): 100%|██████████| 20/20 [00:18<00:00,  1.09it/s]\n",
      "Training (17379 / 18000 Steps) (loss=0.65299): 100%|██████████| 20/20 [00:18<00:00,  1.10it/s]\n",
      "Training (17399 / 18000 Steps) (loss=0.61915): 100%|██████████| 20/20 [00:18<00:00,  1.10it/s]\n",
      "Validate (17400 / 10 Steps): 100%|██████████| 8/8 [00:10<00:00,  1.31s/it]3<?, ?it/s]\n",
      "Training (17400 / 18000 Steps) (loss=0.59370):   5%|▌         | 1/20 [00:14<04:28, 14.15s/it]"
     ]
    },
    {
     "name": "stdout",
     "output_type": "stream",
     "text": [
      "Model Was Not Saved ! Current Best Avg. Dice: 0.09305433183908463 Current Avg. Dice: 0.07811065763235092 Current Avg. tumor Dice: 0.15622133016586304 Current Avg. lymph Dice: 0.0\n"
     ]
    },
    {
     "name": "stderr",
     "output_type": "stream",
     "text": [
      "Training (17419 / 18000 Steps) (loss=0.60683): 100%|██████████| 20/20 [00:28<00:00,  1.42s/it]\n",
      "Training (17439 / 18000 Steps) (loss=0.64941): 100%|██████████| 20/20 [00:18<00:00,  1.10it/s]\n",
      "Training (17459 / 18000 Steps) (loss=0.62801): 100%|██████████| 20/20 [00:17<00:00,  1.11it/s]\n",
      "Training (17479 / 18000 Steps) (loss=0.57173): 100%|██████████| 20/20 [00:18<00:00,  1.11it/s]\n",
      "Training (17499 / 18000 Steps) (loss=0.70887): 100%|██████████| 20/20 [00:18<00:00,  1.09it/s]\n",
      "Validate (17500 / 10 Steps): 100%|██████████| 8/8 [00:10<00:00,  1.32s/it]3<?, ?it/s]\n",
      "Training (17500 / 18000 Steps) (loss=0.65091):   5%|▌         | 1/20 [00:14<04:30, 14.25s/it]"
     ]
    },
    {
     "name": "stdout",
     "output_type": "stream",
     "text": [
      "Model Was Not Saved ! Current Best Avg. Dice: 0.09305433183908463 Current Avg. Dice: 0.09177999943494797 Current Avg. tumor Dice: 0.18355999886989594 Current Avg. lymph Dice: 0.0\n"
     ]
    },
    {
     "name": "stderr",
     "output_type": "stream",
     "text": [
      "Training (17519 / 18000 Steps) (loss=0.61077): 100%|██████████| 20/20 [00:28<00:00,  1.43s/it]\n",
      "Training (17539 / 18000 Steps) (loss=0.63102): 100%|██████████| 20/20 [00:18<00:00,  1.10it/s]\n",
      "Training (17559 / 18000 Steps) (loss=0.65312): 100%|██████████| 20/20 [00:18<00:00,  1.11it/s]\n",
      "Training (17579 / 18000 Steps) (loss=0.61933): 100%|██████████| 20/20 [00:18<00:00,  1.10it/s]\n",
      "Training (17599 / 18000 Steps) (loss=0.58686): 100%|██████████| 20/20 [00:18<00:00,  1.10it/s]\n",
      "Validate (17600 / 10 Steps): 100%|██████████| 8/8 [00:10<00:00,  1.32s/it]3<?, ?it/s]\n",
      "Training (17600 / 18000 Steps) (loss=0.61799):   5%|▌         | 1/20 [00:15<04:50, 15.28s/it]"
     ]
    },
    {
     "name": "stdout",
     "output_type": "stream",
     "text": [
      "Model Was Saved ! Current Best Avg. Dice: 0.0949481651186943 Current Avg. Dice: 0.0949481651186943 Current Avg. tumor Dice: 0.1898963451385498 Current Avg. lymph Dice: 0.0\n"
     ]
    },
    {
     "name": "stderr",
     "output_type": "stream",
     "text": [
      "Training (17619 / 18000 Steps) (loss=0.60312): 100%|██████████| 20/20 [00:29<00:00,  1.49s/it]\n",
      "Training (17639 / 18000 Steps) (loss=0.64634): 100%|██████████| 20/20 [00:18<00:00,  1.10it/s]\n",
      "Training (17659 / 18000 Steps) (loss=0.66315): 100%|██████████| 20/20 [00:18<00:00,  1.10it/s]\n",
      "Training (17679 / 18000 Steps) (loss=0.64748): 100%|██████████| 20/20 [00:18<00:00,  1.08it/s]\n",
      "Training (17699 / 18000 Steps) (loss=0.59697): 100%|██████████| 20/20 [00:18<00:00,  1.11it/s]\n",
      "Validate (17700 / 10 Steps): 100%|██████████| 8/8 [00:10<00:00,  1.33s/it]3<?, ?it/s]\n",
      "Training (17700 / 18000 Steps) (loss=0.61303):   5%|▌         | 1/20 [00:14<04:32, 14.34s/it]"
     ]
    },
    {
     "name": "stdout",
     "output_type": "stream",
     "text": [
      "Model Was Not Saved ! Current Best Avg. Dice: 0.0949481651186943 Current Avg. Dice: 0.08711458742618561 Current Avg. tumor Dice: 0.1742291897535324 Current Avg. lymph Dice: 0.0\n"
     ]
    },
    {
     "name": "stderr",
     "output_type": "stream",
     "text": [
      "Training (17719 / 18000 Steps) (loss=0.52105): 100%|██████████| 20/20 [00:28<00:00,  1.45s/it]\n",
      "Training (17739 / 18000 Steps) (loss=0.59354): 100%|██████████| 20/20 [00:17<00:00,  1.12it/s]\n",
      "Training (17759 / 18000 Steps) (loss=0.65990): 100%|██████████| 20/20 [00:18<00:00,  1.10it/s]\n",
      "Training (17779 / 18000 Steps) (loss=0.60039): 100%|██████████| 20/20 [00:18<00:00,  1.08it/s]\n",
      "Training (17799 / 18000 Steps) (loss=0.56622): 100%|██████████| 20/20 [00:17<00:00,  1.12it/s]\n",
      "Validate (17800 / 10 Steps): 100%|██████████| 8/8 [00:10<00:00,  1.32s/it]3<?, ?it/s]\n",
      "Training (17800 / 18000 Steps) (loss=0.62325):   5%|▌         | 1/20 [00:14<04:31, 14.32s/it]"
     ]
    },
    {
     "name": "stdout",
     "output_type": "stream",
     "text": [
      "Model Was Not Saved ! Current Best Avg. Dice: 0.0949481651186943 Current Avg. Dice: 0.09166399389505386 Current Avg. tumor Dice: 0.18330898880958557 Current Avg. lymph Dice: 2.1935718905297108e-05\n"
     ]
    },
    {
     "name": "stderr",
     "output_type": "stream",
     "text": [
      "Training (17819 / 18000 Steps) (loss=0.62272): 100%|██████████| 20/20 [00:28<00:00,  1.45s/it]\n",
      "Training (17839 / 18000 Steps) (loss=0.59631): 100%|██████████| 20/20 [00:18<00:00,  1.09it/s]\n",
      "Training (17859 / 18000 Steps) (loss=0.64717): 100%|██████████| 20/20 [00:18<00:00,  1.08it/s]\n",
      "Training (17879 / 18000 Steps) (loss=0.63053): 100%|██████████| 20/20 [00:17<00:00,  1.12it/s]\n",
      "Training (17899 / 18000 Steps) (loss=0.72549): 100%|██████████| 20/20 [00:18<00:00,  1.09it/s]\n",
      "Validate (17900 / 10 Steps): 100%|██████████| 8/8 [00:10<00:00,  1.32s/it]3<?, ?it/s]\n",
      "Training (17900 / 18000 Steps) (loss=0.60842):   5%|▌         | 1/20 [00:14<04:32, 14.36s/it]"
     ]
    },
    {
     "name": "stdout",
     "output_type": "stream",
     "text": [
      "Model Was Not Saved ! Current Best Avg. Dice: 0.0949481651186943 Current Avg. Dice: 0.07755956053733826 Current Avg. tumor Dice: 0.15388940274715424 Current Avg. lymph Dice: 0.0014189033536240458\n"
     ]
    },
    {
     "name": "stderr",
     "output_type": "stream",
     "text": [
      "Training (17919 / 18000 Steps) (loss=0.78805): 100%|██████████| 20/20 [00:28<00:00,  1.43s/it]\n",
      "Training (17939 / 18000 Steps) (loss=0.51741): 100%|██████████| 20/20 [00:18<00:00,  1.11it/s]\n",
      "Training (17959 / 18000 Steps) (loss=0.62836): 100%|██████████| 20/20 [00:18<00:00,  1.10it/s]\n",
      "Training (17979 / 18000 Steps) (loss=0.61960): 100%|██████████| 20/20 [00:17<00:00,  1.11it/s]\n",
      "Training (17999 / 18000 Steps) (loss=0.55328): 100%|██████████| 20/20 [00:18<00:00,  1.10it/s]\n"
     ]
    }
   ],
   "source": [
    "epoch = 0 # used for LR scheduler\n",
    "max_num_epochs = 530 # used for LR scheduler\n",
    "\n",
    "torch.autograd.set_detect_anomaly(True)  # Enable anomaly detection\n",
    "\n",
    "while global_step < max_iterations:\n",
    "    global_step, dice_val_best, global_step_best = train(\n",
    "        global_step, train_loader, dice_val_best, global_step_best\n",
    "    )\n",
    "    epoch += 1\n",
    "    #optimizer.param_groups[0]['lr'] = poly_lr(epoch, max_num_epochs, 0.005676 , 0.9)\n",
    "# model.load_state_dict(torch.load(os.path.join(model_dir, \"best_metric_luck_UNETr_prompt.pth\")))"
   ]
  }
 ],
 "metadata": {
  "kernelspec": {
   "display_name": "clam",
   "language": "python",
   "name": "python3"
  },
  "language_info": {
   "codemirror_mode": {
    "name": "ipython",
    "version": 3
   },
   "file_extension": ".py",
   "mimetype": "text/x-python",
   "name": "python",
   "nbconvert_exporter": "python",
   "pygments_lexer": "ipython3",
   "version": "3.8.0"
  }
 },
 "nbformat": 4,
 "nbformat_minor": 2
}
