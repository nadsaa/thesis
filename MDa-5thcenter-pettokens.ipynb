{
 "cells": [
  {
   "cell_type": "code",
   "execution_count": 1,
   "metadata": {},
   "outputs": [
    {
     "name": "stdout",
     "output_type": "stream",
     "text": [
      "1\n"
     ]
    },
    {
     "name": "stderr",
     "output_type": "stream",
     "text": [
      "/tmp/ipykernel_1092652/1896300350.py:9: TqdmWarning: IProgress not found. Please update jupyter and ipywidgets. See https://ipywidgets.readthedocs.io/en/stable/user_install.html\n",
      "  from tqdm.autonotebook import tqdm\n"
     ]
    }
   ],
   "source": [
    "import torch\n",
    "import torch.nn as nn\n",
    "from torch.utils.data import DataLoader\n",
    "from collections.abc import Sequence\n",
    "\n",
    "from unetr import CustomedUNETR\n",
    "\n",
    "import json\n",
    "from tqdm.autonotebook import tqdm\n",
    "import os\n",
    "os.environ[\"CUDA_DEVICE_ORDER\"] = \"PCI_BUS_ID\"\n",
    "os.environ[\"CUDA_VISIBLE_DEVICES\"] = \"0\" \n",
    "\n",
    "print(torch.cuda.device_count())\n",
    "torch.backends.cudnn.benchmark = True\n",
    "device = torch.device(\"cuda\" if torch.cuda.is_available() else \"cpu\")"
   ]
  },
  {
   "cell_type": "code",
   "execution_count": 2,
   "metadata": {},
   "outputs": [],
   "source": [
    "from monai.transforms import EnsureTyped\n",
    "from monai.transforms import Compose, LoadImaged, ScaleIntensityRanged, ConcatItemsd\n",
    "from monai.metrics import DiceMetric\n",
    "from monai.losses import DiceCELoss, DiceFocalLoss, FocalLoss\n",
    "from monai.inferers import sliding_window_inference\n",
    "\n",
    "\n",
    "from monai.data import (\n",
    "    Dataset,\n",
    "    DataLoader,\n",
    "    CacheDataset,\n",
    "    load_decathlon_datalist,\n",
    "    decollate_batch,\n",
    ")\n",
    "\n",
    "\n",
    "from monai.transforms import (\n",
    "    AsDiscrete,\n",
    "    Compose,\n",
    "    CropForegroundd,\n",
    "    LoadImaged,\n",
    "    Orientationd,\n",
    "    RandFlipd,\n",
    "    RandCropByPosNegLabeld,\n",
    "    RandShiftIntensityd,\n",
    "    ScaleIntensityRanged,\n",
    "    Spacingd,\n",
    "    RandRotate90d,\n",
    "    MapTransform,\n",
    "    ScaleIntensityd,\n",
    "    #AddChanneld,\n",
    "    SpatialPadd,\n",
    "    CenterSpatialCropd,\n",
    "    EnsureChannelFirstd,\n",
    "    ConcatItemsd,\n",
    "    AdjustContrastd, \n",
    "    Rand3DElasticd,\n",
    "    HistogramNormalized,\n",
    "    NormalizeIntensityd,\n",
    "    Invertd,\n",
    "    SaveImage,\n",
    "\n",
    ")"
   ]
  },
  {
   "cell_type": "code",
   "execution_count": 3,
   "metadata": {},
   "outputs": [],
   "source": [
    "data_dir = '/home/nada.saadi/MIS-FM/hecktor2022_cropped'\n",
    "json_dir = '/home/nada.saadi/MIS-FM/hecktor2022_cropped/MDA_PET_train_new.json'"
   ]
  },
  {
   "cell_type": "code",
   "execution_count": 4,
   "metadata": {},
   "outputs": [],
   "source": [
    "def datafold_read(datalist, basedir, fold=0, key=\"training\"):\n",
    "    with open(datalist) as f:\n",
    "        json_data = json.load(f)\n",
    "\n",
    "    json_data = json_data[key]\n",
    "\n",
    "    for d in json_data:\n",
    "        for k in d:\n",
    "            if isinstance(d[k], list):\n",
    "                d[k] = [os.path.join(basedir, iv) for iv in d[k]]\n",
    "            elif isinstance(d[k], str):\n",
    "                d[k] = os.path.join(basedir, d[k]) if len(d[k]) > 0 else d[k]\n",
    "\n",
    "    tr = []\n",
    "    val = []\n",
    "    for d in json_data:\n",
    "        if \"fold\" in d and d[\"fold\"] == fold:\n",
    "            val.append(d)\n",
    "        else:\n",
    "            tr.append(d)\n",
    "\n",
    "    return tr, val"
   ]
  },
  {
   "cell_type": "code",
   "execution_count": 5,
   "metadata": {},
   "outputs": [
    {
     "data": {
      "text/plain": [
       "(160, 36)"
      ]
     },
     "execution_count": 5,
     "metadata": {},
     "output_type": "execute_result"
    }
   ],
   "source": [
    "train_data, valid_data = datafold_read(datalist=json_dir, basedir=data_dir, fold=0)\n",
    "len(train_data), len(valid_data)"
   ]
  },
  {
   "cell_type": "code",
   "execution_count": 6,
   "metadata": {},
   "outputs": [],
   "source": [
    "class ClipCT(MapTransform):\n",
    "    \"\"\"\n",
    "    Convert labels to multi channels based on hecktor classes:\n",
    "    label 1 is the tumor\n",
    "    label 2 is the lymph node\n",
    "\n",
    "    \"\"\"\n",
    "\n",
    "    def __call__(self, data):\n",
    "        d = dict(data)\n",
    "        for key in self.keys:\n",
    "            if key == \"ct\":\n",
    "                d[key] = torch.clip(d[key], min=-200, max=200)\n",
    "            # elif key == \"pt\":\n",
    "            #     d[key] = torch.clip(d[key], d[key].min(), 5)\n",
    "        return d\n",
    "\n",
    "class MulPTFM(MapTransform):\n",
    "    \"\"\"\n",
    "    Mult PT and FM \n",
    "\n",
    "    \"\"\"\n",
    "\n",
    "    def __call__(self, data):\n",
    "        d = dict(data)\n",
    "\n",
    "        fm = d[\"ct\"] > 0\n",
    "        d[\"pt\"] = d[\"pt\"] * fm\n",
    "        return d\n",
    "\n",
    "class SelectClass(MapTransform):\n",
    "    \"\"\"\n",
    "    Select the class for which you want to fine tune the model \n",
    "\n",
    "    \"\"\"\n",
    "    # def __init__(self, keys, cls=1):\n",
    "    #     super(self).__init__(keys)\n",
    "    #     self.cls = cls\n",
    "\n",
    "    def __call__(self, data):\n",
    "        d = dict(data)\n",
    "        d[\"seg\"][d[\"seg\"] == 1] = 0\n",
    "        # d[\"seg\"][d[\"seg\"] == 2] = 1\n",
    "        \n",
    "        return d"
   ]
  },
  {
   "cell_type": "code",
   "execution_count": 7,
   "metadata": {},
   "outputs": [],
   "source": [
    "num_samples = 4\n",
    "\n",
    "train_transforms = Compose(\n",
    "    [\n",
    "        LoadImaged(keys=[\"pt\", \"seg\"], ensure_channel_first = True),\n",
    "        SpatialPadd(keys=[\"pt\",  \"seg\"], spatial_size=(200, 200, 310), method='end'),\n",
    "        Orientationd(keys=[\"pt\",  \"seg\"], axcodes=\"PLS\"),\n",
    "        #NormalizeIntensityd(keys=[\"pt\"]),\n",
    "        ClipCT(keys=[\"pt\"]),\n",
    "        ScaleIntensityd(keys=[\"pt\"], minv=0, maxv=1),\n",
    "        #MulPTFM(keys=[\"ct\",\"pt\"]),\n",
    "        #ConcatItemsd(keys=[\"pt\", \"ct\"], name=\"ctpt\"),\n",
    "        #NormalizeIntensityd(keys=[\"ctpt\"], channel_wise=True),\n",
    "        RandCropByPosNegLabeld(\n",
    "            keys=[\"pt\", \"seg\"],\n",
    "            label_key=\"seg\",\n",
    "            spatial_size=(96, 96, 96),\n",
    "            pos=1,\n",
    "            neg=1,\n",
    "            num_samples=num_samples,\n",
    "            image_key=\"pt\",\n",
    "            image_threshold=0,\n",
    "        ),\n",
    "        RandFlipd(\n",
    "            keys=[\"pt\", \"seg\"],\n",
    "            spatial_axis=[0],\n",
    "            prob=0.20,\n",
    "        ),\n",
    "        RandFlipd(\n",
    "            keys=[\"pt\", \"seg\"],\n",
    "            spatial_axis=[1],\n",
    "            prob=0.20,\n",
    "        ),\n",
    "        RandFlipd(\n",
    "            keys=[\"pt\", \"seg\"],\n",
    "            spatial_axis=[2],\n",
    "            prob=0.20,\n",
    "        ),\n",
    "        RandRotate90d(\n",
    "            keys=[\"pt\", \"seg\"],\n",
    "            prob=0.20,\n",
    "            max_k=3,\n",
    "        ),\n",
    "    ]\n",
    ")\n",
    "val_transforms = Compose(\n",
    "    [\n",
    "        LoadImaged(keys=[\"pt\", \"seg\"], ensure_channel_first = True),\n",
    "        SpatialPadd(keys=[\"pt\", \"seg\"], spatial_size=(200, 200, 310), method='end'),\n",
    "        Orientationd(keys=[\"pt\",  \"seg\"], axcodes=\"PLS\"),\n",
    "        #NormalizeIntensityd(keys=[\"pt\"]),\n",
    "        ClipCT(keys=[\"pt\"]),\n",
    "        ScaleIntensityd(keys=[\"pt\"], minv=0, maxv=1),\n",
    "        #MulPTFM(keys=[\"ct\",\"pt\"]),\n",
    "        #ConcatItemsd(keys=[\"pt\", \"ct\"], name=\"ctpt\"),\n",
    "    ]\n",
    ")\n",
    "\n",
    "def create_dataloader(data, transforms, batch_size=2, shuffle=True):\n",
    "    # Create CacheDataset with the reformatted data\n",
    "    dataset = Dataset(data=data, transform=transforms)\n",
    "\n",
    "    # Create DataLoader\n",
    "    return DataLoader(dataset, batch_size=batch_size, shuffle=shuffle, num_workers=8)\n",
    "\n",
    "\n",
    "\n",
    "train_loader = create_dataloader(train_data, train_transforms, shuffle=True)\n",
    "val_loader = create_dataloader(valid_data, val_transforms, shuffle=False)"
   ]
  },
  {
   "cell_type": "code",
   "execution_count": 8,
   "metadata": {},
   "outputs": [
    {
     "name": "stdout",
     "output_type": "stream",
     "text": [
      "Nada's version of UNETR\n",
      "(96, 96, 96)\n",
      "(16, 16, 16)\n",
      "(6, 6, 6)\n",
      "768\n",
      "ana daba kandir ghir pet dial mda fjdid\n"
     ]
    },
    {
     "name": "stderr",
     "output_type": "stream",
     "text": [
      "/home/nada.saadi/miniconda3/envs/clam/lib/python3.8/site-packages/monai/utils/deprecate_utils.py:221: FutureWarning: unetr CustomedUNETR.__init__:pos_embed: Argument `pos_embed` has been deprecated since version 1.2. It will be removed in version 1.4. please use `proj_type` instead.\n",
      "  warn_deprecated(argname, msg, warning_category)\n"
     ]
    },
    {
     "name": "stdout",
     "output_type": "stream",
     "text": [
      "base_vit_dim 768\n"
     ]
    }
   ],
   "source": [
    "model = CustomedUNETR(\n",
    "    in_channels=1,\n",
    "    out_channels=3,\n",
    "    img_size=(96, 96, 96),\n",
    "    feature_size=48,\n",
    "    hidden_size=768,\n",
    "    num_heads=12,\n",
    "    mlp_dim=3072,\n",
    "    pos_embed=\"perceptron\",\n",
    "    norm_name=\"instance\",\n",
    "    res_block=True,\n",
    "    dropout_rate=0.0,\n",
    "    proj_type=\"conv\",\n",
    "    r=4,\n",
    "    lora_layer=None,\n",
    ").to(device)"
   ]
  },
  {
   "cell_type": "code",
   "execution_count": 9,
   "metadata": {},
   "outputs": [],
   "source": [
    "def poly_lr(epoch, max_epochs, initial_lr, exponent=0.9):\n",
    "    return initial_lr * (1 - epoch / max_epochs)**exponent\n",
    "\n",
    "model_dir='/home/nada.saadi/CTPET/hecktor2022_cropped/module2-pettokens'\n",
    "\n",
    "max_iterations = 18000\n",
    "eval_num = 100\n",
    "\n",
    "## running stats\n",
    "global_step = 0\n",
    "dice_val_best = 0.0\n",
    "global_step_best = 0\n",
    "epoch_loss_values = []\n",
    "metric_values = []\n",
    "metric_values_tumor = []\n",
    "metric_values_lymph = []\n",
    "\n",
    "\n",
    "loss_function = DiceCELoss(to_onehot_y=True, softmax=True)\n",
    "optimizer = torch.optim.AdamW(model.parameters(), lr=1e-4, weight_decay=1e-5)\n",
    "\n",
    "\n",
    "post_label = AsDiscrete(to_onehot=3)\n",
    "post_pred = AsDiscrete(argmax=True, to_onehot=3)\n",
    "\n",
    "dice_metric = DiceMetric(include_background=False, reduction=\"mean\", get_not_nans=False)\n",
    "dice_metric_batch = DiceMetric(include_background=False, reduction=\"mean_batch\")\n",
    "\n",
    "\n",
    "##-----------------------------------------------------------------------------\n",
    "\n",
    "def validation(epoch_iterator_val):\n",
    "        model.eval()\n",
    "        with torch.no_grad():\n",
    "            for step, batch in enumerate(epoch_iterator_val):\n",
    "                val_inputs, val_labels = (batch[\"pt\"].cuda(), batch[\"seg\"].cuda())\n",
    "                val_outputs = sliding_window_inference(val_inputs, (96, 96, 96), 4, model)\n",
    "                val_labels_list = decollate_batch(val_labels)\n",
    "                val_labels_convert = [\n",
    "                    post_label(val_label_tensor) for val_label_tensor in val_labels_list\n",
    "                ]\n",
    "                val_outputs_list = decollate_batch(val_outputs)\n",
    "                val_output_convert = [\n",
    "                    post_pred(val_pred_tensor) for val_pred_tensor in val_outputs_list\n",
    "                ]\n",
    "                dice_metric(y_pred=val_output_convert, y=val_labels_convert)\n",
    "                dice_metric_batch(y_pred=val_output_convert, y=val_labels_convert)\n",
    "                epoch_iterator_val.set_description(\n",
    "                    \"Validate (%d / %d Steps)\" % (global_step, 10.0)\n",
    "                )\n",
    "            mean_dice_val = dice_metric.aggregate().item()\n",
    "            metric_batch_val = dice_metric_batch.aggregate()\n",
    "\n",
    "            metric_tumor = metric_batch_val[0].item()\n",
    "            metric_lymph = metric_batch_val[1].item()\n",
    "\n",
    "            dice_metric.reset()\n",
    "            dice_metric_batch.reset()\n",
    "        return mean_dice_val, metric_tumor, metric_lymph\n",
    "\n",
    "\n",
    "\n",
    "def train(global_step, train_loader, dice_val_best, global_step_best):\n",
    "        model.train()\n",
    "        epoch_loss = 0\n",
    "        step = 0\n",
    "        epoch_iterator = tqdm(\n",
    "            train_loader, desc=\"Training (X / X Steps) (loss=X.X)\", dynamic_ncols=True\n",
    "        )\n",
    "        \n",
    "        for step, batch in enumerate(epoch_iterator):\n",
    "            step += 1\n",
    "            x, y = (batch[\"pt\"].cuda(), batch[\"seg\"].cuda())\n",
    "            logit_map = model(x)\n",
    "            loss = loss_function(logit_map, y)\n",
    "            loss.backward()\n",
    "            epoch_loss += loss.item() \n",
    "            optimizer.step()\n",
    "            optimizer.zero_grad()\n",
    "            epoch_iterator.set_description(\n",
    "                \"Training (%d / %d Steps) (loss=%2.5f)\"\n",
    "                % (global_step, max_iterations, loss)\n",
    "            )\n",
    "            \n",
    "            if (\n",
    "                global_step % eval_num == 0 and global_step != 0\n",
    "            ) or global_step == max_iterations:\n",
    "                epoch_iterator_val = tqdm(\n",
    "                    val_loader, desc=\"Validate (X / X Steps) (dice=X.X)\", dynamic_ncols=True\n",
    "                )\n",
    "                dice_val, metric_tumor, metric_lymph = validation(epoch_iterator_val)\n",
    "                epoch_loss /= step\n",
    "                epoch_loss_values.append(epoch_loss)\n",
    "                metric_values.append(dice_val)\n",
    "                metric_values_tumor.append(metric_tumor)\n",
    "                metric_values_lymph.append(metric_lymph)\n",
    "                if dice_val > dice_val_best:\n",
    "                    dice_val_best = dice_val\n",
    "                    global_step_best = global_step\n",
    "                    torch.save(\n",
    "                        model.state_dict(), os.path.join(model_dir, \"m2-pettokens.pth\")\n",
    "                    )\n",
    "                    print(\n",
    "                        \"Model Was Saved ! Current Best Avg. Dice: {} Current Avg. Dice: {} Current Avg. tumor Dice: {} Current Avg. lymph Dice: {}\".format(\n",
    "                            dice_val_best, dice_val, metric_tumor, metric_lymph\n",
    "                        )\n",
    "                    )\n",
    "                else:\n",
    "                    print(\n",
    "                        \"Model Was Not Saved ! Current Best Avg. Dice: {} Current Avg. Dice: {} Current Avg. tumor Dice: {} Current Avg. lymph Dice: {}\".format(\n",
    "                            dice_val_best, dice_val,  metric_tumor, metric_lymph\n",
    "                        )\n",
    "                    )\n",
    "            global_step += 1\n",
    "        return global_step, dice_val_best, global_step_best"
   ]
  },
  {
   "cell_type": "code",
   "execution_count": 10,
   "metadata": {},
   "outputs": [
    {
     "name": "stderr",
     "output_type": "stream",
     "text": [
      "Training (79 / 18000 Steps) (loss=1.12526): 100%|██████████| 80/80 [02:16<00:00,  1.71s/it]\n",
      "Validate (80 / 10 Steps): 100%|██████████| 18/18 [01:07<00:00,  3.76s/it]9<01:16,  1.28s/it]\n",
      "Training (100 / 18000 Steps) (loss=1.06991):  26%|██▋       | 21/80 [01:38<21:38, 22.01s/it]"
     ]
    },
    {
     "name": "stdout",
     "output_type": "stream",
     "text": [
      "Model Was Saved ! Current Best Avg. Dice: 0.2059076875448227 Current Avg. Dice: 0.2059076875448227 Current Avg. tumor Dice: 0.3790024518966675 Current Avg. lymph Dice: 0.023309441283345222\n"
     ]
    },
    {
     "name": "stderr",
     "output_type": "stream",
     "text": [
      "Training (159 / 18000 Steps) (loss=1.01341): 100%|██████████| 80/80 [02:55<00:00,  2.19s/it]\n",
      "Validate (160 / 10 Steps): 100%|██████████| 18/18 [01:01<00:00,  3.43s/it]<00:51,  1.28s/it]\n",
      "Training (200 / 18000 Steps) (loss=0.95757):  51%|█████▏    | 41/80 [01:58<13:07, 20.19s/it]"
     ]
    },
    {
     "name": "stdout",
     "output_type": "stream",
     "text": [
      "Model Was Saved ! Current Best Avg. Dice: 0.21771103143692017 Current Avg. Dice: 0.21771103143692017 Current Avg. tumor Dice: 0.40968576073646545 Current Avg. lymph Dice: 0.013698791153728962\n"
     ]
    },
    {
     "name": "stderr",
     "output_type": "stream",
     "text": [
      "Training (239 / 18000 Steps) (loss=0.89342): 100%|██████████| 80/80 [02:49<00:00,  2.11s/it]\n",
      "Validate (240 / 10 Steps): 100%|██████████| 18/18 [01:02<00:00,  3.45s/it]<00:26,  1.31s/it]\n",
      "Training (300 / 18000 Steps) (loss=0.86091):  76%|███████▋  | 61/80 [02:24<06:22, 20.15s/it]"
     ]
    },
    {
     "name": "stdout",
     "output_type": "stream",
     "text": [
      "Model Was Saved ! Current Best Avg. Dice: 0.26838529109954834 Current Avg. Dice: 0.26838529109954834 Current Avg. tumor Dice: 0.436344712972641 Current Avg. lymph Dice: 0.08464188873767853\n"
     ]
    },
    {
     "name": "stderr",
     "output_type": "stream",
     "text": [
      "Training (319 / 18000 Steps) (loss=0.82585): 100%|██████████| 80/80 [02:48<00:00,  2.11s/it]\n",
      "Training (399 / 18000 Steps) (loss=0.81143): 100%|██████████| 80/80 [01:45<00:00,  1.32s/it]\n",
      "Validate (400 / 10 Steps): 100%|██████████| 18/18 [01:01<00:00,  3.43s/it]?, ?it/s]\n",
      "Training (400 / 18000 Steps) (loss=0.81853):   1%|▏         | 1/80 [01:06<1:27:05, 66.14s/it]"
     ]
    },
    {
     "name": "stdout",
     "output_type": "stream",
     "text": [
      "Model Was Saved ! Current Best Avg. Dice: 0.2898187041282654 Current Avg. Dice: 0.2898187041282654 Current Avg. tumor Dice: 0.43431463837623596 Current Avg. lymph Dice: 0.13272219896316528\n"
     ]
    },
    {
     "name": "stderr",
     "output_type": "stream",
     "text": [
      "Training (479 / 18000 Steps) (loss=0.76848): 100%|██████████| 80/80 [02:48<00:00,  2.11s/it] \n",
      "Validate (480 / 10 Steps): 100%|██████████| 18/18 [01:01<00:00,  3.42s/it]<01:20,  1.34s/it]\n",
      "Training (500 / 18000 Steps) (loss=0.77947):  26%|██▋       | 21/80 [01:31<19:30, 19.83s/it]"
     ]
    },
    {
     "name": "stdout",
     "output_type": "stream",
     "text": [
      "Model Was Not Saved ! Current Best Avg. Dice: 0.2898187041282654 Current Avg. Dice: 0.17765450477600098 Current Avg. tumor Dice: 0.0020219956059008837 Current Avg. lymph Dice: 0.3835914134979248\n"
     ]
    },
    {
     "name": "stderr",
     "output_type": "stream",
     "text": [
      "Training (559 / 18000 Steps) (loss=0.76099): 100%|██████████| 80/80 [02:48<00:00,  2.10s/it]\n",
      "Validate (560 / 10 Steps): 100%|██████████| 18/18 [01:01<00:00,  3.44s/it]<00:51,  1.28s/it]\n",
      "Training (600 / 18000 Steps) (loss=0.74781):  51%|█████▏    | 41/80 [01:58<13:05, 20.13s/it]"
     ]
    },
    {
     "name": "stdout",
     "output_type": "stream",
     "text": [
      "Model Was Saved ! Current Best Avg. Dice: 0.3711720407009125 Current Avg. Dice: 0.3711720407009125 Current Avg. tumor Dice: 0.4587154984474182 Current Avg. lymph Dice: 0.28195300698280334\n"
     ]
    },
    {
     "name": "stderr",
     "output_type": "stream",
     "text": [
      "Training (639 / 18000 Steps) (loss=0.75903): 100%|██████████| 80/80 [02:48<00:00,  2.11s/it]\n",
      "Validate (640 / 10 Steps): 100%|██████████| 18/18 [01:01<00:00,  3.43s/it]<00:25,  1.28s/it]\n",
      "Training (700 / 18000 Steps) (loss=0.73697):  76%|███████▋  | 61/80 [02:22<06:16, 19.81s/it]"
     ]
    },
    {
     "name": "stdout",
     "output_type": "stream",
     "text": [
      "Model Was Not Saved ! Current Best Avg. Dice: 0.3711720407009125 Current Avg. Dice: 0.3292168378829956 Current Avg. tumor Dice: 0.42628464102745056 Current Avg. lymph Dice: 0.23980768024921417\n"
     ]
    },
    {
     "name": "stderr",
     "output_type": "stream",
     "text": [
      "Training (719 / 18000 Steps) (loss=0.67030): 100%|██████████| 80/80 [02:47<00:00,  2.09s/it]\n",
      "Training (799 / 18000 Steps) (loss=0.67343): 100%|██████████| 80/80 [01:46<00:00,  1.33s/it]\n",
      "Validate (800 / 10 Steps): 100%|██████████| 18/18 [01:01<00:00,  3.43s/it]?, ?it/s]\n",
      "Training (800 / 18000 Steps) (loss=0.62739):   1%|▏         | 1/80 [01:05<1:25:57, 65.29s/it]"
     ]
    },
    {
     "name": "stdout",
     "output_type": "stream",
     "text": [
      "Model Was Not Saved ! Current Best Avg. Dice: 0.3711720407009125 Current Avg. Dice: 0.33029627799987793 Current Avg. tumor Dice: 0.4349513649940491 Current Avg. lymph Dice: 0.2259233295917511\n"
     ]
    },
    {
     "name": "stderr",
     "output_type": "stream",
     "text": [
      "Training (879 / 18000 Steps) (loss=0.60946): 100%|██████████| 80/80 [02:48<00:00,  2.10s/it] \n",
      "Validate (880 / 10 Steps): 100%|██████████| 18/18 [01:01<00:00,  3.43s/it]<01:19,  1.32s/it]\n",
      "Training (900 / 18000 Steps) (loss=0.67963):  26%|██▋       | 21/80 [01:32<19:46, 20.10s/it]"
     ]
    },
    {
     "name": "stdout",
     "output_type": "stream",
     "text": [
      "Model Was Saved ! Current Best Avg. Dice: 0.44180378317832947 Current Avg. Dice: 0.44180378317832947 Current Avg. tumor Dice: 0.44349926710128784 Current Avg. lymph Dice: 0.47000807523727417\n"
     ]
    },
    {
     "name": "stderr",
     "output_type": "stream",
     "text": [
      "Training (959 / 18000 Steps) (loss=0.61527): 100%|██████████| 80/80 [02:49<00:00,  2.12s/it]\n",
      "Validate (960 / 10 Steps): 100%|██████████| 18/18 [01:01<00:00,  3.43s/it]5<00:51,  1.28s/it]\n",
      "Training (1000 / 18000 Steps) (loss=0.62171):  51%|█████▏    | 41/80 [01:58<13:03, 20.09s/it]"
     ]
    },
    {
     "name": "stdout",
     "output_type": "stream",
     "text": [
      "Model Was Saved ! Current Best Avg. Dice: 0.4735375642776489 Current Avg. Dice: 0.4735375642776489 Current Avg. tumor Dice: 0.5249015092849731 Current Avg. lymph Dice: 0.4330770969390869\n"
     ]
    },
    {
     "name": "stderr",
     "output_type": "stream",
     "text": [
      "Training (1039 / 18000 Steps) (loss=0.56369): 100%|██████████| 80/80 [02:48<00:00,  2.11s/it]\n",
      "Validate (1040 / 10 Steps): 100%|██████████| 18/18 [01:01<00:00,  3.43s/it]<00:26,  1.30s/it]\n",
      "Training (1100 / 18000 Steps) (loss=0.57514):  76%|███████▋  | 61/80 [02:24<06:21, 20.06s/it]"
     ]
    },
    {
     "name": "stdout",
     "output_type": "stream",
     "text": [
      "Model Was Saved ! Current Best Avg. Dice: 0.5011633634567261 Current Avg. Dice: 0.5011633634567261 Current Avg. tumor Dice: 0.5540279150009155 Current Avg. lymph Dice: 0.4719133973121643\n"
     ]
    },
    {
     "name": "stderr",
     "output_type": "stream",
     "text": [
      "Training (1119 / 18000 Steps) (loss=0.68343): 100%|██████████| 80/80 [02:48<00:00,  2.11s/it]\n",
      "Training (1199 / 18000 Steps) (loss=0.58677): 100%|██████████| 80/80 [01:45<00:00,  1.32s/it]\n",
      "Validate (1200 / 10 Steps): 100%|██████████| 18/18 [01:01<00:00,  3.42s/it]?, ?it/s]\n",
      "Training (1200 / 18000 Steps) (loss=0.49469):   1%|▏         | 1/80 [01:05<1:26:46, 65.91s/it]"
     ]
    },
    {
     "name": "stdout",
     "output_type": "stream",
     "text": [
      "Model Was Saved ! Current Best Avg. Dice: 0.5237838625907898 Current Avg. Dice: 0.5237838625907898 Current Avg. tumor Dice: 0.5488841533660889 Current Avg. lymph Dice: 0.5155652761459351\n"
     ]
    },
    {
     "name": "stderr",
     "output_type": "stream",
     "text": [
      "Training (1279 / 18000 Steps) (loss=0.64792): 100%|██████████| 80/80 [02:49<00:00,  2.11s/it] \n",
      "Validate (1280 / 10 Steps): 100%|██████████| 18/18 [01:01<00:00,  3.43s/it]<01:17,  1.28s/it]\n",
      "Training (1300 / 18000 Steps) (loss=0.56314):  26%|██▋       | 21/80 [01:31<19:28, 19.80s/it]"
     ]
    },
    {
     "name": "stdout",
     "output_type": "stream",
     "text": [
      "Model Was Not Saved ! Current Best Avg. Dice: 0.5237838625907898 Current Avg. Dice: 0.5000053644180298 Current Avg. tumor Dice: 0.5137064456939697 Current Avg. lymph Dice: 0.5108189582824707\n"
     ]
    },
    {
     "name": "stderr",
     "output_type": "stream",
     "text": [
      "Training (1359 / 18000 Steps) (loss=0.60925): 100%|██████████| 80/80 [02:47<00:00,  2.09s/it]\n",
      "Validate (1360 / 10 Steps): 100%|██████████| 18/18 [01:01<00:00,  3.42s/it]<00:51,  1.28s/it]\n",
      "Training (1400 / 18000 Steps) (loss=0.58969):  51%|█████▏    | 41/80 [01:57<12:53, 19.84s/it]"
     ]
    },
    {
     "name": "stdout",
     "output_type": "stream",
     "text": [
      "Model Was Not Saved ! Current Best Avg. Dice: 0.5237838625907898 Current Avg. Dice: 0.5139988660812378 Current Avg. tumor Dice: 0.5633630752563477 Current Avg. lymph Dice: 0.48276787996292114\n"
     ]
    },
    {
     "name": "stderr",
     "output_type": "stream",
     "text": [
      "Training (1439 / 18000 Steps) (loss=0.67243): 100%|██████████| 80/80 [02:47<00:00,  2.09s/it]\n",
      "Validate (1440 / 10 Steps): 100%|██████████| 18/18 [01:01<00:00,  3.43s/it]<00:26,  1.33s/it]\n",
      "Training (1500 / 18000 Steps) (loss=0.49557):  76%|███████▋  | 61/80 [02:24<06:21, 20.06s/it]"
     ]
    },
    {
     "name": "stdout",
     "output_type": "stream",
     "text": [
      "Model Was Saved ! Current Best Avg. Dice: 0.5549622774124146 Current Avg. Dice: 0.5549622774124146 Current Avg. tumor Dice: 0.5925719141960144 Current Avg. lymph Dice: 0.5356773138046265\n"
     ]
    },
    {
     "name": "stderr",
     "output_type": "stream",
     "text": [
      "Training (1519 / 18000 Steps) (loss=0.52453): 100%|██████████| 80/80 [02:48<00:00,  2.11s/it]\n",
      "Training (1599 / 18000 Steps) (loss=0.50828): 100%|██████████| 80/80 [01:45<00:00,  1.32s/it]\n",
      "Validate (1600 / 10 Steps): 100%|██████████| 18/18 [01:01<00:00,  3.42s/it]?, ?it/s]\n",
      "Training (1600 / 18000 Steps) (loss=0.54367):   1%|▏         | 1/80 [01:04<1:25:32, 64.97s/it]"
     ]
    },
    {
     "name": "stdout",
     "output_type": "stream",
     "text": [
      "Model Was Not Saved ! Current Best Avg. Dice: 0.5549622774124146 Current Avg. Dice: 0.5448878407478333 Current Avg. tumor Dice: 0.5768944621086121 Current Avg. lymph Dice: 0.5355547070503235\n"
     ]
    },
    {
     "name": "stderr",
     "output_type": "stream",
     "text": [
      "Training (1679 / 18000 Steps) (loss=0.54167): 100%|██████████| 80/80 [02:47<00:00,  2.09s/it] \n",
      "Validate (1680 / 10 Steps): 100%|██████████| 18/18 [01:01<00:00,  3.43s/it]<01:17,  1.29s/it]\n",
      "Training (1700 / 18000 Steps) (loss=0.54849):  26%|██▋       | 21/80 [01:31<19:28, 19.81s/it]"
     ]
    },
    {
     "name": "stdout",
     "output_type": "stream",
     "text": [
      "Model Was Not Saved ! Current Best Avg. Dice: 0.5549622774124146 Current Avg. Dice: 0.5056299567222595 Current Avg. tumor Dice: 0.5635615587234497 Current Avg. lymph Dice: 0.45820215344429016\n"
     ]
    },
    {
     "name": "stderr",
     "output_type": "stream",
     "text": [
      "Training (1759 / 18000 Steps) (loss=0.52457): 100%|██████████| 80/80 [02:47<00:00,  2.10s/it]\n",
      "Validate (1760 / 10 Steps): 100%|██████████| 18/18 [01:01<00:00,  3.44s/it]<00:51,  1.28s/it]\n",
      "Training (1800 / 18000 Steps) (loss=0.53423):  51%|█████▏    | 41/80 [01:57<12:54, 19.85s/it]"
     ]
    },
    {
     "name": "stdout",
     "output_type": "stream",
     "text": [
      "Model Was Not Saved ! Current Best Avg. Dice: 0.5549622774124146 Current Avg. Dice: 0.5397758483886719 Current Avg. tumor Dice: 0.584119439125061 Current Avg. lymph Dice: 0.5099407434463501\n"
     ]
    },
    {
     "name": "stderr",
     "output_type": "stream",
     "text": [
      "Training (1839 / 18000 Steps) (loss=0.56692): 100%|██████████| 80/80 [02:47<00:00,  2.10s/it]\n",
      "Validate (1840 / 10 Steps): 100%|██████████| 18/18 [01:01<00:00,  3.43s/it]<00:25,  1.29s/it]\n",
      "Training (1900 / 18000 Steps) (loss=0.61183):  76%|███████▋  | 61/80 [02:24<06:21, 20.06s/it]"
     ]
    },
    {
     "name": "stdout",
     "output_type": "stream",
     "text": [
      "Model Was Saved ! Current Best Avg. Dice: 0.5640689730644226 Current Avg. Dice: 0.5640689730644226 Current Avg. tumor Dice: 0.596917450428009 Current Avg. lymph Dice: 0.5481270551681519\n"
     ]
    },
    {
     "name": "stderr",
     "output_type": "stream",
     "text": [
      "Training (1919 / 18000 Steps) (loss=0.55413): 100%|██████████| 80/80 [02:48<00:00,  2.11s/it]\n",
      "Training (1999 / 18000 Steps) (loss=0.48041): 100%|██████████| 80/80 [01:45<00:00,  1.32s/it]\n",
      "Validate (2000 / 10 Steps): 100%|██████████| 18/18 [01:01<00:00,  3.42s/it]?, ?it/s]\n",
      "Training (2000 / 18000 Steps) (loss=0.54693):   1%|▏         | 1/80 [01:05<1:25:59, 65.31s/it]"
     ]
    },
    {
     "name": "stdout",
     "output_type": "stream",
     "text": [
      "Model Was Not Saved ! Current Best Avg. Dice: 0.5640689730644226 Current Avg. Dice: 0.5279986262321472 Current Avg. tumor Dice: 0.5835797190666199 Current Avg. lymph Dice: 0.4826456904411316\n"
     ]
    },
    {
     "name": "stderr",
     "output_type": "stream",
     "text": [
      "Training (2079 / 18000 Steps) (loss=0.55627): 100%|██████████| 80/80 [02:47<00:00,  2.10s/it] \n",
      "Validate (2080 / 10 Steps): 100%|██████████| 18/18 [01:02<00:00,  3.45s/it]<01:18,  1.30s/it]\n",
      "Training (2100 / 18000 Steps) (loss=0.60433):  26%|██▋       | 21/80 [01:31<19:36, 19.94s/it]"
     ]
    },
    {
     "name": "stdout",
     "output_type": "stream",
     "text": [
      "Model Was Not Saved ! Current Best Avg. Dice: 0.5640689730644226 Current Avg. Dice: 0.5361538529396057 Current Avg. tumor Dice: 0.5860191583633423 Current Avg. lymph Dice: 0.49675893783569336\n"
     ]
    },
    {
     "name": "stderr",
     "output_type": "stream",
     "text": [
      "Training (2159 / 18000 Steps) (loss=0.36936): 100%|██████████| 80/80 [02:48<00:00,  2.10s/it]\n",
      "Validate (2160 / 10 Steps): 100%|██████████| 18/18 [01:01<00:00,  3.43s/it]<00:51,  1.29s/it]\n",
      "Training (2200 / 18000 Steps) (loss=0.54908):  51%|█████▏    | 41/80 [01:57<12:53, 19.84s/it]"
     ]
    },
    {
     "name": "stdout",
     "output_type": "stream",
     "text": [
      "Model Was Not Saved ! Current Best Avg. Dice: 0.5640689730644226 Current Avg. Dice: 0.5588929653167725 Current Avg. tumor Dice: 0.5925272107124329 Current Avg. lymph Dice: 0.5477349758148193\n"
     ]
    },
    {
     "name": "stderr",
     "output_type": "stream",
     "text": [
      "Training (2239 / 18000 Steps) (loss=0.61402): 100%|██████████| 80/80 [02:48<00:00,  2.10s/it]\n",
      "Validate (2240 / 10 Steps): 100%|██████████| 18/18 [01:01<00:00,  3.43s/it]<00:26,  1.30s/it]\n",
      "Training (2300 / 18000 Steps) (loss=0.49749):  76%|███████▋  | 61/80 [02:24<06:21, 20.07s/it]"
     ]
    },
    {
     "name": "stdout",
     "output_type": "stream",
     "text": [
      "Model Was Saved ! Current Best Avg. Dice: 0.5809651613235474 Current Avg. Dice: 0.5809651613235474 Current Avg. tumor Dice: 0.6052843332290649 Current Avg. lymph Dice: 0.5761812925338745\n"
     ]
    },
    {
     "name": "stderr",
     "output_type": "stream",
     "text": [
      "Training (2319 / 18000 Steps) (loss=0.54201): 100%|██████████| 80/80 [02:48<00:00,  2.11s/it]\n",
      "Training (2399 / 18000 Steps) (loss=0.45443): 100%|██████████| 80/80 [01:46<00:00,  1.33s/it]\n",
      "Validate (2400 / 10 Steps): 100%|██████████| 18/18 [01:01<00:00,  3.42s/it]?, ?it/s]\n",
      "Training (2400 / 18000 Steps) (loss=0.55341):   1%|▏         | 1/80 [01:05<1:26:14, 65.50s/it]"
     ]
    },
    {
     "name": "stdout",
     "output_type": "stream",
     "text": [
      "Model Was Not Saved ! Current Best Avg. Dice: 0.5809651613235474 Current Avg. Dice: 0.5747717618942261 Current Avg. tumor Dice: 0.6050344705581665 Current Avg. lymph Dice: 0.562198281288147\n"
     ]
    },
    {
     "name": "stderr",
     "output_type": "stream",
     "text": [
      "Training (2479 / 18000 Steps) (loss=0.47959): 100%|██████████| 80/80 [02:47<00:00,  2.10s/it] \n",
      "Validate (2480 / 10 Steps): 100%|██████████| 18/18 [01:01<00:00,  3.42s/it]<01:17,  1.30s/it]\n",
      "Training (2500 / 18000 Steps) (loss=0.43607):  26%|██▋       | 21/80 [01:31<19:40, 20.00s/it]"
     ]
    },
    {
     "name": "stdout",
     "output_type": "stream",
     "text": [
      "Model Was Saved ! Current Best Avg. Dice: 0.5903688073158264 Current Avg. Dice: 0.5903688073158264 Current Avg. tumor Dice: 0.6145671010017395 Current Avg. lymph Dice: 0.5830828547477722\n"
     ]
    },
    {
     "name": "stderr",
     "output_type": "stream",
     "text": [
      "Training (2559 / 18000 Steps) (loss=0.56264): 100%|██████████| 80/80 [02:48<00:00,  2.11s/it]\n",
      "Validate (2560 / 10 Steps): 100%|██████████| 18/18 [01:02<00:00,  3.45s/it]<00:51,  1.29s/it]\n",
      "Training (2600 / 18000 Steps) (loss=0.51605):  51%|█████▏    | 41/80 [01:58<13:00, 20.01s/it]"
     ]
    },
    {
     "name": "stdout",
     "output_type": "stream",
     "text": [
      "Model Was Not Saved ! Current Best Avg. Dice: 0.5903688073158264 Current Avg. Dice: 0.5516098737716675 Current Avg. tumor Dice: 0.5709370970726013 Current Avg. lymph Dice: 0.561464250087738\n"
     ]
    },
    {
     "name": "stderr",
     "output_type": "stream",
     "text": [
      "Training (2639 / 18000 Steps) (loss=0.46328): 100%|██████████| 80/80 [02:48<00:00,  2.11s/it]\n",
      "Validate (2640 / 10 Steps): 100%|██████████| 18/18 [01:01<00:00,  3.42s/it]<00:26,  1.31s/it]\n",
      "Training (2700 / 18000 Steps) (loss=0.42295):  76%|███████▋  | 61/80 [02:23<06:16, 19.80s/it]"
     ]
    },
    {
     "name": "stdout",
     "output_type": "stream",
     "text": [
      "Model Was Not Saved ! Current Best Avg. Dice: 0.5903688073158264 Current Avg. Dice: 0.5705292820930481 Current Avg. tumor Dice: 0.5865246653556824 Current Avg. lymph Dice: 0.5781184434890747\n"
     ]
    },
    {
     "name": "stderr",
     "output_type": "stream",
     "text": [
      "Training (2719 / 18000 Steps) (loss=0.56927): 100%|██████████| 80/80 [02:47<00:00,  2.10s/it]\n",
      "Training (2799 / 18000 Steps) (loss=0.47219): 100%|██████████| 80/80 [01:46<00:00,  1.33s/it]\n",
      "Validate (2800 / 10 Steps): 100%|██████████| 18/18 [01:01<00:00,  3.43s/it]?, ?it/s]\n",
      "Training (2800 / 18000 Steps) (loss=0.60899):   1%|▏         | 1/80 [01:05<1:26:04, 65.38s/it]"
     ]
    },
    {
     "name": "stdout",
     "output_type": "stream",
     "text": [
      "Model Was Not Saved ! Current Best Avg. Dice: 0.5903688073158264 Current Avg. Dice: 0.538788914680481 Current Avg. tumor Dice: 0.5559008121490479 Current Avg. lymph Dice: 0.5508593916893005\n"
     ]
    },
    {
     "name": "stderr",
     "output_type": "stream",
     "text": [
      "Training (2879 / 18000 Steps) (loss=0.59511): 100%|██████████| 80/80 [02:48<00:00,  2.10s/it] \n",
      "Validate (2880 / 10 Steps): 100%|██████████| 18/18 [01:01<00:00,  3.42s/it]<01:18,  1.31s/it]\n",
      "Training (2900 / 18000 Steps) (loss=0.34187):  26%|██▋       | 21/80 [01:31<19:27, 19.79s/it]"
     ]
    },
    {
     "name": "stdout",
     "output_type": "stream",
     "text": [
      "Model Was Not Saved ! Current Best Avg. Dice: 0.5903688073158264 Current Avg. Dice: 0.5855370759963989 Current Avg. tumor Dice: 0.6265552043914795 Current Avg. lymph Dice: 0.5634763240814209\n"
     ]
    },
    {
     "name": "stderr",
     "output_type": "stream",
     "text": [
      "Training (2959 / 18000 Steps) (loss=0.58196): 100%|██████████| 80/80 [02:47<00:00,  2.10s/it]\n",
      "Validate (2960 / 10 Steps): 100%|██████████| 18/18 [01:01<00:00,  3.43s/it]<00:50,  1.27s/it]\n",
      "Training (3000 / 18000 Steps) (loss=0.49733):  51%|█████▏    | 41/80 [01:57<12:53, 19.83s/it]"
     ]
    },
    {
     "name": "stdout",
     "output_type": "stream",
     "text": [
      "Model Was Not Saved ! Current Best Avg. Dice: 0.5903688073158264 Current Avg. Dice: 0.5842530727386475 Current Avg. tumor Dice: 0.6039870977401733 Current Avg. lymph Dice: 0.5883051753044128\n"
     ]
    },
    {
     "name": "stderr",
     "output_type": "stream",
     "text": [
      "Training (3039 / 18000 Steps) (loss=0.50531): 100%|██████████| 80/80 [02:47<00:00,  2.10s/it]\n",
      "Validate (3040 / 10 Steps): 100%|██████████| 18/18 [01:01<00:00,  3.43s/it]<00:26,  1.32s/it]\n",
      "Training (3100 / 18000 Steps) (loss=0.50224):  76%|███████▋  | 61/80 [02:23<06:16, 19.83s/it]"
     ]
    },
    {
     "name": "stdout",
     "output_type": "stream",
     "text": [
      "Model Was Not Saved ! Current Best Avg. Dice: 0.5903688073158264 Current Avg. Dice: 0.5569828748703003 Current Avg. tumor Dice: 0.6031508445739746 Current Avg. lymph Dice: 0.5299265384674072\n"
     ]
    },
    {
     "name": "stderr",
     "output_type": "stream",
     "text": [
      "Training (3119 / 18000 Steps) (loss=0.53410): 100%|██████████| 80/80 [02:48<00:00,  2.11s/it]\n",
      "Training (3199 / 18000 Steps) (loss=0.46449): 100%|██████████| 80/80 [01:46<00:00,  1.33s/it]\n",
      "Validate (3200 / 10 Steps): 100%|██████████| 18/18 [01:01<00:00,  3.42s/it]?, ?it/s]\n",
      "Training (3200 / 18000 Steps) (loss=0.39352):   1%|▏         | 1/80 [01:05<1:25:51, 65.21s/it]"
     ]
    },
    {
     "name": "stdout",
     "output_type": "stream",
     "text": [
      "Model Was Not Saved ! Current Best Avg. Dice: 0.5903688073158264 Current Avg. Dice: 0.584963858127594 Current Avg. tumor Dice: 0.6069062352180481 Current Avg. lymph Dice: 0.582149088382721\n"
     ]
    },
    {
     "name": "stderr",
     "output_type": "stream",
     "text": [
      "Training (3279 / 18000 Steps) (loss=0.46852): 100%|██████████| 80/80 [02:48<00:00,  2.10s/it] \n",
      "Validate (3280 / 10 Steps): 100%|██████████| 18/18 [01:01<00:00,  3.43s/it]<01:18,  1.30s/it]\n",
      "Training (3300 / 18000 Steps) (loss=0.49423):  26%|██▋       | 21/80 [01:31<19:42, 20.05s/it]"
     ]
    },
    {
     "name": "stdout",
     "output_type": "stream",
     "text": [
      "Model Was Saved ! Current Best Avg. Dice: 0.5926940441131592 Current Avg. Dice: 0.5926940441131592 Current Avg. tumor Dice: 0.6218441724777222 Current Avg. lymph Dice: 0.5843324065208435\n"
     ]
    },
    {
     "name": "stderr",
     "output_type": "stream",
     "text": [
      "Training (3359 / 18000 Steps) (loss=0.55879): 100%|██████████| 80/80 [02:48<00:00,  2.10s/it]\n",
      "Validate (3360 / 10 Steps): 100%|██████████| 18/18 [01:01<00:00,  3.43s/it]<00:51,  1.28s/it]\n",
      "Training (3400 / 18000 Steps) (loss=0.42994):  51%|█████▏    | 41/80 [01:57<12:54, 19.86s/it]"
     ]
    },
    {
     "name": "stdout",
     "output_type": "stream",
     "text": [
      "Model Was Not Saved ! Current Best Avg. Dice: 0.5926940441131592 Current Avg. Dice: 0.5751737952232361 Current Avg. tumor Dice: 0.5905406475067139 Current Avg. lymph Dice: 0.5823687314987183\n"
     ]
    },
    {
     "name": "stderr",
     "output_type": "stream",
     "text": [
      "Training (3439 / 18000 Steps) (loss=0.52398): 100%|██████████| 80/80 [02:47<00:00,  2.10s/it]\n",
      "Validate (3440 / 10 Steps): 100%|██████████| 18/18 [01:01<00:00,  3.43s/it]<00:26,  1.30s/it]\n",
      "Training (3500 / 18000 Steps) (loss=0.51449):  76%|███████▋  | 61/80 [02:23<06:16, 19.84s/it]"
     ]
    },
    {
     "name": "stdout",
     "output_type": "stream",
     "text": [
      "Model Was Not Saved ! Current Best Avg. Dice: 0.5926940441131592 Current Avg. Dice: 0.5625039339065552 Current Avg. tumor Dice: 0.5935081243515015 Current Avg. lymph Dice: 0.556009829044342\n"
     ]
    },
    {
     "name": "stderr",
     "output_type": "stream",
     "text": [
      "Training (3519 / 18000 Steps) (loss=0.50897): 100%|██████████| 80/80 [02:48<00:00,  2.10s/it]\n",
      "Training (3599 / 18000 Steps) (loss=0.47783): 100%|██████████| 80/80 [01:45<00:00,  1.32s/it]\n",
      "Validate (3600 / 10 Steps): 100%|██████████| 18/18 [01:01<00:00,  3.43s/it]?, ?it/s]\n",
      "Training (3600 / 18000 Steps) (loss=0.58542):   1%|▏         | 1/80 [01:05<1:25:52, 65.23s/it]"
     ]
    },
    {
     "name": "stdout",
     "output_type": "stream",
     "text": [
      "Model Was Not Saved ! Current Best Avg. Dice: 0.5926940441131592 Current Avg. Dice: 0.565733015537262 Current Avg. tumor Dice: 0.6012737154960632 Current Avg. lymph Dice: 0.552502453327179\n"
     ]
    },
    {
     "name": "stderr",
     "output_type": "stream",
     "text": [
      "Training (3679 / 18000 Steps) (loss=0.32499): 100%|██████████| 80/80 [02:49<00:00,  2.11s/it] \n",
      "Validate (3680 / 10 Steps): 100%|██████████| 18/18 [01:02<00:00,  3.46s/it]<01:18,  1.31s/it]\n",
      "Training (3700 / 18000 Steps) (loss=0.52252):  26%|██▋       | 21/80 [01:32<19:40, 20.01s/it]"
     ]
    },
    {
     "name": "stdout",
     "output_type": "stream",
     "text": [
      "Model Was Not Saved ! Current Best Avg. Dice: 0.5926940441131592 Current Avg. Dice: 0.5821393728256226 Current Avg. tumor Dice: 0.605480968952179 Current Avg. lymph Dice: 0.5835083723068237\n"
     ]
    },
    {
     "name": "stderr",
     "output_type": "stream",
     "text": [
      "Training (3759 / 18000 Steps) (loss=0.50655): 100%|██████████| 80/80 [02:48<00:00,  2.11s/it]\n",
      "Validate (3760 / 10 Steps): 100%|██████████| 18/18 [01:02<00:00,  3.46s/it]<00:51,  1.28s/it]\n",
      "Training (3800 / 18000 Steps) (loss=0.55247):  51%|█████▏    | 41/80 [01:58<13:02, 20.08s/it]"
     ]
    },
    {
     "name": "stdout",
     "output_type": "stream",
     "text": [
      "Model Was Not Saved ! Current Best Avg. Dice: 0.5926940441131592 Current Avg. Dice: 0.5823197960853577 Current Avg. tumor Dice: 0.6048775315284729 Current Avg. lymph Dice: 0.5847498178482056\n"
     ]
    },
    {
     "name": "stderr",
     "output_type": "stream",
     "text": [
      "Training (3839 / 18000 Steps) (loss=0.48538): 100%|██████████| 80/80 [02:49<00:00,  2.12s/it]\n",
      "Validate (3840 / 10 Steps): 100%|██████████| 18/18 [01:02<00:00,  3.46s/it]<00:26,  1.31s/it]\n",
      "Training (3900 / 18000 Steps) (loss=0.58139):  76%|███████▋  | 61/80 [02:24<06:19, 19.99s/it]"
     ]
    },
    {
     "name": "stdout",
     "output_type": "stream",
     "text": [
      "Model Was Not Saved ! Current Best Avg. Dice: 0.5926940441131592 Current Avg. Dice: 0.5759764313697815 Current Avg. tumor Dice: 0.5848708152770996 Current Avg. lymph Dice: 0.5915694832801819\n"
     ]
    },
    {
     "name": "stderr",
     "output_type": "stream",
     "text": [
      "Training (3919 / 18000 Steps) (loss=0.43217): 100%|██████████| 80/80 [02:49<00:00,  2.12s/it]\n",
      "Training (3999 / 18000 Steps) (loss=0.54897): 100%|██████████| 80/80 [01:46<00:00,  1.33s/it]\n",
      "Validate (4000 / 10 Steps): 100%|██████████| 18/18 [01:02<00:00,  3.46s/it]?, ?it/s]\n",
      "Training (4000 / 18000 Steps) (loss=0.56873):   1%|▏         | 1/80 [01:05<1:26:50, 65.95s/it]"
     ]
    },
    {
     "name": "stdout",
     "output_type": "stream",
     "text": [
      "Model Was Not Saved ! Current Best Avg. Dice: 0.5926940441131592 Current Avg. Dice: 0.5806880593299866 Current Avg. tumor Dice: 0.6139516234397888 Current Avg. lymph Dice: 0.5687634944915771\n"
     ]
    },
    {
     "name": "stderr",
     "output_type": "stream",
     "text": [
      "Training (4079 / 18000 Steps) (loss=0.42503): 100%|██████████| 80/80 [02:48<00:00,  2.11s/it] \n",
      "Validate (4080 / 10 Steps): 100%|██████████| 18/18 [01:02<00:00,  3.45s/it]<01:17,  1.30s/it]\n",
      "Training (4100 / 18000 Steps) (loss=0.50134):  26%|██▋       | 21/80 [01:31<19:38, 19.97s/it]"
     ]
    },
    {
     "name": "stdout",
     "output_type": "stream",
     "text": [
      "Model Was Not Saved ! Current Best Avg. Dice: 0.5926940441131592 Current Avg. Dice: 0.5291361212730408 Current Avg. tumor Dice: 0.5270820260047913 Current Avg. lymph Dice: 0.5512311458587646\n"
     ]
    },
    {
     "name": "stderr",
     "output_type": "stream",
     "text": [
      "Training (4159 / 18000 Steps) (loss=0.40356): 100%|██████████| 80/80 [02:49<00:00,  2.11s/it]\n",
      "Validate (4160 / 10 Steps): 100%|██████████| 18/18 [01:02<00:00,  3.45s/it]<00:51,  1.28s/it]\n",
      "Training (4200 / 18000 Steps) (loss=0.39587):  51%|█████▏    | 41/80 [01:58<13:00, 20.01s/it]"
     ]
    },
    {
     "name": "stdout",
     "output_type": "stream",
     "text": [
      "Model Was Not Saved ! Current Best Avg. Dice: 0.5926940441131592 Current Avg. Dice: 0.5728503465652466 Current Avg. tumor Dice: 0.589512825012207 Current Avg. lymph Dice: 0.5750588774681091\n"
     ]
    },
    {
     "name": "stderr",
     "output_type": "stream",
     "text": [
      "Training (4239 / 18000 Steps) (loss=0.48963): 100%|██████████| 80/80 [02:49<00:00,  2.11s/it]\n",
      "Validate (4240 / 10 Steps): 100%|██████████| 18/18 [01:02<00:00,  3.45s/it]<00:25,  1.30s/it]\n",
      "Training (4300 / 18000 Steps) (loss=0.55511):  76%|███████▋  | 61/80 [02:25<06:23, 20.20s/it]"
     ]
    },
    {
     "name": "stdout",
     "output_type": "stream",
     "text": [
      "Model Was Saved ! Current Best Avg. Dice: 0.6032483577728271 Current Avg. Dice: 0.6032483577728271 Current Avg. tumor Dice: 0.6294444799423218 Current Avg. lymph Dice: 0.5934125781059265\n"
     ]
    },
    {
     "name": "stderr",
     "output_type": "stream",
     "text": [
      "Training (4319 / 18000 Steps) (loss=0.50669): 100%|██████████| 80/80 [02:50<00:00,  2.13s/it]\n",
      "Training (4399 / 18000 Steps) (loss=0.45528): 100%|██████████| 80/80 [01:46<00:00,  1.34s/it]\n",
      "Validate (4400 / 10 Steps): 100%|██████████| 18/18 [01:02<00:00,  3.46s/it]?, ?it/s]\n",
      "Training (4400 / 18000 Steps) (loss=0.43355):   1%|▏         | 1/80 [01:06<1:27:03, 66.12s/it]"
     ]
    },
    {
     "name": "stdout",
     "output_type": "stream",
     "text": [
      "Model Was Not Saved ! Current Best Avg. Dice: 0.6032483577728271 Current Avg. Dice: 0.5791155695915222 Current Avg. tumor Dice: 0.6002307534217834 Current Avg. lymph Dice: 0.5817380547523499\n"
     ]
    },
    {
     "name": "stderr",
     "output_type": "stream",
     "text": [
      "Training (4479 / 18000 Steps) (loss=0.46416): 100%|██████████| 80/80 [02:49<00:00,  2.12s/it] \n",
      "Validate (4480 / 10 Steps): 100%|██████████| 18/18 [01:01<00:00,  3.43s/it]<01:19,  1.33s/it]\n",
      "Training (4500 / 18000 Steps) (loss=0.45604):  26%|██▋       | 21/80 [01:31<19:30, 19.84s/it]"
     ]
    },
    {
     "name": "stdout",
     "output_type": "stream",
     "text": [
      "Model Was Not Saved ! Current Best Avg. Dice: 0.6032483577728271 Current Avg. Dice: 0.5757593512535095 Current Avg. tumor Dice: 0.598440408706665 Current Avg. lymph Dice: 0.5640453100204468\n"
     ]
    },
    {
     "name": "stderr",
     "output_type": "stream",
     "text": [
      "Training (4559 / 18000 Steps) (loss=0.48094): 100%|██████████| 80/80 [02:48<00:00,  2.10s/it]\n",
      "Validate (4560 / 10 Steps): 100%|██████████| 18/18 [01:01<00:00,  3.44s/it]<00:51,  1.28s/it]\n",
      "Training (4600 / 18000 Steps) (loss=0.50504):  51%|█████▏    | 41/80 [01:57<12:56, 19.90s/it]"
     ]
    },
    {
     "name": "stdout",
     "output_type": "stream",
     "text": [
      "Model Was Not Saved ! Current Best Avg. Dice: 0.6032483577728271 Current Avg. Dice: 0.5484958291053772 Current Avg. tumor Dice: 0.5884224772453308 Current Avg. lymph Dice: 0.5204146504402161\n"
     ]
    },
    {
     "name": "stderr",
     "output_type": "stream",
     "text": [
      "Training (4639 / 18000 Steps) (loss=0.40926): 100%|██████████| 80/80 [02:48<00:00,  2.10s/it]\n",
      "Validate (4640 / 10 Steps): 100%|██████████| 18/18 [01:01<00:00,  3.43s/it]<00:25,  1.30s/it]\n",
      "Training (4700 / 18000 Steps) (loss=0.43837):  76%|███████▋  | 61/80 [02:24<06:21, 20.08s/it]"
     ]
    },
    {
     "name": "stdout",
     "output_type": "stream",
     "text": [
      "Model Was Saved ! Current Best Avg. Dice: 0.605262279510498 Current Avg. Dice: 0.605262279510498 Current Avg. tumor Dice: 0.616715669631958 Current Avg. lymph Dice: 0.6135170459747314\n"
     ]
    },
    {
     "name": "stderr",
     "output_type": "stream",
     "text": [
      "Training (4719 / 18000 Steps) (loss=0.30861): 100%|██████████| 80/80 [02:49<00:00,  2.11s/it]\n",
      "Training (4799 / 18000 Steps) (loss=0.51241): 100%|██████████| 80/80 [01:46<00:00,  1.33s/it]\n",
      "Validate (4800 / 10 Steps): 100%|██████████| 18/18 [01:01<00:00,  3.42s/it]?, ?it/s]\n",
      "Training (4800 / 18000 Steps) (loss=0.56961):   1%|▏         | 1/80 [01:05<1:25:52, 65.22s/it]"
     ]
    },
    {
     "name": "stdout",
     "output_type": "stream",
     "text": [
      "Model Was Not Saved ! Current Best Avg. Dice: 0.605262279510498 Current Avg. Dice: 0.599920392036438 Current Avg. tumor Dice: 0.6373259425163269 Current Avg. lymph Dice: 0.5895878076553345\n"
     ]
    },
    {
     "name": "stderr",
     "output_type": "stream",
     "text": [
      "Training (4879 / 18000 Steps) (loss=0.57088): 100%|██████████| 80/80 [02:48<00:00,  2.11s/it] \n",
      "Validate (4880 / 10 Steps): 100%|██████████| 18/18 [01:01<00:00,  3.43s/it]<01:17,  1.29s/it]\n",
      "Training (4900 / 18000 Steps) (loss=0.50753):  26%|██▋       | 21/80 [01:32<19:43, 20.07s/it]"
     ]
    },
    {
     "name": "stdout",
     "output_type": "stream",
     "text": [
      "Model Was Saved ! Current Best Avg. Dice: 0.609442949295044 Current Avg. Dice: 0.609442949295044 Current Avg. tumor Dice: 0.6348329782485962 Current Avg. lymph Dice: 0.6011087894439697\n"
     ]
    },
    {
     "name": "stderr",
     "output_type": "stream",
     "text": [
      "Training (4959 / 18000 Steps) (loss=0.49942): 100%|██████████| 80/80 [02:49<00:00,  2.12s/it]\n",
      "Validate (4960 / 10 Steps): 100%|██████████| 18/18 [01:02<00:00,  3.45s/it]<00:51,  1.29s/it]\n",
      "Training (5000 / 18000 Steps) (loss=0.55990):  51%|█████▏    | 41/80 [01:58<12:59, 20.00s/it]"
     ]
    },
    {
     "name": "stdout",
     "output_type": "stream",
     "text": [
      "Model Was Not Saved ! Current Best Avg. Dice: 0.609442949295044 Current Avg. Dice: 0.5865588784217834 Current Avg. tumor Dice: 0.6172549724578857 Current Avg. lymph Dice: 0.5762136578559875\n"
     ]
    },
    {
     "name": "stderr",
     "output_type": "stream",
     "text": [
      "Training (5039 / 18000 Steps) (loss=0.41726): 100%|██████████| 80/80 [02:49<00:00,  2.12s/it]\n",
      "Validate (5040 / 10 Steps): 100%|██████████| 18/18 [01:01<00:00,  3.44s/it]<00:26,  1.32s/it]\n",
      "Training (5100 / 18000 Steps) (loss=0.55123):  76%|███████▋  | 61/80 [02:24<06:17, 19.88s/it]"
     ]
    },
    {
     "name": "stdout",
     "output_type": "stream",
     "text": [
      "Model Was Not Saved ! Current Best Avg. Dice: 0.609442949295044 Current Avg. Dice: 0.6054338812828064 Current Avg. tumor Dice: 0.6236124038696289 Current Avg. lymph Dice: 0.6085511445999146\n"
     ]
    },
    {
     "name": "stderr",
     "output_type": "stream",
     "text": [
      "Training (5119 / 18000 Steps) (loss=0.30936): 100%|██████████| 80/80 [02:48<00:00,  2.11s/it]\n",
      "Training (5199 / 18000 Steps) (loss=0.52310): 100%|██████████| 80/80 [01:46<00:00,  1.33s/it]\n",
      "Validate (5200 / 10 Steps): 100%|██████████| 18/18 [01:02<00:00,  3.45s/it]?, ?it/s]\n",
      "Training (5200 / 18000 Steps) (loss=0.30797):   1%|▏         | 1/80 [01:06<1:27:33, 66.50s/it]"
     ]
    },
    {
     "name": "stdout",
     "output_type": "stream",
     "text": [
      "Model Was Saved ! Current Best Avg. Dice: 0.6171988248825073 Current Avg. Dice: 0.6171988248825073 Current Avg. tumor Dice: 0.638677716255188 Current Avg. lymph Dice: 0.6176332831382751\n"
     ]
    },
    {
     "name": "stderr",
     "output_type": "stream",
     "text": [
      "Training (5279 / 18000 Steps) (loss=0.69094): 100%|██████████| 80/80 [02:49<00:00,  2.12s/it] \n",
      "Validate (5280 / 10 Steps): 100%|██████████| 18/18 [01:02<00:00,  3.45s/it]<01:19,  1.32s/it]\n",
      "Training (5300 / 18000 Steps) (loss=0.57784):  26%|██▋       | 21/80 [01:31<19:37, 19.96s/it]"
     ]
    },
    {
     "name": "stdout",
     "output_type": "stream",
     "text": [
      "Model Was Not Saved ! Current Best Avg. Dice: 0.6171988248825073 Current Avg. Dice: 0.6076892018318176 Current Avg. tumor Dice: 0.6364497542381287 Current Avg. lymph Dice: 0.5991089344024658\n"
     ]
    },
    {
     "name": "stderr",
     "output_type": "stream",
     "text": [
      "Training (5359 / 18000 Steps) (loss=0.47683): 100%|██████████| 80/80 [02:49<00:00,  2.12s/it]\n",
      "Validate (5360 / 10 Steps): 100%|██████████| 18/18 [01:02<00:00,  3.45s/it]<00:51,  1.28s/it]\n",
      "Training (5400 / 18000 Steps) (loss=0.46082):  51%|█████▏    | 41/80 [01:57<12:57, 19.92s/it]"
     ]
    },
    {
     "name": "stdout",
     "output_type": "stream",
     "text": [
      "Model Was Not Saved ! Current Best Avg. Dice: 0.6171988248825073 Current Avg. Dice: 0.6002598404884338 Current Avg. tumor Dice: 0.6382617950439453 Current Avg. lymph Dice: 0.5776739120483398\n"
     ]
    },
    {
     "name": "stderr",
     "output_type": "stream",
     "text": [
      "Training (5439 / 18000 Steps) (loss=0.55831): 100%|██████████| 80/80 [02:48<00:00,  2.11s/it]\n",
      "Validate (5440 / 10 Steps): 100%|██████████| 18/18 [01:02<00:00,  3.45s/it]<00:26,  1.31s/it]\n",
      "Training (5500 / 18000 Steps) (loss=0.37531):  76%|███████▋  | 61/80 [02:23<06:18, 19.93s/it]"
     ]
    },
    {
     "name": "stdout",
     "output_type": "stream",
     "text": [
      "Model Was Not Saved ! Current Best Avg. Dice: 0.6171988248825073 Current Avg. Dice: 0.611521303653717 Current Avg. tumor Dice: 0.6321356296539307 Current Avg. lymph Dice: 0.6164542436599731\n"
     ]
    },
    {
     "name": "stderr",
     "output_type": "stream",
     "text": [
      "Training (5519 / 18000 Steps) (loss=0.27114): 100%|██████████| 80/80 [02:48<00:00,  2.11s/it]\n",
      "Training (5599 / 18000 Steps) (loss=0.38984): 100%|██████████| 80/80 [01:46<00:00,  1.34s/it]\n",
      "Validate (5600 / 10 Steps): 100%|██████████| 18/18 [01:02<00:00,  3.45s/it]?, ?it/s]\n",
      "Training (5600 / 18000 Steps) (loss=0.48010):   1%|▏         | 1/80 [01:05<1:26:43, 65.87s/it]"
     ]
    },
    {
     "name": "stdout",
     "output_type": "stream",
     "text": [
      "Model Was Not Saved ! Current Best Avg. Dice: 0.6171988248825073 Current Avg. Dice: 0.6081050038337708 Current Avg. tumor Dice: 0.6319464445114136 Current Avg. lymph Dice: 0.6029574275016785\n"
     ]
    },
    {
     "name": "stderr",
     "output_type": "stream",
     "text": [
      "Training (5679 / 18000 Steps) (loss=0.52388): 100%|██████████| 80/80 [02:48<00:00,  2.11s/it] \n",
      "Validate (5680 / 10 Steps): 100%|██████████| 18/18 [01:01<00:00,  3.43s/it]<01:17,  1.30s/it]\n",
      "Training (5700 / 18000 Steps) (loss=0.58183):  26%|██▋       | 21/80 [01:31<19:31, 19.86s/it]"
     ]
    },
    {
     "name": "stdout",
     "output_type": "stream",
     "text": [
      "Model Was Not Saved ! Current Best Avg. Dice: 0.6171988248825073 Current Avg. Dice: 0.6146526336669922 Current Avg. tumor Dice: 0.6400511860847473 Current Avg. lymph Dice: 0.6107131242752075\n"
     ]
    },
    {
     "name": "stderr",
     "output_type": "stream",
     "text": [
      "Training (5759 / 18000 Steps) (loss=0.50423): 100%|██████████| 80/80 [02:48<00:00,  2.11s/it]\n",
      "Validate (5760 / 10 Steps): 100%|██████████| 18/18 [01:02<00:00,  3.45s/it]<00:51,  1.28s/it]\n",
      "Training (5800 / 18000 Steps) (loss=0.38651):  51%|█████▏    | 41/80 [01:57<12:57, 19.94s/it]"
     ]
    },
    {
     "name": "stdout",
     "output_type": "stream",
     "text": [
      "Model Was Not Saved ! Current Best Avg. Dice: 0.6171988248825073 Current Avg. Dice: 0.5936193466186523 Current Avg. tumor Dice: 0.6079943776130676 Current Avg. lymph Dice: 0.6035818457603455\n"
     ]
    },
    {
     "name": "stderr",
     "output_type": "stream",
     "text": [
      "Training (5839 / 18000 Steps) (loss=0.57363): 100%|██████████| 80/80 [02:48<00:00,  2.11s/it]\n",
      "Validate (5840 / 10 Steps): 100%|██████████| 18/18 [01:02<00:00,  3.45s/it]<00:26,  1.31s/it]\n",
      "Training (5900 / 18000 Steps) (loss=0.61324):  76%|███████▋  | 61/80 [02:24<06:18, 19.94s/it]"
     ]
    },
    {
     "name": "stdout",
     "output_type": "stream",
     "text": [
      "Model Was Not Saved ! Current Best Avg. Dice: 0.6171988248825073 Current Avg. Dice: 0.5977544784545898 Current Avg. tumor Dice: 0.624146580696106 Current Avg. lymph Dice: 0.589859664440155\n"
     ]
    },
    {
     "name": "stderr",
     "output_type": "stream",
     "text": [
      "Training (5919 / 18000 Steps) (loss=0.51403): 100%|██████████| 80/80 [02:48<00:00,  2.11s/it]\n",
      "Training (5999 / 18000 Steps) (loss=0.36114): 100%|██████████| 80/80 [01:46<00:00,  1.33s/it]\n",
      "Validate (6000 / 10 Steps): 100%|██████████| 18/18 [01:02<00:00,  3.45s/it]?, ?it/s]\n",
      "Training (6000 / 18000 Steps) (loss=0.58217):   1%|▏         | 1/80 [01:05<1:26:53, 65.99s/it]"
     ]
    },
    {
     "name": "stdout",
     "output_type": "stream",
     "text": [
      "Model Was Not Saved ! Current Best Avg. Dice: 0.6171988248825073 Current Avg. Dice: 0.6116478443145752 Current Avg. tumor Dice: 0.6295864582061768 Current Avg. lymph Dice: 0.6134951114654541\n"
     ]
    },
    {
     "name": "stderr",
     "output_type": "stream",
     "text": [
      "Training (6079 / 18000 Steps) (loss=0.33668): 100%|██████████| 80/80 [02:48<00:00,  2.11s/it] \n",
      "Validate (6080 / 10 Steps): 100%|██████████| 18/18 [01:01<00:00,  3.44s/it]<01:18,  1.31s/it]\n",
      "Training (6100 / 18000 Steps) (loss=0.40345):  26%|██▋       | 21/80 [01:32<19:47, 20.13s/it]"
     ]
    },
    {
     "name": "stdout",
     "output_type": "stream",
     "text": [
      "Model Was Saved ! Current Best Avg. Dice: 0.6190834045410156 Current Avg. Dice: 0.6190834045410156 Current Avg. tumor Dice: 0.6432172060012817 Current Avg. lymph Dice: 0.6244836449623108\n"
     ]
    },
    {
     "name": "stderr",
     "output_type": "stream",
     "text": [
      "Training (6159 / 18000 Steps) (loss=0.52780): 100%|██████████| 80/80 [02:49<00:00,  2.11s/it]\n",
      "Validate (6160 / 10 Steps): 100%|██████████| 18/18 [01:02<00:00,  3.44s/it]<00:51,  1.29s/it]\n",
      "Training (6200 / 18000 Steps) (loss=0.40482):  51%|█████▏    | 41/80 [01:57<12:57, 19.94s/it]"
     ]
    },
    {
     "name": "stdout",
     "output_type": "stream",
     "text": [
      "Model Was Not Saved ! Current Best Avg. Dice: 0.6190834045410156 Current Avg. Dice: 0.6035921573638916 Current Avg. tumor Dice: 0.6327506899833679 Current Avg. lymph Dice: 0.5948740839958191\n"
     ]
    },
    {
     "name": "stderr",
     "output_type": "stream",
     "text": [
      "Training (6239 / 18000 Steps) (loss=0.46628): 100%|██████████| 80/80 [02:48<00:00,  2.11s/it]\n",
      "Validate (6240 / 10 Steps): 100%|██████████| 18/18 [01:02<00:00,  3.45s/it]<00:25,  1.30s/it]\n",
      "Training (6300 / 18000 Steps) (loss=0.50822):  76%|███████▋  | 61/80 [02:23<06:18, 19.94s/it]"
     ]
    },
    {
     "name": "stdout",
     "output_type": "stream",
     "text": [
      "Model Was Not Saved ! Current Best Avg. Dice: 0.6190834045410156 Current Avg. Dice: 0.6147832870483398 Current Avg. tumor Dice: 0.6369282603263855 Current Avg. lymph Dice: 0.6141328811645508\n"
     ]
    },
    {
     "name": "stderr",
     "output_type": "stream",
     "text": [
      "Training (6319 / 18000 Steps) (loss=0.44828): 100%|██████████| 80/80 [02:48<00:00,  2.11s/it]\n",
      "Training (6399 / 18000 Steps) (loss=0.52294): 100%|██████████| 80/80 [01:46<00:00,  1.33s/it]\n",
      "Validate (6400 / 10 Steps): 100%|██████████| 18/18 [01:01<00:00,  3.41s/it]?, ?it/s]\n",
      "Training (6400 / 18000 Steps) (loss=0.58043):   1%|▏         | 1/80 [01:05<1:25:35, 65.01s/it]"
     ]
    },
    {
     "name": "stdout",
     "output_type": "stream",
     "text": [
      "Model Was Not Saved ! Current Best Avg. Dice: 0.6190834045410156 Current Avg. Dice: 0.5893760919570923 Current Avg. tumor Dice: 0.6088076829910278 Current Avg. lymph Dice: 0.5901686549186707\n"
     ]
    },
    {
     "name": "stderr",
     "output_type": "stream",
     "text": [
      "Training (6479 / 18000 Steps) (loss=0.56785): 100%|██████████| 80/80 [02:47<00:00,  2.09s/it] \n",
      "Validate (6480 / 10 Steps): 100%|██████████| 18/18 [01:01<00:00,  3.42s/it]<01:17,  1.29s/it]\n",
      "Training (6500 / 18000 Steps) (loss=0.49850):  26%|██▋       | 21/80 [01:30<19:25, 19.75s/it]"
     ]
    },
    {
     "name": "stdout",
     "output_type": "stream",
     "text": [
      "Model Was Not Saved ! Current Best Avg. Dice: 0.6190834045410156 Current Avg. Dice: 0.6120960712432861 Current Avg. tumor Dice: 0.6388394236564636 Current Avg. lymph Dice: 0.6100465655326843\n"
     ]
    },
    {
     "name": "stderr",
     "output_type": "stream",
     "text": [
      "Training (6559 / 18000 Steps) (loss=0.56359): 100%|██████████| 80/80 [02:47<00:00,  2.10s/it]\n",
      "Validate (6560 / 10 Steps): 100%|██████████| 18/18 [01:01<00:00,  3.42s/it]<00:51,  1.28s/it]\n",
      "Training (6600 / 18000 Steps) (loss=0.36941):  51%|█████▏    | 41/80 [01:57<12:52, 19.81s/it]"
     ]
    },
    {
     "name": "stdout",
     "output_type": "stream",
     "text": [
      "Model Was Not Saved ! Current Best Avg. Dice: 0.6190834045410156 Current Avg. Dice: 0.5940831899642944 Current Avg. tumor Dice: 0.6125993132591248 Current Avg. lymph Dice: 0.601104199886322\n"
     ]
    },
    {
     "name": "stderr",
     "output_type": "stream",
     "text": [
      "Training (6639 / 18000 Steps) (loss=0.57265): 100%|██████████| 80/80 [02:47<00:00,  2.10s/it]\n",
      "Validate (6640 / 10 Steps): 100%|██████████| 18/18 [01:01<00:00,  3.42s/it]<00:25,  1.28s/it]\n",
      "Training (6700 / 18000 Steps) (loss=0.34866):  76%|███████▋  | 61/80 [02:22<06:15, 19.77s/it]"
     ]
    },
    {
     "name": "stdout",
     "output_type": "stream",
     "text": [
      "Model Was Not Saved ! Current Best Avg. Dice: 0.6190834045410156 Current Avg. Dice: 0.5946998596191406 Current Avg. tumor Dice: 0.6259298324584961 Current Avg. lymph Dice: 0.5856109261512756\n"
     ]
    },
    {
     "name": "stderr",
     "output_type": "stream",
     "text": [
      "Training (6719 / 18000 Steps) (loss=0.54431): 100%|██████████| 80/80 [02:46<00:00,  2.09s/it]\n",
      "Training (6799 / 18000 Steps) (loss=0.39626): 100%|██████████| 80/80 [01:45<00:00,  1.32s/it]\n",
      "Validate (6800 / 10 Steps): 100%|██████████| 18/18 [01:01<00:00,  3.44s/it]?, ?it/s]\n",
      "Training (6800 / 18000 Steps) (loss=0.54233):   1%|▏         | 1/80 [01:05<1:26:45, 65.89s/it]"
     ]
    },
    {
     "name": "stdout",
     "output_type": "stream",
     "text": [
      "Model Was Not Saved ! Current Best Avg. Dice: 0.6190834045410156 Current Avg. Dice: 0.6009325385093689 Current Avg. tumor Dice: 0.6173617839813232 Current Avg. lymph Dice: 0.6068165898323059\n"
     ]
    },
    {
     "name": "stderr",
     "output_type": "stream",
     "text": [
      "Training (6879 / 18000 Steps) (loss=0.50559): 100%|██████████| 80/80 [02:47<00:00,  2.10s/it] \n",
      "Validate (6880 / 10 Steps): 100%|██████████| 18/18 [01:01<00:00,  3.41s/it]<01:20,  1.34s/it]\n",
      "Training (6900 / 18000 Steps) (loss=0.45636):  26%|██▋       | 21/80 [01:31<19:39, 19.99s/it]"
     ]
    },
    {
     "name": "stdout",
     "output_type": "stream",
     "text": [
      "Model Was Saved ! Current Best Avg. Dice: 0.622382640838623 Current Avg. Dice: 0.622382640838623 Current Avg. tumor Dice: 0.6506226658821106 Current Avg. lymph Dice: 0.6153459548950195\n"
     ]
    },
    {
     "name": "stderr",
     "output_type": "stream",
     "text": [
      "Training (6959 / 18000 Steps) (loss=0.53959): 100%|██████████| 80/80 [02:48<00:00,  2.11s/it]\n",
      "Validate (6960 / 10 Steps): 100%|██████████| 18/18 [01:01<00:00,  3.41s/it]<00:50,  1.27s/it]\n",
      "Training (7000 / 18000 Steps) (loss=0.36299):  51%|█████▏    | 41/80 [01:56<12:47, 19.69s/it]"
     ]
    },
    {
     "name": "stdout",
     "output_type": "stream",
     "text": [
      "Model Was Not Saved ! Current Best Avg. Dice: 0.622382640838623 Current Avg. Dice: 0.6112234592437744 Current Avg. tumor Dice: 0.6349942088127136 Current Avg. lymph Dice: 0.6092723608016968\n"
     ]
    },
    {
     "name": "stderr",
     "output_type": "stream",
     "text": [
      "Training (7039 / 18000 Steps) (loss=0.55044): 100%|██████████| 80/80 [02:46<00:00,  2.09s/it]\n",
      "Validate (7040 / 10 Steps): 100%|██████████| 18/18 [01:01<00:00,  3.43s/it]<00:25,  1.29s/it]\n",
      "Training (7100 / 18000 Steps) (loss=0.55948):  76%|███████▋  | 61/80 [02:24<06:20, 20.03s/it]"
     ]
    },
    {
     "name": "stdout",
     "output_type": "stream",
     "text": [
      "Model Was Saved ! Current Best Avg. Dice: 0.6229268312454224 Current Avg. Dice: 0.6229268312454224 Current Avg. tumor Dice: 0.6550464630126953 Current Avg. lymph Dice: 0.6133208274841309\n"
     ]
    },
    {
     "name": "stderr",
     "output_type": "stream",
     "text": [
      "Training (7119 / 18000 Steps) (loss=0.45447): 100%|██████████| 80/80 [02:48<00:00,  2.11s/it]\n",
      "Training (7199 / 18000 Steps) (loss=0.54323): 100%|██████████| 80/80 [01:46<00:00,  1.33s/it]\n",
      "Validate (7200 / 10 Steps): 100%|██████████| 18/18 [01:02<00:00,  3.45s/it]?, ?it/s]\n",
      "Training (7200 / 18000 Steps) (loss=0.40466):   1%|▏         | 1/80 [01:05<1:26:38, 65.81s/it]"
     ]
    },
    {
     "name": "stdout",
     "output_type": "stream",
     "text": [
      "Model Was Not Saved ! Current Best Avg. Dice: 0.6229268312454224 Current Avg. Dice: 0.6058006286621094 Current Avg. tumor Dice: 0.631779134273529 Current Avg. lymph Dice: 0.6039794087409973\n"
     ]
    },
    {
     "name": "stderr",
     "output_type": "stream",
     "text": [
      "Training (7279 / 18000 Steps) (loss=0.38720): 100%|██████████| 80/80 [02:48<00:00,  2.11s/it] \n",
      "Validate (7280 / 10 Steps): 100%|██████████| 18/18 [01:02<00:00,  3.46s/it]<01:19,  1.32s/it]\n",
      "Training (7300 / 18000 Steps) (loss=0.48927):  26%|██▋       | 21/80 [01:31<19:41, 20.02s/it]"
     ]
    },
    {
     "name": "stdout",
     "output_type": "stream",
     "text": [
      "Model Was Not Saved ! Current Best Avg. Dice: 0.6229268312454224 Current Avg. Dice: 0.6121565699577332 Current Avg. tumor Dice: 0.6402119994163513 Current Avg. lymph Dice: 0.6072190999984741\n"
     ]
    },
    {
     "name": "stderr",
     "output_type": "stream",
     "text": [
      "Training (7359 / 18000 Steps) (loss=0.49119): 100%|██████████| 80/80 [02:48<00:00,  2.11s/it]\n",
      "Validate (7360 / 10 Steps): 100%|██████████| 18/18 [01:02<00:00,  3.45s/it]<00:51,  1.29s/it]\n",
      "Training (7400 / 18000 Steps) (loss=0.39803):  51%|█████▏    | 41/80 [01:58<12:58, 19.96s/it]"
     ]
    },
    {
     "name": "stdout",
     "output_type": "stream",
     "text": [
      "Model Was Not Saved ! Current Best Avg. Dice: 0.6229268312454224 Current Avg. Dice: 0.6087828278541565 Current Avg. tumor Dice: 0.6457484364509583 Current Avg. lymph Dice: 0.5917245149612427\n"
     ]
    },
    {
     "name": "stderr",
     "output_type": "stream",
     "text": [
      "Training (7439 / 18000 Steps) (loss=0.51320): 100%|██████████| 80/80 [02:49<00:00,  2.12s/it]\n",
      "Validate (7440 / 10 Steps): 100%|██████████| 18/18 [01:02<00:00,  3.45s/it]<00:26,  1.31s/it]\n",
      "Training (7500 / 18000 Steps) (loss=0.43219):  76%|███████▋  | 61/80 [02:24<06:18, 19.92s/it]"
     ]
    },
    {
     "name": "stdout",
     "output_type": "stream",
     "text": [
      "Model Was Not Saved ! Current Best Avg. Dice: 0.6229268312454224 Current Avg. Dice: 0.6183715462684631 Current Avg. tumor Dice: 0.6486184000968933 Current Avg. lymph Dice: 0.6095197796821594\n"
     ]
    },
    {
     "name": "stderr",
     "output_type": "stream",
     "text": [
      "Training (7519 / 18000 Steps) (loss=0.32887): 100%|██████████| 80/80 [02:48<00:00,  2.11s/it]\n",
      "Training (7599 / 18000 Steps) (loss=0.39074): 100%|██████████| 80/80 [01:46<00:00,  1.33s/it]\n",
      "Validate (7600 / 10 Steps): 100%|██████████| 18/18 [01:02<00:00,  3.45s/it]?, ?it/s]\n",
      "Training (7600 / 18000 Steps) (loss=0.49090):   1%|▏         | 1/80 [01:05<1:26:36, 65.78s/it]"
     ]
    },
    {
     "name": "stdout",
     "output_type": "stream",
     "text": [
      "Model Was Not Saved ! Current Best Avg. Dice: 0.6229268312454224 Current Avg. Dice: 0.622909665107727 Current Avg. tumor Dice: 0.6435459852218628 Current Avg. lymph Dice: 0.62338787317276\n"
     ]
    },
    {
     "name": "stderr",
     "output_type": "stream",
     "text": [
      "Training (7679 / 18000 Steps) (loss=0.52749): 100%|██████████| 80/80 [02:49<00:00,  2.11s/it] \n",
      "Validate (7680 / 10 Steps): 100%|██████████| 18/18 [01:02<00:00,  3.47s/it]<01:17,  1.29s/it]\n",
      "Training (7700 / 18000 Steps) (loss=0.60959):  26%|██▋       | 21/80 [01:32<19:43, 20.06s/it]"
     ]
    },
    {
     "name": "stdout",
     "output_type": "stream",
     "text": [
      "Model Was Not Saved ! Current Best Avg. Dice: 0.6229268312454224 Current Avg. Dice: 0.5953043699264526 Current Avg. tumor Dice: 0.6124730706214905 Current Avg. lymph Dice: 0.59884113073349\n"
     ]
    },
    {
     "name": "stderr",
     "output_type": "stream",
     "text": [
      "Training (7759 / 18000 Steps) (loss=0.50485): 100%|██████████| 80/80 [02:48<00:00,  2.11s/it]\n",
      "Validate (7760 / 10 Steps): 100%|██████████| 18/18 [01:02<00:00,  3.45s/it]<00:51,  1.29s/it]\n",
      "Training (7800 / 18000 Steps) (loss=0.40799):  51%|█████▏    | 41/80 [01:58<12:58, 19.96s/it]"
     ]
    },
    {
     "name": "stdout",
     "output_type": "stream",
     "text": [
      "Model Was Not Saved ! Current Best Avg. Dice: 0.6229268312454224 Current Avg. Dice: 0.6225903034210205 Current Avg. tumor Dice: 0.6457083821296692 Current Avg. lymph Dice: 0.6223083138465881\n"
     ]
    },
    {
     "name": "stderr",
     "output_type": "stream",
     "text": [
      "Training (7839 / 18000 Steps) (loss=0.39726): 100%|██████████| 80/80 [02:49<00:00,  2.11s/it]\n",
      "Validate (7840 / 10 Steps): 100%|██████████| 18/18 [01:01<00:00,  3.44s/it]<00:25,  1.29s/it]\n",
      "Training (7900 / 18000 Steps) (loss=0.47807):  76%|███████▋  | 61/80 [02:23<06:17, 19.86s/it]"
     ]
    },
    {
     "name": "stdout",
     "output_type": "stream",
     "text": [
      "Model Was Not Saved ! Current Best Avg. Dice: 0.6229268312454224 Current Avg. Dice: 0.6143646836280823 Current Avg. tumor Dice: 0.6448616981506348 Current Avg. lymph Dice: 0.6075491309165955\n"
     ]
    },
    {
     "name": "stderr",
     "output_type": "stream",
     "text": [
      "Training (7919 / 18000 Steps) (loss=0.57182): 100%|██████████| 80/80 [02:48<00:00,  2.10s/it]\n",
      "Training (7999 / 18000 Steps) (loss=0.40574): 100%|██████████| 80/80 [01:46<00:00,  1.34s/it]\n",
      "Validate (8000 / 10 Steps): 100%|██████████| 18/18 [01:01<00:00,  3.44s/it]?, ?it/s]\n",
      "Training (8000 / 18000 Steps) (loss=0.47828):   1%|▏         | 1/80 [01:05<1:26:05, 65.38s/it]"
     ]
    },
    {
     "name": "stdout",
     "output_type": "stream",
     "text": [
      "Model Was Not Saved ! Current Best Avg. Dice: 0.6229268312454224 Current Avg. Dice: 0.6079878807067871 Current Avg. tumor Dice: 0.6393149495124817 Current Avg. lymph Dice: 0.6011108160018921\n"
     ]
    },
    {
     "name": "stderr",
     "output_type": "stream",
     "text": [
      "Training (8079 / 18000 Steps) (loss=0.48198): 100%|██████████| 80/80 [02:48<00:00,  2.11s/it] \n",
      "Validate (8080 / 10 Steps): 100%|██████████| 18/18 [01:02<00:00,  3.45s/it]<01:17,  1.30s/it]\n",
      "Training (8100 / 18000 Steps) (loss=0.36198):  26%|██▋       | 21/80 [01:31<19:35, 19.93s/it]"
     ]
    },
    {
     "name": "stdout",
     "output_type": "stream",
     "text": [
      "Model Was Not Saved ! Current Best Avg. Dice: 0.6229268312454224 Current Avg. Dice: 0.5984579920768738 Current Avg. tumor Dice: 0.6145550608634949 Current Avg. lymph Dice: 0.6058757901191711\n"
     ]
    },
    {
     "name": "stderr",
     "output_type": "stream",
     "text": [
      "Training (8159 / 18000 Steps) (loss=0.52575): 100%|██████████| 80/80 [02:48<00:00,  2.11s/it]\n",
      "Validate (8160 / 10 Steps): 100%|██████████| 18/18 [01:02<00:00,  3.45s/it]<00:51,  1.29s/it]\n",
      "Training (8200 / 18000 Steps) (loss=0.50786):  51%|█████▏    | 41/80 [01:57<12:59, 19.98s/it]"
     ]
    },
    {
     "name": "stdout",
     "output_type": "stream",
     "text": [
      "Model Was Not Saved ! Current Best Avg. Dice: 0.6229268312454224 Current Avg. Dice: 0.5918261408805847 Current Avg. tumor Dice: 0.6118245720863342 Current Avg. lymph Dice: 0.5968384146690369\n"
     ]
    },
    {
     "name": "stderr",
     "output_type": "stream",
     "text": [
      "Training (8239 / 18000 Steps) (loss=0.36543): 100%|██████████| 80/80 [02:48<00:00,  2.11s/it]\n",
      "Validate (8240 / 10 Steps): 100%|██████████| 18/18 [01:02<00:00,  3.46s/it]<00:26,  1.31s/it]\n",
      "Training (8300 / 18000 Steps) (loss=0.25513):  76%|███████▋  | 61/80 [02:24<06:20, 20.00s/it]"
     ]
    },
    {
     "name": "stdout",
     "output_type": "stream",
     "text": [
      "Model Was Not Saved ! Current Best Avg. Dice: 0.6229268312454224 Current Avg. Dice: 0.6074503660202026 Current Avg. tumor Dice: 0.6319664716720581 Current Avg. lymph Dice: 0.6039643883705139\n"
     ]
    },
    {
     "name": "stderr",
     "output_type": "stream",
     "text": [
      "Training (8319 / 18000 Steps) (loss=0.57515): 100%|██████████| 80/80 [02:49<00:00,  2.11s/it]\n",
      "Training (8399 / 18000 Steps) (loss=0.49686): 100%|██████████| 80/80 [01:47<00:00,  1.34s/it]\n",
      "Validate (8400 / 10 Steps): 100%|██████████| 18/18 [01:02<00:00,  3.45s/it]?, ?it/s]\n",
      "Training (8400 / 18000 Steps) (loss=0.57908):   1%|▏         | 1/80 [01:06<1:27:19, 66.32s/it]"
     ]
    },
    {
     "name": "stdout",
     "output_type": "stream",
     "text": [
      "Model Was Saved ! Current Best Avg. Dice: 0.6250669360160828 Current Avg. Dice: 0.6250669360160828 Current Avg. tumor Dice: 0.6462003588676453 Current Avg. lymph Dice: 0.6267181038856506\n"
     ]
    },
    {
     "name": "stderr",
     "output_type": "stream",
     "text": [
      "Training (8479 / 18000 Steps) (loss=0.54549): 100%|██████████| 80/80 [02:50<00:00,  2.13s/it] \n",
      "Validate (8480 / 10 Steps): 100%|██████████| 18/18 [01:02<00:00,  3.45s/it]<01:19,  1.32s/it]\n",
      "Training (8500 / 18000 Steps) (loss=0.43017):  26%|██▋       | 21/80 [01:32<19:52, 20.21s/it]"
     ]
    },
    {
     "name": "stdout",
     "output_type": "stream",
     "text": [
      "Model Was Saved ! Current Best Avg. Dice: 0.6309344172477722 Current Avg. Dice: 0.6309344172477722 Current Avg. tumor Dice: 0.6649366021156311 Current Avg. lymph Dice: 0.6212173700332642\n"
     ]
    },
    {
     "name": "stderr",
     "output_type": "stream",
     "text": [
      "Training (8559 / 18000 Steps) (loss=0.49464): 100%|██████████| 80/80 [02:49<00:00,  2.12s/it]\n",
      "Validate (8560 / 10 Steps): 100%|██████████| 18/18 [01:02<00:00,  3.46s/it]<00:51,  1.29s/it]\n",
      "Training (8600 / 18000 Steps) (loss=0.46882):  51%|█████▏    | 41/80 [01:57<13:00, 20.00s/it]"
     ]
    },
    {
     "name": "stdout",
     "output_type": "stream",
     "text": [
      "Model Was Not Saved ! Current Best Avg. Dice: 0.6309344172477722 Current Avg. Dice: 0.6149086356163025 Current Avg. tumor Dice: 0.6372588276863098 Current Avg. lymph Dice: 0.6138277649879456\n"
     ]
    },
    {
     "name": "stderr",
     "output_type": "stream",
     "text": [
      "Training (8639 / 18000 Steps) (loss=0.54617): 100%|██████████| 80/80 [02:49<00:00,  2.11s/it]\n",
      "Validate (8640 / 10 Steps): 100%|██████████| 18/18 [01:02<00:00,  3.45s/it]<00:26,  1.34s/it]\n",
      "Training (8700 / 18000 Steps) (loss=0.48260):  76%|███████▋  | 61/80 [02:24<06:19, 19.99s/it]"
     ]
    },
    {
     "name": "stdout",
     "output_type": "stream",
     "text": [
      "Model Was Not Saved ! Current Best Avg. Dice: 0.6309344172477722 Current Avg. Dice: 0.6149380207061768 Current Avg. tumor Dice: 0.6483786702156067 Current Avg. lymph Dice: 0.5997362732887268\n"
     ]
    },
    {
     "name": "stderr",
     "output_type": "stream",
     "text": [
      "Training (8719 / 18000 Steps) (loss=0.42364): 100%|██████████| 80/80 [02:49<00:00,  2.11s/it]\n",
      "Training (8799 / 18000 Steps) (loss=0.42249): 100%|██████████| 80/80 [01:46<00:00,  1.33s/it]\n",
      "Validate (8800 / 10 Steps): 100%|██████████| 18/18 [01:02<00:00,  3.45s/it]?, ?it/s]\n",
      "Training (8800 / 18000 Steps) (loss=0.53823):   1%|▏         | 1/80 [01:05<1:26:32, 65.73s/it]"
     ]
    },
    {
     "name": "stdout",
     "output_type": "stream",
     "text": [
      "Model Was Not Saved ! Current Best Avg. Dice: 0.6309344172477722 Current Avg. Dice: 0.6003955006599426 Current Avg. tumor Dice: 0.6360614895820618 Current Avg. lymph Dice: 0.5838201642036438\n"
     ]
    },
    {
     "name": "stderr",
     "output_type": "stream",
     "text": [
      "Training (8879 / 18000 Steps) (loss=0.31282): 100%|██████████| 80/80 [02:49<00:00,  2.12s/it] \n",
      "Validate (8880 / 10 Steps): 100%|██████████| 18/18 [01:02<00:00,  3.45s/it]<01:18,  1.30s/it]\n",
      "Training (8900 / 18000 Steps) (loss=0.29451):  26%|██▋       | 21/80 [01:31<19:34, 19.91s/it]"
     ]
    },
    {
     "name": "stdout",
     "output_type": "stream",
     "text": [
      "Model Was Not Saved ! Current Best Avg. Dice: 0.6309344172477722 Current Avg. Dice: 0.5970084071159363 Current Avg. tumor Dice: 0.6175111532211304 Current Avg. lymph Dice: 0.6003869771957397\n"
     ]
    },
    {
     "name": "stderr",
     "output_type": "stream",
     "text": [
      "Training (8959 / 18000 Steps) (loss=0.46005): 100%|██████████| 80/80 [02:49<00:00,  2.11s/it]\n",
      "Validate (8960 / 10 Steps): 100%|██████████| 18/18 [01:01<00:00,  3.42s/it]<00:51,  1.28s/it]\n",
      "Training (9000 / 18000 Steps) (loss=0.47903):  51%|█████▏    | 41/80 [01:57<12:52, 19.82s/it]"
     ]
    },
    {
     "name": "stdout",
     "output_type": "stream",
     "text": [
      "Model Was Not Saved ! Current Best Avg. Dice: 0.6309344172477722 Current Avg. Dice: 0.6160892844200134 Current Avg. tumor Dice: 0.6474173069000244 Current Avg. lymph Dice: 0.610336184501648\n"
     ]
    },
    {
     "name": "stderr",
     "output_type": "stream",
     "text": [
      "Training (9039 / 18000 Steps) (loss=0.50013): 100%|██████████| 80/80 [02:48<00:00,  2.10s/it]\n",
      "Validate (9040 / 10 Steps): 100%|██████████| 18/18 [01:01<00:00,  3.43s/it]<00:26,  1.31s/it]\n",
      "Training (9100 / 18000 Steps) (loss=0.47947):  76%|███████▋  | 61/80 [02:23<06:16, 19.82s/it]"
     ]
    },
    {
     "name": "stdout",
     "output_type": "stream",
     "text": [
      "Model Was Not Saved ! Current Best Avg. Dice: 0.6309344172477722 Current Avg. Dice: 0.6208686828613281 Current Avg. tumor Dice: 0.6547197699546814 Current Avg. lymph Dice: 0.6069941520690918\n"
     ]
    },
    {
     "name": "stderr",
     "output_type": "stream",
     "text": [
      "Training (9119 / 18000 Steps) (loss=0.35193): 100%|██████████| 80/80 [02:48<00:00,  2.10s/it]\n",
      "Training (9199 / 18000 Steps) (loss=0.55935): 100%|██████████| 80/80 [01:46<00:00,  1.33s/it]\n",
      "Validate (9200 / 10 Steps): 100%|██████████| 18/18 [01:01<00:00,  3.43s/it]?, ?it/s]\n",
      "Training (9200 / 18000 Steps) (loss=0.50543):   1%|▏         | 1/80 [01:05<1:26:15, 65.51s/it]"
     ]
    },
    {
     "name": "stdout",
     "output_type": "stream",
     "text": [
      "Model Was Not Saved ! Current Best Avg. Dice: 0.6309344172477722 Current Avg. Dice: 0.6254862546920776 Current Avg. tumor Dice: 0.6451849341392517 Current Avg. lymph Dice: 0.6306965351104736\n"
     ]
    },
    {
     "name": "stderr",
     "output_type": "stream",
     "text": [
      "Training (9279 / 18000 Steps) (loss=0.40265): 100%|██████████| 80/80 [02:48<00:00,  2.11s/it] \n",
      "Validate (9280 / 10 Steps): 100%|██████████| 18/18 [01:01<00:00,  3.44s/it]<01:19,  1.33s/it]\n",
      "Training (9300 / 18000 Steps) (loss=0.44366):  26%|██▋       | 21/80 [01:31<19:33, 19.90s/it]"
     ]
    },
    {
     "name": "stdout",
     "output_type": "stream",
     "text": [
      "Model Was Not Saved ! Current Best Avg. Dice: 0.6309344172477722 Current Avg. Dice: 0.6049053072929382 Current Avg. tumor Dice: 0.6221412420272827 Current Avg. lymph Dice: 0.6137971878051758\n"
     ]
    },
    {
     "name": "stderr",
     "output_type": "stream",
     "text": [
      "Training (9359 / 18000 Steps) (loss=0.41117): 100%|██████████| 80/80 [02:48<00:00,  2.11s/it]\n",
      "Validate (9360 / 10 Steps): 100%|██████████| 18/18 [01:01<00:00,  3.44s/it]<00:51,  1.29s/it]\n",
      "Training (9400 / 18000 Steps) (loss=0.44394):  51%|█████▏    | 41/80 [01:57<12:55, 19.89s/it]"
     ]
    },
    {
     "name": "stdout",
     "output_type": "stream",
     "text": [
      "Model Was Not Saved ! Current Best Avg. Dice: 0.6309344172477722 Current Avg. Dice: 0.6146033406257629 Current Avg. tumor Dice: 0.6385936141014099 Current Avg. lymph Dice: 0.6187182664871216\n"
     ]
    },
    {
     "name": "stderr",
     "output_type": "stream",
     "text": [
      "Training (9439 / 18000 Steps) (loss=0.46997): 100%|██████████| 80/80 [02:48<00:00,  2.11s/it]\n",
      "Validate (9440 / 10 Steps): 100%|██████████| 18/18 [01:01<00:00,  3.44s/it]<00:26,  1.31s/it]\n",
      "Training (9500 / 18000 Steps) (loss=0.43714):  76%|███████▋  | 61/80 [02:23<06:17, 19.88s/it]"
     ]
    },
    {
     "name": "stdout",
     "output_type": "stream",
     "text": [
      "Model Was Not Saved ! Current Best Avg. Dice: 0.6309344172477722 Current Avg. Dice: 0.6098824143409729 Current Avg. tumor Dice: 0.6437150835990906 Current Avg. lymph Dice: 0.5962004065513611\n"
     ]
    },
    {
     "name": "stderr",
     "output_type": "stream",
     "text": [
      "Training (9519 / 18000 Steps) (loss=0.46054): 100%|██████████| 80/80 [02:48<00:00,  2.10s/it]\n",
      "Training (9599 / 18000 Steps) (loss=0.48930): 100%|██████████| 80/80 [01:46<00:00,  1.33s/it]\n",
      "Validate (9600 / 10 Steps): 100%|██████████| 18/18 [01:01<00:00,  3.43s/it]?, ?it/s]\n",
      "Training (9600 / 18000 Steps) (loss=0.35981):   1%|▏         | 1/80 [01:05<1:26:02, 65.35s/it]"
     ]
    },
    {
     "name": "stdout",
     "output_type": "stream",
     "text": [
      "Model Was Not Saved ! Current Best Avg. Dice: 0.6309344172477722 Current Avg. Dice: 0.5983691811561584 Current Avg. tumor Dice: 0.6073090434074402 Current Avg. lymph Dice: 0.6147191524505615\n"
     ]
    },
    {
     "name": "stderr",
     "output_type": "stream",
     "text": [
      "Training (9679 / 18000 Steps) (loss=0.52254): 100%|██████████| 80/80 [02:48<00:00,  2.10s/it] \n",
      "Validate (9680 / 10 Steps): 100%|██████████| 18/18 [01:01<00:00,  3.42s/it]<01:17,  1.29s/it]\n",
      "Training (9700 / 18000 Steps) (loss=0.47057):  26%|██▋       | 21/80 [01:31<19:25, 19.76s/it]"
     ]
    },
    {
     "name": "stdout",
     "output_type": "stream",
     "text": [
      "Model Was Not Saved ! Current Best Avg. Dice: 0.6309344172477722 Current Avg. Dice: 0.6042055487632751 Current Avg. tumor Dice: 0.6257524490356445 Current Avg. lymph Dice: 0.6102033853530884\n"
     ]
    },
    {
     "name": "stderr",
     "output_type": "stream",
     "text": [
      "Training (9759 / 18000 Steps) (loss=0.55056): 100%|██████████| 80/80 [02:47<00:00,  2.09s/it]\n",
      "Validate (9760 / 10 Steps): 100%|██████████| 18/18 [01:01<00:00,  3.41s/it]<00:50,  1.27s/it]\n",
      "Training (9800 / 18000 Steps) (loss=0.40768):  51%|█████▏    | 41/80 [01:56<12:48, 19.70s/it]"
     ]
    },
    {
     "name": "stdout",
     "output_type": "stream",
     "text": [
      "Model Was Not Saved ! Current Best Avg. Dice: 0.6309344172477722 Current Avg. Dice: 0.6073474287986755 Current Avg. tumor Dice: 0.6183366179466248 Current Avg. lymph Dice: 0.6223635673522949\n"
     ]
    },
    {
     "name": "stderr",
     "output_type": "stream",
     "text": [
      "Training (9839 / 18000 Steps) (loss=0.51952): 100%|██████████| 80/80 [02:47<00:00,  2.09s/it]\n",
      "Validate (9840 / 10 Steps): 100%|██████████| 18/18 [01:01<00:00,  3.43s/it]<00:25,  1.29s/it]\n",
      "Training (9900 / 18000 Steps) (loss=0.27893):  76%|███████▋  | 61/80 [02:22<06:16, 19.80s/it]"
     ]
    },
    {
     "name": "stdout",
     "output_type": "stream",
     "text": [
      "Model Was Not Saved ! Current Best Avg. Dice: 0.6309344172477722 Current Avg. Dice: 0.6067516207695007 Current Avg. tumor Dice: 0.6303567886352539 Current Avg. lymph Dice: 0.6040506362915039\n"
     ]
    },
    {
     "name": "stderr",
     "output_type": "stream",
     "text": [
      "Training (9919 / 18000 Steps) (loss=0.43392): 100%|██████████| 80/80 [02:47<00:00,  2.09s/it]\n",
      "Training (9999 / 18000 Steps) (loss=0.33911): 100%|██████████| 80/80 [01:45<00:00,  1.32s/it]\n",
      "Validate (10000 / 10 Steps): 100%|██████████| 18/18 [01:01<00:00,  3.41s/it]?, ?it/s]\n",
      "Training (10000 / 18000 Steps) (loss=0.44756):   1%|▏         | 1/80 [01:04<1:25:29, 64.93s/it]"
     ]
    },
    {
     "name": "stdout",
     "output_type": "stream",
     "text": [
      "Model Was Not Saved ! Current Best Avg. Dice: 0.6309344172477722 Current Avg. Dice: 0.6134864091873169 Current Avg. tumor Dice: 0.6368098855018616 Current Avg. lymph Dice: 0.615507960319519\n"
     ]
    },
    {
     "name": "stderr",
     "output_type": "stream",
     "text": [
      "Training (10079 / 18000 Steps) (loss=0.50041): 100%|██████████| 80/80 [02:47<00:00,  2.09s/it] \n",
      "Validate (10080 / 10 Steps): 100%|██████████| 18/18 [01:01<00:00,  3.42s/it]<01:17,  1.29s/it]\n",
      "Training (10100 / 18000 Steps) (loss=0.56757):  26%|██▋       | 21/80 [01:31<19:26, 19.78s/it]"
     ]
    },
    {
     "name": "stdout",
     "output_type": "stream",
     "text": [
      "Model Was Not Saved ! Current Best Avg. Dice: 0.6309344172477722 Current Avg. Dice: 0.5983193516731262 Current Avg. tumor Dice: 0.6150068640708923 Current Avg. lymph Dice: 0.6029840111732483\n"
     ]
    },
    {
     "name": "stderr",
     "output_type": "stream",
     "text": [
      "Training (10159 / 18000 Steps) (loss=0.48157): 100%|██████████| 80/80 [02:47<00:00,  2.09s/it]\n",
      "Validate (10160 / 10 Steps): 100%|██████████| 18/18 [01:01<00:00,  3.43s/it]<00:51,  1.28s/it]\n",
      "Training (10200 / 18000 Steps) (loss=0.50902):  51%|█████▏    | 41/80 [01:57<12:55, 19.89s/it]"
     ]
    },
    {
     "name": "stdout",
     "output_type": "stream",
     "text": [
      "Model Was Not Saved ! Current Best Avg. Dice: 0.6309344172477722 Current Avg. Dice: 0.6084926128387451 Current Avg. tumor Dice: 0.6226851344108582 Current Avg. lymph Dice: 0.6142576336860657\n"
     ]
    },
    {
     "name": "stderr",
     "output_type": "stream",
     "text": [
      "Training (10239 / 18000 Steps) (loss=0.42611): 100%|██████████| 80/80 [02:48<00:00,  2.11s/it]\n",
      "Validate (10240 / 10 Steps): 100%|██████████| 18/18 [01:01<00:00,  3.42s/it]<00:25,  1.30s/it]\n",
      "Training (10300 / 18000 Steps) (loss=0.52265):  76%|███████▋  | 61/80 [02:22<06:15, 19.78s/it]"
     ]
    },
    {
     "name": "stdout",
     "output_type": "stream",
     "text": [
      "Model Was Not Saved ! Current Best Avg. Dice: 0.6309344172477722 Current Avg. Dice: 0.6211151480674744 Current Avg. tumor Dice: 0.6447485685348511 Current Avg. lymph Dice: 0.623652458190918\n"
     ]
    },
    {
     "name": "stderr",
     "output_type": "stream",
     "text": [
      "Training (10319 / 18000 Steps) (loss=0.49099): 100%|██████████| 80/80 [02:47<00:00,  2.09s/it]\n",
      "Training (10399 / 18000 Steps) (loss=0.36304): 100%|██████████| 80/80 [01:46<00:00,  1.33s/it]\n",
      "Validate (10400 / 10 Steps): 100%|██████████| 18/18 [01:01<00:00,  3.42s/it]?, ?it/s]\n",
      "Training (10400 / 18000 Steps) (loss=0.45918):   1%|▏         | 1/80 [01:05<1:25:59, 65.31s/it]"
     ]
    },
    {
     "name": "stdout",
     "output_type": "stream",
     "text": [
      "Model Was Not Saved ! Current Best Avg. Dice: 0.6309344172477722 Current Avg. Dice: 0.630901575088501 Current Avg. tumor Dice: 0.6524837017059326 Current Avg. lymph Dice: 0.6372031569480896\n"
     ]
    },
    {
     "name": "stderr",
     "output_type": "stream",
     "text": [
      "Training (10479 / 18000 Steps) (loss=0.54637): 100%|██████████| 80/80 [02:48<00:00,  2.10s/it] \n",
      "Validate (10480 / 10 Steps): 100%|██████████| 18/18 [01:01<00:00,  3.43s/it]<01:18,  1.31s/it]\n",
      "Training (10500 / 18000 Steps) (loss=0.42501):  26%|██▋       | 21/80 [01:31<19:29, 19.82s/it]"
     ]
    },
    {
     "name": "stdout",
     "output_type": "stream",
     "text": [
      "Model Was Not Saved ! Current Best Avg. Dice: 0.6309344172477722 Current Avg. Dice: 0.6168239116668701 Current Avg. tumor Dice: 0.6369932889938354 Current Avg. lymph Dice: 0.621083676815033\n"
     ]
    },
    {
     "name": "stderr",
     "output_type": "stream",
     "text": [
      "Training (10559 / 18000 Steps) (loss=0.46017): 100%|██████████| 80/80 [02:48<00:00,  2.11s/it]\n",
      "Validate (10560 / 10 Steps): 100%|██████████| 18/18 [01:01<00:00,  3.43s/it]<00:50,  1.27s/it]\n",
      "Training (10600 / 18000 Steps) (loss=0.55065):  51%|█████▏    | 41/80 [01:57<12:53, 19.84s/it]"
     ]
    },
    {
     "name": "stdout",
     "output_type": "stream",
     "text": [
      "Model Was Not Saved ! Current Best Avg. Dice: 0.6309344172477722 Current Avg. Dice: 0.6250444650650024 Current Avg. tumor Dice: 0.6731667518615723 Current Avg. lymph Dice: 0.5938275456428528\n"
     ]
    },
    {
     "name": "stderr",
     "output_type": "stream",
     "text": [
      "Training (10639 / 18000 Steps) (loss=0.42928): 100%|██████████| 80/80 [02:47<00:00,  2.09s/it]\n",
      "Validate (10640 / 10 Steps): 100%|██████████| 18/18 [01:01<00:00,  3.42s/it]<00:25,  1.29s/it]\n",
      "Training (10700 / 18000 Steps) (loss=0.58254):  76%|███████▋  | 61/80 [02:22<06:15, 19.75s/it]"
     ]
    },
    {
     "name": "stdout",
     "output_type": "stream",
     "text": [
      "Model Was Not Saved ! Current Best Avg. Dice: 0.6309344172477722 Current Avg. Dice: 0.6245453357696533 Current Avg. tumor Dice: 0.6530584096908569 Current Avg. lymph Dice: 0.6250451803207397\n"
     ]
    },
    {
     "name": "stderr",
     "output_type": "stream",
     "text": [
      "Training (10719 / 18000 Steps) (loss=0.28820): 100%|██████████| 80/80 [02:47<00:00,  2.09s/it]\n",
      "Training (10799 / 18000 Steps) (loss=0.55443): 100%|██████████| 80/80 [01:46<00:00,  1.34s/it]\n",
      "Validate (10800 / 10 Steps): 100%|██████████| 18/18 [01:01<00:00,  3.41s/it]?, ?it/s]\n",
      "Training (10800 / 18000 Steps) (loss=0.47297):   1%|▏         | 1/80 [01:05<1:25:48, 65.17s/it]"
     ]
    },
    {
     "name": "stdout",
     "output_type": "stream",
     "text": [
      "Model Was Not Saved ! Current Best Avg. Dice: 0.6309344172477722 Current Avg. Dice: 0.6276068091392517 Current Avg. tumor Dice: 0.6601718068122864 Current Avg. lymph Dice: 0.6193850040435791\n"
     ]
    },
    {
     "name": "stderr",
     "output_type": "stream",
     "text": [
      "Training (10879 / 18000 Steps) (loss=0.43670): 100%|██████████| 80/80 [02:47<00:00,  2.09s/it] \n",
      "Validate (10880 / 10 Steps): 100%|██████████| 18/18 [01:01<00:00,  3.42s/it]<01:17,  1.30s/it]\n",
      "Training (10900 / 18000 Steps) (loss=0.57074):  26%|██▋       | 21/80 [01:31<19:25, 19.76s/it]"
     ]
    },
    {
     "name": "stdout",
     "output_type": "stream",
     "text": [
      "Model Was Not Saved ! Current Best Avg. Dice: 0.6309344172477722 Current Avg. Dice: 0.6298243999481201 Current Avg. tumor Dice: 0.6387695670127869 Current Avg. lymph Dice: 0.6482386589050293\n"
     ]
    },
    {
     "name": "stderr",
     "output_type": "stream",
     "text": [
      "Training (10959 / 18000 Steps) (loss=0.48444): 100%|██████████| 80/80 [02:47<00:00,  2.10s/it]\n",
      "Validate (10960 / 10 Steps): 100%|██████████| 18/18 [01:01<00:00,  3.42s/it]<00:51,  1.28s/it]\n",
      "Training (11000 / 18000 Steps) (loss=0.40062):  51%|█████▏    | 41/80 [01:58<13:02, 20.07s/it]"
     ]
    },
    {
     "name": "stdout",
     "output_type": "stream",
     "text": [
      "Model Was Saved ! Current Best Avg. Dice: 0.6314882636070251 Current Avg. Dice: 0.6314882636070251 Current Avg. tumor Dice: 0.6604731678962708 Current Avg. lymph Dice: 0.6261985898017883\n"
     ]
    },
    {
     "name": "stderr",
     "output_type": "stream",
     "text": [
      "Training (11039 / 18000 Steps) (loss=0.54166): 100%|██████████| 80/80 [02:48<00:00,  2.10s/it]\n",
      "Validate (11040 / 10 Steps): 100%|██████████| 18/18 [01:01<00:00,  3.42s/it]<00:26,  1.32s/it]\n",
      "Training (11100 / 18000 Steps) (loss=0.48885):  76%|███████▋  | 61/80 [02:23<06:16, 19.80s/it]"
     ]
    },
    {
     "name": "stdout",
     "output_type": "stream",
     "text": [
      "Model Was Not Saved ! Current Best Avg. Dice: 0.6314882636070251 Current Avg. Dice: 0.6210718750953674 Current Avg. tumor Dice: 0.6350188851356506 Current Avg. lymph Dice: 0.6300297379493713\n"
     ]
    },
    {
     "name": "stderr",
     "output_type": "stream",
     "text": [
      "Training (11119 / 18000 Steps) (loss=0.53246): 100%|██████████| 80/80 [02:47<00:00,  2.09s/it]\n",
      "Training (11199 / 18000 Steps) (loss=0.38671): 100%|██████████| 80/80 [01:46<00:00,  1.33s/it]\n",
      "Validate (11200 / 10 Steps): 100%|██████████| 18/18 [01:01<00:00,  3.42s/it]?, ?it/s]\n",
      "Training (11200 / 18000 Steps) (loss=0.50571):   1%|▏         | 1/80 [01:05<1:25:46, 65.15s/it]"
     ]
    },
    {
     "name": "stdout",
     "output_type": "stream",
     "text": [
      "Model Was Not Saved ! Current Best Avg. Dice: 0.6314882636070251 Current Avg. Dice: 0.6127978563308716 Current Avg. tumor Dice: 0.6329993605613708 Current Avg. lymph Dice: 0.6147437691688538\n"
     ]
    },
    {
     "name": "stderr",
     "output_type": "stream",
     "text": [
      "Training (11279 / 18000 Steps) (loss=0.39533): 100%|██████████| 80/80 [02:47<00:00,  2.09s/it] \n",
      "Validate (11280 / 10 Steps): 100%|██████████| 18/18 [01:01<00:00,  3.42s/it]<01:16,  1.27s/it]\n",
      "Training (11300 / 18000 Steps) (loss=0.48256):  26%|██▋       | 21/80 [01:31<19:26, 19.78s/it]"
     ]
    },
    {
     "name": "stdout",
     "output_type": "stream",
     "text": [
      "Model Was Not Saved ! Current Best Avg. Dice: 0.6314882636070251 Current Avg. Dice: 0.6180086135864258 Current Avg. tumor Dice: 0.6440227031707764 Current Avg. lymph Dice: 0.6143490672111511\n"
     ]
    },
    {
     "name": "stderr",
     "output_type": "stream",
     "text": [
      "Training (11359 / 18000 Steps) (loss=0.56367): 100%|██████████| 80/80 [02:47<00:00,  2.09s/it]\n",
      "Validate (11360 / 10 Steps): 100%|██████████| 18/18 [01:01<00:00,  3.42s/it]<00:50,  1.27s/it]\n",
      "Training (11400 / 18000 Steps) (loss=0.39160):  51%|█████▏    | 41/80 [01:56<12:50, 19.76s/it]"
     ]
    },
    {
     "name": "stdout",
     "output_type": "stream",
     "text": [
      "Model Was Not Saved ! Current Best Avg. Dice: 0.6314882636070251 Current Avg. Dice: 0.6226741075515747 Current Avg. tumor Dice: 0.6646214127540588 Current Avg. lymph Dice: 0.6066957712173462\n"
     ]
    },
    {
     "name": "stderr",
     "output_type": "stream",
     "text": [
      "Training (11439 / 18000 Steps) (loss=0.42360): 100%|██████████| 80/80 [02:47<00:00,  2.09s/it]\n",
      "Validate (11440 / 10 Steps): 100%|██████████| 18/18 [01:01<00:00,  3.42s/it]<00:25,  1.29s/it]\n",
      "Training (11500 / 18000 Steps) (loss=0.49797):  76%|███████▋  | 61/80 [02:22<06:15, 19.75s/it]"
     ]
    },
    {
     "name": "stdout",
     "output_type": "stream",
     "text": [
      "Model Was Not Saved ! Current Best Avg. Dice: 0.6314882636070251 Current Avg. Dice: 0.6235322952270508 Current Avg. tumor Dice: 0.6533572673797607 Current Avg. lymph Dice: 0.6148313879966736\n"
     ]
    },
    {
     "name": "stderr",
     "output_type": "stream",
     "text": [
      "Training (11519 / 18000 Steps) (loss=0.43885): 100%|██████████| 80/80 [02:47<00:00,  2.09s/it]\n",
      "Training (11599 / 18000 Steps) (loss=0.46032): 100%|██████████| 80/80 [01:45<00:00,  1.32s/it]\n",
      "Validate (11600 / 10 Steps): 100%|██████████| 18/18 [01:01<00:00,  3.44s/it]?, ?it/s]\n",
      "Training (11600 / 18000 Steps) (loss=0.49707):   1%|▏         | 1/80 [01:05<1:26:21, 65.59s/it]"
     ]
    },
    {
     "name": "stdout",
     "output_type": "stream",
     "text": [
      "Model Was Not Saved ! Current Best Avg. Dice: 0.6314882636070251 Current Avg. Dice: 0.613166868686676 Current Avg. tumor Dice: 0.6419746279716492 Current Avg. lymph Dice: 0.6121962070465088\n"
     ]
    },
    {
     "name": "stderr",
     "output_type": "stream",
     "text": [
      "Training (11679 / 18000 Steps) (loss=0.45880): 100%|██████████| 80/80 [02:48<00:00,  2.10s/it] \n",
      "Validate (11680 / 10 Steps): 100%|██████████| 18/18 [01:02<00:00,  3.45s/it]<01:16,  1.28s/it]\n",
      "Training (11700 / 18000 Steps) (loss=0.41408):  26%|██▋       | 21/80 [01:31<19:37, 19.95s/it]"
     ]
    },
    {
     "name": "stdout",
     "output_type": "stream",
     "text": [
      "Model Was Not Saved ! Current Best Avg. Dice: 0.6314882636070251 Current Avg. Dice: 0.6235376596450806 Current Avg. tumor Dice: 0.6444101333618164 Current Avg. lymph Dice: 0.6302560567855835\n"
     ]
    },
    {
     "name": "stderr",
     "output_type": "stream",
     "text": [
      "Training (11759 / 18000 Steps) (loss=0.38944): 100%|██████████| 80/80 [02:48<00:00,  2.10s/it]\n",
      "Validate (11760 / 10 Steps): 100%|██████████| 18/18 [01:01<00:00,  3.44s/it]<00:50,  1.27s/it]\n",
      "Training (11800 / 18000 Steps) (loss=0.27613):  51%|█████▏    | 41/80 [01:58<13:04, 20.11s/it]"
     ]
    },
    {
     "name": "stdout",
     "output_type": "stream",
     "text": [
      "Model Was Saved ! Current Best Avg. Dice: 0.6318792700767517 Current Avg. Dice: 0.6318792700767517 Current Avg. tumor Dice: 0.6618710160255432 Current Avg. lymph Dice: 0.6281824111938477\n"
     ]
    },
    {
     "name": "stderr",
     "output_type": "stream",
     "text": [
      "Training (11839 / 18000 Steps) (loss=0.59531): 100%|██████████| 80/80 [02:48<00:00,  2.11s/it]\n",
      "Validate (11840 / 10 Steps): 100%|██████████| 18/18 [01:01<00:00,  3.44s/it]<00:25,  1.28s/it]\n",
      "Training (11900 / 18000 Steps) (loss=0.38533):  76%|███████▋  | 61/80 [02:23<06:17, 19.87s/it]"
     ]
    },
    {
     "name": "stdout",
     "output_type": "stream",
     "text": [
      "Model Was Not Saved ! Current Best Avg. Dice: 0.6318792700767517 Current Avg. Dice: 0.6267424821853638 Current Avg. tumor Dice: 0.6595086455345154 Current Avg. lymph Dice: 0.6201614737510681\n"
     ]
    },
    {
     "name": "stderr",
     "output_type": "stream",
     "text": [
      "Training (11919 / 18000 Steps) (loss=0.42011): 100%|██████████| 80/80 [02:48<00:00,  2.10s/it]\n",
      "Training (11999 / 18000 Steps) (loss=0.46326): 100%|██████████| 80/80 [01:46<00:00,  1.33s/it]\n",
      "Validate (12000 / 10 Steps): 100%|██████████| 18/18 [01:01<00:00,  3.42s/it]?, ?it/s]\n",
      "Training (12000 / 18000 Steps) (loss=0.43000):   1%|▏         | 1/80 [01:05<1:26:30, 65.70s/it]"
     ]
    },
    {
     "name": "stdout",
     "output_type": "stream",
     "text": [
      "Model Was Not Saved ! Current Best Avg. Dice: 0.6318792700767517 Current Avg. Dice: 0.6266260743141174 Current Avg. tumor Dice: 0.6481539011001587 Current Avg. lymph Dice: 0.6269589066505432\n"
     ]
    },
    {
     "name": "stderr",
     "output_type": "stream",
     "text": [
      "Training (12079 / 18000 Steps) (loss=0.63725): 100%|██████████| 80/80 [02:47<00:00,  2.09s/it] \n",
      "Validate (12080 / 10 Steps): 100%|██████████| 18/18 [01:01<00:00,  3.44s/it]<01:19,  1.32s/it]\n",
      "Training (12100 / 18000 Steps) (loss=0.51688):  26%|██▋       | 21/80 [01:31<19:33, 19.88s/it]"
     ]
    },
    {
     "name": "stdout",
     "output_type": "stream",
     "text": [
      "Model Was Not Saved ! Current Best Avg. Dice: 0.6318792700767517 Current Avg. Dice: 0.6314836144447327 Current Avg. tumor Dice: 0.6486311554908752 Current Avg. lymph Dice: 0.6419963240623474\n"
     ]
    },
    {
     "name": "stderr",
     "output_type": "stream",
     "text": [
      "Training (12159 / 18000 Steps) (loss=0.38932): 100%|██████████| 80/80 [02:48<00:00,  2.10s/it]\n",
      "Validate (12160 / 10 Steps): 100%|██████████| 18/18 [01:01<00:00,  3.44s/it]<00:51,  1.30s/it]\n",
      "Training (12200 / 18000 Steps) (loss=0.57380):  51%|█████▏    | 41/80 [01:58<13:07, 20.20s/it]"
     ]
    },
    {
     "name": "stdout",
     "output_type": "stream",
     "text": [
      "Model Was Saved ! Current Best Avg. Dice: 0.6459023952484131 Current Avg. Dice: 0.6459023952484131 Current Avg. tumor Dice: 0.6630539894104004 Current Avg. lymph Dice: 0.6516258120536804\n"
     ]
    },
    {
     "name": "stderr",
     "output_type": "stream",
     "text": [
      "Training (12239 / 18000 Steps) (loss=0.38845): 100%|██████████| 80/80 [02:49<00:00,  2.11s/it]\n",
      "Validate (12240 / 10 Steps): 100%|██████████| 18/18 [01:01<00:00,  3.43s/it]<00:26,  1.30s/it]\n",
      "Training (12300 / 18000 Steps) (loss=0.58245):  76%|███████▋  | 61/80 [02:23<06:16, 19.81s/it]"
     ]
    },
    {
     "name": "stdout",
     "output_type": "stream",
     "text": [
      "Model Was Not Saved ! Current Best Avg. Dice: 0.6459023952484131 Current Avg. Dice: 0.6313640475273132 Current Avg. tumor Dice: 0.6610010862350464 Current Avg. lymph Dice: 0.6275847554206848\n"
     ]
    },
    {
     "name": "stderr",
     "output_type": "stream",
     "text": [
      "Training (12319 / 18000 Steps) (loss=0.43374): 100%|██████████| 80/80 [02:47<00:00,  2.09s/it]\n",
      "Training (12399 / 18000 Steps) (loss=0.40269): 100%|██████████| 80/80 [01:46<00:00,  1.33s/it]\n",
      "Validate (12400 / 10 Steps): 100%|██████████| 18/18 [01:01<00:00,  3.44s/it]?, ?it/s]\n",
      "Training (12400 / 18000 Steps) (loss=0.49231):   1%|▏         | 1/80 [01:05<1:26:40, 65.83s/it]"
     ]
    },
    {
     "name": "stdout",
     "output_type": "stream",
     "text": [
      "Model Was Not Saved ! Current Best Avg. Dice: 0.6459023952484131 Current Avg. Dice: 0.6249102354049683 Current Avg. tumor Dice: 0.6578645706176758 Current Avg. lymph Dice: 0.6177750825881958\n"
     ]
    },
    {
     "name": "stderr",
     "output_type": "stream",
     "text": [
      "Training (12479 / 18000 Steps) (loss=0.56289): 100%|██████████| 80/80 [02:48<00:00,  2.10s/it] \n",
      "Validate (12480 / 10 Steps): 100%|██████████| 18/18 [01:02<00:00,  3.46s/it]<01:17,  1.29s/it]\n",
      "Training (12500 / 18000 Steps) (loss=0.32796):  26%|██▋       | 21/80 [01:32<19:40, 20.01s/it]"
     ]
    },
    {
     "name": "stdout",
     "output_type": "stream",
     "text": [
      "Model Was Not Saved ! Current Best Avg. Dice: 0.6459023952484131 Current Avg. Dice: 0.6360794901847839 Current Avg. tumor Dice: 0.6559076309204102 Current Avg. lymph Dice: 0.6393362283706665\n"
     ]
    },
    {
     "name": "stderr",
     "output_type": "stream",
     "text": [
      "Training (12559 / 18000 Steps) (loss=0.46059): 100%|██████████| 80/80 [02:48<00:00,  2.11s/it]\n",
      "Validate (12560 / 10 Steps): 100%|██████████| 18/18 [01:01<00:00,  3.44s/it]<00:51,  1.28s/it]\n",
      "Training (12600 / 18000 Steps) (loss=0.50863):  51%|█████▏    | 41/80 [01:57<12:56, 19.90s/it]"
     ]
    },
    {
     "name": "stdout",
     "output_type": "stream",
     "text": [
      "Model Was Not Saved ! Current Best Avg. Dice: 0.6459023952484131 Current Avg. Dice: 0.6340527534484863 Current Avg. tumor Dice: 0.6630873084068298 Current Avg. lymph Dice: 0.6292473673820496\n"
     ]
    },
    {
     "name": "stderr",
     "output_type": "stream",
     "text": [
      "Training (12639 / 18000 Steps) (loss=0.48300): 100%|██████████| 80/80 [02:48<00:00,  2.10s/it]\n",
      "Validate (12640 / 10 Steps): 100%|██████████| 18/18 [01:01<00:00,  3.44s/it]<00:25,  1.29s/it]\n",
      "Training (12700 / 18000 Steps) (loss=0.36263):  76%|███████▋  | 61/80 [02:23<06:18, 19.90s/it]"
     ]
    },
    {
     "name": "stdout",
     "output_type": "stream",
     "text": [
      "Model Was Not Saved ! Current Best Avg. Dice: 0.6459023952484131 Current Avg. Dice: 0.6364609599113464 Current Avg. tumor Dice: 0.6709476113319397 Current Avg. lymph Dice: 0.6284774541854858\n"
     ]
    },
    {
     "name": "stderr",
     "output_type": "stream",
     "text": [
      "Training (12719 / 18000 Steps) (loss=0.36721): 100%|██████████| 80/80 [02:48<00:00,  2.11s/it]\n",
      "Training (12799 / 18000 Steps) (loss=0.53135): 100%|██████████| 80/80 [01:46<00:00,  1.33s/it]\n",
      "Validate (12800 / 10 Steps): 100%|██████████| 18/18 [01:02<00:00,  3.46s/it]?, ?it/s]\n",
      "Training (12800 / 18000 Steps) (loss=0.60478):   1%|▏         | 1/80 [01:06<1:26:58, 66.05s/it]"
     ]
    },
    {
     "name": "stdout",
     "output_type": "stream",
     "text": [
      "Model Was Not Saved ! Current Best Avg. Dice: 0.6459023952484131 Current Avg. Dice: 0.6154131293296814 Current Avg. tumor Dice: 0.6485601663589478 Current Avg. lymph Dice: 0.6018079519271851\n"
     ]
    },
    {
     "name": "stderr",
     "output_type": "stream",
     "text": [
      "Training (12879 / 18000 Steps) (loss=0.47249): 100%|██████████| 80/80 [02:49<00:00,  2.11s/it] \n",
      "Validate (12880 / 10 Steps): 100%|██████████| 18/18 [01:01<00:00,  3.42s/it]<01:18,  1.30s/it]\n",
      "Training (12900 / 18000 Steps) (loss=0.41151):  26%|██▋       | 21/80 [01:31<19:26, 19.77s/it]"
     ]
    },
    {
     "name": "stdout",
     "output_type": "stream",
     "text": [
      "Model Was Not Saved ! Current Best Avg. Dice: 0.6459023952484131 Current Avg. Dice: 0.6315084099769592 Current Avg. tumor Dice: 0.6561078429222107 Current Avg. lymph Dice: 0.6291047930717468\n"
     ]
    },
    {
     "name": "stderr",
     "output_type": "stream",
     "text": [
      "Training (12959 / 18000 Steps) (loss=0.35434): 100%|██████████| 80/80 [02:47<00:00,  2.09s/it]\n",
      "Validate (12960 / 10 Steps): 100%|██████████| 18/18 [01:01<00:00,  3.42s/it]<00:51,  1.28s/it]\n",
      "Training (13000 / 18000 Steps) (loss=0.44951):  51%|█████▏    | 41/80 [01:57<12:51, 19.77s/it]"
     ]
    },
    {
     "name": "stdout",
     "output_type": "stream",
     "text": [
      "Model Was Not Saved ! Current Best Avg. Dice: 0.6459023952484131 Current Avg. Dice: 0.6261968612670898 Current Avg. tumor Dice: 0.6436231136322021 Current Avg. lymph Dice: 0.6321840286254883\n"
     ]
    },
    {
     "name": "stderr",
     "output_type": "stream",
     "text": [
      "Training (13039 / 18000 Steps) (loss=0.48086): 100%|██████████| 80/80 [02:47<00:00,  2.09s/it]\n",
      "Validate (13040 / 10 Steps): 100%|██████████| 18/18 [01:01<00:00,  3.43s/it]<00:25,  1.30s/it]\n",
      "Training (13100 / 18000 Steps) (loss=0.39535):  76%|███████▋  | 61/80 [02:23<06:16, 19.79s/it]"
     ]
    },
    {
     "name": "stdout",
     "output_type": "stream",
     "text": [
      "Model Was Not Saved ! Current Best Avg. Dice: 0.6459023952484131 Current Avg. Dice: 0.6356977224349976 Current Avg. tumor Dice: 0.6607330441474915 Current Avg. lymph Dice: 0.6291782855987549\n"
     ]
    },
    {
     "name": "stderr",
     "output_type": "stream",
     "text": [
      "Training (13119 / 18000 Steps) (loss=0.43885): 100%|██████████| 80/80 [02:47<00:00,  2.10s/it]\n",
      "Training (13199 / 18000 Steps) (loss=0.50722): 100%|██████████| 80/80 [01:45<00:00,  1.32s/it]\n",
      "Validate (13200 / 10 Steps): 100%|██████████| 18/18 [01:01<00:00,  3.43s/it]?, ?it/s]\n",
      "Training (13200 / 18000 Steps) (loss=0.45231):   1%|▏         | 1/80 [01:05<1:26:31, 65.72s/it]"
     ]
    },
    {
     "name": "stdout",
     "output_type": "stream",
     "text": [
      "Model Was Not Saved ! Current Best Avg. Dice: 0.6459023952484131 Current Avg. Dice: 0.6318358182907104 Current Avg. tumor Dice: 0.6548470258712769 Current Avg. lymph Dice: 0.6325510144233704\n"
     ]
    },
    {
     "name": "stderr",
     "output_type": "stream",
     "text": [
      "Training (13279 / 18000 Steps) (loss=0.57072): 100%|██████████| 80/80 [02:47<00:00,  2.10s/it] \n",
      "Validate (13280 / 10 Steps): 100%|██████████| 18/18 [01:01<00:00,  3.44s/it]<01:17,  1.29s/it]\n",
      "Training (13300 / 18000 Steps) (loss=0.45152):  26%|██▋       | 21/80 [01:31<19:33, 19.88s/it]"
     ]
    },
    {
     "name": "stdout",
     "output_type": "stream",
     "text": [
      "Model Was Not Saved ! Current Best Avg. Dice: 0.6459023952484131 Current Avg. Dice: 0.6337668895721436 Current Avg. tumor Dice: 0.6648349165916443 Current Avg. lymph Dice: 0.6261070966720581\n"
     ]
    },
    {
     "name": "stderr",
     "output_type": "stream",
     "text": [
      "Training (13359 / 18000 Steps) (loss=0.37927): 100%|██████████| 80/80 [02:48<00:00,  2.10s/it]\n",
      "Validate (13360 / 10 Steps): 100%|██████████| 18/18 [01:01<00:00,  3.43s/it]<00:50,  1.27s/it]\n",
      "Training (13400 / 18000 Steps) (loss=0.39682):  51%|█████▏    | 41/80 [01:57<12:53, 19.83s/it]"
     ]
    },
    {
     "name": "stdout",
     "output_type": "stream",
     "text": [
      "Model Was Not Saved ! Current Best Avg. Dice: 0.6459023952484131 Current Avg. Dice: 0.6336237788200378 Current Avg. tumor Dice: 0.6593620181083679 Current Avg. lymph Dice: 0.6364158391952515\n"
     ]
    },
    {
     "name": "stderr",
     "output_type": "stream",
     "text": [
      "Training (13439 / 18000 Steps) (loss=0.62348): 100%|██████████| 80/80 [02:47<00:00,  2.10s/it]\n",
      "Validate (13440 / 10 Steps): 100%|██████████| 18/18 [01:01<00:00,  3.42s/it]<00:25,  1.29s/it]\n",
      "Training (13500 / 18000 Steps) (loss=0.36564):  76%|███████▋  | 61/80 [02:23<06:15, 19.77s/it]"
     ]
    },
    {
     "name": "stdout",
     "output_type": "stream",
     "text": [
      "Model Was Not Saved ! Current Best Avg. Dice: 0.6459023952484131 Current Avg. Dice: 0.6305857300758362 Current Avg. tumor Dice: 0.6533531546592712 Current Avg. lymph Dice: 0.6329911947250366\n"
     ]
    },
    {
     "name": "stderr",
     "output_type": "stream",
     "text": [
      "Training (13519 / 18000 Steps) (loss=0.46933): 100%|██████████| 80/80 [02:48<00:00,  2.10s/it]\n",
      "Training (13599 / 18000 Steps) (loss=0.58442): 100%|██████████| 80/80 [01:46<00:00,  1.33s/it]\n",
      "Validate (13600 / 10 Steps): 100%|██████████| 18/18 [01:01<00:00,  3.42s/it]?, ?it/s]\n",
      "Training (13600 / 18000 Steps) (loss=0.40576):   1%|▏         | 1/80 [01:05<1:26:21, 65.58s/it]"
     ]
    },
    {
     "name": "stdout",
     "output_type": "stream",
     "text": [
      "Model Was Not Saved ! Current Best Avg. Dice: 0.6459023952484131 Current Avg. Dice: 0.6307343244552612 Current Avg. tumor Dice: 0.6566019654273987 Current Avg. lymph Dice: 0.628599226474762\n"
     ]
    },
    {
     "name": "stderr",
     "output_type": "stream",
     "text": [
      "Training (13679 / 18000 Steps) (loss=0.49742): 100%|██████████| 80/80 [02:47<00:00,  2.09s/it] \n",
      "Validate (13680 / 10 Steps): 100%|██████████| 18/18 [01:01<00:00,  3.44s/it]<01:17,  1.29s/it]\n",
      "Training (13700 / 18000 Steps) (loss=0.46300):  26%|██▋       | 21/80 [01:31<19:33, 19.88s/it]"
     ]
    },
    {
     "name": "stdout",
     "output_type": "stream",
     "text": [
      "Model Was Not Saved ! Current Best Avg. Dice: 0.6459023952484131 Current Avg. Dice: 0.6399710178375244 Current Avg. tumor Dice: 0.6645098924636841 Current Avg. lymph Dice: 0.6377944946289062\n"
     ]
    },
    {
     "name": "stderr",
     "output_type": "stream",
     "text": [
      "Training (13759 / 18000 Steps) (loss=0.33509): 100%|██████████| 80/80 [02:48<00:00,  2.10s/it]\n",
      "Validate (13760 / 10 Steps): 100%|██████████| 18/18 [01:01<00:00,  3.43s/it]<00:51,  1.28s/it]\n",
      "Training (13800 / 18000 Steps) (loss=0.55047):  51%|█████▏    | 41/80 [01:57<12:53, 19.83s/it]"
     ]
    },
    {
     "name": "stdout",
     "output_type": "stream",
     "text": [
      "Model Was Not Saved ! Current Best Avg. Dice: 0.6459023952484131 Current Avg. Dice: 0.6231359839439392 Current Avg. tumor Dice: 0.6576144099235535 Current Avg. lymph Dice: 0.6153936386108398\n"
     ]
    },
    {
     "name": "stderr",
     "output_type": "stream",
     "text": [
      "Training (13839 / 18000 Steps) (loss=0.47364): 100%|██████████| 80/80 [02:48<00:00,  2.11s/it]\n",
      "Validate (13840 / 10 Steps): 100%|██████████| 18/18 [01:02<00:00,  3.45s/it]<00:25,  1.30s/it]\n",
      "Training (13900 / 18000 Steps) (loss=0.48157):  76%|███████▋  | 61/80 [02:24<06:22, 20.15s/it]"
     ]
    },
    {
     "name": "stdout",
     "output_type": "stream",
     "text": [
      "Model Was Saved ! Current Best Avg. Dice: 0.6461836099624634 Current Avg. Dice: 0.6461836099624634 Current Avg. tumor Dice: 0.6779469847679138 Current Avg. lymph Dice: 0.6402006149291992\n"
     ]
    },
    {
     "name": "stderr",
     "output_type": "stream",
     "text": [
      "Training (13919 / 18000 Steps) (loss=0.51866): 100%|██████████| 80/80 [02:49<00:00,  2.12s/it]\n",
      "Training (13999 / 18000 Steps) (loss=0.45185): 100%|██████████| 80/80 [01:45<00:00,  1.32s/it]\n",
      "Validate (14000 / 10 Steps): 100%|██████████| 18/18 [01:02<00:00,  3.45s/it]?, ?it/s]\n",
      "Training (14000 / 18000 Steps) (loss=0.34781):   1%|▏         | 1/80 [01:05<1:26:47, 65.92s/it]"
     ]
    },
    {
     "name": "stdout",
     "output_type": "stream",
     "text": [
      "Model Was Not Saved ! Current Best Avg. Dice: 0.6461836099624634 Current Avg. Dice: 0.6372872591018677 Current Avg. tumor Dice: 0.6558960676193237 Current Avg. lymph Dice: 0.6469628214836121\n"
     ]
    },
    {
     "name": "stderr",
     "output_type": "stream",
     "text": [
      "Training (14079 / 18000 Steps) (loss=0.53820): 100%|██████████| 80/80 [02:48<00:00,  2.11s/it] \n",
      "Validate (14080 / 10 Steps): 100%|██████████| 18/18 [01:01<00:00,  3.44s/it]<01:21,  1.35s/it]\n",
      "Training (14100 / 18000 Steps) (loss=0.55275):  26%|██▋       | 21/80 [01:31<19:34, 19.91s/it]"
     ]
    },
    {
     "name": "stdout",
     "output_type": "stream",
     "text": [
      "Model Was Not Saved ! Current Best Avg. Dice: 0.6461836099624634 Current Avg. Dice: 0.6259586215019226 Current Avg. tumor Dice: 0.6474111080169678 Current Avg. lymph Dice: 0.628994882106781\n"
     ]
    },
    {
     "name": "stderr",
     "output_type": "stream",
     "text": [
      "Training (14159 / 18000 Steps) (loss=0.45191): 100%|██████████| 80/80 [02:48<00:00,  2.11s/it]\n",
      "Validate (14160 / 10 Steps): 100%|██████████| 18/18 [01:01<00:00,  3.43s/it]<00:51,  1.29s/it]\n",
      "Training (14200 / 18000 Steps) (loss=0.51112):  51%|█████▏    | 41/80 [01:58<12:56, 19.91s/it]"
     ]
    },
    {
     "name": "stdout",
     "output_type": "stream",
     "text": [
      "Model Was Not Saved ! Current Best Avg. Dice: 0.6461836099624634 Current Avg. Dice: 0.6241751909255981 Current Avg. tumor Dice: 0.6600549817085266 Current Avg. lymph Dice: 0.6127074956893921\n"
     ]
    },
    {
     "name": "stderr",
     "output_type": "stream",
     "text": [
      "Training (14239 / 18000 Steps) (loss=0.46298): 100%|██████████| 80/80 [02:48<00:00,  2.11s/it]\n",
      "Validate (14240 / 10 Steps): 100%|██████████| 18/18 [01:01<00:00,  3.44s/it]<00:26,  1.32s/it]\n",
      "Training (14300 / 18000 Steps) (loss=0.38783):  76%|███████▋  | 61/80 [02:23<06:17, 19.89s/it]"
     ]
    },
    {
     "name": "stdout",
     "output_type": "stream",
     "text": [
      "Model Was Not Saved ! Current Best Avg. Dice: 0.6461836099624634 Current Avg. Dice: 0.6226274967193604 Current Avg. tumor Dice: 0.6473284363746643 Current Avg. lymph Dice: 0.6200078129768372\n"
     ]
    },
    {
     "name": "stderr",
     "output_type": "stream",
     "text": [
      "Training (14319 / 18000 Steps) (loss=0.42320): 100%|██████████| 80/80 [02:48<00:00,  2.11s/it]\n",
      "Training (14399 / 18000 Steps) (loss=0.50433): 100%|██████████| 80/80 [01:46<00:00,  1.33s/it]\n",
      "Validate (14400 / 10 Steps): 100%|██████████| 18/18 [01:01<00:00,  3.44s/it]?, ?it/s]\n",
      "Training (14400 / 18000 Steps) (loss=0.50462):   1%|▏         | 1/80 [01:05<1:26:48, 65.93s/it]"
     ]
    },
    {
     "name": "stdout",
     "output_type": "stream",
     "text": [
      "Model Was Not Saved ! Current Best Avg. Dice: 0.6461836099624634 Current Avg. Dice: 0.6413866877555847 Current Avg. tumor Dice: 0.6697794198989868 Current Avg. lymph Dice: 0.6376829147338867\n"
     ]
    },
    {
     "name": "stderr",
     "output_type": "stream",
     "text": [
      "Training (14479 / 18000 Steps) (loss=0.59011): 100%|██████████| 80/80 [02:48<00:00,  2.10s/it] \n",
      "Validate (14480 / 10 Steps): 100%|██████████| 18/18 [01:01<00:00,  3.44s/it]<01:18,  1.31s/it]\n",
      "Training (14500 / 18000 Steps) (loss=0.40191):  26%|██▋       | 21/80 [01:31<19:33, 19.90s/it]"
     ]
    },
    {
     "name": "stdout",
     "output_type": "stream",
     "text": [
      "Model Was Not Saved ! Current Best Avg. Dice: 0.6461836099624634 Current Avg. Dice: 0.626740038394928 Current Avg. tumor Dice: 0.6585564613342285 Current Avg. lymph Dice: 0.61603844165802\n"
     ]
    },
    {
     "name": "stderr",
     "output_type": "stream",
     "text": [
      "Training (14559 / 18000 Steps) (loss=0.40886): 100%|██████████| 80/80 [02:48<00:00,  2.11s/it]\n",
      "Validate (14560 / 10 Steps): 100%|██████████| 18/18 [01:01<00:00,  3.43s/it]<00:50,  1.27s/it]\n",
      "Training (14600 / 18000 Steps) (loss=0.51866):  51%|█████▏    | 41/80 [01:57<12:52, 19.82s/it]"
     ]
    },
    {
     "name": "stdout",
     "output_type": "stream",
     "text": [
      "Model Was Not Saved ! Current Best Avg. Dice: 0.6461836099624634 Current Avg. Dice: 0.6319867372512817 Current Avg. tumor Dice: 0.6553768515586853 Current Avg. lymph Dice: 0.6369203329086304\n"
     ]
    },
    {
     "name": "stderr",
     "output_type": "stream",
     "text": [
      "Training (14639 / 18000 Steps) (loss=0.43513): 100%|██████████| 80/80 [02:48<00:00,  2.11s/it]\n",
      "Validate (14640 / 10 Steps): 100%|██████████| 18/18 [01:01<00:00,  3.44s/it]<00:26,  1.34s/it]\n",
      "Training (14700 / 18000 Steps) (loss=0.29094):  76%|███████▋  | 61/80 [02:24<06:18, 19.91s/it]"
     ]
    },
    {
     "name": "stdout",
     "output_type": "stream",
     "text": [
      "Model Was Not Saved ! Current Best Avg. Dice: 0.6461836099624634 Current Avg. Dice: 0.6410189867019653 Current Avg. tumor Dice: 0.6734219193458557 Current Avg. lymph Dice: 0.6297317743301392\n"
     ]
    },
    {
     "name": "stderr",
     "output_type": "stream",
     "text": [
      "Training (14719 / 18000 Steps) (loss=0.43545): 100%|██████████| 80/80 [02:48<00:00,  2.11s/it]\n",
      "Training (14799 / 18000 Steps) (loss=0.53613): 100%|██████████| 80/80 [01:46<00:00,  1.33s/it]\n",
      "Validate (14800 / 10 Steps): 100%|██████████| 18/18 [01:01<00:00,  3.44s/it]?, ?it/s]\n",
      "Training (14800 / 18000 Steps) (loss=0.48709):   1%|▏         | 1/80 [01:05<1:26:45, 65.89s/it]"
     ]
    },
    {
     "name": "stdout",
     "output_type": "stream",
     "text": [
      "Model Was Not Saved ! Current Best Avg. Dice: 0.6461836099624634 Current Avg. Dice: 0.6330282688140869 Current Avg. tumor Dice: 0.6557105779647827 Current Avg. lymph Dice: 0.6368494033813477\n"
     ]
    },
    {
     "name": "stderr",
     "output_type": "stream",
     "text": [
      "Training (14879 / 18000 Steps) (loss=0.43332): 100%|██████████| 80/80 [02:48<00:00,  2.10s/it] \n",
      "Validate (14880 / 10 Steps): 100%|██████████| 18/18 [01:02<00:00,  3.45s/it]<01:18,  1.30s/it]\n",
      "Training (14900 / 18000 Steps) (loss=0.39353):  26%|██▋       | 21/80 [01:31<19:35, 19.93s/it]"
     ]
    },
    {
     "name": "stdout",
     "output_type": "stream",
     "text": [
      "Model Was Not Saved ! Current Best Avg. Dice: 0.6461836099624634 Current Avg. Dice: 0.6354343891143799 Current Avg. tumor Dice: 0.6573891639709473 Current Avg. lymph Dice: 0.6368077993392944\n"
     ]
    },
    {
     "name": "stderr",
     "output_type": "stream",
     "text": [
      "Training (14959 / 18000 Steps) (loss=0.46489): 100%|██████████| 80/80 [02:48<00:00,  2.11s/it]\n",
      "Validate (14960 / 10 Steps): 100%|██████████| 18/18 [01:01<00:00,  3.44s/it]<00:50,  1.27s/it]\n",
      "Training (15000 / 18000 Steps) (loss=0.32666):  51%|█████▏    | 41/80 [01:57<12:53, 19.84s/it]"
     ]
    },
    {
     "name": "stdout",
     "output_type": "stream",
     "text": [
      "Model Was Not Saved ! Current Best Avg. Dice: 0.6461836099624634 Current Avg. Dice: 0.6408067345619202 Current Avg. tumor Dice: 0.6692660450935364 Current Avg. lymph Dice: 0.6444850564002991\n"
     ]
    },
    {
     "name": "stderr",
     "output_type": "stream",
     "text": [
      "Training (15039 / 18000 Steps) (loss=0.57062): 100%|██████████| 80/80 [02:48<00:00,  2.10s/it]\n",
      "Validate (15040 / 10 Steps): 100%|██████████| 18/18 [01:01<00:00,  3.44s/it]<00:25,  1.29s/it]\n",
      "Training (15100 / 18000 Steps) (loss=0.38894):  76%|███████▋  | 61/80 [02:23<06:17, 19.88s/it]"
     ]
    },
    {
     "name": "stdout",
     "output_type": "stream",
     "text": [
      "Model Was Not Saved ! Current Best Avg. Dice: 0.6461836099624634 Current Avg. Dice: 0.6278314590454102 Current Avg. tumor Dice: 0.656437873840332 Current Avg. lymph Dice: 0.6268720030784607\n"
     ]
    },
    {
     "name": "stderr",
     "output_type": "stream",
     "text": [
      "Training (15119 / 18000 Steps) (loss=0.40307): 100%|██████████| 80/80 [02:47<00:00,  2.10s/it]\n",
      "Training (15199 / 18000 Steps) (loss=0.47894): 100%|██████████| 80/80 [01:46<00:00,  1.33s/it]\n",
      "Validate (15200 / 10 Steps): 100%|██████████| 18/18 [01:02<00:00,  3.46s/it]?, ?it/s]\n",
      "Training (15200 / 18000 Steps) (loss=0.56805):   1%|▏         | 1/80 [01:06<1:27:16, 66.28s/it]"
     ]
    },
    {
     "name": "stdout",
     "output_type": "stream",
     "text": [
      "Model Was Not Saved ! Current Best Avg. Dice: 0.6461836099624634 Current Avg. Dice: 0.6350820064544678 Current Avg. tumor Dice: 0.6466222405433655 Current Avg. lymph Dice: 0.6489806175231934\n"
     ]
    },
    {
     "name": "stderr",
     "output_type": "stream",
     "text": [
      "Training (15279 / 18000 Steps) (loss=0.56080): 100%|██████████| 80/80 [02:48<00:00,  2.11s/it] \n",
      "Validate (15280 / 10 Steps): 100%|██████████| 18/18 [01:01<00:00,  3.43s/it]<01:17,  1.29s/it]\n",
      "Training (15300 / 18000 Steps) (loss=0.45834):  26%|██▋       | 21/80 [01:32<19:45, 20.09s/it]"
     ]
    },
    {
     "name": "stdout",
     "output_type": "stream",
     "text": [
      "Model Was Saved ! Current Best Avg. Dice: 0.6521732807159424 Current Avg. Dice: 0.6521732807159424 Current Avg. tumor Dice: 0.6733934879302979 Current Avg. lymph Dice: 0.6599717736244202\n"
     ]
    },
    {
     "name": "stderr",
     "output_type": "stream",
     "text": [
      "Training (15359 / 18000 Steps) (loss=0.28479): 100%|██████████| 80/80 [02:49<00:00,  2.12s/it]\n",
      "Validate (15360 / 10 Steps): 100%|██████████| 18/18 [01:01<00:00,  3.43s/it]<00:51,  1.28s/it]\n",
      "Training (15400 / 18000 Steps) (loss=0.41424):  51%|█████▏    | 41/80 [01:57<12:53, 19.82s/it]"
     ]
    },
    {
     "name": "stdout",
     "output_type": "stream",
     "text": [
      "Model Was Not Saved ! Current Best Avg. Dice: 0.6521732807159424 Current Avg. Dice: 0.644783616065979 Current Avg. tumor Dice: 0.6701316833496094 Current Avg. lymph Dice: 0.6428924202919006\n"
     ]
    },
    {
     "name": "stderr",
     "output_type": "stream",
     "text": [
      "Training (15439 / 18000 Steps) (loss=0.55798): 100%|██████████| 80/80 [02:48<00:00,  2.11s/it]\n",
      "Validate (15440 / 10 Steps): 100%|██████████| 18/18 [01:01<00:00,  3.44s/it]<00:26,  1.34s/it]\n",
      "Training (15500 / 18000 Steps) (loss=0.55011):  76%|███████▋  | 61/80 [02:24<06:18, 19.91s/it]"
     ]
    },
    {
     "name": "stdout",
     "output_type": "stream",
     "text": [
      "Model Was Not Saved ! Current Best Avg. Dice: 0.6521732807159424 Current Avg. Dice: 0.629755437374115 Current Avg. tumor Dice: 0.6595499515533447 Current Avg. lymph Dice: 0.6289677023887634\n"
     ]
    },
    {
     "name": "stderr",
     "output_type": "stream",
     "text": [
      "Training (15519 / 18000 Steps) (loss=0.61877): 100%|██████████| 80/80 [02:49<00:00,  2.12s/it]\n",
      "Training (15599 / 18000 Steps) (loss=0.38285): 100%|██████████| 80/80 [01:46<00:00,  1.33s/it]\n",
      "Validate (15600 / 10 Steps): 100%|██████████| 18/18 [01:02<00:00,  3.44s/it]?, ?it/s]\n",
      "Training (15600 / 18000 Steps) (loss=0.36401):   1%|▏         | 1/80 [01:05<1:26:20, 65.58s/it]"
     ]
    },
    {
     "name": "stdout",
     "output_type": "stream",
     "text": [
      "Model Was Not Saved ! Current Best Avg. Dice: 0.6521732807159424 Current Avg. Dice: 0.641254723072052 Current Avg. tumor Dice: 0.6622399091720581 Current Avg. lymph Dice: 0.6490328311920166\n"
     ]
    },
    {
     "name": "stderr",
     "output_type": "stream",
     "text": [
      "Training (15679 / 18000 Steps) (loss=0.49059): 100%|██████████| 80/80 [02:48<00:00,  2.10s/it] \n",
      "Validate (15680 / 10 Steps): 100%|██████████| 18/18 [01:02<00:00,  3.45s/it]<01:19,  1.33s/it]\n",
      "Training (15700 / 18000 Steps) (loss=0.41971):  26%|██▋       | 21/80 [01:31<19:36, 19.94s/it]"
     ]
    },
    {
     "name": "stdout",
     "output_type": "stream",
     "text": [
      "Model Was Not Saved ! Current Best Avg. Dice: 0.6521732807159424 Current Avg. Dice: 0.6388373970985413 Current Avg. tumor Dice: 0.6630725860595703 Current Avg. lymph Dice: 0.6396477222442627\n"
     ]
    },
    {
     "name": "stderr",
     "output_type": "stream",
     "text": [
      "Training (15759 / 18000 Steps) (loss=0.49754): 100%|██████████| 80/80 [02:48<00:00,  2.11s/it]\n",
      "Validate (15760 / 10 Steps): 100%|██████████| 18/18 [01:02<00:00,  3.47s/it]<00:51,  1.29s/it]\n",
      "Training (15800 / 18000 Steps) (loss=0.45618):  51%|█████▏    | 41/80 [01:58<13:03, 20.10s/it]"
     ]
    },
    {
     "name": "stdout",
     "output_type": "stream",
     "text": [
      "Model Was Not Saved ! Current Best Avg. Dice: 0.6521732807159424 Current Avg. Dice: 0.6377782225608826 Current Avg. tumor Dice: 0.664197564125061 Current Avg. lymph Dice: 0.6387414932250977\n"
     ]
    },
    {
     "name": "stderr",
     "output_type": "stream",
     "text": [
      "Training (15839 / 18000 Steps) (loss=0.38544): 100%|██████████| 80/80 [02:49<00:00,  2.12s/it]\n",
      "Validate (15840 / 10 Steps): 100%|██████████| 18/18 [01:01<00:00,  3.43s/it]<00:25,  1.28s/it]\n",
      "Training (15900 / 18000 Steps) (loss=0.52298):  76%|███████▋  | 61/80 [02:23<06:16, 19.82s/it]"
     ]
    },
    {
     "name": "stdout",
     "output_type": "stream",
     "text": [
      "Model Was Not Saved ! Current Best Avg. Dice: 0.6521732807159424 Current Avg. Dice: 0.6387042999267578 Current Avg. tumor Dice: 0.6538185477256775 Current Avg. lymph Dice: 0.6503270864486694\n"
     ]
    },
    {
     "name": "stderr",
     "output_type": "stream",
     "text": [
      "Training (15919 / 18000 Steps) (loss=0.54392): 100%|██████████| 80/80 [02:47<00:00,  2.10s/it]\n",
      "Training (15999 / 18000 Steps) (loss=0.37059): 100%|██████████| 80/80 [01:46<00:00,  1.33s/it]\n",
      "Validate (16000 / 10 Steps): 100%|██████████| 18/18 [01:01<00:00,  3.43s/it]?, ?it/s]\n",
      "Training (16000 / 18000 Steps) (loss=0.41370):   1%|▏         | 1/80 [01:05<1:26:45, 65.89s/it]"
     ]
    },
    {
     "name": "stdout",
     "output_type": "stream",
     "text": [
      "Model Was Not Saved ! Current Best Avg. Dice: 0.6521732807159424 Current Avg. Dice: 0.6391951441764832 Current Avg. tumor Dice: 0.6690891981124878 Current Avg. lymph Dice: 0.6325211524963379\n"
     ]
    },
    {
     "name": "stderr",
     "output_type": "stream",
     "text": [
      "Training (16079 / 18000 Steps) (loss=0.42070): 100%|██████████| 80/80 [02:48<00:00,  2.11s/it] \n",
      "Validate (16080 / 10 Steps): 100%|██████████| 18/18 [01:02<00:00,  3.45s/it]<01:16,  1.28s/it]\n",
      "Training (16100 / 18000 Steps) (loss=0.42369):  26%|██▋       | 21/80 [01:31<19:35, 19.92s/it]"
     ]
    },
    {
     "name": "stdout",
     "output_type": "stream",
     "text": [
      "Model Was Not Saved ! Current Best Avg. Dice: 0.6521732807159424 Current Avg. Dice: 0.627877950668335 Current Avg. tumor Dice: 0.6654888391494751 Current Avg. lymph Dice: 0.6166481375694275\n"
     ]
    },
    {
     "name": "stderr",
     "output_type": "stream",
     "text": [
      "Training (16159 / 18000 Steps) (loss=0.49745): 100%|██████████| 80/80 [02:48<00:00,  2.11s/it]\n",
      "Validate (16160 / 10 Steps): 100%|██████████| 18/18 [01:01<00:00,  3.44s/it]<00:51,  1.30s/it]\n",
      "Training (16200 / 18000 Steps) (loss=0.51298):  51%|█████▏    | 41/80 [01:58<12:56, 19.92s/it]"
     ]
    },
    {
     "name": "stdout",
     "output_type": "stream",
     "text": [
      "Model Was Not Saved ! Current Best Avg. Dice: 0.6521732807159424 Current Avg. Dice: 0.6113317012786865 Current Avg. tumor Dice: 0.6150571703910828 Current Avg. lymph Dice: 0.6294629573822021\n"
     ]
    },
    {
     "name": "stderr",
     "output_type": "stream",
     "text": [
      "Training (16239 / 18000 Steps) (loss=0.46903): 100%|██████████| 80/80 [02:48<00:00,  2.11s/it]\n",
      "Validate (16240 / 10 Steps): 100%|██████████| 18/18 [01:01<00:00,  3.44s/it]<00:25,  1.29s/it]\n",
      "Training (16300 / 18000 Steps) (loss=0.48099):  76%|███████▋  | 61/80 [02:23<06:17, 19.87s/it]"
     ]
    },
    {
     "name": "stdout",
     "output_type": "stream",
     "text": [
      "Model Was Not Saved ! Current Best Avg. Dice: 0.6521732807159424 Current Avg. Dice: 0.626213788986206 Current Avg. tumor Dice: 0.6537013649940491 Current Avg. lymph Dice: 0.6260501146316528\n"
     ]
    },
    {
     "name": "stderr",
     "output_type": "stream",
     "text": [
      "Training (16319 / 18000 Steps) (loss=0.45703): 100%|██████████| 80/80 [02:48<00:00,  2.10s/it]\n",
      "Training (16399 / 18000 Steps) (loss=0.35420): 100%|██████████| 80/80 [01:46<00:00,  1.34s/it]\n",
      "Validate (16400 / 10 Steps): 100%|██████████| 18/18 [01:02<00:00,  3.45s/it]?, ?it/s]\n",
      "Training (16400 / 18000 Steps) (loss=0.50035):   1%|▏         | 1/80 [01:05<1:26:52, 65.98s/it]"
     ]
    },
    {
     "name": "stdout",
     "output_type": "stream",
     "text": [
      "Model Was Not Saved ! Current Best Avg. Dice: 0.6521732807159424 Current Avg. Dice: 0.629964292049408 Current Avg. tumor Dice: 0.655589759349823 Current Avg. lymph Dice: 0.6256486177444458\n"
     ]
    },
    {
     "name": "stderr",
     "output_type": "stream",
     "text": [
      "Training (16479 / 18000 Steps) (loss=0.50701): 100%|██████████| 80/80 [02:48<00:00,  2.10s/it] \n",
      "Validate (16480 / 10 Steps): 100%|██████████| 18/18 [01:02<00:00,  3.45s/it]<01:17,  1.29s/it]\n",
      "Training (16500 / 18000 Steps) (loss=0.37338):  26%|██▋       | 21/80 [01:31<19:34, 19.91s/it]"
     ]
    },
    {
     "name": "stdout",
     "output_type": "stream",
     "text": [
      "Model Was Not Saved ! Current Best Avg. Dice: 0.6521732807159424 Current Avg. Dice: 0.6276551485061646 Current Avg. tumor Dice: 0.6515438556671143 Current Avg. lymph Dice: 0.6279048323631287\n"
     ]
    },
    {
     "name": "stderr",
     "output_type": "stream",
     "text": [
      "Training (16559 / 18000 Steps) (loss=0.59909): 100%|██████████| 80/80 [02:48<00:00,  2.10s/it]\n",
      "Validate (16560 / 10 Steps): 100%|██████████| 18/18 [01:02<00:00,  3.44s/it]<00:51,  1.29s/it]\n",
      "Training (16600 / 18000 Steps) (loss=0.50767):  51%|█████▏    | 41/80 [01:57<12:56, 19.91s/it]"
     ]
    },
    {
     "name": "stdout",
     "output_type": "stream",
     "text": [
      "Model Was Not Saved ! Current Best Avg. Dice: 0.6521732807159424 Current Avg. Dice: 0.6463107466697693 Current Avg. tumor Dice: 0.6742644309997559 Current Avg. lymph Dice: 0.6450710892677307\n"
     ]
    },
    {
     "name": "stderr",
     "output_type": "stream",
     "text": [
      "Training (16639 / 18000 Steps) (loss=0.54209): 100%|██████████| 80/80 [02:48<00:00,  2.11s/it]\n",
      "Validate (16640 / 10 Steps): 100%|██████████| 18/18 [01:02<00:00,  3.45s/it]<00:26,  1.32s/it]\n",
      "Training (16700 / 18000 Steps) (loss=0.49491):  76%|███████▋  | 61/80 [02:24<06:18, 19.94s/it]"
     ]
    },
    {
     "name": "stdout",
     "output_type": "stream",
     "text": [
      "Model Was Not Saved ! Current Best Avg. Dice: 0.6521732807159424 Current Avg. Dice: 0.6417422890663147 Current Avg. tumor Dice: 0.6648540496826172 Current Avg. lymph Dice: 0.6436833739280701\n"
     ]
    },
    {
     "name": "stderr",
     "output_type": "stream",
     "text": [
      "Training (16719 / 18000 Steps) (loss=0.54200): 100%|██████████| 80/80 [02:49<00:00,  2.12s/it]\n",
      "Training (16799 / 18000 Steps) (loss=0.34625): 100%|██████████| 80/80 [01:46<00:00,  1.33s/it]\n",
      "Validate (16800 / 10 Steps): 100%|██████████| 18/18 [01:01<00:00,  3.44s/it]?, ?it/s]\n",
      "Training (16800 / 18000 Steps) (loss=0.41930):   1%|▏         | 1/80 [01:06<1:27:29, 66.45s/it]"
     ]
    },
    {
     "name": "stdout",
     "output_type": "stream",
     "text": [
      "Model Was Saved ! Current Best Avg. Dice: 0.6556999683380127 Current Avg. Dice: 0.6556999683380127 Current Avg. tumor Dice: 0.6807941794395447 Current Avg. lymph Dice: 0.6576287150382996\n"
     ]
    },
    {
     "name": "stderr",
     "output_type": "stream",
     "text": [
      "Training (16879 / 18000 Steps) (loss=0.42277): 100%|██████████| 80/80 [02:49<00:00,  2.12s/it] \n",
      "Validate (16880 / 10 Steps): 100%|██████████| 18/18 [01:02<00:00,  3.46s/it]<01:18,  1.31s/it]\n",
      "Training (16900 / 18000 Steps) (loss=0.51979):  26%|██▋       | 21/80 [01:32<19:39, 19.98s/it]"
     ]
    },
    {
     "name": "stdout",
     "output_type": "stream",
     "text": [
      "Model Was Not Saved ! Current Best Avg. Dice: 0.6556999683380127 Current Avg. Dice: 0.6424578428268433 Current Avg. tumor Dice: 0.6690085530281067 Current Avg. lymph Dice: 0.6408064961433411\n"
     ]
    },
    {
     "name": "stderr",
     "output_type": "stream",
     "text": [
      "Training (16959 / 18000 Steps) (loss=0.32906): 100%|██████████| 80/80 [02:49<00:00,  2.12s/it]\n",
      "Validate (16960 / 10 Steps): 100%|██████████| 18/18 [01:02<00:00,  3.44s/it]<00:51,  1.28s/it]\n",
      "Training (17000 / 18000 Steps) (loss=0.31526):  51%|█████▏    | 41/80 [01:57<12:56, 19.91s/it]"
     ]
    },
    {
     "name": "stdout",
     "output_type": "stream",
     "text": [
      "Model Was Not Saved ! Current Best Avg. Dice: 0.6556999683380127 Current Avg. Dice: 0.6478477120399475 Current Avg. tumor Dice: 0.673697292804718 Current Avg. lymph Dice: 0.648524284362793\n"
     ]
    },
    {
     "name": "stderr",
     "output_type": "stream",
     "text": [
      "Training (17039 / 18000 Steps) (loss=0.45125): 100%|██████████| 80/80 [02:48<00:00,  2.10s/it]\n",
      "Validate (17040 / 10 Steps): 100%|██████████| 18/18 [01:02<00:00,  3.46s/it]<00:25,  1.29s/it]\n",
      "Training (17100 / 18000 Steps) (loss=0.34197):  76%|███████▋  | 61/80 [02:23<06:19, 19.95s/it]"
     ]
    },
    {
     "name": "stdout",
     "output_type": "stream",
     "text": [
      "Model Was Not Saved ! Current Best Avg. Dice: 0.6556999683380127 Current Avg. Dice: 0.6304185390472412 Current Avg. tumor Dice: 0.6739110946655273 Current Avg. lymph Dice: 0.612571120262146\n"
     ]
    },
    {
     "name": "stderr",
     "output_type": "stream",
     "text": [
      "Training (17119 / 18000 Steps) (loss=0.42106): 100%|██████████| 80/80 [02:48<00:00,  2.11s/it]\n",
      "Training (17199 / 18000 Steps) (loss=0.59867): 100%|██████████| 80/80 [01:46<00:00,  1.34s/it]\n",
      "Validate (17200 / 10 Steps): 100%|██████████| 18/18 [01:02<00:00,  3.45s/it]?, ?it/s]\n",
      "Training (17200 / 18000 Steps) (loss=0.41912):   1%|▏         | 1/80 [01:06<1:27:16, 66.28s/it]"
     ]
    },
    {
     "name": "stdout",
     "output_type": "stream",
     "text": [
      "Model Was Not Saved ! Current Best Avg. Dice: 0.6556999683380127 Current Avg. Dice: 0.6347622871398926 Current Avg. tumor Dice: 0.6526258587837219 Current Avg. lymph Dice: 0.6477759480476379\n"
     ]
    },
    {
     "name": "stderr",
     "output_type": "stream",
     "text": [
      "Training (17279 / 18000 Steps) (loss=0.42598): 100%|██████████| 80/80 [02:48<00:00,  2.11s/it] \n",
      "Validate (17280 / 10 Steps): 100%|██████████| 18/18 [01:02<00:00,  3.45s/it]<01:17,  1.30s/it]\n",
      "Training (17300 / 18000 Steps) (loss=0.42195):  26%|██▋       | 21/80 [01:32<19:38, 19.97s/it]"
     ]
    },
    {
     "name": "stdout",
     "output_type": "stream",
     "text": [
      "Model Was Not Saved ! Current Best Avg. Dice: 0.6556999683380127 Current Avg. Dice: 0.6393353343009949 Current Avg. tumor Dice: 0.6524579524993896 Current Avg. lymph Dice: 0.6502116322517395\n"
     ]
    },
    {
     "name": "stderr",
     "output_type": "stream",
     "text": [
      "Training (17359 / 18000 Steps) (loss=0.35756): 100%|██████████| 80/80 [02:49<00:00,  2.12s/it]\n",
      "Validate (17360 / 10 Steps): 100%|██████████| 18/18 [01:01<00:00,  3.43s/it]<00:51,  1.28s/it]\n",
      "Training (17400 / 18000 Steps) (loss=0.51846):  51%|█████▏    | 41/80 [01:57<12:55, 19.89s/it]"
     ]
    },
    {
     "name": "stdout",
     "output_type": "stream",
     "text": [
      "Model Was Not Saved ! Current Best Avg. Dice: 0.6556999683380127 Current Avg. Dice: 0.6210334897041321 Current Avg. tumor Dice: 0.6458407044410706 Current Avg. lymph Dice: 0.6281291842460632\n"
     ]
    },
    {
     "name": "stderr",
     "output_type": "stream",
     "text": [
      "Training (17439 / 18000 Steps) (loss=0.48584): 100%|██████████| 80/80 [02:48<00:00,  2.10s/it]\n",
      "Validate (17440 / 10 Steps): 100%|██████████| 18/18 [01:01<00:00,  3.44s/it]<00:25,  1.28s/it]\n",
      "Training (17500 / 18000 Steps) (loss=0.55022):  76%|███████▋  | 61/80 [02:23<06:17, 19.86s/it]"
     ]
    },
    {
     "name": "stdout",
     "output_type": "stream",
     "text": [
      "Model Was Not Saved ! Current Best Avg. Dice: 0.6556999683380127 Current Avg. Dice: 0.6371090412139893 Current Avg. tumor Dice: 0.6595888137817383 Current Avg. lymph Dice: 0.6434950828552246\n"
     ]
    },
    {
     "name": "stderr",
     "output_type": "stream",
     "text": [
      "Training (17519 / 18000 Steps) (loss=0.51816): 100%|██████████| 80/80 [02:47<00:00,  2.10s/it]\n",
      "Training (17599 / 18000 Steps) (loss=0.46216): 100%|██████████| 80/80 [01:46<00:00,  1.33s/it]\n",
      "Validate (17600 / 10 Steps): 100%|██████████| 18/18 [01:01<00:00,  3.43s/it]?, ?it/s]\n",
      "Training (17600 / 18000 Steps) (loss=0.49146):   1%|▏         | 1/80 [01:05<1:26:19, 65.56s/it]"
     ]
    },
    {
     "name": "stdout",
     "output_type": "stream",
     "text": [
      "Model Was Not Saved ! Current Best Avg. Dice: 0.6556999683380127 Current Avg. Dice: 0.627076268196106 Current Avg. tumor Dice: 0.6599911451339722 Current Avg. lymph Dice: 0.615044355392456\n"
     ]
    },
    {
     "name": "stderr",
     "output_type": "stream",
     "text": [
      "Training (17679 / 18000 Steps) (loss=0.37734): 100%|██████████| 80/80 [02:48<00:00,  2.10s/it] \n",
      "Validate (17680 / 10 Steps): 100%|██████████| 18/18 [01:02<00:00,  3.45s/it]<01:17,  1.29s/it]\n",
      "Training (17700 / 18000 Steps) (loss=0.52976):  26%|██▋       | 21/80 [01:32<19:36, 19.93s/it]"
     ]
    },
    {
     "name": "stdout",
     "output_type": "stream",
     "text": [
      "Model Was Not Saved ! Current Best Avg. Dice: 0.6556999683380127 Current Avg. Dice: 0.6301088333129883 Current Avg. tumor Dice: 0.6479871273040771 Current Avg. lymph Dice: 0.6374257206916809\n"
     ]
    },
    {
     "name": "stderr",
     "output_type": "stream",
     "text": [
      "Training (17759 / 18000 Steps) (loss=0.29220): 100%|██████████| 80/80 [02:48<00:00,  2.11s/it]\n",
      "Validate (17760 / 10 Steps): 100%|██████████| 18/18 [01:01<00:00,  3.44s/it]<00:51,  1.28s/it]\n",
      "Training (17800 / 18000 Steps) (loss=0.39407):  51%|█████▏    | 41/80 [01:57<12:58, 19.95s/it]"
     ]
    },
    {
     "name": "stdout",
     "output_type": "stream",
     "text": [
      "Model Was Not Saved ! Current Best Avg. Dice: 0.6556999683380127 Current Avg. Dice: 0.6469066143035889 Current Avg. tumor Dice: 0.6722726225852966 Current Avg. lymph Dice: 0.6465787887573242\n"
     ]
    },
    {
     "name": "stderr",
     "output_type": "stream",
     "text": [
      "Training (17839 / 18000 Steps) (loss=0.33596): 100%|██████████| 80/80 [02:49<00:00,  2.11s/it]\n",
      "Validate (17840 / 10 Steps): 100%|██████████| 18/18 [01:01<00:00,  3.43s/it]<00:25,  1.29s/it]\n",
      "Training (17900 / 18000 Steps) (loss=0.38646):  76%|███████▋  | 61/80 [02:23<06:16, 19.83s/it]"
     ]
    },
    {
     "name": "stdout",
     "output_type": "stream",
     "text": [
      "Model Was Not Saved ! Current Best Avg. Dice: 0.6556999683380127 Current Avg. Dice: 0.6344728469848633 Current Avg. tumor Dice: 0.6647643446922302 Current Avg. lymph Dice: 0.6347168684005737\n"
     ]
    },
    {
     "name": "stderr",
     "output_type": "stream",
     "text": [
      "Training (17919 / 18000 Steps) (loss=0.57693): 100%|██████████| 80/80 [02:47<00:00,  2.10s/it]\n",
      "Training (17999 / 18000 Steps) (loss=0.46802): 100%|██████████| 80/80 [01:45<00:00,  1.32s/it]\n"
     ]
    }
   ],
   "source": [
    "epoch = 0 # used for LR scheduler\n",
    "max_num_epochs = 530 # used for LR scheduler\n",
    "\n",
    "\n",
    "while global_step < max_iterations:\n",
    "    global_step, dice_val_best, global_step_best = train(\n",
    "        global_step, train_loader, dice_val_best, global_step_best\n",
    "    )\n",
    "    epoch += 1\n",
    "    #optimizer.param_groups[0]['lr'] = poly_lr(epoch, max_num_epochs, 0.005676 , 0.9)\n",
    "# model.load_state_dict(torch.load(os.path.join(model_dir, \"best_metric_luck_UNETr_prompt.pth\")))"
   ]
  },
  {
   "cell_type": "code",
   "execution_count": null,
   "metadata": {},
   "outputs": [],
   "source": []
  }
 ],
 "metadata": {
  "kernelspec": {
   "display_name": "clam",
   "language": "python",
   "name": "python3"
  },
  "language_info": {
   "codemirror_mode": {
    "name": "ipython",
    "version": 3
   },
   "file_extension": ".py",
   "mimetype": "text/x-python",
   "name": "python",
   "nbconvert_exporter": "python",
   "pygments_lexer": "ipython3",
   "version": "3.8.0"
  }
 },
 "nbformat": 4,
 "nbformat_minor": 2
}
