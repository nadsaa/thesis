{
 "cells": [
  {
   "cell_type": "code",
   "execution_count": 2,
   "metadata": {},
   "outputs": [
    {
     "data": {
      "text/plain": [
       "1"
      ]
     },
     "execution_count": 2,
     "metadata": {},
     "output_type": "execute_result"
    }
   ],
   "source": [
    "import os\n",
    "os.environ[\"CUDA_DEVICE_ORDER\"] = \"PCI_BUS_ID\"\n",
    "os.environ[\"CUDA_VISIBLE_DEVICES\"] = \"0\" \n",
    "import torch\n",
    "torch.cuda.device_count()"
   ]
  },
  {
   "cell_type": "code",
   "execution_count": 3,
   "metadata": {},
   "outputs": [],
   "source": [
    "import os\n",
    "import shutil\n",
    "import tempfile\n",
    "\n",
    "import matplotlib.pyplot as plt\n",
    "import numpy as np\n",
    "from tqdm import tqdm\n",
    "from glob import glob\n",
    "# import wandb\n",
    "\n",
    "import monai\n",
    "from monai.losses import DiceCELoss, DiceFocalLoss, FocalLoss\n",
    "from monai.inferers import sliding_window_inference\n",
    "from monai import transforms\n",
    "\n",
    "from monai.transforms import (\n",
    "    AsDiscrete,\n",
    "    Compose,\n",
    "    CropForegroundd,\n",
    "    LoadImaged,\n",
    "    Orientationd,\n",
    "    RandFlipd,\n",
    "    RandCropByPosNegLabeld,\n",
    "    RandShiftIntensityd,\n",
    "    ScaleIntensityRanged,\n",
    "    Spacingd,\n",
    "    RandRotate90d,\n",
    "    MapTransform,\n",
    "    ScaleIntensityd,\n",
    "    #AddChanneld,\n",
    "    SpatialPadd,\n",
    "    CenterSpatialCropd,\n",
    "    EnsureChannelFirstd,\n",
    "    ConcatItemsd,\n",
    "    AdjustContrastd, \n",
    "    Rand3DElasticd,\n",
    "    HistogramNormalized,\n",
    "    NormalizeIntensityd,\n",
    "    Invertd,\n",
    "    SaveImage,\n",
    "\n",
    ")\n",
    "\n",
    "from monai.config import print_config\n",
    "from monai.metrics import DiceMetric\n",
    "from monai.networks.nets import SwinUNETR, UNETR, SegResNet\n",
    "\n",
    "from monai.data import (\n",
    "    DataLoader,\n",
    "    CacheDataset,\n",
    "    load_decathlon_datalist,\n",
    "    decollate_batch,\n",
    ")\n",
    "from monai import data\n",
    "\n",
    "\n",
    "from monai.utils import first, set_determinism\n",
    "from sklearn.model_selection import train_test_split\n",
    "import json\n",
    "\n",
    "\n",
    "import torch"
   ]
  },
  {
   "cell_type": "code",
   "execution_count": 4,
   "metadata": {},
   "outputs": [],
   "source": [
    "set_determinism(seed=1024)\n"
   ]
  },
  {
   "cell_type": "code",
   "execution_count": null,
   "metadata": {},
   "outputs": [],
   "source": [
    "# import json\n",
    "# import os\n",
    "# import random\n",
    "\n",
    "# centers = ['CHUM', 'CHUP', 'CHUS', 'CHUV', 'HGJ', 'HMR', 'MDA']\n",
    "# base_dir = '/home/nada.saadi/MIS-FM/hecktor2022_cropped'\n",
    "# num_folds = 4\n",
    "\n",
    "# # Function to generate file paths for a patient\n",
    "# def generate_paths(center, patient_id):\n",
    "#     return {\n",
    "#         'id': os.path.join(base_dir, center, patient_id),\n",
    "#         'ct': os.path.join(base_dir, center, patient_id, f\"{patient_id}_ct.nii.gz\"),\n",
    "#         'pt': os.path.join(base_dir, center, patient_id, f\"{patient_id}_pt.nii.gz\"),\n",
    "#         'seg': os.path.join(base_dir, center, patient_id, f\"{patient_id}_gt.nii.gz\")\n",
    "#     }\n",
    "\n",
    "# # Gather all data entries\n",
    "# all_data = []\n",
    "# for center in centers:\n",
    "#     # Replace this with actual method to list patient IDs in each center\n",
    "#     patient_ids = os.listdir(os.path.join(base_dir, center))\n",
    "#     for patient_id in patient_ids:\n",
    "#         all_data.append(generate_paths(center, patient_id))\n",
    "\n",
    "# # Randomly assign data to folds\n",
    "# for entry in all_data:\n",
    "#     entry['fold'] = random.randint(1, num_folds)\n",
    "\n",
    "# # Wrap data in a parent dictionary under the \"training\" key\n",
    "# data_json = {\"training\": all_data}\n",
    "\n",
    "# # Save to JSON file\n",
    "# json_file_path = \"/home/nada.saadi/MIS-FM/hecktor2022_cropped/train_json_new.json\"\n",
    "# with open(json_file_path, \"w\") as f:\n",
    "#     json.dump(data_json, f, indent=4)\n",
    "\n",
    "# print(f\"JSON file created at {json_file_path}\")\n"
   ]
  },
  {
   "cell_type": "code",
   "execution_count": null,
   "metadata": {},
   "outputs": [],
   "source": [
    "import os\n",
    "import json\n",
    "import random\n",
    "\n",
    "def generate_paths(patient_id):\n",
    "    base_dir = '/home/nada.saadi/MIS-FM/hecktor2022_cropped/data'\n",
    "    return {\n",
    "        'id': os.path.join(base_dir, patient_id),\n",
    "        'ct': os.path.join(base_dir, patient_id, f\"{patient_id}_ct.nii.gz\"),\n",
    "        'pt': os.path.join(base_dir, patient_id, f\"{patient_id}_pt.nii.gz\"),\n",
    "        'seg': os.path.join(base_dir, patient_id, f\"{patient_id}_gt.nii.gz\")\n",
    "    }\n",
    "\n",
    "\n",
    "\n",
    "# Assign each data entry to a random fold\n",
    "all_data = []\n",
    "num_folds = 5\n",
    "for file_dir in sorted(glob('data/*')):\n",
    "    patient_id = file_dir.split('/')[-1]\n",
    "    entry = generate_paths(patient_id)\n",
    "    entry['fold'] = random.randint(1, num_folds) - 1\n",
    "    all_data.append(entry)\n",
    "\n",
    "# Compile data into a JSON structure\n",
    "data_json = {\"training\": all_data}\n",
    "\n",
    "# # Save to JSON file\n",
    "json_file_path = \"/home/nada.saadi/MIS-FM/hecktor2022_cropped/train_json_new.json\"\n",
    "with open(json_file_path, 'w') as f:\n",
    "    json.dump(data_json, f, indent=4)\n",
    "\n",
    "print(f\"JSON file created at {json_file_path}\")\n",
    "\n"
   ]
  },
  {
   "cell_type": "code",
   "execution_count": null,
   "metadata": {},
   "outputs": [],
   "source": [
    "# import json\n",
    "# import os\n",
    "# import random\n",
    "\n",
    "# # Assuming the 'patient_ids' list contains all the patient IDs from different centers\n",
    "# random.shuffle(patient_ids)\n",
    "\n",
    "# # Split into training and validation sets (80% training, 20% validation)\n",
    "# # Total files = 419 (training) + 105 (validation)\n",
    "# num_training = 419\n",
    "# num_validation = 105\n",
    "# train_patient_ids = patient_ids[:num_training]\n",
    "# val_patient_ids = patient_ids[num_training:num_training + num_validation]\n",
    "\n",
    "# # Generate dictionaries for training and validation\n",
    "# train_dicts = []\n",
    "# val_dicts = []\n",
    "\n",
    "# for pid in train_patient_ids:\n",
    "#     train_dicts.append({\n",
    "#         'id': f\"/home/nada.saadi/MIS-FM/hecktor2022_cropped/{pid}\",\n",
    "#         'fold': random.randint(0, 3),  # Random fold assignment\n",
    "#         'ct': f\"/home/nada.saadi/MIS-FM/hecktor2022_cropped/{pid}/{pid}_ct.nii.gz\",\n",
    "#         'pt': f\"/home/nada.saadi/MIS-FM/hecktor2022_cropped/{pid}/{pid}_pt.nii.gz\",\n",
    "#         'seg': f\"/home/nada.saadi/MIS-FM/hecktor2022_cropped/{pid}/{pid}_gt.nii.gz\"\n",
    "#     })\n",
    "\n",
    "# for pid in val_patient_ids:\n",
    "#     val_dicts.append({\n",
    "#         'id': f\"/home/nada.saadi/MIS-FM/hecktor2022_cropped/{pid}\",\n",
    "#         'fold': random.randint(0, 3),  # Random fold assignment\n",
    "#         'ct': f\"/home/nada.saadi/MIS-FM/hecktor2022_cropped/{pid}/{pid}_ct.nii.gz\",\n",
    "#         'pt': f\"/home/nada.saadi/MIS-FM/hecktor2022_cropped/{pid}/{pid}_pt.nii.gz\",\n",
    "#         'seg': f\"/home/nada.saadi/MIS-FM/hecktor2022_cropped/{pid}/{pid}_gt.nii.gz\"\n",
    "#     })\n",
    "\n",
    "# # Creating JSON data structure\n",
    "# json_data = {\n",
    "#     \"training\": train_dicts,\n",
    "#     \"validation\": val_dicts\n",
    "# }\n",
    "\n",
    "# # Save as JSON file\n",
    "# json_file_path = \"/home/nada.saadi/MIS-FM/hecktor2022_cropped/train_val_json_new.json\"\n",
    "# with open(json_file_path, 'w') as f:\n",
    "#     json.dump(json_data, f, indent=4)\n",
    "\n",
    "# # Outputting the path of the JSON file\n",
    "# json_file_path\n",
    "\n"
   ]
  },
  {
   "cell_type": "code",
   "execution_count": 7,
   "metadata": {},
   "outputs": [],
   "source": [
    "data_dir = '/home/nada.saadi/MIS-FM/hecktor2022_cropped'\n",
    "json_dir = '/home/nada.saadi/MIS-FM/hecktor2022_cropped/train_json_new.json'"
   ]
  },
  {
   "cell_type": "code",
   "execution_count": 5,
   "metadata": {},
   "outputs": [],
   "source": [
    "def datafold_read(datalist, basedir, fold=0, key=\"training\"):\n",
    "    with open(datalist) as f:\n",
    "        json_data = json.load(f)\n",
    "\n",
    "    json_data = json_data[key]\n",
    "\n",
    "    for d in json_data:\n",
    "        for k in d:\n",
    "            if isinstance(d[k], list):\n",
    "                d[k] = [os.path.join(basedir, iv) for iv in d[k]]\n",
    "            elif isinstance(d[k], str):\n",
    "                d[k] = os.path.join(basedir, d[k]) if len(d[k]) > 0 else d[k]\n",
    "\n",
    "    tr = []\n",
    "    val = []\n",
    "    for d in json_data:\n",
    "        if \"fold\" in d and d[\"fold\"] == fold:\n",
    "            val.append(d)\n",
    "        else:\n",
    "            tr.append(d)\n",
    "\n",
    "    return tr, val"
   ]
  },
  {
   "cell_type": "code",
   "execution_count": 8,
   "metadata": {},
   "outputs": [
    {
     "data": {
      "text/plain": [
       "(406, 114)"
      ]
     },
     "execution_count": 8,
     "metadata": {},
     "output_type": "execute_result"
    }
   ],
   "source": [
    "train_files, validation_files = datafold_read(datalist=json_dir, basedir=data_dir, fold=0)\n",
    "len(train_files), len(validation_files)"
   ]
  },
  {
   "cell_type": "code",
   "execution_count": 9,
   "metadata": {},
   "outputs": [
    {
     "name": "stdout",
     "output_type": "stream",
     "text": [
      "torch.Size([200, 200, 310])\n"
     ]
    },
    {
     "name": "stderr",
     "output_type": "stream",
     "text": [
      "/home/nada.saadi/miniconda3/envs/clam/lib/python3.8/site-packages/monai/transforms/spatial/array.py:635: UserWarning: axcodes ('RAS') length is smaller than number of input spatial dimensions D=2.\n",
      "Orientation: spatial shape = (200, 310), channels = 200,please make sure the input is in the channel-first format.\n",
      "  warnings.warn(\n"
     ]
    },
    {
     "ename": "NameError",
     "evalue": "name 'contours' is not defined",
     "output_type": "error",
     "traceback": [
      "\u001b[0;31m---------------------------------------------------------------------------\u001b[0m",
      "\u001b[0;31mNameError\u001b[0m                                 Traceback (most recent call last)",
      "Cell \u001b[0;32mIn[9], line 12\u001b[0m\n\u001b[1;32m      9\u001b[0m \u001b[38;5;28mprint\u001b[39m(gt\u001b[38;5;241m.\u001b[39mshape)\n\u001b[1;32m     11\u001b[0m \u001b[38;5;66;03m# contours = measure.find_contours(gt[:,slice_num,:], 0.5)[0]\u001b[39;00m\n\u001b[0;32m---> 12\u001b[0m plt\u001b[38;5;241m.\u001b[39mplot(\u001b[43mcontours\u001b[49m[:, \u001b[38;5;241m1\u001b[39m], contours[:, \u001b[38;5;241m0\u001b[39m], linewidth\u001b[38;5;241m=\u001b[39m\u001b[38;5;241m0.8\u001b[39m, c\u001b[38;5;241m=\u001b[39m\u001b[38;5;124m'\u001b[39m\u001b[38;5;124mred\u001b[39m\u001b[38;5;124m'\u001b[39m,  alpha \u001b[38;5;241m=\u001b[39m \u001b[38;5;241m0.8\u001b[39m)\n\u001b[1;32m     14\u001b[0m ct \u001b[38;5;241m=\u001b[39m monai\u001b[38;5;241m.\u001b[39mtransforms\u001b[38;5;241m.\u001b[39mLoadImage(ensure_channel_first\u001b[38;5;241m=\u001b[39m\u001b[38;5;28;01mTrue\u001b[39;00m)(\u001b[38;5;124m'\u001b[39m\u001b[38;5;124mdata/CHUV-002/CHUV-002_ct.nii.gz\u001b[39m\u001b[38;5;124m'\u001b[39m)\n\u001b[1;32m     15\u001b[0m ct \u001b[38;5;241m=\u001b[39m monai\u001b[38;5;241m.\u001b[39mtransforms\u001b[38;5;241m.\u001b[39mOrientation(axcodes\u001b[38;5;241m=\u001b[39m\u001b[38;5;124m'\u001b[39m\u001b[38;5;124mRAS\u001b[39m\u001b[38;5;124m'\u001b[39m)(ct[\u001b[38;5;241m0\u001b[39m])\n",
      "\u001b[0;31mNameError\u001b[0m: name 'contours' is not defined"
     ]
    },
    {
     "data": {
      "image/png": "[encoded data removed]",
      "text/plain": [
       "<Figure size 1800x1000 with 1 Axes>"
      ]
     },
     "metadata": {},
     "output_type": "display_data"
    }
   ],
   "source": [
    "from skimage import measure\n",
    "\n",
    "slice_num = 150\n",
    "gt = monai.transforms.LoadImage(ensure_channel_first=True)('data/CHUS-081/CHUS-081_gt.nii.gz')\n",
    "plt.figure(\"image\", (18, 10))\n",
    "gt = monai.transforms.Orientation(axcodes='RAS')(gt[0])\n",
    "plt.subplot(2, 4, 1)\n",
    "plt.imshow(gt[:,:,slice_num], cmap='gray')\n",
    "print(gt.shape)\n",
    "\n",
    "# contours = measure.find_contours(gt[:,slice_num,:], 0.5)[0]\n",
    "plt.plot(contours[:, 1], contours[:, 0], linewidth=0.8, c='red',  alpha = 0.8)\n",
    "\n",
    "ct = monai.transforms.LoadImage(ensure_channel_first=True)('data/CHUV-002/CHUV-002_ct.nii.gz')\n",
    "ct = monai.transforms.Orientation(axcodes='RAS')(ct[0])\n",
    "ct = torch.clip(ct, min=-1000, max=600)\n",
    "plt.subplot(2, 4, 2)\n",
    "plt.imshow(ct[:,:,slice_num], cmap='gray')\n",
    "plt.plot(contours[:, 1], contours[:, 0], linewidth=0.8, c='red',  alpha = 0.8)\n",
    "\n",
    "pt = monai.transforms.LoadImage(ensure_channel_first=True)('data/CHUV-002/CHUV-002_pt.nii.gz')\n",
    "pt = monai.transforms.Orientation(axcodes='RAS')(pt[0])\n",
    "plt.subplot(2, 4, 3)\n",
    "plt.imshow(pt[:,:,slice_num], cmap='gray')\n",
    "plt.plot(contours[:, 1], contours[:, 0], linewidth=0.8, c='red',  alpha = 0.8)"
   ]
  },
  {
   "cell_type": "code",
   "execution_count": 10,
   "metadata": {},
   "outputs": [],
   "source": [
    "class ClipCT(MapTransform):\n",
    "    \"\"\"\n",
    "    Convert labels to multi channels based on hecktor classes:\n",
    "    label 1 is the tumor\n",
    "    label 2 is the lymph node\n",
    "\n",
    "    \"\"\"\n",
    "\n",
    "    def __call__(self, data):\n",
    "        d = dict(data)\n",
    "        for key in self.keys:\n",
    "            if key == \"ct\":\n",
    "                d[key] = torch.clip(d[key], min=-200, max=200)\n",
    "            # elif key == \"pt\":\n",
    "            #     d[key] = torch.clip(d[key], d[key].min(), 5)\n",
    "        return d\n",
    "\n",
    "class MulPTFM(MapTransform):\n",
    "    \"\"\"\n",
    "    Mult PT and FM \n",
    "\n",
    "    \"\"\"\n",
    "\n",
    "    def __call__(self, data):\n",
    "        d = dict(data)\n",
    "\n",
    "        fm = d[\"ct\"] > 0\n",
    "        d[\"pt\"] = d[\"pt\"] * fm\n",
    "        return d\n",
    "\n",
    "class SelectClass(MapTransform):\n",
    "    \"\"\"\n",
    "    Select the class for which you want to fine tune the model \n",
    "\n",
    "    \"\"\"\n",
    "    # def __init__(self, keys, cls=1):\n",
    "    #     super(self).__init__(keys)\n",
    "    #     self.cls = cls\n",
    "\n",
    "    def __call__(self, data):\n",
    "        d = dict(data)\n",
    "        d[\"seg\"][d[\"seg\"] == 1] = 0\n",
    "        # d[\"seg\"][d[\"seg\"] == 2] = 1\n",
    "        \n",
    "        return d"
   ]
  },
  {
   "cell_type": "code",
   "execution_count": 11,
   "metadata": {},
   "outputs": [],
   "source": [
    "num_samples = 4\n",
    "\n",
    "train_transforms = Compose(\n",
    "    [\n",
    "        LoadImaged(keys=[\"ct\", \"pt\", \"seg\"], ensure_channel_first = True),\n",
    "        SpatialPadd(keys=[\"ct\", \"pt\", \"seg\"], spatial_size=(200, 200, 310), method='end'),\n",
    "        Orientationd(keys=[\"ct\", \"pt\", \"seg\"], axcodes=\"PLS\"),\n",
    "        NormalizeIntensityd(keys=[\"pt\"]),\n",
    "        ClipCT(keys=[\"ct\"]),\n",
    "        ScaleIntensityd(keys=[\"ct\"], minv=0, maxv=1),\n",
    "        #MulPTFM(keys=[\"ct\",\"pt\"]),\n",
    "        ConcatItemsd(keys=[\"pt\", \"ct\"], name=\"ctpt\"),\n",
    "        #NormalizeIntensityd(keys=[\"ctpt\"], channel_wise=True),\n",
    "        RandCropByPosNegLabeld(\n",
    "            keys=[\"ctpt\", \"seg\"],\n",
    "            label_key=\"seg\",\n",
    "            spatial_size=(96, 96, 96),\n",
    "            pos=1,\n",
    "            neg=1,\n",
    "            num_samples=num_samples,\n",
    "            image_key=\"ctpt\",\n",
    "            image_threshold=0,\n",
    "        ),\n",
    "        RandFlipd(\n",
    "            keys=[\"ctpt\", \"seg\"],\n",
    "            spatial_axis=[0],\n",
    "            prob=0.20,\n",
    "        ),\n",
    "        RandFlipd(\n",
    "            keys=[\"ctpt\", \"seg\"],\n",
    "            spatial_axis=[1],\n",
    "            prob=0.20,\n",
    "        ),\n",
    "        RandFlipd(\n",
    "            keys=[\"ctpt\", \"seg\"],\n",
    "            spatial_axis=[2],\n",
    "            prob=0.20,\n",
    "        ),\n",
    "        RandRotate90d(\n",
    "            keys=[\"ctpt\", \"seg\"],\n",
    "            prob=0.20,\n",
    "            max_k=3,\n",
    "        ),\n",
    "    ]\n",
    ")\n",
    "val_transforms = Compose(\n",
    "    [\n",
    "        LoadImaged(keys=[\"ct\", \"pt\", \"seg\"], ensure_channel_first = True),\n",
    "        SpatialPadd(keys=[\"ct\", \"pt\", \"seg\"], spatial_size=(200, 200, 310), method='end'),\n",
    "        Orientationd(keys=[\"ct\", \"pt\", \"seg\"], axcodes=\"PLS\"),\n",
    "        NormalizeIntensityd(keys=[\"pt\"]),\n",
    "        ClipCT(keys=[\"ct\"]),\n",
    "        ScaleIntensityd(keys=[\"ct\"], minv=0, maxv=1),\n",
    "        #MulPTFM(keys=[\"ct\",\"pt\"]),\n",
    "        ConcatItemsd(keys=[\"pt\", \"ct\"], name=\"ctpt\"),\n",
    "    ]\n",
    ")"
   ]
  },
  {
   "cell_type": "code",
   "execution_count": 12,
   "metadata": {},
   "outputs": [],
   "source": [
    "train_ds = monai.data.Dataset(data=train_files, transform=train_transforms)\n",
    "\n",
    "train_loader = DataLoader(\n",
    "    train_ds,\n",
    "    batch_size=2,\n",
    "    shuffle=True,\n",
    "    num_workers=8,\n",
    "    pin_memory=torch.cuda.is_available(),\n",
    "    )\n",
    "\n",
    "val_ds = monai.data.Dataset(data=validation_files, transform=val_transforms)\n",
    "\n",
    "val_loader = DataLoader(\n",
    "    val_ds, \n",
    "    batch_size=2, \n",
    "    num_workers=8, \n",
    "    shuffle= False)"
   ]
  },
  {
   "cell_type": "code",
   "execution_count": null,
   "metadata": {},
   "outputs": [],
   "source": [
    "a = next(iter(train_loader))"
   ]
  },
  {
   "cell_type": "code",
   "execution_count": null,
   "metadata": {},
   "outputs": [],
   "source": [
    "a['ct'].shape"
   ]
  },
  {
   "cell_type": "code",
   "execution_count": 13,
   "metadata": {},
   "outputs": [],
   "source": [
    "os.environ[\"CUDA_DEVICE_ORDER\"] = \"PCI_BUS_ID\"\n",
    "device = torch.device(\"cuda\" if torch.cuda.is_available() else \"cpu\")\n",
    "\n",
    "# model = SegResNet(in_channels=2, \n",
    "#                   out_channels=3, \n",
    "#                   init_filters=16).to(device)\n",
    "\n",
    "# model = UNETR(\n",
    "#     in_channels=2,\n",
    "#     out_channels=3,\n",
    "#     img_size=(96, 96, 96),\n",
    "#     feature_size=16,\n",
    "#     hidden_size=768,\n",
    "#     mlp_dim=3072,\n",
    "#     num_heads=12,\n",
    "#     pos_embed=\"perceptron\",\n",
    "#     norm_name=\"instance\",\n",
    "#     res_block=True,\n",
    "#     dropout_rate=0.0,\n",
    "# ).to(device)\n",
    "\n",
    "model = SwinUNETR(img_size= (96, 96, 96),\n",
    "                  in_channels=2,\n",
    "                  out_channels=3,\n",
    "                  depths = (2, 2, 2, 2),\n",
    "                  num_heads = (3, 6, 12, 24),\n",
    "                  feature_size = 24,\n",
    "                  norm_name = \"instance\",\n",
    "                  drop_rate = 0.0,\n",
    "                attn_drop_rate = 0.0,\n",
    "                dropout_path_rate = 0.0,\n",
    "                normalize = True,\n",
    "                use_checkpoint = False,\n",
    "                spatial_dims = 3,\n",
    "                downsample=\"merging\").to(device)"
   ]
  },
  {
   "cell_type": "code",
   "execution_count": 14,
   "metadata": {},
   "outputs": [],
   "source": [
    "torch.backends.cudnn.benchmark = True\n",
    "def poly_lr(epoch, max_epochs, initial_lr, exponent=0.9):\n",
    "    return initial_lr * (1 - epoch / max_epochs)**exponent\n",
    "\n",
    "loss_function = DiceCELoss(to_onehot_y=True, softmax=True)\n",
    "optimizer = torch.optim.AdamW(model.parameters(), lr=1e-4, weight_decay=1e-5)"
   ]
  },
  {
   "cell_type": "code",
   "execution_count": 12,
   "metadata": {},
   "outputs": [
    {
     "name": "stderr",
     "output_type": "stream",
     "text": [
      "Validate (0 / 10 Steps): 100%|██████████| 57/57 [03:15<00:00,  3.44s/it]2:38<01:48,  1.05s/it]\n",
      "Training (100 / 18000 Steps) (loss=1.52619):  50%|████▉     | 101/203 [05:54<1:41:47, 59.87s/it]"
     ]
    },
    {
     "name": "stdout",
     "output_type": "stream",
     "text": [
      "Model Was Saved ! Current Best Avg. Dice: 0.05297548696398735 Current Avg. Dice: 0.05297548696398735 Current Avg. tumor Dice: 0.09277383238077164 Current Avg. lymph Dice: 0.006442411802709103\n"
     ]
    },
    {
     "name": "stderr",
     "output_type": "stream",
     "text": [
      "Validate (0 / 10 Steps): 100%|██████████| 57/57 [03:12<00:00,  3.37s/it]7:40<00:03,  1.05s/it]  \n",
      "Training (200 / 18000 Steps) (loss=1.40533):  99%|█████████▉| 201/203 [10:52<01:57, 58.77s/it]"
     ]
    },
    {
     "name": "stdout",
     "output_type": "stream",
     "text": [
      "Model Was Saved ! Current Best Avg. Dice: 0.14792869985103607 Current Avg. Dice: 0.14792869985103607 Current Avg. tumor Dice: 0.23086318373680115 Current Avg. lymph Dice: 0.05085344985127449\n"
     ]
    },
    {
     "name": "stderr",
     "output_type": "stream",
     "text": [
      "Training (202 / 18000 Steps) (loss=1.35961): 100%|██████████| 203/203 [10:55<00:00,  3.23s/it]\n",
      "Validate (203 / 10 Steps): 100%|██████████| 57/57 [03:13<00:00,  3.39s/it]1<01:51,  1.05s/it]\n",
      "Training (300 / 18000 Steps) (loss=1.25345):  48%|████▊     | 98/203 [05:05<1:43:17, 59.02s/it]"
     ]
    },
    {
     "name": "stdout",
     "output_type": "stream",
     "text": [
      "Model Was Not Saved ! Current Best Avg. Dice: 0.14792869985103607 Current Avg. Dice: 0.14455324411392212 Current Avg. tumor Dice: 0.21939213573932648 Current Avg. lymph Dice: 0.056962914764881134\n"
     ]
    },
    {
     "name": "stderr",
     "output_type": "stream",
     "text": [
      "Validate (203 / 10 Steps): 100%|██████████| 57/57 [03:10<00:00,  3.35s/it]50<00:06,  1.05s/it] \n",
      "Training (400 / 18000 Steps) (loss=1.17415):  98%|█████████▊| 198/203 [10:01<04:52, 58.42s/it]"
     ]
    },
    {
     "name": "stdout",
     "output_type": "stream",
     "text": [
      "Model Was Saved ! Current Best Avg. Dice: 0.2699584364891052 Current Avg. Dice: 0.2699584364891052 Current Avg. tumor Dice: 0.45151907205581665 Current Avg. lymph Dice: 0.034147489815950394\n"
     ]
    },
    {
     "name": "stderr",
     "output_type": "stream",
     "text": [
      "Training (405 / 18000 Steps) (loss=1.15722): 100%|██████████| 203/203 [10:06<00:00,  2.99s/it]\n",
      "Validate (406 / 10 Steps): 100%|██████████| 57/57 [03:12<00:00,  3.37s/it]6<01:54,  1.05s/it]\n",
      "Training (500 / 18000 Steps) (loss=1.07734):  47%|████▋     | 95/203 [04:58<1:45:39, 58.70s/it]"
     ]
    },
    {
     "name": "stdout",
     "output_type": "stream",
     "text": [
      "Model Was Not Saved ! Current Best Avg. Dice: 0.2699584364891052 Current Avg. Dice: 0.26330509781837463 Current Avg. tumor Dice: 0.43402132391929626 Current Avg. lymph Dice: 0.04127592220902443\n"
     ]
    },
    {
     "name": "stderr",
     "output_type": "stream",
     "text": [
      "Validate (406 / 10 Steps): 100%|██████████| 57/57 [03:10<00:00,  3.34s/it]44<00:09,  1.05s/it] \n",
      "Training (600 / 18000 Steps) (loss=1.00083):  96%|█████████▌| 195/203 [09:54<07:45, 58.17s/it]"
     ]
    },
    {
     "name": "stdout",
     "output_type": "stream",
     "text": [
      "Model Was Not Saved ! Current Best Avg. Dice: 0.2699584364891052 Current Avg. Dice: 0.2284862995147705 Current Avg. tumor Dice: 0.3708886504173279 Current Avg. lymph Dice: 0.058748845010995865\n"
     ]
    },
    {
     "name": "stderr",
     "output_type": "stream",
     "text": [
      "Training (608 / 18000 Steps) (loss=1.00105): 100%|██████████| 203/203 [10:03<00:00,  2.97s/it]\n",
      "Validate (609 / 10 Steps): 100%|██████████| 57/57 [03:09<00:00,  3.33s/it]2<01:58,  1.06s/it]\n",
      "Training (700 / 18000 Steps) (loss=0.93874):  45%|████▌     | 92/203 [04:52<1:47:26, 58.07s/it]"
     ]
    },
    {
     "name": "stdout",
     "output_type": "stream",
     "text": [
      "Model Was Saved ! Current Best Avg. Dice: 0.3219890296459198 Current Avg. Dice: 0.3219890296459198 Current Avg. tumor Dice: 0.28675955533981323 Current Avg. lymph Dice: 0.36641284823417664\n"
     ]
    },
    {
     "name": "stderr",
     "output_type": "stream",
     "text": [
      "Validate (609 / 10 Steps): 100%|██████████| 57/57 [03:10<00:00,  3.34s/it]38<00:12,  1.05s/it] \n",
      "Training (800 / 18000 Steps) (loss=0.92401):  95%|█████████▍| 192/203 [09:48<10:40, 58.21s/it]"
     ]
    },
    {
     "name": "stdout",
     "output_type": "stream",
     "text": [
      "Model Was Saved ! Current Best Avg. Dice: 0.4027658998966217 Current Avg. Dice: 0.4027658998966217 Current Avg. tumor Dice: 0.5024153590202332 Current Avg. lymph Dice: 0.27515357732772827\n"
     ]
    },
    {
     "name": "stderr",
     "output_type": "stream",
     "text": [
      "Training (811 / 18000 Steps) (loss=0.87260): 100%|██████████| 203/203 [10:00<00:00,  2.96s/it]\n",
      "Validate (812 / 10 Steps): 100%|██████████| 57/57 [03:11<00:00,  3.36s/it]0<02:00,  1.05s/it]\n",
      "Training (900 / 18000 Steps) (loss=0.86997):  44%|████▍     | 89/203 [04:52<1:51:21, 58.61s/it]"
     ]
    },
    {
     "name": "stdout",
     "output_type": "stream",
     "text": [
      "Model Was Saved ! Current Best Avg. Dice: 0.48399046063423157 Current Avg. Dice: 0.48399046063423157 Current Avg. tumor Dice: 0.556064248085022 Current Avg. lymph Dice: 0.3914124667644501\n"
     ]
    },
    {
     "name": "stderr",
     "output_type": "stream",
     "text": [
      "Validate (812 / 10 Steps): 100%|██████████| 57/57 [03:10<00:00,  3.34s/it]:37<00:15,  1.05s/it]\n",
      "Training (1000 / 18000 Steps) (loss=0.76825):  93%|█████████▎| 189/203 [09:48<13:35, 58.27s/it]"
     ]
    },
    {
     "name": "stdout",
     "output_type": "stream",
     "text": [
      "Model Was Saved ! Current Best Avg. Dice: 0.5542746186256409 Current Avg. Dice: 0.5542746186256409 Current Avg. tumor Dice: 0.6085955500602722 Current Avg. lymph Dice: 0.481467068195343\n"
     ]
    },
    {
     "name": "stderr",
     "output_type": "stream",
     "text": [
      "Training (1014 / 18000 Steps) (loss=0.78361): 100%|██████████| 203/203 [10:03<00:00,  2.97s/it]\n",
      "Validate (1015 / 10 Steps): 100%|██████████| 57/57 [03:11<00:00,  3.36s/it]8<02:04,  1.05s/it]\n",
      "Training (1100 / 18000 Steps) (loss=0.71547):  42%|████▏     | 86/203 [04:50<1:54:23, 58.66s/it]"
     ]
    },
    {
     "name": "stdout",
     "output_type": "stream",
     "text": [
      "Model Was Saved ! Current Best Avg. Dice: 0.5638982057571411 Current Avg. Dice: 0.5638982057571411 Current Avg. tumor Dice: 0.6190581917762756 Current Avg. lymph Dice: 0.4936155378818512\n"
     ]
    },
    {
     "name": "stderr",
     "output_type": "stream",
     "text": [
      "Validate (1015 / 10 Steps): 100%|██████████| 57/57 [03:13<00:00,  3.39s/it]36<00:19,  1.07s/it] \n",
      "Training (1200 / 18000 Steps) (loss=0.72550):  92%|█████████▏| 186/203 [09:50<16:45, 59.14s/it]"
     ]
    },
    {
     "name": "stdout",
     "output_type": "stream",
     "text": [
      "Model Was Saved ! Current Best Avg. Dice: 0.5646663308143616 Current Avg. Dice: 0.5646663308143616 Current Avg. tumor Dice: 0.6184021234512329 Current Avg. lymph Dice: 0.4966476559638977\n"
     ]
    },
    {
     "name": "stderr",
     "output_type": "stream",
     "text": [
      "Training (1217 / 18000 Steps) (loss=0.76781): 100%|██████████| 203/203 [10:08<00:00,  3.00s/it]\n",
      "Validate (1218 / 10 Steps): 100%|██████████| 57/57 [03:12<00:00,  3.37s/it]4<02:08,  1.06s/it]\n",
      "Training (1300 / 18000 Steps) (loss=0.72013):  41%|████      | 83/203 [04:46<1:57:28, 58.73s/it]"
     ]
    },
    {
     "name": "stdout",
     "output_type": "stream",
     "text": [
      "Model Was Not Saved ! Current Best Avg. Dice: 0.5646663308143616 Current Avg. Dice: 0.5342403054237366 Current Avg. tumor Dice: 0.5890415906906128 Current Avg. lymph Dice: 0.46939414739608765\n"
     ]
    },
    {
     "name": "stderr",
     "output_type": "stream",
     "text": [
      "Validate (1218 / 10 Steps): 100%|██████████| 57/57 [03:11<00:00,  3.36s/it]32<00:22,  1.05s/it] \n",
      "Training (1400 / 18000 Steps) (loss=0.58879):  90%|█████████ | 183/203 [09:43<19:29, 58.48s/it]"
     ]
    },
    {
     "name": "stdout",
     "output_type": "stream",
     "text": [
      "Model Was Not Saved ! Current Best Avg. Dice: 0.5646663308143616 Current Avg. Dice: 0.5329936742782593 Current Avg. tumor Dice: 0.6140294671058655 Current Avg. lymph Dice: 0.43378525972366333\n"
     ]
    },
    {
     "name": "stderr",
     "output_type": "stream",
     "text": [
      "Training (1420 / 18000 Steps) (loss=0.59996): 100%|██████████| 203/203 [10:04<00:00,  2.98s/it]\n",
      "Validate (1421 / 10 Steps): 100%|██████████| 57/57 [03:11<00:00,  3.36s/it]0<02:10,  1.05s/it]\n",
      "Training (1500 / 18000 Steps) (loss=0.66889):  39%|███▉      | 80/203 [04:41<2:00:06, 58.59s/it]"
     ]
    },
    {
     "name": "stdout",
     "output_type": "stream",
     "text": [
      "Model Was Not Saved ! Current Best Avg. Dice: 0.5646663308143616 Current Avg. Dice: 0.5617441534996033 Current Avg. tumor Dice: 0.6306203007698059 Current Avg. lymph Dice: 0.4796445369720459\n"
     ]
    },
    {
     "name": "stderr",
     "output_type": "stream",
     "text": [
      "Validate (1421 / 10 Steps): 100%|██████████| 57/57 [03:11<00:00,  3.36s/it]27<00:25,  1.05s/it] \n",
      "Training (1600 / 18000 Steps) (loss=0.58784):  89%|████████▊ | 180/203 [09:39<22:28, 58.61s/it]"
     ]
    },
    {
     "name": "stdout",
     "output_type": "stream",
     "text": [
      "Model Was Not Saved ! Current Best Avg. Dice: 0.5646663308143616 Current Avg. Dice: 0.5546903610229492 Current Avg. tumor Dice: 0.6210262179374695 Current Avg. lymph Dice: 0.4734106659889221\n"
     ]
    },
    {
     "name": "stderr",
     "output_type": "stream",
     "text": [
      "Training (1623 / 18000 Steps) (loss=0.56728): 100%|██████████| 203/203 [10:03<00:00,  2.97s/it]\n",
      "Validate (1624 / 10 Steps): 100%|██████████| 57/57 [03:11<00:00,  3.36s/it]8<02:14,  1.06s/it]\n",
      "Training (1700 / 18000 Steps) (loss=0.60542):  38%|███▊      | 77/203 [04:40<2:03:10, 58.66s/it]"
     ]
    },
    {
     "name": "stdout",
     "output_type": "stream",
     "text": [
      "Model Was Saved ! Current Best Avg. Dice: 0.5862458944320679 Current Avg. Dice: 0.5862458944320679 Current Avg. tumor Dice: 0.6465173959732056 Current Avg. lymph Dice: 0.5123716592788696\n"
     ]
    },
    {
     "name": "stderr",
     "output_type": "stream",
     "text": [
      "Validate (1624 / 10 Steps): 100%|██████████| 57/57 [03:12<00:00,  3.38s/it]26<00:28,  1.06s/it] \n",
      "Training (1800 / 18000 Steps) (loss=0.60840):  87%|████████▋ | 177/203 [09:38<25:28, 58.80s/it]"
     ]
    },
    {
     "name": "stdout",
     "output_type": "stream",
     "text": [
      "Model Was Not Saved ! Current Best Avg. Dice: 0.5862458944320679 Current Avg. Dice: 0.5586296916007996 Current Avg. tumor Dice: 0.6392644643783569 Current Avg. lymph Dice: 0.4612277150154114\n"
     ]
    },
    {
     "name": "stderr",
     "output_type": "stream",
     "text": [
      "Training (1826 / 18000 Steps) (loss=0.67533): 100%|██████████| 203/203 [10:06<00:00,  2.99s/it]\n",
      "Validate (1827 / 10 Steps): 100%|██████████| 57/57 [03:11<00:00,  3.36s/it]7<02:16,  1.05s/it]\n",
      "Training (1900 / 18000 Steps) (loss=0.66957):  36%|███▋      | 74/203 [04:38<2:05:42, 58.47s/it]"
     ]
    },
    {
     "name": "stdout",
     "output_type": "stream",
     "text": [
      "Model Was Not Saved ! Current Best Avg. Dice: 0.5862458944320679 Current Avg. Dice: 0.5802678465843201 Current Avg. tumor Dice: 0.6337890028953552 Current Avg. lymph Dice: 0.5158212184906006\n"
     ]
    },
    {
     "name": "stderr",
     "output_type": "stream",
     "text": [
      "Validate (1827 / 10 Steps): 100%|██████████| 57/57 [03:11<00:00,  3.35s/it]24<00:31,  1.06s/it] \n",
      "Training (2000 / 18000 Steps) (loss=0.53645):  86%|████████▌ | 174/203 [09:35<28:14, 58.42s/it]"
     ]
    },
    {
     "name": "stdout",
     "output_type": "stream",
     "text": [
      "Model Was Not Saved ! Current Best Avg. Dice: 0.5862458944320679 Current Avg. Dice: 0.5755308270454407 Current Avg. tumor Dice: 0.6137877106666565 Current Avg. lymph Dice: 0.5272276401519775\n"
     ]
    },
    {
     "name": "stderr",
     "output_type": "stream",
     "text": [
      "Training (2029 / 18000 Steps) (loss=0.63465): 100%|██████████| 203/203 [10:06<00:00,  2.99s/it]\n",
      "Validate (2030 / 10 Steps): 100%|██████████| 57/57 [03:11<00:00,  3.36s/it]1<02:19,  1.05s/it]\n",
      "Training (2100 / 18000 Steps) (loss=0.48300):  35%|███▍      | 71/203 [04:32<2:08:51, 58.57s/it]"
     ]
    },
    {
     "name": "stdout",
     "output_type": "stream",
     "text": [
      "Model Was Saved ! Current Best Avg. Dice: 0.5885420441627502 Current Avg. Dice: 0.5885420441627502 Current Avg. tumor Dice: 0.6652652025222778 Current Avg. lymph Dice: 0.49303099513053894\n"
     ]
    },
    {
     "name": "stderr",
     "output_type": "stream",
     "text": [
      "Validate (2030 / 10 Steps): 100%|██████████| 57/57 [03:12<00:00,  3.37s/it]18<00:34,  1.06s/it] \n",
      "Training (2200 / 18000 Steps) (loss=0.45125):  84%|████████▍ | 171/203 [09:30<31:21, 58.79s/it]"
     ]
    },
    {
     "name": "stdout",
     "output_type": "stream",
     "text": [
      "Model Was Not Saved ! Current Best Avg. Dice: 0.5885420441627502 Current Avg. Dice: 0.555640697479248 Current Avg. tumor Dice: 0.5884593725204468 Current Avg. lymph Dice: 0.5132631063461304\n"
     ]
    },
    {
     "name": "stderr",
     "output_type": "stream",
     "text": [
      "Training (2232 / 18000 Steps) (loss=0.54960): 100%|██████████| 203/203 [10:04<00:00,  2.98s/it]\n",
      "Validate (2233 / 10 Steps): 100%|██████████| 57/57 [03:11<00:00,  3.36s/it]9<02:23,  1.06s/it]\n",
      "Training (2300 / 18000 Steps) (loss=0.56461):  33%|███▎      | 68/203 [04:31<2:11:38, 58.51s/it]"
     ]
    },
    {
     "name": "stdout",
     "output_type": "stream",
     "text": [
      "Model Was Not Saved ! Current Best Avg. Dice: 0.5885420441627502 Current Avg. Dice: 0.5708248019218445 Current Avg. tumor Dice: 0.615359902381897 Current Avg. lymph Dice: 0.511838436126709\n"
     ]
    },
    {
     "name": "stderr",
     "output_type": "stream",
     "text": [
      "Validate (2233 / 10 Steps): 100%|██████████| 57/57 [03:11<00:00,  3.35s/it]16<00:37,  1.05s/it] \n",
      "Training (2400 / 18000 Steps) (loss=0.55087):  83%|████████▎ | 168/203 [09:28<34:03, 58.39s/it]"
     ]
    },
    {
     "name": "stdout",
     "output_type": "stream",
     "text": [
      "Model Was Not Saved ! Current Best Avg. Dice: 0.5885420441627502 Current Avg. Dice: 0.5612086057662964 Current Avg. tumor Dice: 0.5935654044151306 Current Avg. lymph Dice: 0.5240438580513\n"
     ]
    },
    {
     "name": "stderr",
     "output_type": "stream",
     "text": [
      "Training (2435 / 18000 Steps) (loss=0.66369): 100%|██████████| 203/203 [10:05<00:00,  2.98s/it]\n",
      "Validate (2436 / 10 Steps): 100%|██████████| 57/57 [03:12<00:00,  3.37s/it]5<02:25,  1.05s/it]\n",
      "Training (2500 / 18000 Steps) (loss=0.60863):  32%|███▏      | 65/203 [04:28<2:15:09, 58.77s/it]"
     ]
    },
    {
     "name": "stdout",
     "output_type": "stream",
     "text": [
      "Model Was Saved ! Current Best Avg. Dice: 0.5998719930648804 Current Avg. Dice: 0.5998719930648804 Current Avg. tumor Dice: 0.6631426215171814 Current Avg. lymph Dice: 0.5217664241790771\n"
     ]
    },
    {
     "name": "stderr",
     "output_type": "stream",
     "text": [
      "Validate (2436 / 10 Steps): 100%|██████████| 57/57 [03:11<00:00,  3.36s/it]13<00:41,  1.06s/it] \n",
      "Training (2600 / 18000 Steps) (loss=0.54585):  81%|████████▏ | 165/203 [09:25<37:04, 58.54s/it]"
     ]
    },
    {
     "name": "stdout",
     "output_type": "stream",
     "text": [
      "Model Was Not Saved ! Current Best Avg. Dice: 0.5998719930648804 Current Avg. Dice: 0.5628031492233276 Current Avg. tumor Dice: 0.5959635972976685 Current Avg. lymph Dice: 0.5183991193771362\n"
     ]
    },
    {
     "name": "stderr",
     "output_type": "stream",
     "text": [
      "Training (2638 / 18000 Steps) (loss=0.47496): 100%|██████████| 203/203 [10:05<00:00,  2.98s/it]\n",
      "Validate (2639 / 10 Steps): 100%|██████████| 57/57 [03:11<00:00,  3.36s/it]3<02:29,  1.05s/it]\n",
      "Training (2700 / 18000 Steps) (loss=0.49716):  31%|███       | 62/203 [04:24<2:17:22, 58.45s/it]"
     ]
    },
    {
     "name": "stdout",
     "output_type": "stream",
     "text": [
      "Model Was Not Saved ! Current Best Avg. Dice: 0.5998719930648804 Current Avg. Dice: 0.559380292892456 Current Avg. tumor Dice: 0.6165705919265747 Current Avg. lymph Dice: 0.49160078167915344\n"
     ]
    },
    {
     "name": "stderr",
     "output_type": "stream",
     "text": [
      "Validate (2639 / 10 Steps): 100%|██████████| 57/57 [03:12<00:00,  3.37s/it]10<00:44,  1.07s/it] \n",
      "Training (2800 / 18000 Steps) (loss=0.62364):  80%|███████▉  | 162/203 [09:22<40:06, 58.70s/it]"
     ]
    },
    {
     "name": "stdout",
     "output_type": "stream",
     "text": [
      "Model Was Not Saved ! Current Best Avg. Dice: 0.5998719930648804 Current Avg. Dice: 0.5612391233444214 Current Avg. tumor Dice: 0.600019633769989 Current Avg. lymph Dice: 0.5186391472816467\n"
     ]
    },
    {
     "name": "stderr",
     "output_type": "stream",
     "text": [
      "Training (2841 / 18000 Steps) (loss=0.55525): 100%|██████████| 203/203 [10:06<00:00,  2.99s/it]\n",
      "Validate (2842 / 10 Steps): 100%|██████████| 57/57 [03:11<00:00,  3.36s/it]8<02:32,  1.05s/it]\n",
      "Training (2900 / 18000 Steps) (loss=0.50020):  29%|██▉       | 59/203 [04:20<2:20:44, 58.64s/it]"
     ]
    },
    {
     "name": "stdout",
     "output_type": "stream",
     "text": [
      "Model Was Saved ! Current Best Avg. Dice: 0.6093531250953674 Current Avg. Dice: 0.6093531250953674 Current Avg. tumor Dice: 0.6636338829994202 Current Avg. lymph Dice: 0.5371297001838684\n"
     ]
    },
    {
     "name": "stderr",
     "output_type": "stream",
     "text": [
      "Validate (2842 / 10 Steps): 100%|██████████| 57/57 [03:12<00:00,  3.37s/it]06<00:47,  1.05s/it] \n",
      "Training (3000 / 18000 Steps) (loss=0.56146):  78%|███████▊  | 159/203 [09:18<43:05, 58.75s/it]"
     ]
    },
    {
     "name": "stdout",
     "output_type": "stream",
     "text": [
      "Model Was Not Saved ! Current Best Avg. Dice: 0.6093531250953674 Current Avg. Dice: 0.582304835319519 Current Avg. tumor Dice: 0.6144576668739319 Current Avg. lymph Dice: 0.5452500581741333\n"
     ]
    },
    {
     "name": "stderr",
     "output_type": "stream",
     "text": [
      "Training (3044 / 18000 Steps) (loss=0.56570): 100%|██████████| 203/203 [10:05<00:00,  2.98s/it]\n",
      "Validate (3045 / 10 Steps): 100%|██████████| 57/57 [03:11<00:00,  3.36s/it]5<02:35,  1.05s/it]\n",
      "Training (3100 / 18000 Steps) (loss=0.50199):  28%|██▊       | 56/203 [04:17<2:23:35, 58.61s/it]"
     ]
    },
    {
     "name": "stdout",
     "output_type": "stream",
     "text": [
      "Model Was Not Saved ! Current Best Avg. Dice: 0.6093531250953674 Current Avg. Dice: 0.6040804386138916 Current Avg. tumor Dice: 0.6646133065223694 Current Avg. lymph Dice: 0.5251843333244324\n"
     ]
    },
    {
     "name": "stderr",
     "output_type": "stream",
     "text": [
      "Validate (3045 / 10 Steps): 100%|██████████| 57/57 [03:11<00:00,  3.37s/it]03<00:50,  1.06s/it] \n",
      "Training (3200 / 18000 Steps) (loss=0.53100):  77%|███████▋  | 156/203 [09:15<45:57, 58.66s/it]"
     ]
    },
    {
     "name": "stdout",
     "output_type": "stream",
     "text": [
      "Model Was Not Saved ! Current Best Avg. Dice: 0.6093531250953674 Current Avg. Dice: 0.5266554355621338 Current Avg. tumor Dice: 0.6068665385246277 Current Avg. lymph Dice: 0.4288230538368225\n"
     ]
    },
    {
     "name": "stderr",
     "output_type": "stream",
     "text": [
      "Training (3247 / 18000 Steps) (loss=0.43198): 100%|██████████| 203/203 [10:05<00:00,  2.98s/it]\n",
      "Validate (3248 / 10 Steps): 100%|██████████| 57/57 [03:11<00:00,  3.36s/it]2<02:38,  1.05s/it]\n",
      "Training (3300 / 18000 Steps) (loss=0.52865):  26%|██▌       | 53/203 [04:14<2:26:16, 58.51s/it]"
     ]
    },
    {
     "name": "stdout",
     "output_type": "stream",
     "text": [
      "Model Was Not Saved ! Current Best Avg. Dice: 0.6093531250953674 Current Avg. Dice: 0.573667585849762 Current Avg. tumor Dice: 0.6158361434936523 Current Avg. lymph Dice: 0.5176302194595337\n"
     ]
    },
    {
     "name": "stderr",
     "output_type": "stream",
     "text": [
      "Validate (3248 / 10 Steps): 100%|██████████| 57/57 [03:12<00:00,  3.37s/it]59<00:53,  1.05s/it] \n",
      "Training (3400 / 18000 Steps) (loss=0.50560):  75%|███████▌  | 153/203 [09:12<48:56, 58.73s/it]"
     ]
    },
    {
     "name": "stdout",
     "output_type": "stream",
     "text": [
      "Model Was Saved ! Current Best Avg. Dice: 0.6170880794525146 Current Avg. Dice: 0.6170880794525146 Current Avg. tumor Dice: 0.6743279099464417 Current Avg. lymph Dice: 0.5450094938278198\n"
     ]
    },
    {
     "name": "stderr",
     "output_type": "stream",
     "text": [
      "Training (3450 / 18000 Steps) (loss=0.61015): 100%|██████████| 203/203 [10:05<00:00,  2.98s/it]\n",
      "Validate (3451 / 10 Steps): 100%|██████████| 57/57 [03:11<00:00,  3.36s/it]9<02:42,  1.06s/it]\n",
      "Training (3500 / 18000 Steps) (loss=0.43630):  25%|██▍       | 50/203 [04:10<2:29:28, 58.62s/it]"
     ]
    },
    {
     "name": "stdout",
     "output_type": "stream",
     "text": [
      "Model Was Not Saved ! Current Best Avg. Dice: 0.6170880794525146 Current Avg. Dice: 0.5956923365592957 Current Avg. tumor Dice: 0.6633266806602478 Current Avg. lymph Dice: 0.5158820748329163\n"
     ]
    },
    {
     "name": "stderr",
     "output_type": "stream",
     "text": [
      "Validate (3451 / 10 Steps): 100%|██████████| 57/57 [03:12<00:00,  3.37s/it]56<00:57,  1.06s/it] \n",
      "Training (3600 / 18000 Steps) (loss=0.40495):  74%|███████▍  | 150/203 [09:08<51:53, 58.75s/it]"
     ]
    },
    {
     "name": "stdout",
     "output_type": "stream",
     "text": [
      "Model Was Not Saved ! Current Best Avg. Dice: 0.6170880794525146 Current Avg. Dice: 0.5972588658332825 Current Avg. tumor Dice: 0.6626406908035278 Current Avg. lymph Dice: 0.514225423336029\n"
     ]
    },
    {
     "name": "stderr",
     "output_type": "stream",
     "text": [
      "Training (3653 / 18000 Steps) (loss=0.39652): 100%|██████████| 203/203 [10:04<00:00,  2.98s/it]\n",
      "Validate (3654 / 10 Steps): 100%|██████████| 57/57 [03:10<00:00,  3.35s/it]5<02:44,  1.05s/it]\n",
      "Training (3700 / 18000 Steps) (loss=0.43020):  23%|██▎       | 47/203 [04:06<2:31:37, 58.32s/it]"
     ]
    },
    {
     "name": "stdout",
     "output_type": "stream",
     "text": [
      "Model Was Not Saved ! Current Best Avg. Dice: 0.6170880794525146 Current Avg. Dice: 0.6046266555786133 Current Avg. tumor Dice: 0.6638045310974121 Current Avg. lymph Dice: 0.5272790789604187\n"
     ]
    },
    {
     "name": "stderr",
     "output_type": "stream",
     "text": [
      "Validate (3654 / 10 Steps): 100%|██████████| 57/57 [03:11<00:00,  3.36s/it]52<01:00,  1.06s/it] \n",
      "Training (3800 / 18000 Steps) (loss=0.56204):  72%|███████▏  | 147/203 [09:03<54:34, 58.47s/it]"
     ]
    },
    {
     "name": "stdout",
     "output_type": "stream",
     "text": [
      "Model Was Not Saved ! Current Best Avg. Dice: 0.6170880794525146 Current Avg. Dice: 0.5868018865585327 Current Avg. tumor Dice: 0.6376156210899353 Current Avg. lymph Dice: 0.5220377445220947\n"
     ]
    },
    {
     "name": "stderr",
     "output_type": "stream",
     "text": [
      "Training (3856 / 18000 Steps) (loss=0.50823): 100%|██████████| 203/203 [10:02<00:00,  2.97s/it]\n",
      "Validate (3857 / 10 Steps): 100%|██████████| 57/57 [03:11<00:00,  3.36s/it]3<02:48,  1.06s/it]\n",
      "Training (3900 / 18000 Steps) (loss=0.37917):  22%|██▏       | 44/203 [04:05<2:35:05, 58.53s/it]"
     ]
    },
    {
     "name": "stdout",
     "output_type": "stream",
     "text": [
      "Model Was Not Saved ! Current Best Avg. Dice: 0.6170880794525146 Current Avg. Dice: 0.6084506511688232 Current Avg. tumor Dice: 0.6494865417480469 Current Avg. lymph Dice: 0.5561394095420837\n"
     ]
    },
    {
     "name": "stderr",
     "output_type": "stream",
     "text": [
      "Validate (3857 / 10 Steps): 100%|██████████| 57/57 [03:11<00:00,  3.37s/it]50<01:03,  1.05s/it] \n",
      "Training (4000 / 18000 Steps) (loss=0.54429):  71%|███████   | 144/203 [09:02<57:39, 58.64s/it]"
     ]
    },
    {
     "name": "stdout",
     "output_type": "stream",
     "text": [
      "Model Was Not Saved ! Current Best Avg. Dice: 0.6170880794525146 Current Avg. Dice: 0.6065406203269958 Current Avg. tumor Dice: 0.6560778021812439 Current Avg. lymph Dice: 0.5428970456123352\n"
     ]
    },
    {
     "name": "stderr",
     "output_type": "stream",
     "text": [
      "Training (4059 / 18000 Steps) (loss=0.45945): 100%|██████████| 203/203 [10:05<00:00,  2.98s/it]\n",
      "Validate (4060 / 10 Steps): 100%|██████████| 57/57 [03:09<00:00,  3.33s/it]9<02:52,  1.06s/it]\n",
      "Training (4100 / 18000 Steps) (loss=0.47510):  20%|██        | 41/203 [03:58<2:36:27, 57.95s/it]"
     ]
    },
    {
     "name": "stdout",
     "output_type": "stream",
     "text": [
      "Model Was Not Saved ! Current Best Avg. Dice: 0.6170880794525146 Current Avg. Dice: 0.6130236387252808 Current Avg. tumor Dice: 0.6673803925514221 Current Avg. lymph Dice: 0.5424284338951111\n"
     ]
    },
    {
     "name": "stderr",
     "output_type": "stream",
     "text": [
      "Validate (4060 / 10 Steps): 100%|██████████| 57/57 [03:10<00:00,  3.34s/it]44<01:06,  1.05s/it] \n",
      "Training (4200 / 18000 Steps) (loss=0.53378):  69%|██████▉   | 141/203 [08:54<1:00:07, 58.18s/it]"
     ]
    },
    {
     "name": "stdout",
     "output_type": "stream",
     "text": [
      "Model Was Not Saved ! Current Best Avg. Dice: 0.6170880794525146 Current Avg. Dice: 0.5961979627609253 Current Avg. tumor Dice: 0.6393596529960632 Current Avg. lymph Dice: 0.542798638343811\n"
     ]
    },
    {
     "name": "stderr",
     "output_type": "stream",
     "text": [
      "Training (4262 / 18000 Steps) (loss=0.59107): 100%|██████████| 203/203 [10:00<00:00,  2.96s/it]  \n",
      "Validate (4263 / 10 Steps): 100%|██████████| 57/57 [03:10<00:00,  3.35s/it]5<02:54,  1.05s/it]\n",
      "Training (4300 / 18000 Steps) (loss=0.45624):  19%|█▊        | 38/203 [03:56<2:40:26, 58.34s/it]"
     ]
    },
    {
     "name": "stdout",
     "output_type": "stream",
     "text": [
      "Model Was Not Saved ! Current Best Avg. Dice: 0.6170880794525146 Current Avg. Dice: 0.6040639877319336 Current Avg. tumor Dice: 0.6669420599937439 Current Avg. lymph Dice: 0.5288209915161133\n"
     ]
    },
    {
     "name": "stderr",
     "output_type": "stream",
     "text": [
      "Validate (4263 / 10 Steps): 100%|██████████| 57/57 [03:11<00:00,  3.36s/it]42<01:09,  1.06s/it] \n",
      "Training (4400 / 18000 Steps) (loss=0.40307):  68%|██████▊   | 138/203 [08:54<1:03:20, 58.47s/it]"
     ]
    },
    {
     "name": "stdout",
     "output_type": "stream",
     "text": [
      "Model Was Not Saved ! Current Best Avg. Dice: 0.6170880794525146 Current Avg. Dice: 0.5900945067405701 Current Avg. tumor Dice: 0.6323332190513611 Current Avg. lymph Dice: 0.5344835519790649\n"
     ]
    },
    {
     "name": "stderr",
     "output_type": "stream",
     "text": [
      "Training (4465 / 18000 Steps) (loss=0.46192): 100%|██████████| 203/203 [10:02<00:00,  2.97s/it]  \n",
      "Validate (4466 / 10 Steps): 100%|██████████| 57/57 [03:11<00:00,  3.36s/it]2<02:57,  1.05s/it]\n",
      "Training (4500 / 18000 Steps) (loss=0.48151):  17%|█▋        | 35/203 [03:54<2:43:55, 58.55s/it]"
     ]
    },
    {
     "name": "stdout",
     "output_type": "stream",
     "text": [
      "Model Was Not Saved ! Current Best Avg. Dice: 0.6170880794525146 Current Avg. Dice: 0.6077209711074829 Current Avg. tumor Dice: 0.6854163408279419 Current Avg. lymph Dice: 0.513311505317688\n"
     ]
    },
    {
     "name": "stderr",
     "output_type": "stream",
     "text": [
      "Validate (4466 / 10 Steps): 100%|██████████| 57/57 [03:10<00:00,  3.34s/it]40<01:12,  1.06s/it] \n",
      "Training (4600 / 18000 Steps) (loss=0.33977):  67%|██████▋   | 135/203 [08:50<1:05:55, 58.17s/it]"
     ]
    },
    {
     "name": "stdout",
     "output_type": "stream",
     "text": [
      "Model Was Not Saved ! Current Best Avg. Dice: 0.6170880794525146 Current Avg. Dice: 0.6160194277763367 Current Avg. tumor Dice: 0.6884244084358215 Current Avg. lymph Dice: 0.5265790820121765\n"
     ]
    },
    {
     "name": "stderr",
     "output_type": "stream",
     "text": [
      "Training (4668 / 18000 Steps) (loss=0.34961): 100%|██████████| 203/203 [10:02<00:00,  2.97s/it]  \n",
      "Validate (4669 / 10 Steps): 100%|██████████| 57/57 [03:10<00:00,  3.35s/it]9<03:01,  1.05s/it]\n",
      "Training (4700 / 18000 Steps) (loss=0.29328):  16%|█▌        | 32/203 [03:50<2:46:23, 58.38s/it]"
     ]
    },
    {
     "name": "stdout",
     "output_type": "stream",
     "text": [
      "Model Was Saved ! Current Best Avg. Dice: 0.6285586953163147 Current Avg. Dice: 0.6285586953163147 Current Avg. tumor Dice: 0.684950053691864 Current Avg. lymph Dice: 0.5552735328674316\n"
     ]
    },
    {
     "name": "stderr",
     "output_type": "stream",
     "text": [
      "Validate (4669 / 10 Steps): 100%|██████████| 57/57 [03:12<00:00,  3.38s/it]36<01:17,  1.07s/it] \n",
      "Training (4800 / 18000 Steps) (loss=0.40425):  65%|██████▌   | 132/203 [08:49<1:09:40, 58.88s/it]"
     ]
    },
    {
     "name": "stdout",
     "output_type": "stream",
     "text": [
      "Model Was Not Saved ! Current Best Avg. Dice: 0.6285586953163147 Current Avg. Dice: 0.6113782525062561 Current Avg. tumor Dice: 0.6884649991989136 Current Avg. lymph Dice: 0.5167971253395081\n"
     ]
    },
    {
     "name": "stderr",
     "output_type": "stream",
     "text": [
      "Training (4871 / 18000 Steps) (loss=0.48156): 100%|██████████| 203/203 [14:53<00:00,  4.40s/it]  \n",
      "Validate (4872 / 10 Steps): 100%|██████████| 57/57 [04:14<00:00,  4.47s/it]9<3:40:26, 75.58s/it] \n",
      "Training (4900 / 18000 Steps) (loss=0.49460):  14%|█▍        | 29/203 [37:14<6:16:18, 129.76s/it]"
     ]
    },
    {
     "name": "stdout",
     "output_type": "stream",
     "text": [
      "Model Was Saved ! Current Best Avg. Dice: 0.6314196586608887 Current Avg. Dice: 0.6314196586608887 Current Avg. tumor Dice: 0.6766818761825562 Current Avg. lymph Dice: 0.573553204536438\n"
     ]
    },
    {
     "name": "stderr",
     "output_type": "stream",
     "text": [
      "Validate (4872 / 10 Steps): 100%|██████████| 57/57 [03:12<00:00,  3.38s/it]00<01:19,  1.06s/it]  \n",
      "Training (5000 / 18000 Steps) (loss=0.36513):  64%|██████▎   | 129/203 [42:13<1:12:38, 58.90s/it]"
     ]
    },
    {
     "name": "stdout",
     "output_type": "stream",
     "text": [
      "Model Was Not Saved ! Current Best Avg. Dice: 0.6314196586608887 Current Avg. Dice: 0.6139890551567078 Current Avg. tumor Dice: 0.6867012977600098 Current Avg. lymph Dice: 0.5217753648757935\n"
     ]
    },
    {
     "name": "stderr",
     "output_type": "stream",
     "text": [
      "Training (5074 / 18000 Steps) (loss=0.38380): 100%|██████████| 203/203 [43:31<00:00, 12.86s/it]  \n",
      "Validate (5075 / 10 Steps): 100%|██████████| 57/57 [03:11<00:00,  3.36s/it]3<03:07,  1.05s/it]\n",
      "Training (5100 / 18000 Steps) (loss=0.46106):  13%|█▎        | 26/203 [03:45<2:52:46, 58.57s/it]"
     ]
    },
    {
     "name": "stdout",
     "output_type": "stream",
     "text": [
      "Model Was Not Saved ! Current Best Avg. Dice: 0.6314196586608887 Current Avg. Dice: 0.6247358918190002 Current Avg. tumor Dice: 0.6819976568222046 Current Avg. lymph Dice: 0.5523396730422974\n"
     ]
    },
    {
     "name": "stderr",
     "output_type": "stream",
     "text": [
      "Validate (5075 / 10 Steps): 100%|██████████| 57/57 [03:15<00:00,  3.43s/it]30<01:22,  1.05s/it] \n",
      "Training (5200 / 18000 Steps) (loss=0.46163):  62%|██████▏   | 126/203 [08:46<1:16:43, 59.78s/it]"
     ]
    },
    {
     "name": "stdout",
     "output_type": "stream",
     "text": [
      "Model Was Not Saved ! Current Best Avg. Dice: 0.6314196586608887 Current Avg. Dice: 0.617857813835144 Current Avg. tumor Dice: 0.6740370988845825 Current Avg. lymph Dice: 0.5451570153236389\n"
     ]
    },
    {
     "name": "stderr",
     "output_type": "stream",
     "text": [
      "Training (5277 / 18000 Steps) (loss=0.50188): 100%|██████████| 203/203 [10:08<00:00,  3.00s/it]  \n",
      "Validate (5278 / 10 Steps): 100%|██████████| 57/57 [03:12<00:00,  3.38s/it]1<03:11,  1.06s/it]\n",
      "Training (5300 / 18000 Steps) (loss=0.44833):  11%|█▏        | 23/203 [03:43<2:56:28, 58.83s/it]"
     ]
    },
    {
     "name": "stdout",
     "output_type": "stream",
     "text": [
      "Model Was Not Saved ! Current Best Avg. Dice: 0.6314196586608887 Current Avg. Dice: 0.6147356629371643 Current Avg. tumor Dice: 0.6808446049690247 Current Avg. lymph Dice: 0.5309323072433472\n"
     ]
    },
    {
     "name": "stderr",
     "output_type": "stream",
     "text": [
      "Validate (5278 / 10 Steps): 100%|██████████| 57/57 [03:10<00:00,  3.34s/it]32<01:25,  1.06s/it] \n",
      "Training (5400 / 18000 Steps) (loss=0.41747):  61%|██████    | 123/203 [08:43<1:17:34, 58.19s/it]"
     ]
    },
    {
     "name": "stdout",
     "output_type": "stream",
     "text": [
      "Model Was Not Saved ! Current Best Avg. Dice: 0.6314196586608887 Current Avg. Dice: 0.6216623187065125 Current Avg. tumor Dice: 0.6874876022338867 Current Avg. lymph Dice: 0.5347450375556946\n"
     ]
    },
    {
     "name": "stderr",
     "output_type": "stream",
     "text": [
      "Training (5480 / 18000 Steps) (loss=0.38047): 100%|██████████| 203/203 [10:07<00:00,  2.99s/it]  \n",
      "Validate (5481 / 10 Steps): 100%|██████████| 57/57 [03:14<00:00,  3.41s/it]6<03:14,  1.06s/it]\n",
      "Training (5500 / 18000 Steps) (loss=0.55484):  10%|▉         | 20/203 [03:40<3:01:08, 59.39s/it]"
     ]
    },
    {
     "name": "stdout",
     "output_type": "stream",
     "text": [
      "Model Was Not Saved ! Current Best Avg. Dice: 0.6314196586608887 Current Avg. Dice: 0.6031510233879089 Current Avg. tumor Dice: 0.675493597984314 Current Avg. lymph Dice: 0.5089519619941711\n"
     ]
    },
    {
     "name": "stderr",
     "output_type": "stream",
     "text": [
      "Validate (5481 / 10 Steps): 100%|██████████| 57/57 [03:40<00:00,  3.87s/it]28<01:50,  1.32s/it] \n",
      "Training (5600 / 18000 Steps) (loss=0.49175):  59%|█████▉    | 120/203 [09:09<1:33:29, 67.59s/it]"
     ]
    },
    {
     "name": "stdout",
     "output_type": "stream",
     "text": [
      "Model Was Saved ! Current Best Avg. Dice: 0.6393395066261292 Current Avg. Dice: 0.6393395066261292 Current Avg. tumor Dice: 0.7036436200141907 Current Avg. lymph Dice: 0.5568557977676392\n"
     ]
    },
    {
     "name": "stderr",
     "output_type": "stream",
     "text": [
      "Training (5683 / 18000 Steps) (loss=0.47150): 100%|██████████| 203/203 [10:46<00:00,  3.18s/it]  \n",
      "Validate (5684 / 10 Steps): 100%|██████████| 57/57 [03:12<00:00,  3.37s/it]3<03:19,  1.07s/it]\n",
      "Training (5700 / 18000 Steps) (loss=0.44296):   8%|▊         | 17/203 [03:35<3:02:34, 58.89s/it]"
     ]
    },
    {
     "name": "stdout",
     "output_type": "stream",
     "text": [
      "Model Was Not Saved ! Current Best Avg. Dice: 0.6393395066261292 Current Avg. Dice: 0.6101367473602295 Current Avg. tumor Dice: 0.6596566438674927 Current Avg. lymph Dice: 0.5459138751029968\n"
     ]
    },
    {
     "name": "stderr",
     "output_type": "stream",
     "text": [
      "Validate (5684 / 10 Steps): 100%|██████████| 57/57 [03:27<00:00,  3.64s/it]21<01:32,  1.06s/it] \n",
      "Training (5800 / 18000 Steps) (loss=0.40754):  58%|█████▊    | 117/203 [08:48<1:30:52, 63.40s/it]"
     ]
    },
    {
     "name": "stdout",
     "output_type": "stream",
     "text": [
      "Model Was Not Saved ! Current Best Avg. Dice: 0.6393395066261292 Current Avg. Dice: 0.6377736926078796 Current Avg. tumor Dice: 0.694758415222168 Current Avg. lymph Dice: 0.5635495781898499\n"
     ]
    },
    {
     "name": "stderr",
     "output_type": "stream",
     "text": [
      "Training (5886 / 18000 Steps) (loss=0.44483): 100%|██████████| 203/203 [10:42<00:00,  3.16s/it]  \n",
      "Validate (5887 / 10 Steps): 100%|██████████| 57/57 [03:12<00:00,  3.37s/it]2<03:26,  1.08s/it]\n",
      "Training (5900 / 18000 Steps) (loss=0.39339):   7%|▋         | 14/203 [03:35<3:06:30, 59.21s/it]"
     ]
    },
    {
     "name": "stdout",
     "output_type": "stream",
     "text": [
      "Model Was Not Saved ! Current Best Avg. Dice: 0.6393395066261292 Current Avg. Dice: 0.6308858394622803 Current Avg. tumor Dice: 0.6828077435493469 Current Avg. lymph Dice: 0.5628312826156616\n"
     ]
    },
    {
     "name": "stderr",
     "output_type": "stream",
     "text": [
      "Validate (5887 / 10 Steps): 100%|██████████| 57/57 [03:37<00:00,  3.82s/it]30<02:03,  1.38s/it] \n",
      "Training (6000 / 18000 Steps) (loss=0.33233):  56%|█████▌    | 114/203 [09:08<1:39:04, 66.79s/it]"
     ]
    },
    {
     "name": "stdout",
     "output_type": "stream",
     "text": [
      "Model Was Not Saved ! Current Best Avg. Dice: 0.6393395066261292 Current Avg. Dice: 0.6337236166000366 Current Avg. tumor Dice: 0.6968960762023926 Current Avg. lymph Dice: 0.5546815991401672\n"
     ]
    },
    {
     "name": "stderr",
     "output_type": "stream",
     "text": [
      "Training (6089 / 18000 Steps) (loss=0.44535): 100%|██████████| 203/203 [10:42<00:00,  3.17s/it]  \n",
      "Validate (6090 / 10 Steps): 100%|██████████| 57/57 [03:13<00:00,  3.39s/it]7<03:37,  1.13s/it]\n",
      "Training (6100 / 18000 Steps) (loss=0.26153):   5%|▌         | 11/203 [03:30<3:12:47, 60.25s/it]"
     ]
    },
    {
     "name": "stdout",
     "output_type": "stream",
     "text": [
      "Model Was Not Saved ! Current Best Avg. Dice: 0.6393395066261292 Current Avg. Dice: 0.6129072904586792 Current Avg. tumor Dice: 0.6657493710517883 Current Avg. lymph Dice: 0.5427775979042053\n"
     ]
    },
    {
     "name": "stderr",
     "output_type": "stream",
     "text": [
      "Validate (6090 / 10 Steps): 100%|██████████| 57/57 [03:10<00:00,  3.33s/it]16<01:38,  1.05s/it] \n",
      "Training (6200 / 18000 Steps) (loss=0.45507):  55%|█████▍    | 111/203 [08:26<1:29:03, 58.08s/it]"
     ]
    },
    {
     "name": "stdout",
     "output_type": "stream",
     "text": [
      "Model Was Not Saved ! Current Best Avg. Dice: 0.6393395066261292 Current Avg. Dice: 0.6263844966888428 Current Avg. tumor Dice: 0.6752839088439941 Current Avg. lymph Dice: 0.55987548828125\n"
     ]
    },
    {
     "name": "stderr",
     "output_type": "stream",
     "text": [
      "Training (6292 / 18000 Steps) (loss=0.48245): 100%|██████████| 203/203 [10:03<00:00,  2.97s/it]  \n",
      "Validate (6293 / 10 Steps): 100%|██████████| 57/57 [03:10<00:00,  3.35s/it]<04:20,  1.33s/it]\n",
      "Training (6300 / 18000 Steps) (loss=0.53837):   4%|▍         | 8/203 [03:26<3:21:31, 62.01s/it]"
     ]
    },
    {
     "name": "stdout",
     "output_type": "stream",
     "text": [
      "Model Was Not Saved ! Current Best Avg. Dice: 0.6393395066261292 Current Avg. Dice: 0.6243922114372253 Current Avg. tumor Dice: 0.6921623349189758 Current Avg. lymph Dice: 0.5380345582962036\n"
     ]
    },
    {
     "name": "stderr",
     "output_type": "stream",
     "text": [
      "Validate (6293 / 10 Steps): 100%|██████████| 57/57 [03:12<00:00,  3.38s/it]11<01:41,  1.05s/it] \n",
      "Training (6400 / 18000 Steps) (loss=0.50343):  53%|█████▎    | 108/203 [08:24<1:33:15, 58.90s/it]"
     ]
    },
    {
     "name": "stdout",
     "output_type": "stream",
     "text": [
      "Model Was Not Saved ! Current Best Avg. Dice: 0.6393395066261292 Current Avg. Dice: 0.634088933467865 Current Avg. tumor Dice: 0.6986311078071594 Current Avg. lymph Dice: 0.5530245900154114\n"
     ]
    },
    {
     "name": "stderr",
     "output_type": "stream",
     "text": [
      "Training (6495 / 18000 Steps) (loss=0.40482): 100%|██████████| 203/203 [10:04<00:00,  2.98s/it]  \n",
      "Validate (6496 / 10 Steps): 100%|██████████| 57/57 [03:11<00:00,  3.35s/it]<06:07,  1.85s/it]\n",
      "Training (6500 / 18000 Steps) (loss=0.32043):   2%|▏         | 5/203 [03:22<3:52:43, 70.52s/it]"
     ]
    },
    {
     "name": "stdout",
     "output_type": "stream",
     "text": [
      "Model Was Not Saved ! Current Best Avg. Dice: 0.6393395066261292 Current Avg. Dice: 0.6307421922683716 Current Avg. tumor Dice: 0.6838611960411072 Current Avg. lymph Dice: 0.560888946056366\n"
     ]
    },
    {
     "name": "stderr",
     "output_type": "stream",
     "text": [
      "Validate (6496 / 10 Steps): 100%|██████████| 57/57 [03:09<00:00,  3.32s/it]07<01:44,  1.05s/it]\n",
      "Training (6600 / 18000 Steps) (loss=0.40564):  52%|█████▏    | 105/203 [08:16<1:34:30, 57.86s/it]"
     ]
    },
    {
     "name": "stdout",
     "output_type": "stream",
     "text": [
      "Model Was Not Saved ! Current Best Avg. Dice: 0.6393395066261292 Current Avg. Dice: 0.6205390691757202 Current Avg. tumor Dice: 0.689893364906311 Current Avg. lymph Dice: 0.5327368378639221\n"
     ]
    },
    {
     "name": "stderr",
     "output_type": "stream",
     "text": [
      "Training (6698 / 18000 Steps) (loss=0.47882): 100%|██████████| 203/203 [10:00<00:00,  2.96s/it]  \n",
      "Validate (6699 / 10 Steps): 100%|██████████| 57/57 [03:11<00:00,  3.35s/it]<20:39,  6.14s/it]\n",
      "Training (6700 / 18000 Steps) (loss=0.47201):   1%|          | 2/203 [03:18<6:28:11, 115.88s/it]"
     ]
    },
    {
     "name": "stdout",
     "output_type": "stream",
     "text": [
      "Model Was Saved ! Current Best Avg. Dice: 0.643751323223114 Current Avg. Dice: 0.643751323223114 Current Avg. tumor Dice: 0.7050735354423523 Current Avg. lymph Dice: 0.5653303861618042\n"
     ]
    },
    {
     "name": "stderr",
     "output_type": "stream",
     "text": [
      "Validate (6699 / 10 Steps): 100%|██████████| 57/57 [03:11<00:00,  3.36s/it]04<01:48,  1.06s/it] \n",
      "Training (6800 / 18000 Steps) (loss=0.52273):  50%|█████     | 102/203 [08:16<1:38:38, 58.60s/it]"
     ]
    },
    {
     "name": "stdout",
     "output_type": "stream",
     "text": [
      "Model Was Not Saved ! Current Best Avg. Dice: 0.643751323223114 Current Avg. Dice: 0.6358415484428406 Current Avg. tumor Dice: 0.7063966989517212 Current Avg. lymph Dice: 0.5474101305007935\n"
     ]
    },
    {
     "name": "stderr",
     "output_type": "stream",
     "text": [
      "Validate (6699 / 10 Steps): 100%|██████████| 57/57 [03:11<00:00,  3.35s/it]01<00:02,  1.05s/it]  \n",
      "Training (6900 / 18000 Steps) (loss=0.62920): 100%|█████████▉| 202/203 [13:12<00:58, 58.41s/it]"
     ]
    },
    {
     "name": "stdout",
     "output_type": "stream",
     "text": [
      "Model Was Not Saved ! Current Best Avg. Dice: 0.643751323223114 Current Avg. Dice: 0.6314701437950134 Current Avg. tumor Dice: 0.6863954663276672 Current Avg. lymph Dice: 0.5572718977928162\n"
     ]
    },
    {
     "name": "stderr",
     "output_type": "stream",
     "text": [
      "Training (6901 / 18000 Steps) (loss=0.39351): 100%|██████████| 203/203 [13:13<00:00,  3.91s/it]\n",
      "Validate (6902 / 10 Steps): 100%|██████████| 57/57 [03:11<00:00,  3.35s/it]9<01:50,  1.05s/it]\n",
      "Training (7000 / 18000 Steps) (loss=0.54956):  49%|████▉     | 99/203 [05:00<1:41:14, 58.41s/it]"
     ]
    },
    {
     "name": "stdout",
     "output_type": "stream",
     "text": [
      "Model Was Not Saved ! Current Best Avg. Dice: 0.643751323223114 Current Avg. Dice: 0.6430314779281616 Current Avg. tumor Dice: 0.7028514742851257 Current Avg. lymph Dice: 0.5658917427062988\n"
     ]
    },
    {
     "name": "stderr",
     "output_type": "stream",
     "text": [
      "Validate (6902 / 10 Steps): 100%|██████████| 57/57 [03:10<00:00,  3.34s/it]45<00:05,  1.05s/it]  \n",
      "Training (7100 / 18000 Steps) (loss=0.42200):  98%|█████████▊| 199/203 [09:56<03:52, 58.23s/it]"
     ]
    },
    {
     "name": "stdout",
     "output_type": "stream",
     "text": [
      "Model Was Not Saved ! Current Best Avg. Dice: 0.643751323223114 Current Avg. Dice: 0.6406338214874268 Current Avg. tumor Dice: 0.691447377204895 Current Avg. lymph Dice: 0.5716651678085327\n"
     ]
    },
    {
     "name": "stderr",
     "output_type": "stream",
     "text": [
      "Training (7104 / 18000 Steps) (loss=0.62566): 100%|██████████| 203/203 [10:00<00:00,  2.96s/it]\n",
      "Validate (7105 / 10 Steps): 100%|██████████| 57/57 [03:10<00:00,  3.34s/it]6<01:53,  1.05s/it]\n",
      "Training (7200 / 18000 Steps) (loss=0.42509):  47%|████▋     | 96/203 [04:56<1:43:59, 58.31s/it]"
     ]
    },
    {
     "name": "stdout",
     "output_type": "stream",
     "text": [
      "Model Was Saved ! Current Best Avg. Dice: 0.6441860795021057 Current Avg. Dice: 0.6441860795021057 Current Avg. tumor Dice: 0.7018668055534363 Current Avg. lymph Dice: 0.5706641674041748\n"
     ]
    },
    {
     "name": "stderr",
     "output_type": "stream",
     "text": [
      "Validate (7105 / 10 Steps): 100%|██████████| 57/57 [03:10<00:00,  3.34s/it]42<00:08,  1.05s/it] \n",
      "Training (7300 / 18000 Steps) (loss=0.55376):  97%|█████████▋| 196/203 [09:52<06:46, 58.12s/it]"
     ]
    },
    {
     "name": "stdout",
     "output_type": "stream",
     "text": [
      "Model Was Not Saved ! Current Best Avg. Dice: 0.6441860795021057 Current Avg. Dice: 0.6311295628547668 Current Avg. tumor Dice: 0.6806396245956421 Current Avg. lymph Dice: 0.5658319592475891\n"
     ]
    },
    {
     "name": "stderr",
     "output_type": "stream",
     "text": [
      "Training (7307 / 18000 Steps) (loss=0.39055): 100%|██████████| 203/203 [09:59<00:00,  2.96s/it]\n",
      "Validate (7308 / 10 Steps): 100%|██████████| 57/57 [03:10<00:00,  3.34s/it]4<01:58,  1.07s/it]\n",
      "Training (7400 / 18000 Steps) (loss=0.42655):  46%|████▌     | 93/203 [04:54<1:46:39, 58.18s/it]"
     ]
    },
    {
     "name": "stdout",
     "output_type": "stream",
     "text": [
      "Model Was Not Saved ! Current Best Avg. Dice: 0.6441860795021057 Current Avg. Dice: 0.6424397230148315 Current Avg. tumor Dice: 0.7026938199996948 Current Avg. lymph Dice: 0.5665027499198914\n"
     ]
    },
    {
     "name": "stderr",
     "output_type": "stream",
     "text": [
      "Validate (7308 / 10 Steps): 100%|██████████| 57/57 [03:12<00:00,  3.37s/it]39<00:11,  1.05s/it] \n",
      "Training (7500 / 18000 Steps) (loss=0.40281):  95%|█████████▌| 193/203 [09:52<09:47, 58.79s/it]"
     ]
    },
    {
     "name": "stdout",
     "output_type": "stream",
     "text": [
      "Model Was Not Saved ! Current Best Avg. Dice: 0.6441860795021057 Current Avg. Dice: 0.641167402267456 Current Avg. tumor Dice: 0.6997710466384888 Current Avg. lymph Dice: 0.5676711797714233\n"
     ]
    },
    {
     "name": "stderr",
     "output_type": "stream",
     "text": [
      "Training (7510 / 18000 Steps) (loss=0.37194): 100%|██████████| 203/203 [10:03<00:00,  2.97s/it]\n",
      "Validate (7511 / 10 Steps): 100%|██████████| 57/57 [03:10<00:00,  3.34s/it]1<02:00,  1.05s/it]\n",
      "Training (7600 / 18000 Steps) (loss=0.51026):  44%|████▍     | 90/203 [04:52<1:49:37, 58.21s/it]"
     ]
    },
    {
     "name": "stdout",
     "output_type": "stream",
     "text": [
      "Model Was Saved ! Current Best Avg. Dice: 0.64958256483078 Current Avg. Dice: 0.64958256483078 Current Avg. tumor Dice: 0.7062453031539917 Current Avg. lymph Dice: 0.5802645087242126\n"
     ]
    },
    {
     "name": "stderr",
     "output_type": "stream",
     "text": [
      "Validate (7511 / 10 Steps): 100%|██████████| 57/57 [03:10<00:00,  3.34s/it]37<00:14,  1.05s/it] \n",
      "Training (7700 / 18000 Steps) (loss=0.33888):  94%|█████████▎| 190/203 [09:47<12:35, 58.15s/it]"
     ]
    },
    {
     "name": "stdout",
     "output_type": "stream",
     "text": [
      "Model Was Not Saved ! Current Best Avg. Dice: 0.64958256483078 Current Avg. Dice: 0.6328321695327759 Current Avg. tumor Dice: 0.6923021078109741 Current Avg. lymph Dice: 0.5575143694877625\n"
     ]
    },
    {
     "name": "stderr",
     "output_type": "stream",
     "text": [
      "Training (7713 / 18000 Steps) (loss=0.45628): 100%|██████████| 203/203 [10:01<00:00,  2.96s/it]\n",
      "Validate (7714 / 10 Steps): 100%|██████████| 57/57 [03:09<00:00,  3.33s/it]7<02:03,  1.05s/it]\n",
      "Training (7800 / 18000 Steps) (loss=0.57267):  43%|████▎     | 87/203 [04:47<1:52:01, 57.94s/it]"
     ]
    },
    {
     "name": "stdout",
     "output_type": "stream",
     "text": [
      "Model Was Not Saved ! Current Best Avg. Dice: 0.64958256483078 Current Avg. Dice: 0.6426522731781006 Current Avg. tumor Dice: 0.7099614143371582 Current Avg. lymph Dice: 0.5586572885513306\n"
     ]
    },
    {
     "name": "stderr",
     "output_type": "stream",
     "text": [
      "Validate (7714 / 10 Steps): 100%|██████████| 57/57 [03:11<00:00,  3.35s/it]32<00:17,  1.06s/it] \n",
      "Training (7900 / 18000 Steps) (loss=0.46355):  92%|█████████▏| 187/203 [09:43<15:34, 58.41s/it]"
     ]
    },
    {
     "name": "stdout",
     "output_type": "stream",
     "text": [
      "Model Was Not Saved ! Current Best Avg. Dice: 0.64958256483078 Current Avg. Dice: 0.6315197348594666 Current Avg. tumor Dice: 0.6926698684692383 Current Avg. lymph Dice: 0.5511564016342163\n"
     ]
    },
    {
     "name": "stderr",
     "output_type": "stream",
     "text": [
      "Training (7916 / 18000 Steps) (loss=0.32329): 100%|██████████| 203/203 [10:00<00:00,  2.96s/it]\n",
      "Validate (7917 / 10 Steps): 100%|██████████| 57/57 [03:09<00:00,  3.33s/it]5<02:06,  1.05s/it]\n",
      "Training (8000 / 18000 Steps) (loss=0.53622):  41%|████▏     | 84/203 [04:44<1:55:01, 57.99s/it]"
     ]
    },
    {
     "name": "stdout",
     "output_type": "stream",
     "text": [
      "Model Was Not Saved ! Current Best Avg. Dice: 0.64958256483078 Current Avg. Dice: 0.6460530757904053 Current Avg. tumor Dice: 0.7053117752075195 Current Avg. lymph Dice: 0.5685481429100037\n"
     ]
    },
    {
     "name": "stderr",
     "output_type": "stream",
     "text": [
      "Validate (7917 / 10 Steps): 100%|██████████| 57/57 [03:09<00:00,  3.32s/it]30<00:21,  1.06s/it] \n",
      "Training (8100 / 18000 Steps) (loss=0.40547):  91%|█████████ | 184/203 [09:39<18:20, 57.92s/it]"
     ]
    },
    {
     "name": "stdout",
     "output_type": "stream",
     "text": [
      "Model Was Not Saved ! Current Best Avg. Dice: 0.64958256483078 Current Avg. Dice: 0.6390580534934998 Current Avg. tumor Dice: 0.6846432089805603 Current Avg. lymph Dice: 0.5765367150306702\n"
     ]
    },
    {
     "name": "stderr",
     "output_type": "stream",
     "text": [
      "Training (8119 / 18000 Steps) (loss=0.22566): 100%|██████████| 203/203 [09:59<00:00,  2.95s/it]\n",
      "Validate (8120 / 10 Steps): 100%|██████████| 57/57 [03:09<00:00,  3.32s/it]3<02:09,  1.05s/it]\n",
      "Training (8200 / 18000 Steps) (loss=0.34219):  40%|███▉      | 81/203 [04:42<1:57:44, 57.91s/it]"
     ]
    },
    {
     "name": "stdout",
     "output_type": "stream",
     "text": [
      "Model Was Not Saved ! Current Best Avg. Dice: 0.64958256483078 Current Avg. Dice: 0.6449300050735474 Current Avg. tumor Dice: 0.6988373398780823 Current Avg. lymph Dice: 0.5742154121398926\n"
     ]
    },
    {
     "name": "stderr",
     "output_type": "stream",
     "text": [
      "Validate (8120 / 10 Steps): 100%|██████████| 57/57 [03:13<00:00,  3.39s/it]28<00:24,  1.06s/it] \n",
      "Training (8300 / 18000 Steps) (loss=0.40028):  89%|████████▉ | 181/203 [09:41<21:37, 58.99s/it]"
     ]
    },
    {
     "name": "stdout",
     "output_type": "stream",
     "text": [
      "Model Was Not Saved ! Current Best Avg. Dice: 0.64958256483078 Current Avg. Dice: 0.6102303862571716 Current Avg. tumor Dice: 0.6810107231140137 Current Avg. lymph Dice: 0.5212780237197876\n"
     ]
    },
    {
     "name": "stderr",
     "output_type": "stream",
     "text": [
      "Training (8322 / 18000 Steps) (loss=0.39724): 100%|██████████| 203/203 [10:04<00:00,  2.98s/it]\n",
      "Validate (8323 / 10 Steps): 100%|██████████| 57/57 [03:10<00:00,  3.34s/it]6<02:13,  1.06s/it]\n",
      "Training (8400 / 18000 Steps) (loss=0.39603):  38%|███▊      | 78/203 [04:37<2:01:13, 58.19s/it]"
     ]
    },
    {
     "name": "stdout",
     "output_type": "stream",
     "text": [
      "Model Was Not Saved ! Current Best Avg. Dice: 0.64958256483078 Current Avg. Dice: 0.6197438836097717 Current Avg. tumor Dice: 0.6682496666908264 Current Avg. lymph Dice: 0.5570212006568909\n"
     ]
    },
    {
     "name": "stderr",
     "output_type": "stream",
     "text": [
      "Validate (8323 / 10 Steps): 100%|██████████| 57/57 [03:10<00:00,  3.34s/it]22<00:27,  1.06s/it] \n",
      "Training (8500 / 18000 Steps) (loss=0.41542):  88%|████████▊ | 178/203 [09:33<24:16, 58.25s/it]"
     ]
    },
    {
     "name": "stdout",
     "output_type": "stream",
     "text": [
      "Model Was Not Saved ! Current Best Avg. Dice: 0.64958256483078 Current Avg. Dice: 0.6479564905166626 Current Avg. tumor Dice: 0.707485556602478 Current Avg. lymph Dice: 0.5724768042564392\n"
     ]
    },
    {
     "name": "stderr",
     "output_type": "stream",
     "text": [
      "Training (8525 / 18000 Steps) (loss=0.32900): 100%|██████████| 203/203 [09:59<00:00,  2.95s/it]\n",
      "Validate (8526 / 10 Steps): 100%|██████████| 57/57 [03:12<00:00,  3.37s/it]7<02:15,  1.05s/it]\n",
      "Training (8600 / 18000 Steps) (loss=0.34341):  37%|███▋      | 75/203 [04:39<2:05:19, 58.75s/it]"
     ]
    },
    {
     "name": "stdout",
     "output_type": "stream",
     "text": [
      "Model Was Saved ! Current Best Avg. Dice: 0.6544078588485718 Current Avg. Dice: 0.6544078588485718 Current Avg. tumor Dice: 0.716323971748352 Current Avg. lymph Dice: 0.5751418471336365\n"
     ]
    },
    {
     "name": "stderr",
     "output_type": "stream",
     "text": [
      "Validate (8526 / 10 Steps): 100%|██████████| 57/57 [03:11<00:00,  3.36s/it]25<00:30,  1.05s/it] \n",
      "Training (8700 / 18000 Steps) (loss=0.49308):  86%|████████▌ | 175/203 [09:36<27:18, 58.51s/it]"
     ]
    },
    {
     "name": "stdout",
     "output_type": "stream",
     "text": [
      "Model Was Not Saved ! Current Best Avg. Dice: 0.6544078588485718 Current Avg. Dice: 0.6311426162719727 Current Avg. tumor Dice: 0.6927803754806519 Current Avg. lymph Dice: 0.55194491147995\n"
     ]
    },
    {
     "name": "stderr",
     "output_type": "stream",
     "text": [
      "Training (8728 / 18000 Steps) (loss=0.36886): 100%|██████████| 203/203 [10:06<00:00,  2.99s/it]\n",
      "Validate (8729 / 10 Steps): 100%|██████████| 57/57 [03:11<00:00,  3.36s/it]3<02:19,  1.06s/it]\n",
      "Training (8800 / 18000 Steps) (loss=0.28512):  35%|███▌      | 72/203 [04:35<2:07:56, 58.60s/it]"
     ]
    },
    {
     "name": "stdout",
     "output_type": "stream",
     "text": [
      "Model Was Not Saved ! Current Best Avg. Dice: 0.6544078588485718 Current Avg. Dice: 0.6507381796836853 Current Avg. tumor Dice: 0.6955164670944214 Current Avg. lymph Dice: 0.5896303653717041\n"
     ]
    },
    {
     "name": "stderr",
     "output_type": "stream",
     "text": [
      "Validate (8729 / 10 Steps): 100%|██████████| 57/57 [03:12<00:00,  3.38s/it]20<00:33,  1.05s/it] \n",
      "Training (8900 / 18000 Steps) (loss=0.35649):  85%|████████▍ | 172/203 [09:33<30:27, 58.96s/it]"
     ]
    },
    {
     "name": "stdout",
     "output_type": "stream",
     "text": [
      "Model Was Not Saved ! Current Best Avg. Dice: 0.6544078588485718 Current Avg. Dice: 0.6212590932846069 Current Avg. tumor Dice: 0.702222466468811 Current Avg. lymph Dice: 0.5220915675163269\n"
     ]
    },
    {
     "name": "stderr",
     "output_type": "stream",
     "text": [
      "Training (8931 / 18000 Steps) (loss=0.21100): 100%|██████████| 203/203 [10:06<00:00,  2.99s/it]\n",
      "Validate (8932 / 10 Steps): 100%|██████████| 57/57 [03:12<00:00,  3.38s/it]2<02:22,  1.06s/it]\n",
      "Training (9000 / 18000 Steps) (loss=0.22448):  34%|███▍      | 69/203 [04:35<2:11:36, 58.93s/it]"
     ]
    },
    {
     "name": "stdout",
     "output_type": "stream",
     "text": [
      "Model Was Not Saved ! Current Best Avg. Dice: 0.6544078588485718 Current Avg. Dice: 0.6355254650115967 Current Avg. tumor Dice: 0.6825917363166809 Current Avg. lymph Dice: 0.5739189386367798\n"
     ]
    },
    {
     "name": "stderr",
     "output_type": "stream",
     "text": [
      "Validate (8932 / 10 Steps): 100%|██████████| 57/57 [03:12<00:00,  3.38s/it]20<00:37,  1.06s/it] \n",
      "Training (9100 / 18000 Steps) (loss=0.35586):  83%|████████▎ | 169/203 [09:33<33:19, 58.80s/it]"
     ]
    },
    {
     "name": "stdout",
     "output_type": "stream",
     "text": [
      "Model Was Not Saved ! Current Best Avg. Dice: 0.6544078588485718 Current Avg. Dice: 0.6463028788566589 Current Avg. tumor Dice: 0.6911719441413879 Current Avg. lymph Dice: 0.5874636173248291\n"
     ]
    },
    {
     "name": "stderr",
     "output_type": "stream",
     "text": [
      "Training (9134 / 18000 Steps) (loss=0.57798): 100%|██████████| 203/203 [10:09<00:00,  3.00s/it]\n",
      "Validate (9135 / 10 Steps): 100%|██████████| 57/57 [03:12<00:00,  3.38s/it]6<02:26,  1.06s/it]\n",
      "Training (9200 / 18000 Steps) (loss=0.49316):  33%|███▎      | 66/203 [04:28<2:14:21, 58.84s/it]"
     ]
    },
    {
     "name": "stdout",
     "output_type": "stream",
     "text": [
      "Model Was Not Saved ! Current Best Avg. Dice: 0.6544078588485718 Current Avg. Dice: 0.652526319026947 Current Avg. tumor Dice: 0.7160772681236267 Current Avg. lymph Dice: 0.5744192004203796\n"
     ]
    },
    {
     "name": "stderr",
     "output_type": "stream",
     "text": [
      "Validate (9135 / 10 Steps): 100%|██████████| 57/57 [03:13<00:00,  3.39s/it]15<00:41,  1.10s/it] \n",
      "Training (9300 / 18000 Steps) (loss=0.46156):  82%|████████▏ | 166/203 [09:28<36:25, 59.06s/it]"
     ]
    },
    {
     "name": "stdout",
     "output_type": "stream",
     "text": [
      "Model Was Not Saved ! Current Best Avg. Dice: 0.6544078588485718 Current Avg. Dice: 0.6536086201667786 Current Avg. tumor Dice: 0.706041157245636 Current Avg. lymph Dice: 0.585398256778717\n"
     ]
    },
    {
     "name": "stderr",
     "output_type": "stream",
     "text": [
      "Training (9337 / 18000 Steps) (loss=0.36844): 100%|██████████| 203/203 [10:08<00:00,  3.00s/it]\n",
      "Validate (9338 / 10 Steps): 100%|██████████| 57/57 [03:12<00:00,  3.37s/it]5<02:31,  1.07s/it]\n",
      "Training (9400 / 18000 Steps) (loss=0.25548):  31%|███       | 63/203 [04:27<2:16:58, 58.70s/it]"
     ]
    },
    {
     "name": "stdout",
     "output_type": "stream",
     "text": [
      "Model Was Not Saved ! Current Best Avg. Dice: 0.6544078588485718 Current Avg. Dice: 0.6453728079795837 Current Avg. tumor Dice: 0.7136263251304626 Current Avg. lymph Dice: 0.5581947565078735\n"
     ]
    },
    {
     "name": "stderr",
     "output_type": "stream",
     "text": [
      "Validate (9338 / 10 Steps): 100%|██████████| 57/57 [03:14<00:00,  3.41s/it]14<00:43,  1.05s/it] \n",
      "Training (9500 / 18000 Steps) (loss=0.47800):  80%|████████  | 163/203 [09:28<39:34, 59.36s/it]"
     ]
    },
    {
     "name": "stdout",
     "output_type": "stream",
     "text": [
      "Model Was Not Saved ! Current Best Avg. Dice: 0.6544078588485718 Current Avg. Dice: 0.6437406539916992 Current Avg. tumor Dice: 0.6993440389633179 Current Avg. lymph Dice: 0.5719106197357178\n"
     ]
    },
    {
     "name": "stderr",
     "output_type": "stream",
     "text": [
      "Training (9540 / 18000 Steps) (loss=0.44730): 100%|██████████| 203/203 [10:11<00:00,  3.01s/it]\n",
      "Validate (9541 / 10 Steps): 100%|██████████| 57/57 [03:12<00:00,  3.37s/it]1<02:37,  1.10s/it]\n",
      "Training (9600 / 18000 Steps) (loss=0.54466):  30%|██▉       | 60/203 [04:24<2:20:08, 58.80s/it]"
     ]
    },
    {
     "name": "stdout",
     "output_type": "stream",
     "text": [
      "Model Was Not Saved ! Current Best Avg. Dice: 0.6544078588485718 Current Avg. Dice: 0.6273592710494995 Current Avg. tumor Dice: 0.6905909776687622 Current Avg. lymph Dice: 0.5480504631996155\n"
     ]
    },
    {
     "name": "stderr",
     "output_type": "stream",
     "text": [
      "Validate (9541 / 10 Steps): 100%|██████████| 57/57 [03:11<00:00,  3.35s/it]10<00:46,  1.05s/it] \n",
      "Training (9700 / 18000 Steps) (loss=0.32785):  79%|███████▉  | 160/203 [09:21<41:53, 58.45s/it]"
     ]
    },
    {
     "name": "stdout",
     "output_type": "stream",
     "text": [
      "Model Was Not Saved ! Current Best Avg. Dice: 0.6544078588485718 Current Avg. Dice: 0.6472671031951904 Current Avg. tumor Dice: 0.6984415054321289 Current Avg. lymph Dice: 0.5791346430778503\n"
     ]
    },
    {
     "name": "stderr",
     "output_type": "stream",
     "text": [
      "Training (9743 / 18000 Steps) (loss=0.47211): 100%|██████████| 203/203 [10:07<00:00,  2.99s/it]\n",
      "Validate (9744 / 10 Steps): 100%|██████████| 57/57 [03:13<00:00,  3.40s/it]7<02:36,  1.07s/it]\n",
      "Training (9800 / 18000 Steps) (loss=0.49100):  28%|██▊       | 57/203 [04:21<2:23:58, 59.17s/it]"
     ]
    },
    {
     "name": "stdout",
     "output_type": "stream",
     "text": [
      "Model Was Not Saved ! Current Best Avg. Dice: 0.6544078588485718 Current Avg. Dice: 0.6382273435592651 Current Avg. tumor Dice: 0.6837026476860046 Current Avg. lymph Dice: 0.5794080495834351\n"
     ]
    },
    {
     "name": "stderr",
     "output_type": "stream",
     "text": [
      "Validate (9744 / 10 Steps): 100%|██████████| 57/57 [03:14<00:00,  3.41s/it]07<00:50,  1.07s/it] \n",
      "Training (9900 / 18000 Steps) (loss=0.43894):  77%|███████▋  | 157/203 [09:21<45:32, 59.39s/it]"
     ]
    },
    {
     "name": "stdout",
     "output_type": "stream",
     "text": [
      "Model Was Not Saved ! Current Best Avg. Dice: 0.6544078588485718 Current Avg. Dice: 0.6342241764068604 Current Avg. tumor Dice: 0.6952127814292908 Current Avg. lymph Dice: 0.5555806159973145\n"
     ]
    },
    {
     "name": "stderr",
     "output_type": "stream",
     "text": [
      "Training (9946 / 18000 Steps) (loss=0.40296): 100%|██████████| 203/203 [10:10<00:00,  3.01s/it]\n",
      "Validate (9947 / 10 Steps): 100%|██████████| 57/57 [03:12<00:00,  3.38s/it]04<02:37,  1.05s/it]\n",
      "Training (10000 / 18000 Steps) (loss=0.39277):  27%|██▋       | 54/203 [04:17<2:26:12, 58.88s/it]"
     ]
    },
    {
     "name": "stdout",
     "output_type": "stream",
     "text": [
      "Model Was Not Saved ! Current Best Avg. Dice: 0.6544078588485718 Current Avg. Dice: 0.6527340412139893 Current Avg. tumor Dice: 0.7099262475967407 Current Avg. lymph Dice: 0.5796980261802673\n"
     ]
    },
    {
     "name": "stderr",
     "output_type": "stream",
     "text": [
      "Validate (9947 / 10 Steps): 100%|██████████| 57/57 [03:12<00:00,  3.37s/it]:03<00:52,  1.06s/it] \n",
      "Training (10100 / 18000 Steps) (loss=0.51502):  76%|███████▌  | 154/203 [09:15<48:00, 58.79s/it]"
     ]
    },
    {
     "name": "stdout",
     "output_type": "stream",
     "text": [
      "Model Was Not Saved ! Current Best Avg. Dice: 0.6544078588485718 Current Avg. Dice: 0.6419299840927124 Current Avg. tumor Dice: 0.6912379264831543 Current Avg. lymph Dice: 0.5736954808235168\n"
     ]
    },
    {
     "name": "stderr",
     "output_type": "stream",
     "text": [
      "Training (10149 / 18000 Steps) (loss=0.25344): 100%|██████████| 203/203 [10:07<00:00,  2.99s/it]\n",
      "Validate (10150 / 10 Steps): 100%|██████████| 57/57 [03:12<00:00,  3.38s/it]1<02:41,  1.05s/it]\n",
      "Training (10200 / 18000 Steps) (loss=0.56127):  25%|██▌       | 51/203 [04:13<2:28:58, 58.81s/it]"
     ]
    },
    {
     "name": "stdout",
     "output_type": "stream",
     "text": [
      "Model Was Not Saved ! Current Best Avg. Dice: 0.6544078588485718 Current Avg. Dice: 0.6402250528335571 Current Avg. tumor Dice: 0.7074106931686401 Current Avg. lymph Dice: 0.5544060468673706\n"
     ]
    },
    {
     "name": "stderr",
     "output_type": "stream",
     "text": [
      "Validate (10150 / 10 Steps): 100%|██████████| 57/57 [03:11<00:00,  3.37s/it]59<00:55,  1.05s/it] \n",
      "Training (10300 / 18000 Steps) (loss=0.39895):  74%|███████▍  | 151/203 [09:11<50:49, 58.65s/it]"
     ]
    },
    {
     "name": "stdout",
     "output_type": "stream",
     "text": [
      "Model Was Not Saved ! Current Best Avg. Dice: 0.6544078588485718 Current Avg. Dice: 0.6484046578407288 Current Avg. tumor Dice: 0.7067350745201111 Current Avg. lymph Dice: 0.5738222599029541\n"
     ]
    },
    {
     "name": "stderr",
     "output_type": "stream",
     "text": [
      "Training (10352 / 18000 Steps) (loss=0.44507): 100%|██████████| 203/203 [10:06<00:00,  2.99s/it]\n",
      "Validate (10353 / 10 Steps): 100%|██████████| 57/57 [03:13<00:00,  3.39s/it]1<03:09,  1.21s/it]\n",
      "Training (10400 / 18000 Steps) (loss=0.52231):  24%|██▎       | 48/203 [04:15<2:32:55, 59.20s/it]"
     ]
    },
    {
     "name": "stdout",
     "output_type": "stream",
     "text": [
      "Model Was Not Saved ! Current Best Avg. Dice: 0.6544078588485718 Current Avg. Dice: 0.6493059992790222 Current Avg. tumor Dice: 0.6912042498588562 Current Avg. lymph Dice: 0.591697633266449\n"
     ]
    },
    {
     "name": "stderr",
     "output_type": "stream",
     "text": [
      "Validate (10353 / 10 Steps): 100%|██████████| 57/57 [03:13<00:00,  3.39s/it]02<01:00,  1.08s/it] \n",
      "Training (10500 / 18000 Steps) (loss=0.44676):  73%|███████▎  | 148/203 [09:15<54:10, 59.11s/it]"
     ]
    },
    {
     "name": "stdout",
     "output_type": "stream",
     "text": [
      "Model Was Saved ! Current Best Avg. Dice: 0.6547274589538574 Current Avg. Dice: 0.6547274589538574 Current Avg. tumor Dice: 0.7104045152664185 Current Avg. lymph Dice: 0.5813942551612854\n"
     ]
    },
    {
     "name": "stderr",
     "output_type": "stream",
     "text": [
      "Training (10555 / 18000 Steps) (loss=0.48124): 100%|██████████| 203/203 [10:13<00:00,  3.02s/it]\n",
      "Validate (10556 / 10 Steps): 100%|██████████| 57/57 [03:12<00:00,  3.38s/it]6<02:48,  1.06s/it]\n",
      "Training (10600 / 18000 Steps) (loss=0.48594):  22%|██▏       | 45/203 [04:09<2:35:16, 58.96s/it]"
     ]
    },
    {
     "name": "stdout",
     "output_type": "stream",
     "text": [
      "Model Was Not Saved ! Current Best Avg. Dice: 0.6547274589538574 Current Avg. Dice: 0.6467305421829224 Current Avg. tumor Dice: 0.7099360823631287 Current Avg. lymph Dice: 0.5646639466285706\n"
     ]
    },
    {
     "name": "stderr",
     "output_type": "stream",
     "text": [
      "Validate (10556 / 10 Steps): 100%|██████████| 57/57 [03:11<00:00,  3.36s/it]55<01:02,  1.06s/it] \n",
      "Training (10700 / 18000 Steps) (loss=0.52472):  71%|███████▏  | 145/203 [09:07<56:37, 58.58s/it]"
     ]
    },
    {
     "name": "stdout",
     "output_type": "stream",
     "text": [
      "Model Was Not Saved ! Current Best Avg. Dice: 0.6547274589538574 Current Avg. Dice: 0.6511638164520264 Current Avg. tumor Dice: 0.7153415679931641 Current Avg. lymph Dice: 0.5702996253967285\n"
     ]
    },
    {
     "name": "stderr",
     "output_type": "stream",
     "text": [
      "Training (10758 / 18000 Steps) (loss=0.32644): 100%|██████████| 203/203 [10:08<00:00,  3.00s/it]\n",
      "Validate (10759 / 10 Steps): 100%|██████████| 57/57 [03:10<00:00,  3.34s/it]2<02:50,  1.05s/it]\n",
      "Training (10800 / 18000 Steps) (loss=0.40023):  21%|██        | 42/203 [04:02<2:36:22, 58.27s/it]"
     ]
    },
    {
     "name": "stdout",
     "output_type": "stream",
     "text": [
      "Model Was Saved ! Current Best Avg. Dice: 0.6592074036598206 Current Avg. Dice: 0.6592074036598206 Current Avg. tumor Dice: 0.7090596556663513 Current Avg. lymph Dice: 0.5933170318603516\n"
     ]
    },
    {
     "name": "stderr",
     "output_type": "stream",
     "text": [
      "Validate (10759 / 10 Steps): 100%|██████████| 57/57 [03:10<00:00,  3.35s/it]49<01:05,  1.05s/it] \n",
      "Training (10900 / 18000 Steps) (loss=0.49998):  70%|██████▉   | 142/203 [09:00<59:21, 58.39s/it]"
     ]
    },
    {
     "name": "stdout",
     "output_type": "stream",
     "text": [
      "Model Was Not Saved ! Current Best Avg. Dice: 0.6592074036598206 Current Avg. Dice: 0.6423066854476929 Current Avg. tumor Dice: 0.7076388001441956 Current Avg. lymph Dice: 0.5568848848342896\n"
     ]
    },
    {
     "name": "stderr",
     "output_type": "stream",
     "text": [
      "Training (10961 / 18000 Steps) (loss=0.52188): 100%|██████████| 203/203 [10:04<00:00,  2.98s/it]\n",
      "Validate (10962 / 10 Steps): 100%|██████████| 57/57 [03:11<00:00,  3.36s/it]7<02:54,  1.06s/it]\n",
      "Training (11000 / 18000 Steps) (loss=0.42197):  19%|█▉        | 39/203 [03:58<2:40:06, 58.58s/it]"
     ]
    },
    {
     "name": "stdout",
     "output_type": "stream",
     "text": [
      "Model Was Not Saved ! Current Best Avg. Dice: 0.6592074036598206 Current Avg. Dice: 0.6492410898208618 Current Avg. tumor Dice: 0.7067012786865234 Current Avg. lymph Dice: 0.5766170620918274\n"
     ]
    },
    {
     "name": "stderr",
     "output_type": "stream",
     "text": [
      "Validate (10962 / 10 Steps): 100%|██████████| 57/57 [03:10<00:00,  3.34s/it]44<01:08,  1.05s/it] \n",
      "Training (11100 / 18000 Steps) (loss=0.55648):  68%|██████▊   | 139/203 [08:55<1:02:06, 58.23s/it]"
     ]
    },
    {
     "name": "stdout",
     "output_type": "stream",
     "text": [
      "Model Was Not Saved ! Current Best Avg. Dice: 0.6592074036598206 Current Avg. Dice: 0.6460670232772827 Current Avg. tumor Dice: 0.6916766166687012 Current Avg. lymph Dice: 0.5844109654426575\n"
     ]
    },
    {
     "name": "stderr",
     "output_type": "stream",
     "text": [
      "Training (11164 / 18000 Steps) (loss=0.54187): 100%|██████████| 203/203 [10:02<00:00,  2.97s/it]  \n",
      "Validate (11165 / 10 Steps): 100%|██████████| 57/57 [03:13<00:00,  3.39s/it]4<02:57,  1.05s/it]\n",
      "Training (11200 / 18000 Steps) (loss=0.42086):  18%|█▊        | 36/203 [03:57<2:44:20, 59.05s/it]"
     ]
    },
    {
     "name": "stdout",
     "output_type": "stream",
     "text": [
      "Model Was Not Saved ! Current Best Avg. Dice: 0.6592074036598206 Current Avg. Dice: 0.6325420141220093 Current Avg. tumor Dice: 0.6936762928962708 Current Avg. lymph Dice: 0.5565940141677856\n"
     ]
    },
    {
     "name": "stderr",
     "output_type": "stream",
     "text": [
      "Validate (11165 / 10 Steps): 100%|██████████| 57/57 [03:13<00:00,  3.39s/it]43<01:11,  1.05s/it] \n",
      "Training (11300 / 18000 Steps) (loss=0.43041):  67%|██████▋   | 136/203 [08:56<1:06:00, 59.11s/it]"
     ]
    },
    {
     "name": "stdout",
     "output_type": "stream",
     "text": [
      "Model Was Not Saved ! Current Best Avg. Dice: 0.6592074036598206 Current Avg. Dice: 0.6532478928565979 Current Avg. tumor Dice: 0.7091498970985413 Current Avg. lymph Dice: 0.5805584788322449\n"
     ]
    },
    {
     "name": "stderr",
     "output_type": "stream",
     "text": [
      "Training (11367 / 18000 Steps) (loss=0.28752): 100%|██████████| 203/203 [10:07<00:00,  2.99s/it]  \n",
      "Validate (11368 / 10 Steps): 100%|██████████| 57/57 [03:12<00:00,  3.38s/it]9<03:00,  1.06s/it]\n",
      "Training (11400 / 18000 Steps) (loss=0.24370):  16%|█▋        | 33/203 [03:52<2:46:37, 58.81s/it]"
     ]
    },
    {
     "name": "stdout",
     "output_type": "stream",
     "text": [
      "Model Was Not Saved ! Current Best Avg. Dice: 0.6592074036598206 Current Avg. Dice: 0.6215225458145142 Current Avg. tumor Dice: 0.6776790022850037 Current Avg. lymph Dice: 0.5448540449142456\n"
     ]
    },
    {
     "name": "stderr",
     "output_type": "stream",
     "text": [
      "Validate (11368 / 10 Steps): 100%|██████████| 57/57 [03:11<00:00,  3.36s/it]38<01:14,  1.06s/it] \n",
      "Training (11500 / 18000 Steps) (loss=0.37079):  66%|██████▌   | 133/203 [08:50<1:08:25, 58.66s/it]"
     ]
    },
    {
     "name": "stdout",
     "output_type": "stream",
     "text": [
      "Model Was Saved ! Current Best Avg. Dice: 0.6644003391265869 Current Avg. Dice: 0.6644003391265869 Current Avg. tumor Dice: 0.7198466658592224 Current Avg. lymph Dice: 0.5942450165748596\n"
     ]
    },
    {
     "name": "stderr",
     "output_type": "stream",
     "text": [
      "Training (11570 / 18000 Steps) (loss=0.38071): 100%|██████████| 203/203 [10:04<00:00,  2.98s/it]  \n",
      "Validate (11571 / 10 Steps): 100%|██████████| 57/57 [03:13<00:00,  3.39s/it]6<03:03,  1.06s/it]\n",
      "Training (11600 / 18000 Steps) (loss=0.42421):  15%|█▍        | 30/203 [03:50<2:50:25, 59.11s/it]"
     ]
    },
    {
     "name": "stdout",
     "output_type": "stream",
     "text": [
      "Model Was Not Saved ! Current Best Avg. Dice: 0.6644003391265869 Current Avg. Dice: 0.6581662893295288 Current Avg. tumor Dice: 0.710478663444519 Current Avg. lymph Dice: 0.5894842147827148\n"
     ]
    },
    {
     "name": "stderr",
     "output_type": "stream",
     "text": [
      "Validate (11571 / 10 Steps): 100%|██████████| 57/57 [03:12<00:00,  3.37s/it]35<01:18,  1.06s/it] \n",
      "Training (11700 / 18000 Steps) (loss=0.38239):  64%|██████▍   | 130/203 [08:48<1:11:26, 58.72s/it]"
     ]
    },
    {
     "name": "stdout",
     "output_type": "stream",
     "text": [
      "Model Was Not Saved ! Current Best Avg. Dice: 0.6644003391265869 Current Avg. Dice: 0.6536863446235657 Current Avg. tumor Dice: 0.7137138247489929 Current Avg. lymph Dice: 0.5784280896186829\n"
     ]
    },
    {
     "name": "stderr",
     "output_type": "stream",
     "text": [
      "Training (11773 / 18000 Steps) (loss=0.35825): 100%|██████████| 203/203 [10:05<00:00,  2.98s/it]  \n",
      "Validate (11774 / 10 Steps): 100%|██████████| 57/57 [03:11<00:00,  3.36s/it]4<03:07,  1.06s/it]\n",
      "Training (11800 / 18000 Steps) (loss=0.51109):  13%|█▎        | 27/203 [03:45<2:51:39, 58.52s/it]"
     ]
    },
    {
     "name": "stdout",
     "output_type": "stream",
     "text": [
      "Model Was Not Saved ! Current Best Avg. Dice: 0.6644003391265869 Current Avg. Dice: 0.6532615423202515 Current Avg. tumor Dice: 0.708440899848938 Current Avg. lymph Dice: 0.5829178094863892\n"
     ]
    },
    {
     "name": "stderr",
     "output_type": "stream",
     "text": [
      "Validate (11774 / 10 Steps): 100%|██████████| 57/57 [03:11<00:00,  3.35s/it]31<01:20,  1.05s/it] \n",
      "Training (11900 / 18000 Steps) (loss=0.43609):  63%|██████▎   | 127/203 [08:42<1:13:57, 58.39s/it]"
     ]
    },
    {
     "name": "stdout",
     "output_type": "stream",
     "text": [
      "Model Was Not Saved ! Current Best Avg. Dice: 0.6644003391265869 Current Avg. Dice: 0.6530637145042419 Current Avg. tumor Dice: 0.7010231614112854 Current Avg. lymph Dice: 0.5873472690582275\n"
     ]
    },
    {
     "name": "stderr",
     "output_type": "stream",
     "text": [
      "Training (11976 / 18000 Steps) (loss=0.41198): 100%|██████████| 203/203 [10:02<00:00,  2.97s/it]  \n",
      "Validate (11977 / 10 Steps): 100%|██████████| 57/57 [03:09<00:00,  3.33s/it]1<03:08,  1.05s/it]\n",
      "Training (12000 / 18000 Steps) (loss=0.44150):  12%|█▏        | 24/203 [03:41<2:53:00, 57.99s/it]"
     ]
    },
    {
     "name": "stdout",
     "output_type": "stream",
     "text": [
      "Model Was Not Saved ! Current Best Avg. Dice: 0.6644003391265869 Current Avg. Dice: 0.6417956948280334 Current Avg. tumor Dice: 0.6931223273277283 Current Avg. lymph Dice: 0.5723981857299805\n"
     ]
    },
    {
     "name": "stderr",
     "output_type": "stream",
     "text": [
      "Validate (11977 / 10 Steps): 100%|██████████| 57/57 [03:08<00:00,  3.31s/it]26<01:23,  1.05s/it] \n",
      "Training (12100 / 18000 Steps) (loss=0.37787):  61%|██████    | 124/203 [08:35<1:15:57, 57.69s/it]"
     ]
    },
    {
     "name": "stdout",
     "output_type": "stream",
     "text": [
      "Model Was Not Saved ! Current Best Avg. Dice: 0.6644003391265869 Current Avg. Dice: 0.642738938331604 Current Avg. tumor Dice: 0.6953845620155334 Current Avg. lymph Dice: 0.5727075338363647\n"
     ]
    },
    {
     "name": "stderr",
     "output_type": "stream",
     "text": [
      "Training (12179 / 18000 Steps) (loss=0.41530): 100%|██████████| 203/203 [09:57<00:00,  2.95s/it]  \n",
      "Validate (12180 / 10 Steps): 100%|██████████| 57/57 [03:08<00:00,  3.31s/it]9<03:10,  1.04s/it]\n",
      "Training (12200 / 18000 Steps) (loss=0.38357):  10%|█         | 21/203 [03:38<2:55:15, 57.78s/it]"
     ]
    },
    {
     "name": "stdout",
     "output_type": "stream",
     "text": [
      "Model Was Not Saved ! Current Best Avg. Dice: 0.6644003391265869 Current Avg. Dice: 0.6444541811943054 Current Avg. tumor Dice: 0.7073200941085815 Current Avg. lymph Dice: 0.5656812191009521\n"
     ]
    },
    {
     "name": "stderr",
     "output_type": "stream",
     "text": [
      "Validate (12180 / 10 Steps): 100%|██████████| 57/57 [03:09<00:00,  3.32s/it]22<01:26,  1.05s/it] \n",
      "Training (12300 / 18000 Steps) (loss=0.47946):  60%|█████▉    | 121/203 [08:32<1:19:03, 57.85s/it]"
     ]
    },
    {
     "name": "stdout",
     "output_type": "stream",
     "text": [
      "Model Was Saved ! Current Best Avg. Dice: 0.6666045784950256 Current Avg. Dice: 0.6666045784950256 Current Avg. tumor Dice: 0.7169281840324402 Current Avg. lymph Dice: 0.6014073491096497\n"
     ]
    },
    {
     "name": "stderr",
     "output_type": "stream",
     "text": [
      "Training (12382 / 18000 Steps) (loss=0.58714): 100%|██████████| 203/203 [09:57<00:00,  2.95s/it]  \n",
      "Validate (12383 / 10 Steps): 100%|██████████| 57/57 [03:08<00:00,  3.31s/it]5<03:15,  1.05s/it]\n",
      "Training (12400 / 18000 Steps) (loss=0.49395):   9%|▉         | 18/203 [03:34<2:58:22, 57.85s/it]"
     ]
    },
    {
     "name": "stdout",
     "output_type": "stream",
     "text": [
      "Model Was Not Saved ! Current Best Avg. Dice: 0.6666045784950256 Current Avg. Dice: 0.6559600234031677 Current Avg. tumor Dice: 0.7078370451927185 Current Avg. lymph Dice: 0.5881979465484619\n"
     ]
    },
    {
     "name": "stderr",
     "output_type": "stream",
     "text": [
      "Validate (12383 / 10 Steps): 100%|██████████| 57/57 [03:08<00:00,  3.31s/it]19<01:30,  1.05s/it] \n",
      "Training (12500 / 18000 Steps) (loss=0.39101):  58%|█████▊    | 118/203 [08:28<1:21:47, 57.74s/it]"
     ]
    },
    {
     "name": "stdout",
     "output_type": "stream",
     "text": [
      "Model Was Not Saved ! Current Best Avg. Dice: 0.6666045784950256 Current Avg. Dice: 0.6620841026306152 Current Avg. tumor Dice: 0.714987576007843 Current Avg. lymph Dice: 0.5937509536743164\n"
     ]
    },
    {
     "name": "stderr",
     "output_type": "stream",
     "text": [
      "Training (12585 / 18000 Steps) (loss=0.41407): 100%|██████████| 203/203 [09:57<00:00,  2.94s/it]  \n",
      "Validate (12586 / 10 Steps): 100%|██████████| 57/57 [03:09<00:00,  3.32s/it]0<03:19,  1.06s/it]\n",
      "Training (12600 / 18000 Steps) (loss=0.42104):   7%|▋         | 15/203 [03:30<3:02:13, 58.16s/it]"
     ]
    },
    {
     "name": "stdout",
     "output_type": "stream",
     "text": [
      "Model Was Not Saved ! Current Best Avg. Dice: 0.6666045784950256 Current Avg. Dice: 0.6585970520973206 Current Avg. tumor Dice: 0.7094453573226929 Current Avg. lymph Dice: 0.5913293361663818\n"
     ]
    },
    {
     "name": "stderr",
     "output_type": "stream",
     "text": [
      "Validate (12586 / 10 Steps): 100%|██████████| 57/57 [03:09<00:00,  3.32s/it]14<01:33,  1.05s/it] \n",
      "Training (12700 / 18000 Steps) (loss=0.39620):  57%|█████▋    | 115/203 [08:23<1:24:48, 57.83s/it]"
     ]
    },
    {
     "name": "stdout",
     "output_type": "stream",
     "text": [
      "Model Was Not Saved ! Current Best Avg. Dice: 0.6666045784950256 Current Avg. Dice: 0.6537278890609741 Current Avg. tumor Dice: 0.7093037366867065 Current Avg. lymph Dice: 0.5855104923248291\n"
     ]
    },
    {
     "name": "stderr",
     "output_type": "stream",
     "text": [
      "Training (12788 / 18000 Steps) (loss=0.27123): 100%|██████████| 203/203 [09:55<00:00,  2.94s/it]  \n",
      "Validate (12789 / 10 Steps): 100%|██████████| 57/57 [03:09<00:00,  3.32s/it]9<03:32,  1.11s/it]\n",
      "Training (12800 / 18000 Steps) (loss=0.58716):   6%|▌         | 12/203 [03:28<3:06:48, 58.69s/it]"
     ]
    },
    {
     "name": "stdout",
     "output_type": "stream",
     "text": [
      "Model Was Not Saved ! Current Best Avg. Dice: 0.6666045784950256 Current Avg. Dice: 0.6425739526748657 Current Avg. tumor Dice: 0.7140403389930725 Current Avg. lymph Dice: 0.5525179505348206\n"
     ]
    },
    {
     "name": "stderr",
     "output_type": "stream",
     "text": [
      "Validate (12789 / 10 Steps): 100%|██████████| 57/57 [03:09<00:00,  3.32s/it]13<01:36,  1.05s/it] \n",
      "Training (12900 / 18000 Steps) (loss=0.55384):  55%|█████▌    | 112/203 [08:22<1:27:39, 57.80s/it]"
     ]
    },
    {
     "name": "stdout",
     "output_type": "stream",
     "text": [
      "Model Was Not Saved ! Current Best Avg. Dice: 0.6666045784950256 Current Avg. Dice: 0.6618474125862122 Current Avg. tumor Dice: 0.721666157245636 Current Avg. lymph Dice: 0.5889223217964172\n"
     ]
    },
    {
     "name": "stderr",
     "output_type": "stream",
     "text": [
      "Training (12991 / 18000 Steps) (loss=0.42022): 100%|██████████| 203/203 [09:57<00:00,  2.94s/it]  \n",
      "Validate (12992 / 10 Steps): 100%|██████████| 57/57 [03:09<00:00,  3.32s/it]<04:01,  1.24s/it]\n",
      "Training (13000 / 18000 Steps) (loss=0.37272):   4%|▍         | 9/203 [03:25<3:15:15, 60.39s/it]"
     ]
    },
    {
     "name": "stdout",
     "output_type": "stream",
     "text": [
      "Model Was Not Saved ! Current Best Avg. Dice: 0.6666045784950256 Current Avg. Dice: 0.652225911617279 Current Avg. tumor Dice: 0.7030680775642395 Current Avg. lymph Dice: 0.5880745053291321\n"
     ]
    },
    {
     "name": "stderr",
     "output_type": "stream",
     "text": [
      "Validate (12992 / 10 Steps): 100%|██████████| 57/57 [03:11<00:00,  3.36s/it]11<01:40,  1.06s/it] \n",
      "Training (13100 / 18000 Steps) (loss=0.44831):  54%|█████▎    | 109/203 [08:22<1:31:41, 58.52s/it]"
     ]
    },
    {
     "name": "stdout",
     "output_type": "stream",
     "text": [
      "Model Was Not Saved ! Current Best Avg. Dice: 0.6666045784950256 Current Avg. Dice: 0.6572157144546509 Current Avg. tumor Dice: 0.7051562666893005 Current Avg. lymph Dice: 0.5932967066764832\n"
     ]
    },
    {
     "name": "stderr",
     "output_type": "stream",
     "text": [
      "Training (13194 / 18000 Steps) (loss=0.49649): 100%|██████████| 203/203 [10:01<00:00,  2.96s/it]  \n",
      "Validate (13195 / 10 Steps): 100%|██████████| 57/57 [03:11<00:00,  3.35s/it]<05:28,  1.66s/it]\n",
      "Training (13200 / 18000 Steps) (loss=0.36699):   3%|▎         | 6/203 [03:24<3:38:28, 66.54s/it]"
     ]
    },
    {
     "name": "stdout",
     "output_type": "stream",
     "text": [
      "Model Was Saved ! Current Best Avg. Dice: 0.6677893996238708 Current Avg. Dice: 0.6677893996238708 Current Avg. tumor Dice: 0.725136399269104 Current Avg. lymph Dice: 0.5956312417984009\n"
     ]
    },
    {
     "name": "stderr",
     "output_type": "stream",
     "text": [
      "Validate (13195 / 10 Steps): 100%|██████████| 57/57 [03:09<00:00,  3.32s/it]10<01:43,  1.05s/it]\n",
      "Training (13300 / 18000 Steps) (loss=0.40562):  52%|█████▏    | 106/203 [08:19<1:33:28, 57.82s/it]"
     ]
    },
    {
     "name": "stdout",
     "output_type": "stream",
     "text": [
      "Model Was Not Saved ! Current Best Avg. Dice: 0.6677893996238708 Current Avg. Dice: 0.6571505069732666 Current Avg. tumor Dice: 0.7076552510261536 Current Avg. lymph Dice: 0.5940259099006653\n"
     ]
    },
    {
     "name": "stderr",
     "output_type": "stream",
     "text": [
      "Training (13397 / 18000 Steps) (loss=0.48204): 100%|██████████| 203/203 [10:01<00:00,  2.96s/it]  \n",
      "Validate (13398 / 10 Steps): 100%|██████████| 57/57 [03:10<00:00,  3.35s/it]<13:50,  4.13s/it]\n",
      "Training (13400 / 18000 Steps) (loss=0.43120):   1%|▏         | 3/203 [03:21<5:00:00, 90.00s/it]"
     ]
    },
    {
     "name": "stdout",
     "output_type": "stream",
     "text": [
      "Model Was Not Saved ! Current Best Avg. Dice: 0.6677893996238708 Current Avg. Dice: 0.6436156034469604 Current Avg. tumor Dice: 0.7029018998146057 Current Avg. lymph Dice: 0.5685019493103027\n"
     ]
    },
    {
     "name": "stderr",
     "output_type": "stream",
     "text": [
      "Validate (13398 / 10 Steps): 100%|██████████| 57/57 [03:12<00:00,  3.38s/it]06<01:47,  1.06s/it]\n",
      "Training (13500 / 18000 Steps) (loss=0.37435):  51%|█████     | 103/203 [08:19<1:38:02, 58.83s/it]"
     ]
    },
    {
     "name": "stdout",
     "output_type": "stream",
     "text": [
      "Model Was Not Saved ! Current Best Avg. Dice: 0.6677893996238708 Current Avg. Dice: 0.6423676013946533 Current Avg. tumor Dice: 0.7016886472702026 Current Avg. lymph Dice: 0.5663744211196899\n"
     ]
    },
    {
     "name": "stderr",
     "output_type": "stream",
     "text": [
      "Validate (13398 / 10 Steps): 100%|██████████| 57/57 [03:08<00:00,  3.31s/it]04<00:01,  1.05s/it]  \n",
      "Training (13600 / 18000 Steps) (loss=0.45273): 100%|██████████| 203/203 [13:13<00:00,  3.91s/it]\n"
     ]
    },
    {
     "name": "stdout",
     "output_type": "stream",
     "text": [
      "Model Was Not Saved ! Current Best Avg. Dice: 0.6677893996238708 Current Avg. Dice: 0.6471542716026306 Current Avg. tumor Dice: 0.7079900503158569 Current Avg. lymph Dice: 0.5713149309158325\n"
     ]
    },
    {
     "name": "stderr",
     "output_type": "stream",
     "text": [
      "Validate (13601 / 10 Steps): 100%|██████████| 57/57 [03:10<00:00,  3.34s/it]0<01:49,  1.05s/it]\n",
      "Training (13700 / 18000 Steps) (loss=0.32474):  49%|████▉     | 100/203 [05:00<1:39:49, 58.15s/it]"
     ]
    },
    {
     "name": "stdout",
     "output_type": "stream",
     "text": [
      "Model Was Not Saved ! Current Best Avg. Dice: 0.6677893996238708 Current Avg. Dice: 0.6430892944335938 Current Avg. tumor Dice: 0.6928364634513855 Current Avg. lymph Dice: 0.5785103440284729\n"
     ]
    },
    {
     "name": "stderr",
     "output_type": "stream",
     "text": [
      "Validate (13601 / 10 Steps): 100%|██████████| 57/57 [03:10<00:00,  3.35s/it]45<00:04,  1.05s/it]  \n",
      "Training (13800 / 18000 Steps) (loss=0.33179):  99%|█████████▊| 200/203 [09:56<02:54, 58.30s/it]"
     ]
    },
    {
     "name": "stdout",
     "output_type": "stream",
     "text": [
      "Model Was Not Saved ! Current Best Avg. Dice: 0.6677893996238708 Current Avg. Dice: 0.6536697745323181 Current Avg. tumor Dice: 0.7105764746665955 Current Avg. lymph Dice: 0.5809634327888489\n"
     ]
    },
    {
     "name": "stderr",
     "output_type": "stream",
     "text": [
      "Training (13803 / 18000 Steps) (loss=0.34428): 100%|██████████| 203/203 [10:00<00:00,  2.96s/it]\n",
      "Validate (13804 / 10 Steps): 100%|██████████| 57/57 [03:10<00:00,  3.34s/it]8<01:52,  1.05s/it]\n",
      "Training (13900 / 18000 Steps) (loss=0.22253):  48%|████▊     | 97/203 [04:58<1:42:51, 58.22s/it]"
     ]
    },
    {
     "name": "stdout",
     "output_type": "stream",
     "text": [
      "Model Was Saved ! Current Best Avg. Dice: 0.6692337393760681 Current Avg. Dice: 0.6692337393760681 Current Avg. tumor Dice: 0.7201684713363647 Current Avg. lymph Dice: 0.6047075986862183\n"
     ]
    },
    {
     "name": "stderr",
     "output_type": "stream",
     "text": [
      "Validate (13804 / 10 Steps): 100%|██████████| 57/57 [03:09<00:00,  3.33s/it]44<00:07,  1.05s/it] \n",
      "Training (14000 / 18000 Steps) (loss=0.50113):  97%|█████████▋| 197/203 [09:54<05:48, 58.04s/it]"
     ]
    },
    {
     "name": "stdout",
     "output_type": "stream",
     "text": [
      "Model Was Not Saved ! Current Best Avg. Dice: 0.6692337393760681 Current Avg. Dice: 0.6292808651924133 Current Avg. tumor Dice: 0.6779364347457886 Current Avg. lymph Dice: 0.570094645023346\n"
     ]
    },
    {
     "name": "stderr",
     "output_type": "stream",
     "text": [
      "Training (14006 / 18000 Steps) (loss=0.52465): 100%|██████████| 203/203 [10:00<00:00,  2.96s/it]\n",
      "Validate (14007 / 10 Steps): 100%|██████████| 57/57 [03:10<00:00,  3.34s/it]6<01:55,  1.05s/it]\n",
      "Training (14100 / 18000 Steps) (loss=0.32729):  46%|████▋     | 94/203 [04:56<1:45:40, 58.17s/it]"
     ]
    },
    {
     "name": "stdout",
     "output_type": "stream",
     "text": [
      "Model Was Not Saved ! Current Best Avg. Dice: 0.6692337393760681 Current Avg. Dice: 0.6562936902046204 Current Avg. tumor Dice: 0.7175151109695435 Current Avg. lymph Dice: 0.5801533460617065\n"
     ]
    },
    {
     "name": "stderr",
     "output_type": "stream",
     "text": [
      "Validate (14007 / 10 Steps): 100%|██████████| 57/57 [03:10<00:00,  3.35s/it]41<00:10,  1.05s/it] \n",
      "Training (14200 / 18000 Steps) (loss=0.38291):  96%|█████████▌| 194/203 [09:52<08:45, 58.37s/it]"
     ]
    },
    {
     "name": "stdout",
     "output_type": "stream",
     "text": [
      "Model Was Not Saved ! Current Best Avg. Dice: 0.6692337393760681 Current Avg. Dice: 0.6609187126159668 Current Avg. tumor Dice: 0.7142744064331055 Current Avg. lymph Dice: 0.5952812433242798\n"
     ]
    },
    {
     "name": "stderr",
     "output_type": "stream",
     "text": [
      "Training (14209 / 18000 Steps) (loss=0.48053): 100%|██████████| 203/203 [10:02<00:00,  2.97s/it]\n",
      "Validate (14210 / 10 Steps): 100%|██████████| 57/57 [03:10<00:00,  3.34s/it]1<01:58,  1.05s/it]\n",
      "Training (14300 / 18000 Steps) (loss=0.43600):  45%|████▍     | 91/203 [04:51<1:48:29, 58.12s/it]"
     ]
    },
    {
     "name": "stdout",
     "output_type": "stream",
     "text": [
      "Model Was Not Saved ! Current Best Avg. Dice: 0.6692337393760681 Current Avg. Dice: 0.6595438718795776 Current Avg. tumor Dice: 0.72364741563797 Current Avg. lymph Dice: 0.5796603560447693\n"
     ]
    },
    {
     "name": "stderr",
     "output_type": "stream",
     "text": [
      "Validate (14210 / 10 Steps): 100%|██████████| 57/57 [03:09<00:00,  3.33s/it]36<00:13,  1.05s/it] \n",
      "Training (14400 / 18000 Steps) (loss=0.41298):  94%|█████████▍| 191/203 [09:47<11:36, 58.07s/it]"
     ]
    },
    {
     "name": "stdout",
     "output_type": "stream",
     "text": [
      "Model Was Not Saved ! Current Best Avg. Dice: 0.6692337393760681 Current Avg. Dice: 0.6491939425468445 Current Avg. tumor Dice: 0.7053750157356262 Current Avg. lymph Dice: 0.5775497555732727\n"
     ]
    },
    {
     "name": "stderr",
     "output_type": "stream",
     "text": [
      "Training (14412 / 18000 Steps) (loss=0.31784): 100%|██████████| 203/203 [09:59<00:00,  2.95s/it]\n",
      "Validate (14413 / 10 Steps): 100%|██████████| 57/57 [03:10<00:00,  3.35s/it]0<02:01,  1.05s/it]\n",
      "Training (14500 / 18000 Steps) (loss=0.32896):  43%|████▎     | 88/203 [04:51<1:51:53, 58.38s/it]"
     ]
    },
    {
     "name": "stdout",
     "output_type": "stream",
     "text": [
      "Model Was Not Saved ! Current Best Avg. Dice: 0.6692337393760681 Current Avg. Dice: 0.6668418049812317 Current Avg. tumor Dice: 0.7197922468185425 Current Avg. lymph Dice: 0.5990936160087585\n"
     ]
    },
    {
     "name": "stderr",
     "output_type": "stream",
     "text": [
      "Validate (14413 / 10 Steps): 100%|██████████| 57/57 [03:10<00:00,  3.35s/it]36<00:16,  1.06s/it] \n",
      "Training (14600 / 18000 Steps) (loss=0.46370):  93%|█████████▎| 188/203 [09:47<14:34, 58.29s/it]"
     ]
    },
    {
     "name": "stdout",
     "output_type": "stream",
     "text": [
      "Model Was Not Saved ! Current Best Avg. Dice: 0.6692337393760681 Current Avg. Dice: 0.6525300741195679 Current Avg. tumor Dice: 0.7020827531814575 Current Avg. lymph Dice: 0.5861401557922363\n"
     ]
    },
    {
     "name": "stderr",
     "output_type": "stream",
     "text": [
      "Training (14615 / 18000 Steps) (loss=0.47568): 100%|██████████| 203/203 [10:03<00:00,  2.97s/it]\n",
      "Validate (14616 / 10 Steps): 100%|██████████| 57/57 [03:10<00:00,  3.34s/it]6<02:04,  1.04s/it]\n",
      "Training (14700 / 18000 Steps) (loss=0.43180):  42%|████▏     | 85/203 [04:47<1:54:32, 58.24s/it]"
     ]
    },
    {
     "name": "stdout",
     "output_type": "stream",
     "text": [
      "Model Was Not Saved ! Current Best Avg. Dice: 0.6692337393760681 Current Avg. Dice: 0.636062502861023 Current Avg. tumor Dice: 0.6818665266036987 Current Avg. lymph Dice: 0.5754613876342773\n"
     ]
    },
    {
     "name": "stderr",
     "output_type": "stream",
     "text": [
      "Validate (14616 / 10 Steps): 100%|██████████| 57/57 [03:10<00:00,  3.35s/it]31<00:19,  1.05s/it] \n",
      "Training (14800 / 18000 Steps) (loss=0.42453):  91%|█████████ | 185/203 [09:42<17:28, 58.27s/it]"
     ]
    },
    {
     "name": "stdout",
     "output_type": "stream",
     "text": [
      "Model Was Not Saved ! Current Best Avg. Dice: 0.6692337393760681 Current Avg. Dice: 0.6438302993774414 Current Avg. tumor Dice: 0.7129752039909363 Current Avg. lymph Dice: 0.5572995543479919\n"
     ]
    },
    {
     "name": "stderr",
     "output_type": "stream",
     "text": [
      "Training (14818 / 18000 Steps) (loss=0.47510): 100%|██████████| 203/203 [10:01<00:00,  2.96s/it]\n",
      "Validate (14819 / 10 Steps): 100%|██████████| 57/57 [03:10<00:00,  3.34s/it]2<02:07,  1.05s/it]\n",
      "Training (14900 / 18000 Steps) (loss=0.30083):  40%|████      | 82/203 [04:42<1:57:19, 58.18s/it]"
     ]
    },
    {
     "name": "stdout",
     "output_type": "stream",
     "text": [
      "Model Was Not Saved ! Current Best Avg. Dice: 0.6692337393760681 Current Avg. Dice: 0.651696503162384 Current Avg. tumor Dice: 0.7084798216819763 Current Avg. lymph Dice: 0.5780162215232849\n"
     ]
    },
    {
     "name": "stderr",
     "output_type": "stream",
     "text": [
      "Validate (14819 / 10 Steps): 100%|██████████| 57/57 [03:10<00:00,  3.35s/it]27<00:23,  1.05s/it] \n",
      "Training (15000 / 18000 Steps) (loss=0.54404):  90%|████████▉ | 182/203 [09:38<20:24, 58.31s/it]"
     ]
    },
    {
     "name": "stdout",
     "output_type": "stream",
     "text": [
      "Model Was Not Saved ! Current Best Avg. Dice: 0.6692337393760681 Current Avg. Dice: 0.644768476486206 Current Avg. tumor Dice: 0.6984804272651672 Current Avg. lymph Dice: 0.5731669664382935\n"
     ]
    },
    {
     "name": "stderr",
     "output_type": "stream",
     "text": [
      "Training (15021 / 18000 Steps) (loss=0.33087): 100%|██████████| 203/203 [10:00<00:00,  2.96s/it]\n",
      "Validate (15022 / 10 Steps): 100%|██████████| 57/57 [03:11<00:00,  3.36s/it]8<02:11,  1.05s/it]\n",
      "Training (15100 / 18000 Steps) (loss=0.57835):  39%|███▉      | 79/203 [04:39<2:00:48, 58.45s/it]"
     ]
    },
    {
     "name": "stdout",
     "output_type": "stream",
     "text": [
      "Model Was Not Saved ! Current Best Avg. Dice: 0.6692337393760681 Current Avg. Dice: 0.663690984249115 Current Avg. tumor Dice: 0.7227835655212402 Current Avg. lymph Dice: 0.5889438390731812\n"
     ]
    },
    {
     "name": "stderr",
     "output_type": "stream",
     "text": [
      "Validate (15022 / 10 Steps): 100%|██████████| 57/57 [03:11<00:00,  3.35s/it]24<00:26,  1.05s/it] \n",
      "Training (15200 / 18000 Steps) (loss=0.44064):  88%|████████▊ | 179/203 [09:35<23:21, 58.38s/it]"
     ]
    },
    {
     "name": "stdout",
     "output_type": "stream",
     "text": [
      "Model Was Not Saved ! Current Best Avg. Dice: 0.6692337393760681 Current Avg. Dice: 0.6574272513389587 Current Avg. tumor Dice: 0.7125428915023804 Current Avg. lymph Dice: 0.5861895084381104\n"
     ]
    },
    {
     "name": "stderr",
     "output_type": "stream",
     "text": [
      "Training (15224 / 18000 Steps) (loss=0.51353): 100%|██████████| 203/203 [10:01<00:00,  2.96s/it]\n",
      "Validate (15225 / 10 Steps): 100%|██████████| 57/57 [03:10<00:00,  3.33s/it]5<02:14,  1.05s/it]\n",
      "Training (15300 / 18000 Steps) (loss=0.54074):  37%|███▋      | 76/203 [04:35<2:02:56, 58.09s/it]"
     ]
    },
    {
     "name": "stdout",
     "output_type": "stream",
     "text": [
      "Model Was Not Saved ! Current Best Avg. Dice: 0.6692337393760681 Current Avg. Dice: 0.6613942384719849 Current Avg. tumor Dice: 0.706820011138916 Current Avg. lymph Dice: 0.6000639796257019\n"
     ]
    },
    {
     "name": "stderr",
     "output_type": "stream",
     "text": [
      "Validate (15225 / 10 Steps): 100%|██████████| 57/57 [03:09<00:00,  3.33s/it]20<00:29,  1.06s/it] \n",
      "Training (15400 / 18000 Steps) (loss=0.48517):  87%|████████▋ | 176/203 [09:30<26:05, 57.99s/it]"
     ]
    },
    {
     "name": "stdout",
     "output_type": "stream",
     "text": [
      "Model Was Not Saved ! Current Best Avg. Dice: 0.6692337393760681 Current Avg. Dice: 0.6547708511352539 Current Avg. tumor Dice: 0.6979242563247681 Current Avg. lymph Dice: 0.5957400798797607\n"
     ]
    },
    {
     "name": "stderr",
     "output_type": "stream",
     "text": [
      "Training (15427 / 18000 Steps) (loss=0.36554): 100%|██████████| 203/203 [09:58<00:00,  2.95s/it]\n",
      "Validate (15428 / 10 Steps): 100%|██████████| 57/57 [03:09<00:00,  3.33s/it]3<02:17,  1.05s/it]\n",
      "Training (15500 / 18000 Steps) (loss=0.41540):  36%|███▌      | 73/203 [04:33<2:05:38, 57.99s/it]"
     ]
    },
    {
     "name": "stdout",
     "output_type": "stream",
     "text": [
      "Model Was Not Saved ! Current Best Avg. Dice: 0.6692337393760681 Current Avg. Dice: 0.6600531339645386 Current Avg. tumor Dice: 0.708294689655304 Current Avg. lymph Dice: 0.5970547795295715\n"
     ]
    },
    {
     "name": "stderr",
     "output_type": "stream",
     "text": [
      "Validate (15428 / 10 Steps): 100%|██████████| 57/57 [03:10<00:00,  3.34s/it]18<00:32,  1.05s/it] \n",
      "Training (15600 / 18000 Steps) (loss=0.64702):  85%|████████▌ | 173/203 [09:28<29:03, 58.13s/it]"
     ]
    },
    {
     "name": "stdout",
     "output_type": "stream",
     "text": [
      "Model Was Not Saved ! Current Best Avg. Dice: 0.6692337393760681 Current Avg. Dice: 0.6590899229049683 Current Avg. tumor Dice: 0.7078272700309753 Current Avg. lymph Dice: 0.5930756330490112\n"
     ]
    },
    {
     "name": "stderr",
     "output_type": "stream",
     "text": [
      "Training (15630 / 18000 Steps) (loss=0.30447): 100%|██████████| 203/203 [10:00<00:00,  2.96s/it]\n",
      "Validate (15631 / 10 Steps): 100%|██████████| 57/57 [03:09<00:00,  3.32s/it]0<02:20,  1.05s/it]\n",
      "Training (15700 / 18000 Steps) (loss=0.30932):  34%|███▍      | 70/203 [04:29<2:08:17, 57.87s/it]"
     ]
    },
    {
     "name": "stdout",
     "output_type": "stream",
     "text": [
      "Model Was Not Saved ! Current Best Avg. Dice: 0.6692337393760681 Current Avg. Dice: 0.6619967222213745 Current Avg. tumor Dice: 0.7158209681510925 Current Avg. lymph Dice: 0.5920882225036621\n"
     ]
    },
    {
     "name": "stderr",
     "output_type": "stream",
     "text": [
      "Validate (15631 / 10 Steps): 100%|██████████| 57/57 [03:10<00:00,  3.34s/it]14<00:35,  1.05s/it] \n",
      "Training (15800 / 18000 Steps) (loss=0.41220):  84%|████████▎ | 170/203 [09:25<31:58, 58.15s/it]"
     ]
    },
    {
     "name": "stdout",
     "output_type": "stream",
     "text": [
      "Model Was Not Saved ! Current Best Avg. Dice: 0.6692337393760681 Current Avg. Dice: 0.6246023774147034 Current Avg. tumor Dice: 0.6663801074028015 Current Avg. lymph Dice: 0.5692353248596191\n"
     ]
    },
    {
     "name": "stderr",
     "output_type": "stream",
     "text": [
      "Training (15833 / 18000 Steps) (loss=0.28820): 100%|██████████| 203/203 [09:59<00:00,  2.95s/it]\n",
      "Validate (15834 / 10 Steps): 100%|██████████| 57/57 [03:11<00:00,  3.36s/it]5<02:24,  1.05s/it]\n",
      "Training (15900 / 18000 Steps) (loss=0.36921):  33%|███▎      | 67/203 [04:27<2:12:48, 58.59s/it]"
     ]
    },
    {
     "name": "stdout",
     "output_type": "stream",
     "text": [
      "Model Was Not Saved ! Current Best Avg. Dice: 0.6692337393760681 Current Avg. Dice: 0.6585599780082703 Current Avg. tumor Dice: 0.694903552532196 Current Avg. lymph Dice: 0.6099804043769836\n"
     ]
    },
    {
     "name": "stderr",
     "output_type": "stream",
     "text": [
      "Validate (15834 / 10 Steps): 100%|██████████| 57/57 [03:10<00:00,  3.34s/it]12<00:38,  1.05s/it] \n",
      "Training (16000 / 18000 Steps) (loss=0.40436):  82%|████████▏ | 167/203 [09:23<34:54, 58.17s/it]"
     ]
    },
    {
     "name": "stdout",
     "output_type": "stream",
     "text": [
      "Model Was Not Saved ! Current Best Avg. Dice: 0.6692337393760681 Current Avg. Dice: 0.6579833626747131 Current Avg. tumor Dice: 0.7073135375976562 Current Avg. lymph Dice: 0.5954871773719788\n"
     ]
    },
    {
     "name": "stderr",
     "output_type": "stream",
     "text": [
      "Training (16036 / 18000 Steps) (loss=0.49378): 100%|██████████| 203/203 [10:01<00:00,  2.96s/it]\n",
      "Validate (16037 / 10 Steps): 100%|██████████| 57/57 [03:11<00:00,  3.36s/it]3<02:28,  1.06s/it]\n",
      "Training (16100 / 18000 Steps) (loss=0.35923):  32%|███▏      | 64/203 [04:24<2:15:42, 58.58s/it]"
     ]
    },
    {
     "name": "stdout",
     "output_type": "stream",
     "text": [
      "Model Was Not Saved ! Current Best Avg. Dice: 0.6692337393760681 Current Avg. Dice: 0.660081148147583 Current Avg. tumor Dice: 0.7094830870628357 Current Avg. lymph Dice: 0.5939354300498962\n"
     ]
    },
    {
     "name": "stderr",
     "output_type": "stream",
     "text": [
      "Validate (16037 / 10 Steps): 100%|██████████| 57/57 [03:11<00:00,  3.36s/it]10<00:42,  1.05s/it] \n",
      "Training (16200 / 18000 Steps) (loss=0.44848):  81%|████████  | 164/203 [09:21<38:05, 58.60s/it]"
     ]
    },
    {
     "name": "stdout",
     "output_type": "stream",
     "text": [
      "Model Was Not Saved ! Current Best Avg. Dice: 0.6692337393760681 Current Avg. Dice: 0.6561415791511536 Current Avg. tumor Dice: 0.7136921882629395 Current Avg. lymph Dice: 0.585975170135498\n"
     ]
    },
    {
     "name": "stderr",
     "output_type": "stream",
     "text": [
      "Training (16239 / 18000 Steps) (loss=0.39310): 100%|██████████| 203/203 [10:02<00:00,  2.97s/it]\n",
      "Validate (16240 / 10 Steps): 100%|██████████| 57/57 [03:12<00:00,  3.37s/it]2<02:29,  1.05s/it]\n",
      "Training (16300 / 18000 Steps) (loss=0.47382):  30%|███       | 61/203 [04:24<2:18:54, 58.69s/it]"
     ]
    },
    {
     "name": "stdout",
     "output_type": "stream",
     "text": [
      "Model Was Not Saved ! Current Best Avg. Dice: 0.6692337393760681 Current Avg. Dice: 0.6490891575813293 Current Avg. tumor Dice: 0.7084429860115051 Current Avg. lymph Dice: 0.5732886791229248\n"
     ]
    },
    {
     "name": "stderr",
     "output_type": "stream",
     "text": [
      "Validate (16240 / 10 Steps): 100%|██████████| 57/57 [03:10<00:00,  3.34s/it]10<00:45,  1.05s/it] \n",
      "Training (16400 / 18000 Steps) (loss=0.45084):  79%|███████▉  | 161/203 [09:20<40:42, 58.15s/it]"
     ]
    },
    {
     "name": "stdout",
     "output_type": "stream",
     "text": [
      "Model Was Not Saved ! Current Best Avg. Dice: 0.6692337393760681 Current Avg. Dice: 0.6524016857147217 Current Avg. tumor Dice: 0.704677164554596 Current Avg. lymph Dice: 0.5822491645812988\n"
     ]
    },
    {
     "name": "stderr",
     "output_type": "stream",
     "text": [
      "Training (16442 / 18000 Steps) (loss=0.40994): 100%|██████████| 203/203 [10:04<00:00,  2.98s/it]\n",
      "Validate (16443 / 10 Steps): 100%|██████████| 57/57 [03:11<00:00,  3.37s/it]8<02:33,  1.05s/it]\n",
      "Training (16500 / 18000 Steps) (loss=0.36451):  29%|██▊       | 58/203 [04:20<2:21:40, 58.62s/it]"
     ]
    },
    {
     "name": "stdout",
     "output_type": "stream",
     "text": [
      "Model Was Not Saved ! Current Best Avg. Dice: 0.6692337393760681 Current Avg. Dice: 0.6517866849899292 Current Avg. tumor Dice: 0.6979274749755859 Current Avg. lymph Dice: 0.5884302854537964\n"
     ]
    },
    {
     "name": "stderr",
     "output_type": "stream",
     "text": [
      "Validate (16443 / 10 Steps): 100%|██████████| 57/57 [03:11<00:00,  3.35s/it]05<00:48,  1.05s/it] \n",
      "Training (16600 / 18000 Steps) (loss=0.35310):  78%|███████▊  | 158/203 [09:16<43:48, 58.40s/it]"
     ]
    },
    {
     "name": "stdout",
     "output_type": "stream",
     "text": [
      "Model Was Not Saved ! Current Best Avg. Dice: 0.6692337393760681 Current Avg. Dice: 0.6519960165023804 Current Avg. tumor Dice: 0.7094244360923767 Current Avg. lymph Dice: 0.5777419805526733\n"
     ]
    },
    {
     "name": "stderr",
     "output_type": "stream",
     "text": [
      "Training (16645 / 18000 Steps) (loss=0.51014): 100%|██████████| 203/203 [10:04<00:00,  2.98s/it]\n",
      "Validate (16646 / 10 Steps): 100%|██████████| 57/57 [03:11<00:00,  3.37s/it]5<02:37,  1.06s/it]\n",
      "Training (16700 / 18000 Steps) (loss=0.48441):  27%|██▋       | 55/203 [04:17<2:24:43, 58.67s/it]"
     ]
    },
    {
     "name": "stdout",
     "output_type": "stream",
     "text": [
      "Model Was Not Saved ! Current Best Avg. Dice: 0.6692337393760681 Current Avg. Dice: 0.6447767019271851 Current Avg. tumor Dice: 0.7028825879096985 Current Avg. lymph Dice: 0.5682794451713562\n"
     ]
    },
    {
     "name": "stderr",
     "output_type": "stream",
     "text": [
      "Validate (16646 / 10 Steps): 100%|██████████| 57/57 [03:12<00:00,  3.37s/it]02<00:52,  1.06s/it] \n",
      "Training (16800 / 18000 Steps) (loss=0.46128):  76%|███████▋  | 155/203 [09:15<47:02, 58.80s/it]"
     ]
    },
    {
     "name": "stdout",
     "output_type": "stream",
     "text": [
      "Model Was Not Saved ! Current Best Avg. Dice: 0.6692337393760681 Current Avg. Dice: 0.6635191440582275 Current Avg. tumor Dice: 0.7141351699829102 Current Avg. lymph Dice: 0.597351610660553\n"
     ]
    },
    {
     "name": "stderr",
     "output_type": "stream",
     "text": [
      "Training (16848 / 18000 Steps) (loss=0.40409): 100%|██████████| 203/203 [10:05<00:00,  2.98s/it]\n",
      "Validate (16849 / 10 Steps): 100%|██████████| 57/57 [03:11<00:00,  3.37s/it]2<02:39,  1.05s/it]\n",
      "Training (16900 / 18000 Steps) (loss=0.28746):  26%|██▌       | 52/203 [04:14<2:27:34, 58.64s/it]"
     ]
    },
    {
     "name": "stdout",
     "output_type": "stream",
     "text": [
      "Model Was Not Saved ! Current Best Avg. Dice: 0.6692337393760681 Current Avg. Dice: 0.636593222618103 Current Avg. tumor Dice: 0.7039893269538879 Current Avg. lymph Dice: 0.552972137928009\n"
     ]
    },
    {
     "name": "stderr",
     "output_type": "stream",
     "text": [
      "Validate (16849 / 10 Steps): 100%|██████████| 57/57 [03:09<00:00,  3.32s/it]59<00:55,  1.06s/it] \n",
      "Training (17000 / 18000 Steps) (loss=0.36755):  75%|███████▍  | 152/203 [09:08<49:13, 57.92s/it]"
     ]
    },
    {
     "name": "stdout",
     "output_type": "stream",
     "text": [
      "Model Was Not Saved ! Current Best Avg. Dice: 0.6692337393760681 Current Avg. Dice: 0.6594457030296326 Current Avg. tumor Dice: 0.7133041024208069 Current Avg. lymph Dice: 0.5919920802116394\n"
     ]
    },
    {
     "name": "stderr",
     "output_type": "stream",
     "text": [
      "Training (17051 / 18000 Steps) (loss=0.38369): 100%|██████████| 203/203 [10:02<00:00,  2.97s/it]\n",
      "Validate (17052 / 10 Steps): 100%|██████████| 57/57 [03:10<00:00,  3.35s/it]6<02:42,  1.05s/it]\n",
      "Training (17100 / 18000 Steps) (loss=0.21776):  24%|██▍       | 49/203 [04:07<2:29:50, 58.38s/it]"
     ]
    },
    {
     "name": "stdout",
     "output_type": "stream",
     "text": [
      "Model Was Not Saved ! Current Best Avg. Dice: 0.6692337393760681 Current Avg. Dice: 0.6594386696815491 Current Avg. tumor Dice: 0.7142301797866821 Current Avg. lymph Dice: 0.588377833366394\n"
     ]
    },
    {
     "name": "stderr",
     "output_type": "stream",
     "text": [
      "Validate (17052 / 10 Steps): 100%|██████████| 57/57 [03:10<00:00,  3.34s/it]52<00:57,  1.05s/it] \n",
      "Training (17200 / 18000 Steps) (loss=0.28447):  73%|███████▎  | 149/203 [09:03<52:26, 58.27s/it]"
     ]
    },
    {
     "name": "stdout",
     "output_type": "stream",
     "text": [
      "Model Was Not Saved ! Current Best Avg. Dice: 0.6692337393760681 Current Avg. Dice: 0.6436167359352112 Current Avg. tumor Dice: 0.7044963836669922 Current Avg. lymph Dice: 0.569068193435669\n"
     ]
    },
    {
     "name": "stderr",
     "output_type": "stream",
     "text": [
      "Training (17254 / 18000 Steps) (loss=0.38305): 100%|██████████| 203/203 [10:00<00:00,  2.96s/it]\n",
      "Validate (17255 / 10 Steps): 100%|██████████| 57/57 [03:10<00:00,  3.34s/it]5<02:46,  1.06s/it]\n",
      "Training (17300 / 18000 Steps) (loss=0.33083):  23%|██▎       | 46/203 [04:05<2:32:05, 58.12s/it]"
     ]
    },
    {
     "name": "stdout",
     "output_type": "stream",
     "text": [
      "Model Was Not Saved ! Current Best Avg. Dice: 0.6692337393760681 Current Avg. Dice: 0.662559449672699 Current Avg. tumor Dice: 0.7155448198318481 Current Avg. lymph Dice: 0.5959213376045227\n"
     ]
    },
    {
     "name": "stderr",
     "output_type": "stream",
     "text": [
      "Validate (17255 / 10 Steps): 100%|██████████| 57/57 [03:09<00:00,  3.32s/it]50<01:01,  1.05s/it] \n",
      "Training (17400 / 18000 Steps) (loss=0.35746):  72%|███████▏  | 146/203 [08:59<54:58, 57.87s/it]"
     ]
    },
    {
     "name": "stdout",
     "output_type": "stream",
     "text": [
      "Model Was Not Saved ! Current Best Avg. Dice: 0.6692337393760681 Current Avg. Dice: 0.6480331420898438 Current Avg. tumor Dice: 0.7083863615989685 Current Avg. lymph Dice: 0.5707477331161499\n"
     ]
    },
    {
     "name": "stderr",
     "output_type": "stream",
     "text": [
      "Training (17457 / 18000 Steps) (loss=0.34312): 100%|██████████| 203/203 [09:59<00:00,  2.95s/it]\n",
      "Validate (17458 / 10 Steps): 100%|██████████| 57/57 [03:11<00:00,  3.36s/it]0<02:48,  1.05s/it]\n",
      "Training (17500 / 18000 Steps) (loss=0.33660):  21%|██        | 43/203 [04:02<2:36:10, 58.57s/it]"
     ]
    },
    {
     "name": "stdout",
     "output_type": "stream",
     "text": [
      "Model Was Not Saved ! Current Best Avg. Dice: 0.6692337393760681 Current Avg. Dice: 0.6559957265853882 Current Avg. tumor Dice: 0.7090964913368225 Current Avg. lymph Dice: 0.58795565366745\n"
     ]
    },
    {
     "name": "stderr",
     "output_type": "stream",
     "text": [
      "Validate (17458 / 10 Steps): 100%|██████████| 57/57 [03:10<00:00,  3.34s/it]47<01:04,  1.05s/it] \n",
      "Training (17600 / 18000 Steps) (loss=0.33503):  70%|███████   | 143/203 [08:57<58:09, 58.16s/it]"
     ]
    },
    {
     "name": "stdout",
     "output_type": "stream",
     "text": [
      "Model Was Not Saved ! Current Best Avg. Dice: 0.6692337393760681 Current Avg. Dice: 0.6614736318588257 Current Avg. tumor Dice: 0.7174254059791565 Current Avg. lymph Dice: 0.591571033000946\n"
     ]
    },
    {
     "name": "stderr",
     "output_type": "stream",
     "text": [
      "Training (17660 / 18000 Steps) (loss=0.34469): 100%|██████████| 203/203 [10:00<00:00,  2.96s/it]\n",
      "Validate (17661 / 10 Steps): 100%|██████████| 57/57 [03:11<00:00,  3.36s/it]8<02:51,  1.05s/it]\n",
      "Training (17700 / 18000 Steps) (loss=0.48257):  20%|█▉        | 40/203 [04:00<2:39:05, 58.56s/it]"
     ]
    },
    {
     "name": "stdout",
     "output_type": "stream",
     "text": [
      "Model Was Not Saved ! Current Best Avg. Dice: 0.6692337393760681 Current Avg. Dice: 0.6565583348274231 Current Avg. tumor Dice: 0.7064753174781799 Current Avg. lymph Dice: 0.5937097668647766\n"
     ]
    },
    {
     "name": "stderr",
     "output_type": "stream",
     "text": [
      "Validate (17661 / 10 Steps): 100%|██████████| 57/57 [03:10<00:00,  3.35s/it]45<01:07,  1.05s/it] \n",
      "Training (17800 / 18000 Steps) (loss=0.40988):  69%|██████▉   | 140/203 [08:56<1:01:11, 58.28s/it]"
     ]
    },
    {
     "name": "stdout",
     "output_type": "stream",
     "text": [
      "Model Was Not Saved ! Current Best Avg. Dice: 0.6692337393760681 Current Avg. Dice: 0.6606804132461548 Current Avg. tumor Dice: 0.7190672755241394 Current Avg. lymph Dice: 0.5889369249343872\n"
     ]
    },
    {
     "name": "stderr",
     "output_type": "stream",
     "text": [
      "Training (17863 / 18000 Steps) (loss=0.26858): 100%|██████████| 203/203 [10:02<00:00,  2.97s/it]  \n",
      "Validate (17864 / 10 Steps): 100%|██████████| 57/57 [03:11<00:00,  3.36s/it]6<02:55,  1.05s/it]\n",
      "Training (17900 / 18000 Steps) (loss=0.45696):  18%|█▊        | 37/203 [03:58<2:42:03, 58.58s/it]"
     ]
    },
    {
     "name": "stdout",
     "output_type": "stream",
     "text": [
      "Model Was Not Saved ! Current Best Avg. Dice: 0.6692337393760681 Current Avg. Dice: 0.6576377749443054 Current Avg. tumor Dice: 0.7194867134094238 Current Avg. lymph Dice: 0.5838196873664856\n"
     ]
    },
    {
     "name": "stderr",
     "output_type": "stream",
     "text": [
      "Validate (17864 / 10 Steps): 100%|██████████| 57/57 [03:11<00:00,  3.36s/it]43<01:10,  1.05s/it] \n",
      "Training (18000 / 18000 Steps) (loss=0.32628):  67%|██████▋   | 137/203 [08:54<1:04:18, 58.46s/it]"
     ]
    },
    {
     "name": "stdout",
     "output_type": "stream",
     "text": [
      "Model Was Not Saved ! Current Best Avg. Dice: 0.6692337393760681 Current Avg. Dice: 0.6507531404495239 Current Avg. tumor Dice: 0.6985793709754944 Current Avg. lymph Dice: 0.5871832370758057\n"
     ]
    },
    {
     "name": "stderr",
     "output_type": "stream",
     "text": [
      "Training (18066 / 18000 Steps) (loss=0.51569): 100%|██████████| 203/203 [10:04<00:00,  2.98s/it]  \n"
     ]
    }
   ],
   "source": [
    "model_dir = '/home/nada.saadi/MIS-FM/hecktor2022_cropped/files'\n",
    "\n",
    "def validation(epoch_iterator_val):\n",
    "    model.eval()\n",
    "    with torch.no_grad():\n",
    "        for step, batch in enumerate(epoch_iterator_val):\n",
    "            val_inputs, val_labels = (batch[\"ctpt\"].cuda(), batch[\"seg\"].cuda())\n",
    "            val_outputs = sliding_window_inference(val_inputs, (96, 96, 96), 4, model)\n",
    "            val_labels_list = decollate_batch(val_labels)\n",
    "            val_labels_convert = [\n",
    "                post_label(val_label_tensor) for val_label_tensor in val_labels_list\n",
    "            ]\n",
    "            val_outputs_list = decollate_batch(val_outputs)\n",
    "            val_output_convert = [\n",
    "                post_pred(val_pred_tensor) for val_pred_tensor in val_outputs_list\n",
    "            ]\n",
    "            dice_metric(y_pred=val_output_convert, y=val_labels_convert)\n",
    "            dice_metric_batch(y_pred=val_output_convert, y=val_labels_convert)\n",
    "            epoch_iterator_val.set_description(\n",
    "                \"Validate (%d / %d Steps)\" % (global_step, 10.0)\n",
    "            )\n",
    "        mean_dice_val = dice_metric.aggregate().item()\n",
    "        metric_batch_val = dice_metric_batch.aggregate()\n",
    "\n",
    "        metric_tumor = metric_batch_val[0].item()\n",
    "        metric_lymph = metric_batch_val[1].item()\n",
    "\n",
    "        dice_metric.reset()\n",
    "        dice_metric_batch.reset()\n",
    "    return mean_dice_val, metric_tumor, metric_lymph\n",
    "\n",
    "\n",
    "def train(global_step, train_loader, dice_val_best, global_step_best):\n",
    "    model.train()\n",
    "    epoch_loss = 0\n",
    "    step = 0\n",
    "    epoch_iterator = tqdm(\n",
    "        train_loader, desc=\"Training (X / X Steps) (loss=X.X)\", dynamic_ncols=True\n",
    "    )\n",
    "    for step, batch in enumerate(epoch_iterator):\n",
    "        step += 1\n",
    "        x, y = (batch[\"ctpt\"].cuda(), batch[\"seg\"].cuda())\n",
    "        logit_map = model(x)\n",
    "        loss = loss_function(logit_map, y)\n",
    "        loss.backward()\n",
    "        epoch_loss += loss.item()\n",
    "        optimizer.step()\n",
    "        optimizer.zero_grad()\n",
    "        epoch_iterator.set_description(\n",
    "            \"Training (%d / %d Steps) (loss=%2.5f)\"\n",
    "            % (global_step, max_iterations, loss)\n",
    "        )\n",
    "        if (\n",
    "            global_step % eval_num == 0 and global_step != 0\n",
    "        ) or global_step == max_iterations:\n",
    "            epoch_iterator_val = tqdm(\n",
    "                val_loader, desc=\"Validate (X / X Steps) (dice=X.X)\", dynamic_ncols=True\n",
    "            )\n",
    "            dice_val, metric_tumor, metric_lymph = validation(epoch_iterator_val)\n",
    "            epoch_loss /= step\n",
    "            epoch_loss_values.append(epoch_loss)\n",
    "            metric_values.append(dice_val)\n",
    "            metric_values_tumor.append(metric_tumor)\n",
    "            metric_values_lymph.append(metric_lymph)\n",
    "            if dice_val > dice_val_best:\n",
    "                dice_val_best = dice_val\n",
    "                global_step_best = global_step\n",
    "                torch.save(\n",
    "                    model.state_dict(), os.path.join(model_dir, \"best_metric_segresnet.pth\")\n",
    "                )\n",
    "                print(\n",
    "                    \"Model Was Saved ! Current Best Avg. Dice: {} Current Avg. Dice: {} Current Avg. tumor Dice: {} Current Avg. lymph Dice: {}\".format(\n",
    "                        dice_val_best, dice_val, metric_tumor, metric_lymph\n",
    "                    )\n",
    "                )\n",
    "            else:\n",
    "                print(\n",
    "                    \"Model Was Not Saved ! Current Best Avg. Dice: {} Current Avg. Dice: {} Current Avg. tumor Dice: {} Current Avg. lymph Dice: {}\".format(\n",
    "                        dice_val_best, dice_val,  metric_tumor, metric_lymph\n",
    "                    )\n",
    "                )\n",
    "        global_step += 1\n",
    "    return global_step, dice_val_best, global_step_best\n",
    "\n",
    "\n",
    "max_iterations = 18000\n",
    "eval_num = 100\n",
    "\n",
    "post_label = AsDiscrete(to_onehot=3)\n",
    "post_pred = AsDiscrete(argmax=True, to_onehot=3)\n",
    "\n",
    "dice_metric = DiceMetric(include_background=False, reduction=\"mean\", get_not_nans=False)\n",
    "dice_metric_batch = DiceMetric(include_background=False, reduction=\"mean_batch\")\n",
    "\n",
    "epoch = 0\n",
    "max_num_epochs = 530\n",
    "\n",
    "global_step = 0\n",
    "dice_val_best = 0.0\n",
    "global_step_best = 0\n",
    "epoch_loss_values = []\n",
    "metric_values = []\n",
    "metric_values_tumor = []\n",
    "metric_values_lymph = []\n",
    "while global_step < max_iterations:\n",
    "    global_step, dice_val_best, global_step_best = train(\n",
    "        global_step, train_loader, dice_val_best, global_step_best\n",
    "    )\n",
    "    # wandb.log({'learning_rate': optimizer.param_groups[0]['lr']})\n",
    "    # wandb.log({'Best Dice': dice_val_best})\n",
    "    epoch += 1\n",
    "    #optimizer.param_groups[0]['lr'] = poly_lr(epoch, max_num_epochs, 0.005676 , 0.9)\n",
    "# model.load_state_dict(torch.load(os.path.join(model_dir, \"best_metric_luck_UNETr_prompt.pth\")))"
   ]
  },
  {
   "cell_type": "code",
   "execution_count": 22,
   "metadata": {},
   "outputs": [],
   "source": [
    "# # Load and process the ground truth\n",
    "# gt_path = 'data/HMR-020/HMR-020_gt.nii.gz'\n",
    "# ct_path = 'data/HMR-020/HMR-020_ct.nii.gz'\n",
    "# pt_path = 'data/HMR-020/HMR-020_pt.nii.gz'\n",
    "# # gt_loader = LoadImage(ensure_channel_first=True)\n",
    "# # gt_data = gt_loader(gt_path)\n",
    "# # gt_data = Orientation(axcodes='RAS')(gt_data[0])\n",
    "\n",
    "# # Load and process the CT scan\n",
    "# # ct_loader = LoadImage(ensure_channel_first=True)\n",
    "# # ct_data = ct_loader(ct_path)\n",
    "# # ct_data = Orientation(axcodes='RAS')(ct_data[0])\n",
    "# # ct_data = torch.clip(ct_data, min=-1000, max=600)\n",
    "# # # apply train_transforms to ct_data\n",
    "# data = val_transforms({'ct': ct_path, 'seg': gt_path})\n",
    "# # data = train_transforms({'ct': ct_path, 'seg': gt_path})[0]\n",
    "\n",
    "# ct_data = data['ct']\n",
    "# gt_data = data['seg']\n",
    "\n",
    "# slice_num = 310-196\n",
    "# plt.imshow(gt_data[:,:,:,slice_num][0], cmap='gray')\n",
    "# plt.show()\n",
    "# plt.imshow(ct_data[:,:,:, slice_num][0], cmap='gray')\n",
    "# plt.show()\n",
    "# gt_data.shape, ct_data.shape"
   ]
  },
  {
   "cell_type": "code",
   "execution_count": 21,
   "metadata": {},
   "outputs": [],
   "source": [
    "# # Load the trained model\n",
    "# model_path = '/home/nada.saadi/MIS-FM/hecktor2022_cropped/files/best_metric_unetr.pth'\n",
    "# model = SwinUNETR(\n",
    "#     img_size=(96, 96, 96),\n",
    "#     in_channels=2,\n",
    "#     out_channels=3,\n",
    "#     depths=(2, 2, 2, 2),\n",
    "#     num_heads=(3, 6, 12, 24),\n",
    "#     feature_size=24,\n",
    "#     norm_name=\"instance\",\n",
    "#     drop_rate=0.0,\n",
    "#     attn_drop_rate=0.0,\n",
    "#     dropout_path_rate=0.0,\n",
    "#     normalize=True,\n",
    "#     use_checkpoint=False,\n",
    "#     spatial_dims=3,\n",
    "#     downsample=\"merging\"\n",
    "# )\n",
    "# model.load_state_dict(torch.load(model_path))\n",
    "# model.eval()\n",
    "# model.cuda()"
   ]
  },
  {
   "cell_type": "code",
   "execution_count": null,
   "metadata": {},
   "outputs": [],
   "source": []
  },
  {
   "cell_type": "code",
   "execution_count": null,
   "metadata": {},
   "outputs": [],
   "source": [
    "check_path = \"/home/nada.saadi/MIS-FM/hecktor2022_cropped/best_metric_swinmodel_s111_in176_DiceCE_AdamW_lr_1e-4_b4.pth\"\n",
    "output_dir = '/home/nada.saadi/MIS-FM/hecktor2022_cropped/APredictions-unetr'\n"
   ]
  },
  {
   "cell_type": "code",
   "execution_count": null,
   "metadata": {},
   "outputs": [],
   "source": [
    "check_path = \"/home/nada.saadi/MIS-FM/hecktor2022_cropped/best_metric_swinmodel_s111_in176_DiceCE_AdamW_lr_1e-4_b4.pth\"\n",
    "output_dir = '/home/nada.saadi/MIS-FM/hecktor2022_cropped/APredictions-unetr'\n",
    "\n",
    "# Load the model\n",
    "model = SwinUNETR(img_size=(96, 96, 96),\n",
    "                  in_channels=2,\n",
    "                  out_channels=3,\n",
    "                  depths=(2, 2, 2, 2),\n",
    "                  num_heads=(3, 6, 12, 24),\n",
    "                  feature_size=24,\n",
    "                  norm_name=\"instance\",\n",
    "                  drop_rate=0.0,\n",
    "                  attn_drop_rate=0.0,\n",
    "                  dropout_path_rate=0.0,\n",
    "                  normalize=True,\n",
    "                  use_checkpoint=False,\n",
    "                  spatial_dims=3,\n",
    "                  downsample=\"merging\").to(device)\n",
    "\n",
    "model.load_state_dict(torch.load(check_path))\n",
    "model.eval()\n",
    "\n",
    "# Rest of the code...\n",
    "val_transforms = Compose([\n",
    "    LoadImaged(keys=[\"ct\", \"pt\", \"seg\"], ensure_channel_first=True),\n",
    "    SpatialPadd(keys=[\"ct\", \"pt\", \"seg\"], spatial_size=(200, 200, 310), method='end'),\n",
    "    Orientationd(keys=[\"ct\", \"pt\", \"seg\"], axcodes=\"PLS\"),\n",
    "    ClipCT(keys=[\"ct\"]),\n",
    "    MulPTFM(keys=[\"ct\", \"pt\"]),\n",
    "    ScaleIntensityd(keys=[\"ct\"], minv=0, maxv=1),\n",
    "    ConcatItemsd(keys=[\"pt\", \"ct\"], name=\"ctpt\"),\n",
    "    NormalizeIntensityd(keys=[\"ctpt\"], channel_wise=True),\n",
    "    RandFlipd(\n",
    "        keys=[\"ctpt\"],\n",
    "        spatial_axis=[2],\n",
    "        prob=1,\n",
    "    ),\n",
    "])\n",
    "\n",
    "files_ds = monai.data.Dataset(data=validation_files, transform=val_transforms)\n",
    "print(\"Total validation cases:\", len(files_ds))\n",
    "\n",
    "val_loader = DataLoader(files_ds, batch_size=1, num_workers=4)\n",
    "\n",
    "post_label = AsDiscrete(to_onehot=3)\n",
    "post_pred = Compose([\n",
    "    Invertd(\n",
    "        keys=\"pred\",\n",
    "        transform=val_transforms,\n",
    "        orig_keys=\"ctpt\",\n",
    "        nearest_interp=False,\n",
    "        to_tensor=True,\n",
    "    ),\n",
    "])\n",
    "\n",
    "dice_metric = DiceMetric(include_background=False, reduction=\"mean\", get_not_nans=False)\n",
    "dice_metric_batch = DiceMetric(include_background=False, reduction=\"mean_batch\")\n",
    "\n",
    "model = SegResNet(in_channels=2, out_channels=3, init_filters=16).to(device)\n",
    "\n",
    "model.load_state_dict(torch.load(check_path))\n",
    "model.eval()\n",
    "\n",
    "with torch.no_grad():\n",
    "    for i, batch in enumerate(val_loader):\n",
    "        pat_id = batch['id'][0].split('/')[-1]\n",
    "        roi_size = (96, 96, 96)\n",
    "        sw_batch_size = 4\n",
    "        val_inputs = (batch[\"ctpt\"].cuda())\n",
    "        sliding_window_inference(\n",
    "            val_inputs, roi_size, sw_batch_size, overlap=0.25, predictor=model\n",
    "        )\n",
    "\n",
    "        val_outputs_list = decollate_batch(batch)\n",
    "        val_output_convert = [\n",
    "            post_pred(val_pred_tensor) for val_pred_tensor in val_outputs_list\n",
    "        ]\n",
    "\n",
    "\n",
    "        preds = torch.argmax(val_output_convert[0]['pred'] , dim=0)\n",
    "        SaveImage(output_dir=output_dir, resample=False, separate_folder=False, output_postfix='seg')(preds),        \n",
    "        val_inputs, roi_size, sw_batch_size, overlap=0.25, predictor=model,\n",
    "        \n",
    "\n",
    "        val_outputs_list = decollate_batch(batch)\n",
    "        val_output_convert = [\n",
    "            post_pred(val_pred_tensor) for val_pred_tensor in val_outputs_list\n",
    "        ]\n",
    "\n",
    "        preds = torch.argmax(val_output_convert[0]['pred'], dim=0)\n"
   ]
  },
  {
   "cell_type": "code",
   "execution_count": null,
   "metadata": {},
   "outputs": [],
   "source": []
  },
  {
   "cell_type": "markdown",
   "metadata": {},
   "source": [
    "#### The one below was wrong. Somehow"
   ]
  },
  {
   "cell_type": "code",
   "execution_count": null,
   "metadata": {},
   "outputs": [],
   "source": [
    "metric_dictionary = {}\n",
    "metric_dictionary['id'] = []\n",
    "metric_dictionary['dice'] = []\n",
    "metric_dictionary['dice_t'] = []\n",
    "metric_dictionary['dice_n'] = []\n",
    "pred_list = []\n",
    "label_list = []"
   ]
  },
  {
   "cell_type": "code",
   "execution_count": null,
   "metadata": {},
   "outputs": [],
   "source": [
    "val_transforms = Compose(\n",
    "    [\n",
    "        LoadImaged(keys=[\"ct\", \"pt\", \"seg\"], ensure_channel_first = True),\n",
    "        SpatialPadd(keys=[\"ct\", \"pt\", \"seg\"], spatial_size=(200, 200, 310), method='end'),\n",
    "        Orientationd(keys=[\"ct\", \"pt\", \"seg\"], axcodes=\"PLS\"),\n",
    "        ClipCT(keys=[\"ct\"]),\n",
    "        MulPTFM(keys=[\"ct\",\"pt\"]),\n",
    "        ScaleIntensityd(keys=[\"ct\"], minv=0, maxv=1),\n",
    "        #MulPTFM(keys=[\"ct\",\"pt\"]),\n",
    "        ConcatItemsd(keys=[\"pt\", \"ct\"], name=\"ctpt\"),\n",
    "        NormalizeIntensityd(keys=[\"ctpt\"], channel_wise=True),\n",
    "        RandFlipd(\n",
    "            keys=[\"ctpt\"],\n",
    "            spatial_axis=[2],\n",
    "            prob=1,\n",
    "        ),\n",
    "    ]\n",
    ")\n",
    "# val_transforms = Compose(\n",
    "#     [\n",
    "#         LoadImaged(keys=[\"ct\", \"pt\",], ensure_channel_first = True),\n",
    "#         ClipCT(keys=[\"ct\", \"pt\"]),\n",
    "#         MulPTFM(keys=[\"ct\",\"pt\"]),\n",
    "#         ConcatItemsd(keys=[\"pt\", \"ct\"], name=\"ctpt\"),\n",
    "#         Orientationd(keys=[\"ctpt\"], axcodes=\"PLS\"),\n",
    "#         SpatialPadd(keys=[\"ctpt\"], spatial_size=(176,176,176), method='end'),\n",
    "#         NormalizeIntensityd(keys=[\"ctpt\"], channel_wise=True),\n",
    "#         RandFlipd(\n",
    "#             keys=[\"ctpt\"],\n",
    "#             spatial_axis=[2],\n",
    "#             prob=1,\n",
    "#         ),\n",
    "#     ]\n",
    "# )\n",
    "\n",
    "files_ds = monai.data.Dataset(data=validation_files, transform=val_transforms)\n",
    "print(\"Total validation cases:\", len(files_ds))\n",
    "\n",
    "val_loader = DataLoader(files_ds, batch_size=1, num_workers=4)\n",
    "\n",
    "output_dir = '/home/ikboljonsobirov/hecktor/fusion_vit/fusion_vit_project/inference/'\n",
    "\n",
    "# post_label = AsDiscrete(to_onehot=3)\n",
    "post_label = AsDiscrete(to_onehot=3)\n",
    "post_pred = Compose([\n",
    "    Invertd(\n",
    "            keys=\"pred\",  # invert the `pred` data field, also support multiple fields\n",
    "            transform=val_transforms,\n",
    "            orig_keys=\"ctpt\",  # get the previously applied pre_transforms information on the `img` data field,\n",
    "                              # then invert `pred` based on this information. we can use same info\n",
    "                              # for multiple fields, also support different orig_keys for different fields\n",
    "            nearest_interp=False,  # don't change the interpolation mode to \"nearest\" when inverting transforms\n",
    "                                   # to ensure a smooth output, then execute `AsDiscreted` transform\n",
    "            to_tensor=True,  # convert to PyTorch Tensor after inverting\n",
    "        ),\n",
    "    # AsDiscreted(keys=\"pred\", argmax=True, to_onehot=3)\n",
    "    ])\n",
    "\n",
    "dice_metric = DiceMetric(include_background=False, reduction=\"mean\", get_not_nans=False)\n",
    "dice_metric_batch = DiceMetric(include_background=False, reduction=\"mean_batch\")\n",
    "\n",
    "\n",
    "model = SegResNet(in_channels=2, \n",
    "                  out_channels=3, \n",
    "                  init_filters=16).to(device)\n",
    "\n",
    "\n",
    "model.load_state_dict(torch.load(check_path))\n",
    "model.eval()\n",
    "with torch.no_grad():\n",
    "    for i, batch in enumerate(val_loader):\n",
    "\n",
    "        pat_id = batch['id'][0].split('/')[-1]\n",
    "        roi_size = (96, 96, 96)\n",
    "        sw_batch_size = 4\n",
    "\n",
    "        val_inputs, val_labels = (batch[\"ctpt\"].cuda(), batch[\"seg\"].cuda())\n",
    "        \n",
    "        batch[\"pred\"] = sliding_window_inference(\n",
    "            val_inputs, roi_size, sw_batch_size, overlap=0.25,  predictor=model\n",
    "        )\n",
    "\n",
    "        val_labels_list = decollate_batch(val_labels)\n",
    "        val_labels_convert = [\n",
    "                post_label(val_label_tensor) for val_label_tensor in val_labels_list\n",
    "            ]\n",
    "\n",
    "        val_outputs_list = decollate_batch(batch)\n",
    "        val_output_convert = [\n",
    "            post_pred(val_pred_tensor) for val_pred_tensor in val_outputs_list\n",
    "        ]\n",
    "\n",
    "        val_output_convert_pred = [pred['pred'] for pred in val_output_convert]\n",
    "\n",
    "        dice_metric(y_pred=val_output_convert_pred, y=val_labels_convert)\n",
    "        dice_metric_batch(y_pred=val_output_convert_pred, y=val_labels_convert)\n",
    "\n",
    "        mean_dice_val = dice_metric.aggregate().item()\n",
    "        metric_batch_val = dice_metric_batch.aggregate()\n",
    "\n",
    "        metric_tumor = metric_batch_val[0].item()\n",
    "        metric_lymph = metric_batch_val[1].item()\n",
    "\n",
    "        dice_metric.reset()\n",
    "        dice_metric_batch.reset()\n",
    "\n",
    "        print(\"Processing: \", pat_id, \" Dice: \", mean_dice_val)\n",
    "\n",
    "        metric_dictionary['id'].append(pat_id)\n",
    "        metric_dictionary['dice'].append(mean_dice_val)\n",
    "        metric_dictionary['dice_t'].append(metric_tumor)\n",
    "        metric_dictionary['dice_n'].append(metric_lymph)\n",
    "\n",
    "        \n",
    "        preds = torch.argmax(val_output_convert[0]['pred'] , dim=0)\n",
    "        monai.transforms.SaveImage(output_dir=output_dir, resample=False, separate_folder=False, output_postfix='seg')(preds)"
   ]
  },
  {
   "cell_type": "code",
   "execution_count": null,
   "metadata": {},
   "outputs": [],
   "source": [
    "np.mean(metric_dictionary['dice']), np.mean(metric_dictionary['dice_t']), np.mean(metric_dictionary['dice_n'])"
   ]
  },
  {
   "cell_type": "code",
   "execution_count": null,
   "metadata": {},
   "outputs": [],
   "source": [
    "import torch\n",
    "import numpy as np"
   ]
  },
  {
   "cell_type": "code",
   "execution_count": null,
   "metadata": {},
   "outputs": [],
   "source": [
    "a = 709.0\n",
    "b = -745.0"
   ]
  },
  {
   "cell_type": "code",
   "execution_count": null,
   "metadata": {},
   "outputs": [],
   "source": [
    "a = np.float64(a)\n",
    "b = np.float64(b)\n"
   ]
  },
  {
   "cell_type": "code",
   "execution_count": null,
   "metadata": {},
   "outputs": [],
   "source": [
    "a = torch.tensor(a)\n",
    "b = torch.tensor(b)"
   ]
  },
  {
   "cell_type": "code",
   "execution_count": null,
   "metadata": {},
   "outputs": [],
   "source": [
    "torch.exp(a), torch.exp(b)"
   ]
  },
  {
   "cell_type": "code",
   "execution_count": null,
   "metadata": {},
   "outputs": [],
   "source": []
  }
 ],
 "metadata": {
  "kernelspec": {
   "display_name": "sega",
   "language": "python",
   "name": "python3"
  },
  "language_info": {
   "codemirror_mode": {
    "name": "ipython",
    "version": 3
   },
   "file_extension": ".py",
   "mimetype": "text/x-python",
   "name": "python",
   "nbconvert_exporter": "python",
   "pygments_lexer": "ipython3",
   "version": "3.8.0"
  },
  "orig_nbformat": 4
 },
 "nbformat": 4,
 "nbformat_minor": 2
}
