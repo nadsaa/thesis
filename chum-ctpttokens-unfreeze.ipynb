{
 "cells": [
  {
   "cell_type": "code",
   "execution_count": 1,
   "metadata": {},
   "outputs": [
    {
     "name": "stdout",
     "output_type": "stream",
     "text": [
      "1\n"
     ]
    },
    {
     "name": "stderr",
     "output_type": "stream",
     "text": [
      "/tmp/ipykernel_2624869/3390658602.py:9: TqdmWarning: IProgress not found. Please update jupyter and ipywidgets. See https://ipywidgets.readthedocs.io/en/stable/user_install.html\n",
      "  from tqdm.autonotebook import tqdm\n"
     ]
    }
   ],
   "source": [
    "import torch\n",
    "import torch.nn as nn\n",
    "from torch.utils.data import DataLoader\n",
    "from collections.abc import Sequence\n",
    "\n",
    "from unetr import CustomedUNETR\n",
    "\n",
    "import json\n",
    "from tqdm.autonotebook import tqdm\n",
    "import os\n",
    "os.environ[\"CUDA_DEVICE_ORDER\"] = \"PCI_BUS_ID\"\n",
    "os.environ[\"CUDA_VISIBLE_DEVICES\"] = \"6\" \n",
    "\n",
    "print(torch.cuda.device_count())\n",
    "torch.backends.cudnn.benchmark = True\n",
    "device = torch.device(\"cuda\" if torch.cuda.is_available() else \"cpu\")"
   ]
  },
  {
   "cell_type": "code",
   "execution_count": 2,
   "metadata": {},
   "outputs": [],
   "source": [
    "from monai.transforms import EnsureTyped\n",
    "from monai.transforms import Compose, LoadImaged, ScaleIntensityRanged, ConcatItemsd\n",
    "from monai.metrics import DiceMetric\n",
    "from monai.losses import DiceCELoss, DiceFocalLoss, FocalLoss\n",
    "from monai.inferers import sliding_window_inference\n",
    "\n",
    "\n",
    "from monai.data import (\n",
    "    Dataset,\n",
    "    DataLoader,\n",
    "    CacheDataset,\n",
    "    load_decathlon_datalist,\n",
    "    decollate_batch,\n",
    ")\n",
    "\n",
    "\n",
    "from monai.transforms import (\n",
    "    AsDiscrete,\n",
    "    Compose,\n",
    "    CropForegroundd,\n",
    "    LoadImaged,\n",
    "    Orientationd,\n",
    "    RandFlipd,\n",
    "    RandCropByPosNegLabeld,\n",
    "    RandShiftIntensityd,\n",
    "    ScaleIntensityRanged,\n",
    "    Spacingd,\n",
    "    RandRotate90d,\n",
    "    MapTransform,\n",
    "    ScaleIntensityd,\n",
    "    #AddChanneld,\n",
    "    SpatialPadd,\n",
    "    CenterSpatialCropd,\n",
    "    EnsureChannelFirstd,\n",
    "    ConcatItemsd,\n",
    "    AdjustContrastd, \n",
    "    Rand3DElasticd,\n",
    "    HistogramNormalized,\n",
    "    NormalizeIntensityd,\n",
    "    Invertd,\n",
    "    SaveImage,\n",
    "\n",
    ")\n"
   ]
  },
  {
   "cell_type": "code",
   "execution_count": 3,
   "metadata": {},
   "outputs": [],
   "source": [
    "data_dir = '/home/nada.saadi/MIS-FM/hecktor2022_cropped'\n",
    "json_dir = '/home/nada.saadi/MIS-FM/hecktor2022_cropped/CHUM_CTPT_TRAIN.json'"
   ]
  },
  {
   "cell_type": "code",
   "execution_count": 4,
   "metadata": {},
   "outputs": [
    {
     "name": "stdout",
     "output_type": "stream",
     "text": [
      "41 15\n"
     ]
    }
   ],
   "source": [
    "def datafold_read(datalist, basedir, fold=0, key=\"training\"):\n",
    "    with open(datalist) as f:\n",
    "        json_data = json.load(f)\n",
    "\n",
    "    json_data = json_data[key]\n",
    "\n",
    "    for d in json_data:\n",
    "        for k in d:\n",
    "            if isinstance(d[k], list):\n",
    "                d[k] = [os.path.join(basedir, iv) for iv in d[k]]\n",
    "            elif isinstance(d[k], str):\n",
    "                d[k] = os.path.join(basedir, d[k]) if len(d[k]) > 0 else d[k]\n",
    "\n",
    "    tr = []\n",
    "    val = []\n",
    "    for d in json_data:\n",
    "        if \"fold\" in d and d[\"fold\"] == fold:\n",
    "            val.append(d)\n",
    "        else:\n",
    "            tr.append(d)\n",
    "\n",
    "    return tr, val\n",
    "\n",
    "\n",
    "train_data, valid_data = datafold_read(datalist=json_dir, basedir=data_dir, fold=0)\n",
    "print(len(train_data), len(valid_data))"
   ]
  },
  {
   "cell_type": "code",
   "execution_count": 5,
   "metadata": {},
   "outputs": [],
   "source": [
    "num_samples = 1\n",
    "\n",
    "class ClipCT(MapTransform):\n",
    "    \"\"\"\n",
    "    Convert labels to multi channels based on hecktor classes:\n",
    "    label 1 is the tumor\n",
    "    label 2 is the lymph node\n",
    "\n",
    "    \"\"\"\n",
    "\n",
    "    def __call__(self, data):\n",
    "        d = dict(data)\n",
    "        for key in self.keys:\n",
    "            if key == \"ct\":\n",
    "                d[key] = torch.clip(d[key], min=-200, max=200)\n",
    "            # elif key == \"pt\":\n",
    "            #     d[key] = torch.clip(d[key], d[key].min(), 5)\n",
    "        return d\n",
    "\n",
    "train_transforms = Compose(\n",
    "    [\n",
    "        LoadImaged(keys=[\"ct\", \"pt\", \"seg\"], ensure_channel_first=True),\n",
    "        SpatialPadd(keys=[\"ct\", \"pt\", \"seg\"], spatial_size=(200, 200, 310), method='end'),\n",
    "        Orientationd(keys=[\"ct\", \"pt\", \"seg\"], axcodes=\"PLS\"),\n",
    "        NormalizeIntensityd(keys=[\"pt\"]),\n",
    "        ClipCT(keys=[\"ct\"]),\n",
    "        ScaleIntensityd(keys=[\"ct\"], minv=0, maxv=1),\n",
    "        ConcatItemsd(keys=[\"pt\", \"ct\"], name=\"ctpt\"),  # Concatenate CT and PET\n",
    "        RandCropByPosNegLabeld(\n",
    "            keys=[\"ctpt\", \"seg\"],\n",
    "            label_key=\"seg\",\n",
    "            spatial_size=(96, 96, 96),\n",
    "            pos=1,\n",
    "            neg=1,\n",
    "            num_samples=num_samples,\n",
    "            image_key=\"ctpt\",\n",
    "            image_threshold=0,\n",
    "        ),\n",
    "        RandFlipd(keys=[\"ctpt\", \"seg\"], spatial_axis=[0], prob=0.20),\n",
    "        RandFlipd(keys=[\"ctpt\", \"seg\"], spatial_axis=[1], prob=0.20),\n",
    "        RandFlipd(keys=[\"ctpt\", \"seg\"], spatial_axis=[2], prob=0.20),\n",
    "        RandRotate90d(keys=[\"ctpt\", \"seg\"], prob=0.20, max_k=3),\n",
    "        EnsureTyped(keys=[\"ctpt\", \"seg\"]),\n",
    "    \n",
    "    ]\n",
    ")\n",
    "\n",
    "val_transforms = Compose(\n",
    "    [\n",
    "        LoadImaged(keys=[\"ct\", \"pt\", \"seg\"], ensure_channel_first=True),\n",
    "        SpatialPadd(keys=[\"ct\", \"pt\", \"seg\"], spatial_size=(200, 200, 310), method='end'),\n",
    "        Orientationd(keys=[\"ct\", \"pt\", \"seg\"], axcodes=\"PLS\"),\n",
    "        NormalizeIntensityd(keys=[\"pt\"]),\n",
    "        ClipCT(keys=[\"ct\"]),\n",
    "        ScaleIntensityd(keys=[\"ct\"], minv=0, maxv=1),\n",
    "        ConcatItemsd(keys=[\"pt\", \"ct\"], name=\"ctpt\"),# Concatenate CT and PET\n",
    "        EnsureTyped(keys=[\"ctpt\", \"seg\"]),\n",
    "    ]\n",
    ")\n",
    "\n",
    "\n",
    "##----------\n",
    "\n",
    "def create_dataloader(data, transforms, batch_size=2, shuffle=True):\n",
    "    # Create CacheDataset with the reformatted data\n",
    "    dataset = Dataset(data=data, transform=transforms)\n",
    "\n",
    "    # Create DataLoader\n",
    "    return DataLoader(dataset, batch_size=batch_size, shuffle=shuffle, num_workers=8)\n",
    "\n",
    "\n",
    "\n",
    "train_loader = create_dataloader(train_data, train_transforms, shuffle=True)\n",
    "val_loader = create_dataloader(valid_data, val_transforms, shuffle=False)"
   ]
  },
  {
   "cell_type": "code",
   "execution_count": 6,
   "metadata": {},
   "outputs": [
    {
     "name": "stdout",
     "output_type": "stream",
     "text": [
      "Nada's version of UNETR\n",
      "(96, 96, 96)\n",
      "(16, 16, 16)\n",
      "(6, 6, 6)\n",
      "768\n"
     ]
    },
    {
     "name": "stderr",
     "output_type": "stream",
     "text": [
      "/home/nada.saadi/miniconda3/envs/clam/lib/python3.8/site-packages/monai/utils/deprecate_utils.py:221: FutureWarning: unetr CustomedUNETR.__init__:pos_embed: Argument `pos_embed` has been deprecated since version 1.2. It will be removed in version 1.4. please use `proj_type` instead.\n",
      "  warn_deprecated(argname, msg, warning_category)\n"
     ]
    }
   ],
   "source": [
    "model = CustomedUNETR(\n",
    "    in_channels=2,  # Number of input channels\n",
    "    out_channels=3,  # Number of output channels\n",
    "    img_size=(96, 96, 96),  # Size of the input image\n",
    "    feature_size=48,  # Size of the feature maps\n",
    "    hidden_size=768,\n",
    "    num_heads = 12,# Size of the hidden layers in the transformer\n",
    "    mlp_dim=3072,  # Dimension of the MLP in the transformer\n",
    "    pos_embed=\"perceptron\",  # Type of positional embedding\n",
    "    norm_name=\"instance\",  # Type of normalization\n",
    "    res_block=True,  # Whether to use residual blocks\n",
    "    dropout_rate=0.0,\n",
    "    proj_type= \"conv\",\n",
    ").to(device)"
   ]
  },
  {
   "cell_type": "code",
   "execution_count": 7,
   "metadata": {},
   "outputs": [],
   "source": [
    "def poly_lr(epoch, max_epochs, initial_lr, exponent=0.9):\n",
    "    return initial_lr * (1 - epoch / max_epochs)**exponent\n",
    "\n",
    "model_dir='/home/nada.saadi/CTPET/hecktor2022_cropped/CHUM-CTPT-CT-FIRSTHALF'\n",
    "\n",
    "max_iterations = 18000\n",
    "eval_num = 100\n",
    "\n",
    "## running stats\n",
    "global_step = 0\n",
    "dice_val_best = 0.0\n",
    "global_step_best = 0\n",
    "epoch_loss_values = []\n",
    "metric_values = []\n",
    "metric_values_tumor = []\n",
    "metric_values_lymph = []\n",
    "\n",
    "\n",
    "loss_function = DiceCELoss(to_onehot_y=True, softmax=True)\n",
    "optimizer = torch.optim.AdamW(model.parameters(), lr=1e-4, weight_decay=1e-5)\n",
    "\n",
    "\n",
    "post_label = AsDiscrete(to_onehot=3)\n",
    "post_pred = AsDiscrete(argmax=True, to_onehot=3)\n",
    "\n",
    "dice_metric = DiceMetric(include_background=False, reduction=\"mean\", get_not_nans=False)\n",
    "dice_metric_batch = DiceMetric(include_background=False, reduction=\"mean_batch\")\n",
    "\n",
    "\n",
    "##-----------------------------------------------------------------------------\n",
    "\n",
    "def validation(epoch_iterator_val):\n",
    "        model.eval()\n",
    "        with torch.no_grad():\n",
    "            for step, batch in enumerate(epoch_iterator_val):\n",
    "                val_inputs, val_labels = (batch[\"ctpt\"].cuda(), batch[\"seg\"].cuda())\n",
    "                val_outputs = sliding_window_inference(val_inputs, (96, 96, 96), 4, model)\n",
    "                val_labels_list = decollate_batch(val_labels)\n",
    "                val_labels_convert = [\n",
    "                    post_label(val_label_tensor) for val_label_tensor in val_labels_list\n",
    "                ]\n",
    "                val_outputs_list = decollate_batch(val_outputs)\n",
    "                val_output_convert = [\n",
    "                    post_pred(val_pred_tensor) for val_pred_tensor in val_outputs_list\n",
    "                ]\n",
    "                dice_metric(y_pred=val_output_convert, y=val_labels_convert)\n",
    "                dice_metric_batch(y_pred=val_output_convert, y=val_labels_convert)\n",
    "                epoch_iterator_val.set_description(\n",
    "                    \"Validate (%d / %d Steps)\" % (global_step, 10.0)\n",
    "                )\n",
    "            mean_dice_val = dice_metric.aggregate().item()\n",
    "            metric_batch_val = dice_metric_batch.aggregate()\n",
    "\n",
    "            metric_tumor = metric_batch_val[0].item()\n",
    "            metric_lymph = metric_batch_val[1].item()\n",
    "\n",
    "            dice_metric.reset()\n",
    "            dice_metric_batch.reset()\n",
    "        return mean_dice_val, metric_tumor, metric_lymph\n",
    "\n",
    "\n",
    "\n",
    "def train(global_step, train_loader, dice_val_best, global_step_best):\n",
    "        model.train()\n",
    "        epoch_loss = 0\n",
    "        step = 0\n",
    "        epoch_iterator = tqdm(\n",
    "            train_loader, desc=\"Training (X / X Steps) (loss=X.X)\", dynamic_ncols=True\n",
    "        )\n",
    "        \n",
    "        for step, batch in enumerate(epoch_iterator):\n",
    "            step += 1\n",
    "            x, y = (batch[\"ctpt\"].cuda(), batch[\"seg\"].cuda())\n",
    "            logit_map = model(x, mode=\"ct\")\n",
    "            loss = loss_function(logit_map, y)\n",
    "            loss.backward()\n",
    "            epoch_loss += loss.item() \n",
    "            optimizer.step()\n",
    "            optimizer.zero_grad()\n",
    "            epoch_iterator.set_description(\n",
    "                \"Training (%d / %d Steps) (loss=%2.5f)\"\n",
    "                % (global_step, max_iterations, loss)\n",
    "            )\n",
    "            \n",
    "            if (\n",
    "                global_step % eval_num == 0 and global_step != 0\n",
    "            ) or global_step == max_iterations:\n",
    "                epoch_iterator_val = tqdm(\n",
    "                    val_loader, desc=\"Validate (X / X Steps) (dice=X.X)\", dynamic_ncols=True\n",
    "                )\n",
    "                dice_val, metric_tumor, metric_lymph = validation(epoch_iterator_val)\n",
    "                epoch_loss /= step\n",
    "                epoch_loss_values.append(epoch_loss)\n",
    "                metric_values.append(dice_val)\n",
    "                metric_values_tumor.append(metric_tumor)\n",
    "                metric_values_lymph.append(metric_lymph)\n",
    "                if dice_val > dice_val_best:\n",
    "                    dice_val_best = dice_val\n",
    "                    global_step_best = global_step\n",
    "                    torch.save(\n",
    "                        model.state_dict(), os.path.join(model_dir, \"/home/nada.saadi/CTPET/hecktor2022_cropped/CHUM-CTPT-CT-FIRSTHALF/CHUM-ctpt-firsthalf.pth\")\n",
    "                    )\n",
    "                    print(\n",
    "                        \"Model Was Saved ! Current Best Avg. Dice: {} Current Avg. Dice: {} Current Avg. tumor Dice: {} Current Avg. lymph Dice: {}\".format(\n",
    "                            dice_val_best, dice_val, metric_tumor, metric_lymph\n",
    "                        )\n",
    "                    )\n",
    "                else:\n",
    "                    print(\n",
    "                        \"Model Was Not Saved ! Current Best Avg. Dice: {} Current Avg. Dice: {} Current Avg. tumor Dice: {} Current Avg. lymph Dice: {}\".format(\n",
    "                            dice_val_best, dice_val,  metric_tumor, metric_lymph\n",
    "                        )\n",
    "                    )\n",
    "            global_step += 1\n",
    "        return global_step, dice_val_best, global_step_best"
   ]
  },
  {
   "cell_type": "code",
   "execution_count": 8,
   "metadata": {},
   "outputs": [
    {
     "name": "stderr",
     "output_type": "stream",
     "text": [
      "Training (20 / 18000 Steps) (loss=1.16703): 100%|██████████| 21/21 [00:36<00:00,  1.72s/it]\n",
      "Training (41 / 18000 Steps) (loss=1.03200): 100%|██████████| 21/21 [00:23<00:00,  1.11s/it]\n",
      "Training (62 / 18000 Steps) (loss=0.96715): 100%|██████████| 21/21 [00:25<00:00,  1.20s/it]\n",
      "Training (83 / 18000 Steps) (loss=0.92259): 100%|██████████| 21/21 [00:20<00:00,  1.04it/s]\n",
      "Validate (84 / 10 Steps): 100%|██████████| 8/8 [00:40<00:00,  5.08s/it]:18<00:02,  1.67it/s]\n",
      "Training (100 / 18000 Steps) (loss=0.88760):  81%|████████  | 17/21 [01:00<00:55, 13.77s/it]"
     ]
    },
    {
     "name": "stdout",
     "output_type": "stream",
     "text": [
      "Model Was Saved ! Current Best Avg. Dice: 0.21871770918369293 Current Avg. Dice: 0.21871770918369293 Current Avg. tumor Dice: 0.374412477016449 Current Avg. lymph Dice: 0.007391142658889294\n"
     ]
    },
    {
     "name": "stderr",
     "output_type": "stream",
     "text": [
      "Training (104 / 18000 Steps) (loss=0.88326): 100%|██████████| 21/21 [01:03<00:00,  3.00s/it]\n",
      "Training (125 / 18000 Steps) (loss=0.86344): 100%|██████████| 21/21 [00:22<00:00,  1.05s/it]\n",
      "Training (146 / 18000 Steps) (loss=0.84791): 100%|██████████| 21/21 [00:21<00:00,  1.04s/it]\n",
      "Training (167 / 18000 Steps) (loss=0.82044): 100%|██████████| 21/21 [00:22<00:00,  1.07s/it]\n",
      "Training (188 / 18000 Steps) (loss=0.77865): 100%|██████████| 21/21 [00:19<00:00,  1.05it/s]\n",
      "Validate (189 / 10 Steps): 100%|██████████| 8/8 [00:36<00:00,  4.57s/it]17<00:15,  1.52s/it]\n",
      "Training (200 / 18000 Steps) (loss=0.77345):  57%|█████▋    | 12/21 [00:54<01:51, 12.36s/it]"
     ]
    },
    {
     "name": "stdout",
     "output_type": "stream",
     "text": [
      "Model Was Not Saved ! Current Best Avg. Dice: 0.21871770918369293 Current Avg. Dice: 0.2172471582889557 Current Avg. tumor Dice: 0.31979554891586304 Current Avg. lymph Dice: 0.09714622795581818\n"
     ]
    },
    {
     "name": "stderr",
     "output_type": "stream",
     "text": [
      "Training (209 / 18000 Steps) (loss=0.81323): 100%|██████████| 21/21 [00:58<00:00,  2.81s/it]\n",
      "Training (230 / 18000 Steps) (loss=0.76538): 100%|██████████| 21/21 [00:21<00:00,  1.02s/it]\n",
      "Training (251 / 18000 Steps) (loss=0.74151): 100%|██████████| 21/21 [00:23<00:00,  1.13s/it]\n",
      "Training (272 / 18000 Steps) (loss=0.76965): 100%|██████████| 21/21 [00:26<00:00,  1.28s/it]\n",
      "Training (293 / 18000 Steps) (loss=0.68411): 100%|██████████| 21/21 [00:19<00:00,  1.10it/s]\n",
      "Validate (294 / 10 Steps): 100%|██████████| 8/8 [00:37<00:00,  4.69s/it]0<00:13,  1.09it/s]\n",
      "Training (300 / 18000 Steps) (loss=0.74826):  33%|███▎      | 7/21 [00:48<03:07, 13.38s/it]"
     ]
    },
    {
     "name": "stdout",
     "output_type": "stream",
     "text": [
      "Model Was Saved ! Current Best Avg. Dice: 0.23004718124866486 Current Avg. Dice: 0.23004718124866486 Current Avg. tumor Dice: 0.3348715603351593 Current Avg. lymph Dice: 0.08246210962533951\n"
     ]
    },
    {
     "name": "stderr",
     "output_type": "stream",
     "text": [
      "Training (314 / 18000 Steps) (loss=0.77245): 100%|██████████| 21/21 [00:56<00:00,  2.69s/it]\n",
      "Training (335 / 18000 Steps) (loss=0.60642): 100%|██████████| 21/21 [00:23<00:00,  1.13s/it]\n",
      "Training (356 / 18000 Steps) (loss=0.61068): 100%|██████████| 21/21 [00:22<00:00,  1.08s/it]\n",
      "Training (377 / 18000 Steps) (loss=0.63696): 100%|██████████| 21/21 [00:24<00:00,  1.16s/it]\n",
      "Training (398 / 18000 Steps) (loss=0.74724): 100%|██████████| 21/21 [00:19<00:00,  1.05it/s]\n",
      "Validate (399 / 10 Steps): 100%|██████████| 8/8 [00:38<00:00,  4.75s/it]8<02:36,  7.82s/it]\n",
      "Training (400 / 18000 Steps) (loss=0.74265):  10%|▉         | 2/21 [00:46<08:13, 25.96s/it]"
     ]
    },
    {
     "name": "stdout",
     "output_type": "stream",
     "text": [
      "Model Was Not Saved ! Current Best Avg. Dice: 0.23004718124866486 Current Avg. Dice: 0.219127357006073 Current Avg. tumor Dice: 0.24392996728420258 Current Avg. lymph Dice: 0.20763392746448517\n"
     ]
    },
    {
     "name": "stderr",
     "output_type": "stream",
     "text": [
      "Training (419 / 18000 Steps) (loss=0.61750): 100%|██████████| 21/21 [00:57<00:00,  2.73s/it]\n",
      "Training (440 / 18000 Steps) (loss=0.67444): 100%|██████████| 21/21 [00:23<00:00,  1.14s/it]\n",
      "Training (461 / 18000 Steps) (loss=0.59772): 100%|██████████| 21/21 [00:23<00:00,  1.14s/it]\n",
      "Training (482 / 18000 Steps) (loss=0.72030): 100%|██████████| 21/21 [00:18<00:00,  1.16it/s]\n",
      "Validate (483 / 10 Steps): 100%|██████████| 8/8 [00:36<00:00,  4.52s/it]17<00:03,  1.27it/s]\n",
      "Training (500 / 18000 Steps) (loss=0.61092):  86%|████████▌ | 18/21 [00:54<00:34, 11.59s/it]"
     ]
    },
    {
     "name": "stdout",
     "output_type": "stream",
     "text": [
      "Model Was Not Saved ! Current Best Avg. Dice: 0.23004718124866486 Current Avg. Dice: 0.19738861918449402 Current Avg. tumor Dice: 0.16091492772102356 Current Avg. lymph Dice: 0.2505667805671692\n"
     ]
    },
    {
     "name": "stderr",
     "output_type": "stream",
     "text": [
      "Training (503 / 18000 Steps) (loss=0.76737): 100%|██████████| 21/21 [00:55<00:00,  2.65s/it]\n",
      "Training (524 / 18000 Steps) (loss=0.72588): 100%|██████████| 21/21 [00:24<00:00,  1.15s/it]\n",
      "Training (545 / 18000 Steps) (loss=0.71196): 100%|██████████| 21/21 [00:24<00:00,  1.18s/it]\n",
      "Training (566 / 18000 Steps) (loss=0.40035): 100%|██████████| 21/21 [00:27<00:00,  1.29s/it]\n",
      "Training (587 / 18000 Steps) (loss=0.67957): 100%|██████████| 21/21 [00:20<00:00,  1.04it/s]\n",
      "Validate (588 / 10 Steps): 100%|██████████| 8/8 [00:36<00:00,  4.58s/it]17<00:07,  1.16it/s]\n",
      "Training (600 / 18000 Steps) (loss=0.62468):  62%|██████▏   | 13/21 [00:55<01:37, 12.14s/it]"
     ]
    },
    {
     "name": "stdout",
     "output_type": "stream",
     "text": [
      "Model Was Saved ! Current Best Avg. Dice: 0.23497670888900757 Current Avg. Dice: 0.23497670888900757 Current Avg. tumor Dice: 0.2894463539123535 Current Avg. lymph Dice: 0.18378229439258575\n"
     ]
    },
    {
     "name": "stderr",
     "output_type": "stream",
     "text": [
      "Training (608 / 18000 Steps) (loss=0.62375): 100%|██████████| 21/21 [00:59<00:00,  2.82s/it]\n",
      "Training (629 / 18000 Steps) (loss=0.76854): 100%|██████████| 21/21 [00:24<00:00,  1.16s/it]\n",
      "Training (650 / 18000 Steps) (loss=0.69972): 100%|██████████| 21/21 [00:22<00:00,  1.08s/it]\n",
      "Training (671 / 18000 Steps) (loss=0.51047): 100%|██████████| 21/21 [00:26<00:00,  1.28s/it]\n",
      "Training (692 / 18000 Steps) (loss=0.69728): 100%|██████████| 21/21 [00:18<00:00,  1.11it/s]\n",
      "Validate (693 / 10 Steps): 100%|██████████| 8/8 [00:40<00:00,  5.01s/it]3<00:14,  1.01s/it]\n",
      "Training (700 / 18000 Steps) (loss=0.56176):  38%|███▊      | 8/21 [00:55<03:04, 14.16s/it]"
     ]
    },
    {
     "name": "stdout",
     "output_type": "stream",
     "text": [
      "Model Was Saved ! Current Best Avg. Dice: 0.33551204204559326 Current Avg. Dice: 0.33551204204559326 Current Avg. tumor Dice: 0.4219428300857544 Current Avg. lymph Dice: 0.2058088779449463\n"
     ]
    },
    {
     "name": "stderr",
     "output_type": "stream",
     "text": [
      "Training (713 / 18000 Steps) (loss=0.70408): 100%|██████████| 21/21 [01:03<00:00,  3.04s/it]\n",
      "Training (734 / 18000 Steps) (loss=0.69714): 100%|██████████| 21/21 [00:30<00:00,  1.43s/it]\n",
      "Training (755 / 18000 Steps) (loss=0.76045): 100%|██████████| 21/21 [00:28<00:00,  1.34s/it]\n",
      "Training (776 / 18000 Steps) (loss=0.69023): 100%|██████████| 21/21 [00:34<00:00,  1.64s/it]\n",
      "Training (797 / 18000 Steps) (loss=0.49201): 100%|██████████| 21/21 [00:25<00:00,  1.21s/it]\n",
      "Validate (798 / 10 Steps): 100%|██████████| 8/8 [00:37<00:00,  4.63s/it]8<01:03,  3.32s/it]\n",
      "Training (800 / 18000 Steps) (loss=0.64655):  14%|█▍        | 3/21 [00:46<05:53, 19.63s/it]"
     ]
    },
    {
     "name": "stdout",
     "output_type": "stream",
     "text": [
      "Model Was Saved ! Current Best Avg. Dice: 0.34861916303634644 Current Avg. Dice: 0.34861916303634644 Current Avg. tumor Dice: 0.4353879988193512 Current Avg. lymph Dice: 0.22128836810588837\n"
     ]
    },
    {
     "name": "stderr",
     "output_type": "stream",
     "text": [
      "Training (818 / 18000 Steps) (loss=0.44319): 100%|██████████| 21/21 [00:58<00:00,  2.78s/it]\n",
      "Training (839 / 18000 Steps) (loss=0.68749): 100%|██████████| 21/21 [00:31<00:00,  1.49s/it]\n",
      "Training (860 / 18000 Steps) (loss=0.75490): 100%|██████████| 21/21 [00:32<00:00,  1.53s/it]\n",
      "Training (881 / 18000 Steps) (loss=0.70891): 100%|██████████| 21/21 [00:30<00:00,  1.44s/it]\n",
      "Validate (882 / 10 Steps): 100%|██████████| 8/8 [00:35<00:00,  4.49s/it]24<00:02,  1.03it/s]\n",
      "Training (900 / 18000 Steps) (loss=0.63220):  90%|█████████ | 19/21 [01:02<00:24, 12.25s/it]"
     ]
    },
    {
     "name": "stdout",
     "output_type": "stream",
     "text": [
      "Model Was Saved ! Current Best Avg. Dice: 0.3833136260509491 Current Avg. Dice: 0.3833136260509491 Current Avg. tumor Dice: 0.3956226110458374 Current Avg. lymph Dice: 0.3516364097595215\n"
     ]
    },
    {
     "name": "stderr",
     "output_type": "stream",
     "text": [
      "Training (902 / 18000 Steps) (loss=0.51285): 100%|██████████| 21/21 [01:04<00:00,  3.05s/it]\n",
      "Training (923 / 18000 Steps) (loss=0.56974): 100%|██████████| 21/21 [00:31<00:00,  1.50s/it]\n",
      "Training (944 / 18000 Steps) (loss=0.69313): 100%|██████████| 21/21 [00:29<00:00,  1.40s/it]\n",
      "Training (965 / 18000 Steps) (loss=0.71306): 100%|██████████| 21/21 [00:29<00:00,  1.42s/it]\n",
      "Training (986 / 18000 Steps) (loss=0.68241): 100%|██████████| 21/21 [00:28<00:00,  1.38s/it]\n",
      "Validate (987 / 10 Steps): 100%|██████████| 8/8 [00:35<00:00,  4.45s/it]:23<00:08,  1.02s/it]\n",
      "Training (1000 / 18000 Steps) (loss=0.71049):  67%|██████▋   | 14/21 [01:01<01:26, 12.33s/it]"
     ]
    },
    {
     "name": "stdout",
     "output_type": "stream",
     "text": [
      "Model Was Saved ! Current Best Avg. Dice: 0.39923039078712463 Current Avg. Dice: 0.39923039078712463 Current Avg. tumor Dice: 0.4620615541934967 Current Avg. lymph Dice: 0.30849316716194153\n"
     ]
    },
    {
     "name": "stderr",
     "output_type": "stream",
     "text": [
      "Training (1007 / 18000 Steps) (loss=0.25167): 100%|██████████| 21/21 [01:05<00:00,  3.13s/it]\n",
      "Training (1028 / 18000 Steps) (loss=0.53598): 100%|██████████| 21/21 [00:31<00:00,  1.48s/it]\n",
      "Training (1049 / 18000 Steps) (loss=0.69493): 100%|██████████| 21/21 [00:30<00:00,  1.46s/it]\n",
      "Training (1070 / 18000 Steps) (loss=0.61614): 100%|██████████| 21/21 [00:30<00:00,  1.45s/it]\n",
      "Training (1091 / 18000 Steps) (loss=0.68258): 100%|██████████| 21/21 [00:23<00:00,  1.10s/it]\n",
      "Validate (1092 / 10 Steps): 100%|██████████| 8/8 [00:36<00:00,  4.53s/it]0<00:12,  1.01it/s]\n",
      "Training (1100 / 18000 Steps) (loss=0.68610):  43%|████▎     | 9/21 [00:56<02:44, 13.72s/it]"
     ]
    },
    {
     "name": "stdout",
     "output_type": "stream",
     "text": [
      "Model Was Not Saved ! Current Best Avg. Dice: 0.39923039078712463 Current Avg. Dice: 0.37403982877731323 Current Avg. tumor Dice: 0.4295147955417633 Current Avg. lymph Dice: 0.27970877289772034\n"
     ]
    },
    {
     "name": "stderr",
     "output_type": "stream",
     "text": [
      "Training (1112 / 18000 Steps) (loss=0.67919): 100%|██████████| 21/21 [01:03<00:00,  3.00s/it]\n",
      "Training (1133 / 18000 Steps) (loss=0.27165): 100%|██████████| 21/21 [00:31<00:00,  1.49s/it]\n",
      "Training (1154 / 18000 Steps) (loss=0.47947): 100%|██████████| 21/21 [00:30<00:00,  1.45s/it]\n",
      "Training (1175 / 18000 Steps) (loss=0.63993): 100%|██████████| 21/21 [00:31<00:00,  1.52s/it]\n",
      "Training (1196 / 18000 Steps) (loss=0.21877): 100%|██████████| 21/21 [00:25<00:00,  1.21s/it]\n",
      "Validate (1197 / 10 Steps): 100%|██████████| 8/8 [00:36<00:00,  4.57s/it]2<00:54,  3.02s/it]\n",
      "Training (1200 / 18000 Steps) (loss=0.42797):  19%|█▉        | 4/21 [00:50<04:52, 17.18s/it]"
     ]
    },
    {
     "name": "stdout",
     "output_type": "stream",
     "text": [
      "Model Was Saved ! Current Best Avg. Dice: 0.40653130412101746 Current Avg. Dice: 0.40653130412101746 Current Avg. tumor Dice: 0.44871363043785095 Current Avg. lymph Dice: 0.33167269825935364\n"
     ]
    },
    {
     "name": "stderr",
     "output_type": "stream",
     "text": [
      "Training (1217 / 18000 Steps) (loss=0.47294): 100%|██████████| 21/21 [01:00<00:00,  2.87s/it]\n",
      "Training (1238 / 18000 Steps) (loss=0.28166): 100%|██████████| 21/21 [00:31<00:00,  1.51s/it]\n",
      "Training (1259 / 18000 Steps) (loss=0.50093): 100%|██████████| 21/21 [00:30<00:00,  1.47s/it]\n",
      "Training (1280 / 18000 Steps) (loss=0.68128): 100%|██████████| 21/21 [00:27<00:00,  1.30s/it]\n",
      "Validate (1281 / 10 Steps): 100%|██████████| 8/8 [00:35<00:00,  4.47s/it]28<00:02,  1.48s/it]\n",
      "Training (1300 / 18000 Steps) (loss=0.46233):  95%|█████████▌| 20/21 [01:06<00:12, 12.46s/it]"
     ]
    },
    {
     "name": "stdout",
     "output_type": "stream",
     "text": [
      "Model Was Saved ! Current Best Avg. Dice: 0.44084110856056213 Current Avg. Dice: 0.44084110856056213 Current Avg. tumor Dice: 0.49472907185554504 Current Avg. lymph Dice: 0.3579649329185486\n"
     ]
    },
    {
     "name": "stderr",
     "output_type": "stream",
     "text": [
      "Training (1301 / 18000 Steps) (loss=0.34606): 100%|██████████| 21/21 [01:06<00:00,  3.18s/it]\n",
      "Training (1322 / 18000 Steps) (loss=0.62697): 100%|██████████| 21/21 [00:30<00:00,  1.47s/it]\n",
      "Training (1343 / 18000 Steps) (loss=0.67522): 100%|██████████| 21/21 [00:30<00:00,  1.43s/it]\n",
      "Training (1364 / 18000 Steps) (loss=0.67437): 100%|██████████| 21/21 [00:31<00:00,  1.51s/it]\n",
      "Training (1385 / 18000 Steps) (loss=0.52632): 100%|██████████| 21/21 [00:24<00:00,  1.17s/it]\n",
      "Validate (1386 / 10 Steps): 100%|██████████| 8/8 [00:37<00:00,  4.67s/it]25<00:08,  1.22s/it]\n",
      "Training (1400 / 18000 Steps) (loss=0.57296):  71%|███████▏  | 15/21 [01:02<01:14, 12.35s/it]"
     ]
    },
    {
     "name": "stdout",
     "output_type": "stream",
     "text": [
      "Model Was Not Saved ! Current Best Avg. Dice: 0.44084110856056213 Current Avg. Dice: 0.3911488950252533 Current Avg. tumor Dice: 0.4616547226905823 Current Avg. lymph Dice: 0.2930240035057068\n"
     ]
    },
    {
     "name": "stderr",
     "output_type": "stream",
     "text": [
      "Training (1406 / 18000 Steps) (loss=0.67901): 100%|██████████| 21/21 [01:05<00:00,  3.14s/it]\n",
      "Training (1427 / 18000 Steps) (loss=0.65658): 100%|██████████| 21/21 [00:29<00:00,  1.41s/it]\n",
      "Training (1448 / 18000 Steps) (loss=0.67284): 100%|██████████| 21/21 [00:29<00:00,  1.40s/it]\n",
      "Training (1469 / 18000 Steps) (loss=0.66731): 100%|██████████| 21/21 [00:33<00:00,  1.62s/it]\n",
      "Training (1490 / 18000 Steps) (loss=0.54001): 100%|██████████| 21/21 [00:26<00:00,  1.25s/it]\n",
      "Validate (1491 / 10 Steps): 100%|██████████| 8/8 [00:42<00:00,  5.28s/it]1<00:28,  2.40s/it]\n",
      "Training (1500 / 18000 Steps) (loss=0.51344):  48%|████▊     | 10/21 [01:05<02:48, 15.35s/it]"
     ]
    },
    {
     "name": "stdout",
     "output_type": "stream",
     "text": [
      "Model Was Saved ! Current Best Avg. Dice: 0.45123666524887085 Current Avg. Dice: 0.45123666524887085 Current Avg. tumor Dice: 0.4779357314109802 Current Avg. lymph Dice: 0.39348646998405457\n"
     ]
    },
    {
     "name": "stderr",
     "output_type": "stream",
     "text": [
      "Training (1511 / 18000 Steps) (loss=0.50262): 100%|██████████| 21/21 [01:11<00:00,  3.41s/it]\n",
      "Training (1532 / 18000 Steps) (loss=0.52474): 100%|██████████| 21/21 [00:32<00:00,  1.53s/it]\n",
      "Training (1553 / 18000 Steps) (loss=0.67165): 100%|██████████| 21/21 [00:33<00:00,  1.60s/it]\n",
      "Training (1574 / 18000 Steps) (loss=0.42832): 100%|██████████| 21/21 [00:26<00:00,  1.28s/it]\n",
      "Training (1595 / 18000 Steps) (loss=0.70011): 100%|██████████| 21/21 [00:29<00:00,  1.41s/it]\n",
      "Validate (1596 / 10 Steps): 100%|██████████| 8/8 [00:39<00:00,  4.90s/it]2<00:32,  1.88s/it]\n",
      "Training (1600 / 18000 Steps) (loss=0.54633):  24%|██▍       | 5/21 [00:52<04:09, 15.58s/it]"
     ]
    },
    {
     "name": "stdout",
     "output_type": "stream",
     "text": [
      "Model Was Not Saved ! Current Best Avg. Dice: 0.45123666524887085 Current Avg. Dice: 0.438896119594574 Current Avg. tumor Dice: 0.489582359790802 Current Avg. lymph Dice: 0.35614585876464844\n"
     ]
    },
    {
     "name": "stderr",
     "output_type": "stream",
     "text": [
      "Training (1616 / 18000 Steps) (loss=0.67269): 100%|██████████| 21/21 [01:01<00:00,  2.91s/it]\n",
      "Training (1637 / 18000 Steps) (loss=0.21022): 100%|██████████| 21/21 [00:31<00:00,  1.52s/it]\n",
      "Training (1658 / 18000 Steps) (loss=0.37719): 100%|██████████| 21/21 [00:26<00:00,  1.27s/it]\n",
      "Training (1679 / 18000 Steps) (loss=0.69297): 100%|██████████| 21/21 [00:28<00:00,  1.36s/it]\n",
      "Validate (1680 / 10 Steps): 100%|██████████| 8/8 [00:39<00:00,  4.88s/it]29<00:01,  1.05s/it]\n",
      "Training (1700 / 18000 Steps) (loss=0.74812): 100%|██████████| 21/21 [01:08<00:00,  3.27s/it]"
     ]
    },
    {
     "name": "stdout",
     "output_type": "stream",
     "text": [
      "Model Was Not Saved ! Current Best Avg. Dice: 0.45123666524887085 Current Avg. Dice: 0.4097091555595398 Current Avg. tumor Dice: 0.48319578170776367 Current Avg. lymph Dice: 0.30240297317504883\n"
     ]
    },
    {
     "name": "stderr",
     "output_type": "stream",
     "text": [
      "\n",
      "Training (1721 / 18000 Steps) (loss=0.68940): 100%|██████████| 21/21 [00:29<00:00,  1.38s/it]\n",
      "Training (1742 / 18000 Steps) (loss=0.62369): 100%|██████████| 21/21 [00:33<00:00,  1.59s/it]\n",
      "Training (1763 / 18000 Steps) (loss=0.67081): 100%|██████████| 21/21 [00:23<00:00,  1.11s/it]\n",
      "Training (1784 / 18000 Steps) (loss=0.47079): 100%|██████████| 21/21 [00:28<00:00,  1.35s/it]\n",
      "Validate (1785 / 10 Steps): 100%|██████████| 8/8 [00:39<00:00,  4.93s/it]23<00:04,  1.29it/s]\n",
      "Training (1800 / 18000 Steps) (loss=0.29660):  76%|███████▌  | 16/21 [01:02<01:03, 12.61s/it]"
     ]
    },
    {
     "name": "stdout",
     "output_type": "stream",
     "text": [
      "Model Was Not Saved ! Current Best Avg. Dice: 0.45123666524887085 Current Avg. Dice: 0.4221833050251007 Current Avg. tumor Dice: 0.49633780121803284 Current Avg. lymph Dice: 0.31826314330101013\n"
     ]
    },
    {
     "name": "stderr",
     "output_type": "stream",
     "text": [
      "Training (1805 / 18000 Steps) (loss=0.55105): 100%|██████████| 21/21 [01:05<00:00,  3.12s/it]\n",
      "Training (1826 / 18000 Steps) (loss=0.56185): 100%|██████████| 21/21 [00:29<00:00,  1.41s/it]\n",
      "Training (1847 / 18000 Steps) (loss=0.30226): 100%|██████████| 21/21 [00:33<00:00,  1.58s/it]\n",
      "Training (1868 / 18000 Steps) (loss=0.29167): 100%|██████████| 21/21 [00:22<00:00,  1.06s/it]\n",
      "Training (1889 / 18000 Steps) (loss=0.66991): 100%|██████████| 21/21 [00:29<00:00,  1.41s/it]\n",
      "Validate (1890 / 10 Steps): 100%|██████████| 8/8 [00:39<00:00,  4.98s/it]19<00:18,  1.65s/it]\n",
      "Training (1900 / 18000 Steps) (loss=0.63308):  52%|█████▏    | 11/21 [00:59<02:15, 13.60s/it]"
     ]
    },
    {
     "name": "stdout",
     "output_type": "stream",
     "text": [
      "Model Was Not Saved ! Current Best Avg. Dice: 0.45123666524887085 Current Avg. Dice: 0.41808661818504333 Current Avg. tumor Dice: 0.4920692443847656 Current Avg. lymph Dice: 0.3145497143268585\n"
     ]
    },
    {
     "name": "stderr",
     "output_type": "stream",
     "text": [
      "Training (1910 / 18000 Steps) (loss=0.67397): 100%|██████████| 21/21 [01:04<00:00,  3.09s/it]\n",
      "Training (1931 / 18000 Steps) (loss=0.67406): 100%|██████████| 21/21 [00:28<00:00,  1.36s/it]\n",
      "Training (1952 / 18000 Steps) (loss=0.66103): 100%|██████████| 21/21 [00:29<00:00,  1.41s/it]\n",
      "Training (1973 / 18000 Steps) (loss=0.66951): 100%|██████████| 21/21 [00:23<00:00,  1.12s/it]\n",
      "Training (1994 / 18000 Steps) (loss=0.29545): 100%|██████████| 21/21 [00:27<00:00,  1.33s/it]\n",
      "Validate (1995 / 10 Steps): 100%|██████████| 8/8 [00:38<00:00,  4.81s/it]4<00:24,  1.54s/it]\n",
      "Training (2000 / 18000 Steps) (loss=0.33777):  29%|██▊       | 6/21 [00:53<03:34, 14.29s/it]"
     ]
    },
    {
     "name": "stdout",
     "output_type": "stream",
     "text": [
      "Model Was Not Saved ! Current Best Avg. Dice: 0.45123666524887085 Current Avg. Dice: 0.4470910429954529 Current Avg. tumor Dice: 0.4808668792247772 Current Avg. lymph Dice: 0.3828037679195404\n"
     ]
    },
    {
     "name": "stderr",
     "output_type": "stream",
     "text": [
      "Training (2015 / 18000 Steps) (loss=0.58636): 100%|██████████| 21/21 [01:01<00:00,  2.93s/it]\n",
      "Training (2036 / 18000 Steps) (loss=0.66954): 100%|██████████| 21/21 [00:31<00:00,  1.48s/it]\n",
      "Training (2057 / 18000 Steps) (loss=0.67083): 100%|██████████| 21/21 [00:33<00:00,  1.60s/it]\n",
      "Training (2078 / 18000 Steps) (loss=0.62275): 100%|██████████| 21/21 [00:24<00:00,  1.17s/it]\n",
      "Training (2099 / 18000 Steps) (loss=0.67023): 100%|██████████| 21/21 [00:29<00:00,  1.41s/it]\n",
      "Validate (2100 / 10 Steps): 100%|██████████| 8/8 [00:40<00:00,  5.09s/it]9<?, ?it/s]\n",
      "Training (2100 / 18000 Steps) (loss=0.60564):   5%|▍         | 1/21 [00:50<16:52, 50.64s/it]"
     ]
    },
    {
     "name": "stdout",
     "output_type": "stream",
     "text": [
      "Model Was Not Saved ! Current Best Avg. Dice: 0.45123666524887085 Current Avg. Dice: 0.3802686035633087 Current Avg. tumor Dice: 0.4712573289871216 Current Avg. lymph Dice: 0.25030890107154846\n"
     ]
    },
    {
     "name": "stderr",
     "output_type": "stream",
     "text": [
      "Training (2120 / 18000 Steps) (loss=0.33670): 100%|██████████| 21/21 [01:02<00:00,  2.97s/it]\n",
      "Training (2141 / 18000 Steps) (loss=0.25787): 100%|██████████| 21/21 [00:31<00:00,  1.50s/it]\n",
      "Training (2162 / 18000 Steps) (loss=0.67059): 100%|██████████| 21/21 [00:26<00:00,  1.26s/it]\n",
      "Training (2183 / 18000 Steps) (loss=0.51292): 100%|██████████| 21/21 [00:28<00:00,  1.35s/it]\n",
      "Validate (2184 / 10 Steps): 100%|██████████| 8/8 [00:36<00:00,  4.52s/it]27<00:03,  1.33it/s]\n",
      "Training (2200 / 18000 Steps) (loss=0.61214):  81%|████████  | 17/21 [01:03<00:48, 12.20s/it]"
     ]
    },
    {
     "name": "stdout",
     "output_type": "stream",
     "text": [
      "Model Was Not Saved ! Current Best Avg. Dice: 0.45123666524887085 Current Avg. Dice: 0.38490307331085205 Current Avg. tumor Dice: 0.4188308119773865 Current Avg. lymph Dice: 0.3302561640739441\n"
     ]
    },
    {
     "name": "stderr",
     "output_type": "stream",
     "text": [
      "Training (2204 / 18000 Steps) (loss=0.67202): 100%|██████████| 21/21 [01:05<00:00,  3.14s/it]\n",
      "Training (2225 / 18000 Steps) (loss=0.69211): 100%|██████████| 21/21 [00:25<00:00,  1.20s/it]\n",
      "Training (2246 / 18000 Steps) (loss=0.57839): 100%|██████████| 21/21 [00:27<00:00,  1.33s/it]\n",
      "Training (2267 / 18000 Steps) (loss=0.67018): 100%|██████████| 21/21 [00:26<00:00,  1.25s/it]\n",
      "Training (2288 / 18000 Steps) (loss=0.29293): 100%|██████████| 21/21 [00:23<00:00,  1.11s/it]\n",
      "Validate (2289 / 10 Steps): 100%|██████████| 8/8 [00:39<00:00,  4.96s/it]23<00:10,  1.09s/it]\n",
      "Training (2300 / 18000 Steps) (loss=0.56911):  57%|█████▋    | 12/21 [01:02<01:58, 13.14s/it]"
     ]
    },
    {
     "name": "stdout",
     "output_type": "stream",
     "text": [
      "Model Was Not Saved ! Current Best Avg. Dice: 0.45123666524887085 Current Avg. Dice: 0.396820068359375 Current Avg. tumor Dice: 0.494442880153656 Current Avg. lymph Dice: 0.26507994532585144\n"
     ]
    },
    {
     "name": "stderr",
     "output_type": "stream",
     "text": [
      "Training (2309 / 18000 Steps) (loss=0.27521): 100%|██████████| 21/21 [01:09<00:00,  3.32s/it]\n",
      "Training (2330 / 18000 Steps) (loss=0.23482): 100%|██████████| 21/21 [00:25<00:00,  1.24s/it]\n",
      "Training (2351 / 18000 Steps) (loss=0.67185): 100%|██████████| 21/21 [00:23<00:00,  1.11s/it]\n",
      "Training (2372 / 18000 Steps) (loss=0.46307): 100%|██████████| 21/21 [00:33<00:00,  1.59s/it]\n",
      "Training (2393 / 18000 Steps) (loss=0.16992): 100%|██████████| 21/21 [00:25<00:00,  1.20s/it]\n",
      "Validate (2394 / 10 Steps): 100%|██████████| 8/8 [00:41<00:00,  5.16s/it]8<00:22,  1.48s/it]\n",
      "Training (2400 / 18000 Steps) (loss=0.44560):  33%|███▎      | 7/21 [01:01<03:35, 15.37s/it]"
     ]
    },
    {
     "name": "stdout",
     "output_type": "stream",
     "text": [
      "Model Was Saved ! Current Best Avg. Dice: 0.45937579870224 Current Avg. Dice: 0.45937579870224 Current Avg. tumor Dice: 0.4953792691230774 Current Avg. lymph Dice: 0.3972533643245697\n"
     ]
    },
    {
     "name": "stderr",
     "output_type": "stream",
     "text": [
      "Training (2414 / 18000 Steps) (loss=0.40220): 100%|██████████| 21/21 [01:10<00:00,  3.34s/it]\n",
      "Training (2435 / 18000 Steps) (loss=0.45174): 100%|██████████| 21/21 [00:21<00:00,  1.03s/it]\n",
      "Training (2456 / 18000 Steps) (loss=0.19828): 100%|██████████| 21/21 [00:29<00:00,  1.41s/it]\n",
      "Training (2477 / 18000 Steps) (loss=0.56323): 100%|██████████| 21/21 [00:31<00:00,  1.51s/it]\n",
      "Training (2498 / 18000 Steps) (loss=0.25200): 100%|██████████| 21/21 [00:25<00:00,  1.19s/it]\n",
      "Validate (2499 / 10 Steps): 100%|██████████| 8/8 [00:40<00:00,  5.07s/it]1<03:38, 10.93s/it]\n",
      "Training (2500 / 18000 Steps) (loss=0.66908):  10%|▉         | 2/21 [00:52<09:06, 28.75s/it]"
     ]
    },
    {
     "name": "stdout",
     "output_type": "stream",
     "text": [
      "Model Was Not Saved ! Current Best Avg. Dice: 0.45937579870224 Current Avg. Dice: 0.39273127913475037 Current Avg. tumor Dice: 0.48865386843681335 Current Avg. lymph Dice: 0.25674939155578613\n"
     ]
    },
    {
     "name": "stderr",
     "output_type": "stream",
     "text": [
      "Training (2519 / 18000 Steps) (loss=0.66880): 100%|██████████| 21/21 [01:04<00:00,  3.07s/it]\n",
      "Training (2540 / 18000 Steps) (loss=0.34495): 100%|██████████| 21/21 [00:25<00:00,  1.22s/it]\n",
      "Training (2561 / 18000 Steps) (loss=0.47038): 100%|██████████| 21/21 [00:30<00:00,  1.43s/it]\n",
      "Training (2582 / 18000 Steps) (loss=0.66891): 100%|██████████| 21/21 [00:25<00:00,  1.21s/it]\n",
      "Validate (2583 / 10 Steps): 100%|██████████| 8/8 [00:36<00:00,  4.61s/it]32<00:07,  1.91s/it]\n",
      "Training (2600 / 18000 Steps) (loss=0.67069):  86%|████████▌ | 18/21 [01:11<00:39, 13.26s/it]"
     ]
    },
    {
     "name": "stdout",
     "output_type": "stream",
     "text": [
      "Model Was Saved ! Current Best Avg. Dice: 0.4652363955974579 Current Avg. Dice: 0.4652363955974579 Current Avg. tumor Dice: 0.48841169476509094 Current Avg. lymph Dice: 0.4194011688232422\n"
     ]
    },
    {
     "name": "stderr",
     "output_type": "stream",
     "text": [
      "Training (2603 / 18000 Steps) (loss=0.66843): 100%|██████████| 21/21 [01:12<00:00,  3.47s/it]\n",
      "Training (2624 / 18000 Steps) (loss=0.14214): 100%|██████████| 21/21 [00:29<00:00,  1.39s/it]\n",
      "Training (2645 / 18000 Steps) (loss=0.44330): 100%|██████████| 21/21 [00:24<00:00,  1.15s/it]\n",
      "Training (2666 / 18000 Steps) (loss=0.44602): 100%|██████████| 21/21 [00:31<00:00,  1.51s/it]\n",
      "Training (2687 / 18000 Steps) (loss=0.28304): 100%|██████████| 21/21 [00:25<00:00,  1.23s/it]\n",
      "Validate (2688 / 10 Steps): 100%|██████████| 8/8 [00:38<00:00,  4.87s/it]22<00:09,  1.11s/it]\n",
      "Training (2700 / 18000 Steps) (loss=0.29883):  62%|██████▏   | 13/21 [01:01<01:42, 12.84s/it]"
     ]
    },
    {
     "name": "stdout",
     "output_type": "stream",
     "text": [
      "Model Was Not Saved ! Current Best Avg. Dice: 0.4652363955974579 Current Avg. Dice: 0.4043533205986023 Current Avg. tumor Dice: 0.4685932695865631 Current Avg. lymph Dice: 0.319042831659317\n"
     ]
    },
    {
     "name": "stderr",
     "output_type": "stream",
     "text": [
      "Training (2708 / 18000 Steps) (loss=0.62069): 100%|██████████| 21/21 [01:05<00:00,  3.14s/it]\n",
      "Training (2729 / 18000 Steps) (loss=0.67031): 100%|██████████| 21/21 [00:34<00:00,  1.63s/it]\n",
      "Training (2750 / 18000 Steps) (loss=0.72891): 100%|██████████| 21/21 [00:24<00:00,  1.19s/it]\n",
      "Training (2771 / 18000 Steps) (loss=0.31928): 100%|██████████| 21/21 [00:32<00:00,  1.56s/it]\n",
      "Training (2792 / 18000 Steps) (loss=0.55412): 100%|██████████| 21/21 [00:24<00:00,  1.15s/it]\n",
      "Validate (2793 / 10 Steps): 100%|██████████| 8/8 [00:42<00:00,  5.26s/it]5<00:15,  1.09s/it]\n",
      "Training (2800 / 18000 Steps) (loss=0.67302):  38%|███▊      | 8/21 [00:58<03:07, 14.39s/it]"
     ]
    },
    {
     "name": "stdout",
     "output_type": "stream",
     "text": [
      "Model Was Not Saved ! Current Best Avg. Dice: 0.4652363955974579 Current Avg. Dice: 0.4121478796005249 Current Avg. tumor Dice: 0.452278196811676 Current Avg. lymph Dice: 0.35324522852897644\n"
     ]
    },
    {
     "name": "stderr",
     "output_type": "stream",
     "text": [
      "Training (2813 / 18000 Steps) (loss=0.42192): 100%|██████████| 21/21 [01:05<00:00,  3.13s/it]\n",
      "Training (2834 / 18000 Steps) (loss=0.67556): 100%|██████████| 21/21 [00:34<00:00,  1.65s/it]\n",
      "Training (2855 / 18000 Steps) (loss=0.66995): 100%|██████████| 21/21 [00:22<00:00,  1.06s/it]\n",
      "Training (2876 / 18000 Steps) (loss=0.35404): 100%|██████████| 21/21 [00:32<00:00,  1.57s/it]\n",
      "Training (2897 / 18000 Steps) (loss=0.51308): 100%|██████████| 21/21 [00:26<00:00,  1.25s/it]\n",
      "Validate (2898 / 10 Steps): 100%|██████████| 8/8 [00:41<00:00,  5.20s/it]1<01:32,  4.85s/it]\n",
      "Training (2900 / 18000 Steps) (loss=0.32343):  14%|█▍        | 3/21 [00:53<06:35, 21.97s/it]"
     ]
    },
    {
     "name": "stdout",
     "output_type": "stream",
     "text": [
      "Model Was Not Saved ! Current Best Avg. Dice: 0.4652363955974579 Current Avg. Dice: 0.3678562045097351 Current Avg. tumor Dice: 0.4444708228111267 Current Avg. lymph Dice: 0.2627936005592346\n"
     ]
    },
    {
     "name": "stderr",
     "output_type": "stream",
     "text": [
      "Training (2918 / 18000 Steps) (loss=0.45903): 100%|██████████| 21/21 [01:04<00:00,  3.08s/it]\n",
      "Training (2939 / 18000 Steps) (loss=0.66895): 100%|██████████| 21/21 [00:24<00:00,  1.18s/it]\n",
      "Training (2960 / 18000 Steps) (loss=0.67117): 100%|██████████| 21/21 [00:30<00:00,  1.47s/it]\n",
      "Training (2981 / 18000 Steps) (loss=0.55384): 100%|██████████| 21/21 [00:23<00:00,  1.14s/it]\n",
      "Validate (2982 / 10 Steps): 100%|██████████| 8/8 [00:38<00:00,  4.78s/it]25<00:03,  1.28s/it]\n",
      "Training (3000 / 18000 Steps) (loss=0.55786):  90%|█████████ | 19/21 [01:03<00:25, 12.69s/it]"
     ]
    },
    {
     "name": "stdout",
     "output_type": "stream",
     "text": [
      "Model Was Not Saved ! Current Best Avg. Dice: 0.4652363955974579 Current Avg. Dice: 0.4355827569961548 Current Avg. tumor Dice: 0.462006539106369 Current Avg. lymph Dice: 0.3974758982658386\n"
     ]
    },
    {
     "name": "stderr",
     "output_type": "stream",
     "text": [
      "Training (3002 / 18000 Steps) (loss=0.21843): 100%|██████████| 21/21 [01:04<00:00,  3.09s/it]\n",
      "Training (3023 / 18000 Steps) (loss=0.29239): 100%|██████████| 21/21 [00:30<00:00,  1.44s/it]\n",
      "Training (3044 / 18000 Steps) (loss=0.16095): 100%|██████████| 21/21 [00:26<00:00,  1.25s/it]\n",
      "Training (3065 / 18000 Steps) (loss=0.66855): 100%|██████████| 21/21 [00:29<00:00,  1.39s/it]\n",
      "Training (3086 / 18000 Steps) (loss=0.68371): 100%|██████████| 21/21 [00:27<00:00,  1.33s/it]\n",
      "Validate (3087 / 10 Steps): 100%|██████████| 8/8 [00:40<00:00,  5.04s/it]19<00:08,  1.07s/it]\n",
      "Training (3100 / 18000 Steps) (loss=0.45844):  67%|██████▋   | 14/21 [00:59<01:32, 13.15s/it]"
     ]
    },
    {
     "name": "stdout",
     "output_type": "stream",
     "text": [
      "Model Was Not Saved ! Current Best Avg. Dice: 0.4652363955974579 Current Avg. Dice: 0.4292110502719879 Current Avg. tumor Dice: 0.4703712463378906 Current Avg. lymph Dice: 0.3706570565700531\n"
     ]
    },
    {
     "name": "stderr",
     "output_type": "stream",
     "text": [
      "Training (3107 / 18000 Steps) (loss=0.41421): 100%|██████████| 21/21 [01:03<00:00,  3.04s/it]\n",
      "Training (3128 / 18000 Steps) (loss=0.58557): 100%|██████████| 21/21 [00:32<00:00,  1.53s/it]\n",
      "Training (3149 / 18000 Steps) (loss=0.66831): 100%|██████████| 21/21 [00:28<00:00,  1.36s/it]\n",
      "Training (3170 / 18000 Steps) (loss=0.31756): 100%|██████████| 21/21 [00:28<00:00,  1.38s/it]\n",
      "Training (3191 / 18000 Steps) (loss=0.66837): 100%|██████████| 21/21 [00:26<00:00,  1.24s/it]\n",
      "Validate (3192 / 10 Steps): 100%|██████████| 8/8 [00:39<00:00,  4.92s/it]9<00:10,  1.24it/s]\n",
      "Training (3200 / 18000 Steps) (loss=0.45580):  43%|████▎     | 9/21 [01:00<02:58, 14.85s/it]"
     ]
    },
    {
     "name": "stdout",
     "output_type": "stream",
     "text": [
      "Model Was Saved ! Current Best Avg. Dice: 0.5054125189781189 Current Avg. Dice: 0.5054125189781189 Current Avg. tumor Dice: 0.5200182199478149 Current Avg. lymph Dice: 0.4677494168281555\n"
     ]
    },
    {
     "name": "stderr",
     "output_type": "stream",
     "text": [
      "Training (3212 / 18000 Steps) (loss=0.33486): 100%|██████████| 21/21 [01:07<00:00,  3.21s/it]\n",
      "Training (3233 / 18000 Steps) (loss=0.10919): 100%|██████████| 21/21 [00:34<00:00,  1.62s/it]\n",
      "Training (3254 / 18000 Steps) (loss=0.32515): 100%|██████████| 21/21 [00:25<00:00,  1.23s/it]\n",
      "Training (3275 / 18000 Steps) (loss=0.16731): 100%|██████████| 21/21 [00:35<00:00,  1.67s/it]\n",
      "Training (3296 / 18000 Steps) (loss=0.23185): 100%|██████████| 21/21 [00:25<00:00,  1.23s/it]\n",
      "Validate (3297 / 10 Steps): 100%|██████████| 8/8 [00:42<00:00,  5.31s/it]1<00:45,  2.53s/it]\n",
      "Training (3300 / 18000 Steps) (loss=0.16976):  19%|█▉        | 4/21 [00:53<05:16, 18.60s/it]"
     ]
    },
    {
     "name": "stdout",
     "output_type": "stream",
     "text": [
      "Model Was Not Saved ! Current Best Avg. Dice: 0.5054125189781189 Current Avg. Dice: 0.44299396872520447 Current Avg. tumor Dice: 0.5065337419509888 Current Avg. lymph Dice: 0.35303714871406555\n"
     ]
    },
    {
     "name": "stderr",
     "output_type": "stream",
     "text": [
      "Training (3317 / 18000 Steps) (loss=0.66816): 100%|██████████| 21/21 [01:04<00:00,  3.05s/it]\n",
      "Training (3338 / 18000 Steps) (loss=0.67558): 100%|██████████| 21/21 [00:26<00:00,  1.26s/it]\n",
      "Training (3359 / 18000 Steps) (loss=0.51894): 100%|██████████| 21/21 [00:29<00:00,  1.38s/it]\n",
      "Training (3380 / 18000 Steps) (loss=0.66874): 100%|██████████| 21/21 [00:27<00:00,  1.29s/it]\n",
      "Validate (3381 / 10 Steps): 100%|██████████| 8/8 [00:36<00:00,  4.62s/it]28<00:02,  1.25s/it]\n",
      "Training (3400 / 18000 Steps) (loss=0.45579):  95%|█████████▌| 20/21 [01:05<00:12, 12.15s/it]"
     ]
    },
    {
     "name": "stdout",
     "output_type": "stream",
     "text": [
      "Model Was Not Saved ! Current Best Avg. Dice: 0.5054125189781189 Current Avg. Dice: 0.4514455497264862 Current Avg. tumor Dice: 0.4705401062965393 Current Avg. lymph Dice: 0.40335267782211304\n"
     ]
    },
    {
     "name": "stderr",
     "output_type": "stream",
     "text": [
      "Training (3401 / 18000 Steps) (loss=0.47719): 100%|██████████| 21/21 [01:05<00:00,  3.14s/it]\n",
      "Training (3422 / 18000 Steps) (loss=0.22271): 100%|██████████| 21/21 [00:35<00:00,  1.69s/it]\n",
      "Training (3443 / 18000 Steps) (loss=0.43052): 100%|██████████| 21/21 [00:23<00:00,  1.10s/it]\n",
      "Training (3464 / 18000 Steps) (loss=0.26163): 100%|██████████| 21/21 [00:29<00:00,  1.39s/it]\n",
      "Training (3485 / 18000 Steps) (loss=0.71814): 100%|██████████| 21/21 [00:27<00:00,  1.32s/it]\n",
      "Validate (3486 / 10 Steps): 100%|██████████| 8/8 [00:38<00:00,  4.76s/it]18<00:04,  1.42it/s]\n",
      "Training (3500 / 18000 Steps) (loss=0.18731):  71%|███████▏  | 15/21 [00:56<01:13, 12.23s/it]"
     ]
    },
    {
     "name": "stdout",
     "output_type": "stream",
     "text": [
      "Model Was Not Saved ! Current Best Avg. Dice: 0.5054125189781189 Current Avg. Dice: 0.47993677854537964 Current Avg. tumor Dice: 0.47006258368492126 Current Avg. lymph Dice: 0.47817298769950867\n"
     ]
    },
    {
     "name": "stderr",
     "output_type": "stream",
     "text": [
      "Training (3506 / 18000 Steps) (loss=0.66883): 100%|██████████| 21/21 [01:00<00:00,  2.90s/it]\n",
      "Training (3527 / 18000 Steps) (loss=0.27223): 100%|██████████| 21/21 [00:29<00:00,  1.40s/it]\n",
      "Training (3548 / 18000 Steps) (loss=0.66846): 100%|██████████| 21/21 [00:22<00:00,  1.09s/it]\n",
      "Training (3569 / 18000 Steps) (loss=0.66924): 100%|██████████| 21/21 [00:31<00:00,  1.50s/it]\n",
      "Training (3590 / 18000 Steps) (loss=0.38951): 100%|██████████| 21/21 [00:36<00:00,  1.72s/it]\n",
      "Validate (3591 / 10 Steps): 100%|██████████| 8/8 [00:35<00:00,  4.46s/it]7<00:13,  1.11s/it]\n",
      "Training (3600 / 18000 Steps) (loss=0.44643):  48%|████▊     | 10/21 [00:53<02:15, 12.34s/it]"
     ]
    },
    {
     "name": "stdout",
     "output_type": "stream",
     "text": [
      "Model Was Not Saved ! Current Best Avg. Dice: 0.5054125189781189 Current Avg. Dice: 0.486823171377182 Current Avg. tumor Dice: 0.5188438296318054 Current Avg. lymph Dice: 0.42979496717453003\n"
     ]
    },
    {
     "name": "stderr",
     "output_type": "stream",
     "text": [
      "Training (3611 / 18000 Steps) (loss=0.40791): 100%|██████████| 21/21 [01:00<00:00,  2.87s/it]\n",
      "Training (3632 / 18000 Steps) (loss=0.61593): 100%|██████████| 21/21 [00:23<00:00,  1.13s/it]\n",
      "Training (3653 / 18000 Steps) (loss=0.66873): 100%|██████████| 21/21 [00:26<00:00,  1.26s/it]\n",
      "Training (3674 / 18000 Steps) (loss=0.66944): 100%|██████████| 21/21 [00:29<00:00,  1.39s/it]\n",
      "Training (3695 / 18000 Steps) (loss=0.47802): 100%|██████████| 21/21 [00:32<00:00,  1.53s/it]\n",
      "Validate (3696 / 10 Steps): 100%|██████████| 8/8 [00:37<00:00,  4.65s/it]4<00:41,  2.42s/it]\n",
      "Training (3700 / 18000 Steps) (loss=0.44265):  24%|██▍       | 5/21 [00:52<04:03, 15.21s/it]"
     ]
    },
    {
     "name": "stdout",
     "output_type": "stream",
     "text": [
      "Model Was Not Saved ! Current Best Avg. Dice: 0.5054125189781189 Current Avg. Dice: 0.4302588701248169 Current Avg. tumor Dice: 0.4793512225151062 Current Avg. lymph Dice: 0.34734541177749634\n"
     ]
    },
    {
     "name": "stderr",
     "output_type": "stream",
     "text": [
      "Training (3716 / 18000 Steps) (loss=0.17207): 100%|██████████| 21/21 [01:01<00:00,  2.92s/it]\n",
      "Training (3737 / 18000 Steps) (loss=0.30143): 100%|██████████| 21/21 [00:25<00:00,  1.22s/it]\n",
      "Training (3758 / 18000 Steps) (loss=0.66794): 100%|██████████| 21/21 [00:33<00:00,  1.60s/it]\n",
      "Training (3779 / 18000 Steps) (loss=0.44137): 100%|██████████| 21/21 [00:32<00:00,  1.57s/it]\n",
      "Validate (3780 / 10 Steps): 100%|██████████| 8/8 [00:37<00:00,  4.69s/it]27<00:00,  1.35it/s]\n",
      "Training (3800 / 18000 Steps) (loss=0.26026): 100%|██████████| 21/21 [01:05<00:00, 11.89s/it]"
     ]
    },
    {
     "name": "stdout",
     "output_type": "stream",
     "text": [
      "Model Was Not Saved ! Current Best Avg. Dice: 0.5054125189781189 Current Avg. Dice: 0.47931140661239624 Current Avg. tumor Dice: 0.4931069314479828 Current Avg. lymph Dice: 0.43519359827041626\n"
     ]
    },
    {
     "name": "stderr",
     "output_type": "stream",
     "text": [
      "Training (3800 / 18000 Steps) (loss=0.26026): 100%|██████████| 21/21 [01:05<00:00,  3.11s/it]\n",
      "Training (3821 / 18000 Steps) (loss=0.49666): 100%|██████████| 21/21 [00:28<00:00,  1.36s/it]\n",
      "Training (3842 / 18000 Steps) (loss=0.29613): 100%|██████████| 21/21 [00:23<00:00,  1.12s/it]\n",
      "Training (3863 / 18000 Steps) (loss=0.66742): 100%|██████████| 21/21 [00:31<00:00,  1.50s/it]\n",
      "Training (3884 / 18000 Steps) (loss=0.32004): 100%|██████████| 21/21 [00:28<00:00,  1.35s/it]\n",
      "Validate (3885 / 10 Steps): 100%|██████████| 8/8 [00:35<00:00,  4.46s/it]23<00:04,  1.24it/s]\n",
      "Training (3900 / 18000 Steps) (loss=0.42518):  76%|███████▌  | 16/21 [00:59<00:57, 11.51s/it]"
     ]
    },
    {
     "name": "stdout",
     "output_type": "stream",
     "text": [
      "Model Was Not Saved ! Current Best Avg. Dice: 0.5054125189781189 Current Avg. Dice: 0.40336307883262634 Current Avg. tumor Dice: 0.4397328197956085 Current Avg. lymph Dice: 0.34688600897789\n"
     ]
    },
    {
     "name": "stderr",
     "output_type": "stream",
     "text": [
      "Training (3905 / 18000 Steps) (loss=0.66795): 100%|██████████| 21/21 [01:02<00:00,  2.98s/it]\n",
      "Training (3926 / 18000 Steps) (loss=0.67209): 100%|██████████| 21/21 [00:31<00:00,  1.52s/it]\n",
      "Training (3947 / 18000 Steps) (loss=0.67087): 100%|██████████| 21/21 [00:24<00:00,  1.18s/it]\n",
      "Training (3968 / 18000 Steps) (loss=0.52101): 100%|██████████| 21/21 [00:30<00:00,  1.46s/it]\n",
      "Training (3989 / 18000 Steps) (loss=0.66746): 100%|██████████| 21/21 [00:32<00:00,  1.53s/it]\n",
      "Validate (3990 / 10 Steps): 100%|██████████| 8/8 [00:34<00:00,  4.35s/it]24<00:18,  1.64s/it]\n",
      "Training (4000 / 18000 Steps) (loss=0.53412):  52%|█████▏    | 11/21 [00:59<02:01, 12.12s/it]"
     ]
    },
    {
     "name": "stdout",
     "output_type": "stream",
     "text": [
      "Model Was Not Saved ! Current Best Avg. Dice: 0.5054125189781189 Current Avg. Dice: 0.4323364496231079 Current Avg. tumor Dice: 0.4778175354003906 Current Avg. lymph Dice: 0.36375850439071655\n"
     ]
    },
    {
     "name": "stderr",
     "output_type": "stream",
     "text": [
      "Training (4010 / 18000 Steps) (loss=0.66804): 100%|██████████| 21/21 [01:05<00:00,  3.13s/it]\n",
      "Training (4031 / 18000 Steps) (loss=0.66764): 100%|██████████| 21/21 [00:30<00:00,  1.45s/it]\n",
      "Training (4052 / 18000 Steps) (loss=0.56017): 100%|██████████| 21/21 [00:23<00:00,  1.14s/it]\n",
      "Training (4073 / 18000 Steps) (loss=0.16419): 100%|██████████| 21/21 [00:31<00:00,  1.51s/it]\n",
      "Training (4094 / 18000 Steps) (loss=0.66736): 100%|██████████| 21/21 [00:31<00:00,  1.48s/it]\n",
      "Validate (4095 / 10 Steps): 100%|██████████| 8/8 [00:38<00:00,  4.75s/it]7<00:31,  1.94s/it]\n",
      "Training (4100 / 18000 Steps) (loss=0.57841):  29%|██▊       | 6/21 [00:55<03:39, 14.64s/it]"
     ]
    },
    {
     "name": "stdout",
     "output_type": "stream",
     "text": [
      "Model Was Not Saved ! Current Best Avg. Dice: 0.5054125189781189 Current Avg. Dice: 0.3988358676433563 Current Avg. tumor Dice: 0.45552507042884827 Current Avg. lymph Dice: 0.31239503622055054\n"
     ]
    },
    {
     "name": "stderr",
     "output_type": "stream",
     "text": [
      "Training (4115 / 18000 Steps) (loss=0.58470): 100%|██████████| 21/21 [01:03<00:00,  3.03s/it]\n",
      "Training (4136 / 18000 Steps) (loss=0.66940): 100%|██████████| 21/21 [00:27<00:00,  1.32s/it]\n",
      "Training (4157 / 18000 Steps) (loss=0.38286): 100%|██████████| 21/21 [00:28<00:00,  1.34s/it]\n",
      "Training (4178 / 18000 Steps) (loss=0.66731): 100%|██████████| 21/21 [00:31<00:00,  1.49s/it]\n",
      "Training (4199 / 18000 Steps) (loss=0.66771): 100%|██████████| 21/21 [00:30<00:00,  1.48s/it]\n",
      "Validate (4200 / 10 Steps): 100%|██████████| 8/8 [00:39<00:00,  4.90s/it]2<?, ?it/s]\n",
      "Training (4200 / 18000 Steps) (loss=0.19403):   5%|▍         | 1/21 [00:51<17:09, 51.45s/it]"
     ]
    },
    {
     "name": "stdout",
     "output_type": "stream",
     "text": [
      "Model Was Not Saved ! Current Best Avg. Dice: 0.5054125189781189 Current Avg. Dice: 0.4452770948410034 Current Avg. tumor Dice: 0.5008012056350708 Current Avg. lymph Dice: 0.3633544147014618\n"
     ]
    },
    {
     "name": "stderr",
     "output_type": "stream",
     "text": [
      "Training (4220 / 18000 Steps) (loss=0.62663): 100%|██████████| 21/21 [01:03<00:00,  3.04s/it]\n",
      "Training (4241 / 18000 Steps) (loss=0.17300): 100%|██████████| 21/21 [00:23<00:00,  1.13s/it]\n",
      "Training (4262 / 18000 Steps) (loss=0.16854): 100%|██████████| 21/21 [00:31<00:00,  1.50s/it]\n",
      "Training (4283 / 18000 Steps) (loss=0.66762): 100%|██████████| 21/21 [00:29<00:00,  1.41s/it]\n",
      "Validate (4284 / 10 Steps): 100%|██████████| 8/8 [00:36<00:00,  4.51s/it]28<00:03,  1.34it/s]\n",
      "Training (4300 / 18000 Steps) (loss=0.66162):  81%|████████  | 17/21 [01:04<00:49, 12.28s/it]"
     ]
    },
    {
     "name": "stdout",
     "output_type": "stream",
     "text": [
      "Model Was Not Saved ! Current Best Avg. Dice: 0.5054125189781189 Current Avg. Dice: 0.44481199979782104 Current Avg. tumor Dice: 0.45862725377082825 Current Avg. lymph Dice: 0.41077491641044617\n"
     ]
    },
    {
     "name": "stderr",
     "output_type": "stream",
     "text": [
      "Training (4304 / 18000 Steps) (loss=0.66327): 100%|██████████| 21/21 [01:06<00:00,  3.18s/it]\n",
      "Training (4325 / 18000 Steps) (loss=0.67299): 100%|██████████| 21/21 [00:26<00:00,  1.26s/it]\n",
      "Training (4346 / 18000 Steps) (loss=0.67321): 100%|██████████| 21/21 [00:28<00:00,  1.38s/it]\n",
      "Training (4367 / 18000 Steps) (loss=0.55144): 100%|██████████| 21/21 [00:31<00:00,  1.52s/it]\n",
      "Training (4388 / 18000 Steps) (loss=0.70611): 100%|██████████| 21/21 [00:31<00:00,  1.51s/it]\n",
      "Validate (4389 / 10 Steps): 100%|██████████| 8/8 [00:37<00:00,  4.75s/it]24<00:16,  1.66s/it]\n",
      "Training (4400 / 18000 Steps) (loss=0.61455):  57%|█████▋    | 12/21 [01:02<01:56, 12.97s/it]"
     ]
    },
    {
     "name": "stdout",
     "output_type": "stream",
     "text": [
      "Model Was Not Saved ! Current Best Avg. Dice: 0.5054125189781189 Current Avg. Dice: 0.4383527636528015 Current Avg. tumor Dice: 0.4829123318195343 Current Avg. lymph Dice: 0.35791757702827454\n"
     ]
    },
    {
     "name": "stderr",
     "output_type": "stream",
     "text": [
      "Training (4409 / 18000 Steps) (loss=0.67012): 100%|██████████| 21/21 [01:08<00:00,  3.26s/it]\n",
      "Training (4430 / 18000 Steps) (loss=0.41931): 100%|██████████| 21/21 [00:24<00:00,  1.16s/it]\n",
      "Training (4451 / 18000 Steps) (loss=0.78967): 100%|██████████| 21/21 [00:29<00:00,  1.41s/it]\n",
      "Training (4472 / 18000 Steps) (loss=0.36095): 100%|██████████| 21/21 [00:29<00:00,  1.42s/it]\n",
      "Training (4493 / 18000 Steps) (loss=0.67141): 100%|██████████| 21/21 [00:30<00:00,  1.44s/it]\n",
      "Validate (4494 / 10 Steps): 100%|██████████| 8/8 [00:36<00:00,  4.62s/it]7<00:20,  1.37s/it]\n",
      "Training (4500 / 18000 Steps) (loss=0.45456):  33%|███▎      | 7/21 [00:54<03:05, 13.27s/it]"
     ]
    },
    {
     "name": "stdout",
     "output_type": "stream",
     "text": [
      "Model Was Not Saved ! Current Best Avg. Dice: 0.5054125189781189 Current Avg. Dice: 0.441493958234787 Current Avg. tumor Dice: 0.4976159632205963 Current Avg. lymph Dice: 0.353973925113678\n"
     ]
    },
    {
     "name": "stderr",
     "output_type": "stream",
     "text": [
      "Training (4514 / 18000 Steps) (loss=0.66726): 100%|██████████| 21/21 [01:02<00:00,  2.97s/it]\n",
      "Training (4535 / 18000 Steps) (loss=0.66733): 100%|██████████| 21/21 [00:26<00:00,  1.28s/it]\n",
      "Training (4556 / 18000 Steps) (loss=0.66873): 100%|██████████| 21/21 [00:28<00:00,  1.35s/it]\n",
      "Training (4577 / 18000 Steps) (loss=0.16952): 100%|██████████| 21/21 [00:30<00:00,  1.47s/it]\n",
      "Training (4598 / 18000 Steps) (loss=0.43720): 100%|██████████| 21/21 [00:31<00:00,  1.51s/it]\n",
      "Validate (4599 / 10 Steps): 100%|██████████| 8/8 [00:39<00:00,  4.96s/it]4<04:03, 12.18s/it]\n",
      "Training (4600 / 18000 Steps) (loss=0.52113):  10%|▉         | 2/21 [00:54<09:23, 29.68s/it]"
     ]
    },
    {
     "name": "stdout",
     "output_type": "stream",
     "text": [
      "Model Was Not Saved ! Current Best Avg. Dice: 0.5054125189781189 Current Avg. Dice: 0.4696887731552124 Current Avg. tumor Dice: 0.4745827317237854 Current Avg. lymph Dice: 0.4454106390476227\n"
     ]
    },
    {
     "name": "stderr",
     "output_type": "stream",
     "text": [
      "Training (4619 / 18000 Steps) (loss=0.34154): 100%|██████████| 21/21 [01:05<00:00,  3.10s/it]\n",
      "Training (4640 / 18000 Steps) (loss=0.20046): 100%|██████████| 21/21 [00:26<00:00,  1.25s/it]\n",
      "Training (4661 / 18000 Steps) (loss=0.27533): 100%|██████████| 21/21 [00:30<00:00,  1.44s/it]\n",
      "Training (4682 / 18000 Steps) (loss=0.51189): 100%|██████████| 21/21 [00:31<00:00,  1.48s/it]\n",
      "Validate (4683 / 10 Steps): 100%|██████████| 8/8 [00:36<00:00,  4.51s/it]32<00:05,  1.29s/it]\n",
      "Training (4700 / 18000 Steps) (loss=0.56791):  86%|████████▌ | 18/21 [01:08<00:35, 11.94s/it]"
     ]
    },
    {
     "name": "stdout",
     "output_type": "stream",
     "text": [
      "Model Was Not Saved ! Current Best Avg. Dice: 0.5054125189781189 Current Avg. Dice: 0.48386865854263306 Current Avg. tumor Dice: 0.5134251117706299 Current Avg. lymph Dice: 0.43022242188453674\n"
     ]
    },
    {
     "name": "stderr",
     "output_type": "stream",
     "text": [
      "Training (4703 / 18000 Steps) (loss=0.17796): 100%|██████████| 21/21 [01:09<00:00,  3.33s/it]\n",
      "Training (4724 / 18000 Steps) (loss=0.40005): 100%|██████████| 21/21 [00:27<00:00,  1.29s/it]\n",
      "Training (4745 / 18000 Steps) (loss=0.44801): 100%|██████████| 21/21 [00:27<00:00,  1.33s/it]\n",
      "Training (4766 / 18000 Steps) (loss=0.41019): 100%|██████████| 21/21 [00:29<00:00,  1.41s/it]\n",
      "Training (4787 / 18000 Steps) (loss=0.34937): 100%|██████████| 21/21 [00:29<00:00,  1.42s/it]\n",
      "Validate (4788 / 10 Steps): 100%|██████████| 8/8 [00:39<00:00,  4.89s/it]21<00:09,  1.04s/it]\n",
      "Training (4800 / 18000 Steps) (loss=0.33945):  62%|██████▏   | 13/21 [01:00<01:42, 12.81s/it]"
     ]
    },
    {
     "name": "stdout",
     "output_type": "stream",
     "text": [
      "Model Was Not Saved ! Current Best Avg. Dice: 0.5054125189781189 Current Avg. Dice: 0.40776336193084717 Current Avg. tumor Dice: 0.47575345635414124 Current Avg. lymph Dice: 0.31575456261634827\n"
     ]
    },
    {
     "name": "stderr",
     "output_type": "stream",
     "text": [
      "Training (4808 / 18000 Steps) (loss=0.66762): 100%|██████████| 21/21 [01:06<00:00,  3.15s/it]\n",
      "Training (4829 / 18000 Steps) (loss=0.50442): 100%|██████████| 21/21 [00:22<00:00,  1.09s/it]\n",
      "Training (4850 / 18000 Steps) (loss=0.38092): 100%|██████████| 21/21 [00:26<00:00,  1.26s/it]\n",
      "Training (4871 / 18000 Steps) (loss=0.12558): 100%|██████████| 21/21 [00:32<00:00,  1.53s/it]\n",
      "Training (4892 / 18000 Steps) (loss=0.40368): 100%|██████████| 21/21 [00:31<00:00,  1.51s/it]\n",
      "Validate (4893 / 10 Steps): 100%|██████████| 8/8 [00:38<00:00,  4.76s/it]8<00:15,  1.13s/it]\n",
      "Training (4900 / 18000 Steps) (loss=0.68013):  38%|███▊      | 8/21 [00:57<02:50, 13.09s/it]"
     ]
    },
    {
     "name": "stdout",
     "output_type": "stream",
     "text": [
      "Model Was Not Saved ! Current Best Avg. Dice: 0.5054125189781189 Current Avg. Dice: 0.4806286096572876 Current Avg. tumor Dice: 0.4962620139122009 Current Avg. lymph Dice: 0.4539257884025574\n"
     ]
    },
    {
     "name": "stderr",
     "output_type": "stream",
     "text": [
      "Training (4913 / 18000 Steps) (loss=0.15478): 100%|██████████| 21/21 [01:05<00:00,  3.10s/it]\n",
      "Training (4934 / 18000 Steps) (loss=0.67085): 100%|██████████| 21/21 [00:22<00:00,  1.07s/it]\n",
      "Training (4955 / 18000 Steps) (loss=0.66889): 100%|██████████| 21/21 [00:24<00:00,  1.15s/it]\n",
      "Training (4976 / 18000 Steps) (loss=0.17363): 100%|██████████| 21/21 [00:30<00:00,  1.46s/it]\n",
      "Training (4997 / 18000 Steps) (loss=0.66775): 100%|██████████| 21/21 [00:33<00:00,  1.58s/it]\n",
      "Validate (4998 / 10 Steps): 100%|██████████| 8/8 [00:41<00:00,  5.13s/it]4<01:50,  5.84s/it]\n",
      "Training (5000 / 18000 Steps) (loss=0.66900):  14%|█▍        | 3/21 [00:55<06:40, 22.26s/it]"
     ]
    },
    {
     "name": "stdout",
     "output_type": "stream",
     "text": [
      "Model Was Not Saved ! Current Best Avg. Dice: 0.5054125189781189 Current Avg. Dice: 0.48007693886756897 Current Avg. tumor Dice: 0.4840210974216461 Current Avg. lymph Dice: 0.46769219636917114\n"
     ]
    },
    {
     "name": "stderr",
     "output_type": "stream",
     "text": [
      "Training (5018 / 18000 Steps) (loss=0.66706): 100%|██████████| 21/21 [01:06<00:00,  3.17s/it]\n",
      "Training (5039 / 18000 Steps) (loss=0.66968): 100%|██████████| 21/21 [00:21<00:00,  1.04s/it]\n",
      "Training (5060 / 18000 Steps) (loss=0.66708): 100%|██████████| 21/21 [00:27<00:00,  1.32s/it]\n",
      "Training (5081 / 18000 Steps) (loss=0.66784): 100%|██████████| 21/21 [00:28<00:00,  1.37s/it]\n",
      "Validate (5082 / 10 Steps): 100%|██████████| 8/8 [00:39<00:00,  4.89s/it]26<00:03,  1.19s/it]\n",
      "Training (5100 / 18000 Steps) (loss=0.22109):  90%|█████████ | 19/21 [01:05<00:26, 13.10s/it]"
     ]
    },
    {
     "name": "stdout",
     "output_type": "stream",
     "text": [
      "Model Was Not Saved ! Current Best Avg. Dice: 0.5054125189781189 Current Avg. Dice: 0.4917559325695038 Current Avg. tumor Dice: 0.5367686748504639 Current Avg. lymph Dice: 0.42049163579940796\n"
     ]
    },
    {
     "name": "stderr",
     "output_type": "stream",
     "text": [
      "Training (5102 / 18000 Steps) (loss=0.67212): 100%|██████████| 21/21 [01:06<00:00,  3.19s/it]\n",
      "Training (5123 / 18000 Steps) (loss=0.13350): 100%|██████████| 21/21 [00:27<00:00,  1.29s/it]\n",
      "Training (5144 / 18000 Steps) (loss=0.65533): 100%|██████████| 21/21 [00:22<00:00,  1.08s/it]\n",
      "Training (5165 / 18000 Steps) (loss=0.19307): 100%|██████████| 21/21 [00:25<00:00,  1.21s/it]\n",
      "Training (5186 / 18000 Steps) (loss=0.47524): 100%|██████████| 21/21 [00:30<00:00,  1.47s/it]\n",
      "Validate (5187 / 10 Steps): 100%|██████████| 8/8 [00:38<00:00,  4.79s/it]24<00:08,  1.04s/it]\n",
      "Training (5200 / 18000 Steps) (loss=0.39429):  67%|██████▋   | 14/21 [01:03<01:27, 12.47s/it]"
     ]
    },
    {
     "name": "stdout",
     "output_type": "stream",
     "text": [
      "Model Was Not Saved ! Current Best Avg. Dice: 0.5054125189781189 Current Avg. Dice: 0.48505228757858276 Current Avg. tumor Dice: 0.5159618854522705 Current Avg. lymph Dice: 0.43088820576667786\n"
     ]
    },
    {
     "name": "stderr",
     "output_type": "stream",
     "text": [
      "Training (5207 / 18000 Steps) (loss=0.18236): 100%|██████████| 21/21 [01:07<00:00,  3.21s/it]\n",
      "Training (5228 / 18000 Steps) (loss=0.20749): 100%|██████████| 21/21 [00:29<00:00,  1.39s/it]\n",
      "Training (5249 / 18000 Steps) (loss=0.66793): 100%|██████████| 21/21 [00:26<00:00,  1.25s/it]\n",
      "Training (5270 / 18000 Steps) (loss=0.51985): 100%|██████████| 21/21 [00:24<00:00,  1.15s/it]\n",
      "Training (5291 / 18000 Steps) (loss=0.37786): 100%|██████████| 21/21 [00:33<00:00,  1.58s/it]\n",
      "Validate (5292 / 10 Steps): 100%|██████████| 8/8 [00:37<00:00,  4.66s/it]2<00:13,  1.00s/it]\n",
      "Training (5300 / 18000 Steps) (loss=0.54437):  43%|████▎     | 9/21 [00:59<02:41, 13.49s/it]"
     ]
    },
    {
     "name": "stdout",
     "output_type": "stream",
     "text": [
      "Model Was Not Saved ! Current Best Avg. Dice: 0.5054125189781189 Current Avg. Dice: 0.4721302390098572 Current Avg. tumor Dice: 0.49928760528564453 Current Avg. lymph Dice: 0.416641503572464\n"
     ]
    },
    {
     "name": "stderr",
     "output_type": "stream",
     "text": [
      "Training (5312 / 18000 Steps) (loss=0.66993): 100%|██████████| 21/21 [01:07<00:00,  3.19s/it]\n",
      "Training (5333 / 18000 Steps) (loss=0.66707): 100%|██████████| 21/21 [00:29<00:00,  1.42s/it]\n",
      "Training (5354 / 18000 Steps) (loss=0.66745): 100%|██████████| 21/21 [00:27<00:00,  1.30s/it]\n",
      "Training (5375 / 18000 Steps) (loss=0.61229): 100%|██████████| 21/21 [00:25<00:00,  1.24s/it]\n",
      "Training (5396 / 18000 Steps) (loss=0.15825): 100%|██████████| 21/21 [00:33<00:00,  1.58s/it]\n",
      "Validate (5397 / 10 Steps): 100%|██████████| 8/8 [00:43<00:00,  5.46s/it]2<00:52,  2.92s/it]\n",
      "Training (5400 / 18000 Steps) (loss=0.24832):  19%|█▉        | 4/21 [00:56<05:27, 19.28s/it]"
     ]
    },
    {
     "name": "stdout",
     "output_type": "stream",
     "text": [
      "Model Was Not Saved ! Current Best Avg. Dice: 0.5054125189781189 Current Avg. Dice: 0.46388885378837585 Current Avg. tumor Dice: 0.5008261799812317 Current Avg. lymph Dice: 0.4054204821586609\n"
     ]
    },
    {
     "name": "stderr",
     "output_type": "stream",
     "text": [
      "Training (5417 / 18000 Steps) (loss=0.56803): 100%|██████████| 21/21 [01:06<00:00,  3.15s/it]\n",
      "Training (5438 / 18000 Steps) (loss=0.62430): 100%|██████████| 21/21 [00:35<00:00,  1.69s/it]\n",
      "Training (5459 / 18000 Steps) (loss=0.61306): 100%|██████████| 21/21 [00:18<00:00,  1.13it/s]\n",
      "Training (5480 / 18000 Steps) (loss=0.20510): 100%|██████████| 21/21 [00:30<00:00,  1.43s/it]\n",
      "Validate (5481 / 10 Steps): 100%|██████████| 8/8 [00:36<00:00,  4.62s/it]29<00:02,  1.18s/it]\n",
      "Training (5500 / 18000 Steps) (loss=0.30545):  95%|█████████▌| 20/21 [01:08<00:12, 12.68s/it]"
     ]
    },
    {
     "name": "stdout",
     "output_type": "stream",
     "text": [
      "Model Was Saved ! Current Best Avg. Dice: 0.5242412090301514 Current Avg. Dice: 0.5242412090301514 Current Avg. tumor Dice: 0.5570732355117798 Current Avg. lymph Dice: 0.4717860817909241\n"
     ]
    },
    {
     "name": "stderr",
     "output_type": "stream",
     "text": [
      "Training (5501 / 18000 Steps) (loss=0.41081): 100%|██████████| 21/21 [01:09<00:00,  3.30s/it]\n",
      "Training (5522 / 18000 Steps) (loss=0.66738): 100%|██████████| 21/21 [00:31<00:00,  1.48s/it]\n",
      "Training (5543 / 18000 Steps) (loss=0.65471): 100%|██████████| 21/21 [00:25<00:00,  1.24s/it]\n",
      "Training (5564 / 18000 Steps) (loss=0.27538): 100%|██████████| 21/21 [00:22<00:00,  1.09s/it]\n",
      "Training (5585 / 18000 Steps) (loss=0.66763): 100%|██████████| 21/21 [00:27<00:00,  1.30s/it]\n",
      "Validate (5586 / 10 Steps): 100%|██████████| 8/8 [00:40<00:00,  5.07s/it]22<00:06,  1.12it/s]\n",
      "Training (5600 / 18000 Steps) (loss=0.38126):  71%|███████▏  | 15/21 [01:03<01:18, 13.10s/it]"
     ]
    },
    {
     "name": "stdout",
     "output_type": "stream",
     "text": [
      "Model Was Not Saved ! Current Best Avg. Dice: 0.5242412090301514 Current Avg. Dice: 0.5006139874458313 Current Avg. tumor Dice: 0.5511742234230042 Current Avg. lymph Dice: 0.4291309714317322\n"
     ]
    },
    {
     "name": "stderr",
     "output_type": "stream",
     "text": [
      "Training (5606 / 18000 Steps) (loss=0.65379): 100%|██████████| 21/21 [01:06<00:00,  3.19s/it]\n",
      "Training (5627 / 18000 Steps) (loss=0.56561): 100%|██████████| 21/21 [00:30<00:00,  1.46s/it]\n",
      "Training (5648 / 18000 Steps) (loss=0.32383): 100%|██████████| 21/21 [00:28<00:00,  1.36s/it]\n",
      "Training (5669 / 18000 Steps) (loss=0.66788): 100%|██████████| 21/21 [00:21<00:00,  1.04s/it]\n",
      "Training (5690 / 18000 Steps) (loss=0.65588): 100%|██████████| 21/21 [00:27<00:00,  1.30s/it]\n",
      "Validate (5691 / 10 Steps): 100%|██████████| 8/8 [00:41<00:00,  5.16s/it]0<00:22,  1.89s/it]\n",
      "Training (5700 / 18000 Steps) (loss=0.52642):  48%|████▊     | 10/21 [01:02<02:36, 14.24s/it]"
     ]
    },
    {
     "name": "stdout",
     "output_type": "stream",
     "text": [
      "Model Was Not Saved ! Current Best Avg. Dice: 0.5242412090301514 Current Avg. Dice: 0.5231031179428101 Current Avg. tumor Dice: 0.5546171069145203 Current Avg. lymph Dice: 0.47417470812797546\n"
     ]
    },
    {
     "name": "stderr",
     "output_type": "stream",
     "text": [
      "Training (5711 / 18000 Steps) (loss=0.35618): 100%|██████████| 21/21 [01:08<00:00,  3.28s/it]\n",
      "Training (5732 / 18000 Steps) (loss=0.24995): 100%|██████████| 21/21 [00:31<00:00,  1.48s/it]\n",
      "Training (5753 / 18000 Steps) (loss=0.14454): 100%|██████████| 21/21 [00:28<00:00,  1.34s/it]\n",
      "Training (5774 / 18000 Steps) (loss=0.66716): 100%|██████████| 21/21 [00:21<00:00,  1.04s/it]\n",
      "Training (5795 / 18000 Steps) (loss=0.17202): 100%|██████████| 21/21 [00:26<00:00,  1.27s/it]\n",
      "Validate (5796 / 10 Steps): 100%|██████████| 8/8 [00:39<00:00,  4.89s/it]6<00:43,  2.55s/it]\n",
      "Training (5800 / 18000 Steps) (loss=0.35358):  24%|██▍       | 5/21 [00:55<04:15, 15.97s/it]"
     ]
    },
    {
     "name": "stdout",
     "output_type": "stream",
     "text": [
      "Model Was Not Saved ! Current Best Avg. Dice: 0.5242412090301514 Current Avg. Dice: 0.47579270601272583 Current Avg. tumor Dice: 0.504408061504364 Current Avg. lymph Dice: 0.42484050989151\n"
     ]
    },
    {
     "name": "stderr",
     "output_type": "stream",
     "text": [
      "Training (5816 / 18000 Steps) (loss=0.45306): 100%|██████████| 21/21 [01:05<00:00,  3.10s/it]\n",
      "Training (5837 / 18000 Steps) (loss=0.66907): 100%|██████████| 21/21 [00:34<00:00,  1.64s/it]\n",
      "Training (5858 / 18000 Steps) (loss=0.47952): 100%|██████████| 21/21 [00:27<00:00,  1.32s/it]\n",
      "Training (5879 / 18000 Steps) (loss=0.30991): 100%|██████████| 21/21 [00:19<00:00,  1.06it/s]\n",
      "Validate (5880 / 10 Steps): 100%|██████████| 8/8 [00:35<00:00,  4.40s/it]29<00:00,  1.20it/s]\n",
      "Training (5900 / 18000 Steps) (loss=0.67317): 100%|██████████| 21/21 [01:04<00:00, 11.29s/it]"
     ]
    },
    {
     "name": "stdout",
     "output_type": "stream",
     "text": [
      "Model Was Not Saved ! Current Best Avg. Dice: 0.5242412090301514 Current Avg. Dice: 0.43131253123283386 Current Avg. tumor Dice: 0.4900573194026947 Current Avg. lymph Dice: 0.3422180712223053\n"
     ]
    },
    {
     "name": "stderr",
     "output_type": "stream",
     "text": [
      "Training (5900 / 18000 Steps) (loss=0.67317): 100%|██████████| 21/21 [01:04<00:00,  3.09s/it]\n",
      "Training (5921 / 18000 Steps) (loss=0.32579): 100%|██████████| 21/21 [00:26<00:00,  1.28s/it]\n",
      "Training (5942 / 18000 Steps) (loss=0.39440): 100%|██████████| 21/21 [00:31<00:00,  1.50s/it]\n",
      "Training (5963 / 18000 Steps) (loss=0.66737): 100%|██████████| 21/21 [00:29<00:00,  1.41s/it]\n",
      "Training (5984 / 18000 Steps) (loss=0.21563): 100%|██████████| 21/21 [00:23<00:00,  1.11s/it]\n",
      "Validate (5985 / 10 Steps): 100%|██████████| 8/8 [00:40<00:00,  5.04s/it]21<00:04,  1.38it/s]\n",
      "Training (6000 / 18000 Steps) (loss=0.26755):  76%|███████▌  | 16/21 [01:01<01:04, 12.84s/it]"
     ]
    },
    {
     "name": "stdout",
     "output_type": "stream",
     "text": [
      "Model Was Not Saved ! Current Best Avg. Dice: 0.5242412090301514 Current Avg. Dice: 0.5132113099098206 Current Avg. tumor Dice: 0.5202006101608276 Current Avg. lymph Dice: 0.47945359349250793\n"
     ]
    },
    {
     "name": "stderr",
     "output_type": "stream",
     "text": [
      "Training (6005 / 18000 Steps) (loss=0.76294): 100%|██████████| 21/21 [01:04<00:00,  3.07s/it]\n",
      "Training (6026 / 18000 Steps) (loss=0.41969): 100%|██████████| 21/21 [00:29<00:00,  1.43s/it]\n",
      "Training (6047 / 18000 Steps) (loss=0.21389): 100%|██████████| 21/21 [00:24<00:00,  1.18s/it]\n",
      "Training (6068 / 18000 Steps) (loss=0.42143): 100%|██████████| 21/21 [00:34<00:00,  1.63s/it]\n",
      "Training (6089 / 18000 Steps) (loss=0.29739): 100%|██████████| 21/21 [00:18<00:00,  1.15it/s]\n",
      "Validate (6090 / 10 Steps): 100%|██████████| 8/8 [00:42<00:00,  5.28s/it]16<00:12,  1.18s/it]\n",
      "Training (6100 / 18000 Steps) (loss=0.28016):  52%|█████▏    | 11/21 [00:58<02:19, 13.95s/it]"
     ]
    },
    {
     "name": "stdout",
     "output_type": "stream",
     "text": [
      "Model Was Not Saved ! Current Best Avg. Dice: 0.5242412090301514 Current Avg. Dice: 0.4760202467441559 Current Avg. tumor Dice: 0.5176145434379578 Current Avg. lymph Dice: 0.4054287374019623\n"
     ]
    },
    {
     "name": "stderr",
     "output_type": "stream",
     "text": [
      "Training (6110 / 18000 Steps) (loss=0.27266): 100%|██████████| 21/21 [01:04<00:00,  3.06s/it]\n",
      "Training (6131 / 18000 Steps) (loss=0.46422): 100%|██████████| 21/21 [00:28<00:00,  1.35s/it]\n",
      "Training (6152 / 18000 Steps) (loss=0.43420): 100%|██████████| 21/21 [00:27<00:00,  1.33s/it]\n",
      "Training (6173 / 18000 Steps) (loss=0.66698): 100%|██████████| 21/21 [00:29<00:00,  1.43s/it]\n",
      "Training (6194 / 18000 Steps) (loss=0.36885): 100%|██████████| 21/21 [00:23<00:00,  1.10s/it]\n",
      "Validate (6195 / 10 Steps): 100%|██████████| 8/8 [00:38<00:00,  4.85s/it]0<00:20,  1.30s/it]\n",
      "Training (6200 / 18000 Steps) (loss=0.23532):  29%|██▊       | 6/21 [00:49<03:34, 14.29s/it]"
     ]
    },
    {
     "name": "stdout",
     "output_type": "stream",
     "text": [
      "Model Was Not Saved ! Current Best Avg. Dice: 0.5242412090301514 Current Avg. Dice: 0.5102195739746094 Current Avg. tumor Dice: 0.5401567816734314 Current Avg. lymph Dice: 0.45200011134147644\n"
     ]
    },
    {
     "name": "stderr",
     "output_type": "stream",
     "text": [
      "Training (6215 / 18000 Steps) (loss=0.29441): 100%|██████████| 21/21 [00:57<00:00,  2.76s/it]\n",
      "Training (6236 / 18000 Steps) (loss=0.28394): 100%|██████████| 21/21 [00:32<00:00,  1.56s/it]\n",
      "Training (6257 / 18000 Steps) (loss=0.59905): 100%|██████████| 21/21 [00:34<00:00,  1.63s/it]\n",
      "Training (6278 / 18000 Steps) (loss=0.63548): 100%|██████████| 21/21 [00:28<00:00,  1.37s/it]\n",
      "Training (6299 / 18000 Steps) (loss=0.21805): 100%|██████████| 21/21 [00:28<00:00,  1.37s/it]\n",
      "Validate (6300 / 10 Steps): 100%|██████████| 8/8 [00:36<00:00,  4.60s/it]3<?, ?it/s]\n",
      "Training (6300 / 18000 Steps) (loss=0.19622):   5%|▍         | 1/21 [00:50<16:43, 50.17s/it]"
     ]
    },
    {
     "name": "stdout",
     "output_type": "stream",
     "text": [
      "Model Was Not Saved ! Current Best Avg. Dice: 0.5242412090301514 Current Avg. Dice: 0.4319932758808136 Current Avg. tumor Dice: 0.5046800374984741 Current Avg. lymph Dice: 0.32972002029418945\n"
     ]
    },
    {
     "name": "stderr",
     "output_type": "stream",
     "text": [
      "Training (6320 / 18000 Steps) (loss=0.71343): 100%|██████████| 21/21 [01:04<00:00,  3.08s/it]\n",
      "Training (6341 / 18000 Steps) (loss=0.27986): 100%|██████████| 21/21 [00:32<00:00,  1.55s/it]\n",
      "Training (6362 / 18000 Steps) (loss=0.66722): 100%|██████████| 21/21 [00:33<00:00,  1.60s/it]\n",
      "Training (6383 / 18000 Steps) (loss=0.66900): 100%|██████████| 21/21 [00:33<00:00,  1.59s/it]\n",
      "Validate (6384 / 10 Steps): 100%|██████████| 8/8 [00:37<00:00,  4.67s/it]23<00:03,  1.44it/s]\n",
      "Training (6400 / 18000 Steps) (loss=0.67343):  81%|████████  | 17/21 [01:00<00:48, 12.04s/it]"
     ]
    },
    {
     "name": "stdout",
     "output_type": "stream",
     "text": [
      "Model Was Not Saved ! Current Best Avg. Dice: 0.5242412090301514 Current Avg. Dice: 0.4653377830982208 Current Avg. tumor Dice: 0.5043753981590271 Current Avg. lymph Dice: 0.4096467196941376\n"
     ]
    },
    {
     "name": "stderr",
     "output_type": "stream",
     "text": [
      "Training (6404 / 18000 Steps) (loss=0.25993): 100%|██████████| 21/21 [01:02<00:00,  2.98s/it]\n",
      "Training (6425 / 18000 Steps) (loss=0.20378): 100%|██████████| 21/21 [00:29<00:00,  1.39s/it]\n",
      "Training (6446 / 18000 Steps) (loss=0.15696): 100%|██████████| 21/21 [00:27<00:00,  1.33s/it]\n",
      "Training (6467 / 18000 Steps) (loss=0.66716): 100%|██████████| 21/21 [00:27<00:00,  1.31s/it]\n",
      "Training (6488 / 18000 Steps) (loss=0.23128): 100%|██████████| 21/21 [00:23<00:00,  1.14s/it]\n",
      "Validate (6489 / 10 Steps): 100%|██████████| 8/8 [00:36<00:00,  4.56s/it]16<00:08,  1.18it/s]\n",
      "Training (6500 / 18000 Steps) (loss=0.44495):  57%|█████▋    | 12/21 [00:53<01:46, 11.87s/it]"
     ]
    },
    {
     "name": "stdout",
     "output_type": "stream",
     "text": [
      "Model Was Not Saved ! Current Best Avg. Dice: 0.5242412090301514 Current Avg. Dice: 0.4518359899520874 Current Avg. tumor Dice: 0.5319644808769226 Current Avg. lymph Dice: 0.34300467371940613\n"
     ]
    },
    {
     "name": "stderr",
     "output_type": "stream",
     "text": [
      "Training (6509 / 18000 Steps) (loss=0.29481): 100%|██████████| 21/21 [00:57<00:00,  2.76s/it]\n",
      "Training (6530 / 18000 Steps) (loss=0.67224): 100%|██████████| 21/21 [00:24<00:00,  1.17s/it]\n",
      "Training (6551 / 18000 Steps) (loss=0.24645): 100%|██████████| 21/21 [00:27<00:00,  1.31s/it]\n",
      "Training (6572 / 18000 Steps) (loss=0.38105): 100%|██████████| 21/21 [00:28<00:00,  1.35s/it]\n",
      "Training (6593 / 18000 Steps) (loss=0.66849): 100%|██████████| 21/21 [00:25<00:00,  1.21s/it]\n",
      "Validate (6594 / 10 Steps): 100%|██████████| 8/8 [00:38<00:00,  4.87s/it]1<00:14,  1.05it/s]\n",
      "Training (6600 / 18000 Steps) (loss=0.53581):  33%|███▎      | 7/21 [00:50<03:10, 13.58s/it]"
     ]
    },
    {
     "name": "stdout",
     "output_type": "stream",
     "text": [
      "Model Was Not Saved ! Current Best Avg. Dice: 0.5242412090301514 Current Avg. Dice: 0.43435901403427124 Current Avg. tumor Dice: 0.49298301339149475 Current Avg. lymph Dice: 0.3485691249370575\n"
     ]
    },
    {
     "name": "stderr",
     "output_type": "stream",
     "text": [
      "Training (6614 / 18000 Steps) (loss=0.59512): 100%|██████████| 21/21 [00:59<00:00,  2.83s/it]\n",
      "Training (6635 / 18000 Steps) (loss=0.15156): 100%|██████████| 21/21 [00:26<00:00,  1.28s/it]\n",
      "Training (6656 / 18000 Steps) (loss=0.57609): 100%|██████████| 21/21 [00:23<00:00,  1.11s/it]\n",
      "Training (6677 / 18000 Steps) (loss=0.52359): 100%|██████████| 21/21 [00:30<00:00,  1.44s/it]\n",
      "Training (6698 / 18000 Steps) (loss=0.44418): 100%|██████████| 21/21 [00:21<00:00,  1.00s/it]\n",
      "Validate (6699 / 10 Steps): 100%|██████████| 8/8 [00:39<00:00,  4.91s/it]9<02:49,  8.49s/it]\n",
      "Training (6700 / 18000 Steps) (loss=0.60049):  10%|▉         | 2/21 [00:48<08:33, 27.02s/it]"
     ]
    },
    {
     "name": "stdout",
     "output_type": "stream",
     "text": [
      "Model Was Not Saved ! Current Best Avg. Dice: 0.5242412090301514 Current Avg. Dice: 0.44201311469078064 Current Avg. tumor Dice: 0.5015891790390015 Current Avg. lymph Dice: 0.36333873867988586\n"
     ]
    },
    {
     "name": "stderr",
     "output_type": "stream",
     "text": [
      "Training (6719 / 18000 Steps) (loss=0.67063): 100%|██████████| 21/21 [00:59<00:00,  2.84s/it]\n",
      "Training (6740 / 18000 Steps) (loss=0.66724): 100%|██████████| 21/21 [00:27<00:00,  1.33s/it]\n",
      "Training (6761 / 18000 Steps) (loss=0.15711): 100%|██████████| 21/21 [00:28<00:00,  1.38s/it]\n",
      "Training (6782 / 18000 Steps) (loss=0.08886): 100%|██████████| 21/21 [00:25<00:00,  1.22s/it]\n",
      "Validate (6783 / 10 Steps): 100%|██████████| 8/8 [00:35<00:00,  4.46s/it]20<00:02,  1.67it/s]\n",
      "Training (6800 / 18000 Steps) (loss=0.31058):  86%|████████▌ | 18/21 [00:56<00:35, 11.72s/it]"
     ]
    },
    {
     "name": "stdout",
     "output_type": "stream",
     "text": [
      "Model Was Not Saved ! Current Best Avg. Dice: 0.5242412090301514 Current Avg. Dice: 0.4308893084526062 Current Avg. tumor Dice: 0.49187710881233215 Current Avg. lymph Dice: 0.33514484763145447\n"
     ]
    },
    {
     "name": "stderr",
     "output_type": "stream",
     "text": [
      "Training (6803 / 18000 Steps) (loss=0.64029): 100%|██████████| 21/21 [00:58<00:00,  2.77s/it]\n",
      "Training (6824 / 18000 Steps) (loss=0.66748): 100%|██████████| 21/21 [00:30<00:00,  1.44s/it]\n",
      "Training (6845 / 18000 Steps) (loss=0.42704): 100%|██████████| 21/21 [00:31<00:00,  1.49s/it]\n",
      "Training (6866 / 18000 Steps) (loss=0.16290): 100%|██████████| 21/21 [00:32<00:00,  1.53s/it]\n",
      "Training (6887 / 18000 Steps) (loss=0.15647): 100%|██████████| 21/21 [00:27<00:00,  1.30s/it]\n",
      "Validate (6888 / 10 Steps): 100%|██████████| 8/8 [00:36<00:00,  4.61s/it]18<00:08,  1.08it/s]\n",
      "Training (6900 / 18000 Steps) (loss=0.39447):  62%|██████▏   | 13/21 [00:55<01:35, 11.96s/it]"
     ]
    },
    {
     "name": "stdout",
     "output_type": "stream",
     "text": [
      "Model Was Not Saved ! Current Best Avg. Dice: 0.5242412090301514 Current Avg. Dice: 0.49051910638809204 Current Avg. tumor Dice: 0.5450347661972046 Current Avg. lymph Dice: 0.40681347250938416\n"
     ]
    },
    {
     "name": "stderr",
     "output_type": "stream",
     "text": [
      "Training (6908 / 18000 Steps) (loss=0.40722): 100%|██████████| 21/21 [01:00<00:00,  2.87s/it]\n",
      "Training (6929 / 18000 Steps) (loss=0.67311): 100%|██████████| 21/21 [00:27<00:00,  1.30s/it]\n",
      "Training (6950 / 18000 Steps) (loss=0.33857): 100%|██████████| 21/21 [00:28<00:00,  1.35s/it]\n",
      "Training (6971 / 18000 Steps) (loss=0.16072): 100%|██████████| 21/21 [00:30<00:00,  1.45s/it]\n",
      "Training (6992 / 18000 Steps) (loss=0.28976): 100%|██████████| 21/21 [00:28<00:00,  1.34s/it]\n",
      "Validate (6993 / 10 Steps): 100%|██████████| 8/8 [00:35<00:00,  4.47s/it]1<00:10,  1.29it/s]\n",
      "Training (7000 / 18000 Steps) (loss=0.28031):  38%|███▊      | 8/21 [00:47<02:37, 12.11s/it]"
     ]
    },
    {
     "name": "stdout",
     "output_type": "stream",
     "text": [
      "Model Was Not Saved ! Current Best Avg. Dice: 0.5242412090301514 Current Avg. Dice: 0.5169877409934998 Current Avg. tumor Dice: 0.5644561648368835 Current Avg. lymph Dice: 0.4386356770992279\n"
     ]
    },
    {
     "name": "stderr",
     "output_type": "stream",
     "text": [
      "Training (7013 / 18000 Steps) (loss=0.66699): 100%|██████████| 21/21 [00:55<00:00,  2.62s/it]\n",
      "Training (7034 / 18000 Steps) (loss=0.66855): 100%|██████████| 21/21 [00:26<00:00,  1.25s/it]\n",
      "Training (7055 / 18000 Steps) (loss=0.15483): 100%|██████████| 21/21 [00:26<00:00,  1.27s/it]\n",
      "Training (7076 / 18000 Steps) (loss=0.25797): 100%|██████████| 21/21 [00:33<00:00,  1.62s/it]\n",
      "Training (7097 / 18000 Steps) (loss=0.23383): 100%|██████████| 21/21 [00:30<00:00,  1.44s/it]\n",
      "Validate (7098 / 10 Steps): 100%|██████████| 8/8 [00:35<00:00,  4.48s/it]7<00:56,  2.98s/it]\n",
      "Training (7100 / 18000 Steps) (loss=0.67389):  14%|█▍        | 3/21 [00:43<05:32, 18.45s/it]"
     ]
    },
    {
     "name": "stdout",
     "output_type": "stream",
     "text": [
      "Model Was Not Saved ! Current Best Avg. Dice: 0.5242412090301514 Current Avg. Dice: 0.4164543151855469 Current Avg. tumor Dice: 0.47478771209716797 Current Avg. lymph Dice: 0.3317764401435852\n"
     ]
    },
    {
     "name": "stderr",
     "output_type": "stream",
     "text": [
      "Training (7118 / 18000 Steps) (loss=0.52044): 100%|██████████| 21/21 [00:54<00:00,  2.61s/it]\n",
      "Training (7139 / 18000 Steps) (loss=0.66738): 100%|██████████| 21/21 [00:24<00:00,  1.19s/it]\n",
      "Training (7160 / 18000 Steps) (loss=0.66692): 100%|██████████| 21/21 [00:29<00:00,  1.38s/it]\n",
      "Training (7181 / 18000 Steps) (loss=0.66732): 100%|██████████| 21/21 [00:29<00:00,  1.40s/it]\n",
      "Validate (7182 / 10 Steps): 100%|██████████| 8/8 [00:35<00:00,  4.47s/it]21<00:02,  1.33it/s]\n",
      "Training (7200 / 18000 Steps) (loss=0.40002):  90%|█████████ | 19/21 [00:56<00:22, 11.45s/it]"
     ]
    },
    {
     "name": "stdout",
     "output_type": "stream",
     "text": [
      "Model Was Not Saved ! Current Best Avg. Dice: 0.5242412090301514 Current Avg. Dice: 0.46147868037223816 Current Avg. tumor Dice: 0.4925120770931244 Current Avg. lymph Dice: 0.40018871426582336\n"
     ]
    },
    {
     "name": "stderr",
     "output_type": "stream",
     "text": [
      "Training (7202 / 18000 Steps) (loss=0.14269): 100%|██████████| 21/21 [00:57<00:00,  2.76s/it]\n",
      "Training (7223 / 18000 Steps) (loss=0.13489): 100%|██████████| 21/21 [00:27<00:00,  1.31s/it]\n",
      "Training (7244 / 18000 Steps) (loss=0.44157): 100%|██████████| 21/21 [00:26<00:00,  1.24s/it]\n",
      "Training (7265 / 18000 Steps) (loss=0.51691): 100%|██████████| 21/21 [00:28<00:00,  1.36s/it]\n",
      "Training (7286 / 18000 Steps) (loss=0.38640): 100%|██████████| 21/21 [00:35<00:00,  1.67s/it]\n",
      "Validate (7287 / 10 Steps): 100%|██████████| 8/8 [00:37<00:00,  4.70s/it]23<00:08,  1.06s/it]\n",
      "Training (7300 / 18000 Steps) (loss=0.66710):  67%|██████▋   | 14/21 [01:03<01:30, 12.86s/it]"
     ]
    },
    {
     "name": "stdout",
     "output_type": "stream",
     "text": [
      "Model Was Saved ! Current Best Avg. Dice: 0.5311847925186157 Current Avg. Dice: 0.5311847925186157 Current Avg. tumor Dice: 0.5561513304710388 Current Avg. lymph Dice: 0.48354241251945496\n"
     ]
    },
    {
     "name": "stderr",
     "output_type": "stream",
     "text": [
      "Training (7307 / 18000 Steps) (loss=0.11155): 100%|██████████| 21/21 [01:07<00:00,  3.20s/it]\n",
      "Training (7328 / 18000 Steps) (loss=0.66696): 100%|██████████| 21/21 [00:45<00:00,  2.18s/it]\n",
      "Training (7349 / 18000 Steps) (loss=0.22538): 100%|██████████| 21/21 [00:31<00:00,  1.51s/it]\n",
      "Training (7370 / 18000 Steps) (loss=0.14332): 100%|██████████| 21/21 [00:34<00:00,  1.62s/it]\n",
      "Training (7391 / 18000 Steps) (loss=0.12186): 100%|██████████| 21/21 [00:39<00:00,  1.87s/it]\n",
      "Validate (7392 / 10 Steps): 100%|██████████| 8/8 [00:41<00:00,  5.21s/it]4<00:13,  1.00s/it]\n",
      "Training (7400 / 18000 Steps) (loss=0.50599):  43%|████▎     | 9/21 [01:06<03:05, 15.46s/it]"
     ]
    },
    {
     "name": "stdout",
     "output_type": "stream",
     "text": [
      "Model Was Not Saved ! Current Best Avg. Dice: 0.5311847925186157 Current Avg. Dice: 0.44396546483039856 Current Avg. tumor Dice: 0.49157091975212097 Current Avg. lymph Dice: 0.3717520534992218\n"
     ]
    },
    {
     "name": "stderr",
     "output_type": "stream",
     "text": [
      "Training (7412 / 18000 Steps) (loss=0.66749): 100%|██████████| 21/21 [01:15<00:00,  3.61s/it]\n",
      "Training (7433 / 18000 Steps) (loss=0.67406): 100%|██████████| 21/21 [00:29<00:00,  1.42s/it]\n",
      "Training (7454 / 18000 Steps) (loss=0.66699): 100%|██████████| 21/21 [00:35<00:00,  1.68s/it]\n",
      "Training (7475 / 18000 Steps) (loss=0.66743): 100%|██████████| 21/21 [00:38<00:00,  1.82s/it]\n",
      "Training (7496 / 18000 Steps) (loss=0.16092): 100%|██████████| 21/21 [00:36<00:00,  1.73s/it]\n",
      "Validate (7497 / 10 Steps): 100%|██████████| 8/8 [00:38<00:00,  4.86s/it]6<01:09,  3.84s/it]\n",
      "Training (7500 / 18000 Steps) (loss=0.44549):  19%|█▉        | 4/21 [00:57<05:14, 18.49s/it]"
     ]
    },
    {
     "name": "stdout",
     "output_type": "stream",
     "text": [
      "Model Was Saved ! Current Best Avg. Dice: 0.5454341769218445 Current Avg. Dice: 0.5454341769218445 Current Avg. tumor Dice: 0.5759606957435608 Current Avg. lymph Dice: 0.4880014955997467\n"
     ]
    },
    {
     "name": "stderr",
     "output_type": "stream",
     "text": [
      "Training (7517 / 18000 Steps) (loss=0.66694): 100%|██████████| 21/21 [01:09<00:00,  3.30s/it]\n",
      "Training (7538 / 18000 Steps) (loss=0.13412): 100%|██████████| 21/21 [00:36<00:00,  1.73s/it]\n",
      "Training (7559 / 18000 Steps) (loss=0.67440): 100%|██████████| 21/21 [00:35<00:00,  1.67s/it]\n",
      "Training (7580 / 18000 Steps) (loss=0.22258): 100%|██████████| 21/21 [00:37<00:00,  1.79s/it]\n",
      "Validate (7581 / 10 Steps): 100%|██████████| 8/8 [00:40<00:00,  5.01s/it]35<00:03,  1.81s/it]\n",
      "Training (7600 / 18000 Steps) (loss=0.45361):  95%|█████████▌| 20/21 [01:15<00:13, 13.54s/it]"
     ]
    },
    {
     "name": "stdout",
     "output_type": "stream",
     "text": [
      "Model Was Not Saved ! Current Best Avg. Dice: 0.5454341769218445 Current Avg. Dice: 0.538902997970581 Current Avg. tumor Dice: 0.5612726807594299 Current Avg. lymph Dice: 0.4958283007144928\n"
     ]
    },
    {
     "name": "stderr",
     "output_type": "stream",
     "text": [
      "Training (7601 / 18000 Steps) (loss=0.66767): 100%|██████████| 21/21 [01:16<00:00,  3.64s/it]\n",
      "Training (7622 / 18000 Steps) (loss=0.36579): 100%|██████████| 21/21 [00:40<00:00,  1.93s/it]\n",
      "Training (7643 / 18000 Steps) (loss=0.66693): 100%|██████████| 21/21 [00:32<00:00,  1.57s/it]\n",
      "Training (7664 / 18000 Steps) (loss=0.66711): 100%|██████████| 21/21 [00:29<00:00,  1.40s/it]\n",
      "Training (7685 / 18000 Steps) (loss=0.26038): 100%|██████████| 21/21 [00:37<00:00,  1.80s/it]\n",
      "Validate (7686 / 10 Steps): 100%|██████████| 8/8 [00:41<00:00,  5.15s/it]30<00:08,  1.15s/it]\n",
      "Training (7700 / 18000 Steps) (loss=0.36097):  71%|███████▏  | 15/21 [01:11<01:21, 13.54s/it]"
     ]
    },
    {
     "name": "stdout",
     "output_type": "stream",
     "text": [
      "Model Was Not Saved ! Current Best Avg. Dice: 0.5454341769218445 Current Avg. Dice: 0.4960475265979767 Current Avg. tumor Dice: 0.5351008176803589 Current Avg. lymph Dice: 0.42688682675361633\n"
     ]
    },
    {
     "name": "stderr",
     "output_type": "stream",
     "text": [
      "Training (7706 / 18000 Steps) (loss=0.66995): 100%|██████████| 21/21 [01:15<00:00,  3.60s/it]\n",
      "Training (7727 / 18000 Steps) (loss=0.40946): 100%|██████████| 21/21 [00:40<00:00,  1.91s/it]\n",
      "Training (7748 / 18000 Steps) (loss=0.65839): 100%|██████████| 21/21 [00:28<00:00,  1.37s/it]\n",
      "Training (7769 / 18000 Steps) (loss=0.23158): 100%|██████████| 21/21 [00:40<00:00,  1.93s/it]\n",
      "Training (7790 / 18000 Steps) (loss=0.21204): 100%|██████████| 21/21 [00:23<00:00,  1.11s/it]\n",
      "Validate (7791 / 10 Steps): 100%|██████████| 8/8 [00:40<00:00,  5.03s/it]0<00:13,  1.14s/it]\n",
      "Training (7800 / 18000 Steps) (loss=0.66705):  48%|████▊     | 10/21 [01:00<02:30, 13.64s/it]"
     ]
    },
    {
     "name": "stdout",
     "output_type": "stream",
     "text": [
      "Model Was Not Saved ! Current Best Avg. Dice: 0.5454341769218445 Current Avg. Dice: 0.5119116902351379 Current Avg. tumor Dice: 0.557108461856842 Current Avg. lymph Dice: 0.43733516335487366\n"
     ]
    },
    {
     "name": "stderr",
     "output_type": "stream",
     "text": [
      "Training (7811 / 18000 Steps) (loss=0.56361): 100%|██████████| 21/21 [01:07<00:00,  3.23s/it]\n",
      "Training (7832 / 18000 Steps) (loss=0.11955): 100%|██████████| 21/21 [00:34<00:00,  1.65s/it]\n",
      "Training (7853 / 18000 Steps) (loss=0.17417): 100%|██████████| 21/21 [00:28<00:00,  1.36s/it]\n",
      "Training (7874 / 18000 Steps) (loss=0.13064): 100%|██████████| 21/21 [00:39<00:00,  1.86s/it]\n",
      "Training (7895 / 18000 Steps) (loss=0.66693): 100%|██████████| 21/21 [00:37<00:00,  1.80s/it]\n",
      "Validate (7896 / 10 Steps): 100%|██████████| 8/8 [00:45<00:00,  5.65s/it]4<00:39,  2.34s/it]\n",
      "Training (7900 / 18000 Steps) (loss=0.38862):  24%|██▍       | 5/21 [01:00<04:49, 18.12s/it]"
     ]
    },
    {
     "name": "stdout",
     "output_type": "stream",
     "text": [
      "Model Was Not Saved ! Current Best Avg. Dice: 0.5454341769218445 Current Avg. Dice: 0.3923650085926056 Current Avg. tumor Dice: 0.4343920946121216 Current Avg. lymph Dice: 0.34130796790122986\n"
     ]
    },
    {
     "name": "stderr",
     "output_type": "stream",
     "text": [
      "Training (7916 / 18000 Steps) (loss=0.28889): 100%|██████████| 21/21 [01:09<00:00,  3.32s/it]\n",
      "Training (7937 / 18000 Steps) (loss=0.66030): 100%|██████████| 21/21 [00:36<00:00,  1.75s/it]\n",
      "Training (7958 / 18000 Steps) (loss=0.13355): 100%|██████████| 21/21 [00:35<00:00,  1.67s/it]\n",
      "Training (7979 / 18000 Steps) (loss=0.66681): 100%|██████████| 21/21 [00:36<00:00,  1.75s/it]\n",
      "Validate (7980 / 10 Steps): 100%|██████████| 8/8 [00:37<00:00,  4.74s/it]38<00:01,  1.13s/it]\n",
      "Training (8000 / 18000 Steps) (loss=0.66895): 100%|██████████| 21/21 [01:16<00:00, 12.33s/it]"
     ]
    },
    {
     "name": "stdout",
     "output_type": "stream",
     "text": [
      "Model Was Not Saved ! Current Best Avg. Dice: 0.5454341769218445 Current Avg. Dice: 0.4413370192050934 Current Avg. tumor Dice: 0.44697105884552 Current Avg. lymph Dice: 0.4274134635925293\n"
     ]
    },
    {
     "name": "stderr",
     "output_type": "stream",
     "text": [
      "Training (8000 / 18000 Steps) (loss=0.66895): 100%|██████████| 21/21 [01:16<00:00,  3.66s/it]\n",
      "Training (8021 / 18000 Steps) (loss=0.65323): 100%|██████████| 21/21 [00:38<00:00,  1.83s/it]\n",
      "Training (8042 / 18000 Steps) (loss=0.13080): 100%|██████████| 21/21 [00:43<00:00,  2.05s/it]\n",
      "Training (8063 / 18000 Steps) (loss=0.49175): 100%|██████████| 21/21 [00:29<00:00,  1.40s/it]\n",
      "Training (8084 / 18000 Steps) (loss=0.66699): 100%|██████████| 21/21 [00:36<00:00,  1.74s/it]\n",
      "Validate (8085 / 10 Steps): 100%|██████████| 8/8 [00:37<00:00,  4.70s/it]30<00:05,  1.07it/s]\n",
      "Training (8100 / 18000 Steps) (loss=0.66693):  76%|███████▌  | 16/21 [01:08<01:00, 12.16s/it]"
     ]
    },
    {
     "name": "stdout",
     "output_type": "stream",
     "text": [
      "Model Was Not Saved ! Current Best Avg. Dice: 0.5454341769218445 Current Avg. Dice: 0.4470619559288025 Current Avg. tumor Dice: 0.5085621476173401 Current Avg. lymph Dice: 0.35568931698799133\n"
     ]
    },
    {
     "name": "stderr",
     "output_type": "stream",
     "text": [
      "Training (8105 / 18000 Steps) (loss=0.25300): 100%|██████████| 21/21 [01:11<00:00,  3.42s/it]\n",
      "Training (8126 / 18000 Steps) (loss=0.72203): 100%|██████████| 21/21 [00:38<00:00,  1.84s/it]\n",
      "Training (8147 / 18000 Steps) (loss=0.16357): 100%|██████████| 21/21 [00:38<00:00,  1.83s/it]\n",
      "Training (8168 / 18000 Steps) (loss=0.45405): 100%|██████████| 21/21 [00:32<00:00,  1.56s/it]\n",
      "Training (8189 / 18000 Steps) (loss=0.13738): 100%|██████████| 21/21 [00:40<00:00,  1.93s/it]\n",
      "Validate (8190 / 10 Steps): 100%|██████████| 8/8 [00:39<00:00,  4.88s/it]29<00:25,  2.35s/it]\n",
      "Training (8200 / 18000 Steps) (loss=0.65648):  52%|█████▏    | 11/21 [01:09<02:18, 13.80s/it]"
     ]
    },
    {
     "name": "stdout",
     "output_type": "stream",
     "text": [
      "Model Was Not Saved ! Current Best Avg. Dice: 0.5454341769218445 Current Avg. Dice: 0.537359893321991 Current Avg. tumor Dice: 0.5754274129867554 Current Avg. lymph Dice: 0.47704800963401794\n"
     ]
    },
    {
     "name": "stderr",
     "output_type": "stream",
     "text": [
      "Training (8210 / 18000 Steps) (loss=0.66763): 100%|██████████| 21/21 [01:14<00:00,  3.54s/it]\n",
      "Training (8231 / 18000 Steps) (loss=0.09684): 100%|██████████| 21/21 [00:36<00:00,  1.76s/it]\n",
      "Training (8252 / 18000 Steps) (loss=0.39152): 100%|██████████| 21/21 [00:32<00:00,  1.56s/it]\n",
      "Training (8273 / 18000 Steps) (loss=0.12804): 100%|██████████| 21/21 [00:39<00:00,  1.87s/it]\n",
      "Training (8294 / 18000 Steps) (loss=0.48042): 100%|██████████| 21/21 [00:38<00:00,  1.82s/it]\n",
      "Validate (8295 / 10 Steps): 100%|██████████| 8/8 [00:39<00:00,  5.00s/it]7<00:28,  1.80s/it]\n",
      "Training (8300 / 18000 Steps) (loss=0.43796):  29%|██▊       | 6/21 [00:57<03:45, 15.03s/it]"
     ]
    },
    {
     "name": "stdout",
     "output_type": "stream",
     "text": [
      "Model Was Not Saved ! Current Best Avg. Dice: 0.5454341769218445 Current Avg. Dice: 0.4250364303588867 Current Avg. tumor Dice: 0.5066515207290649 Current Avg. lymph Dice: 0.3104715943336487\n"
     ]
    },
    {
     "name": "stderr",
     "output_type": "stream",
     "text": [
      "Training (8315 / 18000 Steps) (loss=0.44569): 100%|██████████| 21/21 [01:06<00:00,  3.18s/it]\n",
      "Training (8336 / 18000 Steps) (loss=0.33178): 100%|██████████| 21/21 [00:36<00:00,  1.75s/it]\n",
      "Training (8357 / 18000 Steps) (loss=0.67581): 100%|██████████| 21/21 [00:32<00:00,  1.54s/it]\n",
      "Training (8378 / 18000 Steps) (loss=0.66686): 100%|██████████| 21/21 [00:32<00:00,  1.55s/it]\n",
      "Training (8399 / 18000 Steps) (loss=0.67364): 100%|██████████| 21/21 [00:38<00:00,  1.82s/it]\n",
      "Validate (8400 / 10 Steps): 100%|██████████| 8/8 [00:41<00:00,  5.19s/it]3<?, ?it/s]\n",
      "Training (8400 / 18000 Steps) (loss=0.41687):   5%|▍         | 1/21 [00:54<18:19, 54.99s/it]"
     ]
    },
    {
     "name": "stdout",
     "output_type": "stream",
     "text": [
      "Model Was Not Saved ! Current Best Avg. Dice: 0.5454341769218445 Current Avg. Dice: 0.5226073265075684 Current Avg. tumor Dice: 0.5242898464202881 Current Avg. lymph Dice: 0.5025104880332947\n"
     ]
    },
    {
     "name": "stderr",
     "output_type": "stream",
     "text": [
      "Training (8420 / 18000 Steps) (loss=0.66704): 100%|██████████| 21/21 [01:10<00:00,  3.36s/it]\n",
      "Training (8441 / 18000 Steps) (loss=0.44212): 100%|██████████| 21/21 [00:30<00:00,  1.46s/it]\n",
      "Training (8462 / 18000 Steps) (loss=0.67266): 100%|██████████| 21/21 [00:35<00:00,  1.67s/it]\n",
      "Training (8483 / 18000 Steps) (loss=0.66377): 100%|██████████| 21/21 [00:31<00:00,  1.48s/it]\n",
      "Validate (8484 / 10 Steps): 100%|██████████| 8/8 [00:40<00:00,  5.08s/it]34<00:03,  1.29it/s]\n",
      "Training (8500 / 18000 Steps) (loss=0.34957):  81%|████████  | 17/21 [01:15<00:53, 13.29s/it]"
     ]
    },
    {
     "name": "stdout",
     "output_type": "stream",
     "text": [
      "Model Was Not Saved ! Current Best Avg. Dice: 0.5454341769218445 Current Avg. Dice: 0.4505542814731598 Current Avg. tumor Dice: 0.4879104197025299 Current Avg. lymph Dice: 0.39299747347831726\n"
     ]
    },
    {
     "name": "stderr",
     "output_type": "stream",
     "text": [
      "Training (8504 / 18000 Steps) (loss=0.12059): 100%|██████████| 21/21 [01:17<00:00,  3.71s/it]\n",
      "Training (8525 / 18000 Steps) (loss=0.66682): 100%|██████████| 21/21 [00:35<00:00,  1.70s/it]\n",
      "Training (8546 / 18000 Steps) (loss=0.46634): 100%|██████████| 21/21 [00:36<00:00,  1.73s/it]\n",
      "Training (8567 / 18000 Steps) (loss=0.44661): 100%|██████████| 21/21 [00:33<00:00,  1.61s/it]\n",
      "Training (8588 / 18000 Steps) (loss=0.44282): 100%|██████████| 21/21 [00:28<00:00,  1.34s/it]\n",
      "Validate (8589 / 10 Steps): 100%|██████████| 8/8 [00:38<00:00,  4.82s/it]29<00:18,  1.81s/it]\n",
      "Training (8600 / 18000 Steps) (loss=0.44990):  57%|█████▋    | 12/21 [01:08<01:58, 13.19s/it]"
     ]
    },
    {
     "name": "stdout",
     "output_type": "stream",
     "text": [
      "Model Was Not Saved ! Current Best Avg. Dice: 0.5454341769218445 Current Avg. Dice: 0.42621734738349915 Current Avg. tumor Dice: 0.43977925181388855 Current Avg. lymph Dice: 0.40479135513305664\n"
     ]
    },
    {
     "name": "stderr",
     "output_type": "stream",
     "text": [
      "Training (8609 / 18000 Steps) (loss=0.11317): 100%|██████████| 21/21 [01:13<00:00,  3.49s/it]\n",
      "Training (8630 / 18000 Steps) (loss=0.31149): 100%|██████████| 21/21 [00:35<00:00,  1.69s/it]\n",
      "Training (8651 / 18000 Steps) (loss=0.39966): 100%|██████████| 21/21 [00:35<00:00,  1.69s/it]\n",
      "Training (8672 / 18000 Steps) (loss=0.66719): 100%|██████████| 21/21 [00:29<00:00,  1.43s/it]\n",
      "Training (8693 / 18000 Steps) (loss=0.39880): 100%|██████████| 21/21 [00:29<00:00,  1.41s/it]\n",
      "Validate (8694 / 10 Steps): 100%|██████████| 8/8 [00:41<00:00,  5.17s/it]5<00:20,  1.33s/it]\n",
      "Training (8700 / 18000 Steps) (loss=0.30024):  33%|███▎      | 7/21 [00:57<03:24, 14.64s/it]"
     ]
    },
    {
     "name": "stdout",
     "output_type": "stream",
     "text": [
      "Model Was Not Saved ! Current Best Avg. Dice: 0.5454341769218445 Current Avg. Dice: 0.5048162937164307 Current Avg. tumor Dice: 0.5436383485794067 Current Avg. lymph Dice: 0.436052531003952\n"
     ]
    },
    {
     "name": "stderr",
     "output_type": "stream",
     "text": [
      "Training (8714 / 18000 Steps) (loss=0.61886): 100%|██████████| 21/21 [01:06<00:00,  3.17s/it]\n",
      "Training (8735 / 18000 Steps) (loss=0.66682): 100%|██████████| 21/21 [00:32<00:00,  1.53s/it]\n",
      "Training (8756 / 18000 Steps) (loss=0.24402): 100%|██████████| 21/21 [00:37<00:00,  1.79s/it]\n",
      "Training (8777 / 18000 Steps) (loss=0.67611): 100%|██████████| 21/21 [00:21<00:00,  1.01s/it]\n",
      "Training (8798 / 18000 Steps) (loss=0.67240): 100%|██████████| 21/21 [00:34<00:00,  1.64s/it]\n",
      "Validate (8799 / 10 Steps): 100%|██████████| 8/8 [00:43<00:00,  5.45s/it]3<04:01, 12.05s/it]\n",
      "Training (8800 / 18000 Steps) (loss=0.27565):  10%|▉         | 2/21 [00:56<09:56, 31.39s/it]"
     ]
    },
    {
     "name": "stdout",
     "output_type": "stream",
     "text": [
      "Model Was Not Saved ! Current Best Avg. Dice: 0.5454341769218445 Current Avg. Dice: 0.5141467452049255 Current Avg. tumor Dice: 0.5415176153182983 Current Avg. lymph Dice: 0.468172550201416\n"
     ]
    },
    {
     "name": "stderr",
     "output_type": "stream",
     "text": [
      "Training (8819 / 18000 Steps) (loss=0.66728): 100%|██████████| 21/21 [01:08<00:00,  3.28s/it]\n",
      "Training (8840 / 18000 Steps) (loss=0.66715): 100%|██████████| 21/21 [00:34<00:00,  1.62s/it]\n",
      "Training (8861 / 18000 Steps) (loss=0.66698): 100%|██████████| 21/21 [00:37<00:00,  1.78s/it]\n",
      "Training (8882 / 18000 Steps) (loss=0.39833): 100%|██████████| 21/21 [00:27<00:00,  1.29s/it]\n",
      "Validate (8883 / 10 Steps): 100%|██████████| 8/8 [00:39<00:00,  4.91s/it]33<00:03,  1.09it/s]\n",
      "Training (8900 / 18000 Steps) (loss=0.42646):  86%|████████▌ | 18/21 [01:13<00:38, 12.73s/it]"
     ]
    },
    {
     "name": "stdout",
     "output_type": "stream",
     "text": [
      "Model Was Not Saved ! Current Best Avg. Dice: 0.5454341769218445 Current Avg. Dice: 0.49543407559394836 Current Avg. tumor Dice: 0.5208512544631958 Current Avg. lymph Dice: 0.44715604186058044\n"
     ]
    },
    {
     "name": "stderr",
     "output_type": "stream",
     "text": [
      "Training (8903 / 18000 Steps) (loss=0.66687): 100%|██████████| 21/21 [01:15<00:00,  3.60s/it]\n",
      "Training (8924 / 18000 Steps) (loss=0.17365): 100%|██████████| 21/21 [00:30<00:00,  1.45s/it]\n",
      "Training (8945 / 18000 Steps) (loss=0.36428): 100%|██████████| 21/21 [00:36<00:00,  1.72s/it]\n",
      "Training (8966 / 18000 Steps) (loss=0.70255): 100%|██████████| 21/21 [00:39<00:00,  1.86s/it]\n",
      "Training (8987 / 18000 Steps) (loss=0.66681): 100%|██████████| 21/21 [00:26<00:00,  1.27s/it]\n",
      "Validate (8988 / 10 Steps): 100%|██████████| 8/8 [00:35<00:00,  4.40s/it]30<00:17,  2.00s/it]\n",
      "Training (9000 / 18000 Steps) (loss=0.66694):  62%|██████▏   | 13/21 [01:05<01:38, 12.28s/it]"
     ]
    },
    {
     "name": "stdout",
     "output_type": "stream",
     "text": [
      "Model Was Not Saved ! Current Best Avg. Dice: 0.5454341769218445 Current Avg. Dice: 0.4825417101383209 Current Avg. tumor Dice: 0.5198162794113159 Current Avg. lymph Dice: 0.4124925136566162\n"
     ]
    },
    {
     "name": "stderr",
     "output_type": "stream",
     "text": [
      "Training (9008 / 18000 Steps) (loss=0.30154): 100%|██████████| 21/21 [01:10<00:00,  3.37s/it]\n",
      "Training (9029 / 18000 Steps) (loss=0.30625): 100%|██████████| 21/21 [00:33<00:00,  1.60s/it]\n",
      "Training (9050 / 18000 Steps) (loss=0.41565): 100%|██████████| 21/21 [00:37<00:00,  1.78s/it]\n",
      "Training (9071 / 18000 Steps) (loss=0.32716): 100%|██████████| 21/21 [00:36<00:00,  1.74s/it]\n",
      "Training (9092 / 18000 Steps) (loss=0.71159): 100%|██████████| 21/21 [00:26<00:00,  1.27s/it]\n",
      "Validate (9093 / 10 Steps): 100%|██████████| 8/8 [00:43<00:00,  5.41s/it]7<00:15,  1.14s/it]\n",
      "Training (9100 / 18000 Steps) (loss=0.15762):  38%|███▊      | 8/21 [01:00<03:12, 14.82s/it]"
     ]
    },
    {
     "name": "stdout",
     "output_type": "stream",
     "text": [
      "Model Was Not Saved ! Current Best Avg. Dice: 0.5454341769218445 Current Avg. Dice: 0.5218079686164856 Current Avg. tumor Dice: 0.5538796782493591 Current Avg. lymph Dice: 0.46629807353019714\n"
     ]
    },
    {
     "name": "stderr",
     "output_type": "stream",
     "text": [
      "Training (9113 / 18000 Steps) (loss=0.35454): 100%|██████████| 21/21 [01:10<00:00,  3.34s/it]\n",
      "Training (9134 / 18000 Steps) (loss=0.14175): 100%|██████████| 21/21 [00:32<00:00,  1.56s/it]\n",
      "Training (9155 / 18000 Steps) (loss=0.54238): 100%|██████████| 21/21 [00:32<00:00,  1.52s/it]\n",
      "Training (9176 / 18000 Steps) (loss=0.27891): 100%|██████████| 21/21 [00:19<00:00,  1.07it/s]\n",
      "Training (9197 / 18000 Steps) (loss=0.66708): 100%|██████████| 21/21 [00:30<00:00,  1.45s/it]\n",
      "Validate (9198 / 10 Steps): 100%|██████████| 8/8 [00:42<00:00,  5.27s/it]5<01:55,  6.10s/it]\n",
      "Training (9200 / 18000 Steps) (loss=0.66752):  14%|█▍        | 3/21 [00:57<06:52, 22.89s/it]"
     ]
    },
    {
     "name": "stdout",
     "output_type": "stream",
     "text": [
      "Model Was Not Saved ! Current Best Avg. Dice: 0.5454341769218445 Current Avg. Dice: 0.48510506749153137 Current Avg. tumor Dice: 0.5180988907814026 Current Avg. lymph Dice: 0.4267031252384186\n"
     ]
    },
    {
     "name": "stderr",
     "output_type": "stream",
     "text": [
      "Training (9218 / 18000 Steps) (loss=0.14552): 100%|██████████| 21/21 [01:10<00:00,  3.37s/it]\n",
      "Training (9239 / 18000 Steps) (loss=0.39399): 100%|██████████| 21/21 [00:35<00:00,  1.69s/it]\n",
      "Training (9260 / 18000 Steps) (loss=0.66740): 100%|██████████| 21/21 [00:27<00:00,  1.29s/it]\n",
      "Training (9281 / 18000 Steps) (loss=0.10494): 100%|██████████| 21/21 [00:32<00:00,  1.53s/it]\n",
      "Validate (9282 / 10 Steps): 100%|██████████| 8/8 [00:41<00:00,  5.13s/it]31<00:05,  1.92s/it]\n",
      "Training (9300 / 18000 Steps) (loss=0.21761):  90%|█████████ | 19/21 [01:12<00:27, 13.91s/it]"
     ]
    },
    {
     "name": "stdout",
     "output_type": "stream",
     "text": [
      "Model Was Not Saved ! Current Best Avg. Dice: 0.5454341769218445 Current Avg. Dice: 0.4678868055343628 Current Avg. tumor Dice: 0.5123735666275024 Current Avg. lymph Dice: 0.39725545048713684\n"
     ]
    },
    {
     "name": "stderr",
     "output_type": "stream",
     "text": [
      "Training (9302 / 18000 Steps) (loss=0.66974): 100%|██████████| 21/21 [01:14<00:00,  3.55s/it]\n",
      "Training (9323 / 18000 Steps) (loss=0.66683): 100%|██████████| 21/21 [00:31<00:00,  1.51s/it]\n",
      "Training (9344 / 18000 Steps) (loss=0.28213): 100%|██████████| 21/21 [00:34<00:00,  1.66s/it]\n",
      "Training (9365 / 18000 Steps) (loss=0.22056): 100%|██████████| 21/21 [00:33<00:00,  1.60s/it]\n",
      "Training (9386 / 18000 Steps) (loss=0.66739): 100%|██████████| 21/21 [00:31<00:00,  1.48s/it]\n",
      "Validate (9387 / 10 Steps): 100%|██████████| 8/8 [00:42<00:00,  5.37s/it]21<00:06,  1.24it/s]\n",
      "Training (9400 / 18000 Steps) (loss=0.43579):  67%|██████▋   | 14/21 [01:04<01:36, 13.72s/it]"
     ]
    },
    {
     "name": "stdout",
     "output_type": "stream",
     "text": [
      "Model Was Not Saved ! Current Best Avg. Dice: 0.5454341769218445 Current Avg. Dice: 0.5155462622642517 Current Avg. tumor Dice: 0.5350019335746765 Current Avg. lymph Dice: 0.47227761149406433\n"
     ]
    },
    {
     "name": "stderr",
     "output_type": "stream",
     "text": [
      "Training (9407 / 18000 Steps) (loss=0.21816): 100%|██████████| 21/21 [01:08<00:00,  3.27s/it]\n",
      "Training (9428 / 18000 Steps) (loss=0.21751): 100%|██████████| 21/21 [00:32<00:00,  1.56s/it]\n",
      "Training (9449 / 18000 Steps) (loss=0.66691): 100%|██████████| 21/21 [00:35<00:00,  1.71s/it]\n",
      "Training (9470 / 18000 Steps) (loss=0.12758): 100%|██████████| 21/21 [00:35<00:00,  1.70s/it]\n",
      "Training (9491 / 18000 Steps) (loss=0.66711): 100%|██████████| 21/21 [00:30<00:00,  1.46s/it]\n",
      "Validate (9492 / 10 Steps): 100%|██████████| 8/8 [00:41<00:00,  5.15s/it]6<00:10,  1.27it/s]\n",
      "Training (9500 / 18000 Steps) (loss=0.44364):  43%|████▎     | 9/21 [00:57<02:55, 14.61s/it]"
     ]
    },
    {
     "name": "stdout",
     "output_type": "stream",
     "text": [
      "Model Was Not Saved ! Current Best Avg. Dice: 0.5454341769218445 Current Avg. Dice: 0.46099960803985596 Current Avg. tumor Dice: 0.5027815103530884 Current Avg. lymph Dice: 0.3891453146934509\n"
     ]
    },
    {
     "name": "stderr",
     "output_type": "stream",
     "text": [
      "Training (9512 / 18000 Steps) (loss=0.66697): 100%|██████████| 21/21 [01:04<00:00,  3.06s/it]\n",
      "Training (9533 / 18000 Steps) (loss=0.53813): 100%|██████████| 21/21 [00:32<00:00,  1.55s/it]\n",
      "Training (9554 / 18000 Steps) (loss=0.18250): 100%|██████████| 21/21 [00:39<00:00,  1.86s/it]\n",
      "Training (9575 / 18000 Steps) (loss=0.43877): 100%|██████████| 21/21 [00:29<00:00,  1.40s/it]\n",
      "Training (9596 / 18000 Steps) (loss=0.41007): 100%|██████████| 21/21 [00:22<00:00,  1.08s/it]\n",
      "Validate (9597 / 10 Steps): 100%|██████████| 8/8 [00:43<00:00,  5.49s/it]3<00:56,  3.11s/it]\n",
      "Training (9600 / 18000 Steps) (loss=0.44422):  19%|█▉        | 4/21 [00:57<05:32, 19.55s/it]"
     ]
    },
    {
     "name": "stdout",
     "output_type": "stream",
     "text": [
      "Model Was Not Saved ! Current Best Avg. Dice: 0.5454341769218445 Current Avg. Dice: 0.39612099528312683 Current Avg. tumor Dice: 0.4783216714859009 Current Avg. lymph Dice: 0.28196075558662415\n"
     ]
    },
    {
     "name": "stderr",
     "output_type": "stream",
     "text": [
      "Training (9617 / 18000 Steps) (loss=0.26132): 100%|██████████| 21/21 [01:08<00:00,  3.25s/it]\n",
      "Training (9638 / 18000 Steps) (loss=0.18450): 100%|██████████| 21/21 [00:37<00:00,  1.76s/it]\n",
      "Training (9659 / 18000 Steps) (loss=0.66698): 100%|██████████| 21/21 [00:30<00:00,  1.44s/it]\n",
      "Training (9680 / 18000 Steps) (loss=0.19985): 100%|██████████| 21/21 [00:36<00:00,  1.75s/it]\n",
      "Validate (9681 / 10 Steps): 100%|██████████| 8/8 [00:37<00:00,  4.67s/it]29<00:01,  1.29it/s]\n",
      "Training (9700 / 18000 Steps) (loss=0.52318):  95%|█████████▌| 20/21 [01:07<00:11, 11.95s/it]"
     ]
    },
    {
     "name": "stdout",
     "output_type": "stream",
     "text": [
      "Model Was Not Saved ! Current Best Avg. Dice: 0.5454341769218445 Current Avg. Dice: 0.4786180257797241 Current Avg. tumor Dice: 0.5328903794288635 Current Avg. lymph Dice: 0.39257580041885376\n"
     ]
    },
    {
     "name": "stderr",
     "output_type": "stream",
     "text": [
      "Training (9701 / 18000 Steps) (loss=0.17318): 100%|██████████| 21/21 [01:07<00:00,  3.23s/it]\n",
      "Training (9722 / 18000 Steps) (loss=0.35237): 100%|██████████| 21/21 [00:35<00:00,  1.71s/it]\n",
      "Training (9743 / 18000 Steps) (loss=0.41310): 100%|██████████| 21/21 [00:28<00:00,  1.36s/it]\n",
      "Training (9764 / 18000 Steps) (loss=0.67424): 100%|██████████| 21/21 [00:37<00:00,  1.81s/it]\n",
      "Training (9785 / 18000 Steps) (loss=0.43767): 100%|██████████| 21/21 [00:41<00:00,  1.99s/it]\n",
      "Validate (9786 / 10 Steps): 100%|██████████| 8/8 [00:35<00:00,  4.48s/it]21<00:05,  1.19it/s]\n",
      "Training (9800 / 18000 Steps) (loss=0.44448):  71%|███████▏  | 15/21 [00:57<01:09, 11.59s/it]"
     ]
    },
    {
     "name": "stdout",
     "output_type": "stream",
     "text": [
      "Model Was Not Saved ! Current Best Avg. Dice: 0.5454341769218445 Current Avg. Dice: 0.47109273076057434 Current Avg. tumor Dice: 0.5258857011795044 Current Avg. lymph Dice: 0.39346837997436523\n"
     ]
    },
    {
     "name": "stderr",
     "output_type": "stream",
     "text": [
      "Training (9806 / 18000 Steps) (loss=0.60036): 100%|██████████| 21/21 [01:01<00:00,  2.91s/it]\n",
      "Training (9827 / 18000 Steps) (loss=0.40749): 100%|██████████| 21/21 [00:34<00:00,  1.62s/it]\n",
      "Training (9848 / 18000 Steps) (loss=0.16498): 100%|██████████| 21/21 [00:39<00:00,  1.90s/it]\n",
      "Training (9869 / 18000 Steps) (loss=0.39253): 100%|██████████| 21/21 [00:36<00:00,  1.72s/it]\n",
      "Training (9890 / 18000 Steps) (loss=0.15348): 100%|██████████| 21/21 [00:39<00:00,  1.90s/it]\n",
      "Validate (9891 / 10 Steps): 100%|██████████| 8/8 [00:39<00:00,  4.95s/it]5<00:13,  1.11s/it]\n",
      "Training (9900 / 18000 Steps) (loss=0.16185):  48%|████▊     | 10/21 [00:55<02:26, 13.30s/it]"
     ]
    },
    {
     "name": "stdout",
     "output_type": "stream",
     "text": [
      "Model Was Not Saved ! Current Best Avg. Dice: 0.5454341769218445 Current Avg. Dice: 0.5292453169822693 Current Avg. tumor Dice: 0.5674414038658142 Current Avg. lymph Dice: 0.47220155596733093\n"
     ]
    },
    {
     "name": "stderr",
     "output_type": "stream",
     "text": [
      "Training (9911 / 18000 Steps) (loss=0.40729): 100%|██████████| 21/21 [01:02<00:00,  2.97s/it]\n",
      "Training (9932 / 18000 Steps) (loss=0.66727): 100%|██████████| 21/21 [00:36<00:00,  1.74s/it]\n",
      "Training (9953 / 18000 Steps) (loss=0.11448): 100%|██████████| 21/21 [00:33<00:00,  1.57s/it]\n",
      "Training (9974 / 18000 Steps) (loss=0.52953): 100%|██████████| 21/21 [00:37<00:00,  1.77s/it]\n",
      "Training (9995 / 18000 Steps) (loss=0.40381): 100%|██████████| 21/21 [00:23<00:00,  1.10s/it]\n",
      "Validate (9996 / 10 Steps): 100%|██████████| 8/8 [00:43<00:00,  5.47s/it]10<00:27,  1.60s/it]\n",
      "Training (10000 / 18000 Steps) (loss=0.40156):  24%|██▍       | 5/21 [00:54<04:32, 17.03s/it]"
     ]
    },
    {
     "name": "stdout",
     "output_type": "stream",
     "text": [
      "Model Was Not Saved ! Current Best Avg. Dice: 0.5454341769218445 Current Avg. Dice: 0.4830695390701294 Current Avg. tumor Dice: 0.5134422779083252 Current Avg. lymph Dice: 0.422137588262558\n"
     ]
    },
    {
     "name": "stderr",
     "output_type": "stream",
     "text": [
      "Training (10016 / 18000 Steps) (loss=0.12236): 100%|██████████| 21/21 [01:04<00:00,  3.07s/it]\n",
      "Training (10037 / 18000 Steps) (loss=0.13339): 100%|██████████| 21/21 [00:35<00:00,  1.70s/it]\n",
      "Training (10058 / 18000 Steps) (loss=0.23871): 100%|██████████| 21/21 [00:35<00:00,  1.71s/it]\n",
      "Training (10079 / 18000 Steps) (loss=0.11185): 100%|██████████| 21/21 [00:33<00:00,  1.60s/it]\n",
      "Validate (10080 / 10 Steps): 100%|██████████| 8/8 [00:35<00:00,  4.42s/it]31<00:00,  1.16it/s]\n",
      "Training (10100 / 18000 Steps) (loss=0.66698): 100%|██████████| 21/21 [01:06<00:00, 11.33s/it]"
     ]
    },
    {
     "name": "stdout",
     "output_type": "stream",
     "text": [
      "Model Was Not Saved ! Current Best Avg. Dice: 0.5454341769218445 Current Avg. Dice: 0.5397880673408508 Current Avg. tumor Dice: 0.5687655210494995 Current Avg. lymph Dice: 0.48480096459388733\n"
     ]
    },
    {
     "name": "stderr",
     "output_type": "stream",
     "text": [
      "Training (10100 / 18000 Steps) (loss=0.66698): 100%|██████████| 21/21 [01:06<00:00,  3.18s/it]\n",
      "Training (10121 / 18000 Steps) (loss=0.66695): 100%|██████████| 21/21 [00:36<00:00,  1.73s/it]\n",
      "Training (10142 / 18000 Steps) (loss=0.14701): 100%|██████████| 21/21 [00:36<00:00,  1.76s/it]\n",
      "Training (10163 / 18000 Steps) (loss=0.29885): 100%|██████████| 21/21 [00:30<00:00,  1.46s/it]\n",
      "Training (10184 / 18000 Steps) (loss=0.66712): 100%|██████████| 21/21 [00:38<00:00,  1.82s/it]\n",
      "Validate (10185 / 10 Steps): 100%|██████████| 8/8 [00:37<00:00,  4.69s/it]27<00:04,  1.45it/s]\n",
      "Training (10200 / 18000 Steps) (loss=0.31758):  76%|███████▌  | 16/21 [01:05<00:59, 11.97s/it]"
     ]
    },
    {
     "name": "stdout",
     "output_type": "stream",
     "text": [
      "Model Was Not Saved ! Current Best Avg. Dice: 0.5454341769218445 Current Avg. Dice: 0.48808753490448 Current Avg. tumor Dice: 0.5331416726112366 Current Avg. lymph Dice: 0.41461244225502014\n"
     ]
    },
    {
     "name": "stderr",
     "output_type": "stream",
     "text": [
      "Training (10205 / 18000 Steps) (loss=0.33920): 100%|██████████| 21/21 [01:08<00:00,  3.25s/it]\n",
      "Training (10226 / 18000 Steps) (loss=0.29337): 100%|██████████| 21/21 [00:33<00:00,  1.59s/it]\n",
      "Training (10247 / 18000 Steps) (loss=0.66786): 100%|██████████| 21/21 [00:31<00:00,  1.49s/it]\n",
      "Training (10268 / 18000 Steps) (loss=0.66786): 100%|██████████| 21/21 [00:36<00:00,  1.75s/it]\n",
      "Training (10289 / 18000 Steps) (loss=0.66687): 100%|██████████| 21/21 [00:36<00:00,  1.74s/it]\n",
      "Validate (10290 / 10 Steps): 100%|██████████| 8/8 [00:37<00:00,  4.67s/it]27<00:18,  1.68s/it]\n",
      "Training (10300 / 18000 Steps) (loss=0.44326):  52%|█████▏    | 11/21 [01:05<02:07, 12.78s/it]"
     ]
    },
    {
     "name": "stdout",
     "output_type": "stream",
     "text": [
      "Model Was Not Saved ! Current Best Avg. Dice: 0.5454341769218445 Current Avg. Dice: 0.540032684803009 Current Avg. tumor Dice: 0.577187716960907 Current Avg. lymph Dice: 0.4764464199542999\n"
     ]
    },
    {
     "name": "stderr",
     "output_type": "stream",
     "text": [
      "Training (10310 / 18000 Steps) (loss=0.66706): 100%|██████████| 21/21 [01:10<00:00,  3.37s/it]\n",
      "Training (10331 / 18000 Steps) (loss=0.66912): 100%|██████████| 21/21 [00:32<00:00,  1.54s/it]\n",
      "Training (10352 / 18000 Steps) (loss=0.38321): 100%|██████████| 21/21 [00:33<00:00,  1.62s/it]\n",
      "Training (10373 / 18000 Steps) (loss=0.21253): 100%|██████████| 21/21 [00:36<00:00,  1.73s/it]\n",
      "Training (10394 / 18000 Steps) (loss=0.66675): 100%|██████████| 21/21 [00:32<00:00,  1.53s/it]\n",
      "Validate (10395 / 10 Steps): 100%|██████████| 8/8 [00:38<00:00,  4.83s/it]6<00:31,  1.99s/it]\n",
      "Training (10400 / 18000 Steps) (loss=0.42914):  29%|██▊       | 6/21 [00:55<03:41, 14.77s/it]"
     ]
    },
    {
     "name": "stdout",
     "output_type": "stream",
     "text": [
      "Model Was Not Saved ! Current Best Avg. Dice: 0.5454341769218445 Current Avg. Dice: 0.49810847640037537 Current Avg. tumor Dice: 0.502502977848053 Current Avg. lymph Dice: 0.47536230087280273\n"
     ]
    },
    {
     "name": "stderr",
     "output_type": "stream",
     "text": [
      "Training (10415 / 18000 Steps) (loss=0.38653): 100%|██████████| 21/21 [01:05<00:00,  3.10s/it]\n",
      "Training (10436 / 18000 Steps) (loss=0.54789): 100%|██████████| 21/21 [00:38<00:00,  1.82s/it]\n",
      "Training (10457 / 18000 Steps) (loss=0.47554): 100%|██████████| 21/21 [00:37<00:00,  1.78s/it]\n",
      "Training (10478 / 18000 Steps) (loss=0.66681): 100%|██████████| 21/21 [00:35<00:00,  1.70s/it]\n",
      "Training (10499 / 18000 Steps) (loss=0.66949): 100%|██████████| 21/21 [00:31<00:00,  1.52s/it]\n",
      "Validate (10500 / 10 Steps): 100%|██████████| 8/8 [00:41<00:00,  5.16s/it]8<?, ?it/s]\n",
      "Training (10500 / 18000 Steps) (loss=0.50345):   5%|▍         | 1/21 [00:49<16:35, 49.76s/it]"
     ]
    },
    {
     "name": "stdout",
     "output_type": "stream",
     "text": [
      "Model Was Not Saved ! Current Best Avg. Dice: 0.5454341769218445 Current Avg. Dice: 0.5182048678398132 Current Avg. tumor Dice: 0.5045098066329956 Current Avg. lymph Dice: 0.5145888924598694\n"
     ]
    },
    {
     "name": "stderr",
     "output_type": "stream",
     "text": [
      "Training (10520 / 18000 Steps) (loss=0.22116): 100%|██████████| 21/21 [01:01<00:00,  2.95s/it]\n",
      "Training (10541 / 18000 Steps) (loss=0.59611): 100%|██████████| 21/21 [00:35<00:00,  1.69s/it]\n",
      "Training (10562 / 18000 Steps) (loss=0.66815): 100%|██████████| 21/21 [00:32<00:00,  1.54s/it]\n",
      "Training (10583 / 18000 Steps) (loss=0.42821): 100%|██████████| 21/21 [00:36<00:00,  1.74s/it]\n",
      "Validate (10584 / 10 Steps): 100%|██████████| 8/8 [00:39<00:00,  4.95s/it]34<00:04,  1.08it/s]\n",
      "Training (10600 / 18000 Steps) (loss=0.26065):  81%|████████  | 17/21 [01:14<00:54, 13.68s/it]"
     ]
    },
    {
     "name": "stdout",
     "output_type": "stream",
     "text": [
      "Model Was Not Saved ! Current Best Avg. Dice: 0.5454341769218445 Current Avg. Dice: 0.5235450863838196 Current Avg. tumor Dice: 0.5441522002220154 Current Avg. lymph Dice: 0.4767360985279083\n"
     ]
    },
    {
     "name": "stderr",
     "output_type": "stream",
     "text": [
      "Training (10604 / 18000 Steps) (loss=0.54371): 100%|██████████| 21/21 [01:16<00:00,  3.64s/it]\n",
      "Training (10625 / 18000 Steps) (loss=0.66756): 100%|██████████| 21/21 [00:35<00:00,  1.69s/it]\n",
      "Training (10646 / 18000 Steps) (loss=0.42594): 100%|██████████| 21/21 [00:29<00:00,  1.41s/it]\n",
      "Training (10667 / 18000 Steps) (loss=0.19692): 100%|██████████| 21/21 [00:37<00:00,  1.80s/it]\n",
      "Training (10688 / 18000 Steps) (loss=0.66719): 100%|██████████| 21/21 [00:33<00:00,  1.59s/it]\n",
      "Validate (10689 / 10 Steps): 100%|██████████| 8/8 [00:43<00:00,  5.43s/it]26<00:17,  1.73s/it]\n",
      "Training (10700 / 18000 Steps) (loss=0.13323):  57%|█████▋    | 12/21 [01:10<02:11, 14.60s/it]"
     ]
    },
    {
     "name": "stdout",
     "output_type": "stream",
     "text": [
      "Model Was Not Saved ! Current Best Avg. Dice: 0.5454341769218445 Current Avg. Dice: 0.5302481651306152 Current Avg. tumor Dice: 0.560779333114624 Current Avg. lymph Dice: 0.4708774983882904\n"
     ]
    },
    {
     "name": "stderr",
     "output_type": "stream",
     "text": [
      "Training (10709 / 18000 Steps) (loss=0.66691): 100%|██████████| 21/21 [01:14<00:00,  3.55s/it]\n",
      "Training (10730 / 18000 Steps) (loss=0.21343): 100%|██████████| 21/21 [00:29<00:00,  1.42s/it]\n",
      "Training (10751 / 18000 Steps) (loss=0.17104): 100%|██████████| 21/21 [00:35<00:00,  1.67s/it]\n",
      "Training (10772 / 18000 Steps) (loss=0.21654): 100%|██████████| 21/21 [00:41<00:00,  1.97s/it]\n",
      "Training (10793 / 18000 Steps) (loss=0.68485): 100%|██████████| 21/21 [00:34<00:00,  1.66s/it]\n",
      "Validate (10794 / 10 Steps): 100%|██████████| 8/8 [00:43<00:00,  5.49s/it]5<00:18,  1.22s/it]\n",
      "Training (10800 / 18000 Steps) (loss=0.37185):  33%|███▎      | 7/21 [00:59<03:35, 15.39s/it]"
     ]
    },
    {
     "name": "stdout",
     "output_type": "stream",
     "text": [
      "Model Was Not Saved ! Current Best Avg. Dice: 0.5454341769218445 Current Avg. Dice: 0.49515634775161743 Current Avg. tumor Dice: 0.5268645882606506 Current Avg. lymph Dice: 0.4384922385215759\n"
     ]
    },
    {
     "name": "stderr",
     "output_type": "stream",
     "text": [
      "Training (10814 / 18000 Steps) (loss=0.67035): 100%|██████████| 21/21 [01:07<00:00,  3.23s/it]\n",
      "Training (10835 / 18000 Steps) (loss=0.31217): 100%|██████████| 21/21 [00:33<00:00,  1.60s/it]\n",
      "Training (10856 / 18000 Steps) (loss=0.66757): 100%|██████████| 21/21 [00:26<00:00,  1.26s/it]\n",
      "Training (10877 / 18000 Steps) (loss=0.20464): 100%|██████████| 21/21 [00:20<00:00,  1.04it/s]\n",
      "Training (10898 / 18000 Steps) (loss=0.67007): 100%|██████████| 21/21 [00:29<00:00,  1.39s/it]\n",
      "Validate (10899 / 10 Steps): 100%|██████████| 8/8 [00:40<00:00,  5.09s/it]9<02:58,  8.93s/it]\n",
      "Training (10900 / 18000 Steps) (loss=0.17535):  10%|▉         | 2/21 [00:50<08:55, 28.18s/it]"
     ]
    },
    {
     "name": "stdout",
     "output_type": "stream",
     "text": [
      "Model Was Not Saved ! Current Best Avg. Dice: 0.5454341769218445 Current Avg. Dice: 0.4650726318359375 Current Avg. tumor Dice: 0.4978574812412262 Current Avg. lymph Dice: 0.4076022505760193\n"
     ]
    },
    {
     "name": "stderr",
     "output_type": "stream",
     "text": [
      "Training (10919 / 18000 Steps) (loss=0.66684): 100%|██████████| 21/21 [01:01<00:00,  2.94s/it]\n",
      "Training (10940 / 18000 Steps) (loss=0.42233): 100%|██████████| 21/21 [00:27<00:00,  1.30s/it]\n",
      "Training (10961 / 18000 Steps) (loss=0.25578): 100%|██████████| 21/21 [00:28<00:00,  1.36s/it]\n",
      "Training (10982 / 18000 Steps) (loss=0.45090): 100%|██████████| 21/21 [00:20<00:00,  1.00it/s]\n",
      "Validate (10983 / 10 Steps): 100%|██████████| 8/8 [00:37<00:00,  4.73s/it]23<00:05,  1.27s/it]\n",
      "Training (11000 / 18000 Steps) (loss=0.50461):  86%|████████▌ | 18/21 [01:01<00:37, 12.46s/it]"
     ]
    },
    {
     "name": "stdout",
     "output_type": "stream",
     "text": [
      "Model Was Not Saved ! Current Best Avg. Dice: 0.5454341769218445 Current Avg. Dice: 0.5089913606643677 Current Avg. tumor Dice: 0.5389827489852905 Current Avg. lymph Dice: 0.4496382176876068\n"
     ]
    },
    {
     "name": "stderr",
     "output_type": "stream",
     "text": [
      "Training (11003 / 18000 Steps) (loss=0.41812): 100%|██████████| 21/21 [01:03<00:00,  3.03s/it]\n",
      "Training (11024 / 18000 Steps) (loss=0.33578): 100%|██████████| 21/21 [00:32<00:00,  1.54s/it]\n",
      "Training (11045 / 18000 Steps) (loss=0.62192): 100%|██████████| 21/21 [00:24<00:00,  1.18s/it]\n",
      "Training (11066 / 18000 Steps) (loss=0.66705): 100%|██████████| 21/21 [00:30<00:00,  1.46s/it]\n",
      "Training (11087 / 18000 Steps) (loss=0.09030): 100%|██████████| 21/21 [00:22<00:00,  1.08s/it]\n",
      "Validate (11088 / 10 Steps): 100%|██████████| 8/8 [00:38<00:00,  4.81s/it]22<00:11,  1.25s/it]\n",
      "Training (11100 / 18000 Steps) (loss=0.41410):  62%|██████▏   | 13/21 [01:00<01:41, 12.73s/it]"
     ]
    },
    {
     "name": "stdout",
     "output_type": "stream",
     "text": [
      "Model Was Not Saved ! Current Best Avg. Dice: 0.5454341769218445 Current Avg. Dice: 0.47432422637939453 Current Avg. tumor Dice: 0.47264912724494934 Current Avg. lymph Dice: 0.45648860931396484\n"
     ]
    },
    {
     "name": "stderr",
     "output_type": "stream",
     "text": [
      "Training (11108 / 18000 Steps) (loss=0.66676): 100%|██████████| 21/21 [01:06<00:00,  3.15s/it]\n",
      "Training (11129 / 18000 Steps) (loss=0.28509): 100%|██████████| 21/21 [00:26<00:00,  1.27s/it]\n",
      "Training (11150 / 18000 Steps) (loss=0.16980): 100%|██████████| 21/21 [00:31<00:00,  1.51s/it]\n",
      "Training (11171 / 18000 Steps) (loss=0.66683): 100%|██████████| 21/21 [00:29<00:00,  1.39s/it]\n",
      "Training (11192 / 18000 Steps) (loss=0.66680): 100%|██████████| 21/21 [00:23<00:00,  1.13s/it]\n",
      "Validate (11193 / 10 Steps): 100%|██████████| 8/8 [00:39<00:00,  4.90s/it]4<00:14,  1.04s/it]\n",
      "Training (11200 / 18000 Steps) (loss=0.66454):  38%|███▊      | 8/21 [00:54<02:53, 13.37s/it]"
     ]
    },
    {
     "name": "stdout",
     "output_type": "stream",
     "text": [
      "Model Was Not Saved ! Current Best Avg. Dice: 0.5454341769218445 Current Avg. Dice: 0.4959997832775116 Current Avg. tumor Dice: 0.5128816366195679 Current Avg. lymph Dice: 0.45213884115219116\n"
     ]
    },
    {
     "name": "stderr",
     "output_type": "stream",
     "text": [
      "Training (11213 / 18000 Steps) (loss=0.50910): 100%|██████████| 21/21 [01:01<00:00,  2.92s/it]\n",
      "Training (11234 / 18000 Steps) (loss=0.13299): 100%|██████████| 21/21 [00:28<00:00,  1.38s/it]\n",
      "Training (11255 / 18000 Steps) (loss=0.66839): 100%|██████████| 21/21 [00:32<00:00,  1.54s/it]\n",
      "Training (11276 / 18000 Steps) (loss=0.66837): 100%|██████████| 21/21 [00:19<00:00,  1.09it/s]\n",
      "Training (11297 / 18000 Steps) (loss=0.20941): 100%|██████████| 21/21 [00:25<00:00,  1.21s/it]\n",
      "Validate (11298 / 10 Steps): 100%|██████████| 8/8 [00:39<00:00,  4.94s/it]1<01:22,  4.33s/it]\n",
      "Training (11300 / 18000 Steps) (loss=0.55222):  14%|█▍        | 3/21 [00:51<06:20, 21.16s/it]"
     ]
    },
    {
     "name": "stdout",
     "output_type": "stream",
     "text": [
      "Model Was Not Saved ! Current Best Avg. Dice: 0.5454341769218445 Current Avg. Dice: 0.4546891152858734 Current Avg. tumor Dice: 0.522767961025238 Current Avg. lymph Dice: 0.3574066758155823\n"
     ]
    },
    {
     "name": "stderr",
     "output_type": "stream",
     "text": [
      "Training (11318 / 18000 Steps) (loss=0.67189): 100%|██████████| 21/21 [01:01<00:00,  2.95s/it]\n",
      "Training (11339 / 18000 Steps) (loss=0.14648): 100%|██████████| 21/21 [00:27<00:00,  1.32s/it]\n",
      "Training (11360 / 18000 Steps) (loss=0.17493): 100%|██████████| 21/21 [00:28<00:00,  1.34s/it]\n",
      "Training (11381 / 18000 Steps) (loss=0.37191): 100%|██████████| 21/21 [00:24<00:00,  1.17s/it]\n",
      "Validate (11382 / 10 Steps): 100%|██████████| 8/8 [00:34<00:00,  4.31s/it]16<00:01,  1.82it/s]\n",
      "Training (11400 / 18000 Steps) (loss=0.67124):  90%|█████████ | 19/21 [00:51<00:21, 10.95s/it]"
     ]
    },
    {
     "name": "stdout",
     "output_type": "stream",
     "text": [
      "Model Was Not Saved ! Current Best Avg. Dice: 0.5454341769218445 Current Avg. Dice: 0.5093660950660706 Current Avg. tumor Dice: 0.5391174554824829 Current Avg. lymph Dice: 0.4541894793510437\n"
     ]
    },
    {
     "name": "stderr",
     "output_type": "stream",
     "text": [
      "Training (11402 / 18000 Steps) (loss=0.66691): 100%|██████████| 21/21 [00:52<00:00,  2.52s/it]\n",
      "Training (11423 / 18000 Steps) (loss=0.66885): 100%|██████████| 21/21 [00:26<00:00,  1.27s/it]\n",
      "Training (11444 / 18000 Steps) (loss=0.66680): 100%|██████████| 21/21 [00:32<00:00,  1.56s/it]\n",
      "Training (11465 / 18000 Steps) (loss=0.13852): 100%|██████████| 21/21 [00:28<00:00,  1.35s/it]\n",
      "Training (11486 / 18000 Steps) (loss=0.66708): 100%|██████████| 21/21 [00:27<00:00,  1.30s/it]\n",
      "Validate (11487 / 10 Steps): 100%|██████████| 8/8 [00:35<00:00,  4.38s/it]19<00:06,  1.25it/s]\n",
      "Training (11500 / 18000 Steps) (loss=0.43177):  67%|██████▋   | 14/21 [00:54<01:19, 11.32s/it]"
     ]
    },
    {
     "name": "stdout",
     "output_type": "stream",
     "text": [
      "Model Was Not Saved ! Current Best Avg. Dice: 0.5454341769218445 Current Avg. Dice: 0.46895644068717957 Current Avg. tumor Dice: 0.5051433444023132 Current Avg. lymph Dice: 0.4018271565437317\n"
     ]
    },
    {
     "name": "stderr",
     "output_type": "stream",
     "text": [
      "Training (11507 / 18000 Steps) (loss=0.14041): 100%|██████████| 21/21 [00:58<00:00,  2.77s/it]\n",
      "Training (11528 / 18000 Steps) (loss=0.33954): 100%|██████████| 21/21 [00:25<00:00,  1.22s/it]\n",
      "Training (11549 / 18000 Steps) (loss=0.34024): 100%|██████████| 21/21 [00:25<00:00,  1.20s/it]\n",
      "Training (11570 / 18000 Steps) (loss=0.16161): 100%|██████████| 21/21 [00:31<00:00,  1.51s/it]\n",
      "Training (11591 / 18000 Steps) (loss=0.38165): 100%|██████████| 21/21 [00:29<00:00,  1.39s/it]\n",
      "Validate (11592 / 10 Steps): 100%|██████████| 8/8 [00:37<00:00,  4.64s/it]3<00:09,  1.41it/s]\n",
      "Training (11600 / 18000 Steps) (loss=0.42955):  43%|████▎     | 9/21 [00:50<02:28, 12.41s/it]"
     ]
    },
    {
     "name": "stdout",
     "output_type": "stream",
     "text": [
      "Model Was Not Saved ! Current Best Avg. Dice: 0.5454341769218445 Current Avg. Dice: 0.4882998466491699 Current Avg. tumor Dice: 0.5515450835227966 Current Avg. lymph Dice: 0.3987816274166107\n"
     ]
    },
    {
     "name": "stderr",
     "output_type": "stream",
     "text": [
      "Training (11612 / 18000 Steps) (loss=0.22033): 100%|██████████| 21/21 [00:57<00:00,  2.74s/it]\n",
      "Training (11633 / 18000 Steps) (loss=0.23439): 100%|██████████| 21/21 [00:27<00:00,  1.30s/it]\n",
      "Training (11654 / 18000 Steps) (loss=0.14447): 100%|██████████| 21/21 [00:29<00:00,  1.39s/it]\n",
      "Training (11675 / 18000 Steps) (loss=0.12091): 100%|██████████| 21/21 [00:26<00:00,  1.27s/it]\n",
      "Training (11696 / 18000 Steps) (loss=0.20566): 100%|██████████| 21/21 [00:23<00:00,  1.13s/it]\n",
      "Validate (11697 / 10 Steps): 100%|██████████| 8/8 [00:40<00:00,  5.08s/it]9<00:39,  2.19s/it]\n",
      "Training (11700 / 18000 Steps) (loss=0.62541):  19%|█▉        | 4/21 [00:50<04:59, 17.61s/it]"
     ]
    },
    {
     "name": "stdout",
     "output_type": "stream",
     "text": [
      "Model Was Not Saved ! Current Best Avg. Dice: 0.5454341769218445 Current Avg. Dice: 0.4926360547542572 Current Avg. tumor Dice: 0.5537887811660767 Current Avg. lymph Dice: 0.40576139092445374\n"
     ]
    },
    {
     "name": "stderr",
     "output_type": "stream",
     "text": [
      "Training (11717 / 18000 Steps) (loss=0.66681): 100%|██████████| 21/21 [01:01<00:00,  2.93s/it]\n",
      "Training (11738 / 18000 Steps) (loss=0.12683): 100%|██████████| 21/21 [00:25<00:00,  1.20s/it]\n",
      "Training (11759 / 18000 Steps) (loss=0.66674): 100%|██████████| 21/21 [00:27<00:00,  1.33s/it]\n",
      "Training (11780 / 18000 Steps) (loss=0.19373): 100%|██████████| 21/21 [00:29<00:00,  1.39s/it]\n",
      "Validate (11781 / 10 Steps): 100%|██████████| 8/8 [00:40<00:00,  5.01s/it]27<00:01,  1.33it/s]\n",
      "Training (11800 / 18000 Steps) (loss=0.40717):  95%|█████████▌| 20/21 [01:07<00:12, 12.73s/it]"
     ]
    },
    {
     "name": "stdout",
     "output_type": "stream",
     "text": [
      "Model Was Not Saved ! Current Best Avg. Dice: 0.5454341769218445 Current Avg. Dice: 0.5053347945213318 Current Avg. tumor Dice: 0.5509272813796997 Current Avg. lymph Dice: 0.43707314133644104\n"
     ]
    },
    {
     "name": "stderr",
     "output_type": "stream",
     "text": [
      "Training (11801 / 18000 Steps) (loss=0.14105): 100%|██████████| 21/21 [01:08<00:00,  3.26s/it]\n",
      "Training (11822 / 18000 Steps) (loss=0.16662): 100%|██████████| 21/21 [00:38<00:00,  1.85s/it]\n",
      "Training (11843 / 18000 Steps) (loss=0.15389): 100%|██████████| 21/21 [00:32<00:00,  1.55s/it]\n",
      "Training (11864 / 18000 Steps) (loss=0.13458): 100%|██████████| 21/21 [00:40<00:00,  1.93s/it]\n",
      "Training (11885 / 18000 Steps) (loss=0.15002): 100%|██████████| 21/21 [00:35<00:00,  1.70s/it]\n",
      "Validate (11886 / 10 Steps): 100%|██████████| 8/8 [00:39<00:00,  4.94s/it]23<00:05,  1.25it/s]\n",
      "Training (11900 / 18000 Steps) (loss=0.46468):  71%|███████▏  | 15/21 [01:03<01:16, 12.71s/it]"
     ]
    },
    {
     "name": "stdout",
     "output_type": "stream",
     "text": [
      "Model Was Not Saved ! Current Best Avg. Dice: 0.5454341769218445 Current Avg. Dice: 0.514912486076355 Current Avg. tumor Dice: 0.5258052349090576 Current Avg. lymph Dice: 0.48957711458206177\n"
     ]
    },
    {
     "name": "stderr",
     "output_type": "stream",
     "text": [
      "Training (11906 / 18000 Steps) (loss=0.16623): 100%|██████████| 21/21 [01:07<00:00,  3.21s/it]\n",
      "Training (11927 / 18000 Steps) (loss=0.67152): 100%|██████████| 21/21 [00:36<00:00,  1.74s/it]\n",
      "Training (11948 / 18000 Steps) (loss=0.13220): 100%|██████████| 21/21 [00:26<00:00,  1.27s/it]\n",
      "Training (11969 / 18000 Steps) (loss=0.16966): 100%|██████████| 21/21 [00:34<00:00,  1.67s/it]\n",
      "Training (11990 / 18000 Steps) (loss=0.17229): 100%|██████████| 21/21 [00:30<00:00,  1.45s/it]\n",
      "Validate (11991 / 10 Steps): 100%|██████████| 8/8 [00:41<00:00,  5.16s/it]4<00:14,  1.18s/it]\n",
      "Training (12000 / 18000 Steps) (loss=0.25207):  48%|████▊     | 10/21 [01:05<02:33, 13.96s/it]"
     ]
    },
    {
     "name": "stdout",
     "output_type": "stream",
     "text": [
      "Model Was Not Saved ! Current Best Avg. Dice: 0.5454341769218445 Current Avg. Dice: 0.5370482206344604 Current Avg. tumor Dice: 0.5640906691551208 Current Avg. lymph Dice: 0.4904089570045471\n"
     ]
    },
    {
     "name": "stderr",
     "output_type": "stream",
     "text": [
      "Training (12011 / 18000 Steps) (loss=0.69959): 100%|██████████| 21/21 [01:11<00:00,  3.41s/it]\n",
      "Training (12032 / 18000 Steps) (loss=0.22422): 100%|██████████| 21/21 [00:39<00:00,  1.87s/it]\n",
      "Training (12053 / 18000 Steps) (loss=0.10793): 100%|██████████| 21/21 [00:21<00:00,  1.03s/it]\n",
      "Training (12074 / 18000 Steps) (loss=0.11357): 100%|██████████| 21/21 [00:33<00:00,  1.61s/it]\n",
      "Training (12095 / 18000 Steps) (loss=0.23709): 100%|██████████| 21/21 [00:38<00:00,  1.83s/it]\n",
      "Validate (12096 / 10 Steps): 100%|██████████| 8/8 [00:44<00:00,  5.54s/it]4<00:37,  2.20s/it]\n",
      "Training (12100 / 18000 Steps) (loss=0.19079):  24%|██▍       | 5/21 [00:59<04:42, 17.67s/it]"
     ]
    },
    {
     "name": "stdout",
     "output_type": "stream",
     "text": [
      "Model Was Not Saved ! Current Best Avg. Dice: 0.5454341769218445 Current Avg. Dice: 0.46058452129364014 Current Avg. tumor Dice: 0.5192511081695557 Current Avg. lymph Dice: 0.3682568371295929\n"
     ]
    },
    {
     "name": "stderr",
     "output_type": "stream",
     "text": [
      "Training (12116 / 18000 Steps) (loss=0.45638): 100%|██████████| 21/21 [01:09<00:00,  3.32s/it]\n",
      "Training (12137 / 18000 Steps) (loss=0.66685): 100%|██████████| 21/21 [00:31<00:00,  1.49s/it]\n",
      "Training (12158 / 18000 Steps) (loss=0.42590): 100%|██████████| 21/21 [00:29<00:00,  1.41s/it]\n",
      "Training (12179 / 18000 Steps) (loss=0.41056): 100%|██████████| 21/21 [00:32<00:00,  1.56s/it]\n",
      "Validate (12180 / 10 Steps): 100%|██████████| 8/8 [00:41<00:00,  5.16s/it]35<00:01,  1.31s/it]\n",
      "Training (12200 / 18000 Steps) (loss=0.55989): 100%|██████████| 21/21 [01:17<00:00, 13.43s/it]"
     ]
    },
    {
     "name": "stdout",
     "output_type": "stream",
     "text": [
      "Model Was Not Saved ! Current Best Avg. Dice: 0.5454341769218445 Current Avg. Dice: 0.5156083106994629 Current Avg. tumor Dice: 0.5587278604507446 Current Avg. lymph Dice: 0.4492167532444\n"
     ]
    },
    {
     "name": "stderr",
     "output_type": "stream",
     "text": [
      "Training (12200 / 18000 Steps) (loss=0.55989): 100%|██████████| 21/21 [01:17<00:00,  3.68s/it]\n",
      "Training (12221 / 18000 Steps) (loss=0.59140): 100%|██████████| 21/21 [00:34<00:00,  1.64s/it]\n",
      "Training (12242 / 18000 Steps) (loss=0.63782): 100%|██████████| 21/21 [00:28<00:00,  1.37s/it]\n",
      "Training (12263 / 18000 Steps) (loss=0.67824): 100%|██████████| 21/21 [00:34<00:00,  1.66s/it]\n",
      "Training (12284 / 18000 Steps) (loss=0.55775): 100%|██████████| 21/21 [00:40<00:00,  1.91s/it]\n",
      "Validate (12285 / 10 Steps): 100%|██████████| 8/8 [00:38<00:00,  4.85s/it]26<00:05,  1.15it/s]\n",
      "Training (12300 / 18000 Steps) (loss=0.18534):  76%|███████▌  | 16/21 [01:05<01:02, 12.50s/it]"
     ]
    },
    {
     "name": "stdout",
     "output_type": "stream",
     "text": [
      "Model Was Not Saved ! Current Best Avg. Dice: 0.5454341769218445 Current Avg. Dice: 0.5303426384925842 Current Avg. tumor Dice: 0.548306405544281 Current Avg. lymph Dice: 0.49912479519844055\n"
     ]
    },
    {
     "name": "stderr",
     "output_type": "stream",
     "text": [
      "Training (12305 / 18000 Steps) (loss=0.66891): 100%|██████████| 21/21 [01:08<00:00,  3.24s/it]\n",
      "Training (12326 / 18000 Steps) (loss=0.35829): 100%|██████████| 21/21 [00:36<00:00,  1.72s/it]\n",
      "Training (12347 / 18000 Steps) (loss=0.66747): 100%|██████████| 21/21 [00:29<00:00,  1.40s/it]\n",
      "Training (12368 / 18000 Steps) (loss=0.40460): 100%|██████████| 21/21 [00:33<00:00,  1.59s/it]\n",
      "Training (12389 / 18000 Steps) (loss=0.32732): 100%|██████████| 21/21 [00:29<00:00,  1.43s/it]\n",
      "Validate (12390 / 10 Steps): 100%|██████████| 8/8 [00:43<00:00,  5.38s/it]24<00:23,  2.17s/it]\n",
      "Training (12400 / 18000 Steps) (loss=0.26171):  52%|█████▏    | 11/21 [01:07<02:29, 14.92s/it]"
     ]
    },
    {
     "name": "stdout",
     "output_type": "stream",
     "text": [
      "Model Was Not Saved ! Current Best Avg. Dice: 0.5454341769218445 Current Avg. Dice: 0.47234517335891724 Current Avg. tumor Dice: 0.5613515973091125 Current Avg. lymph Dice: 0.3503745496273041\n"
     ]
    },
    {
     "name": "stderr",
     "output_type": "stream",
     "text": [
      "Training (12410 / 18000 Steps) (loss=0.66820): 100%|██████████| 21/21 [01:13<00:00,  3.49s/it]\n",
      "Training (12431 / 18000 Steps) (loss=0.38328): 100%|██████████| 21/21 [00:40<00:00,  1.92s/it]\n",
      "Training (12452 / 18000 Steps) (loss=0.23150): 100%|██████████| 21/21 [00:21<00:00,  1.04s/it]\n",
      "Training (12473 / 18000 Steps) (loss=0.08970): 100%|██████████| 21/21 [00:30<00:00,  1.47s/it]\n",
      "Training (12494 / 18000 Steps) (loss=0.13730): 100%|██████████| 21/21 [00:34<00:00,  1.64s/it]\n",
      "Validate (12495 / 10 Steps): 100%|██████████| 8/8 [00:43<00:00,  5.49s/it]8<00:30,  1.92s/it]\n",
      "Training (12500 / 18000 Steps) (loss=0.15907):  29%|██▊       | 6/21 [01:02<04:06, 16.46s/it]"
     ]
    },
    {
     "name": "stdout",
     "output_type": "stream",
     "text": [
      "Model Was Not Saved ! Current Best Avg. Dice: 0.5454341769218445 Current Avg. Dice: 0.5284090638160706 Current Avg. tumor Dice: 0.5543830394744873 Current Avg. lymph Dice: 0.4831506609916687\n"
     ]
    },
    {
     "name": "stderr",
     "output_type": "stream",
     "text": [
      "Training (12515 / 18000 Steps) (loss=0.66714): 100%|██████████| 21/21 [01:12<00:00,  3.45s/it]\n",
      "Training (12536 / 18000 Steps) (loss=0.66790): 100%|██████████| 21/21 [00:31<00:00,  1.50s/it]\n",
      "Training (12557 / 18000 Steps) (loss=0.66675): 100%|██████████| 21/21 [00:28<00:00,  1.35s/it]\n",
      "Training (12578 / 18000 Steps) (loss=0.24821): 100%|██████████| 21/21 [00:32<00:00,  1.55s/it]\n",
      "Training (12599 / 18000 Steps) (loss=0.47674): 100%|██████████| 21/21 [00:31<00:00,  1.50s/it]\n",
      "Validate (12600 / 10 Steps): 100%|██████████| 8/8 [00:41<00:00,  5.17s/it]5<?, ?it/s]\n",
      "Training (12600 / 18000 Steps) (loss=0.67448):   5%|▍         | 1/21 [00:57<19:06, 57.32s/it]"
     ]
    },
    {
     "name": "stdout",
     "output_type": "stream",
     "text": [
      "Model Was Not Saved ! Current Best Avg. Dice: 0.5454341769218445 Current Avg. Dice: 0.4086730182170868 Current Avg. tumor Dice: 0.3687065541744232 Current Avg. lymph Dice: 0.4542406499385834\n"
     ]
    },
    {
     "name": "stderr",
     "output_type": "stream",
     "text": [
      "Training (12620 / 18000 Steps) (loss=0.16014): 100%|██████████| 21/21 [01:09<00:00,  3.30s/it]\n",
      "Training (12641 / 18000 Steps) (loss=0.31963): 100%|██████████| 21/21 [00:31<00:00,  1.50s/it]\n",
      "Training (12662 / 18000 Steps) (loss=0.68207): 100%|██████████| 21/21 [00:27<00:00,  1.29s/it]\n",
      "Training (12683 / 18000 Steps) (loss=0.18249): 100%|██████████| 21/21 [00:35<00:00,  1.68s/it]\n",
      "Validate (12684 / 10 Steps): 100%|██████████| 8/8 [00:35<00:00,  4.43s/it]33<00:04,  1.17it/s]\n",
      "Training (12700 / 18000 Steps) (loss=0.61779):  81%|████████  | 17/21 [01:09<00:49, 12.43s/it]"
     ]
    },
    {
     "name": "stdout",
     "output_type": "stream",
     "text": [
      "Model Was Not Saved ! Current Best Avg. Dice: 0.5454341769218445 Current Avg. Dice: 0.5217652916908264 Current Avg. tumor Dice: 0.5666776299476624 Current Avg. lymph Dice: 0.4519518315792084\n"
     ]
    },
    {
     "name": "stderr",
     "output_type": "stream",
     "text": [
      "Training (12704 / 18000 Steps) (loss=0.68031): 100%|██████████| 21/21 [01:11<00:00,  3.39s/it]\n",
      "Training (12725 / 18000 Steps) (loss=0.16641): 100%|██████████| 21/21 [00:32<00:00,  1.56s/it]\n",
      "Training (12746 / 18000 Steps) (loss=0.13876): 100%|██████████| 21/21 [00:37<00:00,  1.80s/it]\n",
      "Training (12767 / 18000 Steps) (loss=0.17596): 100%|██████████| 21/21 [00:28<00:00,  1.33s/it]\n",
      "Training (12788 / 18000 Steps) (loss=0.66836): 100%|██████████| 21/21 [00:32<00:00,  1.56s/it]\n",
      "Validate (12789 / 10 Steps): 100%|██████████| 8/8 [00:40<00:00,  5.02s/it]24<00:16,  1.65s/it]\n",
      "Training (12800 / 18000 Steps) (loss=0.63675):  57%|█████▋    | 12/21 [01:05<02:02, 13.56s/it]"
     ]
    },
    {
     "name": "stdout",
     "output_type": "stream",
     "text": [
      "Model Was Not Saved ! Current Best Avg. Dice: 0.5454341769218445 Current Avg. Dice: 0.4824720025062561 Current Avg. tumor Dice: 0.5375694036483765 Current Avg. lymph Dice: 0.3932171165943146\n"
     ]
    },
    {
     "name": "stderr",
     "output_type": "stream",
     "text": [
      "Training (12809 / 18000 Steps) (loss=0.68639): 100%|██████████| 21/21 [01:10<00:00,  3.36s/it]\n",
      "Training (12830 / 18000 Steps) (loss=0.56037): 100%|██████████| 21/21 [00:37<00:00,  1.78s/it]\n",
      "Training (12851 / 18000 Steps) (loss=0.14968): 100%|██████████| 21/21 [00:41<00:00,  1.95s/it]\n",
      "Training (12872 / 18000 Steps) (loss=0.17941): 100%|██████████| 21/21 [00:21<00:00,  1.03s/it]\n",
      "Training (12893 / 18000 Steps) (loss=0.66800): 100%|██████████| 21/21 [00:28<00:00,  1.38s/it]\n",
      "Validate (12894 / 10 Steps): 100%|██████████| 8/8 [00:40<00:00,  5.02s/it]7<00:21,  1.41s/it]\n",
      "Training (12900 / 18000 Steps) (loss=0.34491):  33%|███▎      | 7/21 [01:00<03:29, 14.98s/it]"
     ]
    },
    {
     "name": "stdout",
     "output_type": "stream",
     "text": [
      "Model Was Saved ! Current Best Avg. Dice: 0.5477198958396912 Current Avg. Dice: 0.5477198958396912 Current Avg. tumor Dice: 0.5649770498275757 Current Avg. lymph Dice: 0.507646381855011\n"
     ]
    },
    {
     "name": "stderr",
     "output_type": "stream",
     "text": [
      "Training (12914 / 18000 Steps) (loss=0.17918): 100%|██████████| 21/21 [01:09<00:00,  3.32s/it]\n",
      "Training (12935 / 18000 Steps) (loss=0.15875): 100%|██████████| 21/21 [00:33<00:00,  1.60s/it]\n",
      "Training (12956 / 18000 Steps) (loss=0.12826): 100%|██████████| 21/21 [00:29<00:00,  1.40s/it]\n",
      "Training (12977 / 18000 Steps) (loss=0.26225): 100%|██████████| 21/21 [00:33<00:00,  1.62s/it]\n",
      "Training (12998 / 18000 Steps) (loss=0.66825): 100%|██████████| 21/21 [00:30<00:00,  1.43s/it]\n",
      "Validate (12999 / 10 Steps): 100%|██████████| 8/8 [00:43<00:00,  5.39s/it]6<05:19, 16.00s/it]\n",
      "Training (13000 / 18000 Steps) (loss=0.42811):  10%|▉         | 2/21 [01:00<10:16, 32.47s/it]"
     ]
    },
    {
     "name": "stdout",
     "output_type": "stream",
     "text": [
      "Model Was Not Saved ! Current Best Avg. Dice: 0.5477198958396912 Current Avg. Dice: 0.48874276876449585 Current Avg. tumor Dice: 0.5533300042152405 Current Avg. lymph Dice: 0.3943561911582947\n"
     ]
    },
    {
     "name": "stderr",
     "output_type": "stream",
     "text": [
      "Training (13019 / 18000 Steps) (loss=0.66802): 100%|██████████| 21/21 [01:10<00:00,  3.37s/it]\n",
      "Training (13040 / 18000 Steps) (loss=0.16903): 100%|██████████| 21/21 [00:32<00:00,  1.55s/it]\n",
      "Training (13061 / 18000 Steps) (loss=0.66838): 100%|██████████| 21/21 [00:32<00:00,  1.57s/it]\n",
      "Training (13082 / 18000 Steps) (loss=0.66680): 100%|██████████| 21/21 [00:37<00:00,  1.79s/it]\n",
      "Validate (13083 / 10 Steps): 100%|██████████| 8/8 [00:37<00:00,  4.67s/it]24<00:03,  1.25it/s]\n",
      "Training (13100 / 18000 Steps) (loss=0.57386):  86%|████████▌ | 18/21 [01:01<00:36, 12.28s/it]"
     ]
    },
    {
     "name": "stdout",
     "output_type": "stream",
     "text": [
      "Model Was Not Saved ! Current Best Avg. Dice: 0.5477198958396912 Current Avg. Dice: 0.5088100433349609 Current Avg. tumor Dice: 0.5113122463226318 Current Avg. lymph Dice: 0.4791695773601532\n"
     ]
    },
    {
     "name": "stderr",
     "output_type": "stream",
     "text": [
      "Training (13103 / 18000 Steps) (loss=0.32114): 100%|██████████| 21/21 [01:03<00:00,  3.03s/it]\n",
      "Training (13124 / 18000 Steps) (loss=0.66724): 100%|██████████| 21/21 [00:34<00:00,  1.62s/it]\n",
      "Training (13145 / 18000 Steps) (loss=0.36378): 100%|██████████| 21/21 [00:36<00:00,  1.73s/it]\n",
      "Training (13166 / 18000 Steps) (loss=0.66677): 100%|██████████| 21/21 [00:36<00:00,  1.71s/it]\n",
      "Training (13187 / 18000 Steps) (loss=0.11705): 100%|██████████| 21/21 [00:27<00:00,  1.32s/it]\n",
      "Validate (13188 / 10 Steps): 100%|██████████| 8/8 [00:38<00:00,  4.83s/it]25<00:12,  1.42s/it]\n",
      "Training (13200 / 18000 Steps) (loss=0.54213):  62%|██████▏   | 13/21 [01:03<01:43, 12.98s/it]"
     ]
    },
    {
     "name": "stdout",
     "output_type": "stream",
     "text": [
      "Model Was Not Saved ! Current Best Avg. Dice: 0.5477198958396912 Current Avg. Dice: 0.5062539577484131 Current Avg. tumor Dice: 0.5340884923934937 Current Avg. lymph Dice: 0.44814082980155945\n"
     ]
    },
    {
     "name": "stderr",
     "output_type": "stream",
     "text": [
      "Training (13208 / 18000 Steps) (loss=0.17813): 100%|██████████| 21/21 [01:07<00:00,  3.23s/it]\n",
      "Training (13229 / 18000 Steps) (loss=0.50486): 100%|██████████| 21/21 [00:41<00:00,  1.99s/it]\n",
      "Training (13250 / 18000 Steps) (loss=0.66707): 100%|██████████| 21/21 [00:38<00:00,  1.85s/it]\n",
      "Training (13271 / 18000 Steps) (loss=0.11565): 100%|██████████| 21/21 [00:32<00:00,  1.53s/it]\n",
      "Training (13292 / 18000 Steps) (loss=0.15366): 100%|██████████| 21/21 [00:27<00:00,  1.29s/it]\n",
      "Validate (13293 / 10 Steps): 100%|██████████| 8/8 [00:44<00:00,  5.61s/it]6<00:15,  1.14s/it]\n",
      "Training (13300 / 18000 Steps) (loss=0.21585):  38%|███▊      | 8/21 [01:01<03:18, 15.29s/it]"
     ]
    },
    {
     "name": "stdout",
     "output_type": "stream",
     "text": [
      "Model Was Not Saved ! Current Best Avg. Dice: 0.5477198958396912 Current Avg. Dice: 0.49539825320243835 Current Avg. tumor Dice: 0.544390857219696 Current Avg. lymph Dice: 0.42093685269355774\n"
     ]
    },
    {
     "name": "stderr",
     "output_type": "stream",
     "text": [
      "Training (13313 / 18000 Steps) (loss=0.15426): 100%|██████████| 21/21 [01:09<00:00,  3.31s/it]\n",
      "Training (13334 / 18000 Steps) (loss=0.66671): 100%|██████████| 21/21 [00:34<00:00,  1.65s/it]\n",
      "Training (13355 / 18000 Steps) (loss=0.09869): 100%|██████████| 21/21 [00:30<00:00,  1.46s/it]\n",
      "Training (13376 / 18000 Steps) (loss=0.15772): 100%|██████████| 21/21 [00:36<00:00,  1.72s/it]\n",
      "Training (13397 / 18000 Steps) (loss=0.10026): 100%|██████████| 21/21 [00:34<00:00,  1.66s/it]\n",
      "Validate (13398 / 10 Steps): 100%|██████████| 8/8 [00:37<00:00,  4.74s/it]3<01:57,  6.19s/it]\n",
      "Training (13400 / 18000 Steps) (loss=0.41389):  14%|█▍        | 3/21 [00:52<06:27, 21.55s/it]"
     ]
    },
    {
     "name": "stdout",
     "output_type": "stream",
     "text": [
      "Model Was Saved ! Current Best Avg. Dice: 0.5489930510520935 Current Avg. Dice: 0.5489930510520935 Current Avg. tumor Dice: 0.5990315675735474 Current Avg. lymph Dice: 0.47157740592956543\n"
     ]
    },
    {
     "name": "stderr",
     "output_type": "stream",
     "text": [
      "Training (13418 / 18000 Steps) (loss=0.28621): 100%|██████████| 21/21 [01:03<00:00,  3.04s/it]\n",
      "Training (13439 / 18000 Steps) (loss=0.16765): 100%|██████████| 21/21 [00:37<00:00,  1.78s/it]\n",
      "Training (13460 / 18000 Steps) (loss=0.36600): 100%|██████████| 21/21 [00:35<00:00,  1.71s/it]\n",
      "Training (13481 / 18000 Steps) (loss=0.17460): 100%|██████████| 21/21 [00:36<00:00,  1.75s/it]\n",
      "Validate (13482 / 10 Steps): 100%|██████████| 8/8 [00:34<00:00,  4.34s/it]24<00:01,  1.58it/s]\n",
      "Training (13500 / 18000 Steps) (loss=0.33469):  90%|█████████ | 19/21 [00:59<00:22, 11.09s/it]"
     ]
    },
    {
     "name": "stdout",
     "output_type": "stream",
     "text": [
      "Model Was Not Saved ! Current Best Avg. Dice: 0.5489930510520935 Current Avg. Dice: 0.5291233658790588 Current Avg. tumor Dice: 0.5616922974586487 Current Avg. lymph Dice: 0.47626540064811707\n"
     ]
    },
    {
     "name": "stderr",
     "output_type": "stream",
     "text": [
      "Training (13502 / 18000 Steps) (loss=0.22588): 100%|██████████| 21/21 [01:00<00:00,  2.90s/it]\n",
      "Training (13523 / 18000 Steps) (loss=0.14745): 100%|██████████| 21/21 [00:35<00:00,  1.71s/it]\n",
      "Training (13544 / 18000 Steps) (loss=0.62673): 100%|██████████| 21/21 [00:36<00:00,  1.75s/it]\n",
      "Training (13565 / 18000 Steps) (loss=0.17421): 100%|██████████| 21/21 [00:37<00:00,  1.76s/it]\n",
      "Training (13586 / 18000 Steps) (loss=0.66774): 100%|██████████| 21/21 [00:30<00:00,  1.43s/it]\n",
      "Validate (13587 / 10 Steps): 100%|██████████| 8/8 [00:41<00:00,  5.16s/it]22<00:06,  1.17it/s]\n",
      "Training (13600 / 18000 Steps) (loss=0.66709):  67%|██████▋   | 14/21 [01:04<01:32, 13.28s/it]"
     ]
    },
    {
     "name": "stdout",
     "output_type": "stream",
     "text": [
      "Model Was Not Saved ! Current Best Avg. Dice: 0.5489930510520935 Current Avg. Dice: 0.5247063040733337 Current Avg. tumor Dice: 0.547842264175415 Current Avg. lymph Dice: 0.4724505841732025\n"
     ]
    },
    {
     "name": "stderr",
     "output_type": "stream",
     "text": [
      "Training (13607 / 18000 Steps) (loss=0.16102): 100%|██████████| 21/21 [01:09<00:00,  3.30s/it]\n",
      "Training (13628 / 18000 Steps) (loss=0.66676): 100%|██████████| 21/21 [00:35<00:00,  1.70s/it]\n",
      "Training (13649 / 18000 Steps) (loss=0.66686): 100%|██████████| 21/21 [00:29<00:00,  1.39s/it]\n",
      "Training (13670 / 18000 Steps) (loss=0.18851): 100%|██████████| 21/21 [00:31<00:00,  1.51s/it]\n",
      "Training (13691 / 18000 Steps) (loss=0.13638): 100%|██████████| 21/21 [00:35<00:00,  1.67s/it]\n",
      "Validate (13692 / 10 Steps): 100%|██████████| 8/8 [00:38<00:00,  4.79s/it]6<00:10,  1.19it/s]\n",
      "Training (13700 / 18000 Steps) (loss=0.48648):  43%|████▎     | 9/21 [00:55<02:36, 13.04s/it]"
     ]
    },
    {
     "name": "stdout",
     "output_type": "stream",
     "text": [
      "Model Was Not Saved ! Current Best Avg. Dice: 0.5489930510520935 Current Avg. Dice: 0.4660092890262604 Current Avg. tumor Dice: 0.5365172028541565 Current Avg. lymph Dice: 0.364126592874527\n"
     ]
    },
    {
     "name": "stderr",
     "output_type": "stream",
     "text": [
      "Training (13712 / 18000 Steps) (loss=0.66683): 100%|██████████| 21/21 [01:02<00:00,  2.97s/it]\n",
      "Training (13733 / 18000 Steps) (loss=0.16975): 100%|██████████| 21/21 [00:33<00:00,  1.60s/it]\n",
      "Training (13754 / 18000 Steps) (loss=0.45129): 100%|██████████| 21/21 [00:35<00:00,  1.71s/it]\n",
      "Training (13775 / 18000 Steps) (loss=0.66761): 100%|██████████| 21/21 [00:37<00:00,  1.77s/it]\n",
      "Training (13796 / 18000 Steps) (loss=0.26709): 100%|██████████| 21/21 [00:40<00:00,  1.95s/it]\n",
      "Validate (13797 / 10 Steps): 100%|██████████| 8/8 [00:38<00:00,  4.76s/it]0<00:45,  2.52s/it]\n",
      "Training (13800 / 18000 Steps) (loss=0.20072):  19%|█▉        | 4/21 [00:48<04:45, 16.82s/it]"
     ]
    },
    {
     "name": "stdout",
     "output_type": "stream",
     "text": [
      "Model Was Not Saved ! Current Best Avg. Dice: 0.5489930510520935 Current Avg. Dice: 0.5172555446624756 Current Avg. tumor Dice: 0.5840977430343628 Current Avg. lymph Dice: 0.42385414242744446\n"
     ]
    },
    {
     "name": "stderr",
     "output_type": "stream",
     "text": [
      "Training (13817 / 18000 Steps) (loss=0.66674): 100%|██████████| 21/21 [00:58<00:00,  2.77s/it]\n",
      "Training (13838 / 18000 Steps) (loss=0.11564): 100%|██████████| 21/21 [00:34<00:00,  1.64s/it]\n",
      "Training (13859 / 18000 Steps) (loss=0.14273): 100%|██████████| 21/21 [00:39<00:00,  1.88s/it]\n",
      "Training (13880 / 18000 Steps) (loss=0.66962): 100%|██████████| 21/21 [00:32<00:00,  1.53s/it]\n",
      "Validate (13881 / 10 Steps): 100%|██████████| 8/8 [00:35<00:00,  4.40s/it]38<00:02,  1.14s/it]\n",
      "Training (13900 / 18000 Steps) (loss=0.24160):  95%|█████████▌| 20/21 [01:13<00:11, 11.55s/it]"
     ]
    },
    {
     "name": "stdout",
     "output_type": "stream",
     "text": [
      "Model Was Not Saved ! Current Best Avg. Dice: 0.5489930510520935 Current Avg. Dice: 0.4883221685886383 Current Avg. tumor Dice: 0.5667072534561157 Current Avg. lymph Dice: 0.37895649671554565\n"
     ]
    },
    {
     "name": "stderr",
     "output_type": "stream",
     "text": [
      "Training (13901 / 18000 Steps) (loss=0.14131): 100%|██████████| 21/21 [01:14<00:00,  3.55s/it]\n",
      "Training (13922 / 18000 Steps) (loss=0.17842): 100%|██████████| 21/21 [00:35<00:00,  1.69s/it]\n",
      "Training (13943 / 18000 Steps) (loss=0.66675): 100%|██████████| 21/21 [00:37<00:00,  1.79s/it]\n",
      "Training (13964 / 18000 Steps) (loss=0.55778): 100%|██████████| 21/21 [00:36<00:00,  1.72s/it]\n",
      "Training (13985 / 18000 Steps) (loss=0.45192): 100%|██████████| 21/21 [00:35<00:00,  1.69s/it]\n",
      "Validate (13986 / 10 Steps): 100%|██████████| 8/8 [00:36<00:00,  4.52s/it]22<00:05,  1.32it/s]\n",
      "Training (14000 / 18000 Steps) (loss=0.42475):  71%|███████▏  | 15/21 [00:58<01:09, 11.60s/it]"
     ]
    },
    {
     "name": "stdout",
     "output_type": "stream",
     "text": [
      "Model Was Not Saved ! Current Best Avg. Dice: 0.5489930510520935 Current Avg. Dice: 0.4831463396549225 Current Avg. tumor Dice: 0.5486956238746643 Current Avg. lymph Dice: 0.38536563515663147\n"
     ]
    },
    {
     "name": "stderr",
     "output_type": "stream",
     "text": [
      "Training (14006 / 18000 Steps) (loss=0.13682): 100%|██████████| 21/21 [01:01<00:00,  2.94s/it]\n",
      "Training (14027 / 18000 Steps) (loss=0.66676): 100%|██████████| 21/21 [00:32<00:00,  1.54s/it]\n",
      "Training (14048 / 18000 Steps) (loss=0.66683): 100%|██████████| 21/21 [00:36<00:00,  1.76s/it]\n",
      "Training (14069 / 18000 Steps) (loss=0.27524): 100%|██████████| 21/21 [00:35<00:00,  1.68s/it]\n",
      "Training (14090 / 18000 Steps) (loss=0.69313): 100%|██████████| 21/21 [00:37<00:00,  1.77s/it]\n",
      "Validate (14091 / 10 Steps): 100%|██████████| 8/8 [00:39<00:00,  4.91s/it]6<00:16,  1.38s/it]\n",
      "Training (14100 / 18000 Steps) (loss=0.15255):  48%|████▊     | 10/21 [00:55<02:26, 13.28s/it]"
     ]
    },
    {
     "name": "stdout",
     "output_type": "stream",
     "text": [
      "Model Was Not Saved ! Current Best Avg. Dice: 0.5489930510520935 Current Avg. Dice: 0.5307948589324951 Current Avg. tumor Dice: 0.551368772983551 Current Avg. lymph Dice: 0.48645687103271484\n"
     ]
    },
    {
     "name": "stderr",
     "output_type": "stream",
     "text": [
      "Training (14111 / 18000 Steps) (loss=0.18721): 100%|██████████| 21/21 [01:01<00:00,  2.93s/it]\n",
      "Training (14132 / 18000 Steps) (loss=0.13834): 100%|██████████| 21/21 [00:39<00:00,  1.88s/it]\n",
      "Training (14153 / 18000 Steps) (loss=0.66709): 100%|██████████| 21/21 [00:39<00:00,  1.87s/it]\n",
      "Training (14174 / 18000 Steps) (loss=0.66862): 100%|██████████| 21/21 [00:33<00:00,  1.59s/it]\n",
      "Training (14195 / 18000 Steps) (loss=0.17616): 100%|██████████| 21/21 [00:40<00:00,  1.91s/it]\n",
      "Validate (14196 / 10 Steps): 100%|██████████| 8/8 [00:40<00:00,  5.05s/it]3<00:32,  1.93s/it]\n",
      "Training (14200 / 18000 Steps) (loss=0.40457):  24%|██▍       | 5/21 [00:53<04:16, 16.04s/it]"
     ]
    },
    {
     "name": "stdout",
     "output_type": "stream",
     "text": [
      "Model Was Not Saved ! Current Best Avg. Dice: 0.5489930510520935 Current Avg. Dice: 0.5477588772773743 Current Avg. tumor Dice: 0.5888605713844299 Current Avg. lymph Dice: 0.4788019359111786\n"
     ]
    },
    {
     "name": "stderr",
     "output_type": "stream",
     "text": [
      "Training (14216 / 18000 Steps) (loss=0.66720): 100%|██████████| 21/21 [01:03<00:00,  3.01s/it]\n",
      "Training (14237 / 18000 Steps) (loss=0.11051): 100%|██████████| 21/21 [00:32<00:00,  1.53s/it]\n",
      "Training (14258 / 18000 Steps) (loss=0.66705): 100%|██████████| 21/21 [00:36<00:00,  1.74s/it]\n",
      "Training (14279 / 18000 Steps) (loss=0.66837): 100%|██████████| 21/21 [00:39<00:00,  1.88s/it]\n",
      "Validate (14280 / 10 Steps): 100%|██████████| 8/8 [00:38<00:00,  4.86s/it]41<00:01,  1.04s/it]\n",
      "Training (14300 / 18000 Steps) (loss=0.22463): 100%|██████████| 21/21 [01:20<00:00, 12.55s/it]"
     ]
    },
    {
     "name": "stdout",
     "output_type": "stream",
     "text": [
      "Model Was Not Saved ! Current Best Avg. Dice: 0.5489930510520935 Current Avg. Dice: 0.5100917816162109 Current Avg. tumor Dice: 0.5404857993125916 Current Avg. lymph Dice: 0.4533577561378479\n"
     ]
    },
    {
     "name": "stderr",
     "output_type": "stream",
     "text": [
      "Training (14300 / 18000 Steps) (loss=0.22463): 100%|██████████| 21/21 [01:20<00:00,  3.83s/it]\n",
      "Training (14321 / 18000 Steps) (loss=0.66673): 100%|██████████| 21/21 [00:36<00:00,  1.74s/it]\n",
      "Training (14342 / 18000 Steps) (loss=0.66680): 100%|██████████| 21/21 [00:32<00:00,  1.55s/it]\n",
      "Training (14363 / 18000 Steps) (loss=0.20142): 100%|██████████| 21/21 [00:36<00:00,  1.72s/it]\n",
      "Training (14384 / 18000 Steps) (loss=0.51223): 100%|██████████| 21/21 [00:32<00:00,  1.54s/it]\n",
      "Validate (14385 / 10 Steps): 100%|██████████| 8/8 [00:34<00:00,  4.34s/it]17<00:03,  1.74it/s]\n",
      "Training (14400 / 18000 Steps) (loss=0.40706):  76%|███████▌  | 16/21 [00:52<00:55, 11.06s/it]"
     ]
    },
    {
     "name": "stdout",
     "output_type": "stream",
     "text": [
      "Model Was Not Saved ! Current Best Avg. Dice: 0.5489930510520935 Current Avg. Dice: 0.50199294090271 Current Avg. tumor Dice: 0.5249115228652954 Current Avg. lymph Dice: 0.4629520773887634\n"
     ]
    },
    {
     "name": "stderr",
     "output_type": "stream",
     "text": [
      "Training (14405 / 18000 Steps) (loss=0.15852): 100%|██████████| 21/21 [00:55<00:00,  2.65s/it]\n",
      "Training (14426 / 18000 Steps) (loss=0.66923): 100%|██████████| 21/21 [00:32<00:00,  1.56s/it]\n",
      "Training (14447 / 18000 Steps) (loss=0.42147): 100%|██████████| 21/21 [00:34<00:00,  1.66s/it]\n",
      "Training (14468 / 18000 Steps) (loss=0.49113): 100%|██████████| 21/21 [00:33<00:00,  1.62s/it]\n",
      "Training (14489 / 18000 Steps) (loss=0.15933): 100%|██████████| 21/21 [00:33<00:00,  1.61s/it]\n",
      "Validate (14490 / 10 Steps): 100%|██████████| 8/8 [00:34<00:00,  4.35s/it]24<00:21,  1.99s/it]\n",
      "Training (14500 / 18000 Steps) (loss=0.34413):  52%|█████▏    | 11/21 [00:59<02:03, 12.32s/it]"
     ]
    },
    {
     "name": "stdout",
     "output_type": "stream",
     "text": [
      "Model Was Not Saved ! Current Best Avg. Dice: 0.5489930510520935 Current Avg. Dice: 0.47887903451919556 Current Avg. tumor Dice: 0.5350579619407654 Current Avg. lymph Dice: 0.4043162167072296\n"
     ]
    },
    {
     "name": "stderr",
     "output_type": "stream",
     "text": [
      "Training (14510 / 18000 Steps) (loss=0.35169): 100%|██████████| 21/21 [01:05<00:00,  3.14s/it]\n",
      "Training (14531 / 18000 Steps) (loss=0.14980): 100%|██████████| 21/21 [00:37<00:00,  1.78s/it]\n",
      "Training (14552 / 18000 Steps) (loss=0.66675): 100%|██████████| 21/21 [00:27<00:00,  1.29s/it]\n",
      "Training (14573 / 18000 Steps) (loss=0.16742): 100%|██████████| 21/21 [00:34<00:00,  1.63s/it]\n",
      "Training (14594 / 18000 Steps) (loss=0.53110): 100%|██████████| 21/21 [00:35<00:00,  1.70s/it]\n",
      "Validate (14595 / 10 Steps): 100%|██████████| 8/8 [00:44<00:00,  5.51s/it]7<00:32,  2.01s/it]\n",
      "Training (14600 / 18000 Steps) (loss=0.53279):  29%|██▊       | 6/21 [01:01<04:08, 16.58s/it]"
     ]
    },
    {
     "name": "stdout",
     "output_type": "stream",
     "text": [
      "Model Was Not Saved ! Current Best Avg. Dice: 0.5489930510520935 Current Avg. Dice: 0.5229806900024414 Current Avg. tumor Dice: 0.5593982934951782 Current Avg. lymph Dice: 0.4610942304134369\n"
     ]
    },
    {
     "name": "stderr",
     "output_type": "stream",
     "text": [
      "Training (14615 / 18000 Steps) (loss=0.66691): 100%|██████████| 21/21 [01:10<00:00,  3.34s/it]\n",
      "Training (14636 / 18000 Steps) (loss=0.66683): 100%|██████████| 21/21 [00:34<00:00,  1.67s/it]\n",
      "Training (14657 / 18000 Steps) (loss=0.13458): 100%|██████████| 21/21 [00:37<00:00,  1.76s/it]\n",
      "Training (14678 / 18000 Steps) (loss=0.16877): 100%|██████████| 21/21 [00:39<00:00,  1.86s/it]\n",
      "Training (14699 / 18000 Steps) (loss=0.66686): 100%|██████████| 21/21 [00:29<00:00,  1.40s/it]\n",
      "Validate (14700 / 10 Steps): 100%|██████████| 8/8 [00:44<00:00,  5.59s/it]3<?, ?it/s]\n",
      "Training (14700 / 18000 Steps) (loss=0.32092):   5%|▍         | 1/21 [00:57<19:17, 57.89s/it]"
     ]
    },
    {
     "name": "stdout",
     "output_type": "stream",
     "text": [
      "Model Was Not Saved ! Current Best Avg. Dice: 0.5489930510520935 Current Avg. Dice: 0.5135777592658997 Current Avg. tumor Dice: 0.5691030621528625 Current Avg. lymph Dice: 0.43276190757751465\n"
     ]
    },
    {
     "name": "stderr",
     "output_type": "stream",
     "text": [
      "Training (14720 / 18000 Steps) (loss=0.48900): 100%|██████████| 21/21 [01:08<00:00,  3.26s/it]\n",
      "Training (14741 / 18000 Steps) (loss=0.23928): 100%|██████████| 21/21 [00:35<00:00,  1.68s/it]\n",
      "Training (14762 / 18000 Steps) (loss=0.66777): 100%|██████████| 21/21 [00:36<00:00,  1.73s/it]\n",
      "Training (14783 / 18000 Steps) (loss=0.66675): 100%|██████████| 21/21 [00:31<00:00,  1.52s/it]\n",
      "Validate (14784 / 10 Steps): 100%|██████████| 8/8 [00:38<00:00,  4.87s/it]35<00:03,  1.42it/s]\n",
      "Training (14800 / 18000 Steps) (loss=0.40542):  81%|████████  | 17/21 [01:16<00:56, 14.09s/it]"
     ]
    },
    {
     "name": "stdout",
     "output_type": "stream",
     "text": [
      "Model Was Saved ! Current Best Avg. Dice: 0.5590535402297974 Current Avg. Dice: 0.5590535402297974 Current Avg. tumor Dice: 0.602638304233551 Current Avg. lymph Dice: 0.48874732851982117\n"
     ]
    },
    {
     "name": "stderr",
     "output_type": "stream",
     "text": [
      "Training (14804 / 18000 Steps) (loss=0.34828): 100%|██████████| 21/21 [01:18<00:00,  3.72s/it]\n",
      "Training (14825 / 18000 Steps) (loss=0.66844): 100%|██████████| 21/21 [00:38<00:00,  1.85s/it]\n",
      "Training (14846 / 18000 Steps) (loss=0.66708): 100%|██████████| 21/21 [00:29<00:00,  1.39s/it]\n",
      "Training (14867 / 18000 Steps) (loss=0.21970): 100%|██████████| 21/21 [00:36<00:00,  1.74s/it]\n",
      "Training (14888 / 18000 Steps) (loss=0.11471): 100%|██████████| 21/21 [00:35<00:00,  1.71s/it]\n",
      "Validate (14889 / 10 Steps): 100%|██████████| 8/8 [00:41<00:00,  5.22s/it]23<00:14,  1.49s/it]\n",
      "Training (14900 / 18000 Steps) (loss=0.66855):  57%|█████▋    | 12/21 [01:05<02:05, 13.92s/it]"
     ]
    },
    {
     "name": "stdout",
     "output_type": "stream",
     "text": [
      "Model Was Not Saved ! Current Best Avg. Dice: 0.5590535402297974 Current Avg. Dice: 0.5445095896720886 Current Avg. tumor Dice: 0.5947981476783752 Current Avg. lymph Dice: 0.4732606112957001\n"
     ]
    },
    {
     "name": "stderr",
     "output_type": "stream",
     "text": [
      "Training (14909 / 18000 Steps) (loss=0.41776): 100%|██████████| 21/21 [01:10<00:00,  3.36s/it]\n",
      "Training (14930 / 18000 Steps) (loss=0.67876): 100%|██████████| 21/21 [00:32<00:00,  1.56s/it]\n",
      "Training (14951 / 18000 Steps) (loss=0.66671): 100%|██████████| 21/21 [00:36<00:00,  1.72s/it]\n",
      "Training (14972 / 18000 Steps) (loss=0.44678): 100%|██████████| 21/21 [00:37<00:00,  1.80s/it]\n",
      "Training (14993 / 18000 Steps) (loss=0.13845): 100%|██████████| 21/21 [00:37<00:00,  1.80s/it]\n",
      "Validate (14994 / 10 Steps): 100%|██████████| 8/8 [00:38<00:00,  4.83s/it]3<00:16,  1.13s/it]\n",
      "Training (15000 / 18000 Steps) (loss=0.14977):  33%|███▎      | 7/21 [00:52<03:10, 13.60s/it]"
     ]
    },
    {
     "name": "stdout",
     "output_type": "stream",
     "text": [
      "Model Was Not Saved ! Current Best Avg. Dice: 0.5590535402297974 Current Avg. Dice: 0.5484139919281006 Current Avg. tumor Dice: 0.5921341180801392 Current Avg. lymph Dice: 0.4797777533531189\n"
     ]
    },
    {
     "name": "stderr",
     "output_type": "stream",
     "text": [
      "Training (15014 / 18000 Steps) (loss=0.27909): 100%|██████████| 21/21 [01:00<00:00,  2.89s/it]\n",
      "Training (15035 / 18000 Steps) (loss=0.10173): 100%|██████████| 21/21 [00:24<00:00,  1.19s/it]\n",
      "Training (15056 / 18000 Steps) (loss=0.66714): 100%|██████████| 21/21 [00:33<00:00,  1.60s/it]\n",
      "Training (15077 / 18000 Steps) (loss=0.19184): 100%|██████████| 21/21 [00:29<00:00,  1.41s/it]\n",
      "Training (15098 / 18000 Steps) (loss=0.58475): 100%|██████████| 21/21 [00:25<00:00,  1.23s/it]\n",
      "Validate (15099 / 10 Steps): 100%|██████████| 8/8 [00:39<00:00,  4.95s/it]2<03:47, 11.40s/it]\n",
      "Training (15100 / 18000 Steps) (loss=0.66677):  10%|▉         | 2/21 [00:53<09:18, 29.42s/it]"
     ]
    },
    {
     "name": "stdout",
     "output_type": "stream",
     "text": [
      "Model Was Saved ! Current Best Avg. Dice: 0.5622588992118835 Current Avg. Dice: 0.5622588992118835 Current Avg. tumor Dice: 0.6088368892669678 Current Avg. lymph Dice: 0.4915197789669037\n"
     ]
    },
    {
     "name": "stderr",
     "output_type": "stream",
     "text": [
      "Training (15119 / 18000 Steps) (loss=0.67296): 100%|██████████| 21/21 [01:05<00:00,  3.10s/it]\n",
      "Training (15140 / 18000 Steps) (loss=0.18837): 100%|██████████| 21/21 [00:28<00:00,  1.34s/it]\n",
      "Training (15161 / 18000 Steps) (loss=0.68262): 100%|██████████| 21/21 [00:35<00:00,  1.70s/it]\n",
      "Training (15182 / 18000 Steps) (loss=0.66687): 100%|██████████| 21/21 [00:31<00:00,  1.48s/it]\n",
      "Validate (15183 / 10 Steps): 100%|██████████| 8/8 [00:41<00:00,  5.17s/it]33<00:07,  1.95s/it]\n",
      "Training (15200 / 18000 Steps) (loss=0.18482):  86%|████████▌ | 18/21 [01:14<00:41, 13.95s/it]"
     ]
    },
    {
     "name": "stdout",
     "output_type": "stream",
     "text": [
      "Model Was Not Saved ! Current Best Avg. Dice: 0.5622588992118835 Current Avg. Dice: 0.47905585169792175 Current Avg. tumor Dice: 0.5285784006118774 Current Avg. lymph Dice: 0.4048622250556946\n"
     ]
    },
    {
     "name": "stderr",
     "output_type": "stream",
     "text": [
      "Training (15203 / 18000 Steps) (loss=0.09024): 100%|██████████| 21/21 [01:16<00:00,  3.62s/it]\n",
      "Training (15224 / 18000 Steps) (loss=0.34243): 100%|██████████| 21/21 [00:43<00:00,  2.07s/it]\n",
      "Training (15245 / 18000 Steps) (loss=0.24602): 100%|██████████| 21/21 [00:40<00:00,  1.91s/it]\n",
      "Training (15266 / 18000 Steps) (loss=0.66953): 100%|██████████| 21/21 [00:45<00:00,  2.19s/it]\n",
      "Training (15287 / 18000 Steps) (loss=0.66003): 100%|██████████| 21/21 [00:34<00:00,  1.66s/it]\n",
      "Validate (15288 / 10 Steps): 100%|██████████| 8/8 [00:43<00:00,  5.48s/it]35<00:16,  1.78s/it]\n",
      "Training (15300 / 18000 Steps) (loss=0.12863):  62%|██████▏   | 13/21 [01:19<01:57, 14.73s/it]"
     ]
    },
    {
     "name": "stdout",
     "output_type": "stream",
     "text": [
      "Model Was Not Saved ! Current Best Avg. Dice: 0.5622588992118835 Current Avg. Dice: 0.4550650715827942 Current Avg. tumor Dice: 0.5495376586914062 Current Avg. lymph Dice: 0.3288706839084625\n"
     ]
    },
    {
     "name": "stderr",
     "output_type": "stream",
     "text": [
      "Training (15308 / 18000 Steps) (loss=0.28987): 100%|██████████| 21/21 [01:24<00:00,  4.03s/it]\n",
      "Training (15329 / 18000 Steps) (loss=0.12456): 100%|██████████| 21/21 [00:46<00:00,  2.19s/it]\n",
      "Training (15350 / 18000 Steps) (loss=0.66672): 100%|██████████| 21/21 [00:41<00:00,  1.98s/it]\n",
      "Training (15371 / 18000 Steps) (loss=0.29161): 100%|██████████| 21/21 [00:30<00:00,  1.46s/it]\n",
      "Training (15392 / 18000 Steps) (loss=0.67142): 100%|██████████| 21/21 [00:43<00:00,  2.07s/it]\n",
      "Validate (15393 / 10 Steps): 100%|██████████| 8/8 [00:44<00:00,  5.56s/it]4<00:22,  1.58s/it]\n",
      "Training (15400 / 18000 Steps) (loss=0.24407):  38%|███▊      | 8/21 [01:08<03:22, 15.56s/it]"
     ]
    },
    {
     "name": "stdout",
     "output_type": "stream",
     "text": [
      "Model Was Not Saved ! Current Best Avg. Dice: 0.5622588992118835 Current Avg. Dice: 0.5020455718040466 Current Avg. tumor Dice: 0.5560541152954102 Current Avg. lymph Dice: 0.41862183809280396\n"
     ]
    },
    {
     "name": "stderr",
     "output_type": "stream",
     "text": [
      "Training (15413 / 18000 Steps) (loss=0.49296): 100%|██████████| 21/21 [01:18<00:00,  3.74s/it]\n",
      "Training (15434 / 18000 Steps) (loss=0.66676): 100%|██████████| 21/21 [00:46<00:00,  2.20s/it]\n",
      "Training (15455 / 18000 Steps) (loss=0.23566): 100%|██████████| 21/21 [00:47<00:00,  2.26s/it]\n",
      "Training (15476 / 18000 Steps) (loss=0.50800): 100%|██████████| 21/21 [00:38<00:00,  1.85s/it]\n",
      "Training (15497 / 18000 Steps) (loss=0.66705): 100%|██████████| 21/21 [00:40<00:00,  1.93s/it]\n",
      "Validate (15498 / 10 Steps): 100%|██████████| 8/8 [00:47<00:00,  6.00s/it]8<02:24,  7.60s/it]\n",
      "Training (15500 / 18000 Steps) (loss=0.39936):  14%|█▍        | 3/21 [01:06<07:57, 26.52s/it]"
     ]
    },
    {
     "name": "stdout",
     "output_type": "stream",
     "text": [
      "Model Was Not Saved ! Current Best Avg. Dice: 0.5622588992118835 Current Avg. Dice: 0.48946088552474976 Current Avg. tumor Dice: 0.5324423909187317 Current Avg. lymph Dice: 0.4198348820209503\n"
     ]
    },
    {
     "name": "stderr",
     "output_type": "stream",
     "text": [
      "Training (15518 / 18000 Steps) (loss=0.66692): 100%|██████████| 21/21 [01:18<00:00,  3.72s/it]\n",
      "Training (15539 / 18000 Steps) (loss=0.67800): 100%|██████████| 21/21 [00:49<00:00,  2.34s/it]\n",
      "Training (15560 / 18000 Steps) (loss=0.66681): 100%|██████████| 21/21 [00:46<00:00,  2.20s/it]\n",
      "Training (15581 / 18000 Steps) (loss=0.43013): 100%|██████████| 21/21 [00:51<00:00,  2.43s/it]\n",
      "Validate (15582 / 10 Steps): 100%|██████████| 8/8 [00:46<00:00,  5.80s/it]30<00:06,  2.12s/it]\n",
      "Training (15600 / 18000 Steps) (loss=0.67046):  90%|█████████ | 19/21 [01:17<00:31, 15.71s/it]"
     ]
    },
    {
     "name": "stdout",
     "output_type": "stream",
     "text": [
      "Model Was Not Saved ! Current Best Avg. Dice: 0.5622588992118835 Current Avg. Dice: 0.5375980138778687 Current Avg. tumor Dice: 0.575844943523407 Current Avg. lymph Dice: 0.47194698452949524\n"
     ]
    },
    {
     "name": "stderr",
     "output_type": "stream",
     "text": [
      "Training (15602 / 18000 Steps) (loss=0.37063): 100%|██████████| 21/21 [01:18<00:00,  3.75s/it]\n",
      "Training (15623 / 18000 Steps) (loss=0.13692): 100%|██████████| 21/21 [00:45<00:00,  2.15s/it]\n",
      "Training (15644 / 18000 Steps) (loss=0.66870): 100%|██████████| 21/21 [00:48<00:00,  2.31s/it]\n",
      "Training (15665 / 18000 Steps) (loss=0.67058): 100%|██████████| 21/21 [00:46<00:00,  2.24s/it]\n",
      "Training (15686 / 18000 Steps) (loss=0.22584): 100%|██████████| 21/21 [00:46<00:00,  2.23s/it]\n",
      "Validate (15687 / 10 Steps): 100%|██████████| 8/8 [00:46<00:00,  5.85s/it]25<00:09,  1.23s/it]\n",
      "Training (15700 / 18000 Steps) (loss=0.24373):  67%|██████▋   | 14/21 [01:12<01:46, 15.27s/it]"
     ]
    },
    {
     "name": "stdout",
     "output_type": "stream",
     "text": [
      "Model Was Not Saved ! Current Best Avg. Dice: 0.5622588992118835 Current Avg. Dice: 0.5247856974601746 Current Avg. tumor Dice: 0.5546436309814453 Current Avg. lymph Dice: 0.4745907783508301\n"
     ]
    },
    {
     "name": "stderr",
     "output_type": "stream",
     "text": [
      "Training (15707 / 18000 Steps) (loss=0.45523): 100%|██████████| 21/21 [01:18<00:00,  3.72s/it]\n",
      "Training (15728 / 18000 Steps) (loss=0.67085): 100%|██████████| 21/21 [00:46<00:00,  2.19s/it]\n",
      "Training (15749 / 18000 Steps) (loss=0.66683): 100%|██████████| 21/21 [00:47<00:00,  2.24s/it]\n",
      "Training (15770 / 18000 Steps) (loss=0.66680): 100%|██████████| 21/21 [00:48<00:00,  2.31s/it]\n",
      "Training (15791 / 18000 Steps) (loss=0.66671): 100%|██████████| 21/21 [00:46<00:00,  2.19s/it]\n",
      "Validate (15792 / 10 Steps): 100%|██████████| 8/8 [00:47<00:00,  5.90s/it]6<00:12,  1.04it/s]\n",
      "Training (15800 / 18000 Steps) (loss=0.46257):  43%|████▎     | 9/21 [01:13<03:29, 17.43s/it]"
     ]
    },
    {
     "name": "stdout",
     "output_type": "stream",
     "text": [
      "Model Was Not Saved ! Current Best Avg. Dice: 0.5622588992118835 Current Avg. Dice: 0.4483755826950073 Current Avg. tumor Dice: 0.54521644115448 Current Avg. lymph Dice: 0.3153418004512787\n"
     ]
    },
    {
     "name": "stderr",
     "output_type": "stream",
     "text": [
      "Training (15812 / 18000 Steps) (loss=0.12814): 100%|██████████| 21/21 [01:21<00:00,  3.90s/it]\n",
      "Training (15833 / 18000 Steps) (loss=0.16442): 100%|██████████| 21/21 [00:46<00:00,  2.22s/it]\n",
      "Training (15854 / 18000 Steps) (loss=0.38889): 100%|██████████| 21/21 [00:48<00:00,  2.32s/it]\n",
      "Training (15875 / 18000 Steps) (loss=0.66673): 100%|██████████| 21/21 [00:49<00:00,  2.35s/it]\n",
      "Training (15896 / 18000 Steps) (loss=0.67129): 100%|██████████| 21/21 [00:31<00:00,  1.50s/it]\n",
      "Validate (15897 / 10 Steps): 100%|██████████| 8/8 [00:53<00:00,  6.67s/it]1<01:37,  5.44s/it]\n",
      "Training (15900 / 18000 Steps) (loss=0.38371):  19%|█▉        | 4/21 [01:15<07:01, 24.77s/it]"
     ]
    },
    {
     "name": "stdout",
     "output_type": "stream",
     "text": [
      "Model Was Not Saved ! Current Best Avg. Dice: 0.5622588992118835 Current Avg. Dice: 0.4871705174446106 Current Avg. tumor Dice: 0.5229077935218811 Current Avg. lymph Dice: 0.4220786690711975\n"
     ]
    },
    {
     "name": "stderr",
     "output_type": "stream",
     "text": [
      "Training (15917 / 18000 Steps) (loss=0.12895): 100%|██████████| 21/21 [01:27<00:00,  4.18s/it]\n",
      "Training (15938 / 18000 Steps) (loss=0.18399): 100%|██████████| 21/21 [00:45<00:00,  2.19s/it]\n",
      "Training (15959 / 18000 Steps) (loss=0.58771): 100%|██████████| 21/21 [00:49<00:00,  2.34s/it]\n",
      "Training (15980 / 18000 Steps) (loss=0.13478): 100%|██████████| 21/21 [00:53<00:00,  2.56s/it]\n",
      "Validate (15981 / 10 Steps): 100%|██████████| 8/8 [00:38<00:00,  4.77s/it]36<00:01,  1.29it/s]\n",
      "Training (16000 / 18000 Steps) (loss=0.35421):  95%|█████████▌| 20/21 [01:14<00:12, 12.19s/it]"
     ]
    },
    {
     "name": "stdout",
     "output_type": "stream",
     "text": [
      "Model Was Not Saved ! Current Best Avg. Dice: 0.5622588992118835 Current Avg. Dice: 0.5079885721206665 Current Avg. tumor Dice: 0.5805447697639465 Current Avg. lymph Dice: 0.4123634994029999\n"
     ]
    },
    {
     "name": "stderr",
     "output_type": "stream",
     "text": [
      "Training (16001 / 18000 Steps) (loss=0.31393): 100%|██████████| 21/21 [01:15<00:00,  3.59s/it]\n",
      "Training (16022 / 18000 Steps) (loss=0.14136): 100%|██████████| 21/21 [00:50<00:00,  2.41s/it]\n",
      "Training (16043 / 18000 Steps) (loss=0.66695): 100%|██████████| 21/21 [00:52<00:00,  2.50s/it]\n",
      "Training (16064 / 18000 Steps) (loss=0.43408): 100%|██████████| 21/21 [00:52<00:00,  2.52s/it]\n",
      "Training (16085 / 18000 Steps) (loss=0.17041): 100%|██████████| 21/21 [00:53<00:00,  2.55s/it]\n",
      "Validate (16086 / 10 Steps): 100%|██████████| 8/8 [00:41<00:00,  5.14s/it]37<00:07,  1.07s/it]\n",
      "Training (16100 / 18000 Steps) (loss=0.42438):  71%|███████▏  | 15/21 [01:19<01:20, 13.37s/it]"
     ]
    },
    {
     "name": "stdout",
     "output_type": "stream",
     "text": [
      "Model Was Not Saved ! Current Best Avg. Dice: 0.5622588992118835 Current Avg. Dice: 0.5291332006454468 Current Avg. tumor Dice: 0.5854660868644714 Current Avg. lymph Dice: 0.4451296925544739\n"
     ]
    },
    {
     "name": "stderr",
     "output_type": "stream",
     "text": [
      "Training (16106 / 18000 Steps) (loss=0.13534): 100%|██████████| 21/21 [01:25<00:00,  4.06s/it]\n",
      "Training (16127 / 18000 Steps) (loss=0.38669): 100%|██████████| 21/21 [00:53<00:00,  2.54s/it]\n",
      "Training (16148 / 18000 Steps) (loss=0.59342): 100%|██████████| 21/21 [00:48<00:00,  2.30s/it]\n",
      "Training (16169 / 18000 Steps) (loss=0.13855): 100%|██████████| 21/21 [00:55<00:00,  2.65s/it]\n",
      "Training (16190 / 18000 Steps) (loss=0.66679): 100%|██████████| 21/21 [00:48<00:00,  2.30s/it]\n",
      "Validate (16191 / 10 Steps): 100%|██████████| 8/8 [00:47<00:00,  5.95s/it]1<00:36,  3.03s/it]\n",
      "Training (16200 / 18000 Steps) (loss=0.45841):  48%|████▊     | 10/21 [01:19<03:08, 17.10s/it]"
     ]
    },
    {
     "name": "stdout",
     "output_type": "stream",
     "text": [
      "Model Was Not Saved ! Current Best Avg. Dice: 0.5622588992118835 Current Avg. Dice: 0.541799008846283 Current Avg. tumor Dice: 0.6039935946464539 Current Avg. lymph Dice: 0.4501035213470459\n"
     ]
    },
    {
     "name": "stderr",
     "output_type": "stream",
     "text": [
      "Training (16211 / 18000 Steps) (loss=0.22452): 100%|██████████| 21/21 [01:26<00:00,  4.14s/it]\n",
      "Training (16232 / 18000 Steps) (loss=0.13490): 100%|██████████| 21/21 [00:51<00:00,  2.44s/it]\n",
      "Training (16253 / 18000 Steps) (loss=0.08110): 100%|██████████| 21/21 [00:52<00:00,  2.52s/it]\n",
      "Training (16274 / 18000 Steps) (loss=0.46969): 100%|██████████| 21/21 [00:54<00:00,  2.60s/it]\n",
      "Training (16295 / 18000 Steps) (loss=0.14274): 100%|██████████| 21/21 [00:37<00:00,  1.80s/it]\n",
      "Validate (16296 / 10 Steps): 100%|██████████| 8/8 [00:51<00:00,  6.39s/it]3<00:34,  2.03s/it]\n",
      "Training (16300 / 18000 Steps) (loss=0.48773):  24%|██▍       | 5/21 [01:05<05:20, 20.03s/it]"
     ]
    },
    {
     "name": "stdout",
     "output_type": "stream",
     "text": [
      "Model Was Not Saved ! Current Best Avg. Dice: 0.5622588992118835 Current Avg. Dice: 0.5245396494865417 Current Avg. tumor Dice: 0.5823351740837097 Current Avg. lymph Dice: 0.4407873749732971\n"
     ]
    },
    {
     "name": "stderr",
     "output_type": "stream",
     "text": [
      "Training (16316 / 18000 Steps) (loss=0.66769): 100%|██████████| 21/21 [01:17<00:00,  3.69s/it]\n",
      "Training (16337 / 18000 Steps) (loss=0.42954): 100%|██████████| 21/21 [00:55<00:00,  2.63s/it]\n",
      "Training (16358 / 18000 Steps) (loss=0.38884): 100%|██████████| 21/21 [00:55<00:00,  2.65s/it]\n",
      "Training (16379 / 18000 Steps) (loss=0.66692): 100%|██████████| 21/21 [00:53<00:00,  2.53s/it]\n",
      "Validate (16380 / 10 Steps): 100%|██████████| 8/8 [00:39<00:00,  4.97s/it]51<00:00,  1.11it/s]\n",
      "Training (16400 / 18000 Steps) (loss=0.09153): 100%|██████████| 21/21 [01:31<00:00, 12.72s/it]"
     ]
    },
    {
     "name": "stdout",
     "output_type": "stream",
     "text": [
      "Model Was Not Saved ! Current Best Avg. Dice: 0.5622588992118835 Current Avg. Dice: 0.4888642132282257 Current Avg. tumor Dice: 0.49322381615638733 Current Avg. lymph Dice: 0.4718017876148224\n"
     ]
    },
    {
     "name": "stderr",
     "output_type": "stream",
     "text": [
      "Training (16400 / 18000 Steps) (loss=0.09153): 100%|██████████| 21/21 [01:32<00:00,  4.40s/it]\n",
      "Training (16421 / 18000 Steps) (loss=0.26362): 100%|██████████| 21/21 [00:49<00:00,  2.34s/it]\n",
      "Training (16442 / 18000 Steps) (loss=0.66687): 100%|██████████| 21/21 [00:48<00:00,  2.29s/it]\n",
      "Training (16463 / 18000 Steps) (loss=0.66702): 100%|██████████| 21/21 [00:53<00:00,  2.53s/it]\n",
      "Training (16484 / 18000 Steps) (loss=0.66108): 100%|██████████| 21/21 [00:58<00:00,  2.77s/it]\n",
      "Validate (16485 / 10 Steps): 100%|██████████| 8/8 [00:39<00:00,  4.98s/it]57<00:07,  1.29s/it]\n",
      "Training (16500 / 18000 Steps) (loss=0.51794):  76%|███████▌  | 16/21 [01:37<01:05, 13.09s/it]"
     ]
    },
    {
     "name": "stdout",
     "output_type": "stream",
     "text": [
      "Model Was Not Saved ! Current Best Avg. Dice: 0.5622588992118835 Current Avg. Dice: 0.4650353193283081 Current Avg. tumor Dice: 0.5263273119926453 Current Avg. lymph Dice: 0.37305694818496704\n"
     ]
    },
    {
     "name": "stderr",
     "output_type": "stream",
     "text": [
      "Training (16505 / 18000 Steps) (loss=0.27583): 100%|██████████| 21/21 [01:40<00:00,  4.79s/it]\n",
      "Training (16526 / 18000 Steps) (loss=0.66712): 100%|██████████| 21/21 [00:39<00:00,  1.88s/it]\n",
      "Training (16547 / 18000 Steps) (loss=0.12696): 100%|██████████| 21/21 [00:40<00:00,  1.91s/it]\n",
      "Training (16568 / 18000 Steps) (loss=0.66727): 100%|██████████| 21/21 [00:38<00:00,  1.83s/it]\n",
      "Training (16589 / 18000 Steps) (loss=0.14543): 100%|██████████| 21/21 [00:44<00:00,  2.14s/it]\n",
      "Validate (16590 / 10 Steps): 100%|██████████| 8/8 [00:40<00:00,  5.01s/it]19<00:16,  1.49s/it]\n",
      "Training (16600 / 18000 Steps) (loss=0.41942):  52%|█████▏    | 11/21 [01:00<02:14, 13.49s/it]"
     ]
    },
    {
     "name": "stdout",
     "output_type": "stream",
     "text": [
      "Model Was Not Saved ! Current Best Avg. Dice: 0.5622588992118835 Current Avg. Dice: 0.4535890519618988 Current Avg. tumor Dice: 0.4613252580165863 Current Avg. lymph Dice: 0.44984450936317444\n"
     ]
    },
    {
     "name": "stderr",
     "output_type": "stream",
     "text": [
      "Training (16610 / 18000 Steps) (loss=0.66685): 100%|██████████| 21/21 [01:05<00:00,  3.13s/it]\n",
      "Training (16631 / 18000 Steps) (loss=0.12764): 100%|██████████| 21/21 [00:37<00:00,  1.79s/it]\n",
      "Training (16652 / 18000 Steps) (loss=0.66841): 100%|██████████| 21/21 [00:37<00:00,  1.81s/it]\n",
      "Training (16673 / 18000 Steps) (loss=0.70619): 100%|██████████| 21/21 [00:44<00:00,  2.11s/it]\n",
      "Training (16694 / 18000 Steps) (loss=0.15850): 100%|██████████| 21/21 [00:31<00:00,  1.49s/it]\n",
      "Validate (16695 / 10 Steps): 100%|██████████| 8/8 [00:47<00:00,  5.93s/it]3<00:23,  1.49s/it]\n",
      "Training (16700 / 18000 Steps) (loss=0.50263):  29%|██▊       | 6/21 [01:01<04:22, 17.49s/it]"
     ]
    },
    {
     "name": "stdout",
     "output_type": "stream",
     "text": [
      "Model Was Not Saved ! Current Best Avg. Dice: 0.5622588992118835 Current Avg. Dice: 0.530438244342804 Current Avg. tumor Dice: 0.5799251794815063 Current Avg. lymph Dice: 0.45614704489707947\n"
     ]
    },
    {
     "name": "stderr",
     "output_type": "stream",
     "text": [
      "Training (16715 / 18000 Steps) (loss=0.17993): 100%|██████████| 21/21 [01:11<00:00,  3.40s/it]\n",
      "Training (16736 / 18000 Steps) (loss=0.66899): 100%|██████████| 21/21 [00:41<00:00,  1.95s/it]\n",
      "Training (16757 / 18000 Steps) (loss=0.41110): 100%|██████████| 21/21 [00:42<00:00,  2.02s/it]\n",
      "Training (16778 / 18000 Steps) (loss=0.13327): 100%|██████████| 21/21 [00:45<00:00,  2.15s/it]\n",
      "Training (16799 / 18000 Steps) (loss=0.66701): 100%|██████████| 21/21 [00:27<00:00,  1.33s/it]\n",
      "Validate (16800 / 10 Steps): 100%|██████████| 8/8 [00:46<00:00,  5.87s/it]3<?, ?it/s]\n",
      "Training (16800 / 18000 Steps) (loss=0.17127):   5%|▍         | 1/21 [01:01<20:22, 61.13s/it]"
     ]
    },
    {
     "name": "stdout",
     "output_type": "stream",
     "text": [
      "Model Was Not Saved ! Current Best Avg. Dice: 0.5622588992118835 Current Avg. Dice: 0.5217670202255249 Current Avg. tumor Dice: 0.5643976926803589 Current Avg. lymph Dice: 0.4578664302825928\n"
     ]
    },
    {
     "name": "stderr",
     "output_type": "stream",
     "text": [
      "Training (16820 / 18000 Steps) (loss=0.66740): 100%|██████████| 21/21 [01:15<00:00,  3.59s/it]\n",
      "Training (16841 / 18000 Steps) (loss=0.08565): 100%|██████████| 21/21 [00:43<00:00,  2.08s/it]\n",
      "Training (16862 / 18000 Steps) (loss=0.13095): 100%|██████████| 21/21 [00:41<00:00,  1.99s/it]\n",
      "Training (16883 / 18000 Steps) (loss=0.66678): 100%|██████████| 21/21 [00:46<00:00,  2.20s/it]\n",
      "Validate (16884 / 10 Steps): 100%|██████████| 8/8 [00:39<00:00,  4.95s/it]28<00:03,  1.63it/s]\n",
      "Training (16900 / 18000 Steps) (loss=0.44454):  81%|████████  | 17/21 [01:08<00:51, 12.80s/it]"
     ]
    },
    {
     "name": "stdout",
     "output_type": "stream",
     "text": [
      "Model Was Not Saved ! Current Best Avg. Dice: 0.5622588992118835 Current Avg. Dice: 0.5029745697975159 Current Avg. tumor Dice: 0.5602325797080994 Current Avg. lymph Dice: 0.4188430607318878\n"
     ]
    },
    {
     "name": "stderr",
     "output_type": "stream",
     "text": [
      "Training (16904 / 18000 Steps) (loss=0.66714): 100%|██████████| 21/21 [01:10<00:00,  3.35s/it]\n",
      "Training (16925 / 18000 Steps) (loss=0.10068): 100%|██████████| 21/21 [00:40<00:00,  1.93s/it]\n",
      "Training (16946 / 18000 Steps) (loss=0.41433): 100%|██████████| 21/21 [00:42<00:00,  2.01s/it]\n",
      "Training (16967 / 18000 Steps) (loss=0.21701): 100%|██████████| 21/21 [00:41<00:00,  1.96s/it]\n",
      "Training (16988 / 18000 Steps) (loss=0.44820): 100%|██████████| 21/21 [00:47<00:00,  2.25s/it]\n",
      "Validate (16989 / 10 Steps): 100%|██████████| 8/8 [00:38<00:00,  4.80s/it]22<00:13,  1.38s/it]\n",
      "Training (17000 / 18000 Steps) (loss=0.47003):  57%|█████▋    | 12/21 [01:00<01:55, 12.83s/it]"
     ]
    },
    {
     "name": "stdout",
     "output_type": "stream",
     "text": [
      "Model Was Not Saved ! Current Best Avg. Dice: 0.5622588992118835 Current Avg. Dice: 0.43426138162612915 Current Avg. tumor Dice: 0.4934968948364258 Current Avg. lymph Dice: 0.3546101152896881\n"
     ]
    },
    {
     "name": "stderr",
     "output_type": "stream",
     "text": [
      "Training (17009 / 18000 Steps) (loss=0.38594): 100%|██████████| 21/21 [01:05<00:00,  3.12s/it]\n",
      "Training (17030 / 18000 Steps) (loss=0.15709): 100%|██████████| 21/21 [00:26<00:00,  1.27s/it]\n",
      "Training (17051 / 18000 Steps) (loss=0.67003): 100%|██████████| 21/21 [00:23<00:00,  1.12s/it]\n",
      "Training (17072 / 18000 Steps) (loss=0.11146): 100%|██████████| 21/21 [00:24<00:00,  1.16s/it]\n",
      "Training (17093 / 18000 Steps) (loss=0.27625): 100%|██████████| 21/21 [00:23<00:00,  1.14s/it]\n",
      "Validate (17094 / 10 Steps): 100%|██████████| 8/8 [00:40<00:00,  5.10s/it]3<00:18,  1.20s/it]\n",
      "Training (17100 / 18000 Steps) (loss=0.18800):  33%|███▎      | 7/21 [00:54<03:20, 14.34s/it]"
     ]
    },
    {
     "name": "stdout",
     "output_type": "stream",
     "text": [
      "Model Was Not Saved ! Current Best Avg. Dice: 0.5622588992118835 Current Avg. Dice: 0.5301629304885864 Current Avg. tumor Dice: 0.5718125104904175 Current Avg. lymph Dice: 0.46964964270591736\n"
     ]
    },
    {
     "name": "stderr",
     "output_type": "stream",
     "text": [
      "Training (17114 / 18000 Steps) (loss=0.40498): 100%|██████████| 21/21 [01:02<00:00,  2.95s/it]\n",
      "Training (17135 / 18000 Steps) (loss=0.31612): 100%|██████████| 21/21 [00:24<00:00,  1.19s/it]\n",
      "Training (17156 / 18000 Steps) (loss=0.17213): 100%|██████████| 21/21 [00:23<00:00,  1.13s/it]\n",
      "Training (17177 / 18000 Steps) (loss=0.36283): 100%|██████████| 21/21 [00:22<00:00,  1.08s/it]\n",
      "Training (17198 / 18000 Steps) (loss=0.13806): 100%|██████████| 21/21 [00:22<00:00,  1.08s/it]\n",
      "Validate (17199 / 10 Steps): 100%|██████████| 8/8 [00:37<00:00,  4.72s/it]0<03:11,  9.59s/it]\n",
      "Training (17200 / 18000 Steps) (loss=0.66728):  10%|▉         | 2/21 [00:48<08:30, 26.86s/it]"
     ]
    },
    {
     "name": "stdout",
     "output_type": "stream",
     "text": [
      "Model Was Not Saved ! Current Best Avg. Dice: 0.5622588992118835 Current Avg. Dice: 0.47724831104278564 Current Avg. tumor Dice: 0.5679214596748352 Current Avg. lymph Dice: 0.35711297392845154\n"
     ]
    },
    {
     "name": "stderr",
     "output_type": "stream",
     "text": [
      "Training (17219 / 18000 Steps) (loss=0.31295): 100%|██████████| 21/21 [00:59<00:00,  2.82s/it]\n",
      "Training (17240 / 18000 Steps) (loss=0.29146): 100%|██████████| 21/21 [00:26<00:00,  1.25s/it]\n",
      "Training (17261 / 18000 Steps) (loss=0.13297): 100%|██████████| 21/21 [00:24<00:00,  1.15s/it]\n",
      "Training (17282 / 18000 Steps) (loss=0.16186): 100%|██████████| 21/21 [00:23<00:00,  1.13s/it]\n",
      "Validate (17283 / 10 Steps): 100%|██████████| 8/8 [00:35<00:00,  4.48s/it]22<00:03,  1.13it/s]\n",
      "Training (17300 / 18000 Steps) (loss=0.42393):  86%|████████▌ | 18/21 [00:58<00:34, 11.55s/it]"
     ]
    },
    {
     "name": "stdout",
     "output_type": "stream",
     "text": [
      "Model Was Not Saved ! Current Best Avg. Dice: 0.5622588992118835 Current Avg. Dice: 0.5067451000213623 Current Avg. tumor Dice: 0.5506945252418518 Current Avg. lymph Dice: 0.43703317642211914\n"
     ]
    },
    {
     "name": "stderr",
     "output_type": "stream",
     "text": [
      "Training (17303 / 18000 Steps) (loss=0.40751): 100%|██████████| 21/21 [00:59<00:00,  2.84s/it]\n",
      "Training (17324 / 18000 Steps) (loss=0.43161): 100%|██████████| 21/21 [00:23<00:00,  1.13s/it]\n",
      "Training (17345 / 18000 Steps) (loss=0.66679): 100%|██████████| 21/21 [00:23<00:00,  1.12s/it]\n",
      "Training (17366 / 18000 Steps) (loss=0.46505): 100%|██████████| 21/21 [00:23<00:00,  1.10s/it]\n",
      "Training (17387 / 18000 Steps) (loss=0.16441): 100%|██████████| 21/21 [00:24<00:00,  1.14s/it]\n",
      "Validate (17388 / 10 Steps): 100%|██████████| 8/8 [00:36<00:00,  4.53s/it]18<00:09,  1.09s/it]\n",
      "Training (17400 / 18000 Steps) (loss=0.14615):  62%|██████▏   | 13/21 [00:54<01:35, 11.91s/it]"
     ]
    },
    {
     "name": "stdout",
     "output_type": "stream",
     "text": [
      "Model Was Not Saved ! Current Best Avg. Dice: 0.5622588992118835 Current Avg. Dice: 0.45173364877700806 Current Avg. tumor Dice: 0.5327838659286499 Current Avg. lymph Dice: 0.3378760516643524\n"
     ]
    },
    {
     "name": "stderr",
     "output_type": "stream",
     "text": [
      "Training (17408 / 18000 Steps) (loss=0.21674): 100%|██████████| 21/21 [00:58<00:00,  2.80s/it]\n",
      "Training (17429 / 18000 Steps) (loss=0.65750): 100%|██████████| 21/21 [00:24<00:00,  1.17s/it]\n",
      "Training (17450 / 18000 Steps) (loss=0.40694): 100%|██████████| 21/21 [00:23<00:00,  1.13s/it]\n",
      "Training (17471 / 18000 Steps) (loss=0.08768): 100%|██████████| 21/21 [00:23<00:00,  1.13s/it]\n",
      "Training (17492 / 18000 Steps) (loss=0.66807): 100%|██████████| 21/21 [00:23<00:00,  1.12s/it]\n",
      "Validate (17493 / 10 Steps): 100%|██████████| 8/8 [00:39<00:00,  4.90s/it]3<00:12,  1.09it/s]\n",
      "Training (17500 / 18000 Steps) (loss=0.56837):  38%|███▊      | 8/21 [00:52<02:53, 13.32s/it]"
     ]
    },
    {
     "name": "stdout",
     "output_type": "stream",
     "text": [
      "Model Was Not Saved ! Current Best Avg. Dice: 0.5622588992118835 Current Avg. Dice: 0.5244156122207642 Current Avg. tumor Dice: 0.5635434985160828 Current Avg. lymph Dice: 0.4649796783924103\n"
     ]
    },
    {
     "name": "stderr",
     "output_type": "stream",
     "text": [
      "Training (17513 / 18000 Steps) (loss=0.66671): 100%|██████████| 21/21 [00:59<00:00,  2.84s/it]\n",
      "Training (17534 / 18000 Steps) (loss=0.66714): 100%|██████████| 21/21 [00:23<00:00,  1.12s/it]\n",
      "Training (17555 / 18000 Steps) (loss=0.15554): 100%|██████████| 21/21 [00:23<00:00,  1.13s/it]\n",
      "Training (17576 / 18000 Steps) (loss=0.66702): 100%|██████████| 21/21 [00:25<00:00,  1.20s/it]\n",
      "Training (17597 / 18000 Steps) (loss=0.15963): 100%|██████████| 21/21 [00:23<00:00,  1.10s/it]\n",
      "Validate (17598 / 10 Steps): 100%|██████████| 8/8 [00:40<00:00,  5.01s/it]0<01:20,  4.25s/it]\n",
      "Training (17600 / 18000 Steps) (loss=0.17262):  14%|█▍        | 3/21 [00:50<06:16, 20.92s/it]"
     ]
    },
    {
     "name": "stdout",
     "output_type": "stream",
     "text": [
      "Model Was Not Saved ! Current Best Avg. Dice: 0.5622588992118835 Current Avg. Dice: 0.5331805348396301 Current Avg. tumor Dice: 0.5794156789779663 Current Avg. lymph Dice: 0.46097418665885925\n"
     ]
    },
    {
     "name": "stderr",
     "output_type": "stream",
     "text": [
      "Training (17618 / 18000 Steps) (loss=0.13669): 100%|██████████| 21/21 [01:00<00:00,  2.88s/it]\n",
      "Training (17639 / 18000 Steps) (loss=0.50907): 100%|██████████| 21/21 [00:23<00:00,  1.12s/it]\n",
      "Training (17660 / 18000 Steps) (loss=0.17988): 100%|██████████| 21/21 [00:24<00:00,  1.16s/it]\n",
      "Training (17681 / 18000 Steps) (loss=0.66676): 100%|██████████| 21/21 [00:23<00:00,  1.12s/it]\n",
      "Validate (17682 / 10 Steps): 100%|██████████| 8/8 [00:35<00:00,  4.42s/it]22<00:02,  1.37it/s]\n",
      "Training (17700 / 18000 Steps) (loss=0.45671):  90%|█████████ | 19/21 [00:57<00:22, 11.31s/it]"
     ]
    },
    {
     "name": "stdout",
     "output_type": "stream",
     "text": [
      "Model Was Not Saved ! Current Best Avg. Dice: 0.5622588992118835 Current Avg. Dice: 0.5583785772323608 Current Avg. tumor Dice: 0.6097208261489868 Current Avg. lymph Dice: 0.4819105565547943\n"
     ]
    },
    {
     "name": "stderr",
     "output_type": "stream",
     "text": [
      "Training (17702 / 18000 Steps) (loss=0.13081): 100%|██████████| 21/21 [00:58<00:00,  2.79s/it]\n",
      "Training (17723 / 18000 Steps) (loss=0.11194): 100%|██████████| 21/21 [00:26<00:00,  1.28s/it]\n",
      "Training (17744 / 18000 Steps) (loss=0.66698): 100%|██████████| 21/21 [00:25<00:00,  1.22s/it]\n",
      "Training (17765 / 18000 Steps) (loss=0.57243): 100%|██████████| 21/21 [00:24<00:00,  1.18s/it]\n",
      "Training (17786 / 18000 Steps) (loss=0.21305): 100%|██████████| 21/21 [00:24<00:00,  1.14s/it]\n",
      "Validate (17787 / 10 Steps): 100%|██████████| 8/8 [00:37<00:00,  4.68s/it]19<00:08,  1.01s/it]\n",
      "Training (17800 / 18000 Steps) (loss=0.23891):  67%|██████▋   | 14/21 [00:57<01:25, 12.19s/it]"
     ]
    },
    {
     "name": "stdout",
     "output_type": "stream",
     "text": [
      "Model Was Not Saved ! Current Best Avg. Dice: 0.5622588992118835 Current Avg. Dice: 0.5185246467590332 Current Avg. tumor Dice: 0.5916979908943176 Current Avg. lymph Dice: 0.416488915681839\n"
     ]
    },
    {
     "name": "stderr",
     "output_type": "stream",
     "text": [
      "Training (17807 / 18000 Steps) (loss=0.17437): 100%|██████████| 21/21 [01:01<00:00,  2.91s/it]\n",
      "Training (17828 / 18000 Steps) (loss=0.18333): 100%|██████████| 21/21 [00:24<00:00,  1.18s/it]\n",
      "Training (17849 / 18000 Steps) (loss=0.66419): 100%|██████████| 21/21 [00:24<00:00,  1.15s/it]\n",
      "Training (17870 / 18000 Steps) (loss=0.33726): 100%|██████████| 21/21 [00:24<00:00,  1.16s/it]\n",
      "Training (17891 / 18000 Steps) (loss=0.66787): 100%|██████████| 21/21 [00:24<00:00,  1.17s/it]\n",
      "Validate (17892 / 10 Steps): 100%|██████████| 8/8 [00:36<00:00,  4.57s/it]9<00:11,  1.15it/s]\n",
      "Training (17900 / 18000 Steps) (loss=0.43929):  43%|████▎     | 9/21 [00:56<02:40, 13.41s/it]"
     ]
    },
    {
     "name": "stdout",
     "output_type": "stream",
     "text": [
      "Model Was Not Saved ! Current Best Avg. Dice: 0.5622588992118835 Current Avg. Dice: 0.5621423125267029 Current Avg. tumor Dice: 0.6027969717979431 Current Avg. lymph Dice: 0.49654659628868103\n"
     ]
    },
    {
     "name": "stderr",
     "output_type": "stream",
     "text": [
      "Training (17912 / 18000 Steps) (loss=0.11716): 100%|██████████| 21/21 [01:02<00:00,  2.98s/it]\n",
      "Training (17933 / 18000 Steps) (loss=0.21722): 100%|██████████| 21/21 [00:25<00:00,  1.23s/it]\n",
      "Training (17954 / 18000 Steps) (loss=0.68160): 100%|██████████| 21/21 [00:25<00:00,  1.20s/it]\n",
      "Training (17975 / 18000 Steps) (loss=0.18159): 100%|██████████| 21/21 [00:24<00:00,  1.18s/it]\n",
      "Training (17996 / 18000 Steps) (loss=0.66675): 100%|██████████| 21/21 [00:24<00:00,  1.14s/it]\n",
      "Validate (17997 / 10 Steps): 100%|██████████| 8/8 [00:39<00:00,  5.00s/it]0<00:45,  2.50s/it]\n",
      "Training (18000 / 18000 Steps) (loss=0.53164):  19%|█▉        | 4/21 [00:50<04:58, 17.55s/it]"
     ]
    },
    {
     "name": "stdout",
     "output_type": "stream",
     "text": [
      "Model Was Not Saved ! Current Best Avg. Dice: 0.5622588992118835 Current Avg. Dice: 0.5262609124183655 Current Avg. tumor Dice: 0.5922994613647461 Current Avg. lymph Dice: 0.44109970331192017\n"
     ]
    },
    {
     "name": "stderr",
     "output_type": "stream",
     "text": [
      "Training (18017 / 18000 Steps) (loss=0.43169): 100%|██████████| 21/21 [00:59<00:00,  2.85s/it]\n"
     ]
    }
   ],
   "source": [
    "epoch = 0 # used for LR scheduler\n",
    "max_num_epochs = 530 # used for LR scheduler\n",
    "\n",
    "\n",
    "while global_step < max_iterations:\n",
    "    global_step, dice_val_best, global_step_best = train(\n",
    "        global_step, train_loader, dice_val_best, global_step_best\n",
    "    )\n",
    "    epoch += 1\n",
    "    #optimizer.param_groups[0]['lr'] = poly_lr(epoch, max_num_epochs, 0.005676 , 0.9)\n",
    "# model.load_state_dict(torch.load(os.path.join(model_dir, \"best_metric_luck_UNETr_prompt.pth\")))"
   ]
  },
  {
   "cell_type": "markdown",
   "metadata": {},
   "source": []
  }
 ],
 "metadata": {
  "kernelspec": {
   "display_name": "clam",
   "language": "python",
   "name": "python3"
  },
  "language_info": {
   "codemirror_mode": {
    "name": "ipython",
    "version": 3
   },
   "file_extension": ".py",
   "mimetype": "text/x-python",
   "name": "python",
   "nbconvert_exporter": "python",
   "pygments_lexer": "ipython3",
   "version": "3.8.0"
  }
 },
 "nbformat": 4,
 "nbformat_minor": 2
}
