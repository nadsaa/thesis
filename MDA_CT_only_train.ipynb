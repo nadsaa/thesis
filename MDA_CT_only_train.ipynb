{
 "cells": [
  {
   "cell_type": "code",
   "execution_count": 5,
   "metadata": {},
   "outputs": [
    {
     "data": {
      "text/plain": [
       "1"
      ]
     },
     "execution_count": 5,
     "metadata": {},
     "output_type": "execute_result"
    }
   ],
   "source": [
    "import os\n",
    "os.environ[\"CUDA_DEVICE_ORDER\"] = \"PCI_BUS_ID\"\n",
    "os.environ[\"CUDA_VISIBLE_DEVICES\"] = \"1\" \n",
    "import torch\n",
    "torch.cuda.device_count()"
   ]
  },
  {
   "cell_type": "code",
   "execution_count": 6,
   "metadata": {},
   "outputs": [],
   "source": [
    "import os\n",
    "import shutil\n",
    "import tempfile\n",
    "\n",
    "import matplotlib.pyplot as plt\n",
    "import numpy as np\n",
    "from tqdm import tqdm\n",
    "from glob import glob\n",
    "# import wandb\n",
    "\n",
    "import monai\n",
    "from monai.losses import DiceCELoss, DiceFocalLoss, FocalLoss\n",
    "from monai.inferers import sliding_window_inference\n",
    "from monai import transforms\n",
    "\n",
    "from monai.transforms import (\n",
    "    AsDiscrete,\n",
    "    Compose,\n",
    "    CropForegroundd,\n",
    "    LoadImaged,\n",
    "    Orientationd,\n",
    "    RandFlipd,\n",
    "    RandCropByPosNegLabeld,\n",
    "    RandShiftIntensityd,\n",
    "    ScaleIntensityRanged,\n",
    "    Spacingd,\n",
    "    RandRotate90d,\n",
    "    MapTransform,\n",
    "    ScaleIntensityd,\n",
    "    #AddChanneld,\n",
    "    SpatialPadd,\n",
    "    CenterSpatialCropd,\n",
    "    EnsureChannelFirstd,\n",
    "    ConcatItemsd,\n",
    "    AdjustContrastd, \n",
    "    Rand3DElasticd,\n",
    "    HistogramNormalized,\n",
    "    NormalizeIntensityd,\n",
    "    Invertd,\n",
    "    SaveImage,\n",
    "\n",
    ")\n",
    "\n",
    "from monai.config import print_config\n",
    "from monai.metrics import DiceMetric\n",
    "from monai.networks.nets import SwinUNETR, UNETR, SegResNet\n",
    "\n",
    "from monai.data import (\n",
    "    DataLoader,\n",
    "    CacheDataset,\n",
    "    load_decathlon_datalist,\n",
    "    decollate_batch,\n",
    ")\n",
    "from monai import data\n",
    "\n",
    "\n",
    "from monai.utils import first, set_determinism\n",
    "from sklearn.model_selection import train_test_split\n",
    "import json\n",
    "\n",
    "\n",
    "import torch"
   ]
  },
  {
   "cell_type": "code",
   "execution_count": 7,
   "metadata": {},
   "outputs": [],
   "source": [
    "set_determinism(seed=1024)"
   ]
  },
  {
   "cell_type": "code",
   "execution_count": 8,
   "metadata": {},
   "outputs": [
    {
     "name": "stdout",
     "output_type": "stream",
     "text": [
      "JSON file created at /home/nada.saadi/MIS-FM/hecktor2022_cropped/MDA_ct_train_new.json\n"
     ]
    }
   ],
   "source": [
    "import os\n",
    "import json\n",
    "import random\n",
    "from glob import glob\n",
    "\n",
    "def generate_paths(patient_id):\n",
    "    base_dir = '/home/nada.saadi/MIS-FM/hecktor2022_cropped/data'\n",
    "    return {\n",
    "        'id': os.path.join(base_dir, patient_id),\n",
    "        'ct': os.path.join(base_dir, patient_id, f\"{patient_id}_ct.nii.gz\"),\n",
    "        'seg': os.path.join(base_dir, patient_id, f\"{patient_id}_gt.nii.gz\")\n",
    "    }\n",
    "\n",
    "# Assign each data entry to a random fold\n",
    "all_data = []\n",
    "num_folds = 5\n",
    "\n",
    "for file_dir in sorted(glob('data/*')):\n",
    "    patient_id = file_dir.split('/')[-1]\n",
    "    # Check if the file belongs to the MDA center\n",
    "    if patient_id.startswith(\"MDA-\"):\n",
    "        entry = generate_paths(patient_id)\n",
    "        entry['fold'] = random.randint(1, num_folds) - 1\n",
    "        all_data.append(entry)\n",
    "\n",
    "# Compile data into a JSON structure\n",
    "data_json = {\"training\": all_data}\n",
    "\n",
    "# Save to JSON file\n",
    "json_file_path = \"/home/nada.saadi/MIS-FM/hecktor2022_cropped/MDA_ct_train_new.json\"\n",
    "with open(json_file_path, 'w') as f:\n",
    "    json.dump(data_json, f, indent=4)\n",
    "\n",
    "print(f\"JSON file created at {json_file_path}\")\n",
    "\n"
   ]
  },
  {
   "cell_type": "code",
   "execution_count": 9,
   "metadata": {},
   "outputs": [],
   "source": [
    "data_dir = '/home/nada.saadi/MIS-FM/hecktor2022_cropped'\n",
    "json_dir = '/home/nada.saadi/MIS-FM/hecktor2022_cropped/MDA_ct_train_new.json'"
   ]
  },
  {
   "cell_type": "code",
   "execution_count": 10,
   "metadata": {},
   "outputs": [],
   "source": [
    "def datafold_read(datalist, basedir, fold=0, key=\"training\"):\n",
    "    with open(datalist) as f:\n",
    "        json_data = json.load(f)\n",
    "\n",
    "    json_data = json_data[key]\n",
    "\n",
    "    for d in json_data:\n",
    "        for k in d:\n",
    "            if isinstance(d[k], list):\n",
    "                d[k] = [os.path.join(basedir, iv) for iv in d[k]]\n",
    "            elif isinstance(d[k], str):\n",
    "                d[k] = os.path.join(basedir, d[k]) if len(d[k]) > 0 else d[k]\n",
    "\n",
    "    tr = []\n",
    "    val = []\n",
    "    for d in json_data:\n",
    "        if \"fold\" in d and d[\"fold\"] == fold:\n",
    "            val.append(d)\n",
    "        else:\n",
    "            tr.append(d)\n",
    "\n",
    "    return tr, val"
   ]
  },
  {
   "cell_type": "code",
   "execution_count": 11,
   "metadata": {},
   "outputs": [
    {
     "data": {
      "text/plain": [
       "(152, 44)"
      ]
     },
     "execution_count": 11,
     "metadata": {},
     "output_type": "execute_result"
    }
   ],
   "source": [
    "train_files, validation_files = datafold_read(datalist=json_dir, basedir=data_dir, fold=0)\n",
    "len(train_files), len(validation_files)"
   ]
  },
  {
   "cell_type": "code",
   "execution_count": 12,
   "metadata": {},
   "outputs": [
    {
     "name": "stderr",
     "output_type": "stream",
     "text": [
      "/home/nada.saadi/miniconda3/envs/clam/lib/python3.8/site-packages/monai/transforms/spatial/array.py:635: UserWarning: axcodes ('RAS') length is smaller than number of input spatial dimensions D=2.\n",
      "Orientation: spatial shape = (200, 310), channels = 200,please make sure the input is in the channel-first format.\n",
      "  warnings.warn(\n"
     ]
    },
    {
     "name": "stdout",
     "output_type": "stream",
     "text": [
      "torch.Size([200, 200, 310])\n"
     ]
    },
    {
     "data": {
      "text/plain": [
       "<matplotlib.image.AxesImage at 0x7fd4998291c0>"
      ]
     },
     "execution_count": 12,
     "metadata": {},
     "output_type": "execute_result"
    },
    {
     "data": {
      "image/png": "[encoded data removed]",
      "text/plain": [
       "<Figure size 1800x1000 with 3 Axes>"
      ]
     },
     "metadata": {},
     "output_type": "display_data"
    }
   ],
   "source": [
    "from skimage import measure\n",
    "\n",
    "slice_num = 133\n",
    "gt = monai.transforms.LoadImage(ensure_channel_first=True)('data/MDA-201/MDA-201_gt.nii.gz')\n",
    "plt.figure(\"image\", (18, 10))\n",
    "gt = monai.transforms.Orientation(axcodes='RAS')(gt[0])\n",
    "plt.subplot(2, 4, 1)\n",
    "plt.imshow(gt[:,:,slice_num], cmap='gray')\n",
    "print(gt.shape)\n",
    "\n",
    "#contours = measure.find_contours(gt[:,slice_num,:], 0.5)[0]\n",
    "#plt.plot(contours[:, 1], contours[:, 0], linewidth=0.8, c='red',  alpha = 0.8)\n",
    "\n",
    "ct = monai.transforms.LoadImage(ensure_channel_first=True)('data/MDA-201/MDA-201_ct.nii.gz')\n",
    "ct = monai.transforms.Orientation(axcodes='RAS')(ct[0])\n",
    "ct = torch.clip(ct, min=-1000, max=600)\n",
    "plt.subplot(2, 4, 2)\n",
    "plt.imshow(ct[:,:,slice_num], cmap='gray')\n",
    "#plt.plot(contours[:, 1], contours[:, 0], linewidth=0.8, c='red',  alpha = 0.8)\n",
    "\n",
    "pt = monai.transforms.LoadImage(ensure_channel_first=True)('data/MDA-201/MDA-201_pt.nii.gz')\n",
    "pt = monai.transforms.Orientation(axcodes='RAS')(pt[0])\n",
    "plt.subplot(2, 4, 3)\n",
    "plt.imshow(pt[:,:,slice_num], cmap='gray')\n",
    "#plt.plot(contours[:, 1], contours[:, 0], linewidth=0.8, c='red',  alpha = 0.8)"
   ]
  },
  {
   "cell_type": "code",
   "execution_count": 13,
   "metadata": {},
   "outputs": [],
   "source": [
    "class ClipCT(MapTransform):\n",
    "    \"\"\"\n",
    "    Convert labels to multi channels based on hecktor classes:\n",
    "    label 1 is the tumor\n",
    "    label 2 is the lymph node\n",
    "\n",
    "    \"\"\"\n",
    "\n",
    "    def __call__(self, data):\n",
    "        d = dict(data)\n",
    "        for key in self.keys:\n",
    "            if key == \"ct\":\n",
    "                d[key] = torch.clip(d[key], min=-200, max=200)\n",
    "            # elif key == \"pt\":\n",
    "            #     d[key] = torch.clip(d[key], d[key].min(), 5)\n",
    "        return d\n",
    "\n",
    "class MulPTFM(MapTransform):\n",
    "    \"\"\"\n",
    "    Mult PT and FM \n",
    "\n",
    "    \"\"\"\n",
    "\n",
    "    def __call__(self, data):\n",
    "        d = dict(data)\n",
    "\n",
    "        fm = d[\"ct\"] > 0\n",
    "        d[\"pt\"] = d[\"pt\"] * fm\n",
    "        return d\n",
    "\n",
    "class SelectClass(MapTransform):\n",
    "    \"\"\"\n",
    "    Select the class for which you want to fine tune the model \n",
    "\n",
    "    \"\"\"\n",
    "    # def __init__(self, keys, cls=1):\n",
    "    #     super(self).__init__(keys)\n",
    "    #     self.cls = cls\n",
    "\n",
    "    def __call__(self, data):\n",
    "        d = dict(data)\n",
    "        d[\"seg\"][d[\"seg\"] == 1] = 0\n",
    "        # d[\"seg\"][d[\"seg\"] == 2] = 1\n",
    "        \n",
    "        return d"
   ]
  },
  {
   "cell_type": "code",
   "execution_count": 12,
   "metadata": {},
   "outputs": [],
   "source": [
    "num_samples = 4\n",
    "\n",
    "train_transforms = Compose(\n",
    "    [\n",
    "        LoadImaged(keys=[\"ct\", \"seg\"], ensure_channel_first = True),\n",
    "        SpatialPadd(keys=[\"ct\",  \"seg\"], spatial_size=(200, 200, 310), method='end'),\n",
    "        Orientationd(keys=[\"ct\",  \"seg\"], axcodes=\"PLS\"),\n",
    "        #NormalizeIntensityd(keys=[\"pt\"]),\n",
    "        ClipCT(keys=[\"ct\"]),\n",
    "        ScaleIntensityd(keys=[\"ct\"], minv=0, maxv=1),\n",
    "        #MulPTFM(keys=[\"ct\",\"pt\"]),\n",
    "        #ConcatItemsd(keys=[\"pt\", \"ct\"], name=\"ctpt\"),\n",
    "        #NormalizeIntensityd(keys=[\"ctpt\"], channel_wise=True),\n",
    "        RandCropByPosNegLabeld(\n",
    "            keys=[\"ct\", \"seg\"],\n",
    "            label_key=\"seg\",\n",
    "            spatial_size=(96, 96, 96),\n",
    "            pos=1,\n",
    "            neg=1,\n",
    "            num_samples=num_samples,\n",
    "            image_key=\"ct\",\n",
    "            image_threshold=0,\n",
    "        ),\n",
    "        RandFlipd(\n",
    "            keys=[\"ct\", \"seg\"],\n",
    "            spatial_axis=[0],\n",
    "            prob=0.20,\n",
    "        ),\n",
    "        RandFlipd(\n",
    "            keys=[\"ct\", \"seg\"],\n",
    "            spatial_axis=[1],\n",
    "            prob=0.20,\n",
    "        ),\n",
    "        RandFlipd(\n",
    "            keys=[\"ct\", \"seg\"],\n",
    "            spatial_axis=[2],\n",
    "            prob=0.20,\n",
    "        ),\n",
    "        RandRotate90d(\n",
    "            keys=[\"ct\", \"seg\"],\n",
    "            prob=0.20,\n",
    "            max_k=3,\n",
    "        ),\n",
    "    ]\n",
    ")\n",
    "val_transforms = Compose(\n",
    "    [\n",
    "        LoadImaged(keys=[\"ct\", \"seg\"], ensure_channel_first = True),\n",
    "        SpatialPadd(keys=[\"ct\", \"seg\"], spatial_size=(200, 200, 310), method='end'),\n",
    "        Orientationd(keys=[\"ct\",  \"seg\"], axcodes=\"PLS\"),\n",
    "        #NormalizeIntensityd(keys=[\"pt\"]),\n",
    "        ClipCT(keys=[\"ct\"]),\n",
    "        ScaleIntensityd(keys=[\"ct\"], minv=0, maxv=1),\n",
    "        #MulPTFM(keys=[\"ct\",\"pt\"]),\n",
    "        #ConcatItemsd(keys=[\"pt\", \"ct\"], name=\"ctpt\"),\n",
    "    ]\n",
    ")"
   ]
  },
  {
   "cell_type": "code",
   "execution_count": 13,
   "metadata": {},
   "outputs": [],
   "source": [
    "train_ds = monai.data.Dataset(data=train_files, transform=train_transforms)\n",
    "\n",
    "train_loader = DataLoader(\n",
    "    train_ds,\n",
    "    batch_size=2,\n",
    "    shuffle=True,\n",
    "    num_workers=8,\n",
    "    pin_memory=torch.cuda.is_available(),\n",
    "    )\n",
    "\n",
    "val_ds = monai.data.Dataset(data=validation_files, transform=val_transforms)\n",
    "\n",
    "val_loader = DataLoader(\n",
    "    val_ds, \n",
    "    batch_size=2, \n",
    "    num_workers=8, \n",
    "    shuffle= False)"
   ]
  },
  {
   "cell_type": "code",
   "execution_count": 4,
   "metadata": {},
   "outputs": [
    {
     "ename": "NameError",
     "evalue": "name 'os' is not defined",
     "output_type": "error",
     "traceback": [
      "\u001b[0;31m---------------------------------------------------------------------------\u001b[0m",
      "\u001b[0;31mNameError\u001b[0m                                 Traceback (most recent call last)",
      "Cell \u001b[0;32mIn[4], line 1\u001b[0m\n\u001b[0;32m----> 1\u001b[0m \u001b[43mos\u001b[49m\u001b[38;5;241m.\u001b[39menviron[\u001b[38;5;124m\"\u001b[39m\u001b[38;5;124mCUDA_DEVICE_ORDER\u001b[39m\u001b[38;5;124m\"\u001b[39m] \u001b[38;5;241m=\u001b[39m \u001b[38;5;124m\"\u001b[39m\u001b[38;5;124mPCI_BUS_ID\u001b[39m\u001b[38;5;124m\"\u001b[39m\n\u001b[1;32m      2\u001b[0m device \u001b[38;5;241m=\u001b[39m torch\u001b[38;5;241m.\u001b[39mdevice(\u001b[38;5;124m\"\u001b[39m\u001b[38;5;124mcuda\u001b[39m\u001b[38;5;124m\"\u001b[39m \u001b[38;5;28;01mif\u001b[39;00m torch\u001b[38;5;241m.\u001b[39mcuda\u001b[38;5;241m.\u001b[39mis_available() \u001b[38;5;28;01melse\u001b[39;00m \u001b[38;5;124m\"\u001b[39m\u001b[38;5;124mcpu\u001b[39m\u001b[38;5;124m\"\u001b[39m)\n\u001b[1;32m      4\u001b[0m \u001b[38;5;66;03m# model = SegResNet(in_channels=2, \u001b[39;00m\n\u001b[1;32m      5\u001b[0m \u001b[38;5;66;03m#                   out_channels=3, \u001b[39;00m\n\u001b[1;32m      6\u001b[0m \u001b[38;5;66;03m#                   init_filters=16).to(device)\u001b[39;00m\n",
      "\u001b[0;31mNameError\u001b[0m: name 'os' is not defined"
     ]
    }
   ],
   "source": [
    "os.environ[\"CUDA_DEVICE_ORDER\"] = \"PCI_BUS_ID\"\n",
    "device = torch.device(\"cuda\" if torch.cuda.is_available() else \"cpu\")\n",
    "\n",
    "# model = SegResNet(in_channels=2, \n",
    "#                   out_channels=3, \n",
    "#                   init_filters=16).to(device)\n",
    "      \n",
    "model = UNETR(\n",
    "    in_channels=1,\n",
    "    out_channels=3,\n",
    "    img_size=(96, 96, 96),\n",
    "    feature_size=16,\n",
    "    hidden_size=768,\n",
    "    mlp_dim=3072, \n",
    "    num_heads=12,\n",
    "    pos_embed=\"perceptron\",\n",
    "    norm_name=\"instance\",\n",
    "    res_block=True,\n",
    "    dropout_rate=0.0,\n",
    ").to(device)\n",
    "\n",
    "\n",
    "  # model = SwinUNETR(img_size= (96, 96, 96),\n",
    "  #                     in_channels=1, #changed from 2 to 1\n",
    "  #                     out_channels=3,\n",
    "  #                     depths = (2, 2, 2, 2),\n",
    "  #                     num_heads = (3, 6, 12, 24),\n",
    "  #                     feature_size = 24,\n",
    "  #                     norm_name = \"instance\",\n",
    "  #                     drop_rate = 0.0,\n",
    "  #                   attn_drop_rate = 0.0,\n",
    "  #                   dropout_path_rate = 0.0,\n",
    "  #                   normalize = True,\n",
    "  #                   use_checkpoint = False,\n",
    "  #                   spatial_dims = 3,\n",
    "  #                   downsample=\"merging\").to(device)"
   ]
  },
  {
   "cell_type": "code",
   "execution_count": 15,
   "metadata": {},
   "outputs": [],
   "source": [
    "torch.backends.cudnn.benchmark = True\n",
    "def poly_lr(epoch, max_epochs, initial_lr, exponent=0.9):\n",
    "    return initial_lr * (1 - epoch / max_epochs)**exponent\n",
    "\n",
    "loss_function = DiceCELoss(to_onehot_y=True, softmax=True)\n",
    "optimizer = torch.optim.AdamW(model.parameters(), lr=1e-4, weight_decay=1e-5)"
   ]
  },
  {
   "cell_type": "code",
   "execution_count": 17,
   "metadata": {},
   "outputs": [
    {
     "name": "stderr",
     "output_type": "stream",
     "text": [
      "Training (75 / 18000 Steps) (loss=1.12827): 100%|██████████| 76/76 [00:36<00:00,  2.05it/s]\n",
      "Validate (76 / 10 Steps): 100%|██████████| 22/22 [00:27<00:00,  1.24s/it]3<00:23,  2.25it/s]\n",
      "Training (100 / 18000 Steps) (loss=1.10479):  33%|███▎      | 25/76 [00:41<07:29,  8.81s/it]"
     ]
    },
    {
     "name": "stdout",
     "output_type": "stream",
     "text": [
      "Model Was Saved ! Current Best Avg. Dice: 2.8196238417876884e-05 Current Avg. Dice: 2.8196238417876884e-05 Current Avg. tumor Dice: 5.907783270231448e-05 Current Avg. lymph Dice: 0.0\n"
     ]
    },
    {
     "name": "stderr",
     "output_type": "stream",
     "text": [
      "Training (151 / 18000 Steps) (loss=1.07087): 100%|██████████| 76/76 [01:04<00:00,  1.18it/s]\n",
      "Validate (152 / 10 Steps): 100%|██████████| 22/22 [00:27<00:00,  1.24s/it]<00:12,  2.19it/s]\n",
      "Training (200 / 18000 Steps) (loss=1.05016):  64%|██████▍   | 49/76 [00:52<03:54,  8.67s/it]"
     ]
    },
    {
     "name": "stdout",
     "output_type": "stream",
     "text": [
      "Model Was Not Saved ! Current Best Avg. Dice: 2.8196238417876884e-05 Current Avg. Dice: 0.0 Current Avg. tumor Dice: 0.0 Current Avg. lymph Dice: 0.0\n"
     ]
    },
    {
     "name": "stderr",
     "output_type": "stream",
     "text": [
      "Training (227 / 18000 Steps) (loss=1.02505): 100%|██████████| 76/76 [01:04<00:00,  1.18it/s]\n",
      "Validate (228 / 10 Steps): 100%|██████████| 22/22 [00:27<00:00,  1.24s/it]<00:01,  2.22it/s]\n",
      "Training (300 / 18000 Steps) (loss=0.98719):  96%|█████████▌| 73/76 [01:04<00:26,  8.82s/it]"
     ]
    },
    {
     "name": "stdout",
     "output_type": "stream",
     "text": [
      "Model Was Saved ! Current Best Avg. Dice: 0.001107988995499909 Current Avg. Dice: 0.001107988995499909 Current Avg. tumor Dice: 0.0 Current Avg. lymph Dice: 0.002708417596295476\n"
     ]
    },
    {
     "name": "stderr",
     "output_type": "stream",
     "text": [
      "Training (303 / 18000 Steps) (loss=0.98383): 100%|██████████| 76/76 [01:05<00:00,  1.16it/s]\n",
      "Training (379 / 18000 Steps) (loss=0.95428): 100%|██████████| 76/76 [00:37<00:00,  2.05it/s]\n",
      "Validate (380 / 10 Steps): 100%|██████████| 22/22 [00:27<00:00,  1.26s/it]<00:25,  2.21it/s]\n",
      "Training (400 / 18000 Steps) (loss=0.95728):  28%|██▊       | 21/76 [00:40<08:16,  9.03s/it]"
     ]
    },
    {
     "name": "stdout",
     "output_type": "stream",
     "text": [
      "Model Was Saved ! Current Best Avg. Dice: 0.02603275328874588 Current Avg. Dice: 0.02603275328874588 Current Avg. tumor Dice: 0.0 Current Avg. lymph Dice: 0.06362953037023544\n"
     ]
    },
    {
     "name": "stderr",
     "output_type": "stream",
     "text": [
      "Training (455 / 18000 Steps) (loss=0.92442): 100%|██████████| 76/76 [01:05<00:00,  1.16it/s]\n",
      "Validate (456 / 10 Steps): 100%|██████████| 22/22 [00:27<00:00,  1.25s/it]<00:14,  2.19it/s]\n",
      "Training (500 / 18000 Steps) (loss=0.89364):  59%|█████▉    | 45/76 [00:50<04:36,  8.92s/it]"
     ]
    },
    {
     "name": "stdout",
     "output_type": "stream",
     "text": [
      "Model Was Saved ! Current Best Avg. Dice: 0.04531470686197281 Current Avg. Dice: 0.04531470686197281 Current Avg. tumor Dice: 0.0 Current Avg. lymph Dice: 0.11071457713842392\n"
     ]
    },
    {
     "name": "stderr",
     "output_type": "stream",
     "text": [
      "Training (531 / 18000 Steps) (loss=0.89651): 100%|██████████| 76/76 [01:04<00:00,  1.17it/s]\n",
      "Validate (532 / 10 Steps): 100%|██████████| 22/22 [00:27<00:00,  1.26s/it]<00:03,  2.25it/s]\n",
      "Training (600 / 18000 Steps) (loss=0.87576):  91%|█████████ | 69/76 [01:01<01:01,  8.75s/it]"
     ]
    },
    {
     "name": "stdout",
     "output_type": "stream",
     "text": [
      "Model Was Not Saved ! Current Best Avg. Dice: 0.04531470686197281 Current Avg. Dice: 0.037505052983760834 Current Avg. tumor Dice: 0.0 Current Avg. lymph Dice: 0.09164983779191971\n"
     ]
    },
    {
     "name": "stderr",
     "output_type": "stream",
     "text": [
      "Training (607 / 18000 Steps) (loss=0.88048): 100%|██████████| 76/76 [01:04<00:00,  1.18it/s]\n",
      "Training (683 / 18000 Steps) (loss=0.87702): 100%|██████████| 76/76 [00:36<00:00,  2.05it/s]\n",
      "Validate (684 / 10 Steps): 100%|██████████| 22/22 [00:27<00:00,  1.25s/it]<00:27,  2.20it/s]\n",
      "Training (700 / 18000 Steps) (loss=0.84138):  22%|██▏       | 17/76 [00:38<08:36,  8.76s/it]"
     ]
    },
    {
     "name": "stdout",
     "output_type": "stream",
     "text": [
      "Model Was Not Saved ! Current Best Avg. Dice: 0.04531470686197281 Current Avg. Dice: 0.041143521666526794 Current Avg. tumor Dice: 0.0 Current Avg. lymph Dice: 0.10057304799556732\n"
     ]
    },
    {
     "name": "stderr",
     "output_type": "stream",
     "text": [
      "Training (759 / 18000 Steps) (loss=0.81767): 100%|██████████| 76/76 [01:05<00:00,  1.17it/s]\n",
      "Validate (760 / 10 Steps): 100%|██████████| 22/22 [00:27<00:00,  1.25s/it]<00:16,  2.22it/s]\n",
      "Training (800 / 18000 Steps) (loss=0.80902):  54%|█████▍    | 41/76 [00:49<05:12,  8.94s/it]"
     ]
    },
    {
     "name": "stdout",
     "output_type": "stream",
     "text": [
      "Model Was Saved ! Current Best Avg. Dice: 0.05679822340607643 Current Avg. Dice: 0.05679822340607643 Current Avg. tumor Dice: 0.0 Current Avg. lymph Dice: 0.13879863917827606\n"
     ]
    },
    {
     "name": "stderr",
     "output_type": "stream",
     "text": [
      "Training (835 / 18000 Steps) (loss=0.81188): 100%|██████████| 76/76 [01:05<00:00,  1.16it/s]\n",
      "Validate (836 / 10 Steps): 100%|██████████| 22/22 [00:27<00:00,  1.24s/it]<00:05,  2.23it/s]\n",
      "Training (900 / 18000 Steps) (loss=0.81029):  86%|████████▌ | 65/76 [01:00<01:37,  8.85s/it]"
     ]
    },
    {
     "name": "stdout",
     "output_type": "stream",
     "text": [
      "Model Was Saved ! Current Best Avg. Dice: 0.08206408470869064 Current Avg. Dice: 0.08206408470869064 Current Avg. tumor Dice: 0.0 Current Avg. lymph Dice: 0.19634093344211578\n"
     ]
    },
    {
     "name": "stderr",
     "output_type": "stream",
     "text": [
      "Training (911 / 18000 Steps) (loss=0.78749): 100%|██████████| 76/76 [01:05<00:00,  1.17it/s]\n",
      "Training (987 / 18000 Steps) (loss=0.82331): 100%|██████████| 76/76 [00:37<00:00,  2.05it/s]\n",
      "Validate (988 / 10 Steps): 100%|██████████| 22/22 [00:27<00:00,  1.25s/it]9<00:36,  1.73it/s]\n",
      "Training (1000 / 18000 Steps) (loss=0.76099):  17%|█▋        | 13/76 [00:36<09:18,  8.87s/it]"
     ]
    },
    {
     "name": "stdout",
     "output_type": "stream",
     "text": [
      "Model Was Not Saved ! Current Best Avg. Dice: 0.08206408470869064 Current Avg. Dice: 0.058547213673591614 Current Avg. tumor Dice: 0.0 Current Avg. lymph Dice: 0.14253361523151398\n"
     ]
    },
    {
     "name": "stderr",
     "output_type": "stream",
     "text": [
      "Training (1063 / 18000 Steps) (loss=0.75604): 100%|██████████| 76/76 [01:05<00:00,  1.16it/s]\n",
      "Validate (1064 / 10 Steps): 100%|██████████| 22/22 [00:27<00:00,  1.23s/it]<00:17,  2.23it/s]\n",
      "Training (1100 / 18000 Steps) (loss=0.74623):  49%|████▊     | 37/76 [00:46<05:42,  8.79s/it]"
     ]
    },
    {
     "name": "stdout",
     "output_type": "stream",
     "text": [
      "Model Was Saved ! Current Best Avg. Dice: 0.08246524631977081 Current Avg. Dice: 0.08246524631977081 Current Avg. tumor Dice: 0.0 Current Avg. lymph Dice: 0.19680476188659668\n"
     ]
    },
    {
     "name": "stderr",
     "output_type": "stream",
     "text": [
      "Training (1139 / 18000 Steps) (loss=0.75563): 100%|██████████| 76/76 [01:04<00:00,  1.18it/s]\n",
      "Validate (1140 / 10 Steps): 100%|██████████| 22/22 [00:27<00:00,  1.24s/it]<00:08,  1.97it/s]\n",
      "Training (1200 / 18000 Steps) (loss=0.76819):  80%|████████  | 61/76 [00:58<02:13,  8.91s/it]"
     ]
    },
    {
     "name": "stdout",
     "output_type": "stream",
     "text": [
      "Model Was Saved ! Current Best Avg. Dice: 0.1500881463289261 Current Avg. Dice: 0.1500881463289261 Current Avg. tumor Dice: 0.11938092857599258 Current Avg. lymph Dice: 0.19887931644916534\n"
     ]
    },
    {
     "name": "stderr",
     "output_type": "stream",
     "text": [
      "Training (1215 / 18000 Steps) (loss=0.75224): 100%|██████████| 76/76 [01:05<00:00,  1.16it/s]\n",
      "Training (1291 / 18000 Steps) (loss=0.71481): 100%|██████████| 76/76 [00:37<00:00,  2.04it/s]\n",
      "Validate (1292 / 10 Steps): 100%|██████████| 22/22 [00:27<00:00,  1.26s/it]00:36,  1.86it/s]\n",
      "Training (1300 / 18000 Steps) (loss=0.69259):  12%|█▏        | 9/76 [00:34<10:16,  9.20s/it]"
     ]
    },
    {
     "name": "stdout",
     "output_type": "stream",
     "text": [
      "Model Was Not Saved ! Current Best Avg. Dice: 0.1500881463289261 Current Avg. Dice: 0.1369439959526062 Current Avg. tumor Dice: 0.1079285591840744 Current Avg. lymph Dice: 0.18816937506198883\n"
     ]
    },
    {
     "name": "stderr",
     "output_type": "stream",
     "text": [
      "Training (1367 / 18000 Steps) (loss=0.73631): 100%|██████████| 76/76 [01:05<00:00,  1.17it/s]\n",
      "Validate (1368 / 10 Steps): 100%|██████████| 22/22 [00:27<00:00,  1.25s/it]<00:20,  2.17it/s]\n",
      "Training (1400 / 18000 Steps) (loss=0.73229):  43%|████▎     | 33/76 [00:45<06:14,  8.70s/it]"
     ]
    },
    {
     "name": "stdout",
     "output_type": "stream",
     "text": [
      "Model Was Not Saved ! Current Best Avg. Dice: 0.1500881463289261 Current Avg. Dice: 0.1412367969751358 Current Avg. tumor Dice: 0.1123000755906105 Current Avg. lymph Dice: 0.1928117275238037\n"
     ]
    },
    {
     "name": "stderr",
     "output_type": "stream",
     "text": [
      "Training (1443 / 18000 Steps) (loss=0.70954): 100%|██████████| 76/76 [01:05<00:00,  1.16it/s]\n",
      "Validate (1444 / 10 Steps): 100%|██████████| 22/22 [00:27<00:00,  1.27s/it]<00:09,  2.19it/s]\n",
      "Training (1500 / 18000 Steps) (loss=0.70001):  75%|███████▌  | 57/76 [00:57<02:51,  9.03s/it]"
     ]
    },
    {
     "name": "stdout",
     "output_type": "stream",
     "text": [
      "Model Was Saved ! Current Best Avg. Dice: 0.16082610189914703 Current Avg. Dice: 0.16082610189914703 Current Avg. tumor Dice: 0.12459772080183029 Current Avg. lymph Dice: 0.22866906225681305\n"
     ]
    },
    {
     "name": "stderr",
     "output_type": "stream",
     "text": [
      "Training (1519 / 18000 Steps) (loss=0.73671): 100%|██████████| 76/76 [01:05<00:00,  1.15it/s]\n",
      "Training (1595 / 18000 Steps) (loss=0.65588): 100%|██████████| 76/76 [00:37<00:00,  2.03it/s]\n",
      "Validate (1596 / 10 Steps): 100%|██████████| 22/22 [00:27<00:00,  1.24s/it]01:04,  1.12it/s]\n",
      "Training (1600 / 18000 Steps) (loss=0.70948):   7%|▋         | 5/76 [00:33<12:50, 10.85s/it]"
     ]
    },
    {
     "name": "stdout",
     "output_type": "stream",
     "text": [
      "Model Was Saved ! Current Best Avg. Dice: 0.21376709640026093 Current Avg. Dice: 0.21376709640026093 Current Avg. tumor Dice: 0.18437884747982025 Current Avg. lymph Dice: 0.26011839509010315\n"
     ]
    },
    {
     "name": "stderr",
     "output_type": "stream",
     "text": [
      "Training (1671 / 18000 Steps) (loss=0.69148): 100%|██████████| 76/76 [01:05<00:00,  1.16it/s]\n",
      "Validate (1672 / 10 Steps): 100%|██████████| 22/22 [00:27<00:00,  1.25s/it]<00:21,  2.22it/s]\n",
      "Training (1700 / 18000 Steps) (loss=0.67081):  38%|███▊      | 29/76 [00:43<06:48,  8.70s/it]"
     ]
    },
    {
     "name": "stdout",
     "output_type": "stream",
     "text": [
      "Model Was Not Saved ! Current Best Avg. Dice: 0.21376709640026093 Current Avg. Dice: 0.18586872518062592 Current Avg. tumor Dice: 0.14947490394115448 Current Avg. lymph Dice: 0.2400817573070526\n"
     ]
    },
    {
     "name": "stderr",
     "output_type": "stream",
     "text": [
      "Training (1747 / 18000 Steps) (loss=0.66211): 100%|██████████| 76/76 [01:04<00:00,  1.18it/s]\n",
      "Validate (1748 / 10 Steps): 100%|██████████| 22/22 [00:27<00:00,  1.23s/it]<00:10,  2.23it/s]\n",
      "Training (1800 / 18000 Steps) (loss=0.70572):  70%|██████▉   | 53/76 [00:54<03:22,  8.80s/it]"
     ]
    },
    {
     "name": "stdout",
     "output_type": "stream",
     "text": [
      "Model Was Saved ! Current Best Avg. Dice: 0.21852250397205353 Current Avg. Dice: 0.21852250397205353 Current Avg. tumor Dice: 0.19978992640972137 Current Avg. lymph Dice: 0.25953757762908936\n"
     ]
    },
    {
     "name": "stderr",
     "output_type": "stream",
     "text": [
      "Training (1823 / 18000 Steps) (loss=0.72089): 100%|██████████| 76/76 [01:05<00:00,  1.17it/s]\n",
      "Training (1899 / 18000 Steps) (loss=0.63294): 100%|██████████| 76/76 [00:37<00:00,  2.05it/s]\n",
      "Validate (1900 / 10 Steps): 100%|██████████| 22/22 [00:27<00:00,  1.26s/it]?, ?it/s]\n",
      "Training (1900 / 18000 Steps) (loss=0.66657):   1%|▏         | 1/76 [00:30<38:23, 30.71s/it]"
     ]
    },
    {
     "name": "stdout",
     "output_type": "stream",
     "text": [
      "Model Was Not Saved ! Current Best Avg. Dice: 0.21852250397205353 Current Avg. Dice: 0.15228167176246643 Current Avg. tumor Dice: 0.06953416019678116 Current Avg. lymph Dice: 0.2752071022987366\n"
     ]
    },
    {
     "name": "stderr",
     "output_type": "stream",
     "text": [
      "Training (1975 / 18000 Steps) (loss=0.67496): 100%|██████████| 76/76 [01:04<00:00,  1.17it/s]\n",
      "Validate (1976 / 10 Steps): 100%|██████████| 22/22 [00:27<00:00,  1.26s/it]<00:24,  2.13it/s]\n",
      "Training (2000 / 18000 Steps) (loss=0.68785):  33%|███▎      | 25/76 [00:42<07:27,  8.78s/it]"
     ]
    },
    {
     "name": "stdout",
     "output_type": "stream",
     "text": [
      "Model Was Not Saved ! Current Best Avg. Dice: 0.21852250397205353 Current Avg. Dice: 0.19877123832702637 Current Avg. tumor Dice: 0.15681317448616028 Current Avg. lymph Dice: 0.2671155333518982\n"
     ]
    },
    {
     "name": "stderr",
     "output_type": "stream",
     "text": [
      "Training (2051 / 18000 Steps) (loss=0.66698): 100%|██████████| 76/76 [01:05<00:00,  1.16it/s]\n",
      "Validate (2052 / 10 Steps): 100%|██████████| 22/22 [00:27<00:00,  1.24s/it]<00:12,  2.21it/s]\n",
      "Training (2100 / 18000 Steps) (loss=0.63746):  64%|██████▍   | 49/76 [00:53<03:59,  8.86s/it]"
     ]
    },
    {
     "name": "stdout",
     "output_type": "stream",
     "text": [
      "Model Was Saved ! Current Best Avg. Dice: 0.22949157655239105 Current Avg. Dice: 0.22949157655239105 Current Avg. tumor Dice: 0.18002746999263763 Current Avg. lymph Dice: 0.31483542919158936\n"
     ]
    },
    {
     "name": "stderr",
     "output_type": "stream",
     "text": [
      "Training (2127 / 18000 Steps) (loss=0.60792): 100%|██████████| 76/76 [01:05<00:00,  1.16it/s]\n",
      "Validate (2128 / 10 Steps): 100%|██████████| 22/22 [00:27<00:00,  1.23s/it]<00:01,  2.25it/s]\n",
      "Training (2200 / 18000 Steps) (loss=0.63763):  96%|█████████▌| 73/76 [01:03<00:26,  8.78s/it]"
     ]
    },
    {
     "name": "stdout",
     "output_type": "stream",
     "text": [
      "Model Was Saved ! Current Best Avg. Dice: 0.23530513048171997 Current Avg. Dice: 0.23530513048171997 Current Avg. tumor Dice: 0.1955472230911255 Current Avg. lymph Dice: 0.30772829055786133\n"
     ]
    },
    {
     "name": "stderr",
     "output_type": "stream",
     "text": [
      "Training (2203 / 18000 Steps) (loss=0.60111): 100%|██████████| 76/76 [01:05<00:00,  1.17it/s]\n",
      "Training (2279 / 18000 Steps) (loss=0.66482): 100%|██████████| 76/76 [00:37<00:00,  2.05it/s]\n",
      "Validate (2280 / 10 Steps): 100%|██████████| 22/22 [00:27<00:00,  1.24s/it]<00:25,  2.20it/s]\n",
      "Training (2300 / 18000 Steps) (loss=0.66969):  28%|██▊       | 21/76 [00:39<07:55,  8.65s/it]"
     ]
    },
    {
     "name": "stdout",
     "output_type": "stream",
     "text": [
      "Model Was Not Saved ! Current Best Avg. Dice: 0.23530513048171997 Current Avg. Dice: 0.20012488961219788 Current Avg. tumor Dice: 0.21917842328548431 Current Avg. lymph Dice: 0.17792993783950806\n"
     ]
    },
    {
     "name": "stderr",
     "output_type": "stream",
     "text": [
      "Training (2355 / 18000 Steps) (loss=0.65365): 100%|██████████| 76/76 [01:04<00:00,  1.18it/s]\n",
      "Validate (2356 / 10 Steps): 100%|██████████| 22/22 [00:27<00:00,  1.25s/it]<00:14,  2.19it/s]\n",
      "Training (2400 / 18000 Steps) (loss=0.66223):  59%|█████▉    | 45/76 [00:51<04:31,  8.75s/it]"
     ]
    },
    {
     "name": "stdout",
     "output_type": "stream",
     "text": [
      "Model Was Not Saved ! Current Best Avg. Dice: 0.23530513048171997 Current Avg. Dice: 0.2337927222251892 Current Avg. tumor Dice: 0.20318982005119324 Current Avg. lymph Dice: 0.29673343896865845\n"
     ]
    },
    {
     "name": "stderr",
     "output_type": "stream",
     "text": [
      "Training (2431 / 18000 Steps) (loss=0.59692): 100%|██████████| 76/76 [01:04<00:00,  1.17it/s]\n",
      "Validate (2432 / 10 Steps): 100%|██████████| 22/22 [00:27<00:00,  1.24s/it]<00:03,  2.26it/s]\n",
      "Training (2500 / 18000 Steps) (loss=0.61316):  91%|█████████ | 69/76 [01:01<01:00,  8.63s/it]"
     ]
    },
    {
     "name": "stdout",
     "output_type": "stream",
     "text": [
      "Model Was Not Saved ! Current Best Avg. Dice: 0.23530513048171997 Current Avg. Dice: 0.21222534775733948 Current Avg. tumor Dice: 0.13677136600017548 Current Avg. lymph Dice: 0.33327606320381165\n"
     ]
    },
    {
     "name": "stderr",
     "output_type": "stream",
     "text": [
      "Training (2507 / 18000 Steps) (loss=0.56530): 100%|██████████| 76/76 [01:04<00:00,  1.17it/s]\n",
      "Training (2583 / 18000 Steps) (loss=0.67126): 100%|██████████| 76/76 [00:37<00:00,  2.01it/s]\n",
      "Validate (2584 / 10 Steps): 100%|██████████| 22/22 [00:27<00:00,  1.25s/it]<00:27,  2.15it/s]\n",
      "Training (2600 / 18000 Steps) (loss=0.61789):  22%|██▏       | 17/76 [00:38<08:46,  8.92s/it]"
     ]
    },
    {
     "name": "stdout",
     "output_type": "stream",
     "text": [
      "Model Was Saved ! Current Best Avg. Dice: 0.27452751994132996 Current Avg. Dice: 0.27452751994132996 Current Avg. tumor Dice: 0.25115376710891724 Current Avg. lymph Dice: 0.31266796588897705\n"
     ]
    },
    {
     "name": "stderr",
     "output_type": "stream",
     "text": [
      "Training (2659 / 18000 Steps) (loss=0.66609): 100%|██████████| 76/76 [01:05<00:00,  1.16it/s]\n",
      "Validate (2660 / 10 Steps): 100%|██████████| 22/22 [00:27<00:00,  1.26s/it]<00:16,  2.20it/s]\n",
      "Training (2700 / 18000 Steps) (loss=0.58615):  54%|█████▍    | 41/76 [00:50<05:13,  8.95s/it]"
     ]
    },
    {
     "name": "stdout",
     "output_type": "stream",
     "text": [
      "Model Was Saved ! Current Best Avg. Dice: 0.2901546359062195 Current Avg. Dice: 0.2901546359062195 Current Avg. tumor Dice: 0.26786381006240845 Current Avg. lymph Dice: 0.33199527859687805\n"
     ]
    },
    {
     "name": "stderr",
     "output_type": "stream",
     "text": [
      "Training (2735 / 18000 Steps) (loss=0.65350): 100%|██████████| 76/76 [01:05<00:00,  1.15it/s]\n",
      "Validate (2736 / 10 Steps): 100%|██████████| 22/22 [00:27<00:00,  1.23s/it]<00:05,  2.22it/s]\n",
      "Training (2800 / 18000 Steps) (loss=0.65566):  86%|████████▌ | 65/76 [00:59<01:34,  8.59s/it]"
     ]
    },
    {
     "name": "stdout",
     "output_type": "stream",
     "text": [
      "Model Was Not Saved ! Current Best Avg. Dice: 0.2901546359062195 Current Avg. Dice: 0.28073742985725403 Current Avg. tumor Dice: 0.2575940489768982 Current Avg. lymph Dice: 0.3268333971500397\n"
     ]
    },
    {
     "name": "stderr",
     "output_type": "stream",
     "text": [
      "Training (2811 / 18000 Steps) (loss=0.55105): 100%|██████████| 76/76 [01:04<00:00,  1.18it/s]\n",
      "Training (2887 / 18000 Steps) (loss=0.64424): 100%|██████████| 76/76 [00:37<00:00,  2.03it/s]\n",
      "Validate (2888 / 10 Steps): 100%|██████████| 22/22 [00:27<00:00,  1.24s/it]<00:29,  2.14it/s]\n",
      "Training (2900 / 18000 Steps) (loss=0.60793):  17%|█▋        | 13/76 [00:35<09:12,  8.76s/it]"
     ]
    },
    {
     "name": "stdout",
     "output_type": "stream",
     "text": [
      "Model Was Not Saved ! Current Best Avg. Dice: 0.2901546359062195 Current Avg. Dice: 0.27459847927093506 Current Avg. tumor Dice: 0.23377414047718048 Current Avg. lymph Dice: 0.3416697680950165\n"
     ]
    },
    {
     "name": "stderr",
     "output_type": "stream",
     "text": [
      "Training (2963 / 18000 Steps) (loss=0.68039): 100%|██████████| 76/76 [01:04<00:00,  1.17it/s]\n",
      "Validate (2964 / 10 Steps): 100%|██████████| 22/22 [00:27<00:00,  1.26s/it]<00:18,  2.19it/s]\n",
      "Training (3000 / 18000 Steps) (loss=0.54766):  49%|████▊     | 37/76 [00:48<05:51,  9.01s/it]"
     ]
    },
    {
     "name": "stdout",
     "output_type": "stream",
     "text": [
      "Model Was Saved ! Current Best Avg. Dice: 0.29969075322151184 Current Avg. Dice: 0.29969075322151184 Current Avg. tumor Dice: 0.2602713108062744 Current Avg. lymph Dice: 0.36348795890808105\n"
     ]
    },
    {
     "name": "stderr",
     "output_type": "stream",
     "text": [
      "Training (3039 / 18000 Steps) (loss=0.59138): 100%|██████████| 76/76 [01:06<00:00,  1.15it/s]\n",
      "Validate (3040 / 10 Steps): 100%|██████████| 22/22 [00:27<00:00,  1.25s/it]<00:07,  2.15it/s]\n",
      "Training (3100 / 18000 Steps) (loss=0.59452):  80%|████████  | 61/76 [00:57<02:10,  8.73s/it]"
     ]
    },
    {
     "name": "stdout",
     "output_type": "stream",
     "text": [
      "Model Was Not Saved ! Current Best Avg. Dice: 0.29969075322151184 Current Avg. Dice: 0.27591821551322937 Current Avg. tumor Dice: 0.21830937266349792 Current Avg. lymph Dice: 0.3623812198638916\n"
     ]
    },
    {
     "name": "stderr",
     "output_type": "stream",
     "text": [
      "Training (3115 / 18000 Steps) (loss=0.58788): 100%|██████████| 76/76 [01:04<00:00,  1.18it/s]\n",
      "Training (3191 / 18000 Steps) (loss=0.64932): 100%|██████████| 76/76 [00:37<00:00,  2.04it/s]\n",
      "Validate (3192 / 10 Steps): 100%|██████████| 22/22 [00:27<00:00,  1.23s/it]00:36,  1.89it/s]\n",
      "Training (3200 / 18000 Steps) (loss=0.54216):  12%|█▏        | 9/76 [00:34<10:03,  9.01s/it]"
     ]
    },
    {
     "name": "stdout",
     "output_type": "stream",
     "text": [
      "Model Was Not Saved ! Current Best Avg. Dice: 0.29969075322151184 Current Avg. Dice: 0.27628597617149353 Current Avg. tumor Dice: 0.24327361583709717 Current Avg. lymph Dice: 0.33805105090141296\n"
     ]
    },
    {
     "name": "stderr",
     "output_type": "stream",
     "text": [
      "Training (3267 / 18000 Steps) (loss=0.64075): 100%|██████████| 76/76 [01:04<00:00,  1.18it/s]\n",
      "Validate (3268 / 10 Steps): 100%|██████████| 22/22 [00:27<00:00,  1.27s/it]<00:19,  2.21it/s]\n",
      "Training (3300 / 18000 Steps) (loss=0.65203):  43%|████▎     | 33/76 [00:46<06:28,  9.05s/it]"
     ]
    },
    {
     "name": "stdout",
     "output_type": "stream",
     "text": [
      "Model Was Saved ! Current Best Avg. Dice: 0.31012892723083496 Current Avg. Dice: 0.31012892723083496 Current Avg. tumor Dice: 0.2758108079433441 Current Avg. lymph Dice: 0.3642790615558624\n"
     ]
    },
    {
     "name": "stderr",
     "output_type": "stream",
     "text": [
      "Training (3343 / 18000 Steps) (loss=0.66164): 100%|██████████| 76/76 [01:06<00:00,  1.14it/s]\n",
      "Validate (3344 / 10 Steps): 100%|██████████| 22/22 [00:27<00:00,  1.27s/it]<00:09,  2.19it/s]\n",
      "Training (3400 / 18000 Steps) (loss=0.48396):  75%|███████▌  | 57/76 [00:56<02:47,  8.83s/it]"
     ]
    },
    {
     "name": "stdout",
     "output_type": "stream",
     "text": [
      "Model Was Not Saved ! Current Best Avg. Dice: 0.31012892723083496 Current Avg. Dice: 0.2670480012893677 Current Avg. tumor Dice: 0.21470798552036285 Current Avg. lymph Dice: 0.35621148347854614\n"
     ]
    },
    {
     "name": "stderr",
     "output_type": "stream",
     "text": [
      "Training (3419 / 18000 Steps) (loss=0.64603): 100%|██████████| 76/76 [01:05<00:00,  1.16it/s]\n",
      "Training (3495 / 18000 Steps) (loss=0.58469): 100%|██████████| 76/76 [00:37<00:00,  2.00it/s]\n",
      "Validate (3496 / 10 Steps): 100%|██████████| 22/22 [00:28<00:00,  1.28s/it]00:59,  1.21it/s]\n",
      "Training (3500 / 18000 Steps) (loss=0.59838):   7%|▋         | 5/76 [00:33<12:49, 10.84s/it]"
     ]
    },
    {
     "name": "stdout",
     "output_type": "stream",
     "text": [
      "Model Was Not Saved ! Current Best Avg. Dice: 0.31012892723083496 Current Avg. Dice: 0.30794623494148254 Current Avg. tumor Dice: 0.2889234721660614 Current Avg. lymph Dice: 0.3477836549282074\n"
     ]
    },
    {
     "name": "stderr",
     "output_type": "stream",
     "text": [
      "Training (3571 / 18000 Steps) (loss=0.63061): 100%|██████████| 76/76 [01:05<00:00,  1.16it/s]\n",
      "Validate (3572 / 10 Steps): 100%|██████████| 22/22 [00:27<00:00,  1.26s/it]<00:22,  2.15it/s]\n",
      "Training (3600 / 18000 Steps) (loss=0.52835):  38%|███▊      | 29/76 [00:43<06:54,  8.81s/it]"
     ]
    },
    {
     "name": "stdout",
     "output_type": "stream",
     "text": [
      "Model Was Not Saved ! Current Best Avg. Dice: 0.31012892723083496 Current Avg. Dice: 0.29181817173957825 Current Avg. tumor Dice: 0.2320774644613266 Current Avg. lymph Dice: 0.37762418389320374\n"
     ]
    },
    {
     "name": "stderr",
     "output_type": "stream",
     "text": [
      "Training (3647 / 18000 Steps) (loss=0.65656): 100%|██████████| 76/76 [01:05<00:00,  1.16it/s]\n",
      "Validate (3648 / 10 Steps): 100%|██████████| 22/22 [00:27<00:00,  1.26s/it]<00:11,  2.04it/s]\n",
      "Training (3700 / 18000 Steps) (loss=0.51075):  70%|██████▉   | 53/76 [00:55<03:27,  9.01s/it]"
     ]
    },
    {
     "name": "stdout",
     "output_type": "stream",
     "text": [
      "Model Was Saved ! Current Best Avg. Dice: 0.3226248621940613 Current Avg. Dice: 0.3226248621940613 Current Avg. tumor Dice: 0.28404247760772705 Current Avg. lymph Dice: 0.38990020751953125\n"
     ]
    },
    {
     "name": "stderr",
     "output_type": "stream",
     "text": [
      "Training (3723 / 18000 Steps) (loss=0.57292): 100%|██████████| 76/76 [01:06<00:00,  1.14it/s]\n",
      "Training (3799 / 18000 Steps) (loss=0.60736): 100%|██████████| 76/76 [00:38<00:00,  1.99it/s]\n",
      "Validate (3800 / 10 Steps): 100%|██████████| 22/22 [00:27<00:00,  1.25s/it]?, ?it/s]\n",
      "Training (3800 / 18000 Steps) (loss=0.60574):   1%|▏         | 1/76 [00:30<38:11, 30.55s/it]"
     ]
    },
    {
     "name": "stdout",
     "output_type": "stream",
     "text": [
      "Model Was Not Saved ! Current Best Avg. Dice: 0.3226248621940613 Current Avg. Dice: 0.2695963680744171 Current Avg. tumor Dice: 0.2553550601005554 Current Avg. lymph Dice: 0.3001411259174347\n"
     ]
    },
    {
     "name": "stderr",
     "output_type": "stream",
     "text": [
      "Training (3875 / 18000 Steps) (loss=0.48010): 100%|██████████| 76/76 [01:05<00:00,  1.17it/s]\n",
      "Validate (3876 / 10 Steps): 100%|██████████| 22/22 [00:27<00:00,  1.25s/it]<00:24,  2.16it/s]\n",
      "Training (3900 / 18000 Steps) (loss=0.63965):  33%|███▎      | 25/76 [00:42<07:36,  8.95s/it]"
     ]
    },
    {
     "name": "stdout",
     "output_type": "stream",
     "text": [
      "Model Was Saved ! Current Best Avg. Dice: 0.32479339838027954 Current Avg. Dice: 0.32479339838027954 Current Avg. tumor Dice: 0.28851568698883057 Current Avg. lymph Dice: 0.37416350841522217\n"
     ]
    },
    {
     "name": "stderr",
     "output_type": "stream",
     "text": [
      "Training (3951 / 18000 Steps) (loss=0.61398): 100%|██████████| 76/76 [01:06<00:00,  1.15it/s]\n",
      "Validate (3952 / 10 Steps): 100%|██████████| 22/22 [00:27<00:00,  1.23s/it]<00:12,  2.20it/s]\n",
      "Training (4000 / 18000 Steps) (loss=0.57889):  64%|██████▍   | 49/76 [00:52<03:52,  8.59s/it]"
     ]
    },
    {
     "name": "stdout",
     "output_type": "stream",
     "text": [
      "Model Was Not Saved ! Current Best Avg. Dice: 0.32479339838027954 Current Avg. Dice: 0.2904280424118042 Current Avg. tumor Dice: 0.265938937664032 Current Avg. lymph Dice: 0.34006038308143616\n"
     ]
    },
    {
     "name": "stderr",
     "output_type": "stream",
     "text": [
      "Training (4027 / 18000 Steps) (loss=0.59869): 100%|██████████| 76/76 [01:04<00:00,  1.18it/s]\n",
      "Validate (4028 / 10 Steps): 100%|██████████| 22/22 [00:27<00:00,  1.25s/it]<00:01,  2.26it/s]\n",
      "Training (4100 / 18000 Steps) (loss=0.53213):  96%|█████████▌| 73/76 [01:04<00:26,  8.72s/it]"
     ]
    },
    {
     "name": "stdout",
     "output_type": "stream",
     "text": [
      "Model Was Not Saved ! Current Best Avg. Dice: 0.32479339838027954 Current Avg. Dice: 0.31644585728645325 Current Avg. tumor Dice: 0.3121531009674072 Current Avg. lymph Dice: 0.3426310420036316\n"
     ]
    },
    {
     "name": "stderr",
     "output_type": "stream",
     "text": [
      "Training (4103 / 18000 Steps) (loss=0.62968): 100%|██████████| 76/76 [01:05<00:00,  1.16it/s]\n",
      "Training (4179 / 18000 Steps) (loss=0.52582): 100%|██████████| 76/76 [00:37<00:00,  2.03it/s]\n",
      "Validate (4180 / 10 Steps): 100%|██████████| 22/22 [00:27<00:00,  1.26s/it]<00:25,  2.20it/s]\n",
      "Training (4200 / 18000 Steps) (loss=0.59182):  28%|██▊       | 21/76 [00:40<08:05,  8.82s/it]"
     ]
    },
    {
     "name": "stdout",
     "output_type": "stream",
     "text": [
      "Model Was Not Saved ! Current Best Avg. Dice: 0.32479339838027954 Current Avg. Dice: 0.32050198316574097 Current Avg. tumor Dice: 0.29500511288642883 Current Avg. lymph Dice: 0.3676519989967346\n"
     ]
    },
    {
     "name": "stderr",
     "output_type": "stream",
     "text": [
      "Training (4255 / 18000 Steps) (loss=0.64530): 100%|██████████| 76/76 [01:05<00:00,  1.17it/s]\n",
      "Validate (4256 / 10 Steps): 100%|██████████| 22/22 [00:27<00:00,  1.24s/it]<00:14,  2.18it/s]\n",
      "Training (4300 / 18000 Steps) (loss=0.55219):  59%|█████▉    | 45/76 [00:51<04:35,  8.89s/it]"
     ]
    },
    {
     "name": "stdout",
     "output_type": "stream",
     "text": [
      "Model Was Saved ! Current Best Avg. Dice: 0.3266064524650574 Current Avg. Dice: 0.3266064524650574 Current Avg. tumor Dice: 0.29460132122039795 Current Avg. lymph Dice: 0.3869017958641052\n"
     ]
    },
    {
     "name": "stderr",
     "output_type": "stream",
     "text": [
      "Training (4331 / 18000 Steps) (loss=0.59284): 100%|██████████| 76/76 [01:05<00:00,  1.15it/s]\n",
      "Validate (4332 / 10 Steps): 100%|██████████| 22/22 [00:27<00:00,  1.25s/it]<00:03,  2.18it/s]\n",
      "Training (4400 / 18000 Steps) (loss=0.65389):  91%|█████████ | 69/76 [01:02<01:02,  8.91s/it]"
     ]
    },
    {
     "name": "stdout",
     "output_type": "stream",
     "text": [
      "Model Was Saved ! Current Best Avg. Dice: 0.33737698197364807 Current Avg. Dice: 0.33737698197364807 Current Avg. tumor Dice: 0.3098410964012146 Current Avg. lymph Dice: 0.3874523639678955\n"
     ]
    },
    {
     "name": "stderr",
     "output_type": "stream",
     "text": [
      "Training (4407 / 18000 Steps) (loss=0.51636): 100%|██████████| 76/76 [01:05<00:00,  1.16it/s]\n",
      "Training (4483 / 18000 Steps) (loss=0.57186): 100%|██████████| 76/76 [00:37<00:00,  2.01it/s]\n",
      "Validate (4484 / 10 Steps): 100%|██████████| 22/22 [00:27<00:00,  1.24s/it]<00:27,  2.18it/s]\n",
      "Training (4500 / 18000 Steps) (loss=0.55217):  22%|██▏       | 17/76 [00:38<08:31,  8.67s/it]"
     ]
    },
    {
     "name": "stdout",
     "output_type": "stream",
     "text": [
      "Model Was Not Saved ! Current Best Avg. Dice: 0.33737698197364807 Current Avg. Dice: 0.30673444271087646 Current Avg. tumor Dice: 0.2670367658138275 Current Avg. lymph Dice: 0.36976194381713867\n"
     ]
    },
    {
     "name": "stderr",
     "output_type": "stream",
     "text": [
      "Training (4559 / 18000 Steps) (loss=0.52135): 100%|██████████| 76/76 [01:05<00:00,  1.17it/s]\n",
      "Validate (4560 / 10 Steps): 100%|██████████| 22/22 [00:28<00:00,  1.28s/it]<00:16,  2.14it/s]\n",
      "Training (4600 / 18000 Steps) (loss=0.49933):  54%|█████▍    | 41/76 [00:49<05:12,  8.92s/it]"
     ]
    },
    {
     "name": "stdout",
     "output_type": "stream",
     "text": [
      "Model Was Not Saved ! Current Best Avg. Dice: 0.33737698197364807 Current Avg. Dice: 0.3241773545742035 Current Avg. tumor Dice: 0.30118459463119507 Current Avg. lymph Dice: 0.3672333061695099\n"
     ]
    },
    {
     "name": "stderr",
     "output_type": "stream",
     "text": [
      "Training (4635 / 18000 Steps) (loss=0.60297): 100%|██████████| 76/76 [01:05<00:00,  1.16it/s]\n",
      "Validate (4636 / 10 Steps): 100%|██████████| 22/22 [00:27<00:00,  1.24s/it]<00:05,  2.15it/s]\n",
      "Training (4700 / 18000 Steps) (loss=0.54777):  86%|████████▌ | 65/76 [01:01<01:37,  8.86s/it]"
     ]
    },
    {
     "name": "stdout",
     "output_type": "stream",
     "text": [
      "Model Was Saved ! Current Best Avg. Dice: 0.34426185488700867 Current Avg. Dice: 0.34426185488700867 Current Avg. tumor Dice: 0.32000672817230225 Current Avg. lymph Dice: 0.38173484802246094\n"
     ]
    },
    {
     "name": "stderr",
     "output_type": "stream",
     "text": [
      "Training (4711 / 18000 Steps) (loss=0.49871): 100%|██████████| 76/76 [01:05<00:00,  1.15it/s]\n",
      "Training (4787 / 18000 Steps) (loss=0.57227): 100%|██████████| 76/76 [00:37<00:00,  2.02it/s]\n",
      "Validate (4788 / 10 Steps): 100%|██████████| 22/22 [00:27<00:00,  1.23s/it]<00:30,  2.09it/s]\n",
      "Training (4800 / 18000 Steps) (loss=0.58049):  17%|█▋        | 13/76 [00:36<09:07,  8.69s/it]"
     ]
    },
    {
     "name": "stdout",
     "output_type": "stream",
     "text": [
      "Model Was Not Saved ! Current Best Avg. Dice: 0.34426185488700867 Current Avg. Dice: 0.34042301774024963 Current Avg. tumor Dice: 0.31173980236053467 Current Avg. lymph Dice: 0.39312490820884705\n"
     ]
    },
    {
     "name": "stderr",
     "output_type": "stream",
     "text": [
      "Training (4863 / 18000 Steps) (loss=0.42838): 100%|██████████| 76/76 [01:04<00:00,  1.18it/s]\n",
      "Validate (4864 / 10 Steps): 100%|██████████| 22/22 [00:27<00:00,  1.24s/it]<00:18,  2.20it/s]\n",
      "Training (4900 / 18000 Steps) (loss=0.57636):  49%|████▊     | 37/76 [00:47<05:45,  8.85s/it]"
     ]
    },
    {
     "name": "stdout",
     "output_type": "stream",
     "text": [
      "Model Was Saved ! Current Best Avg. Dice: 0.35534802079200745 Current Avg. Dice: 0.35534802079200745 Current Avg. tumor Dice: 0.34312084317207336 Current Avg. lymph Dice: 0.3808058500289917\n"
     ]
    },
    {
     "name": "stderr",
     "output_type": "stream",
     "text": [
      "Training (4939 / 18000 Steps) (loss=0.53155): 100%|██████████| 76/76 [01:05<00:00,  1.16it/s]\n",
      "Validate (4940 / 10 Steps): 100%|██████████| 22/22 [00:27<00:00,  1.24s/it]<00:07,  2.20it/s]\n",
      "Training (5000 / 18000 Steps) (loss=0.57743):  80%|████████  | 61/76 [00:57<02:09,  8.65s/it]"
     ]
    },
    {
     "name": "stdout",
     "output_type": "stream",
     "text": [
      "Model Was Not Saved ! Current Best Avg. Dice: 0.35534802079200745 Current Avg. Dice: 0.3203538954257965 Current Avg. tumor Dice: 0.29168349504470825 Current Avg. lymph Dice: 0.3734094798564911\n"
     ]
    },
    {
     "name": "stderr",
     "output_type": "stream",
     "text": [
      "Training (5015 / 18000 Steps) (loss=0.61869): 100%|██████████| 76/76 [01:04<00:00,  1.17it/s]\n",
      "Training (5091 / 18000 Steps) (loss=0.42951): 100%|██████████| 76/76 [00:37<00:00,  2.00it/s]\n",
      "Validate (5092 / 10 Steps): 100%|██████████| 22/22 [00:27<00:00,  1.24s/it]00:35,  1.90it/s]\n",
      "Training (5100 / 18000 Steps) (loss=0.65623):  12%|█▏        | 9/76 [00:34<10:07,  9.06s/it]"
     ]
    },
    {
     "name": "stdout",
     "output_type": "stream",
     "text": [
      "Model Was Not Saved ! Current Best Avg. Dice: 0.35534802079200745 Current Avg. Dice: 0.32777345180511475 Current Avg. tumor Dice: 0.2878512442111969 Current Avg. lymph Dice: 0.39512643218040466\n"
     ]
    },
    {
     "name": "stderr",
     "output_type": "stream",
     "text": [
      "Training (5167 / 18000 Steps) (loss=0.58344): 100%|██████████| 76/76 [01:04<00:00,  1.18it/s]\n",
      "Validate (5168 / 10 Steps): 100%|██████████| 22/22 [00:27<00:00,  1.24s/it]<00:20,  2.17it/s]\n",
      "Training (5200 / 18000 Steps) (loss=0.57141):  43%|████▎     | 33/76 [00:45<06:19,  8.84s/it]"
     ]
    },
    {
     "name": "stdout",
     "output_type": "stream",
     "text": [
      "Model Was Saved ! Current Best Avg. Dice: 0.35781329870224 Current Avg. Dice: 0.35781329870224 Current Avg. tumor Dice: 0.32609325647354126 Current Avg. lymph Dice: 0.4082062542438507\n"
     ]
    },
    {
     "name": "stderr",
     "output_type": "stream",
     "text": [
      "Training (5243 / 18000 Steps) (loss=0.49180): 100%|██████████| 76/76 [01:05<00:00,  1.17it/s]\n",
      "Validate (5244 / 10 Steps): 100%|██████████| 22/22 [00:27<00:00,  1.23s/it]<00:09,  2.22it/s]\n",
      "Training (5300 / 18000 Steps) (loss=0.54104):  75%|███████▌  | 57/76 [00:56<02:43,  8.61s/it]"
     ]
    },
    {
     "name": "stdout",
     "output_type": "stream",
     "text": [
      "Model Was Not Saved ! Current Best Avg. Dice: 0.35781329870224 Current Avg. Dice: 0.34292757511138916 Current Avg. tumor Dice: 0.302785724401474 Current Avg. lymph Dice: 0.4032207727432251\n"
     ]
    },
    {
     "name": "stderr",
     "output_type": "stream",
     "text": [
      "Training (5319 / 18000 Steps) (loss=0.58381): 100%|██████████| 76/76 [01:04<00:00,  1.17it/s]\n",
      "Training (5395 / 18000 Steps) (loss=0.59584): 100%|██████████| 76/76 [00:37<00:00,  2.05it/s]\n",
      "Validate (5396 / 10 Steps): 100%|██████████| 22/22 [00:27<00:00,  1.23s/it]00:56,  1.26it/s]\n",
      "Training (5400 / 18000 Steps) (loss=0.50552):   7%|▋         | 5/76 [00:31<12:22, 10.46s/it]"
     ]
    },
    {
     "name": "stdout",
     "output_type": "stream",
     "text": [
      "Model Was Not Saved ! Current Best Avg. Dice: 0.35781329870224 Current Avg. Dice: 0.3265409469604492 Current Avg. tumor Dice: 0.284872829914093 Current Avg. lymph Dice: 0.39859336614608765\n"
     ]
    },
    {
     "name": "stderr",
     "output_type": "stream",
     "text": [
      "Training (5471 / 18000 Steps) (loss=0.61094): 100%|██████████| 76/76 [01:04<00:00,  1.18it/s]\n",
      "Validate (5472 / 10 Steps): 100%|██████████| 22/22 [00:27<00:00,  1.24s/it]<00:21,  2.18it/s]\n",
      "Training (5500 / 18000 Steps) (loss=0.45837):  38%|███▊      | 29/76 [00:43<06:47,  8.67s/it]"
     ]
    },
    {
     "name": "stdout",
     "output_type": "stream",
     "text": [
      "Model Was Not Saved ! Current Best Avg. Dice: 0.35781329870224 Current Avg. Dice: 0.30914410948753357 Current Avg. tumor Dice: 0.2674272954463959 Current Avg. lymph Dice: 0.387765109539032\n"
     ]
    },
    {
     "name": "stderr",
     "output_type": "stream",
     "text": [
      "Training (5547 / 18000 Steps) (loss=0.52486): 100%|██████████| 76/76 [01:04<00:00,  1.18it/s]\n",
      "Validate (5548 / 10 Steps): 100%|██████████| 22/22 [00:27<00:00,  1.23s/it]<00:10,  2.23it/s]\n",
      "Training (5600 / 18000 Steps) (loss=0.48321):  70%|██████▉   | 53/76 [00:54<03:17,  8.59s/it]"
     ]
    },
    {
     "name": "stdout",
     "output_type": "stream",
     "text": [
      "Model Was Not Saved ! Current Best Avg. Dice: 0.35781329870224 Current Avg. Dice: 0.3386094868183136 Current Avg. tumor Dice: 0.2972608208656311 Current Avg. lymph Dice: 0.4112240970134735\n"
     ]
    },
    {
     "name": "stderr",
     "output_type": "stream",
     "text": [
      "Training (5623 / 18000 Steps) (loss=0.44041): 100%|██████████| 76/76 [01:04<00:00,  1.18it/s]\n",
      "Training (5699 / 18000 Steps) (loss=0.41811): 100%|██████████| 76/76 [00:37<00:00,  2.01it/s]\n",
      "Validate (5700 / 10 Steps): 100%|██████████| 22/22 [00:27<00:00,  1.25s/it]?, ?it/s]\n",
      "Training (5700 / 18000 Steps) (loss=0.52799):   1%|▏         | 1/76 [00:30<38:39, 30.92s/it]"
     ]
    },
    {
     "name": "stdout",
     "output_type": "stream",
     "text": [
      "Model Was Not Saved ! Current Best Avg. Dice: 0.35781329870224 Current Avg. Dice: 0.338996022939682 Current Avg. tumor Dice: 0.304914653301239 Current Avg. lymph Dice: 0.3991177976131439\n"
     ]
    },
    {
     "name": "stderr",
     "output_type": "stream",
     "text": [
      "Training (5775 / 18000 Steps) (loss=0.38004): 100%|██████████| 76/76 [01:05<00:00,  1.17it/s]\n",
      "Validate (5776 / 10 Steps): 100%|██████████| 22/22 [00:27<00:00,  1.25s/it]<00:24,  2.14it/s]\n",
      "Training (5800 / 18000 Steps) (loss=0.50185):  33%|███▎      | 25/76 [00:41<07:24,  8.71s/it]"
     ]
    },
    {
     "name": "stdout",
     "output_type": "stream",
     "text": [
      "Model Was Not Saved ! Current Best Avg. Dice: 0.35781329870224 Current Avg. Dice: 0.3345378637313843 Current Avg. tumor Dice: 0.32146307826042175 Current Avg. lymph Dice: 0.3624832332134247\n"
     ]
    },
    {
     "name": "stderr",
     "output_type": "stream",
     "text": [
      "Training (5851 / 18000 Steps) (loss=0.52944): 100%|██████████| 76/76 [01:05<00:00,  1.16it/s]\n",
      "Validate (5852 / 10 Steps): 100%|██████████| 22/22 [00:27<00:00,  1.27s/it]<00:12,  2.17it/s]\n",
      "Training (5900 / 18000 Steps) (loss=0.63433):  64%|██████▍   | 49/76 [00:53<03:58,  8.85s/it]"
     ]
    },
    {
     "name": "stdout",
     "output_type": "stream",
     "text": [
      "Model Was Not Saved ! Current Best Avg. Dice: 0.35781329870224 Current Avg. Dice: 0.3452703654766083 Current Avg. tumor Dice: 0.30267035961151123 Current Avg. lymph Dice: 0.4165171980857849\n"
     ]
    },
    {
     "name": "stderr",
     "output_type": "stream",
     "text": [
      "Training (5927 / 18000 Steps) (loss=0.54637): 100%|██████████| 76/76 [01:05<00:00,  1.16it/s]\n",
      "Validate (5928 / 10 Steps): 100%|██████████| 22/22 [00:27<00:00,  1.26s/it]<00:01,  2.25it/s]\n",
      "Training (6000 / 18000 Steps) (loss=0.58882):  96%|█████████▌| 73/76 [01:03<00:26,  8.74s/it]"
     ]
    },
    {
     "name": "stdout",
     "output_type": "stream",
     "text": [
      "Model Was Not Saved ! Current Best Avg. Dice: 0.35781329870224 Current Avg. Dice: 0.34242483973503113 Current Avg. tumor Dice: 0.31049370765686035 Current Avg. lymph Dice: 0.40742620825767517\n"
     ]
    },
    {
     "name": "stderr",
     "output_type": "stream",
     "text": [
      "Training (6003 / 18000 Steps) (loss=0.48168): 100%|██████████| 76/76 [01:05<00:00,  1.16it/s]\n",
      "Training (6079 / 18000 Steps) (loss=0.57113): 100%|██████████| 76/76 [00:38<00:00,  1.99it/s]\n",
      "Validate (6080 / 10 Steps): 100%|██████████| 22/22 [00:27<00:00,  1.26s/it]<00:25,  2.18it/s]\n",
      "Training (6100 / 18000 Steps) (loss=0.53075):  28%|██▊       | 21/76 [00:40<08:13,  8.97s/it]"
     ]
    },
    {
     "name": "stdout",
     "output_type": "stream",
     "text": [
      "Model Was Saved ! Current Best Avg. Dice: 0.36534568667411804 Current Avg. Dice: 0.36534568667411804 Current Avg. tumor Dice: 0.3252847492694855 Current Avg. lymph Dice: 0.4274778962135315\n"
     ]
    },
    {
     "name": "stderr",
     "output_type": "stream",
     "text": [
      "Training (6155 / 18000 Steps) (loss=0.56734): 100%|██████████| 76/76 [01:05<00:00,  1.16it/s]\n",
      "Validate (6156 / 10 Steps): 100%|██████████| 22/22 [00:27<00:00,  1.27s/it]<00:14,  2.21it/s]\n",
      "Training (6200 / 18000 Steps) (loss=0.53565):  59%|█████▉    | 45/76 [00:51<04:34,  8.86s/it]"
     ]
    },
    {
     "name": "stdout",
     "output_type": "stream",
     "text": [
      "Model Was Not Saved ! Current Best Avg. Dice: 0.36534568667411804 Current Avg. Dice: 0.3605082333087921 Current Avg. tumor Dice: 0.33629676699638367 Current Avg. lymph Dice: 0.40636926889419556\n"
     ]
    },
    {
     "name": "stderr",
     "output_type": "stream",
     "text": [
      "Training (6231 / 18000 Steps) (loss=0.44133): 100%|██████████| 76/76 [01:05<00:00,  1.16it/s]\n",
      "Validate (6232 / 10 Steps): 100%|██████████| 22/22 [00:27<00:00,  1.25s/it]<00:03,  2.25it/s]\n",
      "Training (6300 / 18000 Steps) (loss=0.50323):  91%|█████████ | 69/76 [01:01<01:01,  8.73s/it]"
     ]
    },
    {
     "name": "stdout",
     "output_type": "stream",
     "text": [
      "Model Was Not Saved ! Current Best Avg. Dice: 0.36534568667411804 Current Avg. Dice: 0.3556278944015503 Current Avg. tumor Dice: 0.3318265974521637 Current Avg. lymph Dice: 0.3984121084213257\n"
     ]
    },
    {
     "name": "stderr",
     "output_type": "stream",
     "text": [
      "Training (6307 / 18000 Steps) (loss=0.52169): 100%|██████████| 76/76 [01:05<00:00,  1.17it/s]\n",
      "Training (6383 / 18000 Steps) (loss=0.55727): 100%|██████████| 76/76 [00:37<00:00,  2.03it/s]\n",
      "Validate (6384 / 10 Steps): 100%|██████████| 22/22 [00:27<00:00,  1.27s/it]<00:28,  2.13it/s]\n",
      "Training (6400 / 18000 Steps) (loss=0.58602):  22%|██▏       | 17/76 [00:38<08:42,  8.86s/it]"
     ]
    },
    {
     "name": "stdout",
     "output_type": "stream",
     "text": [
      "Model Was Not Saved ! Current Best Avg. Dice: 0.36534568667411804 Current Avg. Dice: 0.35282909870147705 Current Avg. tumor Dice: 0.33102354407310486 Current Avg. lymph Dice: 0.4091549515724182\n"
     ]
    },
    {
     "name": "stderr",
     "output_type": "stream",
     "text": [
      "Training (6459 / 18000 Steps) (loss=0.53261): 100%|██████████| 76/76 [01:06<00:00,  1.15it/s]\n",
      "Validate (6460 / 10 Steps): 100%|██████████| 22/22 [00:28<00:00,  1.27s/it]<00:16,  2.19it/s]\n",
      "Training (6500 / 18000 Steps) (loss=0.52902):  54%|█████▍    | 41/76 [00:50<05:17,  9.08s/it]"
     ]
    },
    {
     "name": "stdout",
     "output_type": "stream",
     "text": [
      "Model Was Saved ! Current Best Avg. Dice: 0.37010133266448975 Current Avg. Dice: 0.37010133266448975 Current Avg. tumor Dice: 0.35476669669151306 Current Avg. lymph Dice: 0.40567052364349365\n"
     ]
    },
    {
     "name": "stderr",
     "output_type": "stream",
     "text": [
      "Training (6535 / 18000 Steps) (loss=0.32736): 100%|██████████| 76/76 [01:06<00:00,  1.14it/s]\n",
      "Validate (6536 / 10 Steps): 100%|██████████| 22/22 [00:27<00:00,  1.27s/it]<00:05,  2.20it/s]\n",
      "Training (6600 / 18000 Steps) (loss=0.60542):  86%|████████▌ | 65/76 [01:02<01:37,  8.84s/it]"
     ]
    },
    {
     "name": "stdout",
     "output_type": "stream",
     "text": [
      "Model Was Not Saved ! Current Best Avg. Dice: 0.37010133266448975 Current Avg. Dice: 0.3695771098136902 Current Avg. tumor Dice: 0.34083643555641174 Current Avg. lymph Dice: 0.42387712001800537\n"
     ]
    },
    {
     "name": "stderr",
     "output_type": "stream",
     "text": [
      "Training (6611 / 18000 Steps) (loss=0.48434): 100%|██████████| 76/76 [01:07<00:00,  1.13it/s]\n",
      "Training (6687 / 18000 Steps) (loss=0.39791): 100%|██████████| 76/76 [00:38<00:00,  1.99it/s]\n",
      "Validate (6688 / 10 Steps): 100%|██████████| 22/22 [00:28<00:00,  1.29s/it]<00:31,  2.01it/s]\n",
      "Training (6700 / 18000 Steps) (loss=0.37598):  17%|█▋        | 13/76 [00:37<09:32,  9.08s/it]"
     ]
    },
    {
     "name": "stdout",
     "output_type": "stream",
     "text": [
      "Model Was Not Saved ! Current Best Avg. Dice: 0.37010133266448975 Current Avg. Dice: 0.3323002755641937 Current Avg. tumor Dice: 0.31095820665359497 Current Avg. lymph Dice: 0.38285255432128906\n"
     ]
    },
    {
     "name": "stderr",
     "output_type": "stream",
     "text": [
      "Training (6763 / 18000 Steps) (loss=0.51711): 100%|██████████| 76/76 [01:07<00:00,  1.13it/s]\n",
      "Validate (6764 / 10 Steps): 100%|██████████| 22/22 [00:27<00:00,  1.26s/it]<00:17,  2.24it/s]\n",
      "Training (6800 / 18000 Steps) (loss=0.56978):  49%|████▊     | 37/76 [00:47<05:42,  8.78s/it]"
     ]
    },
    {
     "name": "stdout",
     "output_type": "stream",
     "text": [
      "Model Was Not Saved ! Current Best Avg. Dice: 0.37010133266448975 Current Avg. Dice: 0.3391806185245514 Current Avg. tumor Dice: 0.31515058875083923 Current Avg. lymph Dice: 0.4045783579349518\n"
     ]
    },
    {
     "name": "stderr",
     "output_type": "stream",
     "text": [
      "Training (6839 / 18000 Steps) (loss=0.35260): 100%|██████████| 76/76 [01:05<00:00,  1.16it/s]\n",
      "Validate (6840 / 10 Steps): 100%|██████████| 22/22 [00:28<00:00,  1.28s/it]<00:07,  2.21it/s]\n",
      "Training (6900 / 18000 Steps) (loss=0.46113):  80%|████████  | 61/76 [00:58<02:13,  8.89s/it]"
     ]
    },
    {
     "name": "stdout",
     "output_type": "stream",
     "text": [
      "Model Was Not Saved ! Current Best Avg. Dice: 0.37010133266448975 Current Avg. Dice: 0.3241557478904724 Current Avg. tumor Dice: 0.3259603977203369 Current Avg. lymph Dice: 0.3476737141609192\n"
     ]
    },
    {
     "name": "stderr",
     "output_type": "stream",
     "text": [
      "Training (6915 / 18000 Steps) (loss=0.51447): 100%|██████████| 76/76 [01:05<00:00,  1.17it/s]\n",
      "Training (6991 / 18000 Steps) (loss=0.61040): 100%|██████████| 76/76 [00:37<00:00,  2.01it/s]\n",
      "Validate (6992 / 10 Steps): 100%|██████████| 22/22 [00:29<00:00,  1.34s/it]00:36,  1.88it/s]\n",
      "Training (7000 / 18000 Steps) (loss=0.61865):  12%|█▏        | 9/76 [00:36<10:52,  9.73s/it]"
     ]
    },
    {
     "name": "stdout",
     "output_type": "stream",
     "text": [
      "Model Was Not Saved ! Current Best Avg. Dice: 0.37010133266448975 Current Avg. Dice: 0.3589472770690918 Current Avg. tumor Dice: 0.3320128917694092 Current Avg. lymph Dice: 0.40596213936805725\n"
     ]
    },
    {
     "name": "stderr",
     "output_type": "stream",
     "text": [
      "Training (7067 / 18000 Steps) (loss=0.56946): 100%|██████████| 76/76 [01:07<00:00,  1.13it/s]\n",
      "Validate (7068 / 10 Steps): 100%|██████████| 22/22 [00:28<00:00,  1.28s/it]<00:19,  2.21it/s]\n",
      "Training (7100 / 18000 Steps) (loss=0.65501):  43%|████▎     | 33/76 [00:46<06:24,  8.94s/it]"
     ]
    },
    {
     "name": "stdout",
     "output_type": "stream",
     "text": [
      "Model Was Not Saved ! Current Best Avg. Dice: 0.37010133266448975 Current Avg. Dice: 0.35931089520454407 Current Avg. tumor Dice: 0.32997941970825195 Current Avg. lymph Dice: 0.4105437994003296\n"
     ]
    },
    {
     "name": "stderr",
     "output_type": "stream",
     "text": [
      "Training (7143 / 18000 Steps) (loss=0.60384): 100%|██████████| 76/76 [01:07<00:00,  1.13it/s]\n",
      "Validate (7144 / 10 Steps): 100%|██████████| 22/22 [00:27<00:00,  1.27s/it]<00:09,  2.18it/s]\n",
      "Training (7200 / 18000 Steps) (loss=0.54119):  75%|███████▌  | 57/76 [00:57<02:48,  8.89s/it]"
     ]
    },
    {
     "name": "stdout",
     "output_type": "stream",
     "text": [
      "Model Was Not Saved ! Current Best Avg. Dice: 0.37010133266448975 Current Avg. Dice: 0.3051728904247284 Current Avg. tumor Dice: 0.3173534870147705 Current Avg. lymph Dice: 0.31445202231407166\n"
     ]
    },
    {
     "name": "stderr",
     "output_type": "stream",
     "text": [
      "Training (7219 / 18000 Steps) (loss=0.53328): 100%|██████████| 76/76 [01:05<00:00,  1.15it/s]\n",
      "Training (7295 / 18000 Steps) (loss=0.51417): 100%|██████████| 76/76 [00:37<00:00,  2.03it/s]\n",
      "Validate (7296 / 10 Steps): 100%|██████████| 22/22 [00:27<00:00,  1.25s/it]00:56,  1.28it/s]\n",
      "Training (7300 / 18000 Steps) (loss=0.45854):   7%|▋         | 5/76 [00:32<12:34, 10.62s/it]"
     ]
    },
    {
     "name": "stdout",
     "output_type": "stream",
     "text": [
      "Model Was Not Saved ! Current Best Avg. Dice: 0.37010133266448975 Current Avg. Dice: 0.3288860321044922 Current Avg. tumor Dice: 0.27737051248550415 Current Avg. lymph Dice: 0.4126955270767212\n"
     ]
    },
    {
     "name": "stderr",
     "output_type": "stream",
     "text": [
      "Training (7371 / 18000 Steps) (loss=0.47164): 100%|██████████| 76/76 [01:04<00:00,  1.17it/s]\n",
      "Validate (7372 / 10 Steps): 100%|██████████| 22/22 [00:27<00:00,  1.27s/it]<00:22,  2.14it/s]\n",
      "Training (7400 / 18000 Steps) (loss=0.55690):  38%|███▊      | 29/76 [00:44<06:56,  8.86s/it]"
     ]
    },
    {
     "name": "stdout",
     "output_type": "stream",
     "text": [
      "Model Was Not Saved ! Current Best Avg. Dice: 0.37010133266448975 Current Avg. Dice: 0.35132595896720886 Current Avg. tumor Dice: 0.30404409766197205 Current Avg. lymph Dice: 0.4378182590007782\n"
     ]
    },
    {
     "name": "stderr",
     "output_type": "stream",
     "text": [
      "Training (7447 / 18000 Steps) (loss=0.47216): 100%|██████████| 76/76 [01:05<00:00,  1.15it/s]\n",
      "Validate (7448 / 10 Steps): 100%|██████████| 22/22 [00:27<00:00,  1.25s/it]<00:11,  2.15it/s]\n",
      "Training (7500 / 18000 Steps) (loss=0.55478):  70%|██████▉   | 53/76 [00:55<03:25,  8.92s/it]"
     ]
    },
    {
     "name": "stdout",
     "output_type": "stream",
     "text": [
      "Model Was Saved ! Current Best Avg. Dice: 0.37342044711112976 Current Avg. Dice: 0.37342044711112976 Current Avg. tumor Dice: 0.34937912225723267 Current Avg. lymph Dice: 0.4306018054485321\n"
     ]
    },
    {
     "name": "stderr",
     "output_type": "stream",
     "text": [
      "Training (7523 / 18000 Steps) (loss=0.41467): 100%|██████████| 76/76 [01:05<00:00,  1.16it/s]\n",
      "Training (7599 / 18000 Steps) (loss=0.32480): 100%|██████████| 76/76 [00:37<00:00,  2.02it/s]\n",
      "Validate (7600 / 10 Steps): 100%|██████████| 22/22 [00:27<00:00,  1.26s/it]?, ?it/s]\n",
      "Training (7600 / 18000 Steps) (loss=0.47303):   1%|▏         | 1/76 [00:30<38:14, 30.59s/it]"
     ]
    },
    {
     "name": "stdout",
     "output_type": "stream",
     "text": [
      "Model Was Not Saved ! Current Best Avg. Dice: 0.37342044711112976 Current Avg. Dice: 0.35242217779159546 Current Avg. tumor Dice: 0.3115459680557251 Current Avg. lymph Dice: 0.4181065559387207\n"
     ]
    },
    {
     "name": "stderr",
     "output_type": "stream",
     "text": [
      "Training (7675 / 18000 Steps) (loss=0.52660): 100%|██████████| 76/76 [01:04<00:00,  1.18it/s]\n",
      "Validate (7676 / 10 Steps): 100%|██████████| 22/22 [00:27<00:00,  1.24s/it]<00:23,  2.18it/s]\n",
      "Training (7700 / 18000 Steps) (loss=0.45822):  33%|███▎      | 25/76 [00:41<07:23,  8.69s/it]"
     ]
    },
    {
     "name": "stdout",
     "output_type": "stream",
     "text": [
      "Model Was Not Saved ! Current Best Avg. Dice: 0.37342044711112976 Current Avg. Dice: 0.34668615460395813 Current Avg. tumor Dice: 0.32371076941490173 Current Avg. lymph Dice: 0.3943432569503784\n"
     ]
    },
    {
     "name": "stderr",
     "output_type": "stream",
     "text": [
      "Training (7751 / 18000 Steps) (loss=0.54380): 100%|██████████| 76/76 [01:05<00:00,  1.17it/s]\n",
      "Validate (7752 / 10 Steps): 100%|██████████| 22/22 [00:27<00:00,  1.25s/it]<00:13,  2.14it/s]\n",
      "Training (7800 / 18000 Steps) (loss=0.53551):  64%|██████▍   | 49/76 [00:52<03:55,  8.73s/it]"
     ]
    },
    {
     "name": "stdout",
     "output_type": "stream",
     "text": [
      "Model Was Not Saved ! Current Best Avg. Dice: 0.37342044711112976 Current Avg. Dice: 0.3510380983352661 Current Avg. tumor Dice: 0.3129112422466278 Current Avg. lymph Dice: 0.4251886010169983\n"
     ]
    },
    {
     "name": "stderr",
     "output_type": "stream",
     "text": [
      "Training (7827 / 18000 Steps) (loss=0.52354): 100%|██████████| 76/76 [01:04<00:00,  1.17it/s]\n",
      "Validate (7828 / 10 Steps): 100%|██████████| 22/22 [00:27<00:00,  1.25s/it]<00:01,  2.26it/s]\n",
      "Training (7900 / 18000 Steps) (loss=0.57091):  96%|█████████▌| 73/76 [01:03<00:26,  8.73s/it]"
     ]
    },
    {
     "name": "stdout",
     "output_type": "stream",
     "text": [
      "Model Was Not Saved ! Current Best Avg. Dice: 0.37342044711112976 Current Avg. Dice: 0.3608047664165497 Current Avg. tumor Dice: 0.335772842168808 Current Avg. lymph Dice: 0.4074804484844208\n"
     ]
    },
    {
     "name": "stderr",
     "output_type": "stream",
     "text": [
      "Training (7903 / 18000 Steps) (loss=0.58827): 100%|██████████| 76/76 [01:05<00:00,  1.17it/s]\n",
      "Training (7979 / 18000 Steps) (loss=0.43806): 100%|██████████| 76/76 [00:37<00:00,  2.02it/s]\n",
      "Validate (7980 / 10 Steps): 100%|██████████| 22/22 [00:27<00:00,  1.26s/it]<00:25,  2.22it/s]\n",
      "Training (8000 / 18000 Steps) (loss=0.50196):  28%|██▊       | 21/76 [00:40<08:13,  8.97s/it]"
     ]
    },
    {
     "name": "stdout",
     "output_type": "stream",
     "text": [
      "Model Was Saved ! Current Best Avg. Dice: 0.38722607493400574 Current Avg. Dice: 0.38722607493400574 Current Avg. tumor Dice: 0.35932058095932007 Current Avg. lymph Dice: 0.4349783658981323\n"
     ]
    },
    {
     "name": "stderr",
     "output_type": "stream",
     "text": [
      "Training (8055 / 18000 Steps) (loss=0.41664): 100%|██████████| 76/76 [01:05<00:00,  1.16it/s]\n",
      "Validate (8056 / 10 Steps): 100%|██████████| 22/22 [00:27<00:00,  1.26s/it]<00:14,  2.19it/s]\n",
      "Training (8100 / 18000 Steps) (loss=0.41844):  59%|█████▉    | 45/76 [00:51<04:32,  8.78s/it]"
     ]
    },
    {
     "name": "stdout",
     "output_type": "stream",
     "text": [
      "Model Was Not Saved ! Current Best Avg. Dice: 0.38722607493400574 Current Avg. Dice: 0.38052377104759216 Current Avg. tumor Dice: 0.3562055230140686 Current Avg. lymph Dice: 0.43718045949935913\n"
     ]
    },
    {
     "name": "stderr",
     "output_type": "stream",
     "text": [
      "Training (8131 / 18000 Steps) (loss=0.51686): 100%|██████████| 76/76 [01:05<00:00,  1.16it/s]\n",
      "Validate (8132 / 10 Steps): 100%|██████████| 22/22 [00:27<00:00,  1.25s/it]<00:03,  2.20it/s]\n",
      "Training (8200 / 18000 Steps) (loss=0.48948):  91%|█████████ | 69/76 [01:02<01:01,  8.74s/it]"
     ]
    },
    {
     "name": "stdout",
     "output_type": "stream",
     "text": [
      "Model Was Not Saved ! Current Best Avg. Dice: 0.38722607493400574 Current Avg. Dice: 0.36674806475639343 Current Avg. tumor Dice: 0.35278287529945374 Current Avg. lymph Dice: 0.402826189994812\n"
     ]
    },
    {
     "name": "stderr",
     "output_type": "stream",
     "text": [
      "Training (8207 / 18000 Steps) (loss=0.52010): 100%|██████████| 76/76 [01:05<00:00,  1.15it/s]\n",
      "Training (8283 / 18000 Steps) (loss=0.59714): 100%|██████████| 76/76 [00:38<00:00,  2.00it/s]\n",
      "Validate (8284 / 10 Steps): 100%|██████████| 22/22 [00:27<00:00,  1.26s/it]<00:27,  2.20it/s]\n",
      "Training (8300 / 18000 Steps) (loss=0.62688):  22%|██▏       | 17/76 [00:38<08:39,  8.81s/it]"
     ]
    },
    {
     "name": "stdout",
     "output_type": "stream",
     "text": [
      "Model Was Not Saved ! Current Best Avg. Dice: 0.38722607493400574 Current Avg. Dice: 0.35406094789505005 Current Avg. tumor Dice: 0.3458235263824463 Current Avg. lymph Dice: 0.3906959593296051\n"
     ]
    },
    {
     "name": "stderr",
     "output_type": "stream",
     "text": [
      "Training (8359 / 18000 Steps) (loss=0.52187): 100%|██████████| 76/76 [01:05<00:00,  1.16it/s]\n",
      "Validate (8360 / 10 Steps): 100%|██████████| 22/22 [00:27<00:00,  1.25s/it]<00:16,  2.21it/s]\n",
      "Training (8400 / 18000 Steps) (loss=0.55813):  54%|█████▍    | 41/76 [00:48<05:05,  8.72s/it]"
     ]
    },
    {
     "name": "stdout",
     "output_type": "stream",
     "text": [
      "Model Was Not Saved ! Current Best Avg. Dice: 0.38722607493400574 Current Avg. Dice: 0.3642602264881134 Current Avg. tumor Dice: 0.3266907334327698 Current Avg. lymph Dice: 0.4307052493095398\n"
     ]
    },
    {
     "name": "stderr",
     "output_type": "stream",
     "text": [
      "Training (8435 / 18000 Steps) (loss=0.51668): 100%|██████████| 76/76 [01:04<00:00,  1.18it/s]\n",
      "Validate (8436 / 10 Steps): 100%|██████████| 22/22 [00:28<00:00,  1.28s/it]<00:05,  2.18it/s]\n",
      "Training (8500 / 18000 Steps) (loss=0.49704):  86%|████████▌ | 65/76 [01:00<01:38,  8.92s/it]"
     ]
    },
    {
     "name": "stdout",
     "output_type": "stream",
     "text": [
      "Model Was Not Saved ! Current Best Avg. Dice: 0.38722607493400574 Current Avg. Dice: 0.37487995624542236 Current Avg. tumor Dice: 0.3353640139102936 Current Avg. lymph Dice: 0.4433261454105377\n"
     ]
    },
    {
     "name": "stderr",
     "output_type": "stream",
     "text": [
      "Training (8511 / 18000 Steps) (loss=0.61701): 100%|██████████| 76/76 [01:05<00:00,  1.15it/s]\n",
      "Training (8587 / 18000 Steps) (loss=0.51464): 100%|██████████| 76/76 [00:38<00:00,  1.98it/s]\n",
      "Validate (8588 / 10 Steps): 100%|██████████| 22/22 [00:29<00:00,  1.32s/it]<00:31,  2.03it/s]\n",
      "Training (8600 / 18000 Steps) (loss=0.46557):  17%|█▋        | 13/76 [00:38<09:58,  9.50s/it]"
     ]
    },
    {
     "name": "stdout",
     "output_type": "stream",
     "text": [
      "Model Was Saved ! Current Best Avg. Dice: 0.3907943069934845 Current Avg. Dice: 0.3907943069934845 Current Avg. tumor Dice: 0.3619159758090973 Current Avg. lymph Dice: 0.443036824464798\n"
     ]
    },
    {
     "name": "stderr",
     "output_type": "stream",
     "text": [
      "Training (8663 / 18000 Steps) (loss=0.42169): 100%|██████████| 76/76 [01:07<00:00,  1.13it/s]\n",
      "Validate (8664 / 10 Steps): 100%|██████████| 22/22 [00:27<00:00,  1.26s/it]<00:18,  2.16it/s]\n",
      "Training (8700 / 18000 Steps) (loss=0.63053):  49%|████▊     | 37/76 [00:47<05:43,  8.82s/it]"
     ]
    },
    {
     "name": "stdout",
     "output_type": "stream",
     "text": [
      "Model Was Not Saved ! Current Best Avg. Dice: 0.3907943069934845 Current Avg. Dice: 0.3489212393760681 Current Avg. tumor Dice: 0.33279523253440857 Current Avg. lymph Dice: 0.39700597524642944\n"
     ]
    },
    {
     "name": "stderr",
     "output_type": "stream",
     "text": [
      "Training (8739 / 18000 Steps) (loss=0.40765): 100%|██████████| 76/76 [01:06<00:00,  1.15it/s]\n",
      "Validate (8740 / 10 Steps): 100%|██████████| 22/22 [00:27<00:00,  1.26s/it]<00:07,  2.12it/s]\n",
      "Training (8800 / 18000 Steps) (loss=0.45659):  80%|████████  | 61/76 [00:59<02:12,  8.81s/it]"
     ]
    },
    {
     "name": "stdout",
     "output_type": "stream",
     "text": [
      "Model Was Not Saved ! Current Best Avg. Dice: 0.3907943069934845 Current Avg. Dice: 0.3678880035877228 Current Avg. tumor Dice: 0.33145442605018616 Current Avg. lymph Dice: 0.4347441494464874\n"
     ]
    },
    {
     "name": "stderr",
     "output_type": "stream",
     "text": [
      "Training (8815 / 18000 Steps) (loss=0.43988): 100%|██████████| 76/76 [01:06<00:00,  1.15it/s]\n",
      "Training (8891 / 18000 Steps) (loss=0.57362): 100%|██████████| 76/76 [00:37<00:00,  2.03it/s]\n",
      "Validate (8892 / 10 Steps): 100%|██████████| 22/22 [00:27<00:00,  1.27s/it]00:37,  1.81it/s]\n",
      "Training (8900 / 18000 Steps) (loss=0.44999):  12%|█▏        | 9/76 [00:35<10:21,  9.28s/it]"
     ]
    },
    {
     "name": "stdout",
     "output_type": "stream",
     "text": [
      "Model Was Not Saved ! Current Best Avg. Dice: 0.3907943069934845 Current Avg. Dice: 0.3866274952888489 Current Avg. tumor Dice: 0.3637356460094452 Current Avg. lymph Dice: 0.4300186336040497\n"
     ]
    },
    {
     "name": "stderr",
     "output_type": "stream",
     "text": [
      "Training (8967 / 18000 Steps) (loss=0.56080): 100%|██████████| 76/76 [01:05<00:00,  1.15it/s]\n",
      "Validate (8968 / 10 Steps): 100%|██████████| 22/22 [00:27<00:00,  1.25s/it]<00:19,  2.20it/s]\n",
      "Training (9000 / 18000 Steps) (loss=0.52285):  43%|████▎     | 33/76 [00:45<06:24,  8.94s/it]"
     ]
    },
    {
     "name": "stdout",
     "output_type": "stream",
     "text": [
      "Model Was Saved ! Current Best Avg. Dice: 0.39381542801856995 Current Avg. Dice: 0.39381542801856995 Current Avg. tumor Dice: 0.36216872930526733 Current Avg. lymph Dice: 0.44472020864486694\n"
     ]
    },
    {
     "name": "stderr",
     "output_type": "stream",
     "text": [
      "Training (9043 / 18000 Steps) (loss=0.52998): 100%|██████████| 76/76 [01:05<00:00,  1.16it/s]\n",
      "Validate (9044 / 10 Steps): 100%|██████████| 22/22 [00:27<00:00,  1.25s/it]<00:09,  2.18it/s]\n",
      "Training (9100 / 18000 Steps) (loss=0.65677):  75%|███████▌  | 57/76 [00:56<02:46,  8.75s/it]"
     ]
    },
    {
     "name": "stdout",
     "output_type": "stream",
     "text": [
      "Model Was Not Saved ! Current Best Avg. Dice: 0.39381542801856995 Current Avg. Dice: 0.37230050563812256 Current Avg. tumor Dice: 0.34085434675216675 Current Avg. lymph Dice: 0.43222856521606445\n"
     ]
    },
    {
     "name": "stderr",
     "output_type": "stream",
     "text": [
      "Training (9119 / 18000 Steps) (loss=0.58679): 100%|██████████| 76/76 [01:05<00:00,  1.16it/s]\n",
      "Training (9195 / 18000 Steps) (loss=0.51569): 100%|██████████| 76/76 [00:37<00:00,  2.01it/s]\n",
      "Validate (9196 / 10 Steps): 100%|██████████| 22/22 [00:27<00:00,  1.27s/it]00:59,  1.21it/s]\n",
      "Training (9200 / 18000 Steps) (loss=0.52473):   7%|▋         | 5/76 [00:33<12:48, 10.82s/it]"
     ]
    },
    {
     "name": "stdout",
     "output_type": "stream",
     "text": [
      "Model Was Not Saved ! Current Best Avg. Dice: 0.39381542801856995 Current Avg. Dice: 0.3841637670993805 Current Avg. tumor Dice: 0.3634977340698242 Current Avg. lymph Dice: 0.4419986307621002\n"
     ]
    },
    {
     "name": "stderr",
     "output_type": "stream",
     "text": [
      "Training (9271 / 18000 Steps) (loss=0.42640): 100%|██████████| 76/76 [01:06<00:00,  1.14it/s]\n",
      "Validate (9272 / 10 Steps): 100%|██████████| 22/22 [00:27<00:00,  1.26s/it]<00:21,  2.19it/s]\n",
      "Training (9300 / 18000 Steps) (loss=0.51733):  38%|███▊      | 29/76 [00:43<06:52,  8.77s/it]"
     ]
    },
    {
     "name": "stdout",
     "output_type": "stream",
     "text": [
      "Model Was Not Saved ! Current Best Avg. Dice: 0.39381542801856995 Current Avg. Dice: 0.38657882809638977 Current Avg. tumor Dice: 0.3583740293979645 Current Avg. lymph Dice: 0.4289397597312927\n"
     ]
    },
    {
     "name": "stderr",
     "output_type": "stream",
     "text": [
      "Training (9347 / 18000 Steps) (loss=0.59251): 100%|██████████| 76/76 [01:05<00:00,  1.17it/s]\n",
      "Validate (9348 / 10 Steps): 100%|██████████| 22/22 [00:27<00:00,  1.25s/it]<00:10,  2.19it/s]\n",
      "Training (9400 / 18000 Steps) (loss=0.64140):  70%|██████▉   | 53/76 [00:54<03:21,  8.75s/it]"
     ]
    },
    {
     "name": "stdout",
     "output_type": "stream",
     "text": [
      "Model Was Not Saved ! Current Best Avg. Dice: 0.39381542801856995 Current Avg. Dice: 0.3900068998336792 Current Avg. tumor Dice: 0.3557009696960449 Current Avg. lymph Dice: 0.46138572692871094\n"
     ]
    },
    {
     "name": "stderr",
     "output_type": "stream",
     "text": [
      "Training (9423 / 18000 Steps) (loss=0.52281): 100%|██████████| 76/76 [01:05<00:00,  1.17it/s]\n",
      "Training (9499 / 18000 Steps) (loss=0.51907): 100%|██████████| 76/76 [00:37<00:00,  2.04it/s]\n",
      "Validate (9500 / 10 Steps): 100%|██████████| 22/22 [00:27<00:00,  1.26s/it]?, ?it/s]\n",
      "Training (9500 / 18000 Steps) (loss=0.43425):   1%|▏         | 1/76 [00:30<38:32, 30.83s/it]"
     ]
    },
    {
     "name": "stdout",
     "output_type": "stream",
     "text": [
      "Model Was Not Saved ! Current Best Avg. Dice: 0.39381542801856995 Current Avg. Dice: 0.3668983578681946 Current Avg. tumor Dice: 0.32372188568115234 Current Avg. lymph Dice: 0.4565730690956116\n"
     ]
    },
    {
     "name": "stderr",
     "output_type": "stream",
     "text": [
      "Training (9575 / 18000 Steps) (loss=0.48071): 100%|██████████| 76/76 [01:05<00:00,  1.17it/s]\n",
      "Validate (9576 / 10 Steps): 100%|██████████| 22/22 [00:27<00:00,  1.27s/it]<00:24,  2.15it/s]\n",
      "Training (9600 / 18000 Steps) (loss=0.30619):  33%|███▎      | 25/76 [00:42<07:32,  8.88s/it]"
     ]
    },
    {
     "name": "stdout",
     "output_type": "stream",
     "text": [
      "Model Was Not Saved ! Current Best Avg. Dice: 0.39381542801856995 Current Avg. Dice: 0.3848123848438263 Current Avg. tumor Dice: 0.33704209327697754 Current Avg. lymph Dice: 0.457547664642334\n"
     ]
    },
    {
     "name": "stderr",
     "output_type": "stream",
     "text": [
      "Training (9651 / 18000 Steps) (loss=0.48592): 100%|██████████| 76/76 [01:05<00:00,  1.16it/s]\n",
      "Validate (9652 / 10 Steps): 100%|██████████| 22/22 [00:27<00:00,  1.26s/it]<00:12,  2.19it/s]\n",
      "Training (9700 / 18000 Steps) (loss=0.57084):  64%|██████▍   | 49/76 [00:52<03:56,  8.76s/it]"
     ]
    },
    {
     "name": "stdout",
     "output_type": "stream",
     "text": [
      "Model Was Not Saved ! Current Best Avg. Dice: 0.39381542801856995 Current Avg. Dice: 0.3876468539237976 Current Avg. tumor Dice: 0.3503536581993103 Current Avg. lymph Dice: 0.44892603158950806\n"
     ]
    },
    {
     "name": "stderr",
     "output_type": "stream",
     "text": [
      "Training (9727 / 18000 Steps) (loss=0.43263): 100%|██████████| 76/76 [01:04<00:00,  1.17it/s]\n",
      "Validate (9728 / 10 Steps): 100%|██████████| 22/22 [00:27<00:00,  1.26s/it]<00:01,  2.27it/s]\n",
      "Training (9800 / 18000 Steps) (loss=0.49950):  96%|█████████▌| 73/76 [01:03<00:26,  8.76s/it]"
     ]
    },
    {
     "name": "stdout",
     "output_type": "stream",
     "text": [
      "Model Was Not Saved ! Current Best Avg. Dice: 0.39381542801856995 Current Avg. Dice: 0.36736056208610535 Current Avg. tumor Dice: 0.3246529996395111 Current Avg. lymph Dice: 0.4556330442428589\n"
     ]
    },
    {
     "name": "stderr",
     "output_type": "stream",
     "text": [
      "Training (9803 / 18000 Steps) (loss=0.53608): 100%|██████████| 76/76 [01:05<00:00,  1.17it/s]\n",
      "Training (9879 / 18000 Steps) (loss=0.58602): 100%|██████████| 76/76 [00:37<00:00,  2.01it/s]\n",
      "Validate (9880 / 10 Steps): 100%|██████████| 22/22 [00:28<00:00,  1.28s/it]<00:26,  2.15it/s]\n",
      "Training (9900 / 18000 Steps) (loss=0.59416):  28%|██▊       | 21/76 [00:40<08:12,  8.95s/it]"
     ]
    },
    {
     "name": "stdout",
     "output_type": "stream",
     "text": [
      "Model Was Not Saved ! Current Best Avg. Dice: 0.39381542801856995 Current Avg. Dice: 0.3748360872268677 Current Avg. tumor Dice: 0.34768444299697876 Current Avg. lymph Dice: 0.43157121539115906\n"
     ]
    },
    {
     "name": "stderr",
     "output_type": "stream",
     "text": [
      "Training (9955 / 18000 Steps) (loss=0.50028): 100%|██████████| 76/76 [01:05<00:00,  1.15it/s]\n",
      "Validate (9956 / 10 Steps): 100%|██████████| 22/22 [00:27<00:00,  1.25s/it]3<00:14,  2.19it/s]\n",
      "Training (10000 / 18000 Steps) (loss=0.57742):  59%|█████▉    | 45/76 [00:50<04:31,  8.75s/it]"
     ]
    },
    {
     "name": "stdout",
     "output_type": "stream",
     "text": [
      "Model Was Not Saved ! Current Best Avg. Dice: 0.39381542801856995 Current Avg. Dice: 0.3697349429130554 Current Avg. tumor Dice: 0.3307608664035797 Current Avg. lymph Dice: 0.4491826593875885\n"
     ]
    },
    {
     "name": "stderr",
     "output_type": "stream",
     "text": [
      "Training (10031 / 18000 Steps) (loss=0.53235): 100%|██████████| 76/76 [01:04<00:00,  1.17it/s]\n",
      "Validate (10032 / 10 Steps): 100%|██████████| 22/22 [00:27<00:00,  1.26s/it]<00:03,  2.17it/s]\n",
      "Training (10100 / 18000 Steps) (loss=0.61765):  91%|█████████ | 69/76 [01:02<01:01,  8.79s/it]"
     ]
    },
    {
     "name": "stdout",
     "output_type": "stream",
     "text": [
      "Model Was Not Saved ! Current Best Avg. Dice: 0.39381542801856995 Current Avg. Dice: 0.38200655579566956 Current Avg. tumor Dice: 0.3566392660140991 Current Avg. lymph Dice: 0.43498149514198303\n"
     ]
    },
    {
     "name": "stderr",
     "output_type": "stream",
     "text": [
      "Training (10107 / 18000 Steps) (loss=0.55430): 100%|██████████| 76/76 [01:05<00:00,  1.16it/s]\n",
      "Training (10183 / 18000 Steps) (loss=0.47249): 100%|██████████| 76/76 [00:38<00:00,  1.99it/s]\n",
      "Validate (10184 / 10 Steps): 100%|██████████| 22/22 [00:27<00:00,  1.26s/it]<00:27,  2.18it/s]\n",
      "Training (10200 / 18000 Steps) (loss=0.52135):  22%|██▏       | 17/76 [00:38<08:52,  9.03s/it]"
     ]
    },
    {
     "name": "stdout",
     "output_type": "stream",
     "text": [
      "Model Was Saved ! Current Best Avg. Dice: 0.39870092272758484 Current Avg. Dice: 0.39870092272758484 Current Avg. tumor Dice: 0.37739309668540955 Current Avg. lymph Dice: 0.43800726532936096\n"
     ]
    },
    {
     "name": "stderr",
     "output_type": "stream",
     "text": [
      "Training (10259 / 18000 Steps) (loss=0.54540): 100%|██████████| 76/76 [01:05<00:00,  1.16it/s]\n",
      "Validate (10260 / 10 Steps): 100%|██████████| 22/22 [00:27<00:00,  1.26s/it]<00:16,  2.19it/s]\n",
      "Training (10300 / 18000 Steps) (loss=0.61407):  54%|█████▍    | 41/76 [00:49<05:07,  8.79s/it]"
     ]
    },
    {
     "name": "stdout",
     "output_type": "stream",
     "text": [
      "Model Was Not Saved ! Current Best Avg. Dice: 0.39870092272758484 Current Avg. Dice: 0.386736124753952 Current Avg. tumor Dice: 0.3410864472389221 Current Avg. lymph Dice: 0.44936907291412354\n"
     ]
    },
    {
     "name": "stderr",
     "output_type": "stream",
     "text": [
      "Training (10335 / 18000 Steps) (loss=0.39994): 100%|██████████| 76/76 [01:05<00:00,  1.15it/s]\n",
      "Validate (10336 / 10 Steps): 100%|██████████| 22/22 [00:27<00:00,  1.25s/it]<00:05,  2.22it/s]\n",
      "Training (10400 / 18000 Steps) (loss=0.61030):  86%|████████▌ | 65/76 [01:01<01:38,  8.95s/it]"
     ]
    },
    {
     "name": "stdout",
     "output_type": "stream",
     "text": [
      "Model Was Saved ! Current Best Avg. Dice: 0.4080250561237335 Current Avg. Dice: 0.4080250561237335 Current Avg. tumor Dice: 0.369215726852417 Current Avg. lymph Dice: 0.46720021963119507\n"
     ]
    },
    {
     "name": "stderr",
     "output_type": "stream",
     "text": [
      "Training (10411 / 18000 Steps) (loss=0.40972): 100%|██████████| 76/76 [01:06<00:00,  1.14it/s]\n",
      "Training (10487 / 18000 Steps) (loss=0.64291): 100%|██████████| 76/76 [00:37<00:00,  2.03it/s]\n",
      "Validate (10488 / 10 Steps): 100%|██████████| 22/22 [00:28<00:00,  1.30s/it]<00:31,  2.04it/s]\n",
      "Training (10500 / 18000 Steps) (loss=0.53495):  17%|█▋        | 13/76 [00:37<09:36,  9.15s/it]"
     ]
    },
    {
     "name": "stdout",
     "output_type": "stream",
     "text": [
      "Model Was Not Saved ! Current Best Avg. Dice: 0.4080250561237335 Current Avg. Dice: 0.3921867311000824 Current Avg. tumor Dice: 0.36126381158828735 Current Avg. lymph Dice: 0.44273054599761963\n"
     ]
    },
    {
     "name": "stderr",
     "output_type": "stream",
     "text": [
      "Training (10563 / 18000 Steps) (loss=0.61913): 100%|██████████| 76/76 [01:06<00:00,  1.14it/s]\n",
      "Validate (10564 / 10 Steps): 100%|██████████| 22/22 [00:29<00:00,  1.32s/it]<00:17,  2.23it/s]\n",
      "Training (10600 / 18000 Steps) (loss=0.43364):  49%|████▊     | 37/76 [00:48<05:57,  9.17s/it]"
     ]
    },
    {
     "name": "stdout",
     "output_type": "stream",
     "text": [
      "Model Was Not Saved ! Current Best Avg. Dice: 0.4080250561237335 Current Avg. Dice: 0.38121405243873596 Current Avg. tumor Dice: 0.3309786021709442 Current Avg. lymph Dice: 0.46098798513412476\n"
     ]
    },
    {
     "name": "stderr",
     "output_type": "stream",
     "text": [
      "Training (10639 / 18000 Steps) (loss=0.58081): 100%|██████████| 76/76 [01:06<00:00,  1.14it/s]\n",
      "Validate (10640 / 10 Steps): 100%|██████████| 22/22 [00:27<00:00,  1.26s/it]<00:07,  2.18it/s]\n",
      "Training (10700 / 18000 Steps) (loss=0.34468):  80%|████████  | 61/76 [00:58<02:11,  8.80s/it]"
     ]
    },
    {
     "name": "stdout",
     "output_type": "stream",
     "text": [
      "Model Was Not Saved ! Current Best Avg. Dice: 0.4080250561237335 Current Avg. Dice: 0.40156328678131104 Current Avg. tumor Dice: 0.36473706364631653 Current Avg. lymph Dice: 0.4649162292480469\n"
     ]
    },
    {
     "name": "stderr",
     "output_type": "stream",
     "text": [
      "Training (10715 / 18000 Steps) (loss=0.46102): 100%|██████████| 76/76 [01:05<00:00,  1.16it/s]\n",
      "Training (10791 / 18000 Steps) (loss=0.61233): 100%|██████████| 76/76 [00:37<00:00,  2.03it/s]\n",
      "Validate (10792 / 10 Steps): 100%|██████████| 22/22 [00:27<00:00,  1.27s/it]00:36,  1.85it/s]\n",
      "Training (10800 / 18000 Steps) (loss=0.57546):  12%|█▏        | 9/76 [00:35<10:22,  9.29s/it]"
     ]
    },
    {
     "name": "stdout",
     "output_type": "stream",
     "text": [
      "Model Was Not Saved ! Current Best Avg. Dice: 0.4080250561237335 Current Avg. Dice: 0.3678220510482788 Current Avg. tumor Dice: 0.35766926407814026 Current Avg. lymph Dice: 0.39748817682266235\n"
     ]
    },
    {
     "name": "stderr",
     "output_type": "stream",
     "text": [
      "Training (10867 / 18000 Steps) (loss=0.51673): 100%|██████████| 76/76 [01:06<00:00,  1.14it/s]\n",
      "Validate (10868 / 10 Steps): 100%|██████████| 22/22 [00:27<00:00,  1.25s/it]<00:20,  2.15it/s]\n",
      "Training (10900 / 18000 Steps) (loss=0.58749):  43%|████▎     | 33/76 [00:45<06:24,  8.95s/it]"
     ]
    },
    {
     "name": "stdout",
     "output_type": "stream",
     "text": [
      "Model Was Saved ! Current Best Avg. Dice: 0.41356906294822693 Current Avg. Dice: 0.41356906294822693 Current Avg. tumor Dice: 0.3830021023750305 Current Avg. lymph Dice: 0.466155469417572\n"
     ]
    },
    {
     "name": "stderr",
     "output_type": "stream",
     "text": [
      "Training (10943 / 18000 Steps) (loss=0.62390): 100%|██████████| 76/76 [01:05<00:00,  1.16it/s]\n",
      "Validate (10944 / 10 Steps): 100%|██████████| 22/22 [00:27<00:00,  1.26s/it]<00:09,  2.20it/s]\n",
      "Training (11000 / 18000 Steps) (loss=0.33453):  75%|███████▌  | 57/76 [00:57<02:46,  8.77s/it]"
     ]
    },
    {
     "name": "stdout",
     "output_type": "stream",
     "text": [
      "Model Was Not Saved ! Current Best Avg. Dice: 0.41356906294822693 Current Avg. Dice: 0.3539977967739105 Current Avg. tumor Dice: 0.305512398481369 Current Avg. lymph Dice: 0.4290599226951599\n"
     ]
    },
    {
     "name": "stderr",
     "output_type": "stream",
     "text": [
      "Training (11019 / 18000 Steps) (loss=0.50043): 100%|██████████| 76/76 [01:05<00:00,  1.16it/s]\n",
      "Training (11095 / 18000 Steps) (loss=0.47684): 100%|██████████| 76/76 [00:41<00:00,  1.82it/s]\n",
      "Validate (11096 / 10 Steps): 100%|██████████| 22/22 [00:39<00:00,  1.82s/it]01:01,  1.18it/s]\n",
      "Training (11100 / 18000 Steps) (loss=0.52874):   7%|▋         | 5/76 [00:44<17:54, 15.14s/it]"
     ]
    },
    {
     "name": "stdout",
     "output_type": "stream",
     "text": [
      "Model Was Not Saved ! Current Best Avg. Dice: 0.41356906294822693 Current Avg. Dice: 0.3960950970649719 Current Avg. tumor Dice: 0.35197943449020386 Current Avg. lymph Dice: 0.4740370213985443\n"
     ]
    },
    {
     "name": "stderr",
     "output_type": "stream",
     "text": [
      "Training (11171 / 18000 Steps) (loss=0.59971): 100%|██████████| 76/76 [01:17<00:00,  1.02s/it]\n",
      "Validate (11172 / 10 Steps): 100%|██████████| 22/22 [00:27<00:00,  1.25s/it]<00:22,  2.15it/s]\n",
      "Training (11200 / 18000 Steps) (loss=0.41453):  38%|███▊      | 29/76 [00:43<06:48,  8.70s/it]"
     ]
    },
    {
     "name": "stdout",
     "output_type": "stream",
     "text": [
      "Model Was Not Saved ! Current Best Avg. Dice: 0.41356906294822693 Current Avg. Dice: 0.3744725286960602 Current Avg. tumor Dice: 0.33343425393104553 Current Avg. lymph Dice: 0.4558689296245575\n"
     ]
    },
    {
     "name": "stderr",
     "output_type": "stream",
     "text": [
      "Training (11247 / 18000 Steps) (loss=0.56499): 100%|██████████| 76/76 [01:05<00:00,  1.16it/s]\n",
      "Validate (11248 / 10 Steps): 100%|██████████| 22/22 [00:27<00:00,  1.26s/it]<00:10,  2.18it/s]\n",
      "Training (11300 / 18000 Steps) (loss=0.57874):  70%|██████▉   | 53/76 [00:54<03:22,  8.81s/it]"
     ]
    },
    {
     "name": "stdout",
     "output_type": "stream",
     "text": [
      "Model Was Not Saved ! Current Best Avg. Dice: 0.41356906294822693 Current Avg. Dice: 0.39094698429107666 Current Avg. tumor Dice: 0.357656329870224 Current Avg. lymph Dice: 0.456884503364563\n"
     ]
    },
    {
     "name": "stderr",
     "output_type": "stream",
     "text": [
      "Training (11323 / 18000 Steps) (loss=0.49281): 100%|██████████| 76/76 [01:05<00:00,  1.16it/s]\n",
      "Training (11399 / 18000 Steps) (loss=0.58504): 100%|██████████| 76/76 [00:37<00:00,  2.02it/s]\n",
      "Validate (11400 / 10 Steps): 100%|██████████| 22/22 [00:27<00:00,  1.26s/it]?, ?it/s]\n",
      "Training (11400 / 18000 Steps) (loss=0.52970):   1%|▏         | 1/76 [00:30<38:17, 30.63s/it]"
     ]
    },
    {
     "name": "stdout",
     "output_type": "stream",
     "text": [
      "Model Was Not Saved ! Current Best Avg. Dice: 0.41356906294822693 Current Avg. Dice: 0.4055553376674652 Current Avg. tumor Dice: 0.38037747144699097 Current Avg. lymph Dice: 0.45158830285072327\n"
     ]
    },
    {
     "name": "stderr",
     "output_type": "stream",
     "text": [
      "Training (11475 / 18000 Steps) (loss=0.55733): 100%|██████████| 76/76 [01:05<00:00,  1.17it/s]\n",
      "Validate (11476 / 10 Steps): 100%|██████████| 22/22 [00:27<00:00,  1.26s/it]<00:23,  2.19it/s]\n",
      "Training (11500 / 18000 Steps) (loss=0.41622):  33%|███▎      | 25/76 [00:42<07:36,  8.96s/it]"
     ]
    },
    {
     "name": "stdout",
     "output_type": "stream",
     "text": [
      "Model Was Saved ! Current Best Avg. Dice: 0.41881582140922546 Current Avg. Dice: 0.41881582140922546 Current Avg. tumor Dice: 0.3959712088108063 Current Avg. lymph Dice: 0.4566274881362915\n"
     ]
    },
    {
     "name": "stderr",
     "output_type": "stream",
     "text": [
      "Training (11551 / 18000 Steps) (loss=0.45715): 100%|██████████| 76/76 [01:06<00:00,  1.15it/s]\n",
      "Validate (11552 / 10 Steps): 100%|██████████| 22/22 [00:28<00:00,  1.27s/it]<00:12,  2.21it/s]\n",
      "Training (11600 / 18000 Steps) (loss=0.34275):  64%|██████▍   | 49/76 [00:53<03:59,  8.88s/it]"
     ]
    },
    {
     "name": "stdout",
     "output_type": "stream",
     "text": [
      "Model Was Not Saved ! Current Best Avg. Dice: 0.41881582140922546 Current Avg. Dice: 0.3990316390991211 Current Avg. tumor Dice: 0.36112523078918457 Current Avg. lymph Dice: 0.4668062627315521\n"
     ]
    },
    {
     "name": "stderr",
     "output_type": "stream",
     "text": [
      "Training (11627 / 18000 Steps) (loss=0.49236): 100%|██████████| 76/76 [01:05<00:00,  1.15it/s]\n",
      "Validate (11628 / 10 Steps): 100%|██████████| 22/22 [00:27<00:00,  1.26s/it]<00:01,  2.25it/s]\n",
      "Training (11700 / 18000 Steps) (loss=0.31000):  96%|█████████▌| 73/76 [01:06<00:26,  8.98s/it]"
     ]
    },
    {
     "name": "stdout",
     "output_type": "stream",
     "text": [
      "Model Was Saved ! Current Best Avg. Dice: 0.42121413350105286 Current Avg. Dice: 0.42121413350105286 Current Avg. tumor Dice: 0.3860953748226166 Current Avg. lymph Dice: 0.466259628534317\n"
     ]
    },
    {
     "name": "stderr",
     "output_type": "stream",
     "text": [
      "Training (11703 / 18000 Steps) (loss=0.59256): 100%|██████████| 76/76 [01:07<00:00,  1.12it/s]\n",
      "Training (11779 / 18000 Steps) (loss=0.47031): 100%|██████████| 76/76 [00:37<00:00,  2.02it/s]\n",
      "Validate (11780 / 10 Steps): 100%|██████████| 22/22 [00:28<00:00,  1.29s/it]<00:25,  2.15it/s]\n",
      "Training (11800 / 18000 Steps) (loss=0.48316):  28%|██▊       | 21/76 [00:41<08:16,  9.02s/it]"
     ]
    },
    {
     "name": "stdout",
     "output_type": "stream",
     "text": [
      "Model Was Not Saved ! Current Best Avg. Dice: 0.42121413350105286 Current Avg. Dice: 0.3661765158176422 Current Avg. tumor Dice: 0.3422609269618988 Current Avg. lymph Dice: 0.41232573986053467\n"
     ]
    },
    {
     "name": "stderr",
     "output_type": "stream",
     "text": [
      "Training (11855 / 18000 Steps) (loss=0.48811): 100%|██████████| 76/76 [01:15<00:00,  1.01it/s]\n",
      "Validate (11856 / 10 Steps): 100%|██████████| 22/22 [00:32<00:00,  1.48s/it]<00:18,  1.73it/s]\n",
      "Training (11900 / 18000 Steps) (loss=0.41748):  59%|█████▉    | 45/76 [00:59<05:20, 10.34s/it]"
     ]
    },
    {
     "name": "stdout",
     "output_type": "stream",
     "text": [
      "Model Was Not Saved ! Current Best Avg. Dice: 0.42121413350105286 Current Avg. Dice: 0.4038899540901184 Current Avg. tumor Dice: 0.35653358697891235 Current Avg. lymph Dice: 0.4784592092037201\n"
     ]
    },
    {
     "name": "stderr",
     "output_type": "stream",
     "text": [
      "Training (11931 / 18000 Steps) (loss=0.48855): 100%|██████████| 76/76 [01:14<00:00,  1.03it/s]\n",
      "Validate (11932 / 10 Steps): 100%|██████████| 22/22 [00:27<00:00,  1.24s/it]<00:03,  2.20it/s]\n",
      "Training (12000 / 18000 Steps) (loss=0.46436):  91%|█████████ | 69/76 [01:02<01:02,  8.86s/it]"
     ]
    },
    {
     "name": "stdout",
     "output_type": "stream",
     "text": [
      "Model Was Saved ! Current Best Avg. Dice: 0.42384931445121765 Current Avg. Dice: 0.42384931445121765 Current Avg. tumor Dice: 0.4005657434463501 Current Avg. lymph Dice: 0.4662087857723236\n"
     ]
    },
    {
     "name": "stderr",
     "output_type": "stream",
     "text": [
      "Training (12007 / 18000 Steps) (loss=0.53551): 100%|██████████| 76/76 [01:06<00:00,  1.15it/s]\n",
      "Training (12083 / 18000 Steps) (loss=0.53361): 100%|██████████| 76/76 [00:38<00:00,  1.97it/s]\n",
      "Validate (12084 / 10 Steps): 100%|██████████| 22/22 [00:28<00:00,  1.28s/it]<00:28,  2.09it/s]\n",
      "Training (12100 / 18000 Steps) (loss=0.58670):  22%|██▏       | 17/76 [00:39<08:47,  8.94s/it]"
     ]
    },
    {
     "name": "stdout",
     "output_type": "stream",
     "text": [
      "Model Was Not Saved ! Current Best Avg. Dice: 0.42384931445121765 Current Avg. Dice: 0.3884047567844391 Current Avg. tumor Dice: 0.3634622097015381 Current Avg. lymph Dice: 0.44499725103378296\n"
     ]
    },
    {
     "name": "stderr",
     "output_type": "stream",
     "text": [
      "Training (12159 / 18000 Steps) (loss=0.50184): 100%|██████████| 76/76 [01:06<00:00,  1.15it/s]\n",
      "Validate (12160 / 10 Steps): 100%|██████████| 22/22 [00:27<00:00,  1.26s/it]<00:16,  2.21it/s]\n",
      "Training (12200 / 18000 Steps) (loss=0.52799):  54%|█████▍    | 41/76 [00:49<05:08,  8.80s/it]"
     ]
    },
    {
     "name": "stdout",
     "output_type": "stream",
     "text": [
      "Model Was Not Saved ! Current Best Avg. Dice: 0.42384931445121765 Current Avg. Dice: 0.38068583607673645 Current Avg. tumor Dice: 0.32941168546676636 Current Avg. lymph Dice: 0.4697241187095642\n"
     ]
    },
    {
     "name": "stderr",
     "output_type": "stream",
     "text": [
      "Training (12235 / 18000 Steps) (loss=0.42608): 100%|██████████| 76/76 [01:05<00:00,  1.15it/s]\n",
      "Validate (12236 / 10 Steps): 100%|██████████| 22/22 [00:27<00:00,  1.26s/it]<00:05,  2.17it/s]\n",
      "Training (12300 / 18000 Steps) (loss=0.46780):  86%|████████▌ | 65/76 [01:00<01:37,  8.82s/it]"
     ]
    },
    {
     "name": "stdout",
     "output_type": "stream",
     "text": [
      "Model Was Not Saved ! Current Best Avg. Dice: 0.42384931445121765 Current Avg. Dice: 0.40935084223747253 Current Avg. tumor Dice: 0.3695400655269623 Current Avg. lymph Dice: 0.46986261010169983\n"
     ]
    },
    {
     "name": "stderr",
     "output_type": "stream",
     "text": [
      "Training (12311 / 18000 Steps) (loss=0.59309): 100%|██████████| 76/76 [01:05<00:00,  1.15it/s]\n",
      "Training (12387 / 18000 Steps) (loss=0.58891): 100%|██████████| 76/76 [00:37<00:00,  2.04it/s]\n",
      "Validate (12388 / 10 Steps): 100%|██████████| 22/22 [00:27<00:00,  1.26s/it]<00:30,  2.08it/s]\n",
      "Training (12400 / 18000 Steps) (loss=0.52040):  17%|█▋        | 13/76 [00:36<09:20,  8.90s/it]"
     ]
    },
    {
     "name": "stdout",
     "output_type": "stream",
     "text": [
      "Model Was Not Saved ! Current Best Avg. Dice: 0.42384931445121765 Current Avg. Dice: 0.4052581787109375 Current Avg. tumor Dice: 0.3798254430294037 Current Avg. lymph Dice: 0.4598824083805084\n"
     ]
    },
    {
     "name": "stderr",
     "output_type": "stream",
     "text": [
      "Training (12463 / 18000 Steps) (loss=0.50656): 100%|██████████| 76/76 [01:05<00:00,  1.16it/s]\n",
      "Validate (12464 / 10 Steps): 100%|██████████| 22/22 [00:27<00:00,  1.26s/it]<00:18,  2.20it/s]\n",
      "Training (12500 / 18000 Steps) (loss=0.46735):  49%|████▊     | 37/76 [00:47<05:43,  8.80s/it]"
     ]
    },
    {
     "name": "stdout",
     "output_type": "stream",
     "text": [
      "Model Was Not Saved ! Current Best Avg. Dice: 0.42384931445121765 Current Avg. Dice: 0.3681924045085907 Current Avg. tumor Dice: 0.3219480514526367 Current Avg. lymph Dice: 0.46190616488456726\n"
     ]
    },
    {
     "name": "stderr",
     "output_type": "stream",
     "text": [
      "Training (12539 / 18000 Steps) (loss=0.50530): 100%|██████████| 76/76 [01:05<00:00,  1.16it/s]\n",
      "Validate (12540 / 10 Steps): 100%|██████████| 22/22 [00:28<00:00,  1.27s/it]<00:07,  2.22it/s]\n",
      "Training (12600 / 18000 Steps) (loss=0.45918):  80%|████████  | 61/76 [00:59<02:13,  8.87s/it]"
     ]
    },
    {
     "name": "stdout",
     "output_type": "stream",
     "text": [
      "Model Was Not Saved ! Current Best Avg. Dice: 0.42384931445121765 Current Avg. Dice: 0.4012598693370819 Current Avg. tumor Dice: 0.3704809248447418 Current Avg. lymph Dice: 0.4602362811565399\n"
     ]
    },
    {
     "name": "stderr",
     "output_type": "stream",
     "text": [
      "Training (12615 / 18000 Steps) (loss=0.38138): 100%|██████████| 76/76 [01:05<00:00,  1.15it/s]\n",
      "Training (12691 / 18000 Steps) (loss=0.54765): 100%|██████████| 76/76 [00:37<00:00,  2.03it/s]\n",
      "Validate (12692 / 10 Steps): 100%|██████████| 22/22 [00:27<00:00,  1.26s/it]00:36,  1.86it/s]\n",
      "Training (12700 / 18000 Steps) (loss=0.49261):  12%|█▏        | 9/76 [00:34<10:14,  9.17s/it]"
     ]
    },
    {
     "name": "stdout",
     "output_type": "stream",
     "text": [
      "Model Was Not Saved ! Current Best Avg. Dice: 0.42384931445121765 Current Avg. Dice: 0.36243298649787903 Current Avg. tumor Dice: 0.300441175699234 Current Avg. lymph Dice: 0.4744631052017212\n"
     ]
    },
    {
     "name": "stderr",
     "output_type": "stream",
     "text": [
      "Training (12767 / 18000 Steps) (loss=0.50007): 100%|██████████| 76/76 [01:05<00:00,  1.17it/s]\n",
      "Validate (12768 / 10 Steps): 100%|██████████| 22/22 [00:27<00:00,  1.26s/it]<00:20,  2.18it/s]\n",
      "Training (12800 / 18000 Steps) (loss=0.54853):  43%|████▎     | 33/76 [00:45<06:20,  8.84s/it]"
     ]
    },
    {
     "name": "stdout",
     "output_type": "stream",
     "text": [
      "Model Was Not Saved ! Current Best Avg. Dice: 0.42384931445121765 Current Avg. Dice: 0.40292996168136597 Current Avg. tumor Dice: 0.3671668767929077 Current Avg. lymph Dice: 0.4664292335510254\n"
     ]
    },
    {
     "name": "stderr",
     "output_type": "stream",
     "text": [
      "Training (12843 / 18000 Steps) (loss=0.48696): 100%|██████████| 76/76 [01:05<00:00,  1.16it/s]\n",
      "Validate (12844 / 10 Steps): 100%|██████████| 22/22 [00:27<00:00,  1.25s/it]<00:09,  2.18it/s]\n",
      "Training (12900 / 18000 Steps) (loss=0.47491):  75%|███████▌  | 57/76 [00:56<02:46,  8.75s/it]"
     ]
    },
    {
     "name": "stdout",
     "output_type": "stream",
     "text": [
      "Model Was Not Saved ! Current Best Avg. Dice: 0.42384931445121765 Current Avg. Dice: 0.4076753854751587 Current Avg. tumor Dice: 0.3797750174999237 Current Avg. lymph Dice: 0.466013640165329\n"
     ]
    },
    {
     "name": "stderr",
     "output_type": "stream",
     "text": [
      "Training (12919 / 18000 Steps) (loss=0.51813): 100%|██████████| 76/76 [01:05<00:00,  1.16it/s]\n",
      "Training (12995 / 18000 Steps) (loss=0.45593): 100%|██████████| 76/76 [00:38<00:00,  1.98it/s]\n",
      "Validate (12996 / 10 Steps): 100%|██████████| 22/22 [00:28<00:00,  1.28s/it]01:01,  1.17it/s]\n",
      "Training (13000 / 18000 Steps) (loss=0.45184):   7%|▋         | 5/76 [00:33<12:52, 10.88s/it]"
     ]
    },
    {
     "name": "stdout",
     "output_type": "stream",
     "text": [
      "Model Was Not Saved ! Current Best Avg. Dice: 0.42384931445121765 Current Avg. Dice: 0.395693302154541 Current Avg. tumor Dice: 0.3584749698638916 Current Avg. lymph Dice: 0.4684716463088989\n"
     ]
    },
    {
     "name": "stderr",
     "output_type": "stream",
     "text": [
      "Training (13071 / 18000 Steps) (loss=0.34519): 100%|██████████| 76/76 [01:05<00:00,  1.15it/s]\n",
      "Validate (13072 / 10 Steps): 100%|██████████| 22/22 [00:27<00:00,  1.27s/it]<00:22,  2.17it/s]\n",
      "Training (13100 / 18000 Steps) (loss=0.58012):  38%|███▊      | 29/76 [00:43<06:55,  8.84s/it]"
     ]
    },
    {
     "name": "stdout",
     "output_type": "stream",
     "text": [
      "Model Was Not Saved ! Current Best Avg. Dice: 0.42384931445121765 Current Avg. Dice: 0.4068017899990082 Current Avg. tumor Dice: 0.3631439208984375 Current Avg. lymph Dice: 0.4795202612876892\n"
     ]
    },
    {
     "name": "stderr",
     "output_type": "stream",
     "text": [
      "Training (13147 / 18000 Steps) (loss=0.48509): 100%|██████████| 76/76 [01:05<00:00,  1.17it/s]\n",
      "Validate (13148 / 10 Steps): 100%|██████████| 22/22 [00:27<00:00,  1.26s/it]<00:11,  2.05it/s]\n",
      "Training (13200 / 18000 Steps) (loss=0.46574):  70%|██████▉   | 53/76 [00:55<03:22,  8.82s/it]"
     ]
    },
    {
     "name": "stdout",
     "output_type": "stream",
     "text": [
      "Model Was Not Saved ! Current Best Avg. Dice: 0.42384931445121765 Current Avg. Dice: 0.40050551295280457 Current Avg. tumor Dice: 0.363659143447876 Current Avg. lymph Dice: 0.4795483350753784\n"
     ]
    },
    {
     "name": "stderr",
     "output_type": "stream",
     "text": [
      "Training (13223 / 18000 Steps) (loss=0.55395): 100%|██████████| 76/76 [01:05<00:00,  1.15it/s]\n",
      "Training (13299 / 18000 Steps) (loss=0.52476): 100%|██████████| 76/76 [00:37<00:00,  2.04it/s]\n",
      "Validate (13300 / 10 Steps): 100%|██████████| 22/22 [00:27<00:00,  1.27s/it]?, ?it/s]\n",
      "Training (13300 / 18000 Steps) (loss=0.56692):   1%|▏         | 1/76 [00:31<39:55, 31.93s/it]"
     ]
    },
    {
     "name": "stdout",
     "output_type": "stream",
     "text": [
      "Model Was Saved ! Current Best Avg. Dice: 0.43287545442581177 Current Avg. Dice: 0.43287545442581177 Current Avg. tumor Dice: 0.3920001983642578 Current Avg. lymph Dice: 0.4853326976299286\n"
     ]
    },
    {
     "name": "stderr",
     "output_type": "stream",
     "text": [
      "Training (13375 / 18000 Steps) (loss=0.38685): 100%|██████████| 76/76 [01:06<00:00,  1.14it/s]\n",
      "Validate (13376 / 10 Steps): 100%|██████████| 22/22 [00:27<00:00,  1.25s/it]<00:25,  2.07it/s]\n",
      "Training (13400 / 18000 Steps) (loss=0.44862):  33%|███▎      | 25/76 [00:42<07:26,  8.75s/it]"
     ]
    },
    {
     "name": "stdout",
     "output_type": "stream",
     "text": [
      "Model Was Not Saved ! Current Best Avg. Dice: 0.43287545442581177 Current Avg. Dice: 0.4048251211643219 Current Avg. tumor Dice: 0.3465069532394409 Current Avg. lymph Dice: 0.4984654188156128\n"
     ]
    },
    {
     "name": "stderr",
     "output_type": "stream",
     "text": [
      "Training (13451 / 18000 Steps) (loss=0.45170): 100%|██████████| 76/76 [01:05<00:00,  1.16it/s]\n",
      "Validate (13452 / 10 Steps): 100%|██████████| 22/22 [00:27<00:00,  1.25s/it]<00:12,  2.23it/s]\n",
      "Training (13500 / 18000 Steps) (loss=0.53637):  64%|██████▍   | 49/76 [00:52<03:54,  8.68s/it]"
     ]
    },
    {
     "name": "stdout",
     "output_type": "stream",
     "text": [
      "Model Was Not Saved ! Current Best Avg. Dice: 0.43287545442581177 Current Avg. Dice: 0.39007246494293213 Current Avg. tumor Dice: 0.33474451303482056 Current Avg. lymph Dice: 0.4891837537288666\n"
     ]
    },
    {
     "name": "stderr",
     "output_type": "stream",
     "text": [
      "Training (13527 / 18000 Steps) (loss=0.54673): 100%|██████████| 76/76 [01:05<00:00,  1.17it/s]\n",
      "Validate (13528 / 10 Steps): 100%|██████████| 22/22 [00:27<00:00,  1.26s/it]<00:01,  2.24it/s]\n",
      "Training (13600 / 18000 Steps) (loss=0.56999):  96%|█████████▌| 73/76 [01:03<00:26,  8.76s/it]"
     ]
    },
    {
     "name": "stdout",
     "output_type": "stream",
     "text": [
      "Model Was Not Saved ! Current Best Avg. Dice: 0.43287545442581177 Current Avg. Dice: 0.39750853180885315 Current Avg. tumor Dice: 0.3779628574848175 Current Avg. lymph Dice: 0.4463539123535156\n"
     ]
    },
    {
     "name": "stderr",
     "output_type": "stream",
     "text": [
      "Training (13603 / 18000 Steps) (loss=0.49756): 100%|██████████| 76/76 [01:05<00:00,  1.16it/s]\n",
      "Training (13679 / 18000 Steps) (loss=0.48165): 100%|██████████| 76/76 [00:38<00:00,  1.98it/s]\n",
      "Validate (13680 / 10 Steps): 100%|██████████| 22/22 [00:27<00:00,  1.25s/it]<00:25,  2.17it/s]\n",
      "Training (13700 / 18000 Steps) (loss=0.44866):  28%|██▊       | 21/76 [00:40<07:59,  8.73s/it]"
     ]
    },
    {
     "name": "stdout",
     "output_type": "stream",
     "text": [
      "Model Was Not Saved ! Current Best Avg. Dice: 0.43287545442581177 Current Avg. Dice: 0.39999473094940186 Current Avg. tumor Dice: 0.35123491287231445 Current Avg. lymph Dice: 0.4873090386390686\n"
     ]
    },
    {
     "name": "stderr",
     "output_type": "stream",
     "text": [
      "Training (13755 / 18000 Steps) (loss=0.47453): 100%|██████████| 76/76 [01:05<00:00,  1.16it/s]\n",
      "Validate (13756 / 10 Steps): 100%|██████████| 22/22 [00:27<00:00,  1.26s/it]<00:14,  2.24it/s]\n",
      "Training (13800 / 18000 Steps) (loss=0.32733):  59%|█████▉    | 45/76 [00:51<04:31,  8.76s/it]"
     ]
    },
    {
     "name": "stdout",
     "output_type": "stream",
     "text": [
      "Model Was Not Saved ! Current Best Avg. Dice: 0.43287545442581177 Current Avg. Dice: 0.4000006914138794 Current Avg. tumor Dice: 0.35439205169677734 Current Avg. lymph Dice: 0.47461774945259094\n"
     ]
    },
    {
     "name": "stderr",
     "output_type": "stream",
     "text": [
      "Training (13831 / 18000 Steps) (loss=0.56703): 100%|██████████| 76/76 [01:05<00:00,  1.17it/s]\n",
      "Validate (13832 / 10 Steps): 100%|██████████| 22/22 [00:27<00:00,  1.25s/it]<00:03,  2.25it/s]\n",
      "Training (13900 / 18000 Steps) (loss=0.43489):  91%|█████████ | 69/76 [01:02<01:00,  8.69s/it]"
     ]
    },
    {
     "name": "stdout",
     "output_type": "stream",
     "text": [
      "Model Was Not Saved ! Current Best Avg. Dice: 0.43287545442581177 Current Avg. Dice: 0.4239269495010376 Current Avg. tumor Dice: 0.38960689306259155 Current Avg. lymph Dice: 0.4718083143234253\n"
     ]
    },
    {
     "name": "stderr",
     "output_type": "stream",
     "text": [
      "Training (13907 / 18000 Steps) (loss=0.45149): 100%|██████████| 76/76 [01:05<00:00,  1.17it/s]\n",
      "Training (13983 / 18000 Steps) (loss=0.54182): 100%|██████████| 76/76 [00:37<00:00,  2.01it/s]\n",
      "Validate (13984 / 10 Steps): 100%|██████████| 22/22 [00:27<00:00,  1.26s/it]<00:28,  2.14it/s]\n",
      "Training (14000 / 18000 Steps) (loss=0.52124):  22%|██▏       | 17/76 [00:38<08:38,  8.79s/it]"
     ]
    },
    {
     "name": "stdout",
     "output_type": "stream",
     "text": [
      "Model Was Not Saved ! Current Best Avg. Dice: 0.43287545442581177 Current Avg. Dice: 0.3654167950153351 Current Avg. tumor Dice: 0.29848670959472656 Current Avg. lymph Dice: 0.4790682792663574\n"
     ]
    },
    {
     "name": "stderr",
     "output_type": "stream",
     "text": [
      "Training (14059 / 18000 Steps) (loss=0.49893): 100%|██████████| 76/76 [01:05<00:00,  1.16it/s]\n",
      "Validate (14060 / 10 Steps): 100%|██████████| 22/22 [00:27<00:00,  1.25s/it]<00:16,  2.23it/s]\n",
      "Training (14100 / 18000 Steps) (loss=0.57749):  54%|█████▍    | 41/76 [00:49<05:05,  8.73s/it]"
     ]
    },
    {
     "name": "stdout",
     "output_type": "stream",
     "text": [
      "Model Was Not Saved ! Current Best Avg. Dice: 0.43287545442581177 Current Avg. Dice: 0.4174174964427948 Current Avg. tumor Dice: 0.37993836402893066 Current Avg. lymph Dice: 0.4719519019126892\n"
     ]
    },
    {
     "name": "stderr",
     "output_type": "stream",
     "text": [
      "Training (14135 / 18000 Steps) (loss=0.54244): 100%|██████████| 76/76 [01:04<00:00,  1.17it/s]\n",
      "Validate (14136 / 10 Steps): 100%|██████████| 22/22 [00:27<00:00,  1.26s/it]<00:05,  2.20it/s]\n",
      "Training (14200 / 18000 Steps) (loss=0.42654):  86%|████████▌ | 65/76 [01:00<01:36,  8.78s/it]"
     ]
    },
    {
     "name": "stdout",
     "output_type": "stream",
     "text": [
      "Model Was Not Saved ! Current Best Avg. Dice: 0.43287545442581177 Current Avg. Dice: 0.397148996591568 Current Avg. tumor Dice: 0.3648645281791687 Current Avg. lymph Dice: 0.45417520403862\n"
     ]
    },
    {
     "name": "stderr",
     "output_type": "stream",
     "text": [
      "Training (14211 / 18000 Steps) (loss=0.42576): 100%|██████████| 76/76 [01:05<00:00,  1.16it/s]\n",
      "Training (14287 / 18000 Steps) (loss=0.57495): 100%|██████████| 76/76 [00:37<00:00,  2.00it/s]\n",
      "Validate (14288 / 10 Steps): 100%|██████████| 22/22 [00:27<00:00,  1.25s/it]<00:30,  2.09it/s]\n",
      "Training (14300 / 18000 Steps) (loss=0.45946):  17%|█▋        | 13/76 [00:36<09:16,  8.84s/it]"
     ]
    },
    {
     "name": "stdout",
     "output_type": "stream",
     "text": [
      "Model Was Not Saved ! Current Best Avg. Dice: 0.43287545442581177 Current Avg. Dice: 0.40957915782928467 Current Avg. tumor Dice: 0.36363181471824646 Current Avg. lymph Dice: 0.48554372787475586\n"
     ]
    },
    {
     "name": "stderr",
     "output_type": "stream",
     "text": [
      "Training (14363 / 18000 Steps) (loss=0.50103): 100%|██████████| 76/76 [01:05<00:00,  1.16it/s]\n",
      "Validate (14364 / 10 Steps): 100%|██████████| 22/22 [00:27<00:00,  1.27s/it]<00:18,  2.16it/s]\n",
      "Training (14400 / 18000 Steps) (loss=0.41915):  49%|████▊     | 37/76 [00:48<05:45,  8.86s/it]"
     ]
    },
    {
     "name": "stdout",
     "output_type": "stream",
     "text": [
      "Model Was Not Saved ! Current Best Avg. Dice: 0.43287545442581177 Current Avg. Dice: 0.40065720677375793 Current Avg. tumor Dice: 0.3572962284088135 Current Avg. lymph Dice: 0.48610278964042664\n"
     ]
    },
    {
     "name": "stderr",
     "output_type": "stream",
     "text": [
      "Training (14439 / 18000 Steps) (loss=0.45765): 100%|██████████| 76/76 [01:06<00:00,  1.15it/s]\n",
      "Validate (14440 / 10 Steps): 100%|██████████| 22/22 [00:27<00:00,  1.26s/it]<00:07,  2.19it/s]\n",
      "Training (14500 / 18000 Steps) (loss=0.49017):  80%|████████  | 61/76 [00:58<02:12,  8.82s/it]"
     ]
    },
    {
     "name": "stdout",
     "output_type": "stream",
     "text": [
      "Model Was Not Saved ! Current Best Avg. Dice: 0.43287545442581177 Current Avg. Dice: 0.4195822775363922 Current Avg. tumor Dice: 0.38686898350715637 Current Avg. lymph Dice: 0.46992000937461853\n"
     ]
    },
    {
     "name": "stderr",
     "output_type": "stream",
     "text": [
      "Training (14515 / 18000 Steps) (loss=0.54640): 100%|██████████| 76/76 [01:05<00:00,  1.17it/s]\n",
      "Training (14591 / 18000 Steps) (loss=0.62515): 100%|██████████| 76/76 [00:38<00:00,  1.98it/s]\n",
      "Validate (14592 / 10 Steps): 100%|██████████| 22/22 [00:28<00:00,  1.31s/it]00:37,  1.84it/s]\n",
      "Training (14600 / 18000 Steps) (loss=0.49293):  12%|█▏        | 9/76 [00:35<10:41,  9.57s/it]"
     ]
    },
    {
     "name": "stdout",
     "output_type": "stream",
     "text": [
      "Model Was Not Saved ! Current Best Avg. Dice: 0.43287545442581177 Current Avg. Dice: 0.4064294695854187 Current Avg. tumor Dice: 0.37715086340904236 Current Avg. lymph Dice: 0.46318069100379944\n"
     ]
    },
    {
     "name": "stderr",
     "output_type": "stream",
     "text": [
      "Training (14667 / 18000 Steps) (loss=0.60076): 100%|██████████| 76/76 [01:22<00:00,  1.09s/it]\n",
      "Validate (14668 / 10 Steps): 100%|██████████| 22/22 [00:27<00:00,  1.26s/it]<00:20,  2.18it/s]\n",
      "Training (14700 / 18000 Steps) (loss=0.45511):  43%|████▎     | 33/76 [00:45<06:18,  8.80s/it]"
     ]
    },
    {
     "name": "stdout",
     "output_type": "stream",
     "text": [
      "Model Was Not Saved ! Current Best Avg. Dice: 0.43287545442581177 Current Avg. Dice: 0.4004818797111511 Current Avg. tumor Dice: 0.375083863735199 Current Avg. lymph Dice: 0.45974159240722656\n"
     ]
    },
    {
     "name": "stderr",
     "output_type": "stream",
     "text": [
      "Training (14743 / 18000 Steps) (loss=0.32898): 100%|██████████| 76/76 [01:05<00:00,  1.16it/s]\n",
      "Validate (14744 / 10 Steps): 100%|██████████| 22/22 [00:27<00:00,  1.27s/it]<00:09,  2.07it/s]\n",
      "Training (14800 / 18000 Steps) (loss=0.51605):  75%|███████▌  | 57/76 [00:57<02:48,  8.86s/it]"
     ]
    },
    {
     "name": "stdout",
     "output_type": "stream",
     "text": [
      "Model Was Not Saved ! Current Best Avg. Dice: 0.43287545442581177 Current Avg. Dice: 0.418742299079895 Current Avg. tumor Dice: 0.3751111328601837 Current Avg. lymph Dice: 0.4921201467514038\n"
     ]
    },
    {
     "name": "stderr",
     "output_type": "stream",
     "text": [
      "Training (14819 / 18000 Steps) (loss=0.57044): 100%|██████████| 76/76 [01:05<00:00,  1.15it/s]\n",
      "Training (14895 / 18000 Steps) (loss=0.48927): 100%|██████████| 76/76 [00:37<00:00,  2.01it/s]\n",
      "Validate (14896 / 10 Steps): 100%|██████████| 22/22 [00:27<00:00,  1.25s/it]01:01,  1.17it/s]\n",
      "Training (14900 / 18000 Steps) (loss=0.41549):   7%|▋         | 5/76 [00:32<12:38, 10.68s/it]"
     ]
    },
    {
     "name": "stdout",
     "output_type": "stream",
     "text": [
      "Model Was Not Saved ! Current Best Avg. Dice: 0.43287545442581177 Current Avg. Dice: 0.403266042470932 Current Avg. tumor Dice: 0.354499876499176 Current Avg. lymph Dice: 0.4842112362384796\n"
     ]
    },
    {
     "name": "stderr",
     "output_type": "stream",
     "text": [
      "Training (14971 / 18000 Steps) (loss=0.52857): 100%|██████████| 76/76 [01:05<00:00,  1.16it/s]\n",
      "Validate (14972 / 10 Steps): 100%|██████████| 22/22 [00:27<00:00,  1.26s/it]<00:21,  2.20it/s]\n",
      "Training (15000 / 18000 Steps) (loss=0.58420):  38%|███▊      | 29/76 [00:43<06:53,  8.79s/it]"
     ]
    },
    {
     "name": "stdout",
     "output_type": "stream",
     "text": [
      "Model Was Not Saved ! Current Best Avg. Dice: 0.43287545442581177 Current Avg. Dice: 0.4130088686943054 Current Avg. tumor Dice: 0.37700948119163513 Current Avg. lymph Dice: 0.47720277309417725\n"
     ]
    },
    {
     "name": "stderr",
     "output_type": "stream",
     "text": [
      "Training (15047 / 18000 Steps) (loss=0.48483): 100%|██████████| 76/76 [01:04<00:00,  1.17it/s]\n",
      "Validate (15048 / 10 Steps): 100%|██████████| 22/22 [00:28<00:00,  1.30s/it]<00:10,  2.18it/s]\n",
      "Training (15100 / 18000 Steps) (loss=0.40052):  70%|██████▉   | 53/76 [00:55<03:27,  9.02s/it]"
     ]
    },
    {
     "name": "stdout",
     "output_type": "stream",
     "text": [
      "Model Was Not Saved ! Current Best Avg. Dice: 0.43287545442581177 Current Avg. Dice: 0.4015856981277466 Current Avg. tumor Dice: 0.35766637325286865 Current Avg. lymph Dice: 0.4779966175556183\n"
     ]
    },
    {
     "name": "stderr",
     "output_type": "stream",
     "text": [
      "Training (15123 / 18000 Steps) (loss=0.48599): 100%|██████████| 76/76 [01:05<00:00,  1.15it/s]\n",
      "Training (15199 / 18000 Steps) (loss=0.55012): 100%|██████████| 76/76 [00:38<00:00,  1.97it/s]\n",
      "Validate (15200 / 10 Steps): 100%|██████████| 22/22 [00:32<00:00,  1.50s/it]?, ?it/s]\n",
      "Training (15200 / 18000 Steps) (loss=0.42129):   1%|▏         | 1/76 [00:36<45:04, 36.06s/it]"
     ]
    },
    {
     "name": "stdout",
     "output_type": "stream",
     "text": [
      "Model Was Not Saved ! Current Best Avg. Dice: 0.43287545442581177 Current Avg. Dice: 0.40916672348976135 Current Avg. tumor Dice: 0.36545318365097046 Current Avg. lymph Dice: 0.49237188696861267\n"
     ]
    },
    {
     "name": "stderr",
     "output_type": "stream",
     "text": [
      "Training (15275 / 18000 Steps) (loss=0.35016): 100%|██████████| 76/76 [01:23<00:00,  1.10s/it]\n",
      "Validate (15276 / 10 Steps): 100%|██████████| 22/22 [00:28<00:00,  1.29s/it]<00:24,  2.13it/s]\n",
      "Training (15300 / 18000 Steps) (loss=0.52406):  33%|███▎      | 25/76 [00:42<07:39,  9.00s/it]"
     ]
    },
    {
     "name": "stdout",
     "output_type": "stream",
     "text": [
      "Model Was Not Saved ! Current Best Avg. Dice: 0.43287545442581177 Current Avg. Dice: 0.4090934097766876 Current Avg. tumor Dice: 0.3654813766479492 Current Avg. lymph Dice: 0.4755060374736786\n"
     ]
    },
    {
     "name": "stderr",
     "output_type": "stream",
     "text": [
      "Training (15351 / 18000 Steps) (loss=0.48940): 100%|██████████| 76/76 [01:24<00:00,  1.11s/it]\n",
      "Validate (15352 / 10 Steps): 100%|██████████| 22/22 [00:27<00:00,  1.25s/it]<00:13,  2.15it/s]\n",
      "Training (15400 / 18000 Steps) (loss=0.39433):  64%|██████▍   | 49/76 [00:53<03:56,  8.76s/it]"
     ]
    },
    {
     "name": "stdout",
     "output_type": "stream",
     "text": [
      "Model Was Not Saved ! Current Best Avg. Dice: 0.43287545442581177 Current Avg. Dice: 0.4285741150379181 Current Avg. tumor Dice: 0.3905371129512787 Current Avg. lymph Dice: 0.48322051763534546\n"
     ]
    },
    {
     "name": "stderr",
     "output_type": "stream",
     "text": [
      "Training (15427 / 18000 Steps) (loss=0.52204): 100%|██████████| 76/76 [01:06<00:00,  1.15it/s]\n",
      "Validate (15428 / 10 Steps): 100%|██████████| 22/22 [00:27<00:00,  1.25s/it]<00:01,  2.25it/s]\n",
      "Training (15500 / 18000 Steps) (loss=0.48280):  96%|█████████▌| 73/76 [01:04<00:26,  8.90s/it]"
     ]
    },
    {
     "name": "stdout",
     "output_type": "stream",
     "text": [
      "Model Was Saved ! Current Best Avg. Dice: 0.4336010813713074 Current Avg. Dice: 0.4336010813713074 Current Avg. tumor Dice: 0.39618805050849915 Current Avg. lymph Dice: 0.48778289556503296\n"
     ]
    },
    {
     "name": "stderr",
     "output_type": "stream",
     "text": [
      "Training (15503 / 18000 Steps) (loss=0.59321): 100%|██████████| 76/76 [01:05<00:00,  1.16it/s]\n",
      "Training (15579 / 18000 Steps) (loss=0.54492): 100%|██████████| 76/76 [00:37<00:00,  2.02it/s]\n",
      "Validate (15580 / 10 Steps): 100%|██████████| 22/22 [00:27<00:00,  1.25s/it]<00:25,  2.16it/s]\n",
      "Training (15600 / 18000 Steps) (loss=0.51892):  28%|██▊       | 21/76 [00:40<08:01,  8.76s/it]"
     ]
    },
    {
     "name": "stdout",
     "output_type": "stream",
     "text": [
      "Model Was Not Saved ! Current Best Avg. Dice: 0.4336010813713074 Current Avg. Dice: 0.41386449337005615 Current Avg. tumor Dice: 0.3840239942073822 Current Avg. lymph Dice: 0.4674951732158661\n"
     ]
    },
    {
     "name": "stderr",
     "output_type": "stream",
     "text": [
      "Training (15655 / 18000 Steps) (loss=0.53853): 100%|██████████| 76/76 [01:05<00:00,  1.17it/s]\n",
      "Validate (15656 / 10 Steps): 100%|██████████| 22/22 [00:28<00:00,  1.28s/it]<00:14,  2.18it/s]\n",
      "Training (15700 / 18000 Steps) (loss=0.44629):  59%|█████▉    | 45/76 [00:52<04:43,  9.14s/it]"
     ]
    },
    {
     "name": "stdout",
     "output_type": "stream",
     "text": [
      "Model Was Saved ! Current Best Avg. Dice: 0.43936586380004883 Current Avg. Dice: 0.43936586380004883 Current Avg. tumor Dice: 0.4070161283016205 Current Avg. lymph Dice: 0.4965314269065857\n"
     ]
    },
    {
     "name": "stderr",
     "output_type": "stream",
     "text": [
      "Training (15731 / 18000 Steps) (loss=0.39058): 100%|██████████| 76/76 [01:06<00:00,  1.15it/s]\n",
      "Validate (15732 / 10 Steps): 100%|██████████| 22/22 [00:27<00:00,  1.26s/it]<00:03,  2.26it/s]\n",
      "Training (15800 / 18000 Steps) (loss=0.47525):  91%|█████████ | 69/76 [01:01<01:01,  8.78s/it]"
     ]
    },
    {
     "name": "stdout",
     "output_type": "stream",
     "text": [
      "Model Was Not Saved ! Current Best Avg. Dice: 0.43936586380004883 Current Avg. Dice: 0.3878249228000641 Current Avg. tumor Dice: 0.3282018005847931 Current Avg. lymph Dice: 0.49000728130340576\n"
     ]
    },
    {
     "name": "stderr",
     "output_type": "stream",
     "text": [
      "Training (15807 / 18000 Steps) (loss=0.49900): 100%|██████████| 76/76 [01:05<00:00,  1.17it/s]\n",
      "Training (15883 / 18000 Steps) (loss=0.53254): 100%|██████████| 76/76 [00:37<00:00,  2.02it/s]\n",
      "Validate (15884 / 10 Steps): 100%|██████████| 22/22 [00:27<00:00,  1.27s/it]<00:27,  2.18it/s]\n",
      "Training (15900 / 18000 Steps) (loss=0.50244):  22%|██▏       | 17/76 [00:38<08:43,  8.87s/it]"
     ]
    },
    {
     "name": "stdout",
     "output_type": "stream",
     "text": [
      "Model Was Not Saved ! Current Best Avg. Dice: 0.43936586380004883 Current Avg. Dice: 0.43864238262176514 Current Avg. tumor Dice: 0.4007675051689148 Current Avg. lymph Dice: 0.500523567199707\n"
     ]
    },
    {
     "name": "stderr",
     "output_type": "stream",
     "text": [
      "Training (15959 / 18000 Steps) (loss=0.60769): 100%|██████████| 76/76 [01:05<00:00,  1.16it/s]\n",
      "Validate (15960 / 10 Steps): 100%|██████████| 22/22 [00:27<00:00,  1.25s/it]<00:16,  2.20it/s]\n",
      "Training (16000 / 18000 Steps) (loss=0.38052):  54%|█████▍    | 41/76 [00:49<05:06,  8.75s/it]"
     ]
    },
    {
     "name": "stdout",
     "output_type": "stream",
     "text": [
      "Model Was Not Saved ! Current Best Avg. Dice: 0.43936586380004883 Current Avg. Dice: 0.43381598591804504 Current Avg. tumor Dice: 0.39682334661483765 Current Avg. lymph Dice: 0.4982517957687378\n"
     ]
    },
    {
     "name": "stderr",
     "output_type": "stream",
     "text": [
      "Training (16035 / 18000 Steps) (loss=0.51442): 100%|██████████| 76/76 [01:05<00:00,  1.17it/s]\n",
      "Validate (16036 / 10 Steps): 100%|██████████| 22/22 [00:27<00:00,  1.26s/it]<00:05,  2.19it/s]\n",
      "Training (16100 / 18000 Steps) (loss=0.52254):  86%|████████▌ | 65/76 [01:00<01:36,  8.80s/it]"
     ]
    },
    {
     "name": "stdout",
     "output_type": "stream",
     "text": [
      "Model Was Not Saved ! Current Best Avg. Dice: 0.43936586380004883 Current Avg. Dice: 0.42565682530403137 Current Avg. tumor Dice: 0.40456318855285645 Current Avg. lymph Dice: 0.48033586144447327\n"
     ]
    },
    {
     "name": "stderr",
     "output_type": "stream",
     "text": [
      "Training (16111 / 18000 Steps) (loss=0.59822): 100%|██████████| 76/76 [01:05<00:00,  1.16it/s]\n",
      "Training (16187 / 18000 Steps) (loss=0.49255): 100%|██████████| 76/76 [00:37<00:00,  2.05it/s]\n",
      "Validate (16188 / 10 Steps): 100%|██████████| 22/22 [00:27<00:00,  1.26s/it]<00:30,  2.12it/s]\n",
      "Training (16200 / 18000 Steps) (loss=0.55539):  17%|█▋        | 13/76 [00:36<09:21,  8.91s/it]"
     ]
    },
    {
     "name": "stdout",
     "output_type": "stream",
     "text": [
      "Model Was Not Saved ! Current Best Avg. Dice: 0.43936586380004883 Current Avg. Dice: 0.4119819402694702 Current Avg. tumor Dice: 0.3781784474849701 Current Avg. lymph Dice: 0.47707313299179077\n"
     ]
    },
    {
     "name": "stderr",
     "output_type": "stream",
     "text": [
      "Training (16263 / 18000 Steps) (loss=0.46896): 100%|██████████| 76/76 [01:05<00:00,  1.16it/s]\n",
      "Validate (16264 / 10 Steps): 100%|██████████| 22/22 [00:27<00:00,  1.26s/it]<00:17,  2.24it/s]\n",
      "Training (16300 / 18000 Steps) (loss=0.52346):  49%|████▊     | 37/76 [00:48<05:46,  8.89s/it]"
     ]
    },
    {
     "name": "stdout",
     "output_type": "stream",
     "text": [
      "Model Was Not Saved ! Current Best Avg. Dice: 0.43936586380004883 Current Avg. Dice: 0.41181230545043945 Current Avg. tumor Dice: 0.3681216537952423 Current Avg. lymph Dice: 0.48250946402549744\n"
     ]
    },
    {
     "name": "stderr",
     "output_type": "stream",
     "text": [
      "Training (16339 / 18000 Steps) (loss=0.60366): 100%|██████████| 76/76 [01:05<00:00,  1.15it/s]\n",
      "Validate (16340 / 10 Steps): 100%|██████████| 22/22 [00:27<00:00,  1.25s/it]<00:07,  2.22it/s]\n",
      "Training (16400 / 18000 Steps) (loss=0.43788):  80%|████████  | 61/76 [00:57<02:10,  8.72s/it]"
     ]
    },
    {
     "name": "stdout",
     "output_type": "stream",
     "text": [
      "Model Was Not Saved ! Current Best Avg. Dice: 0.43936586380004883 Current Avg. Dice: 0.4259887933731079 Current Avg. tumor Dice: 0.38456815481185913 Current Avg. lymph Dice: 0.4907350540161133\n"
     ]
    },
    {
     "name": "stderr",
     "output_type": "stream",
     "text": [
      "Training (16415 / 18000 Steps) (loss=0.40020): 100%|██████████| 76/76 [01:04<00:00,  1.17it/s]\n",
      "Training (16491 / 18000 Steps) (loss=0.47626): 100%|██████████| 76/76 [00:37<00:00,  2.04it/s]\n",
      "Validate (16492 / 10 Steps): 100%|██████████| 22/22 [00:27<00:00,  1.26s/it]00:37,  1.82it/s]\n",
      "Training (16500 / 18000 Steps) (loss=0.40090):  12%|█▏        | 9/76 [00:34<10:17,  9.22s/it]"
     ]
    },
    {
     "name": "stdout",
     "output_type": "stream",
     "text": [
      "Model Was Not Saved ! Current Best Avg. Dice: 0.43936586380004883 Current Avg. Dice: 0.42765218019485474 Current Avg. tumor Dice: 0.39721590280532837 Current Avg. lymph Dice: 0.47001913189888\n"
     ]
    },
    {
     "name": "stderr",
     "output_type": "stream",
     "text": [
      "Training (16567 / 18000 Steps) (loss=0.52488): 100%|██████████| 76/76 [01:05<00:00,  1.17it/s]\n",
      "Validate (16568 / 10 Steps): 100%|██████████| 22/22 [00:27<00:00,  1.24s/it]<00:19,  2.22it/s]\n",
      "Training (16600 / 18000 Steps) (loss=0.51640):  43%|████▎     | 33/76 [00:45<06:12,  8.65s/it]"
     ]
    },
    {
     "name": "stdout",
     "output_type": "stream",
     "text": [
      "Model Was Not Saved ! Current Best Avg. Dice: 0.43936586380004883 Current Avg. Dice: 0.43726280331611633 Current Avg. tumor Dice: 0.39213988184928894 Current Avg. lymph Dice: 0.5063416957855225\n"
     ]
    },
    {
     "name": "stderr",
     "output_type": "stream",
     "text": [
      "Training (16643 / 18000 Steps) (loss=0.46331): 100%|██████████| 76/76 [01:04<00:00,  1.17it/s]\n",
      "Validate (16644 / 10 Steps): 100%|██████████| 22/22 [00:27<00:00,  1.26s/it]<00:09,  2.22it/s]\n",
      "Training (16700 / 18000 Steps) (loss=0.52623):  75%|███████▌  | 57/76 [00:56<02:51,  9.02s/it]"
     ]
    },
    {
     "name": "stdout",
     "output_type": "stream",
     "text": [
      "Model Was Saved ! Current Best Avg. Dice: 0.4471481442451477 Current Avg. Dice: 0.4471481442451477 Current Avg. tumor Dice: 0.4216202199459076 Current Avg. lymph Dice: 0.4906081557273865\n"
     ]
    },
    {
     "name": "stderr",
     "output_type": "stream",
     "text": [
      "Training (16719 / 18000 Steps) (loss=0.40481): 100%|██████████| 76/76 [01:05<00:00,  1.16it/s]\n",
      "Training (16795 / 18000 Steps) (loss=0.48238): 100%|██████████| 76/76 [00:37<00:00,  2.04it/s]\n",
      "Validate (16796 / 10 Steps): 100%|██████████| 22/22 [00:27<00:00,  1.26s/it]01:00,  1.20it/s]\n",
      "Training (16800 / 18000 Steps) (loss=0.51304):   7%|▋         | 5/76 [00:32<12:41, 10.73s/it]"
     ]
    },
    {
     "name": "stdout",
     "output_type": "stream",
     "text": [
      "Model Was Not Saved ! Current Best Avg. Dice: 0.4471481442451477 Current Avg. Dice: 0.4129229485988617 Current Avg. tumor Dice: 0.3929224908351898 Current Avg. lymph Dice: 0.45834192633628845\n"
     ]
    },
    {
     "name": "stderr",
     "output_type": "stream",
     "text": [
      "Training (16871 / 18000 Steps) (loss=0.56429): 100%|██████████| 76/76 [01:05<00:00,  1.17it/s]\n",
      "Validate (16872 / 10 Steps): 100%|██████████| 22/22 [00:28<00:00,  1.28s/it]<00:22,  2.16it/s]\n",
      "Training (16900 / 18000 Steps) (loss=0.53103):  38%|███▊      | 29/76 [00:44<07:00,  8.94s/it]"
     ]
    },
    {
     "name": "stdout",
     "output_type": "stream",
     "text": [
      "Model Was Not Saved ! Current Best Avg. Dice: 0.4471481442451477 Current Avg. Dice: 0.4083045721054077 Current Avg. tumor Dice: 0.34379905462265015 Current Avg. lymph Dice: 0.5132094621658325\n"
     ]
    },
    {
     "name": "stderr",
     "output_type": "stream",
     "text": [
      "Training (16947 / 18000 Steps) (loss=0.46444): 100%|██████████| 76/76 [01:05<00:00,  1.15it/s]\n",
      "Validate (16948 / 10 Steps): 100%|██████████| 22/22 [00:27<00:00,  1.26s/it]<00:11,  2.14it/s]\n",
      "Training (17000 / 18000 Steps) (loss=0.50671):  70%|██████▉   | 53/76 [00:54<03:21,  8.78s/it]"
     ]
    },
    {
     "name": "stdout",
     "output_type": "stream",
     "text": [
      "Model Was Not Saved ! Current Best Avg. Dice: 0.4471481442451477 Current Avg. Dice: 0.3947094976902008 Current Avg. tumor Dice: 0.36562013626098633 Current Avg. lymph Dice: 0.45874759554862976\n"
     ]
    },
    {
     "name": "stderr",
     "output_type": "stream",
     "text": [
      "Training (17023 / 18000 Steps) (loss=0.51997): 100%|██████████| 76/76 [01:04<00:00,  1.17it/s]\n",
      "Training (17099 / 18000 Steps) (loss=0.43173): 100%|██████████| 76/76 [00:37<00:00,  2.02it/s]\n",
      "Validate (17100 / 10 Steps): 100%|██████████| 22/22 [00:28<00:00,  1.28s/it]?, ?it/s]\n",
      "Training (17100 / 18000 Steps) (loss=0.40434):   1%|▏         | 1/76 [00:31<39:03, 31.24s/it]"
     ]
    },
    {
     "name": "stdout",
     "output_type": "stream",
     "text": [
      "Model Was Not Saved ! Current Best Avg. Dice: 0.4471481442451477 Current Avg. Dice: 0.42939141392707825 Current Avg. tumor Dice: 0.39109766483306885 Current Avg. lymph Dice: 0.5007073283195496\n"
     ]
    },
    {
     "name": "stderr",
     "output_type": "stream",
     "text": [
      "Training (17175 / 18000 Steps) (loss=0.47028): 100%|██████████| 76/76 [01:05<00:00,  1.16it/s]\n",
      "Validate (17176 / 10 Steps): 100%|██████████| 22/22 [00:27<00:00,  1.27s/it]<00:23,  2.17it/s]\n",
      "Training (17200 / 18000 Steps) (loss=0.48444):  33%|███▎      | 25/76 [00:42<07:30,  8.83s/it]"
     ]
    },
    {
     "name": "stdout",
     "output_type": "stream",
     "text": [
      "Model Was Not Saved ! Current Best Avg. Dice: 0.4471481442451477 Current Avg. Dice: 0.4223734736442566 Current Avg. tumor Dice: 0.39050379395484924 Current Avg. lymph Dice: 0.48910412192344666\n"
     ]
    },
    {
     "name": "stderr",
     "output_type": "stream",
     "text": [
      "Training (17251 / 18000 Steps) (loss=0.54940): 100%|██████████| 76/76 [01:05<00:00,  1.16it/s]\n",
      "Validate (17252 / 10 Steps): 100%|██████████| 22/22 [00:27<00:00,  1.27s/it]<00:12,  2.22it/s]\n",
      "Training (17300 / 18000 Steps) (loss=0.49880):  64%|██████▍   | 49/76 [00:53<03:59,  8.87s/it]"
     ]
    },
    {
     "name": "stdout",
     "output_type": "stream",
     "text": [
      "Model Was Not Saved ! Current Best Avg. Dice: 0.4471481442451477 Current Avg. Dice: 0.40598171949386597 Current Avg. tumor Dice: 0.3454797863960266 Current Avg. lymph Dice: 0.5104399919509888\n"
     ]
    },
    {
     "name": "stderr",
     "output_type": "stream",
     "text": [
      "Training (17327 / 18000 Steps) (loss=0.39057): 100%|██████████| 76/76 [01:05<00:00,  1.16it/s]\n",
      "Validate (17328 / 10 Steps): 100%|██████████| 22/22 [00:27<00:00,  1.26s/it]<00:01,  2.22it/s]\n",
      "Training (17400 / 18000 Steps) (loss=0.41572):  96%|█████████▌| 73/76 [01:04<00:26,  8.80s/it]"
     ]
    },
    {
     "name": "stdout",
     "output_type": "stream",
     "text": [
      "Model Was Not Saved ! Current Best Avg. Dice: 0.4471481442451477 Current Avg. Dice: 0.37740498781204224 Current Avg. tumor Dice: 0.32422056794166565 Current Avg. lymph Dice: 0.48106205463409424\n"
     ]
    },
    {
     "name": "stderr",
     "output_type": "stream",
     "text": [
      "Training (17403 / 18000 Steps) (loss=0.56341): 100%|██████████| 76/76 [01:05<00:00,  1.15it/s]\n",
      "Training (17479 / 18000 Steps) (loss=0.44935): 100%|██████████| 76/76 [00:37<00:00,  2.03it/s]\n",
      "Validate (17480 / 10 Steps): 100%|██████████| 22/22 [00:27<00:00,  1.25s/it]<00:25,  2.16it/s]\n",
      "Training (17500 / 18000 Steps) (loss=0.49394):  28%|██▊       | 21/76 [00:40<07:58,  8.70s/it]"
     ]
    },
    {
     "name": "stdout",
     "output_type": "stream",
     "text": [
      "Model Was Not Saved ! Current Best Avg. Dice: 0.4471481442451477 Current Avg. Dice: 0.4027785360813141 Current Avg. tumor Dice: 0.34875932335853577 Current Avg. lymph Dice: 0.49333614110946655\n"
     ]
    },
    {
     "name": "stderr",
     "output_type": "stream",
     "text": [
      "Training (17555 / 18000 Steps) (loss=0.59820): 100%|██████████| 76/76 [01:05<00:00,  1.17it/s]\n",
      "Validate (17556 / 10 Steps): 100%|██████████| 22/22 [00:27<00:00,  1.25s/it]<00:14,  2.18it/s]\n",
      "Training (17600 / 18000 Steps) (loss=0.48736):  59%|█████▉    | 45/76 [00:50<04:30,  8.74s/it]"
     ]
    },
    {
     "name": "stdout",
     "output_type": "stream",
     "text": [
      "Model Was Not Saved ! Current Best Avg. Dice: 0.4471481442451477 Current Avg. Dice: 0.42369720339775085 Current Avg. tumor Dice: 0.3756357729434967 Current Avg. lymph Dice: 0.5027576684951782\n"
     ]
    },
    {
     "name": "stderr",
     "output_type": "stream",
     "text": [
      "Training (17631 / 18000 Steps) (loss=0.43544): 100%|██████████| 76/76 [01:05<00:00,  1.17it/s]\n",
      "Validate (17632 / 10 Steps): 100%|██████████| 22/22 [00:27<00:00,  1.26s/it]<00:03,  2.27it/s]\n",
      "Training (17700 / 18000 Steps) (loss=0.59842):  91%|█████████ | 69/76 [01:02<01:01,  8.80s/it]"
     ]
    },
    {
     "name": "stdout",
     "output_type": "stream",
     "text": [
      "Model Was Not Saved ! Current Best Avg. Dice: 0.4471481442451477 Current Avg. Dice: 0.4189879596233368 Current Avg. tumor Dice: 0.37448230385780334 Current Avg. lymph Dice: 0.49862533807754517\n"
     ]
    },
    {
     "name": "stderr",
     "output_type": "stream",
     "text": [
      "Training (17707 / 18000 Steps) (loss=0.59821): 100%|██████████| 76/76 [01:05<00:00,  1.15it/s]\n",
      "Training (17783 / 18000 Steps) (loss=0.50778): 100%|██████████| 76/76 [00:37<00:00,  2.01it/s]\n",
      "Validate (17784 / 10 Steps): 100%|██████████| 22/22 [00:27<00:00,  1.26s/it]<00:28,  2.08it/s]\n",
      "Training (17800 / 18000 Steps) (loss=0.59342):  22%|██▏       | 17/76 [00:38<08:43,  8.87s/it]"
     ]
    },
    {
     "name": "stdout",
     "output_type": "stream",
     "text": [
      "Model Was Not Saved ! Current Best Avg. Dice: 0.4471481442451477 Current Avg. Dice: 0.39660635590553284 Current Avg. tumor Dice: 0.33898910880088806 Current Avg. lymph Dice: 0.48905447125434875\n"
     ]
    },
    {
     "name": "stderr",
     "output_type": "stream",
     "text": [
      "Training (17859 / 18000 Steps) (loss=0.51733): 100%|██████████| 76/76 [01:05<00:00,  1.16it/s]\n",
      "Validate (17860 / 10 Steps): 100%|██████████| 22/22 [00:27<00:00,  1.26s/it]<00:16,  2.20it/s]\n",
      "Training (17900 / 18000 Steps) (loss=0.53619):  54%|█████▍    | 41/76 [00:49<05:07,  8.77s/it]"
     ]
    },
    {
     "name": "stdout",
     "output_type": "stream",
     "text": [
      "Model Was Not Saved ! Current Best Avg. Dice: 0.4471481442451477 Current Avg. Dice: 0.4237653613090515 Current Avg. tumor Dice: 0.3812258243560791 Current Avg. lymph Dice: 0.4898056387901306\n"
     ]
    },
    {
     "name": "stderr",
     "output_type": "stream",
     "text": [
      "Training (17935 / 18000 Steps) (loss=0.47662): 100%|██████████| 76/76 [01:05<00:00,  1.16it/s]\n",
      "Validate (17936 / 10 Steps): 100%|██████████| 22/22 [00:27<00:00,  1.26s/it]<00:05,  2.22it/s]\n",
      "Training (18000 / 18000 Steps) (loss=0.41988):  86%|████████▌ | 65/76 [01:00<01:36,  8.79s/it]"
     ]
    },
    {
     "name": "stdout",
     "output_type": "stream",
     "text": [
      "Model Was Not Saved ! Current Best Avg. Dice: 0.4471481442451477 Current Avg. Dice: 0.43904122710227966 Current Avg. tumor Dice: 0.40503379702568054 Current Avg. lymph Dice: 0.5083065032958984\n"
     ]
    },
    {
     "name": "stderr",
     "output_type": "stream",
     "text": [
      "Training (18011 / 18000 Steps) (loss=0.34001): 100%|██████████| 76/76 [01:05<00:00,  1.16it/s]\n"
     ]
    }
   ],
   "source": [
    "model_dir = '/home/nada.saadi/MIS-FM/hecktor2022_cropped/MDA_ct_unetr_files'\n",
    "\n",
    "def validation(epoch_iterator_val):\n",
    "    model.eval()\n",
    "    with torch.no_grad():\n",
    "        for step, batch in enumerate(epoch_iterator_val):\n",
    "            val_inputs, val_labels = (batch[\"ct\"].cuda(), batch[\"seg\"].cuda())\n",
    "            val_outputs = sliding_window_inference(val_inputs, (96, 96, 96), 4, model)\n",
    "            val_labels_list = decollate_batch(val_labels)\n",
    "            val_labels_convert = [\n",
    "                post_label(val_label_tensor) for val_label_tensor in val_labels_list\n",
    "            ]\n",
    "            val_outputs_list = decollate_batch(val_outputs)\n",
    "            val_output_convert = [\n",
    "                post_pred(val_pred_tensor) for val_pred_tensor in val_outputs_list\n",
    "            ]\n",
    "            dice_metric(y_pred=val_output_convert, y=val_labels_convert)\n",
    "            dice_metric_batch(y_pred=val_output_convert, y=val_labels_convert)\n",
    "            epoch_iterator_val.set_description(\n",
    "                \"Validate (%d / %d Steps)\" % (global_step, 10.0)\n",
    "            )\n",
    "        mean_dice_val = dice_metric.aggregate().item()\n",
    "        metric_batch_val = dice_metric_batch.aggregate()\n",
    "\n",
    "        metric_tumor = metric_batch_val[0].item()\n",
    "        metric_lymph = metric_batch_val[1].item()\n",
    "\n",
    "        dice_metric.reset()\n",
    "        dice_metric_batch.reset()\n",
    "    return mean_dice_val, metric_tumor, metric_lymph\n",
    "\n",
    "\n",
    "def train(global_step, train_loader, dice_val_best, global_step_best):\n",
    "    model.train()\n",
    "    epoch_loss = 0\n",
    "    step = 0\n",
    "    epoch_iterator = tqdm(\n",
    "        train_loader, desc=\"Training (X / X Steps) (loss=X.X)\", dynamic_ncols=True\n",
    "    )\n",
    "    for step, batch in enumerate(epoch_iterator):\n",
    "        step += 1\n",
    "        x, y = (batch[\"ct\"].cuda(), batch[\"seg\"].cuda())\n",
    "        logit_map = model(x)\n",
    "        loss = loss_function(logit_map, y)\n",
    "        loss.backward()\n",
    "        epoch_loss += loss.item()\n",
    "        optimizer.step()\n",
    "        optimizer.zero_grad()\n",
    "        epoch_iterator.set_description(\n",
    "            \"Training (%d / %d Steps) (loss=%2.5f)\"\n",
    "            % (global_step, max_iterations, loss)\n",
    "        )\n",
    "        if (\n",
    "            global_step % eval_num == 0 and global_step != 0\n",
    "        ) or global_step == max_iterations:\n",
    "            epoch_iterator_val = tqdm(\n",
    "                val_loader, desc=\"Validate (X / X Steps) (dice=X.X)\", dynamic_ncols=True\n",
    "            )\n",
    "            dice_val, metric_tumor, metric_lymph = validation(epoch_iterator_val)\n",
    "            epoch_loss /= step\n",
    "            epoch_loss_values.append(epoch_loss)\n",
    "            metric_values.append(dice_val)\n",
    "            metric_values_tumor.append(metric_tumor)\n",
    "            metric_values_lymph.append(metric_lymph)\n",
    "            if dice_val > dice_val_best:\n",
    "                dice_val_best = dice_val\n",
    "                global_step_best = global_step\n",
    "                torch.save(\n",
    "                    model.state_dict(), os.path.join(model_dir, \"best_mda_metric_unetr.pth\")\n",
    "                )\n",
    "                print(\n",
    "                    \"Model Was Saved ! Current Best Avg. Dice: {} Current Avg. Dice: {} Current Avg. tumor Dice: {} Current Avg. lymph Dice: {}\".format(\n",
    "                        dice_val_best, dice_val, metric_tumor, metric_lymph\n",
    "                    )\n",
    "                )\n",
    "            else:\n",
    "                print(\n",
    "                    \"Model Was Not Saved ! Current Best Avg. Dice: {} Current Avg. Dice: {} Current Avg. tumor Dice: {} Current Avg. lymph Dice: {}\".format(\n",
    "                        dice_val_best, dice_val,  metric_tumor, metric_lymph\n",
    "                    )\n",
    "                )\n",
    "        global_step += 1\n",
    "    return global_step, dice_val_best, global_step_best\n",
    "\n",
    "\n",
    "max_iterations = 18000\n",
    "eval_num = 100\n",
    "\n",
    "post_label = AsDiscrete(to_onehot=3)\n",
    "post_pred = AsDiscrete(argmax=True, to_onehot=3)\n",
    "\n",
    "dice_metric = DiceMetric(include_background=False, reduction=\"mean\", get_not_nans=False)\n",
    "dice_metric_batch = DiceMetric(include_background=False, reduction=\"mean_batch\")\n",
    "\n",
    "epoch = 0\n",
    "max_num_epochs = 530\n",
    "\n",
    "global_step = 0\n",
    "dice_val_best = 0.0\n",
    "global_step_best = 0\n",
    "epoch_loss_values = []\n",
    "metric_values = []\n",
    "metric_values_tumor = []\n",
    "metric_values_lymph = []\n",
    "while global_step < max_iterations:\n",
    "    global_step, dice_val_best, global_step_best = train(\n",
    "        global_step, train_loader, dice_val_best, global_step_best\n",
    "    )\n",
    "    # wandb.log({'learning_rate': optimizer.param_groups[0]['lr']})\n",
    "    # wandb.log({'Best Dice': dice_val_best})\n",
    "    epoch += 1\n",
    "    #optimizer.param_groups[0]['lr'] = poly_lr(epoch, max_num_epochs, 0.005676 , 0.9)\n",
    "# model.load_state_dict(torch.load(os.path.join(model_dir, \"best_metric_luck_UNETr_prompt.pth\")))"
   ]
  },
  {
   "cell_type": "code",
   "execution_count": 17,
   "metadata": {},
   "outputs": [
    {
     "name": "stderr",
     "output_type": "stream",
     "text": [
      "/home/nada.saadi/miniconda3/envs/clam/lib/python3.8/site-packages/monai/utils/deprecate_utils.py:221: FutureWarning: monai.networks.nets.unetr UNETR.__init__:pos_embed: Argument `pos_embed` has been deprecated since version 1.2. It will be removed in version 1.4. please use `proj_type` instead.\n",
      "  warn_deprecated(argname, msg, warning_category)\n"
     ]
    },
    {
     "ename": "RuntimeError",
     "evalue": "Error(s) in loading state_dict for UNETR:\n\tMissing key(s) in state_dict: \"vit.patch_embedding.patch_embeddings.1.weight\", \"vit.patch_embedding.patch_embeddings.1.bias\", \"vit.blocks.0.attn.proj_q.weight\", \"vit.blocks.0.attn.proj_k.weight\", \"vit.blocks.0.attn.proj_v.weight\", \"vit.blocks.1.attn.proj_q.weight\", \"vit.blocks.1.attn.proj_k.weight\", \"vit.blocks.1.attn.proj_v.weight\", \"vit.blocks.2.attn.proj_q.weight\", \"vit.blocks.2.attn.proj_k.weight\", \"vit.blocks.2.attn.proj_v.weight\", \"vit.blocks.3.attn.proj_q.weight\", \"vit.blocks.3.attn.proj_k.weight\", \"vit.blocks.3.attn.proj_v.weight\", \"vit.blocks.4.attn.proj_q.weight\", \"vit.blocks.4.attn.proj_k.weight\", \"vit.blocks.4.attn.proj_v.weight\", \"vit.blocks.5.attn.proj_q.weight\", \"vit.blocks.5.attn.proj_k.weight\", \"vit.blocks.5.attn.proj_v.weight\", \"vit.blocks.6.attn.proj_q.weight\", \"vit.blocks.6.attn.proj_k.weight\", \"vit.blocks.6.attn.proj_v.weight\", \"vit.blocks.7.attn.proj_q.weight\", \"vit.blocks.7.attn.proj_k.weight\", \"vit.blocks.7.attn.proj_v.weight\", \"vit.blocks.8.attn.proj_q.weight\", \"vit.blocks.8.attn.proj_k.weight\", \"vit.blocks.8.attn.proj_v.weight\", \"vit.blocks.9.attn.proj_q.weight\", \"vit.blocks.9.attn.proj_k.weight\", \"vit.blocks.9.attn.proj_v.weight\", \"vit.blocks.10.attn.proj_q.weight\", \"vit.blocks.10.attn.proj_k.weight\", \"vit.blocks.10.attn.proj_v.weight\", \"vit.blocks.11.attn.proj_q.weight\", \"vit.blocks.11.attn.proj_k.weight\", \"vit.blocks.11.attn.proj_v.weight\". \n\tUnexpected key(s) in state_dict: \"vit.patch_embedding.patch_embeddings.weight\", \"vit.patch_embedding.patch_embeddings.bias\", \"vit.blocks.0.attn.qkv.weight\", \"vit.blocks.1.attn.qkv.weight\", \"vit.blocks.2.attn.qkv.weight\", \"vit.blocks.3.attn.qkv.weight\", \"vit.blocks.4.attn.qkv.weight\", \"vit.blocks.5.attn.qkv.weight\", \"vit.blocks.6.attn.qkv.weight\", \"vit.blocks.7.attn.qkv.weight\", \"vit.blocks.8.attn.qkv.weight\", \"vit.blocks.9.attn.qkv.weight\", \"vit.blocks.10.attn.qkv.weight\", \"vit.blocks.11.attn.qkv.weight\". \n\tsize mismatch for encoder1.layer.conv1.conv.weight: copying a param with shape torch.Size([48, 2, 3, 3, 3]) from checkpoint, the shape in current model is torch.Size([16, 1, 3, 3, 3]).\n\tsize mismatch for encoder1.layer.conv2.conv.weight: copying a param with shape torch.Size([48, 48, 3, 3, 3]) from checkpoint, the shape in current model is torch.Size([16, 16, 3, 3, 3]).\n\tsize mismatch for encoder1.layer.conv3.conv.weight: copying a param with shape torch.Size([48, 2, 1, 1, 1]) from checkpoint, the shape in current model is torch.Size([16, 1, 1, 1, 1]).\n\tsize mismatch for encoder2.transp_conv_init.conv.weight: copying a param with shape torch.Size([768, 96, 2, 2, 2]) from checkpoint, the shape in current model is torch.Size([768, 32, 2, 2, 2]).\n\tsize mismatch for encoder2.blocks.0.0.conv.weight: copying a param with shape torch.Size([96, 96, 2, 2, 2]) from checkpoint, the shape in current model is torch.Size([32, 32, 2, 2, 2]).\n\tsize mismatch for encoder2.blocks.0.1.conv1.conv.weight: copying a param with shape torch.Size([96, 96, 3, 3, 3]) from checkpoint, the shape in current model is torch.Size([32, 32, 3, 3, 3]).\n\tsize mismatch for encoder2.blocks.0.1.conv2.conv.weight: copying a param with shape torch.Size([96, 96, 3, 3, 3]) from checkpoint, the shape in current model is torch.Size([32, 32, 3, 3, 3]).\n\tsize mismatch for encoder2.blocks.1.0.conv.weight: copying a param with shape torch.Size([96, 96, 2, 2, 2]) from checkpoint, the shape in current model is torch.Size([32, 32, 2, 2, 2]).\n\tsize mismatch for encoder2.blocks.1.1.conv1.conv.weight: copying a param with shape torch.Size([96, 96, 3, 3, 3]) from checkpoint, the shape in current model is torch.Size([32, 32, 3, 3, 3]).\n\tsize mismatch for encoder2.blocks.1.1.conv2.conv.weight: copying a param with shape torch.Size([96, 96, 3, 3, 3]) from checkpoint, the shape in current model is torch.Size([32, 32, 3, 3, 3]).\n\tsize mismatch for encoder3.transp_conv_init.conv.weight: copying a param with shape torch.Size([768, 192, 2, 2, 2]) from checkpoint, the shape in current model is torch.Size([768, 64, 2, 2, 2]).\n\tsize mismatch for encoder3.blocks.0.0.conv.weight: copying a param with shape torch.Size([192, 192, 2, 2, 2]) from checkpoint, the shape in current model is torch.Size([64, 64, 2, 2, 2]).\n\tsize mismatch for encoder3.blocks.0.1.conv1.conv.weight: copying a param with shape torch.Size([192, 192, 3, 3, 3]) from checkpoint, the shape in current model is torch.Size([64, 64, 3, 3, 3]).\n\tsize mismatch for encoder3.blocks.0.1.conv2.conv.weight: copying a param with shape torch.Size([192, 192, 3, 3, 3]) from checkpoint, the shape in current model is torch.Size([64, 64, 3, 3, 3]).\n\tsize mismatch for encoder4.transp_conv_init.conv.weight: copying a param with shape torch.Size([768, 384, 2, 2, 2]) from checkpoint, the shape in current model is torch.Size([768, 128, 2, 2, 2]).\n\tsize mismatch for decoder5.transp_conv.conv.weight: copying a param with shape torch.Size([768, 384, 2, 2, 2]) from checkpoint, the shape in current model is torch.Size([768, 128, 2, 2, 2]).\n\tsize mismatch for decoder5.conv_block.conv1.conv.weight: copying a param with shape torch.Size([384, 768, 3, 3, 3]) from checkpoint, the shape in current model is torch.Size([128, 256, 3, 3, 3]).\n\tsize mismatch for decoder5.conv_block.conv2.conv.weight: copying a param with shape torch.Size([384, 384, 3, 3, 3]) from checkpoint, the shape in current model is torch.Size([128, 128, 3, 3, 3]).\n\tsize mismatch for decoder5.conv_block.conv3.conv.weight: copying a param with shape torch.Size([384, 768, 1, 1, 1]) from checkpoint, the shape in current model is torch.Size([128, 256, 1, 1, 1]).\n\tsize mismatch for decoder4.transp_conv.conv.weight: copying a param with shape torch.Size([384, 192, 2, 2, 2]) from checkpoint, the shape in current model is torch.Size([128, 64, 2, 2, 2]).\n\tsize mismatch for decoder4.conv_block.conv1.conv.weight: copying a param with shape torch.Size([192, 384, 3, 3, 3]) from checkpoint, the shape in current model is torch.Size([64, 128, 3, 3, 3]).\n\tsize mismatch for decoder4.conv_block.conv2.conv.weight: copying a param with shape torch.Size([192, 192, 3, 3, 3]) from checkpoint, the shape in current model is torch.Size([64, 64, 3, 3, 3]).\n\tsize mismatch for decoder4.conv_block.conv3.conv.weight: copying a param with shape torch.Size([192, 384, 1, 1, 1]) from checkpoint, the shape in current model is torch.Size([64, 128, 1, 1, 1]).\n\tsize mismatch for decoder3.transp_conv.conv.weight: copying a param with shape torch.Size([192, 96, 2, 2, 2]) from checkpoint, the shape in current model is torch.Size([64, 32, 2, 2, 2]).\n\tsize mismatch for decoder3.conv_block.conv1.conv.weight: copying a param with shape torch.Size([96, 192, 3, 3, 3]) from checkpoint, the shape in current model is torch.Size([32, 64, 3, 3, 3]).\n\tsize mismatch for decoder3.conv_block.conv2.conv.weight: copying a param with shape torch.Size([96, 96, 3, 3, 3]) from checkpoint, the shape in current model is torch.Size([32, 32, 3, 3, 3]).\n\tsize mismatch for decoder3.conv_block.conv3.conv.weight: copying a param with shape torch.Size([96, 192, 1, 1, 1]) from checkpoint, the shape in current model is torch.Size([32, 64, 1, 1, 1]).\n\tsize mismatch for decoder2.transp_conv.conv.weight: copying a param with shape torch.Size([96, 48, 2, 2, 2]) from checkpoint, the shape in current model is torch.Size([32, 16, 2, 2, 2]).\n\tsize mismatch for decoder2.conv_block.conv1.conv.weight: copying a param with shape torch.Size([48, 96, 3, 3, 3]) from checkpoint, the shape in current model is torch.Size([16, 32, 3, 3, 3]).\n\tsize mismatch for decoder2.conv_block.conv2.conv.weight: copying a param with shape torch.Size([48, 48, 3, 3, 3]) from checkpoint, the shape in current model is torch.Size([16, 16, 3, 3, 3]).\n\tsize mismatch for decoder2.conv_block.conv3.conv.weight: copying a param with shape torch.Size([48, 96, 1, 1, 1]) from checkpoint, the shape in current model is torch.Size([16, 32, 1, 1, 1]).\n\tsize mismatch for out.conv.conv.weight: copying a param with shape torch.Size([3, 48, 1, 1, 1]) from checkpoint, the shape in current model is torch.Size([3, 16, 1, 1, 1]).",
     "output_type": "error",
     "traceback": [
      "\u001b[0;31m---------------------------------------------------------------------------\u001b[0m",
      "\u001b[0;31mRuntimeError\u001b[0m                              Traceback (most recent call last)",
      "Cell \u001b[0;32mIn[17], line 26\u001b[0m\n\u001b[1;32m     11\u001b[0m \u001b[38;5;66;03m# Load the model and set it to evaluation mode\u001b[39;00m\n\u001b[1;32m     12\u001b[0m model \u001b[38;5;241m=\u001b[39m UNETR(\n\u001b[1;32m     13\u001b[0m     in_channels\u001b[38;5;241m=\u001b[39m\u001b[38;5;241m1\u001b[39m,\n\u001b[1;32m     14\u001b[0m     out_channels\u001b[38;5;241m=\u001b[39m\u001b[38;5;241m3\u001b[39m,\n\u001b[0;32m   (...)\u001b[0m\n\u001b[1;32m     23\u001b[0m     dropout_rate\u001b[38;5;241m=\u001b[39m\u001b[38;5;241m0.0\u001b[39m,\n\u001b[1;32m     24\u001b[0m )\u001b[38;5;241m.\u001b[39mto(device)\n\u001b[0;32m---> 26\u001b[0m \u001b[43mmodel\u001b[49m\u001b[38;5;241;43m.\u001b[39;49m\u001b[43mload_state_dict\u001b[49m\u001b[43m(\u001b[49m\u001b[43mtorch\u001b[49m\u001b[38;5;241;43m.\u001b[39;49m\u001b[43mload\u001b[49m\u001b[43m(\u001b[49m\u001b[43mmodel_weights\u001b[49m\u001b[43m)\u001b[49m\u001b[43m)\u001b[49m\n\u001b[1;32m     27\u001b[0m model\u001b[38;5;241m.\u001b[39meval()\n\u001b[1;32m     29\u001b[0m slice_num \u001b[38;5;241m=\u001b[39m \u001b[38;5;241m100\u001b[39m\n",
      "File \u001b[0;32m~/miniconda3/envs/clam/lib/python3.8/site-packages/torch/nn/modules/module.py:2152\u001b[0m, in \u001b[0;36mModule.load_state_dict\u001b[0;34m(self, state_dict, strict, assign)\u001b[0m\n\u001b[1;32m   2147\u001b[0m         error_msgs\u001b[38;5;241m.\u001b[39minsert(\n\u001b[1;32m   2148\u001b[0m             \u001b[38;5;241m0\u001b[39m, \u001b[38;5;124m'\u001b[39m\u001b[38;5;124mMissing key(s) in state_dict: \u001b[39m\u001b[38;5;132;01m{}\u001b[39;00m\u001b[38;5;124m. \u001b[39m\u001b[38;5;124m'\u001b[39m\u001b[38;5;241m.\u001b[39mformat(\n\u001b[1;32m   2149\u001b[0m                 \u001b[38;5;124m'\u001b[39m\u001b[38;5;124m, \u001b[39m\u001b[38;5;124m'\u001b[39m\u001b[38;5;241m.\u001b[39mjoin(\u001b[38;5;124mf\u001b[39m\u001b[38;5;124m'\u001b[39m\u001b[38;5;124m\"\u001b[39m\u001b[38;5;132;01m{\u001b[39;00mk\u001b[38;5;132;01m}\u001b[39;00m\u001b[38;5;124m\"\u001b[39m\u001b[38;5;124m'\u001b[39m \u001b[38;5;28;01mfor\u001b[39;00m k \u001b[38;5;129;01min\u001b[39;00m missing_keys)))\n\u001b[1;32m   2151\u001b[0m \u001b[38;5;28;01mif\u001b[39;00m \u001b[38;5;28mlen\u001b[39m(error_msgs) \u001b[38;5;241m>\u001b[39m \u001b[38;5;241m0\u001b[39m:\n\u001b[0;32m-> 2152\u001b[0m     \u001b[38;5;28;01mraise\u001b[39;00m \u001b[38;5;167;01mRuntimeError\u001b[39;00m(\u001b[38;5;124m'\u001b[39m\u001b[38;5;124mError(s) in loading state_dict for \u001b[39m\u001b[38;5;132;01m{}\u001b[39;00m\u001b[38;5;124m:\u001b[39m\u001b[38;5;130;01m\\n\u001b[39;00m\u001b[38;5;130;01m\\t\u001b[39;00m\u001b[38;5;132;01m{}\u001b[39;00m\u001b[38;5;124m'\u001b[39m\u001b[38;5;241m.\u001b[39mformat(\n\u001b[1;32m   2153\u001b[0m                        \u001b[38;5;28mself\u001b[39m\u001b[38;5;241m.\u001b[39m\u001b[38;5;18m__class__\u001b[39m\u001b[38;5;241m.\u001b[39m\u001b[38;5;18m__name__\u001b[39m, \u001b[38;5;124m\"\u001b[39m\u001b[38;5;130;01m\\n\u001b[39;00m\u001b[38;5;130;01m\\t\u001b[39;00m\u001b[38;5;124m\"\u001b[39m\u001b[38;5;241m.\u001b[39mjoin(error_msgs)))\n\u001b[1;32m   2154\u001b[0m \u001b[38;5;28;01mreturn\u001b[39;00m _IncompatibleKeys(missing_keys, unexpected_keys)\n",
      "\u001b[0;31mRuntimeError\u001b[0m: Error(s) in loading state_dict for UNETR:\n\tMissing key(s) in state_dict: \"vit.patch_embedding.patch_embeddings.1.weight\", \"vit.patch_embedding.patch_embeddings.1.bias\", \"vit.blocks.0.attn.proj_q.weight\", \"vit.blocks.0.attn.proj_k.weight\", \"vit.blocks.0.attn.proj_v.weight\", \"vit.blocks.1.attn.proj_q.weight\", \"vit.blocks.1.attn.proj_k.weight\", \"vit.blocks.1.attn.proj_v.weight\", \"vit.blocks.2.attn.proj_q.weight\", \"vit.blocks.2.attn.proj_k.weight\", \"vit.blocks.2.attn.proj_v.weight\", \"vit.blocks.3.attn.proj_q.weight\", \"vit.blocks.3.attn.proj_k.weight\", \"vit.blocks.3.attn.proj_v.weight\", \"vit.blocks.4.attn.proj_q.weight\", \"vit.blocks.4.attn.proj_k.weight\", \"vit.blocks.4.attn.proj_v.weight\", \"vit.blocks.5.attn.proj_q.weight\", \"vit.blocks.5.attn.proj_k.weight\", \"vit.blocks.5.attn.proj_v.weight\", \"vit.blocks.6.attn.proj_q.weight\", \"vit.blocks.6.attn.proj_k.weight\", \"vit.blocks.6.attn.proj_v.weight\", \"vit.blocks.7.attn.proj_q.weight\", \"vit.blocks.7.attn.proj_k.weight\", \"vit.blocks.7.attn.proj_v.weight\", \"vit.blocks.8.attn.proj_q.weight\", \"vit.blocks.8.attn.proj_k.weight\", \"vit.blocks.8.attn.proj_v.weight\", \"vit.blocks.9.attn.proj_q.weight\", \"vit.blocks.9.attn.proj_k.weight\", \"vit.blocks.9.attn.proj_v.weight\", \"vit.blocks.10.attn.proj_q.weight\", \"vit.blocks.10.attn.proj_k.weight\", \"vit.blocks.10.attn.proj_v.weight\", \"vit.blocks.11.attn.proj_q.weight\", \"vit.blocks.11.attn.proj_k.weight\", \"vit.blocks.11.attn.proj_v.weight\". \n\tUnexpected key(s) in state_dict: \"vit.patch_embedding.patch_embeddings.weight\", \"vit.patch_embedding.patch_embeddings.bias\", \"vit.blocks.0.attn.qkv.weight\", \"vit.blocks.1.attn.qkv.weight\", \"vit.blocks.2.attn.qkv.weight\", \"vit.blocks.3.attn.qkv.weight\", \"vit.blocks.4.attn.qkv.weight\", \"vit.blocks.5.attn.qkv.weight\", \"vit.blocks.6.attn.qkv.weight\", \"vit.blocks.7.attn.qkv.weight\", \"vit.blocks.8.attn.qkv.weight\", \"vit.blocks.9.attn.qkv.weight\", \"vit.blocks.10.attn.qkv.weight\", \"vit.blocks.11.attn.qkv.weight\". \n\tsize mismatch for encoder1.layer.conv1.conv.weight: copying a param with shape torch.Size([48, 2, 3, 3, 3]) from checkpoint, the shape in current model is torch.Size([16, 1, 3, 3, 3]).\n\tsize mismatch for encoder1.layer.conv2.conv.weight: copying a param with shape torch.Size([48, 48, 3, 3, 3]) from checkpoint, the shape in current model is torch.Size([16, 16, 3, 3, 3]).\n\tsize mismatch for encoder1.layer.conv3.conv.weight: copying a param with shape torch.Size([48, 2, 1, 1, 1]) from checkpoint, the shape in current model is torch.Size([16, 1, 1, 1, 1]).\n\tsize mismatch for encoder2.transp_conv_init.conv.weight: copying a param with shape torch.Size([768, 96, 2, 2, 2]) from checkpoint, the shape in current model is torch.Size([768, 32, 2, 2, 2]).\n\tsize mismatch for encoder2.blocks.0.0.conv.weight: copying a param with shape torch.Size([96, 96, 2, 2, 2]) from checkpoint, the shape in current model is torch.Size([32, 32, 2, 2, 2]).\n\tsize mismatch for encoder2.blocks.0.1.conv1.conv.weight: copying a param with shape torch.Size([96, 96, 3, 3, 3]) from checkpoint, the shape in current model is torch.Size([32, 32, 3, 3, 3]).\n\tsize mismatch for encoder2.blocks.0.1.conv2.conv.weight: copying a param with shape torch.Size([96, 96, 3, 3, 3]) from checkpoint, the shape in current model is torch.Size([32, 32, 3, 3, 3]).\n\tsize mismatch for encoder2.blocks.1.0.conv.weight: copying a param with shape torch.Size([96, 96, 2, 2, 2]) from checkpoint, the shape in current model is torch.Size([32, 32, 2, 2, 2]).\n\tsize mismatch for encoder2.blocks.1.1.conv1.conv.weight: copying a param with shape torch.Size([96, 96, 3, 3, 3]) from checkpoint, the shape in current model is torch.Size([32, 32, 3, 3, 3]).\n\tsize mismatch for encoder2.blocks.1.1.conv2.conv.weight: copying a param with shape torch.Size([96, 96, 3, 3, 3]) from checkpoint, the shape in current model is torch.Size([32, 32, 3, 3, 3]).\n\tsize mismatch for encoder3.transp_conv_init.conv.weight: copying a param with shape torch.Size([768, 192, 2, 2, 2]) from checkpoint, the shape in current model is torch.Size([768, 64, 2, 2, 2]).\n\tsize mismatch for encoder3.blocks.0.0.conv.weight: copying a param with shape torch.Size([192, 192, 2, 2, 2]) from checkpoint, the shape in current model is torch.Size([64, 64, 2, 2, 2]).\n\tsize mismatch for encoder3.blocks.0.1.conv1.conv.weight: copying a param with shape torch.Size([192, 192, 3, 3, 3]) from checkpoint, the shape in current model is torch.Size([64, 64, 3, 3, 3]).\n\tsize mismatch for encoder3.blocks.0.1.conv2.conv.weight: copying a param with shape torch.Size([192, 192, 3, 3, 3]) from checkpoint, the shape in current model is torch.Size([64, 64, 3, 3, 3]).\n\tsize mismatch for encoder4.transp_conv_init.conv.weight: copying a param with shape torch.Size([768, 384, 2, 2, 2]) from checkpoint, the shape in current model is torch.Size([768, 128, 2, 2, 2]).\n\tsize mismatch for decoder5.transp_conv.conv.weight: copying a param with shape torch.Size([768, 384, 2, 2, 2]) from checkpoint, the shape in current model is torch.Size([768, 128, 2, 2, 2]).\n\tsize mismatch for decoder5.conv_block.conv1.conv.weight: copying a param with shape torch.Size([384, 768, 3, 3, 3]) from checkpoint, the shape in current model is torch.Size([128, 256, 3, 3, 3]).\n\tsize mismatch for decoder5.conv_block.conv2.conv.weight: copying a param with shape torch.Size([384, 384, 3, 3, 3]) from checkpoint, the shape in current model is torch.Size([128, 128, 3, 3, 3]).\n\tsize mismatch for decoder5.conv_block.conv3.conv.weight: copying a param with shape torch.Size([384, 768, 1, 1, 1]) from checkpoint, the shape in current model is torch.Size([128, 256, 1, 1, 1]).\n\tsize mismatch for decoder4.transp_conv.conv.weight: copying a param with shape torch.Size([384, 192, 2, 2, 2]) from checkpoint, the shape in current model is torch.Size([128, 64, 2, 2, 2]).\n\tsize mismatch for decoder4.conv_block.conv1.conv.weight: copying a param with shape torch.Size([192, 384, 3, 3, 3]) from checkpoint, the shape in current model is torch.Size([64, 128, 3, 3, 3]).\n\tsize mismatch for decoder4.conv_block.conv2.conv.weight: copying a param with shape torch.Size([192, 192, 3, 3, 3]) from checkpoint, the shape in current model is torch.Size([64, 64, 3, 3, 3]).\n\tsize mismatch for decoder4.conv_block.conv3.conv.weight: copying a param with shape torch.Size([192, 384, 1, 1, 1]) from checkpoint, the shape in current model is torch.Size([64, 128, 1, 1, 1]).\n\tsize mismatch for decoder3.transp_conv.conv.weight: copying a param with shape torch.Size([192, 96, 2, 2, 2]) from checkpoint, the shape in current model is torch.Size([64, 32, 2, 2, 2]).\n\tsize mismatch for decoder3.conv_block.conv1.conv.weight: copying a param with shape torch.Size([96, 192, 3, 3, 3]) from checkpoint, the shape in current model is torch.Size([32, 64, 3, 3, 3]).\n\tsize mismatch for decoder3.conv_block.conv2.conv.weight: copying a param with shape torch.Size([96, 96, 3, 3, 3]) from checkpoint, the shape in current model is torch.Size([32, 32, 3, 3, 3]).\n\tsize mismatch for decoder3.conv_block.conv3.conv.weight: copying a param with shape torch.Size([96, 192, 1, 1, 1]) from checkpoint, the shape in current model is torch.Size([32, 64, 1, 1, 1]).\n\tsize mismatch for decoder2.transp_conv.conv.weight: copying a param with shape torch.Size([96, 48, 2, 2, 2]) from checkpoint, the shape in current model is torch.Size([32, 16, 2, 2, 2]).\n\tsize mismatch for decoder2.conv_block.conv1.conv.weight: copying a param with shape torch.Size([48, 96, 3, 3, 3]) from checkpoint, the shape in current model is torch.Size([16, 32, 3, 3, 3]).\n\tsize mismatch for decoder2.conv_block.conv2.conv.weight: copying a param with shape torch.Size([48, 48, 3, 3, 3]) from checkpoint, the shape in current model is torch.Size([16, 16, 3, 3, 3]).\n\tsize mismatch for decoder2.conv_block.conv3.conv.weight: copying a param with shape torch.Size([48, 96, 1, 1, 1]) from checkpoint, the shape in current model is torch.Size([16, 32, 1, 1, 1]).\n\tsize mismatch for out.conv.conv.weight: copying a param with shape torch.Size([3, 48, 1, 1, 1]) from checkpoint, the shape in current model is torch.Size([3, 16, 1, 1, 1])."
     ]
    }
   ],
   "source": [
    "import torch\n",
    "import monai\n",
    "from monai.transforms import LoadImage, Orientation\n",
    "from monai.inferers import sliding_window_inference\n",
    "import matplotlib.pyplot as plt\n",
    "from skimage import measure\n",
    "\n",
    "# Path to the model weights\n",
    "model_weights = '/home/nada.saadi/CTPET/hecktor2022_cropped/MDA-CTPT-CT-FIRSTHALF/mda-ctpt-firsthalfct_.pth'\n",
    "device=torch.device(\"cuda\" if torch.cuda.is_available() else \"cpu\")\n",
    "# Load the model and set it to evaluation mode\n",
    "model = UNETR(\n",
    "    in_channels=1,\n",
    "    out_channels=3,\n",
    "    img_size=(96, 96, 96),\n",
    "    feature_size=16,\n",
    "    hidden_size=768,\n",
    "    mlp_dim=3072, \n",
    "    num_heads=12,\n",
    "    pos_embed=\"perceptron\",\n",
    "    norm_name=\"instance\",\n",
    "    res_block=True,\n",
    "    dropout_rate=0.0,\n",
    ").to(device)\n",
    "\n",
    "model.load_state_dict(torch.load(model_weights))\n",
    "model.eval()\n",
    "\n",
    "slice_num = 100\n",
    "seg = monai.transforms.LoadImage(ensure_channel_first=True)('data/MDA-007/MDA-007_gt.nii.gz')\n",
    "plt.figure(\"image\", (18, 10))\n",
    "seg = monai.transforms.Orientation(axcodes='RAS')(seg[0])\n",
    "plt.subplot(2, 4, 1)\n",
    "plt.imshow(seg[:,:,slice_num], cmap='gray')\n",
    "print(seg.shape)\n",
    "\n",
    "contours = measure.find_contours(seg[:,slice_num,:], 0.5)[0]\n",
    "plt.plot(contours[:, 1], contours[:, 0], linewidth=0.8, c='red',  alpha = 0.8)\n",
    "\n",
    "ct = monai.transforms.LoadImage(ensure_channel_first=True)('data/MDA-007/MDA-007_ct.nii.gz')\n",
    "ct = monai.transforms.Orientation(axcodes='RAS')(ct[0])\n",
    "ct = torch.clip(ct, min=-1000, max=600)\n",
    "plt.subplot(2, 4, 2)\n",
    "plt.imshow(ct[:,:,slice_num], cmap='gray')\n",
    "plt.plot(contours[:, 1], contours[:, 0], linewidth=0.8, c='red',  alpha = 0.8)\n",
    "\n",
    "pt = monai.transforms.LoadImage(ensure_channel_first=True)('data/MDA-007/MDA-007_pt.nii.gz')\n",
    "pt = monai.transforms.Orientation(axcodes='RAS')(pt[0])\n",
    "plt.subplot(2, 4, 3)\n",
    "plt.imshow(pt[:,:,slice_num], cmap='gray')\n",
    "plt.plot(contours[:, 1], contours[:, 0], linewidth=0.8, c='red',  alpha = 0.8)\n",
    "\n"
   ]
  }
 ],
 "metadata": {
  "kernelspec": {
   "display_name": "clam",
   "language": "python",
   "name": "python3"
  },
  "language_info": {
   "codemirror_mode": {
    "name": "ipython",
    "version": 3
   },
   "file_extension": ".py",
   "mimetype": "text/x-python",
   "name": "python",
   "nbconvert_exporter": "python",
   "pygments_lexer": "ipython3",
   "version": "3.8.0"
  }
 },
 "nbformat": 4,
 "nbformat_minor": 2
}
