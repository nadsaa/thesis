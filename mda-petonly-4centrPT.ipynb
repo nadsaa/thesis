{
 "cells": [
  {
   "cell_type": "code",
   "execution_count": 2,
   "metadata": {},
   "outputs": [
    {
     "data": {
      "text/plain": [
       "1"
      ]
     },
     "execution_count": 2,
     "metadata": {},
     "output_type": "execute_result"
    }
   ],
   "source": [
    "import os\n",
    "os.environ[\"CUDA_DEVICE_ORDER\"] = \"PCI_BUS_ID\"\n",
    "os.environ[\"CUDA_VISIBLE_DEVICES\"] = \"0\" \n",
    "import torch\n",
    "torch.cuda.device_count()"
   ]
  },
  {
   "cell_type": "code",
   "execution_count": 3,
   "metadata": {},
   "outputs": [],
   "source": [
    "import os\n",
    "import shutil\n",
    "import tempfile\n",
    "\n",
    "import matplotlib.pyplot as plt\n",
    "import numpy as np\n",
    "from tqdm import tqdm\n",
    "from glob import glob\n",
    "# import wandb\n",
    "\n",
    "import monai\n",
    "from monai.losses import DiceCELoss, DiceFocalLoss, FocalLoss\n",
    "from monai.inferers import sliding_window_inference\n",
    "from monai import transforms\n",
    "\n",
    "from monai.transforms import (\n",
    "    AsDiscrete,\n",
    "    Compose,\n",
    "    CropForegroundd,\n",
    "    LoadImaged,\n",
    "    Orientationd,\n",
    "    RandFlipd,\n",
    "    RandCropByPosNegLabeld,\n",
    "    RandShiftIntensityd,\n",
    "    ScaleIntensityRanged,\n",
    "    Spacingd,\n",
    "    RandRotate90d,\n",
    "    MapTransform,\n",
    "    ScaleIntensityd,\n",
    "    #AddChanneld,\n",
    "    SpatialPadd,\n",
    "    CenterSpatialCropd,\n",
    "    EnsureChannelFirstd,\n",
    "    ConcatItemsd,\n",
    "    AdjustContrastd, \n",
    "    Rand3DElasticd,\n",
    "    HistogramNormalized,\n",
    "    NormalizeIntensityd,\n",
    "    Invertd,\n",
    "    SaveImage,\n",
    "\n",
    ")\n",
    "\n",
    "from monai.config import print_config\n",
    "from monai.metrics import DiceMetric\n",
    "from monai.networks.nets import SwinUNETR, UNETR, SegResNet\n",
    "\n",
    "from monai.data import (\n",
    "    DataLoader,\n",
    "    CacheDataset,\n",
    "    load_decathlon_datalist,\n",
    "    decollate_batch,\n",
    ")\n",
    "from monai import data\n",
    "from monai.data import (\n",
    "    Dataset,\n",
    "    DataLoader,\n",
    "    CacheDataset,\n",
    "    load_decathlon_datalist,\n",
    "    decollate_batch,\n",
    ")\n",
    "\n",
    "\n",
    "from monai.utils import first, set_determinism\n",
    "from sklearn.model_selection import train_test_split\n",
    "import json\n",
    "\n",
    "\n",
    "import torch"
   ]
  },
  {
   "cell_type": "code",
   "execution_count": 4,
   "metadata": {},
   "outputs": [],
   "source": [
    "set_determinism(seed=1024)"
   ]
  },
  {
   "cell_type": "code",
   "execution_count": 5,
   "metadata": {},
   "outputs": [],
   "source": [
    "data_dir = '/home/nada.saadi/MIS-FM/hecktor2022_cropped'\n",
    "json_dir= '/home/nada.saadi/MIS-FM/hecktor2022_cropped/MDA_PET_train_new.json'"
   ]
  },
  {
   "cell_type": "code",
   "execution_count": 6,
   "metadata": {},
   "outputs": [],
   "source": [
    "def datafold_read(datalist, basedir, fold=0, key=\"training\"):\n",
    "    with open(datalist) as f:\n",
    "        json_data = json.load(f)\n",
    "\n",
    "    json_data = json_data[key]\n",
    "\n",
    "    for d in json_data:\n",
    "        for k in d:\n",
    "            if isinstance(d[k], list):\n",
    "                d[k] = [os.path.join(basedir, iv) for iv in d[k]]\n",
    "            elif isinstance(d[k], str):\n",
    "                d[k] = os.path.join(basedir, d[k]) if len(d[k]) > 0 else d[k]\n",
    "\n",
    "    tr = []\n",
    "    val = []\n",
    "    for d in json_data:\n",
    "        if \"fold\" in d and d[\"fold\"] == fold:\n",
    "            val.append(d)\n",
    "        else:\n",
    "            tr.append(d)\n",
    "\n",
    "    return tr, val"
   ]
  },
  {
   "cell_type": "code",
   "execution_count": 7,
   "metadata": {},
   "outputs": [
    {
     "data": {
      "text/plain": [
       "(160, 36)"
      ]
     },
     "execution_count": 7,
     "metadata": {},
     "output_type": "execute_result"
    }
   ],
   "source": [
    "train_data, valid_data = datafold_read(datalist=json_dir, basedir=data_dir, fold=0)\n",
    "len(train_data), len(valid_data)"
   ]
  },
  {
   "cell_type": "code",
   "execution_count": 8,
   "metadata": {},
   "outputs": [
    {
     "data": {
      "text/plain": [
       "[{'id': '/home/nada.saadi/MIS-FM/hecktor2022_cropped/data/MDA-005',\n",
       "  'pt': '/home/nada.saadi/MIS-FM/hecktor2022_cropped/data/MDA-005/MDA-005_pt.nii.gz',\n",
       "  'seg': '/home/nada.saadi/MIS-FM/hecktor2022_cropped/data/MDA-005/MDA-005_gt.nii.gz',\n",
       "  'fold': 0},\n",
       " {'id': '/home/nada.saadi/MIS-FM/hecktor2022_cropped/data/MDA-024',\n",
       "  'pt': '/home/nada.saadi/MIS-FM/hecktor2022_cropped/data/MDA-024/MDA-024_pt.nii.gz',\n",
       "  'seg': '/home/nada.saadi/MIS-FM/hecktor2022_cropped/data/MDA-024/MDA-024_gt.nii.gz',\n",
       "  'fold': 0},\n",
       " {'id': '/home/nada.saadi/MIS-FM/hecktor2022_cropped/data/MDA-026',\n",
       "  'pt': '/home/nada.saadi/MIS-FM/hecktor2022_cropped/data/MDA-026/MDA-026_pt.nii.gz',\n",
       "  'seg': '/home/nada.saadi/MIS-FM/hecktor2022_cropped/data/MDA-026/MDA-026_gt.nii.gz',\n",
       "  'fold': 0},\n",
       " {'id': '/home/nada.saadi/MIS-FM/hecktor2022_cropped/data/MDA-053',\n",
       "  'pt': '/home/nada.saadi/MIS-FM/hecktor2022_cropped/data/MDA-053/MDA-053_pt.nii.gz',\n",
       "  'seg': '/home/nada.saadi/MIS-FM/hecktor2022_cropped/data/MDA-053/MDA-053_gt.nii.gz',\n",
       "  'fold': 0},\n",
       " {'id': '/home/nada.saadi/MIS-FM/hecktor2022_cropped/data/MDA-065',\n",
       "  'pt': '/home/nada.saadi/MIS-FM/hecktor2022_cropped/data/MDA-065/MDA-065_pt.nii.gz',\n",
       "  'seg': '/home/nada.saadi/MIS-FM/hecktor2022_cropped/data/MDA-065/MDA-065_gt.nii.gz',\n",
       "  'fold': 0},\n",
       " {'id': '/home/nada.saadi/MIS-FM/hecktor2022_cropped/data/MDA-068',\n",
       "  'pt': '/home/nada.saadi/MIS-FM/hecktor2022_cropped/data/MDA-068/MDA-068_pt.nii.gz',\n",
       "  'seg': '/home/nada.saadi/MIS-FM/hecktor2022_cropped/data/MDA-068/MDA-068_gt.nii.gz',\n",
       "  'fold': 0},\n",
       " {'id': '/home/nada.saadi/MIS-FM/hecktor2022_cropped/data/MDA-073',\n",
       "  'pt': '/home/nada.saadi/MIS-FM/hecktor2022_cropped/data/MDA-073/MDA-073_pt.nii.gz',\n",
       "  'seg': '/home/nada.saadi/MIS-FM/hecktor2022_cropped/data/MDA-073/MDA-073_gt.nii.gz',\n",
       "  'fold': 0},\n",
       " {'id': '/home/nada.saadi/MIS-FM/hecktor2022_cropped/data/MDA-078',\n",
       "  'pt': '/home/nada.saadi/MIS-FM/hecktor2022_cropped/data/MDA-078/MDA-078_pt.nii.gz',\n",
       "  'seg': '/home/nada.saadi/MIS-FM/hecktor2022_cropped/data/MDA-078/MDA-078_gt.nii.gz',\n",
       "  'fold': 0},\n",
       " {'id': '/home/nada.saadi/MIS-FM/hecktor2022_cropped/data/MDA-086',\n",
       "  'pt': '/home/nada.saadi/MIS-FM/hecktor2022_cropped/data/MDA-086/MDA-086_pt.nii.gz',\n",
       "  'seg': '/home/nada.saadi/MIS-FM/hecktor2022_cropped/data/MDA-086/MDA-086_gt.nii.gz',\n",
       "  'fold': 0},\n",
       " {'id': '/home/nada.saadi/MIS-FM/hecktor2022_cropped/data/MDA-091',\n",
       "  'pt': '/home/nada.saadi/MIS-FM/hecktor2022_cropped/data/MDA-091/MDA-091_pt.nii.gz',\n",
       "  'seg': '/home/nada.saadi/MIS-FM/hecktor2022_cropped/data/MDA-091/MDA-091_gt.nii.gz',\n",
       "  'fold': 0},\n",
       " {'id': '/home/nada.saadi/MIS-FM/hecktor2022_cropped/data/MDA-101',\n",
       "  'pt': '/home/nada.saadi/MIS-FM/hecktor2022_cropped/data/MDA-101/MDA-101_pt.nii.gz',\n",
       "  'seg': '/home/nada.saadi/MIS-FM/hecktor2022_cropped/data/MDA-101/MDA-101_gt.nii.gz',\n",
       "  'fold': 0},\n",
       " {'id': '/home/nada.saadi/MIS-FM/hecktor2022_cropped/data/MDA-106',\n",
       "  'pt': '/home/nada.saadi/MIS-FM/hecktor2022_cropped/data/MDA-106/MDA-106_pt.nii.gz',\n",
       "  'seg': '/home/nada.saadi/MIS-FM/hecktor2022_cropped/data/MDA-106/MDA-106_gt.nii.gz',\n",
       "  'fold': 0},\n",
       " {'id': '/home/nada.saadi/MIS-FM/hecktor2022_cropped/data/MDA-107',\n",
       "  'pt': '/home/nada.saadi/MIS-FM/hecktor2022_cropped/data/MDA-107/MDA-107_pt.nii.gz',\n",
       "  'seg': '/home/nada.saadi/MIS-FM/hecktor2022_cropped/data/MDA-107/MDA-107_gt.nii.gz',\n",
       "  'fold': 0},\n",
       " {'id': '/home/nada.saadi/MIS-FM/hecktor2022_cropped/data/MDA-115',\n",
       "  'pt': '/home/nada.saadi/MIS-FM/hecktor2022_cropped/data/MDA-115/MDA-115_pt.nii.gz',\n",
       "  'seg': '/home/nada.saadi/MIS-FM/hecktor2022_cropped/data/MDA-115/MDA-115_gt.nii.gz',\n",
       "  'fold': 0},\n",
       " {'id': '/home/nada.saadi/MIS-FM/hecktor2022_cropped/data/MDA-120',\n",
       "  'pt': '/home/nada.saadi/MIS-FM/hecktor2022_cropped/data/MDA-120/MDA-120_pt.nii.gz',\n",
       "  'seg': '/home/nada.saadi/MIS-FM/hecktor2022_cropped/data/MDA-120/MDA-120_gt.nii.gz',\n",
       "  'fold': 0},\n",
       " {'id': '/home/nada.saadi/MIS-FM/hecktor2022_cropped/data/MDA-127',\n",
       "  'pt': '/home/nada.saadi/MIS-FM/hecktor2022_cropped/data/MDA-127/MDA-127_pt.nii.gz',\n",
       "  'seg': '/home/nada.saadi/MIS-FM/hecktor2022_cropped/data/MDA-127/MDA-127_gt.nii.gz',\n",
       "  'fold': 0},\n",
       " {'id': '/home/nada.saadi/MIS-FM/hecktor2022_cropped/data/MDA-129',\n",
       "  'pt': '/home/nada.saadi/MIS-FM/hecktor2022_cropped/data/MDA-129/MDA-129_pt.nii.gz',\n",
       "  'seg': '/home/nada.saadi/MIS-FM/hecktor2022_cropped/data/MDA-129/MDA-129_gt.nii.gz',\n",
       "  'fold': 0},\n",
       " {'id': '/home/nada.saadi/MIS-FM/hecktor2022_cropped/data/MDA-130',\n",
       "  'pt': '/home/nada.saadi/MIS-FM/hecktor2022_cropped/data/MDA-130/MDA-130_pt.nii.gz',\n",
       "  'seg': '/home/nada.saadi/MIS-FM/hecktor2022_cropped/data/MDA-130/MDA-130_gt.nii.gz',\n",
       "  'fold': 0},\n",
       " {'id': '/home/nada.saadi/MIS-FM/hecktor2022_cropped/data/MDA-132',\n",
       "  'pt': '/home/nada.saadi/MIS-FM/hecktor2022_cropped/data/MDA-132/MDA-132_pt.nii.gz',\n",
       "  'seg': '/home/nada.saadi/MIS-FM/hecktor2022_cropped/data/MDA-132/MDA-132_gt.nii.gz',\n",
       "  'fold': 0},\n",
       " {'id': '/home/nada.saadi/MIS-FM/hecktor2022_cropped/data/MDA-137',\n",
       "  'pt': '/home/nada.saadi/MIS-FM/hecktor2022_cropped/data/MDA-137/MDA-137_pt.nii.gz',\n",
       "  'seg': '/home/nada.saadi/MIS-FM/hecktor2022_cropped/data/MDA-137/MDA-137_gt.nii.gz',\n",
       "  'fold': 0},\n",
       " {'id': '/home/nada.saadi/MIS-FM/hecktor2022_cropped/data/MDA-138',\n",
       "  'pt': '/home/nada.saadi/MIS-FM/hecktor2022_cropped/data/MDA-138/MDA-138_pt.nii.gz',\n",
       "  'seg': '/home/nada.saadi/MIS-FM/hecktor2022_cropped/data/MDA-138/MDA-138_gt.nii.gz',\n",
       "  'fold': 0},\n",
       " {'id': '/home/nada.saadi/MIS-FM/hecktor2022_cropped/data/MDA-139',\n",
       "  'pt': '/home/nada.saadi/MIS-FM/hecktor2022_cropped/data/MDA-139/MDA-139_pt.nii.gz',\n",
       "  'seg': '/home/nada.saadi/MIS-FM/hecktor2022_cropped/data/MDA-139/MDA-139_gt.nii.gz',\n",
       "  'fold': 0},\n",
       " {'id': '/home/nada.saadi/MIS-FM/hecktor2022_cropped/data/MDA-140',\n",
       "  'pt': '/home/nada.saadi/MIS-FM/hecktor2022_cropped/data/MDA-140/MDA-140_pt.nii.gz',\n",
       "  'seg': '/home/nada.saadi/MIS-FM/hecktor2022_cropped/data/MDA-140/MDA-140_gt.nii.gz',\n",
       "  'fold': 0},\n",
       " {'id': '/home/nada.saadi/MIS-FM/hecktor2022_cropped/data/MDA-146',\n",
       "  'pt': '/home/nada.saadi/MIS-FM/hecktor2022_cropped/data/MDA-146/MDA-146_pt.nii.gz',\n",
       "  'seg': '/home/nada.saadi/MIS-FM/hecktor2022_cropped/data/MDA-146/MDA-146_gt.nii.gz',\n",
       "  'fold': 0},\n",
       " {'id': '/home/nada.saadi/MIS-FM/hecktor2022_cropped/data/MDA-149',\n",
       "  'pt': '/home/nada.saadi/MIS-FM/hecktor2022_cropped/data/MDA-149/MDA-149_pt.nii.gz',\n",
       "  'seg': '/home/nada.saadi/MIS-FM/hecktor2022_cropped/data/MDA-149/MDA-149_gt.nii.gz',\n",
       "  'fold': 0},\n",
       " {'id': '/home/nada.saadi/MIS-FM/hecktor2022_cropped/data/MDA-151',\n",
       "  'pt': '/home/nada.saadi/MIS-FM/hecktor2022_cropped/data/MDA-151/MDA-151_pt.nii.gz',\n",
       "  'seg': '/home/nada.saadi/MIS-FM/hecktor2022_cropped/data/MDA-151/MDA-151_gt.nii.gz',\n",
       "  'fold': 0},\n",
       " {'id': '/home/nada.saadi/MIS-FM/hecktor2022_cropped/data/MDA-152',\n",
       "  'pt': '/home/nada.saadi/MIS-FM/hecktor2022_cropped/data/MDA-152/MDA-152_pt.nii.gz',\n",
       "  'seg': '/home/nada.saadi/MIS-FM/hecktor2022_cropped/data/MDA-152/MDA-152_gt.nii.gz',\n",
       "  'fold': 0},\n",
       " {'id': '/home/nada.saadi/MIS-FM/hecktor2022_cropped/data/MDA-153',\n",
       "  'pt': '/home/nada.saadi/MIS-FM/hecktor2022_cropped/data/MDA-153/MDA-153_pt.nii.gz',\n",
       "  'seg': '/home/nada.saadi/MIS-FM/hecktor2022_cropped/data/MDA-153/MDA-153_gt.nii.gz',\n",
       "  'fold': 0},\n",
       " {'id': '/home/nada.saadi/MIS-FM/hecktor2022_cropped/data/MDA-159',\n",
       "  'pt': '/home/nada.saadi/MIS-FM/hecktor2022_cropped/data/MDA-159/MDA-159_pt.nii.gz',\n",
       "  'seg': '/home/nada.saadi/MIS-FM/hecktor2022_cropped/data/MDA-159/MDA-159_gt.nii.gz',\n",
       "  'fold': 0},\n",
       " {'id': '/home/nada.saadi/MIS-FM/hecktor2022_cropped/data/MDA-167',\n",
       "  'pt': '/home/nada.saadi/MIS-FM/hecktor2022_cropped/data/MDA-167/MDA-167_pt.nii.gz',\n",
       "  'seg': '/home/nada.saadi/MIS-FM/hecktor2022_cropped/data/MDA-167/MDA-167_gt.nii.gz',\n",
       "  'fold': 0},\n",
       " {'id': '/home/nada.saadi/MIS-FM/hecktor2022_cropped/data/MDA-181',\n",
       "  'pt': '/home/nada.saadi/MIS-FM/hecktor2022_cropped/data/MDA-181/MDA-181_pt.nii.gz',\n",
       "  'seg': '/home/nada.saadi/MIS-FM/hecktor2022_cropped/data/MDA-181/MDA-181_gt.nii.gz',\n",
       "  'fold': 0},\n",
       " {'id': '/home/nada.saadi/MIS-FM/hecktor2022_cropped/data/MDA-183',\n",
       "  'pt': '/home/nada.saadi/MIS-FM/hecktor2022_cropped/data/MDA-183/MDA-183_pt.nii.gz',\n",
       "  'seg': '/home/nada.saadi/MIS-FM/hecktor2022_cropped/data/MDA-183/MDA-183_gt.nii.gz',\n",
       "  'fold': 0},\n",
       " {'id': '/home/nada.saadi/MIS-FM/hecktor2022_cropped/data/MDA-187',\n",
       "  'pt': '/home/nada.saadi/MIS-FM/hecktor2022_cropped/data/MDA-187/MDA-187_pt.nii.gz',\n",
       "  'seg': '/home/nada.saadi/MIS-FM/hecktor2022_cropped/data/MDA-187/MDA-187_gt.nii.gz',\n",
       "  'fold': 0},\n",
       " {'id': '/home/nada.saadi/MIS-FM/hecktor2022_cropped/data/MDA-190',\n",
       "  'pt': '/home/nada.saadi/MIS-FM/hecktor2022_cropped/data/MDA-190/MDA-190_pt.nii.gz',\n",
       "  'seg': '/home/nada.saadi/MIS-FM/hecktor2022_cropped/data/MDA-190/MDA-190_gt.nii.gz',\n",
       "  'fold': 0},\n",
       " {'id': '/home/nada.saadi/MIS-FM/hecktor2022_cropped/data/MDA-191',\n",
       "  'pt': '/home/nada.saadi/MIS-FM/hecktor2022_cropped/data/MDA-191/MDA-191_pt.nii.gz',\n",
       "  'seg': '/home/nada.saadi/MIS-FM/hecktor2022_cropped/data/MDA-191/MDA-191_gt.nii.gz',\n",
       "  'fold': 0},\n",
       " {'id': '/home/nada.saadi/MIS-FM/hecktor2022_cropped/data/MDA-195',\n",
       "  'pt': '/home/nada.saadi/MIS-FM/hecktor2022_cropped/data/MDA-195/MDA-195_pt.nii.gz',\n",
       "  'seg': '/home/nada.saadi/MIS-FM/hecktor2022_cropped/data/MDA-195/MDA-195_gt.nii.gz',\n",
       "  'fold': 0}]"
      ]
     },
     "execution_count": 8,
     "metadata": {},
     "output_type": "execute_result"
    }
   ],
   "source": [
    "valid_data"
   ]
  },
  {
   "cell_type": "code",
   "execution_count": 8,
   "metadata": {},
   "outputs": [],
   "source": [
    "class ClipCT(MapTransform):\n",
    "    \"\"\"\n",
    "    Convert labels to multi channels based on hecktor classes:\n",
    "    label 1 is the tumor\n",
    "    label 2 is the lymph node\n",
    "\n",
    "    \"\"\"\n",
    "\n",
    "    def __call__(self, data):\n",
    "        d = dict(data)\n",
    "        for key in self.keys:\n",
    "            if key == \"ct\":\n",
    "                d[key] = torch.clip(d[key], min=-200, max=200)\n",
    "            # elif key == \"pt\":\n",
    "            #     d[key] = torch.clip(d[key], d[key].min(), 5)\n",
    "        return d\n",
    "\n",
    "class MulPTFM(MapTransform):\n",
    "    \"\"\"\n",
    "    Mult PT and FM \n",
    "\n",
    "    \"\"\"\n",
    "\n",
    "    def __call__(self, data):\n",
    "        d = dict(data)\n",
    "\n",
    "        fm = d[\"ct\"] > 0\n",
    "        d[\"pt\"] = d[\"pt\"] * fm\n",
    "        return d\n",
    "\n",
    "class SelectClass(MapTransform):\n",
    "    \"\"\"\n",
    "    Select the class for which you want to fine tune the model \n",
    "\n",
    "    \"\"\"\n",
    "    # def __init__(self, keys, cls=1):\n",
    "    #     super(self).__init__(keys)\n",
    "    #     self.cls = cls\n",
    "\n",
    "    def __call__(self, data):\n",
    "        d = dict(data)\n",
    "        d[\"seg\"][d[\"seg\"] == 1] = 0\n",
    "        # d[\"seg\"][d[\"seg\"] == 2] = 1\n",
    "        \n",
    "        return d"
   ]
  },
  {
   "cell_type": "code",
   "execution_count": 9,
   "metadata": {},
   "outputs": [
    {
     "name": "stdout",
     "output_type": "stream",
     "text": [
      "Validation data saved to /home/nada.saadi/CTPET/hecktor2022_cropped/test_pet_only_mda.json\n"
     ]
    }
   ],
   "source": [
    "import json\n",
    "import os\n",
    "\n",
    "# Assuming 'datalist' and 'data_dir' are defined and contain the correct paths\n",
    "# Example:\n",
    "# datalist = '/path/to/your/datalist.json'\n",
    "# data_dir = '/path/to/your/data/directory'\n",
    "\n",
    "def datafold_read(datalist, basedir, fold=0, key=\"training\"):\n",
    "    with open(datalist) as f:\n",
    "        json_data = json.load(f)\n",
    "\n",
    "    json_data = json_data[key]\n",
    "\n",
    "    for d in json_data:\n",
    "        for k in d:\n",
    "            if isinstance(d[k], list):\n",
    "                d[k] = [os.path.join(basedir, iv) for iv in d[k]]\n",
    "            elif isinstance(d[k], str):\n",
    "                d[k] = os.path.join(basedir, d[k]) if len(d[k]) > 0 else d[k]\n",
    "\n",
    "    tr = []\n",
    "    val = []\n",
    "    for d in json_data:\n",
    "        if \"fold\" in d and d[\"fold\"] == fold:\n",
    "            val.append(d)\n",
    "        else:\n",
    "            tr.append(d)\n",
    "\n",
    "    return tr, val\n",
    "\n",
    "# Replace 'json_dir' and 'data_dir' with the actual paths\n",
    "train_data, valid_data = datafold_read(datalist=json_dir, basedir=data_dir, fold=0)\n",
    "\n",
    "# Now, save the 'valid_data' to a JSON file \n",
    "\n",
    "json_file_path = '/home/nada.saadi/CTPET/hecktor2022_cropped/test_pet_only_mda.json'  # Specify the path where you want to save the JSON\n",
    "with open(json_file_path, 'w') as outfile:\n",
    "    json.dump(valid_data, outfile, indent=4)\n",
    "\n",
    "print(f\"Validation data saved to {json_file_path}\")\n"
   ]
  },
  {
   "cell_type": "code",
   "execution_count": 10,
   "metadata": {},
   "outputs": [
    {
     "name": "stdout",
     "output_type": "stream",
     "text": [
      "Number of entries in the JSON file: 36\n"
     ]
    }
   ],
   "source": [
    "import json\n",
    "\n",
    "# Path to your JSON file\n",
    "json_file_path = '/home/nada.saadi/CTPET/hecktor2022_cropped/test_pet_only_mda.json'\n",
    "\n",
    "# Load the JSON file\n",
    "with open(json_file_path, 'r') as infile:\n",
    "    data = json.load(infile)\n",
    "\n",
    "# Count the number of entries\n",
    "number_of_files = len(data)\n",
    "\n",
    "print(f\"Number of entries in the JSON file: {number_of_files}\")"
   ]
  },
  {
   "cell_type": "code",
   "execution_count": 8,
   "metadata": {},
   "outputs": [],
   "source": [
    "num_samples = 4\n",
    "\n",
    "train_transforms = Compose(\n",
    "    [\n",
    "        LoadImaged(keys=[\"pt\", \"seg\"], ensure_channel_first = True),\n",
    "        SpatialPadd(keys=[\"pt\",  \"seg\"], spatial_size=(200, 200, 310), method='end'),\n",
    "        Orientationd(keys=[\"pt\",  \"seg\"], axcodes=\"PLS\"),\n",
    "        #NormalizeIntensityd(keys=[\"pt\"]),\n",
    "        ClipCT(keys=[\"pt\"]),\n",
    "        ScaleIntensityd(keys=[\"pt\"], minv=0, maxv=1),\n",
    "        #MulPTFM(keys=[\"ct\",\"pt\"]),\n",
    "        #ConcatItemsd(keys=[\"pt\", \"ct\"], name=\"ctpt\"),\n",
    "        #NormalizeIntensityd(keys=[\"ctpt\"], channel_wise=True),\n",
    "        RandCropByPosNegLabeld(\n",
    "            keys=[\"pt\", \"seg\"],\n",
    "            label_key=\"seg\",\n",
    "            spatial_size=(96, 96, 96),\n",
    "            pos=1,\n",
    "            neg=1,\n",
    "            num_samples=num_samples,\n",
    "            image_key=\"pt\",\n",
    "            image_threshold=0,\n",
    "        ),\n",
    "        RandFlipd(\n",
    "            keys=[\"pt\", \"seg\"],\n",
    "            spatial_axis=[0],\n",
    "            prob=0.20,\n",
    "        ),\n",
    "        RandFlipd(\n",
    "            keys=[\"pt\", \"seg\"],\n",
    "            spatial_axis=[1],\n",
    "            prob=0.20,\n",
    "        ),\n",
    "        RandFlipd(\n",
    "            keys=[\"pt\", \"seg\"],\n",
    "            spatial_axis=[2],\n",
    "            prob=0.20,\n",
    "        ),\n",
    "        RandRotate90d(\n",
    "            keys=[\"pt\", \"seg\"],\n",
    "            prob=0.20,\n",
    "            max_k=3,\n",
    "        ),\n",
    "    ]\n",
    ")\n",
    "val_transforms = Compose(\n",
    "    [\n",
    "        LoadImaged(keys=[\"pt\", \"seg\"], ensure_channel_first = True),\n",
    "        SpatialPadd(keys=[\"pt\", \"seg\"], spatial_size=(200, 200, 310), method='end'),\n",
    "        Orientationd(keys=[\"pt\",  \"seg\"], axcodes=\"PLS\"),\n",
    "        #NormalizeIntensityd(keys=[\"pt\"]),\n",
    "        ClipCT(keys=[\"pt\"]),\n",
    "        ScaleIntensityd(keys=[\"pt\"], minv=0, maxv=1),\n",
    "        #MulPTFM(keys=[\"ct\",\"pt\"]),\n",
    "        #ConcatItemsd(keys=[\"pt\", \"ct\"], name=\"ctpt\"),\n",
    "    ]\n",
    ")\n",
    "\n",
    "def create_dataloader(data, transforms, batch_size=2, shuffle=True):\n",
    "    # Create CacheDataset with the reformatted data\n",
    "    dataset = Dataset(data=data, transform=transforms)\n",
    "\n",
    "    # Create DataLoader\n",
    "    return DataLoader(dataset, batch_size=batch_size, shuffle=shuffle, num_workers=8)\n",
    "\n",
    "\n",
    "\n",
    "train_loader = create_dataloader(train_data, train_transforms, shuffle=True)\n",
    "val_loader = create_dataloader(valid_data, val_transforms, shuffle=False)"
   ]
  },
  {
   "cell_type": "code",
   "execution_count": 9,
   "metadata": {},
   "outputs": [
    {
     "name": "stderr",
     "output_type": "stream",
     "text": [
      "/home/nada.saadi/miniconda3/envs/clam/lib/python3.8/site-packages/monai/utils/deprecate_utils.py:221: FutureWarning: monai.networks.nets.unetr UNETR.__init__:pos_embed: Argument `pos_embed` has been deprecated since version 1.2. It will be removed in version 1.4. please use `proj_type` instead.\n",
      "  warn_deprecated(argname, msg, warning_category)\n"
     ]
    }
   ],
   "source": [
    "import torch\n",
    "import torch.nn as nn\n",
    "from monai.networks.nets import UNETR\n",
    "\n",
    "\n",
    "os.environ[\"CUDA_DEVICE_ORDER\"] = \"PCI_BUS_ID\"\n",
    "device = torch.device(\"cuda\" if torch.cuda.is_available() else \"cpu\")\n",
    "# Load the pretrained weights\n",
    "pretrained_weights = torch.load('/home/nada.saadi/CTPET/hecktor2022_cropped/4centers-ctonly/4centers-ctonly.pth')\n",
    "\n",
    "# Instantiate the new model with 2 input channels\n",
    "new_model = UNETR(\n",
    "    in_channels=1, \n",
    "    out_channels=3,\n",
    "    img_size=(96, 96, 96),\n",
    "    feature_size=16,\n",
    "    hidden_size=768,\n",
    "    mlp_dim=3072,\n",
    "    num_heads=12,\n",
    "    pos_embed=\"perceptron\",\n",
    "    norm_name=\"instance\",\n",
    "    res_block=True,\n",
    "    dropout_rate=0.0,\n",
    ").to(device)"
   ]
  },
  {
   "cell_type": "code",
   "execution_count": 10,
   "metadata": {},
   "outputs": [],
   "source": [
    "torch.backends.cudnn.benchmark = True\n",
    "def poly_lr(epoch, max_epochs, initial_lr, exponent=0.9):\n",
    "    return initial_lr * (1 - epoch / max_epochs)**exponent\n",
    "\n",
    "loss_function = DiceCELoss(to_onehot_y=True, softmax=True)\n",
    "optimizer = torch.optim.AdamW(new_model.parameters(), lr=1e-4, weight_decay=1e-5)"
   ]
  },
  {
   "cell_type": "code",
   "execution_count": 11,
   "metadata": {},
   "outputs": [],
   "source": [
    "model_dir='/home/nada.saadi/CTPET/hecktor2022_cropped/mda-ptonly-PT'\n",
    "max_iterations = 18000\n",
    "eval_num = 100\n",
    "\n",
    "## running stats\n",
    "global_step = 0\n",
    "dice_val_best = 0.0\n",
    "global_step_best = 0\n",
    "epoch_loss_values = []\n",
    "metric_values = []\n",
    "metric_values_tumor = []\n",
    "metric_values_lymph = []\n",
    "\n",
    "\n",
    "loss_function = DiceCELoss(to_onehot_y=True, softmax=True)\n",
    "optimizer = torch.optim.AdamW(new_model.parameters(), lr=1e-4, weight_decay=1e-5)\n",
    "\n",
    "\n",
    "post_label = AsDiscrete(to_onehot=3)\n",
    "post_pred = AsDiscrete(argmax=True, to_onehot=3)\n",
    "\n",
    "dice_metric = DiceMetric(include_background=False, reduction=\"mean\", get_not_nans=False)\n",
    "dice_metric_batch = DiceMetric(include_background=False, reduction=\"mean_batch\")\n",
    "\n",
    "\n",
    "##-----------------------------------------------------------------------------\n",
    "\n",
    "def validation(epoch_iterator_val):\n",
    "        new_model.eval()\n",
    "        with torch.no_grad():\n",
    "            for step, batch in enumerate(epoch_iterator_val):\n",
    "                val_inputs, val_labels = (batch[\"pt\"].cuda(), batch[\"seg\"].cuda())\n",
    "                val_outputs = sliding_window_inference(val_inputs, (96, 96, 96), 4, new_model)\n",
    "                val_labels_list = decollate_batch(val_labels)\n",
    "                val_labels_convert = [\n",
    "                    post_label(val_label_tensor) for val_label_tensor in val_labels_list\n",
    "                ]\n",
    "                val_outputs_list = decollate_batch(val_outputs)\n",
    "                val_output_convert = [\n",
    "                    post_pred(val_pred_tensor) for val_pred_tensor in val_outputs_list\n",
    "                ]\n",
    "                dice_metric(y_pred=val_output_convert, y=val_labels_convert)\n",
    "                dice_metric_batch(y_pred=val_output_convert, y=val_labels_convert)\n",
    "                epoch_iterator_val.set_description(\n",
    "                    \"Validate (%d / %d Steps)\" % (global_step, 10.0)\n",
    "                )\n",
    "            mean_dice_val = dice_metric.aggregate().item()\n",
    "            metric_batch_val = dice_metric_batch.aggregate()\n",
    "\n",
    "            metric_tumor = metric_batch_val[0].item()\n",
    "            metric_lymph = metric_batch_val[1].item()\n",
    "\n",
    "            dice_metric.reset()\n",
    "            dice_metric_batch.reset()\n",
    "        return mean_dice_val, metric_tumor, metric_lymph\n",
    "\n",
    "\n",
    "\n",
    "def train(global_step, train_loader, dice_val_best, global_step_best):\n",
    "        new_model.train()\n",
    "        epoch_loss = 0\n",
    "        step = 0\n",
    "        epoch_iterator = tqdm(\n",
    "            train_loader, desc=\"Training (X / X Steps) (loss=X.X)\", dynamic_ncols=True\n",
    "        )\n",
    "        \n",
    "        for step, batch in enumerate(epoch_iterator):\n",
    "            step += 1\n",
    "            x, y = (batch[\"pt\"].cuda(), batch[\"seg\"].cuda())\n",
    "            logit_map = new_model(x)\n",
    "            loss = loss_function(logit_map, y)\n",
    "            loss.backward()\n",
    "            epoch_loss += loss.item() \n",
    "            optimizer.step()\n",
    "            optimizer.zero_grad()\n",
    "            epoch_iterator.set_description(\n",
    "                \"Training (%d / %d Steps) (loss=%2.5f)\"\n",
    "                % (global_step, max_iterations, loss)\n",
    "            )\n",
    "            \n",
    "            if (\n",
    "                global_step % eval_num == 0 and global_step != 0\n",
    "            ) or global_step == max_iterations:\n",
    "                epoch_iterator_val = tqdm(\n",
    "                    val_loader, desc=\"Validate (X / X Steps) (dice=X.X)\", dynamic_ncols=True\n",
    "                )\n",
    "                dice_val, metric_tumor, metric_lymph = validation(epoch_iterator_val)\n",
    "                epoch_loss /= step\n",
    "                epoch_loss_values.append(epoch_loss)\n",
    "                metric_values.append(dice_val)\n",
    "                metric_values_tumor.append(metric_tumor)\n",
    "                metric_values_lymph.append(metric_lymph)\n",
    "                if dice_val > dice_val_best:\n",
    "                    dice_val_best = dice_val\n",
    "                    global_step_best = global_step\n",
    "                    torch.save(\n",
    "                        new_model.state_dict(), os.path.join(model_dir, \"ptonly-PT-with4.pth\")\n",
    "                    )\n",
    "                    print(\n",
    "                        \"Model Was Saved ! Current Best Avg. Dice: {} Current Avg. Dice: {} Current Avg. tumor Dice: {} Current Avg. lymph Dice: {}\".format(\n",
    "                            dice_val_best, dice_val, metric_tumor, metric_lymph\n",
    "                        )\n",
    "                    )\n",
    "                else:\n",
    "                    print(\n",
    "                        \"Model Was Not Saved ! Current Best Avg. Dice: {} Current Avg. Dice: {} Current Avg. tumor Dice: {} Current Avg. lymph Dice: {}\".format(\n",
    "                            dice_val_best, dice_val,  metric_tumor, metric_lymph\n",
    "                        )\n",
    "                    )\n",
    "            global_step += 1\n",
    "        return global_step, dice_val_best, global_step_best"
   ]
  },
  {
   "cell_type": "code",
   "execution_count": 12,
   "metadata": {},
   "outputs": [
    {
     "name": "stderr",
     "output_type": "stream",
     "text": [
      "Training (79 / 18000 Steps) (loss=1.21370): 100%|██████████| 80/80 [00:48<00:00,  1.63it/s]\n",
      "Validate (80 / 10 Steps): 100%|██████████| 18/18 [00:24<00:00,  1.36s/it]2<00:29,  2.05it/s]\n",
      "Training (100 / 18000 Steps) (loss=1.17392):  26%|██▋       | 21/80 [00:38<08:01,  8.15s/it]"
     ]
    },
    {
     "name": "stdout",
     "output_type": "stream",
     "text": [
      "Model Was Saved ! Current Best Avg. Dice: 0.15626020729541779 Current Avg. Dice: 0.15626020729541779 Current Avg. tumor Dice: 0.2156621217727661 Current Avg. lymph Dice: 0.10004493594169617\n"
     ]
    },
    {
     "name": "stderr",
     "output_type": "stream",
     "text": [
      "Training (159 / 18000 Steps) (loss=1.13779): 100%|██████████| 80/80 [01:06<00:00,  1.20it/s]\n",
      "Validate (160 / 10 Steps): 100%|██████████| 18/18 [00:23<00:00,  1.29s/it]<00:19,  2.10it/s]\n",
      "Training (200 / 18000 Steps) (loss=1.10271):  51%|█████▏    | 41/80 [00:46<05:00,  7.70s/it]"
     ]
    },
    {
     "name": "stdout",
     "output_type": "stream",
     "text": [
      "Model Was Saved ! Current Best Avg. Dice: 0.19623693823814392 Current Avg. Dice: 0.19623693823814392 Current Avg. tumor Dice: 0.22115392982959747 Current Avg. lymph Dice: 0.17811568081378937\n"
     ]
    },
    {
     "name": "stderr",
     "output_type": "stream",
     "text": [
      "Training (239 / 18000 Steps) (loss=1.04827): 100%|██████████| 80/80 [01:05<00:00,  1.23it/s]\n",
      "Validate (240 / 10 Steps): 100%|██████████| 18/18 [00:23<00:00,  1.29s/it]<00:09,  2.13it/s]\n",
      "Training (300 / 18000 Steps) (loss=1.03498):  76%|███████▋  | 61/80 [00:55<02:21,  7.42s/it]"
     ]
    },
    {
     "name": "stdout",
     "output_type": "stream",
     "text": [
      "Model Was Not Saved ! Current Best Avg. Dice: 0.19623693823814392 Current Avg. Dice: 0.19461634755134583 Current Avg. tumor Dice: 0.03853553906083107 Current Avg. lymph Dice: 0.38103219866752625\n"
     ]
    },
    {
     "name": "stderr",
     "output_type": "stream",
     "text": [
      "Training (319 / 18000 Steps) (loss=1.03635): 100%|██████████| 80/80 [01:04<00:00,  1.24it/s]\n",
      "Training (399 / 18000 Steps) (loss=0.98489): 100%|██████████| 80/80 [00:40<00:00,  1.96it/s]\n",
      "Validate (400 / 10 Steps): 100%|██████████| 18/18 [00:23<00:00,  1.30s/it]?, ?it/s]\n",
      "Training (400 / 18000 Steps) (loss=0.99789):   1%|▏         | 1/80 [00:26<35:05, 26.65s/it]"
     ]
    },
    {
     "name": "stdout",
     "output_type": "stream",
     "text": [
      "Model Was Not Saved ! Current Best Avg. Dice: 0.19623693823814392 Current Avg. Dice: 0.17649279534816742 Current Avg. tumor Dice: 0.028406815603375435 Current Avg. lymph Dice: 0.35002830624580383\n"
     ]
    },
    {
     "name": "stderr",
     "output_type": "stream",
     "text": [
      "Training (479 / 18000 Steps) (loss=0.94440): 100%|██████████| 80/80 [01:04<00:00,  1.23it/s]\n",
      "Validate (480 / 10 Steps): 100%|██████████| 18/18 [00:23<00:00,  1.29s/it]<00:28,  2.12it/s]\n",
      "Training (500 / 18000 Steps) (loss=0.94706):  26%|██▋       | 21/80 [00:36<07:33,  7.69s/it]"
     ]
    },
    {
     "name": "stdout",
     "output_type": "stream",
     "text": [
      "Model Was Saved ! Current Best Avg. Dice: 0.2484378218650818 Current Avg. Dice: 0.2484378218650818 Current Avg. tumor Dice: 0.1967960149049759 Current Avg. lymph Dice: 0.31875720620155334\n"
     ]
    },
    {
     "name": "stderr",
     "output_type": "stream",
     "text": [
      "Training (559 / 18000 Steps) (loss=0.91259): 100%|██████████| 80/80 [01:05<00:00,  1.22it/s]\n",
      "Validate (560 / 10 Steps): 100%|██████████| 18/18 [00:23<00:00,  1.29s/it]<00:19,  2.07it/s]\n",
      "Training (600 / 18000 Steps) (loss=0.91311):  51%|█████▏    | 41/80 [00:46<04:53,  7.52s/it]"
     ]
    },
    {
     "name": "stdout",
     "output_type": "stream",
     "text": [
      "Model Was Not Saved ! Current Best Avg. Dice: 0.2484378218650818 Current Avg. Dice: 0.22406241297721863 Current Avg. tumor Dice: 0.03966258093714714 Current Avg. lymph Dice: 0.4395608603954315\n"
     ]
    },
    {
     "name": "stderr",
     "output_type": "stream",
     "text": [
      "Training (639 / 18000 Steps) (loss=0.86361): 100%|██████████| 80/80 [01:04<00:00,  1.23it/s]\n",
      "Validate (640 / 10 Steps): 100%|██████████| 18/18 [00:23<00:00,  1.30s/it]<00:09,  2.04it/s]\n",
      "Training (700 / 18000 Steps) (loss=0.88576):  76%|███████▋  | 61/80 [00:56<02:26,  7.70s/it]"
     ]
    },
    {
     "name": "stdout",
     "output_type": "stream",
     "text": [
      "Model Was Saved ! Current Best Avg. Dice: 0.4620800018310547 Current Avg. Dice: 0.4620800018310547 Current Avg. tumor Dice: 0.4684830904006958 Current Avg. lymph Dice: 0.4708497226238251\n"
     ]
    },
    {
     "name": "stderr",
     "output_type": "stream",
     "text": [
      "Training (719 / 18000 Steps) (loss=0.87887): 100%|██████████| 80/80 [01:05<00:00,  1.23it/s]\n",
      "Training (799 / 18000 Steps) (loss=0.86974): 100%|██████████| 80/80 [00:41<00:00,  1.93it/s]\n",
      "Validate (800 / 10 Steps): 100%|██████████| 18/18 [00:23<00:00,  1.29s/it]?, ?it/s]\n",
      "Training (800 / 18000 Steps) (loss=0.83085):   1%|▏         | 1/80 [00:26<34:36, 26.28s/it]"
     ]
    },
    {
     "name": "stdout",
     "output_type": "stream",
     "text": [
      "Model Was Not Saved ! Current Best Avg. Dice: 0.4620800018310547 Current Avg. Dice: 0.361546128988266 Current Avg. tumor Dice: 0.29647815227508545 Current Avg. lymph Dice: 0.4580974578857422\n"
     ]
    },
    {
     "name": "stderr",
     "output_type": "stream",
     "text": [
      "Training (879 / 18000 Steps) (loss=0.83414): 100%|██████████| 80/80 [01:04<00:00,  1.25it/s]\n",
      "Validate (880 / 10 Steps): 100%|██████████| 18/18 [00:23<00:00,  1.28s/it]<00:28,  2.12it/s]\n",
      "Training (900 / 18000 Steps) (loss=0.82903):  26%|██▋       | 21/80 [00:36<07:27,  7.59s/it]"
     ]
    },
    {
     "name": "stdout",
     "output_type": "stream",
     "text": [
      "Model Was Saved ! Current Best Avg. Dice: 0.4801837205886841 Current Avg. Dice: 0.4801837205886841 Current Avg. tumor Dice: 0.4809379577636719 Current Avg. lymph Dice: 0.5019939541816711\n"
     ]
    },
    {
     "name": "stderr",
     "output_type": "stream",
     "text": [
      "Training (959 / 18000 Steps) (loss=0.83089): 100%|██████████| 80/80 [01:04<00:00,  1.24it/s]\n",
      "Validate (960 / 10 Steps): 100%|██████████| 18/18 [00:23<00:00,  1.29s/it]2<00:19,  2.06it/s]\n",
      "Training (1000 / 18000 Steps) (loss=0.82315):  51%|█████▏    | 41/80 [00:45<04:52,  7.49s/it]"
     ]
    },
    {
     "name": "stdout",
     "output_type": "stream",
     "text": [
      "Model Was Not Saved ! Current Best Avg. Dice: 0.4801837205886841 Current Avg. Dice: 0.47866684198379517 Current Avg. tumor Dice: 0.4695732593536377 Current Avg. lymph Dice: 0.5226593017578125\n"
     ]
    },
    {
     "name": "stderr",
     "output_type": "stream",
     "text": [
      "Training (1039 / 18000 Steps) (loss=0.78933): 100%|██████████| 80/80 [01:04<00:00,  1.24it/s]\n",
      "Validate (1040 / 10 Steps): 100%|██████████| 18/18 [00:22<00:00,  1.27s/it]<00:09,  2.08it/s]\n",
      "Training (1100 / 18000 Steps) (loss=0.79321):  76%|███████▋  | 61/80 [00:55<02:23,  7.55s/it]"
     ]
    },
    {
     "name": "stdout",
     "output_type": "stream",
     "text": [
      "Model Was Saved ! Current Best Avg. Dice: 0.4989857077598572 Current Avg. Dice: 0.4989857077598572 Current Avg. tumor Dice: 0.5141068696975708 Current Avg. lymph Dice: 0.5056674480438232\n"
     ]
    },
    {
     "name": "stderr",
     "output_type": "stream",
     "text": [
      "Training (1119 / 18000 Steps) (loss=0.72858): 100%|██████████| 80/80 [01:04<00:00,  1.24it/s]\n",
      "Training (1199 / 18000 Steps) (loss=0.76142): 100%|██████████| 80/80 [00:40<00:00,  1.97it/s]\n",
      "Validate (1200 / 10 Steps): 100%|██████████| 18/18 [00:22<00:00,  1.26s/it]?, ?it/s]\n",
      "Training (1200 / 18000 Steps) (loss=0.75964):   1%|▏         | 1/80 [00:26<35:02, 26.61s/it]"
     ]
    },
    {
     "name": "stdout",
     "output_type": "stream",
     "text": [
      "Model Was Saved ! Current Best Avg. Dice: 0.5167524218559265 Current Avg. Dice: 0.5167524218559265 Current Avg. tumor Dice: 0.5096949934959412 Current Avg. lymph Dice: 0.5486487746238708\n"
     ]
    },
    {
     "name": "stderr",
     "output_type": "stream",
     "text": [
      "Training (1279 / 18000 Steps) (loss=0.76047): 100%|██████████| 80/80 [01:04<00:00,  1.25it/s]\n",
      "Validate (1280 / 10 Steps): 100%|██████████| 18/18 [00:23<00:00,  1.29s/it]<00:28,  2.12it/s]\n",
      "Training (1300 / 18000 Steps) (loss=0.70418):  26%|██▋       | 21/80 [00:35<07:19,  7.45s/it]"
     ]
    },
    {
     "name": "stdout",
     "output_type": "stream",
     "text": [
      "Model Was Not Saved ! Current Best Avg. Dice: 0.5167524218559265 Current Avg. Dice: 0.5056393146514893 Current Avg. tumor Dice: 0.503273606300354 Current Avg. lymph Dice: 0.532265305519104\n"
     ]
    },
    {
     "name": "stderr",
     "output_type": "stream",
     "text": [
      "Training (1359 / 18000 Steps) (loss=0.70544): 100%|██████████| 80/80 [01:04<00:00,  1.24it/s]\n",
      "Validate (1360 / 10 Steps): 100%|██████████| 18/18 [00:23<00:00,  1.29s/it]<00:19,  2.06it/s]\n",
      "Training (1400 / 18000 Steps) (loss=0.68540):  51%|█████▏    | 41/80 [00:46<05:00,  7.71s/it]"
     ]
    },
    {
     "name": "stdout",
     "output_type": "stream",
     "text": [
      "Model Was Saved ! Current Best Avg. Dice: 0.5276013016700745 Current Avg. Dice: 0.5276013016700745 Current Avg. tumor Dice: 0.5552555918693542 Current Avg. lymph Dice: 0.5306318998336792\n"
     ]
    },
    {
     "name": "stderr",
     "output_type": "stream",
     "text": [
      "Training (1439 / 18000 Steps) (loss=0.71138): 100%|██████████| 80/80 [01:05<00:00,  1.23it/s]\n",
      "Validate (1440 / 10 Steps): 100%|██████████| 18/18 [00:22<00:00,  1.27s/it]<00:09,  2.11it/s]\n",
      "Training (1500 / 18000 Steps) (loss=0.69389):  76%|███████▋  | 61/80 [00:55<02:20,  7.37s/it]"
     ]
    },
    {
     "name": "stdout",
     "output_type": "stream",
     "text": [
      "Model Was Not Saved ! Current Best Avg. Dice: 0.5276013016700745 Current Avg. Dice: 0.4948534369468689 Current Avg. tumor Dice: 0.5130230188369751 Current Avg. lymph Dice: 0.4959268867969513\n"
     ]
    },
    {
     "name": "stderr",
     "output_type": "stream",
     "text": [
      "Training (1519 / 18000 Steps) (loss=0.62479): 100%|██████████| 80/80 [01:04<00:00,  1.24it/s]\n",
      "Training (1599 / 18000 Steps) (loss=0.62207): 100%|██████████| 80/80 [00:41<00:00,  1.93it/s]\n",
      "Validate (1600 / 10 Steps): 100%|██████████| 18/18 [00:23<00:00,  1.28s/it]?, ?it/s]\n",
      "Training (1600 / 18000 Steps) (loss=0.68280):   1%|▏         | 1/80 [00:26<35:14, 26.77s/it]"
     ]
    },
    {
     "name": "stdout",
     "output_type": "stream",
     "text": [
      "Model Was Saved ! Current Best Avg. Dice: 0.5664799213409424 Current Avg. Dice: 0.5664799213409424 Current Avg. tumor Dice: 0.583110511302948 Current Avg. lymph Dice: 0.5700256824493408\n"
     ]
    },
    {
     "name": "stderr",
     "output_type": "stream",
     "text": [
      "Training (1679 / 18000 Steps) (loss=0.61912): 100%|██████████| 80/80 [01:05<00:00,  1.23it/s]\n",
      "Validate (1680 / 10 Steps): 100%|██████████| 18/18 [00:23<00:00,  1.28s/it]<00:28,  2.12it/s]\n",
      "Training (1700 / 18000 Steps) (loss=0.65766):  26%|██▋       | 21/80 [00:35<07:17,  7.42s/it]"
     ]
    },
    {
     "name": "stdout",
     "output_type": "stream",
     "text": [
      "Model Was Not Saved ! Current Best Avg. Dice: 0.5664799213409424 Current Avg. Dice: 0.49447059631347656 Current Avg. tumor Dice: 0.530320405960083 Current Avg. lymph Dice: 0.4769169092178345\n"
     ]
    },
    {
     "name": "stderr",
     "output_type": "stream",
     "text": [
      "Training (1759 / 18000 Steps) (loss=0.71169): 100%|██████████| 80/80 [01:04<00:00,  1.24it/s]\n",
      "Validate (1760 / 10 Steps): 100%|██████████| 18/18 [00:23<00:00,  1.28s/it]<00:19,  2.10it/s]\n",
      "Training (1800 / 18000 Steps) (loss=0.59109):  51%|█████▏    | 41/80 [00:45<04:49,  7.43s/it]"
     ]
    },
    {
     "name": "stdout",
     "output_type": "stream",
     "text": [
      "Model Was Not Saved ! Current Best Avg. Dice: 0.5664799213409424 Current Avg. Dice: 0.5015600919723511 Current Avg. tumor Dice: 0.48531776666641235 Current Avg. lymph Dice: 0.5471646189689636\n"
     ]
    },
    {
     "name": "stderr",
     "output_type": "stream",
     "text": [
      "Training (1839 / 18000 Steps) (loss=0.63458): 100%|██████████| 80/80 [01:04<00:00,  1.25it/s]\n",
      "Validate (1840 / 10 Steps): 100%|██████████| 18/18 [00:23<00:00,  1.29s/it]<00:09,  2.09it/s]\n",
      "Training (1900 / 18000 Steps) (loss=0.74392):  76%|███████▋  | 61/80 [00:54<02:21,  7.45s/it]"
     ]
    },
    {
     "name": "stdout",
     "output_type": "stream",
     "text": [
      "Model Was Not Saved ! Current Best Avg. Dice: 0.5664799213409424 Current Avg. Dice: 0.5096867084503174 Current Avg. tumor Dice: 0.5363196730613708 Current Avg. lymph Dice: 0.5079518556594849\n"
     ]
    },
    {
     "name": "stderr",
     "output_type": "stream",
     "text": [
      "Training (1919 / 18000 Steps) (loss=0.62512): 100%|██████████| 80/80 [01:04<00:00,  1.25it/s]\n",
      "Training (1999 / 18000 Steps) (loss=0.61628): 100%|██████████| 80/80 [00:41<00:00,  1.95it/s]\n",
      "Validate (2000 / 10 Steps): 100%|██████████| 18/18 [00:23<00:00,  1.30s/it]?, ?it/s]\n",
      "Training (2000 / 18000 Steps) (loss=0.55546):   1%|▏         | 1/80 [00:26<34:52, 26.49s/it]"
     ]
    },
    {
     "name": "stdout",
     "output_type": "stream",
     "text": [
      "Model Was Not Saved ! Current Best Avg. Dice: 0.5664799213409424 Current Avg. Dice: 0.5592653751373291 Current Avg. tumor Dice: 0.5802901983261108 Current Avg. lymph Dice: 0.5624046325683594\n"
     ]
    },
    {
     "name": "stderr",
     "output_type": "stream",
     "text": [
      "Training (2079 / 18000 Steps) (loss=0.52916): 100%|██████████| 80/80 [01:05<00:00,  1.23it/s]\n",
      "Validate (2080 / 10 Steps): 100%|██████████| 18/18 [00:22<00:00,  1.26s/it]<00:28,  2.13it/s]\n",
      "Training (2100 / 18000 Steps) (loss=0.54432):  26%|██▋       | 21/80 [00:35<07:10,  7.30s/it]"
     ]
    },
    {
     "name": "stdout",
     "output_type": "stream",
     "text": [
      "Model Was Not Saved ! Current Best Avg. Dice: 0.5664799213409424 Current Avg. Dice: 0.4893379211425781 Current Avg. tumor Dice: 0.4692741930484772 Current Avg. lymph Dice: 0.5317227840423584\n"
     ]
    },
    {
     "name": "stderr",
     "output_type": "stream",
     "text": [
      "Training (2159 / 18000 Steps) (loss=0.58813): 100%|██████████| 80/80 [01:03<00:00,  1.25it/s]\n",
      "Validate (2160 / 10 Steps): 100%|██████████| 18/18 [00:22<00:00,  1.27s/it]<00:19,  2.09it/s]\n",
      "Training (2200 / 18000 Steps) (loss=0.59955):  51%|█████▏    | 41/80 [00:45<04:48,  7.40s/it]"
     ]
    },
    {
     "name": "stdout",
     "output_type": "stream",
     "text": [
      "Model Was Not Saved ! Current Best Avg. Dice: 0.5664799213409424 Current Avg. Dice: 0.5572080612182617 Current Avg. tumor Dice: 0.5706099271774292 Current Avg. lymph Dice: 0.5687116980552673\n"
     ]
    },
    {
     "name": "stderr",
     "output_type": "stream",
     "text": [
      "Training (2239 / 18000 Steps) (loss=0.56240): 100%|██████████| 80/80 [01:03<00:00,  1.25it/s]\n",
      "Validate (2240 / 10 Steps): 100%|██████████| 18/18 [00:23<00:00,  1.29s/it]<00:09,  2.15it/s]\n",
      "Training (2300 / 18000 Steps) (loss=0.63837):  76%|███████▋  | 61/80 [00:55<02:25,  7.68s/it]"
     ]
    },
    {
     "name": "stdout",
     "output_type": "stream",
     "text": [
      "Model Was Saved ! Current Best Avg. Dice: 0.5844395756721497 Current Avg. Dice: 0.5844395756721497 Current Avg. tumor Dice: 0.6101927757263184 Current Avg. lymph Dice: 0.5867989659309387\n"
     ]
    },
    {
     "name": "stderr",
     "output_type": "stream",
     "text": [
      "Training (2319 / 18000 Steps) (loss=0.54377): 100%|██████████| 80/80 [01:04<00:00,  1.24it/s]\n",
      "Training (2399 / 18000 Steps) (loss=0.63154): 100%|██████████| 80/80 [00:40<00:00,  1.97it/s]\n",
      "Validate (2400 / 10 Steps): 100%|██████████| 18/18 [00:23<00:00,  1.28s/it]?, ?it/s]\n",
      "Training (2400 / 18000 Steps) (loss=0.54937):   1%|▏         | 1/80 [00:26<34:34, 26.26s/it]"
     ]
    },
    {
     "name": "stdout",
     "output_type": "stream",
     "text": [
      "Model Was Not Saved ! Current Best Avg. Dice: 0.5844395756721497 Current Avg. Dice: 0.5516160130500793 Current Avg. tumor Dice: 0.5662549734115601 Current Avg. lymph Dice: 0.5630396008491516\n"
     ]
    },
    {
     "name": "stderr",
     "output_type": "stream",
     "text": [
      "Training (2479 / 18000 Steps) (loss=0.55088): 100%|██████████| 80/80 [01:04<00:00,  1.25it/s]\n",
      "Validate (2480 / 10 Steps): 100%|██████████| 18/18 [00:22<00:00,  1.25s/it]<00:27,  2.16it/s]\n",
      "Training (2500 / 18000 Steps) (loss=0.56394):  26%|██▋       | 21/80 [00:35<07:07,  7.24s/it]"
     ]
    },
    {
     "name": "stdout",
     "output_type": "stream",
     "text": [
      "Model Was Not Saved ! Current Best Avg. Dice: 0.5844395756721497 Current Avg. Dice: 0.5664017200469971 Current Avg. tumor Dice: 0.6080344915390015 Current Avg. lymph Dice: 0.5385722517967224\n"
     ]
    },
    {
     "name": "stderr",
     "output_type": "stream",
     "text": [
      "Training (2559 / 18000 Steps) (loss=0.60913): 100%|██████████| 80/80 [01:02<00:00,  1.27it/s]\n",
      "Validate (2560 / 10 Steps): 100%|██████████| 18/18 [00:22<00:00,  1.27s/it]<00:19,  2.10it/s]\n",
      "Training (2600 / 18000 Steps) (loss=0.58723):  51%|█████▏    | 41/80 [00:44<04:46,  7.35s/it]"
     ]
    },
    {
     "name": "stdout",
     "output_type": "stream",
     "text": [
      "Model Was Not Saved ! Current Best Avg. Dice: 0.5844395756721497 Current Avg. Dice: 0.5769914984703064 Current Avg. tumor Dice: 0.6169388890266418 Current Avg. lymph Dice: 0.5508254170417786\n"
     ]
    },
    {
     "name": "stderr",
     "output_type": "stream",
     "text": [
      "Training (2639 / 18000 Steps) (loss=0.51859): 100%|██████████| 80/80 [01:03<00:00,  1.26it/s]\n",
      "Validate (2640 / 10 Steps): 100%|██████████| 18/18 [00:23<00:00,  1.29s/it]<00:09,  2.11it/s]\n",
      "Training (2700 / 18000 Steps) (loss=0.50352):  76%|███████▋  | 61/80 [00:54<02:21,  7.43s/it]"
     ]
    },
    {
     "name": "stdout",
     "output_type": "stream",
     "text": [
      "Model Was Not Saved ! Current Best Avg. Dice: 0.5844395756721497 Current Avg. Dice: 0.5842545032501221 Current Avg. tumor Dice: 0.6140374541282654 Current Avg. lymph Dice: 0.579507052898407\n"
     ]
    },
    {
     "name": "stderr",
     "output_type": "stream",
     "text": [
      "Training (2719 / 18000 Steps) (loss=0.56352): 100%|██████████| 80/80 [01:04<00:00,  1.25it/s]\n",
      "Training (2799 / 18000 Steps) (loss=0.58022): 100%|██████████| 80/80 [00:40<00:00,  1.97it/s]\n",
      "Validate (2800 / 10 Steps): 100%|██████████| 18/18 [00:23<00:00,  1.30s/it]?, ?it/s]\n",
      "Training (2800 / 18000 Steps) (loss=0.54087):   1%|▏         | 1/80 [00:26<34:49, 26.45s/it]"
     ]
    },
    {
     "name": "stdout",
     "output_type": "stream",
     "text": [
      "Model Was Not Saved ! Current Best Avg. Dice: 0.5844395756721497 Current Avg. Dice: 0.5098209381103516 Current Avg. tumor Dice: 0.5342673063278198 Current Avg. lymph Dice: 0.5096684098243713\n"
     ]
    },
    {
     "name": "stderr",
     "output_type": "stream",
     "text": [
      "Training (2879 / 18000 Steps) (loss=0.63141): 100%|██████████| 80/80 [01:04<00:00,  1.24it/s]\n",
      "Validate (2880 / 10 Steps): 100%|██████████| 18/18 [00:23<00:00,  1.28s/it]<00:28,  2.13it/s]\n",
      "Training (2900 / 18000 Steps) (loss=0.59841):  26%|██▋       | 21/80 [00:36<07:30,  7.64s/it]"
     ]
    },
    {
     "name": "stdout",
     "output_type": "stream",
     "text": [
      "Model Was Saved ! Current Best Avg. Dice: 0.5894591808319092 Current Avg. Dice: 0.5894591808319092 Current Avg. tumor Dice: 0.6084293723106384 Current Avg. lymph Dice: 0.5916595458984375\n"
     ]
    },
    {
     "name": "stderr",
     "output_type": "stream",
     "text": [
      "Training (2959 / 18000 Steps) (loss=0.52519): 100%|██████████| 80/80 [01:04<00:00,  1.23it/s]\n",
      "Validate (2960 / 10 Steps): 100%|██████████| 18/18 [00:23<00:00,  1.28s/it]<00:19,  2.04it/s]\n",
      "Training (3000 / 18000 Steps) (loss=0.48004):  51%|█████▏    | 41/80 [00:45<04:49,  7.43s/it]"
     ]
    },
    {
     "name": "stdout",
     "output_type": "stream",
     "text": [
      "Model Was Not Saved ! Current Best Avg. Dice: 0.5894591808319092 Current Avg. Dice: 0.5710867643356323 Current Avg. tumor Dice: 0.5849371552467346 Current Avg. lymph Dice: 0.5844159126281738\n"
     ]
    },
    {
     "name": "stderr",
     "output_type": "stream",
     "text": [
      "Training (3039 / 18000 Steps) (loss=0.45799): 100%|██████████| 80/80 [01:04<00:00,  1.25it/s]\n",
      "Validate (3040 / 10 Steps): 100%|██████████| 18/18 [00:22<00:00,  1.27s/it]<00:09,  2.13it/s]\n",
      "Training (3100 / 18000 Steps) (loss=0.51427):  76%|███████▋  | 61/80 [00:54<02:19,  7.35s/it]"
     ]
    },
    {
     "name": "stdout",
     "output_type": "stream",
     "text": [
      "Model Was Not Saved ! Current Best Avg. Dice: 0.5894591808319092 Current Avg. Dice: 0.5808267593383789 Current Avg. tumor Dice: 0.6115078926086426 Current Avg. lymph Dice: 0.5719618201255798\n"
     ]
    },
    {
     "name": "stderr",
     "output_type": "stream",
     "text": [
      "Training (3119 / 18000 Steps) (loss=0.39647): 100%|██████████| 80/80 [01:03<00:00,  1.26it/s]\n",
      "Training (3199 / 18000 Steps) (loss=0.53890): 100%|██████████| 80/80 [00:40<00:00,  1.98it/s]\n",
      "Validate (3200 / 10 Steps): 100%|██████████| 18/18 [00:22<00:00,  1.28s/it]?, ?it/s]\n",
      "Training (3200 / 18000 Steps) (loss=0.51863):   1%|▏         | 1/80 [00:26<35:07, 26.68s/it]"
     ]
    },
    {
     "name": "stdout",
     "output_type": "stream",
     "text": [
      "Model Was Saved ! Current Best Avg. Dice: 0.5922951102256775 Current Avg. Dice: 0.5922951102256775 Current Avg. tumor Dice: 0.6327764987945557 Current Avg. lymph Dice: 0.5743665099143982\n"
     ]
    },
    {
     "name": "stderr",
     "output_type": "stream",
     "text": [
      "Training (3279 / 18000 Steps) (loss=0.60825): 100%|██████████| 80/80 [01:05<00:00,  1.23it/s]\n",
      "Validate (3280 / 10 Steps): 100%|██████████| 18/18 [00:23<00:00,  1.28s/it]<00:28,  2.13it/s]\n",
      "Training (3300 / 18000 Steps) (loss=0.55670):  26%|██▋       | 21/80 [00:35<07:15,  7.38s/it]"
     ]
    },
    {
     "name": "stdout",
     "output_type": "stream",
     "text": [
      "Model Was Not Saved ! Current Best Avg. Dice: 0.5922951102256775 Current Avg. Dice: 0.5690370202064514 Current Avg. tumor Dice: 0.5745521783828735 Current Avg. lymph Dice: 0.5833851099014282\n"
     ]
    },
    {
     "name": "stderr",
     "output_type": "stream",
     "text": [
      "Training (3359 / 18000 Steps) (loss=0.57345): 100%|██████████| 80/80 [01:04<00:00,  1.25it/s]\n",
      "Validate (3360 / 10 Steps): 100%|██████████| 18/18 [00:22<00:00,  1.26s/it]<00:19,  2.09it/s]\n",
      "Training (3400 / 18000 Steps) (loss=0.57358):  51%|█████▏    | 41/80 [00:44<04:43,  7.28s/it]"
     ]
    },
    {
     "name": "stdout",
     "output_type": "stream",
     "text": [
      "Model Was Not Saved ! Current Best Avg. Dice: 0.5922951102256775 Current Avg. Dice: 0.5847689509391785 Current Avg. tumor Dice: 0.6162656545639038 Current Avg. lymph Dice: 0.5745059847831726\n"
     ]
    },
    {
     "name": "stderr",
     "output_type": "stream",
     "text": [
      "Training (3439 / 18000 Steps) (loss=0.50877): 100%|██████████| 80/80 [01:03<00:00,  1.26it/s]\n",
      "Validate (3440 / 10 Steps): 100%|██████████| 18/18 [00:22<00:00,  1.27s/it]<00:10,  1.99it/s]\n",
      "Training (3500 / 18000 Steps) (loss=0.58869):  76%|███████▋  | 61/80 [00:55<02:19,  7.35s/it]"
     ]
    },
    {
     "name": "stdout",
     "output_type": "stream",
     "text": [
      "Model Was Not Saved ! Current Best Avg. Dice: 0.5922951102256775 Current Avg. Dice: 0.5849685668945312 Current Avg. tumor Dice: 0.6231591105461121 Current Avg. lymph Dice: 0.5709187984466553\n"
     ]
    },
    {
     "name": "stderr",
     "output_type": "stream",
     "text": [
      "Training (3519 / 18000 Steps) (loss=0.69347): 100%|██████████| 80/80 [01:04<00:00,  1.24it/s]\n",
      "Training (3599 / 18000 Steps) (loss=0.39086): 100%|██████████| 80/80 [00:40<00:00,  1.97it/s]\n",
      "Validate (3600 / 10 Steps): 100%|██████████| 18/18 [00:22<00:00,  1.27s/it]?, ?it/s]\n",
      "Training (3600 / 18000 Steps) (loss=0.51778):   1%|▏         | 1/80 [00:26<34:25, 26.14s/it]"
     ]
    },
    {
     "name": "stdout",
     "output_type": "stream",
     "text": [
      "Model Was Not Saved ! Current Best Avg. Dice: 0.5922951102256775 Current Avg. Dice: 0.5379776954650879 Current Avg. tumor Dice: 0.5338271260261536 Current Avg. lymph Dice: 0.5710865259170532\n"
     ]
    },
    {
     "name": "stderr",
     "output_type": "stream",
     "text": [
      "Training (3679 / 18000 Steps) (loss=0.52600): 100%|██████████| 80/80 [01:04<00:00,  1.24it/s]\n",
      "Validate (3680 / 10 Steps): 100%|██████████| 18/18 [00:23<00:00,  1.29s/it]<00:29,  2.06it/s]\n",
      "Training (3700 / 18000 Steps) (loss=0.44929):  26%|██▋       | 21/80 [00:36<07:20,  7.46s/it]"
     ]
    },
    {
     "name": "stdout",
     "output_type": "stream",
     "text": [
      "Model Was Not Saved ! Current Best Avg. Dice: 0.5922951102256775 Current Avg. Dice: 0.5740211009979248 Current Avg. tumor Dice: 0.6098841428756714 Current Avg. lymph Dice: 0.5597447752952576\n"
     ]
    },
    {
     "name": "stderr",
     "output_type": "stream",
     "text": [
      "Training (3759 / 18000 Steps) (loss=0.47396): 100%|██████████| 80/80 [01:04<00:00,  1.24it/s]\n",
      "Validate (3760 / 10 Steps): 100%|██████████| 18/18 [00:22<00:00,  1.27s/it]<00:19,  2.08it/s]\n",
      "Training (3800 / 18000 Steps) (loss=0.55521):  51%|█████▏    | 41/80 [00:45<04:45,  7.33s/it]"
     ]
    },
    {
     "name": "stdout",
     "output_type": "stream",
     "text": [
      "Model Was Not Saved ! Current Best Avg. Dice: 0.5922951102256775 Current Avg. Dice: 0.577878475189209 Current Avg. tumor Dice: 0.6137018799781799 Current Avg. lymph Dice: 0.5657192468643188\n"
     ]
    },
    {
     "name": "stderr",
     "output_type": "stream",
     "text": [
      "Training (3839 / 18000 Steps) (loss=0.55506): 100%|██████████| 80/80 [01:03<00:00,  1.25it/s]\n",
      "Validate (3840 / 10 Steps): 100%|██████████| 18/18 [00:23<00:00,  1.29s/it]<00:09,  2.11it/s]\n",
      "Training (3900 / 18000 Steps) (loss=0.51167):  76%|███████▋  | 61/80 [00:55<02:21,  7.45s/it]"
     ]
    },
    {
     "name": "stdout",
     "output_type": "stream",
     "text": [
      "Model Was Not Saved ! Current Best Avg. Dice: 0.5922951102256775 Current Avg. Dice: 0.5858343839645386 Current Avg. tumor Dice: 0.601935625076294 Current Avg. lymph Dice: 0.5911445617675781\n"
     ]
    },
    {
     "name": "stderr",
     "output_type": "stream",
     "text": [
      "Training (3919 / 18000 Steps) (loss=0.42363): 100%|██████████| 80/80 [01:04<00:00,  1.24it/s]\n",
      "Training (3999 / 18000 Steps) (loss=0.41964): 100%|██████████| 80/80 [00:41<00:00,  1.95it/s]\n",
      "Validate (4000 / 10 Steps): 100%|██████████| 18/18 [00:23<00:00,  1.30s/it]?, ?it/s]\n",
      "Training (4000 / 18000 Steps) (loss=0.47424):   1%|▏         | 1/80 [00:26<35:21, 26.85s/it]"
     ]
    },
    {
     "name": "stdout",
     "output_type": "stream",
     "text": [
      "Model Was Not Saved ! Current Best Avg. Dice: 0.5922951102256775 Current Avg. Dice: 0.5855039954185486 Current Avg. tumor Dice: 0.5987311005592346 Current Avg. lymph Dice: 0.5992377996444702\n"
     ]
    },
    {
     "name": "stderr",
     "output_type": "stream",
     "text": [
      "Training (4079 / 18000 Steps) (loss=0.51589): 100%|██████████| 80/80 [01:04<00:00,  1.24it/s]\n",
      "Validate (4080 / 10 Steps): 100%|██████████| 18/18 [00:23<00:00,  1.29s/it]<00:28,  2.12it/s]\n",
      "Training (4100 / 18000 Steps) (loss=0.58341):  26%|██▋       | 21/80 [00:36<07:31,  7.65s/it]"
     ]
    },
    {
     "name": "stdout",
     "output_type": "stream",
     "text": [
      "Model Was Saved ! Current Best Avg. Dice: 0.6031333208084106 Current Avg. Dice: 0.6031333208084106 Current Avg. tumor Dice: 0.6081005930900574 Current Avg. lymph Dice: 0.6242259740829468\n"
     ]
    },
    {
     "name": "stderr",
     "output_type": "stream",
     "text": [
      "Training (4159 / 18000 Steps) (loss=0.52662): 100%|██████████| 80/80 [01:05<00:00,  1.23it/s]\n",
      "Validate (4160 / 10 Steps): 100%|██████████| 18/18 [00:23<00:00,  1.29s/it]<00:19,  2.04it/s]\n",
      "Training (4200 / 18000 Steps) (loss=0.53535):  51%|█████▏    | 41/80 [00:45<04:50,  7.45s/it]"
     ]
    },
    {
     "name": "stdout",
     "output_type": "stream",
     "text": [
      "Model Was Not Saved ! Current Best Avg. Dice: 0.6031333208084106 Current Avg. Dice: 0.5783369541168213 Current Avg. tumor Dice: 0.5703402757644653 Current Avg. lymph Dice: 0.6156430244445801\n"
     ]
    },
    {
     "name": "stderr",
     "output_type": "stream",
     "text": [
      "Training (4239 / 18000 Steps) (loss=0.46965): 100%|██████████| 80/80 [01:04<00:00,  1.23it/s]\n",
      "Validate (4240 / 10 Steps): 100%|██████████| 18/18 [00:23<00:00,  1.28s/it]<00:09,  2.14it/s]\n",
      "Training (4300 / 18000 Steps) (loss=0.42093):  76%|███████▋  | 61/80 [00:55<02:21,  7.43s/it]"
     ]
    },
    {
     "name": "stdout",
     "output_type": "stream",
     "text": [
      "Model Was Not Saved ! Current Best Avg. Dice: 0.6031333208084106 Current Avg. Dice: 0.5821771025657654 Current Avg. tumor Dice: 0.6065333485603333 Current Avg. lymph Dice: 0.5814825892448425\n"
     ]
    },
    {
     "name": "stderr",
     "output_type": "stream",
     "text": [
      "Training (4319 / 18000 Steps) (loss=0.46740): 100%|██████████| 80/80 [01:04<00:00,  1.23it/s]\n",
      "Training (4399 / 18000 Steps) (loss=0.54435): 100%|██████████| 80/80 [00:40<00:00,  1.95it/s]\n",
      "Validate (4400 / 10 Steps): 100%|██████████| 18/18 [00:22<00:00,  1.27s/it]?, ?it/s]\n",
      "Training (4400 / 18000 Steps) (loss=0.35734):   1%|▏         | 1/80 [00:26<34:19, 26.07s/it]"
     ]
    },
    {
     "name": "stdout",
     "output_type": "stream",
     "text": [
      "Model Was Not Saved ! Current Best Avg. Dice: 0.6031333208084106 Current Avg. Dice: 0.5781835317611694 Current Avg. tumor Dice: 0.5852001905441284 Current Avg. lymph Dice: 0.6019061803817749\n"
     ]
    },
    {
     "name": "stderr",
     "output_type": "stream",
     "text": [
      "Training (4479 / 18000 Steps) (loss=0.54464): 100%|██████████| 80/80 [01:03<00:00,  1.26it/s]\n",
      "Validate (4480 / 10 Steps): 100%|██████████| 18/18 [00:22<00:00,  1.27s/it]<00:28,  2.14it/s]\n",
      "Training (4500 / 18000 Steps) (loss=0.54837):  26%|██▋       | 21/80 [00:36<07:27,  7.58s/it]"
     ]
    },
    {
     "name": "stdout",
     "output_type": "stream",
     "text": [
      "Model Was Saved ! Current Best Avg. Dice: 0.6062716245651245 Current Avg. Dice: 0.6062716245651245 Current Avg. tumor Dice: 0.6241444945335388 Current Avg. lymph Dice: 0.6146250367164612\n"
     ]
    },
    {
     "name": "stderr",
     "output_type": "stream",
     "text": [
      "Training (4559 / 18000 Steps) (loss=0.50672): 100%|██████████| 80/80 [01:05<00:00,  1.23it/s]\n",
      "Validate (4560 / 10 Steps): 100%|██████████| 18/18 [00:23<00:00,  1.31s/it]<00:19,  2.07it/s]\n",
      "Training (4600 / 18000 Steps) (loss=0.53717):  51%|█████▏    | 41/80 [00:46<05:03,  7.77s/it]"
     ]
    },
    {
     "name": "stdout",
     "output_type": "stream",
     "text": [
      "Model Was Saved ! Current Best Avg. Dice: 0.624085009098053 Current Avg. Dice: 0.624085009098053 Current Avg. tumor Dice: 0.6415959000587463 Current Avg. lymph Dice: 0.6337564587593079\n"
     ]
    },
    {
     "name": "stderr",
     "output_type": "stream",
     "text": [
      "Training (4639 / 18000 Steps) (loss=0.43030): 100%|██████████| 80/80 [01:05<00:00,  1.22it/s]\n",
      "Validate (4640 / 10 Steps): 100%|██████████| 18/18 [00:23<00:00,  1.30s/it]<00:10,  1.97it/s]\n",
      "Training (4700 / 18000 Steps) (loss=0.49576):  76%|███████▋  | 61/80 [00:55<02:22,  7.50s/it]"
     ]
    },
    {
     "name": "stdout",
     "output_type": "stream",
     "text": [
      "Model Was Not Saved ! Current Best Avg. Dice: 0.624085009098053 Current Avg. Dice: 0.6012143492698669 Current Avg. tumor Dice: 0.6110045313835144 Current Avg. lymph Dice: 0.612287700176239\n"
     ]
    },
    {
     "name": "stderr",
     "output_type": "stream",
     "text": [
      "Training (4719 / 18000 Steps) (loss=0.58919): 100%|██████████| 80/80 [01:04<00:00,  1.24it/s]\n",
      "Training (4799 / 18000 Steps) (loss=0.53249): 100%|██████████| 80/80 [00:40<00:00,  1.96it/s]\n",
      "Validate (4800 / 10 Steps): 100%|██████████| 18/18 [00:23<00:00,  1.29s/it]?, ?it/s]\n",
      "Training (4800 / 18000 Steps) (loss=0.59249):   1%|▏         | 1/80 [00:26<34:50, 26.47s/it]"
     ]
    },
    {
     "name": "stdout",
     "output_type": "stream",
     "text": [
      "Model Was Not Saved ! Current Best Avg. Dice: 0.624085009098053 Current Avg. Dice: 0.5315554738044739 Current Avg. tumor Dice: 0.5638340711593628 Current Avg. lymph Dice: 0.5257708430290222\n"
     ]
    },
    {
     "name": "stderr",
     "output_type": "stream",
     "text": [
      "Training (4879 / 18000 Steps) (loss=0.54554): 100%|██████████| 80/80 [01:04<00:00,  1.24it/s]\n",
      "Validate (4880 / 10 Steps): 100%|██████████| 18/18 [00:23<00:00,  1.28s/it]<00:28,  2.09it/s]\n",
      "Training (4900 / 18000 Steps) (loss=0.50366):  26%|██▋       | 21/80 [00:35<07:16,  7.39s/it]"
     ]
    },
    {
     "name": "stdout",
     "output_type": "stream",
     "text": [
      "Model Was Not Saved ! Current Best Avg. Dice: 0.624085009098053 Current Avg. Dice: 0.5924277901649475 Current Avg. tumor Dice: 0.6189711689949036 Current Avg. lymph Dice: 0.5885798931121826\n"
     ]
    },
    {
     "name": "stderr",
     "output_type": "stream",
     "text": [
      "Training (4959 / 18000 Steps) (loss=0.48725): 100%|██████████| 80/80 [01:04<00:00,  1.24it/s]\n",
      "Validate (4960 / 10 Steps): 100%|██████████| 18/18 [00:22<00:00,  1.26s/it]<00:18,  2.13it/s]\n",
      "Training (5000 / 18000 Steps) (loss=0.44387):  51%|█████▏    | 41/80 [00:45<04:43,  7.28s/it]"
     ]
    },
    {
     "name": "stdout",
     "output_type": "stream",
     "text": [
      "Model Was Not Saved ! Current Best Avg. Dice: 0.624085009098053 Current Avg. Dice: 0.5977367758750916 Current Avg. tumor Dice: 0.6150866746902466 Current Avg. lymph Dice: 0.6107380986213684\n"
     ]
    },
    {
     "name": "stderr",
     "output_type": "stream",
     "text": [
      "Training (5039 / 18000 Steps) (loss=0.50031): 100%|██████████| 80/80 [01:03<00:00,  1.26it/s]\n",
      "Validate (5040 / 10 Steps): 100%|██████████| 18/18 [00:22<00:00,  1.26s/it]<00:09,  2.21it/s]\n",
      "Training (5100 / 18000 Steps) (loss=0.48184):  76%|███████▋  | 61/80 [00:54<02:18,  7.27s/it]"
     ]
    },
    {
     "name": "stdout",
     "output_type": "stream",
     "text": [
      "Model Was Not Saved ! Current Best Avg. Dice: 0.624085009098053 Current Avg. Dice: 0.5921846032142639 Current Avg. tumor Dice: 0.6132376790046692 Current Avg. lymph Dice: 0.5914333462715149\n"
     ]
    },
    {
     "name": "stderr",
     "output_type": "stream",
     "text": [
      "Training (5119 / 18000 Steps) (loss=0.51063): 100%|██████████| 80/80 [01:03<00:00,  1.27it/s]\n",
      "Training (5199 / 18000 Steps) (loss=0.49834): 100%|██████████| 80/80 [00:41<00:00,  1.95it/s]\n",
      "Validate (5200 / 10 Steps): 100%|██████████| 18/18 [00:22<00:00,  1.27s/it]?, ?it/s]\n",
      "Training (5200 / 18000 Steps) (loss=0.45581):   1%|▏         | 1/80 [00:26<34:23, 26.12s/it]"
     ]
    },
    {
     "name": "stdout",
     "output_type": "stream",
     "text": [
      "Model Was Not Saved ! Current Best Avg. Dice: 0.624085009098053 Current Avg. Dice: 0.5834195613861084 Current Avg. tumor Dice: 0.5976639986038208 Current Avg. lymph Dice: 0.5893381834030151\n"
     ]
    },
    {
     "name": "stderr",
     "output_type": "stream",
     "text": [
      "Training (5279 / 18000 Steps) (loss=0.54879): 100%|██████████| 80/80 [01:03<00:00,  1.26it/s]\n",
      "Validate (5280 / 10 Steps): 100%|██████████| 18/18 [00:23<00:00,  1.28s/it]<00:27,  2.14it/s]\n",
      "Training (5300 / 18000 Steps) (loss=0.42360):  26%|██▋       | 21/80 [00:36<07:16,  7.41s/it]"
     ]
    },
    {
     "name": "stdout",
     "output_type": "stream",
     "text": [
      "Model Was Not Saved ! Current Best Avg. Dice: 0.624085009098053 Current Avg. Dice: 0.6177189350128174 Current Avg. tumor Dice: 0.649101972579956 Current Avg. lymph Dice: 0.6086777448654175\n"
     ]
    },
    {
     "name": "stderr",
     "output_type": "stream",
     "text": [
      "Training (5359 / 18000 Steps) (loss=0.48997): 100%|██████████| 80/80 [01:04<00:00,  1.23it/s]\n",
      "Validate (5360 / 10 Steps): 100%|██████████| 18/18 [00:23<00:00,  1.28s/it]<00:19,  2.05it/s]\n",
      "Training (5400 / 18000 Steps) (loss=0.56178):  51%|█████▏    | 41/80 [00:46<04:50,  7.44s/it]"
     ]
    },
    {
     "name": "stdout",
     "output_type": "stream",
     "text": [
      "Model Was Not Saved ! Current Best Avg. Dice: 0.624085009098053 Current Avg. Dice: 0.6240004301071167 Current Avg. tumor Dice: 0.6521331667900085 Current Avg. lymph Dice: 0.6137966513633728\n"
     ]
    },
    {
     "name": "stderr",
     "output_type": "stream",
     "text": [
      "Training (5439 / 18000 Steps) (loss=0.55784): 100%|██████████| 80/80 [01:04<00:00,  1.23it/s]\n",
      "Validate (5440 / 10 Steps): 100%|██████████| 18/18 [00:22<00:00,  1.26s/it]<00:09,  2.19it/s]\n",
      "Training (5500 / 18000 Steps) (loss=0.42649):  76%|███████▋  | 61/80 [00:54<02:18,  7.31s/it]"
     ]
    },
    {
     "name": "stdout",
     "output_type": "stream",
     "text": [
      "Model Was Not Saved ! Current Best Avg. Dice: 0.624085009098053 Current Avg. Dice: 0.5918765068054199 Current Avg. tumor Dice: 0.6053396463394165 Current Avg. lymph Dice: 0.6023093461990356\n"
     ]
    },
    {
     "name": "stderr",
     "output_type": "stream",
     "text": [
      "Training (5519 / 18000 Steps) (loss=0.46885): 100%|██████████| 80/80 [01:03<00:00,  1.26it/s]\n",
      "Training (5599 / 18000 Steps) (loss=0.44849): 100%|██████████| 80/80 [00:40<00:00,  1.97it/s]\n",
      "Validate (5600 / 10 Steps): 100%|██████████| 18/18 [00:23<00:00,  1.28s/it]?, ?it/s]\n",
      "Training (5600 / 18000 Steps) (loss=0.39782):   1%|▏         | 1/80 [00:26<34:32, 26.23s/it]"
     ]
    },
    {
     "name": "stdout",
     "output_type": "stream",
     "text": [
      "Model Was Not Saved ! Current Best Avg. Dice: 0.624085009098053 Current Avg. Dice: 0.6189382672309875 Current Avg. tumor Dice: 0.6576964259147644 Current Avg. lymph Dice: 0.6075129508972168\n"
     ]
    },
    {
     "name": "stderr",
     "output_type": "stream",
     "text": [
      "Training (5679 / 18000 Steps) (loss=0.62849): 100%|██████████| 80/80 [01:03<00:00,  1.26it/s]\n",
      "Validate (5680 / 10 Steps): 100%|██████████| 18/18 [00:22<00:00,  1.27s/it]<00:28,  2.13it/s]\n",
      "Training (5700 / 18000 Steps) (loss=0.49991):  26%|██▋       | 21/80 [00:35<07:13,  7.35s/it]"
     ]
    },
    {
     "name": "stdout",
     "output_type": "stream",
     "text": [
      "Model Was Not Saved ! Current Best Avg. Dice: 0.624085009098053 Current Avg. Dice: 0.6176866888999939 Current Avg. tumor Dice: 0.6411615014076233 Current Avg. lymph Dice: 0.6128045916557312\n"
     ]
    },
    {
     "name": "stderr",
     "output_type": "stream",
     "text": [
      "Training (5759 / 18000 Steps) (loss=0.45124): 100%|██████████| 80/80 [01:03<00:00,  1.26it/s]\n",
      "Validate (5760 / 10 Steps): 100%|██████████| 18/18 [00:22<00:00,  1.26s/it]<00:18,  2.17it/s]\n",
      "Training (5800 / 18000 Steps) (loss=0.53440):  51%|█████▏    | 41/80 [00:44<04:43,  7.27s/it]"
     ]
    },
    {
     "name": "stdout",
     "output_type": "stream",
     "text": [
      "Model Was Not Saved ! Current Best Avg. Dice: 0.624085009098053 Current Avg. Dice: 0.6041914224624634 Current Avg. tumor Dice: 0.6344348192214966 Current Avg. lymph Dice: 0.5972482562065125\n"
     ]
    },
    {
     "name": "stderr",
     "output_type": "stream",
     "text": [
      "Training (5839 / 18000 Steps) (loss=0.53777): 100%|██████████| 80/80 [01:03<00:00,  1.26it/s]\n",
      "Validate (5840 / 10 Steps): 100%|██████████| 18/18 [00:22<00:00,  1.27s/it]<00:09,  2.16it/s]\n",
      "Training (5900 / 18000 Steps) (loss=0.55961):  76%|███████▋  | 61/80 [00:55<02:23,  7.56s/it]"
     ]
    },
    {
     "name": "stdout",
     "output_type": "stream",
     "text": [
      "Model Was Saved ! Current Best Avg. Dice: 0.626861035823822 Current Avg. Dice: 0.626861035823822 Current Avg. tumor Dice: 0.6646106243133545 Current Avg. lymph Dice: 0.615050196647644\n"
     ]
    },
    {
     "name": "stderr",
     "output_type": "stream",
     "text": [
      "Training (5919 / 18000 Steps) (loss=0.33748): 100%|██████████| 80/80 [01:04<00:00,  1.24it/s]\n",
      "Training (5999 / 18000 Steps) (loss=0.51596): 100%|██████████| 80/80 [00:40<00:00,  1.99it/s]\n",
      "Validate (6000 / 10 Steps): 100%|██████████| 18/18 [00:22<00:00,  1.28s/it]?, ?it/s]\n",
      "Training (6000 / 18000 Steps) (loss=0.54564):   1%|▏         | 1/80 [00:26<34:15, 26.02s/it]"
     ]
    },
    {
     "name": "stdout",
     "output_type": "stream",
     "text": [
      "Model Was Not Saved ! Current Best Avg. Dice: 0.626861035823822 Current Avg. Dice: 0.6066003441810608 Current Avg. tumor Dice: 0.6364296674728394 Current Avg. lymph Dice: 0.605171263217926\n"
     ]
    },
    {
     "name": "stderr",
     "output_type": "stream",
     "text": [
      "Training (6079 / 18000 Steps) (loss=0.50301): 100%|██████████| 80/80 [01:03<00:00,  1.27it/s]\n",
      "Validate (6080 / 10 Steps): 100%|██████████| 18/18 [00:22<00:00,  1.27s/it]<00:27,  2.16it/s]\n",
      "Training (6100 / 18000 Steps) (loss=0.58365):  26%|██▋       | 21/80 [00:35<07:12,  7.32s/it]"
     ]
    },
    {
     "name": "stdout",
     "output_type": "stream",
     "text": [
      "Model Was Not Saved ! Current Best Avg. Dice: 0.626861035823822 Current Avg. Dice: 0.6092401146888733 Current Avg. tumor Dice: 0.6472111344337463 Current Avg. lymph Dice: 0.5894206166267395\n"
     ]
    },
    {
     "name": "stderr",
     "output_type": "stream",
     "text": [
      "Training (6159 / 18000 Steps) (loss=0.38537): 100%|██████████| 80/80 [01:03<00:00,  1.26it/s]\n",
      "Validate (6160 / 10 Steps): 100%|██████████| 18/18 [00:22<00:00,  1.27s/it]<00:18,  2.14it/s]\n",
      "Training (6200 / 18000 Steps) (loss=0.62819):  51%|█████▏    | 41/80 [00:45<04:45,  7.33s/it]"
     ]
    },
    {
     "name": "stdout",
     "output_type": "stream",
     "text": [
      "Model Was Not Saved ! Current Best Avg. Dice: 0.626861035823822 Current Avg. Dice: 0.621772825717926 Current Avg. tumor Dice: 0.6455712914466858 Current Avg. lymph Dice: 0.623068630695343\n"
     ]
    },
    {
     "name": "stderr",
     "output_type": "stream",
     "text": [
      "Training (6239 / 18000 Steps) (loss=0.42996): 100%|██████████| 80/80 [01:04<00:00,  1.25it/s]\n",
      "Validate (6240 / 10 Steps): 100%|██████████| 18/18 [00:23<00:00,  1.29s/it]<00:09,  2.05it/s]\n",
      "Training (6300 / 18000 Steps) (loss=0.41424):  76%|███████▋  | 61/80 [00:56<02:27,  7.77s/it]"
     ]
    },
    {
     "name": "stdout",
     "output_type": "stream",
     "text": [
      "Model Was Saved ! Current Best Avg. Dice: 0.6310814619064331 Current Avg. Dice: 0.6310814619064331 Current Avg. tumor Dice: 0.6610223054885864 Current Avg. lymph Dice: 0.6212723255157471\n"
     ]
    },
    {
     "name": "stderr",
     "output_type": "stream",
     "text": [
      "Training (6319 / 18000 Steps) (loss=0.45818): 100%|██████████| 80/80 [01:05<00:00,  1.22it/s]\n",
      "Training (6399 / 18000 Steps) (loss=0.48050): 100%|██████████| 80/80 [00:41<00:00,  1.94it/s]\n",
      "Validate (6400 / 10 Steps): 100%|██████████| 18/18 [00:23<00:00,  1.30s/it]?, ?it/s]\n",
      "Training (6400 / 18000 Steps) (loss=0.44633):   1%|▏         | 1/80 [00:26<35:00, 26.59s/it]"
     ]
    },
    {
     "name": "stdout",
     "output_type": "stream",
     "text": [
      "Model Was Not Saved ! Current Best Avg. Dice: 0.6310814619064331 Current Avg. Dice: 0.6219451427459717 Current Avg. tumor Dice: 0.6528117060661316 Current Avg. lymph Dice: 0.6105256676673889\n"
     ]
    },
    {
     "name": "stderr",
     "output_type": "stream",
     "text": [
      "Training (6479 / 18000 Steps) (loss=0.56217): 100%|██████████| 80/80 [01:04<00:00,  1.23it/s]\n",
      "Validate (6480 / 10 Steps): 100%|██████████| 18/18 [00:23<00:00,  1.29s/it]<00:27,  2.15it/s]\n",
      "Training (6500 / 18000 Steps) (loss=0.48493):  26%|██▋       | 21/80 [00:36<07:19,  7.45s/it]"
     ]
    },
    {
     "name": "stdout",
     "output_type": "stream",
     "text": [
      "Model Was Not Saved ! Current Best Avg. Dice: 0.6310814619064331 Current Avg. Dice: 0.6232686638832092 Current Avg. tumor Dice: 0.6486203074455261 Current Avg. lymph Dice: 0.6197808980941772\n"
     ]
    },
    {
     "name": "stderr",
     "output_type": "stream",
     "text": [
      "Training (6559 / 18000 Steps) (loss=0.52468): 100%|██████████| 80/80 [01:04<00:00,  1.23it/s]\n",
      "Validate (6560 / 10 Steps): 100%|██████████| 18/18 [00:22<00:00,  1.28s/it]<00:19,  2.08it/s]\n",
      "Training (6600 / 18000 Steps) (loss=0.45355):  51%|█████▏    | 41/80 [00:45<04:48,  7.39s/it]"
     ]
    },
    {
     "name": "stdout",
     "output_type": "stream",
     "text": [
      "Model Was Not Saved ! Current Best Avg. Dice: 0.6310814619064331 Current Avg. Dice: 0.5862526297569275 Current Avg. tumor Dice: 0.6105641722679138 Current Avg. lymph Dice: 0.5846385359764099\n"
     ]
    },
    {
     "name": "stderr",
     "output_type": "stream",
     "text": [
      "Training (6639 / 18000 Steps) (loss=0.41058): 100%|██████████| 80/80 [01:04<00:00,  1.24it/s]\n",
      "Validate (6640 / 10 Steps): 100%|██████████| 18/18 [00:22<00:00,  1.27s/it]<00:09,  2.13it/s]\n",
      "Training (6700 / 18000 Steps) (loss=0.52077):  76%|███████▋  | 61/80 [00:55<02:19,  7.34s/it]"
     ]
    },
    {
     "name": "stdout",
     "output_type": "stream",
     "text": [
      "Model Was Not Saved ! Current Best Avg. Dice: 0.6310814619064331 Current Avg. Dice: 0.6245855689048767 Current Avg. tumor Dice: 0.6613173484802246 Current Avg. lymph Dice: 0.6093379855155945\n"
     ]
    },
    {
     "name": "stderr",
     "output_type": "stream",
     "text": [
      "Training (6719 / 18000 Steps) (loss=0.53704): 100%|██████████| 80/80 [01:04<00:00,  1.24it/s]\n",
      "Training (6799 / 18000 Steps) (loss=0.52679): 100%|██████████| 80/80 [00:40<00:00,  1.95it/s]\n",
      "Validate (6800 / 10 Steps): 100%|██████████| 18/18 [00:22<00:00,  1.27s/it]?, ?it/s]\n",
      "Training (6800 / 18000 Steps) (loss=0.56394):   1%|▏         | 1/80 [00:26<34:24, 26.13s/it]"
     ]
    },
    {
     "name": "stdout",
     "output_type": "stream",
     "text": [
      "Model Was Not Saved ! Current Best Avg. Dice: 0.6310814619064331 Current Avg. Dice: 0.5806193947792053 Current Avg. tumor Dice: 0.5983530879020691 Current Avg. lymph Dice: 0.5880913734436035\n"
     ]
    },
    {
     "name": "stderr",
     "output_type": "stream",
     "text": [
      "Training (6879 / 18000 Steps) (loss=0.47061): 100%|██████████| 80/80 [01:03<00:00,  1.26it/s]\n",
      "Validate (6880 / 10 Steps): 100%|██████████| 18/18 [00:22<00:00,  1.28s/it]<00:28,  2.11it/s]\n",
      "Training (6900 / 18000 Steps) (loss=0.20575):  26%|██▋       | 21/80 [00:35<07:15,  7.38s/it]"
     ]
    },
    {
     "name": "stdout",
     "output_type": "stream",
     "text": [
      "Model Was Not Saved ! Current Best Avg. Dice: 0.6310814619064331 Current Avg. Dice: 0.6048470735549927 Current Avg. tumor Dice: 0.6263814568519592 Current Avg. lymph Dice: 0.6067055463790894\n"
     ]
    },
    {
     "name": "stderr",
     "output_type": "stream",
     "text": [
      "Training (6959 / 18000 Steps) (loss=0.45267): 100%|██████████| 80/80 [01:04<00:00,  1.25it/s]\n",
      "Validate (6960 / 10 Steps): 100%|██████████| 18/18 [00:23<00:00,  1.30s/it]<00:19,  2.10it/s]\n",
      "Training (7000 / 18000 Steps) (loss=0.60253):  51%|█████▏    | 41/80 [00:46<05:02,  7.77s/it]"
     ]
    },
    {
     "name": "stdout",
     "output_type": "stream",
     "text": [
      "Model Was Saved ! Current Best Avg. Dice: 0.6320326328277588 Current Avg. Dice: 0.6320326328277588 Current Avg. tumor Dice: 0.6596762537956238 Current Avg. lymph Dice: 0.627939760684967\n"
     ]
    },
    {
     "name": "stderr",
     "output_type": "stream",
     "text": [
      "Training (7039 / 18000 Steps) (loss=0.41857): 100%|██████████| 80/80 [01:06<00:00,  1.21it/s]\n",
      "Validate (7040 / 10 Steps): 100%|██████████| 18/18 [00:22<00:00,  1.27s/it]<00:09,  2.10it/s]\n",
      "Training (7100 / 18000 Steps) (loss=0.40414):  76%|███████▋  | 61/80 [00:55<02:19,  7.36s/it]"
     ]
    },
    {
     "name": "stdout",
     "output_type": "stream",
     "text": [
      "Model Was Not Saved ! Current Best Avg. Dice: 0.6320326328277588 Current Avg. Dice: 0.5942885279655457 Current Avg. tumor Dice: 0.622491180896759 Current Avg. lymph Dice: 0.5940440893173218\n"
     ]
    },
    {
     "name": "stderr",
     "output_type": "stream",
     "text": [
      "Training (7119 / 18000 Steps) (loss=0.45115): 100%|██████████| 80/80 [01:04<00:00,  1.24it/s]\n",
      "Training (7199 / 18000 Steps) (loss=0.48172): 100%|██████████| 80/80 [00:41<00:00,  1.94it/s]\n",
      "Validate (7200 / 10 Steps): 100%|██████████| 18/18 [00:22<00:00,  1.27s/it]?, ?it/s]\n",
      "Training (7200 / 18000 Steps) (loss=0.39698):   1%|▏         | 1/80 [00:26<34:35, 26.27s/it]"
     ]
    },
    {
     "name": "stdout",
     "output_type": "stream",
     "text": [
      "Model Was Not Saved ! Current Best Avg. Dice: 0.6320326328277588 Current Avg. Dice: 0.6231495141983032 Current Avg. tumor Dice: 0.6476565003395081 Current Avg. lymph Dice: 0.6161348819732666\n"
     ]
    },
    {
     "name": "stderr",
     "output_type": "stream",
     "text": [
      "Training (7279 / 18000 Steps) (loss=0.39216): 100%|██████████| 80/80 [01:04<00:00,  1.25it/s]\n",
      "Validate (7280 / 10 Steps): 100%|██████████| 18/18 [00:23<00:00,  1.29s/it]<00:27,  2.15it/s]\n",
      "Training (7300 / 18000 Steps) (loss=0.52616):  26%|██▋       | 21/80 [00:35<07:18,  7.43s/it]"
     ]
    },
    {
     "name": "stdout",
     "output_type": "stream",
     "text": [
      "Model Was Not Saved ! Current Best Avg. Dice: 0.6320326328277588 Current Avg. Dice: 0.6259930729866028 Current Avg. tumor Dice: 0.6586564183235168 Current Avg. lymph Dice: 0.6165698766708374\n"
     ]
    },
    {
     "name": "stderr",
     "output_type": "stream",
     "text": [
      "Training (7359 / 18000 Steps) (loss=0.42207): 100%|██████████| 80/80 [01:03<00:00,  1.25it/s]\n",
      "Validate (7360 / 10 Steps): 100%|██████████| 18/18 [00:22<00:00,  1.27s/it]<00:18,  2.13it/s]\n",
      "Training (7400 / 18000 Steps) (loss=0.36999):  51%|█████▏    | 41/80 [00:45<04:48,  7.40s/it]"
     ]
    },
    {
     "name": "stdout",
     "output_type": "stream",
     "text": [
      "Model Was Not Saved ! Current Best Avg. Dice: 0.6320326328277588 Current Avg. Dice: 0.6301032900810242 Current Avg. tumor Dice: 0.6505166292190552 Current Avg. lymph Dice: 0.6330706477165222\n"
     ]
    },
    {
     "name": "stderr",
     "output_type": "stream",
     "text": [
      "Training (7439 / 18000 Steps) (loss=0.51668): 100%|██████████| 80/80 [01:04<00:00,  1.25it/s]\n",
      "Validate (7440 / 10 Steps): 100%|██████████| 18/18 [00:22<00:00,  1.27s/it]<00:09,  2.12it/s]\n",
      "Training (7500 / 18000 Steps) (loss=0.37724):  76%|███████▋  | 61/80 [00:55<02:24,  7.58s/it]"
     ]
    },
    {
     "name": "stdout",
     "output_type": "stream",
     "text": [
      "Model Was Saved ! Current Best Avg. Dice: 0.6452364921569824 Current Avg. Dice: 0.6452364921569824 Current Avg. tumor Dice: 0.6772664189338684 Current Avg. lymph Dice: 0.6366032958030701\n"
     ]
    },
    {
     "name": "stderr",
     "output_type": "stream",
     "text": [
      "Training (7519 / 18000 Steps) (loss=0.43011): 100%|██████████| 80/80 [01:04<00:00,  1.24it/s]\n",
      "Training (7599 / 18000 Steps) (loss=0.32975): 100%|██████████| 80/80 [00:39<00:00,  2.00it/s]\n",
      "Validate (7600 / 10 Steps): 100%|██████████| 18/18 [00:23<00:00,  1.29s/it]?, ?it/s]\n",
      "Training (7600 / 18000 Steps) (loss=0.52378):   1%|▏         | 1/80 [00:26<34:41, 26.35s/it]"
     ]
    },
    {
     "name": "stdout",
     "output_type": "stream",
     "text": [
      "Model Was Not Saved ! Current Best Avg. Dice: 0.6452364921569824 Current Avg. Dice: 0.6167471408843994 Current Avg. tumor Dice: 0.635520339012146 Current Avg. lymph Dice: 0.625217080116272\n"
     ]
    },
    {
     "name": "stderr",
     "output_type": "stream",
     "text": [
      "Training (7679 / 18000 Steps) (loss=0.41297): 100%|██████████| 80/80 [01:03<00:00,  1.26it/s]\n",
      "Validate (7680 / 10 Steps): 100%|██████████| 18/18 [00:22<00:00,  1.28s/it]<00:27,  2.16it/s]\n",
      "Training (7700 / 18000 Steps) (loss=0.42819):  26%|██▋       | 21/80 [00:36<07:14,  7.37s/it]"
     ]
    },
    {
     "name": "stdout",
     "output_type": "stream",
     "text": [
      "Model Was Not Saved ! Current Best Avg. Dice: 0.6452364921569824 Current Avg. Dice: 0.6114269495010376 Current Avg. tumor Dice: 0.6296065449714661 Current Avg. lymph Dice: 0.6196529865264893\n"
     ]
    },
    {
     "name": "stderr",
     "output_type": "stream",
     "text": [
      "Training (7759 / 18000 Steps) (loss=0.36373): 100%|██████████| 80/80 [01:04<00:00,  1.23it/s]\n",
      "Validate (7760 / 10 Steps): 100%|██████████| 18/18 [00:23<00:00,  1.28s/it]<00:19,  2.07it/s]\n",
      "Training (7800 / 18000 Steps) (loss=0.39232):  51%|█████▏    | 41/80 [00:45<04:50,  7.44s/it]"
     ]
    },
    {
     "name": "stdout",
     "output_type": "stream",
     "text": [
      "Model Was Not Saved ! Current Best Avg. Dice: 0.6452364921569824 Current Avg. Dice: 0.6076270341873169 Current Avg. tumor Dice: 0.6498159170150757 Current Avg. lymph Dice: 0.587088942527771\n"
     ]
    },
    {
     "name": "stderr",
     "output_type": "stream",
     "text": [
      "Training (7839 / 18000 Steps) (loss=0.46850): 100%|██████████| 80/80 [01:04<00:00,  1.24it/s]\n",
      "Validate (7840 / 10 Steps): 100%|██████████| 18/18 [00:22<00:00,  1.27s/it]<00:09,  2.02it/s]\n",
      "Training (7900 / 18000 Steps) (loss=0.39474):  76%|███████▋  | 61/80 [00:55<02:20,  7.40s/it]"
     ]
    },
    {
     "name": "stdout",
     "output_type": "stream",
     "text": [
      "Model Was Not Saved ! Current Best Avg. Dice: 0.6452364921569824 Current Avg. Dice: 0.620674192905426 Current Avg. tumor Dice: 0.6391830444335938 Current Avg. lymph Dice: 0.6263946294784546\n"
     ]
    },
    {
     "name": "stderr",
     "output_type": "stream",
     "text": [
      "Training (7919 / 18000 Steps) (loss=0.60830): 100%|██████████| 80/80 [01:04<00:00,  1.24it/s]\n",
      "Training (7999 / 18000 Steps) (loss=0.46320): 100%|██████████| 80/80 [00:41<00:00,  1.92it/s]\n",
      "Validate (8000 / 10 Steps): 100%|██████████| 18/18 [00:23<00:00,  1.28s/it]?, ?it/s]\n",
      "Training (8000 / 18000 Steps) (loss=0.50886):   1%|▏         | 1/80 [00:26<34:48, 26.44s/it]"
     ]
    },
    {
     "name": "stdout",
     "output_type": "stream",
     "text": [
      "Model Was Not Saved ! Current Best Avg. Dice: 0.6452364921569824 Current Avg. Dice: 0.6249810457229614 Current Avg. tumor Dice: 0.6486960053443909 Current Avg. lymph Dice: 0.6221238970756531\n"
     ]
    },
    {
     "name": "stderr",
     "output_type": "stream",
     "text": [
      "Training (8079 / 18000 Steps) (loss=0.38443): 100%|██████████| 80/80 [01:04<00:00,  1.25it/s]\n",
      "Validate (8080 / 10 Steps): 100%|██████████| 18/18 [00:22<00:00,  1.28s/it]<00:27,  2.21it/s]\n",
      "Training (8100 / 18000 Steps) (loss=0.47523):  26%|██▋       | 21/80 [00:35<07:14,  7.37s/it]"
     ]
    },
    {
     "name": "stdout",
     "output_type": "stream",
     "text": [
      "Model Was Not Saved ! Current Best Avg. Dice: 0.6452364921569824 Current Avg. Dice: 0.6339943408966064 Current Avg. tumor Dice: 0.6720154285430908 Current Avg. lymph Dice: 0.6203877925872803\n"
     ]
    },
    {
     "name": "stderr",
     "output_type": "stream",
     "text": [
      "Training (8159 / 18000 Steps) (loss=0.49971): 100%|██████████| 80/80 [01:03<00:00,  1.26it/s]\n",
      "Validate (8160 / 10 Steps): 100%|██████████| 18/18 [00:23<00:00,  1.29s/it]<00:19,  2.08it/s]\n",
      "Training (8200 / 18000 Steps) (loss=0.46546):  51%|█████▏    | 41/80 [00:45<04:50,  7.46s/it]"
     ]
    },
    {
     "name": "stdout",
     "output_type": "stream",
     "text": [
      "Model Was Not Saved ! Current Best Avg. Dice: 0.6452364921569824 Current Avg. Dice: 0.6397995352745056 Current Avg. tumor Dice: 0.6684247851371765 Current Avg. lymph Dice: 0.6338509321212769\n"
     ]
    },
    {
     "name": "stderr",
     "output_type": "stream",
     "text": [
      "Training (8239 / 18000 Steps) (loss=0.58584): 100%|██████████| 80/80 [01:04<00:00,  1.25it/s]\n",
      "Validate (8240 / 10 Steps): 100%|██████████| 18/18 [00:22<00:00,  1.28s/it]<00:09,  2.15it/s]\n",
      "Training (8300 / 18000 Steps) (loss=0.46754):  76%|███████▋  | 61/80 [00:55<02:20,  7.38s/it]"
     ]
    },
    {
     "name": "stdout",
     "output_type": "stream",
     "text": [
      "Model Was Not Saved ! Current Best Avg. Dice: 0.6452364921569824 Current Avg. Dice: 0.6226394772529602 Current Avg. tumor Dice: 0.6481020450592041 Current Avg. lymph Dice: 0.6224583387374878\n"
     ]
    },
    {
     "name": "stderr",
     "output_type": "stream",
     "text": [
      "Training (8319 / 18000 Steps) (loss=0.27717): 100%|██████████| 80/80 [01:04<00:00,  1.24it/s]\n",
      "Training (8399 / 18000 Steps) (loss=0.63849): 100%|██████████| 80/80 [00:41<00:00,  1.93it/s]\n",
      "Validate (8400 / 10 Steps): 100%|██████████| 18/18 [00:22<00:00,  1.27s/it]?, ?it/s]\n",
      "Training (8400 / 18000 Steps) (loss=0.37636):   1%|▏         | 1/80 [00:26<34:32, 26.23s/it]"
     ]
    },
    {
     "name": "stdout",
     "output_type": "stream",
     "text": [
      "Model Was Not Saved ! Current Best Avg. Dice: 0.6452364921569824 Current Avg. Dice: 0.617317795753479 Current Avg. tumor Dice: 0.6419901251792908 Current Avg. lymph Dice: 0.6172620058059692\n"
     ]
    },
    {
     "name": "stderr",
     "output_type": "stream",
     "text": [
      "Training (8479 / 18000 Steps) (loss=0.45909): 100%|██████████| 80/80 [01:03<00:00,  1.25it/s]\n",
      "Validate (8480 / 10 Steps): 100%|██████████| 18/18 [00:22<00:00,  1.27s/it]<00:28,  2.11it/s]\n",
      "Training (8500 / 18000 Steps) (loss=0.44009):  26%|██▋       | 21/80 [00:35<07:13,  7.34s/it]"
     ]
    },
    {
     "name": "stdout",
     "output_type": "stream",
     "text": [
      "Model Was Not Saved ! Current Best Avg. Dice: 0.6452364921569824 Current Avg. Dice: 0.6066394448280334 Current Avg. tumor Dice: 0.6350652575492859 Current Avg. lymph Dice: 0.5977286100387573\n"
     ]
    },
    {
     "name": "stderr",
     "output_type": "stream",
     "text": [
      "Training (8559 / 18000 Steps) (loss=0.43248): 100%|██████████| 80/80 [01:03<00:00,  1.25it/s]\n",
      "Validate (8560 / 10 Steps): 100%|██████████| 18/18 [00:23<00:00,  1.30s/it]<00:19,  2.10it/s]\n",
      "Training (8600 / 18000 Steps) (loss=0.41139):  51%|█████▏    | 41/80 [00:45<04:52,  7.51s/it]"
     ]
    },
    {
     "name": "stdout",
     "output_type": "stream",
     "text": [
      "Model Was Not Saved ! Current Best Avg. Dice: 0.6452364921569824 Current Avg. Dice: 0.6414266228675842 Current Avg. tumor Dice: 0.673357367515564 Current Avg. lymph Dice: 0.6327171921730042\n"
     ]
    },
    {
     "name": "stderr",
     "output_type": "stream",
     "text": [
      "Training (8639 / 18000 Steps) (loss=0.37027): 100%|██████████| 80/80 [01:04<00:00,  1.24it/s]\n",
      "Validate (8640 / 10 Steps): 100%|██████████| 18/18 [00:23<00:00,  1.28s/it]<00:09,  2.10it/s]\n",
      "Training (8700 / 18000 Steps) (loss=0.38116):  76%|███████▋  | 61/80 [00:54<02:20,  7.41s/it]"
     ]
    },
    {
     "name": "stdout",
     "output_type": "stream",
     "text": [
      "Model Was Not Saved ! Current Best Avg. Dice: 0.6452364921569824 Current Avg. Dice: 0.6355417370796204 Current Avg. tumor Dice: 0.6548337936401367 Current Avg. lymph Dice: 0.6370921730995178\n"
     ]
    },
    {
     "name": "stderr",
     "output_type": "stream",
     "text": [
      "Training (8719 / 18000 Steps) (loss=0.52545): 100%|██████████| 80/80 [01:03<00:00,  1.25it/s]\n",
      "Training (8799 / 18000 Steps) (loss=0.40854): 100%|██████████| 80/80 [00:40<00:00,  1.96it/s]\n",
      "Validate (8800 / 10 Steps): 100%|██████████| 18/18 [00:22<00:00,  1.27s/it]?, ?it/s]\n",
      "Training (8800 / 18000 Steps) (loss=0.54841):   1%|▏         | 1/80 [00:26<34:27, 26.17s/it]"
     ]
    },
    {
     "name": "stdout",
     "output_type": "stream",
     "text": [
      "Model Was Not Saved ! Current Best Avg. Dice: 0.6452364921569824 Current Avg. Dice: 0.6327694058418274 Current Avg. tumor Dice: 0.6601241230964661 Current Avg. lymph Dice: 0.6312544941902161\n"
     ]
    },
    {
     "name": "stderr",
     "output_type": "stream",
     "text": [
      "Training (8879 / 18000 Steps) (loss=0.39204): 100%|██████████| 80/80 [01:03<00:00,  1.26it/s]\n",
      "Validate (8880 / 10 Steps): 100%|██████████| 18/18 [00:22<00:00,  1.27s/it]<00:29,  2.07it/s]\n",
      "Training (8900 / 18000 Steps) (loss=0.52486):  26%|██▋       | 21/80 [00:35<07:14,  7.36s/it]"
     ]
    },
    {
     "name": "stdout",
     "output_type": "stream",
     "text": [
      "Model Was Not Saved ! Current Best Avg. Dice: 0.6452364921569824 Current Avg. Dice: 0.6280382871627808 Current Avg. tumor Dice: 0.6426525712013245 Current Avg. lymph Dice: 0.6372393369674683\n"
     ]
    },
    {
     "name": "stderr",
     "output_type": "stream",
     "text": [
      "Training (8959 / 18000 Steps) (loss=0.27366): 100%|██████████| 80/80 [01:04<00:00,  1.25it/s]\n",
      "Validate (8960 / 10 Steps): 100%|██████████| 18/18 [00:23<00:00,  1.30s/it]<00:19,  2.05it/s]\n",
      "Training (9000 / 18000 Steps) (loss=0.53285):  51%|█████▏    | 41/80 [00:46<04:53,  7.53s/it]"
     ]
    },
    {
     "name": "stdout",
     "output_type": "stream",
     "text": [
      "Model Was Not Saved ! Current Best Avg. Dice: 0.6452364921569824 Current Avg. Dice: 0.6315522193908691 Current Avg. tumor Dice: 0.6345522403717041 Current Avg. lymph Dice: 0.6615393757820129\n"
     ]
    },
    {
     "name": "stderr",
     "output_type": "stream",
     "text": [
      "Training (9039 / 18000 Steps) (loss=0.53692): 100%|██████████| 80/80 [01:04<00:00,  1.23it/s]\n",
      "Validate (9040 / 10 Steps): 100%|██████████| 18/18 [00:23<00:00,  1.30s/it]<00:09,  2.14it/s]\n",
      "Training (9100 / 18000 Steps) (loss=0.48796):  76%|███████▋  | 61/80 [00:55<02:22,  7.51s/it]"
     ]
    },
    {
     "name": "stdout",
     "output_type": "stream",
     "text": [
      "Model Was Not Saved ! Current Best Avg. Dice: 0.6452364921569824 Current Avg. Dice: 0.6294369697570801 Current Avg. tumor Dice: 0.657887876033783 Current Avg. lymph Dice: 0.6264450550079346\n"
     ]
    },
    {
     "name": "stderr",
     "output_type": "stream",
     "text": [
      "Training (9119 / 18000 Steps) (loss=0.48730): 100%|██████████| 80/80 [01:04<00:00,  1.24it/s]\n",
      "Training (9199 / 18000 Steps) (loss=0.42050): 100%|██████████| 80/80 [00:40<00:00,  1.96it/s]\n",
      "Validate (9200 / 10 Steps): 100%|██████████| 18/18 [00:23<00:00,  1.31s/it]?, ?it/s]\n",
      "Training (9200 / 18000 Steps) (loss=0.38033):   1%|▏         | 1/80 [00:26<35:27, 26.93s/it]"
     ]
    },
    {
     "name": "stdout",
     "output_type": "stream",
     "text": [
      "Model Was Not Saved ! Current Best Avg. Dice: 0.6452364921569824 Current Avg. Dice: 0.6409494876861572 Current Avg. tumor Dice: 0.6731895804405212 Current Avg. lymph Dice: 0.6351603269577026\n"
     ]
    },
    {
     "name": "stderr",
     "output_type": "stream",
     "text": [
      "Training (9279 / 18000 Steps) (loss=0.44417): 100%|██████████| 80/80 [01:05<00:00,  1.23it/s]\n",
      "Validate (9280 / 10 Steps): 100%|██████████| 18/18 [00:23<00:00,  1.28s/it]<00:28,  2.10it/s]\n",
      "Training (9300 / 18000 Steps) (loss=0.46886):  26%|██▋       | 21/80 [00:35<07:17,  7.42s/it]"
     ]
    },
    {
     "name": "stdout",
     "output_type": "stream",
     "text": [
      "Model Was Not Saved ! Current Best Avg. Dice: 0.6452364921569824 Current Avg. Dice: 0.5862709879875183 Current Avg. tumor Dice: 0.6038963198661804 Current Avg. lymph Dice: 0.5910853147506714\n"
     ]
    },
    {
     "name": "stderr",
     "output_type": "stream",
     "text": [
      "Training (9359 / 18000 Steps) (loss=0.34674): 100%|██████████| 80/80 [01:04<00:00,  1.25it/s]\n",
      "Validate (9360 / 10 Steps): 100%|██████████| 18/18 [00:22<00:00,  1.26s/it]<00:18,  2.12it/s]\n",
      "Training (9400 / 18000 Steps) (loss=0.37297):  51%|█████▏    | 41/80 [00:44<04:44,  7.31s/it]"
     ]
    },
    {
     "name": "stdout",
     "output_type": "stream",
     "text": [
      "Model Was Not Saved ! Current Best Avg. Dice: 0.6452364921569824 Current Avg. Dice: 0.6207234263420105 Current Avg. tumor Dice: 0.6525001525878906 Current Avg. lymph Dice: 0.6115966439247131\n"
     ]
    },
    {
     "name": "stderr",
     "output_type": "stream",
     "text": [
      "Training (9439 / 18000 Steps) (loss=0.51483): 100%|██████████| 80/80 [01:03<00:00,  1.26it/s]\n",
      "Validate (9440 / 10 Steps): 100%|██████████| 18/18 [00:23<00:00,  1.28s/it]<00:09,  2.13it/s]\n",
      "Training (9500 / 18000 Steps) (loss=0.45754):  76%|███████▋  | 61/80 [00:54<02:20,  7.41s/it]"
     ]
    },
    {
     "name": "stdout",
     "output_type": "stream",
     "text": [
      "Model Was Not Saved ! Current Best Avg. Dice: 0.6452364921569824 Current Avg. Dice: 0.6167374849319458 Current Avg. tumor Dice: 0.6340322494506836 Current Avg. lymph Dice: 0.6301196813583374\n"
     ]
    },
    {
     "name": "stderr",
     "output_type": "stream",
     "text": [
      "Training (9519 / 18000 Steps) (loss=0.45144): 100%|██████████| 80/80 [01:03<00:00,  1.26it/s]\n",
      "Training (9599 / 18000 Steps) (loss=0.45659): 100%|██████████| 80/80 [00:41<00:00,  1.93it/s]\n",
      "Validate (9600 / 10 Steps): 100%|██████████| 18/18 [00:23<00:00,  1.28s/it]?, ?it/s]\n",
      "Training (9600 / 18000 Steps) (loss=0.38297):   1%|▏         | 1/80 [00:26<35:07, 26.68s/it]"
     ]
    },
    {
     "name": "stdout",
     "output_type": "stream",
     "text": [
      "Model Was Not Saved ! Current Best Avg. Dice: 0.6452364921569824 Current Avg. Dice: 0.6311563849449158 Current Avg. tumor Dice: 0.6577178835868835 Current Avg. lymph Dice: 0.6354963183403015\n"
     ]
    },
    {
     "name": "stderr",
     "output_type": "stream",
     "text": [
      "Training (9679 / 18000 Steps) (loss=0.54414): 100%|██████████| 80/80 [01:03<00:00,  1.25it/s]\n",
      "Validate (9680 / 10 Steps): 100%|██████████| 18/18 [00:23<00:00,  1.29s/it]<00:27,  2.17it/s]\n",
      "Training (9700 / 18000 Steps) (loss=0.50303):  26%|██▋       | 21/80 [00:36<07:20,  7.46s/it]"
     ]
    },
    {
     "name": "stdout",
     "output_type": "stream",
     "text": [
      "Model Was Not Saved ! Current Best Avg. Dice: 0.6452364921569824 Current Avg. Dice: 0.6086754202842712 Current Avg. tumor Dice: 0.6266836524009705 Current Avg. lymph Dice: 0.6080238819122314\n"
     ]
    },
    {
     "name": "stderr",
     "output_type": "stream",
     "text": [
      "Training (9759 / 18000 Steps) (loss=0.46633): 100%|██████████| 80/80 [01:04<00:00,  1.24it/s]\n",
      "Validate (9760 / 10 Steps): 100%|██████████| 18/18 [00:22<00:00,  1.27s/it]<00:18,  2.15it/s]\n",
      "Training (9800 / 18000 Steps) (loss=0.31341):  51%|█████▏    | 41/80 [00:45<04:46,  7.35s/it]"
     ]
    },
    {
     "name": "stdout",
     "output_type": "stream",
     "text": [
      "Model Was Not Saved ! Current Best Avg. Dice: 0.6452364921569824 Current Avg. Dice: 0.6231200098991394 Current Avg. tumor Dice: 0.652569591999054 Current Avg. lymph Dice: 0.6162872314453125\n"
     ]
    },
    {
     "name": "stderr",
     "output_type": "stream",
     "text": [
      "Training (9839 / 18000 Steps) (loss=0.57309): 100%|██████████| 80/80 [01:03<00:00,  1.26it/s]\n",
      "Validate (9840 / 10 Steps): 100%|██████████| 18/18 [00:22<00:00,  1.26s/it]<00:09,  2.15it/s]\n",
      "Training (9900 / 18000 Steps) (loss=0.45434):  76%|███████▋  | 61/80 [00:54<02:17,  7.26s/it]"
     ]
    },
    {
     "name": "stdout",
     "output_type": "stream",
     "text": [
      "Model Was Not Saved ! Current Best Avg. Dice: 0.6452364921569824 Current Avg. Dice: 0.6277036666870117 Current Avg. tumor Dice: 0.6631175875663757 Current Avg. lymph Dice: 0.6169942021369934\n"
     ]
    },
    {
     "name": "stderr",
     "output_type": "stream",
     "text": [
      "Training (9919 / 18000 Steps) (loss=0.54818): 100%|██████████| 80/80 [01:03<00:00,  1.27it/s]\n",
      "Training (9999 / 18000 Steps) (loss=0.49365): 100%|██████████| 80/80 [00:41<00:00,  1.93it/s]\n",
      "Validate (10000 / 10 Steps): 100%|██████████| 18/18 [00:22<00:00,  1.26s/it]?, ?it/s]\n",
      "Training (10000 / 18000 Steps) (loss=0.30663):   1%|▏         | 1/80 [00:25<33:49, 25.68s/it]"
     ]
    },
    {
     "name": "stdout",
     "output_type": "stream",
     "text": [
      "Model Was Not Saved ! Current Best Avg. Dice: 0.6452364921569824 Current Avg. Dice: 0.6389397382736206 Current Avg. tumor Dice: 0.6644886136054993 Current Avg. lymph Dice: 0.6351232528686523\n"
     ]
    },
    {
     "name": "stderr",
     "output_type": "stream",
     "text": [
      "Training (10079 / 18000 Steps) (loss=0.54885): 100%|██████████| 80/80 [01:02<00:00,  1.27it/s]\n",
      "Validate (10080 / 10 Steps): 100%|██████████| 18/18 [00:22<00:00,  1.26s/it]<00:27,  2.20it/s]\n",
      "Training (10100 / 18000 Steps) (loss=0.41237):  26%|██▋       | 21/80 [00:35<07:10,  7.29s/it]"
     ]
    },
    {
     "name": "stdout",
     "output_type": "stream",
     "text": [
      "Model Was Not Saved ! Current Best Avg. Dice: 0.6452364921569824 Current Avg. Dice: 0.6129333972930908 Current Avg. tumor Dice: 0.6346978545188904 Current Avg. lymph Dice: 0.6083745956420898\n"
     ]
    },
    {
     "name": "stderr",
     "output_type": "stream",
     "text": [
      "Training (10159 / 18000 Steps) (loss=0.46326): 100%|██████████| 80/80 [01:03<00:00,  1.27it/s]\n",
      "Validate (10160 / 10 Steps): 100%|██████████| 18/18 [00:23<00:00,  1.29s/it]<00:19,  2.03it/s]\n",
      "Training (10200 / 18000 Steps) (loss=0.49186):  51%|█████▏    | 41/80 [00:45<04:51,  7.46s/it]"
     ]
    },
    {
     "name": "stdout",
     "output_type": "stream",
     "text": [
      "Model Was Not Saved ! Current Best Avg. Dice: 0.6452364921569824 Current Avg. Dice: 0.6287587881088257 Current Avg. tumor Dice: 0.6656298041343689 Current Avg. lymph Dice: 0.6186280846595764\n"
     ]
    },
    {
     "name": "stderr",
     "output_type": "stream",
     "text": [
      "Training (10239 / 18000 Steps) (loss=0.48806): 100%|██████████| 80/80 [01:04<00:00,  1.24it/s]\n",
      "Validate (10240 / 10 Steps): 100%|██████████| 18/18 [00:22<00:00,  1.28s/it]<00:09,  2.10it/s]\n",
      "Training (10300 / 18000 Steps) (loss=0.37491):  76%|███████▋  | 61/80 [00:55<02:20,  7.40s/it]"
     ]
    },
    {
     "name": "stdout",
     "output_type": "stream",
     "text": [
      "Model Was Not Saved ! Current Best Avg. Dice: 0.6452364921569824 Current Avg. Dice: 0.6087576746940613 Current Avg. tumor Dice: 0.6345469951629639 Current Avg. lymph Dice: 0.6121310591697693\n"
     ]
    },
    {
     "name": "stderr",
     "output_type": "stream",
     "text": [
      "Training (10319 / 18000 Steps) (loss=0.44439): 100%|██████████| 80/80 [01:04<00:00,  1.25it/s]\n",
      "Training (10399 / 18000 Steps) (loss=0.43460): 100%|██████████| 80/80 [00:41<00:00,  1.93it/s]\n",
      "Validate (10400 / 10 Steps): 100%|██████████| 18/18 [00:23<00:00,  1.28s/it]?, ?it/s]\n",
      "Training (10400 / 18000 Steps) (loss=0.32470):   1%|▏         | 1/80 [00:26<34:23, 26.12s/it]"
     ]
    },
    {
     "name": "stdout",
     "output_type": "stream",
     "text": [
      "Model Was Not Saved ! Current Best Avg. Dice: 0.6452364921569824 Current Avg. Dice: 0.6359343528747559 Current Avg. tumor Dice: 0.6783238053321838 Current Avg. lymph Dice: 0.6242377758026123\n"
     ]
    },
    {
     "name": "stderr",
     "output_type": "stream",
     "text": [
      "Training (10479 / 18000 Steps) (loss=0.52970): 100%|██████████| 80/80 [01:03<00:00,  1.26it/s]\n",
      "Validate (10480 / 10 Steps): 100%|██████████| 18/18 [00:22<00:00,  1.27s/it]<00:27,  2.16it/s]\n",
      "Training (10500 / 18000 Steps) (loss=0.40631):  26%|██▋       | 21/80 [00:35<07:13,  7.35s/it]"
     ]
    },
    {
     "name": "stdout",
     "output_type": "stream",
     "text": [
      "Model Was Not Saved ! Current Best Avg. Dice: 0.6452364921569824 Current Avg. Dice: 0.6282269954681396 Current Avg. tumor Dice: 0.6611579060554504 Current Avg. lymph Dice: 0.6176574230194092\n"
     ]
    },
    {
     "name": "stderr",
     "output_type": "stream",
     "text": [
      "Training (10559 / 18000 Steps) (loss=0.26980): 100%|██████████| 80/80 [01:03<00:00,  1.26it/s]\n",
      "Validate (10560 / 10 Steps): 100%|██████████| 18/18 [00:22<00:00,  1.28s/it]<00:18,  2.13it/s]\n",
      "Training (10600 / 18000 Steps) (loss=0.49381):  51%|█████▏    | 41/80 [00:45<04:48,  7.39s/it]"
     ]
    },
    {
     "name": "stdout",
     "output_type": "stream",
     "text": [
      "Model Was Not Saved ! Current Best Avg. Dice: 0.6452364921569824 Current Avg. Dice: 0.6249675750732422 Current Avg. tumor Dice: 0.665272057056427 Current Avg. lymph Dice: 0.6087149381637573\n"
     ]
    },
    {
     "name": "stderr",
     "output_type": "stream",
     "text": [
      "Training (10639 / 18000 Steps) (loss=0.47404): 100%|██████████| 80/80 [01:03<00:00,  1.25it/s]\n",
      "Validate (10640 / 10 Steps): 100%|██████████| 18/18 [00:23<00:00,  1.28s/it]<00:09,  2.19it/s]\n",
      "Training (10700 / 18000 Steps) (loss=0.46443):  76%|███████▋  | 61/80 [00:54<02:20,  7.38s/it]"
     ]
    },
    {
     "name": "stdout",
     "output_type": "stream",
     "text": [
      "Model Was Not Saved ! Current Best Avg. Dice: 0.6452364921569824 Current Avg. Dice: 0.6250118613243103 Current Avg. tumor Dice: 0.6516202688217163 Current Avg. lymph Dice: 0.6267944574356079\n"
     ]
    },
    {
     "name": "stderr",
     "output_type": "stream",
     "text": [
      "Training (10719 / 18000 Steps) (loss=0.37292): 100%|██████████| 80/80 [01:03<00:00,  1.26it/s]\n",
      "Training (10799 / 18000 Steps) (loss=0.37496): 100%|██████████| 80/80 [00:40<00:00,  1.96it/s]\n",
      "Validate (10800 / 10 Steps): 100%|██████████| 18/18 [00:23<00:00,  1.29s/it]?, ?it/s]\n",
      "Training (10800 / 18000 Steps) (loss=0.54613):   1%|▏         | 1/80 [00:26<34:58, 26.56s/it]"
     ]
    },
    {
     "name": "stdout",
     "output_type": "stream",
     "text": [
      "Model Was Not Saved ! Current Best Avg. Dice: 0.6452364921569824 Current Avg. Dice: 0.633638322353363 Current Avg. tumor Dice: 0.6650700569152832 Current Avg. lymph Dice: 0.6243208646774292\n"
     ]
    },
    {
     "name": "stderr",
     "output_type": "stream",
     "text": [
      "Training (10879 / 18000 Steps) (loss=0.52846): 100%|██████████| 80/80 [01:03<00:00,  1.25it/s]\n",
      "Validate (10880 / 10 Steps): 100%|██████████| 18/18 [00:22<00:00,  1.27s/it]<00:28,  2.11it/s]\n",
      "Training (10900 / 18000 Steps) (loss=0.43320):  26%|██▋       | 21/80 [00:35<07:12,  7.32s/it]"
     ]
    },
    {
     "name": "stdout",
     "output_type": "stream",
     "text": [
      "Model Was Not Saved ! Current Best Avg. Dice: 0.6452364921569824 Current Avg. Dice: 0.6334120631217957 Current Avg. tumor Dice: 0.6681596636772156 Current Avg. lymph Dice: 0.6222568154335022\n"
     ]
    },
    {
     "name": "stderr",
     "output_type": "stream",
     "text": [
      "Training (10959 / 18000 Steps) (loss=0.41898): 100%|██████████| 80/80 [01:03<00:00,  1.26it/s]\n",
      "Validate (10960 / 10 Steps): 100%|██████████| 18/18 [00:23<00:00,  1.28s/it]<00:19,  2.05it/s]\n",
      "Training (11000 / 18000 Steps) (loss=0.43724):  51%|█████▏    | 41/80 [00:46<05:00,  7.69s/it]"
     ]
    },
    {
     "name": "stdout",
     "output_type": "stream",
     "text": [
      "Model Was Saved ! Current Best Avg. Dice: 0.646027684211731 Current Avg. Dice: 0.646027684211731 Current Avg. tumor Dice: 0.6820423007011414 Current Avg. lymph Dice: 0.6382428407669067\n"
     ]
    },
    {
     "name": "stderr",
     "output_type": "stream",
     "text": [
      "Training (11039 / 18000 Steps) (loss=0.29430): 100%|██████████| 80/80 [01:04<00:00,  1.24it/s]\n",
      "Validate (11040 / 10 Steps): 100%|██████████| 18/18 [00:23<00:00,  1.28s/it]<00:09,  2.15it/s]\n",
      "Training (11100 / 18000 Steps) (loss=0.39179):  76%|███████▋  | 61/80 [00:55<02:24,  7.60s/it]"
     ]
    },
    {
     "name": "stdout",
     "output_type": "stream",
     "text": [
      "Model Was Saved ! Current Best Avg. Dice: 0.6506337523460388 Current Avg. Dice: 0.6506337523460388 Current Avg. tumor Dice: 0.6828504204750061 Current Avg. lymph Dice: 0.6435542702674866\n"
     ]
    },
    {
     "name": "stderr",
     "output_type": "stream",
     "text": [
      "Training (11119 / 18000 Steps) (loss=0.50116): 100%|██████████| 80/80 [01:04<00:00,  1.24it/s]\n",
      "Training (11199 / 18000 Steps) (loss=0.44214): 100%|██████████| 80/80 [00:40<00:00,  1.96it/s]\n",
      "Validate (11200 / 10 Steps): 100%|██████████| 18/18 [00:23<00:00,  1.28s/it]?, ?it/s]\n",
      "Training (11200 / 18000 Steps) (loss=0.17592):   1%|▏         | 1/80 [00:26<34:22, 26.11s/it]"
     ]
    },
    {
     "name": "stdout",
     "output_type": "stream",
     "text": [
      "Model Was Not Saved ! Current Best Avg. Dice: 0.6506337523460388 Current Avg. Dice: 0.6194123029708862 Current Avg. tumor Dice: 0.6500323414802551 Current Avg. lymph Dice: 0.6172923445701599\n"
     ]
    },
    {
     "name": "stderr",
     "output_type": "stream",
     "text": [
      "Training (11279 / 18000 Steps) (loss=0.41778): 100%|██████████| 80/80 [01:03<00:00,  1.26it/s]\n",
      "Validate (11280 / 10 Steps): 100%|██████████| 18/18 [00:22<00:00,  1.26s/it]<00:27,  2.17it/s]\n",
      "Training (11300 / 18000 Steps) (loss=0.54438):  26%|██▋       | 21/80 [00:35<07:09,  7.28s/it]"
     ]
    },
    {
     "name": "stdout",
     "output_type": "stream",
     "text": [
      "Model Was Not Saved ! Current Best Avg. Dice: 0.6506337523460388 Current Avg. Dice: 0.6130151152610779 Current Avg. tumor Dice: 0.6547151803970337 Current Avg. lymph Dice: 0.5947268009185791\n"
     ]
    },
    {
     "name": "stderr",
     "output_type": "stream",
     "text": [
      "Training (11359 / 18000 Steps) (loss=0.48014): 100%|██████████| 80/80 [01:03<00:00,  1.27it/s]\n",
      "Validate (11360 / 10 Steps): 100%|██████████| 18/18 [00:22<00:00,  1.28s/it]<00:19,  2.10it/s]\n",
      "Training (11400 / 18000 Steps) (loss=0.47666):  51%|█████▏    | 41/80 [00:45<04:47,  7.38s/it]"
     ]
    },
    {
     "name": "stdout",
     "output_type": "stream",
     "text": [
      "Model Was Not Saved ! Current Best Avg. Dice: 0.6506337523460388 Current Avg. Dice: 0.6307128667831421 Current Avg. tumor Dice: 0.6656453013420105 Current Avg. lymph Dice: 0.619233250617981\n"
     ]
    },
    {
     "name": "stderr",
     "output_type": "stream",
     "text": [
      "Training (11439 / 18000 Steps) (loss=0.46404): 100%|██████████| 80/80 [01:04<00:00,  1.24it/s]\n",
      "Validate (11440 / 10 Steps): 100%|██████████| 18/18 [00:23<00:00,  1.28s/it]<00:09,  2.10it/s]\n",
      "Training (11500 / 18000 Steps) (loss=0.59196):  76%|███████▋  | 61/80 [00:55<02:20,  7.41s/it]"
     ]
    },
    {
     "name": "stdout",
     "output_type": "stream",
     "text": [
      "Model Was Not Saved ! Current Best Avg. Dice: 0.6506337523460388 Current Avg. Dice: 0.6360981464385986 Current Avg. tumor Dice: 0.6680977940559387 Current Avg. lymph Dice: 0.6303436756134033\n"
     ]
    },
    {
     "name": "stderr",
     "output_type": "stream",
     "text": [
      "Training (11519 / 18000 Steps) (loss=0.39134): 100%|██████████| 80/80 [01:04<00:00,  1.23it/s]\n",
      "Training (11599 / 18000 Steps) (loss=0.36076): 100%|██████████| 80/80 [00:41<00:00,  1.95it/s]\n",
      "Validate (11600 / 10 Steps): 100%|██████████| 18/18 [00:22<00:00,  1.28s/it]?, ?it/s]\n",
      "Training (11600 / 18000 Steps) (loss=0.45057):   1%|▏         | 1/80 [00:26<34:40, 26.33s/it]"
     ]
    },
    {
     "name": "stdout",
     "output_type": "stream",
     "text": [
      "Model Was Not Saved ! Current Best Avg. Dice: 0.6506337523460388 Current Avg. Dice: 0.6374914646148682 Current Avg. tumor Dice: 0.674100935459137 Current Avg. lymph Dice: 0.6283925175666809\n"
     ]
    },
    {
     "name": "stderr",
     "output_type": "stream",
     "text": [
      "Training (11679 / 18000 Steps) (loss=0.54192): 100%|██████████| 80/80 [01:03<00:00,  1.25it/s]\n",
      "Validate (11680 / 10 Steps): 100%|██████████| 18/18 [00:23<00:00,  1.28s/it]<00:29,  2.01it/s]\n",
      "Training (11700 / 18000 Steps) (loss=0.31443):  26%|██▋       | 21/80 [00:36<07:18,  7.44s/it]"
     ]
    },
    {
     "name": "stdout",
     "output_type": "stream",
     "text": [
      "Model Was Not Saved ! Current Best Avg. Dice: 0.6506337523460388 Current Avg. Dice: 0.6210644841194153 Current Avg. tumor Dice: 0.6411268711090088 Current Avg. lymph Dice: 0.6284620761871338\n"
     ]
    },
    {
     "name": "stderr",
     "output_type": "stream",
     "text": [
      "Training (11759 / 18000 Steps) (loss=0.46614): 100%|██████████| 80/80 [01:04<00:00,  1.25it/s]\n",
      "Validate (11760 / 10 Steps): 100%|██████████| 18/18 [00:22<00:00,  1.27s/it]<00:18,  2.12it/s]\n",
      "Training (11800 / 18000 Steps) (loss=0.33724):  51%|█████▏    | 41/80 [00:45<04:45,  7.32s/it]"
     ]
    },
    {
     "name": "stdout",
     "output_type": "stream",
     "text": [
      "Model Was Not Saved ! Current Best Avg. Dice: 0.6506337523460388 Current Avg. Dice: 0.6134567856788635 Current Avg. tumor Dice: 0.6480239033699036 Current Avg. lymph Dice: 0.6033534407615662\n"
     ]
    },
    {
     "name": "stderr",
     "output_type": "stream",
     "text": [
      "Training (11839 / 18000 Steps) (loss=0.51227): 100%|██████████| 80/80 [01:03<00:00,  1.25it/s]\n",
      "Validate (11840 / 10 Steps): 100%|██████████| 18/18 [00:22<00:00,  1.27s/it]<00:09,  2.09it/s]\n",
      "Training (11900 / 18000 Steps) (loss=0.34220):  76%|███████▋  | 61/80 [00:55<02:19,  7.36s/it]"
     ]
    },
    {
     "name": "stdout",
     "output_type": "stream",
     "text": [
      "Model Was Not Saved ! Current Best Avg. Dice: 0.6506337523460388 Current Avg. Dice: 0.6315152645111084 Current Avg. tumor Dice: 0.6660750508308411 Current Avg. lymph Dice: 0.6251564025878906\n"
     ]
    },
    {
     "name": "stderr",
     "output_type": "stream",
     "text": [
      "Training (11919 / 18000 Steps) (loss=0.37278): 100%|██████████| 80/80 [01:04<00:00,  1.23it/s]\n",
      "Training (11999 / 18000 Steps) (loss=0.39675): 100%|██████████| 80/80 [00:40<00:00,  1.96it/s]\n",
      "Validate (12000 / 10 Steps): 100%|██████████| 18/18 [00:22<00:00,  1.28s/it]?, ?it/s]\n",
      "Training (12000 / 18000 Steps) (loss=0.42481):   1%|▏         | 1/80 [00:25<33:59, 25.82s/it]"
     ]
    },
    {
     "name": "stdout",
     "output_type": "stream",
     "text": [
      "Model Was Not Saved ! Current Best Avg. Dice: 0.6506337523460388 Current Avg. Dice: 0.6280906796455383 Current Avg. tumor Dice: 0.6540223956108093 Current Avg. lymph Dice: 0.6323471665382385\n"
     ]
    },
    {
     "name": "stderr",
     "output_type": "stream",
     "text": [
      "Training (12079 / 18000 Steps) (loss=0.56387): 100%|██████████| 80/80 [01:03<00:00,  1.26it/s]\n",
      "Validate (12080 / 10 Steps): 100%|██████████| 18/18 [00:22<00:00,  1.28s/it]<00:29,  2.06it/s]\n",
      "Training (12100 / 18000 Steps) (loss=0.50811):  26%|██▋       | 21/80 [00:35<07:15,  7.38s/it]"
     ]
    },
    {
     "name": "stdout",
     "output_type": "stream",
     "text": [
      "Model Was Not Saved ! Current Best Avg. Dice: 0.6506337523460388 Current Avg. Dice: 0.6177637577056885 Current Avg. tumor Dice: 0.6322792172431946 Current Avg. lymph Dice: 0.6281039118766785\n"
     ]
    },
    {
     "name": "stderr",
     "output_type": "stream",
     "text": [
      "Training (12159 / 18000 Steps) (loss=0.62474): 100%|██████████| 80/80 [01:04<00:00,  1.25it/s]\n",
      "Validate (12160 / 10 Steps): 100%|██████████| 18/18 [00:23<00:00,  1.28s/it]<00:18,  2.14it/s]\n",
      "Training (12200 / 18000 Steps) (loss=0.53067):  51%|█████▏    | 41/80 [00:45<04:49,  7.41s/it]"
     ]
    },
    {
     "name": "stdout",
     "output_type": "stream",
     "text": [
      "Model Was Not Saved ! Current Best Avg. Dice: 0.6506337523460388 Current Avg. Dice: 0.6173161864280701 Current Avg. tumor Dice: 0.6547449827194214 Current Avg. lymph Dice: 0.600364625453949\n"
     ]
    },
    {
     "name": "stderr",
     "output_type": "stream",
     "text": [
      "Training (12239 / 18000 Steps) (loss=0.55529): 100%|██████████| 80/80 [01:03<00:00,  1.25it/s]\n",
      "Validate (12240 / 10 Steps): 100%|██████████| 18/18 [00:22<00:00,  1.26s/it]<00:09,  2.12it/s]\n",
      "Training (12300 / 18000 Steps) (loss=0.33986):  76%|███████▋  | 61/80 [00:54<02:18,  7.27s/it]"
     ]
    },
    {
     "name": "stdout",
     "output_type": "stream",
     "text": [
      "Model Was Not Saved ! Current Best Avg. Dice: 0.6506337523460388 Current Avg. Dice: 0.6200949549674988 Current Avg. tumor Dice: 0.6479275822639465 Current Avg. lymph Dice: 0.6199266910552979\n"
     ]
    },
    {
     "name": "stderr",
     "output_type": "stream",
     "text": [
      "Training (12319 / 18000 Steps) (loss=0.47678): 100%|██████████| 80/80 [01:03<00:00,  1.26it/s]\n",
      "Training (12399 / 18000 Steps) (loss=0.45433): 100%|██████████| 80/80 [00:40<00:00,  1.96it/s]\n",
      "Validate (12400 / 10 Steps): 100%|██████████| 18/18 [00:23<00:00,  1.28s/it]?, ?it/s]\n",
      "Training (12400 / 18000 Steps) (loss=0.47888):   1%|▏         | 1/80 [00:26<34:25, 26.14s/it]"
     ]
    },
    {
     "name": "stdout",
     "output_type": "stream",
     "text": [
      "Model Was Not Saved ! Current Best Avg. Dice: 0.6506337523460388 Current Avg. Dice: 0.6323422193527222 Current Avg. tumor Dice: 0.6590588092803955 Current Avg. lymph Dice: 0.6239593625068665\n"
     ]
    },
    {
     "name": "stderr",
     "output_type": "stream",
     "text": [
      "Training (12479 / 18000 Steps) (loss=0.54472): 100%|██████████| 80/80 [01:03<00:00,  1.25it/s]\n",
      "Validate (12480 / 10 Steps): 100%|██████████| 18/18 [00:22<00:00,  1.27s/it]<00:28,  2.10it/s]\n",
      "Training (12500 / 18000 Steps) (loss=0.41414):  26%|██▋       | 21/80 [00:35<07:14,  7.36s/it]"
     ]
    },
    {
     "name": "stdout",
     "output_type": "stream",
     "text": [
      "Model Was Not Saved ! Current Best Avg. Dice: 0.6506337523460388 Current Avg. Dice: 0.6196296215057373 Current Avg. tumor Dice: 0.6475106477737427 Current Avg. lymph Dice: 0.6165078282356262\n"
     ]
    },
    {
     "name": "stderr",
     "output_type": "stream",
     "text": [
      "Training (12559 / 18000 Steps) (loss=0.48596): 100%|██████████| 80/80 [01:03<00:00,  1.25it/s]\n",
      "Validate (12560 / 10 Steps): 100%|██████████| 18/18 [00:22<00:00,  1.27s/it]<00:19,  2.10it/s]\n",
      "Training (12600 / 18000 Steps) (loss=0.31647):  51%|█████▏    | 41/80 [00:44<04:46,  7.34s/it]"
     ]
    },
    {
     "name": "stdout",
     "output_type": "stream",
     "text": [
      "Model Was Not Saved ! Current Best Avg. Dice: 0.6506337523460388 Current Avg. Dice: 0.6233641505241394 Current Avg. tumor Dice: 0.6347442865371704 Current Avg. lymph Dice: 0.6445276737213135\n"
     ]
    },
    {
     "name": "stderr",
     "output_type": "stream",
     "text": [
      "Training (12639 / 18000 Steps) (loss=0.45834): 100%|██████████| 80/80 [01:03<00:00,  1.26it/s]\n",
      "Validate (12640 / 10 Steps): 100%|██████████| 18/18 [00:22<00:00,  1.27s/it]<00:09,  2.06it/s]\n",
      "Training (12700 / 18000 Steps) (loss=0.47347):  76%|███████▋  | 61/80 [00:54<02:19,  7.35s/it]"
     ]
    },
    {
     "name": "stdout",
     "output_type": "stream",
     "text": [
      "Model Was Not Saved ! Current Best Avg. Dice: 0.6506337523460388 Current Avg. Dice: 0.6264580488204956 Current Avg. tumor Dice: 0.6631783843040466 Current Avg. lymph Dice: 0.6178509593009949\n"
     ]
    },
    {
     "name": "stderr",
     "output_type": "stream",
     "text": [
      "Training (12719 / 18000 Steps) (loss=0.51641): 100%|██████████| 80/80 [01:04<00:00,  1.25it/s]\n",
      "Training (12799 / 18000 Steps) (loss=0.42467): 100%|██████████| 80/80 [00:41<00:00,  1.94it/s]\n",
      "Validate (12800 / 10 Steps): 100%|██████████| 18/18 [00:23<00:00,  1.28s/it]?, ?it/s]\n",
      "Training (12800 / 18000 Steps) (loss=0.46676):   1%|▏         | 1/80 [00:26<34:27, 26.17s/it]"
     ]
    },
    {
     "name": "stdout",
     "output_type": "stream",
     "text": [
      "Model Was Not Saved ! Current Best Avg. Dice: 0.6506337523460388 Current Avg. Dice: 0.6382433772087097 Current Avg. tumor Dice: 0.6686527729034424 Current Avg. lymph Dice: 0.6349680423736572\n"
     ]
    },
    {
     "name": "stderr",
     "output_type": "stream",
     "text": [
      "Training (12879 / 18000 Steps) (loss=0.45377): 100%|██████████| 80/80 [01:04<00:00,  1.25it/s]\n",
      "Validate (12880 / 10 Steps): 100%|██████████| 18/18 [00:22<00:00,  1.27s/it]<00:27,  2.18it/s]\n",
      "Training (12900 / 18000 Steps) (loss=0.28217):  26%|██▋       | 21/80 [00:35<07:14,  7.37s/it]"
     ]
    },
    {
     "name": "stdout",
     "output_type": "stream",
     "text": [
      "Model Was Not Saved ! Current Best Avg. Dice: 0.6506337523460388 Current Avg. Dice: 0.6322827935218811 Current Avg. tumor Dice: 0.6642249226570129 Current Avg. lymph Dice: 0.6227307319641113\n"
     ]
    },
    {
     "name": "stderr",
     "output_type": "stream",
     "text": [
      "Training (12959 / 18000 Steps) (loss=0.45843): 100%|██████████| 80/80 [01:03<00:00,  1.25it/s]\n",
      "Validate (12960 / 10 Steps): 100%|██████████| 18/18 [00:22<00:00,  1.27s/it]<00:18,  2.15it/s]\n",
      "Training (13000 / 18000 Steps) (loss=0.30886):  51%|█████▏    | 41/80 [00:45<04:46,  7.36s/it]"
     ]
    },
    {
     "name": "stdout",
     "output_type": "stream",
     "text": [
      "Model Was Not Saved ! Current Best Avg. Dice: 0.6506337523460388 Current Avg. Dice: 0.6482844948768616 Current Avg. tumor Dice: 0.6731294989585876 Current Avg. lymph Dice: 0.6517179608345032\n"
     ]
    },
    {
     "name": "stderr",
     "output_type": "stream",
     "text": [
      "Training (13039 / 18000 Steps) (loss=0.44424): 100%|██████████| 80/80 [01:04<00:00,  1.25it/s]\n",
      "Validate (13040 / 10 Steps): 100%|██████████| 18/18 [00:22<00:00,  1.27s/it]<00:09,  2.14it/s]\n",
      "Training (13100 / 18000 Steps) (loss=0.49967):  76%|███████▋  | 61/80 [00:54<02:19,  7.32s/it]"
     ]
    },
    {
     "name": "stdout",
     "output_type": "stream",
     "text": [
      "Model Was Not Saved ! Current Best Avg. Dice: 0.6506337523460388 Current Avg. Dice: 0.6287781596183777 Current Avg. tumor Dice: 0.6591772437095642 Current Avg. lymph Dice: 0.6208343505859375\n"
     ]
    },
    {
     "name": "stderr",
     "output_type": "stream",
     "text": [
      "Training (13119 / 18000 Steps) (loss=0.34168): 100%|██████████| 80/80 [01:03<00:00,  1.26it/s]\n",
      "Training (13199 / 18000 Steps) (loss=0.46978): 100%|██████████| 80/80 [00:40<00:00,  1.96it/s]\n",
      "Validate (13200 / 10 Steps): 100%|██████████| 18/18 [00:22<00:00,  1.28s/it]?, ?it/s]\n",
      "Training (13200 / 18000 Steps) (loss=0.44101):   1%|▏         | 1/80 [00:26<34:25, 26.15s/it]"
     ]
    },
    {
     "name": "stdout",
     "output_type": "stream",
     "text": [
      "Model Was Not Saved ! Current Best Avg. Dice: 0.6506337523460388 Current Avg. Dice: 0.6481837630271912 Current Avg. tumor Dice: 0.6852689981460571 Current Avg. lymph Dice: 0.6330997943878174\n"
     ]
    },
    {
     "name": "stderr",
     "output_type": "stream",
     "text": [
      "Training (13279 / 18000 Steps) (loss=0.33104): 100%|██████████| 80/80 [01:04<00:00,  1.25it/s]\n",
      "Validate (13280 / 10 Steps): 100%|██████████| 18/18 [00:22<00:00,  1.28s/it]<00:29,  2.06it/s]\n",
      "Training (13300 / 18000 Steps) (loss=0.40742):  26%|██▋       | 21/80 [00:35<07:15,  7.38s/it]"
     ]
    },
    {
     "name": "stdout",
     "output_type": "stream",
     "text": [
      "Model Was Not Saved ! Current Best Avg. Dice: 0.6506337523460388 Current Avg. Dice: 0.6395981907844543 Current Avg. tumor Dice: 0.6669480204582214 Current Avg. lymph Dice: 0.6410248279571533\n"
     ]
    },
    {
     "name": "stderr",
     "output_type": "stream",
     "text": [
      "Training (13359 / 18000 Steps) (loss=0.55818): 100%|██████████| 80/80 [01:03<00:00,  1.25it/s]\n",
      "Validate (13360 / 10 Steps): 100%|██████████| 18/18 [00:22<00:00,  1.28s/it]<00:19,  2.03it/s]\n",
      "Training (13400 / 18000 Steps) (loss=0.50358):  51%|█████▏    | 41/80 [00:45<04:48,  7.40s/it]"
     ]
    },
    {
     "name": "stdout",
     "output_type": "stream",
     "text": [
      "Model Was Not Saved ! Current Best Avg. Dice: 0.6506337523460388 Current Avg. Dice: 0.6087350845336914 Current Avg. tumor Dice: 0.6236220002174377 Current Avg. lymph Dice: 0.618951678276062\n"
     ]
    },
    {
     "name": "stderr",
     "output_type": "stream",
     "text": [
      "Training (13439 / 18000 Steps) (loss=0.43762): 100%|██████████| 80/80 [01:04<00:00,  1.24it/s]\n",
      "Validate (13440 / 10 Steps): 100%|██████████| 18/18 [00:23<00:00,  1.29s/it]<00:09,  2.02it/s]\n",
      "Training (13500 / 18000 Steps) (loss=0.46523):  76%|███████▋  | 61/80 [00:55<02:21,  7.44s/it]"
     ]
    },
    {
     "name": "stdout",
     "output_type": "stream",
     "text": [
      "Model Was Not Saved ! Current Best Avg. Dice: 0.6506337523460388 Current Avg. Dice: 0.6180932521820068 Current Avg. tumor Dice: 0.6491444110870361 Current Avg. lymph Dice: 0.6139510273933411\n"
     ]
    },
    {
     "name": "stderr",
     "output_type": "stream",
     "text": [
      "Training (13519 / 18000 Steps) (loss=0.49203): 100%|██████████| 80/80 [01:04<00:00,  1.24it/s]\n",
      "Training (13599 / 18000 Steps) (loss=0.36752): 100%|██████████| 80/80 [00:41<00:00,  1.94it/s]\n",
      "Validate (13600 / 10 Steps): 100%|██████████| 18/18 [00:23<00:00,  1.28s/it]?, ?it/s]\n",
      "Training (13600 / 18000 Steps) (loss=0.36465):   1%|▏         | 1/80 [00:26<34:32, 26.23s/it]"
     ]
    },
    {
     "name": "stdout",
     "output_type": "stream",
     "text": [
      "Model Was Not Saved ! Current Best Avg. Dice: 0.6506337523460388 Current Avg. Dice: 0.6274471879005432 Current Avg. tumor Dice: 0.6465956568717957 Current Avg. lymph Dice: 0.6389580965042114\n"
     ]
    },
    {
     "name": "stderr",
     "output_type": "stream",
     "text": [
      "Training (13679 / 18000 Steps) (loss=0.40973): 100%|██████████| 80/80 [01:04<00:00,  1.25it/s]\n",
      "Validate (13680 / 10 Steps): 100%|██████████| 18/18 [00:23<00:00,  1.29s/it]<00:28,  2.09it/s]\n",
      "Training (13700 / 18000 Steps) (loss=0.53678):  26%|██▋       | 21/80 [00:35<07:20,  7.47s/it]"
     ]
    },
    {
     "name": "stdout",
     "output_type": "stream",
     "text": [
      "Model Was Not Saved ! Current Best Avg. Dice: 0.6506337523460388 Current Avg. Dice: 0.6325008869171143 Current Avg. tumor Dice: 0.6653992533683777 Current Avg. lymph Dice: 0.6276229023933411\n"
     ]
    },
    {
     "name": "stderr",
     "output_type": "stream",
     "text": [
      "Training (13759 / 18000 Steps) (loss=0.51160): 100%|██████████| 80/80 [01:04<00:00,  1.24it/s]\n",
      "Validate (13760 / 10 Steps): 100%|██████████| 18/18 [00:22<00:00,  1.26s/it]<00:19,  2.09it/s]\n",
      "Training (13800 / 18000 Steps) (loss=0.55822):  51%|█████▏    | 41/80 [00:45<04:54,  7.55s/it]"
     ]
    },
    {
     "name": "stdout",
     "output_type": "stream",
     "text": [
      "Model Was Saved ! Current Best Avg. Dice: 0.6516297459602356 Current Avg. Dice: 0.6516297459602356 Current Avg. tumor Dice: 0.6866323351860046 Current Avg. lymph Dice: 0.6420835256576538\n"
     ]
    },
    {
     "name": "stderr",
     "output_type": "stream",
     "text": [
      "Training (13839 / 18000 Steps) (loss=0.45731): 100%|██████████| 80/80 [01:04<00:00,  1.24it/s]\n",
      "Validate (13840 / 10 Steps): 100%|██████████| 18/18 [00:22<00:00,  1.27s/it]<00:09,  2.14it/s]\n",
      "Training (13900 / 18000 Steps) (loss=0.53219):  76%|███████▋  | 61/80 [00:54<02:20,  7.37s/it]"
     ]
    },
    {
     "name": "stdout",
     "output_type": "stream",
     "text": [
      "Model Was Not Saved ! Current Best Avg. Dice: 0.6516297459602356 Current Avg. Dice: 0.6152446269989014 Current Avg. tumor Dice: 0.6442385315895081 Current Avg. lymph Dice: 0.6176623702049255\n"
     ]
    },
    {
     "name": "stderr",
     "output_type": "stream",
     "text": [
      "Training (13919 / 18000 Steps) (loss=0.46185): 100%|██████████| 80/80 [01:03<00:00,  1.27it/s]\n",
      "Training (13999 / 18000 Steps) (loss=0.51597): 100%|██████████| 80/80 [00:40<00:00,  1.98it/s]\n",
      "Validate (14000 / 10 Steps): 100%|██████████| 18/18 [00:23<00:00,  1.28s/it]?, ?it/s]\n",
      "Training (14000 / 18000 Steps) (loss=0.49841):   1%|▏         | 1/80 [00:26<34:17, 26.04s/it]"
     ]
    },
    {
     "name": "stdout",
     "output_type": "stream",
     "text": [
      "Model Was Not Saved ! Current Best Avg. Dice: 0.6516297459602356 Current Avg. Dice: 0.6039460897445679 Current Avg. tumor Dice: 0.649540364742279 Current Avg. lymph Dice: 0.5895904898643494\n"
     ]
    },
    {
     "name": "stderr",
     "output_type": "stream",
     "text": [
      "Training (14079 / 18000 Steps) (loss=0.48456): 100%|██████████| 80/80 [01:03<00:00,  1.25it/s]\n",
      "Validate (14080 / 10 Steps): 100%|██████████| 18/18 [00:22<00:00,  1.26s/it]<00:27,  2.18it/s]\n",
      "Training (14100 / 18000 Steps) (loss=0.34423):  26%|██▋       | 21/80 [00:35<07:10,  7.29s/it]"
     ]
    },
    {
     "name": "stdout",
     "output_type": "stream",
     "text": [
      "Model Was Not Saved ! Current Best Avg. Dice: 0.6516297459602356 Current Avg. Dice: 0.6274301409721375 Current Avg. tumor Dice: 0.6560472846031189 Current Avg. lymph Dice: 0.6238594055175781\n"
     ]
    },
    {
     "name": "stderr",
     "output_type": "stream",
     "text": [
      "Training (14159 / 18000 Steps) (loss=0.49089): 100%|██████████| 80/80 [01:03<00:00,  1.26it/s]\n",
      "Validate (14160 / 10 Steps): 100%|██████████| 18/18 [00:22<00:00,  1.26s/it]<00:18,  2.17it/s]\n",
      "Training (14200 / 18000 Steps) (loss=0.44109):  51%|█████▏    | 41/80 [00:44<04:45,  7.31s/it]"
     ]
    },
    {
     "name": "stdout",
     "output_type": "stream",
     "text": [
      "Model Was Not Saved ! Current Best Avg. Dice: 0.6516297459602356 Current Avg. Dice: 0.6341726779937744 Current Avg. tumor Dice: 0.663548469543457 Current Avg. lymph Dice: 0.6292515397071838\n"
     ]
    },
    {
     "name": "stderr",
     "output_type": "stream",
     "text": [
      "Training (14239 / 18000 Steps) (loss=0.49694): 100%|██████████| 80/80 [01:03<00:00,  1.27it/s]\n",
      "Validate (14240 / 10 Steps): 100%|██████████| 18/18 [00:22<00:00,  1.26s/it]<00:09,  2.12it/s]\n",
      "Training (14300 / 18000 Steps) (loss=0.46885):  76%|███████▋  | 61/80 [00:54<02:18,  7.29s/it]"
     ]
    },
    {
     "name": "stdout",
     "output_type": "stream",
     "text": [
      "Model Was Not Saved ! Current Best Avg. Dice: 0.6516297459602356 Current Avg. Dice: 0.6496878862380981 Current Avg. tumor Dice: 0.6919282674789429 Current Avg. lymph Dice: 0.6315791010856628\n"
     ]
    },
    {
     "name": "stderr",
     "output_type": "stream",
     "text": [
      "Training (14319 / 18000 Steps) (loss=0.59306): 100%|██████████| 80/80 [01:03<00:00,  1.27it/s]\n",
      "Training (14399 / 18000 Steps) (loss=0.50899): 100%|██████████| 80/80 [00:40<00:00,  1.99it/s]\n",
      "Validate (14400 / 10 Steps): 100%|██████████| 18/18 [00:22<00:00,  1.26s/it]?, ?it/s]\n",
      "Training (14400 / 18000 Steps) (loss=0.40458):   1%|▏         | 1/80 [00:25<34:08, 25.93s/it]"
     ]
    },
    {
     "name": "stdout",
     "output_type": "stream",
     "text": [
      "Model Was Not Saved ! Current Best Avg. Dice: 0.6516297459602356 Current Avg. Dice: 0.6228228807449341 Current Avg. tumor Dice: 0.6435023546218872 Current Avg. lymph Dice: 0.6212737560272217\n"
     ]
    },
    {
     "name": "stderr",
     "output_type": "stream",
     "text": [
      "Training (14479 / 18000 Steps) (loss=0.32454): 100%|██████████| 80/80 [01:03<00:00,  1.26it/s]\n",
      "Validate (14480 / 10 Steps): 100%|██████████| 18/18 [00:22<00:00,  1.27s/it]<00:27,  2.19it/s]\n",
      "Training (14500 / 18000 Steps) (loss=0.52264):  26%|██▋       | 21/80 [00:35<07:12,  7.33s/it]"
     ]
    },
    {
     "name": "stdout",
     "output_type": "stream",
     "text": [
      "Model Was Not Saved ! Current Best Avg. Dice: 0.6516297459602356 Current Avg. Dice: 0.6380784511566162 Current Avg. tumor Dice: 0.6689707040786743 Current Avg. lymph Dice: 0.6337315440177917\n"
     ]
    },
    {
     "name": "stderr",
     "output_type": "stream",
     "text": [
      "Training (14559 / 18000 Steps) (loss=0.53947): 100%|██████████| 80/80 [01:03<00:00,  1.26it/s]\n",
      "Validate (14560 / 10 Steps): 100%|██████████| 18/18 [00:22<00:00,  1.27s/it]<00:19,  2.05it/s]\n",
      "Training (14600 / 18000 Steps) (loss=0.44585):  51%|█████▏    | 41/80 [00:45<04:47,  7.36s/it]"
     ]
    },
    {
     "name": "stdout",
     "output_type": "stream",
     "text": [
      "Model Was Not Saved ! Current Best Avg. Dice: 0.6516297459602356 Current Avg. Dice: 0.6381269097328186 Current Avg. tumor Dice: 0.6767281889915466 Current Avg. lymph Dice: 0.6248417496681213\n"
     ]
    },
    {
     "name": "stderr",
     "output_type": "stream",
     "text": [
      "Training (14639 / 18000 Steps) (loss=0.55282): 100%|██████████| 80/80 [01:04<00:00,  1.25it/s]\n",
      "Validate (14640 / 10 Steps): 100%|██████████| 18/18 [00:23<00:00,  1.28s/it]<00:09,  2.09it/s]\n",
      "Training (14700 / 18000 Steps) (loss=0.41631):  76%|███████▋  | 61/80 [00:54<02:20,  7.39s/it]"
     ]
    },
    {
     "name": "stdout",
     "output_type": "stream",
     "text": [
      "Model Was Not Saved ! Current Best Avg. Dice: 0.6516297459602356 Current Avg. Dice: 0.6285467147827148 Current Avg. tumor Dice: 0.652003288269043 Current Avg. lymph Dice: 0.625575065612793\n"
     ]
    },
    {
     "name": "stderr",
     "output_type": "stream",
     "text": [
      "Training (14719 / 18000 Steps) (loss=0.30523): 100%|██████████| 80/80 [01:03<00:00,  1.25it/s]\n",
      "Training (14799 / 18000 Steps) (loss=0.42884): 100%|██████████| 80/80 [00:40<00:00,  1.96it/s]\n",
      "Validate (14800 / 10 Steps): 100%|██████████| 18/18 [00:23<00:00,  1.28s/it]?, ?it/s]\n",
      "Training (14800 / 18000 Steps) (loss=0.55964):   1%|▏         | 1/80 [00:26<34:30, 26.21s/it]"
     ]
    },
    {
     "name": "stdout",
     "output_type": "stream",
     "text": [
      "Model Was Not Saved ! Current Best Avg. Dice: 0.6516297459602356 Current Avg. Dice: 0.6364238858222961 Current Avg. tumor Dice: 0.6779260635375977 Current Avg. lymph Dice: 0.6240120530128479\n"
     ]
    },
    {
     "name": "stderr",
     "output_type": "stream",
     "text": [
      "Training (14879 / 18000 Steps) (loss=0.43942): 100%|██████████| 80/80 [01:04<00:00,  1.24it/s]\n",
      "Validate (14880 / 10 Steps): 100%|██████████| 18/18 [00:22<00:00,  1.28s/it]<00:28,  2.11it/s]\n",
      "Training (14900 / 18000 Steps) (loss=0.41091):  26%|██▋       | 21/80 [00:35<07:16,  7.39s/it]"
     ]
    },
    {
     "name": "stdout",
     "output_type": "stream",
     "text": [
      "Model Was Not Saved ! Current Best Avg. Dice: 0.6516297459602356 Current Avg. Dice: 0.6278572082519531 Current Avg. tumor Dice: 0.6689462065696716 Current Avg. lymph Dice: 0.6153578162193298\n"
     ]
    },
    {
     "name": "stderr",
     "output_type": "stream",
     "text": [
      "Training (14959 / 18000 Steps) (loss=0.38346): 100%|██████████| 80/80 [01:03<00:00,  1.26it/s]\n",
      "Validate (14960 / 10 Steps): 100%|██████████| 18/18 [00:22<00:00,  1.26s/it]<00:19,  2.09it/s]\n",
      "Training (15000 / 18000 Steps) (loss=0.49657):  51%|█████▏    | 41/80 [00:45<04:45,  7.32s/it]"
     ]
    },
    {
     "name": "stdout",
     "output_type": "stream",
     "text": [
      "Model Was Not Saved ! Current Best Avg. Dice: 0.6516297459602356 Current Avg. Dice: 0.6336111426353455 Current Avg. tumor Dice: 0.668110191822052 Current Avg. lymph Dice: 0.6243148446083069\n"
     ]
    },
    {
     "name": "stderr",
     "output_type": "stream",
     "text": [
      "Training (15039 / 18000 Steps) (loss=0.47473): 100%|██████████| 80/80 [01:03<00:00,  1.26it/s]\n",
      "Validate (15040 / 10 Steps): 100%|██████████| 18/18 [00:22<00:00,  1.26s/it]<00:09,  2.11it/s]\n",
      "Training (15100 / 18000 Steps) (loss=0.39907):  76%|███████▋  | 61/80 [00:54<02:18,  7.30s/it]"
     ]
    },
    {
     "name": "stdout",
     "output_type": "stream",
     "text": [
      "Model Was Not Saved ! Current Best Avg. Dice: 0.6516297459602356 Current Avg. Dice: 0.6139292120933533 Current Avg. tumor Dice: 0.6287521123886108 Current Avg. lymph Dice: 0.6258476972579956\n"
     ]
    },
    {
     "name": "stderr",
     "output_type": "stream",
     "text": [
      "Training (15119 / 18000 Steps) (loss=0.44577): 100%|██████████| 80/80 [01:03<00:00,  1.25it/s]\n",
      "Training (15199 / 18000 Steps) (loss=0.44677): 100%|██████████| 80/80 [00:40<00:00,  1.98it/s]\n",
      "Validate (15200 / 10 Steps): 100%|██████████| 18/18 [00:23<00:00,  1.29s/it]?, ?it/s]\n",
      "Training (15200 / 18000 Steps) (loss=0.59239):   1%|▏         | 1/80 [00:26<34:53, 26.51s/it]"
     ]
    },
    {
     "name": "stdout",
     "output_type": "stream",
     "text": [
      "Model Was Not Saved ! Current Best Avg. Dice: 0.6516297459602356 Current Avg. Dice: 0.6339269280433655 Current Avg. tumor Dice: 0.6720218062400818 Current Avg. lymph Dice: 0.6204270124435425\n"
     ]
    },
    {
     "name": "stderr",
     "output_type": "stream",
     "text": [
      "Training (15279 / 18000 Steps) (loss=0.48601): 100%|██████████| 80/80 [01:03<00:00,  1.25it/s]\n",
      "Validate (15280 / 10 Steps): 100%|██████████| 18/18 [00:22<00:00,  1.27s/it]<00:28,  2.11it/s]\n",
      "Training (15300 / 18000 Steps) (loss=0.27501):  26%|██▋       | 21/80 [00:35<07:13,  7.35s/it]"
     ]
    },
    {
     "name": "stdout",
     "output_type": "stream",
     "text": [
      "Model Was Not Saved ! Current Best Avg. Dice: 0.6516297459602356 Current Avg. Dice: 0.6353746056556702 Current Avg. tumor Dice: 0.6678488850593567 Current Avg. lymph Dice: 0.6303297281265259\n"
     ]
    },
    {
     "name": "stderr",
     "output_type": "stream",
     "text": [
      "Training (15359 / 18000 Steps) (loss=0.51877): 100%|██████████| 80/80 [01:03<00:00,  1.27it/s]\n",
      "Validate (15360 / 10 Steps): 100%|██████████| 18/18 [00:22<00:00,  1.28s/it]<00:18,  2.13it/s]\n",
      "Training (15400 / 18000 Steps) (loss=0.47017):  51%|█████▏    | 41/80 [00:45<04:47,  7.37s/it]"
     ]
    },
    {
     "name": "stdout",
     "output_type": "stream",
     "text": [
      "Model Was Not Saved ! Current Best Avg. Dice: 0.6516297459602356 Current Avg. Dice: 0.6379059553146362 Current Avg. tumor Dice: 0.6731461882591248 Current Avg. lymph Dice: 0.6312144994735718\n"
     ]
    },
    {
     "name": "stderr",
     "output_type": "stream",
     "text": [
      "Training (15439 / 18000 Steps) (loss=0.48360): 100%|██████████| 80/80 [01:03<00:00,  1.25it/s]\n",
      "Validate (15440 / 10 Steps): 100%|██████████| 18/18 [00:22<00:00,  1.26s/it]<00:09,  2.07it/s]\n",
      "Training (15500 / 18000 Steps) (loss=0.45618):  76%|███████▋  | 61/80 [00:53<02:18,  7.30s/it]"
     ]
    },
    {
     "name": "stdout",
     "output_type": "stream",
     "text": [
      "Model Was Not Saved ! Current Best Avg. Dice: 0.6516297459602356 Current Avg. Dice: 0.6293444633483887 Current Avg. tumor Dice: 0.6640456318855286 Current Avg. lymph Dice: 0.6175395250320435\n"
     ]
    },
    {
     "name": "stderr",
     "output_type": "stream",
     "text": [
      "Training (15519 / 18000 Steps) (loss=0.40125): 100%|██████████| 80/80 [01:02<00:00,  1.27it/s]\n",
      "Training (15599 / 18000 Steps) (loss=0.32544): 100%|██████████| 80/80 [00:40<00:00,  1.99it/s]\n",
      "Validate (15600 / 10 Steps): 100%|██████████| 18/18 [00:22<00:00,  1.28s/it]?, ?it/s]\n",
      "Training (15600 / 18000 Steps) (loss=0.34722):   1%|▏         | 1/80 [00:26<34:17, 26.05s/it]"
     ]
    },
    {
     "name": "stdout",
     "output_type": "stream",
     "text": [
      "Model Was Not Saved ! Current Best Avg. Dice: 0.6516297459602356 Current Avg. Dice: 0.6470076441764832 Current Avg. tumor Dice: 0.6716299653053284 Current Avg. lymph Dice: 0.6446178555488586\n"
     ]
    },
    {
     "name": "stderr",
     "output_type": "stream",
     "text": [
      "Training (15679 / 18000 Steps) (loss=0.49339): 100%|██████████| 80/80 [01:03<00:00,  1.26it/s]\n",
      "Validate (15680 / 10 Steps): 100%|██████████| 18/18 [00:22<00:00,  1.27s/it]<00:27,  2.16it/s]\n",
      "Training (15700 / 18000 Steps) (loss=0.38694):  26%|██▋       | 21/80 [00:35<07:11,  7.32s/it]"
     ]
    },
    {
     "name": "stdout",
     "output_type": "stream",
     "text": [
      "Model Was Not Saved ! Current Best Avg. Dice: 0.6516297459602356 Current Avg. Dice: 0.6350513100624084 Current Avg. tumor Dice: 0.6626372337341309 Current Avg. lymph Dice: 0.6345136761665344\n"
     ]
    },
    {
     "name": "stderr",
     "output_type": "stream",
     "text": [
      "Training (15759 / 18000 Steps) (loss=0.48282): 100%|██████████| 80/80 [01:03<00:00,  1.26it/s]\n",
      "Validate (15760 / 10 Steps): 100%|██████████| 18/18 [00:23<00:00,  1.28s/it]<00:18,  2.11it/s]\n",
      "Training (15800 / 18000 Steps) (loss=0.47505):  51%|█████▏    | 41/80 [00:44<04:49,  7.43s/it]"
     ]
    },
    {
     "name": "stdout",
     "output_type": "stream",
     "text": [
      "Model Was Not Saved ! Current Best Avg. Dice: 0.6516297459602356 Current Avg. Dice: 0.6465260982513428 Current Avg. tumor Dice: 0.68000727891922 Current Avg. lymph Dice: 0.6415993571281433\n"
     ]
    },
    {
     "name": "stderr",
     "output_type": "stream",
     "text": [
      "Training (15839 / 18000 Steps) (loss=0.41842): 100%|██████████| 80/80 [01:03<00:00,  1.26it/s]\n",
      "Validate (15840 / 10 Steps): 100%|██████████| 18/18 [00:22<00:00,  1.28s/it]<00:09,  2.15it/s]\n",
      "Training (15900 / 18000 Steps) (loss=0.32635):  76%|███████▋  | 61/80 [00:54<02:20,  7.38s/it]"
     ]
    },
    {
     "name": "stdout",
     "output_type": "stream",
     "text": [
      "Model Was Not Saved ! Current Best Avg. Dice: 0.6516297459602356 Current Avg. Dice: 0.6306231617927551 Current Avg. tumor Dice: 0.661283016204834 Current Avg. lymph Dice: 0.6258875727653503\n"
     ]
    },
    {
     "name": "stderr",
     "output_type": "stream",
     "text": [
      "Training (15919 / 18000 Steps) (loss=0.42552): 100%|██████████| 80/80 [01:03<00:00,  1.25it/s]\n",
      "Training (15999 / 18000 Steps) (loss=0.42163): 100%|██████████| 80/80 [00:40<00:00,  1.96it/s]\n",
      "Validate (16000 / 10 Steps): 100%|██████████| 18/18 [00:23<00:00,  1.31s/it]?, ?it/s]\n",
      "Training (16000 / 18000 Steps) (loss=0.44401):   1%|▏         | 1/80 [00:26<34:52, 26.49s/it]"
     ]
    },
    {
     "name": "stdout",
     "output_type": "stream",
     "text": [
      "Model Was Not Saved ! Current Best Avg. Dice: 0.6516297459602356 Current Avg. Dice: 0.6407935619354248 Current Avg. tumor Dice: 0.6781972050666809 Current Avg. lymph Dice: 0.6310738325119019\n"
     ]
    },
    {
     "name": "stderr",
     "output_type": "stream",
     "text": [
      "Training (16079 / 18000 Steps) (loss=0.58426): 100%|██████████| 80/80 [01:04<00:00,  1.25it/s]\n",
      "Validate (16080 / 10 Steps): 100%|██████████| 18/18 [00:22<00:00,  1.28s/it]<00:28,  2.13it/s]\n",
      "Training (16100 / 18000 Steps) (loss=0.37286):  26%|██▋       | 21/80 [00:35<07:16,  7.41s/it]"
     ]
    },
    {
     "name": "stdout",
     "output_type": "stream",
     "text": [
      "Model Was Not Saved ! Current Best Avg. Dice: 0.6516297459602356 Current Avg. Dice: 0.6398765444755554 Current Avg. tumor Dice: 0.6709883809089661 Current Avg. lymph Dice: 0.6393203139305115\n"
     ]
    },
    {
     "name": "stderr",
     "output_type": "stream",
     "text": [
      "Training (16159 / 18000 Steps) (loss=0.41644): 100%|██████████| 80/80 [01:03<00:00,  1.25it/s]\n",
      "Validate (16160 / 10 Steps): 100%|██████████| 18/18 [00:22<00:00,  1.25s/it]<00:18,  2.13it/s]\n",
      "Training (16200 / 18000 Steps) (loss=0.46994):  51%|█████▏    | 41/80 [00:44<04:43,  7.26s/it]"
     ]
    },
    {
     "name": "stdout",
     "output_type": "stream",
     "text": [
      "Model Was Not Saved ! Current Best Avg. Dice: 0.6516297459602356 Current Avg. Dice: 0.6398522853851318 Current Avg. tumor Dice: 0.6647326946258545 Current Avg. lymph Dice: 0.6462646722793579\n"
     ]
    },
    {
     "name": "stderr",
     "output_type": "stream",
     "text": [
      "Training (16239 / 18000 Steps) (loss=0.45900): 100%|██████████| 80/80 [01:03<00:00,  1.26it/s]\n",
      "Validate (16240 / 10 Steps): 100%|██████████| 18/18 [00:22<00:00,  1.26s/it]<00:09,  2.11it/s]\n",
      "Training (16300 / 18000 Steps) (loss=0.45724):  76%|███████▋  | 61/80 [00:54<02:18,  7.29s/it]"
     ]
    },
    {
     "name": "stdout",
     "output_type": "stream",
     "text": [
      "Model Was Not Saved ! Current Best Avg. Dice: 0.6516297459602356 Current Avg. Dice: 0.6247814893722534 Current Avg. tumor Dice: 0.6554498672485352 Current Avg. lymph Dice: 0.6233950257301331\n"
     ]
    },
    {
     "name": "stderr",
     "output_type": "stream",
     "text": [
      "Training (16319 / 18000 Steps) (loss=0.42406): 100%|██████████| 80/80 [01:03<00:00,  1.26it/s]\n",
      "Training (16399 / 18000 Steps) (loss=0.54012): 100%|██████████| 80/80 [00:40<00:00,  1.98it/s]\n",
      "Validate (16400 / 10 Steps): 100%|██████████| 18/18 [00:22<00:00,  1.26s/it]?, ?it/s]\n",
      "Training (16400 / 18000 Steps) (loss=0.55457):   1%|▏         | 1/80 [00:25<33:57, 25.79s/it]"
     ]
    },
    {
     "name": "stdout",
     "output_type": "stream",
     "text": [
      "Model Was Not Saved ! Current Best Avg. Dice: 0.6516297459602356 Current Avg. Dice: 0.6423404216766357 Current Avg. tumor Dice: 0.6708430051803589 Current Avg. lymph Dice: 0.6424754858016968\n"
     ]
    },
    {
     "name": "stderr",
     "output_type": "stream",
     "text": [
      "Training (16479 / 18000 Steps) (loss=0.52216): 100%|██████████| 80/80 [01:03<00:00,  1.26it/s]\n",
      "Validate (16480 / 10 Steps): 100%|██████████| 18/18 [00:22<00:00,  1.25s/it]<00:28,  2.11it/s]\n",
      "Training (16500 / 18000 Steps) (loss=0.62122):  26%|██▋       | 21/80 [00:35<07:07,  7.25s/it]"
     ]
    },
    {
     "name": "stdout",
     "output_type": "stream",
     "text": [
      "Model Was Not Saved ! Current Best Avg. Dice: 0.6516297459602356 Current Avg. Dice: 0.6194670796394348 Current Avg. tumor Dice: 0.6483277082443237 Current Avg. lymph Dice: 0.6170881986618042\n"
     ]
    },
    {
     "name": "stderr",
     "output_type": "stream",
     "text": [
      "Training (16559 / 18000 Steps) (loss=0.44243): 100%|██████████| 80/80 [01:03<00:00,  1.26it/s]\n",
      "Validate (16560 / 10 Steps): 100%|██████████| 18/18 [00:22<00:00,  1.26s/it]<00:18,  2.13it/s]\n",
      "Training (16600 / 18000 Steps) (loss=0.47395):  51%|█████▏    | 41/80 [00:44<04:44,  7.29s/it]"
     ]
    },
    {
     "name": "stdout",
     "output_type": "stream",
     "text": [
      "Model Was Not Saved ! Current Best Avg. Dice: 0.6516297459602356 Current Avg. Dice: 0.6449862718582153 Current Avg. tumor Dice: 0.6775419116020203 Current Avg. lymph Dice: 0.6347570419311523\n"
     ]
    },
    {
     "name": "stderr",
     "output_type": "stream",
     "text": [
      "Training (16639 / 18000 Steps) (loss=0.37464): 100%|██████████| 80/80 [01:02<00:00,  1.27it/s]\n",
      "Validate (16640 / 10 Steps): 100%|██████████| 18/18 [00:22<00:00,  1.27s/it]<00:09,  2.14it/s]\n",
      "Training (16700 / 18000 Steps) (loss=0.43082):  76%|███████▋  | 61/80 [00:54<02:19,  7.33s/it]"
     ]
    },
    {
     "name": "stdout",
     "output_type": "stream",
     "text": [
      "Model Was Not Saved ! Current Best Avg. Dice: 0.6516297459602356 Current Avg. Dice: 0.6139583587646484 Current Avg. tumor Dice: 0.64073646068573 Current Avg. lymph Dice: 0.617229700088501\n"
     ]
    },
    {
     "name": "stderr",
     "output_type": "stream",
     "text": [
      "Training (16719 / 18000 Steps) (loss=0.42406): 100%|██████████| 80/80 [01:03<00:00,  1.26it/s]\n",
      "Training (16799 / 18000 Steps) (loss=0.51437): 100%|██████████| 80/80 [00:40<00:00,  1.97it/s]\n",
      "Validate (16800 / 10 Steps): 100%|██████████| 18/18 [00:22<00:00,  1.27s/it]?, ?it/s]\n",
      "Training (16800 / 18000 Steps) (loss=0.59820):   1%|▏         | 1/80 [00:26<34:27, 26.17s/it]"
     ]
    },
    {
     "name": "stdout",
     "output_type": "stream",
     "text": [
      "Model Was Not Saved ! Current Best Avg. Dice: 0.6516297459602356 Current Avg. Dice: 0.6339828968048096 Current Avg. tumor Dice: 0.6701337695121765 Current Avg. lymph Dice: 0.6286114454269409\n"
     ]
    },
    {
     "name": "stderr",
     "output_type": "stream",
     "text": [
      "Training (16879 / 18000 Steps) (loss=0.43734): 100%|██████████| 80/80 [01:02<00:00,  1.27it/s]\n",
      "Validate (16880 / 10 Steps): 100%|██████████| 18/18 [00:23<00:00,  1.28s/it]<00:28,  2.11it/s]\n",
      "Training (16900 / 18000 Steps) (loss=0.26973):  26%|██▋       | 21/80 [00:35<07:17,  7.42s/it]"
     ]
    },
    {
     "name": "stdout",
     "output_type": "stream",
     "text": [
      "Model Was Not Saved ! Current Best Avg. Dice: 0.6516297459602356 Current Avg. Dice: 0.6233682036399841 Current Avg. tumor Dice: 0.6603006720542908 Current Avg. lymph Dice: 0.6148028373718262\n"
     ]
    },
    {
     "name": "stderr",
     "output_type": "stream",
     "text": [
      "Training (16959 / 18000 Steps) (loss=0.39492): 100%|██████████| 80/80 [01:03<00:00,  1.25it/s]\n",
      "Validate (16960 / 10 Steps): 100%|██████████| 18/18 [00:22<00:00,  1.26s/it]<00:18,  2.11it/s]\n",
      "Training (17000 / 18000 Steps) (loss=0.45283):  51%|█████▏    | 41/80 [00:44<04:44,  7.29s/it]"
     ]
    },
    {
     "name": "stdout",
     "output_type": "stream",
     "text": [
      "Model Was Not Saved ! Current Best Avg. Dice: 0.6516297459602356 Current Avg. Dice: 0.6388124823570251 Current Avg. tumor Dice: 0.6757885813713074 Current Avg. lymph Dice: 0.6288930177688599\n"
     ]
    },
    {
     "name": "stderr",
     "output_type": "stream",
     "text": [
      "Training (17039 / 18000 Steps) (loss=0.53475): 100%|██████████| 80/80 [01:03<00:00,  1.26it/s]\n",
      "Validate (17040 / 10 Steps): 100%|██████████| 18/18 [00:22<00:00,  1.26s/it]<00:09,  2.17it/s]\n",
      "Training (17100 / 18000 Steps) (loss=0.51446):  76%|███████▋  | 61/80 [00:54<02:18,  7.31s/it]"
     ]
    },
    {
     "name": "stdout",
     "output_type": "stream",
     "text": [
      "Model Was Not Saved ! Current Best Avg. Dice: 0.6516297459602356 Current Avg. Dice: 0.6306971311569214 Current Avg. tumor Dice: 0.6493640542030334 Current Avg. lymph Dice: 0.6346077919006348\n"
     ]
    },
    {
     "name": "stderr",
     "output_type": "stream",
     "text": [
      "Training (17119 / 18000 Steps) (loss=0.53634): 100%|██████████| 80/80 [01:03<00:00,  1.26it/s]\n",
      "Training (17199 / 18000 Steps) (loss=0.34853): 100%|██████████| 80/80 [00:40<00:00,  1.98it/s]\n",
      "Validate (17200 / 10 Steps): 100%|██████████| 18/18 [00:22<00:00,  1.27s/it]?, ?it/s]\n",
      "Training (17200 / 18000 Steps) (loss=0.30643):   1%|▏         | 1/80 [00:25<34:08, 25.93s/it]"
     ]
    },
    {
     "name": "stdout",
     "output_type": "stream",
     "text": [
      "Model Was Not Saved ! Current Best Avg. Dice: 0.6516297459602356 Current Avg. Dice: 0.6339623332023621 Current Avg. tumor Dice: 0.6607635617256165 Current Avg. lymph Dice: 0.6376785635948181\n"
     ]
    },
    {
     "name": "stderr",
     "output_type": "stream",
     "text": [
      "Training (17279 / 18000 Steps) (loss=0.51100): 100%|██████████| 80/80 [01:03<00:00,  1.26it/s]\n",
      "Validate (17280 / 10 Steps): 100%|██████████| 18/18 [00:22<00:00,  1.25s/it]<00:27,  2.22it/s]\n",
      "Training (17300 / 18000 Steps) (loss=0.63384):  26%|██▋       | 21/80 [00:34<07:07,  7.25s/it]"
     ]
    },
    {
     "name": "stdout",
     "output_type": "stream",
     "text": [
      "Model Was Not Saved ! Current Best Avg. Dice: 0.6516297459602356 Current Avg. Dice: 0.6335095167160034 Current Avg. tumor Dice: 0.6626369953155518 Current Avg. lymph Dice: 0.6322972774505615\n"
     ]
    },
    {
     "name": "stderr",
     "output_type": "stream",
     "text": [
      "Training (17359 / 18000 Steps) (loss=0.49460): 100%|██████████| 80/80 [01:02<00:00,  1.28it/s]\n",
      "Validate (17360 / 10 Steps): 100%|██████████| 18/18 [00:22<00:00,  1.26s/it]<00:18,  2.15it/s]\n",
      "Training (17400 / 18000 Steps) (loss=0.55740):  51%|█████▏    | 41/80 [00:44<04:44,  7.28s/it]"
     ]
    },
    {
     "name": "stdout",
     "output_type": "stream",
     "text": [
      "Model Was Not Saved ! Current Best Avg. Dice: 0.6516297459602356 Current Avg. Dice: 0.6269989609718323 Current Avg. tumor Dice: 0.6584940552711487 Current Avg. lymph Dice: 0.6202705502510071\n"
     ]
    },
    {
     "name": "stderr",
     "output_type": "stream",
     "text": [
      "Training (17439 / 18000 Steps) (loss=0.37392): 100%|██████████| 80/80 [01:02<00:00,  1.28it/s]\n",
      "Validate (17440 / 10 Steps): 100%|██████████| 18/18 [00:22<00:00,  1.26s/it]<00:09,  2.18it/s]\n",
      "Training (17500 / 18000 Steps) (loss=0.56226):  76%|███████▋  | 61/80 [00:54<02:18,  7.27s/it]"
     ]
    },
    {
     "name": "stdout",
     "output_type": "stream",
     "text": [
      "Model Was Not Saved ! Current Best Avg. Dice: 0.6516297459602356 Current Avg. Dice: 0.617752730846405 Current Avg. tumor Dice: 0.6292333602905273 Current Avg. lymph Dice: 0.6320653557777405\n"
     ]
    },
    {
     "name": "stderr",
     "output_type": "stream",
     "text": [
      "Training (17519 / 18000 Steps) (loss=0.45690): 100%|██████████| 80/80 [01:03<00:00,  1.27it/s]\n",
      "Training (17599 / 18000 Steps) (loss=0.34713): 100%|██████████| 80/80 [00:40<00:00,  1.98it/s]\n",
      "Validate (17600 / 10 Steps): 100%|██████████| 18/18 [00:22<00:00,  1.27s/it]?, ?it/s]\n",
      "Training (17600 / 18000 Steps) (loss=0.39816):   1%|▏         | 1/80 [00:25<34:13, 25.99s/it]"
     ]
    },
    {
     "name": "stdout",
     "output_type": "stream",
     "text": [
      "Model Was Not Saved ! Current Best Avg. Dice: 0.6516297459602356 Current Avg. Dice: 0.626305878162384 Current Avg. tumor Dice: 0.6432091593742371 Current Avg. lymph Dice: 0.631157398223877\n"
     ]
    },
    {
     "name": "stderr",
     "output_type": "stream",
     "text": [
      "Training (17679 / 18000 Steps) (loss=0.41059): 100%|██████████| 80/80 [01:03<00:00,  1.27it/s]\n",
      "Validate (17680 / 10 Steps): 100%|██████████| 18/18 [00:22<00:00,  1.26s/it]<00:27,  2.18it/s]\n",
      "Training (17700 / 18000 Steps) (loss=0.38014):  26%|██▋       | 21/80 [00:35<07:07,  7.25s/it]"
     ]
    },
    {
     "name": "stdout",
     "output_type": "stream",
     "text": [
      "Model Was Not Saved ! Current Best Avg. Dice: 0.6516297459602356 Current Avg. Dice: 0.643775224685669 Current Avg. tumor Dice: 0.6660605669021606 Current Avg. lymph Dice: 0.6463720202445984\n"
     ]
    },
    {
     "name": "stderr",
     "output_type": "stream",
     "text": [
      "Training (17759 / 18000 Steps) (loss=0.38174): 100%|██████████| 80/80 [01:02<00:00,  1.27it/s]\n",
      "Validate (17760 / 10 Steps): 100%|██████████| 18/18 [00:22<00:00,  1.27s/it]<00:18,  2.11it/s]\n",
      "Training (17800 / 18000 Steps) (loss=0.29326):  51%|█████▏    | 41/80 [00:45<04:46,  7.35s/it]"
     ]
    },
    {
     "name": "stdout",
     "output_type": "stream",
     "text": [
      "Model Was Not Saved ! Current Best Avg. Dice: 0.6516297459602356 Current Avg. Dice: 0.6449701189994812 Current Avg. tumor Dice: 0.674564778804779 Current Avg. lymph Dice: 0.6396574378013611\n"
     ]
    },
    {
     "name": "stderr",
     "output_type": "stream",
     "text": [
      "Training (17839 / 18000 Steps) (loss=0.26456): 100%|██████████| 80/80 [01:03<00:00,  1.25it/s]\n",
      "Validate (17840 / 10 Steps): 100%|██████████| 18/18 [00:22<00:00,  1.27s/it]<00:09,  2.13it/s]\n",
      "Training (17900 / 18000 Steps) (loss=0.48229):  76%|███████▋  | 61/80 [00:55<02:24,  7.60s/it]"
     ]
    },
    {
     "name": "stdout",
     "output_type": "stream",
     "text": [
      "Model Was Saved ! Current Best Avg. Dice: 0.657273530960083 Current Avg. Dice: 0.657273530960083 Current Avg. tumor Dice: 0.6897456645965576 Current Avg. lymph Dice: 0.6490659713745117\n"
     ]
    },
    {
     "name": "stderr",
     "output_type": "stream",
     "text": [
      "Training (17919 / 18000 Steps) (loss=0.29522): 100%|██████████| 80/80 [01:04<00:00,  1.25it/s]\n",
      "Training (17999 / 18000 Steps) (loss=0.48538): 100%|██████████| 80/80 [00:41<00:00,  1.94it/s]\n"
     ]
    }
   ],
   "source": [
    "epoch = 0 # used for LR scheduler\n",
    "max_num_epochs = 530 # used for LR scheduler\n",
    "\n",
    "\n",
    "while global_step < max_iterations:\n",
    "    global_step, dice_val_best, global_step_best = train(\n",
    "        global_step, train_loader, dice_val_best, global_step_best\n",
    "    )\n",
    "    epoch += 1\n",
    "    #optimizer.param_groups[0]['lr'] = poly_lr(epoch, max_num_epochs, 0.005676 , 0.9)\n",
    "# model.load_state_dict(torch.load(os.path.join(model_dir, \"best_metric_luck_UNETr_prompt.pth\")))"
   ]
  }
 ],
 "metadata": {
  "kernelspec": {
   "display_name": "clam",
   "language": "python",
   "name": "python3"
  },
  "language_info": {
   "codemirror_mode": {
    "name": "ipython",
    "version": 3
   },
   "file_extension": ".py",
   "mimetype": "text/x-python",
   "name": "python",
   "nbconvert_exporter": "python",
   "pygments_lexer": "ipython3",
   "version": "3.8.0"
  }
 },
 "nbformat": 4,
 "nbformat_minor": 2
}
