{
 "cells": [
  {
   "cell_type": "code",
   "execution_count": 1,
   "metadata": {},
   "outputs": [
    {
     "name": "stdout",
     "output_type": "stream",
     "text": [
      "1\n"
     ]
    },
    {
     "name": "stderr",
     "output_type": "stream",
     "text": [
      "/tmp/ipykernel_3865128/264845013.py:9: TqdmWarning: IProgress not found. Please update jupyter and ipywidgets. See https://ipywidgets.readthedocs.io/en/stable/user_install.html\n",
      "  from tqdm.autonotebook import tqdm\n"
     ]
    }
   ],
   "source": [
    "import torch\n",
    "import torch.nn as nn\n",
    "from torch.utils.data import DataLoader\n",
    "from collections.abc import Sequence\n",
    "\n",
    "from unetr import CustomedUNETR\n",
    "\n",
    "import json\n",
    "from tqdm.autonotebook import tqdm\n",
    "import os\n",
    "os.environ[\"CUDA_DEVICE_ORDER\"] = \"PCI_BUS_ID\"\n",
    "os.environ[\"CUDA_VISIBLE_DEVICES\"] = \"1\" \n",
    "\n",
    "print(torch.cuda.device_count())\n",
    "torch.backends.cudnn.benchmark = True\n",
    "device = torch.device(\"cuda\" if torch.cuda.is_available() else \"cpu\")"
   ]
  },
  {
   "cell_type": "code",
   "execution_count": 2,
   "metadata": {},
   "outputs": [],
   "source": [
    "from monai.transforms import EnsureTyped\n",
    "from monai.transforms import Compose, LoadImaged, ScaleIntensityRanged, ConcatItemsd\n",
    "from monai.metrics import DiceMetric\n",
    "from monai.losses import DiceCELoss, DiceFocalLoss, FocalLoss\n",
    "from monai.inferers import sliding_window_inference\n",
    "\n",
    "\n",
    "from monai.data import (\n",
    "    Dataset,\n",
    "    DataLoader,\n",
    "    CacheDataset,\n",
    "    load_decathlon_datalist,\n",
    "    decollate_batch,\n",
    ")\n",
    "\n",
    "\n",
    "from monai.transforms import (\n",
    "    AsDiscrete,\n",
    "    Compose,\n",
    "    CropForegroundd,\n",
    "    LoadImaged,\n",
    "    Orientationd,\n",
    "    RandFlipd,\n",
    "    RandCropByPosNegLabeld,\n",
    "    RandShiftIntensityd,\n",
    "    ScaleIntensityRanged,\n",
    "    Spacingd,\n",
    "    RandRotate90d,\n",
    "    MapTransform,\n",
    "    ScaleIntensityd,\n",
    "    #AddChanneld,\n",
    "    SpatialPadd,\n",
    "    CenterSpatialCropd,\n",
    "    EnsureChannelFirstd,\n",
    "    ConcatItemsd,\n",
    "    AdjustContrastd, \n",
    "    Rand3DElasticd,\n",
    "    HistogramNormalized,\n",
    "    NormalizeIntensityd,\n",
    "    Invertd,\n",
    "    SaveImage,\n",
    "\n",
    ")"
   ]
  },
  {
   "cell_type": "code",
   "execution_count": 3,
   "metadata": {},
   "outputs": [],
   "source": [
    "data_dir = '/home/nada.saadi/MIS-FM/hecktor2022_cropped'\n",
    "json_dir = '/home/nada.saadi/MIS-FM/hecktor2022_cropped/MDA_ct_train_new.json'"
   ]
  },
  {
   "cell_type": "code",
   "execution_count": 4,
   "metadata": {},
   "outputs": [],
   "source": [
    "def datafold_read(datalist, basedir, fold=0, key=\"training\"):\n",
    "    with open(datalist) as f:\n",
    "        json_data = json.load(f)\n",
    "\n",
    "    json_data = json_data[key]\n",
    "\n",
    "    for d in json_data:\n",
    "        for k in d:\n",
    "            if isinstance(d[k], list):\n",
    "                d[k] = [os.path.join(basedir, iv) for iv in d[k]]\n",
    "            elif isinstance(d[k], str):\n",
    "                d[k] = os.path.join(basedir, d[k]) if len(d[k]) > 0 else d[k]\n",
    "\n",
    "    tr = []\n",
    "    val = []\n",
    "    for d in json_data:\n",
    "        if \"fold\" in d and d[\"fold\"] == fold:\n",
    "            val.append(d)\n",
    "        else:\n",
    "            tr.append(d)\n",
    "\n",
    "    return tr, val"
   ]
  },
  {
   "cell_type": "code",
   "execution_count": 5,
   "metadata": {},
   "outputs": [
    {
     "data": {
      "text/plain": [
       "(152, 44)"
      ]
     },
     "execution_count": 5,
     "metadata": {},
     "output_type": "execute_result"
    }
   ],
   "source": [
    "train_data, valid_data = datafold_read(datalist=json_dir, basedir=data_dir, fold=0)\n",
    "len(train_data), len(valid_data)"
   ]
  },
  {
   "cell_type": "code",
   "execution_count": 6,
   "metadata": {},
   "outputs": [],
   "source": [
    "class ClipCT(MapTransform):\n",
    "    \"\"\"\n",
    "    Convert labels to multi channels based on hecktor classes:\n",
    "    label 1 is the tumor\n",
    "    label 2 is the lymph node\n",
    "\n",
    "    \"\"\"\n",
    "\n",
    "    def __call__(self, data):\n",
    "        d = dict(data)\n",
    "        for key in self.keys:\n",
    "            if key == \"ct\":\n",
    "                d[key] = torch.clip(d[key], min=-200, max=200)\n",
    "            # elif key == \"pt\":\n",
    "            #     d[key] = torch.clip(d[key], d[key].min(), 5)\n",
    "        return d\n",
    "\n",
    "class MulPTFM(MapTransform):\n",
    "    \"\"\"\n",
    "    Mult PT and FM \n",
    "\n",
    "    \"\"\"\n",
    "\n",
    "    def __call__(self, data):\n",
    "        d = dict(data)\n",
    "\n",
    "        fm = d[\"ct\"] > 0\n",
    "        d[\"pt\"] = d[\"pt\"] * fm\n",
    "        return d\n",
    "\n",
    "class SelectClass(MapTransform):\n",
    "    \"\"\"\n",
    "    Select the class for which you want to fine tune the model \n",
    "\n",
    "    \"\"\"\n",
    "    # def __init__(self, keys, cls=1):\n",
    "    #     super(self).__init__(keys)\n",
    "    #     self.cls = cls\n",
    "\n",
    "    def __call__(self, data):\n",
    "        d = dict(data)\n",
    "        d[\"seg\"][d[\"seg\"] == 1] = 0\n",
    "        # d[\"seg\"][d[\"seg\"] == 2] = 1\n",
    "        \n",
    "        return d"
   ]
  },
  {
   "cell_type": "code",
   "execution_count": 7,
   "metadata": {},
   "outputs": [],
   "source": [
    "num_samples = 4\n",
    "\n",
    "train_transforms = Compose(\n",
    "    [\n",
    "        LoadImaged(keys=[\"ct\", \"seg\"], ensure_channel_first = True),\n",
    "        SpatialPadd(keys=[\"ct\",  \"seg\"], spatial_size=(200, 200, 310), method='end'),\n",
    "        Orientationd(keys=[\"ct\",  \"seg\"], axcodes=\"PLS\"),\n",
    "        #NormalizeIntensityd(keys=[\"pt\"]),\n",
    "        ClipCT(keys=[\"ct\"]),\n",
    "        ScaleIntensityd(keys=[\"ct\"], minv=0, maxv=1),\n",
    "        #MulPTFM(keys=[\"ct\",\"pt\"]),\n",
    "        #ConcatItemsd(keys=[\"pt\", \"ct\"], name=\"ctpt\"),\n",
    "        #NormalizeIntensityd(keys=[\"ctpt\"], channel_wise=True),\n",
    "        RandCropByPosNegLabeld(\n",
    "            keys=[\"ct\", \"seg\"],\n",
    "            label_key=\"seg\",\n",
    "            spatial_size=(96, 96, 96),\n",
    "            pos=1,\n",
    "            neg=1,\n",
    "            num_samples=num_samples,\n",
    "            image_key=\"ct\",\n",
    "            image_threshold=0,\n",
    "        ),\n",
    "        RandFlipd(\n",
    "            keys=[\"ct\", \"seg\"],\n",
    "            spatial_axis=[0],\n",
    "            prob=0.20,\n",
    "        ),\n",
    "        RandFlipd(\n",
    "            keys=[\"ct\", \"seg\"],\n",
    "            spatial_axis=[1],\n",
    "            prob=0.20,\n",
    "        ),\n",
    "        RandFlipd(\n",
    "            keys=[\"ct\", \"seg\"],\n",
    "            spatial_axis=[2],\n",
    "            prob=0.20,\n",
    "        ),\n",
    "        RandRotate90d(\n",
    "            keys=[\"ct\", \"seg\"],\n",
    "            prob=0.20,\n",
    "            max_k=3,\n",
    "        ),\n",
    "    ]\n",
    ") \n",
    "val_transforms = Compose(\n",
    "    [\n",
    "        LoadImaged(keys=[\"ct\", \"seg\"], ensure_channel_first = True),\n",
    "        SpatialPadd(keys=[\"ct\", \"seg\"], spatial_size=(200, 200, 310), method='end'),\n",
    "        Orientationd(keys=[\"ct\",  \"seg\"], axcodes=\"PLS\"),\n",
    "        #NormalizeIntensityd(keys=[\"pt\"]),\n",
    "        ClipCT(keys=[\"ct\"]),\n",
    "        ScaleIntensityd(keys=[\"ct\"], minv=0, maxv=1),\n",
    "        #MulPTFM(keys=[\"ct\",\"pt\"]),\n",
    "        #ConcatItemsd(keys=[\"pt\", \"ct\"], name=\"ctpt\"),\n",
    "    ]\n",
    ")\n",
    "\n",
    "def create_dataloader(data, transforms, batch_size=2, shuffle=True):\n",
    "    # Create CacheDataset with the reformatted data\n",
    "    dataset = Dataset(data=data, transform=transforms)\n",
    "\n",
    "    # Create DataLoader\n",
    "    return DataLoader(dataset, batch_size=batch_size, shuffle=shuffle, num_workers=8)\n",
    "\n",
    "\n",
    "\n",
    "train_loader = create_dataloader(train_data, train_transforms, shuffle=True)\n",
    "val_loader = create_dataloader(valid_data, val_transforms, shuffle=False)"
   ]
  },
  {
   "cell_type": "code",
   "execution_count": 8,
   "metadata": {},
   "outputs": [
    {
     "name": "stdout",
     "output_type": "stream",
     "text": [
      "Nada's version of UNETR\n",
      "(96, 96, 96)\n",
      "(16, 16, 16)\n",
      "(6, 6, 6)\n",
      "768\n",
      "ana daba kandir ghir pet dial mda fjdid\n"
     ]
    },
    {
     "name": "stderr",
     "output_type": "stream",
     "text": [
      "/home/nada.saadi/miniconda3/envs/clam/lib/python3.8/site-packages/monai/utils/deprecate_utils.py:221: FutureWarning: unetr CustomedUNETR.__init__:pos_embed: Argument `pos_embed` has been deprecated since version 1.2. It will be removed in version 1.4. please use `proj_type` instead.\n",
      "  warn_deprecated(argname, msg, warning_category)\n"
     ]
    },
    {
     "name": "stdout",
     "output_type": "stream",
     "text": [
      "base_vit_dim 768\n"
     ]
    }
   ],
   "source": [
    "model = CustomedUNETR(\n",
    "    in_channels=1,\n",
    "    out_channels=3,\n",
    "    img_size=(96, 96, 96),\n",
    "    feature_size=48,\n",
    "    hidden_size=768,\n",
    "    num_heads=12,\n",
    "    mlp_dim=3072,\n",
    "    pos_embed=\"perceptron\",\n",
    "    norm_name=\"instance\",\n",
    "    res_block=True,\n",
    "    dropout_rate=0.0,\n",
    "    proj_type=\"conv\",\n",
    "    r=4,\n",
    "    lora_layer=None,\n",
    ").to(device)"
   ]
  },
  {
   "cell_type": "code",
   "execution_count": 9,
   "metadata": {},
   "outputs": [],
   "source": [
    "def poly_lr(epoch, max_epochs, initial_lr, exponent=0.9):\n",
    "    return initial_lr * (1 - epoch / max_epochs)**exponent\n",
    "\n",
    "model_dir='/home/nada.saadi/CTPET/hecktor2022_cropped/module2-cttokens'\n",
    "\n",
    "max_iterations = 18000\n",
    "eval_num = 100\n",
    "\n",
    "## running stats\n",
    "global_step = 0\n",
    "dice_val_best = 0.0\n",
    "global_step_best = 0\n",
    "epoch_loss_values = []\n",
    "metric_values = []\n",
    "metric_values_tumor = []\n",
    "metric_values_lymph = []\n",
    "\n",
    "\n",
    "loss_function = DiceCELoss(to_onehot_y=True, softmax=True)\n",
    "optimizer = torch.optim.AdamW(model.parameters(), lr=1e-4, weight_decay=1e-5)\n",
    "\n",
    "\n",
    "post_label = AsDiscrete(to_onehot=3)\n",
    "post_pred = AsDiscrete(argmax=True, to_onehot=3)\n",
    "\n",
    "dice_metric = DiceMetric(include_background=False, reduction=\"mean\", get_not_nans=False)\n",
    "dice_metric_batch = DiceMetric(include_background=False, reduction=\"mean_batch\")\n",
    "\n",
    "\n",
    "##-----------------------------------------------------------------------------\n",
    "\n",
    "def validation(epoch_iterator_val):\n",
    "        model.eval()\n",
    "        with torch.no_grad():\n",
    "            for step, batch in enumerate(epoch_iterator_val):\n",
    "                val_inputs, val_labels = (batch[\"ct\"].cuda(), batch[\"seg\"].cuda())\n",
    "                val_outputs = sliding_window_inference(val_inputs, (96, 96, 96), 4, model)\n",
    "                val_labels_list = decollate_batch(val_labels)\n",
    "                val_labels_convert = [\n",
    "                    post_label(val_label_tensor) for val_label_tensor in val_labels_list\n",
    "                ]\n",
    "                val_outputs_list = decollate_batch(val_outputs)\n",
    "                val_output_convert = [\n",
    "                    post_pred(val_pred_tensor) for val_pred_tensor in val_outputs_list\n",
    "                ]\n",
    "                dice_metric(y_pred=val_output_convert, y=val_labels_convert)\n",
    "                dice_metric_batch(y_pred=val_output_convert, y=val_labels_convert)\n",
    "                epoch_iterator_val.set_description(\n",
    "                    \"Validate (%d / %d Steps)\" % (global_step, 10.0)\n",
    "                )\n",
    "            mean_dice_val = dice_metric.aggregate().item()\n",
    "            metric_batch_val = dice_metric_batch.aggregate()\n",
    "\n",
    "            metric_tumor = metric_batch_val[0].item()\n",
    "            metric_lymph = metric_batch_val[1].item()\n",
    "\n",
    "            dice_metric.reset()\n",
    "            dice_metric_batch.reset()\n",
    "        return mean_dice_val, metric_tumor, metric_lymph\n",
    "\n",
    "\n",
    "\n",
    "def train(global_step, train_loader, dice_val_best, global_step_best):\n",
    "        model.train()\n",
    "        epoch_loss = 0\n",
    "        step = 0\n",
    "        epoch_iterator = tqdm(\n",
    "            train_loader, desc=\"Training (X / X Steps) (loss=X.X)\", dynamic_ncols=True\n",
    "        )\n",
    "        \n",
    "        for step, batch in enumerate(epoch_iterator):\n",
    "            step += 1\n",
    "            x, y = (batch[\"ct\"].cuda(), batch[\"seg\"].cuda())\n",
    "            logit_map = model(x)\n",
    "            loss = loss_function(logit_map, y)\n",
    "            loss.backward()\n",
    "            epoch_loss += loss.item() \n",
    "            optimizer.step()\n",
    "            optimizer.zero_grad()\n",
    "            epoch_iterator.set_description(\n",
    "                \"Training (%d / %d Steps) (loss=%2.5f)\"\n",
    "                % (global_step, max_iterations, loss)\n",
    "            )\n",
    "            \n",
    "            if (\n",
    "                global_step % eval_num == 0 and global_step != 0\n",
    "            ) or global_step == max_iterations:\n",
    "                epoch_iterator_val = tqdm(\n",
    "                    val_loader, desc=\"Validate (X / X Steps) (dice=X.X)\", dynamic_ncols=True\n",
    "                )\n",
    "                dice_val, metric_tumor, metric_lymph = validation(epoch_iterator_val)\n",
    "                epoch_loss /= step\n",
    "                epoch_loss_values.append(epoch_loss)\n",
    "                metric_values.append(dice_val)\n",
    "                metric_values_tumor.append(metric_tumor)\n",
    "                metric_values_lymph.append(metric_lymph)\n",
    "                if dice_val > dice_val_best:\n",
    "                    dice_val_best = dice_val\n",
    "                    global_step_best = global_step\n",
    "                    torch.save(\n",
    "                        model.state_dict(), os.path.join(model_dir, \"m2-cttokens.pth\")\n",
    "                    )\n",
    "                    print(\n",
    "                        \"Model Was Saved ! Current Best Avg. Dice: {} Current Avg. Dice: {} Current Avg. tumor Dice: {} Current Avg. lymph Dice: {}\".format(\n",
    "                            dice_val_best, dice_val, metric_tumor, metric_lymph\n",
    "                        )\n",
    "                    )\n",
    "                else:\n",
    "                    print(\n",
    "                        \"Model Was Not Saved ! Current Best Avg. Dice: {} Current Avg. Dice: {} Current Avg. tumor Dice: {} Current Avg. lymph Dice: {}\".format(\n",
    "                            dice_val_best, dice_val,  metric_tumor, metric_lymph\n",
    "                        )\n",
    "                    )\n",
    "            global_step += 1\n",
    "        return global_step, dice_val_best, global_step_best"
   ]
  },
  {
   "cell_type": "code",
   "execution_count": 10,
   "metadata": {},
   "outputs": [
    {
     "name": "stderr",
     "output_type": "stream",
     "text": [
      "Training (75 / 18000 Steps) (loss=1.21078): 100%|██████████| 76/76 [04:23<00:00,  3.46s/it]\n",
      "Validate (76 / 10 Steps): 100%|██████████| 22/22 [02:44<00:00,  7.50s/it]8<02:17,  2.64s/it]\n",
      "Training (100 / 18000 Steps) (loss=1.15422):  33%|███▎      | 25/76 [03:53<44:27, 52.30s/it]"
     ]
    },
    {
     "name": "stdout",
     "output_type": "stream",
     "text": [
      "Model Was Not Saved ! Current Best Avg. Dice: 0.0 Current Avg. Dice: 0.0 Current Avg. tumor Dice: 0.0 Current Avg. lymph Dice: 0.0\n"
     ]
    },
    {
     "name": "stderr",
     "output_type": "stream",
     "text": [
      "Training (151 / 18000 Steps) (loss=1.09275): 100%|██████████| 76/76 [06:09<00:00,  4.86s/it]\n",
      "Validate (152 / 10 Steps): 100%|██████████| 22/22 [02:35<00:00,  7.06s/it]<01:13,  2.61s/it]\n",
      "Training (200 / 18000 Steps) (loss=1.06073):  64%|██████▍   | 49/76 [04:47<22:11, 49.31s/it]"
     ]
    },
    {
     "name": "stdout",
     "output_type": "stream",
     "text": [
      "Model Was Not Saved ! Current Best Avg. Dice: 0.0 Current Avg. Dice: 0.0 Current Avg. tumor Dice: 0.0 Current Avg. lymph Dice: 0.0\n"
     ]
    },
    {
     "name": "stderr",
     "output_type": "stream",
     "text": [
      "Training (227 / 18000 Steps) (loss=0.99653): 100%|██████████| 76/76 [05:58<00:00,  4.72s/it]\n",
      "Validate (228 / 10 Steps): 100%|██████████| 22/22 [02:35<00:00,  7.06s/it]<00:10,  2.63s/it]\n",
      "Training (300 / 18000 Steps) (loss=0.95641):  96%|█████████▌| 73/76 [05:52<02:28, 49.62s/it]"
     ]
    },
    {
     "name": "stdout",
     "output_type": "stream",
     "text": [
      "Model Was Saved ! Current Best Avg. Dice: 0.07818461209535599 Current Avg. Dice: 0.07818461209535599 Current Avg. tumor Dice: 0.0 Current Avg. lymph Dice: 0.1846262663602829\n"
     ]
    },
    {
     "name": "stderr",
     "output_type": "stream",
     "text": [
      "Training (303 / 18000 Steps) (loss=0.94074): 100%|██████████| 76/76 [06:00<00:00,  4.74s/it]\n",
      "Training (379 / 18000 Steps) (loss=0.88448): 100%|██████████| 76/76 [03:24<00:00,  2.69s/it]\n",
      "Validate (380 / 10 Steps): 100%|██████████| 22/22 [02:35<00:00,  7.05s/it]<02:24,  2.58s/it]\n",
      "Training (400 / 18000 Steps) (loss=0.88653):  28%|██▊       | 21/76 [03:33<45:17, 49.41s/it]"
     ]
    },
    {
     "name": "stdout",
     "output_type": "stream",
     "text": [
      "Model Was Saved ! Current Best Avg. Dice: 0.08717718720436096 Current Avg. Dice: 0.08717718720436096 Current Avg. tumor Dice: 0.0 Current Avg. lymph Dice: 0.21294766664505005\n"
     ]
    },
    {
     "name": "stderr",
     "output_type": "stream",
     "text": [
      "Training (455 / 18000 Steps) (loss=0.86361): 100%|██████████| 76/76 [05:59<00:00,  4.73s/it]\n",
      "Validate (456 / 10 Steps): 100%|██████████| 22/22 [02:35<00:00,  7.06s/it]<01:24,  2.64s/it]\n",
      "Training (500 / 18000 Steps) (loss=0.82408):  59%|█████▉    | 45/76 [04:37<25:34, 49.49s/it]"
     ]
    },
    {
     "name": "stdout",
     "output_type": "stream",
     "text": [
      "Model Was Saved ! Current Best Avg. Dice: 0.10174247622489929 Current Avg. Dice: 0.10174247622489929 Current Avg. tumor Dice: 0.0 Current Avg. lymph Dice: 0.2457786649465561\n"
     ]
    },
    {
     "name": "stderr",
     "output_type": "stream",
     "text": [
      "Training (531 / 18000 Steps) (loss=0.79182): 100%|██████████| 76/76 [05:59<00:00,  4.73s/it]\n",
      "Validate (532 / 10 Steps): 100%|██████████| 22/22 [01:16<00:00,  3.50s/it]<00:10,  1.30s/it]\n",
      "Training (600 / 18000 Steps) (loss=0.81826):  91%|█████████ | 69/76 [03:46<02:52, 24.65s/it]"
     ]
    },
    {
     "name": "stdout",
     "output_type": "stream",
     "text": [
      "Model Was Saved ! Current Best Avg. Dice: 0.11371896415948868 Current Avg. Dice: 0.11371896415948868 Current Avg. tumor Dice: 0.0 Current Avg. lymph Dice: 0.2687709629535675\n"
     ]
    },
    {
     "name": "stderr",
     "output_type": "stream",
     "text": [
      "Training (607 / 18000 Steps) (loss=0.80586): 100%|██████████| 76/76 [03:55<00:00,  3.09s/it]\n",
      "Training (683 / 18000 Steps) (loss=0.80618): 100%|██████████| 76/76 [01:41<00:00,  1.34s/it]\n",
      "Validate (684 / 10 Steps): 100%|██████████| 22/22 [01:16<00:00,  3.50s/it]<01:17,  1.29s/it]\n",
      "Training (700 / 18000 Steps) (loss=0.81530):  22%|██▏       | 17/76 [01:42<24:23, 24.80s/it]"
     ]
    },
    {
     "name": "stdout",
     "output_type": "stream",
     "text": [
      "Model Was Saved ! Current Best Avg. Dice: 0.1299285739660263 Current Avg. Dice: 0.1299285739660263 Current Avg. tumor Dice: 0.0003218452911823988 Current Avg. lymph Dice: 0.30732065439224243\n"
     ]
    },
    {
     "name": "stderr",
     "output_type": "stream",
     "text": [
      "Training (759 / 18000 Steps) (loss=0.77773): 100%|██████████| 76/76 [02:59<00:00,  2.37s/it]\n",
      "Validate (760 / 10 Steps): 100%|██████████| 22/22 [01:16<00:00,  3.49s/it]<00:45,  1.28s/it]\n",
      "Training (800 / 18000 Steps) (loss=0.74627):  54%|█████▍    | 41/76 [02:13<14:20, 24.58s/it]"
     ]
    },
    {
     "name": "stdout",
     "output_type": "stream",
     "text": [
      "Model Was Saved ! Current Best Avg. Dice: 0.2238694578409195 Current Avg. Dice: 0.2238694578409195 Current Avg. tumor Dice: 0.19406570494174957 Current Avg. lymph Dice: 0.2759467363357544\n"
     ]
    },
    {
     "name": "stderr",
     "output_type": "stream",
     "text": [
      "Training (835 / 18000 Steps) (loss=0.76732): 100%|██████████| 76/76 [02:59<00:00,  2.36s/it]\n",
      "Validate (836 / 10 Steps): 100%|██████████| 22/22 [01:16<00:00,  3.49s/it]<00:15,  1.27s/it]\n",
      "Training (900 / 18000 Steps) (loss=0.76778):  86%|████████▌ | 65/76 [02:45<04:30, 24.58s/it]"
     ]
    },
    {
     "name": "stdout",
     "output_type": "stream",
     "text": [
      "Model Was Saved ! Current Best Avg. Dice: 0.23569193482398987 Current Avg. Dice: 0.23569193482398987 Current Avg. tumor Dice: 0.19820240139961243 Current Avg. lymph Dice: 0.3000076115131378\n"
     ]
    },
    {
     "name": "stderr",
     "output_type": "stream",
     "text": [
      "Training (911 / 18000 Steps) (loss=0.74400): 100%|██████████| 76/76 [02:59<00:00,  2.36s/it]\n",
      "Training (987 / 18000 Steps) (loss=0.67604): 100%|██████████| 76/76 [01:41<00:00,  1.34s/it]\n",
      "Validate (988 / 10 Steps): 100%|██████████| 22/22 [01:16<00:00,  3.49s/it]9<01:26,  1.34s/it]\n",
      "Training (1000 / 18000 Steps) (loss=0.65173):  17%|█▋        | 13/76 [01:37<26:05, 24.85s/it]"
     ]
    },
    {
     "name": "stdout",
     "output_type": "stream",
     "text": [
      "Model Was Saved ! Current Best Avg. Dice: 0.24854989349842072 Current Avg. Dice: 0.24854989349842072 Current Avg. tumor Dice: 0.2182813584804535 Current Avg. lymph Dice: 0.30113789439201355\n"
     ]
    },
    {
     "name": "stderr",
     "output_type": "stream",
     "text": [
      "Training (1063 / 18000 Steps) (loss=0.69228): 100%|██████████| 76/76 [03:00<00:00,  2.37s/it]\n",
      "Validate (1064 / 10 Steps): 100%|██████████| 22/22 [01:16<00:00,  3.49s/it]<00:51,  1.29s/it]\n",
      "Training (1100 / 18000 Steps) (loss=0.70260):  49%|████▊     | 37/76 [02:08<16:00, 24.64s/it]"
     ]
    },
    {
     "name": "stdout",
     "output_type": "stream",
     "text": [
      "Model Was Saved ! Current Best Avg. Dice: 0.28196799755096436 Current Avg. Dice: 0.28196799755096436 Current Avg. tumor Dice: 0.2558489143848419 Current Avg. lymph Dice: 0.3270813226699829\n"
     ]
    },
    {
     "name": "stderr",
     "output_type": "stream",
     "text": [
      "Training (1139 / 18000 Steps) (loss=0.66929): 100%|██████████| 76/76 [02:59<00:00,  2.36s/it]\n",
      "Validate (1140 / 10 Steps): 100%|██████████| 22/22 [01:16<00:00,  3.48s/it]<00:20,  1.31s/it]\n",
      "Training (1200 / 18000 Steps) (loss=0.71045):  80%|████████  | 61/76 [02:38<06:04, 24.31s/it]"
     ]
    },
    {
     "name": "stdout",
     "output_type": "stream",
     "text": [
      "Model Was Not Saved ! Current Best Avg. Dice: 0.28196799755096436 Current Avg. Dice: 0.2745135426521301 Current Avg. tumor Dice: 0.25148555636405945 Current Avg. lymph Dice: 0.312254935503006\n"
     ]
    },
    {
     "name": "stderr",
     "output_type": "stream",
     "text": [
      "Training (1215 / 18000 Steps) (loss=0.62211): 100%|██████████| 76/76 [02:58<00:00,  2.34s/it]\n",
      "Training (1291 / 18000 Steps) (loss=0.66832): 100%|██████████| 76/76 [01:41<00:00,  1.33s/it]\n",
      "Validate (1292 / 10 Steps): 100%|██████████| 22/22 [01:16<00:00,  3.49s/it]01:31,  1.34s/it]\n",
      "Training (1300 / 18000 Steps) (loss=0.58643):  12%|█▏        | 9/76 [01:31<28:24, 25.45s/it]"
     ]
    },
    {
     "name": "stdout",
     "output_type": "stream",
     "text": [
      "Model Was Not Saved ! Current Best Avg. Dice: 0.28196799755096436 Current Avg. Dice: 0.26235637068748474 Current Avg. tumor Dice: 0.2207389771938324 Current Avg. lymph Dice: 0.33904963731765747\n"
     ]
    },
    {
     "name": "stderr",
     "output_type": "stream",
     "text": [
      "Training (1367 / 18000 Steps) (loss=0.66250): 100%|██████████| 76/76 [02:58<00:00,  2.35s/it]\n",
      "Validate (1368 / 10 Steps): 100%|██████████| 22/22 [01:16<00:00,  3.49s/it]<00:56,  1.28s/it]\n",
      "Training (1400 / 18000 Steps) (loss=0.64242):  43%|████▎     | 33/76 [02:02<17:29, 24.40s/it]"
     ]
    },
    {
     "name": "stdout",
     "output_type": "stream",
     "text": [
      "Model Was Not Saved ! Current Best Avg. Dice: 0.28196799755096436 Current Avg. Dice: 0.2663709819316864 Current Avg. tumor Dice: 0.2324129045009613 Current Avg. lymph Dice: 0.3225208818912506\n"
     ]
    },
    {
     "name": "stderr",
     "output_type": "stream",
     "text": [
      "Training (1443 / 18000 Steps) (loss=0.61566): 100%|██████████| 76/76 [02:58<00:00,  2.35s/it]\n",
      "Validate (1444 / 10 Steps): 100%|██████████| 22/22 [01:16<00:00,  3.47s/it]<00:25,  1.29s/it]\n",
      "Training (1500 / 18000 Steps) (loss=0.60343):  75%|███████▌  | 57/76 [02:34<07:46, 24.56s/it]"
     ]
    },
    {
     "name": "stdout",
     "output_type": "stream",
     "text": [
      "Model Was Saved ! Current Best Avg. Dice: 0.29006659984588623 Current Avg. Dice: 0.29006659984588623 Current Avg. tumor Dice: 0.26705601811408997 Current Avg. lymph Dice: 0.3412686586380005\n"
     ]
    },
    {
     "name": "stderr",
     "output_type": "stream",
     "text": [
      "Training (1519 / 18000 Steps) (loss=0.59727): 100%|██████████| 76/76 [02:58<00:00,  2.35s/it]\n",
      "Training (1595 / 18000 Steps) (loss=0.66172): 100%|██████████| 76/76 [01:41<00:00,  1.33s/it]\n",
      "Validate (1596 / 10 Steps): 100%|██████████| 22/22 [01:16<00:00,  3.47s/it]02:00,  1.67s/it]\n",
      "Training (1600 / 18000 Steps) (loss=0.58313):   7%|▋         | 5/76 [01:26<34:43, 29.35s/it]"
     ]
    },
    {
     "name": "stdout",
     "output_type": "stream",
     "text": [
      "Model Was Saved ! Current Best Avg. Dice: 0.31380048394203186 Current Avg. Dice: 0.31380048394203186 Current Avg. tumor Dice: 0.27697667479515076 Current Avg. lymph Dice: 0.3749920129776001\n"
     ]
    },
    {
     "name": "stderr",
     "output_type": "stream",
     "text": [
      "Training (1671 / 18000 Steps) (loss=0.55002): 100%|██████████| 76/76 [02:58<00:00,  2.35s/it]\n",
      "Validate (1672 / 10 Steps): 100%|██████████| 22/22 [01:16<00:00,  3.47s/it]<01:03,  1.31s/it]\n",
      "Training (1700 / 18000 Steps) (loss=0.41557):  38%|███▊      | 29/76 [01:56<18:59, 24.25s/it]"
     ]
    },
    {
     "name": "stdout",
     "output_type": "stream",
     "text": [
      "Model Was Not Saved ! Current Best Avg. Dice: 0.31380048394203186 Current Avg. Dice: 0.3012975752353668 Current Avg. tumor Dice: 0.2924412786960602 Current Avg. lymph Dice: 0.3246062099933624\n"
     ]
    },
    {
     "name": "stderr",
     "output_type": "stream",
     "text": [
      "Training (1747 / 18000 Steps) (loss=0.58576): 100%|██████████| 76/76 [02:57<00:00,  2.34s/it]\n",
      "Validate (1748 / 10 Steps): 100%|██████████| 22/22 [01:16<00:00,  3.47s/it]<00:31,  1.29s/it]\n",
      "Training (1800 / 18000 Steps) (loss=0.62445):  70%|██████▉   | 53/76 [02:27<09:16, 24.20s/it]"
     ]
    },
    {
     "name": "stdout",
     "output_type": "stream",
     "text": [
      "Model Was Not Saved ! Current Best Avg. Dice: 0.31380048394203186 Current Avg. Dice: 0.3000684976577759 Current Avg. tumor Dice: 0.2699354290962219 Current Avg. lymph Dice: 0.35409170389175415\n"
     ]
    },
    {
     "name": "stderr",
     "output_type": "stream",
     "text": [
      "Training (1823 / 18000 Steps) (loss=0.65755): 100%|██████████| 76/76 [02:57<00:00,  2.34s/it]\n",
      "Training (1899 / 18000 Steps) (loss=0.59689): 100%|██████████| 76/76 [01:40<00:00,  1.33s/it]\n",
      "Validate (1900 / 10 Steps): 100%|██████████| 22/22 [01:16<00:00,  3.48s/it]?, ?it/s]\n",
      "Training (1900 / 18000 Steps) (loss=0.47765):   1%|▏         | 1/76 [01:21<1:41:55, 81.54s/it]"
     ]
    },
    {
     "name": "stdout",
     "output_type": "stream",
     "text": [
      "Model Was Saved ! Current Best Avg. Dice: 0.3248862326145172 Current Avg. Dice: 0.3248862326145172 Current Avg. tumor Dice: 0.29736989736557007 Current Avg. lymph Dice: 0.3706425428390503\n"
     ]
    },
    {
     "name": "stderr",
     "output_type": "stream",
     "text": [
      "Training (1975 / 18000 Steps) (loss=0.61775): 100%|██████████| 76/76 [02:58<00:00,  2.35s/it] \n",
      "Validate (1976 / 10 Steps): 100%|██████████| 22/22 [01:16<00:00,  3.48s/it]<01:07,  1.29s/it]\n",
      "Training (2000 / 18000 Steps) (loss=0.56975):  33%|███▎      | 25/76 [01:52<20:53, 24.59s/it]"
     ]
    },
    {
     "name": "stdout",
     "output_type": "stream",
     "text": [
      "Model Was Saved ! Current Best Avg. Dice: 0.34356018900871277 Current Avg. Dice: 0.34356018900871277 Current Avg. tumor Dice: 0.32840973138809204 Current Avg. lymph Dice: 0.3707171082496643\n"
     ]
    },
    {
     "name": "stderr",
     "output_type": "stream",
     "text": [
      "Training (2051 / 18000 Steps) (loss=0.55388): 100%|██████████| 76/76 [02:58<00:00,  2.35s/it]\n",
      "Validate (2052 / 10 Steps): 100%|██████████| 22/22 [01:16<00:00,  3.47s/it]<00:35,  1.28s/it]\n",
      "Training (2100 / 18000 Steps) (loss=0.53221):  64%|██████▍   | 49/76 [02:22<10:54, 24.23s/it]"
     ]
    },
    {
     "name": "stdout",
     "output_type": "stream",
     "text": [
      "Model Was Not Saved ! Current Best Avg. Dice: 0.34356018900871277 Current Avg. Dice: 0.31196585297584534 Current Avg. tumor Dice: 0.2975083887577057 Current Avg. lymph Dice: 0.34439536929130554\n"
     ]
    },
    {
     "name": "stderr",
     "output_type": "stream",
     "text": [
      "Training (2127 / 18000 Steps) (loss=0.60496): 100%|██████████| 76/76 [02:57<00:00,  2.33s/it]\n",
      "Validate (2128 / 10 Steps): 100%|██████████| 22/22 [01:16<00:00,  3.48s/it]<00:05,  1.28s/it]\n",
      "Training (2200 / 18000 Steps) (loss=0.52029):  96%|█████████▌| 73/76 [02:54<01:12, 24.29s/it]"
     ]
    },
    {
     "name": "stdout",
     "output_type": "stream",
     "text": [
      "Model Was Not Saved ! Current Best Avg. Dice: 0.34356018900871277 Current Avg. Dice: 0.2820037603378296 Current Avg. tumor Dice: 0.2654240131378174 Current Avg. lymph Dice: 0.32192671298980713\n"
     ]
    },
    {
     "name": "stderr",
     "output_type": "stream",
     "text": [
      "Training (2203 / 18000 Steps) (loss=0.61742): 100%|██████████| 76/76 [02:58<00:00,  2.34s/it]\n",
      "Training (2279 / 18000 Steps) (loss=0.58345): 100%|██████████| 76/76 [01:40<00:00,  1.33s/it]\n",
      "Validate (2280 / 10 Steps): 100%|██████████| 22/22 [01:16<00:00,  3.47s/it]<01:13,  1.32s/it]\n",
      "Training (2300 / 18000 Steps) (loss=0.50386):  28%|██▊       | 21/76 [01:46<22:14, 24.26s/it]"
     ]
    },
    {
     "name": "stdout",
     "output_type": "stream",
     "text": [
      "Model Was Not Saved ! Current Best Avg. Dice: 0.34356018900871277 Current Avg. Dice: 0.3084753751754761 Current Avg. tumor Dice: 0.2854132652282715 Current Avg. lymph Dice: 0.3529822826385498\n"
     ]
    },
    {
     "name": "stderr",
     "output_type": "stream",
     "text": [
      "Training (2355 / 18000 Steps) (loss=0.67546): 100%|██████████| 76/76 [02:57<00:00,  2.34s/it]\n",
      "Validate (2356 / 10 Steps): 100%|██████████| 22/22 [01:16<00:00,  3.47s/it]<00:41,  1.29s/it]\n",
      "Training (2400 / 18000 Steps) (loss=0.57572):  59%|█████▉    | 45/76 [02:18<12:38, 24.46s/it]"
     ]
    },
    {
     "name": "stdout",
     "output_type": "stream",
     "text": [
      "Model Was Saved ! Current Best Avg. Dice: 0.346638023853302 Current Avg. Dice: 0.346638023853302 Current Avg. tumor Dice: 0.3332374095916748 Current Avg. lymph Dice: 0.3716834485530853\n"
     ]
    },
    {
     "name": "stderr",
     "output_type": "stream",
     "text": [
      "Training (2431 / 18000 Steps) (loss=0.55661): 100%|██████████| 76/76 [02:58<00:00,  2.34s/it]\n",
      "Validate (2432 / 10 Steps): 100%|██████████| 22/22 [01:16<00:00,  3.48s/it]<00:10,  1.30s/it]\n",
      "Training (2500 / 18000 Steps) (loss=0.62009):  91%|█████████ | 69/76 [02:50<02:51, 24.52s/it]"
     ]
    },
    {
     "name": "stdout",
     "output_type": "stream",
     "text": [
      "Model Was Saved ! Current Best Avg. Dice: 0.3490813374519348 Current Avg. Dice: 0.3490813374519348 Current Avg. tumor Dice: 0.3256666958332062 Current Avg. lymph Dice: 0.39082297682762146\n"
     ]
    },
    {
     "name": "stderr",
     "output_type": "stream",
     "text": [
      "Training (2507 / 18000 Steps) (loss=0.61470): 100%|██████████| 76/76 [02:59<00:00,  2.36s/it]\n",
      "Training (2583 / 18000 Steps) (loss=0.55409): 100%|██████████| 76/76 [01:41<00:00,  1.33s/it]\n",
      "Validate (2584 / 10 Steps): 100%|██████████| 22/22 [01:16<00:00,  3.48s/it]<01:17,  1.29s/it]\n",
      "Training (2600 / 18000 Steps) (loss=0.61943):  22%|██▏       | 17/76 [01:41<24:11, 24.60s/it]"
     ]
    },
    {
     "name": "stdout",
     "output_type": "stream",
     "text": [
      "Model Was Saved ! Current Best Avg. Dice: 0.35716712474823 Current Avg. Dice: 0.35716712474823 Current Avg. tumor Dice: 0.3481552004814148 Current Avg. lymph Dice: 0.3833148777484894\n"
     ]
    },
    {
     "name": "stderr",
     "output_type": "stream",
     "text": [
      "Training (2659 / 18000 Steps) (loss=0.54814): 100%|██████████| 76/76 [02:59<00:00,  2.36s/it]\n",
      "Validate (2660 / 10 Steps): 100%|██████████| 22/22 [01:16<00:00,  3.48s/it]<00:46,  1.29s/it]\n",
      "Training (2700 / 18000 Steps) (loss=0.64556):  54%|█████▍    | 41/76 [02:12<14:11, 24.33s/it]"
     ]
    },
    {
     "name": "stdout",
     "output_type": "stream",
     "text": [
      "Model Was Not Saved ! Current Best Avg. Dice: 0.35716712474823 Current Avg. Dice: 0.3348865211009979 Current Avg. tumor Dice: 0.2986390292644501 Current Avg. lymph Dice: 0.39726611971855164\n"
     ]
    },
    {
     "name": "stderr",
     "output_type": "stream",
     "text": [
      "Training (2735 / 18000 Steps) (loss=0.54028): 100%|██████████| 76/76 [02:58<00:00,  2.35s/it]\n",
      "Validate (2736 / 10 Steps): 100%|██████████| 22/22 [01:16<00:00,  3.48s/it]<00:15,  1.27s/it]\n",
      "Training (2800 / 18000 Steps) (loss=0.47233):  86%|████████▌ | 65/76 [02:44<04:29, 24.53s/it]"
     ]
    },
    {
     "name": "stdout",
     "output_type": "stream",
     "text": [
      "Model Was Saved ! Current Best Avg. Dice: 0.36307790875434875 Current Avg. Dice: 0.36307790875434875 Current Avg. tumor Dice: 0.35932114720344543 Current Avg. lymph Dice: 0.3773439824581146\n"
     ]
    },
    {
     "name": "stderr",
     "output_type": "stream",
     "text": [
      "Training (2811 / 18000 Steps) (loss=0.56600): 100%|██████████| 76/76 [02:58<00:00,  2.36s/it]\n",
      "Training (2887 / 18000 Steps) (loss=0.56329): 100%|██████████| 76/76 [01:41<00:00,  1.33s/it]\n",
      "Validate (2888 / 10 Steps): 100%|██████████| 22/22 [01:16<00:00,  3.49s/it]<01:24,  1.32s/it]\n",
      "Training (2900 / 18000 Steps) (loss=0.48749):  17%|█▋        | 13/76 [01:36<25:49, 24.60s/it]"
     ]
    },
    {
     "name": "stdout",
     "output_type": "stream",
     "text": [
      "Model Was Not Saved ! Current Best Avg. Dice: 0.36307790875434875 Current Avg. Dice: 0.32733476161956787 Current Avg. tumor Dice: 0.33162304759025574 Current Avg. lymph Dice: 0.3370547294616699\n"
     ]
    },
    {
     "name": "stderr",
     "output_type": "stream",
     "text": [
      "Training (2963 / 18000 Steps) (loss=0.52268): 100%|██████████| 76/76 [02:58<00:00,  2.34s/it]\n",
      "Validate (2964 / 10 Steps): 100%|██████████| 22/22 [01:16<00:00,  3.48s/it]<00:51,  1.30s/it]\n",
      "Training (3000 / 18000 Steps) (loss=0.56040):  49%|████▊     | 37/76 [02:07<15:46, 24.26s/it]"
     ]
    },
    {
     "name": "stdout",
     "output_type": "stream",
     "text": [
      "Model Was Not Saved ! Current Best Avg. Dice: 0.36307790875434875 Current Avg. Dice: 0.34224003553390503 Current Avg. tumor Dice: 0.31864461302757263 Current Avg. lymph Dice: 0.38056743144989014\n"
     ]
    },
    {
     "name": "stderr",
     "output_type": "stream",
     "text": [
      "Training (3039 / 18000 Steps) (loss=0.56384): 100%|██████████| 76/76 [02:58<00:00,  2.35s/it]\n",
      "Validate (3040 / 10 Steps): 100%|██████████| 22/22 [01:16<00:00,  3.48s/it]<00:20,  1.31s/it]\n",
      "Training (3100 / 18000 Steps) (loss=0.49729):  80%|████████  | 61/76 [02:38<06:04, 24.31s/it]"
     ]
    },
    {
     "name": "stdout",
     "output_type": "stream",
     "text": [
      "Model Was Not Saved ! Current Best Avg. Dice: 0.36307790875434875 Current Avg. Dice: 0.3467535674571991 Current Avg. tumor Dice: 0.3234853148460388 Current Avg. lymph Dice: 0.3864164352416992\n"
     ]
    },
    {
     "name": "stderr",
     "output_type": "stream",
     "text": [
      "Training (3115 / 18000 Steps) (loss=0.50234): 100%|██████████| 76/76 [02:58<00:00,  2.35s/it]\n",
      "Training (3191 / 18000 Steps) (loss=0.55190): 100%|██████████| 76/76 [01:41<00:00,  1.34s/it]\n",
      "Validate (3192 / 10 Steps): 100%|██████████| 22/22 [01:17<00:00,  3.53s/it]01:32,  1.36s/it]\n",
      "Training (3200 / 18000 Steps) (loss=0.57946):  12%|█▏        | 9/76 [01:32<28:38, 25.65s/it]"
     ]
    },
    {
     "name": "stdout",
     "output_type": "stream",
     "text": [
      "Model Was Not Saved ! Current Best Avg. Dice: 0.36307790875434875 Current Avg. Dice: 0.34985941648483276 Current Avg. tumor Dice: 0.32601094245910645 Current Avg. lymph Dice: 0.3942582309246063\n"
     ]
    },
    {
     "name": "stderr",
     "output_type": "stream",
     "text": [
      "Training (3267 / 18000 Steps) (loss=0.61791): 100%|██████████| 76/76 [03:00<00:00,  2.37s/it]\n",
      "Validate (3268 / 10 Steps): 100%|██████████| 22/22 [01:16<00:00,  3.48s/it]<00:56,  1.28s/it]\n",
      "Training (3300 / 18000 Steps) (loss=0.53149):  43%|████▎     | 33/76 [02:02<17:35, 24.55s/it]"
     ]
    },
    {
     "name": "stdout",
     "output_type": "stream",
     "text": [
      "Model Was Saved ! Current Best Avg. Dice: 0.36490628123283386 Current Avg. Dice: 0.36490628123283386 Current Avg. tumor Dice: 0.350628137588501 Current Avg. lymph Dice: 0.38384735584259033\n"
     ]
    },
    {
     "name": "stderr",
     "output_type": "stream",
     "text": [
      "Training (3343 / 18000 Steps) (loss=0.59235): 100%|██████████| 76/76 [02:59<00:00,  2.36s/it]\n",
      "Validate (3344 / 10 Steps): 100%|██████████| 22/22 [01:16<00:00,  3.48s/it]<00:25,  1.28s/it]\n",
      "Training (3400 / 18000 Steps) (loss=0.52342):  75%|███████▌  | 57/76 [02:34<07:46, 24.53s/it]"
     ]
    },
    {
     "name": "stdout",
     "output_type": "stream",
     "text": [
      "Model Was Saved ! Current Best Avg. Dice: 0.38762378692626953 Current Avg. Dice: 0.38762378692626953 Current Avg. tumor Dice: 0.3740758001804352 Current Avg. lymph Dice: 0.405901163816452\n"
     ]
    },
    {
     "name": "stderr",
     "output_type": "stream",
     "text": [
      "Training (3419 / 18000 Steps) (loss=0.54277): 100%|██████████| 76/76 [02:58<00:00,  2.35s/it]\n",
      "Training (3495 / 18000 Steps) (loss=0.59072): 100%|██████████| 76/76 [01:42<00:00,  1.34s/it]\n",
      "Validate (3496 / 10 Steps): 100%|██████████| 22/22 [01:16<00:00,  3.48s/it]01:55,  1.61s/it]\n",
      "Training (3500 / 18000 Steps) (loss=0.54171):   7%|▋         | 5/76 [01:25<34:28, 29.13s/it]"
     ]
    },
    {
     "name": "stdout",
     "output_type": "stream",
     "text": [
      "Model Was Not Saved ! Current Best Avg. Dice: 0.38762378692626953 Current Avg. Dice: 0.3538116216659546 Current Avg. tumor Dice: 0.3169856071472168 Current Avg. lymph Dice: 0.41936200857162476\n"
     ]
    },
    {
     "name": "stderr",
     "output_type": "stream",
     "text": [
      "Training (3571 / 18000 Steps) (loss=0.54406): 100%|██████████| 76/76 [02:58<00:00,  2.35s/it]\n",
      "Validate (3572 / 10 Steps): 100%|██████████| 22/22 [01:16<00:00,  3.49s/it]<01:03,  1.33s/it]\n",
      "Training (3600 / 18000 Steps) (loss=0.58738):  38%|███▊      | 29/76 [01:57<19:04, 24.35s/it]"
     ]
    },
    {
     "name": "stdout",
     "output_type": "stream",
     "text": [
      "Model Was Not Saved ! Current Best Avg. Dice: 0.38762378692626953 Current Avg. Dice: 0.35669124126434326 Current Avg. tumor Dice: 0.3230608105659485 Current Avg. lymph Dice: 0.412458598613739\n"
     ]
    },
    {
     "name": "stderr",
     "output_type": "stream",
     "text": [
      "Training (3647 / 18000 Steps) (loss=0.59170): 100%|██████████| 76/76 [02:58<00:00,  2.35s/it]\n",
      "Validate (3648 / 10 Steps): 100%|██████████| 22/22 [01:17<00:00,  3.54s/it]<00:31,  1.32s/it]\n",
      "Training (3700 / 18000 Steps) (loss=0.52377):  70%|██████▉   | 53/76 [02:29<09:27, 24.67s/it]"
     ]
    },
    {
     "name": "stdout",
     "output_type": "stream",
     "text": [
      "Model Was Not Saved ! Current Best Avg. Dice: 0.38762378692626953 Current Avg. Dice: 0.3478652238845825 Current Avg. tumor Dice: 0.3323603570461273 Current Avg. lymph Dice: 0.37226560711860657\n"
     ]
    },
    {
     "name": "stderr",
     "output_type": "stream",
     "text": [
      "Training (3723 / 18000 Steps) (loss=0.63478): 100%|██████████| 76/76 [02:59<00:00,  2.36s/it]\n",
      "Training (3799 / 18000 Steps) (loss=0.60731): 100%|██████████| 76/76 [01:41<00:00,  1.33s/it]\n",
      "Validate (3800 / 10 Steps): 100%|██████████| 22/22 [01:16<00:00,  3.48s/it]?, ?it/s]\n",
      "Training (3800 / 18000 Steps) (loss=0.62905):   1%|▏         | 1/76 [01:20<1:40:14, 80.19s/it]"
     ]
    },
    {
     "name": "stdout",
     "output_type": "stream",
     "text": [
      "Model Was Not Saved ! Current Best Avg. Dice: 0.38762378692626953 Current Avg. Dice: 0.36352065205574036 Current Avg. tumor Dice: 0.3512580394744873 Current Avg. lymph Dice: 0.3988321125507355\n"
     ]
    },
    {
     "name": "stderr",
     "output_type": "stream",
     "text": [
      "Training (3875 / 18000 Steps) (loss=0.47288): 100%|██████████| 76/76 [02:57<00:00,  2.34s/it] \n",
      "Validate (3876 / 10 Steps): 100%|██████████| 22/22 [01:16<00:00,  3.48s/it]<01:06,  1.28s/it]\n",
      "Training (3900 / 18000 Steps) (loss=0.50990):  33%|███▎      | 25/76 [01:51<20:43, 24.38s/it]"
     ]
    },
    {
     "name": "stdout",
     "output_type": "stream",
     "text": [
      "Model Was Not Saved ! Current Best Avg. Dice: 0.38762378692626953 Current Avg. Dice: 0.35421884059906006 Current Avg. tumor Dice: 0.32499662041664124 Current Avg. lymph Dice: 0.4066249430179596\n"
     ]
    },
    {
     "name": "stderr",
     "output_type": "stream",
     "text": [
      "Training (3951 / 18000 Steps) (loss=0.56482): 100%|██████████| 76/76 [02:57<00:00,  2.34s/it]\n",
      "Validate (3952 / 10 Steps): 100%|██████████| 22/22 [01:16<00:00,  3.47s/it]<00:36,  1.29s/it]\n",
      "Training (4000 / 18000 Steps) (loss=0.49535):  64%|██████▍   | 49/76 [02:22<10:54, 24.26s/it]"
     ]
    },
    {
     "name": "stdout",
     "output_type": "stream",
     "text": [
      "Model Was Not Saved ! Current Best Avg. Dice: 0.38762378692626953 Current Avg. Dice: 0.37243807315826416 Current Avg. tumor Dice: 0.34601807594299316 Current Avg. lymph Dice: 0.41704195737838745\n"
     ]
    },
    {
     "name": "stderr",
     "output_type": "stream",
     "text": [
      "Training (4027 / 18000 Steps) (loss=0.50884): 100%|██████████| 76/76 [02:57<00:00,  2.34s/it]\n",
      "Validate (4028 / 10 Steps): 100%|██████████| 22/22 [01:16<00:00,  3.48s/it]<00:05,  1.28s/it]\n",
      "Training (4100 / 18000 Steps) (loss=0.53185):  96%|█████████▌| 73/76 [02:53<01:12, 24.30s/it]"
     ]
    },
    {
     "name": "stdout",
     "output_type": "stream",
     "text": [
      "Model Was Not Saved ! Current Best Avg. Dice: 0.38762378692626953 Current Avg. Dice: 0.35008716583251953 Current Avg. tumor Dice: 0.32123321294784546 Current Avg. lymph Dice: 0.412803053855896\n"
     ]
    },
    {
     "name": "stderr",
     "output_type": "stream",
     "text": [
      "Training (4103 / 18000 Steps) (loss=0.58631): 100%|██████████| 76/76 [02:57<00:00,  2.34s/it]\n",
      "Training (4179 / 18000 Steps) (loss=0.55826): 100%|██████████| 76/76 [01:41<00:00,  1.33s/it]\n",
      "Validate (4180 / 10 Steps): 100%|██████████| 22/22 [01:16<00:00,  3.48s/it]<01:13,  1.30s/it]\n",
      "Training (4200 / 18000 Steps) (loss=0.35377):  28%|██▊       | 21/76 [01:46<22:17, 24.32s/it]"
     ]
    },
    {
     "name": "stdout",
     "output_type": "stream",
     "text": [
      "Model Was Not Saved ! Current Best Avg. Dice: 0.38762378692626953 Current Avg. Dice: 0.3550044894218445 Current Avg. tumor Dice: 0.3168683648109436 Current Avg. lymph Dice: 0.4098741114139557\n"
     ]
    },
    {
     "name": "stderr",
     "output_type": "stream",
     "text": [
      "Training (4255 / 18000 Steps) (loss=0.61735): 100%|██████████| 76/76 [02:57<00:00,  2.34s/it]\n",
      "Validate (4256 / 10 Steps): 100%|██████████| 22/22 [01:16<00:00,  3.48s/it]<00:42,  1.34s/it]\n",
      "Training (4300 / 18000 Steps) (loss=0.37337):  59%|█████▉    | 45/76 [02:17<12:33, 24.30s/it]"
     ]
    },
    {
     "name": "stdout",
     "output_type": "stream",
     "text": [
      "Model Was Not Saved ! Current Best Avg. Dice: 0.38762378692626953 Current Avg. Dice: 0.35776978731155396 Current Avg. tumor Dice: 0.338897168636322 Current Avg. lymph Dice: 0.3997291326522827\n"
     ]
    },
    {
     "name": "stderr",
     "output_type": "stream",
     "text": [
      "Training (4331 / 18000 Steps) (loss=0.43989): 100%|██████████| 76/76 [02:57<00:00,  2.34s/it]\n",
      "Validate (4332 / 10 Steps): 100%|██████████| 22/22 [01:16<00:00,  3.48s/it]<00:10,  1.30s/it]\n",
      "Training (4400 / 18000 Steps) (loss=0.59374):  91%|█████████ | 69/76 [02:48<02:49, 24.28s/it]"
     ]
    },
    {
     "name": "stdout",
     "output_type": "stream",
     "text": [
      "Model Was Not Saved ! Current Best Avg. Dice: 0.38762378692626953 Current Avg. Dice: 0.3540150821208954 Current Avg. tumor Dice: 0.3191162645816803 Current Avg. lymph Dice: 0.4103783369064331\n"
     ]
    },
    {
     "name": "stderr",
     "output_type": "stream",
     "text": [
      "Training (4407 / 18000 Steps) (loss=0.54570): 100%|██████████| 76/76 [02:57<00:00,  2.34s/it]\n",
      "Training (4483 / 18000 Steps) (loss=0.61494): 100%|██████████| 76/76 [01:40<00:00,  1.33s/it]\n",
      "Validate (4484 / 10 Steps): 100%|██████████| 22/22 [01:16<00:00,  3.48s/it]<01:17,  1.28s/it]\n",
      "Training (4500 / 18000 Steps) (loss=0.50639):  22%|██▏       | 17/76 [01:42<24:14, 24.65s/it]"
     ]
    },
    {
     "name": "stdout",
     "output_type": "stream",
     "text": [
      "Model Was Saved ! Current Best Avg. Dice: 0.4018409550189972 Current Avg. Dice: 0.4018409550189972 Current Avg. tumor Dice: 0.3726433515548706 Current Avg. lymph Dice: 0.44417768716812134\n"
     ]
    },
    {
     "name": "stderr",
     "output_type": "stream",
     "text": [
      "Training (4559 / 18000 Steps) (loss=0.57994): 100%|██████████| 76/76 [02:59<00:00,  2.36s/it]\n",
      "Validate (4560 / 10 Steps): 100%|██████████| 22/22 [01:16<00:00,  3.48s/it]<00:45,  1.27s/it]\n",
      "Training (4600 / 18000 Steps) (loss=0.59204):  54%|█████▍    | 41/76 [02:12<14:09, 24.27s/it]"
     ]
    },
    {
     "name": "stdout",
     "output_type": "stream",
     "text": [
      "Model Was Not Saved ! Current Best Avg. Dice: 0.4018409550189972 Current Avg. Dice: 0.3597663938999176 Current Avg. tumor Dice: 0.36273694038391113 Current Avg. lymph Dice: 0.3634019196033478\n"
     ]
    },
    {
     "name": "stderr",
     "output_type": "stream",
     "text": [
      "Training (4635 / 18000 Steps) (loss=0.44788): 100%|██████████| 76/76 [02:57<00:00,  2.34s/it]\n",
      "Validate (4636 / 10 Steps): 100%|██████████| 22/22 [01:16<00:00,  3.48s/it]<00:15,  1.29s/it]\n",
      "Training (4700 / 18000 Steps) (loss=0.40883):  86%|████████▌ | 65/76 [02:43<04:26, 24.26s/it]"
     ]
    },
    {
     "name": "stdout",
     "output_type": "stream",
     "text": [
      "Model Was Not Saved ! Current Best Avg. Dice: 0.4018409550189972 Current Avg. Dice: 0.37691399455070496 Current Avg. tumor Dice: 0.3510424494743347 Current Avg. lymph Dice: 0.42589107155799866\n"
     ]
    },
    {
     "name": "stderr",
     "output_type": "stream",
     "text": [
      "Training (4711 / 18000 Steps) (loss=0.44288): 100%|██████████| 76/76 [02:57<00:00,  2.34s/it]\n",
      "Training (4787 / 18000 Steps) (loss=0.50655): 100%|██████████| 76/76 [01:40<00:00,  1.33s/it]\n",
      "Validate (4788 / 10 Steps): 100%|██████████| 22/22 [01:16<00:00,  3.48s/it]<01:24,  1.31s/it]\n",
      "Training (4800 / 18000 Steps) (loss=0.49410):  17%|█▋        | 13/76 [01:36<25:42, 24.49s/it]"
     ]
    },
    {
     "name": "stdout",
     "output_type": "stream",
     "text": [
      "Model Was Not Saved ! Current Best Avg. Dice: 0.4018409550189972 Current Avg. Dice: 0.3890089988708496 Current Avg. tumor Dice: 0.36044183373451233 Current Avg. lymph Dice: 0.43844687938690186\n"
     ]
    },
    {
     "name": "stderr",
     "output_type": "stream",
     "text": [
      "Training (4863 / 18000 Steps) (loss=0.49887): 100%|██████████| 76/76 [02:58<00:00,  2.34s/it]\n",
      "Validate (4864 / 10 Steps): 100%|██████████| 22/22 [01:16<00:00,  3.48s/it]<00:52,  1.32s/it]\n",
      "Training (4900 / 18000 Steps) (loss=0.37021):  49%|████▊     | 37/76 [02:07<15:46, 24.28s/it]"
     ]
    },
    {
     "name": "stdout",
     "output_type": "stream",
     "text": [
      "Model Was Not Saved ! Current Best Avg. Dice: 0.4018409550189972 Current Avg. Dice: 0.39168885350227356 Current Avg. tumor Dice: 0.36025503277778625 Current Avg. lymph Dice: 0.446499764919281\n"
     ]
    },
    {
     "name": "stderr",
     "output_type": "stream",
     "text": [
      "Training (4939 / 18000 Steps) (loss=0.44905): 100%|██████████| 76/76 [02:58<00:00,  2.35s/it]\n",
      "Validate (4940 / 10 Steps): 100%|██████████| 22/22 [01:16<00:00,  3.47s/it]<00:20,  1.31s/it]\n",
      "Training (5000 / 18000 Steps) (loss=0.61057):  80%|████████  | 61/76 [02:39<06:07, 24.48s/it]"
     ]
    },
    {
     "name": "stdout",
     "output_type": "stream",
     "text": [
      "Model Was Saved ! Current Best Avg. Dice: 0.4028642475605011 Current Avg. Dice: 0.4028642475605011 Current Avg. tumor Dice: 0.3704446852207184 Current Avg. lymph Dice: 0.45492446422576904\n"
     ]
    },
    {
     "name": "stderr",
     "output_type": "stream",
     "text": [
      "Training (5015 / 18000 Steps) (loss=0.61550): 100%|██████████| 76/76 [02:58<00:00,  2.35s/it]\n",
      "Training (5091 / 18000 Steps) (loss=0.57349): 100%|██████████| 76/76 [01:41<00:00,  1.34s/it]\n",
      "Validate (5092 / 10 Steps): 100%|██████████| 22/22 [01:16<00:00,  3.48s/it]01:30,  1.34s/it]\n",
      "Training (5100 / 18000 Steps) (loss=0.55181):  12%|█▏        | 9/76 [01:30<28:18, 25.36s/it]"
     ]
    },
    {
     "name": "stdout",
     "output_type": "stream",
     "text": [
      "Model Was Not Saved ! Current Best Avg. Dice: 0.4028642475605011 Current Avg. Dice: 0.3642526865005493 Current Avg. tumor Dice: 0.3367745876312256 Current Avg. lymph Dice: 0.4136081337928772\n"
     ]
    },
    {
     "name": "stderr",
     "output_type": "stream",
     "text": [
      "Training (5167 / 18000 Steps) (loss=0.53459): 100%|██████████| 76/76 [02:57<00:00,  2.34s/it]\n",
      "Validate (5168 / 10 Steps): 100%|██████████| 22/22 [01:16<00:00,  3.48s/it]<00:56,  1.28s/it]\n",
      "Training (5200 / 18000 Steps) (loss=0.53178):  43%|████▎     | 33/76 [02:01<17:25, 24.32s/it]"
     ]
    },
    {
     "name": "stdout",
     "output_type": "stream",
     "text": [
      "Model Was Not Saved ! Current Best Avg. Dice: 0.4028642475605011 Current Avg. Dice: 0.3698579668998718 Current Avg. tumor Dice: 0.3311958909034729 Current Avg. lymph Dice: 0.4348452389240265\n"
     ]
    },
    {
     "name": "stderr",
     "output_type": "stream",
     "text": [
      "Training (5243 / 18000 Steps) (loss=0.55344): 100%|██████████| 76/76 [02:57<00:00,  2.34s/it]\n",
      "Validate (5244 / 10 Steps): 100%|██████████| 22/22 [01:16<00:00,  3.48s/it]<00:25,  1.28s/it]\n",
      "Training (5300 / 18000 Steps) (loss=0.41814):  75%|███████▌  | 57/76 [02:33<07:42, 24.34s/it]"
     ]
    },
    {
     "name": "stdout",
     "output_type": "stream",
     "text": [
      "Model Was Not Saved ! Current Best Avg. Dice: 0.4028642475605011 Current Avg. Dice: 0.3730778396129608 Current Avg. tumor Dice: 0.35367777943611145 Current Avg. lymph Dice: 0.4184418320655823\n"
     ]
    },
    {
     "name": "stderr",
     "output_type": "stream",
     "text": [
      "Training (5319 / 18000 Steps) (loss=0.64984): 100%|██████████| 76/76 [02:58<00:00,  2.35s/it]\n",
      "Training (5395 / 18000 Steps) (loss=0.51529): 100%|██████████| 76/76 [01:40<00:00,  1.33s/it]\n",
      "Validate (5396 / 10 Steps): 100%|██████████| 22/22 [01:16<00:00,  3.48s/it]01:57,  1.64s/it]\n",
      "Training (5400 / 18000 Steps) (loss=0.49071):   7%|▋         | 5/76 [01:25<34:25, 29.09s/it]"
     ]
    },
    {
     "name": "stdout",
     "output_type": "stream",
     "text": [
      "Model Was Not Saved ! Current Best Avg. Dice: 0.4028642475605011 Current Avg. Dice: 0.38932979106903076 Current Avg. tumor Dice: 0.3718944191932678 Current Avg. lymph Dice: 0.4279595613479614\n"
     ]
    },
    {
     "name": "stderr",
     "output_type": "stream",
     "text": [
      "Training (5471 / 18000 Steps) (loss=0.56257): 100%|██████████| 76/76 [02:57<00:00,  2.34s/it]\n",
      "Validate (5472 / 10 Steps): 100%|██████████| 22/22 [01:16<00:00,  3.47s/it]<01:03,  1.32s/it]\n",
      "Training (5500 / 18000 Steps) (loss=0.47893):  38%|███▊      | 29/76 [01:56<18:58, 24.23s/it]"
     ]
    },
    {
     "name": "stdout",
     "output_type": "stream",
     "text": [
      "Model Was Not Saved ! Current Best Avg. Dice: 0.4028642475605011 Current Avg. Dice: 0.40156885981559753 Current Avg. tumor Dice: 0.3666170835494995 Current Avg. lymph Dice: 0.4556954801082611\n"
     ]
    },
    {
     "name": "stderr",
     "output_type": "stream",
     "text": [
      "Training (5547 / 18000 Steps) (loss=0.51529): 100%|██████████| 76/76 [02:58<00:00,  2.34s/it]\n",
      "Validate (5548 / 10 Steps): 100%|██████████| 22/22 [01:16<00:00,  3.47s/it]<00:31,  1.33s/it]\n",
      "Training (5600 / 18000 Steps) (loss=0.46202):  70%|██████▉   | 53/76 [02:28<09:23, 24.48s/it]"
     ]
    },
    {
     "name": "stdout",
     "output_type": "stream",
     "text": [
      "Model Was Saved ! Current Best Avg. Dice: 0.415509968996048 Current Avg. Dice: 0.415509968996048 Current Avg. tumor Dice: 0.3944758474826813 Current Avg. lymph Dice: 0.4503213167190552\n"
     ]
    },
    {
     "name": "stderr",
     "output_type": "stream",
     "text": [
      "Training (5623 / 18000 Steps) (loss=0.48781): 100%|██████████| 76/76 [02:58<00:00,  2.35s/it]\n",
      "Training (5699 / 18000 Steps) (loss=0.52956): 100%|██████████| 76/76 [01:41<00:00,  1.33s/it]\n",
      "Validate (5700 / 10 Steps): 100%|██████████| 22/22 [01:16<00:00,  3.50s/it]?, ?it/s]\n",
      "Training (5700 / 18000 Steps) (loss=0.43256):   1%|▏         | 1/76 [01:20<1:40:56, 80.76s/it]"
     ]
    },
    {
     "name": "stdout",
     "output_type": "stream",
     "text": [
      "Model Was Not Saved ! Current Best Avg. Dice: 0.415509968996048 Current Avg. Dice: 0.400738924741745 Current Avg. tumor Dice: 0.36907100677490234 Current Avg. lymph Dice: 0.44839441776275635\n"
     ]
    },
    {
     "name": "stderr",
     "output_type": "stream",
     "text": [
      "Training (5775 / 18000 Steps) (loss=0.54924): 100%|██████████| 76/76 [02:58<00:00,  2.35s/it] \n",
      "Validate (5776 / 10 Steps): 100%|██████████| 22/22 [01:16<00:00,  3.48s/it]<01:06,  1.28s/it]\n",
      "Training (5800 / 18000 Steps) (loss=0.49915):  33%|███▎      | 25/76 [01:51<20:36, 24.24s/it]"
     ]
    },
    {
     "name": "stdout",
     "output_type": "stream",
     "text": [
      "Model Was Not Saved ! Current Best Avg. Dice: 0.415509968996048 Current Avg. Dice: 0.39807817339897156 Current Avg. tumor Dice: 0.3793739676475525 Current Avg. lymph Dice: 0.42695945501327515\n"
     ]
    },
    {
     "name": "stderr",
     "output_type": "stream",
     "text": [
      "Training (5851 / 18000 Steps) (loss=0.56093): 100%|██████████| 76/76 [02:57<00:00,  2.34s/it]\n",
      "Validate (5852 / 10 Steps): 100%|██████████| 22/22 [01:17<00:00,  3.50s/it]<00:36,  1.30s/it]\n",
      "Training (5900 / 18000 Steps) (loss=0.56166):  64%|██████▍   | 49/76 [02:23<11:00, 24.47s/it]"
     ]
    },
    {
     "name": "stdout",
     "output_type": "stream",
     "text": [
      "Model Was Not Saved ! Current Best Avg. Dice: 0.415509968996048 Current Avg. Dice: 0.3939305543899536 Current Avg. tumor Dice: 0.3565358519554138 Current Avg. lymph Dice: 0.45692524313926697\n"
     ]
    },
    {
     "name": "stderr",
     "output_type": "stream",
     "text": [
      "Training (5927 / 18000 Steps) (loss=0.59377): 100%|██████████| 76/76 [02:58<00:00,  2.36s/it]\n",
      "Validate (5928 / 10 Steps): 100%|██████████| 22/22 [01:16<00:00,  3.50s/it]<00:05,  1.30s/it]\n",
      "Training (6000 / 18000 Steps) (loss=0.46588):  96%|█████████▌| 73/76 [02:54<01:13, 24.42s/it]"
     ]
    },
    {
     "name": "stdout",
     "output_type": "stream",
     "text": [
      "Model Was Not Saved ! Current Best Avg. Dice: 0.415509968996048 Current Avg. Dice: 0.4020402133464813 Current Avg. tumor Dice: 0.3726505637168884 Current Avg. lymph Dice: 0.44271963834762573\n"
     ]
    },
    {
     "name": "stderr",
     "output_type": "stream",
     "text": [
      "Training (6003 / 18000 Steps) (loss=0.53560): 100%|██████████| 76/76 [02:58<00:00,  2.35s/it]\n",
      "Training (6079 / 18000 Steps) (loss=0.44562): 100%|██████████| 76/76 [01:41<00:00,  1.34s/it]\n",
      "Validate (6080 / 10 Steps): 100%|██████████| 22/22 [01:16<00:00,  3.49s/it]<01:12,  1.29s/it]\n",
      "Training (6100 / 18000 Steps) (loss=0.40337):  28%|██▊       | 21/76 [01:46<22:19, 24.35s/it]"
     ]
    },
    {
     "name": "stdout",
     "output_type": "stream",
     "text": [
      "Model Was Not Saved ! Current Best Avg. Dice: 0.415509968996048 Current Avg. Dice: 0.39095762372016907 Current Avg. tumor Dice: 0.35142865777015686 Current Avg. lymph Dice: 0.45087161660194397\n"
     ]
    },
    {
     "name": "stderr",
     "output_type": "stream",
     "text": [
      "Training (6155 / 18000 Steps) (loss=0.60358): 100%|██████████| 76/76 [02:58<00:00,  2.35s/it]\n",
      "Validate (6156 / 10 Steps): 100%|██████████| 22/22 [01:17<00:00,  3.50s/it]<00:41,  1.30s/it]\n",
      "Training (6200 / 18000 Steps) (loss=0.55572):  59%|█████▉    | 45/76 [02:18<12:37, 24.44s/it]"
     ]
    },
    {
     "name": "stdout",
     "output_type": "stream",
     "text": [
      "Model Was Not Saved ! Current Best Avg. Dice: 0.415509968996048 Current Avg. Dice: 0.40440499782562256 Current Avg. tumor Dice: 0.3724130094051361 Current Avg. lymph Dice: 0.4549592435359955\n"
     ]
    },
    {
     "name": "stderr",
     "output_type": "stream",
     "text": [
      "Training (6231 / 18000 Steps) (loss=0.63441): 100%|██████████| 76/76 [02:59<00:00,  2.36s/it]\n",
      "Validate (6232 / 10 Steps): 100%|██████████| 22/22 [01:17<00:00,  3.51s/it]<00:10,  1.32s/it]\n",
      "Training (6300 / 18000 Steps) (loss=0.56895):  91%|█████████ | 69/76 [02:51<02:53, 24.74s/it]"
     ]
    },
    {
     "name": "stdout",
     "output_type": "stream",
     "text": [
      "Model Was Saved ! Current Best Avg. Dice: 0.4228133261203766 Current Avg. Dice: 0.4228133261203766 Current Avg. tumor Dice: 0.40071654319763184 Current Avg. lymph Dice: 0.45140087604522705\n"
     ]
    },
    {
     "name": "stderr",
     "output_type": "stream",
     "text": [
      "Training (6307 / 18000 Steps) (loss=0.43057): 100%|██████████| 76/76 [03:00<00:00,  2.38s/it]\n",
      "Training (6383 / 18000 Steps) (loss=0.57639): 100%|██████████| 76/76 [01:42<00:00,  1.35s/it]\n",
      "Validate (6384 / 10 Steps): 100%|██████████| 22/22 [01:17<00:00,  3.51s/it]<01:16,  1.28s/it]\n",
      "Training (6400 / 18000 Steps) (loss=0.58652):  22%|██▏       | 17/76 [01:42<24:11, 24.60s/it]"
     ]
    },
    {
     "name": "stdout",
     "output_type": "stream",
     "text": [
      "Model Was Not Saved ! Current Best Avg. Dice: 0.4228133261203766 Current Avg. Dice: 0.38115832209587097 Current Avg. tumor Dice: 0.37265831232070923 Current Avg. lymph Dice: 0.40385469794273376\n"
     ]
    },
    {
     "name": "stderr",
     "output_type": "stream",
     "text": [
      "Training (6459 / 18000 Steps) (loss=0.52573): 100%|██████████| 76/76 [02:59<00:00,  2.36s/it]\n",
      "Validate (6460 / 10 Steps): 100%|██████████| 22/22 [01:16<00:00,  3.50s/it]<00:46,  1.30s/it]\n",
      "Training (6500 / 18000 Steps) (loss=0.53370):  54%|█████▍    | 41/76 [02:13<14:15, 24.44s/it]"
     ]
    },
    {
     "name": "stdout",
     "output_type": "stream",
     "text": [
      "Model Was Not Saved ! Current Best Avg. Dice: 0.4228133261203766 Current Avg. Dice: 0.3919878900051117 Current Avg. tumor Dice: 0.37417522072792053 Current Avg. lymph Dice: 0.42561784386634827\n"
     ]
    },
    {
     "name": "stderr",
     "output_type": "stream",
     "text": [
      "Training (6535 / 18000 Steps) (loss=0.48355): 100%|██████████| 76/76 [02:59<00:00,  2.36s/it]\n",
      "Validate (6536 / 10 Steps): 100%|██████████| 22/22 [01:17<00:00,  3.51s/it]<00:15,  1.29s/it]\n",
      "Training (6600 / 18000 Steps) (loss=0.58012):  86%|████████▌ | 65/76 [02:44<04:30, 24.56s/it]"
     ]
    },
    {
     "name": "stdout",
     "output_type": "stream",
     "text": [
      "Model Was Not Saved ! Current Best Avg. Dice: 0.4228133261203766 Current Avg. Dice: 0.38365986943244934 Current Avg. tumor Dice: 0.33900853991508484 Current Avg. lymph Dice: 0.45704174041748047\n"
     ]
    },
    {
     "name": "stderr",
     "output_type": "stream",
     "text": [
      "Training (6611 / 18000 Steps) (loss=0.51895): 100%|██████████| 76/76 [02:59<00:00,  2.36s/it]\n",
      "Training (6687 / 18000 Steps) (loss=0.47801): 100%|██████████| 76/76 [01:42<00:00,  1.34s/it]\n",
      "Validate (6688 / 10 Steps): 100%|██████████| 22/22 [01:17<00:00,  3.51s/it]<01:25,  1.34s/it]\n",
      "Training (6700 / 18000 Steps) (loss=0.63361):  17%|█▋        | 13/76 [01:36<25:56, 24.71s/it]"
     ]
    },
    {
     "name": "stdout",
     "output_type": "stream",
     "text": [
      "Model Was Not Saved ! Current Best Avg. Dice: 0.4228133261203766 Current Avg. Dice: 0.4167548418045044 Current Avg. tumor Dice: 0.3748301863670349 Current Avg. lymph Dice: 0.4733569920063019\n"
     ]
    },
    {
     "name": "stderr",
     "output_type": "stream",
     "text": [
      "Training (6763 / 18000 Steps) (loss=0.55717): 100%|██████████| 76/76 [02:59<00:00,  2.36s/it]\n",
      "Validate (6764 / 10 Steps): 100%|██████████| 22/22 [01:16<00:00,  3.50s/it]<00:52,  1.31s/it]\n",
      "Training (6800 / 18000 Steps) (loss=0.55653):  49%|████▊     | 37/76 [02:09<16:01, 24.67s/it]"
     ]
    },
    {
     "name": "stdout",
     "output_type": "stream",
     "text": [
      "Model Was Saved ! Current Best Avg. Dice: 0.4260208308696747 Current Avg. Dice: 0.4260208308696747 Current Avg. tumor Dice: 0.4055575728416443 Current Avg. lymph Dice: 0.4606221914291382\n"
     ]
    },
    {
     "name": "stderr",
     "output_type": "stream",
     "text": [
      "Training (6839 / 18000 Steps) (loss=0.49244): 100%|██████████| 76/76 [03:00<00:00,  2.37s/it]\n",
      "Validate (6840 / 10 Steps): 100%|██████████| 22/22 [01:17<00:00,  3.51s/it]<00:21,  1.33s/it]\n",
      "Training (6900 / 18000 Steps) (loss=0.52300):  80%|████████  | 61/76 [02:40<06:07, 24.52s/it]"
     ]
    },
    {
     "name": "stdout",
     "output_type": "stream",
     "text": [
      "Model Was Not Saved ! Current Best Avg. Dice: 0.4260208308696747 Current Avg. Dice: 0.39090651273727417 Current Avg. tumor Dice: 0.37206509709358215 Current Avg. lymph Dice: 0.425692081451416\n"
     ]
    },
    {
     "name": "stderr",
     "output_type": "stream",
     "text": [
      "Training (6915 / 18000 Steps) (loss=0.49769): 100%|██████████| 76/76 [02:59<00:00,  2.36s/it]\n",
      "Training (6991 / 18000 Steps) (loss=0.56797): 100%|██████████| 76/76 [01:41<00:00,  1.34s/it]\n",
      "Validate (6992 / 10 Steps): 100%|██████████| 22/22 [01:17<00:00,  3.52s/it]01:31,  1.35s/it]\n",
      "Training (7000 / 18000 Steps) (loss=0.48899):  12%|█▏        | 9/76 [01:31<28:36, 25.63s/it]"
     ]
    },
    {
     "name": "stdout",
     "output_type": "stream",
     "text": [
      "Model Was Not Saved ! Current Best Avg. Dice: 0.4260208308696747 Current Avg. Dice: 0.38844653964042664 Current Avg. tumor Dice: 0.36344921588897705 Current Avg. lymph Dice: 0.43269607424736023\n"
     ]
    },
    {
     "name": "stderr",
     "output_type": "stream",
     "text": [
      "Training (7067 / 18000 Steps) (loss=0.62185): 100%|██████████| 76/76 [02:59<00:00,  2.36s/it]\n",
      "Validate (7068 / 10 Steps): 100%|██████████| 22/22 [01:17<00:00,  3.51s/it]<00:56,  1.29s/it]\n",
      "Training (7100 / 18000 Steps) (loss=0.44487):  43%|████▎     | 33/76 [02:03<17:33, 24.50s/it]"
     ]
    },
    {
     "name": "stdout",
     "output_type": "stream",
     "text": [
      "Model Was Not Saved ! Current Best Avg. Dice: 0.4260208308696747 Current Avg. Dice: 0.4198911488056183 Current Avg. tumor Dice: 0.39326712489128113 Current Avg. lymph Dice: 0.465688019990921\n"
     ]
    },
    {
     "name": "stderr",
     "output_type": "stream",
     "text": [
      "Training (7143 / 18000 Steps) (loss=0.47485): 100%|██████████| 76/76 [02:59<00:00,  2.37s/it]\n",
      "Validate (7144 / 10 Steps): 100%|██████████| 22/22 [01:17<00:00,  3.52s/it]<00:25,  1.29s/it]\n",
      "Training (7200 / 18000 Steps) (loss=0.45597):  75%|███████▌  | 57/76 [02:34<07:47, 24.59s/it]"
     ]
    },
    {
     "name": "stdout",
     "output_type": "stream",
     "text": [
      "Model Was Not Saved ! Current Best Avg. Dice: 0.4260208308696747 Current Avg. Dice: 0.39937058091163635 Current Avg. tumor Dice: 0.36174750328063965 Current Avg. lymph Dice: 0.4745224714279175\n"
     ]
    },
    {
     "name": "stderr",
     "output_type": "stream",
     "text": [
      "Training (7219 / 18000 Steps) (loss=0.53631): 100%|██████████| 76/76 [02:59<00:00,  2.37s/it]\n",
      "Training (7295 / 18000 Steps) (loss=0.48132): 100%|██████████| 76/76 [01:42<00:00,  1.35s/it]\n",
      "Validate (7296 / 10 Steps): 100%|██████████| 22/22 [01:17<00:00,  3.52s/it]01:59,  1.65s/it]\n",
      "Training (7300 / 18000 Steps) (loss=0.47599):   7%|▋         | 5/76 [01:26<34:49, 29.43s/it]"
     ]
    },
    {
     "name": "stdout",
     "output_type": "stream",
     "text": [
      "Model Was Not Saved ! Current Best Avg. Dice: 0.4260208308696747 Current Avg. Dice: 0.40541431307792664 Current Avg. tumor Dice: 0.3741740584373474 Current Avg. lymph Dice: 0.45244720578193665\n"
     ]
    },
    {
     "name": "stderr",
     "output_type": "stream",
     "text": [
      "Training (7371 / 18000 Steps) (loss=0.45409): 100%|██████████| 76/76 [02:59<00:00,  2.36s/it]\n",
      "Validate (7372 / 10 Steps): 100%|██████████| 22/22 [01:17<00:00,  3.53s/it]<01:03,  1.32s/it]\n",
      "Training (7400 / 18000 Steps) (loss=0.51326):  38%|███▊      | 29/76 [01:58<19:15, 24.59s/it]"
     ]
    },
    {
     "name": "stdout",
     "output_type": "stream",
     "text": [
      "Model Was Not Saved ! Current Best Avg. Dice: 0.4260208308696747 Current Avg. Dice: 0.41264426708221436 Current Avg. tumor Dice: 0.3727625608444214 Current Avg. lymph Dice: 0.4735155701637268\n"
     ]
    },
    {
     "name": "stderr",
     "output_type": "stream",
     "text": [
      "Training (7447 / 18000 Steps) (loss=0.63737): 100%|██████████| 76/76 [02:59<00:00,  2.36s/it]\n",
      "Validate (7448 / 10 Steps): 100%|██████████| 22/22 [01:17<00:00,  3.52s/it]<00:31,  1.32s/it]\n",
      "Training (7500 / 18000 Steps) (loss=0.48562):  70%|██████▉   | 53/76 [02:29<09:23, 24.52s/it]"
     ]
    },
    {
     "name": "stdout",
     "output_type": "stream",
     "text": [
      "Model Was Not Saved ! Current Best Avg. Dice: 0.4260208308696747 Current Avg. Dice: 0.4101954400539398 Current Avg. tumor Dice: 0.38880714774131775 Current Avg. lymph Dice: 0.4435911774635315\n"
     ]
    },
    {
     "name": "stderr",
     "output_type": "stream",
     "text": [
      "Training (7523 / 18000 Steps) (loss=0.55756): 100%|██████████| 76/76 [02:59<00:00,  2.37s/it]\n",
      "Training (7599 / 18000 Steps) (loss=0.47864): 100%|██████████| 76/76 [01:42<00:00,  1.35s/it]\n",
      "Validate (7600 / 10 Steps): 100%|██████████| 22/22 [01:17<00:00,  3.52s/it]?, ?it/s]\n",
      "Training (7600 / 18000 Steps) (loss=0.56450):   1%|▏         | 1/76 [01:21<1:41:30, 81.20s/it]"
     ]
    },
    {
     "name": "stdout",
     "output_type": "stream",
     "text": [
      "Model Was Not Saved ! Current Best Avg. Dice: 0.4260208308696747 Current Avg. Dice: 0.4169551730155945 Current Avg. tumor Dice: 0.37881380319595337 Current Avg. lymph Dice: 0.46794191002845764\n"
     ]
    },
    {
     "name": "stderr",
     "output_type": "stream",
     "text": [
      "Training (7675 / 18000 Steps) (loss=0.42974): 100%|██████████| 76/76 [02:59<00:00,  2.36s/it] \n",
      "Validate (7676 / 10 Steps): 100%|██████████| 22/22 [01:17<00:00,  3.52s/it]<01:07,  1.30s/it]\n",
      "Training (7700 / 18000 Steps) (loss=0.49444):  33%|███▎      | 25/76 [01:54<21:08, 24.88s/it]"
     ]
    },
    {
     "name": "stdout",
     "output_type": "stream",
     "text": [
      "Model Was Saved ! Current Best Avg. Dice: 0.4416448473930359 Current Avg. Dice: 0.4416448473930359 Current Avg. tumor Dice: 0.4145881235599518 Current Avg. lymph Dice: 0.48433372378349304\n"
     ]
    },
    {
     "name": "stderr",
     "output_type": "stream",
     "text": [
      "Training (7751 / 18000 Steps) (loss=0.65419): 100%|██████████| 76/76 [03:00<00:00,  2.38s/it]\n",
      "Validate (7752 / 10 Steps): 100%|██████████| 22/22 [01:17<00:00,  3.52s/it]<00:36,  1.29s/it]\n",
      "Training (7800 / 18000 Steps) (loss=0.40776):  64%|██████▍   | 49/76 [02:24<11:02, 24.55s/it]"
     ]
    },
    {
     "name": "stdout",
     "output_type": "stream",
     "text": [
      "Model Was Not Saved ! Current Best Avg. Dice: 0.4416448473930359 Current Avg. Dice: 0.4123898446559906 Current Avg. tumor Dice: 0.3791413903236389 Current Avg. lymph Dice: 0.47364383935928345\n"
     ]
    },
    {
     "name": "stderr",
     "output_type": "stream",
     "text": [
      "Training (7827 / 18000 Steps) (loss=0.50251): 100%|██████████| 76/76 [02:59<00:00,  2.37s/it]\n",
      "Validate (7828 / 10 Steps): 100%|██████████| 22/22 [01:17<00:00,  3.52s/it]<00:05,  1.30s/it]\n",
      "Training (7900 / 18000 Steps) (loss=0.45259):  96%|█████████▌| 73/76 [02:56<01:13, 24.56s/it]"
     ]
    },
    {
     "name": "stdout",
     "output_type": "stream",
     "text": [
      "Model Was Not Saved ! Current Best Avg. Dice: 0.4416448473930359 Current Avg. Dice: 0.40459415316581726 Current Avg. tumor Dice: 0.36445194482803345 Current Avg. lymph Dice: 0.46761655807495117\n"
     ]
    },
    {
     "name": "stderr",
     "output_type": "stream",
     "text": [
      "Training (7903 / 18000 Steps) (loss=0.62667): 100%|██████████| 76/76 [03:00<00:00,  2.37s/it]\n",
      "Training (7979 / 18000 Steps) (loss=0.52728): 100%|██████████| 76/76 [01:43<00:00,  1.36s/it]\n",
      "Validate (7980 / 10 Steps): 100%|██████████| 22/22 [01:17<00:00,  3.50s/it]<01:13,  1.32s/it]\n",
      "Training (8000 / 18000 Steps) (loss=0.52877):  28%|██▊       | 21/76 [01:47<22:25, 24.46s/it]"
     ]
    },
    {
     "name": "stdout",
     "output_type": "stream",
     "text": [
      "Model Was Not Saved ! Current Best Avg. Dice: 0.4416448473930359 Current Avg. Dice: 0.40713682770729065 Current Avg. tumor Dice: 0.37478265166282654 Current Avg. lymph Dice: 0.4547818601131439\n"
     ]
    },
    {
     "name": "stderr",
     "output_type": "stream",
     "text": [
      "Training (8055 / 18000 Steps) (loss=0.56373): 100%|██████████| 76/76 [02:59<00:00,  2.36s/it]\n",
      "Validate (8056 / 10 Steps): 100%|██████████| 22/22 [01:17<00:00,  3.51s/it]<00:41,  1.31s/it]\n",
      "Training (8100 / 18000 Steps) (loss=0.40284):  59%|█████▉    | 45/76 [02:18<12:38, 24.48s/it]"
     ]
    },
    {
     "name": "stdout",
     "output_type": "stream",
     "text": [
      "Model Was Not Saved ! Current Best Avg. Dice: 0.4416448473930359 Current Avg. Dice: 0.4356444180011749 Current Avg. tumor Dice: 0.4064691662788391 Current Avg. lymph Dice: 0.48807886242866516\n"
     ]
    },
    {
     "name": "stderr",
     "output_type": "stream",
     "text": [
      "Training (8131 / 18000 Steps) (loss=0.43903): 100%|██████████| 76/76 [02:59<00:00,  2.36s/it]\n",
      "Validate (8132 / 10 Steps): 100%|██████████| 22/22 [01:17<00:00,  3.52s/it]<00:10,  1.30s/it]\n",
      "Training (8200 / 18000 Steps) (loss=0.49044):  91%|█████████ | 69/76 [02:50<02:51, 24.55s/it]"
     ]
    },
    {
     "name": "stdout",
     "output_type": "stream",
     "text": [
      "Model Was Not Saved ! Current Best Avg. Dice: 0.4416448473930359 Current Avg. Dice: 0.41329967975616455 Current Avg. tumor Dice: 0.37811416387557983 Current Avg. lymph Dice: 0.47308963537216187\n"
     ]
    },
    {
     "name": "stderr",
     "output_type": "stream",
     "text": [
      "Training (8207 / 18000 Steps) (loss=0.34363): 100%|██████████| 76/76 [02:59<00:00,  2.37s/it]\n",
      "Training (8283 / 18000 Steps) (loss=0.49822): 100%|██████████| 76/76 [01:42<00:00,  1.35s/it]\n",
      "Validate (8284 / 10 Steps): 100%|██████████| 22/22 [01:17<00:00,  3.50s/it]<01:17,  1.29s/it]\n",
      "Training (8300 / 18000 Steps) (loss=0.59151):  22%|██▏       | 17/76 [01:42<24:07, 24.53s/it]"
     ]
    },
    {
     "name": "stdout",
     "output_type": "stream",
     "text": [
      "Model Was Not Saved ! Current Best Avg. Dice: 0.4416448473930359 Current Avg. Dice: 0.4283337891101837 Current Avg. tumor Dice: 0.39687711000442505 Current Avg. lymph Dice: 0.47845888137817383\n"
     ]
    },
    {
     "name": "stderr",
     "output_type": "stream",
     "text": [
      "Training (8359 / 18000 Steps) (loss=0.49114): 100%|██████████| 76/76 [02:58<00:00,  2.36s/it]\n",
      "Validate (8360 / 10 Steps): 100%|██████████| 22/22 [01:17<00:00,  3.51s/it]<00:46,  1.29s/it]\n",
      "Training (8400 / 18000 Steps) (loss=0.50194):  54%|█████▍    | 41/76 [02:13<14:18, 24.54s/it]"
     ]
    },
    {
     "name": "stdout",
     "output_type": "stream",
     "text": [
      "Model Was Not Saved ! Current Best Avg. Dice: 0.4416448473930359 Current Avg. Dice: 0.41082409024238586 Current Avg. tumor Dice: 0.37472227215766907 Current Avg. lymph Dice: 0.4742230176925659\n"
     ]
    },
    {
     "name": "stderr",
     "output_type": "stream",
     "text": [
      "Training (8435 / 18000 Steps) (loss=0.39018): 100%|██████████| 76/76 [02:59<00:00,  2.36s/it]\n",
      "Validate (8436 / 10 Steps): 100%|██████████| 22/22 [01:17<00:00,  3.52s/it]<00:15,  1.29s/it]\n",
      "Training (8500 / 18000 Steps) (loss=0.51443):  86%|████████▌ | 65/76 [02:46<04:31, 24.68s/it]"
     ]
    },
    {
     "name": "stdout",
     "output_type": "stream",
     "text": [
      "Model Was Not Saved ! Current Best Avg. Dice: 0.4416448473930359 Current Avg. Dice: 0.4267024099826813 Current Avg. tumor Dice: 0.4039337635040283 Current Avg. lymph Dice: 0.46734291315078735\n"
     ]
    },
    {
     "name": "stderr",
     "output_type": "stream",
     "text": [
      "Training (8511 / 18000 Steps) (loss=0.53052): 100%|██████████| 76/76 [03:00<00:00,  2.38s/it]\n",
      "Training (8587 / 18000 Steps) (loss=0.43167): 100%|██████████| 76/76 [01:42<00:00,  1.35s/it]\n",
      "Validate (8588 / 10 Steps): 100%|██████████| 22/22 [01:17<00:00,  3.50s/it]<01:25,  1.33s/it]\n",
      "Training (8600 / 18000 Steps) (loss=0.46283):  17%|█▋        | 13/76 [01:36<25:54, 24.67s/it]"
     ]
    },
    {
     "name": "stdout",
     "output_type": "stream",
     "text": [
      "Model Was Not Saved ! Current Best Avg. Dice: 0.4416448473930359 Current Avg. Dice: 0.4109744131565094 Current Avg. tumor Dice: 0.3791307508945465 Current Avg. lymph Dice: 0.4672212600708008\n"
     ]
    },
    {
     "name": "stderr",
     "output_type": "stream",
     "text": [
      "Training (8663 / 18000 Steps) (loss=0.49617): 100%|██████████| 76/76 [02:59<00:00,  2.37s/it]\n",
      "Validate (8664 / 10 Steps): 100%|██████████| 22/22 [01:17<00:00,  3.51s/it]<00:52,  1.31s/it]\n",
      "Training (8700 / 18000 Steps) (loss=0.40661):  49%|████▊     | 37/76 [02:08<15:56, 24.51s/it]"
     ]
    },
    {
     "name": "stdout",
     "output_type": "stream",
     "text": [
      "Model Was Not Saved ! Current Best Avg. Dice: 0.4416448473930359 Current Avg. Dice: 0.41519129276275635 Current Avg. tumor Dice: 0.38050371408462524 Current Avg. lymph Dice: 0.47898367047309875\n"
     ]
    },
    {
     "name": "stderr",
     "output_type": "stream",
     "text": [
      "Training (8739 / 18000 Steps) (loss=0.49921): 100%|██████████| 76/76 [02:59<00:00,  2.36s/it]\n",
      "Validate (8740 / 10 Steps): 100%|██████████| 22/22 [01:17<00:00,  3.52s/it]<00:20,  1.31s/it]\n",
      "Training (8800 / 18000 Steps) (loss=0.53124):  80%|████████  | 61/76 [02:39<06:07, 24.52s/it]"
     ]
    },
    {
     "name": "stdout",
     "output_type": "stream",
     "text": [
      "Model Was Not Saved ! Current Best Avg. Dice: 0.4416448473930359 Current Avg. Dice: 0.37127017974853516 Current Avg. tumor Dice: 0.3135242164134979 Current Avg. lymph Dice: 0.46981164813041687\n"
     ]
    },
    {
     "name": "stderr",
     "output_type": "stream",
     "text": [
      "Training (8815 / 18000 Steps) (loss=0.49180): 100%|██████████| 76/76 [02:59<00:00,  2.36s/it]\n",
      "Training (8891 / 18000 Steps) (loss=0.64475): 100%|██████████| 76/76 [01:41<00:00,  1.34s/it]\n",
      "Validate (8892 / 10 Steps): 100%|██████████| 22/22 [01:17<00:00,  3.51s/it]01:31,  1.35s/it]\n",
      "Training (8900 / 18000 Steps) (loss=0.52267):  12%|█▏        | 9/76 [01:31<28:34, 25.59s/it]"
     ]
    },
    {
     "name": "stdout",
     "output_type": "stream",
     "text": [
      "Model Was Not Saved ! Current Best Avg. Dice: 0.4416448473930359 Current Avg. Dice: 0.42053794860839844 Current Avg. tumor Dice: 0.38808900117874146 Current Avg. lymph Dice: 0.47099244594573975\n"
     ]
    },
    {
     "name": "stderr",
     "output_type": "stream",
     "text": [
      "Training (8967 / 18000 Steps) (loss=0.51787): 100%|██████████| 76/76 [02:59<00:00,  2.37s/it]\n",
      "Validate (8968 / 10 Steps): 100%|██████████| 22/22 [01:17<00:00,  3.52s/it]<00:57,  1.30s/it]\n",
      "Training (9000 / 18000 Steps) (loss=0.45912):  43%|████▎     | 33/76 [02:03<17:34, 24.52s/it]"
     ]
    },
    {
     "name": "stdout",
     "output_type": "stream",
     "text": [
      "Model Was Not Saved ! Current Best Avg. Dice: 0.4416448473930359 Current Avg. Dice: 0.4164445996284485 Current Avg. tumor Dice: 0.4056842029094696 Current Avg. lymph Dice: 0.4392892122268677\n"
     ]
    },
    {
     "name": "stderr",
     "output_type": "stream",
     "text": [
      "Training (9043 / 18000 Steps) (loss=0.53070): 100%|██████████| 76/76 [02:59<00:00,  2.36s/it]\n",
      "Validate (9044 / 10 Steps): 100%|██████████| 22/22 [01:17<00:00,  3.52s/it]<00:25,  1.29s/it]\n",
      "Training (9100 / 18000 Steps) (loss=0.43174):  75%|███████▌  | 57/76 [02:34<07:47, 24.60s/it]"
     ]
    },
    {
     "name": "stdout",
     "output_type": "stream",
     "text": [
      "Model Was Not Saved ! Current Best Avg. Dice: 0.4416448473930359 Current Avg. Dice: 0.42725199460983276 Current Avg. tumor Dice: 0.3890707492828369 Current Avg. lymph Dice: 0.4867788553237915\n"
     ]
    },
    {
     "name": "stderr",
     "output_type": "stream",
     "text": [
      "Training (9119 / 18000 Steps) (loss=0.34795): 100%|██████████| 76/76 [02:59<00:00,  2.36s/it]\n",
      "Training (9195 / 18000 Steps) (loss=0.53440): 100%|██████████| 76/76 [01:42<00:00,  1.35s/it]\n",
      "Validate (9196 / 10 Steps): 100%|██████████| 22/22 [01:17<00:00,  3.51s/it]02:00,  1.67s/it]\n",
      "Training (9200 / 18000 Steps) (loss=0.49946):   7%|▋         | 5/76 [01:26<34:48, 29.42s/it]"
     ]
    },
    {
     "name": "stdout",
     "output_type": "stream",
     "text": [
      "Model Was Not Saved ! Current Best Avg. Dice: 0.4416448473930359 Current Avg. Dice: 0.4357057511806488 Current Avg. tumor Dice: 0.41374242305755615 Current Avg. lymph Dice: 0.4748920202255249\n"
     ]
    },
    {
     "name": "stderr",
     "output_type": "stream",
     "text": [
      "Training (9271 / 18000 Steps) (loss=0.56286): 100%|██████████| 76/76 [02:59<00:00,  2.36s/it]\n",
      "Validate (9272 / 10 Steps): 100%|██████████| 22/22 [01:17<00:00,  3.52s/it]<01:04,  1.33s/it]\n",
      "Training (9300 / 18000 Steps) (loss=0.44816):  38%|███▊      | 29/76 [01:58<19:14, 24.57s/it]"
     ]
    },
    {
     "name": "stdout",
     "output_type": "stream",
     "text": [
      "Model Was Not Saved ! Current Best Avg. Dice: 0.4416448473930359 Current Avg. Dice: 0.38873374462127686 Current Avg. tumor Dice: 0.3448801040649414 Current Avg. lymph Dice: 0.4687713086605072\n"
     ]
    },
    {
     "name": "stderr",
     "output_type": "stream",
     "text": [
      "Training (9347 / 18000 Steps) (loss=0.56815): 100%|██████████| 76/76 [03:00<00:00,  2.38s/it]\n",
      "Validate (9348 / 10 Steps): 100%|██████████| 22/22 [01:16<00:00,  3.50s/it]<00:31,  1.31s/it]\n",
      "Training (9400 / 18000 Steps) (loss=0.56188):  70%|██████▉   | 53/76 [02:30<09:27, 24.67s/it]"
     ]
    },
    {
     "name": "stdout",
     "output_type": "stream",
     "text": [
      "Model Was Saved ! Current Best Avg. Dice: 0.4433501362800598 Current Avg. Dice: 0.4433501362800598 Current Avg. tumor Dice: 0.41007736325263977 Current Avg. lymph Dice: 0.4978216588497162\n"
     ]
    },
    {
     "name": "stderr",
     "output_type": "stream",
     "text": [
      "Training (9423 / 18000 Steps) (loss=0.57310): 100%|██████████| 76/76 [03:00<00:00,  2.37s/it]\n",
      "Training (9499 / 18000 Steps) (loss=0.48304): 100%|██████████| 76/76 [01:42<00:00,  1.35s/it]\n",
      "Validate (9500 / 10 Steps): 100%|██████████| 22/22 [01:17<00:00,  3.51s/it]?, ?it/s]\n",
      "Training (9500 / 18000 Steps) (loss=0.47844):   1%|▏         | 1/76 [01:21<1:41:54, 81.53s/it]"
     ]
    },
    {
     "name": "stdout",
     "output_type": "stream",
     "text": [
      "Model Was Not Saved ! Current Best Avg. Dice: 0.4433501362800598 Current Avg. Dice: 0.4088108241558075 Current Avg. tumor Dice: 0.375153124332428 Current Avg. lymph Dice: 0.4720006585121155\n"
     ]
    },
    {
     "name": "stderr",
     "output_type": "stream",
     "text": [
      "Training (9575 / 18000 Steps) (loss=0.54879): 100%|██████████| 76/76 [02:59<00:00,  2.36s/it] \n",
      "Validate (9576 / 10 Steps): 100%|██████████| 22/22 [01:17<00:00,  3.51s/it]<01:07,  1.30s/it]\n",
      "Training (9600 / 18000 Steps) (loss=0.55570):  33%|███▎      | 25/76 [01:52<20:51, 24.54s/it]"
     ]
    },
    {
     "name": "stdout",
     "output_type": "stream",
     "text": [
      "Model Was Not Saved ! Current Best Avg. Dice: 0.4433501362800598 Current Avg. Dice: 0.4360428750514984 Current Avg. tumor Dice: 0.40106090903282166 Current Avg. lymph Dice: 0.4974933862686157\n"
     ]
    },
    {
     "name": "stderr",
     "output_type": "stream",
     "text": [
      "Training (9651 / 18000 Steps) (loss=0.29213): 100%|██████████| 76/76 [02:59<00:00,  2.37s/it]\n",
      "Validate (9652 / 10 Steps): 100%|██████████| 22/22 [01:17<00:00,  3.51s/it]<00:36,  1.29s/it]\n",
      "Training (9700 / 18000 Steps) (loss=0.34800):  64%|██████▍   | 49/76 [02:23<11:00, 24.45s/it]"
     ]
    },
    {
     "name": "stdout",
     "output_type": "stream",
     "text": [
      "Model Was Not Saved ! Current Best Avg. Dice: 0.4433501362800598 Current Avg. Dice: 0.4399442672729492 Current Avg. tumor Dice: 0.4072536826133728 Current Avg. lymph Dice: 0.49781444668769836\n"
     ]
    },
    {
     "name": "stderr",
     "output_type": "stream",
     "text": [
      "Training (9727 / 18000 Steps) (loss=0.44107): 100%|██████████| 76/76 [02:59<00:00,  2.36s/it]\n",
      "Validate (9728 / 10 Steps): 100%|██████████| 22/22 [01:17<00:00,  3.51s/it]<00:05,  1.31s/it]\n",
      "Training (9800 / 18000 Steps) (loss=0.60144):  96%|█████████▌| 73/76 [02:56<01:13, 24.53s/it]"
     ]
    },
    {
     "name": "stdout",
     "output_type": "stream",
     "text": [
      "Model Was Not Saved ! Current Best Avg. Dice: 0.4433501362800598 Current Avg. Dice: 0.4199380874633789 Current Avg. tumor Dice: 0.3752679228782654 Current Avg. lymph Dice: 0.49182143807411194\n"
     ]
    },
    {
     "name": "stderr",
     "output_type": "stream",
     "text": [
      "Training (9803 / 18000 Steps) (loss=0.51542): 100%|██████████| 76/76 [03:00<00:00,  2.37s/it]\n",
      "Training (9879 / 18000 Steps) (loss=0.45518): 100%|██████████| 76/76 [01:42<00:00,  1.35s/it]\n",
      "Validate (9880 / 10 Steps): 100%|██████████| 22/22 [01:17<00:00,  3.52s/it]<01:13,  1.32s/it]\n",
      "Training (9900 / 18000 Steps) (loss=0.42986):  28%|██▊       | 21/76 [01:47<22:30, 24.55s/it]"
     ]
    },
    {
     "name": "stdout",
     "output_type": "stream",
     "text": [
      "Model Was Not Saved ! Current Best Avg. Dice: 0.4433501362800598 Current Avg. Dice: 0.44181549549102783 Current Avg. tumor Dice: 0.40253588557243347 Current Avg. lymph Dice: 0.4965055286884308\n"
     ]
    },
    {
     "name": "stderr",
     "output_type": "stream",
     "text": [
      "Training (9955 / 18000 Steps) (loss=0.49204): 100%|██████████| 76/76 [02:59<00:00,  2.36s/it]\n",
      "Validate (9956 / 10 Steps): 100%|██████████| 22/22 [01:17<00:00,  3.51s/it]1<00:42,  1.32s/it]\n",
      "Training (10000 / 18000 Steps) (loss=0.57156):  59%|█████▉    | 45/76 [02:18<12:37, 24.45s/it]"
     ]
    },
    {
     "name": "stdout",
     "output_type": "stream",
     "text": [
      "Model Was Not Saved ! Current Best Avg. Dice: 0.4433501362800598 Current Avg. Dice: 0.427366703748703 Current Avg. tumor Dice: 0.4007304906845093 Current Avg. lymph Dice: 0.4739198684692383\n"
     ]
    },
    {
     "name": "stderr",
     "output_type": "stream",
     "text": [
      "Training (10031 / 18000 Steps) (loss=0.45940): 100%|██████████| 76/76 [03:00<00:00,  2.37s/it]\n",
      "Validate (10032 / 10 Steps): 100%|██████████| 22/22 [01:16<00:00,  3.49s/it]<00:10,  1.31s/it]\n",
      "Training (10100 / 18000 Steps) (loss=0.65341):  91%|█████████ | 69/76 [02:49<02:50, 24.37s/it]"
     ]
    },
    {
     "name": "stdout",
     "output_type": "stream",
     "text": [
      "Model Was Not Saved ! Current Best Avg. Dice: 0.4433501362800598 Current Avg. Dice: 0.4190812408924103 Current Avg. tumor Dice: 0.3729489743709564 Current Avg. lymph Dice: 0.4866785407066345\n"
     ]
    },
    {
     "name": "stderr",
     "output_type": "stream",
     "text": [
      "Training (10107 / 18000 Steps) (loss=0.39721): 100%|██████████| 76/76 [02:59<00:00,  2.36s/it]\n",
      "Training (10183 / 18000 Steps) (loss=0.61893): 100%|██████████| 76/76 [01:41<00:00,  1.34s/it]\n",
      "Validate (10184 / 10 Steps): 100%|██████████| 22/22 [01:16<00:00,  3.48s/it]<01:17,  1.29s/it]\n",
      "Training (10200 / 18000 Steps) (loss=0.45204):  22%|██▏       | 17/76 [01:42<24:15, 24.67s/it]"
     ]
    },
    {
     "name": "stdout",
     "output_type": "stream",
     "text": [
      "Model Was Saved ! Current Best Avg. Dice: 0.4570469558238983 Current Avg. Dice: 0.4570469558238983 Current Avg. tumor Dice: 0.43542057275772095 Current Avg. lymph Dice: 0.4883717894554138\n"
     ]
    },
    {
     "name": "stderr",
     "output_type": "stream",
     "text": [
      "Training (10259 / 18000 Steps) (loss=0.45921): 100%|██████████| 76/76 [02:59<00:00,  2.37s/it]\n",
      "Validate (10260 / 10 Steps): 100%|██████████| 22/22 [01:17<00:00,  3.50s/it]<00:46,  1.29s/it]\n",
      "Training (10300 / 18000 Steps) (loss=0.49605):  54%|█████▍    | 41/76 [02:13<14:15, 24.45s/it]"
     ]
    },
    {
     "name": "stdout",
     "output_type": "stream",
     "text": [
      "Model Was Not Saved ! Current Best Avg. Dice: 0.4570469558238983 Current Avg. Dice: 0.4393306076526642 Current Avg. tumor Dice: 0.4084068536758423 Current Avg. lymph Dice: 0.48811161518096924\n"
     ]
    },
    {
     "name": "stderr",
     "output_type": "stream",
     "text": [
      "Training (10335 / 18000 Steps) (loss=0.43437): 100%|██████████| 76/76 [02:58<00:00,  2.35s/it]\n",
      "Validate (10336 / 10 Steps): 100%|██████████| 22/22 [01:16<00:00,  3.50s/it]<00:15,  1.29s/it]\n",
      "Training (10400 / 18000 Steps) (loss=0.56021):  86%|████████▌ | 65/76 [02:45<04:28, 24.41s/it]"
     ]
    },
    {
     "name": "stdout",
     "output_type": "stream",
     "text": [
      "Model Was Not Saved ! Current Best Avg. Dice: 0.4570469558238983 Current Avg. Dice: 0.41178563237190247 Current Avg. tumor Dice: 0.370498925447464 Current Avg. lymph Dice: 0.4803193509578705\n"
     ]
    },
    {
     "name": "stderr",
     "output_type": "stream",
     "text": [
      "Training (10411 / 18000 Steps) (loss=0.42431): 100%|██████████| 76/76 [02:59<00:00,  2.36s/it]\n",
      "Training (10487 / 18000 Steps) (loss=0.50912): 100%|██████████| 76/76 [01:41<00:00,  1.34s/it]\n",
      "Validate (10488 / 10 Steps): 100%|██████████| 22/22 [01:16<00:00,  3.49s/it]<01:24,  1.32s/it]\n",
      "Training (10500 / 18000 Steps) (loss=0.39155):  17%|█▋        | 13/76 [01:36<25:47, 24.57s/it]"
     ]
    },
    {
     "name": "stdout",
     "output_type": "stream",
     "text": [
      "Model Was Not Saved ! Current Best Avg. Dice: 0.4570469558238983 Current Avg. Dice: 0.42764347791671753 Current Avg. tumor Dice: 0.3879900872707367 Current Avg. lymph Dice: 0.4972749352455139\n"
     ]
    },
    {
     "name": "stderr",
     "output_type": "stream",
     "text": [
      "Training (10563 / 18000 Steps) (loss=0.49823): 100%|██████████| 76/76 [02:58<00:00,  2.35s/it]\n",
      "Validate (10564 / 10 Steps): 100%|██████████| 22/22 [01:16<00:00,  3.49s/it]<00:52,  1.31s/it]\n",
      "Training (10600 / 18000 Steps) (loss=0.53719):  49%|████▊     | 37/76 [02:07<15:50, 24.36s/it]"
     ]
    },
    {
     "name": "stdout",
     "output_type": "stream",
     "text": [
      "Model Was Not Saved ! Current Best Avg. Dice: 0.4570469558238983 Current Avg. Dice: 0.4457958936691284 Current Avg. tumor Dice: 0.4236701726913452 Current Avg. lymph Dice: 0.48920542001724243\n"
     ]
    },
    {
     "name": "stderr",
     "output_type": "stream",
     "text": [
      "Training (10639 / 18000 Steps) (loss=0.55732): 100%|██████████| 76/76 [02:58<00:00,  2.35s/it]\n",
      "Validate (10640 / 10 Steps): 100%|██████████| 22/22 [01:17<00:00,  3.50s/it]<00:20,  1.30s/it]\n",
      "Training (10700 / 18000 Steps) (loss=0.54566):  80%|████████  | 61/76 [02:39<06:06, 24.42s/it]"
     ]
    },
    {
     "name": "stdout",
     "output_type": "stream",
     "text": [
      "Model Was Not Saved ! Current Best Avg. Dice: 0.4570469558238983 Current Avg. Dice: 0.43856725096702576 Current Avg. tumor Dice: 0.40696701407432556 Current Avg. lymph Dice: 0.49368444085121155\n"
     ]
    },
    {
     "name": "stderr",
     "output_type": "stream",
     "text": [
      "Training (10715 / 18000 Steps) (loss=0.33890): 100%|██████████| 76/76 [02:59<00:00,  2.36s/it]\n",
      "Training (10791 / 18000 Steps) (loss=0.45873): 100%|██████████| 76/76 [01:41<00:00,  1.34s/it]\n",
      "Validate (10792 / 10 Steps): 100%|██████████| 22/22 [01:16<00:00,  3.50s/it]01:31,  1.34s/it]\n",
      "Training (10800 / 18000 Steps) (loss=0.44986):  12%|█▏        | 9/76 [01:31<28:24, 25.44s/it]"
     ]
    },
    {
     "name": "stdout",
     "output_type": "stream",
     "text": [
      "Model Was Not Saved ! Current Best Avg. Dice: 0.4570469558238983 Current Avg. Dice: 0.4260236918926239 Current Avg. tumor Dice: 0.3993096649646759 Current Avg. lymph Dice: 0.46990564465522766\n"
     ]
    },
    {
     "name": "stderr",
     "output_type": "stream",
     "text": [
      "Training (10867 / 18000 Steps) (loss=0.58307): 100%|██████████| 76/76 [02:58<00:00,  2.35s/it]\n",
      "Validate (10868 / 10 Steps): 100%|██████████| 22/22 [01:16<00:00,  3.49s/it]<00:57,  1.30s/it]\n",
      "Training (10900 / 18000 Steps) (loss=0.40421):  43%|████▎     | 33/76 [02:02<17:27, 24.37s/it]"
     ]
    },
    {
     "name": "stdout",
     "output_type": "stream",
     "text": [
      "Model Was Not Saved ! Current Best Avg. Dice: 0.4570469558238983 Current Avg. Dice: 0.4296261966228485 Current Avg. tumor Dice: 0.39712223410606384 Current Avg. lymph Dice: 0.4884513318538666\n"
     ]
    },
    {
     "name": "stderr",
     "output_type": "stream",
     "text": [
      "Training (10943 / 18000 Steps) (loss=0.49926): 100%|██████████| 76/76 [02:58<00:00,  2.35s/it]\n",
      "Validate (10944 / 10 Steps): 100%|██████████| 22/22 [01:17<00:00,  3.51s/it]<00:25,  1.28s/it]\n",
      "Training (11000 / 18000 Steps) (loss=0.46900):  75%|███████▌  | 57/76 [02:34<07:44, 24.44s/it]"
     ]
    },
    {
     "name": "stdout",
     "output_type": "stream",
     "text": [
      "Model Was Not Saved ! Current Best Avg. Dice: 0.4570469558238983 Current Avg. Dice: 0.41059160232543945 Current Avg. tumor Dice: 0.37260717153549194 Current Avg. lymph Dice: 0.47263798117637634\n"
     ]
    },
    {
     "name": "stderr",
     "output_type": "stream",
     "text": [
      "Training (11019 / 18000 Steps) (loss=0.44249): 100%|██████████| 76/76 [02:59<00:00,  2.36s/it]\n",
      "Training (11095 / 18000 Steps) (loss=0.54834): 100%|██████████| 76/76 [01:42<00:00,  1.35s/it]\n",
      "Validate (11096 / 10 Steps): 100%|██████████| 22/22 [01:16<00:00,  3.49s/it]01:58,  1.65s/it]\n",
      "Training (11100 / 18000 Steps) (loss=0.51821):   7%|▋         | 5/76 [01:25<34:37, 29.25s/it]"
     ]
    },
    {
     "name": "stdout",
     "output_type": "stream",
     "text": [
      "Model Was Not Saved ! Current Best Avg. Dice: 0.4570469558238983 Current Avg. Dice: 0.4247320890426636 Current Avg. tumor Dice: 0.41115039587020874 Current Avg. lymph Dice: 0.46301162242889404\n"
     ]
    },
    {
     "name": "stderr",
     "output_type": "stream",
     "text": [
      "Training (11171 / 18000 Steps) (loss=0.60050): 100%|██████████| 76/76 [02:58<00:00,  2.35s/it]\n",
      "Validate (11172 / 10 Steps): 100%|██████████| 22/22 [01:17<00:00,  3.51s/it]<01:02,  1.31s/it]\n",
      "Training (11200 / 18000 Steps) (loss=0.56049):  38%|███▊      | 29/76 [01:57<19:09, 24.45s/it]"
     ]
    },
    {
     "name": "stdout",
     "output_type": "stream",
     "text": [
      "Model Was Not Saved ! Current Best Avg. Dice: 0.4570469558238983 Current Avg. Dice: 0.43261682987213135 Current Avg. tumor Dice: 0.40461108088493347 Current Avg. lymph Dice: 0.4939003586769104\n"
     ]
    },
    {
     "name": "stderr",
     "output_type": "stream",
     "text": [
      "Training (11247 / 18000 Steps) (loss=0.51048): 100%|██████████| 76/76 [02:59<00:00,  2.36s/it]\n",
      "Validate (11248 / 10 Steps): 100%|██████████| 22/22 [01:17<00:00,  3.52s/it]<00:31,  1.31s/it]\n",
      "Training (11300 / 18000 Steps) (loss=0.50706):  70%|██████▉   | 53/76 [02:29<09:25, 24.58s/it]"
     ]
    },
    {
     "name": "stdout",
     "output_type": "stream",
     "text": [
      "Model Was Not Saved ! Current Best Avg. Dice: 0.4570469558238983 Current Avg. Dice: 0.4273916184902191 Current Avg. tumor Dice: 0.39191049337387085 Current Avg. lymph Dice: 0.49394655227661133\n"
     ]
    },
    {
     "name": "stderr",
     "output_type": "stream",
     "text": [
      "Training (11323 / 18000 Steps) (loss=0.50323): 100%|██████████| 76/76 [02:59<00:00,  2.36s/it]\n",
      "Training (11399 / 18000 Steps) (loss=0.57345): 100%|██████████| 76/76 [01:42<00:00,  1.35s/it]\n",
      "Validate (11400 / 10 Steps): 100%|██████████| 22/22 [01:16<00:00,  3.50s/it]?, ?it/s]\n",
      "Training (11400 / 18000 Steps) (loss=0.48954):   1%|▏         | 1/76 [01:20<1:41:04, 80.86s/it]"
     ]
    },
    {
     "name": "stdout",
     "output_type": "stream",
     "text": [
      "Model Was Not Saved ! Current Best Avg. Dice: 0.4570469558238983 Current Avg. Dice: 0.4211488962173462 Current Avg. tumor Dice: 0.39375755190849304 Current Avg. lymph Dice: 0.4711478054523468\n"
     ]
    },
    {
     "name": "stderr",
     "output_type": "stream",
     "text": [
      "Training (11475 / 18000 Steps) (loss=0.58831): 100%|██████████| 76/76 [02:59<00:00,  2.36s/it] \n",
      "Validate (11476 / 10 Steps): 100%|██████████| 22/22 [01:16<00:00,  3.49s/it]<01:06,  1.28s/it]\n",
      "Training (11500 / 18000 Steps) (loss=0.55494):  33%|███▎      | 25/76 [01:52<20:42, 24.37s/it]"
     ]
    },
    {
     "name": "stdout",
     "output_type": "stream",
     "text": [
      "Model Was Not Saved ! Current Best Avg. Dice: 0.4570469558238983 Current Avg. Dice: 0.41842010617256165 Current Avg. tumor Dice: 0.37207046151161194 Current Avg. lymph Dice: 0.49346625804901123\n"
     ]
    },
    {
     "name": "stderr",
     "output_type": "stream",
     "text": [
      "Training (11551 / 18000 Steps) (loss=0.52734): 100%|██████████| 76/76 [02:58<00:00,  2.35s/it]\n",
      "Validate (11552 / 10 Steps): 100%|██████████| 22/22 [01:16<00:00,  3.49s/it]<00:35,  1.28s/it]\n",
      "Training (11600 / 18000 Steps) (loss=0.48847):  64%|██████▍   | 49/76 [02:23<10:56, 24.33s/it]"
     ]
    },
    {
     "name": "stdout",
     "output_type": "stream",
     "text": [
      "Model Was Not Saved ! Current Best Avg. Dice: 0.4570469558238983 Current Avg. Dice: 0.42312803864479065 Current Avg. tumor Dice: 0.38858503103256226 Current Avg. lymph Dice: 0.48342031240463257\n"
     ]
    },
    {
     "name": "stderr",
     "output_type": "stream",
     "text": [
      "Training (11627 / 18000 Steps) (loss=0.52285): 100%|██████████| 76/76 [02:59<00:00,  2.36s/it]\n",
      "Validate (11628 / 10 Steps): 100%|██████████| 22/22 [01:17<00:00,  3.51s/it]<00:05,  1.27s/it]\n",
      "Training (11700 / 18000 Steps) (loss=0.49438):  96%|█████████▌| 73/76 [02:54<01:13, 24.44s/it]"
     ]
    },
    {
     "name": "stdout",
     "output_type": "stream",
     "text": [
      "Model Was Not Saved ! Current Best Avg. Dice: 0.4570469558238983 Current Avg. Dice: 0.4058583080768585 Current Avg. tumor Dice: 0.37102216482162476 Current Avg. lymph Dice: 0.46861928701400757\n"
     ]
    },
    {
     "name": "stderr",
     "output_type": "stream",
     "text": [
      "Training (11703 / 18000 Steps) (loss=0.48686): 100%|██████████| 76/76 [02:58<00:00,  2.35s/it]\n",
      "Training (11779 / 18000 Steps) (loss=0.51670): 100%|██████████| 76/76 [01:42<00:00,  1.35s/it]\n",
      "Validate (11780 / 10 Steps): 100%|██████████| 22/22 [01:16<00:00,  3.49s/it]<01:13,  1.31s/it]\n",
      "Training (11800 / 18000 Steps) (loss=0.49576):  28%|██▊       | 21/76 [01:46<22:20, 24.38s/it]"
     ]
    },
    {
     "name": "stdout",
     "output_type": "stream",
     "text": [
      "Model Was Not Saved ! Current Best Avg. Dice: 0.4570469558238983 Current Avg. Dice: 0.4535776972770691 Current Avg. tumor Dice: 0.41950851678848267 Current Avg. lymph Dice: 0.509868860244751\n"
     ]
    },
    {
     "name": "stderr",
     "output_type": "stream",
     "text": [
      "Training (11855 / 18000 Steps) (loss=0.43251): 100%|██████████| 76/76 [02:58<00:00,  2.35s/it]\n",
      "Validate (11856 / 10 Steps): 100%|██████████| 22/22 [01:17<00:00,  3.51s/it]<00:42,  1.33s/it]\n",
      "Training (11900 / 18000 Steps) (loss=0.59179):  59%|█████▉    | 45/76 [02:19<12:39, 24.50s/it]"
     ]
    },
    {
     "name": "stdout",
     "output_type": "stream",
     "text": [
      "Model Was Not Saved ! Current Best Avg. Dice: 0.4570469558238983 Current Avg. Dice: 0.43937408924102783 Current Avg. tumor Dice: 0.41683465242385864 Current Avg. lymph Dice: 0.4764432907104492\n"
     ]
    },
    {
     "name": "stderr",
     "output_type": "stream",
     "text": [
      "Training (11931 / 18000 Steps) (loss=0.58757): 100%|██████████| 76/76 [02:59<00:00,  2.37s/it]\n",
      "Validate (11932 / 10 Steps): 100%|██████████| 22/22 [01:17<00:00,  3.52s/it]<00:10,  1.30s/it]\n",
      "Training (12000 / 18000 Steps) (loss=0.50462):  91%|█████████ | 69/76 [02:50<02:51, 24.52s/it]"
     ]
    },
    {
     "name": "stdout",
     "output_type": "stream",
     "text": [
      "Model Was Not Saved ! Current Best Avg. Dice: 0.4570469558238983 Current Avg. Dice: 0.4531727135181427 Current Avg. tumor Dice: 0.42101722955703735 Current Avg. lymph Dice: 0.49804845452308655\n"
     ]
    },
    {
     "name": "stderr",
     "output_type": "stream",
     "text": [
      "Training (12007 / 18000 Steps) (loss=0.52015): 100%|██████████| 76/76 [02:59<00:00,  2.36s/it]\n",
      "Training (12083 / 18000 Steps) (loss=0.29070): 100%|██████████| 76/76 [01:42<00:00,  1.35s/it]\n",
      "Validate (12084 / 10 Steps): 100%|██████████| 22/22 [01:17<00:00,  3.51s/it]<01:17,  1.30s/it]\n",
      "Training (12100 / 18000 Steps) (loss=0.57800):  22%|██▏       | 17/76 [01:42<24:09, 24.57s/it]"
     ]
    },
    {
     "name": "stdout",
     "output_type": "stream",
     "text": [
      "Model Was Not Saved ! Current Best Avg. Dice: 0.4570469558238983 Current Avg. Dice: 0.4048158824443817 Current Avg. tumor Dice: 0.358235239982605 Current Avg. lymph Dice: 0.49018633365631104\n"
     ]
    },
    {
     "name": "stderr",
     "output_type": "stream",
     "text": [
      "Training (12159 / 18000 Steps) (loss=0.56129): 100%|██████████| 76/76 [02:59<00:00,  2.36s/it]\n",
      "Validate (12160 / 10 Steps): 100%|██████████| 22/22 [01:17<00:00,  3.52s/it]<00:46,  1.30s/it]\n",
      "Training (12200 / 18000 Steps) (loss=0.52062):  54%|█████▍    | 41/76 [02:14<14:18, 24.54s/it]"
     ]
    },
    {
     "name": "stdout",
     "output_type": "stream",
     "text": [
      "Model Was Not Saved ! Current Best Avg. Dice: 0.4570469558238983 Current Avg. Dice: 0.4340968430042267 Current Avg. tumor Dice: 0.39552006125450134 Current Avg. lymph Dice: 0.498349666595459\n"
     ]
    },
    {
     "name": "stderr",
     "output_type": "stream",
     "text": [
      "Training (12235 / 18000 Steps) (loss=0.49717): 100%|██████████| 76/76 [03:00<00:00,  2.37s/it]\n",
      "Validate (12236 / 10 Steps): 100%|██████████| 22/22 [01:16<00:00,  3.50s/it]<00:15,  1.29s/it]\n",
      "Training (12300 / 18000 Steps) (loss=0.56399):  86%|████████▌ | 65/76 [02:45<04:29, 24.48s/it]"
     ]
    },
    {
     "name": "stdout",
     "output_type": "stream",
     "text": [
      "Model Was Not Saved ! Current Best Avg. Dice: 0.4570469558238983 Current Avg. Dice: 0.4350198805332184 Current Avg. tumor Dice: 0.4003869891166687 Current Avg. lymph Dice: 0.49383342266082764\n"
     ]
    },
    {
     "name": "stderr",
     "output_type": "stream",
     "text": [
      "Training (12311 / 18000 Steps) (loss=0.55380): 100%|██████████| 76/76 [02:59<00:00,  2.36s/it]\n",
      "Training (12387 / 18000 Steps) (loss=0.51155): 100%|██████████| 76/76 [01:42<00:00,  1.35s/it]\n",
      "Validate (12388 / 10 Steps): 100%|██████████| 22/22 [01:17<00:00,  3.50s/it]<01:25,  1.33s/it]\n",
      "Training (12400 / 18000 Steps) (loss=0.59475):  17%|█▋        | 13/76 [01:36<25:54, 24.67s/it]"
     ]
    },
    {
     "name": "stdout",
     "output_type": "stream",
     "text": [
      "Model Was Not Saved ! Current Best Avg. Dice: 0.4570469558238983 Current Avg. Dice: 0.44039905071258545 Current Avg. tumor Dice: 0.39033594727516174 Current Avg. lymph Dice: 0.5084532499313354\n"
     ]
    },
    {
     "name": "stderr",
     "output_type": "stream",
     "text": [
      "Training (12463 / 18000 Steps) (loss=0.49401): 100%|██████████| 76/76 [02:59<00:00,  2.36s/it]\n",
      "Validate (12464 / 10 Steps): 100%|██████████| 22/22 [01:17<00:00,  3.51s/it]<00:51,  1.28s/it]\n",
      "Training (12500 / 18000 Steps) (loss=0.43917):  49%|████▊     | 37/76 [02:09<16:08, 24.82s/it]"
     ]
    },
    {
     "name": "stdout",
     "output_type": "stream",
     "text": [
      "Model Was Saved ! Current Best Avg. Dice: 0.4607715606689453 Current Avg. Dice: 0.4607715606689453 Current Avg. tumor Dice: 0.4310661554336548 Current Avg. lymph Dice: 0.5034355521202087\n"
     ]
    },
    {
     "name": "stderr",
     "output_type": "stream",
     "text": [
      "Training (12539 / 18000 Steps) (loss=0.54096): 100%|██████████| 76/76 [03:00<00:00,  2.38s/it]\n",
      "Validate (12540 / 10 Steps): 100%|██████████| 22/22 [01:17<00:00,  3.50s/it]<00:21,  1.33s/it]\n",
      "Training (12600 / 18000 Steps) (loss=0.34504):  80%|████████  | 61/76 [02:39<06:06, 24.43s/it]"
     ]
    },
    {
     "name": "stdout",
     "output_type": "stream",
     "text": [
      "Model Was Not Saved ! Current Best Avg. Dice: 0.4607715606689453 Current Avg. Dice: 0.4389055371284485 Current Avg. tumor Dice: 0.4049992263317108 Current Avg. lymph Dice: 0.48876339197158813\n"
     ]
    },
    {
     "name": "stderr",
     "output_type": "stream",
     "text": [
      "Training (12615 / 18000 Steps) (loss=0.50369): 100%|██████████| 76/76 [02:58<00:00,  2.35s/it]\n",
      "Training (12691 / 18000 Steps) (loss=0.31272): 100%|██████████| 76/76 [01:41<00:00,  1.34s/it]\n",
      "Validate (12692 / 10 Steps): 100%|██████████| 22/22 [01:16<00:00,  3.49s/it]01:31,  1.35s/it]\n",
      "Training (12700 / 18000 Steps) (loss=0.44524):  12%|█▏        | 9/76 [01:31<28:22, 25.42s/it]"
     ]
    },
    {
     "name": "stdout",
     "output_type": "stream",
     "text": [
      "Model Was Not Saved ! Current Best Avg. Dice: 0.4607715606689453 Current Avg. Dice: 0.4263363182544708 Current Avg. tumor Dice: 0.38824427127838135 Current Avg. lymph Dice: 0.4971104860305786\n"
     ]
    },
    {
     "name": "stderr",
     "output_type": "stream",
     "text": [
      "Training (12767 / 18000 Steps) (loss=0.59679): 100%|██████████| 76/76 [02:58<00:00,  2.35s/it]\n",
      "Validate (12768 / 10 Steps): 100%|██████████| 22/22 [01:17<00:00,  3.50s/it]<00:57,  1.30s/it]\n",
      "Training (12800 / 18000 Steps) (loss=0.42677):  43%|████▎     | 33/76 [02:03<17:30, 24.43s/it]"
     ]
    },
    {
     "name": "stdout",
     "output_type": "stream",
     "text": [
      "Model Was Not Saved ! Current Best Avg. Dice: 0.4607715606689453 Current Avg. Dice: 0.4413042962551117 Current Avg. tumor Dice: 0.4102843999862671 Current Avg. lymph Dice: 0.4875282049179077\n"
     ]
    },
    {
     "name": "stderr",
     "output_type": "stream",
     "text": [
      "Training (12843 / 18000 Steps) (loss=0.49296): 100%|██████████| 76/76 [02:59<00:00,  2.37s/it]\n",
      "Validate (12844 / 10 Steps): 100%|██████████| 22/22 [01:16<00:00,  3.49s/it]<00:25,  1.28s/it]\n",
      "Training (12900 / 18000 Steps) (loss=0.40071):  75%|███████▌  | 57/76 [02:33<07:42, 24.33s/it]"
     ]
    },
    {
     "name": "stdout",
     "output_type": "stream",
     "text": [
      "Model Was Not Saved ! Current Best Avg. Dice: 0.4607715606689453 Current Avg. Dice: 0.42762720584869385 Current Avg. tumor Dice: 0.38749703764915466 Current Avg. lymph Dice: 0.49730995297431946\n"
     ]
    },
    {
     "name": "stderr",
     "output_type": "stream",
     "text": [
      "Training (12919 / 18000 Steps) (loss=0.50427): 100%|██████████| 76/76 [02:58<00:00,  2.35s/it]\n",
      "Training (12995 / 18000 Steps) (loss=0.52168): 100%|██████████| 76/76 [01:41<00:00,  1.34s/it]\n",
      "Validate (12996 / 10 Steps): 100%|██████████| 22/22 [01:17<00:00,  3.50s/it]01:58,  1.65s/it]\n",
      "Training (13000 / 18000 Steps) (loss=0.48743):   7%|▋         | 5/76 [01:26<34:42, 29.33s/it]"
     ]
    },
    {
     "name": "stdout",
     "output_type": "stream",
     "text": [
      "Model Was Not Saved ! Current Best Avg. Dice: 0.4607715606689453 Current Avg. Dice: 0.45474129915237427 Current Avg. tumor Dice: 0.42444032430648804 Current Avg. lymph Dice: 0.5043852925300598\n"
     ]
    },
    {
     "name": "stderr",
     "output_type": "stream",
     "text": [
      "Training (13071 / 18000 Steps) (loss=0.42690): 100%|██████████| 76/76 [02:59<00:00,  2.36s/it]\n",
      "Validate (13072 / 10 Steps): 100%|██████████| 22/22 [01:16<00:00,  3.50s/it]<01:02,  1.30s/it]\n",
      "Training (13100 / 18000 Steps) (loss=0.50834):  38%|███▊      | 29/76 [01:57<19:06, 24.39s/it]"
     ]
    },
    {
     "name": "stdout",
     "output_type": "stream",
     "text": [
      "Model Was Not Saved ! Current Best Avg. Dice: 0.4607715606689453 Current Avg. Dice: 0.412838339805603 Current Avg. tumor Dice: 0.36338356137275696 Current Avg. lymph Dice: 0.4961635172367096\n"
     ]
    },
    {
     "name": "stderr",
     "output_type": "stream",
     "text": [
      "Training (13147 / 18000 Steps) (loss=0.56135): 100%|██████████| 76/76 [02:58<00:00,  2.35s/it]\n",
      "Validate (13148 / 10 Steps): 100%|██████████| 22/22 [01:16<00:00,  3.50s/it]<00:31,  1.31s/it]\n",
      "Training (13200 / 18000 Steps) (loss=0.42418):  70%|██████▉   | 53/76 [02:28<09:21, 24.40s/it]"
     ]
    },
    {
     "name": "stdout",
     "output_type": "stream",
     "text": [
      "Model Was Not Saved ! Current Best Avg. Dice: 0.4607715606689453 Current Avg. Dice: 0.4234710931777954 Current Avg. tumor Dice: 0.3864898681640625 Current Avg. lymph Dice: 0.4845351576805115\n"
     ]
    },
    {
     "name": "stderr",
     "output_type": "stream",
     "text": [
      "Training (13223 / 18000 Steps) (loss=0.32267): 100%|██████████| 76/76 [02:58<00:00,  2.35s/it]\n",
      "Training (13299 / 18000 Steps) (loss=0.53104): 100%|██████████| 76/76 [01:42<00:00,  1.35s/it]\n",
      "Validate (13300 / 10 Steps): 100%|██████████| 22/22 [01:17<00:00,  3.50s/it]?, ?it/s]\n",
      "Training (13300 / 18000 Steps) (loss=0.44303):   1%|▏         | 1/76 [01:20<1:41:07, 80.89s/it]"
     ]
    },
    {
     "name": "stdout",
     "output_type": "stream",
     "text": [
      "Model Was Not Saved ! Current Best Avg. Dice: 0.4607715606689453 Current Avg. Dice: 0.4402201473712921 Current Avg. tumor Dice: 0.4139998257160187 Current Avg. lymph Dice: 0.48768335580825806\n"
     ]
    },
    {
     "name": "stderr",
     "output_type": "stream",
     "text": [
      "Training (13375 / 18000 Steps) (loss=0.56961): 100%|██████████| 76/76 [02:59<00:00,  2.36s/it] \n",
      "Validate (13376 / 10 Steps): 100%|██████████| 22/22 [01:16<00:00,  3.49s/it]<01:07,  1.29s/it]\n",
      "Training (13400 / 18000 Steps) (loss=0.46211):  33%|███▎      | 25/76 [01:51<20:39, 24.31s/it]"
     ]
    },
    {
     "name": "stdout",
     "output_type": "stream",
     "text": [
      "Model Was Not Saved ! Current Best Avg. Dice: 0.4607715606689453 Current Avg. Dice: 0.4576958417892456 Current Avg. tumor Dice: 0.4318738281726837 Current Avg. lymph Dice: 0.4999939501285553\n"
     ]
    },
    {
     "name": "stderr",
     "output_type": "stream",
     "text": [
      "Training (13451 / 18000 Steps) (loss=0.45752): 100%|██████████| 76/76 [02:58<00:00,  2.35s/it]\n",
      "Validate (13452 / 10 Steps): 100%|██████████| 22/22 [01:17<00:00,  3.51s/it]<00:36,  1.29s/it]\n",
      "Training (13500 / 18000 Steps) (loss=0.42465):  64%|██████▍   | 49/76 [02:24<11:00, 24.45s/it]"
     ]
    },
    {
     "name": "stdout",
     "output_type": "stream",
     "text": [
      "Model Was Not Saved ! Current Best Avg. Dice: 0.4607715606689453 Current Avg. Dice: 0.44741955399513245 Current Avg. tumor Dice: 0.4136970639228821 Current Avg. lymph Dice: 0.5057922601699829\n"
     ]
    },
    {
     "name": "stderr",
     "output_type": "stream",
     "text": [
      "Training (13527 / 18000 Steps) (loss=0.34015): 100%|██████████| 76/76 [02:59<00:00,  2.36s/it]\n",
      "Validate (13528 / 10 Steps): 100%|██████████| 22/22 [01:16<00:00,  3.50s/it]<00:05,  1.27s/it]\n",
      "Training (13600 / 18000 Steps) (loss=0.48053):  96%|█████████▌| 73/76 [02:54<01:13, 24.40s/it]"
     ]
    },
    {
     "name": "stdout",
     "output_type": "stream",
     "text": [
      "Model Was Not Saved ! Current Best Avg. Dice: 0.4607715606689453 Current Avg. Dice: 0.42786234617233276 Current Avg. tumor Dice: 0.3694308400154114 Current Avg. lymph Dice: 0.5186183452606201\n"
     ]
    },
    {
     "name": "stderr",
     "output_type": "stream",
     "text": [
      "Training (13603 / 18000 Steps) (loss=0.46797): 100%|██████████| 76/76 [02:58<00:00,  2.35s/it]\n",
      "Training (13679 / 18000 Steps) (loss=0.47612): 100%|██████████| 76/76 [01:42<00:00,  1.34s/it]\n",
      "Validate (13680 / 10 Steps): 100%|██████████| 22/22 [01:17<00:00,  3.52s/it]<01:16,  1.37s/it]\n",
      "Training (13700 / 18000 Steps) (loss=0.51495):  28%|██▊       | 21/76 [01:47<22:32, 24.59s/it]"
     ]
    },
    {
     "name": "stdout",
     "output_type": "stream",
     "text": [
      "Model Was Not Saved ! Current Best Avg. Dice: 0.4607715606689453 Current Avg. Dice: 0.4474071264266968 Current Avg. tumor Dice: 0.41592270135879517 Current Avg. lymph Dice: 0.5067010521888733\n"
     ]
    },
    {
     "name": "stderr",
     "output_type": "stream",
     "text": [
      "Training (13755 / 18000 Steps) (loss=0.58458): 100%|██████████| 76/76 [03:00<00:00,  2.37s/it]\n",
      "Validate (13756 / 10 Steps): 100%|██████████| 22/22 [01:17<00:00,  3.52s/it]<00:43,  1.35s/it]\n",
      "Training (13800 / 18000 Steps) (loss=0.53545):  59%|█████▉    | 45/76 [02:19<12:41, 24.55s/it]"
     ]
    },
    {
     "name": "stdout",
     "output_type": "stream",
     "text": [
      "Model Was Not Saved ! Current Best Avg. Dice: 0.4607715606689453 Current Avg. Dice: 0.42804864048957825 Current Avg. tumor Dice: 0.3925431966781616 Current Avg. lymph Dice: 0.49542903900146484\n"
     ]
    },
    {
     "name": "stderr",
     "output_type": "stream",
     "text": [
      "Training (13831 / 18000 Steps) (loss=0.46773): 100%|██████████| 76/76 [02:59<00:00,  2.37s/it]\n",
      "Validate (13832 / 10 Steps): 100%|██████████| 22/22 [01:17<00:00,  3.53s/it]<00:10,  1.31s/it]\n",
      "Training (13900 / 18000 Steps) (loss=0.40196):  91%|█████████ | 69/76 [02:50<02:52, 24.62s/it]"
     ]
    },
    {
     "name": "stdout",
     "output_type": "stream",
     "text": [
      "Model Was Not Saved ! Current Best Avg. Dice: 0.4607715606689453 Current Avg. Dice: 0.4327493906021118 Current Avg. tumor Dice: 0.40441522002220154 Current Avg. lymph Dice: 0.49074310064315796\n"
     ]
    },
    {
     "name": "stderr",
     "output_type": "stream",
     "text": [
      "Training (13907 / 18000 Steps) (loss=0.50838): 100%|██████████| 76/76 [03:00<00:00,  2.37s/it]\n",
      "Training (13983 / 18000 Steps) (loss=0.53026): 100%|██████████| 76/76 [01:42<00:00,  1.35s/it]\n",
      "Validate (13984 / 10 Steps): 100%|██████████| 22/22 [01:17<00:00,  3.52s/it]<01:17,  1.29s/it]\n",
      "Training (14000 / 18000 Steps) (loss=0.56663):  22%|██▏       | 17/76 [01:42<24:13, 24.63s/it]"
     ]
    },
    {
     "name": "stdout",
     "output_type": "stream",
     "text": [
      "Model Was Not Saved ! Current Best Avg. Dice: 0.4607715606689453 Current Avg. Dice: 0.43827196955680847 Current Avg. tumor Dice: 0.41548165678977966 Current Avg. lymph Dice: 0.4826807379722595\n"
     ]
    },
    {
     "name": "stderr",
     "output_type": "stream",
     "text": [
      "Training (14059 / 18000 Steps) (loss=0.45113): 100%|██████████| 76/76 [03:00<00:00,  2.37s/it]\n",
      "Validate (14060 / 10 Steps): 100%|██████████| 22/22 [01:17<00:00,  3.53s/it]<00:46,  1.30s/it]\n",
      "Training (14100 / 18000 Steps) (loss=0.48771):  54%|█████▍    | 41/76 [02:14<14:23, 24.67s/it]"
     ]
    },
    {
     "name": "stdout",
     "output_type": "stream",
     "text": [
      "Model Was Not Saved ! Current Best Avg. Dice: 0.4607715606689453 Current Avg. Dice: 0.45593976974487305 Current Avg. tumor Dice: 0.41820281744003296 Current Avg. lymph Dice: 0.5133142471313477\n"
     ]
    },
    {
     "name": "stderr",
     "output_type": "stream",
     "text": [
      "Training (14135 / 18000 Steps) (loss=0.44127): 100%|██████████| 76/76 [03:00<00:00,  2.37s/it]\n",
      "Validate (14136 / 10 Steps): 100%|██████████| 22/22 [01:16<00:00,  3.49s/it]<00:15,  1.30s/it]\n",
      "Training (14200 / 18000 Steps) (loss=0.46690):  86%|████████▌ | 65/76 [02:45<04:28, 24.45s/it]"
     ]
    },
    {
     "name": "stdout",
     "output_type": "stream",
     "text": [
      "Model Was Not Saved ! Current Best Avg. Dice: 0.4607715606689453 Current Avg. Dice: 0.4410367012023926 Current Avg. tumor Dice: 0.41130560636520386 Current Avg. lymph Dice: 0.4932737946510315\n"
     ]
    },
    {
     "name": "stderr",
     "output_type": "stream",
     "text": [
      "Training (14211 / 18000 Steps) (loss=0.44792): 100%|██████████| 76/76 [02:59<00:00,  2.36s/it]\n",
      "Training (14287 / 18000 Steps) (loss=0.47388): 100%|██████████| 76/76 [01:42<00:00,  1.34s/it]\n",
      "Validate (14288 / 10 Steps): 100%|██████████| 22/22 [01:17<00:00,  3.50s/it]<01:23,  1.31s/it]\n",
      "Training (14300 / 18000 Steps) (loss=0.43591):  17%|█▋        | 13/76 [01:36<25:54, 24.67s/it]"
     ]
    },
    {
     "name": "stdout",
     "output_type": "stream",
     "text": [
      "Model Was Not Saved ! Current Best Avg. Dice: 0.4607715606689453 Current Avg. Dice: 0.4438973665237427 Current Avg. tumor Dice: 0.40483206510543823 Current Avg. lymph Dice: 0.5065443515777588\n"
     ]
    },
    {
     "name": "stderr",
     "output_type": "stream",
     "text": [
      "Training (14363 / 18000 Steps) (loss=0.46030): 100%|██████████| 76/76 [02:58<00:00,  2.35s/it]\n",
      "Validate (14364 / 10 Steps): 100%|██████████| 22/22 [01:17<00:00,  3.51s/it]<00:52,  1.31s/it]\n",
      "Training (14400 / 18000 Steps) (loss=0.58814):  49%|████▊     | 37/76 [02:09<16:06, 24.78s/it]"
     ]
    },
    {
     "name": "stdout",
     "output_type": "stream",
     "text": [
      "Model Was Saved ! Current Best Avg. Dice: 0.46175920963287354 Current Avg. Dice: 0.46175920963287354 Current Avg. tumor Dice: 0.4350135326385498 Current Avg. lymph Dice: 0.5037248134613037\n"
     ]
    },
    {
     "name": "stderr",
     "output_type": "stream",
     "text": [
      "Training (14439 / 18000 Steps) (loss=0.58888): 100%|██████████| 76/76 [03:00<00:00,  2.37s/it]\n",
      "Validate (14440 / 10 Steps): 100%|██████████| 22/22 [01:16<00:00,  3.50s/it]<00:20,  1.31s/it]\n",
      "Training (14500 / 18000 Steps) (loss=0.51968):  80%|████████  | 61/76 [02:39<06:05, 24.39s/it]"
     ]
    },
    {
     "name": "stdout",
     "output_type": "stream",
     "text": [
      "Model Was Not Saved ! Current Best Avg. Dice: 0.46175920963287354 Current Avg. Dice: 0.41430559754371643 Current Avg. tumor Dice: 0.352001428604126 Current Avg. lymph Dice: 0.5090348124504089\n"
     ]
    },
    {
     "name": "stderr",
     "output_type": "stream",
     "text": [
      "Training (14515 / 18000 Steps) (loss=0.51811): 100%|██████████| 76/76 [02:58<00:00,  2.35s/it]\n",
      "Training (14591 / 18000 Steps) (loss=0.51281): 100%|██████████| 76/76 [01:42<00:00,  1.35s/it]\n",
      "Validate (14592 / 10 Steps): 100%|██████████| 22/22 [01:16<00:00,  3.50s/it]01:31,  1.35s/it]\n",
      "Training (14600 / 18000 Steps) (loss=0.41977):  12%|█▏        | 9/76 [01:31<28:26, 25.47s/it]"
     ]
    },
    {
     "name": "stdout",
     "output_type": "stream",
     "text": [
      "Model Was Not Saved ! Current Best Avg. Dice: 0.46175920963287354 Current Avg. Dice: 0.44620513916015625 Current Avg. tumor Dice: 0.4023074507713318 Current Avg. lymph Dice: 0.5117020606994629\n"
     ]
    },
    {
     "name": "stderr",
     "output_type": "stream",
     "text": [
      "Training (14667 / 18000 Steps) (loss=0.60105): 100%|██████████| 76/76 [02:58<00:00,  2.35s/it]\n",
      "Validate (14668 / 10 Steps): 100%|██████████| 22/22 [01:16<00:00,  3.49s/it]<00:56,  1.29s/it]\n",
      "Training (14700 / 18000 Steps) (loss=0.46127):  43%|████▎     | 33/76 [02:02<17:28, 24.37s/it]"
     ]
    },
    {
     "name": "stdout",
     "output_type": "stream",
     "text": [
      "Model Was Not Saved ! Current Best Avg. Dice: 0.46175920963287354 Current Avg. Dice: 0.4515589773654938 Current Avg. tumor Dice: 0.421897292137146 Current Avg. lymph Dice: 0.5058111548423767\n"
     ]
    },
    {
     "name": "stderr",
     "output_type": "stream",
     "text": [
      "Training (14743 / 18000 Steps) (loss=0.58054): 100%|██████████| 76/76 [02:59<00:00,  2.36s/it]\n",
      "Validate (14744 / 10 Steps): 100%|██████████| 22/22 [01:16<00:00,  3.49s/it]<00:25,  1.29s/it]\n",
      "Training (14800 / 18000 Steps) (loss=0.56070):  75%|███████▌  | 57/76 [02:33<07:42, 24.35s/it]"
     ]
    },
    {
     "name": "stdout",
     "output_type": "stream",
     "text": [
      "Model Was Not Saved ! Current Best Avg. Dice: 0.46175920963287354 Current Avg. Dice: 0.45448094606399536 Current Avg. tumor Dice: 0.42385342717170715 Current Avg. lymph Dice: 0.5145592093467712\n"
     ]
    },
    {
     "name": "stderr",
     "output_type": "stream",
     "text": [
      "Training (14819 / 18000 Steps) (loss=0.49778): 100%|██████████| 76/76 [02:58<00:00,  2.35s/it]\n",
      "Training (14895 / 18000 Steps) (loss=0.35916): 100%|██████████| 76/76 [01:41<00:00,  1.34s/it]\n",
      "Validate (14896 / 10 Steps): 100%|██████████| 22/22 [01:16<00:00,  3.50s/it]01:58,  1.64s/it]\n",
      "Training (14900 / 18000 Steps) (loss=0.47755):   7%|▋         | 5/76 [01:26<34:36, 29.25s/it]"
     ]
    },
    {
     "name": "stdout",
     "output_type": "stream",
     "text": [
      "Model Was Not Saved ! Current Best Avg. Dice: 0.46175920963287354 Current Avg. Dice: 0.44600236415863037 Current Avg. tumor Dice: 0.4196803569793701 Current Avg. lymph Dice: 0.5036693215370178\n"
     ]
    },
    {
     "name": "stderr",
     "output_type": "stream",
     "text": [
      "Training (14971 / 18000 Steps) (loss=0.56105): 100%|██████████| 76/76 [02:58<00:00,  2.35s/it]\n",
      "Validate (14972 / 10 Steps): 100%|██████████| 22/22 [01:17<00:00,  3.51s/it]<01:03,  1.31s/it]\n",
      "Training (15000 / 18000 Steps) (loss=0.51407):  38%|███▊      | 29/76 [01:57<19:09, 24.46s/it]"
     ]
    },
    {
     "name": "stdout",
     "output_type": "stream",
     "text": [
      "Model Was Not Saved ! Current Best Avg. Dice: 0.46175920963287354 Current Avg. Dice: 0.44551780819892883 Current Avg. tumor Dice: 0.4208275079727173 Current Avg. lymph Dice: 0.49257734417915344\n"
     ]
    },
    {
     "name": "stderr",
     "output_type": "stream",
     "text": [
      "Training (15047 / 18000 Steps) (loss=0.52186): 100%|██████████| 76/76 [02:59<00:00,  2.36s/it]\n",
      "Validate (15048 / 10 Steps): 100%|██████████| 22/22 [01:16<00:00,  3.50s/it]<00:31,  1.32s/it]\n",
      "Training (15100 / 18000 Steps) (loss=0.46100):  70%|██████▉   | 53/76 [02:30<09:28, 24.70s/it]"
     ]
    },
    {
     "name": "stdout",
     "output_type": "stream",
     "text": [
      "Model Was Saved ! Current Best Avg. Dice: 0.46284598112106323 Current Avg. Dice: 0.46284598112106323 Current Avg. tumor Dice: 0.4308605194091797 Current Avg. lymph Dice: 0.5190675258636475\n"
     ]
    },
    {
     "name": "stderr",
     "output_type": "stream",
     "text": [
      "Training (15123 / 18000 Steps) (loss=0.64934): 100%|██████████| 76/76 [03:00<00:00,  2.37s/it]\n",
      "Training (15199 / 18000 Steps) (loss=0.46790): 100%|██████████| 76/76 [01:42<00:00,  1.34s/it]\n",
      "Validate (15200 / 10 Steps): 100%|██████████| 22/22 [01:16<00:00,  3.49s/it]?, ?it/s]\n",
      "Training (15200 / 18000 Steps) (loss=0.47647):   1%|▏         | 1/76 [01:20<1:40:48, 80.65s/it]"
     ]
    },
    {
     "name": "stdout",
     "output_type": "stream",
     "text": [
      "Model Was Not Saved ! Current Best Avg. Dice: 0.46284598112106323 Current Avg. Dice: 0.45183154940605164 Current Avg. tumor Dice: 0.4156329333782196 Current Avg. lymph Dice: 0.5167561769485474\n"
     ]
    },
    {
     "name": "stderr",
     "output_type": "stream",
     "text": [
      "Training (15224 / 18000 Steps) (loss=0.54195):  33%|███▎      | 25/76 [01:52<01:06,  1.30s/it] "
     ]
    }
   ],
   "source": [
    "epoch = 0 # used for LR scheduler\n",
    "max_num_epochs = 530 # used for LR scheduler\n",
    "\n",
    "\n",
    "while global_step < max_iterations:\n",
    "    global_step, dice_val_best, global_step_best = train(\n",
    "        global_step, train_loader, dice_val_best, global_step_best\n",
    "    )\n",
    "    epoch += 1\n",
    "    #optimizer.param_groups[0]['lr'] = poly_lr(epoch, max_num_epochs, 0.005676 , 0.9)\n",
    "# model.load_state_dict(torch.load(os.path.join(model_dir, \"best_metric_luck_UNETr_prompt.pth\")))"
   ]
  }
 ],
 "metadata": {
  "kernelspec": {
   "display_name": "clam",
   "language": "python",
   "name": "python3"
  },
  "language_info": {
   "codemirror_mode": {
    "name": "ipython",
    "version": 3
   },
   "file_extension": ".py",
   "mimetype": "text/x-python",
   "name": "python",
   "nbconvert_exporter": "python",
   "pygments_lexer": "ipython3",
   "version": "3.8.0"
  }
 },
 "nbformat": 4,
 "nbformat_minor": 2
}
