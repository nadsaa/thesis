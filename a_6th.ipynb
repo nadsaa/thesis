{
 "cells": [
  {
   "cell_type": "code",
   "execution_count": 2,
   "metadata": {},
   "outputs": [
    {
     "name": "stdout",
     "output_type": "stream",
     "text": [
      "1\n"
     ]
    }
   ],
   "source": [
    "import torch\n",
    "import torch.nn as nn\n",
    "from torch.utils.data import DataLoader\n",
    "from collections.abc import Sequence\n",
    "\n",
    "from unetr import CustomedUNETR\n",
    "\n",
    "import json\n",
    "from tqdm.autonotebook import tqdm\n",
    "import os\n",
    "os.environ[\"CUDA_DEVICE_ORDER\"] = \"PCI_BUS_ID\"\n",
    "os.environ[\"CUDA_VISIBLE_DEVICES\"] = \"3\" \n",
    "\n",
    "print(torch.cuda.device_count())\n",
    "torch.backends.cudnn.benchmark = True\n",
    "device = torch.device(\"cuda\" if torch.cuda.is_available() else \"cpu\")"
   ]
  },
  {
   "cell_type": "code",
   "execution_count": 5,
   "metadata": {},
   "outputs": [],
   "source": [
    "from monai.transforms import EnsureTyped\n",
    "from monai.transforms import Compose, LoadImaged, ScaleIntensityRanged, ConcatItemsd\n",
    "from monai.metrics import DiceMetric\n",
    "from monai.losses import DiceCELoss, DiceFocalLoss, FocalLoss\n",
    "from monai.inferers import sliding_window_inference\n",
    "\n",
    "\n",
    "from monai.data import (\n",
    "    Dataset,\n",
    "    DataLoader,\n",
    "    CacheDataset,\n",
    "    load_decathlon_datalist,\n",
    "    decollate_batch,\n",
    ")\n",
    "\n",
    "\n",
    "from monai.transforms import (\n",
    "    AsDiscrete,\n",
    "    Compose,\n",
    "    CropForegroundd,\n",
    "    LoadImaged,\n",
    "    Orientationd,\n",
    "    RandFlipd,\n",
    "    RandCropByPosNegLabeld,\n",
    "    RandShiftIntensityd,\n",
    "    ScaleIntensityRanged,\n",
    "    Spacingd,\n",
    "    RandRotate90d,\n",
    "    MapTransform,\n",
    "    ScaleIntensityd,\n",
    "    #AddChanneld,\n",
    "    SpatialPadd,\n",
    "    CenterSpatialCropd,\n",
    "    EnsureChannelFirstd,\n",
    "    ConcatItemsd,\n",
    "    AdjustContrastd, \n",
    "    Rand3DElasticd,\n",
    "    HistogramNormalized,\n",
    "    NormalizeIntensityd,\n",
    "    Invertd,\n",
    "    SaveImage,\n",
    "\n",
    ")\n",
    "import monai"
   ]
  },
  {
   "cell_type": "code",
   "execution_count": 16,
   "metadata": {},
   "outputs": [],
   "source": [
    "data_dir = '/home/nada.saadi/MIS-FM/hecktor2022_cropped'\n",
    "json_dir = '/home/nada.saadi/CTPET/hecktor2022_cropped/HGJ_CT_train_new.json'"
   ]
  },
  {
   "cell_type": "code",
   "execution_count": 17,
   "metadata": {},
   "outputs": [],
   "source": [
    "def datafold_read(datalist, basedir, fold=0, key=\"training\"):\n",
    "    with open(datalist) as f:\n",
    "        json_data = json.load(f)\n",
    "\n",
    "    json_data = json_data[key]\n",
    "\n",
    "    for d in json_data:\n",
    "        for k in d:\n",
    "            if isinstance(d[k], list):\n",
    "                d[k] = [os.path.join(basedir, iv) for iv in d[k]]\n",
    "            elif isinstance(d[k], str):\n",
    "                d[k] = os.path.join(basedir, d[k]) if len(d[k]) > 0 else d[k]\n",
    "\n",
    "    tr = []\n",
    "    val = []\n",
    "    for d in json_data:\n",
    "        if \"fold\" in d and d[\"fold\"] == fold:\n",
    "            val.append(d)\n",
    "        else:\n",
    "            tr.append(d)\n",
    "\n",
    "    return tr, val"
   ]
  },
  {
   "cell_type": "code",
   "execution_count": 18,
   "metadata": {},
   "outputs": [
    {
     "data": {
      "text/plain": [
       "(40, 14)"
      ]
     },
     "execution_count": 18,
     "metadata": {},
     "output_type": "execute_result"
    }
   ],
   "source": [
    "train_files, validation_files = datafold_read(datalist=json_dir, basedir=data_dir, fold=2)\n",
    "len(train_files), len(validation_files)"
   ]
  },
  {
   "cell_type": "code",
   "execution_count": 19,
   "metadata": {},
   "outputs": [],
   "source": [
    "class ClipCT(MapTransform):\n",
    "    \"\"\"\n",
    "    Convert labels to multi channels based on hecktor classes:\n",
    "    label 1 is the tumor\n",
    "    label 2 is the lymph node\n",
    "\n",
    "    \"\"\"\n",
    "\n",
    "    def __call__(self, data):\n",
    "        d = dict(data)\n",
    "        for key in self.keys:\n",
    "            if key == \"ct\":\n",
    "                d[key] = torch.clip(d[key], min=-200, max=200)\n",
    "            # elif key == \"pt\":\n",
    "            #     d[key] = torch.clip(d[key], d[key].min(), 5)\n",
    "        return d\n",
    "\n",
    "class MulPTFM(MapTransform):\n",
    "    \"\"\"\n",
    "    Mult PT and FM \n",
    "\n",
    "    \"\"\"\n",
    "\n",
    "    def __call__(self, data):\n",
    "        d = dict(data)\n",
    "\n",
    "        fm = d[\"ct\"] > 0\n",
    "        d[\"pt\"] = d[\"pt\"] * fm\n",
    "        return d\n",
    "\n",
    "class SelectClass(MapTransform):\n",
    "    \"\"\"\n",
    "    Select the class for which you want to fine tune the model \n",
    "\n",
    "    \"\"\"\n",
    "    # def __init__(self, keys, cls=1):\n",
    "    #     super(self).__init__(keys)\n",
    "    #     self.cls = cls\n",
    "\n",
    "    def __call__(self, data):\n",
    "        d = dict(data)\n",
    "        d[\"seg\"][d[\"seg\"] == 1] = 0\n",
    "        # d[\"seg\"][d[\"seg\"] == 2] = 1\n",
    "        \n",
    "        return d"
   ]
  },
  {
   "cell_type": "code",
   "execution_count": 21,
   "metadata": {},
   "outputs": [],
   "source": [
    "num_samples = 4\n",
    "\n",
    "train_transforms = Compose(\n",
    "    [\n",
    "        LoadImaged(keys=[\"ct\", \"seg\"], ensure_channel_first = True),\n",
    "        SpatialPadd(keys=[\"ct\",  \"seg\"], spatial_size=(200, 200, 310), method='end'),\n",
    "        Orientationd(keys=[\"ct\",  \"seg\"], axcodes=\"PLS\"),\n",
    "        #NormalizeIntensityd(keys=[\"pt\"]),\n",
    "        ClipCT(keys=[\"ct\"]),\n",
    "        ScaleIntensityd(keys=[\"ct\"], minv=0, maxv=1),\n",
    "        #MulPTFM(keys=[\"ct\",\"pt\"]),\n",
    "        #ConcatItemsd(keys=[\"pt\", \"ct\"], name=\"ctpt\"),\n",
    "        #NormalizeIntensityd(keys=[\"ctpt\"], channel_wise=True),\n",
    "        RandCropByPosNegLabeld(\n",
    "            keys=[\"ct\", \"seg\"],\n",
    "            label_key=\"seg\",\n",
    "            spatial_size=(96, 96, 96),\n",
    "            pos=1,\n",
    "            neg=1,\n",
    "            num_samples=num_samples,\n",
    "            image_key=\"ct\",\n",
    "            image_threshold=0,\n",
    "        ),\n",
    "        RandFlipd(\n",
    "             keys=[\"ct\", \"seg\"],\n",
    "            spatial_axis=[0],\n",
    "            prob=0.20,\n",
    "        ),\n",
    "        RandFlipd(\n",
    "            keys=[\"ct\", \"seg\"],\n",
    "            spatial_axis=[1],\n",
    "            prob=0.20,\n",
    "        ),\n",
    "        RandFlipd(\n",
    "            keys=[\"ct\", \"seg\"],\n",
    "            spatial_axis=[2],\n",
    "            prob=0.20,\n",
    "        ),\n",
    "        RandRotate90d(\n",
    "            keys=[\"ct\", \"seg\"],\n",
    "            prob=0.20,\n",
    "            max_k=3,\n",
    "        ),\n",
    "    ]\n",
    ")\n",
    "val_transforms = Compose(\n",
    "    [\n",
    "        LoadImaged(keys=[\"ct\", \"seg\"], ensure_channel_first = True),\n",
    "        SpatialPadd(keys=[\"ct\", \"seg\"], spatial_size=(200, 200, 310), method='end'),\n",
    "        Orientationd(keys=[\"ct\",  \"seg\"], axcodes=\"PLS\"),\n",
    "        #NormalizeIntensityd(keys=[\"pt\"]),\n",
    "        ClipCT(keys=[\"ct\"]),\n",
    "        ScaleIntensityd(keys=[\"ct\"], minv=0, maxv=1),\n",
    "        #MulPTFM(keys=[\"ct\",\"pt\"]),\n",
    "        #ConcatItemsd(keys=[\"pt\", \"ct\"], name=\"ctpt\"),\n",
    "    ]\n",
    ")"
   ]
  },
  {
   "cell_type": "code",
   "execution_count": 22,
   "metadata": {},
   "outputs": [],
   "source": [
    "train_ds = monai.data.Dataset(data=train_files, transform=train_transforms)\n",
    "\n",
    "train_loader = DataLoader(\n",
    "    train_ds,\n",
    "    batch_size=2,\n",
    "    shuffle=True,\n",
    "    num_workers=8,\n",
    "    pin_memory=torch.cuda.is_available(),\n",
    "    )\n",
    "\n",
    "val_ds = monai.data.Dataset(data=validation_files, transform=val_transforms)\n",
    "\n",
    "val_loader = DataLoader(\n",
    "    val_ds, \n",
    "    batch_size=2, \n",
    "    num_workers=8, \n",
    "    shuffle= False)"
   ]
  },
  {
   "cell_type": "code",
   "execution_count": 23,
   "metadata": {},
   "outputs": [
    {
     "name": "stderr",
     "output_type": "stream",
     "text": [
      "/home/nada.saadi/miniconda3/envs/clam/lib/python3.8/site-packages/monai/utils/deprecate_utils.py:221: FutureWarning: unetr CustomedUNETR.__init__:pos_embed: Argument `pos_embed` has been deprecated since version 1.2. It will be removed in version 1.4. please use `proj_type` instead.\n",
      "  warn_deprecated(argname, msg, warning_category)\n"
     ]
    },
    {
     "name": "stdout",
     "output_type": "stream",
     "text": [
      "Nada's version of UNETR\n",
      "(96, 96, 96)\n",
      "(16, 16, 16)\n",
      "(6, 6, 6)\n",
      "768\n",
      "zaz w dakchi ya s lbnat\n"
     ]
    }
   ],
   "source": [
    "os.environ[\"CUDA_DEVICE_ORDER\"] = \"PCI_BUS_ID\"\n",
    "device = torch.device(\"cuda\" if torch.cuda.is_available() else \"cpu\")\n",
    "model = CustomedUNETR(\n",
    "    in_channels=1,  # Number of input channels\n",
    "    out_channels=3,  # Number of output channels\n",
    "    img_size=(96, 96, 96),  # Size of the input image\n",
    "    feature_size=48,  # Size of the feature maps\n",
    "    hidden_size=768,\n",
    "    num_heads=12,  # Size of the hidden layers in the transformer\n",
    "    mlp_dim=3072,  # Dimension of the MLP in the transformer\n",
    "    pos_embed=\"perceptron\",  # Type of positional embedding\n",
    "    norm_name=\"instance\",  # Type of normalization\n",
    "    res_block=True,  # Whether to use residual blocks\n",
    "    dropout_rate=0.0,\n",
    "    proj_type=\"conv\",\n",
    "    r=4,\n",
    "    lora_layer=True,\n",
    "    use_ct_encoder=True,\n",
    "    use_pet_encoder=False,\n",
    ").to(device) \n",
    "a_weights_ctpt6 = '/home/nada.saadi/CTPET/hecktor2022_cropped/6th_CTPT_ourapproach/6thctpt_tokens_ourapproach_pret.pth'\n",
    "state_dict = torch.load(a_weights_ctpt6)\n",
    "model_state_dict = model.state_dict()\n",
    "for name, param in state_dict.items():\n",
    "    if name in model_state_dict:\n",
    "        if param.shape == model_state_dict[name].shape:\n",
    "            model_state_dict[name] = param\n",
    "\n",
    "model.load_state_dict(model_state_dict) \n",
    "\n",
    "for name, param in model.named_parameters():\n",
    "    if \"decoder5\" in name or \"decoder4\" in name or \"decoder3\" in name or \"decoder2\" in name:\n",
    "        param.requires_grad = False"
   ]
  },
  {
   "cell_type": "code",
   "execution_count": 24,
   "metadata": {},
   "outputs": [],
   "source": [
    "torch.backends.cudnn.benchmark = True\n",
    "def poly_lr(epoch, max_epochs, initial_lr, exponent=0.9):\n",
    "    return initial_lr * (1 - epoch / max_epochs)**exponent\n",
    "\n",
    "loss_function = DiceCELoss(to_onehot_y=True, softmax=True)\n",
    "optimizer = torch.optim.AdamW(model.parameters(), lr=1e-4, weight_decay=1e-5)"
   ]
  },
  {
   "cell_type": "code",
   "execution_count": 25,
   "metadata": {},
   "outputs": [],
   "source": [
    "def poly_lr(epoch, max_epochs, initial_lr, exponent=0.9):\n",
    "    return initial_lr * (1 - epoch / max_epochs)**exponent\n",
    "\n",
    "model_dir='/home/nada.saadi/CTPET/hecktor2022_cropped/a_6th'\n",
    "max_iterations = 18000\n",
    "eval_num = 100\n",
    "\n",
    "## running stats\n",
    "global_step = 0\n",
    "dice_val_best = 0.0\n",
    "global_step_best = 0\n",
    "epoch_loss_values = []\n",
    "metric_values = []\n",
    "metric_values_tumor = []\n",
    "metric_values_lymph = []\n",
    "\n",
    "\n",
    "loss_function = DiceCELoss(to_onehot_y=True, softmax=True)\n",
    "optimizer = torch.optim.AdamW(model.parameters(), lr=1e-4, weight_decay=1e-5)\n",
    "\n",
    "\n",
    "post_label = AsDiscrete(to_onehot=3)\n",
    "post_pred = AsDiscrete(argmax=True, to_onehot=3)\n",
    "\n",
    "dice_metric = DiceMetric(include_background=False, reduction=\"mean\", get_not_nans=False)\n",
    "dice_metric_batch = DiceMetric(include_background=False, reduction=\"mean_batch\")\n",
    "\n",
    "\n",
    "##-----------------------------------------------------------------------------\n",
    "\n",
    "def validation(epoch_iterator_val):\n",
    "        model.eval()\n",
    "        with torch.no_grad():\n",
    "            for step, batch in enumerate(epoch_iterator_val):\n",
    "                val_inputs, val_labels = (batch[\"ct\"].cuda(), batch[\"seg\"].cuda())\n",
    "                val_outputs = sliding_window_inference(val_inputs, (96, 96, 96), 4, model)\n",
    "                val_labels_list = decollate_batch(val_labels)\n",
    "                val_labels_convert = [\n",
    "                    post_label(val_label_tensor) for val_label_tensor in val_labels_list\n",
    "                ]\n",
    "                val_outputs_list = decollate_batch(val_outputs)\n",
    "                val_output_convert = [\n",
    "                    post_pred(val_pred_tensor) for val_pred_tensor in val_outputs_list\n",
    "                ]\n",
    "                dice_metric(y_pred=val_output_convert, y=val_labels_convert)\n",
    "                dice_metric_batch(y_pred=val_output_convert, y=val_labels_convert)\n",
    "                epoch_iterator_val.set_description(\n",
    "                    \"Validate (%d / %d Steps)\" % (global_step, 10.0)\n",
    "                )\n",
    "            mean_dice_val = dice_metric.aggregate().item()\n",
    "            metric_batch_val = dice_metric_batch.aggregate()\n",
    "\n",
    "            metric_tumor = metric_batch_val[0].item()\n",
    "            metric_lymph = metric_batch_val[1].item()\n",
    "\n",
    "            dice_metric.reset()\n",
    "            dice_metric_batch.reset()\n",
    "        return mean_dice_val, metric_tumor, metric_lymph\n",
    "\n",
    "\n",
    "\n",
    "def train(global_step, train_loader, dice_val_best, global_step_best):\n",
    "        model.train()\n",
    "        epoch_loss = 0 \n",
    "        step = 0\n",
    "        epoch_iterator = tqdm(\n",
    "            train_loader, desc=\"Training (X / X Steps) (loss=X.X)\", dynamic_ncols=True\n",
    "        )\n",
    "        \n",
    "        for step, batch in enumerate(epoch_iterator):\n",
    "            step += 1\n",
    "            x, y = (batch[\"ct\"].cuda(), batch[\"seg\"].cuda())\n",
    "            logit_map = model(x, mode=None)\n",
    "            loss = loss_function(logit_map, y)\n",
    "            loss.backward()\n",
    "            epoch_loss += loss.item() \n",
    "            optimizer.step()\n",
    "            optimizer.zero_grad()\n",
    "            epoch_iterator.set_description(\n",
    "                \"Training (%d / %d Steps) (loss=%2.5f)\"\n",
    "                % (global_step, max_iterations, loss)\n",
    "            )\n",
    "            \n",
    "            if (\n",
    "                global_step % eval_num == 0 and global_step != 0\n",
    "            ) or global_step == max_iterations:\n",
    "                epoch_iterator_val = tqdm(\n",
    "                    val_loader, desc=\"Validate (X / X Steps) (dice=X.X)\", dynamic_ncols=True\n",
    "                )\n",
    "                dice_val, metric_tumor, metric_lymph = validation(epoch_iterator_val)\n",
    "                epoch_loss /= step\n",
    "                epoch_loss_values.append(epoch_loss)\n",
    "                metric_values.append(dice_val)\n",
    "                metric_values_tumor.append(metric_tumor)\n",
    "                metric_values_lymph.append(metric_lymph)\n",
    "                if dice_val > dice_val_best:\n",
    "                    dice_val_best = dice_val\n",
    "                    global_step_best = global_step\n",
    "                    torch.save(\n",
    "                        model.state_dict(), os.path.join(model_dir, \"a_6th_ctptct.pth\")\n",
    "                    )\n",
    "                    print(\n",
    "                        \"Model Was Saved ! Current Best Avg. Dice: {} Current Avg. Dice: {} Current Avg. tumor Dice: {} Current Avg. lymph Dice: {}\".format(\n",
    "                            dice_val_best, dice_val, metric_tumor, metric_lymph\n",
    "                        )\n",
    "                    )\n",
    "                else:\n",
    "                    print(\n",
    "                        \"Model Was Not Saved ! Current Best Avg. Dice: {} Current Avg. Dice: {} Current Avg. tumor Dice: {} Current Avg. lymph Dice: {}\".format(\n",
    "                            dice_val_best, dice_val,  metric_tumor, metric_lymph\n",
    "                        )\n",
    "                    )\n",
    "            global_step += 1\n",
    "        return global_step, dice_val_best, global_step_best"
   ]
  },
  {
   "cell_type": "code",
   "execution_count": 26,
   "metadata": {},
   "outputs": [
    {
     "name": "stderr",
     "output_type": "stream",
     "text": [
      "Training (19 / 18000 Steps) (loss=0.70885): 100%|██████████| 20/20 [01:18<00:00,  3.93s/it]\n",
      "Training (39 / 18000 Steps) (loss=0.74866): 100%|██████████| 20/20 [00:47<00:00,  2.36s/it]\n",
      "Training (59 / 18000 Steps) (loss=0.62377): 100%|██████████| 20/20 [00:47<00:00,  2.38s/it]\n",
      "Training (79 / 18000 Steps) (loss=0.69513): 100%|██████████| 20/20 [00:48<00:00,  2.42s/it]\n",
      "Training (99 / 18000 Steps) (loss=0.67094): 100%|██████████| 20/20 [00:47<00:00,  2.37s/it]\n",
      "Validate (100 / 10 Steps): 100%|██████████| 7/7 [00:42<00:00,  6.02s/it]5<?, ?it/s]\n",
      "Training (100 / 18000 Steps) (loss=0.68722):   5%|▌         | 1/20 [00:48<15:23, 48.61s/it]"
     ]
    },
    {
     "name": "stdout",
     "output_type": "stream",
     "text": [
      "Model Was Saved ! Current Best Avg. Dice: 0.07989062368869781 Current Avg. Dice: 0.07989062368869781 Current Avg. tumor Dice: 0.05599546432495117 Current Avg. lymph Dice: 0.10378579050302505\n"
     ]
    },
    {
     "name": "stderr",
     "output_type": "stream",
     "text": [
      "Training (119 / 18000 Steps) (loss=0.62494): 100%|██████████| 20/20 [01:29<00:00,  4.47s/it]\n",
      "Training (139 / 18000 Steps) (loss=0.69368): 100%|██████████| 20/20 [00:47<00:00,  2.36s/it]\n",
      "Training (159 / 18000 Steps) (loss=0.58117): 100%|██████████| 20/20 [00:47<00:00,  2.35s/it]\n",
      "Training (179 / 18000 Steps) (loss=0.58716): 100%|██████████| 20/20 [00:45<00:00,  2.30s/it]\n",
      "Training (199 / 18000 Steps) (loss=0.63507): 100%|██████████| 20/20 [00:46<00:00,  2.34s/it]\n",
      "Validate (200 / 10 Steps): 100%|██████████| 7/7 [00:35<00:00,  5.06s/it]5<?, ?it/s]\n",
      "Training (200 / 18000 Steps) (loss=0.69406):   5%|▌         | 1/20 [00:41<13:12, 41.69s/it]"
     ]
    },
    {
     "name": "stdout",
     "output_type": "stream",
     "text": [
      "Model Was Saved ! Current Best Avg. Dice: 0.16850145161151886 Current Avg. Dice: 0.16850145161151886 Current Avg. tumor Dice: 0.20386973023414612 Current Avg. lymph Dice: 0.1331331729888916\n"
     ]
    },
    {
     "name": "stderr",
     "output_type": "stream",
     "text": [
      "Training (219 / 18000 Steps) (loss=0.60144): 100%|██████████| 20/20 [01:24<00:00,  4.22s/it]\n",
      "Training (239 / 18000 Steps) (loss=0.59340): 100%|██████████| 20/20 [00:45<00:00,  2.26s/it]\n",
      "Training (259 / 18000 Steps) (loss=0.62162): 100%|██████████| 20/20 [00:47<00:00,  2.37s/it]\n",
      "Training (279 / 18000 Steps) (loss=0.54927): 100%|██████████| 20/20 [00:46<00:00,  2.33s/it]\n",
      "Training (299 / 18000 Steps) (loss=0.61267): 100%|██████████| 20/20 [00:45<00:00,  2.30s/it]\n",
      "Validate (300 / 10 Steps): 100%|██████████| 7/7 [00:34<00:00,  4.94s/it]5<?, ?it/s]\n",
      "Training (300 / 18000 Steps) (loss=0.53818):   5%|▌         | 1/20 [00:40<12:58, 41.00s/it]"
     ]
    },
    {
     "name": "stdout",
     "output_type": "stream",
     "text": [
      "Model Was Saved ! Current Best Avg. Dice: 0.20466136932373047 Current Avg. Dice: 0.20466136932373047 Current Avg. tumor Dice: 0.24479471147060394 Current Avg. lymph Dice: 0.1645280420780182\n"
     ]
    },
    {
     "name": "stderr",
     "output_type": "stream",
     "text": [
      "Training (319 / 18000 Steps) (loss=0.65127): 100%|██████████| 20/20 [01:21<00:00,  4.06s/it]\n",
      "Training (339 / 18000 Steps) (loss=0.62139): 100%|██████████| 20/20 [00:47<00:00,  2.38s/it]\n",
      "Training (359 / 18000 Steps) (loss=0.62266): 100%|██████████| 20/20 [00:47<00:00,  2.37s/it]\n",
      "Training (379 / 18000 Steps) (loss=0.51945): 100%|██████████| 20/20 [00:47<00:00,  2.37s/it]\n",
      "Training (399 / 18000 Steps) (loss=0.56797): 100%|██████████| 20/20 [00:44<00:00,  2.23s/it]\n",
      "Validate (400 / 10 Steps): 100%|██████████| 7/7 [00:34<00:00,  4.99s/it]5<?, ?it/s]\n",
      "Training (400 / 18000 Steps) (loss=0.60975):   5%|▌         | 1/20 [00:41<13:04, 41.28s/it]"
     ]
    },
    {
     "name": "stdout",
     "output_type": "stream",
     "text": [
      "Model Was Saved ! Current Best Avg. Dice: 0.22060324251651764 Current Avg. Dice: 0.22060324251651764 Current Avg. tumor Dice: 0.23816931247711182 Current Avg. lymph Dice: 0.20303721725940704\n"
     ]
    },
    {
     "name": "stderr",
     "output_type": "stream",
     "text": [
      "Training (419 / 18000 Steps) (loss=0.45028): 100%|██████████| 20/20 [01:22<00:00,  4.11s/it]\n",
      "Training (439 / 18000 Steps) (loss=0.53427): 100%|██████████| 20/20 [00:46<00:00,  2.34s/it]\n",
      "Training (459 / 18000 Steps) (loss=0.60748): 100%|██████████| 20/20 [00:47<00:00,  2.38s/it]\n",
      "Training (479 / 18000 Steps) (loss=0.52121): 100%|██████████| 20/20 [00:46<00:00,  2.31s/it]\n",
      "Training (499 / 18000 Steps) (loss=0.65300): 100%|██████████| 20/20 [00:46<00:00,  2.30s/it]\n",
      "Validate (500 / 10 Steps): 100%|██████████| 7/7 [00:34<00:00,  4.99s/it]5<?, ?it/s]\n",
      "Training (500 / 18000 Steps) (loss=0.63829):   5%|▌         | 1/20 [00:41<13:02, 41.18s/it]"
     ]
    },
    {
     "name": "stdout",
     "output_type": "stream",
     "text": [
      "Model Was Saved ! Current Best Avg. Dice: 0.24859178066253662 Current Avg. Dice: 0.24859178066253662 Current Avg. tumor Dice: 0.2703022062778473 Current Avg. lymph Dice: 0.22688136994838715\n"
     ]
    },
    {
     "name": "stderr",
     "output_type": "stream",
     "text": [
      "Training (519 / 18000 Steps) (loss=0.65464): 100%|██████████| 20/20 [01:21<00:00,  4.10s/it]\n",
      "Training (539 / 18000 Steps) (loss=0.74032): 100%|██████████| 20/20 [00:47<00:00,  2.39s/it]\n",
      "Training (559 / 18000 Steps) (loss=0.67568): 100%|██████████| 20/20 [00:48<00:00,  2.40s/it]\n",
      "Training (579 / 18000 Steps) (loss=0.58907): 100%|██████████| 20/20 [00:47<00:00,  2.36s/it]\n",
      "Training (599 / 18000 Steps) (loss=0.66272): 100%|██████████| 20/20 [00:46<00:00,  2.34s/it]\n",
      "Validate (600 / 10 Steps): 100%|██████████| 7/7 [00:34<00:00,  4.88s/it]5<?, ?it/s]\n",
      "Training (600 / 18000 Steps) (loss=0.59347):   5%|▌         | 1/20 [00:39<12:28, 39.38s/it]"
     ]
    },
    {
     "name": "stdout",
     "output_type": "stream",
     "text": [
      "Model Was Not Saved ! Current Best Avg. Dice: 0.24859178066253662 Current Avg. Dice: 0.2329166680574417 Current Avg. tumor Dice: 0.25690987706184387 Current Avg. lymph Dice: 0.20892350375652313\n"
     ]
    },
    {
     "name": "stderr",
     "output_type": "stream",
     "text": [
      "Training (619 / 18000 Steps) (loss=0.59730): 100%|██████████| 20/20 [01:22<00:00,  4.13s/it]\n",
      "Training (639 / 18000 Steps) (loss=0.55250): 100%|██████████| 20/20 [00:46<00:00,  2.34s/it]\n",
      "Training (659 / 18000 Steps) (loss=0.62447): 100%|██████████| 20/20 [00:47<00:00,  2.37s/it]\n",
      "Training (679 / 18000 Steps) (loss=0.47913): 100%|██████████| 20/20 [00:47<00:00,  2.36s/it]\n",
      "Training (699 / 18000 Steps) (loss=0.57139): 100%|██████████| 20/20 [00:45<00:00,  2.29s/it]\n",
      "Validate (700 / 10 Steps): 100%|██████████| 7/7 [00:34<00:00,  4.98s/it]5<?, ?it/s]\n",
      "Training (700 / 18000 Steps) (loss=0.62985):   5%|▌         | 1/20 [00:41<13:04, 41.26s/it]"
     ]
    },
    {
     "name": "stdout",
     "output_type": "stream",
     "text": [
      "Model Was Saved ! Current Best Avg. Dice: 0.259421169757843 Current Avg. Dice: 0.259421169757843 Current Avg. tumor Dice: 0.25963231921195984 Current Avg. lymph Dice: 0.2592100501060486\n"
     ]
    },
    {
     "name": "stderr",
     "output_type": "stream",
     "text": [
      "Training (719 / 18000 Steps) (loss=0.58282): 100%|██████████| 20/20 [01:23<00:00,  4.15s/it]\n",
      "Training (739 / 18000 Steps) (loss=0.51063): 100%|██████████| 20/20 [00:47<00:00,  2.38s/it]\n",
      "Training (759 / 18000 Steps) (loss=0.65630): 100%|██████████| 20/20 [00:47<00:00,  2.39s/it]\n",
      "Training (779 / 18000 Steps) (loss=0.60363): 100%|██████████| 20/20 [00:48<00:00,  2.40s/it]\n",
      "Training (799 / 18000 Steps) (loss=0.60346): 100%|██████████| 20/20 [00:48<00:00,  2.44s/it]\n",
      "Validate (800 / 10 Steps): 100%|██████████| 7/7 [00:35<00:00,  5.01s/it]4<?, ?it/s]\n",
      "Training (800 / 18000 Steps) (loss=0.64633):   5%|▌         | 1/20 [00:40<12:58, 40.95s/it]"
     ]
    },
    {
     "name": "stdout",
     "output_type": "stream",
     "text": [
      "Model Was Saved ! Current Best Avg. Dice: 0.26712876558303833 Current Avg. Dice: 0.26712876558303833 Current Avg. tumor Dice: 0.3016505241394043 Current Avg. lymph Dice: 0.23260700702667236\n"
     ]
    },
    {
     "name": "stderr",
     "output_type": "stream",
     "text": [
      "Training (819 / 18000 Steps) (loss=0.54520): 100%|██████████| 20/20 [01:23<00:00,  4.20s/it]\n",
      "Training (839 / 18000 Steps) (loss=0.66679): 100%|██████████| 20/20 [00:48<00:00,  2.44s/it]\n",
      "Training (859 / 18000 Steps) (loss=0.60156): 100%|██████████| 20/20 [00:47<00:00,  2.40s/it]\n",
      "Training (879 / 18000 Steps) (loss=0.49301): 100%|██████████| 20/20 [00:48<00:00,  2.42s/it]\n",
      "Training (899 / 18000 Steps) (loss=0.53693): 100%|██████████| 20/20 [00:46<00:00,  2.34s/it]\n",
      "Validate (900 / 10 Steps): 100%|██████████| 7/7 [00:34<00:00,  4.94s/it]5<?, ?it/s]\n",
      "Training (900 / 18000 Steps) (loss=0.42843):   5%|▌         | 1/20 [00:40<12:58, 40.95s/it]"
     ]
    },
    {
     "name": "stdout",
     "output_type": "stream",
     "text": [
      "Model Was Saved ! Current Best Avg. Dice: 0.27506741881370544 Current Avg. Dice: 0.27506741881370544 Current Avg. tumor Dice: 0.29671788215637207 Current Avg. lymph Dice: 0.2534169554710388\n"
     ]
    },
    {
     "name": "stderr",
     "output_type": "stream",
     "text": [
      "Training (919 / 18000 Steps) (loss=0.48471): 100%|██████████| 20/20 [01:22<00:00,  4.11s/it]\n",
      "Training (939 / 18000 Steps) (loss=0.47111): 100%|██████████| 20/20 [00:49<00:00,  2.47s/it]\n",
      "Training (959 / 18000 Steps) (loss=0.69694): 100%|██████████| 20/20 [00:48<00:00,  2.40s/it]\n",
      "Training (979 / 18000 Steps) (loss=0.55542): 100%|██████████| 20/20 [00:48<00:00,  2.40s/it]\n",
      "Training (999 / 18000 Steps) (loss=0.62968): 100%|██████████| 20/20 [00:47<00:00,  2.39s/it]\n",
      "Validate (1000 / 10 Steps): 100%|██████████| 7/7 [00:34<00:00,  4.91s/it]5<?, ?it/s]\n",
      "Training (1000 / 18000 Steps) (loss=0.55377):   5%|▌         | 1/20 [00:40<12:50, 40.54s/it]"
     ]
    },
    {
     "name": "stdout",
     "output_type": "stream",
     "text": [
      "Model Was Saved ! Current Best Avg. Dice: 0.3067786991596222 Current Avg. Dice: 0.3067786991596222 Current Avg. tumor Dice: 0.341310054063797 Current Avg. lymph Dice: 0.2722473740577698\n"
     ]
    },
    {
     "name": "stderr",
     "output_type": "stream",
     "text": [
      "Training (1019 / 18000 Steps) (loss=0.54228): 100%|██████████| 20/20 [01:23<00:00,  4.18s/it]\n",
      "Training (1039 / 18000 Steps) (loss=0.50919): 100%|██████████| 20/20 [00:46<00:00,  2.34s/it]\n",
      "Training (1059 / 18000 Steps) (loss=0.57281): 100%|██████████| 20/20 [00:46<00:00,  2.35s/it]\n",
      "Training (1079 / 18000 Steps) (loss=0.53009): 100%|██████████| 20/20 [00:46<00:00,  2.35s/it]\n",
      "Training (1099 / 18000 Steps) (loss=0.53404): 100%|██████████| 20/20 [00:47<00:00,  2.39s/it]\n",
      "Validate (1100 / 10 Steps): 100%|██████████| 7/7 [00:34<00:00,  4.88s/it]4<?, ?it/s]\n",
      "Training (1100 / 18000 Steps) (loss=0.57372):   5%|▌         | 1/20 [00:39<12:22, 39.10s/it]"
     ]
    },
    {
     "name": "stdout",
     "output_type": "stream",
     "text": [
      "Model Was Not Saved ! Current Best Avg. Dice: 0.3067786991596222 Current Avg. Dice: 0.24434225261211395 Current Avg. tumor Dice: 0.2799988090991974 Current Avg. lymph Dice: 0.2086857110261917\n"
     ]
    },
    {
     "name": "stderr",
     "output_type": "stream",
     "text": [
      "Training (1119 / 18000 Steps) (loss=0.56885): 100%|██████████| 20/20 [01:22<00:00,  4.13s/it]\n",
      "Training (1139 / 18000 Steps) (loss=0.59004): 100%|██████████| 20/20 [00:47<00:00,  2.38s/it]\n",
      "Training (1159 / 18000 Steps) (loss=0.55736): 100%|██████████| 20/20 [00:47<00:00,  2.36s/it]\n",
      "Training (1179 / 18000 Steps) (loss=0.63312): 100%|██████████| 20/20 [00:47<00:00,  2.37s/it]\n",
      "Training (1199 / 18000 Steps) (loss=0.58676): 100%|██████████| 20/20 [00:45<00:00,  2.30s/it]\n",
      "Validate (1200 / 10 Steps): 100%|██████████| 7/7 [00:35<00:00,  5.02s/it]5<?, ?it/s]\n",
      "Training (1200 / 18000 Steps) (loss=0.50173):   5%|▌         | 1/20 [00:40<12:52, 40.68s/it]"
     ]
    },
    {
     "name": "stdout",
     "output_type": "stream",
     "text": [
      "Model Was Not Saved ! Current Best Avg. Dice: 0.3067786991596222 Current Avg. Dice: 0.3002763092517853 Current Avg. tumor Dice: 0.3192940652370453 Current Avg. lymph Dice: 0.28125855326652527\n"
     ]
    },
    {
     "name": "stderr",
     "output_type": "stream",
     "text": [
      "Training (1219 / 18000 Steps) (loss=0.52484): 100%|██████████| 20/20 [01:22<00:00,  4.13s/it]\n",
      "Training (1239 / 18000 Steps) (loss=0.62976): 100%|██████████| 20/20 [00:46<00:00,  2.35s/it]\n",
      "Training (1259 / 18000 Steps) (loss=0.59307): 100%|██████████| 20/20 [00:48<00:00,  2.41s/it]\n",
      "Training (1279 / 18000 Steps) (loss=0.61673): 100%|██████████| 20/20 [00:47<00:00,  2.39s/it]\n",
      "Training (1299 / 18000 Steps) (loss=0.57213): 100%|██████████| 20/20 [00:46<00:00,  2.33s/it]\n",
      "Validate (1300 / 10 Steps): 100%|██████████| 7/7 [00:34<00:00,  4.93s/it]5<?, ?it/s]\n",
      "Training (1300 / 18000 Steps) (loss=0.58371):   5%|▌         | 1/20 [00:40<12:57, 40.94s/it]"
     ]
    },
    {
     "name": "stdout",
     "output_type": "stream",
     "text": [
      "Model Was Saved ! Current Best Avg. Dice: 0.3088553845882416 Current Avg. Dice: 0.3088553845882416 Current Avg. tumor Dice: 0.3397798538208008 Current Avg. lymph Dice: 0.27793100476264954\n"
     ]
    },
    {
     "name": "stderr",
     "output_type": "stream",
     "text": [
      "Training (1319 / 18000 Steps) (loss=0.60390): 100%|██████████| 20/20 [01:22<00:00,  4.11s/it]\n",
      "Training (1339 / 18000 Steps) (loss=0.56291): 100%|██████████| 20/20 [00:46<00:00,  2.34s/it]\n",
      "Training (1359 / 18000 Steps) (loss=0.42317): 100%|██████████| 20/20 [00:47<00:00,  2.37s/it]\n",
      "Training (1379 / 18000 Steps) (loss=0.55900): 100%|██████████| 20/20 [00:47<00:00,  2.35s/it]\n",
      "Training (1399 / 18000 Steps) (loss=0.55031): 100%|██████████| 20/20 [00:45<00:00,  2.30s/it]\n",
      "Validate (1400 / 10 Steps): 100%|██████████| 7/7 [00:35<00:00,  5.01s/it]5<?, ?it/s]\n",
      "Training (1400 / 18000 Steps) (loss=0.58322):   5%|▌         | 1/20 [00:40<12:51, 40.58s/it]"
     ]
    },
    {
     "name": "stdout",
     "output_type": "stream",
     "text": [
      "Model Was Not Saved ! Current Best Avg. Dice: 0.3088553845882416 Current Avg. Dice: 0.3065915107727051 Current Avg. tumor Dice: 0.32784971594810486 Current Avg. lymph Dice: 0.2853333055973053\n"
     ]
    },
    {
     "name": "stderr",
     "output_type": "stream",
     "text": [
      "Training (1419 / 18000 Steps) (loss=0.61753): 100%|██████████| 20/20 [01:23<00:00,  4.16s/it]\n",
      "Training (1439 / 18000 Steps) (loss=0.36443): 100%|██████████| 20/20 [00:47<00:00,  2.36s/it]\n",
      "Training (1459 / 18000 Steps) (loss=0.42728): 100%|██████████| 20/20 [00:46<00:00,  2.33s/it]\n",
      "Training (1479 / 18000 Steps) (loss=0.50687): 100%|██████████| 20/20 [00:46<00:00,  2.32s/it]\n",
      "Training (1499 / 18000 Steps) (loss=0.51954): 100%|██████████| 20/20 [00:48<00:00,  2.40s/it]\n",
      "Validate (1500 / 10 Steps): 100%|██████████| 7/7 [00:35<00:00,  5.03s/it]5<?, ?it/s]\n",
      "Training (1500 / 18000 Steps) (loss=0.52277):   5%|▌         | 1/20 [00:40<12:49, 40.49s/it]"
     ]
    },
    {
     "name": "stdout",
     "output_type": "stream",
     "text": [
      "Model Was Not Saved ! Current Best Avg. Dice: 0.3088553845882416 Current Avg. Dice: 0.3051774799823761 Current Avg. tumor Dice: 0.31109562516212463 Current Avg. lymph Dice: 0.2992594242095947\n"
     ]
    },
    {
     "name": "stderr",
     "output_type": "stream",
     "text": [
      "Training (1519 / 18000 Steps) (loss=0.56010): 100%|██████████| 20/20 [01:22<00:00,  4.10s/it]\n",
      "Training (1539 / 18000 Steps) (loss=0.68100): 100%|██████████| 20/20 [00:47<00:00,  2.38s/it]\n",
      "Training (1559 / 18000 Steps) (loss=0.52600): 100%|██████████| 20/20 [00:47<00:00,  2.35s/it]\n",
      "Training (1579 / 18000 Steps) (loss=0.54340): 100%|██████████| 20/20 [00:46<00:00,  2.31s/it]\n",
      "Training (1599 / 18000 Steps) (loss=0.52520): 100%|██████████| 20/20 [00:48<00:00,  2.40s/it]\n",
      "Validate (1600 / 10 Steps): 100%|██████████| 7/7 [00:34<00:00,  4.94s/it]5<?, ?it/s]\n",
      "Training (1600 / 18000 Steps) (loss=0.53194):   5%|▌         | 1/20 [00:40<12:56, 40.87s/it]"
     ]
    },
    {
     "name": "stdout",
     "output_type": "stream",
     "text": [
      "Model Was Saved ! Current Best Avg. Dice: 0.318899005651474 Current Avg. Dice: 0.318899005651474 Current Avg. tumor Dice: 0.3380509912967682 Current Avg. lymph Dice: 0.2997470498085022\n"
     ]
    },
    {
     "name": "stderr",
     "output_type": "stream",
     "text": [
      "Training (1619 / 18000 Steps) (loss=0.53624): 100%|██████████| 20/20 [01:22<00:00,  4.15s/it]\n",
      "Training (1639 / 18000 Steps) (loss=0.58238): 100%|██████████| 20/20 [00:47<00:00,  2.37s/it]\n",
      "Training (1659 / 18000 Steps) (loss=0.55424): 100%|██████████| 20/20 [00:45<00:00,  2.28s/it]\n",
      "Training (1679 / 18000 Steps) (loss=0.57473): 100%|██████████| 20/20 [00:46<00:00,  2.35s/it]\n",
      "Training (1699 / 18000 Steps) (loss=0.50454): 100%|██████████| 20/20 [00:47<00:00,  2.35s/it]\n",
      "Validate (1700 / 10 Steps): 100%|██████████| 7/7 [00:34<00:00,  4.92s/it]5<?, ?it/s]\n",
      "Training (1700 / 18000 Steps) (loss=0.49175):   5%|▌         | 1/20 [00:40<12:54, 40.77s/it]"
     ]
    },
    {
     "name": "stdout",
     "output_type": "stream",
     "text": [
      "Model Was Saved ! Current Best Avg. Dice: 0.33535557985305786 Current Avg. Dice: 0.33535557985305786 Current Avg. tumor Dice: 0.35723385214805603 Current Avg. lymph Dice: 0.3134773373603821\n"
     ]
    },
    {
     "name": "stderr",
     "output_type": "stream",
     "text": [
      "Training (1719 / 18000 Steps) (loss=0.47764): 100%|██████████| 20/20 [01:22<00:00,  4.14s/it]\n",
      "Training (1739 / 18000 Steps) (loss=0.54883): 100%|██████████| 20/20 [00:47<00:00,  2.37s/it]\n",
      "Training (1759 / 18000 Steps) (loss=0.53365): 100%|██████████| 20/20 [00:45<00:00,  2.27s/it]\n",
      "Training (1779 / 18000 Steps) (loss=0.45509): 100%|██████████| 20/20 [00:47<00:00,  2.36s/it]\n",
      "Training (1799 / 18000 Steps) (loss=0.62283): 100%|██████████| 20/20 [00:45<00:00,  2.29s/it]\n",
      "Validate (1800 / 10 Steps): 100%|██████████| 7/7 [00:34<00:00,  4.90s/it]5<?, ?it/s]\n",
      "Training (1800 / 18000 Steps) (loss=0.62458):   5%|▌         | 1/20 [00:40<12:55, 40.82s/it]"
     ]
    },
    {
     "name": "stdout",
     "output_type": "stream",
     "text": [
      "Model Was Saved ! Current Best Avg. Dice: 0.3481834828853607 Current Avg. Dice: 0.3481834828853607 Current Avg. tumor Dice: 0.3603498637676239 Current Avg. lymph Dice: 0.33601707220077515\n"
     ]
    },
    {
     "name": "stderr",
     "output_type": "stream",
     "text": [
      "Training (1819 / 18000 Steps) (loss=0.57285): 100%|██████████| 20/20 [01:21<00:00,  4.09s/it]\n",
      "Training (1839 / 18000 Steps) (loss=0.41061): 100%|██████████| 20/20 [00:47<00:00,  2.37s/it]\n",
      "Training (1859 / 18000 Steps) (loss=0.42577): 100%|██████████| 20/20 [00:47<00:00,  2.38s/it]\n",
      "Training (1879 / 18000 Steps) (loss=0.64268): 100%|██████████| 20/20 [00:47<00:00,  2.37s/it]\n",
      "Training (1899 / 18000 Steps) (loss=0.58020): 100%|██████████| 20/20 [00:45<00:00,  2.28s/it]\n",
      "Validate (1900 / 10 Steps): 100%|██████████| 7/7 [00:34<00:00,  4.96s/it]5<?, ?it/s]\n",
      "Training (1900 / 18000 Steps) (loss=0.48884):   5%|▌         | 1/20 [00:40<12:45, 40.27s/it]"
     ]
    },
    {
     "name": "stdout",
     "output_type": "stream",
     "text": [
      "Model Was Not Saved ! Current Best Avg. Dice: 0.3481834828853607 Current Avg. Dice: 0.33022692799568176 Current Avg. tumor Dice: 0.3431011736392975 Current Avg. lymph Dice: 0.31735268235206604\n"
     ]
    },
    {
     "name": "stderr",
     "output_type": "stream",
     "text": [
      "Training (1919 / 18000 Steps) (loss=0.55018): 100%|██████████| 20/20 [01:21<00:00,  4.08s/it]\n",
      "Training (1939 / 18000 Steps) (loss=0.50905): 100%|██████████| 20/20 [00:47<00:00,  2.39s/it]\n",
      "Training (1959 / 18000 Steps) (loss=0.42517): 100%|██████████| 20/20 [00:47<00:00,  2.38s/it]\n",
      "Training (1979 / 18000 Steps) (loss=0.46132): 100%|██████████| 20/20 [00:46<00:00,  2.33s/it]\n",
      "Training (1999 / 18000 Steps) (loss=0.59160): 100%|██████████| 20/20 [00:46<00:00,  2.33s/it]\n",
      "Validate (2000 / 10 Steps): 100%|██████████| 7/7 [00:34<00:00,  4.92s/it]5<?, ?it/s]\n",
      "Training (2000 / 18000 Steps) (loss=0.45214):   5%|▌         | 1/20 [00:40<12:40, 40.01s/it]"
     ]
    },
    {
     "name": "stdout",
     "output_type": "stream",
     "text": [
      "Model Was Not Saved ! Current Best Avg. Dice: 0.3481834828853607 Current Avg. Dice: 0.3180754482746124 Current Avg. tumor Dice: 0.36334356665611267 Current Avg. lymph Dice: 0.2728072702884674\n"
     ]
    },
    {
     "name": "stderr",
     "output_type": "stream",
     "text": [
      "Training (2019 / 18000 Steps) (loss=0.58343): 100%|██████████| 20/20 [01:21<00:00,  4.09s/it]\n",
      "Training (2039 / 18000 Steps) (loss=0.40570): 100%|██████████| 20/20 [00:47<00:00,  2.38s/it]\n",
      "Training (2059 / 18000 Steps) (loss=0.52938): 100%|██████████| 20/20 [00:46<00:00,  2.35s/it]\n",
      "Training (2079 / 18000 Steps) (loss=0.67429): 100%|██████████| 20/20 [00:45<00:00,  2.28s/it]\n",
      "Training (2099 / 18000 Steps) (loss=0.44533): 100%|██████████| 20/20 [00:47<00:00,  2.38s/it]\n",
      "Validate (2100 / 10 Steps): 100%|██████████| 7/7 [00:34<00:00,  4.91s/it]5<?, ?it/s]\n",
      "Training (2100 / 18000 Steps) (loss=0.61978):   5%|▌         | 1/20 [00:39<12:38, 39.89s/it]"
     ]
    },
    {
     "name": "stdout",
     "output_type": "stream",
     "text": [
      "Model Was Not Saved ! Current Best Avg. Dice: 0.3481834828853607 Current Avg. Dice: 0.33141109347343445 Current Avg. tumor Dice: 0.33649662137031555 Current Avg. lymph Dice: 0.3263256251811981\n"
     ]
    },
    {
     "name": "stderr",
     "output_type": "stream",
     "text": [
      "Training (2119 / 18000 Steps) (loss=0.53497): 100%|██████████| 20/20 [01:22<00:00,  4.14s/it]\n",
      "Training (2139 / 18000 Steps) (loss=0.44121): 100%|██████████| 20/20 [00:47<00:00,  2.35s/it]\n",
      "Training (2159 / 18000 Steps) (loss=0.56052): 100%|██████████| 20/20 [00:46<00:00,  2.34s/it]\n",
      "Training (2179 / 18000 Steps) (loss=0.49991): 100%|██████████| 20/20 [00:46<00:00,  2.30s/it]\n",
      "Training (2199 / 18000 Steps) (loss=0.41747): 100%|██████████| 20/20 [00:47<00:00,  2.35s/it]\n",
      "Validate (2200 / 10 Steps): 100%|██████████| 7/7 [00:34<00:00,  4.87s/it]5<?, ?it/s]\n",
      "Training (2200 / 18000 Steps) (loss=0.50377):   5%|▌         | 1/20 [00:39<12:32, 39.61s/it]"
     ]
    },
    {
     "name": "stdout",
     "output_type": "stream",
     "text": [
      "Model Was Not Saved ! Current Best Avg. Dice: 0.3481834828853607 Current Avg. Dice: 0.32879266142845154 Current Avg. tumor Dice: 0.34149613976478577 Current Avg. lymph Dice: 0.3160892128944397\n"
     ]
    },
    {
     "name": "stderr",
     "output_type": "stream",
     "text": [
      "Training (2219 / 18000 Steps) (loss=0.56151): 100%|██████████| 20/20 [01:21<00:00,  4.10s/it]\n",
      "Training (2239 / 18000 Steps) (loss=0.59504): 100%|██████████| 20/20 [00:46<00:00,  2.31s/it]\n",
      "Training (2259 / 18000 Steps) (loss=0.39403): 100%|██████████| 20/20 [00:46<00:00,  2.34s/it]\n",
      "Training (2279 / 18000 Steps) (loss=0.46961): 100%|██████████| 20/20 [00:48<00:00,  2.40s/it]\n",
      "Training (2299 / 18000 Steps) (loss=0.62554): 100%|██████████| 20/20 [00:47<00:00,  2.36s/it]\n",
      "Validate (2300 / 10 Steps): 100%|██████████| 7/7 [00:33<00:00,  4.83s/it]5<?, ?it/s]\n",
      "Training (2300 / 18000 Steps) (loss=0.62105):   5%|▌         | 1/20 [00:39<12:25, 39.25s/it]"
     ]
    },
    {
     "name": "stdout",
     "output_type": "stream",
     "text": [
      "Model Was Not Saved ! Current Best Avg. Dice: 0.3481834828853607 Current Avg. Dice: 0.33881500363349915 Current Avg. tumor Dice: 0.3583987057209015 Current Avg. lymph Dice: 0.3192313015460968\n"
     ]
    },
    {
     "name": "stderr",
     "output_type": "stream",
     "text": [
      "Training (2319 / 18000 Steps) (loss=0.54084): 100%|██████████| 20/20 [01:21<00:00,  4.10s/it]\n",
      "Training (2339 / 18000 Steps) (loss=0.49323): 100%|██████████| 20/20 [00:48<00:00,  2.41s/it]\n",
      "Training (2359 / 18000 Steps) (loss=0.60712): 100%|██████████| 20/20 [00:46<00:00,  2.33s/it]\n",
      "Training (2379 / 18000 Steps) (loss=0.42801): 100%|██████████| 20/20 [00:46<00:00,  2.35s/it]\n",
      "Training (2399 / 18000 Steps) (loss=0.42183): 100%|██████████| 20/20 [00:46<00:00,  2.32s/it]\n",
      "Validate (2400 / 10 Steps): 100%|██████████| 7/7 [00:34<00:00,  4.96s/it]5<?, ?it/s]\n",
      "Training (2400 / 18000 Steps) (loss=0.48536):   5%|▌         | 1/20 [00:40<12:52, 40.66s/it]"
     ]
    },
    {
     "name": "stdout",
     "output_type": "stream",
     "text": [
      "Model Was Saved ! Current Best Avg. Dice: 0.34995055198669434 Current Avg. Dice: 0.34995055198669434 Current Avg. tumor Dice: 0.3783228397369385 Current Avg. lymph Dice: 0.3215782642364502\n"
     ]
    },
    {
     "name": "stderr",
     "output_type": "stream",
     "text": [
      "Training (2419 / 18000 Steps) (loss=0.55447): 100%|██████████| 20/20 [01:22<00:00,  4.15s/it]\n",
      "Training (2439 / 18000 Steps) (loss=0.50242): 100%|██████████| 20/20 [00:47<00:00,  2.39s/it]\n",
      "Training (2459 / 18000 Steps) (loss=0.46184): 100%|██████████| 20/20 [00:48<00:00,  2.40s/it]\n",
      "Training (2479 / 18000 Steps) (loss=0.57340): 100%|██████████| 20/20 [00:47<00:00,  2.38s/it]\n",
      "Training (2499 / 18000 Steps) (loss=0.54619): 100%|██████████| 20/20 [00:46<00:00,  2.31s/it]\n",
      "Validate (2500 / 10 Steps): 100%|██████████| 7/7 [00:34<00:00,  4.93s/it]5<?, ?it/s]\n",
      "Training (2500 / 18000 Steps) (loss=0.54053):   5%|▌         | 1/20 [00:41<13:00, 41.08s/it]"
     ]
    },
    {
     "name": "stdout",
     "output_type": "stream",
     "text": [
      "Model Was Saved ! Current Best Avg. Dice: 0.3585819602012634 Current Avg. Dice: 0.3585819602012634 Current Avg. tumor Dice: 0.38403746485710144 Current Avg. lymph Dice: 0.3331264555454254\n"
     ]
    },
    {
     "name": "stderr",
     "output_type": "stream",
     "text": [
      "Training (2519 / 18000 Steps) (loss=0.54000): 100%|██████████| 20/20 [01:22<00:00,  4.14s/it]\n",
      "Training (2539 / 18000 Steps) (loss=0.58195): 100%|██████████| 20/20 [00:46<00:00,  2.34s/it]\n",
      "Training (2559 / 18000 Steps) (loss=0.51061): 100%|██████████| 20/20 [00:47<00:00,  2.37s/it]\n",
      "Training (2579 / 18000 Steps) (loss=0.30407): 100%|██████████| 20/20 [00:46<00:00,  2.35s/it]\n",
      "Training (2599 / 18000 Steps) (loss=0.56231): 100%|██████████| 20/20 [00:45<00:00,  2.30s/it]\n",
      "Validate (2600 / 10 Steps): 100%|██████████| 7/7 [00:34<00:00,  4.93s/it]5<?, ?it/s]\n",
      "Training (2600 / 18000 Steps) (loss=0.53464):   5%|▌         | 1/20 [00:40<12:43, 40.19s/it]"
     ]
    },
    {
     "name": "stdout",
     "output_type": "stream",
     "text": [
      "Model Was Not Saved ! Current Best Avg. Dice: 0.3585819602012634 Current Avg. Dice: 0.35016345977783203 Current Avg. tumor Dice: 0.3817923069000244 Current Avg. lymph Dice: 0.31853458285331726\n"
     ]
    },
    {
     "name": "stderr",
     "output_type": "stream",
     "text": [
      "Training (2619 / 18000 Steps) (loss=0.52928): 100%|██████████| 20/20 [01:21<00:00,  4.06s/it]\n",
      "Training (2639 / 18000 Steps) (loss=0.55901): 100%|██████████| 20/20 [00:48<00:00,  2.41s/it]\n",
      "Training (2659 / 18000 Steps) (loss=0.54654): 100%|██████████| 20/20 [00:47<00:00,  2.36s/it]\n",
      "Training (2679 / 18000 Steps) (loss=0.58043): 100%|██████████| 20/20 [00:48<00:00,  2.41s/it]\n",
      "Training (2699 / 18000 Steps) (loss=0.60512): 100%|██████████| 20/20 [00:46<00:00,  2.35s/it]\n",
      "Validate (2700 / 10 Steps): 100%|██████████| 7/7 [00:34<00:00,  4.98s/it]5<?, ?it/s]\n",
      "Training (2700 / 18000 Steps) (loss=0.56852):   5%|▌         | 1/20 [00:40<12:44, 40.24s/it]"
     ]
    },
    {
     "name": "stdout",
     "output_type": "stream",
     "text": [
      "Model Was Not Saved ! Current Best Avg. Dice: 0.3585819602012634 Current Avg. Dice: 0.35207509994506836 Current Avg. tumor Dice: 0.3928194046020508 Current Avg. lymph Dice: 0.31133079528808594\n"
     ]
    },
    {
     "name": "stderr",
     "output_type": "stream",
     "text": [
      "Training (2719 / 18000 Steps) (loss=0.50757): 100%|██████████| 20/20 [01:22<00:00,  4.14s/it]\n",
      "Training (2739 / 18000 Steps) (loss=0.51880): 100%|██████████| 20/20 [00:48<00:00,  2.41s/it]\n",
      "Training (2759 / 18000 Steps) (loss=0.46227): 100%|██████████| 20/20 [00:46<00:00,  2.31s/it]\n",
      "Training (2779 / 18000 Steps) (loss=0.61854): 100%|██████████| 20/20 [00:47<00:00,  2.36s/it]\n",
      "Training (2799 / 18000 Steps) (loss=0.50461): 100%|██████████| 20/20 [00:47<00:00,  2.39s/it]\n",
      "Validate (2800 / 10 Steps): 100%|██████████| 7/7 [00:33<00:00,  4.83s/it]5<?, ?it/s]\n",
      "Training (2800 / 18000 Steps) (loss=0.53788):   5%|▌         | 1/20 [00:39<12:22, 39.08s/it]"
     ]
    },
    {
     "name": "stdout",
     "output_type": "stream",
     "text": [
      "Model Was Not Saved ! Current Best Avg. Dice: 0.3585819602012634 Current Avg. Dice: 0.335493266582489 Current Avg. tumor Dice: 0.34957578778266907 Current Avg. lymph Dice: 0.3214107155799866\n"
     ]
    },
    {
     "name": "stderr",
     "output_type": "stream",
     "text": [
      "Training (2819 / 18000 Steps) (loss=0.50034): 100%|██████████| 20/20 [01:21<00:00,  4.08s/it]\n",
      "Training (2839 / 18000 Steps) (loss=0.42839): 100%|██████████| 20/20 [00:45<00:00,  2.29s/it]\n",
      "Training (2859 / 18000 Steps) (loss=0.52141): 100%|██████████| 20/20 [00:47<00:00,  2.35s/it]\n",
      "Training (2879 / 18000 Steps) (loss=0.54403): 100%|██████████| 20/20 [00:47<00:00,  2.39s/it]\n",
      "Training (2899 / 18000 Steps) (loss=0.62983): 100%|██████████| 20/20 [00:47<00:00,  2.38s/it]\n",
      "Validate (2900 / 10 Steps): 100%|██████████| 7/7 [00:34<00:00,  4.92s/it]5<?, ?it/s]\n",
      "Training (2900 / 18000 Steps) (loss=0.58701):   5%|▌         | 1/20 [00:39<12:38, 39.92s/it]"
     ]
    },
    {
     "name": "stdout",
     "output_type": "stream",
     "text": [
      "Model Was Not Saved ! Current Best Avg. Dice: 0.3585819602012634 Current Avg. Dice: 0.3279895484447479 Current Avg. tumor Dice: 0.3465384542942047 Current Avg. lymph Dice: 0.30944061279296875\n"
     ]
    },
    {
     "name": "stderr",
     "output_type": "stream",
     "text": [
      "Training (2919 / 18000 Steps) (loss=0.49635): 100%|██████████| 20/20 [01:21<00:00,  4.09s/it]\n",
      "Training (2939 / 18000 Steps) (loss=0.55861): 100%|██████████| 20/20 [00:46<00:00,  2.33s/it]\n",
      "Training (2959 / 18000 Steps) (loss=0.43425): 100%|██████████| 20/20 [00:47<00:00,  2.38s/it]\n",
      "Training (2979 / 18000 Steps) (loss=0.56094): 100%|██████████| 20/20 [00:48<00:00,  2.43s/it]\n",
      "Training (2999 / 18000 Steps) (loss=0.38710): 100%|██████████| 20/20 [00:46<00:00,  2.34s/it]\n",
      "Validate (3000 / 10 Steps): 100%|██████████| 7/7 [00:34<00:00,  4.99s/it]5<?, ?it/s]\n",
      "Training (3000 / 18000 Steps) (loss=0.43324):   5%|▌         | 1/20 [00:40<12:51, 40.62s/it]"
     ]
    },
    {
     "name": "stdout",
     "output_type": "stream",
     "text": [
      "Model Was Not Saved ! Current Best Avg. Dice: 0.3585819602012634 Current Avg. Dice: 0.35060858726501465 Current Avg. tumor Dice: 0.36759570240974426 Current Avg. lymph Dice: 0.33362147212028503\n"
     ]
    },
    {
     "name": "stderr",
     "output_type": "stream",
     "text": [
      "Training (3019 / 18000 Steps) (loss=0.48045): 100%|██████████| 20/20 [01:22<00:00,  4.14s/it]\n",
      "Training (3039 / 18000 Steps) (loss=0.47975): 100%|██████████| 20/20 [00:46<00:00,  2.35s/it]\n",
      "Training (3059 / 18000 Steps) (loss=0.42798): 100%|██████████| 20/20 [00:46<00:00,  2.33s/it]\n",
      "Training (3079 / 18000 Steps) (loss=0.54570): 100%|██████████| 20/20 [00:47<00:00,  2.37s/it]\n",
      "Training (3099 / 18000 Steps) (loss=0.45847): 100%|██████████| 20/20 [00:47<00:00,  2.40s/it]\n",
      "Validate (3100 / 10 Steps): 100%|██████████| 7/7 [00:34<00:00,  4.89s/it]5<?, ?it/s]\n",
      "Training (3100 / 18000 Steps) (loss=0.58907):   5%|▌         | 1/20 [00:40<12:40, 40.02s/it]"
     ]
    },
    {
     "name": "stdout",
     "output_type": "stream",
     "text": [
      "Model Was Not Saved ! Current Best Avg. Dice: 0.3585819602012634 Current Avg. Dice: 0.30596500635147095 Current Avg. tumor Dice: 0.3173227310180664 Current Avg. lymph Dice: 0.29460734128952026\n"
     ]
    },
    {
     "name": "stderr",
     "output_type": "stream",
     "text": [
      "Training (3119 / 18000 Steps) (loss=0.62668): 100%|██████████| 20/20 [01:22<00:00,  4.14s/it]\n",
      "Training (3139 / 18000 Steps) (loss=0.42556): 100%|██████████| 20/20 [00:47<00:00,  2.39s/it]\n",
      "Training (3159 / 18000 Steps) (loss=0.48117): 100%|██████████| 20/20 [00:47<00:00,  2.38s/it]\n",
      "Training (3179 / 18000 Steps) (loss=0.55352): 100%|██████████| 20/20 [00:46<00:00,  2.32s/it]\n",
      "Training (3199 / 18000 Steps) (loss=0.56784): 100%|██████████| 20/20 [00:47<00:00,  2.39s/it]\n",
      "Validate (3200 / 10 Steps): 100%|██████████| 7/7 [00:34<00:00,  4.96s/it]4<?, ?it/s]\n",
      "Training (3200 / 18000 Steps) (loss=0.54832):   5%|▌         | 1/20 [00:40<12:47, 40.40s/it]"
     ]
    },
    {
     "name": "stdout",
     "output_type": "stream",
     "text": [
      "Model Was Saved ! Current Best Avg. Dice: 0.3667718768119812 Current Avg. Dice: 0.3667718768119812 Current Avg. tumor Dice: 0.3951345980167389 Current Avg. lymph Dice: 0.3384091556072235\n"
     ]
    },
    {
     "name": "stderr",
     "output_type": "stream",
     "text": [
      "Training (3219 / 18000 Steps) (loss=0.54416): 100%|██████████| 20/20 [01:22<00:00,  4.11s/it]\n",
      "Training (3239 / 18000 Steps) (loss=0.45672): 100%|██████████| 20/20 [00:48<00:00,  2.41s/it]\n",
      "Training (3259 / 18000 Steps) (loss=0.65424): 100%|██████████| 20/20 [00:48<00:00,  2.41s/it]\n",
      "Training (3279 / 18000 Steps) (loss=0.43019): 100%|██████████| 20/20 [00:48<00:00,  2.41s/it]\n",
      "Training (3299 / 18000 Steps) (loss=0.59530): 100%|██████████| 20/20 [00:46<00:00,  2.33s/it]\n",
      "Validate (3300 / 10 Steps): 100%|██████████| 7/7 [00:34<00:00,  4.94s/it]5<?, ?it/s]\n",
      "Training (3300 / 18000 Steps) (loss=0.36252):   5%|▌         | 1/20 [00:40<12:43, 40.21s/it]"
     ]
    },
    {
     "name": "stdout",
     "output_type": "stream",
     "text": [
      "Model Was Not Saved ! Current Best Avg. Dice: 0.3667718768119812 Current Avg. Dice: 0.35725778341293335 Current Avg. tumor Dice: 0.37868040800094604 Current Avg. lymph Dice: 0.33583518862724304\n"
     ]
    },
    {
     "name": "stderr",
     "output_type": "stream",
     "text": [
      "Training (3319 / 18000 Steps) (loss=0.49596): 100%|██████████| 20/20 [01:21<00:00,  4.07s/it]\n",
      "Training (3339 / 18000 Steps) (loss=0.40008): 100%|██████████| 20/20 [00:47<00:00,  2.37s/it]\n",
      "Training (3359 / 18000 Steps) (loss=0.43345): 100%|██████████| 20/20 [00:46<00:00,  2.35s/it]\n",
      "Training (3379 / 18000 Steps) (loss=0.53765): 100%|██████████| 20/20 [00:47<00:00,  2.37s/it]\n",
      "Training (3399 / 18000 Steps) (loss=0.51786): 100%|██████████| 20/20 [00:48<00:00,  2.43s/it]\n",
      "Validate (3400 / 10 Steps): 100%|██████████| 7/7 [00:34<00:00,  4.91s/it]5<?, ?it/s]\n",
      "Training (3400 / 18000 Steps) (loss=0.51274):   5%|▌         | 1/20 [00:39<12:38, 39.93s/it]"
     ]
    },
    {
     "name": "stdout",
     "output_type": "stream",
     "text": [
      "Model Was Not Saved ! Current Best Avg. Dice: 0.3667718768119812 Current Avg. Dice: 0.3588167130947113 Current Avg. tumor Dice: 0.35651296377182007 Current Avg. lymph Dice: 0.3611204922199249\n"
     ]
    },
    {
     "name": "stderr",
     "output_type": "stream",
     "text": [
      "Training (3419 / 18000 Steps) (loss=0.35893): 100%|██████████| 20/20 [01:23<00:00,  4.16s/it]\n",
      "Training (3439 / 18000 Steps) (loss=0.42276): 100%|██████████| 20/20 [00:47<00:00,  2.38s/it]\n",
      "Training (3459 / 18000 Steps) (loss=0.55166): 100%|██████████| 20/20 [00:48<00:00,  2.43s/it]\n",
      "Training (3479 / 18000 Steps) (loss=0.48520): 100%|██████████| 20/20 [00:47<00:00,  2.38s/it]\n",
      "Training (3499 / 18000 Steps) (loss=0.49745): 100%|██████████| 20/20 [00:47<00:00,  2.38s/it]\n",
      "Validate (3500 / 10 Steps): 100%|██████████| 7/7 [00:35<00:00,  5.09s/it]5<?, ?it/s]\n",
      "Training (3500 / 18000 Steps) (loss=0.49100):   5%|▌         | 1/20 [00:41<13:08, 41.51s/it]"
     ]
    },
    {
     "name": "stdout",
     "output_type": "stream",
     "text": [
      "Model Was Not Saved ! Current Best Avg. Dice: 0.3667718768119812 Current Avg. Dice: 0.353413850069046 Current Avg. tumor Dice: 0.35784152150154114 Current Avg. lymph Dice: 0.3489861488342285\n"
     ]
    },
    {
     "name": "stderr",
     "output_type": "stream",
     "text": [
      "Training (3519 / 18000 Steps) (loss=0.54031): 100%|██████████| 20/20 [01:23<00:00,  4.19s/it]\n",
      "Training (3539 / 18000 Steps) (loss=0.60387): 100%|██████████| 20/20 [00:46<00:00,  2.33s/it]\n",
      "Training (3559 / 18000 Steps) (loss=0.46231): 100%|██████████| 20/20 [00:47<00:00,  2.38s/it]\n",
      "Training (3579 / 18000 Steps) (loss=0.52459): 100%|██████████| 20/20 [00:47<00:00,  2.38s/it]\n",
      "Training (3599 / 18000 Steps) (loss=0.51461): 100%|██████████| 20/20 [00:47<00:00,  2.37s/it]\n",
      "Validate (3600 / 10 Steps): 100%|██████████| 7/7 [00:34<00:00,  4.93s/it]5<?, ?it/s]\n",
      "Training (3600 / 18000 Steps) (loss=0.53535):   5%|▌         | 1/20 [00:39<12:38, 39.92s/it]"
     ]
    },
    {
     "name": "stdout",
     "output_type": "stream",
     "text": [
      "Model Was Not Saved ! Current Best Avg. Dice: 0.3667718768119812 Current Avg. Dice: 0.34038016200065613 Current Avg. tumor Dice: 0.3512789309024811 Current Avg. lymph Dice: 0.32948142290115356\n"
     ]
    },
    {
     "name": "stderr",
     "output_type": "stream",
     "text": [
      "Training (3619 / 18000 Steps) (loss=0.40971): 100%|██████████| 20/20 [01:21<00:00,  4.09s/it]\n",
      "Training (3639 / 18000 Steps) (loss=0.43781): 100%|██████████| 20/20 [00:47<00:00,  2.35s/it]\n",
      "Training (3659 / 18000 Steps) (loss=0.48232): 100%|██████████| 20/20 [00:47<00:00,  2.35s/it]\n",
      "Training (3679 / 18000 Steps) (loss=0.47719): 100%|██████████| 20/20 [00:47<00:00,  2.39s/it]\n",
      "Training (3699 / 18000 Steps) (loss=0.59434): 100%|██████████| 20/20 [00:47<00:00,  2.35s/it]\n",
      "Validate (3700 / 10 Steps): 100%|██████████| 7/7 [00:35<00:00,  5.03s/it]5<?, ?it/s]\n",
      "Training (3700 / 18000 Steps) (loss=0.49457):   5%|▌         | 1/20 [00:40<12:48, 40.47s/it]"
     ]
    },
    {
     "name": "stdout",
     "output_type": "stream",
     "text": [
      "Model Was Not Saved ! Current Best Avg. Dice: 0.3667718768119812 Current Avg. Dice: 0.35687705874443054 Current Avg. tumor Dice: 0.3880314230918884 Current Avg. lymph Dice: 0.32572269439697266\n"
     ]
    },
    {
     "name": "stderr",
     "output_type": "stream",
     "text": [
      "Training (3719 / 18000 Steps) (loss=0.55898): 100%|██████████| 20/20 [01:22<00:00,  4.14s/it]\n",
      "Training (3739 / 18000 Steps) (loss=0.51604): 100%|██████████| 20/20 [00:47<00:00,  2.39s/it]\n",
      "Training (3759 / 18000 Steps) (loss=0.61629): 100%|██████████| 20/20 [00:46<00:00,  2.33s/it]\n",
      "Training (3779 / 18000 Steps) (loss=0.57246): 100%|██████████| 20/20 [00:47<00:00,  2.37s/it]\n",
      "Training (3799 / 18000 Steps) (loss=0.53302): 100%|██████████| 20/20 [00:46<00:00,  2.32s/it]\n",
      "Validate (3800 / 10 Steps): 100%|██████████| 7/7 [00:34<00:00,  4.98s/it]5<?, ?it/s]\n",
      "Training (3800 / 18000 Steps) (loss=0.52360):   5%|▌         | 1/20 [00:40<12:51, 40.61s/it]"
     ]
    },
    {
     "name": "stdout",
     "output_type": "stream",
     "text": [
      "Model Was Not Saved ! Current Best Avg. Dice: 0.3667718768119812 Current Avg. Dice: 0.3337360918521881 Current Avg. tumor Dice: 0.3389129340648651 Current Avg. lymph Dice: 0.32855916023254395\n"
     ]
    },
    {
     "name": "stderr",
     "output_type": "stream",
     "text": [
      "Training (3819 / 18000 Steps) (loss=0.47007): 100%|██████████| 20/20 [01:20<00:00,  4.05s/it]\n",
      "Training (3839 / 18000 Steps) (loss=0.53973): 100%|██████████| 20/20 [00:49<00:00,  2.46s/it]\n",
      "Training (3859 / 18000 Steps) (loss=0.58164): 100%|██████████| 20/20 [00:47<00:00,  2.37s/it]\n",
      "Training (3879 / 18000 Steps) (loss=0.34989): 100%|██████████| 20/20 [00:47<00:00,  2.37s/it]\n",
      "Training (3899 / 18000 Steps) (loss=0.51957): 100%|██████████| 20/20 [00:47<00:00,  2.38s/it]\n",
      "Validate (3900 / 10 Steps): 100%|██████████| 7/7 [00:34<00:00,  4.91s/it]5<?, ?it/s]\n",
      "Training (3900 / 18000 Steps) (loss=0.27828):   5%|▌         | 1/20 [00:40<12:40, 40.01s/it]"
     ]
    },
    {
     "name": "stdout",
     "output_type": "stream",
     "text": [
      "Model Was Not Saved ! Current Best Avg. Dice: 0.3667718768119812 Current Avg. Dice: 0.3541901111602783 Current Avg. tumor Dice: 0.3424246609210968 Current Avg. lymph Dice: 0.36595556139945984\n"
     ]
    },
    {
     "name": "stderr",
     "output_type": "stream",
     "text": [
      "Training (3919 / 18000 Steps) (loss=0.50347): 100%|██████████| 20/20 [01:21<00:00,  4.08s/it]\n",
      "Training (3939 / 18000 Steps) (loss=0.62075): 100%|██████████| 20/20 [00:46<00:00,  2.31s/it]\n",
      "Training (3959 / 18000 Steps) (loss=0.57929): 100%|██████████| 20/20 [00:47<00:00,  2.36s/it]\n",
      "Training (3979 / 18000 Steps) (loss=0.50779): 100%|██████████| 20/20 [00:47<00:00,  2.37s/it]\n",
      "Training (3999 / 18000 Steps) (loss=0.59402): 100%|██████████| 20/20 [00:45<00:00,  2.30s/it]\n",
      "Validate (4000 / 10 Steps): 100%|██████████| 7/7 [00:35<00:00,  5.04s/it]5<?, ?it/s]\n",
      "Training (4000 / 18000 Steps) (loss=0.59848):   5%|▌         | 1/20 [00:41<13:01, 41.13s/it]"
     ]
    },
    {
     "name": "stdout",
     "output_type": "stream",
     "text": [
      "Model Was Not Saved ! Current Best Avg. Dice: 0.3667718768119812 Current Avg. Dice: 0.33566227555274963 Current Avg. tumor Dice: 0.3458247184753418 Current Avg. lymph Dice: 0.32549983263015747\n"
     ]
    },
    {
     "name": "stderr",
     "output_type": "stream",
     "text": [
      "Training (4019 / 18000 Steps) (loss=0.42842): 100%|██████████| 20/20 [01:23<00:00,  4.15s/it]\n",
      "Training (4039 / 18000 Steps) (loss=0.58837): 100%|██████████| 20/20 [00:46<00:00,  2.30s/it]\n",
      "Training (4059 / 18000 Steps) (loss=0.56791): 100%|██████████| 20/20 [00:47<00:00,  2.40s/it]\n",
      "Training (4079 / 18000 Steps) (loss=0.38947): 100%|██████████| 20/20 [00:47<00:00,  2.37s/it]\n",
      "Training (4099 / 18000 Steps) (loss=0.43077): 100%|██████████| 20/20 [00:47<00:00,  2.35s/it]\n",
      "Validate (4100 / 10 Steps): 100%|██████████| 7/7 [00:34<00:00,  4.91s/it]5<?, ?it/s]\n",
      "Training (4100 / 18000 Steps) (loss=0.43524):   5%|▌         | 1/20 [00:40<12:45, 40.28s/it]"
     ]
    },
    {
     "name": "stdout",
     "output_type": "stream",
     "text": [
      "Model Was Not Saved ! Current Best Avg. Dice: 0.3667718768119812 Current Avg. Dice: 0.34338727593421936 Current Avg. tumor Dice: 0.3582833707332611 Current Avg. lymph Dice: 0.3284911513328552\n"
     ]
    },
    {
     "name": "stderr",
     "output_type": "stream",
     "text": [
      "Training (4119 / 18000 Steps) (loss=0.56869): 100%|██████████| 20/20 [01:21<00:00,  4.07s/it]\n",
      "Training (4139 / 18000 Steps) (loss=0.54433): 100%|██████████| 20/20 [00:46<00:00,  2.35s/it]\n",
      "Training (4159 / 18000 Steps) (loss=0.41387): 100%|██████████| 20/20 [00:48<00:00,  2.43s/it]\n",
      "Training (4179 / 18000 Steps) (loss=0.38609): 100%|██████████| 20/20 [00:47<00:00,  2.36s/it]\n",
      "Training (4199 / 18000 Steps) (loss=0.51707): 100%|██████████| 20/20 [00:46<00:00,  2.32s/it]\n",
      "Validate (4200 / 10 Steps): 100%|██████████| 7/7 [00:34<00:00,  4.90s/it]5<?, ?it/s]\n",
      "Training (4200 / 18000 Steps) (loss=0.57957):   5%|▌         | 1/20 [00:40<12:58, 40.97s/it]"
     ]
    },
    {
     "name": "stdout",
     "output_type": "stream",
     "text": [
      "Model Was Saved ! Current Best Avg. Dice: 0.37544578313827515 Current Avg. Dice: 0.37544578313827515 Current Avg. tumor Dice: 0.40530985593795776 Current Avg. lymph Dice: 0.3455817401409149\n"
     ]
    },
    {
     "name": "stderr",
     "output_type": "stream",
     "text": [
      "Training (4219 / 18000 Steps) (loss=0.52585): 100%|██████████| 20/20 [01:21<00:00,  4.06s/it]\n",
      "Training (4239 / 18000 Steps) (loss=0.52565): 100%|██████████| 20/20 [00:47<00:00,  2.38s/it]\n",
      "Training (4259 / 18000 Steps) (loss=0.45593): 100%|██████████| 20/20 [00:48<00:00,  2.40s/it]\n",
      "Training (4279 / 18000 Steps) (loss=0.46495): 100%|██████████| 20/20 [00:47<00:00,  2.36s/it]\n",
      "Training (4299 / 18000 Steps) (loss=0.49169): 100%|██████████| 20/20 [00:47<00:00,  2.39s/it]\n",
      "Validate (4300 / 10 Steps): 100%|██████████| 7/7 [00:35<00:00,  5.06s/it]5<?, ?it/s]\n",
      "Training (4300 / 18000 Steps) (loss=0.54224):   5%|▌         | 1/20 [00:40<12:56, 40.88s/it]"
     ]
    },
    {
     "name": "stdout",
     "output_type": "stream",
     "text": [
      "Model Was Not Saved ! Current Best Avg. Dice: 0.37544578313827515 Current Avg. Dice: 0.36325448751449585 Current Avg. tumor Dice: 0.3934343755245209 Current Avg. lymph Dice: 0.33307456970214844\n"
     ]
    },
    {
     "name": "stderr",
     "output_type": "stream",
     "text": [
      "Training (4319 / 18000 Steps) (loss=0.50728): 100%|██████████| 20/20 [01:22<00:00,  4.10s/it]\n",
      "Training (4339 / 18000 Steps) (loss=0.58962): 100%|██████████| 20/20 [00:46<00:00,  2.32s/it]\n",
      "Training (4359 / 18000 Steps) (loss=0.61708): 100%|██████████| 20/20 [00:46<00:00,  2.34s/it]\n",
      "Training (4379 / 18000 Steps) (loss=0.51843): 100%|██████████| 20/20 [00:47<00:00,  2.37s/it]\n",
      "Training (4399 / 18000 Steps) (loss=0.43599): 100%|██████████| 20/20 [00:47<00:00,  2.37s/it]\n",
      "Validate (4400 / 10 Steps): 100%|██████████| 7/7 [00:34<00:00,  4.97s/it]5<?, ?it/s]\n",
      "Training (4400 / 18000 Steps) (loss=0.49040):   5%|▌         | 1/20 [00:40<12:43, 40.18s/it]"
     ]
    },
    {
     "name": "stdout",
     "output_type": "stream",
     "text": [
      "Model Was Not Saved ! Current Best Avg. Dice: 0.37544578313827515 Current Avg. Dice: 0.3671421408653259 Current Avg. tumor Dice: 0.39478230476379395 Current Avg. lymph Dice: 0.3395020067691803\n"
     ]
    },
    {
     "name": "stderr",
     "output_type": "stream",
     "text": [
      "Training (4419 / 18000 Steps) (loss=0.50931): 100%|██████████| 20/20 [01:21<00:00,  4.08s/it]\n",
      "Training (4439 / 18000 Steps) (loss=0.51769): 100%|██████████| 20/20 [00:45<00:00,  2.30s/it]\n",
      "Training (4459 / 18000 Steps) (loss=0.43417): 100%|██████████| 20/20 [00:46<00:00,  2.34s/it]\n",
      "Training (4479 / 18000 Steps) (loss=0.58069): 100%|██████████| 20/20 [00:47<00:00,  2.36s/it]\n",
      "Training (4499 / 18000 Steps) (loss=0.42981): 100%|██████████| 20/20 [00:46<00:00,  2.30s/it]\n",
      "Validate (4500 / 10 Steps): 100%|██████████| 7/7 [00:34<00:00,  4.90s/it]5<?, ?it/s]\n",
      "Training (4500 / 18000 Steps) (loss=0.50268):   5%|▌         | 1/20 [00:40<12:40, 40.04s/it]"
     ]
    },
    {
     "name": "stdout",
     "output_type": "stream",
     "text": [
      "Model Was Not Saved ! Current Best Avg. Dice: 0.37544578313827515 Current Avg. Dice: 0.35160326957702637 Current Avg. tumor Dice: 0.36418652534484863 Current Avg. lymph Dice: 0.3390199840068817\n"
     ]
    },
    {
     "name": "stderr",
     "output_type": "stream",
     "text": [
      "Training (4519 / 18000 Steps) (loss=0.42207): 100%|██████████| 20/20 [01:20<00:00,  4.05s/it]\n",
      "Training (4539 / 18000 Steps) (loss=0.51948): 100%|██████████| 20/20 [00:47<00:00,  2.39s/it]\n",
      "Training (4559 / 18000 Steps) (loss=0.51608): 100%|██████████| 20/20 [00:48<00:00,  2.40s/it]\n",
      "Training (4579 / 18000 Steps) (loss=0.59684): 100%|██████████| 20/20 [00:47<00:00,  2.39s/it]\n",
      "Training (4599 / 18000 Steps) (loss=0.52731): 100%|██████████| 20/20 [00:47<00:00,  2.39s/it]\n",
      "Validate (4600 / 10 Steps): 100%|██████████| 7/7 [00:34<00:00,  4.91s/it]5<?, ?it/s]\n",
      "Training (4600 / 18000 Steps) (loss=0.44761):   5%|▌         | 1/20 [00:39<12:37, 39.85s/it]"
     ]
    },
    {
     "name": "stdout",
     "output_type": "stream",
     "text": [
      "Model Was Not Saved ! Current Best Avg. Dice: 0.37544578313827515 Current Avg. Dice: 0.36443981528282166 Current Avg. tumor Dice: 0.3578524589538574 Current Avg. lymph Dice: 0.3710271716117859\n"
     ]
    },
    {
     "name": "stderr",
     "output_type": "stream",
     "text": [
      "Training (4619 / 18000 Steps) (loss=0.53053): 100%|██████████| 20/20 [01:21<00:00,  4.10s/it]\n",
      "Training (4639 / 18000 Steps) (loss=0.43538): 100%|██████████| 20/20 [00:46<00:00,  2.32s/it]\n",
      "Training (4659 / 18000 Steps) (loss=0.41463): 100%|██████████| 20/20 [00:46<00:00,  2.34s/it]\n",
      "Training (4679 / 18000 Steps) (loss=0.40608): 100%|██████████| 20/20 [00:48<00:00,  2.45s/it]\n",
      "Training (4699 / 18000 Steps) (loss=0.44278): 100%|██████████| 20/20 [00:47<00:00,  2.39s/it]\n",
      "Validate (4700 / 10 Steps): 100%|██████████| 7/7 [00:33<00:00,  4.86s/it]5<?, ?it/s]\n",
      "Training (4700 / 18000 Steps) (loss=0.38449):   5%|▌         | 1/20 [00:39<12:28, 39.42s/it]"
     ]
    },
    {
     "name": "stdout",
     "output_type": "stream",
     "text": [
      "Model Was Not Saved ! Current Best Avg. Dice: 0.37544578313827515 Current Avg. Dice: 0.3605782091617584 Current Avg. tumor Dice: 0.3860379755496979 Current Avg. lymph Dice: 0.3351183831691742\n"
     ]
    },
    {
     "name": "stderr",
     "output_type": "stream",
     "text": [
      "Training (4719 / 18000 Steps) (loss=0.62577): 100%|██████████| 20/20 [01:22<00:00,  4.10s/it]\n",
      "Training (4739 / 18000 Steps) (loss=0.52153): 100%|██████████| 20/20 [00:47<00:00,  2.38s/it]\n",
      "Training (4759 / 18000 Steps) (loss=0.54501): 100%|██████████| 20/20 [00:47<00:00,  2.36s/it]\n",
      "Training (4779 / 18000 Steps) (loss=0.55172): 100%|██████████| 20/20 [00:46<00:00,  2.31s/it]\n",
      "Training (4799 / 18000 Steps) (loss=0.43465): 100%|██████████| 20/20 [00:46<00:00,  2.34s/it]\n",
      "Validate (4800 / 10 Steps): 100%|██████████| 7/7 [00:36<00:00,  5.24s/it]5<?, ?it/s]\n",
      "Training (4800 / 18000 Steps) (loss=0.60501):   5%|▌         | 1/20 [00:42<13:23, 42.28s/it]"
     ]
    },
    {
     "name": "stdout",
     "output_type": "stream",
     "text": [
      "Model Was Not Saved ! Current Best Avg. Dice: 0.37544578313827515 Current Avg. Dice: 0.33950456976890564 Current Avg. tumor Dice: 0.34727710485458374 Current Avg. lymph Dice: 0.3317320644855499\n"
     ]
    },
    {
     "name": "stderr",
     "output_type": "stream",
     "text": [
      "Training (4819 / 18000 Steps) (loss=0.50319): 100%|██████████| 20/20 [01:24<00:00,  4.21s/it]\n",
      "Training (4839 / 18000 Steps) (loss=0.54400): 100%|██████████| 20/20 [00:47<00:00,  2.38s/it]\n",
      "Training (4859 / 18000 Steps) (loss=0.55621): 100%|██████████| 20/20 [00:48<00:00,  2.41s/it]\n",
      "Training (4879 / 18000 Steps) (loss=0.52050): 100%|██████████| 20/20 [00:47<00:00,  2.39s/it]\n",
      "Training (4899 / 18000 Steps) (loss=0.46141): 100%|██████████| 20/20 [00:48<00:00,  2.42s/it]\n",
      "Validate (4900 / 10 Steps): 100%|██████████| 7/7 [00:34<00:00,  4.88s/it]5<?, ?it/s]\n",
      "Training (4900 / 18000 Steps) (loss=0.52104):   5%|▌         | 1/20 [00:39<12:31, 39.57s/it]"
     ]
    },
    {
     "name": "stdout",
     "output_type": "stream",
     "text": [
      "Model Was Not Saved ! Current Best Avg. Dice: 0.37544578313827515 Current Avg. Dice: 0.3640373647212982 Current Avg. tumor Dice: 0.38348087668418884 Current Avg. lymph Dice: 0.34459391236305237\n"
     ]
    },
    {
     "name": "stderr",
     "output_type": "stream",
     "text": [
      "Training (4919 / 18000 Steps) (loss=0.48874): 100%|██████████| 20/20 [01:21<00:00,  4.09s/it]\n",
      "Training (4939 / 18000 Steps) (loss=0.45499): 100%|██████████| 20/20 [00:47<00:00,  2.37s/it]\n",
      "Training (4959 / 18000 Steps) (loss=0.53094): 100%|██████████| 20/20 [00:47<00:00,  2.36s/it]\n",
      "Training (4979 / 18000 Steps) (loss=0.54526): 100%|██████████| 20/20 [00:48<00:00,  2.42s/it]\n",
      "Training (4999 / 18000 Steps) (loss=0.37807): 100%|██████████| 20/20 [00:47<00:00,  2.36s/it]\n",
      "Validate (5000 / 10 Steps): 100%|██████████| 7/7 [00:34<00:00,  4.94s/it]5<?, ?it/s]\n",
      "Training (5000 / 18000 Steps) (loss=0.52027):   5%|▌         | 1/20 [00:39<12:38, 39.93s/it]"
     ]
    },
    {
     "name": "stdout",
     "output_type": "stream",
     "text": [
      "Model Was Not Saved ! Current Best Avg. Dice: 0.37544578313827515 Current Avg. Dice: 0.3523324429988861 Current Avg. tumor Dice: 0.3458583652973175 Current Avg. lymph Dice: 0.3588065505027771\n"
     ]
    },
    {
     "name": "stderr",
     "output_type": "stream",
     "text": [
      "Training (5019 / 18000 Steps) (loss=0.53351): 100%|██████████| 20/20 [01:22<00:00,  4.11s/it]\n",
      "Training (5039 / 18000 Steps) (loss=0.59029): 100%|██████████| 20/20 [00:48<00:00,  2.42s/it]\n",
      "Training (5059 / 18000 Steps) (loss=0.53394): 100%|██████████| 20/20 [00:47<00:00,  2.38s/it]\n",
      "Training (5079 / 18000 Steps) (loss=0.64185): 100%|██████████| 20/20 [00:47<00:00,  2.37s/it]\n",
      "Training (5099 / 18000 Steps) (loss=0.39623): 100%|██████████| 20/20 [00:46<00:00,  2.32s/it]\n",
      "Validate (5100 / 10 Steps): 100%|██████████| 7/7 [00:34<00:00,  4.95s/it]5<?, ?it/s]\n",
      "Training (5100 / 18000 Steps) (loss=0.45000):   5%|▌         | 1/20 [00:41<13:05, 41.32s/it]"
     ]
    },
    {
     "name": "stdout",
     "output_type": "stream",
     "text": [
      "Model Was Saved ! Current Best Avg. Dice: 0.3771619200706482 Current Avg. Dice: 0.3771619200706482 Current Avg. tumor Dice: 0.374101847410202 Current Avg. lymph Dice: 0.38022199273109436\n"
     ]
    },
    {
     "name": "stderr",
     "output_type": "stream",
     "text": [
      "Training (5119 / 18000 Steps) (loss=0.51374): 100%|██████████| 20/20 [01:22<00:00,  4.15s/it]\n",
      "Training (5139 / 18000 Steps) (loss=0.56553): 100%|██████████| 20/20 [00:47<00:00,  2.35s/it]\n",
      "Training (5159 / 18000 Steps) (loss=0.49595): 100%|██████████| 20/20 [00:48<00:00,  2.42s/it]\n",
      "Training (5179 / 18000 Steps) (loss=0.51292): 100%|██████████| 20/20 [00:47<00:00,  2.38s/it]\n",
      "Training (5199 / 18000 Steps) (loss=0.50826): 100%|██████████| 20/20 [00:46<00:00,  2.32s/it]\n",
      "Validate (5200 / 10 Steps): 100%|██████████| 7/7 [00:34<00:00,  4.90s/it]5<?, ?it/s]\n",
      "Training (5200 / 18000 Steps) (loss=0.41898):   5%|▌         | 1/20 [00:39<12:38, 39.91s/it]"
     ]
    },
    {
     "name": "stdout",
     "output_type": "stream",
     "text": [
      "Model Was Not Saved ! Current Best Avg. Dice: 0.3771619200706482 Current Avg. Dice: 0.36376309394836426 Current Avg. tumor Dice: 0.3796811103820801 Current Avg. lymph Dice: 0.34784507751464844\n"
     ]
    },
    {
     "name": "stderr",
     "output_type": "stream",
     "text": [
      "Training (5219 / 18000 Steps) (loss=0.52535): 100%|██████████| 20/20 [01:20<00:00,  4.02s/it]\n",
      "Training (5239 / 18000 Steps) (loss=0.58328): 100%|██████████| 20/20 [00:47<00:00,  2.38s/it]\n",
      "Training (5259 / 18000 Steps) (loss=0.43959): 100%|██████████| 20/20 [00:47<00:00,  2.36s/it]\n",
      "Training (5279 / 18000 Steps) (loss=0.54292): 100%|██████████| 20/20 [00:46<00:00,  2.30s/it]\n",
      "Training (5299 / 18000 Steps) (loss=0.38913): 100%|██████████| 20/20 [00:45<00:00,  2.29s/it]\n",
      "Validate (5300 / 10 Steps): 100%|██████████| 7/7 [00:34<00:00,  4.96s/it]5<?, ?it/s]\n",
      "Training (5300 / 18000 Steps) (loss=0.53619):   5%|▌         | 1/20 [00:40<12:47, 40.38s/it]"
     ]
    },
    {
     "name": "stdout",
     "output_type": "stream",
     "text": [
      "Model Was Not Saved ! Current Best Avg. Dice: 0.3771619200706482 Current Avg. Dice: 0.3717649281024933 Current Avg. tumor Dice: 0.3833343982696533 Current Avg. lymph Dice: 0.36019548773765564\n"
     ]
    },
    {
     "name": "stderr",
     "output_type": "stream",
     "text": [
      "Training (5319 / 18000 Steps) (loss=0.46574): 100%|██████████| 20/20 [01:22<00:00,  4.13s/it]\n",
      "Training (5339 / 18000 Steps) (loss=0.57797): 100%|██████████| 20/20 [00:46<00:00,  2.34s/it]\n",
      "Training (5359 / 18000 Steps) (loss=0.43832): 100%|██████████| 20/20 [00:46<00:00,  2.30s/it]\n",
      "Training (5379 / 18000 Steps) (loss=0.60608): 100%|██████████| 20/20 [00:47<00:00,  2.37s/it]\n",
      "Training (5399 / 18000 Steps) (loss=0.51722): 100%|██████████| 20/20 [00:47<00:00,  2.36s/it]\n",
      "Validate (5400 / 10 Steps): 100%|██████████| 7/7 [00:34<00:00,  4.99s/it]5<?, ?it/s]\n",
      "Training (5400 / 18000 Steps) (loss=0.42258):   5%|▌         | 1/20 [00:40<12:40, 40.01s/it]"
     ]
    },
    {
     "name": "stdout",
     "output_type": "stream",
     "text": [
      "Model Was Not Saved ! Current Best Avg. Dice: 0.3771619200706482 Current Avg. Dice: 0.37614789605140686 Current Avg. tumor Dice: 0.40567001700401306 Current Avg. lymph Dice: 0.34662580490112305\n"
     ]
    },
    {
     "name": "stderr",
     "output_type": "stream",
     "text": [
      "Training (5419 / 18000 Steps) (loss=0.41163): 100%|██████████| 20/20 [01:21<00:00,  4.08s/it]\n",
      "Training (5439 / 18000 Steps) (loss=0.43372): 100%|██████████| 20/20 [00:46<00:00,  2.33s/it]\n",
      "Training (5459 / 18000 Steps) (loss=0.45515): 100%|██████████| 20/20 [00:47<00:00,  2.38s/it]\n",
      "Training (5479 / 18000 Steps) (loss=0.55278): 100%|██████████| 20/20 [00:45<00:00,  2.29s/it]\n",
      "Training (5499 / 18000 Steps) (loss=0.49395): 100%|██████████| 20/20 [00:46<00:00,  2.30s/it]\n",
      "Validate (5500 / 10 Steps): 100%|██████████| 7/7 [00:35<00:00,  5.04s/it]5<?, ?it/s]\n",
      "Training (5500 / 18000 Steps) (loss=0.44103):   5%|▌         | 1/20 [00:40<12:54, 40.76s/it]"
     ]
    },
    {
     "name": "stdout",
     "output_type": "stream",
     "text": [
      "Model Was Not Saved ! Current Best Avg. Dice: 0.3771619200706482 Current Avg. Dice: 0.3326042592525482 Current Avg. tumor Dice: 0.3255208432674408 Current Avg. lymph Dice: 0.3396877348423004\n"
     ]
    },
    {
     "name": "stderr",
     "output_type": "stream",
     "text": [
      "Training (5519 / 18000 Steps) (loss=0.43853): 100%|██████████| 20/20 [01:22<00:00,  4.10s/it]\n",
      "Training (5539 / 18000 Steps) (loss=0.49290): 100%|██████████| 20/20 [00:47<00:00,  2.37s/it]\n",
      "Training (5559 / 18000 Steps) (loss=0.45016): 100%|██████████| 20/20 [00:47<00:00,  2.35s/it]\n",
      "Training (5579 / 18000 Steps) (loss=0.41710): 100%|██████████| 20/20 [00:45<00:00,  2.27s/it]\n",
      "Training (5599 / 18000 Steps) (loss=0.49915): 100%|██████████| 20/20 [00:46<00:00,  2.34s/it]\n",
      "Validate (5600 / 10 Steps): 100%|██████████| 7/7 [00:35<00:00,  5.00s/it]4<?, ?it/s]\n",
      "Training (5600 / 18000 Steps) (loss=0.46830):   5%|▌         | 1/20 [00:39<12:35, 39.76s/it]"
     ]
    },
    {
     "name": "stdout",
     "output_type": "stream",
     "text": [
      "Model Was Not Saved ! Current Best Avg. Dice: 0.3771619200706482 Current Avg. Dice: 0.35386091470718384 Current Avg. tumor Dice: 0.36051657795906067 Current Avg. lymph Dice: 0.3472052216529846\n"
     ]
    },
    {
     "name": "stderr",
     "output_type": "stream",
     "text": [
      "Training (5619 / 18000 Steps) (loss=0.49220): 100%|██████████| 20/20 [01:21<00:00,  4.07s/it]\n",
      "Training (5639 / 18000 Steps) (loss=0.55564): 100%|██████████| 20/20 [00:47<00:00,  2.38s/it]\n",
      "Training (5659 / 18000 Steps) (loss=0.56456): 100%|██████████| 20/20 [00:47<00:00,  2.36s/it]\n",
      "Training (5679 / 18000 Steps) (loss=0.39621): 100%|██████████| 20/20 [00:46<00:00,  2.31s/it]\n",
      "Training (5699 / 18000 Steps) (loss=0.47600): 100%|██████████| 20/20 [00:47<00:00,  2.37s/it]\n",
      "Validate (5700 / 10 Steps): 100%|██████████| 7/7 [00:34<00:00,  5.00s/it]5<?, ?it/s]\n",
      "Training (5700 / 18000 Steps) (loss=0.41620):   5%|▌         | 1/20 [00:41<13:02, 41.16s/it]"
     ]
    },
    {
     "name": "stdout",
     "output_type": "stream",
     "text": [
      "Model Was Saved ! Current Best Avg. Dice: 0.381279319524765 Current Avg. Dice: 0.381279319524765 Current Avg. tumor Dice: 0.3889448344707489 Current Avg. lymph Dice: 0.3736138343811035\n"
     ]
    },
    {
     "name": "stderr",
     "output_type": "stream",
     "text": [
      "Training (5719 / 18000 Steps) (loss=0.54132): 100%|██████████| 20/20 [01:22<00:00,  4.11s/it]\n",
      "Training (5739 / 18000 Steps) (loss=0.52480): 100%|██████████| 20/20 [00:47<00:00,  2.36s/it]\n",
      "Training (5759 / 18000 Steps) (loss=0.35875): 100%|██████████| 20/20 [00:45<00:00,  2.29s/it]\n",
      "Training (5779 / 18000 Steps) (loss=0.37094): 100%|██████████| 20/20 [00:48<00:00,  2.44s/it]\n",
      "Training (5799 / 18000 Steps) (loss=0.55020): 100%|██████████| 20/20 [00:46<00:00,  2.35s/it]\n",
      "Validate (5800 / 10 Steps): 100%|██████████| 7/7 [00:35<00:00,  5.05s/it]5<?, ?it/s]\n",
      "Training (5800 / 18000 Steps) (loss=0.38314):   5%|▌         | 1/20 [00:40<12:58, 41.00s/it]"
     ]
    },
    {
     "name": "stdout",
     "output_type": "stream",
     "text": [
      "Model Was Not Saved ! Current Best Avg. Dice: 0.381279319524765 Current Avg. Dice: 0.3564198911190033 Current Avg. tumor Dice: 0.3448390066623688 Current Avg. lymph Dice: 0.3680007755756378\n"
     ]
    },
    {
     "name": "stderr",
     "output_type": "stream",
     "text": [
      "Training (5819 / 18000 Steps) (loss=0.48774): 100%|██████████| 20/20 [01:21<00:00,  4.07s/it]\n",
      "Training (5839 / 18000 Steps) (loss=0.59675): 100%|██████████| 20/20 [00:47<00:00,  2.37s/it]\n",
      "Training (5859 / 18000 Steps) (loss=0.47103): 100%|██████████| 20/20 [00:46<00:00,  2.34s/it]\n",
      "Training (5879 / 18000 Steps) (loss=0.59865): 100%|██████████| 20/20 [00:46<00:00,  2.34s/it]\n",
      "Training (5899 / 18000 Steps) (loss=0.48946): 100%|██████████| 20/20 [00:46<00:00,  2.31s/it]\n",
      "Validate (5900 / 10 Steps): 100%|██████████| 7/7 [00:35<00:00,  5.03s/it]5<?, ?it/s]\n",
      "Training (5900 / 18000 Steps) (loss=0.56926):   5%|▌         | 1/20 [00:41<13:00, 41.08s/it]"
     ]
    },
    {
     "name": "stdout",
     "output_type": "stream",
     "text": [
      "Model Was Not Saved ! Current Best Avg. Dice: 0.381279319524765 Current Avg. Dice: 0.3549855649471283 Current Avg. tumor Dice: 0.3389299213886261 Current Avg. lymph Dice: 0.3710411489009857\n"
     ]
    },
    {
     "name": "stderr",
     "output_type": "stream",
     "text": [
      "Training (5919 / 18000 Steps) (loss=0.51202): 100%|██████████| 20/20 [01:22<00:00,  4.10s/it]\n",
      "Training (5939 / 18000 Steps) (loss=0.46441): 100%|██████████| 20/20 [00:46<00:00,  2.34s/it]\n",
      "Training (5959 / 18000 Steps) (loss=0.46895): 100%|██████████| 20/20 [00:47<00:00,  2.38s/it]\n",
      "Training (5979 / 18000 Steps) (loss=0.55662): 100%|██████████| 20/20 [00:46<00:00,  2.35s/it]\n",
      "Training (5999 / 18000 Steps) (loss=0.58243): 100%|██████████| 20/20 [00:47<00:00,  2.36s/it]\n",
      "Validate (6000 / 10 Steps): 100%|██████████| 7/7 [00:34<00:00,  4.91s/it]5<?, ?it/s]\n",
      "Training (6000 / 18000 Steps) (loss=0.44244):   5%|▌         | 1/20 [00:39<12:34, 39.69s/it]"
     ]
    },
    {
     "name": "stdout",
     "output_type": "stream",
     "text": [
      "Model Was Not Saved ! Current Best Avg. Dice: 0.381279319524765 Current Avg. Dice: 0.3688657879829407 Current Avg. tumor Dice: 0.38333067297935486 Current Avg. lymph Dice: 0.3544009327888489\n"
     ]
    },
    {
     "name": "stderr",
     "output_type": "stream",
     "text": [
      "Training (6019 / 18000 Steps) (loss=0.58091): 100%|██████████| 20/20 [01:21<00:00,  4.06s/it]\n",
      "Training (6039 / 18000 Steps) (loss=0.52367): 100%|██████████| 20/20 [00:45<00:00,  2.29s/it]\n",
      "Training (6059 / 18000 Steps) (loss=0.55698): 100%|██████████| 20/20 [00:49<00:00,  2.48s/it]\n",
      "Training (6079 / 18000 Steps) (loss=0.61788): 100%|██████████| 20/20 [00:46<00:00,  2.32s/it]\n",
      "Training (6099 / 18000 Steps) (loss=0.43036): 100%|██████████| 20/20 [00:46<00:00,  2.34s/it]\n",
      "Validate (6100 / 10 Steps): 100%|██████████| 7/7 [00:35<00:00,  5.01s/it]5<?, ?it/s]\n",
      "Training (6100 / 18000 Steps) (loss=0.47629):   5%|▌         | 1/20 [00:40<12:50, 40.57s/it]"
     ]
    },
    {
     "name": "stdout",
     "output_type": "stream",
     "text": [
      "Model Was Not Saved ! Current Best Avg. Dice: 0.381279319524765 Current Avg. Dice: 0.36553335189819336 Current Avg. tumor Dice: 0.38897910714149475 Current Avg. lymph Dice: 0.34208765625953674\n"
     ]
    },
    {
     "name": "stderr",
     "output_type": "stream",
     "text": [
      "Training (6119 / 18000 Steps) (loss=0.42165): 100%|██████████| 20/20 [01:22<00:00,  4.12s/it]\n",
      "Training (6139 / 18000 Steps) (loss=0.58460): 100%|██████████| 20/20 [00:46<00:00,  2.31s/it]\n",
      "Training (6159 / 18000 Steps) (loss=0.55544): 100%|██████████| 20/20 [00:46<00:00,  2.34s/it]\n",
      "Training (6179 / 18000 Steps) (loss=0.56232): 100%|██████████| 20/20 [00:47<00:00,  2.37s/it]\n",
      "Training (6199 / 18000 Steps) (loss=0.50394): 100%|██████████| 20/20 [00:46<00:00,  2.34s/it]\n",
      "Validate (6200 / 10 Steps): 100%|██████████| 7/7 [00:34<00:00,  4.89s/it]5<?, ?it/s]\n",
      "Training (6200 / 18000 Steps) (loss=0.56638):   5%|▌         | 1/20 [00:39<12:31, 39.54s/it]"
     ]
    },
    {
     "name": "stdout",
     "output_type": "stream",
     "text": [
      "Model Was Not Saved ! Current Best Avg. Dice: 0.381279319524765 Current Avg. Dice: 0.3555225431919098 Current Avg. tumor Dice: 0.3529585301876068 Current Avg. lymph Dice: 0.3580865263938904\n"
     ]
    },
    {
     "name": "stderr",
     "output_type": "stream",
     "text": [
      "Training (6219 / 18000 Steps) (loss=0.45116): 100%|██████████| 20/20 [01:21<00:00,  4.09s/it]\n",
      "Training (6239 / 18000 Steps) (loss=0.49946): 100%|██████████| 20/20 [00:47<00:00,  2.36s/it]\n",
      "Training (6259 / 18000 Steps) (loss=0.53249): 100%|██████████| 20/20 [00:45<00:00,  2.28s/it]\n",
      "Training (6279 / 18000 Steps) (loss=0.30150): 100%|██████████| 20/20 [00:47<00:00,  2.36s/it]\n",
      "Training (6299 / 18000 Steps) (loss=0.41086): 100%|██████████| 20/20 [00:47<00:00,  2.38s/it]\n",
      "Validate (6300 / 10 Steps): 100%|██████████| 7/7 [00:35<00:00,  5.04s/it]4<?, ?it/s]\n",
      "Training (6300 / 18000 Steps) (loss=0.39827):   5%|▌         | 1/20 [00:40<12:42, 40.13s/it]"
     ]
    },
    {
     "name": "stdout",
     "output_type": "stream",
     "text": [
      "Model Was Not Saved ! Current Best Avg. Dice: 0.381279319524765 Current Avg. Dice: 0.3492652475833893 Current Avg. tumor Dice: 0.3541300594806671 Current Avg. lymph Dice: 0.34440040588378906\n"
     ]
    },
    {
     "name": "stderr",
     "output_type": "stream",
     "text": [
      "Training (6319 / 18000 Steps) (loss=0.46934): 100%|██████████| 20/20 [01:21<00:00,  4.09s/it]\n",
      "Training (6339 / 18000 Steps) (loss=0.45658): 100%|██████████| 20/20 [00:47<00:00,  2.40s/it]\n",
      "Training (6359 / 18000 Steps) (loss=0.48040): 100%|██████████| 20/20 [00:46<00:00,  2.35s/it]\n",
      "Training (6379 / 18000 Steps) (loss=0.41438): 100%|██████████| 20/20 [00:46<00:00,  2.33s/it]\n",
      "Training (6399 / 18000 Steps) (loss=0.53206): 100%|██████████| 20/20 [00:46<00:00,  2.32s/it]\n",
      "Validate (6400 / 10 Steps): 100%|██████████| 7/7 [00:34<00:00,  5.00s/it]5<?, ?it/s]\n",
      "Training (6400 / 18000 Steps) (loss=0.38123):   5%|▌         | 1/20 [00:40<12:42, 40.12s/it]"
     ]
    },
    {
     "name": "stdout",
     "output_type": "stream",
     "text": [
      "Model Was Not Saved ! Current Best Avg. Dice: 0.381279319524765 Current Avg. Dice: 0.37295860052108765 Current Avg. tumor Dice: 0.387941837310791 Current Avg. lymph Dice: 0.3579753339290619\n"
     ]
    },
    {
     "name": "stderr",
     "output_type": "stream",
     "text": [
      "Training (6419 / 18000 Steps) (loss=0.59807): 100%|██████████| 20/20 [01:21<00:00,  4.07s/it]\n",
      "Training (6439 / 18000 Steps) (loss=0.56536): 100%|██████████| 20/20 [00:46<00:00,  2.33s/it]\n",
      "Training (6459 / 18000 Steps) (loss=0.61960): 100%|██████████| 20/20 [00:46<00:00,  2.31s/it]\n",
      "Training (6479 / 18000 Steps) (loss=0.44511): 100%|██████████| 20/20 [00:45<00:00,  2.30s/it]\n",
      "Training (6499 / 18000 Steps) (loss=0.55795): 100%|██████████| 20/20 [00:47<00:00,  2.37s/it]\n",
      "Validate (6500 / 10 Steps): 100%|██████████| 7/7 [00:35<00:00,  5.12s/it]5<?, ?it/s]\n",
      "Training (6500 / 18000 Steps) (loss=0.54858):   5%|▌         | 1/20 [00:41<13:06, 41.39s/it]"
     ]
    },
    {
     "name": "stdout",
     "output_type": "stream",
     "text": [
      "Model Was Not Saved ! Current Best Avg. Dice: 0.381279319524765 Current Avg. Dice: 0.373781681060791 Current Avg. tumor Dice: 0.3913586139678955 Current Avg. lymph Dice: 0.3562047481536865\n"
     ]
    },
    {
     "name": "stderr",
     "output_type": "stream",
     "text": [
      "Training (6519 / 18000 Steps) (loss=0.60377): 100%|██████████| 20/20 [01:22<00:00,  4.12s/it]\n",
      "Training (6539 / 18000 Steps) (loss=0.39704): 100%|██████████| 20/20 [00:48<00:00,  2.41s/it]\n",
      "Training (6559 / 18000 Steps) (loss=0.50764): 100%|██████████| 20/20 [00:47<00:00,  2.38s/it]\n",
      "Training (6579 / 18000 Steps) (loss=0.62113): 100%|██████████| 20/20 [00:47<00:00,  2.36s/it]\n",
      "Training (6599 / 18000 Steps) (loss=0.53937): 100%|██████████| 20/20 [00:46<00:00,  2.34s/it]\n",
      "Validate (6600 / 10 Steps): 100%|██████████| 7/7 [00:34<00:00,  4.95s/it]5<?, ?it/s]\n",
      "Training (6600 / 18000 Steps) (loss=0.56848):   5%|▌         | 1/20 [00:39<12:37, 39.88s/it]"
     ]
    },
    {
     "name": "stdout",
     "output_type": "stream",
     "text": [
      "Model Was Not Saved ! Current Best Avg. Dice: 0.381279319524765 Current Avg. Dice: 0.3809744715690613 Current Avg. tumor Dice: 0.40206998586654663 Current Avg. lymph Dice: 0.35987892746925354\n"
     ]
    },
    {
     "name": "stderr",
     "output_type": "stream",
     "text": [
      "Training (6619 / 18000 Steps) (loss=0.43104): 100%|██████████| 20/20 [01:21<00:00,  4.08s/it]\n",
      "Training (6639 / 18000 Steps) (loss=0.43671): 100%|██████████| 20/20 [00:47<00:00,  2.37s/it]\n",
      "Training (6659 / 18000 Steps) (loss=0.56475): 100%|██████████| 20/20 [00:46<00:00,  2.32s/it]\n",
      "Training (6679 / 18000 Steps) (loss=0.59245): 100%|██████████| 20/20 [00:47<00:00,  2.36s/it]\n",
      "Training (6699 / 18000 Steps) (loss=0.58977): 100%|██████████| 20/20 [00:47<00:00,  2.38s/it]\n",
      "Validate (6700 / 10 Steps): 100%|██████████| 7/7 [00:34<00:00,  4.89s/it]5<?, ?it/s]\n",
      "Training (6700 / 18000 Steps) (loss=0.45243):   5%|▌         | 1/20 [00:39<12:37, 39.89s/it]"
     ]
    },
    {
     "name": "stdout",
     "output_type": "stream",
     "text": [
      "Model Was Not Saved ! Current Best Avg. Dice: 0.381279319524765 Current Avg. Dice: 0.3701191544532776 Current Avg. tumor Dice: 0.3876494765281677 Current Avg. lymph Dice: 0.35258883237838745\n"
     ]
    },
    {
     "name": "stderr",
     "output_type": "stream",
     "text": [
      "Training (6719 / 18000 Steps) (loss=0.58410): 100%|██████████| 20/20 [01:22<00:00,  4.11s/it]\n",
      "Training (6739 / 18000 Steps) (loss=0.46774): 100%|██████████| 20/20 [00:47<00:00,  2.38s/it]\n",
      "Training (6759 / 18000 Steps) (loss=0.45136): 100%|██████████| 20/20 [00:46<00:00,  2.34s/it]\n",
      "Training (6779 / 18000 Steps) (loss=0.54233): 100%|██████████| 20/20 [00:47<00:00,  2.37s/it]\n",
      "Training (6799 / 18000 Steps) (loss=0.39731): 100%|██████████| 20/20 [00:48<00:00,  2.42s/it]\n",
      "Validate (6800 / 10 Steps): 100%|██████████| 7/7 [00:34<00:00,  4.91s/it]5<?, ?it/s]\n",
      "Training (6800 / 18000 Steps) (loss=0.44825):   5%|▌         | 1/20 [00:40<12:48, 40.46s/it]"
     ]
    },
    {
     "name": "stdout",
     "output_type": "stream",
     "text": [
      "Model Was Saved ! Current Best Avg. Dice: 0.39278751611709595 Current Avg. Dice: 0.39278751611709595 Current Avg. tumor Dice: 0.3974795937538147 Current Avg. lymph Dice: 0.3880954384803772\n"
     ]
    },
    {
     "name": "stderr",
     "output_type": "stream",
     "text": [
      "Training (6819 / 18000 Steps) (loss=0.47565): 100%|██████████| 20/20 [01:22<00:00,  4.13s/it]\n",
      "Training (6839 / 18000 Steps) (loss=0.54542): 100%|██████████| 20/20 [00:47<00:00,  2.39s/it]\n",
      "Training (6859 / 18000 Steps) (loss=0.53237): 100%|██████████| 20/20 [00:45<00:00,  2.28s/it]\n",
      "Training (6879 / 18000 Steps) (loss=0.40246): 100%|██████████| 20/20 [00:46<00:00,  2.33s/it]\n",
      "Training (6899 / 18000 Steps) (loss=0.44622): 100%|██████████| 20/20 [00:47<00:00,  2.38s/it]\n",
      "Validate (6900 / 10 Steps): 100%|██████████| 7/7 [00:34<00:00,  4.92s/it]5<?, ?it/s]\n",
      "Training (6900 / 18000 Steps) (loss=0.43781):   5%|▌         | 1/20 [00:39<12:32, 39.62s/it]"
     ]
    },
    {
     "name": "stdout",
     "output_type": "stream",
     "text": [
      "Model Was Not Saved ! Current Best Avg. Dice: 0.39278751611709595 Current Avg. Dice: 0.39049699902534485 Current Avg. tumor Dice: 0.3971129059791565 Current Avg. lymph Dice: 0.3838810324668884\n"
     ]
    },
    {
     "name": "stderr",
     "output_type": "stream",
     "text": [
      "Training (6919 / 18000 Steps) (loss=0.43344): 100%|██████████| 20/20 [01:21<00:00,  4.06s/it]\n",
      "Training (6939 / 18000 Steps) (loss=0.47440): 100%|██████████| 20/20 [00:46<00:00,  2.34s/it]\n",
      "Training (6959 / 18000 Steps) (loss=0.53041): 100%|██████████| 20/20 [00:45<00:00,  2.28s/it]\n",
      "Training (6979 / 18000 Steps) (loss=0.48980): 100%|██████████| 20/20 [00:47<00:00,  2.37s/it]\n",
      "Training (6999 / 18000 Steps) (loss=0.48818): 100%|██████████| 20/20 [00:48<00:00,  2.41s/it]\n",
      "Validate (7000 / 10 Steps): 100%|██████████| 7/7 [00:34<00:00,  4.95s/it]5<?, ?it/s]\n",
      "Training (7000 / 18000 Steps) (loss=0.38870):   5%|▌         | 1/20 [00:40<12:42, 40.11s/it]"
     ]
    },
    {
     "name": "stdout",
     "output_type": "stream",
     "text": [
      "Model Was Not Saved ! Current Best Avg. Dice: 0.39278751611709595 Current Avg. Dice: 0.367573082447052 Current Avg. tumor Dice: 0.36326709389686584 Current Avg. lymph Dice: 0.37187910079956055\n"
     ]
    },
    {
     "name": "stderr",
     "output_type": "stream",
     "text": [
      "Training (7019 / 18000 Steps) (loss=0.58140): 100%|██████████| 20/20 [01:21<00:00,  4.06s/it]\n",
      "Training (7039 / 18000 Steps) (loss=0.37627): 100%|██████████| 20/20 [00:47<00:00,  2.36s/it]\n",
      "Training (7059 / 18000 Steps) (loss=0.49845): 100%|██████████| 20/20 [00:45<00:00,  2.30s/it]\n",
      "Training (7079 / 18000 Steps) (loss=0.50924): 100%|██████████| 20/20 [00:46<00:00,  2.32s/it]\n",
      "Training (7099 / 18000 Steps) (loss=0.55391): 100%|██████████| 20/20 [00:47<00:00,  2.37s/it]\n",
      "Validate (7100 / 10 Steps): 100%|██████████| 7/7 [00:35<00:00,  5.05s/it]4<?, ?it/s]\n",
      "Training (7100 / 18000 Steps) (loss=0.58355):   5%|▌         | 1/20 [00:40<12:44, 40.22s/it]"
     ]
    },
    {
     "name": "stdout",
     "output_type": "stream",
     "text": [
      "Model Was Not Saved ! Current Best Avg. Dice: 0.39278751611709595 Current Avg. Dice: 0.38974952697753906 Current Avg. tumor Dice: 0.43420523405075073 Current Avg. lymph Dice: 0.34529390931129456\n"
     ]
    },
    {
     "name": "stderr",
     "output_type": "stream",
     "text": [
      "Training (7119 / 18000 Steps) (loss=0.48657): 100%|██████████| 20/20 [01:21<00:00,  4.08s/it]\n",
      "Training (7139 / 18000 Steps) (loss=0.43683): 100%|██████████| 20/20 [00:46<00:00,  2.35s/it]\n",
      "Training (7159 / 18000 Steps) (loss=0.52924): 100%|██████████| 20/20 [00:46<00:00,  2.35s/it]\n",
      "Training (7179 / 18000 Steps) (loss=0.48932): 100%|██████████| 20/20 [00:46<00:00,  2.31s/it]\n",
      "Training (7199 / 18000 Steps) (loss=0.50314): 100%|██████████| 20/20 [00:46<00:00,  2.30s/it]\n",
      "Validate (7200 / 10 Steps): 100%|██████████| 7/7 [00:36<00:00,  5.23s/it]4<?, ?it/s]\n",
      "Training (7200 / 18000 Steps) (loss=0.45318):   5%|▌         | 1/20 [00:41<13:09, 41.53s/it]"
     ]
    },
    {
     "name": "stdout",
     "output_type": "stream",
     "text": [
      "Model Was Not Saved ! Current Best Avg. Dice: 0.39278751611709595 Current Avg. Dice: 0.37455883622169495 Current Avg. tumor Dice: 0.38080018758773804 Current Avg. lymph Dice: 0.36831745505332947\n"
     ]
    },
    {
     "name": "stderr",
     "output_type": "stream",
     "text": [
      "Training (7219 / 18000 Steps) (loss=0.55460): 100%|██████████| 20/20 [01:21<00:00,  4.09s/it]\n",
      "Training (7239 / 18000 Steps) (loss=0.52700): 100%|██████████| 20/20 [00:47<00:00,  2.39s/it]\n",
      "Training (7259 / 18000 Steps) (loss=0.55751): 100%|██████████| 20/20 [00:46<00:00,  2.31s/it]\n",
      "Training (7279 / 18000 Steps) (loss=0.52026): 100%|██████████| 20/20 [00:46<00:00,  2.31s/it]\n",
      "Training (7299 / 18000 Steps) (loss=0.27742): 100%|██████████| 20/20 [00:47<00:00,  2.35s/it]\n",
      "Validate (7300 / 10 Steps): 100%|██████████| 7/7 [00:35<00:00,  5.06s/it]5<?, ?it/s]\n",
      "Training (7300 / 18000 Steps) (loss=0.42254):   5%|▌         | 1/20 [00:40<12:52, 40.67s/it]"
     ]
    },
    {
     "name": "stdout",
     "output_type": "stream",
     "text": [
      "Model Was Not Saved ! Current Best Avg. Dice: 0.39278751611709595 Current Avg. Dice: 0.36488279700279236 Current Avg. tumor Dice: 0.3734138309955597 Current Avg. lymph Dice: 0.35635167360305786\n"
     ]
    },
    {
     "name": "stderr",
     "output_type": "stream",
     "text": [
      "Training (7319 / 18000 Steps) (loss=0.46561): 100%|██████████| 20/20 [01:22<00:00,  4.13s/it]\n",
      "Training (7339 / 18000 Steps) (loss=0.56497): 100%|██████████| 20/20 [00:46<00:00,  2.32s/it]\n",
      "Training (7359 / 18000 Steps) (loss=0.43918): 100%|██████████| 20/20 [00:46<00:00,  2.35s/it]\n",
      "Training (7379 / 18000 Steps) (loss=0.46786): 100%|██████████| 20/20 [00:46<00:00,  2.34s/it]\n",
      "Training (7399 / 18000 Steps) (loss=0.57613): 100%|██████████| 20/20 [00:47<00:00,  2.35s/it]\n",
      "Validate (7400 / 10 Steps): 100%|██████████| 7/7 [00:34<00:00,  4.88s/it]5<?, ?it/s]\n",
      "Training (7400 / 18000 Steps) (loss=0.44583):   5%|▌         | 1/20 [00:39<12:35, 39.77s/it]"
     ]
    },
    {
     "name": "stdout",
     "output_type": "stream",
     "text": [
      "Model Was Not Saved ! Current Best Avg. Dice: 0.39278751611709595 Current Avg. Dice: 0.3623804450035095 Current Avg. tumor Dice: 0.3699658215045929 Current Avg. lymph Dice: 0.35479506850242615\n"
     ]
    },
    {
     "name": "stderr",
     "output_type": "stream",
     "text": [
      "Training (7419 / 18000 Steps) (loss=0.51866): 100%|██████████| 20/20 [01:22<00:00,  4.11s/it]\n",
      "Training (7439 / 18000 Steps) (loss=0.51441): 100%|██████████| 20/20 [00:46<00:00,  2.33s/it]\n",
      "Training (7459 / 18000 Steps) (loss=0.46498): 100%|██████████| 20/20 [00:47<00:00,  2.35s/it]\n",
      "Training (7479 / 18000 Steps) (loss=0.53413): 100%|██████████| 20/20 [00:46<00:00,  2.33s/it]\n",
      "Training (7499 / 18000 Steps) (loss=0.38375): 100%|██████████| 20/20 [00:47<00:00,  2.37s/it]\n",
      "Validate (7500 / 10 Steps): 100%|██████████| 7/7 [00:33<00:00,  4.81s/it]5<?, ?it/s]\n",
      "Training (7500 / 18000 Steps) (loss=0.48267):   5%|▌         | 1/20 [00:40<12:41, 40.08s/it]"
     ]
    },
    {
     "name": "stdout",
     "output_type": "stream",
     "text": [
      "Model Was Saved ! Current Best Avg. Dice: 0.39407873153686523 Current Avg. Dice: 0.39407873153686523 Current Avg. tumor Dice: 0.4122328460216522 Current Avg. lymph Dice: 0.3759245276451111\n"
     ]
    },
    {
     "name": "stderr",
     "output_type": "stream",
     "text": [
      "Training (7519 / 18000 Steps) (loss=0.34882): 100%|██████████| 20/20 [01:22<00:00,  4.12s/it]\n",
      "Training (7539 / 18000 Steps) (loss=0.57341): 100%|██████████| 20/20 [00:47<00:00,  2.38s/it]\n",
      "Training (7559 / 18000 Steps) (loss=0.51160): 100%|██████████| 20/20 [00:47<00:00,  2.38s/it]\n",
      "Training (7579 / 18000 Steps) (loss=0.39778): 100%|██████████| 20/20 [00:47<00:00,  2.38s/it]\n",
      "Training (7599 / 18000 Steps) (loss=0.48325): 100%|██████████| 20/20 [00:47<00:00,  2.36s/it]\n",
      "Validate (7600 / 10 Steps): 100%|██████████| 7/7 [00:34<00:00,  4.88s/it]5<?, ?it/s]\n",
      "Training (7600 / 18000 Steps) (loss=0.46973):   5%|▌         | 1/20 [00:39<12:29, 39.45s/it]"
     ]
    },
    {
     "name": "stdout",
     "output_type": "stream",
     "text": [
      "Model Was Not Saved ! Current Best Avg. Dice: 0.39407873153686523 Current Avg. Dice: 0.3790602385997772 Current Avg. tumor Dice: 0.38597360253334045 Current Avg. lymph Dice: 0.372146874666214\n"
     ]
    },
    {
     "name": "stderr",
     "output_type": "stream",
     "text": [
      "Training (7619 / 18000 Steps) (loss=0.56033): 100%|██████████| 20/20 [01:21<00:00,  4.07s/it]\n",
      "Training (7639 / 18000 Steps) (loss=0.54439): 100%|██████████| 20/20 [00:46<00:00,  2.34s/it]\n",
      "Training (7659 / 18000 Steps) (loss=0.56322): 100%|██████████| 20/20 [00:46<00:00,  2.33s/it]\n",
      "Training (7679 / 18000 Steps) (loss=0.54241): 100%|██████████| 20/20 [00:46<00:00,  2.34s/it]\n",
      "Training (7699 / 18000 Steps) (loss=0.42677): 100%|██████████| 20/20 [00:47<00:00,  2.36s/it]\n",
      "Validate (7700 / 10 Steps): 100%|██████████| 7/7 [00:35<00:00,  5.11s/it]5<?, ?it/s]\n",
      "Training (7700 / 18000 Steps) (loss=0.48724):   5%|▌         | 1/20 [00:41<12:59, 41.01s/it]"
     ]
    },
    {
     "name": "stdout",
     "output_type": "stream",
     "text": [
      "Model Was Not Saved ! Current Best Avg. Dice: 0.39407873153686523 Current Avg. Dice: 0.37389224767684937 Current Avg. tumor Dice: 0.3888496458530426 Current Avg. lymph Dice: 0.3589348793029785\n"
     ]
    },
    {
     "name": "stderr",
     "output_type": "stream",
     "text": [
      "Training (7719 / 18000 Steps) (loss=0.47567): 100%|██████████| 20/20 [01:23<00:00,  4.16s/it]\n",
      "Training (7739 / 18000 Steps) (loss=0.40798): 100%|██████████| 20/20 [00:46<00:00,  2.35s/it]\n",
      "Training (7759 / 18000 Steps) (loss=0.50866): 100%|██████████| 20/20 [00:47<00:00,  2.37s/it]\n",
      "Training (7779 / 18000 Steps) (loss=0.43390): 100%|██████████| 20/20 [00:46<00:00,  2.34s/it]\n",
      "Training (7799 / 18000 Steps) (loss=0.49448): 100%|██████████| 20/20 [00:46<00:00,  2.33s/it]\n",
      "Validate (7800 / 10 Steps): 100%|██████████| 7/7 [00:34<00:00,  4.95s/it]5<?, ?it/s]\n",
      "Training (7800 / 18000 Steps) (loss=0.49628):   5%|▌         | 1/20 [00:40<12:45, 40.30s/it]"
     ]
    },
    {
     "name": "stdout",
     "output_type": "stream",
     "text": [
      "Model Was Not Saved ! Current Best Avg. Dice: 0.39407873153686523 Current Avg. Dice: 0.38642582297325134 Current Avg. tumor Dice: 0.39903751015663147 Current Avg. lymph Dice: 0.3738141655921936\n"
     ]
    },
    {
     "name": "stderr",
     "output_type": "stream",
     "text": [
      "Training (7819 / 18000 Steps) (loss=0.57389): 100%|██████████| 20/20 [01:21<00:00,  4.10s/it]\n",
      "Training (7839 / 18000 Steps) (loss=0.63195): 100%|██████████| 20/20 [00:46<00:00,  2.34s/it]\n",
      "Training (7859 / 18000 Steps) (loss=0.41946): 100%|██████████| 20/20 [00:46<00:00,  2.32s/it]\n",
      "Training (7879 / 18000 Steps) (loss=0.55729): 100%|██████████| 20/20 [00:46<00:00,  2.34s/it]\n",
      "Training (7899 / 18000 Steps) (loss=0.46807): 100%|██████████| 20/20 [00:46<00:00,  2.35s/it]\n",
      "Validate (7900 / 10 Steps): 100%|██████████| 7/7 [00:35<00:00,  5.01s/it]5<?, ?it/s]\n",
      "Training (7900 / 18000 Steps) (loss=0.47465):   5%|▌         | 1/20 [00:40<12:50, 40.53s/it]"
     ]
    },
    {
     "name": "stdout",
     "output_type": "stream",
     "text": [
      "Model Was Not Saved ! Current Best Avg. Dice: 0.39407873153686523 Current Avg. Dice: 0.375073105096817 Current Avg. tumor Dice: 0.415782630443573 Current Avg. lymph Dice: 0.3343636095523834\n"
     ]
    },
    {
     "name": "stderr",
     "output_type": "stream",
     "text": [
      "Training (7919 / 18000 Steps) (loss=0.51973): 100%|██████████| 20/20 [01:22<00:00,  4.11s/it]\n",
      "Training (7939 / 18000 Steps) (loss=0.29189): 100%|██████████| 20/20 [00:46<00:00,  2.33s/it]\n",
      "Training (7959 / 18000 Steps) (loss=0.41398): 100%|██████████| 20/20 [00:47<00:00,  2.36s/it]\n",
      "Training (7979 / 18000 Steps) (loss=0.46353): 100%|██████████| 20/20 [00:47<00:00,  2.36s/it]\n",
      "Training (7999 / 18000 Steps) (loss=0.54370): 100%|██████████| 20/20 [00:46<00:00,  2.34s/it]\n",
      "Validate (8000 / 10 Steps): 100%|██████████| 7/7 [00:33<00:00,  4.85s/it]5<?, ?it/s]\n",
      "Training (8000 / 18000 Steps) (loss=0.54137):   5%|▌         | 1/20 [00:39<12:30, 39.49s/it]"
     ]
    },
    {
     "name": "stdout",
     "output_type": "stream",
     "text": [
      "Model Was Not Saved ! Current Best Avg. Dice: 0.39407873153686523 Current Avg. Dice: 0.3804626762866974 Current Avg. tumor Dice: 0.40943101048469543 Current Avg. lymph Dice: 0.35149431228637695\n"
     ]
    },
    {
     "name": "stderr",
     "output_type": "stream",
     "text": [
      "Training (8019 / 18000 Steps) (loss=0.41441): 100%|██████████| 20/20 [01:21<00:00,  4.08s/it]\n",
      "Training (8039 / 18000 Steps) (loss=0.43895): 100%|██████████| 20/20 [00:46<00:00,  2.32s/it]\n",
      "Training (8059 / 18000 Steps) (loss=0.55327): 100%|██████████| 20/20 [00:46<00:00,  2.35s/it]\n",
      "Training (8079 / 18000 Steps) (loss=0.47225): 100%|██████████| 20/20 [00:47<00:00,  2.37s/it]\n",
      "Training (8099 / 18000 Steps) (loss=0.45201): 100%|██████████| 20/20 [00:46<00:00,  2.31s/it]\n",
      "Validate (8100 / 10 Steps): 100%|██████████| 7/7 [00:35<00:00,  5.02s/it]5<?, ?it/s]\n",
      "Training (8100 / 18000 Steps) (loss=0.64073):   5%|▌         | 1/20 [00:40<12:52, 40.68s/it]"
     ]
    },
    {
     "name": "stdout",
     "output_type": "stream",
     "text": [
      "Model Was Not Saved ! Current Best Avg. Dice: 0.39407873153686523 Current Avg. Dice: 0.3779047429561615 Current Avg. tumor Dice: 0.3938564360141754 Current Avg. lymph Dice: 0.36195310950279236\n"
     ]
    },
    {
     "name": "stderr",
     "output_type": "stream",
     "text": [
      "Training (8119 / 18000 Steps) (loss=0.55241): 100%|██████████| 20/20 [01:22<00:00,  4.12s/it]\n",
      "Training (8139 / 18000 Steps) (loss=0.45276): 100%|██████████| 20/20 [00:46<00:00,  2.33s/it]\n",
      "Training (8159 / 18000 Steps) (loss=0.41874): 100%|██████████| 20/20 [00:47<00:00,  2.38s/it]\n",
      "Training (8179 / 18000 Steps) (loss=0.41950): 100%|██████████| 20/20 [00:46<00:00,  2.33s/it]\n",
      "Training (8199 / 18000 Steps) (loss=0.51745): 100%|██████████| 20/20 [00:47<00:00,  2.36s/it]\n",
      "Validate (8200 / 10 Steps): 100%|██████████| 7/7 [00:34<00:00,  4.91s/it]5<?, ?it/s]\n",
      "Training (8200 / 18000 Steps) (loss=0.47557):   5%|▌         | 1/20 [00:39<12:34, 39.69s/it]"
     ]
    },
    {
     "name": "stdout",
     "output_type": "stream",
     "text": [
      "Model Was Not Saved ! Current Best Avg. Dice: 0.39407873153686523 Current Avg. Dice: 0.37568238377571106 Current Avg. tumor Dice: 0.388841837644577 Current Avg. lymph Dice: 0.36252298951148987\n"
     ]
    },
    {
     "name": "stderr",
     "output_type": "stream",
     "text": [
      "Training (8219 / 18000 Steps) (loss=0.45604): 100%|██████████| 20/20 [01:21<00:00,  4.06s/it]\n",
      "Training (8239 / 18000 Steps) (loss=0.36822): 100%|██████████| 20/20 [00:46<00:00,  2.31s/it]\n",
      "Training (8259 / 18000 Steps) (loss=0.37073): 100%|██████████| 20/20 [00:47<00:00,  2.36s/it]\n",
      "Training (8279 / 18000 Steps) (loss=0.40353): 100%|██████████| 20/20 [00:46<00:00,  2.32s/it]\n",
      "Training (8299 / 18000 Steps) (loss=0.64449): 100%|██████████| 20/20 [00:47<00:00,  2.37s/it]\n",
      "Validate (8300 / 10 Steps): 100%|██████████| 7/7 [00:35<00:00,  5.03s/it]5<?, ?it/s]\n",
      "Training (8300 / 18000 Steps) (loss=0.41839):   5%|▌         | 1/20 [00:40<12:52, 40.64s/it]"
     ]
    },
    {
     "name": "stdout",
     "output_type": "stream",
     "text": [
      "Model Was Not Saved ! Current Best Avg. Dice: 0.39407873153686523 Current Avg. Dice: 0.38820967078208923 Current Avg. tumor Dice: 0.40659597516059875 Current Avg. lymph Dice: 0.36982330679893494\n"
     ]
    },
    {
     "name": "stderr",
     "output_type": "stream",
     "text": [
      "Training (8319 / 18000 Steps) (loss=0.61725): 100%|██████████| 20/20 [01:22<00:00,  4.14s/it]\n",
      "Training (8339 / 18000 Steps) (loss=0.43727): 100%|██████████| 20/20 [00:46<00:00,  2.31s/it]\n",
      "Training (8359 / 18000 Steps) (loss=0.51416): 100%|██████████| 20/20 [00:47<00:00,  2.37s/it]\n",
      "Training (8379 / 18000 Steps) (loss=0.40979): 100%|██████████| 20/20 [00:46<00:00,  2.34s/it]\n",
      "Training (8399 / 18000 Steps) (loss=0.50311): 100%|██████████| 20/20 [00:47<00:00,  2.38s/it]\n",
      "Validate (8400 / 10 Steps): 100%|██████████| 7/7 [00:34<00:00,  4.94s/it]5<?, ?it/s]\n",
      "Training (8400 / 18000 Steps) (loss=0.39357):   5%|▌         | 1/20 [00:39<12:39, 39.96s/it]"
     ]
    },
    {
     "name": "stdout",
     "output_type": "stream",
     "text": [
      "Model Was Not Saved ! Current Best Avg. Dice: 0.39407873153686523 Current Avg. Dice: 0.351483553647995 Current Avg. tumor Dice: 0.3602827489376068 Current Avg. lymph Dice: 0.3426843285560608\n"
     ]
    },
    {
     "name": "stderr",
     "output_type": "stream",
     "text": [
      "Training (8419 / 18000 Steps) (loss=0.46561): 100%|██████████| 20/20 [01:22<00:00,  4.11s/it]\n",
      "Training (8439 / 18000 Steps) (loss=0.44848): 100%|██████████| 20/20 [00:46<00:00,  2.33s/it]\n",
      "Training (8459 / 18000 Steps) (loss=0.49443): 100%|██████████| 20/20 [00:46<00:00,  2.31s/it]\n",
      "Training (8479 / 18000 Steps) (loss=0.61118): 100%|██████████| 20/20 [00:46<00:00,  2.32s/it]\n",
      "Training (8499 / 18000 Steps) (loss=0.45935): 100%|██████████| 20/20 [00:47<00:00,  2.39s/it]\n",
      "Validate (8500 / 10 Steps): 100%|██████████| 7/7 [00:35<00:00,  5.08s/it]4<?, ?it/s]\n",
      "Training (8500 / 18000 Steps) (loss=0.58369):   5%|▌         | 1/20 [00:40<12:50, 40.56s/it]"
     ]
    },
    {
     "name": "stdout",
     "output_type": "stream",
     "text": [
      "Model Was Not Saved ! Current Best Avg. Dice: 0.39407873153686523 Current Avg. Dice: 0.39377203583717346 Current Avg. tumor Dice: 0.4177594482898712 Current Avg. lymph Dice: 0.3697846233844757\n"
     ]
    },
    {
     "name": "stderr",
     "output_type": "stream",
     "text": [
      "Training (8519 / 18000 Steps) (loss=0.45151): 100%|██████████| 20/20 [01:22<00:00,  4.12s/it]\n",
      "Training (8539 / 18000 Steps) (loss=0.36101): 100%|██████████| 20/20 [00:46<00:00,  2.32s/it]\n",
      "Training (8559 / 18000 Steps) (loss=0.52878): 100%|██████████| 20/20 [00:46<00:00,  2.35s/it]\n",
      "Training (8579 / 18000 Steps) (loss=0.47419): 100%|██████████| 20/20 [00:47<00:00,  2.37s/it]\n",
      "Training (8599 / 18000 Steps) (loss=0.51590): 100%|██████████| 20/20 [00:47<00:00,  2.37s/it]\n",
      "Validate (8600 / 10 Steps): 100%|██████████| 7/7 [00:34<00:00,  4.98s/it]5<?, ?it/s]\n",
      "Training (8600 / 18000 Steps) (loss=0.59558):   5%|▌         | 1/20 [00:40<12:48, 40.47s/it]"
     ]
    },
    {
     "name": "stdout",
     "output_type": "stream",
     "text": [
      "Model Was Not Saved ! Current Best Avg. Dice: 0.39407873153686523 Current Avg. Dice: 0.392852783203125 Current Avg. tumor Dice: 0.41842886805534363 Current Avg. lymph Dice: 0.36727675795555115\n"
     ]
    },
    {
     "name": "stderr",
     "output_type": "stream",
     "text": [
      "Training (8619 / 18000 Steps) (loss=0.40928): 100%|██████████| 20/20 [01:22<00:00,  4.14s/it]\n",
      "Training (8639 / 18000 Steps) (loss=0.45037): 100%|██████████| 20/20 [00:46<00:00,  2.34s/it]\n",
      "Training (8659 / 18000 Steps) (loss=0.56247): 100%|██████████| 20/20 [00:47<00:00,  2.39s/it]\n",
      "Training (8679 / 18000 Steps) (loss=0.45781): 100%|██████████| 20/20 [00:46<00:00,  2.33s/it]\n",
      "Training (8699 / 18000 Steps) (loss=0.39839): 100%|██████████| 20/20 [00:46<00:00,  2.30s/it]\n",
      "Validate (8700 / 10 Steps): 100%|██████████| 7/7 [00:34<00:00,  4.89s/it]5<?, ?it/s]\n",
      "Training (8700 / 18000 Steps) (loss=0.33446):   5%|▌         | 1/20 [00:40<12:51, 40.60s/it]"
     ]
    },
    {
     "name": "stdout",
     "output_type": "stream",
     "text": [
      "Model Was Saved ! Current Best Avg. Dice: 0.4031731188297272 Current Avg. Dice: 0.4031731188297272 Current Avg. tumor Dice: 0.4255259037017822 Current Avg. lymph Dice: 0.3808203339576721\n"
     ]
    },
    {
     "name": "stderr",
     "output_type": "stream",
     "text": [
      "Training (8719 / 18000 Steps) (loss=0.36574): 100%|██████████| 20/20 [01:23<00:00,  4.19s/it]\n",
      "Training (8739 / 18000 Steps) (loss=0.51353): 100%|██████████| 20/20 [00:46<00:00,  2.34s/it]\n",
      "Training (8759 / 18000 Steps) (loss=0.45359): 100%|██████████| 20/20 [00:45<00:00,  2.29s/it]\n",
      "Training (8779 / 18000 Steps) (loss=0.52765): 100%|██████████| 20/20 [00:46<00:00,  2.34s/it]\n",
      "Training (8799 / 18000 Steps) (loss=0.50457): 100%|██████████| 20/20 [00:47<00:00,  2.38s/it]\n",
      "Validate (8800 / 10 Steps): 100%|██████████| 7/7 [00:35<00:00,  5.12s/it]5<?, ?it/s]\n",
      "Training (8800 / 18000 Steps) (loss=0.47883):   5%|▌         | 1/20 [00:40<12:58, 40.98s/it]"
     ]
    },
    {
     "name": "stdout",
     "output_type": "stream",
     "text": [
      "Model Was Not Saved ! Current Best Avg. Dice: 0.4031731188297272 Current Avg. Dice: 0.3953031897544861 Current Avg. tumor Dice: 0.4129008650779724 Current Avg. lymph Dice: 0.37770548462867737\n"
     ]
    },
    {
     "name": "stderr",
     "output_type": "stream",
     "text": [
      "Training (8819 / 18000 Steps) (loss=0.52082): 100%|██████████| 20/20 [01:22<00:00,  4.14s/it]\n",
      "Training (8839 / 18000 Steps) (loss=0.50502): 100%|██████████| 20/20 [00:47<00:00,  2.39s/it]\n",
      "Training (8859 / 18000 Steps) (loss=0.61010): 100%|██████████| 20/20 [00:47<00:00,  2.36s/it]\n",
      "Training (8879 / 18000 Steps) (loss=0.44268): 100%|██████████| 20/20 [00:47<00:00,  2.37s/it]\n",
      "Training (8899 / 18000 Steps) (loss=0.42433): 100%|██████████| 20/20 [00:47<00:00,  2.36s/it]\n",
      "Validate (8900 / 10 Steps): 100%|██████████| 7/7 [00:35<00:00,  5.07s/it]4<?, ?it/s]\n",
      "Training (8900 / 18000 Steps) (loss=0.40923):   5%|▌         | 1/20 [00:40<12:47, 40.41s/it]"
     ]
    },
    {
     "name": "stdout",
     "output_type": "stream",
     "text": [
      "Model Was Not Saved ! Current Best Avg. Dice: 0.4031731188297272 Current Avg. Dice: 0.39312824606895447 Current Avg. tumor Dice: 0.40198224782943726 Current Avg. lymph Dice: 0.38427427411079407\n"
     ]
    },
    {
     "name": "stderr",
     "output_type": "stream",
     "text": [
      "Training (8919 / 18000 Steps) (loss=0.62613): 100%|██████████| 20/20 [01:21<00:00,  4.09s/it]\n",
      "Training (8939 / 18000 Steps) (loss=0.43613): 100%|██████████| 20/20 [00:46<00:00,  2.32s/it]\n",
      "Training (8959 / 18000 Steps) (loss=0.42298): 100%|██████████| 20/20 [00:47<00:00,  2.36s/it]\n",
      "Training (8979 / 18000 Steps) (loss=0.47233): 100%|██████████| 20/20 [00:47<00:00,  2.35s/it]\n",
      "Training (8999 / 18000 Steps) (loss=0.54766): 100%|██████████| 20/20 [00:46<00:00,  2.32s/it]\n",
      "Validate (9000 / 10 Steps): 100%|██████████| 7/7 [00:35<00:00,  5.04s/it]4<?, ?it/s]\n",
      "Training (9000 / 18000 Steps) (loss=0.49251):   5%|▌         | 1/20 [00:40<12:40, 40.03s/it]"
     ]
    },
    {
     "name": "stdout",
     "output_type": "stream",
     "text": [
      "Model Was Not Saved ! Current Best Avg. Dice: 0.4031731188297272 Current Avg. Dice: 0.3905493915081024 Current Avg. tumor Dice: 0.4149613380432129 Current Avg. lymph Dice: 0.36613744497299194\n"
     ]
    },
    {
     "name": "stderr",
     "output_type": "stream",
     "text": [
      "Training (9019 / 18000 Steps) (loss=0.54831): 100%|██████████| 20/20 [01:21<00:00,  4.09s/it]\n",
      "Training (9039 / 18000 Steps) (loss=0.46529): 100%|██████████| 20/20 [00:47<00:00,  2.40s/it]\n",
      "Training (9059 / 18000 Steps) (loss=0.39466): 100%|██████████| 20/20 [00:47<00:00,  2.37s/it]\n",
      "Training (9079 / 18000 Steps) (loss=0.48073): 100%|██████████| 20/20 [00:46<00:00,  2.33s/it]\n",
      "Training (9099 / 18000 Steps) (loss=0.40817): 100%|██████████| 20/20 [00:46<00:00,  2.35s/it]\n",
      "Validate (9100 / 10 Steps): 100%|██████████| 7/7 [00:33<00:00,  4.85s/it]5<?, ?it/s]\n",
      "Training (9100 / 18000 Steps) (loss=0.32692):   5%|▌         | 1/20 [00:39<12:22, 39.10s/it]"
     ]
    },
    {
     "name": "stdout",
     "output_type": "stream",
     "text": [
      "Model Was Not Saved ! Current Best Avg. Dice: 0.4031731188297272 Current Avg. Dice: 0.3741031289100647 Current Avg. tumor Dice: 0.38088181614875793 Current Avg. lymph Dice: 0.3673244118690491\n"
     ]
    },
    {
     "name": "stderr",
     "output_type": "stream",
     "text": [
      "Training (9119 / 18000 Steps) (loss=0.36454): 100%|██████████| 20/20 [01:20<00:00,  4.03s/it]\n",
      "Training (9139 / 18000 Steps) (loss=0.42396): 100%|██████████| 20/20 [00:47<00:00,  2.37s/it]\n",
      "Training (9159 / 18000 Steps) (loss=0.47298): 100%|██████████| 20/20 [00:46<00:00,  2.32s/it]\n",
      "Training (9179 / 18000 Steps) (loss=0.30822): 100%|██████████| 20/20 [00:46<00:00,  2.30s/it]\n",
      "Training (9199 / 18000 Steps) (loss=0.49031): 100%|██████████| 20/20 [00:46<00:00,  2.35s/it]\n",
      "Validate (9200 / 10 Steps): 100%|██████████| 7/7 [00:34<00:00,  4.95s/it]5<?, ?it/s]\n",
      "Training (9200 / 18000 Steps) (loss=0.55737):   5%|▌         | 1/20 [00:39<12:37, 39.85s/it]"
     ]
    },
    {
     "name": "stdout",
     "output_type": "stream",
     "text": [
      "Model Was Not Saved ! Current Best Avg. Dice: 0.4031731188297272 Current Avg. Dice: 0.3831784129142761 Current Avg. tumor Dice: 0.4024830758571625 Current Avg. lymph Dice: 0.36387377977371216\n"
     ]
    },
    {
     "name": "stderr",
     "output_type": "stream",
     "text": [
      "Training (9219 / 18000 Steps) (loss=0.43119): 100%|██████████| 20/20 [01:22<00:00,  4.12s/it]\n",
      "Training (9239 / 18000 Steps) (loss=0.44957): 100%|██████████| 20/20 [00:46<00:00,  2.32s/it]\n",
      "Training (9259 / 18000 Steps) (loss=0.46377): 100%|██████████| 20/20 [00:48<00:00,  2.43s/it]\n",
      "Training (9279 / 18000 Steps) (loss=0.46925): 100%|██████████| 20/20 [00:46<00:00,  2.33s/it]\n",
      "Training (9299 / 18000 Steps) (loss=0.38283): 100%|██████████| 20/20 [00:47<00:00,  2.39s/it]\n",
      "Validate (9300 / 10 Steps): 100%|██████████| 7/7 [00:36<00:00,  5.19s/it]5<?, ?it/s]\n",
      "Training (9300 / 18000 Steps) (loss=0.44591):   5%|▌         | 1/20 [00:41<13:14, 41.83s/it]"
     ]
    },
    {
     "name": "stdout",
     "output_type": "stream",
     "text": [
      "Model Was Not Saved ! Current Best Avg. Dice: 0.4031731188297272 Current Avg. Dice: 0.38536936044692993 Current Avg. tumor Dice: 0.3892289102077484 Current Avg. lymph Dice: 0.3815097510814667\n"
     ]
    },
    {
     "name": "stderr",
     "output_type": "stream",
     "text": [
      "Training (9319 / 18000 Steps) (loss=0.41463): 100%|██████████| 20/20 [01:23<00:00,  4.17s/it]\n",
      "Training (9339 / 18000 Steps) (loss=0.57694): 100%|██████████| 20/20 [00:47<00:00,  2.36s/it]\n",
      "Training (9359 / 18000 Steps) (loss=0.29167): 100%|██████████| 20/20 [00:47<00:00,  2.37s/it]\n",
      "Training (9379 / 18000 Steps) (loss=0.50844): 100%|██████████| 20/20 [00:46<00:00,  2.31s/it]\n",
      "Training (9399 / 18000 Steps) (loss=0.47307): 100%|██████████| 20/20 [00:47<00:00,  2.36s/it]\n",
      "Validate (9400 / 10 Steps): 100%|██████████| 7/7 [00:34<00:00,  4.95s/it]5<?, ?it/s]\n",
      "Training (9400 / 18000 Steps) (loss=0.47919):   5%|▌         | 1/20 [00:39<12:37, 39.88s/it]"
     ]
    },
    {
     "name": "stdout",
     "output_type": "stream",
     "text": [
      "Model Was Not Saved ! Current Best Avg. Dice: 0.4031731188297272 Current Avg. Dice: 0.376393586397171 Current Avg. tumor Dice: 0.39118432998657227 Current Avg. lymph Dice: 0.361602783203125\n"
     ]
    },
    {
     "name": "stderr",
     "output_type": "stream",
     "text": [
      "Training (9419 / 18000 Steps) (loss=0.48526): 100%|██████████| 20/20 [01:21<00:00,  4.05s/it]\n",
      "Training (9439 / 18000 Steps) (loss=0.66926): 100%|██████████| 20/20 [00:46<00:00,  2.34s/it]\n",
      "Training (9459 / 18000 Steps) (loss=0.43299): 100%|██████████| 20/20 [00:46<00:00,  2.32s/it]\n",
      "Training (9479 / 18000 Steps) (loss=0.42817): 100%|██████████| 20/20 [00:47<00:00,  2.36s/it]\n",
      "Training (9499 / 18000 Steps) (loss=0.49834): 100%|██████████| 20/20 [00:41<00:00,  2.09s/it]\n",
      "Validate (9500 / 10 Steps): 100%|██████████| 7/7 [00:26<00:00,  3.80s/it]4<?, ?it/s]\n",
      "Training (9500 / 18000 Steps) (loss=0.44884):   5%|▌         | 1/20 [00:31<09:49, 31.04s/it]"
     ]
    },
    {
     "name": "stdout",
     "output_type": "stream",
     "text": [
      "Model Was Not Saved ! Current Best Avg. Dice: 0.4031731188297272 Current Avg. Dice: 0.39580509066581726 Current Avg. tumor Dice: 0.41591161489486694 Current Avg. lymph Dice: 0.3756985664367676\n"
     ]
    },
    {
     "name": "stderr",
     "output_type": "stream",
     "text": [
      "Training (9519 / 18000 Steps) (loss=0.40946): 100%|██████████| 20/20 [01:01<00:00,  3.08s/it]\n",
      "Training (9539 / 18000 Steps) (loss=0.44856): 100%|██████████| 20/20 [00:35<00:00,  1.76s/it]\n",
      "Training (9559 / 18000 Steps) (loss=0.36926): 100%|██████████| 20/20 [00:35<00:00,  1.76s/it]\n",
      "Training (9579 / 18000 Steps) (loss=0.45362): 100%|██████████| 20/20 [00:35<00:00,  1.78s/it]\n",
      "Training (9599 / 18000 Steps) (loss=0.32624): 100%|██████████| 20/20 [00:34<00:00,  1.75s/it]\n",
      "Validate (9600 / 10 Steps): 100%|██████████| 7/7 [00:26<00:00,  3.81s/it]4<?, ?it/s]\n",
      "Training (9600 / 18000 Steps) (loss=0.51251):   5%|▌         | 1/20 [00:31<09:53, 31.24s/it]"
     ]
    },
    {
     "name": "stdout",
     "output_type": "stream",
     "text": [
      "Model Was Not Saved ! Current Best Avg. Dice: 0.4031731188297272 Current Avg. Dice: 0.3825163245201111 Current Avg. tumor Dice: 0.3800051808357239 Current Avg. lymph Dice: 0.38502737879753113\n"
     ]
    },
    {
     "name": "stderr",
     "output_type": "stream",
     "text": [
      "Training (9619 / 18000 Steps) (loss=0.56872): 100%|██████████| 20/20 [01:01<00:00,  3.08s/it]\n",
      "Training (9639 / 18000 Steps) (loss=0.38481): 100%|██████████| 20/20 [00:35<00:00,  1.76s/it]\n",
      "Training (9659 / 18000 Steps) (loss=0.51223): 100%|██████████| 20/20 [00:35<00:00,  1.77s/it]\n",
      "Training (9679 / 18000 Steps) (loss=0.48799): 100%|██████████| 20/20 [00:35<00:00,  1.76s/it]\n",
      "Training (9699 / 18000 Steps) (loss=0.56369): 100%|██████████| 20/20 [00:35<00:00,  1.77s/it]\n",
      "Validate (9700 / 10 Steps): 100%|██████████| 7/7 [00:26<00:00,  3.81s/it]4<?, ?it/s]\n",
      "Training (9700 / 18000 Steps) (loss=0.42462):   5%|▌         | 1/20 [00:31<09:55, 31.35s/it]"
     ]
    },
    {
     "name": "stdout",
     "output_type": "stream",
     "text": [
      "Model Was Not Saved ! Current Best Avg. Dice: 0.4031731188297272 Current Avg. Dice: 0.36394211649894714 Current Avg. tumor Dice: 0.35761648416519165 Current Avg. lymph Dice: 0.3702676594257355\n"
     ]
    },
    {
     "name": "stderr",
     "output_type": "stream",
     "text": [
      "Training (9719 / 18000 Steps) (loss=0.37537): 100%|██████████| 20/20 [01:01<00:00,  3.09s/it]\n",
      "Training (9739 / 18000 Steps) (loss=0.46850): 100%|██████████| 20/20 [00:35<00:00,  1.77s/it]\n",
      "Training (9759 / 18000 Steps) (loss=0.53506): 100%|██████████| 20/20 [00:35<00:00,  1.80s/it]\n",
      "Training (9779 / 18000 Steps) (loss=0.48192): 100%|██████████| 20/20 [00:35<00:00,  1.76s/it]\n",
      "Training (9799 / 18000 Steps) (loss=0.37406): 100%|██████████| 20/20 [00:35<00:00,  1.76s/it]\n",
      "Validate (9800 / 10 Steps): 100%|██████████| 7/7 [00:26<00:00,  3.78s/it]4<?, ?it/s]\n",
      "Training (9800 / 18000 Steps) (loss=0.44740):   5%|▌         | 1/20 [00:30<09:48, 30.99s/it]"
     ]
    },
    {
     "name": "stdout",
     "output_type": "stream",
     "text": [
      "Model Was Not Saved ! Current Best Avg. Dice: 0.4031731188297272 Current Avg. Dice: 0.3714516758918762 Current Avg. tumor Dice: 0.39916855096817017 Current Avg. lymph Dice: 0.3437347710132599\n"
     ]
    },
    {
     "name": "stderr",
     "output_type": "stream",
     "text": [
      "Training (9819 / 18000 Steps) (loss=0.42834): 100%|██████████| 20/20 [01:01<00:00,  3.07s/it]\n",
      "Training (9839 / 18000 Steps) (loss=0.45270): 100%|██████████| 20/20 [00:35<00:00,  1.77s/it]\n",
      "Training (9859 / 18000 Steps) (loss=0.61360): 100%|██████████| 20/20 [00:35<00:00,  1.77s/it]\n",
      "Training (9879 / 18000 Steps) (loss=0.45294): 100%|██████████| 20/20 [00:35<00:00,  1.76s/it]\n",
      "Training (9899 / 18000 Steps) (loss=0.42571): 100%|██████████| 20/20 [00:35<00:00,  1.77s/it]\n",
      "Validate (9900 / 10 Steps): 100%|██████████| 7/7 [00:26<00:00,  3.79s/it]4<?, ?it/s]\n",
      "Training (9900 / 18000 Steps) (loss=0.50622):   5%|▌         | 1/20 [00:32<10:10, 32.14s/it]"
     ]
    },
    {
     "name": "stdout",
     "output_type": "stream",
     "text": [
      "Model Was Saved ! Current Best Avg. Dice: 0.41312047839164734 Current Avg. Dice: 0.41312047839164734 Current Avg. tumor Dice: 0.44680076837539673 Current Avg. lymph Dice: 0.37944021821022034\n"
     ]
    },
    {
     "name": "stderr",
     "output_type": "stream",
     "text": [
      "Training (9919 / 18000 Steps) (loss=0.34561): 100%|██████████| 20/20 [01:02<00:00,  3.13s/it]\n",
      "Training (9939 / 18000 Steps) (loss=0.50538): 100%|██████████| 20/20 [00:35<00:00,  1.77s/it]\n",
      "Training (9959 / 18000 Steps) (loss=0.34528): 100%|██████████| 20/20 [00:35<00:00,  1.76s/it]\n",
      "Training (9979 / 18000 Steps) (loss=0.35879): 100%|██████████| 20/20 [00:35<00:00,  1.77s/it]\n",
      "Training (9999 / 18000 Steps) (loss=0.40690): 100%|██████████| 20/20 [00:35<00:00,  1.75s/it]\n",
      "Validate (10000 / 10 Steps): 100%|██████████| 7/7 [00:26<00:00,  3.77s/it]4<?, ?it/s]\n",
      "Training (10000 / 18000 Steps) (loss=0.43871):   5%|▌         | 1/20 [00:31<09:50, 31.08s/it]"
     ]
    },
    {
     "name": "stdout",
     "output_type": "stream",
     "text": [
      "Model Was Not Saved ! Current Best Avg. Dice: 0.41312047839164734 Current Avg. Dice: 0.37573665380477905 Current Avg. tumor Dice: 0.3745869994163513 Current Avg. lymph Dice: 0.37688636779785156\n"
     ]
    },
    {
     "name": "stderr",
     "output_type": "stream",
     "text": [
      "Training (10019 / 18000 Steps) (loss=0.48743): 100%|██████████| 20/20 [01:01<00:00,  3.08s/it]\n",
      "Training (10039 / 18000 Steps) (loss=0.34437): 100%|██████████| 20/20 [00:35<00:00,  1.76s/it]\n",
      "Training (10059 / 18000 Steps) (loss=0.31582): 100%|██████████| 20/20 [00:34<00:00,  1.75s/it]\n",
      "Training (10079 / 18000 Steps) (loss=0.51993): 100%|██████████| 20/20 [00:35<00:00,  1.77s/it]\n",
      "Training (10099 / 18000 Steps) (loss=0.50081): 100%|██████████| 20/20 [00:35<00:00,  1.77s/it]\n",
      "Validate (10100 / 10 Steps): 100%|██████████| 7/7 [00:26<00:00,  3.79s/it]4<?, ?it/s]\n",
      "Training (10100 / 18000 Steps) (loss=0.49892):   5%|▌         | 1/20 [00:32<10:10, 32.12s/it]"
     ]
    },
    {
     "name": "stdout",
     "output_type": "stream",
     "text": [
      "Model Was Saved ! Current Best Avg. Dice: 0.41385477781295776 Current Avg. Dice: 0.41385477781295776 Current Avg. tumor Dice: 0.4334675371646881 Current Avg. lymph Dice: 0.39424198865890503\n"
     ]
    },
    {
     "name": "stderr",
     "output_type": "stream",
     "text": [
      "Training (10119 / 18000 Steps) (loss=0.49446): 100%|██████████| 20/20 [01:02<00:00,  3.15s/it]\n",
      "Training (10139 / 18000 Steps) (loss=0.29728): 100%|██████████| 20/20 [00:35<00:00,  1.77s/it]\n",
      "Training (10159 / 18000 Steps) (loss=0.46904): 100%|██████████| 20/20 [00:35<00:00,  1.78s/it]\n",
      "Training (10179 / 18000 Steps) (loss=0.42695): 100%|██████████| 20/20 [00:35<00:00,  1.77s/it]\n",
      "Training (10199 / 18000 Steps) (loss=0.30949): 100%|██████████| 20/20 [00:35<00:00,  1.76s/it]\n",
      "Validate (10200 / 10 Steps): 100%|██████████| 7/7 [00:26<00:00,  3.78s/it]4<?, ?it/s]\n",
      "Training (10200 / 18000 Steps) (loss=0.44946):   5%|▌         | 1/20 [00:31<09:56, 31.39s/it]"
     ]
    },
    {
     "name": "stdout",
     "output_type": "stream",
     "text": [
      "Model Was Not Saved ! Current Best Avg. Dice: 0.41385477781295776 Current Avg. Dice: 0.38784509897232056 Current Avg. tumor Dice: 0.40558215975761414 Current Avg. lymph Dice: 0.37010809779167175\n"
     ]
    },
    {
     "name": "stderr",
     "output_type": "stream",
     "text": [
      "Training (10219 / 18000 Steps) (loss=0.33345): 100%|██████████| 20/20 [01:02<00:00,  3.11s/it]\n",
      "Training (10239 / 18000 Steps) (loss=0.51747): 100%|██████████| 20/20 [00:35<00:00,  1.75s/it]\n",
      "Training (10259 / 18000 Steps) (loss=0.40591): 100%|██████████| 20/20 [00:35<00:00,  1.77s/it]\n",
      "Training (10279 / 18000 Steps) (loss=0.48989): 100%|██████████| 20/20 [00:35<00:00,  1.77s/it]\n",
      "Training (10299 / 18000 Steps) (loss=0.27836): 100%|██████████| 20/20 [00:35<00:00,  1.78s/it]\n",
      "Validate (10300 / 10 Steps): 100%|██████████| 7/7 [00:26<00:00,  3.79s/it]4<?, ?it/s]\n",
      "Training (10300 / 18000 Steps) (loss=0.45754):   5%|▌         | 1/20 [00:31<09:49, 31.02s/it]"
     ]
    },
    {
     "name": "stdout",
     "output_type": "stream",
     "text": [
      "Model Was Not Saved ! Current Best Avg. Dice: 0.41385477781295776 Current Avg. Dice: 0.3839051425457001 Current Avg. tumor Dice: 0.38481107354164124 Current Avg. lymph Dice: 0.38299933075904846\n"
     ]
    },
    {
     "name": "stderr",
     "output_type": "stream",
     "text": [
      "Training (10319 / 18000 Steps) (loss=0.52107): 100%|██████████| 20/20 [01:01<00:00,  3.09s/it]\n",
      "Training (10339 / 18000 Steps) (loss=0.43346): 100%|██████████| 20/20 [00:35<00:00,  1.78s/it]\n",
      "Training (10359 / 18000 Steps) (loss=0.39502): 100%|██████████| 20/20 [00:35<00:00,  1.76s/it]\n",
      "Training (10379 / 18000 Steps) (loss=0.36675): 100%|██████████| 20/20 [00:35<00:00,  1.76s/it]\n",
      "Training (10399 / 18000 Steps) (loss=0.55570): 100%|██████████| 20/20 [00:35<00:00,  1.77s/it]\n",
      "Validate (10400 / 10 Steps): 100%|██████████| 7/7 [00:26<00:00,  3.78s/it]4<?, ?it/s]\n",
      "Training (10400 / 18000 Steps) (loss=0.46219):   5%|▌         | 1/20 [00:31<09:50, 31.07s/it]"
     ]
    },
    {
     "name": "stdout",
     "output_type": "stream",
     "text": [
      "Model Was Not Saved ! Current Best Avg. Dice: 0.41385477781295776 Current Avg. Dice: 0.38011783361434937 Current Avg. tumor Dice: 0.3800906538963318 Current Avg. lymph Dice: 0.38014501333236694\n"
     ]
    },
    {
     "name": "stderr",
     "output_type": "stream",
     "text": [
      "Training (10419 / 18000 Steps) (loss=0.33286): 100%|██████████| 20/20 [01:01<00:00,  3.07s/it]\n",
      "Training (10439 / 18000 Steps) (loss=0.43973): 100%|██████████| 20/20 [00:35<00:00,  1.77s/it]\n",
      "Training (10459 / 18000 Steps) (loss=0.55376): 100%|██████████| 20/20 [00:34<00:00,  1.75s/it]\n",
      "Training (10479 / 18000 Steps) (loss=0.50277): 100%|██████████| 20/20 [00:35<00:00,  1.75s/it]\n",
      "Training (10499 / 18000 Steps) (loss=0.53998): 100%|██████████| 20/20 [00:35<00:00,  1.76s/it]\n",
      "Validate (10500 / 10 Steps): 100%|██████████| 7/7 [00:26<00:00,  3.78s/it]4<?, ?it/s]\n",
      "Training (10500 / 18000 Steps) (loss=0.47556):   5%|▌         | 1/20 [00:31<09:49, 31.04s/it]"
     ]
    },
    {
     "name": "stdout",
     "output_type": "stream",
     "text": [
      "Model Was Not Saved ! Current Best Avg. Dice: 0.41385477781295776 Current Avg. Dice: 0.3866216540336609 Current Avg. tumor Dice: 0.39589163661003113 Current Avg. lymph Dice: 0.37735167145729065\n"
     ]
    },
    {
     "name": "stderr",
     "output_type": "stream",
     "text": [
      "Training (10519 / 18000 Steps) (loss=0.49185): 100%|██████████| 20/20 [01:01<00:00,  3.08s/it]\n",
      "Training (10539 / 18000 Steps) (loss=0.37637): 100%|██████████| 20/20 [00:35<00:00,  1.77s/it]\n",
      "Training (10559 / 18000 Steps) (loss=0.47981): 100%|██████████| 20/20 [00:35<00:00,  1.77s/it]\n",
      "Training (10579 / 18000 Steps) (loss=0.36864): 100%|██████████| 20/20 [00:35<00:00,  1.76s/it]\n",
      "Training (10599 / 18000 Steps) (loss=0.33094): 100%|██████████| 20/20 [00:35<00:00,  1.77s/it]\n",
      "Validate (10600 / 10 Steps): 100%|██████████| 7/7 [00:26<00:00,  3.79s/it]4<?, ?it/s]\n",
      "Training (10600 / 18000 Steps) (loss=0.57318):   5%|▌         | 1/20 [00:31<09:53, 31.24s/it]"
     ]
    },
    {
     "name": "stdout",
     "output_type": "stream",
     "text": [
      "Model Was Not Saved ! Current Best Avg. Dice: 0.41385477781295776 Current Avg. Dice: 0.3990247845649719 Current Avg. tumor Dice: 0.4142327308654785 Current Avg. lymph Dice: 0.38381680846214294\n"
     ]
    },
    {
     "name": "stderr",
     "output_type": "stream",
     "text": [
      "Training (10619 / 18000 Steps) (loss=0.37901): 100%|██████████| 20/20 [01:01<00:00,  3.09s/it]\n",
      "Training (10639 / 18000 Steps) (loss=0.40788): 100%|██████████| 20/20 [00:35<00:00,  1.77s/it]\n",
      "Training (10659 / 18000 Steps) (loss=0.36565): 100%|██████████| 20/20 [00:35<00:00,  1.77s/it]\n",
      "Training (10679 / 18000 Steps) (loss=0.41627): 100%|██████████| 20/20 [00:35<00:00,  1.77s/it]\n",
      "Training (10699 / 18000 Steps) (loss=0.42171): 100%|██████████| 20/20 [00:35<00:00,  1.76s/it]\n",
      "Validate (10700 / 10 Steps): 100%|██████████| 7/7 [00:26<00:00,  3.78s/it]4<?, ?it/s]\n",
      "Training (10700 / 18000 Steps) (loss=0.46916):   5%|▌         | 1/20 [00:31<09:49, 31.04s/it]"
     ]
    },
    {
     "name": "stdout",
     "output_type": "stream",
     "text": [
      "Model Was Not Saved ! Current Best Avg. Dice: 0.41385477781295776 Current Avg. Dice: 0.37433579564094543 Current Avg. tumor Dice: 0.385701984167099 Current Avg. lymph Dice: 0.36296963691711426\n"
     ]
    },
    {
     "name": "stderr",
     "output_type": "stream",
     "text": [
      "Training (10719 / 18000 Steps) (loss=0.53998): 100%|██████████| 20/20 [01:01<00:00,  3.08s/it]\n",
      "Training (10739 / 18000 Steps) (loss=0.53542): 100%|██████████| 20/20 [00:35<00:00,  1.78s/it]\n",
      "Training (10759 / 18000 Steps) (loss=0.58055): 100%|██████████| 20/20 [00:35<00:00,  1.77s/it]\n",
      "Training (10779 / 18000 Steps) (loss=0.52455): 100%|██████████| 20/20 [00:35<00:00,  1.79s/it]\n",
      "Training (10799 / 18000 Steps) (loss=0.53110): 100%|██████████| 20/20 [00:35<00:00,  1.76s/it]\n",
      "Validate (10800 / 10 Steps): 100%|██████████| 7/7 [00:26<00:00,  3.81s/it]4<?, ?it/s]\n",
      "Training (10800 / 18000 Steps) (loss=0.40766):   5%|▌         | 1/20 [00:31<09:50, 31.09s/it]"
     ]
    },
    {
     "name": "stdout",
     "output_type": "stream",
     "text": [
      "Model Was Not Saved ! Current Best Avg. Dice: 0.41385477781295776 Current Avg. Dice: 0.4002806842327118 Current Avg. tumor Dice: 0.4175278842449188 Current Avg. lymph Dice: 0.38303342461586\n"
     ]
    },
    {
     "name": "stderr",
     "output_type": "stream",
     "text": [
      "Training (10819 / 18000 Steps) (loss=0.48469): 100%|██████████| 20/20 [01:01<00:00,  3.08s/it]\n",
      "Training (10839 / 18000 Steps) (loss=0.45204): 100%|██████████| 20/20 [00:35<00:00,  1.77s/it]\n",
      "Training (10859 / 18000 Steps) (loss=0.44667): 100%|██████████| 20/20 [00:35<00:00,  1.76s/it]\n",
      "Training (10879 / 18000 Steps) (loss=0.32390): 100%|██████████| 20/20 [00:35<00:00,  1.77s/it]\n",
      "Training (10899 / 18000 Steps) (loss=0.41654): 100%|██████████| 20/20 [00:35<00:00,  1.77s/it]\n",
      "Validate (10900 / 10 Steps): 100%|██████████| 7/7 [00:26<00:00,  3.83s/it]4<?, ?it/s]\n",
      "Training (10900 / 18000 Steps) (loss=0.48232):   5%|▌         | 1/20 [00:31<09:54, 31.30s/it]"
     ]
    },
    {
     "name": "stdout",
     "output_type": "stream",
     "text": [
      "Model Was Not Saved ! Current Best Avg. Dice: 0.41385477781295776 Current Avg. Dice: 0.39838141202926636 Current Avg. tumor Dice: 0.40759992599487305 Current Avg. lymph Dice: 0.3891628682613373\n"
     ]
    },
    {
     "name": "stderr",
     "output_type": "stream",
     "text": [
      "Training (10919 / 18000 Steps) (loss=0.35032): 100%|██████████| 20/20 [01:01<00:00,  3.09s/it]\n",
      "Training (10939 / 18000 Steps) (loss=0.50206): 100%|██████████| 20/20 [00:35<00:00,  1.77s/it]\n",
      "Training (10959 / 18000 Steps) (loss=0.31043): 100%|██████████| 20/20 [00:35<00:00,  1.77s/it]\n",
      "Training (10979 / 18000 Steps) (loss=0.34565): 100%|██████████| 20/20 [00:35<00:00,  1.75s/it]\n",
      "Training (10999 / 18000 Steps) (loss=0.31068): 100%|██████████| 20/20 [00:35<00:00,  1.77s/it]\n",
      "Validate (11000 / 10 Steps): 100%|██████████| 7/7 [00:26<00:00,  3.82s/it]4<?, ?it/s]\n",
      "Training (11000 / 18000 Steps) (loss=0.47461):   5%|▌         | 1/20 [00:31<09:58, 31.50s/it]"
     ]
    },
    {
     "name": "stdout",
     "output_type": "stream",
     "text": [
      "Model Was Not Saved ! Current Best Avg. Dice: 0.41385477781295776 Current Avg. Dice: 0.39240798354148865 Current Avg. tumor Dice: 0.4013225734233856 Current Avg. lymph Dice: 0.38349348306655884\n"
     ]
    },
    {
     "name": "stderr",
     "output_type": "stream",
     "text": [
      "Training (11019 / 18000 Steps) (loss=0.44834): 100%|██████████| 20/20 [01:02<00:00,  3.11s/it]\n",
      "Training (11039 / 18000 Steps) (loss=0.37513): 100%|██████████| 20/20 [00:35<00:00,  1.77s/it]\n",
      "Training (11059 / 18000 Steps) (loss=0.55444): 100%|██████████| 20/20 [00:35<00:00,  1.79s/it]\n",
      "Training (11079 / 18000 Steps) (loss=0.39241): 100%|██████████| 20/20 [00:35<00:00,  1.77s/it]\n",
      "Training (11099 / 18000 Steps) (loss=0.40595): 100%|██████████| 20/20 [00:35<00:00,  1.78s/it]\n",
      "Validate (11100 / 10 Steps): 100%|██████████| 7/7 [00:26<00:00,  3.78s/it]4<?, ?it/s]\n",
      "Training (11100 / 18000 Steps) (loss=0.42325):   5%|▌         | 1/20 [00:31<09:49, 31.00s/it]"
     ]
    },
    {
     "name": "stdout",
     "output_type": "stream",
     "text": [
      "Model Was Not Saved ! Current Best Avg. Dice: 0.41385477781295776 Current Avg. Dice: 0.36508920788764954 Current Avg. tumor Dice: 0.36138033866882324 Current Avg. lymph Dice: 0.36879807710647583\n"
     ]
    },
    {
     "name": "stderr",
     "output_type": "stream",
     "text": [
      "Training (11119 / 18000 Steps) (loss=0.53560): 100%|██████████| 20/20 [01:01<00:00,  3.07s/it]\n",
      "Training (11139 / 18000 Steps) (loss=0.54282): 100%|██████████| 20/20 [00:35<00:00,  1.76s/it]\n",
      "Training (11159 / 18000 Steps) (loss=0.46918): 100%|██████████| 20/20 [00:34<00:00,  1.74s/it]\n",
      "Training (11179 / 18000 Steps) (loss=0.45470): 100%|██████████| 20/20 [00:35<00:00,  1.76s/it]\n",
      "Training (11199 / 18000 Steps) (loss=0.48364): 100%|██████████| 20/20 [00:35<00:00,  1.77s/it]\n",
      "Validate (11200 / 10 Steps): 100%|██████████| 7/7 [00:26<00:00,  3.79s/it]4<?, ?it/s]\n",
      "Training (11200 / 18000 Steps) (loss=0.38417):   5%|▌         | 1/20 [00:30<09:47, 30.92s/it]"
     ]
    },
    {
     "name": "stdout",
     "output_type": "stream",
     "text": [
      "Model Was Not Saved ! Current Best Avg. Dice: 0.41385477781295776 Current Avg. Dice: 0.3697173297405243 Current Avg. tumor Dice: 0.3665774166584015 Current Avg. lymph Dice: 0.3728572428226471\n"
     ]
    },
    {
     "name": "stderr",
     "output_type": "stream",
     "text": [
      "Training (11219 / 18000 Steps) (loss=0.43056): 100%|██████████| 20/20 [01:01<00:00,  3.06s/it]\n",
      "Training (11239 / 18000 Steps) (loss=0.51536): 100%|██████████| 20/20 [00:35<00:00,  1.76s/it]\n",
      "Training (11259 / 18000 Steps) (loss=0.57460): 100%|██████████| 20/20 [00:35<00:00,  1.76s/it]\n",
      "Training (11279 / 18000 Steps) (loss=0.45440): 100%|██████████| 20/20 [00:35<00:00,  1.75s/it]\n",
      "Training (11299 / 18000 Steps) (loss=0.44766): 100%|██████████| 20/20 [00:35<00:00,  1.75s/it]\n",
      "Validate (11300 / 10 Steps): 100%|██████████| 7/7 [00:26<00:00,  3.79s/it]4<?, ?it/s]\n",
      "Training (11300 / 18000 Steps) (loss=0.53817):   5%|▌         | 1/20 [00:31<09:51, 31.16s/it]"
     ]
    },
    {
     "name": "stdout",
     "output_type": "stream",
     "text": [
      "Model Was Not Saved ! Current Best Avg. Dice: 0.41385477781295776 Current Avg. Dice: 0.3881224989891052 Current Avg. tumor Dice: 0.3890928626060486 Current Avg. lymph Dice: 0.3871521055698395\n"
     ]
    },
    {
     "name": "stderr",
     "output_type": "stream",
     "text": [
      "Training (11319 / 18000 Steps) (loss=0.42509): 100%|██████████| 20/20 [01:01<00:00,  3.08s/it]\n",
      "Training (11339 / 18000 Steps) (loss=0.56608): 100%|██████████| 20/20 [00:35<00:00,  1.76s/it]\n",
      "Training (11359 / 18000 Steps) (loss=0.47410): 100%|██████████| 20/20 [00:35<00:00,  1.76s/it]\n",
      "Training (11379 / 18000 Steps) (loss=0.37842): 100%|██████████| 20/20 [00:35<00:00,  1.75s/it]\n",
      "Training (11399 / 18000 Steps) (loss=0.49304): 100%|██████████| 20/20 [00:35<00:00,  1.75s/it]\n",
      "Validate (11400 / 10 Steps): 100%|██████████| 7/7 [00:26<00:00,  3.80s/it]4<?, ?it/s]\n",
      "Training (11400 / 18000 Steps) (loss=0.39257):   5%|▌         | 1/20 [00:31<09:50, 31.07s/it]"
     ]
    },
    {
     "name": "stdout",
     "output_type": "stream",
     "text": [
      "Model Was Not Saved ! Current Best Avg. Dice: 0.41385477781295776 Current Avg. Dice: 0.37456682324409485 Current Avg. tumor Dice: 0.36817115545272827 Current Avg. lymph Dice: 0.3809625506401062\n"
     ]
    },
    {
     "name": "stderr",
     "output_type": "stream",
     "text": [
      "Training (11419 / 18000 Steps) (loss=0.45056): 100%|██████████| 20/20 [01:01<00:00,  3.08s/it]\n",
      "Training (11439 / 18000 Steps) (loss=0.54868): 100%|██████████| 20/20 [00:34<00:00,  1.75s/it]\n",
      "Training (11459 / 18000 Steps) (loss=0.43558): 100%|██████████| 20/20 [00:35<00:00,  1.77s/it]\n",
      "Training (11479 / 18000 Steps) (loss=0.35987): 100%|██████████| 20/20 [00:34<00:00,  1.74s/it]\n",
      "Training (11499 / 18000 Steps) (loss=0.43836): 100%|██████████| 20/20 [00:35<00:00,  1.77s/it]\n",
      "Validate (11500 / 10 Steps): 100%|██████████| 7/7 [00:26<00:00,  3.77s/it]4<?, ?it/s]\n",
      "Training (11500 / 18000 Steps) (loss=0.42573):   5%|▌         | 1/20 [00:31<09:51, 31.14s/it]"
     ]
    },
    {
     "name": "stdout",
     "output_type": "stream",
     "text": [
      "Model Was Not Saved ! Current Best Avg. Dice: 0.41385477781295776 Current Avg. Dice: 0.3849197030067444 Current Avg. tumor Dice: 0.37198907136917114 Current Avg. lymph Dice: 0.39785030484199524\n"
     ]
    },
    {
     "name": "stderr",
     "output_type": "stream",
     "text": [
      "Training (11519 / 18000 Steps) (loss=0.56502): 100%|██████████| 20/20 [01:01<00:00,  3.08s/it]\n",
      "Training (11539 / 18000 Steps) (loss=0.49753): 100%|██████████| 20/20 [00:35<00:00,  1.77s/it]\n",
      "Training (11559 / 18000 Steps) (loss=0.51236): 100%|██████████| 20/20 [00:35<00:00,  1.76s/it]\n",
      "Training (11579 / 18000 Steps) (loss=0.53364): 100%|██████████| 20/20 [00:35<00:00,  1.75s/it]\n",
      "Training (11599 / 18000 Steps) (loss=0.35522): 100%|██████████| 20/20 [00:34<00:00,  1.75s/it]\n",
      "Validate (11600 / 10 Steps): 100%|██████████| 7/7 [00:26<00:00,  3.80s/it]4<?, ?it/s]\n",
      "Training (11600 / 18000 Steps) (loss=0.51770):   5%|▌         | 1/20 [00:31<09:51, 31.12s/it]"
     ]
    },
    {
     "name": "stdout",
     "output_type": "stream",
     "text": [
      "Model Was Not Saved ! Current Best Avg. Dice: 0.41385477781295776 Current Avg. Dice: 0.4110580086708069 Current Avg. tumor Dice: 0.4421233534812927 Current Avg. lymph Dice: 0.37999263405799866\n"
     ]
    },
    {
     "name": "stderr",
     "output_type": "stream",
     "text": [
      "Training (11619 / 18000 Steps) (loss=0.44496): 100%|██████████| 20/20 [01:01<00:00,  3.08s/it]\n",
      "Training (11639 / 18000 Steps) (loss=0.41298): 100%|██████████| 20/20 [00:35<00:00,  1.75s/it]\n",
      "Training (11659 / 18000 Steps) (loss=0.36848): 100%|██████████| 20/20 [00:34<00:00,  1.75s/it]\n",
      "Training (11679 / 18000 Steps) (loss=0.57481): 100%|██████████| 20/20 [00:35<00:00,  1.78s/it]\n",
      "Training (11699 / 18000 Steps) (loss=0.29549): 100%|██████████| 20/20 [00:35<00:00,  1.75s/it]\n",
      "Validate (11700 / 10 Steps): 100%|██████████| 7/7 [00:26<00:00,  3.78s/it]4<?, ?it/s]\n",
      "Training (11700 / 18000 Steps) (loss=0.46857):   5%|▌         | 1/20 [00:31<09:51, 31.13s/it]"
     ]
    },
    {
     "name": "stdout",
     "output_type": "stream",
     "text": [
      "Model Was Not Saved ! Current Best Avg. Dice: 0.41385477781295776 Current Avg. Dice: 0.3943527042865753 Current Avg. tumor Dice: 0.39497947692871094 Current Avg. lymph Dice: 0.3937258720397949\n"
     ]
    },
    {
     "name": "stderr",
     "output_type": "stream",
     "text": [
      "Training (11719 / 18000 Steps) (loss=0.56899): 100%|██████████| 20/20 [01:01<00:00,  3.08s/it]\n",
      "Training (11739 / 18000 Steps) (loss=0.50693): 100%|██████████| 20/20 [00:35<00:00,  1.76s/it]\n",
      "Training (11759 / 18000 Steps) (loss=0.53859): 100%|██████████| 20/20 [00:34<00:00,  1.74s/it]\n",
      "Training (11779 / 18000 Steps) (loss=0.50334): 100%|██████████| 20/20 [00:35<00:00,  1.76s/it]\n",
      "Training (11799 / 18000 Steps) (loss=0.55106): 100%|██████████| 20/20 [00:34<00:00,  1.74s/it]\n",
      "Validate (11800 / 10 Steps): 100%|██████████| 7/7 [00:26<00:00,  3.79s/it]4<?, ?it/s]\n",
      "Training (11800 / 18000 Steps) (loss=0.45895):   5%|▌         | 1/20 [00:31<09:51, 31.14s/it]"
     ]
    },
    {
     "name": "stdout",
     "output_type": "stream",
     "text": [
      "Model Was Not Saved ! Current Best Avg. Dice: 0.41385477781295776 Current Avg. Dice: 0.38431596755981445 Current Avg. tumor Dice: 0.38044384121894836 Current Avg. lymph Dice: 0.38818809390068054\n"
     ]
    },
    {
     "name": "stderr",
     "output_type": "stream",
     "text": [
      "Training (11819 / 18000 Steps) (loss=0.44052): 100%|██████████| 20/20 [01:01<00:00,  3.08s/it]\n",
      "Training (11839 / 18000 Steps) (loss=0.59487): 100%|██████████| 20/20 [00:35<00:00,  1.76s/it]\n",
      "Training (11859 / 18000 Steps) (loss=0.28410): 100%|██████████| 20/20 [00:35<00:00,  1.76s/it]\n",
      "Training (11879 / 18000 Steps) (loss=0.29674): 100%|██████████| 20/20 [00:35<00:00,  1.77s/it]\n",
      "Training (11899 / 18000 Steps) (loss=0.41814): 100%|██████████| 20/20 [00:34<00:00,  1.75s/it]\n",
      "Validate (11900 / 10 Steps): 100%|██████████| 7/7 [00:26<00:00,  3.78s/it]4<?, ?it/s]\n",
      "Training (11900 / 18000 Steps) (loss=0.47468):   5%|▌         | 1/20 [00:30<09:48, 30.96s/it]"
     ]
    },
    {
     "name": "stdout",
     "output_type": "stream",
     "text": [
      "Model Was Not Saved ! Current Best Avg. Dice: 0.41385477781295776 Current Avg. Dice: 0.39086204767227173 Current Avg. tumor Dice: 0.4003092348575592 Current Avg. lymph Dice: 0.38141489028930664\n"
     ]
    },
    {
     "name": "stderr",
     "output_type": "stream",
     "text": [
      "Training (11919 / 18000 Steps) (loss=0.52340): 100%|██████████| 20/20 [01:01<00:00,  3.08s/it]\n",
      "Training (11939 / 18000 Steps) (loss=0.42235): 100%|██████████| 20/20 [00:35<00:00,  1.76s/it]\n",
      "Training (11959 / 18000 Steps) (loss=0.52997): 100%|██████████| 20/20 [00:35<00:00,  1.75s/it]\n",
      "Training (11979 / 18000 Steps) (loss=0.55786): 100%|██████████| 20/20 [00:35<00:00,  1.75s/it]\n",
      "Training (11999 / 18000 Steps) (loss=0.42021): 100%|██████████| 20/20 [00:35<00:00,  1.75s/it]\n",
      "Validate (12000 / 10 Steps): 100%|██████████| 7/7 [00:26<00:00,  3.79s/it]4<?, ?it/s]\n",
      "Training (12000 / 18000 Steps) (loss=0.55821):   5%|▌         | 1/20 [00:30<09:47, 30.95s/it]"
     ]
    },
    {
     "name": "stdout",
     "output_type": "stream",
     "text": [
      "Model Was Not Saved ! Current Best Avg. Dice: 0.41385477781295776 Current Avg. Dice: 0.37666797637939453 Current Avg. tumor Dice: 0.36428430676460266 Current Avg. lymph Dice: 0.389051616191864\n"
     ]
    },
    {
     "name": "stderr",
     "output_type": "stream",
     "text": [
      "Training (12019 / 18000 Steps) (loss=0.57943): 100%|██████████| 20/20 [01:01<00:00,  3.08s/it]\n",
      "Training (12039 / 18000 Steps) (loss=0.57354): 100%|██████████| 20/20 [00:35<00:00,  1.76s/it]\n",
      "Training (12059 / 18000 Steps) (loss=0.28252): 100%|██████████| 20/20 [00:35<00:00,  1.77s/it]\n",
      "Training (12079 / 18000 Steps) (loss=0.47842): 100%|██████████| 20/20 [00:35<00:00,  1.75s/it]\n",
      "Training (12099 / 18000 Steps) (loss=0.56233): 100%|██████████| 20/20 [00:35<00:00,  1.76s/it]\n",
      "Validate (12100 / 10 Steps): 100%|██████████| 7/7 [00:26<00:00,  3.78s/it]4<?, ?it/s]\n",
      "Training (12100 / 18000 Steps) (loss=0.35859):   5%|▌         | 1/20 [00:31<09:53, 31.24s/it]"
     ]
    },
    {
     "name": "stdout",
     "output_type": "stream",
     "text": [
      "Model Was Not Saved ! Current Best Avg. Dice: 0.41385477781295776 Current Avg. Dice: 0.38331323862075806 Current Avg. tumor Dice: 0.38200026750564575 Current Avg. lymph Dice: 0.38462620973587036\n"
     ]
    },
    {
     "name": "stderr",
     "output_type": "stream",
     "text": [
      "Training (12119 / 18000 Steps) (loss=0.57584): 100%|██████████| 20/20 [01:01<00:00,  3.09s/it]\n",
      "Training (12139 / 18000 Steps) (loss=0.34084): 100%|██████████| 20/20 [00:34<00:00,  1.75s/it]\n",
      "Training (12159 / 18000 Steps) (loss=0.36644): 100%|██████████| 20/20 [00:35<00:00,  1.76s/it]\n",
      "Training (12179 / 18000 Steps) (loss=0.63006): 100%|██████████| 20/20 [00:34<00:00,  1.75s/it]\n",
      "Training (12199 / 18000 Steps) (loss=0.44841): 100%|██████████| 20/20 [00:35<00:00,  1.76s/it]\n",
      "Validate (12200 / 10 Steps): 100%|██████████| 7/7 [00:26<00:00,  3.80s/it]4<?, ?it/s]\n",
      "Training (12200 / 18000 Steps) (loss=0.56076):   5%|▌         | 1/20 [00:31<09:53, 31.23s/it]"
     ]
    },
    {
     "name": "stdout",
     "output_type": "stream",
     "text": [
      "Model Was Not Saved ! Current Best Avg. Dice: 0.41385477781295776 Current Avg. Dice: 0.37820011377334595 Current Avg. tumor Dice: 0.37872079014778137 Current Avg. lymph Dice: 0.37767940759658813\n"
     ]
    },
    {
     "name": "stderr",
     "output_type": "stream",
     "text": [
      "Training (12219 / 18000 Steps) (loss=0.39350): 100%|██████████| 20/20 [01:01<00:00,  3.08s/it]\n",
      "Training (12239 / 18000 Steps) (loss=0.49583): 100%|██████████| 20/20 [00:35<00:00,  1.76s/it]\n",
      "Training (12259 / 18000 Steps) (loss=0.41247): 100%|██████████| 20/20 [00:34<00:00,  1.74s/it]\n",
      "Training (12279 / 18000 Steps) (loss=0.56265): 100%|██████████| 20/20 [00:35<00:00,  1.75s/it]\n",
      "Training (12299 / 18000 Steps) (loss=0.33781): 100%|██████████| 20/20 [00:35<00:00,  1.76s/it]\n",
      "Validate (12300 / 10 Steps): 100%|██████████| 7/7 [00:26<00:00,  3.78s/it]4<?, ?it/s]\n",
      "Training (12300 / 18000 Steps) (loss=0.40601):   5%|▌         | 1/20 [00:31<09:50, 31.06s/it]"
     ]
    },
    {
     "name": "stdout",
     "output_type": "stream",
     "text": [
      "Model Was Not Saved ! Current Best Avg. Dice: 0.41385477781295776 Current Avg. Dice: 0.4018145203590393 Current Avg. tumor Dice: 0.42417261004447937 Current Avg. lymph Dice: 0.3794565200805664\n"
     ]
    },
    {
     "name": "stderr",
     "output_type": "stream",
     "text": [
      "Training (12319 / 18000 Steps) (loss=0.49514): 100%|██████████| 20/20 [01:01<00:00,  3.07s/it]\n",
      "Training (12339 / 18000 Steps) (loss=0.50979): 100%|██████████| 20/20 [00:35<00:00,  1.75s/it]\n",
      "Training (12359 / 18000 Steps) (loss=0.61215): 100%|██████████| 20/20 [00:35<00:00,  1.76s/it]\n",
      "Training (12379 / 18000 Steps) (loss=0.51741): 100%|██████████| 20/20 [00:35<00:00,  1.76s/it]\n",
      "Training (12399 / 18000 Steps) (loss=0.40334): 100%|██████████| 20/20 [00:34<00:00,  1.75s/it]\n",
      "Validate (12400 / 10 Steps): 100%|██████████| 7/7 [00:26<00:00,  3.78s/it]4<?, ?it/s]\n",
      "Training (12400 / 18000 Steps) (loss=0.48527):   5%|▌         | 1/20 [00:30<09:48, 30.96s/it]"
     ]
    },
    {
     "name": "stdout",
     "output_type": "stream",
     "text": [
      "Model Was Not Saved ! Current Best Avg. Dice: 0.41385477781295776 Current Avg. Dice: 0.4078511595726013 Current Avg. tumor Dice: 0.408935546875 Current Avg. lymph Dice: 0.406766802072525\n"
     ]
    },
    {
     "name": "stderr",
     "output_type": "stream",
     "text": [
      "Training (12419 / 18000 Steps) (loss=0.26664): 100%|██████████| 20/20 [01:01<00:00,  3.07s/it]\n",
      "Training (12439 / 18000 Steps) (loss=0.36200): 100%|██████████| 20/20 [00:35<00:00,  1.76s/it]\n",
      "Training (12459 / 18000 Steps) (loss=0.33389): 100%|██████████| 20/20 [00:34<00:00,  1.75s/it]\n",
      "Training (12479 / 18000 Steps) (loss=0.49942): 100%|██████████| 20/20 [00:35<00:00,  1.76s/it]\n",
      "Training (12499 / 18000 Steps) (loss=0.57482): 100%|██████████| 20/20 [00:35<00:00,  1.75s/it]\n",
      "Validate (12500 / 10 Steps): 100%|██████████| 7/7 [00:26<00:00,  3.79s/it]4<?, ?it/s]\n",
      "Training (12500 / 18000 Steps) (loss=0.57305):   5%|▌         | 1/20 [00:31<09:52, 31.17s/it]"
     ]
    },
    {
     "name": "stdout",
     "output_type": "stream",
     "text": [
      "Model Was Not Saved ! Current Best Avg. Dice: 0.41385477781295776 Current Avg. Dice: 0.39046335220336914 Current Avg. tumor Dice: 0.4229573905467987 Current Avg. lymph Dice: 0.3579693138599396\n"
     ]
    },
    {
     "name": "stderr",
     "output_type": "stream",
     "text": [
      "Training (12519 / 18000 Steps) (loss=0.42500): 100%|██████████| 20/20 [01:01<00:00,  3.08s/it]\n",
      "Training (12539 / 18000 Steps) (loss=0.28563): 100%|██████████| 20/20 [00:34<00:00,  1.75s/it]\n",
      "Training (12559 / 18000 Steps) (loss=0.50364): 100%|██████████| 20/20 [00:35<00:00,  1.76s/it]\n",
      "Training (12579 / 18000 Steps) (loss=0.55028): 100%|██████████| 20/20 [00:34<00:00,  1.75s/it]\n",
      "Training (12599 / 18000 Steps) (loss=0.45792): 100%|██████████| 20/20 [00:35<00:00,  1.75s/it]\n",
      "Validate (12600 / 10 Steps): 100%|██████████| 7/7 [00:26<00:00,  3.79s/it]4<?, ?it/s]\n",
      "Training (12600 / 18000 Steps) (loss=0.43253):   5%|▌         | 1/20 [00:31<09:49, 31.05s/it]"
     ]
    },
    {
     "name": "stdout",
     "output_type": "stream",
     "text": [
      "Model Was Not Saved ! Current Best Avg. Dice: 0.41385477781295776 Current Avg. Dice: 0.3770427703857422 Current Avg. tumor Dice: 0.39317888021469116 Current Avg. lymph Dice: 0.3609066307544708\n"
     ]
    },
    {
     "name": "stderr",
     "output_type": "stream",
     "text": [
      "Training (12619 / 18000 Steps) (loss=0.59645): 100%|██████████| 20/20 [01:01<00:00,  3.06s/it]\n",
      "Training (12639 / 18000 Steps) (loss=0.40364): 100%|██████████| 20/20 [00:35<00:00,  1.75s/it]\n",
      "Training (12659 / 18000 Steps) (loss=0.37773): 100%|██████████| 20/20 [00:35<00:00,  1.77s/it]\n",
      "Training (12679 / 18000 Steps) (loss=0.47911): 100%|██████████| 20/20 [00:35<00:00,  1.76s/it]\n",
      "Training (12699 / 18000 Steps) (loss=0.35822): 100%|██████████| 20/20 [00:35<00:00,  1.76s/it]\n",
      "Validate (12700 / 10 Steps): 100%|██████████| 7/7 [00:26<00:00,  3.79s/it]4<?, ?it/s]\n",
      "Training (12700 / 18000 Steps) (loss=0.33586):   5%|▌         | 1/20 [00:32<10:08, 32.04s/it]"
     ]
    },
    {
     "name": "stdout",
     "output_type": "stream",
     "text": [
      "Model Was Saved ! Current Best Avg. Dice: 0.42157667875289917 Current Avg. Dice: 0.42157667875289917 Current Avg. tumor Dice: 0.46590206027030945 Current Avg. lymph Dice: 0.3772513270378113\n"
     ]
    },
    {
     "name": "stderr",
     "output_type": "stream",
     "text": [
      "Training (12719 / 18000 Steps) (loss=0.35847): 100%|██████████| 20/20 [01:02<00:00,  3.13s/it]\n",
      "Training (12739 / 18000 Steps) (loss=0.34734): 100%|██████████| 20/20 [00:35<00:00,  1.76s/it]\n",
      "Training (12759 / 18000 Steps) (loss=0.37949): 100%|██████████| 20/20 [00:34<00:00,  1.74s/it]\n",
      "Training (12779 / 18000 Steps) (loss=0.50016): 100%|██████████| 20/20 [00:35<00:00,  1.76s/it]\n",
      "Training (12799 / 18000 Steps) (loss=0.30745): 100%|██████████| 20/20 [00:35<00:00,  1.75s/it]\n",
      "Validate (12800 / 10 Steps): 100%|██████████| 7/7 [00:26<00:00,  3.81s/it]4<?, ?it/s]\n",
      "Training (12800 / 18000 Steps) (loss=0.47973):   5%|▌         | 1/20 [00:31<09:54, 31.28s/it]"
     ]
    },
    {
     "name": "stdout",
     "output_type": "stream",
     "text": [
      "Model Was Not Saved ! Current Best Avg. Dice: 0.42157667875289917 Current Avg. Dice: 0.3945530354976654 Current Avg. tumor Dice: 0.4093022644519806 Current Avg. lymph Dice: 0.3798038363456726\n"
     ]
    },
    {
     "name": "stderr",
     "output_type": "stream",
     "text": [
      "Training (12819 / 18000 Steps) (loss=0.36757): 100%|██████████| 20/20 [01:01<00:00,  3.09s/it]\n",
      "Training (12839 / 18000 Steps) (loss=0.51157): 100%|██████████| 20/20 [00:35<00:00,  1.77s/it]\n",
      "Training (12859 / 18000 Steps) (loss=0.35774): 100%|██████████| 20/20 [00:35<00:00,  1.76s/it]\n",
      "Training (12879 / 18000 Steps) (loss=0.57932): 100%|██████████| 20/20 [00:35<00:00,  1.77s/it]\n",
      "Training (12899 / 18000 Steps) (loss=0.27211): 100%|██████████| 20/20 [00:35<00:00,  1.75s/it]\n",
      "Validate (12900 / 10 Steps): 100%|██████████| 7/7 [00:26<00:00,  3.78s/it]4<?, ?it/s]\n",
      "Training (12900 / 18000 Steps) (loss=0.33473):   5%|▌         | 1/20 [00:31<09:51, 31.14s/it]"
     ]
    },
    {
     "name": "stdout",
     "output_type": "stream",
     "text": [
      "Model Was Not Saved ! Current Best Avg. Dice: 0.42157667875289917 Current Avg. Dice: 0.38853612542152405 Current Avg. tumor Dice: 0.39421382546424866 Current Avg. lymph Dice: 0.38285842537879944\n"
     ]
    },
    {
     "name": "stderr",
     "output_type": "stream",
     "text": [
      "Training (12919 / 18000 Steps) (loss=0.36247): 100%|██████████| 20/20 [01:01<00:00,  3.09s/it]\n",
      "Training (12939 / 18000 Steps) (loss=0.48169): 100%|██████████| 20/20 [00:34<00:00,  1.75s/it]\n",
      "Training (12959 / 18000 Steps) (loss=0.42038): 100%|██████████| 20/20 [00:34<00:00,  1.75s/it]\n",
      "Training (12979 / 18000 Steps) (loss=0.44964): 100%|██████████| 20/20 [00:35<00:00,  1.76s/it]\n",
      "Training (12999 / 18000 Steps) (loss=0.47751): 100%|██████████| 20/20 [00:35<00:00,  1.76s/it]\n",
      "Validate (13000 / 10 Steps): 100%|██████████| 7/7 [00:26<00:00,  3.80s/it]4<?, ?it/s]\n",
      "Training (13000 / 18000 Steps) (loss=0.54153):   5%|▌         | 1/20 [00:31<09:51, 31.14s/it]"
     ]
    },
    {
     "name": "stdout",
     "output_type": "stream",
     "text": [
      "Model Was Not Saved ! Current Best Avg. Dice: 0.42157667875289917 Current Avg. Dice: 0.40181583166122437 Current Avg. tumor Dice: 0.42279210686683655 Current Avg. lymph Dice: 0.3808395564556122\n"
     ]
    },
    {
     "name": "stderr",
     "output_type": "stream",
     "text": [
      "Training (13019 / 18000 Steps) (loss=0.53690): 100%|██████████| 20/20 [01:01<00:00,  3.10s/it]\n",
      "Training (13039 / 18000 Steps) (loss=0.21053): 100%|██████████| 20/20 [00:35<00:00,  1.76s/it]\n",
      "Training (13059 / 18000 Steps) (loss=0.44084): 100%|██████████| 20/20 [00:35<00:00,  1.75s/it]\n",
      "Training (13079 / 18000 Steps) (loss=0.41803): 100%|██████████| 20/20 [00:35<00:00,  1.76s/it]\n",
      "Training (13099 / 18000 Steps) (loss=0.48986): 100%|██████████| 20/20 [00:35<00:00,  1.76s/it]\n",
      "Validate (13100 / 10 Steps): 100%|██████████| 7/7 [00:26<00:00,  3.77s/it]4<?, ?it/s]\n",
      "Training (13100 / 18000 Steps) (loss=0.49554):   5%|▌         | 1/20 [00:30<09:46, 30.86s/it]"
     ]
    },
    {
     "name": "stdout",
     "output_type": "stream",
     "text": [
      "Model Was Not Saved ! Current Best Avg. Dice: 0.42157667875289917 Current Avg. Dice: 0.3943837285041809 Current Avg. tumor Dice: 0.4171781539916992 Current Avg. lymph Dice: 0.3715893626213074\n"
     ]
    },
    {
     "name": "stderr",
     "output_type": "stream",
     "text": [
      "Training (13119 / 18000 Steps) (loss=0.30701): 100%|██████████| 20/20 [01:01<00:00,  3.06s/it]\n",
      "Training (13139 / 18000 Steps) (loss=0.38127): 100%|██████████| 20/20 [00:35<00:00,  1.75s/it]\n",
      "Training (13159 / 18000 Steps) (loss=0.47462): 100%|██████████| 20/20 [00:35<00:00,  1.78s/it]\n",
      "Training (13179 / 18000 Steps) (loss=0.44342): 100%|██████████| 20/20 [00:35<00:00,  1.76s/it]\n",
      "Training (13199 / 18000 Steps) (loss=0.39923): 100%|██████████| 20/20 [00:35<00:00,  1.75s/it]\n",
      "Validate (13200 / 10 Steps): 100%|██████████| 7/7 [00:26<00:00,  3.78s/it]4<?, ?it/s]\n",
      "Training (13200 / 18000 Steps) (loss=0.44458):   5%|▌         | 1/20 [00:31<09:53, 31.25s/it]"
     ]
    },
    {
     "name": "stdout",
     "output_type": "stream",
     "text": [
      "Model Was Not Saved ! Current Best Avg. Dice: 0.42157667875289917 Current Avg. Dice: 0.3890853524208069 Current Avg. tumor Dice: 0.39285463094711304 Current Avg. lymph Dice: 0.3853161036968231\n"
     ]
    },
    {
     "name": "stderr",
     "output_type": "stream",
     "text": [
      "Training (13219 / 18000 Steps) (loss=0.51854): 100%|██████████| 20/20 [01:01<00:00,  3.08s/it]\n",
      "Training (13239 / 18000 Steps) (loss=0.33958): 100%|██████████| 20/20 [00:35<00:00,  1.75s/it]\n",
      "Training (13259 / 18000 Steps) (loss=0.47850): 100%|██████████| 20/20 [00:35<00:00,  1.76s/it]\n",
      "Training (13279 / 18000 Steps) (loss=0.32273): 100%|██████████| 20/20 [00:35<00:00,  1.76s/it]\n",
      "Training (13299 / 18000 Steps) (loss=0.53744): 100%|██████████| 20/20 [00:35<00:00,  1.77s/it]\n",
      "Validate (13300 / 10 Steps): 100%|██████████| 7/7 [00:26<00:00,  3.78s/it]4<?, ?it/s]\n",
      "Training (13300 / 18000 Steps) (loss=0.42902):   5%|▌         | 1/20 [00:31<09:52, 31.17s/it]"
     ]
    },
    {
     "name": "stdout",
     "output_type": "stream",
     "text": [
      "Model Was Not Saved ! Current Best Avg. Dice: 0.42157667875289917 Current Avg. Dice: 0.3931559920310974 Current Avg. tumor Dice: 0.4175395369529724 Current Avg. lymph Dice: 0.3687725067138672\n"
     ]
    },
    {
     "name": "stderr",
     "output_type": "stream",
     "text": [
      "Training (13319 / 18000 Steps) (loss=0.42950): 100%|██████████| 20/20 [01:01<00:00,  3.08s/it]\n",
      "Training (13339 / 18000 Steps) (loss=0.50286): 100%|██████████| 20/20 [00:35<00:00,  1.77s/it]\n",
      "Training (13359 / 18000 Steps) (loss=0.43630): 100%|██████████| 20/20 [00:34<00:00,  1.75s/it]\n",
      "Training (13379 / 18000 Steps) (loss=0.36714): 100%|██████████| 20/20 [00:35<00:00,  1.77s/it]\n",
      "Training (13399 / 18000 Steps) (loss=0.38581): 100%|██████████| 20/20 [00:34<00:00,  1.75s/it]\n",
      "Validate (13400 / 10 Steps): 100%|██████████| 7/7 [00:26<00:00,  3.77s/it]4<?, ?it/s]\n",
      "Training (13400 / 18000 Steps) (loss=0.30015):   5%|▌         | 1/20 [00:31<09:49, 31.04s/it]"
     ]
    },
    {
     "name": "stdout",
     "output_type": "stream",
     "text": [
      "Model Was Not Saved ! Current Best Avg. Dice: 0.42157667875289917 Current Avg. Dice: 0.40228939056396484 Current Avg. tumor Dice: 0.4382322132587433 Current Avg. lymph Dice: 0.366346538066864\n"
     ]
    },
    {
     "name": "stderr",
     "output_type": "stream",
     "text": [
      "Training (13419 / 18000 Steps) (loss=0.44806): 100%|██████████| 20/20 [01:01<00:00,  3.08s/it]\n",
      "Training (13439 / 18000 Steps) (loss=0.51515): 100%|██████████| 20/20 [00:35<00:00,  1.77s/it]\n",
      "Training (13459 / 18000 Steps) (loss=0.46754): 100%|██████████| 20/20 [00:35<00:00,  1.78s/it]\n",
      "Training (13479 / 18000 Steps) (loss=0.38283): 100%|██████████| 20/20 [00:35<00:00,  1.77s/it]\n",
      "Training (13499 / 18000 Steps) (loss=0.41940): 100%|██████████| 20/20 [00:35<00:00,  1.76s/it]\n",
      "Validate (13500 / 10 Steps): 100%|██████████| 7/7 [00:26<00:00,  3.79s/it]4<?, ?it/s]\n",
      "Training (13500 / 18000 Steps) (loss=0.61071):   5%|▌         | 1/20 [00:31<09:51, 31.15s/it]"
     ]
    },
    {
     "name": "stdout",
     "output_type": "stream",
     "text": [
      "Model Was Not Saved ! Current Best Avg. Dice: 0.42157667875289917 Current Avg. Dice: 0.38706302642822266 Current Avg. tumor Dice: 0.3959067761898041 Current Avg. lymph Dice: 0.3782191872596741\n"
     ]
    },
    {
     "name": "stderr",
     "output_type": "stream",
     "text": [
      "Training (13519 / 18000 Steps) (loss=0.45367): 100%|██████████| 20/20 [01:01<00:00,  3.09s/it]\n",
      "Training (13539 / 18000 Steps) (loss=0.42719): 100%|██████████| 20/20 [00:35<00:00,  1.76s/it]\n",
      "Training (13559 / 18000 Steps) (loss=0.42156): 100%|██████████| 20/20 [00:35<00:00,  1.75s/it]\n",
      "Training (13579 / 18000 Steps) (loss=0.48464): 100%|██████████| 20/20 [00:35<00:00,  1.76s/it]\n",
      "Training (13599 / 18000 Steps) (loss=0.62540): 100%|██████████| 20/20 [00:34<00:00,  1.74s/it]\n",
      "Validate (13600 / 10 Steps): 100%|██████████| 7/7 [00:26<00:00,  3.78s/it]4<?, ?it/s]\n",
      "Training (13600 / 18000 Steps) (loss=0.46527):   5%|▌         | 1/20 [00:31<09:52, 31.19s/it]"
     ]
    },
    {
     "name": "stdout",
     "output_type": "stream",
     "text": [
      "Model Was Not Saved ! Current Best Avg. Dice: 0.42157667875289917 Current Avg. Dice: 0.3847169280052185 Current Avg. tumor Dice: 0.39123424887657166 Current Avg. lymph Dice: 0.37819957733154297\n"
     ]
    },
    {
     "name": "stderr",
     "output_type": "stream",
     "text": [
      "Training (13619 / 18000 Steps) (loss=0.43281): 100%|██████████| 20/20 [01:02<00:00,  3.11s/it]\n",
      "Training (13639 / 18000 Steps) (loss=0.64663): 100%|██████████| 20/20 [00:35<00:00,  1.76s/it]\n",
      "Training (13659 / 18000 Steps) (loss=0.48581): 100%|██████████| 20/20 [00:35<00:00,  1.77s/it]\n",
      "Training (13679 / 18000 Steps) (loss=0.40474): 100%|██████████| 20/20 [00:35<00:00,  1.76s/it]\n",
      "Training (13699 / 18000 Steps) (loss=0.30838): 100%|██████████| 20/20 [00:35<00:00,  1.76s/it]\n",
      "Validate (13700 / 10 Steps): 100%|██████████| 7/7 [00:26<00:00,  3.79s/it]4<?, ?it/s]\n",
      "Training (13700 / 18000 Steps) (loss=0.34355):   5%|▌         | 1/20 [00:31<09:54, 31.31s/it]"
     ]
    },
    {
     "name": "stdout",
     "output_type": "stream",
     "text": [
      "Model Was Not Saved ! Current Best Avg. Dice: 0.42157667875289917 Current Avg. Dice: 0.3558909595012665 Current Avg. tumor Dice: 0.342639297246933 Current Avg. lymph Dice: 0.3691425621509552\n"
     ]
    },
    {
     "name": "stderr",
     "output_type": "stream",
     "text": [
      "Training (13719 / 18000 Steps) (loss=0.27256): 100%|██████████| 20/20 [01:01<00:00,  3.09s/it]\n",
      "Training (13739 / 18000 Steps) (loss=0.44733): 100%|██████████| 20/20 [00:35<00:00,  1.77s/it]\n",
      "Training (13759 / 18000 Steps) (loss=0.47402): 100%|██████████| 20/20 [00:35<00:00,  1.76s/it]\n",
      "Training (13779 / 18000 Steps) (loss=0.48307): 100%|██████████| 20/20 [00:35<00:00,  1.75s/it]\n",
      "Training (13799 / 18000 Steps) (loss=0.37741): 100%|██████████| 20/20 [00:35<00:00,  1.77s/it]\n",
      "Validate (13800 / 10 Steps): 100%|██████████| 7/7 [00:26<00:00,  3.80s/it]4<?, ?it/s]\n",
      "Training (13800 / 18000 Steps) (loss=0.42783):   5%|▌         | 1/20 [00:31<09:52, 31.18s/it]"
     ]
    },
    {
     "name": "stdout",
     "output_type": "stream",
     "text": [
      "Model Was Not Saved ! Current Best Avg. Dice: 0.42157667875289917 Current Avg. Dice: 0.4036411643028259 Current Avg. tumor Dice: 0.42349010705947876 Current Avg. lymph Dice: 0.38379213213920593\n"
     ]
    },
    {
     "name": "stderr",
     "output_type": "stream",
     "text": [
      "Training (13819 / 18000 Steps) (loss=0.31779): 100%|██████████| 20/20 [01:01<00:00,  3.07s/it]\n",
      "Training (13839 / 18000 Steps) (loss=0.41450): 100%|██████████| 20/20 [00:35<00:00,  1.76s/it]\n",
      "Training (13859 / 18000 Steps) (loss=0.47259): 100%|██████████| 20/20 [00:35<00:00,  1.78s/it]\n",
      "Training (13879 / 18000 Steps) (loss=0.41596): 100%|██████████| 20/20 [00:35<00:00,  1.77s/it]\n",
      "Training (13899 / 18000 Steps) (loss=0.39292): 100%|██████████| 20/20 [00:35<00:00,  1.77s/it]\n",
      "Validate (13900 / 10 Steps): 100%|██████████| 7/7 [00:26<00:00,  3.81s/it]4<?, ?it/s]\n",
      "Training (13900 / 18000 Steps) (loss=0.46971):   5%|▌         | 1/20 [00:31<09:55, 31.33s/it]"
     ]
    },
    {
     "name": "stdout",
     "output_type": "stream",
     "text": [
      "Model Was Not Saved ! Current Best Avg. Dice: 0.42157667875289917 Current Avg. Dice: 0.3820433020591736 Current Avg. tumor Dice: 0.3874703347682953 Current Avg. lymph Dice: 0.3766162693500519\n"
     ]
    },
    {
     "name": "stderr",
     "output_type": "stream",
     "text": [
      "Training (13919 / 18000 Steps) (loss=0.44153): 100%|██████████| 20/20 [01:01<00:00,  3.09s/it]\n",
      "Training (13939 / 18000 Steps) (loss=0.37092): 100%|██████████| 20/20 [00:35<00:00,  1.79s/it]\n",
      "Training (13959 / 18000 Steps) (loss=0.52943): 100%|██████████| 20/20 [00:35<00:00,  1.78s/it]\n",
      "Training (13979 / 18000 Steps) (loss=0.45259): 100%|██████████| 20/20 [00:35<00:00,  1.75s/it]\n",
      "Training (13999 / 18000 Steps) (loss=0.44218): 100%|██████████| 20/20 [00:35<00:00,  1.77s/it]\n",
      "Validate (14000 / 10 Steps): 100%|██████████| 7/7 [00:26<00:00,  3.78s/it]4<?, ?it/s]\n",
      "Training (14000 / 18000 Steps) (loss=0.48635):   5%|▌         | 1/20 [00:31<09:51, 31.12s/it]"
     ]
    },
    {
     "name": "stdout",
     "output_type": "stream",
     "text": [
      "Model Was Not Saved ! Current Best Avg. Dice: 0.42157667875289917 Current Avg. Dice: 0.3817601501941681 Current Avg. tumor Dice: 0.3910672962665558 Current Avg. lymph Dice: 0.372452974319458\n"
     ]
    },
    {
     "name": "stderr",
     "output_type": "stream",
     "text": [
      "Training (14019 / 18000 Steps) (loss=0.26326): 100%|██████████| 20/20 [01:01<00:00,  3.08s/it]\n",
      "Training (14039 / 18000 Steps) (loss=0.42162): 100%|██████████| 20/20 [00:35<00:00,  1.76s/it]\n",
      "Training (14059 / 18000 Steps) (loss=0.39474): 100%|██████████| 20/20 [00:35<00:00,  1.77s/it]\n",
      "Training (14079 / 18000 Steps) (loss=0.36322): 100%|██████████| 20/20 [00:35<00:00,  1.77s/it]\n",
      "Training (14090 / 18000 Steps) (loss=0.51234):  55%|█████▌    | 11/20 [00:20<00:14,  1.63s/it]"
     ]
    }
   ],
   "source": [
    "epoch = 0 # used for LR scheduler\n",
    "max_num_epochs = 530 # used for LR scheduler\n",
    "\n",
    "torch.autograd.set_detect_anomaly(True)  # Enable anomaly detection\n",
    "\n",
    "while global_step < max_iterations:\n",
    "    global_step, dice_val_best, global_step_best = train(\n",
    "        global_step, train_loader, dice_val_best, global_step_best\n",
    "    )\n",
    "    epoch += 1\n",
    "    #optimizer.param_groups[0]['lr'] = poly_lr(epoch, max_num_epochs, 0.005676 , 0.9)\n",
    "# model.load_state_dict(torch.load(os.path.join(model_dir, \"best_metric_luck_UNETr_prompt.pth\")))"
   ]
  }
 ],
 "metadata": {
  "kernelspec": {
   "display_name": "clam",
   "language": "python",
   "name": "python3"
  },
  "language_info": {
   "codemirror_mode": {
    "name": "ipython",
    "version": 3
   },
   "file_extension": ".py",
   "mimetype": "text/x-python",
   "name": "python",
   "nbconvert_exporter": "python",
   "pygments_lexer": "ipython3",
   "version": "3.8.0"
  }
 },
 "nbformat": 4,
 "nbformat_minor": 2
}
