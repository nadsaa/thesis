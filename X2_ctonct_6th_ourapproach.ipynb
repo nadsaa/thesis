{
 "cells": [
  {
   "cell_type": "code",
   "execution_count": 1,
   "metadata": {},
   "outputs": [
    {
     "name": "stdout",
     "output_type": "stream",
     "text": [
      "1\n"
     ]
    },
    {
     "name": "stderr",
     "output_type": "stream",
     "text": [
      "/tmp/ipykernel_905041/264845013.py:9: TqdmWarning: IProgress not found. Please update jupyter and ipywidgets. See https://ipywidgets.readthedocs.io/en/stable/user_install.html\n",
      "  from tqdm.autonotebook import tqdm\n"
     ]
    }
   ],
   "source": [
    "import torch\n",
    "import torch.nn as nn\n",
    "from torch.utils.data import DataLoader\n",
    "from collections.abc import Sequence\n",
    "\n",
    "from unetr import CustomedUNETR\n",
    "\n",
    "import json\n",
    "from tqdm.autonotebook import tqdm\n",
    "import os\n",
    "os.environ[\"CUDA_DEVICE_ORDER\"] = \"PCI_BUS_ID\"\n",
    "os.environ[\"CUDA_VISIBLE_DEVICES\"] = \"1\" \n",
    "\n",
    "print(torch.cuda.device_count())\n",
    "torch.backends.cudnn.benchmark = True\n",
    "device = torch.device(\"cuda\" if torch.cuda.is_available() else \"cpu\")"
   ]
  },
  {
   "cell_type": "code",
   "execution_count": 2,
   "metadata": {},
   "outputs": [],
   "source": [
    "from monai.transforms import EnsureTyped\n",
    "from monai.transforms import Compose, LoadImaged, ScaleIntensityRanged, ConcatItemsd\n",
    "from monai.metrics import DiceMetric\n",
    "from monai.losses import DiceCELoss, DiceFocalLoss, FocalLoss\n",
    "from monai.inferers import sliding_window_inference\n",
    "\n",
    "\n",
    "from monai.data import (\n",
    "    Dataset,\n",
    "    DataLoader,\n",
    "    CacheDataset,\n",
    "    load_decathlon_datalist,\n",
    "    decollate_batch,\n",
    ")\n",
    "\n",
    "\n",
    "from monai.transforms import (\n",
    "    AsDiscrete,\n",
    "    Compose,\n",
    "    CropForegroundd,\n",
    "    LoadImaged,\n",
    "    Orientationd,\n",
    "    RandFlipd,\n",
    "    RandCropByPosNegLabeld,\n",
    "    RandShiftIntensityd,\n",
    "    ScaleIntensityRanged,\n",
    "    Spacingd,\n",
    "    RandRotate90d,\n",
    "    MapTransform,\n",
    "    ScaleIntensityd,\n",
    "    #AddChanneld,\n",
    "    SpatialPadd,\n",
    "    CenterSpatialCropd,\n",
    "    EnsureChannelFirstd,\n",
    "    ConcatItemsd,\n",
    "    AdjustContrastd, \n",
    "    Rand3DElasticd,\n",
    "    HistogramNormalized,\n",
    "    NormalizeIntensityd,\n",
    "    Invertd,\n",
    "    SaveImage,\n",
    "\n",
    ")\n",
    "import monai"
   ]
  },
  {
   "cell_type": "code",
   "execution_count": 3,
   "metadata": {},
   "outputs": [],
   "source": [
    "data_dir = '/home/nada.saadi/MIS-FM/hecktor2022_cropped'\n",
    "json_dir = '/home/nada.saadi/CTPET/hecktor2022_cropped/HGJ_CT_train_new.json'"
   ]
  },
  {
   "cell_type": "code",
   "execution_count": 4,
   "metadata": {},
   "outputs": [
    {
     "name": "stdout",
     "output_type": "stream",
     "text": [
      "40 14\n"
     ]
    }
   ],
   "source": [
    "def datafold_read(datalist, basedir, fold=0, key=\"training\"):\n",
    "    with open(datalist) as f:\n",
    "        json_data = json.load(f)\n",
    "\n",
    "    json_data = json_data[key]\n",
    "\n",
    "    for d in json_data:\n",
    "        for k in d:\n",
    "            if isinstance(d[k], list):\n",
    "                d[k] = [os.path.join(basedir, iv) for iv in d[k]]\n",
    "            elif isinstance(d[k], str):\n",
    "                d[k] = os.path.join(basedir, d[k]) if len(d[k]) > 0 else d[k]\n",
    "\n",
    "    tr = []\n",
    "    val = []\n",
    "    for d in json_data:\n",
    "        if \"fold\" in d and d[\"fold\"] == fold:\n",
    "            val.append(d)\n",
    "        else:\n",
    "            tr.append(d)\n",
    "\n",
    "    return tr, val\n",
    "\n",
    "train_data, valid_data = datafold_read(datalist=json_dir, basedir=data_dir, fold=2)\n",
    "print(len(train_data), len(valid_data))"
   ]
  },
  {
   "cell_type": "code",
   "execution_count": 5,
   "metadata": {},
   "outputs": [],
   "source": [
    "class ClipCT(MapTransform):\n",
    "    \"\"\"\n",
    "    Convert labels to multi channels based on hecktor classes:\n",
    "    label 1 is the tumor\n",
    "    label 2 is the lymph node\n",
    "\n",
    "    \"\"\"\n",
    "\n",
    "    def __call__(self, data):\n",
    "        d = dict(data)\n",
    "        for key in self.keys:\n",
    "            if key == \"ct\":\n",
    "                d[key] = torch.clip(d[key], min=-200, max=200)\n",
    "            # elif key == \"pt\":\n",
    "            #     d[key] = torch.clip(d[key], d[key].min(), 5)\n",
    "        return d\n",
    "\n",
    "class MulPTFM(MapTransform):\n",
    "    \"\"\"\n",
    "    Mult PT and FM \n",
    "\n",
    "    \"\"\"\n",
    "\n",
    "    def __call__(self, data):\n",
    "        d = dict(data)\n",
    "\n",
    "        fm = d[\"ct\"] > 0\n",
    "        d[\"pt\"] = d[\"pt\"] * fm\n",
    "        return d\n",
    "\n",
    "class SelectClass(MapTransform):\n",
    "    \"\"\"\n",
    "    Select the class for which you want to fine tune the model \n",
    "\n",
    "    \"\"\"\n",
    "    # def __init__(self, keys, cls=1):\n",
    "    #     super(self).__init__(keys)\n",
    "    #     self.cls = cls\n",
    "\n",
    "    def __call__(self, data):\n",
    "        d = dict(data)\n",
    "        d[\"seg\"][d[\"seg\"] == 1] = 0\n",
    "        # d[\"seg\"][d[\"seg\"] == 2] = 1\n",
    "        \n",
    "        return d"
   ]
  },
  {
   "cell_type": "code",
   "execution_count": 6,
   "metadata": {},
   "outputs": [],
   "source": [
    "num_samples = 4\n",
    "\n",
    "train_transforms = Compose(\n",
    "    [\n",
    "        LoadImaged(keys=[\"ct\", \"seg\"], ensure_channel_first = True),\n",
    "        SpatialPadd(keys=[\"ct\",  \"seg\"], spatial_size=(200, 200, 310), method='end'),\n",
    "        Orientationd(keys=[\"ct\",  \"seg\"], axcodes=\"PLS\"),\n",
    "        #NormalizeIntensityd(keys=[\"pt\"]),\n",
    "        ClipCT(keys=[\"ct\"]),\n",
    "        ScaleIntensityd(keys=[\"ct\"], minv=0, maxv=1),\n",
    "        #MulPTFM(keys=[\"ct\",\"pt\"]),\n",
    "        #ConcatItemsd(keys=[\"pt\", \"ct\"], name=\"ctpt\"),\n",
    "        #NormalizeIntensityd(keys=[\"ctpt\"], channel_wise=True),\n",
    "        RandCropByPosNegLabeld(\n",
    "            keys=[\"ct\", \"seg\"],\n",
    "            label_key=\"seg\",\n",
    "            spatial_size=(96, 96, 96),\n",
    "            pos=1,\n",
    "            neg=1,\n",
    "            num_samples=num_samples,\n",
    "            image_key=\"ct\",\n",
    "            image_threshold=0,\n",
    "        ),\n",
    "        RandFlipd(\n",
    "            keys=[\"ct\", \"seg\"],\n",
    "            spatial_axis=[0],\n",
    "            prob=0.20,\n",
    "        ),\n",
    "        RandFlipd(\n",
    "            keys=[\"ct\", \"seg\"],\n",
    "            spatial_axis=[1],\n",
    "            prob=0.20,\n",
    "        ),\n",
    "        RandFlipd(\n",
    "            keys=[\"ct\", \"seg\"],\n",
    "            spatial_axis=[2],\n",
    "            prob=0.20,\n",
    "        ),\n",
    "        RandRotate90d(\n",
    "            keys=[\"ct\", \"seg\"],\n",
    "            prob=0.20,\n",
    "            max_k=3,\n",
    "        ),\n",
    "    ]\n",
    ")\n",
    "val_transforms = Compose(\n",
    "    [\n",
    "        LoadImaged(keys=[\"ct\", \"seg\"], ensure_channel_first = True),\n",
    "        SpatialPadd(keys=[\"ct\", \"seg\"], spatial_size=(200, 200, 310), method='end'),\n",
    "        Orientationd(keys=[\"ct\",  \"seg\"], axcodes=\"PLS\"),\n",
    "        #NormalizeIntensityd(keys=[\"pt\"]),\n",
    "        ClipCT(keys=[\"ct\"]),\n",
    "        ScaleIntensityd(keys=[\"ct\"], minv=0, maxv=1),\n",
    "        #MulPTFM(keys=[\"ct\",\"pt\"]),\n",
    "        #ConcatItemsd(keys=[\"pt\", \"ct\"], name=\"ctpt\"),\n",
    "    ]\n",
    ")"
   ]
  },
  {
   "cell_type": "code",
   "execution_count": 7,
   "metadata": {},
   "outputs": [],
   "source": [
    "train_ds = monai.data.Dataset(data=train_data, transform=train_transforms)\n",
    "\n",
    "train_loader = DataLoader(\n",
    "    train_ds,\n",
    "    batch_size=2,\n",
    "    shuffle=True,\n",
    "    num_workers=8,\n",
    "    pin_memory=torch.cuda.is_available(),\n",
    "    )\n",
    "\n",
    "val_ds = monai.data.Dataset(data=valid_data, transform=val_transforms)\n",
    "\n",
    "val_loader = DataLoader(\n",
    "    val_ds, \n",
    "    batch_size=2, \n",
    "    num_workers=8, \n",
    "    shuffle= False)"
   ]
  },
  {
   "cell_type": "code",
   "execution_count": 8,
   "metadata": {},
   "outputs": [
    {
     "name": "stdout",
     "output_type": "stream",
     "text": [
      "Nada's version of UNETR\n",
      "(96, 96, 96)\n",
      "(16, 16, 16)\n",
      "(6, 6, 6)\n",
      "768\n",
      "zaz w dakchi ya s lbnat\n"
     ]
    },
    {
     "name": "stderr",
     "output_type": "stream",
     "text": [
      "/home/nada.saadi/miniconda3/envs/clam/lib/python3.8/site-packages/monai/utils/deprecate_utils.py:221: FutureWarning: unetr CustomedUNETR.__init__:pos_embed: Argument `pos_embed` has been deprecated since version 1.2. It will be removed in version 1.4. please use `proj_type` instead.\n",
      "  warn_deprecated(argname, msg, warning_category)\n"
     ]
    }
   ],
   "source": [
    "model = CustomedUNETR(\n",
    "    in_channels=1,  # Number of input channels\n",
    "    out_channels=3,  # Number of output channels\n",
    "    img_size=(96, 96, 96),  # Size of the input image\n",
    "    feature_size=48,  # Size of the feature maps\n",
    "    hidden_size=768,\n",
    "    num_heads = 12,# Size of the hidden layers in the transformer\n",
    "    mlp_dim=3072,  # Dimension of the MLP in the transformer\n",
    "    pos_embed=\"perceptron\",  # Type of positional embedding\n",
    "    norm_name=\"instance\",  # Type of normalization\n",
    "    res_block=True,  # Whether to use residual blocks\n",
    "    dropout_rate=0.0,\n",
    "    proj_type= \"conv\",\n",
    "    r=4,\n",
    "    lora_layer=True,\n",
    "    use_ct_encoder=True,\n",
    "    use_pet_encoder=False    \n",
    ").to(device) \n",
    "pt_weights_ct_only_6th='/home/nada.saadi/CTPET/hecktor2022_cropped/6th_CT_ourapproach/6th_center_CT_our_approach.pth'\n",
    "state_dict = torch.load(pt_weights_ct_only_6th)\n",
    "\n",
    "for name, param in model.named_parameters():\n",
    "    if \"decoder5\" in name or \"decoder4\" in name or \"decoder3\" in name or \"decoder2\" in name:\n",
    "        param.requires_grad = False\n"
   ]
  },
  {
   "cell_type": "code",
   "execution_count": 9,
   "metadata": {},
   "outputs": [],
   "source": [
    "def poly_lr(epoch, max_epochs, initial_lr, exponent=0.9):\n",
    "    return initial_lr * (1 - epoch / max_epochs)**exponent\n",
    "\n",
    "model_dir='/home/nada.saadi/CTPET/hecktor2022_cropped/X2_ct_on_ct'\n",
    "max_iterations = 18000\n",
    "eval_num = 100\n",
    "\n",
    "## running stats\n",
    "global_step = 0\n",
    "dice_val_best = 0.0\n",
    "global_step_best = 0\n",
    "epoch_loss_values = []\n",
    "metric_values = []\n",
    "metric_values_tumor = []\n",
    "metric_values_lymph = []\n",
    "\n",
    "\n",
    "loss_function = DiceCELoss(to_onehot_y=True, softmax=True)\n",
    "optimizer = torch.optim.AdamW(model.parameters(), lr=1e-4, weight_decay=1e-5)\n",
    "\n",
    "\n",
    "post_label = AsDiscrete(to_onehot=3)\n",
    "post_pred = AsDiscrete(argmax=True, to_onehot=3)\n",
    "\n",
    "dice_metric = DiceMetric(include_background=False, reduction=\"mean\", get_not_nans=False)\n",
    "dice_metric_batch = DiceMetric(include_background=False, reduction=\"mean_batch\")\n",
    "\n",
    "\n",
    "##-----------------------------------------------------------------------------\n",
    "\n",
    "def validation(epoch_iterator_val):\n",
    "        model.eval()\n",
    "        with torch.no_grad():\n",
    "            for step, batch in enumerate(epoch_iterator_val):\n",
    "                val_inputs, val_labels = (batch[\"ct\"].cuda(), batch[\"seg\"].cuda())\n",
    "                val_outputs = sliding_window_inference(val_inputs, (96, 96, 96), 4, model)\n",
    "                val_labels_list = decollate_batch(val_labels)\n",
    "                val_labels_convert = [\n",
    "                    post_label(val_label_tensor) for val_label_tensor in val_labels_list\n",
    "                ]\n",
    "                val_outputs_list = decollate_batch(val_outputs)\n",
    "                val_output_convert = [\n",
    "                    post_pred(val_pred_tensor) for val_pred_tensor in val_outputs_list\n",
    "                ]\n",
    "                dice_metric(y_pred=val_output_convert, y=val_labels_convert)\n",
    "                dice_metric_batch(y_pred=val_output_convert, y=val_labels_convert)\n",
    "                epoch_iterator_val.set_description(\n",
    "                    \"Validate (%d / %d Steps)\" % (global_step, 10.0)\n",
    "                )\n",
    "            mean_dice_val = dice_metric.aggregate().item()\n",
    "            metric_batch_val = dice_metric_batch.aggregate()\n",
    "\n",
    "            metric_tumor = metric_batch_val[0].item()\n",
    "            metric_lymph = metric_batch_val[1].item()\n",
    "\n",
    "            dice_metric.reset()\n",
    "            dice_metric_batch.reset()\n",
    "        return mean_dice_val, metric_tumor, metric_lymph\n",
    "\n",
    "\n",
    "\n",
    "def train(global_step, train_loader, dice_val_best, global_step_best):\n",
    "        model.train()\n",
    "        epoch_loss = 0 \n",
    "        step = 0\n",
    "        epoch_iterator = tqdm(\n",
    "            train_loader, desc=\"Training (X / X Steps) (loss=X.X)\", dynamic_ncols=True\n",
    "        )\n",
    "        \n",
    "        for step, batch in enumerate(epoch_iterator):\n",
    "            step += 1\n",
    "            x, y = (batch[\"ct\"].cuda(), batch[\"seg\"].cuda())\n",
    "            logit_map = model(x,mode=None)\n",
    "            loss = loss_function(logit_map, y)\n",
    "            loss.backward()\n",
    "            epoch_loss += loss.item() \n",
    "            optimizer.step()\n",
    "            optimizer.zero_grad()\n",
    "            epoch_iterator.set_description(\n",
    "                \"Training (%d / %d Steps) (loss=%2.5f)\"\n",
    "                % (global_step, max_iterations, loss)\n",
    "            )\n",
    "            \n",
    "            if (\n",
    "                global_step % eval_num == 0 and global_step != 0\n",
    "            ) or global_step == max_iterations:\n",
    "                epoch_iterator_val = tqdm(\n",
    "                    val_loader, desc=\"Validate (X / X Steps) (dice=X.X)\", dynamic_ncols=True\n",
    "                )\n",
    "                dice_val, metric_tumor, metric_lymph = validation(epoch_iterator_val)\n",
    "                epoch_loss /= step\n",
    "                epoch_loss_values.append(epoch_loss)\n",
    "                metric_values.append(dice_val)\n",
    "                metric_values_tumor.append(metric_tumor)\n",
    "                metric_values_lymph.append(metric_lymph)\n",
    "                if dice_val > dice_val_best:\n",
    "                    dice_val_best = dice_val\n",
    "                    global_step_best = global_step\n",
    "                    torch.save(\n",
    "                        model.state_dict(), os.path.join(model_dir, \"X2_ct_on_ct_6th.pth\")\n",
    "                    )\n",
    "                    print(\n",
    "                        \"Model Was Saved ! Current Best Avg. Dice: {} Current Avg. Dice: {} Current Avg. tumor Dice: {} Current Avg. lymph Dice: {}\".format(\n",
    "                            dice_val_best, dice_val, metric_tumor, metric_lymph\n",
    "                        )\n",
    "                    )\n",
    "                else:\n",
    "                    print(\n",
    "                        \"Model Was Not Saved ! Current Best Avg. Dice: {} Current Avg. Dice: {} Current Avg. tumor Dice: {} Current Avg. lymph Dice: {}\".format(\n",
    "                            dice_val_best, dice_val,  metric_tumor, metric_lymph\n",
    "                        )\n",
    "                    )\n",
    "            global_step += 1\n",
    "        return global_step, dice_val_best, global_step_best"
   ]
  },
  {
   "cell_type": "code",
   "execution_count": 10,
   "metadata": {},
   "outputs": [
    {
     "name": "stderr",
     "output_type": "stream",
     "text": [
      "Training (19 / 18000 Steps) (loss=1.70008): 100%|██████████| 20/20 [00:58<00:00,  2.95s/it]\n",
      "Training (39 / 18000 Steps) (loss=1.59967): 100%|██████████| 20/20 [00:35<00:00,  1.76s/it]\n",
      "Training (59 / 18000 Steps) (loss=1.49552): 100%|██████████| 20/20 [00:35<00:00,  1.78s/it]\n",
      "Training (79 / 18000 Steps) (loss=1.43820): 100%|██████████| 20/20 [00:35<00:00,  1.78s/it]\n",
      "Training (99 / 18000 Steps) (loss=1.37617): 100%|██████████| 20/20 [00:35<00:00,  1.75s/it]\n",
      "Validate (100 / 10 Steps): 100%|██████████| 7/7 [00:30<00:00,  4.34s/it]4<?, ?it/s]\n",
      "Training (100 / 18000 Steps) (loss=1.39033):   5%|▌         | 1/20 [00:36<11:32, 36.47s/it]"
     ]
    },
    {
     "name": "stdout",
     "output_type": "stream",
     "text": [
      "Model Was Saved ! Current Best Avg. Dice: 0.00019168791186530143 Current Avg. Dice: 0.00019168791186530143 Current Avg. tumor Dice: 0.0002596958656795323 Current Avg. lymph Dice: 0.00012367995805107057\n"
     ]
    },
    {
     "name": "stderr",
     "output_type": "stream",
     "text": [
      "Training (119 / 18000 Steps) (loss=1.29795): 100%|██████████| 20/20 [01:06<00:00,  3.34s/it]\n",
      "Training (139 / 18000 Steps) (loss=1.29875): 100%|██████████| 20/20 [00:35<00:00,  1.77s/it]\n",
      "Training (159 / 18000 Steps) (loss=1.24084): 100%|██████████| 20/20 [00:35<00:00,  1.77s/it]\n",
      "Training (179 / 18000 Steps) (loss=1.20485): 100%|██████████| 20/20 [00:35<00:00,  1.77s/it]\n",
      "Training (199 / 18000 Steps) (loss=1.16712): 100%|██████████| 20/20 [00:35<00:00,  1.77s/it]\n",
      "Validate (200 / 10 Steps): 100%|██████████| 7/7 [00:25<00:00,  3.63s/it]4<?, ?it/s]\n",
      "Training (200 / 18000 Steps) (loss=1.16999):   5%|▌         | 1/20 [00:30<09:34, 30.24s/it]"
     ]
    },
    {
     "name": "stdout",
     "output_type": "stream",
     "text": [
      "Model Was Not Saved ! Current Best Avg. Dice: 0.00019168791186530143 Current Avg. Dice: 3.2980671676341444e-05 Current Avg. tumor Dice: 6.596133607672527e-05 Current Avg. lymph Dice: 0.0\n"
     ]
    },
    {
     "name": "stderr",
     "output_type": "stream",
     "text": [
      "Training (219 / 18000 Steps) (loss=1.15632): 100%|██████████| 20/20 [01:00<00:00,  3.03s/it]\n",
      "Training (239 / 18000 Steps) (loss=1.15348): 100%|██████████| 20/20 [00:36<00:00,  1.81s/it]\n",
      "Training (259 / 18000 Steps) (loss=1.08875): 100%|██████████| 20/20 [00:35<00:00,  1.77s/it]\n",
      "Training (279 / 18000 Steps) (loss=1.08259): 100%|██████████| 20/20 [00:35<00:00,  1.78s/it]\n",
      "Training (299 / 18000 Steps) (loss=1.03967): 100%|██████████| 20/20 [00:35<00:00,  1.78s/it]\n",
      "Validate (300 / 10 Steps): 100%|██████████| 7/7 [00:25<00:00,  3.66s/it]5<?, ?it/s]\n",
      "Training (300 / 18000 Steps) (loss=1.00962):   5%|▌         | 1/20 [00:30<09:44, 30.74s/it]"
     ]
    },
    {
     "name": "stdout",
     "output_type": "stream",
     "text": [
      "Model Was Not Saved ! Current Best Avg. Dice: 0.00019168791186530143 Current Avg. Dice: 0.0 Current Avg. tumor Dice: 0.0 Current Avg. lymph Dice: 0.0\n"
     ]
    },
    {
     "name": "stderr",
     "output_type": "stream",
     "text": [
      "Training (319 / 18000 Steps) (loss=1.04270): 100%|██████████| 20/20 [01:01<00:00,  3.09s/it]\n",
      "Training (339 / 18000 Steps) (loss=1.04772): 100%|██████████| 20/20 [00:35<00:00,  1.78s/it]\n",
      "Training (359 / 18000 Steps) (loss=0.98927): 100%|██████████| 20/20 [00:35<00:00,  1.76s/it]\n",
      "Training (379 / 18000 Steps) (loss=0.96822): 100%|██████████| 20/20 [00:35<00:00,  1.78s/it]\n",
      "Training (399 / 18000 Steps) (loss=0.99634): 100%|██████████| 20/20 [00:35<00:00,  1.77s/it]\n",
      "Validate (400 / 10 Steps): 100%|██████████| 7/7 [00:25<00:00,  3.63s/it]5<?, ?it/s]\n",
      "Training (400 / 18000 Steps) (loss=0.97632):   5%|▌         | 1/20 [00:30<09:42, 30.64s/it]"
     ]
    },
    {
     "name": "stdout",
     "output_type": "stream",
     "text": [
      "Model Was Not Saved ! Current Best Avg. Dice: 0.00019168791186530143 Current Avg. Dice: 0.0 Current Avg. tumor Dice: 0.0 Current Avg. lymph Dice: 0.0\n"
     ]
    },
    {
     "name": "stderr",
     "output_type": "stream",
     "text": [
      "Training (419 / 18000 Steps) (loss=0.95264): 100%|██████████| 20/20 [01:00<00:00,  3.04s/it]\n",
      "Training (439 / 18000 Steps) (loss=0.94962): 100%|██████████| 20/20 [00:35<00:00,  1.76s/it]\n",
      "Training (459 / 18000 Steps) (loss=0.90796): 100%|██████████| 20/20 [00:34<00:00,  1.74s/it]\n",
      "Training (479 / 18000 Steps) (loss=0.91594): 100%|██████████| 20/20 [00:35<00:00,  1.78s/it]\n",
      "Training (499 / 18000 Steps) (loss=0.89408): 100%|██████████| 20/20 [00:35<00:00,  1.76s/it]\n",
      "Validate (500 / 10 Steps): 100%|██████████| 7/7 [00:25<00:00,  3.65s/it]4<?, ?it/s]\n",
      "Training (500 / 18000 Steps) (loss=0.89252):   5%|▌         | 1/20 [00:30<09:39, 30.50s/it]"
     ]
    },
    {
     "name": "stdout",
     "output_type": "stream",
     "text": [
      "Model Was Not Saved ! Current Best Avg. Dice: 0.00019168791186530143 Current Avg. Dice: 0.0 Current Avg. tumor Dice: 0.0 Current Avg. lymph Dice: 0.0\n"
     ]
    },
    {
     "name": "stderr",
     "output_type": "stream",
     "text": [
      "Training (519 / 18000 Steps) (loss=0.90074): 100%|██████████| 20/20 [01:00<00:00,  3.02s/it]\n",
      "Training (539 / 18000 Steps) (loss=0.89834): 100%|██████████| 20/20 [00:35<00:00,  1.78s/it]\n",
      "Training (559 / 18000 Steps) (loss=0.89908): 100%|██████████| 20/20 [00:35<00:00,  1.76s/it]\n",
      "Training (579 / 18000 Steps) (loss=0.84791): 100%|██████████| 20/20 [00:35<00:00,  1.80s/it]\n",
      "Training (599 / 18000 Steps) (loss=0.86456): 100%|██████████| 20/20 [00:35<00:00,  1.79s/it]\n",
      "Validate (600 / 10 Steps): 100%|██████████| 7/7 [00:25<00:00,  3.66s/it]4<?, ?it/s]\n",
      "Training (600 / 18000 Steps) (loss=0.87182):   5%|▌         | 1/20 [00:30<09:38, 30.45s/it]"
     ]
    },
    {
     "name": "stdout",
     "output_type": "stream",
     "text": [
      "Model Was Not Saved ! Current Best Avg. Dice: 0.00019168791186530143 Current Avg. Dice: 5.649504601024091e-05 Current Avg. tumor Dice: 0.0 Current Avg. lymph Dice: 0.00011299009202048182\n"
     ]
    },
    {
     "name": "stderr",
     "output_type": "stream",
     "text": [
      "Training (619 / 18000 Steps) (loss=0.85195): 100%|██████████| 20/20 [01:00<00:00,  3.03s/it]\n",
      "Training (639 / 18000 Steps) (loss=0.83868): 100%|██████████| 20/20 [00:35<00:00,  1.76s/it]\n",
      "Training (659 / 18000 Steps) (loss=0.83488): 100%|██████████| 20/20 [00:34<00:00,  1.75s/it]\n",
      "Training (679 / 18000 Steps) (loss=0.85794): 100%|██████████| 20/20 [00:34<00:00,  1.75s/it]\n",
      "Training (699 / 18000 Steps) (loss=0.79310): 100%|██████████| 20/20 [00:35<00:00,  1.75s/it]\n",
      "Validate (700 / 10 Steps): 100%|██████████| 7/7 [00:25<00:00,  3.64s/it]4<?, ?it/s]\n",
      "Training (700 / 18000 Steps) (loss=0.81003):   5%|▌         | 1/20 [00:30<09:33, 30.19s/it]"
     ]
    },
    {
     "name": "stdout",
     "output_type": "stream",
     "text": [
      "Model Was Not Saved ! Current Best Avg. Dice: 0.00019168791186530143 Current Avg. Dice: 2.4570579626015387e-05 Current Avg. tumor Dice: 0.0 Current Avg. lymph Dice: 4.9141159252030775e-05\n"
     ]
    },
    {
     "name": "stderr",
     "output_type": "stream",
     "text": [
      "Training (719 / 18000 Steps) (loss=0.81760): 100%|██████████| 20/20 [01:00<00:00,  3.02s/it]\n",
      "Training (739 / 18000 Steps) (loss=0.81692): 100%|██████████| 20/20 [00:35<00:00,  1.77s/it]\n",
      "Training (759 / 18000 Steps) (loss=0.79534): 100%|██████████| 20/20 [00:34<00:00,  1.74s/it]\n",
      "Training (779 / 18000 Steps) (loss=0.78710): 100%|██████████| 20/20 [00:34<00:00,  1.75s/it]\n",
      "Training (799 / 18000 Steps) (loss=0.80307): 100%|██████████| 20/20 [00:35<00:00,  1.76s/it]\n",
      "Validate (800 / 10 Steps): 100%|██████████| 7/7 [00:25<00:00,  3.65s/it]4<?, ?it/s]\n",
      "Training (800 / 18000 Steps) (loss=0.80944):   5%|▌         | 1/20 [00:30<09:36, 30.34s/it]"
     ]
    },
    {
     "name": "stdout",
     "output_type": "stream",
     "text": [
      "Model Was Not Saved ! Current Best Avg. Dice: 0.00019168791186530143 Current Avg. Dice: 6.493879482150078e-05 Current Avg. tumor Dice: 0.0 Current Avg. lymph Dice: 0.00012987758964300156\n"
     ]
    },
    {
     "name": "stderr",
     "output_type": "stream",
     "text": [
      "Training (819 / 18000 Steps) (loss=0.78683): 100%|██████████| 20/20 [01:00<00:00,  3.02s/it]\n",
      "Training (839 / 18000 Steps) (loss=0.80048): 100%|██████████| 20/20 [00:35<00:00,  1.77s/it]\n",
      "Training (859 / 18000 Steps) (loss=0.78012): 100%|██████████| 20/20 [00:35<00:00,  1.76s/it]\n",
      "Training (879 / 18000 Steps) (loss=0.80596): 100%|██████████| 20/20 [00:35<00:00,  1.77s/it]\n",
      "Training (899 / 18000 Steps) (loss=0.77155): 100%|██████████| 20/20 [00:34<00:00,  1.74s/it]\n",
      "Validate (900 / 10 Steps): 100%|██████████| 7/7 [00:25<00:00,  3.65s/it]4<?, ?it/s]\n",
      "Training (900 / 18000 Steps) (loss=0.78394):   5%|▌         | 1/20 [00:30<09:39, 30.50s/it]"
     ]
    },
    {
     "name": "stdout",
     "output_type": "stream",
     "text": [
      "Model Was Not Saved ! Current Best Avg. Dice: 0.00019168791186530143 Current Avg. Dice: 0.0 Current Avg. tumor Dice: 0.0 Current Avg. lymph Dice: 0.0\n"
     ]
    },
    {
     "name": "stderr",
     "output_type": "stream",
     "text": [
      "Training (919 / 18000 Steps) (loss=0.74437): 100%|██████████| 20/20 [01:00<00:00,  3.04s/it]\n",
      "Training (939 / 18000 Steps) (loss=0.77444): 100%|██████████| 20/20 [00:34<00:00,  1.73s/it]\n",
      "Training (959 / 18000 Steps) (loss=0.74794): 100%|██████████| 20/20 [00:35<00:00,  1.76s/it]\n",
      "Training (979 / 18000 Steps) (loss=0.75712): 100%|██████████| 20/20 [00:35<00:00,  1.77s/it]\n",
      "Training (999 / 18000 Steps) (loss=0.77911): 100%|██████████| 20/20 [00:35<00:00,  1.77s/it]\n",
      "Validate (1000 / 10 Steps): 100%|██████████| 7/7 [00:25<00:00,  3.65s/it]4<?, ?it/s]\n",
      "Training (1000 / 18000 Steps) (loss=0.73912):   5%|▌         | 1/20 [00:31<09:56, 31.37s/it]"
     ]
    },
    {
     "name": "stdout",
     "output_type": "stream",
     "text": [
      "Model Was Saved ! Current Best Avg. Dice: 0.0005572535446844995 Current Avg. Dice: 0.0005572535446844995 Current Avg. tumor Dice: 0.0 Current Avg. lymph Dice: 0.001114507089368999\n"
     ]
    },
    {
     "name": "stderr",
     "output_type": "stream",
     "text": [
      "Training (1019 / 18000 Steps) (loss=0.85918): 100%|██████████| 20/20 [01:01<00:00,  3.09s/it]\n",
      "Training (1039 / 18000 Steps) (loss=0.75166): 100%|██████████| 20/20 [00:35<00:00,  1.79s/it]\n",
      "Training (1059 / 18000 Steps) (loss=0.76647): 100%|██████████| 20/20 [00:35<00:00,  1.76s/it]\n",
      "Training (1079 / 18000 Steps) (loss=0.73367): 100%|██████████| 20/20 [00:35<00:00,  1.77s/it]\n",
      "Training (1099 / 18000 Steps) (loss=0.73113): 100%|██████████| 20/20 [00:35<00:00,  1.76s/it]\n",
      "Validate (1100 / 10 Steps): 100%|██████████| 7/7 [00:25<00:00,  3.66s/it]4<?, ?it/s]\n",
      "Training (1100 / 18000 Steps) (loss=0.73954):   5%|▌         | 1/20 [00:30<09:38, 30.43s/it]"
     ]
    },
    {
     "name": "stdout",
     "output_type": "stream",
     "text": [
      "Model Was Not Saved ! Current Best Avg. Dice: 0.0005572535446844995 Current Avg. Dice: 0.00034085652441717684 Current Avg. tumor Dice: 0.0 Current Avg. lymph Dice: 0.0006817130488343537\n"
     ]
    },
    {
     "name": "stderr",
     "output_type": "stream",
     "text": [
      "Training (1119 / 18000 Steps) (loss=0.72683): 100%|██████████| 20/20 [01:00<00:00,  3.04s/it]\n",
      "Training (1139 / 18000 Steps) (loss=0.74488): 100%|██████████| 20/20 [00:35<00:00,  1.77s/it]\n",
      "Training (1159 / 18000 Steps) (loss=0.74589): 100%|██████████| 20/20 [00:35<00:00,  1.75s/it]\n",
      "Training (1179 / 18000 Steps) (loss=0.73837): 100%|██████████| 20/20 [00:35<00:00,  1.77s/it]\n",
      "Training (1199 / 18000 Steps) (loss=0.73532): 100%|██████████| 20/20 [00:35<00:00,  1.78s/it]\n",
      "Validate (1200 / 10 Steps): 100%|██████████| 7/7 [00:25<00:00,  3.64s/it]4<?, ?it/s]\n",
      "Training (1200 / 18000 Steps) (loss=0.76700):   5%|▌         | 1/20 [00:31<09:50, 31.07s/it]"
     ]
    },
    {
     "name": "stdout",
     "output_type": "stream",
     "text": [
      "Model Was Saved ! Current Best Avg. Dice: 0.0005646132049150765 Current Avg. Dice: 0.0005646132049150765 Current Avg. tumor Dice: 3.432828088989481e-05 Current Avg. lymph Dice: 0.00109489809256047\n"
     ]
    },
    {
     "name": "stderr",
     "output_type": "stream",
     "text": [
      "Training (1219 / 18000 Steps) (loss=0.72947): 100%|██████████| 20/20 [01:01<00:00,  3.09s/it]\n",
      "Training (1239 / 18000 Steps) (loss=0.72623): 100%|██████████| 20/20 [00:35<00:00,  1.76s/it]\n",
      "Training (1259 / 18000 Steps) (loss=0.78375): 100%|██████████| 20/20 [00:35<00:00,  1.77s/it]\n",
      "Training (1279 / 18000 Steps) (loss=0.72804): 100%|██████████| 20/20 [00:35<00:00,  1.77s/it]\n",
      "Training (1299 / 18000 Steps) (loss=0.73214): 100%|██████████| 20/20 [00:34<00:00,  1.75s/it]\n",
      "Validate (1300 / 10 Steps): 100%|██████████| 7/7 [00:25<00:00,  3.65s/it]4<?, ?it/s]\n",
      "Training (1300 / 18000 Steps) (loss=0.75374):   5%|▌         | 1/20 [00:31<09:50, 31.10s/it]"
     ]
    },
    {
     "name": "stdout",
     "output_type": "stream",
     "text": [
      "Model Was Saved ! Current Best Avg. Dice: 0.0022564365062862635 Current Avg. Dice: 0.0022564365062862635 Current Avg. tumor Dice: 0.00017254090926144272 Current Avg. lymph Dice: 0.004340332467108965\n"
     ]
    },
    {
     "name": "stderr",
     "output_type": "stream",
     "text": [
      "Training (1319 / 18000 Steps) (loss=0.72161): 100%|██████████| 20/20 [01:01<00:00,  3.08s/it]\n",
      "Training (1339 / 18000 Steps) (loss=0.75665): 100%|██████████| 20/20 [00:35<00:00,  1.75s/it]\n",
      "Training (1359 / 18000 Steps) (loss=0.73876): 100%|██████████| 20/20 [00:35<00:00,  1.78s/it]\n",
      "Training (1379 / 18000 Steps) (loss=0.73218): 100%|██████████| 20/20 [00:35<00:00,  1.75s/it]\n",
      "Training (1399 / 18000 Steps) (loss=0.71197): 100%|██████████| 20/20 [00:35<00:00,  1.76s/it]\n",
      "Validate (1400 / 10 Steps): 100%|██████████| 7/7 [00:25<00:00,  3.65s/it]4<?, ?it/s]\n",
      "Training (1400 / 18000 Steps) (loss=0.84476):   5%|▌         | 1/20 [00:31<09:54, 31.31s/it]"
     ]
    },
    {
     "name": "stdout",
     "output_type": "stream",
     "text": [
      "Model Was Saved ! Current Best Avg. Dice: 0.0031255073845386505 Current Avg. Dice: 0.0031255073845386505 Current Avg. tumor Dice: 0.0010642686393111944 Current Avg. lymph Dice: 0.00518674636259675\n"
     ]
    },
    {
     "name": "stderr",
     "output_type": "stream",
     "text": [
      "Training (1419 / 18000 Steps) (loss=0.73140): 100%|██████████| 20/20 [01:01<00:00,  3.06s/it]\n",
      "Training (1439 / 18000 Steps) (loss=0.72846): 100%|██████████| 20/20 [00:35<00:00,  1.77s/it]\n",
      "Training (1459 / 18000 Steps) (loss=0.73628): 100%|██████████| 20/20 [00:35<00:00,  1.78s/it]\n",
      "Training (1479 / 18000 Steps) (loss=0.71548): 100%|██████████| 20/20 [00:35<00:00,  1.75s/it]\n",
      "Training (1499 / 18000 Steps) (loss=0.70706): 100%|██████████| 20/20 [00:36<00:00,  1.80s/it]\n",
      "Validate (1500 / 10 Steps): 100%|██████████| 7/7 [00:25<00:00,  3.64s/it]4<?, ?it/s]\n",
      "Training (1500 / 18000 Steps) (loss=0.71695):   5%|▌         | 1/20 [00:31<09:49, 31.05s/it]"
     ]
    },
    {
     "name": "stdout",
     "output_type": "stream",
     "text": [
      "Model Was Saved ! Current Best Avg. Dice: 0.01009826548397541 Current Avg. Dice: 0.01009826548397541 Current Avg. tumor Dice: 0.006011708173900843 Current Avg. lymph Dice: 0.01418482419103384\n"
     ]
    },
    {
     "name": "stderr",
     "output_type": "stream",
     "text": [
      "Training (1519 / 18000 Steps) (loss=0.71661): 100%|██████████| 20/20 [01:01<00:00,  3.08s/it]\n",
      "Training (1539 / 18000 Steps) (loss=0.72718): 100%|██████████| 20/20 [00:36<00:00,  1.81s/it]\n",
      "Training (1559 / 18000 Steps) (loss=0.70573): 100%|██████████| 20/20 [00:35<00:00,  1.78s/it]\n",
      "Training (1579 / 18000 Steps) (loss=0.67357): 100%|██████████| 20/20 [00:35<00:00,  1.78s/it]\n",
      "Training (1599 / 18000 Steps) (loss=0.71544): 100%|██████████| 20/20 [00:35<00:00,  1.78s/it]\n",
      "Validate (1600 / 10 Steps): 100%|██████████| 7/7 [00:25<00:00,  3.66s/it]4<?, ?it/s]\n",
      "Training (1600 / 18000 Steps) (loss=0.71344):   5%|▌         | 1/20 [00:30<09:35, 30.27s/it]"
     ]
    },
    {
     "name": "stdout",
     "output_type": "stream",
     "text": [
      "Model Was Not Saved ! Current Best Avg. Dice: 0.01009826548397541 Current Avg. Dice: 0.008900897577404976 Current Avg. tumor Dice: 0.01318693719804287 Current Avg. lymph Dice: 0.004614859353750944\n"
     ]
    },
    {
     "name": "stderr",
     "output_type": "stream",
     "text": [
      "Training (1619 / 18000 Steps) (loss=0.73200): 100%|██████████| 20/20 [01:01<00:00,  3.08s/it]\n",
      "Training (1639 / 18000 Steps) (loss=0.70215): 100%|██████████| 20/20 [00:35<00:00,  1.80s/it]\n",
      "Training (1659 / 18000 Steps) (loss=0.71627): 100%|██████████| 20/20 [00:35<00:00,  1.78s/it]\n",
      "Training (1679 / 18000 Steps) (loss=0.72021): 100%|██████████| 20/20 [00:35<00:00,  1.79s/it]\n",
      "Training (1699 / 18000 Steps) (loss=0.71065): 100%|██████████| 20/20 [00:35<00:00,  1.77s/it]\n",
      "Validate (1700 / 10 Steps): 100%|██████████| 7/7 [00:25<00:00,  3.70s/it]4<?, ?it/s]\n",
      "Training (1700 / 18000 Steps) (loss=0.72667):   5%|▌         | 1/20 [00:31<09:53, 31.25s/it]"
     ]
    },
    {
     "name": "stdout",
     "output_type": "stream",
     "text": [
      "Model Was Saved ! Current Best Avg. Dice: 0.027577480301260948 Current Avg. Dice: 0.027577480301260948 Current Avg. tumor Dice: 0.04774504899978638 Current Avg. lymph Dice: 0.007409905549138784\n"
     ]
    },
    {
     "name": "stderr",
     "output_type": "stream",
     "text": [
      "Training (1719 / 18000 Steps) (loss=0.71233): 100%|██████████| 20/20 [01:01<00:00,  3.08s/it]\n",
      "Training (1739 / 18000 Steps) (loss=0.70092): 100%|██████████| 20/20 [00:35<00:00,  1.77s/it]\n",
      "Training (1759 / 18000 Steps) (loss=0.67996): 100%|██████████| 20/20 [00:35<00:00,  1.79s/it]\n",
      "Training (1779 / 18000 Steps) (loss=0.68844): 100%|██████████| 20/20 [00:35<00:00,  1.76s/it]\n",
      "Training (1799 / 18000 Steps) (loss=0.72863): 100%|██████████| 20/20 [00:35<00:00,  1.80s/it]\n",
      "Validate (1800 / 10 Steps): 100%|██████████| 7/7 [00:25<00:00,  3.67s/it]4<?, ?it/s]\n",
      "Training (1800 / 18000 Steps) (loss=0.64777):   5%|▌         | 1/20 [00:31<09:50, 31.09s/it]"
     ]
    },
    {
     "name": "stdout",
     "output_type": "stream",
     "text": [
      "Model Was Saved ! Current Best Avg. Dice: 0.03666112571954727 Current Avg. Dice: 0.03666112571954727 Current Avg. tumor Dice: 0.04798067361116409 Current Avg. lymph Dice: 0.025341583415865898\n"
     ]
    },
    {
     "name": "stderr",
     "output_type": "stream",
     "text": [
      "Training (1819 / 18000 Steps) (loss=0.76497): 100%|██████████| 20/20 [01:01<00:00,  3.09s/it]\n",
      "Training (1839 / 18000 Steps) (loss=0.68792): 100%|██████████| 20/20 [00:35<00:00,  1.80s/it]\n",
      "Training (1859 / 18000 Steps) (loss=0.67605): 100%|██████████| 20/20 [00:35<00:00,  1.77s/it]\n",
      "Training (1879 / 18000 Steps) (loss=0.70335): 100%|██████████| 20/20 [00:35<00:00,  1.77s/it]\n",
      "Training (1899 / 18000 Steps) (loss=0.66196): 100%|██████████| 20/20 [00:35<00:00,  1.77s/it]\n",
      "Validate (1900 / 10 Steps): 100%|██████████| 7/7 [00:25<00:00,  3.65s/it]4<?, ?it/s]\n",
      "Training (1900 / 18000 Steps) (loss=0.67724):   5%|▌         | 1/20 [00:31<09:50, 31.09s/it]"
     ]
    },
    {
     "name": "stdout",
     "output_type": "stream",
     "text": [
      "Model Was Saved ! Current Best Avg. Dice: 0.06949450820684433 Current Avg. Dice: 0.06949450820684433 Current Avg. tumor Dice: 0.08711381256580353 Current Avg. lymph Dice: 0.05187520757317543\n"
     ]
    },
    {
     "name": "stderr",
     "output_type": "stream",
     "text": [
      "Training (1919 / 18000 Steps) (loss=0.70670): 100%|██████████| 20/20 [01:01<00:00,  3.06s/it]\n",
      "Training (1939 / 18000 Steps) (loss=0.68872): 100%|██████████| 20/20 [00:35<00:00,  1.78s/it]\n",
      "Training (1959 / 18000 Steps) (loss=0.71407): 100%|██████████| 20/20 [00:35<00:00,  1.75s/it]\n",
      "Training (1979 / 18000 Steps) (loss=0.71163): 100%|██████████| 20/20 [00:35<00:00,  1.76s/it]\n",
      "Training (1999 / 18000 Steps) (loss=0.68567): 100%|██████████| 20/20 [00:35<00:00,  1.77s/it]\n",
      "Validate (2000 / 10 Steps): 100%|██████████| 7/7 [00:25<00:00,  3.65s/it]4<?, ?it/s]\n",
      "Training (2000 / 18000 Steps) (loss=0.66579):   5%|▌         | 1/20 [00:31<09:51, 31.14s/it]"
     ]
    },
    {
     "name": "stdout",
     "output_type": "stream",
     "text": [
      "Model Was Saved ! Current Best Avg. Dice: 0.09564613550901413 Current Avg. Dice: 0.09564613550901413 Current Avg. tumor Dice: 0.12591010332107544 Current Avg. lymph Dice: 0.06538217514753342\n"
     ]
    },
    {
     "name": "stderr",
     "output_type": "stream",
     "text": [
      "Training (2019 / 18000 Steps) (loss=0.66831): 100%|██████████| 20/20 [01:01<00:00,  3.06s/it]\n",
      "Training (2039 / 18000 Steps) (loss=0.69019): 100%|██████████| 20/20 [00:35<00:00,  1.76s/it]\n",
      "Training (2059 / 18000 Steps) (loss=0.67114): 100%|██████████| 20/20 [00:34<00:00,  1.75s/it]\n",
      "Training (2079 / 18000 Steps) (loss=0.66791): 100%|██████████| 20/20 [00:34<00:00,  1.74s/it]\n",
      "Training (2099 / 18000 Steps) (loss=0.69315): 100%|██████████| 20/20 [00:34<00:00,  1.73s/it]\n",
      "Validate (2100 / 10 Steps): 100%|██████████| 7/7 [00:25<00:00,  3.62s/it]4<?, ?it/s]\n",
      "Training (2100 / 18000 Steps) (loss=0.65088):   5%|▌         | 1/20 [00:30<09:45, 30.83s/it]"
     ]
    },
    {
     "name": "stdout",
     "output_type": "stream",
     "text": [
      "Model Was Saved ! Current Best Avg. Dice: 0.10091686248779297 Current Avg. Dice: 0.10091686248779297 Current Avg. tumor Dice: 0.13835906982421875 Current Avg. lymph Dice: 0.06347464770078659\n"
     ]
    },
    {
     "name": "stderr",
     "output_type": "stream",
     "text": [
      "Training (2119 / 18000 Steps) (loss=0.66841): 100%|██████████| 20/20 [01:00<00:00,  3.02s/it]\n",
      "Training (2139 / 18000 Steps) (loss=0.68666): 100%|██████████| 20/20 [00:34<00:00,  1.75s/it]\n",
      "Training (2159 / 18000 Steps) (loss=0.69099): 100%|██████████| 20/20 [00:35<00:00,  1.75s/it]\n",
      "Training (2179 / 18000 Steps) (loss=0.62329): 100%|██████████| 20/20 [00:34<00:00,  1.75s/it]\n",
      "Training (2199 / 18000 Steps) (loss=0.67476): 100%|██████████| 20/20 [00:35<00:00,  1.76s/it]\n",
      "Validate (2200 / 10 Steps): 100%|██████████| 7/7 [00:25<00:00,  3.63s/it]4<?, ?it/s]\n",
      "Training (2200 / 18000 Steps) (loss=0.66774):   5%|▌         | 1/20 [00:30<09:48, 30.99s/it]"
     ]
    },
    {
     "name": "stdout",
     "output_type": "stream",
     "text": [
      "Model Was Saved ! Current Best Avg. Dice: 0.11235679686069489 Current Avg. Dice: 0.11235679686069489 Current Avg. tumor Dice: 0.15222296118736267 Current Avg. lymph Dice: 0.0724906399846077\n"
     ]
    },
    {
     "name": "stderr",
     "output_type": "stream",
     "text": [
      "Training (2219 / 18000 Steps) (loss=0.66798): 100%|██████████| 20/20 [01:00<00:00,  3.04s/it]\n",
      "Training (2239 / 18000 Steps) (loss=0.69279): 100%|██████████| 20/20 [00:35<00:00,  1.76s/it]\n",
      "Training (2259 / 18000 Steps) (loss=0.63557): 100%|██████████| 20/20 [00:34<00:00,  1.74s/it]\n",
      "Training (2279 / 18000 Steps) (loss=0.65564): 100%|██████████| 20/20 [00:35<00:00,  1.75s/it]\n",
      "Training (2299 / 18000 Steps) (loss=0.59231): 100%|██████████| 20/20 [00:34<00:00,  1.72s/it]\n",
      "Validate (2300 / 10 Steps): 100%|██████████| 7/7 [00:25<00:00,  3.64s/it]4<?, ?it/s]\n",
      "Training (2300 / 18000 Steps) (loss=0.63106):   5%|▌         | 1/20 [00:30<09:48, 30.98s/it]"
     ]
    },
    {
     "name": "stdout",
     "output_type": "stream",
     "text": [
      "Model Was Saved ! Current Best Avg. Dice: 0.12155278772115707 Current Avg. Dice: 0.12155278772115707 Current Avg. tumor Dice: 0.1864060014486313 Current Avg. lymph Dice: 0.05669958144426346\n"
     ]
    },
    {
     "name": "stderr",
     "output_type": "stream",
     "text": [
      "Training (2319 / 18000 Steps) (loss=0.61792): 100%|██████████| 20/20 [01:00<00:00,  3.05s/it]\n",
      "Training (2339 / 18000 Steps) (loss=0.65526): 100%|██████████| 20/20 [00:35<00:00,  1.75s/it]\n",
      "Training (2359 / 18000 Steps) (loss=0.67164): 100%|██████████| 20/20 [00:34<00:00,  1.75s/it]\n",
      "Training (2379 / 18000 Steps) (loss=0.59074): 100%|██████████| 20/20 [00:35<00:00,  1.75s/it]\n",
      "Training (2399 / 18000 Steps) (loss=0.73770): 100%|██████████| 20/20 [00:34<00:00,  1.73s/it]\n",
      "Validate (2400 / 10 Steps): 100%|██████████| 7/7 [00:25<00:00,  3.64s/it]4<?, ?it/s]\n",
      "Training (2400 / 18000 Steps) (loss=0.66192):   5%|▌         | 1/20 [00:31<09:50, 31.09s/it]"
     ]
    },
    {
     "name": "stdout",
     "output_type": "stream",
     "text": [
      "Model Was Saved ! Current Best Avg. Dice: 0.15461452305316925 Current Avg. Dice: 0.15461452305316925 Current Avg. tumor Dice: 0.19229353964328766 Current Avg. lymph Dice: 0.11693549901247025\n"
     ]
    },
    {
     "name": "stderr",
     "output_type": "stream",
     "text": [
      "Training (2419 / 18000 Steps) (loss=0.61855): 100%|██████████| 20/20 [01:01<00:00,  3.06s/it]\n",
      "Training (2439 / 18000 Steps) (loss=0.60406): 100%|██████████| 20/20 [00:35<00:00,  1.75s/it]\n",
      "Training (2459 / 18000 Steps) (loss=0.66521): 100%|██████████| 20/20 [00:34<00:00,  1.74s/it]\n",
      "Training (2479 / 18000 Steps) (loss=0.69421): 100%|██████████| 20/20 [00:34<00:00,  1.73s/it]\n",
      "Training (2499 / 18000 Steps) (loss=0.69315): 100%|██████████| 20/20 [00:35<00:00,  1.76s/it]\n",
      "Validate (2500 / 10 Steps): 100%|██████████| 7/7 [00:25<00:00,  3.63s/it]4<?, ?it/s]\n",
      "Training (2500 / 18000 Steps) (loss=0.65442):   5%|▌         | 1/20 [00:30<09:47, 30.92s/it]"
     ]
    },
    {
     "name": "stdout",
     "output_type": "stream",
     "text": [
      "Model Was Saved ! Current Best Avg. Dice: 0.1768958568572998 Current Avg. Dice: 0.1768958568572998 Current Avg. tumor Dice: 0.23908181488513947 Current Avg. lymph Dice: 0.11470992118120193\n"
     ]
    },
    {
     "name": "stderr",
     "output_type": "stream",
     "text": [
      "Training (2519 / 18000 Steps) (loss=0.69429): 100%|██████████| 20/20 [01:00<00:00,  3.04s/it]\n",
      "Training (2539 / 18000 Steps) (loss=0.64626): 100%|██████████| 20/20 [00:34<00:00,  1.75s/it]\n",
      "Training (2559 / 18000 Steps) (loss=0.56018): 100%|██████████| 20/20 [00:34<00:00,  1.74s/it]\n",
      "Training (2579 / 18000 Steps) (loss=0.60336): 100%|██████████| 20/20 [00:34<00:00,  1.74s/it]\n",
      "Training (2599 / 18000 Steps) (loss=0.58247): 100%|██████████| 20/20 [00:34<00:00,  1.73s/it]\n",
      "Validate (2600 / 10 Steps): 100%|██████████| 7/7 [00:25<00:00,  3.63s/it]4<?, ?it/s]\n",
      "Training (2600 / 18000 Steps) (loss=0.56406):   5%|▌         | 1/20 [00:30<09:33, 30.17s/it]"
     ]
    },
    {
     "name": "stdout",
     "output_type": "stream",
     "text": [
      "Model Was Not Saved ! Current Best Avg. Dice: 0.1768958568572998 Current Avg. Dice: 0.15050934255123138 Current Avg. tumor Dice: 0.2189149558544159 Current Avg. lymph Dice: 0.08210372924804688\n"
     ]
    },
    {
     "name": "stderr",
     "output_type": "stream",
     "text": [
      "Training (2619 / 18000 Steps) (loss=0.64950): 100%|██████████| 20/20 [01:00<00:00,  3.00s/it]\n",
      "Training (2639 / 18000 Steps) (loss=0.59791): 100%|██████████| 20/20 [00:34<00:00,  1.73s/it]\n",
      "Training (2659 / 18000 Steps) (loss=0.61225): 100%|██████████| 20/20 [00:34<00:00,  1.73s/it]\n",
      "Training (2679 / 18000 Steps) (loss=0.66388): 100%|██████████| 20/20 [00:35<00:00,  1.75s/it]\n",
      "Training (2699 / 18000 Steps) (loss=0.62731): 100%|██████████| 20/20 [00:34<00:00,  1.75s/it]\n",
      "Validate (2700 / 10 Steps): 100%|██████████| 7/7 [00:25<00:00,  3.62s/it]4<?, ?it/s]\n",
      "Training (2700 / 18000 Steps) (loss=0.61645):   5%|▌         | 1/20 [00:29<09:28, 29.91s/it]"
     ]
    },
    {
     "name": "stdout",
     "output_type": "stream",
     "text": [
      "Model Was Not Saved ! Current Best Avg. Dice: 0.1768958568572998 Current Avg. Dice: 0.1664084941148758 Current Avg. tumor Dice: 0.25968310236930847 Current Avg. lymph Dice: 0.07313384860754013\n"
     ]
    },
    {
     "name": "stderr",
     "output_type": "stream",
     "text": [
      "Training (2719 / 18000 Steps) (loss=0.63490): 100%|██████████| 20/20 [01:00<00:00,  3.01s/it]\n",
      "Training (2739 / 18000 Steps) (loss=0.60140): 100%|██████████| 20/20 [00:34<00:00,  1.75s/it]\n",
      "Training (2759 / 18000 Steps) (loss=0.55207): 100%|██████████| 20/20 [00:35<00:00,  1.75s/it]\n",
      "Training (2779 / 18000 Steps) (loss=0.57786): 100%|██████████| 20/20 [00:34<00:00,  1.75s/it]\n",
      "Training (2799 / 18000 Steps) (loss=0.61638): 100%|██████████| 20/20 [00:35<00:00,  1.77s/it]\n",
      "Validate (2800 / 10 Steps): 100%|██████████| 7/7 [00:26<00:00,  3.73s/it]5<?, ?it/s]\n",
      "Training (2800 / 18000 Steps) (loss=0.57222):   5%|▌         | 1/20 [00:31<09:56, 31.42s/it]"
     ]
    },
    {
     "name": "stdout",
     "output_type": "stream",
     "text": [
      "Model Was Not Saved ! Current Best Avg. Dice: 0.1768958568572998 Current Avg. Dice: 0.16498316824436188 Current Avg. tumor Dice: 0.21122026443481445 Current Avg. lymph Dice: 0.1187460795044899\n"
     ]
    },
    {
     "name": "stderr",
     "output_type": "stream",
     "text": [
      "Training (2819 / 18000 Steps) (loss=0.53190): 100%|██████████| 20/20 [01:01<00:00,  3.07s/it]\n",
      "Training (2839 / 18000 Steps) (loss=0.60828): 100%|██████████| 20/20 [00:35<00:00,  1.76s/it]\n",
      "Training (2859 / 18000 Steps) (loss=0.60793): 100%|██████████| 20/20 [00:35<00:00,  1.77s/it]\n",
      "Training (2879 / 18000 Steps) (loss=0.64030): 100%|██████████| 20/20 [00:34<00:00,  1.75s/it]\n",
      "Training (2899 / 18000 Steps) (loss=0.64622): 100%|██████████| 20/20 [00:35<00:00,  1.79s/it]\n",
      "Validate (2900 / 10 Steps): 100%|██████████| 7/7 [00:26<00:00,  3.79s/it]5<?, ?it/s]\n",
      "Training (2900 / 18000 Steps) (loss=0.58845):   5%|▌         | 1/20 [01:31<29:07, 91.98s/it]"
     ]
    },
    {
     "name": "stdout",
     "output_type": "stream",
     "text": [
      "Model Was Saved ! Current Best Avg. Dice: 0.19895870983600616 Current Avg. Dice: 0.19895870983600616 Current Avg. tumor Dice: 0.28153905272483826 Current Avg. lymph Dice: 0.11637832224369049\n"
     ]
    },
    {
     "name": "stderr",
     "output_type": "stream",
     "text": [
      "Training (2919 / 18000 Steps) (loss=0.68279): 100%|██████████| 20/20 [02:02<00:00,  6.11s/it]\n",
      "Training (2939 / 18000 Steps) (loss=0.68155): 100%|██████████| 20/20 [00:35<00:00,  1.79s/it]\n",
      "Training (2959 / 18000 Steps) (loss=0.57335): 100%|██████████| 20/20 [00:35<00:00,  1.78s/it]\n",
      "Training (2979 / 18000 Steps) (loss=0.65795): 100%|██████████| 20/20 [00:35<00:00,  1.76s/it]\n",
      "Training (2999 / 18000 Steps) (loss=0.60330): 100%|██████████| 20/20 [00:35<00:00,  1.78s/it]\n",
      "Validate (3000 / 10 Steps): 100%|██████████| 7/7 [00:26<00:00,  3.83s/it]6<?, ?it/s]\n",
      "Training (3000 / 18000 Steps) (loss=0.60255):   5%|▌         | 1/20 [01:56<36:46, 116.14s/it]"
     ]
    },
    {
     "name": "stdout",
     "output_type": "stream",
     "text": [
      "Model Was Saved ! Current Best Avg. Dice: 0.2044863998889923 Current Avg. Dice: 0.2044863998889923 Current Avg. tumor Dice: 0.28475168347358704 Current Avg. lymph Dice: 0.12422110885381699\n"
     ]
    },
    {
     "name": "stderr",
     "output_type": "stream",
     "text": [
      "Training (3019 / 18000 Steps) (loss=0.62094): 100%|██████████| 20/20 [02:25<00:00,  7.28s/it]\n",
      "Training (3039 / 18000 Steps) (loss=0.58333): 100%|██████████| 20/20 [00:35<00:00,  1.79s/it]\n",
      "Training (3059 / 18000 Steps) (loss=0.55889): 100%|██████████| 20/20 [00:34<00:00,  1.74s/it]\n",
      "Training (3079 / 18000 Steps) (loss=0.62881): 100%|██████████| 20/20 [00:35<00:00,  1.75s/it]\n",
      "Training (3099 / 18000 Steps) (loss=0.59103): 100%|██████████| 20/20 [00:35<00:00,  1.77s/it]\n",
      "Validate (3100 / 10 Steps): 100%|██████████| 7/7 [00:27<00:00,  3.91s/it]6<?, ?it/s]\n",
      "Training (3100 / 18000 Steps) (loss=0.58297):   5%|▌         | 1/20 [00:33<10:35, 33.44s/it]"
     ]
    },
    {
     "name": "stdout",
     "output_type": "stream",
     "text": [
      "Model Was Not Saved ! Current Best Avg. Dice: 0.2044863998889923 Current Avg. Dice: 0.19357119500637054 Current Avg. tumor Dice: 0.27228838205337524 Current Avg. lymph Dice: 0.11485397815704346\n"
     ]
    },
    {
     "name": "stderr",
     "output_type": "stream",
     "text": [
      "Training (3119 / 18000 Steps) (loss=0.56526): 100%|██████████| 20/20 [01:03<00:00,  3.18s/it]\n",
      "Training (3139 / 18000 Steps) (loss=0.61352): 100%|██████████| 20/20 [00:35<00:00,  1.80s/it]\n",
      "Training (3159 / 18000 Steps) (loss=0.68459): 100%|██████████| 20/20 [00:35<00:00,  1.79s/it]\n",
      "Training (3179 / 18000 Steps) (loss=0.63951): 100%|██████████| 20/20 [00:35<00:00,  1.77s/it]\n",
      "Training (3199 / 18000 Steps) (loss=0.56908): 100%|██████████| 20/20 [00:35<00:00,  1.80s/it]\n",
      "Validate (3200 / 10 Steps): 100%|██████████| 7/7 [00:26<00:00,  3.78s/it]5<?, ?it/s]\n",
      "Training (3200 / 18000 Steps) (loss=0.61687):   5%|▌         | 1/20 [00:32<10:11, 32.19s/it]"
     ]
    },
    {
     "name": "stdout",
     "output_type": "stream",
     "text": [
      "Model Was Not Saved ! Current Best Avg. Dice: 0.2044863998889923 Current Avg. Dice: 0.18349610269069672 Current Avg. tumor Dice: 0.22891150414943695 Current Avg. lymph Dice: 0.1380806863307953\n"
     ]
    },
    {
     "name": "stderr",
     "output_type": "stream",
     "text": [
      "Training (3219 / 18000 Steps) (loss=0.63300): 100%|██████████| 20/20 [01:01<00:00,  3.09s/it]\n",
      "Training (3239 / 18000 Steps) (loss=0.59222): 100%|██████████| 20/20 [00:35<00:00,  1.76s/it]\n",
      "Training (3259 / 18000 Steps) (loss=0.52478): 100%|██████████| 20/20 [00:35<00:00,  1.76s/it]\n",
      "Training (3279 / 18000 Steps) (loss=0.64265): 100%|██████████| 20/20 [00:35<00:00,  1.75s/it]\n",
      "Training (3299 / 18000 Steps) (loss=0.63723): 100%|██████████| 20/20 [00:35<00:00,  1.77s/it]\n",
      "Validate (3300 / 10 Steps): 100%|██████████| 7/7 [00:26<00:00,  3.80s/it]6<?, ?it/s]\n",
      "Training (3300 / 18000 Steps) (loss=0.53928):   5%|▌         | 1/20 [01:33<29:36, 93.52s/it]"
     ]
    },
    {
     "name": "stdout",
     "output_type": "stream",
     "text": [
      "Model Was Saved ! Current Best Avg. Dice: 0.2199130803346634 Current Avg. Dice: 0.2199130803346634 Current Avg. tumor Dice: 0.28994807600975037 Current Avg. lymph Dice: 0.14987805485725403\n"
     ]
    },
    {
     "name": "stderr",
     "output_type": "stream",
     "text": [
      "Training (3319 / 18000 Steps) (loss=0.65152): 100%|██████████| 20/20 [02:03<00:00,  6.16s/it]\n",
      "Training (3339 / 18000 Steps) (loss=0.56894): 100%|██████████| 20/20 [00:35<00:00,  1.79s/it]\n",
      "Training (3359 / 18000 Steps) (loss=0.65470): 100%|██████████| 20/20 [00:35<00:00,  1.76s/it]\n",
      "Training (3379 / 18000 Steps) (loss=0.50863): 100%|██████████| 20/20 [00:35<00:00,  1.78s/it]\n",
      "Training (3399 / 18000 Steps) (loss=0.50264): 100%|██████████| 20/20 [00:35<00:00,  1.75s/it]\n",
      "Validate (3400 / 10 Steps): 100%|██████████| 7/7 [00:26<00:00,  3.76s/it]5<?, ?it/s]\n",
      "Training (3400 / 18000 Steps) (loss=0.62587):   5%|▌         | 1/20 [01:16<24:14, 76.57s/it]"
     ]
    },
    {
     "name": "stdout",
     "output_type": "stream",
     "text": [
      "Model Was Saved ! Current Best Avg. Dice: 0.26866382360458374 Current Avg. Dice: 0.26866382360458374 Current Avg. tumor Dice: 0.3296721279621124 Current Avg. lymph Dice: 0.20765545964241028\n"
     ]
    },
    {
     "name": "stderr",
     "output_type": "stream",
     "text": [
      "Training (3419 / 18000 Steps) (loss=0.47216): 100%|██████████| 20/20 [01:46<00:00,  5.30s/it]\n",
      "Training (3439 / 18000 Steps) (loss=0.60121): 100%|██████████| 20/20 [00:35<00:00,  1.75s/it]\n",
      "Training (3459 / 18000 Steps) (loss=0.62366): 100%|██████████| 20/20 [00:35<00:00,  1.77s/it]\n",
      "Training (3479 / 18000 Steps) (loss=0.70321): 100%|██████████| 20/20 [00:35<00:00,  1.75s/it]\n",
      "Training (3499 / 18000 Steps) (loss=0.62512): 100%|██████████| 20/20 [00:35<00:00,  1.79s/it]\n",
      "Validate (3500 / 10 Steps): 100%|██████████| 7/7 [00:25<00:00,  3.70s/it]5<?, ?it/s]\n",
      "Training (3500 / 18000 Steps) (loss=0.76345):   5%|▌         | 1/20 [00:31<09:54, 31.29s/it]"
     ]
    },
    {
     "name": "stdout",
     "output_type": "stream",
     "text": [
      "Model Was Not Saved ! Current Best Avg. Dice: 0.26866382360458374 Current Avg. Dice: 0.23281364142894745 Current Avg. tumor Dice: 0.3075447678565979 Current Avg. lymph Dice: 0.158082515001297\n"
     ]
    },
    {
     "name": "stderr",
     "output_type": "stream",
     "text": [
      "Training (3519 / 18000 Steps) (loss=0.62112): 100%|██████████| 20/20 [01:01<00:00,  3.06s/it]\n",
      "Training (3539 / 18000 Steps) (loss=0.50144): 100%|██████████| 20/20 [00:35<00:00,  1.77s/it]\n",
      "Training (3559 / 18000 Steps) (loss=0.58770): 100%|██████████| 20/20 [00:35<00:00,  1.77s/it]\n",
      "Training (3579 / 18000 Steps) (loss=0.65000): 100%|██████████| 20/20 [00:35<00:00,  1.76s/it]\n",
      "Training (3599 / 18000 Steps) (loss=0.54396): 100%|██████████| 20/20 [00:34<00:00,  1.75s/it]\n",
      "Validate (3600 / 10 Steps): 100%|██████████| 7/7 [00:25<00:00,  3.67s/it]5<?, ?it/s]\n",
      "Training (3600 / 18000 Steps) (loss=0.53827):   5%|▌         | 1/20 [00:30<09:45, 30.80s/it]"
     ]
    },
    {
     "name": "stdout",
     "output_type": "stream",
     "text": [
      "Model Was Not Saved ! Current Best Avg. Dice: 0.26866382360458374 Current Avg. Dice: 0.23515276610851288 Current Avg. tumor Dice: 0.2890309691429138 Current Avg. lymph Dice: 0.18127460777759552\n"
     ]
    },
    {
     "name": "stderr",
     "output_type": "stream",
     "text": [
      "Training (3619 / 18000 Steps) (loss=0.65552): 100%|██████████| 20/20 [01:00<00:00,  3.04s/it]\n",
      "Training (3639 / 18000 Steps) (loss=0.64326): 100%|██████████| 20/20 [00:35<00:00,  1.77s/it]\n",
      "Training (3659 / 18000 Steps) (loss=0.55089): 100%|██████████| 20/20 [00:34<00:00,  1.73s/it]\n",
      "Training (3679 / 18000 Steps) (loss=0.65043): 100%|██████████| 20/20 [00:34<00:00,  1.74s/it]\n",
      "Training (3699 / 18000 Steps) (loss=0.53732): 100%|██████████| 20/20 [00:35<00:00,  1.75s/it]\n",
      "Validate (3700 / 10 Steps): 100%|██████████| 7/7 [00:25<00:00,  3.62s/it]4<?, ?it/s]\n",
      "Training (3700 / 18000 Steps) (loss=0.60707):   5%|▌         | 1/20 [00:29<09:26, 29.84s/it]"
     ]
    },
    {
     "name": "stdout",
     "output_type": "stream",
     "text": [
      "Model Was Not Saved ! Current Best Avg. Dice: 0.26866382360458374 Current Avg. Dice: 0.22525882720947266 Current Avg. tumor Dice: 0.26677650213241577 Current Avg. lymph Dice: 0.18374112248420715\n"
     ]
    },
    {
     "name": "stderr",
     "output_type": "stream",
     "text": [
      "Training (3719 / 18000 Steps) (loss=0.65412): 100%|██████████| 20/20 [00:59<00:00,  3.00s/it]\n",
      "Training (3739 / 18000 Steps) (loss=0.64428): 100%|██████████| 20/20 [00:34<00:00,  1.73s/it]\n",
      "Training (3759 / 18000 Steps) (loss=0.63001): 100%|██████████| 20/20 [00:35<00:00,  1.78s/it]\n",
      "Training (3779 / 18000 Steps) (loss=0.48558): 100%|██████████| 20/20 [00:35<00:00,  1.77s/it]\n",
      "Training (3799 / 18000 Steps) (loss=0.56236): 100%|██████████| 20/20 [00:34<00:00,  1.72s/it]\n",
      "Validate (3800 / 10 Steps): 100%|██████████| 7/7 [00:25<00:00,  3.63s/it]4<?, ?it/s]\n",
      "Training (3800 / 18000 Steps) (loss=0.50306):   5%|▌         | 1/20 [00:30<09:36, 30.32s/it]"
     ]
    },
    {
     "name": "stdout",
     "output_type": "stream",
     "text": [
      "Model Was Not Saved ! Current Best Avg. Dice: 0.26866382360458374 Current Avg. Dice: 0.24557532370090485 Current Avg. tumor Dice: 0.27710914611816406 Current Avg. lymph Dice: 0.21404151618480682\n"
     ]
    },
    {
     "name": "stderr",
     "output_type": "stream",
     "text": [
      "Training (3819 / 18000 Steps) (loss=0.62072): 100%|██████████| 20/20 [01:00<00:00,  3.03s/it]\n",
      "Training (3839 / 18000 Steps) (loss=0.49475): 100%|██████████| 20/20 [00:34<00:00,  1.73s/it]\n",
      "Training (3859 / 18000 Steps) (loss=0.64853): 100%|██████████| 20/20 [00:34<00:00,  1.75s/it]\n",
      "Training (3879 / 18000 Steps) (loss=0.50925): 100%|██████████| 20/20 [00:34<00:00,  1.74s/it]\n",
      "Training (3899 / 18000 Steps) (loss=0.51975): 100%|██████████| 20/20 [00:34<00:00,  1.73s/it]\n",
      "Validate (3900 / 10 Steps): 100%|██████████| 7/7 [00:25<00:00,  3.61s/it]4<?, ?it/s]\n",
      "Training (3900 / 18000 Steps) (loss=0.60150):   5%|▌         | 1/20 [00:29<09:24, 29.70s/it]"
     ]
    },
    {
     "name": "stdout",
     "output_type": "stream",
     "text": [
      "Model Was Not Saved ! Current Best Avg. Dice: 0.26866382360458374 Current Avg. Dice: 0.2330874353647232 Current Avg. tumor Dice: 0.2764260768890381 Current Avg. lymph Dice: 0.18974876403808594\n"
     ]
    },
    {
     "name": "stderr",
     "output_type": "stream",
     "text": [
      "Training (3919 / 18000 Steps) (loss=0.62555): 100%|██████████| 20/20 [00:59<00:00,  2.98s/it]\n",
      "Training (3939 / 18000 Steps) (loss=0.57406): 100%|██████████| 20/20 [00:35<00:00,  1.75s/it]\n",
      "Training (3959 / 18000 Steps) (loss=0.46034): 100%|██████████| 20/20 [00:34<00:00,  1.74s/it]\n",
      "Training (3979 / 18000 Steps) (loss=0.65668): 100%|██████████| 20/20 [00:34<00:00,  1.75s/it]\n",
      "Training (3999 / 18000 Steps) (loss=0.60108): 100%|██████████| 20/20 [00:34<00:00,  1.73s/it]\n",
      "Validate (4000 / 10 Steps): 100%|██████████| 7/7 [00:25<00:00,  3.62s/it]4<?, ?it/s]\n",
      "Training (4000 / 18000 Steps) (loss=0.61052):   5%|▌         | 1/20 [00:30<09:33, 30.20s/it]"
     ]
    },
    {
     "name": "stdout",
     "output_type": "stream",
     "text": [
      "Model Was Not Saved ! Current Best Avg. Dice: 0.26866382360458374 Current Avg. Dice: 0.2037520855665207 Current Avg. tumor Dice: 0.22899720072746277 Current Avg. lymph Dice: 0.1785069853067398\n"
     ]
    },
    {
     "name": "stderr",
     "output_type": "stream",
     "text": [
      "Training (4019 / 18000 Steps) (loss=0.59857): 100%|██████████| 20/20 [01:00<00:00,  3.02s/it]\n",
      "Training (4039 / 18000 Steps) (loss=0.58901): 100%|██████████| 20/20 [00:34<00:00,  1.73s/it]\n",
      "Training (4059 / 18000 Steps) (loss=0.44570): 100%|██████████| 20/20 [00:35<00:00,  1.76s/it]\n",
      "Training (4079 / 18000 Steps) (loss=0.59168): 100%|██████████| 20/20 [00:34<00:00,  1.74s/it]\n",
      "Training (4099 / 18000 Steps) (loss=0.59928): 100%|██████████| 20/20 [00:34<00:00,  1.74s/it]\n",
      "Validate (4100 / 10 Steps): 100%|██████████| 7/7 [00:25<00:00,  3.62s/it]4<?, ?it/s]\n",
      "Training (4100 / 18000 Steps) (loss=0.57877):   5%|▌         | 1/20 [00:30<09:34, 30.26s/it]"
     ]
    },
    {
     "name": "stdout",
     "output_type": "stream",
     "text": [
      "Model Was Not Saved ! Current Best Avg. Dice: 0.26866382360458374 Current Avg. Dice: 0.2680380940437317 Current Avg. tumor Dice: 0.3059305250644684 Current Avg. lymph Dice: 0.23014569282531738\n"
     ]
    },
    {
     "name": "stderr",
     "output_type": "stream",
     "text": [
      "Training (4119 / 18000 Steps) (loss=0.54478): 100%|██████████| 20/20 [01:00<00:00,  3.00s/it]\n",
      "Training (4139 / 18000 Steps) (loss=0.58024): 100%|██████████| 20/20 [00:34<00:00,  1.74s/it]\n",
      "Training (4159 / 18000 Steps) (loss=0.56676): 100%|██████████| 20/20 [00:35<00:00,  1.77s/it]\n",
      "Training (4179 / 18000 Steps) (loss=0.59402): 100%|██████████| 20/20 [00:34<00:00,  1.74s/it]\n",
      "Training (4199 / 18000 Steps) (loss=0.55011): 100%|██████████| 20/20 [00:34<00:00,  1.73s/it]\n",
      "Validate (4200 / 10 Steps): 100%|██████████| 7/7 [00:25<00:00,  3.63s/it]4<?, ?it/s]\n",
      "Training (4200 / 18000 Steps) (loss=0.51811):   5%|▌         | 1/20 [00:30<09:30, 30.04s/it]"
     ]
    },
    {
     "name": "stdout",
     "output_type": "stream",
     "text": [
      "Model Was Not Saved ! Current Best Avg. Dice: 0.26866382360458374 Current Avg. Dice: 0.2462586611509323 Current Avg. tumor Dice: 0.28886550664901733 Current Avg. lymph Dice: 0.2036517858505249\n"
     ]
    },
    {
     "name": "stderr",
     "output_type": "stream",
     "text": [
      "Training (4219 / 18000 Steps) (loss=0.60851): 100%|██████████| 20/20 [00:59<00:00,  2.99s/it]\n",
      "Training (4239 / 18000 Steps) (loss=0.54101): 100%|██████████| 20/20 [00:34<00:00,  1.74s/it]\n",
      "Training (4259 / 18000 Steps) (loss=0.52337): 100%|██████████| 20/20 [00:34<00:00,  1.74s/it]\n",
      "Training (4279 / 18000 Steps) (loss=0.53996): 100%|██████████| 20/20 [00:35<00:00,  1.76s/it]\n",
      "Training (4299 / 18000 Steps) (loss=0.54268): 100%|██████████| 20/20 [00:35<00:00,  1.75s/it]\n",
      "Validate (4300 / 10 Steps): 100%|██████████| 7/7 [00:25<00:00,  3.62s/it]4<?, ?it/s]\n",
      "Training (4300 / 18000 Steps) (loss=0.57082):   5%|▌         | 1/20 [00:30<09:32, 30.14s/it]"
     ]
    },
    {
     "name": "stdout",
     "output_type": "stream",
     "text": [
      "Model Was Not Saved ! Current Best Avg. Dice: 0.26866382360458374 Current Avg. Dice: 0.22239235043525696 Current Avg. tumor Dice: 0.2189212292432785 Current Avg. lymph Dice: 0.22586345672607422\n"
     ]
    },
    {
     "name": "stderr",
     "output_type": "stream",
     "text": [
      "Training (4319 / 18000 Steps) (loss=0.47598): 100%|██████████| 20/20 [01:00<00:00,  3.01s/it]\n",
      "Training (4339 / 18000 Steps) (loss=0.56266): 100%|██████████| 20/20 [00:34<00:00,  1.75s/it]\n",
      "Training (4359 / 18000 Steps) (loss=0.66433): 100%|██████████| 20/20 [00:35<00:00,  1.77s/it]\n",
      "Training (4379 / 18000 Steps) (loss=0.56811): 100%|██████████| 20/20 [00:34<00:00,  1.74s/it]\n",
      "Training (4399 / 18000 Steps) (loss=0.60186): 100%|██████████| 20/20 [00:34<00:00,  1.75s/it]\n",
      "Validate (4400 / 10 Steps): 100%|██████████| 7/7 [00:25<00:00,  3.69s/it]4<?, ?it/s]\n",
      "Training (4400 / 18000 Steps) (loss=0.52250):   5%|▌         | 1/20 [00:30<09:41, 30.59s/it]"
     ]
    },
    {
     "name": "stdout",
     "output_type": "stream",
     "text": [
      "Model Was Not Saved ! Current Best Avg. Dice: 0.26866382360458374 Current Avg. Dice: 0.2533823847770691 Current Avg. tumor Dice: 0.2780763506889343 Current Avg. lymph Dice: 0.22868846356868744\n"
     ]
    },
    {
     "name": "stderr",
     "output_type": "stream",
     "text": [
      "Training (4419 / 18000 Steps) (loss=0.63348): 100%|██████████| 20/20 [01:00<00:00,  3.01s/it]\n",
      "Training (4439 / 18000 Steps) (loss=0.59142): 100%|██████████| 20/20 [00:34<00:00,  1.74s/it]\n",
      "Training (4459 / 18000 Steps) (loss=0.53819): 100%|██████████| 20/20 [00:34<00:00,  1.74s/it]\n",
      "Training (4479 / 18000 Steps) (loss=0.60460): 100%|██████████| 20/20 [00:34<00:00,  1.72s/it]\n",
      "Training (4499 / 18000 Steps) (loss=0.45341): 100%|██████████| 20/20 [00:34<00:00,  1.75s/it]\n",
      "Validate (4500 / 10 Steps): 100%|██████████| 7/7 [00:25<00:00,  3.63s/it]4<?, ?it/s]\n",
      "Training (4500 / 18000 Steps) (loss=0.52874):   5%|▌         | 1/20 [00:29<09:29, 29.99s/it]"
     ]
    },
    {
     "name": "stdout",
     "output_type": "stream",
     "text": [
      "Model Was Not Saved ! Current Best Avg. Dice: 0.26866382360458374 Current Avg. Dice: 0.26736685633659363 Current Avg. tumor Dice: 0.28386256098747253 Current Avg. lymph Dice: 0.2508712112903595\n"
     ]
    },
    {
     "name": "stderr",
     "output_type": "stream",
     "text": [
      "Training (4519 / 18000 Steps) (loss=0.46436): 100%|██████████| 20/20 [00:59<00:00,  2.99s/it]\n",
      "Training (4539 / 18000 Steps) (loss=0.47048): 100%|██████████| 20/20 [00:35<00:00,  1.75s/it]\n",
      "Training (4559 / 18000 Steps) (loss=0.53775): 100%|██████████| 20/20 [00:34<00:00,  1.73s/it]\n",
      "Training (4579 / 18000 Steps) (loss=0.64823): 100%|██████████| 20/20 [00:34<00:00,  1.73s/it]\n",
      "Training (4599 / 18000 Steps) (loss=0.55697): 100%|██████████| 20/20 [00:34<00:00,  1.74s/it]\n",
      "Validate (4600 / 10 Steps): 100%|██████████| 7/7 [00:25<00:00,  3.62s/it]4<?, ?it/s]\n",
      "Training (4600 / 18000 Steps) (loss=0.58485):   5%|▌         | 1/20 [00:29<09:25, 29.74s/it]"
     ]
    },
    {
     "name": "stdout",
     "output_type": "stream",
     "text": [
      "Model Was Not Saved ! Current Best Avg. Dice: 0.26866382360458374 Current Avg. Dice: 0.2615186274051666 Current Avg. tumor Dice: 0.27650952339172363 Current Avg. lymph Dice: 0.24652767181396484\n"
     ]
    },
    {
     "name": "stderr",
     "output_type": "stream",
     "text": [
      "Training (4619 / 18000 Steps) (loss=0.59654): 100%|██████████| 20/20 [00:59<00:00,  2.98s/it]\n",
      "Training (4639 / 18000 Steps) (loss=0.56821): 100%|██████████| 20/20 [00:34<00:00,  1.73s/it]\n",
      "Training (4659 / 18000 Steps) (loss=0.66908): 100%|██████████| 20/20 [00:34<00:00,  1.74s/it]\n",
      "Training (4679 / 18000 Steps) (loss=0.63865): 100%|██████████| 20/20 [00:34<00:00,  1.72s/it]\n",
      "Training (4699 / 18000 Steps) (loss=0.53072): 100%|██████████| 20/20 [00:35<00:00,  1.78s/it]\n",
      "Validate (4700 / 10 Steps): 100%|██████████| 7/7 [00:25<00:00,  3.61s/it]4<?, ?it/s]\n",
      "Training (4700 / 18000 Steps) (loss=0.61411):   5%|▌         | 1/20 [00:30<09:33, 30.19s/it]"
     ]
    },
    {
     "name": "stdout",
     "output_type": "stream",
     "text": [
      "Model Was Not Saved ! Current Best Avg. Dice: 0.26866382360458374 Current Avg. Dice: 0.23717568814754486 Current Avg. tumor Dice: 0.28894752264022827 Current Avg. lymph Dice: 0.18540385365486145\n"
     ]
    },
    {
     "name": "stderr",
     "output_type": "stream",
     "text": [
      "Training (4719 / 18000 Steps) (loss=0.48762): 100%|██████████| 20/20 [01:00<00:00,  3.01s/it]\n",
      "Training (4739 / 18000 Steps) (loss=0.53728): 100%|██████████| 20/20 [00:35<00:00,  1.76s/it]\n",
      "Training (4759 / 18000 Steps) (loss=0.42141): 100%|██████████| 20/20 [00:34<00:00,  1.74s/it]\n",
      "Training (4779 / 18000 Steps) (loss=0.47128): 100%|██████████| 20/20 [00:34<00:00,  1.73s/it]\n",
      "Training (4799 / 18000 Steps) (loss=0.64822): 100%|██████████| 20/20 [00:35<00:00,  1.75s/it]\n",
      "Validate (4800 / 10 Steps): 100%|██████████| 7/7 [00:25<00:00,  3.61s/it]4<?, ?it/s]\n",
      "Training (4800 / 18000 Steps) (loss=0.45620):   5%|▌         | 1/20 [00:29<09:29, 29.99s/it]"
     ]
    },
    {
     "name": "stdout",
     "output_type": "stream",
     "text": [
      "Model Was Not Saved ! Current Best Avg. Dice: 0.26866382360458374 Current Avg. Dice: 0.2676561176776886 Current Avg. tumor Dice: 0.3041420578956604 Current Avg. lymph Dice: 0.2311701774597168\n"
     ]
    },
    {
     "name": "stderr",
     "output_type": "stream",
     "text": [
      "Training (4819 / 18000 Steps) (loss=0.57107): 100%|██████████| 20/20 [00:59<00:00,  2.98s/it]\n",
      "Training (4839 / 18000 Steps) (loss=0.58354): 100%|██████████| 20/20 [00:35<00:00,  1.75s/it]\n",
      "Training (4859 / 18000 Steps) (loss=0.51937): 100%|██████████| 20/20 [00:34<00:00,  1.73s/it]\n",
      "Training (4879 / 18000 Steps) (loss=0.61942): 100%|██████████| 20/20 [00:34<00:00,  1.74s/it]\n",
      "Training (4899 / 18000 Steps) (loss=0.62863): 100%|██████████| 20/20 [00:35<00:00,  1.75s/it]\n",
      "Validate (4900 / 10 Steps): 100%|██████████| 7/7 [00:25<00:00,  3.60s/it]4<?, ?it/s]\n",
      "Training (4900 / 18000 Steps) (loss=0.59435):   5%|▌         | 1/20 [00:29<09:23, 29.67s/it]"
     ]
    },
    {
     "name": "stdout",
     "output_type": "stream",
     "text": [
      "Model Was Not Saved ! Current Best Avg. Dice: 0.26866382360458374 Current Avg. Dice: 0.23879100382328033 Current Avg. tumor Dice: 0.291658878326416 Current Avg. lymph Dice: 0.18592312932014465\n"
     ]
    },
    {
     "name": "stderr",
     "output_type": "stream",
     "text": [
      "Training (4919 / 18000 Steps) (loss=0.59336): 100%|██████████| 20/20 [00:59<00:00,  2.97s/it]\n",
      "Training (4939 / 18000 Steps) (loss=0.54166): 100%|██████████| 20/20 [00:34<00:00,  1.73s/it]\n",
      "Training (4959 / 18000 Steps) (loss=0.53435): 100%|██████████| 20/20 [00:34<00:00,  1.73s/it]\n",
      "Training (4979 / 18000 Steps) (loss=0.58063): 100%|██████████| 20/20 [00:35<00:00,  1.77s/it]\n",
      "Training (4999 / 18000 Steps) (loss=0.39575): 100%|██████████| 20/20 [00:34<00:00,  1.72s/it]\n",
      "Validate (5000 / 10 Steps): 100%|██████████| 7/7 [00:25<00:00,  3.62s/it]4<?, ?it/s]\n",
      "Training (5000 / 18000 Steps) (loss=0.63278):   5%|▌         | 1/20 [00:30<09:48, 30.96s/it]"
     ]
    },
    {
     "name": "stdout",
     "output_type": "stream",
     "text": [
      "Model Was Saved ! Current Best Avg. Dice: 0.2905997633934021 Current Avg. Dice: 0.2905997633934021 Current Avg. tumor Dice: 0.31854048371315 Current Avg. lymph Dice: 0.2626590132713318\n"
     ]
    },
    {
     "name": "stderr",
     "output_type": "stream",
     "text": [
      "Training (5019 / 18000 Steps) (loss=0.63423): 100%|██████████| 20/20 [01:00<00:00,  3.04s/it]\n",
      "Training (5039 / 18000 Steps) (loss=0.51513): 100%|██████████| 20/20 [00:34<00:00,  1.74s/it]\n",
      "Training (5059 / 18000 Steps) (loss=0.52455): 100%|██████████| 20/20 [00:34<00:00,  1.73s/it]\n",
      "Training (5079 / 18000 Steps) (loss=0.66637): 100%|██████████| 20/20 [00:34<00:00,  1.74s/it]\n",
      "Training (5099 / 18000 Steps) (loss=0.43317): 100%|██████████| 20/20 [00:34<00:00,  1.72s/it]\n",
      "Validate (5100 / 10 Steps): 100%|██████████| 7/7 [00:25<00:00,  3.65s/it]4<?, ?it/s]\n",
      "Training (5100 / 18000 Steps) (loss=0.56576):   5%|▌         | 1/20 [00:30<09:31, 30.08s/it]"
     ]
    },
    {
     "name": "stdout",
     "output_type": "stream",
     "text": [
      "Model Was Not Saved ! Current Best Avg. Dice: 0.2905997633934021 Current Avg. Dice: 0.2823149263858795 Current Avg. tumor Dice: 0.31768152117729187 Current Avg. lymph Dice: 0.2469482719898224\n"
     ]
    },
    {
     "name": "stderr",
     "output_type": "stream",
     "text": [
      "Training (5119 / 18000 Steps) (loss=0.59768): 100%|██████████| 20/20 [01:00<00:00,  3.00s/it]\n",
      "Training (5139 / 18000 Steps) (loss=0.46536): 100%|██████████| 20/20 [00:34<00:00,  1.73s/it]\n",
      "Training (5159 / 18000 Steps) (loss=0.63471): 100%|██████████| 20/20 [00:35<00:00,  1.76s/it]\n",
      "Training (5179 / 18000 Steps) (loss=0.45744): 100%|██████████| 20/20 [00:34<00:00,  1.74s/it]\n",
      "Training (5199 / 18000 Steps) (loss=0.56853): 100%|██████████| 20/20 [00:34<00:00,  1.73s/it]\n",
      "Validate (5200 / 10 Steps): 100%|██████████| 7/7 [00:25<00:00,  3.62s/it]4<?, ?it/s]\n",
      "Training (5200 / 18000 Steps) (loss=0.58148):   5%|▌         | 1/20 [00:29<09:27, 29.88s/it]"
     ]
    },
    {
     "name": "stdout",
     "output_type": "stream",
     "text": [
      "Model Was Not Saved ! Current Best Avg. Dice: 0.2905997633934021 Current Avg. Dice: 0.2321770191192627 Current Avg. tumor Dice: 0.3073901832103729 Current Avg. lymph Dice: 0.15696385502815247\n"
     ]
    },
    {
     "name": "stderr",
     "output_type": "stream",
     "text": [
      "Training (5219 / 18000 Steps) (loss=0.53538): 100%|██████████| 20/20 [00:59<00:00,  2.99s/it]\n",
      "Training (5239 / 18000 Steps) (loss=0.62663): 100%|██████████| 20/20 [00:34<00:00,  1.71s/it]\n",
      "Training (5259 / 18000 Steps) (loss=0.54972): 100%|██████████| 20/20 [00:34<00:00,  1.73s/it]\n",
      "Training (5279 / 18000 Steps) (loss=0.54719): 100%|██████████| 20/20 [00:34<00:00,  1.71s/it]\n",
      "Training (5299 / 18000 Steps) (loss=0.45183): 100%|██████████| 20/20 [00:34<00:00,  1.74s/it]\n",
      "Validate (5300 / 10 Steps): 100%|██████████| 7/7 [00:25<00:00,  3.62s/it]4<?, ?it/s]\n",
      "Training (5300 / 18000 Steps) (loss=0.56895):   5%|▌         | 1/20 [00:30<09:47, 30.92s/it]"
     ]
    },
    {
     "name": "stdout",
     "output_type": "stream",
     "text": [
      "Model Was Saved ! Current Best Avg. Dice: 0.30222028493881226 Current Avg. Dice: 0.30222028493881226 Current Avg. tumor Dice: 0.3507080674171448 Current Avg. lymph Dice: 0.25373247265815735\n"
     ]
    },
    {
     "name": "stderr",
     "output_type": "stream",
     "text": [
      "Training (5319 / 18000 Steps) (loss=0.51873): 100%|██████████| 20/20 [01:00<00:00,  3.03s/it]\n",
      "Training (5339 / 18000 Steps) (loss=0.65616): 100%|██████████| 20/20 [00:34<00:00,  1.72s/it]\n",
      "Training (5359 / 18000 Steps) (loss=0.52039): 100%|██████████| 20/20 [00:34<00:00,  1.74s/it]\n",
      "Training (5379 / 18000 Steps) (loss=0.51400): 100%|██████████| 20/20 [00:34<00:00,  1.73s/it]\n",
      "Training (5399 / 18000 Steps) (loss=0.51573): 100%|██████████| 20/20 [00:34<00:00,  1.72s/it]\n",
      "Validate (5400 / 10 Steps): 100%|██████████| 7/7 [00:25<00:00,  3.62s/it]4<?, ?it/s]\n",
      "Training (5400 / 18000 Steps) (loss=0.62693):   5%|▌         | 1/20 [00:30<09:48, 30.97s/it]"
     ]
    },
    {
     "name": "stdout",
     "output_type": "stream",
     "text": [
      "Model Was Saved ! Current Best Avg. Dice: 0.31484174728393555 Current Avg. Dice: 0.31484174728393555 Current Avg. tumor Dice: 0.35436102747917175 Current Avg. lymph Dice: 0.27532246708869934\n"
     ]
    },
    {
     "name": "stderr",
     "output_type": "stream",
     "text": [
      "Training (5419 / 18000 Steps) (loss=0.58619): 100%|██████████| 20/20 [01:00<00:00,  3.04s/it]\n",
      "Training (5439 / 18000 Steps) (loss=0.57486): 100%|██████████| 20/20 [00:34<00:00,  1.74s/it]\n",
      "Training (5459 / 18000 Steps) (loss=0.63171): 100%|██████████| 20/20 [00:34<00:00,  1.73s/it]\n",
      "Training (5479 / 18000 Steps) (loss=0.52660): 100%|██████████| 20/20 [00:34<00:00,  1.73s/it]\n",
      "Training (5499 / 18000 Steps) (loss=0.60135): 100%|██████████| 20/20 [00:34<00:00,  1.74s/it]\n",
      "Validate (5500 / 10 Steps): 100%|██████████| 7/7 [00:25<00:00,  3.62s/it]4<?, ?it/s]\n",
      "Training (5500 / 18000 Steps) (loss=0.57491):   5%|▌         | 1/20 [00:30<09:30, 30.01s/it]"
     ]
    },
    {
     "name": "stdout",
     "output_type": "stream",
     "text": [
      "Model Was Not Saved ! Current Best Avg. Dice: 0.31484174728393555 Current Avg. Dice: 0.29772013425827026 Current Avg. tumor Dice: 0.34658780694007874 Current Avg. lymph Dice: 0.24885252118110657\n"
     ]
    },
    {
     "name": "stderr",
     "output_type": "stream",
     "text": [
      "Training (5519 / 18000 Steps) (loss=0.52225): 100%|██████████| 20/20 [00:59<00:00,  2.99s/it]\n",
      "Training (5539 / 18000 Steps) (loss=0.50130): 100%|██████████| 20/20 [00:34<00:00,  1.74s/it]\n",
      "Training (5559 / 18000 Steps) (loss=0.65429): 100%|██████████| 20/20 [00:35<00:00,  1.76s/it]\n",
      "Training (5579 / 18000 Steps) (loss=0.56640): 100%|██████████| 20/20 [00:34<00:00,  1.72s/it]\n",
      "Training (5599 / 18000 Steps) (loss=0.43365): 100%|██████████| 20/20 [00:34<00:00,  1.74s/it]\n",
      "Validate (5600 / 10 Steps): 100%|██████████| 7/7 [00:25<00:00,  3.61s/it]4<?, ?it/s]\n",
      "Training (5600 / 18000 Steps) (loss=0.50727):   5%|▌         | 1/20 [00:30<09:33, 30.18s/it]"
     ]
    },
    {
     "name": "stdout",
     "output_type": "stream",
     "text": [
      "Model Was Not Saved ! Current Best Avg. Dice: 0.31484174728393555 Current Avg. Dice: 0.27155596017837524 Current Avg. tumor Dice: 0.33028489351272583 Current Avg. lymph Dice: 0.21282699704170227\n"
     ]
    },
    {
     "name": "stderr",
     "output_type": "stream",
     "text": [
      "Training (5619 / 18000 Steps) (loss=0.61829): 100%|██████████| 20/20 [00:59<00:00,  2.99s/it]\n",
      "Training (5639 / 18000 Steps) (loss=0.53627): 100%|██████████| 20/20 [00:34<00:00,  1.74s/it]\n",
      "Training (5659 / 18000 Steps) (loss=0.53608): 100%|██████████| 20/20 [00:34<00:00,  1.73s/it]\n",
      "Training (5679 / 18000 Steps) (loss=0.40999): 100%|██████████| 20/20 [00:34<00:00,  1.72s/it]\n",
      "Training (5699 / 18000 Steps) (loss=0.45757): 100%|██████████| 20/20 [00:34<00:00,  1.74s/it]\n",
      "Validate (5700 / 10 Steps): 100%|██████████| 7/7 [00:25<00:00,  3.61s/it]4<?, ?it/s]\n",
      "Training (5700 / 18000 Steps) (loss=0.50246):   5%|▌         | 1/20 [00:30<09:44, 30.75s/it]"
     ]
    },
    {
     "name": "stdout",
     "output_type": "stream",
     "text": [
      "Model Was Saved ! Current Best Avg. Dice: 0.3229379653930664 Current Avg. Dice: 0.3229379653930664 Current Avg. tumor Dice: 0.3257712721824646 Current Avg. lymph Dice: 0.3201046586036682\n"
     ]
    },
    {
     "name": "stderr",
     "output_type": "stream",
     "text": [
      "Training (5719 / 18000 Steps) (loss=0.59729): 100%|██████████| 20/20 [01:00<00:00,  3.04s/it]\n",
      "Training (5739 / 18000 Steps) (loss=0.63303): 100%|██████████| 20/20 [00:35<00:00,  1.75s/it]\n",
      "Training (5759 / 18000 Steps) (loss=0.55285): 100%|██████████| 20/20 [00:34<00:00,  1.73s/it]\n",
      "Training (5779 / 18000 Steps) (loss=0.63586): 100%|██████████| 20/20 [00:34<00:00,  1.72s/it]\n",
      "Training (5799 / 18000 Steps) (loss=0.61800): 100%|██████████| 20/20 [00:34<00:00,  1.73s/it]\n",
      "Validate (5800 / 10 Steps): 100%|██████████| 7/7 [00:25<00:00,  3.64s/it]4<?, ?it/s]\n",
      "Training (5800 / 18000 Steps) (loss=0.53943):   5%|▌         | 1/20 [00:30<09:31, 30.10s/it]"
     ]
    },
    {
     "name": "stdout",
     "output_type": "stream",
     "text": [
      "Model Was Not Saved ! Current Best Avg. Dice: 0.3229379653930664 Current Avg. Dice: 0.2864231467247009 Current Avg. tumor Dice: 0.31630250811576843 Current Avg. lymph Dice: 0.25654375553131104\n"
     ]
    },
    {
     "name": "stderr",
     "output_type": "stream",
     "text": [
      "Training (5819 / 18000 Steps) (loss=0.64143): 100%|██████████| 20/20 [00:59<00:00,  3.00s/it]\n",
      "Training (5839 / 18000 Steps) (loss=0.50616): 100%|██████████| 20/20 [00:34<00:00,  1.74s/it]\n",
      "Training (5859 / 18000 Steps) (loss=0.46750): 100%|██████████| 20/20 [00:34<00:00,  1.74s/it]\n",
      "Training (5879 / 18000 Steps) (loss=0.62718): 100%|██████████| 20/20 [00:34<00:00,  1.73s/it]\n",
      "Training (5899 / 18000 Steps) (loss=0.46523): 100%|██████████| 20/20 [00:34<00:00,  1.74s/it]\n",
      "Validate (5900 / 10 Steps): 100%|██████████| 7/7 [00:25<00:00,  3.62s/it]4<?, ?it/s]\n",
      "Training (5900 / 18000 Steps) (loss=0.36310):   5%|▌         | 1/20 [00:30<09:33, 30.16s/it]"
     ]
    },
    {
     "name": "stdout",
     "output_type": "stream",
     "text": [
      "Model Was Not Saved ! Current Best Avg. Dice: 0.3229379653930664 Current Avg. Dice: 0.29752272367477417 Current Avg. tumor Dice: 0.3203358054161072 Current Avg. lymph Dice: 0.27470967173576355\n"
     ]
    },
    {
     "name": "stderr",
     "output_type": "stream",
     "text": [
      "Training (5919 / 18000 Steps) (loss=0.54398): 100%|██████████| 20/20 [01:00<00:00,  3.00s/it]\n",
      "Training (5939 / 18000 Steps) (loss=0.50201): 100%|██████████| 20/20 [00:34<00:00,  1.75s/it]\n",
      "Training (5959 / 18000 Steps) (loss=0.51813): 100%|██████████| 20/20 [00:34<00:00,  1.74s/it]\n",
      "Training (5979 / 18000 Steps) (loss=0.57781): 100%|██████████| 20/20 [00:34<00:00,  1.74s/it]\n",
      "Training (5999 / 18000 Steps) (loss=0.48803): 100%|██████████| 20/20 [00:34<00:00,  1.75s/it]\n",
      "Validate (6000 / 10 Steps): 100%|██████████| 7/7 [00:25<00:00,  3.62s/it]4<?, ?it/s]\n",
      "Training (6000 / 18000 Steps) (loss=0.56467):   5%|▌         | 1/20 [00:30<09:31, 30.09s/it]"
     ]
    },
    {
     "name": "stdout",
     "output_type": "stream",
     "text": [
      "Model Was Not Saved ! Current Best Avg. Dice: 0.3229379653930664 Current Avg. Dice: 0.2904774248600006 Current Avg. tumor Dice: 0.3205045759677887 Current Avg. lymph Dice: 0.26045024394989014\n"
     ]
    },
    {
     "name": "stderr",
     "output_type": "stream",
     "text": [
      "Training (6019 / 18000 Steps) (loss=0.61832): 100%|██████████| 20/20 [01:00<00:00,  3.00s/it]\n",
      "Training (6039 / 18000 Steps) (loss=0.54512): 100%|██████████| 20/20 [00:34<00:00,  1.72s/it]\n",
      "Training (6059 / 18000 Steps) (loss=0.49762): 100%|██████████| 20/20 [00:34<00:00,  1.74s/it]\n",
      "Training (6079 / 18000 Steps) (loss=0.56790): 100%|██████████| 20/20 [00:35<00:00,  1.76s/it]\n",
      "Training (6099 / 18000 Steps) (loss=0.63306): 100%|██████████| 20/20 [00:34<00:00,  1.75s/it]\n",
      "Validate (6100 / 10 Steps): 100%|██████████| 7/7 [00:25<00:00,  3.63s/it]4<?, ?it/s]\n",
      "Training (6100 / 18000 Steps) (loss=0.52318):   5%|▌         | 1/20 [00:29<09:29, 29.97s/it]"
     ]
    },
    {
     "name": "stdout",
     "output_type": "stream",
     "text": [
      "Model Was Not Saved ! Current Best Avg. Dice: 0.3229379653930664 Current Avg. Dice: 0.263662725687027 Current Avg. tumor Dice: 0.3082042336463928 Current Avg. lymph Dice: 0.21912123262882233\n"
     ]
    },
    {
     "name": "stderr",
     "output_type": "stream",
     "text": [
      "Training (6119 / 18000 Steps) (loss=0.53385): 100%|██████████| 20/20 [01:00<00:00,  3.01s/it]\n",
      "Training (6139 / 18000 Steps) (loss=0.59616): 100%|██████████| 20/20 [00:34<00:00,  1.73s/it]\n",
      "Training (6159 / 18000 Steps) (loss=0.47003): 100%|██████████| 20/20 [00:34<00:00,  1.74s/it]\n",
      "Training (6179 / 18000 Steps) (loss=0.63129): 100%|██████████| 20/20 [00:34<00:00,  1.75s/it]\n",
      "Training (6199 / 18000 Steps) (loss=0.38389): 100%|██████████| 20/20 [00:34<00:00,  1.75s/it]\n",
      "Validate (6200 / 10 Steps): 100%|██████████| 7/7 [00:25<00:00,  3.62s/it]4<?, ?it/s]\n",
      "Training (6200 / 18000 Steps) (loss=0.60008):   5%|▌         | 1/20 [00:30<09:30, 30.02s/it]"
     ]
    },
    {
     "name": "stdout",
     "output_type": "stream",
     "text": [
      "Model Was Not Saved ! Current Best Avg. Dice: 0.3229379653930664 Current Avg. Dice: 0.28000667691230774 Current Avg. tumor Dice: 0.26315662264823914 Current Avg. lymph Dice: 0.29685670137405396\n"
     ]
    },
    {
     "name": "stderr",
     "output_type": "stream",
     "text": [
      "Training (6219 / 18000 Steps) (loss=0.48149): 100%|██████████| 20/20 [01:00<00:00,  3.00s/it]\n",
      "Training (6239 / 18000 Steps) (loss=0.50219): 100%|██████████| 20/20 [00:34<00:00,  1.73s/it]\n",
      "Training (6259 / 18000 Steps) (loss=0.61850): 100%|██████████| 20/20 [00:34<00:00,  1.74s/it]\n",
      "Training (6279 / 18000 Steps) (loss=0.42253): 100%|██████████| 20/20 [00:34<00:00,  1.75s/it]\n",
      "Training (6299 / 18000 Steps) (loss=0.51294): 100%|██████████| 20/20 [00:34<00:00,  1.74s/it]\n",
      "Validate (6300 / 10 Steps): 100%|██████████| 7/7 [00:25<00:00,  3.63s/it]4<?, ?it/s]\n",
      "Training (6300 / 18000 Steps) (loss=0.54815):   5%|▌         | 1/20 [00:31<09:50, 31.07s/it]"
     ]
    },
    {
     "name": "stdout",
     "output_type": "stream",
     "text": [
      "Model Was Saved ! Current Best Avg. Dice: 0.3254188597202301 Current Avg. Dice: 0.3254188597202301 Current Avg. tumor Dice: 0.3503943979740143 Current Avg. lymph Dice: 0.3004433214664459\n"
     ]
    },
    {
     "name": "stderr",
     "output_type": "stream",
     "text": [
      "Training (6319 / 18000 Steps) (loss=0.53020): 100%|██████████| 20/20 [01:00<00:00,  3.04s/it]\n",
      "Training (6339 / 18000 Steps) (loss=0.64492): 100%|██████████| 20/20 [00:34<00:00,  1.73s/it]\n",
      "Training (6359 / 18000 Steps) (loss=0.34873): 100%|██████████| 20/20 [00:34<00:00,  1.73s/it]\n",
      "Training (6379 / 18000 Steps) (loss=0.56711): 100%|██████████| 20/20 [00:34<00:00,  1.73s/it]\n",
      "Training (6399 / 18000 Steps) (loss=0.63064): 100%|██████████| 20/20 [00:34<00:00,  1.74s/it]\n",
      "Validate (6400 / 10 Steps): 100%|██████████| 7/7 [00:25<00:00,  3.63s/it]4<?, ?it/s]\n",
      "Training (6400 / 18000 Steps) (loss=0.49623):   5%|▌         | 1/20 [00:29<09:26, 29.82s/it]"
     ]
    },
    {
     "name": "stdout",
     "output_type": "stream",
     "text": [
      "Model Was Not Saved ! Current Best Avg. Dice: 0.3254188597202301 Current Avg. Dice: 0.30721527338027954 Current Avg. tumor Dice: 0.3411102592945099 Current Avg. lymph Dice: 0.2733202576637268\n"
     ]
    },
    {
     "name": "stderr",
     "output_type": "stream",
     "text": [
      "Training (6419 / 18000 Steps) (loss=0.51781): 100%|██████████| 20/20 [00:59<00:00,  2.98s/it]\n",
      "Training (6439 / 18000 Steps) (loss=0.61373): 100%|██████████| 20/20 [00:34<00:00,  1.73s/it]\n",
      "Training (6459 / 18000 Steps) (loss=0.63894): 100%|██████████| 20/20 [00:35<00:00,  1.75s/it]\n",
      "Training (6479 / 18000 Steps) (loss=0.41119): 100%|██████████| 20/20 [00:34<00:00,  1.74s/it]\n",
      "Training (6499 / 18000 Steps) (loss=0.55488): 100%|██████████| 20/20 [00:34<00:00,  1.73s/it]\n",
      "Validate (6500 / 10 Steps): 100%|██████████| 7/7 [00:25<00:00,  3.64s/it]4<?, ?it/s]\n",
      "Training (6500 / 18000 Steps) (loss=0.55487):   5%|▌         | 1/20 [00:29<09:29, 29.96s/it]"
     ]
    },
    {
     "name": "stdout",
     "output_type": "stream",
     "text": [
      "Model Was Not Saved ! Current Best Avg. Dice: 0.3254188597202301 Current Avg. Dice: 0.325366735458374 Current Avg. tumor Dice: 0.34861940145492554 Current Avg. lymph Dice: 0.3021140992641449\n"
     ]
    },
    {
     "name": "stderr",
     "output_type": "stream",
     "text": [
      "Training (6519 / 18000 Steps) (loss=0.48228): 100%|██████████| 20/20 [00:59<00:00,  2.99s/it]\n",
      "Training (6539 / 18000 Steps) (loss=0.43758): 100%|██████████| 20/20 [00:34<00:00,  1.73s/it]\n",
      "Training (6559 / 18000 Steps) (loss=0.57525): 100%|██████████| 20/20 [00:35<00:00,  1.76s/it]\n",
      "Training (6579 / 18000 Steps) (loss=0.63555): 100%|██████████| 20/20 [00:34<00:00,  1.73s/it]\n",
      "Training (6599 / 18000 Steps) (loss=0.42665): 100%|██████████| 20/20 [00:34<00:00,  1.74s/it]\n",
      "Validate (6600 / 10 Steps): 100%|██████████| 7/7 [00:25<00:00,  3.62s/it]4<?, ?it/s]\n",
      "Training (6600 / 18000 Steps) (loss=0.59998):   5%|▌         | 1/20 [00:29<09:28, 29.91s/it]"
     ]
    },
    {
     "name": "stdout",
     "output_type": "stream",
     "text": [
      "Model Was Not Saved ! Current Best Avg. Dice: 0.3254188597202301 Current Avg. Dice: 0.2989007830619812 Current Avg. tumor Dice: 0.33662647008895874 Current Avg. lymph Dice: 0.26117509603500366\n"
     ]
    },
    {
     "name": "stderr",
     "output_type": "stream",
     "text": [
      "Training (6619 / 18000 Steps) (loss=0.49360): 100%|██████████| 20/20 [00:59<00:00,  3.00s/it]\n",
      "Training (6639 / 18000 Steps) (loss=0.56522): 100%|██████████| 20/20 [00:34<00:00,  1.73s/it]\n",
      "Training (6659 / 18000 Steps) (loss=0.61787): 100%|██████████| 20/20 [00:34<00:00,  1.74s/it]\n",
      "Training (6679 / 18000 Steps) (loss=0.59599): 100%|██████████| 20/20 [00:34<00:00,  1.71s/it]\n",
      "Training (6699 / 18000 Steps) (loss=0.55126): 100%|██████████| 20/20 [00:34<00:00,  1.72s/it]\n",
      "Validate (6700 / 10 Steps): 100%|██████████| 7/7 [00:25<00:00,  3.63s/it]4<?, ?it/s]\n",
      "Training (6700 / 18000 Steps) (loss=0.44509):   5%|▌         | 1/20 [00:30<09:32, 30.14s/it]"
     ]
    },
    {
     "name": "stdout",
     "output_type": "stream",
     "text": [
      "Model Was Not Saved ! Current Best Avg. Dice: 0.3254188597202301 Current Avg. Dice: 0.3061133325099945 Current Avg. tumor Dice: 0.35054805874824524 Current Avg. lymph Dice: 0.26167863607406616\n"
     ]
    },
    {
     "name": "stderr",
     "output_type": "stream",
     "text": [
      "Training (6719 / 18000 Steps) (loss=0.49065): 100%|██████████| 20/20 [00:59<00:00,  2.99s/it]\n",
      "Training (6739 / 18000 Steps) (loss=0.58676): 100%|██████████| 20/20 [00:35<00:00,  1.75s/it]\n",
      "Training (6759 / 18000 Steps) (loss=0.59348): 100%|██████████| 20/20 [00:34<00:00,  1.74s/it]\n",
      "Training (6779 / 18000 Steps) (loss=0.61266): 100%|██████████| 20/20 [00:34<00:00,  1.71s/it]\n",
      "Training (6799 / 18000 Steps) (loss=0.54242): 100%|██████████| 20/20 [00:35<00:00,  1.75s/it]\n",
      "Validate (6800 / 10 Steps): 100%|██████████| 7/7 [00:25<00:00,  3.63s/it]4<?, ?it/s]\n",
      "Training (6800 / 18000 Steps) (loss=0.54075):   5%|▌         | 1/20 [00:30<09:30, 30.04s/it]"
     ]
    },
    {
     "name": "stdout",
     "output_type": "stream",
     "text": [
      "Model Was Not Saved ! Current Best Avg. Dice: 0.3254188597202301 Current Avg. Dice: 0.30116891860961914 Current Avg. tumor Dice: 0.3348064422607422 Current Avg. lymph Dice: 0.2675313353538513\n"
     ]
    },
    {
     "name": "stderr",
     "output_type": "stream",
     "text": [
      "Training (6819 / 18000 Steps) (loss=0.39481): 100%|██████████| 20/20 [01:00<00:00,  3.02s/it]\n",
      "Training (6839 / 18000 Steps) (loss=0.46106): 100%|██████████| 20/20 [00:35<00:00,  1.77s/it]\n",
      "Training (6859 / 18000 Steps) (loss=0.41014): 100%|██████████| 20/20 [00:34<00:00,  1.73s/it]\n",
      "Training (6879 / 18000 Steps) (loss=0.51800): 100%|██████████| 20/20 [00:35<00:00,  1.78s/it]\n",
      "Training (6899 / 18000 Steps) (loss=0.55230): 100%|██████████| 20/20 [00:35<00:00,  1.77s/it]\n",
      "Validate (6900 / 10 Steps): 100%|██████████| 7/7 [00:25<00:00,  3.64s/it]4<?, ?it/s]\n",
      "Training (6900 / 18000 Steps) (loss=0.55906):   5%|▌         | 1/20 [00:31<09:56, 31.38s/it]"
     ]
    },
    {
     "name": "stdout",
     "output_type": "stream",
     "text": [
      "Model Was Saved ! Current Best Avg. Dice: 0.3296074867248535 Current Avg. Dice: 0.3296074867248535 Current Avg. tumor Dice: 0.35386091470718384 Current Avg. lymph Dice: 0.3053540587425232\n"
     ]
    },
    {
     "name": "stderr",
     "output_type": "stream",
     "text": [
      "Training (6915 / 18000 Steps) (loss=0.58053):  80%|████████  | 16/20 [00:57<00:14,  3.57s/it]\n"
     ]
    },
    {
     "ename": "KeyboardInterrupt",
     "evalue": "",
     "output_type": "error",
     "traceback": [
      "\u001b[0;31m---------------------------------------------------------------------------\u001b[0m",
      "\u001b[0;31mKeyboardInterrupt\u001b[0m                         Traceback (most recent call last)",
      "Cell \u001b[0;32mIn[10], line 7\u001b[0m\n\u001b[1;32m      4\u001b[0m torch\u001b[38;5;241m.\u001b[39mautograd\u001b[38;5;241m.\u001b[39mset_detect_anomaly(\u001b[38;5;28;01mTrue\u001b[39;00m)  \u001b[38;5;66;03m# Enable anomaly detection\u001b[39;00m\n\u001b[1;32m      6\u001b[0m \u001b[38;5;28;01mwhile\u001b[39;00m global_step \u001b[38;5;241m<\u001b[39m max_iterations:\n\u001b[0;32m----> 7\u001b[0m     global_step, dice_val_best, global_step_best \u001b[38;5;241m=\u001b[39m \u001b[43mtrain\u001b[49m\u001b[43m(\u001b[49m\n\u001b[1;32m      8\u001b[0m \u001b[43m        \u001b[49m\u001b[43mglobal_step\u001b[49m\u001b[43m,\u001b[49m\u001b[43m \u001b[49m\u001b[43mtrain_loader\u001b[49m\u001b[43m,\u001b[49m\u001b[43m \u001b[49m\u001b[43mdice_val_best\u001b[49m\u001b[43m,\u001b[49m\u001b[43m \u001b[49m\u001b[43mglobal_step_best\u001b[49m\n\u001b[1;32m      9\u001b[0m \u001b[43m    \u001b[49m\u001b[43m)\u001b[49m\n\u001b[1;32m     10\u001b[0m     epoch \u001b[38;5;241m+\u001b[39m\u001b[38;5;241m=\u001b[39m \u001b[38;5;241m1\u001b[39m\n\u001b[1;32m     11\u001b[0m     \u001b[38;5;66;03m#optimizer.param_groups[0]['lr'] = poly_lr(epoch, max_num_epochs, 0.005676 , 0.9)\u001b[39;00m\n\u001b[1;32m     12\u001b[0m \u001b[38;5;66;03m# model.load_state_dict(torch.load(os.path.join(model_dir, \"best_metric_luck_UNETr_prompt.pth\")))\u001b[39;00m\n",
      "Cell \u001b[0;32mIn[9], line 75\u001b[0m, in \u001b[0;36mtrain\u001b[0;34m(global_step, train_loader, dice_val_best, global_step_best)\u001b[0m\n\u001b[1;32m     73\u001b[0m logit_map \u001b[38;5;241m=\u001b[39m model(x,mode\u001b[38;5;241m=\u001b[39m\u001b[38;5;28;01mNone\u001b[39;00m)\n\u001b[1;32m     74\u001b[0m loss \u001b[38;5;241m=\u001b[39m loss_function(logit_map, y)\n\u001b[0;32m---> 75\u001b[0m \u001b[43mloss\u001b[49m\u001b[38;5;241;43m.\u001b[39;49m\u001b[43mbackward\u001b[49m\u001b[43m(\u001b[49m\u001b[43m)\u001b[49m\n\u001b[1;32m     76\u001b[0m epoch_loss \u001b[38;5;241m+\u001b[39m\u001b[38;5;241m=\u001b[39m loss\u001b[38;5;241m.\u001b[39mitem() \n\u001b[1;32m     77\u001b[0m optimizer\u001b[38;5;241m.\u001b[39mstep()\n",
      "File \u001b[0;32m~/miniconda3/envs/clam/lib/python3.8/site-packages/torch/_tensor.py:483\u001b[0m, in \u001b[0;36mTensor.backward\u001b[0;34m(self, gradient, retain_graph, create_graph, inputs)\u001b[0m\n\u001b[1;32m    436\u001b[0m \u001b[38;5;250m\u001b[39m\u001b[38;5;124mr\u001b[39m\u001b[38;5;124;03m\"\"\"Computes the gradient of current tensor wrt graph leaves.\u001b[39;00m\n\u001b[1;32m    437\u001b[0m \n\u001b[1;32m    438\u001b[0m \u001b[38;5;124;03mThe graph is differentiated using the chain rule. If the tensor is\u001b[39;00m\n\u001b[0;32m   (...)\u001b[0m\n\u001b[1;32m    480\u001b[0m \u001b[38;5;124;03m        used to compute the attr::tensors.\u001b[39;00m\n\u001b[1;32m    481\u001b[0m \u001b[38;5;124;03m\"\"\"\u001b[39;00m\n\u001b[1;32m    482\u001b[0m \u001b[38;5;28;01mif\u001b[39;00m has_torch_function_unary(\u001b[38;5;28mself\u001b[39m):\n\u001b[0;32m--> 483\u001b[0m     \u001b[38;5;28;01mreturn\u001b[39;00m \u001b[43mhandle_torch_function\u001b[49m\u001b[43m(\u001b[49m\n\u001b[1;32m    484\u001b[0m \u001b[43m        \u001b[49m\u001b[43mTensor\u001b[49m\u001b[38;5;241;43m.\u001b[39;49m\u001b[43mbackward\u001b[49m\u001b[43m,\u001b[49m\n\u001b[1;32m    485\u001b[0m \u001b[43m        \u001b[49m\u001b[43m(\u001b[49m\u001b[38;5;28;43mself\u001b[39;49m\u001b[43m,\u001b[49m\u001b[43m)\u001b[49m\u001b[43m,\u001b[49m\n\u001b[1;32m    486\u001b[0m \u001b[43m        \u001b[49m\u001b[38;5;28;43mself\u001b[39;49m\u001b[43m,\u001b[49m\n\u001b[1;32m    487\u001b[0m \u001b[43m        \u001b[49m\u001b[43mgradient\u001b[49m\u001b[38;5;241;43m=\u001b[39;49m\u001b[43mgradient\u001b[49m\u001b[43m,\u001b[49m\n\u001b[1;32m    488\u001b[0m \u001b[43m        \u001b[49m\u001b[43mretain_graph\u001b[49m\u001b[38;5;241;43m=\u001b[39;49m\u001b[43mretain_graph\u001b[49m\u001b[43m,\u001b[49m\n\u001b[1;32m    489\u001b[0m \u001b[43m        \u001b[49m\u001b[43mcreate_graph\u001b[49m\u001b[38;5;241;43m=\u001b[39;49m\u001b[43mcreate_graph\u001b[49m\u001b[43m,\u001b[49m\n\u001b[1;32m    490\u001b[0m \u001b[43m        \u001b[49m\u001b[43minputs\u001b[49m\u001b[38;5;241;43m=\u001b[39;49m\u001b[43minputs\u001b[49m\u001b[43m,\u001b[49m\n\u001b[1;32m    491\u001b[0m \u001b[43m    \u001b[49m\u001b[43m)\u001b[49m\n\u001b[1;32m    492\u001b[0m torch\u001b[38;5;241m.\u001b[39mautograd\u001b[38;5;241m.\u001b[39mbackward(\n\u001b[1;32m    493\u001b[0m     \u001b[38;5;28mself\u001b[39m, gradient, retain_graph, create_graph, inputs\u001b[38;5;241m=\u001b[39minputs\n\u001b[1;32m    494\u001b[0m )\n",
      "File \u001b[0;32m~/miniconda3/envs/clam/lib/python3.8/site-packages/torch/overrides.py:1577\u001b[0m, in \u001b[0;36mhandle_torch_function\u001b[0;34m(public_api, relevant_args, *args, **kwargs)\u001b[0m\n\u001b[1;32m   1571\u001b[0m     warnings\u001b[38;5;241m.\u001b[39mwarn(\u001b[38;5;124m\"\u001b[39m\u001b[38;5;124mDefining your `__torch_function__ as a plain method is deprecated and \u001b[39m\u001b[38;5;124m\"\u001b[39m\n\u001b[1;32m   1572\u001b[0m                   \u001b[38;5;124m\"\u001b[39m\u001b[38;5;124mwill be an error in future, please define it as a classmethod.\u001b[39m\u001b[38;5;124m\"\u001b[39m,\n\u001b[1;32m   1573\u001b[0m                   \u001b[38;5;167;01mDeprecationWarning\u001b[39;00m)\n\u001b[1;32m   1575\u001b[0m \u001b[38;5;66;03m# Use `public_api` instead of `implementation` so __torch_function__\u001b[39;00m\n\u001b[1;32m   1576\u001b[0m \u001b[38;5;66;03m# implementations can do equality/identity comparisons.\u001b[39;00m\n\u001b[0;32m-> 1577\u001b[0m result \u001b[38;5;241m=\u001b[39m \u001b[43mtorch_func_method\u001b[49m\u001b[43m(\u001b[49m\u001b[43mpublic_api\u001b[49m\u001b[43m,\u001b[49m\u001b[43m \u001b[49m\u001b[43mtypes\u001b[49m\u001b[43m,\u001b[49m\u001b[43m \u001b[49m\u001b[43margs\u001b[49m\u001b[43m,\u001b[49m\u001b[43m \u001b[49m\u001b[43mkwargs\u001b[49m\u001b[43m)\u001b[49m\n\u001b[1;32m   1579\u001b[0m \u001b[38;5;28;01mif\u001b[39;00m result \u001b[38;5;129;01mis\u001b[39;00m \u001b[38;5;129;01mnot\u001b[39;00m \u001b[38;5;28mNotImplemented\u001b[39m:\n\u001b[1;32m   1580\u001b[0m     \u001b[38;5;28;01mreturn\u001b[39;00m result\n",
      "File \u001b[0;32m~/miniconda3/envs/clam/lib/python3.8/site-packages/monai/data/meta_tensor.py:282\u001b[0m, in \u001b[0;36mMetaTensor.__torch_function__\u001b[0;34m(cls, func, types, args, kwargs)\u001b[0m\n\u001b[1;32m    280\u001b[0m \u001b[38;5;28;01mif\u001b[39;00m kwargs \u001b[38;5;129;01mis\u001b[39;00m \u001b[38;5;28;01mNone\u001b[39;00m:\n\u001b[1;32m    281\u001b[0m     kwargs \u001b[38;5;241m=\u001b[39m {}\n\u001b[0;32m--> 282\u001b[0m ret \u001b[38;5;241m=\u001b[39m \u001b[38;5;28;43msuper\u001b[39;49m\u001b[43m(\u001b[49m\u001b[43m)\u001b[49m\u001b[38;5;241;43m.\u001b[39;49m\u001b[43m__torch_function__\u001b[49m\u001b[43m(\u001b[49m\u001b[43mfunc\u001b[49m\u001b[43m,\u001b[49m\u001b[43m \u001b[49m\u001b[43mtypes\u001b[49m\u001b[43m,\u001b[49m\u001b[43m \u001b[49m\u001b[43margs\u001b[49m\u001b[43m,\u001b[49m\u001b[43m \u001b[49m\u001b[43mkwargs\u001b[49m\u001b[43m)\u001b[49m\n\u001b[1;32m    283\u001b[0m \u001b[38;5;66;03m# if `out` has been used as argument, metadata is not copied, nothing to do.\u001b[39;00m\n\u001b[1;32m    284\u001b[0m \u001b[38;5;66;03m# if \"out\" in kwargs:\u001b[39;00m\n\u001b[1;32m    285\u001b[0m \u001b[38;5;66;03m#     return ret\u001b[39;00m\n\u001b[1;32m    286\u001b[0m \u001b[38;5;28;01mif\u001b[39;00m _not_requiring_metadata(ret):\n",
      "File \u001b[0;32m~/miniconda3/envs/clam/lib/python3.8/site-packages/torch/_tensor.py:1386\u001b[0m, in \u001b[0;36mTensor.__torch_function__\u001b[0;34m(cls, func, types, args, kwargs)\u001b[0m\n\u001b[1;32m   1383\u001b[0m     \u001b[38;5;28;01mreturn\u001b[39;00m \u001b[38;5;28mNotImplemented\u001b[39m\n\u001b[1;32m   1385\u001b[0m \u001b[38;5;28;01mwith\u001b[39;00m _C\u001b[38;5;241m.\u001b[39mDisableTorchFunctionSubclass():\n\u001b[0;32m-> 1386\u001b[0m     ret \u001b[38;5;241m=\u001b[39m \u001b[43mfunc\u001b[49m\u001b[43m(\u001b[49m\u001b[38;5;241;43m*\u001b[39;49m\u001b[43margs\u001b[49m\u001b[43m,\u001b[49m\u001b[43m \u001b[49m\u001b[38;5;241;43m*\u001b[39;49m\u001b[38;5;241;43m*\u001b[39;49m\u001b[43mkwargs\u001b[49m\u001b[43m)\u001b[49m\n\u001b[1;32m   1387\u001b[0m     \u001b[38;5;28;01mif\u001b[39;00m func \u001b[38;5;129;01min\u001b[39;00m get_default_nowrap_functions():\n\u001b[1;32m   1388\u001b[0m         \u001b[38;5;28;01mreturn\u001b[39;00m ret\n",
      "File \u001b[0;32m~/miniconda3/envs/clam/lib/python3.8/site-packages/torch/_tensor.py:492\u001b[0m, in \u001b[0;36mTensor.backward\u001b[0;34m(self, gradient, retain_graph, create_graph, inputs)\u001b[0m\n\u001b[1;32m    482\u001b[0m \u001b[38;5;28;01mif\u001b[39;00m has_torch_function_unary(\u001b[38;5;28mself\u001b[39m):\n\u001b[1;32m    483\u001b[0m     \u001b[38;5;28;01mreturn\u001b[39;00m handle_torch_function(\n\u001b[1;32m    484\u001b[0m         Tensor\u001b[38;5;241m.\u001b[39mbackward,\n\u001b[1;32m    485\u001b[0m         (\u001b[38;5;28mself\u001b[39m,),\n\u001b[0;32m   (...)\u001b[0m\n\u001b[1;32m    490\u001b[0m         inputs\u001b[38;5;241m=\u001b[39minputs,\n\u001b[1;32m    491\u001b[0m     )\n\u001b[0;32m--> 492\u001b[0m \u001b[43mtorch\u001b[49m\u001b[38;5;241;43m.\u001b[39;49m\u001b[43mautograd\u001b[49m\u001b[38;5;241;43m.\u001b[39;49m\u001b[43mbackward\u001b[49m\u001b[43m(\u001b[49m\n\u001b[1;32m    493\u001b[0m \u001b[43m    \u001b[49m\u001b[38;5;28;43mself\u001b[39;49m\u001b[43m,\u001b[49m\u001b[43m \u001b[49m\u001b[43mgradient\u001b[49m\u001b[43m,\u001b[49m\u001b[43m \u001b[49m\u001b[43mretain_graph\u001b[49m\u001b[43m,\u001b[49m\u001b[43m \u001b[49m\u001b[43mcreate_graph\u001b[49m\u001b[43m,\u001b[49m\u001b[43m \u001b[49m\u001b[43minputs\u001b[49m\u001b[38;5;241;43m=\u001b[39;49m\u001b[43minputs\u001b[49m\n\u001b[1;32m    494\u001b[0m \u001b[43m\u001b[49m\u001b[43m)\u001b[49m\n",
      "File \u001b[0;32m~/miniconda3/envs/clam/lib/python3.8/site-packages/torch/autograd/__init__.py:251\u001b[0m, in \u001b[0;36mbackward\u001b[0;34m(tensors, grad_tensors, retain_graph, create_graph, grad_variables, inputs)\u001b[0m\n\u001b[1;32m    246\u001b[0m     retain_graph \u001b[38;5;241m=\u001b[39m create_graph\n\u001b[1;32m    248\u001b[0m \u001b[38;5;66;03m# The reason we repeat the same comment below is that\u001b[39;00m\n\u001b[1;32m    249\u001b[0m \u001b[38;5;66;03m# some Python versions print out the first line of a multi-line function\u001b[39;00m\n\u001b[1;32m    250\u001b[0m \u001b[38;5;66;03m# calls in the traceback and some print out the last line\u001b[39;00m\n\u001b[0;32m--> 251\u001b[0m \u001b[43mVariable\u001b[49m\u001b[38;5;241;43m.\u001b[39;49m\u001b[43m_execution_engine\u001b[49m\u001b[38;5;241;43m.\u001b[39;49m\u001b[43mrun_backward\u001b[49m\u001b[43m(\u001b[49m\u001b[43m  \u001b[49m\u001b[38;5;66;43;03m# Calls into the C++ engine to run the backward pass\u001b[39;49;00m\n\u001b[1;32m    252\u001b[0m \u001b[43m    \u001b[49m\u001b[43mtensors\u001b[49m\u001b[43m,\u001b[49m\n\u001b[1;32m    253\u001b[0m \u001b[43m    \u001b[49m\u001b[43mgrad_tensors_\u001b[49m\u001b[43m,\u001b[49m\n\u001b[1;32m    254\u001b[0m \u001b[43m    \u001b[49m\u001b[43mretain_graph\u001b[49m\u001b[43m,\u001b[49m\n\u001b[1;32m    255\u001b[0m \u001b[43m    \u001b[49m\u001b[43mcreate_graph\u001b[49m\u001b[43m,\u001b[49m\n\u001b[1;32m    256\u001b[0m \u001b[43m    \u001b[49m\u001b[43minputs\u001b[49m\u001b[43m,\u001b[49m\n\u001b[1;32m    257\u001b[0m \u001b[43m    \u001b[49m\u001b[43mallow_unreachable\u001b[49m\u001b[38;5;241;43m=\u001b[39;49m\u001b[38;5;28;43;01mTrue\u001b[39;49;00m\u001b[43m,\u001b[49m\n\u001b[1;32m    258\u001b[0m \u001b[43m    \u001b[49m\u001b[43maccumulate_grad\u001b[49m\u001b[38;5;241;43m=\u001b[39;49m\u001b[38;5;28;43;01mTrue\u001b[39;49;00m\u001b[43m,\u001b[49m\n\u001b[1;32m    259\u001b[0m \u001b[43m\u001b[49m\u001b[43m)\u001b[49m\n",
      "\u001b[0;31mKeyboardInterrupt\u001b[0m: "
     ]
    }
   ],
   "source": [
    "epoch = 0 # used for LR scheduler\n",
    "max_num_epochs = 530 # used for LR scheduler\n",
    "\n",
    "torch.autograd.set_detect_anomaly(True)  # Enable anomaly detection\n",
    "\n",
    "while global_step < max_iterations:\n",
    "    global_step, dice_val_best, global_step_best = train(\n",
    "        global_step, train_loader, dice_val_best, global_step_best\n",
    "    )\n",
    "    epoch += 1\n",
    "    #optimizer.param_groups[0]['lr'] = poly_lr(epoch, max_num_epochs, 0.005676 , 0.9)\n",
    "# model.load_state_dict(torch.load(os.path.join(model_dir, \"best_metric_luck_UNETr_prompt.pth\")))"
   ]
  }
 ],
 "metadata": {
  "kernelspec": {
   "display_name": "clam",
   "language": "python",
   "name": "python3"
  },
  "language_info": {
   "codemirror_mode": {
    "name": "ipython",
    "version": 3
   },
   "file_extension": ".py",
   "mimetype": "text/x-python",
   "name": "python",
   "nbconvert_exporter": "python",
   "pygments_lexer": "ipython3",
   "version": "3.8.0"
  }
 },
 "nbformat": 4,
 "nbformat_minor": 2
}
