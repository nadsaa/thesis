{
 "cells": [
  {
   "cell_type": "code",
   "execution_count": 1,
   "metadata": {},
   "outputs": [
    {
     "name": "stdout",
     "output_type": "stream",
     "text": [
      "1\n"
     ]
    },
    {
     "name": "stderr",
     "output_type": "stream",
     "text": [
      "/tmp/ipykernel_1941178/1896300350.py:9: TqdmWarning: IProgress not found. Please update jupyter and ipywidgets. See https://ipywidgets.readthedocs.io/en/stable/user_install.html\n",
      "  from tqdm.autonotebook import tqdm\n"
     ]
    }
   ],
   "source": [
    "import torch\n",
    "import torch.nn as nn\n",
    "from torch.utils.data import DataLoader\n",
    "from collections.abc import Sequence\n",
    "\n",
    "from unetr import CustomedUNETR\n",
    "\n",
    "import json\n",
    "from tqdm.autonotebook import tqdm\n",
    "import os\n",
    "os.environ[\"CUDA_DEVICE_ORDER\"] = \"PCI_BUS_ID\"\n",
    "os.environ[\"CUDA_VISIBLE_DEVICES\"] = \"0\" \n",
    "\n",
    "print(torch.cuda.device_count())\n",
    "torch.backends.cudnn.benchmark = True\n",
    "device = torch.device(\"cuda\" if torch.cuda.is_available() else \"cpu\")"
   ]
  },
  {
   "cell_type": "code",
   "execution_count": 2,
   "metadata": {},
   "outputs": [],
   "source": [
    "from monai.transforms import EnsureTyped\n",
    "from monai.transforms import Compose, LoadImaged, ScaleIntensityRanged, ConcatItemsd\n",
    "from monai.metrics import DiceMetric\n",
    "from monai.losses import DiceCELoss, DiceFocalLoss, FocalLoss\n",
    "from monai.inferers import sliding_window_inference\n",
    "\n",
    "\n",
    "from monai.data import (\n",
    "    Dataset,\n",
    "    DataLoader,\n",
    "    CacheDataset,\n",
    "    load_decathlon_datalist,\n",
    "    decollate_batch,\n",
    ")\n",
    "\n",
    "\n",
    "from monai.transforms import (\n",
    "    AsDiscrete,\n",
    "    Compose,\n",
    "    CropForegroundd,\n",
    "    LoadImaged,\n",
    "    Orientationd,\n",
    "    RandFlipd,\n",
    "    RandCropByPosNegLabeld,\n",
    "    RandShiftIntensityd,\n",
    "    ScaleIntensityRanged,\n",
    "    Spacingd,\n",
    "    RandRotate90d,\n",
    "    MapTransform,\n",
    "    ScaleIntensityd,\n",
    "    #AddChanneld,\n",
    "    SpatialPadd,\n",
    "    CenterSpatialCropd,\n",
    "    EnsureChannelFirstd,\n",
    "    ConcatItemsd,\n",
    "    AdjustContrastd, \n",
    "    Rand3DElasticd,\n",
    "    HistogramNormalized,\n",
    "    NormalizeIntensityd,\n",
    "    Invertd,\n",
    "    SaveImage,\n",
    "\n",
    ")"
   ]
  },
  {
   "cell_type": "code",
   "execution_count": 3,
   "metadata": {},
   "outputs": [],
   "source": [
    "data_dir = '/home/nada.saadi/MIS-FM/hecktor2022_cropped'\n",
    "json_dir = '/home/nada.saadi/MIS-FM/hecktor2022_cropped/4centers-CTPT.json'"
   ]
  },
  {
   "cell_type": "code",
   "execution_count": 4,
   "metadata": {},
   "outputs": [
    {
     "name": "stdout",
     "output_type": "stream",
     "text": [
      "204 49\n"
     ]
    }
   ],
   "source": [
    "def datafold_read(datalist, basedir, fold=0, key=\"training\"):\n",
    "    with open(datalist) as f:\n",
    "        json_data = json.load(f)\n",
    "\n",
    "    json_data = json_data[key]\n",
    "\n",
    "    for d in json_data:\n",
    "        for k in d:\n",
    "            if isinstance(d[k], list):\n",
    "                d[k] = [os.path.join(basedir, iv) for iv in d[k]]\n",
    "            elif isinstance(d[k], str):\n",
    "                d[k] = os.path.join(basedir, d[k]) if len(d[k]) > 0 else d[k]\n",
    "\n",
    "    tr = []\n",
    "    val = []\n",
    "    for d in json_data:\n",
    "        if \"fold\" in d and d[\"fold\"] == fold:\n",
    "            val.append(d)\n",
    "        else:\n",
    "            tr.append(d)\n",
    "\n",
    "    return tr, val\n",
    "\n",
    "\n",
    "train_data, valid_data = datafold_read(datalist=json_dir, basedir=data_dir, fold=0)\n",
    "print(len(train_data), len(valid_data))"
   ]
  },
  {
   "cell_type": "code",
   "execution_count": 5,
   "metadata": {},
   "outputs": [],
   "source": [
    "num_samples = 1\n",
    "\n",
    "class ClipCT(MapTransform):\n",
    "    \"\"\"\n",
    "    Convert labels to multi channels based on hecktor classes:\n",
    "    label 1 is the tumor\n",
    "    label 2 is the lymph node\n",
    "\n",
    "    \"\"\"\n",
    "\n",
    "    def __call__(self, data):\n",
    "        d = dict(data)\n",
    "        for key in self.keys:\n",
    "            if key == \"ct\":\n",
    "                d[key] = torch.clip(d[key], min=-200, max=200)\n",
    "            # elif key == \"pt\":\n",
    "            #     d[key] = torch.clip(d[key], d[key].min(), 5)\n",
    "        return d\n",
    "\n",
    "train_transforms = Compose(\n",
    "    [\n",
    "        LoadImaged(keys=[\"ct\", \"pt\", \"seg\"], ensure_channel_first=True),\n",
    "        SpatialPadd(keys=[\"ct\", \"pt\", \"seg\"], spatial_size=(200, 200, 310), method='end'),\n",
    "        Orientationd(keys=[\"ct\", \"pt\", \"seg\"], axcodes=\"PLS\"),\n",
    "        NormalizeIntensityd(keys=[\"pt\"]),\n",
    "        ClipCT(keys=[\"ct\"]),\n",
    "        ScaleIntensityd(keys=[\"ct\"], minv=0, maxv=1),\n",
    "        ConcatItemsd(keys=[\"pt\", \"ct\"], name=\"ctpt\"),  # Concatenate CT and PET\n",
    "        RandCropByPosNegLabeld(\n",
    "            keys=[\"ctpt\", \"seg\"],\n",
    "            label_key=\"seg\",\n",
    "            spatial_size=(96, 96, 96),\n",
    "            pos=1,\n",
    "            neg=1,\n",
    "            num_samples=num_samples,\n",
    "            image_key=\"ctpt\",\n",
    "            image_threshold=0,\n",
    "        ),\n",
    "        RandFlipd(keys=[\"ctpt\", \"seg\"], spatial_axis=[0], prob=0.20),\n",
    "        RandFlipd(keys=[\"ctpt\", \"seg\"], spatial_axis=[1], prob=0.20),\n",
    "        RandFlipd(keys=[\"ctpt\", \"seg\"], spatial_axis=[2], prob=0.20),\n",
    "        RandRotate90d(keys=[\"ctpt\", \"seg\"], prob=0.20, max_k=3),\n",
    "        EnsureTyped(keys=[\"ctpt\", \"seg\"]),\n",
    "    \n",
    "    ]\n",
    ")\n",
    "\n",
    "val_transforms = Compose(\n",
    "    [\n",
    "        LoadImaged(keys=[\"ct\", \"pt\", \"seg\"], ensure_channel_first=True),\n",
    "        SpatialPadd(keys=[\"ct\", \"pt\", \"seg\"], spatial_size=(200, 200, 310), method='end'),\n",
    "        Orientationd(keys=[\"ct\", \"pt\", \"seg\"], axcodes=\"PLS\"),\n",
    "        NormalizeIntensityd(keys=[\"pt\"]),\n",
    "        ClipCT(keys=[\"ct\"]),\n",
    "        ScaleIntensityd(keys=[\"ct\"], minv=0, maxv=1),\n",
    "        ConcatItemsd(keys=[\"pt\", \"ct\"], name=\"ctpt\"),# Concatenate CT and PET\n",
    "        EnsureTyped(keys=[\"ctpt\", \"seg\"]),\n",
    "    ]\n",
    ")\n",
    "\n",
    "\n",
    "##----------\n",
    "\n",
    "def create_dataloader(data, transforms, batch_size=2, shuffle=True):\n",
    "    # Create CacheDataset with the reformatted data\n",
    "    dataset = Dataset(data=data, transform=transforms)\n",
    "\n",
    "    # Create DataLoader\n",
    "    return DataLoader(dataset, batch_size=batch_size, shuffle=shuffle, num_workers=8)\n",
    "\n",
    "\n",
    "\n",
    "train_loader = create_dataloader(train_data, train_transforms, shuffle=True)\n",
    "val_loader = create_dataloader(valid_data, val_transforms, shuffle=False)"
   ]
  },
  {
   "cell_type": "code",
   "execution_count": 6,
   "metadata": {},
   "outputs": [
    {
     "name": "stdout",
     "output_type": "stream",
     "text": [
      "Nada's version of UNETR\n",
      "(96, 96, 96)\n",
      "(16, 16, 16)\n",
      "(6, 6, 6)\n",
      "768\n"
     ]
    },
    {
     "name": "stderr",
     "output_type": "stream",
     "text": [
      "/home/nada.saadi/miniconda3/envs/clam/lib/python3.8/site-packages/monai/utils/deprecate_utils.py:221: FutureWarning: unetr CustomedUNETR.__init__:pos_embed: Argument `pos_embed` has been deprecated since version 1.2. It will be removed in version 1.4. please use `proj_type` instead.\n",
      "  warn_deprecated(argname, msg, warning_category)\n"
     ]
    }
   ],
   "source": [
    "model = CustomedUNETR(\n",
    "    in_channels=2,  # Number of input channels\n",
    "    out_channels=3,  # Number of output channels\n",
    "    img_size=(96, 96, 96),  # Size of the input image\n",
    "    feature_size=48,  # Size of the feature maps\n",
    "    hidden_size=768,\n",
    "    num_heads = 12,# Size of the hidden layers in the transformer\n",
    "    mlp_dim=3072,  # Dimension of the MLP in the transformer\n",
    "    pos_embed=\"perceptron\",  # Type of positional embedding\n",
    "    norm_name=\"instance\",  # Type of normalization\n",
    "    res_block=True,  # Whether to use residual blocks\n",
    "    dropout_rate=0.0,\n",
    "    proj_type= \"conv\",\n",
    "    r=4,\n",
    "    lora_layer=None,\n",
    "    \n",
    ").to(device) "
   ]
  },
  {
   "cell_type": "code",
   "execution_count": 7,
   "metadata": {},
   "outputs": [],
   "source": [
    "def poly_lr(epoch, max_epochs, initial_lr, exponent=0.9):\n",
    "    return initial_lr * (1 - epoch / max_epochs)**exponent\n",
    "\n",
    "model_dir='/home/nada.saadi/CTPET/hecktor2022_cropped/4centers-ctpt-tokens-both'\n",
    "\n",
    "max_iterations = 18000\n",
    "eval_num = 100\n",
    "\n",
    "## running stats\n",
    "global_step = 0\n",
    "dice_val_best = 0.0\n",
    "global_step_best = 0\n",
    "epoch_loss_values = []\n",
    "metric_values = []\n",
    "metric_values_tumor = []\n",
    "metric_values_lymph = []\n",
    "\n",
    "\n",
    "loss_function = DiceCELoss(to_onehot_y=True, softmax=True)\n",
    "optimizer = torch.optim.AdamW(model.parameters(), lr=1e-4, weight_decay=1e-5)\n",
    "\n",
    "\n",
    "post_label = AsDiscrete(to_onehot=3)\n",
    "post_pred = AsDiscrete(argmax=True, to_onehot=3)\n",
    "\n",
    "dice_metric = DiceMetric(include_background=False, reduction=\"mean\", get_not_nans=False)\n",
    "dice_metric_batch = DiceMetric(include_background=False, reduction=\"mean_batch\")\n",
    "\n",
    "\n",
    "##-----------------------------------------------------------------------------\n",
    "\n",
    "def validation(epoch_iterator_val):\n",
    "        model.eval()\n",
    "        with torch.no_grad():\n",
    "            for step, batch in enumerate(epoch_iterator_val):\n",
    "                val_inputs, val_labels = (batch[\"ctpt\"].cuda(), batch[\"seg\"].cuda())\n",
    "                val_outputs = sliding_window_inference(val_inputs, (96, 96, 96), 4, model)\n",
    "                val_labels_list = decollate_batch(val_labels)\n",
    "                val_labels_convert = [\n",
    "                    post_label(val_label_tensor) for val_label_tensor in val_labels_list\n",
    "                ]\n",
    "                val_outputs_list = decollate_batch(val_outputs)\n",
    "                val_output_convert = [\n",
    "                    post_pred(val_pred_tensor) for val_pred_tensor in val_outputs_list\n",
    "                ]\n",
    "                dice_metric(y_pred=val_output_convert, y=val_labels_convert)\n",
    "                dice_metric_batch(y_pred=val_output_convert, y=val_labels_convert)\n",
    "                epoch_iterator_val.set_description(\n",
    "                    \"Validate (%d / %d Steps)\" % (global_step, 10.0)\n",
    "                )\n",
    "            mean_dice_val = dice_metric.aggregate().item()\n",
    "            metric_batch_val = dice_metric_batch.aggregate()\n",
    "\n",
    "            metric_tumor = metric_batch_val[0].item()\n",
    "            metric_lymph = metric_batch_val[1].item()\n",
    "\n",
    "            dice_metric.reset()\n",
    "            dice_metric_batch.reset()\n",
    "        return mean_dice_val, metric_tumor, metric_lymph\n",
    "\n",
    "\n",
    "\n",
    "def train(global_step, train_loader, dice_val_best, global_step_best):\n",
    "        model.train()\n",
    "        epoch_loss = 0\n",
    "        step = 0\n",
    "        epoch_iterator = tqdm(\n",
    "            train_loader, desc=\"Training (X / X Steps) (loss=X.X)\", dynamic_ncols=True\n",
    "        )\n",
    "        \n",
    "        for step, batch in enumerate(epoch_iterator):\n",
    "            step += 1\n",
    "            x, y = (batch[\"ctpt\"].cuda(), batch[\"seg\"].cuda())\n",
    "            logit_map = model(x, mode=\"mix\")\n",
    "            loss = loss_function(logit_map, y)\n",
    "            loss.backward()\n",
    "            epoch_loss += loss.item() \n",
    "            optimizer.step()\n",
    "            optimizer.zero_grad()\n",
    "            epoch_iterator.set_description(\n",
    "                \"Training (%d / %d Steps) (loss=%2.5f)\"\n",
    "                % (global_step, max_iterations, loss)\n",
    "            )\n",
    "            \n",
    "            if (\n",
    "                global_step % eval_num == 0 and global_step != 0\n",
    "            ) or global_step == max_iterations:\n",
    "                epoch_iterator_val = tqdm(\n",
    "                    val_loader, desc=\"Validate (X / X Steps) (dice=X.X)\", dynamic_ncols=True\n",
    "                )\n",
    "                dice_val, metric_tumor, metric_lymph = validation(epoch_iterator_val)\n",
    "                epoch_loss /= step\n",
    "                epoch_loss_values.append(epoch_loss)\n",
    "                metric_values.append(dice_val)\n",
    "                metric_values_tumor.append(metric_tumor)\n",
    "                metric_values_lymph.append(metric_lymph)\n",
    "                if dice_val > dice_val_best:\n",
    "                    dice_val_best = dice_val\n",
    "                    global_step_best = global_step\n",
    "                    torch.save(\n",
    "                        model.state_dict(), os.path.join(model_dir, \"4centers-ctpt-tokens.pth\")\n",
    "                    )\n",
    "                    print(\n",
    "                        \"Model Was Saved ! Current Best Avg. Dice: {} Current Avg. Dice: {} Current Avg. tumor Dice: {} Current Avg. lymph Dice: {}\".format(\n",
    "                            dice_val_best, dice_val, metric_tumor, metric_lymph\n",
    "                        )\n",
    "                    )\n",
    "                else:\n",
    "                    print(\n",
    "                        \"Model Was Not Saved ! Current Best Avg. Dice: {} Current Avg. Dice: {} Current Avg. tumor Dice: {} Current Avg. lymph Dice: {}\".format(\n",
    "                            dice_val_best, dice_val,  metric_tumor, metric_lymph\n",
    "                        )\n",
    "                    )\n",
    "            global_step += 1\n",
    "        return global_step, dice_val_best, global_step_best\n"
   ]
  },
  {
   "cell_type": "code",
   "execution_count": 8,
   "metadata": {},
   "outputs": [
    {
     "name": "stderr",
     "output_type": "stream",
     "text": [
      "Validate (0 / 10 Steps): 100%|██████████| 25/25 [01:51<00:00,  4.47s/it]1:07<00:01,  1.97it/s]\n",
      "Training (100 / 18000 Steps) (loss=0.94687):  99%|█████████▉| 101/102 [03:01<00:34, 34.47s/it]"
     ]
    },
    {
     "name": "stdout",
     "output_type": "stream",
     "text": [
      "Model Was Saved ! Current Best Avg. Dice: 0.2113262116909027 Current Avg. Dice: 0.2113262116909027 Current Avg. tumor Dice: 0.3751913607120514 Current Avg. lymph Dice: 0.0009139877511188388\n"
     ]
    },
    {
     "name": "stderr",
     "output_type": "stream",
     "text": [
      "Training (101 / 18000 Steps) (loss=0.91846): 100%|██████████| 102/102 [03:01<00:00,  1.78s/it]\n",
      "Validate (102 / 10 Steps): 100%|██████████| 25/25 [01:46<00:00,  4.26s/it]5<00:02,  2.00it/s]\n",
      "Training (200 / 18000 Steps) (loss=0.86621):  97%|█████████▋| 99/102 [02:43<01:38, 32.78s/it]"
     ]
    },
    {
     "name": "stdout",
     "output_type": "stream",
     "text": [
      "Model Was Saved ! Current Best Avg. Dice: 0.2352316677570343 Current Avg. Dice: 0.2352316677570343 Current Avg. tumor Dice: 0.3980740010738373 Current Avg. lymph Dice: 0.023854142054915428\n"
     ]
    },
    {
     "name": "stderr",
     "output_type": "stream",
     "text": [
      "Training (203 / 18000 Steps) (loss=0.84026): 100%|██████████| 102/102 [02:44<00:00,  1.62s/it]\n",
      "Validate (204 / 10 Steps): 100%|██████████| 25/25 [01:46<00:00,  4.26s/it]7<00:02,  2.02it/s]\n",
      "Training (300 / 18000 Steps) (loss=0.81141):  95%|█████████▌| 97/102 [02:44<02:42, 32.44s/it]"
     ]
    },
    {
     "name": "stdout",
     "output_type": "stream",
     "text": [
      "Model Was Not Saved ! Current Best Avg. Dice: 0.2352316677570343 Current Avg. Dice: 0.22521322965621948 Current Avg. tumor Dice: 0.39703115820884705 Current Avg. lymph Dice: 0.0014862759271636605\n"
     ]
    },
    {
     "name": "stderr",
     "output_type": "stream",
     "text": [
      "Training (305 / 18000 Steps) (loss=0.77935): 100%|██████████| 102/102 [02:46<00:00,  1.63s/it]\n",
      "Validate (306 / 10 Steps): 100%|██████████| 25/25 [01:47<00:00,  4.29s/it]4<00:03,  2.04it/s]\n",
      "Training (400 / 18000 Steps) (loss=0.76255):  93%|█████████▎| 95/102 [02:42<03:50, 32.97s/it]"
     ]
    },
    {
     "name": "stdout",
     "output_type": "stream",
     "text": [
      "Model Was Saved ! Current Best Avg. Dice: 0.2455175518989563 Current Avg. Dice: 0.2455175518989563 Current Avg. tumor Dice: 0.41174113750457764 Current Avg. lymph Dice: 0.029387149959802628\n"
     ]
    },
    {
     "name": "stderr",
     "output_type": "stream",
     "text": [
      "Training (407 / 18000 Steps) (loss=0.84313): 100%|██████████| 102/102 [02:46<00:00,  1.63s/it]\n",
      "Validate (408 / 10 Steps): 100%|██████████| 25/25 [01:48<00:00,  4.32s/it]5<00:04,  2.05it/s]\n",
      "Training (500 / 18000 Steps) (loss=0.66491):  91%|█████████ | 93/102 [02:44<04:58, 33.18s/it]"
     ]
    },
    {
     "name": "stdout",
     "output_type": "stream",
     "text": [
      "Model Was Saved ! Current Best Avg. Dice: 0.2779257297515869 Current Avg. Dice: 0.2779257297515869 Current Avg. tumor Dice: 0.3630260229110718 Current Avg. lymph Dice: 0.16520124673843384\n"
     ]
    },
    {
     "name": "stderr",
     "output_type": "stream",
     "text": [
      "Training (509 / 18000 Steps) (loss=0.63294): 100%|██████████| 102/102 [02:48<00:00,  1.65s/it]\n",
      "Validate (510 / 10 Steps): 100%|██████████| 25/25 [01:47<00:00,  4.29s/it]2<00:06,  1.87it/s]\n",
      "Training (600 / 18000 Steps) (loss=0.64534):  89%|████████▉ | 91/102 [02:40<05:59, 32.72s/it]"
     ]
    },
    {
     "name": "stdout",
     "output_type": "stream",
     "text": [
      "Model Was Not Saved ! Current Best Avg. Dice: 0.2779257297515869 Current Avg. Dice: 0.26556751132011414 Current Avg. tumor Dice: 0.44099515676498413 Current Avg. lymph Dice: 0.0348784439265728\n"
     ]
    },
    {
     "name": "stderr",
     "output_type": "stream",
     "text": [
      "Training (611 / 18000 Steps) (loss=0.72067): 100%|██████████| 102/102 [02:46<00:00,  1.63s/it]\n",
      "Validate (612 / 10 Steps): 100%|██████████| 25/25 [01:46<00:00,  4.28s/it]1<00:07,  1.95it/s]\n",
      "Training (700 / 18000 Steps) (loss=0.62963):  87%|████████▋ | 89/102 [02:38<07:03, 32.60s/it]"
     ]
    },
    {
     "name": "stdout",
     "output_type": "stream",
     "text": [
      "Model Was Not Saved ! Current Best Avg. Dice: 0.2779257297515869 Current Avg. Dice: 0.27686595916748047 Current Avg. tumor Dice: 0.4567442834377289 Current Avg. lymph Dice: 0.04088430479168892\n"
     ]
    },
    {
     "name": "stderr",
     "output_type": "stream",
     "text": [
      "Training (713 / 18000 Steps) (loss=0.70124): 100%|██████████| 102/102 [02:45<00:00,  1.62s/it]\n",
      "Validate (714 / 10 Steps): 100%|██████████| 25/25 [01:46<00:00,  4.26s/it]2<00:08,  1.93it/s]\n",
      "Training (800 / 18000 Steps) (loss=0.72423):  85%|████████▌ | 87/102 [02:38<08:06, 32.45s/it]"
     ]
    },
    {
     "name": "stdout",
     "output_type": "stream",
     "text": [
      "Model Was Not Saved ! Current Best Avg. Dice: 0.2779257297515869 Current Avg. Dice: 0.2264760434627533 Current Avg. tumor Dice: 0.3790171444416046 Current Avg. lymph Dice: 0.030862994492053986\n"
     ]
    },
    {
     "name": "stderr",
     "output_type": "stream",
     "text": [
      "Training (815 / 18000 Steps) (loss=0.65342): 100%|██████████| 102/102 [02:46<00:00,  1.63s/it]\n",
      "Validate (816 / 10 Steps): 100%|██████████| 25/25 [01:47<00:00,  4.31s/it]1<00:10,  1.71it/s]\n",
      "Training (900 / 18000 Steps) (loss=0.65577):  83%|████████▎ | 85/102 [02:39<09:24, 33.20s/it]"
     ]
    },
    {
     "name": "stdout",
     "output_type": "stream",
     "text": [
      "Model Was Saved ! Current Best Avg. Dice: 0.29698827862739563 Current Avg. Dice: 0.29698827862739563 Current Avg. tumor Dice: 0.46150168776512146 Current Avg. lymph Dice: 0.07186932116746902\n"
     ]
    },
    {
     "name": "stderr",
     "output_type": "stream",
     "text": [
      "Training (917 / 18000 Steps) (loss=0.61729): 100%|██████████| 102/102 [02:49<00:00,  1.66s/it]\n",
      "Validate (918 / 10 Steps): 100%|██████████| 25/25 [01:50<00:00,  4.40s/it]51<00:11,  1.82it/s]\n",
      "Training (1000 / 18000 Steps) (loss=0.72497):  81%|████████▏ | 83/102 [02:41<10:42, 33.81s/it]"
     ]
    },
    {
     "name": "stdout",
     "output_type": "stream",
     "text": [
      "Model Was Saved ! Current Best Avg. Dice: 0.29944825172424316 Current Avg. Dice: 0.29944825172424316 Current Avg. tumor Dice: 0.4659349024295807 Current Avg. lymph Dice: 0.07023538649082184\n"
     ]
    },
    {
     "name": "stderr",
     "output_type": "stream",
     "text": [
      "Training (1019 / 18000 Steps) (loss=0.61388): 100%|██████████| 102/102 [02:51<00:00,  1.68s/it]\n",
      "Validate (1020 / 10 Steps): 100%|██████████| 25/25 [01:50<00:00,  4.43s/it]6<00:11,  1.97it/s]\n",
      "Training (1100 / 18000 Steps) (loss=0.54526):  79%|███████▉  | 81/102 [02:38<11:55, 34.08s/it]"
     ]
    },
    {
     "name": "stdout",
     "output_type": "stream",
     "text": [
      "Model Was Saved ! Current Best Avg. Dice: 0.3307352662086487 Current Avg. Dice: 0.3307352662086487 Current Avg. tumor Dice: 0.4396088123321533 Current Avg. lymph Dice: 0.16901564598083496\n"
     ]
    },
    {
     "name": "stderr",
     "output_type": "stream",
     "text": [
      "Training (1121 / 18000 Steps) (loss=0.64068): 100%|██████████| 102/102 [02:50<00:00,  1.67s/it]\n",
      "Validate (1122 / 10 Steps): 100%|██████████| 25/25 [01:50<00:00,  4.41s/it]9<00:14,  1.69it/s]\n",
      "Training (1200 / 18000 Steps) (loss=0.61747):  77%|███████▋  | 79/102 [02:39<12:53, 33.61s/it]"
     ]
    },
    {
     "name": "stdout",
     "output_type": "stream",
     "text": [
      "Model Was Not Saved ! Current Best Avg. Dice: 0.3307352662086487 Current Avg. Dice: 0.32955092191696167 Current Avg. tumor Dice: 0.44394901394844055 Current Avg. lymph Dice: 0.16413062810897827\n"
     ]
    },
    {
     "name": "stderr",
     "output_type": "stream",
     "text": [
      "Training (1223 / 18000 Steps) (loss=0.60176): 100%|██████████| 102/102 [02:51<00:00,  1.69s/it]\n",
      "Validate (1224 / 10 Steps): 100%|██████████| 25/25 [01:46<00:00,  4.26s/it]6<00:12,  2.03it/s]\n",
      "Training (1300 / 18000 Steps) (loss=0.62707):  75%|███████▌  | 77/102 [02:33<13:37, 32.70s/it]"
     ]
    },
    {
     "name": "stdout",
     "output_type": "stream",
     "text": [
      "Model Was Saved ! Current Best Avg. Dice: 0.33914831280708313 Current Avg. Dice: 0.33914831280708313 Current Avg. tumor Dice: 0.4633873999118805 Current Avg. lymph Dice: 0.16187933087348938\n"
     ]
    },
    {
     "name": "stderr",
     "output_type": "stream",
     "text": [
      "Training (1325 / 18000 Steps) (loss=0.61537): 100%|██████████| 102/102 [02:46<00:00,  1.63s/it]\n",
      "Validate (1326 / 10 Steps): 100%|██████████| 25/25 [01:50<00:00,  4.41s/it]6<00:14,  1.91it/s]\n",
      "Training (1400 / 18000 Steps) (loss=0.69191):  74%|███████▎  | 75/102 [02:36<15:08, 33.63s/it]"
     ]
    },
    {
     "name": "stdout",
     "output_type": "stream",
     "text": [
      "Model Was Not Saved ! Current Best Avg. Dice: 0.33914831280708313 Current Avg. Dice: 0.27406248450279236 Current Avg. tumor Dice: 0.4256317615509033 Current Avg. lymph Dice: 0.07303709536790848\n"
     ]
    },
    {
     "name": "stderr",
     "output_type": "stream",
     "text": [
      "Training (1427 / 18000 Steps) (loss=0.63343): 100%|██████████| 102/102 [02:50<00:00,  1.68s/it]\n",
      "Validate (1428 / 10 Steps): 100%|██████████| 25/25 [01:50<00:00,  4.41s/it]5<00:18,  1.66it/s]\n",
      "Training (1500 / 18000 Steps) (loss=0.62088):  72%|███████▏  | 73/102 [02:36<16:15, 33.63s/it]"
     ]
    },
    {
     "name": "stdout",
     "output_type": "stream",
     "text": [
      "Model Was Not Saved ! Current Best Avg. Dice: 0.33914831280708313 Current Avg. Dice: 0.3242308497428894 Current Avg. tumor Dice: 0.4585219919681549 Current Avg. lymph Dice: 0.1383114606142044\n"
     ]
    },
    {
     "name": "stderr",
     "output_type": "stream",
     "text": [
      "Training (1529 / 18000 Steps) (loss=0.68521): 100%|██████████| 102/102 [02:51<00:00,  1.68s/it]\n",
      "Validate (1530 / 10 Steps): 100%|██████████| 25/25 [01:36<00:00,  3.84s/it]0<00:14,  2.15it/s]\n",
      "Training (1600 / 18000 Steps) (loss=0.55356):  70%|██████▉   | 71/102 [02:16<15:07, 29.28s/it]"
     ]
    },
    {
     "name": "stdout",
     "output_type": "stream",
     "text": [
      "Model Was Not Saved ! Current Best Avg. Dice: 0.33914831280708313 Current Avg. Dice: 0.23183134198188782 Current Avg. tumor Dice: 0.3662587106227875 Current Avg. lymph Dice: 0.05953297019004822\n"
     ]
    },
    {
     "name": "stderr",
     "output_type": "stream",
     "text": [
      "Training (1631 / 18000 Steps) (loss=0.57779): 100%|██████████| 102/102 [02:31<00:00,  1.48s/it]\n",
      "Validate (1632 / 10 Steps): 100%|██████████| 25/25 [01:36<00:00,  3.86s/it]0<00:18,  1.89it/s]\n",
      "Training (1700 / 18000 Steps) (loss=0.55138):  68%|██████▊   | 69/102 [02:17<16:21, 29.74s/it]"
     ]
    },
    {
     "name": "stdout",
     "output_type": "stream",
     "text": [
      "Model Was Saved ! Current Best Avg. Dice: 0.34075623750686646 Current Avg. Dice: 0.34075623750686646 Current Avg. tumor Dice: 0.4754272699356079 Current Avg. lymph Dice: 0.1503216028213501\n"
     ]
    },
    {
     "name": "stderr",
     "output_type": "stream",
     "text": [
      "Training (1733 / 18000 Steps) (loss=0.52929): 100%|██████████| 102/102 [02:33<00:00,  1.50s/it]\n",
      "Validate (1734 / 10 Steps): 100%|██████████| 25/25 [01:36<00:00,  3.85s/it]6<00:17,  2.07it/s]\n",
      "Training (1800 / 18000 Steps) (loss=0.55518):  66%|██████▌   | 67/102 [02:13<17:09, 29.41s/it]"
     ]
    },
    {
     "name": "stdout",
     "output_type": "stream",
     "text": [
      "Model Was Not Saved ! Current Best Avg. Dice: 0.34075623750686646 Current Avg. Dice: 0.3128264546394348 Current Avg. tumor Dice: 0.47950315475463867 Current Avg. lymph Dice: 0.0869000032544136\n"
     ]
    },
    {
     "name": "stderr",
     "output_type": "stream",
     "text": [
      "Training (1835 / 18000 Steps) (loss=0.57082): 100%|██████████| 102/102 [02:30<00:00,  1.47s/it]\n",
      "Validate (1836 / 10 Steps): 100%|██████████| 25/25 [01:36<00:00,  3.86s/it]6<00:19,  1.99it/s]\n",
      "Training (1900 / 18000 Steps) (loss=0.59887):  64%|██████▎   | 65/102 [02:13<18:18, 29.69s/it]"
     ]
    },
    {
     "name": "stdout",
     "output_type": "stream",
     "text": [
      "Model Was Saved ! Current Best Avg. Dice: 0.34356752038002014 Current Avg. Dice: 0.34356752038002014 Current Avg. tumor Dice: 0.4609837532043457 Current Avg. lymph Dice: 0.175764799118042\n"
     ]
    },
    {
     "name": "stderr",
     "output_type": "stream",
     "text": [
      "Training (1937 / 18000 Steps) (loss=0.52155): 100%|██████████| 102/102 [02:31<00:00,  1.48s/it]\n",
      "Validate (1938 / 10 Steps): 100%|██████████| 25/25 [01:37<00:00,  3.89s/it]5<00:19,  2.05it/s]\n",
      "Training (2000 / 18000 Steps) (loss=0.68992):  62%|██████▏   | 63/102 [02:12<19:17, 29.68s/it]"
     ]
    },
    {
     "name": "stdout",
     "output_type": "stream",
     "text": [
      "Model Was Not Saved ! Current Best Avg. Dice: 0.34356752038002014 Current Avg. Dice: 0.3329671025276184 Current Avg. tumor Dice: 0.47678783535957336 Current Avg. lymph Dice: 0.13378548622131348\n"
     ]
    },
    {
     "name": "stderr",
     "output_type": "stream",
     "text": [
      "Training (2039 / 18000 Steps) (loss=0.68663): 100%|██████████| 102/102 [02:31<00:00,  1.48s/it]\n",
      "Validate (2040 / 10 Steps): 100%|██████████| 25/25 [01:35<00:00,  3.84s/it]4<00:21,  1.93it/s]\n",
      "Training (2100 / 18000 Steps) (loss=0.72572):  60%|█████▉    | 61/102 [02:11<20:10, 29.52s/it]"
     ]
    },
    {
     "name": "stdout",
     "output_type": "stream",
     "text": [
      "Model Was Saved ! Current Best Avg. Dice: 0.36183086037635803 Current Avg. Dice: 0.36183086037635803 Current Avg. tumor Dice: 0.44529685378074646 Current Avg. lymph Dice: 0.23428797721862793\n"
     ]
    },
    {
     "name": "stderr",
     "output_type": "stream",
     "text": [
      "Training (2141 / 18000 Steps) (loss=0.60019): 100%|██████████| 102/102 [02:31<00:00,  1.48s/it]\n",
      "Validate (2142 / 10 Steps): 100%|██████████| 25/25 [01:36<00:00,  3.85s/it]2<00:20,  2.15it/s]\n",
      "Training (2200 / 18000 Steps) (loss=0.67150):  58%|█████▊    | 59/102 [02:09<21:03, 29.39s/it]"
     ]
    },
    {
     "name": "stdout",
     "output_type": "stream",
     "text": [
      "Model Was Not Saved ! Current Best Avg. Dice: 0.36183086037635803 Current Avg. Dice: 0.3354719579219818 Current Avg. tumor Dice: 0.46812447905540466 Current Avg. lymph Dice: 0.1467633843421936\n"
     ]
    },
    {
     "name": "stderr",
     "output_type": "stream",
     "text": [
      "Training (2243 / 18000 Steps) (loss=0.63369): 100%|██████████| 102/102 [02:30<00:00,  1.47s/it]\n",
      "Validate (2244 / 10 Steps): 100%|██████████| 25/25 [01:36<00:00,  3.85s/it]3<00:21,  2.19it/s]\n",
      "Training (2300 / 18000 Steps) (loss=0.57023):  56%|█████▌    | 57/102 [02:09<22:04, 29.44s/it]"
     ]
    },
    {
     "name": "stdout",
     "output_type": "stream",
     "text": [
      "Model Was Not Saved ! Current Best Avg. Dice: 0.36183086037635803 Current Avg. Dice: 0.34490734338760376 Current Avg. tumor Dice: 0.4711771607398987 Current Avg. lymph Dice: 0.16422061622142792\n"
     ]
    },
    {
     "name": "stderr",
     "output_type": "stream",
     "text": [
      "Training (2345 / 18000 Steps) (loss=0.67191): 100%|██████████| 102/102 [02:30<00:00,  1.48s/it]\n",
      "Validate (2346 / 10 Steps): 100%|██████████| 25/25 [01:36<00:00,  3.85s/it]1<00:22,  2.13it/s]\n",
      "Training (2400 / 18000 Steps) (loss=0.58914):  54%|█████▍    | 55/102 [02:07<22:59, 29.36s/it]"
     ]
    },
    {
     "name": "stdout",
     "output_type": "stream",
     "text": [
      "Model Was Not Saved ! Current Best Avg. Dice: 0.36183086037635803 Current Avg. Dice: 0.3102012872695923 Current Avg. tumor Dice: 0.45346593856811523 Current Avg. lymph Dice: 0.11518444120883942\n"
     ]
    },
    {
     "name": "stderr",
     "output_type": "stream",
     "text": [
      "Training (2447 / 18000 Steps) (loss=0.65147): 100%|██████████| 102/102 [02:30<00:00,  1.47s/it]\n",
      "Validate (2448 / 10 Steps): 100%|██████████| 25/25 [01:36<00:00,  3.85s/it]9<00:23,  2.14it/s]\n",
      "Training (2500 / 18000 Steps) (loss=0.60033):  52%|█████▏    | 53/102 [02:05<23:57, 29.34s/it]"
     ]
    },
    {
     "name": "stdout",
     "output_type": "stream",
     "text": [
      "Model Was Not Saved ! Current Best Avg. Dice: 0.36183086037635803 Current Avg. Dice: 0.30453431606292725 Current Avg. tumor Dice: 0.4768408238887787 Current Avg. lymph Dice: 0.0726519450545311\n"
     ]
    },
    {
     "name": "stderr",
     "output_type": "stream",
     "text": [
      "Training (2549 / 18000 Steps) (loss=0.68583): 100%|██████████| 102/102 [02:29<00:00,  1.47s/it]\n",
      "Validate (2550 / 10 Steps): 100%|██████████| 25/25 [01:35<00:00,  3.84s/it]8<00:25,  2.06it/s]\n",
      "Training (2600 / 18000 Steps) (loss=0.56822):  50%|█████     | 51/102 [02:04<24:51, 29.24s/it]"
     ]
    },
    {
     "name": "stdout",
     "output_type": "stream",
     "text": [
      "Model Was Not Saved ! Current Best Avg. Dice: 0.36183086037635803 Current Avg. Dice: 0.3536095917224884 Current Avg. tumor Dice: 0.46773311495780945 Current Avg. lymph Dice: 0.18496838212013245\n"
     ]
    },
    {
     "name": "stderr",
     "output_type": "stream",
     "text": [
      "Training (2651 / 18000 Steps) (loss=0.67703): 100%|██████████| 102/102 [02:28<00:00,  1.46s/it]\n",
      "Validate (2652 / 10 Steps): 100%|██████████| 25/25 [01:36<00:00,  3.85s/it]7<00:25,  2.12it/s]\n",
      "Training (2700 / 18000 Steps) (loss=0.63439):  48%|████▊     | 49/102 [02:04<25:54, 29.33s/it]"
     ]
    },
    {
     "name": "stdout",
     "output_type": "stream",
     "text": [
      "Model Was Not Saved ! Current Best Avg. Dice: 0.36183086037635803 Current Avg. Dice: 0.3289357125759125 Current Avg. tumor Dice: 0.4422305226325989 Current Avg. lymph Dice: 0.17374049127101898\n"
     ]
    },
    {
     "name": "stderr",
     "output_type": "stream",
     "text": [
      "Training (2753 / 18000 Steps) (loss=0.66976): 100%|██████████| 102/102 [02:29<00:00,  1.46s/it]\n",
      "Validate (2754 / 10 Steps): 100%|██████████| 25/25 [01:36<00:00,  3.85s/it]8<00:24,  2.25it/s]\n",
      "Training (2800 / 18000 Steps) (loss=0.66997):  46%|████▌     | 47/102 [02:04<26:53, 29.33s/it]"
     ]
    },
    {
     "name": "stdout",
     "output_type": "stream",
     "text": [
      "Model Was Not Saved ! Current Best Avg. Dice: 0.36183086037635803 Current Avg. Dice: 0.31182634830474854 Current Avg. tumor Dice: 0.3762086033821106 Current Avg. lymph Dice: 0.21445198357105255\n"
     ]
    },
    {
     "name": "stderr",
     "output_type": "stream",
     "text": [
      "Training (2855 / 18000 Steps) (loss=0.56269): 100%|██████████| 102/102 [02:30<00:00,  1.48s/it]\n",
      "Validate (2856 / 10 Steps): 100%|██████████| 25/25 [01:35<00:00,  3.84s/it]6<00:27,  2.14it/s]\n",
      "Training (2900 / 18000 Steps) (loss=0.71129):  44%|████▍     | 45/102 [02:02<27:47, 29.25s/it]"
     ]
    },
    {
     "name": "stdout",
     "output_type": "stream",
     "text": [
      "Model Was Not Saved ! Current Best Avg. Dice: 0.36183086037635803 Current Avg. Dice: 0.2939586341381073 Current Avg. tumor Dice: 0.3753295838832855 Current Avg. lymph Dice: 0.18170754611492157\n"
     ]
    },
    {
     "name": "stderr",
     "output_type": "stream",
     "text": [
      "Training (2957 / 18000 Steps) (loss=0.43932): 100%|██████████| 102/102 [02:29<00:00,  1.46s/it]\n",
      "Validate (2958 / 10 Steps): 100%|██████████| 25/25 [01:36<00:00,  3.87s/it]5<00:32,  1.87it/s]\n",
      "Training (3000 / 18000 Steps) (loss=0.65371):  42%|████▏     | 43/102 [02:02<29:01, 29.51s/it]"
     ]
    },
    {
     "name": "stdout",
     "output_type": "stream",
     "text": [
      "Model Was Not Saved ! Current Best Avg. Dice: 0.36183086037635803 Current Avg. Dice: 0.36041879653930664 Current Avg. tumor Dice: 0.4814012348651886 Current Avg. lymph Dice: 0.18594686686992645\n"
     ]
    },
    {
     "name": "stderr",
     "output_type": "stream",
     "text": [
      "Training (3059 / 18000 Steps) (loss=0.66935): 100%|██████████| 102/102 [02:30<00:00,  1.48s/it]\n",
      "Validate (3060 / 10 Steps): 100%|██████████| 25/25 [01:35<00:00,  3.84s/it]5<00:28,  2.15it/s]\n",
      "Training (3100 / 18000 Steps) (loss=0.48496):  40%|████      | 41/102 [02:01<29:44, 29.26s/it]"
     ]
    },
    {
     "name": "stdout",
     "output_type": "stream",
     "text": [
      "Model Was Not Saved ! Current Best Avg. Dice: 0.36183086037635803 Current Avg. Dice: 0.3383781611919403 Current Avg. tumor Dice: 0.45441949367523193 Current Avg. lymph Dice: 0.17922212183475494\n"
     ]
    },
    {
     "name": "stderr",
     "output_type": "stream",
     "text": [
      "Training (3161 / 18000 Steps) (loss=0.60456): 100%|██████████| 102/102 [02:30<00:00,  1.48s/it]\n",
      "Validate (3162 / 10 Steps): 100%|██████████| 25/25 [01:36<00:00,  3.88s/it]3<00:28,  2.22it/s]\n",
      "Training (3200 / 18000 Steps) (loss=0.63420):  38%|███▊      | 39/102 [02:00<31:02, 29.57s/it]"
     ]
    },
    {
     "name": "stdout",
     "output_type": "stream",
     "text": [
      "Model Was Not Saved ! Current Best Avg. Dice: 0.36183086037635803 Current Avg. Dice: 0.36101460456848145 Current Avg. tumor Dice: 0.4934433102607727 Current Avg. lymph Dice: 0.17393149435520172\n"
     ]
    },
    {
     "name": "stderr",
     "output_type": "stream",
     "text": [
      "Training (3263 / 18000 Steps) (loss=0.67145): 100%|██████████| 102/102 [02:30<00:00,  1.48s/it]\n",
      "Validate (3264 / 10 Steps): 100%|██████████| 25/25 [01:36<00:00,  3.86s/it]2<00:30,  2.16it/s]\n",
      "Training (3300 / 18000 Steps) (loss=0.67893):  36%|███▋      | 37/102 [01:58<31:52, 29.42s/it]"
     ]
    },
    {
     "name": "stdout",
     "output_type": "stream",
     "text": [
      "Model Was Not Saved ! Current Best Avg. Dice: 0.36183086037635803 Current Avg. Dice: 0.3463895618915558 Current Avg. tumor Dice: 0.4910028278827667 Current Avg. lymph Dice: 0.14655977487564087\n"
     ]
    },
    {
     "name": "stderr",
     "output_type": "stream",
     "text": [
      "Training (3365 / 18000 Steps) (loss=0.49707): 100%|██████████| 102/102 [02:30<00:00,  1.47s/it]\n",
      "Validate (3366 / 10 Steps): 100%|██████████| 25/25 [01:37<00:00,  3.90s/it]2<00:36,  1.85it/s]\n",
      "Training (3400 / 18000 Steps) (loss=0.68770):  34%|███▍      | 35/102 [01:59<33:15, 29.79s/it]"
     ]
    },
    {
     "name": "stdout",
     "output_type": "stream",
     "text": [
      "Model Was Not Saved ! Current Best Avg. Dice: 0.36183086037635803 Current Avg. Dice: 0.30640947818756104 Current Avg. tumor Dice: 0.4205463230609894 Current Avg. lymph Dice: 0.15214966237545013\n"
     ]
    },
    {
     "name": "stderr",
     "output_type": "stream",
     "text": [
      "Training (3467 / 18000 Steps) (loss=0.71795): 100%|██████████| 102/102 [02:31<00:00,  1.49s/it]\n",
      "Validate (3468 / 10 Steps): 100%|██████████| 25/25 [01:36<00:00,  3.85s/it]0<00:33,  2.10it/s]\n",
      "Training (3500 / 18000 Steps) (loss=0.54068):  32%|███▏      | 33/102 [01:57<34:08, 29.69s/it]"
     ]
    },
    {
     "name": "stdout",
     "output_type": "stream",
     "text": [
      "Model Was Saved ! Current Best Avg. Dice: 0.36606520414352417 Current Avg. Dice: 0.36606520414352417 Current Avg. tumor Dice: 0.4818536341190338 Current Avg. lymph Dice: 0.19925445318222046\n"
     ]
    },
    {
     "name": "stderr",
     "output_type": "stream",
     "text": [
      "Training (3569 / 18000 Steps) (loss=0.56254): 100%|██████████| 102/102 [02:31<00:00,  1.48s/it]\n",
      "Validate (3570 / 10 Steps): 100%|██████████| 25/25 [01:36<00:00,  3.86s/it]0<00:34,  2.09it/s]\n",
      "Training (3600 / 18000 Steps) (loss=0.67416):  30%|███       | 31/102 [01:57<34:52, 29.47s/it]"
     ]
    },
    {
     "name": "stdout",
     "output_type": "stream",
     "text": [
      "Model Was Not Saved ! Current Best Avg. Dice: 0.36606520414352417 Current Avg. Dice: 0.33872175216674805 Current Avg. tumor Dice: 0.48439696431159973 Current Avg. lymph Dice: 0.14157773554325104\n"
     ]
    },
    {
     "name": "stderr",
     "output_type": "stream",
     "text": [
      "Training (3671 / 18000 Steps) (loss=0.54011): 100%|██████████| 102/102 [02:31<00:00,  1.48s/it]\n",
      "Validate (3672 / 10 Steps): 100%|██████████| 25/25 [01:36<00:00,  3.86s/it]8<00:37,  1.99it/s]\n",
      "Training (3700 / 18000 Steps) (loss=0.36240):  28%|██▊       | 29/102 [01:54<35:49, 29.45s/it]"
     ]
    },
    {
     "name": "stdout",
     "output_type": "stream",
     "text": [
      "Model Was Not Saved ! Current Best Avg. Dice: 0.36606520414352417 Current Avg. Dice: 0.3604874014854431 Current Avg. tumor Dice: 0.5001074075698853 Current Avg. lymph Dice: 0.16694694757461548\n"
     ]
    },
    {
     "name": "stderr",
     "output_type": "stream",
     "text": [
      "Training (3773 / 18000 Steps) (loss=0.54394): 100%|██████████| 102/102 [02:30<00:00,  1.48s/it]\n",
      "Validate (3774 / 10 Steps): 100%|██████████| 25/25 [01:35<00:00,  3.83s/it]8<00:41,  1.82it/s]\n",
      "Training (3800 / 18000 Steps) (loss=0.49831):  26%|██▋       | 27/102 [01:53<36:35, 29.28s/it]"
     ]
    },
    {
     "name": "stdout",
     "output_type": "stream",
     "text": [
      "Model Was Not Saved ! Current Best Avg. Dice: 0.36606520414352417 Current Avg. Dice: 0.3445703089237213 Current Avg. tumor Dice: 0.4718509614467621 Current Avg. lymph Dice: 0.16783283650875092\n"
     ]
    },
    {
     "name": "stderr",
     "output_type": "stream",
     "text": [
      "Training (3875 / 18000 Steps) (loss=0.47379): 100%|██████████| 102/102 [02:29<00:00,  1.47s/it]\n",
      "Validate (3876 / 10 Steps): 100%|██████████| 25/25 [01:36<00:00,  3.86s/it]6<00:33,  2.34it/s]\n",
      "Training (3900 / 18000 Steps) (loss=0.41114):  25%|██▍       | 25/102 [01:52<37:54, 29.53s/it]"
     ]
    },
    {
     "name": "stdout",
     "output_type": "stream",
     "text": [
      "Model Was Not Saved ! Current Best Avg. Dice: 0.36606520414352417 Current Avg. Dice: 0.3453000783920288 Current Avg. tumor Dice: 0.4919222593307495 Current Avg. lymph Dice: 0.14467620849609375\n"
     ]
    },
    {
     "name": "stderr",
     "output_type": "stream",
     "text": [
      "Training (3977 / 18000 Steps) (loss=0.38011): 100%|██████████| 102/102 [02:30<00:00,  1.47s/it]\n",
      "Validate (3978 / 10 Steps): 100%|██████████| 25/25 [01:35<00:00,  3.82s/it]5<00:37,  2.13it/s]\n",
      "Training (4000 / 18000 Steps) (loss=0.41556):  23%|██▎       | 23/102 [01:50<38:22, 29.15s/it]"
     ]
    },
    {
     "name": "stdout",
     "output_type": "stream",
     "text": [
      "Model Was Not Saved ! Current Best Avg. Dice: 0.36606520414352417 Current Avg. Dice: 0.36385610699653625 Current Avg. tumor Dice: 0.5024940967559814 Current Avg. lymph Dice: 0.1718454658985138\n"
     ]
    },
    {
     "name": "stderr",
     "output_type": "stream",
     "text": [
      "Training (4079 / 18000 Steps) (loss=0.42038): 100%|██████████| 102/102 [02:27<00:00,  1.45s/it]\n",
      "Validate (4080 / 10 Steps): 100%|██████████| 25/25 [01:36<00:00,  3.88s/it]4<00:44,  1.83it/s]\n",
      "Training (4100 / 18000 Steps) (loss=0.36299):  21%|██        | 21/102 [01:51<39:58, 29.61s/it]"
     ]
    },
    {
     "name": "stdout",
     "output_type": "stream",
     "text": [
      "Model Was Not Saved ! Current Best Avg. Dice: 0.36606520414352417 Current Avg. Dice: 0.3566056787967682 Current Avg. tumor Dice: 0.48360535502433777 Current Avg. lymph Dice: 0.17846861481666565\n"
     ]
    },
    {
     "name": "stderr",
     "output_type": "stream",
     "text": [
      "Training (4181 / 18000 Steps) (loss=0.53514): 100%|██████████| 102/102 [02:30<00:00,  1.47s/it]\n",
      "Validate (4182 / 10 Steps): 100%|██████████| 25/25 [01:36<00:00,  3.85s/it]3<00:50,  1.66it/s]\n",
      "Training (4200 / 18000 Steps) (loss=0.41357):  19%|█▊        | 19/102 [01:50<41:05, 29.70s/it]"
     ]
    },
    {
     "name": "stdout",
     "output_type": "stream",
     "text": [
      "Model Was Saved ! Current Best Avg. Dice: 0.3771989643573761 Current Avg. Dice: 0.3771989643573761 Current Avg. tumor Dice: 0.48264163732528687 Current Avg. lymph Dice: 0.22333276271820068\n"
     ]
    },
    {
     "name": "stderr",
     "output_type": "stream",
     "text": [
      "Training (4283 / 18000 Steps) (loss=0.51002): 100%|██████████| 102/102 [02:29<00:00,  1.46s/it]\n",
      "Validate (4284 / 10 Steps): 100%|██████████| 25/25 [01:37<00:00,  3.91s/it]3<00:41,  2.08it/s]\n",
      "Training (4300 / 18000 Steps) (loss=0.52152):  17%|█▋        | 17/102 [01:50<42:23, 29.92s/it]"
     ]
    },
    {
     "name": "stdout",
     "output_type": "stream",
     "text": [
      "Model Was Not Saved ! Current Best Avg. Dice: 0.3771989643573761 Current Avg. Dice: 0.30691784620285034 Current Avg. tumor Dice: 0.456069678068161 Current Avg. lymph Dice: 0.11067681014537811\n"
     ]
    },
    {
     "name": "stderr",
     "output_type": "stream",
     "text": [
      "Training (4385 / 18000 Steps) (loss=0.44145): 100%|██████████| 102/102 [02:32<00:00,  1.49s/it]\n",
      "Validate (4386 / 10 Steps): 100%|██████████| 25/25 [01:36<00:00,  3.86s/it]1<00:40,  2.18it/s]\n",
      "Training (4400 / 18000 Steps) (loss=0.31192):  15%|█▍        | 15/102 [01:47<42:47, 29.51s/it]"
     ]
    },
    {
     "name": "stdout",
     "output_type": "stream",
     "text": [
      "Model Was Not Saved ! Current Best Avg. Dice: 0.3771989643573761 Current Avg. Dice: 0.3597134053707123 Current Avg. tumor Dice: 0.49109992384910583 Current Avg. lymph Dice: 0.17361187934875488\n"
     ]
    },
    {
     "name": "stderr",
     "output_type": "stream",
     "text": [
      "Training (4487 / 18000 Steps) (loss=0.68192): 100%|██████████| 102/102 [02:30<00:00,  1.47s/it]\n",
      "Validate (4488 / 10 Steps): 100%|██████████| 25/25 [01:36<00:00,  3.86s/it]0<00:47,  1.89it/s]\n",
      "Training (4500 / 18000 Steps) (loss=0.54485):  13%|█▎        | 13/102 [01:48<44:32, 30.02s/it]"
     ]
    },
    {
     "name": "stdout",
     "output_type": "stream",
     "text": [
      "Model Was Saved ! Current Best Avg. Dice: 0.3788013756275177 Current Avg. Dice: 0.3788013756275177 Current Avg. tumor Dice: 0.493059903383255 Current Avg. lymph Dice: 0.2137306183576584\n"
     ]
    },
    {
     "name": "stderr",
     "output_type": "stream",
     "text": [
      "Training (4589 / 18000 Steps) (loss=0.51678): 100%|██████████| 102/102 [02:30<00:00,  1.48s/it]\n",
      "Validate (4590 / 10 Steps): 100%|██████████| 25/25 [01:37<00:00,  3.88s/it]9<00:55,  1.66it/s]\n",
      "Training (4600 / 18000 Steps) (loss=0.29148):  11%|█         | 11/102 [01:47<46:19, 30.54s/it]"
     ]
    },
    {
     "name": "stdout",
     "output_type": "stream",
     "text": [
      "Model Was Saved ! Current Best Avg. Dice: 0.4030776619911194 Current Avg. Dice: 0.4030776619911194 Current Avg. tumor Dice: 0.46642428636550903 Current Avg. lymph Dice: 0.3000721037387848\n"
     ]
    },
    {
     "name": "stderr",
     "output_type": "stream",
     "text": [
      "Training (4691 / 18000 Steps) (loss=0.67479): 100%|██████████| 102/102 [02:32<00:00,  1.50s/it]\n",
      "Validate (4692 / 10 Steps): 100%|██████████| 25/25 [01:36<00:00,  3.86s/it]<00:51,  1.81it/s]\n",
      "Training (4700 / 18000 Steps) (loss=0.66985):   9%|▉         | 9/102 [01:46<47:57, 30.94s/it]"
     ]
    },
    {
     "name": "stdout",
     "output_type": "stream",
     "text": [
      "Model Was Not Saved ! Current Best Avg. Dice: 0.4030776619911194 Current Avg. Dice: 0.36135023832321167 Current Avg. tumor Dice: 0.4862488806247711 Current Avg. lymph Dice: 0.18418236076831818\n"
     ]
    },
    {
     "name": "stderr",
     "output_type": "stream",
     "text": [
      "Training (4793 / 18000 Steps) (loss=0.41358): 100%|██████████| 102/102 [02:30<00:00,  1.47s/it]\n",
      "Validate (4794 / 10 Steps): 100%|██████████| 25/25 [01:36<00:00,  3.84s/it]<01:10,  1.37it/s]\n",
      "Training (4800 / 18000 Steps) (loss=0.58635):   7%|▋         | 7/102 [01:43<50:46, 32.07s/it]"
     ]
    },
    {
     "name": "stdout",
     "output_type": "stream",
     "text": [
      "Model Was Not Saved ! Current Best Avg. Dice: 0.4030776619911194 Current Avg. Dice: 0.3626832365989685 Current Avg. tumor Dice: 0.4977770149707794 Current Avg. lymph Dice: 0.17820057272911072\n"
     ]
    },
    {
     "name": "stderr",
     "output_type": "stream",
     "text": [
      "Training (4895 / 18000 Steps) (loss=0.66998): 100%|██████████| 102/102 [02:30<00:00,  1.47s/it]\n",
      "Validate (4896 / 10 Steps): 100%|██████████| 25/25 [01:37<00:00,  3.88s/it]<01:40,  1.02s/it]\n",
      "Training (4900 / 18000 Steps) (loss=0.56302):   5%|▍         | 5/102 [01:44<58:08, 35.96s/it]"
     ]
    },
    {
     "name": "stdout",
     "output_type": "stream",
     "text": [
      "Model Was Not Saved ! Current Best Avg. Dice: 0.4030776619911194 Current Avg. Dice: 0.3954037129878998 Current Avg. tumor Dice: 0.5089471936225891 Current Avg. lymph Dice: 0.23405520617961884\n"
     ]
    },
    {
     "name": "stderr",
     "output_type": "stream",
     "text": [
      "Training (4997 / 18000 Steps) (loss=0.68088): 100%|██████████| 102/102 [02:31<00:00,  1.48s/it]\n",
      "Validate (4998 / 10 Steps): 100%|██████████| 25/25 [01:36<00:00,  3.87s/it]<03:58,  2.39s/it]\n",
      "Training (5000 / 18000 Steps) (loss=0.59160):   3%|▎         | 3/102 [01:43<1:15:58, 46.05s/it]"
     ]
    },
    {
     "name": "stdout",
     "output_type": "stream",
     "text": [
      "Model Was Saved ! Current Best Avg. Dice: 0.4081590473651886 Current Avg. Dice: 0.4081590473651886 Current Avg. tumor Dice: 0.4915938079357147 Current Avg. lymph Dice: 0.286391943693161\n"
     ]
    },
    {
     "name": "stderr",
     "output_type": "stream",
     "text": [
      "Training (5099 / 18000 Steps) (loss=0.66762): 100%|██████████| 102/102 [02:30<00:00,  1.48s/it]\n",
      "Validate (5100 / 10 Steps): 100%|██████████| 25/25 [01:36<00:00,  3.86s/it]<?, ?it/s]\n",
      "Training (5100 / 18000 Steps) (loss=0.67281):   1%|          | 1/102 [01:40<2:49:20, 100.60s/it]"
     ]
    },
    {
     "name": "stdout",
     "output_type": "stream",
     "text": [
      "Model Was Not Saved ! Current Best Avg. Dice: 0.4081590473651886 Current Avg. Dice: 0.3934064507484436 Current Avg. tumor Dice: 0.4885041117668152 Current Avg. lymph Dice: 0.25365781784057617\n"
     ]
    },
    {
     "name": "stderr",
     "output_type": "stream",
     "text": [
      "Validate (5100 / 10 Steps): 100%|██████████| 25/25 [01:36<00:00,  3.86s/it]29<00:00,  2.11it/s] \n",
      "Training (5200 / 18000 Steps) (loss=0.51368):  99%|█████████▉| 101/102 [04:06<00:29, 29.53s/it]"
     ]
    },
    {
     "name": "stdout",
     "output_type": "stream",
     "text": [
      "Model Was Not Saved ! Current Best Avg. Dice: 0.4081590473651886 Current Avg. Dice: 0.3577476739883423 Current Avg. tumor Dice: 0.49109360575675964 Current Avg. lymph Dice: 0.17612546682357788\n"
     ]
    },
    {
     "name": "stderr",
     "output_type": "stream",
     "text": [
      "Training (5201 / 18000 Steps) (loss=0.56713): 100%|██████████| 102/102 [04:06<00:00,  2.42s/it]\n",
      "Validate (5202 / 10 Steps): 100%|██████████| 25/25 [01:35<00:00,  3.83s/it]2<00:01,  2.16it/s]\n",
      "Training (5300 / 18000 Steps) (loss=0.60980):  97%|█████████▋| 99/102 [02:28<01:27, 29.18s/it]"
     ]
    },
    {
     "name": "stdout",
     "output_type": "stream",
     "text": [
      "Model Was Not Saved ! Current Best Avg. Dice: 0.4081590473651886 Current Avg. Dice: 0.39102625846862793 Current Avg. tumor Dice: 0.4669949412345886 Current Avg. lymph Dice: 0.2721599042415619\n"
     ]
    },
    {
     "name": "stderr",
     "output_type": "stream",
     "text": [
      "Training (5303 / 18000 Steps) (loss=0.51529): 100%|██████████| 102/102 [02:29<00:00,  1.47s/it]\n",
      "Validate (5304 / 10 Steps): 100%|██████████| 25/25 [01:36<00:00,  3.87s/it]0<00:02,  2.08it/s]\n",
      "Training (5400 / 18000 Steps) (loss=0.55123):  95%|█████████▌| 97/102 [02:27<02:27, 29.48s/it]"
     ]
    },
    {
     "name": "stdout",
     "output_type": "stream",
     "text": [
      "Model Was Not Saved ! Current Best Avg. Dice: 0.4081590473651886 Current Avg. Dice: 0.3868739902973175 Current Avg. tumor Dice: 0.4804936647415161 Current Avg. lymph Dice: 0.24420347809791565\n"
     ]
    },
    {
     "name": "stderr",
     "output_type": "stream",
     "text": [
      "Training (5405 / 18000 Steps) (loss=0.69206): 100%|██████████| 102/102 [02:30<00:00,  1.47s/it]\n",
      "Validate (5406 / 10 Steps): 100%|██████████| 25/25 [01:35<00:00,  3.83s/it]1<00:03,  2.10it/s]\n",
      "Training (5500 / 18000 Steps) (loss=0.55191):  93%|█████████▎| 95/102 [02:27<03:24, 29.23s/it]"
     ]
    },
    {
     "name": "stdout",
     "output_type": "stream",
     "text": [
      "Model Was Not Saved ! Current Best Avg. Dice: 0.4081590473651886 Current Avg. Dice: 0.3715282380580902 Current Avg. tumor Dice: 0.5032879710197449 Current Avg. lymph Dice: 0.19121886789798737\n"
     ]
    },
    {
     "name": "stderr",
     "output_type": "stream",
     "text": [
      "Training (5507 / 18000 Steps) (loss=0.37745): 100%|██████████| 102/102 [02:30<00:00,  1.48s/it]\n",
      "Validate (5508 / 10 Steps): 100%|██████████| 25/25 [01:36<00:00,  3.85s/it]8<00:05,  1.91it/s]\n",
      "Training (5600 / 18000 Steps) (loss=0.61476):  91%|█████████ | 93/102 [02:25<04:24, 29.41s/it]"
     ]
    },
    {
     "name": "stdout",
     "output_type": "stream",
     "text": [
      "Model Was Not Saved ! Current Best Avg. Dice: 0.4081590473651886 Current Avg. Dice: 0.36877331137657166 Current Avg. tumor Dice: 0.4999721944332123 Current Avg. lymph Dice: 0.1879691183567047\n"
     ]
    },
    {
     "name": "stderr",
     "output_type": "stream",
     "text": [
      "Training (5609 / 18000 Steps) (loss=0.65755): 100%|██████████| 102/102 [02:29<00:00,  1.47s/it]\n",
      "Validate (5610 / 10 Steps): 100%|██████████| 25/25 [01:36<00:00,  3.87s/it]9<00:07,  1.69it/s]\n",
      "Training (5700 / 18000 Steps) (loss=0.55672):  89%|████████▉ | 91/102 [02:26<05:25, 29.56s/it]"
     ]
    },
    {
     "name": "stdout",
     "output_type": "stream",
     "text": [
      "Model Was Not Saved ! Current Best Avg. Dice: 0.4081590473651886 Current Avg. Dice: 0.3998596668243408 Current Avg. tumor Dice: 0.5072463750839233 Current Avg. lymph Dice: 0.24709756672382355\n"
     ]
    },
    {
     "name": "stderr",
     "output_type": "stream",
     "text": [
      "Training (5711 / 18000 Steps) (loss=0.42846): 100%|██████████| 102/102 [02:31<00:00,  1.48s/it]\n",
      "Validate (5712 / 10 Steps): 100%|██████████| 25/25 [01:35<00:00,  3.84s/it]7<00:07,  2.00it/s]\n",
      "Training (5800 / 18000 Steps) (loss=0.66809):  87%|████████▋ | 89/102 [02:23<06:20, 29.28s/it]"
     ]
    },
    {
     "name": "stdout",
     "output_type": "stream",
     "text": [
      "Model Was Not Saved ! Current Best Avg. Dice: 0.4081590473651886 Current Avg. Dice: 0.38904842734336853 Current Avg. tumor Dice: 0.5161626935005188 Current Avg. lymph Dice: 0.21406516432762146\n"
     ]
    },
    {
     "name": "stderr",
     "output_type": "stream",
     "text": [
      "Training (5813 / 18000 Steps) (loss=0.55451): 100%|██████████| 102/102 [02:29<00:00,  1.47s/it]\n",
      "Validate (5814 / 10 Steps): 100%|██████████| 25/25 [01:36<00:00,  3.85s/it]7<00:07,  2.10it/s]\n",
      "Training (5900 / 18000 Steps) (loss=0.63114):  85%|████████▌ | 87/102 [02:23<07:20, 29.37s/it]"
     ]
    },
    {
     "name": "stdout",
     "output_type": "stream",
     "text": [
      "Model Was Not Saved ! Current Best Avg. Dice: 0.4081590473651886 Current Avg. Dice: 0.3990844488143921 Current Avg. tumor Dice: 0.49989423155784607 Current Avg. lymph Dice: 0.2537592053413391\n"
     ]
    },
    {
     "name": "stderr",
     "output_type": "stream",
     "text": [
      "Training (5915 / 18000 Steps) (loss=0.48260): 100%|██████████| 102/102 [02:30<00:00,  1.48s/it]\n",
      "Validate (5916 / 10 Steps): 100%|██████████| 25/25 [01:37<00:00,  3.88s/it]7<00:08,  2.02it/s]\n",
      "Training (6000 / 18000 Steps) (loss=0.57190):  83%|████████▎ | 85/102 [02:24<08:27, 29.88s/it]"
     ]
    },
    {
     "name": "stdout",
     "output_type": "stream",
     "text": [
      "Model Was Saved ! Current Best Avg. Dice: 0.4152719974517822 Current Avg. Dice: 0.4152719974517822 Current Avg. tumor Dice: 0.5138445496559143 Current Avg. lymph Dice: 0.27081024646759033\n"
     ]
    },
    {
     "name": "stderr",
     "output_type": "stream",
     "text": [
      "Training (6017 / 18000 Steps) (loss=0.55543): 100%|██████████| 102/102 [02:33<00:00,  1.50s/it]\n",
      "Validate (6018 / 10 Steps): 100%|██████████| 25/25 [01:35<00:00,  3.83s/it]5<00:09,  2.07it/s]\n",
      "Training (6100 / 18000 Steps) (loss=0.65564):  81%|████████▏ | 83/102 [02:21<09:15, 29.26s/it]"
     ]
    },
    {
     "name": "stdout",
     "output_type": "stream",
     "text": [
      "Model Was Not Saved ! Current Best Avg. Dice: 0.4152719974517822 Current Avg. Dice: 0.3677472472190857 Current Avg. tumor Dice: 0.5018014907836914 Current Avg. lymph Dice: 0.18805326521396637\n"
     ]
    },
    {
     "name": "stderr",
     "output_type": "stream",
     "text": [
      "Training (6119 / 18000 Steps) (loss=0.42897): 100%|██████████| 102/102 [02:29<00:00,  1.47s/it]\n",
      "Validate (6120 / 10 Steps): 100%|██████████| 25/25 [01:36<00:00,  3.87s/it]3<00:11,  1.99it/s]\n",
      "Training (6200 / 18000 Steps) (loss=0.66814):  79%|███████▉  | 81/102 [02:20<10:20, 29.55s/it]"
     ]
    },
    {
     "name": "stdout",
     "output_type": "stream",
     "text": [
      "Model Was Not Saved ! Current Best Avg. Dice: 0.4152719974517822 Current Avg. Dice: 0.4041130542755127 Current Avg. tumor Dice: 0.5100181698799133 Current Avg. lymph Dice: 0.24981023371219635\n"
     ]
    },
    {
     "name": "stderr",
     "output_type": "stream",
     "text": [
      "Training (6221 / 18000 Steps) (loss=0.66865): 100%|██████████| 102/102 [02:30<00:00,  1.48s/it]\n",
      "Validate (6222 / 10 Steps): 100%|██████████| 25/25 [01:36<00:00,  3.85s/it]2<00:11,  2.14it/s]\n",
      "Training (6300 / 18000 Steps) (loss=0.56631):  77%|███████▋  | 79/102 [02:18<11:15, 29.37s/it]"
     ]
    },
    {
     "name": "stdout",
     "output_type": "stream",
     "text": [
      "Model Was Not Saved ! Current Best Avg. Dice: 0.4152719974517822 Current Avg. Dice: 0.3772066831588745 Current Avg. tumor Dice: 0.5078251361846924 Current Avg. lymph Dice: 0.19694583117961884\n"
     ]
    },
    {
     "name": "stderr",
     "output_type": "stream",
     "text": [
      "Training (6323 / 18000 Steps) (loss=0.62027): 100%|██████████| 102/102 [02:29<00:00,  1.46s/it]\n",
      "Validate (6324 / 10 Steps): 100%|██████████| 25/25 [01:36<00:00,  3.85s/it]1<00:12,  2.07it/s]\n",
      "Training (6400 / 18000 Steps) (loss=0.55133):  75%|███████▌  | 77/102 [02:18<12:13, 29.36s/it]"
     ]
    },
    {
     "name": "stdout",
     "output_type": "stream",
     "text": [
      "Model Was Not Saved ! Current Best Avg. Dice: 0.4152719974517822 Current Avg. Dice: 0.37731045484542847 Current Avg. tumor Dice: 0.512692928314209 Current Avg. lymph Dice: 0.19122400879859924\n"
     ]
    },
    {
     "name": "stderr",
     "output_type": "stream",
     "text": [
      "Training (6425 / 18000 Steps) (loss=0.62928): 100%|██████████| 102/102 [02:29<00:00,  1.47s/it]\n",
      "Validate (6426 / 10 Steps): 100%|██████████| 25/25 [01:36<00:00,  3.85s/it]0<00:13,  2.09it/s]\n",
      "Training (6500 / 18000 Steps) (loss=0.67298):  74%|███████▎  | 75/102 [02:16<13:12, 29.35s/it]"
     ]
    },
    {
     "name": "stdout",
     "output_type": "stream",
     "text": [
      "Model Was Not Saved ! Current Best Avg. Dice: 0.4152719974517822 Current Avg. Dice: 0.35932111740112305 Current Avg. tumor Dice: 0.48705828189849854 Current Avg. lymph Dice: 0.18596281111240387\n"
     ]
    },
    {
     "name": "stderr",
     "output_type": "stream",
     "text": [
      "Training (6527 / 18000 Steps) (loss=0.56520): 100%|██████████| 102/102 [02:29<00:00,  1.47s/it]\n",
      "Validate (6528 / 10 Steps): 100%|██████████| 25/25 [01:36<00:00,  3.86s/it]3<00:13,  2.21it/s]\n",
      "Training (6600 / 18000 Steps) (loss=0.66118):  72%|███████▏  | 73/102 [02:20<14:19, 29.64s/it]"
     ]
    },
    {
     "name": "stdout",
     "output_type": "stream",
     "text": [
      "Model Was Not Saved ! Current Best Avg. Dice: 0.4152719974517822 Current Avg. Dice: 0.40802624821662903 Current Avg. tumor Dice: 0.5117090940475464 Current Avg. lymph Dice: 0.25633543729782104\n"
     ]
    },
    {
     "name": "stderr",
     "output_type": "stream",
     "text": [
      "Training (6629 / 18000 Steps) (loss=0.54309): 100%|██████████| 102/102 [02:34<00:00,  1.51s/it]\n",
      "Validate (6630 / 10 Steps): 100%|██████████| 25/25 [01:36<00:00,  3.86s/it]7<00:15,  2.05it/s]\n",
      "Training (6700 / 18000 Steps) (loss=0.55875):  70%|██████▉   | 71/102 [02:14<15:13, 29.46s/it]"
     ]
    },
    {
     "name": "stdout",
     "output_type": "stream",
     "text": [
      "Model Was Not Saved ! Current Best Avg. Dice: 0.4152719974517822 Current Avg. Dice: 0.4120548665523529 Current Avg. tumor Dice: 0.5089266896247864 Current Avg. lymph Dice: 0.2726125121116638\n"
     ]
    },
    {
     "name": "stderr",
     "output_type": "stream",
     "text": [
      "Training (6731 / 18000 Steps) (loss=0.52930): 100%|██████████| 102/102 [02:30<00:00,  1.47s/it]\n",
      "Validate (6732 / 10 Steps): 100%|██████████| 25/25 [01:36<00:00,  3.87s/it]0<00:17,  1.96it/s]\n",
      "Training (6800 / 18000 Steps) (loss=0.68009):  68%|██████▊   | 69/102 [02:17<16:13, 29.49s/it]"
     ]
    },
    {
     "name": "stdout",
     "output_type": "stream",
     "text": [
      "Model Was Not Saved ! Current Best Avg. Dice: 0.4152719974517822 Current Avg. Dice: 0.36714985966682434 Current Avg. tumor Dice: 0.5025390982627869 Current Avg. lymph Dice: 0.18347033858299255\n"
     ]
    },
    {
     "name": "stderr",
     "output_type": "stream",
     "text": [
      "Training (6833 / 18000 Steps) (loss=0.49932): 100%|██████████| 102/102 [02:33<00:00,  1.50s/it]\n",
      "Validate (6834 / 10 Steps): 100%|██████████| 25/25 [01:36<00:00,  3.87s/it]7<00:17,  2.01it/s]\n",
      "Training (6900 / 18000 Steps) (loss=0.50721):  66%|██████▌   | 67/102 [02:14<17:13, 29.53s/it]"
     ]
    },
    {
     "name": "stdout",
     "output_type": "stream",
     "text": [
      "Model Was Not Saved ! Current Best Avg. Dice: 0.4152719974517822 Current Avg. Dice: 0.41179847717285156 Current Avg. tumor Dice: 0.5026737451553345 Current Avg. lymph Dice: 0.2796711325645447\n"
     ]
    },
    {
     "name": "stderr",
     "output_type": "stream",
     "text": [
      "Training (6935 / 18000 Steps) (loss=0.53546): 100%|██████████| 102/102 [02:31<00:00,  1.49s/it]\n",
      "Validate (6936 / 10 Steps): 100%|██████████| 25/25 [01:36<00:00,  3.84s/it]6<00:18,  2.03it/s]\n",
      "Training (7000 / 18000 Steps) (loss=0.67974):  64%|██████▎   | 65/102 [02:12<18:04, 29.32s/it]"
     ]
    },
    {
     "name": "stdout",
     "output_type": "stream",
     "text": [
      "Model Was Not Saved ! Current Best Avg. Dice: 0.4152719974517822 Current Avg. Dice: 0.40295615792274475 Current Avg. tumor Dice: 0.5135836601257324 Current Avg. lymph Dice: 0.24541860818862915\n"
     ]
    },
    {
     "name": "stderr",
     "output_type": "stream",
     "text": [
      "Training (7037 / 18000 Steps) (loss=0.59438): 100%|██████████| 102/102 [02:29<00:00,  1.47s/it]\n",
      "Validate (7038 / 10 Steps): 100%|██████████| 25/25 [01:36<00:00,  3.86s/it]5<00:19,  2.06it/s]\n",
      "Training (7100 / 18000 Steps) (loss=0.49259):  62%|██████▏   | 63/102 [02:12<19:09, 29.48s/it]"
     ]
    },
    {
     "name": "stdout",
     "output_type": "stream",
     "text": [
      "Model Was Not Saved ! Current Best Avg. Dice: 0.4152719974517822 Current Avg. Dice: 0.39213991165161133 Current Avg. tumor Dice: 0.5102922320365906 Current Avg. lymph Dice: 0.22784839570522308\n"
     ]
    },
    {
     "name": "stderr",
     "output_type": "stream",
     "text": [
      "Training (7139 / 18000 Steps) (loss=0.31985): 100%|██████████| 102/102 [02:31<00:00,  1.48s/it]\n",
      "Validate (7140 / 10 Steps): 100%|██████████| 25/25 [01:36<00:00,  3.85s/it]3<00:20,  2.09it/s]\n",
      "Training (7200 / 18000 Steps) (loss=0.54087):  60%|█████▉    | 61/102 [02:09<20:04, 29.38s/it]"
     ]
    },
    {
     "name": "stdout",
     "output_type": "stream",
     "text": [
      "Model Was Not Saved ! Current Best Avg. Dice: 0.4152719974517822 Current Avg. Dice: 0.39751511812210083 Current Avg. tumor Dice: 0.5146499276161194 Current Avg. lymph Dice: 0.23548711836338043\n"
     ]
    },
    {
     "name": "stderr",
     "output_type": "stream",
     "text": [
      "Training (7241 / 18000 Steps) (loss=0.40227): 100%|██████████| 102/102 [02:29<00:00,  1.47s/it]\n",
      "Validate (7242 / 10 Steps): 100%|██████████| 25/25 [01:37<00:00,  3.90s/it]5<00:24,  1.77it/s]\n",
      "Training (7300 / 18000 Steps) (loss=0.50894):  58%|█████▊    | 59/102 [02:12<21:23, 29.84s/it]"
     ]
    },
    {
     "name": "stdout",
     "output_type": "stream",
     "text": [
      "Model Was Not Saved ! Current Best Avg. Dice: 0.4152719974517822 Current Avg. Dice: 0.40931379795074463 Current Avg. tumor Dice: 0.5183519721031189 Current Avg. lymph Dice: 0.25211140513420105\n"
     ]
    },
    {
     "name": "stderr",
     "output_type": "stream",
     "text": [
      "Training (7343 / 18000 Steps) (loss=0.42962): 100%|██████████| 102/102 [02:33<00:00,  1.50s/it]\n",
      "Validate (7344 / 10 Steps): 100%|██████████| 25/25 [01:36<00:00,  3.86s/it]2<00:22,  2.05it/s]\n",
      "Training (7400 / 18000 Steps) (loss=0.57728):  56%|█████▌    | 57/102 [02:09<22:05, 29.46s/it]"
     ]
    },
    {
     "name": "stdout",
     "output_type": "stream",
     "text": [
      "Model Was Not Saved ! Current Best Avg. Dice: 0.4152719974517822 Current Avg. Dice: 0.40980398654937744 Current Avg. tumor Dice: 0.518720805644989 Current Avg. lymph Dice: 0.25581058859825134\n"
     ]
    },
    {
     "name": "stderr",
     "output_type": "stream",
     "text": [
      "Training (7445 / 18000 Steps) (loss=0.42726): 100%|██████████| 102/102 [02:30<00:00,  1.48s/it]\n",
      "Validate (7446 / 10 Steps): 100%|██████████| 25/25 [01:36<00:00,  3.87s/it]2<00:24,  1.99it/s]\n",
      "Training (7500 / 18000 Steps) (loss=0.69598):  54%|█████▍    | 55/102 [02:09<23:08, 29.53s/it]"
     ]
    },
    {
     "name": "stdout",
     "output_type": "stream",
     "text": [
      "Model Was Not Saved ! Current Best Avg. Dice: 0.4152719974517822 Current Avg. Dice: 0.3987928032875061 Current Avg. tumor Dice: 0.5007336139678955 Current Avg. lymph Dice: 0.2547494173049927\n"
     ]
    },
    {
     "name": "stderr",
     "output_type": "stream",
     "text": [
      "Training (7547 / 18000 Steps) (loss=0.45699): 100%|██████████| 102/102 [02:33<00:00,  1.50s/it]\n",
      "Validate (7548 / 10 Steps): 100%|██████████| 25/25 [01:44<00:00,  4.19s/it]2<00:28,  1.76it/s]\n",
      "Training (7600 / 18000 Steps) (loss=0.60573):  52%|█████▏    | 53/102 [02:17<26:07, 32.00s/it]"
     ]
    },
    {
     "name": "stdout",
     "output_type": "stream",
     "text": [
      "Model Was Not Saved ! Current Best Avg. Dice: 0.4152719974517822 Current Avg. Dice: 0.39688900113105774 Current Avg. tumor Dice: 0.5182684659957886 Current Avg. lymph Dice: 0.22791481018066406\n"
     ]
    },
    {
     "name": "stderr",
     "output_type": "stream",
     "text": [
      "Training (7649 / 18000 Steps) (loss=0.62168): 100%|██████████| 102/102 [02:43<00:00,  1.60s/it]\n",
      "Validate (7650 / 10 Steps): 100%|██████████| 25/25 [01:38<00:00,  3.93s/it]1<00:26,  1.98it/s]\n",
      "Training (7700 / 18000 Steps) (loss=0.66743):  50%|█████     | 51/102 [02:09<25:29, 29.99s/it]"
     ]
    },
    {
     "name": "stdout",
     "output_type": "stream",
     "text": [
      "Model Was Not Saved ! Current Best Avg. Dice: 0.4152719974517822 Current Avg. Dice: 0.39600804448127747 Current Avg. tumor Dice: 0.5204053521156311 Current Avg. lymph Dice: 0.2254471480846405\n"
     ]
    },
    {
     "name": "stderr",
     "output_type": "stream",
     "text": [
      "Training (7751 / 18000 Steps) (loss=0.41602): 100%|██████████| 102/102 [02:34<00:00,  1.52s/it]\n",
      "Validate (7752 / 10 Steps): 100%|██████████| 25/25 [01:36<00:00,  3.88s/it]9<00:24,  2.21it/s]\n",
      "Training (7800 / 18000 Steps) (loss=0.39077):  48%|████▊     | 49/102 [02:06<26:07, 29.58s/it]"
     ]
    },
    {
     "name": "stdout",
     "output_type": "stream",
     "text": [
      "Model Was Not Saved ! Current Best Avg. Dice: 0.4152719974517822 Current Avg. Dice: 0.40304067730903625 Current Avg. tumor Dice: 0.5133323073387146 Current Avg. lymph Dice: 0.24739179015159607\n"
     ]
    },
    {
     "name": "stderr",
     "output_type": "stream",
     "text": [
      "Training (7853 / 18000 Steps) (loss=0.38342): 100%|██████████| 102/102 [02:33<00:00,  1.50s/it]\n",
      "Validate (7854 / 10 Steps): 100%|██████████| 25/25 [01:37<00:00,  3.89s/it]9<00:26,  2.11it/s]\n",
      "Training (7900 / 18000 Steps) (loss=0.51671):  46%|████▌     | 47/102 [02:07<27:10, 29.65s/it]"
     ]
    },
    {
     "name": "stdout",
     "output_type": "stream",
     "text": [
      "Model Was Not Saved ! Current Best Avg. Dice: 0.4152719974517822 Current Avg. Dice: 0.41244786977767944 Current Avg. tumor Dice: 0.5231950879096985 Current Avg. lymph Dice: 0.2588707506656647\n"
     ]
    },
    {
     "name": "stderr",
     "output_type": "stream",
     "text": [
      "Training (7955 / 18000 Steps) (loss=0.57911): 100%|██████████| 102/102 [02:34<00:00,  1.51s/it]\n",
      "Validate (7956 / 10 Steps): 100%|██████████| 25/25 [01:45<00:00,  4.23s/it]8<00:26,  2.21it/s]\n",
      "Training (8000 / 18000 Steps) (loss=0.66849):  44%|████▍     | 45/102 [02:14<30:33, 32.16s/it]"
     ]
    },
    {
     "name": "stdout",
     "output_type": "stream",
     "text": [
      "Model Was Not Saved ! Current Best Avg. Dice: 0.4152719974517822 Current Avg. Dice: 0.33136460185050964 Current Avg. tumor Dice: 0.4180050194263458 Current Avg. lymph Dice: 0.2146938294172287\n"
     ]
    },
    {
     "name": "stderr",
     "output_type": "stream",
     "text": [
      "Training (8057 / 18000 Steps) (loss=0.45626): 100%|██████████| 102/102 [02:43<00:00,  1.60s/it]\n",
      "Validate (8058 / 10 Steps): 100%|██████████| 25/25 [01:39<00:00,  3.97s/it]6<00:33,  1.81it/s]\n",
      "Training (8100 / 18000 Steps) (loss=0.25927):  42%|████▏     | 43/102 [02:05<29:47, 30.29s/it]"
     ]
    },
    {
     "name": "stdout",
     "output_type": "stream",
     "text": [
      "Model Was Not Saved ! Current Best Avg. Dice: 0.4152719974517822 Current Avg. Dice: 0.40091630816459656 Current Avg. tumor Dice: 0.5230357646942139 Current Avg. lymph Dice: 0.23015594482421875\n"
     ]
    },
    {
     "name": "stderr",
     "output_type": "stream",
     "text": [
      "Training (8159 / 18000 Steps) (loss=0.48612): 100%|██████████| 102/102 [02:38<00:00,  1.55s/it]\n",
      "Validate (8160 / 10 Steps): 100%|██████████| 25/25 [01:55<00:00,  4.63s/it]6<00:33,  1.85it/s]\n",
      "Training (8200 / 18000 Steps) (loss=0.61236):  40%|████      | 41/102 [02:22<35:52, 35.29s/it]"
     ]
    },
    {
     "name": "stdout",
     "output_type": "stream",
     "text": [
      "Model Was Not Saved ! Current Best Avg. Dice: 0.4152719974517822 Current Avg. Dice: 0.3875817358493805 Current Avg. tumor Dice: 0.5069878697395325 Current Avg. lymph Dice: 0.2203337848186493\n"
     ]
    },
    {
     "name": "stderr",
     "output_type": "stream",
     "text": [
      "Training (8261 / 18000 Steps) (loss=0.53458): 100%|██████████| 102/102 [02:54<00:00,  1.71s/it]\n",
      "Validate (8262 / 10 Steps): 100%|██████████| 25/25 [01:48<00:00,  4.32s/it]5<00:33,  1.93it/s]\n",
      "Training (8300 / 18000 Steps) (loss=0.45648):  38%|███▊      | 39/102 [02:13<34:35, 32.95s/it]"
     ]
    },
    {
     "name": "stdout",
     "output_type": "stream",
     "text": [
      "Model Was Not Saved ! Current Best Avg. Dice: 0.4152719974517822 Current Avg. Dice: 0.40839311480522156 Current Avg. tumor Dice: 0.5160746574401855 Current Avg. lymph Dice: 0.2558259665966034\n"
     ]
    },
    {
     "name": "stderr",
     "output_type": "stream",
     "text": [
      "Training (8363 / 18000 Steps) (loss=0.46136): 100%|██████████| 102/102 [02:46<00:00,  1.63s/it]\n",
      "Validate (8364 / 10 Steps): 100%|██████████| 25/25 [01:59<00:00,  4.80s/it]5<00:36,  1.80it/s]\n",
      "Training (8400 / 18000 Steps) (loss=0.41211):  36%|███▋      | 37/102 [02:26<39:52, 36.81s/it]"
     ]
    },
    {
     "name": "stdout",
     "output_type": "stream",
     "text": [
      "Model Was Saved ! Current Best Avg. Dice: 0.4365043342113495 Current Avg. Dice: 0.4365043342113495 Current Avg. tumor Dice: 0.5302432179450989 Current Avg. lymph Dice: 0.29969528317451477\n"
     ]
    },
    {
     "name": "stderr",
     "output_type": "stream",
     "text": [
      "Training (8465 / 18000 Steps) (loss=0.43163): 100%|██████████| 102/102 [03:02<00:00,  1.79s/it]\n",
      "Validate (8466 / 10 Steps): 100%|██████████| 25/25 [01:47<00:00,  4.30s/it]2<00:40,  1.69it/s]\n",
      "Training (8500 / 18000 Steps) (loss=0.41953):  34%|███▍      | 35/102 [02:10<36:37, 32.80s/it]"
     ]
    },
    {
     "name": "stdout",
     "output_type": "stream",
     "text": [
      "Model Was Not Saved ! Current Best Avg. Dice: 0.4365043342113495 Current Avg. Dice: 0.3963398337364197 Current Avg. tumor Dice: 0.5217130780220032 Current Avg. lymph Dice: 0.22109557688236237\n"
     ]
    },
    {
     "name": "stderr",
     "output_type": "stream",
     "text": [
      "Training (8567 / 18000 Steps) (loss=0.42167): 100%|██████████| 102/102 [02:44<00:00,  1.61s/it]\n",
      "Validate (8568 / 10 Steps): 100%|██████████| 25/25 [01:48<00:00,  4.32s/it]2<00:35,  1.95it/s]\n",
      "Training (8600 / 18000 Steps) (loss=0.62792):  32%|███▏      | 33/102 [02:10<37:58, 33.02s/it]"
     ]
    },
    {
     "name": "stdout",
     "output_type": "stream",
     "text": [
      "Model Was Not Saved ! Current Best Avg. Dice: 0.4365043342113495 Current Avg. Dice: 0.4201323091983795 Current Avg. tumor Dice: 0.5229194760322571 Current Avg. lymph Dice: 0.2743595838546753\n"
     ]
    },
    {
     "name": "stderr",
     "output_type": "stream",
     "text": [
      "Training (8669 / 18000 Steps) (loss=0.35228): 100%|██████████| 102/102 [02:47<00:00,  1.64s/it]\n",
      "Validate (8670 / 10 Steps): 100%|██████████| 25/25 [01:47<00:00,  4.29s/it]1<00:38,  1.85it/s]\n",
      "Training (8700 / 18000 Steps) (loss=0.51563):  30%|███       | 31/102 [02:08<38:41, 32.69s/it]"
     ]
    },
    {
     "name": "stdout",
     "output_type": "stream",
     "text": [
      "Model Was Not Saved ! Current Best Avg. Dice: 0.4365043342113495 Current Avg. Dice: 0.4061182737350464 Current Avg. tumor Dice: 0.5068876147270203 Current Avg. lymph Dice: 0.26540207862854004\n"
     ]
    },
    {
     "name": "stderr",
     "output_type": "stream",
     "text": [
      "Training (8771 / 18000 Steps) (loss=0.43707): 100%|██████████| 102/102 [02:45<00:00,  1.62s/it]\n",
      "Validate (8772 / 10 Steps): 100%|██████████| 25/25 [01:47<00:00,  4.29s/it]9<00:39,  1.85it/s]\n",
      "Training (8800 / 18000 Steps) (loss=0.50187):  28%|██▊       | 29/102 [02:06<39:44, 32.66s/it]"
     ]
    },
    {
     "name": "stdout",
     "output_type": "stream",
     "text": [
      "Model Was Not Saved ! Current Best Avg. Dice: 0.4365043342113495 Current Avg. Dice: 0.4233144521713257 Current Avg. tumor Dice: 0.5202277898788452 Current Avg. lymph Dice: 0.2840869426727295\n"
     ]
    },
    {
     "name": "stderr",
     "output_type": "stream",
     "text": [
      "Training (8873 / 18000 Steps) (loss=0.61989): 100%|██████████| 102/102 [02:44<00:00,  1.61s/it]\n",
      "Validate (8874 / 10 Steps): 100%|██████████| 25/25 [01:47<00:00,  4.32s/it]8<00:38,  1.98it/s]\n",
      "Training (8900 / 18000 Steps) (loss=0.61634):  26%|██▋       | 27/102 [02:06<41:12, 32.96s/it]"
     ]
    },
    {
     "name": "stdout",
     "output_type": "stream",
     "text": [
      "Model Was Not Saved ! Current Best Avg. Dice: 0.4365043342113495 Current Avg. Dice: 0.4269919991493225 Current Avg. tumor Dice: 0.5165323615074158 Current Avg. lymph Dice: 0.293679416179657\n"
     ]
    },
    {
     "name": "stderr",
     "output_type": "stream",
     "text": [
      "Training (8975 / 18000 Steps) (loss=0.65560): 100%|██████████| 102/102 [02:45<00:00,  1.62s/it]\n",
      "Validate (8976 / 10 Steps): 100%|██████████| 25/25 [01:45<00:00,  4.24s/it]7<00:36,  2.15it/s]\n",
      "Training (9000 / 18000 Steps) (loss=0.66692):  25%|██▍       | 25/102 [02:03<41:33, 32.38s/it]"
     ]
    },
    {
     "name": "stdout",
     "output_type": "stream",
     "text": [
      "Model Was Not Saved ! Current Best Avg. Dice: 0.4365043342113495 Current Avg. Dice: 0.4059518277645111 Current Avg. tumor Dice: 0.521483302116394 Current Avg. lymph Dice: 0.2442937195301056\n"
     ]
    },
    {
     "name": "stderr",
     "output_type": "stream",
     "text": [
      "Training (9077 / 18000 Steps) (loss=0.43837): 100%|██████████| 102/102 [02:43<00:00,  1.60s/it]\n",
      "Validate (9078 / 10 Steps): 100%|██████████| 25/25 [01:47<00:00,  4.32s/it]6<00:43,  1.83it/s]\n",
      "Training (9100 / 18000 Steps) (loss=0.28048):  23%|██▎       | 23/102 [02:04<43:21, 32.93s/it]"
     ]
    },
    {
     "name": "stdout",
     "output_type": "stream",
     "text": [
      "Model Was Not Saved ! Current Best Avg. Dice: 0.4365043342113495 Current Avg. Dice: 0.40077129006385803 Current Avg. tumor Dice: 0.5151922106742859 Current Avg. lymph Dice: 0.23991163074970245\n"
     ]
    },
    {
     "name": "stderr",
     "output_type": "stream",
     "text": [
      "Training (9179 / 18000 Steps) (loss=0.66743): 100%|██████████| 102/102 [02:44<00:00,  1.61s/it]\n",
      "Validate (9180 / 10 Steps): 100%|██████████| 25/25 [01:48<00:00,  4.33s/it]5<00:41,  1.97it/s]\n",
      "Training (9200 / 18000 Steps) (loss=0.55710):  21%|██        | 21/102 [02:04<44:53, 33.25s/it]"
     ]
    },
    {
     "name": "stdout",
     "output_type": "stream",
     "text": [
      "Model Was Saved ! Current Best Avg. Dice: 0.45275676250457764 Current Avg. Dice: 0.45275676250457764 Current Avg. tumor Dice: 0.5244794487953186 Current Avg. lymph Dice: 0.3419077396392822\n"
     ]
    },
    {
     "name": "stderr",
     "output_type": "stream",
     "text": [
      "Training (9281 / 18000 Steps) (loss=0.23988): 100%|██████████| 102/102 [02:46<00:00,  1.63s/it]\n",
      "Validate (9282 / 10 Steps): 100%|██████████| 25/25 [01:48<00:00,  4.34s/it]5<00:57,  1.46it/s]\n",
      "Training (9300 / 18000 Steps) (loss=0.62564):  19%|█▊        | 19/102 [02:04<45:56, 33.21s/it]"
     ]
    },
    {
     "name": "stdout",
     "output_type": "stream",
     "text": [
      "Model Was Not Saved ! Current Best Avg. Dice: 0.45275676250457764 Current Avg. Dice: 0.4329538941383362 Current Avg. tumor Dice: 0.5270461440086365 Current Avg. lymph Dice: 0.2981093227863312\n"
     ]
    },
    {
     "name": "stderr",
     "output_type": "stream",
     "text": [
      "Training (9383 / 18000 Steps) (loss=0.53726): 100%|██████████| 102/102 [02:48<00:00,  1.66s/it]\n",
      "Validate (9384 / 10 Steps): 100%|██████████| 25/25 [01:47<00:00,  4.30s/it]5<00:46,  1.85it/s]\n",
      "Training (9400 / 18000 Steps) (loss=0.45297):  17%|█▋        | 17/102 [02:02<46:48, 33.04s/it]"
     ]
    },
    {
     "name": "stdout",
     "output_type": "stream",
     "text": [
      "Model Was Not Saved ! Current Best Avg. Dice: 0.45275676250457764 Current Avg. Dice: 0.41642650961875916 Current Avg. tumor Dice: 0.5167716145515442 Current Avg. lymph Dice: 0.2723553478717804\n"
     ]
    },
    {
     "name": "stderr",
     "output_type": "stream",
     "text": [
      "Training (9485 / 18000 Steps) (loss=0.57499): 100%|██████████| 102/102 [02:47<00:00,  1.64s/it]\n",
      "Validate (9486 / 10 Steps): 100%|██████████| 25/25 [01:47<00:00,  4.31s/it]3<00:50,  1.73it/s]\n",
      "Training (9500 / 18000 Steps) (loss=0.35066):  15%|█▍        | 15/102 [02:01<47:56, 33.07s/it]"
     ]
    },
    {
     "name": "stdout",
     "output_type": "stream",
     "text": [
      "Model Was Not Saved ! Current Best Avg. Dice: 0.45275676250457764 Current Avg. Dice: 0.4162910580635071 Current Avg. tumor Dice: 0.5207915306091309 Current Avg. lymph Dice: 0.26594823598861694\n"
     ]
    },
    {
     "name": "stderr",
     "output_type": "stream",
     "text": [
      "Training (9587 / 18000 Steps) (loss=0.66771): 100%|██████████| 102/102 [02:47<00:00,  1.65s/it]\n",
      "Validate (9588 / 10 Steps): 100%|██████████| 25/25 [01:47<00:00,  4.30s/it]1<00:55,  1.63it/s]\n",
      "Training (9600 / 18000 Steps) (loss=0.37874):  13%|█▎        | 13/102 [01:59<49:06, 33.11s/it]"
     ]
    },
    {
     "name": "stdout",
     "output_type": "stream",
     "text": [
      "Model Was Not Saved ! Current Best Avg. Dice: 0.45275676250457764 Current Avg. Dice: 0.41658666729927063 Current Avg. tumor Dice: 0.5277677774429321 Current Avg. lymph Dice: 0.2577417492866516\n"
     ]
    },
    {
     "name": "stderr",
     "output_type": "stream",
     "text": [
      "Training (9689 / 18000 Steps) (loss=0.30131): 100%|██████████| 102/102 [02:48<00:00,  1.66s/it]\n",
      "Validate (9690 / 10 Steps): 100%|██████████| 25/25 [01:47<00:00,  4.29s/it]0<00:58,  1.56it/s]\n",
      "Training (9700 / 18000 Steps) (loss=0.56387):  11%|█         | 11/102 [01:58<50:41, 33.42s/it]"
     ]
    },
    {
     "name": "stdout",
     "output_type": "stream",
     "text": [
      "Model Was Not Saved ! Current Best Avg. Dice: 0.45275676250457764 Current Avg. Dice: 0.40544429421424866 Current Avg. tumor Dice: 0.5218731760978699 Current Avg. lymph Dice: 0.24241337180137634\n"
     ]
    },
    {
     "name": "stderr",
     "output_type": "stream",
     "text": [
      "Training (9791 / 18000 Steps) (loss=0.54359): 100%|██████████| 102/102 [02:46<00:00,  1.64s/it]\n",
      "Validate (9792 / 10 Steps): 100%|██████████| 25/25 [01:47<00:00,  4.30s/it]<00:52,  1.80it/s]\n",
      "Training (9800 / 18000 Steps) (loss=0.52476):   9%|▉         | 9/102 [01:56<53:06, 34.26s/it]"
     ]
    },
    {
     "name": "stdout",
     "output_type": "stream",
     "text": [
      "Model Was Not Saved ! Current Best Avg. Dice: 0.45275676250457764 Current Avg. Dice: 0.407334566116333 Current Avg. tumor Dice: 0.5261740684509277 Current Avg. lymph Dice: 0.24302546679973602\n"
     ]
    },
    {
     "name": "stderr",
     "output_type": "stream",
     "text": [
      "Training (9893 / 18000 Steps) (loss=0.67000): 100%|██████████| 102/102 [02:44<00:00,  1.62s/it]\n",
      "Validate (9894 / 10 Steps): 100%|██████████| 25/25 [01:47<00:00,  4.29s/it]<01:16,  1.25it/s]\n",
      "Training (9900 / 18000 Steps) (loss=0.66925):   7%|▋         | 7/102 [01:55<56:39, 35.79s/it]"
     ]
    },
    {
     "name": "stdout",
     "output_type": "stream",
     "text": [
      "Model Was Not Saved ! Current Best Avg. Dice: 0.45275676250457764 Current Avg. Dice: 0.40830883383750916 Current Avg. tumor Dice: 0.5204041004180908 Current Avg. lymph Dice: 0.24816100299358368\n"
     ]
    },
    {
     "name": "stderr",
     "output_type": "stream",
     "text": [
      "Training (9995 / 18000 Steps) (loss=0.54758): 100%|██████████| 102/102 [02:45<00:00,  1.62s/it]\n",
      "Validate (9996 / 10 Steps): 100%|██████████| 25/25 [01:46<00:00,  4.25s/it]7<02:00,  1.23s/it]\n",
      "Training (10000 / 18000 Steps) (loss=0.64707):   5%|▍         | 5/102 [01:53<1:03:31, 39.29s/it]"
     ]
    },
    {
     "name": "stdout",
     "output_type": "stream",
     "text": [
      "Model Was Not Saved ! Current Best Avg. Dice: 0.45275676250457764 Current Avg. Dice: 0.4318940341472626 Current Avg. tumor Dice: 0.5214725136756897 Current Avg. lymph Dice: 0.2991921007633209\n"
     ]
    },
    {
     "name": "stderr",
     "output_type": "stream",
     "text": [
      "Training (10097 / 18000 Steps) (loss=0.56548): 100%|██████████| 102/102 [02:45<00:00,  1.62s/it]\n",
      "Validate (10098 / 10 Steps): 100%|██████████| 25/25 [01:46<00:00,  4.26s/it]<03:51,  2.32s/it]\n",
      "Training (10100 / 18000 Steps) (loss=0.49897):   3%|▎         | 3/102 [01:52<1:22:51, 50.22s/it]"
     ]
    },
    {
     "name": "stdout",
     "output_type": "stream",
     "text": [
      "Model Was Not Saved ! Current Best Avg. Dice: 0.45275676250457764 Current Avg. Dice: 0.4423862397670746 Current Avg. tumor Dice: 0.5267386436462402 Current Avg. lymph Dice: 0.3191741108894348\n"
     ]
    },
    {
     "name": "stderr",
     "output_type": "stream",
     "text": [
      "Training (10199 / 18000 Steps) (loss=0.45753): 100%|██████████| 102/102 [02:43<00:00,  1.61s/it]\n",
      "Validate (10200 / 10 Steps): 100%|██████████| 25/25 [01:48<00:00,  4.33s/it]<?, ?it/s]\n",
      "Training (10200 / 18000 Steps) (loss=0.47710):   1%|          | 1/102 [01:53<3:10:28, 113.15s/it]"
     ]
    },
    {
     "name": "stdout",
     "output_type": "stream",
     "text": [
      "Model Was Not Saved ! Current Best Avg. Dice: 0.45275676250457764 Current Avg. Dice: 0.4053911566734314 Current Avg. tumor Dice: 0.5207176804542542 Current Avg. lymph Dice: 0.24719533324241638\n"
     ]
    },
    {
     "name": "stderr",
     "output_type": "stream",
     "text": [
      "Validate (10200 / 10 Steps): 100%|██████████| 25/25 [01:47<00:00,  4.28s/it]45<00:01,  1.74it/s] \n",
      "Training (10300 / 18000 Steps) (loss=0.47066):  99%|█████████▉| 101/102 [04:33<00:32, 32.95s/it]"
     ]
    },
    {
     "name": "stdout",
     "output_type": "stream",
     "text": [
      "Model Was Saved ! Current Best Avg. Dice: 0.4618108570575714 Current Avg. Dice: 0.4618108570575714 Current Avg. tumor Dice: 0.5395820140838623 Current Avg. lymph Dice: 0.34731048345565796\n"
     ]
    },
    {
     "name": "stderr",
     "output_type": "stream",
     "text": [
      "Training (10301 / 18000 Steps) (loss=0.58534): 100%|██████████| 102/102 [04:34<00:00,  2.69s/it]\n",
      "Validate (10302 / 10 Steps): 100%|██████████| 25/25 [01:47<00:00,  4.30s/it]7<00:02,  1.95it/s]\n",
      "Training (10400 / 18000 Steps) (loss=0.55167):  97%|█████████▋| 99/102 [02:44<01:38, 32.76s/it]"
     ]
    },
    {
     "name": "stdout",
     "output_type": "stream",
     "text": [
      "Model Was Not Saved ! Current Best Avg. Dice: 0.4618108570575714 Current Avg. Dice: 0.4513338804244995 Current Avg. tumor Dice: 0.5300267934799194 Current Avg. lymph Dice: 0.3308342695236206\n"
     ]
    },
    {
     "name": "stderr",
     "output_type": "stream",
     "text": [
      "Training (10403 / 18000 Steps) (loss=0.60078): 100%|██████████| 102/102 [02:46<00:00,  1.63s/it]\n",
      "Validate (10404 / 10 Steps): 100%|██████████| 25/25 [01:48<00:00,  4.34s/it]4<00:02,  2.09it/s]\n",
      "Training (10500 / 18000 Steps) (loss=0.66577):  95%|█████████▌| 97/102 [02:43<02:45, 33.14s/it]"
     ]
    },
    {
     "name": "stdout",
     "output_type": "stream",
     "text": [
      "Model Was Not Saved ! Current Best Avg. Dice: 0.4618108570575714 Current Avg. Dice: 0.42562031745910645 Current Avg. tumor Dice: 0.526222825050354 Current Avg. lymph Dice: 0.2787104845046997\n"
     ]
    },
    {
     "name": "stderr",
     "output_type": "stream",
     "text": [
      "Training (10505 / 18000 Steps) (loss=0.56183): 100%|██████████| 102/102 [02:46<00:00,  1.63s/it]\n",
      "Validate (10506 / 10 Steps): 100%|██████████| 25/25 [01:46<00:00,  4.25s/it]6<00:04,  1.90it/s]\n",
      "Training (10600 / 18000 Steps) (loss=0.61161):  93%|█████████▎| 95/102 [02:42<03:47, 32.44s/it]"
     ]
    },
    {
     "name": "stdout",
     "output_type": "stream",
     "text": [
      "Model Was Not Saved ! Current Best Avg. Dice: 0.4618108570575714 Current Avg. Dice: 0.39962834119796753 Current Avg. tumor Dice: 0.5041126608848572 Current Avg. lymph Dice: 0.254757821559906\n"
     ]
    },
    {
     "name": "stderr",
     "output_type": "stream",
     "text": [
      "Training (10607 / 18000 Steps) (loss=0.57822): 100%|██████████| 102/102 [02:46<00:00,  1.63s/it]\n",
      "Validate (10608 / 10 Steps): 100%|██████████| 25/25 [01:45<00:00,  4.23s/it]3<00:05,  1.99it/s]\n",
      "Training (10700 / 18000 Steps) (loss=0.42188):  91%|█████████ | 93/102 [02:39<04:50, 32.26s/it]"
     ]
    },
    {
     "name": "stdout",
     "output_type": "stream",
     "text": [
      "Model Was Not Saved ! Current Best Avg. Dice: 0.4618108570575714 Current Avg. Dice: 0.3698311746120453 Current Avg. tumor Dice: 0.47491520643234253 Current Avg. lymph Dice: 0.21944499015808105\n"
     ]
    },
    {
     "name": "stderr",
     "output_type": "stream",
     "text": [
      "Training (10709 / 18000 Steps) (loss=0.57202): 100%|██████████| 102/102 [02:44<00:00,  1.61s/it]\n",
      "Validate (10710 / 10 Steps): 100%|██████████| 25/25 [01:46<00:00,  4.25s/it]1<00:05,  2.03it/s]\n",
      "Training (10800 / 18000 Steps) (loss=0.46822):  89%|████████▉ | 91/102 [02:37<05:56, 32.41s/it]"
     ]
    },
    {
     "name": "stdout",
     "output_type": "stream",
     "text": [
      "Model Was Not Saved ! Current Best Avg. Dice: 0.4618108570575714 Current Avg. Dice: 0.3491675853729248 Current Avg. tumor Dice: 0.4843653738498688 Current Avg. lymph Dice: 0.16765758395195007\n"
     ]
    },
    {
     "name": "stderr",
     "output_type": "stream",
     "text": [
      "Training (10811 / 18000 Steps) (loss=0.30260): 100%|██████████| 102/102 [02:43<00:00,  1.60s/it]\n",
      "Validate (10812 / 10 Steps): 100%|██████████| 25/25 [01:46<00:00,  4.27s/it]0<00:06,  2.01it/s]\n",
      "Training (10900 / 18000 Steps) (loss=0.51207):  87%|████████▋ | 89/102 [02:37<07:04, 32.62s/it]"
     ]
    },
    {
     "name": "stdout",
     "output_type": "stream",
     "text": [
      "Model Was Not Saved ! Current Best Avg. Dice: 0.4618108570575714 Current Avg. Dice: 0.38889583945274353 Current Avg. tumor Dice: 0.5124021768569946 Current Avg. lymph Dice: 0.22379930317401886\n"
     ]
    },
    {
     "name": "stderr",
     "output_type": "stream",
     "text": [
      "Training (10913 / 18000 Steps) (loss=0.66976): 100%|██████████| 102/102 [02:44<00:00,  1.62s/it]\n",
      "Validate (10914 / 10 Steps): 100%|██████████| 25/25 [01:47<00:00,  4.29s/it]1<00:08,  1.80it/s]\n",
      "Training (11000 / 18000 Steps) (loss=0.55859):  85%|████████▌ | 87/102 [02:38<08:10, 32.72s/it]"
     ]
    },
    {
     "name": "stdout",
     "output_type": "stream",
     "text": [
      "Model Was Not Saved ! Current Best Avg. Dice: 0.4618108570575714 Current Avg. Dice: 0.4229840636253357 Current Avg. tumor Dice: 0.522929847240448 Current Avg. lymph Dice: 0.2805677056312561\n"
     ]
    },
    {
     "name": "stderr",
     "output_type": "stream",
     "text": [
      "Training (11015 / 18000 Steps) (loss=0.67057): 100%|██████████| 102/102 [02:46<00:00,  1.63s/it]\n",
      "Validate (11016 / 10 Steps): 100%|██████████| 25/25 [01:47<00:00,  4.31s/it]8<00:09,  1.94it/s]\n",
      "Training (11100 / 18000 Steps) (loss=0.47765):  83%|████████▎ | 85/102 [02:36<09:18, 32.83s/it]"
     ]
    },
    {
     "name": "stdout",
     "output_type": "stream",
     "text": [
      "Model Was Not Saved ! Current Best Avg. Dice: 0.4618108570575714 Current Avg. Dice: 0.4308430552482605 Current Avg. tumor Dice: 0.5364630222320557 Current Avg. lymph Dice: 0.2816668748855591\n"
     ]
    },
    {
     "name": "stderr",
     "output_type": "stream",
     "text": [
      "Training (11117 / 18000 Steps) (loss=0.46352): 100%|██████████| 102/102 [02:45<00:00,  1.62s/it]\n",
      "Validate (11118 / 10 Steps): 100%|██████████| 25/25 [01:47<00:00,  4.29s/it]8<00:12,  1.64it/s]\n",
      "Training (11200 / 18000 Steps) (loss=0.46795):  81%|████████▏ | 83/102 [02:35<10:21, 32.73s/it]"
     ]
    },
    {
     "name": "stdout",
     "output_type": "stream",
     "text": [
      "Model Was Not Saved ! Current Best Avg. Dice: 0.4618108570575714 Current Avg. Dice: 0.4196389317512512 Current Avg. tumor Dice: 0.5216010808944702 Current Avg. lymph Dice: 0.2787178158760071\n"
     ]
    },
    {
     "name": "stderr",
     "output_type": "stream",
     "text": [
      "Training (11219 / 18000 Steps) (loss=0.53947): 100%|██████████| 102/102 [02:45<00:00,  1.62s/it]\n",
      "Validate (11220 / 10 Steps): 100%|██████████| 25/25 [01:48<00:00,  4.32s/it]8<00:11,  1.90it/s]\n",
      "Training (11300 / 18000 Steps) (loss=0.53203):  79%|███████▉  | 81/102 [02:36<11:32, 32.98s/it]"
     ]
    },
    {
     "name": "stdout",
     "output_type": "stream",
     "text": [
      "Model Was Not Saved ! Current Best Avg. Dice: 0.4618108570575714 Current Avg. Dice: 0.4258337914943695 Current Avg. tumor Dice: 0.5291342735290527 Current Avg. lymph Dice: 0.2786310017108917\n"
     ]
    },
    {
     "name": "stderr",
     "output_type": "stream",
     "text": [
      "Training (11321 / 18000 Steps) (loss=0.63426): 100%|██████████| 102/102 [02:47<00:00,  1.64s/it]\n",
      "Validate (11322 / 10 Steps): 100%|██████████| 25/25 [01:49<00:00,  4.38s/it]7<00:11,  2.08it/s]\n",
      "Training (11400 / 18000 Steps) (loss=0.44287):  77%|███████▋  | 79/102 [02:36<12:46, 33.31s/it]"
     ]
    },
    {
     "name": "stdout",
     "output_type": "stream",
     "text": [
      "Model Was Not Saved ! Current Best Avg. Dice: 0.4618108570575714 Current Avg. Dice: 0.44872668385505676 Current Avg. tumor Dice: 0.5356895923614502 Current Avg. lymph Dice: 0.32087036967277527\n"
     ]
    },
    {
     "name": "stderr",
     "output_type": "stream",
     "text": [
      "Training (11423 / 18000 Steps) (loss=0.43810): 100%|██████████| 102/102 [02:48<00:00,  1.65s/it]\n",
      "Validate (11424 / 10 Steps): 100%|██████████| 25/25 [01:46<00:00,  4.26s/it]7<00:14,  1.82it/s]\n",
      "Training (11500 / 18000 Steps) (loss=0.48865):  75%|███████▌  | 77/102 [02:34<13:32, 32.49s/it]"
     ]
    },
    {
     "name": "stdout",
     "output_type": "stream",
     "text": [
      "Model Was Not Saved ! Current Best Avg. Dice: 0.4618108570575714 Current Avg. Dice: 0.3829166293144226 Current Avg. tumor Dice: 0.5116428732872009 Current Avg. lymph Dice: 0.2093105912208557\n"
     ]
    },
    {
     "name": "stderr",
     "output_type": "stream",
     "text": [
      "Training (11525 / 18000 Steps) (loss=0.51878): 100%|██████████| 102/102 [02:48<00:00,  1.65s/it]\n",
      "Validate (11526 / 10 Steps): 100%|██████████| 25/25 [01:47<00:00,  4.28s/it]6<00:16,  1.75it/s]\n",
      "Training (11600 / 18000 Steps) (loss=0.45048):  74%|███████▎  | 75/102 [02:33<14:42, 32.68s/it]"
     ]
    },
    {
     "name": "stdout",
     "output_type": "stream",
     "text": [
      "Model Was Not Saved ! Current Best Avg. Dice: 0.4618108570575714 Current Avg. Dice: 0.4317511022090912 Current Avg. tumor Dice: 0.5130877494812012 Current Avg. lymph Dice: 0.31100454926490784\n"
     ]
    },
    {
     "name": "stderr",
     "output_type": "stream",
     "text": [
      "Training (11627 / 18000 Steps) (loss=0.67024): 100%|██████████| 102/102 [02:48<00:00,  1.65s/it]\n",
      "Validate (11628 / 10 Steps): 100%|██████████| 25/25 [01:47<00:00,  4.31s/it]4<00:15,  1.96it/s]\n",
      "Training (11700 / 18000 Steps) (loss=0.20585):  72%|███████▏  | 73/102 [02:32<15:53, 32.87s/it]"
     ]
    },
    {
     "name": "stdout",
     "output_type": "stream",
     "text": [
      "Model Was Not Saved ! Current Best Avg. Dice: 0.4618108570575714 Current Avg. Dice: 0.45170024037361145 Current Avg. tumor Dice: 0.5356046557426453 Current Avg. lymph Dice: 0.32782071828842163\n"
     ]
    },
    {
     "name": "stderr",
     "output_type": "stream",
     "text": [
      "Training (11729 / 18000 Steps) (loss=0.53732): 100%|██████████| 102/102 [02:47<00:00,  1.64s/it]\n",
      "Validate (11730 / 10 Steps): 100%|██████████| 25/25 [01:47<00:00,  4.29s/it]2<00:16,  1.93it/s]\n",
      "Training (11800 / 18000 Steps) (loss=0.56528):  70%|██████▉   | 71/102 [02:30<16:56, 32.79s/it]"
     ]
    },
    {
     "name": "stdout",
     "output_type": "stream",
     "text": [
      "Model Was Not Saved ! Current Best Avg. Dice: 0.4618108570575714 Current Avg. Dice: 0.4375036060810089 Current Avg. tumor Dice: 0.5252047777175903 Current Avg. lymph Dice: 0.3128027319908142\n"
     ]
    },
    {
     "name": "stderr",
     "output_type": "stream",
     "text": [
      "Training (11831 / 18000 Steps) (loss=0.51562): 100%|██████████| 102/102 [02:46<00:00,  1.63s/it]\n",
      "Validate (11832 / 10 Steps): 100%|██████████| 25/25 [01:46<00:00,  4.26s/it]0<00:18,  1.83it/s]\n",
      "Training (11900 / 18000 Steps) (loss=0.43564):  68%|██████▊   | 69/102 [02:28<18:01, 32.78s/it]"
     ]
    },
    {
     "name": "stdout",
     "output_type": "stream",
     "text": [
      "Model Was Saved ! Current Best Avg. Dice: 0.4638834595680237 Current Avg. Dice: 0.4638834595680237 Current Avg. tumor Dice: 0.5344420671463013 Current Avg. lymph Dice: 0.3577902615070343\n"
     ]
    },
    {
     "name": "stderr",
     "output_type": "stream",
     "text": [
      "Training (11933 / 18000 Steps) (loss=0.31057): 100%|██████████| 102/102 [02:45<00:00,  1.62s/it]\n",
      "Validate (11934 / 10 Steps): 100%|██████████| 25/25 [01:47<00:00,  4.30s/it]9<00:19,  1.87it/s]\n",
      "Training (12000 / 18000 Steps) (loss=0.66707):  66%|██████▌   | 67/102 [02:27<19:07, 32.79s/it]"
     ]
    },
    {
     "name": "stdout",
     "output_type": "stream",
     "text": [
      "Model Was Not Saved ! Current Best Avg. Dice: 0.4638834595680237 Current Avg. Dice: 0.45629680156707764 Current Avg. tumor Dice: 0.5432795882225037 Current Avg. lymph Dice: 0.3281286954879761\n"
     ]
    },
    {
     "name": "stderr",
     "output_type": "stream",
     "text": [
      "Training (12035 / 18000 Steps) (loss=0.31069): 100%|██████████| 102/102 [02:45<00:00,  1.62s/it]\n",
      "Validate (12036 / 10 Steps): 100%|██████████| 25/25 [01:47<00:00,  4.29s/it]9<00:19,  1.93it/s]\n",
      "Training (12100 / 18000 Steps) (loss=0.46658):  64%|██████▎   | 65/102 [02:26<20:08, 32.67s/it]"
     ]
    },
    {
     "name": "stdout",
     "output_type": "stream",
     "text": [
      "Model Was Not Saved ! Current Best Avg. Dice: 0.4638834595680237 Current Avg. Dice: 0.4336300194263458 Current Avg. tumor Dice: 0.5323190689086914 Current Avg. lymph Dice: 0.2905210554599762\n"
     ]
    },
    {
     "name": "stderr",
     "output_type": "stream",
     "text": [
      "Training (12137 / 18000 Steps) (loss=0.37332): 100%|██████████| 102/102 [02:45<00:00,  1.63s/it]\n",
      "Validate (12138 / 10 Steps): 100%|██████████| 25/25 [01:47<00:00,  4.29s/it]9<00:25,  1.56it/s]\n",
      "Training (12200 / 18000 Steps) (loss=0.58340):  62%|██████▏   | 63/102 [02:26<21:19, 32.80s/it]"
     ]
    },
    {
     "name": "stdout",
     "output_type": "stream",
     "text": [
      "Model Was Not Saved ! Current Best Avg. Dice: 0.4638834595680237 Current Avg. Dice: 0.4442538917064667 Current Avg. tumor Dice: 0.5270929932594299 Current Avg. lymph Dice: 0.32346805930137634\n"
     ]
    },
    {
     "name": "stderr",
     "output_type": "stream",
     "text": [
      "Training (12239 / 18000 Steps) (loss=0.43754): 100%|██████████| 102/102 [02:47<00:00,  1.64s/it]\n",
      "Validate (12240 / 10 Steps): 100%|██████████| 25/25 [01:49<00:00,  4.39s/it]6<00:20,  2.03it/s]\n",
      "Training (12300 / 18000 Steps) (loss=0.45076):  60%|█████▉    | 61/102 [02:26<22:49, 33.41s/it]"
     ]
    },
    {
     "name": "stdout",
     "output_type": "stream",
     "text": [
      "Model Was Not Saved ! Current Best Avg. Dice: 0.4638834595680237 Current Avg. Dice: 0.4026050269603729 Current Avg. tumor Dice: 0.5275845527648926 Current Avg. lymph Dice: 0.2293144166469574\n"
     ]
    },
    {
     "name": "stderr",
     "output_type": "stream",
     "text": [
      "Training (12341 / 18000 Steps) (loss=0.49661): 100%|██████████| 102/102 [02:47<00:00,  1.64s/it]\n",
      "Validate (12342 / 10 Steps): 100%|██████████| 25/25 [01:48<00:00,  4.33s/it]5<00:25,  1.71it/s]\n",
      "Training (12400 / 18000 Steps) (loss=0.66711):  58%|█████▊    | 59/102 [02:23<23:39, 33.00s/it]"
     ]
    },
    {
     "name": "stdout",
     "output_type": "stream",
     "text": [
      "Model Was Not Saved ! Current Best Avg. Dice: 0.4638834595680237 Current Avg. Dice: 0.42826133966445923 Current Avg. tumor Dice: 0.534866213798523 Current Avg. lymph Dice: 0.27705857157707214\n"
     ]
    },
    {
     "name": "stderr",
     "output_type": "stream",
     "text": [
      "Training (12443 / 18000 Steps) (loss=0.67139): 100%|██████████| 102/102 [02:46<00:00,  1.64s/it]\n",
      "Validate (12444 / 10 Steps): 100%|██████████| 25/25 [01:52<00:00,  4.50s/it]5<00:23,  1.94it/s]\n",
      "Training (12500 / 18000 Steps) (loss=0.66690):  56%|█████▌    | 57/102 [02:28<25:43, 34.31s/it]"
     ]
    },
    {
     "name": "stdout",
     "output_type": "stream",
     "text": [
      "Model Was Not Saved ! Current Best Avg. Dice: 0.4638834595680237 Current Avg. Dice: 0.3919949531555176 Current Avg. tumor Dice: 0.5186046957969666 Current Avg. lymph Dice: 0.220451220870018\n"
     ]
    },
    {
     "name": "stderr",
     "output_type": "stream",
     "text": [
      "Training (12545 / 18000 Steps) (loss=0.66990): 100%|██████████| 102/102 [02:51<00:00,  1.69s/it]\n",
      "Validate (12546 / 10 Steps): 100%|██████████| 25/25 [01:58<00:00,  4.74s/it]2<00:26,  1.79it/s]\n",
      "Training (12600 / 18000 Steps) (loss=0.48495):  54%|█████▍    | 55/102 [02:31<28:17, 36.11s/it]"
     ]
    },
    {
     "name": "stdout",
     "output_type": "stream",
     "text": [
      "Model Was Not Saved ! Current Best Avg. Dice: 0.4638834595680237 Current Avg. Dice: 0.4585464596748352 Current Avg. tumor Dice: 0.5463297367095947 Current Avg. lymph Dice: 0.32757195830345154\n"
     ]
    },
    {
     "name": "stderr",
     "output_type": "stream",
     "text": [
      "Training (12647 / 18000 Steps) (loss=0.39697): 100%|██████████| 102/102 [03:12<00:00,  1.88s/it]\n",
      "Validate (12648 / 10 Steps): 100%|██████████| 25/25 [02:44<00:00,  6.59s/it]0<00:44,  1.12it/s]\n",
      "Training (12700 / 18000 Steps) (loss=0.70761):  52%|█████▏    | 53/102 [03:36<41:17, 50.55s/it]"
     ]
    },
    {
     "name": "stdout",
     "output_type": "stream",
     "text": [
      "Model Was Saved ! Current Best Avg. Dice: 0.4723123013973236 Current Avg. Dice: 0.4723123013973236 Current Avg. tumor Dice: 0.5417890548706055 Current Avg. lymph Dice: 0.3680490255355835\n"
     ]
    },
    {
     "name": "stderr",
     "output_type": "stream",
     "text": [
      "Training (12749 / 18000 Steps) (loss=0.44808): 100%|██████████| 102/102 [04:02<00:00,  2.37s/it]\n",
      "Validate (12750 / 10 Steps): 100%|██████████| 25/25 [01:45<00:00,  4.23s/it]1<00:27,  1.92it/s]\n",
      "Training (12800 / 18000 Steps) (loss=0.34095):  50%|█████     | 51/102 [02:17<27:24, 32.24s/it]"
     ]
    },
    {
     "name": "stdout",
     "output_type": "stream",
     "text": [
      "Model Was Not Saved ! Current Best Avg. Dice: 0.4723123013973236 Current Avg. Dice: 0.44956690073013306 Current Avg. tumor Dice: 0.536557674407959 Current Avg. lymph Dice: 0.32106029987335205\n"
     ]
    },
    {
     "name": "stderr",
     "output_type": "stream",
     "text": [
      "Training (12851 / 18000 Steps) (loss=0.53940): 100%|██████████| 102/102 [02:45<00:00,  1.62s/it]\n",
      "Validate (12852 / 10 Steps): 100%|██████████| 25/25 [03:27<00:00,  8.29s/it]8<00:49,  1.10it/s]\n",
      "Training (12900 / 18000 Steps) (loss=0.27300):  48%|████▊     | 49/102 [04:16<55:48, 63.18s/it]"
     ]
    },
    {
     "name": "stdout",
     "output_type": "stream",
     "text": [
      "Model Was Not Saved ! Current Best Avg. Dice: 0.4723123013973236 Current Avg. Dice: 0.4501193165779114 Current Avg. tumor Dice: 0.535658597946167 Current Avg. lymph Dice: 0.3202042579650879\n"
     ]
    },
    {
     "name": "stderr",
     "output_type": "stream",
     "text": [
      "Training (12953 / 18000 Steps) (loss=0.73641): 100%|██████████| 102/102 [05:05<00:00,  2.99s/it]\n",
      "Validate (12954 / 10 Steps): 100%|██████████| 25/25 [01:54<00:00,  4.58s/it]7<00:56,  1.01s/it]\n",
      "Training (13000 / 18000 Steps) (loss=0.46612):  46%|████▌     | 47/102 [02:41<32:24, 35.35s/it]"
     ]
    },
    {
     "name": "stdout",
     "output_type": "stream",
     "text": [
      "Model Was Not Saved ! Current Best Avg. Dice: 0.4723123013973236 Current Avg. Dice: 0.44962942600250244 Current Avg. tumor Dice: 0.5435813665390015 Current Avg. lymph Dice: 0.31301242113113403\n"
     ]
    },
    {
     "name": "stderr",
     "output_type": "stream",
     "text": [
      "Training (13055 / 18000 Steps) (loss=0.57104): 100%|██████████| 102/102 [03:11<00:00,  1.87s/it]\n",
      "Validate (13056 / 10 Steps): 100%|██████████| 25/25 [01:48<00:00,  4.36s/it]9<00:30,  1.91it/s]\n",
      "Training (13100 / 18000 Steps) (loss=0.69178):  44%|████▍     | 45/102 [02:18<31:31, 33.18s/it]"
     ]
    },
    {
     "name": "stdout",
     "output_type": "stream",
     "text": [
      "Model Was Not Saved ! Current Best Avg. Dice: 0.4723123013973236 Current Avg. Dice: 0.4375132620334625 Current Avg. tumor Dice: 0.5380680561065674 Current Avg. lymph Dice: 0.28964266180992126\n"
     ]
    },
    {
     "name": "stderr",
     "output_type": "stream",
     "text": [
      "Training (13157 / 18000 Steps) (loss=0.39230): 100%|██████████| 102/102 [02:48<00:00,  1.65s/it]\n",
      "Validate (13158 / 10 Steps): 100%|██████████| 25/25 [01:48<00:00,  4.34s/it]9<00:31,  1.88it/s]\n",
      "Training (13200 / 18000 Steps) (loss=0.41291):  42%|████▏     | 43/102 [02:18<32:41, 33.24s/it]"
     ]
    },
    {
     "name": "stdout",
     "output_type": "stream",
     "text": [
      "Model Was Not Saved ! Current Best Avg. Dice: 0.4723123013973236 Current Avg. Dice: 0.4510289430618286 Current Avg. tumor Dice: 0.5365744829177856 Current Avg. lymph Dice: 0.3258143961429596\n"
     ]
    },
    {
     "name": "stderr",
     "output_type": "stream",
     "text": [
      "Training (13259 / 18000 Steps) (loss=0.63775): 100%|██████████| 102/102 [02:49<00:00,  1.66s/it]\n",
      "Validate (13260 / 10 Steps): 100%|██████████| 25/25 [01:47<00:00,  4.31s/it]0<00:35,  1.73it/s]\n",
      "Training (13300 / 18000 Steps) (loss=0.38750):  40%|████      | 41/102 [02:18<33:29, 32.94s/it]"
     ]
    },
    {
     "name": "stdout",
     "output_type": "stream",
     "text": [
      "Model Was Not Saved ! Current Best Avg. Dice: 0.4723123013973236 Current Avg. Dice: 0.42978426814079285 Current Avg. tumor Dice: 0.5362971425056458 Current Avg. lymph Dice: 0.2771453857421875\n"
     ]
    },
    {
     "name": "stderr",
     "output_type": "stream",
     "text": [
      "Training (13361 / 18000 Steps) (loss=0.60431): 100%|██████████| 102/102 [02:52<00:00,  1.69s/it]\n",
      "Validate (13362 / 10 Steps): 100%|██████████| 25/25 [01:47<00:00,  4.30s/it]6<00:34,  1.87it/s]\n",
      "Training (13400 / 18000 Steps) (loss=0.56812):  38%|███▊      | 39/102 [02:13<34:25, 32.79s/it]"
     ]
    },
    {
     "name": "stdout",
     "output_type": "stream",
     "text": [
      "Model Was Not Saved ! Current Best Avg. Dice: 0.4723123013973236 Current Avg. Dice: 0.439990758895874 Current Avg. tumor Dice: 0.5373167395591736 Current Avg. lymph Dice: 0.3010461926460266\n"
     ]
    },
    {
     "name": "stderr",
     "output_type": "stream",
     "text": [
      "Training (13463 / 18000 Steps) (loss=0.51656): 100%|██████████| 102/102 [02:47<00:00,  1.65s/it]\n",
      "Validate (13464 / 10 Steps): 100%|██████████| 25/25 [01:47<00:00,  4.30s/it]4<00:32,  2.03it/s]\n",
      "Training (13500 / 18000 Steps) (loss=0.57697):  36%|███▋      | 37/102 [02:11<35:28, 32.75s/it]"
     ]
    },
    {
     "name": "stdout",
     "output_type": "stream",
     "text": [
      "Model Was Not Saved ! Current Best Avg. Dice: 0.4723123013973236 Current Avg. Dice: 0.4253682792186737 Current Avg. tumor Dice: 0.5312017202377319 Current Avg. lymph Dice: 0.27717462182044983\n"
     ]
    },
    {
     "name": "stderr",
     "output_type": "stream",
     "text": [
      "Training (13565 / 18000 Steps) (loss=0.35279): 100%|██████████| 102/102 [02:46<00:00,  1.63s/it]\n",
      "Validate (13566 / 10 Steps): 100%|██████████| 25/25 [01:46<00:00,  4.27s/it]2<00:33,  2.01it/s]\n",
      "Training (13600 / 18000 Steps) (loss=0.39010):  34%|███▍      | 35/102 [02:09<36:22, 32.57s/it]"
     ]
    },
    {
     "name": "stdout",
     "output_type": "stream",
     "text": [
      "Model Was Not Saved ! Current Best Avg. Dice: 0.4723123013973236 Current Avg. Dice: 0.4208391010761261 Current Avg. tumor Dice: 0.5274120569229126 Current Avg. lymph Dice: 0.26758331060409546\n"
     ]
    },
    {
     "name": "stderr",
     "output_type": "stream",
     "text": [
      "Training (13667 / 18000 Steps) (loss=0.63855): 100%|██████████| 102/102 [02:46<00:00,  1.63s/it]\n",
      "Validate (13668 / 10 Steps): 100%|██████████| 25/25 [01:47<00:00,  4.28s/it]1<00:35,  1.95it/s]\n",
      "Training (13700 / 18000 Steps) (loss=0.47736):  32%|███▏      | 33/102 [02:08<37:33, 32.66s/it]"
     ]
    },
    {
     "name": "stdout",
     "output_type": "stream",
     "text": [
      "Model Was Not Saved ! Current Best Avg. Dice: 0.4723123013973236 Current Avg. Dice: 0.3842133581638336 Current Avg. tumor Dice: 0.5145845413208008 Current Avg. lymph Dice: 0.21033692359924316\n"
     ]
    },
    {
     "name": "stderr",
     "output_type": "stream",
     "text": [
      "Training (13769 / 18000 Steps) (loss=0.66688): 100%|██████████| 102/102 [02:45<00:00,  1.62s/it]\n",
      "Validate (13770 / 10 Steps): 100%|██████████| 25/25 [01:46<00:00,  4.27s/it]0<00:33,  2.13it/s]\n",
      "Training (13800 / 18000 Steps) (loss=0.37828):  30%|███       | 31/102 [02:07<38:30, 32.54s/it]"
     ]
    },
    {
     "name": "stdout",
     "output_type": "stream",
     "text": [
      "Model Was Not Saved ! Current Best Avg. Dice: 0.4723123013973236 Current Avg. Dice: 0.4525212347507477 Current Avg. tumor Dice: 0.5155298113822937 Current Avg. lymph Dice: 0.3570876717567444\n"
     ]
    },
    {
     "name": "stderr",
     "output_type": "stream",
     "text": [
      "Training (13871 / 18000 Steps) (loss=0.62431): 100%|██████████| 102/102 [02:43<00:00,  1.60s/it]\n",
      "Validate (13872 / 10 Steps): 100%|██████████| 25/25 [01:46<00:00,  4.27s/it]9<00:39,  1.88it/s]\n",
      "Training (13900 / 18000 Steps) (loss=0.68947):  28%|██▊       | 29/102 [02:06<39:36, 32.55s/it]"
     ]
    },
    {
     "name": "stdout",
     "output_type": "stream",
     "text": [
      "Model Was Not Saved ! Current Best Avg. Dice: 0.4723123013973236 Current Avg. Dice: 0.4437417685985565 Current Avg. tumor Dice: 0.533259391784668 Current Avg. lymph Dice: 0.3121882379055023\n"
     ]
    },
    {
     "name": "stderr",
     "output_type": "stream",
     "text": [
      "Training (13973 / 18000 Steps) (loss=0.41066): 100%|██████████| 102/102 [02:44<00:00,  1.61s/it]\n",
      "Validate (13974 / 10 Steps): 100%|██████████| 25/25 [01:45<00:00,  4.23s/it]9<00:41,  1.82it/s]\n",
      "Training (14000 / 18000 Steps) (loss=0.56253):  26%|██▋       | 27/102 [02:04<40:26, 32.35s/it]"
     ]
    },
    {
     "name": "stdout",
     "output_type": "stream",
     "text": [
      "Model Was Not Saved ! Current Best Avg. Dice: 0.4723123013973236 Current Avg. Dice: 0.42687341570854187 Current Avg. tumor Dice: 0.5374002456665039 Current Avg. lymph Dice: 0.2729870080947876\n"
     ]
    },
    {
     "name": "stderr",
     "output_type": "stream",
     "text": [
      "Training (14075 / 18000 Steps) (loss=0.38554): 100%|██████████| 102/102 [02:44<00:00,  1.61s/it]\n",
      "Validate (14076 / 10 Steps): 100%|██████████| 25/25 [01:47<00:00,  4.30s/it]8<00:39,  2.00it/s]\n",
      "Training (14100 / 18000 Steps) (loss=0.49066):  25%|██▍       | 25/102 [02:06<42:16, 32.94s/it]"
     ]
    },
    {
     "name": "stdout",
     "output_type": "stream",
     "text": [
      "Model Was Not Saved ! Current Best Avg. Dice: 0.4723123013973236 Current Avg. Dice: 0.45159825682640076 Current Avg. tumor Dice: 0.55050128698349 Current Avg. lymph Dice: 0.3087438642978668\n"
     ]
    },
    {
     "name": "stderr",
     "output_type": "stream",
     "text": [
      "Training (14177 / 18000 Steps) (loss=0.34652): 100%|██████████| 102/102 [02:45<00:00,  1.62s/it]\n",
      "Validate (14178 / 10 Steps): 100%|██████████| 25/25 [01:47<00:00,  4.30s/it]6<00:43,  1.84it/s]\n",
      "Training (14200 / 18000 Steps) (loss=0.45588):  23%|██▎       | 23/102 [02:04<43:06, 32.74s/it]"
     ]
    },
    {
     "name": "stdout",
     "output_type": "stream",
     "text": [
      "Model Was Not Saved ! Current Best Avg. Dice: 0.4723123013973236 Current Avg. Dice: 0.4234600365161896 Current Avg. tumor Dice: 0.5378536581993103 Current Avg. lymph Dice: 0.2662142813205719\n"
     ]
    },
    {
     "name": "stderr",
     "output_type": "stream",
     "text": [
      "Training (14279 / 18000 Steps) (loss=0.56138): 100%|██████████| 102/102 [02:45<00:00,  1.63s/it]\n",
      "Validate (14280 / 10 Steps): 100%|██████████| 25/25 [01:46<00:00,  4.26s/it]5<00:45,  1.80it/s]\n",
      "Training (14300 / 18000 Steps) (loss=0.66688):  21%|██        | 21/102 [02:02<43:55, 32.54s/it]"
     ]
    },
    {
     "name": "stdout",
     "output_type": "stream",
     "text": [
      "Model Was Not Saved ! Current Best Avg. Dice: 0.4723123013973236 Current Avg. Dice: 0.4430137872695923 Current Avg. tumor Dice: 0.5345360040664673 Current Avg. lymph Dice: 0.3064899444580078\n"
     ]
    },
    {
     "name": "stderr",
     "output_type": "stream",
     "text": [
      "Training (14381 / 18000 Steps) (loss=0.66716): 100%|██████████| 102/102 [02:45<00:00,  1.62s/it]\n",
      "Validate (14382 / 10 Steps): 100%|██████████| 25/25 [01:47<00:00,  4.28s/it]4<00:52,  1.61it/s]\n",
      "Training (14400 / 18000 Steps) (loss=0.46153):  19%|█▊        | 19/102 [02:01<45:21, 32.79s/it]"
     ]
    },
    {
     "name": "stdout",
     "output_type": "stream",
     "text": [
      "Model Was Not Saved ! Current Best Avg. Dice: 0.4723123013973236 Current Avg. Dice: 0.45330101251602173 Current Avg. tumor Dice: 0.5420749187469482 Current Avg. lymph Dice: 0.32529622316360474\n"
     ]
    },
    {
     "name": "stderr",
     "output_type": "stream",
     "text": [
      "Training (14483 / 18000 Steps) (loss=0.54661): 100%|██████████| 102/102 [02:43<00:00,  1.60s/it]\n",
      "Validate (14484 / 10 Steps): 100%|██████████| 25/25 [01:47<00:00,  4.31s/it]3<00:43,  1.98it/s]\n",
      "Training (14500 / 18000 Steps) (loss=0.51176):  17%|█▋        | 17/102 [02:01<47:02, 33.20s/it]"
     ]
    },
    {
     "name": "stdout",
     "output_type": "stream",
     "text": [
      "Model Was Not Saved ! Current Best Avg. Dice: 0.4723123013973236 Current Avg. Dice: 0.41753071546554565 Current Avg. tumor Dice: 0.5188577771186829 Current Avg. lymph Dice: 0.2740108370780945\n"
     ]
    },
    {
     "name": "stderr",
     "output_type": "stream",
     "text": [
      "Training (14585 / 18000 Steps) (loss=0.43669): 100%|██████████| 102/102 [02:46<00:00,  1.63s/it]\n",
      "Validate (14586 / 10 Steps): 100%|██████████| 25/25 [01:47<00:00,  4.29s/it]2<00:45,  1.94it/s]\n",
      "Training (14600 / 18000 Steps) (loss=0.27882):  15%|█▍        | 15/102 [01:59<47:40, 32.88s/it]"
     ]
    },
    {
     "name": "stdout",
     "output_type": "stream",
     "text": [
      "Model Was Not Saved ! Current Best Avg. Dice: 0.4723123013973236 Current Avg. Dice: 0.41072404384613037 Current Avg. tumor Dice: 0.5290659070014954 Current Avg. lymph Dice: 0.24605852365493774\n"
     ]
    },
    {
     "name": "stderr",
     "output_type": "stream",
     "text": [
      "Training (14687 / 18000 Steps) (loss=0.53794): 100%|██████████| 102/102 [02:44<00:00,  1.61s/it]\n",
      "Validate (14688 / 10 Steps): 100%|██████████| 25/25 [01:48<00:00,  4.34s/it]0<00:47,  1.89it/s]\n",
      "Training (14700 / 18000 Steps) (loss=0.63368):  13%|█▎        | 13/102 [01:59<49:33, 33.41s/it]"
     ]
    },
    {
     "name": "stdout",
     "output_type": "stream",
     "text": [
      "Model Was Not Saved ! Current Best Avg. Dice: 0.4723123013973236 Current Avg. Dice: 0.47203460335731506 Current Avg. tumor Dice: 0.5513251423835754 Current Avg. lymph Dice: 0.35793015360832214\n"
     ]
    },
    {
     "name": "stderr",
     "output_type": "stream",
     "text": [
      "Training (14789 / 18000 Steps) (loss=0.44136): 100%|██████████| 102/102 [02:44<00:00,  1.61s/it]\n",
      "Validate (14790 / 10 Steps): 100%|██████████| 25/25 [01:46<00:00,  4.28s/it]0<00:57,  1.60it/s]\n",
      "Training (14800 / 18000 Steps) (loss=0.52546):  11%|█         | 11/102 [01:57<50:40, 33.41s/it]"
     ]
    },
    {
     "name": "stdout",
     "output_type": "stream",
     "text": [
      "Model Was Not Saved ! Current Best Avg. Dice: 0.4723123013973236 Current Avg. Dice: 0.4654077887535095 Current Avg. tumor Dice: 0.5499125719070435 Current Avg. lymph Dice: 0.34268733859062195\n"
     ]
    },
    {
     "name": "stderr",
     "output_type": "stream",
     "text": [
      "Training (14891 / 18000 Steps) (loss=0.56906): 100%|██████████| 102/102 [02:46<00:00,  1.63s/it]\n",
      "Validate (14892 / 10 Steps): 100%|██████████| 25/25 [01:49<00:00,  4.38s/it]<00:55,  1.70it/s]\n",
      "Training (14900 / 18000 Steps) (loss=0.39076):   9%|▉         | 9/102 [01:58<54:04, 34.89s/it]"
     ]
    },
    {
     "name": "stdout",
     "output_type": "stream",
     "text": [
      "Model Was Not Saved ! Current Best Avg. Dice: 0.4723123013973236 Current Avg. Dice: 0.4511682987213135 Current Avg. tumor Dice: 0.5412564873695374 Current Avg. lymph Dice: 0.32175305485725403\n"
     ]
    },
    {
     "name": "stderr",
     "output_type": "stream",
     "text": [
      "Training (14993 / 18000 Steps) (loss=0.46022): 100%|██████████| 102/102 [02:47<00:00,  1.64s/it]\n",
      "Validate (14994 / 10 Steps): 100%|██████████| 25/25 [01:48<00:00,  4.33s/it]<01:15,  1.26it/s]\n",
      "Training (15000 / 18000 Steps) (loss=0.51065):   7%|▋         | 7/102 [01:56<57:09, 36.10s/it]"
     ]
    },
    {
     "name": "stdout",
     "output_type": "stream",
     "text": [
      "Model Was Not Saved ! Current Best Avg. Dice: 0.4723123013973236 Current Avg. Dice: 0.4140482544898987 Current Avg. tumor Dice: 0.5257848501205444 Current Avg. lymph Dice: 0.25800809264183044\n"
     ]
    },
    {
     "name": "stderr",
     "output_type": "stream",
     "text": [
      "Training (15095 / 18000 Steps) (loss=0.70025): 100%|██████████| 102/102 [02:47<00:00,  1.64s/it]\n",
      "Validate (15096 / 10 Steps): 100%|██████████| 25/25 [01:48<00:00,  4.32s/it]<01:55,  1.18s/it]\n",
      "Training (15100 / 18000 Steps) (loss=0.27202):   5%|▍         | 5/102 [01:56<1:04:52, 40.13s/it]"
     ]
    },
    {
     "name": "stdout",
     "output_type": "stream",
     "text": [
      "Model Was Not Saved ! Current Best Avg. Dice: 0.4723123013973236 Current Avg. Dice: 0.461829274892807 Current Avg. tumor Dice: 0.5420547723770142 Current Avg. lymph Dice: 0.34291189908981323\n"
     ]
    },
    {
     "name": "stderr",
     "output_type": "stream",
     "text": [
      "Training (15197 / 18000 Steps) (loss=0.64343): 100%|██████████| 102/102 [02:46<00:00,  1.63s/it]\n",
      "Validate (15198 / 10 Steps): 100%|██████████| 25/25 [01:48<00:00,  4.34s/it]<03:55,  2.36s/it]\n",
      "Training (15200 / 18000 Steps) (loss=0.43911):   3%|▎         | 3/102 [01:54<1:24:14, 51.05s/it]"
     ]
    },
    {
     "name": "stdout",
     "output_type": "stream",
     "text": [
      "Model Was Not Saved ! Current Best Avg. Dice: 0.4723123013973236 Current Avg. Dice: 0.43167904019355774 Current Avg. tumor Dice: 0.5389418601989746 Current Avg. lymph Dice: 0.2822166085243225\n"
     ]
    },
    {
     "name": "stderr",
     "output_type": "stream",
     "text": [
      "Training (15299 / 18000 Steps) (loss=0.52101): 100%|██████████| 102/102 [02:49<00:00,  1.66s/it]\n",
      "Validate (15300 / 10 Steps): 100%|██████████| 25/25 [01:48<00:00,  4.33s/it]<?, ?it/s]\n",
      "Training (15300 / 18000 Steps) (loss=0.31481):   1%|          | 1/102 [01:52<3:09:42, 112.70s/it]"
     ]
    },
    {
     "name": "stdout",
     "output_type": "stream",
     "text": [
      "Model Was Not Saved ! Current Best Avg. Dice: 0.4723123013973236 Current Avg. Dice: 0.4574703276157379 Current Avg. tumor Dice: 0.5295722484588623 Current Avg. lymph Dice: 0.3513595759868622\n"
     ]
    },
    {
     "name": "stderr",
     "output_type": "stream",
     "text": [
      "Validate (15300 / 10 Steps): 100%|██████████| 25/25 [01:49<00:00,  4.38s/it]46<00:00,  2.07it/s] \n",
      "Training (15400 / 18000 Steps) (loss=0.43652):  99%|█████████▉| 101/102 [04:35<00:33, 33.39s/it]"
     ]
    },
    {
     "name": "stdout",
     "output_type": "stream",
     "text": [
      "Model Was Not Saved ! Current Best Avg. Dice: 0.4723123013973236 Current Avg. Dice: 0.4462646245956421 Current Avg. tumor Dice: 0.529461145401001 Current Avg. lymph Dice: 0.3296157717704773\n"
     ]
    },
    {
     "name": "stderr",
     "output_type": "stream",
     "text": [
      "Training (15401 / 18000 Steps) (loss=0.59726): 100%|██████████| 102/102 [04:36<00:00,  2.71s/it]\n",
      "Validate (15402 / 10 Steps): 100%|██████████| 25/25 [01:50<00:00,  4.44s/it]6<00:02,  1.96it/s]\n",
      "Training (15500 / 18000 Steps) (loss=0.45809):  97%|█████████▋| 99/102 [02:47<01:41, 33.81s/it]"
     ]
    },
    {
     "name": "stdout",
     "output_type": "stream",
     "text": [
      "Model Was Not Saved ! Current Best Avg. Dice: 0.4723123013973236 Current Avg. Dice: 0.3922036290168762 Current Avg. tumor Dice: 0.5241896510124207 Current Avg. lymph Dice: 0.2131776660680771\n"
     ]
    },
    {
     "name": "stderr",
     "output_type": "stream",
     "text": [
      "Training (15503 / 18000 Steps) (loss=0.66456): 100%|██████████| 102/102 [02:48<00:00,  1.66s/it]\n",
      "Validate (15504 / 10 Steps): 100%|██████████| 25/25 [01:49<00:00,  4.38s/it]4<00:03,  1.70it/s]\n",
      "Training (15600 / 18000 Steps) (loss=0.40498):  95%|█████████▌| 97/102 [02:44<02:47, 33.45s/it]"
     ]
    },
    {
     "name": "stdout",
     "output_type": "stream",
     "text": [
      "Model Was Not Saved ! Current Best Avg. Dice: 0.4723123013973236 Current Avg. Dice: 0.4441482424736023 Current Avg. tumor Dice: 0.543033242225647 Current Avg. lymph Dice: 0.30608129501342773\n"
     ]
    },
    {
     "name": "stderr",
     "output_type": "stream",
     "text": [
      "Training (15605 / 18000 Steps) (loss=0.69657): 100%|██████████| 102/102 [02:46<00:00,  1.63s/it]\n",
      "Validate (15606 / 10 Steps): 100%|██████████| 25/25 [01:47<00:00,  4.29s/it]3<00:04,  1.92it/s]\n",
      "Training (15700 / 18000 Steps) (loss=0.34767):  93%|█████████▎| 95/102 [02:41<03:49, 32.72s/it]"
     ]
    },
    {
     "name": "stdout",
     "output_type": "stream",
     "text": [
      "Model Was Not Saved ! Current Best Avg. Dice: 0.4723123013973236 Current Avg. Dice: 0.44197171926498413 Current Avg. tumor Dice: 0.515342652797699 Current Avg. lymph Dice: 0.33792826533317566\n"
     ]
    },
    {
     "name": "stderr",
     "output_type": "stream",
     "text": [
      "Training (15707 / 18000 Steps) (loss=0.55053): 100%|██████████| 102/102 [02:45<00:00,  1.62s/it]\n",
      "Validate (15708 / 10 Steps): 100%|██████████| 25/25 [01:40<00:00,  4.01s/it]4<00:05,  1.92it/s]\n",
      "Training (15800 / 18000 Steps) (loss=0.47346):  91%|█████████ | 93/102 [02:35<04:35, 30.66s/it]"
     ]
    },
    {
     "name": "stdout",
     "output_type": "stream",
     "text": [
      "Model Was Not Saved ! Current Best Avg. Dice: 0.4723123013973236 Current Avg. Dice: 0.453304648399353 Current Avg. tumor Dice: 0.5447534322738647 Current Avg. lymph Dice: 0.3209154009819031\n"
     ]
    },
    {
     "name": "stderr",
     "output_type": "stream",
     "text": [
      "Training (15809 / 18000 Steps) (loss=0.60698): 100%|██████████| 102/102 [02:39<00:00,  1.56s/it]\n",
      "Validate (15810 / 10 Steps): 100%|██████████| 25/25 [01:36<00:00,  3.86s/it]7<00:05,  2.15it/s]\n",
      "Training (15900 / 18000 Steps) (loss=0.36883):  89%|████████▉ | 91/102 [02:24<05:24, 29.46s/it]"
     ]
    },
    {
     "name": "stdout",
     "output_type": "stream",
     "text": [
      "Model Was Not Saved ! Current Best Avg. Dice: 0.4723123013973236 Current Avg. Dice: 0.4154716730117798 Current Avg. tumor Dice: 0.5377171039581299 Current Avg. lymph Dice: 0.24548248946666718\n"
     ]
    },
    {
     "name": "stderr",
     "output_type": "stream",
     "text": [
      "Training (15911 / 18000 Steps) (loss=0.53871): 100%|██████████| 102/102 [02:29<00:00,  1.46s/it]\n",
      "Validate (15912 / 10 Steps): 100%|██████████| 25/25 [01:36<00:00,  3.87s/it]5<00:06,  2.13it/s]\n",
      "Training (16000 / 18000 Steps) (loss=0.53307):  87%|████████▋ | 89/102 [02:22<06:23, 29.48s/it]"
     ]
    },
    {
     "name": "stdout",
     "output_type": "stream",
     "text": [
      "Model Was Not Saved ! Current Best Avg. Dice: 0.4723123013973236 Current Avg. Dice: 0.4578278660774231 Current Avg. tumor Dice: 0.5490938425064087 Current Avg. lymph Dice: 0.3296927213668823\n"
     ]
    },
    {
     "name": "stderr",
     "output_type": "stream",
     "text": [
      "Training (16013 / 18000 Steps) (loss=0.43429): 100%|██████████| 102/102 [02:28<00:00,  1.45s/it]\n",
      "Validate (16014 / 10 Steps): 100%|██████████| 25/25 [01:36<00:00,  3.86s/it]4<00:07,  2.17it/s]\n",
      "Training (16100 / 18000 Steps) (loss=0.50739):  85%|████████▌ | 87/102 [02:21<07:21, 29.43s/it]"
     ]
    },
    {
     "name": "stdout",
     "output_type": "stream",
     "text": [
      "Model Was Not Saved ! Current Best Avg. Dice: 0.4723123013973236 Current Avg. Dice: 0.47078415751457214 Current Avg. tumor Dice: 0.5490285754203796 Current Avg. lymph Dice: 0.35357287526130676\n"
     ]
    },
    {
     "name": "stderr",
     "output_type": "stream",
     "text": [
      "Training (16115 / 18000 Steps) (loss=0.47784): 100%|██████████| 102/102 [02:27<00:00,  1.45s/it]\n",
      "Validate (16116 / 10 Steps): 100%|██████████| 25/25 [01:36<00:00,  3.87s/it]3<00:08,  2.16it/s]\n",
      "Training (16200 / 18000 Steps) (loss=0.59230):  83%|████████▎ | 85/102 [02:20<08:21, 29.51s/it]"
     ]
    },
    {
     "name": "stdout",
     "output_type": "stream",
     "text": [
      "Model Was Not Saved ! Current Best Avg. Dice: 0.4723123013973236 Current Avg. Dice: 0.4043344259262085 Current Avg. tumor Dice: 0.5335214138031006 Current Avg. lymph Dice: 0.22489185631275177\n"
     ]
    },
    {
     "name": "stderr",
     "output_type": "stream",
     "text": [
      "Training (16217 / 18000 Steps) (loss=0.60314): 100%|██████████| 102/102 [02:28<00:00,  1.45s/it]\n",
      "Validate (16218 / 10 Steps): 100%|██████████| 25/25 [01:36<00:00,  3.86s/it]3<00:09,  2.16it/s]\n",
      "Training (16300 / 18000 Steps) (loss=0.53297):  81%|████████▏ | 83/102 [02:19<09:18, 29.41s/it]"
     ]
    },
    {
     "name": "stdout",
     "output_type": "stream",
     "text": [
      "Model Was Not Saved ! Current Best Avg. Dice: 0.4723123013973236 Current Avg. Dice: 0.4588954448699951 Current Avg. tumor Dice: 0.532268226146698 Current Avg. lymph Dice: 0.34590521454811096\n"
     ]
    },
    {
     "name": "stderr",
     "output_type": "stream",
     "text": [
      "Training (16319 / 18000 Steps) (loss=0.41703): 100%|██████████| 102/102 [02:28<00:00,  1.46s/it]\n",
      "Validate (16320 / 10 Steps): 100%|██████████| 25/25 [01:36<00:00,  3.85s/it]2<00:10,  2.14it/s]\n",
      "Training (16400 / 18000 Steps) (loss=0.66693):  79%|███████▉  | 81/102 [02:18<10:16, 29.35s/it]"
     ]
    },
    {
     "name": "stdout",
     "output_type": "stream",
     "text": [
      "Model Was Not Saved ! Current Best Avg. Dice: 0.4723123013973236 Current Avg. Dice: 0.3961866796016693 Current Avg. tumor Dice: 0.5328488349914551 Current Avg. lymph Dice: 0.20822177827358246\n"
     ]
    },
    {
     "name": "stderr",
     "output_type": "stream",
     "text": [
      "Training (16421 / 18000 Steps) (loss=0.53272): 100%|██████████| 102/102 [02:28<00:00,  1.45s/it]\n",
      "Validate (16422 / 10 Steps): 100%|██████████| 25/25 [01:36<00:00,  3.86s/it]0<00:11,  2.14it/s]\n",
      "Training (16500 / 18000 Steps) (loss=0.56095):  77%|███████▋  | 79/102 [02:17<11:17, 29.47s/it]"
     ]
    },
    {
     "name": "stdout",
     "output_type": "stream",
     "text": [
      "Model Was Not Saved ! Current Best Avg. Dice: 0.4723123013973236 Current Avg. Dice: 0.4398455023765564 Current Avg. tumor Dice: 0.5438225865364075 Current Avg. lymph Dice: 0.2936011254787445\n"
     ]
    },
    {
     "name": "stderr",
     "output_type": "stream",
     "text": [
      "Training (16523 / 18000 Steps) (loss=0.59149): 100%|██████████| 102/102 [02:28<00:00,  1.45s/it]\n",
      "Validate (16524 / 10 Steps): 100%|██████████| 25/25 [01:36<00:00,  3.86s/it]0<00:11,  2.21it/s]\n",
      "Training (16600 / 18000 Steps) (loss=0.61312):  75%|███████▌  | 77/102 [02:16<12:15, 29.42s/it]"
     ]
    },
    {
     "name": "stdout",
     "output_type": "stream",
     "text": [
      "Model Was Not Saved ! Current Best Avg. Dice: 0.4723123013973236 Current Avg. Dice: 0.4628661870956421 Current Avg. tumor Dice: 0.5416392683982849 Current Avg. lymph Dice: 0.34481096267700195\n"
     ]
    },
    {
     "name": "stderr",
     "output_type": "stream",
     "text": [
      "Training (16625 / 18000 Steps) (loss=0.56703): 100%|██████████| 102/102 [02:28<00:00,  1.46s/it]\n",
      "Validate (16626 / 10 Steps): 100%|██████████| 25/25 [01:36<00:00,  3.86s/it]0<00:13,  2.04it/s]\n",
      "Training (16700 / 18000 Steps) (loss=0.57078):  74%|███████▎  | 75/102 [02:16<13:14, 29.42s/it]"
     ]
    },
    {
     "name": "stdout",
     "output_type": "stream",
     "text": [
      "Model Was Not Saved ! Current Best Avg. Dice: 0.4723123013973236 Current Avg. Dice: 0.4512333869934082 Current Avg. tumor Dice: 0.5142682194709778 Current Avg. lymph Dice: 0.3540481925010681\n"
     ]
    },
    {
     "name": "stderr",
     "output_type": "stream",
     "text": [
      "Training (16727 / 18000 Steps) (loss=0.39174): 100%|██████████| 102/102 [02:29<00:00,  1.47s/it]\n",
      "Validate (16728 / 10 Steps): 100%|██████████| 25/25 [01:36<00:00,  3.86s/it]9<00:13,  2.16it/s]\n",
      "Training (16800 / 18000 Steps) (loss=0.26562):  72%|███████▏  | 73/102 [02:15<14:13, 29.42s/it]"
     ]
    },
    {
     "name": "stdout",
     "output_type": "stream",
     "text": [
      "Model Was Not Saved ! Current Best Avg. Dice: 0.4723123013973236 Current Avg. Dice: 0.41869059205055237 Current Avg. tumor Dice: 0.5284633040428162 Current Avg. lymph Dice: 0.26852619647979736\n"
     ]
    },
    {
     "name": "stderr",
     "output_type": "stream",
     "text": [
      "Training (16829 / 18000 Steps) (loss=0.46125): 100%|██████████| 102/102 [02:29<00:00,  1.46s/it]\n",
      "Validate (16830 / 10 Steps): 100%|██████████| 25/25 [01:36<00:00,  3.86s/it]8<00:15,  2.07it/s]\n",
      "Training (16900 / 18000 Steps) (loss=0.95819):  70%|██████▉   | 71/102 [02:15<15:13, 29.46s/it]"
     ]
    },
    {
     "name": "stdout",
     "output_type": "stream",
     "text": [
      "Model Was Not Saved ! Current Best Avg. Dice: 0.4723123013973236 Current Avg. Dice: 0.4090724587440491 Current Avg. tumor Dice: 0.5176371932029724 Current Avg. lymph Dice: 0.2524794340133667\n"
     ]
    },
    {
     "name": "stderr",
     "output_type": "stream",
     "text": [
      "Training (16931 / 18000 Steps) (loss=0.51944): 100%|██████████| 102/102 [02:29<00:00,  1.47s/it]\n",
      "Validate (16932 / 10 Steps): 100%|██████████| 25/25 [01:36<00:00,  3.85s/it]8<00:15,  2.13it/s]\n",
      "Training (17000 / 18000 Steps) (loss=0.57219):  68%|██████▊   | 69/102 [02:14<16:08, 29.36s/it]"
     ]
    },
    {
     "name": "stdout",
     "output_type": "stream",
     "text": [
      "Model Was Not Saved ! Current Best Avg. Dice: 0.4723123013973236 Current Avg. Dice: 0.4383835792541504 Current Avg. tumor Dice: 0.5328763127326965 Current Avg. lymph Dice: 0.30516499280929565\n"
     ]
    },
    {
     "name": "stderr",
     "output_type": "stream",
     "text": [
      "Training (17033 / 18000 Steps) (loss=0.42906): 100%|██████████| 102/102 [02:30<00:00,  1.47s/it]\n",
      "Validate (17034 / 10 Steps): 100%|██████████| 25/25 [01:35<00:00,  3.83s/it]6<00:17,  2.09it/s]\n",
      "Training (17100 / 18000 Steps) (loss=0.51635):  66%|██████▌   | 67/102 [02:12<17:01, 29.19s/it]"
     ]
    },
    {
     "name": "stdout",
     "output_type": "stream",
     "text": [
      "Model Was Not Saved ! Current Best Avg. Dice: 0.4723123013973236 Current Avg. Dice: 0.42139559984207153 Current Avg. tumor Dice: 0.5415539741516113 Current Avg. lymph Dice: 0.25440147519111633\n"
     ]
    },
    {
     "name": "stderr",
     "output_type": "stream",
     "text": [
      "Training (17135 / 18000 Steps) (loss=0.48530): 100%|██████████| 102/102 [02:29<00:00,  1.46s/it]\n",
      "Validate (17136 / 10 Steps): 100%|██████████| 25/25 [01:36<00:00,  3.86s/it]6<00:18,  2.07it/s]\n",
      "Training (17200 / 18000 Steps) (loss=0.57375):  64%|██████▎   | 65/102 [02:12<18:09, 29.45s/it]"
     ]
    },
    {
     "name": "stdout",
     "output_type": "stream",
     "text": [
      "Model Was Not Saved ! Current Best Avg. Dice: 0.4723123013973236 Current Avg. Dice: 0.45568519830703735 Current Avg. tumor Dice: 0.523831844329834 Current Avg. lymph Dice: 0.3601122498512268\n"
     ]
    },
    {
     "name": "stderr",
     "output_type": "stream",
     "text": [
      "Training (17237 / 18000 Steps) (loss=0.64267): 100%|██████████| 102/102 [02:30<00:00,  1.48s/it]\n",
      "Validate (17238 / 10 Steps): 100%|██████████| 25/25 [01:36<00:00,  3.85s/it]5<00:18,  2.11it/s]\n",
      "Training (17300 / 18000 Steps) (loss=0.46082):  62%|██████▏   | 63/102 [02:11<19:05, 29.36s/it]"
     ]
    },
    {
     "name": "stdout",
     "output_type": "stream",
     "text": [
      "Model Was Not Saved ! Current Best Avg. Dice: 0.4723123013973236 Current Avg. Dice: 0.418793648481369 Current Avg. tumor Dice: 0.44698140025138855 Current Avg. lymph Dice: 0.37139129638671875\n"
     ]
    },
    {
     "name": "stderr",
     "output_type": "stream",
     "text": [
      "Training (17339 / 18000 Steps) (loss=0.42356): 100%|██████████| 102/102 [02:30<00:00,  1.47s/it]\n",
      "Validate (17340 / 10 Steps): 100%|██████████| 25/25 [01:36<00:00,  3.85s/it]4<00:20,  2.03it/s]\n",
      "Training (17400 / 18000 Steps) (loss=0.66856):  60%|█████▉    | 61/102 [02:11<20:13, 29.61s/it]"
     ]
    },
    {
     "name": "stdout",
     "output_type": "stream",
     "text": [
      "Model Was Saved ! Current Best Avg. Dice: 0.490040123462677 Current Avg. Dice: 0.490040123462677 Current Avg. tumor Dice: 0.5563653707504272 Current Avg. lymph Dice: 0.38959383964538574\n"
     ]
    },
    {
     "name": "stderr",
     "output_type": "stream",
     "text": [
      "Training (17441 / 18000 Steps) (loss=0.44212): 100%|██████████| 102/102 [02:31<00:00,  1.49s/it]\n",
      "Validate (17442 / 10 Steps): 100%|██████████| 25/25 [01:36<00:00,  3.87s/it]3<00:23,  1.87it/s]\n",
      "Training (17500 / 18000 Steps) (loss=0.42462):  58%|█████▊    | 59/102 [02:10<21:11, 29.56s/it]"
     ]
    },
    {
     "name": "stdout",
     "output_type": "stream",
     "text": [
      "Model Was Not Saved ! Current Best Avg. Dice: 0.490040123462677 Current Avg. Dice: 0.46001651883125305 Current Avg. tumor Dice: 0.5357689261436462 Current Avg. lymph Dice: 0.34660694003105164\n"
     ]
    },
    {
     "name": "stderr",
     "output_type": "stream",
     "text": [
      "Training (17543 / 18000 Steps) (loss=0.39705): 100%|██████████| 102/102 [02:31<00:00,  1.49s/it]\n",
      "Validate (17544 / 10 Steps): 100%|██████████| 25/25 [01:36<00:00,  3.85s/it]3<00:23,  1.94it/s]\n",
      "Training (17600 / 18000 Steps) (loss=0.46195):  56%|█████▌    | 57/102 [02:09<22:04, 29.43s/it]"
     ]
    },
    {
     "name": "stdout",
     "output_type": "stream",
     "text": [
      "Model Was Not Saved ! Current Best Avg. Dice: 0.490040123462677 Current Avg. Dice: 0.39301159977912903 Current Avg. tumor Dice: 0.5233014822006226 Current Avg. lymph Dice: 0.21633094549179077\n"
     ]
    },
    {
     "name": "stderr",
     "output_type": "stream",
     "text": [
      "Training (17645 / 18000 Steps) (loss=0.34645): 100%|██████████| 102/102 [02:31<00:00,  1.48s/it]\n",
      "Validate (17646 / 10 Steps): 100%|██████████| 25/25 [01:35<00:00,  3.82s/it]1<00:22,  2.13it/s]\n",
      "Training (17700 / 18000 Steps) (loss=0.67628):  54%|█████▍    | 55/102 [02:07<22:50, 29.16s/it]"
     ]
    },
    {
     "name": "stdout",
     "output_type": "stream",
     "text": [
      "Model Was Not Saved ! Current Best Avg. Dice: 0.490040123462677 Current Avg. Dice: 0.45986276865005493 Current Avg. tumor Dice: 0.5469030141830444 Current Avg. lymph Dice: 0.33181291818618774\n"
     ]
    },
    {
     "name": "stderr",
     "output_type": "stream",
     "text": [
      "Training (17747 / 18000 Steps) (loss=0.49747): 100%|██████████| 102/102 [02:29<00:00,  1.47s/it]\n",
      "Validate (17748 / 10 Steps): 100%|██████████| 25/25 [01:36<00:00,  3.84s/it]0<00:23,  2.12it/s]\n",
      "Training (17800 / 18000 Steps) (loss=0.43480):  52%|█████▏    | 53/102 [02:06<23:55, 29.29s/it]"
     ]
    },
    {
     "name": "stdout",
     "output_type": "stream",
     "text": [
      "Model Was Not Saved ! Current Best Avg. Dice: 0.490040123462677 Current Avg. Dice: 0.4443463981151581 Current Avg. tumor Dice: 0.5435868501663208 Current Avg. lymph Dice: 0.30113422870635986\n"
     ]
    },
    {
     "name": "stderr",
     "output_type": "stream",
     "text": [
      "Training (17849 / 18000 Steps) (loss=0.40261): 100%|██████████| 102/102 [02:30<00:00,  1.47s/it]\n",
      "Validate (17850 / 10 Steps): 100%|██████████| 25/25 [01:36<00:00,  3.86s/it]0<00:30,  1.71it/s]\n",
      "Training (17900 / 18000 Steps) (loss=0.45790):  50%|█████     | 51/102 [02:06<25:06, 29.53s/it]"
     ]
    },
    {
     "name": "stdout",
     "output_type": "stream",
     "text": [
      "Model Was Not Saved ! Current Best Avg. Dice: 0.490040123462677 Current Avg. Dice: 0.419402539730072 Current Avg. tumor Dice: 0.5315666794776917 Current Avg. lymph Dice: 0.25921958684921265\n"
     ]
    },
    {
     "name": "stderr",
     "output_type": "stream",
     "text": [
      "Training (17951 / 18000 Steps) (loss=0.46176): 100%|██████████| 102/102 [02:31<00:00,  1.48s/it]\n",
      "Validate (17952 / 10 Steps): 100%|██████████| 25/25 [01:36<00:00,  3.85s/it]8<00:24,  2.17it/s]\n",
      "Training (18000 / 18000 Steps) (loss=0.53898):  48%|████▊     | 49/102 [02:05<25:58, 29.40s/it]"
     ]
    },
    {
     "name": "stdout",
     "output_type": "stream",
     "text": [
      "Model Was Not Saved ! Current Best Avg. Dice: 0.490040123462677 Current Avg. Dice: 0.4177093505859375 Current Avg. tumor Dice: 0.5393219590187073 Current Avg. lymph Dice: 0.2484728991985321\n"
     ]
    },
    {
     "name": "stderr",
     "output_type": "stream",
     "text": [
      "Training (18053 / 18000 Steps) (loss=0.31865): 100%|██████████| 102/102 [02:31<00:00,  1.48s/it]\n"
     ]
    }
   ],
   "source": [
    "epoch = 0 # used for LR scheduler\n",
    "max_num_epochs = 530 # used for LR scheduler\n",
    "\n",
    "\n",
    "while global_step < max_iterations:\n",
    "    global_step, dice_val_best, global_step_best = train(\n",
    "        global_step, train_loader, dice_val_best, global_step_best\n",
    "    )\n",
    "    epoch += 1\n",
    "    #optimizer.param_groups[0]['lr'] = poly_lr(epoch, max_num_epochs, 0.005676 , 0.9)\n",
    "# model.load_state_dict(torch.load(os.path.join(model_dir, \"best_metric_luck_UNETr_prompt.pth\")))"
   ]
  }
 ],
 "metadata": {
  "kernelspec": {
   "display_name": "clam",
   "language": "python",
   "name": "python3"
  },
  "language_info": {
   "codemirror_mode": {
    "name": "ipython",
    "version": 3
   },
   "file_extension": ".py",
   "mimetype": "text/x-python",
   "name": "python",
   "nbconvert_exporter": "python",
   "pygments_lexer": "ipython3",
   "version": "3.8.0"
  }
 },
 "nbformat": 4,
 "nbformat_minor": 2
}
