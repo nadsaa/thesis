{
 "cells": [
  {
   "cell_type": "code",
   "execution_count": 1,
   "metadata": {},
   "outputs": [
    {
     "name": "stdout",
     "output_type": "stream",
     "text": [
      "1\n"
     ]
    },
    {
     "name": "stderr",
     "output_type": "stream",
     "text": [
      "/tmp/ipykernel_1392040/3390658602.py:9: TqdmWarning: IProgress not found. Please update jupyter and ipywidgets. See https://ipywidgets.readthedocs.io/en/stable/user_install.html\n",
      "  from tqdm.autonotebook import tqdm\n"
     ]
    }
   ],
   "source": [
    "import torch\n",
    "import torch.nn as nn\n",
    "from torch.utils.data import DataLoader\n",
    "from collections.abc import Sequence\n",
    "\n",
    "from unetr import CustomedUNETR\n",
    "\n",
    "import json\n",
    "from tqdm.autonotebook import tqdm\n",
    "import os\n",
    "os.environ[\"CUDA_DEVICE_ORDER\"] = \"PCI_BUS_ID\"\n",
    "os.environ[\"CUDA_VISIBLE_DEVICES\"] = \"6\" \n",
    "\n",
    "print(torch.cuda.device_count())\n",
    "torch.backends.cudnn.benchmark = True\n",
    "device = torch.device(\"cuda\" if torch.cuda.is_available() else \"cpu\")"
   ]
  },
  {
   "cell_type": "code",
   "execution_count": 2,
   "metadata": {},
   "outputs": [],
   "source": [
    "from monai.transforms import EnsureTyped\n",
    "from monai.transforms import Compose, LoadImaged, ScaleIntensityRanged, ConcatItemsd\n",
    "from monai.metrics import DiceMetric\n",
    "from monai.losses import DiceCELoss, DiceFocalLoss, FocalLoss\n",
    "from monai.inferers import sliding_window_inference\n",
    "\n",
    "\n",
    "from monai.data import (\n",
    "    Dataset,\n",
    "    DataLoader,\n",
    "    CacheDataset,\n",
    "    load_decathlon_datalist,\n",
    "    decollate_batch,\n",
    ")\n",
    "\n",
    "\n",
    "from monai.transforms import (\n",
    "    AsDiscrete,\n",
    "    Compose,\n",
    "    CropForegroundd,\n",
    "    LoadImaged,\n",
    "    Orientationd,\n",
    "    RandFlipd,\n",
    "    RandCropByPosNegLabeld,\n",
    "    RandShiftIntensityd,\n",
    "    ScaleIntensityRanged,\n",
    "    Spacingd,\n",
    "    RandRotate90d,\n",
    "    MapTransform,\n",
    "    ScaleIntensityd,\n",
    "    #AddChanneld,\n",
    "    SpatialPadd,\n",
    "    CenterSpatialCropd,\n",
    "    EnsureChannelFirstd,\n",
    "    ConcatItemsd,\n",
    "    AdjustContrastd, \n",
    "    Rand3DElasticd,\n",
    "    HistogramNormalized,\n",
    "    NormalizeIntensityd,\n",
    "    Invertd,\n",
    "    SaveImage,\n",
    "\n",
    ")"
   ]
  },
  {
   "cell_type": "code",
   "execution_count": 3,
   "metadata": {},
   "outputs": [],
   "source": [
    "data_dir = '/home/nada.saadi/MIS-FM/hecktor2022_cropped'\n",
    "json_dir = '/home/nada.saadi/MIS-FM/hecktor2022_cropped/MDA_PET_train_new.json'"
   ]
  },
  {
   "cell_type": "code",
   "execution_count": 4,
   "metadata": {},
   "outputs": [],
   "source": [
    "def datafold_read(datalist, basedir, fold=0, key=\"training\"):\n",
    "    with open(datalist) as f:\n",
    "        json_data = json.load(f)\n",
    "\n",
    "    json_data = json_data[key]\n",
    "\n",
    "    for d in json_data:\n",
    "        for k in d:\n",
    "            if isinstance(d[k], list):\n",
    "                d[k] = [os.path.join(basedir, iv) for iv in d[k]]\n",
    "            elif isinstance(d[k], str):\n",
    "                d[k] = os.path.join(basedir, d[k]) if len(d[k]) > 0 else d[k]\n",
    "\n",
    "    tr = []\n",
    "    val = []\n",
    "    for d in json_data:\n",
    "        if \"fold\" in d and d[\"fold\"] == fold:\n",
    "            val.append(d)\n",
    "        else:\n",
    "            tr.append(d)\n",
    "\n",
    "    return tr, val"
   ]
  },
  {
   "cell_type": "code",
   "execution_count": 5,
   "metadata": {},
   "outputs": [
    {
     "data": {
      "text/plain": [
       "(160, 36)"
      ]
     },
     "execution_count": 5,
     "metadata": {},
     "output_type": "execute_result"
    }
   ],
   "source": [
    "train_data, valid_data = datafold_read(datalist=json_dir, basedir=data_dir, fold=0)\n",
    "len(train_data), len(valid_data)"
   ]
  },
  {
   "cell_type": "code",
   "execution_count": 6,
   "metadata": {},
   "outputs": [],
   "source": [
    "class ClipCT(MapTransform):\n",
    "    \"\"\"\n",
    "    Convert labels to multi channels based on hecktor classes:\n",
    "    label 1 is the tumor\n",
    "    label 2 is the lymph node\n",
    "\n",
    "    \"\"\"\n",
    "\n",
    "    def __call__(self, data):\n",
    "        d = dict(data)\n",
    "        for key in self.keys:\n",
    "            if key == \"ct\":\n",
    "                d[key] = torch.clip(d[key], min=-200, max=200)\n",
    "            # elif key == \"pt\":\n",
    "            #     d[key] = torch.clip(d[key], d[key].min(), 5)\n",
    "        return d\n",
    "\n",
    "class MulPTFM(MapTransform):\n",
    "    \"\"\"\n",
    "    Mult PT and FM \n",
    "\n",
    "    \"\"\"\n",
    "\n",
    "    def __call__(self, data):\n",
    "        d = dict(data)\n",
    "\n",
    "        fm = d[\"ct\"] > 0\n",
    "        d[\"pt\"] = d[\"pt\"] * fm\n",
    "        return d\n",
    "\n",
    "class SelectClass(MapTransform):\n",
    "    \"\"\"\n",
    "    Select the class for which you want to fine tune the model \n",
    "\n",
    "    \"\"\"\n",
    "    # def __init__(self, keys, cls=1):\n",
    "    #     super(self).__init__(keys)\n",
    "    #     self.cls = cls\n",
    "\n",
    "    def __call__(self, data):\n",
    "        d = dict(data)\n",
    "        d[\"seg\"][d[\"seg\"] == 1] = 0\n",
    "        # d[\"seg\"][d[\"seg\"] == 2] = 1\n",
    "        \n",
    "        return d"
   ]
  },
  {
   "cell_type": "code",
   "execution_count": 7,
   "metadata": {},
   "outputs": [],
   "source": [
    "num_samples = 4\n",
    "\n",
    "train_transforms = Compose(\n",
    "    [\n",
    "        LoadImaged(keys=[\"pt\", \"seg\"], ensure_channel_first = True),\n",
    "        SpatialPadd(keys=[\"pt\",  \"seg\"], spatial_size=(200, 200, 310), method='end'),\n",
    "        Orientationd(keys=[\"pt\",  \"seg\"], axcodes=\"PLS\"),\n",
    "        #NormalizeIntensityd(keys=[\"pt\"]),\n",
    "        ClipCT(keys=[\"pt\"]),\n",
    "        ScaleIntensityd(keys=[\"pt\"], minv=0, maxv=1),\n",
    "        #MulPTFM(keys=[\"ct\",\"pt\"]),\n",
    "        #ConcatItemsd(keys=[\"pt\", \"ct\"], name=\"ctpt\"),\n",
    "        #NormalizeIntensityd(keys=[\"ctpt\"], channel_wise=True),\n",
    "        RandCropByPosNegLabeld(\n",
    "            keys=[\"pt\", \"seg\"],\n",
    "            label_key=\"seg\",\n",
    "            spatial_size=(96, 96, 96),\n",
    "            pos=1,\n",
    "            neg=1,\n",
    "            num_samples=num_samples,\n",
    "            image_key=\"pt\",\n",
    "            image_threshold=0,\n",
    "        ),\n",
    "        RandFlipd(\n",
    "            keys=[\"pt\", \"seg\"],\n",
    "            spatial_axis=[0],\n",
    "            prob=0.20,\n",
    "        ),\n",
    "        RandFlipd(\n",
    "            keys=[\"pt\", \"seg\"],\n",
    "            spatial_axis=[1],\n",
    "            prob=0.20,\n",
    "        ),\n",
    "        RandFlipd(\n",
    "            keys=[\"pt\", \"seg\"],\n",
    "            spatial_axis=[2],\n",
    "            prob=0.20,\n",
    "        ),\n",
    "        RandRotate90d(\n",
    "            keys=[\"pt\", \"seg\"],\n",
    "            prob=0.20,\n",
    "            max_k=3,\n",
    "        ),\n",
    "    ]\n",
    ")\n",
    "val_transforms = Compose(\n",
    "    [\n",
    "        LoadImaged(keys=[\"pt\", \"seg\"], ensure_channel_first = True),\n",
    "        SpatialPadd(keys=[\"pt\", \"seg\"], spatial_size=(200, 200, 310), method='end'),\n",
    "        Orientationd(keys=[\"pt\",  \"seg\"], axcodes=\"PLS\"),\n",
    "        #NormalizeIntensityd(keys=[\"pt\"]),\n",
    "        ClipCT(keys=[\"pt\"]),\n",
    "        ScaleIntensityd(keys=[\"pt\"], minv=0, maxv=1),\n",
    "        #MulPTFM(keys=[\"ct\",\"pt\"]),\n",
    "        #ConcatItemsd(keys=[\"pt\", \"ct\"], name=\"ctpt\"),\n",
    "    ]\n",
    ")\n",
    "\n",
    "def create_dataloader(data, transforms, batch_size=2, shuffle=True):\n",
    "    # Create CacheDataset with the reformatted data\n",
    "    dataset = Dataset(data=data, transform=transforms)\n",
    "\n",
    "    # Create DataLoader\n",
    "    return DataLoader(dataset, batch_size=batch_size, shuffle=shuffle, num_workers=8)\n",
    "\n",
    "\n",
    "\n",
    "train_loader = create_dataloader(train_data, train_transforms, shuffle=True)\n",
    "val_loader = create_dataloader(valid_data, val_transforms, shuffle=False)"
   ]
  },
  {
   "cell_type": "code",
   "execution_count": 13,
   "metadata": {},
   "outputs": [
    {
     "name": "stdout",
     "output_type": "stream",
     "text": [
      "Nada's version of UNETR\n",
      "(96, 96, 96)\n",
      "(16, 16, 16)\n",
      "(6, 6, 6)\n",
      "768\n",
      "ana daba kandir ghir pet dial mda fjdid\n",
      "base_vit_dim 768\n"
     ]
    }
   ],
   "source": [
    "\n",
    "model = CustomedUNETR(\n",
    "    in_channels=1,\n",
    "    out_channels=3,\n",
    "    img_size=(96, 96, 96),\n",
    "    feature_size=48,\n",
    "    hidden_size=768,\n",
    "    num_heads=12,\n",
    "    mlp_dim=3072,\n",
    "    pos_embed=\"perceptron\",\n",
    "    norm_name=\"instance\",\n",
    "    res_block=True,\n",
    "    dropout_rate=0.0,\n",
    "    proj_type=\"conv\",\n",
    "    r=4,\n",
    "    lora_layer=None,\n",
    ").to(device)\n",
    "# Load the state_dict from a pretrained model with strict=False\n",
    "decoder_weights_path =  '/home/nada.saadi/CTPET/hecktor2022_cropped/Module1-4centers-CT-only-tokens/-module1-4centers-ctonly-tokens.pth'\n",
    "pretrained_model_state_dict = torch.load('/home/nada.saadi/CTPET/hecktor2022_cropped/Module1-4centers-CT-only-tokens/-module1-4centers-ctonly-tokens.pth')\n",
    "\n",
    "# Create a copy of the state_dict\n",
    "pretrained_model_state_dict_copy = pretrained_model_state_dict.copy()\n",
    "\n",
    "# Modify the state_dict\n",
    "for k, v in pretrained_model_state_dict.items():\n",
    "    if \"vit.\" in k:\n",
    "        pretrained_model_state_dict_copy[k.replace(\"vit.\", \"vit.lora_vit\")] = v\n",
    "        del pretrained_model_state_dict_copy[k]\n",
    "\n",
    "# Load the modified state_dict into the model\n",
    "model.load_state_dict(pretrained_model_state_dict_copy, strict=False)\n",
    "\n",
    "# Freeze decoder layers 2, 3, 4, and 5\n",
    "for name, param in model.named_parameters():\n",
    "    if \"decoder2\" in name or \"decoder3\" in name or \"decoder4\" in name or \"decoder5\" in name:\n",
    "        param.requires_grad = False\n",
    "    \n",
    "        # Make the self.out layer trainable\n",
    "        # for name, param in model.named_parameters():\n",
    "        #     if \"out\" in name:\n",
    "        #         param.requires_grad = True\n",
    "    "
   ]
  },
  {
   "cell_type": "code",
   "execution_count": 14,
   "metadata": {},
   "outputs": [],
   "source": [
    "def poly_lr(epoch, max_epochs, initial_lr, exponent=0.9):\n",
    "    return initial_lr * (1 - epoch / max_epochs)**exponent\n",
    "\n",
    "model_dir='/home/nada.saadi/CTPET/hecktor2022_cropped/module2-pettokens-decoderfrozen'\n",
    "\n",
    "max_iterations = 18000\n",
    "eval_num = 100\n",
    "\n",
    "## running stats\n",
    "global_step = 0\n",
    "dice_val_best = 0.0\n",
    "global_step_best = 0\n",
    "epoch_loss_values = []\n",
    "metric_values = []\n",
    "metric_values_tumor = []\n",
    "metric_values_lymph = []\n",
    "\n",
    "\n",
    "loss_function = DiceCELoss(to_onehot_y=True, softmax=True)\n",
    "optimizer = torch.optim.AdamW(model.parameters(), lr=1e-4, weight_decay=1e-5)\n",
    "\n",
    "\n",
    "post_label = AsDiscrete(to_onehot=3)\n",
    "post_pred = AsDiscrete(argmax=True, to_onehot=3)\n",
    "\n",
    "dice_metric = DiceMetric(include_background=False, reduction=\"mean\", get_not_nans=False)\n",
    "dice_metric_batch = DiceMetric(include_background=False, reduction=\"mean_batch\")\n",
    "\n",
    "\n",
    "##-----------------------------------------------------------------------------\n",
    "\n",
    "def validation(epoch_iterator_val):\n",
    "        model.eval()\n",
    "        with torch.no_grad():\n",
    "            for step, batch in enumerate(epoch_iterator_val):\n",
    "                val_inputs, val_labels = (batch[\"pt\"].cuda(), batch[\"seg\"].cuda())\n",
    "                val_outputs = sliding_window_inference(val_inputs, (96, 96, 96), 4, model)\n",
    "                val_labels_list = decollate_batch(val_labels)\n",
    "                val_labels_convert = [\n",
    "                    post_label(val_label_tensor) for val_label_tensor in val_labels_list\n",
    "                ]\n",
    "                val_outputs_list = decollate_batch(val_outputs)\n",
    "                val_output_convert = [\n",
    "                    post_pred(val_pred_tensor) for val_pred_tensor in val_outputs_list\n",
    "                ]\n",
    "                dice_metric(y_pred=val_output_convert, y=val_labels_convert)\n",
    "                dice_metric_batch(y_pred=val_output_convert, y=val_labels_convert)\n",
    "                epoch_iterator_val.set_description(\n",
    "                    \"Validate (%d / %d Steps)\" % (global_step, 10.0)\n",
    "                )\n",
    "            mean_dice_val = dice_metric.aggregate().item()\n",
    "            metric_batch_val = dice_metric_batch.aggregate()\n",
    "\n",
    "            metric_tumor = metric_batch_val[0].item()\n",
    "            metric_lymph = metric_batch_val[1].item()\n",
    "\n",
    "            dice_metric.reset()\n",
    "            dice_metric_batch.reset()\n",
    "        return mean_dice_val, metric_tumor, metric_lymph\n",
    "\n",
    "\n",
    "\n",
    "def train(global_step, train_loader, dice_val_best, global_step_best):\n",
    "        model.train()\n",
    "        epoch_loss = 0\n",
    "        step = 0\n",
    "        epoch_iterator = tqdm(\n",
    "            train_loader, desc=\"Training (X / X Steps) (loss=X.X)\", dynamic_ncols=True\n",
    "        )\n",
    "        \n",
    "        for step, batch in enumerate(epoch_iterator):\n",
    "            step += 1\n",
    "            x, y = (batch[\"pt\"].cuda(), batch[\"seg\"].cuda())\n",
    "            logit_map = model(x)\n",
    "            loss = loss_function(logit_map, y)\n",
    "            loss.backward()\n",
    "            epoch_loss += loss.item() \n",
    "            optimizer.step()\n",
    "            optimizer.zero_grad()\n",
    "            epoch_iterator.set_description(\n",
    "                \"Training (%d / %d Steps) (loss=%2.5f)\"\n",
    "                % (global_step, max_iterations, loss)\n",
    "            )\n",
    "            \n",
    "            if (\n",
    "                global_step % eval_num == 0 and global_step != 0\n",
    "            ) or global_step == max_iterations:\n",
    "                epoch_iterator_val = tqdm(\n",
    "                    val_loader, desc=\"Validate (X / X Steps) (dice=X.X)\", dynamic_ncols=True\n",
    "                )\n",
    "                dice_val, metric_tumor, metric_lymph = validation(epoch_iterator_val)\n",
    "                epoch_loss /= step\n",
    "                epoch_loss_values.append(epoch_loss)\n",
    "                metric_values.append(dice_val)\n",
    "                metric_values_tumor.append(metric_tumor)\n",
    "                metric_values_lymph.append(metric_lymph)\n",
    "                if dice_val > dice_val_best:\n",
    "                    dice_val_best = dice_val\n",
    "                    global_step_best = global_step\n",
    "                    torch.save(\n",
    "                        model.state_dict(), os.path.join(model_dir, \"m2-pettokens-decoderfrozen.pth\")\n",
    "                    )\n",
    "                    print(\n",
    "                        \"Model Was Saved ! Current Best Avg. Dice: {} Current Avg. Dice: {} Current Avg. tumor Dice: {} Current Avg. lymph Dice: {}\".format(\n",
    "                            dice_val_best, dice_val, metric_tumor, metric_lymph\n",
    "                        )\n",
    "                    )\n",
    "                else:\n",
    "                    print(\n",
    "                        \"Model Was Not Saved ! Current Best Avg. Dice: {} Current Avg. Dice: {} Current Avg. tumor Dice: {} Current Avg. lymph Dice: {}\".format(\n",
    "                            dice_val_best, dice_val,  metric_tumor, metric_lymph\n",
    "                        )\n",
    "                    )\n",
    "            global_step += 1\n",
    "        return global_step, dice_val_best, global_step_best"
   ]
  },
  {
   "cell_type": "code",
   "execution_count": 15,
   "metadata": {},
   "outputs": [
    {
     "name": "stderr",
     "output_type": "stream",
     "text": [
      "Training (79 / 18000 Steps) (loss=0.63522): 100%|██████████| 80/80 [01:42<00:00,  1.28s/it]\n",
      "Validate (80 / 10 Steps): 100%|██████████| 18/18 [01:06<00:00,  3.70s/it]4<01:05,  1.09s/it]\n",
      "Training (100 / 18000 Steps) (loss=0.65742):  26%|██▋       | 21/80 [01:32<21:07, 21.49s/it]"
     ]
    },
    {
     "name": "stdout",
     "output_type": "stream",
     "text": [
      "Model Was Saved ! Current Best Avg. Dice: 0.2631869912147522 Current Avg. Dice: 0.2631869912147522 Current Avg. tumor Dice: 0.3033995032310486 Current Avg. lymph Dice: 0.23479320108890533\n"
     ]
    },
    {
     "name": "stderr",
     "output_type": "stream",
     "text": [
      "Training (159 / 18000 Steps) (loss=0.61176): 100%|██████████| 80/80 [02:35<00:00,  1.95s/it]\n",
      "Validate (160 / 10 Steps): 100%|██████████| 18/18 [01:02<00:00,  3.46s/it]<00:41,  1.04s/it]\n",
      "Training (200 / 18000 Steps) (loss=0.50363):  51%|█████▏    | 41/80 [01:49<13:02, 20.07s/it]"
     ]
    },
    {
     "name": "stdout",
     "output_type": "stream",
     "text": [
      "Model Was Saved ! Current Best Avg. Dice: 0.32748621702194214 Current Avg. Dice: 0.32748621702194214 Current Avg. tumor Dice: 0.41986748576164246 Current Avg. lymph Dice: 0.2370232343673706\n"
     ]
    },
    {
     "name": "stderr",
     "output_type": "stream",
     "text": [
      "Training (239 / 18000 Steps) (loss=0.73422): 100%|██████████| 80/80 [02:30<00:00,  1.89s/it]\n",
      "Validate (240 / 10 Steps): 100%|██████████| 18/18 [01:02<00:00,  3.47s/it]<00:21,  1.08s/it]\n",
      "Training (300 / 18000 Steps) (loss=0.58864):  76%|███████▋  | 61/80 [02:10<06:21, 20.08s/it]"
     ]
    },
    {
     "name": "stdout",
     "output_type": "stream",
     "text": [
      "Model Was Saved ! Current Best Avg. Dice: 0.4415684938430786 Current Avg. Dice: 0.4415684938430786 Current Avg. tumor Dice: 0.4921911060810089 Current Avg. lymph Dice: 0.409917414188385\n"
     ]
    },
    {
     "name": "stderr",
     "output_type": "stream",
     "text": [
      "Training (319 / 18000 Steps) (loss=0.49856): 100%|██████████| 80/80 [02:30<00:00,  1.88s/it]\n",
      "Training (399 / 18000 Steps) (loss=0.64605): 100%|██████████| 80/80 [01:27<00:00,  1.09s/it]\n",
      "Validate (400 / 10 Steps): 100%|██████████| 18/18 [01:02<00:00,  3.48s/it]?, ?it/s]\n",
      "Training (400 / 18000 Steps) (loss=0.54420):   1%|▏         | 1/80 [01:06<1:27:30, 66.47s/it]"
     ]
    },
    {
     "name": "stdout",
     "output_type": "stream",
     "text": [
      "Model Was Not Saved ! Current Best Avg. Dice: 0.4415684938430786 Current Avg. Dice: 0.42320144176483154 Current Avg. tumor Dice: 0.497564435005188 Current Avg. lymph Dice: 0.35703805088996887\n"
     ]
    },
    {
     "name": "stderr",
     "output_type": "stream",
     "text": [
      "Training (479 / 18000 Steps) (loss=0.55898): 100%|██████████| 80/80 [02:30<00:00,  1.88s/it] \n",
      "Validate (480 / 10 Steps): 100%|██████████| 18/18 [01:02<00:00,  3.46s/it]<01:03,  1.06s/it]\n",
      "Training (500 / 18000 Steps) (loss=0.53570):  26%|██▋       | 21/80 [01:28<19:41, 20.03s/it]"
     ]
    },
    {
     "name": "stdout",
     "output_type": "stream",
     "text": [
      "Model Was Saved ! Current Best Avg. Dice: 0.4892828166484833 Current Avg. Dice: 0.4892828166484833 Current Avg. tumor Dice: 0.5345382690429688 Current Avg. lymph Dice: 0.4673123359680176\n"
     ]
    },
    {
     "name": "stderr",
     "output_type": "stream",
     "text": [
      "Training (559 / 18000 Steps) (loss=0.68891): 100%|██████████| 80/80 [02:30<00:00,  1.88s/it]\n",
      "Validate (560 / 10 Steps): 100%|██████████| 18/18 [01:02<00:00,  3.46s/it]<00:41,  1.04s/it]\n",
      "Training (600 / 18000 Steps) (loss=0.61645):  51%|█████▏    | 41/80 [01:49<13:03, 20.08s/it]"
     ]
    },
    {
     "name": "stdout",
     "output_type": "stream",
     "text": [
      "Model Was Saved ! Current Best Avg. Dice: 0.5043342113494873 Current Avg. Dice: 0.5043342113494873 Current Avg. tumor Dice: 0.5691912770271301 Current Avg. lymph Dice: 0.451410710811615\n"
     ]
    },
    {
     "name": "stderr",
     "output_type": "stream",
     "text": [
      "Training (639 / 18000 Steps) (loss=0.57127): 100%|██████████| 80/80 [02:30<00:00,  1.88s/it]\n",
      "Validate (640 / 10 Steps): 100%|██████████| 18/18 [01:02<00:00,  3.46s/it]<00:20,  1.05s/it]\n",
      "Training (700 / 18000 Steps) (loss=0.73701):  76%|███████▋  | 61/80 [02:09<06:14, 19.72s/it]"
     ]
    },
    {
     "name": "stdout",
     "output_type": "stream",
     "text": [
      "Model Was Not Saved ! Current Best Avg. Dice: 0.5043342113494873 Current Avg. Dice: 0.4789735972881317 Current Avg. tumor Dice: 0.5273938179016113 Current Avg. lymph Dice: 0.45217978954315186\n"
     ]
    },
    {
     "name": "stderr",
     "output_type": "stream",
     "text": [
      "Training (719 / 18000 Steps) (loss=0.54570): 100%|██████████| 80/80 [02:29<00:00,  1.87s/it]\n",
      "Training (799 / 18000 Steps) (loss=0.44157): 100%|██████████| 80/80 [01:27<00:00,  1.10s/it]\n",
      "Validate (800 / 10 Steps): 100%|██████████| 18/18 [01:02<00:00,  3.46s/it]?, ?it/s]\n",
      "Training (800 / 18000 Steps) (loss=0.54226):   1%|▏         | 1/80 [01:07<1:28:18, 67.08s/it]"
     ]
    },
    {
     "name": "stdout",
     "output_type": "stream",
     "text": [
      "Model Was Saved ! Current Best Avg. Dice: 0.5047789216041565 Current Avg. Dice: 0.5047789216041565 Current Avg. tumor Dice: 0.555030345916748 Current Avg. lymph Dice: 0.4762082099914551\n"
     ]
    },
    {
     "name": "stderr",
     "output_type": "stream",
     "text": [
      "Training (879 / 18000 Steps) (loss=0.51480): 100%|██████████| 80/80 [02:31<00:00,  1.89s/it] \n",
      "Validate (880 / 10 Steps): 100%|██████████| 18/18 [01:02<00:00,  3.46s/it]<01:05,  1.08s/it]\n",
      "Training (900 / 18000 Steps) (loss=0.50817):  26%|██▋       | 21/80 [01:28<19:42, 20.05s/it]"
     ]
    },
    {
     "name": "stdout",
     "output_type": "stream",
     "text": [
      "Model Was Saved ! Current Best Avg. Dice: 0.5168843269348145 Current Avg. Dice: 0.5168843269348145 Current Avg. tumor Dice: 0.5726678967475891 Current Avg. lymph Dice: 0.4847113788127899\n"
     ]
    },
    {
     "name": "stderr",
     "output_type": "stream",
     "text": [
      "Training (959 / 18000 Steps) (loss=0.64909): 100%|██████████| 80/80 [02:30<00:00,  1.88s/it]\n",
      "Validate (960 / 10 Steps): 100%|██████████| 18/18 [01:02<00:00,  3.47s/it]6<00:41,  1.05s/it]\n",
      "Training (1000 / 18000 Steps) (loss=0.63242):  51%|█████▏    | 41/80 [01:49<13:01, 20.05s/it]"
     ]
    },
    {
     "name": "stdout",
     "output_type": "stream",
     "text": [
      "Model Was Saved ! Current Best Avg. Dice: 0.5184366106987 Current Avg. Dice: 0.5184366106987 Current Avg. tumor Dice: 0.5549216270446777 Current Avg. lymph Dice: 0.5052341222763062\n"
     ]
    },
    {
     "name": "stderr",
     "output_type": "stream",
     "text": [
      "Training (1039 / 18000 Steps) (loss=0.56432): 100%|██████████| 80/80 [02:31<00:00,  1.90s/it]\n",
      "Validate (1040 / 10 Steps): 100%|██████████| 18/18 [01:02<00:00,  3.45s/it]<00:21,  1.05s/it]\n",
      "Training (1100 / 18000 Steps) (loss=0.49665):  76%|███████▋  | 61/80 [02:09<06:14, 19.70s/it]"
     ]
    },
    {
     "name": "stdout",
     "output_type": "stream",
     "text": [
      "Model Was Not Saved ! Current Best Avg. Dice: 0.5184366106987 Current Avg. Dice: 0.5040174126625061 Current Avg. tumor Dice: 0.5700187683105469 Current Avg. lymph Dice: 0.45337995886802673\n"
     ]
    },
    {
     "name": "stderr",
     "output_type": "stream",
     "text": [
      "Training (1119 / 18000 Steps) (loss=0.57024): 100%|██████████| 80/80 [02:29<00:00,  1.87s/it]\n",
      "Training (1199 / 18000 Steps) (loss=0.68643): 100%|██████████| 80/80 [01:27<00:00,  1.09s/it]\n",
      "Validate (1200 / 10 Steps): 100%|██████████| 18/18 [01:02<00:00,  3.45s/it]?, ?it/s]\n",
      "Training (1200 / 18000 Steps) (loss=0.67602):   1%|▏         | 1/80 [01:05<1:26:33, 65.74s/it]"
     ]
    },
    {
     "name": "stdout",
     "output_type": "stream",
     "text": [
      "Model Was Not Saved ! Current Best Avg. Dice: 0.5184366106987 Current Avg. Dice: 0.5153511762619019 Current Avg. tumor Dice: 0.554927408695221 Current Avg. lymph Dice: 0.4943559765815735\n"
     ]
    },
    {
     "name": "stderr",
     "output_type": "stream",
     "text": [
      "Training (1279 / 18000 Steps) (loss=0.65565): 100%|██████████| 80/80 [02:30<00:00,  1.88s/it] \n",
      "Validate (1280 / 10 Steps): 100%|██████████| 18/18 [01:02<00:00,  3.45s/it]<01:03,  1.05s/it]\n",
      "Training (1300 / 18000 Steps) (loss=0.63742):  26%|██▋       | 21/80 [01:28<19:38, 19.97s/it]"
     ]
    },
    {
     "name": "stdout",
     "output_type": "stream",
     "text": [
      "Model Was Saved ! Current Best Avg. Dice: 0.5318348407745361 Current Avg. Dice: 0.5318348407745361 Current Avg. tumor Dice: 0.5895335078239441 Current Avg. lymph Dice: 0.48998966813087463\n"
     ]
    },
    {
     "name": "stderr",
     "output_type": "stream",
     "text": [
      "Training (1359 / 18000 Steps) (loss=0.55454): 100%|██████████| 80/80 [02:30<00:00,  1.89s/it]\n",
      "Validate (1360 / 10 Steps): 100%|██████████| 18/18 [01:02<00:00,  3.48s/it]<00:42,  1.05s/it]\n",
      "Training (1400 / 18000 Steps) (loss=0.60724):  51%|█████▏    | 41/80 [01:48<12:55, 19.89s/it]"
     ]
    },
    {
     "name": "stdout",
     "output_type": "stream",
     "text": [
      "Model Was Not Saved ! Current Best Avg. Dice: 0.5318348407745361 Current Avg. Dice: 0.4919580817222595 Current Avg. tumor Dice: 0.5605916976928711 Current Avg. lymph Dice: 0.4395478069782257\n"
     ]
    },
    {
     "name": "stderr",
     "output_type": "stream",
     "text": [
      "Training (1439 / 18000 Steps) (loss=0.61516): 100%|██████████| 80/80 [02:30<00:00,  1.88s/it]\n",
      "Validate (1440 / 10 Steps): 100%|██████████| 18/18 [01:02<00:00,  3.47s/it]<00:21,  1.07s/it]\n",
      "Training (1500 / 18000 Steps) (loss=0.45604):  76%|███████▋  | 61/80 [02:10<06:16, 19.80s/it]"
     ]
    },
    {
     "name": "stdout",
     "output_type": "stream",
     "text": [
      "Model Was Not Saved ! Current Best Avg. Dice: 0.5318348407745361 Current Avg. Dice: 0.5287596583366394 Current Avg. tumor Dice: 0.5633105635643005 Current Avg. lymph Dice: 0.5174018740653992\n"
     ]
    },
    {
     "name": "stderr",
     "output_type": "stream",
     "text": [
      "Training (1519 / 18000 Steps) (loss=0.40970): 100%|██████████| 80/80 [02:31<00:00,  1.89s/it]\n",
      "Training (1599 / 18000 Steps) (loss=0.42358): 100%|██████████| 80/80 [01:27<00:00,  1.09s/it]\n",
      "Validate (1600 / 10 Steps): 100%|██████████| 18/18 [01:02<00:00,  3.46s/it]?, ?it/s]\n",
      "Training (1600 / 18000 Steps) (loss=0.59688):   1%|▏         | 1/80 [01:06<1:28:10, 66.97s/it]"
     ]
    },
    {
     "name": "stdout",
     "output_type": "stream",
     "text": [
      "Model Was Saved ! Current Best Avg. Dice: 0.5329759120941162 Current Avg. Dice: 0.5329759120941162 Current Avg. tumor Dice: 0.5778056979179382 Current Avg. lymph Dice: 0.5088443160057068\n"
     ]
    },
    {
     "name": "stderr",
     "output_type": "stream",
     "text": [
      "Training (1679 / 18000 Steps) (loss=0.52680): 100%|██████████| 80/80 [02:30<00:00,  1.88s/it] \n",
      "Validate (1680 / 10 Steps): 100%|██████████| 18/18 [01:02<00:00,  3.46s/it]<01:04,  1.08s/it]\n",
      "Training (1700 / 18000 Steps) (loss=0.53135):  26%|██▋       | 21/80 [01:28<19:42, 20.04s/it]"
     ]
    },
    {
     "name": "stdout",
     "output_type": "stream",
     "text": [
      "Model Was Saved ! Current Best Avg. Dice: 0.5352016091346741 Current Avg. Dice: 0.5352016091346741 Current Avg. tumor Dice: 0.5650385022163391 Current Avg. lymph Dice: 0.5283316373825073\n"
     ]
    },
    {
     "name": "stderr",
     "output_type": "stream",
     "text": [
      "Training (1759 / 18000 Steps) (loss=0.56660): 100%|██████████| 80/80 [02:31<00:00,  1.89s/it]\n",
      "Validate (1760 / 10 Steps): 100%|██████████| 18/18 [01:02<00:00,  3.46s/it]<00:41,  1.04s/it]\n",
      "Training (1800 / 18000 Steps) (loss=0.59345):  51%|█████▏    | 41/80 [01:49<13:02, 20.06s/it]"
     ]
    },
    {
     "name": "stdout",
     "output_type": "stream",
     "text": [
      "Model Was Saved ! Current Best Avg. Dice: 0.5438302159309387 Current Avg. Dice: 0.5438302159309387 Current Avg. tumor Dice: 0.5910682082176208 Current Avg. lymph Dice: 0.5190658569335938\n"
     ]
    },
    {
     "name": "stderr",
     "output_type": "stream",
     "text": [
      "Training (1839 / 18000 Steps) (loss=0.60214): 100%|██████████| 80/80 [02:31<00:00,  1.89s/it]\n",
      "Validate (1840 / 10 Steps): 100%|██████████| 18/18 [01:02<00:00,  3.46s/it]<00:21,  1.07s/it]\n",
      "Training (1900 / 18000 Steps) (loss=0.57403):  76%|███████▋  | 61/80 [02:10<06:15, 19.77s/it]"
     ]
    },
    {
     "name": "stdout",
     "output_type": "stream",
     "text": [
      "Model Was Not Saved ! Current Best Avg. Dice: 0.5438302159309387 Current Avg. Dice: 0.5346915125846863 Current Avg. tumor Dice: 0.5771188139915466 Current Avg. lymph Dice: 0.5185794830322266\n"
     ]
    },
    {
     "name": "stderr",
     "output_type": "stream",
     "text": [
      "Training (1919 / 18000 Steps) (loss=0.51221): 100%|██████████| 80/80 [02:30<00:00,  1.88s/it]\n",
      "Training (1999 / 18000 Steps) (loss=0.53331): 100%|██████████| 80/80 [01:28<00:00,  1.10s/it]\n",
      "Validate (2000 / 10 Steps): 100%|██████████| 18/18 [01:02<00:00,  3.46s/it]?, ?it/s]\n",
      "Training (2000 / 18000 Steps) (loss=0.41564):   1%|▏         | 1/80 [01:07<1:28:24, 67.14s/it]"
     ]
    },
    {
     "name": "stdout",
     "output_type": "stream",
     "text": [
      "Model Was Saved ! Current Best Avg. Dice: 0.5590572357177734 Current Avg. Dice: 0.5590572357177734 Current Avg. tumor Dice: 0.6020103693008423 Current Avg. lymph Dice: 0.5416074991226196\n"
     ]
    },
    {
     "name": "stderr",
     "output_type": "stream",
     "text": [
      "Training (2079 / 18000 Steps) (loss=0.55642): 100%|██████████| 80/80 [02:31<00:00,  1.89s/it] \n",
      "Validate (2080 / 10 Steps): 100%|██████████| 18/18 [01:02<00:00,  3.48s/it]<01:03,  1.06s/it]\n",
      "Training (2100 / 18000 Steps) (loss=0.52988):  26%|██▋       | 21/80 [01:27<19:33, 19.89s/it]"
     ]
    },
    {
     "name": "stdout",
     "output_type": "stream",
     "text": [
      "Model Was Not Saved ! Current Best Avg. Dice: 0.5590572357177734 Current Avg. Dice: 0.5426794290542603 Current Avg. tumor Dice: 0.5821909308433533 Current Avg. lymph Dice: 0.5269577503204346\n"
     ]
    },
    {
     "name": "stderr",
     "output_type": "stream",
     "text": [
      "Training (2159 / 18000 Steps) (loss=0.52911): 100%|██████████| 80/80 [02:31<00:00,  1.89s/it]\n",
      "Validate (2160 / 10 Steps): 100%|██████████| 18/18 [01:02<00:00,  3.46s/it]<00:41,  1.04s/it]\n",
      "Training (2200 / 18000 Steps) (loss=0.60821):  51%|█████▏    | 41/80 [01:48<12:54, 19.86s/it]"
     ]
    },
    {
     "name": "stdout",
     "output_type": "stream",
     "text": [
      "Model Was Not Saved ! Current Best Avg. Dice: 0.5590572357177734 Current Avg. Dice: 0.5447986721992493 Current Avg. tumor Dice: 0.583409309387207 Current Avg. lymph Dice: 0.5307785868644714\n"
     ]
    },
    {
     "name": "stderr",
     "output_type": "stream",
     "text": [
      "Training (2239 / 18000 Steps) (loss=0.48242): 100%|██████████| 80/80 [02:30<00:00,  1.88s/it]\n",
      "Validate (2240 / 10 Steps): 100%|██████████| 18/18 [01:02<00:00,  3.47s/it]<00:21,  1.08s/it]\n",
      "Training (2300 / 18000 Steps) (loss=0.43854):  76%|███████▋  | 61/80 [02:11<06:22, 20.12s/it]"
     ]
    },
    {
     "name": "stdout",
     "output_type": "stream",
     "text": [
      "Model Was Saved ! Current Best Avg. Dice: 0.5625256299972534 Current Avg. Dice: 0.5625256299972534 Current Avg. tumor Dice: 0.6012351512908936 Current Avg. lymph Dice: 0.547457218170166\n"
     ]
    },
    {
     "name": "stderr",
     "output_type": "stream",
     "text": [
      "Training (2319 / 18000 Steps) (loss=0.50806): 100%|██████████| 80/80 [02:31<00:00,  1.89s/it]\n",
      "Training (2399 / 18000 Steps) (loss=0.56173): 100%|██████████| 80/80 [01:27<00:00,  1.09s/it]\n",
      "Validate (2400 / 10 Steps): 100%|██████████| 18/18 [01:02<00:00,  3.48s/it]?, ?it/s]\n",
      "Training (2400 / 18000 Steps) (loss=0.50232):   1%|▏         | 1/80 [01:06<1:27:15, 66.27s/it]"
     ]
    },
    {
     "name": "stdout",
     "output_type": "stream",
     "text": [
      "Model Was Not Saved ! Current Best Avg. Dice: 0.5625256299972534 Current Avg. Dice: 0.556904673576355 Current Avg. tumor Dice: 0.5985985994338989 Current Avg. lymph Dice: 0.5397761464118958\n"
     ]
    },
    {
     "name": "stderr",
     "output_type": "stream",
     "text": [
      "Training (2479 / 18000 Steps) (loss=0.45649): 100%|██████████| 80/80 [02:31<00:00,  1.90s/it] \n",
      "Validate (2480 / 10 Steps): 100%|██████████| 18/18 [01:02<00:00,  3.47s/it]<01:04,  1.07s/it]\n",
      "Training (2500 / 18000 Steps) (loss=0.54640):  26%|██▋       | 21/80 [01:27<19:29, 19.82s/it]"
     ]
    },
    {
     "name": "stdout",
     "output_type": "stream",
     "text": [
      "Model Was Not Saved ! Current Best Avg. Dice: 0.5625256299972534 Current Avg. Dice: 0.5609461665153503 Current Avg. tumor Dice: 0.6018307209014893 Current Avg. lymph Dice: 0.5447301864624023\n"
     ]
    },
    {
     "name": "stderr",
     "output_type": "stream",
     "text": [
      "Training (2559 / 18000 Steps) (loss=0.49500): 100%|██████████| 80/80 [02:31<00:00,  1.89s/it]\n",
      "Validate (2560 / 10 Steps): 100%|██████████| 18/18 [01:02<00:00,  3.47s/it]<00:42,  1.05s/it]\n",
      "Training (2600 / 18000 Steps) (loss=0.48719):  51%|█████▏    | 41/80 [01:48<12:54, 19.85s/it]"
     ]
    },
    {
     "name": "stdout",
     "output_type": "stream",
     "text": [
      "Model Was Not Saved ! Current Best Avg. Dice: 0.5625256299972534 Current Avg. Dice: 0.5543210506439209 Current Avg. tumor Dice: 0.5971240401268005 Current Avg. lymph Dice: 0.5370702743530273\n"
     ]
    },
    {
     "name": "stderr",
     "output_type": "stream",
     "text": [
      "Training (2639 / 18000 Steps) (loss=0.38107): 100%|██████████| 80/80 [02:30<00:00,  1.88s/it]\n",
      "Validate (2640 / 10 Steps): 100%|██████████| 18/18 [01:02<00:00,  3.48s/it]<00:21,  1.07s/it]\n",
      "Training (2700 / 18000 Steps) (loss=0.47499):  76%|███████▋  | 61/80 [02:10<06:17, 19.89s/it]"
     ]
    },
    {
     "name": "stdout",
     "output_type": "stream",
     "text": [
      "Model Was Not Saved ! Current Best Avg. Dice: 0.5625256299972534 Current Avg. Dice: 0.5622633695602417 Current Avg. tumor Dice: 0.6099490523338318 Current Avg. lymph Dice: 0.5348311066627502\n"
     ]
    },
    {
     "name": "stderr",
     "output_type": "stream",
     "text": [
      "Training (2719 / 18000 Steps) (loss=0.45626): 100%|██████████| 80/80 [02:31<00:00,  1.89s/it]\n",
      "Training (2799 / 18000 Steps) (loss=0.58254): 100%|██████████| 80/80 [01:28<00:00,  1.10s/it]\n",
      "Validate (2800 / 10 Steps): 100%|██████████| 18/18 [01:02<00:00,  3.50s/it]?, ?it/s]\n",
      "Training (2800 / 18000 Steps) (loss=0.40627):   1%|▏         | 1/80 [01:06<1:27:44, 66.64s/it]"
     ]
    },
    {
     "name": "stdout",
     "output_type": "stream",
     "text": [
      "Model Was Not Saved ! Current Best Avg. Dice: 0.5625256299972534 Current Avg. Dice: 0.5617038607597351 Current Avg. tumor Dice: 0.6018545627593994 Current Avg. lymph Dice: 0.5447196364402771\n"
     ]
    },
    {
     "name": "stderr",
     "output_type": "stream",
     "text": [
      "Training (2879 / 18000 Steps) (loss=0.55784): 100%|██████████| 80/80 [02:31<00:00,  1.89s/it] \n",
      "Validate (2880 / 10 Steps): 100%|██████████| 18/18 [01:03<00:00,  3.52s/it]<01:04,  1.07s/it]\n",
      "Training (2900 / 18000 Steps) (loss=0.45936):  26%|██▋       | 21/80 [01:28<19:46, 20.10s/it]"
     ]
    },
    {
     "name": "stdout",
     "output_type": "stream",
     "text": [
      "Model Was Not Saved ! Current Best Avg. Dice: 0.5625256299972534 Current Avg. Dice: 0.5487589240074158 Current Avg. tumor Dice: 0.5770254731178284 Current Avg. lymph Dice: 0.5435715317726135\n"
     ]
    },
    {
     "name": "stderr",
     "output_type": "stream",
     "text": [
      "Training (2959 / 18000 Steps) (loss=0.46711): 100%|██████████| 80/80 [02:31<00:00,  1.89s/it]\n",
      "Validate (2960 / 10 Steps): 100%|██████████| 18/18 [01:02<00:00,  3.47s/it]<00:42,  1.06s/it]\n",
      "Training (3000 / 18000 Steps) (loss=0.50850):  51%|█████▏    | 41/80 [01:49<12:55, 19.88s/it]"
     ]
    },
    {
     "name": "stdout",
     "output_type": "stream",
     "text": [
      "Model Was Not Saved ! Current Best Avg. Dice: 0.5625256299972534 Current Avg. Dice: 0.5524855852127075 Current Avg. tumor Dice: 0.5756869316101074 Current Avg. lymph Dice: 0.5514440536499023\n"
     ]
    },
    {
     "name": "stderr",
     "output_type": "stream",
     "text": [
      "Training (3039 / 18000 Steps) (loss=0.59116): 100%|██████████| 80/80 [02:30<00:00,  1.88s/it]\n",
      "Validate (3040 / 10 Steps): 100%|██████████| 18/18 [01:02<00:00,  3.47s/it]<00:21,  1.06s/it]\n",
      "Training (3100 / 18000 Steps) (loss=0.52872):  76%|███████▋  | 61/80 [02:10<06:21, 20.08s/it]"
     ]
    },
    {
     "name": "stdout",
     "output_type": "stream",
     "text": [
      "Model Was Saved ! Current Best Avg. Dice: 0.5683697462081909 Current Avg. Dice: 0.5683697462081909 Current Avg. tumor Dice: 0.5973598957061768 Current Avg. lymph Dice: 0.5628844499588013\n"
     ]
    },
    {
     "name": "stderr",
     "output_type": "stream",
     "text": [
      "Training (3119 / 18000 Steps) (loss=0.49824): 100%|██████████| 80/80 [02:31<00:00,  1.89s/it]\n",
      "Training (3199 / 18000 Steps) (loss=0.45343): 100%|██████████| 80/80 [01:27<00:00,  1.10s/it]\n",
      "Validate (3200 / 10 Steps): 100%|██████████| 18/18 [01:02<00:00,  3.46s/it]?, ?it/s]\n",
      "Training (3200 / 18000 Steps) (loss=0.39464):   1%|▏         | 1/80 [01:05<1:26:43, 65.86s/it]"
     ]
    },
    {
     "name": "stdout",
     "output_type": "stream",
     "text": [
      "Model Was Not Saved ! Current Best Avg. Dice: 0.5683697462081909 Current Avg. Dice: 0.5582923293113708 Current Avg. tumor Dice: 0.5919257998466492 Current Avg. lymph Dice: 0.5502444505691528\n"
     ]
    },
    {
     "name": "stderr",
     "output_type": "stream",
     "text": [
      "Training (3279 / 18000 Steps) (loss=0.56405): 100%|██████████| 80/80 [02:29<00:00,  1.87s/it] \n",
      "Validate (3280 / 10 Steps): 100%|██████████| 18/18 [01:02<00:00,  3.48s/it]<01:05,  1.09s/it]\n",
      "Training (3300 / 18000 Steps) (loss=0.52751):  26%|██▋       | 21/80 [01:28<19:49, 20.16s/it]"
     ]
    },
    {
     "name": "stdout",
     "output_type": "stream",
     "text": [
      "Model Was Saved ! Current Best Avg. Dice: 0.5727088451385498 Current Avg. Dice: 0.5727088451385498 Current Avg. tumor Dice: 0.6089692115783691 Current Avg. lymph Dice: 0.5597240328788757\n"
     ]
    },
    {
     "name": "stderr",
     "output_type": "stream",
     "text": [
      "Training (3359 / 18000 Steps) (loss=0.41145): 100%|██████████| 80/80 [02:31<00:00,  1.89s/it]\n",
      "Validate (3360 / 10 Steps): 100%|██████████| 18/18 [01:02<00:00,  3.47s/it]<00:41,  1.05s/it]\n",
      "Training (3400 / 18000 Steps) (loss=0.52754):  51%|█████▏    | 41/80 [01:48<12:52, 19.80s/it]"
     ]
    },
    {
     "name": "stdout",
     "output_type": "stream",
     "text": [
      "Model Was Not Saved ! Current Best Avg. Dice: 0.5727088451385498 Current Avg. Dice: 0.5447353720664978 Current Avg. tumor Dice: 0.5596691966056824 Current Avg. lymph Dice: 0.549081027507782\n"
     ]
    },
    {
     "name": "stderr",
     "output_type": "stream",
     "text": [
      "Training (3439 / 18000 Steps) (loss=0.41053): 100%|██████████| 80/80 [02:30<00:00,  1.88s/it]\n",
      "Validate (3440 / 10 Steps): 100%|██████████| 18/18 [01:02<00:00,  3.46s/it]<00:21,  1.05s/it]\n",
      "Training (3500 / 18000 Steps) (loss=0.42278):  76%|███████▋  | 61/80 [02:10<06:15, 19.77s/it]"
     ]
    },
    {
     "name": "stdout",
     "output_type": "stream",
     "text": [
      "Model Was Not Saved ! Current Best Avg. Dice: 0.5727088451385498 Current Avg. Dice: 0.555618405342102 Current Avg. tumor Dice: 0.5839716196060181 Current Avg. lymph Dice: 0.5483080148696899\n"
     ]
    },
    {
     "name": "stderr",
     "output_type": "stream",
     "text": [
      "Training (3519 / 18000 Steps) (loss=0.55491): 100%|██████████| 80/80 [02:30<00:00,  1.88s/it]\n",
      "Training (3599 / 18000 Steps) (loss=0.47998): 100%|██████████| 80/80 [01:27<00:00,  1.09s/it]\n",
      "Validate (3600 / 10 Steps): 100%|██████████| 18/18 [01:02<00:00,  3.46s/it]?, ?it/s]\n",
      "Training (3600 / 18000 Steps) (loss=0.53750):   1%|▏         | 1/80 [01:06<1:27:03, 66.12s/it]"
     ]
    },
    {
     "name": "stdout",
     "output_type": "stream",
     "text": [
      "Model Was Not Saved ! Current Best Avg. Dice: 0.5727088451385498 Current Avg. Dice: 0.5594292283058167 Current Avg. tumor Dice: 0.5967171788215637 Current Avg. lymph Dice: 0.543890655040741\n"
     ]
    },
    {
     "name": "stderr",
     "output_type": "stream",
     "text": [
      "Training (3679 / 18000 Steps) (loss=0.61232): 100%|██████████| 80/80 [02:30<00:00,  1.88s/it] \n",
      "Validate (3680 / 10 Steps): 100%|██████████| 18/18 [01:02<00:00,  3.46s/it]<01:03,  1.06s/it]\n",
      "Training (3700 / 18000 Steps) (loss=0.46533):  26%|██▋       | 21/80 [01:27<19:29, 19.82s/it]"
     ]
    },
    {
     "name": "stdout",
     "output_type": "stream",
     "text": [
      "Model Was Not Saved ! Current Best Avg. Dice: 0.5727088451385498 Current Avg. Dice: 0.5696753859519958 Current Avg. tumor Dice: 0.6104341745376587 Current Avg. lymph Dice: 0.5530787110328674\n"
     ]
    },
    {
     "name": "stderr",
     "output_type": "stream",
     "text": [
      "Training (3759 / 18000 Steps) (loss=0.39779): 100%|██████████| 80/80 [02:30<00:00,  1.89s/it]\n",
      "Validate (3760 / 10 Steps): 100%|██████████| 18/18 [01:02<00:00,  3.46s/it]<00:41,  1.03s/it]\n",
      "Training (3800 / 18000 Steps) (loss=0.43617):  51%|█████▏    | 41/80 [01:49<13:01, 20.03s/it]"
     ]
    },
    {
     "name": "stdout",
     "output_type": "stream",
     "text": [
      "Model Was Saved ! Current Best Avg. Dice: 0.5850279927253723 Current Avg. Dice: 0.5850279927253723 Current Avg. tumor Dice: 0.6185691952705383 Current Avg. lymph Dice: 0.5746942162513733\n"
     ]
    },
    {
     "name": "stderr",
     "output_type": "stream",
     "text": [
      "Training (3839 / 18000 Steps) (loss=0.52657): 100%|██████████| 80/80 [02:31<00:00,  1.89s/it]\n",
      "Validate (3840 / 10 Steps): 100%|██████████| 18/18 [01:02<00:00,  3.48s/it]<00:22,  1.12s/it]\n",
      "Training (3900 / 18000 Steps) (loss=0.57012):  76%|███████▋  | 61/80 [02:11<06:18, 19.93s/it]"
     ]
    },
    {
     "name": "stdout",
     "output_type": "stream",
     "text": [
      "Model Was Not Saved ! Current Best Avg. Dice: 0.5850279927253723 Current Avg. Dice: 0.5783388018608093 Current Avg. tumor Dice: 0.6141855716705322 Current Avg. lymph Dice: 0.5672252774238586\n"
     ]
    },
    {
     "name": "stderr",
     "output_type": "stream",
     "text": [
      "Training (3919 / 18000 Steps) (loss=0.54562): 100%|██████████| 80/80 [02:31<00:00,  1.90s/it]\n",
      "Training (3999 / 18000 Steps) (loss=0.59102): 100%|██████████| 80/80 [01:28<00:00,  1.10s/it]\n",
      "Validate (4000 / 10 Steps): 100%|██████████| 18/18 [01:02<00:00,  3.48s/it]?, ?it/s]\n",
      "Training (4000 / 18000 Steps) (loss=0.59372):   1%|▏         | 1/80 [01:06<1:27:38, 66.56s/it]"
     ]
    },
    {
     "name": "stdout",
     "output_type": "stream",
     "text": [
      "Model Was Not Saved ! Current Best Avg. Dice: 0.5850279927253723 Current Avg. Dice: 0.5530688762664795 Current Avg. tumor Dice: 0.5838188529014587 Current Avg. lymph Dice: 0.5447070002555847\n"
     ]
    },
    {
     "name": "stderr",
     "output_type": "stream",
     "text": [
      "Training (4079 / 18000 Steps) (loss=0.47011): 100%|██████████| 80/80 [02:31<00:00,  1.89s/it] \n",
      "Validate (4080 / 10 Steps): 100%|██████████| 18/18 [01:02<00:00,  3.48s/it]<01:05,  1.09s/it]\n",
      "Training (4100 / 18000 Steps) (loss=0.55071):  26%|██▋       | 21/80 [01:27<19:32, 19.88s/it]"
     ]
    },
    {
     "name": "stdout",
     "output_type": "stream",
     "text": [
      "Model Was Not Saved ! Current Best Avg. Dice: 0.5850279927253723 Current Avg. Dice: 0.5603896379470825 Current Avg. tumor Dice: 0.5811634659767151 Current Avg. lymph Dice: 0.5606003403663635\n"
     ]
    },
    {
     "name": "stderr",
     "output_type": "stream",
     "text": [
      "Training (4159 / 18000 Steps) (loss=0.54650): 100%|██████████| 80/80 [02:31<00:00,  1.89s/it]\n",
      "Validate (4160 / 10 Steps): 100%|██████████| 18/18 [01:02<00:00,  3.46s/it]<00:41,  1.04s/it]\n",
      "Training (4200 / 18000 Steps) (loss=0.37121):  51%|█████▏    | 41/80 [01:48<12:50, 19.75s/it]"
     ]
    },
    {
     "name": "stdout",
     "output_type": "stream",
     "text": [
      "Model Was Not Saved ! Current Best Avg. Dice: 0.5850279927253723 Current Avg. Dice: 0.5694282054901123 Current Avg. tumor Dice: 0.5981544256210327 Current Avg. lymph Dice: 0.563542366027832\n"
     ]
    },
    {
     "name": "stderr",
     "output_type": "stream",
     "text": [
      "Training (4239 / 18000 Steps) (loss=0.59058): 100%|██████████| 80/80 [02:30<00:00,  1.88s/it]\n",
      "Validate (4240 / 10 Steps): 100%|██████████| 18/18 [01:02<00:00,  3.47s/it]<00:21,  1.06s/it]\n",
      "Training (4300 / 18000 Steps) (loss=0.49217):  76%|███████▋  | 61/80 [02:10<06:15, 19.78s/it]"
     ]
    },
    {
     "name": "stdout",
     "output_type": "stream",
     "text": [
      "Model Was Not Saved ! Current Best Avg. Dice: 0.5850279927253723 Current Avg. Dice: 0.5811121463775635 Current Avg. tumor Dice: 0.6250632405281067 Current Avg. lymph Dice: 0.5619040131568909\n"
     ]
    },
    {
     "name": "stderr",
     "output_type": "stream",
     "text": [
      "Training (4319 / 18000 Steps) (loss=0.52708): 100%|██████████| 80/80 [02:30<00:00,  1.88s/it]\n",
      "Training (4399 / 18000 Steps) (loss=0.46860): 100%|██████████| 80/80 [01:27<00:00,  1.09s/it]\n",
      "Validate (4400 / 10 Steps): 100%|██████████| 18/18 [01:02<00:00,  3.47s/it]?, ?it/s]\n",
      "Training (4400 / 18000 Steps) (loss=0.46397):   1%|▏         | 1/80 [01:06<1:27:15, 66.28s/it]"
     ]
    },
    {
     "name": "stdout",
     "output_type": "stream",
     "text": [
      "Model Was Not Saved ! Current Best Avg. Dice: 0.5850279927253723 Current Avg. Dice: 0.5687971711158752 Current Avg. tumor Dice: 0.6063774228096008 Current Avg. lymph Dice: 0.5535866618156433\n"
     ]
    },
    {
     "name": "stderr",
     "output_type": "stream",
     "text": [
      "Training (4479 / 18000 Steps) (loss=0.52643): 100%|██████████| 80/80 [02:31<00:00,  1.89s/it] \n",
      "Validate (4480 / 10 Steps): 100%|██████████| 18/18 [01:02<00:00,  3.48s/it]<01:06,  1.11s/it]\n",
      "Training (4500 / 18000 Steps) (loss=0.44255):  26%|██▋       | 21/80 [01:29<19:48, 20.15s/it]"
     ]
    },
    {
     "name": "stdout",
     "output_type": "stream",
     "text": [
      "Model Was Saved ! Current Best Avg. Dice: 0.5895543098449707 Current Avg. Dice: 0.5895543098449707 Current Avg. tumor Dice: 0.6250668168067932 Current Avg. lymph Dice: 0.5751001834869385\n"
     ]
    },
    {
     "name": "stderr",
     "output_type": "stream",
     "text": [
      "Training (4559 / 18000 Steps) (loss=0.52488): 100%|██████████| 80/80 [02:32<00:00,  1.90s/it]\n",
      "Validate (4560 / 10 Steps): 100%|██████████| 18/18 [01:02<00:00,  3.49s/it]<00:41,  1.04s/it]\n",
      "Training (4600 / 18000 Steps) (loss=0.45765):  51%|█████▏    | 41/80 [01:49<12:56, 19.90s/it]"
     ]
    },
    {
     "name": "stdout",
     "output_type": "stream",
     "text": [
      "Model Was Not Saved ! Current Best Avg. Dice: 0.5895543098449707 Current Avg. Dice: 0.5532242655754089 Current Avg. tumor Dice: 0.5690415501594543 Current Avg. lymph Dice: 0.5599933862686157\n"
     ]
    },
    {
     "name": "stderr",
     "output_type": "stream",
     "text": [
      "Training (4639 / 18000 Steps) (loss=0.54229): 100%|██████████| 80/80 [02:30<00:00,  1.89s/it]\n",
      "Validate (4640 / 10 Steps): 100%|██████████| 18/18 [01:02<00:00,  3.47s/it]<00:21,  1.06s/it]\n",
      "Training (4700 / 18000 Steps) (loss=0.54292):  76%|███████▋  | 61/80 [02:10<06:16, 19.81s/it]"
     ]
    },
    {
     "name": "stdout",
     "output_type": "stream",
     "text": [
      "Model Was Not Saved ! Current Best Avg. Dice: 0.5895543098449707 Current Avg. Dice: 0.5847830176353455 Current Avg. tumor Dice: 0.6137844324111938 Current Avg. lymph Dice: 0.5765102505683899\n"
     ]
    },
    {
     "name": "stderr",
     "output_type": "stream",
     "text": [
      "Training (4719 / 18000 Steps) (loss=0.51386): 100%|██████████| 80/80 [02:30<00:00,  1.89s/it]\n",
      "Training (4799 / 18000 Steps) (loss=0.46423): 100%|██████████| 80/80 [01:27<00:00,  1.10s/it]\n",
      "Validate (4800 / 10 Steps): 100%|██████████| 18/18 [01:02<00:00,  3.48s/it]?, ?it/s]\n",
      "Training (4800 / 18000 Steps) (loss=0.36207):   1%|▏         | 1/80 [01:06<1:27:20, 66.34s/it]"
     ]
    },
    {
     "name": "stdout",
     "output_type": "stream",
     "text": [
      "Model Was Not Saved ! Current Best Avg. Dice: 0.5895543098449707 Current Avg. Dice: 0.5886914730072021 Current Avg. tumor Dice: 0.6227765679359436 Current Avg. lymph Dice: 0.5781255960464478\n"
     ]
    },
    {
     "name": "stderr",
     "output_type": "stream",
     "text": [
      "Training (4879 / 18000 Steps) (loss=0.50352): 100%|██████████| 80/80 [02:30<00:00,  1.88s/it] \n",
      "Validate (4880 / 10 Steps): 100%|██████████| 18/18 [01:02<00:00,  3.46s/it]<01:03,  1.06s/it]\n",
      "Training (4900 / 18000 Steps) (loss=0.39834):  26%|██▋       | 21/80 [01:27<19:26, 19.78s/it]"
     ]
    },
    {
     "name": "stdout",
     "output_type": "stream",
     "text": [
      "Model Was Not Saved ! Current Best Avg. Dice: 0.5895543098449707 Current Avg. Dice: 0.5697898864746094 Current Avg. tumor Dice: 0.6063351035118103 Current Avg. lymph Dice: 0.554512619972229\n"
     ]
    },
    {
     "name": "stderr",
     "output_type": "stream",
     "text": [
      "Training (4959 / 18000 Steps) (loss=0.47305): 100%|██████████| 80/80 [02:30<00:00,  1.88s/it]\n",
      "Validate (4960 / 10 Steps): 100%|██████████| 18/18 [01:02<00:00,  3.48s/it]<00:41,  1.04s/it]\n",
      "Training (5000 / 18000 Steps) (loss=0.47383):  51%|█████▏    | 41/80 [01:49<12:55, 19.89s/it]"
     ]
    },
    {
     "name": "stdout",
     "output_type": "stream",
     "text": [
      "Model Was Not Saved ! Current Best Avg. Dice: 0.5895543098449707 Current Avg. Dice: 0.5791689157485962 Current Avg. tumor Dice: 0.6098801493644714 Current Avg. lymph Dice: 0.573192834854126\n"
     ]
    },
    {
     "name": "stderr",
     "output_type": "stream",
     "text": [
      "Training (5039 / 18000 Steps) (loss=0.47421): 100%|██████████| 80/80 [02:30<00:00,  1.88s/it]\n",
      "Validate (5040 / 10 Steps): 100%|██████████| 18/18 [01:02<00:00,  3.47s/it]<00:21,  1.06s/it]\n",
      "Training (5100 / 18000 Steps) (loss=0.64516):  76%|███████▋  | 61/80 [02:09<06:16, 19.80s/it]"
     ]
    },
    {
     "name": "stdout",
     "output_type": "stream",
     "text": [
      "Model Was Not Saved ! Current Best Avg. Dice: 0.5895543098449707 Current Avg. Dice: 0.5748773813247681 Current Avg. tumor Dice: 0.6046979427337646 Current Avg. lymph Dice: 0.5633991956710815\n"
     ]
    },
    {
     "name": "stderr",
     "output_type": "stream",
     "text": [
      "Training (5119 / 18000 Steps) (loss=0.51154): 100%|██████████| 80/80 [02:30<00:00,  1.88s/it]\n",
      "Training (5199 / 18000 Steps) (loss=0.44475): 100%|██████████| 80/80 [01:27<00:00,  1.10s/it]\n",
      "Validate (5200 / 10 Steps): 100%|██████████| 18/18 [01:02<00:00,  3.47s/it]?, ?it/s]\n",
      "Training (5200 / 18000 Steps) (loss=0.39593):   1%|▏         | 1/80 [01:06<1:27:02, 66.11s/it]"
     ]
    },
    {
     "name": "stdout",
     "output_type": "stream",
     "text": [
      "Model Was Not Saved ! Current Best Avg. Dice: 0.5895543098449707 Current Avg. Dice: 0.574884295463562 Current Avg. tumor Dice: 0.6029555797576904 Current Avg. lymph Dice: 0.5688818693161011\n"
     ]
    },
    {
     "name": "stderr",
     "output_type": "stream",
     "text": [
      "Training (5279 / 18000 Steps) (loss=0.52104): 100%|██████████| 80/80 [02:29<00:00,  1.87s/it] \n",
      "Validate (5280 / 10 Steps): 100%|██████████| 18/18 [01:02<00:00,  3.48s/it]<01:06,  1.11s/it]\n",
      "Training (5300 / 18000 Steps) (loss=0.44457):  26%|██▋       | 21/80 [01:27<19:34, 19.90s/it]"
     ]
    },
    {
     "name": "stdout",
     "output_type": "stream",
     "text": [
      "Model Was Not Saved ! Current Best Avg. Dice: 0.5895543098449707 Current Avg. Dice: 0.5868721008300781 Current Avg. tumor Dice: 0.6161589622497559 Current Avg. lymph Dice: 0.5811329483985901\n"
     ]
    },
    {
     "name": "stderr",
     "output_type": "stream",
     "text": [
      "Training (5359 / 18000 Steps) (loss=0.49873): 100%|██████████| 80/80 [02:30<00:00,  1.88s/it]\n",
      "Validate (5360 / 10 Steps): 100%|██████████| 18/18 [01:02<00:00,  3.46s/it]<00:41,  1.04s/it]\n",
      "Training (5400 / 18000 Steps) (loss=0.57374):  51%|█████▏    | 41/80 [01:48<12:49, 19.73s/it]"
     ]
    },
    {
     "name": "stdout",
     "output_type": "stream",
     "text": [
      "Model Was Not Saved ! Current Best Avg. Dice: 0.5895543098449707 Current Avg. Dice: 0.5706382393836975 Current Avg. tumor Dice: 0.5946385860443115 Current Avg. lymph Dice: 0.569806694984436\n"
     ]
    },
    {
     "name": "stderr",
     "output_type": "stream",
     "text": [
      "Training (5439 / 18000 Steps) (loss=0.49671): 100%|██████████| 80/80 [02:30<00:00,  1.88s/it]\n",
      "Validate (5440 / 10 Steps): 100%|██████████| 18/18 [01:02<00:00,  3.48s/it]<00:21,  1.06s/it]\n",
      "Training (5500 / 18000 Steps) (loss=0.52489):  76%|███████▋  | 61/80 [02:11<06:17, 19.85s/it]"
     ]
    },
    {
     "name": "stdout",
     "output_type": "stream",
     "text": [
      "Model Was Not Saved ! Current Best Avg. Dice: 0.5895543098449707 Current Avg. Dice: 0.5707235336303711 Current Avg. tumor Dice: 0.5948523879051208 Current Avg. lymph Dice: 0.5756468176841736\n"
     ]
    },
    {
     "name": "stderr",
     "output_type": "stream",
     "text": [
      "Training (5519 / 18000 Steps) (loss=0.43671): 100%|██████████| 80/80 [02:31<00:00,  1.90s/it]\n",
      "Training (5599 / 18000 Steps) (loss=0.53921): 100%|██████████| 80/80 [01:28<00:00,  1.11s/it]\n",
      "Validate (5600 / 10 Steps): 100%|██████████| 18/18 [01:02<00:00,  3.49s/it]?, ?it/s]\n",
      "Training (5600 / 18000 Steps) (loss=0.68853):   1%|▏         | 1/80 [01:06<1:27:44, 66.64s/it]"
     ]
    },
    {
     "name": "stdout",
     "output_type": "stream",
     "text": [
      "Model Was Not Saved ! Current Best Avg. Dice: 0.5895543098449707 Current Avg. Dice: 0.5411104559898376 Current Avg. tumor Dice: 0.5812438130378723 Current Avg. lymph Dice: 0.5173643231391907\n"
     ]
    },
    {
     "name": "stderr",
     "output_type": "stream",
     "text": [
      "Training (5679 / 18000 Steps) (loss=0.60705): 100%|██████████| 80/80 [02:31<00:00,  1.89s/it] \n",
      "Validate (5680 / 10 Steps): 100%|██████████| 18/18 [01:02<00:00,  3.48s/it]<01:04,  1.08s/it]\n",
      "Training (5700 / 18000 Steps) (loss=0.42710):  26%|██▋       | 21/80 [01:28<19:33, 19.90s/it]"
     ]
    },
    {
     "name": "stdout",
     "output_type": "stream",
     "text": [
      "Model Was Not Saved ! Current Best Avg. Dice: 0.5895543098449707 Current Avg. Dice: 0.5842511653900146 Current Avg. tumor Dice: 0.6080458760261536 Current Avg. lymph Dice: 0.5808596611022949\n"
     ]
    },
    {
     "name": "stderr",
     "output_type": "stream",
     "text": [
      "Training (5759 / 18000 Steps) (loss=0.42458): 100%|██████████| 80/80 [02:31<00:00,  1.90s/it]\n",
      "Validate (5760 / 10 Steps): 100%|██████████| 18/18 [01:02<00:00,  3.48s/it]<00:42,  1.05s/it]\n",
      "Training (5800 / 18000 Steps) (loss=0.46561):  51%|█████▏    | 41/80 [01:50<13:09, 20.23s/it]"
     ]
    },
    {
     "name": "stdout",
     "output_type": "stream",
     "text": [
      "Model Was Saved ! Current Best Avg. Dice: 0.5952209830284119 Current Avg. Dice: 0.5952209830284119 Current Avg. tumor Dice: 0.6356143355369568 Current Avg. lymph Dice: 0.5763218998908997\n"
     ]
    },
    {
     "name": "stderr",
     "output_type": "stream",
     "text": [
      "Training (5839 / 18000 Steps) (loss=0.46060): 100%|██████████| 80/80 [02:31<00:00,  1.90s/it]\n",
      "Validate (5840 / 10 Steps): 100%|██████████| 18/18 [01:02<00:00,  3.48s/it]<00:21,  1.07s/it]\n",
      "Training (5900 / 18000 Steps) (loss=0.65127):  76%|███████▋  | 61/80 [02:11<06:17, 19.87s/it]"
     ]
    },
    {
     "name": "stdout",
     "output_type": "stream",
     "text": [
      "Model Was Not Saved ! Current Best Avg. Dice: 0.5952209830284119 Current Avg. Dice: 0.5758917331695557 Current Avg. tumor Dice: 0.5963551998138428 Current Avg. lymph Dice: 0.5793259143829346\n"
     ]
    },
    {
     "name": "stderr",
     "output_type": "stream",
     "text": [
      "Training (5919 / 18000 Steps) (loss=0.48023): 100%|██████████| 80/80 [02:31<00:00,  1.89s/it]\n",
      "Training (5999 / 18000 Steps) (loss=0.44749): 100%|██████████| 80/80 [01:28<00:00,  1.11s/it]\n",
      "Validate (6000 / 10 Steps): 100%|██████████| 18/18 [01:02<00:00,  3.48s/it]?, ?it/s]\n",
      "Training (6000 / 18000 Steps) (loss=0.57803):   1%|▏         | 1/80 [01:06<1:27:21, 66.35s/it]"
     ]
    },
    {
     "name": "stdout",
     "output_type": "stream",
     "text": [
      "Model Was Not Saved ! Current Best Avg. Dice: 0.5952209830284119 Current Avg. Dice: 0.5749245285987854 Current Avg. tumor Dice: 0.6005210280418396 Current Avg. lymph Dice: 0.572978138923645\n"
     ]
    },
    {
     "name": "stderr",
     "output_type": "stream",
     "text": [
      "Training (6079 / 18000 Steps) (loss=0.40267): 100%|██████████| 80/80 [02:31<00:00,  1.89s/it] \n",
      "Validate (6080 / 10 Steps): 100%|██████████| 18/18 [01:02<00:00,  3.50s/it]<01:03,  1.06s/it]\n",
      "Training (6100 / 18000 Steps) (loss=0.44809):  26%|██▋       | 21/80 [01:28<19:37, 19.96s/it]"
     ]
    },
    {
     "name": "stdout",
     "output_type": "stream",
     "text": [
      "Model Was Not Saved ! Current Best Avg. Dice: 0.5952209830284119 Current Avg. Dice: 0.5794792771339417 Current Avg. tumor Dice: 0.6081152558326721 Current Avg. lymph Dice: 0.5740098357200623\n"
     ]
    },
    {
     "name": "stderr",
     "output_type": "stream",
     "text": [
      "Training (6159 / 18000 Steps) (loss=0.46063): 100%|██████████| 80/80 [02:32<00:00,  1.90s/it]\n",
      "Validate (6160 / 10 Steps): 100%|██████████| 18/18 [01:02<00:00,  3.49s/it]<00:42,  1.06s/it]\n",
      "Training (6200 / 18000 Steps) (loss=0.45407):  51%|█████▏    | 41/80 [01:49<12:59, 19.99s/it]"
     ]
    },
    {
     "name": "stdout",
     "output_type": "stream",
     "text": [
      "Model Was Not Saved ! Current Best Avg. Dice: 0.5952209830284119 Current Avg. Dice: 0.57780522108078 Current Avg. tumor Dice: 0.5970877408981323 Current Avg. lymph Dice: 0.5792825818061829\n"
     ]
    },
    {
     "name": "stderr",
     "output_type": "stream",
     "text": [
      "Training (6239 / 18000 Steps) (loss=0.45048): 100%|██████████| 80/80 [02:31<00:00,  1.90s/it]\n",
      "Validate (6240 / 10 Steps): 100%|██████████| 18/18 [01:02<00:00,  3.47s/it]<00:21,  1.08s/it]\n",
      "Training (6300 / 18000 Steps) (loss=0.30208):  76%|███████▋  | 61/80 [02:11<06:16, 19.84s/it]"
     ]
    },
    {
     "name": "stdout",
     "output_type": "stream",
     "text": [
      "Model Was Not Saved ! Current Best Avg. Dice: 0.5952209830284119 Current Avg. Dice: 0.5945065021514893 Current Avg. tumor Dice: 0.6156257390975952 Current Avg. lymph Dice: 0.5992670655250549\n"
     ]
    },
    {
     "name": "stderr",
     "output_type": "stream",
     "text": [
      "Training (6319 / 18000 Steps) (loss=0.51038): 100%|██████████| 80/80 [02:31<00:00,  1.89s/it]\n",
      "Training (6399 / 18000 Steps) (loss=0.40961): 100%|██████████| 80/80 [01:28<00:00,  1.11s/it]\n",
      "Validate (6400 / 10 Steps): 100%|██████████| 18/18 [01:02<00:00,  3.47s/it]?, ?it/s]\n",
      "Training (6400 / 18000 Steps) (loss=0.45004):   1%|▏         | 1/80 [01:06<1:27:22, 66.36s/it]"
     ]
    },
    {
     "name": "stdout",
     "output_type": "stream",
     "text": [
      "Model Was Not Saved ! Current Best Avg. Dice: 0.5952209830284119 Current Avg. Dice: 0.5787532329559326 Current Avg. tumor Dice: 0.6003406643867493 Current Avg. lymph Dice: 0.583188533782959\n"
     ]
    },
    {
     "name": "stderr",
     "output_type": "stream",
     "text": [
      "Training (6479 / 18000 Steps) (loss=0.42654): 100%|██████████| 80/80 [02:30<00:00,  1.89s/it] \n",
      "Validate (6480 / 10 Steps): 100%|██████████| 18/18 [01:02<00:00,  3.49s/it]<01:03,  1.05s/it]\n",
      "Training (6500 / 18000 Steps) (loss=0.57829):  26%|██▋       | 21/80 [01:28<19:51, 20.19s/it]"
     ]
    },
    {
     "name": "stdout",
     "output_type": "stream",
     "text": [
      "Model Was Saved ! Current Best Avg. Dice: 0.6013445258140564 Current Avg. Dice: 0.6013445258140564 Current Avg. tumor Dice: 0.6239379644393921 Current Avg. lymph Dice: 0.6044336557388306\n"
     ]
    },
    {
     "name": "stderr",
     "output_type": "stream",
     "text": [
      "Training (6559 / 18000 Steps) (loss=0.54681): 100%|██████████| 80/80 [02:31<00:00,  1.89s/it]\n",
      "Validate (6560 / 10 Steps): 100%|██████████| 18/18 [01:02<00:00,  3.49s/it]<00:41,  1.04s/it]\n",
      "Training (6600 / 18000 Steps) (loss=0.48470):  51%|█████▏    | 41/80 [01:49<12:57, 19.92s/it]"
     ]
    },
    {
     "name": "stdout",
     "output_type": "stream",
     "text": [
      "Model Was Not Saved ! Current Best Avg. Dice: 0.6013445258140564 Current Avg. Dice: 0.554100513458252 Current Avg. tumor Dice: 0.5621350407600403 Current Avg. lymph Dice: 0.5704342126846313\n"
     ]
    },
    {
     "name": "stderr",
     "output_type": "stream",
     "text": [
      "Training (6639 / 18000 Steps) (loss=0.67442): 100%|██████████| 80/80 [02:30<00:00,  1.89s/it]\n",
      "Validate (6640 / 10 Steps): 100%|██████████| 18/18 [01:02<00:00,  3.49s/it]<00:21,  1.06s/it]\n",
      "Training (6700 / 18000 Steps) (loss=0.55840):  76%|███████▋  | 61/80 [02:10<06:17, 19.89s/it]"
     ]
    },
    {
     "name": "stdout",
     "output_type": "stream",
     "text": [
      "Model Was Not Saved ! Current Best Avg. Dice: 0.6013445258140564 Current Avg. Dice: 0.6004302501678467 Current Avg. tumor Dice: 0.6300055384635925 Current Avg. lymph Dice: 0.5929916501045227\n"
     ]
    },
    {
     "name": "stderr",
     "output_type": "stream",
     "text": [
      "Training (6719 / 18000 Steps) (loss=0.46966): 100%|██████████| 80/80 [02:30<00:00,  1.88s/it]\n",
      "Training (6799 / 18000 Steps) (loss=0.44270): 100%|██████████| 80/80 [01:27<00:00,  1.10s/it]\n",
      "Validate (6800 / 10 Steps): 100%|██████████| 18/18 [01:02<00:00,  3.50s/it]?, ?it/s]\n",
      "Training (6800 / 18000 Steps) (loss=0.52758):   1%|▏         | 1/80 [01:06<1:27:44, 66.64s/it]"
     ]
    },
    {
     "name": "stdout",
     "output_type": "stream",
     "text": [
      "Model Was Not Saved ! Current Best Avg. Dice: 0.6013445258140564 Current Avg. Dice: 0.5939040184020996 Current Avg. tumor Dice: 0.6293887495994568 Current Avg. lymph Dice: 0.581875741481781\n"
     ]
    },
    {
     "name": "stderr",
     "output_type": "stream",
     "text": [
      "Training (6879 / 18000 Steps) (loss=0.42834): 100%|██████████| 80/80 [02:31<00:00,  1.89s/it] \n",
      "Validate (6880 / 10 Steps): 100%|██████████| 18/18 [01:02<00:00,  3.48s/it]<01:03,  1.06s/it]\n",
      "Training (6900 / 18000 Steps) (loss=0.43929):  26%|██▋       | 21/80 [01:28<19:47, 20.13s/it]"
     ]
    },
    {
     "name": "stdout",
     "output_type": "stream",
     "text": [
      "Model Was Saved ! Current Best Avg. Dice: 0.60764080286026 Current Avg. Dice: 0.60764080286026 Current Avg. tumor Dice: 0.6411068439483643 Current Avg. lymph Dice: 0.5948746800422668\n"
     ]
    },
    {
     "name": "stderr",
     "output_type": "stream",
     "text": [
      "Training (6959 / 18000 Steps) (loss=0.44994): 100%|██████████| 80/80 [02:31<00:00,  1.89s/it]\n",
      "Validate (6960 / 10 Steps): 100%|██████████| 18/18 [01:02<00:00,  3.48s/it]<00:42,  1.06s/it]\n",
      "Training (7000 / 18000 Steps) (loss=0.49766):  51%|█████▏    | 41/80 [01:49<12:54, 19.87s/it]"
     ]
    },
    {
     "name": "stdout",
     "output_type": "stream",
     "text": [
      "Model Was Not Saved ! Current Best Avg. Dice: 0.60764080286026 Current Avg. Dice: 0.5952361822128296 Current Avg. tumor Dice: 0.6281760334968567 Current Avg. lymph Dice: 0.5857720971107483\n"
     ]
    },
    {
     "name": "stderr",
     "output_type": "stream",
     "text": [
      "Training (7039 / 18000 Steps) (loss=0.55753): 100%|██████████| 80/80 [02:31<00:00,  1.89s/it]\n",
      "Validate (7040 / 10 Steps): 100%|██████████| 18/18 [01:02<00:00,  3.49s/it]<00:21,  1.09s/it]\n",
      "Training (7100 / 18000 Steps) (loss=0.50567):  76%|███████▋  | 61/80 [02:11<06:18, 19.92s/it]"
     ]
    },
    {
     "name": "stdout",
     "output_type": "stream",
     "text": [
      "Model Was Not Saved ! Current Best Avg. Dice: 0.60764080286026 Current Avg. Dice: 0.5686073303222656 Current Avg. tumor Dice: 0.6006456017494202 Current Avg. lymph Dice: 0.5627349019050598\n"
     ]
    },
    {
     "name": "stderr",
     "output_type": "stream",
     "text": [
      "Training (7119 / 18000 Steps) (loss=0.46111): 100%|██████████| 80/80 [02:31<00:00,  1.89s/it]\n",
      "Training (7199 / 18000 Steps) (loss=0.48938): 100%|██████████| 80/80 [01:27<00:00,  1.10s/it]\n",
      "Validate (7200 / 10 Steps): 100%|██████████| 18/18 [01:02<00:00,  3.47s/it]?, ?it/s]\n",
      "Training (7200 / 18000 Steps) (loss=0.70108):   1%|▏         | 1/80 [01:06<1:27:07, 66.17s/it]"
     ]
    },
    {
     "name": "stdout",
     "output_type": "stream",
     "text": [
      "Model Was Not Saved ! Current Best Avg. Dice: 0.60764080286026 Current Avg. Dice: 0.5957909822463989 Current Avg. tumor Dice: 0.6266446709632874 Current Avg. lymph Dice: 0.5869073867797852\n"
     ]
    },
    {
     "name": "stderr",
     "output_type": "stream",
     "text": [
      "Training (7279 / 18000 Steps) (loss=0.48703): 100%|██████████| 80/80 [02:30<00:00,  1.88s/it] \n",
      "Validate (7280 / 10 Steps): 100%|██████████| 18/18 [01:02<00:00,  3.49s/it]<01:03,  1.06s/it]\n",
      "Training (7300 / 18000 Steps) (loss=0.39168):  26%|██▋       | 21/80 [01:28<19:36, 19.93s/it]"
     ]
    },
    {
     "name": "stdout",
     "output_type": "stream",
     "text": [
      "Model Was Not Saved ! Current Best Avg. Dice: 0.60764080286026 Current Avg. Dice: 0.5656577348709106 Current Avg. tumor Dice: 0.5940535664558411 Current Avg. lymph Dice: 0.5608528852462769\n"
     ]
    },
    {
     "name": "stderr",
     "output_type": "stream",
     "text": [
      "Training (7359 / 18000 Steps) (loss=0.40308): 100%|██████████| 80/80 [02:31<00:00,  1.89s/it]\n",
      "Validate (7360 / 10 Steps): 100%|██████████| 18/18 [01:02<00:00,  3.47s/it]<00:42,  1.06s/it]\n",
      "Training (7400 / 18000 Steps) (loss=0.39160):  51%|█████▏    | 41/80 [01:49<12:55, 19.89s/it]"
     ]
    },
    {
     "name": "stdout",
     "output_type": "stream",
     "text": [
      "Model Was Not Saved ! Current Best Avg. Dice: 0.60764080286026 Current Avg. Dice: 0.5784289240837097 Current Avg. tumor Dice: 0.5984156131744385 Current Avg. lymph Dice: 0.5839571952819824\n"
     ]
    },
    {
     "name": "stderr",
     "output_type": "stream",
     "text": [
      "Training (7439 / 18000 Steps) (loss=0.52223): 100%|██████████| 80/80 [02:30<00:00,  1.89s/it]\n",
      "Validate (7440 / 10 Steps): 100%|██████████| 18/18 [01:02<00:00,  3.47s/it]<00:21,  1.06s/it]\n",
      "Training (7500 / 18000 Steps) (loss=0.22415):  76%|███████▋  | 61/80 [02:10<06:16, 19.81s/it]"
     ]
    },
    {
     "name": "stdout",
     "output_type": "stream",
     "text": [
      "Model Was Not Saved ! Current Best Avg. Dice: 0.60764080286026 Current Avg. Dice: 0.5870949625968933 Current Avg. tumor Dice: 0.6197174191474915 Current Avg. lymph Dice: 0.5799395442008972\n"
     ]
    },
    {
     "name": "stderr",
     "output_type": "stream",
     "text": [
      "Training (7519 / 18000 Steps) (loss=0.49211): 100%|██████████| 80/80 [02:30<00:00,  1.88s/it]\n",
      "Training (7599 / 18000 Steps) (loss=0.44662): 100%|██████████| 80/80 [01:27<00:00,  1.10s/it]\n",
      "Validate (7600 / 10 Steps): 100%|██████████| 18/18 [01:02<00:00,  3.48s/it]?, ?it/s]\n",
      "Training (7600 / 18000 Steps) (loss=0.53482):   1%|▏         | 1/80 [01:06<1:27:11, 66.23s/it]"
     ]
    },
    {
     "name": "stdout",
     "output_type": "stream",
     "text": [
      "Model Was Not Saved ! Current Best Avg. Dice: 0.60764080286026 Current Avg. Dice: 0.5922490954399109 Current Avg. tumor Dice: 0.6294795870780945 Current Avg. lymph Dice: 0.5797832608222961\n"
     ]
    },
    {
     "name": "stderr",
     "output_type": "stream",
     "text": [
      "Training (7679 / 18000 Steps) (loss=0.42688): 100%|██████████| 80/80 [02:30<00:00,  1.88s/it] \n",
      "Validate (7680 / 10 Steps): 100%|██████████| 18/18 [01:03<00:00,  3.52s/it]<01:03,  1.05s/it]\n",
      "Training (7700 / 18000 Steps) (loss=0.42947):  26%|██▋       | 21/80 [01:28<19:45, 20.09s/it]"
     ]
    },
    {
     "name": "stdout",
     "output_type": "stream",
     "text": [
      "Model Was Not Saved ! Current Best Avg. Dice: 0.60764080286026 Current Avg. Dice: 0.6061687469482422 Current Avg. tumor Dice: 0.6397055387496948 Current Avg. lymph Dice: 0.5947179794311523\n"
     ]
    },
    {
     "name": "stderr",
     "output_type": "stream",
     "text": [
      "Training (7759 / 18000 Steps) (loss=0.47873): 100%|██████████| 80/80 [02:32<00:00,  1.91s/it]\n",
      "Validate (7760 / 10 Steps): 100%|██████████| 18/18 [01:02<00:00,  3.49s/it]<00:42,  1.06s/it]\n",
      "Training (7800 / 18000 Steps) (loss=0.60207):  51%|█████▏    | 41/80 [01:49<13:01, 20.04s/it]"
     ]
    },
    {
     "name": "stdout",
     "output_type": "stream",
     "text": [
      "Model Was Not Saved ! Current Best Avg. Dice: 0.60764080286026 Current Avg. Dice: 0.6002228856086731 Current Avg. tumor Dice: 0.6359307765960693 Current Avg. lymph Dice: 0.5904784798622131\n"
     ]
    },
    {
     "name": "stderr",
     "output_type": "stream",
     "text": [
      "Training (7839 / 18000 Steps) (loss=0.59675): 100%|██████████| 80/80 [02:31<00:00,  1.89s/it]\n",
      "Validate (7840 / 10 Steps): 100%|██████████| 18/18 [01:02<00:00,  3.48s/it]<00:21,  1.08s/it]\n",
      "Training (7900 / 18000 Steps) (loss=0.34978):  76%|███████▋  | 61/80 [02:10<06:18, 19.90s/it]"
     ]
    },
    {
     "name": "stdout",
     "output_type": "stream",
     "text": [
      "Model Was Not Saved ! Current Best Avg. Dice: 0.60764080286026 Current Avg. Dice: 0.5931017398834229 Current Avg. tumor Dice: 0.624799907207489 Current Avg. lymph Dice: 0.5886140465736389\n"
     ]
    },
    {
     "name": "stderr",
     "output_type": "stream",
     "text": [
      "Training (7919 / 18000 Steps) (loss=0.51840): 100%|██████████| 80/80 [02:30<00:00,  1.88s/it]\n",
      "Training (7999 / 18000 Steps) (loss=0.60736): 100%|██████████| 80/80 [01:28<00:00,  1.10s/it]\n",
      "Validate (8000 / 10 Steps): 100%|██████████| 18/18 [01:02<00:00,  3.48s/it]?, ?it/s]\n",
      "Training (8000 / 18000 Steps) (loss=0.36566):   1%|▏         | 1/80 [01:06<1:27:25, 66.40s/it]"
     ]
    },
    {
     "name": "stdout",
     "output_type": "stream",
     "text": [
      "Model Was Not Saved ! Current Best Avg. Dice: 0.60764080286026 Current Avg. Dice: 0.6048035025596619 Current Avg. tumor Dice: 0.6389176249504089 Current Avg. lymph Dice: 0.594902753829956\n"
     ]
    },
    {
     "name": "stderr",
     "output_type": "stream",
     "text": [
      "Training (8079 / 18000 Steps) (loss=0.52778): 100%|██████████| 80/80 [02:30<00:00,  1.89s/it] \n",
      "Validate (8080 / 10 Steps): 100%|██████████| 18/18 [01:02<00:00,  3.48s/it]<01:03,  1.07s/it]\n",
      "Training (8100 / 18000 Steps) (loss=0.59392):  26%|██▋       | 21/80 [01:27<19:35, 19.93s/it]"
     ]
    },
    {
     "name": "stdout",
     "output_type": "stream",
     "text": [
      "Model Was Not Saved ! Current Best Avg. Dice: 0.60764080286026 Current Avg. Dice: 0.578542172908783 Current Avg. tumor Dice: 0.609363853931427 Current Avg. lymph Dice: 0.5693947672843933\n"
     ]
    },
    {
     "name": "stderr",
     "output_type": "stream",
     "text": [
      "Training (8159 / 18000 Steps) (loss=0.52037): 100%|██████████| 80/80 [02:30<00:00,  1.88s/it]\n",
      "Validate (8160 / 10 Steps): 100%|██████████| 18/18 [01:02<00:00,  3.49s/it]<00:41,  1.04s/it]\n",
      "Training (8200 / 18000 Steps) (loss=0.37382):  51%|█████▏    | 41/80 [01:49<12:57, 19.94s/it]"
     ]
    },
    {
     "name": "stdout",
     "output_type": "stream",
     "text": [
      "Model Was Not Saved ! Current Best Avg. Dice: 0.60764080286026 Current Avg. Dice: 0.5584682822227478 Current Avg. tumor Dice: 0.5631779432296753 Current Avg. lymph Dice: 0.5731196403503418\n"
     ]
    },
    {
     "name": "stderr",
     "output_type": "stream",
     "text": [
      "Training (8239 / 18000 Steps) (loss=0.53338): 100%|██████████| 80/80 [02:30<00:00,  1.88s/it]\n",
      "Validate (8240 / 10 Steps): 100%|██████████| 18/18 [01:02<00:00,  3.48s/it]<00:21,  1.08s/it]\n",
      "Training (8300 / 18000 Steps) (loss=0.30790):  76%|███████▋  | 61/80 [02:10<06:17, 19.86s/it]"
     ]
    },
    {
     "name": "stdout",
     "output_type": "stream",
     "text": [
      "Model Was Not Saved ! Current Best Avg. Dice: 0.60764080286026 Current Avg. Dice: 0.5970087051391602 Current Avg. tumor Dice: 0.6216098070144653 Current Avg. lymph Dice: 0.5983476638793945\n"
     ]
    },
    {
     "name": "stderr",
     "output_type": "stream",
     "text": [
      "Training (8319 / 18000 Steps) (loss=0.47973): 100%|██████████| 80/80 [02:30<00:00,  1.89s/it]\n",
      "Training (8399 / 18000 Steps) (loss=0.51006): 100%|██████████| 80/80 [01:27<00:00,  1.10s/it]\n",
      "Validate (8400 / 10 Steps): 100%|██████████| 18/18 [01:02<00:00,  3.48s/it]?, ?it/s]\n",
      "Training (8400 / 18000 Steps) (loss=0.54434):   1%|▏         | 1/80 [01:07<1:28:55, 67.54s/it]"
     ]
    },
    {
     "name": "stdout",
     "output_type": "stream",
     "text": [
      "Model Was Saved ! Current Best Avg. Dice: 0.6121371984481812 Current Avg. Dice: 0.6121371984481812 Current Avg. tumor Dice: 0.6505508422851562 Current Avg. lymph Dice: 0.5962868928909302\n"
     ]
    },
    {
     "name": "stderr",
     "output_type": "stream",
     "text": [
      "Training (8479 / 18000 Steps) (loss=0.50891): 100%|██████████| 80/80 [02:31<00:00,  1.90s/it] \n",
      "Validate (8480 / 10 Steps): 100%|██████████| 18/18 [01:02<00:00,  3.49s/it]<01:04,  1.08s/it]\n",
      "Training (8500 / 18000 Steps) (loss=0.53237):  26%|██▋       | 21/80 [01:28<19:38, 19.97s/it]"
     ]
    },
    {
     "name": "stdout",
     "output_type": "stream",
     "text": [
      "Model Was Not Saved ! Current Best Avg. Dice: 0.6121371984481812 Current Avg. Dice: 0.5976911783218384 Current Avg. tumor Dice: 0.6278485059738159 Current Avg. lymph Dice: 0.5891124606132507\n"
     ]
    },
    {
     "name": "stderr",
     "output_type": "stream",
     "text": [
      "Training (8559 / 18000 Steps) (loss=0.58855): 100%|██████████| 80/80 [02:31<00:00,  1.89s/it]\n",
      "Validate (8560 / 10 Steps): 100%|██████████| 18/18 [01:02<00:00,  3.48s/it]<00:42,  1.06s/it]\n",
      "Training (8600 / 18000 Steps) (loss=0.49908):  51%|█████▏    | 41/80 [01:49<12:55, 19.89s/it]"
     ]
    },
    {
     "name": "stdout",
     "output_type": "stream",
     "text": [
      "Model Was Not Saved ! Current Best Avg. Dice: 0.6121371984481812 Current Avg. Dice: 0.5880031585693359 Current Avg. tumor Dice: 0.6140525937080383 Current Avg. lymph Dice: 0.5827955603599548\n"
     ]
    },
    {
     "name": "stderr",
     "output_type": "stream",
     "text": [
      "Training (8639 / 18000 Steps) (loss=0.49364): 100%|██████████| 80/80 [02:30<00:00,  1.88s/it]\n",
      "Validate (8640 / 10 Steps): 100%|██████████| 18/18 [01:02<00:00,  3.49s/it]<00:21,  1.07s/it]\n",
      "Training (8700 / 18000 Steps) (loss=0.58110):  76%|███████▋  | 61/80 [02:10<06:18, 19.90s/it]"
     ]
    },
    {
     "name": "stdout",
     "output_type": "stream",
     "text": [
      "Model Was Not Saved ! Current Best Avg. Dice: 0.6121371984481812 Current Avg. Dice: 0.6088603138923645 Current Avg. tumor Dice: 0.6449902057647705 Current Avg. lymph Dice: 0.5946207046508789\n"
     ]
    },
    {
     "name": "stderr",
     "output_type": "stream",
     "text": [
      "Training (8719 / 18000 Steps) (loss=0.55540): 100%|██████████| 80/80 [02:31<00:00,  1.89s/it]\n",
      "Training (8799 / 18000 Steps) (loss=0.66441): 100%|██████████| 80/80 [01:27<00:00,  1.10s/it]\n",
      "Validate (8800 / 10 Steps): 100%|██████████| 18/18 [01:02<00:00,  3.49s/it]?, ?it/s]\n",
      "Training (8800 / 18000 Steps) (loss=0.33873):   1%|▏         | 1/80 [01:06<1:27:49, 66.70s/it]"
     ]
    },
    {
     "name": "stdout",
     "output_type": "stream",
     "text": [
      "Model Was Not Saved ! Current Best Avg. Dice: 0.6121371984481812 Current Avg. Dice: 0.6000140309333801 Current Avg. tumor Dice: 0.6379709839820862 Current Avg. lymph Dice: 0.5832560658454895\n"
     ]
    },
    {
     "name": "stderr",
     "output_type": "stream",
     "text": [
      "Training (8879 / 18000 Steps) (loss=0.53345): 100%|██████████| 80/80 [02:32<00:00,  1.90s/it] \n",
      "Validate (8880 / 10 Steps): 100%|██████████| 18/18 [01:02<00:00,  3.48s/it]<01:04,  1.07s/it]\n",
      "Training (8900 / 18000 Steps) (loss=0.48744):  26%|██▋       | 21/80 [01:27<19:31, 19.85s/it]"
     ]
    },
    {
     "name": "stdout",
     "output_type": "stream",
     "text": [
      "Model Was Not Saved ! Current Best Avg. Dice: 0.6121371984481812 Current Avg. Dice: 0.5868357419967651 Current Avg. tumor Dice: 0.6146020889282227 Current Avg. lymph Dice: 0.5804979205131531\n"
     ]
    },
    {
     "name": "stderr",
     "output_type": "stream",
     "text": [
      "Training (8959 / 18000 Steps) (loss=0.47395): 100%|██████████| 80/80 [02:30<00:00,  1.88s/it]\n",
      "Validate (8960 / 10 Steps): 100%|██████████| 18/18 [01:02<00:00,  3.49s/it]<00:42,  1.05s/it]\n",
      "Training (9000 / 18000 Steps) (loss=0.53333):  51%|█████▏    | 41/80 [01:49<12:55, 19.89s/it]"
     ]
    },
    {
     "name": "stdout",
     "output_type": "stream",
     "text": [
      "Model Was Not Saved ! Current Best Avg. Dice: 0.6121371984481812 Current Avg. Dice: 0.5801407694816589 Current Avg. tumor Dice: 0.6056204438209534 Current Avg. lymph Dice: 0.578442394733429\n"
     ]
    },
    {
     "name": "stderr",
     "output_type": "stream",
     "text": [
      "Training (9039 / 18000 Steps) (loss=0.44729): 100%|██████████| 80/80 [02:31<00:00,  1.89s/it]\n",
      "Validate (9040 / 10 Steps): 100%|██████████| 18/18 [01:02<00:00,  3.48s/it]<00:21,  1.06s/it]\n",
      "Training (9100 / 18000 Steps) (loss=0.43193):  76%|███████▋  | 61/80 [02:10<06:16, 19.83s/it]"
     ]
    },
    {
     "name": "stdout",
     "output_type": "stream",
     "text": [
      "Model Was Not Saved ! Current Best Avg. Dice: 0.6121371984481812 Current Avg. Dice: 0.5906453728675842 Current Avg. tumor Dice: 0.6208950281143188 Current Avg. lymph Dice: 0.5812991857528687\n"
     ]
    },
    {
     "name": "stderr",
     "output_type": "stream",
     "text": [
      "Training (9119 / 18000 Steps) (loss=0.44685): 100%|██████████| 80/80 [02:30<00:00,  1.88s/it]\n",
      "Training (9199 / 18000 Steps) (loss=0.47038): 100%|██████████| 80/80 [01:28<00:00,  1.10s/it]\n",
      "Validate (9200 / 10 Steps): 100%|██████████| 18/18 [01:02<00:00,  3.48s/it]?, ?it/s]\n",
      "Training (9200 / 18000 Steps) (loss=0.37942):   1%|▏         | 1/80 [01:06<1:27:18, 66.32s/it]"
     ]
    },
    {
     "name": "stdout",
     "output_type": "stream",
     "text": [
      "Model Was Not Saved ! Current Best Avg. Dice: 0.6121371984481812 Current Avg. Dice: 0.5823204517364502 Current Avg. tumor Dice: 0.6043010354042053 Current Avg. lymph Dice: 0.5836282968521118\n"
     ]
    },
    {
     "name": "stderr",
     "output_type": "stream",
     "text": [
      "Training (9279 / 18000 Steps) (loss=0.48079): 100%|██████████| 80/80 [02:30<00:00,  1.89s/it] \n",
      "Validate (9280 / 10 Steps): 100%|██████████| 18/18 [01:02<00:00,  3.46s/it]<01:03,  1.06s/it]\n",
      "Training (9300 / 18000 Steps) (loss=0.48015):  26%|██▋       | 21/80 [01:27<19:27, 19.79s/it]"
     ]
    },
    {
     "name": "stdout",
     "output_type": "stream",
     "text": [
      "Model Was Not Saved ! Current Best Avg. Dice: 0.6121371984481812 Current Avg. Dice: 0.5932047963142395 Current Avg. tumor Dice: 0.6196818351745605 Current Avg. lymph Dice: 0.5904826521873474\n"
     ]
    },
    {
     "name": "stderr",
     "output_type": "stream",
     "text": [
      "Training (9359 / 18000 Steps) (loss=0.42029): 100%|██████████| 80/80 [02:30<00:00,  1.88s/it]\n",
      "Validate (9360 / 10 Steps): 100%|██████████| 18/18 [01:02<00:00,  3.49s/it]<00:42,  1.05s/it]\n",
      "Training (9400 / 18000 Steps) (loss=0.53522):  51%|█████▏    | 41/80 [01:49<12:57, 19.95s/it]"
     ]
    },
    {
     "name": "stdout",
     "output_type": "stream",
     "text": [
      "Model Was Not Saved ! Current Best Avg. Dice: 0.6121371984481812 Current Avg. Dice: 0.6111500263214111 Current Avg. tumor Dice: 0.6503628492355347 Current Avg. lymph Dice: 0.5924603939056396\n"
     ]
    },
    {
     "name": "stderr",
     "output_type": "stream",
     "text": [
      "Training (9439 / 18000 Steps) (loss=0.42353): 100%|██████████| 80/80 [02:30<00:00,  1.88s/it]\n",
      "Validate (9440 / 10 Steps): 100%|██████████| 18/18 [01:02<00:00,  3.49s/it]<00:21,  1.07s/it]\n",
      "Training (9500 / 18000 Steps) (loss=0.57270):  76%|███████▋  | 61/80 [02:10<06:18, 19.90s/it]"
     ]
    },
    {
     "name": "stdout",
     "output_type": "stream",
     "text": [
      "Model Was Not Saved ! Current Best Avg. Dice: 0.6121371984481812 Current Avg. Dice: 0.5957875847816467 Current Avg. tumor Dice: 0.6291521787643433 Current Avg. lymph Dice: 0.5820084810256958\n"
     ]
    },
    {
     "name": "stderr",
     "output_type": "stream",
     "text": [
      "Training (9519 / 18000 Steps) (loss=0.46189): 100%|██████████| 80/80 [02:31<00:00,  1.89s/it]\n",
      "Training (9599 / 18000 Steps) (loss=0.49189): 100%|██████████| 80/80 [01:29<00:00,  1.12s/it]\n",
      "Validate (9600 / 10 Steps): 100%|██████████| 18/18 [01:02<00:00,  3.50s/it]?, ?it/s]\n",
      "Training (9600 / 18000 Steps) (loss=0.49558):   1%|▏         | 1/80 [01:06<1:28:08, 66.95s/it]"
     ]
    },
    {
     "name": "stdout",
     "output_type": "stream",
     "text": [
      "Model Was Not Saved ! Current Best Avg. Dice: 0.6121371984481812 Current Avg. Dice: 0.6085320115089417 Current Avg. tumor Dice: 0.637712836265564 Current Avg. lymph Dice: 0.6058691740036011\n"
     ]
    },
    {
     "name": "stderr",
     "output_type": "stream",
     "text": [
      "Training (9679 / 18000 Steps) (loss=0.56008): 100%|██████████| 80/80 [02:32<00:00,  1.90s/it] \n",
      "Validate (9680 / 10 Steps): 100%|██████████| 18/18 [01:02<00:00,  3.49s/it]<01:04,  1.08s/it]\n",
      "Training (9700 / 18000 Steps) (loss=0.43591):  26%|██▋       | 21/80 [01:28<19:37, 19.97s/it]"
     ]
    },
    {
     "name": "stdout",
     "output_type": "stream",
     "text": [
      "Model Was Not Saved ! Current Best Avg. Dice: 0.6121371984481812 Current Avg. Dice: 0.6015727519989014 Current Avg. tumor Dice: 0.6336023807525635 Current Avg. lymph Dice: 0.5933950543403625\n"
     ]
    },
    {
     "name": "stderr",
     "output_type": "stream",
     "text": [
      "Training (9759 / 18000 Steps) (loss=0.51879): 100%|██████████| 80/80 [02:32<00:00,  1.90s/it]\n",
      "Validate (9760 / 10 Steps): 100%|██████████| 18/18 [01:02<00:00,  3.50s/it]<00:42,  1.07s/it]\n",
      "Training (9800 / 18000 Steps) (loss=0.58809):  51%|█████▏    | 41/80 [01:49<12:58, 19.95s/it]"
     ]
    },
    {
     "name": "stdout",
     "output_type": "stream",
     "text": [
      "Model Was Not Saved ! Current Best Avg. Dice: 0.6121371984481812 Current Avg. Dice: 0.6051609516143799 Current Avg. tumor Dice: 0.6317733526229858 Current Avg. lymph Dice: 0.6040781140327454\n"
     ]
    },
    {
     "name": "stderr",
     "output_type": "stream",
     "text": [
      "Training (9839 / 18000 Steps) (loss=0.47942): 100%|██████████| 80/80 [02:31<00:00,  1.89s/it]\n",
      "Validate (9840 / 10 Steps): 100%|██████████| 18/18 [01:02<00:00,  3.49s/it]<00:21,  1.08s/it]\n",
      "Training (9900 / 18000 Steps) (loss=0.61144):  76%|███████▋  | 61/80 [02:11<06:18, 19.94s/it]"
     ]
    },
    {
     "name": "stdout",
     "output_type": "stream",
     "text": [
      "Model Was Not Saved ! Current Best Avg. Dice: 0.6121371984481812 Current Avg. Dice: 0.596226155757904 Current Avg. tumor Dice: 0.6200602650642395 Current Avg. lymph Dice: 0.5960281491279602\n"
     ]
    },
    {
     "name": "stderr",
     "output_type": "stream",
     "text": [
      "Training (9919 / 18000 Steps) (loss=0.44100): 100%|██████████| 80/80 [02:32<00:00,  1.90s/it]\n",
      "Training (9999 / 18000 Steps) (loss=0.56962): 100%|██████████| 80/80 [01:28<00:00,  1.11s/it]\n",
      "Validate (10000 / 10 Steps): 100%|██████████| 18/18 [01:03<00:00,  3.51s/it]?, ?it/s]\n",
      "Training (10000 / 18000 Steps) (loss=0.42879):   1%|▏         | 1/80 [01:06<1:28:12, 66.99s/it]"
     ]
    },
    {
     "name": "stdout",
     "output_type": "stream",
     "text": [
      "Model Was Not Saved ! Current Best Avg. Dice: 0.6121371984481812 Current Avg. Dice: 0.5917474031448364 Current Avg. tumor Dice: 0.6156206727027893 Current Avg. lymph Dice: 0.59499192237854\n"
     ]
    },
    {
     "name": "stderr",
     "output_type": "stream",
     "text": [
      "Training (10079 / 18000 Steps) (loss=0.42183): 100%|██████████| 80/80 [02:31<00:00,  1.90s/it] \n",
      "Validate (10080 / 10 Steps): 100%|██████████| 18/18 [01:03<00:00,  3.52s/it]<01:04,  1.07s/it]\n",
      "Training (10100 / 18000 Steps) (loss=0.54397):  26%|██▋       | 21/80 [01:29<20:03, 20.39s/it]"
     ]
    },
    {
     "name": "stdout",
     "output_type": "stream",
     "text": [
      "Model Was Saved ! Current Best Avg. Dice: 0.6139947175979614 Current Avg. Dice: 0.6139947175979614 Current Avg. tumor Dice: 0.6414359211921692 Current Avg. lymph Dice: 0.6094750165939331\n"
     ]
    },
    {
     "name": "stderr",
     "output_type": "stream",
     "text": [
      "Training (10159 / 18000 Steps) (loss=0.51019): 100%|██████████| 80/80 [02:33<00:00,  1.92s/it]\n",
      "Validate (10160 / 10 Steps): 100%|██████████| 18/18 [01:03<00:00,  3.50s/it]<00:42,  1.06s/it]\n",
      "Training (10200 / 18000 Steps) (loss=0.45094):  51%|█████▏    | 41/80 [01:49<12:59, 19.98s/it]"
     ]
    },
    {
     "name": "stdout",
     "output_type": "stream",
     "text": [
      "Model Was Not Saved ! Current Best Avg. Dice: 0.6139947175979614 Current Avg. Dice: 0.6050811409950256 Current Avg. tumor Dice: 0.6378331780433655 Current Avg. lymph Dice: 0.5949591994285583\n"
     ]
    },
    {
     "name": "stderr",
     "output_type": "stream",
     "text": [
      "Training (10239 / 18000 Steps) (loss=0.56899): 100%|██████████| 80/80 [02:31<00:00,  1.90s/it]\n",
      "Validate (10240 / 10 Steps): 100%|██████████| 18/18 [01:02<00:00,  3.50s/it]<00:21,  1.06s/it]\n",
      "Training (10300 / 18000 Steps) (loss=0.48996):  76%|███████▋  | 61/80 [02:11<06:19, 19.96s/it]"
     ]
    },
    {
     "name": "stdout",
     "output_type": "stream",
     "text": [
      "Model Was Not Saved ! Current Best Avg. Dice: 0.6139947175979614 Current Avg. Dice: 0.5888348817825317 Current Avg. tumor Dice: 0.6154398322105408 Current Avg. lymph Dice: 0.5897248983383179\n"
     ]
    },
    {
     "name": "stderr",
     "output_type": "stream",
     "text": [
      "Training (10319 / 18000 Steps) (loss=0.49172): 100%|██████████| 80/80 [02:31<00:00,  1.90s/it]\n",
      "Training (10399 / 18000 Steps) (loss=0.44730): 100%|██████████| 80/80 [01:28<00:00,  1.11s/it]\n",
      "Validate (10400 / 10 Steps): 100%|██████████| 18/18 [01:03<00:00,  3.51s/it]?, ?it/s]\n",
      "Training (10400 / 18000 Steps) (loss=0.57617):   1%|▏         | 1/80 [01:06<1:27:57, 66.81s/it]"
     ]
    },
    {
     "name": "stdout",
     "output_type": "stream",
     "text": [
      "Model Was Not Saved ! Current Best Avg. Dice: 0.6139947175979614 Current Avg. Dice: 0.5846354961395264 Current Avg. tumor Dice: 0.6095293760299683 Current Avg. lymph Dice: 0.5846726894378662\n"
     ]
    },
    {
     "name": "stderr",
     "output_type": "stream",
     "text": [
      "Training (10479 / 18000 Steps) (loss=0.27690): 100%|██████████| 80/80 [02:32<00:00,  1.90s/it] \n",
      "Validate (10480 / 10 Steps): 100%|██████████| 18/18 [01:03<00:00,  3.50s/it]<01:05,  1.09s/it]\n",
      "Training (10500 / 18000 Steps) (loss=0.53441):  26%|██▋       | 21/80 [01:28<19:40, 20.01s/it]"
     ]
    },
    {
     "name": "stdout",
     "output_type": "stream",
     "text": [
      "Model Was Not Saved ! Current Best Avg. Dice: 0.6139947175979614 Current Avg. Dice: 0.5941210985183716 Current Avg. tumor Dice: 0.6204530596733093 Current Avg. lymph Dice: 0.5921674370765686\n"
     ]
    },
    {
     "name": "stderr",
     "output_type": "stream",
     "text": [
      "Training (10559 / 18000 Steps) (loss=0.54256): 100%|██████████| 80/80 [02:31<00:00,  1.90s/it]\n",
      "Validate (10560 / 10 Steps): 100%|██████████| 18/18 [01:03<00:00,  3.51s/it]<00:42,  1.07s/it]\n",
      "Training (10600 / 18000 Steps) (loss=0.59046):  51%|█████▏    | 41/80 [01:50<13:05, 20.13s/it]"
     ]
    },
    {
     "name": "stdout",
     "output_type": "stream",
     "text": [
      "Model Was Not Saved ! Current Best Avg. Dice: 0.6139947175979614 Current Avg. Dice: 0.604110062122345 Current Avg. tumor Dice: 0.6331009864807129 Current Avg. lymph Dice: 0.5975804924964905\n"
     ]
    },
    {
     "name": "stderr",
     "output_type": "stream",
     "text": [
      "Training (10639 / 18000 Steps) (loss=0.58341): 100%|██████████| 80/80 [02:32<00:00,  1.91s/it]\n",
      "Validate (10640 / 10 Steps): 100%|██████████| 18/18 [01:02<00:00,  3.50s/it]<00:21,  1.06s/it]\n",
      "Training (10700 / 18000 Steps) (loss=0.54541):  76%|███████▋  | 61/80 [02:11<06:19, 19.96s/it]"
     ]
    },
    {
     "name": "stdout",
     "output_type": "stream",
     "text": [
      "Model Was Not Saved ! Current Best Avg. Dice: 0.6139947175979614 Current Avg. Dice: 0.6037294864654541 Current Avg. tumor Dice: 0.6423882842063904 Current Avg. lymph Dice: 0.5874642729759216\n"
     ]
    },
    {
     "name": "stderr",
     "output_type": "stream",
     "text": [
      "Training (10719 / 18000 Steps) (loss=0.46929): 100%|██████████| 80/80 [02:31<00:00,  1.90s/it]\n",
      "Training (10799 / 18000 Steps) (loss=0.43229): 100%|██████████| 80/80 [01:27<00:00,  1.10s/it]\n",
      "Validate (10800 / 10 Steps): 100%|██████████| 18/18 [01:02<00:00,  3.47s/it]?, ?it/s]\n",
      "Training (10800 / 18000 Steps) (loss=0.45119):   1%|▏         | 1/80 [01:06<1:27:05, 66.14s/it]"
     ]
    },
    {
     "name": "stdout",
     "output_type": "stream",
     "text": [
      "Model Was Not Saved ! Current Best Avg. Dice: 0.6139947175979614 Current Avg. Dice: 0.598193883895874 Current Avg. tumor Dice: 0.6311196088790894 Current Avg. lymph Dice: 0.591148853302002\n"
     ]
    },
    {
     "name": "stderr",
     "output_type": "stream",
     "text": [
      "Training (10879 / 18000 Steps) (loss=0.48470): 100%|██████████| 80/80 [02:30<00:00,  1.88s/it] \n",
      "Validate (10880 / 10 Steps): 100%|██████████| 18/18 [01:02<00:00,  3.48s/it]<01:04,  1.07s/it]\n",
      "Training (10900 / 18000 Steps) (loss=0.34872):  26%|██▋       | 21/80 [01:27<19:32, 19.88s/it]"
     ]
    },
    {
     "name": "stdout",
     "output_type": "stream",
     "text": [
      "Model Was Not Saved ! Current Best Avg. Dice: 0.6139947175979614 Current Avg. Dice: 0.606078565120697 Current Avg. tumor Dice: 0.6367872953414917 Current Avg. lymph Dice: 0.5983378291130066\n"
     ]
    },
    {
     "name": "stderr",
     "output_type": "stream",
     "text": [
      "Training (10959 / 18000 Steps) (loss=0.39344): 100%|██████████| 80/80 [02:31<00:00,  1.90s/it]\n",
      "Validate (10960 / 10 Steps): 100%|██████████| 18/18 [01:02<00:00,  3.48s/it]<00:42,  1.07s/it]\n",
      "Training (11000 / 18000 Steps) (loss=0.36062):  51%|█████▏    | 41/80 [01:49<12:57, 19.94s/it]"
     ]
    },
    {
     "name": "stdout",
     "output_type": "stream",
     "text": [
      "Model Was Not Saved ! Current Best Avg. Dice: 0.6139947175979614 Current Avg. Dice: 0.6039548516273499 Current Avg. tumor Dice: 0.6424267292022705 Current Avg. lymph Dice: 0.5918827056884766\n"
     ]
    },
    {
     "name": "stderr",
     "output_type": "stream",
     "text": [
      "Training (11039 / 18000 Steps) (loss=0.49072): 100%|██████████| 80/80 [02:31<00:00,  1.90s/it]\n",
      "Validate (11040 / 10 Steps): 100%|██████████| 18/18 [01:02<00:00,  3.48s/it]<00:21,  1.07s/it]\n",
      "Training (11100 / 18000 Steps) (loss=0.33943):  76%|███████▋  | 61/80 [02:10<06:17, 19.89s/it]"
     ]
    },
    {
     "name": "stdout",
     "output_type": "stream",
     "text": [
      "Model Was Not Saved ! Current Best Avg. Dice: 0.6139947175979614 Current Avg. Dice: 0.5908256769180298 Current Avg. tumor Dice: 0.6166769862174988 Current Avg. lymph Dice: 0.5910232663154602\n"
     ]
    },
    {
     "name": "stderr",
     "output_type": "stream",
     "text": [
      "Training (11119 / 18000 Steps) (loss=0.49014): 100%|██████████| 80/80 [02:30<00:00,  1.88s/it]\n",
      "Training (11199 / 18000 Steps) (loss=0.52711): 100%|██████████| 80/80 [01:28<00:00,  1.10s/it]\n",
      "Validate (11200 / 10 Steps): 100%|██████████| 18/18 [01:02<00:00,  3.50s/it]?, ?it/s]\n",
      "Training (11200 / 18000 Steps) (loss=0.44139):   1%|▏         | 1/80 [01:06<1:27:53, 66.75s/it]"
     ]
    },
    {
     "name": "stdout",
     "output_type": "stream",
     "text": [
      "Model Was Not Saved ! Current Best Avg. Dice: 0.6139947175979614 Current Avg. Dice: 0.59437495470047 Current Avg. tumor Dice: 0.6146579384803772 Current Avg. lymph Dice: 0.5994502305984497\n"
     ]
    },
    {
     "name": "stderr",
     "output_type": "stream",
     "text": [
      "Training (11279 / 18000 Steps) (loss=0.36510): 100%|██████████| 80/80 [02:32<00:00,  1.90s/it] \n",
      "Validate (11280 / 10 Steps): 100%|██████████| 18/18 [01:02<00:00,  3.49s/it]<01:04,  1.07s/it]\n",
      "Training (11300 / 18000 Steps) (loss=0.48946):  26%|██▋       | 21/80 [01:27<19:34, 19.90s/it]"
     ]
    },
    {
     "name": "stdout",
     "output_type": "stream",
     "text": [
      "Model Was Not Saved ! Current Best Avg. Dice: 0.6139947175979614 Current Avg. Dice: 0.6080501079559326 Current Avg. tumor Dice: 0.6347333788871765 Current Avg. lymph Dice: 0.6033267378807068\n"
     ]
    },
    {
     "name": "stderr",
     "output_type": "stream",
     "text": [
      "Training (11359 / 18000 Steps) (loss=0.53490): 100%|██████████| 80/80 [02:30<00:00,  1.88s/it]\n",
      "Validate (11360 / 10 Steps): 100%|██████████| 18/18 [01:02<00:00,  3.49s/it]<00:41,  1.05s/it]\n",
      "Training (11400 / 18000 Steps) (loss=0.28268):  51%|█████▏    | 41/80 [01:49<12:57, 19.94s/it]"
     ]
    },
    {
     "name": "stdout",
     "output_type": "stream",
     "text": [
      "Model Was Not Saved ! Current Best Avg. Dice: 0.6139947175979614 Current Avg. Dice: 0.6069315671920776 Current Avg. tumor Dice: 0.6301946640014648 Current Avg. lymph Dice: 0.6070311069488525\n"
     ]
    },
    {
     "name": "stderr",
     "output_type": "stream",
     "text": [
      "Training (11439 / 18000 Steps) (loss=0.56281): 100%|██████████| 80/80 [02:30<00:00,  1.89s/it]\n",
      "Validate (11440 / 10 Steps): 100%|██████████| 18/18 [01:02<00:00,  3.49s/it]<00:21,  1.07s/it]\n",
      "Training (11500 / 18000 Steps) (loss=0.45452):  76%|███████▋  | 61/80 [02:10<06:18, 19.91s/it]"
     ]
    },
    {
     "name": "stdout",
     "output_type": "stream",
     "text": [
      "Model Was Not Saved ! Current Best Avg. Dice: 0.6139947175979614 Current Avg. Dice: 0.6037760972976685 Current Avg. tumor Dice: 0.6320703625679016 Current Avg. lymph Dice: 0.5996278524398804\n"
     ]
    },
    {
     "name": "stderr",
     "output_type": "stream",
     "text": [
      "Training (11519 / 18000 Steps) (loss=0.48514): 100%|██████████| 80/80 [02:31<00:00,  1.89s/it]\n",
      "Training (11599 / 18000 Steps) (loss=0.43548): 100%|██████████| 80/80 [01:27<00:00,  1.09s/it]\n",
      "Validate (11600 / 10 Steps): 100%|██████████| 18/18 [01:02<00:00,  3.49s/it]?, ?it/s]\n",
      "Training (11600 / 18000 Steps) (loss=0.39316):   1%|▏         | 1/80 [01:06<1:27:49, 66.70s/it]"
     ]
    },
    {
     "name": "stdout",
     "output_type": "stream",
     "text": [
      "Model Was Not Saved ! Current Best Avg. Dice: 0.6139947175979614 Current Avg. Dice: 0.5981845259666443 Current Avg. tumor Dice: 0.6204900741577148 Current Avg. lymph Dice: 0.5979931354522705\n"
     ]
    },
    {
     "name": "stderr",
     "output_type": "stream",
     "text": [
      "Training (11679 / 18000 Steps) (loss=0.57776): 100%|██████████| 80/80 [02:30<00:00,  1.88s/it] \n",
      "Validate (11680 / 10 Steps): 100%|██████████| 18/18 [01:03<00:00,  3.50s/it]<01:03,  1.07s/it]\n",
      "Training (11700 / 18000 Steps) (loss=0.40617):  26%|██▋       | 21/80 [01:28<19:40, 20.00s/it]"
     ]
    },
    {
     "name": "stdout",
     "output_type": "stream",
     "text": [
      "Model Was Not Saved ! Current Best Avg. Dice: 0.6139947175979614 Current Avg. Dice: 0.5865712761878967 Current Avg. tumor Dice: 0.6139375567436218 Current Avg. lymph Dice: 0.586968183517456\n"
     ]
    },
    {
     "name": "stderr",
     "output_type": "stream",
     "text": [
      "Training (11759 / 18000 Steps) (loss=0.43490): 100%|██████████| 80/80 [02:32<00:00,  1.90s/it]\n",
      "Validate (11760 / 10 Steps): 100%|██████████| 18/18 [01:03<00:00,  3.52s/it]<00:42,  1.06s/it]\n",
      "Training (11800 / 18000 Steps) (loss=0.40133):  51%|█████▏    | 41/80 [01:50<13:05, 20.15s/it]"
     ]
    },
    {
     "name": "stdout",
     "output_type": "stream",
     "text": [
      "Model Was Not Saved ! Current Best Avg. Dice: 0.6139947175979614 Current Avg. Dice: 0.6060049533843994 Current Avg. tumor Dice: 0.6356615424156189 Current Avg. lymph Dice: 0.5981799960136414\n"
     ]
    },
    {
     "name": "stderr",
     "output_type": "stream",
     "text": [
      "Training (11839 / 18000 Steps) (loss=0.29091): 100%|██████████| 80/80 [02:31<00:00,  1.90s/it]\n",
      "Validate (11840 / 10 Steps): 100%|██████████| 18/18 [01:02<00:00,  3.50s/it]<00:21,  1.09s/it]\n",
      "Training (11900 / 18000 Steps) (loss=0.49959):  76%|███████▋  | 61/80 [02:10<06:19, 19.99s/it]"
     ]
    },
    {
     "name": "stdout",
     "output_type": "stream",
     "text": [
      "Model Was Not Saved ! Current Best Avg. Dice: 0.6139947175979614 Current Avg. Dice: 0.5960758924484253 Current Avg. tumor Dice: 0.6214616298675537 Current Avg. lymph Dice: 0.596390962600708\n"
     ]
    },
    {
     "name": "stderr",
     "output_type": "stream",
     "text": [
      "Training (11919 / 18000 Steps) (loss=0.45924): 100%|██████████| 80/80 [02:31<00:00,  1.89s/it]\n",
      "Training (11999 / 18000 Steps) (loss=0.49247): 100%|██████████| 80/80 [01:28<00:00,  1.11s/it]\n",
      "Validate (12000 / 10 Steps): 100%|██████████| 18/18 [01:03<00:00,  3.52s/it]?, ?it/s]\n",
      "Training (12000 / 18000 Steps) (loss=0.43492):   1%|▏         | 1/80 [01:07<1:28:28, 67.20s/it]"
     ]
    },
    {
     "name": "stdout",
     "output_type": "stream",
     "text": [
      "Model Was Not Saved ! Current Best Avg. Dice: 0.6139947175979614 Current Avg. Dice: 0.5835228562355042 Current Avg. tumor Dice: 0.595238447189331 Current Avg. lymph Dice: 0.5913805961608887\n"
     ]
    },
    {
     "name": "stderr",
     "output_type": "stream",
     "text": [
      "Training (12079 / 18000 Steps) (loss=0.58485): 100%|██████████| 80/80 [02:32<00:00,  1.91s/it] \n",
      "Validate (12080 / 10 Steps): 100%|██████████| 18/18 [01:02<00:00,  3.49s/it]<01:04,  1.08s/it]\n",
      "Training (12100 / 18000 Steps) (loss=0.40910):  26%|██▋       | 21/80 [01:28<19:37, 19.95s/it]"
     ]
    },
    {
     "name": "stdout",
     "output_type": "stream",
     "text": [
      "Model Was Not Saved ! Current Best Avg. Dice: 0.6139947175979614 Current Avg. Dice: 0.6011434197425842 Current Avg. tumor Dice: 0.6218220591545105 Current Avg. lymph Dice: 0.6032602787017822\n"
     ]
    },
    {
     "name": "stderr",
     "output_type": "stream",
     "text": [
      "Training (12159 / 18000 Steps) (loss=0.59865): 100%|██████████| 80/80 [02:32<00:00,  1.90s/it]\n",
      "Validate (12160 / 10 Steps): 100%|██████████| 18/18 [01:02<00:00,  3.47s/it]<00:42,  1.06s/it]\n",
      "Training (12200 / 18000 Steps) (loss=0.49199):  51%|█████▏    | 41/80 [01:49<12:53, 19.84s/it]"
     ]
    },
    {
     "name": "stdout",
     "output_type": "stream",
     "text": [
      "Model Was Not Saved ! Current Best Avg. Dice: 0.6139947175979614 Current Avg. Dice: 0.6112013459205627 Current Avg. tumor Dice: 0.6396706700325012 Current Avg. lymph Dice: 0.6019008755683899\n"
     ]
    },
    {
     "name": "stderr",
     "output_type": "stream",
     "text": [
      "Training (12239 / 18000 Steps) (loss=0.46462): 100%|██████████| 80/80 [02:31<00:00,  1.90s/it]\n",
      "Validate (12240 / 10 Steps): 100%|██████████| 18/18 [01:02<00:00,  3.49s/it]<00:21,  1.07s/it]\n",
      "Training (12300 / 18000 Steps) (loss=0.49175):  76%|███████▋  | 61/80 [02:10<06:18, 19.90s/it]"
     ]
    },
    {
     "name": "stdout",
     "output_type": "stream",
     "text": [
      "Model Was Not Saved ! Current Best Avg. Dice: 0.6139947175979614 Current Avg. Dice: 0.6060606837272644 Current Avg. tumor Dice: 0.6328738927841187 Current Avg. lymph Dice: 0.6046728491783142\n"
     ]
    },
    {
     "name": "stderr",
     "output_type": "stream",
     "text": [
      "Training (12319 / 18000 Steps) (loss=0.35894): 100%|██████████| 80/80 [02:31<00:00,  1.89s/it]\n",
      "Training (12399 / 18000 Steps) (loss=0.46038): 100%|██████████| 80/80 [01:28<00:00,  1.10s/it]\n",
      "Validate (12400 / 10 Steps): 100%|██████████| 18/18 [01:03<00:00,  3.51s/it]?, ?it/s]\n",
      "Training (12400 / 18000 Steps) (loss=0.47226):   1%|▏         | 1/80 [01:06<1:27:35, 66.53s/it]"
     ]
    },
    {
     "name": "stdout",
     "output_type": "stream",
     "text": [
      "Model Was Not Saved ! Current Best Avg. Dice: 0.6139947175979614 Current Avg. Dice: 0.602153480052948 Current Avg. tumor Dice: 0.6307082176208496 Current Avg. lymph Dice: 0.5991020798683167\n"
     ]
    },
    {
     "name": "stderr",
     "output_type": "stream",
     "text": [
      "Training (12479 / 18000 Steps) (loss=0.45513): 100%|██████████| 80/80 [02:32<00:00,  1.90s/it] \n",
      "Validate (12480 / 10 Steps): 100%|██████████| 18/18 [01:03<00:00,  3.51s/it]<01:04,  1.07s/it]\n",
      "Training (12500 / 18000 Steps) (loss=0.32048):  26%|██▋       | 21/80 [01:28<19:43, 20.06s/it]"
     ]
    },
    {
     "name": "stdout",
     "output_type": "stream",
     "text": [
      "Model Was Not Saved ! Current Best Avg. Dice: 0.6139947175979614 Current Avg. Dice: 0.5833668112754822 Current Avg. tumor Dice: 0.6028029322624207 Current Avg. lymph Dice: 0.5873927474021912\n"
     ]
    },
    {
     "name": "stderr",
     "output_type": "stream",
     "text": [
      "Training (12559 / 18000 Steps) (loss=0.48263): 100%|██████████| 80/80 [02:31<00:00,  1.90s/it]\n",
      "Validate (12560 / 10 Steps): 100%|██████████| 18/18 [01:03<00:00,  3.51s/it]<00:42,  1.06s/it]\n",
      "Training (12600 / 18000 Steps) (loss=0.51302):  51%|█████▏    | 41/80 [01:50<13:02, 20.07s/it]"
     ]
    },
    {
     "name": "stdout",
     "output_type": "stream",
     "text": [
      "Model Was Not Saved ! Current Best Avg. Dice: 0.6139947175979614 Current Avg. Dice: 0.6103925704956055 Current Avg. tumor Dice: 0.6406997442245483 Current Avg. lymph Dice: 0.6020820140838623\n"
     ]
    },
    {
     "name": "stderr",
     "output_type": "stream",
     "text": [
      "Training (12639 / 18000 Steps) (loss=0.49770): 100%|██████████| 80/80 [02:32<00:00,  1.90s/it]\n",
      "Validate (12640 / 10 Steps): 100%|██████████| 18/18 [01:03<00:00,  3.51s/it]<00:21,  1.08s/it]\n",
      "Training (12700 / 18000 Steps) (loss=0.47642):  76%|███████▋  | 61/80 [02:12<06:25, 20.28s/it]"
     ]
    },
    {
     "name": "stdout",
     "output_type": "stream",
     "text": [
      "Model Was Saved ! Current Best Avg. Dice: 0.61667799949646 Current Avg. Dice: 0.61667799949646 Current Avg. tumor Dice: 0.6498101949691772 Current Avg. lymph Dice: 0.6059107184410095\n"
     ]
    },
    {
     "name": "stderr",
     "output_type": "stream",
     "text": [
      "Training (12719 / 18000 Steps) (loss=0.39661): 100%|██████████| 80/80 [02:33<00:00,  1.92s/it]\n",
      "Training (12799 / 18000 Steps) (loss=0.34329): 100%|██████████| 80/80 [01:28<00:00,  1.11s/it]\n",
      "Validate (12800 / 10 Steps): 100%|██████████| 18/18 [01:02<00:00,  3.50s/it]?, ?it/s]\n",
      "Training (12800 / 18000 Steps) (loss=0.46280):   1%|▏         | 1/80 [01:06<1:27:43, 66.62s/it]"
     ]
    },
    {
     "name": "stdout",
     "output_type": "stream",
     "text": [
      "Model Was Not Saved ! Current Best Avg. Dice: 0.61667799949646 Current Avg. Dice: 0.5928610563278198 Current Avg. tumor Dice: 0.620343804359436 Current Avg. lymph Dice: 0.590084433555603\n"
     ]
    },
    {
     "name": "stderr",
     "output_type": "stream",
     "text": [
      "Training (12879 / 18000 Steps) (loss=0.51438): 100%|██████████| 80/80 [02:31<00:00,  1.90s/it] \n",
      "Validate (12880 / 10 Steps): 100%|██████████| 18/18 [01:02<00:00,  3.49s/it]<01:04,  1.08s/it]\n",
      "Training (12900 / 18000 Steps) (loss=0.41624):  26%|██▋       | 21/80 [01:28<19:36, 19.94s/it]"
     ]
    },
    {
     "name": "stdout",
     "output_type": "stream",
     "text": [
      "Model Was Not Saved ! Current Best Avg. Dice: 0.61667799949646 Current Avg. Dice: 0.5914416909217834 Current Avg. tumor Dice: 0.6107324361801147 Current Avg. lymph Dice: 0.5989587903022766\n"
     ]
    },
    {
     "name": "stderr",
     "output_type": "stream",
     "text": [
      "Training (12959 / 18000 Steps) (loss=0.33318): 100%|██████████| 80/80 [02:32<00:00,  1.90s/it]\n",
      "Validate (12960 / 10 Steps): 100%|██████████| 18/18 [01:03<00:00,  3.51s/it]<00:42,  1.05s/it]\n",
      "Training (13000 / 18000 Steps) (loss=0.53225):  51%|█████▏    | 41/80 [01:50<13:04, 20.12s/it]"
     ]
    },
    {
     "name": "stdout",
     "output_type": "stream",
     "text": [
      "Model Was Not Saved ! Current Best Avg. Dice: 0.61667799949646 Current Avg. Dice: 0.5998291373252869 Current Avg. tumor Dice: 0.6245397925376892 Current Avg. lymph Dice: 0.6001986265182495\n"
     ]
    },
    {
     "name": "stderr",
     "output_type": "stream",
     "text": [
      "Training (13039 / 18000 Steps) (loss=0.49914): 100%|██████████| 80/80 [02:31<00:00,  1.90s/it]\n",
      "Validate (13040 / 10 Steps): 100%|██████████| 18/18 [01:02<00:00,  3.49s/it]<00:21,  1.06s/it]\n",
      "Training (13100 / 18000 Steps) (loss=0.56877):  76%|███████▋  | 61/80 [02:10<06:18, 19.94s/it]"
     ]
    },
    {
     "name": "stdout",
     "output_type": "stream",
     "text": [
      "Model Was Not Saved ! Current Best Avg. Dice: 0.61667799949646 Current Avg. Dice: 0.6125937104225159 Current Avg. tumor Dice: 0.6436637043952942 Current Avg. lymph Dice: 0.6058244705200195\n"
     ]
    },
    {
     "name": "stderr",
     "output_type": "stream",
     "text": [
      "Training (13119 / 18000 Steps) (loss=0.55786): 100%|██████████| 80/80 [02:31<00:00,  1.89s/it]\n",
      "Training (13199 / 18000 Steps) (loss=0.45096): 100%|██████████| 80/80 [01:28<00:00,  1.11s/it]\n",
      "Validate (13200 / 10 Steps): 100%|██████████| 18/18 [01:03<00:00,  3.50s/it]?, ?it/s]\n",
      "Training (13200 / 18000 Steps) (loss=0.56373):   1%|▏         | 1/80 [01:06<1:27:41, 66.60s/it]"
     ]
    },
    {
     "name": "stdout",
     "output_type": "stream",
     "text": [
      "Model Was Not Saved ! Current Best Avg. Dice: 0.61667799949646 Current Avg. Dice: 0.6126612424850464 Current Avg. tumor Dice: 0.6374630928039551 Current Avg. lymph Dice: 0.6088559031486511\n"
     ]
    },
    {
     "name": "stderr",
     "output_type": "stream",
     "text": [
      "Training (13279 / 18000 Steps) (loss=0.45114): 100%|██████████| 80/80 [02:32<00:00,  1.90s/it] \n",
      "Validate (13280 / 10 Steps): 100%|██████████| 18/18 [01:02<00:00,  3.49s/it]<01:05,  1.09s/it]\n",
      "Training (13300 / 18000 Steps) (loss=0.48235):  26%|██▋       | 21/80 [01:28<19:37, 19.96s/it]"
     ]
    },
    {
     "name": "stdout",
     "output_type": "stream",
     "text": [
      "Model Was Not Saved ! Current Best Avg. Dice: 0.61667799949646 Current Avg. Dice: 0.6083401441574097 Current Avg. tumor Dice: 0.6399837136268616 Current Avg. lymph Dice: 0.6009994149208069\n"
     ]
    },
    {
     "name": "stderr",
     "output_type": "stream",
     "text": [
      "Training (13359 / 18000 Steps) (loss=0.45411): 100%|██████████| 80/80 [02:31<00:00,  1.89s/it]\n",
      "Validate (13360 / 10 Steps): 100%|██████████| 18/18 [01:02<00:00,  3.50s/it]<00:42,  1.06s/it]\n",
      "Training (13400 / 18000 Steps) (loss=0.59679):  51%|█████▏    | 41/80 [01:49<13:00, 20.00s/it]"
     ]
    },
    {
     "name": "stdout",
     "output_type": "stream",
     "text": [
      "Model Was Not Saved ! Current Best Avg. Dice: 0.61667799949646 Current Avg. Dice: 0.6093049645423889 Current Avg. tumor Dice: 0.6358104944229126 Current Avg. lymph Dice: 0.605796217918396\n"
     ]
    },
    {
     "name": "stderr",
     "output_type": "stream",
     "text": [
      "Training (13439 / 18000 Steps) (loss=0.57571): 100%|██████████| 80/80 [02:32<00:00,  1.90s/it]\n",
      "Validate (13440 / 10 Steps): 100%|██████████| 18/18 [01:03<00:00,  3.52s/it]<00:21,  1.09s/it]\n",
      "Training (13500 / 18000 Steps) (loss=0.38932):  76%|███████▋  | 61/80 [02:12<06:22, 20.13s/it]"
     ]
    },
    {
     "name": "stdout",
     "output_type": "stream",
     "text": [
      "Model Was Not Saved ! Current Best Avg. Dice: 0.61667799949646 Current Avg. Dice: 0.6041069030761719 Current Avg. tumor Dice: 0.6286786794662476 Current Avg. lymph Dice: 0.6051385402679443\n"
     ]
    },
    {
     "name": "stderr",
     "output_type": "stream",
     "text": [
      "Training (13519 / 18000 Steps) (loss=0.40986): 100%|██████████| 80/80 [02:32<00:00,  1.91s/it]\n",
      "Training (13599 / 18000 Steps) (loss=0.51060): 100%|██████████| 80/80 [01:29<00:00,  1.11s/it]\n",
      "Validate (13600 / 10 Steps): 100%|██████████| 18/18 [01:03<00:00,  3.52s/it]?, ?it/s]\n",
      "Training (13600 / 18000 Steps) (loss=0.50235):   1%|▏         | 1/80 [01:06<1:28:11, 66.98s/it]"
     ]
    },
    {
     "name": "stdout",
     "output_type": "stream",
     "text": [
      "Model Was Not Saved ! Current Best Avg. Dice: 0.61667799949646 Current Avg. Dice: 0.6007643938064575 Current Avg. tumor Dice: 0.6238574981689453 Current Avg. lymph Dice: 0.600411057472229\n"
     ]
    },
    {
     "name": "stderr",
     "output_type": "stream",
     "text": [
      "Training (13679 / 18000 Steps) (loss=0.45968): 100%|██████████| 80/80 [02:33<00:00,  1.91s/it] \n",
      "Validate (13680 / 10 Steps): 100%|██████████| 18/18 [01:03<00:00,  3.52s/it]<01:04,  1.08s/it]\n",
      "Training (13700 / 18000 Steps) (loss=0.49961):  26%|██▋       | 21/80 [01:28<19:44, 20.07s/it]"
     ]
    },
    {
     "name": "stdout",
     "output_type": "stream",
     "text": [
      "Model Was Not Saved ! Current Best Avg. Dice: 0.61667799949646 Current Avg. Dice: 0.5987827777862549 Current Avg. tumor Dice: 0.6120896339416504 Current Avg. lymph Dice: 0.6129852533340454\n"
     ]
    },
    {
     "name": "stderr",
     "output_type": "stream",
     "text": [
      "Training (13759 / 18000 Steps) (loss=0.52274): 100%|██████████| 80/80 [02:32<00:00,  1.91s/it]\n",
      "Validate (13760 / 10 Steps): 100%|██████████| 18/18 [01:03<00:00,  3.52s/it]<00:42,  1.06s/it]\n",
      "Training (13800 / 18000 Steps) (loss=0.47840):  51%|█████▏    | 41/80 [01:50<13:03, 20.09s/it]"
     ]
    },
    {
     "name": "stdout",
     "output_type": "stream",
     "text": [
      "Model Was Not Saved ! Current Best Avg. Dice: 0.61667799949646 Current Avg. Dice: 0.6145767569541931 Current Avg. tumor Dice: 0.642086923122406 Current Avg. lymph Dice: 0.6144644021987915\n"
     ]
    },
    {
     "name": "stderr",
     "output_type": "stream",
     "text": [
      "Training (13839 / 18000 Steps) (loss=0.40314): 100%|██████████| 80/80 [02:32<00:00,  1.90s/it]\n",
      "Validate (13840 / 10 Steps): 100%|██████████| 18/18 [01:03<00:00,  3.50s/it]<00:21,  1.09s/it]\n",
      "Training (13900 / 18000 Steps) (loss=0.41314):  76%|███████▋  | 61/80 [02:11<06:20, 20.01s/it]"
     ]
    },
    {
     "name": "stdout",
     "output_type": "stream",
     "text": [
      "Model Was Not Saved ! Current Best Avg. Dice: 0.61667799949646 Current Avg. Dice: 0.5943378806114197 Current Avg. tumor Dice: 0.6125229001045227 Current Avg. lymph Dice: 0.6015331745147705\n"
     ]
    },
    {
     "name": "stderr",
     "output_type": "stream",
     "text": [
      "Training (13919 / 18000 Steps) (loss=0.37970): 100%|██████████| 80/80 [02:31<00:00,  1.90s/it]\n",
      "Training (13999 / 18000 Steps) (loss=0.55401): 100%|██████████| 80/80 [01:28<00:00,  1.10s/it]\n",
      "Validate (14000 / 10 Steps): 100%|██████████| 18/18 [01:02<00:00,  3.49s/it]?, ?it/s]\n",
      "Training (14000 / 18000 Steps) (loss=0.58823):   1%|▏         | 1/80 [01:06<1:27:34, 66.52s/it]"
     ]
    },
    {
     "name": "stdout",
     "output_type": "stream",
     "text": [
      "Model Was Not Saved ! Current Best Avg. Dice: 0.61667799949646 Current Avg. Dice: 0.6063241958618164 Current Avg. tumor Dice: 0.6292038559913635 Current Avg. lymph Dice: 0.6027790904045105\n"
     ]
    },
    {
     "name": "stderr",
     "output_type": "stream",
     "text": [
      "Training (14079 / 18000 Steps) (loss=0.50514): 100%|██████████| 80/80 [02:30<00:00,  1.88s/it] \n",
      "Validate (14080 / 10 Steps): 100%|██████████| 18/18 [01:02<00:00,  3.47s/it]<01:04,  1.08s/it]\n",
      "Training (14100 / 18000 Steps) (loss=0.42409):  26%|██▋       | 21/80 [01:27<19:30, 19.85s/it]"
     ]
    },
    {
     "name": "stdout",
     "output_type": "stream",
     "text": [
      "Model Was Not Saved ! Current Best Avg. Dice: 0.61667799949646 Current Avg. Dice: 0.5994027256965637 Current Avg. tumor Dice: 0.6209778785705566 Current Avg. lymph Dice: 0.600124180316925\n"
     ]
    },
    {
     "name": "stderr",
     "output_type": "stream",
     "text": [
      "Training (14159 / 18000 Steps) (loss=0.27756): 100%|██████████| 80/80 [02:30<00:00,  1.88s/it]\n",
      "Validate (14160 / 10 Steps): 100%|██████████| 18/18 [01:02<00:00,  3.48s/it]<00:41,  1.05s/it]\n",
      "Training (14200 / 18000 Steps) (loss=0.53479):  51%|█████▏    | 41/80 [01:50<13:04, 20.13s/it]"
     ]
    },
    {
     "name": "stdout",
     "output_type": "stream",
     "text": [
      "Model Was Saved ! Current Best Avg. Dice: 0.6181695461273193 Current Avg. Dice: 0.6181695461273193 Current Avg. tumor Dice: 0.6550329923629761 Current Avg. lymph Dice: 0.6038086414337158\n"
     ]
    },
    {
     "name": "stderr",
     "output_type": "stream",
     "text": [
      "Training (14239 / 18000 Steps) (loss=0.61273): 100%|██████████| 80/80 [02:31<00:00,  1.90s/it]\n",
      "Validate (14240 / 10 Steps): 100%|██████████| 18/18 [01:02<00:00,  3.47s/it]<00:21,  1.05s/it]\n",
      "Training (14300 / 18000 Steps) (loss=0.49040):  76%|███████▋  | 61/80 [02:09<06:15, 19.77s/it]"
     ]
    },
    {
     "name": "stdout",
     "output_type": "stream",
     "text": [
      "Model Was Not Saved ! Current Best Avg. Dice: 0.6181695461273193 Current Avg. Dice: 0.6089627742767334 Current Avg. tumor Dice: 0.6378838419914246 Current Avg. lymph Dice: 0.6058495044708252\n"
     ]
    },
    {
     "name": "stderr",
     "output_type": "stream",
     "text": [
      "Training (14319 / 18000 Steps) (loss=0.41571): 100%|██████████| 80/80 [02:30<00:00,  1.88s/it]\n",
      "Training (14399 / 18000 Steps) (loss=0.48505): 100%|██████████| 80/80 [01:27<00:00,  1.09s/it]\n",
      "Validate (14400 / 10 Steps): 100%|██████████| 18/18 [01:02<00:00,  3.46s/it]?, ?it/s]\n",
      "Training (14400 / 18000 Steps) (loss=0.39753):   1%|▏         | 1/80 [01:05<1:26:46, 65.90s/it]"
     ]
    },
    {
     "name": "stdout",
     "output_type": "stream",
     "text": [
      "Model Was Not Saved ! Current Best Avg. Dice: 0.6181695461273193 Current Avg. Dice: 0.5929968953132629 Current Avg. tumor Dice: 0.6107226610183716 Current Avg. lymph Dice: 0.604598879814148\n"
     ]
    },
    {
     "name": "stderr",
     "output_type": "stream",
     "text": [
      "Training (14479 / 18000 Steps) (loss=0.34137): 100%|██████████| 80/80 [02:30<00:00,  1.88s/it] \n",
      "Validate (14480 / 10 Steps): 100%|██████████| 18/18 [01:02<00:00,  3.49s/it]<01:03,  1.06s/it]\n",
      "Training (14500 / 18000 Steps) (loss=0.38693):  26%|██▋       | 21/80 [01:28<19:51, 20.20s/it]"
     ]
    },
    {
     "name": "stdout",
     "output_type": "stream",
     "text": [
      "Model Was Saved ! Current Best Avg. Dice: 0.6182186603546143 Current Avg. Dice: 0.6182186603546143 Current Avg. tumor Dice: 0.6462359428405762 Current Avg. lymph Dice: 0.6108390688896179\n"
     ]
    },
    {
     "name": "stderr",
     "output_type": "stream",
     "text": [
      "Training (14559 / 18000 Steps) (loss=0.50188): 100%|██████████| 80/80 [02:31<00:00,  1.90s/it]\n",
      "Validate (14560 / 10 Steps): 100%|██████████| 18/18 [01:03<00:00,  3.50s/it]<00:43,  1.08s/it]\n",
      "Training (14600 / 18000 Steps) (loss=0.49091):  51%|█████▏    | 41/80 [01:50<13:02, 20.08s/it]"
     ]
    },
    {
     "name": "stdout",
     "output_type": "stream",
     "text": [
      "Model Was Not Saved ! Current Best Avg. Dice: 0.6182186603546143 Current Avg. Dice: 0.6060627698898315 Current Avg. tumor Dice: 0.6301506757736206 Current Avg. lymph Dice: 0.6075553297996521\n"
     ]
    },
    {
     "name": "stderr",
     "output_type": "stream",
     "text": [
      "Training (14639 / 18000 Steps) (loss=0.42227): 100%|██████████| 80/80 [02:31<00:00,  1.90s/it]\n",
      "Validate (14640 / 10 Steps): 100%|██████████| 18/18 [01:02<00:00,  3.50s/it]<00:21,  1.07s/it]\n",
      "Training (14700 / 18000 Steps) (loss=0.45472):  76%|███████▋  | 61/80 [02:10<06:19, 19.95s/it]"
     ]
    },
    {
     "name": "stdout",
     "output_type": "stream",
     "text": [
      "Model Was Not Saved ! Current Best Avg. Dice: 0.6182186603546143 Current Avg. Dice: 0.6027882695198059 Current Avg. tumor Dice: 0.630741536617279 Current Avg. lymph Dice: 0.6010234951972961\n"
     ]
    },
    {
     "name": "stderr",
     "output_type": "stream",
     "text": [
      "Training (14719 / 18000 Steps) (loss=0.40405): 100%|██████████| 80/80 [02:31<00:00,  1.89s/it]\n",
      "Training (14799 / 18000 Steps) (loss=0.43039): 100%|██████████| 80/80 [01:28<00:00,  1.10s/it]\n",
      "Validate (14800 / 10 Steps): 100%|██████████| 18/18 [01:02<00:00,  3.50s/it]?, ?it/s]\n",
      "Training (14800 / 18000 Steps) (loss=0.52829):   1%|▏         | 1/80 [01:06<1:27:43, 66.62s/it]"
     ]
    },
    {
     "name": "stdout",
     "output_type": "stream",
     "text": [
      "Model Was Not Saved ! Current Best Avg. Dice: 0.6182186603546143 Current Avg. Dice: 0.6106073260307312 Current Avg. tumor Dice: 0.6452217102050781 Current Avg. lymph Dice: 0.6027317643165588\n"
     ]
    },
    {
     "name": "stderr",
     "output_type": "stream",
     "text": [
      "Training (14879 / 18000 Steps) (loss=0.60553): 100%|██████████| 80/80 [02:32<00:00,  1.91s/it] \n",
      "Validate (14880 / 10 Steps): 100%|██████████| 18/18 [01:02<00:00,  3.49s/it]<01:05,  1.09s/it]\n",
      "Training (14900 / 18000 Steps) (loss=0.42913):  26%|██▋       | 21/80 [01:28<19:38, 19.97s/it]"
     ]
    },
    {
     "name": "stdout",
     "output_type": "stream",
     "text": [
      "Model Was Not Saved ! Current Best Avg. Dice: 0.6182186603546143 Current Avg. Dice: 0.6031601428985596 Current Avg. tumor Dice: 0.6347519755363464 Current Avg. lymph Dice: 0.596690833568573\n"
     ]
    },
    {
     "name": "stderr",
     "output_type": "stream",
     "text": [
      "Training (14959 / 18000 Steps) (loss=0.48572): 100%|██████████| 80/80 [02:31<00:00,  1.90s/it]\n",
      "Validate (14960 / 10 Steps): 100%|██████████| 18/18 [01:03<00:00,  3.50s/it]<00:42,  1.05s/it]\n",
      "Training (15000 / 18000 Steps) (loss=0.50369):  51%|█████▏    | 41/80 [01:49<12:59, 20.00s/it]"
     ]
    },
    {
     "name": "stdout",
     "output_type": "stream",
     "text": [
      "Model Was Not Saved ! Current Best Avg. Dice: 0.6182186603546143 Current Avg. Dice: 0.6097909808158875 Current Avg. tumor Dice: 0.6378405690193176 Current Avg. lymph Dice: 0.6035386323928833\n"
     ]
    },
    {
     "name": "stderr",
     "output_type": "stream",
     "text": [
      "Training (15039 / 18000 Steps) (loss=0.51126): 100%|██████████| 80/80 [02:31<00:00,  1.89s/it]\n",
      "Validate (15040 / 10 Steps): 100%|██████████| 18/18 [01:02<00:00,  3.50s/it]<00:21,  1.07s/it]\n",
      "Training (15100 / 18000 Steps) (loss=0.53000):  76%|███████▋  | 61/80 [02:11<06:19, 19.97s/it]"
     ]
    },
    {
     "name": "stdout",
     "output_type": "stream",
     "text": [
      "Model Was Not Saved ! Current Best Avg. Dice: 0.6182186603546143 Current Avg. Dice: 0.6167137026786804 Current Avg. tumor Dice: 0.6508280634880066 Current Avg. lymph Dice: 0.6067176461219788\n"
     ]
    },
    {
     "name": "stderr",
     "output_type": "stream",
     "text": [
      "Training (15119 / 18000 Steps) (loss=0.40031): 100%|██████████| 80/80 [02:31<00:00,  1.90s/it]\n",
      "Training (15199 / 18000 Steps) (loss=0.46840): 100%|██████████| 80/80 [01:29<00:00,  1.12s/it]\n",
      "Validate (15200 / 10 Steps): 100%|██████████| 18/18 [01:02<00:00,  3.49s/it]?, ?it/s]\n",
      "Training (15200 / 18000 Steps) (loss=0.48971):   1%|▏         | 1/80 [01:06<1:27:35, 66.52s/it]"
     ]
    },
    {
     "name": "stdout",
     "output_type": "stream",
     "text": [
      "Model Was Not Saved ! Current Best Avg. Dice: 0.6182186603546143 Current Avg. Dice: 0.6083512306213379 Current Avg. tumor Dice: 0.6390498876571655 Current Avg. lymph Dice: 0.60069739818573\n"
     ]
    },
    {
     "name": "stderr",
     "output_type": "stream",
     "text": [
      "Training (15279 / 18000 Steps) (loss=0.38555): 100%|██████████| 80/80 [02:31<00:00,  1.90s/it] \n",
      "Validate (15280 / 10 Steps): 100%|██████████| 18/18 [01:02<00:00,  3.50s/it]<01:04,  1.07s/it]\n",
      "Training (15300 / 18000 Steps) (loss=0.38622):  26%|██▋       | 21/80 [01:28<19:38, 19.97s/it]"
     ]
    },
    {
     "name": "stdout",
     "output_type": "stream",
     "text": [
      "Model Was Not Saved ! Current Best Avg. Dice: 0.6182186603546143 Current Avg. Dice: 0.6080894470214844 Current Avg. tumor Dice: 0.6347068548202515 Current Avg. lymph Dice: 0.6098571419715881\n"
     ]
    },
    {
     "name": "stderr",
     "output_type": "stream",
     "text": [
      "Training (15359 / 18000 Steps) (loss=0.46420): 100%|██████████| 80/80 [02:31<00:00,  1.90s/it]\n",
      "Validate (15360 / 10 Steps): 100%|██████████| 18/18 [01:02<00:00,  3.50s/it]<00:42,  1.05s/it]\n",
      "Training (15400 / 18000 Steps) (loss=0.56878):  51%|█████▏    | 41/80 [01:49<13:00, 20.02s/it]"
     ]
    },
    {
     "name": "stdout",
     "output_type": "stream",
     "text": [
      "Model Was Not Saved ! Current Best Avg. Dice: 0.6182186603546143 Current Avg. Dice: 0.6065391898155212 Current Avg. tumor Dice: 0.6372899413108826 Current Avg. lymph Dice: 0.6016358137130737\n"
     ]
    },
    {
     "name": "stderr",
     "output_type": "stream",
     "text": [
      "Training (15439 / 18000 Steps) (loss=0.54540): 100%|██████████| 80/80 [02:31<00:00,  1.90s/it]\n",
      "Validate (15440 / 10 Steps): 100%|██████████| 18/18 [01:02<00:00,  3.50s/it]<00:21,  1.08s/it]\n",
      "Training (15500 / 18000 Steps) (loss=0.48902):  76%|███████▋  | 61/80 [02:11<06:19, 19.98s/it]"
     ]
    },
    {
     "name": "stdout",
     "output_type": "stream",
     "text": [
      "Model Was Not Saved ! Current Best Avg. Dice: 0.6182186603546143 Current Avg. Dice: 0.6003767848014832 Current Avg. tumor Dice: 0.6187202334403992 Current Avg. lymph Dice: 0.6080300807952881\n"
     ]
    },
    {
     "name": "stderr",
     "output_type": "stream",
     "text": [
      "Training (15519 / 18000 Steps) (loss=0.52942): 100%|██████████| 80/80 [02:32<00:00,  1.90s/it]\n",
      "Training (15599 / 18000 Steps) (loss=0.55503): 100%|██████████| 80/80 [01:29<00:00,  1.12s/it]\n",
      "Validate (15600 / 10 Steps): 100%|██████████| 18/18 [01:02<00:00,  3.50s/it]?, ?it/s]\n",
      "Training (15600 / 18000 Steps) (loss=0.52879):   1%|▏         | 1/80 [01:06<1:27:53, 66.75s/it]"
     ]
    },
    {
     "name": "stdout",
     "output_type": "stream",
     "text": [
      "Model Was Not Saved ! Current Best Avg. Dice: 0.6182186603546143 Current Avg. Dice: 0.608327329158783 Current Avg. tumor Dice: 0.6392886638641357 Current Avg. lymph Dice: 0.5981666445732117\n"
     ]
    },
    {
     "name": "stderr",
     "output_type": "stream",
     "text": [
      "Training (15679 / 18000 Steps) (loss=0.36552): 100%|██████████| 80/80 [02:31<00:00,  1.89s/it] \n",
      "Validate (15680 / 10 Steps): 100%|██████████| 18/18 [01:02<00:00,  3.50s/it]<01:04,  1.08s/it]\n",
      "Training (15700 / 18000 Steps) (loss=0.30221):  26%|██▋       | 21/80 [01:28<19:38, 19.98s/it]"
     ]
    },
    {
     "name": "stdout",
     "output_type": "stream",
     "text": [
      "Model Was Not Saved ! Current Best Avg. Dice: 0.6182186603546143 Current Avg. Dice: 0.6146821975708008 Current Avg. tumor Dice: 0.6508385539054871 Current Avg. lymph Dice: 0.6020364761352539\n"
     ]
    },
    {
     "name": "stderr",
     "output_type": "stream",
     "text": [
      "Training (15759 / 18000 Steps) (loss=0.53047): 100%|██████████| 80/80 [02:32<00:00,  1.90s/it]\n",
      "Validate (15760 / 10 Steps): 100%|██████████| 18/18 [01:03<00:00,  3.51s/it]<00:42,  1.05s/it]\n",
      "Training (15800 / 18000 Steps) (loss=0.48031):  51%|█████▏    | 41/80 [01:50<13:03, 20.10s/it]"
     ]
    },
    {
     "name": "stdout",
     "output_type": "stream",
     "text": [
      "Model Was Not Saved ! Current Best Avg. Dice: 0.6182186603546143 Current Avg. Dice: 0.6004648804664612 Current Avg. tumor Dice: 0.624967634677887 Current Avg. lymph Dice: 0.6001925468444824\n"
     ]
    },
    {
     "name": "stderr",
     "output_type": "stream",
     "text": [
      "Training (15839 / 18000 Steps) (loss=0.50083): 100%|██████████| 80/80 [02:32<00:00,  1.90s/it]\n",
      "Validate (15840 / 10 Steps): 100%|██████████| 18/18 [01:03<00:00,  3.50s/it]<00:21,  1.06s/it]\n",
      "Training (15900 / 18000 Steps) (loss=0.42999):  76%|███████▋  | 61/80 [02:10<06:19, 19.99s/it]"
     ]
    },
    {
     "name": "stdout",
     "output_type": "stream",
     "text": [
      "Model Was Not Saved ! Current Best Avg. Dice: 0.6182186603546143 Current Avg. Dice: 0.6094717383384705 Current Avg. tumor Dice: 0.6354143619537354 Current Avg. lymph Dice: 0.6077056527137756\n"
     ]
    },
    {
     "name": "stderr",
     "output_type": "stream",
     "text": [
      "Training (15919 / 18000 Steps) (loss=0.30529): 100%|██████████| 80/80 [02:31<00:00,  1.89s/it]\n",
      "Training (15999 / 18000 Steps) (loss=0.45779): 100%|██████████| 80/80 [01:28<00:00,  1.11s/it]\n",
      "Validate (16000 / 10 Steps): 100%|██████████| 18/18 [01:03<00:00,  3.51s/it]?, ?it/s]\n",
      "Training (16000 / 18000 Steps) (loss=0.50078):   1%|▏         | 1/80 [01:06<1:27:44, 66.64s/it]"
     ]
    },
    {
     "name": "stdout",
     "output_type": "stream",
     "text": [
      "Model Was Not Saved ! Current Best Avg. Dice: 0.6182186603546143 Current Avg. Dice: 0.6072684526443481 Current Avg. tumor Dice: 0.6313284039497375 Current Avg. lymph Dice: 0.6115421652793884\n"
     ]
    },
    {
     "name": "stderr",
     "output_type": "stream",
     "text": [
      "Training (16079 / 18000 Steps) (loss=0.30482): 100%|██████████| 80/80 [02:31<00:00,  1.90s/it] \n",
      "Validate (16080 / 10 Steps): 100%|██████████| 18/18 [01:03<00:00,  3.50s/it]<01:06,  1.11s/it]\n",
      "Training (16100 / 18000 Steps) (loss=0.39686):  26%|██▋       | 21/80 [01:28<19:42, 20.04s/it]"
     ]
    },
    {
     "name": "stdout",
     "output_type": "stream",
     "text": [
      "Model Was Not Saved ! Current Best Avg. Dice: 0.6182186603546143 Current Avg. Dice: 0.6000224351882935 Current Avg. tumor Dice: 0.6275391578674316 Current Avg. lymph Dice: 0.5984751582145691\n"
     ]
    },
    {
     "name": "stderr",
     "output_type": "stream",
     "text": [
      "Training (16159 / 18000 Steps) (loss=0.58415): 100%|██████████| 80/80 [02:31<00:00,  1.90s/it]\n",
      "Validate (16160 / 10 Steps): 100%|██████████| 18/18 [01:02<00:00,  3.49s/it]<00:42,  1.05s/it]\n",
      "Training (16200 / 18000 Steps) (loss=0.48176):  51%|█████▏    | 41/80 [01:49<13:00, 20.01s/it]"
     ]
    },
    {
     "name": "stdout",
     "output_type": "stream",
     "text": [
      "Model Was Not Saved ! Current Best Avg. Dice: 0.6182186603546143 Current Avg. Dice: 0.6031626462936401 Current Avg. tumor Dice: 0.6308788061141968 Current Avg. lymph Dice: 0.5982984900474548\n"
     ]
    },
    {
     "name": "stderr",
     "output_type": "stream",
     "text": [
      "Training (16239 / 18000 Steps) (loss=0.49755): 100%|██████████| 80/80 [02:31<00:00,  1.89s/it]\n",
      "Validate (16240 / 10 Steps): 100%|██████████| 18/18 [01:03<00:00,  3.50s/it]<00:21,  1.06s/it]\n",
      "Training (16300 / 18000 Steps) (loss=0.58615):  76%|███████▋  | 61/80 [02:11<06:24, 20.22s/it]"
     ]
    },
    {
     "name": "stdout",
     "output_type": "stream",
     "text": [
      "Model Was Saved ! Current Best Avg. Dice: 0.6228221654891968 Current Avg. Dice: 0.6228221654891968 Current Avg. tumor Dice: 0.6540142893791199 Current Avg. lymph Dice: 0.6134381294250488\n"
     ]
    },
    {
     "name": "stderr",
     "output_type": "stream",
     "text": [
      "Training (16319 / 18000 Steps) (loss=0.43365): 100%|██████████| 80/80 [02:32<00:00,  1.90s/it]\n",
      "Training (16399 / 18000 Steps) (loss=0.52144): 100%|██████████| 80/80 [01:28<00:00,  1.10s/it]\n",
      "Validate (16400 / 10 Steps): 100%|██████████| 18/18 [01:02<00:00,  3.50s/it]?, ?it/s]\n",
      "Training (16400 / 18000 Steps) (loss=0.52024):   1%|▏         | 1/80 [01:06<1:27:51, 66.73s/it]"
     ]
    },
    {
     "name": "stdout",
     "output_type": "stream",
     "text": [
      "Model Was Not Saved ! Current Best Avg. Dice: 0.6228221654891968 Current Avg. Dice: 0.6007603406906128 Current Avg. tumor Dice: 0.6270800232887268 Current Avg. lymph Dice: 0.6003163456916809\n"
     ]
    },
    {
     "name": "stderr",
     "output_type": "stream",
     "text": [
      "Training (16479 / 18000 Steps) (loss=0.47491): 100%|██████████| 80/80 [02:31<00:00,  1.89s/it] \n",
      "Validate (16480 / 10 Steps): 100%|██████████| 18/18 [01:02<00:00,  3.49s/it]<01:04,  1.08s/it]\n",
      "Training (16500 / 18000 Steps) (loss=0.44807):  26%|██▋       | 21/80 [01:27<19:36, 19.94s/it]"
     ]
    },
    {
     "name": "stdout",
     "output_type": "stream",
     "text": [
      "Model Was Not Saved ! Current Best Avg. Dice: 0.6228221654891968 Current Avg. Dice: 0.6034257411956787 Current Avg. tumor Dice: 0.6270856857299805 Current Avg. lymph Dice: 0.6054334044456482\n"
     ]
    },
    {
     "name": "stderr",
     "output_type": "stream",
     "text": [
      "Training (16559 / 18000 Steps) (loss=0.51663): 100%|██████████| 80/80 [02:31<00:00,  1.89s/it]\n",
      "Validate (16560 / 10 Steps): 100%|██████████| 18/18 [01:02<00:00,  3.50s/it]<00:42,  1.05s/it]\n",
      "Training (16600 / 18000 Steps) (loss=0.56162):  51%|█████▏    | 41/80 [01:49<12:58, 19.96s/it]"
     ]
    },
    {
     "name": "stdout",
     "output_type": "stream",
     "text": [
      "Model Was Not Saved ! Current Best Avg. Dice: 0.6228221654891968 Current Avg. Dice: 0.6022100448608398 Current Avg. tumor Dice: 0.6205060482025146 Current Avg. lymph Dice: 0.6091756224632263\n"
     ]
    },
    {
     "name": "stderr",
     "output_type": "stream",
     "text": [
      "Training (16639 / 18000 Steps) (loss=0.55863): 100%|██████████| 80/80 [02:31<00:00,  1.89s/it]\n",
      "Validate (16640 / 10 Steps): 100%|██████████| 18/18 [01:03<00:00,  3.50s/it]<00:21,  1.07s/it]\n",
      "Training (16700 / 18000 Steps) (loss=0.52532):  76%|███████▋  | 61/80 [02:11<06:19, 19.97s/it]"
     ]
    },
    {
     "name": "stdout",
     "output_type": "stream",
     "text": [
      "Model Was Not Saved ! Current Best Avg. Dice: 0.6228221654891968 Current Avg. Dice: 0.615727424621582 Current Avg. tumor Dice: 0.6388646364212036 Current Avg. lymph Dice: 0.613432765007019\n"
     ]
    },
    {
     "name": "stderr",
     "output_type": "stream",
     "text": [
      "Training (16719 / 18000 Steps) (loss=0.57261): 100%|██████████| 80/80 [02:31<00:00,  1.90s/it]\n",
      "Training (16799 / 18000 Steps) (loss=0.53534): 100%|██████████| 80/80 [01:28<00:00,  1.11s/it]\n",
      "Validate (16800 / 10 Steps): 100%|██████████| 18/18 [01:02<00:00,  3.50s/it]?, ?it/s]\n",
      "Training (16800 / 18000 Steps) (loss=0.47885):   1%|▏         | 1/80 [01:06<1:27:55, 66.78s/it]"
     ]
    },
    {
     "name": "stdout",
     "output_type": "stream",
     "text": [
      "Model Was Not Saved ! Current Best Avg. Dice: 0.6228221654891968 Current Avg. Dice: 0.6157491207122803 Current Avg. tumor Dice: 0.6390020251274109 Current Avg. lymph Dice: 0.6181241869926453\n"
     ]
    },
    {
     "name": "stderr",
     "output_type": "stream",
     "text": [
      "Training (16879 / 18000 Steps) (loss=0.43000): 100%|██████████| 80/80 [02:31<00:00,  1.90s/it] \n",
      "Validate (16880 / 10 Steps): 100%|██████████| 18/18 [01:02<00:00,  3.49s/it]<01:05,  1.08s/it]\n",
      "Training (16900 / 18000 Steps) (loss=0.45345):  26%|██▋       | 21/80 [01:28<19:37, 19.96s/it]"
     ]
    },
    {
     "name": "stdout",
     "output_type": "stream",
     "text": [
      "Model Was Not Saved ! Current Best Avg. Dice: 0.6228221654891968 Current Avg. Dice: 0.6093485355377197 Current Avg. tumor Dice: 0.6376584768295288 Current Avg. lymph Dice: 0.6038200259208679\n"
     ]
    },
    {
     "name": "stderr",
     "output_type": "stream",
     "text": [
      "Training (16959 / 18000 Steps) (loss=0.53569): 100%|██████████| 80/80 [02:32<00:00,  1.90s/it]\n",
      "Validate (16960 / 10 Steps): 100%|██████████| 18/18 [01:03<00:00,  3.50s/it]<00:42,  1.05s/it]\n",
      "Training (17000 / 18000 Steps) (loss=0.52375):  51%|█████▏    | 41/80 [01:50<12:59, 19.98s/it]"
     ]
    },
    {
     "name": "stdout",
     "output_type": "stream",
     "text": [
      "Model Was Not Saved ! Current Best Avg. Dice: 0.6228221654891968 Current Avg. Dice: 0.617651104927063 Current Avg. tumor Dice: 0.648087739944458 Current Avg. lymph Dice: 0.6102415323257446\n"
     ]
    },
    {
     "name": "stderr",
     "output_type": "stream",
     "text": [
      "Training (17039 / 18000 Steps) (loss=0.59224): 100%|██████████| 80/80 [02:32<00:00,  1.90s/it]\n",
      "Validate (17040 / 10 Steps): 100%|██████████| 18/18 [01:02<00:00,  3.50s/it]<00:21,  1.08s/it]\n",
      "Training (17100 / 18000 Steps) (loss=0.45437):  76%|███████▋  | 61/80 [02:11<06:19, 19.97s/it]"
     ]
    },
    {
     "name": "stdout",
     "output_type": "stream",
     "text": [
      "Model Was Not Saved ! Current Best Avg. Dice: 0.6228221654891968 Current Avg. Dice: 0.6141079664230347 Current Avg. tumor Dice: 0.6413856148719788 Current Avg. lymph Dice: 0.6080631613731384\n"
     ]
    },
    {
     "name": "stderr",
     "output_type": "stream",
     "text": [
      "Training (17119 / 18000 Steps) (loss=0.48368): 100%|██████████| 80/80 [02:31<00:00,  1.89s/it]\n",
      "Training (17199 / 18000 Steps) (loss=0.55656): 100%|██████████| 80/80 [01:28<00:00,  1.10s/it]\n",
      "Validate (17200 / 10 Steps): 100%|██████████| 18/18 [01:03<00:00,  3.50s/it]?, ?it/s]\n",
      "Training (17200 / 18000 Steps) (loss=0.58661):   1%|▏         | 1/80 [01:06<1:28:00, 66.84s/it]"
     ]
    },
    {
     "name": "stdout",
     "output_type": "stream",
     "text": [
      "Model Was Not Saved ! Current Best Avg. Dice: 0.6228221654891968 Current Avg. Dice: 0.6168830394744873 Current Avg. tumor Dice: 0.6371444463729858 Current Avg. lymph Dice: 0.6215294003486633\n"
     ]
    },
    {
     "name": "stderr",
     "output_type": "stream",
     "text": [
      "Training (17279 / 18000 Steps) (loss=0.57603): 100%|██████████| 80/80 [02:31<00:00,  1.90s/it] \n",
      "Validate (17280 / 10 Steps): 100%|██████████| 18/18 [01:02<00:00,  3.50s/it]<01:05,  1.09s/it]\n",
      "Training (17300 / 18000 Steps) (loss=0.44399):  26%|██▋       | 21/80 [01:28<19:39, 19.99s/it]"
     ]
    },
    {
     "name": "stdout",
     "output_type": "stream",
     "text": [
      "Model Was Not Saved ! Current Best Avg. Dice: 0.6228221654891968 Current Avg. Dice: 0.6109446883201599 Current Avg. tumor Dice: 0.6339900493621826 Current Avg. lymph Dice: 0.6130040287971497\n"
     ]
    },
    {
     "name": "stderr",
     "output_type": "stream",
     "text": [
      "Training (17359 / 18000 Steps) (loss=0.46025): 100%|██████████| 80/80 [02:31<00:00,  1.90s/it]\n",
      "Validate (17360 / 10 Steps): 100%|██████████| 18/18 [01:02<00:00,  3.50s/it]<00:42,  1.06s/it]\n",
      "Training (17400 / 18000 Steps) (loss=0.56231):  51%|█████▏    | 41/80 [01:49<13:01, 20.04s/it]"
     ]
    },
    {
     "name": "stdout",
     "output_type": "stream",
     "text": [
      "Model Was Not Saved ! Current Best Avg. Dice: 0.6228221654891968 Current Avg. Dice: 0.6131096482276917 Current Avg. tumor Dice: 0.6428463459014893 Current Avg. lymph Dice: 0.6080766320228577\n"
     ]
    },
    {
     "name": "stderr",
     "output_type": "stream",
     "text": [
      "Training (17439 / 18000 Steps) (loss=0.56212): 100%|██████████| 80/80 [02:31<00:00,  1.90s/it]\n",
      "Validate (17440 / 10 Steps): 100%|██████████| 18/18 [01:03<00:00,  3.51s/it]<00:21,  1.07s/it]\n",
      "Training (17500 / 18000 Steps) (loss=0.45771):  76%|███████▋  | 61/80 [02:11<06:20, 20.04s/it]"
     ]
    },
    {
     "name": "stdout",
     "output_type": "stream",
     "text": [
      "Model Was Not Saved ! Current Best Avg. Dice: 0.6228221654891968 Current Avg. Dice: 0.6163042783737183 Current Avg. tumor Dice: 0.642482340335846 Current Avg. lymph Dice: 0.6115648746490479\n"
     ]
    },
    {
     "name": "stderr",
     "output_type": "stream",
     "text": [
      "Training (17519 / 18000 Steps) (loss=0.50557): 100%|██████████| 80/80 [02:31<00:00,  1.90s/it]\n",
      "Training (17599 / 18000 Steps) (loss=0.50594): 100%|██████████| 80/80 [01:29<00:00,  1.11s/it]\n",
      "Validate (17600 / 10 Steps): 100%|██████████| 18/18 [01:03<00:00,  3.51s/it]?, ?it/s]\n",
      "Training (17600 / 18000 Steps) (loss=0.54080):   1%|▏         | 1/80 [01:07<1:28:17, 67.05s/it]"
     ]
    },
    {
     "name": "stdout",
     "output_type": "stream",
     "text": [
      "Model Was Not Saved ! Current Best Avg. Dice: 0.6228221654891968 Current Avg. Dice: 0.6049395203590393 Current Avg. tumor Dice: 0.6244634389877319 Current Avg. lymph Dice: 0.6129202246665955\n"
     ]
    },
    {
     "name": "stderr",
     "output_type": "stream",
     "text": [
      "Training (17679 / 18000 Steps) (loss=0.32769): 100%|██████████| 80/80 [02:32<00:00,  1.90s/it] \n",
      "Validate (17680 / 10 Steps): 100%|██████████| 18/18 [01:03<00:00,  3.52s/it]<01:04,  1.07s/it]\n",
      "Training (17700 / 18000 Steps) (loss=0.40403):  26%|██▋       | 21/80 [01:28<19:46, 20.10s/it]"
     ]
    },
    {
     "name": "stdout",
     "output_type": "stream",
     "text": [
      "Model Was Not Saved ! Current Best Avg. Dice: 0.6228221654891968 Current Avg. Dice: 0.606847882270813 Current Avg. tumor Dice: 0.6323647499084473 Current Avg. lymph Dice: 0.6024959683418274\n"
     ]
    },
    {
     "name": "stderr",
     "output_type": "stream",
     "text": [
      "Training (17759 / 18000 Steps) (loss=0.46847): 100%|██████████| 80/80 [02:32<00:00,  1.90s/it]\n",
      "Validate (17760 / 10 Steps): 100%|██████████| 18/18 [01:03<00:00,  3.52s/it]<00:42,  1.05s/it]\n",
      "Training (17800 / 18000 Steps) (loss=0.38499):  51%|█████▏    | 41/80 [01:50<13:02, 20.05s/it]"
     ]
    },
    {
     "name": "stdout",
     "output_type": "stream",
     "text": [
      "Model Was Not Saved ! Current Best Avg. Dice: 0.6228221654891968 Current Avg. Dice: 0.6182779669761658 Current Avg. tumor Dice: 0.6554536819458008 Current Avg. lymph Dice: 0.6052375435829163\n"
     ]
    },
    {
     "name": "stderr",
     "output_type": "stream",
     "text": [
      "Training (17839 / 18000 Steps) (loss=0.48156): 100%|██████████| 80/80 [02:32<00:00,  1.90s/it]\n",
      "Validate (17840 / 10 Steps): 100%|██████████| 18/18 [01:03<00:00,  3.51s/it]<00:21,  1.07s/it]\n",
      "Training (17900 / 18000 Steps) (loss=0.59468):  76%|███████▋  | 61/80 [02:11<06:20, 20.03s/it]"
     ]
    },
    {
     "name": "stdout",
     "output_type": "stream",
     "text": [
      "Model Was Not Saved ! Current Best Avg. Dice: 0.6228221654891968 Current Avg. Dice: 0.6185777187347412 Current Avg. tumor Dice: 0.6490403413772583 Current Avg. lymph Dice: 0.6119838953018188\n"
     ]
    },
    {
     "name": "stderr",
     "output_type": "stream",
     "text": [
      "Training (17919 / 18000 Steps) (loss=0.57335): 100%|██████████| 80/80 [02:32<00:00,  1.91s/it]\n",
      "Training (17999 / 18000 Steps) (loss=0.58865): 100%|██████████| 80/80 [01:28<00:00,  1.11s/it]\n"
     ]
    }
   ],
   "source": [
    "epoch = 0 # used for LR scheduler\n",
    "max_num_epochs = 530 # used for LR scheduler\n",
    "\n",
    "\n",
    "while global_step < max_iterations:\n",
    "    global_step, dice_val_best, global_step_best = train(\n",
    "        global_step, train_loader, dice_val_best, global_step_best\n",
    "    )\n",
    "    epoch += 1\n",
    "    #optimizer.param_groups[0]['lr'] = poly_lr(epoch, max_num_epochs, 0.005676 , 0.9)\n",
    "# model.load_state_dict(torch.load(os.path.join(model_dir, \"best_metric_luck_UNETr_prompt.pth\")))"
   ]
  }
 ],
 "metadata": {
  "kernelspec": {
   "display_name": "clam",
   "language": "python",
   "name": "python3"
  },
  "language_info": {
   "codemirror_mode": {
    "name": "ipython",
    "version": 3
   },
   "file_extension": ".py",
   "mimetype": "text/x-python",
   "name": "python",
   "nbconvert_exporter": "python",
   "pygments_lexer": "ipython3",
   "version": "3.8.0"
  }
 },
 "nbformat": 4,
 "nbformat_minor": 2
}
