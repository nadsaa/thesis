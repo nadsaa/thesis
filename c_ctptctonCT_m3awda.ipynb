{
 "cells": [
  {
   "cell_type": "code",
   "execution_count": 1,
   "metadata": {},
   "outputs": [
    {
     "data": {
      "text/plain": [
       "1"
      ]
     },
     "execution_count": 1,
     "metadata": {},
     "output_type": "execute_result"
    }
   ],
   "source": [
    "import os\n",
    "os.environ[\"CUDA_DEVICE_ORDER\"] = \"PCI_BUS_ID\"\n",
    "os.environ[\"CUDA_VISIBLE_DEVICES\"] = \"3\" \n",
    "import torch\n",
    "torch.cuda.device_count()"
   ]
  },
  {
   "cell_type": "code",
   "execution_count": 2,
   "metadata": {},
   "outputs": [],
   "source": [
    "import os\n",
    "import shutil\n",
    "import tempfile\n",
    "\n",
    "import matplotlib.pyplot as plt\n",
    "import numpy as np\n",
    "from tqdm import tqdm\n",
    "from glob import glob\n",
    "# import wandb\n",
    "\n",
    "import monai\n",
    "from monai.losses import DiceCELoss, DiceFocalLoss, FocalLoss\n",
    "from monai.inferers import sliding_window_inference\n",
    "from monai import transforms\n",
    "\n",
    "from monai.transforms import (\n",
    "       AsDiscrete,\n",
    "    Compose,\n",
    "    CropForegroundd,\n",
    "    LoadImaged,\n",
    "    Orientationd,\n",
    "    RandFlipd,\n",
    "    RandCropByPosNegLabeld,\n",
    "    RandShiftIntensityd,\n",
    "    ScaleIntensityRanged,\n",
    "    Spacingd,\n",
    "    RandRotate90d,\n",
    "    MapTransform,\n",
    "    ScaleIntensityd,\n",
    "    #AddChanneld,\n",
    "    SpatialPadd,\n",
    "    CenterSpatialCropd,\n",
    "    EnsureChannelFirstd,\n",
    "    ConcatItemsd,\n",
    "    AdjustContrastd, \n",
    "    Rand3DElasticd,\n",
    "    HistogramNormalized,\n",
    "    NormalizeIntensityd,\n",
    "    Invertd,\n",
    "    SaveImage,\n",
    "\n",
    ")\n",
    "\n",
    "from monai.config import print_config\n",
    "from monai.metrics import DiceMetric\n",
    "from monai.networks.nets import SwinUNETR, UNETR, SegResNet\n",
    "from monai.data import (\n",
    "    DataLoader,\n",
    "    CacheDataset,\n",
    "    load_decathlon_datalist,\n",
    "    decollate_batch,\n",
    ")\n",
    "from monai import data\n",
    "\n",
    "\n",
    "from monai.utils import first, set_determinism\n",
    "from sklearn.model_selection import train_test_split\n",
    "import json\n",
    "\n",
    "\n",
    "import torch"
   ]
  },
  {
   "cell_type": "code",
   "execution_count": 3,
   "metadata": {},
   "outputs": [],
   "source": [
    "set_determinism(seed=1024)"
   ]
  },
  {
   "cell_type": "code",
   "execution_count": 4,
   "metadata": {},
   "outputs": [
    {
     "name": "stdout",
     "output_type": "stream",
     "text": [
      "JSON file created at /home/nada.saadi/CTPET/hecktor2022_cropped/HGJ_ct_train_new.json\n"
     ]
    }
   ],
   "source": [
    "import os\n",
    "import json\n",
    "import random\n",
    "from glob import glob\n",
    "\n",
    "def generate_paths(patient_id):\n",
    "    base_dir = '/home/nada.saadi/MIS-FM/hecktor2022_cropped/data'\n",
    "    return {\n",
    "        'id': os.path.join(base_dir, patient_id),\n",
    "        'ct': os.path.join(base_dir, patient_id, f\"{patient_id}_ct.nii.gz\"),\n",
    "        'seg': os.path.join(base_dir, patient_id, f\"{patient_id}_gt.nii.gz\")\n",
    "    }\n",
    "\n",
    "# Assign each data entry to a random fold\n",
    "all_data = []\n",
    "num_folds = 5\n",
    "\n",
    "for file_dir in sorted(glob('data/*')):\n",
    "    patient_id = file_dir.split('/')[-1]\n",
    "    # Check if the file belongs to the MDA center\n",
    "    if patient_id.startswith(\"HGJ-\"):\n",
    "        entry = generate_paths(patient_id)\n",
    "        entry['fold'] = random.randint(1, num_folds) - 1\n",
    "        all_data.append(entry)\n",
    "\n",
    "# Compile data into a JSON structure\n",
    "data_json = {\"training\": all_data}\n",
    "\n",
    "# Save to JSON file\n",
    "json_file_path = \"/home/nada.saadi/CTPET/hecktor2022_cropped/HGJ_ct_train_new.json\"\n",
    "with open(json_file_path, 'w') as f:\n",
    "    json.dump(data_json, f, indent=4)\n",
    "\n",
    "print(f\"JSON file created at {json_file_path}\")"
   ]
  },
  {
   "cell_type": "code",
   "execution_count": 5,
   "metadata": {},
   "outputs": [],
   "source": [
    "data_dir = '/home/nada.saadi/MIS-FM/hecktor2022_cropped'\n",
    "json_dir = \"/home/nada.saadi/CTPET/hecktor2022_cropped/HGJ_ct_train_new.json\""
   ]
  },
  {
   "cell_type": "code",
   "execution_count": 6,
   "metadata": {},
   "outputs": [],
   "source": [
    "def datafold_read(datalist, basedir, fold=0, key=\"training\"):\n",
    "    with open(datalist) as f:\n",
    "        json_data = json.load(f)\n",
    "\n",
    "    json_data = json_data[key]\n",
    "\n",
    "    for d in json_data:\n",
    "        for k in d:\n",
    "            if isinstance(d[k], list):\n",
    "                d[k] = [os.path.join(basedir, iv) for iv in d[k]]\n",
    "            elif isinstance(d[k], str):\n",
    "                d[k] = os.path.join(basedir, d[k]) if len(d[k]) > 0 else d[k]\n",
    "\n",
    "    tr = []\n",
    "    val = []\n",
    "    for d in json_data:\n",
    "        if \"fold\" in d and d[\"fold\"] == fold:\n",
    "            val.append(d)\n",
    "        else:\n",
    "            tr.append(d)\n",
    "\n",
    "    return tr, val"
   ]
  },
  {
   "cell_type": "code",
   "execution_count": 7,
   "metadata": {},
   "outputs": [
    {
     "data": {
      "text/plain": [
       "(39, 15)"
      ]
     },
     "execution_count": 7,
     "metadata": {},
     "output_type": "execute_result"
    }
   ],
   "source": [
    "train_files, validation_files = datafold_read(datalist=json_dir, basedir=data_dir, fold=0)\n",
    "len(train_files), len(validation_files)"
   ]
  },
  {
   "cell_type": "code",
   "execution_count": 8,
   "metadata": {},
   "outputs": [],
   "source": [
    "class ClipCT(MapTransform):\n",
    "    \"\"\"\n",
    "    Convert labels to multi channels based on hecktor classes:\n",
    "    label 1 is the tumor\n",
    "    label 2 is the lymph node\n",
    "\n",
    "    \"\"\"\n",
    "\n",
    "    def __call__(self, data):\n",
    "        d = dict(data)\n",
    "        for key in self.keys:\n",
    "            if key == \"ct\":\n",
    "                d[key] = torch.clip(d[key], min=-200, max=200)\n",
    "            # elif key == \"pt\":\n",
    "            #     d[key] = torch.clip(d[key], d[key].min(), 5)\n",
    "        return d\n",
    "\n",
    "class MulPTFM(MapTransform):\n",
    "    \"\"\"\n",
    "    Mult PT and FM \n",
    "\n",
    "    \"\"\"\n",
    "\n",
    "    def __call__(self, data):\n",
    "        d = dict(data)\n",
    "\n",
    "        fm = d[\"ct\"] > 0\n",
    "        d[\"pt\"] = d[\"pt\"] * fm\n",
    "        return d\n",
    "\n",
    "class SelectClass(MapTransform):\n",
    "    \"\"\"\n",
    "    Select the class for which you want to fine tune the model \n",
    "\n",
    "    \"\"\"\n",
    "    # def __init__(self, keys, cls=1):\n",
    "    #     super(self).__init__(keys)\n",
    "    #     self.cls = cls\n",
    "\n",
    "    def __call__(self, data):\n",
    "        d = dict(data)\n",
    "        d[\"seg\"][d[\"seg\"] == 1] = 0\n",
    "        # d[\"seg\"][d[\"seg\"] == 2] = 1\n",
    "        \n",
    "        return d"
   ]
  },
  {
   "cell_type": "code",
   "execution_count": 9,
   "metadata": {},
   "outputs": [],
   "source": [
    "num_samples = 4\n",
    "\n",
    "train_transforms = Compose(\n",
    "    [\n",
    "        LoadImaged(keys=[\"ct\", \"seg\"], ensure_channel_first = True),\n",
    "        SpatialPadd(keys=[\"ct\",  \"seg\"], spatial_size=(200, 200, 310), method='end'),\n",
    "        Orientationd(keys=[\"ct\",  \"seg\"], axcodes=\"PLS\"),\n",
    "        #NormalizeIntensityd(keys=[\"pt\"]),\n",
    "        ClipCT(keys=[\"ct\"]),\n",
    "        ScaleIntensityd(keys=[\"ct\"], minv=0, maxv=1),\n",
    "        #MulPTFM(keys=[\"ct\",\"pt\"]),\n",
    "        #ConcatItemsd(keys=[\"pt\", \"ct\"], name=\"ctpt\"),\n",
    "        #NormalizeIntensityd(keys=[\"ctpt\"], channel_wise=True),\n",
    "        RandCropByPosNegLabeld(\n",
    "            keys=[\"ct\", \"seg\"],\n",
    "            label_key=\"seg\",\n",
    "            spatial_size=(96, 96, 96),\n",
    "            pos=1,\n",
    "            neg=1,\n",
    "            num_samples=num_samples,\n",
    "            image_key=\"ct\",\n",
    "            image_threshold=0,\n",
    "        ),\n",
    "        RandFlipd(\n",
    "            keys=[\"ct\", \"seg\"],\n",
    "            spatial_axis=[0],\n",
    "            prob=0.20,\n",
    "        ),\n",
    "        RandFlipd(\n",
    "            keys=[\"ct\", \"seg\"],\n",
    "            spatial_axis=[1],\n",
    "            prob=0.20,\n",
    "        ),\n",
    "        RandFlipd(\n",
    "            keys=[\"ct\", \"seg\"],\n",
    "            spatial_axis=[2],\n",
    "            prob=0.20,\n",
    "        ),\n",
    "        RandRotate90d(\n",
    "            keys=[\"ct\", \"seg\"],\n",
    "            prob=0.20,\n",
    "            max_k=3,\n",
    "        ),\n",
    "    ]\n",
    ")\n",
    "val_transforms = Compose(\n",
    "    [\n",
    "        LoadImaged(keys=[\"ct\", \"seg\"], ensure_channel_first = True),\n",
    "        SpatialPadd(keys=[\"ct\", \"seg\"], spatial_size=(200, 200, 310), method='end'),\n",
    "        Orientationd(keys=[\"ct\",  \"seg\"], axcodes=\"PLS\"),\n",
    "        #NormalizeIntensityd(keys=[\"pt\"]),\n",
    "        ClipCT(keys=[\"ct\"]),\n",
    "        ScaleIntensityd(keys=[\"ct\"], minv=0, maxv=1),\n",
    "        #MulPTFM(keys=[\"ct\",\"pt\"]),\n",
    "        #ConcatItemsd(keys=[\"pt\", \"ct\"], name=\"ctpt\"),\n",
    "    ]\n",
    ")"
   ]
  },
  {
   "cell_type": "code",
   "execution_count": 10,
   "metadata": {},
   "outputs": [],
   "source": [
    "train_ds = monai.data.Dataset(data=train_files, transform=train_transforms)\n",
    "\n",
    "train_loader = DataLoader(\n",
    "    train_ds,\n",
    "    batch_size=2,\n",
    "    shuffle=True,\n",
    "    num_workers=8,\n",
    "    pin_memory=torch.cuda.is_available(),\n",
    "    )\n",
    "\n",
    "val_ds = monai.data.Dataset(data=validation_files, transform=val_transforms)\n",
    "\n",
    "val_loader = DataLoader(\n",
    "    val_ds, \n",
    "    batch_size=2, \n",
    "    num_workers=8, \n",
    "    shuffle= False)"
   ]
  },
  {
   "cell_type": "code",
   "execution_count": 11,
   "metadata": {},
   "outputs": [
    {
     "name": "stderr",
     "output_type": "stream",
     "text": [
      "/home/nada.saadi/miniconda3/envs/clam/lib/python3.8/site-packages/monai/utils/deprecate_utils.py:221: FutureWarning: monai.networks.nets.unetr UNETR.__init__:pos_embed: Argument `pos_embed` has been deprecated since version 1.2. It will be removed in version 1.4. please use `proj_type` instead.\n",
      "  warn_deprecated(argname, msg, warning_category)\n"
     ]
    },
    {
     "data": {
      "text/plain": [
       "<All keys matched successfully>"
      ]
     },
     "execution_count": 11,
     "metadata": {},
     "output_type": "execute_result"
    }
   ],
   "source": [
    "os.environ[\"CUDA_DEVICE_ORDER\"] = \"PCI_BUS_ID\"\n",
    "device = torch.device(\"cuda\" if torch.cuda.is_available() else \"cpu\")\n",
    "model = UNETR(\n",
    "    in_channels=1,\n",
    "    out_channels=3,\n",
    "    img_size=(96, 96, 96),\n",
    "    feature_size=16,\n",
    "    hidden_size=768,\n",
    "    mlp_dim=3072, \n",
    "    num_heads=12,\n",
    "    pos_embed=\"perceptron\",\n",
    "    norm_name=\"instance\",\n",
    "    res_block=True,\n",
    "    dropout_rate=0.0,\n",
    ").to(device)\n",
    "\n",
    "rt7 = '/home/nada.saadi/CTPET/hecktor2022_cropped/c_6th_ctpt/c_6th_ctptct.pth'\n",
    "\n",
    "# Ignore layers with size mismatch\n",
    "state_dict = torch.load(rt7)\n",
    "model_state_dict = model.state_dict()\n",
    "for name, param in state_dict.items():\n",
    "    if name in model_state_dict:\n",
    "        if param.shape == model_state_dict[name].shape:\n",
    "            model_state_dict[name] = param\n",
    "\n",
    "model.load_state_dict(model_state_dict)"
   ]
  },
  {
   "cell_type": "code",
   "execution_count": 12,
   "metadata": {},
   "outputs": [],
   "source": [
    "torch.backends.cudnn.benchmark = True\n",
    "def poly_lr(epoch, max_epochs, initial_lr, exponent=0.9):\n",
    "    return initial_lr * (1 - epoch / max_epochs)**exponent\n",
    "\n",
    "loss_function = DiceCELoss(to_onehot_y=True, softmax=True)\n",
    "optimizer = torch.optim.AdamW(model.parameters(), lr=1e-4, weight_decay=1e-5)\n"
   ]
  },
  {
   "cell_type": "code",
   "execution_count": 13,
   "metadata": {},
   "outputs": [
    {
     "name": "stderr",
     "output_type": "stream",
     "text": [
      "Training (19 / 18000 Steps) (loss=0.44565): 100%|██████████| 20/20 [00:27<00:00,  1.39s/it]\n",
      "Training (39 / 18000 Steps) (loss=0.54701): 100%|██████████| 20/20 [00:10<00:00,  1.84it/s]\n",
      "Training (59 / 18000 Steps) (loss=0.30425): 100%|██████████| 20/20 [00:10<00:00,  1.84it/s]\n",
      "Training (79 / 18000 Steps) (loss=0.28487): 100%|██████████| 20/20 [00:11<00:00,  1.80it/s]\n",
      "Training (99 / 18000 Steps) (loss=0.46503): 100%|██████████| 20/20 [00:11<00:00,  1.76it/s]\n",
      "Validate (100 / 10 Steps): 100%|██████████| 8/8 [00:11<00:00,  1.41s/it]3<?, ?it/s]\n",
      "Training (100 / 18000 Steps) (loss=0.36414):   5%|▌         | 1/20 [00:15<05:01, 15.87s/it]"
     ]
    },
    {
     "name": "stdout",
     "output_type": "stream",
     "text": [
      "Model Was Saved ! Current Best Avg. Dice: 0.6557129621505737 Current Avg. Dice: 0.6557129621505737 Current Avg. tumor Dice: 0.6761648654937744 Current Avg. lymph Dice: 0.6912341713905334\n"
     ]
    },
    {
     "name": "stderr",
     "output_type": "stream",
     "text": [
      "Training (119 / 18000 Steps) (loss=0.40605): 100%|██████████| 20/20 [00:23<00:00,  1.18s/it]\n",
      "Training (139 / 18000 Steps) (loss=0.56847): 100%|██████████| 20/20 [00:11<00:00,  1.81it/s]\n",
      "Training (159 / 18000 Steps) (loss=0.28812): 100%|██████████| 20/20 [00:11<00:00,  1.75it/s]\n",
      "Training (179 / 18000 Steps) (loss=0.32676): 100%|██████████| 20/20 [00:11<00:00,  1.79it/s]\n",
      "Training (199 / 18000 Steps) (loss=0.44230): 100%|██████████| 20/20 [00:11<00:00,  1.76it/s]\n",
      "Validate (200 / 10 Steps): 100%|██████████| 8/8 [00:11<00:00,  1.40s/it]3<?, ?it/s]\n",
      "Training (200 / 18000 Steps) (loss=0.34562):   5%|▌         | 1/20 [00:15<04:55, 15.56s/it]"
     ]
    },
    {
     "name": "stdout",
     "output_type": "stream",
     "text": [
      "Model Was Saved ! Current Best Avg. Dice: 0.676442563533783 Current Avg. Dice: 0.676442563533783 Current Avg. tumor Dice: 0.697919487953186 Current Avg. lymph Dice: 0.6490615010261536\n"
     ]
    },
    {
     "name": "stderr",
     "output_type": "stream",
     "text": [
      "Training (219 / 18000 Steps) (loss=0.36704): 100%|██████████| 20/20 [00:23<00:00,  1.17s/it]\n",
      "Training (239 / 18000 Steps) (loss=0.52748): 100%|██████████| 20/20 [00:11<00:00,  1.77it/s]\n",
      "Training (259 / 18000 Steps) (loss=0.33548): 100%|██████████| 20/20 [00:11<00:00,  1.76it/s]\n",
      "Training (279 / 18000 Steps) (loss=0.24297): 100%|██████████| 20/20 [00:10<00:00,  1.83it/s]\n",
      "Training (299 / 18000 Steps) (loss=0.35225): 100%|██████████| 20/20 [00:11<00:00,  1.77it/s]\n",
      "Validate (300 / 10 Steps): 100%|██████████| 8/8 [00:10<00:00,  1.37s/it]3<?, ?it/s]\n",
      "Training (300 / 18000 Steps) (loss=0.46935):   5%|▌         | 1/20 [00:14<04:43, 14.92s/it]"
     ]
    },
    {
     "name": "stdout",
     "output_type": "stream",
     "text": [
      "Model Was Saved ! Current Best Avg. Dice: 0.6801654100418091 Current Avg. Dice: 0.6801654100418091 Current Avg. tumor Dice: 0.718370795249939 Current Avg. lymph Dice: 0.6411243081092834\n"
     ]
    },
    {
     "name": "stderr",
     "output_type": "stream",
     "text": [
      "Training (319 / 18000 Steps) (loss=0.60528): 100%|██████████| 20/20 [00:22<00:00,  1.14s/it]\n",
      "Training (339 / 18000 Steps) (loss=0.46340): 100%|██████████| 20/20 [00:11<00:00,  1.75it/s]\n",
      "Training (359 / 18000 Steps) (loss=0.44665): 100%|██████████| 20/20 [00:10<00:00,  1.83it/s]\n",
      "Training (379 / 18000 Steps) (loss=0.42250): 100%|██████████| 20/20 [00:11<00:00,  1.74it/s]\n",
      "Training (399 / 18000 Steps) (loss=0.61499): 100%|██████████| 20/20 [00:11<00:00,  1.78it/s]\n",
      "Validate (400 / 10 Steps): 100%|██████████| 8/8 [00:11<00:00,  1.41s/it]3<?, ?it/s]\n",
      "Training (400 / 18000 Steps) (loss=0.45540):   5%|▌         | 1/20 [00:14<04:35, 14.50s/it]"
     ]
    },
    {
     "name": "stdout",
     "output_type": "stream",
     "text": [
      "Model Was Not Saved ! Current Best Avg. Dice: 0.6801654100418091 Current Avg. Dice: 0.609155535697937 Current Avg. tumor Dice: 0.6925103664398193 Current Avg. lymph Dice: 0.5037450194358826\n"
     ]
    },
    {
     "name": "stderr",
     "output_type": "stream",
     "text": [
      "Training (419 / 18000 Steps) (loss=0.19412): 100%|██████████| 20/20 [00:22<00:00,  1.12s/it]\n",
      "Training (439 / 18000 Steps) (loss=0.28472): 100%|██████████| 20/20 [00:11<00:00,  1.78it/s]\n",
      "Training (459 / 18000 Steps) (loss=0.27531): 100%|██████████| 20/20 [00:10<00:00,  1.84it/s]\n",
      "Training (479 / 18000 Steps) (loss=0.28938): 100%|██████████| 20/20 [00:11<00:00,  1.76it/s]\n",
      "Training (499 / 18000 Steps) (loss=0.44153): 100%|██████████| 20/20 [00:11<00:00,  1.78it/s]\n",
      "Validate (500 / 10 Steps): 100%|██████████| 8/8 [00:11<00:00,  1.39s/it]3<?, ?it/s]\n",
      "Training (500 / 18000 Steps) (loss=0.46808):   5%|▌         | 1/20 [00:14<04:30, 14.24s/it]"
     ]
    },
    {
     "name": "stdout",
     "output_type": "stream",
     "text": [
      "Model Was Not Saved ! Current Best Avg. Dice: 0.6801654100418091 Current Avg. Dice: 0.655734658241272 Current Avg. tumor Dice: 0.661510705947876 Current Avg. lymph Dice: 0.6774082183837891\n"
     ]
    },
    {
     "name": "stderr",
     "output_type": "stream",
     "text": [
      "Training (519 / 18000 Steps) (loss=0.53651): 100%|██████████| 20/20 [00:22<00:00,  1.10s/it]\n",
      "Training (539 / 18000 Steps) (loss=0.45758): 100%|██████████| 20/20 [00:11<00:00,  1.81it/s]\n",
      "Training (559 / 18000 Steps) (loss=0.25071): 100%|██████████| 20/20 [00:11<00:00,  1.80it/s]\n",
      "Training (579 / 18000 Steps) (loss=0.29066): 100%|██████████| 20/20 [00:11<00:00,  1.77it/s]\n",
      "Training (599 / 18000 Steps) (loss=0.53486): 100%|██████████| 20/20 [00:11<00:00,  1.77it/s]\n",
      "Validate (600 / 10 Steps): 100%|██████████| 8/8 [00:11<00:00,  1.39s/it]3<?, ?it/s]\n",
      "Training (600 / 18000 Steps) (loss=0.29456):   5%|▌         | 1/20 [00:14<04:30, 14.23s/it]"
     ]
    },
    {
     "name": "stdout",
     "output_type": "stream",
     "text": [
      "Model Was Not Saved ! Current Best Avg. Dice: 0.6801654100418091 Current Avg. Dice: 0.5641918182373047 Current Avg. tumor Dice: 0.5811178088188171 Current Avg. lymph Dice: 0.5902115702629089\n"
     ]
    },
    {
     "name": "stderr",
     "output_type": "stream",
     "text": [
      "Training (619 / 18000 Steps) (loss=0.38501): 100%|██████████| 20/20 [00:22<00:00,  1.11s/it]\n",
      "Training (639 / 18000 Steps) (loss=0.32766): 100%|██████████| 20/20 [00:11<00:00,  1.76it/s]\n",
      "Training (659 / 18000 Steps) (loss=0.36766): 100%|██████████| 20/20 [00:11<00:00,  1.78it/s]\n",
      "Training (679 / 18000 Steps) (loss=0.30376): 100%|██████████| 20/20 [00:11<00:00,  1.76it/s]\n",
      "Training (699 / 18000 Steps) (loss=0.33482): 100%|██████████| 20/20 [00:10<00:00,  1.84it/s]\n",
      "Validate (700 / 10 Steps): 100%|██████████| 8/8 [00:11<00:00,  1.39s/it]3<?, ?it/s]\n",
      "Training (700 / 18000 Steps) (loss=0.32103):   5%|▌         | 1/20 [00:14<04:42, 14.86s/it]"
     ]
    },
    {
     "name": "stdout",
     "output_type": "stream",
     "text": [
      "Model Was Not Saved ! Current Best Avg. Dice: 0.6801654100418091 Current Avg. Dice: 0.6465108394622803 Current Avg. tumor Dice: 0.6441654562950134 Current Avg. lymph Dice: 0.665486752986908\n"
     ]
    },
    {
     "name": "stderr",
     "output_type": "stream",
     "text": [
      "Training (719 / 18000 Steps) (loss=0.47933): 100%|██████████| 20/20 [00:22<00:00,  1.14s/it]\n",
      "Training (739 / 18000 Steps) (loss=0.53903): 100%|██████████| 20/20 [00:11<00:00,  1.77it/s]\n",
      "Training (759 / 18000 Steps) (loss=0.30328): 100%|██████████| 20/20 [00:11<00:00,  1.70it/s]\n",
      "Training (779 / 18000 Steps) (loss=0.53143): 100%|██████████| 20/20 [00:11<00:00,  1.78it/s]\n",
      "Training (799 / 18000 Steps) (loss=0.35804): 100%|██████████| 20/20 [00:11<00:00,  1.75it/s]\n",
      "Validate (800 / 10 Steps): 100%|██████████| 8/8 [00:11<00:00,  1.40s/it]3<?, ?it/s]\n",
      "Training (800 / 18000 Steps) (loss=0.50388):   5%|▌         | 1/20 [00:14<04:36, 14.55s/it]"
     ]
    },
    {
     "name": "stdout",
     "output_type": "stream",
     "text": [
      "Model Was Not Saved ! Current Best Avg. Dice: 0.6801654100418091 Current Avg. Dice: 0.6380354762077332 Current Avg. tumor Dice: 0.6355828642845154 Current Avg. lymph Dice: 0.6846491098403931\n"
     ]
    },
    {
     "name": "stderr",
     "output_type": "stream",
     "text": [
      "Training (819 / 18000 Steps) (loss=0.57335): 100%|██████████| 20/20 [00:22<00:00,  1.12s/it]\n",
      "Training (839 / 18000 Steps) (loss=0.22112): 100%|██████████| 20/20 [00:11<00:00,  1.70it/s]\n",
      "Training (859 / 18000 Steps) (loss=0.47173): 100%|██████████| 20/20 [00:11<00:00,  1.78it/s]\n",
      "Training (879 / 18000 Steps) (loss=0.42980): 100%|██████████| 20/20 [00:11<00:00,  1.79it/s]\n",
      "Training (899 / 18000 Steps) (loss=0.45978): 100%|██████████| 20/20 [00:11<00:00,  1.72it/s]\n",
      "Validate (900 / 10 Steps): 100%|██████████| 8/8 [00:11<00:00,  1.40s/it]3<?, ?it/s]\n",
      "Training (900 / 18000 Steps) (loss=0.45638):   5%|▌         | 1/20 [00:14<04:39, 14.69s/it]"
     ]
    },
    {
     "name": "stdout",
     "output_type": "stream",
     "text": [
      "Model Was Not Saved ! Current Best Avg. Dice: 0.6801654100418091 Current Avg. Dice: 0.6680996417999268 Current Avg. tumor Dice: 0.6666899919509888 Current Avg. lymph Dice: 0.6747656464576721\n"
     ]
    },
    {
     "name": "stderr",
     "output_type": "stream",
     "text": [
      "Training (919 / 18000 Steps) (loss=0.28174): 100%|██████████| 20/20 [00:22<00:00,  1.13s/it]\n",
      "Training (939 / 18000 Steps) (loss=0.30898): 100%|██████████| 20/20 [00:11<00:00,  1.72it/s]\n",
      "Training (959 / 18000 Steps) (loss=0.44780): 100%|██████████| 20/20 [00:10<00:00,  1.82it/s]\n",
      "Training (979 / 18000 Steps) (loss=0.50282): 100%|██████████| 20/20 [00:11<00:00,  1.74it/s]\n",
      "Training (999 / 18000 Steps) (loss=0.54418): 100%|██████████| 20/20 [00:11<00:00,  1.81it/s]\n",
      "Validate (1000 / 10 Steps): 100%|██████████| 8/8 [00:11<00:00,  1.40s/it]3<?, ?it/s]\n",
      "Training (1000 / 18000 Steps) (loss=0.47352):   5%|▌         | 1/20 [00:14<04:32, 14.36s/it]"
     ]
    },
    {
     "name": "stdout",
     "output_type": "stream",
     "text": [
      "Model Was Not Saved ! Current Best Avg. Dice: 0.6801654100418091 Current Avg. Dice: 0.6114144921302795 Current Avg. tumor Dice: 0.6019657850265503 Current Avg. lymph Dice: 0.638771116733551\n"
     ]
    },
    {
     "name": "stderr",
     "output_type": "stream",
     "text": [
      "Training (1019 / 18000 Steps) (loss=0.61993): 100%|██████████| 20/20 [00:22<00:00,  1.11s/it]\n",
      "Training (1039 / 18000 Steps) (loss=0.43426): 100%|██████████| 20/20 [00:11<00:00,  1.78it/s]\n",
      "Training (1059 / 18000 Steps) (loss=0.46169): 100%|██████████| 20/20 [00:10<00:00,  1.82it/s]\n",
      "Training (1079 / 18000 Steps) (loss=0.43849): 100%|██████████| 20/20 [00:11<00:00,  1.81it/s]\n",
      "Training (1099 / 18000 Steps) (loss=0.38540): 100%|██████████| 20/20 [00:10<00:00,  1.83it/s]\n",
      "Validate (1100 / 10 Steps): 100%|██████████| 8/8 [00:11<00:00,  1.44s/it]3<?, ?it/s]\n",
      "Training (1100 / 18000 Steps) (loss=0.37419):   5%|▌         | 1/20 [00:14<04:39, 14.70s/it]"
     ]
    },
    {
     "name": "stdout",
     "output_type": "stream",
     "text": [
      "Model Was Not Saved ! Current Best Avg. Dice: 0.6801654100418091 Current Avg. Dice: 0.6431381702423096 Current Avg. tumor Dice: 0.6577576994895935 Current Avg. lymph Dice: 0.6659311652183533\n"
     ]
    },
    {
     "name": "stderr",
     "output_type": "stream",
     "text": [
      "Training (1119 / 18000 Steps) (loss=0.57356): 100%|██████████| 20/20 [00:22<00:00,  1.13s/it]\n",
      "Training (1139 / 18000 Steps) (loss=0.41866): 100%|██████████| 20/20 [00:10<00:00,  1.82it/s]\n",
      "Training (1159 / 18000 Steps) (loss=0.48196): 100%|██████████| 20/20 [00:11<00:00,  1.77it/s]\n",
      "Training (1179 / 18000 Steps) (loss=0.66695): 100%|██████████| 20/20 [00:11<00:00,  1.81it/s]\n",
      "Training (1199 / 18000 Steps) (loss=0.42911): 100%|██████████| 20/20 [00:11<00:00,  1.81it/s]\n",
      "Validate (1200 / 10 Steps): 100%|██████████| 8/8 [00:10<00:00,  1.37s/it]3<?, ?it/s]\n",
      "Training (1200 / 18000 Steps) (loss=0.46261):   5%|▌         | 1/20 [00:14<04:32, 14.34s/it]"
     ]
    },
    {
     "name": "stdout",
     "output_type": "stream",
     "text": [
      "Model Was Not Saved ! Current Best Avg. Dice: 0.6801654100418091 Current Avg. Dice: 0.6558703780174255 Current Avg. tumor Dice: 0.6626403331756592 Current Avg. lymph Dice: 0.6538163423538208\n"
     ]
    },
    {
     "name": "stderr",
     "output_type": "stream",
     "text": [
      "Training (1219 / 18000 Steps) (loss=0.59346): 100%|██████████| 20/20 [00:22<00:00,  1.11s/it]\n",
      "Training (1239 / 18000 Steps) (loss=0.41879): 100%|██████████| 20/20 [00:11<00:00,  1.82it/s]\n",
      "Training (1259 / 18000 Steps) (loss=0.36064): 100%|██████████| 20/20 [00:10<00:00,  1.83it/s]\n",
      "Training (1279 / 18000 Steps) (loss=0.32466): 100%|██████████| 20/20 [00:11<00:00,  1.80it/s]\n",
      "Training (1299 / 18000 Steps) (loss=0.37166): 100%|██████████| 20/20 [00:11<00:00,  1.72it/s]\n",
      "Validate (1300 / 10 Steps): 100%|██████████| 8/8 [00:11<00:00,  1.41s/it]2<?, ?it/s]\n",
      "Training (1300 / 18000 Steps) (loss=0.25195):   5%|▌         | 1/20 [00:14<04:32, 14.33s/it]"
     ]
    },
    {
     "name": "stdout",
     "output_type": "stream",
     "text": [
      "Model Was Not Saved ! Current Best Avg. Dice: 0.6801654100418091 Current Avg. Dice: 0.6627373099327087 Current Avg. tumor Dice: 0.6941894888877869 Current Avg. lymph Dice: 0.6289539337158203\n"
     ]
    },
    {
     "name": "stderr",
     "output_type": "stream",
     "text": [
      "Training (1319 / 18000 Steps) (loss=0.37243): 100%|██████████| 20/20 [00:22<00:00,  1.11s/it]\n",
      "Training (1339 / 18000 Steps) (loss=0.29156): 100%|██████████| 20/20 [00:11<00:00,  1.75it/s]\n",
      "Training (1359 / 18000 Steps) (loss=0.49093): 100%|██████████| 20/20 [00:10<00:00,  1.82it/s]\n",
      "Training (1379 / 18000 Steps) (loss=0.23622): 100%|██████████| 20/20 [00:11<00:00,  1.81it/s]\n",
      "Training (1399 / 18000 Steps) (loss=0.54811): 100%|██████████| 20/20 [00:11<00:00,  1.76it/s]\n",
      "Validate (1400 / 10 Steps): 100%|██████████| 8/8 [00:10<00:00,  1.36s/it]3<?, ?it/s]\n",
      "Training (1400 / 18000 Steps) (loss=0.42139):   5%|▌         | 1/20 [00:14<04:32, 14.32s/it]"
     ]
    },
    {
     "name": "stdout",
     "output_type": "stream",
     "text": [
      "Model Was Not Saved ! Current Best Avg. Dice: 0.6801654100418091 Current Avg. Dice: 0.633384644985199 Current Avg. tumor Dice: 0.6737706661224365 Current Avg. lymph Dice: 0.5860680341720581\n"
     ]
    },
    {
     "name": "stderr",
     "output_type": "stream",
     "text": [
      "Training (1419 / 18000 Steps) (loss=0.54194): 100%|██████████| 20/20 [00:22<00:00,  1.11s/it]\n",
      "Training (1439 / 18000 Steps) (loss=0.39937): 100%|██████████| 20/20 [00:11<00:00,  1.81it/s]\n",
      "Training (1459 / 18000 Steps) (loss=0.66793): 100%|██████████| 20/20 [00:11<00:00,  1.80it/s]\n",
      "Training (1479 / 18000 Steps) (loss=0.39182): 100%|██████████| 20/20 [00:11<00:00,  1.75it/s]\n",
      "Training (1499 / 18000 Steps) (loss=0.51278): 100%|██████████| 20/20 [00:11<00:00,  1.76it/s]\n",
      "Validate (1500 / 10 Steps): 100%|██████████| 8/8 [00:11<00:00,  1.39s/it]3<?, ?it/s]\n",
      "Training (1500 / 18000 Steps) (loss=0.28261):   5%|▌         | 1/20 [00:14<04:34, 14.42s/it]"
     ]
    },
    {
     "name": "stdout",
     "output_type": "stream",
     "text": [
      "Model Was Not Saved ! Current Best Avg. Dice: 0.6801654100418091 Current Avg. Dice: 0.621827244758606 Current Avg. tumor Dice: 0.6215885281562805 Current Avg. lymph Dice: 0.6317306756973267\n"
     ]
    },
    {
     "name": "stderr",
     "output_type": "stream",
     "text": [
      "Training (1519 / 18000 Steps) (loss=0.34208): 100%|██████████| 20/20 [00:22<00:00,  1.11s/it]\n",
      "Training (1539 / 18000 Steps) (loss=0.38603): 100%|██████████| 20/20 [00:11<00:00,  1.79it/s]\n",
      "Training (1559 / 18000 Steps) (loss=0.57332): 100%|██████████| 20/20 [00:11<00:00,  1.73it/s]\n",
      "Training (1579 / 18000 Steps) (loss=0.42443): 100%|██████████| 20/20 [00:11<00:00,  1.71it/s]\n",
      "Training (1599 / 18000 Steps) (loss=0.21682): 100%|██████████| 20/20 [00:11<00:00,  1.75it/s]\n",
      "Validate (1600 / 10 Steps): 100%|██████████| 8/8 [00:11<00:00,  1.41s/it]3<?, ?it/s]\n",
      "Training (1600 / 18000 Steps) (loss=0.45740):   5%|▌         | 1/20 [00:14<04:44, 14.96s/it]"
     ]
    },
    {
     "name": "stdout",
     "output_type": "stream",
     "text": [
      "Model Was Not Saved ! Current Best Avg. Dice: 0.6801654100418091 Current Avg. Dice: 0.6303130984306335 Current Avg. tumor Dice: 0.6379629373550415 Current Avg. lymph Dice: 0.6530317664146423\n"
     ]
    },
    {
     "name": "stderr",
     "output_type": "stream",
     "text": [
      "Training (1619 / 18000 Steps) (loss=0.38965): 100%|██████████| 20/20 [00:22<00:00,  1.14s/it]\n",
      "Training (1639 / 18000 Steps) (loss=0.33220): 100%|██████████| 20/20 [00:11<00:00,  1.75it/s]\n",
      "Training (1659 / 18000 Steps) (loss=0.40332): 100%|██████████| 20/20 [00:11<00:00,  1.74it/s]\n",
      "Training (1679 / 18000 Steps) (loss=0.40860): 100%|██████████| 20/20 [00:11<00:00,  1.79it/s]\n",
      "Training (1699 / 18000 Steps) (loss=0.51963): 100%|██████████| 20/20 [00:11<00:00,  1.78it/s]\n",
      "Validate (1700 / 10 Steps): 100%|██████████| 8/8 [00:11<00:00,  1.47s/it]3<?, ?it/s]\n",
      "Training (1700 / 18000 Steps) (loss=0.39850):   5%|▌         | 1/20 [00:15<04:52, 15.38s/it]"
     ]
    },
    {
     "name": "stdout",
     "output_type": "stream",
     "text": [
      "Model Was Not Saved ! Current Best Avg. Dice: 0.6801654100418091 Current Avg. Dice: 0.6480481624603271 Current Avg. tumor Dice: 0.6643946170806885 Current Avg. lymph Dice: 0.6331874132156372\n"
     ]
    },
    {
     "name": "stderr",
     "output_type": "stream",
     "text": [
      "Training (1719 / 18000 Steps) (loss=0.46840): 100%|██████████| 20/20 [00:23<00:00,  1.16s/it]\n",
      "Training (1739 / 18000 Steps) (loss=0.43142): 100%|██████████| 20/20 [00:11<00:00,  1.78it/s]\n",
      "Training (1759 / 18000 Steps) (loss=0.53395): 100%|██████████| 20/20 [00:11<00:00,  1.76it/s]\n",
      "Training (1779 / 18000 Steps) (loss=0.42762): 100%|██████████| 20/20 [00:11<00:00,  1.75it/s]\n",
      "Training (1799 / 18000 Steps) (loss=0.38232): 100%|██████████| 20/20 [00:11<00:00,  1.72it/s]\n",
      "Validate (1800 / 10 Steps): 100%|██████████| 8/8 [00:11<00:00,  1.41s/it]3<?, ?it/s]\n",
      "Training (1800 / 18000 Steps) (loss=0.39080):   5%|▌         | 1/20 [00:14<04:42, 14.85s/it]"
     ]
    },
    {
     "name": "stdout",
     "output_type": "stream",
     "text": [
      "Model Was Not Saved ! Current Best Avg. Dice: 0.6801654100418091 Current Avg. Dice: 0.6164425015449524 Current Avg. tumor Dice: 0.6198050379753113 Current Avg. lymph Dice: 0.6313208937644958\n"
     ]
    },
    {
     "name": "stderr",
     "output_type": "stream",
     "text": [
      "Training (1819 / 18000 Steps) (loss=0.41646): 100%|██████████| 20/20 [00:22<00:00,  1.14s/it]\n",
      "Training (1839 / 18000 Steps) (loss=0.41055): 100%|██████████| 20/20 [00:11<00:00,  1.75it/s]\n",
      "Training (1859 / 18000 Steps) (loss=0.45862): 100%|██████████| 20/20 [00:11<00:00,  1.68it/s]\n",
      "Training (1879 / 18000 Steps) (loss=0.20240): 100%|██████████| 20/20 [00:11<00:00,  1.79it/s]\n",
      "Training (1899 / 18000 Steps) (loss=0.36805): 100%|██████████| 20/20 [00:11<00:00,  1.70it/s]\n",
      "Validate (1900 / 10 Steps): 100%|██████████| 8/8 [00:11<00:00,  1.39s/it]3<?, ?it/s]\n",
      "Training (1900 / 18000 Steps) (loss=0.35086):   5%|▌         | 1/20 [00:14<04:40, 14.74s/it]"
     ]
    },
    {
     "name": "stdout",
     "output_type": "stream",
     "text": [
      "Model Was Not Saved ! Current Best Avg. Dice: 0.6801654100418091 Current Avg. Dice: 0.6137239933013916 Current Avg. tumor Dice: 0.6459401249885559 Current Avg. lymph Dice: 0.5803945064544678\n"
     ]
    },
    {
     "name": "stderr",
     "output_type": "stream",
     "text": [
      "Training (1919 / 18000 Steps) (loss=0.40491): 100%|██████████| 20/20 [00:22<00:00,  1.13s/it]\n",
      "Training (1939 / 18000 Steps) (loss=0.58624): 100%|██████████| 20/20 [00:11<00:00,  1.74it/s]\n",
      "Training (1959 / 18000 Steps) (loss=0.25994): 100%|██████████| 20/20 [00:11<00:00,  1.78it/s]\n",
      "Training (1979 / 18000 Steps) (loss=0.37342): 100%|██████████| 20/20 [00:11<00:00,  1.78it/s]\n",
      "Training (1999 / 18000 Steps) (loss=0.43416): 100%|██████████| 20/20 [00:12<00:00,  1.61it/s]\n",
      "Validate (2000 / 10 Steps): 100%|██████████| 8/8 [00:11<00:00,  1.43s/it]3<?, ?it/s]\n",
      "Training (2000 / 18000 Steps) (loss=0.34575):   5%|▌         | 1/20 [00:14<04:42, 14.84s/it]"
     ]
    },
    {
     "name": "stdout",
     "output_type": "stream",
     "text": [
      "Model Was Not Saved ! Current Best Avg. Dice: 0.6801654100418091 Current Avg. Dice: 0.6007809042930603 Current Avg. tumor Dice: 0.6551241278648376 Current Avg. lymph Dice: 0.5427022576332092\n"
     ]
    },
    {
     "name": "stderr",
     "output_type": "stream",
     "text": [
      "Training (2019 / 18000 Steps) (loss=0.40308): 100%|██████████| 20/20 [00:22<00:00,  1.14s/it]\n",
      "Training (2039 / 18000 Steps) (loss=0.36269): 100%|██████████| 20/20 [00:11<00:00,  1.77it/s]\n",
      "Training (2059 / 18000 Steps) (loss=0.53764): 100%|██████████| 20/20 [00:11<00:00,  1.76it/s]\n",
      "Training (2079 / 18000 Steps) (loss=0.47897): 100%|██████████| 20/20 [00:11<00:00,  1.75it/s]\n",
      "Training (2099 / 18000 Steps) (loss=0.41596): 100%|██████████| 20/20 [00:11<00:00,  1.75it/s]\n",
      "Validate (2100 / 10 Steps): 100%|██████████| 8/8 [00:11<00:00,  1.41s/it]3<?, ?it/s]\n",
      "Training (2100 / 18000 Steps) (loss=0.38955):   5%|▌         | 1/20 [00:14<04:39, 14.69s/it]"
     ]
    },
    {
     "name": "stdout",
     "output_type": "stream",
     "text": [
      "Model Was Not Saved ! Current Best Avg. Dice: 0.6801654100418091 Current Avg. Dice: 0.6288431882858276 Current Avg. tumor Dice: 0.6349083781242371 Current Avg. lymph Dice: 0.6440678238868713\n"
     ]
    },
    {
     "name": "stderr",
     "output_type": "stream",
     "text": [
      "Training (2119 / 18000 Steps) (loss=0.28337): 100%|██████████| 20/20 [00:22<00:00,  1.12s/it]\n",
      "Training (2139 / 18000 Steps) (loss=0.44095): 100%|██████████| 20/20 [00:11<00:00,  1.80it/s]\n",
      "Training (2159 / 18000 Steps) (loss=0.47005): 100%|██████████| 20/20 [00:11<00:00,  1.78it/s]\n",
      "Training (2179 / 18000 Steps) (loss=0.49012): 100%|██████████| 20/20 [00:11<00:00,  1.77it/s]\n",
      "Training (2199 / 18000 Steps) (loss=0.36623): 100%|██████████| 20/20 [00:11<00:00,  1.76it/s]\n",
      "Validate (2200 / 10 Steps): 100%|██████████| 8/8 [00:10<00:00,  1.37s/it]3<?, ?it/s]\n",
      "Training (2200 / 18000 Steps) (loss=0.35995):   5%|▌         | 1/20 [00:14<04:39, 14.70s/it]"
     ]
    },
    {
     "name": "stdout",
     "output_type": "stream",
     "text": [
      "Model Was Not Saved ! Current Best Avg. Dice: 0.6801654100418091 Current Avg. Dice: 0.6289353966712952 Current Avg. tumor Dice: 0.6384171843528748 Current Avg. lymph Dice: 0.6282864212989807\n"
     ]
    },
    {
     "name": "stderr",
     "output_type": "stream",
     "text": [
      "Training (2219 / 18000 Steps) (loss=0.49864): 100%|██████████| 20/20 [00:22<00:00,  1.13s/it]\n",
      "Training (2239 / 18000 Steps) (loss=0.45778): 100%|██████████| 20/20 [00:11<00:00,  1.78it/s]\n",
      "Training (2259 / 18000 Steps) (loss=0.29898): 100%|██████████| 20/20 [00:10<00:00,  1.83it/s]\n",
      "Training (2279 / 18000 Steps) (loss=0.66689): 100%|██████████| 20/20 [00:11<00:00,  1.70it/s]\n",
      "Training (2299 / 18000 Steps) (loss=0.46481): 100%|██████████| 20/20 [00:11<00:00,  1.76it/s]\n",
      "Validate (2300 / 10 Steps): 100%|██████████| 8/8 [00:11<00:00,  1.40s/it]3<?, ?it/s]\n",
      "Training (2300 / 18000 Steps) (loss=0.52763):   5%|▌         | 1/20 [00:14<04:38, 14.65s/it]"
     ]
    },
    {
     "name": "stdout",
     "output_type": "stream",
     "text": [
      "Model Was Not Saved ! Current Best Avg. Dice: 0.6801654100418091 Current Avg. Dice: 0.635219395160675 Current Avg. tumor Dice: 0.6562145352363586 Current Avg. lymph Dice: 0.6207252740859985\n"
     ]
    },
    {
     "name": "stderr",
     "output_type": "stream",
     "text": [
      "Training (2319 / 18000 Steps) (loss=0.51439): 100%|██████████| 20/20 [00:22<00:00,  1.12s/it]\n",
      "Training (2339 / 18000 Steps) (loss=0.30277): 100%|██████████| 20/20 [00:11<00:00,  1.75it/s]\n",
      "Training (2359 / 18000 Steps) (loss=0.30714): 100%|██████████| 20/20 [00:11<00:00,  1.79it/s]\n",
      "Training (2379 / 18000 Steps) (loss=0.53338): 100%|██████████| 20/20 [00:11<00:00,  1.74it/s]\n",
      "Training (2399 / 18000 Steps) (loss=0.51997): 100%|██████████| 20/20 [00:11<00:00,  1.77it/s]\n",
      "Validate (2400 / 10 Steps): 100%|██████████| 8/8 [00:11<00:00,  1.46s/it]3<?, ?it/s]\n",
      "Training (2400 / 18000 Steps) (loss=0.50460):   5%|▌         | 1/20 [00:15<04:47, 15.16s/it]"
     ]
    },
    {
     "name": "stdout",
     "output_type": "stream",
     "text": [
      "Model Was Not Saved ! Current Best Avg. Dice: 0.6801654100418091 Current Avg. Dice: 0.633700430393219 Current Avg. tumor Dice: 0.6423147320747375 Current Avg. lymph Dice: 0.6247683167457581\n"
     ]
    },
    {
     "name": "stderr",
     "output_type": "stream",
     "text": [
      "Training (2419 / 18000 Steps) (loss=0.45764): 100%|██████████| 20/20 [00:22<00:00,  1.15s/it]\n",
      "Training (2439 / 18000 Steps) (loss=0.31517): 100%|██████████| 20/20 [00:11<00:00,  1.77it/s]\n",
      "Training (2459 / 18000 Steps) (loss=0.45210): 100%|██████████| 20/20 [00:11<00:00,  1.69it/s]\n",
      "Training (2479 / 18000 Steps) (loss=0.60191): 100%|██████████| 20/20 [00:11<00:00,  1.75it/s]\n",
      "Training (2499 / 18000 Steps) (loss=0.44572): 100%|██████████| 20/20 [00:11<00:00,  1.74it/s]\n",
      "Validate (2500 / 10 Steps): 100%|██████████| 8/8 [00:11<00:00,  1.40s/it]3<?, ?it/s]\n",
      "Training (2500 / 18000 Steps) (loss=0.34934):   5%|▌         | 1/20 [00:14<04:37, 14.59s/it]"
     ]
    },
    {
     "name": "stdout",
     "output_type": "stream",
     "text": [
      "Model Was Not Saved ! Current Best Avg. Dice: 0.6801654100418091 Current Avg. Dice: 0.6045754551887512 Current Avg. tumor Dice: 0.6142035722732544 Current Avg. lymph Dice: 0.6314418315887451\n"
     ]
    },
    {
     "name": "stderr",
     "output_type": "stream",
     "text": [
      "Training (2519 / 18000 Steps) (loss=0.48115): 100%|██████████| 20/20 [00:22<00:00,  1.12s/it]\n",
      "Training (2539 / 18000 Steps) (loss=0.32805): 100%|██████████| 20/20 [00:11<00:00,  1.74it/s]\n",
      "Training (2559 / 18000 Steps) (loss=0.46846): 100%|██████████| 20/20 [00:11<00:00,  1.79it/s]\n",
      "Training (2579 / 18000 Steps) (loss=0.49377): 100%|██████████| 20/20 [00:11<00:00,  1.73it/s]\n",
      "Training (2599 / 18000 Steps) (loss=0.42685): 100%|██████████| 20/20 [00:11<00:00,  1.74it/s]\n",
      "Validate (2600 / 10 Steps): 100%|██████████| 8/8 [00:11<00:00,  1.40s/it]3<?, ?it/s]\n",
      "Training (2600 / 18000 Steps) (loss=0.41393):   5%|▌         | 1/20 [00:14<04:35, 14.51s/it]"
     ]
    },
    {
     "name": "stdout",
     "output_type": "stream",
     "text": [
      "Model Was Not Saved ! Current Best Avg. Dice: 0.6801654100418091 Current Avg. Dice: 0.6238970160484314 Current Avg. tumor Dice: 0.6254971623420715 Current Avg. lymph Dice: 0.6386877298355103\n"
     ]
    },
    {
     "name": "stderr",
     "output_type": "stream",
     "text": [
      "Training (2619 / 18000 Steps) (loss=0.55222): 100%|██████████| 20/20 [00:22<00:00,  1.12s/it]\n",
      "Training (2639 / 18000 Steps) (loss=0.45800): 100%|██████████| 20/20 [00:11<00:00,  1.72it/s]\n",
      "Training (2659 / 18000 Steps) (loss=0.31895): 100%|██████████| 20/20 [00:11<00:00,  1.71it/s]\n",
      "Training (2679 / 18000 Steps) (loss=0.41887): 100%|██████████| 20/20 [00:11<00:00,  1.75it/s]\n",
      "Training (2699 / 18000 Steps) (loss=0.34958): 100%|██████████| 20/20 [00:11<00:00,  1.75it/s]\n",
      "Validate (2700 / 10 Steps): 100%|██████████| 8/8 [00:11<00:00,  1.41s/it]3<?, ?it/s]\n",
      "Training (2700 / 18000 Steps) (loss=0.43489):   5%|▌         | 1/20 [00:14<04:36, 14.53s/it]"
     ]
    },
    {
     "name": "stdout",
     "output_type": "stream",
     "text": [
      "Model Was Not Saved ! Current Best Avg. Dice: 0.6801654100418091 Current Avg. Dice: 0.6129835844039917 Current Avg. tumor Dice: 0.6299213171005249 Current Avg. lymph Dice: 0.6112185716629028\n"
     ]
    },
    {
     "name": "stderr",
     "output_type": "stream",
     "text": [
      "Training (2719 / 18000 Steps) (loss=0.35669): 100%|██████████| 20/20 [00:22<00:00,  1.12s/it]\n",
      "Training (2739 / 18000 Steps) (loss=0.57957): 100%|██████████| 20/20 [00:11<00:00,  1.75it/s]\n",
      "Training (2759 / 18000 Steps) (loss=0.39250): 100%|██████████| 20/20 [00:11<00:00,  1.80it/s]\n",
      "Training (2779 / 18000 Steps) (loss=0.27713): 100%|██████████| 20/20 [00:11<00:00,  1.77it/s]\n",
      "Training (2799 / 18000 Steps) (loss=0.42951): 100%|██████████| 20/20 [00:11<00:00,  1.77it/s]\n",
      "Validate (2800 / 10 Steps): 100%|██████████| 8/8 [00:11<00:00,  1.43s/it]3<?, ?it/s]\n",
      "Training (2800 / 18000 Steps) (loss=0.41915):   5%|▌         | 1/20 [00:15<04:48, 15.21s/it]"
     ]
    },
    {
     "name": "stdout",
     "output_type": "stream",
     "text": [
      "Model Was Not Saved ! Current Best Avg. Dice: 0.6801654100418091 Current Avg. Dice: 0.6362312436103821 Current Avg. tumor Dice: 0.6463944911956787 Current Avg. lymph Dice: 0.6429638266563416\n"
     ]
    },
    {
     "name": "stderr",
     "output_type": "stream",
     "text": [
      "Training (2819 / 18000 Steps) (loss=0.34969): 100%|██████████| 20/20 [00:23<00:00,  1.15s/it]\n",
      "Training (2839 / 18000 Steps) (loss=0.45786): 100%|██████████| 20/20 [00:11<00:00,  1.75it/s]\n",
      "Training (2859 / 18000 Steps) (loss=0.22208): 100%|██████████| 20/20 [00:11<00:00,  1.67it/s]\n",
      "Training (2879 / 18000 Steps) (loss=0.51991): 100%|██████████| 20/20 [00:11<00:00,  1.76it/s]\n",
      "Training (2899 / 18000 Steps) (loss=0.45372): 100%|██████████| 20/20 [00:11<00:00,  1.75it/s]\n",
      "Validate (2900 / 10 Steps): 100%|██████████| 8/8 [00:11<00:00,  1.42s/it]3<?, ?it/s]\n",
      "Training (2900 / 18000 Steps) (loss=0.38391):   5%|▌         | 1/20 [00:14<04:41, 14.83s/it]"
     ]
    },
    {
     "name": "stdout",
     "output_type": "stream",
     "text": [
      "Model Was Not Saved ! Current Best Avg. Dice: 0.6801654100418091 Current Avg. Dice: 0.6320590972900391 Current Avg. tumor Dice: 0.6368933320045471 Current Avg. lymph Dice: 0.6452532410621643\n"
     ]
    },
    {
     "name": "stderr",
     "output_type": "stream",
     "text": [
      "Training (2919 / 18000 Steps) (loss=0.41767): 100%|██████████| 20/20 [00:22<00:00,  1.14s/it]\n",
      "Training (2939 / 18000 Steps) (loss=0.54613): 100%|██████████| 20/20 [00:11<00:00,  1.81it/s]\n",
      "Training (2959 / 18000 Steps) (loss=0.50702): 100%|██████████| 20/20 [00:11<00:00,  1.78it/s]\n",
      "Training (2979 / 18000 Steps) (loss=0.22394): 100%|██████████| 20/20 [00:11<00:00,  1.71it/s]\n",
      "Training (2999 / 18000 Steps) (loss=0.28345): 100%|██████████| 20/20 [00:11<00:00,  1.78it/s]\n",
      "Validate (3000 / 10 Steps): 100%|██████████| 8/8 [00:11<00:00,  1.48s/it]3<?, ?it/s]\n",
      "Training (3000 / 18000 Steps) (loss=0.50453):   5%|▌         | 1/20 [00:15<04:47, 15.12s/it]"
     ]
    },
    {
     "name": "stdout",
     "output_type": "stream",
     "text": [
      "Model Was Not Saved ! Current Best Avg. Dice: 0.6801654100418091 Current Avg. Dice: 0.5499374270439148 Current Avg. tumor Dice: 0.5274909734725952 Current Avg. lymph Dice: 0.5969761610031128\n"
     ]
    },
    {
     "name": "stderr",
     "output_type": "stream",
     "text": [
      "Training (3019 / 18000 Steps) (loss=0.51277): 100%|██████████| 20/20 [00:22<00:00,  1.15s/it]\n",
      "Training (3039 / 18000 Steps) (loss=0.42198): 100%|██████████| 20/20 [00:11<00:00,  1.77it/s]\n",
      "Training (3059 / 18000 Steps) (loss=0.44060): 100%|██████████| 20/20 [00:11<00:00,  1.71it/s]\n",
      "Training (3079 / 18000 Steps) (loss=0.43165): 100%|██████████| 20/20 [00:11<00:00,  1.78it/s]\n",
      "Training (3099 / 18000 Steps) (loss=0.42143): 100%|██████████| 20/20 [00:11<00:00,  1.77it/s]\n",
      "Validate (3100 / 10 Steps): 100%|██████████| 8/8 [00:11<00:00,  1.45s/it]3<?, ?it/s]\n",
      "Training (3100 / 18000 Steps) (loss=0.45517):   5%|▌         | 1/20 [00:15<04:49, 15.21s/it]"
     ]
    },
    {
     "name": "stdout",
     "output_type": "stream",
     "text": [
      "Model Was Not Saved ! Current Best Avg. Dice: 0.6801654100418091 Current Avg. Dice: 0.6134069561958313 Current Avg. tumor Dice: 0.6311988234519958 Current Avg. lymph Dice: 0.6001086831092834\n"
     ]
    },
    {
     "name": "stderr",
     "output_type": "stream",
     "text": [
      "Training (3119 / 18000 Steps) (loss=0.40333): 100%|██████████| 20/20 [00:23<00:00,  1.15s/it]\n",
      "Training (3139 / 18000 Steps) (loss=0.39006): 100%|██████████| 20/20 [00:11<00:00,  1.76it/s]\n",
      "Training (3159 / 18000 Steps) (loss=0.48928): 100%|██████████| 20/20 [00:11<00:00,  1.75it/s]\n",
      "Training (3179 / 18000 Steps) (loss=0.40020): 100%|██████████| 20/20 [00:11<00:00,  1.74it/s]\n",
      "Training (3199 / 18000 Steps) (loss=0.45074): 100%|██████████| 20/20 [00:11<00:00,  1.79it/s]\n",
      "Validate (3200 / 10 Steps): 100%|██████████| 8/8 [00:11<00:00,  1.41s/it]3<?, ?it/s]\n",
      "Training (3200 / 18000 Steps) (loss=0.34181):   5%|▌         | 1/20 [00:14<04:44, 14.96s/it]"
     ]
    },
    {
     "name": "stdout",
     "output_type": "stream",
     "text": [
      "Model Was Not Saved ! Current Best Avg. Dice: 0.6801654100418091 Current Avg. Dice: 0.5774497985839844 Current Avg. tumor Dice: 0.5826375484466553 Current Avg. lymph Dice: 0.6023582220077515\n"
     ]
    },
    {
     "name": "stderr",
     "output_type": "stream",
     "text": [
      "Training (3219 / 18000 Steps) (loss=0.57453): 100%|██████████| 20/20 [00:22<00:00,  1.14s/it]\n",
      "Training (3239 / 18000 Steps) (loss=0.36973): 100%|██████████| 20/20 [00:11<00:00,  1.72it/s]\n",
      "Training (3259 / 18000 Steps) (loss=0.50952): 100%|██████████| 20/20 [00:11<00:00,  1.80it/s]\n",
      "Training (3279 / 18000 Steps) (loss=0.27749): 100%|██████████| 20/20 [00:11<00:00,  1.76it/s]\n",
      "Training (3299 / 18000 Steps) (loss=0.56827): 100%|██████████| 20/20 [00:11<00:00,  1.74it/s]\n",
      "Validate (3300 / 10 Steps): 100%|██████████| 8/8 [00:11<00:00,  1.42s/it]3<?, ?it/s]\n",
      "Training (3300 / 18000 Steps) (loss=0.48295):   5%|▌         | 1/20 [00:15<04:47, 15.14s/it]"
     ]
    },
    {
     "name": "stdout",
     "output_type": "stream",
     "text": [
      "Model Was Not Saved ! Current Best Avg. Dice: 0.6801654100418091 Current Avg. Dice: 0.6162121891975403 Current Avg. tumor Dice: 0.6346275210380554 Current Avg. lymph Dice: 0.6405608057975769\n"
     ]
    },
    {
     "name": "stderr",
     "output_type": "stream",
     "text": [
      "Training (3319 / 18000 Steps) (loss=0.35213): 100%|██████████| 20/20 [00:22<00:00,  1.15s/it]\n",
      "Training (3339 / 18000 Steps) (loss=0.27989): 100%|██████████| 20/20 [00:11<00:00,  1.70it/s]\n",
      "Training (3359 / 18000 Steps) (loss=0.57231): 100%|██████████| 20/20 [00:11<00:00,  1.78it/s]\n",
      "Training (3379 / 18000 Steps) (loss=0.14214): 100%|██████████| 20/20 [00:11<00:00,  1.79it/s]\n",
      "Training (3399 / 18000 Steps) (loss=0.29144): 100%|██████████| 20/20 [00:11<00:00,  1.71it/s]\n",
      "Validate (3400 / 10 Steps): 100%|██████████| 8/8 [00:11<00:00,  1.38s/it]3<?, ?it/s]\n",
      "Training (3400 / 18000 Steps) (loss=0.46819):   5%|▌         | 1/20 [00:14<04:34, 14.44s/it]"
     ]
    },
    {
     "name": "stdout",
     "output_type": "stream",
     "text": [
      "Model Was Not Saved ! Current Best Avg. Dice: 0.6801654100418091 Current Avg. Dice: 0.5503371953964233 Current Avg. tumor Dice: 0.5569028258323669 Current Avg. lymph Dice: 0.610996663570404\n"
     ]
    },
    {
     "name": "stderr",
     "output_type": "stream",
     "text": [
      "Training (3419 / 18000 Steps) (loss=0.56603): 100%|██████████| 20/20 [00:22<00:00,  1.11s/it]\n",
      "Training (3439 / 18000 Steps) (loss=0.55728): 100%|██████████| 20/20 [00:11<00:00,  1.75it/s]\n",
      "Training (3459 / 18000 Steps) (loss=0.16817): 100%|██████████| 20/20 [00:11<00:00,  1.73it/s]\n",
      "Training (3479 / 18000 Steps) (loss=0.47912): 100%|██████████| 20/20 [00:11<00:00,  1.69it/s]\n",
      "Training (3499 / 18000 Steps) (loss=0.54161): 100%|██████████| 20/20 [00:11<00:00,  1.72it/s]\n",
      "Validate (3500 / 10 Steps): 100%|██████████| 8/8 [00:11<00:00,  1.41s/it]3<?, ?it/s]\n",
      "Training (3500 / 18000 Steps) (loss=0.41697):   5%|▌         | 1/20 [00:14<04:32, 14.36s/it]"
     ]
    },
    {
     "name": "stdout",
     "output_type": "stream",
     "text": [
      "Model Was Not Saved ! Current Best Avg. Dice: 0.6801654100418091 Current Avg. Dice: 0.5677497982978821 Current Avg. tumor Dice: 0.6025753021240234 Current Avg. lymph Dice: 0.5624517798423767\n"
     ]
    },
    {
     "name": "stderr",
     "output_type": "stream",
     "text": [
      "Training (3519 / 18000 Steps) (loss=0.56818): 100%|██████████| 20/20 [00:22<00:00,  1.11s/it]\n",
      "Training (3539 / 18000 Steps) (loss=0.42190): 100%|██████████| 20/20 [00:11<00:00,  1.81it/s]\n",
      "Training (3559 / 18000 Steps) (loss=0.23797): 100%|██████████| 20/20 [00:11<00:00,  1.77it/s]\n",
      "Training (3579 / 18000 Steps) (loss=0.30010): 100%|██████████| 20/20 [00:11<00:00,  1.76it/s]\n",
      "Training (3599 / 18000 Steps) (loss=0.20911): 100%|██████████| 20/20 [00:11<00:00,  1.78it/s]\n",
      "Validate (3600 / 10 Steps): 100%|██████████| 8/8 [00:11<00:00,  1.44s/it]3<?, ?it/s]\n",
      "Training (3600 / 18000 Steps) (loss=0.42367):   5%|▌         | 1/20 [00:15<04:47, 15.13s/it]"
     ]
    },
    {
     "name": "stdout",
     "output_type": "stream",
     "text": [
      "Model Was Not Saved ! Current Best Avg. Dice: 0.6801654100418091 Current Avg. Dice: 0.638102650642395 Current Avg. tumor Dice: 0.6498662233352661 Current Avg. lymph Dice: 0.6424258351325989\n"
     ]
    },
    {
     "name": "stderr",
     "output_type": "stream",
     "text": [
      "Training (3619 / 18000 Steps) (loss=0.23578): 100%|██████████| 20/20 [00:22<00:00,  1.15s/it]\n",
      "Training (3639 / 18000 Steps) (loss=0.55276): 100%|██████████| 20/20 [00:11<00:00,  1.76it/s]\n",
      "Training (3659 / 18000 Steps) (loss=0.53847): 100%|██████████| 20/20 [00:11<00:00,  1.74it/s]\n",
      "Training (3679 / 18000 Steps) (loss=0.54892): 100%|██████████| 20/20 [00:11<00:00,  1.79it/s]\n",
      "Training (3699 / 18000 Steps) (loss=0.40378): 100%|██████████| 20/20 [00:11<00:00,  1.79it/s]\n",
      "Validate (3700 / 10 Steps): 100%|██████████| 8/8 [00:11<00:00,  1.39s/it]3<?, ?it/s]\n",
      "Training (3700 / 18000 Steps) (loss=0.48403):   5%|▌         | 1/20 [00:14<04:35, 14.49s/it]"
     ]
    },
    {
     "name": "stdout",
     "output_type": "stream",
     "text": [
      "Model Was Not Saved ! Current Best Avg. Dice: 0.6801654100418091 Current Avg. Dice: 0.6116322875022888 Current Avg. tumor Dice: 0.6144695281982422 Current Avg. lymph Dice: 0.6439437866210938\n"
     ]
    },
    {
     "name": "stderr",
     "output_type": "stream",
     "text": [
      "Training (3719 / 18000 Steps) (loss=0.37355): 100%|██████████| 20/20 [00:22<00:00,  1.12s/it]\n",
      "Training (3739 / 18000 Steps) (loss=0.46872): 100%|██████████| 20/20 [00:11<00:00,  1.80it/s]\n",
      "Training (3759 / 18000 Steps) (loss=0.33750): 100%|██████████| 20/20 [00:11<00:00,  1.73it/s]\n",
      "Training (3779 / 18000 Steps) (loss=0.35240): 100%|██████████| 20/20 [00:11<00:00,  1.80it/s]\n",
      "Training (3799 / 18000 Steps) (loss=0.46650): 100%|██████████| 20/20 [00:11<00:00,  1.77it/s]\n",
      "Validate (3800 / 10 Steps): 100%|██████████| 8/8 [00:11<00:00,  1.43s/it]3<?, ?it/s]\n",
      "Training (3800 / 18000 Steps) (loss=0.47821):   5%|▌         | 1/20 [00:14<04:34, 14.46s/it]"
     ]
    },
    {
     "name": "stdout",
     "output_type": "stream",
     "text": [
      "Model Was Not Saved ! Current Best Avg. Dice: 0.6801654100418091 Current Avg. Dice: 0.6000998616218567 Current Avg. tumor Dice: 0.6175777316093445 Current Avg. lymph Dice: 0.6098442077636719\n"
     ]
    },
    {
     "name": "stderr",
     "output_type": "stream",
     "text": [
      "Training (3819 / 18000 Steps) (loss=0.46375): 100%|██████████| 20/20 [00:22<00:00,  1.12s/it]\n",
      "Training (3839 / 18000 Steps) (loss=0.31366): 100%|██████████| 20/20 [00:11<00:00,  1.77it/s]\n",
      "Training (3859 / 18000 Steps) (loss=0.42145): 100%|██████████| 20/20 [00:11<00:00,  1.74it/s]\n",
      "Training (3879 / 18000 Steps) (loss=0.36294): 100%|██████████| 20/20 [00:11<00:00,  1.73it/s]\n",
      "Training (3899 / 18000 Steps) (loss=0.55141): 100%|██████████| 20/20 [00:11<00:00,  1.78it/s]\n",
      "Validate (3900 / 10 Steps): 100%|██████████| 8/8 [00:10<00:00,  1.37s/it]3<?, ?it/s]\n",
      "Training (3900 / 18000 Steps) (loss=0.33018):   5%|▌         | 1/20 [00:14<04:38, 14.66s/it]"
     ]
    },
    {
     "name": "stdout",
     "output_type": "stream",
     "text": [
      "Model Was Not Saved ! Current Best Avg. Dice: 0.6801654100418091 Current Avg. Dice: 0.5799567103385925 Current Avg. tumor Dice: 0.5901264548301697 Current Avg. lymph Dice: 0.6062582731246948\n"
     ]
    },
    {
     "name": "stderr",
     "output_type": "stream",
     "text": [
      "Training (3919 / 18000 Steps) (loss=0.45905): 100%|██████████| 20/20 [00:22<00:00,  1.13s/it]\n",
      "Training (3939 / 18000 Steps) (loss=0.15034): 100%|██████████| 20/20 [00:11<00:00,  1.78it/s]\n",
      "Training (3959 / 18000 Steps) (loss=0.38762): 100%|██████████| 20/20 [00:11<00:00,  1.78it/s]\n",
      "Training (3979 / 18000 Steps) (loss=0.32875): 100%|██████████| 20/20 [00:11<00:00,  1.80it/s]\n",
      "Training (3999 / 18000 Steps) (loss=0.17481): 100%|██████████| 20/20 [00:11<00:00,  1.77it/s]\n",
      "Validate (4000 / 10 Steps): 100%|██████████| 8/8 [00:11<00:00,  1.39s/it]3<?, ?it/s]\n",
      "Training (4000 / 18000 Steps) (loss=0.49622):   5%|▌         | 1/20 [00:14<04:35, 14.52s/it]"
     ]
    },
    {
     "name": "stdout",
     "output_type": "stream",
     "text": [
      "Model Was Not Saved ! Current Best Avg. Dice: 0.6801654100418091 Current Avg. Dice: 0.6067907810211182 Current Avg. tumor Dice: 0.5994603037834167 Current Avg. lymph Dice: 0.6262924671173096\n"
     ]
    },
    {
     "name": "stderr",
     "output_type": "stream",
     "text": [
      "Training (4019 / 18000 Steps) (loss=0.33174): 100%|██████████| 20/20 [00:22<00:00,  1.12s/it]\n",
      "Training (4039 / 18000 Steps) (loss=0.41963): 100%|██████████| 20/20 [00:11<00:00,  1.80it/s]\n",
      "Training (4059 / 18000 Steps) (loss=0.41167): 100%|██████████| 20/20 [00:11<00:00,  1.80it/s]\n",
      "Training (4079 / 18000 Steps) (loss=0.51248): 100%|██████████| 20/20 [00:11<00:00,  1.77it/s]\n",
      "Training (4099 / 18000 Steps) (loss=0.56844): 100%|██████████| 20/20 [00:11<00:00,  1.77it/s]\n",
      "Validate (4100 / 10 Steps): 100%|██████████| 8/8 [00:11<00:00,  1.40s/it]3<?, ?it/s]\n",
      "Training (4100 / 18000 Steps) (loss=0.24077):   5%|▌         | 1/20 [00:14<04:31, 14.27s/it]"
     ]
    },
    {
     "name": "stdout",
     "output_type": "stream",
     "text": [
      "Model Was Not Saved ! Current Best Avg. Dice: 0.6801654100418091 Current Avg. Dice: 0.604312539100647 Current Avg. tumor Dice: 0.6164453029632568 Current Avg. lymph Dice: 0.6163843870162964\n"
     ]
    },
    {
     "name": "stderr",
     "output_type": "stream",
     "text": [
      "Training (4119 / 18000 Steps) (loss=0.41164): 100%|██████████| 20/20 [00:22<00:00,  1.11s/it]\n",
      "Training (4139 / 18000 Steps) (loss=0.29748): 100%|██████████| 20/20 [00:11<00:00,  1.73it/s]\n",
      "Training (4159 / 18000 Steps) (loss=0.33651): 100%|██████████| 20/20 [00:11<00:00,  1.74it/s]\n",
      "Training (4179 / 18000 Steps) (loss=0.51879): 100%|██████████| 20/20 [00:11<00:00,  1.75it/s]\n",
      "Training (4199 / 18000 Steps) (loss=0.28812): 100%|██████████| 20/20 [00:11<00:00,  1.82it/s]\n",
      "Validate (4200 / 10 Steps): 100%|██████████| 8/8 [00:11<00:00,  1.43s/it]3<?, ?it/s]\n",
      "Training (4200 / 18000 Steps) (loss=0.41843):   5%|▌         | 1/20 [00:15<04:45, 15.02s/it]"
     ]
    },
    {
     "name": "stdout",
     "output_type": "stream",
     "text": [
      "Model Was Not Saved ! Current Best Avg. Dice: 0.6801654100418091 Current Avg. Dice: 0.585549533367157 Current Avg. tumor Dice: 0.6043044924736023 Current Avg. lymph Dice: 0.6181513667106628\n"
     ]
    },
    {
     "name": "stderr",
     "output_type": "stream",
     "text": [
      "Training (4219 / 18000 Steps) (loss=0.26140): 100%|██████████| 20/20 [00:22<00:00,  1.14s/it]\n",
      "Training (4239 / 18000 Steps) (loss=0.47551): 100%|██████████| 20/20 [00:11<00:00,  1.77it/s]\n",
      "Training (4259 / 18000 Steps) (loss=0.13271): 100%|██████████| 20/20 [00:11<00:00,  1.75it/s]\n",
      "Training (4279 / 18000 Steps) (loss=0.36944): 100%|██████████| 20/20 [00:11<00:00,  1.73it/s]\n",
      "Training (4299 / 18000 Steps) (loss=0.43973): 100%|██████████| 20/20 [00:11<00:00,  1.80it/s]\n",
      "Validate (4300 / 10 Steps): 100%|██████████| 8/8 [00:11<00:00,  1.42s/it]3<?, ?it/s]\n",
      "Training (4300 / 18000 Steps) (loss=0.41680):   5%|▌         | 1/20 [00:14<04:43, 14.93s/it]"
     ]
    },
    {
     "name": "stdout",
     "output_type": "stream",
     "text": [
      "Model Was Not Saved ! Current Best Avg. Dice: 0.6801654100418091 Current Avg. Dice: 0.6007307767868042 Current Avg. tumor Dice: 0.599357008934021 Current Avg. lymph Dice: 0.6318139433860779\n"
     ]
    },
    {
     "name": "stderr",
     "output_type": "stream",
     "text": [
      "Training (4319 / 18000 Steps) (loss=0.41674): 100%|██████████| 20/20 [00:22<00:00,  1.14s/it]\n",
      "Training (4339 / 18000 Steps) (loss=0.49852): 100%|██████████| 20/20 [00:11<00:00,  1.76it/s]\n",
      "Training (4359 / 18000 Steps) (loss=0.48480): 100%|██████████| 20/20 [00:11<00:00,  1.73it/s]\n",
      "Training (4379 / 18000 Steps) (loss=0.66789): 100%|██████████| 20/20 [00:11<00:00,  1.74it/s]\n",
      "Training (4399 / 18000 Steps) (loss=0.40133): 100%|██████████| 20/20 [00:11<00:00,  1.74it/s]\n",
      "Validate (4400 / 10 Steps): 100%|██████████| 8/8 [00:11<00:00,  1.45s/it]3<?, ?it/s]\n",
      "Training (4400 / 18000 Steps) (loss=0.49486):   5%|▌         | 1/20 [00:15<04:52, 15.40s/it]"
     ]
    },
    {
     "name": "stdout",
     "output_type": "stream",
     "text": [
      "Model Was Not Saved ! Current Best Avg. Dice: 0.6801654100418091 Current Avg. Dice: 0.597428560256958 Current Avg. tumor Dice: 0.6433026194572449 Current Avg. lymph Dice: 0.5498314499855042\n"
     ]
    },
    {
     "name": "stderr",
     "output_type": "stream",
     "text": [
      "Training (4419 / 18000 Steps) (loss=0.33655): 100%|██████████| 20/20 [00:23<00:00,  1.16s/it]\n",
      "Training (4439 / 18000 Steps) (loss=0.61368): 100%|██████████| 20/20 [00:11<00:00,  1.75it/s]\n",
      "Training (4459 / 18000 Steps) (loss=0.28592): 100%|██████████| 20/20 [00:11<00:00,  1.75it/s]\n",
      "Training (4479 / 18000 Steps) (loss=0.23711): 100%|██████████| 20/20 [00:10<00:00,  1.83it/s]\n",
      "Training (4499 / 18000 Steps) (loss=0.54118): 100%|██████████| 20/20 [00:11<00:00,  1.75it/s]\n",
      "Validate (4500 / 10 Steps): 100%|██████████| 8/8 [00:11<00:00,  1.40s/it]3<?, ?it/s]\n",
      "Training (4500 / 18000 Steps) (loss=0.64463):   5%|▌         | 1/20 [00:14<04:32, 14.35s/it]"
     ]
    },
    {
     "name": "stdout",
     "output_type": "stream",
     "text": [
      "Model Was Not Saved ! Current Best Avg. Dice: 0.6801654100418091 Current Avg. Dice: 0.5547501444816589 Current Avg. tumor Dice: 0.5656617283821106 Current Avg. lymph Dice: 0.5744069218635559\n"
     ]
    },
    {
     "name": "stderr",
     "output_type": "stream",
     "text": [
      "Training (4519 / 18000 Steps) (loss=0.33521): 100%|██████████| 20/20 [00:22<00:00,  1.11s/it]\n",
      "Training (4539 / 18000 Steps) (loss=0.11990): 100%|██████████| 20/20 [00:11<00:00,  1.75it/s]\n",
      "Training (4559 / 18000 Steps) (loss=0.49808): 100%|██████████| 20/20 [00:11<00:00,  1.78it/s]\n",
      "Training (4579 / 18000 Steps) (loss=0.62179): 100%|██████████| 20/20 [00:11<00:00,  1.80it/s]\n",
      "Training (4599 / 18000 Steps) (loss=0.39161): 100%|██████████| 20/20 [00:11<00:00,  1.78it/s]\n",
      "Validate (4600 / 10 Steps): 100%|██████████| 8/8 [00:11<00:00,  1.39s/it]3<?, ?it/s]\n",
      "Training (4600 / 18000 Steps) (loss=0.34279):   5%|▌         | 1/20 [00:14<04:41, 14.82s/it]"
     ]
    },
    {
     "name": "stdout",
     "output_type": "stream",
     "text": [
      "Model Was Not Saved ! Current Best Avg. Dice: 0.6801654100418091 Current Avg. Dice: 0.6091697812080383 Current Avg. tumor Dice: 0.5921880602836609 Current Avg. lymph Dice: 0.6502889394760132\n"
     ]
    },
    {
     "name": "stderr",
     "output_type": "stream",
     "text": [
      "Training (4619 / 18000 Steps) (loss=0.48709): 100%|██████████| 20/20 [00:22<00:00,  1.13s/it]\n",
      "Training (4639 / 18000 Steps) (loss=0.27958): 100%|██████████| 20/20 [00:11<00:00,  1.74it/s]\n",
      "Training (4659 / 18000 Steps) (loss=0.30843): 100%|██████████| 20/20 [00:11<00:00,  1.75it/s]\n",
      "Training (4679 / 18000 Steps) (loss=0.31756): 100%|██████████| 20/20 [00:11<00:00,  1.79it/s]\n",
      "Training (4699 / 18000 Steps) (loss=0.36609): 100%|██████████| 20/20 [00:11<00:00,  1.76it/s]\n",
      "Validate (4700 / 10 Steps): 100%|██████████| 8/8 [00:10<00:00,  1.37s/it]3<?, ?it/s]\n",
      "Training (4700 / 18000 Steps) (loss=0.39203):   5%|▌         | 1/20 [00:14<04:34, 14.44s/it]"
     ]
    },
    {
     "name": "stdout",
     "output_type": "stream",
     "text": [
      "Model Was Not Saved ! Current Best Avg. Dice: 0.6801654100418091 Current Avg. Dice: 0.5715076327323914 Current Avg. tumor Dice: 0.5821600556373596 Current Avg. lymph Dice: 0.6082811951637268\n"
     ]
    },
    {
     "name": "stderr",
     "output_type": "stream",
     "text": [
      "Training (4719 / 18000 Steps) (loss=0.14249): 100%|██████████| 20/20 [00:22<00:00,  1.11s/it]\n",
      "Training (4739 / 18000 Steps) (loss=0.24628): 100%|██████████| 20/20 [00:11<00:00,  1.80it/s]\n",
      "Training (4759 / 18000 Steps) (loss=0.67111): 100%|██████████| 20/20 [00:10<00:00,  1.82it/s]\n",
      "Training (4779 / 18000 Steps) (loss=0.18135): 100%|██████████| 20/20 [00:11<00:00,  1.73it/s]\n",
      "Training (4799 / 18000 Steps) (loss=0.37861): 100%|██████████| 20/20 [00:11<00:00,  1.77it/s]\n",
      "Validate (4800 / 10 Steps): 100%|██████████| 8/8 [00:11<00:00,  1.40s/it]3<?, ?it/s]\n",
      "Training (4800 / 18000 Steps) (loss=0.27863):   5%|▌         | 1/20 [00:14<04:35, 14.51s/it]"
     ]
    },
    {
     "name": "stdout",
     "output_type": "stream",
     "text": [
      "Model Was Not Saved ! Current Best Avg. Dice: 0.6801654100418091 Current Avg. Dice: 0.6298259496688843 Current Avg. tumor Dice: 0.6429507732391357 Current Avg. lymph Dice: 0.6295808553695679\n"
     ]
    },
    {
     "name": "stderr",
     "output_type": "stream",
     "text": [
      "Training (4819 / 18000 Steps) (loss=0.51619): 100%|██████████| 20/20 [00:22<00:00,  1.12s/it]\n",
      "Training (4839 / 18000 Steps) (loss=0.29764): 100%|██████████| 20/20 [00:11<00:00,  1.71it/s]\n",
      "Training (4859 / 18000 Steps) (loss=0.41136): 100%|██████████| 20/20 [00:11<00:00,  1.75it/s]\n",
      "Training (4879 / 18000 Steps) (loss=0.40278): 100%|██████████| 20/20 [00:11<00:00,  1.78it/s]\n",
      "Training (4899 / 18000 Steps) (loss=0.34409): 100%|██████████| 20/20 [00:11<00:00,  1.80it/s]\n",
      "Validate (4900 / 10 Steps): 100%|██████████| 8/8 [00:10<00:00,  1.37s/it]3<?, ?it/s]\n",
      "Training (4900 / 18000 Steps) (loss=0.35592):   5%|▌         | 1/20 [00:14<04:36, 14.53s/it]"
     ]
    },
    {
     "name": "stdout",
     "output_type": "stream",
     "text": [
      "Model Was Not Saved ! Current Best Avg. Dice: 0.6801654100418091 Current Avg. Dice: 0.6169449687004089 Current Avg. tumor Dice: 0.630675733089447 Current Avg. lymph Dice: 0.6086713075637817\n"
     ]
    },
    {
     "name": "stderr",
     "output_type": "stream",
     "text": [
      "Training (4919 / 18000 Steps) (loss=0.11676): 100%|██████████| 20/20 [00:22<00:00,  1.12s/it]\n",
      "Training (4939 / 18000 Steps) (loss=0.31701): 100%|██████████| 20/20 [00:11<00:00,  1.80it/s]\n",
      "Training (4959 / 18000 Steps) (loss=0.49655): 100%|██████████| 20/20 [00:11<00:00,  1.80it/s]\n",
      "Training (4979 / 18000 Steps) (loss=0.50727): 100%|██████████| 20/20 [00:11<00:00,  1.73it/s]\n",
      "Training (4999 / 18000 Steps) (loss=0.43540): 100%|██████████| 20/20 [00:11<00:00,  1.76it/s]\n",
      "Validate (5000 / 10 Steps): 100%|██████████| 8/8 [00:10<00:00,  1.37s/it]3<?, ?it/s]\n",
      "Training (5000 / 18000 Steps) (loss=0.38251):   5%|▌         | 1/20 [00:14<04:38, 14.64s/it]"
     ]
    },
    {
     "name": "stdout",
     "output_type": "stream",
     "text": [
      "Model Was Not Saved ! Current Best Avg. Dice: 0.6801654100418091 Current Avg. Dice: 0.5887681841850281 Current Avg. tumor Dice: 0.58863365650177 Current Avg. lymph Dice: 0.6083656549453735\n"
     ]
    },
    {
     "name": "stderr",
     "output_type": "stream",
     "text": [
      "Training (5019 / 18000 Steps) (loss=0.39204): 100%|██████████| 20/20 [00:22<00:00,  1.12s/it]\n",
      "Training (5039 / 18000 Steps) (loss=0.27925): 100%|██████████| 20/20 [00:11<00:00,  1.77it/s]\n",
      "Training (5059 / 18000 Steps) (loss=0.44707): 100%|██████████| 20/20 [00:11<00:00,  1.73it/s]\n",
      "Training (5079 / 18000 Steps) (loss=0.33411): 100%|██████████| 20/20 [00:11<00:00,  1.76it/s]\n",
      "Training (5099 / 18000 Steps) (loss=0.60826): 100%|██████████| 20/20 [00:11<00:00,  1.74it/s]\n",
      "Validate (5100 / 10 Steps): 100%|██████████| 8/8 [00:11<00:00,  1.40s/it]3<?, ?it/s]\n",
      "Training (5100 / 18000 Steps) (loss=0.41986):   5%|▌         | 1/20 [00:14<04:32, 14.34s/it]"
     ]
    },
    {
     "name": "stdout",
     "output_type": "stream",
     "text": [
      "Model Was Not Saved ! Current Best Avg. Dice: 0.6801654100418091 Current Avg. Dice: 0.4763791263103485 Current Avg. tumor Dice: 0.42531058192253113 Current Avg. lymph Dice: 0.5829198360443115\n"
     ]
    },
    {
     "name": "stderr",
     "output_type": "stream",
     "text": [
      "Training (5119 / 18000 Steps) (loss=0.31025): 100%|██████████| 20/20 [00:22<00:00,  1.11s/it]\n",
      "Training (5139 / 18000 Steps) (loss=0.37582): 100%|██████████| 20/20 [00:11<00:00,  1.78it/s]\n",
      "Training (5159 / 18000 Steps) (loss=0.55745): 100%|██████████| 20/20 [00:11<00:00,  1.81it/s]\n",
      "Training (5179 / 18000 Steps) (loss=0.54423): 100%|██████████| 20/20 [00:11<00:00,  1.76it/s]\n",
      "Training (5199 / 18000 Steps) (loss=0.54472): 100%|██████████| 20/20 [00:10<00:00,  1.85it/s]\n",
      "Validate (5200 / 10 Steps): 100%|██████████| 8/8 [00:11<00:00,  1.42s/it]3<?, ?it/s]\n",
      "Training (5200 / 18000 Steps) (loss=0.29297):   5%|▌         | 1/20 [00:14<04:38, 14.65s/it]"
     ]
    },
    {
     "name": "stdout",
     "output_type": "stream",
     "text": [
      "Model Was Not Saved ! Current Best Avg. Dice: 0.6801654100418091 Current Avg. Dice: 0.46197035908699036 Current Avg. tumor Dice: 0.46381834149360657 Current Avg. lymph Dice: 0.5114095211029053\n"
     ]
    },
    {
     "name": "stderr",
     "output_type": "stream",
     "text": [
      "Training (5219 / 18000 Steps) (loss=0.46036): 100%|██████████| 20/20 [00:22<00:00,  1.13s/it]\n",
      "Training (5239 / 18000 Steps) (loss=0.28470): 100%|██████████| 20/20 [00:11<00:00,  1.74it/s]\n",
      "Training (5259 / 18000 Steps) (loss=0.46376): 100%|██████████| 20/20 [00:11<00:00,  1.82it/s]\n",
      "Training (5279 / 18000 Steps) (loss=0.48521): 100%|██████████| 20/20 [00:11<00:00,  1.71it/s]\n",
      "Training (5299 / 18000 Steps) (loss=0.46125): 100%|██████████| 20/20 [00:10<00:00,  1.82it/s]\n",
      "Validate (5300 / 10 Steps): 100%|██████████| 8/8 [00:11<00:00,  1.39s/it]3<?, ?it/s]\n",
      "Training (5300 / 18000 Steps) (loss=0.21778):   5%|▌         | 1/20 [00:14<04:40, 14.77s/it]"
     ]
    },
    {
     "name": "stdout",
     "output_type": "stream",
     "text": [
      "Model Was Not Saved ! Current Best Avg. Dice: 0.6801654100418091 Current Avg. Dice: 0.5218178629875183 Current Avg. tumor Dice: 0.5639908313751221 Current Avg. lymph Dice: 0.49674269556999207\n"
     ]
    },
    {
     "name": "stderr",
     "output_type": "stream",
     "text": [
      "Training (5319 / 18000 Steps) (loss=0.29270): 100%|██████████| 20/20 [00:22<00:00,  1.13s/it]\n",
      "Training (5339 / 18000 Steps) (loss=0.31612): 100%|██████████| 20/20 [00:11<00:00,  1.75it/s]\n",
      "Training (5359 / 18000 Steps) (loss=0.47272): 100%|██████████| 20/20 [00:11<00:00,  1.73it/s]\n",
      "Training (5379 / 18000 Steps) (loss=0.29052): 100%|██████████| 20/20 [00:11<00:00,  1.81it/s]\n",
      "Training (5399 / 18000 Steps) (loss=0.46256): 100%|██████████| 20/20 [00:10<00:00,  1.82it/s]\n",
      "Validate (5400 / 10 Steps): 100%|██████████| 8/8 [00:11<00:00,  1.40s/it]3<?, ?it/s]\n",
      "Training (5400 / 18000 Steps) (loss=0.34286):   5%|▌         | 1/20 [00:14<04:38, 14.66s/it]"
     ]
    },
    {
     "name": "stdout",
     "output_type": "stream",
     "text": [
      "Model Was Not Saved ! Current Best Avg. Dice: 0.6801654100418091 Current Avg. Dice: 0.5600775480270386 Current Avg. tumor Dice: 0.5741949677467346 Current Avg. lymph Dice: 0.5555496215820312\n"
     ]
    },
    {
     "name": "stderr",
     "output_type": "stream",
     "text": [
      "Training (5419 / 18000 Steps) (loss=0.28365): 100%|██████████| 20/20 [00:22<00:00,  1.12s/it]\n",
      "Training (5439 / 18000 Steps) (loss=0.41931): 100%|██████████| 20/20 [00:11<00:00,  1.80it/s]\n",
      "Training (5459 / 18000 Steps) (loss=0.39758): 100%|██████████| 20/20 [00:11<00:00,  1.74it/s]\n",
      "Training (5479 / 18000 Steps) (loss=0.54835): 100%|██████████| 20/20 [00:11<00:00,  1.73it/s]\n",
      "Training (5499 / 18000 Steps) (loss=0.27524): 100%|██████████| 20/20 [00:11<00:00,  1.79it/s]\n",
      "Validate (5500 / 10 Steps): 100%|██████████| 8/8 [00:11<00:00,  1.41s/it]3<?, ?it/s]\n",
      "Training (5500 / 18000 Steps) (loss=0.22203):   5%|▌         | 1/20 [00:14<04:40, 14.77s/it]"
     ]
    },
    {
     "name": "stdout",
     "output_type": "stream",
     "text": [
      "Model Was Not Saved ! Current Best Avg. Dice: 0.6801654100418091 Current Avg. Dice: 0.5554704666137695 Current Avg. tumor Dice: 0.5713587999343872 Current Avg. lymph Dice: 0.5810345411300659\n"
     ]
    },
    {
     "name": "stderr",
     "output_type": "stream",
     "text": [
      "Training (5519 / 18000 Steps) (loss=0.19695): 100%|██████████| 20/20 [00:22<00:00,  1.13s/it]\n",
      "Training (5539 / 18000 Steps) (loss=0.17176): 100%|██████████| 20/20 [00:11<00:00,  1.77it/s]\n",
      "Training (5559 / 18000 Steps) (loss=0.45663): 100%|██████████| 20/20 [00:11<00:00,  1.79it/s]\n",
      "Training (5579 / 18000 Steps) (loss=0.56390): 100%|██████████| 20/20 [00:11<00:00,  1.72it/s]\n",
      "Training (5599 / 18000 Steps) (loss=0.40789): 100%|██████████| 20/20 [00:11<00:00,  1.82it/s]\n",
      "Validate (5600 / 10 Steps): 100%|██████████| 8/8 [00:11<00:00,  1.46s/it]3<?, ?it/s]\n",
      "Training (5600 / 18000 Steps) (loss=0.48980):   5%|▌         | 1/20 [00:15<04:47, 15.13s/it]"
     ]
    },
    {
     "name": "stdout",
     "output_type": "stream",
     "text": [
      "Model Was Not Saved ! Current Best Avg. Dice: 0.6801654100418091 Current Avg. Dice: 0.5644012689590454 Current Avg. tumor Dice: 0.5689935088157654 Current Avg. lymph Dice: 0.5779100060462952\n"
     ]
    },
    {
     "name": "stderr",
     "output_type": "stream",
     "text": [
      "Training (5619 / 18000 Steps) (loss=0.26462): 100%|██████████| 20/20 [00:22<00:00,  1.15s/it]\n",
      "Training (5639 / 18000 Steps) (loss=0.56729): 100%|██████████| 20/20 [00:11<00:00,  1.75it/s]\n",
      "Training (5659 / 18000 Steps) (loss=0.33787): 100%|██████████| 20/20 [00:11<00:00,  1.79it/s]\n",
      "Training (5679 / 18000 Steps) (loss=0.48830): 100%|██████████| 20/20 [00:11<00:00,  1.80it/s]\n",
      "Training (5699 / 18000 Steps) (loss=0.43978): 100%|██████████| 20/20 [00:11<00:00,  1.73it/s]\n",
      "Validate (5700 / 10 Steps): 100%|██████████| 8/8 [00:11<00:00,  1.42s/it]3<?, ?it/s]\n",
      "Training (5700 / 18000 Steps) (loss=0.54099):   5%|▌         | 1/20 [00:14<04:39, 14.71s/it]"
     ]
    },
    {
     "name": "stdout",
     "output_type": "stream",
     "text": [
      "Model Was Not Saved ! Current Best Avg. Dice: 0.6801654100418091 Current Avg. Dice: 0.5962331295013428 Current Avg. tumor Dice: 0.606395959854126 Current Avg. lymph Dice: 0.5965067148208618\n"
     ]
    },
    {
     "name": "stderr",
     "output_type": "stream",
     "text": [
      "Training (5719 / 18000 Steps) (loss=0.18771): 100%|██████████| 20/20 [00:22<00:00,  1.13s/it]\n",
      "Training (5739 / 18000 Steps) (loss=0.59285): 100%|██████████| 20/20 [00:11<00:00,  1.76it/s]\n",
      "Training (5759 / 18000 Steps) (loss=0.55366): 100%|██████████| 20/20 [00:11<00:00,  1.78it/s]\n",
      "Training (5779 / 18000 Steps) (loss=0.44996): 100%|██████████| 20/20 [00:11<00:00,  1.69it/s]\n",
      "Training (5799 / 18000 Steps) (loss=0.29066): 100%|██████████| 20/20 [00:11<00:00,  1.77it/s]\n",
      "Validate (5800 / 10 Steps): 100%|██████████| 8/8 [00:11<00:00,  1.42s/it]3<?, ?it/s]\n",
      "Training (5800 / 18000 Steps) (loss=0.39783):   5%|▌         | 1/20 [00:15<04:45, 15.02s/it]"
     ]
    },
    {
     "name": "stdout",
     "output_type": "stream",
     "text": [
      "Model Was Not Saved ! Current Best Avg. Dice: 0.6801654100418091 Current Avg. Dice: 0.5283044576644897 Current Avg. tumor Dice: 0.5421538949012756 Current Avg. lymph Dice: 0.5403034090995789\n"
     ]
    },
    {
     "name": "stderr",
     "output_type": "stream",
     "text": [
      "Training (5819 / 18000 Steps) (loss=0.39894): 100%|██████████| 20/20 [00:22<00:00,  1.14s/it]\n",
      "Training (5839 / 18000 Steps) (loss=0.29212): 100%|██████████| 20/20 [00:11<00:00,  1.80it/s]\n",
      "Training (5859 / 18000 Steps) (loss=0.42531): 100%|██████████| 20/20 [00:11<00:00,  1.77it/s]\n",
      "Training (5879 / 18000 Steps) (loss=0.43915): 100%|██████████| 20/20 [00:11<00:00,  1.74it/s]\n",
      "Training (5899 / 18000 Steps) (loss=0.45660): 100%|██████████| 20/20 [00:11<00:00,  1.78it/s]\n",
      "Validate (5900 / 10 Steps): 100%|██████████| 8/8 [00:11<00:00,  1.40s/it]3<?, ?it/s]\n",
      "Training (5900 / 18000 Steps) (loss=0.30889):   5%|▌         | 1/20 [00:14<04:34, 14.42s/it]"
     ]
    },
    {
     "name": "stdout",
     "output_type": "stream",
     "text": [
      "Model Was Not Saved ! Current Best Avg. Dice: 0.6801654100418091 Current Avg. Dice: 0.5849711894989014 Current Avg. tumor Dice: 0.5929147601127625 Current Avg. lymph Dice: 0.5990933775901794\n"
     ]
    },
    {
     "name": "stderr",
     "output_type": "stream",
     "text": [
      "Training (5919 / 18000 Steps) (loss=0.66721): 100%|██████████| 20/20 [00:22<00:00,  1.11s/it]\n",
      "Training (5939 / 18000 Steps) (loss=0.39815): 100%|██████████| 20/20 [00:11<00:00,  1.75it/s]\n",
      "Training (5959 / 18000 Steps) (loss=0.27414): 100%|██████████| 20/20 [00:11<00:00,  1.75it/s]\n",
      "Training (5979 / 18000 Steps) (loss=0.39974): 100%|██████████| 20/20 [00:10<00:00,  1.83it/s]\n",
      "Training (5999 / 18000 Steps) (loss=0.29611): 100%|██████████| 20/20 [00:11<00:00,  1.79it/s]\n",
      "Validate (6000 / 10 Steps): 100%|██████████| 8/8 [00:11<00:00,  1.38s/it]3<?, ?it/s]\n",
      "Training (6000 / 18000 Steps) (loss=0.26205):   5%|▌         | 1/20 [00:14<04:36, 14.57s/it]"
     ]
    },
    {
     "name": "stdout",
     "output_type": "stream",
     "text": [
      "Model Was Not Saved ! Current Best Avg. Dice: 0.6801654100418091 Current Avg. Dice: 0.6111490726470947 Current Avg. tumor Dice: 0.6229554414749146 Current Avg. lymph Dice: 0.6248296499252319\n"
     ]
    },
    {
     "name": "stderr",
     "output_type": "stream",
     "text": [
      "Training (6019 / 18000 Steps) (loss=0.47455): 100%|██████████| 20/20 [00:22<00:00,  1.12s/it]\n",
      "Training (6039 / 18000 Steps) (loss=0.41480): 100%|██████████| 20/20 [00:11<00:00,  1.80it/s]\n",
      "Training (6059 / 18000 Steps) (loss=0.38897): 100%|██████████| 20/20 [00:11<00:00,  1.77it/s]\n",
      "Training (6079 / 18000 Steps) (loss=0.39506): 100%|██████████| 20/20 [00:11<00:00,  1.81it/s]\n",
      "Training (6099 / 18000 Steps) (loss=0.45620): 100%|██████████| 20/20 [00:11<00:00,  1.77it/s]\n",
      "Validate (6100 / 10 Steps): 100%|██████████| 8/8 [00:11<00:00,  1.39s/it]3<?, ?it/s]\n",
      "Training (6100 / 18000 Steps) (loss=0.27677):   5%|▌         | 1/20 [00:14<04:42, 14.84s/it]"
     ]
    },
    {
     "name": "stdout",
     "output_type": "stream",
     "text": [
      "Model Was Not Saved ! Current Best Avg. Dice: 0.6801654100418091 Current Avg. Dice: 0.5346202254295349 Current Avg. tumor Dice: 0.5456889867782593 Current Avg. lymph Dice: 0.5695279240608215\n"
     ]
    },
    {
     "name": "stderr",
     "output_type": "stream",
     "text": [
      "Training (6119 / 18000 Steps) (loss=0.42831): 100%|██████████| 20/20 [00:22<00:00,  1.13s/it]\n",
      "Training (6139 / 18000 Steps) (loss=0.40801): 100%|██████████| 20/20 [00:11<00:00,  1.72it/s]\n",
      "Training (6159 / 18000 Steps) (loss=0.29566): 100%|██████████| 20/20 [00:11<00:00,  1.79it/s]\n",
      "Training (6179 / 18000 Steps) (loss=0.22458): 100%|██████████| 20/20 [00:11<00:00,  1.74it/s]\n",
      "Training (6199 / 18000 Steps) (loss=0.52268): 100%|██████████| 20/20 [00:11<00:00,  1.74it/s]\n",
      "Validate (6200 / 10 Steps): 100%|██████████| 8/8 [00:11<00:00,  1.39s/it]3<?, ?it/s]\n",
      "Training (6200 / 18000 Steps) (loss=0.37267):   5%|▌         | 1/20 [00:14<04:36, 14.53s/it]"
     ]
    },
    {
     "name": "stdout",
     "output_type": "stream",
     "text": [
      "Model Was Not Saved ! Current Best Avg. Dice: 0.6801654100418091 Current Avg. Dice: 0.6174666285514832 Current Avg. tumor Dice: 0.6237543225288391 Current Avg. lymph Dice: 0.6047587990760803\n"
     ]
    },
    {
     "name": "stderr",
     "output_type": "stream",
     "text": [
      "Training (6219 / 18000 Steps) (loss=0.43215): 100%|██████████| 20/20 [00:22<00:00,  1.12s/it]\n",
      "Training (6239 / 18000 Steps) (loss=0.39224): 100%|██████████| 20/20 [00:10<00:00,  1.83it/s]\n",
      "Training (6259 / 18000 Steps) (loss=0.37337): 100%|██████████| 20/20 [00:11<00:00,  1.77it/s]\n",
      "Training (6279 / 18000 Steps) (loss=0.37570): 100%|██████████| 20/20 [00:11<00:00,  1.74it/s]\n",
      "Training (6299 / 18000 Steps) (loss=0.39159): 100%|██████████| 20/20 [00:10<00:00,  1.84it/s]\n",
      "Validate (6300 / 10 Steps): 100%|██████████| 8/8 [00:11<00:00,  1.39s/it]3<?, ?it/s]\n",
      "Training (6300 / 18000 Steps) (loss=0.33757):   5%|▌         | 1/20 [00:14<04:37, 14.61s/it]"
     ]
    },
    {
     "name": "stdout",
     "output_type": "stream",
     "text": [
      "Model Was Not Saved ! Current Best Avg. Dice: 0.6801654100418091 Current Avg. Dice: 0.5610951781272888 Current Avg. tumor Dice: 0.531317412853241 Current Avg. lymph Dice: 0.6108124256134033\n"
     ]
    },
    {
     "name": "stderr",
     "output_type": "stream",
     "text": [
      "Training (6319 / 18000 Steps) (loss=0.14667): 100%|██████████| 20/20 [00:22<00:00,  1.12s/it]\n",
      "Training (6339 / 18000 Steps) (loss=0.53288): 100%|██████████| 20/20 [00:11<00:00,  1.79it/s]\n",
      "Training (6359 / 18000 Steps) (loss=0.42475): 100%|██████████| 20/20 [00:10<00:00,  1.82it/s]\n",
      "Training (6379 / 18000 Steps) (loss=0.41437): 100%|██████████| 20/20 [00:11<00:00,  1.73it/s]\n",
      "Training (6399 / 18000 Steps) (loss=0.35510): 100%|██████████| 20/20 [00:11<00:00,  1.79it/s]\n",
      "Validate (6400 / 10 Steps): 100%|██████████| 8/8 [00:11<00:00,  1.39s/it]3<?, ?it/s]\n",
      "Training (6400 / 18000 Steps) (loss=0.40412):   5%|▌         | 1/20 [00:14<04:38, 14.66s/it]"
     ]
    },
    {
     "name": "stdout",
     "output_type": "stream",
     "text": [
      "Model Was Not Saved ! Current Best Avg. Dice: 0.6801654100418091 Current Avg. Dice: 0.49402210116386414 Current Avg. tumor Dice: 0.44694122672080994 Current Avg. lymph Dice: 0.6162140965461731\n"
     ]
    },
    {
     "name": "stderr",
     "output_type": "stream",
     "text": [
      "Training (6419 / 18000 Steps) (loss=0.44082): 100%|██████████| 20/20 [00:22<00:00,  1.12s/it]\n",
      "Training (6439 / 18000 Steps) (loss=0.33038): 100%|██████████| 20/20 [00:11<00:00,  1.73it/s]\n",
      "Training (6459 / 18000 Steps) (loss=0.33665): 100%|██████████| 20/20 [00:11<00:00,  1.79it/s]\n",
      "Training (6479 / 18000 Steps) (loss=0.51478): 100%|██████████| 20/20 [00:11<00:00,  1.81it/s]\n",
      "Training (6499 / 18000 Steps) (loss=0.54597): 100%|██████████| 20/20 [00:11<00:00,  1.80it/s]\n",
      "Validate (6500 / 10 Steps): 100%|██████████| 8/8 [00:11<00:00,  1.40s/it]3<?, ?it/s]\n",
      "Training (6500 / 18000 Steps) (loss=0.36601):   5%|▌         | 1/20 [00:14<04:40, 14.76s/it]"
     ]
    },
    {
     "name": "stdout",
     "output_type": "stream",
     "text": [
      "Model Was Not Saved ! Current Best Avg. Dice: 0.6801654100418091 Current Avg. Dice: 0.5343865156173706 Current Avg. tumor Dice: 0.515680730342865 Current Avg. lymph Dice: 0.5758004784584045\n"
     ]
    },
    {
     "name": "stderr",
     "output_type": "stream",
     "text": [
      "Training (6519 / 18000 Steps) (loss=0.13792): 100%|██████████| 20/20 [00:22<00:00,  1.13s/it]\n",
      "Training (6539 / 18000 Steps) (loss=0.28246): 100%|██████████| 20/20 [00:11<00:00,  1.70it/s]\n",
      "Training (6559 / 18000 Steps) (loss=0.44256): 100%|██████████| 20/20 [00:11<00:00,  1.81it/s]\n",
      "Training (6579 / 18000 Steps) (loss=0.15578): 100%|██████████| 20/20 [00:11<00:00,  1.79it/s]\n",
      "Training (6599 / 18000 Steps) (loss=0.58161): 100%|██████████| 20/20 [00:11<00:00,  1.77it/s]\n",
      "Validate (6600 / 10 Steps): 100%|██████████| 8/8 [00:11<00:00,  1.40s/it]3<?, ?it/s]\n",
      "Training (6600 / 18000 Steps) (loss=0.46757):   5%|▌         | 1/20 [00:14<04:35, 14.51s/it]"
     ]
    },
    {
     "name": "stdout",
     "output_type": "stream",
     "text": [
      "Model Was Not Saved ! Current Best Avg. Dice: 0.6801654100418091 Current Avg. Dice: 0.5422164797782898 Current Avg. tumor Dice: 0.5594135522842407 Current Avg. lymph Dice: 0.5609521269798279\n"
     ]
    },
    {
     "name": "stderr",
     "output_type": "stream",
     "text": [
      "Training (6619 / 18000 Steps) (loss=0.49188): 100%|██████████| 20/20 [00:22<00:00,  1.12s/it]\n",
      "Training (6639 / 18000 Steps) (loss=0.12084): 100%|██████████| 20/20 [00:11<00:00,  1.78it/s]\n",
      "Training (6659 / 18000 Steps) (loss=0.24694): 100%|██████████| 20/20 [00:11<00:00,  1.82it/s]\n",
      "Training (6679 / 18000 Steps) (loss=0.45026): 100%|██████████| 20/20 [00:11<00:00,  1.80it/s]\n",
      "Training (6699 / 18000 Steps) (loss=0.48173): 100%|██████████| 20/20 [00:11<00:00,  1.79it/s]\n",
      "Validate (6700 / 10 Steps): 100%|██████████| 8/8 [00:11<00:00,  1.40s/it]3<?, ?it/s]\n",
      "Training (6700 / 18000 Steps) (loss=0.46847):   5%|▌         | 1/20 [00:14<04:35, 14.53s/it]"
     ]
    },
    {
     "name": "stdout",
     "output_type": "stream",
     "text": [
      "Model Was Not Saved ! Current Best Avg. Dice: 0.6801654100418091 Current Avg. Dice: 0.5479554533958435 Current Avg. tumor Dice: 0.5596993565559387 Current Avg. lymph Dice: 0.5533520579338074\n"
     ]
    },
    {
     "name": "stderr",
     "output_type": "stream",
     "text": [
      "Training (6719 / 18000 Steps) (loss=0.40118): 100%|██████████| 20/20 [00:22<00:00,  1.12s/it]\n",
      "Training (6739 / 18000 Steps) (loss=0.45616): 100%|██████████| 20/20 [00:11<00:00,  1.76it/s]\n",
      "Training (6759 / 18000 Steps) (loss=0.35654): 100%|██████████| 20/20 [00:11<00:00,  1.78it/s]\n",
      "Training (6779 / 18000 Steps) (loss=0.15345): 100%|██████████| 20/20 [00:11<00:00,  1.77it/s]\n",
      "Training (6799 / 18000 Steps) (loss=0.52638): 100%|██████████| 20/20 [00:11<00:00,  1.80it/s]\n",
      "Validate (6800 / 10 Steps): 100%|██████████| 8/8 [00:11<00:00,  1.40s/it]3<?, ?it/s]\n",
      "Training (6800 / 18000 Steps) (loss=0.36700):   5%|▌         | 1/20 [00:14<04:33, 14.38s/it]"
     ]
    },
    {
     "name": "stdout",
     "output_type": "stream",
     "text": [
      "Model Was Not Saved ! Current Best Avg. Dice: 0.6801654100418091 Current Avg. Dice: 0.566662073135376 Current Avg. tumor Dice: 0.5632928013801575 Current Avg. lymph Dice: 0.6075505614280701\n"
     ]
    },
    {
     "name": "stderr",
     "output_type": "stream",
     "text": [
      "Training (6819 / 18000 Steps) (loss=0.32348): 100%|██████████| 20/20 [00:22<00:00,  1.11s/it]\n",
      "Training (6839 / 18000 Steps) (loss=0.45933): 100%|██████████| 20/20 [00:11<00:00,  1.74it/s]\n",
      "Training (6859 / 18000 Steps) (loss=0.39344): 100%|██████████| 20/20 [00:10<00:00,  1.83it/s]\n",
      "Training (6879 / 18000 Steps) (loss=0.45871): 100%|██████████| 20/20 [00:11<00:00,  1.78it/s]\n",
      "Training (6899 / 18000 Steps) (loss=0.54604): 100%|██████████| 20/20 [00:10<00:00,  1.85it/s]\n",
      "Validate (6900 / 10 Steps): 100%|██████████| 8/8 [00:11<00:00,  1.39s/it]3<?, ?it/s]\n",
      "Training (6900 / 18000 Steps) (loss=0.43255):   5%|▌         | 1/20 [00:14<04:35, 14.50s/it]"
     ]
    },
    {
     "name": "stdout",
     "output_type": "stream",
     "text": [
      "Model Was Not Saved ! Current Best Avg. Dice: 0.6801654100418091 Current Avg. Dice: 0.5274190306663513 Current Avg. tumor Dice: 0.5656112432479858 Current Avg. lymph Dice: 0.5144705176353455\n"
     ]
    },
    {
     "name": "stderr",
     "output_type": "stream",
     "text": [
      "Training (6919 / 18000 Steps) (loss=0.37492): 100%|██████████| 20/20 [00:22<00:00,  1.12s/it]\n",
      "Training (6939 / 18000 Steps) (loss=0.41174): 100%|██████████| 20/20 [00:11<00:00,  1.78it/s]\n",
      "Training (6959 / 18000 Steps) (loss=0.23610): 100%|██████████| 20/20 [00:11<00:00,  1.69it/s]\n",
      "Training (6979 / 18000 Steps) (loss=0.35586): 100%|██████████| 20/20 [00:11<00:00,  1.81it/s]\n",
      "Training (6999 / 18000 Steps) (loss=0.57530): 100%|██████████| 20/20 [00:11<00:00,  1.77it/s]\n",
      "Validate (7000 / 10 Steps): 100%|██████████| 8/8 [00:11<00:00,  1.43s/it]3<?, ?it/s]\n",
      "Training (7000 / 18000 Steps) (loss=0.39828):   5%|▌         | 1/20 [00:15<04:45, 15.03s/it]"
     ]
    },
    {
     "name": "stdout",
     "output_type": "stream",
     "text": [
      "Model Was Not Saved ! Current Best Avg. Dice: 0.6801654100418091 Current Avg. Dice: 0.6075996160507202 Current Avg. tumor Dice: 0.5816006064414978 Current Avg. lymph Dice: 0.6678274869918823\n"
     ]
    },
    {
     "name": "stderr",
     "output_type": "stream",
     "text": [
      "Training (7019 / 18000 Steps) (loss=0.54516): 100%|██████████| 20/20 [00:22<00:00,  1.15s/it]\n",
      "Training (7039 / 18000 Steps) (loss=0.41703): 100%|██████████| 20/20 [00:11<00:00,  1.77it/s]\n",
      "Training (7059 / 18000 Steps) (loss=0.54536): 100%|██████████| 20/20 [00:11<00:00,  1.81it/s]\n",
      "Training (7079 / 18000 Steps) (loss=0.22324): 100%|██████████| 20/20 [00:11<00:00,  1.73it/s]\n",
      "Training (7099 / 18000 Steps) (loss=0.34234): 100%|██████████| 20/20 [00:11<00:00,  1.77it/s]\n",
      "Validate (7100 / 10 Steps): 100%|██████████| 8/8 [00:11<00:00,  1.38s/it]3<?, ?it/s]\n",
      "Training (7100 / 18000 Steps) (loss=0.34232):   5%|▌         | 1/20 [00:14<04:33, 14.39s/it]"
     ]
    },
    {
     "name": "stdout",
     "output_type": "stream",
     "text": [
      "Model Was Not Saved ! Current Best Avg. Dice: 0.6801654100418091 Current Avg. Dice: 0.5952700972557068 Current Avg. tumor Dice: 0.601211667060852 Current Avg. lymph Dice: 0.6097251772880554\n"
     ]
    },
    {
     "name": "stderr",
     "output_type": "stream",
     "text": [
      "Training (7119 / 18000 Steps) (loss=0.40788): 100%|██████████| 20/20 [00:22<00:00,  1.11s/it]\n",
      "Training (7139 / 18000 Steps) (loss=0.62965): 100%|██████████| 20/20 [00:11<00:00,  1.79it/s]\n",
      "Training (7159 / 18000 Steps) (loss=0.13799): 100%|██████████| 20/20 [00:11<00:00,  1.79it/s]\n",
      "Training (7179 / 18000 Steps) (loss=0.50293): 100%|██████████| 20/20 [00:11<00:00,  1.73it/s]\n",
      "Training (7199 / 18000 Steps) (loss=0.62158): 100%|██████████| 20/20 [00:11<00:00,  1.74it/s]\n",
      "Validate (7200 / 10 Steps): 100%|██████████| 8/8 [00:11<00:00,  1.40s/it]3<?, ?it/s]\n",
      "Training (7200 / 18000 Steps) (loss=0.37291):   5%|▌         | 1/20 [00:14<04:40, 14.74s/it]"
     ]
    },
    {
     "name": "stdout",
     "output_type": "stream",
     "text": [
      "Model Was Not Saved ! Current Best Avg. Dice: 0.6801654100418091 Current Avg. Dice: 0.5745702981948853 Current Avg. tumor Dice: 0.5498596429824829 Current Avg. lymph Dice: 0.6254103183746338\n"
     ]
    },
    {
     "name": "stderr",
     "output_type": "stream",
     "text": [
      "Training (7219 / 18000 Steps) (loss=0.54591): 100%|██████████| 20/20 [00:22<00:00,  1.13s/it]\n",
      "Training (7239 / 18000 Steps) (loss=0.36282): 100%|██████████| 20/20 [00:11<00:00,  1.72it/s]\n",
      "Training (7259 / 18000 Steps) (loss=0.43798): 100%|██████████| 20/20 [00:11<00:00,  1.74it/s]\n",
      "Training (7279 / 18000 Steps) (loss=0.26263): 100%|██████████| 20/20 [00:11<00:00,  1.77it/s]\n",
      "Training (7299 / 18000 Steps) (loss=0.42500): 100%|██████████| 20/20 [00:11<00:00,  1.77it/s]\n",
      "Validate (7300 / 10 Steps): 100%|██████████| 8/8 [00:11<00:00,  1.41s/it]3<?, ?it/s]\n",
      "Training (7300 / 18000 Steps) (loss=0.36441):   5%|▌         | 1/20 [00:15<04:51, 15.33s/it]"
     ]
    },
    {
     "name": "stdout",
     "output_type": "stream",
     "text": [
      "Model Was Not Saved ! Current Best Avg. Dice: 0.6801654100418091 Current Avg. Dice: 0.5745433568954468 Current Avg. tumor Dice: 0.5703219175338745 Current Avg. lymph Dice: 0.616193413734436\n"
     ]
    },
    {
     "name": "stderr",
     "output_type": "stream",
     "text": [
      "Training (7319 / 18000 Steps) (loss=0.53169): 100%|██████████| 20/20 [00:23<00:00,  1.16s/it]\n",
      "Training (7339 / 18000 Steps) (loss=0.25694): 100%|██████████| 20/20 [00:11<00:00,  1.75it/s]\n",
      "Training (7359 / 18000 Steps) (loss=0.55663): 100%|██████████| 20/20 [00:11<00:00,  1.77it/s]\n",
      "Training (7379 / 18000 Steps) (loss=0.27336): 100%|██████████| 20/20 [00:11<00:00,  1.75it/s]\n",
      "Training (7399 / 18000 Steps) (loss=0.39665): 100%|██████████| 20/20 [00:11<00:00,  1.74it/s]\n",
      "Validate (7400 / 10 Steps): 100%|██████████| 8/8 [00:11<00:00,  1.45s/it]3<?, ?it/s]\n",
      "Training (7400 / 18000 Steps) (loss=0.49316):   5%|▌         | 1/20 [00:15<04:45, 15.02s/it]"
     ]
    },
    {
     "name": "stdout",
     "output_type": "stream",
     "text": [
      "Model Was Not Saved ! Current Best Avg. Dice: 0.6801654100418091 Current Avg. Dice: 0.5608800053596497 Current Avg. tumor Dice: 0.5678136348724365 Current Avg. lymph Dice: 0.597350001335144\n"
     ]
    },
    {
     "name": "stderr",
     "output_type": "stream",
     "text": [
      "Training (7419 / 18000 Steps) (loss=0.39126): 100%|██████████| 20/20 [00:22<00:00,  1.14s/it]\n",
      "Training (7439 / 18000 Steps) (loss=0.51977): 100%|██████████| 20/20 [00:11<00:00,  1.78it/s]\n",
      "Training (7459 / 18000 Steps) (loss=0.46731): 100%|██████████| 20/20 [00:11<00:00,  1.81it/s]\n",
      "Training (7479 / 18000 Steps) (loss=0.47986): 100%|██████████| 20/20 [00:11<00:00,  1.75it/s]\n",
      "Training (7499 / 18000 Steps) (loss=0.60808): 100%|██████████| 20/20 [00:11<00:00,  1.75it/s]\n",
      "Validate (7500 / 10 Steps): 100%|██████████| 8/8 [00:11<00:00,  1.42s/it]3<?, ?it/s]\n",
      "Training (7500 / 18000 Steps) (loss=0.39426):   5%|▌         | 1/20 [00:15<04:49, 15.22s/it]"
     ]
    },
    {
     "name": "stdout",
     "output_type": "stream",
     "text": [
      "Model Was Not Saved ! Current Best Avg. Dice: 0.6801654100418091 Current Avg. Dice: 0.579492449760437 Current Avg. tumor Dice: 0.5687255263328552 Current Avg. lymph Dice: 0.6335306167602539\n"
     ]
    },
    {
     "name": "stderr",
     "output_type": "stream",
     "text": [
      "Training (7519 / 18000 Steps) (loss=0.34173): 100%|██████████| 20/20 [00:23<00:00,  1.15s/it]\n",
      "Training (7539 / 18000 Steps) (loss=0.55203): 100%|██████████| 20/20 [00:11<00:00,  1.75it/s]\n",
      "Training (7559 / 18000 Steps) (loss=0.34229): 100%|██████████| 20/20 [00:11<00:00,  1.75it/s]\n",
      "Training (7579 / 18000 Steps) (loss=0.40548): 100%|██████████| 20/20 [00:11<00:00,  1.73it/s]\n",
      "Training (7599 / 18000 Steps) (loss=0.47062): 100%|██████████| 20/20 [00:11<00:00,  1.80it/s]\n",
      "Validate (7600 / 10 Steps): 100%|██████████| 8/8 [00:11<00:00,  1.44s/it]3<?, ?it/s]\n",
      "Training (7600 / 18000 Steps) (loss=0.36211):   5%|▌         | 1/20 [00:14<04:40, 14.77s/it]"
     ]
    },
    {
     "name": "stdout",
     "output_type": "stream",
     "text": [
      "Model Was Not Saved ! Current Best Avg. Dice: 0.6801654100418091 Current Avg. Dice: 0.5575092434883118 Current Avg. tumor Dice: 0.5311499834060669 Current Avg. lymph Dice: 0.6418493986129761\n"
     ]
    },
    {
     "name": "stderr",
     "output_type": "stream",
     "text": [
      "Training (7619 / 18000 Steps) (loss=0.32399): 100%|██████████| 20/20 [00:22<00:00,  1.13s/it]\n",
      "Training (7639 / 18000 Steps) (loss=0.54994): 100%|██████████| 20/20 [00:11<00:00,  1.79it/s]\n",
      "Training (7659 / 18000 Steps) (loss=0.21602): 100%|██████████| 20/20 [00:11<00:00,  1.72it/s]\n",
      "Training (7679 / 18000 Steps) (loss=0.36885): 100%|██████████| 20/20 [00:11<00:00,  1.81it/s]\n",
      "Training (7699 / 18000 Steps) (loss=0.40087): 100%|██████████| 20/20 [00:11<00:00,  1.81it/s]\n",
      "Validate (7700 / 10 Steps): 100%|██████████| 8/8 [00:11<00:00,  1.41s/it]3<?, ?it/s]\n",
      "Training (7700 / 18000 Steps) (loss=0.43033):   5%|▌         | 1/20 [00:14<04:42, 14.88s/it]"
     ]
    },
    {
     "name": "stdout",
     "output_type": "stream",
     "text": [
      "Model Was Not Saved ! Current Best Avg. Dice: 0.6801654100418091 Current Avg. Dice: 0.5023247599601746 Current Avg. tumor Dice: 0.508387565612793 Current Avg. lymph Dice: 0.5493417382240295\n"
     ]
    },
    {
     "name": "stderr",
     "output_type": "stream",
     "text": [
      "Training (7719 / 18000 Steps) (loss=0.39220): 100%|██████████| 20/20 [00:22<00:00,  1.14s/it]\n",
      "Training (7739 / 18000 Steps) (loss=0.33359): 100%|██████████| 20/20 [00:11<00:00,  1.72it/s]\n",
      "Training (7759 / 18000 Steps) (loss=0.25078): 100%|██████████| 20/20 [00:11<00:00,  1.78it/s]\n",
      "Training (7779 / 18000 Steps) (loss=0.42246): 100%|██████████| 20/20 [00:11<00:00,  1.73it/s]\n",
      "Training (7799 / 18000 Steps) (loss=0.42086): 100%|██████████| 20/20 [00:11<00:00,  1.78it/s]\n",
      "Validate (7800 / 10 Steps): 100%|██████████| 8/8 [00:11<00:00,  1.40s/it]3<?, ?it/s]\n",
      "Training (7800 / 18000 Steps) (loss=0.30845):   5%|▌         | 1/20 [00:14<04:36, 14.57s/it]"
     ]
    },
    {
     "name": "stdout",
     "output_type": "stream",
     "text": [
      "Model Was Not Saved ! Current Best Avg. Dice: 0.6801654100418091 Current Avg. Dice: 0.5173934102058411 Current Avg. tumor Dice: 0.5208671689033508 Current Avg. lymph Dice: 0.5597084164619446\n"
     ]
    },
    {
     "name": "stderr",
     "output_type": "stream",
     "text": [
      "Training (7819 / 18000 Steps) (loss=0.38561): 100%|██████████| 20/20 [00:22<00:00,  1.12s/it]\n",
      "Training (7839 / 18000 Steps) (loss=0.27403): 100%|██████████| 20/20 [00:11<00:00,  1.77it/s]\n",
      "Training (7859 / 18000 Steps) (loss=0.26528): 100%|██████████| 20/20 [00:11<00:00,  1.72it/s]\n",
      "Training (7879 / 18000 Steps) (loss=0.19429): 100%|██████████| 20/20 [00:11<00:00,  1.75it/s]\n",
      "Training (7899 / 18000 Steps) (loss=0.15036): 100%|██████████| 20/20 [00:11<00:00,  1.81it/s]\n",
      "Validate (7900 / 10 Steps): 100%|██████████| 8/8 [00:11<00:00,  1.38s/it]3<?, ?it/s]\n",
      "Training (7900 / 18000 Steps) (loss=0.42185):   5%|▌         | 1/20 [00:14<04:36, 14.54s/it]"
     ]
    },
    {
     "name": "stdout",
     "output_type": "stream",
     "text": [
      "Model Was Not Saved ! Current Best Avg. Dice: 0.6801654100418091 Current Avg. Dice: 0.5713892579078674 Current Avg. tumor Dice: 0.5741024017333984 Current Avg. lymph Dice: 0.5946589708328247\n"
     ]
    },
    {
     "name": "stderr",
     "output_type": "stream",
     "text": [
      "Training (7919 / 18000 Steps) (loss=0.29957): 100%|██████████| 20/20 [00:22<00:00,  1.12s/it]\n",
      "Training (7939 / 18000 Steps) (loss=0.38982): 100%|██████████| 20/20 [00:11<00:00,  1.71it/s]\n",
      "Training (7959 / 18000 Steps) (loss=0.13006): 100%|██████████| 20/20 [00:11<00:00,  1.81it/s]\n",
      "Training (7979 / 18000 Steps) (loss=0.41761): 100%|██████████| 20/20 [00:11<00:00,  1.77it/s]\n",
      "Training (7999 / 18000 Steps) (loss=0.28681): 100%|██████████| 20/20 [00:11<00:00,  1.78it/s]\n",
      "Validate (8000 / 10 Steps): 100%|██████████| 8/8 [00:11<00:00,  1.41s/it]3<?, ?it/s]\n",
      "Training (8000 / 18000 Steps) (loss=0.27936):   5%|▌         | 1/20 [00:15<04:47, 15.12s/it]"
     ]
    },
    {
     "name": "stdout",
     "output_type": "stream",
     "text": [
      "Model Was Not Saved ! Current Best Avg. Dice: 0.6801654100418091 Current Avg. Dice: 0.5039744973182678 Current Avg. tumor Dice: 0.4752492308616638 Current Avg. lymph Dice: 0.5917488932609558\n"
     ]
    },
    {
     "name": "stderr",
     "output_type": "stream",
     "text": [
      "Training (8019 / 18000 Steps) (loss=0.43605): 100%|██████████| 20/20 [00:23<00:00,  1.15s/it]\n",
      "Training (8039 / 18000 Steps) (loss=0.67367): 100%|██████████| 20/20 [00:11<00:00,  1.76it/s]\n",
      "Training (8059 / 18000 Steps) (loss=0.42911): 100%|██████████| 20/20 [00:11<00:00,  1.80it/s]\n",
      "Training (8079 / 18000 Steps) (loss=0.60936): 100%|██████████| 20/20 [00:11<00:00,  1.73it/s]\n",
      "Training (8099 / 18000 Steps) (loss=0.41674): 100%|██████████| 20/20 [00:11<00:00,  1.78it/s]\n",
      "Validate (8100 / 10 Steps): 100%|██████████| 8/8 [00:11<00:00,  1.43s/it]3<?, ?it/s]\n",
      "Training (8100 / 18000 Steps) (loss=0.41048):   5%|▌         | 1/20 [00:14<04:41, 14.83s/it]"
     ]
    },
    {
     "name": "stdout",
     "output_type": "stream",
     "text": [
      "Model Was Not Saved ! Current Best Avg. Dice: 0.6801654100418091 Current Avg. Dice: 0.5179077386856079 Current Avg. tumor Dice: 0.47923266887664795 Current Avg. lymph Dice: 0.6250501871109009\n"
     ]
    },
    {
     "name": "stderr",
     "output_type": "stream",
     "text": [
      "Training (8119 / 18000 Steps) (loss=0.13747): 100%|██████████| 20/20 [00:22<00:00,  1.13s/it]\n",
      "Training (8139 / 18000 Steps) (loss=0.54999): 100%|██████████| 20/20 [00:11<00:00,  1.76it/s]\n",
      "Training (8159 / 18000 Steps) (loss=0.34879): 100%|██████████| 20/20 [00:11<00:00,  1.78it/s]\n",
      "Training (8179 / 18000 Steps) (loss=0.43233): 100%|██████████| 20/20 [00:11<00:00,  1.70it/s]\n",
      "Training (8199 / 18000 Steps) (loss=0.51125): 100%|██████████| 20/20 [00:11<00:00,  1.78it/s]\n",
      "Validate (8200 / 10 Steps): 100%|██████████| 8/8 [00:11<00:00,  1.46s/it]3<?, ?it/s]\n",
      "Training (8200 / 18000 Steps) (loss=0.48401):   5%|▌         | 1/20 [00:15<04:49, 15.21s/it]"
     ]
    },
    {
     "name": "stdout",
     "output_type": "stream",
     "text": [
      "Model Was Not Saved ! Current Best Avg. Dice: 0.6801654100418091 Current Avg. Dice: 0.5576551556587219 Current Avg. tumor Dice: 0.5838618874549866 Current Avg. lymph Dice: 0.5529007315635681\n"
     ]
    },
    {
     "name": "stderr",
     "output_type": "stream",
     "text": [
      "Training (8219 / 18000 Steps) (loss=0.30909): 100%|██████████| 20/20 [00:23<00:00,  1.15s/it]\n",
      "Training (8239 / 18000 Steps) (loss=0.38689): 100%|██████████| 20/20 [00:11<00:00,  1.76it/s]\n",
      "Training (8259 / 18000 Steps) (loss=0.46288): 100%|██████████| 20/20 [00:11<00:00,  1.76it/s]\n",
      "Training (8279 / 18000 Steps) (loss=0.39219): 100%|██████████| 20/20 [00:11<00:00,  1.77it/s]\n",
      "Training (8299 / 18000 Steps) (loss=0.43507): 100%|██████████| 20/20 [00:11<00:00,  1.78it/s]\n",
      "Validate (8300 / 10 Steps): 100%|██████████| 8/8 [00:11<00:00,  1.42s/it]3<?, ?it/s]\n",
      "Training (8300 / 18000 Steps) (loss=0.36509):   5%|▌         | 1/20 [00:15<04:46, 15.08s/it]"
     ]
    },
    {
     "name": "stdout",
     "output_type": "stream",
     "text": [
      "Model Was Not Saved ! Current Best Avg. Dice: 0.6801654100418091 Current Avg. Dice: 0.5547568202018738 Current Avg. tumor Dice: 0.5723469853401184 Current Avg. lymph Dice: 0.5647860169410706\n"
     ]
    },
    {
     "name": "stderr",
     "output_type": "stream",
     "text": [
      "Training (8319 / 18000 Steps) (loss=0.28416): 100%|██████████| 20/20 [00:22<00:00,  1.15s/it]\n",
      "Training (8339 / 18000 Steps) (loss=0.53404): 100%|██████████| 20/20 [00:11<00:00,  1.76it/s]\n",
      "Training (8359 / 18000 Steps) (loss=0.35850): 100%|██████████| 20/20 [00:11<00:00,  1.78it/s]\n",
      "Training (8379 / 18000 Steps) (loss=0.53436): 100%|██████████| 20/20 [00:11<00:00,  1.79it/s]\n",
      "Training (8399 / 18000 Steps) (loss=0.42300): 100%|██████████| 20/20 [00:11<00:00,  1.70it/s]\n",
      "Validate (8400 / 10 Steps): 100%|██████████| 8/8 [00:11<00:00,  1.41s/it]3<?, ?it/s]\n",
      "Training (8400 / 18000 Steps) (loss=0.27365):   5%|▌         | 1/20 [00:14<04:33, 14.39s/it]"
     ]
    },
    {
     "name": "stdout",
     "output_type": "stream",
     "text": [
      "Model Was Not Saved ! Current Best Avg. Dice: 0.6801654100418091 Current Avg. Dice: 0.5564872622489929 Current Avg. tumor Dice: 0.5894612073898315 Current Avg. lymph Dice: 0.5488662719726562\n"
     ]
    },
    {
     "name": "stderr",
     "output_type": "stream",
     "text": [
      "Training (8419 / 18000 Steps) (loss=0.36230): 100%|██████████| 20/20 [00:22<00:00,  1.11s/it]\n",
      "Training (8439 / 18000 Steps) (loss=0.40659): 100%|██████████| 20/20 [00:11<00:00,  1.68it/s]\n",
      "Training (8459 / 18000 Steps) (loss=0.54382): 100%|██████████| 20/20 [00:10<00:00,  1.83it/s]\n",
      "Training (8479 / 18000 Steps) (loss=0.50543): 100%|██████████| 20/20 [00:11<00:00,  1.80it/s]\n",
      "Training (8499 / 18000 Steps) (loss=0.66722): 100%|██████████| 20/20 [00:11<00:00,  1.75it/s]\n",
      "Validate (8500 / 10 Steps): 100%|██████████| 8/8 [00:11<00:00,  1.40s/it]3<?, ?it/s]\n",
      "Training (8500 / 18000 Steps) (loss=0.27565):   5%|▌         | 1/20 [00:14<04:37, 14.63s/it]"
     ]
    },
    {
     "name": "stdout",
     "output_type": "stream",
     "text": [
      "Model Was Not Saved ! Current Best Avg. Dice: 0.6801654100418091 Current Avg. Dice: 0.5487995147705078 Current Avg. tumor Dice: 0.5607824921607971 Current Avg. lymph Dice: 0.5704681277275085\n"
     ]
    },
    {
     "name": "stderr",
     "output_type": "stream",
     "text": [
      "Training (8519 / 18000 Steps) (loss=0.39533): 100%|██████████| 20/20 [00:22<00:00,  1.13s/it]\n",
      "Training (8539 / 18000 Steps) (loss=0.52713): 100%|██████████| 20/20 [00:11<00:00,  1.73it/s]\n",
      "Training (8559 / 18000 Steps) (loss=0.43719): 100%|██████████| 20/20 [00:11<00:00,  1.80it/s]\n",
      "Training (8579 / 18000 Steps) (loss=0.33716): 100%|██████████| 20/20 [00:11<00:00,  1.81it/s]\n",
      "Training (8599 / 18000 Steps) (loss=0.35822): 100%|██████████| 20/20 [00:11<00:00,  1.79it/s]\n",
      "Validate (8600 / 10 Steps): 100%|██████████| 8/8 [00:11<00:00,  1.38s/it]3<?, ?it/s]\n",
      "Training (8600 / 18000 Steps) (loss=0.42618):   5%|▌         | 1/20 [00:14<04:29, 14.16s/it]"
     ]
    },
    {
     "name": "stdout",
     "output_type": "stream",
     "text": [
      "Model Was Not Saved ! Current Best Avg. Dice: 0.6801654100418091 Current Avg. Dice: 0.5000430345535278 Current Avg. tumor Dice: 0.5163076519966125 Current Avg. lymph Dice: 0.5066262483596802\n"
     ]
    },
    {
     "name": "stderr",
     "output_type": "stream",
     "text": [
      "Training (8619 / 18000 Steps) (loss=0.28473): 100%|██████████| 20/20 [00:21<00:00,  1.10s/it]\n",
      "Training (8639 / 18000 Steps) (loss=0.59668): 100%|██████████| 20/20 [00:11<00:00,  1.76it/s]\n",
      "Training (8659 / 18000 Steps) (loss=0.60206): 100%|██████████| 20/20 [00:11<00:00,  1.78it/s]\n",
      "Training (8679 / 18000 Steps) (loss=0.13129): 100%|██████████| 20/20 [00:11<00:00,  1.79it/s]\n",
      "Training (8699 / 18000 Steps) (loss=0.53453): 100%|██████████| 20/20 [00:11<00:00,  1.76it/s]\n",
      "Validate (8700 / 10 Steps): 100%|██████████| 8/8 [00:10<00:00,  1.37s/it]3<?, ?it/s]\n",
      "Training (8700 / 18000 Steps) (loss=0.44565):   5%|▌         | 1/20 [00:14<04:29, 14.17s/it]"
     ]
    },
    {
     "name": "stdout",
     "output_type": "stream",
     "text": [
      "Model Was Not Saved ! Current Best Avg. Dice: 0.6801654100418091 Current Avg. Dice: 0.5879941582679749 Current Avg. tumor Dice: 0.6315853595733643 Current Avg. lymph Dice: 0.5512624382972717\n"
     ]
    },
    {
     "name": "stderr",
     "output_type": "stream",
     "text": [
      "Training (8719 / 18000 Steps) (loss=0.66281): 100%|██████████| 20/20 [00:21<00:00,  1.10s/it]\n",
      "Training (8739 / 18000 Steps) (loss=0.59528): 100%|██████████| 20/20 [00:11<00:00,  1.75it/s]\n",
      "Training (8759 / 18000 Steps) (loss=0.48251): 100%|██████████| 20/20 [00:11<00:00,  1.79it/s]\n",
      "Training (8779 / 18000 Steps) (loss=0.49387): 100%|██████████| 20/20 [00:11<00:00,  1.80it/s]\n",
      "Training (8799 / 18000 Steps) (loss=0.38335): 100%|██████████| 20/20 [00:11<00:00,  1.79it/s]\n",
      "Validate (8800 / 10 Steps): 100%|██████████| 8/8 [00:11<00:00,  1.41s/it]3<?, ?it/s]\n",
      "Training (8800 / 18000 Steps) (loss=0.48800):   5%|▌         | 1/20 [00:14<04:42, 14.88s/it]"
     ]
    },
    {
     "name": "stdout",
     "output_type": "stream",
     "text": [
      "Model Was Not Saved ! Current Best Avg. Dice: 0.6801654100418091 Current Avg. Dice: 0.5484163761138916 Current Avg. tumor Dice: 0.5525296330451965 Current Avg. lymph Dice: 0.578616738319397\n"
     ]
    },
    {
     "name": "stderr",
     "output_type": "stream",
     "text": [
      "Training (8819 / 18000 Steps) (loss=0.27307): 100%|██████████| 20/20 [00:22<00:00,  1.14s/it]\n",
      "Training (8839 / 18000 Steps) (loss=0.42699): 100%|██████████| 20/20 [00:11<00:00,  1.80it/s]\n",
      "Training (8859 / 18000 Steps) (loss=0.53351): 100%|██████████| 20/20 [00:11<00:00,  1.78it/s]\n",
      "Training (8879 / 18000 Steps) (loss=0.22313): 100%|██████████| 20/20 [00:10<00:00,  1.83it/s]\n",
      "Training (8899 / 18000 Steps) (loss=0.29189): 100%|██████████| 20/20 [00:11<00:00,  1.77it/s]\n",
      "Validate (8900 / 10 Steps): 100%|██████████| 8/8 [00:10<00:00,  1.37s/it]3<?, ?it/s]\n",
      "Training (8900 / 18000 Steps) (loss=0.42286):   5%|▌         | 1/20 [00:14<04:34, 14.43s/it]"
     ]
    },
    {
     "name": "stdout",
     "output_type": "stream",
     "text": [
      "Model Was Not Saved ! Current Best Avg. Dice: 0.6801654100418091 Current Avg. Dice: 0.5708683729171753 Current Avg. tumor Dice: 0.5805853605270386 Current Avg. lymph Dice: 0.5770536661148071\n"
     ]
    },
    {
     "name": "stderr",
     "output_type": "stream",
     "text": [
      "Training (8919 / 18000 Steps) (loss=0.25653): 100%|██████████| 20/20 [00:22<00:00,  1.11s/it]\n",
      "Training (8939 / 18000 Steps) (loss=0.40524): 100%|██████████| 20/20 [00:11<00:00,  1.79it/s]\n",
      "Training (8959 / 18000 Steps) (loss=0.48107): 100%|██████████| 20/20 [00:10<00:00,  1.84it/s]\n",
      "Training (8979 / 18000 Steps) (loss=0.54145): 100%|██████████| 20/20 [00:11<00:00,  1.79it/s]\n",
      "Training (8999 / 18000 Steps) (loss=0.32281): 100%|██████████| 20/20 [00:11<00:00,  1.79it/s]\n",
      "Validate (9000 / 10 Steps): 100%|██████████| 8/8 [00:10<00:00,  1.36s/it]3<?, ?it/s]\n",
      "Training (9000 / 18000 Steps) (loss=0.34906):   5%|▌         | 1/20 [00:14<04:28, 14.11s/it]"
     ]
    },
    {
     "name": "stdout",
     "output_type": "stream",
     "text": [
      "Model Was Not Saved ! Current Best Avg. Dice: 0.6801654100418091 Current Avg. Dice: 0.5546690821647644 Current Avg. tumor Dice: 0.5482209920883179 Current Avg. lymph Dice: 0.5972798466682434\n"
     ]
    },
    {
     "name": "stderr",
     "output_type": "stream",
     "text": [
      "Training (9019 / 18000 Steps) (loss=0.17463): 100%|██████████| 20/20 [00:21<00:00,  1.09s/it]\n",
      "Training (9039 / 18000 Steps) (loss=0.31579): 100%|██████████| 20/20 [00:11<00:00,  1.81it/s]\n",
      "Training (9059 / 18000 Steps) (loss=0.43898): 100%|██████████| 20/20 [00:10<00:00,  1.85it/s]\n",
      "Training (9079 / 18000 Steps) (loss=0.66700): 100%|██████████| 20/20 [00:11<00:00,  1.75it/s]\n",
      "Training (9099 / 18000 Steps) (loss=0.39283): 100%|██████████| 20/20 [00:10<00:00,  1.82it/s]\n",
      "Validate (9100 / 10 Steps): 100%|██████████| 8/8 [00:10<00:00,  1.37s/it]3<?, ?it/s]\n",
      "Training (9100 / 18000 Steps) (loss=0.37536):   5%|▌         | 1/20 [00:14<04:27, 14.08s/it]"
     ]
    },
    {
     "name": "stdout",
     "output_type": "stream",
     "text": [
      "Model Was Not Saved ! Current Best Avg. Dice: 0.6801654100418091 Current Avg. Dice: 0.5250760316848755 Current Avg. tumor Dice: 0.5463511943817139 Current Avg. lymph Dice: 0.54230135679245\n"
     ]
    },
    {
     "name": "stderr",
     "output_type": "stream",
     "text": [
      "Training (9119 / 18000 Steps) (loss=0.40712): 100%|██████████| 20/20 [00:21<00:00,  1.10s/it]\n",
      "Training (9139 / 18000 Steps) (loss=0.48027): 100%|██████████| 20/20 [00:11<00:00,  1.77it/s]\n",
      "Training (9159 / 18000 Steps) (loss=0.29949): 100%|██████████| 20/20 [00:11<00:00,  1.78it/s]\n",
      "Training (9179 / 18000 Steps) (loss=0.13158): 100%|██████████| 20/20 [00:11<00:00,  1.79it/s]\n",
      "Training (9199 / 18000 Steps) (loss=0.33781): 100%|██████████| 20/20 [00:11<00:00,  1.79it/s]\n",
      "Validate (9200 / 10 Steps): 100%|██████████| 8/8 [00:11<00:00,  1.38s/it]2<?, ?it/s]\n",
      "Training (9200 / 18000 Steps) (loss=0.44049):   5%|▌         | 1/20 [00:14<04:26, 14.01s/it]"
     ]
    },
    {
     "name": "stdout",
     "output_type": "stream",
     "text": [
      "Model Was Not Saved ! Current Best Avg. Dice: 0.6801654100418091 Current Avg. Dice: 0.5749827027320862 Current Avg. tumor Dice: 0.5901809930801392 Current Avg. lymph Dice: 0.5878146886825562\n"
     ]
    },
    {
     "name": "stderr",
     "output_type": "stream",
     "text": [
      "Training (9219 / 18000 Steps) (loss=0.32728): 100%|██████████| 20/20 [00:21<00:00,  1.09s/it]\n",
      "Training (9239 / 18000 Steps) (loss=0.50187): 100%|██████████| 20/20 [00:11<00:00,  1.78it/s]\n",
      "Training (9259 / 18000 Steps) (loss=0.40447): 100%|██████████| 20/20 [00:11<00:00,  1.78it/s]\n",
      "Training (9279 / 18000 Steps) (loss=0.45131): 100%|██████████| 20/20 [00:11<00:00,  1.76it/s]\n",
      "Training (9299 / 18000 Steps) (loss=0.43559): 100%|██████████| 20/20 [00:10<00:00,  1.83it/s]\n",
      "Validate (9300 / 10 Steps): 100%|██████████| 8/8 [00:11<00:00,  1.43s/it]3<?, ?it/s]\n",
      "Training (9300 / 18000 Steps) (loss=0.44225):   5%|▌         | 1/20 [00:14<04:44, 14.99s/it]"
     ]
    },
    {
     "name": "stdout",
     "output_type": "stream",
     "text": [
      "Model Was Not Saved ! Current Best Avg. Dice: 0.6801654100418091 Current Avg. Dice: 0.5854477286338806 Current Avg. tumor Dice: 0.5810661911964417 Current Avg. lymph Dice: 0.6131512522697449\n"
     ]
    },
    {
     "name": "stderr",
     "output_type": "stream",
     "text": [
      "Training (9319 / 18000 Steps) (loss=0.16690): 100%|██████████| 20/20 [00:22<00:00,  1.14s/it]\n",
      "Training (9339 / 18000 Steps) (loss=0.34944): 100%|██████████| 20/20 [00:10<00:00,  1.82it/s]\n",
      "Training (9359 / 18000 Steps) (loss=0.66766): 100%|██████████| 20/20 [00:11<00:00,  1.79it/s]\n",
      "Training (9379 / 18000 Steps) (loss=0.23497): 100%|██████████| 20/20 [00:11<00:00,  1.81it/s]\n",
      "Training (9399 / 18000 Steps) (loss=0.26419): 100%|██████████| 20/20 [00:10<00:00,  1.83it/s]\n",
      "Validate (9400 / 10 Steps): 100%|██████████| 8/8 [00:11<00:00,  1.38s/it]3<?, ?it/s]\n",
      "Training (9400 / 18000 Steps) (loss=0.48474):   5%|▌         | 1/20 [00:14<04:37, 14.62s/it]"
     ]
    },
    {
     "name": "stdout",
     "output_type": "stream",
     "text": [
      "Model Was Not Saved ! Current Best Avg. Dice: 0.6801654100418091 Current Avg. Dice: 0.5920069217681885 Current Avg. tumor Dice: 0.613423764705658 Current Avg. lymph Dice: 0.5830248594284058\n"
     ]
    },
    {
     "name": "stderr",
     "output_type": "stream",
     "text": [
      "Training (9419 / 18000 Steps) (loss=0.53245): 100%|██████████| 20/20 [00:22<00:00,  1.12s/it]\n",
      "Training (9439 / 18000 Steps) (loss=0.47030): 100%|██████████| 20/20 [00:11<00:00,  1.77it/s]\n",
      "Training (9459 / 18000 Steps) (loss=0.24933): 100%|██████████| 20/20 [00:11<00:00,  1.82it/s]\n",
      "Training (9479 / 18000 Steps) (loss=0.32330): 100%|██████████| 20/20 [00:10<00:00,  1.83it/s]\n",
      "Training (9499 / 18000 Steps) (loss=0.31021): 100%|██████████| 20/20 [00:11<00:00,  1.76it/s]\n",
      "Validate (9500 / 10 Steps): 100%|██████████| 8/8 [00:11<00:00,  1.41s/it]3<?, ?it/s]\n",
      "Training (9500 / 18000 Steps) (loss=0.20993):   5%|▌         | 1/20 [00:15<04:45, 15.02s/it]"
     ]
    },
    {
     "name": "stdout",
     "output_type": "stream",
     "text": [
      "Model Was Not Saved ! Current Best Avg. Dice: 0.6801654100418091 Current Avg. Dice: 0.5643270015716553 Current Avg. tumor Dice: 0.5700666308403015 Current Avg. lymph Dice: 0.5785300135612488\n"
     ]
    },
    {
     "name": "stderr",
     "output_type": "stream",
     "text": [
      "Training (9519 / 18000 Steps) (loss=0.40300): 100%|██████████| 20/20 [00:22<00:00,  1.14s/it]\n",
      "Training (9539 / 18000 Steps) (loss=0.50436): 100%|██████████| 20/20 [00:11<00:00,  1.81it/s]\n",
      "Training (9559 / 18000 Steps) (loss=0.38854): 100%|██████████| 20/20 [00:10<00:00,  1.85it/s]\n",
      "Training (9579 / 18000 Steps) (loss=0.26686): 100%|██████████| 20/20 [00:10<00:00,  1.82it/s]\n",
      "Training (9599 / 18000 Steps) (loss=0.42859): 100%|██████████| 20/20 [00:11<00:00,  1.77it/s]\n",
      "Validate (9600 / 10 Steps): 100%|██████████| 8/8 [00:11<00:00,  1.38s/it]3<?, ?it/s]\n",
      "Training (9600 / 18000 Steps) (loss=0.35232):   5%|▌         | 1/20 [00:14<04:38, 14.64s/it]"
     ]
    },
    {
     "name": "stdout",
     "output_type": "stream",
     "text": [
      "Model Was Not Saved ! Current Best Avg. Dice: 0.6801654100418091 Current Avg. Dice: 0.5407458543777466 Current Avg. tumor Dice: 0.5456025004386902 Current Avg. lymph Dice: 0.5439372658729553\n"
     ]
    },
    {
     "name": "stderr",
     "output_type": "stream",
     "text": [
      "Training (9619 / 18000 Steps) (loss=0.44029): 100%|██████████| 20/20 [00:22<00:00,  1.13s/it]\n",
      "Training (9639 / 18000 Steps) (loss=0.26021): 100%|██████████| 20/20 [00:10<00:00,  1.82it/s]\n",
      "Training (9659 / 18000 Steps) (loss=0.54039): 100%|██████████| 20/20 [00:11<00:00,  1.76it/s]\n",
      "Training (9679 / 18000 Steps) (loss=0.27236): 100%|██████████| 20/20 [00:11<00:00,  1.76it/s]\n",
      "Training (9699 / 18000 Steps) (loss=0.27168): 100%|██████████| 20/20 [00:10<00:00,  1.83it/s]\n",
      "Validate (9700 / 10 Steps): 100%|██████████| 8/8 [00:10<00:00,  1.37s/it]3<?, ?it/s]\n",
      "Training (9700 / 18000 Steps) (loss=0.37204):   5%|▌         | 1/20 [00:14<04:27, 14.06s/it]"
     ]
    },
    {
     "name": "stdout",
     "output_type": "stream",
     "text": [
      "Model Was Not Saved ! Current Best Avg. Dice: 0.6801654100418091 Current Avg. Dice: 0.5178970694541931 Current Avg. tumor Dice: 0.533476710319519 Current Avg. lymph Dice: 0.5187332630157471\n"
     ]
    },
    {
     "name": "stderr",
     "output_type": "stream",
     "text": [
      "Training (9719 / 18000 Steps) (loss=0.42326): 100%|██████████| 20/20 [00:21<00:00,  1.10s/it]\n",
      "Training (9739 / 18000 Steps) (loss=0.47479): 100%|██████████| 20/20 [00:11<00:00,  1.78it/s]\n",
      "Training (9759 / 18000 Steps) (loss=0.35192): 100%|██████████| 20/20 [00:10<00:00,  1.82it/s]\n",
      "Training (9779 / 18000 Steps) (loss=0.34806): 100%|██████████| 20/20 [00:10<00:00,  1.83it/s]\n",
      "Training (9799 / 18000 Steps) (loss=0.25851): 100%|██████████| 20/20 [00:11<00:00,  1.81it/s]\n",
      "Validate (9800 / 10 Steps): 100%|██████████| 8/8 [00:11<00:00,  1.39s/it]3<?, ?it/s]\n",
      "Training (9800 / 18000 Steps) (loss=0.40332):   5%|▌         | 1/20 [00:14<04:40, 14.76s/it]"
     ]
    },
    {
     "name": "stdout",
     "output_type": "stream",
     "text": [
      "Model Was Not Saved ! Current Best Avg. Dice: 0.6801654100418091 Current Avg. Dice: 0.5723634958267212 Current Avg. tumor Dice: 0.573715090751648 Current Avg. lymph Dice: 0.6096251010894775\n"
     ]
    },
    {
     "name": "stderr",
     "output_type": "stream",
     "text": [
      "Training (9819 / 18000 Steps) (loss=0.54632): 100%|██████████| 20/20 [00:22<00:00,  1.13s/it]\n",
      "Training (9839 / 18000 Steps) (loss=0.27766): 100%|██████████| 20/20 [00:11<00:00,  1.81it/s]\n",
      "Training (9859 / 18000 Steps) (loss=0.52694): 100%|██████████| 20/20 [00:11<00:00,  1.75it/s]\n",
      "Training (9879 / 18000 Steps) (loss=0.32638): 100%|██████████| 20/20 [00:11<00:00,  1.80it/s]\n",
      "Training (9899 / 18000 Steps) (loss=0.32197): 100%|██████████| 20/20 [00:11<00:00,  1.79it/s]\n",
      "Validate (9900 / 10 Steps): 100%|██████████| 8/8 [00:11<00:00,  1.40s/it]3<?, ?it/s]\n",
      "Training (9900 / 18000 Steps) (loss=0.42862):   5%|▌         | 1/20 [00:14<04:39, 14.72s/it]"
     ]
    },
    {
     "name": "stdout",
     "output_type": "stream",
     "text": [
      "Model Was Not Saved ! Current Best Avg. Dice: 0.6801654100418091 Current Avg. Dice: 0.5223753452301025 Current Avg. tumor Dice: 0.5269381403923035 Current Avg. lymph Dice: 0.5429130792617798\n"
     ]
    },
    {
     "name": "stderr",
     "output_type": "stream",
     "text": [
      "Training (9919 / 18000 Steps) (loss=0.25770): 100%|██████████| 20/20 [00:22<00:00,  1.15s/it]\n",
      "Training (9939 / 18000 Steps) (loss=0.39298): 100%|██████████| 20/20 [00:11<00:00,  1.79it/s]\n",
      "Training (9959 / 18000 Steps) (loss=0.24980): 100%|██████████| 20/20 [00:11<00:00,  1.77it/s]\n",
      "Training (9979 / 18000 Steps) (loss=0.48045): 100%|██████████| 20/20 [00:11<00:00,  1.73it/s]\n",
      "Training (9999 / 18000 Steps) (loss=0.25875): 100%|██████████| 20/20 [00:10<00:00,  1.83it/s]\n",
      "Validate (10000 / 10 Steps): 100%|██████████| 8/8 [00:11<00:00,  1.38s/it]3<?, ?it/s]\n",
      "Training (10000 / 18000 Steps) (loss=0.19294):   5%|▌         | 1/20 [00:14<04:31, 14.29s/it]"
     ]
    },
    {
     "name": "stdout",
     "output_type": "stream",
     "text": [
      "Model Was Not Saved ! Current Best Avg. Dice: 0.6801654100418091 Current Avg. Dice: 0.5515594482421875 Current Avg. tumor Dice: 0.5850151777267456 Current Avg. lymph Dice: 0.5512049794197083\n"
     ]
    },
    {
     "name": "stderr",
     "output_type": "stream",
     "text": [
      "Training (10019 / 18000 Steps) (loss=0.47456): 100%|██████████| 20/20 [00:22<00:00,  1.10s/it]\n",
      "Training (10039 / 18000 Steps) (loss=0.66687): 100%|██████████| 20/20 [00:11<00:00,  1.78it/s]\n",
      "Training (10059 / 18000 Steps) (loss=0.32237): 100%|██████████| 20/20 [00:10<00:00,  1.84it/s]\n",
      "Training (10079 / 18000 Steps) (loss=0.22653): 100%|██████████| 20/20 [00:10<00:00,  1.82it/s]\n",
      "Training (10099 / 18000 Steps) (loss=0.28402): 100%|██████████| 20/20 [00:11<00:00,  1.75it/s]\n",
      "Validate (10100 / 10 Steps): 100%|██████████| 8/8 [00:11<00:00,  1.38s/it]3<?, ?it/s]\n",
      "Training (10100 / 18000 Steps) (loss=0.43798):   5%|▌         | 1/20 [00:14<04:36, 14.53s/it]"
     ]
    },
    {
     "name": "stdout",
     "output_type": "stream",
     "text": [
      "Model Was Not Saved ! Current Best Avg. Dice: 0.6801654100418091 Current Avg. Dice: 0.5419979691505432 Current Avg. tumor Dice: 0.530745267868042 Current Avg. lymph Dice: 0.6105865240097046\n"
     ]
    },
    {
     "name": "stderr",
     "output_type": "stream",
     "text": [
      "Training (10119 / 18000 Steps) (loss=0.42750): 100%|██████████| 20/20 [00:22<00:00,  1.12s/it]\n",
      "Training (10139 / 18000 Steps) (loss=0.24927): 100%|██████████| 20/20 [00:11<00:00,  1.72it/s]\n",
      "Training (10159 / 18000 Steps) (loss=0.35059): 100%|██████████| 20/20 [00:10<00:00,  1.83it/s]\n",
      "Training (10179 / 18000 Steps) (loss=0.25535): 100%|██████████| 20/20 [00:11<00:00,  1.79it/s]\n",
      "Training (10199 / 18000 Steps) (loss=0.40455): 100%|██████████| 20/20 [00:11<00:00,  1.79it/s]\n",
      "Validate (10200 / 10 Steps): 100%|██████████| 8/8 [00:10<00:00,  1.36s/it]3<?, ?it/s]\n",
      "Training (10200 / 18000 Steps) (loss=0.21468):   5%|▌         | 1/20 [00:14<04:31, 14.30s/it]"
     ]
    },
    {
     "name": "stdout",
     "output_type": "stream",
     "text": [
      "Model Was Not Saved ! Current Best Avg. Dice: 0.6801654100418091 Current Avg. Dice: 0.5867825150489807 Current Avg. tumor Dice: 0.588602602481842 Current Avg. lymph Dice: 0.6225967407226562\n"
     ]
    },
    {
     "name": "stderr",
     "output_type": "stream",
     "text": [
      "Training (10219 / 18000 Steps) (loss=0.26711): 100%|██████████| 20/20 [00:22<00:00,  1.11s/it]\n",
      "Training (10239 / 18000 Steps) (loss=0.39118): 100%|██████████| 20/20 [00:11<00:00,  1.78it/s]\n",
      "Training (10259 / 18000 Steps) (loss=0.41813): 100%|██████████| 20/20 [00:11<00:00,  1.76it/s]\n",
      "Training (10279 / 18000 Steps) (loss=0.54424): 100%|██████████| 20/20 [00:11<00:00,  1.78it/s]\n",
      "Training (10299 / 18000 Steps) (loss=0.41577): 100%|██████████| 20/20 [00:10<00:00,  1.85it/s]\n",
      "Validate (10300 / 10 Steps): 100%|██████████| 8/8 [00:10<00:00,  1.37s/it]3<?, ?it/s]\n",
      "Training (10300 / 18000 Steps) (loss=0.34085):   5%|▌         | 1/20 [00:14<04:31, 14.30s/it]"
     ]
    },
    {
     "name": "stdout",
     "output_type": "stream",
     "text": [
      "Model Was Not Saved ! Current Best Avg. Dice: 0.6801654100418091 Current Avg. Dice: 0.5423710942268372 Current Avg. tumor Dice: 0.578324019908905 Current Avg. lymph Dice: 0.51834636926651\n"
     ]
    },
    {
     "name": "stderr",
     "output_type": "stream",
     "text": [
      "Training (10319 / 18000 Steps) (loss=0.21376): 100%|██████████| 20/20 [00:22<00:00,  1.10s/it]\n",
      "Training (10339 / 18000 Steps) (loss=0.49278): 100%|██████████| 20/20 [00:11<00:00,  1.81it/s]\n",
      "Training (10359 / 18000 Steps) (loss=0.47073): 100%|██████████| 20/20 [00:10<00:00,  1.84it/s]\n",
      "Training (10379 / 18000 Steps) (loss=0.40425): 100%|██████████| 20/20 [00:11<00:00,  1.82it/s]\n",
      "Training (10399 / 18000 Steps) (loss=0.46702): 100%|██████████| 20/20 [00:11<00:00,  1.81it/s]\n",
      "Validate (10400 / 10 Steps): 100%|██████████| 8/8 [00:11<00:00,  1.41s/it]3<?, ?it/s]\n",
      "Training (10400 / 18000 Steps) (loss=0.39074):   5%|▌         | 1/20 [00:14<04:39, 14.69s/it]"
     ]
    },
    {
     "name": "stdout",
     "output_type": "stream",
     "text": [
      "Model Was Not Saved ! Current Best Avg. Dice: 0.6801654100418091 Current Avg. Dice: 0.5326119661331177 Current Avg. tumor Dice: 0.5327375531196594 Current Avg. lymph Dice: 0.5694083571434021\n"
     ]
    },
    {
     "name": "stderr",
     "output_type": "stream",
     "text": [
      "Training (10419 / 18000 Steps) (loss=0.26324): 100%|██████████| 20/20 [00:22<00:00,  1.12s/it]\n",
      "Training (10439 / 18000 Steps) (loss=0.42646): 100%|██████████| 20/20 [00:11<00:00,  1.76it/s]\n",
      "Training (10459 / 18000 Steps) (loss=0.29494): 100%|██████████| 20/20 [00:11<00:00,  1.80it/s]\n",
      "Training (10479 / 18000 Steps) (loss=0.37460): 100%|██████████| 20/20 [00:11<00:00,  1.77it/s]\n",
      "Training (10499 / 18000 Steps) (loss=0.36195): 100%|██████████| 20/20 [00:11<00:00,  1.81it/s]\n"
     ]
    },
    {
     "ename": "KeyboardInterrupt",
     "evalue": "",
     "output_type": "error",
     "traceback": [
      "\u001b[0;31m---------------------------------------------------------------------------\u001b[0m",
      "\u001b[0;31mKeyboardInterrupt\u001b[0m                         Traceback (most recent call last)",
      "Cell \u001b[0;32mIn[13], line 106\u001b[0m\n\u001b[1;32m    104\u001b[0m metric_values_lymph \u001b[38;5;241m=\u001b[39m []\n\u001b[1;32m    105\u001b[0m \u001b[38;5;28;01mwhile\u001b[39;00m global_step \u001b[38;5;241m<\u001b[39m max_iterations:\n\u001b[0;32m--> 106\u001b[0m     global_step, dice_val_best, global_step_best \u001b[38;5;241m=\u001b[39m \u001b[43mtrain\u001b[49m\u001b[43m(\u001b[49m\n\u001b[1;32m    107\u001b[0m \u001b[43m        \u001b[49m\u001b[43mglobal_step\u001b[49m\u001b[43m,\u001b[49m\u001b[43m \u001b[49m\u001b[43mtrain_loader\u001b[49m\u001b[43m,\u001b[49m\u001b[43m \u001b[49m\u001b[43mdice_val_best\u001b[49m\u001b[43m,\u001b[49m\u001b[43m \u001b[49m\u001b[43mglobal_step_best\u001b[49m\n\u001b[1;32m    108\u001b[0m \u001b[43m    \u001b[49m\u001b[43m)\u001b[49m\n\u001b[1;32m    109\u001b[0m     \u001b[38;5;66;03m# wandb.log({'learning_rate': optimizer.param_groups[0]['lr']})\u001b[39;00m\n\u001b[1;32m    110\u001b[0m     \u001b[38;5;66;03m# wandb.log({'Best Dice': dice_val_best})\u001b[39;00m\n\u001b[1;32m    111\u001b[0m     epoch \u001b[38;5;241m+\u001b[39m\u001b[38;5;241m=\u001b[39m \u001b[38;5;241m1\u001b[39m\n",
      "Cell \u001b[0;32mIn[13], line 40\u001b[0m, in \u001b[0;36mtrain\u001b[0;34m(global_step, train_loader, dice_val_best, global_step_best)\u001b[0m\n\u001b[1;32m     36\u001b[0m step \u001b[38;5;241m=\u001b[39m \u001b[38;5;241m0\u001b[39m\n\u001b[1;32m     37\u001b[0m epoch_iterator \u001b[38;5;241m=\u001b[39m tqdm(\n\u001b[1;32m     38\u001b[0m     train_loader, desc\u001b[38;5;241m=\u001b[39m\u001b[38;5;124m\"\u001b[39m\u001b[38;5;124mTraining (X / X Steps) (loss=X.X)\u001b[39m\u001b[38;5;124m\"\u001b[39m, dynamic_ncols\u001b[38;5;241m=\u001b[39m\u001b[38;5;28;01mTrue\u001b[39;00m\n\u001b[1;32m     39\u001b[0m )\n\u001b[0;32m---> 40\u001b[0m \u001b[38;5;28;01mfor\u001b[39;00m step, batch \u001b[38;5;129;01min\u001b[39;00m \u001b[38;5;28menumerate\u001b[39m(epoch_iterator):\n\u001b[1;32m     41\u001b[0m     step \u001b[38;5;241m+\u001b[39m\u001b[38;5;241m=\u001b[39m \u001b[38;5;241m1\u001b[39m\n\u001b[1;32m     42\u001b[0m     x, y \u001b[38;5;241m=\u001b[39m (batch[\u001b[38;5;124m\"\u001b[39m\u001b[38;5;124mct\u001b[39m\u001b[38;5;124m\"\u001b[39m]\u001b[38;5;241m.\u001b[39mcuda(), batch[\u001b[38;5;124m\"\u001b[39m\u001b[38;5;124mseg\u001b[39m\u001b[38;5;124m\"\u001b[39m]\u001b[38;5;241m.\u001b[39mcuda())\n",
      "File \u001b[0;32m~/miniconda3/envs/clam/lib/python3.8/site-packages/tqdm/std.py:1182\u001b[0m, in \u001b[0;36mtqdm.__iter__\u001b[0;34m(self)\u001b[0m\n\u001b[1;32m   1179\u001b[0m time \u001b[38;5;241m=\u001b[39m \u001b[38;5;28mself\u001b[39m\u001b[38;5;241m.\u001b[39m_time\n\u001b[1;32m   1181\u001b[0m \u001b[38;5;28;01mtry\u001b[39;00m:\n\u001b[0;32m-> 1182\u001b[0m     \u001b[38;5;28;01mfor\u001b[39;00m obj \u001b[38;5;129;01min\u001b[39;00m iterable:\n\u001b[1;32m   1183\u001b[0m         \u001b[38;5;28;01myield\u001b[39;00m obj\n\u001b[1;32m   1184\u001b[0m         \u001b[38;5;66;03m# Update and possibly print the progressbar.\u001b[39;00m\n\u001b[1;32m   1185\u001b[0m         \u001b[38;5;66;03m# Note: does not call self.update(1) for speed optimisation.\u001b[39;00m\n",
      "File \u001b[0;32m~/miniconda3/envs/clam/lib/python3.8/site-packages/torch/utils/data/dataloader.py:630\u001b[0m, in \u001b[0;36m_BaseDataLoaderIter.__next__\u001b[0;34m(self)\u001b[0m\n\u001b[1;32m    627\u001b[0m \u001b[38;5;28;01mif\u001b[39;00m \u001b[38;5;28mself\u001b[39m\u001b[38;5;241m.\u001b[39m_sampler_iter \u001b[38;5;129;01mis\u001b[39;00m \u001b[38;5;28;01mNone\u001b[39;00m:\n\u001b[1;32m    628\u001b[0m     \u001b[38;5;66;03m# TODO(https://github.com/pytorch/pytorch/issues/76750)\u001b[39;00m\n\u001b[1;32m    629\u001b[0m     \u001b[38;5;28mself\u001b[39m\u001b[38;5;241m.\u001b[39m_reset()  \u001b[38;5;66;03m# type: ignore[call-arg]\u001b[39;00m\n\u001b[0;32m--> 630\u001b[0m data \u001b[38;5;241m=\u001b[39m \u001b[38;5;28;43mself\u001b[39;49m\u001b[38;5;241;43m.\u001b[39;49m\u001b[43m_next_data\u001b[49m\u001b[43m(\u001b[49m\u001b[43m)\u001b[49m\n\u001b[1;32m    631\u001b[0m \u001b[38;5;28mself\u001b[39m\u001b[38;5;241m.\u001b[39m_num_yielded \u001b[38;5;241m+\u001b[39m\u001b[38;5;241m=\u001b[39m \u001b[38;5;241m1\u001b[39m\n\u001b[1;32m    632\u001b[0m \u001b[38;5;28;01mif\u001b[39;00m \u001b[38;5;28mself\u001b[39m\u001b[38;5;241m.\u001b[39m_dataset_kind \u001b[38;5;241m==\u001b[39m _DatasetKind\u001b[38;5;241m.\u001b[39mIterable \u001b[38;5;129;01mand\u001b[39;00m \\\n\u001b[1;32m    633\u001b[0m         \u001b[38;5;28mself\u001b[39m\u001b[38;5;241m.\u001b[39m_IterableDataset_len_called \u001b[38;5;129;01mis\u001b[39;00m \u001b[38;5;129;01mnot\u001b[39;00m \u001b[38;5;28;01mNone\u001b[39;00m \u001b[38;5;129;01mand\u001b[39;00m \\\n\u001b[1;32m    634\u001b[0m         \u001b[38;5;28mself\u001b[39m\u001b[38;5;241m.\u001b[39m_num_yielded \u001b[38;5;241m>\u001b[39m \u001b[38;5;28mself\u001b[39m\u001b[38;5;241m.\u001b[39m_IterableDataset_len_called:\n",
      "File \u001b[0;32m~/miniconda3/envs/clam/lib/python3.8/site-packages/torch/utils/data/dataloader.py:1317\u001b[0m, in \u001b[0;36m_MultiProcessingDataLoaderIter._next_data\u001b[0;34m(self)\u001b[0m\n\u001b[1;32m   1314\u001b[0m \u001b[38;5;28;01melse\u001b[39;00m:\n\u001b[1;32m   1315\u001b[0m     \u001b[38;5;66;03m# no valid `self._rcvd_idx` is found (i.e., didn't break)\u001b[39;00m\n\u001b[1;32m   1316\u001b[0m     \u001b[38;5;28;01mif\u001b[39;00m \u001b[38;5;129;01mnot\u001b[39;00m \u001b[38;5;28mself\u001b[39m\u001b[38;5;241m.\u001b[39m_persistent_workers:\n\u001b[0;32m-> 1317\u001b[0m         \u001b[38;5;28;43mself\u001b[39;49m\u001b[38;5;241;43m.\u001b[39;49m\u001b[43m_shutdown_workers\u001b[49m\u001b[43m(\u001b[49m\u001b[43m)\u001b[49m\n\u001b[1;32m   1318\u001b[0m     \u001b[38;5;28;01mraise\u001b[39;00m \u001b[38;5;167;01mStopIteration\u001b[39;00m\n\u001b[1;32m   1320\u001b[0m \u001b[38;5;66;03m# Now `self._rcvd_idx` is the batch index we want to fetch\u001b[39;00m\n\u001b[1;32m   1321\u001b[0m \n\u001b[1;32m   1322\u001b[0m \u001b[38;5;66;03m# Check if the next sample has already been generated\u001b[39;00m\n",
      "File \u001b[0;32m~/miniconda3/envs/clam/lib/python3.8/site-packages/torch/utils/data/dataloader.py:1442\u001b[0m, in \u001b[0;36m_MultiProcessingDataLoaderIter._shutdown_workers\u001b[0;34m(self)\u001b[0m\n\u001b[1;32m   1437\u001b[0m         \u001b[38;5;28mself\u001b[39m\u001b[38;5;241m.\u001b[39m_mark_worker_as_unavailable(worker_id, shutdown\u001b[38;5;241m=\u001b[39m\u001b[38;5;28;01mTrue\u001b[39;00m)\n\u001b[1;32m   1438\u001b[0m \u001b[38;5;28;01mfor\u001b[39;00m w \u001b[38;5;129;01min\u001b[39;00m \u001b[38;5;28mself\u001b[39m\u001b[38;5;241m.\u001b[39m_workers:\n\u001b[1;32m   1439\u001b[0m     \u001b[38;5;66;03m# We should be able to join here, but in case anything went\u001b[39;00m\n\u001b[1;32m   1440\u001b[0m     \u001b[38;5;66;03m# wrong, we set a timeout and if the workers fail to join,\u001b[39;00m\n\u001b[1;32m   1441\u001b[0m     \u001b[38;5;66;03m# they are killed in the `finally` block.\u001b[39;00m\n\u001b[0;32m-> 1442\u001b[0m     \u001b[43mw\u001b[49m\u001b[38;5;241;43m.\u001b[39;49m\u001b[43mjoin\u001b[49m\u001b[43m(\u001b[49m\u001b[43mtimeout\u001b[49m\u001b[38;5;241;43m=\u001b[39;49m\u001b[43m_utils\u001b[49m\u001b[38;5;241;43m.\u001b[39;49m\u001b[43mMP_STATUS_CHECK_INTERVAL\u001b[49m\u001b[43m)\u001b[49m\n\u001b[1;32m   1443\u001b[0m \u001b[38;5;28;01mfor\u001b[39;00m q \u001b[38;5;129;01min\u001b[39;00m \u001b[38;5;28mself\u001b[39m\u001b[38;5;241m.\u001b[39m_index_queues:\n\u001b[1;32m   1444\u001b[0m     q\u001b[38;5;241m.\u001b[39mcancel_join_thread()\n",
      "File \u001b[0;32m~/miniconda3/envs/clam/lib/python3.8/multiprocessing/process.py:149\u001b[0m, in \u001b[0;36mBaseProcess.join\u001b[0;34m(self, timeout)\u001b[0m\n\u001b[1;32m    147\u001b[0m \u001b[38;5;28;01massert\u001b[39;00m \u001b[38;5;28mself\u001b[39m\u001b[38;5;241m.\u001b[39m_parent_pid \u001b[38;5;241m==\u001b[39m os\u001b[38;5;241m.\u001b[39mgetpid(), \u001b[38;5;124m'\u001b[39m\u001b[38;5;124mcan only join a child process\u001b[39m\u001b[38;5;124m'\u001b[39m\n\u001b[1;32m    148\u001b[0m \u001b[38;5;28;01massert\u001b[39;00m \u001b[38;5;28mself\u001b[39m\u001b[38;5;241m.\u001b[39m_popen \u001b[38;5;129;01mis\u001b[39;00m \u001b[38;5;129;01mnot\u001b[39;00m \u001b[38;5;28;01mNone\u001b[39;00m, \u001b[38;5;124m'\u001b[39m\u001b[38;5;124mcan only join a started process\u001b[39m\u001b[38;5;124m'\u001b[39m\n\u001b[0;32m--> 149\u001b[0m res \u001b[38;5;241m=\u001b[39m \u001b[38;5;28;43mself\u001b[39;49m\u001b[38;5;241;43m.\u001b[39;49m\u001b[43m_popen\u001b[49m\u001b[38;5;241;43m.\u001b[39;49m\u001b[43mwait\u001b[49m\u001b[43m(\u001b[49m\u001b[43mtimeout\u001b[49m\u001b[43m)\u001b[49m\n\u001b[1;32m    150\u001b[0m \u001b[38;5;28;01mif\u001b[39;00m res \u001b[38;5;129;01mis\u001b[39;00m \u001b[38;5;129;01mnot\u001b[39;00m \u001b[38;5;28;01mNone\u001b[39;00m:\n\u001b[1;32m    151\u001b[0m     _children\u001b[38;5;241m.\u001b[39mdiscard(\u001b[38;5;28mself\u001b[39m)\n",
      "File \u001b[0;32m~/miniconda3/envs/clam/lib/python3.8/multiprocessing/popen_fork.py:44\u001b[0m, in \u001b[0;36mPopen.wait\u001b[0;34m(self, timeout)\u001b[0m\n\u001b[1;32m     42\u001b[0m \u001b[38;5;28;01mif\u001b[39;00m timeout \u001b[38;5;129;01mis\u001b[39;00m \u001b[38;5;129;01mnot\u001b[39;00m \u001b[38;5;28;01mNone\u001b[39;00m:\n\u001b[1;32m     43\u001b[0m     \u001b[38;5;28;01mfrom\u001b[39;00m \u001b[38;5;21;01mmultiprocessing\u001b[39;00m\u001b[38;5;21;01m.\u001b[39;00m\u001b[38;5;21;01mconnection\u001b[39;00m \u001b[38;5;28;01mimport\u001b[39;00m wait\n\u001b[0;32m---> 44\u001b[0m     \u001b[38;5;28;01mif\u001b[39;00m \u001b[38;5;129;01mnot\u001b[39;00m \u001b[43mwait\u001b[49m\u001b[43m(\u001b[49m\u001b[43m[\u001b[49m\u001b[38;5;28;43mself\u001b[39;49m\u001b[38;5;241;43m.\u001b[39;49m\u001b[43msentinel\u001b[49m\u001b[43m]\u001b[49m\u001b[43m,\u001b[49m\u001b[43m \u001b[49m\u001b[43mtimeout\u001b[49m\u001b[43m)\u001b[49m:\n\u001b[1;32m     45\u001b[0m         \u001b[38;5;28;01mreturn\u001b[39;00m \u001b[38;5;28;01mNone\u001b[39;00m\n\u001b[1;32m     46\u001b[0m \u001b[38;5;66;03m# This shouldn't block if wait() returned successfully.\u001b[39;00m\n",
      "File \u001b[0;32m~/miniconda3/envs/clam/lib/python3.8/multiprocessing/connection.py:930\u001b[0m, in \u001b[0;36mwait\u001b[0;34m(object_list, timeout)\u001b[0m\n\u001b[1;32m    927\u001b[0m     deadline \u001b[38;5;241m=\u001b[39m time\u001b[38;5;241m.\u001b[39mmonotonic() \u001b[38;5;241m+\u001b[39m timeout\n\u001b[1;32m    929\u001b[0m \u001b[38;5;28;01mwhile\u001b[39;00m \u001b[38;5;28;01mTrue\u001b[39;00m:\n\u001b[0;32m--> 930\u001b[0m     ready \u001b[38;5;241m=\u001b[39m \u001b[43mselector\u001b[49m\u001b[38;5;241;43m.\u001b[39;49m\u001b[43mselect\u001b[49m\u001b[43m(\u001b[49m\u001b[43mtimeout\u001b[49m\u001b[43m)\u001b[49m\n\u001b[1;32m    931\u001b[0m     \u001b[38;5;28;01mif\u001b[39;00m ready:\n\u001b[1;32m    932\u001b[0m         \u001b[38;5;28;01mreturn\u001b[39;00m [key\u001b[38;5;241m.\u001b[39mfileobj \u001b[38;5;28;01mfor\u001b[39;00m (key, events) \u001b[38;5;129;01min\u001b[39;00m ready]\n",
      "File \u001b[0;32m~/miniconda3/envs/clam/lib/python3.8/selectors.py:415\u001b[0m, in \u001b[0;36m_PollLikeSelector.select\u001b[0;34m(self, timeout)\u001b[0m\n\u001b[1;32m    413\u001b[0m ready \u001b[38;5;241m=\u001b[39m []\n\u001b[1;32m    414\u001b[0m \u001b[38;5;28;01mtry\u001b[39;00m:\n\u001b[0;32m--> 415\u001b[0m     fd_event_list \u001b[38;5;241m=\u001b[39m \u001b[38;5;28;43mself\u001b[39;49m\u001b[38;5;241;43m.\u001b[39;49m\u001b[43m_selector\u001b[49m\u001b[38;5;241;43m.\u001b[39;49m\u001b[43mpoll\u001b[49m\u001b[43m(\u001b[49m\u001b[43mtimeout\u001b[49m\u001b[43m)\u001b[49m\n\u001b[1;32m    416\u001b[0m \u001b[38;5;28;01mexcept\u001b[39;00m \u001b[38;5;167;01mInterruptedError\u001b[39;00m:\n\u001b[1;32m    417\u001b[0m     \u001b[38;5;28;01mreturn\u001b[39;00m ready\n",
      "\u001b[0;31mKeyboardInterrupt\u001b[0m: "
     ]
    }
   ],
   "source": [
    "model_dir = '/home/nada.saadi/CTPET/hecktor2022_cropped/ctptct_onCT_M3awda'\n",
    "\n",
    "def validation(epoch_iterator_val):\n",
    "    model.eval()\n",
    "    with torch.no_grad():\n",
    "        for step, batch in enumerate(epoch_iterator_val):\n",
    "            val_inputs, val_labels = (batch[\"ct\"].cuda(), batch[\"seg\"].cuda())\n",
    "            val_outputs = sliding_window_inference(val_inputs, (96, 96, 96), 4, model)\n",
    "            val_labels_list = decollate_batch(val_labels)\n",
    "            val_labels_convert = [\n",
    "                post_label(val_label_tensor) for val_label_tensor in val_labels_list\n",
    "            ]\n",
    "            val_outputs_list = decollate_batch(val_outputs)\n",
    "            val_output_convert = [\n",
    "                post_pred(val_pred_tensor) for val_pred_tensor in val_outputs_list\n",
    "            ]\n",
    "            dice_metric(y_pred=val_output_convert, y=val_labels_convert)\n",
    "            dice_metric_batch(y_pred=val_output_convert, y=val_labels_convert)\n",
    "            epoch_iterator_val.set_description(\n",
    "                \"Validate (%d / %d Steps)\" % (global_step, 10.0)\n",
    "            )\n",
    "        mean_dice_val = dice_metric.aggregate().item()\n",
    "        metric_batch_val = dice_metric_batch.aggregate()\n",
    "\n",
    "        metric_tumor = metric_batch_val[0].item()\n",
    "        metric_lymph = metric_batch_val[1].item()\n",
    "\n",
    "        dice_metric.reset()\n",
    "        dice_metric_batch.reset()\n",
    "    return mean_dice_val, metric_tumor, metric_lymph\n",
    "\n",
    "\n",
    "def train(global_step, train_loader, dice_val_best, global_step_best):\n",
    "    model.train()\n",
    "    epoch_loss = 0\n",
    "    step = 0\n",
    "    epoch_iterator = tqdm(\n",
    "        train_loader, desc=\"Training (X / X Steps) (loss=X.X)\", dynamic_ncols=True\n",
    "    )\n",
    "    for step, batch in enumerate(epoch_iterator):\n",
    "        step += 1\n",
    "        x, y = (batch[\"ct\"].cuda(), batch[\"seg\"].cuda())\n",
    "        logit_map = model(x)\n",
    "        loss = loss_function(logit_map, y)\n",
    "        loss.backward()\n",
    "        epoch_loss += loss.item()\n",
    "        optimizer.step()\n",
    "        optimizer.zero_grad()\n",
    "        epoch_iterator.set_description(\n",
    "            \"Training (%d / %d Steps) (loss=%2.5f)\"\n",
    "            % (global_step, max_iterations, loss)\n",
    "        )\n",
    "        if (\n",
    "            global_step % eval_num == 0 and global_step != 0\n",
    "        ) or global_step == max_iterations:\n",
    "            epoch_iterator_val = tqdm(\n",
    "                val_loader, desc=\"Validate (X / X Steps) (dice=X.X)\", dynamic_ncols=True\n",
    "            )\n",
    "            dice_val, metric_tumor, metric_lymph = validation(epoch_iterator_val)\n",
    "            epoch_loss /= step\n",
    "            epoch_loss_values.append(epoch_loss)\n",
    "            metric_values.append(dice_val)\n",
    "            metric_values_tumor.append(metric_tumor)\n",
    "            metric_values_lymph.append(metric_lymph)\n",
    "            if dice_val > dice_val_best:\n",
    "                dice_val_best = dice_val\n",
    "                global_step_best = global_step\n",
    "                torch.save(\n",
    "                    model.state_dict(), os.path.join(model_dir, \"ctptct_on_ct_m3awda_6th.pth\")\n",
    "                )\n",
    "                print(\n",
    "                    \"Model Was Saved ! Current Best Avg. Dice: {} Current Avg. Dice: {} Current Avg. tumor Dice: {} Current Avg. lymph Dice: {}\".format(\n",
    "                        dice_val_best, dice_val, metric_tumor, metric_lymph\n",
    "                    )\n",
    "                )\n",
    "            else:\n",
    "                print(\n",
    "                    \"Model Was Not Saved ! Current Best Avg. Dice: {} Current Avg. Dice: {} Current Avg. tumor Dice: {} Current Avg. lymph Dice: {}\".format(\n",
    "                        dice_val_best, dice_val,  metric_tumor, metric_lymph\n",
    "                    )\n",
    "                )\n",
    "        global_step += 1\n",
    "    return global_step, dice_val_best, global_step_best\n",
    "\n",
    "\n",
    "max_iterations = 18000\n",
    "eval_num = 100\n",
    "\n",
    "post_label = AsDiscrete(to_onehot=3)\n",
    "post_pred = AsDiscrete(argmax=True, to_onehot=3)\n",
    "\n",
    "dice_metric = DiceMetric(include_background=False, reduction=\"mean\", get_not_nans=False)\n",
    "dice_metric_batch = DiceMetric(include_background=False, reduction=\"mean_batch\")\n",
    "\n",
    "epoch = 0\n",
    "max_num_epochs = 530\n",
    "\n",
    "global_step = 0\n",
    "dice_val_best = 0.0\n",
    "global_step_best = 0\n",
    "epoch_loss_values = []\n",
    "metric_values = []\n",
    "metric_values_tumor = []\n",
    "metric_values_lymph = []\n",
    "while global_step < max_iterations:\n",
    "    global_step, dice_val_best, global_step_best = train(\n",
    "        global_step, train_loader, dice_val_best, global_step_best\n",
    "    )\n",
    "    # wandb.log({'learning_rate': optimizer.param_groups[0]['lr']})\n",
    "    # wandb.log({'Best Dice': dice_val_best})\n",
    "    epoch += 1\n",
    "    #optimizer.param_groups[0]['lr'] = poly_lr(epoch, max_num_epochs, 0.005676 , 0.9)\n",
    "# model.load_state_dict(torch.load(os.path.join(model_dir, \"best_metric_luck_UNETr_prompt.pth\")))"
   ]
  },
  {
   "cell_type": "code",
   "execution_count": null,
   "metadata": {},
   "outputs": [],
   "source": []
  }
 ],
 "metadata": {
  "kernelspec": {
   "display_name": "clam",
   "language": "python",
   "name": "python3"
  },
  "language_info": {
   "codemirror_mode": {
    "name": "ipython",
    "version": 3
   },
   "file_extension": ".py",
   "mimetype": "text/x-python",
   "name": "python",
   "nbconvert_exporter": "python",
   "pygments_lexer": "ipython3",
   "version": "3.8.0"
  }
 },
 "nbformat": 4,
 "nbformat_minor": 2
}
