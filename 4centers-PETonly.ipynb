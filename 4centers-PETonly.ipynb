{
 "cells": [
  {
   "cell_type": "code",
   "execution_count": 1,
   "metadata": {},
   "outputs": [
    {
     "data": {
      "text/plain": [
       "1"
      ]
     },
     "execution_count": 1,
     "metadata": {},
     "output_type": "execute_result"
    }
   ],
   "source": [
    "import os\n",
    "os.environ[\"CUDA_DEVICE_ORDER\"] = \"PCI_BUS_ID\"\n",
    "os.environ[\"CUDA_VISIBLE_DEVICES\"] = \"1\" \n",
    "import torch\n",
    "torch.cuda.device_count()"
   ]
  },
  {
   "cell_type": "code",
   "execution_count": 2,
   "metadata": {},
   "outputs": [],
   "source": [
    "import os\n",
    "import shutil\n",
    "import tempfile\n",
    "\n",
    "import matplotlib.pyplot as plt\n",
    "import numpy as np\n",
    "from tqdm import tqdm\n",
    "from glob import glob\n",
    "# import wandb\n",
    "\n",
    "import monai\n",
    "from monai.losses import DiceCELoss, DiceFocalLoss, FocalLoss\n",
    "from monai.inferers import sliding_window_inference\n",
    "from monai import transforms\n",
    "\n",
    "from monai.transforms import (\n",
    "    AsDiscrete,\n",
    "    Compose,\n",
    "    CropForegroundd,\n",
    "    LoadImaged,\n",
    "    Orientationd,\n",
    "    RandFlipd,\n",
    "    RandCropByPosNegLabeld,\n",
    "    RandShiftIntensityd,\n",
    "    ScaleIntensityRanged,\n",
    "    Spacingd,\n",
    "    RandRotate90d,\n",
    "    MapTransform,\n",
    "    ScaleIntensityd,\n",
    "    #AddChanneld,\n",
    "    SpatialPadd,\n",
    "    CenterSpatialCropd,\n",
    "    EnsureChannelFirstd,\n",
    "    ConcatItemsd,\n",
    "    AdjustContrastd, \n",
    "    Rand3DElasticd,\n",
    "    HistogramNormalized,\n",
    "    NormalizeIntensityd,\n",
    "    Invertd,\n",
    "    SaveImage,\n",
    "\n",
    ")\n",
    "\n",
    "from monai.config import print_config\n",
    "from monai.metrics import DiceMetric\n",
    "from monai.networks.nets import SwinUNETR, UNETR, SegResNet\n",
    "\n",
    "from monai.data import (\n",
    "    DataLoader,\n",
    "    CacheDataset,\n",
    "    load_decathlon_datalist,\n",
    "    decollate_batch,\n",
    ")\n",
    "from monai import data\n",
    "\n",
    "\n",
    "from monai.utils import first, set_determinism\n",
    "from sklearn.model_selection import train_test_split\n",
    "import json\n",
    "\n",
    "\n",
    "import torch"
   ]
  },
  {
   "cell_type": "code",
   "execution_count": 3,
   "metadata": {},
   "outputs": [],
   "source": [
    "set_determinism(seed=1024)"
   ]
  },
  {
   "cell_type": "code",
   "execution_count": 4,
   "metadata": {},
   "outputs": [
    {
     "name": "stdout",
     "output_type": "stream",
     "text": [
      "JSON file created at /home/nada.saadi/MIS-FM/hecktor2022_cropped/4centers-pt-only.json\n"
     ]
    }
   ],
   "source": [
    "import os\n",
    "import json\n",
    "import random\n",
    "from glob import glob\n",
    "\n",
    "def generate_paths(patient_id):\n",
    "    base_dir = '/home/nada.saadi/MIS-FM/hecktor2022_cropped/data'\n",
    "    return {\n",
    "        'id': os.path.join(base_dir, patient_id),\n",
    "        'pt': os.path.join(base_dir, patient_id, f\"{patient_id}_pt.nii.gz\"),\n",
    "        'seg': os.path.join(base_dir, patient_id, f\"{patient_id}_gt.nii.gz\")\n",
    "    }\n",
    "    \n",
    "# Assign each data entry to a random fold\n",
    "all_data = []\n",
    "num_folds = 5\n",
    "centers = ['CHUM', 'CHUP', 'CHUS', 'CHUV']  # Centers to include\n",
    "\n",
    "for file_dir in sorted(glob('data/*')):\n",
    "    patient_id = file_dir.split('/')[-1]\n",
    "    # Check if the file belongs to one of the specified centers\n",
    "    if any(patient_id.startswith(center) for center in centers):\n",
    "        entry = generate_paths(patient_id)\n",
    "        entry['fold'] = random.randint(1, num_folds) - 1\n",
    "        all_data.append(entry)\n",
    "\n",
    "# Compile data into a JSON structure\n",
    "data_json = {\"training\": all_data}\n",
    "\n",
    "# Save to JSON file\n",
    "json_file_path = \"/home/nada.saadi/MIS-FM/hecktor2022_cropped/4centers-pt-only.json\"\n",
    "with open(json_file_path, 'w') as f:\n",
    "    json.dump(data_json, f, indent=4)\n",
    "\n",
    "print(f\"JSON file created at {json_file_path}\")"
   ]
  },
  {
   "cell_type": "code",
   "execution_count": 5,
   "metadata": {},
   "outputs": [],
   "source": [
    "data_dir = '/home/nada.saadi/MIS-FM/hecktor2022_cropped'\n",
    "json_dir = '/home/nada.saadi/MIS-FM/hecktor2022_cropped/4centers-pt-only.json'"
   ]
  },
  {
   "cell_type": "code",
   "execution_count": 6,
   "metadata": {},
   "outputs": [],
   "source": [
    "def datafold_read(datalist, basedir, fold=0, key=\"training\"):\n",
    "    with open(datalist) as f:\n",
    "        json_data = json.load(f)\n",
    "\n",
    "    json_data = json_data[key]\n",
    "\n",
    "    for d in json_data:\n",
    "        for k in d:\n",
    "            if isinstance(d[k], list):\n",
    "                d[k] = [os.path.join(basedir, iv) for iv in d[k]]\n",
    "            elif isinstance(d[k], str):\n",
    "                d[k] = os.path.join(basedir, d[k]) if len(d[k]) > 0 else d[k]\n",
    "\n",
    "    tr = []\n",
    "    val = []\n",
    "    for d in json_data:\n",
    "        if \"fold\" in d and d[\"fold\"] == fold:\n",
    "            val.append(d)\n",
    "        else:\n",
    "            tr.append(d)\n",
    "\n",
    "    return tr, val"
   ]
  },
  {
   "cell_type": "code",
   "execution_count": 7,
   "metadata": {},
   "outputs": [
    {
     "data": {
      "text/plain": [
       "(204, 49)"
      ]
     },
     "execution_count": 7,
     "metadata": {},
     "output_type": "execute_result"
    }
   ],
   "source": [
    "train_files, validation_files = datafold_read(datalist=json_dir, basedir=data_dir, fold=0)\n",
    "len(train_files), len(validation_files)"
   ]
  },
  {
   "cell_type": "code",
   "execution_count": 8,
   "metadata": {},
   "outputs": [],
   "source": [
    "class ClipCT(MapTransform):\n",
    "    \"\"\"\n",
    "    Convert labels to multi channels based on hecktor classes:\n",
    "    label 1 is the tumor\n",
    "    label 2 is the lymph node\n",
    "\n",
    "    \"\"\"\n",
    "\n",
    "    def __call__(self, data):\n",
    "        d = dict(data)\n",
    "        for key in self.keys:\n",
    "            if key == \"ct\":\n",
    "                d[key] = torch.clip(d[key], min=-200, max=200)\n",
    "            # elif key == \"pt\":\n",
    "            #     d[key] = torch.clip(d[key], d[key].min(), 5)\n",
    "        return d\n",
    "\n",
    "class MulPTFM(MapTransform):\n",
    "    \"\"\"\n",
    "    Mult PT and FM \n",
    "\n",
    "    \"\"\"\n",
    "\n",
    "    def __call__(self, data):\n",
    "        d = dict(data)\n",
    "\n",
    "        fm = d[\"ct\"] > 0\n",
    "        d[\"pt\"] = d[\"pt\"] * fm\n",
    "        return d\n",
    "\n",
    "class SelectClass(MapTransform):\n",
    "    \"\"\"\n",
    "    Select the class for which you want to fine tune the model \n",
    "\n",
    "    \"\"\"\n",
    "    # def __init__(self, keys, cls=1):\n",
    "    #     super(self).__init__(keys)\n",
    "    #     self.cls = cls\n",
    "\n",
    "    def __call__(self, data):\n",
    "        d = dict(data)\n",
    "        d[\"seg\"][d[\"seg\"] == 1] = 0\n",
    "        # d[\"seg\"][d[\"seg\"] == 2] = 1\n",
    "        \n",
    "        return d"
   ]
  },
  {
   "cell_type": "code",
   "execution_count": 9,
   "metadata": {},
   "outputs": [],
   "source": [
    "num_samples = 4\n",
    "\n",
    "train_transforms = Compose(\n",
    "    [\n",
    "        LoadImaged(keys=[\"pt\", \"seg\"], ensure_channel_first = True),\n",
    "        SpatialPadd(keys=[\"pt\",  \"seg\"], spatial_size=(200, 200, 310), method='end'),\n",
    "        Orientationd(keys=[\"pt\",  \"seg\"], axcodes=\"PLS\"),\n",
    "        #NormalizeIntensityd(keys=[\"pt\"]),\n",
    "        ClipCT(keys=[\"pt\"]),\n",
    "        ScaleIntensityd(keys=[\"pt\"], minv=0, maxv=1),\n",
    "        #MulPTFM(keys=[\"ct\",\"pt\"]),\n",
    "        #ConcatItemsd(keys=[\"pt\", \"ct\"], name=\"ctpt\"),\n",
    "        #NormalizeIntensityd(keys=[\"ctpt\"], channel_wise=True),\n",
    "        RandCropByPosNegLabeld(\n",
    "            keys=[\"pt\", \"seg\"],\n",
    "            label_key=\"seg\",\n",
    "            spatial_size=(96, 96, 96),\n",
    "            pos=1,\n",
    "            neg=1,\n",
    "            num_samples=num_samples,\n",
    "            image_key=\"pt\",\n",
    "            image_threshold=0,\n",
    "        ),\n",
    "        RandFlipd(\n",
    "            keys=[\"pt\", \"seg\"],\n",
    "            spatial_axis=[0],\n",
    "            prob=0.20,\n",
    "        ),\n",
    "        RandFlipd(\n",
    "            keys=[\"pt\", \"seg\"],\n",
    "            spatial_axis=[1],\n",
    "            prob=0.20,\n",
    "        ),\n",
    "        RandFlipd(\n",
    "            keys=[\"pt\", \"seg\"],\n",
    "            spatial_axis=[2],\n",
    "            prob=0.20,\n",
    "        ),\n",
    "        RandRotate90d(\n",
    "            keys=[\"pt\", \"seg\"],\n",
    "            prob=0.20,\n",
    "            max_k=3,\n",
    "        ),\n",
    "    ]\n",
    ")\n",
    "val_transforms = Compose(\n",
    "    [\n",
    "        LoadImaged(keys=[\"pt\", \"seg\"], ensure_channel_first = True),\n",
    "        SpatialPadd(keys=[\"pt\", \"seg\"], spatial_size=(200, 200, 310), method='end'),\n",
    "        Orientationd(keys=[\"pt\",  \"seg\"], axcodes=\"PLS\"),\n",
    "        #NormalizeIntensityd(keys=[\"pt\"]),\n",
    "        ClipCT(keys=[\"pt\"]),\n",
    "        ScaleIntensityd(keys=[\"pt\"], minv=0, maxv=1),\n",
    "        #MulPTFM(keys=[\"ct\",\"pt\"]),\n",
    "        #ConcatItemsd(keys=[\"pt\", \"ct\"], name=\"ctpt\"),\n",
    "    ]\n",
    ")"
   ]
  },
  {
   "cell_type": "code",
   "execution_count": 10,
   "metadata": {},
   "outputs": [],
   "source": [
    "train_ds = monai.data.Dataset(data=train_files, transform=train_transforms)\n",
    "\n",
    "train_loader = DataLoader(\n",
    "    train_ds,\n",
    "    batch_size=2,\n",
    "    shuffle=True,\n",
    "    num_workers=8,\n",
    "    pin_memory=torch.cuda.is_available(),\n",
    "    )\n",
    "\n",
    "val_ds = monai.data.Dataset(data=validation_files, transform=val_transforms)\n",
    "\n",
    "val_loader = DataLoader(\n",
    "    val_ds, \n",
    "    batch_size=2, \n",
    "    num_workers=8, \n",
    "    shuffle= False)"
   ]
  },
  {
   "cell_type": "code",
   "execution_count": 11,
   "metadata": {},
   "outputs": [
    {
     "name": "stderr",
     "output_type": "stream",
     "text": [
      "/home/nada.saadi/miniconda3/envs/clam/lib/python3.8/site-packages/monai/utils/deprecate_utils.py:221: FutureWarning: monai.networks.nets.unetr UNETR.__init__:pos_embed: Argument `pos_embed` has been deprecated since version 1.2. It will be removed in version 1.4. please use `proj_type` instead.\n",
      "  warn_deprecated(argname, msg, warning_category)\n"
     ]
    }
   ],
   "source": [
    "os.environ[\"CUDA_DEVICE_ORDER\"] = \"PCI_BUS_ID\"\n",
    "device = torch.device(\"cuda\" if torch.cuda.is_available() else \"cpu\")\n",
    "model = UNETR(\n",
    "    in_channels=1,\n",
    "    out_channels=3,\n",
    "    img_size=(96, 96, 96),\n",
    "    feature_size=16,\n",
    "    hidden_size=768,\n",
    "    mlp_dim=3072, \n",
    "    num_heads=12,\n",
    "    pos_embed=\"perceptron\",\n",
    "    norm_name=\"instance\",\n",
    "    res_block=True,\n",
    "    dropout_rate=0.0,\n",
    ").to(device)"
   ]
  },
  {
   "cell_type": "code",
   "execution_count": 12,
   "metadata": {},
   "outputs": [],
   "source": [
    "torch.backends.cudnn.benchmark = True\n",
    "def poly_lr(epoch, max_epochs, initial_lr, exponent=0.9):\n",
    "    return initial_lr * (1 - epoch / max_epochs)**exponent\n",
    "\n",
    "loss_function = DiceCELoss(to_onehot_y=True, softmax=True)\n",
    "optimizer = torch.optim.AdamW(model.parameters(), lr=1e-4, weight_decay=1e-5)"
   ]
  },
  {
   "cell_type": "code",
   "execution_count": 13,
   "metadata": {},
   "outputs": [
    {
     "name": "stderr",
     "output_type": "stream",
     "text": [
      "Training (X / X Steps) (loss=X.X):   0%|          | 0/102 [00:00<?, ?it/s]"
     ]
    },
    {
     "name": "stderr",
     "output_type": "stream",
     "text": [
      "Validate (0 / 10 Steps): 100%|██████████| 25/25 [00:32<00:00,  1.30s/it]0:54<00:00,  2.39it/s]\n",
      "Training (100 / 18000 Steps) (loss=1.19280):  99%|█████████▉| 101/102 [01:28<00:10, 10.51s/it]"
     ]
    },
    {
     "name": "stdout",
     "output_type": "stream",
     "text": [
      "Model Was Saved ! Current Best Avg. Dice: 0.16931475698947906 Current Avg. Dice: 0.16931475698947906 Current Avg. tumor Dice: 0.24550551176071167 Current Avg. lymph Dice: 0.06745274364948273\n"
     ]
    },
    {
     "name": "stderr",
     "output_type": "stream",
     "text": [
      "Training (101 / 18000 Steps) (loss=1.17297): 100%|██████████| 102/102 [01:28<00:00,  1.15it/s]\n",
      "Validate (102 / 10 Steps): 100%|██████████| 25/25 [00:30<00:00,  1.23s/it]4<00:01,  2.37it/s]\n",
      "Training (200 / 18000 Steps) (loss=1.09279):  97%|█████████▋| 99/102 [01:16<00:29,  9.91s/it]"
     ]
    },
    {
     "name": "stdout",
     "output_type": "stream",
     "text": [
      "Model Was Saved ! Current Best Avg. Dice: 0.22191010415554047 Current Avg. Dice: 0.22191010415554047 Current Avg. tumor Dice: 0.3943256139755249 Current Avg. lymph Dice: 0.0005249240202829242\n"
     ]
    },
    {
     "name": "stderr",
     "output_type": "stream",
     "text": [
      "Training (203 / 18000 Steps) (loss=1.08773): 100%|██████████| 102/102 [01:17<00:00,  1.31it/s]\n",
      "Validate (204 / 10 Steps): 100%|██████████| 25/25 [00:30<00:00,  1.23s/it]5<00:02,  2.37it/s]\n",
      "Training (300 / 18000 Steps) (loss=1.04147):  95%|█████████▌| 97/102 [01:15<00:48,  9.64s/it]"
     ]
    },
    {
     "name": "stdout",
     "output_type": "stream",
     "text": [
      "Model Was Not Saved ! Current Best Avg. Dice: 0.22191010415554047 Current Avg. Dice: 0.16347655653953552 Current Avg. tumor Dice: 0.30210956931114197 Current Avg. lymph Dice: 8.294545841636136e-05\n"
     ]
    },
    {
     "name": "stderr",
     "output_type": "stream",
     "text": [
      "Training (305 / 18000 Steps) (loss=1.02100): 100%|██████████| 102/102 [01:18<00:00,  1.31it/s]\n",
      "Validate (306 / 10 Steps): 100%|██████████| 25/25 [00:30<00:00,  1.22s/it]3<00:03,  2.37it/s]\n",
      "Training (400 / 18000 Steps) (loss=0.99001):  93%|█████████▎| 95/102 [01:15<01:08,  9.80s/it]"
     ]
    },
    {
     "name": "stdout",
     "output_type": "stream",
     "text": [
      "Model Was Saved ! Current Best Avg. Dice: 0.22717036306858063 Current Avg. Dice: 0.22717036306858063 Current Avg. tumor Dice: 0.40914830565452576 Current Avg. lymph Dice: 8.373308446607552e-06\n"
     ]
    },
    {
     "name": "stderr",
     "output_type": "stream",
     "text": [
      "Training (407 / 18000 Steps) (loss=0.98298): 100%|██████████| 102/102 [01:18<00:00,  1.31it/s]\n",
      "Validate (408 / 10 Steps): 100%|██████████| 25/25 [00:31<00:00,  1.25s/it]2<00:04,  2.37it/s]\n",
      "Training (500 / 18000 Steps) (loss=0.93862):  91%|█████████ | 93/102 [01:14<01:29,  9.98s/it]"
     ]
    },
    {
     "name": "stdout",
     "output_type": "stream",
     "text": [
      "Model Was Saved ! Current Best Avg. Dice: 0.2537497580051422 Current Avg. Dice: 0.2537497580051422 Current Avg. tumor Dice: 0.4463546574115753 Current Avg. lymph Dice: 8.122517101583071e-06\n"
     ]
    },
    {
     "name": "stderr",
     "output_type": "stream",
     "text": [
      "Training (509 / 18000 Steps) (loss=0.94212): 100%|██████████| 102/102 [01:18<00:00,  1.30it/s]\n",
      "Validate (510 / 10 Steps): 100%|██████████| 25/25 [00:30<00:00,  1.23s/it]1<00:05,  2.34it/s]\n",
      "Training (600 / 18000 Steps) (loss=0.90064):  89%|████████▉ | 91/102 [01:13<01:48,  9.88s/it]"
     ]
    },
    {
     "name": "stdout",
     "output_type": "stream",
     "text": [
      "Model Was Saved ! Current Best Avg. Dice: 0.2540590465068817 Current Avg. Dice: 0.2540590465068817 Current Avg. tumor Dice: 0.4518183469772339 Current Avg. lymph Dice: 0.0\n"
     ]
    },
    {
     "name": "stderr",
     "output_type": "stream",
     "text": [
      "Training (611 / 18000 Steps) (loss=0.89679): 100%|██████████| 102/102 [01:18<00:00,  1.31it/s]\n",
      "Validate (612 / 10 Steps): 100%|██████████| 25/25 [00:30<00:00,  1.23s/it]1<00:05,  2.37it/s]\n",
      "Training (700 / 18000 Steps) (loss=0.87992):  87%|████████▋ | 89/102 [01:12<02:05,  9.68s/it]"
     ]
    },
    {
     "name": "stdout",
     "output_type": "stream",
     "text": [
      "Model Was Not Saved ! Current Best Avg. Dice: 0.2540590465068817 Current Avg. Dice: 0.2459554821252823 Current Avg. tumor Dice: 0.43904054164886475 Current Avg. lymph Dice: 0.0\n"
     ]
    },
    {
     "name": "stderr",
     "output_type": "stream",
     "text": [
      "Training (713 / 18000 Steps) (loss=0.87517): 100%|██████████| 102/102 [01:17<00:00,  1.31it/s]\n",
      "Validate (714 / 10 Steps): 100%|██████████| 25/25 [00:30<00:00,  1.22s/it]1<00:07,  2.27it/s]\n",
      "Training (800 / 18000 Steps) (loss=0.84207):  85%|████████▌ | 87/102 [01:12<02:27,  9.82s/it]"
     ]
    },
    {
     "name": "stdout",
     "output_type": "stream",
     "text": [
      "Model Was Saved ! Current Best Avg. Dice: 0.2626919448375702 Current Avg. Dice: 0.2626919448375702 Current Avg. tumor Dice: 0.4643477499485016 Current Avg. lymph Dice: 7.136230578907998e-06\n"
     ]
    },
    {
     "name": "stderr",
     "output_type": "stream",
     "text": [
      "Training (815 / 18000 Steps) (loss=0.83133): 100%|██████████| 102/102 [01:19<00:00,  1.29it/s]\n",
      "Validate (816 / 10 Steps): 100%|██████████| 25/25 [00:30<00:00,  1.24s/it]9<00:07,  2.35it/s]\n",
      "Training (900 / 18000 Steps) (loss=0.83554):  83%|████████▎ | 85/102 [01:10<02:45,  9.71s/it]"
     ]
    },
    {
     "name": "stdout",
     "output_type": "stream",
     "text": [
      "Model Was Not Saved ! Current Best Avg. Dice: 0.2626919448375702 Current Avg. Dice: 0.2514706552028656 Current Avg. tumor Dice: 0.4492839574813843 Current Avg. lymph Dice: 1.498750407336047e-06\n"
     ]
    },
    {
     "name": "stderr",
     "output_type": "stream",
     "text": [
      "Training (917 / 18000 Steps) (loss=0.81464): 100%|██████████| 102/102 [01:17<00:00,  1.31it/s]\n",
      "Validate (918 / 10 Steps): 100%|██████████| 25/25 [00:30<00:00,  1.23s/it]39<00:08,  2.35it/s]\n",
      "Training (1000 / 18000 Steps) (loss=0.81287):  81%|████████▏ | 83/102 [01:10<03:08,  9.90s/it]"
     ]
    },
    {
     "name": "stdout",
     "output_type": "stream",
     "text": [
      "Model Was Saved ! Current Best Avg. Dice: 0.2731228470802307 Current Avg. Dice: 0.2731228470802307 Current Avg. tumor Dice: 0.4796397089958191 Current Avg. lymph Dice: 3.102116170339286e-05\n"
     ]
    },
    {
     "name": "stderr",
     "output_type": "stream",
     "text": [
      "Training (1019 / 18000 Steps) (loss=0.78324): 100%|██████████| 102/102 [01:18<00:00,  1.29it/s]\n",
      "Validate (1020 / 10 Steps): 100%|██████████| 25/25 [00:31<00:00,  1.25s/it]7<00:09,  2.27it/s]\n",
      "Training (1100 / 18000 Steps) (loss=0.79024):  79%|███████▉  | 81/102 [01:09<03:26,  9.83s/it]"
     ]
    },
    {
     "name": "stdout",
     "output_type": "stream",
     "text": [
      "Model Was Not Saved ! Current Best Avg. Dice: 0.2731228470802307 Current Avg. Dice: 0.2674417197704315 Current Avg. tumor Dice: 0.4738520383834839 Current Avg. lymph Dice: 0.00017184803436975926\n"
     ]
    },
    {
     "name": "stderr",
     "output_type": "stream",
     "text": [
      "Training (1121 / 18000 Steps) (loss=0.75456): 100%|██████████| 102/102 [01:18<00:00,  1.31it/s]\n",
      "Validate (1122 / 10 Steps): 100%|██████████| 25/25 [00:30<00:00,  1.22s/it]7<00:10,  2.30it/s]\n",
      "Training (1200 / 18000 Steps) (loss=0.77993):  77%|███████▋  | 79/102 [01:08<03:46,  9.83s/it]"
     ]
    },
    {
     "name": "stdout",
     "output_type": "stream",
     "text": [
      "Model Was Saved ! Current Best Avg. Dice: 0.3070593774318695 Current Avg. Dice: 0.3070593774318695 Current Avg. tumor Dice: 0.4837568998336792 Current Avg. lymph Dice: 0.07079635560512543\n"
     ]
    },
    {
     "name": "stderr",
     "output_type": "stream",
     "text": [
      "Training (1223 / 18000 Steps) (loss=0.75698): 100%|██████████| 102/102 [01:18<00:00,  1.30it/s]\n",
      "Validate (1224 / 10 Steps): 100%|██████████| 25/25 [00:30<00:00,  1.22s/it]6<00:10,  2.36it/s]\n",
      "Training (1300 / 18000 Steps) (loss=0.75211):  75%|███████▌  | 77/102 [01:07<04:00,  9.61s/it]"
     ]
    },
    {
     "name": "stdout",
     "output_type": "stream",
     "text": [
      "Model Was Not Saved ! Current Best Avg. Dice: 0.3070593774318695 Current Avg. Dice: 0.2498638927936554 Current Avg. tumor Dice: 0.44465816020965576 Current Avg. lymph Dice: 0.0009485307382419705\n"
     ]
    },
    {
     "name": "stderr",
     "output_type": "stream",
     "text": [
      "Training (1325 / 18000 Steps) (loss=0.79974): 100%|██████████| 102/102 [01:18<00:00,  1.31it/s]\n",
      "Validate (1326 / 10 Steps): 100%|██████████| 25/25 [00:31<00:00,  1.24s/it]5<00:12,  2.30it/s]\n",
      "Training (1400 / 18000 Steps) (loss=0.67150):  74%|███████▎  | 75/102 [01:07<04:30, 10.00s/it]"
     ]
    },
    {
     "name": "stdout",
     "output_type": "stream",
     "text": [
      "Model Was Saved ! Current Best Avg. Dice: 0.3352909982204437 Current Avg. Dice: 0.3352909982204437 Current Avg. tumor Dice: 0.4735730290412903 Current Avg. lymph Dice: 0.1542794406414032\n"
     ]
    },
    {
     "name": "stderr",
     "output_type": "stream",
     "text": [
      "Training (1427 / 18000 Steps) (loss=0.67866): 100%|██████████| 102/102 [01:19<00:00,  1.28it/s]\n",
      "Validate (1428 / 10 Steps): 100%|██████████| 25/25 [00:30<00:00,  1.24s/it]4<00:13,  2.28it/s]\n",
      "Training (1500 / 18000 Steps) (loss=0.74013):  72%|███████▏  | 73/102 [01:05<04:49,  9.98s/it]"
     ]
    },
    {
     "name": "stdout",
     "output_type": "stream",
     "text": [
      "Model Was Saved ! Current Best Avg. Dice: 0.3431863486766815 Current Avg. Dice: 0.3431863486766815 Current Avg. tumor Dice: 0.5093069076538086 Current Avg. lymph Dice: 0.1204921081662178\n"
     ]
    },
    {
     "name": "stderr",
     "output_type": "stream",
     "text": [
      "Training (1529 / 18000 Steps) (loss=0.76030): 100%|██████████| 102/102 [01:18<00:00,  1.30it/s]\n",
      "Validate (1530 / 10 Steps): 100%|██████████| 25/25 [00:31<00:00,  1.25s/it]2<00:13,  2.33it/s]\n",
      "Training (1600 / 18000 Steps) (loss=0.67910):  70%|██████▉   | 71/102 [01:04<05:03,  9.78s/it]"
     ]
    },
    {
     "name": "stdout",
     "output_type": "stream",
     "text": [
      "Model Was Not Saved ! Current Best Avg. Dice: 0.3431863486766815 Current Avg. Dice: 0.29187721014022827 Current Avg. tumor Dice: 0.4782663881778717 Current Avg. lymph Dice: 0.05002192407846451\n"
     ]
    },
    {
     "name": "stderr",
     "output_type": "stream",
     "text": [
      "Training (1631 / 18000 Steps) (loss=0.69861): 100%|██████████| 102/102 [01:17<00:00,  1.31it/s]\n",
      "Validate (1632 / 10 Steps): 100%|██████████| 25/25 [00:31<00:00,  1.25s/it]2<00:14,  2.36it/s]\n",
      "Training (1700 / 18000 Steps) (loss=0.71018):  68%|██████▊   | 69/102 [01:04<05:29,  9.98s/it]"
     ]
    },
    {
     "name": "stdout",
     "output_type": "stream",
     "text": [
      "Model Was Saved ! Current Best Avg. Dice: 0.39507564902305603 Current Avg. Dice: 0.39507564902305603 Current Avg. tumor Dice: 0.5178389549255371 Current Avg. lymph Dice: 0.22174382209777832\n"
     ]
    },
    {
     "name": "stderr",
     "output_type": "stream",
     "text": [
      "Training (1733 / 18000 Steps) (loss=0.71743): 100%|██████████| 102/102 [01:18<00:00,  1.30it/s]\n",
      "Validate (1734 / 10 Steps): 100%|██████████| 25/25 [00:30<00:00,  1.23s/it]1<00:15,  2.35it/s]\n",
      "Training (1800 / 18000 Steps) (loss=0.68545):  66%|██████▌   | 67/102 [01:03<05:45,  9.87s/it]"
     ]
    },
    {
     "name": "stdout",
     "output_type": "stream",
     "text": [
      "Model Was Saved ! Current Best Avg. Dice: 0.4141051173210144 Current Avg. Dice: 0.4141051173210144 Current Avg. tumor Dice: 0.5198426246643066 Current Avg. lymph Dice: 0.2615613639354706\n"
     ]
    },
    {
     "name": "stderr",
     "output_type": "stream",
     "text": [
      "Training (1835 / 18000 Steps) (loss=0.65022): 100%|██████████| 102/102 [01:18<00:00,  1.31it/s]\n",
      "Validate (1836 / 10 Steps): 100%|██████████| 25/25 [00:31<00:00,  1.26s/it]0<00:16,  2.33it/s]\n",
      "Training (1900 / 18000 Steps) (loss=0.70507):  64%|██████▎   | 65/102 [01:03<06:14, 10.12s/it]"
     ]
    },
    {
     "name": "stdout",
     "output_type": "stream",
     "text": [
      "Model Was Saved ! Current Best Avg. Dice: 0.48578646779060364 Current Avg. Dice: 0.48578646779060364 Current Avg. tumor Dice: 0.5668282508850098 Current Avg. lymph Dice: 0.3663002550601959\n"
     ]
    },
    {
     "name": "stderr",
     "output_type": "stream",
     "text": [
      "Training (1937 / 18000 Steps) (loss=0.65282): 100%|██████████| 102/102 [01:19<00:00,  1.29it/s]\n",
      "Validate (1938 / 10 Steps): 100%|██████████| 25/25 [00:30<00:00,  1.23s/it]9<00:17,  2.32it/s]\n",
      "Training (2000 / 18000 Steps) (loss=0.68828):  62%|██████▏   | 63/102 [01:01<06:26,  9.91s/it]"
     ]
    },
    {
     "name": "stdout",
     "output_type": "stream",
     "text": [
      "Model Was Saved ! Current Best Avg. Dice: 0.5051189064979553 Current Avg. Dice: 0.5051189064979553 Current Avg. tumor Dice: 0.5722173452377319 Current Avg. lymph Dice: 0.4041416645050049\n"
     ]
    },
    {
     "name": "stderr",
     "output_type": "stream",
     "text": [
      "Training (2039 / 18000 Steps) (loss=0.64892): 100%|██████████| 102/102 [01:18<00:00,  1.30it/s]\n",
      "Validate (2040 / 10 Steps): 100%|██████████| 25/25 [00:31<00:00,  1.25s/it]9<00:18,  2.29it/s]\n",
      "Training (2100 / 18000 Steps) (loss=0.66930):  60%|█████▉    | 61/102 [01:00<06:41,  9.80s/it]"
     ]
    },
    {
     "name": "stdout",
     "output_type": "stream",
     "text": [
      "Model Was Not Saved ! Current Best Avg. Dice: 0.5051189064979553 Current Avg. Dice: 0.4518349766731262 Current Avg. tumor Dice: 0.5308115482330322 Current Avg. lymph Dice: 0.34251490235328674\n"
     ]
    },
    {
     "name": "stderr",
     "output_type": "stream",
     "text": [
      "Training (2141 / 18000 Steps) (loss=0.66673): 100%|██████████| 102/102 [01:17<00:00,  1.31it/s]\n",
      "Validate (2142 / 10 Steps): 100%|██████████| 25/25 [00:31<00:00,  1.24s/it]7<00:18,  2.32it/s]\n",
      "Training (2200 / 18000 Steps) (loss=0.58463):  58%|█████▊    | 59/102 [00:59<07:00,  9.77s/it]"
     ]
    },
    {
     "name": "stdout",
     "output_type": "stream",
     "text": [
      "Model Was Not Saved ! Current Best Avg. Dice: 0.5051189064979553 Current Avg. Dice: 0.4623768925666809 Current Avg. tumor Dice: 0.5393629670143127 Current Avg. lymph Dice: 0.3602198362350464\n"
     ]
    },
    {
     "name": "stderr",
     "output_type": "stream",
     "text": [
      "Training (2243 / 18000 Steps) (loss=0.61499): 100%|██████████| 102/102 [01:17<00:00,  1.31it/s]\n",
      "Validate (2244 / 10 Steps): 100%|██████████| 25/25 [00:30<00:00,  1.23s/it]7<00:19,  2.34it/s]\n",
      "Training (2300 / 18000 Steps) (loss=0.57402):  56%|█████▌    | 57/102 [00:58<07:14,  9.65s/it]"
     ]
    },
    {
     "name": "stdout",
     "output_type": "stream",
     "text": [
      "Model Was Not Saved ! Current Best Avg. Dice: 0.5051189064979553 Current Avg. Dice: 0.5036463737487793 Current Avg. tumor Dice: 0.566550612449646 Current Avg. lymph Dice: 0.4166724383831024\n"
     ]
    },
    {
     "name": "stderr",
     "output_type": "stream",
     "text": [
      "Training (2345 / 18000 Steps) (loss=0.60982): 100%|██████████| 102/102 [01:17<00:00,  1.31it/s]\n",
      "Validate (2346 / 10 Steps): 100%|██████████| 25/25 [00:31<00:00,  1.24s/it]6<00:20,  2.30it/s]\n",
      "Training (2400 / 18000 Steps) (loss=0.57844):  54%|█████▍    | 55/102 [00:58<07:48,  9.98s/it]"
     ]
    },
    {
     "name": "stdout",
     "output_type": "stream",
     "text": [
      "Model Was Saved ! Current Best Avg. Dice: 0.5337625741958618 Current Avg. Dice: 0.5337625741958618 Current Avg. tumor Dice: 0.60573410987854 Current Avg. lymph Dice: 0.4285731017589569\n"
     ]
    },
    {
     "name": "stderr",
     "output_type": "stream",
     "text": [
      "Training (2447 / 18000 Steps) (loss=0.67010): 100%|██████████| 102/102 [01:18<00:00,  1.30it/s]\n",
      "Validate (2448 / 10 Steps): 100%|██████████| 25/25 [00:30<00:00,  1.23s/it]6<00:21,  2.35it/s]\n",
      "Training (2500 / 18000 Steps) (loss=0.62310):  52%|█████▏    | 53/102 [00:57<07:55,  9.70s/it]"
     ]
    },
    {
     "name": "stdout",
     "output_type": "stream",
     "text": [
      "Model Was Not Saved ! Current Best Avg. Dice: 0.5337625741958618 Current Avg. Dice: 0.5279658436775208 Current Avg. tumor Dice: 0.5964996218681335 Current Avg. lymph Dice: 0.4268670380115509\n"
     ]
    },
    {
     "name": "stderr",
     "output_type": "stream",
     "text": [
      "Training (2549 / 18000 Steps) (loss=0.41827): 100%|██████████| 102/102 [01:18<00:00,  1.30it/s]\n",
      "Validate (2550 / 10 Steps): 100%|██████████| 25/25 [00:31<00:00,  1.24s/it]4<00:23,  2.22it/s]\n",
      "Training (2600 / 18000 Steps) (loss=0.65533):  50%|█████     | 51/102 [00:56<08:18,  9.78s/it]"
     ]
    },
    {
     "name": "stdout",
     "output_type": "stream",
     "text": [
      "Model Was Not Saved ! Current Best Avg. Dice: 0.5337625741958618 Current Avg. Dice: 0.5083393454551697 Current Avg. tumor Dice: 0.5951235294342041 Current Avg. lymph Dice: 0.38277366757392883\n"
     ]
    },
    {
     "name": "stderr",
     "output_type": "stream",
     "text": [
      "Training (2651 / 18000 Steps) (loss=0.59161): 100%|██████████| 102/102 [01:18<00:00,  1.30it/s]\n",
      "Validate (2652 / 10 Steps): 100%|██████████| 25/25 [00:31<00:00,  1.24s/it]3<00:23,  2.31it/s]\n",
      "Training (2700 / 18000 Steps) (loss=0.62148):  48%|████▊     | 49/102 [00:54<08:36,  9.75s/it]"
     ]
    },
    {
     "name": "stdout",
     "output_type": "stream",
     "text": [
      "Model Was Not Saved ! Current Best Avg. Dice: 0.5337625741958618 Current Avg. Dice: 0.5002438426017761 Current Avg. tumor Dice: 0.5896889567375183 Current Avg. lymph Dice: 0.38031530380249023\n"
     ]
    },
    {
     "name": "stderr",
     "output_type": "stream",
     "text": [
      "Training (2753 / 18000 Steps) (loss=0.50562): 100%|██████████| 102/102 [01:17<00:00,  1.31it/s]\n",
      "Validate (2754 / 10 Steps): 100%|██████████| 25/25 [00:30<00:00,  1.23s/it]3<00:23,  2.37it/s]\n",
      "Training (2800 / 18000 Steps) (loss=0.53242):  46%|████▌     | 47/102 [00:54<08:49,  9.63s/it]"
     ]
    },
    {
     "name": "stdout",
     "output_type": "stream",
     "text": [
      "Model Was Not Saved ! Current Best Avg. Dice: 0.5337625741958618 Current Avg. Dice: 0.5050516724586487 Current Avg. tumor Dice: 0.5811092853546143 Current Avg. lymph Dice: 0.4067038595676422\n"
     ]
    },
    {
     "name": "stderr",
     "output_type": "stream",
     "text": [
      "Training (2855 / 18000 Steps) (loss=0.56152): 100%|██████████| 102/102 [01:17<00:00,  1.31it/s]\n",
      "Validate (2856 / 10 Steps): 100%|██████████| 25/25 [00:30<00:00,  1.24s/it]2<00:24,  2.36it/s]\n",
      "Training (2900 / 18000 Steps) (loss=0.60468):  44%|████▍     | 45/102 [00:53<09:14,  9.73s/it]"
     ]
    },
    {
     "name": "stdout",
     "output_type": "stream",
     "text": [
      "Model Was Not Saved ! Current Best Avg. Dice: 0.5337625741958618 Current Avg. Dice: 0.4347996711730957 Current Avg. tumor Dice: 0.5490152835845947 Current Avg. lymph Dice: 0.29284244775772095\n"
     ]
    },
    {
     "name": "stderr",
     "output_type": "stream",
     "text": [
      "Training (2957 / 18000 Steps) (loss=0.59679): 100%|██████████| 102/102 [01:17<00:00,  1.32it/s]\n",
      "Validate (2958 / 10 Steps): 100%|██████████| 25/25 [00:30<00:00,  1.23s/it]1<00:25,  2.36it/s]\n",
      "Training (3000 / 18000 Steps) (loss=0.55189):  42%|████▏     | 43/102 [00:51<09:28,  9.63s/it]"
     ]
    },
    {
     "name": "stdout",
     "output_type": "stream",
     "text": [
      "Model Was Not Saved ! Current Best Avg. Dice: 0.5337625741958618 Current Avg. Dice: 0.4709387719631195 Current Avg. tumor Dice: 0.5534298419952393 Current Avg. lymph Dice: 0.36597946286201477\n"
     ]
    },
    {
     "name": "stderr",
     "output_type": "stream",
     "text": [
      "Training (3059 / 18000 Steps) (loss=0.57634): 100%|██████████| 102/102 [01:17<00:00,  1.32it/s]\n",
      "Validate (3060 / 10 Steps): 100%|██████████| 25/25 [00:30<00:00,  1.22s/it]0<00:26,  2.33it/s]\n",
      "Training (3100 / 18000 Steps) (loss=0.63275):  40%|████      | 41/102 [00:51<09:44,  9.57s/it]"
     ]
    },
    {
     "name": "stdout",
     "output_type": "stream",
     "text": [
      "Model Was Not Saved ! Current Best Avg. Dice: 0.5337625741958618 Current Avg. Dice: 0.5309380888938904 Current Avg. tumor Dice: 0.6143906116485596 Current Avg. lymph Dice: 0.42085951566696167\n"
     ]
    },
    {
     "name": "stderr",
     "output_type": "stream",
     "text": [
      "Training (3161 / 18000 Steps) (loss=0.64131): 100%|██████████| 102/102 [01:17<00:00,  1.31it/s]\n",
      "Validate (3162 / 10 Steps): 100%|██████████| 25/25 [00:30<00:00,  1.23s/it]9<00:27,  2.35it/s]\n",
      "Training (3200 / 18000 Steps) (loss=0.66992):  38%|███▊      | 39/102 [00:50<10:07,  9.65s/it]"
     ]
    },
    {
     "name": "stdout",
     "output_type": "stream",
     "text": [
      "Model Was Not Saved ! Current Best Avg. Dice: 0.5337625741958618 Current Avg. Dice: 0.5085405111312866 Current Avg. tumor Dice: 0.5853854417800903 Current Avg. lymph Dice: 0.40513256192207336\n"
     ]
    },
    {
     "name": "stderr",
     "output_type": "stream",
     "text": [
      "Training (3263 / 18000 Steps) (loss=0.52168): 100%|██████████| 102/102 [01:17<00:00,  1.31it/s]\n",
      "Validate (3264 / 10 Steps): 100%|██████████| 25/25 [00:31<00:00,  1.24s/it]9<00:28,  2.35it/s]\n",
      "Training (3300 / 18000 Steps) (loss=0.48660):  36%|███▋      | 37/102 [00:50<10:33,  9.74s/it]"
     ]
    },
    {
     "name": "stdout",
     "output_type": "stream",
     "text": [
      "Model Was Not Saved ! Current Best Avg. Dice: 0.5337625741958618 Current Avg. Dice: 0.5237417221069336 Current Avg. tumor Dice: 0.6047426462173462 Current Avg. lymph Dice: 0.4187352955341339\n"
     ]
    },
    {
     "name": "stderr",
     "output_type": "stream",
     "text": [
      "Training (3365 / 18000 Steps) (loss=0.47073): 100%|██████████| 102/102 [01:18<00:00,  1.30it/s]\n",
      "Validate (3366 / 10 Steps): 100%|██████████| 25/25 [00:31<00:00,  1.25s/it]8<00:29,  2.32it/s]\n",
      "Training (3400 / 18000 Steps) (loss=0.62481):  34%|███▍      | 35/102 [00:49<10:57,  9.81s/it]"
     ]
    },
    {
     "name": "stdout",
     "output_type": "stream",
     "text": [
      "Model Was Not Saved ! Current Best Avg. Dice: 0.5337625741958618 Current Avg. Dice: 0.4952312111854553 Current Avg. tumor Dice: 0.5660416483879089 Current Avg. lymph Dice: 0.40289247035980225\n"
     ]
    },
    {
     "name": "stderr",
     "output_type": "stream",
     "text": [
      "Training (3467 / 18000 Steps) (loss=0.61631): 100%|██████████| 102/102 [01:18<00:00,  1.31it/s]\n",
      "Validate (3468 / 10 Steps): 100%|██████████| 25/25 [00:31<00:00,  1.26s/it]7<00:30,  2.33it/s]\n",
      "Training (3500 / 18000 Steps) (loss=0.56499):  32%|███▏      | 33/102 [00:49<11:23,  9.90s/it]"
     ]
    },
    {
     "name": "stdout",
     "output_type": "stream",
     "text": [
      "Model Was Not Saved ! Current Best Avg. Dice: 0.5337625741958618 Current Avg. Dice: 0.5288342237472534 Current Avg. tumor Dice: 0.5901286005973816 Current Avg. lymph Dice: 0.45180994272232056\n"
     ]
    },
    {
     "name": "stderr",
     "output_type": "stream",
     "text": [
      "Training (3569 / 18000 Steps) (loss=0.62806): 100%|██████████| 102/102 [01:18<00:00,  1.30it/s]\n",
      "Validate (3570 / 10 Steps): 100%|██████████| 25/25 [00:31<00:00,  1.25s/it]5<00:30,  2.34it/s]\n",
      "Training (3600 / 18000 Steps) (loss=0.66937):  30%|███       | 31/102 [00:47<11:36,  9.81s/it]"
     ]
    },
    {
     "name": "stdout",
     "output_type": "stream",
     "text": [
      "Model Was Not Saved ! Current Best Avg. Dice: 0.5337625741958618 Current Avg. Dice: 0.5143181681632996 Current Avg. tumor Dice: 0.6027248501777649 Current Avg. lymph Dice: 0.40406960248947144\n"
     ]
    },
    {
     "name": "stderr",
     "output_type": "stream",
     "text": [
      "Training (3671 / 18000 Steps) (loss=0.54521): 100%|██████████| 102/102 [01:17<00:00,  1.31it/s]\n",
      "Validate (3672 / 10 Steps): 100%|██████████| 25/25 [00:31<00:00,  1.25s/it]4<00:31,  2.33it/s]\n",
      "Training (3700 / 18000 Steps) (loss=0.46744):  28%|██▊       | 29/102 [00:46<11:57,  9.83s/it]"
     ]
    },
    {
     "name": "stdout",
     "output_type": "stream",
     "text": [
      "Model Was Not Saved ! Current Best Avg. Dice: 0.5337625741958618 Current Avg. Dice: 0.49809694290161133 Current Avg. tumor Dice: 0.6014056205749512 Current Avg. lymph Dice: 0.36415985226631165\n"
     ]
    },
    {
     "name": "stderr",
     "output_type": "stream",
     "text": [
      "Training (3773 / 18000 Steps) (loss=0.47399): 100%|██████████| 102/102 [01:17<00:00,  1.32it/s]\n",
      "Validate (3774 / 10 Steps): 100%|██████████| 25/25 [00:30<00:00,  1.23s/it]4<00:32,  2.35it/s]\n",
      "Training (3800 / 18000 Steps) (loss=0.64476):  26%|██▋       | 27/102 [00:46<12:21,  9.88s/it]"
     ]
    },
    {
     "name": "stdout",
     "output_type": "stream",
     "text": [
      "Model Was Saved ! Current Best Avg. Dice: 0.5594013929367065 Current Avg. Dice: 0.5594013929367065 Current Avg. tumor Dice: 0.6420707702636719 Current Avg. lymph Dice: 0.4485398232936859\n"
     ]
    },
    {
     "name": "stderr",
     "output_type": "stream",
     "text": [
      "Training (3875 / 18000 Steps) (loss=0.44009): 100%|██████████| 102/102 [01:18<00:00,  1.30it/s]\n",
      "Validate (3876 / 10 Steps): 100%|██████████| 25/25 [00:30<00:00,  1.23s/it]3<00:33,  2.35it/s]\n",
      "Training (3900 / 18000 Steps) (loss=0.50274):  25%|██▍       | 25/102 [00:44<12:23,  9.65s/it]"
     ]
    },
    {
     "name": "stdout",
     "output_type": "stream",
     "text": [
      "Model Was Not Saved ! Current Best Avg. Dice: 0.5594013929367065 Current Avg. Dice: 0.5586323142051697 Current Avg. tumor Dice: 0.6397849321365356 Current Avg. lymph Dice: 0.4532487988471985\n"
     ]
    },
    {
     "name": "stderr",
     "output_type": "stream",
     "text": [
      "Training (3977 / 18000 Steps) (loss=0.67198): 100%|██████████| 102/102 [01:17<00:00,  1.31it/s]\n",
      "Validate (3978 / 10 Steps): 100%|██████████| 25/25 [00:30<00:00,  1.22s/it]3<00:34,  2.35it/s]\n",
      "Training (4000 / 18000 Steps) (loss=0.49001):  23%|██▎       | 23/102 [00:43<12:36,  9.58s/it]"
     ]
    },
    {
     "name": "stdout",
     "output_type": "stream",
     "text": [
      "Model Was Not Saved ! Current Best Avg. Dice: 0.5594013929367065 Current Avg. Dice: 0.5347310900688171 Current Avg. tumor Dice: 0.6198487281799316 Current Avg. lymph Dice: 0.4253529906272888\n"
     ]
    },
    {
     "name": "stderr",
     "output_type": "stream",
     "text": [
      "Training (4079 / 18000 Steps) (loss=0.53855): 100%|██████████| 102/102 [01:17<00:00,  1.31it/s]\n",
      "Validate (4080 / 10 Steps): 100%|██████████| 25/25 [00:30<00:00,  1.23s/it]1<00:34,  2.35it/s]\n",
      "Training (4100 / 18000 Steps) (loss=0.50216):  21%|██        | 21/102 [00:42<13:00,  9.64s/it]"
     ]
    },
    {
     "name": "stdout",
     "output_type": "stream",
     "text": [
      "Model Was Not Saved ! Current Best Avg. Dice: 0.5594013929367065 Current Avg. Dice: 0.49336203932762146 Current Avg. tumor Dice: 0.582828938961029 Current Avg. lymph Dice: 0.3787715435028076\n"
     ]
    },
    {
     "name": "stderr",
     "output_type": "stream",
     "text": [
      "Training (4181 / 18000 Steps) (loss=0.47653): 100%|██████████| 102/102 [01:17<00:00,  1.31it/s]\n",
      "Validate (4182 / 10 Steps): 100%|██████████| 25/25 [00:30<00:00,  1.21s/it]1<00:35,  2.36it/s]\n",
      "Training (4200 / 18000 Steps) (loss=0.52332):  19%|█▊        | 19/102 [00:41<13:12,  9.55s/it]"
     ]
    },
    {
     "name": "stdout",
     "output_type": "stream",
     "text": [
      "Model Was Not Saved ! Current Best Avg. Dice: 0.5594013929367065 Current Avg. Dice: 0.5112292170524597 Current Avg. tumor Dice: 0.6164010763168335 Current Avg. lymph Dice: 0.3791863024234772\n"
     ]
    },
    {
     "name": "stderr",
     "output_type": "stream",
     "text": [
      "Training (4283 / 18000 Steps) (loss=0.59736): 100%|██████████| 102/102 [01:17<00:00,  1.32it/s]\n",
      "Validate (4284 / 10 Steps): 100%|██████████| 25/25 [00:30<00:00,  1.22s/it]0<00:37,  2.32it/s]\n",
      "Training (4300 / 18000 Steps) (loss=0.66024):  17%|█▋        | 17/102 [00:41<13:39,  9.65s/it]"
     ]
    },
    {
     "name": "stdout",
     "output_type": "stream",
     "text": [
      "Model Was Not Saved ! Current Best Avg. Dice: 0.5594013929367065 Current Avg. Dice: 0.5283064842224121 Current Avg. tumor Dice: 0.6144723892211914 Current Avg. lymph Dice: 0.4163632392883301\n"
     ]
    },
    {
     "name": "stderr",
     "output_type": "stream",
     "text": [
      "Training (4385 / 18000 Steps) (loss=0.52444): 100%|██████████| 102/102 [01:18<00:00,  1.30it/s]\n",
      "Validate (4386 / 10 Steps): 100%|██████████| 25/25 [00:30<00:00,  1.24s/it]9<00:38,  2.30it/s]\n",
      "Training (4400 / 18000 Steps) (loss=0.45902):  15%|█▍        | 15/102 [00:40<14:10,  9.77s/it]"
     ]
    },
    {
     "name": "stdout",
     "output_type": "stream",
     "text": [
      "Model Was Not Saved ! Current Best Avg. Dice: 0.5594013929367065 Current Avg. Dice: 0.46588245034217834 Current Avg. tumor Dice: 0.5551018118858337 Current Avg. lymph Dice: 0.3509540855884552\n"
     ]
    },
    {
     "name": "stderr",
     "output_type": "stream",
     "text": [
      "Training (4487 / 18000 Steps) (loss=0.68955): 100%|██████████| 102/102 [01:17<00:00,  1.32it/s]\n",
      "Validate (4488 / 10 Steps): 100%|██████████| 25/25 [00:31<00:00,  1.27s/it]8<00:39,  2.25it/s]\n",
      "Training (4500 / 18000 Steps) (loss=0.53070):  13%|█▎        | 13/102 [00:40<14:55, 10.06s/it]"
     ]
    },
    {
     "name": "stdout",
     "output_type": "stream",
     "text": [
      "Model Was Not Saved ! Current Best Avg. Dice: 0.5594013929367065 Current Avg. Dice: 0.5457969307899475 Current Avg. tumor Dice: 0.6113260984420776 Current Avg. lymph Dice: 0.46237531304359436\n"
     ]
    },
    {
     "name": "stderr",
     "output_type": "stream",
     "text": [
      "Training (4589 / 18000 Steps) (loss=0.45371): 100%|██████████| 102/102 [01:18<00:00,  1.30it/s]\n",
      "Validate (4590 / 10 Steps): 100%|██████████| 25/25 [00:31<00:00,  1.25s/it]7<00:42,  2.17it/s]\n",
      "Training (4600 / 18000 Steps) (loss=0.59402):  11%|█         | 11/102 [00:38<15:09,  9.99s/it]"
     ]
    },
    {
     "name": "stdout",
     "output_type": "stream",
     "text": [
      "Model Was Not Saved ! Current Best Avg. Dice: 0.5594013929367065 Current Avg. Dice: 0.5496345162391663 Current Avg. tumor Dice: 0.6213998794555664 Current Avg. lymph Dice: 0.4548242688179016\n"
     ]
    },
    {
     "name": "stderr",
     "output_type": "stream",
     "text": [
      "Training (4691 / 18000 Steps) (loss=0.59147): 100%|██████████| 102/102 [01:17<00:00,  1.31it/s]\n",
      "Validate (4692 / 10 Steps): 100%|██████████| 25/25 [00:30<00:00,  1.23s/it]<00:47,  2.00it/s]\n",
      "Training (4700 / 18000 Steps) (loss=0.48068):   9%|▉         | 9/102 [00:37<15:40, 10.11s/it]"
     ]
    },
    {
     "name": "stdout",
     "output_type": "stream",
     "text": [
      "Model Was Not Saved ! Current Best Avg. Dice: 0.5594013929367065 Current Avg. Dice: 0.5300938487052917 Current Avg. tumor Dice: 0.6045441031455994 Current Avg. lymph Dice: 0.433976948261261\n"
     ]
    },
    {
     "name": "stderr",
     "output_type": "stream",
     "text": [
      "Training (4793 / 18000 Steps) (loss=0.59608): 100%|██████████| 102/102 [01:17<00:00,  1.32it/s]\n",
      "Validate (4794 / 10 Steps): 100%|██████████| 25/25 [00:30<00:00,  1.23s/it]<00:56,  1.71it/s]\n",
      "Training (4800 / 18000 Steps) (loss=0.51973):   7%|▋         | 7/102 [00:36<16:45, 10.58s/it]"
     ]
    },
    {
     "name": "stdout",
     "output_type": "stream",
     "text": [
      "Model Was Not Saved ! Current Best Avg. Dice: 0.5594013929367065 Current Avg. Dice: 0.5156806111335754 Current Avg. tumor Dice: 0.5988268852233887 Current Avg. lymph Dice: 0.40732091665267944\n"
     ]
    },
    {
     "name": "stderr",
     "output_type": "stream",
     "text": [
      "Training (4895 / 18000 Steps) (loss=0.50323): 100%|██████████| 102/102 [01:17<00:00,  1.32it/s]\n",
      "Validate (4896 / 10 Steps): 100%|██████████| 25/25 [00:30<00:00,  1.23s/it]<01:17,  1.27it/s]\n",
      "Training (4900 / 18000 Steps) (loss=0.59655):   5%|▍         | 5/102 [00:35<19:04, 11.79s/it]"
     ]
    },
    {
     "name": "stdout",
     "output_type": "stream",
     "text": [
      "Model Was Not Saved ! Current Best Avg. Dice: 0.5594013929367065 Current Avg. Dice: 0.5320051908493042 Current Avg. tumor Dice: 0.5842851996421814 Current Avg. lymph Dice: 0.4649631977081299\n"
     ]
    },
    {
     "name": "stderr",
     "output_type": "stream",
     "text": [
      "Training (4997 / 18000 Steps) (loss=0.52446): 100%|██████████| 102/102 [01:17<00:00,  1.32it/s]\n",
      "Validate (4998 / 10 Steps): 100%|██████████| 25/25 [00:31<00:00,  1.24s/it]<02:44,  1.64s/it]\n",
      "Training (5000 / 18000 Steps) (loss=0.46908):   3%|▎         | 3/102 [00:35<25:12, 15.28s/it]"
     ]
    },
    {
     "name": "stdout",
     "output_type": "stream",
     "text": [
      "Model Was Not Saved ! Current Best Avg. Dice: 0.5594013929367065 Current Avg. Dice: 0.47713395953178406 Current Avg. tumor Dice: 0.53033047914505 Current Avg. lymph Dice: 0.4110043942928314\n"
     ]
    },
    {
     "name": "stderr",
     "output_type": "stream",
     "text": [
      "Training (5099 / 18000 Steps) (loss=0.52728): 100%|██████████| 102/102 [01:17<00:00,  1.32it/s]\n",
      "Validate (5100 / 10 Steps): 100%|██████████| 25/25 [00:30<00:00,  1.23s/it]<?, ?it/s]\n",
      "Training (5100 / 18000 Steps) (loss=0.54988):   1%|          | 1/102 [00:33<56:53, 33.80s/it]"
     ]
    },
    {
     "name": "stdout",
     "output_type": "stream",
     "text": [
      "Model Was Not Saved ! Current Best Avg. Dice: 0.5594013929367065 Current Avg. Dice: 0.5190497636795044 Current Avg. tumor Dice: 0.6000538468360901 Current Avg. lymph Dice: 0.41222912073135376\n"
     ]
    },
    {
     "name": "stderr",
     "output_type": "stream",
     "text": [
      "Validate (5100 / 10 Steps): 100%|██████████| 25/25 [00:30<00:00,  1.23s/it]16<00:00,  2.38it/s]\n",
      "Training (5200 / 18000 Steps) (loss=0.44685):  99%|█████████▉| 101/102 [01:47<00:09,  9.65s/it]"
     ]
    },
    {
     "name": "stdout",
     "output_type": "stream",
     "text": [
      "Model Was Not Saved ! Current Best Avg. Dice: 0.5594013929367065 Current Avg. Dice: 0.5379568934440613 Current Avg. tumor Dice: 0.6058641672134399 Current Avg. lymph Dice: 0.4375591576099396\n"
     ]
    },
    {
     "name": "stderr",
     "output_type": "stream",
     "text": [
      "Training (5201 / 18000 Steps) (loss=0.26521): 100%|██████████| 102/102 [01:47<00:00,  1.06s/it]\n",
      "Validate (5202 / 10 Steps): 100%|██████████| 25/25 [00:30<00:00,  1.20s/it]5<00:01,  2.38it/s]\n",
      "Training (5300 / 18000 Steps) (loss=0.54998):  97%|█████████▋| 99/102 [01:16<00:29,  9.68s/it]"
     ]
    },
    {
     "name": "stdout",
     "output_type": "stream",
     "text": [
      "Model Was Saved ! Current Best Avg. Dice: 0.5713958740234375 Current Avg. Dice: 0.5713958740234375 Current Avg. tumor Dice: 0.6478543877601624 Current Avg. lymph Dice: 0.471840500831604\n"
     ]
    },
    {
     "name": "stderr",
     "output_type": "stream",
     "text": [
      "Training (5303 / 18000 Steps) (loss=0.44355): 100%|██████████| 102/102 [01:17<00:00,  1.32it/s]\n",
      "Validate (5304 / 10 Steps): 100%|██████████| 25/25 [00:30<00:00,  1.23s/it]4<00:02,  2.35it/s]\n",
      "Training (5400 / 18000 Steps) (loss=0.58150):  95%|█████████▌| 97/102 [01:16<00:49,  9.87s/it]"
     ]
    },
    {
     "name": "stdout",
     "output_type": "stream",
     "text": [
      "Model Was Saved ! Current Best Avg. Dice: 0.5759685039520264 Current Avg. Dice: 0.5759685039520264 Current Avg. tumor Dice: 0.653367280960083 Current Avg. lymph Dice: 0.47103533148765564\n"
     ]
    },
    {
     "name": "stderr",
     "output_type": "stream",
     "text": [
      "Training (5405 / 18000 Steps) (loss=0.59300): 100%|██████████| 102/102 [01:18<00:00,  1.30it/s]\n",
      "Validate (5406 / 10 Steps): 100%|██████████| 25/25 [00:31<00:00,  1.25s/it]4<00:03,  2.36it/s]\n",
      "Training (5500 / 18000 Steps) (loss=0.45649):  93%|█████████▎| 95/102 [01:15<01:08,  9.79s/it]"
     ]
    },
    {
     "name": "stdout",
     "output_type": "stream",
     "text": [
      "Model Was Not Saved ! Current Best Avg. Dice: 0.5759685039520264 Current Avg. Dice: 0.559495210647583 Current Avg. tumor Dice: 0.6380943655967712 Current Avg. lymph Dice: 0.45110854506492615\n"
     ]
    },
    {
     "name": "stderr",
     "output_type": "stream",
     "text": [
      "Training (5507 / 18000 Steps) (loss=0.53083): 100%|██████████| 102/102 [01:18<00:00,  1.30it/s]\n",
      "Validate (5508 / 10 Steps): 100%|██████████| 25/25 [00:30<00:00,  1.24s/it]2<00:04,  2.34it/s]\n",
      "Training (5600 / 18000 Steps) (loss=0.42708):  91%|█████████ | 93/102 [01:13<01:27,  9.72s/it]"
     ]
    },
    {
     "name": "stdout",
     "output_type": "stream",
     "text": [
      "Model Was Not Saved ! Current Best Avg. Dice: 0.5759685039520264 Current Avg. Dice: 0.572507381439209 Current Avg. tumor Dice: 0.6421332359313965 Current Avg. lymph Dice: 0.47851434350013733\n"
     ]
    },
    {
     "name": "stderr",
     "output_type": "stream",
     "text": [
      "Training (5609 / 18000 Steps) (loss=0.48105): 100%|██████████| 102/102 [01:17<00:00,  1.31it/s]\n",
      "Validate (5610 / 10 Steps): 100%|██████████| 25/25 [00:30<00:00,  1.24s/it]2<00:05,  2.37it/s]\n",
      "Training (5700 / 18000 Steps) (loss=0.69700):  89%|████████▉ | 91/102 [01:13<01:46,  9.72s/it]"
     ]
    },
    {
     "name": "stdout",
     "output_type": "stream",
     "text": [
      "Model Was Not Saved ! Current Best Avg. Dice: 0.5759685039520264 Current Avg. Dice: 0.5718767046928406 Current Avg. tumor Dice: 0.6556563973426819 Current Avg. lymph Dice: 0.4590241611003876\n"
     ]
    },
    {
     "name": "stderr",
     "output_type": "stream",
     "text": [
      "Training (5711 / 18000 Steps) (loss=0.55856): 100%|██████████| 102/102 [01:17<00:00,  1.31it/s]\n",
      "Validate (5712 / 10 Steps): 100%|██████████| 25/25 [00:30<00:00,  1.22s/it]1<00:05,  2.36it/s]\n",
      "Training (5800 / 18000 Steps) (loss=0.57053):  87%|████████▋ | 89/102 [01:12<02:05,  9.62s/it]"
     ]
    },
    {
     "name": "stdout",
     "output_type": "stream",
     "text": [
      "Model Was Not Saved ! Current Best Avg. Dice: 0.5759685039520264 Current Avg. Dice: 0.5681878328323364 Current Avg. tumor Dice: 0.6469717025756836 Current Avg. lymph Dice: 0.4591244161128998\n"
     ]
    },
    {
     "name": "stderr",
     "output_type": "stream",
     "text": [
      "Training (5813 / 18000 Steps) (loss=0.24829): 100%|██████████| 102/102 [01:17<00:00,  1.31it/s]\n",
      "Validate (5814 / 10 Steps): 100%|██████████| 25/25 [00:31<00:00,  1.26s/it]0<00:06,  2.33it/s]\n",
      "Training (5900 / 18000 Steps) (loss=0.54694):  85%|████████▌ | 87/102 [01:11<02:27,  9.86s/it]"
     ]
    },
    {
     "name": "stdout",
     "output_type": "stream",
     "text": [
      "Model Was Not Saved ! Current Best Avg. Dice: 0.5759685039520264 Current Avg. Dice: 0.5446774959564209 Current Avg. tumor Dice: 0.6134914755821228 Current Avg. lymph Dice: 0.4635169506072998\n"
     ]
    },
    {
     "name": "stderr",
     "output_type": "stream",
     "text": [
      "Training (5915 / 18000 Steps) (loss=0.51815): 100%|██████████| 102/102 [01:18<00:00,  1.30it/s]\n",
      "Validate (5916 / 10 Steps): 100%|██████████| 25/25 [00:31<00:00,  1.25s/it]9<00:07,  2.36it/s]\n",
      "Training (6000 / 18000 Steps) (loss=0.59537):  83%|████████▎ | 85/102 [01:11<02:46,  9.78s/it]"
     ]
    },
    {
     "name": "stdout",
     "output_type": "stream",
     "text": [
      "Model Was Not Saved ! Current Best Avg. Dice: 0.5759685039520264 Current Avg. Dice: 0.5690690875053406 Current Avg. tumor Dice: 0.641211748123169 Current Avg. lymph Dice: 0.47190061211586\n"
     ]
    },
    {
     "name": "stderr",
     "output_type": "stream",
     "text": [
      "Training (6017 / 18000 Steps) (loss=0.43371): 100%|██████████| 102/102 [01:18<00:00,  1.30it/s]\n",
      "Validate (6018 / 10 Steps): 100%|██████████| 25/25 [00:31<00:00,  1.25s/it]8<00:08,  2.33it/s]\n",
      "Training (6100 / 18000 Steps) (loss=0.46780):  81%|████████▏ | 83/102 [01:09<03:06,  9.82s/it]"
     ]
    },
    {
     "name": "stdout",
     "output_type": "stream",
     "text": [
      "Model Was Not Saved ! Current Best Avg. Dice: 0.5759685039520264 Current Avg. Dice: 0.5651198029518127 Current Avg. tumor Dice: 0.6521174311637878 Current Avg. lymph Dice: 0.45022666454315186\n"
     ]
    },
    {
     "name": "stderr",
     "output_type": "stream",
     "text": [
      "Training (6119 / 18000 Steps) (loss=0.51320): 100%|██████████| 102/102 [01:17<00:00,  1.31it/s]\n",
      "Validate (6120 / 10 Steps): 100%|██████████| 25/25 [00:30<00:00,  1.24s/it]7<00:09,  2.39it/s]\n",
      "Training (6200 / 18000 Steps) (loss=0.40406):  79%|███████▉  | 81/102 [01:08<03:29,  9.96s/it]"
     ]
    },
    {
     "name": "stdout",
     "output_type": "stream",
     "text": [
      "Model Was Saved ! Current Best Avg. Dice: 0.5916892886161804 Current Avg. Dice: 0.5916892886161804 Current Avg. tumor Dice: 0.6760643124580383 Current Avg. lymph Dice: 0.47979065775871277\n"
     ]
    },
    {
     "name": "stderr",
     "output_type": "stream",
     "text": [
      "Training (6221 / 18000 Steps) (loss=0.57718): 100%|██████████| 102/102 [01:18<00:00,  1.31it/s]\n",
      "Validate (6222 / 10 Steps): 100%|██████████| 25/25 [00:30<00:00,  1.24s/it]7<00:10,  2.34it/s]\n",
      "Training (6300 / 18000 Steps) (loss=0.41177):  77%|███████▋  | 79/102 [01:08<03:43,  9.73s/it]"
     ]
    },
    {
     "name": "stdout",
     "output_type": "stream",
     "text": [
      "Model Was Not Saved ! Current Best Avg. Dice: 0.5916892886161804 Current Avg. Dice: 0.5818858742713928 Current Avg. tumor Dice: 0.6711729168891907 Current Avg. lymph Dice: 0.47092998027801514\n"
     ]
    },
    {
     "name": "stderr",
     "output_type": "stream",
     "text": [
      "Training (6323 / 18000 Steps) (loss=0.50452): 100%|██████████| 102/102 [01:18<00:00,  1.31it/s]\n",
      "Validate (6324 / 10 Steps): 100%|██████████| 25/25 [00:30<00:00,  1.24s/it]6<00:11,  2.29it/s]\n",
      "Training (6400 / 18000 Steps) (loss=0.47686):  75%|███████▌  | 77/102 [01:07<04:02,  9.71s/it]"
     ]
    },
    {
     "name": "stdout",
     "output_type": "stream",
     "text": [
      "Model Was Not Saved ! Current Best Avg. Dice: 0.5916892886161804 Current Avg. Dice: 0.5304077863693237 Current Avg. tumor Dice: 0.6520351767539978 Current Avg. lymph Dice: 0.3763258755207062\n"
     ]
    },
    {
     "name": "stderr",
     "output_type": "stream",
     "text": [
      "Training (6425 / 18000 Steps) (loss=0.57461): 100%|██████████| 102/102 [01:18<00:00,  1.30it/s]\n",
      "Validate (6426 / 10 Steps): 100%|██████████| 25/25 [00:31<00:00,  1.25s/it]5<00:12,  2.33it/s]\n",
      "Training (6500 / 18000 Steps) (loss=0.49891):  74%|███████▎  | 75/102 [01:06<04:24,  9.79s/it]"
     ]
    },
    {
     "name": "stdout",
     "output_type": "stream",
     "text": [
      "Model Was Not Saved ! Current Best Avg. Dice: 0.5916892886161804 Current Avg. Dice: 0.5580388903617859 Current Avg. tumor Dice: 0.6363768577575684 Current Avg. lymph Dice: 0.4591628313064575\n"
     ]
    },
    {
     "name": "stderr",
     "output_type": "stream",
     "text": [
      "Training (6527 / 18000 Steps) (loss=0.43493): 100%|██████████| 102/102 [01:18<00:00,  1.30it/s]\n",
      "Validate (6528 / 10 Steps): 100%|██████████| 25/25 [00:30<00:00,  1.23s/it]4<00:12,  2.35it/s]\n",
      "Training (6600 / 18000 Steps) (loss=0.43649):  72%|███████▏  | 73/102 [01:05<04:41,  9.69s/it]"
     ]
    },
    {
     "name": "stdout",
     "output_type": "stream",
     "text": [
      "Model Was Not Saved ! Current Best Avg. Dice: 0.5916892886161804 Current Avg. Dice: 0.5913419127464294 Current Avg. tumor Dice: 0.6704042553901672 Current Avg. lymph Dice: 0.4829425513744354\n"
     ]
    },
    {
     "name": "stderr",
     "output_type": "stream",
     "text": [
      "Training (6629 / 18000 Steps) (loss=0.37379): 100%|██████████| 102/102 [01:18<00:00,  1.31it/s]\n",
      "Validate (6630 / 10 Steps): 100%|██████████| 25/25 [00:30<00:00,  1.24s/it]3<00:13,  2.31it/s]\n",
      "Training (6700 / 18000 Steps) (loss=0.55989):  70%|██████▉   | 71/102 [01:04<05:01,  9.72s/it]"
     ]
    },
    {
     "name": "stdout",
     "output_type": "stream",
     "text": [
      "Model Was Not Saved ! Current Best Avg. Dice: 0.5916892886161804 Current Avg. Dice: 0.5487378835678101 Current Avg. tumor Dice: 0.632841169834137 Current Avg. lymph Dice: 0.4415379762649536\n"
     ]
    },
    {
     "name": "stderr",
     "output_type": "stream",
     "text": [
      "Training (6731 / 18000 Steps) (loss=0.51005): 100%|██████████| 102/102 [01:17<00:00,  1.32it/s]\n",
      "Validate (6732 / 10 Steps): 100%|██████████| 25/25 [00:30<00:00,  1.23s/it]2<00:14,  2.37it/s]\n",
      "Training (6800 / 18000 Steps) (loss=0.54149):  68%|██████▊   | 69/102 [01:02<05:17,  9.63s/it]"
     ]
    },
    {
     "name": "stdout",
     "output_type": "stream",
     "text": [
      "Model Was Not Saved ! Current Best Avg. Dice: 0.5916892886161804 Current Avg. Dice: 0.579826295375824 Current Avg. tumor Dice: 0.6462120413780212 Current Avg. lymph Dice: 0.4855338931083679\n"
     ]
    },
    {
     "name": "stderr",
     "output_type": "stream",
     "text": [
      "Training (6833 / 18000 Steps) (loss=0.44140): 100%|██████████| 102/102 [01:17<00:00,  1.32it/s]\n",
      "Validate (6834 / 10 Steps): 100%|██████████| 25/25 [00:31<00:00,  1.24s/it]2<00:15,  2.35it/s]\n",
      "Training (6900 / 18000 Steps) (loss=0.40415):  66%|██████▌   | 67/102 [01:03<05:41,  9.75s/it]"
     ]
    },
    {
     "name": "stdout",
     "output_type": "stream",
     "text": [
      "Model Was Not Saved ! Current Best Avg. Dice: 0.5916892886161804 Current Avg. Dice: 0.5846511125564575 Current Avg. tumor Dice: 0.6596819162368774 Current Avg. lymph Dice: 0.47965723276138306\n"
     ]
    },
    {
     "name": "stderr",
     "output_type": "stream",
     "text": [
      "Training (6935 / 18000 Steps) (loss=0.54487): 100%|██████████| 102/102 [01:18<00:00,  1.30it/s]\n",
      "Validate (6936 / 10 Steps): 100%|██████████| 25/25 [00:30<00:00,  1.23s/it]0<00:16,  2.35it/s]\n",
      "Training (7000 / 18000 Steps) (loss=0.47581):  64%|██████▎   | 65/102 [01:02<06:05,  9.88s/it]"
     ]
    },
    {
     "name": "stdout",
     "output_type": "stream",
     "text": [
      "Model Was Saved ! Current Best Avg. Dice: 0.5963435769081116 Current Avg. Dice: 0.5963435769081116 Current Avg. tumor Dice: 0.6835489273071289 Current Avg. lymph Dice: 0.48042014241218567\n"
     ]
    },
    {
     "name": "stderr",
     "output_type": "stream",
     "text": [
      "Training (7037 / 18000 Steps) (loss=0.58506): 100%|██████████| 102/102 [01:18<00:00,  1.30it/s]\n",
      "Validate (7038 / 10 Steps): 100%|██████████| 25/25 [00:31<00:00,  1.25s/it]9<00:17,  2.33it/s]\n",
      "Training (7100 / 18000 Steps) (loss=0.48157):  62%|██████▏   | 63/102 [01:01<06:22,  9.80s/it]"
     ]
    },
    {
     "name": "stdout",
     "output_type": "stream",
     "text": [
      "Model Was Not Saved ! Current Best Avg. Dice: 0.5963435769081116 Current Avg. Dice: 0.5661369562149048 Current Avg. tumor Dice: 0.646906852722168 Current Avg. lymph Dice: 0.4555307626724243\n"
     ]
    },
    {
     "name": "stderr",
     "output_type": "stream",
     "text": [
      "Training (7139 / 18000 Steps) (loss=0.54563): 100%|██████████| 102/102 [01:17<00:00,  1.31it/s]\n",
      "Validate (7140 / 10 Steps): 100%|██████████| 25/25 [00:30<00:00,  1.24s/it]9<00:17,  2.37it/s]\n",
      "Training (7200 / 18000 Steps) (loss=0.46385):  60%|█████▉    | 61/102 [01:00<06:38,  9.71s/it]"
     ]
    },
    {
     "name": "stdout",
     "output_type": "stream",
     "text": [
      "Model Was Not Saved ! Current Best Avg. Dice: 0.5963435769081116 Current Avg. Dice: 0.5814138650894165 Current Avg. tumor Dice: 0.659967839717865 Current Avg. lymph Dice: 0.47839686274528503\n"
     ]
    },
    {
     "name": "stderr",
     "output_type": "stream",
     "text": [
      "Training (7241 / 18000 Steps) (loss=0.55148): 100%|██████████| 102/102 [01:18<00:00,  1.30it/s]\n",
      "Validate (7242 / 10 Steps): 100%|██████████| 25/25 [00:31<00:00,  1.24s/it]8<00:18,  2.37it/s]\n",
      "Training (7300 / 18000 Steps) (loss=0.54763):  58%|█████▊    | 59/102 [01:00<07:08,  9.97s/it]"
     ]
    },
    {
     "name": "stdout",
     "output_type": "stream",
     "text": [
      "Model Was Saved ! Current Best Avg. Dice: 0.5979890823364258 Current Avg. Dice: 0.5979890823364258 Current Avg. tumor Dice: 0.6801197528839111 Current Avg. lymph Dice: 0.48946449160575867\n"
     ]
    },
    {
     "name": "stderr",
     "output_type": "stream",
     "text": [
      "Training (7343 / 18000 Steps) (loss=0.45352): 100%|██████████| 102/102 [01:18<00:00,  1.29it/s]\n",
      "Validate (7344 / 10 Steps): 100%|██████████| 25/25 [00:31<00:00,  1.24s/it]7<00:19,  2.37it/s]\n",
      "Training (7400 / 18000 Steps) (loss=0.40264):  56%|█████▌    | 57/102 [00:58<07:19,  9.76s/it]"
     ]
    },
    {
     "name": "stdout",
     "output_type": "stream",
     "text": [
      "Model Was Not Saved ! Current Best Avg. Dice: 0.5979890823364258 Current Avg. Dice: 0.542863130569458 Current Avg. tumor Dice: 0.5894076824188232 Current Avg. lymph Dice: 0.4860527813434601\n"
     ]
    },
    {
     "name": "stderr",
     "output_type": "stream",
     "text": [
      "Training (7445 / 18000 Steps) (loss=0.51464): 100%|██████████| 102/102 [01:17<00:00,  1.31it/s]\n",
      "Validate (7446 / 10 Steps): 100%|██████████| 25/25 [00:30<00:00,  1.24s/it]6<00:20,  2.36it/s]\n",
      "Training (7500 / 18000 Steps) (loss=0.46096):  54%|█████▍    | 55/102 [00:57<07:36,  9.71s/it]"
     ]
    },
    {
     "name": "stdout",
     "output_type": "stream",
     "text": [
      "Model Was Not Saved ! Current Best Avg. Dice: 0.5979890823364258 Current Avg. Dice: 0.5435258746147156 Current Avg. tumor Dice: 0.6134526133537292 Current Avg. lymph Dice: 0.449217826128006\n"
     ]
    },
    {
     "name": "stderr",
     "output_type": "stream",
     "text": [
      "Training (7547 / 18000 Steps) (loss=0.34445): 100%|██████████| 102/102 [01:17<00:00,  1.32it/s]\n",
      "Validate (7548 / 10 Steps): 100%|██████████| 25/25 [00:31<00:00,  1.24s/it]5<00:21,  2.37it/s]\n",
      "Training (7600 / 18000 Steps) (loss=0.48013):  52%|█████▏    | 53/102 [00:56<07:57,  9.75s/it]"
     ]
    },
    {
     "name": "stdout",
     "output_type": "stream",
     "text": [
      "Model Was Not Saved ! Current Best Avg. Dice: 0.5979890823364258 Current Avg. Dice: 0.571885883808136 Current Avg. tumor Dice: 0.6654971241950989 Current Avg. lymph Dice: 0.4484063386917114\n"
     ]
    },
    {
     "name": "stderr",
     "output_type": "stream",
     "text": [
      "Training (7649 / 18000 Steps) (loss=0.53162): 100%|██████████| 102/102 [01:17<00:00,  1.32it/s]\n",
      "Validate (7650 / 10 Steps): 100%|██████████| 25/25 [00:30<00:00,  1.22s/it]4<00:21,  2.39it/s]\n",
      "Training (7700 / 18000 Steps) (loss=0.52911):  50%|█████     | 51/102 [00:55<08:10,  9.61s/it]"
     ]
    },
    {
     "name": "stdout",
     "output_type": "stream",
     "text": [
      "Model Was Not Saved ! Current Best Avg. Dice: 0.5979890823364258 Current Avg. Dice: 0.49245238304138184 Current Avg. tumor Dice: 0.5585065484046936 Current Avg. lymph Dice: 0.4047662615776062\n"
     ]
    },
    {
     "name": "stderr",
     "output_type": "stream",
     "text": [
      "Training (7751 / 18000 Steps) (loss=0.48824): 100%|██████████| 102/102 [01:16<00:00,  1.33it/s]\n",
      "Validate (7752 / 10 Steps): 100%|██████████| 25/25 [00:30<00:00,  1.23s/it]3<00:22,  2.38it/s]\n",
      "Training (7800 / 18000 Steps) (loss=0.63832):  48%|████▊     | 49/102 [00:54<08:31,  9.64s/it]"
     ]
    },
    {
     "name": "stdout",
     "output_type": "stream",
     "text": [
      "Model Was Not Saved ! Current Best Avg. Dice: 0.5979890823364258 Current Avg. Dice: 0.5447959303855896 Current Avg. tumor Dice: 0.6131772994995117 Current Avg. lymph Dice: 0.4479784667491913\n"
     ]
    },
    {
     "name": "stderr",
     "output_type": "stream",
     "text": [
      "Training (7853 / 18000 Steps) (loss=0.63108): 100%|██████████| 102/102 [01:16<00:00,  1.33it/s]\n",
      "Validate (7854 / 10 Steps): 100%|██████████| 25/25 [00:30<00:00,  1.22s/it]2<00:23,  2.38it/s]\n",
      "Training (7900 / 18000 Steps) (loss=0.54324):  46%|████▌     | 47/102 [00:53<08:45,  9.56s/it]"
     ]
    },
    {
     "name": "stdout",
     "output_type": "stream",
     "text": [
      "Model Was Not Saved ! Current Best Avg. Dice: 0.5979890823364258 Current Avg. Dice: 0.5870667695999146 Current Avg. tumor Dice: 0.6573950052261353 Current Avg. lymph Dice: 0.4910690188407898\n"
     ]
    },
    {
     "name": "stderr",
     "output_type": "stream",
     "text": [
      "Training (7955 / 18000 Steps) (loss=0.49708): 100%|██████████| 102/102 [01:16<00:00,  1.34it/s]\n",
      "Validate (7956 / 10 Steps): 100%|██████████| 25/25 [00:30<00:00,  1.22s/it]2<00:24,  2.38it/s]\n",
      "Training (8000 / 18000 Steps) (loss=0.29157):  44%|████▍     | 45/102 [00:52<09:06,  9.58s/it]"
     ]
    },
    {
     "name": "stdout",
     "output_type": "stream",
     "text": [
      "Model Was Not Saved ! Current Best Avg. Dice: 0.5979890823364258 Current Avg. Dice: 0.5819079279899597 Current Avg. tumor Dice: 0.6510798335075378 Current Avg. lymph Dice: 0.4901774227619171\n"
     ]
    },
    {
     "name": "stderr",
     "output_type": "stream",
     "text": [
      "Training (8057 / 18000 Steps) (loss=0.47786): 100%|██████████| 102/102 [01:16<00:00,  1.33it/s]\n",
      "Validate (8058 / 10 Steps): 100%|██████████| 25/25 [00:31<00:00,  1.25s/it]0<00:25,  2.38it/s]\n",
      "Training (8100 / 18000 Steps) (loss=0.37572):  42%|████▏     | 43/102 [00:52<09:37,  9.79s/it]"
     ]
    },
    {
     "name": "stdout",
     "output_type": "stream",
     "text": [
      "Model Was Not Saved ! Current Best Avg. Dice: 0.5979890823364258 Current Avg. Dice: 0.591436505317688 Current Avg. tumor Dice: 0.6844748854637146 Current Avg. lymph Dice: 0.46816083788871765\n"
     ]
    },
    {
     "name": "stderr",
     "output_type": "stream",
     "text": [
      "Training (8159 / 18000 Steps) (loss=0.40387): 100%|██████████| 102/102 [01:16<00:00,  1.32it/s]\n",
      "Validate (8160 / 10 Steps): 100%|██████████| 25/25 [00:30<00:00,  1.22s/it]9<00:26,  2.38it/s]\n",
      "Training (8200 / 18000 Steps) (loss=0.58011):  40%|████      | 41/102 [00:51<09:57,  9.79s/it]"
     ]
    },
    {
     "name": "stdout",
     "output_type": "stream",
     "text": [
      "Model Was Saved ! Current Best Avg. Dice: 0.6138152480125427 Current Avg. Dice: 0.6138152480125427 Current Avg. tumor Dice: 0.702293872833252 Current Avg. lymph Dice: 0.4984578490257263\n"
     ]
    },
    {
     "name": "stderr",
     "output_type": "stream",
     "text": [
      "Training (8261 / 18000 Steps) (loss=0.26842): 100%|██████████| 102/102 [01:17<00:00,  1.32it/s]\n",
      "Validate (8262 / 10 Steps): 100%|██████████| 25/25 [00:30<00:00,  1.24s/it]9<00:26,  2.38it/s]\n",
      "Training (8300 / 18000 Steps) (loss=0.46988):  38%|███▊      | 39/102 [00:50<10:11,  9.70s/it]"
     ]
    },
    {
     "name": "stdout",
     "output_type": "stream",
     "text": [
      "Model Was Not Saved ! Current Best Avg. Dice: 0.6138152480125427 Current Avg. Dice: 0.5950901508331299 Current Avg. tumor Dice: 0.6802868843078613 Current Avg. lymph Dice: 0.48006337881088257\n"
     ]
    },
    {
     "name": "stderr",
     "output_type": "stream",
     "text": [
      "Training (8363 / 18000 Steps) (loss=0.44750): 100%|██████████| 102/102 [01:17<00:00,  1.32it/s]\n",
      "Validate (8364 / 10 Steps): 100%|██████████| 25/25 [00:30<00:00,  1.22s/it]8<00:27,  2.39it/s]\n",
      "Training (8400 / 18000 Steps) (loss=0.54682):  36%|███▋      | 37/102 [00:49<10:24,  9.61s/it]"
     ]
    },
    {
     "name": "stdout",
     "output_type": "stream",
     "text": [
      "Model Was Not Saved ! Current Best Avg. Dice: 0.6138152480125427 Current Avg. Dice: 0.580552875995636 Current Avg. tumor Dice: 0.6472839117050171 Current Avg. lymph Dice: 0.4850859045982361\n"
     ]
    },
    {
     "name": "stderr",
     "output_type": "stream",
     "text": [
      "Training (8465 / 18000 Steps) (loss=0.49798): 100%|██████████| 102/102 [01:17<00:00,  1.32it/s]\n",
      "Validate (8466 / 10 Steps): 100%|██████████| 25/25 [00:30<00:00,  1.22s/it]8<00:28,  2.39it/s]\n",
      "Training (8500 / 18000 Steps) (loss=0.50306):  34%|███▍      | 35/102 [00:48<10:39,  9.55s/it]"
     ]
    },
    {
     "name": "stdout",
     "output_type": "stream",
     "text": [
      "Model Was Not Saved ! Current Best Avg. Dice: 0.6138152480125427 Current Avg. Dice: 0.5882368087768555 Current Avg. tumor Dice: 0.6696329116821289 Current Avg. lymph Dice: 0.47779959440231323\n"
     ]
    },
    {
     "name": "stderr",
     "output_type": "stream",
     "text": [
      "Training (8567 / 18000 Steps) (loss=0.56345): 100%|██████████| 102/102 [01:16<00:00,  1.32it/s]\n",
      "Validate (8568 / 10 Steps): 100%|██████████| 25/25 [00:30<00:00,  1.24s/it]6<00:29,  2.36it/s]\n",
      "Training (8600 / 18000 Steps) (loss=0.43282):  32%|███▏      | 33/102 [00:47<11:10,  9.72s/it]"
     ]
    },
    {
     "name": "stdout",
     "output_type": "stream",
     "text": [
      "Model Was Not Saved ! Current Best Avg. Dice: 0.6138152480125427 Current Avg. Dice: 0.6003536581993103 Current Avg. tumor Dice: 0.6813153624534607 Current Avg. lymph Dice: 0.4945804178714752\n"
     ]
    },
    {
     "name": "stderr",
     "output_type": "stream",
     "text": [
      "Training (8669 / 18000 Steps) (loss=0.47587): 100%|██████████| 102/102 [01:16<00:00,  1.33it/s]\n",
      "Validate (8670 / 10 Steps): 100%|██████████| 25/25 [00:30<00:00,  1.23s/it]5<00:30,  2.38it/s]\n",
      "Training (8700 / 18000 Steps) (loss=0.45723):  30%|███       | 31/102 [00:46<11:26,  9.67s/it]"
     ]
    },
    {
     "name": "stdout",
     "output_type": "stream",
     "text": [
      "Model Was Not Saved ! Current Best Avg. Dice: 0.6138152480125427 Current Avg. Dice: 0.5968354940414429 Current Avg. tumor Dice: 0.6649889945983887 Current Avg. lymph Dice: 0.5068833231925964\n"
     ]
    },
    {
     "name": "stderr",
     "output_type": "stream",
     "text": [
      "Training (8771 / 18000 Steps) (loss=0.49680): 100%|██████████| 102/102 [01:16<00:00,  1.33it/s]\n",
      "Validate (8772 / 10 Steps): 100%|██████████| 25/25 [00:30<00:00,  1.23s/it]4<00:31,  2.38it/s]\n",
      "Training (8800 / 18000 Steps) (loss=0.33421):  28%|██▊       | 29/102 [00:45<11:44,  9.65s/it]"
     ]
    },
    {
     "name": "stdout",
     "output_type": "stream",
     "text": [
      "Model Was Not Saved ! Current Best Avg. Dice: 0.6138152480125427 Current Avg. Dice: 0.5797353982925415 Current Avg. tumor Dice: 0.6516135334968567 Current Avg. lymph Dice: 0.484363853931427\n"
     ]
    },
    {
     "name": "stderr",
     "output_type": "stream",
     "text": [
      "Training (8873 / 18000 Steps) (loss=0.44596): 100%|██████████| 102/102 [01:16<00:00,  1.33it/s]\n",
      "Validate (8874 / 10 Steps): 100%|██████████| 25/25 [00:30<00:00,  1.22s/it]4<00:31,  2.38it/s]\n",
      "Training (8900 / 18000 Steps) (loss=0.52947):  26%|██▋       | 27/102 [00:44<11:57,  9.56s/it]"
     ]
    },
    {
     "name": "stdout",
     "output_type": "stream",
     "text": [
      "Model Was Not Saved ! Current Best Avg. Dice: 0.6138152480125427 Current Avg. Dice: 0.5817616581916809 Current Avg. tumor Dice: 0.6526397466659546 Current Avg. lymph Dice: 0.4939202070236206\n"
     ]
    },
    {
     "name": "stderr",
     "output_type": "stream",
     "text": [
      "Training (8975 / 18000 Steps) (loss=0.58891): 100%|██████████| 102/102 [01:16<00:00,  1.33it/s]\n",
      "Validate (8976 / 10 Steps): 100%|██████████| 25/25 [00:30<00:00,  1.23s/it]3<00:32,  2.38it/s]\n",
      "Training (9000 / 18000 Steps) (loss=0.42706):  25%|██▍       | 25/102 [00:43<12:21,  9.63s/it]"
     ]
    },
    {
     "name": "stdout",
     "output_type": "stream",
     "text": [
      "Model Was Not Saved ! Current Best Avg. Dice: 0.6138152480125427 Current Avg. Dice: 0.575445830821991 Current Avg. tumor Dice: 0.6434927582740784 Current Avg. lymph Dice: 0.48836594820022583\n"
     ]
    },
    {
     "name": "stderr",
     "output_type": "stream",
     "text": [
      "Training (9077 / 18000 Steps) (loss=0.46975): 100%|██████████| 102/102 [01:16<00:00,  1.33it/s]\n",
      "Validate (9078 / 10 Steps): 100%|██████████| 25/25 [00:30<00:00,  1.23s/it]2<00:33,  2.38it/s]\n",
      "Training (9100 / 18000 Steps) (loss=0.41646):  23%|██▎       | 23/102 [00:43<12:42,  9.65s/it]"
     ]
    },
    {
     "name": "stdout",
     "output_type": "stream",
     "text": [
      "Model Was Not Saved ! Current Best Avg. Dice: 0.6138152480125427 Current Avg. Dice: 0.5515753030776978 Current Avg. tumor Dice: 0.6668906807899475 Current Avg. lymph Dice: 0.4080184996128082\n"
     ]
    },
    {
     "name": "stderr",
     "output_type": "stream",
     "text": [
      "Training (9179 / 18000 Steps) (loss=0.39465): 100%|██████████| 102/102 [01:16<00:00,  1.33it/s]\n",
      "Validate (9180 / 10 Steps): 100%|██████████| 25/25 [00:30<00:00,  1.22s/it]1<00:34,  2.38it/s]\n",
      "Training (9200 / 18000 Steps) (loss=0.62226):  21%|██        | 21/102 [00:42<12:56,  9.59s/it]"
     ]
    },
    {
     "name": "stdout",
     "output_type": "stream",
     "text": [
      "Model Was Not Saved ! Current Best Avg. Dice: 0.6138152480125427 Current Avg. Dice: 0.6074259877204895 Current Avg. tumor Dice: 0.6942458152770996 Current Avg. lymph Dice: 0.4934602379798889\n"
     ]
    },
    {
     "name": "stderr",
     "output_type": "stream",
     "text": [
      "Training (9281 / 18000 Steps) (loss=0.47593): 100%|██████████| 102/102 [01:16<00:00,  1.33it/s]\n",
      "Validate (9282 / 10 Steps): 100%|██████████| 25/25 [00:30<00:00,  1.24s/it]0<00:36,  2.31it/s]\n",
      "Training (9300 / 18000 Steps) (loss=0.52367):  19%|█▊        | 19/102 [00:41<13:28,  9.74s/it]"
     ]
    },
    {
     "name": "stdout",
     "output_type": "stream",
     "text": [
      "Model Was Not Saved ! Current Best Avg. Dice: 0.6138152480125427 Current Avg. Dice: 0.6034924983978271 Current Avg. tumor Dice: 0.7019917368888855 Current Avg. lymph Dice: 0.47684207558631897\n"
     ]
    },
    {
     "name": "stderr",
     "output_type": "stream",
     "text": [
      "Training (9383 / 18000 Steps) (loss=0.57230): 100%|██████████| 102/102 [01:17<00:00,  1.32it/s]\n",
      "Validate (9384 / 10 Steps): 100%|██████████| 25/25 [00:30<00:00,  1.23s/it]9<00:36,  2.35it/s]\n",
      "Training (9400 / 18000 Steps) (loss=0.42368):  17%|█▋        | 17/102 [00:40<13:44,  9.70s/it]"
     ]
    },
    {
     "name": "stdout",
     "output_type": "stream",
     "text": [
      "Model Was Not Saved ! Current Best Avg. Dice: 0.6138152480125427 Current Avg. Dice: 0.5973497033119202 Current Avg. tumor Dice: 0.6660212874412537 Current Avg. lymph Dice: 0.5025113224983215\n"
     ]
    },
    {
     "name": "stderr",
     "output_type": "stream",
     "text": [
      "Training (9485 / 18000 Steps) (loss=0.59166): 100%|██████████| 102/102 [01:16<00:00,  1.33it/s]\n",
      "Validate (9486 / 10 Steps): 100%|██████████| 25/25 [00:30<00:00,  1.23s/it]9<00:40,  2.19it/s]\n",
      "Training (9500 / 18000 Steps) (loss=0.49809):  15%|█▍        | 15/102 [00:40<14:06,  9.72s/it]"
     ]
    },
    {
     "name": "stdout",
     "output_type": "stream",
     "text": [
      "Model Was Not Saved ! Current Best Avg. Dice: 0.6138152480125427 Current Avg. Dice: 0.6019155383110046 Current Avg. tumor Dice: 0.6682038307189941 Current Avg. lymph Dice: 0.5126137733459473\n"
     ]
    },
    {
     "name": "stderr",
     "output_type": "stream",
     "text": [
      "Training (9587 / 18000 Steps) (loss=0.61673): 100%|██████████| 102/102 [01:17<00:00,  1.32it/s]\n",
      "Validate (9588 / 10 Steps): 100%|██████████| 25/25 [00:30<00:00,  1.23s/it]7<00:39,  2.29it/s]\n",
      "Training (9600 / 18000 Steps) (loss=0.51989):  13%|█▎        | 13/102 [00:38<14:25,  9.72s/it]"
     ]
    },
    {
     "name": "stdout",
     "output_type": "stream",
     "text": [
      "Model Was Not Saved ! Current Best Avg. Dice: 0.6138152480125427 Current Avg. Dice: 0.6078299880027771 Current Avg. tumor Dice: 0.6952171325683594 Current Avg. lymph Dice: 0.4929276406764984\n"
     ]
    },
    {
     "name": "stderr",
     "output_type": "stream",
     "text": [
      "Training (9689 / 18000 Steps) (loss=0.53011): 100%|██████████| 102/102 [01:16<00:00,  1.33it/s]\n",
      "Validate (9690 / 10 Steps): 100%|██████████| 25/25 [00:30<00:00,  1.22s/it]7<00:42,  2.16it/s]\n",
      "Training (9700 / 18000 Steps) (loss=0.41307):  11%|█         | 11/102 [00:38<14:51,  9.80s/it]"
     ]
    },
    {
     "name": "stdout",
     "output_type": "stream",
     "text": [
      "Model Was Not Saved ! Current Best Avg. Dice: 0.6138152480125427 Current Avg. Dice: 0.5945999622344971 Current Avg. tumor Dice: 0.6813223958015442 Current Avg. lymph Dice: 0.47875645756721497\n"
     ]
    },
    {
     "name": "stderr",
     "output_type": "stream",
     "text": [
      "Training (9791 / 18000 Steps) (loss=0.39259): 100%|██████████| 102/102 [01:17<00:00,  1.32it/s]\n",
      "Validate (9792 / 10 Steps): 100%|██████████| 25/25 [00:30<00:00,  1.23s/it]<00:46,  2.01it/s]\n",
      "Training (9800 / 18000 Steps) (loss=0.52338):   9%|▉         | 9/102 [00:37<15:44, 10.15s/it]"
     ]
    },
    {
     "name": "stdout",
     "output_type": "stream",
     "text": [
      "Model Was Not Saved ! Current Best Avg. Dice: 0.6138152480125427 Current Avg. Dice: 0.5560082197189331 Current Avg. tumor Dice: 0.6299435496330261 Current Avg. lymph Dice: 0.4543514549732208\n"
     ]
    },
    {
     "name": "stderr",
     "output_type": "stream",
     "text": [
      "Training (9893 / 18000 Steps) (loss=0.43434): 100%|██████████| 102/102 [01:17<00:00,  1.32it/s]\n",
      "Validate (9894 / 10 Steps): 100%|██████████| 25/25 [00:30<00:00,  1.24s/it]<00:54,  1.76it/s]\n",
      "Training (9900 / 18000 Steps) (loss=0.36717):   7%|▋         | 7/102 [00:36<16:49, 10.63s/it]"
     ]
    },
    {
     "name": "stdout",
     "output_type": "stream",
     "text": [
      "Model Was Not Saved ! Current Best Avg. Dice: 0.6138152480125427 Current Avg. Dice: 0.5703517198562622 Current Avg. tumor Dice: 0.6655709147453308 Current Avg. lymph Dice: 0.4532707631587982\n"
     ]
    },
    {
     "name": "stderr",
     "output_type": "stream",
     "text": [
      "Training (9995 / 18000 Steps) (loss=0.57340): 100%|██████████| 102/102 [01:16<00:00,  1.33it/s]\n",
      "Validate (9996 / 10 Steps): 100%|██████████| 25/25 [00:30<00:00,  1.23s/it]4<01:16,  1.28it/s]\n",
      "Training (10000 / 18000 Steps) (loss=0.37819):   5%|▍         | 5/102 [00:35<18:55, 11.71s/it]"
     ]
    },
    {
     "name": "stdout",
     "output_type": "stream",
     "text": [
      "Model Was Not Saved ! Current Best Avg. Dice: 0.6138152480125427 Current Avg. Dice: 0.5968465805053711 Current Avg. tumor Dice: 0.6663058400154114 Current Avg. lymph Dice: 0.5033015012741089\n"
     ]
    },
    {
     "name": "stderr",
     "output_type": "stream",
     "text": [
      "Training (10097 / 18000 Steps) (loss=0.48686): 100%|██████████| 102/102 [01:16<00:00,  1.33it/s]\n",
      "Validate (10098 / 10 Steps): 100%|██████████| 25/25 [00:30<00:00,  1.24s/it]<02:51,  1.71s/it]\n",
      "Training (10100 / 18000 Steps) (loss=0.49827):   3%|▎         | 3/102 [00:35<25:10, 15.25s/it]"
     ]
    },
    {
     "name": "stdout",
     "output_type": "stream",
     "text": [
      "Model Was Not Saved ! Current Best Avg. Dice: 0.6138152480125427 Current Avg. Dice: 0.5536621809005737 Current Avg. tumor Dice: 0.612720787525177 Current Avg. lymph Dice: 0.47629475593566895\n"
     ]
    },
    {
     "name": "stderr",
     "output_type": "stream",
     "text": [
      "Training (10199 / 18000 Steps) (loss=0.44411): 100%|██████████| 102/102 [01:17<00:00,  1.31it/s]\n",
      "Validate (10200 / 10 Steps): 100%|██████████| 25/25 [00:30<00:00,  1.22s/it]<?, ?it/s]\n",
      "Training (10200 / 18000 Steps) (loss=0.63472):   1%|          | 1/102 [00:33<56:53, 33.80s/it]"
     ]
    },
    {
     "name": "stdout",
     "output_type": "stream",
     "text": [
      "Model Was Not Saved ! Current Best Avg. Dice: 0.6138152480125427 Current Avg. Dice: 0.5640441179275513 Current Avg. tumor Dice: 0.623526930809021 Current Avg. lymph Dice: 0.486183762550354\n"
     ]
    },
    {
     "name": "stderr",
     "output_type": "stream",
     "text": [
      "Validate (10200 / 10 Steps): 100%|██████████| 25/25 [00:30<00:00,  1.20s/it]16<00:00,  2.39it/s]\n",
      "Training (10300 / 18000 Steps) (loss=0.44204):  99%|█████████▉| 101/102 [01:46<00:09,  9.45s/it]"
     ]
    },
    {
     "name": "stdout",
     "output_type": "stream",
     "text": [
      "Model Was Not Saved ! Current Best Avg. Dice: 0.6138152480125427 Current Avg. Dice: 0.6048802137374878 Current Avg. tumor Dice: 0.672758936882019 Current Avg. lymph Dice: 0.5138533115386963\n"
     ]
    },
    {
     "name": "stderr",
     "output_type": "stream",
     "text": [
      "Training (10301 / 18000 Steps) (loss=0.33459): 100%|██████████| 102/102 [01:46<00:00,  1.05s/it]\n",
      "Validate (10302 / 10 Steps): 100%|██████████| 25/25 [00:30<00:00,  1.20s/it]5<00:01,  2.38it/s]\n",
      "Training (10400 / 18000 Steps) (loss=0.45528):  97%|█████████▋| 99/102 [01:15<00:28,  9.45s/it]"
     ]
    },
    {
     "name": "stdout",
     "output_type": "stream",
     "text": [
      "Model Was Not Saved ! Current Best Avg. Dice: 0.6138152480125427 Current Avg. Dice: 0.579903244972229 Current Avg. tumor Dice: 0.6646630167961121 Current Avg. lymph Dice: 0.4730401039123535\n"
     ]
    },
    {
     "name": "stderr",
     "output_type": "stream",
     "text": [
      "Training (10403 / 18000 Steps) (loss=0.51122): 100%|██████████| 102/102 [01:16<00:00,  1.33it/s]\n",
      "Validate (10404 / 10 Steps): 100%|██████████| 25/25 [00:30<00:00,  1.21s/it]4<00:02,  2.38it/s]\n",
      "Training (10500 / 18000 Steps) (loss=0.50459):  95%|█████████▌| 97/102 [01:14<00:47,  9.49s/it]"
     ]
    },
    {
     "name": "stdout",
     "output_type": "stream",
     "text": [
      "Model Was Not Saved ! Current Best Avg. Dice: 0.6138152480125427 Current Avg. Dice: 0.5857653617858887 Current Avg. tumor Dice: 0.6568374633789062 Current Avg. lymph Dice: 0.4908606708049774\n"
     ]
    },
    {
     "name": "stderr",
     "output_type": "stream",
     "text": [
      "Training (10505 / 18000 Steps) (loss=0.37730): 100%|██████████| 102/102 [01:16<00:00,  1.33it/s]\n",
      "Validate (10506 / 10 Steps): 100%|██████████| 25/25 [00:30<00:00,  1.21s/it]3<00:03,  2.38it/s]\n",
      "Training (10600 / 18000 Steps) (loss=0.48568):  93%|█████████▎| 95/102 [01:13<01:06,  9.50s/it]"
     ]
    },
    {
     "name": "stdout",
     "output_type": "stream",
     "text": [
      "Model Was Not Saved ! Current Best Avg. Dice: 0.6138152480125427 Current Avg. Dice: 0.545837938785553 Current Avg. tumor Dice: 0.6124643683433533 Current Avg. lymph Dice: 0.46188947558403015\n"
     ]
    },
    {
     "name": "stderr",
     "output_type": "stream",
     "text": [
      "Training (10607 / 18000 Steps) (loss=0.45684): 100%|██████████| 102/102 [01:16<00:00,  1.33it/s]\n",
      "Validate (10608 / 10 Steps): 100%|██████████| 25/25 [00:30<00:00,  1.21s/it]2<00:04,  2.37it/s]\n",
      "Training (10700 / 18000 Steps) (loss=0.48767):  91%|█████████ | 93/102 [01:12<01:25,  9.50s/it]"
     ]
    },
    {
     "name": "stdout",
     "output_type": "stream",
     "text": [
      "Model Was Not Saved ! Current Best Avg. Dice: 0.6138152480125427 Current Avg. Dice: 0.60330730676651 Current Avg. tumor Dice: 0.6883618831634521 Current Avg. lymph Dice: 0.48926612734794617\n"
     ]
    },
    {
     "name": "stderr",
     "output_type": "stream",
     "text": [
      "Training (10709 / 18000 Steps) (loss=0.46230): 100%|██████████| 102/102 [01:16<00:00,  1.33it/s]\n",
      "Validate (10710 / 10 Steps): 100%|██████████| 25/25 [00:29<00:00,  1.20s/it]1<00:05,  2.38it/s]\n",
      "Training (10800 / 18000 Steps) (loss=0.32422):  89%|████████▉ | 91/102 [01:11<01:43,  9.42s/it]"
     ]
    },
    {
     "name": "stdout",
     "output_type": "stream",
     "text": [
      "Model Was Not Saved ! Current Best Avg. Dice: 0.6138152480125427 Current Avg. Dice: 0.611193060874939 Current Avg. tumor Dice: 0.6925308704376221 Current Avg. lymph Dice: 0.5019417405128479\n"
     ]
    },
    {
     "name": "stderr",
     "output_type": "stream",
     "text": [
      "Training (10811 / 18000 Steps) (loss=0.54908): 100%|██████████| 102/102 [01:16<00:00,  1.33it/s]\n",
      "Validate (10812 / 10 Steps): 100%|██████████| 25/25 [00:29<00:00,  1.20s/it]0<00:05,  2.38it/s]\n",
      "Training (10900 / 18000 Steps) (loss=0.52753):  87%|████████▋ | 89/102 [01:10<02:02,  9.42s/it]"
     ]
    },
    {
     "name": "stdout",
     "output_type": "stream",
     "text": [
      "Model Was Not Saved ! Current Best Avg. Dice: 0.6138152480125427 Current Avg. Dice: 0.5778844952583313 Current Avg. tumor Dice: 0.6442261338233948 Current Avg. lymph Dice: 0.4861387610435486\n"
     ]
    },
    {
     "name": "stderr",
     "output_type": "stream",
     "text": [
      "Training (10913 / 18000 Steps) (loss=0.47969): 100%|██████████| 102/102 [01:16<00:00,  1.34it/s]\n",
      "Validate (10914 / 10 Steps): 100%|██████████| 25/25 [00:30<00:00,  1.21s/it]0<00:06,  2.36it/s]\n",
      "Training (11000 / 18000 Steps) (loss=0.52331):  85%|████████▌ | 87/102 [01:10<02:22,  9.53s/it]"
     ]
    },
    {
     "name": "stdout",
     "output_type": "stream",
     "text": [
      "Model Was Not Saved ! Current Best Avg. Dice: 0.6138152480125427 Current Avg. Dice: 0.5957663059234619 Current Avg. tumor Dice: 0.6797066330909729 Current Avg. lymph Dice: 0.48834216594696045\n"
     ]
    },
    {
     "name": "stderr",
     "output_type": "stream",
     "text": [
      "Training (11015 / 18000 Steps) (loss=0.41908): 100%|██████████| 102/102 [01:16<00:00,  1.33it/s]\n",
      "Validate (11016 / 10 Steps): 100%|██████████| 25/25 [00:30<00:00,  1.21s/it]8<00:07,  2.35it/s]\n",
      "Training (11100 / 18000 Steps) (loss=0.42553):  83%|████████▎ | 85/102 [01:09<02:42,  9.55s/it]"
     ]
    },
    {
     "name": "stdout",
     "output_type": "stream",
     "text": [
      "Model Was Not Saved ! Current Best Avg. Dice: 0.6138152480125427 Current Avg. Dice: 0.5950223207473755 Current Avg. tumor Dice: 0.6900678873062134 Current Avg. lymph Dice: 0.4739398956298828\n"
     ]
    },
    {
     "name": "stderr",
     "output_type": "stream",
     "text": [
      "Training (11117 / 18000 Steps) (loss=0.60755): 100%|██████████| 102/102 [01:16<00:00,  1.33it/s]\n",
      "Validate (11118 / 10 Steps): 100%|██████████| 25/25 [00:30<00:00,  1.21s/it]8<00:08,  2.38it/s]\n",
      "Training (11200 / 18000 Steps) (loss=0.51018):  81%|████████▏ | 83/102 [01:08<03:00,  9.50s/it]"
     ]
    },
    {
     "name": "stdout",
     "output_type": "stream",
     "text": [
      "Model Was Not Saved ! Current Best Avg. Dice: 0.6138152480125427 Current Avg. Dice: 0.577997624874115 Current Avg. tumor Dice: 0.6412417888641357 Current Avg. lymph Dice: 0.4923931658267975\n"
     ]
    },
    {
     "name": "stderr",
     "output_type": "stream",
     "text": [
      "Training (11219 / 18000 Steps) (loss=0.44815): 100%|██████████| 102/102 [01:16<00:00,  1.34it/s]\n",
      "Validate (11220 / 10 Steps): 100%|██████████| 25/25 [00:30<00:00,  1.22s/it]7<00:09,  2.36it/s]\n",
      "Training (11300 / 18000 Steps) (loss=0.44289):  79%|███████▉  | 81/102 [01:08<03:25,  9.80s/it]"
     ]
    },
    {
     "name": "stdout",
     "output_type": "stream",
     "text": [
      "Model Was Saved ! Current Best Avg. Dice: 0.6167417168617249 Current Avg. Dice: 0.6167417168617249 Current Avg. tumor Dice: 0.6855568289756775 Current Avg. lymph Dice: 0.5203367471694946\n"
     ]
    },
    {
     "name": "stderr",
     "output_type": "stream",
     "text": [
      "Training (11321 / 18000 Steps) (loss=0.46130): 100%|██████████| 102/102 [01:17<00:00,  1.31it/s]\n",
      "Validate (11322 / 10 Steps): 100%|██████████| 25/25 [00:30<00:00,  1.22s/it]6<00:10,  2.35it/s]\n",
      "Training (11400 / 18000 Steps) (loss=0.45585):  77%|███████▋  | 79/102 [01:07<03:39,  9.56s/it]"
     ]
    },
    {
     "name": "stdout",
     "output_type": "stream",
     "text": [
      "Model Was Not Saved ! Current Best Avg. Dice: 0.6167417168617249 Current Avg. Dice: 0.5911365151405334 Current Avg. tumor Dice: 0.6649823784828186 Current Avg. lymph Dice: 0.48669445514678955\n"
     ]
    },
    {
     "name": "stderr",
     "output_type": "stream",
     "text": [
      "Training (11423 / 18000 Steps) (loss=0.52853): 100%|██████████| 102/102 [01:17<00:00,  1.32it/s]\n",
      "Validate (11424 / 10 Steps): 100%|██████████| 25/25 [00:30<00:00,  1.20s/it]6<00:10,  2.37it/s]\n",
      "Training (11500 / 18000 Steps) (loss=0.44950):  75%|███████▌  | 77/102 [01:06<03:56,  9.47s/it]"
     ]
    },
    {
     "name": "stdout",
     "output_type": "stream",
     "text": [
      "Model Was Not Saved ! Current Best Avg. Dice: 0.6167417168617249 Current Avg. Dice: 0.5902018547058105 Current Avg. tumor Dice: 0.6639678478240967 Current Avg. lymph Dice: 0.48987385630607605\n"
     ]
    },
    {
     "name": "stderr",
     "output_type": "stream",
     "text": [
      "Training (11525 / 18000 Steps) (loss=0.53994): 100%|██████████| 102/102 [01:17<00:00,  1.32it/s]\n",
      "Validate (11526 / 10 Steps): 100%|██████████| 25/25 [00:30<00:00,  1.21s/it]4<00:11,  2.38it/s]\n",
      "Training (11600 / 18000 Steps) (loss=0.30412):  74%|███████▎  | 75/102 [01:05<04:16,  9.49s/it]"
     ]
    },
    {
     "name": "stdout",
     "output_type": "stream",
     "text": [
      "Model Was Not Saved ! Current Best Avg. Dice: 0.6167417168617249 Current Avg. Dice: 0.5808764100074768 Current Avg. tumor Dice: 0.6613291501998901 Current Avg. lymph Dice: 0.4784948229789734\n"
     ]
    },
    {
     "name": "stderr",
     "output_type": "stream",
     "text": [
      "Training (11627 / 18000 Steps) (loss=0.48828): 100%|██████████| 102/102 [01:16<00:00,  1.33it/s]\n",
      "Validate (11628 / 10 Steps): 100%|██████████| 25/25 [00:30<00:00,  1.21s/it]3<00:12,  2.36it/s]\n",
      "Training (11700 / 18000 Steps) (loss=0.50122):  72%|███████▏  | 73/102 [01:04<04:36,  9.53s/it]"
     ]
    },
    {
     "name": "stdout",
     "output_type": "stream",
     "text": [
      "Model Was Not Saved ! Current Best Avg. Dice: 0.6167417168617249 Current Avg. Dice: 0.6131912469863892 Current Avg. tumor Dice: 0.6898162364959717 Current Avg. lymph Dice: 0.5071969032287598\n"
     ]
    },
    {
     "name": "stderr",
     "output_type": "stream",
     "text": [
      "Training (11729 / 18000 Steps) (loss=0.41421): 100%|██████████| 102/102 [01:16<00:00,  1.33it/s]\n",
      "Validate (11730 / 10 Steps): 100%|██████████| 25/25 [00:30<00:00,  1.21s/it]3<00:13,  2.36it/s]\n",
      "Training (11800 / 18000 Steps) (loss=0.62899):  70%|██████▉   | 71/102 [01:03<04:55,  9.52s/it]"
     ]
    },
    {
     "name": "stdout",
     "output_type": "stream",
     "text": [
      "Model Was Not Saved ! Current Best Avg. Dice: 0.6167417168617249 Current Avg. Dice: 0.5949608683586121 Current Avg. tumor Dice: 0.6721516251564026 Current Avg. lymph Dice: 0.4915439188480377\n"
     ]
    },
    {
     "name": "stderr",
     "output_type": "stream",
     "text": [
      "Training (11831 / 18000 Steps) (loss=0.41388): 100%|██████████| 102/102 [01:16<00:00,  1.33it/s]\n",
      "Validate (11832 / 10 Steps): 100%|██████████| 25/25 [00:30<00:00,  1.21s/it]2<00:14,  2.38it/s]\n",
      "Training (11900 / 18000 Steps) (loss=0.45323):  68%|██████▊   | 69/102 [01:02<05:13,  9.50s/it]"
     ]
    },
    {
     "name": "stdout",
     "output_type": "stream",
     "text": [
      "Model Was Not Saved ! Current Best Avg. Dice: 0.6167417168617249 Current Avg. Dice: 0.5861062407493591 Current Avg. tumor Dice: 0.6375288367271423 Current Avg. lymph Dice: 0.5078942775726318\n"
     ]
    },
    {
     "name": "stderr",
     "output_type": "stream",
     "text": [
      "Training (11933 / 18000 Steps) (loss=0.48748): 100%|██████████| 102/102 [01:16<00:00,  1.33it/s]\n",
      "Validate (11934 / 10 Steps): 100%|██████████| 25/25 [00:30<00:00,  1.20s/it]1<00:15,  2.39it/s]\n",
      "Training (12000 / 18000 Steps) (loss=0.56748):  66%|██████▌   | 67/102 [01:01<05:31,  9.47s/it]"
     ]
    },
    {
     "name": "stdout",
     "output_type": "stream",
     "text": [
      "Model Was Not Saved ! Current Best Avg. Dice: 0.6167417168617249 Current Avg. Dice: 0.5426586866378784 Current Avg. tumor Dice: 0.612697184085846 Current Avg. lymph Dice: 0.4449433982372284\n"
     ]
    },
    {
     "name": "stderr",
     "output_type": "stream",
     "text": [
      "Training (12035 / 18000 Steps) (loss=0.58353): 100%|██████████| 102/102 [01:16<00:00,  1.33it/s]\n",
      "Validate (12036 / 10 Steps): 100%|██████████| 25/25 [00:30<00:00,  1.22s/it]0<00:16,  2.35it/s]\n",
      "Training (12100 / 18000 Steps) (loss=0.36149):  64%|██████▎   | 65/102 [01:01<05:55,  9.60s/it]"
     ]
    },
    {
     "name": "stdout",
     "output_type": "stream",
     "text": [
      "Model Was Not Saved ! Current Best Avg. Dice: 0.6167417168617249 Current Avg. Dice: 0.6138886213302612 Current Avg. tumor Dice: 0.6946677565574646 Current Avg. lymph Dice: 0.5066697597503662\n"
     ]
    },
    {
     "name": "stderr",
     "output_type": "stream",
     "text": [
      "Training (12137 / 18000 Steps) (loss=0.44375): 100%|██████████| 102/102 [01:16<00:00,  1.33it/s]\n",
      "Validate (12138 / 10 Steps): 100%|██████████| 25/25 [00:30<00:00,  1.21s/it]9<00:17,  2.32it/s]\n",
      "Training (12200 / 18000 Steps) (loss=0.47035):  62%|██████▏   | 63/102 [01:00<06:11,  9.52s/it]"
     ]
    },
    {
     "name": "stdout",
     "output_type": "stream",
     "text": [
      "Model Was Not Saved ! Current Best Avg. Dice: 0.6167417168617249 Current Avg. Dice: 0.613944411277771 Current Avg. tumor Dice: 0.6839937567710876 Current Avg. lymph Dice: 0.5197651982307434\n"
     ]
    },
    {
     "name": "stderr",
     "output_type": "stream",
     "text": [
      "Training (12239 / 18000 Steps) (loss=0.41722): 100%|██████████| 102/102 [01:16<00:00,  1.33it/s]\n",
      "Validate (12240 / 10 Steps): 100%|██████████| 25/25 [00:30<00:00,  1.23s/it]9<00:17,  2.35it/s]\n",
      "Training (12300 / 18000 Steps) (loss=0.49187):  60%|█████▉    | 61/102 [01:01<06:45,  9.88s/it]"
     ]
    },
    {
     "name": "stdout",
     "output_type": "stream",
     "text": [
      "Model Was Saved ! Current Best Avg. Dice: 0.6203928589820862 Current Avg. Dice: 0.6203928589820862 Current Avg. tumor Dice: 0.7035015821456909 Current Avg. lymph Dice: 0.5125909447669983\n"
     ]
    },
    {
     "name": "stderr",
     "output_type": "stream",
     "text": [
      "Training (12341 / 18000 Steps) (loss=0.66295): 100%|██████████| 102/102 [01:18<00:00,  1.30it/s]\n",
      "Validate (12342 / 10 Steps): 100%|██████████| 25/25 [00:30<00:00,  1.23s/it]7<00:18,  2.37it/s]\n",
      "Training (12400 / 18000 Steps) (loss=0.47435):  58%|█████▊    | 59/102 [00:58<06:54,  9.64s/it]"
     ]
    },
    {
     "name": "stdout",
     "output_type": "stream",
     "text": [
      "Model Was Not Saved ! Current Best Avg. Dice: 0.6203928589820862 Current Avg. Dice: 0.5489969849586487 Current Avg. tumor Dice: 0.6033827066421509 Current Avg. lymph Dice: 0.48262035846710205\n"
     ]
    },
    {
     "name": "stderr",
     "output_type": "stream",
     "text": [
      "Training (12443 / 18000 Steps) (loss=0.42545): 100%|██████████| 102/102 [01:16<00:00,  1.33it/s]\n",
      "Validate (12444 / 10 Steps): 100%|██████████| 25/25 [00:30<00:00,  1.22s/it]7<00:19,  2.39it/s]\n",
      "Training (12500 / 18000 Steps) (loss=0.24421):  56%|█████▌    | 57/102 [00:57<07:11,  9.58s/it]"
     ]
    },
    {
     "name": "stdout",
     "output_type": "stream",
     "text": [
      "Model Was Not Saved ! Current Best Avg. Dice: 0.6203928589820862 Current Avg. Dice: 0.6095276474952698 Current Avg. tumor Dice: 0.6800687909126282 Current Avg. lymph Dice: 0.5141099095344543\n"
     ]
    },
    {
     "name": "stderr",
     "output_type": "stream",
     "text": [
      "Training (12545 / 18000 Steps) (loss=0.38088): 100%|██████████| 102/102 [01:16<00:00,  1.33it/s]\n",
      "Validate (12546 / 10 Steps): 100%|██████████| 25/25 [00:30<00:00,  1.23s/it]6<00:20,  2.36it/s]\n",
      "Training (12600 / 18000 Steps) (loss=0.24837):  54%|█████▍    | 55/102 [00:57<07:32,  9.63s/it]"
     ]
    },
    {
     "name": "stdout",
     "output_type": "stream",
     "text": [
      "Model Was Not Saved ! Current Best Avg. Dice: 0.6203928589820862 Current Avg. Dice: 0.6125708222389221 Current Avg. tumor Dice: 0.6957033276557922 Current Avg. lymph Dice: 0.5037150382995605\n"
     ]
    },
    {
     "name": "stderr",
     "output_type": "stream",
     "text": [
      "Training (12647 / 18000 Steps) (loss=0.31920): 100%|██████████| 102/102 [01:17<00:00,  1.32it/s]\n",
      "Validate (12648 / 10 Steps): 100%|██████████| 25/25 [00:30<00:00,  1.24s/it]5<00:21,  2.27it/s]\n",
      "Training (12700 / 18000 Steps) (loss=0.46455):  52%|█████▏    | 53/102 [00:56<07:56,  9.72s/it]"
     ]
    },
    {
     "name": "stdout",
     "output_type": "stream",
     "text": [
      "Model Was Not Saved ! Current Best Avg. Dice: 0.6203928589820862 Current Avg. Dice: 0.6122304797172546 Current Avg. tumor Dice: 0.6925557851791382 Current Avg. lymph Dice: 0.5068950057029724\n"
     ]
    },
    {
     "name": "stderr",
     "output_type": "stream",
     "text": [
      "Training (12749 / 18000 Steps) (loss=0.48887): 100%|██████████| 102/102 [01:17<00:00,  1.32it/s]\n",
      "Validate (12750 / 10 Steps): 100%|██████████| 25/25 [00:30<00:00,  1.23s/it]4<00:22,  2.32it/s]\n",
      "Training (12800 / 18000 Steps) (loss=0.50464):  50%|█████     | 51/102 [00:55<08:12,  9.66s/it]"
     ]
    },
    {
     "name": "stdout",
     "output_type": "stream",
     "text": [
      "Model Was Not Saved ! Current Best Avg. Dice: 0.6203928589820862 Current Avg. Dice: 0.5781105756759644 Current Avg. tumor Dice: 0.6317756175994873 Current Avg. lymph Dice: 0.5121092200279236\n"
     ]
    },
    {
     "name": "stderr",
     "output_type": "stream",
     "text": [
      "Training (12851 / 18000 Steps) (loss=0.34128): 100%|██████████| 102/102 [01:17<00:00,  1.32it/s]\n",
      "Validate (12852 / 10 Steps): 100%|██████████| 25/25 [00:30<00:00,  1.23s/it]3<00:23,  2.34it/s]\n",
      "Training (12900 / 18000 Steps) (loss=0.49309):  48%|████▊     | 49/102 [00:54<08:31,  9.65s/it]"
     ]
    },
    {
     "name": "stdout",
     "output_type": "stream",
     "text": [
      "Model Was Not Saved ! Current Best Avg. Dice: 0.6203928589820862 Current Avg. Dice: 0.5999209880828857 Current Avg. tumor Dice: 0.6793822646141052 Current Avg. lymph Dice: 0.49073922634124756\n"
     ]
    },
    {
     "name": "stderr",
     "output_type": "stream",
     "text": [
      "Training (12953 / 18000 Steps) (loss=0.49554): 100%|██████████| 102/102 [01:17<00:00,  1.32it/s]\n",
      "Validate (12954 / 10 Steps): 100%|██████████| 25/25 [00:30<00:00,  1.23s/it]2<00:23,  2.38it/s]\n",
      "Training (13000 / 18000 Steps) (loss=0.40902):  46%|████▌     | 47/102 [00:53<08:50,  9.65s/it]"
     ]
    },
    {
     "name": "stdout",
     "output_type": "stream",
     "text": [
      "Model Was Not Saved ! Current Best Avg. Dice: 0.6203928589820862 Current Avg. Dice: 0.6075191497802734 Current Avg. tumor Dice: 0.6880601644515991 Current Avg. lymph Dice: 0.501799464225769\n"
     ]
    },
    {
     "name": "stderr",
     "output_type": "stream",
     "text": [
      "Training (13055 / 18000 Steps) (loss=0.59290): 100%|██████████| 102/102 [01:16<00:00,  1.33it/s]\n",
      "Validate (13056 / 10 Steps): 100%|██████████| 25/25 [00:30<00:00,  1.22s/it]1<00:24,  2.37it/s]\n",
      "Training (13100 / 18000 Steps) (loss=0.35648):  44%|████▍     | 45/102 [00:52<09:04,  9.55s/it]"
     ]
    },
    {
     "name": "stdout",
     "output_type": "stream",
     "text": [
      "Model Was Not Saved ! Current Best Avg. Dice: 0.6203928589820862 Current Avg. Dice: 0.5327432751655579 Current Avg. tumor Dice: 0.637587308883667 Current Avg. lymph Dice: 0.40344297885894775\n"
     ]
    },
    {
     "name": "stderr",
     "output_type": "stream",
     "text": [
      "Training (13157 / 18000 Steps) (loss=0.35231): 100%|██████████| 102/102 [01:16<00:00,  1.33it/s]\n",
      "Validate (13158 / 10 Steps): 100%|██████████| 25/25 [00:30<00:00,  1.24s/it]1<00:25,  2.31it/s]\n",
      "Training (13200 / 18000 Steps) (loss=0.49184):  42%|████▏     | 43/102 [00:51<09:33,  9.72s/it]"
     ]
    },
    {
     "name": "stdout",
     "output_type": "stream",
     "text": [
      "Model Was Not Saved ! Current Best Avg. Dice: 0.6203928589820862 Current Avg. Dice: 0.5866276621818542 Current Avg. tumor Dice: 0.6625359058380127 Current Avg. lymph Dice: 0.48372894525527954\n"
     ]
    },
    {
     "name": "stderr",
     "output_type": "stream",
     "text": [
      "Training (13259 / 18000 Steps) (loss=0.44346): 100%|██████████| 102/102 [01:16<00:00,  1.33it/s]\n",
      "Validate (13260 / 10 Steps): 100%|██████████| 25/25 [00:31<00:00,  1.24s/it]0<00:26,  2.36it/s]\n",
      "Training (13300 / 18000 Steps) (loss=0.48427):  40%|████      | 41/102 [00:51<09:54,  9.74s/it]"
     ]
    },
    {
     "name": "stdout",
     "output_type": "stream",
     "text": [
      "Model Was Not Saved ! Current Best Avg. Dice: 0.6203928589820862 Current Avg. Dice: 0.5372354984283447 Current Avg. tumor Dice: 0.635128915309906 Current Avg. lymph Dice: 0.41345545649528503\n"
     ]
    },
    {
     "name": "stderr",
     "output_type": "stream",
     "text": [
      "Training (13361 / 18000 Steps) (loss=0.46776): 100%|██████████| 102/102 [01:17<00:00,  1.32it/s]\n",
      "Validate (13362 / 10 Steps): 100%|██████████| 25/25 [00:30<00:00,  1.23s/it]9<00:27,  2.37it/s]\n",
      "Training (13400 / 18000 Steps) (loss=0.47894):  38%|███▊      | 39/102 [00:50<10:08,  9.66s/it]"
     ]
    },
    {
     "name": "stdout",
     "output_type": "stream",
     "text": [
      "Model Was Not Saved ! Current Best Avg. Dice: 0.6203928589820862 Current Avg. Dice: 0.6101572513580322 Current Avg. tumor Dice: 0.6953822374343872 Current Avg. lymph Dice: 0.498105525970459\n"
     ]
    },
    {
     "name": "stderr",
     "output_type": "stream",
     "text": [
      "Training (13463 / 18000 Steps) (loss=0.49388): 100%|██████████| 102/102 [01:17<00:00,  1.32it/s]\n",
      "Validate (13464 / 10 Steps): 100%|██████████| 25/25 [00:30<00:00,  1.24s/it]8<00:28,  2.35it/s]\n",
      "Training (13500 / 18000 Steps) (loss=0.48649):  36%|███▋      | 37/102 [00:49<10:31,  9.71s/it]"
     ]
    },
    {
     "name": "stdout",
     "output_type": "stream",
     "text": [
      "Model Was Not Saved ! Current Best Avg. Dice: 0.6203928589820862 Current Avg. Dice: 0.593176007270813 Current Avg. tumor Dice: 0.6714337468147278 Current Avg. lymph Dice: 0.4891282320022583\n"
     ]
    },
    {
     "name": "stderr",
     "output_type": "stream",
     "text": [
      "Training (13565 / 18000 Steps) (loss=0.27521): 100%|██████████| 102/102 [01:16<00:00,  1.33it/s]\n",
      "Validate (13566 / 10 Steps): 100%|██████████| 25/25 [00:30<00:00,  1.22s/it]7<00:28,  2.36it/s]\n",
      "Training (13600 / 18000 Steps) (loss=0.49776):  34%|███▍      | 35/102 [00:48<10:42,  9.58s/it]"
     ]
    },
    {
     "name": "stdout",
     "output_type": "stream",
     "text": [
      "Model Was Not Saved ! Current Best Avg. Dice: 0.6203928589820862 Current Avg. Dice: 0.614837646484375 Current Avg. tumor Dice: 0.6910672187805176 Current Avg. lymph Dice: 0.5167199969291687\n"
     ]
    },
    {
     "name": "stderr",
     "output_type": "stream",
     "text": [
      "Training (13667 / 18000 Steps) (loss=0.35958): 100%|██████████| 102/102 [01:16<00:00,  1.33it/s]\n",
      "Validate (13668 / 10 Steps): 100%|██████████| 25/25 [00:30<00:00,  1.23s/it]6<00:29,  2.35it/s]\n",
      "Training (13700 / 18000 Steps) (loss=0.37617):  32%|███▏      | 33/102 [00:47<11:06,  9.66s/it]"
     ]
    },
    {
     "name": "stdout",
     "output_type": "stream",
     "text": [
      "Model Was Not Saved ! Current Best Avg. Dice: 0.6203928589820862 Current Avg. Dice: 0.5796159505844116 Current Avg. tumor Dice: 0.6332281827926636 Current Avg. lymph Dice: 0.5089035630226135\n"
     ]
    },
    {
     "name": "stderr",
     "output_type": "stream",
     "text": [
      "Training (13769 / 18000 Steps) (loss=0.53322): 100%|██████████| 102/102 [01:16<00:00,  1.33it/s]\n",
      "Validate (13770 / 10 Steps): 100%|██████████| 25/25 [00:30<00:00,  1.24s/it]6<00:30,  2.37it/s]\n",
      "Training (13800 / 18000 Steps) (loss=0.39853):  30%|███       | 31/102 [00:47<11:30,  9.72s/it]"
     ]
    },
    {
     "name": "stdout",
     "output_type": "stream",
     "text": [
      "Model Was Not Saved ! Current Best Avg. Dice: 0.6203928589820862 Current Avg. Dice: 0.6026220321655273 Current Avg. tumor Dice: 0.6800735592842102 Current Avg. lymph Dice: 0.4994257986545563\n"
     ]
    },
    {
     "name": "stderr",
     "output_type": "stream",
     "text": [
      "Training (13871 / 18000 Steps) (loss=0.56794): 100%|██████████| 102/102 [01:17<00:00,  1.31it/s]\n",
      "Validate (13872 / 10 Steps): 100%|██████████| 25/25 [00:30<00:00,  1.23s/it]5<00:31,  2.35it/s]\n",
      "Training (13900 / 18000 Steps) (loss=0.43559):  28%|██▊       | 29/102 [00:45<11:46,  9.68s/it]"
     ]
    },
    {
     "name": "stdout",
     "output_type": "stream",
     "text": [
      "Model Was Not Saved ! Current Best Avg. Dice: 0.6203928589820862 Current Avg. Dice: 0.6159570813179016 Current Avg. tumor Dice: 0.6893103718757629 Current Avg. lymph Dice: 0.5151513814926147\n"
     ]
    },
    {
     "name": "stderr",
     "output_type": "stream",
     "text": [
      "Training (13973 / 18000 Steps) (loss=0.36618): 100%|██████████| 102/102 [01:17<00:00,  1.32it/s]\n",
      "Validate (13974 / 10 Steps): 100%|██████████| 25/25 [00:30<00:00,  1.23s/it]4<00:32,  2.34it/s]\n",
      "Training (14000 / 18000 Steps) (loss=0.41275):  26%|██▋       | 27/102 [00:45<12:06,  9.69s/it]"
     ]
    },
    {
     "name": "stdout",
     "output_type": "stream",
     "text": [
      "Model Was Not Saved ! Current Best Avg. Dice: 0.6203928589820862 Current Avg. Dice: 0.6145773530006409 Current Avg. tumor Dice: 0.6794580221176147 Current Avg. lymph Dice: 0.5255693793296814\n"
     ]
    },
    {
     "name": "stderr",
     "output_type": "stream",
     "text": [
      "Training (14075 / 18000 Steps) (loss=0.54614): 100%|██████████| 102/102 [01:17<00:00,  1.31it/s]\n",
      "Validate (14076 / 10 Steps): 100%|██████████| 25/25 [00:30<00:00,  1.22s/it]3<00:32,  2.38it/s]\n",
      "Training (14100 / 18000 Steps) (loss=0.49609):  25%|██▍       | 25/102 [00:43<12:16,  9.56s/it]"
     ]
    },
    {
     "name": "stdout",
     "output_type": "stream",
     "text": [
      "Model Was Not Saved ! Current Best Avg. Dice: 0.6203928589820862 Current Avg. Dice: 0.6051434278488159 Current Avg. tumor Dice: 0.6695582270622253 Current Avg. lymph Dice: 0.5150831341743469\n"
     ]
    },
    {
     "name": "stderr",
     "output_type": "stream",
     "text": [
      "Training (14177 / 18000 Steps) (loss=0.53913): 100%|██████████| 102/102 [01:17<00:00,  1.32it/s]\n",
      "Validate (14178 / 10 Steps): 100%|██████████| 25/25 [00:30<00:00,  1.22s/it]2<00:33,  2.36it/s]\n",
      "Training (14200 / 18000 Steps) (loss=0.37639):  23%|██▎       | 23/102 [00:43<12:38,  9.60s/it]"
     ]
    },
    {
     "name": "stdout",
     "output_type": "stream",
     "text": [
      "Model Was Not Saved ! Current Best Avg. Dice: 0.6203928589820862 Current Avg. Dice: 0.6078160405158997 Current Avg. tumor Dice: 0.6928556561470032 Current Avg. lymph Dice: 0.4968474805355072\n"
     ]
    },
    {
     "name": "stderr",
     "output_type": "stream",
     "text": [
      "Training (14279 / 18000 Steps) (loss=0.35516): 100%|██████████| 102/102 [01:17<00:00,  1.32it/s]\n",
      "Validate (14280 / 10 Steps): 100%|██████████| 25/25 [00:30<00:00,  1.24s/it]2<00:34,  2.35it/s]\n",
      "Training (14300 / 18000 Steps) (loss=0.44462):  21%|██        | 21/102 [00:43<13:08,  9.73s/it]"
     ]
    },
    {
     "name": "stdout",
     "output_type": "stream",
     "text": [
      "Model Was Not Saved ! Current Best Avg. Dice: 0.6203928589820862 Current Avg. Dice: 0.5731118321418762 Current Avg. tumor Dice: 0.6511848568916321 Current Avg. lymph Dice: 0.47345250844955444\n"
     ]
    },
    {
     "name": "stderr",
     "output_type": "stream",
     "text": [
      "Training (14381 / 18000 Steps) (loss=0.41684): 100%|██████████| 102/102 [01:17<00:00,  1.32it/s]\n",
      "Validate (14382 / 10 Steps): 100%|██████████| 25/25 [00:30<00:00,  1.23s/it]0<00:36,  2.29it/s]\n",
      "Training (14400 / 18000 Steps) (loss=0.46940):  19%|█▊        | 19/102 [00:41<13:25,  9.71s/it]"
     ]
    },
    {
     "name": "stdout",
     "output_type": "stream",
     "text": [
      "Model Was Not Saved ! Current Best Avg. Dice: 0.6203928589820862 Current Avg. Dice: 0.6175561547279358 Current Avg. tumor Dice: 0.69849693775177 Current Avg. lymph Dice: 0.5113781690597534\n"
     ]
    },
    {
     "name": "stderr",
     "output_type": "stream",
     "text": [
      "Training (14483 / 18000 Steps) (loss=0.39778): 100%|██████████| 102/102 [01:17<00:00,  1.32it/s]\n",
      "Validate (14484 / 10 Steps): 100%|██████████| 25/25 [00:31<00:00,  1.25s/it]0<00:37,  2.30it/s]\n",
      "Training (14500 / 18000 Steps) (loss=0.31981):  17%|█▋        | 17/102 [00:41<13:57,  9.85s/it]"
     ]
    },
    {
     "name": "stdout",
     "output_type": "stream",
     "text": [
      "Model Was Not Saved ! Current Best Avg. Dice: 0.6203928589820862 Current Avg. Dice: 0.6047748923301697 Current Avg. tumor Dice: 0.6865072250366211 Current Avg. lymph Dice: 0.49902182817459106\n"
     ]
    },
    {
     "name": "stderr",
     "output_type": "stream",
     "text": [
      "Training (14585 / 18000 Steps) (loss=0.31593): 100%|██████████| 102/102 [01:17<00:00,  1.31it/s]\n",
      "Validate (14586 / 10 Steps): 100%|██████████| 25/25 [00:30<00:00,  1.23s/it]8<00:37,  2.33it/s]\n",
      "Training (14600 / 18000 Steps) (loss=0.34395):  15%|█▍        | 15/102 [00:40<14:25,  9.95s/it]"
     ]
    },
    {
     "name": "stdout",
     "output_type": "stream",
     "text": [
      "Model Was Saved ! Current Best Avg. Dice: 0.6236235499382019 Current Avg. Dice: 0.6236235499382019 Current Avg. tumor Dice: 0.7066558003425598 Current Avg. lymph Dice: 0.5131937861442566\n"
     ]
    },
    {
     "name": "stderr",
     "output_type": "stream",
     "text": [
      "Training (14687 / 18000 Steps) (loss=0.48282): 100%|██████████| 102/102 [01:17<00:00,  1.32it/s]\n",
      "Validate (14688 / 10 Steps): 100%|██████████| 25/25 [00:30<00:00,  1.23s/it]8<00:39,  2.30it/s]\n",
      "Training (14700 / 18000 Steps) (loss=0.48090):  13%|█▎        | 13/102 [00:38<14:27,  9.74s/it]"
     ]
    },
    {
     "name": "stdout",
     "output_type": "stream",
     "text": [
      "Model Was Not Saved ! Current Best Avg. Dice: 0.6236235499382019 Current Avg. Dice: 0.5836784839630127 Current Avg. tumor Dice: 0.6551542282104492 Current Avg. lymph Dice: 0.4891040325164795\n"
     ]
    },
    {
     "name": "stderr",
     "output_type": "stream",
     "text": [
      "Training (14789 / 18000 Steps) (loss=0.47602): 100%|██████████| 102/102 [01:17<00:00,  1.32it/s]\n",
      "Validate (14790 / 10 Steps): 100%|██████████| 25/25 [00:30<00:00,  1.22s/it]7<00:42,  2.17it/s]\n",
      "Training (14800 / 18000 Steps) (loss=0.54253):  11%|█         | 11/102 [00:38<14:51,  9.79s/it]"
     ]
    },
    {
     "name": "stdout",
     "output_type": "stream",
     "text": [
      "Model Was Not Saved ! Current Best Avg. Dice: 0.6236235499382019 Current Avg. Dice: 0.5916625261306763 Current Avg. tumor Dice: 0.6486756205558777 Current Avg. lymph Dice: 0.5102965235710144\n"
     ]
    },
    {
     "name": "stderr",
     "output_type": "stream",
     "text": [
      "Training (14891 / 18000 Steps) (loss=0.54808): 100%|██████████| 102/102 [01:16<00:00,  1.33it/s]\n",
      "Validate (14892 / 10 Steps): 100%|██████████| 25/25 [00:30<00:00,  1.24s/it]<00:47,  1.98it/s]\n",
      "Training (14900 / 18000 Steps) (loss=0.29855):   9%|▉         | 9/102 [00:38<16:03, 10.36s/it]"
     ]
    },
    {
     "name": "stdout",
     "output_type": "stream",
     "text": [
      "Model Was Saved ! Current Best Avg. Dice: 0.6260872483253479 Current Avg. Dice: 0.6260872483253479 Current Avg. tumor Dice: 0.7015813589096069 Current Avg. lymph Dice: 0.5286685824394226\n"
     ]
    },
    {
     "name": "stderr",
     "output_type": "stream",
     "text": [
      "Training (14993 / 18000 Steps) (loss=0.38555): 100%|██████████| 102/102 [01:18<00:00,  1.30it/s]\n",
      "Validate (14994 / 10 Steps): 100%|██████████| 25/25 [00:30<00:00,  1.24s/it]<00:56,  1.71it/s]\n",
      "Training (15000 / 18000 Steps) (loss=0.57010):   7%|▋         | 7/102 [00:36<16:51, 10.65s/it]"
     ]
    },
    {
     "name": "stdout",
     "output_type": "stream",
     "text": [
      "Model Was Not Saved ! Current Best Avg. Dice: 0.6260872483253479 Current Avg. Dice: 0.6113383173942566 Current Avg. tumor Dice: 0.6907509565353394 Current Avg. lymph Dice: 0.5079585313796997\n"
     ]
    },
    {
     "name": "stderr",
     "output_type": "stream",
     "text": [
      "Training (15095 / 18000 Steps) (loss=0.36946): 100%|██████████| 102/102 [01:17<00:00,  1.32it/s]\n",
      "Validate (15096 / 10 Steps): 100%|██████████| 25/25 [00:30<00:00,  1.23s/it]<01:19,  1.24it/s]\n",
      "Training (15100 / 18000 Steps) (loss=0.40835):   5%|▍         | 5/102 [00:35<19:01, 11.77s/it]"
     ]
    },
    {
     "name": "stdout",
     "output_type": "stream",
     "text": [
      "Model Was Not Saved ! Current Best Avg. Dice: 0.6260872483253479 Current Avg. Dice: 0.6136170029640198 Current Avg. tumor Dice: 0.6878981590270996 Current Avg. lymph Dice: 0.5111448764801025\n"
     ]
    },
    {
     "name": "stderr",
     "output_type": "stream",
     "text": [
      "Training (15197 / 18000 Steps) (loss=0.47563): 100%|██████████| 102/102 [01:16<00:00,  1.33it/s]\n",
      "Validate (15198 / 10 Steps): 100%|██████████| 25/25 [00:31<00:00,  1.26s/it]<02:45,  1.65s/it]\n",
      "Training (15200 / 18000 Steps) (loss=0.60958):   3%|▎         | 3/102 [00:35<25:33, 15.49s/it]"
     ]
    },
    {
     "name": "stdout",
     "output_type": "stream",
     "text": [
      "Model Was Not Saved ! Current Best Avg. Dice: 0.6260872483253479 Current Avg. Dice: 0.5990260243415833 Current Avg. tumor Dice: 0.6664249897003174 Current Avg. lymph Dice: 0.509800910949707\n"
     ]
    },
    {
     "name": "stderr",
     "output_type": "stream",
     "text": [
      "Training (15299 / 18000 Steps) (loss=0.31073): 100%|██████████| 102/102 [01:18<00:00,  1.31it/s]\n",
      "Validate (15300 / 10 Steps): 100%|██████████| 25/25 [00:30<00:00,  1.23s/it]<?, ?it/s]\n",
      "Training (15300 / 18000 Steps) (loss=0.42634):   1%|          | 1/102 [00:34<57:32, 34.18s/it]"
     ]
    },
    {
     "name": "stdout",
     "output_type": "stream",
     "text": [
      "Model Was Not Saved ! Current Best Avg. Dice: 0.6260872483253479 Current Avg. Dice: 0.5920455455780029 Current Avg. tumor Dice: 0.6752987504005432 Current Avg. lymph Dice: 0.4853043854236603\n"
     ]
    },
    {
     "name": "stderr",
     "output_type": "stream",
     "text": [
      "Validate (15300 / 10 Steps): 100%|██████████| 25/25 [00:30<00:00,  1.22s/it]16<00:00,  2.39it/s]\n",
      "Training (15400 / 18000 Steps) (loss=0.27723):  99%|█████████▉| 101/102 [01:47<00:09,  9.59s/it]"
     ]
    },
    {
     "name": "stdout",
     "output_type": "stream",
     "text": [
      "Model Was Not Saved ! Current Best Avg. Dice: 0.6260872483253479 Current Avg. Dice: 0.5902984142303467 Current Avg. tumor Dice: 0.6569221615791321 Current Avg. lymph Dice: 0.5043128132820129\n"
     ]
    },
    {
     "name": "stderr",
     "output_type": "stream",
     "text": [
      "Training (15401 / 18000 Steps) (loss=0.32486): 100%|██████████| 102/102 [01:47<00:00,  1.06s/it]\n",
      "Validate (15402 / 10 Steps): 100%|██████████| 25/25 [00:31<00:00,  1.24s/it]4<00:01,  2.35it/s]\n",
      "Training (15500 / 18000 Steps) (loss=0.50862):  97%|█████████▋| 99/102 [01:15<00:29,  9.74s/it]"
     ]
    },
    {
     "name": "stdout",
     "output_type": "stream",
     "text": [
      "Model Was Not Saved ! Current Best Avg. Dice: 0.6260872483253479 Current Avg. Dice: 0.603330135345459 Current Avg. tumor Dice: 0.6884756088256836 Current Avg. lymph Dice: 0.4922572672367096\n"
     ]
    },
    {
     "name": "stderr",
     "output_type": "stream",
     "text": [
      "Training (15503 / 18000 Steps) (loss=0.35382): 100%|██████████| 102/102 [01:17<00:00,  1.32it/s]\n",
      "Validate (15504 / 10 Steps): 100%|██████████| 25/25 [00:30<00:00,  1.23s/it]3<00:02,  2.36it/s]\n",
      "Training (15600 / 18000 Steps) (loss=0.58397):  95%|█████████▌| 97/102 [01:14<00:48,  9.69s/it]"
     ]
    },
    {
     "name": "stdout",
     "output_type": "stream",
     "text": [
      "Model Was Not Saved ! Current Best Avg. Dice: 0.6260872483253479 Current Avg. Dice: 0.575873851776123 Current Avg. tumor Dice: 0.6697750687599182 Current Avg. lymph Dice: 0.45171138644218445\n"
     ]
    },
    {
     "name": "stderr",
     "output_type": "stream",
     "text": [
      "Training (15605 / 18000 Steps) (loss=0.30808): 100%|██████████| 102/102 [01:16<00:00,  1.33it/s]\n",
      "Validate (15606 / 10 Steps): 100%|██████████| 25/25 [00:30<00:00,  1.23s/it]3<00:03,  2.35it/s]\n",
      "Training (15700 / 18000 Steps) (loss=0.46277):  93%|█████████▎| 95/102 [01:14<01:07,  9.68s/it]"
     ]
    },
    {
     "name": "stdout",
     "output_type": "stream",
     "text": [
      "Model Was Not Saved ! Current Best Avg. Dice: 0.6260872483253479 Current Avg. Dice: 0.6199026107788086 Current Avg. tumor Dice: 0.690758228302002 Current Avg. lymph Dice: 0.5273579955101013\n"
     ]
    },
    {
     "name": "stderr",
     "output_type": "stream",
     "text": [
      "Training (15707 / 18000 Steps) (loss=0.51752): 100%|██████████| 102/102 [01:17<00:00,  1.32it/s]\n",
      "Validate (15708 / 10 Steps): 100%|██████████| 25/25 [00:30<00:00,  1.23s/it]2<00:04,  2.39it/s]\n",
      "Training (15800 / 18000 Steps) (loss=0.43291):  91%|█████████ | 93/102 [01:12<01:26,  9.66s/it]"
     ]
    },
    {
     "name": "stdout",
     "output_type": "stream",
     "text": [
      "Model Was Not Saved ! Current Best Avg. Dice: 0.6260872483253479 Current Avg. Dice: 0.6084451079368591 Current Avg. tumor Dice: 0.6895796060562134 Current Avg. lymph Dice: 0.5045363306999207\n"
     ]
    },
    {
     "name": "stderr",
     "output_type": "stream",
     "text": [
      "Training (15809 / 18000 Steps) (loss=0.41928): 100%|██████████| 102/102 [01:16<00:00,  1.33it/s]\n",
      "Validate (15810 / 10 Steps): 100%|██████████| 25/25 [00:30<00:00,  1.22s/it]1<00:05,  2.39it/s]\n",
      "Training (15900 / 18000 Steps) (loss=0.42025):  89%|████████▉ | 91/102 [01:12<01:45,  9.58s/it]"
     ]
    },
    {
     "name": "stdout",
     "output_type": "stream",
     "text": [
      "Model Was Not Saved ! Current Best Avg. Dice: 0.6260872483253479 Current Avg. Dice: 0.6165257096290588 Current Avg. tumor Dice: 0.6998032331466675 Current Avg. lymph Dice: 0.5044851303100586\n"
     ]
    },
    {
     "name": "stderr",
     "output_type": "stream",
     "text": [
      "Training (15911 / 18000 Steps) (loss=0.45201): 100%|██████████| 102/102 [01:16<00:00,  1.33it/s]\n",
      "Validate (15912 / 10 Steps): 100%|██████████| 25/25 [00:30<00:00,  1.23s/it]0<00:05,  2.37it/s]\n",
      "Training (16000 / 18000 Steps) (loss=0.50640):  87%|████████▋ | 89/102 [01:11<02:05,  9.65s/it]"
     ]
    },
    {
     "name": "stdout",
     "output_type": "stream",
     "text": [
      "Model Was Not Saved ! Current Best Avg. Dice: 0.6260872483253479 Current Avg. Dice: 0.604186475276947 Current Avg. tumor Dice: 0.678916335105896 Current Avg. lymph Dice: 0.5034765005111694\n"
     ]
    },
    {
     "name": "stderr",
     "output_type": "stream",
     "text": [
      "Training (16013 / 18000 Steps) (loss=0.70380): 100%|██████████| 102/102 [01:17<00:00,  1.32it/s]\n",
      "Validate (16014 / 10 Steps): 100%|██████████| 25/25 [00:30<00:00,  1.24s/it]9<00:06,  2.33it/s]\n",
      "Training (16100 / 18000 Steps) (loss=0.31604):  85%|████████▌ | 87/102 [01:10<02:25,  9.71s/it]"
     ]
    },
    {
     "name": "stdout",
     "output_type": "stream",
     "text": [
      "Model Was Not Saved ! Current Best Avg. Dice: 0.6260872483253479 Current Avg. Dice: 0.5973378419876099 Current Avg. tumor Dice: 0.699168860912323 Current Avg. lymph Dice: 0.46332848072052\n"
     ]
    },
    {
     "name": "stderr",
     "output_type": "stream",
     "text": [
      "Training (16115 / 18000 Steps) (loss=0.34369): 100%|██████████| 102/102 [01:17<00:00,  1.32it/s]\n",
      "Validate (16116 / 10 Steps): 100%|██████████| 25/25 [00:30<00:00,  1.20s/it]8<00:07,  2.38it/s]\n",
      "Training (16200 / 18000 Steps) (loss=0.42230):  83%|████████▎ | 85/102 [01:08<02:40,  9.46s/it]"
     ]
    },
    {
     "name": "stdout",
     "output_type": "stream",
     "text": [
      "Model Was Not Saved ! Current Best Avg. Dice: 0.6260872483253479 Current Avg. Dice: 0.6106866598129272 Current Avg. tumor Dice: 0.6908783912658691 Current Avg. lymph Dice: 0.5057193040847778\n"
     ]
    },
    {
     "name": "stderr",
     "output_type": "stream",
     "text": [
      "Training (16217 / 18000 Steps) (loss=0.42767): 100%|██████████| 102/102 [01:16<00:00,  1.34it/s]\n",
      "Validate (16218 / 10 Steps): 100%|██████████| 25/25 [00:30<00:00,  1.21s/it]8<00:08,  2.36it/s]\n",
      "Training (16300 / 18000 Steps) (loss=0.25246):  81%|████████▏ | 83/102 [01:08<03:00,  9.52s/it]"
     ]
    },
    {
     "name": "stdout",
     "output_type": "stream",
     "text": [
      "Model Was Not Saved ! Current Best Avg. Dice: 0.6260872483253479 Current Avg. Dice: 0.601271390914917 Current Avg. tumor Dice: 0.6940938830375671 Current Avg. lymph Dice: 0.48018643260002136\n"
     ]
    },
    {
     "name": "stderr",
     "output_type": "stream",
     "text": [
      "Training (16319 / 18000 Steps) (loss=0.43492): 100%|██████████| 102/102 [01:16<00:00,  1.33it/s]\n",
      "Validate (16320 / 10 Steps): 100%|██████████| 25/25 [00:30<00:00,  1.22s/it]7<00:09,  2.38it/s]\n",
      "Training (16400 / 18000 Steps) (loss=0.33390):  79%|███████▉  | 81/102 [01:07<03:21,  9.58s/it]"
     ]
    },
    {
     "name": "stdout",
     "output_type": "stream",
     "text": [
      "Model Was Not Saved ! Current Best Avg. Dice: 0.6260872483253479 Current Avg. Dice: 0.6130202412605286 Current Avg. tumor Dice: 0.689753532409668 Current Avg. lymph Dice: 0.5119508504867554\n"
     ]
    },
    {
     "name": "stderr",
     "output_type": "stream",
     "text": [
      "Training (16421 / 18000 Steps) (loss=0.62926): 100%|██████████| 102/102 [01:16<00:00,  1.33it/s]\n",
      "Validate (16422 / 10 Steps): 100%|██████████| 25/25 [00:29<00:00,  1.20s/it]6<00:10,  2.38it/s]\n",
      "Training (16500 / 18000 Steps) (loss=0.52099):  77%|███████▋  | 79/102 [01:06<03:36,  9.41s/it]"
     ]
    },
    {
     "name": "stdout",
     "output_type": "stream",
     "text": [
      "Model Was Not Saved ! Current Best Avg. Dice: 0.6260872483253479 Current Avg. Dice: 0.5999218821525574 Current Avg. tumor Dice: 0.6769272089004517 Current Avg. lymph Dice: 0.4954768419265747\n"
     ]
    },
    {
     "name": "stderr",
     "output_type": "stream",
     "text": [
      "Training (16523 / 18000 Steps) (loss=0.55192): 100%|██████████| 102/102 [01:16<00:00,  1.34it/s]\n",
      "Validate (16524 / 10 Steps): 100%|██████████| 25/25 [00:30<00:00,  1.22s/it]5<00:11,  2.35it/s]\n",
      "Training (16600 / 18000 Steps) (loss=0.43947):  75%|███████▌  | 77/102 [01:06<03:59,  9.58s/it]"
     ]
    },
    {
     "name": "stdout",
     "output_type": "stream",
     "text": [
      "Model Was Not Saved ! Current Best Avg. Dice: 0.6260872483253479 Current Avg. Dice: 0.5989826321601868 Current Avg. tumor Dice: 0.6679577827453613 Current Avg. lymph Dice: 0.5088701248168945\n"
     ]
    },
    {
     "name": "stderr",
     "output_type": "stream",
     "text": [
      "Training (16625 / 18000 Steps) (loss=0.32384): 100%|██████████| 102/102 [01:16<00:00,  1.33it/s]\n",
      "Validate (16626 / 10 Steps): 100%|██████████| 25/25 [00:30<00:00,  1.23s/it]4<00:12,  2.32it/s]\n",
      "Training (16700 / 18000 Steps) (loss=0.47296):  74%|███████▎  | 75/102 [01:05<04:20,  9.65s/it]"
     ]
    },
    {
     "name": "stdout",
     "output_type": "stream",
     "text": [
      "Model Was Not Saved ! Current Best Avg. Dice: 0.6260872483253479 Current Avg. Dice: 0.6217730045318604 Current Avg. tumor Dice: 0.6996497511863708 Current Avg. lymph Dice: 0.5225034356117249\n"
     ]
    },
    {
     "name": "stderr",
     "output_type": "stream",
     "text": [
      "Training (16727 / 18000 Steps) (loss=0.54160): 100%|██████████| 102/102 [01:16<00:00,  1.33it/s]\n",
      "Validate (16728 / 10 Steps): 100%|██████████| 25/25 [00:30<00:00,  1.22s/it]3<00:12,  2.35it/s]\n",
      "Training (16800 / 18000 Steps) (loss=0.48021):  72%|███████▏  | 73/102 [01:04<04:44,  9.81s/it]"
     ]
    },
    {
     "name": "stdout",
     "output_type": "stream",
     "text": [
      "Model Was Saved ! Current Best Avg. Dice: 0.6310310363769531 Current Avg. Dice: 0.6310310363769531 Current Avg. tumor Dice: 0.7083368301391602 Current Avg. lymph Dice: 0.527339518070221\n"
     ]
    },
    {
     "name": "stderr",
     "output_type": "stream",
     "text": [
      "Training (16829 / 18000 Steps) (loss=0.47124): 100%|██████████| 102/102 [01:17<00:00,  1.32it/s]\n",
      "Validate (16830 / 10 Steps): 100%|██████████| 25/25 [00:30<00:00,  1.22s/it]2<00:13,  2.33it/s]\n",
      "Training (16900 / 18000 Steps) (loss=0.47493):  70%|██████▉   | 71/102 [01:03<04:56,  9.57s/it]"
     ]
    },
    {
     "name": "stdout",
     "output_type": "stream",
     "text": [
      "Model Was Not Saved ! Current Best Avg. Dice: 0.6310310363769531 Current Avg. Dice: 0.6111943125724792 Current Avg. tumor Dice: 0.6775960326194763 Current Avg. lymph Dice: 0.520819365978241\n"
     ]
    },
    {
     "name": "stderr",
     "output_type": "stream",
     "text": [
      "Training (16931 / 18000 Steps) (loss=0.43586): 100%|██████████| 102/102 [01:16<00:00,  1.33it/s]\n",
      "Validate (16932 / 10 Steps): 100%|██████████| 25/25 [00:30<00:00,  1.21s/it]1<00:14,  2.39it/s]\n",
      "Training (17000 / 18000 Steps) (loss=0.47844):  68%|██████▊   | 69/102 [01:02<05:14,  9.54s/it]"
     ]
    },
    {
     "name": "stdout",
     "output_type": "stream",
     "text": [
      "Model Was Not Saved ! Current Best Avg. Dice: 0.6310310363769531 Current Avg. Dice: 0.6220864057540894 Current Avg. tumor Dice: 0.6953794360160828 Current Avg. lymph Dice: 0.5253283381462097\n"
     ]
    },
    {
     "name": "stderr",
     "output_type": "stream",
     "text": [
      "Training (17033 / 18000 Steps) (loss=0.44233): 100%|██████████| 102/102 [01:16<00:00,  1.34it/s]\n",
      "Validate (17034 / 10 Steps): 100%|██████████| 25/25 [00:30<00:00,  1.20s/it]0<00:15,  2.39it/s]\n",
      "Training (17100 / 18000 Steps) (loss=0.40572):  66%|██████▌   | 67/102 [01:01<05:31,  9.46s/it]"
     ]
    },
    {
     "name": "stdout",
     "output_type": "stream",
     "text": [
      "Model Was Not Saved ! Current Best Avg. Dice: 0.6310310363769531 Current Avg. Dice: 0.6059118509292603 Current Avg. tumor Dice: 0.6750289797782898 Current Avg. lymph Dice: 0.5128673911094666\n"
     ]
    },
    {
     "name": "stderr",
     "output_type": "stream",
     "text": [
      "Training (17135 / 18000 Steps) (loss=0.60329): 100%|██████████| 102/102 [01:15<00:00,  1.34it/s]\n",
      "Validate (17136 / 10 Steps): 100%|██████████| 25/25 [00:30<00:00,  1.23s/it]0<00:16,  2.34it/s]\n",
      "Training (17200 / 18000 Steps) (loss=0.43512):  64%|██████▎   | 65/102 [01:01<05:57,  9.68s/it]"
     ]
    },
    {
     "name": "stdout",
     "output_type": "stream",
     "text": [
      "Model Was Not Saved ! Current Best Avg. Dice: 0.6310310363769531 Current Avg. Dice: 0.5639147162437439 Current Avg. tumor Dice: 0.6428336501121521 Current Avg. lymph Dice: 0.4569437801837921\n"
     ]
    },
    {
     "name": "stderr",
     "output_type": "stream",
     "text": [
      "Training (17237 / 18000 Steps) (loss=0.43619): 100%|██████████| 102/102 [01:16<00:00,  1.33it/s]\n",
      "Validate (17238 / 10 Steps): 100%|██████████| 25/25 [00:30<00:00,  1.24s/it]9<00:17,  2.35it/s]\n",
      "Training (17300 / 18000 Steps) (loss=0.49879):  62%|██████▏   | 63/102 [01:00<06:19,  9.73s/it]"
     ]
    },
    {
     "name": "stdout",
     "output_type": "stream",
     "text": [
      "Model Was Not Saved ! Current Best Avg. Dice: 0.6310310363769531 Current Avg. Dice: 0.6098253130912781 Current Avg. tumor Dice: 0.7127965092658997 Current Avg. lymph Dice: 0.47464731335639954\n"
     ]
    },
    {
     "name": "stderr",
     "output_type": "stream",
     "text": [
      "Training (17339 / 18000 Steps) (loss=0.56738): 100%|██████████| 102/102 [01:17<00:00,  1.32it/s]\n",
      "Validate (17340 / 10 Steps): 100%|██████████| 25/25 [00:30<00:00,  1.23s/it]8<00:17,  2.38it/s]\n",
      "Training (17400 / 18000 Steps) (loss=0.57319):  60%|█████▉    | 61/102 [00:59<06:34,  9.63s/it]"
     ]
    },
    {
     "name": "stdout",
     "output_type": "stream",
     "text": [
      "Model Was Not Saved ! Current Best Avg. Dice: 0.6310310363769531 Current Avg. Dice: 0.6145873069763184 Current Avg. tumor Dice: 0.6984158754348755 Current Avg. lymph Dice: 0.5034225583076477\n"
     ]
    },
    {
     "name": "stderr",
     "output_type": "stream",
     "text": [
      "Training (17441 / 18000 Steps) (loss=0.44731): 100%|██████████| 102/102 [01:16<00:00,  1.33it/s]\n",
      "Validate (17442 / 10 Steps): 100%|██████████| 25/25 [00:30<00:00,  1.21s/it]7<00:18,  2.37it/s]\n",
      "Training (17500 / 18000 Steps) (loss=0.40411):  58%|█████▊    | 59/102 [00:57<06:49,  9.53s/it]"
     ]
    },
    {
     "name": "stdout",
     "output_type": "stream",
     "text": [
      "Model Was Not Saved ! Current Best Avg. Dice: 0.6310310363769531 Current Avg. Dice: 0.6235079169273376 Current Avg. tumor Dice: 0.6973439455032349 Current Avg. lymph Dice: 0.521023154258728\n"
     ]
    },
    {
     "name": "stderr",
     "output_type": "stream",
     "text": [
      "Training (17543 / 18000 Steps) (loss=0.38152): 100%|██████████| 102/102 [01:16<00:00,  1.34it/s]\n",
      "Validate (17544 / 10 Steps): 100%|██████████| 25/25 [00:30<00:00,  1.21s/it]7<00:19,  2.38it/s]\n",
      "Training (17600 / 18000 Steps) (loss=0.46526):  56%|█████▌    | 57/102 [00:57<07:07,  9.51s/it]"
     ]
    },
    {
     "name": "stdout",
     "output_type": "stream",
     "text": [
      "Model Was Not Saved ! Current Best Avg. Dice: 0.6310310363769531 Current Avg. Dice: 0.5881960391998291 Current Avg. tumor Dice: 0.6641690731048584 Current Avg. lymph Dice: 0.4859294891357422\n"
     ]
    },
    {
     "name": "stderr",
     "output_type": "stream",
     "text": [
      "Training (17645 / 18000 Steps) (loss=0.41878): 100%|██████████| 102/102 [01:16<00:00,  1.34it/s]\n",
      "Validate (17646 / 10 Steps): 100%|██████████| 25/25 [00:30<00:00,  1.21s/it]6<00:20,  2.37it/s]\n",
      "Training (17700 / 18000 Steps) (loss=0.58903):  54%|█████▍    | 55/102 [00:56<07:25,  9.49s/it]"
     ]
    },
    {
     "name": "stdout",
     "output_type": "stream",
     "text": [
      "Model Was Not Saved ! Current Best Avg. Dice: 0.6310310363769531 Current Avg. Dice: 0.6285922527313232 Current Avg. tumor Dice: 0.7091005444526672 Current Avg. lymph Dice: 0.5208126306533813\n"
     ]
    },
    {
     "name": "stderr",
     "output_type": "stream",
     "text": [
      "Training (17747 / 18000 Steps) (loss=0.42604): 100%|██████████| 102/102 [01:16<00:00,  1.34it/s]\n",
      "Validate (17748 / 10 Steps): 100%|██████████| 25/25 [00:30<00:00,  1.23s/it]5<00:20,  2.39it/s]\n",
      "Training (17800 / 18000 Steps) (loss=0.43098):  52%|█████▏    | 53/102 [00:55<07:52,  9.64s/it]"
     ]
    },
    {
     "name": "stdout",
     "output_type": "stream",
     "text": [
      "Model Was Not Saved ! Current Best Avg. Dice: 0.6310310363769531 Current Avg. Dice: 0.6154085993766785 Current Avg. tumor Dice: 0.6861018538475037 Current Avg. lymph Dice: 0.5208561420440674\n"
     ]
    },
    {
     "name": "stderr",
     "output_type": "stream",
     "text": [
      "Training (17849 / 18000 Steps) (loss=0.59454): 100%|██████████| 102/102 [01:16<00:00,  1.33it/s]\n",
      "Validate (17850 / 10 Steps): 100%|██████████| 25/25 [00:30<00:00,  1.21s/it]4<00:21,  2.37it/s]\n",
      "Training (17900 / 18000 Steps) (loss=0.37998):  50%|█████     | 51/102 [00:55<08:16,  9.74s/it]"
     ]
    },
    {
     "name": "stdout",
     "output_type": "stream",
     "text": [
      "Model Was Saved ! Current Best Avg. Dice: 0.6411275267601013 Current Avg. Dice: 0.6411275267601013 Current Avg. tumor Dice: 0.7289764881134033 Current Avg. lymph Dice: 0.5249375104904175\n"
     ]
    },
    {
     "name": "stderr",
     "output_type": "stream",
     "text": [
      "Training (17951 / 18000 Steps) (loss=0.43664): 100%|██████████| 102/102 [01:16<00:00,  1.33it/s]\n",
      "Validate (17952 / 10 Steps): 100%|██████████| 25/25 [00:30<00:00,  1.21s/it]3<00:22,  2.37it/s]\n",
      "Training (18000 / 18000 Steps) (loss=0.45025):  48%|████▊     | 49/102 [00:53<08:23,  9.51s/it]"
     ]
    },
    {
     "name": "stdout",
     "output_type": "stream",
     "text": [
      "Model Was Not Saved ! Current Best Avg. Dice: 0.6411275267601013 Current Avg. Dice: 0.5999795794487 Current Avg. tumor Dice: 0.6922481060028076 Current Avg. lymph Dice: 0.4843425452709198\n"
     ]
    },
    {
     "name": "stderr",
     "output_type": "stream",
     "text": [
      "Training (18053 / 18000 Steps) (loss=0.47755): 100%|██████████| 102/102 [01:16<00:00,  1.34it/s]\n"
     ]
    }
   ],
   "source": [
    "model_dir = '/home/nada.saadi/CTPET/hecktor2022_cropped/4centers-Petonly'\n",
    "\n",
    "def validation(epoch_iterator_val):\n",
    "    model.eval()\n",
    "    with torch.no_grad():\n",
    "        for step, batch in enumerate(epoch_iterator_val):\n",
    "            val_inputs, val_labels = (batch[\"pt\"].cuda(), batch[\"seg\"].cuda())\n",
    "            val_outputs = sliding_window_inference(val_inputs, (96, 96, 96), 4, model)\n",
    "            val_labels_list = decollate_batch(val_labels)\n",
    "            val_labels_convert = [\n",
    "                post_label(val_label_tensor) for val_label_tensor in val_labels_list\n",
    "            ]\n",
    "            val_outputs_list = decollate_batch(val_outputs)\n",
    "            val_output_convert = [\n",
    "                post_pred(val_pred_tensor) for val_pred_tensor in val_outputs_list\n",
    "            ]\n",
    "            dice_metric(y_pred=val_output_convert, y=val_labels_convert)\n",
    "            dice_metric_batch(y_pred=val_output_convert, y=val_labels_convert)\n",
    "            epoch_iterator_val.set_description(\n",
    "                \"Validate (%d / %d Steps)\" % (global_step, 10.0)\n",
    "            )\n",
    "        mean_dice_val = dice_metric.aggregate().item()\n",
    "        metric_batch_val = dice_metric_batch.aggregate()\n",
    "\n",
    "        metric_tumor = metric_batch_val[0].item()\n",
    "        metric_lymph = metric_batch_val[1].item()\n",
    "\n",
    "        dice_metric.reset()\n",
    "        dice_metric_batch.reset()\n",
    "    return mean_dice_val, metric_tumor, metric_lymph\n",
    "\n",
    "\n",
    "def train(global_step, train_loader, dice_val_best, global_step_best):\n",
    "    model.train()\n",
    "    epoch_loss = 0\n",
    "    step = 0\n",
    "    epoch_iterator = tqdm(\n",
    "        train_loader, desc=\"Training (X / X Steps) (loss=X.X)\", dynamic_ncols=True\n",
    "    )\n",
    "    for step, batch in enumerate(epoch_iterator):\n",
    "        step += 1\n",
    "        x, y = (batch[\"pt\"].cuda(), batch[\"seg\"].cuda())\n",
    "        logit_map = model(x)\n",
    "        loss = loss_function(logit_map, y)\n",
    "        loss.backward()\n",
    "        epoch_loss += loss.item()\n",
    "        optimizer.step()\n",
    "        optimizer.zero_grad()\n",
    "        epoch_iterator.set_description(\n",
    "            \"Training (%d / %d Steps) (loss=%2.5f)\"\n",
    "            % (global_step, max_iterations, loss)\n",
    "        )\n",
    "        if (\n",
    "            global_step % eval_num == 0 and global_step != 0\n",
    "        ) or global_step == max_iterations:\n",
    "            epoch_iterator_val = tqdm(\n",
    "                val_loader, desc=\"Validate (X / X Steps) (dice=X.X)\", dynamic_ncols=True\n",
    "            )\n",
    "            dice_val, metric_tumor, metric_lymph = validation(epoch_iterator_val)\n",
    "            epoch_loss /= step\n",
    "            epoch_loss_values.append(epoch_loss)\n",
    "            metric_values.append(dice_val)\n",
    "            metric_values_tumor.append(metric_tumor)\n",
    "            metric_values_lymph.append(metric_lymph)\n",
    "            if dice_val > dice_val_best:\n",
    "                dice_val_best = dice_val\n",
    "                global_step_best = global_step\n",
    "                torch.save(\n",
    "                    model.state_dict(), os.path.join(model_dir, \"4centers-ptonly.pth\")\n",
    "                )\n",
    "                print(\n",
    "                    \"Model Was Saved ! Current Best Avg. Dice: {} Current Avg. Dice: {} Current Avg. tumor Dice: {} Current Avg. lymph Dice: {}\".format(\n",
    "                        dice_val_best, dice_val, metric_tumor, metric_lymph\n",
    "                    )\n",
    "                )\n",
    "            else:\n",
    "                print(\n",
    "                    \"Model Was Not Saved ! Current Best Avg. Dice: {} Current Avg. Dice: {} Current Avg. tumor Dice: {} Current Avg. lymph Dice: {}\".format(\n",
    "                        dice_val_best, dice_val,  metric_tumor, metric_lymph\n",
    "                    )\n",
    "                )\n",
    "        global_step += 1\n",
    "    return global_step, dice_val_best, global_step_best\n",
    "\n",
    "\n",
    "max_iterations = 18000\n",
    "eval_num = 100\n",
    "\n",
    "post_label = AsDiscrete(to_onehot=3)\n",
    "post_pred = AsDiscrete(argmax=True, to_onehot=3)\n",
    "\n",
    "dice_metric = DiceMetric(include_background=False, reduction=\"mean\", get_not_nans=False)\n",
    "dice_metric_batch = DiceMetric(include_background=False, reduction=\"mean_batch\")\n",
    "\n",
    "epoch = 0\n",
    "max_num_epochs = 530\n",
    "\n",
    "global_step = 0\n",
    "dice_val_best = 0.0\n",
    "global_step_best = 0\n",
    "epoch_loss_values = []\n",
    "metric_values = []\n",
    "metric_values_tumor = []\n",
    "metric_values_lymph = []\n",
    "while global_step < max_iterations:\n",
    "    global_step, dice_val_best, global_step_best = train(\n",
    "        global_step, train_loader, dice_val_best, global_step_best\n",
    "    )\n",
    "    # wandb.log({'learning_rate': optimizer.param_groups[0]['lr']})\n",
    "    # wandb.log({'Best Dice': dice_val_best})\n",
    "    epoch += 1\n",
    "    #optimizer.param_groups[0]['lr'] = poly_lr(epoch, max_num_epochs, 0.005676 , 0.9)\n",
    "# model.load_state_dict(torch.load(os.path.join(model_dir, \"best_metric_luck_UNETr_prompt.pth\")))"
   ]
  }
 ],
 "metadata": {
  "kernelspec": {
   "display_name": "clam",
   "language": "python",
   "name": "python3"
  },
  "language_info": {
   "codemirror_mode": {
    "name": "ipython",
    "version": 3
   },
   "file_extension": ".py",
   "mimetype": "text/x-python",
   "name": "python",
   "nbconvert_exporter": "python",
   "pygments_lexer": "ipython3",
   "version": "3.8.0"
  }
 },
 "nbformat": 4,
 "nbformat_minor": 2
}
