{
 "cells": [
  {
   "cell_type": "code",
   "execution_count": 1,
   "metadata": {},
   "outputs": [
    {
     "name": "stdout",
     "output_type": "stream",
     "text": [
      "1\n"
     ]
    },
    {
     "name": "stderr",
     "output_type": "stream",
     "text": [
      "/tmp/ipykernel_1415694/306556414.py:9: TqdmWarning: IProgress not found. Please update jupyter and ipywidgets. See https://ipywidgets.readthedocs.io/en/stable/user_install.html\n",
      "  from tqdm.autonotebook import tqdm\n"
     ]
    }
   ],
   "source": [
    "import torch\n",
    "import torch.nn as nn\n",
    "from torch.utils.data import DataLoader\n",
    "from collections.abc import Sequence\n",
    "\n",
    "from unetr import CustomedUNETR\n",
    "\n",
    "import json\n",
    "from tqdm.autonotebook import tqdm\n",
    "import os\n",
    "os.environ[\"CUDA_DEVICE_ORDER\"] = \"PCI_BUS_ID\"\n",
    "os.environ[\"CUDA_VISIBLE_DEVICES\"] = \"2\" \n",
    "\n",
    "print(torch.cuda.device_count())\n",
    "torch.backends.cudnn.benchmark = True\n",
    "device = torch.device(\"cuda\" if torch.cuda.is_available() else \"cpu\")"
   ]
  },
  {
   "cell_type": "code",
   "execution_count": 2,
   "metadata": {},
   "outputs": [],
   "source": [
    "import os\n",
    "import shutil\n",
    "import tempfile\n",
    "\n",
    "import matplotlib.pyplot as plt\n",
    "import numpy as np\n",
    "from tqdm import tqdm\n",
    "from glob import glob\n",
    "# import wandb\n",
    "\n",
    "import monai\n",
    "from monai.losses import DiceCELoss, DiceFocalLoss, FocalLoss\n",
    "from monai.inferers import sliding_window_inference\n",
    "from monai import transforms\n",
    "\n",
    "from monai.transforms import (\n",
    "       AsDiscrete,\n",
    "    Compose,\n",
    "    CropForegroundd,\n",
    "    LoadImaged,\n",
    "    Orientationd,\n",
    "    RandFlipd,\n",
    "    RandCropByPosNegLabeld,\n",
    "    RandShiftIntensityd,\n",
    "    ScaleIntensityRanged,\n",
    "    Spacingd,\n",
    "    RandRotate90d,\n",
    "    MapTransform,\n",
    "    ScaleIntensityd,\n",
    "    #AddChanneld,\n",
    "    SpatialPadd,\n",
    "    CenterSpatialCropd,\n",
    "    EnsureChannelFirstd,\n",
    "    ConcatItemsd,\n",
    "    AdjustContrastd, \n",
    "    Rand3DElasticd,\n",
    "    HistogramNormalized,\n",
    "    NormalizeIntensityd,\n",
    "    Invertd,\n",
    "    SaveImage,\n",
    "\n",
    ")\n",
    "\n",
    "from monai.config import print_config\n",
    "from monai.metrics import DiceMetric\n",
    "from monai.networks.nets import SwinUNETR, UNETR, SegResNet\n",
    "from monai.data import (\n",
    "    DataLoader,\n",
    "    CacheDataset,\n",
    "    load_decathlon_datalist,\n",
    "    decollate_batch,\n",
    ")\n",
    "from monai import data\n",
    "\n",
    "\n",
    "from monai.utils import first, set_determinism\n",
    "from sklearn.model_selection import train_test_split\n",
    "import json\n",
    "\n",
    "\n",
    "import torch"
   ]
  },
  {
   "cell_type": "code",
   "execution_count": 3,
   "metadata": {},
   "outputs": [],
   "source": [
    "set_determinism(seed=1024)"
   ]
  },
  {
   "cell_type": "code",
   "execution_count": 4,
   "metadata": {},
   "outputs": [],
   "source": [
    "data_dir = '/home/nada.saadi/MIS-FM/hecktor2022_cropped'\n",
    "json_dir = \"/home/nada.saadi/CTPET/hecktor2022_cropped/HMR_ctpt_train_new.json\""
   ]
  },
  {
   "cell_type": "code",
   "execution_count": 5,
   "metadata": {},
   "outputs": [],
   "source": [
    "def datafold_read(datalist, basedir, fold=0, key=\"training\"):\n",
    "    with open(datalist) as f:\n",
    "        json_data = json.load(f)\n",
    "\n",
    "    json_data = json_data[key]\n",
    "\n",
    "    for d in json_data:\n",
    "        for k in d:\n",
    "            if isinstance(d[k], list):\n",
    "                d[k] = [os.path.join(basedir, iv) for iv in d[k]]\n",
    "            elif isinstance(d[k], str):\n",
    "                d[k] = os.path.join(basedir, d[k]) if len(d[k]) > 0 else d[k]\n",
    "\n",
    "    tr = []\n",
    "    val = []\n",
    "    for d in json_data:\n",
    "        if \"fold\" in d and d[\"fold\"] == fold:\n",
    "            val.append(d)\n",
    "        else:\n",
    "            tr.append(d)\n",
    "\n",
    "    return tr, val"
   ]
  },
  {
   "cell_type": "code",
   "execution_count": 6,
   "metadata": {},
   "outputs": [
    {
     "data": {
      "text/plain": [
       "(13, 4)"
      ]
     },
     "execution_count": 6,
     "metadata": {},
     "output_type": "execute_result"
    }
   ],
   "source": [
    "train_files, validation_files = datafold_read(datalist=json_dir, basedir=data_dir, fold=0)\n",
    "len(train_files), len(validation_files)"
   ]
  },
  {
   "cell_type": "code",
   "execution_count": 7,
   "metadata": {},
   "outputs": [],
   "source": [
    "class ClipCT(MapTransform):\n",
    "    \"\"\"\n",
    "    Convert labels to multi channels based on hecktor classes:\n",
    "    label 1 is the tumor\n",
    "    label 2 is the lymph node\n",
    "\n",
    "    \"\"\"\n",
    "\n",
    "    def __call__(self, data):\n",
    "        d = dict(data)\n",
    "        for key in self.keys:\n",
    "            if key == \"ct\":\n",
    "                d[key] = torch.clip(d[key], min=-200, max=200)\n",
    "            # elif key == \"pt\":\n",
    "            #     d[key] = torch.clip(d[key], d[key].min(), 5)\n",
    "        return d\n",
    "\n",
    "class MulPTFM(MapTransform):\n",
    "    \"\"\"\n",
    "    Mult PT and FM \n",
    "\n",
    "    \"\"\"\n",
    "\n",
    "    def __call__(self, data):\n",
    "        d = dict(data)\n",
    "\n",
    "        fm = d[\"ct\"] > 0\n",
    "        d[\"pt\"] = d[\"pt\"] * fm\n",
    "        return d\n",
    "\n",
    "class SelectClass(MapTransform):\n",
    "    \"\"\"\n",
    "    Select the class for which you want to fine tune the model \n",
    "\n",
    "    \"\"\"\n",
    "    # def __init__(self, keys, cls=1):\n",
    "    #     super(self).__init__(keys)\n",
    "    #     self.cls = cls\n",
    "\n",
    "    def __call__(self, data):\n",
    "        d = dict(data)\n",
    "        d[\"seg\"][d[\"seg\"] == 1] = 0\n",
    "        # d[\"seg\"][d[\"seg\"] == 2] = 1\n",
    "        \n",
    "        return d"
   ]
  },
  {
   "cell_type": "code",
   "execution_count": 8,
   "metadata": {},
   "outputs": [],
   "source": [
    "num_samples = 4\n",
    "\n",
    "train_transforms = Compose(\n",
    "    [\n",
    "        LoadImaged(keys=[\"ct\", \"pt\", \"seg\"], ensure_channel_first = True),\n",
    "        SpatialPadd(keys=[\"ct\", \"pt\", \"seg\"], spatial_size=(200, 200, 310), method='end'),\n",
    "        Orientationd(keys=[\"ct\", \"pt\", \"seg\"], axcodes=\"PLS\"),\n",
    "        NormalizeIntensityd(keys=[\"pt\"]),\n",
    "        ClipCT(keys=[\"ct\"]),\n",
    "        ScaleIntensityd(keys=[\"ct\"], minv=0, maxv=1),\n",
    "        #MulPTFM(keys=[\"ct\",\"pt\"]),\n",
    "        ConcatItemsd(keys=[\"pt\", \"ct\"], name=\"ctpt\"),\n",
    "        #NormalizeIntensityd(keys=[\"ctpt\"], channel_wise=True),\n",
    "        RandCropByPosNegLabeld(\n",
    "            keys=[\"ctpt\", \"seg\"],\n",
    "            label_key=\"seg\",\n",
    "            spatial_size=(96, 96, 96),\n",
    "            pos=1,\n",
    "            neg=1,\n",
    "            num_samples=num_samples,\n",
    "            image_key=\"ctpt\",\n",
    "            image_threshold=0,\n",
    "        ),\n",
    "        RandFlipd(\n",
    "            keys=[\"ctpt\", \"seg\"],\n",
    "            spatial_axis=[0],\n",
    "            prob=0.20,\n",
    "        ),\n",
    "        RandFlipd(\n",
    "            keys=[\"ctpt\", \"seg\"],\n",
    "            spatial_axis=[1],\n",
    "            prob=0.20,\n",
    "        ),\n",
    "        RandFlipd(\n",
    "            keys=[\"ctpt\", \"seg\"],\n",
    "            spatial_axis=[2],\n",
    "            prob=0.20,\n",
    "        ),\n",
    "        RandRotate90d(\n",
    "            keys=[\"ctpt\", \"seg\"],\n",
    "            prob=0.20,\n",
    "            max_k=3,\n",
    "        ),\n",
    "    ]\n",
    ")\n",
    "val_transforms = Compose(\n",
    "    [\n",
    "        LoadImaged(keys=[\"ct\", \"pt\", \"seg\"], ensure_channel_first = True),\n",
    "        SpatialPadd(keys=[\"ct\", \"pt\", \"seg\"], spatial_size=(200, 200, 310), method='end'),\n",
    "        Orientationd(keys=[\"ct\", \"pt\", \"seg\"], axcodes=\"PLS\"),\n",
    "        NormalizeIntensityd(keys=[\"pt\"]),\n",
    "        ClipCT(keys=[\"ct\"]),\n",
    "        ScaleIntensityd(keys=[\"ct\"], minv=0, maxv=1),\n",
    "        #MulPTFM(keys=[\"ct\",\"pt\"]),\n",
    "        ConcatItemsd(keys=[\"pt\", \"ct\"], name=\"ctpt\"),\n",
    "    ]\n",
    ")"
   ]
  },
  {
   "cell_type": "code",
   "execution_count": 9,
   "metadata": {},
   "outputs": [],
   "source": [
    "train_ds = monai.data.Dataset(data=train_files, transform=train_transforms)\n",
    "\n",
    "train_loader = DataLoader(\n",
    "    train_ds,\n",
    "    batch_size=2,\n",
    "    shuffle=True,\n",
    "    num_workers=8,\n",
    "    pin_memory=torch.cuda.is_available(),\n",
    "    )\n",
    "\n",
    "val_ds = monai.data.Dataset(data=validation_files, transform=val_transforms)\n",
    "\n",
    "val_loader = DataLoader(\n",
    "    val_ds, \n",
    "    batch_size=2, \n",
    "    num_workers=8, \n",
    "    shuffle= False)"
   ]
  },
  {
   "cell_type": "code",
   "execution_count": 10,
   "metadata": {},
   "outputs": [
    {
     "name": "stderr",
     "output_type": "stream",
     "text": [
      "/home/nada.saadi/miniconda3/envs/clam/lib/python3.8/site-packages/monai/utils/deprecate_utils.py:221: FutureWarning: unetr CustomedUNETR.__init__:pos_embed: Argument `pos_embed` has been deprecated since version 1.2. It will be removed in version 1.4. please use `proj_type` instead.\n",
      "  warn_deprecated(argname, msg, warning_category)\n"
     ]
    },
    {
     "name": "stdout",
     "output_type": "stream",
     "text": [
      "Nada's version of UNETR\n",
      "(96, 96, 96)\n",
      "(16, 16, 16)\n",
      "(6, 6, 6)\n",
      "768\n",
      "zaz w dakchi ya s lbnat\n"
     ]
    }
   ],
   "source": [
    "os.environ[\"CUDA_DEVICE_ORDER\"] = \"PCI_BUS_ID\"\n",
    "device = torch.device(\"cuda\" if torch.cuda.is_available() else \"cpu\")\n",
    "model = CustomedUNETR(\n",
    "    in_channels=2,  # Number of input channels\n",
    "    out_channels=3,  # Number of output channels\n",
    "    img_size=(96, 96, 96),  # Size of the input image\n",
    "    feature_size=48,  # Size of the feature maps\n",
    "    hidden_size=768,\n",
    "    num_heads=12,  # Size of the hidden layers in the transformer\n",
    "    mlp_dim=3072,  # Dimension of the MLP in the transformer\n",
    "    pos_embed=\"perceptron\",  # Type of positional embedding\n",
    "    norm_name=\"instance\",  # Type of normalization\n",
    "    res_block=True,  # Whether to use residual blocks\n",
    "    dropout_rate=0.0,\n",
    "    proj_type=\"conv\",\n",
    "    r=4,\n",
    "    lora_layer=True,\n",
    "    use_ct_encoder=True,\n",
    "    use_pet_encoder=True,\n",
    ").to(device) \n",
    "\n",
    "\n",
    "pt_weights_6 = '/home/nada.saadi/CTPET/hecktor2022_cropped/6th_CTPT_ourapproach/6thctpt_tokens_ourapproach_pret.pth'\n",
    "state_dict = torch.load(pt_weights_6)\n",
    "model_state_dict = model.state_dict()\n",
    "for name, param in state_dict.items():\n",
    "    if name in model_state_dict:\n",
    "        if param.shape == model_state_dict[name].shape:\n",
    "            model_state_dict[name] = param\n",
    "\n",
    "model.load_state_dict(model_state_dict) \n",
    "\n",
    "for name, param in model.named_parameters():\n",
    "    if \"decoder5\" in name or \"decoder4\" in name or \"decoder3\" in name or \"decoder2\" in name:\n",
    "        param.requires_grad = False"
   ]
  },
  {
   "cell_type": "code",
   "execution_count": 11,
   "metadata": {},
   "outputs": [],
   "source": [
    "torch.backends.cudnn.benchmark = True\n",
    "def poly_lr(epoch, max_epochs, initial_lr, exponent=0.9):\n",
    "    return initial_lr * (1 - epoch / max_epochs)**exponent\n",
    "\n",
    "loss_function = DiceCELoss(to_onehot_y=True, softmax=True)\n",
    "optimizer = torch.optim.AdamW(model.parameters(), lr=1e-4, weight_decay=1e-5)"
   ]
  },
  {
   "cell_type": "code",
   "execution_count": 12,
   "metadata": {},
   "outputs": [
    {
     "name": "stderr",
     "output_type": "stream",
     "text": [
      "Training (X / X Steps) (loss=X.X):   0%|          | 0/7 [00:00<?, ?it/s]"
     ]
    },
    {
     "name": "stderr",
     "output_type": "stream",
     "text": [
      "Training (6 / 18000 Steps) (loss=0.42601): 100%|██████████| 7/7 [01:33<00:00, 13.36s/it]\n",
      "Training (13 / 18000 Steps) (loss=0.45772): 100%|██████████| 7/7 [00:19<00:00,  2.78s/it]\n",
      "Training (20 / 18000 Steps) (loss=0.48177): 100%|██████████| 7/7 [00:18<00:00,  2.69s/it]\n",
      "Training (27 / 18000 Steps) (loss=0.34002): 100%|██████████| 7/7 [00:17<00:00,  2.49s/it]\n",
      "Training (34 / 18000 Steps) (loss=0.42004): 100%|██████████| 7/7 [00:18<00:00,  2.60s/it]\n",
      "Training (41 / 18000 Steps) (loss=0.42968): 100%|██████████| 7/7 [00:18<00:00,  2.70s/it]\n",
      "Training (48 / 18000 Steps) (loss=0.32931): 100%|██████████| 7/7 [00:19<00:00,  2.72s/it]\n",
      "Training (55 / 18000 Steps) (loss=0.32074): 100%|██████████| 7/7 [00:18<00:00,  2.62s/it]\n",
      "Training (62 / 18000 Steps) (loss=0.49495): 100%|██████████| 7/7 [00:19<00:00,  2.85s/it]\n",
      "Training (69 / 18000 Steps) (loss=0.41432): 100%|██████████| 7/7 [00:19<00:00,  2.72s/it]\n",
      "Training (76 / 18000 Steps) (loss=0.42123): 100%|██████████| 7/7 [00:18<00:00,  2.62s/it]\n",
      "Training (83 / 18000 Steps) (loss=0.57686): 100%|██████████| 7/7 [00:19<00:00,  2.83s/it]\n",
      "Training (90 / 18000 Steps) (loss=0.40442): 100%|██████████| 7/7 [00:18<00:00,  2.60s/it]\n",
      "Training (97 / 18000 Steps) (loss=0.44456): 100%|██████████| 7/7 [00:19<00:00,  2.81s/it]\n",
      "Validate (98 / 10 Steps): 100%|██████████| 2/2 [00:16<00:00,  8.24s/it]1<00:21,  4.29s/it]\n",
      "Training (100 / 18000 Steps) (loss=0.40613):  43%|████▎     | 3/7 [00:29<00:45, 11.35s/it]"
     ]
    },
    {
     "name": "stdout",
     "output_type": "stream",
     "text": [
      "Model Was Saved ! Current Best Avg. Dice: 0.5474334359169006 Current Avg. Dice: 0.5474334359169006 Current Avg. tumor Dice: 0.5558558106422424 Current Avg. lymph Dice: 0.5390110611915588\n"
     ]
    },
    {
     "name": "stderr",
     "output_type": "stream",
     "text": [
      "Training (104 / 18000 Steps) (loss=0.31710): 100%|██████████| 7/7 [00:36<00:00,  5.18s/it]\n",
      "Training (111 / 18000 Steps) (loss=0.36435): 100%|██████████| 7/7 [00:17<00:00,  2.54s/it]\n",
      "Training (118 / 18000 Steps) (loss=0.59669): 100%|██████████| 7/7 [00:18<00:00,  2.59s/it]\n",
      "Training (125 / 18000 Steps) (loss=0.62952): 100%|██████████| 7/7 [00:17<00:00,  2.55s/it]\n",
      "Training (132 / 18000 Steps) (loss=0.40747): 100%|██████████| 7/7 [00:19<00:00,  2.78s/it]\n",
      "Training (139 / 18000 Steps) (loss=0.47376): 100%|██████████| 7/7 [00:18<00:00,  2.64s/it]\n",
      "Training (146 / 18000 Steps) (loss=0.60319): 100%|██████████| 7/7 [00:18<00:00,  2.71s/it]\n",
      "Training (153 / 18000 Steps) (loss=0.29584): 100%|██████████| 7/7 [00:19<00:00,  2.84s/it]\n",
      "Training (160 / 18000 Steps) (loss=0.29772): 100%|██████████| 7/7 [00:19<00:00,  2.74s/it]\n",
      "Training (167 / 18000 Steps) (loss=0.19164): 100%|██████████| 7/7 [00:18<00:00,  2.66s/it]\n",
      "Training (174 / 18000 Steps) (loss=0.58575): 100%|██████████| 7/7 [00:17<00:00,  2.54s/it]\n",
      "Training (181 / 18000 Steps) (loss=0.42482): 100%|██████████| 7/7 [00:17<00:00,  2.53s/it]\n",
      "Training (188 / 18000 Steps) (loss=0.59126): 100%|██████████| 7/7 [00:19<00:00,  2.78s/it]\n",
      "Training (195 / 18000 Steps) (loss=0.29903): 100%|██████████| 7/7 [00:18<00:00,  2.68s/it]\n",
      "Validate (196 / 10 Steps): 100%|██████████| 2/2 [00:15<00:00,  7.60s/it]<00:08,  2.87s/it]\n",
      "Training (200 / 18000 Steps) (loss=0.46045):  71%|███████▏  | 5/7 [00:32<00:16,  8.31s/it]"
     ]
    },
    {
     "name": "stdout",
     "output_type": "stream",
     "text": [
      "Model Was Saved ! Current Best Avg. Dice: 0.54798823595047 Current Avg. Dice: 0.54798823595047 Current Avg. tumor Dice: 0.5437566041946411 Current Avg. lymph Dice: 0.552219808101654\n"
     ]
    },
    {
     "name": "stderr",
     "output_type": "stream",
     "text": [
      "Training (202 / 18000 Steps) (loss=0.69700): 100%|██████████| 7/7 [00:35<00:00,  5.04s/it]\n",
      "Training (209 / 18000 Steps) (loss=0.40511): 100%|██████████| 7/7 [00:18<00:00,  2.65s/it]\n",
      "Training (216 / 18000 Steps) (loss=0.53094): 100%|██████████| 7/7 [00:18<00:00,  2.69s/it]\n",
      "Training (223 / 18000 Steps) (loss=0.61008): 100%|██████████| 7/7 [00:18<00:00,  2.59s/it]\n",
      "Training (230 / 18000 Steps) (loss=0.54416): 100%|██████████| 7/7 [00:18<00:00,  2.68s/it]\n",
      "Training (237 / 18000 Steps) (loss=0.32446): 100%|██████████| 7/7 [00:17<00:00,  2.49s/it]\n",
      "Training (244 / 18000 Steps) (loss=0.57807): 100%|██████████| 7/7 [00:18<00:00,  2.69s/it]\n",
      "Training (251 / 18000 Steps) (loss=0.50344): 100%|██████████| 7/7 [00:19<00:00,  2.76s/it]\n",
      "Training (258 / 18000 Steps) (loss=0.37241): 100%|██████████| 7/7 [00:19<00:00,  2.73s/it]\n",
      "Training (265 / 18000 Steps) (loss=0.38380): 100%|██████████| 7/7 [00:18<00:00,  2.66s/it]\n",
      "Training (272 / 18000 Steps) (loss=0.35748): 100%|██████████| 7/7 [00:19<00:00,  2.82s/it]\n",
      "Training (279 / 18000 Steps) (loss=0.23084): 100%|██████████| 7/7 [00:18<00:00,  2.60s/it]\n",
      "Training (286 / 18000 Steps) (loss=0.56715): 100%|██████████| 7/7 [00:18<00:00,  2.67s/it]\n",
      "Training (293 / 18000 Steps) (loss=0.40490): 100%|██████████| 7/7 [00:19<00:00,  2.77s/it]\n",
      "Validate (294 / 10 Steps): 100%|██████████| 2/2 [00:15<00:00,  7.55s/it]<00:02,  2.39s/it]\n",
      "Training (300 / 18000 Steps) (loss=0.29834): 100%|██████████| 7/7 [00:35<00:00,  5.07s/it]\n"
     ]
    },
    {
     "name": "stdout",
     "output_type": "stream",
     "text": [
      "Model Was Not Saved ! Current Best Avg. Dice: 0.54798823595047 Current Avg. Dice: 0.5243399739265442 Current Avg. tumor Dice: 0.5269237756729126 Current Avg. lymph Dice: 0.5217561721801758\n"
     ]
    },
    {
     "name": "stderr",
     "output_type": "stream",
     "text": [
      "Training (307 / 18000 Steps) (loss=0.50391): 100%|██████████| 7/7 [00:18<00:00,  2.66s/it]\n",
      "Training (314 / 18000 Steps) (loss=0.62301): 100%|██████████| 7/7 [00:18<00:00,  2.59s/it]\n",
      "Training (321 / 18000 Steps) (loss=0.45246): 100%|██████████| 7/7 [00:18<00:00,  2.65s/it]\n",
      "Training (328 / 18000 Steps) (loss=0.42957): 100%|██████████| 7/7 [00:17<00:00,  2.52s/it]\n",
      "Training (335 / 18000 Steps) (loss=0.47050): 100%|██████████| 7/7 [00:17<00:00,  2.57s/it]\n",
      "Training (342 / 18000 Steps) (loss=0.25940): 100%|██████████| 7/7 [00:19<00:00,  2.76s/it]\n",
      "Training (349 / 18000 Steps) (loss=0.41731): 100%|██████████| 7/7 [00:18<00:00,  2.71s/it]\n",
      "Training (356 / 18000 Steps) (loss=0.54636): 100%|██████████| 7/7 [00:18<00:00,  2.57s/it]\n",
      "Training (363 / 18000 Steps) (loss=0.43669): 100%|██████████| 7/7 [00:18<00:00,  2.62s/it]\n",
      "Training (370 / 18000 Steps) (loss=0.57332): 100%|██████████| 7/7 [00:18<00:00,  2.60s/it]\n",
      "Training (377 / 18000 Steps) (loss=0.62264): 100%|██████████| 7/7 [00:17<00:00,  2.50s/it]\n",
      "Training (384 / 18000 Steps) (loss=0.15469): 100%|██████████| 7/7 [00:19<00:00,  2.81s/it]\n",
      "Training (391 / 18000 Steps) (loss=0.56472): 100%|██████████| 7/7 [00:17<00:00,  2.57s/it]\n",
      "Training (398 / 18000 Steps) (loss=0.43510): 100%|██████████| 7/7 [00:19<00:00,  2.74s/it]\n",
      "Validate (399 / 10 Steps): 100%|██████████| 2/2 [00:15<00:00,  7.66s/it]<00:56,  9.41s/it]\n",
      "Training (400 / 18000 Steps) (loss=0.38156):  29%|██▊       | 2/7 [00:26<01:10, 14.13s/it]"
     ]
    },
    {
     "name": "stdout",
     "output_type": "stream",
     "text": [
      "Model Was Not Saved ! Current Best Avg. Dice: 0.54798823595047 Current Avg. Dice: 0.5479164123535156 Current Avg. tumor Dice: 0.5856220722198486 Current Avg. lymph Dice: 0.5102108120918274\n"
     ]
    },
    {
     "name": "stderr",
     "output_type": "stream",
     "text": [
      "Training (405 / 18000 Steps) (loss=0.56660): 100%|██████████| 7/7 [00:35<00:00,  5.08s/it]\n",
      "Training (412 / 18000 Steps) (loss=0.42744): 100%|██████████| 7/7 [00:18<00:00,  2.64s/it]\n",
      "Training (419 / 18000 Steps) (loss=0.28301): 100%|██████████| 7/7 [00:15<00:00,  2.27s/it]\n",
      "Training (426 / 18000 Steps) (loss=0.55029): 100%|██████████| 7/7 [00:16<00:00,  2.40s/it]\n",
      "Training (433 / 18000 Steps) (loss=0.43552): 100%|██████████| 7/7 [00:16<00:00,  2.37s/it]\n",
      "Training (440 / 18000 Steps) (loss=0.34696): 100%|██████████| 7/7 [00:16<00:00,  2.35s/it]\n",
      "Training (447 / 18000 Steps) (loss=0.52175): 100%|██████████| 7/7 [00:16<00:00,  2.36s/it]\n",
      "Training (454 / 18000 Steps) (loss=0.26201): 100%|██████████| 7/7 [00:17<00:00,  2.44s/it]\n",
      "Training (461 / 18000 Steps) (loss=0.27765): 100%|██████████| 7/7 [00:18<00:00,  2.60s/it]\n",
      "Training (468 / 18000 Steps) (loss=0.42759): 100%|██████████| 7/7 [00:18<00:00,  2.61s/it]\n",
      "Training (475 / 18000 Steps) (loss=0.30939): 100%|██████████| 7/7 [00:16<00:00,  2.39s/it]\n",
      "Training (482 / 18000 Steps) (loss=0.18361): 100%|██████████| 7/7 [00:16<00:00,  2.35s/it]\n",
      "Training (489 / 18000 Steps) (loss=0.47344): 100%|██████████| 7/7 [00:18<00:00,  2.69s/it]\n",
      "Training (496 / 18000 Steps) (loss=0.29719): 100%|██████████| 7/7 [00:16<00:00,  2.38s/it]\n",
      "Validate (497 / 10 Steps): 100%|██████████| 2/2 [00:14<00:00,  7.46s/it]<00:13,  3.44s/it]\n",
      "Training (500 / 18000 Steps) (loss=0.40573):  57%|█████▋    | 4/7 [00:30<00:27,  9.09s/it]"
     ]
    },
    {
     "name": "stdout",
     "output_type": "stream",
     "text": [
      "Model Was Saved ! Current Best Avg. Dice: 0.5756421089172363 Current Avg. Dice: 0.5756421089172363 Current Avg. tumor Dice: 0.5882986187934875 Current Avg. lymph Dice: 0.5629856586456299\n"
     ]
    },
    {
     "name": "stderr",
     "output_type": "stream",
     "text": [
      "Training (503 / 18000 Steps) (loss=0.16777): 100%|██████████| 7/7 [00:35<00:00,  5.01s/it]\n",
      "Training (510 / 18000 Steps) (loss=0.60118): 100%|██████████| 7/7 [00:17<00:00,  2.49s/it]\n",
      "Training (517 / 18000 Steps) (loss=0.30670): 100%|██████████| 7/7 [00:17<00:00,  2.52s/it]\n",
      "Training (524 / 18000 Steps) (loss=0.42274): 100%|██████████| 7/7 [00:18<00:00,  2.70s/it]\n",
      "Training (531 / 18000 Steps) (loss=0.37725): 100%|██████████| 7/7 [00:18<00:00,  2.60s/it]\n",
      "Training (538 / 18000 Steps) (loss=0.38792): 100%|██████████| 7/7 [00:16<00:00,  2.38s/it]\n",
      "Training (545 / 18000 Steps) (loss=0.43657): 100%|██████████| 7/7 [00:17<00:00,  2.44s/it]\n",
      "Training (552 / 18000 Steps) (loss=0.34246): 100%|██████████| 7/7 [00:17<00:00,  2.45s/it]\n",
      "Training (559 / 18000 Steps) (loss=0.51679): 100%|██████████| 7/7 [00:16<00:00,  2.40s/it]\n",
      "Training (566 / 18000 Steps) (loss=0.36979): 100%|██████████| 7/7 [00:16<00:00,  2.40s/it]\n",
      "Training (573 / 18000 Steps) (loss=0.45531): 100%|██████████| 7/7 [00:17<00:00,  2.52s/it]\n",
      "Training (580 / 18000 Steps) (loss=0.26918): 100%|██████████| 7/7 [00:17<00:00,  2.45s/it]\n",
      "Training (587 / 18000 Steps) (loss=0.36863): 100%|██████████| 7/7 [00:16<00:00,  2.43s/it]\n",
      "Training (594 / 18000 Steps) (loss=0.40682): 100%|██████████| 7/7 [00:16<00:00,  2.35s/it]\n",
      "Validate (595 / 10 Steps): 100%|██████████| 2/2 [00:13<00:00,  6.93s/it]<00:04,  2.18s/it]\n",
      "Training (600 / 18000 Steps) (loss=0.56983):  86%|████████▌ | 6/7 [00:29<00:06,  6.82s/it]"
     ]
    },
    {
     "name": "stdout",
     "output_type": "stream",
     "text": [
      "Model Was Not Saved ! Current Best Avg. Dice: 0.5756421089172363 Current Avg. Dice: 0.5730903148651123 Current Avg. tumor Dice: 0.590474009513855 Current Avg. lymph Dice: 0.5557065606117249\n"
     ]
    },
    {
     "name": "stderr",
     "output_type": "stream",
     "text": [
      "Training (601 / 18000 Steps) (loss=0.27743): 100%|██████████| 7/7 [00:30<00:00,  4.35s/it]\n",
      "Training (608 / 18000 Steps) (loss=0.40553): 100%|██████████| 7/7 [00:17<00:00,  2.49s/it]\n",
      "Training (615 / 18000 Steps) (loss=0.30781): 100%|██████████| 7/7 [00:17<00:00,  2.45s/it]\n",
      "Training (622 / 18000 Steps) (loss=0.40668): 100%|██████████| 7/7 [00:17<00:00,  2.49s/it]\n",
      "Training (629 / 18000 Steps) (loss=0.54622): 100%|██████████| 7/7 [00:16<00:00,  2.36s/it]\n",
      "Training (636 / 18000 Steps) (loss=0.60799): 100%|██████████| 7/7 [00:17<00:00,  2.45s/it]\n",
      "Training (643 / 18000 Steps) (loss=0.42960): 100%|██████████| 7/7 [00:16<00:00,  2.41s/it]\n",
      "Training (650 / 18000 Steps) (loss=0.43815): 100%|██████████| 7/7 [00:16<00:00,  2.39s/it]\n",
      "Training (657 / 18000 Steps) (loss=0.51944): 100%|██████████| 7/7 [00:17<00:00,  2.51s/it]\n",
      "Training (664 / 18000 Steps) (loss=0.51520): 100%|██████████| 7/7 [00:17<00:00,  2.44s/it]\n",
      "Training (671 / 18000 Steps) (loss=0.54985): 100%|██████████| 7/7 [00:17<00:00,  2.57s/it]\n",
      "Training (678 / 18000 Steps) (loss=0.40646): 100%|██████████| 7/7 [00:17<00:00,  2.54s/it]\n",
      "Training (685 / 18000 Steps) (loss=0.56878): 100%|██████████| 7/7 [00:17<00:00,  2.51s/it]\n",
      "Training (692 / 18000 Steps) (loss=0.45951): 100%|██████████| 7/7 [00:17<00:00,  2.50s/it]\n",
      "Training (699 / 18000 Steps) (loss=0.51660): 100%|██████████| 7/7 [00:16<00:00,  2.39s/it]\n",
      "Validate (700 / 10 Steps): 100%|██████████| 2/2 [00:14<00:00,  7.07s/it]<?, ?it/s]\n",
      "Training (700 / 18000 Steps) (loss=0.39708):  14%|█▍        | 1/7 [00:22<02:14, 22.44s/it]"
     ]
    },
    {
     "name": "stdout",
     "output_type": "stream",
     "text": [
      "Model Was Not Saved ! Current Best Avg. Dice: 0.5756421089172363 Current Avg. Dice: 0.5729349851608276 Current Avg. tumor Dice: 0.591411828994751 Current Avg. lymph Dice: 0.5544582009315491\n"
     ]
    },
    {
     "name": "stderr",
     "output_type": "stream",
     "text": [
      "Training (706 / 18000 Steps) (loss=0.32739): 100%|██████████| 7/7 [00:32<00:00,  4.59s/it]\n",
      "Training (713 / 18000 Steps) (loss=0.56460): 100%|██████████| 7/7 [00:16<00:00,  2.40s/it]\n",
      "Training (720 / 18000 Steps) (loss=0.41323): 100%|██████████| 7/7 [00:16<00:00,  2.35s/it]\n",
      "Training (727 / 18000 Steps) (loss=0.42588): 100%|██████████| 7/7 [00:17<00:00,  2.46s/it]\n",
      "Training (734 / 18000 Steps) (loss=0.48020): 100%|██████████| 7/7 [00:17<00:00,  2.52s/it]\n",
      "Training (741 / 18000 Steps) (loss=0.55413): 100%|██████████| 7/7 [00:16<00:00,  2.42s/it]\n",
      "Training (748 / 18000 Steps) (loss=0.47932): 100%|██████████| 7/7 [00:16<00:00,  2.33s/it]\n",
      "Training (755 / 18000 Steps) (loss=0.27401): 100%|██████████| 7/7 [00:17<00:00,  2.45s/it]\n",
      "Training (762 / 18000 Steps) (loss=0.54193): 100%|██████████| 7/7 [00:16<00:00,  2.40s/it]\n",
      "Training (769 / 18000 Steps) (loss=0.33568): 100%|██████████| 7/7 [00:16<00:00,  2.40s/it]\n",
      "Training (776 / 18000 Steps) (loss=0.33648): 100%|██████████| 7/7 [00:16<00:00,  2.40s/it]\n",
      "Training (783 / 18000 Steps) (loss=0.27367): 100%|██████████| 7/7 [00:17<00:00,  2.44s/it]\n",
      "Training (790 / 18000 Steps) (loss=0.28867): 100%|██████████| 7/7 [00:17<00:00,  2.48s/it]\n",
      "Training (797 / 18000 Steps) (loss=0.36910): 100%|██████████| 7/7 [00:16<00:00,  2.33s/it]\n",
      "Validate (798 / 10 Steps): 100%|██████████| 2/2 [00:14<00:00,  7.19s/it]<00:20,  4.03s/it]\n",
      "Training (800 / 18000 Steps) (loss=0.38741):  43%|████▎     | 3/7 [00:25<00:38,  9.64s/it]"
     ]
    },
    {
     "name": "stdout",
     "output_type": "stream",
     "text": [
      "Model Was Not Saved ! Current Best Avg. Dice: 0.5756421089172363 Current Avg. Dice: 0.536502480506897 Current Avg. tumor Dice: 0.5380193591117859 Current Avg. lymph Dice: 0.5349856615066528\n"
     ]
    },
    {
     "name": "stderr",
     "output_type": "stream",
     "text": [
      "Training (804 / 18000 Steps) (loss=0.46601): 100%|██████████| 7/7 [00:31<00:00,  4.56s/it]\n",
      "Training (811 / 18000 Steps) (loss=0.41305): 100%|██████████| 7/7 [00:17<00:00,  2.43s/it]\n",
      "Training (818 / 18000 Steps) (loss=0.36789): 100%|██████████| 7/7 [00:17<00:00,  2.54s/it]\n",
      "Training (825 / 18000 Steps) (loss=0.17934): 100%|██████████| 7/7 [00:16<00:00,  2.40s/it]\n",
      "Training (832 / 18000 Steps) (loss=0.47757): 100%|██████████| 7/7 [00:18<00:00,  2.59s/it]\n",
      "Training (839 / 18000 Steps) (loss=0.27913): 100%|██████████| 7/7 [00:17<00:00,  2.44s/it]\n",
      "Training (846 / 18000 Steps) (loss=0.24368): 100%|██████████| 7/7 [00:16<00:00,  2.40s/it]\n",
      "Training (853 / 18000 Steps) (loss=0.22865): 100%|██████████| 7/7 [00:16<00:00,  2.40s/it]\n",
      "Training (860 / 18000 Steps) (loss=0.31097): 100%|██████████| 7/7 [00:17<00:00,  2.52s/it]\n",
      "Training (867 / 18000 Steps) (loss=0.29386): 100%|██████████| 7/7 [00:17<00:00,  2.43s/it]\n",
      "Training (874 / 18000 Steps) (loss=0.34166): 100%|██████████| 7/7 [00:18<00:00,  2.61s/it]\n",
      "Training (881 / 18000 Steps) (loss=0.23176): 100%|██████████| 7/7 [00:17<00:00,  2.45s/it]\n",
      "Training (888 / 18000 Steps) (loss=0.40934): 100%|██████████| 7/7 [00:17<00:00,  2.57s/it]\n",
      "Training (895 / 18000 Steps) (loss=0.46530): 100%|██████████| 7/7 [00:17<00:00,  2.55s/it]\n",
      "Validate (896 / 10 Steps): 100%|██████████| 2/2 [00:14<00:00,  7.10s/it]<00:07,  2.61s/it]\n",
      "Training (900 / 18000 Steps) (loss=0.37982):  71%|███████▏  | 5/7 [00:28<00:14,  7.40s/it]"
     ]
    },
    {
     "name": "stdout",
     "output_type": "stream",
     "text": [
      "Model Was Not Saved ! Current Best Avg. Dice: 0.5756421089172363 Current Avg. Dice: 0.5556599497795105 Current Avg. tumor Dice: 0.5765222907066345 Current Avg. lymph Dice: 0.5347976088523865\n"
     ]
    },
    {
     "name": "stderr",
     "output_type": "stream",
     "text": [
      "Training (902 / 18000 Steps) (loss=0.49491): 100%|██████████| 7/7 [00:31<00:00,  4.53s/it]\n",
      "Training (909 / 18000 Steps) (loss=0.38012): 100%|██████████| 7/7 [00:16<00:00,  2.39s/it]\n",
      "Training (916 / 18000 Steps) (loss=0.38312): 100%|██████████| 7/7 [00:17<00:00,  2.52s/it]\n",
      "Training (923 / 18000 Steps) (loss=0.21939): 100%|██████████| 7/7 [00:17<00:00,  2.57s/it]\n",
      "Training (930 / 18000 Steps) (loss=0.39654): 100%|██████████| 7/7 [00:16<00:00,  2.41s/it]\n",
      "Training (937 / 18000 Steps) (loss=0.39943): 100%|██████████| 7/7 [00:16<00:00,  2.32s/it]\n",
      "Training (944 / 18000 Steps) (loss=0.61283): 100%|██████████| 7/7 [00:18<00:00,  2.64s/it]\n",
      "Training (951 / 18000 Steps) (loss=0.30528): 100%|██████████| 7/7 [00:16<00:00,  2.39s/it]\n",
      "Training (958 / 18000 Steps) (loss=0.42953): 100%|██████████| 7/7 [00:17<00:00,  2.46s/it]\n",
      "Training (965 / 18000 Steps) (loss=0.37107): 100%|██████████| 7/7 [00:17<00:00,  2.56s/it]\n",
      "Training (972 / 18000 Steps) (loss=0.41717): 100%|██████████| 7/7 [00:16<00:00,  2.41s/it]\n",
      "Training (979 / 18000 Steps) (loss=0.49905): 100%|██████████| 7/7 [00:17<00:00,  2.48s/it]\n",
      "Training (986 / 18000 Steps) (loss=0.45483): 100%|██████████| 7/7 [00:16<00:00,  2.38s/it]\n",
      "Training (993 / 18000 Steps) (loss=0.35492): 100%|██████████| 7/7 [00:16<00:00,  2.34s/it]\n",
      "Validate (994 / 10 Steps): 100%|██████████| 2/2 [00:13<00:00,  6.94s/it]6<00:02,  2.07s/it]\n",
      "Training (1000 / 18000 Steps) (loss=0.33993): 100%|██████████| 7/7 [00:30<00:00,  4.38s/it]\n"
     ]
    },
    {
     "name": "stdout",
     "output_type": "stream",
     "text": [
      "Model Was Not Saved ! Current Best Avg. Dice: 0.5756421089172363 Current Avg. Dice: 0.5629039406776428 Current Avg. tumor Dice: 0.5782264471054077 Current Avg. lymph Dice: 0.5475814342498779\n"
     ]
    },
    {
     "name": "stderr",
     "output_type": "stream",
     "text": [
      "Training (1007 / 18000 Steps) (loss=0.52099): 100%|██████████| 7/7 [00:16<00:00,  2.38s/it]\n",
      "Training (1014 / 18000 Steps) (loss=0.20663): 100%|██████████| 7/7 [00:17<00:00,  2.53s/it]\n",
      "Training (1021 / 18000 Steps) (loss=0.53200): 100%|██████████| 7/7 [00:17<00:00,  2.53s/it]\n",
      "Training (1028 / 18000 Steps) (loss=0.28875): 100%|██████████| 7/7 [00:17<00:00,  2.55s/it]\n",
      "Training (1035 / 18000 Steps) (loss=0.34239): 100%|██████████| 7/7 [00:16<00:00,  2.34s/it]\n",
      "Training (1042 / 18000 Steps) (loss=0.56761): 100%|██████████| 7/7 [00:16<00:00,  2.36s/it]\n",
      "Training (1049 / 18000 Steps) (loss=0.29731): 100%|██████████| 7/7 [00:17<00:00,  2.47s/it]\n",
      "Training (1056 / 18000 Steps) (loss=0.26507): 100%|██████████| 7/7 [00:17<00:00,  2.47s/it]\n",
      "Training (1063 / 18000 Steps) (loss=0.48745): 100%|██████████| 7/7 [00:16<00:00,  2.40s/it]\n",
      "Training (1070 / 18000 Steps) (loss=0.43602): 100%|██████████| 7/7 [00:17<00:00,  2.51s/it]\n",
      "Training (1077 / 18000 Steps) (loss=0.61677): 100%|██████████| 7/7 [00:16<00:00,  2.36s/it]\n",
      "Training (1084 / 18000 Steps) (loss=0.46980): 100%|██████████| 7/7 [00:17<00:00,  2.49s/it]\n",
      "Training (1091 / 18000 Steps) (loss=0.66908): 100%|██████████| 7/7 [00:18<00:00,  2.63s/it]\n",
      "Training (1098 / 18000 Steps) (loss=0.27114): 100%|██████████| 7/7 [00:17<00:00,  2.50s/it]\n",
      "Validate (1099 / 10 Steps): 100%|██████████| 2/2 [00:13<00:00,  6.99s/it]<00:42,  7.12s/it]\n",
      "Training (1100 / 18000 Steps) (loss=0.15893):  29%|██▊       | 2/7 [00:23<01:04, 12.83s/it]"
     ]
    },
    {
     "name": "stdout",
     "output_type": "stream",
     "text": [
      "Model Was Saved ! Current Best Avg. Dice: 0.5921090245246887 Current Avg. Dice: 0.5921090245246887 Current Avg. tumor Dice: 0.6125115752220154 Current Avg. lymph Dice: 0.5717064738273621\n"
     ]
    },
    {
     "name": "stderr",
     "output_type": "stream",
     "text": [
      "Training (1105 / 18000 Steps) (loss=0.51417): 100%|██████████| 7/7 [00:31<00:00,  4.54s/it]\n",
      "Training (1112 / 18000 Steps) (loss=0.30326): 100%|██████████| 7/7 [00:17<00:00,  2.56s/it]\n",
      "Training (1119 / 18000 Steps) (loss=0.27145): 100%|██████████| 7/7 [00:16<00:00,  2.38s/it]\n",
      "Training (1126 / 18000 Steps) (loss=0.40017): 100%|██████████| 7/7 [00:17<00:00,  2.52s/it]\n",
      "Training (1133 / 18000 Steps) (loss=0.44144): 100%|██████████| 7/7 [00:16<00:00,  2.35s/it]\n",
      "Training (1140 / 18000 Steps) (loss=0.39323): 100%|██████████| 7/7 [00:17<00:00,  2.51s/it]\n",
      "Training (1147 / 18000 Steps) (loss=0.22629): 100%|██████████| 7/7 [00:17<00:00,  2.47s/it]\n",
      "Training (1154 / 18000 Steps) (loss=0.16675): 100%|██████████| 7/7 [00:16<00:00,  2.34s/it]\n",
      "Training (1161 / 18000 Steps) (loss=0.43145): 100%|██████████| 7/7 [00:16<00:00,  2.37s/it]\n",
      "Training (1168 / 18000 Steps) (loss=0.29040): 100%|██████████| 7/7 [00:17<00:00,  2.53s/it]\n",
      "Training (1175 / 18000 Steps) (loss=0.41377): 100%|██████████| 7/7 [00:17<00:00,  2.44s/it]\n",
      "Training (1182 / 18000 Steps) (loss=0.24807): 100%|██████████| 7/7 [00:17<00:00,  2.51s/it]\n",
      "Training (1189 / 18000 Steps) (loss=0.66743): 100%|██████████| 7/7 [00:16<00:00,  2.34s/it]\n",
      "Training (1196 / 18000 Steps) (loss=0.46265): 100%|██████████| 7/7 [00:16<00:00,  2.38s/it]\n",
      "Validate (1197 / 10 Steps): 100%|██████████| 2/2 [00:14<00:00,  7.12s/it]<00:12,  3.00s/it]\n",
      "Training (1200 / 18000 Steps) (loss=0.35955):  57%|█████▋    | 4/7 [00:26<00:24,  8.23s/it]"
     ]
    },
    {
     "name": "stdout",
     "output_type": "stream",
     "text": [
      "Model Was Not Saved ! Current Best Avg. Dice: 0.5921090245246887 Current Avg. Dice: 0.5687813758850098 Current Avg. tumor Dice: 0.5894604325294495 Current Avg. lymph Dice: 0.5481022596359253\n"
     ]
    },
    {
     "name": "stderr",
     "output_type": "stream",
     "text": [
      "Training (1203 / 18000 Steps) (loss=0.24552): 100%|██████████| 7/7 [00:31<00:00,  4.51s/it]\n",
      "Training (1210 / 18000 Steps) (loss=0.40613): 100%|██████████| 7/7 [00:16<00:00,  2.40s/it]\n",
      "Training (1217 / 18000 Steps) (loss=0.37130): 100%|██████████| 7/7 [00:17<00:00,  2.50s/it]\n",
      "Training (1224 / 18000 Steps) (loss=0.55917): 100%|██████████| 7/7 [00:16<00:00,  2.43s/it]\n",
      "Training (1231 / 18000 Steps) (loss=0.56946): 100%|██████████| 7/7 [00:16<00:00,  2.37s/it]\n",
      "Training (1238 / 18000 Steps) (loss=0.16312): 100%|██████████| 7/7 [00:18<00:00,  2.66s/it]\n",
      "Training (1245 / 18000 Steps) (loss=0.48234): 100%|██████████| 7/7 [00:17<00:00,  2.56s/it]\n",
      "Training (1252 / 18000 Steps) (loss=0.43254): 100%|██████████| 7/7 [00:17<00:00,  2.45s/it]\n",
      "Training (1259 / 18000 Steps) (loss=0.52561): 100%|██████████| 7/7 [00:17<00:00,  2.55s/it]\n",
      "Training (1266 / 18000 Steps) (loss=0.41269): 100%|██████████| 7/7 [00:18<00:00,  2.61s/it]\n",
      "Training (1273 / 18000 Steps) (loss=0.37440): 100%|██████████| 7/7 [00:17<00:00,  2.47s/it]\n",
      "Training (1280 / 18000 Steps) (loss=0.46204): 100%|██████████| 7/7 [00:17<00:00,  2.57s/it]\n",
      "Training (1287 / 18000 Steps) (loss=0.36883): 100%|██████████| 7/7 [00:16<00:00,  2.34s/it]\n",
      "Training (1294 / 18000 Steps) (loss=0.42528): 100%|██████████| 7/7 [00:16<00:00,  2.40s/it]\n",
      "Validate (1295 / 10 Steps): 100%|██████████| 2/2 [00:13<00:00,  6.99s/it]<00:04,  2.25s/it]\n",
      "Training (1300 / 18000 Steps) (loss=0.42117):  86%|████████▌ | 6/7 [00:29<00:06,  6.79s/it]"
     ]
    },
    {
     "name": "stdout",
     "output_type": "stream",
     "text": [
      "Model Was Not Saved ! Current Best Avg. Dice: 0.5921090245246887 Current Avg. Dice: 0.5810974836349487 Current Avg. tumor Dice: 0.6006339192390442 Current Avg. lymph Dice: 0.561561107635498\n"
     ]
    },
    {
     "name": "stderr",
     "output_type": "stream",
     "text": [
      "Training (1301 / 18000 Steps) (loss=0.26394): 100%|██████████| 7/7 [00:30<00:00,  4.40s/it]\n",
      "Training (1308 / 18000 Steps) (loss=0.42026): 100%|██████████| 7/7 [00:17<00:00,  2.50s/it]\n",
      "Training (1315 / 18000 Steps) (loss=0.47708): 100%|██████████| 7/7 [00:16<00:00,  2.35s/it]\n",
      "Training (1322 / 18000 Steps) (loss=0.39148): 100%|██████████| 7/7 [00:17<00:00,  2.45s/it]\n",
      "Training (1329 / 18000 Steps) (loss=0.27270): 100%|██████████| 7/7 [00:18<00:00,  2.61s/it]\n",
      "Training (1336 / 18000 Steps) (loss=0.16317): 100%|██████████| 7/7 [00:16<00:00,  2.35s/it]\n",
      "Training (1343 / 18000 Steps) (loss=0.20073): 100%|██████████| 7/7 [00:18<00:00,  2.60s/it]\n",
      "Training (1350 / 18000 Steps) (loss=0.32702): 100%|██████████| 7/7 [00:18<00:00,  2.64s/it]\n",
      "Training (1357 / 18000 Steps) (loss=0.30326): 100%|██████████| 7/7 [00:16<00:00,  2.41s/it]\n",
      "Training (1364 / 18000 Steps) (loss=0.61820): 100%|██████████| 7/7 [00:17<00:00,  2.46s/it]\n",
      "Training (1371 / 18000 Steps) (loss=0.18287): 100%|██████████| 7/7 [00:17<00:00,  2.52s/it]\n",
      "Training (1378 / 18000 Steps) (loss=0.25817): 100%|██████████| 7/7 [00:17<00:00,  2.54s/it]\n",
      "Training (1385 / 18000 Steps) (loss=0.12566): 100%|██████████| 7/7 [00:17<00:00,  2.48s/it]\n",
      "Training (1392 / 18000 Steps) (loss=0.34066): 100%|██████████| 7/7 [00:16<00:00,  2.40s/it]\n",
      "Training (1399 / 18000 Steps) (loss=0.30189): 100%|██████████| 7/7 [00:16<00:00,  2.36s/it]\n",
      "Validate (1400 / 10 Steps): 100%|██████████| 2/2 [00:13<00:00,  6.94s/it]<?, ?it/s]\n",
      "Training (1400 / 18000 Steps) (loss=0.30272):  14%|█▍        | 1/7 [00:21<02:08, 21.38s/it]"
     ]
    },
    {
     "name": "stdout",
     "output_type": "stream",
     "text": [
      "Model Was Not Saved ! Current Best Avg. Dice: 0.5921090245246887 Current Avg. Dice: 0.5670256018638611 Current Avg. tumor Dice: 0.584924578666687 Current Avg. lymph Dice: 0.5491265654563904\n"
     ]
    },
    {
     "name": "stderr",
     "output_type": "stream",
     "text": [
      "Training (1406 / 18000 Steps) (loss=0.42824): 100%|██████████| 7/7 [00:31<00:00,  4.44s/it]\n",
      "Training (1413 / 18000 Steps) (loss=0.57740): 100%|██████████| 7/7 [00:16<00:00,  2.34s/it]\n",
      "Training (1420 / 18000 Steps) (loss=0.51651): 100%|██████████| 7/7 [00:17<00:00,  2.55s/it]\n",
      "Training (1427 / 18000 Steps) (loss=0.47480): 100%|██████████| 7/7 [00:17<00:00,  2.47s/it]\n",
      "Training (1434 / 18000 Steps) (loss=0.19743): 100%|██████████| 7/7 [00:16<00:00,  2.40s/it]\n",
      "Training (1441 / 18000 Steps) (loss=0.37470): 100%|██████████| 7/7 [00:16<00:00,  2.34s/it]\n",
      "Training (1448 / 18000 Steps) (loss=0.22903): 100%|██████████| 7/7 [00:17<00:00,  2.44s/it]\n",
      "Training (1455 / 18000 Steps) (loss=0.34777): 100%|██████████| 7/7 [00:16<00:00,  2.33s/it]\n",
      "Training (1462 / 18000 Steps) (loss=0.31367): 100%|██████████| 7/7 [00:17<00:00,  2.44s/it]\n",
      "Training (1469 / 18000 Steps) (loss=0.27350): 100%|██████████| 7/7 [00:17<00:00,  2.43s/it]\n",
      "Training (1476 / 18000 Steps) (loss=0.57740): 100%|██████████| 7/7 [00:18<00:00,  2.60s/it]\n",
      "Training (1483 / 18000 Steps) (loss=0.19374): 100%|██████████| 7/7 [00:17<00:00,  2.55s/it]\n",
      "Training (1490 / 18000 Steps) (loss=0.40494): 100%|██████████| 7/7 [00:16<00:00,  2.36s/it]\n",
      "Training (1497 / 18000 Steps) (loss=0.32782): 100%|██████████| 7/7 [00:16<00:00,  2.37s/it]\n",
      "Validate (1498 / 10 Steps): 100%|██████████| 2/2 [00:14<00:00,  7.10s/it]<00:18,  3.77s/it]\n",
      "Training (1500 / 18000 Steps) (loss=0.29023):  43%|████▎     | 3/7 [00:24<00:37,  9.27s/it]"
     ]
    },
    {
     "name": "stdout",
     "output_type": "stream",
     "text": [
      "Model Was Not Saved ! Current Best Avg. Dice: 0.5921090245246887 Current Avg. Dice: 0.5882186889648438 Current Avg. tumor Dice: 0.6032679677009583 Current Avg. lymph Dice: 0.5731693506240845\n"
     ]
    },
    {
     "name": "stderr",
     "output_type": "stream",
     "text": [
      "Training (1504 / 18000 Steps) (loss=0.45224): 100%|██████████| 7/7 [00:30<00:00,  4.41s/it]\n",
      "Training (1511 / 18000 Steps) (loss=0.31378): 100%|██████████| 7/7 [00:17<00:00,  2.53s/it]\n",
      "Training (1518 / 18000 Steps) (loss=0.37996): 100%|██████████| 7/7 [00:16<00:00,  2.34s/it]\n",
      "Training (1525 / 18000 Steps) (loss=0.55076): 100%|██████████| 7/7 [00:17<00:00,  2.50s/it]\n",
      "Training (1532 / 18000 Steps) (loss=0.48679): 100%|██████████| 7/7 [00:17<00:00,  2.44s/it]\n",
      "Training (1539 / 18000 Steps) (loss=0.30295): 100%|██████████| 7/7 [00:17<00:00,  2.43s/it]\n",
      "Training (1546 / 18000 Steps) (loss=0.39413): 100%|██████████| 7/7 [00:17<00:00,  2.43s/it]\n",
      "Training (1553 / 18000 Steps) (loss=0.46968): 100%|██████████| 7/7 [00:16<00:00,  2.39s/it]\n",
      "Training (1560 / 18000 Steps) (loss=0.26939): 100%|██████████| 7/7 [00:17<00:00,  2.43s/it]\n",
      "Training (1567 / 18000 Steps) (loss=0.54906): 100%|██████████| 7/7 [00:17<00:00,  2.48s/it]\n",
      "Training (1574 / 18000 Steps) (loss=0.34229): 100%|██████████| 7/7 [00:17<00:00,  2.50s/it]\n",
      "Training (1581 / 18000 Steps) (loss=0.61643): 100%|██████████| 7/7 [00:16<00:00,  2.40s/it]\n",
      "Training (1588 / 18000 Steps) (loss=0.26947): 100%|██████████| 7/7 [00:17<00:00,  2.52s/it]\n",
      "Training (1595 / 18000 Steps) (loss=0.30130): 100%|██████████| 7/7 [00:17<00:00,  2.45s/it]\n",
      "Validate (1596 / 10 Steps): 100%|██████████| 2/2 [00:14<00:00,  7.00s/it]<00:07,  2.43s/it]\n",
      "Training (1600 / 18000 Steps) (loss=0.40928):  71%|███████▏  | 5/7 [00:27<00:14,  7.20s/it]"
     ]
    },
    {
     "name": "stdout",
     "output_type": "stream",
     "text": [
      "Model Was Not Saved ! Current Best Avg. Dice: 0.5921090245246887 Current Avg. Dice: 0.5383809804916382 Current Avg. tumor Dice: 0.5586559176445007 Current Avg. lymph Dice: 0.5181059837341309\n"
     ]
    },
    {
     "name": "stderr",
     "output_type": "stream",
     "text": [
      "Training (1602 / 18000 Steps) (loss=0.24617): 100%|██████████| 7/7 [00:30<00:00,  4.40s/it]\n",
      "Training (1609 / 18000 Steps) (loss=0.27935): 100%|██████████| 7/7 [00:16<00:00,  2.42s/it]\n",
      "Training (1616 / 18000 Steps) (loss=0.41551): 100%|██████████| 7/7 [00:16<00:00,  2.35s/it]\n",
      "Training (1623 / 18000 Steps) (loss=0.30426): 100%|██████████| 7/7 [00:16<00:00,  2.35s/it]\n",
      "Training (1630 / 18000 Steps) (loss=0.60715): 100%|██████████| 7/7 [00:16<00:00,  2.37s/it]\n",
      "Training (1637 / 18000 Steps) (loss=0.35065): 100%|██████████| 7/7 [00:17<00:00,  2.52s/it]\n",
      "Training (1644 / 18000 Steps) (loss=0.54884): 100%|██████████| 7/7 [00:17<00:00,  2.52s/it]\n",
      "Training (1651 / 18000 Steps) (loss=0.47687): 100%|██████████| 7/7 [00:17<00:00,  2.53s/it]\n",
      "Training (1658 / 18000 Steps) (loss=0.31187): 100%|██████████| 7/7 [00:16<00:00,  2.38s/it]\n",
      "Training (1665 / 18000 Steps) (loss=0.15820): 100%|██████████| 7/7 [00:18<00:00,  2.62s/it]\n",
      "Training (1672 / 18000 Steps) (loss=0.49780): 100%|██████████| 7/7 [00:16<00:00,  2.35s/it]\n",
      "Training (1679 / 18000 Steps) (loss=0.24266): 100%|██████████| 7/7 [00:18<00:00,  2.68s/it]\n",
      "Training (1686 / 18000 Steps) (loss=0.42741): 100%|██████████| 7/7 [00:16<00:00,  2.40s/it]\n",
      "Training (1693 / 18000 Steps) (loss=0.28881): 100%|██████████| 7/7 [00:16<00:00,  2.39s/it]\n",
      "Validate (1694 / 10 Steps): 100%|██████████| 2/2 [00:14<00:00,  7.12s/it]<00:02,  2.13s/it]\n",
      "Training (1700 / 18000 Steps) (loss=0.41238): 100%|██████████| 7/7 [00:32<00:00,  4.68s/it]\n"
     ]
    },
    {
     "name": "stdout",
     "output_type": "stream",
     "text": [
      "Model Was Not Saved ! Current Best Avg. Dice: 0.5921090245246887 Current Avg. Dice: 0.5521708130836487 Current Avg. tumor Dice: 0.6059108972549438 Current Avg. lymph Dice: 0.4984307885169983\n"
     ]
    },
    {
     "name": "stderr",
     "output_type": "stream",
     "text": [
      "Training (1707 / 18000 Steps) (loss=0.38141): 100%|██████████| 7/7 [00:17<00:00,  2.44s/it]\n",
      "Training (1714 / 18000 Steps) (loss=0.29309): 100%|██████████| 7/7 [00:18<00:00,  2.65s/it]\n",
      "Training (1721 / 18000 Steps) (loss=0.23115): 100%|██████████| 7/7 [00:17<00:00,  2.46s/it]\n",
      "Training (1728 / 18000 Steps) (loss=0.42699): 100%|██████████| 7/7 [00:17<00:00,  2.54s/it]\n",
      "Training (1735 / 18000 Steps) (loss=0.36625): 100%|██████████| 7/7 [00:16<00:00,  2.39s/it]\n",
      "Training (1742 / 18000 Steps) (loss=0.56496): 100%|██████████| 7/7 [00:18<00:00,  2.65s/it]\n",
      "Training (1749 / 18000 Steps) (loss=0.36460): 100%|██████████| 7/7 [00:16<00:00,  2.37s/it]\n",
      "Training (1756 / 18000 Steps) (loss=0.16720): 100%|██████████| 7/7 [00:17<00:00,  2.55s/it]\n",
      "Training (1763 / 18000 Steps) (loss=0.17732): 100%|██████████| 7/7 [00:17<00:00,  2.49s/it]\n",
      "Training (1770 / 18000 Steps) (loss=0.28335): 100%|██████████| 7/7 [00:16<00:00,  2.32s/it]\n",
      "Training (1777 / 18000 Steps) (loss=0.27662): 100%|██████████| 7/7 [00:16<00:00,  2.33s/it]\n",
      "Training (1784 / 18000 Steps) (loss=0.44392): 100%|██████████| 7/7 [00:16<00:00,  2.42s/it]\n",
      "Training (1791 / 18000 Steps) (loss=0.50499): 100%|██████████| 7/7 [00:17<00:00,  2.56s/it]\n",
      "Training (1798 / 18000 Steps) (loss=0.46838): 100%|██████████| 7/7 [00:17<00:00,  2.48s/it]\n",
      "Validate (1799 / 10 Steps): 100%|██████████| 2/2 [00:14<00:00,  7.17s/it]<00:40,  6.67s/it]\n",
      "Training (1800 / 18000 Steps) (loss=0.33223):  29%|██▊       | 2/7 [00:22<01:01, 12.34s/it]"
     ]
    },
    {
     "name": "stdout",
     "output_type": "stream",
     "text": [
      "Model Was Not Saved ! Current Best Avg. Dice: 0.5921090245246887 Current Avg. Dice: 0.5755263566970825 Current Avg. tumor Dice: 0.6068571209907532 Current Avg. lymph Dice: 0.5441955924034119\n"
     ]
    },
    {
     "name": "stderr",
     "output_type": "stream",
     "text": [
      "Training (1805 / 18000 Steps) (loss=0.32696): 100%|██████████| 7/7 [00:31<00:00,  4.48s/it]\n",
      "Training (1812 / 18000 Steps) (loss=0.26550): 100%|██████████| 7/7 [00:16<00:00,  2.42s/it]\n",
      "Training (1819 / 18000 Steps) (loss=0.28671): 100%|██████████| 7/7 [00:18<00:00,  2.67s/it]\n",
      "Training (1826 / 18000 Steps) (loss=0.55614): 100%|██████████| 7/7 [00:17<00:00,  2.51s/it]\n",
      "Training (1833 / 18000 Steps) (loss=0.30955): 100%|██████████| 7/7 [00:17<00:00,  2.50s/it]\n",
      "Training (1840 / 18000 Steps) (loss=0.40725): 100%|██████████| 7/7 [00:18<00:00,  2.60s/it]\n",
      "Training (1847 / 18000 Steps) (loss=0.41081): 100%|██████████| 7/7 [00:16<00:00,  2.36s/it]\n",
      "Training (1854 / 18000 Steps) (loss=0.55702): 100%|██████████| 7/7 [00:17<00:00,  2.43s/it]\n",
      "Training (1861 / 18000 Steps) (loss=0.36548): 100%|██████████| 7/7 [00:17<00:00,  2.56s/it]\n",
      "Training (1868 / 18000 Steps) (loss=0.39243): 100%|██████████| 7/7 [00:17<00:00,  2.50s/it]\n",
      "Training (1875 / 18000 Steps) (loss=0.31574): 100%|██████████| 7/7 [00:17<00:00,  2.47s/it]\n",
      "Training (1882 / 18000 Steps) (loss=0.16917): 100%|██████████| 7/7 [00:17<00:00,  2.50s/it]\n",
      "Training (1889 / 18000 Steps) (loss=0.32469): 100%|██████████| 7/7 [00:17<00:00,  2.53s/it]\n",
      "Training (1896 / 18000 Steps) (loss=0.53094): 100%|██████████| 7/7 [00:17<00:00,  2.57s/it]\n",
      "Validate (1897 / 10 Steps): 100%|██████████| 2/2 [00:14<00:00,  7.13s/it]<00:12,  3.23s/it]\n",
      "Training (1900 / 18000 Steps) (loss=0.43665):  57%|█████▋    | 4/7 [00:28<00:24,  8.24s/it]"
     ]
    },
    {
     "name": "stdout",
     "output_type": "stream",
     "text": [
      "Model Was Not Saved ! Current Best Avg. Dice: 0.5921090245246887 Current Avg. Dice: 0.5874807834625244 Current Avg. tumor Dice: 0.6232705116271973 Current Avg. lymph Dice: 0.5516910552978516\n"
     ]
    },
    {
     "name": "stderr",
     "output_type": "stream",
     "text": [
      "Training (1903 / 18000 Steps) (loss=0.46677): 100%|██████████| 7/7 [00:32<00:00,  4.67s/it]\n",
      "Training (1910 / 18000 Steps) (loss=0.26695): 100%|██████████| 7/7 [00:18<00:00,  2.65s/it]\n",
      "Training (1917 / 18000 Steps) (loss=0.19340): 100%|██████████| 7/7 [00:17<00:00,  2.53s/it]\n",
      "Training (1924 / 18000 Steps) (loss=0.47221): 100%|██████████| 7/7 [00:17<00:00,  2.57s/it]\n",
      "Training (1931 / 18000 Steps) (loss=0.40345): 100%|██████████| 7/7 [00:16<00:00,  2.37s/it]\n",
      "Training (1938 / 18000 Steps) (loss=0.20767): 100%|██████████| 7/7 [00:16<00:00,  2.35s/it]\n",
      "Training (1945 / 18000 Steps) (loss=0.66831): 100%|██████████| 7/7 [00:17<00:00,  2.50s/it]\n",
      "Training (1952 / 18000 Steps) (loss=0.27765): 100%|██████████| 7/7 [00:17<00:00,  2.44s/it]\n",
      "Training (1959 / 18000 Steps) (loss=0.66708): 100%|██████████| 7/7 [00:18<00:00,  2.70s/it]\n",
      "Training (1966 / 18000 Steps) (loss=0.47894): 100%|██████████| 7/7 [00:16<00:00,  2.32s/it]\n",
      "Training (1973 / 18000 Steps) (loss=0.44876): 100%|██████████| 7/7 [00:17<00:00,  2.54s/it]\n",
      "Training (1980 / 18000 Steps) (loss=0.16842): 100%|██████████| 7/7 [00:17<00:00,  2.52s/it]\n",
      "Training (1987 / 18000 Steps) (loss=0.29506): 100%|██████████| 7/7 [00:17<00:00,  2.56s/it]\n",
      "Training (1994 / 18000 Steps) (loss=0.55295): 100%|██████████| 7/7 [00:17<00:00,  2.53s/it]\n",
      "Validate (1995 / 10 Steps): 100%|██████████| 2/2 [00:14<00:00,  7.08s/it]<00:04,  2.35s/it]\n",
      "Training (2000 / 18000 Steps) (loss=0.29337):  86%|████████▌ | 6/7 [00:31<00:07,  7.02s/it]"
     ]
    },
    {
     "name": "stdout",
     "output_type": "stream",
     "text": [
      "Model Was Not Saved ! Current Best Avg. Dice: 0.5921090245246887 Current Avg. Dice: 0.5775996446609497 Current Avg. tumor Dice: 0.602522611618042 Current Avg. lymph Dice: 0.552676796913147\n"
     ]
    },
    {
     "name": "stderr",
     "output_type": "stream",
     "text": [
      "Training (2001 / 18000 Steps) (loss=0.50007): 100%|██████████| 7/7 [00:32<00:00,  4.58s/it]\n",
      "Training (2008 / 18000 Steps) (loss=0.18839): 100%|██████████| 7/7 [00:17<00:00,  2.44s/it]\n",
      "Training (2015 / 18000 Steps) (loss=0.27912): 100%|██████████| 7/7 [00:17<00:00,  2.57s/it]\n",
      "Training (2022 / 18000 Steps) (loss=0.46684): 100%|██████████| 7/7 [00:16<00:00,  2.38s/it]\n",
      "Training (2029 / 18000 Steps) (loss=0.39551): 100%|██████████| 7/7 [00:17<00:00,  2.44s/it]\n",
      "Training (2036 / 18000 Steps) (loss=0.14587): 100%|██████████| 7/7 [00:17<00:00,  2.44s/it]\n",
      "Training (2043 / 18000 Steps) (loss=0.30097): 100%|██████████| 7/7 [00:16<00:00,  2.34s/it]\n",
      "Training (2050 / 18000 Steps) (loss=0.42983): 100%|██████████| 7/7 [00:18<00:00,  2.63s/it]\n",
      "Training (2057 / 18000 Steps) (loss=0.14913): 100%|██████████| 7/7 [00:17<00:00,  2.43s/it]\n",
      "Training (2064 / 18000 Steps) (loss=0.60662): 100%|██████████| 7/7 [00:17<00:00,  2.53s/it]\n",
      "Training (2071 / 18000 Steps) (loss=0.22646): 100%|██████████| 7/7 [00:17<00:00,  2.45s/it]\n",
      "Training (2078 / 18000 Steps) (loss=0.44287): 100%|██████████| 7/7 [00:16<00:00,  2.39s/it]\n",
      "Training (2085 / 18000 Steps) (loss=0.32839): 100%|██████████| 7/7 [00:17<00:00,  2.52s/it]\n",
      "Training (2092 / 18000 Steps) (loss=0.47962): 100%|██████████| 7/7 [00:16<00:00,  2.38s/it]\n",
      "Training (2099 / 18000 Steps) (loss=0.14833): 100%|██████████| 7/7 [00:17<00:00,  2.47s/it]\n",
      "Validate (2100 / 10 Steps): 100%|██████████| 2/2 [00:14<00:00,  7.16s/it]<?, ?it/s]\n",
      "Training (2100 / 18000 Steps) (loss=0.35559):  14%|█▍        | 1/7 [00:22<02:14, 22.34s/it]"
     ]
    },
    {
     "name": "stdout",
     "output_type": "stream",
     "text": [
      "Model Was Not Saved ! Current Best Avg. Dice: 0.5921090245246887 Current Avg. Dice: 0.5437111854553223 Current Avg. tumor Dice: 0.6109437942504883 Current Avg. lymph Dice: 0.47647857666015625\n"
     ]
    },
    {
     "name": "stderr",
     "output_type": "stream",
     "text": [
      "Training (2106 / 18000 Steps) (loss=0.29809): 100%|██████████| 7/7 [00:32<00:00,  4.57s/it]\n",
      "Training (2113 / 18000 Steps) (loss=0.20038): 100%|██████████| 7/7 [00:18<00:00,  2.61s/it]\n",
      "Training (2120 / 18000 Steps) (loss=0.33166): 100%|██████████| 7/7 [00:17<00:00,  2.54s/it]\n",
      "Training (2127 / 18000 Steps) (loss=0.40180): 100%|██████████| 7/7 [00:18<00:00,  2.66s/it]\n",
      "Training (2134 / 18000 Steps) (loss=0.37744): 100%|██████████| 7/7 [00:17<00:00,  2.53s/it]\n",
      "Training (2141 / 18000 Steps) (loss=0.30631): 100%|██████████| 7/7 [00:16<00:00,  2.41s/it]\n",
      "Training (2148 / 18000 Steps) (loss=0.46022): 100%|██████████| 7/7 [00:18<00:00,  2.69s/it]\n",
      "Training (2155 / 18000 Steps) (loss=0.29391): 100%|██████████| 7/7 [00:16<00:00,  2.36s/it]\n",
      "Training (2162 / 18000 Steps) (loss=0.32673): 100%|██████████| 7/7 [00:16<00:00,  2.42s/it]\n",
      "Training (2169 / 18000 Steps) (loss=0.20792): 100%|██████████| 7/7 [00:17<00:00,  2.49s/it]\n",
      "Training (2176 / 18000 Steps) (loss=0.40144): 100%|██████████| 7/7 [00:18<00:00,  2.58s/it]\n",
      "Training (2183 / 18000 Steps) (loss=0.45197): 100%|██████████| 7/7 [00:17<00:00,  2.48s/it]\n",
      "Training (2190 / 18000 Steps) (loss=0.49654): 100%|██████████| 7/7 [00:18<00:00,  2.61s/it]\n",
      "Training (2197 / 18000 Steps) (loss=0.55347): 100%|██████████| 7/7 [00:18<00:00,  2.58s/it]\n",
      "Validate (2198 / 10 Steps): 100%|██████████| 2/2 [00:14<00:00,  7.05s/it]<00:18,  3.76s/it]\n",
      "Training (2200 / 18000 Steps) (loss=0.54655):  43%|████▎     | 3/7 [00:24<00:37,  9.31s/it]"
     ]
    },
    {
     "name": "stdout",
     "output_type": "stream",
     "text": [
      "Model Was Not Saved ! Current Best Avg. Dice: 0.5921090245246887 Current Avg. Dice: 0.5354084372520447 Current Avg. tumor Dice: 0.5828931331634521 Current Avg. lymph Dice: 0.48792368173599243\n"
     ]
    },
    {
     "name": "stderr",
     "output_type": "stream",
     "text": [
      "Training (2204 / 18000 Steps) (loss=0.46561): 100%|██████████| 7/7 [00:31<00:00,  4.44s/it]\n",
      "Training (2211 / 18000 Steps) (loss=0.36081): 100%|██████████| 7/7 [00:17<00:00,  2.51s/it]\n",
      "Training (2218 / 18000 Steps) (loss=0.41332): 100%|██████████| 7/7 [00:18<00:00,  2.66s/it]\n",
      "Training (2225 / 18000 Steps) (loss=0.46617): 100%|██████████| 7/7 [00:17<00:00,  2.51s/it]\n",
      "Training (2232 / 18000 Steps) (loss=0.21518): 100%|██████████| 7/7 [00:17<00:00,  2.43s/it]\n",
      "Training (2239 / 18000 Steps) (loss=0.42549): 100%|██████████| 7/7 [00:17<00:00,  2.51s/it]\n",
      "Training (2246 / 18000 Steps) (loss=0.41198): 100%|██████████| 7/7 [00:16<00:00,  2.33s/it]\n",
      "Training (2253 / 18000 Steps) (loss=0.43437): 100%|██████████| 7/7 [00:17<00:00,  2.57s/it]\n",
      "Training (2260 / 18000 Steps) (loss=0.60134): 100%|██████████| 7/7 [00:17<00:00,  2.45s/it]\n",
      "Training (2267 / 18000 Steps) (loss=0.28451): 100%|██████████| 7/7 [00:16<00:00,  2.37s/it]\n",
      "Training (2274 / 18000 Steps) (loss=0.48489): 100%|██████████| 7/7 [00:17<00:00,  2.45s/it]\n",
      "Training (2281 / 18000 Steps) (loss=0.55980): 100%|██████████| 7/7 [00:16<00:00,  2.35s/it]\n",
      "Training (2288 / 18000 Steps) (loss=0.52491): 100%|██████████| 7/7 [00:16<00:00,  2.43s/it]\n",
      "Training (2295 / 18000 Steps) (loss=0.53169): 100%|██████████| 7/7 [00:18<00:00,  2.67s/it]\n",
      "Validate (2296 / 10 Steps): 100%|██████████| 2/2 [00:15<00:00,  7.60s/it]<00:08,  2.84s/it]\n",
      "Training (2300 / 18000 Steps) (loss=0.24627):  71%|███████▏  | 5/7 [00:31<00:16,  8.01s/it]"
     ]
    },
    {
     "name": "stdout",
     "output_type": "stream",
     "text": [
      "Model Was Not Saved ! Current Best Avg. Dice: 0.5921090245246887 Current Avg. Dice: 0.5411617755889893 Current Avg. tumor Dice: 0.6090821027755737 Current Avg. lymph Dice: 0.4732414782047272\n"
     ]
    },
    {
     "name": "stderr",
     "output_type": "stream",
     "text": [
      "Training (2302 / 18000 Steps) (loss=0.48049): 100%|██████████| 7/7 [00:34<00:00,  4.93s/it]\n",
      "Training (2309 / 18000 Steps) (loss=0.22093): 100%|██████████| 7/7 [00:19<00:00,  2.74s/it]\n",
      "Training (2316 / 18000 Steps) (loss=0.37308): 100%|██████████| 7/7 [00:17<00:00,  2.53s/it]\n",
      "Training (2323 / 18000 Steps) (loss=0.16116): 100%|██████████| 7/7 [00:18<00:00,  2.66s/it]\n",
      "Training (2330 / 18000 Steps) (loss=0.29921): 100%|██████████| 7/7 [00:19<00:00,  2.82s/it]\n",
      "Training (2337 / 18000 Steps) (loss=0.26392): 100%|██████████| 7/7 [00:19<00:00,  2.81s/it]\n",
      "Training (2344 / 18000 Steps) (loss=0.40751): 100%|██████████| 7/7 [00:18<00:00,  2.60s/it]\n",
      "Training (2351 / 18000 Steps) (loss=0.34858): 100%|██████████| 7/7 [00:18<00:00,  2.59s/it]\n",
      "Training (2358 / 18000 Steps) (loss=0.47504): 100%|██████████| 7/7 [00:18<00:00,  2.64s/it]\n",
      "Training (2365 / 18000 Steps) (loss=0.42082): 100%|██████████| 7/7 [00:17<00:00,  2.56s/it]\n",
      "Training (2372 / 18000 Steps) (loss=0.15035): 100%|██████████| 7/7 [00:17<00:00,  2.57s/it]\n",
      "Training (2379 / 18000 Steps) (loss=0.35900): 100%|██████████| 7/7 [00:18<00:00,  2.70s/it]\n",
      "Training (2386 / 18000 Steps) (loss=0.47961): 100%|██████████| 7/7 [00:18<00:00,  2.59s/it]\n",
      "Training (2393 / 18000 Steps) (loss=0.47678): 100%|██████████| 7/7 [00:18<00:00,  2.59s/it]\n",
      "Validate (2394 / 10 Steps): 100%|██████████| 2/2 [00:15<00:00,  7.52s/it]<00:02,  2.23s/it]\n",
      "Training (2400 / 18000 Steps) (loss=0.32788): 100%|██████████| 7/7 [00:33<00:00,  4.75s/it]\n"
     ]
    },
    {
     "name": "stdout",
     "output_type": "stream",
     "text": [
      "Model Was Not Saved ! Current Best Avg. Dice: 0.5921090245246887 Current Avg. Dice: 0.550785481929779 Current Avg. tumor Dice: 0.6244361400604248 Current Avg. lymph Dice: 0.4771348237991333\n"
     ]
    },
    {
     "name": "stderr",
     "output_type": "stream",
     "text": [
      "Training (2407 / 18000 Steps) (loss=0.45262): 100%|██████████| 7/7 [00:18<00:00,  2.57s/it]\n",
      "Training (2414 / 18000 Steps) (loss=0.40274): 100%|██████████| 7/7 [00:18<00:00,  2.65s/it]\n",
      "Training (2421 / 18000 Steps) (loss=0.48898): 100%|██████████| 7/7 [00:17<00:00,  2.54s/it]\n",
      "Training (2428 / 18000 Steps) (loss=0.30131): 100%|██████████| 7/7 [00:19<00:00,  2.83s/it]\n",
      "Training (2435 / 18000 Steps) (loss=0.17492): 100%|██████████| 7/7 [00:18<00:00,  2.71s/it]\n",
      "Training (2442 / 18000 Steps) (loss=0.34512): 100%|██████████| 7/7 [00:19<00:00,  2.78s/it]\n",
      "Training (2449 / 18000 Steps) (loss=0.30821): 100%|██████████| 7/7 [00:17<00:00,  2.56s/it]\n",
      "Training (2456 / 18000 Steps) (loss=0.37623): 100%|██████████| 7/7 [00:20<00:00,  2.87s/it]\n",
      "Training (2463 / 18000 Steps) (loss=0.51807): 100%|██████████| 7/7 [00:18<00:00,  2.71s/it]\n",
      "Training (2470 / 18000 Steps) (loss=0.28976): 100%|██████████| 7/7 [00:18<00:00,  2.66s/it]\n",
      "Training (2477 / 18000 Steps) (loss=0.53126): 100%|██████████| 7/7 [00:19<00:00,  2.76s/it]\n",
      "Training (2484 / 18000 Steps) (loss=0.22666): 100%|██████████| 7/7 [00:17<00:00,  2.52s/it]\n",
      "Training (2491 / 18000 Steps) (loss=0.41395): 100%|██████████| 7/7 [00:19<00:00,  2.74s/it]\n",
      "Training (2498 / 18000 Steps) (loss=0.53799): 100%|██████████| 7/7 [00:18<00:00,  2.61s/it]\n",
      "Validate (2499 / 10 Steps): 100%|██████████| 2/2 [00:15<00:00,  7.70s/it]<00:49,  8.22s/it]\n",
      "Training (2500 / 18000 Steps) (loss=0.24143):  29%|██▊       | 2/7 [00:25<01:08, 13.65s/it]"
     ]
    },
    {
     "name": "stdout",
     "output_type": "stream",
     "text": [
      "Model Was Not Saved ! Current Best Avg. Dice: 0.5921090245246887 Current Avg. Dice: 0.5603804588317871 Current Avg. tumor Dice: 0.6386282444000244 Current Avg. lymph Dice: 0.4821327030658722\n"
     ]
    },
    {
     "name": "stderr",
     "output_type": "stream",
     "text": [
      "Training (2505 / 18000 Steps) (loss=0.45948): 100%|██████████| 7/7 [00:34<00:00,  4.94s/it]\n",
      "Training (2512 / 18000 Steps) (loss=0.17062): 100%|██████████| 7/7 [00:19<00:00,  2.72s/it]\n",
      "Training (2519 / 18000 Steps) (loss=0.32802): 100%|██████████| 7/7 [00:18<00:00,  2.57s/it]\n",
      "Training (2526 / 18000 Steps) (loss=0.42820): 100%|██████████| 7/7 [00:20<00:00,  2.87s/it]\n",
      "Training (2533 / 18000 Steps) (loss=0.42667): 100%|██████████| 7/7 [00:20<00:00,  2.90s/it]\n",
      "Training (2540 / 18000 Steps) (loss=0.49053): 100%|██████████| 7/7 [00:19<00:00,  2.80s/it]\n",
      "Training (2547 / 18000 Steps) (loss=0.25647): 100%|██████████| 7/7 [00:18<00:00,  2.59s/it]\n",
      "Training (2554 / 18000 Steps) (loss=0.47777): 100%|██████████| 7/7 [00:19<00:00,  2.75s/it]\n",
      "Training (2561 / 18000 Steps) (loss=0.43084): 100%|██████████| 7/7 [00:19<00:00,  2.82s/it]\n",
      "Training (2568 / 18000 Steps) (loss=0.27809): 100%|██████████| 7/7 [00:18<00:00,  2.67s/it]\n",
      "Training (2575 / 18000 Steps) (loss=0.42102): 100%|██████████| 7/7 [00:18<00:00,  2.68s/it]\n",
      "Training (2582 / 18000 Steps) (loss=0.27147): 100%|██████████| 7/7 [00:18<00:00,  2.57s/it]\n",
      "Training (2589 / 18000 Steps) (loss=0.54804): 100%|██████████| 7/7 [00:18<00:00,  2.63s/it]\n",
      "Training (2596 / 18000 Steps) (loss=0.52573): 100%|██████████| 7/7 [00:18<00:00,  2.71s/it]\n",
      "Validate (2597 / 10 Steps): 100%|██████████| 2/2 [00:15<00:00,  7.75s/it]<00:13,  3.39s/it]\n",
      "Training (2600 / 18000 Steps) (loss=0.35715):  57%|█████▋    | 4/7 [00:30<00:27,  9.10s/it]"
     ]
    },
    {
     "name": "stdout",
     "output_type": "stream",
     "text": [
      "Model Was Not Saved ! Current Best Avg. Dice: 0.5921090245246887 Current Avg. Dice: 0.5428102016448975 Current Avg. tumor Dice: 0.6177540421485901 Current Avg. lymph Dice: 0.4678664207458496\n"
     ]
    },
    {
     "name": "stderr",
     "output_type": "stream",
     "text": [
      "Training (2603 / 18000 Steps) (loss=0.28498): 100%|██████████| 7/7 [00:35<00:00,  5.02s/it]\n",
      "Training (2610 / 18000 Steps) (loss=0.34879): 100%|██████████| 7/7 [00:17<00:00,  2.56s/it]\n",
      "Training (2617 / 18000 Steps) (loss=0.26776): 100%|██████████| 7/7 [00:20<00:00,  2.86s/it]\n",
      "Training (2624 / 18000 Steps) (loss=0.20939): 100%|██████████| 7/7 [00:17<00:00,  2.53s/it]\n",
      "Training (2631 / 18000 Steps) (loss=0.35536): 100%|██████████| 7/7 [00:18<00:00,  2.58s/it]\n",
      "Training (2638 / 18000 Steps) (loss=0.42873): 100%|██████████| 7/7 [00:19<00:00,  2.77s/it]\n",
      "Training (2645 / 18000 Steps) (loss=0.33103): 100%|██████████| 7/7 [00:19<00:00,  2.74s/it]\n",
      "Training (2652 / 18000 Steps) (loss=0.40353): 100%|██████████| 7/7 [00:19<00:00,  2.76s/it]\n",
      "Training (2659 / 18000 Steps) (loss=0.49212): 100%|██████████| 7/7 [00:18<00:00,  2.68s/it]\n",
      "Training (2666 / 18000 Steps) (loss=0.35867): 100%|██████████| 7/7 [00:18<00:00,  2.61s/it]\n",
      "Training (2673 / 18000 Steps) (loss=0.58749): 100%|██████████| 7/7 [00:20<00:00,  2.87s/it]\n",
      "Training (2680 / 18000 Steps) (loss=0.48252): 100%|██████████| 7/7 [00:18<00:00,  2.70s/it]\n",
      "Training (2687 / 18000 Steps) (loss=0.29076): 100%|██████████| 7/7 [00:18<00:00,  2.61s/it]\n",
      "Training (2694 / 18000 Steps) (loss=0.43222): 100%|██████████| 7/7 [00:18<00:00,  2.67s/it]\n",
      "Validate (2695 / 10 Steps): 100%|██████████| 2/2 [00:15<00:00,  7.67s/it]<00:04,  2.42s/it]\n",
      "Training (2700 / 18000 Steps) (loss=0.35252):  86%|████████▌ | 6/7 [00:32<00:07,  7.51s/it]"
     ]
    },
    {
     "name": "stdout",
     "output_type": "stream",
     "text": [
      "Model Was Not Saved ! Current Best Avg. Dice: 0.5921090245246887 Current Avg. Dice: 0.5576010942459106 Current Avg. tumor Dice: 0.6012124419212341 Current Avg. lymph Dice: 0.5139898061752319\n"
     ]
    },
    {
     "name": "stderr",
     "output_type": "stream",
     "text": [
      "Training (2701 / 18000 Steps) (loss=0.41745): 100%|██████████| 7/7 [00:33<00:00,  4.76s/it]\n",
      "Training (2708 / 18000 Steps) (loss=0.33303): 100%|██████████| 7/7 [00:19<00:00,  2.77s/it]\n",
      "Training (2715 / 18000 Steps) (loss=0.34947): 100%|██████████| 7/7 [00:17<00:00,  2.56s/it]\n",
      "Training (2722 / 18000 Steps) (loss=0.42927): 100%|██████████| 7/7 [00:18<00:00,  2.61s/it]\n",
      "Training (2729 / 18000 Steps) (loss=0.29524): 100%|██████████| 7/7 [00:19<00:00,  2.74s/it]\n",
      "Training (2736 / 18000 Steps) (loss=0.50514): 100%|██████████| 7/7 [00:19<00:00,  2.71s/it]\n",
      "Training (2743 / 18000 Steps) (loss=0.29380): 100%|██████████| 7/7 [00:17<00:00,  2.56s/it]\n",
      "Training (2750 / 18000 Steps) (loss=0.51765): 100%|██████████| 7/7 [00:17<00:00,  2.56s/it]\n",
      "Training (2757 / 18000 Steps) (loss=0.21405): 100%|██████████| 7/7 [00:16<00:00,  2.34s/it]\n",
      "Training (2764 / 18000 Steps) (loss=0.19352): 100%|██████████| 7/7 [00:18<00:00,  2.69s/it]\n",
      "Training (2771 / 18000 Steps) (loss=0.19338): 100%|██████████| 7/7 [00:19<00:00,  2.81s/it]\n",
      "Training (2778 / 18000 Steps) (loss=0.54446): 100%|██████████| 7/7 [00:18<00:00,  2.71s/it]\n",
      "Training (2785 / 18000 Steps) (loss=0.31388): 100%|██████████| 7/7 [00:17<00:00,  2.57s/it]\n",
      "Training (2792 / 18000 Steps) (loss=0.56777): 100%|██████████| 7/7 [00:19<00:00,  2.79s/it]\n",
      "Training (2799 / 18000 Steps) (loss=0.27595): 100%|██████████| 7/7 [00:18<00:00,  2.57s/it]\n",
      "Validate (2800 / 10 Steps): 100%|██████████| 2/2 [00:15<00:00,  7.60s/it]<?, ?it/s]\n",
      "Training (2800 / 18000 Steps) (loss=0.34864):  14%|█▍        | 1/7 [00:22<02:14, 22.40s/it]"
     ]
    },
    {
     "name": "stdout",
     "output_type": "stream",
     "text": [
      "Model Was Not Saved ! Current Best Avg. Dice: 0.5921090245246887 Current Avg. Dice: 0.5811096429824829 Current Avg. tumor Dice: 0.6203951835632324 Current Avg. lymph Dice: 0.5418240427970886\n"
     ]
    },
    {
     "name": "stderr",
     "output_type": "stream",
     "text": [
      "Training (2806 / 18000 Steps) (loss=0.27404): 100%|██████████| 7/7 [00:33<00:00,  4.79s/it]\n",
      "Training (2813 / 18000 Steps) (loss=0.41365): 100%|██████████| 7/7 [00:19<00:00,  2.75s/it]\n",
      "Training (2820 / 18000 Steps) (loss=0.40031): 100%|██████████| 7/7 [00:19<00:00,  2.83s/it]\n",
      "Training (2827 / 18000 Steps) (loss=0.33087): 100%|██████████| 7/7 [00:18<00:00,  2.59s/it]\n",
      "Training (2834 / 18000 Steps) (loss=0.40708): 100%|██████████| 7/7 [00:18<00:00,  2.70s/it]\n",
      "Training (2841 / 18000 Steps) (loss=0.51913): 100%|██████████| 7/7 [00:18<00:00,  2.66s/it]\n",
      "Training (2848 / 18000 Steps) (loss=0.31047): 100%|██████████| 7/7 [00:18<00:00,  2.65s/it]\n",
      "Training (2855 / 18000 Steps) (loss=0.39821): 100%|██████████| 7/7 [00:17<00:00,  2.55s/it]\n",
      "Training (2862 / 18000 Steps) (loss=0.54786): 100%|██████████| 7/7 [00:18<00:00,  2.58s/it]\n",
      "Training (2869 / 18000 Steps) (loss=0.40015): 100%|██████████| 7/7 [00:19<00:00,  2.74s/it]\n",
      "Training (2876 / 18000 Steps) (loss=0.13923): 100%|██████████| 7/7 [00:18<00:00,  2.62s/it]\n",
      "Training (2883 / 18000 Steps) (loss=0.45860): 100%|██████████| 7/7 [00:20<00:00,  2.87s/it]\n",
      "Training (2890 / 18000 Steps) (loss=0.39563): 100%|██████████| 7/7 [00:18<00:00,  2.67s/it]\n",
      "Training (2897 / 18000 Steps) (loss=0.40358): 100%|██████████| 7/7 [00:19<00:00,  2.79s/it]\n",
      "Validate (2898 / 10 Steps): 100%|██████████| 2/2 [00:15<00:00,  7.79s/it]<00:21,  4.38s/it]\n",
      "Training (2900 / 18000 Steps) (loss=0.31060):  43%|████▎     | 3/7 [00:27<00:41, 10.36s/it]"
     ]
    },
    {
     "name": "stdout",
     "output_type": "stream",
     "text": [
      "Model Was Not Saved ! Current Best Avg. Dice: 0.5921090245246887 Current Avg. Dice: 0.5506435632705688 Current Avg. tumor Dice: 0.6291353702545166 Current Avg. lymph Dice: 0.47215181589126587\n"
     ]
    },
    {
     "name": "stderr",
     "output_type": "stream",
     "text": [
      "Training (2904 / 18000 Steps) (loss=0.29211): 100%|██████████| 7/7 [00:34<00:00,  4.94s/it]\n",
      "Training (2911 / 18000 Steps) (loss=0.61346): 100%|██████████| 7/7 [00:18<00:00,  2.61s/it]\n",
      "Training (2918 / 18000 Steps) (loss=0.31033): 100%|██████████| 7/7 [00:18<00:00,  2.71s/it]\n",
      "Training (2925 / 18000 Steps) (loss=0.34776): 100%|██████████| 7/7 [00:19<00:00,  2.74s/it]\n",
      "Training (2932 / 18000 Steps) (loss=0.43127): 100%|██████████| 7/7 [00:20<00:00,  2.87s/it]\n",
      "Training (2939 / 18000 Steps) (loss=0.17377): 100%|██████████| 7/7 [00:18<00:00,  2.63s/it]\n",
      "Training (2946 / 18000 Steps) (loss=0.51708): 100%|██████████| 7/7 [00:17<00:00,  2.52s/it]\n",
      "Training (2953 / 18000 Steps) (loss=0.40802): 100%|██████████| 7/7 [00:19<00:00,  2.78s/it]\n",
      "Training (2960 / 18000 Steps) (loss=0.26825): 100%|██████████| 7/7 [00:17<00:00,  2.50s/it]\n",
      "Training (2967 / 18000 Steps) (loss=0.40807): 100%|██████████| 7/7 [00:18<00:00,  2.63s/it]\n",
      "Training (2974 / 18000 Steps) (loss=0.21188): 100%|██████████| 7/7 [00:19<00:00,  2.81s/it]\n",
      "Training (2981 / 18000 Steps) (loss=0.27477): 100%|██████████| 7/7 [00:19<00:00,  2.75s/it]\n",
      "Training (2988 / 18000 Steps) (loss=0.46971): 100%|██████████| 7/7 [00:17<00:00,  2.53s/it]\n",
      "Training (2995 / 18000 Steps) (loss=0.30346): 100%|██████████| 7/7 [00:18<00:00,  2.62s/it]\n",
      "Validate (2996 / 10 Steps): 100%|██████████| 2/2 [00:16<00:00,  8.07s/it]<00:08,  2.81s/it]\n",
      "Training (3000 / 18000 Steps) (loss=0.34940):  71%|███████▏  | 5/7 [00:32<00:16,  8.29s/it]"
     ]
    },
    {
     "name": "stdout",
     "output_type": "stream",
     "text": [
      "Model Was Not Saved ! Current Best Avg. Dice: 0.5921090245246887 Current Avg. Dice: 0.5564826130867004 Current Avg. tumor Dice: 0.6309581398963928 Current Avg. lymph Dice: 0.48200711607933044\n"
     ]
    },
    {
     "name": "stderr",
     "output_type": "stream",
     "text": [
      "Training (3002 / 18000 Steps) (loss=0.53569): 100%|██████████| 7/7 [00:35<00:00,  5.03s/it]\n",
      "Training (3009 / 18000 Steps) (loss=0.54561): 100%|██████████| 7/7 [00:18<00:00,  2.58s/it]\n",
      "Training (3016 / 18000 Steps) (loss=0.39106): 100%|██████████| 7/7 [00:18<00:00,  2.58s/it]\n",
      "Training (3023 / 18000 Steps) (loss=0.25575): 100%|██████████| 7/7 [00:19<00:00,  2.78s/it]\n",
      "Training (3030 / 18000 Steps) (loss=0.50485): 100%|██████████| 7/7 [00:19<00:00,  2.76s/it]\n",
      "Training (3037 / 18000 Steps) (loss=0.17376): 100%|██████████| 7/7 [00:17<00:00,  2.57s/it]\n",
      "Training (3044 / 18000 Steps) (loss=0.27899): 100%|██████████| 7/7 [00:19<00:00,  2.73s/it]\n",
      "Training (3051 / 18000 Steps) (loss=0.28915): 100%|██████████| 7/7 [00:19<00:00,  2.74s/it]\n",
      "Training (3058 / 18000 Steps) (loss=0.23641): 100%|██████████| 7/7 [00:18<00:00,  2.70s/it]\n",
      "Training (3065 / 18000 Steps) (loss=0.22240): 100%|██████████| 7/7 [00:19<00:00,  2.72s/it]\n",
      "Training (3072 / 18000 Steps) (loss=0.33394): 100%|██████████| 7/7 [00:18<00:00,  2.62s/it]\n",
      "Training (3079 / 18000 Steps) (loss=0.27562): 100%|██████████| 7/7 [00:17<00:00,  2.47s/it]\n",
      "Training (3086 / 18000 Steps) (loss=0.18752): 100%|██████████| 7/7 [00:18<00:00,  2.64s/it]\n",
      "Training (3093 / 18000 Steps) (loss=0.41978): 100%|██████████| 7/7 [00:18<00:00,  2.70s/it]\n",
      "Validate (3094 / 10 Steps): 100%|██████████| 2/2 [00:15<00:00,  7.56s/it]<00:02,  2.29s/it]\n",
      "Training (3100 / 18000 Steps) (loss=0.45333): 100%|██████████| 7/7 [00:34<00:00,  4.86s/it]\n"
     ]
    },
    {
     "name": "stdout",
     "output_type": "stream",
     "text": [
      "Model Was Not Saved ! Current Best Avg. Dice: 0.5921090245246887 Current Avg. Dice: 0.5421150922775269 Current Avg. tumor Dice: 0.621549665927887 Current Avg. lymph Dice: 0.46268051862716675\n"
     ]
    },
    {
     "name": "stderr",
     "output_type": "stream",
     "text": [
      "Training (3107 / 18000 Steps) (loss=0.26508): 100%|██████████| 7/7 [00:18<00:00,  2.64s/it]\n",
      "Training (3114 / 18000 Steps) (loss=0.54624): 100%|██████████| 7/7 [00:17<00:00,  2.55s/it]\n",
      "Training (3121 / 18000 Steps) (loss=0.29204): 100%|██████████| 7/7 [00:18<00:00,  2.59s/it]\n",
      "Training (3128 / 18000 Steps) (loss=0.27997): 100%|██████████| 7/7 [00:18<00:00,  2.61s/it]\n",
      "Training (3135 / 18000 Steps) (loss=0.47495): 100%|██████████| 7/7 [00:17<00:00,  2.56s/it]\n",
      "Training (3142 / 18000 Steps) (loss=0.33120): 100%|██████████| 7/7 [00:18<00:00,  2.64s/it]\n",
      "Training (3149 / 18000 Steps) (loss=0.30110): 100%|██████████| 7/7 [00:17<00:00,  2.53s/it]\n",
      "Training (3156 / 18000 Steps) (loss=0.67471): 100%|██████████| 7/7 [00:18<00:00,  2.59s/it]\n",
      "Training (3163 / 18000 Steps) (loss=0.41235): 100%|██████████| 7/7 [00:18<00:00,  2.58s/it]\n",
      "Training (3170 / 18000 Steps) (loss=0.27352): 100%|██████████| 7/7 [00:20<00:00,  2.88s/it]\n",
      "Training (3177 / 18000 Steps) (loss=0.35171): 100%|██████████| 7/7 [00:19<00:00,  2.74s/it]\n",
      "Training (3184 / 18000 Steps) (loss=0.32056): 100%|██████████| 7/7 [00:18<00:00,  2.59s/it]\n",
      "Training (3191 / 18000 Steps) (loss=0.39368): 100%|██████████| 7/7 [00:19<00:00,  2.72s/it]\n",
      "Training (3198 / 18000 Steps) (loss=0.26836): 100%|██████████| 7/7 [00:19<00:00,  2.80s/it]\n",
      "Validate (3199 / 10 Steps): 100%|██████████| 2/2 [00:15<00:00,  7.71s/it]<00:50,  8.37s/it]\n",
      "Training (3200 / 18000 Steps) (loss=0.46737):  29%|██▊       | 2/7 [00:25<01:08, 13.67s/it]"
     ]
    },
    {
     "name": "stdout",
     "output_type": "stream",
     "text": [
      "Model Was Not Saved ! Current Best Avg. Dice: 0.5921090245246887 Current Avg. Dice: 0.5539920330047607 Current Avg. tumor Dice: 0.6329174041748047 Current Avg. lymph Dice: 0.475066602230072\n"
     ]
    },
    {
     "name": "stderr",
     "output_type": "stream",
     "text": [
      "Training (3205 / 18000 Steps) (loss=0.42666): 100%|██████████| 7/7 [00:34<00:00,  4.95s/it]\n",
      "Training (3212 / 18000 Steps) (loss=0.53302): 100%|██████████| 7/7 [00:18<00:00,  2.67s/it]\n",
      "Training (3219 / 18000 Steps) (loss=0.41733): 100%|██████████| 7/7 [00:18<00:00,  2.65s/it]\n",
      "Training (3226 / 18000 Steps) (loss=0.55117): 100%|██████████| 7/7 [00:17<00:00,  2.48s/it]\n",
      "Training (3233 / 18000 Steps) (loss=0.48132): 100%|██████████| 7/7 [00:18<00:00,  2.59s/it]\n",
      "Training (3240 / 18000 Steps) (loss=0.26593): 100%|██████████| 7/7 [00:18<00:00,  2.58s/it]\n",
      "Training (3247 / 18000 Steps) (loss=0.46559): 100%|██████████| 7/7 [00:18<00:00,  2.65s/it]\n",
      "Training (3254 / 18000 Steps) (loss=0.16875): 100%|██████████| 7/7 [00:18<00:00,  2.58s/it]\n",
      "Training (3261 / 18000 Steps) (loss=0.67386): 100%|██████████| 7/7 [00:18<00:00,  2.69s/it]\n",
      "Training (3268 / 18000 Steps) (loss=0.25656): 100%|██████████| 7/7 [00:18<00:00,  2.59s/it]\n",
      "Training (3275 / 18000 Steps) (loss=0.15448): 100%|██████████| 7/7 [00:19<00:00,  2.83s/it]\n",
      "Training (3282 / 18000 Steps) (loss=0.44892): 100%|██████████| 7/7 [00:17<00:00,  2.55s/it]\n",
      "Training (3289 / 18000 Steps) (loss=0.39774): 100%|██████████| 7/7 [00:19<00:00,  2.75s/it]\n",
      "Training (3296 / 18000 Steps) (loss=0.41380): 100%|██████████| 7/7 [00:18<00:00,  2.58s/it]\n",
      "Validate (3297 / 10 Steps): 100%|██████████| 2/2 [00:14<00:00,  7.46s/it]<00:13,  3.29s/it]\n",
      "Training (3300 / 18000 Steps) (loss=0.46079):  57%|█████▋    | 4/7 [00:28<00:26,  8.68s/it]"
     ]
    },
    {
     "name": "stdout",
     "output_type": "stream",
     "text": [
      "Model Was Not Saved ! Current Best Avg. Dice: 0.5921090245246887 Current Avg. Dice: 0.5484441518783569 Current Avg. tumor Dice: 0.6239108443260193 Current Avg. lymph Dice: 0.4729774594306946\n"
     ]
    },
    {
     "name": "stderr",
     "output_type": "stream",
     "text": [
      "Training (3303 / 18000 Steps) (loss=0.41258): 100%|██████████| 7/7 [00:33<00:00,  4.81s/it]\n",
      "Training (3310 / 18000 Steps) (loss=0.22150): 100%|██████████| 7/7 [00:17<00:00,  2.56s/it]\n",
      "Training (3317 / 18000 Steps) (loss=0.30747): 100%|██████████| 7/7 [00:18<00:00,  2.61s/it]\n",
      "Training (3324 / 18000 Steps) (loss=0.54804): 100%|██████████| 7/7 [00:19<00:00,  2.83s/it]\n",
      "Training (3331 / 18000 Steps) (loss=0.53067): 100%|██████████| 7/7 [00:19<00:00,  2.76s/it]\n",
      "Training (3338 / 18000 Steps) (loss=0.54830): 100%|██████████| 7/7 [00:18<00:00,  2.60s/it]\n",
      "Training (3345 / 18000 Steps) (loss=0.19728): 100%|██████████| 7/7 [00:19<00:00,  2.74s/it]\n",
      "Training (3352 / 18000 Steps) (loss=0.33787): 100%|██████████| 7/7 [00:17<00:00,  2.55s/it]\n",
      "Training (3359 / 18000 Steps) (loss=0.55769): 100%|██████████| 7/7 [00:18<00:00,  2.70s/it]\n",
      "Training (3366 / 18000 Steps) (loss=0.50145): 100%|██████████| 7/7 [00:18<00:00,  2.71s/it]\n",
      "Training (3373 / 18000 Steps) (loss=0.32551): 100%|██████████| 7/7 [00:18<00:00,  2.63s/it]\n",
      "Training (3380 / 18000 Steps) (loss=0.13783): 100%|██████████| 7/7 [00:19<00:00,  2.75s/it]\n",
      "Training (3387 / 18000 Steps) (loss=0.19784): 100%|██████████| 7/7 [00:19<00:00,  2.85s/it]\n",
      "Training (3394 / 18000 Steps) (loss=0.16029): 100%|██████████| 7/7 [00:19<00:00,  2.79s/it]\n",
      "Validate (3395 / 10 Steps): 100%|██████████| 2/2 [00:15<00:00,  7.72s/it]<00:05,  2.60s/it]\n",
      "Training (3400 / 18000 Steps) (loss=0.28938):  86%|████████▌ | 6/7 [00:34<00:07,  7.62s/it]"
     ]
    },
    {
     "name": "stdout",
     "output_type": "stream",
     "text": [
      "Model Was Not Saved ! Current Best Avg. Dice: 0.5921090245246887 Current Avg. Dice: 0.5531041622161865 Current Avg. tumor Dice: 0.6067315340042114 Current Avg. lymph Dice: 0.4994768798351288\n"
     ]
    },
    {
     "name": "stderr",
     "output_type": "stream",
     "text": [
      "Training (3401 / 18000 Steps) (loss=0.33371): 100%|██████████| 7/7 [00:35<00:00,  5.07s/it]\n",
      "Training (3408 / 18000 Steps) (loss=0.40353): 100%|██████████| 7/7 [00:17<00:00,  2.54s/it]\n",
      "Training (3415 / 18000 Steps) (loss=0.28617): 100%|██████████| 7/7 [00:18<00:00,  2.62s/it]\n",
      "Training (3422 / 18000 Steps) (loss=0.32253): 100%|██████████| 7/7 [00:18<00:00,  2.59s/it]\n",
      "Training (3429 / 18000 Steps) (loss=0.61530): 100%|██████████| 7/7 [00:19<00:00,  2.82s/it]\n",
      "Training (3436 / 18000 Steps) (loss=0.53353): 100%|██████████| 7/7 [00:19<00:00,  2.79s/it]\n",
      "Training (3443 / 18000 Steps) (loss=0.32862): 100%|██████████| 7/7 [00:17<00:00,  2.52s/it]\n",
      "Training (3450 / 18000 Steps) (loss=0.29996): 100%|██████████| 7/7 [00:18<00:00,  2.63s/it]\n",
      "Training (3457 / 18000 Steps) (loss=0.19993): 100%|██████████| 7/7 [00:18<00:00,  2.61s/it]\n",
      "Training (3464 / 18000 Steps) (loss=0.41767): 100%|██████████| 7/7 [00:18<00:00,  2.59s/it]\n",
      "Training (3471 / 18000 Steps) (loss=0.34000): 100%|██████████| 7/7 [00:17<00:00,  2.55s/it]\n",
      "Training (3478 / 18000 Steps) (loss=0.13492): 100%|██████████| 7/7 [00:18<00:00,  2.63s/it]\n",
      "Training (3485 / 18000 Steps) (loss=0.54068): 100%|██████████| 7/7 [00:18<00:00,  2.69s/it]\n",
      "Training (3492 / 18000 Steps) (loss=0.38257): 100%|██████████| 7/7 [00:18<00:00,  2.69s/it]\n",
      "Training (3499 / 18000 Steps) (loss=0.35162): 100%|██████████| 7/7 [00:19<00:00,  2.85s/it]\n",
      "Validate (3500 / 10 Steps): 100%|██████████| 2/2 [00:15<00:00,  7.67s/it]<?, ?it/s]\n",
      "Training (3500 / 18000 Steps) (loss=0.47584):  14%|█▍        | 1/7 [00:22<02:16, 22.69s/it]"
     ]
    },
    {
     "name": "stdout",
     "output_type": "stream",
     "text": [
      "Model Was Not Saved ! Current Best Avg. Dice: 0.5921090245246887 Current Avg. Dice: 0.5806206464767456 Current Avg. tumor Dice: 0.6247525215148926 Current Avg. lymph Dice: 0.5364887714385986\n"
     ]
    },
    {
     "name": "stderr",
     "output_type": "stream",
     "text": [
      "Training (3506 / 18000 Steps) (loss=0.24519): 100%|██████████| 7/7 [00:33<00:00,  4.76s/it]\n",
      "Training (3513 / 18000 Steps) (loss=0.26853): 100%|██████████| 7/7 [00:18<00:00,  2.69s/it]\n",
      "Training (3520 / 18000 Steps) (loss=0.38748): 100%|██████████| 7/7 [00:17<00:00,  2.50s/it]\n",
      "Training (3527 / 18000 Steps) (loss=0.40810): 100%|██████████| 7/7 [00:18<00:00,  2.62s/it]\n",
      "Training (3534 / 18000 Steps) (loss=0.40332): 100%|██████████| 7/7 [00:18<00:00,  2.57s/it]\n",
      "Training (3541 / 18000 Steps) (loss=0.34256): 100%|██████████| 7/7 [00:19<00:00,  2.80s/it]\n",
      "Training (3548 / 18000 Steps) (loss=0.32628): 100%|██████████| 7/7 [00:17<00:00,  2.55s/it]\n",
      "Training (3555 / 18000 Steps) (loss=0.39854): 100%|██████████| 7/7 [00:18<00:00,  2.62s/it]\n",
      "Training (3562 / 18000 Steps) (loss=0.45575): 100%|██████████| 7/7 [00:18<00:00,  2.61s/it]\n",
      "Training (3569 / 18000 Steps) (loss=0.14350): 100%|██████████| 7/7 [00:19<00:00,  2.83s/it]\n",
      "Training (3576 / 18000 Steps) (loss=0.41781): 100%|██████████| 7/7 [00:19<00:00,  2.72s/it]\n",
      "Training (3583 / 18000 Steps) (loss=0.42950): 100%|██████████| 7/7 [00:18<00:00,  2.64s/it]\n",
      "Training (3590 / 18000 Steps) (loss=0.38250): 100%|██████████| 7/7 [00:18<00:00,  2.64s/it]\n",
      "Training (3597 / 18000 Steps) (loss=0.28465): 100%|██████████| 7/7 [00:18<00:00,  2.62s/it]\n",
      "Validate (3598 / 10 Steps): 100%|██████████| 2/2 [00:15<00:00,  7.88s/it]<00:20,  4.13s/it]\n",
      "Training (3600 / 18000 Steps) (loss=0.38256):  43%|████▎     | 3/7 [00:27<00:41, 10.43s/it]"
     ]
    },
    {
     "name": "stdout",
     "output_type": "stream",
     "text": [
      "Model Was Not Saved ! Current Best Avg. Dice: 0.5921090245246887 Current Avg. Dice: 0.5211876034736633 Current Avg. tumor Dice: 0.5619652271270752 Current Avg. lymph Dice: 0.48040997982025146\n"
     ]
    },
    {
     "name": "stderr",
     "output_type": "stream",
     "text": [
      "Training (3604 / 18000 Steps) (loss=0.31985): 100%|██████████| 7/7 [00:33<00:00,  4.85s/it]\n",
      "Training (3611 / 18000 Steps) (loss=0.40863): 100%|██████████| 7/7 [00:18<00:00,  2.58s/it]\n",
      "Training (3618 / 18000 Steps) (loss=0.33217): 100%|██████████| 7/7 [00:19<00:00,  2.78s/it]\n",
      "Training (3625 / 18000 Steps) (loss=0.16917): 100%|██████████| 7/7 [00:19<00:00,  2.78s/it]\n",
      "Training (3632 / 18000 Steps) (loss=0.32782): 100%|██████████| 7/7 [00:19<00:00,  2.76s/it]\n",
      "Training (3639 / 18000 Steps) (loss=0.54490): 100%|██████████| 7/7 [00:19<00:00,  2.77s/it]\n",
      "Training (3646 / 18000 Steps) (loss=0.27066): 100%|██████████| 7/7 [00:19<00:00,  2.78s/it]\n",
      "Training (3653 / 18000 Steps) (loss=0.52867): 100%|██████████| 7/7 [00:20<00:00,  2.86s/it]\n",
      "Training (3660 / 18000 Steps) (loss=0.37624): 100%|██████████| 7/7 [00:18<00:00,  2.67s/it]\n",
      "Training (3667 / 18000 Steps) (loss=0.39511): 100%|██████████| 7/7 [00:18<00:00,  2.59s/it]\n",
      "Training (3674 / 18000 Steps) (loss=0.46757): 100%|██████████| 7/7 [00:18<00:00,  2.67s/it]\n",
      "Training (3681 / 18000 Steps) (loss=0.42426): 100%|██████████| 7/7 [00:17<00:00,  2.53s/it]\n",
      "Training (3688 / 18000 Steps) (loss=0.39609): 100%|██████████| 7/7 [00:18<00:00,  2.62s/it]\n",
      "Training (3695 / 18000 Steps) (loss=0.22765): 100%|██████████| 7/7 [00:19<00:00,  2.73s/it]\n",
      "Validate (3696 / 10 Steps): 100%|██████████| 2/2 [00:14<00:00,  7.49s/it]<00:07,  2.65s/it]\n",
      "Training (3700 / 18000 Steps) (loss=0.30875):  71%|███████▏  | 5/7 [00:30<00:15,  7.79s/it]"
     ]
    },
    {
     "name": "stdout",
     "output_type": "stream",
     "text": [
      "Model Was Not Saved ! Current Best Avg. Dice: 0.5921090245246887 Current Avg. Dice: 0.5699828267097473 Current Avg. tumor Dice: 0.643066942691803 Current Avg. lymph Dice: 0.4968986511230469\n"
     ]
    },
    {
     "name": "stderr",
     "output_type": "stream",
     "text": [
      "Training (3702 / 18000 Steps) (loss=0.46646): 100%|██████████| 7/7 [00:33<00:00,  4.77s/it]\n",
      "Training (3709 / 18000 Steps) (loss=0.62613): 100%|██████████| 7/7 [00:18<00:00,  2.67s/it]\n",
      "Training (3716 / 18000 Steps) (loss=0.28611): 100%|██████████| 7/7 [00:17<00:00,  2.57s/it]\n",
      "Training (3723 / 18000 Steps) (loss=0.15837): 100%|██████████| 7/7 [00:18<00:00,  2.60s/it]\n",
      "Training (3730 / 18000 Steps) (loss=0.41276): 100%|██████████| 7/7 [00:18<00:00,  2.62s/it]\n",
      "Training (3737 / 18000 Steps) (loss=0.26325): 100%|██████████| 7/7 [00:19<00:00,  2.75s/it]\n",
      "Training (3744 / 18000 Steps) (loss=0.14648): 100%|██████████| 7/7 [00:16<00:00,  2.31s/it]\n",
      "Training (3751 / 18000 Steps) (loss=0.42582): 100%|██████████| 7/7 [00:19<00:00,  2.76s/it]\n",
      "Training (3758 / 18000 Steps) (loss=0.19690): 100%|██████████| 7/7 [00:17<00:00,  2.55s/it]\n",
      "Training (3765 / 18000 Steps) (loss=0.28219): 100%|██████████| 7/7 [00:18<00:00,  2.70s/it]\n",
      "Training (3772 / 18000 Steps) (loss=0.56228): 100%|██████████| 7/7 [00:17<00:00,  2.57s/it]\n",
      "Training (3779 / 18000 Steps) (loss=0.54449): 100%|██████████| 7/7 [00:18<00:00,  2.63s/it]\n",
      "Training (3786 / 18000 Steps) (loss=0.40242): 100%|██████████| 7/7 [00:18<00:00,  2.69s/it]\n",
      "Training (3793 / 18000 Steps) (loss=0.53941): 100%|██████████| 7/7 [00:19<00:00,  2.76s/it]\n",
      "Validate (3794 / 10 Steps): 100%|██████████| 2/2 [00:15<00:00,  7.67s/it]<00:02,  2.24s/it]\n",
      "Training (3800 / 18000 Steps) (loss=0.53762): 100%|██████████| 7/7 [00:33<00:00,  4.73s/it]\n"
     ]
    },
    {
     "name": "stdout",
     "output_type": "stream",
     "text": [
      "Model Was Not Saved ! Current Best Avg. Dice: 0.5921090245246887 Current Avg. Dice: 0.553753674030304 Current Avg. tumor Dice: 0.619378924369812 Current Avg. lymph Dice: 0.4881283938884735\n"
     ]
    },
    {
     "name": "stderr",
     "output_type": "stream",
     "text": [
      "Training (3807 / 18000 Steps) (loss=0.50793): 100%|██████████| 7/7 [00:17<00:00,  2.56s/it]\n",
      "Training (3814 / 18000 Steps) (loss=0.42617): 100%|██████████| 7/7 [00:19<00:00,  2.75s/it]\n",
      "Training (3821 / 18000 Steps) (loss=0.26009): 100%|██████████| 7/7 [00:17<00:00,  2.53s/it]\n",
      "Training (3828 / 18000 Steps) (loss=0.39835): 100%|██████████| 7/7 [00:20<00:00,  2.88s/it]\n",
      "Training (3835 / 18000 Steps) (loss=0.26811): 100%|██████████| 7/7 [00:18<00:00,  2.63s/it]\n",
      "Training (3842 / 18000 Steps) (loss=0.37343): 100%|██████████| 7/7 [00:18<00:00,  2.63s/it]\n",
      "Training (3849 / 18000 Steps) (loss=0.42806): 100%|██████████| 7/7 [00:17<00:00,  2.53s/it]\n",
      "Training (3856 / 18000 Steps) (loss=0.30989): 100%|██████████| 7/7 [00:18<00:00,  2.65s/it]\n",
      "Training (3863 / 18000 Steps) (loss=0.35244): 100%|██████████| 7/7 [00:18<00:00,  2.58s/it]\n",
      "Training (3870 / 18000 Steps) (loss=0.44825): 100%|██████████| 7/7 [00:19<00:00,  2.85s/it]\n",
      "Training (3877 / 18000 Steps) (loss=0.45298): 100%|██████████| 7/7 [00:17<00:00,  2.53s/it]\n",
      "Training (3884 / 18000 Steps) (loss=0.22902): 100%|██████████| 7/7 [00:18<00:00,  2.62s/it]\n",
      "Training (3891 / 18000 Steps) (loss=0.33282): 100%|██████████| 7/7 [00:19<00:00,  2.73s/it]\n",
      "Training (3898 / 18000 Steps) (loss=0.29206): 100%|██████████| 7/7 [00:19<00:00,  2.77s/it]\n",
      "Validate (3899 / 10 Steps): 100%|██████████| 2/2 [00:15<00:00,  7.68s/it]<00:52,  8.70s/it]\n",
      "Training (3900 / 18000 Steps) (loss=0.48086):  29%|██▊       | 2/7 [00:26<01:09, 13.87s/it]"
     ]
    },
    {
     "name": "stdout",
     "output_type": "stream",
     "text": [
      "Model Was Not Saved ! Current Best Avg. Dice: 0.5921090245246887 Current Avg. Dice: 0.5372225046157837 Current Avg. tumor Dice: 0.6176615357398987 Current Avg. lymph Dice: 0.4567834138870239\n"
     ]
    },
    {
     "name": "stderr",
     "output_type": "stream",
     "text": [
      "Training (3905 / 18000 Steps) (loss=0.39562): 100%|██████████| 7/7 [00:35<00:00,  5.02s/it]\n",
      "Training (3912 / 18000 Steps) (loss=0.22990): 100%|██████████| 7/7 [00:19<00:00,  2.83s/it]\n",
      "Training (3919 / 18000 Steps) (loss=0.33633): 100%|██████████| 7/7 [00:17<00:00,  2.55s/it]\n",
      "Training (3926 / 18000 Steps) (loss=0.11907): 100%|██████████| 7/7 [00:19<00:00,  2.79s/it]\n",
      "Training (3933 / 18000 Steps) (loss=0.55471): 100%|██████████| 7/7 [00:19<00:00,  2.73s/it]\n",
      "Training (3940 / 18000 Steps) (loss=0.26005): 100%|██████████| 7/7 [00:18<00:00,  2.58s/it]\n",
      "Training (3947 / 18000 Steps) (loss=0.36370): 100%|██████████| 7/7 [00:17<00:00,  2.53s/it]\n",
      "Training (3954 / 18000 Steps) (loss=0.41913): 100%|██████████| 7/7 [00:18<00:00,  2.61s/it]\n",
      "Training (3961 / 18000 Steps) (loss=0.27328): 100%|██████████| 7/7 [00:18<00:00,  2.66s/it]\n",
      "Training (3968 / 18000 Steps) (loss=0.38527): 100%|██████████| 7/7 [00:18<00:00,  2.67s/it]\n",
      "Training (3975 / 18000 Steps) (loss=0.56101): 100%|██████████| 7/7 [00:18<00:00,  2.71s/it]\n",
      "Training (3982 / 18000 Steps) (loss=0.39948): 100%|██████████| 7/7 [00:19<00:00,  2.81s/it]\n",
      "Training (3989 / 18000 Steps) (loss=0.34039): 100%|██████████| 7/7 [00:18<00:00,  2.61s/it]\n",
      "Training (3996 / 18000 Steps) (loss=0.34112): 100%|██████████| 7/7 [00:19<00:00,  2.72s/it]\n",
      "Validate (3997 / 10 Steps): 100%|██████████| 2/2 [00:15<00:00,  7.66s/it]<00:12,  3.22s/it]\n",
      "Training (4000 / 18000 Steps) (loss=0.35162):  57%|█████▋    | 4/7 [00:28<00:26,  8.79s/it]"
     ]
    },
    {
     "name": "stdout",
     "output_type": "stream",
     "text": [
      "Model Was Not Saved ! Current Best Avg. Dice: 0.5921090245246887 Current Avg. Dice: 0.5691121816635132 Current Avg. tumor Dice: 0.6261091232299805 Current Avg. lymph Dice: 0.5121152997016907\n"
     ]
    },
    {
     "name": "stderr",
     "output_type": "stream",
     "text": [
      "Training (4003 / 18000 Steps) (loss=0.30958): 100%|██████████| 7/7 [00:33<00:00,  4.84s/it]\n",
      "Training (4010 / 18000 Steps) (loss=0.46887): 100%|██████████| 7/7 [00:18<00:00,  2.59s/it]\n",
      "Training (4017 / 18000 Steps) (loss=0.16771): 100%|██████████| 7/7 [00:18<00:00,  2.58s/it]\n",
      "Training (4024 / 18000 Steps) (loss=0.32481): 100%|██████████| 7/7 [00:18<00:00,  2.59s/it]\n",
      "Training (4031 / 18000 Steps) (loss=0.40215): 100%|██████████| 7/7 [00:18<00:00,  2.58s/it]\n",
      "Training (4038 / 18000 Steps) (loss=0.29445): 100%|██████████| 7/7 [00:18<00:00,  2.65s/it]\n",
      "Training (4045 / 18000 Steps) (loss=0.40172): 100%|██████████| 7/7 [00:18<00:00,  2.71s/it]\n",
      "Training (4052 / 18000 Steps) (loss=0.31362): 100%|██████████| 7/7 [00:18<00:00,  2.57s/it]\n",
      "Training (4059 / 18000 Steps) (loss=0.20886): 100%|██████████| 7/7 [00:17<00:00,  2.52s/it]\n",
      "Training (4066 / 18000 Steps) (loss=0.42138): 100%|██████████| 7/7 [00:17<00:00,  2.52s/it]\n",
      "Training (4073 / 18000 Steps) (loss=0.29252): 100%|██████████| 7/7 [00:19<00:00,  2.72s/it]\n",
      "Training (4080 / 18000 Steps) (loss=0.42106): 100%|██████████| 7/7 [00:19<00:00,  2.77s/it]\n",
      "Training (4087 / 18000 Steps) (loss=0.32370): 100%|██████████| 7/7 [00:18<00:00,  2.58s/it]\n",
      "Training (4094 / 18000 Steps) (loss=0.40239): 100%|██████████| 7/7 [00:17<00:00,  2.55s/it]\n",
      "Validate (4095 / 10 Steps): 100%|██████████| 2/2 [00:15<00:00,  7.72s/it]<00:05,  2.57s/it]\n",
      "Training (4100 / 18000 Steps) (loss=0.37220):  86%|████████▌ | 6/7 [00:34<00:07,  7.66s/it]"
     ]
    },
    {
     "name": "stdout",
     "output_type": "stream",
     "text": [
      "Model Was Not Saved ! Current Best Avg. Dice: 0.5921090245246887 Current Avg. Dice: 0.5381290316581726 Current Avg. tumor Dice: 0.6211113929748535 Current Avg. lymph Dice: 0.4551467001438141\n"
     ]
    },
    {
     "name": "stderr",
     "output_type": "stream",
     "text": [
      "Training (4101 / 18000 Steps) (loss=0.33559): 100%|██████████| 7/7 [00:35<00:00,  5.07s/it]\n",
      "Training (4108 / 18000 Steps) (loss=0.30763): 100%|██████████| 7/7 [00:17<00:00,  2.55s/it]\n",
      "Training (4115 / 18000 Steps) (loss=0.40693): 100%|██████████| 7/7 [00:18<00:00,  2.61s/it]\n",
      "Training (4122 / 18000 Steps) (loss=0.47033): 100%|██████████| 7/7 [00:19<00:00,  2.72s/it]\n",
      "Training (4129 / 18000 Steps) (loss=0.54207): 100%|██████████| 7/7 [00:18<00:00,  2.67s/it]\n",
      "Training (4136 / 18000 Steps) (loss=0.35569): 100%|██████████| 7/7 [00:19<00:00,  2.74s/it]\n",
      "Training (4143 / 18000 Steps) (loss=0.15558): 100%|██████████| 7/7 [00:19<00:00,  2.79s/it]\n",
      "Training (4150 / 18000 Steps) (loss=0.31019): 100%|██████████| 7/7 [00:17<00:00,  2.52s/it]\n",
      "Training (4157 / 18000 Steps) (loss=0.42384): 100%|██████████| 7/7 [00:18<00:00,  2.61s/it]\n",
      "Training (4164 / 18000 Steps) (loss=0.53188): 100%|██████████| 7/7 [00:18<00:00,  2.64s/it]\n",
      "Training (4171 / 18000 Steps) (loss=0.15949): 100%|██████████| 7/7 [00:18<00:00,  2.61s/it]\n",
      "Training (4178 / 18000 Steps) (loss=0.40998): 100%|██████████| 7/7 [00:17<00:00,  2.48s/it]\n",
      "Training (4185 / 18000 Steps) (loss=0.19255): 100%|██████████| 7/7 [00:18<00:00,  2.71s/it]\n",
      "Training (4192 / 18000 Steps) (loss=0.50666): 100%|██████████| 7/7 [00:18<00:00,  2.65s/it]\n",
      "Training (4199 / 18000 Steps) (loss=0.29644): 100%|██████████| 7/7 [00:18<00:00,  2.61s/it]\n",
      "Validate (4200 / 10 Steps): 100%|██████████| 2/2 [00:15<00:00,  7.67s/it]<?, ?it/s]\n",
      "Training (4200 / 18000 Steps) (loss=0.55072):  14%|█▍        | 1/7 [00:22<02:17, 22.92s/it]"
     ]
    },
    {
     "name": "stdout",
     "output_type": "stream",
     "text": [
      "Model Was Not Saved ! Current Best Avg. Dice: 0.5921090245246887 Current Avg. Dice: 0.545474648475647 Current Avg. tumor Dice: 0.6310194134712219 Current Avg. lymph Dice: 0.459929883480072\n"
     ]
    },
    {
     "name": "stderr",
     "output_type": "stream",
     "text": [
      "Training (4206 / 18000 Steps) (loss=0.22167): 100%|██████████| 7/7 [00:33<00:00,  4.83s/it]\n",
      "Training (4213 / 18000 Steps) (loss=0.33495): 100%|██████████| 7/7 [00:17<00:00,  2.55s/it]\n",
      "Training (4220 / 18000 Steps) (loss=0.17841): 100%|██████████| 7/7 [00:19<00:00,  2.82s/it]\n",
      "Training (4227 / 18000 Steps) (loss=0.41035): 100%|██████████| 7/7 [00:17<00:00,  2.47s/it]\n",
      "Training (4234 / 18000 Steps) (loss=0.46139): 100%|██████████| 7/7 [00:19<00:00,  2.80s/it]\n",
      "Training (4241 / 18000 Steps) (loss=0.27328): 100%|██████████| 7/7 [00:18<00:00,  2.67s/it]\n",
      "Training (4248 / 18000 Steps) (loss=0.34466): 100%|██████████| 7/7 [00:16<00:00,  2.35s/it]\n",
      "Training (4255 / 18000 Steps) (loss=0.14431): 100%|██████████| 7/7 [00:19<00:00,  2.73s/it]\n",
      "Training (4262 / 18000 Steps) (loss=0.11975): 100%|██████████| 7/7 [00:18<00:00,  2.63s/it]\n",
      "Training (4269 / 18000 Steps) (loss=0.35852): 100%|██████████| 7/7 [00:19<00:00,  2.73s/it]\n",
      "Training (4276 / 18000 Steps) (loss=0.16417): 100%|██████████| 7/7 [00:17<00:00,  2.56s/it]\n",
      "Training (4283 / 18000 Steps) (loss=0.29650): 100%|██████████| 7/7 [00:18<00:00,  2.62s/it]\n",
      "Training (4290 / 18000 Steps) (loss=0.53553): 100%|██████████| 7/7 [00:17<00:00,  2.52s/it]\n",
      "Training (4297 / 18000 Steps) (loss=0.55248): 100%|██████████| 7/7 [00:19<00:00,  2.80s/it]\n",
      "Validate (4298 / 10 Steps): 100%|██████████| 2/2 [00:14<00:00,  7.49s/it]<00:20,  4.05s/it]\n",
      "Training (4300 / 18000 Steps) (loss=0.47253):  43%|████▎     | 3/7 [00:25<00:39,  9.91s/it]"
     ]
    },
    {
     "name": "stdout",
     "output_type": "stream",
     "text": [
      "Model Was Not Saved ! Current Best Avg. Dice: 0.5921090245246887 Current Avg. Dice: 0.5750933885574341 Current Avg. tumor Dice: 0.6284459829330444 Current Avg. lymph Dice: 0.5217407941818237\n"
     ]
    },
    {
     "name": "stderr",
     "output_type": "stream",
     "text": [
      "Training (4304 / 18000 Steps) (loss=0.49990): 100%|██████████| 7/7 [00:32<00:00,  4.69s/it]\n",
      "Training (4311 / 18000 Steps) (loss=0.23348): 100%|██████████| 7/7 [00:17<00:00,  2.55s/it]\n",
      "Training (4318 / 18000 Steps) (loss=0.47972): 100%|██████████| 7/7 [00:19<00:00,  2.75s/it]\n",
      "Training (4325 / 18000 Steps) (loss=0.24788): 100%|██████████| 7/7 [00:17<00:00,  2.56s/it]\n",
      "Training (4332 / 18000 Steps) (loss=0.26966): 100%|██████████| 7/7 [00:19<00:00,  2.79s/it]\n",
      "Training (4339 / 18000 Steps) (loss=0.47586): 100%|██████████| 7/7 [00:17<00:00,  2.52s/it]\n",
      "Training (4346 / 18000 Steps) (loss=0.28119): 100%|██████████| 7/7 [00:18<00:00,  2.66s/it]\n",
      "Training (4353 / 18000 Steps) (loss=0.30079): 100%|██████████| 7/7 [00:19<00:00,  2.78s/it]\n",
      "Training (4360 / 18000 Steps) (loss=0.28924): 100%|██████████| 7/7 [00:17<00:00,  2.56s/it]\n",
      "Training (4367 / 18000 Steps) (loss=0.24022): 100%|██████████| 7/7 [00:19<00:00,  2.76s/it]\n",
      "Training (4374 / 18000 Steps) (loss=0.44023): 100%|██████████| 7/7 [00:17<00:00,  2.51s/it]\n",
      "Training (4381 / 18000 Steps) (loss=0.40218): 100%|██████████| 7/7 [00:18<00:00,  2.62s/it]\n",
      "Training (4388 / 18000 Steps) (loss=0.28386): 100%|██████████| 7/7 [00:18<00:00,  2.69s/it]\n",
      "Training (4395 / 18000 Steps) (loss=0.11914): 100%|██████████| 7/7 [00:18<00:00,  2.67s/it]\n",
      "Validate (4396 / 10 Steps): 100%|██████████| 2/2 [00:15<00:00,  7.70s/it]<00:07,  2.63s/it]\n",
      "Training (4400 / 18000 Steps) (loss=0.35722):  71%|███████▏  | 5/7 [00:30<00:16,  8.00s/it]"
     ]
    },
    {
     "name": "stdout",
     "output_type": "stream",
     "text": [
      "Model Was Not Saved ! Current Best Avg. Dice: 0.5921090245246887 Current Avg. Dice: 0.5483725666999817 Current Avg. tumor Dice: 0.6317805647850037 Current Avg. lymph Dice: 0.46496450901031494\n"
     ]
    },
    {
     "name": "stderr",
     "output_type": "stream",
     "text": [
      "Training (4402 / 18000 Steps) (loss=0.15335): 100%|██████████| 7/7 [00:33<00:00,  4.74s/it]\n",
      "Training (4409 / 18000 Steps) (loss=0.54009): 100%|██████████| 7/7 [00:17<00:00,  2.57s/it]\n",
      "Training (4416 / 18000 Steps) (loss=0.17172): 100%|██████████| 7/7 [00:19<00:00,  2.83s/it]\n",
      "Training (4423 / 18000 Steps) (loss=0.53049): 100%|██████████| 7/7 [00:18<00:00,  2.66s/it]\n",
      "Training (4430 / 18000 Steps) (loss=0.32836): 100%|██████████| 7/7 [00:17<00:00,  2.55s/it]\n",
      "Training (4437 / 18000 Steps) (loss=0.52105): 100%|██████████| 7/7 [00:18<00:00,  2.61s/it]\n",
      "Training (4444 / 18000 Steps) (loss=0.36727): 100%|██████████| 7/7 [00:18<00:00,  2.59s/it]\n",
      "Training (4451 / 18000 Steps) (loss=0.27356): 100%|██████████| 7/7 [00:18<00:00,  2.71s/it]\n",
      "Training (4458 / 18000 Steps) (loss=0.40176): 100%|██████████| 7/7 [00:18<00:00,  2.59s/it]\n",
      "Training (4465 / 18000 Steps) (loss=0.42484): 100%|██████████| 7/7 [00:17<00:00,  2.49s/it]\n",
      "Training (4472 / 18000 Steps) (loss=0.59859): 100%|██████████| 7/7 [00:17<00:00,  2.51s/it]\n",
      "Training (4479 / 18000 Steps) (loss=0.44797): 100%|██████████| 7/7 [00:17<00:00,  2.49s/it]\n",
      "Training (4486 / 18000 Steps) (loss=0.40159): 100%|██████████| 7/7 [00:19<00:00,  2.75s/it]\n",
      "Training (4493 / 18000 Steps) (loss=0.14198): 100%|██████████| 7/7 [00:18<00:00,  2.68s/it]\n",
      "Validate (4494 / 10 Steps): 100%|██████████| 2/2 [00:15<00:00,  7.68s/it]<00:02,  2.31s/it]\n",
      "Training (4500 / 18000 Steps) (loss=0.30999): 100%|██████████| 7/7 [00:34<00:00,  4.89s/it]\n"
     ]
    },
    {
     "name": "stdout",
     "output_type": "stream",
     "text": [
      "Model Was Not Saved ! Current Best Avg. Dice: 0.5921090245246887 Current Avg. Dice: 0.5825601816177368 Current Avg. tumor Dice: 0.6323409080505371 Current Avg. lymph Dice: 0.5327793955802917\n"
     ]
    },
    {
     "name": "stderr",
     "output_type": "stream",
     "text": [
      "Training (4507 / 18000 Steps) (loss=0.36162): 100%|██████████| 7/7 [00:18<00:00,  2.60s/it]\n",
      "Training (4514 / 18000 Steps) (loss=0.46072): 100%|██████████| 7/7 [00:19<00:00,  2.74s/it]\n",
      "Training (4521 / 18000 Steps) (loss=0.36233): 100%|██████████| 7/7 [00:19<00:00,  2.79s/it]\n",
      "Training (4528 / 18000 Steps) (loss=0.29159): 100%|██████████| 7/7 [00:17<00:00,  2.56s/it]\n",
      "Training (4535 / 18000 Steps) (loss=0.42067): 100%|██████████| 7/7 [00:18<00:00,  2.57s/it]\n",
      "Training (4542 / 18000 Steps) (loss=0.24518): 100%|██████████| 7/7 [00:18<00:00,  2.62s/it]\n",
      "Training (4549 / 18000 Steps) (loss=0.41172): 100%|██████████| 7/7 [00:18<00:00,  2.62s/it]\n",
      "Training (4556 / 18000 Steps) (loss=0.42000): 100%|██████████| 7/7 [00:17<00:00,  2.52s/it]\n",
      "Training (4563 / 18000 Steps) (loss=0.47356): 100%|██████████| 7/7 [00:19<00:00,  2.76s/it]\n",
      "Training (4570 / 18000 Steps) (loss=0.35758): 100%|██████████| 7/7 [00:17<00:00,  2.53s/it]\n",
      "Training (4577 / 18000 Steps) (loss=0.42353): 100%|██████████| 7/7 [00:19<00:00,  2.74s/it]\n",
      "Training (4584 / 18000 Steps) (loss=0.45084): 100%|██████████| 7/7 [00:17<00:00,  2.53s/it]\n",
      "Training (4591 / 18000 Steps) (loss=0.53050): 100%|██████████| 7/7 [00:17<00:00,  2.56s/it]\n",
      "Training (4598 / 18000 Steps) (loss=0.42665): 100%|██████████| 7/7 [00:17<00:00,  2.52s/it]\n",
      "Validate (4599 / 10 Steps): 100%|██████████| 2/2 [00:15<00:00,  7.69s/it]<00:43,  7.19s/it]\n",
      "Training (4600 / 18000 Steps) (loss=0.21035):  29%|██▊       | 2/7 [00:24<01:06, 13.27s/it]"
     ]
    },
    {
     "name": "stdout",
     "output_type": "stream",
     "text": [
      "Model Was Not Saved ! Current Best Avg. Dice: 0.5921090245246887 Current Avg. Dice: 0.5742124915122986 Current Avg. tumor Dice: 0.6301615834236145 Current Avg. lymph Dice: 0.5182634592056274\n"
     ]
    },
    {
     "name": "stderr",
     "output_type": "stream",
     "text": [
      "Training (4605 / 18000 Steps) (loss=0.26071): 100%|██████████| 7/7 [00:33<00:00,  4.77s/it]\n",
      "Training (4612 / 18000 Steps) (loss=0.15661): 100%|██████████| 7/7 [00:19<00:00,  2.76s/it]\n",
      "Training (4619 / 18000 Steps) (loss=0.16581): 100%|██████████| 7/7 [00:18<00:00,  2.59s/it]\n",
      "Training (4626 / 18000 Steps) (loss=0.36874): 100%|██████████| 7/7 [00:17<00:00,  2.56s/it]\n",
      "Training (4633 / 18000 Steps) (loss=0.55707): 100%|██████████| 7/7 [00:19<00:00,  2.74s/it]\n",
      "Training (4640 / 18000 Steps) (loss=0.39953): 100%|██████████| 7/7 [00:17<00:00,  2.51s/it]\n",
      "Training (4647 / 18000 Steps) (loss=0.14708): 100%|██████████| 7/7 [00:20<00:00,  2.93s/it]\n",
      "Training (4654 / 18000 Steps) (loss=0.30005): 100%|██████████| 7/7 [00:17<00:00,  2.57s/it]\n",
      "Training (4661 / 18000 Steps) (loss=0.40795): 100%|██████████| 7/7 [00:19<00:00,  2.78s/it]\n",
      "Training (4668 / 18000 Steps) (loss=0.27258): 100%|██████████| 7/7 [00:18<00:00,  2.59s/it]\n",
      "Training (4675 / 18000 Steps) (loss=0.45915): 100%|██████████| 7/7 [00:19<00:00,  2.80s/it]\n",
      "Training (4682 / 18000 Steps) (loss=0.25081): 100%|██████████| 7/7 [00:19<00:00,  2.81s/it]\n",
      "Training (4689 / 18000 Steps) (loss=0.42605): 100%|██████████| 7/7 [00:18<00:00,  2.60s/it]\n",
      "Training (4696 / 18000 Steps) (loss=0.33664): 100%|██████████| 7/7 [00:17<00:00,  2.54s/it]\n",
      "Validate (4697 / 10 Steps): 100%|██████████| 2/2 [00:15<00:00,  7.62s/it]<00:13,  3.44s/it]\n",
      "Training (4700 / 18000 Steps) (loss=0.28826):  57%|█████▋    | 4/7 [00:29<00:26,  8.87s/it]"
     ]
    },
    {
     "name": "stdout",
     "output_type": "stream",
     "text": [
      "Model Was Not Saved ! Current Best Avg. Dice: 0.5921090245246887 Current Avg. Dice: 0.581259548664093 Current Avg. tumor Dice: 0.6137481331825256 Current Avg. lymph Dice: 0.5487709641456604\n"
     ]
    },
    {
     "name": "stderr",
     "output_type": "stream",
     "text": [
      "Training (4703 / 18000 Steps) (loss=0.17005): 100%|██████████| 7/7 [00:34<00:00,  4.96s/it]\n",
      "Training (4710 / 18000 Steps) (loss=0.35321): 100%|██████████| 7/7 [00:19<00:00,  2.76s/it]\n",
      "Training (4717 / 18000 Steps) (loss=0.26265): 100%|██████████| 7/7 [00:18<00:00,  2.60s/it]\n",
      "Training (4724 / 18000 Steps) (loss=0.25897): 100%|██████████| 7/7 [00:16<00:00,  2.36s/it]\n",
      "Training (4731 / 18000 Steps) (loss=0.16407): 100%|██████████| 7/7 [00:18<00:00,  2.59s/it]\n",
      "Training (4738 / 18000 Steps) (loss=0.29476): 100%|██████████| 7/7 [00:19<00:00,  2.72s/it]\n",
      "Training (4745 / 18000 Steps) (loss=0.52854): 100%|██████████| 7/7 [00:18<00:00,  2.67s/it]\n",
      "Training (4752 / 18000 Steps) (loss=0.35260): 100%|██████████| 7/7 [00:18<00:00,  2.61s/it]\n",
      "Training (4759 / 18000 Steps) (loss=0.34471): 100%|██████████| 7/7 [00:19<00:00,  2.72s/it]\n",
      "Training (4766 / 18000 Steps) (loss=0.15081): 100%|██████████| 7/7 [00:19<00:00,  2.73s/it]\n",
      "Training (4773 / 18000 Steps) (loss=0.31641): 100%|██████████| 7/7 [00:18<00:00,  2.63s/it]\n",
      "Training (4780 / 18000 Steps) (loss=0.42104): 100%|██████████| 7/7 [00:18<00:00,  2.61s/it]\n",
      "Training (4787 / 18000 Steps) (loss=0.26510): 100%|██████████| 7/7 [00:17<00:00,  2.57s/it]\n",
      "Training (4794 / 18000 Steps) (loss=0.60374): 100%|██████████| 7/7 [00:17<00:00,  2.53s/it]\n",
      "Validate (4795 / 10 Steps): 100%|██████████| 2/2 [00:15<00:00,  7.70s/it]<00:04,  2.49s/it]\n",
      "Training (4800 / 18000 Steps) (loss=0.32279):  86%|████████▌ | 6/7 [00:33<00:07,  7.65s/it]"
     ]
    },
    {
     "name": "stdout",
     "output_type": "stream",
     "text": [
      "Model Was Not Saved ! Current Best Avg. Dice: 0.5921090245246887 Current Avg. Dice: 0.5765345096588135 Current Avg. tumor Dice: 0.6134797930717468 Current Avg. lymph Dice: 0.5395891666412354\n"
     ]
    },
    {
     "name": "stderr",
     "output_type": "stream",
     "text": [
      "Training (4801 / 18000 Steps) (loss=0.53851): 100%|██████████| 7/7 [00:34<00:00,  4.90s/it]\n",
      "Training (4808 / 18000 Steps) (loss=0.39414): 100%|██████████| 7/7 [00:19<00:00,  2.79s/it]\n",
      "Training (4815 / 18000 Steps) (loss=0.33385): 100%|██████████| 7/7 [00:19<00:00,  2.77s/it]\n",
      "Training (4822 / 18000 Steps) (loss=0.29933): 100%|██████████| 7/7 [00:18<00:00,  2.63s/it]\n",
      "Training (4829 / 18000 Steps) (loss=0.40266): 100%|██████████| 7/7 [00:18<00:00,  2.66s/it]\n",
      "Training (4836 / 18000 Steps) (loss=0.27204): 100%|██████████| 7/7 [00:18<00:00,  2.67s/it]\n",
      "Training (4843 / 18000 Steps) (loss=0.25085): 100%|██████████| 7/7 [00:17<00:00,  2.55s/it]\n",
      "Training (4850 / 18000 Steps) (loss=0.25446): 100%|██████████| 7/7 [00:19<00:00,  2.77s/it]\n",
      "Training (4857 / 18000 Steps) (loss=0.54958): 100%|██████████| 7/7 [00:18<00:00,  2.71s/it]\n",
      "Training (4864 / 18000 Steps) (loss=0.10935): 100%|██████████| 7/7 [00:18<00:00,  2.59s/it]\n",
      "Training (4871 / 18000 Steps) (loss=0.26764): 100%|██████████| 7/7 [00:18<00:00,  2.62s/it]\n",
      "Training (4878 / 18000 Steps) (loss=0.40559): 100%|██████████| 7/7 [00:17<00:00,  2.56s/it]\n",
      "Training (4885 / 18000 Steps) (loss=0.41066): 100%|██████████| 7/7 [00:17<00:00,  2.54s/it]\n",
      "Training (4892 / 18000 Steps) (loss=0.13854): 100%|██████████| 7/7 [00:20<00:00,  2.89s/it]\n",
      "Training (4899 / 18000 Steps) (loss=0.48148): 100%|██████████| 7/7 [00:18<00:00,  2.64s/it]\n",
      "Validate (4900 / 10 Steps): 100%|██████████| 2/2 [00:15<00:00,  7.64s/it]<?, ?it/s]\n",
      "Training (4900 / 18000 Steps) (loss=0.55415):  14%|█▍        | 1/7 [00:22<02:13, 22.29s/it]"
     ]
    },
    {
     "name": "stdout",
     "output_type": "stream",
     "text": [
      "Model Was Not Saved ! Current Best Avg. Dice: 0.5921090245246887 Current Avg. Dice: 0.5487761497497559 Current Avg. tumor Dice: 0.6232914328575134 Current Avg. lymph Dice: 0.4742608666419983\n"
     ]
    },
    {
     "name": "stderr",
     "output_type": "stream",
     "text": [
      "Training (4906 / 18000 Steps) (loss=0.60290): 100%|██████████| 7/7 [00:33<00:00,  4.72s/it]\n",
      "Training (4913 / 18000 Steps) (loss=0.47486): 100%|██████████| 7/7 [00:17<00:00,  2.57s/it]\n",
      "Training (4920 / 18000 Steps) (loss=0.66670): 100%|██████████| 7/7 [00:17<00:00,  2.53s/it]\n",
      "Training (4927 / 18000 Steps) (loss=0.48734): 100%|██████████| 7/7 [00:18<00:00,  2.64s/it]\n",
      "Training (4934 / 18000 Steps) (loss=0.28901): 100%|██████████| 7/7 [00:17<00:00,  2.53s/it]\n",
      "Training (4941 / 18000 Steps) (loss=0.27231): 100%|██████████| 7/7 [00:17<00:00,  2.54s/it]\n",
      "Training (4948 / 18000 Steps) (loss=0.47406): 100%|██████████| 7/7 [00:17<00:00,  2.55s/it]\n",
      "Training (4955 / 18000 Steps) (loss=0.40257): 100%|██████████| 7/7 [00:18<00:00,  2.66s/it]\n",
      "Training (4962 / 18000 Steps) (loss=0.50569): 100%|██████████| 7/7 [00:18<00:00,  2.59s/it]\n",
      "Training (4969 / 18000 Steps) (loss=0.30963): 100%|██████████| 7/7 [00:18<00:00,  2.66s/it]\n",
      "Training (4976 / 18000 Steps) (loss=0.47504): 100%|██████████| 7/7 [00:21<00:00,  3.03s/it]\n",
      "Training (4983 / 18000 Steps) (loss=0.41536): 100%|██████████| 7/7 [00:19<00:00,  2.74s/it]\n",
      "Training (4990 / 18000 Steps) (loss=0.39140): 100%|██████████| 7/7 [00:20<00:00,  2.89s/it]\n",
      "Training (4997 / 18000 Steps) (loss=0.40100): 100%|██████████| 7/7 [00:18<00:00,  2.67s/it]\n",
      "Validate (4998 / 10 Steps): 100%|██████████| 2/2 [00:15<00:00,  7.65s/it]<00:20,  4.12s/it]\n",
      "Training (5000 / 18000 Steps) (loss=0.27234):  43%|████▎     | 3/7 [00:27<00:42, 10.53s/it]"
     ]
    },
    {
     "name": "stdout",
     "output_type": "stream",
     "text": [
      "Model Was Saved ! Current Best Avg. Dice: 0.6000044941902161 Current Avg. Dice: 0.6000044941902161 Current Avg. tumor Dice: 0.6356821060180664 Current Avg. lymph Dice: 0.564326822757721\n"
     ]
    },
    {
     "name": "stderr",
     "output_type": "stream",
     "text": [
      "Training (5004 / 18000 Steps) (loss=0.43942): 100%|██████████| 7/7 [00:34<00:00,  4.88s/it]\n",
      "Training (5011 / 18000 Steps) (loss=0.28148): 100%|██████████| 7/7 [00:18<00:00,  2.68s/it]\n",
      "Training (5018 / 18000 Steps) (loss=0.26647): 100%|██████████| 7/7 [00:17<00:00,  2.55s/it]\n",
      "Training (5025 / 18000 Steps) (loss=0.19281): 100%|██████████| 7/7 [00:18<00:00,  2.65s/it]\n",
      "Training (5032 / 18000 Steps) (loss=0.45688): 100%|██████████| 7/7 [00:18<00:00,  2.64s/it]\n",
      "Training (5039 / 18000 Steps) (loss=0.30633): 100%|██████████| 7/7 [00:18<00:00,  2.65s/it]\n",
      "Training (5046 / 18000 Steps) (loss=0.36256): 100%|██████████| 7/7 [00:18<00:00,  2.58s/it]\n",
      "Training (5053 / 18000 Steps) (loss=0.54567): 100%|██████████| 7/7 [00:17<00:00,  2.55s/it]\n",
      "Training (5060 / 18000 Steps) (loss=0.24750): 100%|██████████| 7/7 [00:17<00:00,  2.57s/it]\n",
      "Training (5067 / 18000 Steps) (loss=0.42356): 100%|██████████| 7/7 [00:18<00:00,  2.69s/it]\n",
      "Training (5074 / 18000 Steps) (loss=0.34617): 100%|██████████| 7/7 [00:17<00:00,  2.56s/it]\n",
      "Training (5081 / 18000 Steps) (loss=0.39216): 100%|██████████| 7/7 [00:18<00:00,  2.64s/it]\n",
      "Training (5088 / 18000 Steps) (loss=0.54642): 100%|██████████| 7/7 [00:19<00:00,  2.73s/it]\n",
      "Training (5095 / 18000 Steps) (loss=0.38680): 100%|██████████| 7/7 [00:17<00:00,  2.52s/it]\n",
      "Validate (5096 / 10 Steps): 100%|██████████| 2/2 [00:15<00:00,  7.87s/it]<00:07,  2.57s/it]\n",
      "Training (5100 / 18000 Steps) (loss=0.18744):  71%|███████▏  | 5/7 [00:30<00:16,  8.05s/it]"
     ]
    },
    {
     "name": "stdout",
     "output_type": "stream",
     "text": [
      "Model Was Not Saved ! Current Best Avg. Dice: 0.6000044941902161 Current Avg. Dice: 0.589859664440155 Current Avg. tumor Dice: 0.6286885142326355 Current Avg. lymph Dice: 0.5510308742523193\n"
     ]
    },
    {
     "name": "stderr",
     "output_type": "stream",
     "text": [
      "Training (5102 / 18000 Steps) (loss=0.30053): 100%|██████████| 7/7 [00:33<00:00,  4.82s/it]\n",
      "Training (5109 / 18000 Steps) (loss=0.34750): 100%|██████████| 7/7 [00:18<00:00,  2.58s/it]\n",
      "Training (5116 / 18000 Steps) (loss=0.27724): 100%|██████████| 7/7 [00:18<00:00,  2.64s/it]\n",
      "Training (5123 / 18000 Steps) (loss=0.38702): 100%|██████████| 7/7 [00:17<00:00,  2.54s/it]\n",
      "Training (5130 / 18000 Steps) (loss=0.32423): 100%|██████████| 7/7 [00:19<00:00,  2.77s/it]\n",
      "Training (5137 / 18000 Steps) (loss=0.45997): 100%|██████████| 7/7 [00:19<00:00,  2.72s/it]\n",
      "Training (5144 / 18000 Steps) (loss=0.16867): 100%|██████████| 7/7 [00:18<00:00,  2.62s/it]\n",
      "Training (5151 / 18000 Steps) (loss=0.14681): 100%|██████████| 7/7 [00:18<00:00,  2.64s/it]\n",
      "Training (5158 / 18000 Steps) (loss=0.33939): 100%|██████████| 7/7 [00:19<00:00,  2.72s/it]\n",
      "Training (5165 / 18000 Steps) (loss=0.45469): 100%|██████████| 7/7 [00:18<00:00,  2.63s/it]\n",
      "Training (5172 / 18000 Steps) (loss=0.48312): 100%|██████████| 7/7 [00:18<00:00,  2.63s/it]\n",
      "Training (5179 / 18000 Steps) (loss=0.28207): 100%|██████████| 7/7 [00:17<00:00,  2.56s/it]\n",
      "Training (5186 / 18000 Steps) (loss=0.51164): 100%|██████████| 7/7 [00:18<00:00,  2.68s/it]\n",
      "Training (5193 / 18000 Steps) (loss=0.33079): 100%|██████████| 7/7 [00:18<00:00,  2.59s/it]\n",
      "Validate (5194 / 10 Steps): 100%|██████████| 2/2 [00:15<00:00,  7.80s/it]<00:02,  2.06s/it]\n",
      "Training (5200 / 18000 Steps) (loss=0.45926): 100%|██████████| 7/7 [00:34<00:00,  4.86s/it]\n"
     ]
    },
    {
     "name": "stdout",
     "output_type": "stream",
     "text": [
      "Model Was Not Saved ! Current Best Avg. Dice: 0.6000044941902161 Current Avg. Dice: 0.5613132119178772 Current Avg. tumor Dice: 0.621612548828125 Current Avg. lymph Dice: 0.5010137557983398\n"
     ]
    },
    {
     "name": "stderr",
     "output_type": "stream",
     "text": [
      "Training (5207 / 18000 Steps) (loss=0.41405): 100%|██████████| 7/7 [00:18<00:00,  2.64s/it]\n",
      "Training (5214 / 18000 Steps) (loss=0.42328): 100%|██████████| 7/7 [00:18<00:00,  2.65s/it]\n",
      "Training (5221 / 18000 Steps) (loss=0.32505): 100%|██████████| 7/7 [00:18<00:00,  2.61s/it]\n",
      "Training (5228 / 18000 Steps) (loss=0.43649): 100%|██████████| 7/7 [00:19<00:00,  2.85s/it]\n",
      "Training (5235 / 18000 Steps) (loss=0.29793): 100%|██████████| 7/7 [00:17<00:00,  2.55s/it]\n",
      "Training (5242 / 18000 Steps) (loss=0.41041): 100%|██████████| 7/7 [00:20<00:00,  2.86s/it]\n",
      "Training (5249 / 18000 Steps) (loss=0.33059): 100%|██████████| 7/7 [00:20<00:00,  2.86s/it]\n",
      "Training (5256 / 18000 Steps) (loss=0.41322): 100%|██████████| 7/7 [00:18<00:00,  2.59s/it]\n",
      "Training (5263 / 18000 Steps) (loss=0.16420): 100%|██████████| 7/7 [00:17<00:00,  2.55s/it]\n",
      "Training (5270 / 18000 Steps) (loss=0.46479): 100%|██████████| 7/7 [00:18<00:00,  2.58s/it]\n",
      "Training (5277 / 18000 Steps) (loss=0.51088): 100%|██████████| 7/7 [00:18<00:00,  2.65s/it]\n",
      "Training (5284 / 18000 Steps) (loss=0.40204): 100%|██████████| 7/7 [00:18<00:00,  2.63s/it]\n",
      "Training (5291 / 18000 Steps) (loss=0.51244): 100%|██████████| 7/7 [00:18<00:00,  2.60s/it]\n",
      "Training (5298 / 18000 Steps) (loss=0.37078): 100%|██████████| 7/7 [00:19<00:00,  2.76s/it]\n",
      "Validate (5299 / 10 Steps): 100%|██████████| 2/2 [00:15<00:00,  7.74s/it]<00:46,  7.73s/it]\n",
      "Training (5300 / 18000 Steps) (loss=0.15833):  29%|██▊       | 2/7 [00:25<01:07, 13.59s/it]"
     ]
    },
    {
     "name": "stdout",
     "output_type": "stream",
     "text": [
      "Model Was Not Saved ! Current Best Avg. Dice: 0.6000044941902161 Current Avg. Dice: 0.5773248672485352 Current Avg. tumor Dice: 0.6262964010238647 Current Avg. lymph Dice: 0.5283533334732056\n"
     ]
    },
    {
     "name": "stderr",
     "output_type": "stream",
     "text": [
      "Training (5305 / 18000 Steps) (loss=0.19205): 100%|██████████| 7/7 [00:34<00:00,  4.92s/it]\n",
      "Training (5312 / 18000 Steps) (loss=0.30648): 100%|██████████| 7/7 [00:17<00:00,  2.55s/it]\n",
      "Training (5319 / 18000 Steps) (loss=0.12756): 100%|██████████| 7/7 [00:19<00:00,  2.73s/it]\n",
      "Training (5326 / 18000 Steps) (loss=0.40049): 100%|██████████| 7/7 [00:19<00:00,  2.78s/it]\n",
      "Training (5333 / 18000 Steps) (loss=0.26685): 100%|██████████| 7/7 [00:19<00:00,  2.76s/it]\n",
      "Training (5340 / 18000 Steps) (loss=0.25985): 100%|██████████| 7/7 [00:17<00:00,  2.53s/it]\n",
      "Training (5347 / 18000 Steps) (loss=0.42360): 100%|██████████| 7/7 [00:18<00:00,  2.69s/it]\n",
      "Training (5354 / 18000 Steps) (loss=0.35622): 100%|██████████| 7/7 [00:19<00:00,  2.81s/it]\n",
      "Training (5361 / 18000 Steps) (loss=0.25018): 100%|██████████| 7/7 [00:19<00:00,  2.83s/it]\n",
      "Training (5368 / 18000 Steps) (loss=0.56582): 100%|██████████| 7/7 [00:17<00:00,  2.55s/it]\n",
      "Training (5375 / 18000 Steps) (loss=0.30321): 100%|██████████| 7/7 [00:20<00:00,  2.86s/it]\n",
      "Training (5382 / 18000 Steps) (loss=0.39828): 100%|██████████| 7/7 [00:17<00:00,  2.49s/it]\n",
      "Training (5389 / 18000 Steps) (loss=0.55315): 100%|██████████| 7/7 [00:18<00:00,  2.69s/it]\n",
      "Training (5396 / 18000 Steps) (loss=0.24228): 100%|██████████| 7/7 [00:18<00:00,  2.68s/it]\n",
      "Validate (5397 / 10 Steps): 100%|██████████| 2/2 [00:15<00:00,  7.68s/it]<00:12,  3.24s/it]\n",
      "Training (5400 / 18000 Steps) (loss=0.40045):  57%|█████▋    | 4/7 [00:28<00:26,  8.80s/it]"
     ]
    },
    {
     "name": "stdout",
     "output_type": "stream",
     "text": [
      "Model Was Not Saved ! Current Best Avg. Dice: 0.6000044941902161 Current Avg. Dice: 0.565680980682373 Current Avg. tumor Dice: 0.6348674297332764 Current Avg. lymph Dice: 0.4964944124221802\n"
     ]
    },
    {
     "name": "stderr",
     "output_type": "stream",
     "text": [
      "Training (5403 / 18000 Steps) (loss=0.43077): 100%|██████████| 7/7 [00:34<00:00,  4.91s/it]\n",
      "Training (5410 / 18000 Steps) (loss=0.11900): 100%|██████████| 7/7 [00:19<00:00,  2.82s/it]\n",
      "Training (5417 / 18000 Steps) (loss=0.50639): 100%|██████████| 7/7 [00:18<00:00,  2.58s/it]\n",
      "Training (5424 / 18000 Steps) (loss=0.50157): 100%|██████████| 7/7 [00:18<00:00,  2.61s/it]\n",
      "Training (5431 / 18000 Steps) (loss=0.49148): 100%|██████████| 7/7 [00:17<00:00,  2.55s/it]\n",
      "Training (5438 / 18000 Steps) (loss=0.55406): 100%|██████████| 7/7 [00:18<00:00,  2.61s/it]\n",
      "Training (5445 / 18000 Steps) (loss=0.40567): 100%|██████████| 7/7 [00:18<00:00,  2.64s/it]\n",
      "Training (5452 / 18000 Steps) (loss=0.37666): 100%|██████████| 7/7 [00:17<00:00,  2.55s/it]\n",
      "Training (5459 / 18000 Steps) (loss=0.26529): 100%|██████████| 7/7 [00:18<00:00,  2.64s/it]\n",
      "Training (5466 / 18000 Steps) (loss=0.42960): 100%|██████████| 7/7 [00:17<00:00,  2.55s/it]\n",
      "Training (5473 / 18000 Steps) (loss=0.26248): 100%|██████████| 7/7 [00:19<00:00,  2.84s/it]\n",
      "Training (5480 / 18000 Steps) (loss=0.39060): 100%|██████████| 7/7 [00:20<00:00,  2.86s/it]\n",
      "Training (5487 / 18000 Steps) (loss=0.13920): 100%|██████████| 7/7 [00:19<00:00,  2.72s/it]\n",
      "Training (5494 / 18000 Steps) (loss=0.14756): 100%|██████████| 7/7 [00:17<00:00,  2.52s/it]\n",
      "Validate (5495 / 10 Steps): 100%|██████████| 2/2 [00:15<00:00,  7.62s/it]<00:05,  2.51s/it]\n",
      "Training (5500 / 18000 Steps) (loss=0.46161):  86%|████████▌ | 6/7 [00:33<00:07,  7.52s/it]"
     ]
    },
    {
     "name": "stdout",
     "output_type": "stream",
     "text": [
      "Model Was Not Saved ! Current Best Avg. Dice: 0.6000044941902161 Current Avg. Dice: 0.5848602056503296 Current Avg. tumor Dice: 0.6207008957862854 Current Avg. lymph Dice: 0.5490195751190186\n"
     ]
    },
    {
     "name": "stderr",
     "output_type": "stream",
     "text": [
      "Training (5501 / 18000 Steps) (loss=0.28401): 100%|██████████| 7/7 [00:34<00:00,  4.88s/it]\n",
      "Training (5508 / 18000 Steps) (loss=0.26041): 100%|██████████| 7/7 [00:19<00:00,  2.74s/it]\n",
      "Training (5515 / 18000 Steps) (loss=0.14388): 100%|██████████| 7/7 [00:19<00:00,  2.75s/it]\n",
      "Training (5522 / 18000 Steps) (loss=0.32576): 100%|██████████| 7/7 [00:18<00:00,  2.65s/it]\n",
      "Training (5529 / 18000 Steps) (loss=0.41497): 100%|██████████| 7/7 [00:19<00:00,  2.76s/it]\n",
      "Training (5536 / 18000 Steps) (loss=0.10952): 100%|██████████| 7/7 [00:18<00:00,  2.65s/it]\n",
      "Training (5543 / 18000 Steps) (loss=0.15984): 100%|██████████| 7/7 [00:18<00:00,  2.59s/it]\n",
      "Training (5550 / 18000 Steps) (loss=0.42512): 100%|██████████| 7/7 [00:17<00:00,  2.53s/it]\n",
      "Training (5557 / 18000 Steps) (loss=0.40345): 100%|██████████| 7/7 [00:18<00:00,  2.71s/it]\n",
      "Training (5564 / 18000 Steps) (loss=0.30205): 100%|██████████| 7/7 [00:18<00:00,  2.71s/it]\n",
      "Training (5571 / 18000 Steps) (loss=0.35413): 100%|██████████| 7/7 [00:17<00:00,  2.56s/it]\n",
      "Training (5578 / 18000 Steps) (loss=0.53682): 100%|██████████| 7/7 [00:18<00:00,  2.65s/it]\n",
      "Training (5585 / 18000 Steps) (loss=0.52598): 100%|██████████| 7/7 [00:18<00:00,  2.64s/it]\n",
      "Training (5592 / 18000 Steps) (loss=0.39288): 100%|██████████| 7/7 [00:19<00:00,  2.84s/it]\n",
      "Training (5599 / 18000 Steps) (loss=0.28741): 100%|██████████| 7/7 [00:18<00:00,  2.61s/it]\n",
      "Validate (5600 / 10 Steps): 100%|██████████| 2/2 [00:15<00:00,  7.62s/it]<?, ?it/s]\n",
      "Training (5600 / 18000 Steps) (loss=0.30931):  14%|█▍        | 1/7 [00:23<02:19, 23.21s/it]"
     ]
    },
    {
     "name": "stdout",
     "output_type": "stream",
     "text": [
      "Model Was Not Saved ! Current Best Avg. Dice: 0.6000044941902161 Current Avg. Dice: 0.5877726078033447 Current Avg. tumor Dice: 0.6372811198234558 Current Avg. lymph Dice: 0.5382641553878784\n"
     ]
    },
    {
     "name": "stderr",
     "output_type": "stream",
     "text": [
      "Training (5606 / 18000 Steps) (loss=0.39452): 100%|██████████| 7/7 [00:33<00:00,  4.84s/it]\n",
      "Training (5613 / 18000 Steps) (loss=0.41160): 100%|██████████| 7/7 [00:18<00:00,  2.64s/it]\n",
      "Training (5620 / 18000 Steps) (loss=0.31452): 100%|██████████| 7/7 [00:18<00:00,  2.66s/it]\n",
      "Training (5627 / 18000 Steps) (loss=0.26499): 100%|██████████| 7/7 [00:18<00:00,  2.69s/it]\n",
      "Training (5634 / 18000 Steps) (loss=0.40631): 100%|██████████| 7/7 [00:16<00:00,  2.39s/it]\n",
      "Training (5641 / 18000 Steps) (loss=0.49017): 100%|██████████| 7/7 [00:18<00:00,  2.58s/it]\n",
      "Training (5648 / 18000 Steps) (loss=0.53162): 100%|██████████| 7/7 [00:19<00:00,  2.76s/it]\n",
      "Training (5655 / 18000 Steps) (loss=0.32122): 100%|██████████| 7/7 [00:18<00:00,  2.58s/it]\n",
      "Training (5662 / 18000 Steps) (loss=0.49222): 100%|██████████| 7/7 [00:18<00:00,  2.64s/it]\n",
      "Training (5669 / 18000 Steps) (loss=0.48955): 100%|██████████| 7/7 [00:19<00:00,  2.74s/it]\n",
      "Training (5676 / 18000 Steps) (loss=0.26140): 100%|██████████| 7/7 [00:19<00:00,  2.81s/it]\n",
      "Training (5683 / 18000 Steps) (loss=0.40701): 100%|██████████| 7/7 [00:19<00:00,  2.72s/it]\n",
      "Training (5690 / 18000 Steps) (loss=0.25543): 100%|██████████| 7/7 [00:18<00:00,  2.62s/it]\n",
      "Training (5697 / 18000 Steps) (loss=0.57979): 100%|██████████| 7/7 [00:19<00:00,  2.80s/it]\n",
      "Validate (5698 / 10 Steps): 100%|██████████| 2/2 [00:15<00:00,  7.70s/it]<00:21,  4.36s/it]\n",
      "Training (5700 / 18000 Steps) (loss=0.42876):  43%|████▎     | 3/7 [00:27<00:41, 10.37s/it]"
     ]
    },
    {
     "name": "stdout",
     "output_type": "stream",
     "text": [
      "Model Was Not Saved ! Current Best Avg. Dice: 0.6000044941902161 Current Avg. Dice: 0.5510506629943848 Current Avg. tumor Dice: 0.6277614235877991 Current Avg. lymph Dice: 0.47433996200561523\n"
     ]
    },
    {
     "name": "stderr",
     "output_type": "stream",
     "text": [
      "Training (5704 / 18000 Steps) (loss=0.41106): 100%|██████████| 7/7 [00:34<00:00,  4.96s/it]\n",
      "Training (5711 / 18000 Steps) (loss=0.40619): 100%|██████████| 7/7 [00:18<00:00,  2.68s/it]\n",
      "Training (5718 / 18000 Steps) (loss=0.49927): 100%|██████████| 7/7 [00:18<00:00,  2.61s/it]\n",
      "Training (5725 / 18000 Steps) (loss=0.40554): 100%|██████████| 7/7 [00:18<00:00,  2.67s/it]\n",
      "Training (5732 / 18000 Steps) (loss=0.26354): 100%|██████████| 7/7 [00:18<00:00,  2.64s/it]\n",
      "Training (5739 / 18000 Steps) (loss=0.25057): 100%|██████████| 7/7 [00:17<00:00,  2.52s/it]\n",
      "Training (5746 / 18000 Steps) (loss=0.15871): 100%|██████████| 7/7 [00:18<00:00,  2.68s/it]\n",
      "Training (5753 / 18000 Steps) (loss=0.15725): 100%|██████████| 7/7 [00:18<00:00,  2.64s/it]\n",
      "Training (5760 / 18000 Steps) (loss=0.15755): 100%|██████████| 7/7 [00:17<00:00,  2.51s/it]\n",
      "Training (5767 / 18000 Steps) (loss=0.50242): 100%|██████████| 7/7 [00:18<00:00,  2.66s/it]\n",
      "Training (5774 / 18000 Steps) (loss=0.15821): 100%|██████████| 7/7 [00:19<00:00,  2.75s/it]\n",
      "Training (5781 / 18000 Steps) (loss=0.39538): 100%|██████████| 7/7 [00:18<00:00,  2.66s/it]\n",
      "Training (5788 / 18000 Steps) (loss=0.53294): 100%|██████████| 7/7 [00:17<00:00,  2.53s/it]\n",
      "Training (5795 / 18000 Steps) (loss=0.12976): 100%|██████████| 7/7 [00:17<00:00,  2.54s/it]\n",
      "Validate (5796 / 10 Steps): 100%|██████████| 2/2 [00:15<00:00,  7.52s/it]<00:08,  2.80s/it]\n",
      "Training (5800 / 18000 Steps) (loss=0.40110):  71%|███████▏  | 5/7 [00:30<00:15,  7.92s/it]"
     ]
    },
    {
     "name": "stdout",
     "output_type": "stream",
     "text": [
      "Model Was Not Saved ! Current Best Avg. Dice: 0.6000044941902161 Current Avg. Dice: 0.5692613124847412 Current Avg. tumor Dice: 0.6321586966514587 Current Avg. lymph Dice: 0.5063640475273132\n"
     ]
    },
    {
     "name": "stderr",
     "output_type": "stream",
     "text": [
      "Training (5802 / 18000 Steps) (loss=0.40669): 100%|██████████| 7/7 [00:33<00:00,  4.84s/it]\n",
      "Training (5809 / 18000 Steps) (loss=0.41057): 100%|██████████| 7/7 [00:18<00:00,  2.66s/it]\n",
      "Training (5816 / 18000 Steps) (loss=0.28589): 100%|██████████| 7/7 [00:18<00:00,  2.70s/it]\n",
      "Training (5823 / 18000 Steps) (loss=0.53277): 100%|██████████| 7/7 [00:17<00:00,  2.53s/it]\n",
      "Training (5830 / 18000 Steps) (loss=0.27602): 100%|██████████| 7/7 [00:19<00:00,  2.77s/it]\n",
      "Training (5837 / 18000 Steps) (loss=0.60714): 100%|██████████| 7/7 [00:18<00:00,  2.61s/it]\n",
      "Training (5844 / 18000 Steps) (loss=0.24128): 100%|██████████| 7/7 [00:18<00:00,  2.66s/it]\n",
      "Training (5851 / 18000 Steps) (loss=0.25952): 100%|██████████| 7/7 [00:18<00:00,  2.65s/it]\n",
      "Training (5858 / 18000 Steps) (loss=0.25973): 100%|██████████| 7/7 [00:19<00:00,  2.73s/it]\n",
      "Training (5865 / 18000 Steps) (loss=0.34539): 100%|██████████| 7/7 [00:19<00:00,  2.80s/it]\n",
      "Training (5872 / 18000 Steps) (loss=0.33992): 100%|██████████| 7/7 [00:18<00:00,  2.67s/it]\n",
      "Training (5879 / 18000 Steps) (loss=0.28717): 100%|██████████| 7/7 [00:19<00:00,  2.74s/it]\n",
      "Training (5886 / 18000 Steps) (loss=0.14626): 100%|██████████| 7/7 [00:19<00:00,  2.77s/it]\n",
      "Training (5893 / 18000 Steps) (loss=0.23876): 100%|██████████| 7/7 [00:19<00:00,  2.77s/it]\n",
      "Validate (5894 / 10 Steps): 100%|██████████| 2/2 [00:15<00:00,  7.69s/it]<00:02,  2.30s/it]\n",
      "Training (5900 / 18000 Steps) (loss=0.42047): 100%|██████████| 7/7 [00:34<00:00,  4.88s/it]\n"
     ]
    },
    {
     "name": "stdout",
     "output_type": "stream",
     "text": [
      "Model Was Not Saved ! Current Best Avg. Dice: 0.6000044941902161 Current Avg. Dice: 0.553834080696106 Current Avg. tumor Dice: 0.5863913893699646 Current Avg. lymph Dice: 0.5212766528129578\n"
     ]
    },
    {
     "name": "stderr",
     "output_type": "stream",
     "text": [
      "Training (5907 / 18000 Steps) (loss=0.53022): 100%|██████████| 7/7 [00:19<00:00,  2.71s/it]\n",
      "Training (5914 / 18000 Steps) (loss=0.26712): 100%|██████████| 7/7 [00:18<00:00,  2.57s/it]\n",
      "Training (5921 / 18000 Steps) (loss=0.28005): 100%|██████████| 7/7 [00:17<00:00,  2.54s/it]\n",
      "Training (5928 / 18000 Steps) (loss=0.43917): 100%|██████████| 7/7 [00:18<00:00,  2.64s/it]\n",
      "Training (5935 / 18000 Steps) (loss=0.23449): 100%|██████████| 7/7 [00:19<00:00,  2.81s/it]\n",
      "Training (5942 / 18000 Steps) (loss=0.39184): 100%|██████████| 7/7 [00:19<00:00,  2.76s/it]\n",
      "Training (5949 / 18000 Steps) (loss=0.42068): 100%|██████████| 7/7 [00:18<00:00,  2.57s/it]\n",
      "Training (5956 / 18000 Steps) (loss=0.26668): 100%|██████████| 7/7 [00:18<00:00,  2.60s/it]\n",
      "Training (5963 / 18000 Steps) (loss=0.26980): 100%|██████████| 7/7 [00:19<00:00,  2.76s/it]\n",
      "Training (5970 / 18000 Steps) (loss=0.53483): 100%|██████████| 7/7 [00:18<00:00,  2.67s/it]\n",
      "Training (5977 / 18000 Steps) (loss=0.40651): 100%|██████████| 7/7 [00:19<00:00,  2.77s/it]\n",
      "Training (5984 / 18000 Steps) (loss=0.33762): 100%|██████████| 7/7 [00:19<00:00,  2.80s/it]\n",
      "Training (5991 / 18000 Steps) (loss=0.51338): 100%|██████████| 7/7 [00:19<00:00,  2.77s/it]\n",
      "Training (5998 / 18000 Steps) (loss=0.41814): 100%|██████████| 7/7 [00:17<00:00,  2.50s/it]\n",
      "Validate (5999 / 10 Steps): 100%|██████████| 2/2 [00:15<00:00,  7.61s/it]<00:42,  7.01s/it]\n",
      "Training (6000 / 18000 Steps) (loss=0.22005):  29%|██▊       | 2/7 [00:24<01:05, 13.07s/it]"
     ]
    },
    {
     "name": "stdout",
     "output_type": "stream",
     "text": [
      "Model Was Not Saved ! Current Best Avg. Dice: 0.6000044941902161 Current Avg. Dice: 0.5529879927635193 Current Avg. tumor Dice: 0.6231200695037842 Current Avg. lymph Dice: 0.4828559458255768\n"
     ]
    },
    {
     "name": "stderr",
     "output_type": "stream",
     "text": [
      "Training (6005 / 18000 Steps) (loss=0.40181): 100%|██████████| 7/7 [00:32<00:00,  4.71s/it]\n",
      "Training (6012 / 18000 Steps) (loss=0.43170): 100%|██████████| 7/7 [00:18<00:00,  2.67s/it]\n",
      "Training (6019 / 18000 Steps) (loss=0.28542): 100%|██████████| 7/7 [00:17<00:00,  2.55s/it]\n",
      "Training (6026 / 18000 Steps) (loss=0.41695): 100%|██████████| 7/7 [00:18<00:00,  2.61s/it]\n",
      "Training (6033 / 18000 Steps) (loss=0.66422): 100%|██████████| 7/7 [00:19<00:00,  2.81s/it]\n",
      "Training (6040 / 18000 Steps) (loss=0.36782): 100%|██████████| 7/7 [00:19<00:00,  2.72s/it]\n",
      "Training (6047 / 18000 Steps) (loss=0.55018): 100%|██████████| 7/7 [00:17<00:00,  2.56s/it]\n",
      "Training (6054 / 18000 Steps) (loss=0.24075): 100%|██████████| 7/7 [00:18<00:00,  2.66s/it]\n",
      "Training (6061 / 18000 Steps) (loss=0.40774): 100%|██████████| 7/7 [00:19<00:00,  2.84s/it]\n",
      "Training (6068 / 18000 Steps) (loss=0.40343): 100%|██████████| 7/7 [00:18<00:00,  2.62s/it]\n",
      "Training (6075 / 18000 Steps) (loss=0.39884): 100%|██████████| 7/7 [00:18<00:00,  2.66s/it]\n",
      "Training (6082 / 18000 Steps) (loss=0.30330): 100%|██████████| 7/7 [00:18<00:00,  2.58s/it]\n",
      "Training (6089 / 18000 Steps) (loss=0.33877): 100%|██████████| 7/7 [00:18<00:00,  2.65s/it]\n",
      "Training (6096 / 18000 Steps) (loss=0.46240): 100%|██████████| 7/7 [00:18<00:00,  2.59s/it]\n",
      "Validate (6097 / 10 Steps): 100%|██████████| 2/2 [00:15<00:00,  7.78s/it]<00:10,  2.67s/it]\n",
      "Training (6100 / 18000 Steps) (loss=0.40725):  57%|█████▋    | 4/7 [00:26<00:25,  8.42s/it]"
     ]
    },
    {
     "name": "stdout",
     "output_type": "stream",
     "text": [
      "Model Was Not Saved ! Current Best Avg. Dice: 0.6000044941902161 Current Avg. Dice: 0.5499202013015747 Current Avg. tumor Dice: 0.6170949339866638 Current Avg. lymph Dice: 0.48274552822113037\n"
     ]
    },
    {
     "name": "stderr",
     "output_type": "stream",
     "text": [
      "Training (6103 / 18000 Steps) (loss=0.52230): 100%|██████████| 7/7 [00:31<00:00,  4.55s/it]\n",
      "Training (6110 / 18000 Steps) (loss=0.41425): 100%|██████████| 7/7 [00:18<00:00,  2.64s/it]\n",
      "Training (6117 / 18000 Steps) (loss=0.32697): 100%|██████████| 7/7 [00:18<00:00,  2.67s/it]\n",
      "Training (6124 / 18000 Steps) (loss=0.41094): 100%|██████████| 7/7 [00:18<00:00,  2.57s/it]\n",
      "Training (6131 / 18000 Steps) (loss=0.60997): 100%|██████████| 7/7 [00:19<00:00,  2.79s/it]\n",
      "Training (6138 / 18000 Steps) (loss=0.17483): 100%|██████████| 7/7 [00:18<00:00,  2.71s/it]\n",
      "Training (6145 / 18000 Steps) (loss=0.52711): 100%|██████████| 7/7 [00:18<00:00,  2.69s/it]\n",
      "Training (6152 / 18000 Steps) (loss=0.13641): 100%|██████████| 7/7 [00:19<00:00,  2.81s/it]\n",
      "Training (6159 / 18000 Steps) (loss=0.14870): 100%|██████████| 7/7 [00:19<00:00,  2.86s/it]\n",
      "Training (6166 / 18000 Steps) (loss=0.38244): 100%|██████████| 7/7 [00:19<00:00,  2.75s/it]\n",
      "Training (6173 / 18000 Steps) (loss=0.26049): 100%|██████████| 7/7 [00:18<00:00,  2.63s/it]\n",
      "Training (6180 / 18000 Steps) (loss=0.27610): 100%|██████████| 7/7 [00:17<00:00,  2.55s/it]\n",
      "Training (6187 / 18000 Steps) (loss=0.26312): 100%|██████████| 7/7 [00:18<00:00,  2.63s/it]\n",
      "Training (6194 / 18000 Steps) (loss=0.31973): 100%|██████████| 7/7 [00:19<00:00,  2.80s/it]\n",
      "Validate (6195 / 10 Steps): 100%|██████████| 2/2 [00:15<00:00,  7.60s/it]<00:04,  2.37s/it]\n",
      "Training (6200 / 18000 Steps) (loss=0.35941):  86%|████████▌ | 6/7 [00:31<00:07,  7.43s/it]"
     ]
    },
    {
     "name": "stdout",
     "output_type": "stream",
     "text": [
      "Model Was Not Saved ! Current Best Avg. Dice: 0.6000044941902161 Current Avg. Dice: 0.561165988445282 Current Avg. tumor Dice: 0.5975528359413147 Current Avg. lymph Dice: 0.5247791409492493\n"
     ]
    },
    {
     "name": "stderr",
     "output_type": "stream",
     "text": [
      "Training (6201 / 18000 Steps) (loss=0.43072): 100%|██████████| 7/7 [00:33<00:00,  4.72s/it]\n",
      "Training (6208 / 18000 Steps) (loss=0.55291): 100%|██████████| 7/7 [00:19<00:00,  2.75s/it]\n",
      "Training (6215 / 18000 Steps) (loss=0.38924): 100%|██████████| 7/7 [00:19<00:00,  2.75s/it]\n",
      "Training (6222 / 18000 Steps) (loss=0.25737): 100%|██████████| 7/7 [00:19<00:00,  2.75s/it]\n",
      "Training (6229 / 18000 Steps) (loss=0.28831): 100%|██████████| 7/7 [00:18<00:00,  2.59s/it]\n",
      "Training (6236 / 18000 Steps) (loss=0.37290): 100%|██████████| 7/7 [00:19<00:00,  2.74s/it]\n",
      "Training (6243 / 18000 Steps) (loss=0.38667): 100%|██████████| 7/7 [00:18<00:00,  2.70s/it]\n",
      "Training (6250 / 18000 Steps) (loss=0.28334): 100%|██████████| 7/7 [00:18<00:00,  2.65s/it]\n",
      "Training (6257 / 18000 Steps) (loss=0.40992): 100%|██████████| 7/7 [00:17<00:00,  2.55s/it]\n",
      "Training (6264 / 18000 Steps) (loss=0.13642): 100%|██████████| 7/7 [00:18<00:00,  2.58s/it]\n",
      "Training (6271 / 18000 Steps) (loss=0.26348): 100%|██████████| 7/7 [00:20<00:00,  2.87s/it]\n",
      "Training (6278 / 18000 Steps) (loss=0.40366): 100%|██████████| 7/7 [00:20<00:00,  2.88s/it]\n",
      "Training (6285 / 18000 Steps) (loss=0.59706): 100%|██████████| 7/7 [00:19<00:00,  2.85s/it]\n",
      "Training (6292 / 18000 Steps) (loss=0.32902): 100%|██████████| 7/7 [00:19<00:00,  2.76s/it]\n",
      "Training (6299 / 18000 Steps) (loss=0.26557): 100%|██████████| 7/7 [00:17<00:00,  2.53s/it]\n",
      "Validate (6300 / 10 Steps): 100%|██████████| 2/2 [00:14<00:00,  7.40s/it]<?, ?it/s]\n",
      "Training (6300 / 18000 Steps) (loss=0.40918):  14%|█▍        | 1/7 [00:22<02:16, 22.67s/it]"
     ]
    },
    {
     "name": "stdout",
     "output_type": "stream",
     "text": [
      "Model Was Not Saved ! Current Best Avg. Dice: 0.6000044941902161 Current Avg. Dice: 0.5492075681686401 Current Avg. tumor Dice: 0.6240507364273071 Current Avg. lymph Dice: 0.47436434030532837\n"
     ]
    },
    {
     "name": "stderr",
     "output_type": "stream",
     "text": [
      "Training (6306 / 18000 Steps) (loss=0.31436): 100%|██████████| 7/7 [00:33<00:00,  4.77s/it]\n",
      "Training (6313 / 18000 Steps) (loss=0.46748): 100%|██████████| 7/7 [00:19<00:00,  2.72s/it]\n",
      "Training (6320 / 18000 Steps) (loss=0.25983): 100%|██████████| 7/7 [00:18<00:00,  2.69s/it]\n",
      "Training (6327 / 18000 Steps) (loss=0.53683): 100%|██████████| 7/7 [00:18<00:00,  2.58s/it]\n",
      "Training (6334 / 18000 Steps) (loss=0.46467): 100%|██████████| 7/7 [00:18<00:00,  2.70s/it]\n",
      "Training (6341 / 18000 Steps) (loss=0.39800): 100%|██████████| 7/7 [00:18<00:00,  2.67s/it]\n",
      "Training (6348 / 18000 Steps) (loss=0.39986): 100%|██████████| 7/7 [00:17<00:00,  2.56s/it]\n",
      "Training (6355 / 18000 Steps) (loss=0.16686): 100%|██████████| 7/7 [00:19<00:00,  2.74s/it]\n",
      "Training (6362 / 18000 Steps) (loss=0.43098): 100%|██████████| 7/7 [00:17<00:00,  2.57s/it]\n",
      "Training (6369 / 18000 Steps) (loss=0.27033): 100%|██████████| 7/7 [00:19<00:00,  2.78s/it]\n",
      "Training (6376 / 18000 Steps) (loss=0.25945): 100%|██████████| 7/7 [00:18<00:00,  2.65s/it]\n",
      "Training (6383 / 18000 Steps) (loss=0.31185): 100%|██████████| 7/7 [00:19<00:00,  2.82s/it]\n",
      "Training (6390 / 18000 Steps) (loss=0.47382): 100%|██████████| 7/7 [00:19<00:00,  2.75s/it]\n",
      "Training (6397 / 18000 Steps) (loss=0.51166): 100%|██████████| 7/7 [00:17<00:00,  2.54s/it]\n",
      "Validate (6398 / 10 Steps): 100%|██████████| 2/2 [00:15<00:00,  7.68s/it]<00:23,  4.62s/it]\n",
      "Training (6400 / 18000 Steps) (loss=0.53275):  43%|████▎     | 3/7 [00:27<00:41, 10.46s/it]"
     ]
    },
    {
     "name": "stdout",
     "output_type": "stream",
     "text": [
      "Model Was Not Saved ! Current Best Avg. Dice: 0.6000044941902161 Current Avg. Dice: 0.5903278589248657 Current Avg. tumor Dice: 0.6135380268096924 Current Avg. lymph Dice: 0.5671176910400391\n"
     ]
    },
    {
     "name": "stderr",
     "output_type": "stream",
     "text": [
      "Training (6404 / 18000 Steps) (loss=0.26505): 100%|██████████| 7/7 [00:34<00:00,  4.96s/it]\n",
      "Training (6411 / 18000 Steps) (loss=0.39785): 100%|██████████| 7/7 [00:17<00:00,  2.54s/it]\n",
      "Training (6418 / 18000 Steps) (loss=0.44679): 100%|██████████| 7/7 [00:18<00:00,  2.66s/it]\n",
      "Training (6425 / 18000 Steps) (loss=0.29367): 100%|██████████| 7/7 [00:19<00:00,  2.83s/it]\n",
      "Training (6432 / 18000 Steps) (loss=0.29341): 100%|██████████| 7/7 [00:18<00:00,  2.64s/it]\n",
      "Training (6439 / 18000 Steps) (loss=0.47905): 100%|██████████| 7/7 [00:18<00:00,  2.64s/it]\n",
      "Training (6446 / 18000 Steps) (loss=0.41286): 100%|██████████| 7/7 [00:19<00:00,  2.73s/it]\n",
      "Training (6453 / 18000 Steps) (loss=0.13959): 100%|██████████| 7/7 [00:18<00:00,  2.66s/it]\n",
      "Training (6460 / 18000 Steps) (loss=0.52096): 100%|██████████| 7/7 [00:18<00:00,  2.69s/it]\n",
      "Training (6467 / 18000 Steps) (loss=0.41220): 100%|██████████| 7/7 [00:17<00:00,  2.50s/it]\n",
      "Training (6474 / 18000 Steps) (loss=0.36041): 100%|██████████| 7/7 [00:18<00:00,  2.67s/it]\n",
      "Training (6481 / 18000 Steps) (loss=0.34613): 100%|██████████| 7/7 [00:17<00:00,  2.57s/it]\n",
      "Training (6488 / 18000 Steps) (loss=0.19664): 100%|██████████| 7/7 [00:19<00:00,  2.76s/it]\n",
      "Training (6495 / 18000 Steps) (loss=0.46670): 100%|██████████| 7/7 [00:17<00:00,  2.53s/it]\n",
      "Validate (6496 / 10 Steps): 100%|██████████| 2/2 [00:14<00:00,  7.29s/it]<00:07,  2.63s/it]\n",
      "Training (6500 / 18000 Steps) (loss=0.33153):  71%|███████▏  | 5/7 [00:29<00:15,  7.64s/it]"
     ]
    },
    {
     "name": "stdout",
     "output_type": "stream",
     "text": [
      "Model Was Not Saved ! Current Best Avg. Dice: 0.6000044941902161 Current Avg. Dice: 0.5468975305557251 Current Avg. tumor Dice: 0.6381909847259521 Current Avg. lymph Dice: 0.45560407638549805\n"
     ]
    },
    {
     "name": "stderr",
     "output_type": "stream",
     "text": [
      "Training (6502 / 18000 Steps) (loss=0.38167): 100%|██████████| 7/7 [00:32<00:00,  4.65s/it]\n",
      "Training (6509 / 18000 Steps) (loss=0.29023): 100%|██████████| 7/7 [00:19<00:00,  2.84s/it]\n",
      "Training (6516 / 18000 Steps) (loss=0.20279): 100%|██████████| 7/7 [00:18<00:00,  2.64s/it]\n",
      "Training (6523 / 18000 Steps) (loss=0.39249): 100%|██████████| 7/7 [00:20<00:00,  2.87s/it]\n",
      "Training (6530 / 18000 Steps) (loss=0.38253): 100%|██████████| 7/7 [00:18<00:00,  2.61s/it]\n",
      "Training (6537 / 18000 Steps) (loss=0.53633): 100%|██████████| 7/7 [00:17<00:00,  2.55s/it]\n",
      "Training (6544 / 18000 Steps) (loss=0.46924): 100%|██████████| 7/7 [00:17<00:00,  2.56s/it]\n",
      "Training (6551 / 18000 Steps) (loss=0.53542): 100%|██████████| 7/7 [00:17<00:00,  2.51s/it]\n",
      "Training (6558 / 18000 Steps) (loss=0.40658): 100%|██████████| 7/7 [00:18<00:00,  2.68s/it]\n",
      "Training (6565 / 18000 Steps) (loss=0.46837): 100%|██████████| 7/7 [00:18<00:00,  2.63s/it]\n",
      "Training (6572 / 18000 Steps) (loss=0.45460): 100%|██████████| 7/7 [00:18<00:00,  2.69s/it]\n",
      "Training (6579 / 18000 Steps) (loss=0.33937): 100%|██████████| 7/7 [00:17<00:00,  2.51s/it]\n",
      "Training (6586 / 18000 Steps) (loss=0.54100): 100%|██████████| 7/7 [00:19<00:00,  2.81s/it]\n",
      "Training (6593 / 18000 Steps) (loss=0.60463): 100%|██████████| 7/7 [00:18<00:00,  2.63s/it]\n",
      "Validate (6594 / 10 Steps): 100%|██████████| 2/2 [00:15<00:00,  7.67s/it]<00:02,  2.34s/it]\n",
      "Training (6600 / 18000 Steps) (loss=0.40763): 100%|██████████| 7/7 [00:34<00:00,  4.92s/it]\n"
     ]
    },
    {
     "name": "stdout",
     "output_type": "stream",
     "text": [
      "Model Was Not Saved ! Current Best Avg. Dice: 0.6000044941902161 Current Avg. Dice: 0.5577340722084045 Current Avg. tumor Dice: 0.6007264256477356 Current Avg. lymph Dice: 0.5147417187690735\n"
     ]
    },
    {
     "name": "stderr",
     "output_type": "stream",
     "text": [
      "Training (6607 / 18000 Steps) (loss=0.32013): 100%|██████████| 7/7 [00:18<00:00,  2.66s/it]\n",
      "Training (6614 / 18000 Steps) (loss=0.53206): 100%|██████████| 7/7 [00:17<00:00,  2.52s/it]\n",
      "Training (6621 / 18000 Steps) (loss=0.27371): 100%|██████████| 7/7 [00:18<00:00,  2.69s/it]\n",
      "Training (6628 / 18000 Steps) (loss=0.38974): 100%|██████████| 7/7 [00:19<00:00,  2.74s/it]\n",
      "Training (6635 / 18000 Steps) (loss=0.35367): 100%|██████████| 7/7 [00:19<00:00,  2.75s/it]\n",
      "Training (6642 / 18000 Steps) (loss=0.35770): 100%|██████████| 7/7 [00:20<00:00,  2.88s/it]\n",
      "Training (6649 / 18000 Steps) (loss=0.32411): 100%|██████████| 7/7 [00:18<00:00,  2.70s/it]\n",
      "Training (6656 / 18000 Steps) (loss=0.15645): 100%|██████████| 7/7 [00:17<00:00,  2.48s/it]\n",
      "Training (6663 / 18000 Steps) (loss=0.20153): 100%|██████████| 7/7 [00:19<00:00,  2.77s/it]\n",
      "Training (6670 / 18000 Steps) (loss=0.25849): 100%|██████████| 7/7 [00:18<00:00,  2.69s/it]\n",
      "Training (6677 / 18000 Steps) (loss=0.60637): 100%|██████████| 7/7 [00:17<00:00,  2.49s/it]\n",
      "Training (6684 / 18000 Steps) (loss=0.53787): 100%|██████████| 7/7 [00:18<00:00,  2.63s/it]\n",
      "Training (6691 / 18000 Steps) (loss=0.46741): 100%|██████████| 7/7 [00:17<00:00,  2.52s/it]\n",
      "Training (6698 / 18000 Steps) (loss=0.31074): 100%|██████████| 7/7 [00:17<00:00,  2.57s/it]\n",
      "Validate (6699 / 10 Steps): 100%|██████████| 2/2 [00:15<00:00,  7.64s/it]<00:42,  7.10s/it]\n",
      "Training (6700 / 18000 Steps) (loss=0.22996):  29%|██▊       | 2/7 [00:24<01:05, 13.17s/it]"
     ]
    },
    {
     "name": "stdout",
     "output_type": "stream",
     "text": [
      "Model Was Not Saved ! Current Best Avg. Dice: 0.6000044941902161 Current Avg. Dice: 0.5833759307861328 Current Avg. tumor Dice: 0.6365236043930054 Current Avg. lymph Dice: 0.5302282571792603\n"
     ]
    },
    {
     "name": "stderr",
     "output_type": "stream",
     "text": [
      "Training (6705 / 18000 Steps) (loss=0.51574): 100%|██████████| 7/7 [00:33<00:00,  4.78s/it]\n",
      "Training (6712 / 18000 Steps) (loss=0.34665): 100%|██████████| 7/7 [00:18<00:00,  2.66s/it]\n",
      "Training (6719 / 18000 Steps) (loss=0.54647): 100%|██████████| 7/7 [00:18<00:00,  2.69s/it]\n",
      "Training (6726 / 18000 Steps) (loss=0.26822): 100%|██████████| 7/7 [00:18<00:00,  2.67s/it]\n",
      "Training (6733 / 18000 Steps) (loss=0.38783): 100%|██████████| 7/7 [00:18<00:00,  2.59s/it]\n",
      "Training (6740 / 18000 Steps) (loss=0.29153): 100%|██████████| 7/7 [00:17<00:00,  2.53s/it]\n",
      "Training (6747 / 18000 Steps) (loss=0.39426): 100%|██████████| 7/7 [00:18<00:00,  2.67s/it]\n",
      "Training (6754 / 18000 Steps) (loss=0.14394): 100%|██████████| 7/7 [00:19<00:00,  2.72s/it]\n",
      "Training (6761 / 18000 Steps) (loss=0.33649): 100%|██████████| 7/7 [00:18<00:00,  2.60s/it]\n",
      "Training (6768 / 18000 Steps) (loss=0.53331): 100%|██████████| 7/7 [00:18<00:00,  2.61s/it]\n",
      "Training (6775 / 18000 Steps) (loss=0.27958): 100%|██████████| 7/7 [00:17<00:00,  2.55s/it]\n",
      "Training (6782 / 18000 Steps) (loss=0.30025): 100%|██████████| 7/7 [00:19<00:00,  2.81s/it]\n",
      "Training (6789 / 18000 Steps) (loss=0.51596): 100%|██████████| 7/7 [00:17<00:00,  2.56s/it]\n",
      "Training (6796 / 18000 Steps) (loss=0.22888): 100%|██████████| 7/7 [00:18<00:00,  2.69s/it]\n",
      "Validate (6797 / 10 Steps): 100%|██████████| 2/2 [00:15<00:00,  7.80s/it]<00:14,  3.51s/it]\n",
      "Training (6800 / 18000 Steps) (loss=0.35027):  57%|█████▋    | 4/7 [00:30<00:27,  9.12s/it]"
     ]
    },
    {
     "name": "stdout",
     "output_type": "stream",
     "text": [
      "Model Was Not Saved ! Current Best Avg. Dice: 0.6000044941902161 Current Avg. Dice: 0.5632529854774475 Current Avg. tumor Dice: 0.6240423917770386 Current Avg. lymph Dice: 0.5024635791778564\n"
     ]
    },
    {
     "name": "stderr",
     "output_type": "stream",
     "text": [
      "Training (6803 / 18000 Steps) (loss=0.23486): 100%|██████████| 7/7 [00:34<00:00,  4.96s/it]\n",
      "Training (6810 / 18000 Steps) (loss=0.27432): 100%|██████████| 7/7 [00:19<00:00,  2.75s/it]\n",
      "Training (6817 / 18000 Steps) (loss=0.25938): 100%|██████████| 7/7 [00:17<00:00,  2.44s/it]\n",
      "Training (6824 / 18000 Steps) (loss=0.39698): 100%|██████████| 7/7 [00:18<00:00,  2.59s/it]\n",
      "Training (6831 / 18000 Steps) (loss=0.40358): 100%|██████████| 7/7 [00:17<00:00,  2.55s/it]\n",
      "Training (6838 / 18000 Steps) (loss=0.53413): 100%|██████████| 7/7 [00:18<00:00,  2.66s/it]\n",
      "Training (6845 / 18000 Steps) (loss=0.35788): 100%|██████████| 7/7 [00:18<00:00,  2.70s/it]\n",
      "Training (6852 / 18000 Steps) (loss=0.44028): 100%|██████████| 7/7 [00:19<00:00,  2.75s/it]\n",
      "Training (6859 / 18000 Steps) (loss=0.43182): 100%|██████████| 7/7 [00:18<00:00,  2.60s/it]\n",
      "Training (6866 / 18000 Steps) (loss=0.26437): 100%|██████████| 7/7 [00:18<00:00,  2.66s/it]\n",
      "Training (6873 / 18000 Steps) (loss=0.17120): 100%|██████████| 7/7 [00:18<00:00,  2.67s/it]\n",
      "Training (6880 / 18000 Steps) (loss=0.59784): 100%|██████████| 7/7 [00:19<00:00,  2.72s/it]\n",
      "Training (6887 / 18000 Steps) (loss=0.13940): 100%|██████████| 7/7 [00:18<00:00,  2.68s/it]\n",
      "Training (6894 / 18000 Steps) (loss=0.40351): 100%|██████████| 7/7 [00:18<00:00,  2.66s/it]\n",
      "Validate (6895 / 10 Steps): 100%|██████████| 2/2 [00:15<00:00,  7.60s/it]<00:04,  2.48s/it]\n",
      "Training (6900 / 18000 Steps) (loss=0.29727):  86%|████████▌ | 6/7 [00:32<00:07,  7.54s/it]"
     ]
    },
    {
     "name": "stdout",
     "output_type": "stream",
     "text": [
      "Model Was Not Saved ! Current Best Avg. Dice: 0.6000044941902161 Current Avg. Dice: 0.5680582523345947 Current Avg. tumor Dice: 0.6398760676383972 Current Avg. lymph Dice: 0.4962404668331146\n"
     ]
    },
    {
     "name": "stderr",
     "output_type": "stream",
     "text": [
      "Training (6901 / 18000 Steps) (loss=0.26431): 100%|██████████| 7/7 [00:34<00:00,  4.87s/it]\n",
      "Training (6908 / 18000 Steps) (loss=0.31434): 100%|██████████| 7/7 [00:18<00:00,  2.64s/it]\n",
      "Training (6915 / 18000 Steps) (loss=0.40152): 100%|██████████| 7/7 [00:18<00:00,  2.65s/it]\n",
      "Training (6922 / 18000 Steps) (loss=0.37933): 100%|██████████| 7/7 [00:18<00:00,  2.71s/it]\n",
      "Training (6929 / 18000 Steps) (loss=0.41622): 100%|██████████| 7/7 [00:18<00:00,  2.66s/it]\n",
      "Training (6936 / 18000 Steps) (loss=0.36512): 100%|██████████| 7/7 [00:17<00:00,  2.57s/it]\n",
      "Training (6943 / 18000 Steps) (loss=0.14378): 100%|██████████| 7/7 [00:16<00:00,  2.38s/it]\n",
      "Training (6950 / 18000 Steps) (loss=0.32489): 100%|██████████| 7/7 [00:16<00:00,  2.31s/it]\n",
      "Training (6957 / 18000 Steps) (loss=0.47634): 100%|██████████| 7/7 [00:17<00:00,  2.57s/it]\n",
      "Training (6964 / 18000 Steps) (loss=0.25018): 100%|██████████| 7/7 [00:15<00:00,  2.27s/it]\n",
      "Training (6971 / 18000 Steps) (loss=0.14469): 100%|██████████| 7/7 [00:16<00:00,  2.31s/it]\n",
      "Training (6978 / 18000 Steps) (loss=0.56007): 100%|██████████| 7/7 [00:16<00:00,  2.37s/it]\n",
      "Training (6985 / 18000 Steps) (loss=0.30788): 100%|██████████| 7/7 [00:16<00:00,  2.31s/it]\n",
      "Training (6992 / 18000 Steps) (loss=0.39030): 100%|██████████| 7/7 [00:16<00:00,  2.35s/it]\n",
      "Training (6999 / 18000 Steps) (loss=0.18729): 100%|██████████| 7/7 [00:16<00:00,  2.42s/it]\n",
      "Validate (7000 / 10 Steps): 100%|██████████| 2/2 [00:14<00:00,  7.01s/it]<?, ?it/s]\n",
      "Training (7000 / 18000 Steps) (loss=0.31167):  14%|█▍        | 1/7 [00:21<02:11, 21.89s/it]"
     ]
    },
    {
     "name": "stdout",
     "output_type": "stream",
     "text": [
      "Model Was Not Saved ! Current Best Avg. Dice: 0.6000044941902161 Current Avg. Dice: 0.5402606129646301 Current Avg. tumor Dice: 0.5913556218147278 Current Avg. lymph Dice: 0.48916560411453247\n"
     ]
    },
    {
     "name": "stderr",
     "output_type": "stream",
     "text": [
      "Training (7006 / 18000 Steps) (loss=0.41583): 100%|██████████| 7/7 [00:32<00:00,  4.58s/it]\n",
      "Training (7013 / 18000 Steps) (loss=0.14473): 100%|██████████| 7/7 [00:16<00:00,  2.32s/it]\n",
      "Training (7020 / 18000 Steps) (loss=0.60373): 100%|██████████| 7/7 [00:17<00:00,  2.55s/it]\n",
      "Training (7027 / 18000 Steps) (loss=0.26708): 100%|██████████| 7/7 [00:16<00:00,  2.35s/it]\n",
      "Training (7034 / 18000 Steps) (loss=0.26817): 100%|██████████| 7/7 [00:16<00:00,  2.37s/it]\n",
      "Training (7041 / 18000 Steps) (loss=0.47759): 100%|██████████| 7/7 [00:16<00:00,  2.31s/it]\n",
      "Training (7048 / 18000 Steps) (loss=0.40483): 100%|██████████| 7/7 [00:16<00:00,  2.31s/it]\n",
      "Training (7055 / 18000 Steps) (loss=0.12764): 100%|██████████| 7/7 [00:18<00:00,  2.59s/it]\n",
      "Training (7062 / 18000 Steps) (loss=0.25382): 100%|██████████| 7/7 [00:15<00:00,  2.27s/it]\n",
      "Training (7069 / 18000 Steps) (loss=0.54039): 100%|██████████| 7/7 [00:16<00:00,  2.38s/it]\n",
      "Training (7076 / 18000 Steps) (loss=0.19996): 100%|██████████| 7/7 [00:18<00:00,  2.59s/it]\n",
      "Training (7083 / 18000 Steps) (loss=0.37052): 100%|██████████| 7/7 [00:16<00:00,  2.31s/it]\n",
      "Training (7090 / 18000 Steps) (loss=0.37123): 100%|██████████| 7/7 [00:17<00:00,  2.52s/it]\n",
      "Training (7097 / 18000 Steps) (loss=0.54407): 100%|██████████| 7/7 [00:16<00:00,  2.38s/it]\n",
      "Validate (7098 / 10 Steps): 100%|██████████| 2/2 [00:14<00:00,  7.03s/it]<00:19,  3.85s/it]\n",
      "Training (7100 / 18000 Steps) (loss=0.24846):  43%|████▎     | 3/7 [00:24<00:37,  9.40s/it]"
     ]
    },
    {
     "name": "stdout",
     "output_type": "stream",
     "text": [
      "Model Was Not Saved ! Current Best Avg. Dice: 0.6000044941902161 Current Avg. Dice: 0.5516173839569092 Current Avg. tumor Dice: 0.6299996972084045 Current Avg. lymph Dice: 0.47323498129844666\n"
     ]
    },
    {
     "name": "stderr",
     "output_type": "stream",
     "text": [
      "Training (7104 / 18000 Steps) (loss=0.18584): 100%|██████████| 7/7 [00:30<00:00,  4.35s/it]\n",
      "Training (7111 / 18000 Steps) (loss=0.14840): 100%|██████████| 7/7 [00:16<00:00,  2.38s/it]\n",
      "Training (7118 / 18000 Steps) (loss=0.42502): 100%|██████████| 7/7 [00:15<00:00,  2.27s/it]\n",
      "Training (7125 / 18000 Steps) (loss=0.33066): 100%|██████████| 7/7 [00:16<00:00,  2.39s/it]\n",
      "Training (7132 / 18000 Steps) (loss=0.53088): 100%|██████████| 7/7 [00:15<00:00,  2.26s/it]\n",
      "Training (7139 / 18000 Steps) (loss=0.62392): 100%|██████████| 7/7 [00:16<00:00,  2.39s/it]\n",
      "Training (7146 / 18000 Steps) (loss=0.33358): 100%|██████████| 7/7 [00:17<00:00,  2.48s/it]\n",
      "Training (7153 / 18000 Steps) (loss=0.41735): 100%|██████████| 7/7 [00:16<00:00,  2.33s/it]\n",
      "Training (7160 / 18000 Steps) (loss=0.18140): 100%|██████████| 7/7 [00:15<00:00,  2.27s/it]\n",
      "Training (7167 / 18000 Steps) (loss=0.46249): 100%|██████████| 7/7 [00:16<00:00,  2.30s/it]\n",
      "Training (7174 / 18000 Steps) (loss=0.30028): 100%|██████████| 7/7 [00:17<00:00,  2.54s/it]\n",
      "Training (7181 / 18000 Steps) (loss=0.29404): 100%|██████████| 7/7 [00:17<00:00,  2.48s/it]\n",
      "Training (7188 / 18000 Steps) (loss=0.39543): 100%|██████████| 7/7 [00:18<00:00,  2.61s/it]\n",
      "Training (7195 / 18000 Steps) (loss=0.39778): 100%|██████████| 7/7 [00:16<00:00,  2.32s/it]\n",
      "Validate (7196 / 10 Steps): 100%|██████████| 2/2 [00:13<00:00,  6.96s/it]<00:08,  2.72s/it]\n",
      "Training (7200 / 18000 Steps) (loss=0.27776):  71%|███████▏  | 5/7 [00:29<00:14,  7.46s/it]"
     ]
    },
    {
     "name": "stdout",
     "output_type": "stream",
     "text": [
      "Model Was Not Saved ! Current Best Avg. Dice: 0.6000044941902161 Current Avg. Dice: 0.5653129816055298 Current Avg. tumor Dice: 0.6026098728179932 Current Avg. lymph Dice: 0.5280160903930664\n"
     ]
    },
    {
     "name": "stderr",
     "output_type": "stream",
     "text": [
      "Training (7202 / 18000 Steps) (loss=0.50724): 100%|██████████| 7/7 [00:32<00:00,  4.64s/it]\n",
      "Training (7209 / 18000 Steps) (loss=0.12408): 100%|██████████| 7/7 [00:17<00:00,  2.55s/it]\n",
      "Training (7216 / 18000 Steps) (loss=0.52918): 100%|██████████| 7/7 [00:17<00:00,  2.47s/it]\n",
      "Training (7223 / 18000 Steps) (loss=0.28526): 100%|██████████| 7/7 [00:17<00:00,  2.55s/it]\n",
      "Training (7230 / 18000 Steps) (loss=0.24357): 100%|██████████| 7/7 [00:16<00:00,  2.39s/it]\n",
      "Training (7237 / 18000 Steps) (loss=0.40281): 100%|██████████| 7/7 [00:17<00:00,  2.46s/it]\n",
      "Training (7244 / 18000 Steps) (loss=0.59780): 100%|██████████| 7/7 [00:16<00:00,  2.30s/it]\n",
      "Training (7251 / 18000 Steps) (loss=0.26028): 100%|██████████| 7/7 [00:16<00:00,  2.36s/it]\n",
      "Training (7258 / 18000 Steps) (loss=0.33326): 100%|██████████| 7/7 [00:17<00:00,  2.43s/it]\n",
      "Training (7265 / 18000 Steps) (loss=0.25502): 100%|██████████| 7/7 [00:16<00:00,  2.37s/it]\n",
      "Training (7272 / 18000 Steps) (loss=0.40945): 100%|██████████| 7/7 [00:16<00:00,  2.42s/it]\n",
      "Training (7279 / 18000 Steps) (loss=0.36798): 100%|██████████| 7/7 [00:15<00:00,  2.26s/it]\n",
      "Training (7286 / 18000 Steps) (loss=0.40746): 100%|██████████| 7/7 [00:16<00:00,  2.41s/it]\n",
      "Training (7293 / 18000 Steps) (loss=0.35451): 100%|██████████| 7/7 [00:16<00:00,  2.32s/it]\n",
      "Validate (7294 / 10 Steps): 100%|██████████| 2/2 [00:13<00:00,  6.93s/it]<00:02,  2.02s/it]\n",
      "Training (7300 / 18000 Steps) (loss=0.22749): 100%|██████████| 7/7 [00:31<00:00,  4.49s/it]\n"
     ]
    },
    {
     "name": "stdout",
     "output_type": "stream",
     "text": [
      "Model Was Not Saved ! Current Best Avg. Dice: 0.6000044941902161 Current Avg. Dice: 0.5671948790550232 Current Avg. tumor Dice: 0.6255167722702026 Current Avg. lymph Dice: 0.5088729858398438\n"
     ]
    },
    {
     "name": "stderr",
     "output_type": "stream",
     "text": [
      "Training (7307 / 18000 Steps) (loss=0.45956): 100%|██████████| 7/7 [00:16<00:00,  2.37s/it]\n",
      "Training (7314 / 18000 Steps) (loss=0.34228): 100%|██████████| 7/7 [00:18<00:00,  2.59s/it]\n",
      "Training (7321 / 18000 Steps) (loss=0.40458): 100%|██████████| 7/7 [00:16<00:00,  2.30s/it]\n",
      "Training (7328 / 18000 Steps) (loss=0.30938): 100%|██████████| 7/7 [00:17<00:00,  2.44s/it]\n",
      "Training (7335 / 18000 Steps) (loss=0.45407): 100%|██████████| 7/7 [00:15<00:00,  2.27s/it]\n",
      "Training (7342 / 18000 Steps) (loss=0.45314): 100%|██████████| 7/7 [00:15<00:00,  2.26s/it]\n",
      "Training (7349 / 18000 Steps) (loss=0.38761): 100%|██████████| 7/7 [00:16<00:00,  2.37s/it]\n",
      "Training (7356 / 18000 Steps) (loss=0.26677): 100%|██████████| 7/7 [00:16<00:00,  2.37s/it]\n",
      "Training (7363 / 18000 Steps) (loss=0.23748): 100%|██████████| 7/7 [00:17<00:00,  2.50s/it]\n",
      "Training (7370 / 18000 Steps) (loss=0.14791): 100%|██████████| 7/7 [00:17<00:00,  2.48s/it]\n",
      "Training (7377 / 18000 Steps) (loss=0.52761): 100%|██████████| 7/7 [00:16<00:00,  2.35s/it]\n",
      "Training (7384 / 18000 Steps) (loss=0.16688): 100%|██████████| 7/7 [00:17<00:00,  2.46s/it]\n",
      "Training (7391 / 18000 Steps) (loss=0.59106): 100%|██████████| 7/7 [00:17<00:00,  2.44s/it]\n",
      "Training (7398 / 18000 Steps) (loss=0.37826): 100%|██████████| 7/7 [00:17<00:00,  2.52s/it]\n",
      "Validate (7399 / 10 Steps): 100%|██████████| 2/2 [00:13<00:00,  6.96s/it]<00:45,  7.51s/it]\n",
      "Training (7400 / 18000 Steps) (loss=0.32056):  29%|██▊       | 2/7 [00:23<01:01, 12.32s/it]"
     ]
    },
    {
     "name": "stdout",
     "output_type": "stream",
     "text": [
      "Model Was Not Saved ! Current Best Avg. Dice: 0.6000044941902161 Current Avg. Dice: 0.5543596744537354 Current Avg. tumor Dice: 0.6377642154693604 Current Avg. lymph Dice: 0.4709551930427551\n"
     ]
    },
    {
     "name": "stderr",
     "output_type": "stream",
     "text": [
      "Training (7405 / 18000 Steps) (loss=0.37151): 100%|██████████| 7/7 [00:31<00:00,  4.51s/it]\n",
      "Training (7412 / 18000 Steps) (loss=0.36370): 100%|██████████| 7/7 [00:15<00:00,  2.27s/it]\n",
      "Training (7419 / 18000 Steps) (loss=0.27824): 100%|██████████| 7/7 [00:15<00:00,  2.28s/it]\n",
      "Training (7426 / 18000 Steps) (loss=0.28296): 100%|██████████| 7/7 [00:17<00:00,  2.51s/it]\n",
      "Training (7433 / 18000 Steps) (loss=0.33684): 100%|██████████| 7/7 [00:16<00:00,  2.32s/it]\n",
      "Training (7440 / 18000 Steps) (loss=0.27016): 100%|██████████| 7/7 [00:15<00:00,  2.25s/it]\n",
      "Training (7447 / 18000 Steps) (loss=0.12934): 100%|██████████| 7/7 [00:16<00:00,  2.38s/it]\n",
      "Training (7454 / 18000 Steps) (loss=0.60082): 100%|██████████| 7/7 [00:17<00:00,  2.44s/it]\n",
      "Training (7461 / 18000 Steps) (loss=0.38973): 100%|██████████| 7/7 [00:18<00:00,  2.65s/it]\n",
      "Training (7468 / 18000 Steps) (loss=0.39226): 100%|██████████| 7/7 [00:16<00:00,  2.31s/it]\n",
      "Training (7475 / 18000 Steps) (loss=0.38977): 100%|██████████| 7/7 [00:17<00:00,  2.56s/it]\n",
      "Training (7482 / 18000 Steps) (loss=0.52442): 100%|██████████| 7/7 [00:15<00:00,  2.25s/it]\n",
      "Training (7489 / 18000 Steps) (loss=0.41435): 100%|██████████| 7/7 [00:16<00:00,  2.35s/it]\n",
      "Training (7496 / 18000 Steps) (loss=0.38668): 100%|██████████| 7/7 [00:17<00:00,  2.49s/it]\n",
      "Validate (7497 / 10 Steps): 100%|██████████| 2/2 [00:13<00:00,  7.00s/it]<00:12,  3.14s/it]\n",
      "Training (7500 / 18000 Steps) (loss=0.45600):  57%|█████▋    | 4/7 [00:27<00:24,  8.07s/it]"
     ]
    },
    {
     "name": "stdout",
     "output_type": "stream",
     "text": [
      "Model Was Not Saved ! Current Best Avg. Dice: 0.6000044941902161 Current Avg. Dice: 0.5511200428009033 Current Avg. tumor Dice: 0.577809751033783 Current Avg. lymph Dice: 0.5244303941726685\n"
     ]
    },
    {
     "name": "stderr",
     "output_type": "stream",
     "text": [
      "Training (7503 / 18000 Steps) (loss=0.31502): 100%|██████████| 7/7 [00:32<00:00,  4.60s/it]\n",
      "Training (7510 / 18000 Steps) (loss=0.52812): 100%|██████████| 7/7 [00:17<00:00,  2.48s/it]\n",
      "Training (7517 / 18000 Steps) (loss=0.52796): 100%|██████████| 7/7 [00:15<00:00,  2.27s/it]\n",
      "Training (7524 / 18000 Steps) (loss=0.13655): 100%|██████████| 7/7 [00:16<00:00,  2.40s/it]\n",
      "Training (7531 / 18000 Steps) (loss=0.12470): 100%|██████████| 7/7 [00:16<00:00,  2.39s/it]\n",
      "Training (7538 / 18000 Steps) (loss=0.37795): 100%|██████████| 7/7 [00:16<00:00,  2.29s/it]\n",
      "Training (7545 / 18000 Steps) (loss=0.39350): 100%|██████████| 7/7 [00:17<00:00,  2.50s/it]\n",
      "Training (7552 / 18000 Steps) (loss=0.66735): 100%|██████████| 7/7 [00:16<00:00,  2.35s/it]\n",
      "Training (7559 / 18000 Steps) (loss=0.11574): 100%|██████████| 7/7 [00:16<00:00,  2.29s/it]\n",
      "Training (7566 / 18000 Steps) (loss=0.11804): 100%|██████████| 7/7 [00:16<00:00,  2.41s/it]\n",
      "Training (7573 / 18000 Steps) (loss=0.27183): 100%|██████████| 7/7 [00:16<00:00,  2.35s/it]\n",
      "Training (7580 / 18000 Steps) (loss=0.27600): 100%|██████████| 7/7 [00:17<00:00,  2.54s/it]\n",
      "Training (7587 / 18000 Steps) (loss=0.29156): 100%|██████████| 7/7 [00:16<00:00,  2.41s/it]\n",
      "Training (7594 / 18000 Steps) (loss=0.53405): 100%|██████████| 7/7 [00:18<00:00,  2.58s/it]\n",
      "Validate (7595 / 10 Steps): 100%|██████████| 2/2 [00:13<00:00,  6.90s/it]<00:04,  2.04s/it]\n",
      "Training (7600 / 18000 Steps) (loss=0.37917):  86%|████████▌ | 6/7 [00:28<00:06,  6.60s/it]"
     ]
    },
    {
     "name": "stdout",
     "output_type": "stream",
     "text": [
      "Model Was Not Saved ! Current Best Avg. Dice: 0.6000044941902161 Current Avg. Dice: 0.5556628108024597 Current Avg. tumor Dice: 0.624668300151825 Current Avg. lymph Dice: 0.4866572916507721\n"
     ]
    },
    {
     "name": "stderr",
     "output_type": "stream",
     "text": [
      "Training (7601 / 18000 Steps) (loss=0.32619): 100%|██████████| 7/7 [00:29<00:00,  4.24s/it]\n",
      "Training (7608 / 18000 Steps) (loss=0.41259): 100%|██████████| 7/7 [00:18<00:00,  2.60s/it]\n",
      "Training (7615 / 18000 Steps) (loss=0.26064): 100%|██████████| 7/7 [00:17<00:00,  2.56s/it]\n",
      "Training (7622 / 18000 Steps) (loss=0.09753): 100%|██████████| 7/7 [00:17<00:00,  2.49s/it]\n",
      "Training (7629 / 18000 Steps) (loss=0.26798): 100%|██████████| 7/7 [00:16<00:00,  2.40s/it]\n",
      "Training (7636 / 18000 Steps) (loss=0.53370): 100%|██████████| 7/7 [00:17<00:00,  2.50s/it]\n",
      "Training (7643 / 18000 Steps) (loss=0.56949): 100%|██████████| 7/7 [00:16<00:00,  2.36s/it]\n",
      "Training (7650 / 18000 Steps) (loss=0.27423): 100%|██████████| 7/7 [00:15<00:00,  2.26s/it]\n",
      "Training (7657 / 18000 Steps) (loss=0.21922): 100%|██████████| 7/7 [00:16<00:00,  2.42s/it]\n",
      "Training (7664 / 18000 Steps) (loss=0.17148): 100%|██████████| 7/7 [00:16<00:00,  2.37s/it]\n",
      "Training (7671 / 18000 Steps) (loss=0.42464): 100%|██████████| 7/7 [00:17<00:00,  2.51s/it]\n",
      "Training (7678 / 18000 Steps) (loss=0.35553): 100%|██████████| 7/7 [00:16<00:00,  2.37s/it]\n",
      "Training (7685 / 18000 Steps) (loss=0.40134): 100%|██████████| 7/7 [00:16<00:00,  2.30s/it]\n",
      "Training (7692 / 18000 Steps) (loss=0.42223): 100%|██████████| 7/7 [00:17<00:00,  2.55s/it]\n",
      "Training (7699 / 18000 Steps) (loss=0.32680): 100%|██████████| 7/7 [00:15<00:00,  2.27s/it]\n",
      "Validate (7700 / 10 Steps): 100%|██████████| 2/2 [00:14<00:00,  7.29s/it]<?, ?it/s]\n",
      "Training (7700 / 18000 Steps) (loss=0.26066):  14%|█▍        | 1/7 [00:21<02:09, 21.62s/it]"
     ]
    },
    {
     "name": "stdout",
     "output_type": "stream",
     "text": [
      "Model Was Not Saved ! Current Best Avg. Dice: 0.6000044941902161 Current Avg. Dice: 0.553922176361084 Current Avg. tumor Dice: 0.6124175786972046 Current Avg. lymph Dice: 0.4954267740249634\n"
     ]
    },
    {
     "name": "stderr",
     "output_type": "stream",
     "text": [
      "Training (7706 / 18000 Steps) (loss=0.26370): 100%|██████████| 7/7 [00:30<00:00,  4.38s/it]\n",
      "Training (7713 / 18000 Steps) (loss=0.42499): 100%|██████████| 7/7 [00:17<00:00,  2.46s/it]\n",
      "Training (7720 / 18000 Steps) (loss=0.52042): 100%|██████████| 7/7 [00:16<00:00,  2.31s/it]\n",
      "Training (7727 / 18000 Steps) (loss=0.28274): 100%|██████████| 7/7 [00:16<00:00,  2.39s/it]\n",
      "Training (7734 / 18000 Steps) (loss=0.25306): 100%|██████████| 7/7 [00:17<00:00,  2.49s/it]\n",
      "Training (7741 / 18000 Steps) (loss=0.36704): 100%|██████████| 7/7 [00:17<00:00,  2.46s/it]\n",
      "Training (7748 / 18000 Steps) (loss=0.13145): 100%|██████████| 7/7 [00:17<00:00,  2.46s/it]\n",
      "Training (7755 / 18000 Steps) (loss=0.46119): 100%|██████████| 7/7 [00:16<00:00,  2.37s/it]\n",
      "Training (7762 / 18000 Steps) (loss=0.66758): 100%|██████████| 7/7 [00:15<00:00,  2.29s/it]\n",
      "Training (7769 / 18000 Steps) (loss=0.33708): 100%|██████████| 7/7 [00:17<00:00,  2.43s/it]\n",
      "Training (7776 / 18000 Steps) (loss=0.40681): 100%|██████████| 7/7 [00:16<00:00,  2.30s/it]\n",
      "Training (7783 / 18000 Steps) (loss=0.41201): 100%|██████████| 7/7 [00:19<00:00,  2.74s/it]\n",
      "Training (7790 / 18000 Steps) (loss=0.40910): 100%|██████████| 7/7 [00:17<00:00,  2.53s/it]\n",
      "Training (7797 / 18000 Steps) (loss=0.47227): 100%|██████████| 7/7 [00:17<00:00,  2.45s/it]\n",
      "Validate (7798 / 10 Steps): 100%|██████████| 2/2 [00:13<00:00,  6.96s/it]<00:19,  3.84s/it]\n",
      "Training (7800 / 18000 Steps) (loss=0.26276):  43%|████▎     | 3/7 [00:24<00:36,  9.18s/it]"
     ]
    },
    {
     "name": "stdout",
     "output_type": "stream",
     "text": [
      "Model Was Not Saved ! Current Best Avg. Dice: 0.6000044941902161 Current Avg. Dice: 0.5638306140899658 Current Avg. tumor Dice: 0.6265290975570679 Current Avg. lymph Dice: 0.5011321902275085\n"
     ]
    },
    {
     "name": "stderr",
     "output_type": "stream",
     "text": [
      "Training (7804 / 18000 Steps) (loss=0.34710): 100%|██████████| 7/7 [00:30<00:00,  4.37s/it]\n",
      "Training (7811 / 18000 Steps) (loss=0.35183): 100%|██████████| 7/7 [00:16<00:00,  2.36s/it]\n",
      "Training (7818 / 18000 Steps) (loss=0.41275): 100%|██████████| 7/7 [00:17<00:00,  2.44s/it]\n",
      "Training (7825 / 18000 Steps) (loss=0.25949): 100%|██████████| 7/7 [00:17<00:00,  2.43s/it]\n",
      "Training (7832 / 18000 Steps) (loss=0.18449): 100%|██████████| 7/7 [00:15<00:00,  2.28s/it]\n",
      "Training (7839 / 18000 Steps) (loss=0.41002): 100%|██████████| 7/7 [00:16<00:00,  2.37s/it]\n",
      "Training (7846 / 18000 Steps) (loss=0.42647): 100%|██████████| 7/7 [00:17<00:00,  2.44s/it]\n",
      "Training (7853 / 18000 Steps) (loss=0.30701): 100%|██████████| 7/7 [00:15<00:00,  2.23s/it]\n",
      "Training (7860 / 18000 Steps) (loss=0.28261): 100%|██████████| 7/7 [00:15<00:00,  2.27s/it]\n",
      "Training (7867 / 18000 Steps) (loss=0.35839): 100%|██████████| 7/7 [00:18<00:00,  2.59s/it]\n",
      "Training (7874 / 18000 Steps) (loss=0.39901): 100%|██████████| 7/7 [00:15<00:00,  2.25s/it]\n",
      "Training (7881 / 18000 Steps) (loss=0.23046): 100%|██████████| 7/7 [00:15<00:00,  2.17s/it]\n",
      "Training (7888 / 18000 Steps) (loss=0.29254): 100%|██████████| 7/7 [00:16<00:00,  2.30s/it]\n",
      "Training (7895 / 18000 Steps) (loss=0.40130): 100%|██████████| 7/7 [00:16<00:00,  2.29s/it]\n",
      "Validate (7896 / 10 Steps): 100%|██████████| 2/2 [00:13<00:00,  6.95s/it]<00:06,  2.27s/it]\n",
      "Training (7900 / 18000 Steps) (loss=0.17523):  71%|███████▏  | 5/7 [00:26<00:14,  7.06s/it]"
     ]
    },
    {
     "name": "stdout",
     "output_type": "stream",
     "text": [
      "Model Was Not Saved ! Current Best Avg. Dice: 0.6000044941902161 Current Avg. Dice: 0.5662878751754761 Current Avg. tumor Dice: 0.6134746670722961 Current Avg. lymph Dice: 0.519101083278656\n"
     ]
    },
    {
     "name": "stderr",
     "output_type": "stream",
     "text": [
      "Training (7902 / 18000 Steps) (loss=0.49438): 100%|██████████| 7/7 [00:29<00:00,  4.28s/it]\n",
      "Training (7909 / 18000 Steps) (loss=0.22030): 100%|██████████| 7/7 [00:17<00:00,  2.56s/it]\n",
      "Training (7916 / 18000 Steps) (loss=0.37285): 100%|██████████| 7/7 [00:16<00:00,  2.42s/it]\n",
      "Training (7923 / 18000 Steps) (loss=0.53001): 100%|██████████| 7/7 [00:17<00:00,  2.52s/it]\n",
      "Training (7930 / 18000 Steps) (loss=0.37277): 100%|██████████| 7/7 [00:16<00:00,  2.34s/it]\n",
      "Training (7937 / 18000 Steps) (loss=0.50964): 100%|██████████| 7/7 [00:16<00:00,  2.41s/it]\n",
      "Training (7944 / 18000 Steps) (loss=0.31359): 100%|██████████| 7/7 [00:16<00:00,  2.41s/it]\n",
      "Training (7951 / 18000 Steps) (loss=0.37486): 100%|██████████| 7/7 [00:16<00:00,  2.31s/it]\n",
      "Training (7958 / 18000 Steps) (loss=0.53880): 100%|██████████| 7/7 [00:16<00:00,  2.29s/it]\n",
      "Training (7965 / 18000 Steps) (loss=0.39340): 100%|██████████| 7/7 [00:15<00:00,  2.26s/it]\n",
      "Training (7972 / 18000 Steps) (loss=0.24054): 100%|██████████| 7/7 [00:17<00:00,  2.48s/it]\n",
      "Training (7979 / 18000 Steps) (loss=0.26518): 100%|██████████| 7/7 [00:16<00:00,  2.39s/it]\n",
      "Training (7986 / 18000 Steps) (loss=0.29953): 100%|██████████| 7/7 [00:17<00:00,  2.47s/it]\n",
      "Training (7993 / 18000 Steps) (loss=0.22400): 100%|██████████| 7/7 [00:17<00:00,  2.47s/it]\n",
      "Validate (7994 / 10 Steps): 100%|██████████| 2/2 [00:14<00:00,  7.06s/it]<00:02,  2.03s/it]\n",
      "Training (8000 / 18000 Steps) (loss=0.53680): 100%|██████████| 7/7 [00:31<00:00,  4.52s/it]\n"
     ]
    },
    {
     "name": "stdout",
     "output_type": "stream",
     "text": [
      "Model Was Not Saved ! Current Best Avg. Dice: 0.6000044941902161 Current Avg. Dice: 0.5855206251144409 Current Avg. tumor Dice: 0.6261923313140869 Current Avg. lymph Dice: 0.5448489189147949\n"
     ]
    },
    {
     "name": "stderr",
     "output_type": "stream",
     "text": [
      "Training (8007 / 18000 Steps) (loss=0.42300): 100%|██████████| 7/7 [00:17<00:00,  2.57s/it]\n",
      "Training (8014 / 18000 Steps) (loss=0.53293): 100%|██████████| 7/7 [00:17<00:00,  2.50s/it]\n",
      "Training (8021 / 18000 Steps) (loss=0.14883): 100%|██████████| 7/7 [00:17<00:00,  2.43s/it]\n",
      "Training (8028 / 18000 Steps) (loss=0.40170): 100%|██████████| 7/7 [00:16<00:00,  2.38s/it]\n",
      "Training (8035 / 18000 Steps) (loss=0.66672): 100%|██████████| 7/7 [00:16<00:00,  2.42s/it]\n",
      "Training (8042 / 18000 Steps) (loss=0.40171): 100%|██████████| 7/7 [00:16<00:00,  2.33s/it]\n",
      "Training (8049 / 18000 Steps) (loss=0.40334): 100%|██████████| 7/7 [00:16<00:00,  2.32s/it]\n",
      "Training (8056 / 18000 Steps) (loss=0.26826): 100%|██████████| 7/7 [00:16<00:00,  2.37s/it]\n",
      "Training (8063 / 18000 Steps) (loss=0.32894): 100%|██████████| 7/7 [00:17<00:00,  2.56s/it]\n",
      "Training (8070 / 18000 Steps) (loss=0.34156): 100%|██████████| 7/7 [00:16<00:00,  2.29s/it]\n",
      "Training (8077 / 18000 Steps) (loss=0.25379): 100%|██████████| 7/7 [00:17<00:00,  2.52s/it]\n",
      "Training (8084 / 18000 Steps) (loss=0.27319): 100%|██████████| 7/7 [00:16<00:00,  2.42s/it]\n",
      "Training (8091 / 18000 Steps) (loss=0.49967): 100%|██████████| 7/7 [00:16<00:00,  2.31s/it]\n",
      "Training (8098 / 18000 Steps) (loss=0.30389): 100%|██████████| 7/7 [00:16<00:00,  2.34s/it]\n",
      "Validate (8099 / 10 Steps): 100%|██████████| 2/2 [00:13<00:00,  6.90s/it]<00:43,  7.23s/it]\n",
      "Training (8100 / 18000 Steps) (loss=0.38442):  29%|██▊       | 2/7 [00:22<01:00, 12.07s/it]"
     ]
    },
    {
     "name": "stdout",
     "output_type": "stream",
     "text": [
      "Model Was Not Saved ! Current Best Avg. Dice: 0.6000044941902161 Current Avg. Dice: 0.5711396932601929 Current Avg. tumor Dice: 0.6079959869384766 Current Avg. lymph Dice: 0.5342833995819092\n"
     ]
    },
    {
     "name": "stderr",
     "output_type": "stream",
     "text": [
      "Training (8105 / 18000 Steps) (loss=0.14703): 100%|██████████| 7/7 [00:31<00:00,  4.44s/it]\n",
      "Training (8112 / 18000 Steps) (loss=0.49585): 100%|██████████| 7/7 [00:17<00:00,  2.47s/it]\n",
      "Training (8119 / 18000 Steps) (loss=0.42182): 100%|██████████| 7/7 [00:16<00:00,  2.33s/it]\n",
      "Training (8126 / 18000 Steps) (loss=0.23504): 100%|██████████| 7/7 [00:15<00:00,  2.27s/it]\n",
      "Training (8133 / 18000 Steps) (loss=0.62545): 100%|██████████| 7/7 [00:17<00:00,  2.52s/it]\n",
      "Training (8140 / 18000 Steps) (loss=0.25562): 100%|██████████| 7/7 [00:17<00:00,  2.47s/it]\n",
      "Training (8147 / 18000 Steps) (loss=0.53552): 100%|██████████| 7/7 [00:16<00:00,  2.31s/it]\n",
      "Training (8154 / 18000 Steps) (loss=0.20602): 100%|██████████| 7/7 [00:16<00:00,  2.42s/it]\n",
      "Training (8161 / 18000 Steps) (loss=0.30080): 100%|██████████| 7/7 [00:16<00:00,  2.36s/it]\n",
      "Training (8168 / 18000 Steps) (loss=0.29034): 100%|██████████| 7/7 [00:16<00:00,  2.30s/it]\n",
      "Training (8175 / 18000 Steps) (loss=0.40942): 100%|██████████| 7/7 [00:15<00:00,  2.25s/it]\n",
      "Training (8182 / 18000 Steps) (loss=0.34939): 100%|██████████| 7/7 [00:17<00:00,  2.49s/it]\n",
      "Training (8189 / 18000 Steps) (loss=0.59893): 100%|██████████| 7/7 [00:16<00:00,  2.39s/it]\n",
      "Training (8196 / 18000 Steps) (loss=0.41402): 100%|██████████| 7/7 [00:15<00:00,  2.26s/it]\n",
      "Validate (8197 / 10 Steps): 100%|██████████| 2/2 [00:14<00:00,  7.06s/it]<00:10,  2.74s/it]\n",
      "Training (8200 / 18000 Steps) (loss=0.35135):  57%|█████▋    | 4/7 [00:25<00:23,  7.89s/it]"
     ]
    },
    {
     "name": "stdout",
     "output_type": "stream",
     "text": [
      "Model Was Not Saved ! Current Best Avg. Dice: 0.6000044941902161 Current Avg. Dice: 0.5739632248878479 Current Avg. tumor Dice: 0.6236871480941772 Current Avg. lymph Dice: 0.5242393016815186\n"
     ]
    },
    {
     "name": "stderr",
     "output_type": "stream",
     "text": [
      "Training (8203 / 18000 Steps) (loss=0.42459): 100%|██████████| 7/7 [00:30<00:00,  4.35s/it]\n",
      "Training (8210 / 18000 Steps) (loss=0.52525): 100%|██████████| 7/7 [00:17<00:00,  2.45s/it]\n",
      "Training (8217 / 18000 Steps) (loss=0.32729): 100%|██████████| 7/7 [00:16<00:00,  2.36s/it]\n",
      "Training (8224 / 18000 Steps) (loss=0.53528): 100%|██████████| 7/7 [00:16<00:00,  2.32s/it]\n",
      "Training (8231 / 18000 Steps) (loss=0.29925): 100%|██████████| 7/7 [00:17<00:00,  2.51s/it]\n",
      "Training (8238 / 18000 Steps) (loss=0.47757): 100%|██████████| 7/7 [00:15<00:00,  2.28s/it]\n",
      "Training (8245 / 18000 Steps) (loss=0.24131): 100%|██████████| 7/7 [00:16<00:00,  2.40s/it]\n",
      "Training (8252 / 18000 Steps) (loss=0.59673): 100%|██████████| 7/7 [00:16<00:00,  2.39s/it]\n",
      "Training (8259 / 18000 Steps) (loss=0.30366): 100%|██████████| 7/7 [00:17<00:00,  2.56s/it]\n",
      "Training (8266 / 18000 Steps) (loss=0.25172): 100%|██████████| 7/7 [00:15<00:00,  2.25s/it]\n",
      "Training (8273 / 18000 Steps) (loss=0.41116): 100%|██████████| 7/7 [00:16<00:00,  2.40s/it]\n",
      "Training (8280 / 18000 Steps) (loss=0.26319): 100%|██████████| 7/7 [00:17<00:00,  2.56s/it]\n",
      "Training (8287 / 18000 Steps) (loss=0.24164): 100%|██████████| 7/7 [00:16<00:00,  2.33s/it]\n",
      "Training (8294 / 18000 Steps) (loss=0.26906): 100%|██████████| 7/7 [00:18<00:00,  2.67s/it]\n",
      "Validate (8295 / 10 Steps): 100%|██████████| 2/2 [00:13<00:00,  6.97s/it]<00:04,  2.09s/it]\n",
      "Training (8300 / 18000 Steps) (loss=0.44354):  86%|████████▌ | 6/7 [00:29<00:06,  6.67s/it]"
     ]
    },
    {
     "name": "stdout",
     "output_type": "stream",
     "text": [
      "Model Was Not Saved ! Current Best Avg. Dice: 0.6000044941902161 Current Avg. Dice: 0.559199333190918 Current Avg. tumor Dice: 0.5781196355819702 Current Avg. lymph Dice: 0.5402790904045105\n"
     ]
    },
    {
     "name": "stderr",
     "output_type": "stream",
     "text": [
      "Training (8301 / 18000 Steps) (loss=0.53326): 100%|██████████| 7/7 [00:30<00:00,  4.33s/it]\n",
      "Training (8308 / 18000 Steps) (loss=0.19784): 100%|██████████| 7/7 [00:17<00:00,  2.46s/it]\n",
      "Training (8315 / 18000 Steps) (loss=0.53090): 100%|██████████| 7/7 [00:17<00:00,  2.44s/it]\n",
      "Training (8322 / 18000 Steps) (loss=0.39997): 100%|██████████| 7/7 [00:16<00:00,  2.37s/it]\n",
      "Training (8329 / 18000 Steps) (loss=0.38428): 100%|██████████| 7/7 [00:15<00:00,  2.26s/it]\n",
      "Training (8336 / 18000 Steps) (loss=0.53440): 100%|██████████| 7/7 [00:17<00:00,  2.48s/it]\n",
      "Training (8343 / 18000 Steps) (loss=0.29419): 100%|██████████| 7/7 [00:15<00:00,  2.27s/it]\n",
      "Training (8350 / 18000 Steps) (loss=0.47354): 100%|██████████| 7/7 [00:16<00:00,  2.41s/it]\n",
      "Training (8357 / 18000 Steps) (loss=0.33623): 100%|██████████| 7/7 [00:17<00:00,  2.52s/it]\n",
      "Training (8364 / 18000 Steps) (loss=0.24575): 100%|██████████| 7/7 [00:16<00:00,  2.41s/it]\n",
      "Training (8371 / 18000 Steps) (loss=0.47830): 100%|██████████| 7/7 [00:18<00:00,  2.65s/it]\n",
      "Training (8378 / 18000 Steps) (loss=0.14768): 100%|██████████| 7/7 [00:16<00:00,  2.31s/it]\n",
      "Training (8385 / 18000 Steps) (loss=0.32080): 100%|██████████| 7/7 [00:17<00:00,  2.55s/it]\n",
      "Training (8392 / 18000 Steps) (loss=0.29748): 100%|██████████| 7/7 [00:16<00:00,  2.42s/it]\n",
      "Training (8399 / 18000 Steps) (loss=0.30939): 100%|██████████| 7/7 [00:16<00:00,  2.39s/it]\n",
      "Validate (8400 / 10 Steps): 100%|██████████| 2/2 [00:13<00:00,  6.96s/it]<?, ?it/s]\n",
      "Training (8400 / 18000 Steps) (loss=0.22984):  14%|█▍        | 1/7 [00:21<02:06, 21.00s/it]"
     ]
    },
    {
     "name": "stdout",
     "output_type": "stream",
     "text": [
      "Model Was Not Saved ! Current Best Avg. Dice: 0.6000044941902161 Current Avg. Dice: 0.5634699463844299 Current Avg. tumor Dice: 0.6187109351158142 Current Avg. lymph Dice: 0.5082290172576904\n"
     ]
    },
    {
     "name": "stderr",
     "output_type": "stream",
     "text": [
      "Training (8406 / 18000 Steps) (loss=0.26612): 100%|██████████| 7/7 [00:31<00:00,  4.44s/it]\n",
      "Training (8413 / 18000 Steps) (loss=0.46132): 100%|██████████| 7/7 [00:16<00:00,  2.38s/it]\n",
      "Training (8420 / 18000 Steps) (loss=0.19972): 100%|██████████| 7/7 [00:16<00:00,  2.32s/it]\n",
      "Training (8427 / 18000 Steps) (loss=0.12745): 100%|██████████| 7/7 [00:15<00:00,  2.22s/it]\n",
      "Training (8434 / 18000 Steps) (loss=0.57134): 100%|██████████| 7/7 [00:18<00:00,  2.67s/it]\n",
      "Training (8441 / 18000 Steps) (loss=0.21627): 100%|██████████| 7/7 [00:16<00:00,  2.33s/it]\n",
      "Training (8448 / 18000 Steps) (loss=0.16069): 100%|██████████| 7/7 [00:16<00:00,  2.40s/it]\n",
      "Training (8455 / 18000 Steps) (loss=0.26735): 100%|██████████| 7/7 [00:17<00:00,  2.44s/it]\n",
      "Training (8462 / 18000 Steps) (loss=0.52733): 100%|██████████| 7/7 [00:18<00:00,  2.60s/it]\n",
      "Training (8469 / 18000 Steps) (loss=0.29327): 100%|██████████| 7/7 [00:16<00:00,  2.37s/it]\n",
      "Training (8476 / 18000 Steps) (loss=0.29625): 100%|██████████| 7/7 [00:16<00:00,  2.36s/it]\n",
      "Training (8483 / 18000 Steps) (loss=0.38486): 100%|██████████| 7/7 [00:16<00:00,  2.33s/it]\n",
      "Training (8490 / 18000 Steps) (loss=0.53480): 100%|██████████| 7/7 [00:16<00:00,  2.35s/it]\n",
      "Training (8497 / 18000 Steps) (loss=0.28188): 100%|██████████| 7/7 [00:16<00:00,  2.33s/it]\n",
      "Validate (8498 / 10 Steps): 100%|██████████| 2/2 [00:13<00:00,  6.93s/it]<00:19,  3.93s/it]\n",
      "Training (8500 / 18000 Steps) (loss=0.46216):  43%|████▎     | 3/7 [00:24<00:36,  9.21s/it]"
     ]
    },
    {
     "name": "stdout",
     "output_type": "stream",
     "text": [
      "Model Was Not Saved ! Current Best Avg. Dice: 0.6000044941902161 Current Avg. Dice: 0.5886912941932678 Current Avg. tumor Dice: 0.6185096502304077 Current Avg. lymph Dice: 0.5588728785514832\n"
     ]
    },
    {
     "name": "stderr",
     "output_type": "stream",
     "text": [
      "Training (8504 / 18000 Steps) (loss=0.42861): 100%|██████████| 7/7 [00:30<00:00,  4.38s/it]\n",
      "Training (8511 / 18000 Steps) (loss=0.42284): 100%|██████████| 7/7 [00:17<00:00,  2.45s/it]\n",
      "Training (8518 / 18000 Steps) (loss=0.53703): 100%|██████████| 7/7 [00:15<00:00,  2.27s/it]\n",
      "Training (8525 / 18000 Steps) (loss=0.31753): 100%|██████████| 7/7 [00:16<00:00,  2.38s/it]\n",
      "Training (8532 / 18000 Steps) (loss=0.35594): 100%|██████████| 7/7 [00:16<00:00,  2.37s/it]\n",
      "Training (8539 / 18000 Steps) (loss=0.32854): 100%|██████████| 7/7 [00:15<00:00,  2.28s/it]\n",
      "Training (8546 / 18000 Steps) (loss=0.35996): 100%|██████████| 7/7 [00:18<00:00,  2.66s/it]\n",
      "Training (8553 / 18000 Steps) (loss=0.26383): 100%|██████████| 7/7 [00:16<00:00,  2.37s/it]\n",
      "Training (8560 / 18000 Steps) (loss=0.35826): 100%|██████████| 7/7 [00:16<00:00,  2.35s/it]\n",
      "Training (8567 / 18000 Steps) (loss=0.48750): 100%|██████████| 7/7 [00:17<00:00,  2.43s/it]\n",
      "Training (8574 / 18000 Steps) (loss=0.39022): 100%|██████████| 7/7 [00:16<00:00,  2.37s/it]\n",
      "Training (8581 / 18000 Steps) (loss=0.32915): 100%|██████████| 7/7 [00:17<00:00,  2.53s/it]\n",
      "Training (8588 / 18000 Steps) (loss=0.24906): 100%|██████████| 7/7 [00:17<00:00,  2.43s/it]\n",
      "Training (8595 / 18000 Steps) (loss=0.36162): 100%|██████████| 7/7 [00:17<00:00,  2.55s/it]\n",
      "Validate (8596 / 10 Steps): 100%|██████████| 2/2 [00:14<00:00,  7.01s/it]<00:07,  2.64s/it]\n",
      "Training (8600 / 18000 Steps) (loss=0.37551):  71%|███████▏  | 5/7 [00:29<00:14,  7.43s/it]"
     ]
    },
    {
     "name": "stdout",
     "output_type": "stream",
     "text": [
      "Model Was Not Saved ! Current Best Avg. Dice: 0.6000044941902161 Current Avg. Dice: 0.5267300605773926 Current Avg. tumor Dice: 0.5102756023406982 Current Avg. lymph Dice: 0.5431845784187317\n"
     ]
    },
    {
     "name": "stderr",
     "output_type": "stream",
     "text": [
      "Training (8602 / 18000 Steps) (loss=0.36568): 100%|██████████| 7/7 [00:31<00:00,  4.56s/it]\n",
      "Training (8609 / 18000 Steps) (loss=0.53266): 100%|██████████| 7/7 [00:16<00:00,  2.29s/it]\n",
      "Training (8616 / 18000 Steps) (loss=0.39409): 100%|██████████| 7/7 [00:16<00:00,  2.37s/it]\n",
      "Training (8623 / 18000 Steps) (loss=0.28475): 100%|██████████| 7/7 [00:16<00:00,  2.37s/it]\n",
      "Training (8630 / 18000 Steps) (loss=0.54779): 100%|██████████| 7/7 [00:18<00:00,  2.60s/it]\n",
      "Training (8637 / 18000 Steps) (loss=0.38821): 100%|██████████| 7/7 [00:15<00:00,  2.27s/it]\n",
      "Training (8644 / 18000 Steps) (loss=0.35308): 100%|██████████| 7/7 [00:16<00:00,  2.37s/it]\n",
      "Training (8651 / 18000 Steps) (loss=0.39930): 100%|██████████| 7/7 [00:15<00:00,  2.27s/it]\n",
      "Training (8658 / 18000 Steps) (loss=0.53494): 100%|██████████| 7/7 [00:17<00:00,  2.46s/it]\n",
      "Training (8665 / 18000 Steps) (loss=0.12344): 100%|██████████| 7/7 [00:17<00:00,  2.45s/it]\n",
      "Training (8672 / 18000 Steps) (loss=0.38326): 100%|██████████| 7/7 [00:16<00:00,  2.36s/it]\n",
      "Training (8679 / 18000 Steps) (loss=0.29016): 100%|██████████| 7/7 [00:17<00:00,  2.45s/it]\n",
      "Training (8686 / 18000 Steps) (loss=0.20465): 100%|██████████| 7/7 [00:16<00:00,  2.38s/it]\n",
      "Training (8693 / 18000 Steps) (loss=0.27650): 100%|██████████| 7/7 [00:18<00:00,  2.65s/it]\n",
      "Validate (8694 / 10 Steps): 100%|██████████| 2/2 [00:14<00:00,  7.25s/it]<00:01,  1.92s/it]\n",
      "Training (8700 / 18000 Steps) (loss=0.52644): 100%|██████████| 7/7 [00:30<00:00,  4.41s/it]\n"
     ]
    },
    {
     "name": "stdout",
     "output_type": "stream",
     "text": [
      "Model Was Not Saved ! Current Best Avg. Dice: 0.6000044941902161 Current Avg. Dice: 0.561116635799408 Current Avg. tumor Dice: 0.5899295210838318 Current Avg. lymph Dice: 0.5323038101196289\n"
     ]
    },
    {
     "name": "stderr",
     "output_type": "stream",
     "text": [
      "Training (8707 / 18000 Steps) (loss=0.36861): 100%|██████████| 7/7 [00:17<00:00,  2.49s/it]\n",
      "Training (8714 / 18000 Steps) (loss=0.17229): 100%|██████████| 7/7 [00:16<00:00,  2.29s/it]\n",
      "Training (8721 / 18000 Steps) (loss=0.35432): 100%|██████████| 7/7 [00:17<00:00,  2.52s/it]\n",
      "Training (8728 / 18000 Steps) (loss=0.25578): 100%|██████████| 7/7 [00:16<00:00,  2.37s/it]\n",
      "Training (8735 / 18000 Steps) (loss=0.38670): 100%|██████████| 7/7 [00:16<00:00,  2.32s/it]\n",
      "Training (8742 / 18000 Steps) (loss=0.34591): 100%|██████████| 7/7 [00:16<00:00,  2.34s/it]\n",
      "Training (8749 / 18000 Steps) (loss=0.26458): 100%|██████████| 7/7 [00:17<00:00,  2.46s/it]\n",
      "Training (8756 / 18000 Steps) (loss=0.13427): 100%|██████████| 7/7 [00:15<00:00,  2.24s/it]\n",
      "Training (8763 / 18000 Steps) (loss=0.52433): 100%|██████████| 7/7 [00:15<00:00,  2.26s/it]\n",
      "Training (8770 / 18000 Steps) (loss=0.29026): 100%|██████████| 7/7 [00:17<00:00,  2.45s/it]\n",
      "Training (8777 / 18000 Steps) (loss=0.25894): 100%|██████████| 7/7 [00:16<00:00,  2.38s/it]\n",
      "Training (8784 / 18000 Steps) (loss=0.40685): 100%|██████████| 7/7 [00:15<00:00,  2.26s/it]\n",
      "Training (8791 / 18000 Steps) (loss=0.52631): 100%|██████████| 7/7 [00:15<00:00,  2.27s/it]\n",
      "Training (8798 / 18000 Steps) (loss=0.48166): 100%|██████████| 7/7 [00:16<00:00,  2.42s/it]\n",
      "Validate (8799 / 10 Steps): 100%|██████████| 2/2 [00:14<00:00,  7.06s/it]<00:42,  7.03s/it]\n",
      "Training (8800 / 18000 Steps) (loss=0.28102):  29%|██▊       | 2/7 [00:23<01:01, 12.34s/it]"
     ]
    },
    {
     "name": "stdout",
     "output_type": "stream",
     "text": [
      "Model Was Not Saved ! Current Best Avg. Dice: 0.6000044941902161 Current Avg. Dice: 0.5785142779350281 Current Avg. tumor Dice: 0.5930414795875549 Current Avg. lymph Dice: 0.5639870762825012\n"
     ]
    },
    {
     "name": "stderr",
     "output_type": "stream",
     "text": [
      "Training (8805 / 18000 Steps) (loss=0.33806): 100%|██████████| 7/7 [00:31<00:00,  4.49s/it]\n",
      "Training (8812 / 18000 Steps) (loss=0.28225): 100%|██████████| 7/7 [00:16<00:00,  2.39s/it]\n",
      "Training (8819 / 18000 Steps) (loss=0.37101): 100%|██████████| 7/7 [00:16<00:00,  2.33s/it]\n",
      "Training (8826 / 18000 Steps) (loss=0.49194): 100%|██████████| 7/7 [00:17<00:00,  2.54s/it]\n",
      "Training (8833 / 18000 Steps) (loss=0.48690): 100%|██████████| 7/7 [00:17<00:00,  2.54s/it]\n",
      "Training (8840 / 18000 Steps) (loss=0.43431): 100%|██████████| 7/7 [00:16<00:00,  2.33s/it]\n",
      "Training (8847 / 18000 Steps) (loss=0.28021): 100%|██████████| 7/7 [00:16<00:00,  2.29s/it]\n",
      "Training (8854 / 18000 Steps) (loss=0.24694): 100%|██████████| 7/7 [00:16<00:00,  2.38s/it]\n",
      "Training (8861 / 18000 Steps) (loss=0.34966): 100%|██████████| 7/7 [00:15<00:00,  2.25s/it]\n",
      "Training (8868 / 18000 Steps) (loss=0.39806): 100%|██████████| 7/7 [00:15<00:00,  2.27s/it]\n",
      "Training (8875 / 18000 Steps) (loss=0.40453): 100%|██████████| 7/7 [00:16<00:00,  2.37s/it]\n",
      "Training (8882 / 18000 Steps) (loss=0.41218): 100%|██████████| 7/7 [00:17<00:00,  2.49s/it]\n",
      "Training (8889 / 18000 Steps) (loss=0.47983): 100%|██████████| 7/7 [00:17<00:00,  2.56s/it]\n",
      "Training (8896 / 18000 Steps) (loss=0.25089): 100%|██████████| 7/7 [00:18<00:00,  2.58s/it]\n",
      "Validate (8897 / 10 Steps): 100%|██████████| 2/2 [00:15<00:00,  7.94s/it]<00:12,  3.22s/it]\n",
      "Training (8900 / 18000 Steps) (loss=0.33004):  57%|█████▋    | 4/7 [00:29<00:27,  9.09s/it]"
     ]
    },
    {
     "name": "stdout",
     "output_type": "stream",
     "text": [
      "Model Was Not Saved ! Current Best Avg. Dice: 0.6000044941902161 Current Avg. Dice: 0.5816369652748108 Current Avg. tumor Dice: 0.6072498559951782 Current Avg. lymph Dice: 0.5560240745544434\n"
     ]
    },
    {
     "name": "stderr",
     "output_type": "stream",
     "text": [
      "Training (8903 / 18000 Steps) (loss=0.38209): 100%|██████████| 7/7 [00:34<00:00,  4.97s/it]\n",
      "Training (8910 / 18000 Steps) (loss=0.21121): 100%|██████████| 7/7 [00:17<00:00,  2.50s/it]\n",
      "Training (8917 / 18000 Steps) (loss=0.35367): 100%|██████████| 7/7 [00:17<00:00,  2.53s/it]\n",
      "Training (8924 / 18000 Steps) (loss=0.45037): 100%|██████████| 7/7 [00:18<00:00,  2.69s/it]\n",
      "Training (8931 / 18000 Steps) (loss=0.46279): 100%|██████████| 7/7 [00:18<00:00,  2.66s/it]\n",
      "Training (8938 / 18000 Steps) (loss=0.42963): 100%|██████████| 7/7 [00:19<00:00,  2.74s/it]\n",
      "Training (8945 / 18000 Steps) (loss=0.53126): 100%|██████████| 7/7 [00:17<00:00,  2.57s/it]\n",
      "Training (8952 / 18000 Steps) (loss=0.31823): 100%|██████████| 7/7 [00:17<00:00,  2.47s/it]\n",
      "Training (8959 / 18000 Steps) (loss=0.11770): 100%|██████████| 7/7 [00:19<00:00,  2.85s/it]\n",
      "Training (8966 / 18000 Steps) (loss=0.15395): 100%|██████████| 7/7 [00:17<00:00,  2.54s/it]\n",
      "Training (8973 / 18000 Steps) (loss=0.54262): 100%|██████████| 7/7 [00:18<00:00,  2.61s/it]\n",
      "Training (8980 / 18000 Steps) (loss=0.53308): 100%|██████████| 7/7 [00:18<00:00,  2.58s/it]\n",
      "Training (8987 / 18000 Steps) (loss=0.13739): 100%|██████████| 7/7 [00:17<00:00,  2.52s/it]\n",
      "Training (8994 / 18000 Steps) (loss=0.13969): 100%|██████████| 7/7 [00:17<00:00,  2.52s/it]\n",
      "Validate (8995 / 10 Steps): 100%|██████████| 2/2 [00:16<00:00,  8.48s/it]<00:04,  2.43s/it]\n",
      "Training (9000 / 18000 Steps) (loss=0.32621):  86%|████████▌ | 6/7 [00:33<00:08,  8.05s/it]"
     ]
    },
    {
     "name": "stdout",
     "output_type": "stream",
     "text": [
      "Model Was Not Saved ! Current Best Avg. Dice: 0.6000044941902161 Current Avg. Dice: 0.5516954660415649 Current Avg. tumor Dice: 0.6107581853866577 Current Avg. lymph Dice: 0.49263274669647217\n"
     ]
    },
    {
     "name": "stderr",
     "output_type": "stream",
     "text": [
      "Training (9001 / 18000 Steps) (loss=0.22750): 100%|██████████| 7/7 [00:35<00:00,  5.02s/it]\n",
      "Training (9008 / 18000 Steps) (loss=0.36295): 100%|██████████| 7/7 [00:18<00:00,  2.69s/it]\n",
      "Training (9015 / 18000 Steps) (loss=0.39027): 100%|██████████| 7/7 [00:17<00:00,  2.53s/it]\n",
      "Training (9022 / 18000 Steps) (loss=0.53026): 100%|██████████| 7/7 [00:17<00:00,  2.52s/it]\n",
      "Training (9029 / 18000 Steps) (loss=0.30418): 100%|██████████| 7/7 [00:17<00:00,  2.50s/it]\n",
      "Training (9036 / 18000 Steps) (loss=0.26202): 100%|██████████| 7/7 [00:19<00:00,  2.79s/it]\n",
      "Training (9043 / 18000 Steps) (loss=0.20637): 100%|██████████| 7/7 [00:17<00:00,  2.52s/it]\n",
      "Training (9050 / 18000 Steps) (loss=0.49634): 100%|██████████| 7/7 [00:19<00:00,  2.72s/it]\n",
      "Training (9057 / 18000 Steps) (loss=0.29271): 100%|██████████| 7/7 [00:18<00:00,  2.66s/it]\n",
      "Training (9064 / 18000 Steps) (loss=0.59602): 100%|██████████| 7/7 [00:19<00:00,  2.82s/it]\n",
      "Training (9071 / 18000 Steps) (loss=0.26772): 100%|██████████| 7/7 [00:18<00:00,  2.61s/it]\n",
      "Training (9078 / 18000 Steps) (loss=0.22205): 100%|██████████| 7/7 [00:18<00:00,  2.59s/it]\n",
      "Training (9085 / 18000 Steps) (loss=0.26930): 100%|██████████| 7/7 [00:17<00:00,  2.57s/it]\n",
      "Training (9092 / 18000 Steps) (loss=0.46211): 100%|██████████| 7/7 [00:18<00:00,  2.62s/it]\n",
      "Training (9099 / 18000 Steps) (loss=0.33181): 100%|██████████| 7/7 [00:18<00:00,  2.65s/it]\n",
      "Validate (9100 / 10 Steps): 100%|██████████| 2/2 [00:15<00:00,  7.66s/it]<?, ?it/s]\n",
      "Training (9100 / 18000 Steps) (loss=0.39771):  14%|█▍        | 1/7 [00:22<02:16, 22.74s/it]"
     ]
    },
    {
     "name": "stdout",
     "output_type": "stream",
     "text": [
      "Model Was Not Saved ! Current Best Avg. Dice: 0.6000044941902161 Current Avg. Dice: 0.5425282716751099 Current Avg. tumor Dice: 0.5680758357048035 Current Avg. lymph Dice: 0.516980767250061\n"
     ]
    },
    {
     "name": "stderr",
     "output_type": "stream",
     "text": [
      "Training (9106 / 18000 Steps) (loss=0.28022): 100%|██████████| 7/7 [00:33<00:00,  4.78s/it]\n",
      "Training (9113 / 18000 Steps) (loss=0.47752): 100%|██████████| 7/7 [00:17<00:00,  2.54s/it]\n",
      "Training (9120 / 18000 Steps) (loss=0.33560): 100%|██████████| 7/7 [00:18<00:00,  2.65s/it]\n",
      "Training (9127 / 18000 Steps) (loss=0.12729): 100%|██████████| 7/7 [00:18<00:00,  2.71s/it]\n",
      "Training (9134 / 18000 Steps) (loss=0.33057): 100%|██████████| 7/7 [00:18<00:00,  2.59s/it]\n",
      "Training (9141 / 18000 Steps) (loss=0.21241): 100%|██████████| 7/7 [00:18<00:00,  2.58s/it]\n",
      "Training (9148 / 18000 Steps) (loss=0.43080): 100%|██████████| 7/7 [00:19<00:00,  2.74s/it]\n",
      "Training (9155 / 18000 Steps) (loss=0.39698): 100%|██████████| 7/7 [00:19<00:00,  2.75s/it]\n",
      "Training (9162 / 18000 Steps) (loss=0.53334): 100%|██████████| 7/7 [00:19<00:00,  2.82s/it]\n",
      "Training (9169 / 18000 Steps) (loss=0.18995): 100%|██████████| 7/7 [00:19<00:00,  2.80s/it]\n",
      "Training (9176 / 18000 Steps) (loss=0.40304): 100%|██████████| 7/7 [00:19<00:00,  2.74s/it]\n",
      "Training (9183 / 18000 Steps) (loss=0.13210): 100%|██████████| 7/7 [00:19<00:00,  2.80s/it]\n",
      "Training (9190 / 18000 Steps) (loss=0.24160): 100%|██████████| 7/7 [00:19<00:00,  2.84s/it]\n",
      "Training (9197 / 18000 Steps) (loss=0.28970): 100%|██████████| 7/7 [00:19<00:00,  2.74s/it]\n",
      "Validate (9198 / 10 Steps): 100%|██████████| 2/2 [00:15<00:00,  7.63s/it]<00:21,  4.32s/it]\n",
      "Training (9200 / 18000 Steps) (loss=0.34149):  43%|████▎     | 3/7 [00:26<00:41, 10.26s/it]"
     ]
    },
    {
     "name": "stdout",
     "output_type": "stream",
     "text": [
      "Model Was Not Saved ! Current Best Avg. Dice: 0.6000044941902161 Current Avg. Dice: 0.5683771371841431 Current Avg. tumor Dice: 0.6104100942611694 Current Avg. lymph Dice: 0.5263442397117615\n"
     ]
    },
    {
     "name": "stderr",
     "output_type": "stream",
     "text": [
      "Training (9204 / 18000 Steps) (loss=0.34040): 100%|██████████| 7/7 [00:33<00:00,  4.84s/it]\n",
      "Training (9211 / 18000 Steps) (loss=0.39180): 100%|██████████| 7/7 [00:19<00:00,  2.77s/it]\n",
      "Training (9218 / 18000 Steps) (loss=0.26996): 100%|██████████| 7/7 [00:19<00:00,  2.76s/it]\n",
      "Training (9225 / 18000 Steps) (loss=0.31524): 100%|██████████| 7/7 [00:18<00:00,  2.64s/it]\n",
      "Training (9232 / 18000 Steps) (loss=0.29821): 100%|██████████| 7/7 [00:18<00:00,  2.71s/it]\n",
      "Training (9239 / 18000 Steps) (loss=0.40412): 100%|██████████| 7/7 [00:18<00:00,  2.66s/it]\n",
      "Training (9246 / 18000 Steps) (loss=0.32515): 100%|██████████| 7/7 [00:19<00:00,  2.83s/it]\n",
      "Training (9253 / 18000 Steps) (loss=0.42032): 100%|██████████| 7/7 [00:19<00:00,  2.78s/it]\n",
      "Training (9260 / 18000 Steps) (loss=0.41052): 100%|██████████| 7/7 [00:19<00:00,  2.82s/it]\n",
      "Training (9267 / 18000 Steps) (loss=0.38917): 100%|██████████| 7/7 [00:17<00:00,  2.49s/it]\n",
      "Training (9274 / 18000 Steps) (loss=0.66670): 100%|██████████| 7/7 [00:18<00:00,  2.67s/it]\n",
      "Training (9281 / 18000 Steps) (loss=0.31183): 100%|██████████| 7/7 [00:19<00:00,  2.83s/it]\n",
      "Training (9288 / 18000 Steps) (loss=0.10525): 100%|██████████| 7/7 [00:19<00:00,  2.76s/it]\n",
      "Training (9295 / 18000 Steps) (loss=0.24247): 100%|██████████| 7/7 [00:19<00:00,  2.75s/it]\n",
      "Validate (9296 / 10 Steps): 100%|██████████| 2/2 [00:15<00:00,  7.78s/it]<00:07,  2.62s/it]\n",
      "Training (9300 / 18000 Steps) (loss=0.40736):  71%|███████▏  | 5/7 [00:30<00:16,  8.04s/it]"
     ]
    },
    {
     "name": "stdout",
     "output_type": "stream",
     "text": [
      "Model Was Not Saved ! Current Best Avg. Dice: 0.6000044941902161 Current Avg. Dice: 0.5571435689926147 Current Avg. tumor Dice: 0.6293802261352539 Current Avg. lymph Dice: 0.48490697145462036\n"
     ]
    },
    {
     "name": "stderr",
     "output_type": "stream",
     "text": [
      "Training (9302 / 18000 Steps) (loss=0.36035): 100%|██████████| 7/7 [00:33<00:00,  4.82s/it]\n",
      "Training (9309 / 18000 Steps) (loss=0.30251): 100%|██████████| 7/7 [00:19<00:00,  2.74s/it]\n",
      "Training (9316 / 18000 Steps) (loss=0.27001): 100%|██████████| 7/7 [00:17<00:00,  2.57s/it]\n",
      "Training (9323 / 18000 Steps) (loss=0.20273): 100%|██████████| 7/7 [00:19<00:00,  2.74s/it]\n",
      "Training (9330 / 18000 Steps) (loss=0.12455): 100%|██████████| 7/7 [00:19<00:00,  2.72s/it]\n",
      "Training (9337 / 18000 Steps) (loss=0.34130): 100%|██████████| 7/7 [00:21<00:00,  3.10s/it]\n",
      "Training (9344 / 18000 Steps) (loss=0.49477): 100%|██████████| 7/7 [00:19<00:00,  2.83s/it]\n",
      "Training (9351 / 18000 Steps) (loss=0.12749): 100%|██████████| 7/7 [00:18<00:00,  2.67s/it]\n",
      "Training (9358 / 18000 Steps) (loss=0.52780): 100%|██████████| 7/7 [00:19<00:00,  2.76s/it]\n",
      "Training (9365 / 18000 Steps) (loss=0.47232): 100%|██████████| 7/7 [00:18<00:00,  2.58s/it]\n",
      "Training (9372 / 18000 Steps) (loss=0.14202): 100%|██████████| 7/7 [00:18<00:00,  2.61s/it]\n",
      "Training (9379 / 18000 Steps) (loss=0.12856): 100%|██████████| 7/7 [00:18<00:00,  2.57s/it]\n",
      "Training (9386 / 18000 Steps) (loss=0.40139): 100%|██████████| 7/7 [00:18<00:00,  2.70s/it]\n",
      "Training (9393 / 18000 Steps) (loss=0.23790): 100%|██████████| 7/7 [00:19<00:00,  2.72s/it]\n",
      "Validate (9394 / 10 Steps): 100%|██████████| 2/2 [00:15<00:00,  7.80s/it]<00:02,  2.29s/it]\n",
      "Training (9400 / 18000 Steps) (loss=0.52536): 100%|██████████| 7/7 [00:34<00:00,  4.88s/it]\n"
     ]
    },
    {
     "name": "stdout",
     "output_type": "stream",
     "text": [
      "Model Was Not Saved ! Current Best Avg. Dice: 0.6000044941902161 Current Avg. Dice: 0.5676339864730835 Current Avg. tumor Dice: 0.6296517848968506 Current Avg. lymph Dice: 0.5056161880493164\n"
     ]
    },
    {
     "name": "stderr",
     "output_type": "stream",
     "text": [
      "Training (9407 / 18000 Steps) (loss=0.43219): 100%|██████████| 7/7 [00:18<00:00,  2.57s/it]\n",
      "Training (9414 / 18000 Steps) (loss=0.55151): 100%|██████████| 7/7 [00:19<00:00,  2.76s/it]\n",
      "Training (9421 / 18000 Steps) (loss=0.36059): 100%|██████████| 7/7 [00:18<00:00,  2.65s/it]\n",
      "Training (9428 / 18000 Steps) (loss=0.29087): 100%|██████████| 7/7 [00:19<00:00,  2.81s/it]\n",
      "Training (9435 / 18000 Steps) (loss=0.50604): 100%|██████████| 7/7 [00:18<00:00,  2.68s/it]\n",
      "Training (9442 / 18000 Steps) (loss=0.28640): 100%|██████████| 7/7 [00:18<00:00,  2.67s/it]\n",
      "Training (9449 / 18000 Steps) (loss=0.26531): 100%|██████████| 7/7 [00:19<00:00,  2.72s/it]\n",
      "Training (9456 / 18000 Steps) (loss=0.27743): 100%|██████████| 7/7 [00:17<00:00,  2.51s/it]\n",
      "Training (9463 / 18000 Steps) (loss=0.27511): 100%|██████████| 7/7 [00:18<00:00,  2.61s/it]\n",
      "Training (9470 / 18000 Steps) (loss=0.17561): 100%|██████████| 7/7 [00:19<00:00,  2.74s/it]\n",
      "Training (9477 / 18000 Steps) (loss=0.49637): 100%|██████████| 7/7 [00:21<00:00,  3.12s/it]\n",
      "Training (9484 / 18000 Steps) (loss=0.35458): 100%|██████████| 7/7 [00:18<00:00,  2.70s/it]\n",
      "Training (9491 / 18000 Steps) (loss=0.20063): 100%|██████████| 7/7 [00:17<00:00,  2.48s/it]\n",
      "Training (9498 / 18000 Steps) (loss=0.41809): 100%|██████████| 7/7 [00:17<00:00,  2.52s/it]\n",
      "Validate (9499 / 10 Steps): 100%|██████████| 2/2 [00:15<00:00,  7.63s/it]<00:47,  7.90s/it]\n",
      "Training (9500 / 18000 Steps) (loss=0.36603):  29%|██▊       | 2/7 [00:25<01:06, 13.33s/it]"
     ]
    },
    {
     "name": "stdout",
     "output_type": "stream",
     "text": [
      "Model Was Not Saved ! Current Best Avg. Dice: 0.6000044941902161 Current Avg. Dice: 0.5369687080383301 Current Avg. tumor Dice: 0.598303496837616 Current Avg. lymph Dice: 0.4756338894367218\n"
     ]
    },
    {
     "name": "stderr",
     "output_type": "stream",
     "text": [
      "Training (9505 / 18000 Steps) (loss=0.34544): 100%|██████████| 7/7 [00:33<00:00,  4.83s/it]\n",
      "Training (9512 / 18000 Steps) (loss=0.49597): 100%|██████████| 7/7 [00:17<00:00,  2.53s/it]\n",
      "Training (9519 / 18000 Steps) (loss=0.39885): 100%|██████████| 7/7 [00:18<00:00,  2.65s/it]\n",
      "Training (9526 / 18000 Steps) (loss=0.38697): 100%|██████████| 7/7 [00:17<00:00,  2.55s/it]\n",
      "Training (9533 / 18000 Steps) (loss=0.16734): 100%|██████████| 7/7 [00:18<00:00,  2.62s/it]\n",
      "Training (9540 / 18000 Steps) (loss=0.31638): 100%|██████████| 7/7 [00:19<00:00,  2.76s/it]\n",
      "Training (9547 / 18000 Steps) (loss=0.19307): 100%|██████████| 7/7 [00:18<00:00,  2.58s/it]\n",
      "Training (9554 / 18000 Steps) (loss=0.33902): 100%|██████████| 7/7 [00:18<00:00,  2.59s/it]\n",
      "Training (9561 / 18000 Steps) (loss=0.46957): 100%|██████████| 7/7 [00:17<00:00,  2.54s/it]\n",
      "Training (9568 / 18000 Steps) (loss=0.29902): 100%|██████████| 7/7 [00:18<00:00,  2.65s/it]\n",
      "Training (9575 / 18000 Steps) (loss=0.33387): 100%|██████████| 7/7 [00:18<00:00,  2.62s/it]\n",
      "Training (9582 / 18000 Steps) (loss=0.27663): 100%|██████████| 7/7 [00:18<00:00,  2.64s/it]\n",
      "Training (9589 / 18000 Steps) (loss=0.26795): 100%|██████████| 7/7 [00:17<00:00,  2.53s/it]\n",
      "Training (9596 / 18000 Steps) (loss=0.38496): 100%|██████████| 7/7 [00:18<00:00,  2.68s/it]\n",
      "Validate (9597 / 10 Steps): 100%|██████████| 2/2 [00:15<00:00,  7.81s/it]<00:13,  3.38s/it]\n",
      "Training (9600 / 18000 Steps) (loss=0.40531):  57%|█████▋    | 4/7 [00:29<00:27,  9.15s/it]"
     ]
    },
    {
     "name": "stdout",
     "output_type": "stream",
     "text": [
      "Model Was Not Saved ! Current Best Avg. Dice: 0.6000044941902161 Current Avg. Dice: 0.538821280002594 Current Avg. tumor Dice: 0.6102008819580078 Current Avg. lymph Dice: 0.467441588640213\n"
     ]
    },
    {
     "name": "stderr",
     "output_type": "stream",
     "text": [
      "Training (9603 / 18000 Steps) (loss=0.33546): 100%|██████████| 7/7 [00:34<00:00,  4.99s/it]\n",
      "Training (9610 / 18000 Steps) (loss=0.28224): 100%|██████████| 7/7 [00:18<00:00,  2.59s/it]\n",
      "Training (9617 / 18000 Steps) (loss=0.25749): 100%|██████████| 7/7 [00:18<00:00,  2.67s/it]\n",
      "Training (9624 / 18000 Steps) (loss=0.30376): 100%|██████████| 7/7 [00:18<00:00,  2.65s/it]\n",
      "Training (9631 / 18000 Steps) (loss=0.48634): 100%|██████████| 7/7 [00:19<00:00,  2.79s/it]\n",
      "Training (9638 / 18000 Steps) (loss=0.22393): 100%|██████████| 7/7 [00:17<00:00,  2.52s/it]\n",
      "Training (9645 / 18000 Steps) (loss=0.39823): 100%|██████████| 7/7 [00:19<00:00,  2.80s/it]\n",
      "Training (9652 / 18000 Steps) (loss=0.28255): 100%|██████████| 7/7 [00:18<00:00,  2.65s/it]\n",
      "Training (9659 / 18000 Steps) (loss=0.29689): 100%|██████████| 7/7 [00:17<00:00,  2.57s/it]\n",
      "Training (9666 / 18000 Steps) (loss=0.26225): 100%|██████████| 7/7 [00:18<00:00,  2.64s/it]\n",
      "Training (9673 / 18000 Steps) (loss=0.55181): 100%|██████████| 7/7 [00:17<00:00,  2.56s/it]\n",
      "Training (9680 / 18000 Steps) (loss=0.30041): 100%|██████████| 7/7 [00:17<00:00,  2.52s/it]\n",
      "Training (9687 / 18000 Steps) (loss=0.33819): 100%|██████████| 7/7 [00:17<00:00,  2.53s/it]\n",
      "Training (9694 / 18000 Steps) (loss=0.27817): 100%|██████████| 7/7 [00:18<00:00,  2.62s/it]\n",
      "Validate (9695 / 10 Steps): 100%|██████████| 2/2 [00:15<00:00,  7.61s/it]<00:04,  2.40s/it]\n",
      "Training (9700 / 18000 Steps) (loss=0.24816):  86%|████████▌ | 6/7 [00:32<00:07,  7.52s/it]"
     ]
    },
    {
     "name": "stdout",
     "output_type": "stream",
     "text": [
      "Model Was Not Saved ! Current Best Avg. Dice: 0.6000044941902161 Current Avg. Dice: 0.5425850749015808 Current Avg. tumor Dice: 0.6048258543014526 Current Avg. lymph Dice: 0.480344295501709\n"
     ]
    },
    {
     "name": "stderr",
     "output_type": "stream",
     "text": [
      "Training (9701 / 18000 Steps) (loss=0.18170): 100%|██████████| 7/7 [00:33<00:00,  4.82s/it]\n",
      "Training (9708 / 18000 Steps) (loss=0.35349): 100%|██████████| 7/7 [00:19<00:00,  2.78s/it]\n",
      "Training (9715 / 18000 Steps) (loss=0.35157): 100%|██████████| 7/7 [00:18<00:00,  2.59s/it]\n",
      "Training (9722 / 18000 Steps) (loss=0.48952): 100%|██████████| 7/7 [00:18<00:00,  2.59s/it]\n",
      "Training (9729 / 18000 Steps) (loss=0.53870): 100%|██████████| 7/7 [00:19<00:00,  2.79s/it]\n",
      "Training (9736 / 18000 Steps) (loss=0.32379): 100%|██████████| 7/7 [00:17<00:00,  2.56s/it]\n",
      "Training (9743 / 18000 Steps) (loss=0.46553): 100%|██████████| 7/7 [00:19<00:00,  2.82s/it]\n",
      "Training (9750 / 18000 Steps) (loss=0.30067): 100%|██████████| 7/7 [00:17<00:00,  2.56s/it]\n",
      "Training (9757 / 18000 Steps) (loss=0.41134): 100%|██████████| 7/7 [00:18<00:00,  2.70s/it]\n",
      "Training (9764 / 18000 Steps) (loss=0.25669): 100%|██████████| 7/7 [00:17<00:00,  2.52s/it]\n",
      "Training (9771 / 18000 Steps) (loss=0.39642): 100%|██████████| 7/7 [00:18<00:00,  2.59s/it]\n",
      "Training (9778 / 18000 Steps) (loss=0.12802): 100%|██████████| 7/7 [00:18<00:00,  2.58s/it]\n",
      "Training (9785 / 18000 Steps) (loss=0.27433): 100%|██████████| 7/7 [00:19<00:00,  2.81s/it]\n",
      "Training (9792 / 18000 Steps) (loss=0.16384): 100%|██████████| 7/7 [00:20<00:00,  2.92s/it]\n",
      "Training (9799 / 18000 Steps) (loss=0.30206): 100%|██████████| 7/7 [00:18<00:00,  2.66s/it]\n",
      "Validate (9800 / 10 Steps): 100%|██████████| 2/2 [00:15<00:00,  7.68s/it]<?, ?it/s]\n",
      "Training (9800 / 18000 Steps) (loss=0.22418):  14%|█▍        | 1/7 [00:22<02:17, 22.96s/it]"
     ]
    },
    {
     "name": "stdout",
     "output_type": "stream",
     "text": [
      "Model Was Not Saved ! Current Best Avg. Dice: 0.6000044941902161 Current Avg. Dice: 0.5538572072982788 Current Avg. tumor Dice: 0.6068994402885437 Current Avg. lymph Dice: 0.5008150339126587\n"
     ]
    },
    {
     "name": "stderr",
     "output_type": "stream",
     "text": [
      "Training (9806 / 18000 Steps) (loss=0.24864): 100%|██████████| 7/7 [00:33<00:00,  4.84s/it]\n",
      "Training (9813 / 18000 Steps) (loss=0.33119): 100%|██████████| 7/7 [00:19<00:00,  2.79s/it]\n",
      "Training (9820 / 18000 Steps) (loss=0.35915): 100%|██████████| 7/7 [00:18<00:00,  2.67s/it]\n",
      "Training (9827 / 18000 Steps) (loss=0.28658): 100%|██████████| 7/7 [00:19<00:00,  2.73s/it]\n",
      "Training (9834 / 18000 Steps) (loss=0.39368): 100%|██████████| 7/7 [00:18<00:00,  2.63s/it]\n",
      "Training (9841 / 18000 Steps) (loss=0.17178): 100%|██████████| 7/7 [00:18<00:00,  2.65s/it]\n",
      "Training (9848 / 18000 Steps) (loss=0.41295): 100%|██████████| 7/7 [00:19<00:00,  2.82s/it]\n",
      "Training (9855 / 18000 Steps) (loss=0.24626): 100%|██████████| 7/7 [00:18<00:00,  2.64s/it]\n",
      "Training (9862 / 18000 Steps) (loss=0.26533): 100%|██████████| 7/7 [00:17<00:00,  2.49s/it]\n",
      "Training (9869 / 18000 Steps) (loss=0.26304): 100%|██████████| 7/7 [00:17<00:00,  2.48s/it]\n",
      "Training (9876 / 18000 Steps) (loss=0.13971): 100%|██████████| 7/7 [00:19<00:00,  2.81s/it]\n",
      "Training (9883 / 18000 Steps) (loss=0.27490): 100%|██████████| 7/7 [00:18<00:00,  2.70s/it]\n",
      "Training (9890 / 18000 Steps) (loss=0.24313): 100%|██████████| 7/7 [00:19<00:00,  2.76s/it]\n",
      "Training (9897 / 18000 Steps) (loss=0.27967): 100%|██████████| 7/7 [00:17<00:00,  2.57s/it]\n",
      "Validate (9898 / 10 Steps): 100%|██████████| 2/2 [00:15<00:00,  7.66s/it]<00:20,  4.05s/it]\n",
      "Training (9900 / 18000 Steps) (loss=0.22646):  43%|████▎     | 3/7 [00:26<00:40, 10.15s/it]"
     ]
    },
    {
     "name": "stdout",
     "output_type": "stream",
     "text": [
      "Model Was Not Saved ! Current Best Avg. Dice: 0.6000044941902161 Current Avg. Dice: 0.5512733459472656 Current Avg. tumor Dice: 0.6045301556587219 Current Avg. lymph Dice: 0.4980165362358093\n"
     ]
    },
    {
     "name": "stderr",
     "output_type": "stream",
     "text": [
      "Training (9904 / 18000 Steps) (loss=0.24877): 100%|██████████| 7/7 [00:33<00:00,  4.78s/it]\n",
      "Training (9911 / 18000 Steps) (loss=0.50834): 100%|██████████| 7/7 [00:19<00:00,  2.77s/it]\n",
      "Training (9918 / 18000 Steps) (loss=0.23965): 100%|██████████| 7/7 [00:17<00:00,  2.50s/it]\n",
      "Training (9925 / 18000 Steps) (loss=0.54001): 100%|██████████| 7/7 [00:18<00:00,  2.63s/it]\n",
      "Training (9932 / 18000 Steps) (loss=0.24597): 100%|██████████| 7/7 [00:17<00:00,  2.52s/it]\n",
      "Training (9939 / 18000 Steps) (loss=0.53001): 100%|██████████| 7/7 [00:18<00:00,  2.62s/it]\n",
      "Training (9946 / 18000 Steps) (loss=0.38826): 100%|██████████| 7/7 [00:19<00:00,  2.79s/it]\n",
      "Training (9953 / 18000 Steps) (loss=0.34021): 100%|██████████| 7/7 [00:18<00:00,  2.57s/it]\n",
      "Training (9960 / 18000 Steps) (loss=0.12062): 100%|██████████| 7/7 [00:18<00:00,  2.65s/it]\n",
      "Training (9967 / 18000 Steps) (loss=0.39744): 100%|██████████| 7/7 [00:17<00:00,  2.57s/it]\n",
      "Training (9974 / 18000 Steps) (loss=0.28277): 100%|██████████| 7/7 [00:18<00:00,  2.67s/it]\n",
      "Training (9981 / 18000 Steps) (loss=0.46434): 100%|██████████| 7/7 [00:18<00:00,  2.66s/it]\n",
      "Training (9988 / 18000 Steps) (loss=0.26515): 100%|██████████| 7/7 [00:19<00:00,  2.72s/it]\n",
      "Training (9995 / 18000 Steps) (loss=0.27167): 100%|██████████| 7/7 [00:17<00:00,  2.55s/it]\n",
      "Validate (9996 / 10 Steps): 100%|██████████| 2/2 [00:15<00:00,  7.68s/it]4<00:07,  2.61s/it]\n",
      "Training (10000 / 18000 Steps) (loss=0.43062):  71%|███████▏  | 5/7 [00:30<00:15,  7.92s/it]"
     ]
    },
    {
     "name": "stdout",
     "output_type": "stream",
     "text": [
      "Model Was Not Saved ! Current Best Avg. Dice: 0.6000044941902161 Current Avg. Dice: 0.5360428094863892 Current Avg. tumor Dice: 0.61094069480896 Current Avg. lymph Dice: 0.46114492416381836\n"
     ]
    },
    {
     "name": "stderr",
     "output_type": "stream",
     "text": [
      "Training (10002 / 18000 Steps) (loss=0.35344): 100%|██████████| 7/7 [00:33<00:00,  4.75s/it]\n",
      "Training (10009 / 18000 Steps) (loss=0.15682): 100%|██████████| 7/7 [00:19<00:00,  2.82s/it]\n",
      "Training (10016 / 18000 Steps) (loss=0.43042): 100%|██████████| 7/7 [00:19<00:00,  2.79s/it]\n",
      "Training (10023 / 18000 Steps) (loss=0.37971): 100%|██████████| 7/7 [00:18<00:00,  2.68s/it]\n",
      "Training (10030 / 18000 Steps) (loss=0.29933): 100%|██████████| 7/7 [00:17<00:00,  2.51s/it]\n",
      "Training (10037 / 18000 Steps) (loss=0.53952): 100%|██████████| 7/7 [00:18<00:00,  2.64s/it]\n",
      "Training (10044 / 18000 Steps) (loss=0.42953): 100%|██████████| 7/7 [00:18<00:00,  2.61s/it]\n",
      "Training (10051 / 18000 Steps) (loss=0.48877): 100%|██████████| 7/7 [00:19<00:00,  2.82s/it]\n",
      "Training (10058 / 18000 Steps) (loss=0.41278): 100%|██████████| 7/7 [00:18<00:00,  2.67s/it]\n",
      "Training (10065 / 18000 Steps) (loss=0.25194): 100%|██████████| 7/7 [00:19<00:00,  2.76s/it]\n",
      "Training (10072 / 18000 Steps) (loss=0.52906): 100%|██████████| 7/7 [00:18<00:00,  2.70s/it]\n",
      "Training (10079 / 18000 Steps) (loss=0.25335): 100%|██████████| 7/7 [00:17<00:00,  2.50s/it]\n",
      "Training (10086 / 18000 Steps) (loss=0.45669): 100%|██████████| 7/7 [00:18<00:00,  2.59s/it]\n",
      "Training (10093 / 18000 Steps) (loss=0.48522): 100%|██████████| 7/7 [00:19<00:00,  2.72s/it]\n",
      "Validate (10094 / 10 Steps): 100%|██████████| 2/2 [00:15<00:00,  7.68s/it]<00:02,  2.29s/it]\n",
      "Training (10100 / 18000 Steps) (loss=0.34240): 100%|██████████| 7/7 [00:34<00:00,  4.96s/it]\n"
     ]
    },
    {
     "name": "stdout",
     "output_type": "stream",
     "text": [
      "Model Was Not Saved ! Current Best Avg. Dice: 0.6000044941902161 Current Avg. Dice: 0.5683091878890991 Current Avg. tumor Dice: 0.627346932888031 Current Avg. lymph Dice: 0.5092713832855225\n"
     ]
    },
    {
     "name": "stderr",
     "output_type": "stream",
     "text": [
      "Training (10107 / 18000 Steps) (loss=0.24171): 100%|██████████| 7/7 [00:18<00:00,  2.62s/it]\n",
      "Training (10114 / 18000 Steps) (loss=0.36916): 100%|██████████| 7/7 [00:18<00:00,  2.65s/it]\n",
      "Training (10121 / 18000 Steps) (loss=0.36197): 100%|██████████| 7/7 [00:18<00:00,  2.64s/it]\n",
      "Training (10128 / 18000 Steps) (loss=0.40604): 100%|██████████| 7/7 [00:18<00:00,  2.62s/it]\n",
      "Training (10135 / 18000 Steps) (loss=0.44578): 100%|██████████| 7/7 [00:19<00:00,  2.75s/it]\n",
      "Training (10142 / 18000 Steps) (loss=0.18705): 100%|██████████| 7/7 [00:17<00:00,  2.52s/it]\n",
      "Training (10149 / 18000 Steps) (loss=0.26700): 100%|██████████| 7/7 [00:18<00:00,  2.67s/it]\n",
      "Training (10156 / 18000 Steps) (loss=0.26619): 100%|██████████| 7/7 [00:18<00:00,  2.59s/it]\n",
      "Training (10163 / 18000 Steps) (loss=0.40923): 100%|██████████| 7/7 [00:17<00:00,  2.56s/it]\n",
      "Training (10170 / 18000 Steps) (loss=0.33538): 100%|██████████| 7/7 [00:18<00:00,  2.68s/it]\n",
      "Training (10177 / 18000 Steps) (loss=0.11207): 100%|██████████| 7/7 [00:18<00:00,  2.59s/it]\n",
      "Training (10184 / 18000 Steps) (loss=0.48022): 100%|██████████| 7/7 [00:18<00:00,  2.64s/it]\n",
      "Training (10191 / 18000 Steps) (loss=0.44361): 100%|██████████| 7/7 [00:17<00:00,  2.55s/it]\n",
      "Training (10198 / 18000 Steps) (loss=0.37223): 100%|██████████| 7/7 [00:18<00:00,  2.67s/it]\n",
      "Validate (10199 / 10 Steps): 100%|██████████| 2/2 [00:15<00:00,  7.87s/it]<00:40,  6.79s/it]\n",
      "Training (10200 / 18000 Steps) (loss=0.39947):  29%|██▊       | 2/7 [00:24<01:06, 13.23s/it]"
     ]
    },
    {
     "name": "stdout",
     "output_type": "stream",
     "text": [
      "Model Was Not Saved ! Current Best Avg. Dice: 0.6000044941902161 Current Avg. Dice: 0.5460264682769775 Current Avg. tumor Dice: 0.6139025092124939 Current Avg. lymph Dice: 0.47815051674842834\n"
     ]
    },
    {
     "name": "stderr",
     "output_type": "stream",
     "text": [
      "Training (10205 / 18000 Steps) (loss=0.47772): 100%|██████████| 7/7 [00:33<00:00,  4.82s/it]\n",
      "Training (10212 / 18000 Steps) (loss=0.44675): 100%|██████████| 7/7 [00:18<00:00,  2.57s/it]\n",
      "Training (10219 / 18000 Steps) (loss=0.12464): 100%|██████████| 7/7 [00:18<00:00,  2.58s/it]\n",
      "Training (10226 / 18000 Steps) (loss=0.42029): 100%|██████████| 7/7 [00:19<00:00,  2.80s/it]\n",
      "Training (10233 / 18000 Steps) (loss=0.29715): 100%|██████████| 7/7 [00:17<00:00,  2.54s/it]\n",
      "Training (10240 / 18000 Steps) (loss=0.24870): 100%|██████████| 7/7 [00:17<00:00,  2.56s/it]\n",
      "Training (10247 / 18000 Steps) (loss=0.29897): 100%|██████████| 7/7 [00:18<00:00,  2.59s/it]\n",
      "Training (10254 / 18000 Steps) (loss=0.19304): 100%|██████████| 7/7 [00:18<00:00,  2.60s/it]\n",
      "Training (10261 / 18000 Steps) (loss=0.39694): 100%|██████████| 7/7 [00:18<00:00,  2.61s/it]\n",
      "Training (10268 / 18000 Steps) (loss=0.54846): 100%|██████████| 7/7 [00:17<00:00,  2.52s/it]\n",
      "Training (10275 / 18000 Steps) (loss=0.51665): 100%|██████████| 7/7 [00:18<00:00,  2.65s/it]\n",
      "Training (10282 / 18000 Steps) (loss=0.42186): 100%|██████████| 7/7 [00:18<00:00,  2.57s/it]\n",
      "Training (10289 / 18000 Steps) (loss=0.35284): 100%|██████████| 7/7 [00:19<00:00,  2.86s/it]\n",
      "Training (10296 / 18000 Steps) (loss=0.25362): 100%|██████████| 7/7 [00:17<00:00,  2.57s/it]\n",
      "Validate (10297 / 10 Steps): 100%|██████████| 2/2 [00:15<00:00,  7.54s/it]<00:12,  3.21s/it]\n",
      "Training (10300 / 18000 Steps) (loss=0.33049):  57%|█████▋    | 4/7 [00:28<00:26,  8.78s/it]"
     ]
    },
    {
     "name": "stdout",
     "output_type": "stream",
     "text": [
      "Model Was Not Saved ! Current Best Avg. Dice: 0.6000044941902161 Current Avg. Dice: 0.5431110262870789 Current Avg. tumor Dice: 0.6039868593215942 Current Avg. lymph Dice: 0.48223525285720825\n"
     ]
    },
    {
     "name": "stderr",
     "output_type": "stream",
     "text": [
      "Training (10303 / 18000 Steps) (loss=0.25841): 100%|██████████| 7/7 [00:33<00:00,  4.85s/it]\n",
      "Training (10310 / 18000 Steps) (loss=0.11818): 100%|██████████| 7/7 [00:18<00:00,  2.60s/it]\n",
      "Training (10317 / 18000 Steps) (loss=0.38584): 100%|██████████| 7/7 [00:18<00:00,  2.65s/it]\n",
      "Training (10324 / 18000 Steps) (loss=0.27615): 100%|██████████| 7/7 [00:18<00:00,  2.64s/it]\n",
      "Training (10331 / 18000 Steps) (loss=0.20892): 100%|██████████| 7/7 [00:17<00:00,  2.55s/it]\n",
      "Training (10338 / 18000 Steps) (loss=0.38544): 100%|██████████| 7/7 [00:18<00:00,  2.65s/it]\n",
      "Training (10345 / 18000 Steps) (loss=0.52457): 100%|██████████| 7/7 [00:18<00:00,  2.63s/it]\n",
      "Training (10352 / 18000 Steps) (loss=0.38015): 100%|██████████| 7/7 [00:17<00:00,  2.57s/it]\n",
      "Training (10359 / 18000 Steps) (loss=0.21264): 100%|██████████| 7/7 [00:20<00:00,  2.86s/it]\n",
      "Training (10366 / 18000 Steps) (loss=0.29721): 100%|██████████| 7/7 [00:17<00:00,  2.54s/it]\n",
      "Training (10373 / 18000 Steps) (loss=0.40316): 100%|██████████| 7/7 [00:18<00:00,  2.60s/it]\n",
      "Training (10380 / 18000 Steps) (loss=0.40666): 100%|██████████| 7/7 [00:17<00:00,  2.55s/it]\n",
      "Training (10387 / 18000 Steps) (loss=0.24547): 100%|██████████| 7/7 [00:18<00:00,  2.61s/it]\n",
      "Training (10394 / 18000 Steps) (loss=0.38663): 100%|██████████| 7/7 [00:20<00:00,  2.89s/it]\n",
      "Validate (10395 / 10 Steps): 100%|██████████| 2/2 [00:15<00:00,  7.82s/it]<00:05,  2.60s/it]\n",
      "Training (10400 / 18000 Steps) (loss=0.34916):  86%|████████▌ | 6/7 [00:34<00:07,  7.77s/it]"
     ]
    },
    {
     "name": "stdout",
     "output_type": "stream",
     "text": [
      "Model Was Not Saved ! Current Best Avg. Dice: 0.6000044941902161 Current Avg. Dice: 0.5309951305389404 Current Avg. tumor Dice: 0.600727915763855 Current Avg. lymph Dice: 0.4612623453140259\n"
     ]
    },
    {
     "name": "stderr",
     "output_type": "stream",
     "text": [
      "Training (10401 / 18000 Steps) (loss=0.27941): 100%|██████████| 7/7 [00:35<00:00,  5.12s/it]\n",
      "Training (10408 / 18000 Steps) (loss=0.46637): 100%|██████████| 7/7 [00:18<00:00,  2.69s/it]\n",
      "Training (10415 / 18000 Steps) (loss=0.41180): 100%|██████████| 7/7 [00:17<00:00,  2.54s/it]\n",
      "Training (10422 / 18000 Steps) (loss=0.38211): 100%|██████████| 7/7 [00:18<00:00,  2.64s/it]\n",
      "Training (10429 / 18000 Steps) (loss=0.39021): 100%|██████████| 7/7 [00:19<00:00,  2.74s/it]\n",
      "Training (10436 / 18000 Steps) (loss=0.26985): 100%|██████████| 7/7 [00:18<00:00,  2.65s/it]\n",
      "Training (10443 / 18000 Steps) (loss=0.13844): 100%|██████████| 7/7 [00:18<00:00,  2.66s/it]\n",
      "Training (10450 / 18000 Steps) (loss=0.19771): 100%|██████████| 7/7 [00:20<00:00,  2.86s/it]\n",
      "Training (10457 / 18000 Steps) (loss=0.17454): 100%|██████████| 7/7 [00:18<00:00,  2.65s/it]\n",
      "Training (10464 / 18000 Steps) (loss=0.27754): 100%|██████████| 7/7 [00:18<00:00,  2.71s/it]\n",
      "Training (10471 / 18000 Steps) (loss=0.27919): 100%|██████████| 7/7 [00:18<00:00,  2.65s/it]\n",
      "Training (10478 / 18000 Steps) (loss=0.23834): 100%|██████████| 7/7 [00:18<00:00,  2.71s/it]\n",
      "Training (10485 / 18000 Steps) (loss=0.31902): 100%|██████████| 7/7 [00:19<00:00,  2.74s/it]\n",
      "Training (10492 / 18000 Steps) (loss=0.46435): 100%|██████████| 7/7 [00:19<00:00,  2.78s/it]\n",
      "Training (10499 / 18000 Steps) (loss=0.39537): 100%|██████████| 7/7 [00:19<00:00,  2.78s/it]\n",
      "Validate (10500 / 10 Steps): 100%|██████████| 2/2 [00:14<00:00,  7.47s/it]<?, ?it/s]\n",
      "Training (10500 / 18000 Steps) (loss=0.27803):  14%|█▍        | 1/7 [00:22<02:17, 22.85s/it]"
     ]
    },
    {
     "name": "stdout",
     "output_type": "stream",
     "text": [
      "Model Was Not Saved ! Current Best Avg. Dice: 0.6000044941902161 Current Avg. Dice: 0.5537252426147461 Current Avg. tumor Dice: 0.5941435098648071 Current Avg. lymph Dice: 0.5133069753646851\n"
     ]
    },
    {
     "name": "stderr",
     "output_type": "stream",
     "text": [
      "Training (10506 / 18000 Steps) (loss=0.32754): 100%|██████████| 7/7 [00:33<00:00,  4.79s/it]\n",
      "Training (10513 / 18000 Steps) (loss=0.34263): 100%|██████████| 7/7 [00:16<00:00,  2.32s/it]\n",
      "Training (10520 / 18000 Steps) (loss=0.40717): 100%|██████████| 7/7 [00:18<00:00,  2.64s/it]\n",
      "Training (10527 / 18000 Steps) (loss=0.52953): 100%|██████████| 7/7 [00:18<00:00,  2.66s/it]\n",
      "Training (10534 / 18000 Steps) (loss=0.66721): 100%|██████████| 7/7 [00:19<00:00,  2.75s/it]\n",
      "Training (10541 / 18000 Steps) (loss=0.47194): 100%|██████████| 7/7 [00:18<00:00,  2.70s/it]\n",
      "Training (10548 / 18000 Steps) (loss=0.52873): 100%|██████████| 7/7 [00:18<00:00,  2.68s/it]\n",
      "Training (10555 / 18000 Steps) (loss=0.39836): 100%|██████████| 7/7 [00:18<00:00,  2.58s/it]\n",
      "Training (10562 / 18000 Steps) (loss=0.39195): 100%|██████████| 7/7 [00:18<00:00,  2.58s/it]\n",
      "Training (10569 / 18000 Steps) (loss=0.43838): 100%|██████████| 7/7 [00:20<00:00,  2.88s/it]\n",
      "Training (10576 / 18000 Steps) (loss=0.40125): 100%|██████████| 7/7 [00:18<00:00,  2.66s/it]\n",
      "Training (10583 / 18000 Steps) (loss=0.39968): 100%|██████████| 7/7 [00:19<00:00,  2.83s/it]\n",
      "Training (10590 / 18000 Steps) (loss=0.15091): 100%|██████████| 7/7 [00:19<00:00,  2.80s/it]\n",
      "Training (10597 / 18000 Steps) (loss=0.32402): 100%|██████████| 7/7 [00:18<00:00,  2.68s/it]\n",
      "Validate (10598 / 10 Steps): 100%|██████████| 2/2 [00:15<00:00,  7.68s/it]<00:24,  4.82s/it]\n",
      "Training (10600 / 18000 Steps) (loss=0.27493):  43%|████▎     | 3/7 [00:28<00:42, 10.54s/it]"
     ]
    },
    {
     "name": "stdout",
     "output_type": "stream",
     "text": [
      "Model Was Not Saved ! Current Best Avg. Dice: 0.6000044941902161 Current Avg. Dice: 0.5462660789489746 Current Avg. tumor Dice: 0.5939632654190063 Current Avg. lymph Dice: 0.4985688626766205\n"
     ]
    },
    {
     "name": "stderr",
     "output_type": "stream",
     "text": [
      "Training (10604 / 18000 Steps) (loss=0.25318): 100%|██████████| 7/7 [00:35<00:00,  5.00s/it]\n",
      "Training (10611 / 18000 Steps) (loss=0.34567): 100%|██████████| 7/7 [00:19<00:00,  2.75s/it]\n",
      "Training (10618 / 18000 Steps) (loss=0.40741): 100%|██████████| 7/7 [00:19<00:00,  2.73s/it]\n",
      "Training (10625 / 18000 Steps) (loss=0.53040): 100%|██████████| 7/7 [00:19<00:00,  2.73s/it]\n",
      "Training (10632 / 18000 Steps) (loss=0.34621): 100%|██████████| 7/7 [00:18<00:00,  2.67s/it]\n",
      "Training (10639 / 18000 Steps) (loss=0.34873): 100%|██████████| 7/7 [00:19<00:00,  2.79s/it]\n",
      "Training (10646 / 18000 Steps) (loss=0.25559): 100%|██████████| 7/7 [00:19<00:00,  2.80s/it]\n",
      "Training (10653 / 18000 Steps) (loss=0.37677): 100%|██████████| 7/7 [00:18<00:00,  2.70s/it]\n",
      "Training (10660 / 18000 Steps) (loss=0.27969): 100%|██████████| 7/7 [00:17<00:00,  2.54s/it]\n",
      "Training (10667 / 18000 Steps) (loss=0.28000): 100%|██████████| 7/7 [00:19<00:00,  2.79s/it]\n",
      "Training (10674 / 18000 Steps) (loss=0.52440): 100%|██████████| 7/7 [00:18<00:00,  2.65s/it]\n",
      "Training (10681 / 18000 Steps) (loss=0.46834): 100%|██████████| 7/7 [00:18<00:00,  2.69s/it]\n",
      "Training (10688 / 18000 Steps) (loss=0.54264): 100%|██████████| 7/7 [00:19<00:00,  2.77s/it]\n",
      "Training (10695 / 18000 Steps) (loss=0.12512): 100%|██████████| 7/7 [00:18<00:00,  2.69s/it]\n",
      "Validate (10696 / 10 Steps): 100%|██████████| 2/2 [00:15<00:00,  7.68s/it]<00:07,  2.57s/it]\n",
      "Training (10700 / 18000 Steps) (loss=0.34891):  71%|███████▏  | 5/7 [00:30<00:15,  7.94s/it]"
     ]
    },
    {
     "name": "stdout",
     "output_type": "stream",
     "text": [
      "Model Was Not Saved ! Current Best Avg. Dice: 0.6000044941902161 Current Avg. Dice: 0.5417509078979492 Current Avg. tumor Dice: 0.5903736352920532 Current Avg. lymph Dice: 0.4931281805038452\n"
     ]
    },
    {
     "name": "stderr",
     "output_type": "stream",
     "text": [
      "Training (10702 / 18000 Steps) (loss=0.18838): 100%|██████████| 7/7 [00:33<00:00,  4.74s/it]\n",
      "Training (10709 / 18000 Steps) (loss=0.13709): 100%|██████████| 7/7 [00:19<00:00,  2.82s/it]\n",
      "Training (10716 / 18000 Steps) (loss=0.35141): 100%|██████████| 7/7 [00:18<00:00,  2.60s/it]\n",
      "Training (10723 / 18000 Steps) (loss=0.24032): 100%|██████████| 7/7 [00:18<00:00,  2.62s/it]\n",
      "Training (10730 / 18000 Steps) (loss=0.17145): 100%|██████████| 7/7 [00:18<00:00,  2.59s/it]\n",
      "Training (10737 / 18000 Steps) (loss=0.13227): 100%|██████████| 7/7 [00:17<00:00,  2.53s/it]\n",
      "Training (10744 / 18000 Steps) (loss=0.30712): 100%|██████████| 7/7 [00:18<00:00,  2.67s/it]\n",
      "Training (10751 / 18000 Steps) (loss=0.25480): 100%|██████████| 7/7 [00:18<00:00,  2.63s/it]\n",
      "Training (10758 / 18000 Steps) (loss=0.48013): 100%|██████████| 7/7 [00:19<00:00,  2.73s/it]\n",
      "Training (10765 / 18000 Steps) (loss=0.53346): 100%|██████████| 7/7 [00:17<00:00,  2.54s/it]\n",
      "Training (10772 / 18000 Steps) (loss=0.50641): 100%|██████████| 7/7 [00:18<00:00,  2.62s/it]\n",
      "Training (10779 / 18000 Steps) (loss=0.38878): 100%|██████████| 7/7 [00:18<00:00,  2.61s/it]\n",
      "Training (10786 / 18000 Steps) (loss=0.10252): 100%|██████████| 7/7 [00:18<00:00,  2.59s/it]\n",
      "Training (10793 / 18000 Steps) (loss=0.54274): 100%|██████████| 7/7 [00:17<00:00,  2.55s/it]\n",
      "Validate (10794 / 10 Steps): 100%|██████████| 2/2 [00:15<00:00,  7.72s/it]<00:02,  2.33s/it]\n",
      "Training (10800 / 18000 Steps) (loss=0.47833): 100%|██████████| 7/7 [00:34<00:00,  4.91s/it]\n"
     ]
    },
    {
     "name": "stdout",
     "output_type": "stream",
     "text": [
      "Model Was Not Saved ! Current Best Avg. Dice: 0.6000044941902161 Current Avg. Dice: 0.541063666343689 Current Avg. tumor Dice: 0.6043823957443237 Current Avg. lymph Dice: 0.4777449667453766\n"
     ]
    },
    {
     "name": "stderr",
     "output_type": "stream",
     "text": [
      "Training (10807 / 18000 Steps) (loss=0.10603): 100%|██████████| 7/7 [00:18<00:00,  2.63s/it]\n",
      "Training (10814 / 18000 Steps) (loss=0.34741): 100%|██████████| 7/7 [00:19<00:00,  2.73s/it]\n",
      "Training (10821 / 18000 Steps) (loss=0.27059): 100%|██████████| 7/7 [00:18<00:00,  2.67s/it]\n",
      "Training (10828 / 18000 Steps) (loss=0.46066): 100%|██████████| 7/7 [00:18<00:00,  2.61s/it]\n",
      "Training (10835 / 18000 Steps) (loss=0.52707): 100%|██████████| 7/7 [00:18<00:00,  2.71s/it]\n",
      "Training (10842 / 18000 Steps) (loss=0.42033): 100%|██████████| 7/7 [00:17<00:00,  2.52s/it]\n",
      "Training (10849 / 18000 Steps) (loss=0.40324): 100%|██████████| 7/7 [00:19<00:00,  2.80s/it]\n",
      "Training (10856 / 18000 Steps) (loss=0.25005): 100%|██████████| 7/7 [00:18<00:00,  2.58s/it]\n",
      "Training (10863 / 18000 Steps) (loss=0.52831): 100%|██████████| 7/7 [00:18<00:00,  2.70s/it]\n",
      "Training (10870 / 18000 Steps) (loss=0.41486): 100%|██████████| 7/7 [00:20<00:00,  2.89s/it]\n",
      "Training (10877 / 18000 Steps) (loss=0.43160): 100%|██████████| 7/7 [00:20<00:00,  2.87s/it]\n",
      "Training (10884 / 18000 Steps) (loss=0.39706): 100%|██████████| 7/7 [00:18<00:00,  2.58s/it]\n",
      "Training (10891 / 18000 Steps) (loss=0.13025): 100%|██████████| 7/7 [00:19<00:00,  2.75s/it]\n",
      "Training (10898 / 18000 Steps) (loss=0.42946): 100%|██████████| 7/7 [00:18<00:00,  2.69s/it]\n",
      "Validate (10899 / 10 Steps): 100%|██████████| 2/2 [00:15<00:00,  7.63s/it]<00:46,  7.75s/it]\n",
      "Training (10900 / 18000 Steps) (loss=0.48916):  29%|██▊       | 2/7 [00:25<01:06, 13.38s/it]"
     ]
    },
    {
     "name": "stdout",
     "output_type": "stream",
     "text": [
      "Model Was Not Saved ! Current Best Avg. Dice: 0.6000044941902161 Current Avg. Dice: 0.5481950044631958 Current Avg. tumor Dice: 0.6139079332351685 Current Avg. lymph Dice: 0.48248207569122314\n"
     ]
    },
    {
     "name": "stderr",
     "output_type": "stream",
     "text": [
      "Training (10905 / 18000 Steps) (loss=0.25149): 100%|██████████| 7/7 [00:34<00:00,  4.89s/it]\n",
      "Training (10912 / 18000 Steps) (loss=0.41823): 100%|██████████| 7/7 [00:18<00:00,  2.60s/it]\n",
      "Training (10919 / 18000 Steps) (loss=0.44423): 100%|██████████| 7/7 [00:18<00:00,  2.69s/it]\n",
      "Training (10926 / 18000 Steps) (loss=0.49695): 100%|██████████| 7/7 [00:16<00:00,  2.36s/it]\n",
      "Training (10933 / 18000 Steps) (loss=0.18645): 100%|██████████| 7/7 [00:17<00:00,  2.55s/it]\n",
      "Training (10940 / 18000 Steps) (loss=0.38840): 100%|██████████| 7/7 [00:18<00:00,  2.64s/it]\n",
      "Training (10947 / 18000 Steps) (loss=0.45558): 100%|██████████| 7/7 [00:18<00:00,  2.63s/it]\n",
      "Training (10954 / 18000 Steps) (loss=0.16938): 100%|██████████| 7/7 [00:19<00:00,  2.75s/it]\n",
      "Training (10961 / 18000 Steps) (loss=0.42590): 100%|██████████| 7/7 [00:18<00:00,  2.65s/it]\n",
      "Training (10968 / 18000 Steps) (loss=0.47372): 100%|██████████| 7/7 [00:19<00:00,  2.72s/it]\n",
      "Training (10975 / 18000 Steps) (loss=0.18972): 100%|██████████| 7/7 [00:17<00:00,  2.51s/it]\n",
      "Training (10982 / 18000 Steps) (loss=0.39574): 100%|██████████| 7/7 [00:19<00:00,  2.73s/it]\n",
      "Training (10989 / 18000 Steps) (loss=0.35278): 100%|██████████| 7/7 [00:19<00:00,  2.74s/it]\n",
      "Training (10996 / 18000 Steps) (loss=0.21530): 100%|██████████| 7/7 [00:18<00:00,  2.63s/it]\n",
      "Validate (10997 / 10 Steps): 100%|██████████| 2/2 [00:15<00:00,  7.66s/it]<00:12,  3.10s/it]\n",
      "Training (11000 / 18000 Steps) (loss=0.21278):  57%|█████▋    | 4/7 [00:28<00:26,  8.78s/it]"
     ]
    },
    {
     "name": "stdout",
     "output_type": "stream",
     "text": [
      "Model Was Not Saved ! Current Best Avg. Dice: 0.6000044941902161 Current Avg. Dice: 0.5481945872306824 Current Avg. tumor Dice: 0.605390191078186 Current Avg. lymph Dice: 0.49099910259246826\n"
     ]
    },
    {
     "name": "stderr",
     "output_type": "stream",
     "text": [
      "Training (11003 / 18000 Steps) (loss=0.14720): 100%|██████████| 7/7 [00:33<00:00,  4.82s/it]\n",
      "Training (11010 / 18000 Steps) (loss=0.41706): 100%|██████████| 7/7 [00:18<00:00,  2.70s/it]\n",
      "Training (11017 / 18000 Steps) (loss=0.59831): 100%|██████████| 7/7 [00:18<00:00,  2.66s/it]\n",
      "Training (11024 / 18000 Steps) (loss=0.38526): 100%|██████████| 7/7 [00:18<00:00,  2.68s/it]\n",
      "Training (11031 / 18000 Steps) (loss=0.15438): 100%|██████████| 7/7 [00:18<00:00,  2.58s/it]\n",
      "Training (11038 / 18000 Steps) (loss=0.39017): 100%|██████████| 7/7 [00:17<00:00,  2.51s/it]\n",
      "Training (11045 / 18000 Steps) (loss=0.28662): 100%|██████████| 7/7 [00:18<00:00,  2.61s/it]\n",
      "Training (11052 / 18000 Steps) (loss=0.27206): 100%|██████████| 7/7 [00:17<00:00,  2.54s/it]\n",
      "Training (11059 / 18000 Steps) (loss=0.22762): 100%|██████████| 7/7 [00:18<00:00,  2.59s/it]\n",
      "Training (11066 / 18000 Steps) (loss=0.55668): 100%|██████████| 7/7 [00:19<00:00,  2.81s/it]\n",
      "Training (11073 / 18000 Steps) (loss=0.26088): 100%|██████████| 7/7 [00:17<00:00,  2.54s/it]\n",
      "Training (11080 / 18000 Steps) (loss=0.25747): 100%|██████████| 7/7 [00:17<00:00,  2.51s/it]\n",
      "Training (11087 / 18000 Steps) (loss=0.52832): 100%|██████████| 7/7 [00:17<00:00,  2.55s/it]\n",
      "Training (11094 / 18000 Steps) (loss=0.11920): 100%|██████████| 7/7 [00:19<00:00,  2.73s/it]\n",
      "Validate (11095 / 10 Steps): 100%|██████████| 2/2 [00:15<00:00,  7.65s/it]<00:04,  2.47s/it]\n",
      "Training (11100 / 18000 Steps) (loss=0.51319):  86%|████████▌ | 6/7 [00:33<00:07,  7.55s/it]"
     ]
    },
    {
     "name": "stdout",
     "output_type": "stream",
     "text": [
      "Model Was Not Saved ! Current Best Avg. Dice: 0.6000044941902161 Current Avg. Dice: 0.5344957113265991 Current Avg. tumor Dice: 0.5770572423934937 Current Avg. lymph Dice: 0.49193423986434937\n"
     ]
    },
    {
     "name": "stderr",
     "output_type": "stream",
     "text": [
      "Training (11101 / 18000 Steps) (loss=0.51240): 100%|██████████| 7/7 [00:34<00:00,  4.90s/it]\n",
      "Training (11108 / 18000 Steps) (loss=0.25590): 100%|██████████| 7/7 [00:17<00:00,  2.57s/it]\n",
      "Training (11115 / 18000 Steps) (loss=0.48149): 100%|██████████| 7/7 [00:18<00:00,  2.68s/it]\n",
      "Training (11122 / 18000 Steps) (loss=0.52791): 100%|██████████| 7/7 [00:18<00:00,  2.66s/it]\n",
      "Training (11129 / 18000 Steps) (loss=0.52737): 100%|██████████| 7/7 [00:18<00:00,  2.58s/it]\n",
      "Training (11136 / 18000 Steps) (loss=0.43013): 100%|██████████| 7/7 [00:17<00:00,  2.53s/it]\n",
      "Training (11143 / 18000 Steps) (loss=0.47818): 100%|██████████| 7/7 [00:18<00:00,  2.65s/it]\n",
      "Training (11150 / 18000 Steps) (loss=0.26079): 100%|██████████| 7/7 [00:17<00:00,  2.52s/it]\n",
      "Training (11157 / 18000 Steps) (loss=0.18738): 100%|██████████| 7/7 [00:17<00:00,  2.52s/it]\n",
      "Training (11164 / 18000 Steps) (loss=0.32379): 100%|██████████| 7/7 [00:18<00:00,  2.62s/it]\n",
      "Training (11171 / 18000 Steps) (loss=0.59440): 100%|██████████| 7/7 [00:17<00:00,  2.53s/it]\n",
      "Training (11178 / 18000 Steps) (loss=0.38613): 100%|██████████| 7/7 [00:17<00:00,  2.52s/it]\n",
      "Training (11185 / 18000 Steps) (loss=0.38008): 100%|██████████| 7/7 [00:17<00:00,  2.57s/it]\n",
      "Training (11192 / 18000 Steps) (loss=0.36834): 100%|██████████| 7/7 [00:19<00:00,  2.81s/it]\n",
      "Training (11199 / 18000 Steps) (loss=0.26654): 100%|██████████| 7/7 [00:17<00:00,  2.53s/it]\n",
      "Validate (11200 / 10 Steps): 100%|██████████| 2/2 [00:15<00:00,  7.68s/it]<?, ?it/s]\n",
      "Training (11200 / 18000 Steps) (loss=0.49156):  14%|█▍        | 1/7 [00:22<02:15, 22.54s/it]"
     ]
    },
    {
     "name": "stdout",
     "output_type": "stream",
     "text": [
      "Model Was Not Saved ! Current Best Avg. Dice: 0.6000044941902161 Current Avg. Dice: 0.5510151386260986 Current Avg. tumor Dice: 0.6251097917556763 Current Avg. lymph Dice: 0.4769205152988434\n"
     ]
    },
    {
     "name": "stderr",
     "output_type": "stream",
     "text": [
      "Training (11206 / 18000 Steps) (loss=0.14357): 100%|██████████| 7/7 [00:33<00:00,  4.73s/it]\n",
      "Training (11213 / 18000 Steps) (loss=0.32905): 100%|██████████| 7/7 [00:18<00:00,  2.71s/it]\n",
      "Training (11220 / 18000 Steps) (loss=0.40469): 100%|██████████| 7/7 [00:18<00:00,  2.70s/it]\n",
      "Training (11227 / 18000 Steps) (loss=0.25465): 100%|██████████| 7/7 [00:18<00:00,  2.59s/it]\n",
      "Training (11234 / 18000 Steps) (loss=0.13306): 100%|██████████| 7/7 [00:18<00:00,  2.63s/it]\n",
      "Training (11241 / 18000 Steps) (loss=0.27214): 100%|██████████| 7/7 [00:18<00:00,  2.68s/it]\n",
      "Training (11248 / 18000 Steps) (loss=0.66670): 100%|██████████| 7/7 [00:17<00:00,  2.56s/it]\n",
      "Training (11255 / 18000 Steps) (loss=0.22505): 100%|██████████| 7/7 [00:17<00:00,  2.53s/it]\n",
      "Training (11262 / 18000 Steps) (loss=0.36529): 100%|██████████| 7/7 [00:17<00:00,  2.53s/it]\n",
      "Training (11269 / 18000 Steps) (loss=0.37725): 100%|██████████| 7/7 [00:19<00:00,  2.76s/it]\n",
      "Training (11276 / 18000 Steps) (loss=0.33205): 100%|██████████| 7/7 [00:18<00:00,  2.63s/it]\n",
      "Training (11283 / 18000 Steps) (loss=0.29706): 100%|██████████| 7/7 [00:17<00:00,  2.56s/it]\n",
      "Training (11290 / 18000 Steps) (loss=0.47704): 100%|██████████| 7/7 [00:18<00:00,  2.65s/it]\n",
      "Training (11297 / 18000 Steps) (loss=0.43064): 100%|██████████| 7/7 [00:19<00:00,  2.72s/it]\n",
      "Validate (11298 / 10 Steps): 100%|██████████| 2/2 [00:15<00:00,  7.58s/it]<00:19,  3.95s/it]\n",
      "Training (11300 / 18000 Steps) (loss=0.39041):  43%|████▎     | 3/7 [00:26<00:39,  9.99s/it]"
     ]
    },
    {
     "name": "stdout",
     "output_type": "stream",
     "text": [
      "Model Was Not Saved ! Current Best Avg. Dice: 0.6000044941902161 Current Avg. Dice: 0.5322213768959045 Current Avg. tumor Dice: 0.6094761490821838 Current Avg. lymph Dice: 0.45496666431427\n"
     ]
    },
    {
     "name": "stderr",
     "output_type": "stream",
     "text": [
      "Training (11304 / 18000 Steps) (loss=0.35252): 100%|██████████| 7/7 [00:32<00:00,  4.70s/it]\n",
      "Training (11311 / 18000 Steps) (loss=0.41983): 100%|██████████| 7/7 [00:18<00:00,  2.70s/it]\n",
      "Training (11318 / 18000 Steps) (loss=0.37861): 100%|██████████| 7/7 [00:18<00:00,  2.57s/it]\n",
      "Training (11325 / 18000 Steps) (loss=0.45460): 100%|██████████| 7/7 [00:18<00:00,  2.62s/it]\n",
      "Training (11332 / 18000 Steps) (loss=0.25687): 100%|██████████| 7/7 [00:17<00:00,  2.55s/it]\n",
      "Training (11339 / 18000 Steps) (loss=0.20379): 100%|██████████| 7/7 [00:18<00:00,  2.65s/it]\n",
      "Training (11346 / 18000 Steps) (loss=0.39402): 100%|██████████| 7/7 [00:17<00:00,  2.53s/it]\n",
      "Training (11353 / 18000 Steps) (loss=0.40290): 100%|██████████| 7/7 [00:17<00:00,  2.53s/it]\n",
      "Training (11360 / 18000 Steps) (loss=0.19740): 100%|██████████| 7/7 [00:18<00:00,  2.62s/it]\n",
      "Training (11367 / 18000 Steps) (loss=0.31599): 100%|██████████| 7/7 [00:18<00:00,  2.63s/it]\n",
      "Training (11374 / 18000 Steps) (loss=0.31042): 100%|██████████| 7/7 [00:19<00:00,  2.77s/it]\n",
      "Training (11381 / 18000 Steps) (loss=0.54704): 100%|██████████| 7/7 [00:17<00:00,  2.53s/it]\n",
      "Training (11388 / 18000 Steps) (loss=0.25377): 100%|██████████| 7/7 [00:17<00:00,  2.43s/it]\n",
      "Training (11395 / 18000 Steps) (loss=0.35624): 100%|██████████| 7/7 [00:19<00:00,  2.81s/it]\n",
      "Validate (11396 / 10 Steps): 100%|██████████| 2/2 [00:15<00:00,  7.62s/it]<00:08,  2.70s/it]\n",
      "Training (11400 / 18000 Steps) (loss=0.23882):  71%|███████▏  | 5/7 [00:30<00:15,  7.99s/it]"
     ]
    },
    {
     "name": "stdout",
     "output_type": "stream",
     "text": [
      "Model Was Not Saved ! Current Best Avg. Dice: 0.6000044941902161 Current Avg. Dice: 0.5586390495300293 Current Avg. tumor Dice: 0.6098262071609497 Current Avg. lymph Dice: 0.5074518918991089\n"
     ]
    },
    {
     "name": "stderr",
     "output_type": "stream",
     "text": [
      "Training (11402 / 18000 Steps) (loss=0.34985): 100%|██████████| 7/7 [00:33<00:00,  4.86s/it]\n",
      "Training (11409 / 18000 Steps) (loss=0.47346): 100%|██████████| 7/7 [00:18<00:00,  2.64s/it]\n",
      "Training (11416 / 18000 Steps) (loss=0.39872): 100%|██████████| 7/7 [00:18<00:00,  2.59s/it]\n",
      "Training (11423 / 18000 Steps) (loss=0.47478): 100%|██████████| 7/7 [00:18<00:00,  2.57s/it]\n",
      "Training (11430 / 18000 Steps) (loss=0.34640): 100%|██████████| 7/7 [00:18<00:00,  2.58s/it]\n",
      "Training (11437 / 18000 Steps) (loss=0.21611): 100%|██████████| 7/7 [00:18<00:00,  2.63s/it]\n",
      "Training (11444 / 18000 Steps) (loss=0.29219): 100%|██████████| 7/7 [00:19<00:00,  2.73s/it]\n",
      "Training (11451 / 18000 Steps) (loss=0.60669): 100%|██████████| 7/7 [00:18<00:00,  2.65s/it]\n",
      "Training (11458 / 18000 Steps) (loss=0.35292): 100%|██████████| 7/7 [00:18<00:00,  2.67s/it]\n",
      "Training (11465 / 18000 Steps) (loss=0.47278): 100%|██████████| 7/7 [00:19<00:00,  2.73s/it]\n",
      "Training (11472 / 18000 Steps) (loss=0.46855): 100%|██████████| 7/7 [00:18<00:00,  2.64s/it]\n",
      "Training (11479 / 18000 Steps) (loss=0.44051): 100%|██████████| 7/7 [00:18<00:00,  2.60s/it]\n",
      "Training (11486 / 18000 Steps) (loss=0.53945): 100%|██████████| 7/7 [00:17<00:00,  2.56s/it]\n",
      "Training (11493 / 18000 Steps) (loss=0.22339): 100%|██████████| 7/7 [00:18<00:00,  2.65s/it]\n",
      "Validate (11494 / 10 Steps): 100%|██████████| 2/2 [00:15<00:00,  7.86s/it]<00:02,  2.32s/it]\n",
      "Training (11500 / 18000 Steps) (loss=0.10749): 100%|██████████| 7/7 [00:34<00:00,  4.91s/it]\n"
     ]
    },
    {
     "name": "stdout",
     "output_type": "stream",
     "text": [
      "Model Was Not Saved ! Current Best Avg. Dice: 0.6000044941902161 Current Avg. Dice: 0.5515640377998352 Current Avg. tumor Dice: 0.6114521622657776 Current Avg. lymph Dice: 0.4916759431362152\n"
     ]
    },
    {
     "name": "stderr",
     "output_type": "stream",
     "text": [
      "Training (11507 / 18000 Steps) (loss=0.53079): 100%|██████████| 7/7 [00:18<00:00,  2.67s/it]\n",
      "Training (11514 / 18000 Steps) (loss=0.53344): 100%|██████████| 7/7 [00:17<00:00,  2.53s/it]\n",
      "Training (11521 / 18000 Steps) (loss=0.49636): 100%|██████████| 7/7 [00:18<00:00,  2.57s/it]\n",
      "Training (11528 / 18000 Steps) (loss=0.35916): 100%|██████████| 7/7 [00:19<00:00,  2.83s/it]\n",
      "Training (11535 / 18000 Steps) (loss=0.26038): 100%|██████████| 7/7 [00:17<00:00,  2.53s/it]\n",
      "Training (11542 / 18000 Steps) (loss=0.30455): 100%|██████████| 7/7 [00:19<00:00,  2.71s/it]\n",
      "Training (11549 / 18000 Steps) (loss=0.44235): 100%|██████████| 7/7 [00:18<00:00,  2.57s/it]\n",
      "Training (11556 / 18000 Steps) (loss=0.46584): 100%|██████████| 7/7 [00:19<00:00,  2.75s/it]\n",
      "Training (11563 / 18000 Steps) (loss=0.33685): 100%|██████████| 7/7 [00:19<00:00,  2.78s/it]\n",
      "Training (11570 / 18000 Steps) (loss=0.28841): 100%|██████████| 7/7 [00:18<00:00,  2.67s/it]\n",
      "Training (11577 / 18000 Steps) (loss=0.16509): 100%|██████████| 7/7 [00:19<00:00,  2.85s/it]\n",
      "Training (11584 / 18000 Steps) (loss=0.30663): 100%|██████████| 7/7 [00:18<00:00,  2.62s/it]\n",
      "Training (11591 / 18000 Steps) (loss=0.13767): 100%|██████████| 7/7 [00:17<00:00,  2.53s/it]\n",
      "Training (11598 / 18000 Steps) (loss=0.12930): 100%|██████████| 7/7 [00:17<00:00,  2.55s/it]\n",
      "Validate (11599 / 10 Steps): 100%|██████████| 2/2 [00:15<00:00,  7.54s/it]<00:44,  7.46s/it]\n",
      "Training (11600 / 18000 Steps) (loss=0.24721):  29%|██▊       | 2/7 [00:24<01:06, 13.22s/it]"
     ]
    },
    {
     "name": "stdout",
     "output_type": "stream",
     "text": [
      "Model Was Not Saved ! Current Best Avg. Dice: 0.6000044941902161 Current Avg. Dice: 0.5465854406356812 Current Avg. tumor Dice: 0.6043262481689453 Current Avg. lymph Dice: 0.48884475231170654\n"
     ]
    },
    {
     "name": "stderr",
     "output_type": "stream",
     "text": [
      "Training (11605 / 18000 Steps) (loss=0.43560): 100%|██████████| 7/7 [00:33<00:00,  4.85s/it]\n",
      "Training (11612 / 18000 Steps) (loss=0.53028): 100%|██████████| 7/7 [00:19<00:00,  2.78s/it]\n",
      "Training (11619 / 18000 Steps) (loss=0.39879): 100%|██████████| 7/7 [00:18<00:00,  2.69s/it]\n",
      "Training (11626 / 18000 Steps) (loss=0.36429): 100%|██████████| 7/7 [00:18<00:00,  2.67s/it]\n",
      "Training (11633 / 18000 Steps) (loss=0.26417): 100%|██████████| 7/7 [00:17<00:00,  2.52s/it]\n",
      "Training (11640 / 18000 Steps) (loss=0.35350): 100%|██████████| 7/7 [00:18<00:00,  2.70s/it]\n",
      "Training (11647 / 18000 Steps) (loss=0.16016): 100%|██████████| 7/7 [00:18<00:00,  2.65s/it]\n",
      "Training (11654 / 18000 Steps) (loss=0.49930): 100%|██████████| 7/7 [00:19<00:00,  2.84s/it]\n",
      "Training (11661 / 18000 Steps) (loss=0.36933): 100%|██████████| 7/7 [00:19<00:00,  2.83s/it]\n",
      "Training (11668 / 18000 Steps) (loss=0.53353): 100%|██████████| 7/7 [00:19<00:00,  2.75s/it]\n",
      "Training (11675 / 18000 Steps) (loss=0.54596): 100%|██████████| 7/7 [00:18<00:00,  2.60s/it]\n",
      "Training (11682 / 18000 Steps) (loss=0.12553): 100%|██████████| 7/7 [00:19<00:00,  2.79s/it]\n",
      "Training (11689 / 18000 Steps) (loss=0.26330): 100%|██████████| 7/7 [00:18<00:00,  2.59s/it]\n",
      "Training (11696 / 18000 Steps) (loss=0.22714): 100%|██████████| 7/7 [00:18<00:00,  2.61s/it]\n",
      "Validate (11697 / 10 Steps): 100%|██████████| 2/2 [00:15<00:00,  7.66s/it]<00:13,  3.31s/it]\n",
      "Training (11700 / 18000 Steps) (loss=0.38901):  57%|█████▋    | 4/7 [00:29<00:26,  8.81s/it]"
     ]
    },
    {
     "name": "stdout",
     "output_type": "stream",
     "text": [
      "Model Was Not Saved ! Current Best Avg. Dice: 0.6000044941902161 Current Avg. Dice: 0.538844108581543 Current Avg. tumor Dice: 0.6181197762489319 Current Avg. lymph Dice: 0.45956844091415405\n"
     ]
    },
    {
     "name": "stderr",
     "output_type": "stream",
     "text": [
      "Training (11703 / 18000 Steps) (loss=0.36596): 100%|██████████| 7/7 [00:34<00:00,  4.86s/it]\n",
      "Training (11710 / 18000 Steps) (loss=0.24668): 100%|██████████| 7/7 [00:18<00:00,  2.61s/it]\n",
      "Training (11717 / 18000 Steps) (loss=0.40797): 100%|██████████| 7/7 [00:17<00:00,  2.52s/it]\n",
      "Training (11724 / 18000 Steps) (loss=0.47447): 100%|██████████| 7/7 [00:18<00:00,  2.70s/it]\n",
      "Training (11731 / 18000 Steps) (loss=0.45912): 100%|██████████| 7/7 [00:19<00:00,  2.84s/it]\n",
      "Training (11738 / 18000 Steps) (loss=0.27047): 100%|██████████| 7/7 [00:17<00:00,  2.54s/it]\n",
      "Training (11745 / 18000 Steps) (loss=0.53291): 100%|██████████| 7/7 [00:18<00:00,  2.67s/it]\n",
      "Training (11752 / 18000 Steps) (loss=0.38706): 100%|██████████| 7/7 [00:19<00:00,  2.73s/it]\n",
      "Training (11759 / 18000 Steps) (loss=0.34990): 100%|██████████| 7/7 [00:17<00:00,  2.55s/it]\n",
      "Training (11766 / 18000 Steps) (loss=0.53485): 100%|██████████| 7/7 [00:17<00:00,  2.54s/it]\n",
      "Training (11773 / 18000 Steps) (loss=0.39575): 100%|██████████| 7/7 [00:17<00:00,  2.54s/it]\n",
      "Training (11780 / 18000 Steps) (loss=0.11755): 100%|██████████| 7/7 [00:17<00:00,  2.55s/it]\n",
      "Training (11787 / 18000 Steps) (loss=0.18765): 100%|██████████| 7/7 [00:16<00:00,  2.36s/it]\n",
      "Training (11794 / 18000 Steps) (loss=0.53323): 100%|██████████| 7/7 [00:19<00:00,  2.75s/it]\n",
      "Validate (11795 / 10 Steps): 100%|██████████| 2/2 [00:15<00:00,  7.50s/it]<00:05,  2.61s/it]\n",
      "Training (11800 / 18000 Steps) (loss=0.34821):  86%|████████▌ | 6/7 [00:33<00:07,  7.56s/it]"
     ]
    },
    {
     "name": "stdout",
     "output_type": "stream",
     "text": [
      "Model Was Not Saved ! Current Best Avg. Dice: 0.6000044941902161 Current Avg. Dice: 0.5576045513153076 Current Avg. tumor Dice: 0.6229488849639893 Current Avg. lymph Dice: 0.492260217666626\n"
     ]
    },
    {
     "name": "stderr",
     "output_type": "stream",
     "text": [
      "Training (11801 / 18000 Steps) (loss=0.41282): 100%|██████████| 7/7 [00:34<00:00,  4.96s/it]\n",
      "Training (11808 / 18000 Steps) (loss=0.27748): 100%|██████████| 7/7 [00:20<00:00,  2.99s/it]\n",
      "Training (11815 / 18000 Steps) (loss=0.41793): 100%|██████████| 7/7 [00:18<00:00,  2.63s/it]\n",
      "Training (11822 / 18000 Steps) (loss=0.39024): 100%|██████████| 7/7 [00:18<00:00,  2.59s/it]\n",
      "Training (11829 / 18000 Steps) (loss=0.28168): 100%|██████████| 7/7 [00:19<00:00,  2.75s/it]\n",
      "Training (11836 / 18000 Steps) (loss=0.27871): 100%|██████████| 7/7 [00:18<00:00,  2.62s/it]\n",
      "Training (11843 / 18000 Steps) (loss=0.32890): 100%|██████████| 7/7 [00:19<00:00,  2.72s/it]\n",
      "Training (11850 / 18000 Steps) (loss=0.46922): 100%|██████████| 7/7 [00:18<00:00,  2.69s/it]\n",
      "Training (11857 / 18000 Steps) (loss=0.47070): 100%|██████████| 7/7 [00:18<00:00,  2.62s/it]\n",
      "Training (11864 / 18000 Steps) (loss=0.44658): 100%|██████████| 7/7 [00:18<00:00,  2.62s/it]\n",
      "Training (11871 / 18000 Steps) (loss=0.37937): 100%|██████████| 7/7 [00:18<00:00,  2.64s/it]\n",
      "Training (11878 / 18000 Steps) (loss=0.40696): 100%|██████████| 7/7 [00:18<00:00,  2.57s/it]\n",
      "Training (11885 / 18000 Steps) (loss=0.14510): 100%|██████████| 7/7 [00:18<00:00,  2.69s/it]\n",
      "Training (11892 / 18000 Steps) (loss=0.25955): 100%|██████████| 7/7 [00:19<00:00,  2.72s/it]\n",
      "Training (11899 / 18000 Steps) (loss=0.47833): 100%|██████████| 7/7 [00:19<00:00,  2.79s/it]\n",
      "Validate (11900 / 10 Steps): 100%|██████████| 2/2 [00:15<00:00,  7.72s/it]<?, ?it/s]\n",
      "Training (11900 / 18000 Steps) (loss=0.40437):  14%|█▍        | 1/7 [00:23<02:23, 23.89s/it]"
     ]
    },
    {
     "name": "stdout",
     "output_type": "stream",
     "text": [
      "Model Was Not Saved ! Current Best Avg. Dice: 0.6000044941902161 Current Avg. Dice: 0.5414230227470398 Current Avg. tumor Dice: 0.6186293363571167 Current Avg. lymph Dice: 0.46421676874160767\n"
     ]
    },
    {
     "name": "stderr",
     "output_type": "stream",
     "text": [
      "Training (11906 / 18000 Steps) (loss=0.39175): 100%|██████████| 7/7 [00:35<00:00,  5.00s/it]\n",
      "Training (11913 / 18000 Steps) (loss=0.29141): 100%|██████████| 7/7 [00:18<00:00,  2.58s/it]\n",
      "Training (11920 / 18000 Steps) (loss=0.39669): 100%|██████████| 7/7 [00:18<00:00,  2.62s/it]\n",
      "Training (11927 / 18000 Steps) (loss=0.59970): 100%|██████████| 7/7 [00:19<00:00,  2.77s/it]\n",
      "Training (11934 / 18000 Steps) (loss=0.28870): 100%|██████████| 7/7 [00:19<00:00,  2.72s/it]\n",
      "Training (11941 / 18000 Steps) (loss=0.29166): 100%|██████████| 7/7 [00:17<00:00,  2.48s/it]\n",
      "Training (11948 / 18000 Steps) (loss=0.26480): 100%|██████████| 7/7 [00:18<00:00,  2.67s/it]\n",
      "Training (11955 / 18000 Steps) (loss=0.26297): 100%|██████████| 7/7 [00:17<00:00,  2.55s/it]\n",
      "Training (11962 / 18000 Steps) (loss=0.31430): 100%|██████████| 7/7 [00:18<00:00,  2.71s/it]\n",
      "Training (11969 / 18000 Steps) (loss=0.39278): 100%|██████████| 7/7 [00:18<00:00,  2.68s/it]\n",
      "Training (11976 / 18000 Steps) (loss=0.16116): 100%|██████████| 7/7 [00:18<00:00,  2.66s/it]\n",
      "Training (11983 / 18000 Steps) (loss=0.37722): 100%|██████████| 7/7 [00:19<00:00,  2.74s/it]\n",
      "Training (11990 / 18000 Steps) (loss=0.23516): 100%|██████████| 7/7 [00:17<00:00,  2.56s/it]\n",
      "Training (11997 / 18000 Steps) (loss=0.39098): 100%|██████████| 7/7 [00:19<00:00,  2.85s/it]\n",
      "Validate (11998 / 10 Steps): 100%|██████████| 2/2 [00:15<00:00,  7.71s/it]<00:20,  4.04s/it]\n",
      "Training (12000 / 18000 Steps) (loss=0.49744):  43%|████▎     | 3/7 [00:26<00:40, 10.15s/it]"
     ]
    },
    {
     "name": "stdout",
     "output_type": "stream",
     "text": [
      "Model Was Not Saved ! Current Best Avg. Dice: 0.6000044941902161 Current Avg. Dice: 0.5599316358566284 Current Avg. tumor Dice: 0.6128535866737366 Current Avg. lymph Dice: 0.507009744644165\n"
     ]
    },
    {
     "name": "stderr",
     "output_type": "stream",
     "text": [
      "Training (12004 / 18000 Steps) (loss=0.31769): 100%|██████████| 7/7 [00:33<00:00,  4.76s/it]\n",
      "Training (12011 / 18000 Steps) (loss=0.25173): 100%|██████████| 7/7 [00:19<00:00,  2.81s/it]\n",
      "Training (12018 / 18000 Steps) (loss=0.10823): 100%|██████████| 7/7 [00:18<00:00,  2.71s/it]\n",
      "Training (12025 / 18000 Steps) (loss=0.33392): 100%|██████████| 7/7 [00:19<00:00,  2.72s/it]\n",
      "Training (12032 / 18000 Steps) (loss=0.22086): 100%|██████████| 7/7 [00:20<00:00,  2.88s/it]\n",
      "Training (12039 / 18000 Steps) (loss=0.14560): 100%|██████████| 7/7 [00:17<00:00,  2.55s/it]\n",
      "Training (12046 / 18000 Steps) (loss=0.32738): 100%|██████████| 7/7 [00:19<00:00,  2.77s/it]\n",
      "Training (12053 / 18000 Steps) (loss=0.39089): 100%|██████████| 7/7 [00:18<00:00,  2.70s/it]\n",
      "Training (12060 / 18000 Steps) (loss=0.41904): 100%|██████████| 7/7 [00:19<00:00,  2.72s/it]\n",
      "Training (12067 / 18000 Steps) (loss=0.19706): 100%|██████████| 7/7 [00:18<00:00,  2.70s/it]\n",
      "Training (12074 / 18000 Steps) (loss=0.48443): 100%|██████████| 7/7 [00:19<00:00,  2.76s/it]\n",
      "Training (12081 / 18000 Steps) (loss=0.53222): 100%|██████████| 7/7 [00:19<00:00,  2.80s/it]\n",
      "Training (12088 / 18000 Steps) (loss=0.13493): 100%|██████████| 7/7 [00:17<00:00,  2.53s/it]\n",
      "Training (12095 / 18000 Steps) (loss=0.54921): 100%|██████████| 7/7 [00:19<00:00,  2.78s/it]\n",
      "Validate (12096 / 10 Steps): 100%|██████████| 2/2 [00:15<00:00,  7.97s/it]<00:08,  2.91s/it]\n",
      "Training (12100 / 18000 Steps) (loss=0.38683):  71%|███████▏  | 5/7 [00:32<00:16,  8.30s/it]"
     ]
    },
    {
     "name": "stdout",
     "output_type": "stream",
     "text": [
      "Model Was Not Saved ! Current Best Avg. Dice: 0.6000044941902161 Current Avg. Dice: 0.5437644720077515 Current Avg. tumor Dice: 0.6145744323730469 Current Avg. lymph Dice: 0.47295454144477844\n"
     ]
    },
    {
     "name": "stderr",
     "output_type": "stream",
     "text": [
      "Training (12102 / 18000 Steps) (loss=0.26483): 100%|██████████| 7/7 [00:35<00:00,  5.08s/it]\n",
      "Training (12109 / 18000 Steps) (loss=0.52167): 100%|██████████| 7/7 [00:18<00:00,  2.64s/it]\n",
      "Training (12116 / 18000 Steps) (loss=0.52870): 100%|██████████| 7/7 [00:19<00:00,  2.81s/it]\n",
      "Training (12123 / 18000 Steps) (loss=0.29128): 100%|██████████| 7/7 [00:18<00:00,  2.61s/it]\n",
      "Training (12130 / 18000 Steps) (loss=0.41101): 100%|██████████| 7/7 [00:19<00:00,  2.73s/it]\n",
      "Training (12137 / 18000 Steps) (loss=0.26522): 100%|██████████| 7/7 [00:18<00:00,  2.58s/it]\n",
      "Training (12144 / 18000 Steps) (loss=0.29113): 100%|██████████| 7/7 [00:18<00:00,  2.58s/it]\n",
      "Training (12151 / 18000 Steps) (loss=0.40492): 100%|██████████| 7/7 [00:17<00:00,  2.56s/it]\n",
      "Training (12158 / 18000 Steps) (loss=0.33064): 100%|██████████| 7/7 [00:18<00:00,  2.58s/it]\n",
      "Training (12165 / 18000 Steps) (loss=0.39874): 100%|██████████| 7/7 [00:18<00:00,  2.65s/it]\n",
      "Training (12172 / 18000 Steps) (loss=0.45154): 100%|██████████| 7/7 [00:18<00:00,  2.57s/it]\n",
      "Training (12179 / 18000 Steps) (loss=0.45941): 100%|██████████| 7/7 [00:19<00:00,  2.75s/it]\n",
      "Training (12186 / 18000 Steps) (loss=0.19419): 100%|██████████| 7/7 [00:18<00:00,  2.64s/it]\n",
      "Training (12193 / 18000 Steps) (loss=0.25867): 100%|██████████| 7/7 [00:18<00:00,  2.68s/it]\n",
      "Validate (12194 / 10 Steps): 100%|██████████| 2/2 [00:14<00:00,  7.07s/it]<00:02,  2.39s/it]\n",
      "Training (12200 / 18000 Steps) (loss=0.12356): 100%|██████████| 7/7 [00:33<00:00,  4.75s/it]\n"
     ]
    },
    {
     "name": "stdout",
     "output_type": "stream",
     "text": [
      "Model Was Not Saved ! Current Best Avg. Dice: 0.6000044941902161 Current Avg. Dice: 0.5500704050064087 Current Avg. tumor Dice: 0.6106398105621338 Current Avg. lymph Dice: 0.4895009696483612\n"
     ]
    },
    {
     "name": "stderr",
     "output_type": "stream",
     "text": [
      "Training (12207 / 18000 Steps) (loss=0.46791): 100%|██████████| 7/7 [00:16<00:00,  2.42s/it]\n",
      "Training (12214 / 18000 Steps) (loss=0.25735): 100%|██████████| 7/7 [00:18<00:00,  2.69s/it]\n",
      "Training (12221 / 18000 Steps) (loss=0.30162): 100%|██████████| 7/7 [00:18<00:00,  2.60s/it]\n",
      "Training (12228 / 18000 Steps) (loss=0.40975): 100%|██████████| 7/7 [00:19<00:00,  2.72s/it]\n",
      "Training (12235 / 18000 Steps) (loss=0.26384): 100%|██████████| 7/7 [00:18<00:00,  2.58s/it]\n",
      "Training (12242 / 18000 Steps) (loss=0.12917): 100%|██████████| 7/7 [00:18<00:00,  2.70s/it]\n",
      "Training (12249 / 18000 Steps) (loss=0.27240): 100%|██████████| 7/7 [00:18<00:00,  2.69s/it]\n",
      "Training (12256 / 18000 Steps) (loss=0.53021): 100%|██████████| 7/7 [00:18<00:00,  2.68s/it]\n",
      "Training (12263 / 18000 Steps) (loss=0.51385): 100%|██████████| 7/7 [00:18<00:00,  2.65s/it]\n",
      "Training (12270 / 18000 Steps) (loss=0.39342): 100%|██████████| 7/7 [00:17<00:00,  2.55s/it]\n",
      "Training (12277 / 18000 Steps) (loss=0.60092): 100%|██████████| 7/7 [00:17<00:00,  2.51s/it]\n",
      "Training (12284 / 18000 Steps) (loss=0.37695): 100%|██████████| 7/7 [00:19<00:00,  2.73s/it]\n",
      "Training (12291 / 18000 Steps) (loss=0.40427): 100%|██████████| 7/7 [00:18<00:00,  2.70s/it]\n",
      "Training (12298 / 18000 Steps) (loss=0.39432): 100%|██████████| 7/7 [00:18<00:00,  2.71s/it]\n",
      "Validate (12299 / 10 Steps): 100%|██████████| 2/2 [00:15<00:00,  7.51s/it]<00:48,  8.00s/it]\n",
      "Training (12300 / 18000 Steps) (loss=0.31398):  29%|██▊       | 2/7 [00:24<01:06, 13.27s/it]"
     ]
    },
    {
     "name": "stdout",
     "output_type": "stream",
     "text": [
      "Model Was Not Saved ! Current Best Avg. Dice: 0.6000044941902161 Current Avg. Dice: 0.5545230507850647 Current Avg. tumor Dice: 0.6224142909049988 Current Avg. lymph Dice: 0.4866318106651306\n"
     ]
    },
    {
     "name": "stderr",
     "output_type": "stream",
     "text": [
      "Training (12305 / 18000 Steps) (loss=0.26890): 100%|██████████| 7/7 [00:33<00:00,  4.86s/it]\n",
      "Training (12312 / 18000 Steps) (loss=0.42720): 100%|██████████| 7/7 [00:17<00:00,  2.55s/it]\n",
      "Training (12319 / 18000 Steps) (loss=0.53322): 100%|██████████| 7/7 [00:19<00:00,  2.73s/it]\n",
      "Training (12326 / 18000 Steps) (loss=0.35450): 100%|██████████| 7/7 [00:19<00:00,  2.78s/it]\n",
      "Training (12333 / 18000 Steps) (loss=0.27040): 100%|██████████| 7/7 [00:18<00:00,  2.62s/it]\n",
      "Training (12340 / 18000 Steps) (loss=0.25695): 100%|██████████| 7/7 [00:18<00:00,  2.58s/it]\n",
      "Training (12347 / 18000 Steps) (loss=0.34602): 100%|██████████| 7/7 [00:20<00:00,  2.87s/it]\n",
      "Training (12354 / 18000 Steps) (loss=0.39893): 100%|██████████| 7/7 [00:18<00:00,  2.69s/it]\n",
      "Training (12361 / 18000 Steps) (loss=0.36062): 100%|██████████| 7/7 [00:17<00:00,  2.52s/it]\n",
      "Training (12368 / 18000 Steps) (loss=0.39104): 100%|██████████| 7/7 [00:18<00:00,  2.59s/it]\n",
      "Training (12375 / 18000 Steps) (loss=0.39733): 100%|██████████| 7/7 [00:18<00:00,  2.68s/it]\n",
      "Training (12382 / 18000 Steps) (loss=0.33689): 100%|██████████| 7/7 [00:19<00:00,  2.78s/it]\n",
      "Training (12389 / 18000 Steps) (loss=0.53441): 100%|██████████| 7/7 [00:17<00:00,  2.56s/it]\n",
      "Training (12396 / 18000 Steps) (loss=0.33905): 100%|██████████| 7/7 [00:17<00:00,  2.55s/it]\n",
      "Validate (12397 / 10 Steps): 100%|██████████| 2/2 [00:15<00:00,  7.72s/it]<00:12,  3.16s/it]\n",
      "Training (12400 / 18000 Steps) (loss=0.32167):  57%|█████▋    | 4/7 [00:28<00:26,  8.86s/it]"
     ]
    },
    {
     "name": "stdout",
     "output_type": "stream",
     "text": [
      "Model Was Not Saved ! Current Best Avg. Dice: 0.6000044941902161 Current Avg. Dice: 0.5601864457130432 Current Avg. tumor Dice: 0.6279982328414917 Current Avg. lymph Dice: 0.49237459897994995\n"
     ]
    },
    {
     "name": "stderr",
     "output_type": "stream",
     "text": [
      "Training (12403 / 18000 Steps) (loss=0.18084): 100%|██████████| 7/7 [00:33<00:00,  4.82s/it]\n",
      "Training (12410 / 18000 Steps) (loss=0.25596): 100%|██████████| 7/7 [00:19<00:00,  2.77s/it]\n",
      "Training (12417 / 18000 Steps) (loss=0.22101): 100%|██████████| 7/7 [00:17<00:00,  2.55s/it]\n",
      "Training (12424 / 18000 Steps) (loss=0.32190): 100%|██████████| 7/7 [00:18<00:00,  2.64s/it]\n",
      "Training (12431 / 18000 Steps) (loss=0.38632): 100%|██████████| 7/7 [00:18<00:00,  2.67s/it]\n",
      "Training (12438 / 18000 Steps) (loss=0.37867): 100%|██████████| 7/7 [00:17<00:00,  2.57s/it]\n",
      "Training (12445 / 18000 Steps) (loss=0.38354): 100%|██████████| 7/7 [00:19<00:00,  2.75s/it]\n",
      "Training (12452 / 18000 Steps) (loss=0.40707): 100%|██████████| 7/7 [00:19<00:00,  2.72s/it]\n",
      "Training (12459 / 18000 Steps) (loss=0.19110): 100%|██████████| 7/7 [00:18<00:00,  2.61s/it]\n",
      "Training (12466 / 18000 Steps) (loss=0.33248): 100%|██████████| 7/7 [00:18<00:00,  2.61s/it]\n",
      "Training (12473 / 18000 Steps) (loss=0.26670): 100%|██████████| 7/7 [00:19<00:00,  2.75s/it]\n",
      "Training (12480 / 18000 Steps) (loss=0.52664): 100%|██████████| 7/7 [00:17<00:00,  2.54s/it]\n",
      "Training (12487 / 18000 Steps) (loss=0.38863): 100%|██████████| 7/7 [00:18<00:00,  2.57s/it]\n",
      "Training (12494 / 18000 Steps) (loss=0.24372): 100%|██████████| 7/7 [00:18<00:00,  2.69s/it]\n",
      "Validate (12495 / 10 Steps): 100%|██████████| 2/2 [00:15<00:00,  7.64s/it]<00:04,  2.41s/it]\n",
      "Training (12500 / 18000 Steps) (loss=0.38135):  86%|████████▌ | 6/7 [00:32<00:07,  7.49s/it]"
     ]
    },
    {
     "name": "stdout",
     "output_type": "stream",
     "text": [
      "Model Was Not Saved ! Current Best Avg. Dice: 0.6000044941902161 Current Avg. Dice: 0.5616646409034729 Current Avg. tumor Dice: 0.6300814151763916 Current Avg. lymph Dice: 0.4932478964328766\n"
     ]
    },
    {
     "name": "stderr",
     "output_type": "stream",
     "text": [
      "Training (12501 / 18000 Steps) (loss=0.32788): 100%|██████████| 7/7 [00:33<00:00,  4.74s/it]\n",
      "Training (12508 / 18000 Steps) (loss=0.42605): 100%|██████████| 7/7 [00:18<00:00,  2.60s/it]\n",
      "Training (12515 / 18000 Steps) (loss=0.38873): 100%|██████████| 7/7 [00:20<00:00,  2.87s/it]\n",
      "Training (12522 / 18000 Steps) (loss=0.12000): 100%|██████████| 7/7 [00:18<00:00,  2.70s/it]\n",
      "Training (12529 / 18000 Steps) (loss=0.39929): 100%|██████████| 7/7 [00:19<00:00,  2.74s/it]\n",
      "Training (12536 / 18000 Steps) (loss=0.23588): 100%|██████████| 7/7 [00:18<00:00,  2.69s/it]\n",
      "Training (12543 / 18000 Steps) (loss=0.34386): 100%|██████████| 7/7 [00:17<00:00,  2.55s/it]\n",
      "Training (12550 / 18000 Steps) (loss=0.22951): 100%|██████████| 7/7 [00:20<00:00,  2.92s/it]\n",
      "Training (12557 / 18000 Steps) (loss=0.39753): 100%|██████████| 7/7 [00:16<00:00,  2.35s/it]\n",
      "Training (12564 / 18000 Steps) (loss=0.59656): 100%|██████████| 7/7 [00:17<00:00,  2.57s/it]\n",
      "Training (12571 / 18000 Steps) (loss=0.52800): 100%|██████████| 7/7 [00:18<00:00,  2.61s/it]\n",
      "Training (12578 / 18000 Steps) (loss=0.26088): 100%|██████████| 7/7 [00:18<00:00,  2.64s/it]\n",
      "Training (12585 / 18000 Steps) (loss=0.22677): 100%|██████████| 7/7 [00:18<00:00,  2.67s/it]\n",
      "Training (12592 / 18000 Steps) (loss=0.49885): 100%|██████████| 7/7 [00:19<00:00,  2.74s/it]\n",
      "Training (12599 / 18000 Steps) (loss=0.35707): 100%|██████████| 7/7 [00:17<00:00,  2.57s/it]\n",
      "Validate (12600 / 10 Steps): 100%|██████████| 2/2 [00:15<00:00,  7.63s/it]<?, ?it/s]\n",
      "Training (12600 / 18000 Steps) (loss=0.30341):  14%|█▍        | 1/7 [00:22<02:14, 22.48s/it]"
     ]
    },
    {
     "name": "stdout",
     "output_type": "stream",
     "text": [
      "Model Was Not Saved ! Current Best Avg. Dice: 0.6000044941902161 Current Avg. Dice: 0.5429972410202026 Current Avg. tumor Dice: 0.5997039079666138 Current Avg. lymph Dice: 0.48629069328308105\n"
     ]
    },
    {
     "name": "stderr",
     "output_type": "stream",
     "text": [
      "Training (12606 / 18000 Steps) (loss=0.25812): 100%|██████████| 7/7 [00:33<00:00,  4.73s/it]\n",
      "Training (12613 / 18000 Steps) (loss=0.40404): 100%|██████████| 7/7 [00:18<00:00,  2.71s/it]\n",
      "Training (12620 / 18000 Steps) (loss=0.45913): 100%|██████████| 7/7 [00:18<00:00,  2.64s/it]\n",
      "Training (12627 / 18000 Steps) (loss=0.26112): 100%|██████████| 7/7 [00:18<00:00,  2.69s/it]\n",
      "Training (12634 / 18000 Steps) (loss=0.37504): 100%|██████████| 7/7 [00:18<00:00,  2.58s/it]\n",
      "Training (12641 / 18000 Steps) (loss=0.27090): 100%|██████████| 7/7 [00:18<00:00,  2.62s/it]\n",
      "Training (12648 / 18000 Steps) (loss=0.58676): 100%|██████████| 7/7 [00:17<00:00,  2.51s/it]\n",
      "Training (12655 / 18000 Steps) (loss=0.30368): 100%|██████████| 7/7 [00:18<00:00,  2.57s/it]\n",
      "Training (12662 / 18000 Steps) (loss=0.14923): 100%|██████████| 7/7 [00:17<00:00,  2.52s/it]\n",
      "Training (12669 / 18000 Steps) (loss=0.24456): 100%|██████████| 7/7 [00:18<00:00,  2.58s/it]\n",
      "Training (12676 / 18000 Steps) (loss=0.33620): 100%|██████████| 7/7 [00:18<00:00,  2.67s/it]\n",
      "Training (12683 / 18000 Steps) (loss=0.29998): 100%|██████████| 7/7 [00:18<00:00,  2.58s/it]\n",
      "Training (12690 / 18000 Steps) (loss=0.38896): 100%|██████████| 7/7 [00:18<00:00,  2.63s/it]\n",
      "Training (12697 / 18000 Steps) (loss=0.21781): 100%|██████████| 7/7 [00:18<00:00,  2.64s/it]\n",
      "Validate (12698 / 10 Steps): 100%|██████████| 2/2 [00:15<00:00,  7.65s/it]<00:21,  4.40s/it]\n",
      "Training (12700 / 18000 Steps) (loss=0.31160):  43%|████▎     | 3/7 [00:27<00:41, 10.29s/it]"
     ]
    },
    {
     "name": "stdout",
     "output_type": "stream",
     "text": [
      "Model Was Not Saved ! Current Best Avg. Dice: 0.6000044941902161 Current Avg. Dice: 0.5492101907730103 Current Avg. tumor Dice: 0.6143894195556641 Current Avg. lymph Dice: 0.48403099179267883\n"
     ]
    },
    {
     "name": "stderr",
     "output_type": "stream",
     "text": [
      "Training (12704 / 18000 Steps) (loss=0.46796): 100%|██████████| 7/7 [00:33<00:00,  4.83s/it]\n",
      "Training (12711 / 18000 Steps) (loss=0.13519): 100%|██████████| 7/7 [00:19<00:00,  2.85s/it]\n",
      "Training (12718 / 18000 Steps) (loss=0.44968): 100%|██████████| 7/7 [00:17<00:00,  2.56s/it]\n",
      "Training (12725 / 18000 Steps) (loss=0.62908): 100%|██████████| 7/7 [00:19<00:00,  2.81s/it]\n",
      "Training (12732 / 18000 Steps) (loss=0.33071): 100%|██████████| 7/7 [00:18<00:00,  2.71s/it]\n",
      "Training (12739 / 18000 Steps) (loss=0.22943): 100%|██████████| 7/7 [00:19<00:00,  2.80s/it]\n",
      "Training (12746 / 18000 Steps) (loss=0.28778): 100%|██████████| 7/7 [00:19<00:00,  2.74s/it]\n",
      "Training (12753 / 18000 Steps) (loss=0.55071): 100%|██████████| 7/7 [00:19<00:00,  2.80s/it]\n",
      "Training (12760 / 18000 Steps) (loss=0.25978): 100%|██████████| 7/7 [00:18<00:00,  2.65s/it]\n",
      "Training (12767 / 18000 Steps) (loss=0.28862): 100%|██████████| 7/7 [00:18<00:00,  2.66s/it]\n",
      "Training (X / X Steps) (loss=X.X):   0%|          | 0/7 [00:04<?, ?it/s]\n"
     ]
    },
    {
     "ename": "KeyboardInterrupt",
     "evalue": "",
     "output_type": "error",
     "traceback": [
      "\u001b[0;31m---------------------------------------------------------------------------\u001b[0m",
      "\u001b[0;31mKeyboardInterrupt\u001b[0m                         Traceback (most recent call last)",
      "Cell \u001b[0;32mIn[12], line 109\u001b[0m\n\u001b[1;32m    107\u001b[0m metric_values_lymph \u001b[38;5;241m=\u001b[39m []\n\u001b[1;32m    108\u001b[0m \u001b[38;5;28;01mwhile\u001b[39;00m global_step \u001b[38;5;241m<\u001b[39m max_iterations:\n\u001b[0;32m--> 109\u001b[0m     global_step, dice_val_best, global_step_best \u001b[38;5;241m=\u001b[39m \u001b[43mtrain\u001b[49m\u001b[43m(\u001b[49m\n\u001b[1;32m    110\u001b[0m \u001b[43m        \u001b[49m\u001b[43mglobal_step\u001b[49m\u001b[43m,\u001b[49m\u001b[43m \u001b[49m\u001b[43mtrain_loader\u001b[49m\u001b[43m,\u001b[49m\u001b[43m \u001b[49m\u001b[43mdice_val_best\u001b[49m\u001b[43m,\u001b[49m\u001b[43m \u001b[49m\u001b[43mglobal_step_best\u001b[49m\n\u001b[1;32m    111\u001b[0m \u001b[43m    \u001b[49m\u001b[43m)\u001b[49m\n\u001b[1;32m    112\u001b[0m     \u001b[38;5;66;03m# wandb.log({'learning_rate': optimizer.param_groups[0]['lr']})\u001b[39;00m\n\u001b[1;32m    113\u001b[0m     \u001b[38;5;66;03m# wandb.log({'Best Dice': dice_val_best})\u001b[39;00m\n\u001b[1;32m    114\u001b[0m     epoch \u001b[38;5;241m+\u001b[39m\u001b[38;5;241m=\u001b[39m \u001b[38;5;241m1\u001b[39m \n",
      "Cell \u001b[0;32mIn[12], line 40\u001b[0m, in \u001b[0;36mtrain\u001b[0;34m(global_step, train_loader, dice_val_best, global_step_best)\u001b[0m\n\u001b[1;32m     35\u001b[0m step \u001b[38;5;241m=\u001b[39m \u001b[38;5;241m0\u001b[39m\n\u001b[1;32m     36\u001b[0m epoch_iterator \u001b[38;5;241m=\u001b[39m tqdm(\n\u001b[1;32m     37\u001b[0m     train_loader, desc\u001b[38;5;241m=\u001b[39m\u001b[38;5;124m\"\u001b[39m\u001b[38;5;124mTraining (X / X Steps) (loss=X.X)\u001b[39m\u001b[38;5;124m\"\u001b[39m, dynamic_ncols\u001b[38;5;241m=\u001b[39m\u001b[38;5;28;01mTrue\u001b[39;00m\n\u001b[1;32m     38\u001b[0m )\n\u001b[0;32m---> 40\u001b[0m \u001b[38;5;28;01mfor\u001b[39;00m step, batch \u001b[38;5;129;01min\u001b[39;00m \u001b[38;5;28menumerate\u001b[39m(epoch_iterator):\n\u001b[1;32m     41\u001b[0m     step \u001b[38;5;241m+\u001b[39m\u001b[38;5;241m=\u001b[39m \u001b[38;5;241m1\u001b[39m\n\u001b[1;32m     42\u001b[0m     x, y \u001b[38;5;241m=\u001b[39m (batch[\u001b[38;5;124m\"\u001b[39m\u001b[38;5;124mctpt\u001b[39m\u001b[38;5;124m\"\u001b[39m]\u001b[38;5;241m.\u001b[39mcuda(), batch[\u001b[38;5;124m\"\u001b[39m\u001b[38;5;124mseg\u001b[39m\u001b[38;5;124m\"\u001b[39m]\u001b[38;5;241m.\u001b[39mcuda())\n",
      "File \u001b[0;32m~/miniconda3/envs/clam/lib/python3.8/site-packages/tqdm/std.py:1182\u001b[0m, in \u001b[0;36mtqdm.__iter__\u001b[0;34m(self)\u001b[0m\n\u001b[1;32m   1179\u001b[0m time \u001b[38;5;241m=\u001b[39m \u001b[38;5;28mself\u001b[39m\u001b[38;5;241m.\u001b[39m_time\n\u001b[1;32m   1181\u001b[0m \u001b[38;5;28;01mtry\u001b[39;00m:\n\u001b[0;32m-> 1182\u001b[0m     \u001b[38;5;28;01mfor\u001b[39;00m obj \u001b[38;5;129;01min\u001b[39;00m iterable:\n\u001b[1;32m   1183\u001b[0m         \u001b[38;5;28;01myield\u001b[39;00m obj\n\u001b[1;32m   1184\u001b[0m         \u001b[38;5;66;03m# Update and possibly print the progressbar.\u001b[39;00m\n\u001b[1;32m   1185\u001b[0m         \u001b[38;5;66;03m# Note: does not call self.update(1) for speed optimisation.\u001b[39;00m\n",
      "File \u001b[0;32m~/miniconda3/envs/clam/lib/python3.8/site-packages/torch/utils/data/dataloader.py:630\u001b[0m, in \u001b[0;36m_BaseDataLoaderIter.__next__\u001b[0;34m(self)\u001b[0m\n\u001b[1;32m    627\u001b[0m \u001b[38;5;28;01mif\u001b[39;00m \u001b[38;5;28mself\u001b[39m\u001b[38;5;241m.\u001b[39m_sampler_iter \u001b[38;5;129;01mis\u001b[39;00m \u001b[38;5;28;01mNone\u001b[39;00m:\n\u001b[1;32m    628\u001b[0m     \u001b[38;5;66;03m# TODO(https://github.com/pytorch/pytorch/issues/76750)\u001b[39;00m\n\u001b[1;32m    629\u001b[0m     \u001b[38;5;28mself\u001b[39m\u001b[38;5;241m.\u001b[39m_reset()  \u001b[38;5;66;03m# type: ignore[call-arg]\u001b[39;00m\n\u001b[0;32m--> 630\u001b[0m data \u001b[38;5;241m=\u001b[39m \u001b[38;5;28;43mself\u001b[39;49m\u001b[38;5;241;43m.\u001b[39;49m\u001b[43m_next_data\u001b[49m\u001b[43m(\u001b[49m\u001b[43m)\u001b[49m\n\u001b[1;32m    631\u001b[0m \u001b[38;5;28mself\u001b[39m\u001b[38;5;241m.\u001b[39m_num_yielded \u001b[38;5;241m+\u001b[39m\u001b[38;5;241m=\u001b[39m \u001b[38;5;241m1\u001b[39m\n\u001b[1;32m    632\u001b[0m \u001b[38;5;28;01mif\u001b[39;00m \u001b[38;5;28mself\u001b[39m\u001b[38;5;241m.\u001b[39m_dataset_kind \u001b[38;5;241m==\u001b[39m _DatasetKind\u001b[38;5;241m.\u001b[39mIterable \u001b[38;5;129;01mand\u001b[39;00m \\\n\u001b[1;32m    633\u001b[0m         \u001b[38;5;28mself\u001b[39m\u001b[38;5;241m.\u001b[39m_IterableDataset_len_called \u001b[38;5;129;01mis\u001b[39;00m \u001b[38;5;129;01mnot\u001b[39;00m \u001b[38;5;28;01mNone\u001b[39;00m \u001b[38;5;129;01mand\u001b[39;00m \\\n\u001b[1;32m    634\u001b[0m         \u001b[38;5;28mself\u001b[39m\u001b[38;5;241m.\u001b[39m_num_yielded \u001b[38;5;241m>\u001b[39m \u001b[38;5;28mself\u001b[39m\u001b[38;5;241m.\u001b[39m_IterableDataset_len_called:\n",
      "File \u001b[0;32m~/miniconda3/envs/clam/lib/python3.8/site-packages/torch/utils/data/dataloader.py:1328\u001b[0m, in \u001b[0;36m_MultiProcessingDataLoaderIter._next_data\u001b[0;34m(self)\u001b[0m\n\u001b[1;32m   1325\u001b[0m     \u001b[38;5;28;01mreturn\u001b[39;00m \u001b[38;5;28mself\u001b[39m\u001b[38;5;241m.\u001b[39m_process_data(data)\n\u001b[1;32m   1327\u001b[0m \u001b[38;5;28;01massert\u001b[39;00m \u001b[38;5;129;01mnot\u001b[39;00m \u001b[38;5;28mself\u001b[39m\u001b[38;5;241m.\u001b[39m_shutdown \u001b[38;5;129;01mand\u001b[39;00m \u001b[38;5;28mself\u001b[39m\u001b[38;5;241m.\u001b[39m_tasks_outstanding \u001b[38;5;241m>\u001b[39m \u001b[38;5;241m0\u001b[39m\n\u001b[0;32m-> 1328\u001b[0m idx, data \u001b[38;5;241m=\u001b[39m \u001b[38;5;28;43mself\u001b[39;49m\u001b[38;5;241;43m.\u001b[39;49m\u001b[43m_get_data\u001b[49m\u001b[43m(\u001b[49m\u001b[43m)\u001b[49m\n\u001b[1;32m   1329\u001b[0m \u001b[38;5;28mself\u001b[39m\u001b[38;5;241m.\u001b[39m_tasks_outstanding \u001b[38;5;241m-\u001b[39m\u001b[38;5;241m=\u001b[39m \u001b[38;5;241m1\u001b[39m\n\u001b[1;32m   1330\u001b[0m \u001b[38;5;28;01mif\u001b[39;00m \u001b[38;5;28mself\u001b[39m\u001b[38;5;241m.\u001b[39m_dataset_kind \u001b[38;5;241m==\u001b[39m _DatasetKind\u001b[38;5;241m.\u001b[39mIterable:\n\u001b[1;32m   1331\u001b[0m     \u001b[38;5;66;03m# Check for _IterableDatasetStopIteration\u001b[39;00m\n",
      "File \u001b[0;32m~/miniconda3/envs/clam/lib/python3.8/site-packages/torch/utils/data/dataloader.py:1284\u001b[0m, in \u001b[0;36m_MultiProcessingDataLoaderIter._get_data\u001b[0;34m(self)\u001b[0m\n\u001b[1;32m   1282\u001b[0m \u001b[38;5;28;01melif\u001b[39;00m \u001b[38;5;28mself\u001b[39m\u001b[38;5;241m.\u001b[39m_pin_memory:\n\u001b[1;32m   1283\u001b[0m     \u001b[38;5;28;01mwhile\u001b[39;00m \u001b[38;5;28mself\u001b[39m\u001b[38;5;241m.\u001b[39m_pin_memory_thread\u001b[38;5;241m.\u001b[39mis_alive():\n\u001b[0;32m-> 1284\u001b[0m         success, data \u001b[38;5;241m=\u001b[39m \u001b[38;5;28;43mself\u001b[39;49m\u001b[38;5;241;43m.\u001b[39;49m\u001b[43m_try_get_data\u001b[49m\u001b[43m(\u001b[49m\u001b[43m)\u001b[49m\n\u001b[1;32m   1285\u001b[0m         \u001b[38;5;28;01mif\u001b[39;00m success:\n\u001b[1;32m   1286\u001b[0m             \u001b[38;5;28;01mreturn\u001b[39;00m data\n",
      "File \u001b[0;32m~/miniconda3/envs/clam/lib/python3.8/site-packages/torch/utils/data/dataloader.py:1132\u001b[0m, in \u001b[0;36m_MultiProcessingDataLoaderIter._try_get_data\u001b[0;34m(self, timeout)\u001b[0m\n\u001b[1;32m   1119\u001b[0m \u001b[38;5;28;01mdef\u001b[39;00m \u001b[38;5;21m_try_get_data\u001b[39m(\u001b[38;5;28mself\u001b[39m, timeout\u001b[38;5;241m=\u001b[39m_utils\u001b[38;5;241m.\u001b[39mMP_STATUS_CHECK_INTERVAL):\n\u001b[1;32m   1120\u001b[0m     \u001b[38;5;66;03m# Tries to fetch data from `self._data_queue` once for a given timeout.\u001b[39;00m\n\u001b[1;32m   1121\u001b[0m     \u001b[38;5;66;03m# This can also be used as inner loop of fetching without timeout, with\u001b[39;00m\n\u001b[0;32m   (...)\u001b[0m\n\u001b[1;32m   1129\u001b[0m     \u001b[38;5;66;03m# Returns a 2-tuple:\u001b[39;00m\n\u001b[1;32m   1130\u001b[0m     \u001b[38;5;66;03m#   (bool: whether successfully get data, any: data if successful else None)\u001b[39;00m\n\u001b[1;32m   1131\u001b[0m     \u001b[38;5;28;01mtry\u001b[39;00m:\n\u001b[0;32m-> 1132\u001b[0m         data \u001b[38;5;241m=\u001b[39m \u001b[38;5;28;43mself\u001b[39;49m\u001b[38;5;241;43m.\u001b[39;49m\u001b[43m_data_queue\u001b[49m\u001b[38;5;241;43m.\u001b[39;49m\u001b[43mget\u001b[49m\u001b[43m(\u001b[49m\u001b[43mtimeout\u001b[49m\u001b[38;5;241;43m=\u001b[39;49m\u001b[43mtimeout\u001b[49m\u001b[43m)\u001b[49m\n\u001b[1;32m   1133\u001b[0m         \u001b[38;5;28;01mreturn\u001b[39;00m (\u001b[38;5;28;01mTrue\u001b[39;00m, data)\n\u001b[1;32m   1134\u001b[0m     \u001b[38;5;28;01mexcept\u001b[39;00m \u001b[38;5;167;01mException\u001b[39;00m \u001b[38;5;28;01mas\u001b[39;00m e:\n\u001b[1;32m   1135\u001b[0m         \u001b[38;5;66;03m# At timeout and error, we manually check whether any worker has\u001b[39;00m\n\u001b[1;32m   1136\u001b[0m         \u001b[38;5;66;03m# failed. Note that this is the only mechanism for Windows to detect\u001b[39;00m\n\u001b[1;32m   1137\u001b[0m         \u001b[38;5;66;03m# worker failures.\u001b[39;00m\n",
      "File \u001b[0;32m~/miniconda3/envs/clam/lib/python3.8/queue.py:179\u001b[0m, in \u001b[0;36mQueue.get\u001b[0;34m(self, block, timeout)\u001b[0m\n\u001b[1;32m    177\u001b[0m         \u001b[38;5;28;01mif\u001b[39;00m remaining \u001b[38;5;241m<\u001b[39m\u001b[38;5;241m=\u001b[39m \u001b[38;5;241m0.0\u001b[39m:\n\u001b[1;32m    178\u001b[0m             \u001b[38;5;28;01mraise\u001b[39;00m Empty\n\u001b[0;32m--> 179\u001b[0m         \u001b[38;5;28;43mself\u001b[39;49m\u001b[38;5;241;43m.\u001b[39;49m\u001b[43mnot_empty\u001b[49m\u001b[38;5;241;43m.\u001b[39;49m\u001b[43mwait\u001b[49m\u001b[43m(\u001b[49m\u001b[43mremaining\u001b[49m\u001b[43m)\u001b[49m\n\u001b[1;32m    180\u001b[0m item \u001b[38;5;241m=\u001b[39m \u001b[38;5;28mself\u001b[39m\u001b[38;5;241m.\u001b[39m_get()\n\u001b[1;32m    181\u001b[0m \u001b[38;5;28mself\u001b[39m\u001b[38;5;241m.\u001b[39mnot_full\u001b[38;5;241m.\u001b[39mnotify()\n",
      "File \u001b[0;32m~/miniconda3/envs/clam/lib/python3.8/threading.py:306\u001b[0m, in \u001b[0;36mCondition.wait\u001b[0;34m(self, timeout)\u001b[0m\n\u001b[1;32m    304\u001b[0m \u001b[38;5;28;01melse\u001b[39;00m:\n\u001b[1;32m    305\u001b[0m     \u001b[38;5;28;01mif\u001b[39;00m timeout \u001b[38;5;241m>\u001b[39m \u001b[38;5;241m0\u001b[39m:\n\u001b[0;32m--> 306\u001b[0m         gotit \u001b[38;5;241m=\u001b[39m \u001b[43mwaiter\u001b[49m\u001b[38;5;241;43m.\u001b[39;49m\u001b[43macquire\u001b[49m\u001b[43m(\u001b[49m\u001b[38;5;28;43;01mTrue\u001b[39;49;00m\u001b[43m,\u001b[49m\u001b[43m \u001b[49m\u001b[43mtimeout\u001b[49m\u001b[43m)\u001b[49m\n\u001b[1;32m    307\u001b[0m     \u001b[38;5;28;01melse\u001b[39;00m:\n\u001b[1;32m    308\u001b[0m         gotit \u001b[38;5;241m=\u001b[39m waiter\u001b[38;5;241m.\u001b[39macquire(\u001b[38;5;28;01mFalse\u001b[39;00m)\n",
      "\u001b[0;31mKeyboardInterrupt\u001b[0m: "
     ]
    }
   ],
   "source": [
    "model_dir = '/home/nada.saadi/CTPET/hecktor2022_cropped/7th_CTPT_tokens_ourapproach'\n",
    "def validation(epoch_iterator_val):\n",
    "        model.eval()\n",
    "        with torch.no_grad():\n",
    "            for step, batch in enumerate(epoch_iterator_val):\n",
    "                val_inputs, val_labels = (batch[\"ctpt\"].cuda(), batch[\"seg\"].cuda())\n",
    "                val_outputs = sliding_window_inference(val_inputs, (96, 96, 96), 4, model)\n",
    "                val_labels_list = decollate_batch(val_labels)\n",
    "                val_labels_convert = [\n",
    "                    post_label(val_label_tensor) for val_label_tensor in val_labels_list\n",
    "                ]\n",
    "                val_outputs_list = decollate_batch(val_outputs)\n",
    "                val_output_convert = [\n",
    "                    post_pred(val_pred_tensor) for val_pred_tensor in val_outputs_list\n",
    "                ]\n",
    "                dice_metric(y_pred=val_output_convert, y=val_labels_convert)\n",
    "                dice_metric_batch(y_pred=val_output_convert, y=val_labels_convert)\n",
    "                epoch_iterator_val.set_description(\n",
    "                    \"Validate (%d / %d Steps)\" % (global_step, 10.0)\n",
    "                )\n",
    "            mean_dice_val = dice_metric.aggregate().item()\n",
    "            metric_batch_val = dice_metric_batch.aggregate()\n",
    "\n",
    "            metric_tumor = metric_batch_val[0].item()\n",
    "            metric_lymph = metric_batch_val[1].item()\n",
    "\n",
    "            dice_metric.reset()\n",
    "            dice_metric_batch.reset()\n",
    "        return mean_dice_val, metric_tumor, metric_lymph\n",
    "\n",
    "\n",
    "def train(global_step, train_loader, dice_val_best, global_step_best):\n",
    "        model.train()\n",
    "        epoch_loss = 0\n",
    "        step = 0\n",
    "        epoch_iterator = tqdm(\n",
    "            train_loader, desc=\"Training (X / X Steps) (loss=X.X)\", dynamic_ncols=True\n",
    "        )\n",
    "        \n",
    "        for step, batch in enumerate(epoch_iterator):\n",
    "            step += 1\n",
    "            x, y = (batch[\"ctpt\"].cuda(), batch[\"seg\"].cuda())\n",
    "            logit_map = model(x,mode='ct')\n",
    "            \n",
    "            loss = loss_function(logit_map, y)\n",
    "            loss.backward()\n",
    "            epoch_loss += loss.item()\n",
    "            optimizer.step()\n",
    "            optimizer.zero_grad()\n",
    "            epoch_iterator.set_description(\n",
    "                \"Training (%d / %d Steps) (loss=%2.5f)\"\n",
    "                % (global_step, max_iterations, loss)\n",
    "            )\n",
    "            \n",
    "            if (\n",
    "                global_step % eval_num == 0 and global_step != 0\n",
    "            ) or global_step == max_iterations:\n",
    "                epoch_iterator_val = tqdm(\n",
    "                    val_loader, desc=\"Validate (X / X Steps) (dice=X.X)\", dynamic_ncols=True\n",
    "                )\n",
    "                dice_val, metric_tumor, metric_lymph = validation(epoch_iterator_val)\n",
    "                epoch_loss /= step\n",
    "                epoch_loss_values.append(epoch_loss)\n",
    "                metric_values.append(dice_val)\n",
    "                metric_values_tumor.append(metric_tumor)\n",
    "                metric_values_lymph.append(metric_lymph)\n",
    "                if dice_val > dice_val_best:\n",
    "                    dice_val_best = dice_val\n",
    "                    global_step_best = global_step\n",
    "                    torch.save(\n",
    "                        model.state_dict(), os.path.join(model_dir, \"7thctpt_tokens_ourapproach.pth\")\n",
    "                    )\n",
    "                    print(\n",
    "                        \"Model Was Saved ! Current Best Avg. Dice: {} Current Avg. Dice: {} Current Avg. tumor Dice: {} Current Avg. lymph Dice: {}\".format(\n",
    "                            dice_val_best, dice_val, metric_tumor, metric_lymph\n",
    "                        )\n",
    "                    )\n",
    "                else:\n",
    "                    print(\n",
    "                        \"Model Was Not Saved ! Current Best Avg. Dice: {} Current Avg. Dice: {} Current Avg. tumor Dice: {} Current Avg. lymph Dice: {}\".format(\n",
    "                            dice_val_best, dice_val,  metric_tumor, metric_lymph\n",
    "                        )\n",
    "                    )\n",
    "            global_step += 1\n",
    "        return global_step, dice_val_best, global_step_best\n",
    "\n",
    "       \n",
    "\n",
    "max_iterations = 18000\n",
    "eval_num = 100\n",
    "\n",
    "post_label = AsDiscrete(to_onehot=3)\n",
    "post_pred = AsDiscrete(argmax=True, to_onehot=3)\n",
    "\n",
    "dice_metric = DiceMetric(include_background=False, reduction=\"mean\", get_not_nans=False)\n",
    "dice_metric_batch = DiceMetric(include_background=False, reduction=\"mean_batch\")\n",
    "\n",
    "epoch = 0\n",
    "max_num_epochs = 530\n",
    "\n",
    "global_step = 0\n",
    "dice_val_best = 0.0\n",
    "global_step_best = 0\n",
    "epoch_loss_values = []\n",
    "metric_values = []\n",
    "metric_values_tumor = []\n",
    "metric_values_lymph = []\n",
    "while global_step < max_iterations:\n",
    "    global_step, dice_val_best, global_step_best = train(\n",
    "        global_step, train_loader, dice_val_best, global_step_best\n",
    "    )\n",
    "    # wandb.log({'learning_rate': optimizer.param_groups[0]['lr']})\n",
    "    # wandb.log({'Best Dice': dice_val_best})\n",
    "    epoch += 1 \n",
    "    #optimizer.param_groups[0]['lr'] = poly_lr(epoch, max_num_epochs, 0.005676 , 0.9)\n",
    "# model.load_state_dict(torch.load(os.path.join(model_dir, \"best_metric_luck_UNETr_prompt.pth\")))"
   ]
  }
 ],
 "metadata": {
  "kernelspec": {
   "display_name": "clam",
   "language": "python",
   "name": "python3"
  },
  "language_info": {
   "codemirror_mode": {
    "name": "ipython",
    "version": 3
   },
   "file_extension": ".py",
   "mimetype": "text/x-python",
   "name": "python",
   "nbconvert_exporter": "python",
   "pygments_lexer": "ipython3",
   "version": "3.8.0"
  }
 },
 "nbformat": 4,
 "nbformat_minor": 2
}
