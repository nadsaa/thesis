{
 "cells": [
  {
   "cell_type": "code",
   "execution_count": 1,
   "metadata": {},
   "outputs": [
    {
     "name": "stdout",
     "output_type": "stream",
     "text": [
      "1\n"
     ]
    },
    {
     "name": "stderr",
     "output_type": "stream",
     "text": [
      "/tmp/ipykernel_1631468/264845013.py:9: TqdmWarning: IProgress not found. Please update jupyter and ipywidgets. See https://ipywidgets.readthedocs.io/en/stable/user_install.html\n",
      "  from tqdm.autonotebook import tqdm\n"
     ]
    }
   ],
   "source": [
    "import torch\n",
    "import torch.nn as nn\n",
    "from torch.utils.data import DataLoader\n",
    "from collections.abc import Sequence\n",
    "\n",
    "from unetr import CustomedUNETR\n",
    "\n",
    "import json\n",
    "from tqdm.autonotebook import tqdm\n",
    "import os\n",
    "os.environ[\"CUDA_DEVICE_ORDER\"] = \"PCI_BUS_ID\"\n",
    "os.environ[\"CUDA_VISIBLE_DEVICES\"] = \"1\" \n",
    "\n",
    "print(torch.cuda.device_count())\n",
    "torch.backends.cudnn.benchmark = True\n",
    "device = torch.device(\"cuda\" if torch.cuda.is_available() else \"cpu\")"
   ]
  },
  {
   "cell_type": "code",
   "execution_count": 2,
   "metadata": {},
   "outputs": [],
   "source": [
    "from monai.transforms import EnsureTyped\n",
    "from monai.transforms import Compose, LoadImaged, ScaleIntensityRanged, ConcatItemsd\n",
    "from monai.metrics import DiceMetric\n",
    "from monai.losses import DiceCELoss, DiceFocalLoss, FocalLoss\n",
    "from monai.inferers import sliding_window_inference\n",
    "\n",
    "\n",
    "from monai.data import (\n",
    "    Dataset,\n",
    "    DataLoader,\n",
    "    CacheDataset,\n",
    "    load_decathlon_datalist,\n",
    "    decollate_batch,\n",
    ")\n",
    "\n",
    "\n",
    "from monai.transforms import (\n",
    "    AsDiscrete,\n",
    "    Compose,\n",
    "    CropForegroundd,\n",
    "    LoadImaged,\n",
    "    Orientationd,\n",
    "    RandFlipd,\n",
    "    RandCropByPosNegLabeld,\n",
    "    RandShiftIntensityd,\n",
    "    ScaleIntensityRanged,\n",
    "    Spacingd,\n",
    "    RandRotate90d,\n",
    "    MapTransform,\n",
    "    ScaleIntensityd,\n",
    "    #AddChanneld,\n",
    "    SpatialPadd,\n",
    "    CenterSpatialCropd,\n",
    "    EnsureChannelFirstd,\n",
    "    ConcatItemsd,\n",
    "    AdjustContrastd, \n",
    "    Rand3DElasticd,\n",
    "    HistogramNormalized,\n",
    "    NormalizeIntensityd,\n",
    "    Invertd,\n",
    "    SaveImage,\n",
    "\n",
    ")\n",
    "import monai"
   ]
  },
  {
   "cell_type": "code",
   "execution_count": 3,
   "metadata": {},
   "outputs": [],
   "source": [
    "data_dir = '/home/nada.saadi/MIS-FM/hecktor2022_cropped'\n",
    "json_dir = \"/home/nada.saadi/CTPET/hecktor2022_cropped/HGJ_PET_train_new.json\""
   ]
  },
  {
   "cell_type": "code",
   "execution_count": 4,
   "metadata": {},
   "outputs": [
    {
     "name": "stdout",
     "output_type": "stream",
     "text": [
      "39 15\n"
     ]
    }
   ],
   "source": [
    "def datafold_read(datalist, basedir, fold=0, key=\"training\"):\n",
    "    with open(datalist) as f:\n",
    "        json_data = json.load(f)\n",
    "\n",
    "    json_data = json_data[key]\n",
    "\n",
    "    for d in json_data:\n",
    "        for k in d:\n",
    "            if isinstance(d[k], list):\n",
    "                d[k] = [os.path.join(basedir, iv) for iv in d[k]]\n",
    "            elif isinstance(d[k], str):\n",
    "                d[k] = os.path.join(basedir, d[k]) if len(d[k]) > 0 else d[k]\n",
    "\n",
    "    tr = []\n",
    "    val = []\n",
    "    for d in json_data:\n",
    "        if \"fold\" in d and d[\"fold\"] == fold:\n",
    "            val.append(d)\n",
    "        else:\n",
    "            tr.append(d)\n",
    "\n",
    "    return tr, val\n",
    "\n",
    "\n",
    "train_data, valid_data = datafold_read(datalist=json_dir, basedir=data_dir, fold=0)\n",
    "print(len(train_data), len(valid_data))"
   ]
  },
  {
   "cell_type": "code",
   "execution_count": 5,
   "metadata": {},
   "outputs": [],
   "source": [
    "class ClipCT(MapTransform):\n",
    "    \"\"\"\n",
    "    Convert labels to multi channels based on hecktor classes:\n",
    "    label 1 is the tumor\n",
    "    label 2 is the lymph node\n",
    "\n",
    "    \"\"\"\n",
    "\n",
    "    def __call__(self, data):\n",
    "        d = dict(data)\n",
    "        for key in self.keys:\n",
    "            if key == \"ct\":\n",
    "                d[key] = torch.clip(d[key], min=-200, max=200)\n",
    "            # elif key == \"pt\":\n",
    "            #     d[key] = torch.clip(d[key], d[key].min(), 5)\n",
    "        return d\n",
    "\n",
    "class MulPTFM(MapTransform):\n",
    "    \"\"\"\n",
    "    Mult PT and FM \n",
    "\n",
    "    \"\"\"\n",
    "\n",
    "    def __call__(self, data):\n",
    "        d = dict(data)\n",
    "\n",
    "        fm = d[\"ct\"] > 0\n",
    "        d[\"pt\"] = d[\"pt\"] * fm\n",
    "        return d\n",
    "\n",
    "class SelectClass(MapTransform):\n",
    "    \"\"\"\n",
    "    Select the class for which you want to fine tune the model \n",
    "\n",
    "    \"\"\"\n",
    "    # def __init__(self, keys, cls=1):\n",
    "    #     super(self).__init__(keys)\n",
    "    #     self.cls = cls\n",
    "\n",
    "    def __call__(self, data):\n",
    "        d = dict(data)\n",
    "        d[\"seg\"][d[\"seg\"] == 1] = 0\n",
    "        # d[\"seg\"][d[\"seg\"] == 2] = 1\n",
    "        \n",
    "        return d"
   ]
  },
  {
   "cell_type": "code",
   "execution_count": 6,
   "metadata": {},
   "outputs": [],
   "source": [
    "num_samples = 4\n",
    "\n",
    "train_transforms = Compose(\n",
    "    [\n",
    "        LoadImaged(keys=[\"pt\", \"seg\"], ensure_channel_first = True),\n",
    "        SpatialPadd(keys=[\"pt\",  \"seg\"], spatial_size=(200, 200, 310), method='end'),\n",
    "        Orientationd(keys=[\"pt\",  \"seg\"], axcodes=\"PLS\"),\n",
    "        #NormalizeIntensityd(keys=[\"pt\"]),\n",
    "        ClipCT(keys=[\"pt\"]),\n",
    "        ScaleIntensityd(keys=[\"pt\"], minv=0, maxv=1),\n",
    "        #MulPTFM(keys=[\"ct\",\"pt\"]),\n",
    "        #ConcatItemsd(keys=[\"pt\", \"ct\"], name=\"ctpt\"),\n",
    "        #NormalizeIntensityd(keys=[\"ctpt\"], channel_wise=True),\n",
    "        RandCropByPosNegLabeld(\n",
    "            keys=[\"pt\", \"seg\"],\n",
    "            label_key=\"seg\",\n",
    "            spatial_size=(96, 96, 96),\n",
    "            pos=1,\n",
    "            neg=1,\n",
    "            num_samples=num_samples,\n",
    "            image_key=\"pt\",\n",
    "            image_threshold=0,\n",
    "        ),\n",
    "        RandFlipd(\n",
    "            keys=[\"pt\", \"seg\"],\n",
    "            spatial_axis=[0],\n",
    "            prob=0.20,\n",
    "        ),\n",
    "        RandFlipd(\n",
    "            keys=[\"pt\", \"seg\"],\n",
    "            spatial_axis=[1],\n",
    "            prob=0.20,\n",
    "        ),\n",
    "        RandFlipd(\n",
    "            keys=[\"pt\", \"seg\"],\n",
    "            spatial_axis=[2],\n",
    "            prob=0.20,\n",
    "        ),\n",
    "        RandRotate90d(\n",
    "            keys=[\"pt\", \"seg\"],\n",
    "            prob=0.20,\n",
    "            max_k=3,\n",
    "        ),\n",
    "    ]\n",
    ")\n",
    "val_transforms = Compose(\n",
    "    [\n",
    "        LoadImaged(keys=[\"pt\", \"seg\"], ensure_channel_first = True),\n",
    "        SpatialPadd(keys=[\"pt\", \"seg\"], spatial_size=(200, 200, 310), method='end'),\n",
    "        Orientationd(keys=[\"pt\",  \"seg\"], axcodes=\"PLS\"),\n",
    "        #NormalizeIntensityd(keys=[\"pt\"]),\n",
    "        ClipCT(keys=[\"pt\"]),\n",
    "        ScaleIntensityd(keys=[\"pt\"], minv=0, maxv=1),\n",
    "        #MulPTFM(keys=[\"ct\",\"pt\"]),\n",
    "        #ConcatItemsd(keys=[\"pt\", \"ct\"], name=\"ctpt\"),\n",
    "    ]\n",
    ")"
   ]
  },
  {
   "cell_type": "code",
   "execution_count": 7,
   "metadata": {},
   "outputs": [],
   "source": [
    "train_ds = monai.data.Dataset(data=train_data, transform=train_transforms)\n",
    "\n",
    "train_loader = DataLoader(\n",
    "    train_ds,\n",
    "    batch_size=2,\n",
    "    shuffle=True,\n",
    "    num_workers=8,\n",
    "    pin_memory=torch.cuda.is_available(),\n",
    "    )\n",
    "\n",
    "val_ds = monai.data.Dataset(data=valid_data, transform=val_transforms)\n",
    "\n",
    "val_loader = DataLoader(\n",
    "    val_ds, \n",
    "    batch_size=2, \n",
    "    num_workers=8, \n",
    "    shuffle= False)"
   ]
  },
  {
   "cell_type": "code",
   "execution_count": 8,
   "metadata": {},
   "outputs": [
    {
     "name": "stdout",
     "output_type": "stream",
     "text": [
      "Nada's version of UNETR\n",
      "(96, 96, 96)\n",
      "(16, 16, 16)\n",
      "(6, 6, 6)\n",
      "768\n",
      "zaz w dakchi ya s lbnat\n"
     ]
    },
    {
     "name": "stderr",
     "output_type": "stream",
     "text": [
      "/home/nada.saadi/miniconda3/envs/clam/lib/python3.8/site-packages/monai/utils/deprecate_utils.py:221: FutureWarning: unetr CustomedUNETR.__init__:pos_embed: Argument `pos_embed` has been deprecated since version 1.2. It will be removed in version 1.4. please use `proj_type` instead.\n",
      "  warn_deprecated(argname, msg, warning_category)\n"
     ]
    }
   ],
   "source": [
    "model = CustomedUNETR(\n",
    "    in_channels=1,  # Number of input channels\n",
    "    out_channels=3,  # Number of output channels\n",
    "    img_size=(96, 96, 96),  # Size of the input image\n",
    "    feature_size=48,  # Size of the feature maps\n",
    "    hidden_size=768,\n",
    "    num_heads=12,  # Size of the hidden layers in the transformer\n",
    "    mlp_dim=3072,  # Dimension of the MLP in the transformer\n",
    "    pos_embed=\"perceptron\",  # Type of positional embedding\n",
    "    norm_name=\"instance\",  # Type of normalization\n",
    "    res_block=True,  # Whether to use residual blocks\n",
    "    dropout_rate=0.0,\n",
    "    proj_type=\"conv\",\n",
    "    r=4,\n",
    "    lora_layer=True,\n",
    "    use_ct_encoder=True,\n",
    "    use_pet_encoder=False,\n",
    ").to(device)\n",
    "\n",
    "pt_weights_5 = '/home/nada.saadi/CTPET/hecktor2022_cropped/5th_ctpt_tokens_ourapproach/5th_center_our_approach.pth'\n",
    "state_dict = torch.load(pt_weights_5)\n",
    "model_state_dict = model.state_dict()\n",
    "for name, param in state_dict.items():\n",
    "    if name in model_state_dict:\n",
    "        if param.shape == model_state_dict[name].shape:\n",
    "            model_state_dict[name] = param\n",
    "\n",
    "model.load_state_dict(model_state_dict) \n",
    "\n",
    "for name, param in model.named_parameters():\n",
    "    if \"decoder5\" in name or \"decoder4\" in name or \"decoder3\" in name or \"decoder2\" in name:\n",
    "        param.requires_grad = False"
   ]
  },
  {
   "cell_type": "code",
   "execution_count": 9,
   "metadata": {},
   "outputs": [],
   "source": [
    "def poly_lr(epoch, max_epochs, initial_lr, exponent=0.9):\n",
    "    return initial_lr * (1 - epoch / max_epochs)**exponent\n",
    "\n",
    "model_dir='/home/nada.saadi/CTPET/hecktor2022_cropped/6th_PET_ourapproach'\n",
    "max_iterations = 18000\n",
    "eval_num = 100\n",
    "\n",
    "## running stats  \n",
    "global_step = 0\n",
    "dice_val_best = 0.0\n",
    "global_step_best = 0\n",
    "epoch_loss_values = []\n",
    "metric_values = []\n",
    "metric_values_tumor = []\n",
    "metric_values_lymph = []\n",
    "\n",
    "\n",
    "loss_function = DiceCELoss(to_onehot_y=True, softmax=True)\n",
    "optimizer = torch.optim.AdamW(model.parameters(), lr=1e-4, weight_decay=1e-5)\n",
    "\n",
    "\n",
    "post_label = AsDiscrete(to_onehot=3)\n",
    "post_pred = AsDiscrete(argmax=True, to_onehot=3)\n",
    "\n",
    "dice_metric = DiceMetric(include_background=False, reduction=\"mean\", get_not_nans=False)\n",
    "dice_metric_batch = DiceMetric(include_background=False, reduction=\"mean_batch\")\n",
    "\n",
    "\n",
    "##-----------------------------------------------------------------------------\n",
    "\n",
    "def validation(epoch_iterator_val):\n",
    "        model.eval()\n",
    "        with torch.no_grad():\n",
    "            for step, batch in enumerate(epoch_iterator_val):\n",
    "                val_inputs, val_labels = (batch[\"pt\"].cuda(), batch[\"seg\"].cuda())\n",
    "                val_outputs = sliding_window_inference(val_inputs, (96, 96, 96), 4, model)\n",
    "                val_labels_list = decollate_batch(val_labels)\n",
    "                val_labels_convert = [\n",
    "                    post_label(val_label_tensor) for val_label_tensor in val_labels_list\n",
    "                ]\n",
    "                val_outputs_list = decollate_batch(val_outputs)\n",
    "                val_output_convert = [\n",
    "                    post_pred(val_pred_tensor) for val_pred_tensor in val_outputs_list\n",
    "                ]\n",
    "                dice_metric(y_pred=val_output_convert, y=val_labels_convert)\n",
    "                dice_metric_batch(y_pred=val_output_convert, y=val_labels_convert)\n",
    "                epoch_iterator_val.set_description(\n",
    "                    \"Validate (%d / %d Steps)\" % (global_step, 10.0)\n",
    "                )\n",
    "            mean_dice_val = dice_metric.aggregate().item()\n",
    "            metric_batch_val = dice_metric_batch.aggregate()\n",
    "\n",
    "            metric_tumor = metric_batch_val[0].item()\n",
    "            metric_lymph = metric_batch_val[1].item()\n",
    "\n",
    "            dice_metric.reset()\n",
    "            dice_metric_batch.reset()\n",
    "        return mean_dice_val, metric_tumor, metric_lymph\n",
    "\n",
    "\n",
    "\n",
    "def train(global_step, train_loader, dice_val_best, global_step_best):\n",
    "        model.train()\n",
    "        epoch_loss = 0 \n",
    "        step = 0\n",
    "        epoch_iterator = tqdm(\n",
    "            train_loader, desc=\"Training (X / X Steps) (loss=X.X)\", dynamic_ncols=True\n",
    "        )\n",
    "        \n",
    "        for step, batch in enumerate(epoch_iterator):\n",
    "            step += 1\n",
    "            x, y = (batch[\"pt\"].cuda(), batch[\"seg\"].cuda())\n",
    "            logit_map = model(x)\n",
    "            loss = loss_function(logit_map, y)\n",
    "            loss.backward()\n",
    "            epoch_loss += loss.item() \n",
    "            optimizer.step()\n",
    "            optimizer.zero_grad()\n",
    "            epoch_iterator.set_description(\n",
    "                \"Training (%d / %d Steps) (loss=%2.5f)\"\n",
    "                % (global_step, max_iterations, loss)\n",
    "            )\n",
    "            \n",
    "            if (\n",
    "                global_step % eval_num == 0 and global_step != 0\n",
    "            ) or global_step == max_iterations:\n",
    "                epoch_iterator_val = tqdm(\n",
    "                    val_loader, desc=\"Validate (X / X Steps) (dice=X.X)\", dynamic_ncols=True\n",
    "                )\n",
    "                dice_val, metric_tumor, metric_lymph = validation(epoch_iterator_val)\n",
    "                epoch_loss /= step\n",
    "                epoch_loss_values.append(epoch_loss)\n",
    "                metric_values.append(dice_val)\n",
    "                metric_values_tumor.append(metric_tumor)\n",
    "                metric_values_lymph.append(metric_lymph)\n",
    "                if dice_val > dice_val_best:\n",
    "                    dice_val_best = dice_val\n",
    "                    global_step_best = global_step\n",
    "                    torch.save(\n",
    "                        model.state_dict(), os.path.join(model_dir, \"6th_center_PET_our_approach.pth\")\n",
    "                    )\n",
    "                    print(\n",
    "                        \"Model Was Saved ! Current Best Avg. Dice: {} Current Avg. Dice: {} Current Avg. tumor Dice: {} Current Avg. lymph Dice: {}\".format(\n",
    "                            dice_val_best, dice_val, metric_tumor, metric_lymph\n",
    "                        )\n",
    "                    )\n",
    "                else:\n",
    "                    print(\n",
    "                        \"Model Was Not Saved ! Current Best Avg. Dice: {} Current Avg. Dice: {} Current Avg. tumor Dice: {} Current Avg. lymph Dice: {}\".format(\n",
    "                            dice_val_best, dice_val,  metric_tumor, metric_lymph\n",
    "                        )\n",
    "                    )\n",
    "            global_step += 1\n",
    "        return global_step, dice_val_best, global_step_best\n"
   ]
  },
  {
   "cell_type": "code",
   "execution_count": 10,
   "metadata": {},
   "outputs": [
    {
     "name": "stderr",
     "output_type": "stream",
     "text": [
      "Training (19 / 18000 Steps) (loss=0.93794): 100%|██████████| 20/20 [01:41<00:00,  5.07s/it]\n",
      "Training (39 / 18000 Steps) (loss=0.82159): 100%|██████████| 20/20 [00:46<00:00,  2.32s/it]\n",
      "Training (59 / 18000 Steps) (loss=0.69923): 100%|██████████| 20/20 [00:35<00:00,  1.78s/it]\n",
      "Training (79 / 18000 Steps) (loss=0.70453): 100%|██████████| 20/20 [00:34<00:00,  1.75s/it]\n",
      "Training (99 / 18000 Steps) (loss=0.71250): 100%|██████████| 20/20 [00:35<00:00,  1.77s/it]\n",
      "Validate (100 / 10 Steps): 100%|██████████| 8/8 [00:27<00:00,  3.48s/it]4<?, ?it/s]\n",
      "Training (100 / 18000 Steps) (loss=0.73876):   5%|▌         | 1/20 [00:33<10:43, 33.86s/it]"
     ]
    },
    {
     "name": "stdout",
     "output_type": "stream",
     "text": [
      "Model Was Saved ! Current Best Avg. Dice: 0.00038061782834120095 Current Avg. Dice: 0.00038061782834120095 Current Avg. tumor Dice: 0.0003940078313462436 Current Avg. lymph Dice: 0.0004237244138494134\n"
     ]
    },
    {
     "name": "stderr",
     "output_type": "stream",
     "text": [
      "Training (119 / 18000 Steps) (loss=0.65483): 100%|██████████| 20/20 [01:03<00:00,  3.18s/it]\n",
      "Training (139 / 18000 Steps) (loss=0.64641): 100%|██████████| 20/20 [00:35<00:00,  1.79s/it]\n",
      "Training (159 / 18000 Steps) (loss=0.68565): 100%|██████████| 20/20 [00:35<00:00,  1.77s/it]\n",
      "Training (179 / 18000 Steps) (loss=0.73053): 100%|██████████| 20/20 [00:34<00:00,  1.73s/it]\n",
      "Training (199 / 18000 Steps) (loss=0.63732): 100%|██████████| 20/20 [00:35<00:00,  1.77s/it]\n",
      "Validate (200 / 10 Steps): 100%|██████████| 8/8 [00:27<00:00,  3.42s/it]4<?, ?it/s]\n",
      "Training (200 / 18000 Steps) (loss=0.89968):   5%|▌         | 1/20 [00:33<10:31, 33.23s/it]"
     ]
    },
    {
     "name": "stdout",
     "output_type": "stream",
     "text": [
      "Model Was Saved ! Current Best Avg. Dice: 0.03283870220184326 Current Avg. Dice: 0.03283870220184326 Current Avg. tumor Dice: 0.06354498863220215 Current Avg. lymph Dice: 0.002460482297465205\n"
     ]
    },
    {
     "name": "stderr",
     "output_type": "stream",
     "text": [
      "Training (219 / 18000 Steps) (loss=0.65021): 100%|██████████| 20/20 [01:03<00:00,  3.17s/it]\n",
      "Training (239 / 18000 Steps) (loss=0.50678): 100%|██████████| 20/20 [00:35<00:00,  1.78s/it]\n",
      "Training (259 / 18000 Steps) (loss=0.68215): 100%|██████████| 20/20 [00:35<00:00,  1.78s/it]\n",
      "Training (279 / 18000 Steps) (loss=0.64599): 100%|██████████| 20/20 [00:35<00:00,  1.78s/it]\n",
      "Training (299 / 18000 Steps) (loss=0.64936): 100%|██████████| 20/20 [00:35<00:00,  1.78s/it]\n",
      "Validate (300 / 10 Steps): 100%|██████████| 8/8 [00:27<00:00,  3.45s/it]4<?, ?it/s]\n",
      "Training (300 / 18000 Steps) (loss=0.62574):   5%|▌         | 1/20 [00:33<10:28, 33.07s/it]"
     ]
    },
    {
     "name": "stdout",
     "output_type": "stream",
     "text": [
      "Model Was Saved ! Current Best Avg. Dice: 0.04755208641290665 Current Avg. Dice: 0.04755208641290665 Current Avg. tumor Dice: 0.08571513742208481 Current Avg. lymph Dice: 0.010833501815795898\n"
     ]
    },
    {
     "name": "stderr",
     "output_type": "stream",
     "text": [
      "Training (319 / 18000 Steps) (loss=1.16039): 100%|██████████| 20/20 [01:03<00:00,  3.17s/it]\n",
      "Training (339 / 18000 Steps) (loss=0.60886): 100%|██████████| 20/20 [00:35<00:00,  1.76s/it]\n",
      "Training (359 / 18000 Steps) (loss=0.64161): 100%|██████████| 20/20 [00:35<00:00,  1.78s/it]\n",
      "Training (379 / 18000 Steps) (loss=0.63652): 100%|██████████| 20/20 [00:35<00:00,  1.78s/it]\n",
      "Training (399 / 18000 Steps) (loss=0.71038): 100%|██████████| 20/20 [00:35<00:00,  1.80s/it]\n",
      "Validate (400 / 10 Steps): 100%|██████████| 8/8 [00:27<00:00,  3.41s/it]4<?, ?it/s]\n",
      "Training (400 / 18000 Steps) (loss=0.65858):   5%|▌         | 1/20 [00:33<10:32, 33.28s/it]"
     ]
    },
    {
     "name": "stdout",
     "output_type": "stream",
     "text": [
      "Model Was Saved ! Current Best Avg. Dice: 0.0907212495803833 Current Avg. Dice: 0.0907212495803833 Current Avg. tumor Dice: 0.13080495595932007 Current Avg. lymph Dice: 0.05842793732881546\n"
     ]
    },
    {
     "name": "stderr",
     "output_type": "stream",
     "text": [
      "Training (419 / 18000 Steps) (loss=0.54123): 100%|██████████| 20/20 [01:04<00:00,  3.20s/it]\n",
      "Training (439 / 18000 Steps) (loss=0.62051): 100%|██████████| 20/20 [00:35<00:00,  1.78s/it]\n",
      "Training (459 / 18000 Steps) (loss=0.68485): 100%|██████████| 20/20 [00:35<00:00,  1.78s/it]\n",
      "Training (479 / 18000 Steps) (loss=0.61279): 100%|██████████| 20/20 [00:35<00:00,  1.79s/it]\n",
      "Training (499 / 18000 Steps) (loss=0.61502): 100%|██████████| 20/20 [00:35<00:00,  1.77s/it]\n",
      "Validate (500 / 10 Steps): 100%|██████████| 8/8 [00:27<00:00,  3.44s/it]5<?, ?it/s]\n",
      "Training (500 / 18000 Steps) (loss=0.63298):   5%|▌         | 1/20 [00:33<10:36, 33.49s/it]"
     ]
    },
    {
     "name": "stdout",
     "output_type": "stream",
     "text": [
      "Model Was Saved ! Current Best Avg. Dice: 0.12730839848518372 Current Avg. Dice: 0.12730839848518372 Current Avg. tumor Dice: 0.15225733816623688 Current Avg. lymph Dice: 0.11810706555843353\n"
     ]
    },
    {
     "name": "stderr",
     "output_type": "stream",
     "text": [
      "Training (519 / 18000 Steps) (loss=0.53540): 100%|██████████| 20/20 [01:04<00:00,  3.20s/it]\n",
      "Training (539 / 18000 Steps) (loss=0.54874): 100%|██████████| 20/20 [00:35<00:00,  1.78s/it]\n",
      "Training (559 / 18000 Steps) (loss=0.56538): 100%|██████████| 20/20 [00:35<00:00,  1.77s/it]\n",
      "Training (579 / 18000 Steps) (loss=0.62847): 100%|██████████| 20/20 [00:36<00:00,  1.81s/it]\n",
      "Training (599 / 18000 Steps) (loss=0.55765): 100%|██████████| 20/20 [00:35<00:00,  1.77s/it]\n",
      "Validate (600 / 10 Steps): 100%|██████████| 8/8 [00:27<00:00,  3.44s/it]4<?, ?it/s]\n",
      "Training (600 / 18000 Steps) (loss=0.59028):   5%|▌         | 1/20 [00:33<10:28, 33.06s/it]"
     ]
    },
    {
     "name": "stdout",
     "output_type": "stream",
     "text": [
      "Model Was Saved ! Current Best Avg. Dice: 0.1620490700006485 Current Avg. Dice: 0.1620490700006485 Current Avg. tumor Dice: 0.2003570944070816 Current Avg. lymph Dice: 0.14277812838554382\n"
     ]
    },
    {
     "name": "stderr",
     "output_type": "stream",
     "text": [
      "Training (619 / 18000 Steps) (loss=0.46725): 100%|██████████| 20/20 [01:03<00:00,  3.17s/it]\n",
      "Training (639 / 18000 Steps) (loss=0.54169): 100%|██████████| 20/20 [00:35<00:00,  1.77s/it]\n",
      "Training (659 / 18000 Steps) (loss=0.67758): 100%|██████████| 20/20 [00:35<00:00,  1.78s/it]\n",
      "Training (679 / 18000 Steps) (loss=0.63427): 100%|██████████| 20/20 [00:35<00:00,  1.77s/it]\n",
      "Training (699 / 18000 Steps) (loss=0.65892): 100%|██████████| 20/20 [00:35<00:00,  1.76s/it]\n",
      "Validate (700 / 10 Steps): 100%|██████████| 8/8 [00:27<00:00,  3.42s/it]5<?, ?it/s]\n",
      "Training (700 / 18000 Steps) (loss=0.62402):   5%|▌         | 1/20 [00:32<10:16, 32.43s/it]"
     ]
    },
    {
     "name": "stdout",
     "output_type": "stream",
     "text": [
      "Model Was Not Saved ! Current Best Avg. Dice: 0.1620490700006485 Current Avg. Dice: 0.11871454864740372 Current Avg. tumor Dice: 0.1695474535226822 Current Avg. lymph Dice: 0.07832499593496323\n"
     ]
    },
    {
     "name": "stderr",
     "output_type": "stream",
     "text": [
      "Training (719 / 18000 Steps) (loss=0.60882): 100%|██████████| 20/20 [01:02<00:00,  3.12s/it]\n",
      "Training (739 / 18000 Steps) (loss=0.49324): 100%|██████████| 20/20 [00:35<00:00,  1.77s/it]\n",
      "Training (759 / 18000 Steps) (loss=0.63896): 100%|██████████| 20/20 [00:36<00:00,  1.80s/it]\n",
      "Training (779 / 18000 Steps) (loss=0.85767): 100%|██████████| 20/20 [00:35<00:00,  1.76s/it]\n",
      "Training (799 / 18000 Steps) (loss=0.46174): 100%|██████████| 20/20 [00:35<00:00,  1.78s/it]\n",
      "Validate (800 / 10 Steps): 100%|██████████| 8/8 [00:27<00:00,  3.43s/it]4<?, ?it/s]\n",
      "Training (800 / 18000 Steps) (loss=0.62783):   5%|▌         | 1/20 [00:32<10:13, 32.28s/it]"
     ]
    },
    {
     "name": "stdout",
     "output_type": "stream",
     "text": [
      "Model Was Not Saved ! Current Best Avg. Dice: 0.1620490700006485 Current Avg. Dice: 0.15361188352108002 Current Avg. tumor Dice: 0.18290704488754272 Current Avg. lymph Dice: 0.14344236254692078\n"
     ]
    },
    {
     "name": "stderr",
     "output_type": "stream",
     "text": [
      "Training (819 / 18000 Steps) (loss=0.47911): 100%|██████████| 20/20 [01:02<00:00,  3.10s/it]\n",
      "Training (839 / 18000 Steps) (loss=0.78235): 100%|██████████| 20/20 [00:35<00:00,  1.78s/it]\n",
      "Training (859 / 18000 Steps) (loss=0.53593): 100%|██████████| 20/20 [00:35<00:00,  1.78s/it]\n",
      "Training (879 / 18000 Steps) (loss=0.63078): 100%|██████████| 20/20 [00:35<00:00,  1.79s/it]\n",
      "Training (899 / 18000 Steps) (loss=0.62346): 100%|██████████| 20/20 [00:35<00:00,  1.78s/it]\n",
      "Validate (900 / 10 Steps): 100%|██████████| 8/8 [00:27<00:00,  3.44s/it]4<?, ?it/s]\n",
      "Training (900 / 18000 Steps) (loss=0.60570):   5%|▌         | 1/20 [00:33<10:32, 33.31s/it]"
     ]
    },
    {
     "name": "stdout",
     "output_type": "stream",
     "text": [
      "Model Was Saved ! Current Best Avg. Dice: 0.16764888167381287 Current Avg. Dice: 0.16764888167381287 Current Avg. tumor Dice: 0.20318657159805298 Current Avg. lymph Dice: 0.1524360030889511\n"
     ]
    },
    {
     "name": "stderr",
     "output_type": "stream",
     "text": [
      "Training (919 / 18000 Steps) (loss=0.60270): 100%|██████████| 20/20 [01:03<00:00,  3.18s/it]\n",
      "Training (939 / 18000 Steps) (loss=0.53179): 100%|██████████| 20/20 [00:35<00:00,  1.76s/it]\n",
      "Training (959 / 18000 Steps) (loss=0.59991): 100%|██████████| 20/20 [00:35<00:00,  1.78s/it]\n",
      "Training (979 / 18000 Steps) (loss=0.61453): 100%|██████████| 20/20 [00:35<00:00,  1.77s/it]\n",
      "Training (999 / 18000 Steps) (loss=0.64323): 100%|██████████| 20/20 [00:35<00:00,  1.77s/it]\n",
      "Validate (1000 / 10 Steps): 100%|██████████| 8/8 [00:27<00:00,  3.43s/it]5<?, ?it/s]\n",
      "Training (1000 / 18000 Steps) (loss=0.57171):   5%|▌         | 1/20 [00:32<10:23, 32.81s/it]"
     ]
    },
    {
     "name": "stdout",
     "output_type": "stream",
     "text": [
      "Model Was Not Saved ! Current Best Avg. Dice: 0.16764888167381287 Current Avg. Dice: 0.15966707468032837 Current Avg. tumor Dice: 0.2256108969449997 Current Avg. lymph Dice: 0.10814218968153\n"
     ]
    },
    {
     "name": "stderr",
     "output_type": "stream",
     "text": [
      "Training (1019 / 18000 Steps) (loss=0.65179): 100%|██████████| 20/20 [01:02<00:00,  3.14s/it]\n",
      "Training (1039 / 18000 Steps) (loss=0.67719): 100%|██████████| 20/20 [00:35<00:00,  1.76s/it]\n",
      "Training (1059 / 18000 Steps) (loss=0.49516): 100%|██████████| 20/20 [00:35<00:00,  1.78s/it]\n",
      "Training (1079 / 18000 Steps) (loss=0.66939): 100%|██████████| 20/20 [00:35<00:00,  1.79s/it]\n",
      "Training (1099 / 18000 Steps) (loss=0.60123): 100%|██████████| 20/20 [00:36<00:00,  1.82s/it]\n",
      "Validate (1100 / 10 Steps): 100%|██████████| 8/8 [00:27<00:00,  3.44s/it]5<?, ?it/s]\n",
      "Training (1100 / 18000 Steps) (loss=0.49729):   5%|▌         | 1/20 [00:32<10:21, 32.70s/it]"
     ]
    },
    {
     "name": "stdout",
     "output_type": "stream",
     "text": [
      "Model Was Not Saved ! Current Best Avg. Dice: 0.16764888167381287 Current Avg. Dice: 0.1612238585948944 Current Avg. tumor Dice: 0.2241833657026291 Current Avg. lymph Dice: 0.11338190734386444\n"
     ]
    },
    {
     "name": "stderr",
     "output_type": "stream",
     "text": [
      "Training (1119 / 18000 Steps) (loss=0.52819): 100%|██████████| 20/20 [01:02<00:00,  3.15s/it]\n",
      "Training (1139 / 18000 Steps) (loss=0.60303): 100%|██████████| 20/20 [00:35<00:00,  1.76s/it]\n",
      "Training (1159 / 18000 Steps) (loss=0.65295): 100%|██████████| 20/20 [00:35<00:00,  1.77s/it]\n",
      "Training (1179 / 18000 Steps) (loss=0.60965): 100%|██████████| 20/20 [00:36<00:00,  1.81s/it]\n",
      "Training (1199 / 18000 Steps) (loss=0.56695): 100%|██████████| 20/20 [00:35<00:00,  1.80s/it]\n",
      "Validate (1200 / 10 Steps): 100%|██████████| 8/8 [00:27<00:00,  3.44s/it]4<?, ?it/s]\n",
      "Training (1200 / 18000 Steps) (loss=0.59474):   5%|▌         | 1/20 [00:32<10:16, 32.45s/it]"
     ]
    },
    {
     "name": "stdout",
     "output_type": "stream",
     "text": [
      "Model Was Not Saved ! Current Best Avg. Dice: 0.16764888167381287 Current Avg. Dice: 0.16631612181663513 Current Avg. tumor Dice: 0.2047659307718277 Current Avg. lymph Dice: 0.14753805100917816\n"
     ]
    },
    {
     "name": "stderr",
     "output_type": "stream",
     "text": [
      "Training (1219 / 18000 Steps) (loss=0.33045): 100%|██████████| 20/20 [01:02<00:00,  3.15s/it]\n",
      "Training (1239 / 18000 Steps) (loss=0.56326): 100%|██████████| 20/20 [00:35<00:00,  1.78s/it]\n",
      "Training (1259 / 18000 Steps) (loss=0.67148): 100%|██████████| 20/20 [00:35<00:00,  1.76s/it]\n",
      "Training (1279 / 18000 Steps) (loss=0.71652): 100%|██████████| 20/20 [00:35<00:00,  1.78s/it]\n",
      "Training (1299 / 18000 Steps) (loss=0.49879): 100%|██████████| 20/20 [00:35<00:00,  1.77s/it]\n",
      "Validate (1300 / 10 Steps): 100%|██████████| 8/8 [00:27<00:00,  3.45s/it]4<?, ?it/s]\n",
      "Training (1300 / 18000 Steps) (loss=0.58680):   5%|▌         | 1/20 [00:33<10:33, 33.33s/it]"
     ]
    },
    {
     "name": "stdout",
     "output_type": "stream",
     "text": [
      "Model Was Saved ! Current Best Avg. Dice: 0.17175863683223724 Current Avg. Dice: 0.17175863683223724 Current Avg. tumor Dice: 0.2146293967962265 Current Avg. lymph Dice: 0.14838045835494995\n"
     ]
    },
    {
     "name": "stderr",
     "output_type": "stream",
     "text": [
      "Training (1319 / 18000 Steps) (loss=0.59742): 100%|██████████| 20/20 [01:03<00:00,  3.19s/it]\n",
      "Training (1339 / 18000 Steps) (loss=0.54119): 100%|██████████| 20/20 [00:34<00:00,  1.74s/it]\n",
      "Training (1359 / 18000 Steps) (loss=0.57351): 100%|██████████| 20/20 [00:35<00:00,  1.77s/it]\n",
      "Training (1379 / 18000 Steps) (loss=0.55323): 100%|██████████| 20/20 [00:34<00:00,  1.75s/it]\n",
      "Training (1399 / 18000 Steps) (loss=0.31256): 100%|██████████| 20/20 [00:35<00:00,  1.76s/it]\n",
      "Validate (1400 / 10 Steps): 100%|██████████| 8/8 [00:27<00:00,  3.44s/it]5<?, ?it/s]\n",
      "Training (1400 / 18000 Steps) (loss=0.69992):   5%|▌         | 1/20 [00:32<10:18, 32.57s/it]"
     ]
    },
    {
     "name": "stdout",
     "output_type": "stream",
     "text": [
      "Model Was Not Saved ! Current Best Avg. Dice: 0.17175863683223724 Current Avg. Dice: 0.1694929450750351 Current Avg. tumor Dice: 0.19927123188972473 Current Avg. lymph Dice: 0.15991848707199097\n"
     ]
    },
    {
     "name": "stderr",
     "output_type": "stream",
     "text": [
      "Training (1419 / 18000 Steps) (loss=0.68611): 100%|██████████| 20/20 [01:03<00:00,  3.15s/it]\n",
      "Training (1439 / 18000 Steps) (loss=0.59001): 100%|██████████| 20/20 [00:36<00:00,  1.81s/it]\n",
      "Training (1459 / 18000 Steps) (loss=0.46742): 100%|██████████| 20/20 [00:35<00:00,  1.77s/it]\n",
      "Training (1479 / 18000 Steps) (loss=0.47278): 100%|██████████| 20/20 [00:35<00:00,  1.78s/it]\n",
      "Training (1499 / 18000 Steps) (loss=0.62104): 100%|██████████| 20/20 [00:35<00:00,  1.79s/it]\n",
      "Validate (1500 / 10 Steps): 100%|██████████| 8/8 [00:27<00:00,  3.44s/it]4<?, ?it/s]\n",
      "Training (1500 / 18000 Steps) (loss=0.64914):   5%|▌         | 1/20 [00:32<10:18, 32.55s/it]"
     ]
    },
    {
     "name": "stdout",
     "output_type": "stream",
     "text": [
      "Model Was Not Saved ! Current Best Avg. Dice: 0.17175863683223724 Current Avg. Dice: 0.16594894230365753 Current Avg. tumor Dice: 0.20535030961036682 Current Avg. lymph Dice: 0.1456855982542038\n"
     ]
    },
    {
     "name": "stderr",
     "output_type": "stream",
     "text": [
      "Training (1519 / 18000 Steps) (loss=0.57310): 100%|██████████| 20/20 [01:02<00:00,  3.13s/it]\n",
      "Training (1539 / 18000 Steps) (loss=0.58776): 100%|██████████| 20/20 [00:36<00:00,  1.80s/it]\n",
      "Training (1559 / 18000 Steps) (loss=0.60895): 100%|██████████| 20/20 [00:35<00:00,  1.76s/it]\n",
      "Training (1579 / 18000 Steps) (loss=0.53543): 100%|██████████| 20/20 [00:35<00:00,  1.78s/it]\n",
      "Training (1599 / 18000 Steps) (loss=0.55443): 100%|██████████| 20/20 [00:35<00:00,  1.77s/it]\n",
      "Validate (1600 / 10 Steps): 100%|██████████| 8/8 [00:27<00:00,  3.42s/it]4<?, ?it/s]\n",
      "Training (1600 / 18000 Steps) (loss=0.50704):   5%|▌         | 1/20 [00:32<10:25, 32.90s/it]"
     ]
    },
    {
     "name": "stdout",
     "output_type": "stream",
     "text": [
      "Model Was Saved ! Current Best Avg. Dice: 0.1918153613805771 Current Avg. Dice: 0.1918153613805771 Current Avg. tumor Dice: 0.21215756237506866 Current Avg. lymph Dice: 0.19785359501838684\n"
     ]
    },
    {
     "name": "stderr",
     "output_type": "stream",
     "text": [
      "Training (1619 / 18000 Steps) (loss=0.59351): 100%|██████████| 20/20 [01:02<00:00,  3.15s/it]\n",
      "Training (1639 / 18000 Steps) (loss=0.52564): 100%|██████████| 20/20 [00:35<00:00,  1.76s/it]\n",
      "Training (1659 / 18000 Steps) (loss=0.64504): 100%|██████████| 20/20 [00:35<00:00,  1.78s/it]\n",
      "Training (1679 / 18000 Steps) (loss=0.71649): 100%|██████████| 20/20 [00:35<00:00,  1.78s/it]\n",
      "Training (1699 / 18000 Steps) (loss=0.67755): 100%|██████████| 20/20 [00:35<00:00,  1.76s/it]\n",
      "Validate (1700 / 10 Steps): 100%|██████████| 8/8 [00:27<00:00,  3.44s/it]4<?, ?it/s]\n",
      "Training (1700 / 18000 Steps) (loss=0.47322):   5%|▌         | 1/20 [00:33<10:33, 33.32s/it]"
     ]
    },
    {
     "name": "stdout",
     "output_type": "stream",
     "text": [
      "Model Was Saved ! Current Best Avg. Dice: 0.19358539581298828 Current Avg. Dice: 0.19358539581298828 Current Avg. tumor Dice: 0.23289242386817932 Current Avg. lymph Dice: 0.17801354825496674\n"
     ]
    },
    {
     "name": "stderr",
     "output_type": "stream",
     "text": [
      "Training (1719 / 18000 Steps) (loss=0.62944): 100%|██████████| 20/20 [01:03<00:00,  3.19s/it]\n",
      "Training (1739 / 18000 Steps) (loss=0.58500): 100%|██████████| 20/20 [00:36<00:00,  1.80s/it]\n",
      "Training (1759 / 18000 Steps) (loss=0.61376): 100%|██████████| 20/20 [00:35<00:00,  1.79s/it]\n",
      "Training (1779 / 18000 Steps) (loss=0.60145): 100%|██████████| 20/20 [00:35<00:00,  1.80s/it]\n",
      "Training (1799 / 18000 Steps) (loss=0.69594): 100%|██████████| 20/20 [00:36<00:00,  1.81s/it]\n",
      "Validate (1800 / 10 Steps): 100%|██████████| 8/8 [00:27<00:00,  3.44s/it]4<?, ?it/s]\n",
      "Training (1800 / 18000 Steps) (loss=0.53124):   5%|▌         | 1/20 [00:32<10:14, 32.36s/it]"
     ]
    },
    {
     "name": "stdout",
     "output_type": "stream",
     "text": [
      "Model Was Not Saved ! Current Best Avg. Dice: 0.19358539581298828 Current Avg. Dice: 0.19101756811141968 Current Avg. tumor Dice: 0.25875818729400635 Current Avg. lymph Dice: 0.14064225554466248\n"
     ]
    },
    {
     "name": "stderr",
     "output_type": "stream",
     "text": [
      "Training (1819 / 18000 Steps) (loss=0.47916): 100%|██████████| 20/20 [01:02<00:00,  3.15s/it]\n",
      "Training (1839 / 18000 Steps) (loss=0.44323): 100%|██████████| 20/20 [00:35<00:00,  1.76s/it]\n",
      "Training (1859 / 18000 Steps) (loss=0.63592): 100%|██████████| 20/20 [00:36<00:00,  1.80s/it]\n",
      "Training (1879 / 18000 Steps) (loss=0.60686): 100%|██████████| 20/20 [00:36<00:00,  1.80s/it]\n",
      "Training (1899 / 18000 Steps) (loss=0.40882): 100%|██████████| 20/20 [00:36<00:00,  1.80s/it]\n",
      "Validate (1900 / 10 Steps): 100%|██████████| 8/8 [00:27<00:00,  3.42s/it]5<?, ?it/s]\n",
      "Training (1900 / 18000 Steps) (loss=0.51234):   5%|▌         | 1/20 [00:33<10:40, 33.71s/it]"
     ]
    },
    {
     "name": "stdout",
     "output_type": "stream",
     "text": [
      "Model Was Saved ! Current Best Avg. Dice: 0.1976558119058609 Current Avg. Dice: 0.1976558119058609 Current Avg. tumor Dice: 0.2311832755804062 Current Avg. lymph Dice: 0.18937882781028748\n"
     ]
    },
    {
     "name": "stderr",
     "output_type": "stream",
     "text": [
      "Training (1919 / 18000 Steps) (loss=0.58750): 100%|██████████| 20/20 [01:04<00:00,  3.21s/it]\n",
      "Training (1939 / 18000 Steps) (loss=0.57396): 100%|██████████| 20/20 [00:35<00:00,  1.79s/it]\n",
      "Training (1959 / 18000 Steps) (loss=0.53902): 100%|██████████| 20/20 [00:35<00:00,  1.78s/it]\n",
      "Training (1979 / 18000 Steps) (loss=0.67586): 100%|██████████| 20/20 [00:35<00:00,  1.79s/it]\n",
      "Training (1999 / 18000 Steps) (loss=0.43094): 100%|██████████| 20/20 [00:36<00:00,  1.84s/it]\n",
      "Validate (2000 / 10 Steps): 100%|██████████| 8/8 [00:27<00:00,  3.45s/it]4<?, ?it/s]\n",
      "Training (2000 / 18000 Steps) (loss=0.60536):   5%|▌         | 1/20 [00:33<10:30, 33.17s/it]"
     ]
    },
    {
     "name": "stdout",
     "output_type": "stream",
     "text": [
      "Model Was Saved ! Current Best Avg. Dice: 0.2049366682767868 Current Avg. Dice: 0.2049366682767868 Current Avg. tumor Dice: 0.2434377819299698 Current Avg. lymph Dice: 0.1916830688714981\n"
     ]
    },
    {
     "name": "stderr",
     "output_type": "stream",
     "text": [
      "Training (2019 / 18000 Steps) (loss=0.63181): 100%|██████████| 20/20 [01:03<00:00,  3.18s/it]\n",
      "Training (2039 / 18000 Steps) (loss=0.63205): 100%|██████████| 20/20 [00:36<00:00,  1.82s/it]\n",
      "Training (2059 / 18000 Steps) (loss=0.49859): 100%|██████████| 20/20 [00:35<00:00,  1.78s/it]\n",
      "Training (2079 / 18000 Steps) (loss=0.67330): 100%|██████████| 20/20 [00:35<00:00,  1.78s/it]\n",
      "Training (2099 / 18000 Steps) (loss=0.64247): 100%|██████████| 20/20 [00:35<00:00,  1.78s/it]\n",
      "Validate (2100 / 10 Steps): 100%|██████████| 8/8 [00:27<00:00,  3.44s/it]5<?, ?it/s]\n",
      "Training (2100 / 18000 Steps) (loss=0.48903):   5%|▌         | 1/20 [00:32<10:19, 32.59s/it]"
     ]
    },
    {
     "name": "stdout",
     "output_type": "stream",
     "text": [
      "Model Was Not Saved ! Current Best Avg. Dice: 0.2049366682767868 Current Avg. Dice: 0.20274080336093903 Current Avg. tumor Dice: 0.2499067634344101 Current Avg. lymph Dice: 0.17950940132141113\n"
     ]
    },
    {
     "name": "stderr",
     "output_type": "stream",
     "text": [
      "Training (2119 / 18000 Steps) (loss=0.47590): 100%|██████████| 20/20 [01:02<00:00,  3.14s/it]\n",
      "Training (2139 / 18000 Steps) (loss=0.50616): 100%|██████████| 20/20 [00:35<00:00,  1.77s/it]\n",
      "Training (2159 / 18000 Steps) (loss=0.64007): 100%|██████████| 20/20 [00:35<00:00,  1.75s/it]\n",
      "Training (2179 / 18000 Steps) (loss=0.66797): 100%|██████████| 20/20 [00:35<00:00,  1.76s/it]\n",
      "Training (2199 / 18000 Steps) (loss=0.67605): 100%|██████████| 20/20 [00:36<00:00,  1.81s/it]\n",
      "Validate (2200 / 10 Steps): 100%|██████████| 8/8 [00:27<00:00,  3.43s/it]4<?, ?it/s]\n",
      "Training (2200 / 18000 Steps) (loss=0.55987):   5%|▌         | 1/20 [00:32<10:13, 32.30s/it]"
     ]
    },
    {
     "name": "stdout",
     "output_type": "stream",
     "text": [
      "Model Was Not Saved ! Current Best Avg. Dice: 0.2049366682767868 Current Avg. Dice: 0.19968648254871368 Current Avg. tumor Dice: 0.23395296931266785 Current Avg. lymph Dice: 0.19086922705173492\n"
     ]
    },
    {
     "name": "stderr",
     "output_type": "stream",
     "text": [
      "Training (2219 / 18000 Steps) (loss=0.52586): 100%|██████████| 20/20 [01:02<00:00,  3.13s/it]\n",
      "Training (2239 / 18000 Steps) (loss=0.56981): 100%|██████████| 20/20 [00:35<00:00,  1.78s/it]\n",
      "Training (2259 / 18000 Steps) (loss=0.52795): 100%|██████████| 20/20 [00:35<00:00,  1.78s/it]\n",
      "Training (2279 / 18000 Steps) (loss=0.60721): 100%|██████████| 20/20 [00:35<00:00,  1.77s/it]\n",
      "Training (2299 / 18000 Steps) (loss=0.57813): 100%|██████████| 20/20 [00:35<00:00,  1.78s/it]\n",
      "Validate (2300 / 10 Steps): 100%|██████████| 8/8 [00:27<00:00,  3.43s/it]5<?, ?it/s]\n",
      "Training (2300 / 18000 Steps) (loss=0.62823):   5%|▌         | 1/20 [00:32<10:20, 32.67s/it]"
     ]
    },
    {
     "name": "stdout",
     "output_type": "stream",
     "text": [
      "Model Was Not Saved ! Current Best Avg. Dice: 0.2049366682767868 Current Avg. Dice: 0.18822921812534332 Current Avg. tumor Dice: 0.2465631365776062 Current Avg. lymph Dice: 0.14987912774085999\n"
     ]
    },
    {
     "name": "stderr",
     "output_type": "stream",
     "text": [
      "Training (2319 / 18000 Steps) (loss=0.68986): 100%|██████████| 20/20 [01:03<00:00,  3.15s/it]\n",
      "Training (2339 / 18000 Steps) (loss=0.48905): 100%|██████████| 20/20 [00:35<00:00,  1.78s/it]\n",
      "Training (2359 / 18000 Steps) (loss=0.57590): 100%|██████████| 20/20 [00:35<00:00,  1.79s/it]\n",
      "Training (2379 / 18000 Steps) (loss=0.50637): 100%|██████████| 20/20 [00:35<00:00,  1.77s/it]\n",
      "Training (2399 / 18000 Steps) (loss=0.36234): 100%|██████████| 20/20 [00:35<00:00,  1.78s/it]\n",
      "Validate (2400 / 10 Steps): 100%|██████████| 8/8 [00:27<00:00,  3.42s/it]4<?, ?it/s]\n",
      "Training (2400 / 18000 Steps) (loss=0.54739):   5%|▌         | 1/20 [00:33<10:30, 33.21s/it]"
     ]
    },
    {
     "name": "stdout",
     "output_type": "stream",
     "text": [
      "Model Was Saved ! Current Best Avg. Dice: 0.20562931895256042 Current Avg. Dice: 0.20562931895256042 Current Avg. tumor Dice: 0.2434404045343399 Current Avg. lymph Dice: 0.19363641738891602\n"
     ]
    },
    {
     "name": "stderr",
     "output_type": "stream",
     "text": [
      "Training (2419 / 18000 Steps) (loss=0.65825): 100%|██████████| 20/20 [01:03<00:00,  3.17s/it]\n",
      "Training (2439 / 18000 Steps) (loss=0.49455): 100%|██████████| 20/20 [00:35<00:00,  1.79s/it]\n",
      "Training (2459 / 18000 Steps) (loss=0.54919): 100%|██████████| 20/20 [00:35<00:00,  1.77s/it]\n",
      "Training (2479 / 18000 Steps) (loss=0.72340): 100%|██████████| 20/20 [00:35<00:00,  1.79s/it]\n",
      "Training (2499 / 18000 Steps) (loss=0.57376): 100%|██████████| 20/20 [00:35<00:00,  1.77s/it]\n",
      "Validate (2500 / 10 Steps): 100%|██████████| 8/8 [00:27<00:00,  3.43s/it]5<?, ?it/s]\n",
      "Training (2500 / 18000 Steps) (loss=0.65110):   5%|▌         | 1/20 [00:33<10:37, 33.55s/it]"
     ]
    },
    {
     "name": "stdout",
     "output_type": "stream",
     "text": [
      "Model Was Saved ! Current Best Avg. Dice: 0.22026051580905914 Current Avg. Dice: 0.22026051580905914 Current Avg. tumor Dice: 0.22648321092128754 Current Avg. lymph Dice: 0.24696670472621918\n"
     ]
    },
    {
     "name": "stderr",
     "output_type": "stream",
     "text": [
      "Training (2519 / 18000 Steps) (loss=0.59331): 100%|██████████| 20/20 [01:04<00:00,  3.23s/it]\n",
      "Training (2539 / 18000 Steps) (loss=0.63213): 100%|██████████| 20/20 [00:35<00:00,  1.77s/it]\n",
      "Training (2559 / 18000 Steps) (loss=0.55572): 100%|██████████| 20/20 [00:35<00:00,  1.79s/it]\n",
      "Training (2579 / 18000 Steps) (loss=0.52546): 100%|██████████| 20/20 [00:35<00:00,  1.78s/it]\n",
      "Training (2599 / 18000 Steps) (loss=0.44952): 100%|██████████| 20/20 [00:35<00:00,  1.76s/it]\n",
      "Validate (2600 / 10 Steps): 100%|██████████| 8/8 [00:27<00:00,  3.44s/it]5<?, ?it/s]\n",
      "Training (2600 / 18000 Steps) (loss=0.46821):   5%|▌         | 1/20 [00:32<10:22, 32.74s/it]"
     ]
    },
    {
     "name": "stdout",
     "output_type": "stream",
     "text": [
      "Model Was Not Saved ! Current Best Avg. Dice: 0.22026051580905914 Current Avg. Dice: 0.20615029335021973 Current Avg. tumor Dice: 0.22609634697437286 Current Avg. lymph Dice: 0.2148510366678238\n"
     ]
    },
    {
     "name": "stderr",
     "output_type": "stream",
     "text": [
      "Training (2619 / 18000 Steps) (loss=0.51582): 100%|██████████| 20/20 [01:02<00:00,  3.14s/it]\n",
      "Training (2639 / 18000 Steps) (loss=0.64918): 100%|██████████| 20/20 [00:35<00:00,  1.77s/it]\n",
      "Training (2659 / 18000 Steps) (loss=0.51325): 100%|██████████| 20/20 [00:35<00:00,  1.78s/it]\n",
      "Training (2679 / 18000 Steps) (loss=0.57068): 100%|██████████| 20/20 [00:35<00:00,  1.76s/it]\n",
      "Training (2699 / 18000 Steps) (loss=0.53445): 100%|██████████| 20/20 [00:35<00:00,  1.77s/it]\n",
      "Validate (2700 / 10 Steps): 100%|██████████| 8/8 [00:27<00:00,  3.45s/it]4<?, ?it/s]\n",
      "Training (2700 / 18000 Steps) (loss=0.51298):   5%|▌         | 1/20 [00:32<10:16, 32.46s/it]"
     ]
    },
    {
     "name": "stdout",
     "output_type": "stream",
     "text": [
      "Model Was Not Saved ! Current Best Avg. Dice: 0.22026051580905914 Current Avg. Dice: 0.21936900913715363 Current Avg. tumor Dice: 0.24885646998882294 Current Avg. lymph Dice: 0.21909409761428833\n"
     ]
    },
    {
     "name": "stderr",
     "output_type": "stream",
     "text": [
      "Training (2719 / 18000 Steps) (loss=0.52757): 100%|██████████| 20/20 [01:03<00:00,  3.16s/it]\n",
      "Training (2739 / 18000 Steps) (loss=0.61366): 100%|██████████| 20/20 [00:36<00:00,  1.82s/it]\n",
      "Training (2759 / 18000 Steps) (loss=0.41118): 100%|██████████| 20/20 [00:36<00:00,  1.84s/it]\n",
      "Training (2779 / 18000 Steps) (loss=0.63083): 100%|██████████| 20/20 [01:06<00:00,  3.32s/it]\n",
      "Training (2799 / 18000 Steps) (loss=0.59223): 100%|██████████| 20/20 [00:39<00:00,  1.98s/it]\n",
      "Validate (2800 / 10 Steps): 100%|██████████| 8/8 [00:27<00:00,  3.44s/it]4<?, ?it/s]\n",
      "Training (2800 / 18000 Steps) (loss=0.57471):   5%|▌         | 1/20 [00:33<10:33, 33.34s/it]"
     ]
    },
    {
     "name": "stdout",
     "output_type": "stream",
     "text": [
      "Model Was Saved ! Current Best Avg. Dice: 0.235480397939682 Current Avg. Dice: 0.235480397939682 Current Avg. tumor Dice: 0.2699747383594513 Current Avg. lymph Dice: 0.23190703988075256\n"
     ]
    },
    {
     "name": "stderr",
     "output_type": "stream",
     "text": [
      "Training (2819 / 18000 Steps) (loss=0.52552): 100%|██████████| 20/20 [01:03<00:00,  3.20s/it]\n",
      "Training (2839 / 18000 Steps) (loss=0.58606): 100%|██████████| 20/20 [00:35<00:00,  1.77s/it]\n",
      "Training (2859 / 18000 Steps) (loss=0.44572): 100%|██████████| 20/20 [00:35<00:00,  1.77s/it]\n",
      "Training (2879 / 18000 Steps) (loss=0.62161): 100%|██████████| 20/20 [00:35<00:00,  1.77s/it]\n",
      "Training (2899 / 18000 Steps) (loss=0.59227): 100%|██████████| 20/20 [00:35<00:00,  1.80s/it]\n",
      "Validate (2900 / 10 Steps): 100%|██████████| 8/8 [00:27<00:00,  3.42s/it]4<?, ?it/s]\n",
      "Training (2900 / 18000 Steps) (loss=0.52399):   5%|▌         | 1/20 [00:32<10:13, 32.29s/it]"
     ]
    },
    {
     "name": "stdout",
     "output_type": "stream",
     "text": [
      "Model Was Not Saved ! Current Best Avg. Dice: 0.235480397939682 Current Avg. Dice: 0.22513015568256378 Current Avg. tumor Dice: 0.26156479120254517 Current Avg. lymph Dice: 0.21634674072265625\n"
     ]
    },
    {
     "name": "stderr",
     "output_type": "stream",
     "text": [
      "Training (2919 / 18000 Steps) (loss=0.65105): 100%|██████████| 20/20 [01:02<00:00,  3.12s/it]\n",
      "Training (2939 / 18000 Steps) (loss=0.69110): 100%|██████████| 20/20 [00:35<00:00,  1.78s/it]\n",
      "Training (2959 / 18000 Steps) (loss=0.56219): 100%|██████████| 20/20 [00:35<00:00,  1.77s/it]\n",
      "Training (2979 / 18000 Steps) (loss=0.43485): 100%|██████████| 20/20 [00:35<00:00,  1.76s/it]\n",
      "Training (2999 / 18000 Steps) (loss=0.49494): 100%|██████████| 20/20 [00:35<00:00,  1.78s/it]\n",
      "Validate (3000 / 10 Steps): 100%|██████████| 8/8 [00:27<00:00,  3.42s/it]4<?, ?it/s]\n",
      "Training (3000 / 18000 Steps) (loss=0.51073):   5%|▌         | 1/20 [00:32<10:12, 32.22s/it]"
     ]
    },
    {
     "name": "stdout",
     "output_type": "stream",
     "text": [
      "Model Was Not Saved ! Current Best Avg. Dice: 0.235480397939682 Current Avg. Dice: 0.23335902392864227 Current Avg. tumor Dice: 0.26148521900177 Current Avg. lymph Dice: 0.23546668887138367\n"
     ]
    },
    {
     "name": "stderr",
     "output_type": "stream",
     "text": [
      "Training (3019 / 18000 Steps) (loss=0.47278): 100%|██████████| 20/20 [01:02<00:00,  3.11s/it]\n",
      "Training (3039 / 18000 Steps) (loss=0.83694): 100%|██████████| 20/20 [00:35<00:00,  1.78s/it]\n",
      "Training (3059 / 18000 Steps) (loss=0.34752): 100%|██████████| 20/20 [00:35<00:00,  1.78s/it]\n",
      "Training (3079 / 18000 Steps) (loss=0.50307): 100%|██████████| 20/20 [00:35<00:00,  1.79s/it]\n",
      "Training (3099 / 18000 Steps) (loss=0.65173): 100%|██████████| 20/20 [00:35<00:00,  1.77s/it]\n",
      "Validate (3100 / 10 Steps): 100%|██████████| 8/8 [00:27<00:00,  3.42s/it]5<?, ?it/s]\n",
      "Training (3100 / 18000 Steps) (loss=0.57037):   5%|▌         | 1/20 [00:32<10:16, 32.44s/it]"
     ]
    },
    {
     "name": "stdout",
     "output_type": "stream",
     "text": [
      "Model Was Not Saved ! Current Best Avg. Dice: 0.235480397939682 Current Avg. Dice: 0.23047374188899994 Current Avg. tumor Dice: 0.2785506546497345 Current Avg. lymph Dice: 0.21045787632465363\n"
     ]
    },
    {
     "name": "stderr",
     "output_type": "stream",
     "text": [
      "Training (3119 / 18000 Steps) (loss=0.66195): 100%|██████████| 20/20 [01:03<00:00,  3.15s/it]\n",
      "Training (3139 / 18000 Steps) (loss=0.61914): 100%|██████████| 20/20 [00:35<00:00,  1.78s/it]\n",
      "Training (3159 / 18000 Steps) (loss=0.60177): 100%|██████████| 20/20 [00:35<00:00,  1.77s/it]\n",
      "Training (3179 / 18000 Steps) (loss=0.53501): 100%|██████████| 20/20 [00:35<00:00,  1.76s/it]\n",
      "Training (3199 / 18000 Steps) (loss=0.50042): 100%|██████████| 20/20 [00:35<00:00,  1.79s/it]\n",
      "Validate (3200 / 10 Steps): 100%|██████████| 8/8 [00:27<00:00,  3.43s/it]4<?, ?it/s]\n",
      "Training (3200 / 18000 Steps) (loss=0.63750):   5%|▌         | 1/20 [00:32<10:13, 32.31s/it]"
     ]
    },
    {
     "name": "stdout",
     "output_type": "stream",
     "text": [
      "Model Was Not Saved ! Current Best Avg. Dice: 0.235480397939682 Current Avg. Dice: 0.23173977434635162 Current Avg. tumor Dice: 0.27038419246673584 Current Avg. lymph Dice: 0.22280237078666687\n"
     ]
    },
    {
     "name": "stderr",
     "output_type": "stream",
     "text": [
      "Training (3219 / 18000 Steps) (loss=0.57942): 100%|██████████| 20/20 [01:04<00:00,  3.21s/it]\n",
      "Training (3239 / 18000 Steps) (loss=0.55426): 100%|██████████| 20/20 [00:37<00:00,  1.87s/it]\n",
      "Training (3259 / 18000 Steps) (loss=0.52508): 100%|██████████| 20/20 [00:37<00:00,  1.89s/it]\n",
      "Training (3279 / 18000 Steps) (loss=0.54356): 100%|██████████| 20/20 [00:37<00:00,  1.88s/it]\n",
      "Training (3299 / 18000 Steps) (loss=0.66932): 100%|██████████| 20/20 [00:37<00:00,  1.87s/it]\n",
      "Validate (3300 / 10 Steps): 100%|██████████| 8/8 [00:27<00:00,  3.45s/it]5<?, ?it/s]\n",
      "Training (3300 / 18000 Steps) (loss=0.47124):   5%|▌         | 1/20 [00:33<10:41, 33.77s/it]"
     ]
    },
    {
     "name": "stdout",
     "output_type": "stream",
     "text": [
      "Model Was Saved ! Current Best Avg. Dice: 0.25755056738853455 Current Avg. Dice: 0.25755056738853455 Current Avg. tumor Dice: 0.29211005568504333 Current Avg. lymph Dice: 0.2572973668575287\n"
     ]
    },
    {
     "name": "stderr",
     "output_type": "stream",
     "text": [
      "Training (3319 / 18000 Steps) (loss=0.44812): 100%|██████████| 20/20 [01:05<00:00,  3.27s/it]\n",
      "Training (3339 / 18000 Steps) (loss=0.60097): 100%|██████████| 20/20 [00:37<00:00,  1.86s/it]\n",
      "Training (3359 / 18000 Steps) (loss=0.59581): 100%|██████████| 20/20 [00:36<00:00,  1.84s/it]\n",
      "Training (3379 / 18000 Steps) (loss=0.67333): 100%|██████████| 20/20 [00:37<00:00,  1.87s/it]\n",
      "Training (3399 / 18000 Steps) (loss=0.50189): 100%|██████████| 20/20 [00:38<00:00,  1.92s/it]\n",
      "Validate (3400 / 10 Steps): 100%|██████████| 8/8 [00:27<00:00,  3.49s/it]4<?, ?it/s]\n",
      "Training (3400 / 18000 Steps) (loss=0.53274):   5%|▌         | 1/20 [00:32<10:25, 32.94s/it]"
     ]
    },
    {
     "name": "stdout",
     "output_type": "stream",
     "text": [
      "Model Was Not Saved ! Current Best Avg. Dice: 0.25755056738853455 Current Avg. Dice: 0.2157028466463089 Current Avg. tumor Dice: 0.21363931894302368 Current Avg. lymph Dice: 0.24621352553367615\n"
     ]
    },
    {
     "name": "stderr",
     "output_type": "stream",
     "text": [
      "Training (3419 / 18000 Steps) (loss=0.42369): 100%|██████████| 20/20 [01:04<00:00,  3.23s/it]\n",
      "Training (3439 / 18000 Steps) (loss=0.48653): 100%|██████████| 20/20 [00:37<00:00,  1.87s/it]\n",
      "Training (3459 / 18000 Steps) (loss=0.54491): 100%|██████████| 20/20 [00:37<00:00,  1.88s/it]\n",
      "Training (3479 / 18000 Steps) (loss=0.59635): 100%|██████████| 20/20 [00:36<00:00,  1.84s/it]\n",
      "Training (3499 / 18000 Steps) (loss=0.47427): 100%|██████████| 20/20 [00:37<00:00,  1.87s/it]\n",
      "Validate (3500 / 10 Steps): 100%|██████████| 8/8 [00:27<00:00,  3.44s/it]5<?, ?it/s]\n",
      "Training (3500 / 18000 Steps) (loss=0.52620):   5%|▌         | 1/20 [00:32<10:25, 32.92s/it]"
     ]
    },
    {
     "name": "stdout",
     "output_type": "stream",
     "text": [
      "Model Was Not Saved ! Current Best Avg. Dice: 0.25755056738853455 Current Avg. Dice: 0.22118285298347473 Current Avg. tumor Dice: 0.26317280530929565 Current Avg. lymph Dice: 0.20676106214523315\n"
     ]
    },
    {
     "name": "stderr",
     "output_type": "stream",
     "text": [
      "Training (3519 / 18000 Steps) (loss=0.34615): 100%|██████████| 20/20 [01:04<00:00,  3.23s/it]\n",
      "Training (3539 / 18000 Steps) (loss=0.43106): 100%|██████████| 20/20 [00:36<00:00,  1.84s/it]\n",
      "Training (3559 / 18000 Steps) (loss=0.54311): 100%|██████████| 20/20 [00:38<00:00,  1.90s/it]\n",
      "Training (3579 / 18000 Steps) (loss=0.58223): 100%|██████████| 20/20 [00:37<00:00,  1.85s/it]\n",
      "Training (3599 / 18000 Steps) (loss=0.56031): 100%|██████████| 20/20 [00:37<00:00,  1.88s/it]\n",
      "Validate (3600 / 10 Steps): 100%|██████████| 8/8 [00:27<00:00,  3.48s/it]5<?, ?it/s]\n",
      "Training (3600 / 18000 Steps) (loss=0.57740):   5%|▌         | 1/20 [00:33<10:35, 33.47s/it]"
     ]
    },
    {
     "name": "stdout",
     "output_type": "stream",
     "text": [
      "Model Was Not Saved ! Current Best Avg. Dice: 0.25755056738853455 Current Avg. Dice: 0.2375013828277588 Current Avg. tumor Dice: 0.2756909728050232 Current Avg. lymph Dice: 0.22995585203170776\n"
     ]
    },
    {
     "name": "stderr",
     "output_type": "stream",
     "text": [
      "Training (3619 / 18000 Steps) (loss=0.46759): 100%|██████████| 20/20 [01:05<00:00,  3.28s/it]\n",
      "Training (3639 / 18000 Steps) (loss=0.42821): 100%|██████████| 20/20 [00:37<00:00,  1.87s/it]\n",
      "Training (3659 / 18000 Steps) (loss=0.42129): 100%|██████████| 20/20 [00:38<00:00,  1.90s/it]\n",
      "Training (3679 / 18000 Steps) (loss=0.59429): 100%|██████████| 20/20 [00:39<00:00,  1.96s/it]\n",
      "Training (3699 / 18000 Steps) (loss=0.64557): 100%|██████████| 20/20 [00:39<00:00,  1.99s/it]\n",
      "Validate (3700 / 10 Steps): 100%|██████████| 8/8 [00:28<00:00,  3.51s/it]5<?, ?it/s]\n",
      "Training (3700 / 18000 Steps) (loss=0.45114):   5%|▌         | 1/20 [00:33<10:36, 33.53s/it]"
     ]
    },
    {
     "name": "stdout",
     "output_type": "stream",
     "text": [
      "Model Was Not Saved ! Current Best Avg. Dice: 0.25755056738853455 Current Avg. Dice: 0.2198733538389206 Current Avg. tumor Dice: 0.23905295133590698 Current Avg. lymph Dice: 0.23156973719596863\n"
     ]
    },
    {
     "name": "stderr",
     "output_type": "stream",
     "text": [
      "Training (3719 / 18000 Steps) (loss=0.43587): 100%|██████████| 20/20 [01:05<00:00,  3.28s/it]\n",
      "Training (3739 / 18000 Steps) (loss=0.60777): 100%|██████████| 20/20 [00:39<00:00,  1.99s/it]\n",
      "Training (3759 / 18000 Steps) (loss=0.58706): 100%|██████████| 20/20 [00:38<00:00,  1.93s/it]\n",
      "Training (3779 / 18000 Steps) (loss=0.59020): 100%|██████████| 20/20 [00:39<00:00,  1.96s/it]\n",
      "Training (3799 / 18000 Steps) (loss=0.49516): 100%|██████████| 20/20 [00:39<00:00,  1.97s/it]\n",
      "Validate (3800 / 10 Steps): 100%|██████████| 8/8 [00:27<00:00,  3.50s/it]5<?, ?it/s]\n",
      "Training (3800 / 18000 Steps) (loss=0.53717):   5%|▌         | 1/20 [00:34<11:00, 34.75s/it]"
     ]
    },
    {
     "name": "stdout",
     "output_type": "stream",
     "text": [
      "Model Was Saved ! Current Best Avg. Dice: 0.28062623739242554 Current Avg. Dice: 0.28062623739242554 Current Avg. tumor Dice: 0.29493510723114014 Current Avg. lymph Dice: 0.3072892427444458\n"
     ]
    },
    {
     "name": "stderr",
     "output_type": "stream",
     "text": [
      "Training (3819 / 18000 Steps) (loss=0.63856): 100%|██████████| 20/20 [01:08<00:00,  3.42s/it]\n",
      "Training (3839 / 18000 Steps) (loss=0.61819): 100%|██████████| 20/20 [00:38<00:00,  1.90s/it]\n",
      "Training (3859 / 18000 Steps) (loss=0.56992): 100%|██████████| 20/20 [00:39<00:00,  1.97s/it]\n",
      "Training (3879 / 18000 Steps) (loss=0.58629): 100%|██████████| 20/20 [00:38<00:00,  1.93s/it]\n",
      "Training (3899 / 18000 Steps) (loss=0.62811): 100%|██████████| 20/20 [00:39<00:00,  1.97s/it]\n",
      "Validate (3900 / 10 Steps): 100%|██████████| 8/8 [00:28<00:00,  3.52s/it]6<?, ?it/s]\n",
      "Training (3900 / 18000 Steps) (loss=0.52958):   5%|▌         | 1/20 [00:34<10:51, 34.27s/it]"
     ]
    },
    {
     "name": "stdout",
     "output_type": "stream",
     "text": [
      "Model Was Not Saved ! Current Best Avg. Dice: 0.28062623739242554 Current Avg. Dice: 0.22580449283123016 Current Avg. tumor Dice: 0.25371402502059937 Current Avg. lymph Dice: 0.2281910479068756\n"
     ]
    },
    {
     "name": "stderr",
     "output_type": "stream",
     "text": [
      "Training (3919 / 18000 Steps) (loss=0.35528): 100%|██████████| 20/20 [01:06<00:00,  3.34s/it]\n",
      "Training (3939 / 18000 Steps) (loss=0.43607): 100%|██████████| 20/20 [00:39<00:00,  2.00s/it]\n",
      "Training (3959 / 18000 Steps) (loss=0.59701): 100%|██████████| 20/20 [00:39<00:00,  1.95s/it]\n",
      "Training (3979 / 18000 Steps) (loss=0.48455): 100%|██████████| 20/20 [00:38<00:00,  1.91s/it]\n",
      "Training (3999 / 18000 Steps) (loss=0.59181): 100%|██████████| 20/20 [00:38<00:00,  1.93s/it]\n",
      "Validate (4000 / 10 Steps): 100%|██████████| 8/8 [00:28<00:00,  3.52s/it]5<?, ?it/s]\n",
      "Training (4000 / 18000 Steps) (loss=0.60313):   5%|▌         | 1/20 [00:33<10:44, 33.94s/it]"
     ]
    },
    {
     "name": "stdout",
     "output_type": "stream",
     "text": [
      "Model Was Not Saved ! Current Best Avg. Dice: 0.28062623739242554 Current Avg. Dice: 0.23139367997646332 Current Avg. tumor Dice: 0.29294267296791077 Current Avg. lymph Dice: 0.1958402544260025\n"
     ]
    },
    {
     "name": "stderr",
     "output_type": "stream",
     "text": [
      "Training (4019 / 18000 Steps) (loss=0.59173): 100%|██████████| 20/20 [01:06<00:00,  3.31s/it]\n",
      "Training (4039 / 18000 Steps) (loss=0.48770): 100%|██████████| 20/20 [00:39<00:00,  1.96s/it]\n",
      "Training (4059 / 18000 Steps) (loss=0.32523): 100%|██████████| 20/20 [00:38<00:00,  1.94s/it]\n",
      "Training (4079 / 18000 Steps) (loss=0.66730): 100%|██████████| 20/20 [00:39<00:00,  1.95s/it]\n",
      "Training (4099 / 18000 Steps) (loss=0.30636): 100%|██████████| 20/20 [00:38<00:00,  1.94s/it]\n",
      "Validate (4100 / 10 Steps): 100%|██████████| 8/8 [00:28<00:00,  3.53s/it]6<?, ?it/s]\n",
      "Training (4100 / 18000 Steps) (loss=0.52865):   5%|▌         | 1/20 [00:34<10:52, 34.34s/it]"
     ]
    },
    {
     "name": "stdout",
     "output_type": "stream",
     "text": [
      "Model Was Not Saved ! Current Best Avg. Dice: 0.28062623739242554 Current Avg. Dice: 0.22453996539115906 Current Avg. tumor Dice: 0.27620062232017517 Current Avg. lymph Dice: 0.19947615265846252\n"
     ]
    },
    {
     "name": "stderr",
     "output_type": "stream",
     "text": [
      "Training (4119 / 18000 Steps) (loss=0.46399): 100%|██████████| 20/20 [01:07<00:00,  3.35s/it]\n",
      "Training (4139 / 18000 Steps) (loss=0.60049): 100%|██████████| 20/20 [00:38<00:00,  1.95s/it]\n",
      "Training (4159 / 18000 Steps) (loss=0.57122): 100%|██████████| 20/20 [00:39<00:00,  1.97s/it]\n",
      "Training (4179 / 18000 Steps) (loss=0.53778): 100%|██████████| 20/20 [00:38<00:00,  1.94s/it]\n",
      "Training (4199 / 18000 Steps) (loss=0.66877): 100%|██████████| 20/20 [00:38<00:00,  1.91s/it]\n",
      "Validate (4200 / 10 Steps): 100%|██████████| 8/8 [00:28<00:00,  3.56s/it]5<?, ?it/s]\n",
      "Training (4200 / 18000 Steps) (loss=0.52182):   5%|▌         | 1/20 [00:34<10:49, 34.21s/it]"
     ]
    },
    {
     "name": "stdout",
     "output_type": "stream",
     "text": [
      "Model Was Not Saved ! Current Best Avg. Dice: 0.28062623739242554 Current Avg. Dice: 0.24732378125190735 Current Avg. tumor Dice: 0.28193095326423645 Current Avg. lymph Dice: 0.2454422265291214\n"
     ]
    },
    {
     "name": "stderr",
     "output_type": "stream",
     "text": [
      "Training (4219 / 18000 Steps) (loss=0.48288): 100%|██████████| 20/20 [01:07<00:00,  3.37s/it]\n",
      "Training (4239 / 18000 Steps) (loss=0.29577): 100%|██████████| 20/20 [00:39<00:00,  1.99s/it]\n",
      "Training (4259 / 18000 Steps) (loss=0.59064): 100%|██████████| 20/20 [00:38<00:00,  1.95s/it]\n",
      "Training (4279 / 18000 Steps) (loss=0.60143): 100%|██████████| 20/20 [00:38<00:00,  1.93s/it]\n",
      "Training (4299 / 18000 Steps) (loss=0.56703): 100%|██████████| 20/20 [00:39<00:00,  1.98s/it]\n",
      "Validate (4300 / 10 Steps): 100%|██████████| 8/8 [00:28<00:00,  3.53s/it]6<?, ?it/s]\n",
      "Training (4300 / 18000 Steps) (loss=0.55396):   5%|▌         | 1/20 [00:34<10:53, 34.39s/it]"
     ]
    },
    {
     "name": "stdout",
     "output_type": "stream",
     "text": [
      "Model Was Not Saved ! Current Best Avg. Dice: 0.28062623739242554 Current Avg. Dice: 0.23054522275924683 Current Avg. tumor Dice: 0.23725201189517975 Current Avg. lymph Dice: 0.2582750916481018\n"
     ]
    },
    {
     "name": "stderr",
     "output_type": "stream",
     "text": [
      "Training (4319 / 18000 Steps) (loss=0.47985): 100%|██████████| 20/20 [01:06<00:00,  3.35s/it]\n",
      "Training (4339 / 18000 Steps) (loss=0.60154): 100%|██████████| 20/20 [00:38<00:00,  1.92s/it]\n",
      "Training (4359 / 18000 Steps) (loss=0.56479): 100%|██████████| 20/20 [00:38<00:00,  1.94s/it]\n",
      "Training (4379 / 18000 Steps) (loss=0.59258): 100%|██████████| 20/20 [00:38<00:00,  1.92s/it]\n",
      "Training (4399 / 18000 Steps) (loss=0.53157): 100%|██████████| 20/20 [00:39<00:00,  1.95s/it]\n",
      "Validate (4400 / 10 Steps): 100%|██████████| 8/8 [00:27<00:00,  3.50s/it]5<?, ?it/s]\n",
      "Training (4400 / 18000 Steps) (loss=0.47079):   5%|▌         | 1/20 [00:33<10:37, 33.57s/it]"
     ]
    },
    {
     "name": "stdout",
     "output_type": "stream",
     "text": [
      "Model Was Not Saved ! Current Best Avg. Dice: 0.28062623739242554 Current Avg. Dice: 0.2664097547531128 Current Avg. tumor Dice: 0.28544747829437256 Current Avg. lymph Dice: 0.2854292690753937\n"
     ]
    },
    {
     "name": "stderr",
     "output_type": "stream",
     "text": [
      "Training (4419 / 18000 Steps) (loss=0.56020): 100%|██████████| 20/20 [01:05<00:00,  3.30s/it]\n",
      "Training (4439 / 18000 Steps) (loss=0.55768): 100%|██████████| 20/20 [00:39<00:00,  1.99s/it]\n",
      "Training (4459 / 18000 Steps) (loss=0.66050): 100%|██████████| 20/20 [00:38<00:00,  1.92s/it]\n",
      "Training (4479 / 18000 Steps) (loss=0.53850): 100%|██████████| 20/20 [00:39<00:00,  1.97s/it]\n",
      "Training (4499 / 18000 Steps) (loss=0.60116): 100%|██████████| 20/20 [00:38<00:00,  1.94s/it]\n",
      "Validate (4500 / 10 Steps): 100%|██████████| 8/8 [00:28<00:00,  3.51s/it]5<?, ?it/s]\n",
      "Training (4500 / 18000 Steps) (loss=0.46234):   5%|▌         | 1/20 [00:33<10:45, 33.97s/it]"
     ]
    },
    {
     "name": "stdout",
     "output_type": "stream",
     "text": [
      "Model Was Not Saved ! Current Best Avg. Dice: 0.28062623739242554 Current Avg. Dice: 0.21947240829467773 Current Avg. tumor Dice: 0.23253488540649414 Current Avg. lymph Dice: 0.23814493417739868\n"
     ]
    },
    {
     "name": "stderr",
     "output_type": "stream",
     "text": [
      "Training (4519 / 18000 Steps) (loss=0.38189): 100%|██████████| 20/20 [01:05<00:00,  3.29s/it]\n",
      "Training (4539 / 18000 Steps) (loss=0.56516): 100%|██████████| 20/20 [00:37<00:00,  1.88s/it]\n",
      "Training (4559 / 18000 Steps) (loss=0.50750): 100%|██████████| 20/20 [00:36<00:00,  1.84s/it]\n",
      "Training (4579 / 18000 Steps) (loss=0.56609): 100%|██████████| 20/20 [00:36<00:00,  1.83s/it]\n",
      "Training (4599 / 18000 Steps) (loss=0.51968): 100%|██████████| 20/20 [00:36<00:00,  1.83s/it]\n",
      "Validate (4600 / 10 Steps): 100%|██████████| 8/8 [00:28<00:00,  3.52s/it]4<?, ?it/s]\n",
      "Training (4600 / 18000 Steps) (loss=0.57433):   5%|▌         | 1/20 [00:33<10:30, 33.21s/it]"
     ]
    },
    {
     "name": "stdout",
     "output_type": "stream",
     "text": [
      "Model Was Not Saved ! Current Best Avg. Dice: 0.28062623739242554 Current Avg. Dice: 0.23547178506851196 Current Avg. tumor Dice: 0.26383084058761597 Current Avg. lymph Dice: 0.23635424673557281\n"
     ]
    },
    {
     "name": "stderr",
     "output_type": "stream",
     "text": [
      "Training (4619 / 18000 Steps) (loss=0.54536): 100%|██████████| 20/20 [01:04<00:00,  3.21s/it]\n",
      "Training (4639 / 18000 Steps) (loss=0.28551): 100%|██████████| 20/20 [00:36<00:00,  1.84s/it]\n",
      "Training (4659 / 18000 Steps) (loss=0.40265): 100%|██████████| 20/20 [00:37<00:00,  1.85s/it]\n",
      "Training (4679 / 18000 Steps) (loss=0.60044): 100%|██████████| 20/20 [00:35<00:00,  1.80s/it]\n",
      "Training (4699 / 18000 Steps) (loss=0.54972): 100%|██████████| 20/20 [00:36<00:00,  1.81s/it]\n",
      "Validate (4700 / 10 Steps): 100%|██████████| 8/8 [00:27<00:00,  3.50s/it]4<?, ?it/s]\n",
      "Training (4700 / 18000 Steps) (loss=0.55965):   5%|▌         | 1/20 [00:32<10:25, 32.92s/it]"
     ]
    },
    {
     "name": "stdout",
     "output_type": "stream",
     "text": [
      "Model Was Not Saved ! Current Best Avg. Dice: 0.28062623739242554 Current Avg. Dice: 0.2579130530357361 Current Avg. tumor Dice: 0.26875030994415283 Current Avg. lymph Dice: 0.2850874066352844\n"
     ]
    },
    {
     "name": "stderr",
     "output_type": "stream",
     "text": [
      "Training (4719 / 18000 Steps) (loss=0.42475): 100%|██████████| 20/20 [01:04<00:00,  3.20s/it]\n",
      "Training (4739 / 18000 Steps) (loss=0.55868): 100%|██████████| 20/20 [00:36<00:00,  1.83s/it]\n",
      "Training (4759 / 18000 Steps) (loss=0.58633): 100%|██████████| 20/20 [00:37<00:00,  1.86s/it]\n",
      "Training (4779 / 18000 Steps) (loss=0.58984): 100%|██████████| 20/20 [00:37<00:00,  1.85s/it]\n",
      "Training (4799 / 18000 Steps) (loss=0.47264): 100%|██████████| 20/20 [00:37<00:00,  1.86s/it]\n",
      "Validate (4800 / 10 Steps): 100%|██████████| 8/8 [00:27<00:00,  3.48s/it]5<?, ?it/s]\n",
      "Training (4800 / 18000 Steps) (loss=0.57434):   5%|▌         | 1/20 [00:32<10:25, 32.93s/it]"
     ]
    },
    {
     "name": "stdout",
     "output_type": "stream",
     "text": [
      "Model Was Not Saved ! Current Best Avg. Dice: 0.28062623739242554 Current Avg. Dice: 0.27647921442985535 Current Avg. tumor Dice: 0.2808040380477905 Current Avg. lymph Dice: 0.31402426958084106\n"
     ]
    },
    {
     "name": "stderr",
     "output_type": "stream",
     "text": [
      "Training (4819 / 18000 Steps) (loss=0.34802): 100%|██████████| 20/20 [01:04<00:00,  3.20s/it]\n",
      "Training (4839 / 18000 Steps) (loss=0.59417): 100%|██████████| 20/20 [01:02<00:00,  3.12s/it]\n",
      "Training (4859 / 18000 Steps) (loss=0.54859): 100%|██████████| 20/20 [00:45<00:00,  2.27s/it]\n",
      "Training (4879 / 18000 Steps) (loss=0.57367): 100%|██████████| 20/20 [00:43<00:00,  2.19s/it]\n",
      "Training (4899 / 18000 Steps) (loss=0.54947): 100%|██████████| 20/20 [01:04<00:00,  3.24s/it]\n",
      "Validate (4900 / 10 Steps): 100%|██████████| 8/8 [00:28<00:00,  3.50s/it]4<?, ?it/s]\n",
      "Training (4900 / 18000 Steps) (loss=0.61190):   5%|▌         | 1/20 [00:33<10:27, 33.03s/it]"
     ]
    },
    {
     "name": "stdout",
     "output_type": "stream",
     "text": [
      "Model Was Not Saved ! Current Best Avg. Dice: 0.28062623739242554 Current Avg. Dice: 0.2443835735321045 Current Avg. tumor Dice: 0.278869092464447 Current Avg. lymph Dice: 0.24031472206115723\n"
     ]
    },
    {
     "name": "stderr",
     "output_type": "stream",
     "text": [
      "Training (4919 / 18000 Steps) (loss=0.47414): 100%|██████████| 20/20 [01:04<00:00,  3.24s/it]\n",
      "Training (4939 / 18000 Steps) (loss=0.39777): 100%|██████████| 20/20 [00:36<00:00,  1.85s/it]\n",
      "Training (4959 / 18000 Steps) (loss=0.53244): 100%|██████████| 20/20 [00:36<00:00,  1.84s/it]\n",
      "Training (4979 / 18000 Steps) (loss=0.61302): 100%|██████████| 20/20 [00:36<00:00,  1.81s/it]\n",
      "Training (4999 / 18000 Steps) (loss=0.49968): 100%|██████████| 20/20 [00:37<00:00,  1.86s/it]\n",
      "Validate (5000 / 10 Steps): 100%|██████████| 8/8 [00:46<00:00,  5.83s/it]7<?, ?it/s]\n",
      "Training (5000 / 18000 Steps) (loss=0.44182):   5%|▌         | 1/20 [00:54<17:06, 54.03s/it]"
     ]
    },
    {
     "name": "stdout",
     "output_type": "stream",
     "text": [
      "Model Was Not Saved ! Current Best Avg. Dice: 0.28062623739242554 Current Avg. Dice: 0.23066705465316772 Current Avg. tumor Dice: 0.24373392760753632 Current Avg. lymph Dice: 0.25107714533805847\n"
     ]
    },
    {
     "name": "stderr",
     "output_type": "stream",
     "text": [
      "Training (5019 / 18000 Steps) (loss=0.49140): 100%|██████████| 20/20 [01:40<00:00,  5.03s/it]\n",
      "Training (5039 / 18000 Steps) (loss=0.43892): 100%|██████████| 20/20 [00:37<00:00,  1.85s/it]\n",
      "Training (5059 / 18000 Steps) (loss=0.67563): 100%|██████████| 20/20 [00:37<00:00,  1.87s/it]\n",
      "Training (5079 / 18000 Steps) (loss=0.67354): 100%|██████████| 20/20 [00:36<00:00,  1.84s/it]\n",
      "Training (5099 / 18000 Steps) (loss=0.59215): 100%|██████████| 20/20 [00:36<00:00,  1.84s/it]\n",
      "Validate (5100 / 10 Steps): 100%|██████████| 8/8 [00:27<00:00,  3.48s/it]5<?, ?it/s]\n",
      "Training (5100 / 18000 Steps) (loss=0.51002):   5%|▌         | 1/20 [00:33<10:34, 33.40s/it]"
     ]
    },
    {
     "name": "stdout",
     "output_type": "stream",
     "text": [
      "Model Was Not Saved ! Current Best Avg. Dice: 0.28062623739242554 Current Avg. Dice: 0.24630437791347504 Current Avg. tumor Dice: 0.2699974477291107 Current Avg. lymph Dice: 0.2548709511756897\n"
     ]
    },
    {
     "name": "stderr",
     "output_type": "stream",
     "text": [
      "Training (5119 / 18000 Steps) (loss=0.62107): 100%|██████████| 20/20 [01:04<00:00,  3.22s/it]\n",
      "Training (5139 / 18000 Steps) (loss=0.54488): 100%|██████████| 20/20 [00:38<00:00,  1.91s/it]\n",
      "Training (5159 / 18000 Steps) (loss=0.58168): 100%|██████████| 20/20 [00:36<00:00,  1.84s/it]\n",
      "Training (5179 / 18000 Steps) (loss=0.58267): 100%|██████████| 20/20 [00:37<00:00,  1.89s/it]\n",
      "Training (5199 / 18000 Steps) (loss=0.50052): 100%|██████████| 20/20 [00:37<00:00,  1.86s/it]\n",
      "Validate (5200 / 10 Steps): 100%|██████████| 8/8 [00:27<00:00,  3.42s/it]5<?, ?it/s]\n",
      "Training (5200 / 18000 Steps) (loss=0.46607):   5%|▌         | 1/20 [00:32<10:17, 32.50s/it]"
     ]
    },
    {
     "name": "stdout",
     "output_type": "stream",
     "text": [
      "Model Was Not Saved ! Current Best Avg. Dice: 0.28062623739242554 Current Avg. Dice: 0.20546402037143707 Current Avg. tumor Dice: 0.23308028280735016 Current Avg. lymph Dice: 0.20520895719528198\n"
     ]
    },
    {
     "name": "stderr",
     "output_type": "stream",
     "text": [
      "Training (5219 / 18000 Steps) (loss=0.70360): 100%|██████████| 20/20 [01:03<00:00,  3.17s/it]\n",
      "Training (5239 / 18000 Steps) (loss=0.56231): 100%|██████████| 20/20 [00:37<00:00,  1.87s/it]\n",
      "Training (5259 / 18000 Steps) (loss=0.47554): 100%|██████████| 20/20 [00:36<00:00,  1.84s/it]\n",
      "Training (5279 / 18000 Steps) (loss=0.66923): 100%|██████████| 20/20 [00:36<00:00,  1.84s/it]\n",
      "Training (5299 / 18000 Steps) (loss=0.61549): 100%|██████████| 20/20 [00:37<00:00,  1.85s/it]\n",
      "Validate (5300 / 10 Steps): 100%|██████████| 8/8 [00:27<00:00,  3.47s/it]4<?, ?it/s]\n",
      "Training (5300 / 18000 Steps) (loss=0.56525):   5%|▌         | 1/20 [00:32<10:18, 32.54s/it]"
     ]
    },
    {
     "name": "stdout",
     "output_type": "stream",
     "text": [
      "Model Was Not Saved ! Current Best Avg. Dice: 0.28062623739242554 Current Avg. Dice: 0.24213646352291107 Current Avg. tumor Dice: 0.2564959228038788 Current Avg. lymph Dice: 0.26281964778900146\n"
     ]
    },
    {
     "name": "stderr",
     "output_type": "stream",
     "text": [
      "Training (5319 / 18000 Steps) (loss=0.62206): 100%|██████████| 20/20 [01:02<00:00,  3.13s/it]\n",
      "Training (5339 / 18000 Steps) (loss=0.38018): 100%|██████████| 20/20 [00:35<00:00,  1.78s/it]\n",
      "Training (5359 / 18000 Steps) (loss=0.61586): 100%|██████████| 20/20 [00:35<00:00,  1.78s/it]\n",
      "Training (5379 / 18000 Steps) (loss=0.58230): 100%|██████████| 20/20 [00:35<00:00,  1.76s/it]\n",
      "Training (5399 / 18000 Steps) (loss=0.58563): 100%|██████████| 20/20 [00:35<00:00,  1.78s/it]\n",
      "Validate (5400 / 10 Steps): 100%|██████████| 8/8 [00:27<00:00,  3.43s/it]4<?, ?it/s]\n",
      "Training (5400 / 18000 Steps) (loss=0.37229):   5%|▌         | 1/20 [00:33<10:29, 33.15s/it]"
     ]
    },
    {
     "name": "stdout",
     "output_type": "stream",
     "text": [
      "Model Was Saved ! Current Best Avg. Dice: 0.2893056571483612 Current Avg. Dice: 0.2893056571483612 Current Avg. tumor Dice: 0.30767008662223816 Current Avg. lymph Dice: 0.30642369389533997\n"
     ]
    },
    {
     "name": "stderr",
     "output_type": "stream",
     "text": [
      "Training (5419 / 18000 Steps) (loss=0.52857): 100%|██████████| 20/20 [01:03<00:00,  3.17s/it]\n",
      "Training (5439 / 18000 Steps) (loss=0.61768): 100%|██████████| 20/20 [00:35<00:00,  1.78s/it]\n",
      "Training (5459 / 18000 Steps) (loss=0.58128): 100%|██████████| 20/20 [00:35<00:00,  1.75s/it]\n",
      "Training (5479 / 18000 Steps) (loss=0.41094): 100%|██████████| 20/20 [00:34<00:00,  1.75s/it]\n",
      "Training (5499 / 18000 Steps) (loss=0.51547): 100%|██████████| 20/20 [00:35<00:00,  1.77s/it]\n",
      "Validate (5500 / 10 Steps): 100%|██████████| 8/8 [00:27<00:00,  3.47s/it]4<?, ?it/s]\n",
      "Training (5500 / 18000 Steps) (loss=0.53790):   5%|▌         | 1/20 [00:32<10:20, 32.66s/it]"
     ]
    },
    {
     "name": "stdout",
     "output_type": "stream",
     "text": [
      "Model Was Not Saved ! Current Best Avg. Dice: 0.2893056571483612 Current Avg. Dice: 0.26009413599967957 Current Avg. tumor Dice: 0.27487945556640625 Current Avg. lymph Dice: 0.2822955250740051\n"
     ]
    },
    {
     "name": "stderr",
     "output_type": "stream",
     "text": [
      "Training (5519 / 18000 Steps) (loss=0.66907): 100%|██████████| 20/20 [01:02<00:00,  3.13s/it]\n",
      "Training (5539 / 18000 Steps) (loss=0.52244): 100%|██████████| 20/20 [00:36<00:00,  1.81s/it]\n",
      "Training (5559 / 18000 Steps) (loss=0.42529): 100%|██████████| 20/20 [00:35<00:00,  1.76s/it]\n",
      "Training (5579 / 18000 Steps) (loss=0.46460): 100%|██████████| 20/20 [00:35<00:00,  1.78s/it]\n",
      "Training (5599 / 18000 Steps) (loss=0.60597): 100%|██████████| 20/20 [00:35<00:00,  1.77s/it]\n",
      "Validate (5600 / 10 Steps): 100%|██████████| 8/8 [00:27<00:00,  3.40s/it]5<?, ?it/s]\n",
      "Training (5600 / 18000 Steps) (loss=0.48675):   5%|▌         | 1/20 [00:32<10:11, 32.21s/it]"
     ]
    },
    {
     "name": "stdout",
     "output_type": "stream",
     "text": [
      "Model Was Not Saved ! Current Best Avg. Dice: 0.2893056571483612 Current Avg. Dice: 0.2342337965965271 Current Avg. tumor Dice: 0.24784043431282043 Current Avg. lymph Dice: 0.2545256018638611\n"
     ]
    },
    {
     "name": "stderr",
     "output_type": "stream",
     "text": [
      "Training (5619 / 18000 Steps) (loss=0.60497): 100%|██████████| 20/20 [01:02<00:00,  3.10s/it]\n",
      "Training (5639 / 18000 Steps) (loss=0.34766): 100%|██████████| 20/20 [00:35<00:00,  1.78s/it]\n",
      "Training (5659 / 18000 Steps) (loss=0.53941): 100%|██████████| 20/20 [00:35<00:00,  1.80s/it]\n",
      "Training (5679 / 18000 Steps) (loss=0.52110): 100%|██████████| 20/20 [00:35<00:00,  1.76s/it]\n",
      "Training (5699 / 18000 Steps) (loss=0.50896): 100%|██████████| 20/20 [00:35<00:00,  1.78s/it]\n",
      "Validate (5700 / 10 Steps): 100%|██████████| 8/8 [00:27<00:00,  3.42s/it]4<?, ?it/s]\n",
      "Training (5700 / 18000 Steps) (loss=0.52959):   5%|▌         | 1/20 [00:32<10:12, 32.24s/it]"
     ]
    },
    {
     "name": "stdout",
     "output_type": "stream",
     "text": [
      "Model Was Not Saved ! Current Best Avg. Dice: 0.2893056571483612 Current Avg. Dice: 0.24306707084178925 Current Avg. tumor Dice: 0.2707008123397827 Current Avg. lymph Dice: 0.2457258105278015\n"
     ]
    },
    {
     "name": "stderr",
     "output_type": "stream",
     "text": [
      "Training (5719 / 18000 Steps) (loss=0.67755): 100%|██████████| 20/20 [01:02<00:00,  3.11s/it]\n",
      "Training (5739 / 18000 Steps) (loss=0.29676): 100%|██████████| 20/20 [00:35<00:00,  1.76s/it]\n",
      "Training (5759 / 18000 Steps) (loss=0.56367): 100%|██████████| 20/20 [00:35<00:00,  1.79s/it]\n",
      "Training (5779 / 18000 Steps) (loss=0.52345): 100%|██████████| 20/20 [00:35<00:00,  1.76s/it]\n",
      "Training (5799 / 18000 Steps) (loss=0.41983): 100%|██████████| 20/20 [00:36<00:00,  1.81s/it]\n",
      "Validate (5800 / 10 Steps): 100%|██████████| 8/8 [00:27<00:00,  3.41s/it]4<?, ?it/s]\n",
      "Training (5800 / 18000 Steps) (loss=0.52468):   5%|▌         | 1/20 [00:32<10:11, 32.17s/it]"
     ]
    },
    {
     "name": "stdout",
     "output_type": "stream",
     "text": [
      "Model Was Not Saved ! Current Best Avg. Dice: 0.2893056571483612 Current Avg. Dice: 0.24654905498027802 Current Avg. tumor Dice: 0.2908993363380432 Current Avg. lymph Dice: 0.23329082131385803\n"
     ]
    },
    {
     "name": "stderr",
     "output_type": "stream",
     "text": [
      "Training (5819 / 18000 Steps) (loss=0.42072): 100%|██████████| 20/20 [01:02<00:00,  3.12s/it]\n",
      "Training (5839 / 18000 Steps) (loss=0.53267): 100%|██████████| 20/20 [00:35<00:00,  1.76s/it]\n",
      "Training (5859 / 18000 Steps) (loss=0.46562): 100%|██████████| 20/20 [00:35<00:00,  1.75s/it]\n",
      "Training (5879 / 18000 Steps) (loss=0.33098): 100%|██████████| 20/20 [00:35<00:00,  1.78s/it]\n",
      "Training (5899 / 18000 Steps) (loss=0.54616): 100%|██████████| 20/20 [00:35<00:00,  1.76s/it]\n",
      "Validate (5900 / 10 Steps): 100%|██████████| 8/8 [00:27<00:00,  3.41s/it]4<?, ?it/s]\n",
      "Training (5900 / 18000 Steps) (loss=0.54626):   5%|▌         | 1/20 [00:32<10:10, 32.12s/it]"
     ]
    },
    {
     "name": "stdout",
     "output_type": "stream",
     "text": [
      "Model Was Not Saved ! Current Best Avg. Dice: 0.2893056571483612 Current Avg. Dice: 0.2595064640045166 Current Avg. tumor Dice: 0.2607080042362213 Current Avg. lymph Dice: 0.29741019010543823\n"
     ]
    },
    {
     "name": "stderr",
     "output_type": "stream",
     "text": [
      "Training (5919 / 18000 Steps) (loss=0.44162): 100%|██████████| 20/20 [01:02<00:00,  3.13s/it]\n",
      "Training (5939 / 18000 Steps) (loss=0.52751): 100%|██████████| 20/20 [00:36<00:00,  1.81s/it]\n",
      "Training (5959 / 18000 Steps) (loss=0.27286): 100%|██████████| 20/20 [00:35<00:00,  1.77s/it]\n",
      "Training (5979 / 18000 Steps) (loss=0.53281): 100%|██████████| 20/20 [00:35<00:00,  1.76s/it]\n",
      "Training (5999 / 18000 Steps) (loss=0.49459): 100%|██████████| 20/20 [00:34<00:00,  1.74s/it]\n",
      "Validate (6000 / 10 Steps): 100%|██████████| 8/8 [00:27<00:00,  3.42s/it]5<?, ?it/s]\n",
      "Training (6000 / 18000 Steps) (loss=0.63147):   5%|▌         | 1/20 [00:32<10:25, 32.93s/it]"
     ]
    },
    {
     "name": "stdout",
     "output_type": "stream",
     "text": [
      "Model Was Not Saved ! Current Best Avg. Dice: 0.2893056571483612 Current Avg. Dice: 0.2755775451660156 Current Avg. tumor Dice: 0.26686573028564453 Current Avg. lymph Dice: 0.3280262351036072\n"
     ]
    },
    {
     "name": "stderr",
     "output_type": "stream",
     "text": [
      "Training (6019 / 18000 Steps) (loss=0.53664): 100%|██████████| 20/20 [01:03<00:00,  3.16s/it]\n",
      "Training (6039 / 18000 Steps) (loss=0.52099): 100%|██████████| 20/20 [00:35<00:00,  1.77s/it]\n",
      "Training (6059 / 18000 Steps) (loss=0.55718): 100%|██████████| 20/20 [00:35<00:00,  1.76s/it]\n",
      "Training (6079 / 18000 Steps) (loss=0.43777): 100%|██████████| 20/20 [00:35<00:00,  1.75s/it]\n",
      "Training (6099 / 18000 Steps) (loss=0.36576): 100%|██████████| 20/20 [00:35<00:00,  1.75s/it]\n",
      "Validate (6100 / 10 Steps): 100%|██████████| 8/8 [00:27<00:00,  3.42s/it]4<?, ?it/s]\n",
      "Training (6100 / 18000 Steps) (loss=0.46653):   5%|▌         | 1/20 [00:31<10:07, 31.96s/it]"
     ]
    },
    {
     "name": "stdout",
     "output_type": "stream",
     "text": [
      "Model Was Not Saved ! Current Best Avg. Dice: 0.2893056571483612 Current Avg. Dice: 0.2775127589702606 Current Avg. tumor Dice: 0.2900662124156952 Current Avg. lymph Dice: 0.3009412884712219\n"
     ]
    },
    {
     "name": "stderr",
     "output_type": "stream",
     "text": [
      "Training (6119 / 18000 Steps) (loss=0.58393): 100%|██████████| 20/20 [01:01<00:00,  3.09s/it]\n",
      "Training (6139 / 18000 Steps) (loss=0.65391): 100%|██████████| 20/20 [00:34<00:00,  1.74s/it]\n",
      "Training (6159 / 18000 Steps) (loss=0.59875): 100%|██████████| 20/20 [00:34<00:00,  1.72s/it]\n",
      "Training (6179 / 18000 Steps) (loss=0.57762): 100%|██████████| 20/20 [00:34<00:00,  1.74s/it]\n",
      "Training (6199 / 18000 Steps) (loss=0.38961): 100%|██████████| 20/20 [00:35<00:00,  1.75s/it]\n",
      "Validate (6200 / 10 Steps): 100%|██████████| 8/8 [00:27<00:00,  3.42s/it]4<?, ?it/s]\n",
      "Training (6200 / 18000 Steps) (loss=0.42490):   5%|▌         | 1/20 [00:31<10:05, 31.89s/it]"
     ]
    },
    {
     "name": "stdout",
     "output_type": "stream",
     "text": [
      "Model Was Not Saved ! Current Best Avg. Dice: 0.2893056571483612 Current Avg. Dice: 0.23965239524841309 Current Avg. tumor Dice: 0.30200251936912537 Current Avg. lymph Dice: 0.19699758291244507\n"
     ]
    },
    {
     "name": "stderr",
     "output_type": "stream",
     "text": [
      "Training (6219 / 18000 Steps) (loss=0.35639): 100%|██████████| 20/20 [01:02<00:00,  3.10s/it]\n",
      "Training (6239 / 18000 Steps) (loss=0.49856): 100%|██████████| 20/20 [00:35<00:00,  1.76s/it]\n",
      "Training (6259 / 18000 Steps) (loss=0.53682): 100%|██████████| 20/20 [00:34<00:00,  1.72s/it]\n",
      "Training (6279 / 18000 Steps) (loss=0.41382): 100%|██████████| 20/20 [00:35<00:00,  1.78s/it]\n",
      "Training (6299 / 18000 Steps) (loss=0.58222): 100%|██████████| 20/20 [00:35<00:00,  1.78s/it]\n",
      "Validate (6300 / 10 Steps): 100%|██████████| 8/8 [00:27<00:00,  3.43s/it]5<?, ?it/s]\n",
      "Training (6300 / 18000 Steps) (loss=0.56089):   5%|▌         | 1/20 [00:32<10:19, 32.59s/it]"
     ]
    },
    {
     "name": "stdout",
     "output_type": "stream",
     "text": [
      "Model Was Not Saved ! Current Best Avg. Dice: 0.2893056571483612 Current Avg. Dice: 0.27319425344467163 Current Avg. tumor Dice: 0.29797226190567017 Current Avg. lymph Dice: 0.27972474694252014\n"
     ]
    },
    {
     "name": "stderr",
     "output_type": "stream",
     "text": [
      "Training (6319 / 18000 Steps) (loss=0.66983): 100%|██████████| 20/20 [01:02<00:00,  3.15s/it]\n",
      "Training (6339 / 18000 Steps) (loss=0.41875): 100%|██████████| 20/20 [00:35<00:00,  1.77s/it]\n",
      "Training (6359 / 18000 Steps) (loss=0.43936): 100%|██████████| 20/20 [00:35<00:00,  1.78s/it]\n",
      "Training (6379 / 18000 Steps) (loss=0.67908): 100%|██████████| 20/20 [00:35<00:00,  1.76s/it]\n",
      "Training (6399 / 18000 Steps) (loss=0.34328): 100%|██████████| 20/20 [00:35<00:00,  1.75s/it]\n",
      "Validate (6400 / 10 Steps): 100%|██████████| 8/8 [00:27<00:00,  3.43s/it]4<?, ?it/s]\n",
      "Training (6400 / 18000 Steps) (loss=0.58743):   5%|▌         | 1/20 [00:32<10:11, 32.19s/it]"
     ]
    },
    {
     "name": "stdout",
     "output_type": "stream",
     "text": [
      "Model Was Not Saved ! Current Best Avg. Dice: 0.2893056571483612 Current Avg. Dice: 0.2589234411716461 Current Avg. tumor Dice: 0.28121498227119446 Current Avg. lymph Dice: 0.26597362756729126\n"
     ]
    },
    {
     "name": "stderr",
     "output_type": "stream",
     "text": [
      "Training (6419 / 18000 Steps) (loss=0.44130): 100%|██████████| 20/20 [01:02<00:00,  3.11s/it]\n",
      "Training (6439 / 18000 Steps) (loss=0.36827): 100%|██████████| 20/20 [00:35<00:00,  1.78s/it]\n",
      "Training (6459 / 18000 Steps) (loss=0.43190): 100%|██████████| 20/20 [00:34<00:00,  1.74s/it]\n",
      "Training (6479 / 18000 Steps) (loss=0.46047): 100%|██████████| 20/20 [00:34<00:00,  1.75s/it]\n",
      "Training (6499 / 18000 Steps) (loss=0.42443): 100%|██████████| 20/20 [00:35<00:00,  1.76s/it]\n",
      "Validate (6500 / 10 Steps): 100%|██████████| 8/8 [00:27<00:00,  3.42s/it]4<?, ?it/s]\n",
      "Training (6500 / 18000 Steps) (loss=0.51135):   5%|▌         | 1/20 [00:32<10:14, 32.32s/it]"
     ]
    },
    {
     "name": "stdout",
     "output_type": "stream",
     "text": [
      "Model Was Not Saved ! Current Best Avg. Dice: 0.2893056571483612 Current Avg. Dice: 0.2733084559440613 Current Avg. tumor Dice: 0.28377315402030945 Current Avg. lymph Dice: 0.29720109701156616\n"
     ]
    },
    {
     "name": "stderr",
     "output_type": "stream",
     "text": [
      "Training (6519 / 18000 Steps) (loss=0.61989): 100%|██████████| 20/20 [01:02<00:00,  3.11s/it]\n",
      "Training (6539 / 18000 Steps) (loss=0.58941): 100%|██████████| 20/20 [00:34<00:00,  1.72s/it]\n",
      "Training (6559 / 18000 Steps) (loss=0.54783): 100%|██████████| 20/20 [00:35<00:00,  1.77s/it]\n",
      "Training (6579 / 18000 Steps) (loss=0.64631): 100%|██████████| 20/20 [00:35<00:00,  1.77s/it]\n",
      "Training (6599 / 18000 Steps) (loss=0.47560): 100%|██████████| 20/20 [00:35<00:00,  1.76s/it]\n",
      "Validate (6600 / 10 Steps): 100%|██████████| 8/8 [00:27<00:00,  3.42s/it]4<?, ?it/s]\n",
      "Training (6600 / 18000 Steps) (loss=0.51290):   5%|▌         | 1/20 [00:32<10:14, 32.35s/it]"
     ]
    },
    {
     "name": "stdout",
     "output_type": "stream",
     "text": [
      "Model Was Not Saved ! Current Best Avg. Dice: 0.2893056571483612 Current Avg. Dice: 0.25477197766304016 Current Avg. tumor Dice: 0.22768926620483398 Current Avg. lymph Dice: 0.3252168893814087\n"
     ]
    },
    {
     "name": "stderr",
     "output_type": "stream",
     "text": [
      "Training (6619 / 18000 Steps) (loss=0.32365): 100%|██████████| 20/20 [01:01<00:00,  3.09s/it]\n",
      "Training (6639 / 18000 Steps) (loss=0.44299): 100%|██████████| 20/20 [00:34<00:00,  1.74s/it]\n",
      "Training (6659 / 18000 Steps) (loss=0.55412): 100%|██████████| 20/20 [00:35<00:00,  1.76s/it]\n",
      "Training (6679 / 18000 Steps) (loss=0.46988): 100%|██████████| 20/20 [00:34<00:00,  1.75s/it]\n",
      "Training (6699 / 18000 Steps) (loss=0.53086): 100%|██████████| 20/20 [00:34<00:00,  1.75s/it]\n",
      "Validate (6700 / 10 Steps): 100%|██████████| 8/8 [00:27<00:00,  3.43s/it]4<?, ?it/s]\n",
      "Training (6700 / 18000 Steps) (loss=0.46022):   5%|▌         | 1/20 [00:32<10:10, 32.14s/it]"
     ]
    },
    {
     "name": "stdout",
     "output_type": "stream",
     "text": [
      "Model Was Not Saved ! Current Best Avg. Dice: 0.2893056571483612 Current Avg. Dice: 0.2551848292350769 Current Avg. tumor Dice: 0.2657545804977417 Current Avg. lymph Dice: 0.2822481393814087\n"
     ]
    },
    {
     "name": "stderr",
     "output_type": "stream",
     "text": [
      "Training (6719 / 18000 Steps) (loss=0.49090): 100%|██████████| 20/20 [01:01<00:00,  3.09s/it]\n",
      "Training (6739 / 18000 Steps) (loss=0.59614): 100%|██████████| 20/20 [00:35<00:00,  1.77s/it]\n",
      "Training (6759 / 18000 Steps) (loss=0.61685): 100%|██████████| 20/20 [00:35<00:00,  1.77s/it]\n",
      "Training (6779 / 18000 Steps) (loss=0.52603): 100%|██████████| 20/20 [00:34<00:00,  1.74s/it]\n",
      "Training (6799 / 18000 Steps) (loss=0.53553): 100%|██████████| 20/20 [00:34<00:00,  1.75s/it]\n",
      "Validate (6800 / 10 Steps): 100%|██████████| 8/8 [00:27<00:00,  3.45s/it]4<?, ?it/s]\n",
      "Training (6800 / 18000 Steps) (loss=0.55788):   5%|▌         | 1/20 [00:32<10:11, 32.20s/it]"
     ]
    },
    {
     "name": "stdout",
     "output_type": "stream",
     "text": [
      "Model Was Not Saved ! Current Best Avg. Dice: 0.2893056571483612 Current Avg. Dice: 0.277358740568161 Current Avg. tumor Dice: 0.2849256098270416 Current Avg. lymph Dice: 0.30235013365745544\n"
     ]
    },
    {
     "name": "stderr",
     "output_type": "stream",
     "text": [
      "Training (6819 / 18000 Steps) (loss=0.58443): 100%|██████████| 20/20 [01:01<00:00,  3.10s/it]\n",
      "Training (6839 / 18000 Steps) (loss=0.40955): 100%|██████████| 20/20 [00:35<00:00,  1.77s/it]\n",
      "Training (6859 / 18000 Steps) (loss=0.57442): 100%|██████████| 20/20 [00:34<00:00,  1.73s/it]\n",
      "Training (6879 / 18000 Steps) (loss=0.55900): 100%|██████████| 20/20 [00:34<00:00,  1.73s/it]\n",
      "Training (6899 / 18000 Steps) (loss=0.32442): 100%|██████████| 20/20 [00:34<00:00,  1.73s/it]\n",
      "Validate (6900 / 10 Steps): 100%|██████████| 8/8 [00:27<00:00,  3.41s/it]4<?, ?it/s]\n",
      "Training (6900 / 18000 Steps) (loss=0.52753):   5%|▌         | 1/20 [00:33<10:29, 33.15s/it]"
     ]
    },
    {
     "name": "stdout",
     "output_type": "stream",
     "text": [
      "Model Was Saved ! Current Best Avg. Dice: 0.3021773397922516 Current Avg. Dice: 0.3021773397922516 Current Avg. tumor Dice: 0.3138713836669922 Current Avg. lymph Dice: 0.3248238265514374\n"
     ]
    },
    {
     "name": "stderr",
     "output_type": "stream",
     "text": [
      "Training (6919 / 18000 Steps) (loss=0.44727): 100%|██████████| 20/20 [01:03<00:00,  3.16s/it]\n",
      "Training (6939 / 18000 Steps) (loss=0.35200): 100%|██████████| 20/20 [00:34<00:00,  1.73s/it]\n",
      "Training (6959 / 18000 Steps) (loss=0.67453): 100%|██████████| 20/20 [00:34<00:00,  1.73s/it]\n",
      "Training (6979 / 18000 Steps) (loss=0.45620): 100%|██████████| 20/20 [00:35<00:00,  1.75s/it]\n",
      "Training (6999 / 18000 Steps) (loss=0.49590): 100%|██████████| 20/20 [00:34<00:00,  1.72s/it]\n",
      "Validate (7000 / 10 Steps): 100%|██████████| 8/8 [00:27<00:00,  3.45s/it]4<?, ?it/s]\n",
      "Training (7000 / 18000 Steps) (loss=0.51127):   5%|▌         | 1/20 [00:32<10:14, 32.34s/it]"
     ]
    },
    {
     "name": "stdout",
     "output_type": "stream",
     "text": [
      "Model Was Not Saved ! Current Best Avg. Dice: 0.3021773397922516 Current Avg. Dice: 0.2658119797706604 Current Avg. tumor Dice: 0.2828337550163269 Current Avg. lymph Dice: 0.2769157588481903\n"
     ]
    },
    {
     "name": "stderr",
     "output_type": "stream",
     "text": [
      "Training (7019 / 18000 Steps) (loss=0.52081): 100%|██████████| 20/20 [01:01<00:00,  3.09s/it]\n",
      "Training (7039 / 18000 Steps) (loss=0.59438): 100%|██████████| 20/20 [00:34<00:00,  1.73s/it]\n",
      "Training (7059 / 18000 Steps) (loss=0.52921): 100%|██████████| 20/20 [00:35<00:00,  1.80s/it]\n",
      "Training (7079 / 18000 Steps) (loss=0.49892): 100%|██████████| 20/20 [00:34<00:00,  1.75s/it]\n",
      "Training (7099 / 18000 Steps) (loss=0.62524): 100%|██████████| 20/20 [00:35<00:00,  1.75s/it]\n",
      "Validate (7100 / 10 Steps): 100%|██████████| 8/8 [00:27<00:00,  3.44s/it]4<?, ?it/s]\n",
      "Training (7100 / 18000 Steps) (loss=0.59061):   5%|▌         | 1/20 [00:32<10:18, 32.53s/it]"
     ]
    },
    {
     "name": "stdout",
     "output_type": "stream",
     "text": [
      "Model Was Not Saved ! Current Best Avg. Dice: 0.3021773397922516 Current Avg. Dice: 0.28690579533576965 Current Avg. tumor Dice: 0.29795747995376587 Current Avg. lymph Dice: 0.312276691198349\n"
     ]
    },
    {
     "name": "stderr",
     "output_type": "stream",
     "text": [
      "Training (7119 / 18000 Steps) (loss=0.42973): 100%|██████████| 20/20 [01:02<00:00,  3.12s/it]\n",
      "Training (7139 / 18000 Steps) (loss=0.50218): 100%|██████████| 20/20 [00:35<00:00,  1.77s/it]\n",
      "Training (7159 / 18000 Steps) (loss=0.46889): 100%|██████████| 20/20 [00:34<00:00,  1.73s/it]\n",
      "Training (7179 / 18000 Steps) (loss=0.52030): 100%|██████████| 20/20 [00:34<00:00,  1.72s/it]\n",
      "Training (7199 / 18000 Steps) (loss=0.40256): 100%|██████████| 20/20 [00:34<00:00,  1.74s/it]\n",
      "Validate (7200 / 10 Steps): 100%|██████████| 8/8 [00:27<00:00,  3.43s/it]4<?, ?it/s]\n",
      "Training (7200 / 18000 Steps) (loss=0.38473):   5%|▌         | 1/20 [00:32<10:15, 32.41s/it]"
     ]
    },
    {
     "name": "stdout",
     "output_type": "stream",
     "text": [
      "Model Was Not Saved ! Current Best Avg. Dice: 0.3021773397922516 Current Avg. Dice: 0.2500753402709961 Current Avg. tumor Dice: 0.29810139536857605 Current Avg. lymph Dice: 0.23313379287719727\n"
     ]
    },
    {
     "name": "stderr",
     "output_type": "stream",
     "text": [
      "Training (7219 / 18000 Steps) (loss=0.56264): 100%|██████████| 20/20 [01:01<00:00,  3.09s/it]\n",
      "Training (7239 / 18000 Steps) (loss=0.62920): 100%|██████████| 20/20 [00:35<00:00,  1.77s/it]\n",
      "Training (7259 / 18000 Steps) (loss=0.46530): 100%|██████████| 20/20 [00:34<00:00,  1.73s/it]\n",
      "Training (7279 / 18000 Steps) (loss=0.46218): 100%|██████████| 20/20 [00:35<00:00,  1.77s/it]\n",
      "Training (7299 / 18000 Steps) (loss=0.50113): 100%|██████████| 20/20 [00:34<00:00,  1.75s/it]\n",
      "Validate (7300 / 10 Steps): 100%|██████████| 8/8 [00:27<00:00,  3.42s/it]4<?, ?it/s]\n",
      "Training (7300 / 18000 Steps) (loss=0.44243):   5%|▌         | 1/20 [00:32<10:08, 32.04s/it]"
     ]
    },
    {
     "name": "stdout",
     "output_type": "stream",
     "text": [
      "Model Was Not Saved ! Current Best Avg. Dice: 0.3021773397922516 Current Avg. Dice: 0.28058820962905884 Current Avg. tumor Dice: 0.2500646412372589 Current Avg. lymph Dice: 0.35897520184516907\n"
     ]
    },
    {
     "name": "stderr",
     "output_type": "stream",
     "text": [
      "Training (7319 / 18000 Steps) (loss=0.48639): 100%|██████████| 20/20 [01:01<00:00,  3.09s/it]\n",
      "Training (7339 / 18000 Steps) (loss=0.50531): 100%|██████████| 20/20 [00:35<00:00,  1.76s/it]\n",
      "Training (7359 / 18000 Steps) (loss=0.60680): 100%|██████████| 20/20 [00:34<00:00,  1.74s/it]\n",
      "Training (7379 / 18000 Steps) (loss=0.48265): 100%|██████████| 20/20 [00:35<00:00,  1.76s/it]\n",
      "Training (7399 / 18000 Steps) (loss=0.53377): 100%|██████████| 20/20 [00:34<00:00,  1.75s/it]\n",
      "Validate (7400 / 10 Steps): 100%|██████████| 8/8 [00:27<00:00,  3.46s/it]4<?, ?it/s]\n",
      "Training (7400 / 18000 Steps) (loss=0.37511):   5%|▌         | 1/20 [00:32<10:17, 32.48s/it]"
     ]
    },
    {
     "name": "stdout",
     "output_type": "stream",
     "text": [
      "Model Was Not Saved ! Current Best Avg. Dice: 0.3021773397922516 Current Avg. Dice: 0.28329354524612427 Current Avg. tumor Dice: 0.27763310074806213 Current Avg. lymph Dice: 0.3334084153175354\n"
     ]
    },
    {
     "name": "stderr",
     "output_type": "stream",
     "text": [
      "Training (7419 / 18000 Steps) (loss=0.60406): 100%|██████████| 20/20 [01:02<00:00,  3.11s/it]\n",
      "Training (7439 / 18000 Steps) (loss=0.49661): 100%|██████████| 20/20 [00:35<00:00,  1.75s/it]\n",
      "Training (7459 / 18000 Steps) (loss=0.41645): 100%|██████████| 20/20 [00:35<00:00,  1.76s/it]\n",
      "Training (7479 / 18000 Steps) (loss=0.39331): 100%|██████████| 20/20 [00:34<00:00,  1.74s/it]\n",
      "Training (7499 / 18000 Steps) (loss=0.58493): 100%|██████████| 20/20 [00:34<00:00,  1.74s/it]\n",
      "Validate (7500 / 10 Steps): 100%|██████████| 8/8 [00:27<00:00,  3.47s/it]4<?, ?it/s]\n",
      "Training (7500 / 18000 Steps) (loss=0.57929):   5%|▌         | 1/20 [00:32<10:15, 32.40s/it]"
     ]
    },
    {
     "name": "stdout",
     "output_type": "stream",
     "text": [
      "Model Was Not Saved ! Current Best Avg. Dice: 0.3021773397922516 Current Avg. Dice: 0.2232711762189865 Current Avg. tumor Dice: 0.267808735370636 Current Avg. lymph Dice: 0.20623113214969635\n"
     ]
    },
    {
     "name": "stderr",
     "output_type": "stream",
     "text": [
      "Training (7519 / 18000 Steps) (loss=0.45099): 100%|██████████| 20/20 [01:02<00:00,  3.13s/it]\n",
      "Training (7539 / 18000 Steps) (loss=0.45976): 100%|██████████| 20/20 [00:35<00:00,  1.78s/it]\n",
      "Training (7559 / 18000 Steps) (loss=0.39814): 100%|██████████| 20/20 [00:35<00:00,  1.76s/it]\n",
      "Training (7579 / 18000 Steps) (loss=0.45484): 100%|██████████| 20/20 [00:34<00:00,  1.75s/it]\n",
      "Training (7599 / 18000 Steps) (loss=0.52234): 100%|██████████| 20/20 [00:35<00:00,  1.77s/it]\n",
      "Validate (7600 / 10 Steps): 100%|██████████| 8/8 [00:27<00:00,  3.47s/it]4<?, ?it/s]\n",
      "Training (7600 / 18000 Steps) (loss=0.45647):   5%|▌         | 1/20 [00:32<10:14, 32.32s/it]"
     ]
    },
    {
     "name": "stdout",
     "output_type": "stream",
     "text": [
      "Model Was Not Saved ! Current Best Avg. Dice: 0.3021773397922516 Current Avg. Dice: 0.27072829008102417 Current Avg. tumor Dice: 0.2641533613204956 Current Avg. lymph Dice: 0.31996530294418335\n"
     ]
    },
    {
     "name": "stderr",
     "output_type": "stream",
     "text": [
      "Training (7619 / 18000 Steps) (loss=0.49362): 100%|██████████| 20/20 [01:02<00:00,  3.11s/it]\n",
      "Training (7639 / 18000 Steps) (loss=0.37635): 100%|██████████| 20/20 [00:35<00:00,  1.78s/it]\n",
      "Training (7659 / 18000 Steps) (loss=0.65615): 100%|██████████| 20/20 [00:35<00:00,  1.77s/it]\n",
      "Training (7679 / 18000 Steps) (loss=0.46015): 100%|██████████| 20/20 [00:35<00:00,  1.75s/it]\n",
      "Training (7699 / 18000 Steps) (loss=0.55287): 100%|██████████| 20/20 [00:35<00:00,  1.77s/it]\n",
      "Validate (7700 / 10 Steps): 100%|██████████| 8/8 [00:27<00:00,  3.44s/it]4<?, ?it/s]\n",
      "Training (7700 / 18000 Steps) (loss=0.43937):   5%|▌         | 1/20 [00:32<10:15, 32.40s/it]"
     ]
    },
    {
     "name": "stdout",
     "output_type": "stream",
     "text": [
      "Model Was Not Saved ! Current Best Avg. Dice: 0.3021773397922516 Current Avg. Dice: 0.26165252923965454 Current Avg. tumor Dice: 0.27119413018226624 Current Avg. lymph Dice: 0.2908971607685089\n"
     ]
    },
    {
     "name": "stderr",
     "output_type": "stream",
     "text": [
      "Training (7719 / 18000 Steps) (loss=0.38189): 100%|██████████| 20/20 [01:02<00:00,  3.14s/it]\n",
      "Training (7739 / 18000 Steps) (loss=0.39190): 100%|██████████| 20/20 [00:35<00:00,  1.79s/it]\n",
      "Training (7759 / 18000 Steps) (loss=0.47557): 100%|██████████| 20/20 [00:35<00:00,  1.78s/it]\n",
      "Training (7779 / 18000 Steps) (loss=0.60014): 100%|██████████| 20/20 [00:34<00:00,  1.74s/it]\n",
      "Training (7799 / 18000 Steps) (loss=0.53703): 100%|██████████| 20/20 [00:35<00:00,  1.76s/it]\n",
      "Validate (7800 / 10 Steps): 100%|██████████| 8/8 [00:27<00:00,  3.42s/it]4<?, ?it/s]\n",
      "Training (7800 / 18000 Steps) (loss=0.51113):   5%|▌         | 1/20 [00:32<10:09, 32.07s/it]"
     ]
    },
    {
     "name": "stdout",
     "output_type": "stream",
     "text": [
      "Model Was Not Saved ! Current Best Avg. Dice: 0.3021773397922516 Current Avg. Dice: 0.2648146450519562 Current Avg. tumor Dice: 0.27700182795524597 Current Avg. lymph Dice: 0.2914932072162628\n"
     ]
    },
    {
     "name": "stderr",
     "output_type": "stream",
     "text": [
      "Training (7819 / 18000 Steps) (loss=0.33396): 100%|██████████| 20/20 [01:02<00:00,  3.12s/it]\n",
      "Training (7839 / 18000 Steps) (loss=0.53534): 100%|██████████| 20/20 [00:35<00:00,  1.77s/it]\n",
      "Training (7859 / 18000 Steps) (loss=0.53625): 100%|██████████| 20/20 [00:36<00:00,  1.80s/it]\n",
      "Training (7879 / 18000 Steps) (loss=0.64614): 100%|██████████| 20/20 [00:35<00:00,  1.78s/it]\n",
      "Training (7899 / 18000 Steps) (loss=0.58813): 100%|██████████| 20/20 [00:35<00:00,  1.78s/it]\n",
      "Validate (7900 / 10 Steps): 100%|██████████| 8/8 [00:27<00:00,  3.42s/it]4<?, ?it/s]\n",
      "Training (7900 / 18000 Steps) (loss=0.44608):   5%|▌         | 1/20 [00:32<10:14, 32.36s/it]"
     ]
    },
    {
     "name": "stdout",
     "output_type": "stream",
     "text": [
      "Model Was Not Saved ! Current Best Avg. Dice: 0.3021773397922516 Current Avg. Dice: 0.22015146911144257 Current Avg. tumor Dice: 0.25965315103530884 Current Avg. lymph Dice: 0.20747168362140656\n"
     ]
    },
    {
     "name": "stderr",
     "output_type": "stream",
     "text": [
      "Training (7919 / 18000 Steps) (loss=0.51103): 100%|██████████| 20/20 [01:02<00:00,  3.13s/it]\n",
      "Training (7939 / 18000 Steps) (loss=0.50727): 100%|██████████| 20/20 [00:35<00:00,  1.80s/it]\n",
      "Training (7959 / 18000 Steps) (loss=0.57220): 100%|██████████| 20/20 [00:34<00:00,  1.75s/it]\n",
      "Training (7979 / 18000 Steps) (loss=0.57159): 100%|██████████| 20/20 [00:35<00:00,  1.75s/it]\n",
      "Training (7999 / 18000 Steps) (loss=0.36568): 100%|██████████| 20/20 [00:35<00:00,  1.77s/it]\n",
      "Validate (8000 / 10 Steps): 100%|██████████| 8/8 [00:27<00:00,  3.45s/it]4<?, ?it/s]\n",
      "Training (8000 / 18000 Steps) (loss=0.53497):   5%|▌         | 1/20 [00:32<10:12, 32.25s/it]"
     ]
    },
    {
     "name": "stdout",
     "output_type": "stream",
     "text": [
      "Model Was Not Saved ! Current Best Avg. Dice: 0.3021773397922516 Current Avg. Dice: 0.282939076423645 Current Avg. tumor Dice: 0.2946884036064148 Current Avg. lymph Dice: 0.3118588328361511\n"
     ]
    },
    {
     "name": "stderr",
     "output_type": "stream",
     "text": [
      "Training (8019 / 18000 Steps) (loss=0.65449): 100%|██████████| 20/20 [01:02<00:00,  3.11s/it]\n",
      "Training (8039 / 18000 Steps) (loss=0.55531): 100%|██████████| 20/20 [00:35<00:00,  1.78s/it]\n",
      "Training (8059 / 18000 Steps) (loss=0.49054): 100%|██████████| 20/20 [00:35<00:00,  1.76s/it]\n",
      "Training (8079 / 18000 Steps) (loss=0.58374): 100%|██████████| 20/20 [00:35<00:00,  1.78s/it]\n",
      "Training (8099 / 18000 Steps) (loss=0.54357): 100%|██████████| 20/20 [00:35<00:00,  1.78s/it]\n",
      "Validate (8100 / 10 Steps): 100%|██████████| 8/8 [00:27<00:00,  3.44s/it]4<?, ?it/s]\n",
      "Training (8100 / 18000 Steps) (loss=0.43072):   5%|▌         | 1/20 [00:32<10:11, 32.18s/it]"
     ]
    },
    {
     "name": "stdout",
     "output_type": "stream",
     "text": [
      "Model Was Not Saved ! Current Best Avg. Dice: 0.3021773397922516 Current Avg. Dice: 0.2787845730781555 Current Avg. tumor Dice: 0.29625675082206726 Current Avg. lymph Dice: 0.3007719814777374\n"
     ]
    },
    {
     "name": "stderr",
     "output_type": "stream",
     "text": [
      "Training (8119 / 18000 Steps) (loss=0.57641): 100%|██████████| 20/20 [01:02<00:00,  3.12s/it]\n",
      "Training (8139 / 18000 Steps) (loss=0.38029): 100%|██████████| 20/20 [00:35<00:00,  1.77s/it]\n",
      "Training (8159 / 18000 Steps) (loss=0.58434): 100%|██████████| 20/20 [00:35<00:00,  1.78s/it]\n",
      "Training (8179 / 18000 Steps) (loss=0.35317): 100%|██████████| 20/20 [00:34<00:00,  1.75s/it]\n",
      "Training (8199 / 18000 Steps) (loss=0.51775): 100%|██████████| 20/20 [00:35<00:00,  1.75s/it]\n",
      "Validate (8200 / 10 Steps): 100%|██████████| 8/8 [00:27<00:00,  3.44s/it]4<?, ?it/s]\n",
      "Training (8200 / 18000 Steps) (loss=0.52313):   5%|▌         | 1/20 [00:32<10:16, 32.45s/it]"
     ]
    },
    {
     "name": "stdout",
     "output_type": "stream",
     "text": [
      "Model Was Not Saved ! Current Best Avg. Dice: 0.3021773397922516 Current Avg. Dice: 0.2791748642921448 Current Avg. tumor Dice: 0.2962857484817505 Current Avg. lymph Dice: 0.3023814857006073\n"
     ]
    },
    {
     "name": "stderr",
     "output_type": "stream",
     "text": [
      "Training (8219 / 18000 Steps) (loss=0.62190): 100%|██████████| 20/20 [01:02<00:00,  3.12s/it]\n",
      "Training (8239 / 18000 Steps) (loss=0.65648): 100%|██████████| 20/20 [00:35<00:00,  1.76s/it]\n",
      "Training (8259 / 18000 Steps) (loss=0.55898): 100%|██████████| 20/20 [00:35<00:00,  1.77s/it]\n",
      "Training (8279 / 18000 Steps) (loss=0.57087): 100%|██████████| 20/20 [00:35<00:00,  1.77s/it]\n",
      "Training (8299 / 18000 Steps) (loss=0.58125): 100%|██████████| 20/20 [00:34<00:00,  1.74s/it]\n",
      "Validate (8300 / 10 Steps): 100%|██████████| 8/8 [00:27<00:00,  3.44s/it]4<?, ?it/s]\n",
      "Training (8300 / 18000 Steps) (loss=0.54814):   5%|▌         | 1/20 [00:32<10:11, 32.19s/it]"
     ]
    },
    {
     "name": "stdout",
     "output_type": "stream",
     "text": [
      "Model Was Not Saved ! Current Best Avg. Dice: 0.3021773397922516 Current Avg. Dice: 0.29635581374168396 Current Avg. tumor Dice: 0.2966662347316742 Current Avg. lymph Dice: 0.3335457444190979\n"
     ]
    },
    {
     "name": "stderr",
     "output_type": "stream",
     "text": [
      "Training (8319 / 18000 Steps) (loss=0.38214): 100%|██████████| 20/20 [01:02<00:00,  3.11s/it]\n",
      "Training (8339 / 18000 Steps) (loss=0.29705): 100%|██████████| 20/20 [00:34<00:00,  1.73s/it]\n",
      "Training (8359 / 18000 Steps) (loss=0.56494): 100%|██████████| 20/20 [00:35<00:00,  1.77s/it]\n",
      "Training (8379 / 18000 Steps) (loss=0.45069): 100%|██████████| 20/20 [00:35<00:00,  1.77s/it]\n",
      "Training (8399 / 18000 Steps) (loss=0.31465): 100%|██████████| 20/20 [00:34<00:00,  1.75s/it]\n",
      "Validate (8400 / 10 Steps): 100%|██████████| 8/8 [00:27<00:00,  3.45s/it]4<?, ?it/s]\n",
      "Training (8400 / 18000 Steps) (loss=0.48276):   5%|▌         | 1/20 [00:32<10:14, 32.33s/it]"
     ]
    },
    {
     "name": "stdout",
     "output_type": "stream",
     "text": [
      "Model Was Not Saved ! Current Best Avg. Dice: 0.3021773397922516 Current Avg. Dice: 0.2886420488357544 Current Avg. tumor Dice: 0.31122371554374695 Current Avg. lymph Dice: 0.2962706387042999\n"
     ]
    },
    {
     "name": "stderr",
     "output_type": "stream",
     "text": [
      "Training (8419 / 18000 Steps) (loss=0.45258): 100%|██████████| 20/20 [01:02<00:00,  3.12s/it]\n",
      "Training (8439 / 18000 Steps) (loss=0.53950): 100%|██████████| 20/20 [00:35<00:00,  1.75s/it]\n",
      "Training (8459 / 18000 Steps) (loss=0.40405): 100%|██████████| 20/20 [00:35<00:00,  1.78s/it]\n",
      "Training (8479 / 18000 Steps) (loss=0.48474): 100%|██████████| 20/20 [00:35<00:00,  1.75s/it]\n",
      "Training (8499 / 18000 Steps) (loss=0.39506): 100%|██████████| 20/20 [00:35<00:00,  1.79s/it]\n",
      "Validate (8500 / 10 Steps): 100%|██████████| 8/8 [00:27<00:00,  3.44s/it]5<?, ?it/s]\n",
      "Training (8500 / 18000 Steps) (loss=0.55844):   5%|▌         | 1/20 [00:32<10:20, 32.65s/it]"
     ]
    },
    {
     "name": "stdout",
     "output_type": "stream",
     "text": [
      "Model Was Not Saved ! Current Best Avg. Dice: 0.3021773397922516 Current Avg. Dice: 0.27885550260543823 Current Avg. tumor Dice: 0.2777405381202698 Current Avg. lymph Dice: 0.31168320775032043\n"
     ]
    },
    {
     "name": "stderr",
     "output_type": "stream",
     "text": [
      "Training (8519 / 18000 Steps) (loss=0.38738): 100%|██████████| 20/20 [01:02<00:00,  3.15s/it]\n",
      "Training (8539 / 18000 Steps) (loss=0.44779): 100%|██████████| 20/20 [00:35<00:00,  1.78s/it]\n",
      "Training (8559 / 18000 Steps) (loss=0.48952): 100%|██████████| 20/20 [00:35<00:00,  1.76s/it]\n",
      "Training (8579 / 18000 Steps) (loss=0.52416): 100%|██████████| 20/20 [00:35<00:00,  1.78s/it]\n",
      "Training (8599 / 18000 Steps) (loss=0.66761): 100%|██████████| 20/20 [00:35<00:00,  1.79s/it]\n",
      "Validate (8600 / 10 Steps): 100%|██████████| 8/8 [00:27<00:00,  3.45s/it]4<?, ?it/s]\n",
      "Training (8600 / 18000 Steps) (loss=0.54182):   5%|▌         | 1/20 [00:32<10:16, 32.43s/it]"
     ]
    },
    {
     "name": "stdout",
     "output_type": "stream",
     "text": [
      "Model Was Not Saved ! Current Best Avg. Dice: 0.3021773397922516 Current Avg. Dice: 0.2763374447822571 Current Avg. tumor Dice: 0.27885115146636963 Current Avg. lymph Dice: 0.3157746493816376\n"
     ]
    },
    {
     "name": "stderr",
     "output_type": "stream",
     "text": [
      "Training (8619 / 18000 Steps) (loss=0.48103): 100%|██████████| 20/20 [01:03<00:00,  3.15s/it]\n",
      "Training (8639 / 18000 Steps) (loss=0.36060): 100%|██████████| 20/20 [00:35<00:00,  1.77s/it]\n",
      "Training (8659 / 18000 Steps) (loss=0.48750): 100%|██████████| 20/20 [00:35<00:00,  1.78s/it]\n",
      "Training (8679 / 18000 Steps) (loss=0.28273): 100%|██████████| 20/20 [00:35<00:00,  1.77s/it]\n",
      "Training (8699 / 18000 Steps) (loss=0.26655): 100%|██████████| 20/20 [00:35<00:00,  1.77s/it]\n",
      "Validate (8700 / 10 Steps): 100%|██████████| 8/8 [00:27<00:00,  3.45s/it]4<?, ?it/s]\n",
      "Training (8700 / 18000 Steps) (loss=0.48638):   5%|▌         | 1/20 [00:32<10:13, 32.31s/it]"
     ]
    },
    {
     "name": "stdout",
     "output_type": "stream",
     "text": [
      "Model Was Not Saved ! Current Best Avg. Dice: 0.3021773397922516 Current Avg. Dice: 0.2872123420238495 Current Avg. tumor Dice: 0.28638219833374023 Current Avg. lymph Dice: 0.3303176164627075\n"
     ]
    },
    {
     "name": "stderr",
     "output_type": "stream",
     "text": [
      "Training (8719 / 18000 Steps) (loss=0.43901): 100%|██████████| 20/20 [01:03<00:00,  3.17s/it]\n",
      "Training (8739 / 18000 Steps) (loss=0.51723): 100%|██████████| 20/20 [00:35<00:00,  1.78s/it]\n",
      "Training (8759 / 18000 Steps) (loss=0.60575): 100%|██████████| 20/20 [00:36<00:00,  1.81s/it]\n",
      "Training (8779 / 18000 Steps) (loss=0.53925): 100%|██████████| 20/20 [00:35<00:00,  1.76s/it]\n",
      "Training (8799 / 18000 Steps) (loss=0.61823): 100%|██████████| 20/20 [00:36<00:00,  1.81s/it]\n",
      "Validate (8800 / 10 Steps): 100%|██████████| 8/8 [00:27<00:00,  3.47s/it]4<?, ?it/s]\n",
      "Training (8800 / 18000 Steps) (loss=0.45919):   5%|▌         | 1/20 [00:32<10:16, 32.44s/it]"
     ]
    },
    {
     "name": "stdout",
     "output_type": "stream",
     "text": [
      "Model Was Not Saved ! Current Best Avg. Dice: 0.3021773397922516 Current Avg. Dice: 0.2669926881790161 Current Avg. tumor Dice: 0.2858104705810547 Current Avg. lymph Dice: 0.281266987323761\n"
     ]
    },
    {
     "name": "stderr",
     "output_type": "stream",
     "text": [
      "Training (8819 / 18000 Steps) (loss=0.53446): 100%|██████████| 20/20 [01:02<00:00,  3.14s/it]\n",
      "Training (8839 / 18000 Steps) (loss=0.29633): 100%|██████████| 20/20 [00:35<00:00,  1.77s/it]\n",
      "Training (8859 / 18000 Steps) (loss=0.44411): 100%|██████████| 20/20 [00:35<00:00,  1.80s/it]\n",
      "Training (8879 / 18000 Steps) (loss=0.50391): 100%|██████████| 20/20 [00:35<00:00,  1.79s/it]\n",
      "Training (8899 / 18000 Steps) (loss=0.34110): 100%|██████████| 20/20 [00:35<00:00,  1.79s/it]\n",
      "Validate (8900 / 10 Steps): 100%|██████████| 8/8 [00:27<00:00,  3.47s/it]5<?, ?it/s]\n",
      "Training (8900 / 18000 Steps) (loss=0.51354):   5%|▌         | 1/20 [00:32<10:24, 32.85s/it]"
     ]
    },
    {
     "name": "stdout",
     "output_type": "stream",
     "text": [
      "Model Was Not Saved ! Current Best Avg. Dice: 0.3021773397922516 Current Avg. Dice: 0.2636227011680603 Current Avg. tumor Dice: 0.29087668657302856 Current Avg. lymph Dice: 0.2674708068370819\n"
     ]
    },
    {
     "name": "stderr",
     "output_type": "stream",
     "text": [
      "Training (8919 / 18000 Steps) (loss=0.39152): 100%|██████████| 20/20 [01:03<00:00,  3.18s/it]\n",
      "Training (8939 / 18000 Steps) (loss=0.47935): 100%|██████████| 20/20 [00:35<00:00,  1.78s/it]\n",
      "Training (8959 / 18000 Steps) (loss=0.61940): 100%|██████████| 20/20 [00:36<00:00,  1.80s/it]\n",
      "Training (8979 / 18000 Steps) (loss=0.56217): 100%|██████████| 20/20 [00:35<00:00,  1.78s/it]\n",
      "Training (8999 / 18000 Steps) (loss=0.64750): 100%|██████████| 20/20 [00:35<00:00,  1.77s/it]\n",
      "Validate (9000 / 10 Steps): 100%|██████████| 8/8 [00:27<00:00,  3.46s/it]4<?, ?it/s]\n",
      "Training (9000 / 18000 Steps) (loss=0.59693):   5%|▌         | 1/20 [00:32<10:15, 32.38s/it]"
     ]
    },
    {
     "name": "stdout",
     "output_type": "stream",
     "text": [
      "Model Was Not Saved ! Current Best Avg. Dice: 0.3021773397922516 Current Avg. Dice: 0.28020361065864563 Current Avg. tumor Dice: 0.2907087206840515 Current Avg. lymph Dice: 0.3109617829322815\n"
     ]
    },
    {
     "name": "stderr",
     "output_type": "stream",
     "text": [
      "Training (9019 / 18000 Steps) (loss=0.48434): 100%|██████████| 20/20 [01:02<00:00,  3.13s/it]\n",
      "Training (9039 / 18000 Steps) (loss=0.65855): 100%|██████████| 20/20 [00:35<00:00,  1.79s/it]\n",
      "Training (9059 / 18000 Steps) (loss=0.51790): 100%|██████████| 20/20 [00:35<00:00,  1.79s/it]\n",
      "Training (9079 / 18000 Steps) (loss=0.36311): 100%|██████████| 20/20 [00:36<00:00,  1.81s/it]\n",
      "Training (9099 / 18000 Steps) (loss=0.62692): 100%|██████████| 20/20 [00:35<00:00,  1.77s/it]\n",
      "Validate (9100 / 10 Steps): 100%|██████████| 8/8 [00:27<00:00,  3.44s/it]5<?, ?it/s]\n",
      "Training (9100 / 18000 Steps) (loss=0.52767):   5%|▌         | 1/20 [00:32<10:22, 32.78s/it]"
     ]
    },
    {
     "name": "stdout",
     "output_type": "stream",
     "text": [
      "Model Was Not Saved ! Current Best Avg. Dice: 0.3021773397922516 Current Avg. Dice: 0.27161407470703125 Current Avg. tumor Dice: 0.2686311602592468 Current Avg. lymph Dice: 0.31681376695632935\n"
     ]
    },
    {
     "name": "stderr",
     "output_type": "stream",
     "text": [
      "Training (9119 / 18000 Steps) (loss=0.45164): 100%|██████████| 20/20 [01:03<00:00,  3.17s/it]\n",
      "Training (9139 / 18000 Steps) (loss=0.42903): 100%|██████████| 20/20 [00:35<00:00,  1.77s/it]\n",
      "Training (9159 / 18000 Steps) (loss=0.47933): 100%|██████████| 20/20 [00:35<00:00,  1.79s/it]\n",
      "Training (9179 / 18000 Steps) (loss=0.33480): 100%|██████████| 20/20 [00:35<00:00,  1.77s/it]\n",
      "Training (9199 / 18000 Steps) (loss=0.58897): 100%|██████████| 20/20 [00:36<00:00,  1.81s/it]\n",
      "Validate (9200 / 10 Steps): 100%|██████████| 8/8 [00:27<00:00,  3.46s/it]4<?, ?it/s]\n",
      "Training (9200 / 18000 Steps) (loss=0.33086):   5%|▌         | 1/20 [00:32<10:18, 32.55s/it]"
     ]
    },
    {
     "name": "stdout",
     "output_type": "stream",
     "text": [
      "Model Was Not Saved ! Current Best Avg. Dice: 0.3021773397922516 Current Avg. Dice: 0.2877660095691681 Current Avg. tumor Dice: 0.2800794541835785 Current Avg. lymph Dice: 0.3409068286418915\n"
     ]
    },
    {
     "name": "stderr",
     "output_type": "stream",
     "text": [
      "Training (9219 / 18000 Steps) (loss=0.51754): 100%|██████████| 20/20 [01:03<00:00,  3.18s/it]\n",
      "Training (9239 / 18000 Steps) (loss=0.52102): 100%|██████████| 20/20 [00:36<00:00,  1.80s/it]\n",
      "Training (9259 / 18000 Steps) (loss=0.56250): 100%|██████████| 20/20 [00:35<00:00,  1.79s/it]\n",
      "Training (9279 / 18000 Steps) (loss=0.52903): 100%|██████████| 20/20 [00:35<00:00,  1.78s/it]\n",
      "Training (9299 / 18000 Steps) (loss=0.43578): 100%|██████████| 20/20 [00:35<00:00,  1.79s/it]\n",
      "Validate (9300 / 10 Steps): 100%|██████████| 8/8 [00:27<00:00,  3.44s/it]4<?, ?it/s]\n",
      "Training (9300 / 18000 Steps) (loss=0.52610):   5%|▌         | 1/20 [00:32<10:13, 32.27s/it]"
     ]
    },
    {
     "name": "stdout",
     "output_type": "stream",
     "text": [
      "Model Was Not Saved ! Current Best Avg. Dice: 0.3021773397922516 Current Avg. Dice: 0.2973518371582031 Current Avg. tumor Dice: 0.32043880224227905 Current Avg. lymph Dice: 0.3164594769477844\n"
     ]
    },
    {
     "name": "stderr",
     "output_type": "stream",
     "text": [
      "Training (9319 / 18000 Steps) (loss=0.65196): 100%|██████████| 20/20 [01:02<00:00,  3.14s/it]\n",
      "Training (9339 / 18000 Steps) (loss=0.56890): 100%|██████████| 20/20 [00:35<00:00,  1.80s/it]\n",
      "Training (9359 / 18000 Steps) (loss=0.61954): 100%|██████████| 20/20 [00:35<00:00,  1.78s/it]\n",
      "Training (9379 / 18000 Steps) (loss=0.27873): 100%|██████████| 20/20 [00:36<00:00,  1.80s/it]\n",
      "Training (9399 / 18000 Steps) (loss=0.38337): 100%|██████████| 20/20 [00:35<00:00,  1.79s/it]\n",
      "Validate (9400 / 10 Steps): 100%|██████████| 8/8 [00:27<00:00,  3.44s/it]4<?, ?it/s]\n",
      "Training (9400 / 18000 Steps) (loss=0.51282):   5%|▌         | 1/20 [00:32<10:15, 32.40s/it]"
     ]
    },
    {
     "name": "stdout",
     "output_type": "stream",
     "text": [
      "Model Was Not Saved ! Current Best Avg. Dice: 0.3021773397922516 Current Avg. Dice: 0.2647136151790619 Current Avg. tumor Dice: 0.2600952982902527 Current Avg. lymph Dice: 0.31068962812423706\n"
     ]
    },
    {
     "name": "stderr",
     "output_type": "stream",
     "text": [
      "Training (9419 / 18000 Steps) (loss=0.33894): 100%|██████████| 20/20 [01:02<00:00,  3.14s/it]\n",
      "Training (9439 / 18000 Steps) (loss=0.50033): 100%|██████████| 20/20 [00:35<00:00,  1.78s/it]\n",
      "Training (9459 / 18000 Steps) (loss=0.42863): 100%|██████████| 20/20 [00:35<00:00,  1.80s/it]\n",
      "Training (9479 / 18000 Steps) (loss=0.45900): 100%|██████████| 20/20 [00:35<00:00,  1.76s/it]\n",
      "Training (9499 / 18000 Steps) (loss=0.56986): 100%|██████████| 20/20 [00:35<00:00,  1.77s/it]\n",
      "Validate (9500 / 10 Steps): 100%|██████████| 8/8 [00:27<00:00,  3.48s/it]4<?, ?it/s]\n",
      "Training (9500 / 18000 Steps) (loss=0.52931):   5%|▌         | 1/20 [00:32<10:17, 32.52s/it]"
     ]
    },
    {
     "name": "stdout",
     "output_type": "stream",
     "text": [
      "Model Was Not Saved ! Current Best Avg. Dice: 0.3021773397922516 Current Avg. Dice: 0.27795085310935974 Current Avg. tumor Dice: 0.27242499589920044 Current Avg. lymph Dice: 0.3236392140388489\n"
     ]
    },
    {
     "name": "stderr",
     "output_type": "stream",
     "text": [
      "Training (9519 / 18000 Steps) (loss=0.57855): 100%|██████████| 20/20 [01:03<00:00,  3.16s/it]\n",
      "Training (9539 / 18000 Steps) (loss=0.48423): 100%|██████████| 20/20 [00:36<00:00,  1.81s/it]\n",
      "Training (9559 / 18000 Steps) (loss=0.62078): 100%|██████████| 20/20 [00:35<00:00,  1.78s/it]\n",
      "Training (9579 / 18000 Steps) (loss=0.50135): 100%|██████████| 20/20 [00:36<00:00,  1.81s/it]\n",
      "Training (9599 / 18000 Steps) (loss=0.65712): 100%|██████████| 20/20 [00:36<00:00,  1.83s/it]\n",
      "Validate (9600 / 10 Steps): 100%|██████████| 8/8 [00:27<00:00,  3.45s/it]5<?, ?it/s]\n",
      "Training (9600 / 18000 Steps) (loss=0.54313):   5%|▌         | 1/20 [00:32<10:24, 32.85s/it]"
     ]
    },
    {
     "name": "stdout",
     "output_type": "stream",
     "text": [
      "Model Was Not Saved ! Current Best Avg. Dice: 0.3021773397922516 Current Avg. Dice: 0.2814764678478241 Current Avg. tumor Dice: 0.2849421203136444 Current Avg. lymph Dice: 0.32078176736831665\n"
     ]
    },
    {
     "name": "stderr",
     "output_type": "stream",
     "text": [
      "Training (9619 / 18000 Steps) (loss=0.40847): 100%|██████████| 20/20 [01:08<00:00,  3.40s/it]\n",
      "Training (9639 / 18000 Steps) (loss=0.47382): 100%|██████████| 20/20 [00:41<00:00,  2.08s/it]\n",
      "Training (9659 / 18000 Steps) (loss=0.46187): 100%|██████████| 20/20 [00:41<00:00,  2.09s/it]\n",
      "Training (9679 / 18000 Steps) (loss=0.59912): 100%|██████████| 20/20 [00:38<00:00,  1.91s/it]\n",
      "Training (9699 / 18000 Steps) (loss=0.41748): 100%|██████████| 20/20 [00:36<00:00,  1.81s/it]\n",
      "Validate (9700 / 10 Steps): 100%|██████████| 8/8 [00:27<00:00,  3.44s/it]4<?, ?it/s]\n",
      "Training (9700 / 18000 Steps) (loss=0.46408):   5%|▌         | 1/20 [00:32<10:16, 32.45s/it]"
     ]
    },
    {
     "name": "stdout",
     "output_type": "stream",
     "text": [
      "Model Was Not Saved ! Current Best Avg. Dice: 0.3021773397922516 Current Avg. Dice: 0.27786052227020264 Current Avg. tumor Dice: 0.2578553259372711 Current Avg. lymph Dice: 0.34369122982025146\n"
     ]
    },
    {
     "name": "stderr",
     "output_type": "stream",
     "text": [
      "Training (9719 / 18000 Steps) (loss=0.42409): 100%|██████████| 20/20 [01:03<00:00,  3.16s/it]\n",
      "Training (9739 / 18000 Steps) (loss=0.32436): 100%|██████████| 20/20 [00:36<00:00,  1.83s/it]\n",
      "Training (9759 / 18000 Steps) (loss=0.53350): 100%|██████████| 20/20 [00:35<00:00,  1.78s/it]\n",
      "Training (9779 / 18000 Steps) (loss=0.39023): 100%|██████████| 20/20 [00:35<00:00,  1.77s/it]\n",
      "Training (9799 / 18000 Steps) (loss=0.54208): 100%|██████████| 20/20 [00:35<00:00,  1.79s/it]\n",
      "Validate (9800 / 10 Steps): 100%|██████████| 8/8 [00:27<00:00,  3.47s/it]4<?, ?it/s]\n",
      "Training (9800 / 18000 Steps) (loss=0.50861):   5%|▌         | 1/20 [00:32<10:19, 32.62s/it]"
     ]
    },
    {
     "name": "stdout",
     "output_type": "stream",
     "text": [
      "Model Was Not Saved ! Current Best Avg. Dice: 0.3021773397922516 Current Avg. Dice: 0.2849910855293274 Current Avg. tumor Dice: 0.2789032757282257 Current Avg. lymph Dice: 0.3358602523803711\n"
     ]
    },
    {
     "name": "stderr",
     "output_type": "stream",
     "text": [
      "Training (9819 / 18000 Steps) (loss=0.35071): 100%|██████████| 20/20 [01:02<00:00,  3.15s/it]\n",
      "Training (9839 / 18000 Steps) (loss=0.44593): 100%|██████████| 20/20 [00:36<00:00,  1.80s/it]\n",
      "Training (9859 / 18000 Steps) (loss=0.43635): 100%|██████████| 20/20 [00:35<00:00,  1.78s/it]\n",
      "Training (9879 / 18000 Steps) (loss=0.35885): 100%|██████████| 20/20 [00:35<00:00,  1.78s/it]\n",
      "Training (9899 / 18000 Steps) (loss=0.52246): 100%|██████████| 20/20 [00:36<00:00,  1.81s/it]\n",
      "Validate (9900 / 10 Steps): 100%|██████████| 8/8 [00:27<00:00,  3.45s/it]5<?, ?it/s]\n",
      "Training (9900 / 18000 Steps) (loss=0.41609):   5%|▌         | 1/20 [00:32<10:20, 32.65s/it]"
     ]
    },
    {
     "name": "stdout",
     "output_type": "stream",
     "text": [
      "Model Was Not Saved ! Current Best Avg. Dice: 0.3021773397922516 Current Avg. Dice: 0.2822551429271698 Current Avg. tumor Dice: 0.28281736373901367 Current Avg. lymph Dice: 0.3250303268432617\n"
     ]
    },
    {
     "name": "stderr",
     "output_type": "stream",
     "text": [
      "Training (9919 / 18000 Steps) (loss=0.42519): 100%|██████████| 20/20 [01:02<00:00,  3.14s/it]\n",
      "Training (9939 / 18000 Steps) (loss=0.42521): 100%|██████████| 20/20 [00:35<00:00,  1.79s/it]\n",
      "Training (9959 / 18000 Steps) (loss=0.37582): 100%|██████████| 20/20 [00:35<00:00,  1.76s/it]\n",
      "Training (9979 / 18000 Steps) (loss=0.49919): 100%|██████████| 20/20 [00:35<00:00,  1.79s/it]\n",
      "Training (9999 / 18000 Steps) (loss=0.56702): 100%|██████████| 20/20 [00:35<00:00,  1.75s/it]\n",
      "Validate (10000 / 10 Steps): 100%|██████████| 8/8 [00:27<00:00,  3.43s/it]4<?, ?it/s]\n",
      "Training (10000 / 18000 Steps) (loss=0.55234):   5%|▌         | 1/20 [00:32<10:12, 32.25s/it]"
     ]
    },
    {
     "name": "stdout",
     "output_type": "stream",
     "text": [
      "Model Was Not Saved ! Current Best Avg. Dice: 0.3021773397922516 Current Avg. Dice: 0.2899637222290039 Current Avg. tumor Dice: 0.2994641065597534 Current Avg. lymph Dice: 0.3191677927970886\n"
     ]
    },
    {
     "name": "stderr",
     "output_type": "stream",
     "text": [
      "Training (10019 / 18000 Steps) (loss=0.43471): 100%|██████████| 20/20 [01:02<00:00,  3.12s/it]\n",
      "Training (10039 / 18000 Steps) (loss=0.39972): 100%|██████████| 20/20 [00:35<00:00,  1.80s/it]\n",
      "Training (10059 / 18000 Steps) (loss=0.45862): 100%|██████████| 20/20 [00:34<00:00,  1.74s/it]\n",
      "Training (10079 / 18000 Steps) (loss=0.41521): 100%|██████████| 20/20 [00:35<00:00,  1.78s/it]\n",
      "Training (10099 / 18000 Steps) (loss=0.44358): 100%|██████████| 20/20 [00:35<00:00,  1.76s/it]\n",
      "Validate (10100 / 10 Steps): 100%|██████████| 8/8 [00:27<00:00,  3.43s/it]4<?, ?it/s]\n",
      "Training (10100 / 18000 Steps) (loss=0.47817):   5%|▌         | 1/20 [00:32<10:09, 32.10s/it]"
     ]
    },
    {
     "name": "stdout",
     "output_type": "stream",
     "text": [
      "Model Was Not Saved ! Current Best Avg. Dice: 0.3021773397922516 Current Avg. Dice: 0.28362178802490234 Current Avg. tumor Dice: 0.28454115986824036 Current Avg. lymph Dice: 0.3261951208114624\n"
     ]
    },
    {
     "name": "stderr",
     "output_type": "stream",
     "text": [
      "Training (10119 / 18000 Steps) (loss=0.43013): 100%|██████████| 20/20 [01:02<00:00,  3.13s/it]\n",
      "Training (10139 / 18000 Steps) (loss=0.52476): 100%|██████████| 20/20 [00:35<00:00,  1.78s/it]\n",
      "Training (10159 / 18000 Steps) (loss=0.61849): 100%|██████████| 20/20 [00:34<00:00,  1.75s/it]\n",
      "Training (10179 / 18000 Steps) (loss=0.46885): 100%|██████████| 20/20 [00:34<00:00,  1.75s/it]\n",
      "Training (10199 / 18000 Steps) (loss=0.45645): 100%|██████████| 20/20 [00:35<00:00,  1.76s/it]\n",
      "Validate (10200 / 10 Steps): 100%|██████████| 8/8 [00:27<00:00,  3.46s/it]4<?, ?it/s]\n",
      "Training (10200 / 18000 Steps) (loss=0.49256):   5%|▌         | 1/20 [00:32<10:21, 32.71s/it]"
     ]
    },
    {
     "name": "stdout",
     "output_type": "stream",
     "text": [
      "Model Was Not Saved ! Current Best Avg. Dice: 0.3021773397922516 Current Avg. Dice: 0.28729182481765747 Current Avg. tumor Dice: 0.2880505919456482 Current Avg. lymph Dice: 0.33061501383781433\n"
     ]
    },
    {
     "name": "stderr",
     "output_type": "stream",
     "text": [
      "Training (10219 / 18000 Steps) (loss=0.56839): 100%|██████████| 20/20 [01:02<00:00,  3.15s/it]\n",
      "Training (10239 / 18000 Steps) (loss=0.56979): 100%|██████████| 20/20 [00:35<00:00,  1.76s/it]\n",
      "Training (10259 / 18000 Steps) (loss=0.56831): 100%|██████████| 20/20 [00:35<00:00,  1.77s/it]\n",
      "Training (10279 / 18000 Steps) (loss=0.67331): 100%|██████████| 20/20 [00:35<00:00,  1.76s/it]\n",
      "Training (10299 / 18000 Steps) (loss=0.69917): 100%|██████████| 20/20 [00:35<00:00,  1.78s/it]\n",
      "Validate (10300 / 10 Steps): 100%|██████████| 8/8 [00:27<00:00,  3.42s/it]4<?, ?it/s]\n",
      "Training (10300 / 18000 Steps) (loss=0.37181):   5%|▌         | 1/20 [00:32<10:09, 32.08s/it]"
     ]
    },
    {
     "name": "stdout",
     "output_type": "stream",
     "text": [
      "Model Was Not Saved ! Current Best Avg. Dice: 0.3021773397922516 Current Avg. Dice: 0.27117279171943665 Current Avg. tumor Dice: 0.2584361732006073 Current Avg. lymph Dice: 0.327587753534317\n"
     ]
    },
    {
     "name": "stderr",
     "output_type": "stream",
     "text": [
      "Training (10319 / 18000 Steps) (loss=0.47474): 100%|██████████| 20/20 [01:01<00:00,  3.08s/it]\n",
      "Training (10339 / 18000 Steps) (loss=0.30866): 100%|██████████| 20/20 [00:35<00:00,  1.76s/it]\n",
      "Training (10359 / 18000 Steps) (loss=0.48294): 100%|██████████| 20/20 [00:34<00:00,  1.74s/it]\n",
      "Training (10379 / 18000 Steps) (loss=0.47114): 100%|██████████| 20/20 [00:34<00:00,  1.74s/it]\n",
      "Training (10399 / 18000 Steps) (loss=0.52057): 100%|██████████| 20/20 [00:35<00:00,  1.75s/it]\n",
      "Validate (10400 / 10 Steps): 100%|██████████| 8/8 [00:27<00:00,  3.43s/it]4<?, ?it/s]\n",
      "Training (10400 / 18000 Steps) (loss=0.52471):   5%|▌         | 1/20 [00:32<10:11, 32.20s/it]"
     ]
    },
    {
     "name": "stdout",
     "output_type": "stream",
     "text": [
      "Model Was Not Saved ! Current Best Avg. Dice: 0.3021773397922516 Current Avg. Dice: 0.29726991057395935 Current Avg. tumor Dice: 0.3025985062122345 Current Avg. lymph Dice: 0.3348338305950165\n"
     ]
    },
    {
     "name": "stderr",
     "output_type": "stream",
     "text": [
      "Training (10419 / 18000 Steps) (loss=0.48165): 100%|██████████| 20/20 [01:02<00:00,  3.11s/it]\n",
      "Training (10439 / 18000 Steps) (loss=0.53741): 100%|██████████| 20/20 [00:35<00:00,  1.75s/it]\n",
      "Training (10459 / 18000 Steps) (loss=0.42157): 100%|██████████| 20/20 [00:34<00:00,  1.75s/it]\n",
      "Training (10479 / 18000 Steps) (loss=0.53197): 100%|██████████| 20/20 [00:35<00:00,  1.77s/it]\n",
      "Training (10499 / 18000 Steps) (loss=0.67665): 100%|██████████| 20/20 [00:34<00:00,  1.72s/it]\n",
      "Validate (10500 / 10 Steps): 100%|██████████| 8/8 [00:27<00:00,  3.44s/it]4<?, ?it/s]\n",
      "Training (10500 / 18000 Steps) (loss=0.47075):   5%|▌         | 1/20 [00:32<10:17, 32.49s/it]"
     ]
    },
    {
     "name": "stdout",
     "output_type": "stream",
     "text": [
      "Model Was Not Saved ! Current Best Avg. Dice: 0.3021773397922516 Current Avg. Dice: 0.2761343717575073 Current Avg. tumor Dice: 0.2706691324710846 Current Avg. lymph Dice: 0.3237653374671936\n"
     ]
    },
    {
     "name": "stderr",
     "output_type": "stream",
     "text": [
      "Training (10519 / 18000 Steps) (loss=0.50060): 100%|██████████| 20/20 [01:02<00:00,  3.11s/it]\n",
      "Training (10539 / 18000 Steps) (loss=0.56703): 100%|██████████| 20/20 [00:34<00:00,  1.73s/it]\n",
      "Training (10559 / 18000 Steps) (loss=0.47904): 100%|██████████| 20/20 [00:34<00:00,  1.75s/it]\n",
      "Training (10579 / 18000 Steps) (loss=0.36037): 100%|██████████| 20/20 [00:34<00:00,  1.73s/it]\n",
      "Training (10599 / 18000 Steps) (loss=0.50825): 100%|██████████| 20/20 [00:35<00:00,  1.75s/it]\n",
      "Validate (10600 / 10 Steps): 100%|██████████| 8/8 [00:27<00:00,  3.42s/it]4<?, ?it/s]\n",
      "Training (10600 / 18000 Steps) (loss=0.52274):   5%|▌         | 1/20 [00:31<10:06, 31.94s/it]"
     ]
    },
    {
     "name": "stdout",
     "output_type": "stream",
     "text": [
      "Model Was Not Saved ! Current Best Avg. Dice: 0.3021773397922516 Current Avg. Dice: 0.3009035289287567 Current Avg. tumor Dice: 0.3141532242298126 Current Avg. lymph Dice: 0.33154296875\n"
     ]
    },
    {
     "name": "stderr",
     "output_type": "stream",
     "text": [
      "Training (10619 / 18000 Steps) (loss=0.42056): 100%|██████████| 20/20 [01:01<00:00,  3.09s/it]\n",
      "Training (10639 / 18000 Steps) (loss=0.51253): 100%|██████████| 20/20 [00:35<00:00,  1.77s/it]\n",
      "Training (10659 / 18000 Steps) (loss=0.35944): 100%|██████████| 20/20 [00:34<00:00,  1.74s/it]\n",
      "Training (10679 / 18000 Steps) (loss=0.33889): 100%|██████████| 20/20 [00:34<00:00,  1.75s/it]\n",
      "Training (10699 / 18000 Steps) (loss=0.57937): 100%|██████████| 20/20 [00:35<00:00,  1.79s/it]\n",
      "Validate (10700 / 10 Steps): 100%|██████████| 8/8 [00:27<00:00,  3.43s/it]4<?, ?it/s]\n",
      "Training (10700 / 18000 Steps) (loss=0.46336):   5%|▌         | 1/20 [00:32<10:15, 32.37s/it]"
     ]
    },
    {
     "name": "stdout",
     "output_type": "stream",
     "text": [
      "Model Was Not Saved ! Current Best Avg. Dice: 0.3021773397922516 Current Avg. Dice: 0.29845577478408813 Current Avg. tumor Dice: 0.29974985122680664 Current Avg. lymph Dice: 0.34218400716781616\n"
     ]
    },
    {
     "name": "stderr",
     "output_type": "stream",
     "text": [
      "Training (10719 / 18000 Steps) (loss=0.42328): 100%|██████████| 20/20 [01:02<00:00,  3.12s/it]\n",
      "Training (10739 / 18000 Steps) (loss=0.59320): 100%|██████████| 20/20 [00:34<00:00,  1.75s/it]\n",
      "Training (10759 / 18000 Steps) (loss=0.67257): 100%|██████████| 20/20 [00:34<00:00,  1.73s/it]\n",
      "Training (10779 / 18000 Steps) (loss=0.38335): 100%|██████████| 20/20 [00:35<00:00,  1.75s/it]\n",
      "Training (10799 / 18000 Steps) (loss=0.34682): 100%|██████████| 20/20 [00:34<00:00,  1.74s/it]\n",
      "Validate (10800 / 10 Steps): 100%|██████████| 8/8 [00:27<00:00,  3.45s/it]4<?, ?it/s]\n",
      "Training (10800 / 18000 Steps) (loss=0.40073):   5%|▌         | 1/20 [00:33<10:36, 33.48s/it]"
     ]
    },
    {
     "name": "stdout",
     "output_type": "stream",
     "text": [
      "Model Was Saved ! Current Best Avg. Dice: 0.31420204043388367 Current Avg. Dice: 0.31420204043388367 Current Avg. tumor Dice: 0.32045289874076843 Current Avg. lymph Dice: 0.35479533672332764\n"
     ]
    },
    {
     "name": "stderr",
     "output_type": "stream",
     "text": [
      "Training (10819 / 18000 Steps) (loss=0.56688): 100%|██████████| 20/20 [01:03<00:00,  3.18s/it]\n",
      "Training (10839 / 18000 Steps) (loss=0.51363): 100%|██████████| 20/20 [00:34<00:00,  1.75s/it]\n",
      "Training (10859 / 18000 Steps) (loss=0.52378): 100%|██████████| 20/20 [00:35<00:00,  1.76s/it]\n",
      "Training (10879 / 18000 Steps) (loss=0.43210): 100%|██████████| 20/20 [00:35<00:00,  1.77s/it]\n",
      "Training (10899 / 18000 Steps) (loss=0.58808): 100%|██████████| 20/20 [00:35<00:00,  1.78s/it]\n",
      "Validate (10900 / 10 Steps): 100%|██████████| 8/8 [00:27<00:00,  3.41s/it]4<?, ?it/s]\n",
      "Training (10900 / 18000 Steps) (loss=0.42950):   5%|▌         | 1/20 [00:32<10:12, 32.22s/it]"
     ]
    },
    {
     "name": "stdout",
     "output_type": "stream",
     "text": [
      "Model Was Not Saved ! Current Best Avg. Dice: 0.31420204043388367 Current Avg. Dice: 0.30880850553512573 Current Avg. tumor Dice: 0.2932020425796509 Current Avg. lymph Dice: 0.36988210678100586\n"
     ]
    },
    {
     "name": "stderr",
     "output_type": "stream",
     "text": [
      "Training (10919 / 18000 Steps) (loss=0.39805): 100%|██████████| 20/20 [01:01<00:00,  3.09s/it]\n",
      "Training (10939 / 18000 Steps) (loss=0.41592): 100%|██████████| 20/20 [00:35<00:00,  1.77s/it]\n",
      "Training (10959 / 18000 Steps) (loss=0.34808): 100%|██████████| 20/20 [00:35<00:00,  1.76s/it]\n",
      "Training (10979 / 18000 Steps) (loss=0.58811): 100%|██████████| 20/20 [00:35<00:00,  1.78s/it]\n",
      "Training (10999 / 18000 Steps) (loss=0.55437): 100%|██████████| 20/20 [00:34<00:00,  1.75s/it]\n",
      "Validate (11000 / 10 Steps): 100%|██████████| 8/8 [00:27<00:00,  3.43s/it]5<?, ?it/s]\n",
      "Training (11000 / 18000 Steps) (loss=0.43341):   5%|▌         | 1/20 [00:32<10:18, 32.57s/it]"
     ]
    },
    {
     "name": "stdout",
     "output_type": "stream",
     "text": [
      "Model Was Not Saved ! Current Best Avg. Dice: 0.31420204043388367 Current Avg. Dice: 0.29415324330329895 Current Avg. tumor Dice: 0.31151914596557617 Current Avg. lymph Dice: 0.31828194856643677\n"
     ]
    },
    {
     "name": "stderr",
     "output_type": "stream",
     "text": [
      "Training (11019 / 18000 Steps) (loss=0.47552): 100%|██████████| 20/20 [01:02<00:00,  3.13s/it]\n",
      "Training (11039 / 18000 Steps) (loss=0.52631): 100%|██████████| 20/20 [00:35<00:00,  1.77s/it]\n",
      "Training (11059 / 18000 Steps) (loss=0.28506): 100%|██████████| 20/20 [00:34<00:00,  1.75s/it]\n",
      "Training (11079 / 18000 Steps) (loss=0.19278): 100%|██████████| 20/20 [00:35<00:00,  1.78s/it]\n",
      "Training (11099 / 18000 Steps) (loss=0.55117): 100%|██████████| 20/20 [00:34<00:00,  1.75s/it]\n",
      "Validate (11100 / 10 Steps): 100%|██████████| 8/8 [00:27<00:00,  3.43s/it]4<?, ?it/s]\n",
      "Training (11100 / 18000 Steps) (loss=0.48286):   5%|▌         | 1/20 [00:32<10:14, 32.37s/it]"
     ]
    },
    {
     "name": "stdout",
     "output_type": "stream",
     "text": [
      "Model Was Not Saved ! Current Best Avg. Dice: 0.31420204043388367 Current Avg. Dice: 0.2947792112827301 Current Avg. tumor Dice: 0.3077293634414673 Current Avg. lymph Dice: 0.3243366479873657\n"
     ]
    },
    {
     "name": "stderr",
     "output_type": "stream",
     "text": [
      "Training (11119 / 18000 Steps) (loss=0.66993): 100%|██████████| 20/20 [01:02<00:00,  3.12s/it]\n",
      "Training (11139 / 18000 Steps) (loss=0.46654): 100%|██████████| 20/20 [00:35<00:00,  1.76s/it]\n",
      "Training (11159 / 18000 Steps) (loss=0.44984): 100%|██████████| 20/20 [00:35<00:00,  1.77s/it]\n",
      "Training (11179 / 18000 Steps) (loss=0.42253): 100%|██████████| 20/20 [00:35<00:00,  1.75s/it]\n",
      "Training (11199 / 18000 Steps) (loss=0.59772): 100%|██████████| 20/20 [00:34<00:00,  1.75s/it]\n",
      "Validate (11200 / 10 Steps): 100%|██████████| 8/8 [00:27<00:00,  3.46s/it]4<?, ?it/s]\n",
      "Training (11200 / 18000 Steps) (loss=0.37951):   5%|▌         | 1/20 [00:32<10:18, 32.56s/it]"
     ]
    },
    {
     "name": "stdout",
     "output_type": "stream",
     "text": [
      "Model Was Not Saved ! Current Best Avg. Dice: 0.31420204043388367 Current Avg. Dice: 0.2796552777290344 Current Avg. tumor Dice: 0.2773090898990631 Current Avg. lymph Dice: 0.32538625597953796\n"
     ]
    },
    {
     "name": "stderr",
     "output_type": "stream",
     "text": [
      "Training (11219 / 18000 Steps) (loss=0.46815): 100%|██████████| 20/20 [01:02<00:00,  3.11s/it]\n",
      "Training (11239 / 18000 Steps) (loss=0.20040): 100%|██████████| 20/20 [00:35<00:00,  1.77s/it]\n",
      "Training (11259 / 18000 Steps) (loss=0.48356): 100%|██████████| 20/20 [00:36<00:00,  1.81s/it]\n",
      "Training (11279 / 18000 Steps) (loss=0.42974): 100%|██████████| 20/20 [00:35<00:00,  1.78s/it]\n",
      "Training (11299 / 18000 Steps) (loss=0.44710): 100%|██████████| 20/20 [00:35<00:00,  1.78s/it]\n",
      "Validate (11300 / 10 Steps): 100%|██████████| 8/8 [00:27<00:00,  3.47s/it]4<?, ?it/s]\n",
      "Training (11300 / 18000 Steps) (loss=0.52071):   5%|▌         | 1/20 [00:32<10:17, 32.50s/it]"
     ]
    },
    {
     "name": "stdout",
     "output_type": "stream",
     "text": [
      "Model Was Not Saved ! Current Best Avg. Dice: 0.31420204043388367 Current Avg. Dice: 0.27210965752601624 Current Avg. tumor Dice: 0.28749847412109375 Current Avg. lymph Dice: 0.29621636867523193\n"
     ]
    },
    {
     "name": "stderr",
     "output_type": "stream",
     "text": [
      "Training (11319 / 18000 Steps) (loss=0.36906): 100%|██████████| 20/20 [01:02<00:00,  3.14s/it]\n",
      "Training (11339 / 18000 Steps) (loss=0.41013): 100%|██████████| 20/20 [00:35<00:00,  1.79s/it]\n",
      "Training (11359 / 18000 Steps) (loss=0.25288): 100%|██████████| 20/20 [00:35<00:00,  1.77s/it]\n",
      "Training (11379 / 18000 Steps) (loss=0.56405): 100%|██████████| 20/20 [00:35<00:00,  1.80s/it]\n",
      "Training (11399 / 18000 Steps) (loss=0.57874): 100%|██████████| 20/20 [00:35<00:00,  1.78s/it]\n",
      "Validate (11400 / 10 Steps): 100%|██████████| 8/8 [00:27<00:00,  3.46s/it]4<?, ?it/s]\n",
      "Training (11400 / 18000 Steps) (loss=0.55795):   5%|▌         | 1/20 [00:32<10:16, 32.44s/it]"
     ]
    },
    {
     "name": "stdout",
     "output_type": "stream",
     "text": [
      "Model Was Not Saved ! Current Best Avg. Dice: 0.31420204043388367 Current Avg. Dice: 0.27153337001800537 Current Avg. tumor Dice: 0.24991293251514435 Current Avg. lymph Dice: 0.3382544219493866\n"
     ]
    },
    {
     "name": "stderr",
     "output_type": "stream",
     "text": [
      "Training (11419 / 18000 Steps) (loss=0.44664): 100%|██████████| 20/20 [01:02<00:00,  3.15s/it]\n",
      "Training (11439 / 18000 Steps) (loss=0.52249): 100%|██████████| 20/20 [00:35<00:00,  1.76s/it]\n",
      "Training (11459 / 18000 Steps) (loss=0.55999): 100%|██████████| 20/20 [00:35<00:00,  1.75s/it]\n",
      "Training (11479 / 18000 Steps) (loss=0.31088): 100%|██████████| 20/20 [00:35<00:00,  1.77s/it]\n",
      "Training (11499 / 18000 Steps) (loss=0.44344): 100%|██████████| 20/20 [00:35<00:00,  1.77s/it]\n",
      "Validate (11500 / 10 Steps): 100%|██████████| 8/8 [00:27<00:00,  3.41s/it]4<?, ?it/s]\n",
      "Training (11500 / 18000 Steps) (loss=0.47003):   5%|▌         | 1/20 [00:32<10:11, 32.21s/it]"
     ]
    },
    {
     "name": "stdout",
     "output_type": "stream",
     "text": [
      "Model Was Not Saved ! Current Best Avg. Dice: 0.31420204043388367 Current Avg. Dice: 0.28032034635543823 Current Avg. tumor Dice: 0.2753715515136719 Current Avg. lymph Dice: 0.3291567265987396\n"
     ]
    },
    {
     "name": "stderr",
     "output_type": "stream",
     "text": [
      "Training (11519 / 18000 Steps) (loss=0.33419): 100%|██████████| 20/20 [01:02<00:00,  3.14s/it]\n",
      "Training (11539 / 18000 Steps) (loss=0.26645): 100%|██████████| 20/20 [00:35<00:00,  1.76s/it]\n",
      "Training (11559 / 18000 Steps) (loss=0.61801): 100%|██████████| 20/20 [00:35<00:00,  1.77s/it]\n",
      "Training (11579 / 18000 Steps) (loss=0.43271): 100%|██████████| 20/20 [00:35<00:00,  1.78s/it]\n",
      "Training (11599 / 18000 Steps) (loss=0.62616): 100%|██████████| 20/20 [00:35<00:00,  1.77s/it]\n",
      "Validate (11600 / 10 Steps): 100%|██████████| 8/8 [00:27<00:00,  3.43s/it]4<?, ?it/s]\n",
      "Training (11600 / 18000 Steps) (loss=0.58885):   5%|▌         | 1/20 [00:32<10:15, 32.39s/it]"
     ]
    },
    {
     "name": "stdout",
     "output_type": "stream",
     "text": [
      "Model Was Not Saved ! Current Best Avg. Dice: 0.31420204043388367 Current Avg. Dice: 0.3037538230419159 Current Avg. tumor Dice: 0.29117289185523987 Current Avg. lymph Dice: 0.36222678422927856\n"
     ]
    },
    {
     "name": "stderr",
     "output_type": "stream",
     "text": [
      "Training (11619 / 18000 Steps) (loss=0.36391): 100%|██████████| 20/20 [01:03<00:00,  3.16s/it]\n",
      "Training (11639 / 18000 Steps) (loss=0.51383): 100%|██████████| 20/20 [00:35<00:00,  1.78s/it]\n",
      "Training (11659 / 18000 Steps) (loss=0.62983): 100%|██████████| 20/20 [00:35<00:00,  1.78s/it]\n",
      "Training (11679 / 18000 Steps) (loss=0.45103): 100%|██████████| 20/20 [00:35<00:00,  1.80s/it]\n",
      "Training (11699 / 18000 Steps) (loss=0.60307): 100%|██████████| 20/20 [00:35<00:00,  1.79s/it]\n",
      "Validate (11700 / 10 Steps): 100%|██████████| 8/8 [00:27<00:00,  3.42s/it]5<?, ?it/s]\n",
      "Training (11700 / 18000 Steps) (loss=0.42893):   5%|▌         | 1/20 [00:32<10:17, 32.51s/it]"
     ]
    },
    {
     "name": "stdout",
     "output_type": "stream",
     "text": [
      "Model Was Not Saved ! Current Best Avg. Dice: 0.31420204043388367 Current Avg. Dice: 0.29793065786361694 Current Avg. tumor Dice: 0.2773623466491699 Current Avg. lymph Dice: 0.36749884486198425\n"
     ]
    },
    {
     "name": "stderr",
     "output_type": "stream",
     "text": [
      "Training (11719 / 18000 Steps) (loss=0.37248): 100%|██████████| 20/20 [01:03<00:00,  3.15s/it]\n",
      "Training (11739 / 18000 Steps) (loss=0.51534): 100%|██████████| 20/20 [00:35<00:00,  1.79s/it]\n",
      "Training (11759 / 18000 Steps) (loss=0.42661): 100%|██████████| 20/20 [00:35<00:00,  1.78s/it]\n",
      "Training (11779 / 18000 Steps) (loss=0.26552): 100%|██████████| 20/20 [00:35<00:00,  1.78s/it]\n",
      "Training (11799 / 18000 Steps) (loss=0.60182): 100%|██████████| 20/20 [00:35<00:00,  1.79s/it]\n",
      "Validate (11800 / 10 Steps): 100%|██████████| 8/8 [00:27<00:00,  3.44s/it]4<?, ?it/s]\n",
      "Training (11800 / 18000 Steps) (loss=0.58891):   5%|▌         | 1/20 [00:32<10:15, 32.40s/it]"
     ]
    },
    {
     "name": "stdout",
     "output_type": "stream",
     "text": [
      "Model Was Not Saved ! Current Best Avg. Dice: 0.31420204043388367 Current Avg. Dice: 0.27078065276145935 Current Avg. tumor Dice: 0.27659815549850464 Current Avg. lymph Dice: 0.30572664737701416\n"
     ]
    },
    {
     "name": "stderr",
     "output_type": "stream",
     "text": [
      "Training (11819 / 18000 Steps) (loss=0.51910): 100%|██████████| 20/20 [01:02<00:00,  3.12s/it]\n",
      "Training (11839 / 18000 Steps) (loss=0.57554): 100%|██████████| 20/20 [00:35<00:00,  1.79s/it]\n",
      "Training (11859 / 18000 Steps) (loss=0.37935): 100%|██████████| 20/20 [00:35<00:00,  1.77s/it]\n",
      "Training (11879 / 18000 Steps) (loss=0.35981): 100%|██████████| 20/20 [00:35<00:00,  1.78s/it]\n",
      "Training (11899 / 18000 Steps) (loss=0.61089): 100%|██████████| 20/20 [00:35<00:00,  1.77s/it]\n",
      "Validate (11900 / 10 Steps): 100%|██████████| 8/8 [00:27<00:00,  3.44s/it]4<?, ?it/s]\n",
      "Training (11900 / 18000 Steps) (loss=0.45845):   5%|▌         | 1/20 [00:32<10:14, 32.34s/it]"
     ]
    },
    {
     "name": "stdout",
     "output_type": "stream",
     "text": [
      "Model Was Not Saved ! Current Best Avg. Dice: 0.31420204043388367 Current Avg. Dice: 0.3010455071926117 Current Avg. tumor Dice: 0.27992546558380127 Current Avg. lymph Dice: 0.3717294931411743\n"
     ]
    },
    {
     "name": "stderr",
     "output_type": "stream",
     "text": [
      "Training (11919 / 18000 Steps) (loss=0.59143): 100%|██████████| 20/20 [01:02<00:00,  3.13s/it]\n",
      "Training (11939 / 18000 Steps) (loss=0.44674): 100%|██████████| 20/20 [00:35<00:00,  1.77s/it]\n",
      "Training (11959 / 18000 Steps) (loss=0.48680): 100%|██████████| 20/20 [00:35<00:00,  1.79s/it]\n",
      "Training (11979 / 18000 Steps) (loss=0.51446): 100%|██████████| 20/20 [00:35<00:00,  1.79s/it]\n",
      "Training (11999 / 18000 Steps) (loss=0.44730): 100%|██████████| 20/20 [00:35<00:00,  1.77s/it]\n",
      "Validate (12000 / 10 Steps): 100%|██████████| 8/8 [00:27<00:00,  3.43s/it]4<?, ?it/s]\n",
      "Training (12000 / 18000 Steps) (loss=0.39220):   5%|▌         | 1/20 [00:32<10:15, 32.37s/it]"
     ]
    },
    {
     "name": "stdout",
     "output_type": "stream",
     "text": [
      "Model Was Not Saved ! Current Best Avg. Dice: 0.31420204043388367 Current Avg. Dice: 0.29824358224868774 Current Avg. tumor Dice: 0.29393965005874634 Current Avg. lymph Dice: 0.34909331798553467\n"
     ]
    },
    {
     "name": "stderr",
     "output_type": "stream",
     "text": [
      "Training (12019 / 18000 Steps) (loss=0.49425): 100%|██████████| 20/20 [01:02<00:00,  3.14s/it]\n",
      "Training (12039 / 18000 Steps) (loss=0.36768): 100%|██████████| 20/20 [00:35<00:00,  1.79s/it]\n",
      "Training (12059 / 18000 Steps) (loss=0.58178): 100%|██████████| 20/20 [00:35<00:00,  1.76s/it]\n",
      "Training (12079 / 18000 Steps) (loss=0.48252): 100%|██████████| 20/20 [00:35<00:00,  1.79s/it]\n",
      "Training (12099 / 18000 Steps) (loss=0.28108): 100%|██████████| 20/20 [00:35<00:00,  1.79s/it]\n",
      "Validate (12100 / 10 Steps): 100%|██████████| 8/8 [00:27<00:00,  3.45s/it]4<?, ?it/s]\n",
      "Training (12100 / 18000 Steps) (loss=0.39862):   5%|▌         | 1/20 [00:32<10:19, 32.63s/it]"
     ]
    },
    {
     "name": "stdout",
     "output_type": "stream",
     "text": [
      "Model Was Not Saved ! Current Best Avg. Dice: 0.31420204043388367 Current Avg. Dice: 0.3010813593864441 Current Avg. tumor Dice: 0.29282936453819275 Current Avg. lymph Dice: 0.35670799016952515\n"
     ]
    },
    {
     "name": "stderr",
     "output_type": "stream",
     "text": [
      "Training (12119 / 18000 Steps) (loss=0.45328): 100%|██████████| 20/20 [01:02<00:00,  3.14s/it]\n",
      "Training (12139 / 18000 Steps) (loss=0.67483): 100%|██████████| 20/20 [00:35<00:00,  1.77s/it]\n",
      "Training (12159 / 18000 Steps) (loss=0.43669): 100%|██████████| 20/20 [00:35<00:00,  1.78s/it]\n",
      "Training (12179 / 18000 Steps) (loss=0.36505): 100%|██████████| 20/20 [00:35<00:00,  1.80s/it]\n",
      "Training (12199 / 18000 Steps) (loss=0.57239): 100%|██████████| 20/20 [00:35<00:00,  1.78s/it]\n",
      "Validate (12200 / 10 Steps): 100%|██████████| 8/8 [00:27<00:00,  3.41s/it]4<?, ?it/s]\n",
      "Training (12200 / 18000 Steps) (loss=0.55940):   5%|▌         | 1/20 [00:31<10:07, 31.95s/it]"
     ]
    },
    {
     "name": "stdout",
     "output_type": "stream",
     "text": [
      "Model Was Not Saved ! Current Best Avg. Dice: 0.31420204043388367 Current Avg. Dice: 0.2673320472240448 Current Avg. tumor Dice: 0.2764792740345001 Current Avg. lymph Dice: 0.29758551716804504\n"
     ]
    },
    {
     "name": "stderr",
     "output_type": "stream",
     "text": [
      "Training (12219 / 18000 Steps) (loss=0.49896): 100%|██████████| 20/20 [01:02<00:00,  3.12s/it]\n",
      "Training (12239 / 18000 Steps) (loss=0.46072): 100%|██████████| 20/20 [00:35<00:00,  1.76s/it]\n",
      "Training (12259 / 18000 Steps) (loss=0.48732): 100%|██████████| 20/20 [00:35<00:00,  1.79s/it]\n",
      "Training (12279 / 18000 Steps) (loss=0.30607): 100%|██████████| 20/20 [00:35<00:00,  1.76s/it]\n",
      "Training (12299 / 18000 Steps) (loss=0.54684): 100%|██████████| 20/20 [00:35<00:00,  1.77s/it]\n",
      "Validate (12300 / 10 Steps): 100%|██████████| 8/8 [00:27<00:00,  3.45s/it]4<?, ?it/s]\n",
      "Training (12300 / 18000 Steps) (loss=0.45976):   5%|▌         | 1/20 [00:32<10:11, 32.20s/it]"
     ]
    },
    {
     "name": "stdout",
     "output_type": "stream",
     "text": [
      "Model Was Not Saved ! Current Best Avg. Dice: 0.31420204043388367 Current Avg. Dice: 0.29971474409103394 Current Avg. tumor Dice: 0.2869877219200134 Current Avg. lymph Dice: 0.3600159287452698\n"
     ]
    },
    {
     "name": "stderr",
     "output_type": "stream",
     "text": [
      "Training (12319 / 18000 Steps) (loss=0.45264): 100%|██████████| 20/20 [01:02<00:00,  3.11s/it]\n",
      "Training (12339 / 18000 Steps) (loss=0.39219): 100%|██████████| 20/20 [00:35<00:00,  1.77s/it]\n",
      "Training (12359 / 18000 Steps) (loss=0.60746): 100%|██████████| 20/20 [00:35<00:00,  1.78s/it]\n",
      "Training (12379 / 18000 Steps) (loss=0.47053): 100%|██████████| 20/20 [00:35<00:00,  1.77s/it]\n",
      "Training (12399 / 18000 Steps) (loss=0.58855): 100%|██████████| 20/20 [00:35<00:00,  1.79s/it]\n",
      "Validate (12400 / 10 Steps): 100%|██████████| 8/8 [00:27<00:00,  3.44s/it]5<?, ?it/s]\n",
      "Training (12400 / 18000 Steps) (loss=0.48573):   5%|▌         | 1/20 [00:32<10:23, 32.81s/it]"
     ]
    },
    {
     "name": "stdout",
     "output_type": "stream",
     "text": [
      "Model Was Not Saved ! Current Best Avg. Dice: 0.31420204043388367 Current Avg. Dice: 0.27957552671432495 Current Avg. tumor Dice: 0.2670820355415344 Current Avg. lymph Dice: 0.3360443711280823\n"
     ]
    },
    {
     "name": "stderr",
     "output_type": "stream",
     "text": [
      "Training (12419 / 18000 Steps) (loss=0.54398): 100%|██████████| 20/20 [01:03<00:00,  3.16s/it]\n",
      "Training (12439 / 18000 Steps) (loss=0.49043): 100%|██████████| 20/20 [00:35<00:00,  1.78s/it]\n",
      "Training (12459 / 18000 Steps) (loss=0.41560): 100%|██████████| 20/20 [00:35<00:00,  1.77s/it]\n",
      "Training (12479 / 18000 Steps) (loss=0.50723): 100%|██████████| 20/20 [00:35<00:00,  1.78s/it]\n",
      "Training (12499 / 18000 Steps) (loss=0.58402): 100%|██████████| 20/20 [00:35<00:00,  1.79s/it]\n",
      "Validate (12500 / 10 Steps): 100%|██████████| 8/8 [00:27<00:00,  3.43s/it]4<?, ?it/s]\n",
      "Training (12500 / 18000 Steps) (loss=0.54393):   5%|▌         | 1/20 [00:32<10:13, 32.27s/it]"
     ]
    },
    {
     "name": "stdout",
     "output_type": "stream",
     "text": [
      "Model Was Not Saved ! Current Best Avg. Dice: 0.31420204043388367 Current Avg. Dice: 0.2969626188278198 Current Avg. tumor Dice: 0.2793625593185425 Current Avg. lymph Dice: 0.3529048562049866\n"
     ]
    },
    {
     "name": "stderr",
     "output_type": "stream",
     "text": [
      "Training (12519 / 18000 Steps) (loss=0.40485): 100%|██████████| 20/20 [01:02<00:00,  3.12s/it]\n",
      "Training (12539 / 18000 Steps) (loss=0.49493): 100%|██████████| 20/20 [00:35<00:00,  1.80s/it]\n",
      "Training (12559 / 18000 Steps) (loss=0.55996): 100%|██████████| 20/20 [00:35<00:00,  1.76s/it]\n",
      "Training (12579 / 18000 Steps) (loss=0.47903): 100%|██████████| 20/20 [00:35<00:00,  1.78s/it]\n",
      "Training (12599 / 18000 Steps) (loss=0.41817): 100%|██████████| 20/20 [00:35<00:00,  1.77s/it]\n",
      "Validate (12600 / 10 Steps): 100%|██████████| 8/8 [00:27<00:00,  3.42s/it]4<?, ?it/s]\n",
      "Training (12600 / 18000 Steps) (loss=0.50659):   5%|▌         | 1/20 [00:32<10:16, 32.43s/it]"
     ]
    },
    {
     "name": "stdout",
     "output_type": "stream",
     "text": [
      "Model Was Not Saved ! Current Best Avg. Dice: 0.31420204043388367 Current Avg. Dice: 0.2700558304786682 Current Avg. tumor Dice: 0.2721358835697174 Current Avg. lymph Dice: 0.3082653284072876\n"
     ]
    },
    {
     "name": "stderr",
     "output_type": "stream",
     "text": [
      "Training (12619 / 18000 Steps) (loss=0.55000): 100%|██████████| 20/20 [01:03<00:00,  3.15s/it]\n",
      "Training (12639 / 18000 Steps) (loss=0.43765): 100%|██████████| 20/20 [00:35<00:00,  1.78s/it]\n",
      "Training (12659 / 18000 Steps) (loss=0.47252): 100%|██████████| 20/20 [00:35<00:00,  1.77s/it]\n",
      "Training (12679 / 18000 Steps) (loss=0.28519): 100%|██████████| 20/20 [00:35<00:00,  1.76s/it]\n",
      "Training (12699 / 18000 Steps) (loss=0.57501): 100%|██████████| 20/20 [00:35<00:00,  1.79s/it]\n",
      "Validate (12700 / 10 Steps): 100%|██████████| 8/8 [00:27<00:00,  3.42s/it]5<?, ?it/s]\n",
      "Training (12700 / 18000 Steps) (loss=0.55032):   5%|▌         | 1/20 [00:32<10:19, 32.58s/it]"
     ]
    },
    {
     "name": "stdout",
     "output_type": "stream",
     "text": [
      "Model Was Not Saved ! Current Best Avg. Dice: 0.31420204043388367 Current Avg. Dice: 0.28935500979423523 Current Avg. tumor Dice: 0.2895771861076355 Current Avg. lymph Dice: 0.3284931182861328\n"
     ]
    },
    {
     "name": "stderr",
     "output_type": "stream",
     "text": [
      "Training (12719 / 18000 Steps) (loss=0.56176): 100%|██████████| 20/20 [01:03<00:00,  3.15s/it]\n",
      "Training (12739 / 18000 Steps) (loss=0.44841): 100%|██████████| 20/20 [00:35<00:00,  1.77s/it]\n",
      "Training (12759 / 18000 Steps) (loss=0.57093): 100%|██████████| 20/20 [00:36<00:00,  1.83s/it]\n",
      "Training (12779 / 18000 Steps) (loss=0.56736): 100%|██████████| 20/20 [00:35<00:00,  1.78s/it]\n",
      "Training (12799 / 18000 Steps) (loss=0.45738): 100%|██████████| 20/20 [00:35<00:00,  1.78s/it]\n",
      "Validate (12800 / 10 Steps): 100%|██████████| 8/8 [00:27<00:00,  3.42s/it]4<?, ?it/s]\n",
      "Training (12800 / 18000 Steps) (loss=0.40221):   5%|▌         | 1/20 [00:32<10:13, 32.30s/it]"
     ]
    },
    {
     "name": "stdout",
     "output_type": "stream",
     "text": [
      "Model Was Not Saved ! Current Best Avg. Dice: 0.31420204043388367 Current Avg. Dice: 0.2736192047595978 Current Avg. tumor Dice: 0.26851069927215576 Current Avg. lymph Dice: 0.32160887122154236\n"
     ]
    },
    {
     "name": "stderr",
     "output_type": "stream",
     "text": [
      "Training (12819 / 18000 Steps) (loss=0.45411): 100%|██████████| 20/20 [01:02<00:00,  3.12s/it]\n",
      "Training (12839 / 18000 Steps) (loss=0.41888): 100%|██████████| 20/20 [00:35<00:00,  1.78s/it]\n",
      "Training (12859 / 18000 Steps) (loss=0.41691): 100%|██████████| 20/20 [00:35<00:00,  1.78s/it]\n",
      "Training (12879 / 18000 Steps) (loss=0.38272): 100%|██████████| 20/20 [00:35<00:00,  1.78s/it]\n",
      "Training (12899 / 18000 Steps) (loss=0.25665): 100%|██████████| 20/20 [00:35<00:00,  1.78s/it]\n",
      "Validate (12900 / 10 Steps): 100%|██████████| 8/8 [00:27<00:00,  3.43s/it]4<?, ?it/s]\n",
      "Training (12900 / 18000 Steps) (loss=0.56288):   5%|▌         | 1/20 [00:32<10:12, 32.25s/it]"
     ]
    },
    {
     "name": "stdout",
     "output_type": "stream",
     "text": [
      "Model Was Not Saved ! Current Best Avg. Dice: 0.31420204043388367 Current Avg. Dice: 0.30172908306121826 Current Avg. tumor Dice: 0.2859136164188385 Current Avg. lymph Dice: 0.3663190007209778\n"
     ]
    },
    {
     "name": "stderr",
     "output_type": "stream",
     "text": [
      "Training (12919 / 18000 Steps) (loss=0.54904): 100%|██████████| 20/20 [01:02<00:00,  3.12s/it]\n",
      "Training (12939 / 18000 Steps) (loss=0.60618): 100%|██████████| 20/20 [00:36<00:00,  1.81s/it]\n",
      "Training (12959 / 18000 Steps) (loss=0.57730): 100%|██████████| 20/20 [00:36<00:00,  1.84s/it]\n",
      "Training (12979 / 18000 Steps) (loss=0.46361): 100%|██████████| 20/20 [00:41<00:00,  2.10s/it]\n",
      "Training (12999 / 18000 Steps) (loss=0.37771): 100%|██████████| 20/20 [00:41<00:00,  2.07s/it]\n",
      "Validate (13000 / 10 Steps): 100%|██████████| 8/8 [00:28<00:00,  3.59s/it]6<?, ?it/s]\n",
      "Training (13000 / 18000 Steps) (loss=0.46857):   5%|▌         | 1/20 [00:35<11:11, 35.37s/it]"
     ]
    },
    {
     "name": "stdout",
     "output_type": "stream",
     "text": [
      "Model Was Not Saved ! Current Best Avg. Dice: 0.31420204043388367 Current Avg. Dice: 0.2870808243751526 Current Avg. tumor Dice: 0.27672716975212097 Current Avg. lymph Dice: 0.3431936800479889\n"
     ]
    },
    {
     "name": "stderr",
     "output_type": "stream",
     "text": [
      "Training (13019 / 18000 Steps) (loss=0.48295): 100%|██████████| 20/20 [01:09<00:00,  3.47s/it]\n",
      "Training (13039 / 18000 Steps) (loss=0.36150): 100%|██████████| 20/20 [00:39<00:00,  1.98s/it]\n",
      "Training (13059 / 18000 Steps) (loss=0.48647): 100%|██████████| 20/20 [00:41<00:00,  2.08s/it]\n",
      "Training (13079 / 18000 Steps) (loss=0.52810): 100%|██████████| 20/20 [00:40<00:00,  2.01s/it]\n",
      "Training (13099 / 18000 Steps) (loss=0.51340): 100%|██████████| 20/20 [00:39<00:00,  1.97s/it]\n",
      "Validate (13100 / 10 Steps): 100%|██████████| 8/8 [00:29<00:00,  3.66s/it]6<?, ?it/s]\n",
      "Training (13100 / 18000 Steps) (loss=0.50787):   5%|▌         | 1/20 [00:35<11:12, 35.40s/it]"
     ]
    },
    {
     "name": "stdout",
     "output_type": "stream",
     "text": [
      "Model Was Not Saved ! Current Best Avg. Dice: 0.31420204043388367 Current Avg. Dice: 0.2763459384441376 Current Avg. tumor Dice: 0.28611862659454346 Current Avg. lymph Dice: 0.30758461356163025\n"
     ]
    },
    {
     "name": "stderr",
     "output_type": "stream",
     "text": [
      "Training (13119 / 18000 Steps) (loss=0.43582): 100%|██████████| 20/20 [01:09<00:00,  3.46s/it]\n",
      "Training (13139 / 18000 Steps) (loss=0.54207): 100%|██████████| 20/20 [00:41<00:00,  2.06s/it]\n",
      "Training (13159 / 18000 Steps) (loss=0.48833): 100%|██████████| 20/20 [00:41<00:00,  2.08s/it]\n",
      "Training (13179 / 18000 Steps) (loss=0.48868): 100%|██████████| 20/20 [00:39<00:00,  1.99s/it]\n",
      "Training (13199 / 18000 Steps) (loss=0.31822): 100%|██████████| 20/20 [00:41<00:00,  2.06s/it]\n",
      "Validate (13200 / 10 Steps): 100%|██████████| 8/8 [00:28<00:00,  3.57s/it]5<?, ?it/s]\n",
      "Training (13200 / 18000 Steps) (loss=0.33294):   5%|▌         | 1/20 [00:34<10:48, 34.11s/it]"
     ]
    },
    {
     "name": "stdout",
     "output_type": "stream",
     "text": [
      "Model Was Not Saved ! Current Best Avg. Dice: 0.31420204043388367 Current Avg. Dice: 0.305461049079895 Current Avg. tumor Dice: 0.27290186285972595 Current Avg. lymph Dice: 0.38998711109161377\n"
     ]
    },
    {
     "name": "stderr",
     "output_type": "stream",
     "text": [
      "Training (13219 / 18000 Steps) (loss=0.42858): 100%|██████████| 20/20 [01:07<00:00,  3.37s/it]\n",
      "Training (13239 / 18000 Steps) (loss=0.44877): 100%|██████████| 20/20 [00:41<00:00,  2.06s/it]\n",
      "Training (13259 / 18000 Steps) (loss=0.60734): 100%|██████████| 20/20 [00:39<00:00,  1.99s/it]\n",
      "Training (13279 / 18000 Steps) (loss=0.55575): 100%|██████████| 20/20 [00:39<00:00,  1.98s/it]\n",
      "Training (13299 / 18000 Steps) (loss=0.48777): 100%|██████████| 20/20 [00:40<00:00,  2.03s/it]\n",
      "Validate (13300 / 10 Steps): 100%|██████████| 8/8 [00:27<00:00,  3.50s/it]5<?, ?it/s]\n",
      "Training (13300 / 18000 Steps) (loss=0.53561):   5%|▌         | 1/20 [00:33<10:39, 33.65s/it]"
     ]
    },
    {
     "name": "stdout",
     "output_type": "stream",
     "text": [
      "Model Was Not Saved ! Current Best Avg. Dice: 0.31420204043388367 Current Avg. Dice: 0.2870860993862152 Current Avg. tumor Dice: 0.2825716435909271 Current Avg. lymph Dice: 0.33646222949028015\n"
     ]
    },
    {
     "name": "stderr",
     "output_type": "stream",
     "text": [
      "Training (13319 / 18000 Steps) (loss=0.39848): 100%|██████████| 20/20 [01:07<00:00,  3.37s/it]\n",
      "Training (13339 / 18000 Steps) (loss=0.47315): 100%|██████████| 20/20 [00:40<00:00,  2.04s/it]\n",
      "Training (13359 / 18000 Steps) (loss=0.34416): 100%|██████████| 20/20 [00:39<00:00,  1.98s/it]\n",
      "Training (13379 / 18000 Steps) (loss=0.57767): 100%|██████████| 20/20 [00:39<00:00,  1.98s/it]\n",
      "Training (13399 / 18000 Steps) (loss=0.42502): 100%|██████████| 20/20 [00:40<00:00,  2.04s/it]\n",
      "Validate (13400 / 10 Steps): 100%|██████████| 8/8 [00:28<00:00,  3.57s/it]5<?, ?it/s]\n",
      "Training (13400 / 18000 Steps) (loss=0.46702):   5%|▌         | 1/20 [00:33<10:45, 33.98s/it]"
     ]
    },
    {
     "name": "stdout",
     "output_type": "stream",
     "text": [
      "Model Was Not Saved ! Current Best Avg. Dice: 0.31420204043388367 Current Avg. Dice: 0.278448224067688 Current Avg. tumor Dice: 0.27855128049850464 Current Avg. lymph Dice: 0.3170340359210968\n"
     ]
    },
    {
     "name": "stderr",
     "output_type": "stream",
     "text": [
      "Training (13419 / 18000 Steps) (loss=0.63919): 100%|██████████| 20/20 [01:09<00:00,  3.48s/it]\n",
      "Training (13439 / 18000 Steps) (loss=0.56176): 100%|██████████| 20/20 [00:41<00:00,  2.08s/it]\n",
      "Training (13459 / 18000 Steps) (loss=0.56650): 100%|██████████| 20/20 [00:40<00:00,  2.03s/it]\n",
      "Training (13479 / 18000 Steps) (loss=0.51753): 100%|██████████| 20/20 [00:40<00:00,  2.04s/it]\n",
      "Training (13499 / 18000 Steps) (loss=0.40444): 100%|██████████| 20/20 [00:41<00:00,  2.08s/it]\n",
      "Validate (13500 / 10 Steps): 100%|██████████| 8/8 [00:28<00:00,  3.60s/it]5<?, ?it/s]\n",
      "Training (13500 / 18000 Steps) (loss=0.50781):   5%|▌         | 1/20 [00:34<11:01, 34.81s/it]"
     ]
    },
    {
     "name": "stdout",
     "output_type": "stream",
     "text": [
      "Model Was Not Saved ! Current Best Avg. Dice: 0.31420204043388367 Current Avg. Dice: 0.27502861618995667 Current Avg. tumor Dice: 0.26159387826919556 Current Avg. lymph Dice: 0.3328423500061035\n"
     ]
    },
    {
     "name": "stderr",
     "output_type": "stream",
     "text": [
      "Training (13519 / 18000 Steps) (loss=0.40853): 100%|██████████| 20/20 [01:08<00:00,  3.41s/it]\n",
      "Training (13539 / 18000 Steps) (loss=0.34157): 100%|██████████| 20/20 [00:40<00:00,  2.01s/it]\n",
      "Training (13559 / 18000 Steps) (loss=0.62040): 100%|██████████| 20/20 [00:40<00:00,  2.01s/it]\n",
      "Training (13579 / 18000 Steps) (loss=0.42924): 100%|██████████| 20/20 [00:41<00:00,  2.08s/it]\n",
      "Training (13599 / 18000 Steps) (loss=0.37572): 100%|██████████| 20/20 [00:40<00:00,  2.00s/it]\n",
      "Validate (13600 / 10 Steps): 100%|██████████| 8/8 [00:28<00:00,  3.59s/it]6<?, ?it/s]\n",
      "Training (13600 / 18000 Steps) (loss=0.50928):   5%|▌         | 1/20 [00:35<11:11, 35.37s/it]"
     ]
    },
    {
     "name": "stdout",
     "output_type": "stream",
     "text": [
      "Model Was Not Saved ! Current Best Avg. Dice: 0.31420204043388367 Current Avg. Dice: 0.2523517906665802 Current Avg. tumor Dice: 0.2300005704164505 Current Avg. lymph Dice: 0.3169650435447693\n"
     ]
    },
    {
     "name": "stderr",
     "output_type": "stream",
     "text": [
      "Training (13619 / 18000 Steps) (loss=0.50856): 100%|██████████| 20/20 [01:10<00:00,  3.51s/it]\n",
      "Training (13639 / 18000 Steps) (loss=0.38556): 100%|██████████| 20/20 [00:39<00:00,  1.96s/it]\n",
      "Training (13659 / 18000 Steps) (loss=0.57457): 100%|██████████| 20/20 [00:41<00:00,  2.08s/it]\n",
      "Training (13679 / 18000 Steps) (loss=0.47271): 100%|██████████| 20/20 [00:42<00:00,  2.11s/it]\n",
      "Training (13699 / 18000 Steps) (loss=0.45916): 100%|██████████| 20/20 [00:39<00:00,  1.98s/it]\n",
      "Validate (13700 / 10 Steps): 100%|██████████| 8/8 [00:29<00:00,  3.65s/it]6<?, ?it/s]\n",
      "Training (13700 / 18000 Steps) (loss=0.63070):   5%|▌         | 1/20 [00:36<11:27, 36.20s/it]"
     ]
    },
    {
     "name": "stdout",
     "output_type": "stream",
     "text": [
      "Model Was Not Saved ! Current Best Avg. Dice: 0.31420204043388367 Current Avg. Dice: 0.3030003309249878 Current Avg. tumor Dice: 0.2929118871688843 Current Avg. lymph Dice: 0.3612562417984009\n"
     ]
    },
    {
     "name": "stderr",
     "output_type": "stream",
     "text": [
      "Training (13719 / 18000 Steps) (loss=0.48038): 100%|██████████| 20/20 [01:10<00:00,  3.53s/it]\n",
      "Training (13739 / 18000 Steps) (loss=0.49262): 100%|██████████| 20/20 [00:39<00:00,  1.96s/it]\n",
      "Training (13759 / 18000 Steps) (loss=0.61424): 100%|██████████| 20/20 [00:40<00:00,  2.00s/it]\n",
      "Training (13779 / 18000 Steps) (loss=0.55115): 100%|██████████| 20/20 [00:39<00:00,  1.96s/it]\n",
      "Training (13799 / 18000 Steps) (loss=0.56198): 100%|██████████| 20/20 [00:40<00:00,  2.01s/it]\n",
      "Validate (13800 / 10 Steps): 100%|██████████| 8/8 [00:28<00:00,  3.56s/it]6<?, ?it/s]\n",
      "Training (13800 / 18000 Steps) (loss=0.41788):   5%|▌         | 1/20 [00:34<11:04, 34.98s/it]"
     ]
    },
    {
     "name": "stdout",
     "output_type": "stream",
     "text": [
      "Model Was Not Saved ! Current Best Avg. Dice: 0.31420204043388367 Current Avg. Dice: 0.28975048661231995 Current Avg. tumor Dice: 0.28583821654319763 Current Avg. lymph Dice: 0.3388417065143585\n"
     ]
    },
    {
     "name": "stderr",
     "output_type": "stream",
     "text": [
      "Training (13819 / 18000 Steps) (loss=0.45019): 100%|██████████| 20/20 [01:08<00:00,  3.43s/it]\n",
      "Training (13839 / 18000 Steps) (loss=0.46349): 100%|██████████| 20/20 [00:40<00:00,  2.01s/it]\n",
      "Training (13859 / 18000 Steps) (loss=0.40070): 100%|██████████| 20/20 [00:40<00:00,  2.03s/it]\n",
      "Training (13879 / 18000 Steps) (loss=0.22651): 100%|██████████| 20/20 [00:39<00:00,  1.99s/it]\n",
      "Training (13899 / 18000 Steps) (loss=0.54507): 100%|██████████| 20/20 [00:40<00:00,  2.03s/it]\n",
      "Validate (13900 / 10 Steps): 100%|██████████| 8/8 [00:28<00:00,  3.52s/it]5<?, ?it/s]\n",
      "Training (13900 / 18000 Steps) (loss=0.39589):   5%|▌         | 1/20 [00:33<10:40, 33.74s/it]"
     ]
    },
    {
     "name": "stdout",
     "output_type": "stream",
     "text": [
      "Model Was Not Saved ! Current Best Avg. Dice: 0.31420204043388367 Current Avg. Dice: 0.2742820978164673 Current Avg. tumor Dice: 0.2729785144329071 Current Avg. lymph Dice: 0.3158799707889557\n"
     ]
    },
    {
     "name": "stderr",
     "output_type": "stream",
     "text": [
      "Training (13919 / 18000 Steps) (loss=0.37215): 100%|██████████| 20/20 [01:08<00:00,  3.41s/it]\n",
      "Training (13939 / 18000 Steps) (loss=0.34777): 100%|██████████| 20/20 [00:40<00:00,  2.02s/it]\n",
      "Training (13959 / 18000 Steps) (loss=0.44252): 100%|██████████| 20/20 [00:39<00:00,  1.99s/it]\n",
      "Training (13979 / 18000 Steps) (loss=0.51669): 100%|██████████| 20/20 [00:40<00:00,  2.03s/it]\n",
      "Training (13999 / 18000 Steps) (loss=0.59253): 100%|██████████| 20/20 [00:40<00:00,  2.02s/it]\n",
      "Validate (14000 / 10 Steps): 100%|██████████| 8/8 [00:28<00:00,  3.51s/it]5<?, ?it/s]\n",
      "Training (14000 / 18000 Steps) (loss=0.54732):   5%|▌         | 1/20 [00:33<10:41, 33.77s/it]"
     ]
    },
    {
     "name": "stdout",
     "output_type": "stream",
     "text": [
      "Model Was Not Saved ! Current Best Avg. Dice: 0.31420204043388367 Current Avg. Dice: 0.29849180579185486 Current Avg. tumor Dice: 0.27770569920539856 Current Avg. lymph Dice: 0.36599233746528625\n"
     ]
    },
    {
     "name": "stderr",
     "output_type": "stream",
     "text": [
      "Training (14019 / 18000 Steps) (loss=0.63112): 100%|██████████| 20/20 [01:08<00:00,  3.42s/it]\n",
      "Training (14039 / 18000 Steps) (loss=0.30435): 100%|██████████| 20/20 [00:40<00:00,  2.00s/it]\n",
      "Training (14059 / 18000 Steps) (loss=0.49659): 100%|██████████| 20/20 [00:40<00:00,  2.01s/it]\n",
      "Training (14079 / 18000 Steps) (loss=0.44182): 100%|██████████| 20/20 [00:41<00:00,  2.07s/it]\n",
      "Training (14099 / 18000 Steps) (loss=0.58492): 100%|██████████| 20/20 [00:41<00:00,  2.06s/it]\n",
      "Validate (14100 / 10 Steps): 100%|██████████| 8/8 [00:28<00:00,  3.55s/it]5<?, ?it/s]\n",
      "Training (14100 / 18000 Steps) (loss=0.29817):   5%|▌         | 1/20 [00:34<10:48, 34.13s/it]"
     ]
    },
    {
     "name": "stdout",
     "output_type": "stream",
     "text": [
      "Model Was Not Saved ! Current Best Avg. Dice: 0.31420204043388367 Current Avg. Dice: 0.29206880927085876 Current Avg. tumor Dice: 0.2800971269607544 Current Avg. lymph Dice: 0.34855958819389343\n"
     ]
    },
    {
     "name": "stderr",
     "output_type": "stream",
     "text": [
      "Training (14119 / 18000 Steps) (loss=0.43632): 100%|██████████| 20/20 [01:08<00:00,  3.44s/it]\n",
      "Training (14139 / 18000 Steps) (loss=0.58607): 100%|██████████| 20/20 [00:39<00:00,  1.99s/it]\n",
      "Training (14159 / 18000 Steps) (loss=0.31036): 100%|██████████| 20/20 [00:40<00:00,  2.00s/it]\n",
      "Training (14179 / 18000 Steps) (loss=0.56208): 100%|██████████| 20/20 [00:41<00:00,  2.10s/it]\n",
      "Training (14199 / 18000 Steps) (loss=0.35468): 100%|██████████| 20/20 [00:40<00:00,  2.05s/it]\n",
      "Validate (14200 / 10 Steps): 100%|██████████| 8/8 [00:28<00:00,  3.54s/it]6<?, ?it/s]\n",
      "Training (14200 / 18000 Steps) (loss=0.48368):   5%|▌         | 1/20 [00:34<10:59, 34.69s/it]"
     ]
    },
    {
     "name": "stdout",
     "output_type": "stream",
     "text": [
      "Model Was Not Saved ! Current Best Avg. Dice: 0.31420204043388367 Current Avg. Dice: 0.287978857755661 Current Avg. tumor Dice: 0.2951124608516693 Current Avg. lymph Dice: 0.3215116858482361\n"
     ]
    },
    {
     "name": "stderr",
     "output_type": "stream",
     "text": [
      "Training (14219 / 18000 Steps) (loss=0.47042): 100%|██████████| 20/20 [01:09<00:00,  3.47s/it]\n",
      "Training (14239 / 18000 Steps) (loss=0.38915): 100%|██████████| 20/20 [00:39<00:00,  1.98s/it]\n",
      "Training (14259 / 18000 Steps) (loss=0.50625): 100%|██████████| 20/20 [00:40<00:00,  2.05s/it]\n",
      "Training (14279 / 18000 Steps) (loss=0.45086): 100%|██████████| 20/20 [00:39<00:00,  1.99s/it]\n",
      "Training (14299 / 18000 Steps) (loss=0.60560): 100%|██████████| 20/20 [00:36<00:00,  1.82s/it]\n",
      "Validate (14300 / 10 Steps): 100%|██████████| 8/8 [00:27<00:00,  3.43s/it]4<?, ?it/s]\n",
      "Training (14300 / 18000 Steps) (loss=0.45208):   5%|▌         | 1/20 [00:33<10:28, 33.07s/it]"
     ]
    },
    {
     "name": "stdout",
     "output_type": "stream",
     "text": [
      "Model Was Saved ! Current Best Avg. Dice: 0.31541481614112854 Current Avg. Dice: 0.31541481614112854 Current Avg. tumor Dice: 0.29842409491539 Current Avg. lymph Dice: 0.38332170248031616\n"
     ]
    },
    {
     "name": "stderr",
     "output_type": "stream",
     "text": [
      "Training (14319 / 18000 Steps) (loss=0.60086): 100%|██████████| 20/20 [01:03<00:00,  3.19s/it]\n",
      "Training (14339 / 18000 Steps) (loss=0.49741): 100%|██████████| 20/20 [00:35<00:00,  1.76s/it]\n",
      "Training (14359 / 18000 Steps) (loss=0.41605): 100%|██████████| 20/20 [00:35<00:00,  1.77s/it]\n",
      "Training (14379 / 18000 Steps) (loss=0.56044): 100%|██████████| 20/20 [00:35<00:00,  1.75s/it]\n",
      "Training (14399 / 18000 Steps) (loss=0.57087): 100%|██████████| 20/20 [00:36<00:00,  1.80s/it]\n",
      "Validate (14400 / 10 Steps): 100%|██████████| 8/8 [00:27<00:00,  3.45s/it]5<?, ?it/s]\n",
      "Training (14400 / 18000 Steps) (loss=0.44484):   5%|▌         | 1/20 [00:32<10:21, 32.69s/it]"
     ]
    },
    {
     "name": "stdout",
     "output_type": "stream",
     "text": [
      "Model Was Not Saved ! Current Best Avg. Dice: 0.31541481614112854 Current Avg. Dice: 0.29817867279052734 Current Avg. tumor Dice: 0.27233394980430603 Current Avg. lymph Dice: 0.37387320399284363\n"
     ]
    },
    {
     "name": "stderr",
     "output_type": "stream",
     "text": [
      "Training (14419 / 18000 Steps) (loss=0.46205): 100%|██████████| 20/20 [01:06<00:00,  3.33s/it]\n",
      "Training (14439 / 18000 Steps) (loss=0.37166): 100%|██████████| 20/20 [00:40<00:00,  2.03s/it]\n",
      "Training (14459 / 18000 Steps) (loss=0.44422): 100%|██████████| 20/20 [00:40<00:00,  2.02s/it]\n",
      "Training (14479 / 18000 Steps) (loss=0.40451): 100%|██████████| 20/20 [00:41<00:00,  2.08s/it]\n",
      "Training (14499 / 18000 Steps) (loss=0.58800): 100%|██████████| 20/20 [00:40<00:00,  2.04s/it]\n",
      "Validate (14500 / 10 Steps): 100%|██████████| 8/8 [00:28<00:00,  3.57s/it]5<?, ?it/s]\n",
      "Training (14500 / 18000 Steps) (loss=0.45925):   5%|▌         | 1/20 [00:35<11:12, 35.38s/it]"
     ]
    },
    {
     "name": "stdout",
     "output_type": "stream",
     "text": [
      "Model Was Saved ! Current Best Avg. Dice: 0.31981563568115234 Current Avg. Dice: 0.31981563568115234 Current Avg. tumor Dice: 0.31239044666290283 Current Avg. lymph Dice: 0.3775855600833893\n"
     ]
    },
    {
     "name": "stderr",
     "output_type": "stream",
     "text": [
      "Training (14519 / 18000 Steps) (loss=0.42328): 100%|██████████| 20/20 [01:10<00:00,  3.52s/it]\n",
      "Training (14539 / 18000 Steps) (loss=0.37717): 100%|██████████| 20/20 [00:40<00:00,  2.04s/it]\n",
      "Training (14559 / 18000 Steps) (loss=0.59427): 100%|██████████| 20/20 [00:40<00:00,  2.01s/it]\n",
      "Training (14579 / 18000 Steps) (loss=0.21822): 100%|██████████| 20/20 [00:41<00:00,  2.05s/it]\n",
      "Training (14599 / 18000 Steps) (loss=0.59949): 100%|██████████| 20/20 [00:39<00:00,  1.98s/it]\n",
      "Validate (14600 / 10 Steps): 100%|██████████| 8/8 [00:28<00:00,  3.58s/it]5<?, ?it/s]\n",
      "Training (14600 / 18000 Steps) (loss=0.48702):   5%|▌         | 1/20 [00:34<10:57, 34.63s/it]"
     ]
    },
    {
     "name": "stdout",
     "output_type": "stream",
     "text": [
      "Model Was Not Saved ! Current Best Avg. Dice: 0.31981563568115234 Current Avg. Dice: 0.2673978805541992 Current Avg. tumor Dice: 0.23204463720321655 Current Avg. lymph Dice: 0.34932824969291687\n"
     ]
    },
    {
     "name": "stderr",
     "output_type": "stream",
     "text": [
      "Training (14619 / 18000 Steps) (loss=0.61107): 100%|██████████| 20/20 [01:09<00:00,  3.48s/it]\n",
      "Training (14639 / 18000 Steps) (loss=0.41249): 100%|██████████| 20/20 [00:40<00:00,  2.02s/it]\n",
      "Training (14659 / 18000 Steps) (loss=0.51478): 100%|██████████| 20/20 [00:40<00:00,  2.02s/it]\n",
      "Training (14679 / 18000 Steps) (loss=0.50070): 100%|██████████| 20/20 [00:41<00:00,  2.09s/it]\n",
      "Training (14699 / 18000 Steps) (loss=0.41021): 100%|██████████| 20/20 [00:40<00:00,  2.03s/it]\n",
      "Validate (14700 / 10 Steps): 100%|██████████| 8/8 [00:28<00:00,  3.62s/it]6<?, ?it/s]\n",
      "Training (14700 / 18000 Steps) (loss=0.49083):   5%|▌         | 1/20 [00:35<11:14, 35.50s/it]"
     ]
    },
    {
     "name": "stdout",
     "output_type": "stream",
     "text": [
      "Model Was Not Saved ! Current Best Avg. Dice: 0.31981563568115234 Current Avg. Dice: 0.3123207092285156 Current Avg. tumor Dice: 0.29508787393569946 Current Avg. lymph Dice: 0.38002997636795044\n"
     ]
    },
    {
     "name": "stderr",
     "output_type": "stream",
     "text": [
      "Training (14719 / 18000 Steps) (loss=0.66951): 100%|██████████| 20/20 [01:10<00:00,  3.52s/it]\n",
      "Training (14739 / 18000 Steps) (loss=0.51633): 100%|██████████| 20/20 [00:39<00:00,  1.98s/it]\n",
      "Training (14759 / 18000 Steps) (loss=0.33848): 100%|██████████| 20/20 [00:42<00:00,  2.11s/it]\n",
      "Training (14779 / 18000 Steps) (loss=0.46512): 100%|██████████| 20/20 [00:41<00:00,  2.07s/it]\n",
      "Training (14799 / 18000 Steps) (loss=0.45992): 100%|██████████| 20/20 [00:40<00:00,  2.02s/it]\n",
      "Validate (14800 / 10 Steps): 100%|██████████| 8/8 [00:28<00:00,  3.60s/it]6<?, ?it/s]\n",
      "Training (14800 / 18000 Steps) (loss=0.48943):   5%|▌         | 1/20 [00:35<11:10, 35.26s/it]"
     ]
    },
    {
     "name": "stdout",
     "output_type": "stream",
     "text": [
      "Model Was Not Saved ! Current Best Avg. Dice: 0.31981563568115234 Current Avg. Dice: 0.3064368665218353 Current Avg. tumor Dice: 0.28951722383499146 Current Avg. lymph Dice: 0.37310361862182617\n"
     ]
    },
    {
     "name": "stderr",
     "output_type": "stream",
     "text": [
      "Training (14819 / 18000 Steps) (loss=0.35017): 100%|██████████| 20/20 [01:10<00:00,  3.52s/it]\n",
      "Training (14839 / 18000 Steps) (loss=0.29757): 100%|██████████| 20/20 [00:40<00:00,  2.01s/it]\n",
      "Training (14859 / 18000 Steps) (loss=0.60762): 100%|██████████| 20/20 [00:40<00:00,  2.04s/it]\n",
      "Training (14879 / 18000 Steps) (loss=0.54542): 100%|██████████| 20/20 [00:41<00:00,  2.08s/it]\n",
      "Training (14899 / 18000 Steps) (loss=0.45801): 100%|██████████| 20/20 [00:40<00:00,  2.01s/it]\n",
      "Validate (14900 / 10 Steps): 100%|██████████| 8/8 [00:29<00:00,  3.63s/it]6<?, ?it/s]\n",
      "Training (14900 / 18000 Steps) (loss=0.47230):   5%|▌         | 1/20 [00:35<11:12, 35.40s/it]"
     ]
    },
    {
     "name": "stdout",
     "output_type": "stream",
     "text": [
      "Model Was Not Saved ! Current Best Avg. Dice: 0.31981563568115234 Current Avg. Dice: 0.2924990952014923 Current Avg. tumor Dice: 0.2692190110683441 Current Avg. lymph Dice: 0.3636387586593628\n"
     ]
    },
    {
     "name": "stderr",
     "output_type": "stream",
     "text": [
      "Training (14919 / 18000 Steps) (loss=0.62599): 100%|██████████| 20/20 [01:09<00:00,  3.49s/it]\n",
      "Training (14939 / 18000 Steps) (loss=0.58826): 100%|██████████| 20/20 [00:40<00:00,  2.00s/it]\n",
      "Training (14959 / 18000 Steps) (loss=0.45060): 100%|██████████| 20/20 [00:41<00:00,  2.05s/it]\n",
      "Training (14979 / 18000 Steps) (loss=0.39377): 100%|██████████| 20/20 [00:40<00:00,  2.03s/it]\n",
      "Training (14999 / 18000 Steps) (loss=0.55491): 100%|██████████| 20/20 [00:39<00:00,  1.97s/it]\n",
      "Validate (15000 / 10 Steps): 100%|██████████| 8/8 [00:28<00:00,  3.57s/it]6<?, ?it/s]\n",
      "Training (15000 / 18000 Steps) (loss=0.40890):   5%|▌         | 1/20 [00:35<11:12, 35.41s/it]"
     ]
    },
    {
     "name": "stdout",
     "output_type": "stream",
     "text": [
      "Model Was Not Saved ! Current Best Avg. Dice: 0.31981563568115234 Current Avg. Dice: 0.26727208495140076 Current Avg. tumor Dice: 0.2646580636501312 Current Avg. lymph Dice: 0.31140702962875366\n"
     ]
    },
    {
     "name": "stderr",
     "output_type": "stream",
     "text": [
      "Training (15019 / 18000 Steps) (loss=0.43616): 100%|██████████| 20/20 [01:10<00:00,  3.51s/it]\n",
      "Training (15039 / 18000 Steps) (loss=0.36086): 100%|██████████| 20/20 [00:40<00:00,  2.01s/it]\n",
      "Training (15059 / 18000 Steps) (loss=0.46327): 100%|██████████| 20/20 [00:40<00:00,  2.04s/it]\n",
      "Training (15079 / 18000 Steps) (loss=0.55114): 100%|██████████| 20/20 [00:40<00:00,  2.04s/it]\n",
      "Training (15099 / 18000 Steps) (loss=0.32193): 100%|██████████| 20/20 [00:40<00:00,  2.01s/it]\n",
      "Validate (15100 / 10 Steps): 100%|██████████| 8/8 [00:29<00:00,  3.65s/it]5<?, ?it/s]\n",
      "Training (15100 / 18000 Steps) (loss=0.39817):   5%|▌         | 1/20 [00:35<11:06, 35.08s/it]"
     ]
    },
    {
     "name": "stdout",
     "output_type": "stream",
     "text": [
      "Model Was Not Saved ! Current Best Avg. Dice: 0.31981563568115234 Current Avg. Dice: 0.3014204800128937 Current Avg. tumor Dice: 0.28058066964149475 Current Avg. lymph Dice: 0.37156185507774353\n"
     ]
    },
    {
     "name": "stderr",
     "output_type": "stream",
     "text": [
      "Training (15119 / 18000 Steps) (loss=0.45420): 100%|██████████| 20/20 [01:08<00:00,  3.41s/it]\n",
      "Training (15139 / 18000 Steps) (loss=0.31940): 100%|██████████| 20/20 [00:41<00:00,  2.10s/it]\n",
      "Training (15159 / 18000 Steps) (loss=0.58999): 100%|██████████| 20/20 [00:41<00:00,  2.06s/it]\n",
      "Training (15179 / 18000 Steps) (loss=0.44287): 100%|██████████| 20/20 [00:40<00:00,  2.05s/it]\n",
      "Training (15199 / 18000 Steps) (loss=0.26534): 100%|██████████| 20/20 [00:40<00:00,  2.01s/it]\n",
      "Validate (15200 / 10 Steps): 100%|██████████| 8/8 [00:28<00:00,  3.56s/it]5<?, ?it/s]\n",
      "Training (15200 / 18000 Steps) (loss=0.42064):   5%|▌         | 1/20 [00:34<10:47, 34.10s/it]"
     ]
    },
    {
     "name": "stdout",
     "output_type": "stream",
     "text": [
      "Model Was Not Saved ! Current Best Avg. Dice: 0.31981563568115234 Current Avg. Dice: 0.2938228249549866 Current Avg. tumor Dice: 0.28077688813209534 Current Avg. lymph Dice: 0.3536616563796997\n"
     ]
    },
    {
     "name": "stderr",
     "output_type": "stream",
     "text": [
      "Training (15219 / 18000 Steps) (loss=0.42099): 100%|██████████| 20/20 [01:07<00:00,  3.39s/it]\n",
      "Training (15239 / 18000 Steps) (loss=0.45456): 100%|██████████| 20/20 [00:39<00:00,  1.98s/it]\n",
      "Training (15259 / 18000 Steps) (loss=0.59344): 100%|██████████| 20/20 [00:39<00:00,  1.99s/it]\n",
      "Training (15279 / 18000 Steps) (loss=0.34471): 100%|██████████| 20/20 [00:39<00:00,  1.98s/it]\n",
      "Training (15299 / 18000 Steps) (loss=0.62863): 100%|██████████| 20/20 [00:39<00:00,  1.99s/it]\n",
      "Validate (15300 / 10 Steps): 100%|██████████| 8/8 [00:28<00:00,  3.62s/it]5<?, ?it/s]\n",
      "Training (15300 / 18000 Steps) (loss=0.38481):   5%|▌         | 1/20 [00:34<10:53, 34.42s/it]"
     ]
    },
    {
     "name": "stdout",
     "output_type": "stream",
     "text": [
      "Model Was Not Saved ! Current Best Avg. Dice: 0.31981563568115234 Current Avg. Dice: 0.27651655673980713 Current Avg. tumor Dice: 0.2671499252319336 Current Avg. lymph Dice: 0.32986530661582947\n"
     ]
    },
    {
     "name": "stderr",
     "output_type": "stream",
     "text": [
      "Training (15319 / 18000 Steps) (loss=0.22952): 100%|██████████| 20/20 [01:07<00:00,  3.35s/it]\n",
      "Training (15339 / 18000 Steps) (loss=0.52850): 100%|██████████| 20/20 [00:39<00:00,  2.00s/it]\n",
      "Training (15359 / 18000 Steps) (loss=0.36153): 100%|██████████| 20/20 [00:40<00:00,  2.01s/it]\n",
      "Training (15379 / 18000 Steps) (loss=0.28895): 100%|██████████| 20/20 [00:40<00:00,  2.01s/it]\n",
      "Training (15399 / 18000 Steps) (loss=0.60768): 100%|██████████| 20/20 [00:41<00:00,  2.09s/it]\n",
      "Validate (15400 / 10 Steps): 100%|██████████| 8/8 [00:28<00:00,  3.55s/it]6<?, ?it/s]\n",
      "Training (15400 / 18000 Steps) (loss=0.42012):   5%|▌         | 1/20 [00:34<11:03, 34.91s/it]"
     ]
    },
    {
     "name": "stdout",
     "output_type": "stream",
     "text": [
      "Model Was Not Saved ! Current Best Avg. Dice: 0.31981563568115234 Current Avg. Dice: 0.2952018082141876 Current Avg. tumor Dice: 0.26626056432724 Current Avg. lymph Dice: 0.3740113377571106\n"
     ]
    },
    {
     "name": "stderr",
     "output_type": "stream",
     "text": [
      "Training (15419 / 18000 Steps) (loss=0.60140): 100%|██████████| 20/20 [01:09<00:00,  3.48s/it]\n",
      "Training (15439 / 18000 Steps) (loss=0.23405): 100%|██████████| 20/20 [00:41<00:00,  2.08s/it]\n",
      "Training (15459 / 18000 Steps) (loss=0.50637): 100%|██████████| 20/20 [00:40<00:00,  2.03s/it]\n",
      "Training (15479 / 18000 Steps) (loss=0.33075): 100%|██████████| 20/20 [00:39<00:00,  1.99s/it]\n",
      "Training (15499 / 18000 Steps) (loss=0.61174): 100%|██████████| 20/20 [00:40<00:00,  2.04s/it]\n",
      "Validate (15500 / 10 Steps): 100%|██████████| 8/8 [00:28<00:00,  3.56s/it]5<?, ?it/s]\n",
      "Training (15500 / 18000 Steps) (loss=0.42939):   5%|▌         | 1/20 [00:33<10:45, 33.96s/it]"
     ]
    },
    {
     "name": "stdout",
     "output_type": "stream",
     "text": [
      "Model Was Not Saved ! Current Best Avg. Dice: 0.31981563568115234 Current Avg. Dice: 0.2682740390300751 Current Avg. tumor Dice: 0.23190663754940033 Current Avg. lymph Dice: 0.3489818274974823\n"
     ]
    },
    {
     "name": "stderr",
     "output_type": "stream",
     "text": [
      "Training (15519 / 18000 Steps) (loss=0.54241): 100%|██████████| 20/20 [01:08<00:00,  3.42s/it]\n",
      "Training (15539 / 18000 Steps) (loss=0.32083): 100%|██████████| 20/20 [00:40<00:00,  2.04s/it]\n",
      "Training (15559 / 18000 Steps) (loss=0.54446): 100%|██████████| 20/20 [00:40<00:00,  2.05s/it]\n",
      "Training (15579 / 18000 Steps) (loss=0.56560): 100%|██████████| 20/20 [00:39<00:00,  1.99s/it]\n",
      "Training (15599 / 18000 Steps) (loss=0.43405): 100%|██████████| 20/20 [00:40<00:00,  2.02s/it]\n",
      "Validate (15600 / 10 Steps): 100%|██████████| 8/8 [00:27<00:00,  3.47s/it]6<?, ?it/s]\n",
      "Training (15600 / 18000 Steps) (loss=0.48256):   5%|▌         | 1/20 [00:33<10:43, 33.87s/it]"
     ]
    },
    {
     "name": "stdout",
     "output_type": "stream",
     "text": [
      "Model Was Not Saved ! Current Best Avg. Dice: 0.31981563568115234 Current Avg. Dice: 0.2735406160354614 Current Avg. tumor Dice: 0.25240010023117065 Current Avg. lymph Dice: 0.3400166928768158\n"
     ]
    },
    {
     "name": "stderr",
     "output_type": "stream",
     "text": [
      "Training (15619 / 18000 Steps) (loss=0.51712): 100%|██████████| 20/20 [01:09<00:00,  3.47s/it]\n",
      "Training (15639 / 18000 Steps) (loss=0.50505): 100%|██████████| 20/20 [00:41<00:00,  2.06s/it]\n",
      "Training (15659 / 18000 Steps) (loss=0.53385): 100%|██████████| 20/20 [00:41<00:00,  2.07s/it]\n",
      "Training (15679 / 18000 Steps) (loss=0.66012): 100%|██████████| 20/20 [00:39<00:00,  1.98s/it]\n",
      "Training (15699 / 18000 Steps) (loss=0.66728): 100%|██████████| 20/20 [00:39<00:00,  1.99s/it]\n",
      "Validate (15700 / 10 Steps): 100%|██████████| 8/8 [00:29<00:00,  3.65s/it]5<?, ?it/s]\n",
      "Training (15700 / 18000 Steps) (loss=0.46617):   5%|▌         | 1/20 [00:35<11:06, 35.06s/it]"
     ]
    },
    {
     "name": "stdout",
     "output_type": "stream",
     "text": [
      "Model Was Not Saved ! Current Best Avg. Dice: 0.31981563568115234 Current Avg. Dice: 0.28525394201278687 Current Avg. tumor Dice: 0.2678404748439789 Current Avg. lymph Dice: 0.3492316007614136\n"
     ]
    },
    {
     "name": "stderr",
     "output_type": "stream",
     "text": [
      "Training (15719 / 18000 Steps) (loss=0.66935): 100%|██████████| 20/20 [01:09<00:00,  3.47s/it]\n",
      "Training (15739 / 18000 Steps) (loss=0.30086): 100%|██████████| 20/20 [00:40<00:00,  2.03s/it]\n",
      "Training (15759 / 18000 Steps) (loss=0.54366): 100%|██████████| 20/20 [00:39<00:00,  2.00s/it]\n",
      "Training (15779 / 18000 Steps) (loss=0.25140): 100%|██████████| 20/20 [00:41<00:00,  2.06s/it]\n",
      "Training (15799 / 18000 Steps) (loss=0.41831): 100%|██████████| 20/20 [00:39<00:00,  1.99s/it]\n",
      "Validate (15800 / 10 Steps): 100%|██████████| 8/8 [00:28<00:00,  3.53s/it]6<?, ?it/s]\n",
      "Training (15800 / 18000 Steps) (loss=0.54159):   5%|▌         | 1/20 [00:34<10:55, 34.48s/it]"
     ]
    },
    {
     "name": "stdout",
     "output_type": "stream",
     "text": [
      "Model Was Not Saved ! Current Best Avg. Dice: 0.31981563568115234 Current Avg. Dice: 0.2947207987308502 Current Avg. tumor Dice: 0.29309362173080444 Current Avg. lymph Dice: 0.3419399857521057\n"
     ]
    },
    {
     "name": "stderr",
     "output_type": "stream",
     "text": [
      "Training (15819 / 18000 Steps) (loss=0.58917): 100%|██████████| 20/20 [01:10<00:00,  3.51s/it]\n",
      "Training (15839 / 18000 Steps) (loss=0.32946): 100%|██████████| 20/20 [00:40<00:00,  2.00s/it]\n",
      "Training (15859 / 18000 Steps) (loss=0.50714): 100%|██████████| 20/20 [00:39<00:00,  1.99s/it]\n",
      "Training (15879 / 18000 Steps) (loss=0.39845): 100%|██████████| 20/20 [00:41<00:00,  2.05s/it]\n",
      "Training (15899 / 18000 Steps) (loss=0.32986): 100%|██████████| 20/20 [00:40<00:00,  2.04s/it]\n",
      "Validate (15900 / 10 Steps): 100%|██████████| 8/8 [00:27<00:00,  3.49s/it]6<?, ?it/s]\n",
      "Training (15900 / 18000 Steps) (loss=0.47248):   5%|▌         | 1/20 [00:34<10:49, 34.18s/it]"
     ]
    },
    {
     "name": "stdout",
     "output_type": "stream",
     "text": [
      "Model Was Not Saved ! Current Best Avg. Dice: 0.31981563568115234 Current Avg. Dice: 0.30674514174461365 Current Avg. tumor Dice: 0.2701396048069 Current Avg. lymph Dice: 0.3961739242076874\n"
     ]
    },
    {
     "name": "stderr",
     "output_type": "stream",
     "text": [
      "Training (15919 / 18000 Steps) (loss=0.48423): 100%|██████████| 20/20 [01:09<00:00,  3.45s/it]\n",
      "Training (15939 / 18000 Steps) (loss=0.48569): 100%|██████████| 20/20 [00:41<00:00,  2.10s/it]\n",
      "Training (15959 / 18000 Steps) (loss=0.55102): 100%|██████████| 20/20 [00:40<00:00,  2.01s/it]\n",
      "Training (15979 / 18000 Steps) (loss=0.30102): 100%|██████████| 20/20 [00:41<00:00,  2.07s/it]\n",
      "Training (15999 / 18000 Steps) (loss=0.50682): 100%|██████████| 20/20 [00:41<00:00,  2.10s/it]\n",
      "Validate (16000 / 10 Steps): 100%|██████████| 8/8 [00:28<00:00,  3.53s/it]5<?, ?it/s]\n",
      "Training (16000 / 18000 Steps) (loss=0.44719):   5%|▌         | 1/20 [00:34<10:47, 34.06s/it]"
     ]
    },
    {
     "name": "stdout",
     "output_type": "stream",
     "text": [
      "Model Was Not Saved ! Current Best Avg. Dice: 0.31981563568115234 Current Avg. Dice: 0.2875167727470398 Current Avg. tumor Dice: 0.26785367727279663 Current Avg. lymph Dice: 0.35338908433914185\n"
     ]
    },
    {
     "name": "stderr",
     "output_type": "stream",
     "text": [
      "Training (16019 / 18000 Steps) (loss=0.58362): 100%|██████████| 20/20 [01:10<00:00,  3.51s/it]\n",
      "Training (16039 / 18000 Steps) (loss=0.47141): 100%|██████████| 20/20 [00:40<00:00,  2.03s/it]\n",
      "Training (16059 / 18000 Steps) (loss=0.35729): 100%|██████████| 20/20 [00:39<00:00,  2.00s/it]\n",
      "Training (16079 / 18000 Steps) (loss=0.61696): 100%|██████████| 20/20 [00:41<00:00,  2.10s/it]\n",
      "Training (16099 / 18000 Steps) (loss=0.36106): 100%|██████████| 20/20 [00:42<00:00,  2.10s/it]\n",
      "Validate (16100 / 10 Steps): 100%|██████████| 8/8 [00:28<00:00,  3.58s/it]6<?, ?it/s]\n",
      "Training (16100 / 18000 Steps) (loss=0.41452):   5%|▌         | 1/20 [00:34<11:03, 34.91s/it]"
     ]
    },
    {
     "name": "stdout",
     "output_type": "stream",
     "text": [
      "Model Was Not Saved ! Current Best Avg. Dice: 0.31981563568115234 Current Avg. Dice: 0.3039141297340393 Current Avg. tumor Dice: 0.28424203395843506 Current Avg. lymph Dice: 0.3733687102794647\n"
     ]
    },
    {
     "name": "stderr",
     "output_type": "stream",
     "text": [
      "Training (16119 / 18000 Steps) (loss=0.40806): 100%|██████████| 20/20 [01:10<00:00,  3.50s/it]\n",
      "Training (16139 / 18000 Steps) (loss=0.43011): 100%|██████████| 20/20 [00:40<00:00,  2.01s/it]\n",
      "Training (16159 / 18000 Steps) (loss=0.27054): 100%|██████████| 20/20 [00:40<00:00,  2.03s/it]\n",
      "Training (16179 / 18000 Steps) (loss=0.39563): 100%|██████████| 20/20 [00:40<00:00,  2.03s/it]\n",
      "Training (16199 / 18000 Steps) (loss=0.32963): 100%|██████████| 20/20 [00:41<00:00,  2.07s/it]\n",
      "Validate (16200 / 10 Steps): 100%|██████████| 8/8 [00:28<00:00,  3.55s/it]5<?, ?it/s]\n",
      "Training (16200 / 18000 Steps) (loss=0.43518):   5%|▌         | 1/20 [00:34<10:53, 34.42s/it]"
     ]
    },
    {
     "name": "stdout",
     "output_type": "stream",
     "text": [
      "Model Was Not Saved ! Current Best Avg. Dice: 0.31981563568115234 Current Avg. Dice: 0.30487728118896484 Current Avg. tumor Dice: 0.2712702751159668 Current Avg. lymph Dice: 0.39010047912597656\n"
     ]
    },
    {
     "name": "stderr",
     "output_type": "stream",
     "text": [
      "Training (16219 / 18000 Steps) (loss=0.63180): 100%|██████████| 20/20 [01:07<00:00,  3.39s/it]\n",
      "Training (16239 / 18000 Steps) (loss=0.43180): 100%|██████████| 20/20 [00:39<00:00,  1.98s/it]\n",
      "Training (16259 / 18000 Steps) (loss=0.50731): 100%|██████████| 20/20 [00:40<00:00,  2.02s/it]\n",
      "Training (16279 / 18000 Steps) (loss=0.47148): 100%|██████████| 20/20 [00:39<00:00,  1.98s/it]\n",
      "Training (16299 / 18000 Steps) (loss=0.47211): 100%|██████████| 20/20 [00:39<00:00,  1.97s/it]\n",
      "Validate (16300 / 10 Steps): 100%|██████████| 8/8 [00:28<00:00,  3.58s/it]6<?, ?it/s]\n",
      "Training (16300 / 18000 Steps) (loss=0.57217):   5%|▌         | 1/20 [00:34<11:01, 34.81s/it]"
     ]
    },
    {
     "name": "stdout",
     "output_type": "stream",
     "text": [
      "Model Was Not Saved ! Current Best Avg. Dice: 0.31981563568115234 Current Avg. Dice: 0.302258163690567 Current Avg. tumor Dice: 0.2958908677101135 Current Avg. lymph Dice: 0.3561062812805176\n"
     ]
    },
    {
     "name": "stderr",
     "output_type": "stream",
     "text": [
      "Training (16319 / 18000 Steps) (loss=0.50525): 100%|██████████| 20/20 [01:07<00:00,  3.38s/it]\n",
      "Training (16339 / 18000 Steps) (loss=0.22605): 100%|██████████| 20/20 [00:38<00:00,  1.94s/it]\n",
      "Training (16359 / 18000 Steps) (loss=0.50715): 100%|██████████| 20/20 [00:39<00:00,  1.95s/it]\n",
      "Training (16379 / 18000 Steps) (loss=0.57589): 100%|██████████| 20/20 [00:38<00:00,  1.94s/it]\n",
      "Training (16399 / 18000 Steps) (loss=0.51376): 100%|██████████| 20/20 [00:38<00:00,  1.91s/it]\n",
      "Validate (16400 / 10 Steps): 100%|██████████| 8/8 [00:28<00:00,  3.56s/it]6<?, ?it/s]\n",
      "Training (16400 / 18000 Steps) (loss=0.39366):   5%|▌         | 1/20 [00:35<11:17, 35.68s/it]"
     ]
    },
    {
     "name": "stdout",
     "output_type": "stream",
     "text": [
      "Model Was Saved ! Current Best Avg. Dice: 0.3287251591682434 Current Avg. Dice: 0.3287251591682434 Current Avg. tumor Dice: 0.28854504227638245 Current Avg. lymph Dice: 0.42501580715179443\n"
     ]
    },
    {
     "name": "stderr",
     "output_type": "stream",
     "text": [
      "Training (16419 / 18000 Steps) (loss=0.39250): 100%|██████████| 20/20 [01:08<00:00,  3.45s/it]\n",
      "Training (16439 / 18000 Steps) (loss=0.63339): 100%|██████████| 20/20 [00:41<00:00,  2.06s/it]\n",
      "Training (16459 / 18000 Steps) (loss=0.43504): 100%|██████████| 20/20 [00:39<00:00,  1.98s/it]\n",
      "Training (16479 / 18000 Steps) (loss=0.43600): 100%|██████████| 20/20 [00:40<00:00,  2.00s/it]\n",
      "Training (16499 / 18000 Steps) (loss=0.55939): 100%|██████████| 20/20 [00:40<00:00,  2.01s/it]\n",
      "Validate (16500 / 10 Steps): 100%|██████████| 8/8 [00:28<00:00,  3.54s/it]5<?, ?it/s]\n",
      "Training (16500 / 18000 Steps) (loss=0.49314):   5%|▌         | 1/20 [00:34<10:59, 34.70s/it]"
     ]
    },
    {
     "name": "stdout",
     "output_type": "stream",
     "text": [
      "Model Was Saved ! Current Best Avg. Dice: 0.32925471663475037 Current Avg. Dice: 0.32925471663475037 Current Avg. tumor Dice: 0.31343379616737366 Current Avg. lymph Dice: 0.39816415309906006\n"
     ]
    },
    {
     "name": "stderr",
     "output_type": "stream",
     "text": [
      "Training (16519 / 18000 Steps) (loss=0.28530): 100%|██████████| 20/20 [01:06<00:00,  3.35s/it]\n",
      "Training (16539 / 18000 Steps) (loss=0.45881): 100%|██████████| 20/20 [00:40<00:00,  2.03s/it]\n",
      "Training (16559 / 18000 Steps) (loss=0.59151): 100%|██████████| 20/20 [00:38<00:00,  1.94s/it]\n",
      "Training (16579 / 18000 Steps) (loss=0.47416): 100%|██████████| 20/20 [00:40<00:00,  2.02s/it]\n",
      "Training (16599 / 18000 Steps) (loss=0.39709): 100%|██████████| 20/20 [00:39<00:00,  2.00s/it]\n",
      "Validate (16600 / 10 Steps): 100%|██████████| 8/8 [00:28<00:00,  3.59s/it]5<?, ?it/s]\n",
      "Training (16600 / 18000 Steps) (loss=0.33995):   5%|▌         | 1/20 [00:34<10:55, 34.49s/it]"
     ]
    },
    {
     "name": "stdout",
     "output_type": "stream",
     "text": [
      "Model Was Not Saved ! Current Best Avg. Dice: 0.32925471663475037 Current Avg. Dice: 0.2906898558139801 Current Avg. tumor Dice: 0.2838345766067505 Current Avg. lymph Dice: 0.343321293592453\n"
     ]
    },
    {
     "name": "stderr",
     "output_type": "stream",
     "text": [
      "Training (16619 / 18000 Steps) (loss=0.43147): 100%|██████████| 20/20 [01:08<00:00,  3.44s/it]\n",
      "Training (16639 / 18000 Steps) (loss=0.42099): 100%|██████████| 20/20 [00:40<00:00,  2.00s/it]\n",
      "Training (16659 / 18000 Steps) (loss=0.44243): 100%|██████████| 20/20 [00:39<00:00,  1.97s/it]\n",
      "Training (16679 / 18000 Steps) (loss=0.51928): 100%|██████████| 20/20 [00:39<00:00,  1.97s/it]\n",
      "Training (16699 / 18000 Steps) (loss=0.38124): 100%|██████████| 20/20 [00:39<00:00,  1.96s/it]\n",
      "Validate (16700 / 10 Steps): 100%|██████████| 8/8 [00:28<00:00,  3.56s/it]5<?, ?it/s]\n",
      "Training (16700 / 18000 Steps) (loss=0.52209):   5%|▌         | 1/20 [00:34<10:53, 34.40s/it]"
     ]
    },
    {
     "name": "stdout",
     "output_type": "stream",
     "text": [
      "Model Was Not Saved ! Current Best Avg. Dice: 0.32925471663475037 Current Avg. Dice: 0.31542882323265076 Current Avg. tumor Dice: 0.28211575746536255 Current Avg. lymph Dice: 0.40239450335502625\n"
     ]
    },
    {
     "name": "stderr",
     "output_type": "stream",
     "text": [
      "Training (16719 / 18000 Steps) (loss=0.44986): 100%|██████████| 20/20 [01:08<00:00,  3.41s/it]\n",
      "Training (16739 / 18000 Steps) (loss=0.61103): 100%|██████████| 20/20 [00:38<00:00,  1.93s/it]\n",
      "Training (16759 / 18000 Steps) (loss=0.32808): 100%|██████████| 20/20 [00:39<00:00,  1.99s/it]\n",
      "Training (16779 / 18000 Steps) (loss=0.48583): 100%|██████████| 20/20 [00:38<00:00,  1.95s/it]\n",
      "Training (16799 / 18000 Steps) (loss=0.53754): 100%|██████████| 20/20 [00:38<00:00,  1.91s/it]\n",
      "Validate (16800 / 10 Steps): 100%|██████████| 8/8 [00:28<00:00,  3.59s/it]6<?, ?it/s]\n",
      "Training (16800 / 18000 Steps) (loss=0.54302):   5%|▌         | 1/20 [00:35<11:08, 35.19s/it]"
     ]
    },
    {
     "name": "stdout",
     "output_type": "stream",
     "text": [
      "Model Was Not Saved ! Current Best Avg. Dice: 0.32925471663475037 Current Avg. Dice: 0.2969287931919098 Current Avg. tumor Dice: 0.26358217000961304 Current Avg. lymph Dice: 0.38108697533607483\n"
     ]
    },
    {
     "name": "stderr",
     "output_type": "stream",
     "text": [
      "Training (16819 / 18000 Steps) (loss=0.40028): 100%|██████████| 20/20 [01:08<00:00,  3.45s/it]\n",
      "Training (16839 / 18000 Steps) (loss=0.30376): 100%|██████████| 20/20 [00:39<00:00,  1.99s/it]\n",
      "Training (16859 / 18000 Steps) (loss=0.49778): 100%|██████████| 20/20 [00:39<00:00,  1.98s/it]\n",
      "Training (16879 / 18000 Steps) (loss=0.36844): 100%|██████████| 20/20 [00:40<00:00,  2.01s/it]\n",
      "Training (16899 / 18000 Steps) (loss=0.63044): 100%|██████████| 20/20 [00:38<00:00,  1.91s/it]\n",
      "Validate (16900 / 10 Steps): 100%|██████████| 8/8 [00:28<00:00,  3.59s/it]5<?, ?it/s]\n",
      "Training (16900 / 18000 Steps) (loss=0.43673):   5%|▌         | 1/20 [00:34<11:00, 34.78s/it]"
     ]
    },
    {
     "name": "stdout",
     "output_type": "stream",
     "text": [
      "Model Was Not Saved ! Current Best Avg. Dice: 0.32925471663475037 Current Avg. Dice: 0.2938119173049927 Current Avg. tumor Dice: 0.24774307012557983 Current Avg. lymph Dice: 0.3907769024372101\n"
     ]
    },
    {
     "name": "stderr",
     "output_type": "stream",
     "text": [
      "Training (16919 / 18000 Steps) (loss=0.32250): 100%|██████████| 20/20 [01:08<00:00,  3.41s/it]\n",
      "Training (16939 / 18000 Steps) (loss=0.30668): 100%|██████████| 20/20 [00:39<00:00,  1.97s/it]\n",
      "Training (16959 / 18000 Steps) (loss=0.42659): 100%|██████████| 20/20 [00:39<00:00,  1.97s/it]\n",
      "Training (16979 / 18000 Steps) (loss=0.42837): 100%|██████████| 20/20 [00:38<00:00,  1.93s/it]\n",
      "Training (16999 / 18000 Steps) (loss=0.43265): 100%|██████████| 20/20 [00:39<00:00,  1.98s/it]\n",
      "Validate (17000 / 10 Steps): 100%|██████████| 8/8 [00:28<00:00,  3.58s/it]5<?, ?it/s]\n",
      "Training (17000 / 18000 Steps) (loss=0.43981):   5%|▌         | 1/20 [00:33<10:41, 33.74s/it]"
     ]
    },
    {
     "name": "stdout",
     "output_type": "stream",
     "text": [
      "Model Was Not Saved ! Current Best Avg. Dice: 0.32925471663475037 Current Avg. Dice: 0.2985911965370178 Current Avg. tumor Dice: 0.28459978103637695 Current Avg. lymph Dice: 0.3600415587425232\n"
     ]
    },
    {
     "name": "stderr",
     "output_type": "stream",
     "text": [
      "Training (17019 / 18000 Steps) (loss=0.35540): 100%|██████████| 20/20 [01:07<00:00,  3.35s/it]\n",
      "Training (17039 / 18000 Steps) (loss=0.51642): 100%|██████████| 20/20 [00:39<00:00,  1.98s/it]\n",
      "Training (17059 / 18000 Steps) (loss=0.54910): 100%|██████████| 20/20 [00:39<00:00,  1.96s/it]\n",
      "Training (17079 / 18000 Steps) (loss=0.41989): 100%|██████████| 20/20 [00:39<00:00,  1.95s/it]\n",
      "Training (17099 / 18000 Steps) (loss=0.57526): 100%|██████████| 20/20 [00:39<00:00,  2.00s/it]\n",
      "Validate (17100 / 10 Steps): 100%|██████████| 8/8 [00:28<00:00,  3.52s/it]6<?, ?it/s]\n",
      "Training (17100 / 18000 Steps) (loss=0.53626):   5%|▌         | 1/20 [00:34<10:52, 34.35s/it]"
     ]
    },
    {
     "name": "stdout",
     "output_type": "stream",
     "text": [
      "Model Was Not Saved ! Current Best Avg. Dice: 0.32925471663475037 Current Avg. Dice: 0.29393288493156433 Current Avg. tumor Dice: 0.2871633470058441 Current Avg. lymph Dice: 0.3438011705875397\n"
     ]
    },
    {
     "name": "stderr",
     "output_type": "stream",
     "text": [
      "Training (17119 / 18000 Steps) (loss=0.42832): 100%|██████████| 20/20 [01:06<00:00,  3.33s/it]\n",
      "Training (17139 / 18000 Steps) (loss=0.45831): 100%|██████████| 20/20 [00:40<00:00,  2.01s/it]\n",
      "Training (17159 / 18000 Steps) (loss=0.40737): 100%|██████████| 20/20 [00:39<00:00,  1.99s/it]\n",
      "Training (17179 / 18000 Steps) (loss=0.47898): 100%|██████████| 20/20 [00:38<00:00,  1.93s/it]\n",
      "Training (17199 / 18000 Steps) (loss=0.44523): 100%|██████████| 20/20 [00:39<00:00,  2.00s/it]\n",
      "Validate (17200 / 10 Steps): 100%|██████████| 8/8 [00:28<00:00,  3.54s/it]5<?, ?it/s]\n",
      "Training (17200 / 18000 Steps) (loss=0.26798):   5%|▌         | 1/20 [00:33<10:41, 33.75s/it]"
     ]
    },
    {
     "name": "stdout",
     "output_type": "stream",
     "text": [
      "Model Was Not Saved ! Current Best Avg. Dice: 0.32925471663475037 Current Avg. Dice: 0.29547974467277527 Current Avg. tumor Dice: 0.2723989188671112 Current Avg. lymph Dice: 0.3551314175128937\n"
     ]
    },
    {
     "name": "stderr",
     "output_type": "stream",
     "text": [
      "Training (17219 / 18000 Steps) (loss=0.37712): 100%|██████████| 20/20 [01:06<00:00,  3.30s/it]\n",
      "Training (17239 / 18000 Steps) (loss=0.58042): 100%|██████████| 20/20 [00:40<00:00,  2.01s/it]\n",
      "Training (17259 / 18000 Steps) (loss=0.60669): 100%|██████████| 20/20 [00:38<00:00,  1.93s/it]\n",
      "Training (17279 / 18000 Steps) (loss=0.49644): 100%|██████████| 20/20 [00:39<00:00,  1.97s/it]\n",
      "Training (17299 / 18000 Steps) (loss=0.56263): 100%|██████████| 20/20 [00:38<00:00,  1.94s/it]\n",
      "Validate (17300 / 10 Steps): 100%|██████████| 8/8 [00:28<00:00,  3.53s/it]5<?, ?it/s]\n",
      "Training (17300 / 18000 Steps) (loss=0.39024):   5%|▌         | 1/20 [00:33<10:42, 33.82s/it]"
     ]
    },
    {
     "name": "stdout",
     "output_type": "stream",
     "text": [
      "Model Was Not Saved ! Current Best Avg. Dice: 0.32925471663475037 Current Avg. Dice: 0.3151092529296875 Current Avg. tumor Dice: 0.3082579970359802 Current Avg. lymph Dice: 0.36737993359565735\n"
     ]
    },
    {
     "name": "stderr",
     "output_type": "stream",
     "text": [
      "Training (17319 / 18000 Steps) (loss=0.42765): 100%|██████████| 20/20 [01:07<00:00,  3.39s/it]\n",
      "Training (17339 / 18000 Steps) (loss=0.37477): 100%|██████████| 20/20 [00:39<00:00,  1.98s/it]\n",
      "Training (17359 / 18000 Steps) (loss=0.64582): 100%|██████████| 20/20 [00:38<00:00,  1.90s/it]\n",
      "Training (17379 / 18000 Steps) (loss=0.42357): 100%|██████████| 20/20 [00:40<00:00,  2.01s/it]\n",
      "Training (17399 / 18000 Steps) (loss=0.52377): 100%|██████████| 20/20 [00:38<00:00,  1.94s/it]\n",
      "Validate (17400 / 10 Steps): 100%|██████████| 8/8 [00:28<00:00,  3.56s/it]5<?, ?it/s]\n",
      "Training (17400 / 18000 Steps) (loss=0.47951):   5%|▌         | 1/20 [00:34<10:51, 34.31s/it]"
     ]
    },
    {
     "name": "stdout",
     "output_type": "stream",
     "text": [
      "Model Was Not Saved ! Current Best Avg. Dice: 0.32925471663475037 Current Avg. Dice: 0.30701011419296265 Current Avg. tumor Dice: 0.2962382733821869 Current Avg. lymph Dice: 0.36609598994255066\n"
     ]
    },
    {
     "name": "stderr",
     "output_type": "stream",
     "text": [
      "Training (17419 / 18000 Steps) (loss=0.50639): 100%|██████████| 20/20 [01:07<00:00,  3.37s/it]\n",
      "Training (17439 / 18000 Steps) (loss=0.39142): 100%|██████████| 20/20 [00:39<00:00,  1.97s/it]\n",
      "Training (17459 / 18000 Steps) (loss=0.57215): 100%|██████████| 20/20 [00:38<00:00,  1.94s/it]\n",
      "Training (17479 / 18000 Steps) (loss=0.58088): 100%|██████████| 20/20 [00:39<00:00,  1.97s/it]\n",
      "Training (17499 / 18000 Steps) (loss=0.32263): 100%|██████████| 20/20 [00:39<00:00,  1.97s/it]\n",
      "Validate (17500 / 10 Steps): 100%|██████████| 8/8 [00:28<00:00,  3.50s/it]6<?, ?it/s]\n",
      "Training (17500 / 18000 Steps) (loss=0.48413):   5%|▌         | 1/20 [00:34<10:50, 34.23s/it]"
     ]
    },
    {
     "name": "stdout",
     "output_type": "stream",
     "text": [
      "Model Was Not Saved ! Current Best Avg. Dice: 0.32925471663475037 Current Avg. Dice: 0.28976136445999146 Current Avg. tumor Dice: 0.2590314447879791 Current Avg. lymph Dice: 0.3683919310569763\n"
     ]
    },
    {
     "name": "stderr",
     "output_type": "stream",
     "text": [
      "Training (17519 / 18000 Steps) (loss=0.35465): 100%|██████████| 20/20 [01:07<00:00,  3.40s/it]\n",
      "Training (17539 / 18000 Steps) (loss=0.49289): 100%|██████████| 20/20 [00:39<00:00,  1.96s/it]\n",
      "Training (17559 / 18000 Steps) (loss=0.56769): 100%|██████████| 20/20 [00:40<00:00,  2.02s/it]\n",
      "Training (17579 / 18000 Steps) (loss=0.63368): 100%|██████████| 20/20 [00:40<00:00,  2.04s/it]\n",
      "Training (17599 / 18000 Steps) (loss=0.32971): 100%|██████████| 20/20 [00:39<00:00,  1.96s/it]\n",
      "Validate (17600 / 10 Steps): 100%|██████████| 8/8 [00:28<00:00,  3.54s/it]6<?, ?it/s]\n",
      "Training (17600 / 18000 Steps) (loss=0.36580):   5%|▌         | 1/20 [00:34<10:54, 34.43s/it]"
     ]
    },
    {
     "name": "stdout",
     "output_type": "stream",
     "text": [
      "Model Was Not Saved ! Current Best Avg. Dice: 0.32925471663475037 Current Avg. Dice: 0.2961932122707367 Current Avg. tumor Dice: 0.2927923798561096 Current Avg. lymph Dice: 0.3410298228263855\n"
     ]
    },
    {
     "name": "stderr",
     "output_type": "stream",
     "text": [
      "Training (17619 / 18000 Steps) (loss=0.42870): 100%|██████████| 20/20 [01:07<00:00,  3.38s/it]\n",
      "Training (17639 / 18000 Steps) (loss=0.49384): 100%|██████████| 20/20 [00:38<00:00,  1.90s/it]\n",
      "Training (17659 / 18000 Steps) (loss=0.33353): 100%|██████████| 20/20 [00:39<00:00,  1.98s/it]\n",
      "Training (17679 / 18000 Steps) (loss=0.40859): 100%|██████████| 20/20 [00:40<00:00,  2.03s/it]\n",
      "Training (17699 / 18000 Steps) (loss=0.51123): 100%|██████████| 20/20 [00:37<00:00,  1.87s/it]\n",
      "Validate (17700 / 10 Steps): 100%|██████████| 8/8 [00:28<00:00,  3.56s/it]6<?, ?it/s]\n",
      "Training (17700 / 18000 Steps) (loss=0.51920):   5%|▌         | 1/20 [00:35<11:11, 35.36s/it]"
     ]
    },
    {
     "name": "stdout",
     "output_type": "stream",
     "text": [
      "Model Was Not Saved ! Current Best Avg. Dice: 0.32925471663475037 Current Avg. Dice: 0.32247430086135864 Current Avg. tumor Dice: 0.3011802136898041 Current Avg. lymph Dice: 0.39592525362968445\n"
     ]
    },
    {
     "name": "stderr",
     "output_type": "stream",
     "text": [
      "Training (17719 / 18000 Steps) (loss=0.45740): 100%|██████████| 20/20 [01:09<00:00,  3.48s/it]\n",
      "Training (17739 / 18000 Steps) (loss=0.57875): 100%|██████████| 20/20 [00:39<00:00,  1.98s/it]\n",
      "Training (17759 / 18000 Steps) (loss=0.45998): 100%|██████████| 20/20 [00:39<00:00,  1.98s/it]\n",
      "Training (17779 / 18000 Steps) (loss=0.58784): 100%|██████████| 20/20 [00:39<00:00,  1.99s/it]\n",
      "Training (17799 / 18000 Steps) (loss=0.56976): 100%|██████████| 20/20 [00:39<00:00,  1.96s/it]\n",
      "Validate (17800 / 10 Steps): 100%|██████████| 8/8 [00:28<00:00,  3.58s/it]6<?, ?it/s]\n",
      "Training (17800 / 18000 Steps) (loss=0.56201):   5%|▌         | 1/20 [00:35<11:08, 35.17s/it]"
     ]
    },
    {
     "name": "stdout",
     "output_type": "stream",
     "text": [
      "Model Was Not Saved ! Current Best Avg. Dice: 0.32925471663475037 Current Avg. Dice: 0.2846808433532715 Current Avg. tumor Dice: 0.2717658281326294 Current Avg. lymph Dice: 0.3418428599834442\n"
     ]
    },
    {
     "name": "stderr",
     "output_type": "stream",
     "text": [
      "Training (17819 / 18000 Steps) (loss=0.56442): 100%|██████████| 20/20 [01:09<00:00,  3.47s/it]\n",
      "Training (17839 / 18000 Steps) (loss=0.42959): 100%|██████████| 20/20 [00:39<00:00,  1.98s/it]\n",
      "Training (17859 / 18000 Steps) (loss=0.51352): 100%|██████████| 20/20 [00:40<00:00,  2.05s/it]\n",
      "Training (17879 / 18000 Steps) (loss=0.34515): 100%|██████████| 20/20 [00:40<00:00,  2.04s/it]\n",
      "Training (17897 / 18000 Steps) (loss=0.42442):  90%|█████████ | 18/20 [00:38<00:04,  2.14s/it]\n"
     ]
    },
    {
     "ename": "KeyboardInterrupt",
     "evalue": "",
     "output_type": "error",
     "traceback": [
      "\u001b[0;31m---------------------------------------------------------------------------\u001b[0m",
      "\u001b[0;31mKeyboardInterrupt\u001b[0m                         Traceback (most recent call last)",
      "Cell \u001b[0;32mIn[10], line 7\u001b[0m\n\u001b[1;32m      4\u001b[0m torch\u001b[38;5;241m.\u001b[39mautograd\u001b[38;5;241m.\u001b[39mset_detect_anomaly(\u001b[38;5;28;01mTrue\u001b[39;00m)  \u001b[38;5;66;03m# Enable anomaly detection\u001b[39;00m\n\u001b[1;32m      6\u001b[0m \u001b[38;5;28;01mwhile\u001b[39;00m global_step \u001b[38;5;241m<\u001b[39m max_iterations:\n\u001b[0;32m----> 7\u001b[0m     global_step, dice_val_best, global_step_best \u001b[38;5;241m=\u001b[39m \u001b[43mtrain\u001b[49m\u001b[43m(\u001b[49m\n\u001b[1;32m      8\u001b[0m \u001b[43m        \u001b[49m\u001b[43mglobal_step\u001b[49m\u001b[43m,\u001b[49m\u001b[43m \u001b[49m\u001b[43mtrain_loader\u001b[49m\u001b[43m,\u001b[49m\u001b[43m \u001b[49m\u001b[43mdice_val_best\u001b[49m\u001b[43m,\u001b[49m\u001b[43m \u001b[49m\u001b[43mglobal_step_best\u001b[49m\n\u001b[1;32m      9\u001b[0m \u001b[43m    \u001b[49m\u001b[43m)\u001b[49m\n\u001b[1;32m     10\u001b[0m     epoch \u001b[38;5;241m+\u001b[39m\u001b[38;5;241m=\u001b[39m \u001b[38;5;241m1\u001b[39m\n\u001b[1;32m     11\u001b[0m     \u001b[38;5;66;03m#optimizer.param_groups[0]['lr'] = poly_lr(epoch, max_num_epochs, 0.005676 , 0.9)\u001b[39;00m\n\u001b[1;32m     12\u001b[0m \u001b[38;5;66;03m# model.load_state_dict(torch.load(os.path.join(model_dir, \"best_metric_luck_UNETr_prompt.pth\")))\u001b[39;00m\n",
      "Cell \u001b[0;32mIn[9], line 75\u001b[0m, in \u001b[0;36mtrain\u001b[0;34m(global_step, train_loader, dice_val_best, global_step_best)\u001b[0m\n\u001b[1;32m     73\u001b[0m logit_map \u001b[38;5;241m=\u001b[39m model(x)\n\u001b[1;32m     74\u001b[0m loss \u001b[38;5;241m=\u001b[39m loss_function(logit_map, y)\n\u001b[0;32m---> 75\u001b[0m \u001b[43mloss\u001b[49m\u001b[38;5;241;43m.\u001b[39;49m\u001b[43mbackward\u001b[49m\u001b[43m(\u001b[49m\u001b[43m)\u001b[49m\n\u001b[1;32m     76\u001b[0m epoch_loss \u001b[38;5;241m+\u001b[39m\u001b[38;5;241m=\u001b[39m loss\u001b[38;5;241m.\u001b[39mitem() \n\u001b[1;32m     77\u001b[0m optimizer\u001b[38;5;241m.\u001b[39mstep()\n",
      "File \u001b[0;32m~/miniconda3/envs/clam/lib/python3.8/site-packages/torch/_tensor.py:483\u001b[0m, in \u001b[0;36mTensor.backward\u001b[0;34m(self, gradient, retain_graph, create_graph, inputs)\u001b[0m\n\u001b[1;32m    436\u001b[0m \u001b[38;5;250m\u001b[39m\u001b[38;5;124mr\u001b[39m\u001b[38;5;124;03m\"\"\"Computes the gradient of current tensor wrt graph leaves.\u001b[39;00m\n\u001b[1;32m    437\u001b[0m \n\u001b[1;32m    438\u001b[0m \u001b[38;5;124;03mThe graph is differentiated using the chain rule. If the tensor is\u001b[39;00m\n\u001b[0;32m   (...)\u001b[0m\n\u001b[1;32m    480\u001b[0m \u001b[38;5;124;03m        used to compute the attr::tensors.\u001b[39;00m\n\u001b[1;32m    481\u001b[0m \u001b[38;5;124;03m\"\"\"\u001b[39;00m\n\u001b[1;32m    482\u001b[0m \u001b[38;5;28;01mif\u001b[39;00m has_torch_function_unary(\u001b[38;5;28mself\u001b[39m):\n\u001b[0;32m--> 483\u001b[0m     \u001b[38;5;28;01mreturn\u001b[39;00m \u001b[43mhandle_torch_function\u001b[49m\u001b[43m(\u001b[49m\n\u001b[1;32m    484\u001b[0m \u001b[43m        \u001b[49m\u001b[43mTensor\u001b[49m\u001b[38;5;241;43m.\u001b[39;49m\u001b[43mbackward\u001b[49m\u001b[43m,\u001b[49m\n\u001b[1;32m    485\u001b[0m \u001b[43m        \u001b[49m\u001b[43m(\u001b[49m\u001b[38;5;28;43mself\u001b[39;49m\u001b[43m,\u001b[49m\u001b[43m)\u001b[49m\u001b[43m,\u001b[49m\n\u001b[1;32m    486\u001b[0m \u001b[43m        \u001b[49m\u001b[38;5;28;43mself\u001b[39;49m\u001b[43m,\u001b[49m\n\u001b[1;32m    487\u001b[0m \u001b[43m        \u001b[49m\u001b[43mgradient\u001b[49m\u001b[38;5;241;43m=\u001b[39;49m\u001b[43mgradient\u001b[49m\u001b[43m,\u001b[49m\n\u001b[1;32m    488\u001b[0m \u001b[43m        \u001b[49m\u001b[43mretain_graph\u001b[49m\u001b[38;5;241;43m=\u001b[39;49m\u001b[43mretain_graph\u001b[49m\u001b[43m,\u001b[49m\n\u001b[1;32m    489\u001b[0m \u001b[43m        \u001b[49m\u001b[43mcreate_graph\u001b[49m\u001b[38;5;241;43m=\u001b[39;49m\u001b[43mcreate_graph\u001b[49m\u001b[43m,\u001b[49m\n\u001b[1;32m    490\u001b[0m \u001b[43m        \u001b[49m\u001b[43minputs\u001b[49m\u001b[38;5;241;43m=\u001b[39;49m\u001b[43minputs\u001b[49m\u001b[43m,\u001b[49m\n\u001b[1;32m    491\u001b[0m \u001b[43m    \u001b[49m\u001b[43m)\u001b[49m\n\u001b[1;32m    492\u001b[0m torch\u001b[38;5;241m.\u001b[39mautograd\u001b[38;5;241m.\u001b[39mbackward(\n\u001b[1;32m    493\u001b[0m     \u001b[38;5;28mself\u001b[39m, gradient, retain_graph, create_graph, inputs\u001b[38;5;241m=\u001b[39minputs\n\u001b[1;32m    494\u001b[0m )\n",
      "File \u001b[0;32m~/miniconda3/envs/clam/lib/python3.8/site-packages/torch/overrides.py:1577\u001b[0m, in \u001b[0;36mhandle_torch_function\u001b[0;34m(public_api, relevant_args, *args, **kwargs)\u001b[0m\n\u001b[1;32m   1571\u001b[0m     warnings\u001b[38;5;241m.\u001b[39mwarn(\u001b[38;5;124m\"\u001b[39m\u001b[38;5;124mDefining your `__torch_function__ as a plain method is deprecated and \u001b[39m\u001b[38;5;124m\"\u001b[39m\n\u001b[1;32m   1572\u001b[0m                   \u001b[38;5;124m\"\u001b[39m\u001b[38;5;124mwill be an error in future, please define it as a classmethod.\u001b[39m\u001b[38;5;124m\"\u001b[39m,\n\u001b[1;32m   1573\u001b[0m                   \u001b[38;5;167;01mDeprecationWarning\u001b[39;00m)\n\u001b[1;32m   1575\u001b[0m \u001b[38;5;66;03m# Use `public_api` instead of `implementation` so __torch_function__\u001b[39;00m\n\u001b[1;32m   1576\u001b[0m \u001b[38;5;66;03m# implementations can do equality/identity comparisons.\u001b[39;00m\n\u001b[0;32m-> 1577\u001b[0m result \u001b[38;5;241m=\u001b[39m \u001b[43mtorch_func_method\u001b[49m\u001b[43m(\u001b[49m\u001b[43mpublic_api\u001b[49m\u001b[43m,\u001b[49m\u001b[43m \u001b[49m\u001b[43mtypes\u001b[49m\u001b[43m,\u001b[49m\u001b[43m \u001b[49m\u001b[43margs\u001b[49m\u001b[43m,\u001b[49m\u001b[43m \u001b[49m\u001b[43mkwargs\u001b[49m\u001b[43m)\u001b[49m\n\u001b[1;32m   1579\u001b[0m \u001b[38;5;28;01mif\u001b[39;00m result \u001b[38;5;129;01mis\u001b[39;00m \u001b[38;5;129;01mnot\u001b[39;00m \u001b[38;5;28mNotImplemented\u001b[39m:\n\u001b[1;32m   1580\u001b[0m     \u001b[38;5;28;01mreturn\u001b[39;00m result\n",
      "File \u001b[0;32m~/miniconda3/envs/clam/lib/python3.8/site-packages/monai/data/meta_tensor.py:282\u001b[0m, in \u001b[0;36mMetaTensor.__torch_function__\u001b[0;34m(cls, func, types, args, kwargs)\u001b[0m\n\u001b[1;32m    280\u001b[0m \u001b[38;5;28;01mif\u001b[39;00m kwargs \u001b[38;5;129;01mis\u001b[39;00m \u001b[38;5;28;01mNone\u001b[39;00m:\n\u001b[1;32m    281\u001b[0m     kwargs \u001b[38;5;241m=\u001b[39m {}\n\u001b[0;32m--> 282\u001b[0m ret \u001b[38;5;241m=\u001b[39m \u001b[38;5;28;43msuper\u001b[39;49m\u001b[43m(\u001b[49m\u001b[43m)\u001b[49m\u001b[38;5;241;43m.\u001b[39;49m\u001b[43m__torch_function__\u001b[49m\u001b[43m(\u001b[49m\u001b[43mfunc\u001b[49m\u001b[43m,\u001b[49m\u001b[43m \u001b[49m\u001b[43mtypes\u001b[49m\u001b[43m,\u001b[49m\u001b[43m \u001b[49m\u001b[43margs\u001b[49m\u001b[43m,\u001b[49m\u001b[43m \u001b[49m\u001b[43mkwargs\u001b[49m\u001b[43m)\u001b[49m\n\u001b[1;32m    283\u001b[0m \u001b[38;5;66;03m# if `out` has been used as argument, metadata is not copied, nothing to do.\u001b[39;00m\n\u001b[1;32m    284\u001b[0m \u001b[38;5;66;03m# if \"out\" in kwargs:\u001b[39;00m\n\u001b[1;32m    285\u001b[0m \u001b[38;5;66;03m#     return ret\u001b[39;00m\n\u001b[1;32m    286\u001b[0m \u001b[38;5;28;01mif\u001b[39;00m _not_requiring_metadata(ret):\n",
      "File \u001b[0;32m~/miniconda3/envs/clam/lib/python3.8/site-packages/torch/_tensor.py:1386\u001b[0m, in \u001b[0;36mTensor.__torch_function__\u001b[0;34m(cls, func, types, args, kwargs)\u001b[0m\n\u001b[1;32m   1383\u001b[0m     \u001b[38;5;28;01mreturn\u001b[39;00m \u001b[38;5;28mNotImplemented\u001b[39m\n\u001b[1;32m   1385\u001b[0m \u001b[38;5;28;01mwith\u001b[39;00m _C\u001b[38;5;241m.\u001b[39mDisableTorchFunctionSubclass():\n\u001b[0;32m-> 1386\u001b[0m     ret \u001b[38;5;241m=\u001b[39m \u001b[43mfunc\u001b[49m\u001b[43m(\u001b[49m\u001b[38;5;241;43m*\u001b[39;49m\u001b[43margs\u001b[49m\u001b[43m,\u001b[49m\u001b[43m \u001b[49m\u001b[38;5;241;43m*\u001b[39;49m\u001b[38;5;241;43m*\u001b[39;49m\u001b[43mkwargs\u001b[49m\u001b[43m)\u001b[49m\n\u001b[1;32m   1387\u001b[0m     \u001b[38;5;28;01mif\u001b[39;00m func \u001b[38;5;129;01min\u001b[39;00m get_default_nowrap_functions():\n\u001b[1;32m   1388\u001b[0m         \u001b[38;5;28;01mreturn\u001b[39;00m ret\n",
      "File \u001b[0;32m~/miniconda3/envs/clam/lib/python3.8/site-packages/torch/_tensor.py:492\u001b[0m, in \u001b[0;36mTensor.backward\u001b[0;34m(self, gradient, retain_graph, create_graph, inputs)\u001b[0m\n\u001b[1;32m    482\u001b[0m \u001b[38;5;28;01mif\u001b[39;00m has_torch_function_unary(\u001b[38;5;28mself\u001b[39m):\n\u001b[1;32m    483\u001b[0m     \u001b[38;5;28;01mreturn\u001b[39;00m handle_torch_function(\n\u001b[1;32m    484\u001b[0m         Tensor\u001b[38;5;241m.\u001b[39mbackward,\n\u001b[1;32m    485\u001b[0m         (\u001b[38;5;28mself\u001b[39m,),\n\u001b[0;32m   (...)\u001b[0m\n\u001b[1;32m    490\u001b[0m         inputs\u001b[38;5;241m=\u001b[39minputs,\n\u001b[1;32m    491\u001b[0m     )\n\u001b[0;32m--> 492\u001b[0m \u001b[43mtorch\u001b[49m\u001b[38;5;241;43m.\u001b[39;49m\u001b[43mautograd\u001b[49m\u001b[38;5;241;43m.\u001b[39;49m\u001b[43mbackward\u001b[49m\u001b[43m(\u001b[49m\n\u001b[1;32m    493\u001b[0m \u001b[43m    \u001b[49m\u001b[38;5;28;43mself\u001b[39;49m\u001b[43m,\u001b[49m\u001b[43m \u001b[49m\u001b[43mgradient\u001b[49m\u001b[43m,\u001b[49m\u001b[43m \u001b[49m\u001b[43mretain_graph\u001b[49m\u001b[43m,\u001b[49m\u001b[43m \u001b[49m\u001b[43mcreate_graph\u001b[49m\u001b[43m,\u001b[49m\u001b[43m \u001b[49m\u001b[43minputs\u001b[49m\u001b[38;5;241;43m=\u001b[39;49m\u001b[43minputs\u001b[49m\n\u001b[1;32m    494\u001b[0m \u001b[43m\u001b[49m\u001b[43m)\u001b[49m\n",
      "File \u001b[0;32m~/miniconda3/envs/clam/lib/python3.8/site-packages/torch/autograd/__init__.py:251\u001b[0m, in \u001b[0;36mbackward\u001b[0;34m(tensors, grad_tensors, retain_graph, create_graph, grad_variables, inputs)\u001b[0m\n\u001b[1;32m    246\u001b[0m     retain_graph \u001b[38;5;241m=\u001b[39m create_graph\n\u001b[1;32m    248\u001b[0m \u001b[38;5;66;03m# The reason we repeat the same comment below is that\u001b[39;00m\n\u001b[1;32m    249\u001b[0m \u001b[38;5;66;03m# some Python versions print out the first line of a multi-line function\u001b[39;00m\n\u001b[1;32m    250\u001b[0m \u001b[38;5;66;03m# calls in the traceback and some print out the last line\u001b[39;00m\n\u001b[0;32m--> 251\u001b[0m \u001b[43mVariable\u001b[49m\u001b[38;5;241;43m.\u001b[39;49m\u001b[43m_execution_engine\u001b[49m\u001b[38;5;241;43m.\u001b[39;49m\u001b[43mrun_backward\u001b[49m\u001b[43m(\u001b[49m\u001b[43m  \u001b[49m\u001b[38;5;66;43;03m# Calls into the C++ engine to run the backward pass\u001b[39;49;00m\n\u001b[1;32m    252\u001b[0m \u001b[43m    \u001b[49m\u001b[43mtensors\u001b[49m\u001b[43m,\u001b[49m\n\u001b[1;32m    253\u001b[0m \u001b[43m    \u001b[49m\u001b[43mgrad_tensors_\u001b[49m\u001b[43m,\u001b[49m\n\u001b[1;32m    254\u001b[0m \u001b[43m    \u001b[49m\u001b[43mretain_graph\u001b[49m\u001b[43m,\u001b[49m\n\u001b[1;32m    255\u001b[0m \u001b[43m    \u001b[49m\u001b[43mcreate_graph\u001b[49m\u001b[43m,\u001b[49m\n\u001b[1;32m    256\u001b[0m \u001b[43m    \u001b[49m\u001b[43minputs\u001b[49m\u001b[43m,\u001b[49m\n\u001b[1;32m    257\u001b[0m \u001b[43m    \u001b[49m\u001b[43mallow_unreachable\u001b[49m\u001b[38;5;241;43m=\u001b[39;49m\u001b[38;5;28;43;01mTrue\u001b[39;49;00m\u001b[43m,\u001b[49m\n\u001b[1;32m    258\u001b[0m \u001b[43m    \u001b[49m\u001b[43maccumulate_grad\u001b[49m\u001b[38;5;241;43m=\u001b[39;49m\u001b[38;5;28;43;01mTrue\u001b[39;49;00m\u001b[43m,\u001b[49m\n\u001b[1;32m    259\u001b[0m \u001b[43m\u001b[49m\u001b[43m)\u001b[49m\n",
      "\u001b[0;31mKeyboardInterrupt\u001b[0m: "
     ]
    }
   ],
   "source": [
    "epoch = 0 # used for LR scheduler\n",
    "max_num_epochs = 530 # used for LR scheduler\n",
    "\n",
    "torch.autograd.set_detect_anomaly(True)  # Enable anomaly detection\n",
    "\n",
    "while global_step < max_iterations:\n",
    "    global_step, dice_val_best, global_step_best = train(\n",
    "        global_step, train_loader, dice_val_best, global_step_best\n",
    "    )\n",
    "    epoch += 1\n",
    "    #optimizer.param_groups[0]['lr'] = poly_lr(epoch, max_num_epochs, 0.005676 , 0.9)\n",
    "# model.load_state_dict(torch.load(os.path.join(model_dir, \"best_metric_luck_UNETr_prompt.pth\")))"
   ]
  }
 ],
 "metadata": {
  "kernelspec": {
   "display_name": "clam",
   "language": "python",
   "name": "python3"
  },
  "language_info": {
   "codemirror_mode": {
    "name": "ipython",
    "version": 3
   },
   "file_extension": ".py",
   "mimetype": "text/x-python",
   "name": "python",
   "nbconvert_exporter": "python",
   "pygments_lexer": "ipython3",
   "version": "3.8.0"
  }
 },
 "nbformat": 4,
 "nbformat_minor": 2
}
