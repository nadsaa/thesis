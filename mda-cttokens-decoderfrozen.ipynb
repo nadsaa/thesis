{
 "cells": [
  {
   "cell_type": "code",
   "execution_count": 1,
   "metadata": {},
   "outputs": [
    {
     "name": "stdout",
     "output_type": "stream",
     "text": [
      "1\n"
     ]
    },
    {
     "name": "stderr",
     "output_type": "stream",
     "text": [
      "/tmp/ipykernel_2476849/1823423695.py:9: TqdmWarning: IProgress not found. Please update jupyter and ipywidgets. See https://ipywidgets.readthedocs.io/en/stable/user_install.html\n",
      "  from tqdm.autonotebook import tqdm\n"
     ]
    }
   ],
   "source": [
    "import torch\n",
    "import torch.nn as nn\n",
    "from torch.utils.data import DataLoader\n",
    "from collections.abc import Sequence\n",
    "\n",
    "from unetr import CustomedUNETR\n",
    "\n",
    "import json\n",
    "from tqdm.autonotebook import tqdm\n",
    "import os\n",
    "os.environ[\"CUDA_DEVICE_ORDER\"] = \"PCI_BUS_ID\"\n",
    "os.environ[\"CUDA_VISIBLE_DEVICES\"] = \"4\" \n",
    "\n",
    "print(torch.cuda.device_count())\n",
    "torch.backends.cudnn.benchmark = True\n",
    "device = torch.device(\"cuda\" if torch.cuda.is_available() else \"cpu\")"
   ]
  },
  {
   "cell_type": "code",
   "execution_count": 2,
   "metadata": {},
   "outputs": [],
   "source": [
    "from monai.transforms import EnsureTyped\n",
    "from monai.transforms import Compose, LoadImaged, ScaleIntensityRanged, ConcatItemsd\n",
    "from monai.metrics import DiceMetric\n",
    "from monai.losses import DiceCELoss, DiceFocalLoss, FocalLoss\n",
    "from monai.inferers import sliding_window_inference\n",
    "\n",
    "\n",
    "from monai.data import (\n",
    "    Dataset,\n",
    "    DataLoader,\n",
    "    CacheDataset,\n",
    "    load_decathlon_datalist,\n",
    "    decollate_batch,\n",
    ")\n",
    "\n",
    "\n",
    "from monai.transforms import (\n",
    "    AsDiscrete,\n",
    "    Compose,\n",
    "    CropForegroundd,\n",
    "    LoadImaged,\n",
    "    Orientationd,\n",
    "    RandFlipd,\n",
    "    RandCropByPosNegLabeld,\n",
    "    RandShiftIntensityd,\n",
    "    ScaleIntensityRanged,\n",
    "    Spacingd,\n",
    "    RandRotate90d,\n",
    "    MapTransform,\n",
    "    ScaleIntensityd,\n",
    "    #AddChanneld,\n",
    "    SpatialPadd,\n",
    "    CenterSpatialCropd,\n",
    "    EnsureChannelFirstd,\n",
    "    ConcatItemsd,\n",
    "    AdjustContrastd, \n",
    "    Rand3DElasticd,\n",
    "    HistogramNormalized,\n",
    "    NormalizeIntensityd,\n",
    "    Invertd,\n",
    "    SaveImage,\n",
    "\n",
    ")"
   ]
  },
  {
   "cell_type": "code",
   "execution_count": 3,
   "metadata": {},
   "outputs": [],
   "source": [
    "data_dir = '/home/nada.saadi/MIS-FM/hecktor2022_cropped'\n",
    "json_dir = '/home/nada.saadi/MIS-FM/hecktor2022_cropped/MDA_ct_train_new.json'"
   ]
  },
  {
   "cell_type": "code",
   "execution_count": 4,
   "metadata": {},
   "outputs": [],
   "source": [
    "def datafold_read(datalist, basedir, fold=0, key=\"training\"):\n",
    "    with open(datalist) as f:\n",
    "        json_data = json.load(f)\n",
    "\n",
    "    json_data = json_data[key]\n",
    "\n",
    "    for d in json_data:\n",
    "        for k in d:\n",
    "            if isinstance(d[k], list):\n",
    "                d[k] = [os.path.join(basedir, iv) for iv in d[k]]\n",
    "            elif isinstance(d[k], str):\n",
    "                d[k] = os.path.join(basedir, d[k]) if len(d[k]) > 0 else d[k]\n",
    "\n",
    "    tr = []\n",
    "    val = []\n",
    "    for d in json_data:\n",
    "        if \"fold\" in d and d[\"fold\"] == fold:\n",
    "            val.append(d)\n",
    "        else:\n",
    "            tr.append(d)\n",
    "\n",
    "    return tr, val"
   ]
  },
  {
   "cell_type": "code",
   "execution_count": 5,
   "metadata": {},
   "outputs": [
    {
     "data": {
      "text/plain": [
       "(152, 44)"
      ]
     },
     "execution_count": 5,
     "metadata": {},
     "output_type": "execute_result"
    }
   ],
   "source": [
    "train_data, valid_data = datafold_read(datalist=json_dir, basedir=data_dir, fold=0)\n",
    "len(train_data), len(valid_data)"
   ]
  },
  {
   "cell_type": "code",
   "execution_count": 6,
   "metadata": {},
   "outputs": [],
   "source": [
    "class ClipCT(MapTransform):\n",
    "    \"\"\"\n",
    "    Convert labels to multi channels based on hecktor classes:\n",
    "    label 1 is the tumor\n",
    "    label 2 is the lymph node\n",
    "\n",
    "    \"\"\"\n",
    "\n",
    "    def __call__(self, data):\n",
    "        d = dict(data)\n",
    "        for key in self.keys:\n",
    "            if key == \"ct\":\n",
    "                d[key] = torch.clip(d[key], min=-200, max=200)\n",
    "            # elif key == \"pt\":\n",
    "            #     d[key] = torch.clip(d[key], d[key].min(), 5)\n",
    "        return d\n",
    "\n",
    "class MulPTFM(MapTransform):\n",
    "    \"\"\"\n",
    "    Mult PT and FM \n",
    "\n",
    "    \"\"\"\n",
    "\n",
    "    def __call__(self, data):\n",
    "        d = dict(data)\n",
    "\n",
    "        fm = d[\"ct\"] > 0\n",
    "        d[\"pt\"] = d[\"pt\"] * fm\n",
    "        return d\n",
    "\n",
    "class SelectClass(MapTransform):\n",
    "    \"\"\"\n",
    "    Select the class for which you want to fine tune the model \n",
    "\n",
    "    \"\"\"\n",
    "    # def __init__(self, keys, cls=1):\n",
    "    #     super(self).__init__(keys)\n",
    "    #     self.cls = cls\n",
    "\n",
    "    def __call__(self, data):\n",
    "        d = dict(data)\n",
    "        d[\"seg\"][d[\"seg\"] == 1] = 0\n",
    "        # d[\"seg\"][d[\"seg\"] == 2] = 1\n",
    "        \n",
    "        return d"
   ]
  },
  {
   "cell_type": "code",
   "execution_count": 7,
   "metadata": {},
   "outputs": [],
   "source": [
    "num_samples = 4\n",
    "\n",
    "train_transforms = Compose(\n",
    "    [\n",
    "        LoadImaged(keys=[\"ct\", \"seg\"], ensure_channel_first = True),\n",
    "        SpatialPadd(keys=[\"ct\",  \"seg\"], spatial_size=(200, 200, 310), method='end'),\n",
    "        Orientationd(keys=[\"ct\",  \"seg\"], axcodes=\"PLS\"),\n",
    "        #NormalizeIntensityd(keys=[\"pt\"]),\n",
    "        ClipCT(keys=[\"ct\"]),\n",
    "        ScaleIntensityd(keys=[\"ct\"], minv=0, maxv=1),\n",
    "        #MulPTFM(keys=[\"ct\",\"pt\"]),\n",
    "        #ConcatItemsd(keys=[\"pt\", \"ct\"], name=\"ctpt\"),\n",
    "        #NormalizeIntensityd(keys=[\"ctpt\"], channel_wise=True),\n",
    "        RandCropByPosNegLabeld(\n",
    "            keys=[\"ct\", \"seg\"],\n",
    "            label_key=\"seg\",\n",
    "            spatial_size=(96, 96, 96),\n",
    "            pos=1,\n",
    "            neg=1,\n",
    "            num_samples=num_samples,\n",
    "            image_key=\"ct\",\n",
    "            image_threshold=0,\n",
    "        ),\n",
    "        RandFlipd(\n",
    "            keys=[\"ct\", \"seg\"],\n",
    "            spatial_axis=[0],\n",
    "            prob=0.20,\n",
    "        ),\n",
    "        RandFlipd(\n",
    "            keys=[\"ct\", \"seg\"],\n",
    "            spatial_axis=[1],\n",
    "            prob=0.20,\n",
    "        ),\n",
    "        RandFlipd(\n",
    "            keys=[\"ct\", \"seg\"],\n",
    "            spatial_axis=[2],\n",
    "            prob=0.20,\n",
    "        ),\n",
    "        RandRotate90d(\n",
    "            keys=[\"ct\", \"seg\"],\n",
    "            prob=0.20,\n",
    "            max_k=3,\n",
    "        ),\n",
    "    ]\n",
    ")\n",
    "val_transforms = Compose(\n",
    "    [\n",
    "        LoadImaged(keys=[\"ct\", \"seg\"], ensure_channel_first = True),\n",
    "        SpatialPadd(keys=[\"ct\", \"seg\"], spatial_size=(200, 200, 310), method='end'),\n",
    "        Orientationd(keys=[\"ct\",  \"seg\"], axcodes=\"PLS\"),\n",
    "        #NormalizeIntensityd(keys=[\"pt\"]),\n",
    "        ClipCT(keys=[\"ct\"]),\n",
    "        ScaleIntensityd(keys=[\"ct\"], minv=0, maxv=1),\n",
    "        #MulPTFM(keys=[\"ct\",\"pt\"]),\n",
    "        #ConcatItemsd(keys=[\"pt\", \"ct\"], name=\"ctpt\"),\n",
    "    ]\n",
    ")\n",
    "\n",
    "def create_dataloader(data, transforms, batch_size=2, shuffle=True):\n",
    "    # Create CacheDataset with the reformatted data\n",
    "    dataset = Dataset(data=data, transform=transforms)\n",
    "\n",
    "    # Create DataLoader\n",
    "    return DataLoader(dataset, batch_size=batch_size, shuffle=shuffle, num_workers=8)\n",
    "\n",
    "\n",
    "\n",
    "train_loader = create_dataloader(train_data, train_transforms, shuffle=True)\n",
    "val_loader = create_dataloader(valid_data, val_transforms, shuffle=False)"
   ]
  },
  {
   "cell_type": "code",
   "execution_count": 8,
   "metadata": {},
   "outputs": [
    {
     "name": "stderr",
     "output_type": "stream",
     "text": [
      "/home/nada.saadi/miniconda3/envs/clam/lib/python3.8/site-packages/monai/utils/deprecate_utils.py:221: FutureWarning: unetr CustomedUNETR.__init__:pos_embed: Argument `pos_embed` has been deprecated since version 1.2. It will be removed in version 1.4. please use `proj_type` instead.\n",
      "  warn_deprecated(argname, msg, warning_category)\n"
     ]
    },
    {
     "name": "stdout",
     "output_type": "stream",
     "text": [
      "Nada's version of UNETR\n",
      "(96, 96, 96)\n",
      "(16, 16, 16)\n",
      "(6, 6, 6)\n",
      "768\n",
      "ana daba kandir ghir pet dial mda fjdid\n",
      "base_vit_dim 768\n"
     ]
    }
   ],
   "source": [
    "model = CustomedUNETR(\n",
    "    in_channels=1,\n",
    "    out_channels=3,\n",
    "    img_size=(96, 96, 96),\n",
    "    feature_size=48,\n",
    "    hidden_size=768,\n",
    "    num_heads=12,\n",
    "    mlp_dim=3072,\n",
    "    pos_embed=\"perceptron\",\n",
    "    norm_name=\"instance\",\n",
    "    res_block=True,\n",
    "    dropout_rate=0.0,\n",
    "    proj_type=\"conv\",\n",
    "    r=4,\n",
    "    lora_layer=None,\n",
    ").to(device)\n",
    "# Load the state_dict from a pretrained model with strict=False\n",
    "decoder_weights_path =  '/home/nada.saadi/CTPET/hecktor2022_cropped/Module1-4centers-CT-only-tokens/-module1-4centers-ctonly-tokens.pth'\n",
    "pretrained_model_state_dict = torch.load('/home/nada.saadi/CTPET/hecktor2022_cropped/Module1-4centers-CT-only-tokens/-module1-4centers-ctonly-tokens.pth')\n",
    "\n",
    "# Create a copy of the state_dict\n",
    "pretrained_model_state_dict_copy = pretrained_model_state_dict.copy()\n",
    "\n",
    "# Modify the state_dict\n",
    "for k, v in pretrained_model_state_dict.items():\n",
    "    if \"vit.\" in k:\n",
    "        pretrained_model_state_dict_copy[k.replace(\"vit.\", \"vit.lora_vit\")] = v\n",
    "        del pretrained_model_state_dict_copy[k]\n",
    "\n",
    "# Load the modified state_dict into the model\n",
    "model.load_state_dict(pretrained_model_state_dict_copy, strict=False)\n",
    "\n",
    "# Freeze decoder layers 2, 3, 4, and 5\n",
    "for name, param in model.named_parameters():\n",
    "    if \"decoder2\" in name or \"decoder3\" in name or \"decoder4\" in name or \"decoder5\" in name:\n",
    "        param.requires_grad = False"
   ]
  },
  {
   "cell_type": "code",
   "execution_count": 16,
   "metadata": {},
   "outputs": [],
   "source": [
    "def poly_lr(epoch, max_epochs, initial_lr, exponent=0.9):\n",
    "    return initial_lr * (1 - epoch / max_epochs)**exponent\n",
    "\n",
    "model_dir='/home/nada.saadi/CTPET/hecktor2022_cropped/mda-cttokens-decoderfrozen'\n",
    "\n",
    "max_iterations = 18000\n",
    "eval_num = 100\n",
    "\n",
    "## running stats\n",
    "global_step = 0\n",
    "dice_val_best = 0.0\n",
    "global_step_best = 0\n",
    "epoch_loss_values = []\n",
    "metric_values = []\n",
    "metric_values_tumor = []\n",
    "metric_values_lymph = []\n",
    "\n",
    "\n",
    "loss_function = DiceCELoss(to_onehot_y=True, softmax=True)\n",
    "optimizer = torch.optim.AdamW(model.parameters(), lr=1e-4, weight_decay=1e-5)\n",
    "\n",
    "\n",
    "post_label = AsDiscrete(to_onehot=3)\n",
    "post_pred = AsDiscrete(argmax=True, to_onehot=3)\n",
    "\n",
    "dice_metric = DiceMetric(include_background=False, reduction=\"mean\", get_not_nans=False)\n",
    "dice_metric_batch = DiceMetric(include_background=False, reduction=\"mean_batch\")\n",
    "\n",
    "\n",
    "##-----------------------------------------------------------------------------\n",
    "\n",
    "def validation(epoch_iterator_val):\n",
    "        model.eval()\n",
    "        with torch.no_grad():\n",
    "            for step, batch in enumerate(epoch_iterator_val):\n",
    "                val_inputs, val_labels = (batch[\"ct\"].cuda(), batch[\"seg\"].cuda())\n",
    "                val_outputs = sliding_window_inference(val_inputs, (96, 96, 96), 4, model)\n",
    "                val_labels_list = decollate_batch(val_labels)\n",
    "                val_labels_convert = [\n",
    "                    post_label(val_label_tensor) for val_label_tensor in val_labels_list\n",
    "                ]\n",
    "                val_outputs_list = decollate_batch(val_outputs)\n",
    "                val_output_convert = [\n",
    "                    post_pred(val_pred_tensor) for val_pred_tensor in val_outputs_list\n",
    "                ]\n",
    "                dice_metric(y_pred=val_output_convert, y=val_labels_convert)\n",
    "                dice_metric_batch(y_pred=val_output_convert, y=val_labels_convert)\n",
    "                epoch_iterator_val.set_description(\n",
    "                    \"Validate (%d / %d Steps)\" % (global_step, 10.0)\n",
    "                )\n",
    "            mean_dice_val = dice_metric.aggregate().item()\n",
    "            metric_batch_val = dice_metric_batch.aggregate()\n",
    "\n",
    "            metric_tumor = metric_batch_val[0].item()\n",
    "            metric_lymph = metric_batch_val[1].item()\n",
    "\n",
    "            dice_metric.reset()\n",
    "            dice_metric_batch.reset()\n",
    "        return mean_dice_val, metric_tumor, metric_lymph\n",
    "\n",
    "\n",
    "\n",
    "def train(global_step, train_loader, dice_val_best, global_step_best):\n",
    "        model.train()\n",
    "        epoch_loss = 0\n",
    "        step = 0\n",
    "        epoch_iterator = tqdm(\n",
    "            train_loader, desc=\"Training (X / X Steps) (loss=X.X)\", dynamic_ncols=True\n",
    "        )\n",
    "        \n",
    "        for step, batch in enumerate(epoch_iterator):\n",
    "            step += 1\n",
    "            x, y = (batch[\"ct\"].cuda(), batch[\"seg\"].cuda())\n",
    "            logit_map = model(x)\n",
    "            loss = loss_function(logit_map, y)\n",
    "            loss.backward()\n",
    "            epoch_loss += loss.item() \n",
    "            optimizer.step()\n",
    "            optimizer.zero_grad()\n",
    "            epoch_iterator.set_description(\n",
    "                \"Training (%d / %d Steps) (loss=%2.5f)\"\n",
    "                % (global_step, max_iterations, loss)\n",
    "            )\n",
    "            \n",
    "            if (\n",
    "                global_step % eval_num == 0 and global_step != 0\n",
    "            ) or global_step == max_iterations:\n",
    "                epoch_iterator_val = tqdm(\n",
    "                    val_loader, desc=\"Validate (X / X Steps) (dice=X.X)\", dynamic_ncols=True\n",
    "                )\n",
    "                dice_val, metric_tumor, metric_lymph = validation(epoch_iterator_val)\n",
    "                epoch_loss /= step\n",
    "                epoch_loss_values.append(epoch_loss)\n",
    "                metric_values.append(dice_val)\n",
    "                metric_values_tumor.append(metric_tumor)\n",
    "                metric_values_lymph.append(metric_lymph)\n",
    "                if dice_val > dice_val_best:\n",
    "                    dice_val_best = dice_val\n",
    "                    global_step_best = global_step\n",
    "                    torch.save(\n",
    "                        model.state_dict(), os.path.join(model_dir, \"m2-cttokens-decoderfrozen.pth\")\n",
    "                    )\n",
    "                    print(\n",
    "                        \"Model Was Saved ! Current Best Avg. Dice: {} Current Avg. Dice: {} Current Avg. tumor Dice: {} Current Avg. lymph Dice: {}\".format(\n",
    "                            dice_val_best, dice_val, metric_tumor, metric_lymph\n",
    "                        )\n",
    "                    )\n",
    "                else:\n",
    "                    print(\n",
    "                        \"Model Was Not Saved ! Current Best Avg. Dice: {} Current Avg. Dice: {} Current Avg. tumor Dice: {} Current Avg. lymph Dice: {}\".format(\n",
    "                            dice_val_best, dice_val,  metric_tumor, metric_lymph\n",
    "                        )\n",
    "                    )\n",
    "            global_step += 1\n",
    "        return global_step, dice_val_best, global_step_best"
   ]
  },
  {
   "cell_type": "code",
   "execution_count": 17,
   "metadata": {},
   "outputs": [
    {
     "name": "stderr",
     "output_type": "stream",
     "text": [
      "Training (75 / 18000 Steps) (loss=0.70803): 100%|██████████| 76/76 [01:21<00:00,  1.07s/it]\n",
      "Validate (76 / 10 Steps): 100%|██████████| 22/22 [01:14<00:00,  3.37s/it]8<00:54,  1.04s/it]\n",
      "Training (100 / 18000 Steps) (loss=0.64620):  33%|███▎      | 25/76 [01:43<20:04, 23.62s/it]"
     ]
    },
    {
     "name": "stdout",
     "output_type": "stream",
     "text": [
      "Model Was Saved ! Current Best Avg. Dice: 0.28779345750808716 Current Avg. Dice: 0.28779345750808716 Current Avg. tumor Dice: 0.24300532042980194 Current Avg. lymph Dice: 0.35490262508392334\n"
     ]
    },
    {
     "name": "stderr",
     "output_type": "stream",
     "text": [
      "Training (151 / 18000 Steps) (loss=0.65785): 100%|██████████| 76/76 [02:37<00:00,  2.08s/it]\n",
      "Validate (152 / 10 Steps): 100%|██████████| 22/22 [01:14<00:00,  3.39s/it]<00:29,  1.05s/it]\n",
      "Training (200 / 18000 Steps) (loss=0.66781):  64%|██████▍   | 49/76 [02:08<10:33, 23.48s/it]"
     ]
    },
    {
     "name": "stdout",
     "output_type": "stream",
     "text": [
      "Model Was Not Saved ! Current Best Avg. Dice: 0.28779345750808716 Current Avg. Dice: 0.27711156010627747 Current Avg. tumor Dice: 0.23320648074150085 Current Avg. lymph Dice: 0.3423159420490265\n"
     ]
    },
    {
     "name": "stderr",
     "output_type": "stream",
     "text": [
      "Training (227 / 18000 Steps) (loss=0.64777): 100%|██████████| 76/76 [02:36<00:00,  2.06s/it]\n",
      "Validate (228 / 10 Steps): 100%|██████████| 22/22 [01:14<00:00,  3.39s/it]<00:04,  1.03s/it]\n",
      "Training (300 / 18000 Steps) (loss=0.52470):  96%|█████████▌| 73/76 [02:33<01:10, 23.47s/it]"
     ]
    },
    {
     "name": "stdout",
     "output_type": "stream",
     "text": [
      "Model Was Not Saved ! Current Best Avg. Dice: 0.28779345750808716 Current Avg. Dice: 0.24167117476463318 Current Avg. tumor Dice: 0.19524919986724854 Current Avg. lymph Dice: 0.3040570020675659\n"
     ]
    },
    {
     "name": "stderr",
     "output_type": "stream",
     "text": [
      "Training (303 / 18000 Steps) (loss=0.50281): 100%|██████████| 76/76 [02:36<00:00,  2.07s/it]\n",
      "Training (379 / 18000 Steps) (loss=0.58200): 100%|██████████| 76/76 [01:22<00:00,  1.09s/it]\n",
      "Validate (380 / 10 Steps): 100%|██████████| 22/22 [01:14<00:00,  3.39s/it]<00:59,  1.06s/it]\n",
      "Training (400 / 18000 Steps) (loss=0.58990):  28%|██▊       | 21/76 [01:39<21:31, 23.48s/it]"
     ]
    },
    {
     "name": "stdout",
     "output_type": "stream",
     "text": [
      "Model Was Not Saved ! Current Best Avg. Dice: 0.28779345750808716 Current Avg. Dice: 0.23954223096370697 Current Avg. tumor Dice: 0.1908288300037384 Current Avg. lymph Dice: 0.30306994915008545\n"
     ]
    },
    {
     "name": "stderr",
     "output_type": "stream",
     "text": [
      "Training (455 / 18000 Steps) (loss=0.60679): 100%|██████████| 76/76 [02:38<00:00,  2.08s/it]\n",
      "Validate (456 / 10 Steps): 100%|██████████| 22/22 [01:14<00:00,  3.39s/it]<00:33,  1.05s/it]\n",
      "Training (500 / 18000 Steps) (loss=0.59755):  59%|█████▉    | 45/76 [02:04<12:07, 23.48s/it]"
     ]
    },
    {
     "name": "stdout",
     "output_type": "stream",
     "text": [
      "Model Was Not Saved ! Current Best Avg. Dice: 0.28779345750808716 Current Avg. Dice: 0.24785761535167694 Current Avg. tumor Dice: 0.20577457547187805 Current Avg. lymph Dice: 0.30407893657684326\n"
     ]
    },
    {
     "name": "stderr",
     "output_type": "stream",
     "text": [
      "Training (531 / 18000 Steps) (loss=0.53781): 100%|██████████| 76/76 [02:37<00:00,  2.07s/it]\n",
      "Validate (532 / 10 Steps): 100%|██████████| 22/22 [01:14<00:00,  3.40s/it]<00:08,  1.05s/it]\n",
      "Training (600 / 18000 Steps) (loss=0.54423):  91%|█████████ | 69/76 [02:29<02:44, 23.48s/it]"
     ]
    },
    {
     "name": "stdout",
     "output_type": "stream",
     "text": [
      "Model Was Not Saved ! Current Best Avg. Dice: 0.28779345750808716 Current Avg. Dice: 0.21501237154006958 Current Avg. tumor Dice: 0.1771627515554428 Current Avg. lymph Dice: 0.26086053252220154\n"
     ]
    },
    {
     "name": "stderr",
     "output_type": "stream",
     "text": [
      "Training (607 / 18000 Steps) (loss=0.57188): 100%|██████████| 76/76 [02:37<00:00,  2.07s/it]\n",
      "Training (683 / 18000 Steps) (loss=0.50319): 100%|██████████| 76/76 [01:22<00:00,  1.09s/it]\n",
      "Validate (684 / 10 Steps): 100%|██████████| 22/22 [01:14<00:00,  3.39s/it]<01:02,  1.04s/it]\n",
      "Training (700 / 18000 Steps) (loss=0.59940):  22%|██▏       | 17/76 [01:34<23:05, 23.48s/it]"
     ]
    },
    {
     "name": "stdout",
     "output_type": "stream",
     "text": [
      "Model Was Not Saved ! Current Best Avg. Dice: 0.28779345750808716 Current Avg. Dice: 0.19477476179599762 Current Avg. tumor Dice: 0.1692710667848587 Current Avg. lymph Dice: 0.2254864126443863\n"
     ]
    },
    {
     "name": "stderr",
     "output_type": "stream",
     "text": [
      "Training (759 / 18000 Steps) (loss=0.58790): 100%|██████████| 76/76 [02:36<00:00,  2.07s/it]\n",
      "Validate (760 / 10 Steps): 100%|██████████| 22/22 [01:14<00:00,  3.38s/it]<00:37,  1.03s/it]\n",
      "Training (800 / 18000 Steps) (loss=0.56963):  54%|█████▍    | 41/76 [02:00<13:36, 23.34s/it]"
     ]
    },
    {
     "name": "stdout",
     "output_type": "stream",
     "text": [
      "Model Was Not Saved ! Current Best Avg. Dice: 0.28779345750808716 Current Avg. Dice: 0.2785443067550659 Current Avg. tumor Dice: 0.2529010772705078 Current Avg. lymph Dice: 0.3207080662250519\n"
     ]
    },
    {
     "name": "stderr",
     "output_type": "stream",
     "text": [
      "Training (835 / 18000 Steps) (loss=0.44432): 100%|██████████| 76/76 [02:36<00:00,  2.06s/it]\n",
      "Validate (836 / 10 Steps): 100%|██████████| 22/22 [01:14<00:00,  3.39s/it]<00:12,  1.04s/it]\n",
      "Training (900 / 18000 Steps) (loss=0.59203):  86%|████████▌ | 65/76 [02:25<04:18, 23.48s/it]"
     ]
    },
    {
     "name": "stdout",
     "output_type": "stream",
     "text": [
      "Model Was Not Saved ! Current Best Avg. Dice: 0.28779345750808716 Current Avg. Dice: 0.2064645141363144 Current Avg. tumor Dice: 0.17816495895385742 Current Avg. lymph Dice: 0.24054129421710968\n"
     ]
    },
    {
     "name": "stderr",
     "output_type": "stream",
     "text": [
      "Training (911 / 18000 Steps) (loss=0.63354): 100%|██████████| 76/76 [02:37<00:00,  2.07s/it]\n",
      "Training (987 / 18000 Steps) (loss=0.57084): 100%|██████████| 76/76 [01:22<00:00,  1.08s/it]\n",
      "Validate (988 / 10 Steps): 100%|██████████| 22/22 [01:14<00:00,  3.40s/it]6<01:07,  1.05s/it]\n",
      "Training (1000 / 18000 Steps) (loss=0.59973):  17%|█▋        | 13/76 [01:31<24:56, 23.75s/it]"
     ]
    },
    {
     "name": "stdout",
     "output_type": "stream",
     "text": [
      "Model Was Not Saved ! Current Best Avg. Dice: 0.28779345750808716 Current Avg. Dice: 0.1781003624200821 Current Avg. tumor Dice: 0.1544688493013382 Current Avg. lymph Dice: 0.20335523784160614\n"
     ]
    },
    {
     "name": "stderr",
     "output_type": "stream",
     "text": [
      "Training (1063 / 18000 Steps) (loss=0.55158): 100%|██████████| 76/76 [02:37<00:00,  2.07s/it]\n",
      "Validate (1064 / 10 Steps): 100%|██████████| 22/22 [01:14<00:00,  3.39s/it]<00:42,  1.05s/it]\n",
      "Training (1100 / 18000 Steps) (loss=0.61240):  49%|████▊     | 37/76 [01:56<15:13, 23.41s/it]"
     ]
    },
    {
     "name": "stdout",
     "output_type": "stream",
     "text": [
      "Model Was Not Saved ! Current Best Avg. Dice: 0.28779345750808716 Current Avg. Dice: 0.21108169853687286 Current Avg. tumor Dice: 0.1903337985277176 Current Avg. lymph Dice: 0.23730164766311646\n"
     ]
    },
    {
     "name": "stderr",
     "output_type": "stream",
     "text": [
      "Training (1139 / 18000 Steps) (loss=0.70390): 100%|██████████| 76/76 [02:37<00:00,  2.07s/it]\n",
      "Validate (1140 / 10 Steps): 100%|██████████| 22/22 [01:14<00:00,  3.37s/it]<00:16,  1.04s/it]\n",
      "Training (1200 / 18000 Steps) (loss=0.49789):  80%|████████  | 61/76 [02:20<05:49, 23.33s/it]"
     ]
    },
    {
     "name": "stdout",
     "output_type": "stream",
     "text": [
      "Model Was Not Saved ! Current Best Avg. Dice: 0.28779345750808716 Current Avg. Dice: 0.18679875135421753 Current Avg. tumor Dice: 0.14599557220935822 Current Avg. lymph Dice: 0.2358417809009552\n"
     ]
    },
    {
     "name": "stderr",
     "output_type": "stream",
     "text": [
      "Training (1215 / 18000 Steps) (loss=0.66420): 100%|██████████| 76/76 [02:36<00:00,  2.06s/it]\n",
      "Training (1291 / 18000 Steps) (loss=0.59094): 100%|██████████| 76/76 [01:22<00:00,  1.09s/it]\n",
      "Validate (1292 / 10 Steps): 100%|██████████| 22/22 [01:14<00:00,  3.40s/it]01:15,  1.11s/it]\n",
      "Training (1300 / 18000 Steps) (loss=0.56130):  12%|█▏        | 9/76 [01:27<27:26, 24.57s/it]"
     ]
    },
    {
     "name": "stdout",
     "output_type": "stream",
     "text": [
      "Model Was Not Saved ! Current Best Avg. Dice: 0.28779345750808716 Current Avg. Dice: 0.20531941950321198 Current Avg. tumor Dice: 0.17813017964363098 Current Avg. lymph Dice: 0.24062268435955048\n"
     ]
    },
    {
     "name": "stderr",
     "output_type": "stream",
     "text": [
      "Training (1367 / 18000 Steps) (loss=0.58470): 100%|██████████| 76/76 [02:37<00:00,  2.07s/it]\n",
      "Validate (1368 / 10 Steps): 100%|██████████| 22/22 [01:14<00:00,  3.40s/it]<00:45,  1.03s/it]\n",
      "Training (1400 / 18000 Steps) (loss=0.51433):  43%|████▎     | 33/76 [01:52<16:50, 23.49s/it]"
     ]
    },
    {
     "name": "stdout",
     "output_type": "stream",
     "text": [
      "Model Was Not Saved ! Current Best Avg. Dice: 0.28779345750808716 Current Avg. Dice: 0.2300899624824524 Current Avg. tumor Dice: 0.20225369930267334 Current Avg. lymph Dice: 0.2705526351928711\n"
     ]
    },
    {
     "name": "stderr",
     "output_type": "stream",
     "text": [
      "Training (1443 / 18000 Steps) (loss=0.45456): 100%|██████████| 76/76 [02:37<00:00,  2.07s/it]\n",
      "Validate (1444 / 10 Steps): 100%|██████████| 22/22 [01:14<00:00,  3.39s/it]<00:20,  1.04s/it]\n",
      "Training (1500 / 18000 Steps) (loss=0.49742):  75%|███████▌  | 57/76 [02:16<07:25, 23.46s/it]"
     ]
    },
    {
     "name": "stdout",
     "output_type": "stream",
     "text": [
      "Model Was Not Saved ! Current Best Avg. Dice: 0.28779345750808716 Current Avg. Dice: 0.16640563309192657 Current Avg. tumor Dice: 0.1375095546245575 Current Avg. lymph Dice: 0.19852548837661743\n"
     ]
    },
    {
     "name": "stderr",
     "output_type": "stream",
     "text": [
      "Training (1519 / 18000 Steps) (loss=0.63867): 100%|██████████| 76/76 [02:36<00:00,  2.06s/it]\n",
      "Training (1595 / 18000 Steps) (loss=0.33397): 100%|██████████| 76/76 [01:22<00:00,  1.09s/it]\n",
      "Validate (1596 / 10 Steps): 100%|██████████| 22/22 [01:15<00:00,  3.42s/it]01:40,  1.40s/it]\n",
      "Training (1600 / 18000 Steps) (loss=0.59411):   7%|▋         | 5/76 [01:23<33:35, 28.39s/it]"
     ]
    },
    {
     "name": "stdout",
     "output_type": "stream",
     "text": [
      "Model Was Not Saved ! Current Best Avg. Dice: 0.28779345750808716 Current Avg. Dice: 0.18589192628860474 Current Avg. tumor Dice: 0.1307487040758133 Current Avg. lymph Dice: 0.2504349946975708\n"
     ]
    },
    {
     "name": "stderr",
     "output_type": "stream",
     "text": [
      "Training (1671 / 18000 Steps) (loss=0.58299): 100%|██████████| 76/76 [02:37<00:00,  2.08s/it]\n",
      "Validate (1672 / 10 Steps): 100%|██████████| 22/22 [01:14<00:00,  3.39s/it]<00:52,  1.09s/it]\n",
      "Training (1700 / 18000 Steps) (loss=0.53442):  38%|███▊      | 29/76 [01:47<18:21, 23.43s/it]"
     ]
    },
    {
     "name": "stdout",
     "output_type": "stream",
     "text": [
      "Model Was Not Saved ! Current Best Avg. Dice: 0.28779345750808716 Current Avg. Dice: 0.1611499786376953 Current Avg. tumor Dice: 0.12895503640174866 Current Avg. lymph Dice: 0.2007519155740738\n"
     ]
    },
    {
     "name": "stderr",
     "output_type": "stream",
     "text": [
      "Training (1747 / 18000 Steps) (loss=0.54857): 100%|██████████| 76/76 [02:37<00:00,  2.07s/it]\n",
      "Validate (1748 / 10 Steps): 100%|██████████| 22/22 [01:14<00:00,  3.38s/it]<00:25,  1.05s/it]\n",
      "Training (1800 / 18000 Steps) (loss=0.64210):  70%|██████▉   | 53/76 [02:12<08:57, 23.37s/it]"
     ]
    },
    {
     "name": "stdout",
     "output_type": "stream",
     "text": [
      "Model Was Not Saved ! Current Best Avg. Dice: 0.28779345750808716 Current Avg. Dice: 0.18032242357730865 Current Avg. tumor Dice: 0.17492905259132385 Current Avg. lymph Dice: 0.18940117955207825\n"
     ]
    },
    {
     "name": "stderr",
     "output_type": "stream",
     "text": [
      "Training (1823 / 18000 Steps) (loss=0.60568): 100%|██████████| 76/76 [02:36<00:00,  2.06s/it]\n",
      "Training (1899 / 18000 Steps) (loss=0.52792): 100%|██████████| 76/76 [01:22<00:00,  1.09s/it]\n",
      "Validate (1900 / 10 Steps): 100%|██████████| 22/22 [01:14<00:00,  3.40s/it]?, ?it/s]\n",
      "Training (1900 / 18000 Steps) (loss=0.59539):   1%|▏         | 1/76 [01:18<1:38:26, 78.76s/it]"
     ]
    },
    {
     "name": "stdout",
     "output_type": "stream",
     "text": [
      "Model Was Not Saved ! Current Best Avg. Dice: 0.28779345750808716 Current Avg. Dice: 0.173317089676857 Current Avg. tumor Dice: 0.1321841925382614 Current Avg. lymph Dice: 0.21745412051677704\n"
     ]
    },
    {
     "name": "stderr",
     "output_type": "stream",
     "text": [
      "Training (1975 / 18000 Steps) (loss=0.47701): 100%|██████████| 76/76 [02:37<00:00,  2.07s/it] \n",
      "Validate (1976 / 10 Steps): 100%|██████████| 22/22 [01:14<00:00,  3.37s/it]<00:53,  1.03s/it]\n",
      "Training (2000 / 18000 Steps) (loss=0.60727):  33%|███▎      | 25/76 [01:43<19:53, 23.39s/it]"
     ]
    },
    {
     "name": "stdout",
     "output_type": "stream",
     "text": [
      "Model Was Not Saved ! Current Best Avg. Dice: 0.28779345750808716 Current Avg. Dice: 0.16749051213264465 Current Avg. tumor Dice: 0.13592949509620667 Current Avg. lymph Dice: 0.2007230669260025\n"
     ]
    },
    {
     "name": "stderr",
     "output_type": "stream",
     "text": [
      "Training (2051 / 18000 Steps) (loss=0.55976): 100%|██████████| 76/76 [02:36<00:00,  2.06s/it]\n",
      "Validate (2052 / 10 Steps): 100%|██████████| 22/22 [01:14<00:00,  3.39s/it]<00:28,  1.03s/it]\n",
      "Training (2100 / 18000 Steps) (loss=0.56731):  64%|██████▍   | 49/76 [02:08<10:32, 23.41s/it]"
     ]
    },
    {
     "name": "stdout",
     "output_type": "stream",
     "text": [
      "Model Was Not Saved ! Current Best Avg. Dice: 0.28779345750808716 Current Avg. Dice: 0.19134725630283356 Current Avg. tumor Dice: 0.1556101143360138 Current Avg. lymph Dice: 0.23462475836277008\n"
     ]
    },
    {
     "name": "stderr",
     "output_type": "stream",
     "text": [
      "Training (2127 / 18000 Steps) (loss=0.53632): 100%|██████████| 76/76 [02:37<00:00,  2.07s/it]\n",
      "Validate (2128 / 10 Steps): 100%|██████████| 22/22 [01:14<00:00,  3.37s/it]<00:04,  1.04s/it]\n",
      "Training (2200 / 18000 Steps) (loss=0.58599):  96%|█████████▌| 73/76 [02:33<01:10, 23.33s/it]"
     ]
    },
    {
     "name": "stdout",
     "output_type": "stream",
     "text": [
      "Model Was Not Saved ! Current Best Avg. Dice: 0.28779345750808716 Current Avg. Dice: 0.15413470566272736 Current Avg. tumor Dice: 0.11690644919872284 Current Avg. lymph Dice: 0.19322092831134796\n"
     ]
    },
    {
     "name": "stderr",
     "output_type": "stream",
     "text": [
      "Training (2203 / 18000 Steps) (loss=0.49969): 100%|██████████| 76/76 [02:36<00:00,  2.06s/it]\n",
      "Training (2279 / 18000 Steps) (loss=0.56873): 100%|██████████| 76/76 [01:22<00:00,  1.08s/it]\n",
      "Validate (2280 / 10 Steps): 100%|██████████| 22/22 [01:14<00:00,  3.38s/it]<00:59,  1.06s/it]\n",
      "Training (2300 / 18000 Steps) (loss=0.56599):  28%|██▊       | 21/76 [01:39<21:25, 23.38s/it]"
     ]
    },
    {
     "name": "stdout",
     "output_type": "stream",
     "text": [
      "Model Was Not Saved ! Current Best Avg. Dice: 0.28779345750808716 Current Avg. Dice: 0.14991909265518188 Current Avg. tumor Dice: 0.11530622839927673 Current Avg. lymph Dice: 0.18608886003494263\n"
     ]
    },
    {
     "name": "stderr",
     "output_type": "stream",
     "text": [
      "Training (2355 / 18000 Steps) (loss=0.44324): 100%|██████████| 76/76 [02:37<00:00,  2.07s/it]\n",
      "Validate (2356 / 10 Steps): 100%|██████████| 22/22 [01:14<00:00,  3.38s/it]<00:33,  1.05s/it]\n",
      "Training (2400 / 18000 Steps) (loss=0.57858):  59%|█████▉    | 45/76 [02:04<12:04, 23.36s/it]"
     ]
    },
    {
     "name": "stdout",
     "output_type": "stream",
     "text": [
      "Model Was Not Saved ! Current Best Avg. Dice: 0.28779345750808716 Current Avg. Dice: 0.15723972022533417 Current Avg. tumor Dice: 0.1378287374973297 Current Avg. lymph Dice: 0.17555607855319977\n"
     ]
    },
    {
     "name": "stderr",
     "output_type": "stream",
     "text": [
      "Training (2431 / 18000 Steps) (loss=0.50245): 100%|██████████| 76/76 [02:36<00:00,  2.06s/it]\n",
      "Validate (2432 / 10 Steps): 100%|██████████| 22/22 [01:14<00:00,  3.38s/it]<00:08,  1.03s/it]\n",
      "Training (2500 / 18000 Steps) (loss=0.54144):  91%|█████████ | 69/76 [02:29<02:43, 23.41s/it]"
     ]
    },
    {
     "name": "stdout",
     "output_type": "stream",
     "text": [
      "Model Was Not Saved ! Current Best Avg. Dice: 0.28779345750808716 Current Avg. Dice: 0.18494315445423126 Current Avg. tumor Dice: 0.16694892942905426 Current Avg. lymph Dice: 0.2097856104373932\n"
     ]
    },
    {
     "name": "stderr",
     "output_type": "stream",
     "text": [
      "Training (2507 / 18000 Steps) (loss=0.41566): 100%|██████████| 76/76 [02:36<00:00,  2.06s/it]\n",
      "Training (2583 / 18000 Steps) (loss=0.59522): 100%|██████████| 76/76 [01:22<00:00,  1.09s/it]\n",
      "Validate (2584 / 10 Steps): 100%|██████████| 22/22 [01:14<00:00,  3.39s/it]<01:01,  1.03s/it]\n",
      "Training (2600 / 18000 Steps) (loss=0.60854):  22%|██▏       | 17/76 [01:35<23:06, 23.50s/it]"
     ]
    },
    {
     "name": "stdout",
     "output_type": "stream",
     "text": [
      "Model Was Not Saved ! Current Best Avg. Dice: 0.28779345750808716 Current Avg. Dice: 0.16535478830337524 Current Avg. tumor Dice: 0.13583044707775116 Current Avg. lymph Dice: 0.1999277025461197\n"
     ]
    },
    {
     "name": "stderr",
     "output_type": "stream",
     "text": [
      "Training (2659 / 18000 Steps) (loss=0.53025): 100%|██████████| 76/76 [02:37<00:00,  2.07s/it]\n",
      "Validate (2660 / 10 Steps): 100%|██████████| 22/22 [01:14<00:00,  3.39s/it]<00:36,  1.02s/it]\n",
      "Training (2700 / 18000 Steps) (loss=0.58267):  54%|█████▍    | 41/76 [02:00<13:40, 23.46s/it]"
     ]
    },
    {
     "name": "stdout",
     "output_type": "stream",
     "text": [
      "Model Was Not Saved ! Current Best Avg. Dice: 0.28779345750808716 Current Avg. Dice: 0.13607411086559296 Current Avg. tumor Dice: 0.10431358963251114 Current Avg. lymph Dice: 0.1675686240196228\n"
     ]
    },
    {
     "name": "stderr",
     "output_type": "stream",
     "text": [
      "Training (2735 / 18000 Steps) (loss=0.68638): 100%|██████████| 76/76 [02:37<00:00,  2.07s/it]\n",
      "Validate (2736 / 10 Steps): 100%|██████████| 22/22 [01:14<00:00,  3.39s/it]<00:12,  1.03s/it]\n",
      "Training (2800 / 18000 Steps) (loss=0.49801):  86%|████████▌ | 65/76 [02:25<04:18, 23.46s/it]"
     ]
    },
    {
     "name": "stdout",
     "output_type": "stream",
     "text": [
      "Model Was Not Saved ! Current Best Avg. Dice: 0.28779345750808716 Current Avg. Dice: 0.2206781506538391 Current Avg. tumor Dice: 0.18629483878612518 Current Avg. lymph Dice: 0.26737180352211\n"
     ]
    },
    {
     "name": "stderr",
     "output_type": "stream",
     "text": [
      "Training (2811 / 18000 Steps) (loss=0.56470): 100%|██████████| 76/76 [02:37<00:00,  2.07s/it]\n",
      "Training (2887 / 18000 Steps) (loss=0.53140): 100%|██████████| 76/76 [01:23<00:00,  1.10s/it]\n",
      "Validate (2888 / 10 Steps): 100%|██████████| 22/22 [01:14<00:00,  3.37s/it]<01:08,  1.07s/it]\n",
      "Training (2900 / 18000 Steps) (loss=0.57676):  17%|█▋        | 13/76 [01:31<24:44, 23.57s/it]"
     ]
    },
    {
     "name": "stdout",
     "output_type": "stream",
     "text": [
      "Model Was Not Saved ! Current Best Avg. Dice: 0.28779345750808716 Current Avg. Dice: 0.15958303213119507 Current Avg. tumor Dice: 0.13296325504779816 Current Avg. lymph Dice: 0.1901029795408249\n"
     ]
    },
    {
     "name": "stderr",
     "output_type": "stream",
     "text": [
      "Training (2963 / 18000 Steps) (loss=0.59929): 100%|██████████| 76/76 [02:37<00:00,  2.07s/it]\n",
      "Validate (2964 / 10 Steps): 100%|██████████| 22/22 [01:14<00:00,  3.39s/it]<00:42,  1.06s/it]\n",
      "Training (3000 / 18000 Steps) (loss=0.37102):  49%|████▊     | 37/76 [01:56<15:14, 23.44s/it]"
     ]
    },
    {
     "name": "stdout",
     "output_type": "stream",
     "text": [
      "Model Was Not Saved ! Current Best Avg. Dice: 0.28779345750808716 Current Avg. Dice: 0.1822533756494522 Current Avg. tumor Dice: 0.15923789143562317 Current Avg. lymph Dice: 0.20916222035884857\n"
     ]
    },
    {
     "name": "stderr",
     "output_type": "stream",
     "text": [
      "Training (3039 / 18000 Steps) (loss=0.59302): 100%|██████████| 76/76 [02:37<00:00,  2.08s/it]\n",
      "Validate (3040 / 10 Steps): 100%|██████████| 22/22 [01:14<00:00,  3.38s/it]<00:16,  1.05s/it]\n",
      "Training (3100 / 18000 Steps) (loss=0.64976):  80%|████████  | 61/76 [02:21<05:50, 23.37s/it]"
     ]
    },
    {
     "name": "stdout",
     "output_type": "stream",
     "text": [
      "Model Was Not Saved ! Current Best Avg. Dice: 0.28779345750808716 Current Avg. Dice: 0.1244281530380249 Current Avg. tumor Dice: 0.09924730658531189 Current Avg. lymph Dice: 0.15185390412807465\n"
     ]
    },
    {
     "name": "stderr",
     "output_type": "stream",
     "text": [
      "Training (3115 / 18000 Steps) (loss=0.56793): 100%|██████████| 76/76 [02:37<00:00,  2.07s/it]\n",
      "Training (3191 / 18000 Steps) (loss=0.43690): 100%|██████████| 76/76 [01:22<00:00,  1.09s/it]\n",
      "Validate (3192 / 10 Steps): 100%|██████████| 22/22 [01:14<00:00,  3.38s/it]01:16,  1.12s/it]\n",
      "Training (3200 / 18000 Steps) (loss=0.58549):  12%|█▏        | 9/76 [01:26<27:12, 24.37s/it]"
     ]
    },
    {
     "name": "stdout",
     "output_type": "stream",
     "text": [
      "Model Was Not Saved ! Current Best Avg. Dice: 0.28779345750808716 Current Avg. Dice: 0.15147671103477478 Current Avg. tumor Dice: 0.130153626203537 Current Avg. lymph Dice: 0.1751614212989807\n"
     ]
    },
    {
     "name": "stderr",
     "output_type": "stream",
     "text": [
      "Training (3267 / 18000 Steps) (loss=0.45147): 100%|██████████| 76/76 [02:37<00:00,  2.08s/it]\n",
      "Validate (3268 / 10 Steps): 100%|██████████| 22/22 [01:14<00:00,  3.39s/it]<00:45,  1.04s/it]\n",
      "Training (3300 / 18000 Steps) (loss=0.68957):  43%|████▎     | 33/76 [01:52<16:51, 23.52s/it]"
     ]
    },
    {
     "name": "stdout",
     "output_type": "stream",
     "text": [
      "Model Was Not Saved ! Current Best Avg. Dice: 0.28779345750808716 Current Avg. Dice: 0.13827946782112122 Current Avg. tumor Dice: 0.10378219932317734 Current Avg. lymph Dice: 0.1717769205570221\n"
     ]
    },
    {
     "name": "stderr",
     "output_type": "stream",
     "text": [
      "Training (3343 / 18000 Steps) (loss=0.63835): 100%|██████████| 76/76 [02:37<00:00,  2.07s/it]\n",
      "Validate (3344 / 10 Steps): 100%|██████████| 22/22 [01:14<00:00,  3.38s/it]<00:20,  1.03s/it]\n",
      "Training (3400 / 18000 Steps) (loss=0.62851):  75%|███████▌  | 57/76 [02:17<07:25, 23.44s/it]"
     ]
    },
    {
     "name": "stdout",
     "output_type": "stream",
     "text": [
      "Model Was Not Saved ! Current Best Avg. Dice: 0.28779345750808716 Current Avg. Dice: 0.16991351544857025 Current Avg. tumor Dice: 0.16238640248775482 Current Avg. lymph Dice: 0.17837156355381012\n"
     ]
    },
    {
     "name": "stderr",
     "output_type": "stream",
     "text": [
      "Training (3419 / 18000 Steps) (loss=0.56906): 100%|██████████| 76/76 [02:36<00:00,  2.07s/it]\n",
      "Training (3495 / 18000 Steps) (loss=0.55680): 100%|██████████| 76/76 [01:22<00:00,  1.09s/it]\n",
      "Validate (3496 / 10 Steps): 100%|██████████| 22/22 [01:14<00:00,  3.38s/it]01:43,  1.44s/it]\n",
      "Training (3500 / 18000 Steps) (loss=0.49332):   7%|▋         | 5/76 [01:22<33:16, 28.12s/it]"
     ]
    },
    {
     "name": "stdout",
     "output_type": "stream",
     "text": [
      "Model Was Not Saved ! Current Best Avg. Dice: 0.28779345750808716 Current Avg. Dice: 0.1712205410003662 Current Avg. tumor Dice: 0.1349138766527176 Current Avg. lymph Dice: 0.2081553190946579\n"
     ]
    },
    {
     "name": "stderr",
     "output_type": "stream",
     "text": [
      "Training (3571 / 18000 Steps) (loss=0.47377): 100%|██████████| 76/76 [02:36<00:00,  2.06s/it]\n",
      "Validate (3572 / 10 Steps): 100%|██████████| 22/22 [01:14<00:00,  3.38s/it]<00:50,  1.04s/it]\n",
      "Training (3600 / 18000 Steps) (loss=0.60466):  38%|███▊      | 29/76 [01:47<18:17, 23.36s/it]"
     ]
    },
    {
     "name": "stdout",
     "output_type": "stream",
     "text": [
      "Model Was Not Saved ! Current Best Avg. Dice: 0.28779345750808716 Current Avg. Dice: 0.1634596288204193 Current Avg. tumor Dice: 0.12839792668819427 Current Avg. lymph Dice: 0.20549266040325165\n"
     ]
    },
    {
     "name": "stderr",
     "output_type": "stream",
     "text": [
      "Training (3647 / 18000 Steps) (loss=0.69709): 100%|██████████| 76/76 [02:36<00:00,  2.06s/it]\n",
      "Validate (3648 / 10 Steps): 100%|██████████| 22/22 [01:14<00:00,  3.39s/it]<00:25,  1.07s/it]\n",
      "Training (3700 / 18000 Steps) (loss=0.64241):  70%|██████▉   | 53/76 [02:12<08:58, 23.41s/it]"
     ]
    },
    {
     "name": "stdout",
     "output_type": "stream",
     "text": [
      "Model Was Not Saved ! Current Best Avg. Dice: 0.28779345750808716 Current Avg. Dice: 0.14098605513572693 Current Avg. tumor Dice: 0.11039236932992935 Current Avg. lymph Dice: 0.17655009031295776\n"
     ]
    },
    {
     "name": "stderr",
     "output_type": "stream",
     "text": [
      "Training (3723 / 18000 Steps) (loss=0.56388): 100%|██████████| 76/76 [02:37<00:00,  2.07s/it]\n",
      "Training (3799 / 18000 Steps) (loss=0.44890): 100%|██████████| 76/76 [01:22<00:00,  1.09s/it]\n",
      "Validate (3800 / 10 Steps): 100%|██████████| 22/22 [01:14<00:00,  3.40s/it]?, ?it/s]\n",
      "Training (3800 / 18000 Steps) (loss=0.58029):   1%|▏         | 1/76 [01:18<1:37:41, 78.15s/it]"
     ]
    },
    {
     "name": "stdout",
     "output_type": "stream",
     "text": [
      "Model Was Not Saved ! Current Best Avg. Dice: 0.28779345750808716 Current Avg. Dice: 0.16587716341018677 Current Avg. tumor Dice: 0.1394076645374298 Current Avg. lymph Dice: 0.19927838444709778\n"
     ]
    },
    {
     "name": "stderr",
     "output_type": "stream",
     "text": [
      "Training (3875 / 18000 Steps) (loss=0.59519): 100%|██████████| 76/76 [02:37<00:00,  2.07s/it] \n",
      "Validate (3876 / 10 Steps): 100%|██████████| 22/22 [01:14<00:00,  3.40s/it]<00:54,  1.04s/it]\n",
      "Training (3900 / 18000 Steps) (loss=0.54421):  33%|███▎      | 25/76 [01:43<20:01, 23.55s/it]"
     ]
    },
    {
     "name": "stdout",
     "output_type": "stream",
     "text": [
      "Model Was Not Saved ! Current Best Avg. Dice: 0.28779345750808716 Current Avg. Dice: 0.12737058103084564 Current Avg. tumor Dice: 0.09017239511013031 Current Avg. lymph Dice: 0.16749610006809235\n"
     ]
    },
    {
     "name": "stderr",
     "output_type": "stream",
     "text": [
      "Training (3951 / 18000 Steps) (loss=0.56364): 100%|██████████| 76/76 [02:37<00:00,  2.07s/it]\n",
      "Validate (3952 / 10 Steps): 100%|██████████| 22/22 [01:14<00:00,  3.39s/it]<00:29,  1.04s/it]\n",
      "Training (4000 / 18000 Steps) (loss=0.54217):  64%|██████▍   | 49/76 [02:08<10:33, 23.48s/it]"
     ]
    },
    {
     "name": "stdout",
     "output_type": "stream",
     "text": [
      "Model Was Not Saved ! Current Best Avg. Dice: 0.28779345750808716 Current Avg. Dice: 0.1469375193119049 Current Avg. tumor Dice: 0.1225089430809021 Current Avg. lymph Dice: 0.17363320291042328\n"
     ]
    },
    {
     "name": "stderr",
     "output_type": "stream",
     "text": [
      "Training (4027 / 18000 Steps) (loss=0.40599): 100%|██████████| 76/76 [02:37<00:00,  2.07s/it]\n",
      "Validate (4028 / 10 Steps): 100%|██████████| 22/22 [01:15<00:00,  3.41s/it]<00:04,  1.03s/it]\n",
      "Training (4100 / 18000 Steps) (loss=0.37781):  96%|█████████▌| 73/76 [02:34<01:10, 23.61s/it]"
     ]
    },
    {
     "name": "stdout",
     "output_type": "stream",
     "text": [
      "Model Was Not Saved ! Current Best Avg. Dice: 0.28779345750808716 Current Avg. Dice: 0.1393071562051773 Current Avg. tumor Dice: 0.11922894418239594 Current Avg. lymph Dice: 0.15877161920070648\n"
     ]
    },
    {
     "name": "stderr",
     "output_type": "stream",
     "text": [
      "Training (4103 / 18000 Steps) (loss=0.51900): 100%|██████████| 76/76 [02:38<00:00,  2.08s/it]\n",
      "Training (4179 / 18000 Steps) (loss=0.45477): 100%|██████████| 76/76 [01:23<00:00,  1.10s/it]\n",
      "Validate (4180 / 10 Steps): 100%|██████████| 22/22 [01:14<00:00,  3.40s/it]<00:58,  1.04s/it]\n",
      "Training (4200 / 18000 Steps) (loss=0.55125):  28%|██▊       | 21/76 [01:39<21:33, 23.51s/it]"
     ]
    },
    {
     "name": "stdout",
     "output_type": "stream",
     "text": [
      "Model Was Not Saved ! Current Best Avg. Dice: 0.28779345750808716 Current Avg. Dice: 0.10821623355150223 Current Avg. tumor Dice: 0.10663788765668869 Current Avg. lymph Dice: 0.10497827082872391\n"
     ]
    },
    {
     "name": "stderr",
     "output_type": "stream",
     "text": [
      "Training (4255 / 18000 Steps) (loss=0.52801): 100%|██████████| 76/76 [02:37<00:00,  2.07s/it]\n",
      "Validate (4256 / 10 Steps): 100%|██████████| 22/22 [01:14<00:00,  3.40s/it]<00:33,  1.06s/it]\n",
      "Training (4300 / 18000 Steps) (loss=0.66504):  59%|█████▉    | 45/76 [02:04<12:07, 23.48s/it]"
     ]
    },
    {
     "name": "stdout",
     "output_type": "stream",
     "text": [
      "Model Was Not Saved ! Current Best Avg. Dice: 0.28779345750808716 Current Avg. Dice: 0.08933842182159424 Current Avg. tumor Dice: 0.07239554077386856 Current Avg. lymph Dice: 0.10842545330524445\n"
     ]
    },
    {
     "name": "stderr",
     "output_type": "stream",
     "text": [
      "Training (4331 / 18000 Steps) (loss=0.72410): 100%|██████████| 76/76 [02:37<00:00,  2.08s/it]\n",
      "Validate (4332 / 10 Steps): 100%|██████████| 22/22 [01:15<00:00,  3.42s/it]<00:08,  1.05s/it]\n",
      "Training (4400 / 18000 Steps) (loss=0.59979):  91%|█████████ | 69/76 [02:30<02:45, 23.63s/it]"
     ]
    },
    {
     "name": "stdout",
     "output_type": "stream",
     "text": [
      "Model Was Not Saved ! Current Best Avg. Dice: 0.28779345750808716 Current Avg. Dice: 0.1483927220106125 Current Avg. tumor Dice: 0.11710498481988907 Current Avg. lymph Dice: 0.18302753567695618\n"
     ]
    },
    {
     "name": "stderr",
     "output_type": "stream",
     "text": [
      "Training (4407 / 18000 Steps) (loss=0.61081): 100%|██████████| 76/76 [02:37<00:00,  2.08s/it]\n",
      "Training (4483 / 18000 Steps) (loss=0.41565): 100%|██████████| 76/76 [01:23<00:00,  1.10s/it]\n",
      "Validate (4484 / 10 Steps): 100%|██████████| 22/22 [01:14<00:00,  3.39s/it]<01:02,  1.04s/it]\n",
      "Training (4500 / 18000 Steps) (loss=0.52845):  22%|██▏       | 17/76 [01:35<23:05, 23.48s/it]"
     ]
    },
    {
     "name": "stdout",
     "output_type": "stream",
     "text": [
      "Model Was Not Saved ! Current Best Avg. Dice: 0.28779345750808716 Current Avg. Dice: 0.1406784951686859 Current Avg. tumor Dice: 0.09969440847635269 Current Avg. lymph Dice: 0.1822744458913803\n"
     ]
    },
    {
     "name": "stderr",
     "output_type": "stream",
     "text": [
      "Training (4559 / 18000 Steps) (loss=0.55274): 100%|██████████| 76/76 [02:37<00:00,  2.07s/it]\n",
      "Validate (4560 / 10 Steps): 100%|██████████| 22/22 [01:14<00:00,  3.40s/it]<00:37,  1.03s/it]\n",
      "Training (4600 / 18000 Steps) (loss=0.53597):  54%|█████▍    | 41/76 [02:00<13:44, 23.54s/it]"
     ]
    },
    {
     "name": "stdout",
     "output_type": "stream",
     "text": [
      "Model Was Not Saved ! Current Best Avg. Dice: 0.28779345750808716 Current Avg. Dice: 0.10894858837127686 Current Avg. tumor Dice: 0.07438278198242188 Current Avg. lymph Dice: 0.1494978368282318\n"
     ]
    },
    {
     "name": "stderr",
     "output_type": "stream",
     "text": [
      "Training (4635 / 18000 Steps) (loss=0.54966): 100%|██████████| 76/76 [02:37<00:00,  2.07s/it]\n",
      "Validate (4636 / 10 Steps): 100%|██████████| 22/22 [01:14<00:00,  3.41s/it]<00:12,  1.04s/it]\n",
      "Training (4700 / 18000 Steps) (loss=0.49129):  86%|████████▌ | 65/76 [02:26<04:19, 23.55s/it]"
     ]
    },
    {
     "name": "stdout",
     "output_type": "stream",
     "text": [
      "Model Was Not Saved ! Current Best Avg. Dice: 0.28779345750808716 Current Avg. Dice: 0.10387380421161652 Current Avg. tumor Dice: 0.05588524788618088 Current Avg. lymph Dice: 0.1543400138616562\n"
     ]
    },
    {
     "name": "stderr",
     "output_type": "stream",
     "text": [
      "Training (4711 / 18000 Steps) (loss=0.65135): 100%|██████████| 76/76 [02:38<00:00,  2.08s/it]\n",
      "Training (4787 / 18000 Steps) (loss=0.47587): 100%|██████████| 76/76 [01:22<00:00,  1.09s/it]\n",
      "Validate (4788 / 10 Steps): 100%|██████████| 22/22 [01:14<00:00,  3.40s/it]<01:09,  1.08s/it]\n",
      "Training (4800 / 18000 Steps) (loss=0.72405):  17%|█▋        | 13/76 [01:31<24:56, 23.76s/it]"
     ]
    },
    {
     "name": "stdout",
     "output_type": "stream",
     "text": [
      "Model Was Not Saved ! Current Best Avg. Dice: 0.28779345750808716 Current Avg. Dice: 0.13707245886325836 Current Avg. tumor Dice: 0.09640251100063324 Current Avg. lymph Dice: 0.18287186324596405\n"
     ]
    },
    {
     "name": "stderr",
     "output_type": "stream",
     "text": [
      "Training (4863 / 18000 Steps) (loss=0.55471): 100%|██████████| 76/76 [02:37<00:00,  2.08s/it]\n",
      "Validate (4864 / 10 Steps): 100%|██████████| 22/22 [01:14<00:00,  3.40s/it]<00:42,  1.06s/it]\n",
      "Training (4900 / 18000 Steps) (loss=0.62410):  49%|████▊     | 37/76 [01:56<15:17, 23.52s/it]"
     ]
    },
    {
     "name": "stdout",
     "output_type": "stream",
     "text": [
      "Model Was Not Saved ! Current Best Avg. Dice: 0.28779345750808716 Current Avg. Dice: 0.09622979909181595 Current Avg. tumor Dice: 0.05237657204270363 Current Avg. lymph Dice: 0.14289551973342896\n"
     ]
    },
    {
     "name": "stderr",
     "output_type": "stream",
     "text": [
      "Training (4939 / 18000 Steps) (loss=0.69598): 100%|██████████| 76/76 [02:37<00:00,  2.08s/it]\n",
      "Validate (4940 / 10 Steps): 100%|██████████| 22/22 [01:14<00:00,  3.40s/it]<00:16,  1.05s/it]\n",
      "Training (5000 / 18000 Steps) (loss=0.73272):  80%|████████  | 61/76 [02:21<05:52, 23.52s/it]"
     ]
    },
    {
     "name": "stdout",
     "output_type": "stream",
     "text": [
      "Model Was Not Saved ! Current Best Avg. Dice: 0.28779345750808716 Current Avg. Dice: 0.10854793339967728 Current Avg. tumor Dice: 0.06320886313915253 Current Avg. lymph Dice: 0.1578397899866104\n"
     ]
    },
    {
     "name": "stderr",
     "output_type": "stream",
     "text": [
      "Training (5015 / 18000 Steps) (loss=0.53580): 100%|██████████| 76/76 [02:37<00:00,  2.07s/it]\n",
      "Training (5091 / 18000 Steps) (loss=0.53047): 100%|██████████| 76/76 [01:22<00:00,  1.09s/it]\n",
      "Validate (5092 / 10 Steps): 100%|██████████| 22/22 [01:14<00:00,  3.40s/it]01:15,  1.11s/it]\n",
      "Training (5100 / 18000 Steps) (loss=0.58018):  12%|█▏        | 9/76 [01:26<27:22, 24.52s/it]"
     ]
    },
    {
     "name": "stdout",
     "output_type": "stream",
     "text": [
      "Model Was Not Saved ! Current Best Avg. Dice: 0.28779345750808716 Current Avg. Dice: 0.13922829926013947 Current Avg. tumor Dice: 0.10738908499479294 Current Avg. lymph Dice: 0.17749667167663574\n"
     ]
    },
    {
     "name": "stderr",
     "output_type": "stream",
     "text": [
      "Training (5167 / 18000 Steps) (loss=0.56774): 100%|██████████| 76/76 [02:37<00:00,  2.07s/it]\n",
      "Validate (5168 / 10 Steps): 100%|██████████| 22/22 [01:14<00:00,  3.39s/it]<00:45,  1.03s/it]\n",
      "Training (5200 / 18000 Steps) (loss=0.58160):  43%|████▎     | 33/76 [01:52<16:49, 23.48s/it]"
     ]
    },
    {
     "name": "stdout",
     "output_type": "stream",
     "text": [
      "Model Was Not Saved ! Current Best Avg. Dice: 0.28779345750808716 Current Avg. Dice: 0.12152191996574402 Current Avg. tumor Dice: 0.08217614889144897 Current Avg. lymph Dice: 0.16685833036899567\n"
     ]
    },
    {
     "name": "stderr",
     "output_type": "stream",
     "text": [
      "Training (5243 / 18000 Steps) (loss=0.51017): 100%|██████████| 76/76 [02:37<00:00,  2.07s/it]\n",
      "Validate (5244 / 10 Steps): 100%|██████████| 22/22 [01:14<00:00,  3.41s/it]<00:20,  1.04s/it]\n",
      "Training (5300 / 18000 Steps) (loss=0.51004):  75%|███████▌  | 57/76 [02:17<07:28, 23.62s/it]"
     ]
    },
    {
     "name": "stdout",
     "output_type": "stream",
     "text": [
      "Model Was Not Saved ! Current Best Avg. Dice: 0.28779345750808716 Current Avg. Dice: 0.08425336331129074 Current Avg. tumor Dice: 0.048730816692113876 Current Avg. lymph Dice: 0.12382444739341736\n"
     ]
    },
    {
     "name": "stderr",
     "output_type": "stream",
     "text": [
      "Training (5319 / 18000 Steps) (loss=0.53418): 100%|██████████| 76/76 [02:37<00:00,  2.07s/it]\n",
      "Training (5395 / 18000 Steps) (loss=0.52167): 100%|██████████| 76/76 [01:23<00:00,  1.09s/it]\n",
      "Validate (5396 / 10 Steps): 100%|██████████| 22/22 [01:14<00:00,  3.39s/it]01:40,  1.40s/it]\n",
      "Training (5400 / 18000 Steps) (loss=0.55832):   7%|▋         | 5/76 [01:22<33:22, 28.20s/it]"
     ]
    },
    {
     "name": "stdout",
     "output_type": "stream",
     "text": [
      "Model Was Not Saved ! Current Best Avg. Dice: 0.28779345750808716 Current Avg. Dice: 0.10283190757036209 Current Avg. tumor Dice: 0.06755437701940536 Current Avg. lymph Dice: 0.1440633088350296\n"
     ]
    },
    {
     "name": "stderr",
     "output_type": "stream",
     "text": [
      "Training (5471 / 18000 Steps) (loss=0.56246): 100%|██████████| 76/76 [02:37<00:00,  2.07s/it]\n",
      "Validate (5472 / 10 Steps): 100%|██████████| 22/22 [01:14<00:00,  3.39s/it]<00:50,  1.05s/it]\n",
      "Training (5500 / 18000 Steps) (loss=0.60092):  38%|███▊      | 29/76 [01:47<18:21, 23.44s/it]"
     ]
    },
    {
     "name": "stdout",
     "output_type": "stream",
     "text": [
      "Model Was Not Saved ! Current Best Avg. Dice: 0.28779345750808716 Current Avg. Dice: 0.09971404075622559 Current Avg. tumor Dice: 0.06364069879055023 Current Avg. lymph Dice: 0.1409519463777542\n"
     ]
    },
    {
     "name": "stderr",
     "output_type": "stream",
     "text": [
      "Training (5547 / 18000 Steps) (loss=0.65203): 100%|██████████| 76/76 [02:37<00:00,  2.07s/it]\n",
      "Validate (5548 / 10 Steps): 100%|██████████| 22/22 [01:14<00:00,  3.39s/it]<00:25,  1.05s/it]\n",
      "Training (5600 / 18000 Steps) (loss=0.66912):  70%|██████▉   | 53/76 [02:12<08:58, 23.43s/it]"
     ]
    },
    {
     "name": "stdout",
     "output_type": "stream",
     "text": [
      "Model Was Not Saved ! Current Best Avg. Dice: 0.28779345750808716 Current Avg. Dice: 0.12416516989469528 Current Avg. tumor Dice: 0.08139587938785553 Current Avg. lymph Dice: 0.1727399230003357\n"
     ]
    },
    {
     "name": "stderr",
     "output_type": "stream",
     "text": [
      "Training (5623 / 18000 Steps) (loss=0.44590): 100%|██████████| 76/76 [02:37<00:00,  2.07s/it]\n",
      "Training (5699 / 18000 Steps) (loss=0.61722): 100%|██████████| 76/76 [01:22<00:00,  1.09s/it]\n",
      "Validate (5700 / 10 Steps): 100%|██████████| 22/22 [01:14<00:00,  3.39s/it]?, ?it/s]\n",
      "Training (5700 / 18000 Steps) (loss=0.58690):   1%|▏         | 1/76 [01:18<1:37:41, 78.16s/it]"
     ]
    },
    {
     "name": "stdout",
     "output_type": "stream",
     "text": [
      "Model Was Not Saved ! Current Best Avg. Dice: 0.28779345750808716 Current Avg. Dice: 0.11470961570739746 Current Avg. tumor Dice: 0.08593015372753143 Current Avg. lymph Dice: 0.15080526471138\n"
     ]
    },
    {
     "name": "stderr",
     "output_type": "stream",
     "text": [
      "Training (5775 / 18000 Steps) (loss=0.50116): 100%|██████████| 76/76 [02:37<00:00,  2.07s/it] \n",
      "Validate (5776 / 10 Steps): 100%|██████████| 22/22 [01:14<00:00,  3.40s/it]<00:53,  1.03s/it]\n",
      "Training (5800 / 18000 Steps) (loss=0.60334):  33%|███▎      | 25/76 [01:43<20:00, 23.54s/it]"
     ]
    },
    {
     "name": "stdout",
     "output_type": "stream",
     "text": [
      "Model Was Not Saved ! Current Best Avg. Dice: 0.28779345750808716 Current Avg. Dice: 0.1111474558711052 Current Avg. tumor Dice: 0.07680727541446686 Current Avg. lymph Dice: 0.1531059443950653\n"
     ]
    },
    {
     "name": "stderr",
     "output_type": "stream",
     "text": [
      "Training (5851 / 18000 Steps) (loss=0.58247): 100%|██████████| 76/76 [02:37<00:00,  2.07s/it]\n",
      "Validate (5852 / 10 Steps): 100%|██████████| 22/22 [01:15<00:00,  3.41s/it]<00:29,  1.04s/it]\n",
      "Training (5900 / 18000 Steps) (loss=0.66103):  64%|██████▍   | 49/76 [02:09<10:36, 23.57s/it]"
     ]
    },
    {
     "name": "stdout",
     "output_type": "stream",
     "text": [
      "Model Was Not Saved ! Current Best Avg. Dice: 0.28779345750808716 Current Avg. Dice: 0.12104333192110062 Current Avg. tumor Dice: 0.07480713725090027 Current Avg. lymph Dice: 0.17413955926895142\n"
     ]
    },
    {
     "name": "stderr",
     "output_type": "stream",
     "text": [
      "Training (5927 / 18000 Steps) (loss=0.48779): 100%|██████████| 76/76 [02:38<00:00,  2.08s/it]\n",
      "Validate (5928 / 10 Steps): 100%|██████████| 22/22 [01:14<00:00,  3.40s/it]<00:04,  1.04s/it]\n",
      "Training (6000 / 18000 Steps) (loss=0.51384):  96%|█████████▌| 73/76 [02:34<01:10, 23.50s/it]"
     ]
    },
    {
     "name": "stdout",
     "output_type": "stream",
     "text": [
      "Model Was Not Saved ! Current Best Avg. Dice: 0.28779345750808716 Current Avg. Dice: 0.12275996804237366 Current Avg. tumor Dice: 0.08738227188587189 Current Avg. lymph Dice: 0.16412776708602905\n"
     ]
    },
    {
     "name": "stderr",
     "output_type": "stream",
     "text": [
      "Training (6003 / 18000 Steps) (loss=0.51276): 100%|██████████| 76/76 [02:38<00:00,  2.08s/it]\n",
      "Training (6079 / 18000 Steps) (loss=0.51819): 100%|██████████| 76/76 [01:22<00:00,  1.09s/it]\n",
      "Validate (6080 / 10 Steps): 100%|██████████| 22/22 [01:14<00:00,  3.40s/it]<00:58,  1.05s/it]\n",
      "Training (6100 / 18000 Steps) (loss=0.54719):  28%|██▊       | 21/76 [01:39<21:32, 23.50s/it]"
     ]
    },
    {
     "name": "stdout",
     "output_type": "stream",
     "text": [
      "Model Was Not Saved ! Current Best Avg. Dice: 0.28779345750808716 Current Avg. Dice: 0.10044923424720764 Current Avg. tumor Dice: 0.06514505296945572 Current Avg. lymph Dice: 0.14090800285339355\n"
     ]
    },
    {
     "name": "stderr",
     "output_type": "stream",
     "text": [
      "Training (6155 / 18000 Steps) (loss=0.48980): 100%|██████████| 76/76 [02:37<00:00,  2.07s/it]\n",
      "Validate (6156 / 10 Steps): 100%|██████████| 22/22 [01:14<00:00,  3.40s/it]<00:33,  1.05s/it]\n",
      "Training (6200 / 18000 Steps) (loss=0.50809):  59%|█████▉    | 45/76 [02:05<12:09, 23.52s/it]"
     ]
    },
    {
     "name": "stdout",
     "output_type": "stream",
     "text": [
      "Model Was Not Saved ! Current Best Avg. Dice: 0.28779345750808716 Current Avg. Dice: 0.11104436218738556 Current Avg. tumor Dice: 0.07048215717077255 Current Avg. lymph Dice: 0.15491724014282227\n"
     ]
    },
    {
     "name": "stderr",
     "output_type": "stream",
     "text": [
      "Training (6231 / 18000 Steps) (loss=0.54388): 100%|██████████| 76/76 [02:38<00:00,  2.08s/it]\n",
      "Validate (6232 / 10 Steps): 100%|██████████| 22/22 [01:14<00:00,  3.41s/it]<00:08,  1.03s/it]\n",
      "Training (6300 / 18000 Steps) (loss=0.49242):  91%|█████████ | 69/76 [02:30<02:44, 23.57s/it]"
     ]
    },
    {
     "name": "stdout",
     "output_type": "stream",
     "text": [
      "Model Was Not Saved ! Current Best Avg. Dice: 0.28779345750808716 Current Avg. Dice: 0.11380555480718613 Current Avg. tumor Dice: 0.09420209378004074 Current Avg. lymph Dice: 0.13428722321987152\n"
     ]
    },
    {
     "name": "stderr",
     "output_type": "stream",
     "text": [
      "Training (6307 / 18000 Steps) (loss=0.49589): 100%|██████████| 76/76 [02:37<00:00,  2.07s/it]\n",
      "Training (6383 / 18000 Steps) (loss=0.47050): 100%|██████████| 76/76 [01:23<00:00,  1.10s/it]\n",
      "Validate (6384 / 10 Steps): 100%|██████████| 22/22 [01:14<00:00,  3.40s/it]<01:02,  1.04s/it]\n",
      "Training (6400 / 18000 Steps) (loss=0.56212):  22%|██▏       | 17/76 [01:35<23:08, 23.54s/it]"
     ]
    },
    {
     "name": "stdout",
     "output_type": "stream",
     "text": [
      "Model Was Not Saved ! Current Best Avg. Dice: 0.28779345750808716 Current Avg. Dice: 0.1375531703233719 Current Avg. tumor Dice: 0.11318942159414291 Current Avg. lymph Dice: 0.1674432009458542\n"
     ]
    },
    {
     "name": "stderr",
     "output_type": "stream",
     "text": [
      "Training (6459 / 18000 Steps) (loss=0.56967): 100%|██████████| 76/76 [02:37<00:00,  2.07s/it]\n",
      "Validate (6460 / 10 Steps): 100%|██████████| 22/22 [01:14<00:00,  3.40s/it]<00:37,  1.04s/it]\n",
      "Training (6500 / 18000 Steps) (loss=0.45583):  54%|█████▍    | 41/76 [02:00<13:41, 23.48s/it]"
     ]
    },
    {
     "name": "stdout",
     "output_type": "stream",
     "text": [
      "Model Was Not Saved ! Current Best Avg. Dice: 0.28779345750808716 Current Avg. Dice: 0.12284431606531143 Current Avg. tumor Dice: 0.09581708908081055 Current Avg. lymph Dice: 0.1599305272102356\n"
     ]
    },
    {
     "name": "stderr",
     "output_type": "stream",
     "text": [
      "Training (6535 / 18000 Steps) (loss=0.61840): 100%|██████████| 76/76 [02:37<00:00,  2.07s/it]\n",
      "Validate (6536 / 10 Steps): 100%|██████████| 22/22 [01:14<00:00,  3.39s/it]<00:12,  1.02s/it]\n",
      "Training (6600 / 18000 Steps) (loss=0.61765):  86%|████████▌ | 65/76 [02:25<04:17, 23.44s/it]"
     ]
    },
    {
     "name": "stdout",
     "output_type": "stream",
     "text": [
      "Model Was Not Saved ! Current Best Avg. Dice: 0.28779345750808716 Current Avg. Dice: 0.1238618791103363 Current Avg. tumor Dice: 0.08844789862632751 Current Avg. lymph Dice: 0.17145507037639618\n"
     ]
    },
    {
     "name": "stderr",
     "output_type": "stream",
     "text": [
      "Training (6611 / 18000 Steps) (loss=0.54246): 100%|██████████| 76/76 [02:36<00:00,  2.07s/it]\n",
      "Training (6687 / 18000 Steps) (loss=0.56198): 100%|██████████| 76/76 [01:22<00:00,  1.09s/it]\n",
      "Validate (6688 / 10 Steps): 100%|██████████| 22/22 [01:14<00:00,  3.41s/it]<01:08,  1.07s/it]\n",
      "Training (6700 / 18000 Steps) (loss=0.59095):  17%|█▋        | 13/76 [01:31<24:57, 23.77s/it]"
     ]
    },
    {
     "name": "stdout",
     "output_type": "stream",
     "text": [
      "Model Was Not Saved ! Current Best Avg. Dice: 0.28779345750808716 Current Avg. Dice: 0.10956764221191406 Current Avg. tumor Dice: 0.07115641981363297 Current Avg. lymph Dice: 0.15409168601036072\n"
     ]
    },
    {
     "name": "stderr",
     "output_type": "stream",
     "text": [
      "Training (6763 / 18000 Steps) (loss=0.57750): 100%|██████████| 76/76 [02:38<00:00,  2.09s/it]\n",
      "Validate (6764 / 10 Steps): 100%|██████████| 22/22 [01:14<00:00,  3.40s/it]<00:42,  1.06s/it]\n",
      "Training (6800 / 18000 Steps) (loss=0.50530):  49%|████▊     | 37/76 [01:56<15:17, 23.53s/it]"
     ]
    },
    {
     "name": "stdout",
     "output_type": "stream",
     "text": [
      "Model Was Not Saved ! Current Best Avg. Dice: 0.28779345750808716 Current Avg. Dice: 0.10221239924430847 Current Avg. tumor Dice: 0.06711085885763168 Current Avg. lymph Dice: 0.14066629111766815\n"
     ]
    },
    {
     "name": "stderr",
     "output_type": "stream",
     "text": [
      "Training (6839 / 18000 Steps) (loss=0.51054): 100%|██████████| 76/76 [02:37<00:00,  2.07s/it]\n",
      "Validate (6840 / 10 Steps): 100%|██████████| 22/22 [01:15<00:00,  3.41s/it]<00:16,  1.05s/it]\n",
      "Training (6900 / 18000 Steps) (loss=0.51283):  80%|████████  | 61/76 [02:22<05:54, 23.61s/it]"
     ]
    },
    {
     "name": "stdout",
     "output_type": "stream",
     "text": [
      "Model Was Not Saved ! Current Best Avg. Dice: 0.28779345750808716 Current Avg. Dice: 0.0891791507601738 Current Avg. tumor Dice: 0.0701550841331482 Current Avg. lymph Dice: 0.11786215752363205\n"
     ]
    },
    {
     "name": "stderr",
     "output_type": "stream",
     "text": [
      "Training (6915 / 18000 Steps) (loss=0.59471): 100%|██████████| 76/76 [02:38<00:00,  2.08s/it]\n",
      "Training (6991 / 18000 Steps) (loss=0.56595): 100%|██████████| 76/76 [01:22<00:00,  1.09s/it]\n",
      "Validate (6992 / 10 Steps): 100%|██████████| 22/22 [01:14<00:00,  3.41s/it]01:14,  1.09s/it]\n",
      "Training (7000 / 18000 Steps) (loss=0.57087):  12%|█▏        | 9/76 [01:26<27:24, 24.54s/it]"
     ]
    },
    {
     "name": "stdout",
     "output_type": "stream",
     "text": [
      "Model Was Not Saved ! Current Best Avg. Dice: 0.28779345750808716 Current Avg. Dice: 0.06507816910743713 Current Avg. tumor Dice: 0.038383010774850845 Current Avg. lymph Dice: 0.09637942165136337\n"
     ]
    },
    {
     "name": "stderr",
     "output_type": "stream",
     "text": [
      "Training (7067 / 18000 Steps) (loss=0.63355): 100%|██████████| 76/76 [02:37<00:00,  2.08s/it]\n",
      "Validate (7068 / 10 Steps): 100%|██████████| 22/22 [01:14<00:00,  3.41s/it]<00:46,  1.05s/it]\n",
      "Training (7100 / 18000 Steps) (loss=0.49135):  43%|████▎     | 33/76 [01:52<16:52, 23.55s/it]"
     ]
    },
    {
     "name": "stdout",
     "output_type": "stream",
     "text": [
      "Model Was Not Saved ! Current Best Avg. Dice: 0.28779345750808716 Current Avg. Dice: 0.10394192487001419 Current Avg. tumor Dice: 0.07107704132795334 Current Avg. lymph Dice: 0.1443045735359192\n"
     ]
    },
    {
     "name": "stderr",
     "output_type": "stream",
     "text": [
      "Training (7143 / 18000 Steps) (loss=0.45652): 100%|██████████| 76/76 [02:37<00:00,  2.08s/it]\n",
      "Validate (7144 / 10 Steps): 100%|██████████| 22/22 [01:14<00:00,  3.40s/it]<00:20,  1.03s/it]\n",
      "Training (7200 / 18000 Steps) (loss=0.52879):  75%|███████▌  | 57/76 [02:17<07:27, 23.53s/it]"
     ]
    },
    {
     "name": "stdout",
     "output_type": "stream",
     "text": [
      "Model Was Not Saved ! Current Best Avg. Dice: 0.28779345750808716 Current Avg. Dice: 0.14102648198604584 Current Avg. tumor Dice: 0.1110219806432724 Current Avg. lymph Dice: 0.18032614886760712\n"
     ]
    },
    {
     "name": "stderr",
     "output_type": "stream",
     "text": [
      "Training (7219 / 18000 Steps) (loss=0.44877): 100%|██████████| 76/76 [02:37<00:00,  2.07s/it]\n",
      "Training (7295 / 18000 Steps) (loss=0.59417): 100%|██████████| 76/76 [01:22<00:00,  1.09s/it]\n",
      "Validate (7296 / 10 Steps): 100%|██████████| 22/22 [01:15<00:00,  3.42s/it]01:39,  1.38s/it]\n",
      "Training (7300 / 18000 Steps) (loss=0.52518):   7%|▋         | 5/76 [01:23<33:39, 28.44s/it]"
     ]
    },
    {
     "name": "stdout",
     "output_type": "stream",
     "text": [
      "Model Was Not Saved ! Current Best Avg. Dice: 0.28779345750808716 Current Avg. Dice: 0.08708242326974869 Current Avg. tumor Dice: 0.07859061658382416 Current Avg. lymph Dice: 0.10221466422080994\n"
     ]
    },
    {
     "name": "stderr",
     "output_type": "stream",
     "text": [
      "Training (7371 / 18000 Steps) (loss=0.56804): 100%|██████████| 76/76 [02:38<00:00,  2.08s/it]\n",
      "Validate (7372 / 10 Steps): 100%|██████████| 22/22 [01:15<00:00,  3.42s/it]<00:50,  1.05s/it]\n",
      "Training (7400 / 18000 Steps) (loss=0.53400):  38%|███▊      | 29/76 [01:48<18:30, 23.63s/it]"
     ]
    },
    {
     "name": "stdout",
     "output_type": "stream",
     "text": [
      "Model Was Not Saved ! Current Best Avg. Dice: 0.28779345750808716 Current Avg. Dice: 0.13181452453136444 Current Avg. tumor Dice: 0.10247507691383362 Current Avg. lymph Dice: 0.17749708890914917\n"
     ]
    },
    {
     "name": "stderr",
     "output_type": "stream",
     "text": [
      "Training (7447 / 18000 Steps) (loss=0.39440): 100%|██████████| 76/76 [02:38<00:00,  2.09s/it]\n",
      "Validate (7448 / 10 Steps): 100%|██████████| 22/22 [01:15<00:00,  3.41s/it]<00:25,  1.06s/it]\n",
      "Training (7500 / 18000 Steps) (loss=0.55442):  70%|██████▉   | 53/76 [02:13<09:02, 23.60s/it]"
     ]
    },
    {
     "name": "stdout",
     "output_type": "stream",
     "text": [
      "Model Was Not Saved ! Current Best Avg. Dice: 0.28779345750808716 Current Avg. Dice: 0.12326107174158096 Current Avg. tumor Dice: 0.08291653543710709 Current Avg. lymph Dice: 0.17463600635528564\n"
     ]
    },
    {
     "name": "stderr",
     "output_type": "stream",
     "text": [
      "Training (7523 / 18000 Steps) (loss=0.55243): 100%|██████████| 76/76 [02:38<00:00,  2.08s/it]\n",
      "Training (7599 / 18000 Steps) (loss=0.53978): 100%|██████████| 76/76 [01:22<00:00,  1.09s/it]\n",
      "Validate (7600 / 10 Steps): 100%|██████████| 22/22 [01:15<00:00,  3.42s/it]?, ?it/s]\n",
      "Training (7600 / 18000 Steps) (loss=0.61494):   1%|▏         | 1/76 [01:19<1:38:48, 79.04s/it]"
     ]
    },
    {
     "name": "stdout",
     "output_type": "stream",
     "text": [
      "Model Was Not Saved ! Current Best Avg. Dice: 0.28779345750808716 Current Avg. Dice: 0.11579591780900955 Current Avg. tumor Dice: 0.09746087342500687 Current Avg. lymph Dice: 0.14524947106838226\n"
     ]
    },
    {
     "name": "stderr",
     "output_type": "stream",
     "text": [
      "Training (7675 / 18000 Steps) (loss=0.55057): 100%|██████████| 76/76 [02:38<00:00,  2.09s/it] \n",
      "Validate (7676 / 10 Steps): 100%|██████████| 22/22 [01:15<00:00,  3.41s/it]<00:54,  1.05s/it]\n",
      "Training (7700 / 18000 Steps) (loss=0.56591):  33%|███▎      | 25/76 [01:44<20:04, 23.63s/it]"
     ]
    },
    {
     "name": "stdout",
     "output_type": "stream",
     "text": [
      "Model Was Not Saved ! Current Best Avg. Dice: 0.28779345750808716 Current Avg. Dice: 0.10556583851575851 Current Avg. tumor Dice: 0.08607210218906403 Current Avg. lymph Dice: 0.134693443775177\n"
     ]
    },
    {
     "name": "stderr",
     "output_type": "stream",
     "text": [
      "Training (7751 / 18000 Steps) (loss=0.52096): 100%|██████████| 76/76 [02:37<00:00,  2.08s/it]\n",
      "Validate (7752 / 10 Steps): 100%|██████████| 22/22 [01:15<00:00,  3.41s/it]<00:29,  1.05s/it]\n",
      "Training (7800 / 18000 Steps) (loss=0.53340):  64%|██████▍   | 49/76 [02:09<10:39, 23.69s/it]"
     ]
    },
    {
     "name": "stdout",
     "output_type": "stream",
     "text": [
      "Model Was Not Saved ! Current Best Avg. Dice: 0.28779345750808716 Current Avg. Dice: 0.08835609257221222 Current Avg. tumor Dice: 0.07977622002363205 Current Avg. lymph Dice: 0.10726574808359146\n"
     ]
    },
    {
     "name": "stderr",
     "output_type": "stream",
     "text": [
      "Training (7827 / 18000 Steps) (loss=0.52070): 100%|██████████| 76/76 [02:38<00:00,  2.09s/it]\n",
      "Validate (7828 / 10 Steps): 100%|██████████| 22/22 [01:15<00:00,  3.44s/it]<00:04,  1.04s/it]\n",
      "Training (7900 / 18000 Steps) (loss=0.54356):  96%|█████████▌| 73/76 [02:35<01:11, 23.78s/it]"
     ]
    },
    {
     "name": "stdout",
     "output_type": "stream",
     "text": [
      "Model Was Not Saved ! Current Best Avg. Dice: 0.28779345750808716 Current Avg. Dice: 0.09066876769065857 Current Avg. tumor Dice: 0.043231088668107986 Current Avg. lymph Dice: 0.15202943980693817\n"
     ]
    },
    {
     "name": "stderr",
     "output_type": "stream",
     "text": [
      "Training (7903 / 18000 Steps) (loss=0.51897): 100%|██████████| 76/76 [02:39<00:00,  2.09s/it]\n",
      "Training (7979 / 18000 Steps) (loss=0.53660): 100%|██████████| 76/76 [01:22<00:00,  1.09s/it]\n",
      "Validate (7980 / 10 Steps): 100%|██████████| 22/22 [01:14<00:00,  3.41s/it]<00:59,  1.06s/it]\n",
      "Training (8000 / 18000 Steps) (loss=0.52998):  28%|██▊       | 21/76 [01:39<21:35, 23.55s/it]"
     ]
    },
    {
     "name": "stdout",
     "output_type": "stream",
     "text": [
      "Model Was Not Saved ! Current Best Avg. Dice: 0.28779345750808716 Current Avg. Dice: 0.10225815325975418 Current Avg. tumor Dice: 0.06826909631490707 Current Avg. lymph Dice: 0.14507228136062622\n"
     ]
    },
    {
     "name": "stderr",
     "output_type": "stream",
     "text": [
      "Training (8055 / 18000 Steps) (loss=0.53980): 100%|██████████| 76/76 [02:38<00:00,  2.08s/it]\n",
      "Validate (8056 / 10 Steps): 100%|██████████| 22/22 [01:14<00:00,  3.40s/it]<00:33,  1.05s/it]\n",
      "Training (8100 / 18000 Steps) (loss=0.62175):  59%|█████▉    | 45/76 [02:05<12:08, 23.51s/it]"
     ]
    },
    {
     "name": "stdout",
     "output_type": "stream",
     "text": [
      "Model Was Not Saved ! Current Best Avg. Dice: 0.28779345750808716 Current Avg. Dice: 0.0687451884150505 Current Avg. tumor Dice: 0.05285755917429924 Current Avg. lymph Dice: 0.09286542236804962\n"
     ]
    },
    {
     "name": "stderr",
     "output_type": "stream",
     "text": [
      "Training (8131 / 18000 Steps) (loss=0.54686): 100%|██████████| 76/76 [02:37<00:00,  2.07s/it]\n",
      "Validate (8132 / 10 Steps): 100%|██████████| 22/22 [01:14<00:00,  3.39s/it]<00:08,  1.06s/it]\n",
      "Training (8200 / 18000 Steps) (loss=0.56465):  91%|█████████ | 69/76 [02:30<02:43, 23.41s/it]"
     ]
    },
    {
     "name": "stdout",
     "output_type": "stream",
     "text": [
      "Model Was Not Saved ! Current Best Avg. Dice: 0.28779345750808716 Current Avg. Dice: 0.06803152710199356 Current Avg. tumor Dice: 0.05482333153486252 Current Avg. lymph Dice: 0.09346161782741547\n"
     ]
    },
    {
     "name": "stderr",
     "output_type": "stream",
     "text": [
      "Training (8207 / 18000 Steps) (loss=0.59216): 100%|██████████| 76/76 [02:37<00:00,  2.07s/it]\n",
      "Training (8283 / 18000 Steps) (loss=0.54154): 100%|██████████| 76/76 [01:22<00:00,  1.08s/it]\n",
      "Validate (8284 / 10 Steps): 100%|██████████| 22/22 [01:14<00:00,  3.40s/it]<01:01,  1.03s/it]\n",
      "Training (8300 / 18000 Steps) (loss=0.45852):  22%|██▏       | 17/76 [01:35<23:10, 23.56s/it]"
     ]
    },
    {
     "name": "stdout",
     "output_type": "stream",
     "text": [
      "Model Was Not Saved ! Current Best Avg. Dice: 0.28779345750808716 Current Avg. Dice: 0.08677859604358673 Current Avg. tumor Dice: 0.05510415509343147 Current Avg. lymph Dice: 0.13563703000545502\n"
     ]
    },
    {
     "name": "stderr",
     "output_type": "stream",
     "text": [
      "Training (8359 / 18000 Steps) (loss=0.55485): 100%|██████████| 76/76 [02:37<00:00,  2.07s/it]\n",
      "Validate (8360 / 10 Steps): 100%|██████████| 22/22 [01:14<00:00,  3.40s/it]<00:37,  1.03s/it]\n",
      "Training (8400 / 18000 Steps) (loss=0.41803):  54%|█████▍    | 41/76 [02:00<13:44, 23.56s/it]"
     ]
    },
    {
     "name": "stdout",
     "output_type": "stream",
     "text": [
      "Model Was Not Saved ! Current Best Avg. Dice: 0.28779345750808716 Current Avg. Dice: 0.10534171760082245 Current Avg. tumor Dice: 0.07996650785207748 Current Avg. lymph Dice: 0.1451331079006195\n"
     ]
    },
    {
     "name": "stderr",
     "output_type": "stream",
     "text": [
      "Training (8435 / 18000 Steps) (loss=0.54098): 100%|██████████| 76/76 [02:37<00:00,  2.07s/it]\n",
      "Validate (8436 / 10 Steps): 100%|██████████| 22/22 [01:15<00:00,  3.41s/it]<00:12,  1.05s/it]\n",
      "Training (8500 / 18000 Steps) (loss=0.56020):  86%|████████▌ | 65/76 [02:26<04:20, 23.70s/it]"
     ]
    },
    {
     "name": "stdout",
     "output_type": "stream",
     "text": [
      "Model Was Not Saved ! Current Best Avg. Dice: 0.28779345750808716 Current Avg. Dice: 0.10623230785131454 Current Avg. tumor Dice: 0.09814698249101639 Current Avg. lymph Dice: 0.12821923196315765\n"
     ]
    },
    {
     "name": "stderr",
     "output_type": "stream",
     "text": [
      "Training (8511 / 18000 Steps) (loss=0.60920): 100%|██████████| 76/76 [02:38<00:00,  2.08s/it]\n",
      "Training (8587 / 18000 Steps) (loss=0.60526): 100%|██████████| 76/76 [01:23<00:00,  1.09s/it]\n",
      "Validate (8588 / 10 Steps): 100%|██████████| 22/22 [01:15<00:00,  3.41s/it]<01:08,  1.07s/it]\n",
      "Training (8600 / 18000 Steps) (loss=0.50887):  17%|█▋        | 13/76 [01:31<25:00, 23.82s/it]"
     ]
    },
    {
     "name": "stdout",
     "output_type": "stream",
     "text": [
      "Model Was Not Saved ! Current Best Avg. Dice: 0.28779345750808716 Current Avg. Dice: 0.08465120196342468 Current Avg. tumor Dice: 0.05381031334400177 Current Avg. lymph Dice: 0.13024333119392395\n"
     ]
    },
    {
     "name": "stderr",
     "output_type": "stream",
     "text": [
      "Training (8663 / 18000 Steps) (loss=0.58983): 100%|██████████| 76/76 [02:37<00:00,  2.08s/it]\n",
      "Validate (8664 / 10 Steps): 100%|██████████| 22/22 [01:14<00:00,  3.41s/it]<00:43,  1.08s/it]\n",
      "Training (8700 / 18000 Steps) (loss=0.46123):  49%|████▊     | 37/76 [01:56<15:19, 23.57s/it]"
     ]
    },
    {
     "name": "stdout",
     "output_type": "stream",
     "text": [
      "Model Was Not Saved ! Current Best Avg. Dice: 0.28779345750808716 Current Avg. Dice: 0.08767695724964142 Current Avg. tumor Dice: 0.04722210764884949 Current Avg. lymph Dice: 0.14491823315620422\n"
     ]
    },
    {
     "name": "stderr",
     "output_type": "stream",
     "text": [
      "Training (8739 / 18000 Steps) (loss=0.45424): 100%|██████████| 76/76 [02:38<00:00,  2.08s/it]\n",
      "Validate (8740 / 10 Steps): 100%|██████████| 22/22 [01:15<00:00,  3.41s/it]<00:16,  1.06s/it]\n",
      "Training (8800 / 18000 Steps) (loss=0.50010):  80%|████████  | 61/76 [02:22<05:53, 23.60s/it]"
     ]
    },
    {
     "name": "stdout",
     "output_type": "stream",
     "text": [
      "Model Was Not Saved ! Current Best Avg. Dice: 0.28779345750808716 Current Avg. Dice: 0.06329923868179321 Current Avg. tumor Dice: 0.04618797078728676 Current Avg. lymph Dice: 0.09127745032310486\n"
     ]
    },
    {
     "name": "stderr",
     "output_type": "stream",
     "text": [
      "Training (8815 / 18000 Steps) (loss=0.50500): 100%|██████████| 76/76 [02:38<00:00,  2.08s/it]\n",
      "Training (8891 / 18000 Steps) (loss=0.49249): 100%|██████████| 76/76 [01:22<00:00,  1.09s/it]\n",
      "Validate (8892 / 10 Steps): 100%|██████████| 22/22 [01:14<00:00,  3.40s/it]01:14,  1.09s/it]\n",
      "Training (8900 / 18000 Steps) (loss=0.56695):  12%|█▏        | 9/76 [01:26<27:21, 24.50s/it]"
     ]
    },
    {
     "name": "stdout",
     "output_type": "stream",
     "text": [
      "Model Was Not Saved ! Current Best Avg. Dice: 0.28779345750808716 Current Avg. Dice: 0.06080511957406998 Current Avg. tumor Dice: 0.03832976520061493 Current Avg. lymph Dice: 0.09704968333244324\n"
     ]
    },
    {
     "name": "stderr",
     "output_type": "stream",
     "text": [
      "Training (8967 / 18000 Steps) (loss=0.59827): 100%|██████████| 76/76 [02:37<00:00,  2.08s/it]\n",
      "Validate (8968 / 10 Steps): 100%|██████████| 22/22 [01:14<00:00,  3.40s/it]<00:45,  1.03s/it]\n",
      "Training (9000 / 18000 Steps) (loss=0.55171):  43%|████▎     | 33/76 [01:52<16:54, 23.60s/it]"
     ]
    },
    {
     "name": "stdout",
     "output_type": "stream",
     "text": [
      "Model Was Not Saved ! Current Best Avg. Dice: 0.28779345750808716 Current Avg. Dice: 0.05623986944556236 Current Avg. tumor Dice: 0.04300398379564285 Current Avg. lymph Dice: 0.08285461366176605\n"
     ]
    },
    {
     "name": "stderr",
     "output_type": "stream",
     "text": [
      "Training (9043 / 18000 Steps) (loss=0.46559): 100%|██████████| 76/76 [02:37<00:00,  2.07s/it]\n",
      "Validate (9044 / 10 Steps): 100%|██████████| 22/22 [01:14<00:00,  3.41s/it]<00:20,  1.04s/it]\n",
      "Training (9100 / 18000 Steps) (loss=0.43729):  75%|███████▌  | 57/76 [02:17<07:28, 23.61s/it]"
     ]
    },
    {
     "name": "stdout",
     "output_type": "stream",
     "text": [
      "Model Was Not Saved ! Current Best Avg. Dice: 0.28779345750808716 Current Avg. Dice: 0.06541692465543747 Current Avg. tumor Dice: 0.03870149701833725 Current Avg. lymph Dice: 0.10815373808145523\n"
     ]
    },
    {
     "name": "stderr",
     "output_type": "stream",
     "text": [
      "Training (9119 / 18000 Steps) (loss=0.39776): 100%|██████████| 76/76 [02:37<00:00,  2.07s/it]\n",
      "Training (9195 / 18000 Steps) (loss=0.55243): 100%|██████████| 76/76 [01:22<00:00,  1.08s/it]\n",
      "Validate (9196 / 10 Steps): 100%|██████████| 22/22 [01:15<00:00,  3.41s/it]01:38,  1.36s/it]\n",
      "Training (9200 / 18000 Steps) (loss=0.65274):   7%|▋         | 5/76 [01:22<33:32, 28.34s/it]"
     ]
    },
    {
     "name": "stdout",
     "output_type": "stream",
     "text": [
      "Model Was Not Saved ! Current Best Avg. Dice: 0.28779345750808716 Current Avg. Dice: 0.07793590426445007 Current Avg. tumor Dice: 0.048931337893009186 Current Avg. lymph Dice: 0.12567128241062164\n"
     ]
    },
    {
     "name": "stderr",
     "output_type": "stream",
     "text": [
      "Training (9271 / 18000 Steps) (loss=0.36450): 100%|██████████| 76/76 [02:38<00:00,  2.08s/it]\n",
      "Validate (9272 / 10 Steps): 100%|██████████| 22/22 [01:14<00:00,  3.40s/it]<00:50,  1.05s/it]\n",
      "Training (9300 / 18000 Steps) (loss=0.52695):  38%|███▊      | 29/76 [01:48<18:26, 23.53s/it]"
     ]
    },
    {
     "name": "stdout",
     "output_type": "stream",
     "text": [
      "Model Was Not Saved ! Current Best Avg. Dice: 0.28779345750808716 Current Avg. Dice: 0.09360847622156143 Current Avg. tumor Dice: 0.06720976531505585 Current Avg. lymph Dice: 0.1401197463274002\n"
     ]
    },
    {
     "name": "stderr",
     "output_type": "stream",
     "text": [
      "Training (9347 / 18000 Steps) (loss=0.52532): 100%|██████████| 76/76 [02:38<00:00,  2.09s/it]\n",
      "Validate (9348 / 10 Steps): 100%|██████████| 22/22 [01:14<00:00,  3.40s/it]<00:25,  1.06s/it]\n",
      "Training (9400 / 18000 Steps) (loss=0.48681):  70%|██████▉   | 53/76 [02:13<09:00, 23.52s/it]"
     ]
    },
    {
     "name": "stdout",
     "output_type": "stream",
     "text": [
      "Model Was Not Saved ! Current Best Avg. Dice: 0.28779345750808716 Current Avg. Dice: 0.08896985650062561 Current Avg. tumor Dice: 0.0727769285440445 Current Avg. lymph Dice: 0.11957898736000061\n"
     ]
    },
    {
     "name": "stderr",
     "output_type": "stream",
     "text": [
      "Training (9423 / 18000 Steps) (loss=0.50837): 100%|██████████| 76/76 [02:37<00:00,  2.08s/it]\n",
      "Training (9499 / 18000 Steps) (loss=0.50067): 100%|██████████| 76/76 [01:23<00:00,  1.10s/it]\n",
      "Validate (9500 / 10 Steps): 100%|██████████| 22/22 [01:15<00:00,  3.41s/it]?, ?it/s]\n",
      "Training (9500 / 18000 Steps) (loss=0.52647):   1%|▏         | 1/76 [01:19<1:39:00, 79.21s/it]"
     ]
    },
    {
     "name": "stdout",
     "output_type": "stream",
     "text": [
      "Model Was Not Saved ! Current Best Avg. Dice: 0.28779345750808716 Current Avg. Dice: 0.07288429886102676 Current Avg. tumor Dice: 0.05468978360295296 Current Avg. lymph Dice: 0.10549162328243256\n"
     ]
    },
    {
     "name": "stderr",
     "output_type": "stream",
     "text": [
      "Training (9575 / 18000 Steps) (loss=0.50869): 100%|██████████| 76/76 [02:37<00:00,  2.07s/it] \n",
      "Validate (9576 / 10 Steps): 100%|██████████| 22/22 [01:14<00:00,  3.39s/it]<00:53,  1.03s/it]\n",
      "Training (9600 / 18000 Steps) (loss=0.51148):  33%|███▎      | 25/76 [01:43<19:55, 23.44s/it]"
     ]
    },
    {
     "name": "stdout",
     "output_type": "stream",
     "text": [
      "Model Was Not Saved ! Current Best Avg. Dice: 0.28779345750808716 Current Avg. Dice: 0.07225101441144943 Current Avg. tumor Dice: 0.06249242648482323 Current Avg. lymph Dice: 0.09568304568529129\n"
     ]
    },
    {
     "name": "stderr",
     "output_type": "stream",
     "text": [
      "Training (9651 / 18000 Steps) (loss=0.52021): 100%|██████████| 76/76 [02:37<00:00,  2.07s/it]\n",
      "Validate (9652 / 10 Steps): 100%|██████████| 22/22 [01:15<00:00,  3.42s/it]<00:29,  1.04s/it]\n",
      "Training (9700 / 18000 Steps) (loss=0.44863):  64%|██████▍   | 49/76 [02:09<10:39, 23.70s/it]"
     ]
    },
    {
     "name": "stdout",
     "output_type": "stream",
     "text": [
      "Model Was Not Saved ! Current Best Avg. Dice: 0.28779345750808716 Current Avg. Dice: 0.07842817902565002 Current Avg. tumor Dice: 0.059641044586896896 Current Avg. lymph Dice: 0.11107584834098816\n"
     ]
    },
    {
     "name": "stderr",
     "output_type": "stream",
     "text": [
      "Training (9727 / 18000 Steps) (loss=0.61708): 100%|██████████| 76/76 [02:37<00:00,  2.08s/it]\n",
      "Validate (9728 / 10 Steps): 100%|██████████| 22/22 [01:15<00:00,  3.42s/it]<00:04,  1.04s/it]\n",
      "Training (9800 / 18000 Steps) (loss=0.50298):  96%|█████████▌| 73/76 [02:34<01:10, 23.63s/it]"
     ]
    },
    {
     "name": "stdout",
     "output_type": "stream",
     "text": [
      "Model Was Not Saved ! Current Best Avg. Dice: 0.28779345750808716 Current Avg. Dice: 0.06682078540325165 Current Avg. tumor Dice: 0.05269065499305725 Current Avg. lymph Dice: 0.09296571463346481\n"
     ]
    },
    {
     "name": "stderr",
     "output_type": "stream",
     "text": [
      "Training (9803 / 18000 Steps) (loss=0.53363): 100%|██████████| 76/76 [02:37<00:00,  2.08s/it]\n",
      "Training (9879 / 18000 Steps) (loss=0.55943): 100%|██████████| 76/76 [01:22<00:00,  1.09s/it]\n",
      "Validate (9880 / 10 Steps): 100%|██████████| 22/22 [01:15<00:00,  3.41s/it]<01:00,  1.07s/it]\n",
      "Training (9900 / 18000 Steps) (loss=0.40062):  28%|██▊       | 21/76 [01:39<21:39, 23.62s/it]"
     ]
    },
    {
     "name": "stdout",
     "output_type": "stream",
     "text": [
      "Model Was Not Saved ! Current Best Avg. Dice: 0.28779345750808716 Current Avg. Dice: 0.10380420088768005 Current Avg. tumor Dice: 0.08227722346782684 Current Avg. lymph Dice: 0.14377112686634064\n"
     ]
    },
    {
     "name": "stderr",
     "output_type": "stream",
     "text": [
      "Training (9955 / 18000 Steps) (loss=0.51778): 100%|██████████| 76/76 [02:37<00:00,  2.08s/it]\n",
      "Validate (9956 / 10 Steps): 100%|██████████| 22/22 [01:15<00:00,  3.42s/it]0<00:33,  1.05s/it]\n",
      "Training (10000 / 18000 Steps) (loss=0.60985):  59%|█████▉    | 45/76 [02:05<12:13, 23.67s/it]"
     ]
    },
    {
     "name": "stdout",
     "output_type": "stream",
     "text": [
      "Model Was Not Saved ! Current Best Avg. Dice: 0.28779345750808716 Current Avg. Dice: 0.06965640187263489 Current Avg. tumor Dice: 0.040308114141225815 Current Avg. lymph Dice: 0.11199548840522766\n"
     ]
    },
    {
     "name": "stderr",
     "output_type": "stream",
     "text": [
      "Training (10031 / 18000 Steps) (loss=0.41701): 100%|██████████| 76/76 [02:38<00:00,  2.08s/it]\n",
      "Validate (10032 / 10 Steps): 100%|██████████| 22/22 [01:15<00:00,  3.41s/it]<00:08,  1.06s/it]\n",
      "Training (10100 / 18000 Steps) (loss=0.58049):  91%|█████████ | 69/76 [02:30<02:45, 23.57s/it]"
     ]
    },
    {
     "name": "stdout",
     "output_type": "stream",
     "text": [
      "Model Was Not Saved ! Current Best Avg. Dice: 0.28779345750808716 Current Avg. Dice: 0.05791179835796356 Current Avg. tumor Dice: 0.029527295380830765 Current Avg. lymph Dice: 0.10223737359046936\n"
     ]
    },
    {
     "name": "stderr",
     "output_type": "stream",
     "text": [
      "Training (10107 / 18000 Steps) (loss=0.48773): 100%|██████████| 76/76 [02:37<00:00,  2.08s/it]\n",
      "Training (10183 / 18000 Steps) (loss=0.47150): 100%|██████████| 76/76 [01:23<00:00,  1.09s/it]\n",
      "Validate (10184 / 10 Steps): 100%|██████████| 22/22 [01:14<00:00,  3.40s/it]<01:02,  1.03s/it]\n",
      "Training (10200 / 18000 Steps) (loss=0.54189):  22%|██▏       | 17/76 [01:35<23:11, 23.58s/it]"
     ]
    },
    {
     "name": "stdout",
     "output_type": "stream",
     "text": [
      "Model Was Not Saved ! Current Best Avg. Dice: 0.28779345750808716 Current Avg. Dice: 0.0922236442565918 Current Avg. tumor Dice: 0.09130226075649261 Current Avg. lymph Dice: 0.10918447375297546\n"
     ]
    },
    {
     "name": "stderr",
     "output_type": "stream",
     "text": [
      "Training (10259 / 18000 Steps) (loss=0.52157): 100%|██████████| 76/76 [02:37<00:00,  2.08s/it]\n",
      "Validate (10260 / 10 Steps): 100%|██████████| 22/22 [01:15<00:00,  3.41s/it]<00:37,  1.05s/it]\n",
      "Training (10300 / 18000 Steps) (loss=0.49590):  54%|█████▍    | 41/76 [02:01<13:46, 23.61s/it]"
     ]
    },
    {
     "name": "stdout",
     "output_type": "stream",
     "text": [
      "Model Was Not Saved ! Current Best Avg. Dice: 0.28779345750808716 Current Avg. Dice: 0.09536047279834747 Current Avg. tumor Dice: 0.08226722478866577 Current Avg. lymph Dice: 0.12610012292861938\n"
     ]
    },
    {
     "name": "stderr",
     "output_type": "stream",
     "text": [
      "Training (10335 / 18000 Steps) (loss=0.54438): 100%|██████████| 76/76 [02:38<00:00,  2.08s/it]\n",
      "Validate (10336 / 10 Steps): 100%|██████████| 22/22 [01:15<00:00,  3.42s/it]<00:12,  1.04s/it]\n",
      "Training (10400 / 18000 Steps) (loss=0.37370):  86%|████████▌ | 65/76 [02:27<04:19, 23.63s/it]"
     ]
    },
    {
     "name": "stdout",
     "output_type": "stream",
     "text": [
      "Model Was Not Saved ! Current Best Avg. Dice: 0.28779345750808716 Current Avg. Dice: 0.07512959092855453 Current Avg. tumor Dice: 0.07058624178171158 Current Avg. lymph Dice: 0.09398261457681656\n"
     ]
    },
    {
     "name": "stderr",
     "output_type": "stream",
     "text": [
      "Training (10411 / 18000 Steps) (loss=0.41797): 100%|██████████| 76/76 [02:39<00:00,  2.09s/it]\n",
      "Training (10487 / 18000 Steps) (loss=0.57407): 100%|██████████| 76/76 [01:23<00:00,  1.10s/it]\n",
      "Validate (10488 / 10 Steps): 100%|██████████| 22/22 [01:15<00:00,  3.41s/it]<01:08,  1.06s/it]\n",
      "Training (10500 / 18000 Steps) (loss=0.49566):  17%|█▋        | 13/76 [01:31<25:00, 23.81s/it]"
     ]
    },
    {
     "name": "stdout",
     "output_type": "stream",
     "text": [
      "Model Was Not Saved ! Current Best Avg. Dice: 0.28779345750808716 Current Avg. Dice: 0.07752999663352966 Current Avg. tumor Dice: 0.07286474853754044 Current Avg. lymph Dice: 0.09488838165998459\n"
     ]
    },
    {
     "name": "stderr",
     "output_type": "stream",
     "text": [
      "Training (10563 / 18000 Steps) (loss=0.63052): 100%|██████████| 76/76 [02:38<00:00,  2.08s/it]\n",
      "Validate (10564 / 10 Steps): 100%|██████████| 22/22 [01:14<00:00,  3.40s/it]<00:41,  1.05s/it]\n",
      "Training (10600 / 18000 Steps) (loss=0.48322):  49%|████▊     | 37/76 [01:56<15:16, 23.49s/it]"
     ]
    },
    {
     "name": "stdout",
     "output_type": "stream",
     "text": [
      "Model Was Not Saved ! Current Best Avg. Dice: 0.28779345750808716 Current Avg. Dice: 0.08885986357927322 Current Avg. tumor Dice: 0.0770978182554245 Current Avg. lymph Dice: 0.11452417820692062\n"
     ]
    },
    {
     "name": "stderr",
     "output_type": "stream",
     "text": [
      "Training (10639 / 18000 Steps) (loss=0.47689): 100%|██████████| 76/76 [02:37<00:00,  2.07s/it]\n",
      "Validate (10640 / 10 Steps): 100%|██████████| 22/22 [01:15<00:00,  3.42s/it]<00:16,  1.05s/it]\n",
      "Training (10700 / 18000 Steps) (loss=0.50481):  80%|████████  | 61/76 [02:22<05:54, 23.62s/it]"
     ]
    },
    {
     "name": "stdout",
     "output_type": "stream",
     "text": [
      "Model Was Not Saved ! Current Best Avg. Dice: 0.28779345750808716 Current Avg. Dice: 0.06406796723604202 Current Avg. tumor Dice: 0.04410502314567566 Current Avg. lymph Dice: 0.10058519244194031\n"
     ]
    },
    {
     "name": "stderr",
     "output_type": "stream",
     "text": [
      "Training (10715 / 18000 Steps) (loss=0.49056): 100%|██████████| 76/76 [02:38<00:00,  2.08s/it]\n",
      "Training (10791 / 18000 Steps) (loss=0.59328): 100%|██████████| 76/76 [01:23<00:00,  1.10s/it]\n",
      "Validate (10792 / 10 Steps): 100%|██████████| 22/22 [01:15<00:00,  3.42s/it]01:15,  1.10s/it]\n",
      "Training (10800 / 18000 Steps) (loss=0.45693):  12%|█▏        | 9/76 [01:27<27:32, 24.66s/it]"
     ]
    },
    {
     "name": "stdout",
     "output_type": "stream",
     "text": [
      "Model Was Not Saved ! Current Best Avg. Dice: 0.28779345750808716 Current Avg. Dice: 0.03629191219806671 Current Avg. tumor Dice: 0.018147651106119156 Current Avg. lymph Dice: 0.06615184992551804\n"
     ]
    },
    {
     "name": "stderr",
     "output_type": "stream",
     "text": [
      "Training (10867 / 18000 Steps) (loss=0.62328): 100%|██████████| 76/76 [02:38<00:00,  2.08s/it]\n",
      "Validate (10868 / 10 Steps): 100%|██████████| 22/22 [01:15<00:00,  3.41s/it]<00:45,  1.04s/it]\n",
      "Training (10900 / 18000 Steps) (loss=0.47006):  43%|████▎     | 33/76 [01:52<16:58, 23.67s/it]"
     ]
    },
    {
     "name": "stdout",
     "output_type": "stream",
     "text": [
      "Model Was Not Saved ! Current Best Avg. Dice: 0.28779345750808716 Current Avg. Dice: 0.07205382734537125 Current Avg. tumor Dice: 0.054887883365154266 Current Avg. lymph Dice: 0.10871649533510208\n"
     ]
    },
    {
     "name": "stderr",
     "output_type": "stream",
     "text": [
      "Training (10943 / 18000 Steps) (loss=0.51398): 100%|██████████| 76/76 [02:38<00:00,  2.08s/it]\n",
      "Validate (10944 / 10 Steps): 100%|██████████| 22/22 [01:15<00:00,  3.42s/it]<00:20,  1.05s/it]\n",
      "Training (11000 / 18000 Steps) (loss=0.57600):  75%|███████▌  | 57/76 [02:18<07:30, 23.71s/it]"
     ]
    },
    {
     "name": "stdout",
     "output_type": "stream",
     "text": [
      "Model Was Not Saved ! Current Best Avg. Dice: 0.28779345750808716 Current Avg. Dice: 0.07104253023862839 Current Avg. tumor Dice: 0.052632614970207214 Current Avg. lymph Dice: 0.10839930176734924\n"
     ]
    },
    {
     "name": "stderr",
     "output_type": "stream",
     "text": [
      "Training (11019 / 18000 Steps) (loss=0.54702): 100%|██████████| 76/76 [02:38<00:00,  2.09s/it]\n",
      "Training (11095 / 18000 Steps) (loss=0.50632): 100%|██████████| 76/76 [01:22<00:00,  1.09s/it]\n",
      "Validate (11096 / 10 Steps): 100%|██████████| 22/22 [01:15<00:00,  3.42s/it]01:41,  1.40s/it]\n",
      "Training (11100 / 18000 Steps) (loss=0.40796):   7%|▋         | 5/76 [01:23<33:36, 28.41s/it]"
     ]
    },
    {
     "name": "stdout",
     "output_type": "stream",
     "text": [
      "Model Was Not Saved ! Current Best Avg. Dice: 0.28779345750808716 Current Avg. Dice: 0.05256696790456772 Current Avg. tumor Dice: 0.0252380333840847 Current Avg. lymph Dice: 0.09424157440662384\n"
     ]
    },
    {
     "name": "stderr",
     "output_type": "stream",
     "text": [
      "Training (11171 / 18000 Steps) (loss=0.54904): 100%|██████████| 76/76 [02:38<00:00,  2.09s/it]\n",
      "Validate (11172 / 10 Steps): 100%|██████████| 22/22 [01:15<00:00,  3.41s/it]<00:52,  1.10s/it]\n",
      "Training (11200 / 18000 Steps) (loss=0.51916):  38%|███▊      | 29/76 [01:48<18:29, 23.60s/it]"
     ]
    },
    {
     "name": "stdout",
     "output_type": "stream",
     "text": [
      "Model Was Not Saved ! Current Best Avg. Dice: 0.28779345750808716 Current Avg. Dice: 0.06848471611738205 Current Avg. tumor Dice: 0.06783350557088852 Current Avg. lymph Dice: 0.08473619818687439\n"
     ]
    },
    {
     "name": "stderr",
     "output_type": "stream",
     "text": [
      "Training (11247 / 18000 Steps) (loss=0.52984): 100%|██████████| 76/76 [02:38<00:00,  2.08s/it]\n",
      "Validate (11248 / 10 Steps): 100%|██████████| 22/22 [01:14<00:00,  3.40s/it]<00:26,  1.09s/it]\n",
      "Training (11300 / 18000 Steps) (loss=0.50637):  70%|██████▉   | 53/76 [02:13<09:00, 23.49s/it]"
     ]
    },
    {
     "name": "stdout",
     "output_type": "stream",
     "text": [
      "Model Was Not Saved ! Current Best Avg. Dice: 0.28779345750808716 Current Avg. Dice: 0.06568185985088348 Current Avg. tumor Dice: 0.06021880358457565 Current Avg. lymph Dice: 0.08522161841392517\n"
     ]
    },
    {
     "name": "stderr",
     "output_type": "stream",
     "text": [
      "Training (11323 / 18000 Steps) (loss=0.55435): 100%|██████████| 76/76 [02:37<00:00,  2.07s/it]\n",
      "Training (11399 / 18000 Steps) (loss=0.42243): 100%|██████████| 76/76 [01:23<00:00,  1.09s/it]\n",
      "Validate (11400 / 10 Steps): 100%|██████████| 22/22 [01:14<00:00,  3.39s/it]?, ?it/s]\n",
      "Training (11400 / 18000 Steps) (loss=0.44427):   1%|▏         | 1/76 [01:18<1:37:38, 78.11s/it]"
     ]
    },
    {
     "name": "stdout",
     "output_type": "stream",
     "text": [
      "Model Was Not Saved ! Current Best Avg. Dice: 0.28779345750808716 Current Avg. Dice: 0.054512545466423035 Current Avg. tumor Dice: 0.032292310148477554 Current Avg. lymph Dice: 0.09150636941194534\n"
     ]
    },
    {
     "name": "stderr",
     "output_type": "stream",
     "text": [
      "Training (11475 / 18000 Steps) (loss=0.43819): 100%|██████████| 76/76 [02:36<00:00,  2.06s/it] \n",
      "Validate (11476 / 10 Steps): 100%|██████████| 22/22 [01:14<00:00,  3.39s/it]<00:53,  1.03s/it]\n",
      "Training (11500 / 18000 Steps) (loss=0.52504):  33%|███▎      | 25/76 [01:43<19:57, 23.48s/it]"
     ]
    },
    {
     "name": "stdout",
     "output_type": "stream",
     "text": [
      "Model Was Not Saved ! Current Best Avg. Dice: 0.28779345750808716 Current Avg. Dice: 0.05672701820731163 Current Avg. tumor Dice: 0.03770963475108147 Current Avg. lymph Dice: 0.09193405508995056\n"
     ]
    },
    {
     "name": "stderr",
     "output_type": "stream",
     "text": [
      "Training (11551 / 18000 Steps) (loss=0.63010): 100%|██████████| 76/76 [02:36<00:00,  2.06s/it]\n",
      "Validate (11552 / 10 Steps): 100%|██████████| 22/22 [01:14<00:00,  3.38s/it]<00:28,  1.03s/it]\n",
      "Training (11600 / 18000 Steps) (loss=0.57294):  64%|██████▍   | 49/76 [02:08<10:30, 23.36s/it]"
     ]
    },
    {
     "name": "stdout",
     "output_type": "stream",
     "text": [
      "Model Was Not Saved ! Current Best Avg. Dice: 0.28779345750808716 Current Avg. Dice: 0.0727536678314209 Current Avg. tumor Dice: 0.046682316809892654 Current Avg. lymph Dice: 0.11889196932315826\n"
     ]
    },
    {
     "name": "stderr",
     "output_type": "stream",
     "text": [
      "Training (11627 / 18000 Steps) (loss=0.61230): 100%|██████████| 76/76 [02:36<00:00,  2.06s/it]\n",
      "Validate (11628 / 10 Steps): 100%|██████████| 22/22 [01:14<00:00,  3.40s/it]<00:04,  1.03s/it]\n",
      "Training (11700 / 18000 Steps) (loss=0.50440):  96%|█████████▌| 73/76 [02:33<01:10, 23.55s/it]"
     ]
    },
    {
     "name": "stdout",
     "output_type": "stream",
     "text": [
      "Model Was Not Saved ! Current Best Avg. Dice: 0.28779345750808716 Current Avg. Dice: 0.06272444874048233 Current Avg. tumor Dice: 0.048174403607845306 Current Avg. lymph Dice: 0.09502876549959183\n"
     ]
    },
    {
     "name": "stderr",
     "output_type": "stream",
     "text": [
      "Training (11703 / 18000 Steps) (loss=0.46500): 100%|██████████| 76/76 [02:36<00:00,  2.07s/it]\n",
      "Training (11779 / 18000 Steps) (loss=0.56893): 100%|██████████| 76/76 [01:22<00:00,  1.09s/it]\n",
      "Validate (11780 / 10 Steps): 100%|██████████| 22/22 [01:14<00:00,  3.41s/it]<00:59,  1.06s/it]\n",
      "Training (11800 / 18000 Steps) (loss=0.57429):  28%|██▊       | 21/76 [01:39<21:36, 23.58s/it]"
     ]
    },
    {
     "name": "stdout",
     "output_type": "stream",
     "text": [
      "Model Was Not Saved ! Current Best Avg. Dice: 0.28779345750808716 Current Avg. Dice: 0.047465577721595764 Current Avg. tumor Dice: 0.025268759578466415 Current Avg. lymph Dice: 0.08266619592905045\n"
     ]
    },
    {
     "name": "stderr",
     "output_type": "stream",
     "text": [
      "Training (11855 / 18000 Steps) (loss=0.55094): 100%|██████████| 76/76 [02:38<00:00,  2.08s/it]\n",
      "Validate (11856 / 10 Steps): 100%|██████████| 22/22 [01:14<00:00,  3.40s/it]<00:33,  1.05s/it]\n",
      "Training (11900 / 18000 Steps) (loss=0.45100):  59%|█████▉    | 45/76 [02:04<12:08, 23.50s/it]"
     ]
    },
    {
     "name": "stdout",
     "output_type": "stream",
     "text": [
      "Model Was Not Saved ! Current Best Avg. Dice: 0.28779345750808716 Current Avg. Dice: 0.0724487230181694 Current Avg. tumor Dice: 0.037572961300611496 Current Avg. lymph Dice: 0.12740013003349304\n"
     ]
    },
    {
     "name": "stderr",
     "output_type": "stream",
     "text": [
      "Training (11931 / 18000 Steps) (loss=0.46178): 100%|██████████| 76/76 [02:37<00:00,  2.07s/it]\n",
      "Validate (11932 / 10 Steps): 100%|██████████| 22/22 [01:15<00:00,  3.41s/it]<00:08,  1.05s/it]\n",
      "Training (12000 / 18000 Steps) (loss=0.55556):  91%|█████████ | 69/76 [02:30<02:44, 23.57s/it]"
     ]
    },
    {
     "name": "stdout",
     "output_type": "stream",
     "text": [
      "Model Was Not Saved ! Current Best Avg. Dice: 0.28779345750808716 Current Avg. Dice: 0.032673921436071396 Current Avg. tumor Dice: 0.027852365747094154 Current Avg. lymph Dice: 0.046150047332048416\n"
     ]
    },
    {
     "name": "stderr",
     "output_type": "stream",
     "text": [
      "Training (12007 / 18000 Steps) (loss=0.56894): 100%|██████████| 76/76 [02:37<00:00,  2.07s/it]\n",
      "Training (12083 / 18000 Steps) (loss=0.51796): 100%|██████████| 76/76 [01:22<00:00,  1.09s/it]\n",
      "Validate (12084 / 10 Steps): 100%|██████████| 22/22 [01:14<00:00,  3.39s/it]<01:03,  1.05s/it]\n",
      "Training (12100 / 18000 Steps) (loss=0.59040):  22%|██▏       | 17/76 [01:35<23:09, 23.55s/it]"
     ]
    },
    {
     "name": "stdout",
     "output_type": "stream",
     "text": [
      "Model Was Not Saved ! Current Best Avg. Dice: 0.28779345750808716 Current Avg. Dice: 0.04487878456711769 Current Avg. tumor Dice: 0.02692543901503086 Current Avg. lymph Dice: 0.07660582661628723\n"
     ]
    },
    {
     "name": "stderr",
     "output_type": "stream",
     "text": [
      "Training (12159 / 18000 Steps) (loss=0.30641): 100%|██████████| 76/76 [02:37<00:00,  2.07s/it]\n",
      "Validate (12160 / 10 Steps): 100%|██████████| 22/22 [01:14<00:00,  3.40s/it]<00:36,  1.03s/it]\n",
      "Training (12200 / 18000 Steps) (loss=0.48875):  54%|█████▍    | 41/76 [02:00<13:42, 23.49s/it]"
     ]
    },
    {
     "name": "stdout",
     "output_type": "stream",
     "text": [
      "Model Was Not Saved ! Current Best Avg. Dice: 0.28779345750808716 Current Avg. Dice: 0.029572518542408943 Current Avg. tumor Dice: 0.016865689307451248 Current Avg. lymph Dice: 0.05189334601163864\n"
     ]
    },
    {
     "name": "stderr",
     "output_type": "stream",
     "text": [
      "Training (12235 / 18000 Steps) (loss=0.52198): 100%|██████████| 76/76 [02:37<00:00,  2.08s/it]\n",
      "Validate (12236 / 10 Steps): 100%|██████████| 22/22 [01:14<00:00,  3.41s/it]<00:12,  1.04s/it]\n",
      "Training (12300 / 18000 Steps) (loss=0.43198):  86%|████████▌ | 65/76 [02:26<04:19, 23.55s/it]"
     ]
    },
    {
     "name": "stdout",
     "output_type": "stream",
     "text": [
      "Model Was Not Saved ! Current Best Avg. Dice: 0.28779345750808716 Current Avg. Dice: 0.05349067598581314 Current Avg. tumor Dice: 0.03366690129041672 Current Avg. lymph Dice: 0.08817633241415024\n"
     ]
    },
    {
     "name": "stderr",
     "output_type": "stream",
     "text": [
      "Training (12311 / 18000 Steps) (loss=0.60779): 100%|██████████| 76/76 [02:37<00:00,  2.08s/it]\n",
      "Training (12387 / 18000 Steps) (loss=0.47215): 100%|██████████| 76/76 [01:22<00:00,  1.09s/it]\n",
      "Validate (12388 / 10 Steps): 100%|██████████| 22/22 [01:14<00:00,  3.40s/it]<01:08,  1.07s/it]\n",
      "Training (12400 / 18000 Steps) (loss=0.57160):  17%|█▋        | 13/76 [01:30<24:53, 23.71s/it]"
     ]
    },
    {
     "name": "stdout",
     "output_type": "stream",
     "text": [
      "Model Was Not Saved ! Current Best Avg. Dice: 0.28779345750808716 Current Avg. Dice: 0.06975910812616348 Current Avg. tumor Dice: 0.05215325951576233 Current Avg. lymph Dice: 0.10510000586509705\n"
     ]
    },
    {
     "name": "stderr",
     "output_type": "stream",
     "text": [
      "Training (12463 / 18000 Steps) (loss=0.55501): 100%|██████████| 76/76 [02:37<00:00,  2.07s/it]\n",
      "Validate (12464 / 10 Steps): 100%|██████████| 22/22 [01:14<00:00,  3.40s/it]<00:41,  1.05s/it]\n",
      "Training (12500 / 18000 Steps) (loss=0.58983):  49%|████▊     | 37/76 [01:56<15:16, 23.50s/it]"
     ]
    },
    {
     "name": "stdout",
     "output_type": "stream",
     "text": [
      "Model Was Not Saved ! Current Best Avg. Dice: 0.28779345750808716 Current Avg. Dice: 0.048098884522914886 Current Avg. tumor Dice: 0.03213116154074669 Current Avg. lymph Dice: 0.07896558940410614\n"
     ]
    },
    {
     "name": "stderr",
     "output_type": "stream",
     "text": [
      "Training (12539 / 18000 Steps) (loss=0.51803): 100%|██████████| 76/76 [02:37<00:00,  2.07s/it]\n",
      "Validate (12540 / 10 Steps): 100%|██████████| 22/22 [01:14<00:00,  3.40s/it]<00:16,  1.06s/it]\n",
      "Training (12600 / 18000 Steps) (loss=0.60101):  80%|████████  | 61/76 [02:22<05:52, 23.52s/it]"
     ]
    },
    {
     "name": "stdout",
     "output_type": "stream",
     "text": [
      "Model Was Not Saved ! Current Best Avg. Dice: 0.28779345750808716 Current Avg. Dice: 0.04266504943370819 Current Avg. tumor Dice: 0.02526676096022129 Current Avg. lymph Dice: 0.07382620871067047\n"
     ]
    },
    {
     "name": "stderr",
     "output_type": "stream",
     "text": [
      "Training (12615 / 18000 Steps) (loss=0.42647): 100%|██████████| 76/76 [02:37<00:00,  2.08s/it]\n",
      "Training (12691 / 18000 Steps) (loss=0.57682): 100%|██████████| 76/76 [01:22<00:00,  1.08s/it]\n",
      "Validate (12692 / 10 Steps): 100%|██████████| 22/22 [01:14<00:00,  3.41s/it]01:13,  1.09s/it]\n",
      "Training (12700 / 18000 Steps) (loss=0.45733):  12%|█▏        | 9/76 [01:26<27:27, 24.58s/it]"
     ]
    },
    {
     "name": "stdout",
     "output_type": "stream",
     "text": [
      "Model Was Not Saved ! Current Best Avg. Dice: 0.28779345750808716 Current Avg. Dice: 0.06671875715255737 Current Avg. tumor Dice: 0.0410282276570797 Current Avg. lymph Dice: 0.11227929592132568\n"
     ]
    },
    {
     "name": "stderr",
     "output_type": "stream",
     "text": [
      "Training (12767 / 18000 Steps) (loss=0.57937): 100%|██████████| 76/76 [02:37<00:00,  2.08s/it]\n",
      "Validate (12768 / 10 Steps): 100%|██████████| 22/22 [01:14<00:00,  3.40s/it]<00:45,  1.04s/it]\n",
      "Training (12800 / 18000 Steps) (loss=0.54053):  43%|████▎     | 33/76 [01:52<16:54, 23.58s/it]"
     ]
    },
    {
     "name": "stdout",
     "output_type": "stream",
     "text": [
      "Model Was Not Saved ! Current Best Avg. Dice: 0.28779345750808716 Current Avg. Dice: 0.05379464477300644 Current Avg. tumor Dice: 0.02774979919195175 Current Avg. lymph Dice: 0.09665390849113464\n"
     ]
    },
    {
     "name": "stderr",
     "output_type": "stream",
     "text": [
      "Training (12843 / 18000 Steps) (loss=0.48045): 100%|██████████| 76/76 [02:37<00:00,  2.07s/it]\n",
      "Validate (12844 / 10 Steps): 100%|██████████| 22/22 [01:14<00:00,  3.41s/it]<00:20,  1.05s/it]\n",
      "Training (12900 / 18000 Steps) (loss=0.58444):  75%|███████▌  | 57/76 [02:18<07:29, 23.65s/it]"
     ]
    },
    {
     "name": "stdout",
     "output_type": "stream",
     "text": [
      "Model Was Not Saved ! Current Best Avg. Dice: 0.28779345750808716 Current Avg. Dice: 0.060841988772153854 Current Avg. tumor Dice: 0.046048443764448166 Current Avg. lymph Dice: 0.09384611248970032\n"
     ]
    },
    {
     "name": "stderr",
     "output_type": "stream",
     "text": [
      "Training (12919 / 18000 Steps) (loss=0.52071): 100%|██████████| 76/76 [02:38<00:00,  2.08s/it]\n",
      "Training (12995 / 18000 Steps) (loss=0.48335): 100%|██████████| 76/76 [01:23<00:00,  1.09s/it]\n",
      "Validate (12996 / 10 Steps): 100%|██████████| 22/22 [01:15<00:00,  3.42s/it]01:40,  1.39s/it]\n",
      "Training (13000 / 18000 Steps) (loss=0.43150):   7%|▋         | 5/76 [01:22<33:34, 28.37s/it]"
     ]
    },
    {
     "name": "stdout",
     "output_type": "stream",
     "text": [
      "Model Was Not Saved ! Current Best Avg. Dice: 0.28779345750808716 Current Avg. Dice: 0.056905344128608704 Current Avg. tumor Dice: 0.04431648552417755 Current Avg. lymph Dice: 0.08608504384756088\n"
     ]
    },
    {
     "name": "stderr",
     "output_type": "stream",
     "text": [
      "Training (13071 / 18000 Steps) (loss=0.52332): 100%|██████████| 76/76 [02:38<00:00,  2.08s/it]\n",
      "Validate (13072 / 10 Steps): 100%|██████████| 22/22 [01:15<00:00,  3.41s/it]<00:50,  1.06s/it]\n",
      "Training (13100 / 18000 Steps) (loss=0.58168):  38%|███▊      | 29/76 [01:48<18:28, 23.58s/it]"
     ]
    },
    {
     "name": "stdout",
     "output_type": "stream",
     "text": [
      "Model Was Not Saved ! Current Best Avg. Dice: 0.28779345750808716 Current Avg. Dice: 0.033731356263160706 Current Avg. tumor Dice: 0.013195140287280083 Current Avg. lymph Dice: 0.06611970067024231\n"
     ]
    },
    {
     "name": "stderr",
     "output_type": "stream",
     "text": [
      "Training (13147 / 18000 Steps) (loss=0.49184): 100%|██████████| 76/76 [02:38<00:00,  2.09s/it]\n",
      "Validate (13148 / 10 Steps): 100%|██████████| 22/22 [01:14<00:00,  3.41s/it]<00:25,  1.06s/it]\n",
      "Training (13200 / 18000 Steps) (loss=0.43494):  70%|██████▉   | 53/76 [02:12<09:01, 23.54s/it]"
     ]
    },
    {
     "name": "stdout",
     "output_type": "stream",
     "text": [
      "Model Was Not Saved ! Current Best Avg. Dice: 0.28779345750808716 Current Avg. Dice: 0.059664271771907806 Current Avg. tumor Dice: 0.04545798897743225 Current Avg. lymph Dice: 0.08933017402887344\n"
     ]
    },
    {
     "name": "stderr",
     "output_type": "stream",
     "text": [
      "Training (13223 / 18000 Steps) (loss=0.59751): 100%|██████████| 76/76 [02:37<00:00,  2.07s/it]\n",
      "Training (13299 / 18000 Steps) (loss=0.46630): 100%|██████████| 76/76 [01:22<00:00,  1.09s/it]\n",
      "Validate (13300 / 10 Steps): 100%|██████████| 22/22 [01:15<00:00,  3.41s/it]?, ?it/s]\n",
      "Training (13300 / 18000 Steps) (loss=0.48169):   1%|▏         | 1/76 [01:18<1:38:16, 78.63s/it]"
     ]
    },
    {
     "name": "stdout",
     "output_type": "stream",
     "text": [
      "Model Was Not Saved ! Current Best Avg. Dice: 0.28779345750808716 Current Avg. Dice: 0.05171900615096092 Current Avg. tumor Dice: 0.02541234903037548 Current Avg. lymph Dice: 0.09413886070251465\n"
     ]
    },
    {
     "name": "stderr",
     "output_type": "stream",
     "text": [
      "Training (13375 / 18000 Steps) (loss=0.43813): 100%|██████████| 76/76 [02:37<00:00,  2.07s/it] \n",
      "Validate (13376 / 10 Steps): 100%|██████████| 22/22 [01:14<00:00,  3.40s/it]<00:53,  1.03s/it]\n",
      "Training (13400 / 18000 Steps) (loss=0.54080):  33%|███▎      | 25/76 [01:43<19:58, 23.49s/it]"
     ]
    },
    {
     "name": "stdout",
     "output_type": "stream",
     "text": [
      "Model Was Not Saved ! Current Best Avg. Dice: 0.28779345750808716 Current Avg. Dice: 0.05710070952773094 Current Avg. tumor Dice: 0.042031023651361465 Current Avg. lymph Dice: 0.08792166411876678\n"
     ]
    },
    {
     "name": "stderr",
     "output_type": "stream",
     "text": [
      "Training (13451 / 18000 Steps) (loss=0.55948): 100%|██████████| 76/76 [02:37<00:00,  2.08s/it]\n",
      "Validate (13452 / 10 Steps): 100%|██████████| 22/22 [01:14<00:00,  3.41s/it]<00:28,  1.03s/it]\n",
      "Training (13500 / 18000 Steps) (loss=0.44747):  64%|██████▍   | 49/76 [02:09<10:35, 23.53s/it]"
     ]
    },
    {
     "name": "stdout",
     "output_type": "stream",
     "text": [
      "Model Was Not Saved ! Current Best Avg. Dice: 0.28779345750808716 Current Avg. Dice: 0.04939638450741768 Current Avg. tumor Dice: 0.029603691771626472 Current Avg. lymph Dice: 0.08444224298000336\n"
     ]
    },
    {
     "name": "stderr",
     "output_type": "stream",
     "text": [
      "Training (13527 / 18000 Steps) (loss=0.53310): 100%|██████████| 76/76 [02:38<00:00,  2.08s/it]\n",
      "Validate (13528 / 10 Steps): 100%|██████████| 22/22 [01:14<00:00,  3.40s/it]<00:04,  1.03s/it]\n",
      "Training (13600 / 18000 Steps) (loss=0.51655):  96%|█████████▌| 73/76 [02:34<01:10, 23.52s/it]"
     ]
    },
    {
     "name": "stdout",
     "output_type": "stream",
     "text": [
      "Model Was Not Saved ! Current Best Avg. Dice: 0.28779345750808716 Current Avg. Dice: 0.05510096251964569 Current Avg. tumor Dice: 0.03893877565860748 Current Avg. lymph Dice: 0.08753237128257751\n"
     ]
    },
    {
     "name": "stderr",
     "output_type": "stream",
     "text": [
      "Training (13603 / 18000 Steps) (loss=0.48127): 100%|██████████| 76/76 [02:37<00:00,  2.08s/it]\n",
      "Training (13679 / 18000 Steps) (loss=0.45336): 100%|██████████| 76/76 [01:22<00:00,  1.09s/it]\n",
      "Validate (13680 / 10 Steps): 100%|██████████| 22/22 [01:14<00:00,  3.40s/it]<01:01,  1.09s/it]\n",
      "Training (13700 / 18000 Steps) (loss=0.49052):  28%|██▊       | 21/76 [01:39<21:34, 23.54s/it]"
     ]
    },
    {
     "name": "stdout",
     "output_type": "stream",
     "text": [
      "Model Was Not Saved ! Current Best Avg. Dice: 0.28779345750808716 Current Avg. Dice: 0.045738622546195984 Current Avg. tumor Dice: 0.02152877487242222 Current Avg. lymph Dice: 0.0845634862780571\n"
     ]
    },
    {
     "name": "stderr",
     "output_type": "stream",
     "text": [
      "Training (13755 / 18000 Steps) (loss=0.47853): 100%|██████████| 76/76 [02:37<00:00,  2.08s/it]\n",
      "Validate (13756 / 10 Steps): 100%|██████████| 22/22 [01:14<00:00,  3.41s/it]<00:33,  1.06s/it]\n",
      "Training (13800 / 18000 Steps) (loss=0.55657):  59%|█████▉    | 45/76 [02:05<12:10, 23.56s/it]"
     ]
    },
    {
     "name": "stdout",
     "output_type": "stream",
     "text": [
      "Model Was Not Saved ! Current Best Avg. Dice: 0.28779345750808716 Current Avg. Dice: 0.05651059001684189 Current Avg. tumor Dice: 0.03257695212960243 Current Avg. lymph Dice: 0.09696012735366821\n"
     ]
    },
    {
     "name": "stderr",
     "output_type": "stream",
     "text": [
      "Training (13831 / 18000 Steps) (loss=0.57277): 100%|██████████| 76/76 [02:38<00:00,  2.09s/it]\n",
      "Validate (13832 / 10 Steps): 100%|██████████| 22/22 [01:14<00:00,  3.40s/it]<00:08,  1.04s/it]\n",
      "Training (13900 / 18000 Steps) (loss=0.47193):  91%|█████████ | 69/76 [02:29<02:44, 23.48s/it]"
     ]
    },
    {
     "name": "stdout",
     "output_type": "stream",
     "text": [
      "Model Was Not Saved ! Current Best Avg. Dice: 0.28779345750808716 Current Avg. Dice: 0.04100026935338974 Current Avg. tumor Dice: 0.02690906450152397 Current Avg. lymph Dice: 0.06671818345785141\n"
     ]
    },
    {
     "name": "stderr",
     "output_type": "stream",
     "text": [
      "Training (13907 / 18000 Steps) (loss=0.47256): 100%|██████████| 76/76 [02:37<00:00,  2.07s/it]\n",
      "Training (13983 / 18000 Steps) (loss=0.58485): 100%|██████████| 76/76 [01:22<00:00,  1.09s/it]\n",
      "Validate (13984 / 10 Steps): 100%|██████████| 22/22 [01:14<00:00,  3.41s/it]<01:01,  1.03s/it]\n",
      "Training (14000 / 18000 Steps) (loss=0.49745):  22%|██▏       | 17/76 [01:35<23:15, 23.65s/it]"
     ]
    },
    {
     "name": "stdout",
     "output_type": "stream",
     "text": [
      "Model Was Not Saved ! Current Best Avg. Dice: 0.28779345750808716 Current Avg. Dice: 0.050273116677999496 Current Avg. tumor Dice: 0.026563720777630806 Current Avg. lymph Dice: 0.09009651094675064\n"
     ]
    },
    {
     "name": "stderr",
     "output_type": "stream",
     "text": [
      "Training (14059 / 18000 Steps) (loss=0.42450): 100%|██████████| 76/76 [02:37<00:00,  2.07s/it]\n",
      "Validate (14060 / 10 Steps): 100%|██████████| 22/22 [01:14<00:00,  3.40s/it]<00:36,  1.03s/it]\n",
      "Training (14100 / 18000 Steps) (loss=0.46842):  54%|█████▍    | 41/76 [01:59<13:41, 23.47s/it]"
     ]
    },
    {
     "name": "stdout",
     "output_type": "stream",
     "text": [
      "Model Was Not Saved ! Current Best Avg. Dice: 0.28779345750808716 Current Avg. Dice: 0.0925627276301384 Current Avg. tumor Dice: 0.08648619055747986 Current Avg. lymph Dice: 0.11931661516427994\n"
     ]
    },
    {
     "name": "stderr",
     "output_type": "stream",
     "text": [
      "Training (14135 / 18000 Steps) (loss=0.53577): 100%|██████████| 76/76 [02:36<00:00,  2.06s/it]\n",
      "Validate (14136 / 10 Steps): 100%|██████████| 22/22 [01:14<00:00,  3.41s/it]<00:12,  1.03s/it]\n",
      "Training (14200 / 18000 Steps) (loss=0.62970):  86%|████████▌ | 65/76 [02:26<04:18, 23.53s/it]"
     ]
    },
    {
     "name": "stdout",
     "output_type": "stream",
     "text": [
      "Model Was Not Saved ! Current Best Avg. Dice: 0.28779345750808716 Current Avg. Dice: 0.054354455322027206 Current Avg. tumor Dice: 0.04303048551082611 Current Avg. lymph Dice: 0.08021508157253265\n"
     ]
    },
    {
     "name": "stderr",
     "output_type": "stream",
     "text": [
      "Training (14211 / 18000 Steps) (loss=0.53256): 100%|██████████| 76/76 [02:37<00:00,  2.08s/it]\n",
      "Training (14287 / 18000 Steps) (loss=0.44326): 100%|██████████| 76/76 [01:23<00:00,  1.09s/it]\n",
      "Validate (14288 / 10 Steps): 100%|██████████| 22/22 [01:14<00:00,  3.40s/it]<01:09,  1.08s/it]\n",
      "Training (14300 / 18000 Steps) (loss=0.48120):  17%|█▋        | 13/76 [01:31<24:57, 23.76s/it]"
     ]
    },
    {
     "name": "stdout",
     "output_type": "stream",
     "text": [
      "Model Was Not Saved ! Current Best Avg. Dice: 0.28779345750808716 Current Avg. Dice: 0.04809427633881569 Current Avg. tumor Dice: 0.029686907306313515 Current Avg. lymph Dice: 0.08030121773481369\n"
     ]
    },
    {
     "name": "stderr",
     "output_type": "stream",
     "text": [
      "Training (14363 / 18000 Steps) (loss=0.51671): 100%|██████████| 76/76 [02:38<00:00,  2.08s/it]\n",
      "Validate (14364 / 10 Steps): 100%|██████████| 22/22 [01:15<00:00,  3.41s/it]<00:42,  1.05s/it]\n",
      "Training (14400 / 18000 Steps) (loss=0.60939):  49%|████▊     | 37/76 [01:56<15:19, 23.58s/it]"
     ]
    },
    {
     "name": "stdout",
     "output_type": "stream",
     "text": [
      "Model Was Not Saved ! Current Best Avg. Dice: 0.28779345750808716 Current Avg. Dice: 0.05613929405808449 Current Avg. tumor Dice: 0.028346721082925797 Current Avg. lymph Dice: 0.10029040277004242\n"
     ]
    },
    {
     "name": "stderr",
     "output_type": "stream",
     "text": [
      "Training (14439 / 18000 Steps) (loss=0.56003): 100%|██████████| 76/76 [02:37<00:00,  2.08s/it]\n",
      "Validate (14440 / 10 Steps): 100%|██████████| 22/22 [01:15<00:00,  3.41s/it]<00:16,  1.06s/it]\n",
      "Training (14500 / 18000 Steps) (loss=0.53293):  80%|████████  | 61/76 [02:21<05:53, 23.58s/it]"
     ]
    },
    {
     "name": "stdout",
     "output_type": "stream",
     "text": [
      "Model Was Not Saved ! Current Best Avg. Dice: 0.28779345750808716 Current Avg. Dice: 0.05641152709722519 Current Avg. tumor Dice: 0.03245524689555168 Current Avg. lymph Dice: 0.09696675091981888\n"
     ]
    },
    {
     "name": "stderr",
     "output_type": "stream",
     "text": [
      "Training (14515 / 18000 Steps) (loss=0.45838): 100%|██████████| 76/76 [02:37<00:00,  2.08s/it]\n",
      "Training (14591 / 18000 Steps) (loss=0.59159): 100%|██████████| 76/76 [01:23<00:00,  1.10s/it]\n",
      "Validate (14592 / 10 Steps): 100%|██████████| 22/22 [01:15<00:00,  3.42s/it]01:14,  1.10s/it]\n",
      "Training (14600 / 18000 Steps) (loss=0.52414):  12%|█▏        | 9/76 [01:26<27:30, 24.63s/it]"
     ]
    },
    {
     "name": "stdout",
     "output_type": "stream",
     "text": [
      "Model Was Not Saved ! Current Best Avg. Dice: 0.28779345750808716 Current Avg. Dice: 0.04376056045293808 Current Avg. tumor Dice: 0.030069677159190178 Current Avg. lymph Dice: 0.07081338763237\n"
     ]
    },
    {
     "name": "stderr",
     "output_type": "stream",
     "text": [
      "Training (14667 / 18000 Steps) (loss=0.58266): 100%|██████████| 76/76 [02:38<00:00,  2.08s/it]\n",
      "Validate (14668 / 10 Steps): 100%|██████████| 22/22 [01:15<00:00,  3.42s/it]<00:46,  1.05s/it]\n",
      "Training (14700 / 18000 Steps) (loss=0.56050):  43%|████▎     | 33/76 [01:52<16:55, 23.63s/it]"
     ]
    },
    {
     "name": "stdout",
     "output_type": "stream",
     "text": [
      "Model Was Not Saved ! Current Best Avg. Dice: 0.28779345750808716 Current Avg. Dice: 0.05267396196722984 Current Avg. tumor Dice: 0.031212136149406433 Current Avg. lymph Dice: 0.09099148213863373\n"
     ]
    },
    {
     "name": "stderr",
     "output_type": "stream",
     "text": [
      "Training (14743 / 18000 Steps) (loss=0.45631): 100%|██████████| 76/76 [02:38<00:00,  2.08s/it]\n",
      "Validate (14744 / 10 Steps): 100%|██████████| 22/22 [01:15<00:00,  3.42s/it]<00:20,  1.03s/it]\n",
      "Training (14800 / 18000 Steps) (loss=0.49203):  75%|███████▌  | 57/76 [02:18<07:29, 23.65s/it]"
     ]
    },
    {
     "name": "stdout",
     "output_type": "stream",
     "text": [
      "Model Was Not Saved ! Current Best Avg. Dice: 0.28779345750808716 Current Avg. Dice: 0.061745379120111465 Current Avg. tumor Dice: 0.0384143628180027 Current Avg. lymph Dice: 0.10246337205171585\n"
     ]
    },
    {
     "name": "stderr",
     "output_type": "stream",
     "text": [
      "Training (14819 / 18000 Steps) (loss=0.55056): 100%|██████████| 76/76 [02:38<00:00,  2.08s/it]\n",
      "Training (14895 / 18000 Steps) (loss=0.56126): 100%|██████████| 76/76 [01:23<00:00,  1.10s/it]\n",
      "Validate (14896 / 10 Steps): 100%|██████████| 22/22 [01:15<00:00,  3.41s/it]01:37,  1.36s/it]\n",
      "Training (14900 / 18000 Steps) (loss=0.57151):   7%|▋         | 5/76 [01:22<33:29, 28.30s/it]"
     ]
    },
    {
     "name": "stdout",
     "output_type": "stream",
     "text": [
      "Model Was Not Saved ! Current Best Avg. Dice: 0.28779345750808716 Current Avg. Dice: 0.06904306262731552 Current Avg. tumor Dice: 0.05221163481473923 Current Avg. lymph Dice: 0.10529070347547531\n"
     ]
    },
    {
     "name": "stderr",
     "output_type": "stream",
     "text": [
      "Training (14971 / 18000 Steps) (loss=0.51417): 100%|██████████| 76/76 [02:38<00:00,  2.08s/it]\n",
      "Validate (14972 / 10 Steps): 100%|██████████| 22/22 [01:14<00:00,  3.41s/it]<00:50,  1.06s/it]\n",
      "Training (15000 / 18000 Steps) (loss=0.48618):  38%|███▊      | 29/76 [01:48<18:27, 23.57s/it]"
     ]
    },
    {
     "name": "stdout",
     "output_type": "stream",
     "text": [
      "Model Was Not Saved ! Current Best Avg. Dice: 0.28779345750808716 Current Avg. Dice: 0.04930361732840538 Current Avg. tumor Dice: 0.037832289934158325 Current Avg. lymph Dice: 0.07492271810770035\n"
     ]
    },
    {
     "name": "stderr",
     "output_type": "stream",
     "text": [
      "Training (15047 / 18000 Steps) (loss=0.54748): 100%|██████████| 76/76 [02:38<00:00,  2.08s/it]\n",
      "Validate (15048 / 10 Steps): 100%|██████████| 22/22 [01:15<00:00,  3.42s/it]<00:25,  1.07s/it]\n",
      "Training (15100 / 18000 Steps) (loss=0.58560):  70%|██████▉   | 53/76 [02:13<09:03, 23.61s/it]"
     ]
    },
    {
     "name": "stdout",
     "output_type": "stream",
     "text": [
      "Model Was Not Saved ! Current Best Avg. Dice: 0.28779345750808716 Current Avg. Dice: 0.03709932416677475 Current Avg. tumor Dice: 0.022105390205979347 Current Avg. lymph Dice: 0.06386241316795349\n"
     ]
    },
    {
     "name": "stderr",
     "output_type": "stream",
     "text": [
      "Training (15123 / 18000 Steps) (loss=0.44505): 100%|██████████| 76/76 [02:38<00:00,  2.08s/it]\n",
      "Training (15199 / 18000 Steps) (loss=0.48557): 100%|██████████| 76/76 [01:22<00:00,  1.09s/it]\n",
      "Validate (15200 / 10 Steps): 100%|██████████| 22/22 [01:15<00:00,  3.41s/it]?, ?it/s]\n",
      "Training (15200 / 18000 Steps) (loss=0.41100):   1%|▏         | 1/76 [01:18<1:38:07, 78.50s/it]"
     ]
    },
    {
     "name": "stdout",
     "output_type": "stream",
     "text": [
      "Model Was Not Saved ! Current Best Avg. Dice: 0.28779345750808716 Current Avg. Dice: 0.0424577072262764 Current Avg. tumor Dice: 0.019644921645522118 Current Avg. lymph Dice: 0.07876840233802795\n"
     ]
    },
    {
     "name": "stderr",
     "output_type": "stream",
     "text": [
      "Training (15275 / 18000 Steps) (loss=0.54889): 100%|██████████| 76/76 [02:37<00:00,  2.08s/it] \n",
      "Validate (15276 / 10 Steps): 100%|██████████| 22/22 [01:15<00:00,  3.41s/it]<00:54,  1.05s/it]\n",
      "Training (15300 / 18000 Steps) (loss=0.62500):  33%|███▎      | 25/76 [01:44<20:07, 23.67s/it]"
     ]
    },
    {
     "name": "stdout",
     "output_type": "stream",
     "text": [
      "Model Was Not Saved ! Current Best Avg. Dice: 0.28779345750808716 Current Avg. Dice: 0.03920644894242287 Current Avg. tumor Dice: 0.030455026775598526 Current Avg. lymph Dice: 0.059350863099098206\n"
     ]
    },
    {
     "name": "stderr",
     "output_type": "stream",
     "text": [
      "Training (15351 / 18000 Steps) (loss=0.59485): 100%|██████████| 76/76 [02:38<00:00,  2.08s/it]\n",
      "Validate (15352 / 10 Steps): 100%|██████████| 22/22 [01:14<00:00,  3.41s/it]<00:28,  1.03s/it]\n",
      "Training (15400 / 18000 Steps) (loss=0.46585):  64%|██████▍   | 49/76 [02:09<10:35, 23.55s/it]"
     ]
    },
    {
     "name": "stdout",
     "output_type": "stream",
     "text": [
      "Model Was Not Saved ! Current Best Avg. Dice: 0.28779345750808716 Current Avg. Dice: 0.06138824298977852 Current Avg. tumor Dice: 0.03412840515375137 Current Avg. lymph Dice: 0.10684069991111755\n"
     ]
    },
    {
     "name": "stderr",
     "output_type": "stream",
     "text": [
      "Training (15427 / 18000 Steps) (loss=0.47618): 100%|██████████| 76/76 [02:38<00:00,  2.08s/it]\n",
      "Validate (15428 / 10 Steps): 100%|██████████| 22/22 [01:15<00:00,  3.43s/it]<00:04,  1.03s/it]\n",
      "Training (15500 / 18000 Steps) (loss=0.57135):  96%|█████████▌| 73/76 [02:35<01:11, 23.67s/it]"
     ]
    },
    {
     "name": "stdout",
     "output_type": "stream",
     "text": [
      "Model Was Not Saved ! Current Best Avg. Dice: 0.28779345750808716 Current Avg. Dice: 0.09610448032617569 Current Avg. tumor Dice: 0.07705910503864288 Current Avg. lymph Dice: 0.13282246887683868\n"
     ]
    },
    {
     "name": "stderr",
     "output_type": "stream",
     "text": [
      "Training (15503 / 18000 Steps) (loss=0.50738): 100%|██████████| 76/76 [02:38<00:00,  2.08s/it]\n",
      "Training (15579 / 18000 Steps) (loss=0.49001): 100%|██████████| 76/76 [01:23<00:00,  1.09s/it]\n",
      "Validate (15580 / 10 Steps): 100%|██████████| 22/22 [01:14<00:00,  3.40s/it]<00:59,  1.06s/it]\n",
      "Training (15600 / 18000 Steps) (loss=0.43000):  28%|██▊       | 21/76 [01:39<21:32, 23.50s/it]"
     ]
    },
    {
     "name": "stdout",
     "output_type": "stream",
     "text": [
      "Model Was Not Saved ! Current Best Avg. Dice: 0.28779345750808716 Current Avg. Dice: 0.06212111935019493 Current Avg. tumor Dice: 0.04453388974070549 Current Avg. lymph Dice: 0.09669092297554016\n"
     ]
    },
    {
     "name": "stderr",
     "output_type": "stream",
     "text": [
      "Training (15655 / 18000 Steps) (loss=0.46608): 100%|██████████| 76/76 [02:37<00:00,  2.08s/it]\n",
      "Validate (15656 / 10 Steps): 100%|██████████| 22/22 [01:14<00:00,  3.38s/it]<00:33,  1.04s/it]\n",
      "Training (15700 / 18000 Steps) (loss=0.50113):  59%|█████▉    | 45/76 [02:04<12:05, 23.39s/it]"
     ]
    },
    {
     "name": "stdout",
     "output_type": "stream",
     "text": [
      "Model Was Not Saved ! Current Best Avg. Dice: 0.28779345750808716 Current Avg. Dice: 0.04579365253448486 Current Avg. tumor Dice: 0.028050223365426064 Current Avg. lymph Dice: 0.07712015509605408\n"
     ]
    },
    {
     "name": "stderr",
     "output_type": "stream",
     "text": [
      "Training (15731 / 18000 Steps) (loss=0.31755): 100%|██████████| 76/76 [02:36<00:00,  2.07s/it]\n",
      "Validate (15732 / 10 Steps): 100%|██████████| 22/22 [01:14<00:00,  3.39s/it]<00:09,  1.13s/it]\n",
      "Training (15800 / 18000 Steps) (loss=0.51400):  91%|█████████ | 69/76 [02:30<02:44, 23.49s/it]"
     ]
    },
    {
     "name": "stdout",
     "output_type": "stream",
     "text": [
      "Model Was Not Saved ! Current Best Avg. Dice: 0.28779345750808716 Current Avg. Dice: 0.04093566909432411 Current Avg. tumor Dice: 0.02721419557929039 Current Avg. lymph Dice: 0.06696903705596924\n"
     ]
    },
    {
     "name": "stderr",
     "output_type": "stream",
     "text": [
      "Training (15807 / 18000 Steps) (loss=0.55091): 100%|██████████| 76/76 [02:38<00:00,  2.08s/it]\n",
      "Training (15883 / 18000 Steps) (loss=0.54796): 100%|██████████| 76/76 [01:23<00:00,  1.09s/it]\n",
      "Validate (15884 / 10 Steps): 100%|██████████| 22/22 [01:14<00:00,  3.40s/it]<01:02,  1.05s/it]\n",
      "Training (15900 / 18000 Steps) (loss=0.66300):  22%|██▏       | 17/76 [01:35<23:15, 23.64s/it]"
     ]
    },
    {
     "name": "stdout",
     "output_type": "stream",
     "text": [
      "Model Was Not Saved ! Current Best Avg. Dice: 0.28779345750808716 Current Avg. Dice: 0.06379552185535431 Current Avg. tumor Dice: 0.056178443133831024 Current Avg. lymph Dice: 0.08859708905220032\n"
     ]
    },
    {
     "name": "stderr",
     "output_type": "stream",
     "text": [
      "Training (15959 / 18000 Steps) (loss=0.49674): 100%|██████████| 76/76 [02:37<00:00,  2.07s/it]\n",
      "Validate (15960 / 10 Steps): 100%|██████████| 22/22 [01:14<00:00,  3.40s/it]<00:37,  1.03s/it]\n",
      "Training (16000 / 18000 Steps) (loss=0.60002):  54%|█████▍    | 41/76 [02:00<13:41, 23.47s/it]"
     ]
    },
    {
     "name": "stdout",
     "output_type": "stream",
     "text": [
      "Model Was Not Saved ! Current Best Avg. Dice: 0.28779345750808716 Current Avg. Dice: 0.041531410068273544 Current Avg. tumor Dice: 0.029170528054237366 Current Avg. lymph Dice: 0.06584804505109787\n"
     ]
    },
    {
     "name": "stderr",
     "output_type": "stream",
     "text": [
      "Training (16035 / 18000 Steps) (loss=0.55378): 100%|██████████| 76/76 [02:37<00:00,  2.07s/it]\n",
      "Validate (16036 / 10 Steps): 100%|██████████| 22/22 [01:14<00:00,  3.40s/it]<00:12,  1.05s/it]\n",
      "Training (16100 / 18000 Steps) (loss=0.56339):  86%|████████▌ | 65/76 [02:26<04:19, 23.57s/it]"
     ]
    },
    {
     "name": "stdout",
     "output_type": "stream",
     "text": [
      "Model Was Not Saved ! Current Best Avg. Dice: 0.28779345750808716 Current Avg. Dice: 0.04606001451611519 Current Avg. tumor Dice: 0.02384505420923233 Current Avg. lymph Dice: 0.0830434113740921\n"
     ]
    },
    {
     "name": "stderr",
     "output_type": "stream",
     "text": [
      "Training (16111 / 18000 Steps) (loss=0.48947): 100%|██████████| 76/76 [02:38<00:00,  2.08s/it]\n",
      "Training (16187 / 18000 Steps) (loss=0.51909): 100%|██████████| 76/76 [01:22<00:00,  1.09s/it]\n",
      "Validate (16188 / 10 Steps): 100%|██████████| 22/22 [01:14<00:00,  3.40s/it]<01:08,  1.07s/it]\n",
      "Training (16200 / 18000 Steps) (loss=0.41971):  17%|█▋        | 13/76 [01:31<24:54, 23.72s/it]"
     ]
    },
    {
     "name": "stdout",
     "output_type": "stream",
     "text": [
      "Model Was Not Saved ! Current Best Avg. Dice: 0.28779345750808716 Current Avg. Dice: 0.0654458999633789 Current Avg. tumor Dice: 0.04321477562189102 Current Avg. lymph Dice: 0.10706445574760437\n"
     ]
    },
    {
     "name": "stderr",
     "output_type": "stream",
     "text": [
      "Training (16263 / 18000 Steps) (loss=0.54519): 100%|██████████| 76/76 [02:37<00:00,  2.07s/it]\n",
      "Validate (16264 / 10 Steps): 100%|██████████| 22/22 [01:14<00:00,  3.40s/it]<00:43,  1.08s/it]\n",
      "Training (16300 / 18000 Steps) (loss=0.54805):  49%|████▊     | 37/76 [01:56<15:15, 23.49s/it]"
     ]
    },
    {
     "name": "stdout",
     "output_type": "stream",
     "text": [
      "Model Was Not Saved ! Current Best Avg. Dice: 0.28779345750808716 Current Avg. Dice: 0.04548477753996849 Current Avg. tumor Dice: 0.030679281800985336 Current Avg. lymph Dice: 0.07453407347202301\n"
     ]
    },
    {
     "name": "stderr",
     "output_type": "stream",
     "text": [
      "Training (16339 / 18000 Steps) (loss=0.55155): 100%|██████████| 76/76 [02:37<00:00,  2.08s/it]\n",
      "Validate (16340 / 10 Steps): 100%|██████████| 22/22 [01:14<00:00,  3.40s/it]<00:16,  1.05s/it]\n",
      "Training (16400 / 18000 Steps) (loss=0.62311):  80%|████████  | 61/76 [02:21<05:52, 23.50s/it]"
     ]
    },
    {
     "name": "stdout",
     "output_type": "stream",
     "text": [
      "Model Was Not Saved ! Current Best Avg. Dice: 0.28779345750808716 Current Avg. Dice: 0.06999509036540985 Current Avg. tumor Dice: 0.054904505610466 Current Avg. lymph Dice: 0.10437990725040436\n"
     ]
    },
    {
     "name": "stderr",
     "output_type": "stream",
     "text": [
      "Training (16415 / 18000 Steps) (loss=0.51198): 100%|██████████| 76/76 [02:37<00:00,  2.07s/it]\n",
      "Training (16491 / 18000 Steps) (loss=0.53395): 100%|██████████| 76/76 [01:23<00:00,  1.09s/it]\n",
      "Validate (16492 / 10 Steps): 100%|██████████| 22/22 [01:14<00:00,  3.40s/it]01:13,  1.09s/it]\n",
      "Training (16500 / 18000 Steps) (loss=0.64526):  12%|█▏        | 9/76 [01:26<27:23, 24.53s/it]"
     ]
    },
    {
     "name": "stdout",
     "output_type": "stream",
     "text": [
      "Model Was Not Saved ! Current Best Avg. Dice: 0.28779345750808716 Current Avg. Dice: 0.06756570190191269 Current Avg. tumor Dice: 0.06951640546321869 Current Avg. lymph Dice: 0.08224280178546906\n"
     ]
    },
    {
     "name": "stderr",
     "output_type": "stream",
     "text": [
      "Training (16567 / 18000 Steps) (loss=0.57917): 100%|██████████| 76/76 [02:37<00:00,  2.08s/it]\n",
      "Validate (16568 / 10 Steps): 100%|██████████| 22/22 [01:14<00:00,  3.40s/it]<00:46,  1.05s/it]\n",
      "Training (16600 / 18000 Steps) (loss=0.54566):  43%|████▎     | 33/76 [01:52<16:53, 23.56s/it]"
     ]
    },
    {
     "name": "stdout",
     "output_type": "stream",
     "text": [
      "Model Was Not Saved ! Current Best Avg. Dice: 0.28779345750808716 Current Avg. Dice: 0.038758449256420135 Current Avg. tumor Dice: 0.024167092517018318 Current Avg. lymph Dice: 0.06551093608140945\n"
     ]
    },
    {
     "name": "stderr",
     "output_type": "stream",
     "text": [
      "Training (16643 / 18000 Steps) (loss=0.50415): 100%|██████████| 76/76 [02:37<00:00,  2.07s/it]\n",
      "Validate (16644 / 10 Steps): 100%|██████████| 22/22 [01:14<00:00,  3.40s/it]<00:20,  1.03s/it]\n",
      "Training (16700 / 18000 Steps) (loss=0.54771):  75%|███████▌  | 57/76 [02:17<07:25, 23.47s/it]"
     ]
    },
    {
     "name": "stdout",
     "output_type": "stream",
     "text": [
      "Model Was Not Saved ! Current Best Avg. Dice: 0.28779345750808716 Current Avg. Dice: 0.0440308079123497 Current Avg. tumor Dice: 0.029282456263899803 Current Avg. lymph Dice: 0.07240276783704758\n"
     ]
    },
    {
     "name": "stderr",
     "output_type": "stream",
     "text": [
      "Training (16719 / 18000 Steps) (loss=0.48938): 100%|██████████| 76/76 [02:37<00:00,  2.08s/it]\n",
      "Training (16795 / 18000 Steps) (loss=0.55242): 100%|██████████| 76/76 [01:22<00:00,  1.09s/it]\n",
      "Validate (16796 / 10 Steps): 100%|██████████| 22/22 [01:14<00:00,  3.40s/it]01:39,  1.38s/it]\n",
      "Training (16800 / 18000 Steps) (loss=0.44022):   7%|▋         | 5/76 [01:22<33:24, 28.23s/it]"
     ]
    },
    {
     "name": "stdout",
     "output_type": "stream",
     "text": [
      "Model Was Not Saved ! Current Best Avg. Dice: 0.28779345750808716 Current Avg. Dice: 0.051544610410928726 Current Avg. tumor Dice: 0.04231944680213928 Current Avg. lymph Dice: 0.07601335644721985\n"
     ]
    },
    {
     "name": "stderr",
     "output_type": "stream",
     "text": [
      "Training (16871 / 18000 Steps) (loss=0.49549): 100%|██████████| 76/76 [02:38<00:00,  2.08s/it]\n",
      "Validate (16872 / 10 Steps): 100%|██████████| 22/22 [01:14<00:00,  3.40s/it]<00:50,  1.04s/it]\n",
      "Training (16900 / 18000 Steps) (loss=0.49744):  38%|███▊      | 29/76 [01:47<18:23, 23.48s/it]"
     ]
    },
    {
     "name": "stdout",
     "output_type": "stream",
     "text": [
      "Model Was Not Saved ! Current Best Avg. Dice: 0.28779345750808716 Current Avg. Dice: 0.037056680768728256 Current Avg. tumor Dice: 0.021462759003043175 Current Avg. lymph Dice: 0.06400923430919647\n"
     ]
    },
    {
     "name": "stderr",
     "output_type": "stream",
     "text": [
      "Training (16947 / 18000 Steps) (loss=0.38053): 100%|██████████| 76/76 [02:37<00:00,  2.07s/it]\n",
      "Validate (16948 / 10 Steps): 100%|██████████| 22/22 [01:14<00:00,  3.40s/it]<00:25,  1.07s/it]\n",
      "Training (17000 / 18000 Steps) (loss=0.47171):  70%|██████▉   | 53/76 [02:13<09:00, 23.49s/it]"
     ]
    },
    {
     "name": "stdout",
     "output_type": "stream",
     "text": [
      "Model Was Not Saved ! Current Best Avg. Dice: 0.28779345750808716 Current Avg. Dice: 0.039806004613637924 Current Avg. tumor Dice: 0.03720796853303909 Current Avg. lymph Dice: 0.052338436245918274\n"
     ]
    },
    {
     "name": "stderr",
     "output_type": "stream",
     "text": [
      "Training (17023 / 18000 Steps) (loss=0.50541): 100%|██████████| 76/76 [02:37<00:00,  2.07s/it]\n",
      "Training (17099 / 18000 Steps) (loss=0.43950): 100%|██████████| 76/76 [01:22<00:00,  1.08s/it]\n",
      "Validate (17100 / 10 Steps): 100%|██████████| 22/22 [01:14<00:00,  3.40s/it]?, ?it/s]\n",
      "Training (17100 / 18000 Steps) (loss=0.52367):   1%|▏         | 1/76 [01:18<1:37:43, 78.18s/it]"
     ]
    },
    {
     "name": "stdout",
     "output_type": "stream",
     "text": [
      "Model Was Not Saved ! Current Best Avg. Dice: 0.28779345750808716 Current Avg. Dice: 0.03844517096877098 Current Avg. tumor Dice: 0.024792471900582314 Current Avg. lymph Dice: 0.06401731818914413\n"
     ]
    },
    {
     "name": "stderr",
     "output_type": "stream",
     "text": [
      "Training (17175 / 18000 Steps) (loss=0.47646): 100%|██████████| 76/76 [02:37<00:00,  2.07s/it] \n",
      "Validate (17176 / 10 Steps): 100%|██████████| 22/22 [01:14<00:00,  3.40s/it]<00:54,  1.05s/it]\n",
      "Training (17200 / 18000 Steps) (loss=0.58650):  33%|███▎      | 25/76 [01:43<20:00, 23.53s/it]"
     ]
    },
    {
     "name": "stdout",
     "output_type": "stream",
     "text": [
      "Model Was Not Saved ! Current Best Avg. Dice: 0.28779345750808716 Current Avg. Dice: 0.060570165514945984 Current Avg. tumor Dice: 0.04875567555427551 Current Avg. lymph Dice: 0.08902633190155029\n"
     ]
    },
    {
     "name": "stderr",
     "output_type": "stream",
     "text": [
      "Training (17251 / 18000 Steps) (loss=0.58594): 100%|██████████| 76/76 [02:38<00:00,  2.08s/it]\n",
      "Validate (17252 / 10 Steps): 100%|██████████| 22/22 [01:14<00:00,  3.40s/it]<00:29,  1.04s/it]\n",
      "Training (17300 / 18000 Steps) (loss=0.36963):  64%|██████▍   | 49/76 [02:09<10:35, 23.54s/it]"
     ]
    },
    {
     "name": "stdout",
     "output_type": "stream",
     "text": [
      "Model Was Not Saved ! Current Best Avg. Dice: 0.28779345750808716 Current Avg. Dice: 0.053128063678741455 Current Avg. tumor Dice: 0.046344298869371414 Current Avg. lymph Dice: 0.07407617568969727\n"
     ]
    },
    {
     "name": "stderr",
     "output_type": "stream",
     "text": [
      "Training (17327 / 18000 Steps) (loss=0.56885): 100%|██████████| 76/76 [02:37<00:00,  2.07s/it]\n",
      "Validate (17328 / 10 Steps): 100%|██████████| 22/22 [01:14<00:00,  3.40s/it]<00:04,  1.03s/it]\n",
      "Training (17400 / 18000 Steps) (loss=0.51665):  96%|█████████▌| 73/76 [02:35<01:10, 23.54s/it]"
     ]
    },
    {
     "name": "stdout",
     "output_type": "stream",
     "text": [
      "Model Was Not Saved ! Current Best Avg. Dice: 0.28779345750808716 Current Avg. Dice: 0.07191391289234161 Current Avg. tumor Dice: 0.07972897589206696 Current Avg. lymph Dice: 0.08210180699825287\n"
     ]
    },
    {
     "name": "stderr",
     "output_type": "stream",
     "text": [
      "Training (17403 / 18000 Steps) (loss=0.53314): 100%|██████████| 76/76 [02:38<00:00,  2.08s/it]\n",
      "Training (17479 / 18000 Steps) (loss=0.65149): 100%|██████████| 76/76 [01:23<00:00,  1.09s/it]\n",
      "Validate (17480 / 10 Steps): 100%|██████████| 22/22 [01:14<00:00,  3.40s/it]<01:00,  1.09s/it]\n",
      "Training (17500 / 18000 Steps) (loss=0.53480):  28%|██▊       | 21/76 [01:39<21:35, 23.56s/it]"
     ]
    },
    {
     "name": "stdout",
     "output_type": "stream",
     "text": [
      "Model Was Not Saved ! Current Best Avg. Dice: 0.28779345750808716 Current Avg. Dice: 0.03682458773255348 Current Avg. tumor Dice: 0.02526860497891903 Current Avg. lymph Dice: 0.06011705845594406\n"
     ]
    },
    {
     "name": "stderr",
     "output_type": "stream",
     "text": [
      "Training (17555 / 18000 Steps) (loss=0.52433): 100%|██████████| 76/76 [02:37<00:00,  2.07s/it]\n",
      "Validate (17556 / 10 Steps): 100%|██████████| 22/22 [01:14<00:00,  3.40s/it]<00:33,  1.04s/it]\n",
      "Training (17600 / 18000 Steps) (loss=0.33098):  59%|█████▉    | 45/76 [02:04<12:08, 23.51s/it]"
     ]
    },
    {
     "name": "stdout",
     "output_type": "stream",
     "text": [
      "Model Was Not Saved ! Current Best Avg. Dice: 0.28779345750808716 Current Avg. Dice: 0.04095473513007164 Current Avg. tumor Dice: 0.021559759974479675 Current Avg. lymph Dice: 0.07426717132329941\n"
     ]
    },
    {
     "name": "stderr",
     "output_type": "stream",
     "text": [
      "Training (17631 / 18000 Steps) (loss=0.55839): 100%|██████████| 76/76 [02:37<00:00,  2.07s/it]\n",
      "Validate (17632 / 10 Steps): 100%|██████████| 22/22 [01:14<00:00,  3.40s/it]<00:08,  1.06s/it]\n",
      "Training (17700 / 18000 Steps) (loss=0.48723):  91%|█████████ | 69/76 [02:30<02:44, 23.46s/it]"
     ]
    },
    {
     "name": "stdout",
     "output_type": "stream",
     "text": [
      "Model Was Not Saved ! Current Best Avg. Dice: 0.28779345750808716 Current Avg. Dice: 0.02597794495522976 Current Avg. tumor Dice: 0.01563401333987713 Current Avg. lymph Dice: 0.045209333300590515\n"
     ]
    },
    {
     "name": "stderr",
     "output_type": "stream",
     "text": [
      "Training (17707 / 18000 Steps) (loss=0.50160): 100%|██████████| 76/76 [02:38<00:00,  2.08s/it]\n",
      "Training (17783 / 18000 Steps) (loss=0.49496): 100%|██████████| 76/76 [01:22<00:00,  1.09s/it]\n",
      "Validate (17784 / 10 Steps): 100%|██████████| 22/22 [01:14<00:00,  3.40s/it]<01:02,  1.03s/it]\n",
      "Training (17800 / 18000 Steps) (loss=0.56859):  22%|██▏       | 17/76 [01:35<23:12, 23.60s/it]"
     ]
    },
    {
     "name": "stdout",
     "output_type": "stream",
     "text": [
      "Model Was Not Saved ! Current Best Avg. Dice: 0.28779345750808716 Current Avg. Dice: 0.038245171308517456 Current Avg. tumor Dice: 0.03830428794026375 Current Avg. lymph Dice: 0.048708196729421616\n"
     ]
    },
    {
     "name": "stderr",
     "output_type": "stream",
     "text": [
      "Training (17859 / 18000 Steps) (loss=0.43636): 100%|██████████| 76/76 [02:37<00:00,  2.08s/it]\n",
      "Validate (17860 / 10 Steps): 100%|██████████| 22/22 [01:14<00:00,  3.41s/it]<00:37,  1.04s/it]\n",
      "Training (17900 / 18000 Steps) (loss=0.53897):  54%|█████▍    | 41/76 [02:00<13:43, 23.53s/it]"
     ]
    },
    {
     "name": "stdout",
     "output_type": "stream",
     "text": [
      "Model Was Not Saved ! Current Best Avg. Dice: 0.28779345750808716 Current Avg. Dice: 0.03696386516094208 Current Avg. tumor Dice: 0.036408405750989914 Current Avg. lymph Dice: 0.04721076786518097\n"
     ]
    },
    {
     "name": "stderr",
     "output_type": "stream",
     "text": [
      "Training (17935 / 18000 Steps) (loss=0.36391): 100%|██████████| 76/76 [02:37<00:00,  2.07s/it]\n",
      "Validate (17936 / 10 Steps): 100%|██████████| 22/22 [01:14<00:00,  3.40s/it]<00:12,  1.04s/it]\n",
      "Training (18000 / 18000 Steps) (loss=0.40064):  86%|████████▌ | 65/76 [02:26<04:18, 23.54s/it]"
     ]
    },
    {
     "name": "stdout",
     "output_type": "stream",
     "text": [
      "Model Was Not Saved ! Current Best Avg. Dice: 0.28779345750808716 Current Avg. Dice: 0.027330946177244186 Current Avg. tumor Dice: 0.017257196828722954 Current Avg. lymph Dice: 0.04664089158177376\n"
     ]
    },
    {
     "name": "stderr",
     "output_type": "stream",
     "text": [
      "Training (18011 / 18000 Steps) (loss=0.44797): 100%|██████████| 76/76 [02:37<00:00,  2.08s/it]\n"
     ]
    }
   ],
   "source": [
    "epoch = 0 # used for LR scheduler\n",
    "max_num_epochs = 530 # used for LR scheduler\n",
    "\n",
    "\n",
    "while global_step < max_iterations:\n",
    "    global_step, dice_val_best, global_step_best = train(\n",
    "        global_step, train_loader, dice_val_best, global_step_best\n",
    "    )\n",
    "    epoch += 1\n",
    "    #optimizer.param_groups[0]['lr'] = poly_lr(epoch, max_num_epochs, 0.005676 , 0.9)\n",
    "# model.load_state_dict(torch.load(os.path.join(model_dir, \"best_metric_luck_UNETr_prompt.pth\")))"
   ]
  }
 ],
 "metadata": {
  "kernelspec": {
   "display_name": "clam",
   "language": "python",
   "name": "python3"
  },
  "language_info": {
   "codemirror_mode": {
    "name": "ipython",
    "version": 3
   },
   "file_extension": ".py",
   "mimetype": "text/x-python",
   "name": "python",
   "nbconvert_exporter": "python",
   "pygments_lexer": "ipython3",
   "version": "3.8.0"
  }
 },
 "nbformat": 4,
 "nbformat_minor": 2
}
