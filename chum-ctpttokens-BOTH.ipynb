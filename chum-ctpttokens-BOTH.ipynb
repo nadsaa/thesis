{
 "cells": [
  {
   "cell_type": "code",
   "execution_count": 1,
   "metadata": {},
   "outputs": [
    {
     "name": "stdout",
     "output_type": "stream",
     "text": [
      "1\n"
     ]
    },
    {
     "name": "stderr",
     "output_type": "stream",
     "text": [
      "/tmp/ipykernel_2687583/264845013.py:9: TqdmWarning: IProgress not found. Please update jupyter and ipywidgets. See https://ipywidgets.readthedocs.io/en/stable/user_install.html\n",
      "  from tqdm.autonotebook import tqdm\n"
     ]
    }
   ],
   "source": [
    "import torch\n",
    "import torch.nn as nn\n",
    "from torch.utils.data import DataLoader\n",
    "from collections.abc import Sequence\n",
    "\n",
    "from unetr import CustomedUNETR\n",
    "\n",
    "import json\n",
    "from tqdm.autonotebook import tqdm\n",
    "import os\n",
    "os.environ[\"CUDA_DEVICE_ORDER\"] = \"PCI_BUS_ID\"\n",
    "os.environ[\"CUDA_VISIBLE_DEVICES\"] = \"1\" \n",
    "\n",
    "print(torch.cuda.device_count())\n",
    "torch.backends.cudnn.benchmark = True\n",
    "device = torch.device(\"cuda\" if torch.cuda.is_available() else \"cpu\")"
   ]
  },
  {
   "cell_type": "code",
   "execution_count": 2,
   "metadata": {},
   "outputs": [],
   "source": [
    "from monai.transforms import EnsureTyped\n",
    "from monai.transforms import Compose, LoadImaged, ScaleIntensityRanged, ConcatItemsd\n",
    "from monai.metrics import DiceMetric\n",
    "from monai.losses import DiceCELoss, DiceFocalLoss, FocalLoss\n",
    "from monai.inferers import sliding_window_inference\n",
    "\n",
    "\n",
    "from monai.data import (\n",
    "    Dataset,\n",
    "    DataLoader,\n",
    "    CacheDataset,\n",
    "    load_decathlon_datalist,\n",
    "    decollate_batch,\n",
    ")\n",
    "\n",
    "\n",
    "from monai.transforms import (\n",
    "    AsDiscrete,\n",
    "    Compose,\n",
    "    CropForegroundd,\n",
    "    LoadImaged,\n",
    "    Orientationd,\n",
    "    RandFlipd,\n",
    "    RandCropByPosNegLabeld,\n",
    "    RandShiftIntensityd,\n",
    "    ScaleIntensityRanged,\n",
    "    Spacingd,\n",
    "    RandRotate90d,\n",
    "    MapTransform,\n",
    "    ScaleIntensityd,\n",
    "    #AddChanneld,\n",
    "    SpatialPadd,\n",
    "    CenterSpatialCropd,\n",
    "    EnsureChannelFirstd,\n",
    "    ConcatItemsd,\n",
    "    AdjustContrastd, \n",
    "    Rand3DElasticd,\n",
    "    HistogramNormalized,\n",
    "    NormalizeIntensityd,\n",
    "    Invertd,\n",
    "    SaveImage,\n",
    "\n",
    ")"
   ]
  },
  {
   "cell_type": "code",
   "execution_count": 3,
   "metadata": {},
   "outputs": [],
   "source": [
    "data_dir = '/home/nada.saadi/MIS-FM/hecktor2022_cropped'\n",
    "json_dir = '/home/nada.saadi/MIS-FM/hecktor2022_cropped/CHUM_CTPT_TRAIN.json'"
   ]
  },
  {
   "cell_type": "code",
   "execution_count": 4,
   "metadata": {},
   "outputs": [
    {
     "name": "stdout",
     "output_type": "stream",
     "text": [
      "41 15\n"
     ]
    }
   ],
   "source": [
    "def datafold_read(datalist, basedir, fold=0, key=\"training\"):\n",
    "    with open(datalist) as f:\n",
    "        json_data = json.load(f)\n",
    "\n",
    "    json_data = json_data[key]\n",
    "\n",
    "    for d in json_data:\n",
    "        for k in d:\n",
    "            if isinstance(d[k], list):\n",
    "                d[k] = [os.path.join(basedir, iv) for iv in d[k]]\n",
    "            elif isinstance(d[k], str):\n",
    "                d[k] = os.path.join(basedir, d[k]) if len(d[k]) > 0 else d[k]\n",
    "\n",
    "    tr = []\n",
    "    val = []\n",
    "    for d in json_data:\n",
    "        if \"fold\" in d and d[\"fold\"] == fold:\n",
    "            val.append(d)\n",
    "        else:\n",
    "            tr.append(d)\n",
    "\n",
    "    return tr, val\n",
    "\n",
    "\n",
    "train_data, valid_data = datafold_read(datalist=json_dir, basedir=data_dir, fold=0)\n",
    "print(len(train_data), len(valid_data))"
   ]
  },
  {
   "cell_type": "code",
   "execution_count": 5,
   "metadata": {},
   "outputs": [],
   "source": [
    "num_samples = 1\n",
    "\n",
    "class ClipCT(MapTransform):\n",
    "    \"\"\"\n",
    "    Convert labels to multi channels based on hecktor classes:\n",
    "    label 1 is the tumor\n",
    "    label 2 is the lymph node\n",
    "\n",
    "    \"\"\"\n",
    "\n",
    "    def __call__(self, data):\n",
    "        d = dict(data)\n",
    "        for key in self.keys:\n",
    "            if key == \"ct\":\n",
    "                d[key] = torch.clip(d[key], min=-200, max=200)\n",
    "            # elif key == \"pt\":\n",
    "            #     d[key] = torch.clip(d[key], d[key].min(), 5)\n",
    "        return d\n",
    "\n",
    "train_transforms = Compose(\n",
    "    [\n",
    "        LoadImaged(keys=[\"ct\", \"pt\", \"seg\"], ensure_channel_first=True),\n",
    "        SpatialPadd(keys=[\"ct\", \"pt\", \"seg\"], spatial_size=(200, 200, 310), method='end'),\n",
    "        Orientationd(keys=[\"ct\", \"pt\", \"seg\"], axcodes=\"PLS\"),\n",
    "        NormalizeIntensityd(keys=[\"pt\"]),\n",
    "        ClipCT(keys=[\"ct\"]),\n",
    "        ScaleIntensityd(keys=[\"ct\"], minv=0, maxv=1),\n",
    "        ConcatItemsd(keys=[\"pt\", \"ct\"], name=\"ctpt\"),  # Concatenate CT and PET\n",
    "        RandCropByPosNegLabeld(\n",
    "            keys=[\"ctpt\", \"seg\"],\n",
    "            label_key=\"seg\",\n",
    "            spatial_size=(96, 96, 96),\n",
    "            pos=1,\n",
    "            neg=1,\n",
    "            num_samples=num_samples,\n",
    "            image_key=\"ctpt\",\n",
    "            image_threshold=0,\n",
    "        ),\n",
    "        RandFlipd(keys=[\"ctpt\", \"seg\"], spatial_axis=[0], prob=0.20),\n",
    "        RandFlipd(keys=[\"ctpt\", \"seg\"], spatial_axis=[1], prob=0.20),\n",
    "        RandFlipd(keys=[\"ctpt\", \"seg\"], spatial_axis=[2], prob=0.20),\n",
    "        RandRotate90d(keys=[\"ctpt\", \"seg\"], prob=0.20, max_k=3),\n",
    "        EnsureTyped(keys=[\"ctpt\", \"seg\"]),\n",
    "    \n",
    "    ]\n",
    ")\n",
    "\n",
    "val_transforms = Compose(\n",
    "    [\n",
    "        LoadImaged(keys=[\"ct\", \"pt\", \"seg\"], ensure_channel_first=True),\n",
    "        SpatialPadd(keys=[\"ct\", \"pt\", \"seg\"], spatial_size=(200, 200, 310), method='end'),\n",
    "        Orientationd(keys=[\"ct\", \"pt\", \"seg\"], axcodes=\"PLS\"),\n",
    "        NormalizeIntensityd(keys=[\"pt\"]),\n",
    "        ClipCT(keys=[\"ct\"]),\n",
    "        ScaleIntensityd(keys=[\"ct\"], minv=0, maxv=1),\n",
    "        ConcatItemsd(keys=[\"pt\", \"ct\"], name=\"ctpt\"),# Concatenate CT and PET\n",
    "        EnsureTyped(keys=[\"ctpt\", \"seg\"]),\n",
    "    ]\n",
    ")\n",
    "\n",
    "\n",
    "##----------\n",
    "\n",
    "def create_dataloader(data, transforms, batch_size=2, shuffle=True):\n",
    "    # Create CacheDataset with the reformatted data\n",
    "    dataset = Dataset(data=data, transform=transforms)\n",
    "\n",
    "    # Create DataLoader\n",
    "    return DataLoader(dataset, batch_size=batch_size, shuffle=shuffle, num_workers=8)\n",
    "\n",
    "\n",
    "\n",
    "train_loader = create_dataloader(train_data, train_transforms, shuffle=True)\n",
    "val_loader = create_dataloader(valid_data, val_transforms, shuffle=False)"
   ]
  },
  {
   "cell_type": "code",
   "execution_count": 6,
   "metadata": {},
   "outputs": [
    {
     "name": "stderr",
     "output_type": "stream",
     "text": [
      "/home/nada.saadi/miniconda3/envs/clam/lib/python3.8/site-packages/monai/utils/deprecate_utils.py:221: FutureWarning: unetr CustomedUNETR.__init__:pos_embed: Argument `pos_embed` has been deprecated since version 1.2. It will be removed in version 1.4. please use `proj_type` instead.\n",
      "  warn_deprecated(argname, msg, warning_category)\n"
     ]
    },
    {
     "name": "stdout",
     "output_type": "stream",
     "text": [
      "Nada's version of UNETR\n",
      "(96, 96, 96)\n",
      "(16, 16, 16)\n",
      "(6, 6, 6)\n",
      "768\n"
     ]
    }
   ],
   "source": [
    "model = CustomedUNETR(\n",
    "    in_channels=2,  # Number of input channels\n",
    "    out_channels=3,  # Number of output channels\n",
    "    img_size=(96, 96, 96),  # Size of the input image\n",
    "    feature_size=48,  # Size of the feature maps\n",
    "    hidden_size=768,\n",
    "    num_heads = 12,# Size of the hidden layers in the transformer\n",
    "    mlp_dim=3072,  # Dimension of the MLP in the transformer\n",
    "    pos_embed=\"perceptron\",  # Type of positional embedding\n",
    "    norm_name=\"instance\",  # Type of normalization\n",
    "    res_block=True,  # Whether to use residual blocks\n",
    "    dropout_rate=0.0,\n",
    "    proj_type= \"conv\",\n",
    ").to(device)"
   ]
  },
  {
   "cell_type": "code",
   "execution_count": 7,
   "metadata": {},
   "outputs": [],
   "source": [
    "def poly_lr(epoch, max_epochs, initial_lr, exponent=0.9):\n",
    "    return initial_lr * (1 - epoch / max_epochs)**exponent\n",
    "\n",
    "model_dir='/home/nada.saadi/CTPET/hecktor2022_cropped/CHUM-CTPT-BOTH'\n",
    "\n",
    "max_iterations = 18000\n",
    "eval_num = 100\n",
    "\n",
    "## running stats\n",
    "global_step = 0\n",
    "dice_val_best = 0.0\n",
    "global_step_best = 0\n",
    "epoch_loss_values = []\n",
    "metric_values = []\n",
    "metric_values_tumor = []\n",
    "metric_values_lymph = []\n",
    "\n",
    "\n",
    "loss_function = DiceCELoss(to_onehot_y=True, softmax=True)\n",
    "optimizer = torch.optim.AdamW(model.parameters(), lr=1e-4, weight_decay=1e-5)\n",
    "\n",
    "\n",
    "post_label = AsDiscrete(to_onehot=3)\n",
    "post_pred = AsDiscrete(argmax=True, to_onehot=3)\n",
    "\n",
    "dice_metric = DiceMetric(include_background=False, reduction=\"mean\", get_not_nans=False)\n",
    "dice_metric_batch = DiceMetric(include_background=False, reduction=\"mean_batch\")\n",
    "\n",
    "\n",
    "##-----------------------------------------------------------------------------\n",
    "\n",
    "def validation(epoch_iterator_val):\n",
    "        model.eval()\n",
    "        with torch.no_grad():\n",
    "            for step, batch in enumerate(epoch_iterator_val):\n",
    "                val_inputs, val_labels = (batch[\"ctpt\"].cuda(), batch[\"seg\"].cuda())\n",
    "                val_outputs = sliding_window_inference(val_inputs, (96, 96, 96), 4, model)\n",
    "                val_labels_list = decollate_batch(val_labels)\n",
    "                val_labels_convert = [\n",
    "                    post_label(val_label_tensor) for val_label_tensor in val_labels_list\n",
    "                ]\n",
    "                val_outputs_list = decollate_batch(val_outputs)\n",
    "                val_output_convert = [\n",
    "                    post_pred(val_pred_tensor) for val_pred_tensor in val_outputs_list\n",
    "                ]\n",
    "                dice_metric(y_pred=val_output_convert, y=val_labels_convert)\n",
    "                dice_metric_batch(y_pred=val_output_convert, y=val_labels_convert)\n",
    "                epoch_iterator_val.set_description(\n",
    "                    \"Validate (%d / %d Steps)\" % (global_step, 10.0)\n",
    "                )\n",
    "            mean_dice_val = dice_metric.aggregate().item()\n",
    "            metric_batch_val = dice_metric_batch.aggregate()\n",
    "\n",
    "            metric_tumor = metric_batch_val[0].item()\n",
    "            metric_lymph = metric_batch_val[1].item()\n",
    "\n",
    "            dice_metric.reset()\n",
    "            dice_metric_batch.reset()\n",
    "        return mean_dice_val, metric_tumor, metric_lymph\n",
    "\n",
    "\n",
    "\n",
    "def train(global_step, train_loader, dice_val_best, global_step_best):\n",
    "        model.train()\n",
    "        epoch_loss = 0\n",
    "        step = 0\n",
    "        epoch_iterator = tqdm(\n",
    "            train_loader, desc=\"Training (X / X Steps) (loss=X.X)\", dynamic_ncols=True\n",
    "        )\n",
    "        \n",
    "        for step, batch in enumerate(epoch_iterator):\n",
    "            step += 1\n",
    "            x, y = (batch[\"ctpt\"].cuda(), batch[\"seg\"].cuda())\n",
    "            logit_map = model(x, mode=\"mix\")\n",
    "            loss = loss_function(logit_map, y)\n",
    "            loss.backward()\n",
    "            epoch_loss += loss.item() \n",
    "            optimizer.step()\n",
    "            optimizer.zero_grad()\n",
    "            epoch_iterator.set_description(\n",
    "                \"Training (%d / %d Steps) (loss=%2.5f)\"\n",
    "                % (global_step, max_iterations, loss)\n",
    "            )\n",
    "            \n",
    "            if (\n",
    "                global_step % eval_num == 0 and global_step != 0\n",
    "            ) or global_step == max_iterations:\n",
    "                epoch_iterator_val = tqdm(\n",
    "                    val_loader, desc=\"Validate (X / X Steps) (dice=X.X)\", dynamic_ncols=True\n",
    "                )\n",
    "                dice_val, metric_tumor, metric_lymph = validation(epoch_iterator_val)\n",
    "                epoch_loss /= step\n",
    "                epoch_loss_values.append(epoch_loss)\n",
    "                metric_values.append(dice_val)\n",
    "                metric_values_tumor.append(metric_tumor)\n",
    "                metric_values_lymph.append(metric_lymph)\n",
    "                if dice_val > dice_val_best:\n",
    "                    dice_val_best = dice_val\n",
    "                    global_step_best = global_step\n",
    "                    torch.save(\n",
    "                        model.state_dict(), os.path.join(model_dir, \"/home/nada.saadi/CTPET/hecktor2022_cropped/CHUM-CTPT-BOTH/CHUM-ctpt-both.pth\")\n",
    "                    )\n",
    "                    print(\n",
    "                        \"Model Was Saved ! Current Best Avg. Dice: {} Current Avg. Dice: {} Current Avg. tumor Dice: {} Current Avg. lymph Dice: {}\".format(\n",
    "                            dice_val_best, dice_val, metric_tumor, metric_lymph\n",
    "                        )\n",
    "                    )\n",
    "                else:\n",
    "                    print(\n",
    "                        \"Model Was Not Saved ! Current Best Avg. Dice: {} Current Avg. Dice: {} Current Avg. tumor Dice: {} Current Avg. lymph Dice: {}\".format(\n",
    "                            dice_val_best, dice_val,  metric_tumor, metric_lymph\n",
    "                        )\n",
    "                    )\n",
    "            global_step += 1\n",
    "        return global_step, dice_val_best, global_step_best"
   ]
  },
  {
   "cell_type": "code",
   "execution_count": 8,
   "metadata": {},
   "outputs": [
    {
     "name": "stderr",
     "output_type": "stream",
     "text": [
      "Training (20 / 18000 Steps) (loss=1.17953): 100%|██████████| 21/21 [00:42<00:00,  2.01s/it]\n",
      "Training (41 / 18000 Steps) (loss=1.05188): 100%|██████████| 21/21 [00:27<00:00,  1.29s/it]\n",
      "Training (62 / 18000 Steps) (loss=0.99194): 100%|██████████| 21/21 [00:32<00:00,  1.53s/it]\n",
      "Training (83 / 18000 Steps) (loss=0.98046): 100%|██████████| 21/21 [00:29<00:00,  1.40s/it]\n",
      "Validate (84 / 10 Steps): 100%|██████████| 8/8 [00:42<00:00,  5.29s/it]:30<00:03,  1.37it/s]\n",
      "Training (100 / 18000 Steps) (loss=0.94318):  81%|████████  | 17/21 [01:14<01:00, 15.06s/it]"
     ]
    },
    {
     "name": "stdout",
     "output_type": "stream",
     "text": [
      "Model Was Saved ! Current Best Avg. Dice: 0.23089191317558289 Current Avg. Dice: 0.23089191317558289 Current Avg. tumor Dice: 0.3123404383659363 Current Avg. lymph Dice: 0.14098171889781952\n"
     ]
    },
    {
     "name": "stderr",
     "output_type": "stream",
     "text": [
      "Training (104 / 18000 Steps) (loss=0.98636): 100%|██████████| 21/21 [01:16<00:00,  3.64s/it]\n",
      "Training (125 / 18000 Steps) (loss=0.94407): 100%|██████████| 21/21 [00:24<00:00,  1.15s/it]\n",
      "Training (146 / 18000 Steps) (loss=0.88477): 100%|██████████| 21/21 [00:31<00:00,  1.52s/it]\n",
      "Training (167 / 18000 Steps) (loss=0.86113): 100%|██████████| 21/21 [00:35<00:00,  1.67s/it]\n",
      "Training (188 / 18000 Steps) (loss=0.79109): 100%|██████████| 21/21 [00:32<00:00,  1.53s/it]\n",
      "Validate (189 / 10 Steps): 100%|██████████| 8/8 [00:35<00:00,  4.42s/it]19<00:10,  1.05s/it]\n",
      "Training (200 / 18000 Steps) (loss=0.82802):  57%|█████▋    | 12/21 [00:56<01:49, 12.18s/it]"
     ]
    },
    {
     "name": "stdout",
     "output_type": "stream",
     "text": [
      "Model Was Saved ! Current Best Avg. Dice: 0.2586025893688202 Current Avg. Dice: 0.2586025893688202 Current Avg. tumor Dice: 0.38067588210105896 Current Avg. lymph Dice: 0.10199610888957977\n"
     ]
    },
    {
     "name": "stderr",
     "output_type": "stream",
     "text": [
      "Training (209 / 18000 Steps) (loss=0.90704): 100%|██████████| 21/21 [01:01<00:00,  2.92s/it]\n",
      "Training (230 / 18000 Steps) (loss=0.86939): 100%|██████████| 21/21 [00:30<00:00,  1.47s/it]\n",
      "Training (251 / 18000 Steps) (loss=0.78038): 100%|██████████| 21/21 [00:30<00:00,  1.43s/it]\n",
      "Training (272 / 18000 Steps) (loss=0.81245): 100%|██████████| 21/21 [00:30<00:00,  1.48s/it]\n",
      "Training (293 / 18000 Steps) (loss=0.81736): 100%|██████████| 21/21 [00:29<00:00,  1.39s/it]\n",
      "Validate (294 / 10 Steps): 100%|██████████| 8/8 [00:39<00:00,  4.97s/it]2<00:16,  1.08s/it]\n",
      "Training (300 / 18000 Steps) (loss=0.78120):  33%|███▎      | 7/21 [00:52<03:15, 13.94s/it]"
     ]
    },
    {
     "name": "stdout",
     "output_type": "stream",
     "text": [
      "Model Was Not Saved ! Current Best Avg. Dice: 0.2586025893688202 Current Avg. Dice: 0.18345803022384644 Current Avg. tumor Dice: 0.1989002227783203 Current Avg. lymph Dice: 0.18001697957515717\n"
     ]
    },
    {
     "name": "stderr",
     "output_type": "stream",
     "text": [
      "Training (314 / 18000 Steps) (loss=0.70569): 100%|██████████| 21/21 [01:00<00:00,  2.88s/it]\n",
      "Training (335 / 18000 Steps) (loss=0.80343): 100%|██████████| 21/21 [00:30<00:00,  1.43s/it]\n",
      "Training (356 / 18000 Steps) (loss=0.79637): 100%|██████████| 21/21 [00:31<00:00,  1.50s/it]\n",
      "Training (377 / 18000 Steps) (loss=0.79557): 100%|██████████| 21/21 [00:29<00:00,  1.39s/it]\n",
      "Training (398 / 18000 Steps) (loss=0.74954): 100%|██████████| 21/21 [00:29<00:00,  1.39s/it]\n",
      "Validate (399 / 10 Steps): 100%|██████████| 8/8 [00:38<00:00,  4.85s/it]0<03:10,  9.50s/it]\n",
      "Training (400 / 18000 Steps) (loss=0.76725):  10%|▉         | 2/21 [00:50<08:50, 27.94s/it]"
     ]
    },
    {
     "name": "stdout",
     "output_type": "stream",
     "text": [
      "Model Was Saved ! Current Best Avg. Dice: 0.3132675290107727 Current Avg. Dice: 0.3132675290107727 Current Avg. tumor Dice: 0.4303167462348938 Current Avg. lymph Dice: 0.1480608433485031\n"
     ]
    },
    {
     "name": "stderr",
     "output_type": "stream",
     "text": [
      "Training (419 / 18000 Steps) (loss=0.76737): 100%|██████████| 21/21 [01:01<00:00,  2.92s/it]\n",
      "Training (440 / 18000 Steps) (loss=0.74781): 100%|██████████| 21/21 [00:31<00:00,  1.48s/it]\n",
      "Training (461 / 18000 Steps) (loss=0.76974): 100%|██████████| 21/21 [00:31<00:00,  1.51s/it]\n",
      "Training (482 / 18000 Steps) (loss=0.74635): 100%|██████████| 21/21 [00:34<00:00,  1.63s/it]\n",
      "Validate (483 / 10 Steps): 100%|██████████| 8/8 [00:37<00:00,  4.72s/it]24<00:02,  1.37it/s]\n",
      "Training (500 / 18000 Steps) (loss=0.58486):  86%|████████▌ | 18/21 [01:02<00:36, 12.27s/it]"
     ]
    },
    {
     "name": "stdout",
     "output_type": "stream",
     "text": [
      "Model Was Not Saved ! Current Best Avg. Dice: 0.3132675290107727 Current Avg. Dice: 0.2261841893196106 Current Avg. tumor Dice: 0.28898492455482483 Current Avg. lymph Dice: 0.17368392646312714\n"
     ]
    },
    {
     "name": "stderr",
     "output_type": "stream",
     "text": [
      "Training (503 / 18000 Steps) (loss=0.76850): 100%|██████████| 21/21 [01:03<00:00,  3.04s/it]\n",
      "Training (524 / 18000 Steps) (loss=0.74168): 100%|██████████| 21/21 [00:26<00:00,  1.24s/it]\n",
      "Training (545 / 18000 Steps) (loss=0.69213): 100%|██████████| 21/21 [00:31<00:00,  1.50s/it]\n",
      "Training (566 / 18000 Steps) (loss=0.68108): 100%|██████████| 21/21 [00:31<00:00,  1.51s/it]\n",
      "Training (587 / 18000 Steps) (loss=0.74371): 100%|██████████| 21/21 [00:27<00:00,  1.29s/it]\n",
      "Validate (588 / 10 Steps): 100%|██████████| 8/8 [00:38<00:00,  4.78s/it]23<00:12,  1.34s/it]\n",
      "Training (600 / 18000 Steps) (loss=0.72377):  62%|██████▏   | 13/21 [01:03<01:45, 13.16s/it]"
     ]
    },
    {
     "name": "stdout",
     "output_type": "stream",
     "text": [
      "Model Was Saved ! Current Best Avg. Dice: 0.3217582106590271 Current Avg. Dice: 0.3217582106590271 Current Avg. tumor Dice: 0.4259101450443268 Current Avg. lymph Dice: 0.17274174094200134\n"
     ]
    },
    {
     "name": "stderr",
     "output_type": "stream",
     "text": [
      "Training (608 / 18000 Steps) (loss=0.73486): 100%|██████████| 21/21 [01:08<00:00,  3.26s/it]\n",
      "Training (629 / 18000 Steps) (loss=0.72130): 100%|██████████| 21/21 [00:32<00:00,  1.53s/it]\n",
      "Training (650 / 18000 Steps) (loss=0.76550): 100%|██████████| 21/21 [00:28<00:00,  1.36s/it]\n",
      "Training (671 / 18000 Steps) (loss=0.69369): 100%|██████████| 21/21 [00:28<00:00,  1.37s/it]\n",
      "Training (692 / 18000 Steps) (loss=0.68836): 100%|██████████| 21/21 [00:26<00:00,  1.28s/it]\n",
      "Validate (693 / 10 Steps): 100%|██████████| 8/8 [00:40<00:00,  5.08s/it]7<00:15,  1.09s/it]\n",
      "Training (700 / 18000 Steps) (loss=0.71268):  38%|███▊      | 8/21 [00:58<03:00, 13.92s/it]"
     ]
    },
    {
     "name": "stdout",
     "output_type": "stream",
     "text": [
      "Model Was Not Saved ! Current Best Avg. Dice: 0.3217582106590271 Current Avg. Dice: 0.2399865686893463 Current Avg. tumor Dice: 0.2935314178466797 Current Avg. lymph Dice: 0.17201320827007294\n"
     ]
    },
    {
     "name": "stderr",
     "output_type": "stream",
     "text": [
      "Training (713 / 18000 Steps) (loss=0.70707): 100%|██████████| 21/21 [01:06<00:00,  3.15s/it]\n",
      "Training (734 / 18000 Steps) (loss=0.51332): 100%|██████████| 21/21 [00:29<00:00,  1.40s/it]\n",
      "Training (755 / 18000 Steps) (loss=0.71346): 100%|██████████| 21/21 [00:31<00:00,  1.52s/it]\n",
      "Training (776 / 18000 Steps) (loss=0.64732): 100%|██████████| 21/21 [00:31<00:00,  1.51s/it]\n",
      "Training (797 / 18000 Steps) (loss=0.70570): 100%|██████████| 21/21 [00:26<00:00,  1.24s/it]\n",
      "Validate (798 / 10 Steps): 100%|██████████| 8/8 [00:42<00:00,  5.26s/it]6<02:03,  6.51s/it]\n",
      "Training (800 / 18000 Steps) (loss=0.57481):  14%|█▍        | 3/21 [00:59<07:08, 23.80s/it]"
     ]
    },
    {
     "name": "stdout",
     "output_type": "stream",
     "text": [
      "Model Was Saved ! Current Best Avg. Dice: 0.32992473244667053 Current Avg. Dice: 0.32992473244667053 Current Avg. tumor Dice: 0.4343593716621399 Current Avg. lymph Dice: 0.1811743527650833\n"
     ]
    },
    {
     "name": "stderr",
     "output_type": "stream",
     "text": [
      "Training (818 / 18000 Steps) (loss=0.49532): 100%|██████████| 21/21 [01:10<00:00,  3.36s/it]\n",
      "Training (839 / 18000 Steps) (loss=0.54735): 100%|██████████| 21/21 [00:32<00:00,  1.55s/it]\n",
      "Training (860 / 18000 Steps) (loss=0.69380): 100%|██████████| 21/21 [00:32<00:00,  1.55s/it]\n",
      "Training (881 / 18000 Steps) (loss=0.69719): 100%|██████████| 21/21 [00:25<00:00,  1.24s/it]\n",
      "Validate (882 / 10 Steps): 100%|██████████| 8/8 [00:37<00:00,  4.73s/it]28<00:03,  1.09s/it]\n",
      "Training (900 / 18000 Steps) (loss=0.69218):  90%|█████████ | 19/21 [01:06<00:24, 12.31s/it]"
     ]
    },
    {
     "name": "stdout",
     "output_type": "stream",
     "text": [
      "Model Was Not Saved ! Current Best Avg. Dice: 0.32992473244667053 Current Avg. Dice: 0.2862149178981781 Current Avg. tumor Dice: 0.4338879883289337 Current Avg. lymph Dice: 0.08600659668445587\n"
     ]
    },
    {
     "name": "stderr",
     "output_type": "stream",
     "text": [
      "Training (902 / 18000 Steps) (loss=0.70633): 100%|██████████| 21/21 [01:07<00:00,  3.20s/it]\n",
      "Training (923 / 18000 Steps) (loss=0.53492): 100%|██████████| 21/21 [00:28<00:00,  1.34s/it]\n",
      "Training (944 / 18000 Steps) (loss=0.71146): 100%|██████████| 21/21 [00:31<00:00,  1.50s/it]\n",
      "Training (965 / 18000 Steps) (loss=0.69143): 100%|██████████| 21/21 [00:26<00:00,  1.27s/it]\n",
      "Training (986 / 18000 Steps) (loss=0.69642): 100%|██████████| 21/21 [00:32<00:00,  1.53s/it]\n",
      "Validate (987 / 10 Steps): 100%|██████████| 8/8 [00:38<00:00,  4.80s/it]:22<00:07,  1.01it/s]\n",
      "Training (1000 / 18000 Steps) (loss=0.68632):  67%|██████▋   | 14/21 [01:02<01:31, 13.06s/it]"
     ]
    },
    {
     "name": "stdout",
     "output_type": "stream",
     "text": [
      "Model Was Saved ! Current Best Avg. Dice: 0.33035001158714294 Current Avg. Dice: 0.33035001158714294 Current Avg. tumor Dice: 0.40920841693878174 Current Avg. lymph Dice: 0.20804227888584137\n"
     ]
    },
    {
     "name": "stderr",
     "output_type": "stream",
     "text": [
      "Training (1007 / 18000 Steps) (loss=0.59108): 100%|██████████| 21/21 [01:06<00:00,  3.19s/it]\n",
      "Training (1028 / 18000 Steps) (loss=0.71694): 100%|██████████| 21/21 [00:30<00:00,  1.44s/it]\n",
      "Training (1049 / 18000 Steps) (loss=0.53023): 100%|██████████| 21/21 [00:30<00:00,  1.44s/it]\n",
      "Training (1070 / 18000 Steps) (loss=0.68302): 100%|██████████| 21/21 [00:23<00:00,  1.13s/it]\n",
      "Training (1091 / 18000 Steps) (loss=0.68793): 100%|██████████| 21/21 [00:30<00:00,  1.45s/it]\n",
      "Validate (1092 / 10 Steps): 100%|██████████| 8/8 [00:37<00:00,  4.68s/it]0<00:12,  1.01it/s]\n",
      "Training (1100 / 18000 Steps) (loss=0.56149):  43%|████▎     | 9/21 [00:58<02:46, 13.89s/it]"
     ]
    },
    {
     "name": "stdout",
     "output_type": "stream",
     "text": [
      "Model Was Not Saved ! Current Best Avg. Dice: 0.33035001158714294 Current Avg. Dice: 0.3269731104373932 Current Avg. tumor Dice: 0.3984166085720062 Current Avg. lymph Dice: 0.21492330729961395\n"
     ]
    },
    {
     "name": "stderr",
     "output_type": "stream",
     "text": [
      "Training (1112 / 18000 Steps) (loss=0.45174): 100%|██████████| 21/21 [01:05<00:00,  3.13s/it]\n",
      "Training (1133 / 18000 Steps) (loss=0.38946): 100%|██████████| 21/21 [00:32<00:00,  1.54s/it]\n",
      "Training (1154 / 18000 Steps) (loss=0.55832): 100%|██████████| 21/21 [00:29<00:00,  1.39s/it]\n",
      "Training (1175 / 18000 Steps) (loss=0.40841): 100%|██████████| 21/21 [00:26<00:00,  1.25s/it]\n",
      "Training (1196 / 18000 Steps) (loss=0.68522): 100%|██████████| 21/21 [00:31<00:00,  1.48s/it]\n",
      "Validate (1197 / 10 Steps): 100%|██████████| 8/8 [00:38<00:00,  4.80s/it]7<01:18,  4.37s/it]\n",
      "Training (1200 / 18000 Steps) (loss=0.54528):  19%|█▉        | 4/21 [00:56<05:07, 18.09s/it]"
     ]
    },
    {
     "name": "stdout",
     "output_type": "stream",
     "text": [
      "Model Was Not Saved ! Current Best Avg. Dice: 0.33035001158714294 Current Avg. Dice: 0.2618419826030731 Current Avg. tumor Dice: 0.4156937003135681 Current Avg. lymph Dice: 0.05885687470436096\n"
     ]
    },
    {
     "name": "stderr",
     "output_type": "stream",
     "text": [
      "Training (1217 / 18000 Steps) (loss=0.68351): 100%|██████████| 21/21 [01:06<00:00,  3.18s/it]\n",
      "Training (1238 / 18000 Steps) (loss=0.64512): 100%|██████████| 21/21 [00:30<00:00,  1.44s/it]\n",
      "Training (1259 / 18000 Steps) (loss=0.68115): 100%|██████████| 21/21 [00:30<00:00,  1.48s/it]\n",
      "Training (1280 / 18000 Steps) (loss=0.48442): 100%|██████████| 21/21 [00:25<00:00,  1.20s/it]\n",
      "Validate (1281 / 10 Steps): 100%|██████████| 8/8 [00:36<00:00,  4.55s/it]33<00:03,  1.60s/it]\n",
      "Training (1300 / 18000 Steps) (loss=0.59697):  95%|█████████▌| 20/21 [01:09<00:12, 12.20s/it]"
     ]
    },
    {
     "name": "stdout",
     "output_type": "stream",
     "text": [
      "Model Was Not Saved ! Current Best Avg. Dice: 0.33035001158714294 Current Avg. Dice: 0.3001963198184967 Current Avg. tumor Dice: 0.3587847054004669 Current Avg. lymph Dice: 0.2061181217432022\n"
     ]
    },
    {
     "name": "stderr",
     "output_type": "stream",
     "text": [
      "Training (1301 / 18000 Steps) (loss=0.49763): 100%|██████████| 21/21 [01:11<00:00,  3.38s/it]\n",
      "Training (1322 / 18000 Steps) (loss=0.51888): 100%|██████████| 21/21 [00:31<00:00,  1.48s/it]\n",
      "Training (1343 / 18000 Steps) (loss=0.75011): 100%|██████████| 21/21 [00:34<00:00,  1.64s/it]\n",
      "Training (1364 / 18000 Steps) (loss=0.40376): 100%|██████████| 21/21 [00:24<00:00,  1.18s/it]\n",
      "Training (1385 / 18000 Steps) (loss=0.67968): 100%|██████████| 21/21 [00:32<00:00,  1.57s/it]\n",
      "Validate (1386 / 10 Steps): 100%|██████████| 8/8 [00:36<00:00,  4.53s/it]25<00:05,  1.24it/s]\n",
      "Training (1400 / 18000 Steps) (loss=0.55674):  71%|███████▏  | 15/21 [01:01<01:10, 11.69s/it]"
     ]
    },
    {
     "name": "stdout",
     "output_type": "stream",
     "text": [
      "Model Was Not Saved ! Current Best Avg. Dice: 0.33035001158714294 Current Avg. Dice: 0.302791029214859 Current Avg. tumor Dice: 0.4260203242301941 Current Avg. lymph Dice: 0.13070784509181976\n"
     ]
    },
    {
     "name": "stderr",
     "output_type": "stream",
     "text": [
      "Training (1406 / 18000 Steps) (loss=0.67737): 100%|██████████| 21/21 [01:05<00:00,  3.12s/it]\n",
      "Training (1427 / 18000 Steps) (loss=0.67572): 100%|██████████| 21/21 [00:32<00:00,  1.57s/it]\n",
      "Training (1448 / 18000 Steps) (loss=0.48369): 100%|██████████| 21/21 [00:23<00:00,  1.13s/it]\n",
      "Training (1469 / 18000 Steps) (loss=0.75178): 100%|██████████| 21/21 [00:29<00:00,  1.40s/it]\n",
      "Training (1490 / 18000 Steps) (loss=0.68409): 100%|██████████| 21/21 [00:30<00:00,  1.46s/it]\n",
      "Validate (1491 / 10 Steps): 100%|██████████| 8/8 [00:37<00:00,  4.74s/it]6<00:18,  1.55s/it]\n",
      "Training (1500 / 18000 Steps) (loss=0.54760):  48%|████▊     | 10/21 [00:54<02:23, 13.04s/it]"
     ]
    },
    {
     "name": "stdout",
     "output_type": "stream",
     "text": [
      "Model Was Not Saved ! Current Best Avg. Dice: 0.33035001158714294 Current Avg. Dice: 0.3029464781284332 Current Avg. tumor Dice: 0.41594192385673523 Current Avg. lymph Dice: 0.14447548985481262\n"
     ]
    },
    {
     "name": "stderr",
     "output_type": "stream",
     "text": [
      "Training (1511 / 18000 Steps) (loss=0.39108): 100%|██████████| 21/21 [01:00<00:00,  2.88s/it]\n",
      "Training (1532 / 18000 Steps) (loss=0.67757): 100%|██████████| 21/21 [00:34<00:00,  1.62s/it]\n",
      "Training (1553 / 18000 Steps) (loss=0.67605): 100%|██████████| 21/21 [00:25<00:00,  1.22s/it]\n",
      "Training (1574 / 18000 Steps) (loss=0.35988): 100%|██████████| 21/21 [00:32<00:00,  1.53s/it]\n",
      "Training (1595 / 18000 Steps) (loss=0.69355): 100%|██████████| 21/21 [00:29<00:00,  1.39s/it]\n",
      "Validate (1596 / 10 Steps): 100%|██████████| 8/8 [00:41<00:00,  5.21s/it]2<00:33,  1.95s/it]\n",
      "Training (1600 / 18000 Steps) (loss=0.64992):  24%|██▍       | 5/21 [00:54<04:25, 16.56s/it]"
     ]
    },
    {
     "name": "stdout",
     "output_type": "stream",
     "text": [
      "Model Was Not Saved ! Current Best Avg. Dice: 0.33035001158714294 Current Avg. Dice: 0.3175308108329773 Current Avg. tumor Dice: 0.4091931879520416 Current Avg. lymph Dice: 0.18232135474681854\n"
     ]
    },
    {
     "name": "stderr",
     "output_type": "stream",
     "text": [
      "Training (1616 / 18000 Steps) (loss=0.65786): 100%|██████████| 21/21 [01:03<00:00,  3.04s/it]\n",
      "Training (1637 / 18000 Steps) (loss=0.67784): 100%|██████████| 21/21 [00:34<00:00,  1.65s/it]\n",
      "Training (1658 / 18000 Steps) (loss=0.69278): 100%|██████████| 21/21 [00:27<00:00,  1.29s/it]\n",
      "Training (1679 / 18000 Steps) (loss=0.74155): 100%|██████████| 21/21 [00:33<00:00,  1.62s/it]\n",
      "Validate (1680 / 10 Steps): 100%|██████████| 8/8 [00:37<00:00,  4.63s/it]26<00:00,  1.46it/s]\n",
      "Training (1700 / 18000 Steps) (loss=0.65426): 100%|██████████| 21/21 [01:03<00:00, 11.74s/it]"
     ]
    },
    {
     "name": "stdout",
     "output_type": "stream",
     "text": [
      "Model Was Not Saved ! Current Best Avg. Dice: 0.33035001158714294 Current Avg. Dice: 0.2827771306037903 Current Avg. tumor Dice: 0.3409188985824585 Current Avg. lymph Dice: 0.19761790335178375\n"
     ]
    },
    {
     "name": "stderr",
     "output_type": "stream",
     "text": [
      "Training (1700 / 18000 Steps) (loss=0.65426): 100%|██████████| 21/21 [01:04<00:00,  3.06s/it]\n",
      "Training (1721 / 18000 Steps) (loss=0.52105): 100%|██████████| 21/21 [00:32<00:00,  1.53s/it]\n",
      "Training (1742 / 18000 Steps) (loss=0.67255): 100%|██████████| 21/21 [00:28<00:00,  1.37s/it]\n",
      "Training (1763 / 18000 Steps) (loss=0.52923): 100%|██████████| 21/21 [00:26<00:00,  1.24s/it]\n",
      "Training (1784 / 18000 Steps) (loss=0.67502): 100%|██████████| 21/21 [00:31<00:00,  1.49s/it]\n",
      "Validate (1785 / 10 Steps): 100%|██████████| 8/8 [00:39<00:00,  4.89s/it]20<00:04,  1.46it/s]\n",
      "Training (1800 / 18000 Steps) (loss=0.66147):  76%|███████▌  | 16/21 [00:59<01:02, 12.46s/it]"
     ]
    },
    {
     "name": "stdout",
     "output_type": "stream",
     "text": [
      "Model Was Not Saved ! Current Best Avg. Dice: 0.33035001158714294 Current Avg. Dice: 0.3253447115421295 Current Avg. tumor Dice: 0.42499101161956787 Current Avg. lymph Dice: 0.1868712157011032\n"
     ]
    },
    {
     "name": "stderr",
     "output_type": "stream",
     "text": [
      "Training (1805 / 18000 Steps) (loss=0.35684): 100%|██████████| 21/21 [01:02<00:00,  2.99s/it]\n",
      "Training (1826 / 18000 Steps) (loss=0.54235): 100%|██████████| 21/21 [00:27<00:00,  1.29s/it]\n",
      "Training (1847 / 18000 Steps) (loss=0.47157): 100%|██████████| 21/21 [00:29<00:00,  1.42s/it]\n",
      "Training (1868 / 18000 Steps) (loss=0.48244): 100%|██████████| 21/21 [00:28<00:00,  1.38s/it]\n",
      "Training (1889 / 18000 Steps) (loss=0.60953): 100%|██████████| 21/21 [00:26<00:00,  1.24s/it]\n",
      "Validate (1890 / 10 Steps): 100%|██████████| 8/8 [00:38<00:00,  4.82s/it]23<00:21,  2.00s/it]\n",
      "Training (1900 / 18000 Steps) (loss=0.56003):  52%|█████▏    | 11/21 [01:02<02:13, 13.40s/it]"
     ]
    },
    {
     "name": "stdout",
     "output_type": "stream",
     "text": [
      "Model Was Not Saved ! Current Best Avg. Dice: 0.33035001158714294 Current Avg. Dice: 0.3281717598438263 Current Avg. tumor Dice: 0.4209343492984772 Current Avg. lymph Dice: 0.19019916653633118\n"
     ]
    },
    {
     "name": "stderr",
     "output_type": "stream",
     "text": [
      "Training (1910 / 18000 Steps) (loss=0.67212): 100%|██████████| 21/21 [01:08<00:00,  3.26s/it]\n",
      "Training (1931 / 18000 Steps) (loss=0.47877): 100%|██████████| 21/21 [00:29<00:00,  1.40s/it]\n",
      "Training (1952 / 18000 Steps) (loss=0.26609): 100%|██████████| 21/21 [00:25<00:00,  1.19s/it]\n",
      "Training (1973 / 18000 Steps) (loss=0.45379): 100%|██████████| 21/21 [00:33<00:00,  1.60s/it]\n",
      "Training (1994 / 18000 Steps) (loss=0.37742): 100%|██████████| 21/21 [00:24<00:00,  1.17s/it]\n",
      "Validate (1995 / 10 Steps): 100%|██████████| 8/8 [00:41<00:00,  5.24s/it]6<00:27,  1.71s/it]\n",
      "Training (2000 / 18000 Steps) (loss=0.59234):  29%|██▊       | 6/21 [00:58<03:55, 15.67s/it]"
     ]
    },
    {
     "name": "stdout",
     "output_type": "stream",
     "text": [
      "Model Was Not Saved ! Current Best Avg. Dice: 0.33035001158714294 Current Avg. Dice: 0.33024507761001587 Current Avg. tumor Dice: 0.4204501211643219 Current Avg. lymph Dice: 0.20264114439487457\n"
     ]
    },
    {
     "name": "stderr",
     "output_type": "stream",
     "text": [
      "Training (2015 / 18000 Steps) (loss=0.50781): 100%|██████████| 21/21 [01:07<00:00,  3.23s/it]\n",
      "Training (2036 / 18000 Steps) (loss=0.57022): 100%|██████████| 21/21 [00:30<00:00,  1.46s/it]\n",
      "Training (2057 / 18000 Steps) (loss=0.48203): 100%|██████████| 21/21 [00:26<00:00,  1.25s/it]\n",
      "Training (2078 / 18000 Steps) (loss=0.50835): 100%|██████████| 21/21 [00:31<00:00,  1.50s/it]\n",
      "Training (2099 / 18000 Steps) (loss=0.67178): 100%|██████████| 21/21 [00:25<00:00,  1.22s/it]\n",
      "Validate (2100 / 10 Steps): 100%|██████████| 8/8 [00:40<00:00,  5.08s/it]4<?, ?it/s]\n",
      "Training (2100 / 18000 Steps) (loss=0.53920):   5%|▍         | 1/21 [00:56<18:55, 56.77s/it]"
     ]
    },
    {
     "name": "stdout",
     "output_type": "stream",
     "text": [
      "Model Was Saved ! Current Best Avg. Dice: 0.3328646719455719 Current Avg. Dice: 0.3328646719455719 Current Avg. tumor Dice: 0.40463557839393616 Current Avg. lymph Dice: 0.22399041056632996\n"
     ]
    },
    {
     "name": "stderr",
     "output_type": "stream",
     "text": [
      "Training (2120 / 18000 Steps) (loss=0.54624): 100%|██████████| 21/21 [01:10<00:00,  3.34s/it]\n",
      "Training (2141 / 18000 Steps) (loss=0.67032): 100%|██████████| 21/21 [00:27<00:00,  1.32s/it]\n",
      "Training (2162 / 18000 Steps) (loss=0.39523): 100%|██████████| 21/21 [00:26<00:00,  1.26s/it]\n",
      "Training (2183 / 18000 Steps) (loss=0.44990): 100%|██████████| 21/21 [00:31<00:00,  1.48s/it]\n",
      "Validate (2184 / 10 Steps): 100%|██████████| 8/8 [00:36<00:00,  4.58s/it]21<00:03,  1.64it/s]\n",
      "Training (2200 / 18000 Steps) (loss=0.38721):  81%|████████  | 17/21 [01:00<00:49, 12.27s/it]"
     ]
    },
    {
     "name": "stdout",
     "output_type": "stream",
     "text": [
      "Model Was Saved ! Current Best Avg. Dice: 0.3466835021972656 Current Avg. Dice: 0.3466835021972656 Current Avg. tumor Dice: 0.4418978989124298 Current Avg. lymph Dice: 0.20749840140342712\n"
     ]
    },
    {
     "name": "stderr",
     "output_type": "stream",
     "text": [
      "Training (2204 / 18000 Steps) (loss=0.60692): 100%|██████████| 21/21 [01:03<00:00,  3.00s/it]\n",
      "Training (2225 / 18000 Steps) (loss=0.55456): 100%|██████████| 21/21 [00:30<00:00,  1.45s/it]\n",
      "Training (2246 / 18000 Steps) (loss=0.66992): 100%|██████████| 21/21 [00:23<00:00,  1.12s/it]\n",
      "Training (2267 / 18000 Steps) (loss=0.67156): 100%|██████████| 21/21 [00:31<00:00,  1.48s/it]\n",
      "Training (2288 / 18000 Steps) (loss=0.45348): 100%|██████████| 21/21 [00:26<00:00,  1.26s/it]\n",
      "Validate (2289 / 10 Steps): 100%|██████████| 8/8 [00:37<00:00,  4.73s/it]24<00:13,  1.35s/it]\n",
      "Training (2300 / 18000 Steps) (loss=0.67998):  57%|█████▋    | 12/21 [01:04<01:58, 13.12s/it]"
     ]
    },
    {
     "name": "stdout",
     "output_type": "stream",
     "text": [
      "Model Was Saved ! Current Best Avg. Dice: 0.34775760769844055 Current Avg. Dice: 0.34775760769844055 Current Avg. tumor Dice: 0.43890437483787537 Current Avg. lymph Dice: 0.21488621830940247\n"
     ]
    },
    {
     "name": "stderr",
     "output_type": "stream",
     "text": [
      "Training (2309 / 18000 Steps) (loss=0.67364): 100%|██████████| 21/21 [01:09<00:00,  3.31s/it]\n",
      "Training (2330 / 18000 Steps) (loss=0.27203): 100%|██████████| 21/21 [00:30<00:00,  1.47s/it]\n",
      "Training (2351 / 18000 Steps) (loss=0.42428): 100%|██████████| 21/21 [00:24<00:00,  1.18s/it]\n",
      "Training (2372 / 18000 Steps) (loss=0.34339): 100%|██████████| 21/21 [00:30<00:00,  1.44s/it]\n",
      "Training (2393 / 18000 Steps) (loss=0.41520): 100%|██████████| 21/21 [00:28<00:00,  1.37s/it]\n",
      "Validate (2394 / 10 Steps): 100%|██████████| 8/8 [00:39<00:00,  4.92s/it]8<00:21,  1.44s/it]\n",
      "Training (2400 / 18000 Steps) (loss=0.49638):  33%|███▎      | 7/21 [00:58<03:16, 14.03s/it]"
     ]
    },
    {
     "name": "stdout",
     "output_type": "stream",
     "text": [
      "Model Was Not Saved ! Current Best Avg. Dice: 0.34775760769844055 Current Avg. Dice: 0.2880924344062805 Current Avg. tumor Dice: 0.41369616985321045 Current Avg. lymph Dice: 0.1204664334654808\n"
     ]
    },
    {
     "name": "stderr",
     "output_type": "stream",
     "text": [
      "Training (2414 / 18000 Steps) (loss=0.66987): 100%|██████████| 21/21 [01:07<00:00,  3.20s/it]\n",
      "Training (2435 / 18000 Steps) (loss=0.32226): 100%|██████████| 21/21 [00:30<00:00,  1.46s/it]\n",
      "Training (2456 / 18000 Steps) (loss=0.54718): 100%|██████████| 21/21 [00:25<00:00,  1.21s/it]\n",
      "Training (2477 / 18000 Steps) (loss=0.42531): 100%|██████████| 21/21 [00:27<00:00,  1.32s/it]\n",
      "Training (2498 / 18000 Steps) (loss=0.67057): 100%|██████████| 21/21 [00:25<00:00,  1.20s/it]\n",
      "Validate (2499 / 10 Steps): 100%|██████████| 8/8 [00:41<00:00,  5.21s/it]3<04:14, 12.75s/it]\n",
      "Training (2500 / 18000 Steps) (loss=0.30880):  10%|▉         | 2/21 [00:55<09:35, 30.31s/it]"
     ]
    },
    {
     "name": "stdout",
     "output_type": "stream",
     "text": [
      "Model Was Not Saved ! Current Best Avg. Dice: 0.34775760769844055 Current Avg. Dice: 0.2913540005683899 Current Avg. tumor Dice: 0.39316362142562866 Current Avg. lymph Dice: 0.16194771230220795\n"
     ]
    },
    {
     "name": "stderr",
     "output_type": "stream",
     "text": [
      "Training (2519 / 18000 Steps) (loss=0.42189): 100%|██████████| 21/21 [01:07<00:00,  3.21s/it]\n",
      "Training (2540 / 18000 Steps) (loss=0.66936): 100%|██████████| 21/21 [00:30<00:00,  1.46s/it]\n",
      "Training (2561 / 18000 Steps) (loss=0.50921): 100%|██████████| 21/21 [00:26<00:00,  1.25s/it]\n",
      "Training (2582 / 18000 Steps) (loss=0.50014): 100%|██████████| 21/21 [00:32<00:00,  1.53s/it]\n",
      "Validate (2583 / 10 Steps): 100%|██████████| 8/8 [00:39<00:00,  4.99s/it]23<00:03,  1.05it/s]\n",
      "Training (2600 / 18000 Steps) (loss=0.49422):  86%|████████▌ | 18/21 [01:05<00:40, 13.38s/it]"
     ]
    },
    {
     "name": "stdout",
     "output_type": "stream",
     "text": [
      "Model Was Saved ! Current Best Avg. Dice: 0.3480401933193207 Current Avg. Dice: 0.3480401933193207 Current Avg. tumor Dice: 0.44123154878616333 Current Avg. lymph Dice: 0.21784046292304993\n"
     ]
    },
    {
     "name": "stderr",
     "output_type": "stream",
     "text": [
      "Training (2603 / 18000 Steps) (loss=0.40098): 100%|██████████| 21/21 [01:06<00:00,  3.19s/it]\n",
      "Training (2624 / 18000 Steps) (loss=0.66968): 100%|██████████| 21/21 [00:29<00:00,  1.38s/it]\n",
      "Training (2645 / 18000 Steps) (loss=0.64738): 100%|██████████| 21/21 [00:24<00:00,  1.17s/it]\n",
      "Training (2666 / 18000 Steps) (loss=0.67264): 100%|██████████| 21/21 [00:30<00:00,  1.43s/it]\n",
      "Training (2687 / 18000 Steps) (loss=0.66915): 100%|██████████| 21/21 [00:24<00:00,  1.16s/it]\n",
      "Validate (2688 / 10 Steps): 100%|██████████| 8/8 [00:35<00:00,  4.49s/it]25<00:09,  1.03s/it]\n",
      "Training (2700 / 18000 Steps) (loss=0.67212):  62%|██████▏   | 13/21 [01:01<01:34, 11.77s/it]"
     ]
    },
    {
     "name": "stdout",
     "output_type": "stream",
     "text": [
      "Model Was Not Saved ! Current Best Avg. Dice: 0.3480401933193207 Current Avg. Dice: 0.33234792947769165 Current Avg. tumor Dice: 0.4215908646583557 Current Avg. lymph Dice: 0.20892834663391113\n"
     ]
    },
    {
     "name": "stderr",
     "output_type": "stream",
     "text": [
      "Training (2708 / 18000 Steps) (loss=0.33395): 100%|██████████| 21/21 [01:06<00:00,  3.14s/it]\n",
      "Training (2729 / 18000 Steps) (loss=0.45052): 100%|██████████| 21/21 [00:31<00:00,  1.48s/it]\n",
      "Training (2750 / 18000 Steps) (loss=0.67430): 100%|██████████| 21/21 [00:25<00:00,  1.21s/it]\n",
      "Training (2771 / 18000 Steps) (loss=0.76514): 100%|██████████| 21/21 [00:26<00:00,  1.26s/it]\n",
      "Training (2792 / 18000 Steps) (loss=0.44579): 100%|██████████| 21/21 [00:21<00:00,  1.04s/it]\n",
      "Validate (2793 / 10 Steps): 100%|██████████| 8/8 [00:39<00:00,  4.96s/it]4<00:13,  1.01it/s]\n",
      "Training (2800 / 18000 Steps) (loss=0.42814):  38%|███▊      | 8/21 [00:55<03:02, 14.02s/it]"
     ]
    },
    {
     "name": "stdout",
     "output_type": "stream",
     "text": [
      "Model Was Saved ! Current Best Avg. Dice: 0.34929201006889343 Current Avg. Dice: 0.34929201006889343 Current Avg. tumor Dice: 0.4184853732585907 Current Avg. lymph Dice: 0.24892686307430267\n"
     ]
    },
    {
     "name": "stderr",
     "output_type": "stream",
     "text": [
      "Training (2813 / 18000 Steps) (loss=0.66928): 100%|██████████| 21/21 [01:03<00:00,  3.00s/it]\n",
      "Training (2834 / 18000 Steps) (loss=0.68889): 100%|██████████| 21/21 [00:26<00:00,  1.27s/it]\n",
      "Training (2855 / 18000 Steps) (loss=0.47105): 100%|██████████| 21/21 [00:28<00:00,  1.34s/it]\n",
      "Training (2876 / 18000 Steps) (loss=0.67043): 100%|██████████| 21/21 [00:26<00:00,  1.25s/it]\n",
      "Training (2897 / 18000 Steps) (loss=0.66854): 100%|██████████| 21/21 [00:21<00:00,  1.04s/it]\n",
      "Validate (2898 / 10 Steps): 100%|██████████| 8/8 [00:36<00:00,  4.56s/it]0<01:19,  4.18s/it]\n",
      "Training (2900 / 18000 Steps) (loss=0.61756):  14%|█▍        | 3/21 [00:47<05:47, 19.28s/it]"
     ]
    },
    {
     "name": "stdout",
     "output_type": "stream",
     "text": [
      "Model Was Not Saved ! Current Best Avg. Dice: 0.34929201006889343 Current Avg. Dice: 0.3394831717014313 Current Avg. tumor Dice: 0.3875565826892853 Current Avg. lymph Dice: 0.2569893002510071\n"
     ]
    },
    {
     "name": "stderr",
     "output_type": "stream",
     "text": [
      "Training (2918 / 18000 Steps) (loss=0.69299): 100%|██████████| 21/21 [00:59<00:00,  2.81s/it]\n",
      "Training (2939 / 18000 Steps) (loss=0.26360): 100%|██████████| 21/21 [00:31<00:00,  1.51s/it]\n",
      "Training (2960 / 18000 Steps) (loss=0.66911): 100%|██████████| 21/21 [00:31<00:00,  1.51s/it]\n",
      "Training (2981 / 18000 Steps) (loss=0.30418): 100%|██████████| 21/21 [00:33<00:00,  1.61s/it]\n",
      "Validate (2982 / 10 Steps): 100%|██████████| 8/8 [00:37<00:00,  4.64s/it]19<00:02,  1.24it/s]\n",
      "Training (3000 / 18000 Steps) (loss=0.63756):  90%|█████████ | 19/21 [00:57<00:23, 11.91s/it]"
     ]
    },
    {
     "name": "stdout",
     "output_type": "stream",
     "text": [
      "Model Was Not Saved ! Current Best Avg. Dice: 0.34929201006889343 Current Avg. Dice: 0.349073588848114 Current Avg. tumor Dice: 0.4278658330440521 Current Avg. lymph Dice: 0.23194792866706848\n"
     ]
    },
    {
     "name": "stderr",
     "output_type": "stream",
     "text": [
      "Training (3002 / 18000 Steps) (loss=0.59807): 100%|██████████| 21/21 [00:58<00:00,  2.76s/it]\n",
      "Training (3023 / 18000 Steps) (loss=0.60227): 100%|██████████| 21/21 [00:32<00:00,  1.57s/it]\n",
      "Training (3044 / 18000 Steps) (loss=0.47632): 100%|██████████| 21/21 [00:34<00:00,  1.62s/it]\n",
      "Training (3065 / 18000 Steps) (loss=0.66904): 100%|██████████| 21/21 [00:31<00:00,  1.48s/it]\n",
      "Training (3086 / 18000 Steps) (loss=0.66724): 100%|██████████| 21/21 [00:22<00:00,  1.07s/it]\n",
      "Validate (3087 / 10 Steps): 100%|██████████| 8/8 [00:39<00:00,  4.96s/it]23<00:07,  1.05it/s]\n",
      "Training (3100 / 18000 Steps) (loss=0.32277):  67%|██████▋   | 14/21 [01:04<01:32, 13.24s/it]"
     ]
    },
    {
     "name": "stdout",
     "output_type": "stream",
     "text": [
      "Model Was Saved ! Current Best Avg. Dice: 0.36001917719841003 Current Avg. Dice: 0.36001917719841003 Current Avg. tumor Dice: 0.4185706079006195 Current Avg. lymph Dice: 0.2665196359157562\n"
     ]
    },
    {
     "name": "stderr",
     "output_type": "stream",
     "text": [
      "Training (3107 / 18000 Steps) (loss=0.64728): 100%|██████████| 21/21 [01:08<00:00,  3.27s/it]\n",
      "Training (3128 / 18000 Steps) (loss=0.61253): 100%|██████████| 21/21 [00:29<00:00,  1.43s/it]\n",
      "Training (3149 / 18000 Steps) (loss=0.43673): 100%|██████████| 21/21 [00:32<00:00,  1.54s/it]\n",
      "Training (3170 / 18000 Steps) (loss=0.35153): 100%|██████████| 21/21 [00:29<00:00,  1.42s/it]\n",
      "Training (3191 / 18000 Steps) (loss=0.25283): 100%|██████████| 21/21 [00:20<00:00,  1.02it/s]\n",
      "Validate (3192 / 10 Steps): 100%|██████████| 8/8 [00:39<00:00,  4.91s/it]1<00:12,  1.08it/s]\n",
      "Training (3200 / 18000 Steps) (loss=0.29789):  43%|████▎     | 9/21 [01:01<02:54, 14.55s/it]"
     ]
    },
    {
     "name": "stdout",
     "output_type": "stream",
     "text": [
      "Model Was Not Saved ! Current Best Avg. Dice: 0.36001917719841003 Current Avg. Dice: 0.2913370132446289 Current Avg. tumor Dice: 0.40771135687828064 Current Avg. lymph Dice: 0.13773413002490997\n"
     ]
    },
    {
     "name": "stderr",
     "output_type": "stream",
     "text": [
      "Training (3212 / 18000 Steps) (loss=0.68863): 100%|██████████| 21/21 [01:08<00:00,  3.25s/it]\n",
      "Training (3233 / 18000 Steps) (loss=0.44554): 100%|██████████| 21/21 [00:30<00:00,  1.46s/it]\n",
      "Training (3254 / 18000 Steps) (loss=0.66873): 100%|██████████| 21/21 [00:32<00:00,  1.53s/it]\n",
      "Training (3275 / 18000 Steps) (loss=0.35654): 100%|██████████| 21/21 [00:30<00:00,  1.45s/it]\n",
      "Training (3296 / 18000 Steps) (loss=0.66829): 100%|██████████| 21/21 [00:19<00:00,  1.06it/s]\n",
      "Validate (3297 / 10 Steps): 100%|██████████| 8/8 [00:42<00:00,  5.27s/it]3<00:56,  3.13s/it]\n",
      "Training (3300 / 18000 Steps) (loss=0.58317):  19%|█▉        | 4/21 [00:55<05:20, 18.84s/it]"
     ]
    },
    {
     "name": "stdout",
     "output_type": "stream",
     "text": [
      "Model Was Not Saved ! Current Best Avg. Dice: 0.36001917719841003 Current Avg. Dice: 0.322267085313797 Current Avg. tumor Dice: 0.4229813516139984 Current Avg. lymph Dice: 0.17887671291828156\n"
     ]
    },
    {
     "name": "stderr",
     "output_type": "stream",
     "text": [
      "Training (3317 / 18000 Steps) (loss=0.66881): 100%|██████████| 21/21 [01:06<00:00,  3.18s/it]\n",
      "Training (3338 / 18000 Steps) (loss=0.65254): 100%|██████████| 21/21 [00:31<00:00,  1.49s/it]\n",
      "Training (3359 / 18000 Steps) (loss=0.66810): 100%|██████████| 21/21 [00:30<00:00,  1.43s/it]\n",
      "Training (3380 / 18000 Steps) (loss=0.66890): 100%|██████████| 21/21 [00:34<00:00,  1.66s/it]\n",
      "Validate (3381 / 10 Steps): 100%|██████████| 8/8 [00:36<00:00,  4.53s/it]18<00:01,  1.55it/s]\n",
      "Training (3400 / 18000 Steps) (loss=0.49730):  95%|█████████▌| 20/21 [00:54<00:11, 11.49s/it]"
     ]
    },
    {
     "name": "stdout",
     "output_type": "stream",
     "text": [
      "Model Was Not Saved ! Current Best Avg. Dice: 0.36001917719841003 Current Avg. Dice: 0.33148491382598877 Current Avg. tumor Dice: 0.41892921924591064 Current Avg. lymph Dice: 0.20420575141906738\n"
     ]
    },
    {
     "name": "stderr",
     "output_type": "stream",
     "text": [
      "Training (3401 / 18000 Steps) (loss=0.51772): 100%|██████████| 21/21 [00:54<00:00,  2.61s/it]\n",
      "Training (3422 / 18000 Steps) (loss=0.19452): 100%|██████████| 21/21 [00:30<00:00,  1.47s/it]\n",
      "Training (3443 / 18000 Steps) (loss=0.35319): 100%|██████████| 21/21 [00:31<00:00,  1.50s/it]\n",
      "Training (3464 / 18000 Steps) (loss=0.24418): 100%|██████████| 21/21 [00:32<00:00,  1.53s/it]\n",
      "Training (3485 / 18000 Steps) (loss=0.66973): 100%|██████████| 21/21 [00:30<00:00,  1.44s/it]\n",
      "Validate (3486 / 10 Steps): 100%|██████████| 8/8 [00:35<00:00,  4.46s/it]16<00:04,  1.67it/s]\n",
      "Training (3500 / 18000 Steps) (loss=0.34781):  71%|███████▏  | 15/21 [00:51<01:08, 11.36s/it]"
     ]
    },
    {
     "name": "stdout",
     "output_type": "stream",
     "text": [
      "Model Was Not Saved ! Current Best Avg. Dice: 0.36001917719841003 Current Avg. Dice: 0.316372811794281 Current Avg. tumor Dice: 0.4128561019897461 Current Avg. lymph Dice: 0.18418796360492706\n"
     ]
    },
    {
     "name": "stderr",
     "output_type": "stream",
     "text": [
      "Training (3506 / 18000 Steps) (loss=0.66990): 100%|██████████| 21/21 [00:55<00:00,  2.63s/it]\n",
      "Training (3527 / 18000 Steps) (loss=0.67022): 100%|██████████| 21/21 [00:28<00:00,  1.37s/it]\n",
      "Training (3548 / 18000 Steps) (loss=0.66914): 100%|██████████| 21/21 [00:30<00:00,  1.48s/it]\n",
      "Training (3569 / 18000 Steps) (loss=0.51272): 100%|██████████| 21/21 [00:31<00:00,  1.52s/it]\n",
      "Training (3590 / 18000 Steps) (loss=0.40636): 100%|██████████| 21/21 [00:19<00:00,  1.09it/s]\n",
      "Validate (3591 / 10 Steps): 100%|██████████| 8/8 [00:38<00:00,  4.83s/it]5<00:21,  1.75s/it]\n",
      "Training (3600 / 18000 Steps) (loss=0.46446):  48%|████▊     | 10/21 [00:54<02:26, 13.35s/it]"
     ]
    },
    {
     "name": "stdout",
     "output_type": "stream",
     "text": [
      "Model Was Not Saved ! Current Best Avg. Dice: 0.36001917719841003 Current Avg. Dice: 0.3178442418575287 Current Avg. tumor Dice: 0.37902042269706726 Current Avg. lymph Dice: 0.22649851441383362\n"
     ]
    },
    {
     "name": "stderr",
     "output_type": "stream",
     "text": [
      "Training (3611 / 18000 Steps) (loss=0.49373): 100%|██████████| 21/21 [01:00<00:00,  2.87s/it]\n",
      "Training (3632 / 18000 Steps) (loss=0.67548): 100%|██████████| 21/21 [00:31<00:00,  1.52s/it]\n",
      "Training (3653 / 18000 Steps) (loss=0.28363): 100%|██████████| 21/21 [00:29<00:00,  1.42s/it]\n",
      "Training (3674 / 18000 Steps) (loss=0.40788): 100%|██████████| 21/21 [00:34<00:00,  1.63s/it]\n",
      "Training (3695 / 18000 Steps) (loss=0.45231): 100%|██████████| 21/21 [00:25<00:00,  1.21s/it]\n",
      "Validate (3696 / 10 Steps): 100%|██████████| 8/8 [00:39<00:00,  4.94s/it]0<00:26,  1.58s/it]\n",
      "Training (3700 / 18000 Steps) (loss=0.40240):  24%|██▍       | 5/21 [00:50<04:07, 15.48s/it]"
     ]
    },
    {
     "name": "stdout",
     "output_type": "stream",
     "text": [
      "Model Was Not Saved ! Current Best Avg. Dice: 0.36001917719841003 Current Avg. Dice: 0.334185928106308 Current Avg. tumor Dice: 0.4208274781703949 Current Avg. lymph Dice: 0.21050943434238434\n"
     ]
    },
    {
     "name": "stderr",
     "output_type": "stream",
     "text": [
      "Training (3716 / 18000 Steps) (loss=0.66796): 100%|██████████| 21/21 [01:00<00:00,  2.87s/it]\n",
      "Training (3737 / 18000 Steps) (loss=0.39691): 100%|██████████| 21/21 [00:33<00:00,  1.61s/it]\n",
      "Training (3758 / 18000 Steps) (loss=0.65727): 100%|██████████| 21/21 [00:32<00:00,  1.53s/it]\n",
      "Training (3779 / 18000 Steps) (loss=0.66770): 100%|██████████| 21/21 [00:35<00:00,  1.67s/it]\n",
      "Validate (3780 / 10 Steps): 100%|██████████| 8/8 [00:34<00:00,  4.36s/it]20<00:00,  1.78it/s]\n",
      "Training (3800 / 18000 Steps) (loss=0.66776): 100%|██████████| 21/21 [00:55<00:00,  2.63s/it]"
     ]
    },
    {
     "name": "stdout",
     "output_type": "stream",
     "text": [
      "Model Was Not Saved ! Current Best Avg. Dice: 0.36001917719841003 Current Avg. Dice: 0.3373745083808899 Current Avg. tumor Dice: 0.4317832291126251 Current Avg. lymph Dice: 0.2052667886018753\n"
     ]
    },
    {
     "name": "stderr",
     "output_type": "stream",
     "text": [
      "\n",
      "Training (3821 / 18000 Steps) (loss=0.17970): 100%|██████████| 21/21 [00:31<00:00,  1.49s/it]\n",
      "Training (3842 / 18000 Steps) (loss=0.41566): 100%|██████████| 21/21 [00:33<00:00,  1.59s/it]\n",
      "Training (3863 / 18000 Steps) (loss=0.37556): 100%|██████████| 21/21 [00:31<00:00,  1.51s/it]\n",
      "Training (3884 / 18000 Steps) (loss=0.60349): 100%|██████████| 21/21 [00:36<00:00,  1.76s/it]\n",
      "Validate (3885 / 10 Steps): 100%|██████████| 8/8 [00:35<00:00,  4.43s/it]15<00:03,  1.71it/s]\n",
      "Training (3900 / 18000 Steps) (loss=0.41661):  76%|███████▌  | 16/21 [00:51<00:56, 11.26s/it]"
     ]
    },
    {
     "name": "stdout",
     "output_type": "stream",
     "text": [
      "Model Was Not Saved ! Current Best Avg. Dice: 0.36001917719841003 Current Avg. Dice: 0.3284979462623596 Current Avg. tumor Dice: 0.4410399794578552 Current Avg. lymph Dice: 0.17416083812713623\n"
     ]
    },
    {
     "name": "stderr",
     "output_type": "stream",
     "text": [
      "Training (3905 / 18000 Steps) (loss=0.59613): 100%|██████████| 21/21 [00:54<00:00,  2.59s/it]\n",
      "Training (3926 / 18000 Steps) (loss=0.41321): 100%|██████████| 21/21 [00:32<00:00,  1.54s/it]\n",
      "Training (3947 / 18000 Steps) (loss=0.19168): 100%|██████████| 21/21 [00:31<00:00,  1.48s/it]\n",
      "Training (3968 / 18000 Steps) (loss=0.38597): 100%|██████████| 21/21 [00:31<00:00,  1.52s/it]\n",
      "Training (3989 / 18000 Steps) (loss=0.66869): 100%|██████████| 21/21 [00:24<00:00,  1.16s/it]\n",
      "Validate (3990 / 10 Steps): 100%|██████████| 8/8 [00:38<00:00,  4.78s/it]13<00:09,  1.19it/s]\n",
      "Training (4000 / 18000 Steps) (loss=0.67070):  52%|█████▏    | 11/21 [00:51<02:04, 12.48s/it]"
     ]
    },
    {
     "name": "stdout",
     "output_type": "stream",
     "text": [
      "Model Was Not Saved ! Current Best Avg. Dice: 0.36001917719841003 Current Avg. Dice: 0.31218400597572327 Current Avg. tumor Dice: 0.35544756054878235 Current Avg. lymph Dice: 0.24109946191310883\n"
     ]
    },
    {
     "name": "stderr",
     "output_type": "stream",
     "text": [
      "Training (4010 / 18000 Steps) (loss=0.45491): 100%|██████████| 21/21 [00:58<00:00,  2.76s/it]\n",
      "Training (4031 / 18000 Steps) (loss=0.66774): 100%|██████████| 21/21 [00:30<00:00,  1.46s/it]\n",
      "Training (4052 / 18000 Steps) (loss=0.67028): 100%|██████████| 21/21 [00:29<00:00,  1.38s/it]\n",
      "Training (4073 / 18000 Steps) (loss=0.29315): 100%|██████████| 21/21 [00:32<00:00,  1.53s/it]\n",
      "Training (4094 / 18000 Steps) (loss=0.14280): 100%|██████████| 21/21 [00:31<00:00,  1.49s/it]\n",
      "Validate (4095 / 10 Steps): 100%|██████████| 8/8 [00:37<00:00,  4.69s/it]9<00:19,  1.22s/it]\n",
      "Training (4100 / 18000 Steps) (loss=0.51811):  29%|██▊       | 6/21 [00:47<03:26, 13.77s/it]"
     ]
    },
    {
     "name": "stdout",
     "output_type": "stream",
     "text": [
      "Model Was Not Saved ! Current Best Avg. Dice: 0.36001917719841003 Current Avg. Dice: 0.32995155453681946 Current Avg. tumor Dice: 0.4235582947731018 Current Avg. lymph Dice: 0.19552065432071686\n"
     ]
    },
    {
     "name": "stderr",
     "output_type": "stream",
     "text": [
      "Training (4115 / 18000 Steps) (loss=0.51227): 100%|██████████| 21/21 [00:56<00:00,  2.68s/it]\n",
      "Training (4136 / 18000 Steps) (loss=0.44158): 100%|██████████| 21/21 [00:32<00:00,  1.55s/it]\n",
      "Training (4157 / 18000 Steps) (loss=0.66838): 100%|██████████| 21/21 [00:31<00:00,  1.51s/it]\n",
      "Training (4178 / 18000 Steps) (loss=0.19454): 100%|██████████| 21/21 [00:35<00:00,  1.67s/it]\n",
      "Training (4199 / 18000 Steps) (loss=0.66816): 100%|██████████| 21/21 [00:28<00:00,  1.38s/it]\n",
      "Validate (4200 / 10 Steps): 100%|██████████| 8/8 [00:38<00:00,  4.82s/it]7<?, ?it/s]\n",
      "Training (4200 / 18000 Steps) (loss=0.67334):   5%|▍         | 1/21 [00:46<15:23, 46.15s/it]"
     ]
    },
    {
     "name": "stdout",
     "output_type": "stream",
     "text": [
      "Model Was Not Saved ! Current Best Avg. Dice: 0.36001917719841003 Current Avg. Dice: 0.3355342745780945 Current Avg. tumor Dice: 0.438888281583786 Current Avg. lymph Dice: 0.19198904931545258\n"
     ]
    },
    {
     "name": "stderr",
     "output_type": "stream",
     "text": [
      "Training (4220 / 18000 Steps) (loss=0.31566): 100%|██████████| 21/21 [00:57<00:00,  2.75s/it]\n",
      "Training (4241 / 18000 Steps) (loss=0.54923): 100%|██████████| 21/21 [00:31<00:00,  1.51s/it]\n",
      "Training (4262 / 18000 Steps) (loss=0.56945): 100%|██████████| 21/21 [00:32<00:00,  1.53s/it]\n",
      "Training (4283 / 18000 Steps) (loss=0.66744): 100%|██████████| 21/21 [00:33<00:00,  1.57s/it]\n",
      "Validate (4284 / 10 Steps): 100%|██████████| 8/8 [00:35<00:00,  4.41s/it]28<00:03,  1.39it/s]\n",
      "Training (4300 / 18000 Steps) (loss=0.59554):  81%|████████  | 17/21 [01:03<00:47, 11.77s/it]"
     ]
    },
    {
     "name": "stdout",
     "output_type": "stream",
     "text": [
      "Model Was Not Saved ! Current Best Avg. Dice: 0.36001917719841003 Current Avg. Dice: 0.3234608769416809 Current Avg. tumor Dice: 0.38314351439476013 Current Avg. lymph Dice: 0.23723354935646057\n"
     ]
    },
    {
     "name": "stderr",
     "output_type": "stream",
     "text": [
      "Training (4304 / 18000 Steps) (loss=0.67076): 100%|██████████| 21/21 [01:05<00:00,  3.14s/it]\n",
      "Training (4325 / 18000 Steps) (loss=0.21097): 100%|██████████| 21/21 [00:30<00:00,  1.46s/it]\n",
      "Training (4346 / 18000 Steps) (loss=0.59129): 100%|██████████| 21/21 [00:34<00:00,  1.64s/it]\n",
      "Training (4367 / 18000 Steps) (loss=0.40218): 100%|██████████| 21/21 [00:28<00:00,  1.35s/it]\n",
      "Training (4388 / 18000 Steps) (loss=0.62889): 100%|██████████| 21/21 [00:28<00:00,  1.34s/it]\n",
      "Validate (4389 / 10 Steps): 100%|██████████| 8/8 [00:38<00:00,  4.77s/it]17<00:08,  1.13it/s]\n",
      "Training (4400 / 18000 Steps) (loss=0.48246):  57%|█████▋    | 12/21 [00:55<01:51, 12.42s/it]"
     ]
    },
    {
     "name": "stdout",
     "output_type": "stream",
     "text": [
      "Model Was Not Saved ! Current Best Avg. Dice: 0.36001917719841003 Current Avg. Dice: 0.33815664052963257 Current Avg. tumor Dice: 0.4306636154651642 Current Avg. lymph Dice: 0.21251662075519562\n"
     ]
    },
    {
     "name": "stderr",
     "output_type": "stream",
     "text": [
      "Training (4409 / 18000 Steps) (loss=0.66879): 100%|██████████| 21/21 [01:01<00:00,  2.92s/it]\n",
      "Training (4430 / 18000 Steps) (loss=0.48765): 100%|██████████| 21/21 [00:32<00:00,  1.54s/it]\n",
      "Training (4451 / 18000 Steps) (loss=0.66798): 100%|██████████| 21/21 [00:31<00:00,  1.51s/it]\n",
      "Training (4472 / 18000 Steps) (loss=0.66933): 100%|██████████| 21/21 [00:26<00:00,  1.25s/it]\n",
      "Training (4493 / 18000 Steps) (loss=0.46959): 100%|██████████| 21/21 [00:32<00:00,  1.56s/it]\n",
      "Validate (4494 / 10 Steps): 100%|██████████| 8/8 [00:38<00:00,  4.85s/it]1<00:15,  1.01s/it]\n",
      "Training (4500 / 18000 Steps) (loss=0.52654):  33%|███▎      | 7/21 [00:50<03:10, 13.58s/it]"
     ]
    },
    {
     "name": "stdout",
     "output_type": "stream",
     "text": [
      "Model Was Not Saved ! Current Best Avg. Dice: 0.36001917719841003 Current Avg. Dice: 0.3575296401977539 Current Avg. tumor Dice: 0.44112691283226013 Current Avg. lymph Dice: 0.238774374127388\n"
     ]
    },
    {
     "name": "stderr",
     "output_type": "stream",
     "text": [
      "Training (4514 / 18000 Steps) (loss=0.34755): 100%|██████████| 21/21 [00:58<00:00,  2.79s/it]\n",
      "Training (4535 / 18000 Steps) (loss=0.66759): 100%|██████████| 21/21 [00:32<00:00,  1.56s/it]\n",
      "Training (4556 / 18000 Steps) (loss=0.30540): 100%|██████████| 21/21 [00:35<00:00,  1.67s/it]\n",
      "Training (4577 / 18000 Steps) (loss=0.66903): 100%|██████████| 21/21 [00:26<00:00,  1.25s/it]\n",
      "Training (4598 / 18000 Steps) (loss=0.66815): 100%|██████████| 21/21 [00:34<00:00,  1.63s/it]\n",
      "Validate (4599 / 10 Steps): 100%|██████████| 8/8 [00:38<00:00,  4.86s/it]0<03:23, 10.16s/it]\n",
      "Training (4600 / 18000 Steps) (loss=0.58875):  10%|▉         | 2/21 [00:50<08:54, 28.11s/it]"
     ]
    },
    {
     "name": "stdout",
     "output_type": "stream",
     "text": [
      "Model Was Saved ! Current Best Avg. Dice: 0.3616963028907776 Current Avg. Dice: 0.3616963028907776 Current Avg. tumor Dice: 0.44425973296165466 Current Avg. lymph Dice: 0.23731787502765656\n"
     ]
    },
    {
     "name": "stderr",
     "output_type": "stream",
     "text": [
      "Training (4619 / 18000 Steps) (loss=0.41778): 100%|██████████| 21/21 [01:01<00:00,  2.94s/it]\n",
      "Training (4640 / 18000 Steps) (loss=0.23683): 100%|██████████| 21/21 [00:31<00:00,  1.48s/it]\n",
      "Training (4661 / 18000 Steps) (loss=0.37866): 100%|██████████| 21/21 [00:32<00:00,  1.56s/it]\n",
      "Training (4682 / 18000 Steps) (loss=0.66878): 100%|██████████| 21/21 [00:25<00:00,  1.22s/it]\n",
      "Validate (4683 / 10 Steps): 100%|██████████| 8/8 [00:34<00:00,  4.26s/it]32<00:07,  1.88s/it]\n",
      "Training (4700 / 18000 Steps) (loss=0.36487):  86%|████████▌ | 18/21 [01:07<00:35, 11.74s/it]"
     ]
    },
    {
     "name": "stdout",
     "output_type": "stream",
     "text": [
      "Model Was Not Saved ! Current Best Avg. Dice: 0.3616963028907776 Current Avg. Dice: 0.34915950894355774 Current Avg. tumor Dice: 0.42572835087776184 Current Avg. lymph Dice: 0.234712153673172\n"
     ]
    },
    {
     "name": "stderr",
     "output_type": "stream",
     "text": [
      "Training (4703 / 18000 Steps) (loss=0.33532): 100%|██████████| 21/21 [01:08<00:00,  3.29s/it]\n",
      "Training (4724 / 18000 Steps) (loss=0.28379): 100%|██████████| 21/21 [00:30<00:00,  1.46s/it]\n",
      "Training (4745 / 18000 Steps) (loss=0.52931): 100%|██████████| 21/21 [00:29<00:00,  1.38s/it]\n",
      "Training (4766 / 18000 Steps) (loss=0.21646): 100%|██████████| 21/21 [00:25<00:00,  1.21s/it]\n",
      "Training (4787 / 18000 Steps) (loss=0.58748): 100%|██████████| 21/21 [00:32<00:00,  1.57s/it]\n",
      "Validate (4788 / 10 Steps): 100%|██████████| 8/8 [00:36<00:00,  4.56s/it]22<00:08,  1.01it/s]\n",
      "Training (4800 / 18000 Steps) (loss=0.38384):  62%|██████▏   | 13/21 [00:59<01:35, 11.92s/it]"
     ]
    },
    {
     "name": "stdout",
     "output_type": "stream",
     "text": [
      "Model Was Not Saved ! Current Best Avg. Dice: 0.3616963028907776 Current Avg. Dice: 0.35981476306915283 Current Avg. tumor Dice: 0.4284430146217346 Current Avg. lymph Dice: 0.254035621881485\n"
     ]
    },
    {
     "name": "stderr",
     "output_type": "stream",
     "text": [
      "Training (4808 / 18000 Steps) (loss=0.17916): 100%|██████████| 21/21 [01:04<00:00,  3.07s/it]\n",
      "Training (4829 / 18000 Steps) (loss=0.19846): 100%|██████████| 21/21 [00:31<00:00,  1.50s/it]\n",
      "Training (4850 / 18000 Steps) (loss=0.66724): 100%|██████████| 21/21 [00:29<00:00,  1.39s/it]\n",
      "Training (4871 / 18000 Steps) (loss=0.45652): 100%|██████████| 21/21 [00:25<00:00,  1.19s/it]\n",
      "Training (4892 / 18000 Steps) (loss=0.70394): 100%|██████████| 21/21 [00:33<00:00,  1.58s/it]\n",
      "Validate (4893 / 10 Steps): 100%|██████████| 8/8 [00:38<00:00,  4.82s/it]3<00:12,  1.12it/s]\n",
      "Training (4900 / 18000 Steps) (loss=0.67662):  38%|███▊      | 8/21 [00:52<02:50, 13.10s/it]"
     ]
    },
    {
     "name": "stdout",
     "output_type": "stream",
     "text": [
      "Model Was Not Saved ! Current Best Avg. Dice: 0.3616963028907776 Current Avg. Dice: 0.3079412579536438 Current Avg. tumor Dice: 0.4318145215511322 Current Avg. lymph Dice: 0.1413809359073639\n"
     ]
    },
    {
     "name": "stderr",
     "output_type": "stream",
     "text": [
      "Training (4913 / 18000 Steps) (loss=0.47684): 100%|██████████| 21/21 [00:59<00:00,  2.84s/it]\n",
      "Training (4934 / 18000 Steps) (loss=0.50465): 100%|██████████| 21/21 [00:30<00:00,  1.45s/it]\n",
      "Training (4955 / 18000 Steps) (loss=0.29877): 100%|██████████| 21/21 [00:26<00:00,  1.28s/it]\n",
      "Training (4976 / 18000 Steps) (loss=0.18220): 100%|██████████| 21/21 [00:27<00:00,  1.31s/it]\n",
      "Training (4997 / 18000 Steps) (loss=0.66851): 100%|██████████| 21/21 [00:31<00:00,  1.50s/it]\n",
      "Validate (4998 / 10 Steps): 100%|██████████| 8/8 [00:36<00:00,  4.55s/it]1<01:30,  4.74s/it]\n",
      "Training (5000 / 18000 Steps) (loss=0.40472):  14%|█▍        | 3/21 [00:47<05:50, 19.49s/it]"
     ]
    },
    {
     "name": "stdout",
     "output_type": "stream",
     "text": [
      "Model Was Not Saved ! Current Best Avg. Dice: 0.3616963028907776 Current Avg. Dice: 0.3134509027004242 Current Avg. tumor Dice: 0.4094353914260864 Current Avg. lymph Dice: 0.18516139686107635\n"
     ]
    },
    {
     "name": "stderr",
     "output_type": "stream",
     "text": [
      "Training (5018 / 18000 Steps) (loss=0.22601): 100%|██████████| 21/21 [00:58<00:00,  2.80s/it]\n",
      "Training (5039 / 18000 Steps) (loss=0.37914): 100%|██████████| 21/21 [00:37<00:00,  1.77s/it]\n",
      "Training (5060 / 18000 Steps) (loss=0.43698): 100%|██████████| 21/21 [00:25<00:00,  1.22s/it]\n",
      "Training (5081 / 18000 Steps) (loss=0.67279): 100%|██████████| 21/21 [00:31<00:00,  1.52s/it]\n",
      "Validate (5082 / 10 Steps): 100%|██████████| 8/8 [00:35<00:00,  4.47s/it]31<00:03,  1.29s/it]\n",
      "Training (5100 / 18000 Steps) (loss=0.53197):  90%|█████████ | 19/21 [01:07<00:23, 11.91s/it]"
     ]
    },
    {
     "name": "stdout",
     "output_type": "stream",
     "text": [
      "Model Was Not Saved ! Current Best Avg. Dice: 0.3616963028907776 Current Avg. Dice: 0.3283630907535553 Current Avg. tumor Dice: 0.3846898674964905 Current Avg. lymph Dice: 0.2411688268184662\n"
     ]
    },
    {
     "name": "stderr",
     "output_type": "stream",
     "text": [
      "Training (5102 / 18000 Steps) (loss=0.66758): 100%|██████████| 21/21 [01:08<00:00,  3.28s/it]\n",
      "Training (5123 / 18000 Steps) (loss=0.49285): 100%|██████████| 21/21 [00:30<00:00,  1.46s/it]\n",
      "Training (5144 / 18000 Steps) (loss=0.60687): 100%|██████████| 21/21 [00:22<00:00,  1.08s/it]\n",
      "Training (5165 / 18000 Steps) (loss=0.66729): 100%|██████████| 21/21 [00:29<00:00,  1.39s/it]\n",
      "Training (5186 / 18000 Steps) (loss=0.59436): 100%|██████████| 21/21 [00:32<00:00,  1.54s/it]\n",
      "Validate (5187 / 10 Steps): 100%|██████████| 8/8 [00:36<00:00,  4.52s/it]21<00:06,  1.21it/s]\n",
      "Training (5200 / 18000 Steps) (loss=0.47075):  67%|██████▋   | 14/21 [00:57<01:21, 11.69s/it]"
     ]
    },
    {
     "name": "stdout",
     "output_type": "stream",
     "text": [
      "Model Was Not Saved ! Current Best Avg. Dice: 0.3616963028907776 Current Avg. Dice: 0.344917356967926 Current Avg. tumor Dice: 0.44472283124923706 Current Avg. lymph Dice: 0.2074030637741089\n"
     ]
    },
    {
     "name": "stderr",
     "output_type": "stream",
     "text": [
      "Training (5207 / 18000 Steps) (loss=0.27744): 100%|██████████| 21/21 [01:01<00:00,  2.91s/it]\n",
      "Training (5228 / 18000 Steps) (loss=0.66764): 100%|██████████| 21/21 [00:28<00:00,  1.37s/it]\n",
      "Training (5249 / 18000 Steps) (loss=0.49790): 100%|██████████| 21/21 [00:21<00:00,  1.04s/it]\n",
      "Training (5270 / 18000 Steps) (loss=0.45141): 100%|██████████| 21/21 [00:26<00:00,  1.26s/it]\n",
      "Training (5291 / 18000 Steps) (loss=0.66824): 100%|██████████| 21/21 [00:29<00:00,  1.41s/it]\n",
      "Validate (5292 / 10 Steps): 100%|██████████| 8/8 [00:40<00:00,  5.05s/it]4<00:13,  1.02s/it]\n",
      "Training (5300 / 18000 Steps) (loss=0.48369):  43%|████▎     | 9/21 [01:05<03:11, 16.00s/it]"
     ]
    },
    {
     "name": "stdout",
     "output_type": "stream",
     "text": [
      "Model Was Not Saved ! Current Best Avg. Dice: 0.3616963028907776 Current Avg. Dice: 0.33901914954185486 Current Avg. tumor Dice: 0.4279599189758301 Current Avg. lymph Dice: 0.210563525557518\n"
     ]
    },
    {
     "name": "stderr",
     "output_type": "stream",
     "text": [
      "Training (5312 / 18000 Steps) (loss=0.67294): 100%|██████████| 21/21 [01:12<00:00,  3.44s/it]\n",
      "Training (5333 / 18000 Steps) (loss=0.67943): 100%|██████████| 21/21 [00:30<00:00,  1.45s/it]\n",
      "Training (5354 / 18000 Steps) (loss=0.29235): 100%|██████████| 21/21 [00:22<00:00,  1.09s/it]\n",
      "Training (5375 / 18000 Steps) (loss=0.42406): 100%|██████████| 21/21 [00:26<00:00,  1.27s/it]\n",
      "Training (5396 / 18000 Steps) (loss=0.67957): 100%|██████████| 21/21 [00:26<00:00,  1.26s/it]\n",
      "Validate (5397 / 10 Steps): 100%|██████████| 8/8 [00:37<00:00,  4.70s/it]5<01:02,  3.46s/it]\n",
      "Training (5400 / 18000 Steps) (loss=0.44603):  19%|█▉        | 4/21 [00:52<04:52, 17.21s/it]"
     ]
    },
    {
     "name": "stdout",
     "output_type": "stream",
     "text": [
      "Model Was Not Saved ! Current Best Avg. Dice: 0.3616963028907776 Current Avg. Dice: 0.33388692140579224 Current Avg. tumor Dice: 0.4093380272388458 Current Avg. lymph Dice: 0.22337126731872559\n"
     ]
    },
    {
     "name": "stderr",
     "output_type": "stream",
     "text": [
      "Training (5417 / 18000 Steps) (loss=0.66890): 100%|██████████| 21/21 [01:02<00:00,  2.97s/it]\n",
      "Training (5438 / 18000 Steps) (loss=0.35676): 100%|██████████| 21/21 [00:25<00:00,  1.22s/it]\n",
      "Training (5459 / 18000 Steps) (loss=0.38146): 100%|██████████| 21/21 [00:26<00:00,  1.24s/it]\n",
      "Training (5480 / 18000 Steps) (loss=0.39277): 100%|██████████| 21/21 [00:32<00:00,  1.57s/it]\n",
      "Validate (5481 / 10 Steps): 100%|██████████| 8/8 [00:40<00:00,  5.02s/it]37<00:03,  1.72s/it]\n",
      "Training (5500 / 18000 Steps) (loss=0.66814):  95%|█████████▌| 20/21 [01:17<00:13, 13.47s/it]"
     ]
    },
    {
     "name": "stdout",
     "output_type": "stream",
     "text": [
      "Model Was Not Saved ! Current Best Avg. Dice: 0.3616963028907776 Current Avg. Dice: 0.3433834910392761 Current Avg. tumor Dice: 0.4352089464664459 Current Avg. lymph Dice: 0.20950976014137268\n"
     ]
    },
    {
     "name": "stderr",
     "output_type": "stream",
     "text": [
      "Training (5501 / 18000 Steps) (loss=0.66902): 100%|██████████| 21/21 [01:18<00:00,  3.72s/it]\n",
      "Training (5522 / 18000 Steps) (loss=0.68975): 100%|██████████| 21/21 [00:38<00:00,  1.85s/it]\n",
      "Training (5543 / 18000 Steps) (loss=0.61012): 100%|██████████| 21/21 [00:22<00:00,  1.07s/it]\n",
      "Training (5564 / 18000 Steps) (loss=0.66729): 100%|██████████| 21/21 [00:34<00:00,  1.66s/it]\n",
      "Training (5585 / 18000 Steps) (loss=0.66952): 100%|██████████| 21/21 [00:33<00:00,  1.60s/it]\n",
      "Validate (5586 / 10 Steps): 100%|██████████| 8/8 [00:40<00:00,  5.04s/it]26<00:07,  1.12s/it]\n",
      "Training (5600 / 18000 Steps) (loss=0.41234):  71%|███████▏  | 15/21 [01:07<01:19, 13.23s/it]"
     ]
    },
    {
     "name": "stdout",
     "output_type": "stream",
     "text": [
      "Model Was Not Saved ! Current Best Avg. Dice: 0.3616963028907776 Current Avg. Dice: 0.3422259986400604 Current Avg. tumor Dice: 0.44104793667793274 Current Avg. lymph Dice: 0.20461484789848328\n"
     ]
    },
    {
     "name": "stderr",
     "output_type": "stream",
     "text": [
      "Training (5606 / 18000 Steps) (loss=0.67208): 100%|██████████| 21/21 [01:11<00:00,  3.40s/it]\n",
      "Training (5627 / 18000 Steps) (loss=0.66949): 100%|██████████| 21/21 [00:23<00:00,  1.14s/it]\n",
      "Training (5648 / 18000 Steps) (loss=0.66708): 100%|██████████| 21/21 [00:21<00:00,  1.03s/it]\n",
      "Training (5669 / 18000 Steps) (loss=0.66987): 100%|██████████| 21/21 [00:28<00:00,  1.35s/it]\n",
      "Training (5690 / 18000 Steps) (loss=0.44662): 100%|██████████| 21/21 [00:28<00:00,  1.35s/it]\n",
      "Validate (5691 / 10 Steps): 100%|██████████| 8/8 [00:38<00:00,  4.82s/it]7<00:13,  1.09s/it]\n",
      "Training (5700 / 18000 Steps) (loss=0.66770):  48%|████▊     | 10/21 [00:58<02:30, 13.73s/it]"
     ]
    },
    {
     "name": "stdout",
     "output_type": "stream",
     "text": [
      "Model Was Saved ! Current Best Avg. Dice: 0.36335429549217224 Current Avg. Dice: 0.36335429549217224 Current Avg. tumor Dice: 0.42382946610450745 Current Avg. lymph Dice: 0.2694723308086395\n"
     ]
    },
    {
     "name": "stderr",
     "output_type": "stream",
     "text": [
      "Training (5711 / 18000 Steps) (loss=0.66752): 100%|██████████| 21/21 [01:04<00:00,  3.07s/it]\n",
      "Training (5732 / 18000 Steps) (loss=0.66713): 100%|██████████| 21/21 [00:23<00:00,  1.12s/it]\n",
      "Training (5753 / 18000 Steps) (loss=0.41583): 100%|██████████| 21/21 [00:20<00:00,  1.01it/s]\n",
      "Training (5774 / 18000 Steps) (loss=0.61636): 100%|██████████| 21/21 [00:28<00:00,  1.35s/it]\n",
      "Training (5795 / 18000 Steps) (loss=0.22639): 100%|██████████| 21/21 [00:28<00:00,  1.38s/it]\n",
      "Validate (5796 / 10 Steps): 100%|██████████| 8/8 [00:36<00:00,  4.61s/it]1<00:33,  1.94s/it]\n",
      "Training (5800 / 18000 Steps) (loss=0.46435):  24%|██▍       | 5/21 [00:48<03:56, 14.78s/it]"
     ]
    },
    {
     "name": "stdout",
     "output_type": "stream",
     "text": [
      "Model Was Not Saved ! Current Best Avg. Dice: 0.36335429549217224 Current Avg. Dice: 0.3142445385456085 Current Avg. tumor Dice: 0.41484755277633667 Current Avg. lymph Dice: 0.17396466434001923\n"
     ]
    },
    {
     "name": "stderr",
     "output_type": "stream",
     "text": [
      "Training (5816 / 18000 Steps) (loss=0.66708): 100%|██████████| 21/21 [00:59<00:00,  2.83s/it]\n",
      "Training (5837 / 18000 Steps) (loss=0.33372): 100%|██████████| 21/21 [00:23<00:00,  1.12s/it]\n",
      "Training (5858 / 18000 Steps) (loss=0.53156): 100%|██████████| 21/21 [00:35<00:00,  1.69s/it]\n",
      "Training (5879 / 18000 Steps) (loss=0.34942): 100%|██████████| 21/21 [00:27<00:00,  1.31s/it]\n",
      "Validate (5880 / 10 Steps): 100%|██████████| 8/8 [00:34<00:00,  4.34s/it]27<00:00,  1.07it/s]\n",
      "Training (5900 / 18000 Steps) (loss=0.39629): 100%|██████████| 21/21 [01:02<00:00,  2.99s/it]"
     ]
    },
    {
     "name": "stdout",
     "output_type": "stream",
     "text": [
      "Model Was Not Saved ! Current Best Avg. Dice: 0.36335429549217224 Current Avg. Dice: 0.34322988986968994 Current Avg. tumor Dice: 0.4264415204524994 Current Avg. lymph Dice: 0.22386059165000916\n"
     ]
    },
    {
     "name": "stderr",
     "output_type": "stream",
     "text": [
      "\n",
      "Training (5921 / 18000 Steps) (loss=0.67138): 100%|██████████| 21/21 [00:27<00:00,  1.31s/it]\n",
      "Training (5942 / 18000 Steps) (loss=0.57177): 100%|██████████| 21/21 [00:21<00:00,  1.03s/it]\n",
      "Training (5963 / 18000 Steps) (loss=0.57974): 100%|██████████| 21/21 [00:28<00:00,  1.37s/it]\n",
      "Training (5984 / 18000 Steps) (loss=0.67099): 100%|██████████| 21/21 [00:30<00:00,  1.45s/it]\n",
      "Validate (5985 / 10 Steps): 100%|██████████| 8/8 [00:34<00:00,  4.26s/it]20<00:04,  1.49it/s]\n",
      "Training (6000 / 18000 Steps) (loss=0.41947):  76%|███████▌  | 16/21 [00:54<00:54, 10.89s/it]"
     ]
    },
    {
     "name": "stdout",
     "output_type": "stream",
     "text": [
      "Model Was Not Saved ! Current Best Avg. Dice: 0.36335429549217224 Current Avg. Dice: 0.3490784466266632 Current Avg. tumor Dice: 0.3849223554134369 Current Avg. lymph Dice: 0.29770568013191223\n"
     ]
    },
    {
     "name": "stderr",
     "output_type": "stream",
     "text": [
      "Training (6005 / 18000 Steps) (loss=0.44565): 100%|██████████| 21/21 [00:56<00:00,  2.71s/it]\n",
      "Training (6026 / 18000 Steps) (loss=0.20889): 100%|██████████| 21/21 [00:24<00:00,  1.18s/it]\n",
      "Training (6047 / 18000 Steps) (loss=0.38115): 100%|██████████| 21/21 [00:31<00:00,  1.49s/it]\n",
      "Training (6068 / 18000 Steps) (loss=0.30218): 100%|██████████| 21/21 [00:32<00:00,  1.56s/it]\n",
      "Training (6089 / 18000 Steps) (loss=0.20615): 100%|██████████| 21/21 [00:35<00:00,  1.68s/it]\n",
      "Validate (6090 / 10 Steps): 100%|██████████| 8/8 [00:36<00:00,  4.52s/it]19<00:12,  1.17s/it]\n",
      "Training (6100 / 18000 Steps) (loss=0.52948):  52%|█████▏    | 11/21 [00:55<02:00, 12.06s/it]"
     ]
    },
    {
     "name": "stdout",
     "output_type": "stream",
     "text": [
      "Model Was Not Saved ! Current Best Avg. Dice: 0.36335429549217224 Current Avg. Dice: 0.3345613479614258 Current Avg. tumor Dice: 0.4367777109146118 Current Avg. lymph Dice: 0.19587990641593933\n"
     ]
    },
    {
     "name": "stderr",
     "output_type": "stream",
     "text": [
      "Training (6110 / 18000 Steps) (loss=0.46946): 100%|██████████| 21/21 [01:00<00:00,  2.87s/it]\n",
      "Training (6131 / 18000 Steps) (loss=0.29197): 100%|██████████| 21/21 [00:22<00:00,  1.07s/it]\n",
      "Training (6152 / 18000 Steps) (loss=0.60368): 100%|██████████| 21/21 [00:31<00:00,  1.50s/it]\n",
      "Training (6173 / 18000 Steps) (loss=0.49817): 100%|██████████| 21/21 [00:28<00:00,  1.36s/it]\n",
      "Training (6194 / 18000 Steps) (loss=0.20698): 100%|██████████| 21/21 [00:28<00:00,  1.37s/it]\n",
      "Validate (6195 / 10 Steps): 100%|██████████| 8/8 [00:35<00:00,  4.50s/it]4<00:25,  1.61s/it]\n",
      "Training (6200 / 18000 Steps) (loss=0.53978):  29%|██▊       | 6/21 [00:50<03:23, 13.54s/it]"
     ]
    },
    {
     "name": "stdout",
     "output_type": "stream",
     "text": [
      "Model Was Not Saved ! Current Best Avg. Dice: 0.36335429549217224 Current Avg. Dice: 0.3006919324398041 Current Avg. tumor Dice: 0.42987778782844543 Current Avg. lymph Dice: 0.12908826768398285\n"
     ]
    },
    {
     "name": "stderr",
     "output_type": "stream",
     "text": [
      "Training (6215 / 18000 Steps) (loss=0.49057): 100%|██████████| 21/21 [00:58<00:00,  2.80s/it]\n",
      "Training (6236 / 18000 Steps) (loss=0.59919): 100%|██████████| 21/21 [00:22<00:00,  1.09s/it]\n",
      "Training (6257 / 18000 Steps) (loss=0.36837): 100%|██████████| 21/21 [00:29<00:00,  1.39s/it]\n",
      "Training (6278 / 18000 Steps) (loss=0.51893): 100%|██████████| 21/21 [00:28<00:00,  1.35s/it]\n",
      "Training (6299 / 18000 Steps) (loss=0.66742): 100%|██████████| 21/21 [00:28<00:00,  1.35s/it]\n",
      "Validate (6300 / 10 Steps): 100%|██████████| 8/8 [00:40<00:00,  5.06s/it]9<?, ?it/s]\n",
      "Training (6300 / 18000 Steps) (loss=0.67800):   5%|▍         | 1/21 [00:50<16:49, 50.45s/it]"
     ]
    },
    {
     "name": "stdout",
     "output_type": "stream",
     "text": [
      "Model Was Not Saved ! Current Best Avg. Dice: 0.36335429549217224 Current Avg. Dice: 0.35367971658706665 Current Avg. tumor Dice: 0.4400193989276886 Current Avg. lymph Dice: 0.2269989550113678\n"
     ]
    },
    {
     "name": "stderr",
     "output_type": "stream",
     "text": [
      "Training (6320 / 18000 Steps) (loss=0.60468): 100%|██████████| 21/21 [01:00<00:00,  2.90s/it]\n",
      "Training (6341 / 18000 Steps) (loss=0.56823): 100%|██████████| 21/21 [00:21<00:00,  1.01s/it]\n",
      "Training (6362 / 18000 Steps) (loss=0.66707): 100%|██████████| 21/21 [00:26<00:00,  1.25s/it]\n",
      "Training (6383 / 18000 Steps) (loss=0.38464): 100%|██████████| 21/21 [00:30<00:00,  1.46s/it]\n",
      "Validate (6384 / 10 Steps): 100%|██████████| 8/8 [00:36<00:00,  4.50s/it]28<00:03,  1.52it/s]\n",
      "Training (6400 / 18000 Steps) (loss=0.51257):  81%|████████  | 17/21 [01:04<00:48, 12.15s/it]"
     ]
    },
    {
     "name": "stdout",
     "output_type": "stream",
     "text": [
      "Model Was Not Saved ! Current Best Avg. Dice: 0.36335429549217224 Current Avg. Dice: 0.3537887632846832 Current Avg. tumor Dice: 0.4534657299518585 Current Avg. lymph Dice: 0.2143082618713379\n"
     ]
    },
    {
     "name": "stderr",
     "output_type": "stream",
     "text": [
      "Training (6404 / 18000 Steps) (loss=0.43449): 100%|██████████| 21/21 [01:06<00:00,  3.16s/it]\n",
      "Training (6425 / 18000 Steps) (loss=0.58072): 100%|██████████| 21/21 [00:25<00:00,  1.19s/it]\n",
      "Training (6446 / 18000 Steps) (loss=0.19208): 100%|██████████| 21/21 [00:26<00:00,  1.28s/it]\n",
      "Training (6467 / 18000 Steps) (loss=0.69272): 100%|██████████| 21/21 [00:26<00:00,  1.27s/it]\n",
      "Training (6488 / 18000 Steps) (loss=0.67232): 100%|██████████| 21/21 [00:26<00:00,  1.27s/it]\n",
      "Validate (6489 / 10 Steps): 100%|██████████| 8/8 [00:36<00:00,  4.60s/it]20<00:11,  1.20s/it]\n",
      "Training (6500 / 18000 Steps) (loss=0.22268):  57%|█████▋    | 12/21 [00:57<01:49, 12.22s/it]"
     ]
    },
    {
     "name": "stdout",
     "output_type": "stream",
     "text": [
      "Model Was Not Saved ! Current Best Avg. Dice: 0.36335429549217224 Current Avg. Dice: 0.3595752716064453 Current Avg. tumor Dice: 0.4173307418823242 Current Avg. lymph Dice: 0.26885679364204407\n"
     ]
    },
    {
     "name": "stderr",
     "output_type": "stream",
     "text": [
      "Training (6509 / 18000 Steps) (loss=0.66785): 100%|██████████| 21/21 [01:03<00:00,  3.00s/it]\n",
      "Training (6530 / 18000 Steps) (loss=0.44279): 100%|██████████| 21/21 [00:21<00:00,  1.02s/it]\n",
      "Training (6551 / 18000 Steps) (loss=0.68742): 100%|██████████| 21/21 [00:24<00:00,  1.16s/it]\n",
      "Training (6572 / 18000 Steps) (loss=0.67452): 100%|██████████| 21/21 [00:26<00:00,  1.27s/it]\n",
      "Training (6593 / 18000 Steps) (loss=0.64411): 100%|██████████| 21/21 [00:23<00:00,  1.13s/it]\n",
      "Validate (6594 / 10 Steps): 100%|██████████| 8/8 [00:36<00:00,  4.54s/it]2<00:16,  1.08s/it]\n",
      "Training (6600 / 18000 Steps) (loss=0.62016):  33%|███▎      | 7/21 [00:49<02:59, 12.82s/it]"
     ]
    },
    {
     "name": "stdout",
     "output_type": "stream",
     "text": [
      "Model Was Not Saved ! Current Best Avg. Dice: 0.36335429549217224 Current Avg. Dice: 0.3486366271972656 Current Avg. tumor Dice: 0.4260613024234772 Current Avg. lymph Dice: 0.23423519730567932\n"
     ]
    },
    {
     "name": "stderr",
     "output_type": "stream",
     "text": [
      "Training (6614 / 18000 Steps) (loss=0.66781): 100%|██████████| 21/21 [00:56<00:00,  2.70s/it]\n",
      "Training (6635 / 18000 Steps) (loss=0.70291): 100%|██████████| 21/21 [00:25<00:00,  1.23s/it]\n",
      "Training (6656 / 18000 Steps) (loss=0.54603): 100%|██████████| 21/21 [00:24<00:00,  1.14s/it]\n",
      "Training (6677 / 18000 Steps) (loss=0.44808): 100%|██████████| 21/21 [00:26<00:00,  1.28s/it]\n",
      "Training (6698 / 18000 Steps) (loss=0.66765): 100%|██████████| 21/21 [00:21<00:00,  1.00s/it]\n",
      "Validate (6699 / 10 Steps): 100%|██████████| 8/8 [00:36<00:00,  4.56s/it]8<02:42,  8.11s/it]\n",
      "Training (6700 / 18000 Steps) (loss=0.69048):  10%|▉         | 2/21 [00:45<07:57, 25.12s/it]"
     ]
    },
    {
     "name": "stdout",
     "output_type": "stream",
     "text": [
      "Model Was Not Saved ! Current Best Avg. Dice: 0.36335429549217224 Current Avg. Dice: 0.34475836157798767 Current Avg. tumor Dice: 0.4539046585559845 Current Avg. lymph Dice: 0.19723594188690186\n"
     ]
    },
    {
     "name": "stderr",
     "output_type": "stream",
     "text": [
      "Training (6719 / 18000 Steps) (loss=0.34960): 100%|██████████| 21/21 [00:55<00:00,  2.65s/it]\n",
      "Training (6740 / 18000 Steps) (loss=0.30036): 100%|██████████| 21/21 [00:27<00:00,  1.32s/it]\n",
      "Training (6761 / 18000 Steps) (loss=0.32111): 100%|██████████| 21/21 [00:25<00:00,  1.24s/it]\n",
      "Training (6782 / 18000 Steps) (loss=0.33408): 100%|██████████| 21/21 [00:24<00:00,  1.14s/it]\n",
      "Validate (6783 / 10 Steps): 100%|██████████| 8/8 [00:36<00:00,  4.51s/it]22<00:02,  1.55it/s]\n",
      "Training (6800 / 18000 Steps) (loss=0.59524):  86%|████████▌ | 18/21 [01:00<00:35, 11.90s/it]"
     ]
    },
    {
     "name": "stdout",
     "output_type": "stream",
     "text": [
      "Model Was Saved ! Current Best Avg. Dice: 0.36522647738456726 Current Avg. Dice: 0.36522647738456726 Current Avg. tumor Dice: 0.42746779322624207 Current Avg. lymph Dice: 0.26975110173225403\n"
     ]
    },
    {
     "name": "stderr",
     "output_type": "stream",
     "text": [
      "Training (6803 / 18000 Steps) (loss=0.65345): 100%|██████████| 21/21 [01:01<00:00,  2.94s/it]\n",
      "Training (6824 / 18000 Steps) (loss=0.17814): 100%|██████████| 21/21 [00:23<00:00,  1.12s/it]\n",
      "Training (6845 / 18000 Steps) (loss=0.24156): 100%|██████████| 21/21 [00:27<00:00,  1.31s/it]\n",
      "Training (6866 / 18000 Steps) (loss=0.67909): 100%|██████████| 21/21 [00:21<00:00,  1.01s/it]\n",
      "Training (6887 / 18000 Steps) (loss=0.66142): 100%|██████████| 21/21 [00:25<00:00,  1.23s/it]\n",
      "Validate (6888 / 10 Steps): 100%|██████████| 8/8 [00:37<00:00,  4.65s/it]20<00:09,  1.09s/it]\n",
      "Training (6900 / 18000 Steps) (loss=0.39570):  62%|██████▏   | 13/21 [00:58<01:37, 12.23s/it]"
     ]
    },
    {
     "name": "stdout",
     "output_type": "stream",
     "text": [
      "Model Was Not Saved ! Current Best Avg. Dice: 0.36522647738456726 Current Avg. Dice: 0.32327279448509216 Current Avg. tumor Dice: 0.4367961883544922 Current Avg. lymph Dice: 0.17219330370426178\n"
     ]
    },
    {
     "name": "stderr",
     "output_type": "stream",
     "text": [
      "Training (6908 / 18000 Steps) (loss=0.63057): 100%|██████████| 21/21 [01:02<00:00,  2.96s/it]\n",
      "Training (6929 / 18000 Steps) (loss=0.26675): 100%|██████████| 21/21 [00:25<00:00,  1.22s/it]\n",
      "Training (6950 / 18000 Steps) (loss=0.12499): 100%|██████████| 21/21 [00:22<00:00,  1.09s/it]\n",
      "Training (6971 / 18000 Steps) (loss=0.50902): 100%|██████████| 21/21 [00:23<00:00,  1.11s/it]\n",
      "Training (6992 / 18000 Steps) (loss=0.48638): 100%|██████████| 21/21 [00:31<00:00,  1.50s/it]\n",
      "Validate (6993 / 10 Steps): 100%|██████████| 8/8 [00:35<00:00,  4.41s/it]5<00:12,  1.08it/s]\n",
      "Training (7000 / 18000 Steps) (loss=0.34393):  38%|███▊      | 8/21 [00:50<02:36, 12.03s/it]"
     ]
    },
    {
     "name": "stdout",
     "output_type": "stream",
     "text": [
      "Model Was Not Saved ! Current Best Avg. Dice: 0.36522647738456726 Current Avg. Dice: 0.33521518111228943 Current Avg. tumor Dice: 0.40482792258262634 Current Avg. lymph Dice: 0.23293913900852203\n"
     ]
    },
    {
     "name": "stderr",
     "output_type": "stream",
     "text": [
      "Training (7013 / 18000 Steps) (loss=0.66378): 100%|██████████| 21/21 [00:58<00:00,  2.77s/it]\n",
      "Training (7034 / 18000 Steps) (loss=0.66695): 100%|██████████| 21/21 [00:25<00:00,  1.20s/it]\n",
      "Training (7055 / 18000 Steps) (loss=0.49233): 100%|██████████| 21/21 [00:25<00:00,  1.23s/it]\n",
      "Training (7076 / 18000 Steps) (loss=0.35404): 100%|██████████| 21/21 [00:28<00:00,  1.36s/it]\n",
      "Training (7097 / 18000 Steps) (loss=0.35623): 100%|██████████| 21/21 [00:24<00:00,  1.18s/it]\n",
      "Validate (7098 / 10 Steps): 100%|██████████| 8/8 [00:38<00:00,  4.79s/it]4<01:49,  5.75s/it]\n",
      "Training (7100 / 18000 Steps) (loss=0.61303):  14%|█▍        | 3/21 [00:52<06:16, 20.93s/it]"
     ]
    },
    {
     "name": "stdout",
     "output_type": "stream",
     "text": [
      "Model Was Not Saved ! Current Best Avg. Dice: 0.36522647738456726 Current Avg. Dice: 0.35664504766464233 Current Avg. tumor Dice: 0.42807358503341675 Current Avg. lymph Dice: 0.24802915751934052\n"
     ]
    },
    {
     "name": "stderr",
     "output_type": "stream",
     "text": [
      "Training (7118 / 18000 Steps) (loss=0.53365): 100%|██████████| 21/21 [01:03<00:00,  3.03s/it]\n",
      "Training (7139 / 18000 Steps) (loss=0.66712): 100%|██████████| 21/21 [00:35<00:00,  1.67s/it]\n",
      "Training (7160 / 18000 Steps) (loss=0.22992): 100%|██████████| 21/21 [00:41<00:00,  1.96s/it]\n",
      "Training (7181 / 18000 Steps) (loss=0.60639): 100%|██████████| 21/21 [00:38<00:00,  1.84s/it]\n",
      "Validate (7182 / 10 Steps): 100%|██████████| 8/8 [00:41<00:00,  5.16s/it]35<00:07,  2.43s/it]\n",
      "Training (7200 / 18000 Steps) (loss=0.55768):  90%|█████████ | 19/21 [01:16<00:28, 14.35s/it]"
     ]
    },
    {
     "name": "stdout",
     "output_type": "stream",
     "text": [
      "Model Was Not Saved ! Current Best Avg. Dice: 0.36522647738456726 Current Avg. Dice: 0.3437236547470093 Current Avg. tumor Dice: 0.40040653944015503 Current Avg. lymph Dice: 0.26089850068092346\n"
     ]
    },
    {
     "name": "stderr",
     "output_type": "stream",
     "text": [
      "Training (7202 / 18000 Steps) (loss=0.16291): 100%|██████████| 21/21 [01:17<00:00,  3.71s/it]\n",
      "Training (7223 / 18000 Steps) (loss=0.66687): 100%|██████████| 21/21 [00:32<00:00,  1.56s/it]\n",
      "Training (7244 / 18000 Steps) (loss=0.38167): 100%|██████████| 21/21 [00:25<00:00,  1.20s/it]\n",
      "Training (7265 / 18000 Steps) (loss=0.20732): 100%|██████████| 21/21 [00:26<00:00,  1.28s/it]\n",
      "Training (7286 / 18000 Steps) (loss=0.66695): 100%|██████████| 21/21 [00:26<00:00,  1.26s/it]\n",
      "Validate (7287 / 10 Steps): 100%|██████████| 8/8 [00:34<00:00,  4.29s/it]22<00:05,  1.34it/s]\n",
      "Training (7300 / 18000 Steps) (loss=0.62638):  67%|██████▋   | 14/21 [00:56<01:17, 11.08s/it]"
     ]
    },
    {
     "name": "stdout",
     "output_type": "stream",
     "text": [
      "Model Was Not Saved ! Current Best Avg. Dice: 0.36522647738456726 Current Avg. Dice: 0.3425852656364441 Current Avg. tumor Dice: 0.4137546420097351 Current Avg. lymph Dice: 0.24341975152492523\n"
     ]
    },
    {
     "name": "stderr",
     "output_type": "stream",
     "text": [
      "Training (7307 / 18000 Steps) (loss=0.66701): 100%|██████████| 21/21 [01:00<00:00,  2.88s/it]\n",
      "Training (7328 / 18000 Steps) (loss=0.66714): 100%|██████████| 21/21 [00:26<00:00,  1.25s/it]\n",
      "Training (7349 / 18000 Steps) (loss=0.26218): 100%|██████████| 21/21 [00:25<00:00,  1.20s/it]\n",
      "Training (7370 / 18000 Steps) (loss=0.19226): 100%|██████████| 21/21 [00:22<00:00,  1.06s/it]\n",
      "Training (7391 / 18000 Steps) (loss=0.66704): 100%|██████████| 21/21 [00:36<00:00,  1.73s/it]\n",
      "Validate (7392 / 10 Steps): 100%|██████████| 8/8 [00:37<00:00,  4.70s/it]8<00:10,  1.21it/s]\n",
      "Training (7400 / 18000 Steps) (loss=0.66817):  43%|████▎     | 9/21 [00:56<02:44, 13.73s/it]"
     ]
    },
    {
     "name": "stdout",
     "output_type": "stream",
     "text": [
      "Model Was Not Saved ! Current Best Avg. Dice: 0.36522647738456726 Current Avg. Dice: 0.334115594625473 Current Avg. tumor Dice: 0.42139384150505066 Current Avg. lymph Dice: 0.21514824032783508\n"
     ]
    },
    {
     "name": "stderr",
     "output_type": "stream",
     "text": [
      "Training (7412 / 18000 Steps) (loss=0.55886): 100%|██████████| 21/21 [01:02<00:00,  2.97s/it]\n",
      "Training (7433 / 18000 Steps) (loss=0.30179): 100%|██████████| 21/21 [00:28<00:00,  1.34s/it]\n",
      "Training (7454 / 18000 Steps) (loss=0.67147): 100%|██████████| 21/21 [00:24<00:00,  1.16s/it]\n",
      "Training (7475 / 18000 Steps) (loss=0.66778): 100%|██████████| 21/21 [00:28<00:00,  1.38s/it]\n",
      "Training (7496 / 18000 Steps) (loss=0.39561): 100%|██████████| 21/21 [00:22<00:00,  1.07s/it]\n",
      "Validate (7497 / 10 Steps): 100%|██████████| 8/8 [00:39<00:00,  4.93s/it]8<00:37,  2.07s/it]\n",
      "Training (7500 / 18000 Steps) (loss=0.24807):  19%|█▉        | 4/21 [00:48<04:50, 17.07s/it]"
     ]
    },
    {
     "name": "stdout",
     "output_type": "stream",
     "text": [
      "Model Was Not Saved ! Current Best Avg. Dice: 0.36522647738456726 Current Avg. Dice: 0.3523562550544739 Current Avg. tumor Dice: 0.412962406873703 Current Avg. lymph Dice: 0.25832828879356384\n"
     ]
    },
    {
     "name": "stderr",
     "output_type": "stream",
     "text": [
      "Training (7517 / 18000 Steps) (loss=0.39111): 100%|██████████| 21/21 [00:57<00:00,  2.76s/it]\n",
      "Training (7538 / 18000 Steps) (loss=0.66697): 100%|██████████| 21/21 [00:24<00:00,  1.19s/it]\n",
      "Training (7559 / 18000 Steps) (loss=0.34001): 100%|██████████| 21/21 [00:23<00:00,  1.13s/it]\n",
      "Training (7580 / 18000 Steps) (loss=0.22047): 100%|██████████| 21/21 [00:27<00:00,  1.30s/it]\n",
      "Validate (7581 / 10 Steps): 100%|██████████| 8/8 [00:36<00:00,  4.52s/it]25<00:01,  1.20it/s]\n",
      "Training (7600 / 18000 Steps) (loss=0.55966):  95%|█████████▌| 20/21 [01:01<00:11, 11.60s/it]"
     ]
    },
    {
     "name": "stdout",
     "output_type": "stream",
     "text": [
      "Model Was Not Saved ! Current Best Avg. Dice: 0.36522647738456726 Current Avg. Dice: 0.3286548852920532 Current Avg. tumor Dice: 0.4151718020439148 Current Avg. lymph Dice: 0.20614637434482574\n"
     ]
    },
    {
     "name": "stderr",
     "output_type": "stream",
     "text": [
      "Training (7601 / 18000 Steps) (loss=0.21613): 100%|██████████| 21/21 [01:02<00:00,  2.97s/it]\n",
      "Training (7622 / 18000 Steps) (loss=0.22708): 100%|██████████| 21/21 [00:22<00:00,  1.08s/it]\n",
      "Training (7643 / 18000 Steps) (loss=0.19489): 100%|██████████| 21/21 [00:22<00:00,  1.09s/it]\n",
      "Training (7664 / 18000 Steps) (loss=0.35397): 100%|██████████| 21/21 [00:22<00:00,  1.06s/it]\n",
      "Training (7685 / 18000 Steps) (loss=0.65884): 100%|██████████| 21/21 [00:26<00:00,  1.26s/it]\n",
      "Validate (7686 / 10 Steps): 100%|██████████| 8/8 [00:36<00:00,  4.54s/it]19<00:04,  1.53it/s]\n",
      "Training (7700 / 18000 Steps) (loss=0.43009):  71%|███████▏  | 15/21 [00:56<01:09, 11.57s/it]"
     ]
    },
    {
     "name": "stdout",
     "output_type": "stream",
     "text": [
      "Model Was Not Saved ! Current Best Avg. Dice: 0.36522647738456726 Current Avg. Dice: 0.36295267939567566 Current Avg. tumor Dice: 0.445342481136322 Current Avg. lymph Dice: 0.24702978134155273\n"
     ]
    },
    {
     "name": "stderr",
     "output_type": "stream",
     "text": [
      "Training (7706 / 18000 Steps) (loss=0.55472): 100%|██████████| 21/21 [00:59<00:00,  2.82s/it]\n",
      "Training (7727 / 18000 Steps) (loss=0.19301): 100%|██████████| 21/21 [00:24<00:00,  1.15s/it]\n",
      "Training (7748 / 18000 Steps) (loss=0.67419): 100%|██████████| 21/21 [00:23<00:00,  1.10s/it]\n",
      "Training (7769 / 18000 Steps) (loss=0.22530): 100%|██████████| 21/21 [00:24<00:00,  1.18s/it]\n",
      "Training (7790 / 18000 Steps) (loss=0.66693): 100%|██████████| 21/21 [00:24<00:00,  1.15s/it]\n",
      "Validate (7791 / 10 Steps): 100%|██████████| 8/8 [00:37<00:00,  4.63s/it]9<00:22,  1.84s/it]\n",
      "Training (7800 / 18000 Steps) (loss=0.66719):  48%|████▊     | 10/21 [00:56<02:21, 12.88s/it]"
     ]
    },
    {
     "name": "stdout",
     "output_type": "stream",
     "text": [
      "Model Was Not Saved ! Current Best Avg. Dice: 0.36522647738456726 Current Avg. Dice: 0.34776008129119873 Current Avg. tumor Dice: 0.4318057596683502 Current Avg. lymph Dice: 0.22703219950199127\n"
     ]
    },
    {
     "name": "stderr",
     "output_type": "stream",
     "text": [
      "Training (7811 / 18000 Steps) (loss=0.61831): 100%|██████████| 21/21 [01:02<00:00,  2.99s/it]\n",
      "Training (7832 / 18000 Steps) (loss=0.70599): 100%|██████████| 21/21 [00:22<00:00,  1.10s/it]\n",
      "Training (7853 / 18000 Steps) (loss=0.66720): 100%|██████████| 21/21 [00:22<00:00,  1.08s/it]\n",
      "Training (7874 / 18000 Steps) (loss=0.66752): 100%|██████████| 21/21 [00:27<00:00,  1.32s/it]\n",
      "Training (7895 / 18000 Steps) (loss=0.21341): 100%|██████████| 21/21 [00:24<00:00,  1.17s/it]\n",
      "Validate (7896 / 10 Steps): 100%|██████████| 8/8 [00:34<00:00,  4.35s/it]9<00:25,  1.49s/it]\n",
      "Training (7900 / 18000 Steps) (loss=0.50088):  24%|██▍       | 5/21 [00:44<03:39, 13.74s/it]"
     ]
    },
    {
     "name": "stdout",
     "output_type": "stream",
     "text": [
      "Model Was Not Saved ! Current Best Avg. Dice: 0.36522647738456726 Current Avg. Dice: 0.33546215295791626 Current Avg. tumor Dice: 0.39159899950027466 Current Avg. lymph Dice: 0.2523899972438812\n"
     ]
    },
    {
     "name": "stderr",
     "output_type": "stream",
     "text": [
      "Training (7916 / 18000 Steps) (loss=0.32881): 100%|██████████| 21/21 [00:53<00:00,  2.53s/it]\n",
      "Training (7937 / 18000 Steps) (loss=0.66692): 100%|██████████| 21/21 [00:36<00:00,  1.73s/it]\n",
      "Training (7958 / 18000 Steps) (loss=0.66829): 100%|██████████| 21/21 [00:28<00:00,  1.37s/it]\n",
      "Training (7979 / 18000 Steps) (loss=0.34224): 100%|██████████| 21/21 [00:20<00:00,  1.02it/s]\n",
      "Validate (7980 / 10 Steps): 100%|██████████| 8/8 [00:36<00:00,  4.51s/it]24<00:00,  1.57it/s]\n",
      "Training (8000 / 18000 Steps) (loss=0.66688): 100%|██████████| 21/21 [01:00<00:00,  2.88s/it]"
     ]
    },
    {
     "name": "stdout",
     "output_type": "stream",
     "text": [
      "Model Was Not Saved ! Current Best Avg. Dice: 0.36522647738456726 Current Avg. Dice: 0.3083747327327728 Current Avg. tumor Dice: 0.41977089643478394 Current Avg. lymph Dice: 0.16368703544139862\n"
     ]
    },
    {
     "name": "stderr",
     "output_type": "stream",
     "text": [
      "\n",
      "Training (8021 / 18000 Steps) (loss=0.31666): 100%|██████████| 21/21 [00:25<00:00,  1.20s/it]\n",
      "Training (8042 / 18000 Steps) (loss=0.33909): 100%|██████████| 21/21 [00:21<00:00,  1.02s/it]\n",
      "Training (8063 / 18000 Steps) (loss=0.43920): 100%|██████████| 21/21 [00:22<00:00,  1.09s/it]\n",
      "Training (8084 / 18000 Steps) (loss=0.40519): 100%|██████████| 21/21 [00:23<00:00,  1.11s/it]\n",
      "Validate (8085 / 10 Steps): 100%|██████████| 8/8 [00:34<00:00,  4.29s/it]20<00:03,  1.55it/s]\n",
      "Training (8100 / 18000 Steps) (loss=0.67182):  76%|███████▌  | 16/21 [00:55<00:54, 10.95s/it]"
     ]
    },
    {
     "name": "stdout",
     "output_type": "stream",
     "text": [
      "Model Was Not Saved ! Current Best Avg. Dice: 0.36522647738456726 Current Avg. Dice: 0.34501922130584717 Current Avg. tumor Dice: 0.42237550020217896 Current Avg. lymph Dice: 0.2338707149028778\n"
     ]
    },
    {
     "name": "stderr",
     "output_type": "stream",
     "text": [
      "Training (8105 / 18000 Steps) (loss=0.43085): 100%|██████████| 21/21 [00:57<00:00,  2.76s/it]\n",
      "Training (8126 / 18000 Steps) (loss=0.65840): 100%|██████████| 21/21 [00:35<00:00,  1.67s/it]\n",
      "Training (8147 / 18000 Steps) (loss=0.66952): 100%|██████████| 21/21 [00:35<00:00,  1.69s/it]\n",
      "Training (8168 / 18000 Steps) (loss=0.52050): 100%|██████████| 21/21 [00:21<00:00,  1.03s/it]\n",
      "Training (8189 / 18000 Steps) (loss=0.29193): 100%|██████████| 21/21 [00:20<00:00,  1.01it/s]\n",
      "Validate (8190 / 10 Steps): 100%|██████████| 8/8 [00:35<00:00,  4.41s/it]25<00:36,  3.33s/it]\n",
      "Training (8200 / 18000 Steps) (loss=0.35710):  52%|█████▏    | 11/21 [01:00<02:12, 13.28s/it]"
     ]
    },
    {
     "name": "stdout",
     "output_type": "stream",
     "text": [
      "Model Was Not Saved ! Current Best Avg. Dice: 0.36522647738456726 Current Avg. Dice: 0.33077481389045715 Current Avg. tumor Dice: 0.4130907952785492 Current Avg. lymph Dice: 0.2123195081949234\n"
     ]
    },
    {
     "name": "stderr",
     "output_type": "stream",
     "text": [
      "Training (8210 / 18000 Steps) (loss=0.46592): 100%|██████████| 21/21 [01:05<00:00,  3.11s/it]\n",
      "Training (8231 / 18000 Steps) (loss=0.30635): 100%|██████████| 21/21 [00:23<00:00,  1.11s/it]\n",
      "Training (8252 / 18000 Steps) (loss=0.15466): 100%|██████████| 21/21 [00:24<00:00,  1.17s/it]\n",
      "Training (8273 / 18000 Steps) (loss=0.42910): 100%|██████████| 21/21 [00:27<00:00,  1.30s/it]\n",
      "Training (8294 / 18000 Steps) (loss=0.37327): 100%|██████████| 21/21 [00:27<00:00,  1.29s/it]\n",
      "Validate (8295 / 10 Steps): 100%|██████████| 8/8 [00:38<00:00,  4.85s/it]0<00:18,  1.18s/it]\n",
      "Training (8300 / 18000 Steps) (loss=0.64976):  29%|██▊       | 6/21 [00:49<03:32, 14.16s/it]"
     ]
    },
    {
     "name": "stdout",
     "output_type": "stream",
     "text": [
      "Model Was Not Saved ! Current Best Avg. Dice: 0.36522647738456726 Current Avg. Dice: 0.3106793165206909 Current Avg. tumor Dice: 0.4399726688861847 Current Avg. lymph Dice: 0.14206650853157043\n"
     ]
    },
    {
     "name": "stderr",
     "output_type": "stream",
     "text": [
      "Training (8315 / 18000 Steps) (loss=0.66756): 100%|██████████| 21/21 [00:58<00:00,  2.79s/it]\n",
      "Training (8336 / 18000 Steps) (loss=0.27289): 100%|██████████| 21/21 [00:25<00:00,  1.21s/it]\n",
      "Training (8357 / 18000 Steps) (loss=0.67125): 100%|██████████| 21/21 [00:20<00:00,  1.02it/s]\n",
      "Training (8378 / 18000 Steps) (loss=0.75595): 100%|██████████| 21/21 [00:26<00:00,  1.24s/it]\n",
      "Training (8399 / 18000 Steps) (loss=0.21112): 100%|██████████| 21/21 [00:25<00:00,  1.22s/it]\n",
      "Validate (8400 / 10 Steps): 100%|██████████| 8/8 [00:35<00:00,  4.40s/it]8<?, ?it/s]\n",
      "Training (8400 / 18000 Steps) (loss=0.19503):   5%|▍         | 1/21 [00:44<14:43, 44.17s/it]"
     ]
    },
    {
     "name": "stdout",
     "output_type": "stream",
     "text": [
      "Model Was Not Saved ! Current Best Avg. Dice: 0.36522647738456726 Current Avg. Dice: 0.3474317491054535 Current Avg. tumor Dice: 0.4530690312385559 Current Avg. lymph Dice: 0.20813973248004913\n"
     ]
    },
    {
     "name": "stderr",
     "output_type": "stream",
     "text": [
      "Training (8420 / 18000 Steps) (loss=0.48507): 100%|██████████| 21/21 [00:56<00:00,  2.69s/it]\n",
      "Training (8441 / 18000 Steps) (loss=0.18340): 100%|██████████| 21/21 [00:27<00:00,  1.29s/it]\n",
      "Training (8462 / 18000 Steps) (loss=0.66700): 100%|██████████| 21/21 [00:29<00:00,  1.41s/it]\n",
      "Training (8483 / 18000 Steps) (loss=0.67256): 100%|██████████| 21/21 [00:22<00:00,  1.07s/it]\n",
      "Validate (8484 / 10 Steps): 100%|██████████| 8/8 [00:35<00:00,  4.45s/it]24<00:03,  1.48it/s]\n",
      "Training (8500 / 18000 Steps) (loss=0.67157):  81%|████████  | 17/21 [01:00<00:48, 12.14s/it]"
     ]
    },
    {
     "name": "stdout",
     "output_type": "stream",
     "text": [
      "Model Was Not Saved ! Current Best Avg. Dice: 0.36522647738456726 Current Avg. Dice: 0.3189889192581177 Current Avg. tumor Dice: 0.40998274087905884 Current Avg. lymph Dice: 0.20058415830135345\n"
     ]
    },
    {
     "name": "stderr",
     "output_type": "stream",
     "text": [
      "Training (8504 / 18000 Steps) (loss=0.66774): 100%|██████████| 21/21 [01:01<00:00,  2.95s/it]\n",
      "Training (8525 / 18000 Steps) (loss=0.40240): 100%|██████████| 21/21 [00:23<00:00,  1.10s/it]\n",
      "Training (8546 / 18000 Steps) (loss=0.38074): 100%|██████████| 21/21 [00:21<00:00,  1.01s/it]\n",
      "Training (8567 / 18000 Steps) (loss=0.23822): 100%|██████████| 21/21 [00:27<00:00,  1.32s/it]\n",
      "Training (8588 / 18000 Steps) (loss=0.18493): 100%|██████████| 21/21 [00:27<00:00,  1.30s/it]\n",
      "Validate (8589 / 10 Steps): 100%|██████████| 8/8 [00:36<00:00,  4.53s/it]15<00:07,  1.32it/s]\n",
      "Training (8600 / 18000 Steps) (loss=0.55116):  57%|█████▋    | 12/21 [00:51<01:46, 11.79s/it]"
     ]
    },
    {
     "name": "stdout",
     "output_type": "stream",
     "text": [
      "Model Was Not Saved ! Current Best Avg. Dice: 0.36522647738456726 Current Avg. Dice: 0.3348630368709564 Current Avg. tumor Dice: 0.3842637240886688 Current Avg. lymph Dice: 0.26090842485427856\n"
     ]
    },
    {
     "name": "stderr",
     "output_type": "stream",
     "text": [
      "Training (8609 / 18000 Steps) (loss=0.37539): 100%|██████████| 21/21 [00:56<00:00,  2.69s/it]\n",
      "Training (8630 / 18000 Steps) (loss=0.66691): 100%|██████████| 21/21 [00:30<00:00,  1.47s/it]\n",
      "Training (8651 / 18000 Steps) (loss=0.66679): 100%|██████████| 21/21 [00:26<00:00,  1.27s/it]\n",
      "Training (8672 / 18000 Steps) (loss=0.23730): 100%|██████████| 21/21 [00:22<00:00,  1.06s/it]\n",
      "Training (8693 / 18000 Steps) (loss=0.27725): 100%|██████████| 21/21 [00:22<00:00,  1.06s/it]\n",
      "Validate (8694 / 10 Steps): 100%|██████████| 8/8 [00:38<00:00,  4.81s/it]3<00:16,  1.11s/it]\n",
      "Training (8700 / 18000 Steps) (loss=0.40880):  33%|███▎      | 7/21 [00:51<03:09, 13.52s/it]"
     ]
    },
    {
     "name": "stdout",
     "output_type": "stream",
     "text": [
      "Model Was Not Saved ! Current Best Avg. Dice: 0.36522647738456726 Current Avg. Dice: 0.3162277936935425 Current Avg. tumor Dice: 0.418497234582901 Current Avg. lymph Dice: 0.17667602002620697\n"
     ]
    },
    {
     "name": "stderr",
     "output_type": "stream",
     "text": [
      "Training (8714 / 18000 Steps) (loss=0.67316): 100%|██████████| 21/21 [00:59<00:00,  2.86s/it]\n",
      "Training (8735 / 18000 Steps) (loss=0.37960): 100%|██████████| 21/21 [00:27<00:00,  1.29s/it]\n",
      "Training (8756 / 18000 Steps) (loss=0.19623): 100%|██████████| 21/21 [00:25<00:00,  1.21s/it]\n",
      "Training (8777 / 18000 Steps) (loss=0.22963): 100%|██████████| 21/21 [00:22<00:00,  1.07s/it]\n",
      "Training (8798 / 18000 Steps) (loss=0.27414): 100%|██████████| 21/21 [00:27<00:00,  1.33s/it]\n",
      "Validate (8799 / 10 Steps): 100%|██████████| 8/8 [00:35<00:00,  4.48s/it]7<02:17,  6.90s/it]\n",
      "Training (8800 / 18000 Steps) (loss=0.66559):  10%|▉         | 2/21 [00:43<07:41, 24.28s/it]"
     ]
    },
    {
     "name": "stdout",
     "output_type": "stream",
     "text": [
      "Model Was Not Saved ! Current Best Avg. Dice: 0.36522647738456726 Current Avg. Dice: 0.3082663118839264 Current Avg. tumor Dice: 0.43969446420669556 Current Avg. lymph Dice: 0.141220822930336\n"
     ]
    },
    {
     "name": "stderr",
     "output_type": "stream",
     "text": [
      "Training (8819 / 18000 Steps) (loss=0.56030): 100%|██████████| 21/21 [00:54<00:00,  2.59s/it]\n",
      "Training (8840 / 18000 Steps) (loss=0.37575): 100%|██████████| 21/21 [00:32<00:00,  1.55s/it]\n",
      "Training (8861 / 18000 Steps) (loss=0.68349): 100%|██████████| 21/21 [00:27<00:00,  1.30s/it]\n",
      "Training (8882 / 18000 Steps) (loss=0.26032): 100%|██████████| 21/21 [00:24<00:00,  1.17s/it]\n",
      "Validate (8883 / 10 Steps): 100%|██████████| 8/8 [00:34<00:00,  4.36s/it]23<00:04,  1.09s/it]\n",
      "Training (8900 / 18000 Steps) (loss=0.31002):  86%|████████▌ | 18/21 [00:57<00:34, 11.40s/it]"
     ]
    },
    {
     "name": "stdout",
     "output_type": "stream",
     "text": [
      "Model Was Not Saved ! Current Best Avg. Dice: 0.36522647738456726 Current Avg. Dice: 0.3593721091747284 Current Avg. tumor Dice: 0.4396476745605469 Current Avg. lymph Dice: 0.24858476221561432\n"
     ]
    },
    {
     "name": "stderr",
     "output_type": "stream",
     "text": [
      "Training (8903 / 18000 Steps) (loss=0.41723): 100%|██████████| 21/21 [00:59<00:00,  2.83s/it]\n",
      "Training (8924 / 18000 Steps) (loss=0.25471): 100%|██████████| 21/21 [00:23<00:00,  1.14s/it]\n",
      "Training (8945 / 18000 Steps) (loss=0.38043): 100%|██████████| 21/21 [00:27<00:00,  1.32s/it]\n",
      "Training (8966 / 18000 Steps) (loss=0.41612): 100%|██████████| 21/21 [00:23<00:00,  1.12s/it]\n",
      "Training (8987 / 18000 Steps) (loss=0.66984): 100%|██████████| 21/21 [00:23<00:00,  1.10s/it]\n",
      "Validate (8988 / 10 Steps): 100%|██████████| 8/8 [00:36<00:00,  4.52s/it]20<00:10,  1.13s/it]\n",
      "Training (9000 / 18000 Steps) (loss=0.60960):  62%|██████▏   | 13/21 [00:57<01:35, 11.96s/it]"
     ]
    },
    {
     "name": "stdout",
     "output_type": "stream",
     "text": [
      "Model Was Not Saved ! Current Best Avg. Dice: 0.36522647738456726 Current Avg. Dice: 0.3567516505718231 Current Avg. tumor Dice: 0.4661312699317932 Current Avg. lymph Dice: 0.21026775240898132\n"
     ]
    },
    {
     "name": "stderr",
     "output_type": "stream",
     "text": [
      "Training (9008 / 18000 Steps) (loss=0.35999): 100%|██████████| 21/21 [01:01<00:00,  2.93s/it]\n",
      "Training (9029 / 18000 Steps) (loss=0.68824): 100%|██████████| 21/21 [00:25<00:00,  1.22s/it]\n",
      "Training (9050 / 18000 Steps) (loss=0.66678): 100%|██████████| 21/21 [00:21<00:00,  1.03s/it]\n",
      "Training (9071 / 18000 Steps) (loss=0.66782): 100%|██████████| 21/21 [00:24<00:00,  1.16s/it]\n",
      "Training (9092 / 18000 Steps) (loss=0.39936): 100%|██████████| 21/21 [00:18<00:00,  1.13it/s]\n",
      "Validate (9093 / 10 Steps): 100%|██████████| 8/8 [00:37<00:00,  4.68s/it]2<00:12,  1.11it/s]\n",
      "Training (9100 / 18000 Steps) (loss=0.20833):  38%|███▊      | 8/21 [00:49<02:45, 12.74s/it]"
     ]
    },
    {
     "name": "stdout",
     "output_type": "stream",
     "text": [
      "Model Was Not Saved ! Current Best Avg. Dice: 0.36522647738456726 Current Avg. Dice: 0.34467360377311707 Current Avg. tumor Dice: 0.37119731307029724 Current Avg. lymph Dice: 0.2888437807559967\n"
     ]
    },
    {
     "name": "stderr",
     "output_type": "stream",
     "text": [
      "Training (9113 / 18000 Steps) (loss=0.66763): 100%|██████████| 21/21 [00:56<00:00,  2.70s/it]\n",
      "Training (9134 / 18000 Steps) (loss=0.68876): 100%|██████████| 21/21 [00:25<00:00,  1.21s/it]\n",
      "Training (9155 / 18000 Steps) (loss=0.66768): 100%|██████████| 21/21 [00:31<00:00,  1.49s/it]\n",
      "Training (9176 / 18000 Steps) (loss=0.27655): 100%|██████████| 21/21 [00:32<00:00,  1.55s/it]\n",
      "Training (9197 / 18000 Steps) (loss=0.41540): 100%|██████████| 21/21 [00:21<00:00,  1.02s/it]\n",
      "Validate (9198 / 10 Steps): 100%|██████████| 8/8 [00:37<00:00,  4.67s/it]2<01:33,  4.94s/it]\n",
      "Training (9200 / 18000 Steps) (loss=0.56470):  14%|█▍        | 3/21 [00:49<06:01, 20.10s/it]"
     ]
    },
    {
     "name": "stdout",
     "output_type": "stream",
     "text": [
      "Model Was Not Saved ! Current Best Avg. Dice: 0.36522647738456726 Current Avg. Dice: 0.3522128462791443 Current Avg. tumor Dice: 0.3836529552936554 Current Avg. lymph Dice: 0.29391616582870483\n"
     ]
    },
    {
     "name": "stderr",
     "output_type": "stream",
     "text": [
      "Training (9218 / 18000 Steps) (loss=0.16612): 100%|██████████| 21/21 [00:58<00:00,  2.81s/it]\n",
      "Training (9239 / 18000 Steps) (loss=0.66806): 100%|██████████| 21/21 [00:23<00:00,  1.10s/it]\n",
      "Training (9260 / 18000 Steps) (loss=0.66701): 100%|██████████| 21/21 [00:24<00:00,  1.18s/it]\n",
      "Training (9281 / 18000 Steps) (loss=0.42394): 100%|██████████| 21/21 [00:25<00:00,  1.23s/it]\n",
      "Validate (9282 / 10 Steps): 100%|██████████| 8/8 [00:36<00:00,  4.54s/it]26<00:03,  1.26s/it]\n",
      "Training (9300 / 18000 Steps) (loss=0.51967):  90%|█████████ | 19/21 [01:02<00:24, 12.10s/it]"
     ]
    },
    {
     "name": "stdout",
     "output_type": "stream",
     "text": [
      "Model Was Not Saved ! Current Best Avg. Dice: 0.36522647738456726 Current Avg. Dice: 0.3549111783504486 Current Avg. tumor Dice: 0.41729113459587097 Current Avg. lymph Dice: 0.25981298089027405\n"
     ]
    },
    {
     "name": "stderr",
     "output_type": "stream",
     "text": [
      "Training (9302 / 18000 Steps) (loss=0.66683): 100%|██████████| 21/21 [01:03<00:00,  3.03s/it]\n",
      "Training (9323 / 18000 Steps) (loss=0.66993): 100%|██████████| 21/21 [00:23<00:00,  1.12s/it]\n",
      "Training (9344 / 18000 Steps) (loss=0.66689): 100%|██████████| 21/21 [00:26<00:00,  1.27s/it]\n",
      "Training (9365 / 18000 Steps) (loss=0.21302): 100%|██████████| 21/21 [00:26<00:00,  1.26s/it]\n",
      "Training (9386 / 18000 Steps) (loss=0.32105): 100%|██████████| 21/21 [00:25<00:00,  1.22s/it]\n",
      "Validate (9387 / 10 Steps): 100%|██████████| 8/8 [00:37<00:00,  4.67s/it]17<00:05,  1.45it/s]\n",
      "Training (9400 / 18000 Steps) (loss=0.61917):  67%|██████▋   | 14/21 [00:55<01:23, 11.94s/it]"
     ]
    },
    {
     "name": "stdout",
     "output_type": "stream",
     "text": [
      "Model Was Not Saved ! Current Best Avg. Dice: 0.36522647738456726 Current Avg. Dice: 0.3502044081687927 Current Avg. tumor Dice: 0.43831247091293335 Current Avg. lymph Dice: 0.22930267453193665\n"
     ]
    },
    {
     "name": "stderr",
     "output_type": "stream",
     "text": [
      "Training (9407 / 18000 Steps) (loss=0.40698): 100%|██████████| 21/21 [00:59<00:00,  2.81s/it]\n",
      "Training (9428 / 18000 Steps) (loss=0.41808): 100%|██████████| 21/21 [00:22<00:00,  1.07s/it]\n",
      "Training (9449 / 18000 Steps) (loss=0.66849): 100%|██████████| 21/21 [00:27<00:00,  1.32s/it]\n",
      "Training (9470 / 18000 Steps) (loss=0.66767): 100%|██████████| 21/21 [00:20<00:00,  1.01it/s]\n",
      "Training (9491 / 18000 Steps) (loss=0.67528): 100%|██████████| 21/21 [00:25<00:00,  1.20s/it]\n",
      "Validate (9492 / 10 Steps): 100%|██████████| 8/8 [00:37<00:00,  4.66s/it]5<00:11,  1.18it/s]\n",
      "Training (9500 / 18000 Steps) (loss=0.57658):  43%|████▎     | 9/21 [00:53<02:31, 12.65s/it]"
     ]
    },
    {
     "name": "stdout",
     "output_type": "stream",
     "text": [
      "Model Was Not Saved ! Current Best Avg. Dice: 0.36522647738456726 Current Avg. Dice: 0.3516606092453003 Current Avg. tumor Dice: 0.43171507120132446 Current Avg. lymph Dice: 0.24631571769714355\n"
     ]
    },
    {
     "name": "stderr",
     "output_type": "stream",
     "text": [
      "Training (9512 / 18000 Steps) (loss=0.66898): 100%|██████████| 21/21 [00:59<00:00,  2.84s/it]\n",
      "Training (9533 / 18000 Steps) (loss=0.19549): 100%|██████████| 21/21 [00:30<00:00,  1.44s/it]\n",
      "Training (9554 / 18000 Steps) (loss=0.18054): 100%|██████████| 21/21 [00:25<00:00,  1.22s/it]\n",
      "Training (9575 / 18000 Steps) (loss=0.66767): 100%|██████████| 21/21 [00:23<00:00,  1.14s/it]\n",
      "Training (9596 / 18000 Steps) (loss=0.18954): 100%|██████████| 21/21 [00:23<00:00,  1.12s/it]\n",
      "Validate (9597 / 10 Steps): 100%|██████████| 8/8 [00:38<00:00,  4.82s/it]4<01:01,  3.40s/it]\n",
      "Training (9600 / 18000 Steps) (loss=0.55228):  19%|█▉        | 4/21 [00:53<04:59, 17.61s/it]"
     ]
    },
    {
     "name": "stdout",
     "output_type": "stream",
     "text": [
      "Model Was Not Saved ! Current Best Avg. Dice: 0.36522647738456726 Current Avg. Dice: 0.34003350138664246 Current Avg. tumor Dice: 0.43134409189224243 Current Avg. lymph Dice: 0.22529809176921844\n"
     ]
    },
    {
     "name": "stderr",
     "output_type": "stream",
     "text": [
      "Training (9617 / 18000 Steps) (loss=0.24756): 100%|██████████| 21/21 [01:03<00:00,  3.04s/it]\n",
      "Training (9638 / 18000 Steps) (loss=0.66791): 100%|██████████| 21/21 [00:30<00:00,  1.44s/it]\n",
      "Training (9659 / 18000 Steps) (loss=0.19073): 100%|██████████| 21/21 [00:29<00:00,  1.41s/it]\n",
      "Training (9680 / 18000 Steps) (loss=0.67331): 100%|██████████| 21/21 [00:21<00:00,  1.02s/it]\n",
      "Validate (9681 / 10 Steps): 100%|██████████| 8/8 [00:34<00:00,  4.34s/it]22<00:01,  1.32it/s]\n",
      "Training (9700 / 18000 Steps) (loss=0.66722):  95%|█████████▌| 20/21 [00:57<00:11, 11.12s/it]"
     ]
    },
    {
     "name": "stdout",
     "output_type": "stream",
     "text": [
      "Model Was Not Saved ! Current Best Avg. Dice: 0.36522647738456726 Current Avg. Dice: 0.35678985714912415 Current Avg. tumor Dice: 0.41440048813819885 Current Avg. lymph Dice: 0.27609699964523315\n"
     ]
    },
    {
     "name": "stderr",
     "output_type": "stream",
     "text": [
      "Training (9701 / 18000 Steps) (loss=0.66714): 100%|██████████| 21/21 [00:58<00:00,  2.77s/it]\n",
      "Training (9722 / 18000 Steps) (loss=0.49108): 100%|██████████| 21/21 [00:26<00:00,  1.28s/it]\n",
      "Training (9743 / 18000 Steps) (loss=0.58008): 100%|██████████| 21/21 [00:24<00:00,  1.18s/it]\n",
      "Training (9764 / 18000 Steps) (loss=0.43377): 100%|██████████| 21/21 [00:23<00:00,  1.11s/it]\n",
      "Training (9785 / 18000 Steps) (loss=0.30193): 100%|██████████| 21/21 [00:26<00:00,  1.27s/it]\n",
      "Validate (9786 / 10 Steps): 100%|██████████| 8/8 [00:36<00:00,  4.61s/it]28<00:06,  1.04it/s]\n",
      "Training (9800 / 18000 Steps) (loss=0.52445):  71%|███████▏  | 15/21 [01:05<01:11, 11.99s/it]"
     ]
    },
    {
     "name": "stdout",
     "output_type": "stream",
     "text": [
      "Model Was Not Saved ! Current Best Avg. Dice: 0.36522647738456726 Current Avg. Dice: 0.34103643894195557 Current Avg. tumor Dice: 0.43112608790397644 Current Avg. lymph Dice: 0.2143481820821762\n"
     ]
    },
    {
     "name": "stderr",
     "output_type": "stream",
     "text": [
      "Training (9806 / 18000 Steps) (loss=0.68431): 100%|██████████| 21/21 [01:08<00:00,  3.27s/it]\n",
      "Training (9827 / 18000 Steps) (loss=0.66687): 100%|██████████| 21/21 [00:23<00:00,  1.14s/it]\n",
      "Training (9848 / 18000 Steps) (loss=0.67593): 100%|██████████| 21/21 [00:37<00:00,  1.78s/it]\n",
      "Training (9869 / 18000 Steps) (loss=0.57005): 100%|██████████| 21/21 [00:26<00:00,  1.28s/it]\n",
      "Training (9890 / 18000 Steps) (loss=0.23710): 100%|██████████| 21/21 [00:26<00:00,  1.28s/it]\n",
      "Validate (9891 / 10 Steps): 100%|██████████| 8/8 [00:37<00:00,  4.64s/it]9<00:22,  1.88s/it]\n",
      "Training (9900 / 18000 Steps) (loss=0.32091):  48%|████▊     | 10/21 [00:56<02:22, 12.96s/it]"
     ]
    },
    {
     "name": "stdout",
     "output_type": "stream",
     "text": [
      "Model Was Not Saved ! Current Best Avg. Dice: 0.36522647738456726 Current Avg. Dice: 0.3257255554199219 Current Avg. tumor Dice: 0.36882731318473816 Current Avg. lymph Dice: 0.26938122510910034\n"
     ]
    },
    {
     "name": "stderr",
     "output_type": "stream",
     "text": [
      "Training (9911 / 18000 Steps) (loss=0.21741): 100%|██████████| 21/21 [01:02<00:00,  2.96s/it]\n",
      "Training (9932 / 18000 Steps) (loss=0.60052): 100%|██████████| 21/21 [00:26<00:00,  1.27s/it]\n",
      "Training (9953 / 18000 Steps) (loss=0.29407): 100%|██████████| 21/21 [00:23<00:00,  1.11s/it]\n",
      "Training (9974 / 18000 Steps) (loss=0.27638): 100%|██████████| 21/21 [00:29<00:00,  1.38s/it]\n",
      "Training (9995 / 18000 Steps) (loss=0.50222): 100%|██████████| 21/21 [00:30<00:00,  1.44s/it]\n",
      "Validate (9996 / 10 Steps): 100%|██████████| 8/8 [00:38<00:00,  4.78s/it]14<00:38,  2.27s/it]\n",
      "Training (10000 / 18000 Steps) (loss=0.41879):  24%|██▍       | 5/21 [00:54<04:19, 16.23s/it]"
     ]
    },
    {
     "name": "stdout",
     "output_type": "stream",
     "text": [
      "Model Was Saved ! Current Best Avg. Dice: 0.4019566774368286 Current Avg. Dice: 0.4019566774368286 Current Avg. tumor Dice: 0.44292160868644714 Current Avg. lymph Dice: 0.3374984562397003\n"
     ]
    },
    {
     "name": "stderr",
     "output_type": "stream",
     "text": [
      "Training (10016 / 18000 Steps) (loss=0.46553): 100%|██████████| 21/21 [01:04<00:00,  3.05s/it]\n",
      "Training (10037 / 18000 Steps) (loss=0.36417): 100%|██████████| 21/21 [00:27<00:00,  1.32s/it]\n",
      "Training (10058 / 18000 Steps) (loss=0.41366): 100%|██████████| 21/21 [00:26<00:00,  1.25s/it]\n",
      "Training (10079 / 18000 Steps) (loss=0.66677): 100%|██████████| 21/21 [00:33<00:00,  1.60s/it]\n",
      "Validate (10080 / 10 Steps): 100%|██████████| 8/8 [00:39<00:00,  4.90s/it]32<00:01,  1.01s/it]\n",
      "Training (10100 / 18000 Steps) (loss=0.37417): 100%|██████████| 21/21 [01:12<00:00,  3.44s/it]"
     ]
    },
    {
     "name": "stdout",
     "output_type": "stream",
     "text": [
      "Model Was Not Saved ! Current Best Avg. Dice: 0.4019566774368286 Current Avg. Dice: 0.35108280181884766 Current Avg. tumor Dice: 0.45056477189064026 Current Avg. lymph Dice: 0.2176322042942047\n"
     ]
    },
    {
     "name": "stderr",
     "output_type": "stream",
     "text": [
      "\n",
      "Training (10121 / 18000 Steps) (loss=0.29895): 100%|██████████| 21/21 [00:29<00:00,  1.39s/it]\n",
      "Training (10142 / 18000 Steps) (loss=0.48784): 100%|██████████| 21/21 [00:30<00:00,  1.46s/it]\n",
      "Training (10163 / 18000 Steps) (loss=0.41322): 100%|██████████| 21/21 [00:22<00:00,  1.07s/it]\n",
      "Training (10184 / 18000 Steps) (loss=0.32000): 100%|██████████| 21/21 [00:21<00:00,  1.05s/it]\n",
      "Validate (10185 / 10 Steps): 100%|██████████| 8/8 [00:35<00:00,  4.45s/it]21<00:05,  1.03it/s]\n",
      "Training (10200 / 18000 Steps) (loss=0.52920):  76%|███████▌  | 16/21 [00:57<00:57, 11.55s/it]"
     ]
    },
    {
     "name": "stdout",
     "output_type": "stream",
     "text": [
      "Model Was Not Saved ! Current Best Avg. Dice: 0.4019566774368286 Current Avg. Dice: 0.37932708859443665 Current Avg. tumor Dice: 0.45333132147789 Current Avg. lymph Dice: 0.27843743562698364\n"
     ]
    },
    {
     "name": "stderr",
     "output_type": "stream",
     "text": [
      "Training (10205 / 18000 Steps) (loss=0.66691): 100%|██████████| 21/21 [01:00<00:00,  2.86s/it]\n",
      "Training (10226 / 18000 Steps) (loss=0.66752): 100%|██████████| 21/21 [00:24<00:00,  1.18s/it]\n",
      "Training (10247 / 18000 Steps) (loss=0.55431): 100%|██████████| 21/21 [00:26<00:00,  1.26s/it]\n",
      "Training (10268 / 18000 Steps) (loss=0.66681): 100%|██████████| 21/21 [00:28<00:00,  1.35s/it]\n",
      "Training (10289 / 18000 Steps) (loss=0.40353): 100%|██████████| 21/21 [00:28<00:00,  1.37s/it]\n",
      "Validate (10290 / 10 Steps): 100%|██████████| 8/8 [00:36<00:00,  4.56s/it]15<00:10,  1.07it/s]\n",
      "Training (10300 / 18000 Steps) (loss=0.33806):  52%|█████▏    | 11/21 [00:51<02:00, 12.01s/it]"
     ]
    },
    {
     "name": "stdout",
     "output_type": "stream",
     "text": [
      "Model Was Not Saved ! Current Best Avg. Dice: 0.4019566774368286 Current Avg. Dice: 0.3681661784648895 Current Avg. tumor Dice: 0.4571603834629059 Current Avg. lymph Dice: 0.2493472397327423\n"
     ]
    },
    {
     "name": "stderr",
     "output_type": "stream",
     "text": [
      "Training (10310 / 18000 Steps) (loss=0.68472): 100%|██████████| 21/21 [00:57<00:00,  2.72s/it]\n",
      "Training (10331 / 18000 Steps) (loss=0.67091): 100%|██████████| 21/21 [00:27<00:00,  1.32s/it]\n",
      "Training (10352 / 18000 Steps) (loss=0.19628): 100%|██████████| 21/21 [00:25<00:00,  1.24s/it]\n",
      "Training (10373 / 18000 Steps) (loss=0.45689): 100%|██████████| 21/21 [00:29<00:00,  1.41s/it]\n",
      "Training (10394 / 18000 Steps) (loss=0.66715): 100%|██████████| 21/21 [00:27<00:00,  1.31s/it]\n",
      "Validate (10395 / 10 Steps): 100%|██████████| 8/8 [00:36<00:00,  4.54s/it]2<00:21,  1.37s/it]\n",
      "Training (10400 / 18000 Steps) (loss=0.58550):  29%|██▊       | 6/21 [00:48<03:22, 13.49s/it]"
     ]
    },
    {
     "name": "stdout",
     "output_type": "stream",
     "text": [
      "Model Was Not Saved ! Current Best Avg. Dice: 0.4019566774368286 Current Avg. Dice: 0.35157501697540283 Current Avg. tumor Dice: 0.39977404475212097 Current Avg. lymph Dice: 0.27710217237472534\n"
     ]
    },
    {
     "name": "stderr",
     "output_type": "stream",
     "text": [
      "Training (10415 / 18000 Steps) (loss=0.66783): 100%|██████████| 21/21 [00:57<00:00,  2.74s/it]\n",
      "Training (10436 / 18000 Steps) (loss=0.66700): 100%|██████████| 21/21 [00:27<00:00,  1.32s/it]\n",
      "Training (10457 / 18000 Steps) (loss=0.66746): 100%|██████████| 21/21 [00:25<00:00,  1.19s/it]\n",
      "Training (10478 / 18000 Steps) (loss=0.30095): 100%|██████████| 21/21 [00:26<00:00,  1.25s/it]\n",
      "Training (10499 / 18000 Steps) (loss=0.57412): 100%|██████████| 21/21 [00:27<00:00,  1.33s/it]\n",
      "Validate (10500 / 10 Steps): 100%|██████████| 8/8 [00:37<00:00,  4.74s/it]8<?, ?it/s]\n",
      "Training (10500 / 18000 Steps) (loss=0.38435):   5%|▍         | 1/21 [00:46<15:34, 46.70s/it]"
     ]
    },
    {
     "name": "stdout",
     "output_type": "stream",
     "text": [
      "Model Was Not Saved ! Current Best Avg. Dice: 0.4019566774368286 Current Avg. Dice: 0.3700050413608551 Current Avg. tumor Dice: 0.45842811465263367 Current Avg. lymph Dice: 0.24601159989833832\n"
     ]
    },
    {
     "name": "stderr",
     "output_type": "stream",
     "text": [
      "Training (10520 / 18000 Steps) (loss=0.34109): 100%|██████████| 21/21 [00:57<00:00,  2.75s/it]\n",
      "Training (10541 / 18000 Steps) (loss=0.66772): 100%|██████████| 21/21 [00:23<00:00,  1.13s/it]\n",
      "Training (10562 / 18000 Steps) (loss=0.44277): 100%|██████████| 21/21 [00:23<00:00,  1.13s/it]\n",
      "Training (10583 / 18000 Steps) (loss=0.41697): 100%|██████████| 21/21 [00:26<00:00,  1.27s/it]\n",
      "Validate (10584 / 10 Steps): 100%|██████████| 8/8 [00:37<00:00,  4.64s/it]23<00:03,  1.49it/s]\n",
      "Training (10600 / 18000 Steps) (loss=0.44601):  81%|████████  | 17/21 [01:00<00:50, 12.54s/it]"
     ]
    },
    {
     "name": "stdout",
     "output_type": "stream",
     "text": [
      "Model Was Not Saved ! Current Best Avg. Dice: 0.4019566774368286 Current Avg. Dice: 0.3304656445980072 Current Avg. tumor Dice: 0.3693556487560272 Current Avg. lymph Dice: 0.2716653645038605\n"
     ]
    },
    {
     "name": "stderr",
     "output_type": "stream",
     "text": [
      "Training (10604 / 18000 Steps) (loss=0.43537): 100%|██████████| 21/21 [01:02<00:00,  2.99s/it]\n",
      "Training (10625 / 18000 Steps) (loss=0.66940): 100%|██████████| 21/21 [00:33<00:00,  1.58s/it]\n",
      "Training (10646 / 18000 Steps) (loss=0.46516): 100%|██████████| 21/21 [00:27<00:00,  1.30s/it]\n",
      "Training (10667 / 18000 Steps) (loss=0.61216): 100%|██████████| 21/21 [00:20<00:00,  1.02it/s]\n",
      "Training (10688 / 18000 Steps) (loss=0.21358): 100%|██████████| 21/21 [00:18<00:00,  1.14it/s]\n",
      "Validate (10689 / 10 Steps): 100%|██████████| 8/8 [00:35<00:00,  4.45s/it]20<00:12,  1.25s/it]\n",
      "Training (10700 / 18000 Steps) (loss=0.30482):  57%|█████▋    | 12/21 [00:55<01:47, 11.95s/it]"
     ]
    },
    {
     "name": "stdout",
     "output_type": "stream",
     "text": [
      "Model Was Not Saved ! Current Best Avg. Dice: 0.4019566774368286 Current Avg. Dice: 0.37264031171798706 Current Avg. tumor Dice: 0.42029592394828796 Current Avg. lymph Dice: 0.29341867566108704\n"
     ]
    },
    {
     "name": "stderr",
     "output_type": "stream",
     "text": [
      "Training (10709 / 18000 Steps) (loss=0.31092): 100%|██████████| 21/21 [01:00<00:00,  2.88s/it]\n",
      "Training (10730 / 18000 Steps) (loss=0.34656): 100%|██████████| 21/21 [00:24<00:00,  1.17s/it]\n",
      "Training (10751 / 18000 Steps) (loss=0.41722): 100%|██████████| 21/21 [00:24<00:00,  1.16s/it]\n",
      "Training (10772 / 18000 Steps) (loss=0.40642): 100%|██████████| 21/21 [00:27<00:00,  1.29s/it]\n",
      "Training (10793 / 18000 Steps) (loss=0.58738): 100%|██████████| 21/21 [00:26<00:00,  1.26s/it]\n",
      "Validate (10794 / 10 Steps): 100%|██████████| 8/8 [00:36<00:00,  4.51s/it]5<00:17,  1.14s/it]\n",
      "Training (10800 / 18000 Steps) (loss=0.66763):  33%|███▎      | 7/21 [00:51<02:58, 12.76s/it]"
     ]
    },
    {
     "name": "stdout",
     "output_type": "stream",
     "text": [
      "Model Was Not Saved ! Current Best Avg. Dice: 0.4019566774368286 Current Avg. Dice: 0.3811141550540924 Current Avg. tumor Dice: 0.344728022813797 Current Avg. lymph Dice: 0.40131011605262756\n"
     ]
    },
    {
     "name": "stderr",
     "output_type": "stream",
     "text": [
      "Training (10814 / 18000 Steps) (loss=0.25518): 100%|██████████| 21/21 [00:59<00:00,  2.82s/it]\n",
      "Training (10835 / 18000 Steps) (loss=0.56673): 100%|██████████| 21/21 [00:30<00:00,  1.45s/it]\n",
      "Training (10856 / 18000 Steps) (loss=0.66706): 100%|██████████| 21/21 [00:23<00:00,  1.10s/it]\n",
      "Training (10877 / 18000 Steps) (loss=0.31908): 100%|██████████| 21/21 [00:23<00:00,  1.12s/it]\n",
      "Training (10898 / 18000 Steps) (loss=0.73512): 100%|██████████| 21/21 [00:22<00:00,  1.07s/it]\n",
      "Validate (10899 / 10 Steps): 100%|██████████| 8/8 [00:38<00:00,  4.85s/it]9<02:40,  8.00s/it]\n",
      "Training (10900 / 18000 Steps) (loss=0.66796):  10%|▉         | 2/21 [00:47<08:29, 26.82s/it]"
     ]
    },
    {
     "name": "stdout",
     "output_type": "stream",
     "text": [
      "Model Was Not Saved ! Current Best Avg. Dice: 0.4019566774368286 Current Avg. Dice: 0.36558908224105835 Current Avg. tumor Dice: 0.4377857744693756 Current Avg. lymph Dice: 0.2693069875240326\n"
     ]
    },
    {
     "name": "stderr",
     "output_type": "stream",
     "text": [
      "Training (10919 / 18000 Steps) (loss=0.66705): 100%|██████████| 21/21 [00:58<00:00,  2.80s/it]\n",
      "Training (10940 / 18000 Steps) (loss=0.66684): 100%|██████████| 21/21 [00:22<00:00,  1.06s/it]\n",
      "Training (10961 / 18000 Steps) (loss=0.18024): 100%|██████████| 21/21 [00:18<00:00,  1.15it/s]\n",
      "Training (10982 / 18000 Steps) (loss=0.66677): 100%|██████████| 21/21 [00:24<00:00,  1.16s/it]\n",
      "Validate (10983 / 10 Steps): 100%|██████████| 8/8 [00:36<00:00,  4.54s/it]24<00:04,  1.07s/it]\n",
      "Training (11000 / 18000 Steps) (loss=0.42248):  86%|████████▌ | 18/21 [01:00<00:35, 11.87s/it]"
     ]
    },
    {
     "name": "stdout",
     "output_type": "stream",
     "text": [
      "Model Was Not Saved ! Current Best Avg. Dice: 0.4019566774368286 Current Avg. Dice: 0.3447014093399048 Current Avg. tumor Dice: 0.4426323473453522 Current Avg. lymph Dice: 0.21785993874073029\n"
     ]
    },
    {
     "name": "stderr",
     "output_type": "stream",
     "text": [
      "Training (11003 / 18000 Steps) (loss=0.16161): 100%|██████████| 21/21 [01:02<00:00,  2.99s/it]\n",
      "Training (11024 / 18000 Steps) (loss=0.41992): 100%|██████████| 21/21 [00:28<00:00,  1.35s/it]\n",
      "Training (11045 / 18000 Steps) (loss=0.50662): 100%|██████████| 21/21 [00:27<00:00,  1.33s/it]\n",
      "Training (11066 / 18000 Steps) (loss=0.66691): 100%|██████████| 21/21 [00:20<00:00,  1.01it/s]\n",
      "Training (11087 / 18000 Steps) (loss=0.25706): 100%|██████████| 21/21 [00:29<00:00,  1.38s/it]\n",
      "Validate (11088 / 10 Steps): 100%|██████████| 8/8 [00:36<00:00,  4.52s/it]21<00:09,  1.04s/it]\n",
      "Training (11100 / 18000 Steps) (loss=0.13890):  62%|██████▏   | 13/21 [00:57<01:34, 11.86s/it]"
     ]
    },
    {
     "name": "stdout",
     "output_type": "stream",
     "text": [
      "Model Was Not Saved ! Current Best Avg. Dice: 0.4019566774368286 Current Avg. Dice: 0.36885198950767517 Current Avg. tumor Dice: 0.42318782210350037 Current Avg. lymph Dice: 0.2911418378353119\n"
     ]
    },
    {
     "name": "stderr",
     "output_type": "stream",
     "text": [
      "Training (11108 / 18000 Steps) (loss=0.17491): 100%|██████████| 21/21 [01:02<00:00,  2.97s/it]\n",
      "Training (11129 / 18000 Steps) (loss=0.46816): 100%|██████████| 21/21 [00:27<00:00,  1.31s/it]\n",
      "Training (11150 / 18000 Steps) (loss=0.66698): 100%|██████████| 21/21 [00:21<00:00,  1.02s/it]\n",
      "Training (11171 / 18000 Steps) (loss=0.66680): 100%|██████████| 21/21 [00:30<00:00,  1.45s/it]\n",
      "Training (11192 / 18000 Steps) (loss=0.54151): 100%|██████████| 21/21 [00:27<00:00,  1.30s/it]\n",
      "Validate (11193 / 10 Steps): 100%|██████████| 8/8 [00:40<00:00,  5.02s/it]3<00:13,  1.06it/s]\n",
      "Training (11200 / 18000 Steps) (loss=0.36977):  38%|███▊      | 8/21 [00:54<02:57, 13.62s/it]"
     ]
    },
    {
     "name": "stdout",
     "output_type": "stream",
     "text": [
      "Model Was Not Saved ! Current Best Avg. Dice: 0.4019566774368286 Current Avg. Dice: 0.3245803415775299 Current Avg. tumor Dice: 0.3793196380138397 Current Avg. lymph Dice: 0.2514878809452057\n"
     ]
    },
    {
     "name": "stderr",
     "output_type": "stream",
     "text": [
      "Training (11213 / 18000 Steps) (loss=0.22132): 100%|██████████| 21/21 [01:02<00:00,  2.97s/it]\n",
      "Training (11234 / 18000 Steps) (loss=0.66820): 100%|██████████| 21/21 [00:29<00:00,  1.42s/it]\n",
      "Training (11255 / 18000 Steps) (loss=0.26246): 100%|██████████| 21/21 [00:23<00:00,  1.13s/it]\n",
      "Training (11276 / 18000 Steps) (loss=0.66733): 100%|██████████| 21/21 [00:30<00:00,  1.47s/it]\n",
      "Training (11297 / 18000 Steps) (loss=0.66816): 100%|██████████| 21/21 [00:31<00:00,  1.48s/it]\n",
      "Validate (11298 / 10 Steps): 100%|██████████| 8/8 [00:37<00:00,  4.74s/it]9<01:11,  3.78s/it]\n",
      "Training (11300 / 18000 Steps) (loss=0.69558):  14%|█▍        | 3/21 [00:47<05:53, 19.66s/it]"
     ]
    },
    {
     "name": "stdout",
     "output_type": "stream",
     "text": [
      "Model Was Not Saved ! Current Best Avg. Dice: 0.4019566774368286 Current Avg. Dice: 0.35605669021606445 Current Avg. tumor Dice: 0.4328269064426422 Current Avg. lymph Dice: 0.24959881603717804\n"
     ]
    },
    {
     "name": "stderr",
     "output_type": "stream",
     "text": [
      "Training (11318 / 18000 Steps) (loss=0.66738): 100%|██████████| 21/21 [00:57<00:00,  2.75s/it]\n",
      "Training (11339 / 18000 Steps) (loss=0.23280): 100%|██████████| 21/21 [00:32<00:00,  1.53s/it]\n",
      "Training (11360 / 18000 Steps) (loss=0.50639): 100%|██████████| 21/21 [00:22<00:00,  1.07s/it]\n",
      "Training (11381 / 18000 Steps) (loss=0.15417): 100%|██████████| 21/21 [00:29<00:00,  1.42s/it]\n",
      "Validate (11382 / 10 Steps): 100%|██████████| 8/8 [00:37<00:00,  4.68s/it]29<00:04,  1.52s/it]\n",
      "Training (11400 / 18000 Steps) (loss=0.16071):  90%|█████████ | 19/21 [01:07<00:25, 12.53s/it]"
     ]
    },
    {
     "name": "stdout",
     "output_type": "stream",
     "text": [
      "Model Was Not Saved ! Current Best Avg. Dice: 0.4019566774368286 Current Avg. Dice: 0.36919504404067993 Current Avg. tumor Dice: 0.45712533593177795 Current Avg. lymph Dice: 0.2478279024362564\n"
     ]
    },
    {
     "name": "stderr",
     "output_type": "stream",
     "text": [
      "Training (11402 / 18000 Steps) (loss=0.47281): 100%|██████████| 21/21 [01:08<00:00,  3.25s/it]\n",
      "Training (11423 / 18000 Steps) (loss=0.66685): 100%|██████████| 21/21 [00:26<00:00,  1.28s/it]\n",
      "Training (11444 / 18000 Steps) (loss=0.66700): 100%|██████████| 21/21 [00:30<00:00,  1.45s/it]\n",
      "Training (11465 / 18000 Steps) (loss=0.29677): 100%|██████████| 21/21 [00:30<00:00,  1.44s/it]\n",
      "Training (11486 / 18000 Steps) (loss=0.53597): 100%|██████████| 21/21 [00:27<00:00,  1.33s/it]\n",
      "Validate (11487 / 10 Steps): 100%|██████████| 8/8 [00:38<00:00,  4.87s/it]21<00:06,  1.15it/s]\n",
      "Training (11500 / 18000 Steps) (loss=0.50799):  67%|██████▋   | 14/21 [01:00<01:28, 12.63s/it]"
     ]
    },
    {
     "name": "stdout",
     "output_type": "stream",
     "text": [
      "Model Was Not Saved ! Current Best Avg. Dice: 0.4019566774368286 Current Avg. Dice: 0.3518332242965698 Current Avg. tumor Dice: 0.4470313489437103 Current Avg. lymph Dice: 0.22606663405895233\n"
     ]
    },
    {
     "name": "stderr",
     "output_type": "stream",
     "text": [
      "Training (11507 / 18000 Steps) (loss=0.66782): 100%|██████████| 21/21 [01:04<00:00,  3.06s/it]\n",
      "Training (11528 / 18000 Steps) (loss=0.66689): 100%|██████████| 21/21 [00:22<00:00,  1.06s/it]\n",
      "Training (11549 / 18000 Steps) (loss=0.30137): 100%|██████████| 21/21 [00:28<00:00,  1.36s/it]\n",
      "Training (11570 / 18000 Steps) (loss=0.68127): 100%|██████████| 21/21 [00:24<00:00,  1.17s/it]\n",
      "Training (11591 / 18000 Steps) (loss=0.25599): 100%|██████████| 21/21 [00:26<00:00,  1.25s/it]\n",
      "Validate (11592 / 10 Steps): 100%|██████████| 8/8 [00:40<00:00,  5.01s/it]6<00:11,  1.13it/s]\n",
      "Training (11600 / 18000 Steps) (loss=0.26647):  43%|████▎     | 9/21 [00:57<02:49, 14.14s/it]"
     ]
    },
    {
     "name": "stdout",
     "output_type": "stream",
     "text": [
      "Model Was Not Saved ! Current Best Avg. Dice: 0.4019566774368286 Current Avg. Dice: 0.3629192113876343 Current Avg. tumor Dice: 0.4587063789367676 Current Avg. lymph Dice: 0.2372189611196518\n"
     ]
    },
    {
     "name": "stderr",
     "output_type": "stream",
     "text": [
      "Training (11612 / 18000 Steps) (loss=0.35924): 100%|██████████| 21/21 [01:04<00:00,  3.08s/it]\n",
      "Training (11633 / 18000 Steps) (loss=0.66680): 100%|██████████| 21/21 [00:21<00:00,  1.03s/it]\n",
      "Training (11654 / 18000 Steps) (loss=0.46297): 100%|██████████| 21/21 [00:28<00:00,  1.36s/it]\n",
      "Training (11675 / 18000 Steps) (loss=0.66720): 100%|██████████| 21/21 [00:33<00:00,  1.60s/it]\n",
      "Training (11696 / 18000 Steps) (loss=0.19558): 100%|██████████| 21/21 [00:28<00:00,  1.34s/it]\n",
      "Validate (11697 / 10 Steps): 100%|██████████| 8/8 [00:40<00:00,  5.09s/it]2<00:51,  2.88s/it]\n",
      "Training (11700 / 18000 Steps) (loss=0.35816):  19%|█▉        | 4/21 [00:53<05:09, 18.22s/it]"
     ]
    },
    {
     "name": "stdout",
     "output_type": "stream",
     "text": [
      "Model Was Not Saved ! Current Best Avg. Dice: 0.4019566774368286 Current Avg. Dice: 0.3409644067287445 Current Avg. tumor Dice: 0.4580745995044708 Current Avg. lymph Dice: 0.18605056405067444\n"
     ]
    },
    {
     "name": "stderr",
     "output_type": "stream",
     "text": [
      "Training (11717 / 18000 Steps) (loss=0.78777): 100%|██████████| 21/21 [01:02<00:00,  2.99s/it]\n",
      "Training (11738 / 18000 Steps) (loss=0.66769): 100%|██████████| 21/21 [00:24<00:00,  1.16s/it]\n",
      "Training (11759 / 18000 Steps) (loss=0.39079): 100%|██████████| 21/21 [00:24<00:00,  1.15s/it]\n",
      "Training (11780 / 18000 Steps) (loss=0.66735): 100%|██████████| 21/21 [00:31<00:00,  1.52s/it]\n",
      "Validate (11781 / 10 Steps): 100%|██████████| 8/8 [00:38<00:00,  4.82s/it]30<00:01,  1.01it/s]\n",
      "Training (11800 / 18000 Steps) (loss=0.20829):  95%|█████████▌| 20/21 [01:09<00:12, 12.44s/it]"
     ]
    },
    {
     "name": "stdout",
     "output_type": "stream",
     "text": [
      "Model Was Not Saved ! Current Best Avg. Dice: 0.4019566774368286 Current Avg. Dice: 0.3825279176235199 Current Avg. tumor Dice: 0.47364166378974915 Current Avg. lymph Dice: 0.2601401209831238\n"
     ]
    },
    {
     "name": "stderr",
     "output_type": "stream",
     "text": [
      "Training (11801 / 18000 Steps) (loss=0.66680): 100%|██████████| 21/21 [01:09<00:00,  3.32s/it]\n",
      "Training (11822 / 18000 Steps) (loss=0.66690): 100%|██████████| 21/21 [00:25<00:00,  1.23s/it]\n",
      "Training (11843 / 18000 Steps) (loss=0.42356): 100%|██████████| 21/21 [00:24<00:00,  1.18s/it]\n",
      "Training (11864 / 18000 Steps) (loss=0.66691): 100%|██████████| 21/21 [00:25<00:00,  1.19s/it]\n",
      "Training (11885 / 18000 Steps) (loss=0.53626): 100%|██████████| 21/21 [00:27<00:00,  1.32s/it]\n",
      "Validate (11886 / 10 Steps): 100%|██████████| 8/8 [00:37<00:00,  4.70s/it]23<00:05,  1.32it/s]\n",
      "Training (11900 / 18000 Steps) (loss=0.52778):  71%|███████▏  | 15/21 [01:01<01:12, 12.04s/it]"
     ]
    },
    {
     "name": "stdout",
     "output_type": "stream",
     "text": [
      "Model Was Not Saved ! Current Best Avg. Dice: 0.4019566774368286 Current Avg. Dice: 0.372085303068161 Current Avg. tumor Dice: 0.3878951370716095 Current Avg. lymph Dice: 0.3370906412601471\n"
     ]
    },
    {
     "name": "stderr",
     "output_type": "stream",
     "text": [
      "Training (11906 / 18000 Steps) (loss=0.66798): 100%|██████████| 21/21 [01:04<00:00,  3.09s/it]\n",
      "Training (11927 / 18000 Steps) (loss=0.27530): 100%|██████████| 21/21 [00:30<00:00,  1.47s/it]\n",
      "Training (11948 / 18000 Steps) (loss=0.15622): 100%|██████████| 21/21 [00:40<00:00,  1.91s/it]\n",
      "Training (11969 / 18000 Steps) (loss=0.25021): 100%|██████████| 21/21 [00:32<00:00,  1.53s/it]\n",
      "Training (11990 / 18000 Steps) (loss=0.66682): 100%|██████████| 21/21 [00:40<00:00,  1.93s/it]\n",
      "Validate (11991 / 10 Steps): 100%|██████████| 8/8 [00:37<00:00,  4.69s/it]5<00:31,  2.61s/it]\n",
      "Training (12000 / 18000 Steps) (loss=0.70445):  48%|████▊     | 10/21 [01:03<02:29, 13.55s/it]"
     ]
    },
    {
     "name": "stdout",
     "output_type": "stream",
     "text": [
      "Model Was Not Saved ! Current Best Avg. Dice: 0.4019566774368286 Current Avg. Dice: 0.3167242705821991 Current Avg. tumor Dice: 0.4368514120578766 Current Avg. lymph Dice: 0.16418252885341644\n"
     ]
    },
    {
     "name": "stderr",
     "output_type": "stream",
     "text": [
      "Training (12011 / 18000 Steps) (loss=0.24684): 100%|██████████| 21/21 [01:08<00:00,  3.27s/it]\n",
      "Training (12032 / 18000 Steps) (loss=0.20467): 100%|██████████| 21/21 [00:25<00:00,  1.21s/it]\n",
      "Training (12053 / 18000 Steps) (loss=0.49556): 100%|██████████| 21/21 [00:26<00:00,  1.28s/it]\n",
      "Training (12074 / 18000 Steps) (loss=0.53106): 100%|██████████| 21/21 [00:24<00:00,  1.19s/it]\n",
      "Training (12095 / 18000 Steps) (loss=0.38681): 100%|██████████| 21/21 [00:25<00:00,  1.21s/it]\n",
      "Validate (12096 / 10 Steps): 100%|██████████| 8/8 [00:37<00:00,  4.68s/it]2<00:34,  2.00s/it]\n",
      "Training (12100 / 18000 Steps) (loss=0.43743):  24%|██▍       | 5/21 [00:50<04:00, 15.02s/it]"
     ]
    },
    {
     "name": "stdout",
     "output_type": "stream",
     "text": [
      "Model Was Not Saved ! Current Best Avg. Dice: 0.4019566774368286 Current Avg. Dice: 0.3371597230434418 Current Avg. tumor Dice: 0.37873750925064087 Current Avg. lymph Dice: 0.27836719155311584\n"
     ]
    },
    {
     "name": "stderr",
     "output_type": "stream",
     "text": [
      "Training (12116 / 18000 Steps) (loss=0.16022): 100%|██████████| 21/21 [00:58<00:00,  2.81s/it]\n",
      "Training (12137 / 18000 Steps) (loss=0.27492): 100%|██████████| 21/21 [00:28<00:00,  1.34s/it]\n",
      "Training (12158 / 18000 Steps) (loss=0.66856): 100%|██████████| 21/21 [00:22<00:00,  1.07s/it]\n",
      "Training (12179 / 18000 Steps) (loss=0.15602): 100%|██████████| 21/21 [00:21<00:00,  1.04s/it]\n",
      "Validate (12180 / 10 Steps): 100%|██████████| 8/8 [00:35<00:00,  4.48s/it]28<00:00,  1.06it/s]\n",
      "Training (12200 / 18000 Steps) (loss=0.39577): 100%|██████████| 21/21 [01:04<00:00, 11.55s/it]"
     ]
    },
    {
     "name": "stdout",
     "output_type": "stream",
     "text": [
      "Model Was Not Saved ! Current Best Avg. Dice: 0.4019566774368286 Current Avg. Dice: 0.3609575927257538 Current Avg. tumor Dice: 0.40761396288871765 Current Avg. lymph Dice: 0.2857843041419983\n"
     ]
    },
    {
     "name": "stderr",
     "output_type": "stream",
     "text": [
      "Training (12200 / 18000 Steps) (loss=0.39577): 100%|██████████| 21/21 [01:05<00:00,  3.10s/it]\n",
      "Training (12221 / 18000 Steps) (loss=0.16787): 100%|██████████| 21/21 [00:26<00:00,  1.26s/it]\n",
      "Training (12242 / 18000 Steps) (loss=0.49394): 100%|██████████| 21/21 [00:26<00:00,  1.27s/it]\n",
      "Training (12263 / 18000 Steps) (loss=0.37606): 100%|██████████| 21/21 [00:24<00:00,  1.17s/it]\n",
      "Training (12284 / 18000 Steps) (loss=0.21610): 100%|██████████| 21/21 [00:30<00:00,  1.45s/it]\n",
      "Validate (12285 / 10 Steps): 100%|██████████| 8/8 [00:34<00:00,  4.27s/it]18<00:03,  1.51it/s]\n",
      "Training (12300 / 18000 Steps) (loss=0.30380):  76%|███████▌  | 16/21 [00:54<00:57, 11.40s/it]"
     ]
    },
    {
     "name": "stdout",
     "output_type": "stream",
     "text": [
      "Model Was Saved ! Current Best Avg. Dice: 0.4125610888004303 Current Avg. Dice: 0.4125610888004303 Current Avg. tumor Dice: 0.4244353473186493 Current Avg. lymph Dice: 0.3758198916912079\n"
     ]
    },
    {
     "name": "stderr",
     "output_type": "stream",
     "text": [
      "Training (12305 / 18000 Steps) (loss=0.66696): 100%|██████████| 21/21 [00:57<00:00,  2.72s/it]\n",
      "Training (12326 / 18000 Steps) (loss=0.66678): 100%|██████████| 21/21 [00:24<00:00,  1.18s/it]\n",
      "Training (12347 / 18000 Steps) (loss=0.66957): 100%|██████████| 21/21 [00:22<00:00,  1.05s/it]\n",
      "Training (12368 / 18000 Steps) (loss=0.66679): 100%|██████████| 21/21 [00:25<00:00,  1.19s/it]\n",
      "Training (12389 / 18000 Steps) (loss=0.30329): 100%|██████████| 21/21 [00:24<00:00,  1.18s/it]\n",
      "Validate (12390 / 10 Steps): 100%|██████████| 8/8 [00:36<00:00,  4.51s/it]18<00:16,  1.53s/it]\n",
      "Training (12400 / 18000 Steps) (loss=0.45947):  52%|█████▏    | 11/21 [00:54<02:02, 12.29s/it]"
     ]
    },
    {
     "name": "stdout",
     "output_type": "stream",
     "text": [
      "Model Was Not Saved ! Current Best Avg. Dice: 0.4125610888004303 Current Avg. Dice: 0.38900846242904663 Current Avg. tumor Dice: 0.43218690156936646 Current Avg. lymph Dice: 0.31826263666152954\n"
     ]
    },
    {
     "name": "stderr",
     "output_type": "stream",
     "text": [
      "Training (12410 / 18000 Steps) (loss=0.66693): 100%|██████████| 21/21 [00:59<00:00,  2.85s/it]\n",
      "Training (12431 / 18000 Steps) (loss=0.42395): 100%|██████████| 21/21 [00:25<00:00,  1.20s/it]\n",
      "Training (12452 / 18000 Steps) (loss=0.66783): 100%|██████████| 21/21 [00:23<00:00,  1.13s/it]\n",
      "Training (12473 / 18000 Steps) (loss=0.66740): 100%|██████████| 21/21 [00:26<00:00,  1.27s/it]\n",
      "Training (12494 / 18000 Steps) (loss=0.66690): 100%|██████████| 21/21 [00:30<00:00,  1.46s/it]\n",
      "Validate (12495 / 10 Steps): 100%|██████████| 8/8 [00:36<00:00,  4.61s/it]2<00:22,  1.39s/it]\n",
      "Training (12500 / 18000 Steps) (loss=0.54198):  29%|██▊       | 6/21 [00:49<03:25, 13.71s/it]"
     ]
    },
    {
     "name": "stdout",
     "output_type": "stream",
     "text": [
      "Model Was Not Saved ! Current Best Avg. Dice: 0.4125610888004303 Current Avg. Dice: 0.3302769362926483 Current Avg. tumor Dice: 0.30184248089790344 Current Avg. lymph Dice: 0.3471640646457672\n"
     ]
    },
    {
     "name": "stderr",
     "output_type": "stream",
     "text": [
      "Training (12515 / 18000 Steps) (loss=0.23426): 100%|██████████| 21/21 [00:58<00:00,  2.76s/it]\n",
      "Training (12536 / 18000 Steps) (loss=0.34619): 100%|██████████| 21/21 [00:22<00:00,  1.07s/it]\n",
      "Training (12557 / 18000 Steps) (loss=0.44098): 100%|██████████| 21/21 [00:31<00:00,  1.49s/it]\n",
      "Training (12578 / 18000 Steps) (loss=0.42139): 100%|██████████| 21/21 [00:26<00:00,  1.24s/it]\n",
      "Training (12599 / 18000 Steps) (loss=0.24499): 100%|██████████| 21/21 [00:21<00:00,  1.02s/it]\n",
      "Validate (12600 / 10 Steps): 100%|██████████| 8/8 [00:37<00:00,  4.73s/it]9<?, ?it/s]\n",
      "Training (12600 / 18000 Steps) (loss=0.30812):   5%|▍         | 1/21 [00:47<15:58, 47.91s/it]"
     ]
    },
    {
     "name": "stdout",
     "output_type": "stream",
     "text": [
      "Model Was Not Saved ! Current Best Avg. Dice: 0.4125610888004303 Current Avg. Dice: 0.36367759108543396 Current Avg. tumor Dice: 0.4597320556640625 Current Avg. lymph Dice: 0.23248489201068878\n"
     ]
    },
    {
     "name": "stderr",
     "output_type": "stream",
     "text": [
      "Training (12620 / 18000 Steps) (loss=0.67400): 100%|██████████| 21/21 [00:59<00:00,  2.82s/it]\n",
      "Training (12641 / 18000 Steps) (loss=0.28575): 100%|██████████| 21/21 [00:23<00:00,  1.14s/it]\n",
      "Training (12662 / 18000 Steps) (loss=0.47999): 100%|██████████| 21/21 [00:24<00:00,  1.15s/it]\n",
      "Training (12683 / 18000 Steps) (loss=0.66798): 100%|██████████| 21/21 [00:21<00:00,  1.04s/it]\n",
      "Validate (12684 / 10 Steps): 100%|██████████| 8/8 [00:37<00:00,  4.63s/it]29<00:07,  1.41s/it]\n",
      "Training (12700 / 18000 Steps) (loss=0.51170):  81%|████████  | 17/21 [01:06<00:49, 12.29s/it]"
     ]
    },
    {
     "name": "stdout",
     "output_type": "stream",
     "text": [
      "Model Was Not Saved ! Current Best Avg. Dice: 0.4125610888004303 Current Avg. Dice: 0.3902992308139801 Current Avg. tumor Dice: 0.389534056186676 Current Avg. lymph Dice: 0.36930006742477417\n"
     ]
    },
    {
     "name": "stderr",
     "output_type": "stream",
     "text": [
      "Training (12704 / 18000 Steps) (loss=0.41241): 100%|██████████| 21/21 [01:07<00:00,  3.24s/it]\n",
      "Training (12725 / 18000 Steps) (loss=0.67063): 100%|██████████| 21/21 [00:33<00:00,  1.60s/it]\n",
      "Training (12746 / 18000 Steps) (loss=0.61966): 100%|██████████| 21/21 [00:24<00:00,  1.16s/it]\n",
      "Training (12767 / 18000 Steps) (loss=0.13632): 100%|██████████| 21/21 [00:24<00:00,  1.18s/it]\n",
      "Training (12788 / 18000 Steps) (loss=0.66698): 100%|██████████| 21/21 [00:25<00:00,  1.20s/it]\n",
      "Validate (12789 / 10 Steps): 100%|██████████| 8/8 [00:33<00:00,  4.23s/it]14<00:08,  1.21it/s]\n",
      "Training (12800 / 18000 Steps) (loss=0.18588):  57%|█████▋    | 12/21 [00:48<01:40, 11.18s/it]"
     ]
    },
    {
     "name": "stdout",
     "output_type": "stream",
     "text": [
      "Model Was Not Saved ! Current Best Avg. Dice: 0.4125610888004303 Current Avg. Dice: 0.39483585953712463 Current Avg. tumor Dice: 0.4496065378189087 Current Avg. lymph Dice: 0.31153741478919983\n"
     ]
    },
    {
     "name": "stderr",
     "output_type": "stream",
     "text": [
      "Training (12809 / 18000 Steps) (loss=0.45001): 100%|██████████| 21/21 [00:53<00:00,  2.55s/it]\n",
      "Training (12830 / 18000 Steps) (loss=0.53317): 100%|██████████| 21/21 [00:30<00:00,  1.47s/it]\n",
      "Training (12851 / 18000 Steps) (loss=0.42555): 100%|██████████| 21/21 [00:30<00:00,  1.44s/it]\n",
      "Training (12872 / 18000 Steps) (loss=0.41804): 100%|██████████| 21/21 [00:30<00:00,  1.46s/it]\n",
      "Training (12893 / 18000 Steps) (loss=0.22476): 100%|██████████| 21/21 [00:25<00:00,  1.20s/it]\n",
      "Validate (12894 / 10 Steps): 100%|██████████| 8/8 [00:37<00:00,  4.68s/it]1<00:14,  1.02it/s]\n",
      "Training (12900 / 18000 Steps) (loss=0.29927):  33%|███▎      | 7/21 [00:49<03:04, 13.16s/it]"
     ]
    },
    {
     "name": "stdout",
     "output_type": "stream",
     "text": [
      "Model Was Not Saved ! Current Best Avg. Dice: 0.4125610888004303 Current Avg. Dice: 0.37841445207595825 Current Avg. tumor Dice: 0.46315833926200867 Current Avg. lymph Dice: 0.26285091042518616\n"
     ]
    },
    {
     "name": "stderr",
     "output_type": "stream",
     "text": [
      "Training (12914 / 18000 Steps) (loss=0.66516): 100%|██████████| 21/21 [00:57<00:00,  2.73s/it]\n",
      "Training (12935 / 18000 Steps) (loss=0.66876): 100%|██████████| 21/21 [00:25<00:00,  1.22s/it]\n",
      "Training (12956 / 18000 Steps) (loss=0.60435): 100%|██████████| 21/21 [00:21<00:00,  1.02s/it]\n",
      "Training (12977 / 18000 Steps) (loss=0.14040): 100%|██████████| 21/21 [00:27<00:00,  1.29s/it]\n",
      "Training (12998 / 18000 Steps) (loss=0.66914): 100%|██████████| 21/21 [00:23<00:00,  1.12s/it]\n",
      "Validate (12999 / 10 Steps): 100%|██████████| 8/8 [00:35<00:00,  4.41s/it]5<04:51, 14.57s/it]\n",
      "Training (13000 / 18000 Steps) (loss=0.52438):  10%|▉         | 2/21 [00:50<08:34, 27.06s/it]"
     ]
    },
    {
     "name": "stdout",
     "output_type": "stream",
     "text": [
      "Model Was Not Saved ! Current Best Avg. Dice: 0.4125610888004303 Current Avg. Dice: 0.38250160217285156 Current Avg. tumor Dice: 0.44744163751602173 Current Avg. lymph Dice: 0.28898122906684875\n"
     ]
    },
    {
     "name": "stderr",
     "output_type": "stream",
     "text": [
      "Training (13019 / 18000 Steps) (loss=0.60773): 100%|██████████| 21/21 [01:00<00:00,  2.90s/it]\n",
      "Training (13040 / 18000 Steps) (loss=0.66684): 100%|██████████| 21/21 [00:31<00:00,  1.48s/it]\n",
      "Training (13061 / 18000 Steps) (loss=0.35475): 100%|██████████| 21/21 [00:28<00:00,  1.36s/it]\n",
      "Training (13082 / 18000 Steps) (loss=0.44427): 100%|██████████| 21/21 [00:23<00:00,  1.11s/it]\n",
      "Validate (13083 / 10 Steps): 100%|██████████| 8/8 [00:36<00:00,  4.50s/it]20<00:04,  1.04s/it]\n",
      "Training (13100 / 18000 Steps) (loss=0.44623):  86%|████████▌ | 18/21 [00:57<00:35, 11.76s/it]"
     ]
    },
    {
     "name": "stdout",
     "output_type": "stream",
     "text": [
      "Model Was Not Saved ! Current Best Avg. Dice: 0.4125610888004303 Current Avg. Dice: 0.34843626618385315 Current Avg. tumor Dice: 0.33997848629951477 Current Avg. lymph Dice: 0.3343990445137024\n"
     ]
    },
    {
     "name": "stderr",
     "output_type": "stream",
     "text": [
      "Training (13103 / 18000 Steps) (loss=0.16895): 100%|██████████| 21/21 [00:58<00:00,  2.79s/it]\n",
      "Training (13124 / 18000 Steps) (loss=0.67061): 100%|██████████| 21/21 [00:25<00:00,  1.19s/it]\n",
      "Training (13145 / 18000 Steps) (loss=0.36686): 100%|██████████| 21/21 [00:21<00:00,  1.02s/it]\n",
      "Training (13166 / 18000 Steps) (loss=0.68809): 100%|██████████| 21/21 [00:34<00:00,  1.62s/it]\n",
      "Training (13187 / 18000 Steps) (loss=0.16680): 100%|██████████| 21/21 [00:22<00:00,  1.07s/it]\n",
      "Validate (13188 / 10 Steps): 100%|██████████| 8/8 [00:36<00:00,  4.55s/it]22<00:09,  1.08s/it]\n",
      "Training (13200 / 18000 Steps) (loss=0.58554):  62%|██████▏   | 13/21 [00:58<01:35, 11.97s/it]"
     ]
    },
    {
     "name": "stdout",
     "output_type": "stream",
     "text": [
      "Model Was Not Saved ! Current Best Avg. Dice: 0.4125610888004303 Current Avg. Dice: 0.35374873876571655 Current Avg. tumor Dice: 0.3774605393409729 Current Avg. lymph Dice: 0.3116506040096283\n"
     ]
    },
    {
     "name": "stderr",
     "output_type": "stream",
     "text": [
      "Training (13208 / 18000 Steps) (loss=0.66789): 100%|██████████| 21/21 [01:02<00:00,  2.99s/it]\n",
      "Training (13229 / 18000 Steps) (loss=0.38411): 100%|██████████| 21/21 [00:23<00:00,  1.13s/it]\n",
      "Training (13250 / 18000 Steps) (loss=0.20077): 100%|██████████| 21/21 [00:24<00:00,  1.18s/it]\n",
      "Training (13271 / 18000 Steps) (loss=0.39365): 100%|██████████| 21/21 [00:23<00:00,  1.12s/it]\n",
      "Training (13292 / 18000 Steps) (loss=0.40679): 100%|██████████| 21/21 [00:22<00:00,  1.06s/it]\n",
      "Validate (13293 / 10 Steps): 100%|██████████| 8/8 [00:37<00:00,  4.75s/it]2<00:12,  1.09it/s]\n",
      "Training (13300 / 18000 Steps) (loss=0.45664):  38%|███▊      | 8/21 [00:50<02:47, 12.90s/it]"
     ]
    },
    {
     "name": "stdout",
     "output_type": "stream",
     "text": [
      "Model Was Not Saved ! Current Best Avg. Dice: 0.4125610888004303 Current Avg. Dice: 0.3248089551925659 Current Avg. tumor Dice: 0.44424769282341003 Current Avg. lymph Dice: 0.1657935082912445\n"
     ]
    },
    {
     "name": "stderr",
     "output_type": "stream",
     "text": [
      "Training (13313 / 18000 Steps) (loss=0.66712): 100%|██████████| 21/21 [00:57<00:00,  2.75s/it]\n",
      "Training (13334 / 18000 Steps) (loss=0.36450): 100%|██████████| 21/21 [00:26<00:00,  1.26s/it]\n",
      "Training (13355 / 18000 Steps) (loss=0.16194): 100%|██████████| 21/21 [00:21<00:00,  1.01s/it]\n",
      "Training (13376 / 18000 Steps) (loss=0.66761): 100%|██████████| 21/21 [00:24<00:00,  1.15s/it]\n",
      "Training (13397 / 18000 Steps) (loss=0.17705): 100%|██████████| 21/21 [00:26<00:00,  1.25s/it]\n",
      "Validate (13398 / 10 Steps): 100%|██████████| 8/8 [00:41<00:00,  5.22s/it]8<01:02,  3.31s/it]\n",
      "Training (13400 / 18000 Steps) (loss=0.39044):  14%|█▍        | 3/21 [00:50<06:23, 21.28s/it]"
     ]
    },
    {
     "name": "stdout",
     "output_type": "stream",
     "text": [
      "Model Was Not Saved ! Current Best Avg. Dice: 0.4125610888004303 Current Avg. Dice: 0.37485823035240173 Current Avg. tumor Dice: 0.44759711623191833 Current Avg. lymph Dice: 0.2727157473564148\n"
     ]
    },
    {
     "name": "stderr",
     "output_type": "stream",
     "text": [
      "Training (13418 / 18000 Steps) (loss=0.11641): 100%|██████████| 21/21 [01:00<00:00,  2.86s/it]\n",
      "Training (13439 / 18000 Steps) (loss=0.41994): 100%|██████████| 21/21 [00:35<00:00,  1.69s/it]\n",
      "Training (13460 / 18000 Steps) (loss=0.21570): 100%|██████████| 21/21 [00:29<00:00,  1.39s/it]\n",
      "Training (13481 / 18000 Steps) (loss=0.39887): 100%|██████████| 21/21 [00:24<00:00,  1.14s/it]\n",
      "Validate (13482 / 10 Steps): 100%|██████████| 8/8 [00:34<00:00,  4.30s/it]22<00:02,  1.08it/s]\n",
      "Training (13500 / 18000 Steps) (loss=0.40741):  90%|█████████ | 19/21 [00:57<00:22, 11.14s/it]"
     ]
    },
    {
     "name": "stdout",
     "output_type": "stream",
     "text": [
      "Model Was Not Saved ! Current Best Avg. Dice: 0.4125610888004303 Current Avg. Dice: 0.40559250116348267 Current Avg. tumor Dice: 0.4482383728027344 Current Avg. lymph Dice: 0.3390491008758545\n"
     ]
    },
    {
     "name": "stderr",
     "output_type": "stream",
     "text": [
      "Training (13502 / 18000 Steps) (loss=0.35871): 100%|██████████| 21/21 [00:58<00:00,  2.77s/it]\n",
      "Training (13523 / 18000 Steps) (loss=0.66678): 100%|██████████| 21/21 [00:24<00:00,  1.14s/it]\n",
      "Training (13544 / 18000 Steps) (loss=0.45578): 100%|██████████| 21/21 [00:25<00:00,  1.24s/it]\n",
      "Training (13565 / 18000 Steps) (loss=0.66701): 100%|██████████| 21/21 [00:23<00:00,  1.13s/it]\n",
      "Training (13586 / 18000 Steps) (loss=0.19992): 100%|██████████| 21/21 [00:25<00:00,  1.22s/it]\n",
      "Validate (13587 / 10 Steps): 100%|██████████| 8/8 [00:35<00:00,  4.45s/it]17<00:06,  1.24it/s]\n",
      "Training (13600 / 18000 Steps) (loss=0.39521):  67%|██████▋   | 14/21 [00:52<01:20, 11.48s/it]"
     ]
    },
    {
     "name": "stdout",
     "output_type": "stream",
     "text": [
      "Model Was Not Saved ! Current Best Avg. Dice: 0.4125610888004303 Current Avg. Dice: 0.3795064389705658 Current Avg. tumor Dice: 0.43306753039360046 Current Avg. lymph Dice: 0.3009951412677765\n"
     ]
    },
    {
     "name": "stderr",
     "output_type": "stream",
     "text": [
      "Training (13607 / 18000 Steps) (loss=0.66754): 100%|██████████| 21/21 [00:56<00:00,  2.68s/it]\n",
      "Training (13628 / 18000 Steps) (loss=0.22808): 100%|██████████| 21/21 [00:23<00:00,  1.11s/it]\n",
      "Training (13649 / 18000 Steps) (loss=0.25107): 100%|██████████| 21/21 [00:21<00:00,  1.02s/it]\n",
      "Training (13670 / 18000 Steps) (loss=0.41445): 100%|██████████| 21/21 [00:24<00:00,  1.16s/it]\n",
      "Training (13691 / 18000 Steps) (loss=0.23202): 100%|██████████| 21/21 [00:22<00:00,  1.06s/it]\n",
      "Validate (13692 / 10 Steps): 100%|██████████| 8/8 [00:35<00:00,  4.42s/it]3<00:11,  1.13it/s]\n",
      "Training (13700 / 18000 Steps) (loss=0.63140):  43%|████▎     | 9/21 [00:59<02:37, 13.16s/it]"
     ]
    },
    {
     "name": "stdout",
     "output_type": "stream",
     "text": [
      "Model Was Not Saved ! Current Best Avg. Dice: 0.4125610888004303 Current Avg. Dice: 0.37336984276771545 Current Avg. tumor Dice: 0.44255074858665466 Current Avg. lymph Dice: 0.26858994364738464\n"
     ]
    },
    {
     "name": "stderr",
     "output_type": "stream",
     "text": [
      "Training (13712 / 18000 Steps) (loss=0.14384): 100%|██████████| 21/21 [01:04<00:00,  3.09s/it]\n",
      "Training (13733 / 18000 Steps) (loss=0.66673): 100%|██████████| 21/21 [00:23<00:00,  1.12s/it]\n",
      "Training (13754 / 18000 Steps) (loss=0.66679): 100%|██████████| 21/21 [00:26<00:00,  1.28s/it]\n",
      "Training (13775 / 18000 Steps) (loss=0.67028): 100%|██████████| 21/21 [00:24<00:00,  1.16s/it]\n",
      "Training (13796 / 18000 Steps) (loss=0.37144): 100%|██████████| 21/21 [00:21<00:00,  1.01s/it]\n",
      "Validate (13797 / 10 Steps): 100%|██████████| 8/8 [00:39<00:00,  4.93s/it]1<00:44,  2.46s/it]\n",
      "Training (13800 / 18000 Steps) (loss=0.43134):  19%|█▉        | 4/21 [00:50<04:57, 17.50s/it]"
     ]
    },
    {
     "name": "stdout",
     "output_type": "stream",
     "text": [
      "Model Was Not Saved ! Current Best Avg. Dice: 0.4125610888004303 Current Avg. Dice: 0.4077140688896179 Current Avg. tumor Dice: 0.44646772742271423 Current Avg. lymph Dice: 0.3407377302646637\n"
     ]
    },
    {
     "name": "stderr",
     "output_type": "stream",
     "text": [
      "Training (13817 / 18000 Steps) (loss=0.66678): 100%|██████████| 21/21 [00:59<00:00,  2.84s/it]\n",
      "Training (13838 / 18000 Steps) (loss=0.66679): 100%|██████████| 21/21 [00:23<00:00,  1.12s/it]\n",
      "Training (13859 / 18000 Steps) (loss=0.12757): 100%|██████████| 21/21 [00:26<00:00,  1.24s/it]\n",
      "Training (13880 / 18000 Steps) (loss=0.66688): 100%|██████████| 21/21 [00:25<00:00,  1.21s/it]\n",
      "Validate (13881 / 10 Steps): 100%|██████████| 8/8 [00:35<00:00,  4.43s/it]24<00:03,  1.57s/it]\n",
      "Training (13900 / 18000 Steps) (loss=0.42580):  95%|█████████▌| 20/21 [01:00<00:11, 11.92s/it]"
     ]
    },
    {
     "name": "stdout",
     "output_type": "stream",
     "text": [
      "Model Was Not Saved ! Current Best Avg. Dice: 0.4125610888004303 Current Avg. Dice: 0.35399243235588074 Current Avg. tumor Dice: 0.40081775188446045 Current Avg. lymph Dice: 0.27747642993927\n"
     ]
    },
    {
     "name": "stderr",
     "output_type": "stream",
     "text": [
      "Training (13901 / 18000 Steps) (loss=0.66906): 100%|██████████| 21/21 [01:00<00:00,  2.88s/it]\n",
      "Training (13922 / 18000 Steps) (loss=0.21383): 100%|██████████| 21/21 [00:23<00:00,  1.13s/it]\n",
      "Training (13943 / 18000 Steps) (loss=0.46909): 100%|██████████| 21/21 [00:23<00:00,  1.10s/it]\n",
      "Training (13964 / 18000 Steps) (loss=0.66752): 100%|██████████| 21/21 [00:23<00:00,  1.14s/it]\n",
      "Training (13985 / 18000 Steps) (loss=0.36896): 100%|██████████| 21/21 [00:23<00:00,  1.12s/it]\n",
      "Validate (13986 / 10 Steps): 100%|██████████| 8/8 [00:36<00:00,  4.56s/it]21<00:05,  1.36it/s]\n",
      "Training (14000 / 18000 Steps) (loss=0.66742):  71%|███████▏  | 15/21 [00:57<01:10, 11.69s/it]"
     ]
    },
    {
     "name": "stdout",
     "output_type": "stream",
     "text": [
      "Model Was Not Saved ! Current Best Avg. Dice: 0.4125610888004303 Current Avg. Dice: 0.3656429946422577 Current Avg. tumor Dice: 0.3397379219532013 Current Avg. lymph Dice: 0.3720206618309021\n"
     ]
    },
    {
     "name": "stderr",
     "output_type": "stream",
     "text": [
      "Training (14006 / 18000 Steps) (loss=0.67538): 100%|██████████| 21/21 [01:01<00:00,  2.91s/it]\n",
      "Training (14027 / 18000 Steps) (loss=0.15191): 100%|██████████| 21/21 [00:20<00:00,  1.01it/s]\n",
      "Training (14048 / 18000 Steps) (loss=0.66707): 100%|██████████| 21/21 [00:25<00:00,  1.23s/it]\n",
      "Training (14069 / 18000 Steps) (loss=0.37689): 100%|██████████| 21/21 [00:24<00:00,  1.19s/it]\n",
      "Training (14090 / 18000 Steps) (loss=0.66679): 100%|██████████| 21/21 [00:24<00:00,  1.17s/it]\n",
      "Validate (14091 / 10 Steps): 100%|██████████| 8/8 [00:36<00:00,  4.56s/it]7<00:19,  1.59s/it]\n",
      "Training (14100 / 18000 Steps) (loss=0.27703):  48%|████▊     | 10/21 [00:53<02:18, 12.57s/it]"
     ]
    },
    {
     "name": "stdout",
     "output_type": "stream",
     "text": [
      "Model Was Not Saved ! Current Best Avg. Dice: 0.4125610888004303 Current Avg. Dice: 0.36728635430336 Current Avg. tumor Dice: 0.4074748456478119 Current Avg. lymph Dice: 0.30483105778694153\n"
     ]
    },
    {
     "name": "stderr",
     "output_type": "stream",
     "text": [
      "Training (14111 / 18000 Steps) (loss=0.19510): 100%|██████████| 21/21 [00:59<00:00,  2.82s/it]\n",
      "Training (14132 / 18000 Steps) (loss=0.62326): 100%|██████████| 21/21 [00:21<00:00,  1.02s/it]\n",
      "Training (14153 / 18000 Steps) (loss=0.66716): 100%|██████████| 21/21 [00:24<00:00,  1.15s/it]\n",
      "Training (14174 / 18000 Steps) (loss=0.14452): 100%|██████████| 21/21 [00:22<00:00,  1.06s/it]\n",
      "Training (14195 / 18000 Steps) (loss=0.19809): 100%|██████████| 21/21 [00:26<00:00,  1.26s/it]\n",
      "Validate (14196 / 10 Steps): 100%|██████████| 8/8 [00:37<00:00,  4.72s/it]2<00:32,  1.93s/it]\n",
      "Training (14200 / 18000 Steps) (loss=0.14382):  24%|██▍       | 5/21 [00:50<04:01, 15.07s/it]"
     ]
    },
    {
     "name": "stdout",
     "output_type": "stream",
     "text": [
      "Model Was Not Saved ! Current Best Avg. Dice: 0.4125610888004303 Current Avg. Dice: 0.3560624420642853 Current Avg. tumor Dice: 0.4644239544868469 Current Avg. lymph Dice: 0.21117696166038513\n"
     ]
    },
    {
     "name": "stderr",
     "output_type": "stream",
     "text": [
      "Training (14216 / 18000 Steps) (loss=0.23006): 100%|██████████| 21/21 [00:58<00:00,  2.79s/it]\n",
      "Training (14237 / 18000 Steps) (loss=0.15000): 100%|██████████| 21/21 [00:23<00:00,  1.11s/it]\n",
      "Training (14258 / 18000 Steps) (loss=0.20200): 100%|██████████| 21/21 [00:26<00:00,  1.28s/it]\n",
      "Training (14279 / 18000 Steps) (loss=0.38030): 100%|██████████| 21/21 [00:21<00:00,  1.00s/it]\n",
      "Validate (14280 / 10 Steps): 100%|██████████| 8/8 [00:35<00:00,  4.38s/it]22<00:00,  1.63it/s]\n",
      "Training (14300 / 18000 Steps) (loss=0.66952): 100%|██████████| 21/21 [00:57<00:00,  2.74s/it]"
     ]
    },
    {
     "name": "stdout",
     "output_type": "stream",
     "text": [
      "Model Was Not Saved ! Current Best Avg. Dice: 0.4125610888004303 Current Avg. Dice: 0.3784598708152771 Current Avg. tumor Dice: 0.3788113296031952 Current Avg. lymph Dice: 0.3606116771697998\n"
     ]
    },
    {
     "name": "stderr",
     "output_type": "stream",
     "text": [
      "\n",
      "Training (14321 / 18000 Steps) (loss=0.67013): 100%|██████████| 21/21 [00:23<00:00,  1.11s/it]\n",
      "Training (14342 / 18000 Steps) (loss=0.15583): 100%|██████████| 21/21 [00:24<00:00,  1.17s/it]\n",
      "Training (14363 / 18000 Steps) (loss=0.38530): 100%|██████████| 21/21 [00:23<00:00,  1.12s/it]\n",
      "Training (14384 / 18000 Steps) (loss=0.18508): 100%|██████████| 21/21 [00:22<00:00,  1.07s/it]\n",
      "Validate (14385 / 10 Steps): 100%|██████████| 8/8 [00:37<00:00,  4.71s/it]21<00:04,  1.33it/s]\n",
      "Training (14400 / 18000 Steps) (loss=0.21359):  76%|███████▌  | 16/21 [00:59<01:00, 12.07s/it]"
     ]
    },
    {
     "name": "stdout",
     "output_type": "stream",
     "text": [
      "Model Was Not Saved ! Current Best Avg. Dice: 0.4125610888004303 Current Avg. Dice: 0.3702002465724945 Current Avg. tumor Dice: 0.4582999646663666 Current Avg. lymph Dice: 0.2507283091545105\n"
     ]
    },
    {
     "name": "stderr",
     "output_type": "stream",
     "text": [
      "Training (14405 / 18000 Steps) (loss=0.67197): 100%|██████████| 21/21 [01:02<00:00,  2.95s/it]\n",
      "Training (14426 / 18000 Steps) (loss=0.66959): 100%|██████████| 21/21 [00:20<00:00,  1.02it/s]\n",
      "Training (14447 / 18000 Steps) (loss=0.66929): 100%|██████████| 21/21 [00:21<00:00,  1.02s/it]\n",
      "Training (14468 / 18000 Steps) (loss=0.66937): 100%|██████████| 21/21 [00:26<00:00,  1.25s/it]\n",
      "Training (14489 / 18000 Steps) (loss=0.66690): 100%|██████████| 21/21 [00:24<00:00,  1.19s/it]\n",
      "Validate (14490 / 10 Steps): 100%|██████████| 8/8 [00:36<00:00,  4.60s/it]16<00:10,  1.05it/s]\n",
      "Training (14500 / 18000 Steps) (loss=0.22125):  52%|█████▏    | 11/21 [00:53<02:01, 12.14s/it]"
     ]
    },
    {
     "name": "stdout",
     "output_type": "stream",
     "text": [
      "Model Was Not Saved ! Current Best Avg. Dice: 0.4125610888004303 Current Avg. Dice: 0.3776529133319855 Current Avg. tumor Dice: 0.43997922539711 Current Avg. lymph Dice: 0.2863554060459137\n"
     ]
    },
    {
     "name": "stderr",
     "output_type": "stream",
     "text": [
      "Training (14510 / 18000 Steps) (loss=0.42150): 100%|██████████| 21/21 [00:58<00:00,  2.79s/it]\n",
      "Training (14531 / 18000 Steps) (loss=0.18660): 100%|██████████| 21/21 [00:27<00:00,  1.31s/it]\n",
      "Training (14552 / 18000 Steps) (loss=0.66757): 100%|██████████| 21/21 [00:19<00:00,  1.06it/s]\n",
      "Training (14573 / 18000 Steps) (loss=0.64061): 100%|██████████| 21/21 [00:19<00:00,  1.06it/s]\n",
      "Training (14594 / 18000 Steps) (loss=0.40267): 100%|██████████| 21/21 [00:26<00:00,  1.24s/it]\n",
      "Validate (14595 / 10 Steps): 100%|██████████| 8/8 [00:36<00:00,  4.62s/it]0<00:20,  1.26s/it]\n",
      "Training (14600 / 18000 Steps) (loss=0.52301):  29%|██▊       | 6/21 [00:48<03:24, 13.60s/it]"
     ]
    },
    {
     "name": "stdout",
     "output_type": "stream",
     "text": [
      "Model Was Not Saved ! Current Best Avg. Dice: 0.4125610888004303 Current Avg. Dice: 0.38348567485809326 Current Avg. tumor Dice: 0.4261670410633087 Current Avg. lymph Dice: 0.3144606053829193\n"
     ]
    },
    {
     "name": "stderr",
     "output_type": "stream",
     "text": [
      "Training (14615 / 18000 Steps) (loss=0.67765): 100%|██████████| 21/21 [00:56<00:00,  2.68s/it]\n",
      "Training (14636 / 18000 Steps) (loss=0.41124): 100%|██████████| 21/21 [00:23<00:00,  1.13s/it]\n",
      "Training (14657 / 18000 Steps) (loss=0.20873): 100%|██████████| 21/21 [00:26<00:00,  1.24s/it]\n",
      "Training (14678 / 18000 Steps) (loss=0.66871): 100%|██████████| 21/21 [00:23<00:00,  1.13s/it]\n",
      "Training (14699 / 18000 Steps) (loss=0.30384): 100%|██████████| 21/21 [00:21<00:00,  1.03s/it]\n",
      "Validate (14700 / 10 Steps): 100%|██████████| 8/8 [00:36<00:00,  4.57s/it]9<?, ?it/s]\n",
      "Training (14700 / 18000 Steps) (loss=0.41430):   5%|▍         | 1/21 [00:45<15:18, 45.92s/it]"
     ]
    },
    {
     "name": "stdout",
     "output_type": "stream",
     "text": [
      "Model Was Not Saved ! Current Best Avg. Dice: 0.4125610888004303 Current Avg. Dice: 0.39468497037887573 Current Avg. tumor Dice: 0.42721545696258545 Current Avg. lymph Dice: 0.34282928705215454\n"
     ]
    },
    {
     "name": "stderr",
     "output_type": "stream",
     "text": [
      "Training (14720 / 18000 Steps) (loss=0.53805): 100%|██████████| 21/21 [00:57<00:00,  2.72s/it]\n",
      "Training (14741 / 18000 Steps) (loss=0.66685): 100%|██████████| 21/21 [00:23<00:00,  1.13s/it]\n",
      "Training (14762 / 18000 Steps) (loss=0.41713): 100%|██████████| 21/21 [00:22<00:00,  1.06s/it]\n",
      "Training (14783 / 18000 Steps) (loss=0.31076): 100%|██████████| 21/21 [00:25<00:00,  1.22s/it]\n",
      "Validate (14784 / 10 Steps): 100%|██████████| 8/8 [00:35<00:00,  4.46s/it]24<00:03,  1.57it/s]\n",
      "Training (14800 / 18000 Steps) (loss=0.57671):  81%|████████  | 17/21 [01:00<00:48, 12.19s/it]"
     ]
    },
    {
     "name": "stdout",
     "output_type": "stream",
     "text": [
      "Model Was Not Saved ! Current Best Avg. Dice: 0.4125610888004303 Current Avg. Dice: 0.3841686248779297 Current Avg. tumor Dice: 0.35992762446403503 Current Avg. lymph Dice: 0.39406388998031616\n"
     ]
    },
    {
     "name": "stderr",
     "output_type": "stream",
     "text": [
      "Training (14804 / 18000 Steps) (loss=0.66933): 100%|██████████| 21/21 [01:02<00:00,  2.97s/it]\n",
      "Training (14825 / 18000 Steps) (loss=0.13742): 100%|██████████| 21/21 [00:19<00:00,  1.06it/s]\n",
      "Training (14846 / 18000 Steps) (loss=0.34663): 100%|██████████| 21/21 [00:19<00:00,  1.06it/s]\n",
      "Training (14867 / 18000 Steps) (loss=0.66673): 100%|██████████| 21/21 [00:25<00:00,  1.22s/it]\n",
      "Training (14888 / 18000 Steps) (loss=0.39293): 100%|██████████| 21/21 [00:22<00:00,  1.06s/it]\n",
      "Validate (14889 / 10 Steps): 100%|██████████| 8/8 [00:34<00:00,  4.31s/it]20<00:12,  1.20s/it]\n",
      "Training (14900 / 18000 Steps) (loss=0.27801):  57%|█████▋    | 12/21 [00:54<01:43, 11.54s/it]"
     ]
    },
    {
     "name": "stdout",
     "output_type": "stream",
     "text": [
      "Model Was Not Saved ! Current Best Avg. Dice: 0.4125610888004303 Current Avg. Dice: 0.3768228590488434 Current Avg. tumor Dice: 0.42960065603256226 Current Avg. lymph Dice: 0.29814258217811584\n"
     ]
    },
    {
     "name": "stderr",
     "output_type": "stream",
     "text": [
      "Training (14909 / 18000 Steps) (loss=0.66677): 100%|██████████| 21/21 [00:59<00:00,  2.83s/it]\n",
      "Training (14930 / 18000 Steps) (loss=0.55555): 100%|██████████| 21/21 [00:24<00:00,  1.17s/it]\n",
      "Training (14951 / 18000 Steps) (loss=0.61850): 100%|██████████| 21/21 [00:24<00:00,  1.17s/it]\n",
      "Training (14972 / 18000 Steps) (loss=0.66766): 100%|██████████| 21/21 [00:23<00:00,  1.11s/it]\n",
      "Training (14993 / 18000 Steps) (loss=0.66759): 100%|██████████| 21/21 [00:21<00:00,  1.02s/it]\n",
      "Validate (14994 / 10 Steps): 100%|██████████| 8/8 [00:36<00:00,  4.52s/it]0<00:15,  1.04s/it]\n",
      "Training (15000 / 18000 Steps) (loss=0.48193):  33%|███▎      | 7/21 [00:47<02:57, 12.70s/it]"
     ]
    },
    {
     "name": "stdout",
     "output_type": "stream",
     "text": [
      "Model Was Not Saved ! Current Best Avg. Dice: 0.4125610888004303 Current Avg. Dice: 0.3983425498008728 Current Avg. tumor Dice: 0.4492702782154083 Current Avg. lymph Dice: 0.32084041833877563\n"
     ]
    },
    {
     "name": "stderr",
     "output_type": "stream",
     "text": [
      "Training (15014 / 18000 Steps) (loss=0.66713): 100%|██████████| 21/21 [00:55<00:00,  2.66s/it]\n",
      "Training (15035 / 18000 Steps) (loss=0.66762): 100%|██████████| 21/21 [00:25<00:00,  1.21s/it]\n",
      "Training (15056 / 18000 Steps) (loss=0.15130): 100%|██████████| 21/21 [00:24<00:00,  1.18s/it]\n",
      "Training (15077 / 18000 Steps) (loss=0.66688): 100%|██████████| 21/21 [00:22<00:00,  1.07s/it]\n",
      "Training (15098 / 18000 Steps) (loss=0.66923): 100%|██████████| 21/21 [00:26<00:00,  1.26s/it]\n",
      "Validate (15099 / 10 Steps): 100%|██████████| 8/8 [00:36<00:00,  4.58s/it]9<03:07,  9.36s/it]\n",
      "Training (15100 / 18000 Steps) (loss=0.68612):  10%|▉         | 2/21 [00:46<08:10, 25.81s/it]"
     ]
    },
    {
     "name": "stdout",
     "output_type": "stream",
     "text": [
      "Model Was Not Saved ! Current Best Avg. Dice: 0.4125610888004303 Current Avg. Dice: 0.3905200958251953 Current Avg. tumor Dice: 0.44784924387931824 Current Avg. lymph Dice: 0.30375489592552185\n"
     ]
    },
    {
     "name": "stderr",
     "output_type": "stream",
     "text": [
      "Training (15119 / 18000 Steps) (loss=0.29462): 100%|██████████| 21/21 [00:57<00:00,  2.75s/it]\n",
      "Training (15140 / 18000 Steps) (loss=0.21151): 100%|██████████| 21/21 [00:24<00:00,  1.16s/it]\n",
      "Training (15161 / 18000 Steps) (loss=0.49560): 100%|██████████| 21/21 [00:25<00:00,  1.22s/it]\n",
      "Training (15182 / 18000 Steps) (loss=0.31114): 100%|██████████| 21/21 [00:27<00:00,  1.31s/it]\n",
      "Validate (15183 / 10 Steps): 100%|██████████| 8/8 [00:34<00:00,  4.34s/it]31<00:10,  2.56s/it]\n",
      "Training (15200 / 18000 Steps) (loss=0.67262):  86%|████████▌ | 18/21 [01:06<00:37, 12.41s/it]"
     ]
    },
    {
     "name": "stdout",
     "output_type": "stream",
     "text": [
      "Model Was Not Saved ! Current Best Avg. Dice: 0.4125610888004303 Current Avg. Dice: 0.35487955808639526 Current Avg. tumor Dice: 0.4674583077430725 Current Avg. lymph Dice: 0.20476987957954407\n"
     ]
    },
    {
     "name": "stderr",
     "output_type": "stream",
     "text": [
      "Training (15203 / 18000 Steps) (loss=0.45960): 100%|██████████| 21/21 [01:08<00:00,  3.24s/it]\n",
      "Training (15224 / 18000 Steps) (loss=0.66778): 100%|██████████| 21/21 [00:20<00:00,  1.02it/s]\n",
      "Training (15245 / 18000 Steps) (loss=0.47055): 100%|██████████| 21/21 [00:23<00:00,  1.13s/it]\n",
      "Training (15266 / 18000 Steps) (loss=0.67087): 100%|██████████| 21/21 [00:25<00:00,  1.23s/it]\n",
      "Training (15287 / 18000 Steps) (loss=0.66680): 100%|██████████| 21/21 [00:24<00:00,  1.18s/it]\n",
      "Validate (15288 / 10 Steps): 100%|██████████| 8/8 [00:35<00:00,  4.47s/it]20<00:09,  1.10s/it]\n",
      "Training (15300 / 18000 Steps) (loss=0.43502):  62%|██████▏   | 13/21 [00:56<01:34, 11.78s/it]"
     ]
    },
    {
     "name": "stdout",
     "output_type": "stream",
     "text": [
      "Model Was Not Saved ! Current Best Avg. Dice: 0.4125610888004303 Current Avg. Dice: 0.37456029653549194 Current Avg. tumor Dice: 0.47116267681121826 Current Avg. lymph Dice: 0.2435922622680664\n"
     ]
    },
    {
     "name": "stderr",
     "output_type": "stream",
     "text": [
      "Training (15308 / 18000 Steps) (loss=0.16921): 100%|██████████| 21/21 [01:00<00:00,  2.88s/it]\n",
      "Training (15329 / 18000 Steps) (loss=0.37635): 100%|██████████| 21/21 [00:25<00:00,  1.19s/it]\n",
      "Training (15350 / 18000 Steps) (loss=0.19931): 100%|██████████| 21/21 [00:25<00:00,  1.21s/it]\n",
      "Training (15371 / 18000 Steps) (loss=0.66731): 100%|██████████| 21/21 [00:18<00:00,  1.12it/s]\n",
      "Training (15392 / 18000 Steps) (loss=0.23583): 100%|██████████| 21/21 [00:21<00:00,  1.01s/it]\n",
      "Validate (15393 / 10 Steps): 100%|██████████| 8/8 [00:38<00:00,  4.83s/it]4<00:13,  1.07it/s]\n",
      "Training (15400 / 18000 Steps) (loss=0.31908):  38%|███▊      | 8/21 [00:53<02:50, 13.13s/it]"
     ]
    },
    {
     "name": "stdout",
     "output_type": "stream",
     "text": [
      "Model Was Not Saved ! Current Best Avg. Dice: 0.4125610888004303 Current Avg. Dice: 0.3849380612373352 Current Avg. tumor Dice: 0.4390548765659332 Current Avg. lymph Dice: 0.304138720035553\n"
     ]
    },
    {
     "name": "stderr",
     "output_type": "stream",
     "text": [
      "Training (15413 / 18000 Steps) (loss=0.73009): 100%|██████████| 21/21 [01:00<00:00,  2.89s/it]\n",
      "Training (15434 / 18000 Steps) (loss=0.36585): 100%|██████████| 21/21 [00:24<00:00,  1.18s/it]\n",
      "Training (15455 / 18000 Steps) (loss=0.67379): 100%|██████████| 21/21 [00:25<00:00,  1.20s/it]\n",
      "Training (15476 / 18000 Steps) (loss=0.56029): 100%|██████████| 21/21 [00:24<00:00,  1.16s/it]\n",
      "Training (15497 / 18000 Steps) (loss=0.19270): 100%|██████████| 21/21 [00:28<00:00,  1.38s/it]\n",
      "Validate (15498 / 10 Steps): 100%|██████████| 8/8 [00:34<00:00,  4.36s/it]7<01:00,  3.17s/it]\n",
      "Training (15500 / 18000 Steps) (loss=0.27547):  14%|█▍        | 3/21 [00:42<05:22, 17.91s/it]"
     ]
    },
    {
     "name": "stdout",
     "output_type": "stream",
     "text": [
      "Model Was Not Saved ! Current Best Avg. Dice: 0.4125610888004303 Current Avg. Dice: 0.35653215646743774 Current Avg. tumor Dice: 0.45379287004470825 Current Avg. lymph Dice: 0.2217305451631546\n"
     ]
    },
    {
     "name": "stderr",
     "output_type": "stream",
     "text": [
      "Training (15518 / 18000 Steps) (loss=0.77894): 100%|██████████| 21/21 [00:52<00:00,  2.52s/it]\n",
      "Training (15539 / 18000 Steps) (loss=0.42251): 100%|██████████| 21/21 [00:27<00:00,  1.29s/it]\n",
      "Training (15560 / 18000 Steps) (loss=0.26465): 100%|██████████| 21/21 [00:25<00:00,  1.20s/it]\n",
      "Training (15581 / 18000 Steps) (loss=0.69018): 100%|██████████| 21/21 [00:27<00:00,  1.32s/it]\n",
      "Validate (15582 / 10 Steps): 100%|██████████| 8/8 [00:37<00:00,  4.65s/it]21<00:03,  1.07s/it]\n",
      "Training (15600 / 18000 Steps) (loss=0.66683):  90%|█████████ | 19/21 [00:58<00:24, 12.14s/it]"
     ]
    },
    {
     "name": "stdout",
     "output_type": "stream",
     "text": [
      "Model Was Not Saved ! Current Best Avg. Dice: 0.4125610888004303 Current Avg. Dice: 0.37140482664108276 Current Avg. tumor Dice: 0.4340592324733734 Current Avg. lymph Dice: 0.27977725863456726\n"
     ]
    },
    {
     "name": "stderr",
     "output_type": "stream",
     "text": [
      "Training (15602 / 18000 Steps) (loss=0.66762): 100%|██████████| 21/21 [01:00<00:00,  2.87s/it]\n",
      "Training (15623 / 18000 Steps) (loss=0.66680): 100%|██████████| 21/21 [00:25<00:00,  1.19s/it]\n",
      "Training (15644 / 18000 Steps) (loss=0.66758): 100%|██████████| 21/21 [00:18<00:00,  1.13it/s]\n",
      "Training (15665 / 18000 Steps) (loss=0.52785): 100%|██████████| 21/21 [00:24<00:00,  1.18s/it]\n",
      "Training (15686 / 18000 Steps) (loss=0.43758): 100%|██████████| 21/21 [00:23<00:00,  1.14s/it]\n",
      "Validate (15687 / 10 Steps): 100%|██████████| 8/8 [00:35<00:00,  4.39s/it]21<00:06,  1.21it/s]\n",
      "Training (15700 / 18000 Steps) (loss=0.66717):  67%|██████▋   | 14/21 [00:57<01:19, 11.36s/it]"
     ]
    },
    {
     "name": "stdout",
     "output_type": "stream",
     "text": [
      "Model Was Not Saved ! Current Best Avg. Dice: 0.4125610888004303 Current Avg. Dice: 0.3604590594768524 Current Avg. tumor Dice: 0.41397807002067566 Current Avg. lymph Dice: 0.2787882685661316\n"
     ]
    },
    {
     "name": "stderr",
     "output_type": "stream",
     "text": [
      "Training (15707 / 18000 Steps) (loss=0.15736): 100%|██████████| 21/21 [01:00<00:00,  2.89s/it]\n",
      "Training (15728 / 18000 Steps) (loss=0.25236): 100%|██████████| 21/21 [00:28<00:00,  1.35s/it]\n",
      "Training (15749 / 18000 Steps) (loss=0.34082): 100%|██████████| 21/21 [00:22<00:00,  1.05s/it]\n",
      "Training (15770 / 18000 Steps) (loss=0.66702): 100%|██████████| 21/21 [00:18<00:00,  1.13it/s]\n",
      "Training (15791 / 18000 Steps) (loss=0.66738): 100%|██████████| 21/21 [00:21<00:00,  1.03s/it]\n",
      "Validate (15792 / 10 Steps): 100%|██████████| 8/8 [00:36<00:00,  4.56s/it]5<00:11,  1.15it/s]\n",
      "Training (15800 / 18000 Steps) (loss=0.42255):  43%|████▎     | 9/21 [00:52<02:29, 12.49s/it]"
     ]
    },
    {
     "name": "stdout",
     "output_type": "stream",
     "text": [
      "Model Was Not Saved ! Current Best Avg. Dice: 0.4125610888004303 Current Avg. Dice: 0.4022688865661621 Current Avg. tumor Dice: 0.4167672097682953 Current Avg. lymph Dice: 0.3637238144874573\n"
     ]
    },
    {
     "name": "stderr",
     "output_type": "stream",
     "text": [
      "Training (15812 / 18000 Steps) (loss=0.67194): 100%|██████████| 21/21 [00:58<00:00,  2.80s/it]\n",
      "Training (15833 / 18000 Steps) (loss=0.53559): 100%|██████████| 21/21 [00:26<00:00,  1.25s/it]\n",
      "Training (15854 / 18000 Steps) (loss=0.67761): 100%|██████████| 21/21 [00:24<00:00,  1.17s/it]\n",
      "Training (15875 / 18000 Steps) (loss=0.16867): 100%|██████████| 21/21 [00:24<00:00,  1.16s/it]\n",
      "Training (15896 / 18000 Steps) (loss=0.67209): 100%|██████████| 21/21 [00:27<00:00,  1.30s/it]\n",
      "Validate (15897 / 10 Steps): 100%|██████████| 8/8 [00:36<00:00,  4.61s/it]0<00:44,  2.48s/it]\n",
      "Training (15900 / 18000 Steps) (loss=0.47003):  19%|█▉        | 4/21 [00:47<04:37, 16.33s/it]"
     ]
    },
    {
     "name": "stdout",
     "output_type": "stream",
     "text": [
      "Model Was Not Saved ! Current Best Avg. Dice: 0.4125610888004303 Current Avg. Dice: 0.3992820978164673 Current Avg. tumor Dice: 0.4161584675312042 Current Avg. lymph Dice: 0.3530516028404236\n"
     ]
    },
    {
     "name": "stderr",
     "output_type": "stream",
     "text": [
      "Training (15917 / 18000 Steps) (loss=0.47502): 100%|██████████| 21/21 [00:57<00:00,  2.72s/it]\n",
      "Training (15938 / 18000 Steps) (loss=0.66710): 100%|██████████| 21/21 [00:27<00:00,  1.32s/it]\n",
      "Training (15959 / 18000 Steps) (loss=0.66859): 100%|██████████| 21/21 [00:30<00:00,  1.47s/it]\n",
      "Training (15980 / 18000 Steps) (loss=0.09725): 100%|██████████| 21/21 [00:25<00:00,  1.23s/it]\n",
      "Validate (15981 / 10 Steps): 100%|██████████| 8/8 [00:37<00:00,  4.65s/it]23<00:01,  1.09it/s]\n",
      "Training (16000 / 18000 Steps) (loss=0.42207):  95%|█████████▌| 20/21 [01:01<00:11, 11.99s/it]"
     ]
    },
    {
     "name": "stdout",
     "output_type": "stream",
     "text": [
      "Model Was Not Saved ! Current Best Avg. Dice: 0.4125610888004303 Current Avg. Dice: 0.3990406095981598 Current Avg. tumor Dice: 0.4154292345046997 Current Avg. lymph Dice: 0.35514000058174133\n"
     ]
    },
    {
     "name": "stderr",
     "output_type": "stream",
     "text": [
      "Training (16001 / 18000 Steps) (loss=0.27172): 100%|██████████| 21/21 [01:01<00:00,  2.94s/it]\n",
      "Training (16022 / 18000 Steps) (loss=0.17420): 100%|██████████| 21/21 [00:23<00:00,  1.11s/it]\n",
      "Training (16043 / 18000 Steps) (loss=0.23380): 100%|██████████| 21/21 [00:18<00:00,  1.12it/s]\n",
      "Training (16064 / 18000 Steps) (loss=0.67041): 100%|██████████| 21/21 [00:24<00:00,  1.17s/it]\n",
      "Training (16085 / 18000 Steps) (loss=0.14987): 100%|██████████| 21/21 [00:24<00:00,  1.14s/it]\n",
      "Validate (16086 / 10 Steps): 100%|██████████| 8/8 [00:36<00:00,  4.51s/it]20<00:05,  1.27it/s]\n",
      "Training (16100 / 18000 Steps) (loss=0.35286):  71%|███████▏  | 15/21 [00:56<01:09, 11.59s/it]"
     ]
    },
    {
     "name": "stdout",
     "output_type": "stream",
     "text": [
      "Model Was Not Saved ! Current Best Avg. Dice: 0.4125610888004303 Current Avg. Dice: 0.396202951669693 Current Avg. tumor Dice: 0.3931281864643097 Current Avg. lymph Dice: 0.38644981384277344\n"
     ]
    },
    {
     "name": "stderr",
     "output_type": "stream",
     "text": [
      "Training (16106 / 18000 Steps) (loss=0.46483): 100%|██████████| 21/21 [01:00<00:00,  2.87s/it]\n",
      "Training (16127 / 18000 Steps) (loss=0.41521): 100%|██████████| 21/21 [00:30<00:00,  1.45s/it]\n",
      "Training (16148 / 18000 Steps) (loss=0.18749): 100%|██████████| 21/21 [00:27<00:00,  1.30s/it]\n",
      "Training (16169 / 18000 Steps) (loss=0.17045): 100%|██████████| 21/21 [00:23<00:00,  1.12s/it]\n",
      "Training (16190 / 18000 Steps) (loss=0.14635): 100%|██████████| 21/21 [00:25<00:00,  1.23s/it]\n",
      "Validate (16191 / 10 Steps): 100%|██████████| 8/8 [00:39<00:00,  4.91s/it]2<00:18,  1.52s/it]\n",
      "Training (16200 / 18000 Steps) (loss=0.51245):  48%|████▊     | 10/21 [01:03<02:32, 13.85s/it]"
     ]
    },
    {
     "name": "stdout",
     "output_type": "stream",
     "text": [
      "Model Was Saved ! Current Best Avg. Dice: 0.4199143648147583 Current Avg. Dice: 0.4199143648147583 Current Avg. tumor Dice: 0.4513879418373108 Current Avg. lymph Dice: 0.3640187382698059\n"
     ]
    },
    {
     "name": "stderr",
     "output_type": "stream",
     "text": [
      "Training (16211 / 18000 Steps) (loss=0.14783): 100%|██████████| 21/21 [01:11<00:00,  3.39s/it]\n",
      "Training (16232 / 18000 Steps) (loss=0.67014): 100%|██████████| 21/21 [00:33<00:00,  1.61s/it]\n",
      "Training (16253 / 18000 Steps) (loss=0.49688): 100%|██████████| 21/21 [00:28<00:00,  1.37s/it]\n",
      "Training (16274 / 18000 Steps) (loss=0.13337): 100%|██████████| 21/21 [00:40<00:00,  1.94s/it]\n",
      "Training (16295 / 18000 Steps) (loss=0.66890): 100%|██████████| 21/21 [00:40<00:00,  1.93s/it]\n",
      "Validate (16296 / 10 Steps): 100%|██████████| 8/8 [00:48<00:00,  6.12s/it]8<00:47,  2.80s/it]\n",
      "Training (16300 / 18000 Steps) (loss=0.62130):  24%|██▍       | 5/21 [01:07<05:15, 19.74s/it]"
     ]
    },
    {
     "name": "stdout",
     "output_type": "stream",
     "text": [
      "Model Was Not Saved ! Current Best Avg. Dice: 0.4199143648147583 Current Avg. Dice: 0.3879210650920868 Current Avg. tumor Dice: 0.41309526562690735 Current Avg. lymph Dice: 0.33194035291671753\n"
     ]
    },
    {
     "name": "stderr",
     "output_type": "stream",
     "text": [
      "Training (16316 / 18000 Steps) (loss=0.74516): 100%|██████████| 21/21 [01:16<00:00,  3.64s/it]\n",
      "Training (16337 / 18000 Steps) (loss=0.68321): 100%|██████████| 21/21 [00:45<00:00,  2.16s/it]\n",
      "Training (16358 / 18000 Steps) (loss=0.60496): 100%|██████████| 21/21 [00:36<00:00,  1.76s/it]\n",
      "Training (16379 / 18000 Steps) (loss=0.66679): 100%|██████████| 21/21 [00:47<00:00,  2.27s/it]\n",
      "Validate (16380 / 10 Steps): 100%|██████████| 8/8 [00:42<00:00,  5.28s/it]46<00:01,  1.29s/it]\n",
      "Training (16400 / 18000 Steps) (loss=0.66677): 100%|██████████| 21/21 [01:29<00:00, 13.72s/it]"
     ]
    },
    {
     "name": "stdout",
     "output_type": "stream",
     "text": [
      "Model Was Not Saved ! Current Best Avg. Dice: 0.4199143648147583 Current Avg. Dice: 0.3541117012500763 Current Avg. tumor Dice: 0.45021897554397583 Current Avg. lymph Dice: 0.21830403804779053\n"
     ]
    },
    {
     "name": "stderr",
     "output_type": "stream",
     "text": [
      "Training (16400 / 18000 Steps) (loss=0.66677): 100%|██████████| 21/21 [01:29<00:00,  4.25s/it]\n",
      "Training (16421 / 18000 Steps) (loss=0.20578): 100%|██████████| 21/21 [00:48<00:00,  2.30s/it]\n",
      "Training (16442 / 18000 Steps) (loss=0.24203): 100%|██████████| 21/21 [00:45<00:00,  2.16s/it]\n",
      "Training (16463 / 18000 Steps) (loss=0.27534): 100%|██████████| 21/21 [00:42<00:00,  2.02s/it]\n",
      "Training (16484 / 18000 Steps) (loss=0.18470): 100%|██████████| 21/21 [00:47<00:00,  2.25s/it]\n",
      "Validate (16485 / 10 Steps): 100%|██████████| 8/8 [00:43<00:00,  5.39s/it]38<00:06,  1.14s/it]\n",
      "Training (16500 / 18000 Steps) (loss=0.65496):  76%|███████▌  | 16/21 [01:21<01:10, 14.02s/it]"
     ]
    },
    {
     "name": "stdout",
     "output_type": "stream",
     "text": [
      "Model Was Not Saved ! Current Best Avg. Dice: 0.4199143648147583 Current Avg. Dice: 0.3990947902202606 Current Avg. tumor Dice: 0.46415507793426514 Current Avg. lymph Dice: 0.3057892620563507\n"
     ]
    },
    {
     "name": "stderr",
     "output_type": "stream",
     "text": [
      "Training (16505 / 18000 Steps) (loss=0.19722): 100%|██████████| 21/21 [01:25<00:00,  4.06s/it]\n",
      "Training (16526 / 18000 Steps) (loss=0.36842): 100%|██████████| 21/21 [00:52<00:00,  2.50s/it]\n",
      "Training (16547 / 18000 Steps) (loss=0.38641): 100%|██████████| 21/21 [00:38<00:00,  1.84s/it]\n",
      "Training (16568 / 18000 Steps) (loss=0.34388): 100%|██████████| 21/21 [00:48<00:00,  2.32s/it]\n",
      "Training (16589 / 18000 Steps) (loss=0.27899): 100%|██████████| 21/21 [00:44<00:00,  2.12s/it]\n",
      "Validate (16590 / 10 Steps): 100%|██████████| 8/8 [00:43<00:00,  5.38s/it]39<00:30,  2.76s/it]\n",
      "Training (16600 / 18000 Steps) (loss=0.66726):  52%|█████▏    | 11/21 [01:22<02:33, 15.33s/it]"
     ]
    },
    {
     "name": "stdout",
     "output_type": "stream",
     "text": [
      "Model Was Not Saved ! Current Best Avg. Dice: 0.4199143648147583 Current Avg. Dice: 0.37600114941596985 Current Avg. tumor Dice: 0.36536580324172974 Current Avg. lymph Dice: 0.3549164831638336\n"
     ]
    },
    {
     "name": "stderr",
     "output_type": "stream",
     "text": [
      "Training (16610 / 18000 Steps) (loss=0.23246): 100%|██████████| 21/21 [01:29<00:00,  4.26s/it]\n",
      "Training (16631 / 18000 Steps) (loss=0.14038): 100%|██████████| 21/21 [00:40<00:00,  1.92s/it]\n",
      "Training (16652 / 18000 Steps) (loss=0.22516): 100%|██████████| 21/21 [00:46<00:00,  2.23s/it]\n",
      "Training (16673 / 18000 Steps) (loss=0.50584): 100%|██████████| 21/21 [00:49<00:00,  2.38s/it]\n",
      "Training (16694 / 18000 Steps) (loss=0.14202): 100%|██████████| 21/21 [00:47<00:00,  2.25s/it]\n",
      "Validate (16695 / 10 Steps): 100%|██████████| 8/8 [00:43<00:00,  5.40s/it]6<00:41,  2.60s/it]\n",
      "Training (16700 / 18000 Steps) (loss=0.26533):  29%|██▊       | 6/21 [01:09<04:09, 16.66s/it]"
     ]
    },
    {
     "name": "stdout",
     "output_type": "stream",
     "text": [
      "Model Was Not Saved ! Current Best Avg. Dice: 0.4199143648147583 Current Avg. Dice: 0.3909042179584503 Current Avg. tumor Dice: 0.44741660356521606 Current Avg. lymph Dice: 0.3077593445777893\n"
     ]
    },
    {
     "name": "stderr",
     "output_type": "stream",
     "text": [
      "Training (16715 / 18000 Steps) (loss=0.33673): 100%|██████████| 21/21 [01:22<00:00,  3.95s/it]\n",
      "Training (16736 / 18000 Steps) (loss=0.66678): 100%|██████████| 21/21 [00:39<00:00,  1.89s/it]\n",
      "Training (16757 / 18000 Steps) (loss=0.66695): 100%|██████████| 21/21 [00:49<00:00,  2.34s/it]\n",
      "Training (16778 / 18000 Steps) (loss=0.34548): 100%|██████████| 21/21 [00:49<00:00,  2.36s/it]\n",
      "Training (16799 / 18000 Steps) (loss=0.51239): 100%|██████████| 21/21 [00:48<00:00,  2.30s/it]\n",
      "Validate (16800 / 10 Steps): 100%|██████████| 8/8 [00:47<00:00,  5.99s/it]7<?, ?it/s]\n",
      "Training (16800 / 18000 Steps) (loss=0.44944):   5%|▍         | 1/21 [01:05<21:52, 65.64s/it]"
     ]
    },
    {
     "name": "stdout",
     "output_type": "stream",
     "text": [
      "Model Was Not Saved ! Current Best Avg. Dice: 0.4199143648147583 Current Avg. Dice: 0.3964337408542633 Current Avg. tumor Dice: 0.4630330502986908 Current Avg. lymph Dice: 0.3058924973011017\n"
     ]
    },
    {
     "name": "stderr",
     "output_type": "stream",
     "text": [
      "Training (16820 / 18000 Steps) (loss=0.19639): 100%|██████████| 21/21 [01:26<00:00,  4.10s/it]\n",
      "Training (16841 / 18000 Steps) (loss=0.67426): 100%|██████████| 21/21 [00:37<00:00,  1.78s/it]\n",
      "Training (16862 / 18000 Steps) (loss=0.39346): 100%|██████████| 21/21 [00:48<00:00,  2.33s/it]\n",
      "Training (16883 / 18000 Steps) (loss=0.42600): 100%|██████████| 21/21 [00:48<00:00,  2.30s/it]\n",
      "Validate (16884 / 10 Steps): 100%|██████████| 8/8 [00:38<00:00,  4.83s/it]43<00:04,  1.00it/s]\n",
      "Training (16900 / 18000 Steps) (loss=0.26327):  81%|████████  | 17/21 [01:22<00:52, 13.07s/it]"
     ]
    },
    {
     "name": "stdout",
     "output_type": "stream",
     "text": [
      "Model Was Not Saved ! Current Best Avg. Dice: 0.4199143648147583 Current Avg. Dice: 0.37556037306785583 Current Avg. tumor Dice: 0.44621798396110535 Current Avg. lymph Dice: 0.27376729249954224\n"
     ]
    },
    {
     "name": "stderr",
     "output_type": "stream",
     "text": [
      "Training (16904 / 18000 Steps) (loss=0.14650): 100%|██████████| 21/21 [01:26<00:00,  4.13s/it]\n",
      "Training (16925 / 18000 Steps) (loss=0.67179): 100%|██████████| 21/21 [00:53<00:00,  2.57s/it]\n",
      "Training (16946 / 18000 Steps) (loss=0.54342): 100%|██████████| 21/21 [00:47<00:00,  2.28s/it]\n",
      "Training (16967 / 18000 Steps) (loss=0.66682): 100%|██████████| 21/21 [00:50<00:00,  2.40s/it]\n",
      "Training (16988 / 18000 Steps) (loss=0.34387): 100%|██████████| 21/21 [00:51<00:00,  2.44s/it]\n",
      "Validate (16989 / 10 Steps): 100%|██████████| 8/8 [00:44<00:00,  5.51s/it]40<00:27,  2.79s/it]\n",
      "Training (17000 / 18000 Steps) (loss=0.61443):  57%|█████▋    | 12/21 [01:24<02:20, 15.66s/it]"
     ]
    },
    {
     "name": "stdout",
     "output_type": "stream",
     "text": [
      "Model Was Not Saved ! Current Best Avg. Dice: 0.4199143648147583 Current Avg. Dice: 0.3574545681476593 Current Avg. tumor Dice: 0.34075242280960083 Current Avg. lymph Dice: 0.3507945239543915\n"
     ]
    },
    {
     "name": "stderr",
     "output_type": "stream",
     "text": [
      "Training (17009 / 18000 Steps) (loss=0.19990): 100%|██████████| 21/21 [01:30<00:00,  4.30s/it]\n",
      "Training (17030 / 18000 Steps) (loss=0.40652): 100%|██████████| 21/21 [00:53<00:00,  2.54s/it]\n",
      "Training (17051 / 18000 Steps) (loss=0.66677): 100%|██████████| 21/21 [00:53<00:00,  2.55s/it]\n",
      "Training (17072 / 18000 Steps) (loss=0.66763): 100%|██████████| 21/21 [00:51<00:00,  2.45s/it]\n",
      "Training (17093 / 18000 Steps) (loss=0.66717): 100%|██████████| 21/21 [00:52<00:00,  2.50s/it]\n",
      "Validate (17094 / 10 Steps): 100%|██████████| 8/8 [00:48<00:00,  6.07s/it]1<00:25,  1.72s/it]\n",
      "Training (17100 / 18000 Steps) (loss=0.40517):  33%|███▎      | 7/21 [01:10<04:02, 17.34s/it]"
     ]
    },
    {
     "name": "stdout",
     "output_type": "stream",
     "text": [
      "Model Was Not Saved ! Current Best Avg. Dice: 0.4199143648147583 Current Avg. Dice: 0.32552555203437805 Current Avg. tumor Dice: 0.39405328035354614 Current Avg. lymph Dice: 0.23549111187458038\n"
     ]
    },
    {
     "name": "stderr",
     "output_type": "stream",
     "text": [
      "Training (17114 / 18000 Steps) (loss=0.14390): 100%|██████████| 21/21 [01:19<00:00,  3.78s/it]\n",
      "Training (17135 / 18000 Steps) (loss=0.46439): 100%|██████████| 21/21 [00:49<00:00,  2.36s/it]\n",
      "Training (17156 / 18000 Steps) (loss=0.66688): 100%|██████████| 21/21 [00:52<00:00,  2.49s/it]\n",
      "Training (17177 / 18000 Steps) (loss=0.51969): 100%|██████████| 21/21 [00:50<00:00,  2.42s/it]\n",
      "Training (17198 / 18000 Steps) (loss=0.22361): 100%|██████████| 21/21 [00:44<00:00,  2.14s/it]\n",
      "Validate (17199 / 10 Steps): 100%|██████████| 8/8 [00:48<00:00,  6.05s/it]4<04:33, 13.69s/it]\n",
      "Training (17200 / 18000 Steps) (loss=0.41538):  10%|▉         | 2/21 [01:02<10:55, 34.48s/it]"
     ]
    },
    {
     "name": "stdout",
     "output_type": "stream",
     "text": [
      "Model Was Not Saved ! Current Best Avg. Dice: 0.4199143648147583 Current Avg. Dice: 0.38149166107177734 Current Avg. tumor Dice: 0.44324785470962524 Current Avg. lymph Dice: 0.29205894470214844\n"
     ]
    },
    {
     "name": "stderr",
     "output_type": "stream",
     "text": [
      "Training (17219 / 18000 Steps) (loss=0.12975): 100%|██████████| 21/21 [01:18<00:00,  3.74s/it]\n",
      "Training (17240 / 18000 Steps) (loss=0.66735): 100%|██████████| 21/21 [00:39<00:00,  1.89s/it]\n",
      "Training (17261 / 18000 Steps) (loss=0.66699): 100%|██████████| 21/21 [00:54<00:00,  2.58s/it]\n",
      "Training (17282 / 18000 Steps) (loss=0.15730): 100%|██████████| 21/21 [00:52<00:00,  2.52s/it]\n",
      "Validate (17283 / 10 Steps): 100%|██████████| 8/8 [00:42<00:00,  5.28s/it]55<00:05,  1.44s/it]\n",
      "Training (17300 / 18000 Steps) (loss=0.67441):  86%|████████▌ | 18/21 [01:37<00:48, 16.17s/it]"
     ]
    },
    {
     "name": "stdout",
     "output_type": "stream",
     "text": [
      "Model Was Not Saved ! Current Best Avg. Dice: 0.4199143648147583 Current Avg. Dice: 0.3896934688091278 Current Avg. tumor Dice: 0.4166589081287384 Current Avg. lymph Dice: 0.3381795883178711\n"
     ]
    },
    {
     "name": "stderr",
     "output_type": "stream",
     "text": [
      "Training (17303 / 18000 Steps) (loss=0.68004): 100%|██████████| 21/21 [01:40<00:00,  4.78s/it]\n",
      "Training (17324 / 18000 Steps) (loss=0.45761): 100%|██████████| 21/21 [00:47<00:00,  2.26s/it]\n",
      "Training (17345 / 18000 Steps) (loss=0.17186): 100%|██████████| 21/21 [00:49<00:00,  2.38s/it]\n",
      "Training (17366 / 18000 Steps) (loss=0.54178): 100%|██████████| 21/21 [00:55<00:00,  2.65s/it]\n",
      "Training (17387 / 18000 Steps) (loss=0.66703): 100%|██████████| 21/21 [00:51<00:00,  2.44s/it]\n",
      "Validate (17388 / 10 Steps): 100%|██████████| 8/8 [00:50<00:00,  6.31s/it]37<00:18,  2.09s/it]\n",
      "Training (17400 / 18000 Steps) (loss=0.35498):  62%|██████▏   | 13/21 [01:28<02:17, 17.14s/it]"
     ]
    },
    {
     "name": "stdout",
     "output_type": "stream",
     "text": [
      "Model Was Not Saved ! Current Best Avg. Dice: 0.4199143648147583 Current Avg. Dice: 0.41351351141929626 Current Avg. tumor Dice: 0.47480836510658264 Current Avg. lymph Dice: 0.32398444414138794\n"
     ]
    },
    {
     "name": "stderr",
     "output_type": "stream",
     "text": [
      "Training (17408 / 18000 Steps) (loss=0.38038): 100%|██████████| 21/21 [01:32<00:00,  4.41s/it]\n",
      "Training (17429 / 18000 Steps) (loss=0.66677): 100%|██████████| 21/21 [00:48<00:00,  2.31s/it]\n",
      "Training (17450 / 18000 Steps) (loss=0.66708): 100%|██████████| 21/21 [00:55<00:00,  2.65s/it]\n",
      "Training (17471 / 18000 Steps) (loss=0.44208): 100%|██████████| 21/21 [00:52<00:00,  2.50s/it]\n",
      "Training (17492 / 18000 Steps) (loss=0.22648): 100%|██████████| 21/21 [01:00<00:00,  2.88s/it]\n",
      "Validate (17493 / 10 Steps): 100%|██████████| 8/8 [00:57<00:00,  7.24s/it]2<00:25,  1.79s/it]\n",
      "Training (17500 / 18000 Steps) (loss=0.44250):  38%|███▊      | 8/21 [01:20<04:19, 19.98s/it]"
     ]
    },
    {
     "name": "stdout",
     "output_type": "stream",
     "text": [
      "Model Was Not Saved ! Current Best Avg. Dice: 0.4199143648147583 Current Avg. Dice: 0.39821523427963257 Current Avg. tumor Dice: 0.4311941862106323 Current Avg. lymph Dice: 0.3346409797668457\n"
     ]
    },
    {
     "name": "stderr",
     "output_type": "stream",
     "text": [
      "Training (17513 / 18000 Steps) (loss=0.12862): 100%|██████████| 21/21 [01:28<00:00,  4.20s/it]\n",
      "Training (17534 / 18000 Steps) (loss=0.14204): 100%|██████████| 21/21 [00:31<00:00,  1.48s/it]\n",
      "Training (17555 / 18000 Steps) (loss=0.58439): 100%|██████████| 21/21 [00:40<00:00,  1.92s/it]\n",
      "Training (17576 / 18000 Steps) (loss=0.12262): 100%|██████████| 21/21 [00:39<00:00,  1.90s/it]\n",
      "Training (17597 / 18000 Steps) (loss=0.13279): 100%|██████████| 21/21 [00:37<00:00,  1.77s/it]\n",
      "Validate (17598 / 10 Steps): 100%|██████████| 8/8 [00:44<00:00,  5.55s/it]8<02:18,  7.30s/it]\n",
      "Training (17600 / 18000 Steps) (loss=0.24205):  14%|█▍        | 3/21 [01:02<07:25, 24.77s/it]"
     ]
    },
    {
     "name": "stdout",
     "output_type": "stream",
     "text": [
      "Model Was Not Saved ! Current Best Avg. Dice: 0.4199143648147583 Current Avg. Dice: 0.3507882356643677 Current Avg. tumor Dice: 0.45682698488235474 Current Avg. lymph Dice: 0.20770123600959778\n"
     ]
    },
    {
     "name": "stderr",
     "output_type": "stream",
     "text": [
      "Training (17618 / 18000 Steps) (loss=0.48863): 100%|██████████| 21/21 [01:13<00:00,  3.49s/it]\n",
      "Training (17639 / 18000 Steps) (loss=0.43239): 100%|██████████| 21/21 [00:26<00:00,  1.28s/it]\n",
      "Training (17660 / 18000 Steps) (loss=0.20858): 100%|██████████| 21/21 [00:40<00:00,  1.94s/it]\n",
      "Training (17681 / 18000 Steps) (loss=0.75037): 100%|██████████| 21/21 [00:41<00:00,  1.98s/it]\n",
      "Validate (17682 / 10 Steps): 100%|██████████| 8/8 [00:41<00:00,  5.22s/it]41<00:04,  1.34s/it]\n",
      "Training (17700 / 18000 Steps) (loss=0.49726):  90%|█████████ | 19/21 [01:23<00:27, 13.69s/it]"
     ]
    },
    {
     "name": "stdout",
     "output_type": "stream",
     "text": [
      "Model Was Not Saved ! Current Best Avg. Dice: 0.4199143648147583 Current Avg. Dice: 0.3872690200805664 Current Avg. tumor Dice: 0.42293116450309753 Current Avg. lymph Dice: 0.3259754776954651\n"
     ]
    },
    {
     "name": "stderr",
     "output_type": "stream",
     "text": [
      "Training (17702 / 18000 Steps) (loss=0.66678): 100%|██████████| 21/21 [01:25<00:00,  4.06s/it]\n",
      "Training (17723 / 18000 Steps) (loss=0.15341): 100%|██████████| 21/21 [00:38<00:00,  1.81s/it]\n",
      "Training (17744 / 18000 Steps) (loss=0.34255): 100%|██████████| 21/21 [00:31<00:00,  1.49s/it]\n",
      "Training (17765 / 18000 Steps) (loss=0.60145): 100%|██████████| 21/21 [00:36<00:00,  1.74s/it]\n",
      "Training (17786 / 18000 Steps) (loss=0.74024): 100%|██████████| 21/21 [00:39<00:00,  1.90s/it]\n",
      "Validate (17787 / 10 Steps): 100%|██████████| 8/8 [00:39<00:00,  4.92s/it]34<00:10,  1.27s/it]\n",
      "Training (17800 / 18000 Steps) (loss=0.40951):  67%|██████▋   | 14/21 [01:13<01:30, 12.99s/it]"
     ]
    },
    {
     "name": "stdout",
     "output_type": "stream",
     "text": [
      "Model Was Not Saved ! Current Best Avg. Dice: 0.4199143648147583 Current Avg. Dice: 0.38272714614868164 Current Avg. tumor Dice: 0.4155670702457428 Current Avg. lymph Dice: 0.3250565230846405\n"
     ]
    },
    {
     "name": "stderr",
     "output_type": "stream",
     "text": [
      "Training (17807 / 18000 Steps) (loss=0.66724): 100%|██████████| 21/21 [01:18<00:00,  3.72s/it]\n",
      "Training (17828 / 18000 Steps) (loss=0.41678): 100%|██████████| 21/21 [00:39<00:00,  1.90s/it]\n",
      "Training (17849 / 18000 Steps) (loss=0.66740): 100%|██████████| 21/21 [00:31<00:00,  1.52s/it]\n",
      "Training (17870 / 18000 Steps) (loss=0.18138): 100%|██████████| 21/21 [00:44<00:00,  2.13s/it]\n",
      "Training (17891 / 18000 Steps) (loss=0.35257): 100%|██████████| 21/21 [00:42<00:00,  2.04s/it]\n",
      "Validate (17892 / 10 Steps): 100%|██████████| 8/8 [00:42<00:00,  5.27s/it]3<00:17,  1.35s/it]\n",
      "Training (17900 / 18000 Steps) (loss=0.28893):  43%|████▎     | 9/21 [01:15<03:18, 16.54s/it]"
     ]
    },
    {
     "name": "stdout",
     "output_type": "stream",
     "text": [
      "Model Was Not Saved ! Current Best Avg. Dice: 0.4199143648147583 Current Avg. Dice: 0.4001569449901581 Current Avg. tumor Dice: 0.4499056935310364 Current Avg. lymph Dice: 0.3259771168231964\n"
     ]
    },
    {
     "name": "stderr",
     "output_type": "stream",
     "text": [
      "Training (17912 / 18000 Steps) (loss=0.66696): 100%|██████████| 21/21 [01:21<00:00,  3.89s/it]\n",
      "Training (17933 / 18000 Steps) (loss=0.66686): 100%|██████████| 21/21 [00:30<00:00,  1.47s/it]\n",
      "Training (17954 / 18000 Steps) (loss=0.66826): 100%|██████████| 21/21 [00:41<00:00,  2.00s/it]\n",
      "Training (17975 / 18000 Steps) (loss=0.67154): 100%|██████████| 21/21 [00:45<00:00,  2.17s/it]\n",
      "Training (17996 / 18000 Steps) (loss=0.29345): 100%|██████████| 21/21 [00:42<00:00,  2.04s/it]\n",
      "Validate (17997 / 10 Steps): 100%|██████████| 8/8 [00:45<00:00,  5.73s/it]9<01:24,  4.72s/it]\n",
      "Training (18000 / 18000 Steps) (loss=0.66679):  19%|█▉        | 4/21 [01:05<06:01, 21.24s/it]"
     ]
    },
    {
     "name": "stdout",
     "output_type": "stream",
     "text": [
      "Model Was Not Saved ! Current Best Avg. Dice: 0.4199143648147583 Current Avg. Dice: 0.3824564218521118 Current Avg. tumor Dice: 0.4805030822753906 Current Avg. lymph Dice: 0.24920102953910828\n"
     ]
    },
    {
     "name": "stderr",
     "output_type": "stream",
     "text": [
      "Training (18017 / 18000 Steps) (loss=0.67103): 100%|██████████| 21/21 [01:15<00:00,  3.57s/it]\n"
     ]
    }
   ],
   "source": [
    "epoch = 0 # used for LR scheduler\n",
    "max_num_epochs = 530 # used for LR scheduler\n",
    "\n",
    "\n",
    "while global_step < max_iterations:\n",
    "    global_step, dice_val_best, global_step_best = train(\n",
    "        global_step, train_loader, dice_val_best, global_step_best\n",
    "    )\n",
    "    epoch += 1\n",
    "    #optimizer.param_groups[0]['lr'] = poly_lr(epoch, max_num_epochs, 0.005676 , 0.9)\n",
    "# model.load_state_dict(torch.load(os.path.join(model_dir, \"best_metric_luck_UNETr_prompt.pth\")))"
   ]
  }
 ],
 "metadata": {
  "kernelspec": {
   "display_name": "clam",
   "language": "python",
   "name": "python3"
  },
  "language_info": {
   "codemirror_mode": {
    "name": "ipython",
    "version": 3
   },
   "file_extension": ".py",
   "mimetype": "text/x-python",
   "name": "python",
   "nbconvert_exporter": "python",
   "pygments_lexer": "ipython3",
   "version": "3.8.0"
  }
 },
 "nbformat": 4,
 "nbformat_minor": 2
}
