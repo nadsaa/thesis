{
 "cells": [
  {
   "cell_type": "code",
   "execution_count": 1,
   "metadata": {},
   "outputs": [
    {
     "data": {
      "text/plain": [
       "1"
      ]
     },
     "execution_count": 1,
     "metadata": {},
     "output_type": "execute_result"
    }
   ],
   "source": [
    "import os\n",
    "os.environ[\"CUDA_DEVICE_ORDER\"] = \"PCI_BUS_ID\"\n",
    "os.environ[\"CUDA_VISIBLE_DEVICES\"] = \"1\" \n",
    "import torch\n",
    "torch.cuda.device_count()"
   ]
  },
  {
   "cell_type": "code",
   "execution_count": 2,
   "metadata": {},
   "outputs": [],
   "source": [
    "import os\n",
    "import shutil\n",
    "import tempfile\n",
    "\n",
    "import matplotlib.pyplot as plt\n",
    "import numpy as np\n",
    "from tqdm import tqdm\n",
    "from glob import glob\n",
    "# import wandb\n",
    "\n",
    "import monai\n",
    "from monai.losses import DiceCELoss, DiceFocalLoss, FocalLoss\n",
    "from monai.inferers import sliding_window_inference\n",
    "from monai import transforms\n",
    "\n",
    "from monai.transforms import (\n",
    "    AsDiscrete,\n",
    "    Compose,\n",
    "    CropForegroundd,\n",
    "    LoadImaged,\n",
    "    Orientationd,\n",
    "    RandFlipd,\n",
    "    RandCropByPosNegLabeld,\n",
    "    RandShiftIntensityd,\n",
    "    ScaleIntensityRanged,\n",
    "    Spacingd,\n",
    "    RandRotate90d,\n",
    "    MapTransform,\n",
    "    ScaleIntensityd,\n",
    "    #AddChanneld,\n",
    "    SpatialPadd,\n",
    "    CenterSpatialCropd,\n",
    "    EnsureChannelFirstd,\n",
    "    ConcatItemsd,\n",
    "    AdjustContrastd, \n",
    "    Rand3DElasticd,\n",
    "    HistogramNormalized,\n",
    "    NormalizeIntensityd,\n",
    "    Invertd,\n",
    "    SaveImage,\n",
    "\n",
    ")\n",
    "\n",
    "from monai.config import print_config\n",
    "from monai.metrics import DiceMetric\n",
    "from monai.networks.nets import SwinUNETR, UNETR, SegResNet\n",
    "\n",
    "from monai.data import (\n",
    "    DataLoader,\n",
    "    CacheDataset,\n",
    "    load_decathlon_datalist,\n",
    "    decollate_batch,\n",
    ")\n",
    "from monai import data\n",
    "\n",
    "\n",
    "from monai.utils import first, set_determinism\n",
    "from sklearn.model_selection import train_test_split\n",
    "import json\n",
    "\n",
    "\n",
    "import torch"
   ]
  },
  {
   "cell_type": "code",
   "execution_count": null,
   "metadata": {},
   "outputs": [],
   "source": [
    "set_determinism(seed=1024)"
   ]
  },
  {
   "cell_type": "code",
   "execution_count": 3,
   "metadata": {},
   "outputs": [
    {
     "name": "stdout",
     "output_type": "stream",
     "text": [
      "JSON file created at /home/nada.saadi/MIS-FM/hecktor2022_cropped/MDA_PET_train_new.json\n"
     ]
    }
   ],
   "source": [
    "import os\n",
    "import json\n",
    "import random\n",
    "from glob import glob\n",
    "\n",
    "def generate_paths(patient_id):\n",
    "    base_dir = '/home/nada.saadi/MIS-FM/hecktor2022_cropped/data'\n",
    "    return {\n",
    "        'id': os.path.join(base_dir, patient_id),\n",
    "        'pt': os.path.join(base_dir, patient_id, f\"{patient_id}_pt.nii.gz\"),\n",
    "        'seg': os.path.join(base_dir, patient_id, f\"{patient_id}_gt.nii.gz\")\n",
    "    }\n",
    "\n",
    "# Assign each data entry to a random fold\n",
    "all_data = []\n",
    "num_folds = 5\n",
    "\n",
    "for file_dir in sorted(glob('data/*')):\n",
    "    patient_id = file_dir.split('/')[-1]\n",
    "    # Check if the file belongs to the MDA center\n",
    "    if patient_id.startswith(\"MDA-\"):\n",
    "        entry = generate_paths(patient_id)\n",
    "        entry['fold'] = random.randint(1, num_folds) - 1\n",
    "        all_data.append(entry)\n",
    "\n",
    "# Compile data into a JSON structure\n",
    "data_json = {\"training\": all_data}\n",
    "\n",
    "# Save to JSON file\n",
    "json_file_path = \"/home/nada.saadi/MIS-FM/hecktor2022_cropped/MDA_PET_train_new.json\"\n",
    "with open(json_file_path, 'w') as f:\n",
    "    json.dump(data_json, f, indent=4)\n",
    "\n",
    "print(f\"JSON file created at {json_file_path}\")"
   ]
  },
  {
   "cell_type": "code",
   "execution_count": 6,
   "metadata": {},
   "outputs": [],
   "source": [
    "data_dir = '/home/nada.saadi/MIS-FM/hecktor2022_cropped'\n",
    "json_dir = '/home/nada.saadi/MIS-FM/hecktor2022_cropped/MDA_PET_train_new.json'"
   ]
  },
  {
   "cell_type": "code",
   "execution_count": 7,
   "metadata": {},
   "outputs": [],
   "source": [
    "def datafold_read(datalist, basedir, fold=0, key=\"training\"):\n",
    "    with open(datalist) as f:\n",
    "        json_data = json.load(f)\n",
    "\n",
    "    json_data = json_data[key]\n",
    "\n",
    "    for d in json_data:\n",
    "        for k in d:\n",
    "            if isinstance(d[k], list):\n",
    "                d[k] = [os.path.join(basedir, iv) for iv in d[k]]\n",
    "            elif isinstance(d[k], str):\n",
    "                d[k] = os.path.join(basedir, d[k]) if len(d[k]) > 0 else d[k]\n",
    "\n",
    "    tr = []\n",
    "    val = []\n",
    "    for d in json_data:\n",
    "        if \"fold\" in d and d[\"fold\"] == fold:\n",
    "            val.append(d)\n",
    "        else:\n",
    "            tr.append(d)\n",
    "\n",
    "    return tr, val"
   ]
  },
  {
   "cell_type": "code",
   "execution_count": 8,
   "metadata": {},
   "outputs": [
    {
     "data": {
      "text/plain": [
       "(160, 36)"
      ]
     },
     "execution_count": 8,
     "metadata": {},
     "output_type": "execute_result"
    }
   ],
   "source": [
    "train_files, validation_files = datafold_read(datalist=json_dir, basedir=data_dir, fold=0)\n",
    "len(train_files), len(validation_files)"
   ]
  },
  {
   "cell_type": "code",
   "execution_count": 9,
   "metadata": {},
   "outputs": [],
   "source": [
    "class ClipCT(MapTransform):\n",
    "    \"\"\"\n",
    "    Convert labels to multi channels based on hecktor classes:\n",
    "    label 1 is the tumor\n",
    "    label 2 is the lymph node\n",
    "\n",
    "    \"\"\"\n",
    "\n",
    "    def __call__(self, data):\n",
    "        d = dict(data)\n",
    "        for key in self.keys:\n",
    "            if key == \"ct\":\n",
    "                d[key] = torch.clip(d[key], min=-200, max=200)\n",
    "            # elif key == \"pt\":\n",
    "            #     d[key] = torch.clip(d[key], d[key].min(), 5)\n",
    "        return d\n",
    "\n",
    "class MulPTFM(MapTransform):\n",
    "    \"\"\"\n",
    "    Mult PT and FM \n",
    "\n",
    "    \"\"\"\n",
    "\n",
    "    def __call__(self, data):\n",
    "        d = dict(data)\n",
    "\n",
    "        fm = d[\"ct\"] > 0\n",
    "        d[\"pt\"] = d[\"pt\"] * fm\n",
    "        return d\n",
    "\n",
    "class SelectClass(MapTransform):\n",
    "    \"\"\"\n",
    "    Select the class for which you want to fine tune the model \n",
    "\n",
    "    \"\"\"\n",
    "    # def __init__(self, keys, cls=1):\n",
    "    #     super(self).__init__(keys)\n",
    "    #     self.cls = cls\n",
    "\n",
    "    def __call__(self, data):\n",
    "        d = dict(data)\n",
    "        d[\"seg\"][d[\"seg\"] == 1] = 0\n",
    "        # d[\"seg\"][d[\"seg\"] == 2] = 1\n",
    "        \n",
    "        return d"
   ]
  },
  {
   "cell_type": "code",
   "execution_count": 11,
   "metadata": {},
   "outputs": [],
   "source": [
    "num_samples = 4\n",
    "\n",
    "train_transforms = Compose(\n",
    "    [\n",
    "        LoadImaged(keys=[\"pt\", \"seg\"], ensure_channel_first = True),\n",
    "        SpatialPadd(keys=[\"pt\",  \"seg\"], spatial_size=(200, 200, 310), method='end'),\n",
    "        Orientationd(keys=[\"pt\",  \"seg\"], axcodes=\"PLS\"),\n",
    "        #NormalizeIntensityd(keys=[\"pt\"]),\n",
    "        ClipCT(keys=[\"pt\"]),\n",
    "        ScaleIntensityd(keys=[\"pt\"], minv=0, maxv=1),\n",
    "        #MulPTFM(keys=[\"ct\",\"pt\"]),\n",
    "        #ConcatItemsd(keys=[\"pt\", \"ct\"], name=\"ctpt\"),\n",
    "        #NormalizeIntensityd(keys=[\"ctpt\"], channel_wise=True),\n",
    "        RandCropByPosNegLabeld(\n",
    "            keys=[\"pt\", \"seg\"],\n",
    "            label_key=\"seg\",\n",
    "            spatial_size=(96, 96, 96),\n",
    "            pos=1,\n",
    "            neg=1,\n",
    "            num_samples=num_samples,\n",
    "            image_key=\"pt\",\n",
    "            image_threshold=0,\n",
    "        ),\n",
    "        RandFlipd(\n",
    "            keys=[\"pt\", \"seg\"],\n",
    "            spatial_axis=[0],\n",
    "            prob=0.20,\n",
    "        ),\n",
    "        RandFlipd(\n",
    "            keys=[\"pt\", \"seg\"],\n",
    "            spatial_axis=[1],\n",
    "            prob=0.20,\n",
    "        ),\n",
    "        RandFlipd(\n",
    "            keys=[\"pt\", \"seg\"],\n",
    "            spatial_axis=[2],\n",
    "            prob=0.20,\n",
    "        ),\n",
    "        RandRotate90d(\n",
    "            keys=[\"pt\", \"seg\"],\n",
    "            prob=0.20,\n",
    "            max_k=3,\n",
    "        ),\n",
    "    ]\n",
    ")\n",
    "val_transforms = Compose(\n",
    "    [\n",
    "        LoadImaged(keys=[\"pt\", \"seg\"], ensure_channel_first = True),\n",
    "        SpatialPadd(keys=[\"pt\", \"seg\"], spatial_size=(200, 200, 310), method='end'),\n",
    "        Orientationd(keys=[\"pt\",  \"seg\"], axcodes=\"PLS\"),\n",
    "        #NormalizeIntensityd(keys=[\"pt\"]),\n",
    "        ClipCT(keys=[\"pt\"]),\n",
    "        ScaleIntensityd(keys=[\"pt\"], minv=0, maxv=1),\n",
    "        #MulPTFM(keys=[\"ct\",\"pt\"]),\n",
    "        #ConcatItemsd(keys=[\"pt\", \"ct\"], name=\"ctpt\"),\n",
    "    ]\n",
    ")"
   ]
  },
  {
   "cell_type": "code",
   "execution_count": 12,
   "metadata": {},
   "outputs": [],
   "source": [
    "train_ds = monai.data.Dataset(data=train_files, transform=train_transforms)\n",
    "\n",
    "train_loader = DataLoader(\n",
    "    train_ds,\n",
    "    batch_size=2,\n",
    "    shuffle=True,\n",
    "    num_workers=8,\n",
    "    pin_memory=torch.cuda.is_available(),\n",
    "    )\n",
    "\n",
    "val_ds = monai.data.Dataset(data=validation_files, transform=val_transforms)\n",
    "\n",
    "val_loader = DataLoader(\n",
    "    val_ds, \n",
    "    batch_size=2, \n",
    "    num_workers=8, \n",
    "    shuffle= False)"
   ]
  },
  {
   "cell_type": "code",
   "execution_count": 13,
   "metadata": {},
   "outputs": [
    {
     "name": "stderr",
     "output_type": "stream",
     "text": [
      "/home/nada.saadi/miniconda3/envs/clam/lib/python3.8/site-packages/monai/utils/deprecate_utils.py:221: FutureWarning: monai.networks.nets.unetr UNETR.__init__:pos_embed: Argument `pos_embed` has been deprecated since version 1.2. It will be removed in version 1.4. please use `proj_type` instead.\n",
      "  warn_deprecated(argname, msg, warning_category)\n"
     ]
    }
   ],
   "source": [
    "os.environ[\"CUDA_DEVICE_ORDER\"] = \"PCI_BUS_ID\"\n",
    "device = torch.device(\"cuda\" if torch.cuda.is_available() else \"cpu\")\n",
    "model = UNETR(\n",
    "    in_channels=1,\n",
    "    out_channels=3,\n",
    "    img_size=(96, 96, 96),\n",
    "    feature_size=16,\n",
    "    hidden_size=768,\n",
    "    mlp_dim=3072, \n",
    "    num_heads=12,\n",
    "    pos_embed=\"perceptron\",\n",
    "    norm_name=\"instance\",\n",
    "    res_block=True,\n",
    "    dropout_rate=0.0,\n",
    ").to(device)\n"
   ]
  },
  {
   "cell_type": "code",
   "execution_count": 14,
   "metadata": {},
   "outputs": [],
   "source": [
    "torch.backends.cudnn.benchmark = True\n",
    "def poly_lr(epoch, max_epochs, initial_lr, exponent=0.9):\n",
    "    return initial_lr * (1 - epoch / max_epochs)**exponent\n",
    "\n",
    "loss_function = DiceCELoss(to_onehot_y=True, softmax=True)\n",
    "optimizer = torch.optim.AdamW(model.parameters(), lr=1e-4, weight_decay=1e-5)"
   ]
  },
  {
   "cell_type": "code",
   "execution_count": 15,
   "metadata": {},
   "outputs": [
    {
     "name": "stderr",
     "output_type": "stream",
     "text": [
      "Training (79 / 18000 Steps) (loss=1.22351): 100%|██████████| 80/80 [00:49<00:00,  1.63it/s]\n",
      "Validate (80 / 10 Steps): 100%|██████████| 18/18 [00:23<00:00,  1.33s/it]2<00:27,  2.17it/s]\n",
      "Training (100 / 18000 Steps) (loss=1.17102):  26%|██▋       | 21/80 [00:37<07:51,  7.99s/it]"
     ]
    },
    {
     "name": "stdout",
     "output_type": "stream",
     "text": [
      "Model Was Saved ! Current Best Avg. Dice: 0.13926346600055695 Current Avg. Dice: 0.13926346600055695 Current Avg. tumor Dice: 0.05602164939045906 Current Avg. lymph Dice: 0.23546354472637177\n"
     ]
    },
    {
     "name": "stderr",
     "output_type": "stream",
     "text": [
      "Training (159 / 18000 Steps) (loss=1.07438): 100%|██████████| 80/80 [01:05<00:00,  1.21it/s]\n",
      "Validate (160 / 10 Steps): 100%|██████████| 18/18 [00:22<00:00,  1.26s/it]<00:19,  2.04it/s]\n",
      "Training (200 / 18000 Steps) (loss=1.03247):  51%|█████▏    | 41/80 [00:45<04:52,  7.51s/it]"
     ]
    },
    {
     "name": "stdout",
     "output_type": "stream",
     "text": [
      "Model Was Saved ! Current Best Avg. Dice: 0.19636006653308868 Current Avg. Dice: 0.19636006653308868 Current Avg. tumor Dice: 0.08757281303405762 Current Avg. lymph Dice: 0.32061848044395447\n"
     ]
    },
    {
     "name": "stderr",
     "output_type": "stream",
     "text": [
      "Training (239 / 18000 Steps) (loss=1.00144): 100%|██████████| 80/80 [01:03<00:00,  1.26it/s]\n",
      "Validate (240 / 10 Steps): 100%|██████████| 18/18 [00:23<00:00,  1.29s/it]<00:09,  2.20it/s]\n",
      "Training (300 / 18000 Steps) (loss=0.96437):  76%|███████▋  | 61/80 [00:54<02:24,  7.61s/it]"
     ]
    },
    {
     "name": "stdout",
     "output_type": "stream",
     "text": [
      "Model Was Saved ! Current Best Avg. Dice: 0.27038881182670593 Current Avg. Dice: 0.27038881182670593 Current Avg. tumor Dice: 0.37441325187683105 Current Avg. lymph Dice: 0.1554587334394455\n"
     ]
    },
    {
     "name": "stderr",
     "output_type": "stream",
     "text": [
      "Training (319 / 18000 Steps) (loss=0.94778): 100%|██████████| 80/80 [01:03<00:00,  1.26it/s]\n",
      "Training (399 / 18000 Steps) (loss=0.91379): 100%|██████████| 80/80 [00:39<00:00,  2.02it/s]\n",
      "Validate (400 / 10 Steps): 100%|██████████| 18/18 [00:22<00:00,  1.26s/it]?, ?it/s]\n",
      "Training (400 / 18000 Steps) (loss=0.90354):   1%|▏         | 1/80 [00:26<34:50, 26.47s/it]"
     ]
    },
    {
     "name": "stdout",
     "output_type": "stream",
     "text": [
      "Model Was Saved ! Current Best Avg. Dice: 0.3142051696777344 Current Avg. Dice: 0.3142051696777344 Current Avg. tumor Dice: 0.32672119140625 Current Avg. lymph Dice: 0.3095342218875885\n"
     ]
    },
    {
     "name": "stderr",
     "output_type": "stream",
     "text": [
      "Training (479 / 18000 Steps) (loss=0.88673): 100%|██████████| 80/80 [01:01<00:00,  1.29it/s]\n",
      "Validate (480 / 10 Steps): 100%|██████████| 18/18 [00:22<00:00,  1.26s/it]<00:27,  2.16it/s]\n",
      "Training (500 / 18000 Steps) (loss=0.86812):  26%|██▋       | 21/80 [00:35<07:10,  7.30s/it]"
     ]
    },
    {
     "name": "stdout",
     "output_type": "stream",
     "text": [
      "Model Was Not Saved ! Current Best Avg. Dice: 0.3142051696777344 Current Avg. Dice: 0.2508811056613922 Current Avg. tumor Dice: 0.19209514558315277 Current Avg. lymph Dice: 0.32008880376815796\n"
     ]
    },
    {
     "name": "stderr",
     "output_type": "stream",
     "text": [
      "Training (559 / 18000 Steps) (loss=0.87560): 100%|██████████| 80/80 [01:01<00:00,  1.29it/s]\n",
      "Validate (560 / 10 Steps): 100%|██████████| 18/18 [00:22<00:00,  1.26s/it]<00:17,  2.23it/s]\n",
      "Training (600 / 18000 Steps) (loss=0.83114):  51%|█████▏    | 41/80 [00:43<04:43,  7.27s/it]"
     ]
    },
    {
     "name": "stdout",
     "output_type": "stream",
     "text": [
      "Model Was Not Saved ! Current Best Avg. Dice: 0.3142051696777344 Current Avg. Dice: 0.27936750650405884 Current Avg. tumor Dice: 0.41583698987960815 Current Avg. lymph Dice: 0.1297229677438736\n"
     ]
    },
    {
     "name": "stderr",
     "output_type": "stream",
     "text": [
      "Training (639 / 18000 Steps) (loss=0.83490): 100%|██████████| 80/80 [01:01<00:00,  1.30it/s]\n",
      "Validate (640 / 10 Steps): 100%|██████████| 18/18 [00:22<00:00,  1.26s/it]<00:08,  2.23it/s]\n",
      "Training (700 / 18000 Steps) (loss=0.80483):  76%|███████▋  | 61/80 [00:52<02:17,  7.26s/it]"
     ]
    },
    {
     "name": "stdout",
     "output_type": "stream",
     "text": [
      "Model Was Not Saved ! Current Best Avg. Dice: 0.3142051696777344 Current Avg. Dice: 0.278225302696228 Current Avg. tumor Dice: 0.42771273851394653 Current Avg. lymph Dice: 0.11372740566730499\n"
     ]
    },
    {
     "name": "stderr",
     "output_type": "stream",
     "text": [
      "Training (719 / 18000 Steps) (loss=0.81371): 100%|██████████| 80/80 [01:00<00:00,  1.31it/s]\n",
      "Training (799 / 18000 Steps) (loss=0.79111): 100%|██████████| 80/80 [00:38<00:00,  2.07it/s]\n",
      "Validate (800 / 10 Steps): 100%|██████████| 18/18 [00:22<00:00,  1.26s/it]?, ?it/s]\n",
      "Training (800 / 18000 Steps) (loss=0.80755):   1%|▏         | 1/80 [00:25<33:58, 25.80s/it]"
     ]
    },
    {
     "name": "stdout",
     "output_type": "stream",
     "text": [
      "Model Was Not Saved ! Current Best Avg. Dice: 0.3142051696777344 Current Avg. Dice: 0.294408917427063 Current Avg. tumor Dice: 0.4071686267852783 Current Avg. lymph Dice: 0.17981520295143127\n"
     ]
    },
    {
     "name": "stderr",
     "output_type": "stream",
     "text": [
      "Training (879 / 18000 Steps) (loss=0.77938): 100%|██████████| 80/80 [01:01<00:00,  1.31it/s]\n",
      "Validate (880 / 10 Steps): 100%|██████████| 18/18 [00:22<00:00,  1.26s/it]<00:27,  2.17it/s]\n",
      "Training (900 / 18000 Steps) (loss=0.73935):  26%|██▋       | 21/80 [00:35<07:10,  7.29s/it]"
     ]
    },
    {
     "name": "stdout",
     "output_type": "stream",
     "text": [
      "Model Was Not Saved ! Current Best Avg. Dice: 0.3142051696777344 Current Avg. Dice: 0.29830819368362427 Current Avg. tumor Dice: 0.41280585527420044 Current Avg. lymph Dice: 0.17989638447761536\n"
     ]
    },
    {
     "name": "stderr",
     "output_type": "stream",
     "text": [
      "Training (959 / 18000 Steps) (loss=0.74426): 100%|██████████| 80/80 [01:01<00:00,  1.29it/s]\n",
      "Validate (960 / 10 Steps): 100%|██████████| 18/18 [00:22<00:00,  1.25s/it]1<00:17,  2.22it/s]\n",
      "Training (1000 / 18000 Steps) (loss=0.79058):  51%|█████▏    | 41/80 [00:43<04:42,  7.24s/it]"
     ]
    },
    {
     "name": "stdout",
     "output_type": "stream",
     "text": [
      "Model Was Not Saved ! Current Best Avg. Dice: 0.3142051696777344 Current Avg. Dice: 0.28824007511138916 Current Avg. tumor Dice: 0.3959988057613373 Current Avg. lymph Dice: 0.18173369765281677\n"
     ]
    },
    {
     "name": "stderr",
     "output_type": "stream",
     "text": [
      "Training (1039 / 18000 Steps) (loss=0.74197): 100%|██████████| 80/80 [01:01<00:00,  1.31it/s]\n",
      "Validate (1040 / 10 Steps): 100%|██████████| 18/18 [00:22<00:00,  1.27s/it]<00:09,  2.18it/s]\n",
      "Training (1100 / 18000 Steps) (loss=0.75222):  76%|███████▋  | 61/80 [00:53<02:19,  7.36s/it]"
     ]
    },
    {
     "name": "stdout",
     "output_type": "stream",
     "text": [
      "Model Was Not Saved ! Current Best Avg. Dice: 0.3142051696777344 Current Avg. Dice: 0.30699121952056885 Current Avg. tumor Dice: 0.44486311078071594 Current Avg. lymph Dice: 0.15528146922588348\n"
     ]
    },
    {
     "name": "stderr",
     "output_type": "stream",
     "text": [
      "Training (1119 / 18000 Steps) (loss=0.74481): 100%|██████████| 80/80 [01:01<00:00,  1.29it/s]\n",
      "Training (1199 / 18000 Steps) (loss=0.74353): 100%|██████████| 80/80 [00:39<00:00,  2.03it/s]\n",
      "Validate (1200 / 10 Steps): 100%|██████████| 18/18 [00:22<00:00,  1.26s/it]?, ?it/s]\n",
      "Training (1200 / 18000 Steps) (loss=0.71586):   1%|▏         | 1/80 [00:25<34:04, 25.89s/it]"
     ]
    },
    {
     "name": "stdout",
     "output_type": "stream",
     "text": [
      "Model Was Not Saved ! Current Best Avg. Dice: 0.3142051696777344 Current Avg. Dice: 0.3100897967815399 Current Avg. tumor Dice: 0.2367611676454544 Current Avg. lymph Dice: 0.39857017993927\n"
     ]
    },
    {
     "name": "stderr",
     "output_type": "stream",
     "text": [
      "Training (1279 / 18000 Steps) (loss=0.71622): 100%|██████████| 80/80 [01:01<00:00,  1.30it/s]\n",
      "Validate (1280 / 10 Steps): 100%|██████████| 18/18 [00:22<00:00,  1.27s/it]<00:26,  2.23it/s]\n",
      "Training (1300 / 18000 Steps) (loss=0.67357):  26%|██▋       | 21/80 [00:36<07:24,  7.54s/it]"
     ]
    },
    {
     "name": "stdout",
     "output_type": "stream",
     "text": [
      "Model Was Saved ! Current Best Avg. Dice: 0.4126056134700775 Current Avg. Dice: 0.4126056134700775 Current Avg. tumor Dice: 0.4864770174026489 Current Avg. lymph Dice: 0.3456319272518158\n"
     ]
    },
    {
     "name": "stderr",
     "output_type": "stream",
     "text": [
      "Training (1359 / 18000 Steps) (loss=0.72301): 100%|██████████| 80/80 [01:03<00:00,  1.27it/s]\n",
      "Validate (1360 / 10 Steps): 100%|██████████| 18/18 [00:22<00:00,  1.26s/it]<00:17,  2.24it/s]\n",
      "Training (1400 / 18000 Steps) (loss=0.67846):  51%|█████▏    | 41/80 [00:44<04:51,  7.48s/it]"
     ]
    },
    {
     "name": "stdout",
     "output_type": "stream",
     "text": [
      "Model Was Saved ! Current Best Avg. Dice: 0.4299929440021515 Current Avg. Dice: 0.4299929440021515 Current Avg. tumor Dice: 0.4228610694408417 Current Avg. lymph Dice: 0.4560057520866394\n"
     ]
    },
    {
     "name": "stderr",
     "output_type": "stream",
     "text": [
      "Training (1439 / 18000 Steps) (loss=0.65901): 100%|██████████| 80/80 [01:02<00:00,  1.29it/s]\n",
      "Validate (1440 / 10 Steps): 100%|██████████| 18/18 [00:22<00:00,  1.26s/it]<00:08,  2.23it/s]\n",
      "Training (1500 / 18000 Steps) (loss=0.64576):  76%|███████▋  | 61/80 [00:52<02:18,  7.27s/it]"
     ]
    },
    {
     "name": "stdout",
     "output_type": "stream",
     "text": [
      "Model Was Not Saved ! Current Best Avg. Dice: 0.4299929440021515 Current Avg. Dice: 0.4110777676105499 Current Avg. tumor Dice: 0.4754207134246826 Current Avg. lymph Dice: 0.3681889772415161\n"
     ]
    },
    {
     "name": "stderr",
     "output_type": "stream",
     "text": [
      "Training (1519 / 18000 Steps) (loss=0.67084): 100%|██████████| 80/80 [01:01<00:00,  1.30it/s]\n",
      "Training (1599 / 18000 Steps) (loss=0.63549): 100%|██████████| 80/80 [00:38<00:00,  2.07it/s]\n",
      "Validate (1600 / 10 Steps): 100%|██████████| 18/18 [00:22<00:00,  1.26s/it]?, ?it/s]\n",
      "Training (1600 / 18000 Steps) (loss=0.63945):   1%|▏         | 1/80 [00:25<34:12, 25.98s/it]"
     ]
    },
    {
     "name": "stdout",
     "output_type": "stream",
     "text": [
      "Model Was Saved ! Current Best Avg. Dice: 0.5089432597160339 Current Avg. Dice: 0.5089432597160339 Current Avg. tumor Dice: 0.5462924242019653 Current Avg. lymph Dice: 0.4813554883003235\n"
     ]
    },
    {
     "name": "stderr",
     "output_type": "stream",
     "text": [
      "Training (1679 / 18000 Steps) (loss=0.67235): 100%|██████████| 80/80 [01:01<00:00,  1.30it/s]\n",
      "Validate (1680 / 10 Steps): 100%|██████████| 18/18 [00:22<00:00,  1.27s/it]<00:27,  2.22it/s]\n",
      "Training (1700 / 18000 Steps) (loss=0.66651):  26%|██▋       | 21/80 [00:35<07:25,  7.54s/it]"
     ]
    },
    {
     "name": "stdout",
     "output_type": "stream",
     "text": [
      "Model Was Saved ! Current Best Avg. Dice: 0.514558732509613 Current Avg. Dice: 0.514558732509613 Current Avg. tumor Dice: 0.5556819438934326 Current Avg. lymph Dice: 0.4853748679161072\n"
     ]
    },
    {
     "name": "stderr",
     "output_type": "stream",
     "text": [
      "Training (1759 / 18000 Steps) (loss=0.60466): 100%|██████████| 80/80 [01:02<00:00,  1.28it/s]\n",
      "Validate (1760 / 10 Steps): 100%|██████████| 18/18 [00:22<00:00,  1.27s/it]<00:17,  2.23it/s]\n",
      "Training (1800 / 18000 Steps) (loss=0.66697):  51%|█████▏    | 41/80 [00:44<04:45,  7.33s/it]"
     ]
    },
    {
     "name": "stdout",
     "output_type": "stream",
     "text": [
      "Model Was Not Saved ! Current Best Avg. Dice: 0.514558732509613 Current Avg. Dice: 0.45725706219673157 Current Avg. tumor Dice: 0.48274317383766174 Current Avg. lymph Dice: 0.45913732051849365\n"
     ]
    },
    {
     "name": "stderr",
     "output_type": "stream",
     "text": [
      "Training (1839 / 18000 Steps) (loss=0.53998): 100%|██████████| 80/80 [01:02<00:00,  1.29it/s]\n",
      "Validate (1840 / 10 Steps): 100%|██████████| 18/18 [00:23<00:00,  1.29s/it]<00:09,  2.17it/s]\n",
      "Training (1900 / 18000 Steps) (loss=0.62794):  76%|███████▋  | 61/80 [00:53<02:21,  7.43s/it]"
     ]
    },
    {
     "name": "stdout",
     "output_type": "stream",
     "text": [
      "Model Was Not Saved ! Current Best Avg. Dice: 0.514558732509613 Current Avg. Dice: 0.50041264295578 Current Avg. tumor Dice: 0.5407711863517761 Current Avg. lymph Dice: 0.4790011942386627\n"
     ]
    },
    {
     "name": "stderr",
     "output_type": "stream",
     "text": [
      "Training (1919 / 18000 Steps) (loss=0.62179): 100%|██████████| 80/80 [01:02<00:00,  1.28it/s]\n",
      "Training (1999 / 18000 Steps) (loss=0.66058): 100%|██████████| 80/80 [00:39<00:00,  2.03it/s]\n",
      "Validate (2000 / 10 Steps): 100%|██████████| 18/18 [00:22<00:00,  1.27s/it]?, ?it/s]\n",
      "Training (2000 / 18000 Steps) (loss=0.70260):   1%|▏         | 1/80 [00:25<33:42, 25.61s/it]"
     ]
    },
    {
     "name": "stdout",
     "output_type": "stream",
     "text": [
      "Model Was Not Saved ! Current Best Avg. Dice: 0.514558732509613 Current Avg. Dice: 0.4945274591445923 Current Avg. tumor Dice: 0.5373745560646057 Current Avg. lymph Dice: 0.4586099684238434\n"
     ]
    },
    {
     "name": "stderr",
     "output_type": "stream",
     "text": [
      "Training (2079 / 18000 Steps) (loss=0.60049): 100%|██████████| 80/80 [01:01<00:00,  1.31it/s]\n",
      "Validate (2080 / 10 Steps): 100%|██████████| 18/18 [00:22<00:00,  1.26s/it]<00:27,  2.22it/s]\n",
      "Training (2100 / 18000 Steps) (loss=0.64861):  26%|██▋       | 21/80 [00:36<07:21,  7.48s/it]"
     ]
    },
    {
     "name": "stdout",
     "output_type": "stream",
     "text": [
      "Model Was Saved ! Current Best Avg. Dice: 0.541967511177063 Current Avg. Dice: 0.541967511177063 Current Avg. tumor Dice: 0.5716460347175598 Current Avg. lymph Dice: 0.5347164869308472\n"
     ]
    },
    {
     "name": "stderr",
     "output_type": "stream",
     "text": [
      "Training (2159 / 18000 Steps) (loss=0.59385): 100%|██████████| 80/80 [01:02<00:00,  1.28it/s]\n",
      "Validate (2160 / 10 Steps): 100%|██████████| 18/18 [00:22<00:00,  1.26s/it]<00:17,  2.24it/s]\n",
      "Training (2200 / 18000 Steps) (loss=0.63646):  51%|█████▏    | 41/80 [00:43<04:42,  7.24s/it]"
     ]
    },
    {
     "name": "stdout",
     "output_type": "stream",
     "text": [
      "Model Was Not Saved ! Current Best Avg. Dice: 0.541967511177063 Current Avg. Dice: 0.47005006670951843 Current Avg. tumor Dice: 0.4959661066532135 Current Avg. lymph Dice: 0.4677092134952545\n"
     ]
    },
    {
     "name": "stderr",
     "output_type": "stream",
     "text": [
      "Training (2239 / 18000 Steps) (loss=0.56569): 100%|██████████| 80/80 [01:01<00:00,  1.30it/s]\n",
      "Validate (2240 / 10 Steps): 100%|██████████| 18/18 [00:22<00:00,  1.26s/it]<00:09,  2.18it/s]\n",
      "Training (2300 / 18000 Steps) (loss=0.62550):  76%|███████▋  | 61/80 [00:53<02:21,  7.45s/it]"
     ]
    },
    {
     "name": "stdout",
     "output_type": "stream",
     "text": [
      "Model Was Saved ! Current Best Avg. Dice: 0.5638545751571655 Current Avg. Dice: 0.5638545751571655 Current Avg. tumor Dice: 0.5695492625236511 Current Avg. lymph Dice: 0.5804374814033508\n"
     ]
    },
    {
     "name": "stderr",
     "output_type": "stream",
     "text": [
      "Training (2319 / 18000 Steps) (loss=0.57681): 100%|██████████| 80/80 [01:01<00:00,  1.29it/s]\n",
      "Training (2399 / 18000 Steps) (loss=0.61566): 100%|██████████| 80/80 [00:38<00:00,  2.05it/s]\n",
      "Validate (2400 / 10 Steps): 100%|██████████| 18/18 [00:22<00:00,  1.27s/it]?, ?it/s]\n",
      "Training (2400 / 18000 Steps) (loss=0.63709):   1%|▏         | 1/80 [00:25<33:37, 25.53s/it]"
     ]
    },
    {
     "name": "stdout",
     "output_type": "stream",
     "text": [
      "Model Was Not Saved ! Current Best Avg. Dice: 0.5638545751571655 Current Avg. Dice: 0.5616824626922607 Current Avg. tumor Dice: 0.5743736624717712 Current Avg. lymph Dice: 0.5745255351066589\n"
     ]
    },
    {
     "name": "stderr",
     "output_type": "stream",
     "text": [
      "Training (2479 / 18000 Steps) (loss=0.66261): 100%|██████████| 80/80 [01:01<00:00,  1.31it/s]\n",
      "Validate (2480 / 10 Steps): 100%|██████████| 18/18 [00:22<00:00,  1.26s/it]<00:27,  2.22it/s]\n",
      "Training (2500 / 18000 Steps) (loss=0.58524):  26%|██▋       | 21/80 [00:34<07:09,  7.28s/it]"
     ]
    },
    {
     "name": "stdout",
     "output_type": "stream",
     "text": [
      "Model Was Not Saved ! Current Best Avg. Dice: 0.5638545751571655 Current Avg. Dice: 0.5501628518104553 Current Avg. tumor Dice: 0.5614314079284668 Current Avg. lymph Dice: 0.5648145079612732\n"
     ]
    },
    {
     "name": "stderr",
     "output_type": "stream",
     "text": [
      "Training (2559 / 18000 Steps) (loss=0.57692): 100%|██████████| 80/80 [01:01<00:00,  1.30it/s]\n",
      "Validate (2560 / 10 Steps): 100%|██████████| 18/18 [00:22<00:00,  1.27s/it]<00:18,  2.22it/s]\n",
      "Training (2600 / 18000 Steps) (loss=0.60140):  51%|█████▏    | 41/80 [00:45<04:54,  7.56s/it]"
     ]
    },
    {
     "name": "stdout",
     "output_type": "stream",
     "text": [
      "Model Was Saved ! Current Best Avg. Dice: 0.5736511945724487 Current Avg. Dice: 0.5736511945724487 Current Avg. tumor Dice: 0.5970233082771301 Current Avg. lymph Dice: 0.5697115063667297\n"
     ]
    },
    {
     "name": "stderr",
     "output_type": "stream",
     "text": [
      "Training (2639 / 18000 Steps) (loss=0.63671): 100%|██████████| 80/80 [01:03<00:00,  1.26it/s]\n",
      "Validate (2640 / 10 Steps): 100%|██████████| 18/18 [00:23<00:00,  1.30s/it]<00:09,  2.21it/s]\n",
      "Training (2700 / 18000 Steps) (loss=0.50796):  76%|███████▋  | 61/80 [00:53<02:22,  7.52s/it]"
     ]
    },
    {
     "name": "stdout",
     "output_type": "stream",
     "text": [
      "Model Was Not Saved ! Current Best Avg. Dice: 0.5736511945724487 Current Avg. Dice: 0.5563147068023682 Current Avg. tumor Dice: 0.5913117527961731 Current Avg. lymph Dice: 0.5435291528701782\n"
     ]
    },
    {
     "name": "stderr",
     "output_type": "stream",
     "text": [
      "Training (2719 / 18000 Steps) (loss=0.57173): 100%|██████████| 80/80 [01:02<00:00,  1.27it/s]\n",
      "Training (2799 / 18000 Steps) (loss=0.52556): 100%|██████████| 80/80 [00:38<00:00,  2.07it/s]\n",
      "Validate (2800 / 10 Steps): 100%|██████████| 18/18 [00:23<00:00,  1.28s/it]?, ?it/s]\n",
      "Training (2800 / 18000 Steps) (loss=0.57352):   1%|▏         | 1/80 [00:25<33:51, 25.71s/it]"
     ]
    },
    {
     "name": "stdout",
     "output_type": "stream",
     "text": [
      "Model Was Not Saved ! Current Best Avg. Dice: 0.5736511945724487 Current Avg. Dice: 0.5602115392684937 Current Avg. tumor Dice: 0.5708755254745483 Current Avg. lymph Dice: 0.5724453926086426\n"
     ]
    },
    {
     "name": "stderr",
     "output_type": "stream",
     "text": [
      "Training (2879 / 18000 Steps) (loss=0.56231): 100%|██████████| 80/80 [01:02<00:00,  1.29it/s]\n",
      "Validate (2880 / 10 Steps): 100%|██████████| 18/18 [00:22<00:00,  1.27s/it]<00:27,  2.16it/s]\n",
      "Training (2900 / 18000 Steps) (loss=0.52955):  26%|██▋       | 21/80 [00:35<07:11,  7.32s/it]"
     ]
    },
    {
     "name": "stdout",
     "output_type": "stream",
     "text": [
      "Model Was Not Saved ! Current Best Avg. Dice: 0.5736511945724487 Current Avg. Dice: 0.5662787556648254 Current Avg. tumor Dice: 0.5934271812438965 Current Avg. lymph Dice: 0.5614500045776367\n"
     ]
    },
    {
     "name": "stderr",
     "output_type": "stream",
     "text": [
      "Training (2959 / 18000 Steps) (loss=0.53878): 100%|██████████| 80/80 [01:02<00:00,  1.29it/s]\n",
      "Validate (2960 / 10 Steps): 100%|██████████| 18/18 [00:22<00:00,  1.26s/it]<00:17,  2.22it/s]\n",
      "Training (3000 / 18000 Steps) (loss=0.52859):  51%|█████▏    | 41/80 [00:44<04:50,  7.46s/it]"
     ]
    },
    {
     "name": "stdout",
     "output_type": "stream",
     "text": [
      "Model Was Saved ! Current Best Avg. Dice: 0.594925582408905 Current Avg. Dice: 0.594925582408905 Current Avg. tumor Dice: 0.6239475607872009 Current Avg. lymph Dice: 0.5914090871810913\n"
     ]
    },
    {
     "name": "stderr",
     "output_type": "stream",
     "text": [
      "Training (3039 / 18000 Steps) (loss=0.65211): 100%|██████████| 80/80 [01:02<00:00,  1.28it/s]\n",
      "Validate (3040 / 10 Steps): 100%|██████████| 18/18 [00:22<00:00,  1.26s/it]<00:08,  2.23it/s]\n",
      "Training (3100 / 18000 Steps) (loss=0.59061):  76%|███████▋  | 61/80 [00:52<02:18,  7.27s/it]"
     ]
    },
    {
     "name": "stdout",
     "output_type": "stream",
     "text": [
      "Model Was Not Saved ! Current Best Avg. Dice: 0.594925582408905 Current Avg. Dice: 0.5924524068832397 Current Avg. tumor Dice: 0.6212644577026367 Current Avg. lymph Dice: 0.5866393446922302\n"
     ]
    },
    {
     "name": "stderr",
     "output_type": "stream",
     "text": [
      "Training (3119 / 18000 Steps) (loss=0.51114): 100%|██████████| 80/80 [01:01<00:00,  1.31it/s]\n",
      "Training (3199 / 18000 Steps) (loss=0.46639): 100%|██████████| 80/80 [00:38<00:00,  2.05it/s]\n",
      "Validate (3200 / 10 Steps): 100%|██████████| 18/18 [00:22<00:00,  1.26s/it]?, ?it/s]\n",
      "Training (3200 / 18000 Steps) (loss=0.54291):   1%|▏         | 1/80 [00:25<33:29, 25.44s/it]"
     ]
    },
    {
     "name": "stdout",
     "output_type": "stream",
     "text": [
      "Model Was Not Saved ! Current Best Avg. Dice: 0.594925582408905 Current Avg. Dice: 0.5791253447532654 Current Avg. tumor Dice: 0.5814171433448792 Current Avg. lymph Dice: 0.6042212247848511\n"
     ]
    },
    {
     "name": "stderr",
     "output_type": "stream",
     "text": [
      "Training (3279 / 18000 Steps) (loss=0.56928): 100%|██████████| 80/80 [01:01<00:00,  1.31it/s]\n",
      "Validate (3280 / 10 Steps): 100%|██████████| 18/18 [00:22<00:00,  1.27s/it]<00:27,  2.20it/s]\n",
      "Training (3300 / 18000 Steps) (loss=0.60515):  26%|██▋       | 21/80 [00:35<07:23,  7.52s/it]"
     ]
    },
    {
     "name": "stdout",
     "output_type": "stream",
     "text": [
      "Model Was Saved ! Current Best Avg. Dice: 0.597666323184967 Current Avg. Dice: 0.597666323184967 Current Avg. tumor Dice: 0.616511881351471 Current Avg. lymph Dice: 0.6046406626701355\n"
     ]
    },
    {
     "name": "stderr",
     "output_type": "stream",
     "text": [
      "Training (3359 / 18000 Steps) (loss=0.58872): 100%|██████████| 80/80 [01:02<00:00,  1.28it/s]\n",
      "Validate (3360 / 10 Steps): 100%|██████████| 18/18 [00:22<00:00,  1.26s/it]<00:17,  2.23it/s]\n",
      "Training (3400 / 18000 Steps) (loss=0.54755):  51%|█████▏    | 41/80 [00:44<04:52,  7.50s/it]"
     ]
    },
    {
     "name": "stdout",
     "output_type": "stream",
     "text": [
      "Model Was Saved ! Current Best Avg. Dice: 0.6016804575920105 Current Avg. Dice: 0.6016804575920105 Current Avg. tumor Dice: 0.6299101710319519 Current Avg. lymph Dice: 0.594050407409668\n"
     ]
    },
    {
     "name": "stderr",
     "output_type": "stream",
     "text": [
      "Training (3439 / 18000 Steps) (loss=0.52345): 100%|██████████| 80/80 [01:02<00:00,  1.28it/s]\n",
      "Validate (3440 / 10 Steps): 100%|██████████| 18/18 [00:22<00:00,  1.28s/it]<00:09,  2.11it/s]\n",
      "Training (3500 / 18000 Steps) (loss=0.57075):  76%|███████▋  | 61/80 [00:53<02:20,  7.39s/it]"
     ]
    },
    {
     "name": "stdout",
     "output_type": "stream",
     "text": [
      "Model Was Not Saved ! Current Best Avg. Dice: 0.6016804575920105 Current Avg. Dice: 0.5905495882034302 Current Avg. tumor Dice: 0.6153460741043091 Current Avg. lymph Dice: 0.5870139598846436\n"
     ]
    },
    {
     "name": "stderr",
     "output_type": "stream",
     "text": [
      "Training (3519 / 18000 Steps) (loss=0.42912): 100%|██████████| 80/80 [01:01<00:00,  1.29it/s]\n",
      "Training (3599 / 18000 Steps) (loss=0.46707): 100%|██████████| 80/80 [00:38<00:00,  2.08it/s]\n",
      "Validate (3600 / 10 Steps): 100%|██████████| 18/18 [00:23<00:00,  1.29s/it]?, ?it/s]\n",
      "Training (3600 / 18000 Steps) (loss=0.60646):   1%|▏         | 1/80 [00:26<34:29, 26.19s/it]"
     ]
    },
    {
     "name": "stdout",
     "output_type": "stream",
     "text": [
      "Model Was Not Saved ! Current Best Avg. Dice: 0.6016804575920105 Current Avg. Dice: 0.5358613729476929 Current Avg. tumor Dice: 0.5274353623390198 Current Avg. lymph Dice: 0.562168300151825\n"
     ]
    },
    {
     "name": "stderr",
     "output_type": "stream",
     "text": [
      "Training (3679 / 18000 Steps) (loss=0.54400): 100%|██████████| 80/80 [01:01<00:00,  1.29it/s]\n",
      "Validate (3680 / 10 Steps): 100%|██████████| 18/18 [00:22<00:00,  1.26s/it]<00:27,  2.16it/s]\n",
      "Training (3700 / 18000 Steps) (loss=0.43517):  26%|██▋       | 21/80 [00:35<07:08,  7.27s/it]"
     ]
    },
    {
     "name": "stdout",
     "output_type": "stream",
     "text": [
      "Model Was Not Saved ! Current Best Avg. Dice: 0.6016804575920105 Current Avg. Dice: 0.5825953483581543 Current Avg. tumor Dice: 0.6136388778686523 Current Avg. lymph Dice: 0.5777338147163391\n"
     ]
    },
    {
     "name": "stderr",
     "output_type": "stream",
     "text": [
      "Training (3759 / 18000 Steps) (loss=0.35031): 100%|██████████| 80/80 [01:01<00:00,  1.30it/s]\n",
      "Validate (3760 / 10 Steps): 100%|██████████| 18/18 [00:22<00:00,  1.27s/it]<00:17,  2.23it/s]\n",
      "Training (3800 / 18000 Steps) (loss=0.54969):  51%|█████▏    | 41/80 [00:44<04:54,  7.54s/it]"
     ]
    },
    {
     "name": "stdout",
     "output_type": "stream",
     "text": [
      "Model Was Saved ! Current Best Avg. Dice: 0.6125237345695496 Current Avg. Dice: 0.6125237345695496 Current Avg. tumor Dice: 0.6399646401405334 Current Avg. lymph Dice: 0.6094980835914612\n"
     ]
    },
    {
     "name": "stderr",
     "output_type": "stream",
     "text": [
      "Training (3839 / 18000 Steps) (loss=0.61698): 100%|██████████| 80/80 [01:02<00:00,  1.28it/s]\n",
      "Validate (3840 / 10 Steps): 100%|██████████| 18/18 [00:22<00:00,  1.27s/it]<00:09,  2.22it/s]\n",
      "Training (3900 / 18000 Steps) (loss=0.55917):  76%|███████▋  | 61/80 [00:53<02:22,  7.52s/it]"
     ]
    },
    {
     "name": "stdout",
     "output_type": "stream",
     "text": [
      "Model Was Saved ! Current Best Avg. Dice: 0.6157864332199097 Current Avg. Dice: 0.6157864332199097 Current Avg. tumor Dice: 0.6291599869728088 Current Avg. lymph Dice: 0.6199216842651367\n"
     ]
    },
    {
     "name": "stderr",
     "output_type": "stream",
     "text": [
      "Training (3919 / 18000 Steps) (loss=0.58283): 100%|██████████| 80/80 [01:02<00:00,  1.28it/s]\n",
      "Training (3999 / 18000 Steps) (loss=0.44020): 100%|██████████| 80/80 [00:39<00:00,  2.02it/s]\n",
      "Validate (4000 / 10 Steps): 100%|██████████| 18/18 [00:22<00:00,  1.27s/it]?, ?it/s]\n",
      "Training (4000 / 18000 Steps) (loss=0.38687):   1%|▏         | 1/80 [00:26<34:16, 26.03s/it]"
     ]
    },
    {
     "name": "stdout",
     "output_type": "stream",
     "text": [
      "Model Was Not Saved ! Current Best Avg. Dice: 0.6157864332199097 Current Avg. Dice: 0.5774136781692505 Current Avg. tumor Dice: 0.5969423055648804 Current Avg. lymph Dice: 0.5790886282920837\n"
     ]
    },
    {
     "name": "stderr",
     "output_type": "stream",
     "text": [
      "Training (4079 / 18000 Steps) (loss=0.51810): 100%|██████████| 80/80 [01:02<00:00,  1.29it/s]\n",
      "Validate (4080 / 10 Steps): 100%|██████████| 18/18 [00:22<00:00,  1.27s/it]<00:27,  2.22it/s]\n",
      "Training (4100 / 18000 Steps) (loss=0.45667):  26%|██▋       | 21/80 [00:35<07:13,  7.35s/it]"
     ]
    },
    {
     "name": "stdout",
     "output_type": "stream",
     "text": [
      "Model Was Not Saved ! Current Best Avg. Dice: 0.6157864332199097 Current Avg. Dice: 0.6023857593536377 Current Avg. tumor Dice: 0.6228690147399902 Current Avg. lymph Dice: 0.6074857711791992\n"
     ]
    },
    {
     "name": "stderr",
     "output_type": "stream",
     "text": [
      "Training (4159 / 18000 Steps) (loss=0.57319): 100%|██████████| 80/80 [01:02<00:00,  1.28it/s]\n",
      "Validate (4160 / 10 Steps): 100%|██████████| 18/18 [00:22<00:00,  1.26s/it]<00:18,  2.22it/s]\n",
      "Training (4200 / 18000 Steps) (loss=0.45370):  51%|█████▏    | 41/80 [00:43<04:44,  7.29s/it]"
     ]
    },
    {
     "name": "stdout",
     "output_type": "stream",
     "text": [
      "Model Was Not Saved ! Current Best Avg. Dice: 0.6157864332199097 Current Avg. Dice: 0.5968245267868042 Current Avg. tumor Dice: 0.5939348340034485 Current Avg. lymph Dice: 0.6192412972450256\n"
     ]
    },
    {
     "name": "stderr",
     "output_type": "stream",
     "text": [
      "Training (4239 / 18000 Steps) (loss=0.58312): 100%|██████████| 80/80 [01:01<00:00,  1.31it/s]\n",
      "Validate (4240 / 10 Steps): 100%|██████████| 18/18 [00:22<00:00,  1.27s/it]<00:09,  2.18it/s]\n",
      "Training (4300 / 18000 Steps) (loss=0.40083):  76%|███████▋  | 61/80 [00:52<02:19,  7.36s/it]"
     ]
    },
    {
     "name": "stdout",
     "output_type": "stream",
     "text": [
      "Model Was Not Saved ! Current Best Avg. Dice: 0.6157864332199097 Current Avg. Dice: 0.5687810182571411 Current Avg. tumor Dice: 0.6022466421127319 Current Avg. lymph Dice: 0.555760383605957\n"
     ]
    },
    {
     "name": "stderr",
     "output_type": "stream",
     "text": [
      "Training (4319 / 18000 Steps) (loss=0.51329): 100%|██████████| 80/80 [01:01<00:00,  1.30it/s]\n",
      "Training (4399 / 18000 Steps) (loss=0.56228): 100%|██████████| 80/80 [00:38<00:00,  2.09it/s]\n",
      "Validate (4400 / 10 Steps): 100%|██████████| 18/18 [00:22<00:00,  1.26s/it]?, ?it/s]\n",
      "Training (4400 / 18000 Steps) (loss=0.49325):   1%|▏         | 1/80 [00:25<34:09, 25.94s/it]"
     ]
    },
    {
     "name": "stdout",
     "output_type": "stream",
     "text": [
      "Model Was Not Saved ! Current Best Avg. Dice: 0.6157864332199097 Current Avg. Dice: 0.5730441212654114 Current Avg. tumor Dice: 0.5845445394515991 Current Avg. lymph Dice: 0.5876762270927429\n"
     ]
    },
    {
     "name": "stderr",
     "output_type": "stream",
     "text": [
      "Training (4479 / 18000 Steps) (loss=0.51234): 100%|██████████| 80/80 [01:01<00:00,  1.30it/s]\n",
      "Validate (4480 / 10 Steps): 100%|██████████| 18/18 [00:22<00:00,  1.26s/it]<00:26,  2.23it/s]\n",
      "Training (4500 / 18000 Steps) (loss=0.49684):  26%|██▋       | 21/80 [00:35<07:10,  7.30s/it]"
     ]
    },
    {
     "name": "stdout",
     "output_type": "stream",
     "text": [
      "Model Was Not Saved ! Current Best Avg. Dice: 0.6157864332199097 Current Avg. Dice: 0.574007511138916 Current Avg. tumor Dice: 0.5916998982429504 Current Avg. lymph Dice: 0.5819558501243591\n"
     ]
    },
    {
     "name": "stderr",
     "output_type": "stream",
     "text": [
      "Training (4559 / 18000 Steps) (loss=0.52113): 100%|██████████| 80/80 [01:02<00:00,  1.29it/s]\n",
      "Validate (4560 / 10 Steps): 100%|██████████| 18/18 [00:22<00:00,  1.26s/it]<00:17,  2.24it/s]\n",
      "Training (4600 / 18000 Steps) (loss=0.51094):  51%|█████▏    | 41/80 [00:43<04:43,  7.26s/it]"
     ]
    },
    {
     "name": "stdout",
     "output_type": "stream",
     "text": [
      "Model Was Not Saved ! Current Best Avg. Dice: 0.6157864332199097 Current Avg. Dice: 0.6104899048805237 Current Avg. tumor Dice: 0.6340411305427551 Current Avg. lymph Dice: 0.6097944974899292\n"
     ]
    },
    {
     "name": "stderr",
     "output_type": "stream",
     "text": [
      "Training (4639 / 18000 Steps) (loss=0.43812): 100%|██████████| 80/80 [01:01<00:00,  1.30it/s]\n",
      "Validate (4640 / 10 Steps): 100%|██████████| 18/18 [00:22<00:00,  1.28s/it]<00:09,  2.18it/s]\n",
      "Training (4700 / 18000 Steps) (loss=0.50114):  76%|███████▋  | 61/80 [00:53<02:20,  7.38s/it]"
     ]
    },
    {
     "name": "stdout",
     "output_type": "stream",
     "text": [
      "Model Was Not Saved ! Current Best Avg. Dice: 0.6157864332199097 Current Avg. Dice: 0.5971333384513855 Current Avg. tumor Dice: 0.6245700120925903 Current Avg. lymph Dice: 0.5948886871337891\n"
     ]
    },
    {
     "name": "stderr",
     "output_type": "stream",
     "text": [
      "Training (4719 / 18000 Steps) (loss=0.37291): 100%|██████████| 80/80 [01:01<00:00,  1.29it/s]\n",
      "Training (4799 / 18000 Steps) (loss=0.64498): 100%|██████████| 80/80 [00:39<00:00,  2.01it/s]\n",
      "Validate (4800 / 10 Steps): 100%|██████████| 18/18 [00:22<00:00,  1.27s/it]?, ?it/s]\n",
      "Training (4800 / 18000 Steps) (loss=0.52046):   1%|▏         | 1/80 [00:25<34:13, 25.99s/it]"
     ]
    },
    {
     "name": "stdout",
     "output_type": "stream",
     "text": [
      "Model Was Not Saved ! Current Best Avg. Dice: 0.6157864332199097 Current Avg. Dice: 0.5985718965530396 Current Avg. tumor Dice: 0.6246656179428101 Current Avg. lymph Dice: 0.5972951054573059\n"
     ]
    },
    {
     "name": "stderr",
     "output_type": "stream",
     "text": [
      "Training (4879 / 18000 Steps) (loss=0.53710): 100%|██████████| 80/80 [01:01<00:00,  1.30it/s]\n",
      "Validate (4880 / 10 Steps): 100%|██████████| 18/18 [00:22<00:00,  1.27s/it]<00:26,  2.22it/s]\n",
      "Training (4900 / 18000 Steps) (loss=0.40235):  26%|██▋       | 21/80 [00:35<07:12,  7.33s/it]"
     ]
    },
    {
     "name": "stdout",
     "output_type": "stream",
     "text": [
      "Model Was Not Saved ! Current Best Avg. Dice: 0.6157864332199097 Current Avg. Dice: 0.5629140138626099 Current Avg. tumor Dice: 0.5854878425598145 Current Avg. lymph Dice: 0.5684669613838196\n"
     ]
    },
    {
     "name": "stderr",
     "output_type": "stream",
     "text": [
      "Training (4959 / 18000 Steps) (loss=0.57769): 100%|██████████| 80/80 [01:02<00:00,  1.29it/s]\n",
      "Validate (4960 / 10 Steps): 100%|██████████| 18/18 [00:22<00:00,  1.27s/it]<00:18,  2.17it/s]\n",
      "Training (5000 / 18000 Steps) (loss=0.50722):  51%|█████▏    | 41/80 [00:44<04:45,  7.31s/it]"
     ]
    },
    {
     "name": "stdout",
     "output_type": "stream",
     "text": [
      "Model Was Not Saved ! Current Best Avg. Dice: 0.6157864332199097 Current Avg. Dice: 0.5828890800476074 Current Avg. tumor Dice: 0.6319556832313538 Current Avg. lymph Dice: 0.5583983063697815\n"
     ]
    },
    {
     "name": "stderr",
     "output_type": "stream",
     "text": [
      "Training (5039 / 18000 Steps) (loss=0.63396): 100%|██████████| 80/80 [01:01<00:00,  1.29it/s]\n",
      "Validate (5040 / 10 Steps): 100%|██████████| 18/18 [00:22<00:00,  1.27s/it]<00:09,  2.22it/s]\n",
      "Training (5100 / 18000 Steps) (loss=0.51913):  76%|███████▋  | 61/80 [00:52<02:19,  7.35s/it]"
     ]
    },
    {
     "name": "stdout",
     "output_type": "stream",
     "text": [
      "Model Was Not Saved ! Current Best Avg. Dice: 0.6157864332199097 Current Avg. Dice: 0.5646333694458008 Current Avg. tumor Dice: 0.5616753697395325 Current Avg. lymph Dice: 0.5949670672416687\n"
     ]
    },
    {
     "name": "stderr",
     "output_type": "stream",
     "text": [
      "Training (5119 / 18000 Steps) (loss=0.51959): 100%|██████████| 80/80 [01:01<00:00,  1.30it/s]\n",
      "Training (5199 / 18000 Steps) (loss=0.50217): 100%|██████████| 80/80 [00:38<00:00,  2.09it/s]\n",
      "Validate (5200 / 10 Steps): 100%|██████████| 18/18 [00:22<00:00,  1.26s/it]?, ?it/s]\n",
      "Training (5200 / 18000 Steps) (loss=0.64174):   1%|▏         | 1/80 [00:26<34:36, 26.28s/it]"
     ]
    },
    {
     "name": "stdout",
     "output_type": "stream",
     "text": [
      "Model Was Saved ! Current Best Avg. Dice: 0.6235623359680176 Current Avg. Dice: 0.6235623359680176 Current Avg. tumor Dice: 0.6522337198257446 Current Avg. lymph Dice: 0.6199471354484558\n"
     ]
    },
    {
     "name": "stderr",
     "output_type": "stream",
     "text": [
      "Training (5279 / 18000 Steps) (loss=0.49111): 100%|██████████| 80/80 [01:01<00:00,  1.30it/s]\n",
      "Validate (5280 / 10 Steps): 100%|██████████| 18/18 [00:22<00:00,  1.26s/it]<00:26,  2.23it/s]\n",
      "Training (5300 / 18000 Steps) (loss=0.43944):  26%|██▋       | 21/80 [00:35<07:09,  7.27s/it]"
     ]
    },
    {
     "name": "stdout",
     "output_type": "stream",
     "text": [
      "Model Was Not Saved ! Current Best Avg. Dice: 0.6235623359680176 Current Avg. Dice: 0.5840103030204773 Current Avg. tumor Dice: 0.6045646071434021 Current Avg. lymph Dice: 0.5883775353431702\n"
     ]
    },
    {
     "name": "stderr",
     "output_type": "stream",
     "text": [
      "Training (5359 / 18000 Steps) (loss=0.49118): 100%|██████████| 80/80 [01:02<00:00,  1.28it/s]\n",
      "Validate (5360 / 10 Steps): 100%|██████████| 18/18 [00:22<00:00,  1.27s/it]<00:19,  2.05it/s]\n",
      "Training (5400 / 18000 Steps) (loss=0.53793):  51%|█████▏    | 41/80 [00:44<04:47,  7.36s/it]"
     ]
    },
    {
     "name": "stdout",
     "output_type": "stream",
     "text": [
      "Model Was Not Saved ! Current Best Avg. Dice: 0.6235623359680176 Current Avg. Dice: 0.6121723651885986 Current Avg. tumor Dice: 0.6294212341308594 Current Avg. lymph Dice: 0.6181358695030212\n"
     ]
    },
    {
     "name": "stderr",
     "output_type": "stream",
     "text": [
      "Training (5439 / 18000 Steps) (loss=0.53604): 100%|██████████| 80/80 [01:01<00:00,  1.29it/s]\n",
      "Validate (5440 / 10 Steps): 100%|██████████| 18/18 [00:22<00:00,  1.27s/it]<00:09,  2.17it/s]\n",
      "Training (5500 / 18000 Steps) (loss=0.49622):  76%|███████▋  | 61/80 [00:53<02:19,  7.35s/it]"
     ]
    },
    {
     "name": "stdout",
     "output_type": "stream",
     "text": [
      "Model Was Not Saved ! Current Best Avg. Dice: 0.6235623359680176 Current Avg. Dice: 0.607750415802002 Current Avg. tumor Dice: 0.6284157633781433 Current Avg. lymph Dice: 0.6075515747070312\n"
     ]
    },
    {
     "name": "stderr",
     "output_type": "stream",
     "text": [
      "Training (5519 / 18000 Steps) (loss=0.50222): 100%|██████████| 80/80 [01:02<00:00,  1.28it/s]\n",
      "Training (5599 / 18000 Steps) (loss=0.54777): 100%|██████████| 80/80 [00:39<00:00,  2.05it/s]\n",
      "Validate (5600 / 10 Steps): 100%|██████████| 18/18 [00:22<00:00,  1.27s/it]?, ?it/s]\n",
      "Training (5600 / 18000 Steps) (loss=0.40399):   1%|▏         | 1/80 [00:25<34:08, 25.93s/it]"
     ]
    },
    {
     "name": "stdout",
     "output_type": "stream",
     "text": [
      "Model Was Not Saved ! Current Best Avg. Dice: 0.6235623359680176 Current Avg. Dice: 0.5187625885009766 Current Avg. tumor Dice: 0.5044745802879333 Current Avg. lymph Dice: 0.54957115650177\n"
     ]
    },
    {
     "name": "stderr",
     "output_type": "stream",
     "text": [
      "Training (5679 / 18000 Steps) (loss=0.57678): 100%|██████████| 80/80 [01:02<00:00,  1.28it/s]\n",
      "Validate (5680 / 10 Steps): 100%|██████████| 18/18 [00:22<00:00,  1.27s/it]<00:26,  2.23it/s]\n",
      "Training (5700 / 18000 Steps) (loss=0.56616):  26%|██▋       | 21/80 [00:34<07:10,  7.30s/it]"
     ]
    },
    {
     "name": "stdout",
     "output_type": "stream",
     "text": [
      "Model Was Not Saved ! Current Best Avg. Dice: 0.6235623359680176 Current Avg. Dice: 0.5719669461250305 Current Avg. tumor Dice: 0.5747923851013184 Current Avg. lymph Dice: 0.5845215320587158\n"
     ]
    },
    {
     "name": "stderr",
     "output_type": "stream",
     "text": [
      "Training (5759 / 18000 Steps) (loss=0.52296): 100%|██████████| 80/80 [01:01<00:00,  1.30it/s]\n",
      "Validate (5760 / 10 Steps): 100%|██████████| 18/18 [00:23<00:00,  1.28s/it]<00:17,  2.23it/s]\n",
      "Training (5800 / 18000 Steps) (loss=0.53681):  51%|█████▏    | 41/80 [00:43<04:47,  7.38s/it]"
     ]
    },
    {
     "name": "stdout",
     "output_type": "stream",
     "text": [
      "Model Was Not Saved ! Current Best Avg. Dice: 0.6235623359680176 Current Avg. Dice: 0.6013648509979248 Current Avg. tumor Dice: 0.6267178058624268 Current Avg. lymph Dice: 0.5951735377311707\n"
     ]
    },
    {
     "name": "stderr",
     "output_type": "stream",
     "text": [
      "Training (5839 / 18000 Steps) (loss=0.49423): 100%|██████████| 80/80 [01:01<00:00,  1.30it/s]\n",
      "Validate (5840 / 10 Steps): 100%|██████████| 18/18 [00:23<00:00,  1.28s/it]<00:08,  2.23it/s]\n",
      "Training (5900 / 18000 Steps) (loss=0.35491):  76%|███████▋  | 61/80 [00:53<02:20,  7.40s/it]"
     ]
    },
    {
     "name": "stdout",
     "output_type": "stream",
     "text": [
      "Model Was Not Saved ! Current Best Avg. Dice: 0.6235623359680176 Current Avg. Dice: 0.5888744592666626 Current Avg. tumor Dice: 0.6209162473678589 Current Avg. lymph Dice: 0.5798261761665344\n"
     ]
    },
    {
     "name": "stderr",
     "output_type": "stream",
     "text": [
      "Training (5919 / 18000 Steps) (loss=0.46905): 100%|██████████| 80/80 [01:01<00:00,  1.29it/s]\n",
      "Training (5999 / 18000 Steps) (loss=0.55592): 100%|██████████| 80/80 [00:38<00:00,  2.08it/s]\n",
      "Validate (6000 / 10 Steps): 100%|██████████| 18/18 [00:22<00:00,  1.26s/it]?, ?it/s]\n",
      "Training (6000 / 18000 Steps) (loss=0.56368):   1%|▏         | 1/80 [00:25<33:48, 25.68s/it]"
     ]
    },
    {
     "name": "stdout",
     "output_type": "stream",
     "text": [
      "Model Was Not Saved ! Current Best Avg. Dice: 0.6235623359680176 Current Avg. Dice: 0.583023190498352 Current Avg. tumor Dice: 0.611470639705658 Current Avg. lymph Dice: 0.5778549909591675\n"
     ]
    },
    {
     "name": "stderr",
     "output_type": "stream",
     "text": [
      "Training (6079 / 18000 Steps) (loss=0.43359): 100%|██████████| 80/80 [01:01<00:00,  1.30it/s]\n",
      "Validate (6080 / 10 Steps): 100%|██████████| 18/18 [00:22<00:00,  1.26s/it]<00:27,  2.22it/s]\n",
      "Training (6100 / 18000 Steps) (loss=0.42792):  26%|██▋       | 21/80 [00:34<07:08,  7.26s/it]"
     ]
    },
    {
     "name": "stdout",
     "output_type": "stream",
     "text": [
      "Model Was Not Saved ! Current Best Avg. Dice: 0.6235623359680176 Current Avg. Dice: 0.6000998020172119 Current Avg. tumor Dice: 0.6273014545440674 Current Avg. lymph Dice: 0.594365119934082\n"
     ]
    },
    {
     "name": "stderr",
     "output_type": "stream",
     "text": [
      "Training (6159 / 18000 Steps) (loss=0.45295): 100%|██████████| 80/80 [01:01<00:00,  1.31it/s]\n",
      "Validate (6160 / 10 Steps): 100%|██████████| 18/18 [00:22<00:00,  1.25s/it]<00:17,  2.23it/s]\n",
      "Training (6200 / 18000 Steps) (loss=0.58483):  51%|█████▏    | 41/80 [00:43<04:41,  7.22s/it]"
     ]
    },
    {
     "name": "stdout",
     "output_type": "stream",
     "text": [
      "Model Was Not Saved ! Current Best Avg. Dice: 0.6235623359680176 Current Avg. Dice: 0.6203762888908386 Current Avg. tumor Dice: 0.6423126459121704 Current Avg. lymph Dice: 0.6175326108932495\n"
     ]
    },
    {
     "name": "stderr",
     "output_type": "stream",
     "text": [
      "Training (6239 / 18000 Steps) (loss=0.61933): 100%|██████████| 80/80 [01:01<00:00,  1.30it/s]\n",
      "Validate (6240 / 10 Steps): 100%|██████████| 18/18 [00:22<00:00,  1.26s/it]<00:08,  2.22it/s]\n",
      "Training (6300 / 18000 Steps) (loss=0.22985):  76%|███████▋  | 61/80 [00:52<02:17,  7.26s/it]"
     ]
    },
    {
     "name": "stdout",
     "output_type": "stream",
     "text": [
      "Model Was Not Saved ! Current Best Avg. Dice: 0.6235623359680176 Current Avg. Dice: 0.5947849750518799 Current Avg. tumor Dice: 0.6205785274505615 Current Avg. lymph Dice: 0.5891256332397461\n"
     ]
    },
    {
     "name": "stderr",
     "output_type": "stream",
     "text": [
      "Training (6319 / 18000 Steps) (loss=0.38151): 100%|██████████| 80/80 [01:01<00:00,  1.30it/s]\n",
      "Training (6399 / 18000 Steps) (loss=0.42414): 100%|██████████| 80/80 [00:39<00:00,  2.04it/s]\n",
      "Validate (6400 / 10 Steps): 100%|██████████| 18/18 [00:22<00:00,  1.27s/it]?, ?it/s]\n",
      "Training (6400 / 18000 Steps) (loss=0.38816):   1%|▏         | 1/80 [00:25<34:13, 25.99s/it]"
     ]
    },
    {
     "name": "stdout",
     "output_type": "stream",
     "text": [
      "Model Was Not Saved ! Current Best Avg. Dice: 0.6235623359680176 Current Avg. Dice: 0.5996197462081909 Current Avg. tumor Dice: 0.626086950302124 Current Avg. lymph Dice: 0.5919904708862305\n"
     ]
    },
    {
     "name": "stderr",
     "output_type": "stream",
     "text": [
      "Training (6479 / 18000 Steps) (loss=0.46478): 100%|██████████| 80/80 [01:01<00:00,  1.30it/s]\n",
      "Validate (6480 / 10 Steps): 100%|██████████| 18/18 [00:22<00:00,  1.26s/it]<00:26,  2.23it/s]\n",
      "Training (6500 / 18000 Steps) (loss=0.48867):  26%|██▋       | 21/80 [00:35<07:09,  7.28s/it]"
     ]
    },
    {
     "name": "stdout",
     "output_type": "stream",
     "text": [
      "Model Was Not Saved ! Current Best Avg. Dice: 0.6235623359680176 Current Avg. Dice: 0.6103454232215881 Current Avg. tumor Dice: 0.6361870169639587 Current Avg. lymph Dice: 0.6108670830726624\n"
     ]
    },
    {
     "name": "stderr",
     "output_type": "stream",
     "text": [
      "Training (6559 / 18000 Steps) (loss=0.50912): 100%|██████████| 80/80 [01:01<00:00,  1.30it/s]\n",
      "Validate (6560 / 10 Steps): 100%|██████████| 18/18 [00:22<00:00,  1.28s/it]<00:18,  2.19it/s]\n",
      "Training (6600 / 18000 Steps) (loss=0.44238):  51%|█████▏    | 41/80 [00:44<04:47,  7.37s/it]"
     ]
    },
    {
     "name": "stdout",
     "output_type": "stream",
     "text": [
      "Model Was Not Saved ! Current Best Avg. Dice: 0.6235623359680176 Current Avg. Dice: 0.5874321460723877 Current Avg. tumor Dice: 0.6242300868034363 Current Avg. lymph Dice: 0.575084924697876\n"
     ]
    },
    {
     "name": "stderr",
     "output_type": "stream",
     "text": [
      "Training (6639 / 18000 Steps) (loss=0.55555): 100%|██████████| 80/80 [01:02<00:00,  1.29it/s]\n",
      "Validate (6640 / 10 Steps): 100%|██████████| 18/18 [00:22<00:00,  1.27s/it]<00:08,  2.23it/s]\n",
      "Training (6700 / 18000 Steps) (loss=0.35694):  76%|███████▋  | 61/80 [00:52<02:18,  7.30s/it]"
     ]
    },
    {
     "name": "stdout",
     "output_type": "stream",
     "text": [
      "Model Was Not Saved ! Current Best Avg. Dice: 0.6235623359680176 Current Avg. Dice: 0.6156986951828003 Current Avg. tumor Dice: 0.6320534348487854 Current Avg. lymph Dice: 0.6187039017677307\n"
     ]
    },
    {
     "name": "stderr",
     "output_type": "stream",
     "text": [
      "Training (6719 / 18000 Steps) (loss=0.44109): 100%|██████████| 80/80 [01:01<00:00,  1.30it/s]\n",
      "Training (6799 / 18000 Steps) (loss=0.50521): 100%|██████████| 80/80 [00:38<00:00,  2.07it/s]\n",
      "Validate (6800 / 10 Steps): 100%|██████████| 18/18 [00:22<00:00,  1.27s/it]?, ?it/s]\n",
      "Training (6800 / 18000 Steps) (loss=0.47074):   1%|▏         | 1/80 [00:25<33:36, 25.52s/it]"
     ]
    },
    {
     "name": "stdout",
     "output_type": "stream",
     "text": [
      "Model Was Not Saved ! Current Best Avg. Dice: 0.6235623359680176 Current Avg. Dice: 0.6056676506996155 Current Avg. tumor Dice: 0.6197920441627502 Current Avg. lymph Dice: 0.6182441711425781\n"
     ]
    },
    {
     "name": "stderr",
     "output_type": "stream",
     "text": [
      "Training (6879 / 18000 Steps) (loss=0.36432): 100%|██████████| 80/80 [01:01<00:00,  1.30it/s]\n",
      "Validate (6880 / 10 Steps): 100%|██████████| 18/18 [00:22<00:00,  1.27s/it]<00:27,  2.15it/s]\n",
      "Training (6900 / 18000 Steps) (loss=0.46275):  26%|██▋       | 21/80 [00:35<07:25,  7.55s/it]"
     ]
    },
    {
     "name": "stdout",
     "output_type": "stream",
     "text": [
      "Model Was Saved ! Current Best Avg. Dice: 0.6254328489303589 Current Avg. Dice: 0.6254328489303589 Current Avg. tumor Dice: 0.6562091112136841 Current Avg. lymph Dice: 0.6210115551948547\n"
     ]
    },
    {
     "name": "stderr",
     "output_type": "stream",
     "text": [
      "Training (6959 / 18000 Steps) (loss=0.35025): 100%|██████████| 80/80 [01:02<00:00,  1.28it/s]\n",
      "Validate (6960 / 10 Steps): 100%|██████████| 18/18 [00:22<00:00,  1.26s/it]<00:18,  2.18it/s]\n",
      "Training (7000 / 18000 Steps) (loss=0.49656):  51%|█████▏    | 41/80 [00:44<04:44,  7.30s/it]"
     ]
    },
    {
     "name": "stdout",
     "output_type": "stream",
     "text": [
      "Model Was Not Saved ! Current Best Avg. Dice: 0.6254328489303589 Current Avg. Dice: 0.611891508102417 Current Avg. tumor Dice: 0.6473143696784973 Current Avg. lymph Dice: 0.6009077429771423\n"
     ]
    },
    {
     "name": "stderr",
     "output_type": "stream",
     "text": [
      "Training (7039 / 18000 Steps) (loss=0.51737): 100%|██████████| 80/80 [01:02<00:00,  1.28it/s]\n",
      "Validate (7040 / 10 Steps): 100%|██████████| 18/18 [00:43<00:00,  2.42s/it]<00:09,  2.13it/s]\n",
      "Training (7100 / 18000 Steps) (loss=0.46048):  76%|███████▋  | 61/80 [01:16<04:17, 13.57s/it]"
     ]
    },
    {
     "name": "stdout",
     "output_type": "stream",
     "text": [
      "Model Was Not Saved ! Current Best Avg. Dice: 0.6254328489303589 Current Avg. Dice: 0.5755009651184082 Current Avg. tumor Dice: 0.6119311451911926 Current Avg. lymph Dice: 0.5667162537574768\n"
     ]
    },
    {
     "name": "stderr",
     "output_type": "stream",
     "text": [
      "Training (7119 / 18000 Steps) (loss=0.47511): 100%|██████████| 80/80 [01:29<00:00,  1.12s/it]\n",
      "Training (7199 / 18000 Steps) (loss=0.41168): 100%|██████████| 80/80 [00:39<00:00,  2.01it/s]\n",
      "Validate (7200 / 10 Steps): 100%|██████████| 18/18 [00:22<00:00,  1.26s/it]?, ?it/s]\n",
      "Training (7200 / 18000 Steps) (loss=0.42830):   1%|▏         | 1/80 [00:26<34:25, 26.15s/it]"
     ]
    },
    {
     "name": "stdout",
     "output_type": "stream",
     "text": [
      "Model Was Saved ! Current Best Avg. Dice: 0.6470405459403992 Current Avg. Dice: 0.6470405459403992 Current Avg. tumor Dice: 0.6760098338127136 Current Avg. lymph Dice: 0.636495053768158\n"
     ]
    },
    {
     "name": "stderr",
     "output_type": "stream",
     "text": [
      "Training (7279 / 18000 Steps) (loss=0.56465): 100%|██████████| 80/80 [01:02<00:00,  1.29it/s]\n",
      "Validate (7280 / 10 Steps): 100%|██████████| 18/18 [00:22<00:00,  1.26s/it]<00:26,  2.22it/s]\n",
      "Training (7300 / 18000 Steps) (loss=0.42463):  26%|██▋       | 21/80 [00:34<07:09,  7.28s/it]"
     ]
    },
    {
     "name": "stdout",
     "output_type": "stream",
     "text": [
      "Model Was Not Saved ! Current Best Avg. Dice: 0.6470405459403992 Current Avg. Dice: 0.6197986602783203 Current Avg. tumor Dice: 0.6485560536384583 Current Avg. lymph Dice: 0.6142989993095398\n"
     ]
    },
    {
     "name": "stderr",
     "output_type": "stream",
     "text": [
      "Training (7359 / 18000 Steps) (loss=0.53660): 100%|██████████| 80/80 [01:01<00:00,  1.30it/s]\n",
      "Validate (7360 / 10 Steps): 100%|██████████| 18/18 [00:22<00:00,  1.26s/it]<00:18,  2.22it/s]\n",
      "Training (7400 / 18000 Steps) (loss=0.57181):  51%|█████▏    | 41/80 [00:43<04:42,  7.25s/it]"
     ]
    },
    {
     "name": "stdout",
     "output_type": "stream",
     "text": [
      "Model Was Not Saved ! Current Best Avg. Dice: 0.6470405459403992 Current Avg. Dice: 0.62160325050354 Current Avg. tumor Dice: 0.6505903005599976 Current Avg. lymph Dice: 0.6193642616271973\n"
     ]
    },
    {
     "name": "stderr",
     "output_type": "stream",
     "text": [
      "Training (7439 / 18000 Steps) (loss=0.41442): 100%|██████████| 80/80 [01:01<00:00,  1.30it/s]\n",
      "Validate (7440 / 10 Steps): 100%|██████████| 18/18 [00:22<00:00,  1.27s/it]<00:09,  2.20it/s]\n",
      "Training (7500 / 18000 Steps) (loss=0.54129):  76%|███████▋  | 61/80 [00:53<02:18,  7.32s/it]"
     ]
    },
    {
     "name": "stdout",
     "output_type": "stream",
     "text": [
      "Model Was Not Saved ! Current Best Avg. Dice: 0.6470405459403992 Current Avg. Dice: 0.6231607794761658 Current Avg. tumor Dice: 0.6467210650444031 Current Avg. lymph Dice: 0.6256771683692932\n"
     ]
    },
    {
     "name": "stderr",
     "output_type": "stream",
     "text": [
      "Training (7519 / 18000 Steps) (loss=0.42112): 100%|██████████| 80/80 [01:02<00:00,  1.28it/s]\n",
      "Training (7599 / 18000 Steps) (loss=0.42524): 100%|██████████| 80/80 [00:39<00:00,  2.04it/s]\n",
      "Validate (7600 / 10 Steps): 100%|██████████| 18/18 [00:22<00:00,  1.27s/it]?, ?it/s]\n",
      "Training (7600 / 18000 Steps) (loss=0.37695):   1%|▏         | 1/80 [00:26<34:17, 26.05s/it]"
     ]
    },
    {
     "name": "stdout",
     "output_type": "stream",
     "text": [
      "Model Was Not Saved ! Current Best Avg. Dice: 0.6470405459403992 Current Avg. Dice: 0.6147933006286621 Current Avg. tumor Dice: 0.6439279317855835 Current Avg. lymph Dice: 0.6082403659820557\n"
     ]
    },
    {
     "name": "stderr",
     "output_type": "stream",
     "text": [
      "Training (7679 / 18000 Steps) (loss=0.44615): 100%|██████████| 80/80 [01:02<00:00,  1.28it/s]\n",
      "Validate (7680 / 10 Steps): 100%|██████████| 18/18 [00:23<00:00,  1.28s/it]<00:27,  2.20it/s]\n",
      "Training (7700 / 18000 Steps) (loss=0.56783):  26%|██▋       | 21/80 [00:35<07:16,  7.39s/it]"
     ]
    },
    {
     "name": "stdout",
     "output_type": "stream",
     "text": [
      "Model Was Not Saved ! Current Best Avg. Dice: 0.6470405459403992 Current Avg. Dice: 0.5966691970825195 Current Avg. tumor Dice: 0.6052033305168152 Current Avg. lymph Dice: 0.6164608597755432\n"
     ]
    },
    {
     "name": "stderr",
     "output_type": "stream",
     "text": [
      "Training (7759 / 18000 Steps) (loss=0.36879): 100%|██████████| 80/80 [01:02<00:00,  1.29it/s]\n",
      "Validate (7760 / 10 Steps): 100%|██████████| 18/18 [00:23<00:00,  1.29s/it]<00:18,  2.19it/s]\n",
      "Training (7800 / 18000 Steps) (loss=0.57477):  51%|█████▏    | 41/80 [00:44<04:50,  7.44s/it]"
     ]
    },
    {
     "name": "stdout",
     "output_type": "stream",
     "text": [
      "Model Was Not Saved ! Current Best Avg. Dice: 0.6470405459403992 Current Avg. Dice: 0.5959987640380859 Current Avg. tumor Dice: 0.6283650994300842 Current Avg. lymph Dice: 0.5875556468963623\n"
     ]
    },
    {
     "name": "stderr",
     "output_type": "stream",
     "text": [
      "Training (7839 / 18000 Steps) (loss=0.50215): 100%|██████████| 80/80 [01:02<00:00,  1.28it/s]\n",
      "Validate (7840 / 10 Steps): 100%|██████████| 18/18 [00:22<00:00,  1.24s/it]<00:09,  2.22it/s]\n",
      "Training (7900 / 18000 Steps) (loss=0.53479):  76%|███████▋  | 61/80 [00:52<02:16,  7.17s/it]"
     ]
    },
    {
     "name": "stdout",
     "output_type": "stream",
     "text": [
      "Model Was Not Saved ! Current Best Avg. Dice: 0.6470405459403992 Current Avg. Dice: 0.6068412065505981 Current Avg. tumor Dice: 0.6368246674537659 Current Avg. lymph Dice: 0.5961618423461914\n"
     ]
    },
    {
     "name": "stderr",
     "output_type": "stream",
     "text": [
      "Training (7919 / 18000 Steps) (loss=0.46406): 100%|██████████| 80/80 [01:00<00:00,  1.31it/s]\n",
      "Training (7999 / 18000 Steps) (loss=0.34571): 100%|██████████| 80/80 [00:39<00:00,  2.05it/s]\n",
      "Validate (8000 / 10 Steps): 100%|██████████| 18/18 [00:22<00:00,  1.25s/it]?, ?it/s]\n",
      "Training (8000 / 18000 Steps) (loss=0.59661):   1%|▏         | 1/80 [00:25<33:34, 25.50s/it]"
     ]
    },
    {
     "name": "stdout",
     "output_type": "stream",
     "text": [
      "Model Was Not Saved ! Current Best Avg. Dice: 0.6470405459403992 Current Avg. Dice: 0.6119887232780457 Current Avg. tumor Dice: 0.6246005892753601 Current Avg. lymph Dice: 0.6217941641807556\n"
     ]
    },
    {
     "name": "stderr",
     "output_type": "stream",
     "text": [
      "Training (8079 / 18000 Steps) (loss=0.48342): 100%|██████████| 80/80 [01:01<00:00,  1.31it/s]\n",
      "Validate (8080 / 10 Steps): 100%|██████████| 18/18 [00:22<00:00,  1.26s/it]<00:26,  2.23it/s]\n",
      "Training (8100 / 18000 Steps) (loss=0.47670):  26%|██▋       | 21/80 [00:34<07:08,  7.26s/it]"
     ]
    },
    {
     "name": "stdout",
     "output_type": "stream",
     "text": [
      "Model Was Not Saved ! Current Best Avg. Dice: 0.6470405459403992 Current Avg. Dice: 0.6134752631187439 Current Avg. tumor Dice: 0.6406845450401306 Current Avg. lymph Dice: 0.6075912117958069\n"
     ]
    },
    {
     "name": "stderr",
     "output_type": "stream",
     "text": [
      "Training (8159 / 18000 Steps) (loss=0.59504): 100%|██████████| 80/80 [01:01<00:00,  1.30it/s]\n",
      "Validate (8160 / 10 Steps): 100%|██████████| 18/18 [00:22<00:00,  1.25s/it]<00:17,  2.23it/s]\n",
      "Training (8200 / 18000 Steps) (loss=0.43679):  51%|█████▏    | 41/80 [00:43<04:41,  7.23s/it]"
     ]
    },
    {
     "name": "stdout",
     "output_type": "stream",
     "text": [
      "Model Was Not Saved ! Current Best Avg. Dice: 0.6470405459403992 Current Avg. Dice: 0.6273800730705261 Current Avg. tumor Dice: 0.6615417003631592 Current Avg. lymph Dice: 0.6193332076072693\n"
     ]
    },
    {
     "name": "stderr",
     "output_type": "stream",
     "text": [
      "Training (8239 / 18000 Steps) (loss=0.39846): 100%|██████████| 80/80 [01:01<00:00,  1.30it/s]\n",
      "Validate (8240 / 10 Steps): 100%|██████████| 18/18 [00:22<00:00,  1.27s/it]<00:09,  2.19it/s]\n",
      "Training (8300 / 18000 Steps) (loss=0.30488):  76%|███████▋  | 61/80 [00:53<02:19,  7.33s/it]"
     ]
    },
    {
     "name": "stdout",
     "output_type": "stream",
     "text": [
      "Model Was Not Saved ! Current Best Avg. Dice: 0.6470405459403992 Current Avg. Dice: 0.6360019445419312 Current Avg. tumor Dice: 0.6634674072265625 Current Avg. lymph Dice: 0.6302942037582397\n"
     ]
    },
    {
     "name": "stderr",
     "output_type": "stream",
     "text": [
      "Training (8319 / 18000 Steps) (loss=0.39278): 100%|██████████| 80/80 [01:02<00:00,  1.27it/s]\n",
      "Training (8399 / 18000 Steps) (loss=0.44498): 100%|██████████| 80/80 [00:39<00:00,  2.03it/s]\n",
      "Validate (8400 / 10 Steps): 100%|██████████| 18/18 [00:22<00:00,  1.26s/it]?, ?it/s]\n",
      "Training (8400 / 18000 Steps) (loss=0.49088):   1%|▏         | 1/80 [00:25<34:07, 25.92s/it]"
     ]
    },
    {
     "name": "stdout",
     "output_type": "stream",
     "text": [
      "Model Was Not Saved ! Current Best Avg. Dice: 0.6470405459403992 Current Avg. Dice: 0.6157822012901306 Current Avg. tumor Dice: 0.6449015140533447 Current Avg. lymph Dice: 0.6083961129188538\n"
     ]
    },
    {
     "name": "stderr",
     "output_type": "stream",
     "text": [
      "Training (8479 / 18000 Steps) (loss=0.48964): 100%|██████████| 80/80 [01:02<00:00,  1.29it/s]\n",
      "Validate (8480 / 10 Steps): 100%|██████████| 18/18 [00:22<00:00,  1.26s/it]<00:27,  2.21it/s]\n",
      "Training (8500 / 18000 Steps) (loss=0.41741):  26%|██▋       | 21/80 [00:35<07:09,  7.27s/it]"
     ]
    },
    {
     "name": "stdout",
     "output_type": "stream",
     "text": [
      "Model Was Not Saved ! Current Best Avg. Dice: 0.6470405459403992 Current Avg. Dice: 0.6255323886871338 Current Avg. tumor Dice: 0.6577228903770447 Current Avg. lymph Dice: 0.6201204061508179\n"
     ]
    },
    {
     "name": "stderr",
     "output_type": "stream",
     "text": [
      "Training (8559 / 18000 Steps) (loss=0.53201): 100%|██████████| 80/80 [01:02<00:00,  1.29it/s]\n",
      "Validate (8560 / 10 Steps): 100%|██████████| 18/18 [00:23<00:00,  1.28s/it]<00:18,  2.18it/s]\n",
      "Training (8600 / 18000 Steps) (loss=0.41313):  51%|█████▏    | 41/80 [00:44<04:48,  7.39s/it]"
     ]
    },
    {
     "name": "stdout",
     "output_type": "stream",
     "text": [
      "Model Was Not Saved ! Current Best Avg. Dice: 0.6470405459403992 Current Avg. Dice: 0.5783174633979797 Current Avg. tumor Dice: 0.6125690937042236 Current Avg. lymph Dice: 0.5658585429191589\n"
     ]
    },
    {
     "name": "stderr",
     "output_type": "stream",
     "text": [
      "Training (8639 / 18000 Steps) (loss=0.50581): 100%|██████████| 80/80 [01:01<00:00,  1.29it/s]\n",
      "Validate (8640 / 10 Steps): 100%|██████████| 18/18 [00:22<00:00,  1.26s/it]<00:09,  2.13it/s]\n",
      "Training (8700 / 18000 Steps) (loss=0.50960):  76%|███████▋  | 61/80 [00:53<02:18,  7.28s/it]"
     ]
    },
    {
     "name": "stdout",
     "output_type": "stream",
     "text": [
      "Model Was Not Saved ! Current Best Avg. Dice: 0.6470405459403992 Current Avg. Dice: 0.6107904314994812 Current Avg. tumor Dice: 0.6436532735824585 Current Avg. lymph Dice: 0.5982010364532471\n"
     ]
    },
    {
     "name": "stderr",
     "output_type": "stream",
     "text": [
      "Training (8719 / 18000 Steps) (loss=0.47675): 100%|██████████| 80/80 [01:02<00:00,  1.29it/s]\n",
      "Training (8799 / 18000 Steps) (loss=0.55125): 100%|██████████| 80/80 [00:39<00:00,  2.03it/s]\n",
      "Validate (8800 / 10 Steps): 100%|██████████| 18/18 [00:22<00:00,  1.27s/it]?, ?it/s]\n",
      "Training (8800 / 18000 Steps) (loss=0.50856):   1%|▏         | 1/80 [00:25<34:05, 25.90s/it]"
     ]
    },
    {
     "name": "stdout",
     "output_type": "stream",
     "text": [
      "Model Was Not Saved ! Current Best Avg. Dice: 0.6470405459403992 Current Avg. Dice: 0.6089861392974854 Current Avg. tumor Dice: 0.6353426575660706 Current Avg. lymph Dice: 0.6057254672050476\n"
     ]
    },
    {
     "name": "stderr",
     "output_type": "stream",
     "text": [
      "Training (8879 / 18000 Steps) (loss=0.44529): 100%|██████████| 80/80 [01:02<00:00,  1.28it/s]\n",
      "Validate (8880 / 10 Steps): 100%|██████████| 18/18 [00:22<00:00,  1.27s/it]<00:27,  2.21it/s]\n",
      "Training (8900 / 18000 Steps) (loss=0.49412):  26%|██▋       | 21/80 [00:35<07:11,  7.32s/it]"
     ]
    },
    {
     "name": "stdout",
     "output_type": "stream",
     "text": [
      "Model Was Not Saved ! Current Best Avg. Dice: 0.6470405459403992 Current Avg. Dice: 0.6246650218963623 Current Avg. tumor Dice: 0.6648979187011719 Current Avg. lymph Dice: 0.6128597259521484\n"
     ]
    },
    {
     "name": "stderr",
     "output_type": "stream",
     "text": [
      "Training (8959 / 18000 Steps) (loss=0.56856): 100%|██████████| 80/80 [01:02<00:00,  1.28it/s]\n",
      "Validate (8960 / 10 Steps): 100%|██████████| 18/18 [00:23<00:00,  1.28s/it]<00:18,  2.14it/s]\n",
      "Training (9000 / 18000 Steps) (loss=0.33514):  51%|█████▏    | 41/80 [00:44<04:50,  7.45s/it]"
     ]
    },
    {
     "name": "stdout",
     "output_type": "stream",
     "text": [
      "Model Was Not Saved ! Current Best Avg. Dice: 0.6470405459403992 Current Avg. Dice: 0.6205859184265137 Current Avg. tumor Dice: 0.6496341228485107 Current Avg. lymph Dice: 0.6174057722091675\n"
     ]
    },
    {
     "name": "stderr",
     "output_type": "stream",
     "text": [
      "Training (9039 / 18000 Steps) (loss=0.43436): 100%|██████████| 80/80 [01:03<00:00,  1.27it/s]\n",
      "Validate (9040 / 10 Steps): 100%|██████████| 18/18 [00:22<00:00,  1.26s/it]<00:09,  2.17it/s]\n",
      "Training (9100 / 18000 Steps) (loss=0.41995):  76%|███████▋  | 61/80 [00:53<02:18,  7.28s/it]"
     ]
    },
    {
     "name": "stdout",
     "output_type": "stream",
     "text": [
      "Model Was Not Saved ! Current Best Avg. Dice: 0.6470405459403992 Current Avg. Dice: 0.6272517442703247 Current Avg. tumor Dice: 0.6661258339881897 Current Avg. lymph Dice: 0.6112327575683594\n"
     ]
    },
    {
     "name": "stderr",
     "output_type": "stream",
     "text": [
      "Training (9119 / 18000 Steps) (loss=0.47312): 100%|██████████| 80/80 [01:02<00:00,  1.29it/s]\n",
      "Training (9199 / 18000 Steps) (loss=0.55691): 100%|██████████| 80/80 [00:39<00:00,  2.04it/s]\n",
      "Validate (9200 / 10 Steps): 100%|██████████| 18/18 [00:22<00:00,  1.27s/it]?, ?it/s]\n",
      "Training (9200 / 18000 Steps) (loss=0.45191):   1%|▏         | 1/80 [00:25<33:52, 25.72s/it]"
     ]
    },
    {
     "name": "stdout",
     "output_type": "stream",
     "text": [
      "Model Was Not Saved ! Current Best Avg. Dice: 0.6470405459403992 Current Avg. Dice: 0.6239261627197266 Current Avg. tumor Dice: 0.6601376533508301 Current Avg. lymph Dice: 0.6180965900421143\n"
     ]
    },
    {
     "name": "stderr",
     "output_type": "stream",
     "text": [
      "Training (9279 / 18000 Steps) (loss=0.50587): 100%|██████████| 80/80 [01:01<00:00,  1.29it/s]\n",
      "Validate (9280 / 10 Steps): 100%|██████████| 18/18 [00:22<00:00,  1.28s/it]<00:27,  2.21it/s]\n",
      "Training (9300 / 18000 Steps) (loss=0.42730):  26%|██▋       | 21/80 [00:35<07:14,  7.36s/it]"
     ]
    },
    {
     "name": "stdout",
     "output_type": "stream",
     "text": [
      "Model Was Not Saved ! Current Best Avg. Dice: 0.6470405459403992 Current Avg. Dice: 0.6261651515960693 Current Avg. tumor Dice: 0.6422293186187744 Current Avg. lymph Dice: 0.6309587955474854\n"
     ]
    },
    {
     "name": "stderr",
     "output_type": "stream",
     "text": [
      "Training (9359 / 18000 Steps) (loss=0.49186): 100%|██████████| 80/80 [01:01<00:00,  1.30it/s]\n",
      "Validate (9360 / 10 Steps): 100%|██████████| 18/18 [00:22<00:00,  1.26s/it]<00:18,  2.21it/s]\n",
      "Training (9400 / 18000 Steps) (loss=0.35382):  51%|█████▏    | 41/80 [00:44<04:44,  7.29s/it]"
     ]
    },
    {
     "name": "stdout",
     "output_type": "stream",
     "text": [
      "Model Was Not Saved ! Current Best Avg. Dice: 0.6470405459403992 Current Avg. Dice: 0.5989507436752319 Current Avg. tumor Dice: 0.6275815963745117 Current Avg. lymph Dice: 0.5979022979736328\n"
     ]
    },
    {
     "name": "stderr",
     "output_type": "stream",
     "text": [
      "Training (9439 / 18000 Steps) (loss=0.46655): 100%|██████████| 80/80 [01:02<00:00,  1.28it/s]\n",
      "Validate (9440 / 10 Steps): 100%|██████████| 18/18 [00:22<00:00,  1.26s/it]<00:08,  2.22it/s]\n",
      "Training (9500 / 18000 Steps) (loss=0.42097):  76%|███████▋  | 61/80 [00:53<02:18,  7.27s/it]"
     ]
    },
    {
     "name": "stdout",
     "output_type": "stream",
     "text": [
      "Model Was Not Saved ! Current Best Avg. Dice: 0.6470405459403992 Current Avg. Dice: 0.596415638923645 Current Avg. tumor Dice: 0.622392475605011 Current Avg. lymph Dice: 0.5946890115737915\n"
     ]
    },
    {
     "name": "stderr",
     "output_type": "stream",
     "text": [
      "Training (9519 / 18000 Steps) (loss=0.39935): 100%|██████████| 80/80 [01:01<00:00,  1.30it/s]\n",
      "Training (9599 / 18000 Steps) (loss=0.63265): 100%|██████████| 80/80 [00:38<00:00,  2.08it/s]\n",
      "Validate (9600 / 10 Steps): 100%|██████████| 18/18 [00:22<00:00,  1.26s/it]?, ?it/s]\n",
      "Training (9600 / 18000 Steps) (loss=0.42273):   1%|▏         | 1/80 [00:25<33:30, 25.44s/it]"
     ]
    },
    {
     "name": "stdout",
     "output_type": "stream",
     "text": [
      "Model Was Not Saved ! Current Best Avg. Dice: 0.6470405459403992 Current Avg. Dice: 0.6157601475715637 Current Avg. tumor Dice: 0.6386016607284546 Current Avg. lymph Dice: 0.6129663586616516\n"
     ]
    },
    {
     "name": "stderr",
     "output_type": "stream",
     "text": [
      "Training (9679 / 18000 Steps) (loss=0.44343): 100%|██████████| 80/80 [01:01<00:00,  1.31it/s]\n",
      "Validate (9680 / 10 Steps): 100%|██████████| 18/18 [00:22<00:00,  1.26s/it]<00:27,  2.21it/s]\n",
      "Training (9700 / 18000 Steps) (loss=0.54046):  26%|██▋       | 21/80 [00:35<07:09,  7.29s/it]"
     ]
    },
    {
     "name": "stdout",
     "output_type": "stream",
     "text": [
      "Model Was Not Saved ! Current Best Avg. Dice: 0.6470405459403992 Current Avg. Dice: 0.603987455368042 Current Avg. tumor Dice: 0.6403990387916565 Current Avg. lymph Dice: 0.5883936882019043\n"
     ]
    },
    {
     "name": "stderr",
     "output_type": "stream",
     "text": [
      "Training (9759 / 18000 Steps) (loss=0.33142): 100%|██████████| 80/80 [01:02<00:00,  1.28it/s]\n",
      "Validate (9760 / 10 Steps): 100%|██████████| 18/18 [00:22<00:00,  1.26s/it]<00:18,  2.21it/s]\n",
      "Training (9800 / 18000 Steps) (loss=0.55391):  51%|█████▏    | 41/80 [00:43<04:42,  7.24s/it]"
     ]
    },
    {
     "name": "stdout",
     "output_type": "stream",
     "text": [
      "Model Was Not Saved ! Current Best Avg. Dice: 0.6470405459403992 Current Avg. Dice: 0.5992070436477661 Current Avg. tumor Dice: 0.637622594833374 Current Avg. lymph Dice: 0.5827820897102356\n"
     ]
    },
    {
     "name": "stderr",
     "output_type": "stream",
     "text": [
      "Training (9839 / 18000 Steps) (loss=0.64312): 100%|██████████| 80/80 [01:01<00:00,  1.30it/s]\n",
      "Validate (9840 / 10 Steps): 100%|██████████| 18/18 [00:22<00:00,  1.26s/it]<00:09,  2.22it/s]\n",
      "Training (9900 / 18000 Steps) (loss=0.39790):  76%|███████▋  | 61/80 [00:53<02:18,  7.27s/it]"
     ]
    },
    {
     "name": "stdout",
     "output_type": "stream",
     "text": [
      "Model Was Not Saved ! Current Best Avg. Dice: 0.6470405459403992 Current Avg. Dice: 0.6059331893920898 Current Avg. tumor Dice: 0.6522971987724304 Current Avg. lymph Dice: 0.5842580795288086\n"
     ]
    },
    {
     "name": "stderr",
     "output_type": "stream",
     "text": [
      "Training (9919 / 18000 Steps) (loss=0.53419): 100%|██████████| 80/80 [01:02<00:00,  1.29it/s]\n",
      "Training (9999 / 18000 Steps) (loss=0.48249): 100%|██████████| 80/80 [00:38<00:00,  2.07it/s]\n",
      "Validate (10000 / 10 Steps): 100%|██████████| 18/18 [00:22<00:00,  1.27s/it]?, ?it/s]\n",
      "Training (10000 / 18000 Steps) (loss=0.38344):   1%|▏         | 1/80 [00:26<34:20, 26.09s/it]"
     ]
    },
    {
     "name": "stdout",
     "output_type": "stream",
     "text": [
      "Model Was Not Saved ! Current Best Avg. Dice: 0.6470405459403992 Current Avg. Dice: 0.620384931564331 Current Avg. tumor Dice: 0.6477679014205933 Current Avg. lymph Dice: 0.6194483041763306\n"
     ]
    },
    {
     "name": "stderr",
     "output_type": "stream",
     "text": [
      "Training (10079 / 18000 Steps) (loss=0.35446): 100%|██████████| 80/80 [01:01<00:00,  1.29it/s]\n",
      "Validate (10080 / 10 Steps): 100%|██████████| 18/18 [00:22<00:00,  1.26s/it]<00:27,  2.16it/s]\n",
      "Training (10100 / 18000 Steps) (loss=0.41712):  26%|██▋       | 21/80 [00:34<07:09,  7.28s/it]"
     ]
    },
    {
     "name": "stdout",
     "output_type": "stream",
     "text": [
      "Model Was Not Saved ! Current Best Avg. Dice: 0.6470405459403992 Current Avg. Dice: 0.6197934746742249 Current Avg. tumor Dice: 0.6501410603523254 Current Avg. lymph Dice: 0.61166912317276\n"
     ]
    },
    {
     "name": "stderr",
     "output_type": "stream",
     "text": [
      "Training (10159 / 18000 Steps) (loss=0.42928): 100%|██████████| 80/80 [01:01<00:00,  1.30it/s]\n",
      "Validate (10160 / 10 Steps): 100%|██████████| 18/18 [00:22<00:00,  1.26s/it]<00:17,  2.24it/s]\n",
      "Training (10200 / 18000 Steps) (loss=0.45208):  51%|█████▏    | 41/80 [00:44<04:44,  7.29s/it]"
     ]
    },
    {
     "name": "stdout",
     "output_type": "stream",
     "text": [
      "Model Was Not Saved ! Current Best Avg. Dice: 0.6470405459403992 Current Avg. Dice: 0.6082805395126343 Current Avg. tumor Dice: 0.635475218296051 Current Avg. lymph Dice: 0.6117534637451172\n"
     ]
    },
    {
     "name": "stderr",
     "output_type": "stream",
     "text": [
      "Training (10239 / 18000 Steps) (loss=0.58002): 100%|██████████| 80/80 [01:02<00:00,  1.29it/s]\n",
      "Validate (10240 / 10 Steps): 100%|██████████| 18/18 [00:22<00:00,  1.26s/it]<00:09,  2.20it/s]\n",
      "Training (10300 / 18000 Steps) (loss=0.33544):  76%|███████▋  | 61/80 [00:52<02:18,  7.28s/it]"
     ]
    },
    {
     "name": "stdout",
     "output_type": "stream",
     "text": [
      "Model Was Not Saved ! Current Best Avg. Dice: 0.6470405459403992 Current Avg. Dice: 0.6131004691123962 Current Avg. tumor Dice: 0.6435602307319641 Current Avg. lymph Dice: 0.6079440116882324\n"
     ]
    },
    {
     "name": "stderr",
     "output_type": "stream",
     "text": [
      "Training (10319 / 18000 Steps) (loss=0.44990): 100%|██████████| 80/80 [01:01<00:00,  1.30it/s]\n",
      "Training (10399 / 18000 Steps) (loss=0.48437): 100%|██████████| 80/80 [00:38<00:00,  2.07it/s]\n",
      "Validate (10400 / 10 Steps): 100%|██████████| 18/18 [00:22<00:00,  1.25s/it]?, ?it/s]\n",
      "Training (10400 / 18000 Steps) (loss=0.52796):   1%|▏         | 1/80 [00:25<33:57, 25.79s/it]"
     ]
    },
    {
     "name": "stdout",
     "output_type": "stream",
     "text": [
      "Model Was Not Saved ! Current Best Avg. Dice: 0.6470405459403992 Current Avg. Dice: 0.6165510416030884 Current Avg. tumor Dice: 0.6282175183296204 Current Avg. lymph Dice: 0.6326596736907959\n"
     ]
    },
    {
     "name": "stderr",
     "output_type": "stream",
     "text": [
      "Training (10479 / 18000 Steps) (loss=0.39575): 100%|██████████| 80/80 [01:01<00:00,  1.31it/s]\n",
      "Validate (10480 / 10 Steps): 100%|██████████| 18/18 [00:22<00:00,  1.25s/it]<00:27,  2.18it/s]\n",
      "Training (10500 / 18000 Steps) (loss=0.48080):  26%|██▋       | 21/80 [00:35<07:07,  7.25s/it]"
     ]
    },
    {
     "name": "stdout",
     "output_type": "stream",
     "text": [
      "Model Was Not Saved ! Current Best Avg. Dice: 0.6470405459403992 Current Avg. Dice: 0.6264937520027161 Current Avg. tumor Dice: 0.6477957963943481 Current Avg. lymph Dice: 0.638740599155426\n"
     ]
    },
    {
     "name": "stderr",
     "output_type": "stream",
     "text": [
      "Training (10559 / 18000 Steps) (loss=0.50577): 100%|██████████| 80/80 [01:02<00:00,  1.29it/s]\n",
      "Validate (10560 / 10 Steps): 100%|██████████| 18/18 [00:22<00:00,  1.25s/it]<00:18,  2.21it/s]\n",
      "Training (10600 / 18000 Steps) (loss=0.43972):  51%|█████▏    | 41/80 [00:44<04:50,  7.44s/it]"
     ]
    },
    {
     "name": "stdout",
     "output_type": "stream",
     "text": [
      "Model Was Saved ! Current Best Avg. Dice: 0.6502400636672974 Current Avg. Dice: 0.6502400636672974 Current Avg. tumor Dice: 0.6745849847793579 Current Avg. lymph Dice: 0.6452432870864868\n"
     ]
    },
    {
     "name": "stderr",
     "output_type": "stream",
     "text": [
      "Training (10639 / 18000 Steps) (loss=0.42760): 100%|██████████| 80/80 [01:02<00:00,  1.29it/s]\n",
      "Validate (10640 / 10 Steps): 100%|██████████| 18/18 [00:22<00:00,  1.26s/it]<00:09,  2.18it/s]\n",
      "Training (10700 / 18000 Steps) (loss=0.50231):  76%|███████▋  | 61/80 [00:53<02:18,  7.28s/it]"
     ]
    },
    {
     "name": "stdout",
     "output_type": "stream",
     "text": [
      "Model Was Not Saved ! Current Best Avg. Dice: 0.6502400636672974 Current Avg. Dice: 0.6311075687408447 Current Avg. tumor Dice: 0.6524821519851685 Current Avg. lymph Dice: 0.6381413340568542\n"
     ]
    },
    {
     "name": "stderr",
     "output_type": "stream",
     "text": [
      "Training (10719 / 18000 Steps) (loss=0.32268): 100%|██████████| 80/80 [01:01<00:00,  1.29it/s]\n",
      "Training (10799 / 18000 Steps) (loss=0.35029): 100%|██████████| 80/80 [00:39<00:00,  2.04it/s]\n",
      "Validate (10800 / 10 Steps): 100%|██████████| 18/18 [00:22<00:00,  1.25s/it]?, ?it/s]\n",
      "Training (10800 / 18000 Steps) (loss=0.43545):   1%|▏         | 1/80 [00:25<33:50, 25.70s/it]"
     ]
    },
    {
     "name": "stdout",
     "output_type": "stream",
     "text": [
      "Model Was Not Saved ! Current Best Avg. Dice: 0.6502400636672974 Current Avg. Dice: 0.6138975620269775 Current Avg. tumor Dice: 0.6374756097793579 Current Avg. lymph Dice: 0.6183637976646423\n"
     ]
    },
    {
     "name": "stderr",
     "output_type": "stream",
     "text": [
      "Training (10879 / 18000 Steps) (loss=0.33538): 100%|██████████| 80/80 [01:01<00:00,  1.30it/s]\n",
      "Validate (10880 / 10 Steps): 100%|██████████| 18/18 [00:22<00:00,  1.25s/it]<00:26,  2.23it/s]\n",
      "Training (10900 / 18000 Steps) (loss=0.39455):  26%|██▋       | 21/80 [00:34<07:04,  7.20s/it]"
     ]
    },
    {
     "name": "stdout",
     "output_type": "stream",
     "text": [
      "Model Was Not Saved ! Current Best Avg. Dice: 0.6502400636672974 Current Avg. Dice: 0.6262139678001404 Current Avg. tumor Dice: 0.6486377120018005 Current Avg. lymph Dice: 0.6220908761024475\n"
     ]
    },
    {
     "name": "stderr",
     "output_type": "stream",
     "text": [
      "Training (10959 / 18000 Steps) (loss=0.32646): 100%|██████████| 80/80 [01:00<00:00,  1.31it/s]\n",
      "Validate (10960 / 10 Steps): 100%|██████████| 18/18 [00:22<00:00,  1.25s/it]<00:17,  2.24it/s]\n",
      "Training (11000 / 18000 Steps) (loss=0.50157):  51%|█████▏    | 41/80 [00:43<04:42,  7.24s/it]"
     ]
    },
    {
     "name": "stdout",
     "output_type": "stream",
     "text": [
      "Model Was Not Saved ! Current Best Avg. Dice: 0.6502400636672974 Current Avg. Dice: 0.6179192662239075 Current Avg. tumor Dice: 0.6561166048049927 Current Avg. lymph Dice: 0.6062108874320984\n"
     ]
    },
    {
     "name": "stderr",
     "output_type": "stream",
     "text": [
      "Training (11039 / 18000 Steps) (loss=0.40961): 100%|██████████| 80/80 [01:01<00:00,  1.30it/s]\n",
      "Validate (11040 / 10 Steps): 100%|██████████| 18/18 [00:22<00:00,  1.26s/it]<00:09,  2.19it/s]\n",
      "Training (11100 / 18000 Steps) (loss=0.46423):  76%|███████▋  | 61/80 [00:53<02:18,  7.29s/it]"
     ]
    },
    {
     "name": "stdout",
     "output_type": "stream",
     "text": [
      "Model Was Not Saved ! Current Best Avg. Dice: 0.6502400636672974 Current Avg. Dice: 0.614966094493866 Current Avg. tumor Dice: 0.6454377174377441 Current Avg. lymph Dice: 0.6087130904197693\n"
     ]
    },
    {
     "name": "stderr",
     "output_type": "stream",
     "text": [
      "Training (11119 / 18000 Steps) (loss=0.45268): 100%|██████████| 80/80 [01:01<00:00,  1.30it/s]\n",
      "Training (11199 / 18000 Steps) (loss=0.35347): 100%|██████████| 80/80 [00:39<00:00,  2.04it/s]\n",
      "Validate (11200 / 10 Steps): 100%|██████████| 18/18 [00:22<00:00,  1.26s/it]?, ?it/s]\n",
      "Training (11200 / 18000 Steps) (loss=0.57450):   1%|▏         | 1/80 [00:25<33:57, 25.79s/it]"
     ]
    },
    {
     "name": "stdout",
     "output_type": "stream",
     "text": [
      "Model Was Not Saved ! Current Best Avg. Dice: 0.6502400636672974 Current Avg. Dice: 0.631611704826355 Current Avg. tumor Dice: 0.661011278629303 Current Avg. lymph Dice: 0.6264557838439941\n"
     ]
    },
    {
     "name": "stderr",
     "output_type": "stream",
     "text": [
      "Training (11279 / 18000 Steps) (loss=0.44247): 100%|██████████| 80/80 [01:01<00:00,  1.31it/s]\n",
      "Validate (11280 / 10 Steps): 100%|██████████| 18/18 [00:22<00:00,  1.26s/it]<00:30,  1.99it/s]\n",
      "Training (11300 / 18000 Steps) (loss=0.26982):  26%|██▋       | 21/80 [00:35<07:11,  7.31s/it]"
     ]
    },
    {
     "name": "stdout",
     "output_type": "stream",
     "text": [
      "Model Was Not Saved ! Current Best Avg. Dice: 0.6502400636672974 Current Avg. Dice: 0.6194442510604858 Current Avg. tumor Dice: 0.6483789086341858 Current Avg. lymph Dice: 0.6117801666259766\n"
     ]
    },
    {
     "name": "stderr",
     "output_type": "stream",
     "text": [
      "Training (11359 / 18000 Steps) (loss=0.39597): 100%|██████████| 80/80 [01:01<00:00,  1.29it/s]\n",
      "Validate (11360 / 10 Steps): 100%|██████████| 18/18 [00:22<00:00,  1.26s/it]<00:17,  2.24it/s]\n",
      "Training (11400 / 18000 Steps) (loss=0.44509):  51%|█████▏    | 41/80 [00:43<04:42,  7.25s/it]"
     ]
    },
    {
     "name": "stdout",
     "output_type": "stream",
     "text": [
      "Model Was Not Saved ! Current Best Avg. Dice: 0.6502400636672974 Current Avg. Dice: 0.6168509125709534 Current Avg. tumor Dice: 0.637553870677948 Current Avg. lymph Dice: 0.6247908473014832\n"
     ]
    },
    {
     "name": "stderr",
     "output_type": "stream",
     "text": [
      "Training (11439 / 18000 Steps) (loss=0.56900): 100%|██████████| 80/80 [01:01<00:00,  1.31it/s]\n",
      "Validate (11440 / 10 Steps): 100%|██████████| 18/18 [00:22<00:00,  1.26s/it]<00:08,  2.24it/s]\n",
      "Training (11500 / 18000 Steps) (loss=0.36520):  76%|███████▋  | 61/80 [00:53<02:18,  7.27s/it]"
     ]
    },
    {
     "name": "stdout",
     "output_type": "stream",
     "text": [
      "Model Was Not Saved ! Current Best Avg. Dice: 0.6502400636672974 Current Avg. Dice: 0.6255995631217957 Current Avg. tumor Dice: 0.6533119082450867 Current Avg. lymph Dice: 0.625109076499939\n"
     ]
    },
    {
     "name": "stderr",
     "output_type": "stream",
     "text": [
      "Training (11519 / 18000 Steps) (loss=0.43250): 100%|██████████| 80/80 [01:01<00:00,  1.30it/s]\n",
      "Training (11599 / 18000 Steps) (loss=0.49565): 100%|██████████| 80/80 [00:38<00:00,  2.09it/s]\n",
      "Validate (11600 / 10 Steps): 100%|██████████| 18/18 [00:22<00:00,  1.28s/it]?, ?it/s]\n",
      "Training (11600 / 18000 Steps) (loss=0.41689):   1%|▏         | 1/80 [00:26<34:26, 26.16s/it]"
     ]
    },
    {
     "name": "stdout",
     "output_type": "stream",
     "text": [
      "Model Was Not Saved ! Current Best Avg. Dice: 0.6502400636672974 Current Avg. Dice: 0.6236716508865356 Current Avg. tumor Dice: 0.6407319903373718 Current Avg. lymph Dice: 0.6345644593238831\n"
     ]
    },
    {
     "name": "stderr",
     "output_type": "stream",
     "text": [
      "Training (11679 / 18000 Steps) (loss=0.37767): 100%|██████████| 80/80 [01:01<00:00,  1.29it/s]\n",
      "Validate (11680 / 10 Steps): 100%|██████████| 18/18 [00:22<00:00,  1.26s/it]<00:27,  2.18it/s]\n",
      "Training (11700 / 18000 Steps) (loss=0.45992):  26%|██▋       | 21/80 [00:35<07:09,  7.29s/it]"
     ]
    },
    {
     "name": "stdout",
     "output_type": "stream",
     "text": [
      "Model Was Not Saved ! Current Best Avg. Dice: 0.6502400636672974 Current Avg. Dice: 0.6075224876403809 Current Avg. tumor Dice: 0.6291900873184204 Current Avg. lymph Dice: 0.6175767183303833\n"
     ]
    },
    {
     "name": "stderr",
     "output_type": "stream",
     "text": [
      "Training (11759 / 18000 Steps) (loss=0.55720): 100%|██████████| 80/80 [01:01<00:00,  1.30it/s]\n",
      "Validate (11760 / 10 Steps): 100%|██████████| 18/18 [00:22<00:00,  1.26s/it]<00:17,  2.23it/s]\n",
      "Training (11800 / 18000 Steps) (loss=0.49208):  51%|█████▏    | 41/80 [00:43<04:43,  7.26s/it]"
     ]
    },
    {
     "name": "stdout",
     "output_type": "stream",
     "text": [
      "Model Was Not Saved ! Current Best Avg. Dice: 0.6502400636672974 Current Avg. Dice: 0.6159446239471436 Current Avg. tumor Dice: 0.6355315446853638 Current Avg. lymph Dice: 0.6188600063323975\n"
     ]
    },
    {
     "name": "stderr",
     "output_type": "stream",
     "text": [
      "Training (11839 / 18000 Steps) (loss=0.36101): 100%|██████████| 80/80 [01:01<00:00,  1.30it/s]\n",
      "Validate (11840 / 10 Steps): 100%|██████████| 18/18 [00:22<00:00,  1.26s/it]<00:09,  2.15it/s]\n",
      "Training (11900 / 18000 Steps) (loss=0.39930):  76%|███████▋  | 61/80 [00:52<02:18,  7.31s/it]"
     ]
    },
    {
     "name": "stdout",
     "output_type": "stream",
     "text": [
      "Model Was Not Saved ! Current Best Avg. Dice: 0.6502400636672974 Current Avg. Dice: 0.647063136100769 Current Avg. tumor Dice: 0.672822117805481 Current Avg. lymph Dice: 0.6389527320861816\n"
     ]
    },
    {
     "name": "stderr",
     "output_type": "stream",
     "text": [
      "Training (11919 / 18000 Steps) (loss=0.39031): 100%|██████████| 80/80 [01:01<00:00,  1.31it/s]\n",
      "Training (11999 / 18000 Steps) (loss=0.54581): 100%|██████████| 80/80 [00:39<00:00,  2.05it/s]\n",
      "Validate (12000 / 10 Steps): 100%|██████████| 18/18 [00:22<00:00,  1.26s/it]?, ?it/s]\n",
      "Training (12000 / 18000 Steps) (loss=0.53195):   1%|▏         | 1/80 [00:25<33:30, 25.45s/it]"
     ]
    },
    {
     "name": "stdout",
     "output_type": "stream",
     "text": [
      "Model Was Not Saved ! Current Best Avg. Dice: 0.6502400636672974 Current Avg. Dice: 0.630638062953949 Current Avg. tumor Dice: 0.6556885838508606 Current Avg. lymph Dice: 0.6326638460159302\n"
     ]
    },
    {
     "name": "stderr",
     "output_type": "stream",
     "text": [
      "Training (12079 / 18000 Steps) (loss=0.50105): 100%|██████████| 80/80 [01:01<00:00,  1.30it/s]\n",
      "Validate (12080 / 10 Steps): 100%|██████████| 18/18 [00:22<00:00,  1.26s/it]<00:27,  2.16it/s]\n",
      "Training (12100 / 18000 Steps) (loss=0.42141):  26%|██▋       | 21/80 [00:35<07:10,  7.30s/it]"
     ]
    },
    {
     "name": "stdout",
     "output_type": "stream",
     "text": [
      "Model Was Not Saved ! Current Best Avg. Dice: 0.6502400636672974 Current Avg. Dice: 0.617807149887085 Current Avg. tumor Dice: 0.6467381119728088 Current Avg. lymph Dice: 0.6127951145172119\n"
     ]
    },
    {
     "name": "stderr",
     "output_type": "stream",
     "text": [
      "Training (12159 / 18000 Steps) (loss=0.39615): 100%|██████████| 80/80 [01:01<00:00,  1.30it/s]\n",
      "Validate (12160 / 10 Steps): 100%|██████████| 18/18 [00:22<00:00,  1.26s/it]<00:18,  2.22it/s]\n",
      "Training (12200 / 18000 Steps) (loss=0.47981):  51%|█████▏    | 41/80 [00:43<04:44,  7.29s/it]"
     ]
    },
    {
     "name": "stdout",
     "output_type": "stream",
     "text": [
      "Model Was Not Saved ! Current Best Avg. Dice: 0.6502400636672974 Current Avg. Dice: 0.6237626075744629 Current Avg. tumor Dice: 0.6511965990066528 Current Avg. lymph Dice: 0.6205196976661682\n"
     ]
    },
    {
     "name": "stderr",
     "output_type": "stream",
     "text": [
      "Training (12239 / 18000 Steps) (loss=0.55194): 100%|██████████| 80/80 [01:01<00:00,  1.30it/s]\n",
      "Validate (12240 / 10 Steps): 100%|██████████| 18/18 [00:22<00:00,  1.25s/it]<00:09,  2.17it/s]\n",
      "Training (12300 / 18000 Steps) (loss=0.54753):  76%|███████▋  | 61/80 [00:53<02:17,  7.25s/it]"
     ]
    },
    {
     "name": "stdout",
     "output_type": "stream",
     "text": [
      "Model Was Not Saved ! Current Best Avg. Dice: 0.6502400636672974 Current Avg. Dice: 0.609947919845581 Current Avg. tumor Dice: 0.6295064091682434 Current Avg. lymph Dice: 0.6149080395698547\n"
     ]
    },
    {
     "name": "stderr",
     "output_type": "stream",
     "text": [
      "Training (12319 / 18000 Steps) (loss=0.48248): 100%|██████████| 80/80 [01:01<00:00,  1.30it/s]\n",
      "Training (12399 / 18000 Steps) (loss=0.54830): 100%|██████████| 80/80 [00:39<00:00,  2.04it/s]\n",
      "Validate (12400 / 10 Steps): 100%|██████████| 18/18 [00:23<00:00,  1.28s/it]?, ?it/s]\n",
      "Training (12400 / 18000 Steps) (loss=0.49525):   1%|▏         | 1/80 [00:25<34:11, 25.96s/it]"
     ]
    },
    {
     "name": "stdout",
     "output_type": "stream",
     "text": [
      "Model Was Not Saved ! Current Best Avg. Dice: 0.6502400636672974 Current Avg. Dice: 0.616469144821167 Current Avg. tumor Dice: 0.6404018998146057 Current Avg. lymph Dice: 0.615958034992218\n"
     ]
    },
    {
     "name": "stderr",
     "output_type": "stream",
     "text": [
      "Training (12479 / 18000 Steps) (loss=0.44453): 100%|██████████| 80/80 [01:01<00:00,  1.30it/s]\n",
      "Validate (12480 / 10 Steps): 100%|██████████| 18/18 [00:22<00:00,  1.25s/it]<00:26,  2.23it/s]\n",
      "Training (12500 / 18000 Steps) (loss=0.53237):  26%|██▋       | 21/80 [00:34<07:07,  7.24s/it]"
     ]
    },
    {
     "name": "stdout",
     "output_type": "stream",
     "text": [
      "Model Was Not Saved ! Current Best Avg. Dice: 0.6502400636672974 Current Avg. Dice: 0.6202349066734314 Current Avg. tumor Dice: 0.6461325287818909 Current Avg. lymph Dice: 0.6243104934692383\n"
     ]
    },
    {
     "name": "stderr",
     "output_type": "stream",
     "text": [
      "Training (12559 / 18000 Steps) (loss=0.46200): 100%|██████████| 80/80 [01:01<00:00,  1.31it/s]\n",
      "Validate (12560 / 10 Steps): 100%|██████████| 18/18 [00:22<00:00,  1.25s/it]<00:18,  2.18it/s]\n",
      "Training (12600 / 18000 Steps) (loss=0.31454):  51%|█████▏    | 41/80 [00:43<04:42,  7.24s/it]"
     ]
    },
    {
     "name": "stdout",
     "output_type": "stream",
     "text": [
      "Model Was Not Saved ! Current Best Avg. Dice: 0.6502400636672974 Current Avg. Dice: 0.6186336874961853 Current Avg. tumor Dice: 0.640954315662384 Current Avg. lymph Dice: 0.6216370463371277\n"
     ]
    },
    {
     "name": "stderr",
     "output_type": "stream",
     "text": [
      "Training (12639 / 18000 Steps) (loss=0.45923): 100%|██████████| 80/80 [01:01<00:00,  1.31it/s]\n",
      "Validate (12640 / 10 Steps): 100%|██████████| 18/18 [00:22<00:00,  1.25s/it]<00:09,  2.21it/s]\n",
      "Training (12700 / 18000 Steps) (loss=0.40841):  76%|███████▋  | 61/80 [00:52<02:16,  7.21s/it]"
     ]
    },
    {
     "name": "stdout",
     "output_type": "stream",
     "text": [
      "Model Was Not Saved ! Current Best Avg. Dice: 0.6502400636672974 Current Avg. Dice: 0.6244428157806396 Current Avg. tumor Dice: 0.6524965167045593 Current Avg. lymph Dice: 0.6224163174629211\n"
     ]
    },
    {
     "name": "stderr",
     "output_type": "stream",
     "text": [
      "Training (12719 / 18000 Steps) (loss=0.55282): 100%|██████████| 80/80 [01:01<00:00,  1.31it/s]\n",
      "Training (12799 / 18000 Steps) (loss=0.50728): 100%|██████████| 80/80 [00:39<00:00,  2.04it/s]\n",
      "Validate (12800 / 10 Steps): 100%|██████████| 18/18 [00:22<00:00,  1.27s/it]?, ?it/s]\n",
      "Training (12800 / 18000 Steps) (loss=0.36252):   1%|▏         | 1/80 [00:25<33:41, 25.59s/it]"
     ]
    },
    {
     "name": "stdout",
     "output_type": "stream",
     "text": [
      "Model Was Not Saved ! Current Best Avg. Dice: 0.6502400636672974 Current Avg. Dice: 0.6145749688148499 Current Avg. tumor Dice: 0.6339493989944458 Current Avg. lymph Dice: 0.6186991930007935\n"
     ]
    },
    {
     "name": "stderr",
     "output_type": "stream",
     "text": [
      "Training (12879 / 18000 Steps) (loss=0.47284): 100%|██████████| 80/80 [01:01<00:00,  1.30it/s]\n",
      "Validate (12880 / 10 Steps): 100%|██████████| 18/18 [00:22<00:00,  1.25s/it]<00:27,  2.16it/s]\n",
      "Training (12900 / 18000 Steps) (loss=0.52052):  26%|██▋       | 21/80 [00:35<07:06,  7.23s/it]"
     ]
    },
    {
     "name": "stdout",
     "output_type": "stream",
     "text": [
      "Model Was Not Saved ! Current Best Avg. Dice: 0.6502400636672974 Current Avg. Dice: 0.605961263179779 Current Avg. tumor Dice: 0.6252611875534058 Current Avg. lymph Dice: 0.6126205921173096\n"
     ]
    },
    {
     "name": "stderr",
     "output_type": "stream",
     "text": [
      "Training (12959 / 18000 Steps) (loss=0.49354): 100%|██████████| 80/80 [01:01<00:00,  1.29it/s]\n",
      "Validate (12960 / 10 Steps): 100%|██████████| 18/18 [00:22<00:00,  1.26s/it]<00:17,  2.23it/s]\n",
      "Training (13000 / 18000 Steps) (loss=0.55388):  51%|█████▏    | 41/80 [00:43<04:43,  7.26s/it]"
     ]
    },
    {
     "name": "stdout",
     "output_type": "stream",
     "text": [
      "Model Was Not Saved ! Current Best Avg. Dice: 0.6502400636672974 Current Avg. Dice: 0.632096529006958 Current Avg. tumor Dice: 0.6511096358299255 Current Avg. lymph Dice: 0.6395888924598694\n"
     ]
    },
    {
     "name": "stderr",
     "output_type": "stream",
     "text": [
      "Training (13039 / 18000 Steps) (loss=0.39352): 100%|██████████| 80/80 [01:01<00:00,  1.30it/s]\n",
      "Validate (13040 / 10 Steps): 100%|██████████| 18/18 [00:22<00:00,  1.26s/it]<00:09,  2.18it/s]\n",
      "Training (13100 / 18000 Steps) (loss=0.46246):  76%|███████▋  | 61/80 [00:53<02:18,  7.28s/it]"
     ]
    },
    {
     "name": "stdout",
     "output_type": "stream",
     "text": [
      "Model Was Not Saved ! Current Best Avg. Dice: 0.6502400636672974 Current Avg. Dice: 0.6143258213996887 Current Avg. tumor Dice: 0.6480174660682678 Current Avg. lymph Dice: 0.6075750589370728\n"
     ]
    },
    {
     "name": "stderr",
     "output_type": "stream",
     "text": [
      "Training (13119 / 18000 Steps) (loss=0.47363): 100%|██████████| 80/80 [01:01<00:00,  1.29it/s]\n",
      "Training (13199 / 18000 Steps) (loss=0.60054): 100%|██████████| 80/80 [00:38<00:00,  2.05it/s]\n",
      "Validate (13200 / 10 Steps): 100%|██████████| 18/18 [00:22<00:00,  1.27s/it]?, ?it/s]\n",
      "Training (13200 / 18000 Steps) (loss=0.49211):   1%|▏         | 1/80 [00:26<34:39, 26.33s/it]"
     ]
    },
    {
     "name": "stdout",
     "output_type": "stream",
     "text": [
      "Model Was Not Saved ! Current Best Avg. Dice: 0.6502400636672974 Current Avg. Dice: 0.6138962507247925 Current Avg. tumor Dice: 0.6280087232589722 Current Avg. lymph Dice: 0.6278632879257202\n"
     ]
    },
    {
     "name": "stderr",
     "output_type": "stream",
     "text": [
      "Training (13279 / 18000 Steps) (loss=0.38049): 100%|██████████| 80/80 [01:02<00:00,  1.29it/s]\n",
      "Validate (13280 / 10 Steps): 100%|██████████| 18/18 [00:22<00:00,  1.26s/it]<00:26,  2.24it/s]\n",
      "Training (13300 / 18000 Steps) (loss=0.51178):  26%|██▋       | 21/80 [00:34<07:08,  7.26s/it]"
     ]
    },
    {
     "name": "stdout",
     "output_type": "stream",
     "text": [
      "Model Was Not Saved ! Current Best Avg. Dice: 0.6502400636672974 Current Avg. Dice: 0.6268923878669739 Current Avg. tumor Dice: 0.6396586298942566 Current Avg. lymph Dice: 0.6385155916213989\n"
     ]
    },
    {
     "name": "stderr",
     "output_type": "stream",
     "text": [
      "Training (13359 / 18000 Steps) (loss=0.30180): 100%|██████████| 80/80 [01:01<00:00,  1.29it/s]\n",
      "Validate (13360 / 10 Steps): 100%|██████████| 18/18 [00:22<00:00,  1.26s/it]<00:18,  2.18it/s]\n",
      "Training (13400 / 18000 Steps) (loss=0.43566):  51%|█████▏    | 41/80 [00:43<04:44,  7.29s/it]"
     ]
    },
    {
     "name": "stdout",
     "output_type": "stream",
     "text": [
      "Model Was Not Saved ! Current Best Avg. Dice: 0.6502400636672974 Current Avg. Dice: 0.6401028037071228 Current Avg. tumor Dice: 0.6684125065803528 Current Avg. lymph Dice: 0.6392061114311218\n"
     ]
    },
    {
     "name": "stderr",
     "output_type": "stream",
     "text": [
      "Training (13439 / 18000 Steps) (loss=0.42040): 100%|██████████| 80/80 [01:01<00:00,  1.31it/s]\n",
      "Validate (13440 / 10 Steps): 100%|██████████| 18/18 [00:22<00:00,  1.27s/it]<00:09,  2.05it/s]\n",
      "Training (13500 / 18000 Steps) (loss=0.53886):  76%|███████▋  | 61/80 [00:53<02:19,  7.36s/it]"
     ]
    },
    {
     "name": "stdout",
     "output_type": "stream",
     "text": [
      "Model Was Not Saved ! Current Best Avg. Dice: 0.6502400636672974 Current Avg. Dice: 0.6160772442817688 Current Avg. tumor Dice: 0.6486397981643677 Current Avg. lymph Dice: 0.6060360074043274\n"
     ]
    },
    {
     "name": "stderr",
     "output_type": "stream",
     "text": [
      "Training (13519 / 18000 Steps) (loss=0.48450): 100%|██████████| 80/80 [01:01<00:00,  1.30it/s]\n",
      "Training (13599 / 18000 Steps) (loss=0.56210): 100%|██████████| 80/80 [00:39<00:00,  2.04it/s]\n",
      "Validate (13600 / 10 Steps): 100%|██████████| 18/18 [00:22<00:00,  1.27s/it]?, ?it/s]\n",
      "Training (13600 / 18000 Steps) (loss=0.41573):   1%|▏         | 1/80 [00:25<33:51, 25.72s/it]"
     ]
    },
    {
     "name": "stdout",
     "output_type": "stream",
     "text": [
      "Model Was Not Saved ! Current Best Avg. Dice: 0.6502400636672974 Current Avg. Dice: 0.6286589503288269 Current Avg. tumor Dice: 0.653026819229126 Current Avg. lymph Dice: 0.6290737390518188\n"
     ]
    },
    {
     "name": "stderr",
     "output_type": "stream",
     "text": [
      "Training (13679 / 18000 Steps) (loss=0.48894): 100%|██████████| 80/80 [01:01<00:00,  1.31it/s]\n",
      "Validate (13680 / 10 Steps): 100%|██████████| 18/18 [00:22<00:00,  1.25s/it]<00:26,  2.23it/s]\n",
      "Training (13700 / 18000 Steps) (loss=0.51334):  26%|██▋       | 21/80 [00:34<07:06,  7.23s/it]"
     ]
    },
    {
     "name": "stdout",
     "output_type": "stream",
     "text": [
      "Model Was Not Saved ! Current Best Avg. Dice: 0.6502400636672974 Current Avg. Dice: 0.6288632154464722 Current Avg. tumor Dice: 0.6567435264587402 Current Avg. lymph Dice: 0.6298847794532776\n"
     ]
    },
    {
     "name": "stderr",
     "output_type": "stream",
     "text": [
      "Training (13759 / 18000 Steps) (loss=0.35905): 100%|██████████| 80/80 [01:00<00:00,  1.31it/s]\n",
      "Validate (13760 / 10 Steps): 100%|██████████| 18/18 [00:22<00:00,  1.24s/it]<00:18,  2.20it/s]\n",
      "Training (13800 / 18000 Steps) (loss=0.50039):  51%|█████▏    | 41/80 [00:43<04:40,  7.19s/it]"
     ]
    },
    {
     "name": "stdout",
     "output_type": "stream",
     "text": [
      "Model Was Not Saved ! Current Best Avg. Dice: 0.6502400636672974 Current Avg. Dice: 0.6079795360565186 Current Avg. tumor Dice: 0.6275781989097595 Current Avg. lymph Dice: 0.611653745174408\n"
     ]
    },
    {
     "name": "stderr",
     "output_type": "stream",
     "text": [
      "Training (13839 / 18000 Steps) (loss=0.51752): 100%|██████████| 80/80 [01:01<00:00,  1.30it/s]\n",
      "Validate (13840 / 10 Steps): 100%|██████████| 18/18 [00:22<00:00,  1.27s/it]<00:09,  2.20it/s]\n",
      "Training (13900 / 18000 Steps) (loss=0.45999):  76%|███████▋  | 61/80 [00:54<02:19,  7.34s/it]"
     ]
    },
    {
     "name": "stdout",
     "output_type": "stream",
     "text": [
      "Model Was Not Saved ! Current Best Avg. Dice: 0.6502400636672974 Current Avg. Dice: 0.6392911076545715 Current Avg. tumor Dice: 0.6735867261886597 Current Avg. lymph Dice: 0.6268353462219238\n"
     ]
    },
    {
     "name": "stderr",
     "output_type": "stream",
     "text": [
      "Training (13919 / 18000 Steps) (loss=0.36867): 100%|██████████| 80/80 [01:03<00:00,  1.27it/s]\n",
      "Training (13999 / 18000 Steps) (loss=0.59535): 100%|██████████| 80/80 [00:39<00:00,  2.03it/s]\n",
      "Validate (14000 / 10 Steps): 100%|██████████| 18/18 [00:22<00:00,  1.26s/it]?, ?it/s]\n",
      "Training (14000 / 18000 Steps) (loss=0.54836):   1%|▏         | 1/80 [00:25<33:57, 25.80s/it]"
     ]
    },
    {
     "name": "stdout",
     "output_type": "stream",
     "text": [
      "Model Was Not Saved ! Current Best Avg. Dice: 0.6502400636672974 Current Avg. Dice: 0.6206383109092712 Current Avg. tumor Dice: 0.6464418768882751 Current Avg. lymph Dice: 0.6253721714019775\n"
     ]
    },
    {
     "name": "stderr",
     "output_type": "stream",
     "text": [
      "Training (14079 / 18000 Steps) (loss=0.41679): 100%|██████████| 80/80 [01:01<00:00,  1.30it/s]\n",
      "Validate (14080 / 10 Steps): 100%|██████████| 18/18 [00:22<00:00,  1.27s/it]<00:27,  2.18it/s]\n",
      "Training (14100 / 18000 Steps) (loss=0.47727):  26%|██▋       | 21/80 [00:35<07:12,  7.33s/it]"
     ]
    },
    {
     "name": "stdout",
     "output_type": "stream",
     "text": [
      "Model Was Not Saved ! Current Best Avg. Dice: 0.6502400636672974 Current Avg. Dice: 0.6310020089149475 Current Avg. tumor Dice: 0.6605806350708008 Current Avg. lymph Dice: 0.6283941268920898\n"
     ]
    },
    {
     "name": "stderr",
     "output_type": "stream",
     "text": [
      "Training (14159 / 18000 Steps) (loss=0.31864): 100%|██████████| 80/80 [01:01<00:00,  1.29it/s]\n",
      "Validate (14160 / 10 Steps): 100%|██████████| 18/18 [00:22<00:00,  1.24s/it]<00:18,  2.21it/s]\n",
      "Training (14200 / 18000 Steps) (loss=0.42108):  51%|█████▏    | 41/80 [00:43<04:40,  7.19s/it]"
     ]
    },
    {
     "name": "stdout",
     "output_type": "stream",
     "text": [
      "Model Was Not Saved ! Current Best Avg. Dice: 0.6502400636672974 Current Avg. Dice: 0.6251593232154846 Current Avg. tumor Dice: 0.6477407813072205 Current Avg. lymph Dice: 0.6291822791099548\n"
     ]
    },
    {
     "name": "stderr",
     "output_type": "stream",
     "text": [
      "Training (14239 / 18000 Steps) (loss=0.52767): 100%|██████████| 80/80 [01:01<00:00,  1.30it/s]\n",
      "Validate (14240 / 10 Steps): 100%|██████████| 18/18 [00:23<00:00,  1.29s/it]<00:09,  2.21it/s]\n",
      "Training (14300 / 18000 Steps) (loss=0.45409):  76%|███████▋  | 61/80 [00:53<02:21,  7.43s/it]"
     ]
    },
    {
     "name": "stdout",
     "output_type": "stream",
     "text": [
      "Model Was Not Saved ! Current Best Avg. Dice: 0.6502400636672974 Current Avg. Dice: 0.6236658096313477 Current Avg. tumor Dice: 0.6552884578704834 Current Avg. lymph Dice: 0.6147131323814392\n"
     ]
    },
    {
     "name": "stderr",
     "output_type": "stream",
     "text": [
      "Training (14319 / 18000 Steps) (loss=0.54860): 100%|██████████| 80/80 [01:02<00:00,  1.29it/s]\n",
      "Training (14399 / 18000 Steps) (loss=0.47281): 100%|██████████| 80/80 [00:38<00:00,  2.07it/s]\n",
      "Validate (14400 / 10 Steps): 100%|██████████| 18/18 [00:22<00:00,  1.26s/it]?, ?it/s]\n",
      "Training (14400 / 18000 Steps) (loss=0.48465):   1%|▏         | 1/80 [00:25<34:03, 25.86s/it]"
     ]
    },
    {
     "name": "stdout",
     "output_type": "stream",
     "text": [
      "Model Was Not Saved ! Current Best Avg. Dice: 0.6502400636672974 Current Avg. Dice: 0.643902063369751 Current Avg. tumor Dice: 0.6650190353393555 Current Avg. lymph Dice: 0.6480718851089478\n"
     ]
    },
    {
     "name": "stderr",
     "output_type": "stream",
     "text": [
      "Training (14479 / 18000 Steps) (loss=0.52279): 100%|██████████| 80/80 [01:01<00:00,  1.30it/s]\n",
      "Validate (14480 / 10 Steps): 100%|██████████| 18/18 [00:22<00:00,  1.25s/it]<00:27,  2.22it/s]\n",
      "Training (14500 / 18000 Steps) (loss=0.35735):  26%|██▋       | 21/80 [00:34<07:07,  7.24s/it]"
     ]
    },
    {
     "name": "stdout",
     "output_type": "stream",
     "text": [
      "Model Was Not Saved ! Current Best Avg. Dice: 0.6502400636672974 Current Avg. Dice: 0.6245244741439819 Current Avg. tumor Dice: 0.6543447971343994 Current Avg. lymph Dice: 0.6230586767196655\n"
     ]
    },
    {
     "name": "stderr",
     "output_type": "stream",
     "text": [
      "Training (14559 / 18000 Steps) (loss=0.56898): 100%|██████████| 80/80 [01:01<00:00,  1.31it/s]\n",
      "Validate (14560 / 10 Steps): 100%|██████████| 18/18 [00:22<00:00,  1.26s/it]<00:18,  2.20it/s]\n",
      "Training (14600 / 18000 Steps) (loss=0.53727):  51%|█████▏    | 41/80 [00:44<04:44,  7.30s/it]"
     ]
    },
    {
     "name": "stdout",
     "output_type": "stream",
     "text": [
      "Model Was Not Saved ! Current Best Avg. Dice: 0.6502400636672974 Current Avg. Dice: 0.6193869113922119 Current Avg. tumor Dice: 0.6442225575447083 Current Avg. lymph Dice: 0.6196475028991699\n"
     ]
    },
    {
     "name": "stderr",
     "output_type": "stream",
     "text": [
      "Training (14639 / 18000 Steps) (loss=0.35712): 100%|██████████| 80/80 [01:01<00:00,  1.30it/s]\n",
      "Validate (14640 / 10 Steps): 100%|██████████| 18/18 [00:22<00:00,  1.26s/it]<00:09,  2.21it/s]\n",
      "Training (14700 / 18000 Steps) (loss=0.57248):  76%|███████▋  | 61/80 [00:53<02:18,  7.30s/it]"
     ]
    },
    {
     "name": "stdout",
     "output_type": "stream",
     "text": [
      "Model Was Not Saved ! Current Best Avg. Dice: 0.6502400636672974 Current Avg. Dice: 0.6249104738235474 Current Avg. tumor Dice: 0.6482981443405151 Current Avg. lymph Dice: 0.6253656148910522\n"
     ]
    },
    {
     "name": "stderr",
     "output_type": "stream",
     "text": [
      "Training (14719 / 18000 Steps) (loss=0.41757): 100%|██████████| 80/80 [01:01<00:00,  1.29it/s]\n",
      "Training (14799 / 18000 Steps) (loss=0.50871): 100%|██████████| 80/80 [00:38<00:00,  2.06it/s]\n",
      "Validate (14800 / 10 Steps): 100%|██████████| 18/18 [00:22<00:00,  1.26s/it]?, ?it/s]\n",
      "Training (14800 / 18000 Steps) (loss=0.59769):   1%|▏         | 1/80 [00:25<33:59, 25.82s/it]"
     ]
    },
    {
     "name": "stdout",
     "output_type": "stream",
     "text": [
      "Model Was Not Saved ! Current Best Avg. Dice: 0.6502400636672974 Current Avg. Dice: 0.6164531707763672 Current Avg. tumor Dice: 0.6384685039520264 Current Avg. lymph Dice: 0.6196730136871338\n"
     ]
    },
    {
     "name": "stderr",
     "output_type": "stream",
     "text": [
      "Training (14879 / 18000 Steps) (loss=0.44176): 100%|██████████| 80/80 [01:01<00:00,  1.30it/s]\n",
      "Validate (14880 / 10 Steps): 100%|██████████| 18/18 [00:22<00:00,  1.25s/it]<00:27,  2.17it/s]\n",
      "Training (14900 / 18000 Steps) (loss=0.50166):  26%|██▋       | 21/80 [00:34<07:06,  7.23s/it]"
     ]
    },
    {
     "name": "stdout",
     "output_type": "stream",
     "text": [
      "Model Was Not Saved ! Current Best Avg. Dice: 0.6502400636672974 Current Avg. Dice: 0.6131923198699951 Current Avg. tumor Dice: 0.6253581643104553 Current Avg. lymph Dice: 0.6227065324783325\n"
     ]
    },
    {
     "name": "stderr",
     "output_type": "stream",
     "text": [
      "Training (14959 / 18000 Steps) (loss=0.49431): 100%|██████████| 80/80 [01:01<00:00,  1.31it/s]\n",
      "Validate (14960 / 10 Steps): 100%|██████████| 18/18 [00:22<00:00,  1.27s/it]<00:18,  2.22it/s]\n",
      "Training (15000 / 18000 Steps) (loss=0.44058):  51%|█████▏    | 41/80 [00:43<04:44,  7.30s/it]"
     ]
    },
    {
     "name": "stdout",
     "output_type": "stream",
     "text": [
      "Model Was Not Saved ! Current Best Avg. Dice: 0.6502400636672974 Current Avg. Dice: 0.6187535524368286 Current Avg. tumor Dice: 0.6481645703315735 Current Avg. lymph Dice: 0.6131160259246826\n"
     ]
    },
    {
     "name": "stderr",
     "output_type": "stream",
     "text": [
      "Training (15039 / 18000 Steps) (loss=0.50349): 100%|██████████| 80/80 [01:01<00:00,  1.30it/s]\n",
      "Validate (15040 / 10 Steps): 100%|██████████| 18/18 [00:22<00:00,  1.25s/it]<00:09,  2.17it/s]\n",
      "Training (15100 / 18000 Steps) (loss=0.63551):  76%|███████▋  | 61/80 [00:52<02:17,  7.23s/it]"
     ]
    },
    {
     "name": "stdout",
     "output_type": "stream",
     "text": [
      "Model Was Not Saved ! Current Best Avg. Dice: 0.6502400636672974 Current Avg. Dice: 0.6229314804077148 Current Avg. tumor Dice: 0.6399237513542175 Current Avg. lymph Dice: 0.6275584697723389\n"
     ]
    },
    {
     "name": "stderr",
     "output_type": "stream",
     "text": [
      "Training (15119 / 18000 Steps) (loss=0.43933): 100%|██████████| 80/80 [01:01<00:00,  1.30it/s]\n",
      "Training (15199 / 18000 Steps) (loss=0.49094): 100%|██████████| 80/80 [00:38<00:00,  2.09it/s]\n",
      "Validate (15200 / 10 Steps): 100%|██████████| 18/18 [00:22<00:00,  1.27s/it]?, ?it/s]\n",
      "Training (15200 / 18000 Steps) (loss=0.43372):   1%|▏         | 1/80 [00:25<33:36, 25.52s/it]"
     ]
    },
    {
     "name": "stdout",
     "output_type": "stream",
     "text": [
      "Model Was Not Saved ! Current Best Avg. Dice: 0.6502400636672974 Current Avg. Dice: 0.6311312317848206 Current Avg. tumor Dice: 0.6548624038696289 Current Avg. lymph Dice: 0.6294838786125183\n"
     ]
    },
    {
     "name": "stderr",
     "output_type": "stream",
     "text": [
      "Training (15279 / 18000 Steps) (loss=0.50840): 100%|██████████| 80/80 [01:01<00:00,  1.30it/s]\n",
      "Validate (15280 / 10 Steps): 100%|██████████| 18/18 [00:22<00:00,  1.26s/it]<00:26,  2.23it/s]\n",
      "Training (15300 / 18000 Steps) (loss=0.43643):  26%|██▋       | 21/80 [00:34<07:09,  7.28s/it]"
     ]
    },
    {
     "name": "stdout",
     "output_type": "stream",
     "text": [
      "Model Was Not Saved ! Current Best Avg. Dice: 0.6502400636672974 Current Avg. Dice: 0.633080780506134 Current Avg. tumor Dice: 0.6630814671516418 Current Avg. lymph Dice: 0.6282601952552795\n"
     ]
    },
    {
     "name": "stderr",
     "output_type": "stream",
     "text": [
      "Training (15359 / 18000 Steps) (loss=0.53903): 100%|██████████| 80/80 [01:01<00:00,  1.30it/s]\n",
      "Validate (15360 / 10 Steps): 100%|██████████| 18/18 [00:22<00:00,  1.28s/it]<00:18,  2.21it/s]\n",
      "Training (15400 / 18000 Steps) (loss=0.50516):  51%|█████▏    | 41/80 [00:44<04:47,  7.37s/it]"
     ]
    },
    {
     "name": "stdout",
     "output_type": "stream",
     "text": [
      "Model Was Not Saved ! Current Best Avg. Dice: 0.6502400636672974 Current Avg. Dice: 0.6223629713058472 Current Avg. tumor Dice: 0.6424688696861267 Current Avg. lymph Dice: 0.6199063658714294\n"
     ]
    },
    {
     "name": "stderr",
     "output_type": "stream",
     "text": [
      "Training (15439 / 18000 Steps) (loss=0.34445): 100%|██████████| 80/80 [01:01<00:00,  1.29it/s]\n",
      "Validate (15440 / 10 Steps): 100%|██████████| 18/18 [00:22<00:00,  1.26s/it]<00:08,  2.24it/s]\n",
      "Training (15500 / 18000 Steps) (loss=0.48042):  76%|███████▋  | 61/80 [00:52<02:18,  7.27s/it]"
     ]
    },
    {
     "name": "stdout",
     "output_type": "stream",
     "text": [
      "Model Was Not Saved ! Current Best Avg. Dice: 0.6502400636672974 Current Avg. Dice: 0.5838339328765869 Current Avg. tumor Dice: 0.5996979475021362 Current Avg. lymph Dice: 0.5925198197364807\n"
     ]
    },
    {
     "name": "stderr",
     "output_type": "stream",
     "text": [
      "Training (15519 / 18000 Steps) (loss=0.47449): 100%|██████████| 80/80 [01:01<00:00,  1.30it/s]\n",
      "Training (15599 / 18000 Steps) (loss=0.36805): 100%|██████████| 80/80 [00:38<00:00,  2.06it/s]\n",
      "Validate (15600 / 10 Steps): 100%|██████████| 18/18 [00:22<00:00,  1.26s/it]?, ?it/s]\n",
      "Training (15600 / 18000 Steps) (loss=0.51968):   1%|▏         | 1/80 [00:25<34:00, 25.83s/it]"
     ]
    },
    {
     "name": "stdout",
     "output_type": "stream",
     "text": [
      "Model Was Not Saved ! Current Best Avg. Dice: 0.6502400636672974 Current Avg. Dice: 0.6252734065055847 Current Avg. tumor Dice: 0.6531068682670593 Current Avg. lymph Dice: 0.6281429529190063\n"
     ]
    },
    {
     "name": "stderr",
     "output_type": "stream",
     "text": [
      "Training (15679 / 18000 Steps) (loss=0.33611): 100%|██████████| 80/80 [01:02<00:00,  1.28it/s]\n",
      "Validate (15680 / 10 Steps): 100%|██████████| 18/18 [00:22<00:00,  1.26s/it]<00:27,  2.19it/s]\n",
      "Training (15700 / 18000 Steps) (loss=0.47835):  26%|██▋       | 21/80 [00:35<07:11,  7.32s/it]"
     ]
    },
    {
     "name": "stdout",
     "output_type": "stream",
     "text": [
      "Model Was Not Saved ! Current Best Avg. Dice: 0.6502400636672974 Current Avg. Dice: 0.6302717328071594 Current Avg. tumor Dice: 0.6638346910476685 Current Avg. lymph Dice: 0.6257435083389282\n"
     ]
    },
    {
     "name": "stderr",
     "output_type": "stream",
     "text": [
      "Training (15759 / 18000 Steps) (loss=0.41709): 100%|██████████| 80/80 [01:02<00:00,  1.27it/s]\n",
      "Validate (15760 / 10 Steps): 100%|██████████| 18/18 [00:22<00:00,  1.26s/it]<00:18,  2.13it/s]\n",
      "Training (15800 / 18000 Steps) (loss=0.32035):  51%|█████▏    | 41/80 [00:44<04:44,  7.30s/it]"
     ]
    },
    {
     "name": "stdout",
     "output_type": "stream",
     "text": [
      "Model Was Not Saved ! Current Best Avg. Dice: 0.6502400636672974 Current Avg. Dice: 0.6223170757293701 Current Avg. tumor Dice: 0.6589140892028809 Current Avg. lymph Dice: 0.6102986335754395\n"
     ]
    },
    {
     "name": "stderr",
     "output_type": "stream",
     "text": [
      "Training (15839 / 18000 Steps) (loss=0.59763): 100%|██████████| 80/80 [01:02<00:00,  1.28it/s]\n",
      "Validate (15840 / 10 Steps): 100%|██████████| 18/18 [00:22<00:00,  1.26s/it]<00:09,  2.17it/s]\n",
      "Training (15900 / 18000 Steps) (loss=0.38925):  76%|███████▋  | 61/80 [00:54<02:18,  7.27s/it]"
     ]
    },
    {
     "name": "stdout",
     "output_type": "stream",
     "text": [
      "Model Was Not Saved ! Current Best Avg. Dice: 0.6502400636672974 Current Avg. Dice: 0.6216691136360168 Current Avg. tumor Dice: 0.6506989002227783 Current Avg. lymph Dice: 0.6167522668838501\n"
     ]
    },
    {
     "name": "stderr",
     "output_type": "stream",
     "text": [
      "Training (15919 / 18000 Steps) (loss=0.44764): 100%|██████████| 80/80 [01:02<00:00,  1.27it/s]\n",
      "Training (15999 / 18000 Steps) (loss=0.40122): 100%|██████████| 80/80 [00:39<00:00,  2.00it/s]\n",
      "Validate (16000 / 10 Steps): 100%|██████████| 18/18 [00:22<00:00,  1.27s/it]?, ?it/s]\n",
      "Training (16000 / 18000 Steps) (loss=0.57686):   1%|▏         | 1/80 [00:25<34:00, 25.82s/it]"
     ]
    },
    {
     "name": "stdout",
     "output_type": "stream",
     "text": [
      "Model Was Not Saved ! Current Best Avg. Dice: 0.6502400636672974 Current Avg. Dice: 0.626928448677063 Current Avg. tumor Dice: 0.6571225523948669 Current Avg. lymph Dice: 0.6222739219665527\n"
     ]
    },
    {
     "name": "stderr",
     "output_type": "stream",
     "text": [
      "Training (16079 / 18000 Steps) (loss=0.55495): 100%|██████████| 80/80 [01:03<00:00,  1.27it/s]\n",
      "Validate (16080 / 10 Steps): 100%|██████████| 18/18 [00:22<00:00,  1.27s/it]<00:27,  2.17it/s]\n",
      "Training (16100 / 18000 Steps) (loss=0.56589):  26%|██▋       | 21/80 [00:35<07:12,  7.32s/it]"
     ]
    },
    {
     "name": "stdout",
     "output_type": "stream",
     "text": [
      "Model Was Not Saved ! Current Best Avg. Dice: 0.6502400636672974 Current Avg. Dice: 0.6371623277664185 Current Avg. tumor Dice: 0.663112461566925 Current Avg. lymph Dice: 0.6373186707496643\n"
     ]
    },
    {
     "name": "stderr",
     "output_type": "stream",
     "text": [
      "Training (16159 / 18000 Steps) (loss=0.50482): 100%|██████████| 80/80 [01:02<00:00,  1.27it/s]\n",
      "Validate (16160 / 10 Steps): 100%|██████████| 18/18 [00:23<00:00,  1.29s/it]<00:18,  2.14it/s]\n",
      "Training (16200 / 18000 Steps) (loss=0.41131):  51%|█████▏    | 41/80 [00:45<04:51,  7.47s/it]"
     ]
    },
    {
     "name": "stdout",
     "output_type": "stream",
     "text": [
      "Model Was Not Saved ! Current Best Avg. Dice: 0.6502400636672974 Current Avg. Dice: 0.6179526448249817 Current Avg. tumor Dice: 0.6499142646789551 Current Avg. lymph Dice: 0.6095108389854431\n"
     ]
    },
    {
     "name": "stderr",
     "output_type": "stream",
     "text": [
      "Training (16239 / 18000 Steps) (loss=0.41380): 100%|██████████| 80/80 [01:03<00:00,  1.26it/s]\n",
      "Validate (16240 / 10 Steps): 100%|██████████| 18/18 [00:22<00:00,  1.26s/it]<00:09,  2.15it/s]\n",
      "Training (16300 / 18000 Steps) (loss=0.29932):  76%|███████▋  | 61/80 [00:53<02:18,  7.28s/it]"
     ]
    },
    {
     "name": "stdout",
     "output_type": "stream",
     "text": [
      "Model Was Not Saved ! Current Best Avg. Dice: 0.6502400636672974 Current Avg. Dice: 0.6349137425422668 Current Avg. tumor Dice: 0.6721457242965698 Current Avg. lymph Dice: 0.6259911060333252\n"
     ]
    },
    {
     "name": "stderr",
     "output_type": "stream",
     "text": [
      "Training (16319 / 18000 Steps) (loss=0.40725): 100%|██████████| 80/80 [01:02<00:00,  1.28it/s]\n",
      "Training (16399 / 18000 Steps) (loss=0.50598): 100%|██████████| 80/80 [00:40<00:00,  1.99it/s]\n",
      "Validate (16400 / 10 Steps): 100%|██████████| 18/18 [00:23<00:00,  1.28s/it]?, ?it/s]\n",
      "Training (16400 / 18000 Steps) (loss=0.36969):   1%|▏         | 1/80 [00:25<34:13, 26.00s/it]"
     ]
    },
    {
     "name": "stdout",
     "output_type": "stream",
     "text": [
      "Model Was Not Saved ! Current Best Avg. Dice: 0.6502400636672974 Current Avg. Dice: 0.6349672675132751 Current Avg. tumor Dice: 0.6624582409858704 Current Avg. lymph Dice: 0.6364885568618774\n"
     ]
    },
    {
     "name": "stderr",
     "output_type": "stream",
     "text": [
      "Training (16479 / 18000 Steps) (loss=0.46161): 100%|██████████| 80/80 [01:02<00:00,  1.27it/s]\n",
      "Validate (16480 / 10 Steps): 100%|██████████| 18/18 [00:22<00:00,  1.27s/it]<00:27,  2.17it/s]\n",
      "Training (16500 / 18000 Steps) (loss=0.53738):  26%|██▋       | 21/80 [00:35<07:12,  7.33s/it]"
     ]
    },
    {
     "name": "stdout",
     "output_type": "stream",
     "text": [
      "Model Was Not Saved ! Current Best Avg. Dice: 0.6502400636672974 Current Avg. Dice: 0.6359642744064331 Current Avg. tumor Dice: 0.660412073135376 Current Avg. lymph Dice: 0.6384668946266174\n"
     ]
    },
    {
     "name": "stderr",
     "output_type": "stream",
     "text": [
      "Training (16559 / 18000 Steps) (loss=0.44649): 100%|██████████| 80/80 [01:03<00:00,  1.26it/s]\n",
      "Validate (16560 / 10 Steps): 100%|██████████| 18/18 [00:22<00:00,  1.25s/it]<00:19,  2.02it/s]\n",
      "Training (16600 / 18000 Steps) (loss=0.61559):  51%|█████▏    | 41/80 [00:45<04:42,  7.25s/it]"
     ]
    },
    {
     "name": "stdout",
     "output_type": "stream",
     "text": [
      "Model Was Not Saved ! Current Best Avg. Dice: 0.6502400636672974 Current Avg. Dice: 0.6207945942878723 Current Avg. tumor Dice: 0.6598590016365051 Current Avg. lymph Dice: 0.6109665632247925\n"
     ]
    },
    {
     "name": "stderr",
     "output_type": "stream",
     "text": [
      "Training (16639 / 18000 Steps) (loss=0.41119): 100%|██████████| 80/80 [01:03<00:00,  1.26it/s]\n",
      "Validate (16640 / 10 Steps): 100%|██████████| 18/18 [00:22<00:00,  1.26s/it]<00:09,  2.09it/s]\n",
      "Training (16700 / 18000 Steps) (loss=0.26930):  76%|███████▋  | 61/80 [00:54<02:18,  7.28s/it]"
     ]
    },
    {
     "name": "stdout",
     "output_type": "stream",
     "text": [
      "Model Was Not Saved ! Current Best Avg. Dice: 0.6502400636672974 Current Avg. Dice: 0.6377389430999756 Current Avg. tumor Dice: 0.6745808124542236 Current Avg. lymph Dice: 0.6237903833389282\n"
     ]
    },
    {
     "name": "stderr",
     "output_type": "stream",
     "text": [
      "Training (16719 / 18000 Steps) (loss=0.46077): 100%|██████████| 80/80 [01:03<00:00,  1.26it/s]\n",
      "Training (16799 / 18000 Steps) (loss=0.46027): 100%|██████████| 80/80 [00:39<00:00,  2.00it/s]\n",
      "Validate (16800 / 10 Steps): 100%|██████████| 18/18 [00:22<00:00,  1.27s/it]?, ?it/s]\n",
      "Training (16800 / 18000 Steps) (loss=0.46595):   1%|▏         | 1/80 [00:25<34:11, 25.97s/it]"
     ]
    },
    {
     "name": "stdout",
     "output_type": "stream",
     "text": [
      "Model Was Not Saved ! Current Best Avg. Dice: 0.6502400636672974 Current Avg. Dice: 0.6410523653030396 Current Avg. tumor Dice: 0.6754273772239685 Current Avg. lymph Dice: 0.6361039876937866\n"
     ]
    },
    {
     "name": "stderr",
     "output_type": "stream",
     "text": [
      "Training (16879 / 18000 Steps) (loss=0.48033): 100%|██████████| 80/80 [01:03<00:00,  1.26it/s]\n",
      "Validate (16880 / 10 Steps): 100%|██████████| 18/18 [00:22<00:00,  1.26s/it]<00:27,  2.18it/s]\n",
      "Training (16900 / 18000 Steps) (loss=0.53638):  26%|██▋       | 21/80 [00:35<07:08,  7.26s/it]"
     ]
    },
    {
     "name": "stdout",
     "output_type": "stream",
     "text": [
      "Model Was Not Saved ! Current Best Avg. Dice: 0.6502400636672974 Current Avg. Dice: 0.628136396408081 Current Avg. tumor Dice: 0.6523059606552124 Current Avg. lymph Dice: 0.6273719072341919\n"
     ]
    },
    {
     "name": "stderr",
     "output_type": "stream",
     "text": [
      "Training (16959 / 18000 Steps) (loss=0.53611): 100%|██████████| 80/80 [01:03<00:00,  1.27it/s]\n",
      "Validate (16960 / 10 Steps): 100%|██████████| 18/18 [00:22<00:00,  1.26s/it]<00:18,  2.15it/s]\n",
      "Training (17000 / 18000 Steps) (loss=0.56698):  51%|█████▏    | 41/80 [00:44<04:44,  7.29s/it]"
     ]
    },
    {
     "name": "stdout",
     "output_type": "stream",
     "text": [
      "Model Was Not Saved ! Current Best Avg. Dice: 0.6502400636672974 Current Avg. Dice: 0.6309115290641785 Current Avg. tumor Dice: 0.6609570980072021 Current Avg. lymph Dice: 0.6267604827880859\n"
     ]
    },
    {
     "name": "stderr",
     "output_type": "stream",
     "text": [
      "Training (17039 / 18000 Steps) (loss=0.34764): 100%|██████████| 80/80 [01:03<00:00,  1.27it/s]\n",
      "Validate (17040 / 10 Steps): 100%|██████████| 18/18 [00:22<00:00,  1.26s/it]<00:09,  2.05it/s]\n",
      "Training (17100 / 18000 Steps) (loss=0.44855):  76%|███████▋  | 61/80 [00:53<02:19,  7.32s/it]"
     ]
    },
    {
     "name": "stdout",
     "output_type": "stream",
     "text": [
      "Model Was Not Saved ! Current Best Avg. Dice: 0.6502400636672974 Current Avg. Dice: 0.6215674877166748 Current Avg. tumor Dice: 0.6492124795913696 Current Avg. lymph Dice: 0.6201944947242737\n"
     ]
    },
    {
     "name": "stderr",
     "output_type": "stream",
     "text": [
      "Training (17119 / 18000 Steps) (loss=0.50547): 100%|██████████| 80/80 [01:02<00:00,  1.27it/s]\n",
      "Training (17199 / 18000 Steps) (loss=0.33552): 100%|██████████| 80/80 [00:40<00:00,  1.97it/s]\n",
      "Validate (17200 / 10 Steps): 100%|██████████| 18/18 [00:23<00:00,  1.28s/it]?, ?it/s]\n",
      "Training (17200 / 18000 Steps) (loss=0.43891):   1%|▏         | 1/80 [00:25<34:06, 25.90s/it]"
     ]
    },
    {
     "name": "stdout",
     "output_type": "stream",
     "text": [
      "Model Was Not Saved ! Current Best Avg. Dice: 0.6502400636672974 Current Avg. Dice: 0.6352413892745972 Current Avg. tumor Dice: 0.6671485900878906 Current Avg. lymph Dice: 0.6321539282798767\n"
     ]
    },
    {
     "name": "stderr",
     "output_type": "stream",
     "text": [
      "Training (17279 / 18000 Steps) (loss=0.58170): 100%|██████████| 80/80 [01:03<00:00,  1.27it/s]\n",
      "Validate (17280 / 10 Steps): 100%|██████████| 18/18 [00:22<00:00,  1.27s/it]<00:27,  2.20it/s]\n",
      "Training (17300 / 18000 Steps) (loss=0.47388):  26%|██▋       | 21/80 [00:34<07:12,  7.34s/it]"
     ]
    },
    {
     "name": "stdout",
     "output_type": "stream",
     "text": [
      "Model Was Not Saved ! Current Best Avg. Dice: 0.6502400636672974 Current Avg. Dice: 0.6185253262519836 Current Avg. tumor Dice: 0.6532614827156067 Current Avg. lymph Dice: 0.6112374067306519\n"
     ]
    },
    {
     "name": "stderr",
     "output_type": "stream",
     "text": [
      "Training (17359 / 18000 Steps) (loss=0.52820): 100%|██████████| 80/80 [01:01<00:00,  1.31it/s]\n",
      "Validate (17360 / 10 Steps): 100%|██████████| 18/18 [00:23<00:00,  1.31s/it]<00:18,  2.20it/s]\n",
      "Training (17400 / 18000 Steps) (loss=0.48780):  51%|█████▏    | 41/80 [00:44<04:53,  7.53s/it]"
     ]
    },
    {
     "name": "stdout",
     "output_type": "stream",
     "text": [
      "Model Was Not Saved ! Current Best Avg. Dice: 0.6502400636672974 Current Avg. Dice: 0.6404022574424744 Current Avg. tumor Dice: 0.6740171313285828 Current Avg. lymph Dice: 0.6376752853393555\n"
     ]
    },
    {
     "name": "stderr",
     "output_type": "stream",
     "text": [
      "Training (17439 / 18000 Steps) (loss=0.51647): 100%|██████████| 80/80 [01:02<00:00,  1.28it/s]\n",
      "Validate (17440 / 10 Steps): 100%|██████████| 18/18 [00:22<00:00,  1.25s/it]<00:08,  2.24it/s]\n",
      "Training (17500 / 18000 Steps) (loss=0.39624):  76%|███████▋  | 61/80 [00:52<02:17,  7.24s/it]"
     ]
    },
    {
     "name": "stdout",
     "output_type": "stream",
     "text": [
      "Model Was Not Saved ! Current Best Avg. Dice: 0.6502400636672974 Current Avg. Dice: 0.6248632073402405 Current Avg. tumor Dice: 0.6491304039955139 Current Avg. lymph Dice: 0.6263200044631958\n"
     ]
    },
    {
     "name": "stderr",
     "output_type": "stream",
     "text": [
      "Training (17519 / 18000 Steps) (loss=0.50549): 100%|██████████| 80/80 [01:01<00:00,  1.30it/s]\n",
      "Training (17599 / 18000 Steps) (loss=0.46455): 100%|██████████| 80/80 [00:38<00:00,  2.07it/s]\n",
      "Validate (17600 / 10 Steps): 100%|██████████| 18/18 [00:23<00:00,  1.28s/it]?, ?it/s]\n",
      "Training (17600 / 18000 Steps) (loss=0.60721):   1%|▏         | 1/80 [00:25<34:10, 25.96s/it]"
     ]
    },
    {
     "name": "stdout",
     "output_type": "stream",
     "text": [
      "Model Was Not Saved ! Current Best Avg. Dice: 0.6502400636672974 Current Avg. Dice: 0.6459606885910034 Current Avg. tumor Dice: 0.6774415373802185 Current Avg. lymph Dice: 0.6445498466491699\n"
     ]
    },
    {
     "name": "stderr",
     "output_type": "stream",
     "text": [
      "Training (17679 / 18000 Steps) (loss=0.36703): 100%|██████████| 80/80 [01:01<00:00,  1.30it/s]\n",
      "Validate (17680 / 10 Steps): 100%|██████████| 18/18 [00:22<00:00,  1.26s/it]<00:28,  2.14it/s]\n",
      "Training (17700 / 18000 Steps) (loss=0.45311):  26%|██▋       | 21/80 [00:35<07:09,  7.29s/it]"
     ]
    },
    {
     "name": "stdout",
     "output_type": "stream",
     "text": [
      "Model Was Not Saved ! Current Best Avg. Dice: 0.6502400636672974 Current Avg. Dice: 0.6223068237304688 Current Avg. tumor Dice: 0.6456819772720337 Current Avg. lymph Dice: 0.6222836375236511\n"
     ]
    },
    {
     "name": "stderr",
     "output_type": "stream",
     "text": [
      "Training (17759 / 18000 Steps) (loss=0.53027): 100%|██████████| 80/80 [01:01<00:00,  1.30it/s]\n",
      "Validate (17760 / 10 Steps): 100%|██████████| 18/18 [00:22<00:00,  1.25s/it]<00:17,  2.24it/s]\n",
      "Training (17800 / 18000 Steps) (loss=0.44869):  51%|█████▏    | 41/80 [00:43<04:42,  7.23s/it]"
     ]
    },
    {
     "name": "stdout",
     "output_type": "stream",
     "text": [
      "Model Was Not Saved ! Current Best Avg. Dice: 0.6502400636672974 Current Avg. Dice: 0.6176597476005554 Current Avg. tumor Dice: 0.6378968358039856 Current Avg. lymph Dice: 0.6162121891975403\n"
     ]
    },
    {
     "name": "stderr",
     "output_type": "stream",
     "text": [
      "Training (17839 / 18000 Steps) (loss=0.40277): 100%|██████████| 80/80 [01:01<00:00,  1.30it/s]\n",
      "Validate (17840 / 10 Steps): 100%|██████████| 18/18 [00:22<00:00,  1.27s/it]<00:08,  2.24it/s]\n",
      "Training (17900 / 18000 Steps) (loss=0.51448):  76%|███████▋  | 61/80 [00:52<02:18,  7.30s/it]"
     ]
    },
    {
     "name": "stdout",
     "output_type": "stream",
     "text": [
      "Model Was Not Saved ! Current Best Avg. Dice: 0.6502400636672974 Current Avg. Dice: 0.6351010799407959 Current Avg. tumor Dice: 0.6660140156745911 Current Avg. lymph Dice: 0.6302419900894165\n"
     ]
    },
    {
     "name": "stderr",
     "output_type": "stream",
     "text": [
      "Training (17919 / 18000 Steps) (loss=0.46972): 100%|██████████| 80/80 [01:01<00:00,  1.30it/s]\n",
      "Training (17999 / 18000 Steps) (loss=0.42295): 100%|██████████| 80/80 [00:38<00:00,  2.06it/s]\n"
     ]
    }
   ],
   "source": [
    "model_dir = '/home/nada.saadi/CTPET/hecktor2022_cropped/MDA_PET_only_unetr_files'\n",
    "\n",
    "def validation(epoch_iterator_val):\n",
    "    model.eval()\n",
    "    with torch.no_grad():\n",
    "        for step, batch in enumerate(epoch_iterator_val):\n",
    "            val_inputs, val_labels = (batch[\"pt\"].cuda(), batch[\"seg\"].cuda())\n",
    "            val_outputs = sliding_window_inference(val_inputs, (96, 96, 96), 4, model)\n",
    "            val_labels_list = decollate_batch(val_labels)\n",
    "            val_labels_convert = [\n",
    "                post_label(val_label_tensor) for val_label_tensor in val_labels_list\n",
    "            ]\n",
    "            val_outputs_list = decollate_batch(val_outputs)\n",
    "            val_output_convert = [\n",
    "                post_pred(val_pred_tensor) for val_pred_tensor in val_outputs_list\n",
    "            ]\n",
    "            dice_metric(y_pred=val_output_convert, y=val_labels_convert)\n",
    "            dice_metric_batch(y_pred=val_output_convert, y=val_labels_convert)\n",
    "            epoch_iterator_val.set_description(\n",
    "                \"Validate (%d / %d Steps)\" % (global_step, 10.0)\n",
    "            )\n",
    "        mean_dice_val = dice_metric.aggregate().item()\n",
    "        metric_batch_val = dice_metric_batch.aggregate()\n",
    "\n",
    "        metric_tumor = metric_batch_val[0].item()\n",
    "        metric_lymph = metric_batch_val[1].item()\n",
    "\n",
    "        dice_metric.reset()\n",
    "        dice_metric_batch.reset()\n",
    "    return mean_dice_val, metric_tumor, metric_lymph\n",
    "\n",
    "\n",
    "def train(global_step, train_loader, dice_val_best, global_step_best):\n",
    "    model.train()\n",
    "    epoch_loss = 0\n",
    "    step = 0\n",
    "    epoch_iterator = tqdm(\n",
    "        train_loader, desc=\"Training (X / X Steps) (loss=X.X)\", dynamic_ncols=True\n",
    "    )\n",
    "    for step, batch in enumerate(epoch_iterator):\n",
    "        step += 1\n",
    "        x, y = (batch[\"pt\"].cuda(), batch[\"seg\"].cuda())\n",
    "        logit_map = model(x)\n",
    "        loss = loss_function(logit_map, y)\n",
    "        loss.backward()\n",
    "        epoch_loss += loss.item()\n",
    "        optimizer.step()\n",
    "        optimizer.zero_grad()\n",
    "        epoch_iterator.set_description(\n",
    "            \"Training (%d / %d Steps) (loss=%2.5f)\"\n",
    "            % (global_step, max_iterations, loss)\n",
    "        )\n",
    "        if (\n",
    "            global_step % eval_num == 0 and global_step != 0\n",
    "        ) or global_step == max_iterations:\n",
    "            epoch_iterator_val = tqdm(\n",
    "                val_loader, desc=\"Validate (X / X Steps) (dice=X.X)\", dynamic_ncols=True\n",
    "            )\n",
    "            dice_val, metric_tumor, metric_lymph = validation(epoch_iterator_val)\n",
    "            epoch_loss /= step\n",
    "            epoch_loss_values.append(epoch_loss)\n",
    "            metric_values.append(dice_val)\n",
    "            metric_values_tumor.append(metric_tumor)\n",
    "            metric_values_lymph.append(metric_lymph)\n",
    "            if dice_val > dice_val_best:\n",
    "                dice_val_best = dice_val\n",
    "                global_step_best = global_step\n",
    "                torch.save(\n",
    "                    model.state_dict(), os.path.join(model_dir, \"best_mda_metric_pet_only_unetr.pth\")\n",
    "                )\n",
    "                print(\n",
    "                    \"Model Was Saved ! Current Best Avg. Dice: {} Current Avg. Dice: {} Current Avg. tumor Dice: {} Current Avg. lymph Dice: {}\".format(\n",
    "                        dice_val_best, dice_val, metric_tumor, metric_lymph\n",
    "                    )\n",
    "                )\n",
    "            else:\n",
    "                print(\n",
    "                    \"Model Was Not Saved ! Current Best Avg. Dice: {} Current Avg. Dice: {} Current Avg. tumor Dice: {} Current Avg. lymph Dice: {}\".format(\n",
    "                        dice_val_best, dice_val,  metric_tumor, metric_lymph\n",
    "                    )\n",
    "                )\n",
    "        global_step += 1\n",
    "    return global_step, dice_val_best, global_step_best\n",
    "\n",
    "\n",
    "max_iterations = 18000\n",
    "eval_num = 100\n",
    "\n",
    "post_label = AsDiscrete(to_onehot=3)\n",
    "post_pred = AsDiscrete(argmax=True, to_onehot=3)\n",
    "\n",
    "dice_metric = DiceMetric(include_background=False, reduction=\"mean\", get_not_nans=False)\n",
    "dice_metric_batch = DiceMetric(include_background=False, reduction=\"mean_batch\")\n",
    "\n",
    "epoch = 0\n",
    "max_num_epochs = 530\n",
    "\n",
    "global_step = 0\n",
    "dice_val_best = 0.0\n",
    "global_step_best = 0\n",
    "epoch_loss_values = []\n",
    "metric_values = []\n",
    "metric_values_tumor = []\n",
    "metric_values_lymph = []\n",
    "while global_step < max_iterations:\n",
    "    global_step, dice_val_best, global_step_best = train(\n",
    "        global_step, train_loader, dice_val_best, global_step_best\n",
    "    )\n",
    "    # wandb.log({'learning_rate': optimizer.param_groups[0]['lr']})\n",
    "    # wandb.log({'Best Dice': dice_val_best})\n",
    "    epoch += 1\n",
    "    #optimizer.param_groups[0]['lr'] = poly_lr(epoch, max_num_epochs, 0.005676 , 0.9)\n",
    "# model.load_state_dict(torch.load(os.path.join(model_dir, \"best_metric_luck_UNETr_prompt.pth\")))"
   ]
  }
 ],
 "metadata": {
  "kernelspec": {
   "display_name": "clam",
   "language": "python",
   "name": "python3"
  },
  "language_info": {
   "codemirror_mode": {
    "name": "ipython",
    "version": 3
   },
   "file_extension": ".py",
   "mimetype": "text/x-python",
   "name": "python",
   "nbconvert_exporter": "python",
   "pygments_lexer": "ipython3",
   "version": "3.8.0"
  }
 },
 "nbformat": 4,
 "nbformat_minor": 2
}
