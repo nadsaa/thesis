{
 "cells": [
  {
   "cell_type": "code",
   "execution_count": 1,
   "metadata": {},
   "outputs": [
    {
     "name": "stdout",
     "output_type": "stream",
     "text": [
      "1\n"
     ]
    },
    {
     "name": "stderr",
     "output_type": "stream",
     "text": [
      "/tmp/ipykernel_182923/1896300350.py:9: TqdmWarning: IProgress not found. Please update jupyter and ipywidgets. See https://ipywidgets.readthedocs.io/en/stable/user_install.html\n",
      "  from tqdm.autonotebook import tqdm\n"
     ]
    }
   ],
   "source": [
    "import torch\n",
    "import torch.nn as nn\n",
    "from torch.utils.data import DataLoader\n",
    "from collections.abc import Sequence\n",
    "\n",
    "from unetr import CustomedUNETR\n",
    "\n",
    "import json\n",
    "from tqdm.autonotebook import tqdm\n",
    "import os\n",
    "os.environ[\"CUDA_DEVICE_ORDER\"] = \"PCI_BUS_ID\"\n",
    "os.environ[\"CUDA_VISIBLE_DEVICES\"] = \"0\" \n",
    "\n",
    "print(torch.cuda.device_count())\n",
    "torch.backends.cudnn.benchmark = True\n",
    "device = torch.device(\"cuda\" if torch.cuda.is_available() else \"cpu\")"
   ]
  },
  {
   "cell_type": "code",
   "execution_count": 2,
   "metadata": {},
   "outputs": [],
   "source": [
    "import os\n",
    "import shutil\n",
    "import tempfile\n",
    "\n",
    "import matplotlib.pyplot as plt\n",
    "import numpy as np\n",
    "from tqdm import tqdm\n",
    "from glob import glob\n",
    "# import wandb\n",
    "\n",
    "import monai\n",
    "from monai.losses import DiceCELoss, DiceFocalLoss, FocalLoss\n",
    "from monai.inferers import sliding_window_inference\n",
    "from monai import transforms\n",
    "\n",
    "from monai.transforms import (\n",
    "       AsDiscrete,\n",
    "    Compose,\n",
    "    CropForegroundd,\n",
    "    LoadImaged,\n",
    "    Orientationd,\n",
    "    RandFlipd,\n",
    "    RandCropByPosNegLabeld,\n",
    "    RandShiftIntensityd,\n",
    "    ScaleIntensityRanged,\n",
    "    Spacingd,\n",
    "    RandRotate90d,\n",
    "    MapTransform,\n",
    "    ScaleIntensityd,\n",
    "    #AddChanneld,\n",
    "    SpatialPadd,\n",
    "    CenterSpatialCropd,\n",
    "    EnsureChannelFirstd,\n",
    "    ConcatItemsd,\n",
    "    AdjustContrastd, \n",
    "    Rand3DElasticd,\n",
    "    HistogramNormalized,\n",
    "    NormalizeIntensityd,\n",
    "    Invertd,\n",
    "    SaveImage,\n",
    "\n",
    ")\n",
    "\n",
    "from monai.config import print_config\n",
    "from monai.metrics import DiceMetric\n",
    "from monai.networks.nets import SwinUNETR, UNETR, SegResNet\n",
    "from monai.data import (\n",
    "    DataLoader,\n",
    "    CacheDataset,\n",
    "    load_decathlon_datalist,\n",
    "    decollate_batch,\n",
    ")\n",
    "from monai import data\n",
    "\n",
    "\n",
    "from monai.utils import first, set_determinism\n",
    "from sklearn.model_selection import train_test_split\n",
    "import json\n",
    "\n",
    "\n",
    "import torch"
   ]
  },
  {
   "cell_type": "code",
   "execution_count": 3,
   "metadata": {},
   "outputs": [
    {
     "name": "stdout",
     "output_type": "stream",
     "text": [
      "JSON file created at /home/nada.saadi/CTPET/hecktor2022_cropped/HGJ_ctpt_train_new.json\n"
     ]
    }
   ],
   "source": [
    "import os\n",
    "import json\n",
    "import random\n",
    "from glob import glob\n",
    "\n",
    "def generate_paths(patient_id):\n",
    "    base_dir = '/home/nada.saadi/MIS-FM/hecktor2022_cropped/data'\n",
    "    return {\n",
    "        'id': os.path.join(base_dir, patient_id),\n",
    "        'ct': os.path.join(base_dir, patient_id, f\"{patient_id}_ct.nii.gz\"),\n",
    "        'pt': os.path.join(base_dir, patient_id, f\"{patient_id}_pt.nii.gz\"),\n",
    "        'seg': os.path.join(base_dir, patient_id, f\"{patient_id}_gt.nii.gz\")\n",
    "    }\n",
    "\n",
    "# Assign each data entry to a random fold\n",
    "all_data = []\n",
    "num_folds = 5\n",
    "\n",
    "for file_dir in sorted(glob('data/*')):\n",
    "    patient_id = file_dir.split('/')[-1]\n",
    "    # Check if the file belongs to the MDA center\n",
    "    if patient_id.startswith(\"HGJ-\"):\n",
    "        entry = generate_paths(patient_id)\n",
    "        entry['fold'] = random.randint(1, num_folds) - 1\n",
    "        all_data.append(entry)\n",
    "\n",
    "# Compile data into a JSON structure\n",
    "data_json = {\"training\": all_data}\n",
    "\n",
    "# Save to JSON file\n",
    "json_file_path = \"/home/nada.saadi/CTPET/hecktor2022_cropped/HGJ_ctpt_train_new.json\"\n",
    "with open(json_file_path, 'w') as f:\n",
    "    json.dump(data_json, f, indent=4)\n",
    "\n",
    "print(f\"JSON file created at {json_file_path}\")\n"
   ]
  },
  {
   "cell_type": "code",
   "execution_count": 4,
   "metadata": {},
   "outputs": [
    {
     "name": "stdout",
     "output_type": "stream",
     "text": [
      "[{'id': '/home/nada.saadi/MIS-FM/hecktor2022_cropped/data/HGJ-007', 'ct': '/home/nada.saadi/MIS-FM/hecktor2022_cropped/data/HGJ-007/HGJ-007_ct.nii.gz', 'pt': '/home/nada.saadi/MIS-FM/hecktor2022_cropped/data/HGJ-007/HGJ-007_pt.nii.gz', 'seg': '/home/nada.saadi/MIS-FM/hecktor2022_cropped/data/HGJ-007/HGJ-007_gt.nii.gz', 'fold': 0}, {'id': '/home/nada.saadi/MIS-FM/hecktor2022_cropped/data/HGJ-008', 'ct': '/home/nada.saadi/MIS-FM/hecktor2022_cropped/data/HGJ-008/HGJ-008_ct.nii.gz', 'pt': '/home/nada.saadi/MIS-FM/hecktor2022_cropped/data/HGJ-008/HGJ-008_pt.nii.gz', 'seg': '/home/nada.saadi/MIS-FM/hecktor2022_cropped/data/HGJ-008/HGJ-008_gt.nii.gz', 'fold': 0}, {'id': '/home/nada.saadi/MIS-FM/hecktor2022_cropped/data/HGJ-010', 'ct': '/home/nada.saadi/MIS-FM/hecktor2022_cropped/data/HGJ-010/HGJ-010_ct.nii.gz', 'pt': '/home/nada.saadi/MIS-FM/hecktor2022_cropped/data/HGJ-010/HGJ-010_pt.nii.gz', 'seg': '/home/nada.saadi/MIS-FM/hecktor2022_cropped/data/HGJ-010/HGJ-010_gt.nii.gz', 'fold': 1}, {'id': '/home/nada.saadi/MIS-FM/hecktor2022_cropped/data/HGJ-013', 'ct': '/home/nada.saadi/MIS-FM/hecktor2022_cropped/data/HGJ-013/HGJ-013_ct.nii.gz', 'pt': '/home/nada.saadi/MIS-FM/hecktor2022_cropped/data/HGJ-013/HGJ-013_pt.nii.gz', 'seg': '/home/nada.saadi/MIS-FM/hecktor2022_cropped/data/HGJ-013/HGJ-013_gt.nii.gz', 'fold': 2}, {'id': '/home/nada.saadi/MIS-FM/hecktor2022_cropped/data/HGJ-015', 'ct': '/home/nada.saadi/MIS-FM/hecktor2022_cropped/data/HGJ-015/HGJ-015_ct.nii.gz', 'pt': '/home/nada.saadi/MIS-FM/hecktor2022_cropped/data/HGJ-015/HGJ-015_pt.nii.gz', 'seg': '/home/nada.saadi/MIS-FM/hecktor2022_cropped/data/HGJ-015/HGJ-015_gt.nii.gz', 'fold': 2}]\n"
     ]
    }
   ],
   "source": [
    "import json\n",
    "\n",
    "json_file_path = \"/home/nada.saadi/CTPET/hecktor2022_cropped/HGJ_ctpt_train_new.json\"\n",
    "\n",
    "with open(json_file_path, 'r') as f:\n",
    "    data = json.load(f)\n",
    "\n",
    "first_5_elements = data[\"training\"][:5]\n",
    "print(first_5_elements)"
   ]
  },
  {
   "cell_type": "code",
   "execution_count": 5,
   "metadata": {},
   "outputs": [],
   "source": [
    "data_dir = '/home/nada.saadi/MIS-FM/hecktor2022_cropped'\n",
    "json_dir = \"/home/nada.saadi/CTPET/hecktor2022_cropped/HGJ_ctpt_train_new.json\""
   ]
  },
  {
   "cell_type": "code",
   "execution_count": null,
   "metadata": {},
   "outputs": [],
   "source": []
  },
  {
   "cell_type": "code",
   "execution_count": 16,
   "metadata": {},
   "outputs": [],
   "source": [
    "def datafold_read(datalist, basedir, fold=1, key=\"training\"):\n",
    "    with open(datalist) as f:\n",
    "        json_data = json.load(f)\n",
    "\n",
    "    json_data = json_data[key]\n",
    "\n",
    "    for d in json_data:\n",
    "        for k in d:\n",
    "            if isinstance(d[k], list):\n",
    "                d[k] = [os.path.join(basedir, iv) for iv in d[k]]\n",
    "            elif isinstance(d[k], str):\n",
    "                d[k] = os.path.join(basedir, d[k]) if len(d[k]) > 0 else d[k]\n",
    "\n",
    "    tr = []\n",
    "    val = []\n",
    "    for d in json_data:\n",
    "        if \"fold\" in d and d[\"fold\"] == fold:\n",
    "            val.append(d)\n",
    "        else:\n",
    "            tr.append(d)\n",
    "\n",
    "    return tr, val"
   ]
  },
  {
   "cell_type": "code",
   "execution_count": 18,
   "metadata": {},
   "outputs": [
    {
     "data": {
      "text/plain": [
       "(43, 11)"
      ]
     },
     "execution_count": 18,
     "metadata": {},
     "output_type": "execute_result"
    }
   ],
   "source": [
    "train_files, validation_files = datafold_read(datalist=json_dir, basedir=data_dir, fold=0)\n",
    "len(train_files), len(validation_files)"
   ]
  },
  {
   "cell_type": "code",
   "execution_count": 19,
   "metadata": {},
   "outputs": [],
   "source": [
    "class ClipCT(MapTransform):\n",
    "    \"\"\"\n",
    "    Convert labels to multi channels based on hecktor classes:\n",
    "    label 1 is the tumor\n",
    "    label 2 is the lymph node\n",
    "\n",
    "    \"\"\"\n",
    "\n",
    "    def __call__(self, data):\n",
    "        d = dict(data)\n",
    "        for key in self.keys:\n",
    "            if key == \"ct\":\n",
    "                d[key] = torch.clip(d[key], min=-200, max=200)\n",
    "            # elif key == \"pt\":\n",
    "            #     d[key] = torch.clip(d[key], d[key].min(), 5)\n",
    "        return d\n",
    "\n",
    "class MulPTFM(MapTransform):\n",
    "    \"\"\"\n",
    "    Mult PT and FM \n",
    "\n",
    "    \"\"\"\n",
    "\n",
    "    def __call__(self, data):\n",
    "        d = dict(data)\n",
    "\n",
    "        fm = d[\"ct\"] > 0\n",
    "        d[\"pt\"] = d[\"pt\"] * fm\n",
    "        return d\n",
    "\n",
    "class SelectClass(MapTransform):\n",
    "    \"\"\"\n",
    "    Select the class for which you want to fine tune the model \n",
    "\n",
    "    \"\"\"\n",
    "    # def __init__(self, keys, cls=1):\n",
    "    #     super(self).__init__(keys)\n",
    "    #     self.cls = cls\n",
    "\n",
    "    def __call__(self, data):\n",
    "        d = dict(data)\n",
    "        d[\"seg\"][d[\"seg\"] == 1] = 0\n",
    "        # d[\"seg\"][d[\"seg\"] == 2] = 1\n",
    "        \n",
    "        return d"
   ]
  },
  {
   "cell_type": "code",
   "execution_count": 20,
   "metadata": {},
   "outputs": [],
   "source": [
    "num_samples = 4\n",
    "\n",
    "train_transforms = Compose(\n",
    "    [\n",
    "        LoadImaged(keys=[\"ct\", \"pt\", \"seg\"], ensure_channel_first = True),\n",
    "        SpatialPadd(keys=[\"ct\", \"pt\", \"seg\"], spatial_size=(200, 200, 310), method='end'),\n",
    "        Orientationd(keys=[\"ct\", \"pt\", \"seg\"], axcodes=\"PLS\"),\n",
    "        NormalizeIntensityd(keys=[\"pt\"]),\n",
    "        ClipCT(keys=[\"ct\"]),\n",
    "        ScaleIntensityd(keys=[\"ct\"], minv=0, maxv=1),\n",
    "        #MulPTFM(keys=[\"ct\",\"pt\"]),\n",
    "        ConcatItemsd(keys=[\"pt\", \"ct\"], name=\"ctpt\"),\n",
    "        #NormalizeIntensityd(keys=[\"ctpt\"], channel_wise=True),\n",
    "        RandCropByPosNegLabeld(\n",
    "            keys=[\"ctpt\", \"seg\"],\n",
    "            label_key=\"seg\",\n",
    "            spatial_size=(96, 96, 96),\n",
    "            pos=1,\n",
    "            neg=1,\n",
    "            num_samples=num_samples,\n",
    "            image_key=\"ctpt\",\n",
    "            image_threshold=0,\n",
    "        ),\n",
    "        RandFlipd(\n",
    "            keys=[\"ctpt\", \"seg\"],\n",
    "            spatial_axis=[0],\n",
    "            prob=0.20,\n",
    "        ),\n",
    "        RandFlipd(\n",
    "            keys=[\"ctpt\", \"seg\"],\n",
    "            spatial_axis=[1],\n",
    "            prob=0.20,\n",
    "        ),\n",
    "        RandFlipd(\n",
    "            keys=[\"ctpt\", \"seg\"],\n",
    "            spatial_axis=[2],\n",
    "            prob=0.20,\n",
    "        ),\n",
    "        RandRotate90d(\n",
    "            keys=[\"ctpt\", \"seg\"],\n",
    "            prob=0.20,\n",
    "            max_k=3,\n",
    "        ),\n",
    "    ]\n",
    ")\n",
    "val_transforms = Compose(\n",
    "    [\n",
    "        LoadImaged(keys=[\"ct\", \"pt\", \"seg\"], ensure_channel_first = True),\n",
    "        SpatialPadd(keys=[\"ct\", \"pt\", \"seg\"], spatial_size=(200, 200, 310), method='end'),\n",
    "        Orientationd(keys=[\"ct\", \"pt\", \"seg\"], axcodes=\"PLS\"),\n",
    "        NormalizeIntensityd(keys=[\"pt\"]),\n",
    "        ClipCT(keys=[\"ct\"]),\n",
    "        ScaleIntensityd(keys=[\"ct\"], minv=0, maxv=1),\n",
    "        #MulPTFM(keys=[\"ct\",\"pt\"]),\n",
    "        ConcatItemsd(keys=[\"pt\", \"ct\"], name=\"ctpt\"),\n",
    "    ]\n",
    ")"
   ]
  },
  {
   "cell_type": "code",
   "execution_count": 21,
   "metadata": {},
   "outputs": [],
   "source": [
    "train_ds = monai.data.Dataset(data=train_files, transform=train_transforms)\n",
    "\n",
    "train_loader = DataLoader(\n",
    "    train_ds,\n",
    "    batch_size=2,\n",
    "    shuffle=True,\n",
    "    num_workers=8,\n",
    "    pin_memory=torch.cuda.is_available(),\n",
    "    )\n",
    "\n",
    "val_ds = monai.data.Dataset(data=validation_files, transform=val_transforms)\n",
    "\n",
    "val_loader = DataLoader(\n",
    "    val_ds, \n",
    "    batch_size=2, \n",
    "    num_workers=8, \n",
    "    shuffle= False)"
   ]
  },
  {
   "cell_type": "code",
   "execution_count": 22,
   "metadata": {},
   "outputs": [
    {
     "name": "stdout",
     "output_type": "stream",
     "text": [
      "Nada's version of UNETR\n",
      "(96, 96, 96)\n",
      "(16, 16, 16)\n",
      "(6, 6, 6)\n",
      "768\n",
      "zaz w dakchi ya s lbnat\n"
     ]
    }
   ],
   "source": [
    "model = CustomedUNETR(\n",
    "    in_channels=1,  # Number of input channels\n",
    "    out_channels=3,  # Number of output channels\n",
    "    img_size=(96, 96, 96),  # Size of the input image\n",
    "    feature_size=48,  # Size of the feature maps\n",
    "    hidden_size=768,\n",
    "    num_heads=12,  # Size of the hidden layers in the transformer\n",
    "    mlp_dim=3072,  # Dimension of the MLP in the transformer\n",
    "    pos_embed=\"perceptron\",  # Type of positional embedding\n",
    "    norm_name=\"instance\",  # Type of normalization\n",
    "    res_block=True,  # Whether to use residual blocks\n",
    "    dropout_rate=0.0,\n",
    "    proj_type=\"conv\",\n",
    "    r=4,\n",
    "    lora_layer=True,\n",
    "    use_ct_encoder=True,\n",
    "    use_pet_encoder=True,\n",
    ").to(device)\n",
    "\n",
    "rt = '/home/nada.saadi/CTPET/hecktor2022_cropped/a_6th/a_6th_ctptct.pth'\n",
    "state_dict = torch.load(rt)\n",
    "model_state_dict = model.state_dict()\n",
    "for name, param in state_dict.items():\n",
    "    if name in model_state_dict:\n",
    "        if param.shape == model_state_dict[name].shape:\n",
    "            model_state_dict[name] = param\n",
    "\n",
    "model.load_state_dict(model_state_dict) \n",
    "\n",
    "for name, param in model.named_parameters():\n",
    "    if \"decoder5\" in name or \"decoder4\" in name or \"decoder3\" in name or \"decoder2\" in name:\n",
    "        param.requires_grad = False"
   ]
  },
  {
   "cell_type": "code",
   "execution_count": 23,
   "metadata": {},
   "outputs": [],
   "source": [
    "torch.backends.cudnn.benchmark = True\n",
    "def poly_lr(epoch, max_epochs, initial_lr, exponent=0.9):\n",
    "    return initial_lr * (1 - epoch / max_epochs)**exponent\n",
    "\n",
    "loss_function = DiceCELoss(to_onehot_y=True, softmax=True)\n",
    "optimizer = torch.optim.AdamW(model.parameters(), lr=1e-4, weight_decay=1e-5)"
   ]
  },
  {
   "cell_type": "code",
   "execution_count": 24,
   "metadata": {},
   "outputs": [
    {
     "name": "stderr",
     "output_type": "stream",
     "text": [
      "Training (21 / 18000 Steps) (loss=0.58401): 100%|██████████| 22/22 [01:22<00:00,  3.74s/it]\n",
      "Training (43 / 18000 Steps) (loss=0.57556): 100%|██████████| 22/22 [00:38<00:00,  1.73s/it]\n",
      "Training (65 / 18000 Steps) (loss=0.67536): 100%|██████████| 22/22 [00:35<00:00,  1.61s/it]\n",
      "Training (87 / 18000 Steps) (loss=0.51513): 100%|██████████| 22/22 [00:36<00:00,  1.68s/it]\n",
      "Validate (88 / 10 Steps): 100%|██████████| 6/6 [00:27<00:00,  4.62s/it]:24<00:14,  1.41s/it]\n",
      "Training (100 / 18000 Steps) (loss=0.57651):  59%|█████▉    | 13/22 [00:53<01:31, 10.20s/it]"
     ]
    },
    {
     "name": "stdout",
     "output_type": "stream",
     "text": [
      "Model Was Saved ! Current Best Avg. Dice: 0.5539913177490234 Current Avg. Dice: 0.5539913177490234 Current Avg. tumor Dice: 0.6894946098327637 Current Avg. lymph Dice: 0.4184880554676056\n"
     ]
    },
    {
     "name": "stderr",
     "output_type": "stream",
     "text": [
      "Training (109 / 18000 Steps) (loss=0.35545): 100%|██████████| 22/22 [01:05<00:00,  2.97s/it]\n",
      "Training (131 / 18000 Steps) (loss=0.60514): 100%|██████████| 22/22 [00:37<00:00,  1.73s/it]\n",
      "Training (153 / 18000 Steps) (loss=0.55535): 100%|██████████| 22/22 [00:35<00:00,  1.62s/it]\n",
      "Training (175 / 18000 Steps) (loss=0.21947): 100%|██████████| 22/22 [00:35<00:00,  1.61s/it]\n",
      "Training (197 / 18000 Steps) (loss=0.32819): 100%|██████████| 22/22 [00:37<00:00,  1.72s/it]\n",
      "Validate (198 / 10 Steps): 100%|██████████| 6/6 [00:27<00:00,  4.61s/it]0<01:22,  4.14s/it]\n",
      "Training (200 / 18000 Steps) (loss=0.31346):  14%|█▎        | 3/22 [00:39<05:01, 15.89s/it]"
     ]
    },
    {
     "name": "stdout",
     "output_type": "stream",
     "text": [
      "Model Was Saved ! Current Best Avg. Dice: 0.6584663987159729 Current Avg. Dice: 0.6584663987159729 Current Avg. tumor Dice: 0.7675411701202393 Current Avg. lymph Dice: 0.5493916273117065\n"
     ]
    },
    {
     "name": "stderr",
     "output_type": "stream",
     "text": [
      "Training (219 / 18000 Steps) (loss=0.39164): 100%|██████████| 22/22 [01:04<00:00,  2.95s/it]\n",
      "Training (241 / 18000 Steps) (loss=0.29993): 100%|██████████| 22/22 [00:37<00:00,  1.70s/it]\n",
      "Training (263 / 18000 Steps) (loss=0.53784): 100%|██████████| 22/22 [00:36<00:00,  1.65s/it]\n",
      "Training (285 / 18000 Steps) (loss=0.44828): 100%|██████████| 22/22 [00:36<00:00,  1.65s/it]\n",
      "Validate (286 / 10 Steps): 100%|██████████| 6/6 [00:27<00:00,  4.57s/it]28<00:11,  1.39s/it]\n",
      "Training (300 / 18000 Steps) (loss=0.35785):  68%|██████▊   | 15/22 [00:56<01:09,  9.95s/it]"
     ]
    },
    {
     "name": "stdout",
     "output_type": "stream",
     "text": [
      "Model Was Saved ! Current Best Avg. Dice: 0.6864043474197388 Current Avg. Dice: 0.6864043474197388 Current Avg. tumor Dice: 0.784010648727417 Current Avg. lymph Dice: 0.5887981057167053\n"
     ]
    },
    {
     "name": "stderr",
     "output_type": "stream",
     "text": [
      "Training (307 / 18000 Steps) (loss=0.29548): 100%|██████████| 22/22 [01:05<00:00,  2.98s/it]\n",
      "Training (329 / 18000 Steps) (loss=0.41370): 100%|██████████| 22/22 [00:36<00:00,  1.66s/it]\n",
      "Training (351 / 18000 Steps) (loss=0.18857): 100%|██████████| 22/22 [00:35<00:00,  1.62s/it]\n",
      "Training (373 / 18000 Steps) (loss=0.33796): 100%|██████████| 22/22 [00:38<00:00,  1.74s/it]\n",
      "Training (395 / 18000 Steps) (loss=0.42743): 100%|██████████| 22/22 [00:36<00:00,  1.66s/it]\n",
      "Validate (396 / 10 Steps): 100%|██████████| 6/6 [00:27<00:00,  4.64s/it]4<00:46,  2.57s/it]\n",
      "Training (400 / 18000 Steps) (loss=0.39115):  23%|██▎       | 5/22 [00:42<03:27, 12.18s/it]"
     ]
    },
    {
     "name": "stdout",
     "output_type": "stream",
     "text": [
      "Model Was Not Saved ! Current Best Avg. Dice: 0.6864043474197388 Current Avg. Dice: 0.6549680829048157 Current Avg. tumor Dice: 0.7771783471107483 Current Avg. lymph Dice: 0.5327577590942383\n"
     ]
    },
    {
     "name": "stderr",
     "output_type": "stream",
     "text": [
      "Training (417 / 18000 Steps) (loss=0.30790): 100%|██████████| 22/22 [01:05<00:00,  2.97s/it]\n",
      "Training (439 / 18000 Steps) (loss=0.37202): 100%|██████████| 22/22 [00:35<00:00,  1.63s/it]\n",
      "Training (461 / 18000 Steps) (loss=0.44027): 100%|██████████| 22/22 [00:35<00:00,  1.62s/it]\n",
      "Training (483 / 18000 Steps) (loss=0.35733): 100%|██████████| 22/22 [00:36<00:00,  1.64s/it]\n",
      "Validate (484 / 10 Steps): 100%|██████████| 6/6 [00:27<00:00,  4.58s/it]32<00:08,  1.38s/it]\n",
      "Training (500 / 18000 Steps) (loss=0.44947):  77%|███████▋  | 17/22 [00:59<00:48,  9.65s/it]"
     ]
    },
    {
     "name": "stdout",
     "output_type": "stream",
     "text": [
      "Model Was Not Saved ! Current Best Avg. Dice: 0.6864043474197388 Current Avg. Dice: 0.6849686503410339 Current Avg. tumor Dice: 0.7982208728790283 Current Avg. lymph Dice: 0.5717163681983948\n"
     ]
    },
    {
     "name": "stderr",
     "output_type": "stream",
     "text": [
      "Training (505 / 18000 Steps) (loss=0.29949): 100%|██████████| 22/22 [01:06<00:00,  3.01s/it]\n",
      "Training (527 / 18000 Steps) (loss=0.33231): 100%|██████████| 22/22 [00:35<00:00,  1.62s/it]\n",
      "Training (549 / 18000 Steps) (loss=0.66718): 100%|██████████| 22/22 [00:38<00:00,  1.73s/it]\n",
      "Training (571 / 18000 Steps) (loss=0.50514): 100%|██████████| 22/22 [00:36<00:00,  1.66s/it]\n",
      "Training (593 / 18000 Steps) (loss=0.36755): 100%|██████████| 22/22 [00:35<00:00,  1.63s/it]\n",
      "Validate (594 / 10 Steps): 100%|██████████| 6/6 [00:27<00:00,  4.61s/it]5<00:27,  1.70s/it]\n",
      "Training (600 / 18000 Steps) (loss=0.47656):  32%|███▏      | 7/22 [00:42<02:39, 10.65s/it]"
     ]
    },
    {
     "name": "stdout",
     "output_type": "stream",
     "text": [
      "Model Was Not Saved ! Current Best Avg. Dice: 0.6864043474197388 Current Avg. Dice: 0.6793859601020813 Current Avg. tumor Dice: 0.7819610238075256 Current Avg. lymph Dice: 0.5768109560012817\n"
     ]
    },
    {
     "name": "stderr",
     "output_type": "stream",
     "text": [
      "Training (615 / 18000 Steps) (loss=0.54163): 100%|██████████| 22/22 [01:02<00:00,  2.86s/it]\n",
      "Training (637 / 18000 Steps) (loss=0.28864): 100%|██████████| 22/22 [00:35<00:00,  1.63s/it]\n",
      "Training (659 / 18000 Steps) (loss=0.54653): 100%|██████████| 22/22 [00:37<00:00,  1.69s/it]\n",
      "Training (681 / 18000 Steps) (loss=0.47459): 100%|██████████| 22/22 [00:36<00:00,  1.67s/it]\n",
      "Validate (682 / 10 Steps): 100%|██████████| 6/6 [00:27<00:00,  4.63s/it]32<00:05,  1.37s/it]\n",
      "Training (700 / 18000 Steps) (loss=0.40335):  86%|████████▋ | 19/22 [01:01<00:30, 10.01s/it]"
     ]
    },
    {
     "name": "stdout",
     "output_type": "stream",
     "text": [
      "Model Was Saved ! Current Best Avg. Dice: 0.6895634531974792 Current Avg. Dice: 0.6895634531974792 Current Avg. tumor Dice: 0.7969127297401428 Current Avg. lymph Dice: 0.5822141766548157\n"
     ]
    },
    {
     "name": "stderr",
     "output_type": "stream",
     "text": [
      "Training (703 / 18000 Steps) (loss=0.30780): 100%|██████████| 22/22 [01:05<00:00,  2.96s/it]\n",
      "Training (725 / 18000 Steps) (loss=0.30812): 100%|██████████| 22/22 [00:37<00:00,  1.70s/it]\n",
      "Training (747 / 18000 Steps) (loss=0.42602): 100%|██████████| 22/22 [00:35<00:00,  1.61s/it]\n",
      "Training (769 / 18000 Steps) (loss=0.41883): 100%|██████████| 22/22 [00:36<00:00,  1.67s/it]\n",
      "Training (791 / 18000 Steps) (loss=0.19830): 100%|██████████| 22/22 [00:36<00:00,  1.67s/it]\n",
      "Validate (792 / 10 Steps): 100%|██████████| 6/6 [00:27<00:00,  4.63s/it]9<00:21,  1.55s/it]\n",
      "Training (800 / 18000 Steps) (loss=0.32628):  41%|████      | 9/22 [00:47<02:12, 10.20s/it]"
     ]
    },
    {
     "name": "stdout",
     "output_type": "stream",
     "text": [
      "Model Was Not Saved ! Current Best Avg. Dice: 0.6895634531974792 Current Avg. Dice: 0.687000036239624 Current Avg. tumor Dice: 0.7888627648353577 Current Avg. lymph Dice: 0.5851373076438904\n"
     ]
    },
    {
     "name": "stderr",
     "output_type": "stream",
     "text": [
      "Training (813 / 18000 Steps) (loss=0.54706): 100%|██████████| 22/22 [01:04<00:00,  2.92s/it]\n",
      "Training (835 / 18000 Steps) (loss=0.52057): 100%|██████████| 22/22 [00:37<00:00,  1.68s/it]\n",
      "Training (857 / 18000 Steps) (loss=0.34880): 100%|██████████| 22/22 [00:35<00:00,  1.61s/it]\n",
      "Training (879 / 18000 Steps) (loss=0.42860): 100%|██████████| 22/22 [00:36<00:00,  1.68s/it]\n",
      "Validate (880 / 10 Steps): 100%|██████████| 6/6 [00:27<00:00,  4.60s/it]35<00:02,  1.38s/it]\n",
      "Training (900 / 18000 Steps) (loss=0.51619):  95%|█████████▌| 21/22 [01:04<00:09,  9.94s/it]"
     ]
    },
    {
     "name": "stdout",
     "output_type": "stream",
     "text": [
      "Model Was Saved ! Current Best Avg. Dice: 0.6974212527275085 Current Avg. Dice: 0.6974212527275085 Current Avg. tumor Dice: 0.7938308119773865 Current Avg. lymph Dice: 0.6010116934776306\n"
     ]
    },
    {
     "name": "stderr",
     "output_type": "stream",
     "text": [
      "Training (901 / 18000 Steps) (loss=0.39658): 100%|██████████| 22/22 [01:05<00:00,  2.97s/it]\n",
      "Training (923 / 18000 Steps) (loss=0.46644): 100%|██████████| 22/22 [00:37<00:00,  1.72s/it]\n",
      "Training (945 / 18000 Steps) (loss=0.44231): 100%|██████████| 22/22 [00:36<00:00,  1.64s/it]\n",
      "Training (967 / 18000 Steps) (loss=0.48899): 100%|██████████| 22/22 [00:37<00:00,  1.71s/it]\n",
      "Training (989 / 18000 Steps) (loss=0.45165): 100%|██████████| 22/22 [00:36<00:00,  1.66s/it]\n",
      "Validate (990 / 10 Steps): 100%|██████████| 6/6 [00:27<00:00,  4.61s/it]:22<00:17,  1.47s/it]\n",
      "Training (1000 / 18000 Steps) (loss=0.42005):  50%|█████     | 11/22 [00:51<01:52, 10.19s/it]"
     ]
    },
    {
     "name": "stdout",
     "output_type": "stream",
     "text": [
      "Model Was Saved ! Current Best Avg. Dice: 0.6981680393218994 Current Avg. Dice: 0.6981680393218994 Current Avg. tumor Dice: 0.795575737953186 Current Avg. lymph Dice: 0.600760281085968\n"
     ]
    },
    {
     "name": "stderr",
     "output_type": "stream",
     "text": [
      "Training (1011 / 18000 Steps) (loss=0.26035): 100%|██████████| 22/22 [01:06<00:00,  3.00s/it]\n",
      "Training (1033 / 18000 Steps) (loss=0.33040): 100%|██████████| 22/22 [00:38<00:00,  1.73s/it]\n",
      "Training (1055 / 18000 Steps) (loss=0.16678): 100%|██████████| 22/22 [00:36<00:00,  1.66s/it]\n",
      "Training (1077 / 18000 Steps) (loss=0.42005): 100%|██████████| 22/22 [00:37<00:00,  1.68s/it]\n",
      "Training (1099 / 18000 Steps) (loss=0.35645): 100%|██████████| 22/22 [00:35<00:00,  1.63s/it]\n",
      "Validate (1100 / 10 Steps): 100%|██████████| 6/6 [00:28<00:00,  4.70s/it]7<?, ?it/s]\n",
      "Training (1100 / 18000 Steps) (loss=0.49756):   5%|▍         | 1/22 [00:35<12:27, 35.61s/it]"
     ]
    },
    {
     "name": "stdout",
     "output_type": "stream",
     "text": [
      "Model Was Not Saved ! Current Best Avg. Dice: 0.6981680393218994 Current Avg. Dice: 0.682462215423584 Current Avg. tumor Dice: 0.7750063538551331 Current Avg. lymph Dice: 0.5899180769920349\n"
     ]
    },
    {
     "name": "stderr",
     "output_type": "stream",
     "text": [
      "Training (1121 / 18000 Steps) (loss=0.30728): 100%|██████████| 22/22 [01:03<00:00,  2.90s/it]\n",
      "Training (1143 / 18000 Steps) (loss=0.39658): 100%|██████████| 22/22 [00:36<00:00,  1.64s/it]\n",
      "Training (1165 / 18000 Steps) (loss=0.15252): 100%|██████████| 22/22 [00:36<00:00,  1.66s/it]\n",
      "Training (1187 / 18000 Steps) (loss=0.37027): 100%|██████████| 22/22 [00:37<00:00,  1.72s/it]\n",
      "Validate (1188 / 10 Steps): 100%|██████████| 6/6 [00:27<00:00,  4.64s/it]26<00:14,  1.42s/it]\n",
      "Training (1200 / 18000 Steps) (loss=0.41269):  59%|█████▉    | 13/22 [00:54<01:28,  9.85s/it]"
     ]
    },
    {
     "name": "stdout",
     "output_type": "stream",
     "text": [
      "Model Was Not Saved ! Current Best Avg. Dice: 0.6981680393218994 Current Avg. Dice: 0.6896129250526428 Current Avg. tumor Dice: 0.7896518707275391 Current Avg. lymph Dice: 0.5895739793777466\n"
     ]
    },
    {
     "name": "stderr",
     "output_type": "stream",
     "text": [
      "Training (1209 / 18000 Steps) (loss=0.57588): 100%|██████████| 22/22 [01:06<00:00,  3.03s/it]\n",
      "Training (1231 / 18000 Steps) (loss=0.39221): 100%|██████████| 22/22 [00:37<00:00,  1.69s/it]\n",
      "Training (1253 / 18000 Steps) (loss=0.31406): 100%|██████████| 22/22 [00:36<00:00,  1.66s/it]\n",
      "Training (1275 / 18000 Steps) (loss=0.56247): 100%|██████████| 22/22 [00:36<00:00,  1.65s/it]\n",
      "Training (1297 / 18000 Steps) (loss=0.46618): 100%|██████████| 22/22 [00:35<00:00,  1.62s/it]\n",
      "Validate (1298 / 10 Steps): 100%|██████████| 6/6 [00:28<00:00,  4.68s/it]0<01:15,  3.78s/it]\n",
      "Training (1300 / 18000 Steps) (loss=0.36656):  14%|█▎        | 3/22 [00:38<05:00, 15.83s/it]"
     ]
    },
    {
     "name": "stdout",
     "output_type": "stream",
     "text": [
      "Model Was Not Saved ! Current Best Avg. Dice: 0.6981680393218994 Current Avg. Dice: 0.6810014247894287 Current Avg. tumor Dice: 0.7634329199790955 Current Avg. lymph Dice: 0.5985698699951172\n"
     ]
    },
    {
     "name": "stderr",
     "output_type": "stream",
     "text": [
      "Training (1319 / 18000 Steps) (loss=0.37992): 100%|██████████| 22/22 [01:04<00:00,  2.92s/it]\n",
      "Training (1341 / 18000 Steps) (loss=0.32675): 100%|██████████| 22/22 [00:35<00:00,  1.61s/it]\n",
      "Training (1363 / 18000 Steps) (loss=0.26932): 100%|██████████| 22/22 [00:38<00:00,  1.73s/it]\n",
      "Training (1385 / 18000 Steps) (loss=0.31349): 100%|██████████| 22/22 [00:35<00:00,  1.62s/it]\n",
      "Validate (1386 / 10 Steps): 100%|██████████| 6/6 [00:27<00:00,  4.62s/it]27<00:11,  1.39s/it]\n",
      "Training (1400 / 18000 Steps) (loss=0.50600):  68%|██████▊   | 15/22 [00:55<01:08,  9.76s/it]"
     ]
    },
    {
     "name": "stdout",
     "output_type": "stream",
     "text": [
      "Model Was Not Saved ! Current Best Avg. Dice: 0.6981680393218994 Current Avg. Dice: 0.6912683248519897 Current Avg. tumor Dice: 0.7979661822319031 Current Avg. lymph Dice: 0.5845704674720764\n"
     ]
    },
    {
     "name": "stderr",
     "output_type": "stream",
     "text": [
      "Training (1407 / 18000 Steps) (loss=0.30393): 100%|██████████| 22/22 [01:04<00:00,  2.91s/it]\n",
      "Training (1429 / 18000 Steps) (loss=0.43183): 100%|██████████| 22/22 [00:36<00:00,  1.64s/it]\n",
      "Training (1451 / 18000 Steps) (loss=0.43618): 100%|██████████| 22/22 [00:36<00:00,  1.67s/it]\n",
      "Training (1473 / 18000 Steps) (loss=0.60570): 100%|██████████| 22/22 [00:37<00:00,  1.71s/it]\n",
      "Training (1495 / 18000 Steps) (loss=0.20434): 100%|██████████| 22/22 [00:35<00:00,  1.62s/it]\n",
      "Validate (1496 / 10 Steps): 100%|██████████| 6/6 [00:28<00:00,  4.69s/it]5<00:45,  2.51s/it]\n",
      "Training (1500 / 18000 Steps) (loss=0.32149):  23%|██▎       | 5/22 [00:44<03:36, 12.72s/it]"
     ]
    },
    {
     "name": "stdout",
     "output_type": "stream",
     "text": [
      "Model Was Saved ! Current Best Avg. Dice: 0.7038515210151672 Current Avg. Dice: 0.7038515210151672 Current Avg. tumor Dice: 0.7989004254341125 Current Avg. lymph Dice: 0.6088026762008667\n"
     ]
    },
    {
     "name": "stderr",
     "output_type": "stream",
     "text": [
      "Training (1517 / 18000 Steps) (loss=0.29523): 100%|██████████| 22/22 [01:07<00:00,  3.06s/it]\n",
      "Training (1539 / 18000 Steps) (loss=0.46992): 100%|██████████| 22/22 [00:36<00:00,  1.64s/it]\n",
      "Training (1561 / 18000 Steps) (loss=0.25874): 100%|██████████| 22/22 [00:38<00:00,  1.74s/it]\n",
      "Training (1583 / 18000 Steps) (loss=0.21260): 100%|██████████| 22/22 [00:35<00:00,  1.64s/it]\n",
      "Validate (1584 / 10 Steps): 100%|██████████| 6/6 [00:28<00:00,  4.67s/it]30<00:08,  1.38s/it]\n",
      "Training (1600 / 18000 Steps) (loss=0.40191):  77%|███████▋  | 17/22 [00:58<00:49,  9.82s/it]"
     ]
    },
    {
     "name": "stdout",
     "output_type": "stream",
     "text": [
      "Model Was Not Saved ! Current Best Avg. Dice: 0.7038515210151672 Current Avg. Dice: 0.6928856372833252 Current Avg. tumor Dice: 0.7895545363426208 Current Avg. lymph Dice: 0.5962166786193848\n"
     ]
    },
    {
     "name": "stderr",
     "output_type": "stream",
     "text": [
      "Training (1605 / 18000 Steps) (loss=0.41002): 100%|██████████| 22/22 [01:04<00:00,  2.93s/it]\n",
      "Training (1627 / 18000 Steps) (loss=0.18569): 100%|██████████| 22/22 [00:39<00:00,  1.80s/it]\n",
      "Training (1649 / 18000 Steps) (loss=0.41477): 100%|██████████| 22/22 [00:38<00:00,  1.74s/it]\n",
      "Training (1671 / 18000 Steps) (loss=0.54665): 100%|██████████| 22/22 [00:35<00:00,  1.62s/it]\n",
      "Training (1693 / 18000 Steps) (loss=0.54779): 100%|██████████| 22/22 [00:36<00:00,  1.68s/it]\n",
      "Validate (1694 / 10 Steps): 100%|██████████| 6/6 [00:27<00:00,  4.66s/it]6<00:28,  1.80s/it]\n",
      "Training (1700 / 18000 Steps) (loss=0.36988):  32%|███▏      | 7/22 [00:44<02:42, 10.82s/it]"
     ]
    },
    {
     "name": "stdout",
     "output_type": "stream",
     "text": [
      "Model Was Not Saved ! Current Best Avg. Dice: 0.7038515210151672 Current Avg. Dice: 0.6795928478240967 Current Avg. tumor Dice: 0.7749890685081482 Current Avg. lymph Dice: 0.5841965079307556\n"
     ]
    },
    {
     "name": "stderr",
     "output_type": "stream",
     "text": [
      "Training (1715 / 18000 Steps) (loss=0.40565): 100%|██████████| 22/22 [01:04<00:00,  2.93s/it]\n",
      "Training (1737 / 18000 Steps) (loss=0.31678): 100%|██████████| 22/22 [00:39<00:00,  1.78s/it]\n",
      "Training (1759 / 18000 Steps) (loss=0.43988): 100%|██████████| 22/22 [00:36<00:00,  1.64s/it]\n",
      "Training (1781 / 18000 Steps) (loss=0.28565): 100%|██████████| 22/22 [00:36<00:00,  1.64s/it]\n",
      "Validate (1782 / 10 Steps): 100%|██████████| 6/6 [00:27<00:00,  4.63s/it]34<00:05,  1.37s/it]\n",
      "Training (1800 / 18000 Steps) (loss=0.41524):  86%|████████▋ | 19/22 [01:02<00:29,  9.72s/it]"
     ]
    },
    {
     "name": "stdout",
     "output_type": "stream",
     "text": [
      "Model Was Not Saved ! Current Best Avg. Dice: 0.7038515210151672 Current Avg. Dice: 0.7008382081985474 Current Avg. tumor Dice: 0.8029098510742188 Current Avg. lymph Dice: 0.598766565322876\n"
     ]
    },
    {
     "name": "stderr",
     "output_type": "stream",
     "text": [
      "Training (1803 / 18000 Steps) (loss=0.55134): 100%|██████████| 22/22 [01:05<00:00,  3.00s/it]\n",
      "Training (1825 / 18000 Steps) (loss=0.41652): 100%|██████████| 22/22 [00:35<00:00,  1.62s/it]\n",
      "Training (1847 / 18000 Steps) (loss=0.53328): 100%|██████████| 22/22 [00:38<00:00,  1.74s/it]\n",
      "Training (1869 / 18000 Steps) (loss=0.53764): 100%|██████████| 22/22 [00:36<00:00,  1.64s/it]\n",
      "Training (1891 / 18000 Steps) (loss=0.34561): 100%|██████████| 22/22 [00:37<00:00,  1.72s/it]\n",
      "Validate (1892 / 10 Steps): 100%|██████████| 6/6 [00:27<00:00,  4.58s/it]1<00:22,  1.61s/it]\n",
      "Training (1900 / 18000 Steps) (loss=0.42786):  41%|████      | 9/22 [00:49<02:11, 10.14s/it]"
     ]
    },
    {
     "name": "stdout",
     "output_type": "stream",
     "text": [
      "Model Was Not Saved ! Current Best Avg. Dice: 0.7038515210151672 Current Avg. Dice: 0.6885513663291931 Current Avg. tumor Dice: 0.7934643030166626 Current Avg. lymph Dice: 0.5836383700370789\n"
     ]
    },
    {
     "name": "stderr",
     "output_type": "stream",
     "text": [
      "Training (1913 / 18000 Steps) (loss=0.30040): 100%|██████████| 22/22 [01:06<00:00,  3.01s/it]\n",
      "Training (1935 / 18000 Steps) (loss=0.39761): 100%|██████████| 22/22 [00:37<00:00,  1.69s/it]\n",
      "Training (1957 / 18000 Steps) (loss=0.49348): 100%|██████████| 22/22 [00:37<00:00,  1.71s/it]\n",
      "Training (1979 / 18000 Steps) (loss=0.41920): 100%|██████████| 22/22 [00:37<00:00,  1.69s/it]\n",
      "Validate (1980 / 10 Steps): 100%|██████████| 6/6 [00:27<00:00,  4.59s/it]36<00:02,  1.37s/it]\n",
      "Training (2000 / 18000 Steps) (loss=0.27690):  95%|█████████▌| 21/22 [01:05<00:09,  9.93s/it]"
     ]
    },
    {
     "name": "stdout",
     "output_type": "stream",
     "text": [
      "Model Was Saved ! Current Best Avg. Dice: 0.7125656008720398 Current Avg. Dice: 0.7125656008720398 Current Avg. tumor Dice: 0.8121257424354553 Current Avg. lymph Dice: 0.6130054593086243\n"
     ]
    },
    {
     "name": "stderr",
     "output_type": "stream",
     "text": [
      "Training (2001 / 18000 Steps) (loss=0.57085): 100%|██████████| 22/22 [01:05<00:00,  2.99s/it]\n",
      "Training (2023 / 18000 Steps) (loss=0.53931): 100%|██████████| 22/22 [00:35<00:00,  1.62s/it]\n",
      "Training (2045 / 18000 Steps) (loss=0.13977): 100%|██████████| 22/22 [00:36<00:00,  1.64s/it]\n",
      "Training (2067 / 18000 Steps) (loss=0.45766): 100%|██████████| 22/22 [00:35<00:00,  1.62s/it]\n",
      "Training (2089 / 18000 Steps) (loss=0.37143): 100%|██████████| 22/22 [00:38<00:00,  1.74s/it]\n",
      "Validate (2090 / 10 Steps): 100%|██████████| 6/6 [00:27<00:00,  4.53s/it]21<00:17,  1.45s/it]\n",
      "Training (2100 / 18000 Steps) (loss=0.51675):  50%|█████     | 11/22 [00:48<01:47,  9.76s/it]"
     ]
    },
    {
     "name": "stdout",
     "output_type": "stream",
     "text": [
      "Model Was Not Saved ! Current Best Avg. Dice: 0.7125656008720398 Current Avg. Dice: 0.7017832398414612 Current Avg. tumor Dice: 0.808583676815033 Current Avg. lymph Dice: 0.5949828624725342\n"
     ]
    },
    {
     "name": "stderr",
     "output_type": "stream",
     "text": [
      "Training (2111 / 18000 Steps) (loss=0.51143): 100%|██████████| 22/22 [01:03<00:00,  2.87s/it]\n",
      "Training (2133 / 18000 Steps) (loss=0.15960): 100%|██████████| 22/22 [00:35<00:00,  1.61s/it]\n",
      "Training (2155 / 18000 Steps) (loss=0.41062): 100%|██████████| 22/22 [00:36<00:00,  1.67s/it]\n",
      "Training (2177 / 18000 Steps) (loss=0.38282): 100%|██████████| 22/22 [00:38<00:00,  1.77s/it]\n",
      "Training (2199 / 18000 Steps) (loss=0.40720): 100%|██████████| 22/22 [00:35<00:00,  1.63s/it]\n",
      "Validate (2200 / 10 Steps): 100%|██████████| 6/6 [00:28<00:00,  4.69s/it]8<?, ?it/s]\n",
      "Training (2200 / 18000 Steps) (loss=0.33845):   5%|▍         | 1/22 [00:36<12:41, 36.26s/it]"
     ]
    },
    {
     "name": "stdout",
     "output_type": "stream",
     "text": [
      "Model Was Not Saved ! Current Best Avg. Dice: 0.7125656008720398 Current Avg. Dice: 0.7051655054092407 Current Avg. tumor Dice: 0.7914219498634338 Current Avg. lymph Dice: 0.6189090013504028\n"
     ]
    },
    {
     "name": "stderr",
     "output_type": "stream",
     "text": [
      "Training (2221 / 18000 Steps) (loss=0.44683): 100%|██████████| 22/22 [01:04<00:00,  2.93s/it]\n",
      "Training (2243 / 18000 Steps) (loss=0.44179): 100%|██████████| 22/22 [00:37<00:00,  1.72s/it]\n",
      "Training (2265 / 18000 Steps) (loss=0.24269): 100%|██████████| 22/22 [00:36<00:00,  1.64s/it]\n",
      "Training (2287 / 18000 Steps) (loss=0.53445): 100%|██████████| 22/22 [00:36<00:00,  1.65s/it]\n",
      "Validate (2288 / 10 Steps): 100%|██████████| 6/6 [00:27<00:00,  4.57s/it]24<00:14,  1.41s/it]\n",
      "Training (2300 / 18000 Steps) (loss=0.31934):  59%|█████▉    | 13/22 [00:52<01:27,  9.71s/it]"
     ]
    },
    {
     "name": "stdout",
     "output_type": "stream",
     "text": [
      "Model Was Not Saved ! Current Best Avg. Dice: 0.7125656008720398 Current Avg. Dice: 0.7013358473777771 Current Avg. tumor Dice: 0.8005901575088501 Current Avg. lymph Dice: 0.6020816564559937\n"
     ]
    },
    {
     "name": "stderr",
     "output_type": "stream",
     "text": [
      "Training (2309 / 18000 Steps) (loss=0.44372): 100%|██████████| 22/22 [01:03<00:00,  2.91s/it]\n",
      "Training (2331 / 18000 Steps) (loss=0.38882): 100%|██████████| 22/22 [00:38<00:00,  1.74s/it]\n",
      "Training (2353 / 18000 Steps) (loss=0.55582): 100%|██████████| 22/22 [00:35<00:00,  1.62s/it]\n",
      "Training (2375 / 18000 Steps) (loss=0.50849): 100%|██████████| 22/22 [00:37<00:00,  1.69s/it]\n",
      "Training (2397 / 18000 Steps) (loss=0.44285): 100%|██████████| 22/22 [00:35<00:00,  1.60s/it]\n",
      "Validate (2398 / 10 Steps): 100%|██████████| 6/6 [00:27<00:00,  4.60s/it]1<01:26,  4.33s/it]\n",
      "Training (2400 / 18000 Steps) (loss=0.48785):  14%|█▎        | 3/22 [00:39<04:57, 15.67s/it]"
     ]
    },
    {
     "name": "stdout",
     "output_type": "stream",
     "text": [
      "Model Was Not Saved ! Current Best Avg. Dice: 0.7125656008720398 Current Avg. Dice: 0.705101728439331 Current Avg. tumor Dice: 0.8031566739082336 Current Avg. lymph Dice: 0.6070468425750732\n"
     ]
    },
    {
     "name": "stderr",
     "output_type": "stream",
     "text": [
      "Training (2419 / 18000 Steps) (loss=0.61039): 100%|██████████| 22/22 [01:04<00:00,  2.93s/it]\n",
      "Training (2441 / 18000 Steps) (loss=0.17457): 100%|██████████| 22/22 [00:36<00:00,  1.66s/it]\n",
      "Training (2463 / 18000 Steps) (loss=0.29182): 100%|██████████| 22/22 [00:35<00:00,  1.61s/it]\n",
      "Training (2485 / 18000 Steps) (loss=0.15495): 100%|██████████| 22/22 [00:36<00:00,  1.65s/it]\n",
      "Validate (2486 / 10 Steps): 100%|██████████| 6/6 [00:27<00:00,  4.57s/it]26<00:11,  1.39s/it]\n",
      "Training (2500 / 18000 Steps) (loss=0.28121):  68%|██████▊   | 15/22 [00:54<01:07,  9.66s/it]"
     ]
    },
    {
     "name": "stdout",
     "output_type": "stream",
     "text": [
      "Model Was Not Saved ! Current Best Avg. Dice: 0.7125656008720398 Current Avg. Dice: 0.6868724226951599 Current Avg. tumor Dice: 0.7941959500312805 Current Avg. lymph Dice: 0.5795488953590393\n"
     ]
    },
    {
     "name": "stderr",
     "output_type": "stream",
     "text": [
      "Training (2507 / 18000 Steps) (loss=0.28345): 100%|██████████| 22/22 [01:03<00:00,  2.87s/it]\n",
      "Training (2529 / 18000 Steps) (loss=0.46345): 100%|██████████| 22/22 [00:37<00:00,  1.69s/it]\n",
      "Training (2551 / 18000 Steps) (loss=0.50038): 100%|██████████| 22/22 [00:35<00:00,  1.62s/it]\n",
      "Training (2573 / 18000 Steps) (loss=0.26644): 100%|██████████| 22/22 [00:37<00:00,  1.70s/it]\n",
      "Training (2595 / 18000 Steps) (loss=0.40105): 100%|██████████| 22/22 [00:37<00:00,  1.70s/it]\n",
      "Validate (2596 / 10 Steps): 100%|██████████| 6/6 [00:27<00:00,  4.64s/it]2<00:38,  2.14s/it]\n",
      "Training (2600 / 18000 Steps) (loss=0.50247):  23%|██▎       | 5/22 [00:40<03:22, 11.93s/it]"
     ]
    },
    {
     "name": "stdout",
     "output_type": "stream",
     "text": [
      "Model Was Not Saved ! Current Best Avg. Dice: 0.7125656008720398 Current Avg. Dice: 0.7038612961769104 Current Avg. tumor Dice: 0.8022415637969971 Current Avg. lymph Dice: 0.6054810881614685\n"
     ]
    },
    {
     "name": "stderr",
     "output_type": "stream",
     "text": [
      "Training (2617 / 18000 Steps) (loss=0.60703): 100%|██████████| 22/22 [01:03<00:00,  2.87s/it]\n",
      "Training (2639 / 18000 Steps) (loss=0.43822): 100%|██████████| 22/22 [00:36<00:00,  1.64s/it]\n",
      "Training (2661 / 18000 Steps) (loss=0.22473): 100%|██████████| 22/22 [00:35<00:00,  1.61s/it]\n",
      "Training (2683 / 18000 Steps) (loss=0.39249): 100%|██████████| 22/22 [00:38<00:00,  1.75s/it]\n",
      "Validate (2684 / 10 Steps): 100%|██████████| 6/6 [00:27<00:00,  4.58s/it]31<00:08,  1.38s/it]\n",
      "Training (2700 / 18000 Steps) (loss=0.52076):  77%|███████▋  | 17/22 [00:58<00:48,  9.66s/it]"
     ]
    },
    {
     "name": "stdout",
     "output_type": "stream",
     "text": [
      "Model Was Not Saved ! Current Best Avg. Dice: 0.7125656008720398 Current Avg. Dice: 0.69725102186203 Current Avg. tumor Dice: 0.7894170880317688 Current Avg. lymph Dice: 0.6050848364830017\n"
     ]
    },
    {
     "name": "stderr",
     "output_type": "stream",
     "text": [
      "Training (2705 / 18000 Steps) (loss=0.53598): 100%|██████████| 22/22 [01:05<00:00,  2.97s/it]\n",
      "Training (2727 / 18000 Steps) (loss=0.27598): 100%|██████████| 22/22 [00:36<00:00,  1.67s/it]\n",
      "Training (2749 / 18000 Steps) (loss=0.45543): 100%|██████████| 22/22 [00:36<00:00,  1.64s/it]\n",
      "Training (2771 / 18000 Steps) (loss=0.53513): 100%|██████████| 22/22 [00:35<00:00,  1.62s/it]\n",
      "Training (2793 / 18000 Steps) (loss=0.48852): 100%|██████████| 22/22 [00:35<00:00,  1.61s/it]\n",
      "Validate (2794 / 10 Steps): 100%|██████████| 6/6 [00:27<00:00,  4.62s/it]7<00:29,  1.84s/it]\n",
      "Training (2800 / 18000 Steps) (loss=0.34863):  32%|███▏      | 7/22 [00:45<02:41, 10.78s/it]"
     ]
    },
    {
     "name": "stdout",
     "output_type": "stream",
     "text": [
      "Model Was Not Saved ! Current Best Avg. Dice: 0.7125656008720398 Current Avg. Dice: 0.6905203461647034 Current Avg. tumor Dice: 0.7989456653594971 Current Avg. lymph Dice: 0.5820949673652649\n"
     ]
    },
    {
     "name": "stderr",
     "output_type": "stream",
     "text": [
      "Training (2815 / 18000 Steps) (loss=0.28854): 100%|██████████| 22/22 [01:05<00:00,  2.98s/it]\n",
      "Training (2837 / 18000 Steps) (loss=0.33936): 100%|██████████| 22/22 [00:36<00:00,  1.64s/it]\n",
      "Training (2859 / 18000 Steps) (loss=0.33595): 100%|██████████| 22/22 [00:35<00:00,  1.61s/it]\n",
      "Training (2881 / 18000 Steps) (loss=0.55561): 100%|██████████| 22/22 [00:38<00:00,  1.75s/it]\n",
      "Validate (2882 / 10 Steps): 100%|██████████| 6/6 [00:27<00:00,  4.59s/it]32<00:05,  1.37s/it]\n",
      "Training (2900 / 18000 Steps) (loss=0.46500):  86%|████████▋ | 19/22 [00:59<00:29,  9.67s/it]"
     ]
    },
    {
     "name": "stdout",
     "output_type": "stream",
     "text": [
      "Model Was Not Saved ! Current Best Avg. Dice: 0.7125656008720398 Current Avg. Dice: 0.6946771144866943 Current Avg. tumor Dice: 0.7868734002113342 Current Avg. lymph Dice: 0.602480947971344\n"
     ]
    },
    {
     "name": "stderr",
     "output_type": "stream",
     "text": [
      "Training (2903 / 18000 Steps) (loss=0.43579): 100%|██████████| 22/22 [01:03<00:00,  2.88s/it]\n",
      "Training (2925 / 18000 Steps) (loss=0.65700): 100%|██████████| 22/22 [00:36<00:00,  1.66s/it]\n",
      "Training (2947 / 18000 Steps) (loss=0.31657): 100%|██████████| 22/22 [00:37<00:00,  1.71s/it]\n",
      "Training (2969 / 18000 Steps) (loss=0.40592): 100%|██████████| 22/22 [00:36<00:00,  1.66s/it]\n",
      "Training (2991 / 18000 Steps) (loss=0.37137): 100%|██████████| 22/22 [00:37<00:00,  1.70s/it]\n",
      "Validate (2992 / 10 Steps): 100%|██████████| 6/6 [00:27<00:00,  4.57s/it]8<00:21,  1.54s/it]\n",
      "Training (3000 / 18000 Steps) (loss=0.52309):  41%|████      | 9/22 [00:46<02:11, 10.08s/it]"
     ]
    },
    {
     "name": "stdout",
     "output_type": "stream",
     "text": [
      "Model Was Not Saved ! Current Best Avg. Dice: 0.7125656008720398 Current Avg. Dice: 0.7065651416778564 Current Avg. tumor Dice: 0.7960830330848694 Current Avg. lymph Dice: 0.6170470714569092\n"
     ]
    },
    {
     "name": "stderr",
     "output_type": "stream",
     "text": [
      "Training (3013 / 18000 Steps) (loss=0.34211): 100%|██████████| 22/22 [01:03<00:00,  2.88s/it]\n",
      "Training (3035 / 18000 Steps) (loss=0.44376): 100%|██████████| 22/22 [00:35<00:00,  1.62s/it]\n",
      "Training (3057 / 18000 Steps) (loss=0.41407): 100%|██████████| 22/22 [00:35<00:00,  1.60s/it]\n",
      "Training (3079 / 18000 Steps) (loss=0.32294): 100%|██████████| 22/22 [00:38<00:00,  1.76s/it]\n",
      "Validate (3080 / 10 Steps): 100%|██████████| 6/6 [00:27<00:00,  4.54s/it]37<00:02,  1.37s/it]\n",
      "Training (3100 / 18000 Steps) (loss=0.54183):  95%|█████████▌| 21/22 [01:05<00:09,  9.56s/it]"
     ]
    },
    {
     "name": "stdout",
     "output_type": "stream",
     "text": [
      "Model Was Not Saved ! Current Best Avg. Dice: 0.7125656008720398 Current Avg. Dice: 0.7051497101783752 Current Avg. tumor Dice: 0.7992154955863953 Current Avg. lymph Dice: 0.6110841035842896\n"
     ]
    },
    {
     "name": "stderr",
     "output_type": "stream",
     "text": [
      "Training (3101 / 18000 Steps) (loss=0.40511): 100%|██████████| 22/22 [01:05<00:00,  2.99s/it]\n",
      "Training (3123 / 18000 Steps) (loss=0.21231): 100%|██████████| 22/22 [00:37<00:00,  1.69s/it]\n",
      "Training (3145 / 18000 Steps) (loss=0.59980): 100%|██████████| 22/22 [00:35<00:00,  1.63s/it]\n",
      "Training (3167 / 18000 Steps) (loss=0.31563): 100%|██████████| 22/22 [00:35<00:00,  1.63s/it]\n",
      "Training (3189 / 18000 Steps) (loss=0.29385): 100%|██████████| 22/22 [00:35<00:00,  1.62s/it]\n",
      "Validate (3190 / 10 Steps): 100%|██████████| 6/6 [00:27<00:00,  4.57s/it]21<00:17,  1.44s/it]\n",
      "Training (3200 / 18000 Steps) (loss=0.40557):  50%|█████     | 11/22 [00:48<01:48,  9.82s/it]"
     ]
    },
    {
     "name": "stdout",
     "output_type": "stream",
     "text": [
      "Model Was Not Saved ! Current Best Avg. Dice: 0.7125656008720398 Current Avg. Dice: 0.7070610523223877 Current Avg. tumor Dice: 0.7913638949394226 Current Avg. lymph Dice: 0.6227583289146423\n"
     ]
    },
    {
     "name": "stderr",
     "output_type": "stream",
     "text": [
      "Training (3211 / 18000 Steps) (loss=0.38831): 100%|██████████| 22/22 [01:03<00:00,  2.87s/it]\n",
      "Training (3233 / 18000 Steps) (loss=0.32874): 100%|██████████| 22/22 [00:35<00:00,  1.63s/it]\n",
      "Training (3255 / 18000 Steps) (loss=0.27433): 100%|██████████| 22/22 [00:35<00:00,  1.62s/it]\n",
      "Training (3277 / 18000 Steps) (loss=0.60229): 100%|██████████| 22/22 [00:36<00:00,  1.66s/it]\n",
      "Training (3299 / 18000 Steps) (loss=0.41760): 100%|██████████| 22/22 [00:36<00:00,  1.68s/it]\n",
      "Validate (3300 / 10 Steps): 100%|██████████| 6/6 [00:27<00:00,  4.61s/it]9<?, ?it/s]\n",
      "Training (3300 / 18000 Steps) (loss=0.34674):   5%|▍         | 1/22 [00:36<12:52, 36.80s/it]"
     ]
    },
    {
     "name": "stdout",
     "output_type": "stream",
     "text": [
      "Model Was Not Saved ! Current Best Avg. Dice: 0.7125656008720398 Current Avg. Dice: 0.68912273645401 Current Avg. tumor Dice: 0.7798366546630859 Current Avg. lymph Dice: 0.5984089374542236\n"
     ]
    },
    {
     "name": "stderr",
     "output_type": "stream",
     "text": [
      "Training (3321 / 18000 Steps) (loss=0.42072): 100%|██████████| 22/22 [01:04<00:00,  2.95s/it]\n",
      "Training (3343 / 18000 Steps) (loss=0.12150): 100%|██████████| 22/22 [00:35<00:00,  1.62s/it]\n",
      "Training (3365 / 18000 Steps) (loss=0.47480): 100%|██████████| 22/22 [00:35<00:00,  1.60s/it]\n",
      "Training (3387 / 18000 Steps) (loss=0.51219): 100%|██████████| 22/22 [00:37<00:00,  1.72s/it]\n",
      "Validate (3388 / 10 Steps): 100%|██████████| 6/6 [00:27<00:00,  4.58s/it]25<00:14,  1.41s/it]\n",
      "Training (3400 / 18000 Steps) (loss=0.38942):  59%|█████▉    | 13/22 [00:53<01:27,  9.74s/it]"
     ]
    },
    {
     "name": "stdout",
     "output_type": "stream",
     "text": [
      "Model Was Not Saved ! Current Best Avg. Dice: 0.7125656008720398 Current Avg. Dice: 0.6914244294166565 Current Avg. tumor Dice: 0.7780193090438843 Current Avg. lymph Dice: 0.6048296093940735\n"
     ]
    },
    {
     "name": "stderr",
     "output_type": "stream",
     "text": [
      "Training (3409 / 18000 Steps) (loss=0.21257): 100%|██████████| 22/22 [01:05<00:00,  2.96s/it]\n",
      "Training (3431 / 18000 Steps) (loss=0.28298): 100%|██████████| 22/22 [00:36<00:00,  1.65s/it]\n",
      "Training (3453 / 18000 Steps) (loss=0.31808): 100%|██████████| 22/22 [00:35<00:00,  1.61s/it]\n",
      "Training (3475 / 18000 Steps) (loss=0.28662): 100%|██████████| 22/22 [00:38<00:00,  1.76s/it]\n",
      "Training (3497 / 18000 Steps) (loss=0.39917): 100%|██████████| 22/22 [00:39<00:00,  1.80s/it]\n",
      "Validate (3498 / 10 Steps): 100%|██████████| 6/6 [00:28<00:00,  4.68s/it]1<01:25,  4.26s/it]\n",
      "Training (3500 / 18000 Steps) (loss=0.33452):  14%|█▎        | 3/22 [00:39<05:00, 15.80s/it]"
     ]
    },
    {
     "name": "stdout",
     "output_type": "stream",
     "text": [
      "Model Was Not Saved ! Current Best Avg. Dice: 0.7125656008720398 Current Avg. Dice: 0.6584137082099915 Current Avg. tumor Dice: 0.7810440063476562 Current Avg. lymph Dice: 0.5357833504676819\n"
     ]
    },
    {
     "name": "stderr",
     "output_type": "stream",
     "text": [
      "Training (3519 / 18000 Steps) (loss=0.40230): 100%|██████████| 22/22 [01:04<00:00,  2.94s/it]\n",
      "Training (3541 / 18000 Steps) (loss=0.45190): 100%|██████████| 22/22 [00:35<00:00,  1.63s/it]\n",
      "Training (3563 / 18000 Steps) (loss=0.21430): 100%|██████████| 22/22 [00:36<00:00,  1.65s/it]\n",
      "Training (3585 / 18000 Steps) (loss=0.27123): 100%|██████████| 22/22 [00:37<00:00,  1.72s/it]\n",
      "Validate (3586 / 10 Steps): 100%|██████████| 6/6 [00:27<00:00,  4.62s/it]27<00:11,  1.39s/it]\n",
      "Training (3600 / 18000 Steps) (loss=0.42219):  68%|██████▊   | 15/22 [00:55<01:08,  9.75s/it]"
     ]
    },
    {
     "name": "stdout",
     "output_type": "stream",
     "text": [
      "Model Was Not Saved ! Current Best Avg. Dice: 0.7125656008720398 Current Avg. Dice: 0.7114139199256897 Current Avg. tumor Dice: 0.8109199404716492 Current Avg. lymph Dice: 0.611907958984375\n"
     ]
    },
    {
     "name": "stderr",
     "output_type": "stream",
     "text": [
      "Training (3607 / 18000 Steps) (loss=0.29989): 100%|██████████| 22/22 [01:04<00:00,  2.91s/it]\n",
      "Training (3629 / 18000 Steps) (loss=0.30251): 100%|██████████| 22/22 [00:37<00:00,  1.71s/it]\n",
      "Training (3651 / 18000 Steps) (loss=0.37188): 100%|██████████| 22/22 [00:37<00:00,  1.68s/it]\n",
      "Training (3673 / 18000 Steps) (loss=0.27900): 100%|██████████| 22/22 [00:36<00:00,  1.65s/it]\n",
      "Training (3695 / 18000 Steps) (loss=0.29485): 100%|██████████| 22/22 [00:37<00:00,  1.71s/it]\n",
      "Validate (3696 / 10 Steps): 100%|██████████| 6/6 [00:27<00:00,  4.62s/it]5<00:46,  2.59s/it]\n",
      "Training (3700 / 18000 Steps) (loss=0.42529):  23%|██▎       | 5/22 [00:44<03:32, 12.49s/it]"
     ]
    },
    {
     "name": "stdout",
     "output_type": "stream",
     "text": [
      "Model Was Saved ! Current Best Avg. Dice: 0.7167723178863525 Current Avg. Dice: 0.7167723178863525 Current Avg. tumor Dice: 0.8199716806411743 Current Avg. lymph Dice: 0.6135728359222412\n"
     ]
    },
    {
     "name": "stderr",
     "output_type": "stream",
     "text": [
      "Training (3717 / 18000 Steps) (loss=0.42655): 100%|██████████| 22/22 [01:07<00:00,  3.06s/it]\n",
      "Training (3739 / 18000 Steps) (loss=0.53958): 100%|██████████| 22/22 [00:38<00:00,  1.75s/it]\n",
      "Training (3761 / 18000 Steps) (loss=0.47959): 100%|██████████| 22/22 [00:35<00:00,  1.62s/it]\n",
      "Training (3783 / 18000 Steps) (loss=0.47734): 100%|██████████| 22/22 [00:37<00:00,  1.72s/it]\n",
      "Validate (3784 / 10 Steps): 100%|██████████| 6/6 [00:27<00:00,  4.61s/it]29<00:08,  1.38s/it]\n",
      "Training (3800 / 18000 Steps) (loss=0.46825):  77%|███████▋  | 17/22 [00:57<00:48,  9.71s/it]"
     ]
    },
    {
     "name": "stdout",
     "output_type": "stream",
     "text": [
      "Model Was Not Saved ! Current Best Avg. Dice: 0.7167723178863525 Current Avg. Dice: 0.7128479480743408 Current Avg. tumor Dice: 0.8038097023963928 Current Avg. lymph Dice: 0.6218863129615784\n"
     ]
    },
    {
     "name": "stderr",
     "output_type": "stream",
     "text": [
      "Training (3805 / 18000 Steps) (loss=0.43015): 100%|██████████| 22/22 [01:03<00:00,  2.90s/it]\n",
      "Training (3827 / 18000 Steps) (loss=0.22392): 100%|██████████| 22/22 [00:37<00:00,  1.69s/it]\n",
      "Training (3849 / 18000 Steps) (loss=0.31835): 100%|██████████| 22/22 [00:36<00:00,  1.67s/it]\n",
      "Training (3871 / 18000 Steps) (loss=0.53162): 100%|██████████| 22/22 [00:36<00:00,  1.66s/it]\n",
      "Training (3893 / 18000 Steps) (loss=0.29787): 100%|██████████| 22/22 [00:37<00:00,  1.68s/it]\n",
      "Validate (3894 / 10 Steps): 100%|██████████| 6/6 [00:28<00:00,  4.68s/it]6<00:28,  1.78s/it]\n",
      "Training (3900 / 18000 Steps) (loss=0.35943):  32%|███▏      | 7/22 [00:44<02:42, 10.85s/it]"
     ]
    },
    {
     "name": "stdout",
     "output_type": "stream",
     "text": [
      "Model Was Not Saved ! Current Best Avg. Dice: 0.7167723178863525 Current Avg. Dice: 0.6972976922988892 Current Avg. tumor Dice: 0.8061589598655701 Current Avg. lymph Dice: 0.5884365439414978\n"
     ]
    },
    {
     "name": "stderr",
     "output_type": "stream",
     "text": [
      "Training (3915 / 18000 Steps) (loss=0.50613): 100%|██████████| 22/22 [01:04<00:00,  2.95s/it]\n",
      "Training (3937 / 18000 Steps) (loss=0.38683): 100%|██████████| 22/22 [00:37<00:00,  1.69s/it]\n",
      "Training (3959 / 18000 Steps) (loss=0.30420): 100%|██████████| 22/22 [00:36<00:00,  1.66s/it]\n",
      "Training (3981 / 18000 Steps) (loss=0.14051): 100%|██████████| 22/22 [00:38<00:00,  1.73s/it]\n",
      "Validate (3982 / 10 Steps): 100%|██████████| 6/6 [00:27<00:00,  4.64s/it]32<00:05,  1.37s/it]\n",
      "Training (4000 / 18000 Steps) (loss=0.45927):  86%|████████▋ | 19/22 [01:00<00:29,  9.75s/it]"
     ]
    },
    {
     "name": "stdout",
     "output_type": "stream",
     "text": [
      "Model Was Not Saved ! Current Best Avg. Dice: 0.7167723178863525 Current Avg. Dice: 0.7007512450218201 Current Avg. tumor Dice: 0.7986076474189758 Current Avg. lymph Dice: 0.6028948426246643\n"
     ]
    },
    {
     "name": "stderr",
     "output_type": "stream",
     "text": [
      "Training (4003 / 18000 Steps) (loss=0.42988): 100%|██████████| 22/22 [01:03<00:00,  2.90s/it]\n",
      "Training (4025 / 18000 Steps) (loss=0.36695): 100%|██████████| 22/22 [00:36<00:00,  1.64s/it]\n",
      "Training (4047 / 18000 Steps) (loss=0.21710): 100%|██████████| 22/22 [00:36<00:00,  1.66s/it]\n",
      "Training (4069 / 18000 Steps) (loss=0.39618): 100%|██████████| 22/22 [00:36<00:00,  1.67s/it]\n",
      "Training (4091 / 18000 Steps) (loss=0.30191): 100%|██████████| 22/22 [00:36<00:00,  1.66s/it]\n",
      "Validate (4092 / 10 Steps): 100%|██████████| 6/6 [00:27<00:00,  4.62s/it]9<00:21,  1.55s/it]\n",
      "Training (4100 / 18000 Steps) (loss=0.32875):  41%|████      | 9/22 [00:47<02:12, 10.17s/it]"
     ]
    },
    {
     "name": "stdout",
     "output_type": "stream",
     "text": [
      "Model Was Not Saved ! Current Best Avg. Dice: 0.7167723178863525 Current Avg. Dice: 0.705612063407898 Current Avg. tumor Dice: 0.8024208545684814 Current Avg. lymph Dice: 0.6088032126426697\n"
     ]
    },
    {
     "name": "stderr",
     "output_type": "stream",
     "text": [
      "Training (4113 / 18000 Steps) (loss=0.24995): 100%|██████████| 22/22 [01:04<00:00,  2.93s/it]\n",
      "Training (4135 / 18000 Steps) (loss=0.20630): 100%|██████████| 22/22 [00:37<00:00,  1.69s/it]\n",
      "Training (4157 / 18000 Steps) (loss=0.43250): 100%|██████████| 22/22 [00:40<00:00,  1.83s/it]\n",
      "Training (4179 / 18000 Steps) (loss=0.25187): 100%|██████████| 22/22 [00:37<00:00,  1.71s/it]\n",
      "Validate (4180 / 10 Steps): 100%|██████████| 6/6 [00:27<00:00,  4.62s/it]35<00:02,  1.37s/it]\n",
      "Training (4200 / 18000 Steps) (loss=0.40288):  95%|█████████▌| 21/22 [01:03<00:09,  9.71s/it]"
     ]
    },
    {
     "name": "stdout",
     "output_type": "stream",
     "text": [
      "Model Was Not Saved ! Current Best Avg. Dice: 0.7167723178863525 Current Avg. Dice: 0.7023583650588989 Current Avg. tumor Dice: 0.7956464290618896 Current Avg. lymph Dice: 0.609070360660553\n"
     ]
    },
    {
     "name": "stderr",
     "output_type": "stream",
     "text": [
      "Training (4201 / 18000 Steps) (loss=0.17774): 100%|██████████| 22/22 [01:03<00:00,  2.91s/it]\n",
      "Training (4223 / 18000 Steps) (loss=0.23231): 100%|██████████| 22/22 [00:37<00:00,  1.69s/it]\n",
      "Training (4245 / 18000 Steps) (loss=0.30709): 100%|██████████| 22/22 [00:36<00:00,  1.64s/it]\n",
      "Training (4267 / 18000 Steps) (loss=0.39525): 100%|██████████| 22/22 [00:37<00:00,  1.70s/it]\n",
      "Training (4289 / 18000 Steps) (loss=0.42103): 100%|██████████| 22/22 [00:39<00:00,  1.78s/it]\n",
      "Validate (4290 / 10 Steps): 100%|██████████| 6/6 [00:27<00:00,  4.63s/it]22<00:17,  1.47s/it]\n",
      "Training (4300 / 18000 Steps) (loss=0.47051):  50%|█████     | 11/22 [00:50<01:49,  9.96s/it]"
     ]
    },
    {
     "name": "stdout",
     "output_type": "stream",
     "text": [
      "Model Was Not Saved ! Current Best Avg. Dice: 0.7167723178863525 Current Avg. Dice: 0.6983736157417297 Current Avg. tumor Dice: 0.7875614166259766 Current Avg. lymph Dice: 0.6091858148574829\n"
     ]
    },
    {
     "name": "stderr",
     "output_type": "stream",
     "text": [
      "Training (4311 / 18000 Steps) (loss=0.22422): 100%|██████████| 22/22 [01:05<00:00,  2.96s/it]\n",
      "Training (4333 / 18000 Steps) (loss=0.39411): 100%|██████████| 22/22 [00:36<00:00,  1.67s/it]\n",
      "Training (4355 / 18000 Steps) (loss=0.39501): 100%|██████████| 22/22 [00:37<00:00,  1.72s/it]\n",
      "Training (4377 / 18000 Steps) (loss=0.48522): 100%|██████████| 22/22 [00:36<00:00,  1.68s/it]\n",
      "Training (4399 / 18000 Steps) (loss=0.47652): 100%|██████████| 22/22 [00:36<00:00,  1.66s/it]\n",
      "Validate (4400 / 10 Steps): 100%|██████████| 6/6 [00:27<00:00,  4.62s/it]1<?, ?it/s]\n",
      "Training (4400 / 18000 Steps) (loss=0.44467):   5%|▍         | 1/22 [00:38<13:35, 38.83s/it]"
     ]
    },
    {
     "name": "stdout",
     "output_type": "stream",
     "text": [
      "Model Was Not Saved ! Current Best Avg. Dice: 0.7167723178863525 Current Avg. Dice: 0.6990091800689697 Current Avg. tumor Dice: 0.7831123471260071 Current Avg. lymph Dice: 0.6149059534072876\n"
     ]
    },
    {
     "name": "stderr",
     "output_type": "stream",
     "text": [
      "Training (4421 / 18000 Steps) (loss=0.34596): 100%|██████████| 22/22 [01:07<00:00,  3.05s/it]\n",
      "Training (4443 / 18000 Steps) (loss=0.35670): 100%|██████████| 22/22 [00:36<00:00,  1.64s/it]\n",
      "Training (4465 / 18000 Steps) (loss=0.44066): 100%|██████████| 22/22 [00:36<00:00,  1.67s/it]\n",
      "Training (4487 / 18000 Steps) (loss=0.49396): 100%|██████████| 22/22 [00:38<00:00,  1.76s/it]\n",
      "Validate (4488 / 10 Steps): 100%|██████████| 6/6 [00:27<00:00,  4.66s/it]25<00:14,  1.42s/it]\n",
      "Training (4500 / 18000 Steps) (loss=0.28041):  59%|█████▉    | 13/22 [00:53<01:29,  9.89s/it]"
     ]
    },
    {
     "name": "stdout",
     "output_type": "stream",
     "text": [
      "Model Was Not Saved ! Current Best Avg. Dice: 0.7167723178863525 Current Avg. Dice: 0.6836691498756409 Current Avg. tumor Dice: 0.7864663600921631 Current Avg. lymph Dice: 0.5808720588684082\n"
     ]
    },
    {
     "name": "stderr",
     "output_type": "stream",
     "text": [
      "Training (4509 / 18000 Steps) (loss=0.48498): 100%|██████████| 22/22 [01:05<00:00,  2.97s/it]\n",
      "Training (4531 / 18000 Steps) (loss=0.48473): 100%|██████████| 22/22 [00:36<00:00,  1.64s/it]\n",
      "Training (4553 / 18000 Steps) (loss=0.42404): 100%|██████████| 22/22 [00:36<00:00,  1.65s/it]\n",
      "Training (4575 / 18000 Steps) (loss=0.28623): 100%|██████████| 22/22 [00:38<00:00,  1.76s/it]\n",
      "Training (4597 / 18000 Steps) (loss=0.29803): 100%|██████████| 22/22 [00:36<00:00,  1.65s/it]\n",
      "Validate (4598 / 10 Steps): 100%|██████████| 6/6 [00:28<00:00,  4.71s/it]1<01:24,  4.24s/it]\n",
      "Training (4600 / 18000 Steps) (loss=0.43996):  14%|█▎        | 3/22 [00:39<05:01, 15.87s/it]"
     ]
    },
    {
     "name": "stdout",
     "output_type": "stream",
     "text": [
      "Model Was Not Saved ! Current Best Avg. Dice: 0.7167723178863525 Current Avg. Dice: 0.686568021774292 Current Avg. tumor Dice: 0.7716114521026611 Current Avg. lymph Dice: 0.6015247106552124\n"
     ]
    },
    {
     "name": "stderr",
     "output_type": "stream",
     "text": [
      "Training (4619 / 18000 Steps) (loss=0.54431): 100%|██████████| 22/22 [01:04<00:00,  2.95s/it]\n",
      "Training (4641 / 18000 Steps) (loss=0.54522): 100%|██████████| 22/22 [00:37<00:00,  1.73s/it]\n",
      "Training (4663 / 18000 Steps) (loss=0.32841): 100%|██████████| 22/22 [00:38<00:00,  1.74s/it]\n",
      "Training (4685 / 18000 Steps) (loss=0.15766): 100%|██████████| 22/22 [00:37<00:00,  1.71s/it]\n",
      "Validate (4686 / 10 Steps): 100%|██████████| 6/6 [00:27<00:00,  4.64s/it]27<00:11,  1.39s/it]\n",
      "Training (4700 / 18000 Steps) (loss=0.43738):  68%|██████▊   | 15/22 [00:55<01:08,  9.80s/it]"
     ]
    },
    {
     "name": "stdout",
     "output_type": "stream",
     "text": [
      "Model Was Not Saved ! Current Best Avg. Dice: 0.7167723178863525 Current Avg. Dice: 0.6868607997894287 Current Avg. tumor Dice: 0.7880550622940063 Current Avg. lymph Dice: 0.5856664776802063\n"
     ]
    },
    {
     "name": "stderr",
     "output_type": "stream",
     "text": [
      "Training (4707 / 18000 Steps) (loss=0.55313): 100%|██████████| 22/22 [01:04<00:00,  2.93s/it]\n",
      "Training (4729 / 18000 Steps) (loss=0.42368): 100%|██████████| 22/22 [00:36<00:00,  1.65s/it]\n",
      "Training (4751 / 18000 Steps) (loss=0.20380): 100%|██████████| 22/22 [00:37<00:00,  1.71s/it]\n",
      "Training (4773 / 18000 Steps) (loss=0.33072): 100%|██████████| 22/22 [00:37<00:00,  1.73s/it]\n",
      "Training (4795 / 18000 Steps) (loss=0.39963): 100%|██████████| 22/22 [00:37<00:00,  1.71s/it]\n",
      "Validate (4796 / 10 Steps): 100%|██████████| 6/6 [00:28<00:00,  4.68s/it]4<00:43,  2.43s/it]\n",
      "Training (4800 / 18000 Steps) (loss=0.41958):  23%|██▎       | 5/22 [00:42<03:27, 12.20s/it]"
     ]
    },
    {
     "name": "stdout",
     "output_type": "stream",
     "text": [
      "Model Was Not Saved ! Current Best Avg. Dice: 0.7167723178863525 Current Avg. Dice: 0.6851452589035034 Current Avg. tumor Dice: 0.7864885926246643 Current Avg. lymph Dice: 0.5838019251823425\n"
     ]
    },
    {
     "name": "stderr",
     "output_type": "stream",
     "text": [
      "Training (4817 / 18000 Steps) (loss=0.50972): 100%|██████████| 22/22 [01:05<00:00,  2.98s/it]\n",
      "Training (4839 / 18000 Steps) (loss=0.40320): 100%|██████████| 22/22 [00:36<00:00,  1.64s/it]\n",
      "Training (4861 / 18000 Steps) (loss=0.36220): 100%|██████████| 22/22 [00:38<00:00,  1.74s/it]\n",
      "Training (4883 / 18000 Steps) (loss=0.33766): 100%|██████████| 22/22 [00:36<00:00,  1.64s/it]\n",
      "Validate (4884 / 10 Steps): 100%|██████████| 6/6 [00:27<00:00,  4.66s/it]29<00:08,  1.38s/it]\n",
      "Training (4900 / 18000 Steps) (loss=0.32864):  77%|███████▋  | 17/22 [00:57<00:49,  9.80s/it]"
     ]
    },
    {
     "name": "stdout",
     "output_type": "stream",
     "text": [
      "Model Was Not Saved ! Current Best Avg. Dice: 0.7167723178863525 Current Avg. Dice: 0.7071869969367981 Current Avg. tumor Dice: 0.7989030480384827 Current Avg. lymph Dice: 0.6154710650444031\n"
     ]
    },
    {
     "name": "stderr",
     "output_type": "stream",
     "text": [
      "Training (4905 / 18000 Steps) (loss=0.54843): 100%|██████████| 22/22 [01:04<00:00,  2.91s/it]\n",
      "Training (4927 / 18000 Steps) (loss=0.66728): 100%|██████████| 22/22 [00:37<00:00,  1.68s/it]\n",
      "Training (4949 / 18000 Steps) (loss=0.28091): 100%|██████████| 22/22 [00:36<00:00,  1.66s/it]\n",
      "Training (4971 / 18000 Steps) (loss=0.20016): 100%|██████████| 22/22 [00:39<00:00,  1.79s/it]\n",
      "Training (4993 / 18000 Steps) (loss=0.53060): 100%|██████████| 22/22 [00:38<00:00,  1.74s/it]\n",
      "Validate (4994 / 10 Steps): 100%|██████████| 6/6 [00:28<00:00,  4.68s/it]6<00:28,  1.81s/it]\n",
      "Training (5000 / 18000 Steps) (loss=0.36793):  32%|███▏      | 7/22 [00:45<02:42, 10.86s/it]"
     ]
    },
    {
     "name": "stdout",
     "output_type": "stream",
     "text": [
      "Model Was Not Saved ! Current Best Avg. Dice: 0.7167723178863525 Current Avg. Dice: 0.703384280204773 Current Avg. tumor Dice: 0.793765664100647 Current Avg. lymph Dice: 0.6130029559135437\n"
     ]
    },
    {
     "name": "stderr",
     "output_type": "stream",
     "text": [
      "Training (5015 / 18000 Steps) (loss=0.48242): 100%|██████████| 22/22 [01:05<00:00,  2.96s/it]\n",
      "Training (5037 / 18000 Steps) (loss=0.53633): 100%|██████████| 22/22 [00:35<00:00,  1.63s/it]\n",
      "Training (5059 / 18000 Steps) (loss=0.39941): 100%|██████████| 22/22 [00:39<00:00,  1.79s/it]\n",
      "Training (5081 / 18000 Steps) (loss=0.37331): 100%|██████████| 22/22 [00:36<00:00,  1.66s/it]\n",
      "Validate (5082 / 10 Steps): 100%|██████████| 6/6 [00:27<00:00,  4.61s/it]33<00:05,  1.38s/it]\n",
      "Training (5100 / 18000 Steps) (loss=0.47729):  86%|████████▋ | 19/22 [01:01<00:29,  9.70s/it]"
     ]
    },
    {
     "name": "stdout",
     "output_type": "stream",
     "text": [
      "Model Was Not Saved ! Current Best Avg. Dice: 0.7167723178863525 Current Avg. Dice: 0.6991007328033447 Current Avg. tumor Dice: 0.7835739254951477 Current Avg. lymph Dice: 0.6146275401115417\n"
     ]
    },
    {
     "name": "stderr",
     "output_type": "stream",
     "text": [
      "Training (5103 / 18000 Steps) (loss=0.46717): 100%|██████████| 22/22 [01:05<00:00,  2.96s/it]\n",
      "Training (5125 / 18000 Steps) (loss=0.43202): 100%|██████████| 22/22 [00:35<00:00,  1.62s/it]\n",
      "Training (5147 / 18000 Steps) (loss=0.28562): 100%|██████████| 22/22 [00:37<00:00,  1.69s/it]\n",
      "Training (5169 / 18000 Steps) (loss=0.63404): 100%|██████████| 22/22 [00:38<00:00,  1.74s/it]\n",
      "Training (5191 / 18000 Steps) (loss=0.28270): 100%|██████████| 22/22 [00:36<00:00,  1.67s/it]\n",
      "Validate (5192 / 10 Steps): 100%|██████████| 6/6 [00:27<00:00,  4.59s/it]0<00:22,  1.59s/it]\n",
      "Training (5200 / 18000 Steps) (loss=0.20232):  41%|████      | 9/22 [00:48<02:11, 10.14s/it]"
     ]
    },
    {
     "name": "stdout",
     "output_type": "stream",
     "text": [
      "Model Was Not Saved ! Current Best Avg. Dice: 0.7167723178863525 Current Avg. Dice: 0.7160997986793518 Current Avg. tumor Dice: 0.7952627539634705 Current Avg. lymph Dice: 0.6369367837905884\n"
     ]
    },
    {
     "name": "stderr",
     "output_type": "stream",
     "text": [
      "Training (5213 / 18000 Steps) (loss=0.36654): 100%|██████████| 22/22 [01:05<00:00,  2.98s/it]\n",
      "Training (5235 / 18000 Steps) (loss=0.42090): 100%|██████████| 22/22 [00:36<00:00,  1.65s/it]\n",
      "Training (5257 / 18000 Steps) (loss=0.13835): 100%|██████████| 22/22 [00:36<00:00,  1.67s/it]\n",
      "Training (5279 / 18000 Steps) (loss=0.34632): 100%|██████████| 22/22 [00:37<00:00,  1.69s/it]\n",
      "Validate (5280 / 10 Steps): 100%|██████████| 6/6 [00:27<00:00,  4.67s/it]35<00:02,  1.37s/it]\n",
      "Training (5300 / 18000 Steps) (loss=0.42882):  95%|█████████▌| 21/22 [01:03<00:09,  9.80s/it]"
     ]
    },
    {
     "name": "stdout",
     "output_type": "stream",
     "text": [
      "Model Was Not Saved ! Current Best Avg. Dice: 0.7167723178863525 Current Avg. Dice: 0.6700468063354492 Current Avg. tumor Dice: 0.7844519019126892 Current Avg. lymph Dice: 0.5556418299674988\n"
     ]
    },
    {
     "name": "stderr",
     "output_type": "stream",
     "text": [
      "Training (5301 / 18000 Steps) (loss=0.48950): 100%|██████████| 22/22 [01:04<00:00,  2.94s/it]\n",
      "Training (5323 / 18000 Steps) (loss=0.40528): 100%|██████████| 22/22 [00:36<00:00,  1.65s/it]\n",
      "Training (5345 / 18000 Steps) (loss=0.46662): 100%|██████████| 22/22 [00:36<00:00,  1.65s/it]\n",
      "Training (5367 / 18000 Steps) (loss=0.12896): 100%|██████████| 22/22 [00:35<00:00,  1.63s/it]\n",
      "Training (5389 / 18000 Steps) (loss=0.34735): 100%|██████████| 22/22 [00:36<00:00,  1.64s/it]\n",
      "Validate (5390 / 10 Steps): 100%|██████████| 6/6 [00:27<00:00,  4.61s/it]22<00:17,  1.46s/it]\n",
      "Training (5400 / 18000 Steps) (loss=0.40693):  50%|█████     | 11/22 [00:49<01:49,  9.91s/it]"
     ]
    },
    {
     "name": "stdout",
     "output_type": "stream",
     "text": [
      "Model Was Not Saved ! Current Best Avg. Dice: 0.7167723178863525 Current Avg. Dice: 0.6809921264648438 Current Avg. tumor Dice: 0.7858511209487915 Current Avg. lymph Dice: 0.5761330127716064\n"
     ]
    },
    {
     "name": "stderr",
     "output_type": "stream",
     "text": [
      "Training (5411 / 18000 Steps) (loss=0.37165): 100%|██████████| 22/22 [01:04<00:00,  2.93s/it]\n",
      "Training (5433 / 18000 Steps) (loss=0.47511): 100%|██████████| 22/22 [00:37<00:00,  1.73s/it]\n",
      "Training (5455 / 18000 Steps) (loss=0.52000): 100%|██████████| 22/22 [00:37<00:00,  1.71s/it]\n",
      "Training (5477 / 18000 Steps) (loss=0.17692): 100%|██████████| 22/22 [00:36<00:00,  1.64s/it]\n",
      "Training (5499 / 18000 Steps) (loss=0.54487): 100%|██████████| 22/22 [00:35<00:00,  1.63s/it]\n",
      "Validate (5500 / 10 Steps): 100%|██████████| 6/6 [00:28<00:00,  4.68s/it]8<?, ?it/s]\n",
      "Training (5500 / 18000 Steps) (loss=0.38343):   5%|▍         | 1/22 [00:36<12:45, 36.44s/it]"
     ]
    },
    {
     "name": "stdout",
     "output_type": "stream",
     "text": [
      "Model Was Not Saved ! Current Best Avg. Dice: 0.7167723178863525 Current Avg. Dice: 0.695503830909729 Current Avg. tumor Dice: 0.7819440364837646 Current Avg. lymph Dice: 0.6090636849403381\n"
     ]
    },
    {
     "name": "stderr",
     "output_type": "stream",
     "text": [
      "Training (5521 / 18000 Steps) (loss=0.23872): 100%|██████████| 22/22 [01:04<00:00,  2.94s/it]\n",
      "Training (5543 / 18000 Steps) (loss=0.42816): 100%|██████████| 22/22 [00:36<00:00,  1.66s/it]\n",
      "Training (5565 / 18000 Steps) (loss=0.46882): 100%|██████████| 22/22 [00:35<00:00,  1.62s/it]\n",
      "Training (5587 / 18000 Steps) (loss=0.40496): 100%|██████████| 22/22 [00:35<00:00,  1.61s/it]\n",
      "Validate (5588 / 10 Steps): 100%|██████████| 6/6 [00:28<00:00,  4.67s/it]24<00:14,  1.41s/it]\n",
      "Training (5600 / 18000 Steps) (loss=0.24533):  59%|█████▉    | 13/22 [00:52<01:29,  9.90s/it]"
     ]
    },
    {
     "name": "stdout",
     "output_type": "stream",
     "text": [
      "Model Was Not Saved ! Current Best Avg. Dice: 0.7167723178863525 Current Avg. Dice: 0.6988641023635864 Current Avg. tumor Dice: 0.7881918549537659 Current Avg. lymph Dice: 0.609536349773407\n"
     ]
    },
    {
     "name": "stderr",
     "output_type": "stream",
     "text": [
      "Training (5609 / 18000 Steps) (loss=0.27738): 100%|██████████| 22/22 [01:03<00:00,  2.91s/it]\n",
      "Training (5631 / 18000 Steps) (loss=0.24350): 100%|██████████| 22/22 [00:37<00:00,  1.69s/it]\n",
      "Training (5653 / 18000 Steps) (loss=0.28951): 100%|██████████| 22/22 [00:38<00:00,  1.75s/it]\n",
      "Training (5675 / 18000 Steps) (loss=0.13065): 100%|██████████| 22/22 [00:36<00:00,  1.64s/it]\n",
      "Training (5697 / 18000 Steps) (loss=0.47216): 100%|██████████| 22/22 [00:37<00:00,  1.68s/it]\n",
      "Validate (5698 / 10 Steps): 100%|██████████| 6/6 [00:28<00:00,  4.67s/it]1<01:24,  4.22s/it]\n",
      "Training (5700 / 18000 Steps) (loss=0.49969):  14%|█▎        | 3/22 [00:39<04:59, 15.75s/it]"
     ]
    },
    {
     "name": "stdout",
     "output_type": "stream",
     "text": [
      "Model Was Not Saved ! Current Best Avg. Dice: 0.7167723178863525 Current Avg. Dice: 0.7141456007957458 Current Avg. tumor Dice: 0.805080235004425 Current Avg. lymph Dice: 0.6232110857963562\n"
     ]
    },
    {
     "name": "stderr",
     "output_type": "stream",
     "text": [
      "Training (5719 / 18000 Steps) (loss=0.57550): 100%|██████████| 22/22 [01:04<00:00,  2.94s/it]\n",
      "Training (5741 / 18000 Steps) (loss=0.41306): 100%|██████████| 22/22 [00:36<00:00,  1.67s/it]\n",
      "Training (5763 / 18000 Steps) (loss=0.28943): 100%|██████████| 22/22 [00:36<00:00,  1.64s/it]\n",
      "Training (5785 / 18000 Steps) (loss=0.46205): 100%|██████████| 22/22 [00:36<00:00,  1.65s/it]\n",
      "Validate (5786 / 10 Steps): 100%|██████████| 6/6 [00:28<00:00,  4.67s/it]30<00:11,  1.40s/it]\n",
      "Training (5800 / 18000 Steps) (loss=0.47070):  68%|██████▊   | 15/22 [00:58<01:08,  9.85s/it]"
     ]
    },
    {
     "name": "stdout",
     "output_type": "stream",
     "text": [
      "Model Was Not Saved ! Current Best Avg. Dice: 0.7167723178863525 Current Avg. Dice: 0.7123355865478516 Current Avg. tumor Dice: 0.7959291338920593 Current Avg. lymph Dice: 0.6287420988082886\n"
     ]
    },
    {
     "name": "stderr",
     "output_type": "stream",
     "text": [
      "Training (5807 / 18000 Steps) (loss=0.33236): 100%|██████████| 22/22 [01:07<00:00,  3.06s/it]\n",
      "Training (5829 / 18000 Steps) (loss=0.42052): 100%|██████████| 22/22 [00:36<00:00,  1.68s/it]\n",
      "Training (5851 / 18000 Steps) (loss=0.41440): 100%|██████████| 22/22 [00:37<00:00,  1.71s/it]\n",
      "Training (5873 / 18000 Steps) (loss=0.44549): 100%|██████████| 22/22 [00:35<00:00,  1.64s/it]\n",
      "Training (5895 / 18000 Steps) (loss=0.41056): 100%|██████████| 22/22 [00:35<00:00,  1.61s/it]\n",
      "Validate (5896 / 10 Steps): 100%|██████████| 6/6 [00:27<00:00,  4.63s/it]3<00:41,  2.32s/it]\n",
      "Training (5900 / 18000 Steps) (loss=0.28122):  23%|██▎       | 5/22 [00:41<03:24, 12.02s/it]"
     ]
    },
    {
     "name": "stdout",
     "output_type": "stream",
     "text": [
      "Model Was Not Saved ! Current Best Avg. Dice: 0.7167723178863525 Current Avg. Dice: 0.7078347206115723 Current Avg. tumor Dice: 0.8029800653457642 Current Avg. lymph Dice: 0.6126893758773804\n"
     ]
    },
    {
     "name": "stderr",
     "output_type": "stream",
     "text": [
      "Training (5917 / 18000 Steps) (loss=0.42853): 100%|██████████| 22/22 [01:04<00:00,  2.93s/it]\n",
      "Training (5939 / 18000 Steps) (loss=0.33903): 100%|██████████| 22/22 [00:39<00:00,  1.77s/it]\n",
      "Training (5961 / 18000 Steps) (loss=0.54556): 100%|██████████| 22/22 [00:37<00:00,  1.69s/it]\n",
      "Training (5983 / 18000 Steps) (loss=0.27655): 100%|██████████| 22/22 [00:35<00:00,  1.63s/it]\n",
      "Validate (5984 / 10 Steps): 100%|██████████| 6/6 [00:27<00:00,  4.60s/it]31<00:08,  1.39s/it]\n",
      "Training (6000 / 18000 Steps) (loss=0.35720):  77%|███████▋  | 17/22 [00:58<00:48,  9.71s/it]"
     ]
    },
    {
     "name": "stdout",
     "output_type": "stream",
     "text": [
      "Model Was Not Saved ! Current Best Avg. Dice: 0.7167723178863525 Current Avg. Dice: 0.694319486618042 Current Avg. tumor Dice: 0.7974057793617249 Current Avg. lymph Dice: 0.5912333130836487\n"
     ]
    },
    {
     "name": "stderr",
     "output_type": "stream",
     "text": [
      "Training (6005 / 18000 Steps) (loss=0.27776): 100%|██████████| 22/22 [01:05<00:00,  2.97s/it]\n",
      "Training (6027 / 18000 Steps) (loss=0.20833): 100%|██████████| 22/22 [00:35<00:00,  1.62s/it]\n",
      "Training (6049 / 18000 Steps) (loss=0.30158): 100%|██████████| 22/22 [00:37<00:00,  1.70s/it]\n",
      "Training (6071 / 18000 Steps) (loss=0.29605): 100%|██████████| 22/22 [00:35<00:00,  1.63s/it]\n",
      "Training (6093 / 18000 Steps) (loss=0.29442): 100%|██████████| 22/22 [00:35<00:00,  1.62s/it]\n",
      "Validate (6094 / 10 Steps): 100%|██████████| 6/6 [00:27<00:00,  4.59s/it]8<00:30,  1.88s/it]\n",
      "Training (6100 / 18000 Steps) (loss=0.54775):  32%|███▏      | 7/22 [00:46<02:40, 10.73s/it]"
     ]
    },
    {
     "name": "stdout",
     "output_type": "stream",
     "text": [
      "Model Was Not Saved ! Current Best Avg. Dice: 0.7167723178863525 Current Avg. Dice: 0.6969046592712402 Current Avg. tumor Dice: 0.7860851287841797 Current Avg. lymph Dice: 0.607724130153656\n"
     ]
    },
    {
     "name": "stderr",
     "output_type": "stream",
     "text": [
      "Training (6115 / 18000 Steps) (loss=0.41373): 100%|██████████| 22/22 [01:06<00:00,  3.00s/it]\n",
      "Training (6137 / 18000 Steps) (loss=0.15158): 100%|██████████| 22/22 [00:36<00:00,  1.67s/it]\n",
      "Training (6159 / 18000 Steps) (loss=0.26663): 100%|██████████| 22/22 [00:35<00:00,  1.61s/it]\n",
      "Training (6181 / 18000 Steps) (loss=0.54647): 100%|██████████| 22/22 [00:36<00:00,  1.65s/it]\n",
      "Validate (6182 / 10 Steps): 100%|██████████| 6/6 [00:27<00:00,  4.58s/it]32<00:05,  1.37s/it]\n",
      "Training (6200 / 18000 Steps) (loss=0.36248):  86%|████████▋ | 19/22 [00:59<00:28,  9.65s/it]"
     ]
    },
    {
     "name": "stdout",
     "output_type": "stream",
     "text": [
      "Model Was Not Saved ! Current Best Avg. Dice: 0.7167723178863525 Current Avg. Dice: 0.6753241419792175 Current Avg. tumor Dice: 0.7722278237342834 Current Avg. lymph Dice: 0.5784204602241516\n"
     ]
    },
    {
     "name": "stderr",
     "output_type": "stream",
     "text": [
      "Training (6203 / 18000 Steps) (loss=0.43406): 100%|██████████| 22/22 [01:03<00:00,  2.89s/it]\n",
      "Training (6225 / 18000 Steps) (loss=0.44520): 100%|██████████| 22/22 [00:36<00:00,  1.68s/it]\n",
      "Training (6247 / 18000 Steps) (loss=0.25034): 100%|██████████| 22/22 [00:36<00:00,  1.67s/it]\n",
      "Training (6269 / 18000 Steps) (loss=0.50657): 100%|██████████| 22/22 [00:37<00:00,  1.69s/it]\n",
      "Training (6291 / 18000 Steps) (loss=0.61575): 100%|██████████| 22/22 [00:35<00:00,  1.62s/it]\n",
      "Validate (6292 / 10 Steps): 100%|██████████| 6/6 [00:27<00:00,  4.65s/it]8<00:21,  1.54s/it]\n",
      "Training (6300 / 18000 Steps) (loss=0.36288):  41%|████      | 9/22 [00:46<02:13, 10.24s/it]"
     ]
    },
    {
     "name": "stdout",
     "output_type": "stream",
     "text": [
      "Model Was Not Saved ! Current Best Avg. Dice: 0.7167723178863525 Current Avg. Dice: 0.6989997029304504 Current Avg. tumor Dice: 0.7808088660240173 Current Avg. lymph Dice: 0.6171905994415283\n"
     ]
    },
    {
     "name": "stderr",
     "output_type": "stream",
     "text": [
      "Training (6313 / 18000 Steps) (loss=0.20532): 100%|██████████| 22/22 [01:04<00:00,  2.91s/it]\n",
      "Training (6335 / 18000 Steps) (loss=0.26046): 100%|██████████| 22/22 [00:37<00:00,  1.69s/it]\n",
      "Training (6357 / 18000 Steps) (loss=0.33125): 100%|██████████| 22/22 [00:36<00:00,  1.64s/it]\n",
      "Training (6379 / 18000 Steps) (loss=0.40168): 100%|██████████| 22/22 [00:36<00:00,  1.67s/it]\n",
      "Validate (6380 / 10 Steps): 100%|██████████| 6/6 [00:27<00:00,  4.58s/it]38<00:02,  1.37s/it]\n",
      "Training (6400 / 18000 Steps) (loss=0.32720):  95%|█████████▌| 21/22 [01:05<00:09,  9.63s/it]"
     ]
    },
    {
     "name": "stdout",
     "output_type": "stream",
     "text": [
      "Model Was Not Saved ! Current Best Avg. Dice: 0.7167723178863525 Current Avg. Dice: 0.7110595107078552 Current Avg. tumor Dice: 0.7971813082695007 Current Avg. lymph Dice: 0.6249375939369202\n"
     ]
    },
    {
     "name": "stderr",
     "output_type": "stream",
     "text": [
      "Training (6401 / 18000 Steps) (loss=0.40155): 100%|██████████| 22/22 [01:06<00:00,  3.02s/it]\n",
      "Training (6423 / 18000 Steps) (loss=0.19496): 100%|██████████| 22/22 [00:35<00:00,  1.64s/it]\n",
      "Training (6445 / 18000 Steps) (loss=0.43737): 100%|██████████| 22/22 [00:37<00:00,  1.69s/it]\n",
      "Training (6467 / 18000 Steps) (loss=0.40490): 100%|██████████| 22/22 [00:35<00:00,  1.62s/it]\n",
      "Training (6489 / 18000 Steps) (loss=0.41401): 100%|██████████| 22/22 [00:36<00:00,  1.66s/it]\n",
      "Validate (6490 / 10 Steps): 100%|██████████| 6/6 [00:27<00:00,  4.62s/it]22<00:17,  1.46s/it]\n",
      "Training (6500 / 18000 Steps) (loss=0.33603):  50%|█████     | 11/22 [00:49<01:49,  9.93s/it]"
     ]
    },
    {
     "name": "stdout",
     "output_type": "stream",
     "text": [
      "Model Was Not Saved ! Current Best Avg. Dice: 0.7167723178863525 Current Avg. Dice: 0.7026615738868713 Current Avg. tumor Dice: 0.7936437726020813 Current Avg. lymph Dice: 0.6116794943809509\n"
     ]
    },
    {
     "name": "stderr",
     "output_type": "stream",
     "text": [
      "Training (6511 / 18000 Steps) (loss=0.39146): 100%|██████████| 22/22 [01:04<00:00,  2.92s/it]\n",
      "Training (6533 / 18000 Steps) (loss=0.20409): 100%|██████████| 22/22 [00:36<00:00,  1.67s/it]\n",
      "Training (6555 / 18000 Steps) (loss=0.36247): 100%|██████████| 22/22 [00:36<00:00,  1.65s/it]\n",
      "Training (6577 / 18000 Steps) (loss=0.27460): 100%|██████████| 22/22 [00:35<00:00,  1.63s/it]\n",
      "Training (6599 / 18000 Steps) (loss=0.40400): 100%|██████████| 22/22 [00:38<00:00,  1.73s/it]\n",
      "Validate (6600 / 10 Steps): 100%|██████████| 6/6 [00:27<00:00,  4.64s/it]9<?, ?it/s]\n",
      "Training (6600 / 18000 Steps) (loss=0.34932):   5%|▍         | 1/22 [00:37<13:09, 37.60s/it]"
     ]
    },
    {
     "name": "stdout",
     "output_type": "stream",
     "text": [
      "Model Was Not Saved ! Current Best Avg. Dice: 0.7167723178863525 Current Avg. Dice: 0.7025474309921265 Current Avg. tumor Dice: 0.7836948037147522 Current Avg. lymph Dice: 0.621399998664856\n"
     ]
    },
    {
     "name": "stderr",
     "output_type": "stream",
     "text": [
      "Training (6621 / 18000 Steps) (loss=0.45514): 100%|██████████| 22/22 [01:05<00:00,  2.99s/it]\n",
      "Training (6643 / 18000 Steps) (loss=0.25316): 100%|██████████| 22/22 [00:38<00:00,  1.73s/it]\n",
      "Training (6665 / 18000 Steps) (loss=0.54019): 100%|██████████| 22/22 [00:37<00:00,  1.71s/it]\n",
      "Training (6687 / 18000 Steps) (loss=0.41546): 100%|██████████| 22/22 [00:35<00:00,  1.63s/it]\n",
      "Validate (6688 / 10 Steps): 100%|██████████| 6/6 [00:27<00:00,  4.61s/it]26<00:14,  1.42s/it]\n",
      "Training (6700 / 18000 Steps) (loss=0.33434):  59%|█████▉    | 13/22 [00:53<01:28,  9.79s/it]"
     ]
    },
    {
     "name": "stdout",
     "output_type": "stream",
     "text": [
      "Model Was Not Saved ! Current Best Avg. Dice: 0.7167723178863525 Current Avg. Dice: 0.7029266953468323 Current Avg. tumor Dice: 0.7803663611412048 Current Avg. lymph Dice: 0.6254870891571045\n"
     ]
    },
    {
     "name": "stderr",
     "output_type": "stream",
     "text": [
      "Training (6709 / 18000 Steps) (loss=0.60205): 100%|██████████| 22/22 [01:05<00:00,  2.98s/it]\n",
      "Training (6731 / 18000 Steps) (loss=0.53232): 100%|██████████| 22/22 [00:38<00:00,  1.74s/it]\n",
      "Training (6753 / 18000 Steps) (loss=0.63357): 100%|██████████| 22/22 [00:35<00:00,  1.62s/it]\n",
      "Training (6775 / 18000 Steps) (loss=0.31716): 100%|██████████| 22/22 [00:36<00:00,  1.66s/it]\n",
      "Training (6797 / 18000 Steps) (loss=0.27290): 100%|██████████| 22/22 [00:35<00:00,  1.62s/it]\n",
      "Validate (6798 / 10 Steps): 100%|██████████| 6/6 [00:27<00:00,  4.63s/it]1<01:27,  4.38s/it]\n",
      "Training (6800 / 18000 Steps) (loss=0.49939):  14%|█▎        | 3/22 [00:39<04:58, 15.71s/it]"
     ]
    },
    {
     "name": "stdout",
     "output_type": "stream",
     "text": [
      "Model Was Not Saved ! Current Best Avg. Dice: 0.7167723178863525 Current Avg. Dice: 0.6982454061508179 Current Avg. tumor Dice: 0.7728025913238525 Current Avg. lymph Dice: 0.6236879825592041\n"
     ]
    },
    {
     "name": "stderr",
     "output_type": "stream",
     "text": [
      "Training (6819 / 18000 Steps) (loss=0.27670): 100%|██████████| 22/22 [01:04<00:00,  2.94s/it]\n",
      "Training (6841 / 18000 Steps) (loss=0.28742): 100%|██████████| 22/22 [00:37<00:00,  1.68s/it]\n",
      "Training (6863 / 18000 Steps) (loss=0.28103): 100%|██████████| 22/22 [00:35<00:00,  1.63s/it]\n",
      "Training (6885 / 18000 Steps) (loss=0.33907): 100%|██████████| 22/22 [00:36<00:00,  1.66s/it]\n",
      "Validate (6886 / 10 Steps): 100%|██████████| 6/6 [00:28<00:00,  4.67s/it]27<00:11,  1.39s/it]\n",
      "Training (6900 / 18000 Steps) (loss=0.52532):  68%|██████▊   | 15/22 [00:55<01:08,  9.86s/it]"
     ]
    },
    {
     "name": "stdout",
     "output_type": "stream",
     "text": [
      "Model Was Not Saved ! Current Best Avg. Dice: 0.7167723178863525 Current Avg. Dice: 0.6991428732872009 Current Avg. tumor Dice: 0.7694664001464844 Current Avg. lymph Dice: 0.6288192272186279\n"
     ]
    },
    {
     "name": "stderr",
     "output_type": "stream",
     "text": [
      "Training (6907 / 18000 Steps) (loss=0.44385): 100%|██████████| 22/22 [01:04<00:00,  2.94s/it]\n",
      "Training (6929 / 18000 Steps) (loss=0.34236): 100%|██████████| 22/22 [00:38<00:00,  1.74s/it]\n",
      "Training (6951 / 18000 Steps) (loss=0.39043): 100%|██████████| 22/22 [00:36<00:00,  1.64s/it]\n",
      "Training (6973 / 18000 Steps) (loss=0.17973): 100%|██████████| 22/22 [00:35<00:00,  1.63s/it]\n",
      "Training (6995 / 18000 Steps) (loss=0.27817): 100%|██████████| 22/22 [00:37<00:00,  1.72s/it]\n",
      "Validate (6996 / 10 Steps): 100%|██████████| 6/6 [00:28<00:00,  4.68s/it]6<00:48,  2.69s/it]\n",
      "Training (7000 / 18000 Steps) (loss=0.39928):  23%|██▎       | 5/22 [00:44<03:30, 12.36s/it]"
     ]
    },
    {
     "name": "stdout",
     "output_type": "stream",
     "text": [
      "Model Was Not Saved ! Current Best Avg. Dice: 0.7167723178863525 Current Avg. Dice: 0.6800615787506104 Current Avg. tumor Dice: 0.7742965221405029 Current Avg. lymph Dice: 0.5858266353607178\n"
     ]
    },
    {
     "name": "stderr",
     "output_type": "stream",
     "text": [
      "Training (7017 / 18000 Steps) (loss=0.66720): 100%|██████████| 22/22 [01:07<00:00,  3.07s/it]\n",
      "Training (7039 / 18000 Steps) (loss=0.43018): 100%|██████████| 22/22 [00:37<00:00,  1.68s/it]\n",
      "Training (7061 / 18000 Steps) (loss=0.48163): 100%|██████████| 22/22 [00:36<00:00,  1.65s/it]\n",
      "Training (7083 / 18000 Steps) (loss=0.16520): 100%|██████████| 22/22 [00:36<00:00,  1.64s/it]\n",
      "Validate (7084 / 10 Steps): 100%|██████████| 6/6 [00:28<00:00,  4.67s/it]31<00:08,  1.38s/it]\n",
      "Training (7100 / 18000 Steps) (loss=0.51090):  77%|███████▋  | 17/22 [00:59<00:49,  9.83s/it]"
     ]
    },
    {
     "name": "stdout",
     "output_type": "stream",
     "text": [
      "Model Was Not Saved ! Current Best Avg. Dice: 0.7167723178863525 Current Avg. Dice: 0.6897493004798889 Current Avg. tumor Dice: 0.7810943722724915 Current Avg. lymph Dice: 0.5984041690826416\n"
     ]
    },
    {
     "name": "stderr",
     "output_type": "stream",
     "text": [
      "Training (7105 / 18000 Steps) (loss=0.26539): 100%|██████████| 22/22 [01:06<00:00,  3.01s/it]\n",
      "Training (7127 / 18000 Steps) (loss=0.48206): 100%|██████████| 22/22 [00:36<00:00,  1.67s/it]\n",
      "Training (7149 / 18000 Steps) (loss=0.34590): 100%|██████████| 22/22 [00:37<00:00,  1.71s/it]\n",
      "Training (7171 / 18000 Steps) (loss=0.60136): 100%|██████████| 22/22 [00:37<00:00,  1.71s/it]\n",
      "Training (7193 / 18000 Steps) (loss=0.20606): 100%|██████████| 22/22 [00:38<00:00,  1.73s/it]\n",
      "Validate (7194 / 10 Steps): 100%|██████████| 6/6 [00:27<00:00,  4.64s/it]6<00:28,  1.77s/it]\n",
      "Training (7200 / 18000 Steps) (loss=0.47046):  32%|███▏      | 7/22 [00:44<02:41, 10.76s/it]"
     ]
    },
    {
     "name": "stdout",
     "output_type": "stream",
     "text": [
      "Model Was Not Saved ! Current Best Avg. Dice: 0.7167723178863525 Current Avg. Dice: 0.6872853636741638 Current Avg. tumor Dice: 0.7706634998321533 Current Avg. lymph Dice: 0.6039073467254639\n"
     ]
    },
    {
     "name": "stderr",
     "output_type": "stream",
     "text": [
      "Training (7215 / 18000 Steps) (loss=0.32100): 100%|██████████| 22/22 [01:04<00:00,  2.94s/it]\n",
      "Training (7237 / 18000 Steps) (loss=0.53818): 100%|██████████| 22/22 [00:37<00:00,  1.68s/it]\n",
      "Training (7259 / 18000 Steps) (loss=0.24058): 100%|██████████| 22/22 [00:36<00:00,  1.64s/it]\n",
      "Training (7281 / 18000 Steps) (loss=0.35402): 100%|██████████| 22/22 [00:36<00:00,  1.67s/it]\n",
      "Validate (7282 / 10 Steps): 100%|██████████| 6/6 [00:27<00:00,  4.60s/it]32<00:05,  1.37s/it]\n",
      "Training (7300 / 18000 Steps) (loss=0.31708):  86%|████████▋ | 19/22 [01:00<00:29,  9.67s/it]"
     ]
    },
    {
     "name": "stdout",
     "output_type": "stream",
     "text": [
      "Model Was Not Saved ! Current Best Avg. Dice: 0.7167723178863525 Current Avg. Dice: 0.6947544813156128 Current Avg. tumor Dice: 0.7725076079368591 Current Avg. lymph Dice: 0.6170013546943665\n"
     ]
    },
    {
     "name": "stderr",
     "output_type": "stream",
     "text": [
      "Training (7303 / 18000 Steps) (loss=0.36650): 100%|██████████| 22/22 [01:04<00:00,  2.92s/it]\n",
      "Training (7325 / 18000 Steps) (loss=0.27377): 100%|██████████| 22/22 [00:36<00:00,  1.65s/it]\n",
      "Training (7347 / 18000 Steps) (loss=0.32521): 100%|██████████| 22/22 [00:35<00:00,  1.63s/it]\n",
      "Training (7369 / 18000 Steps) (loss=0.25641): 100%|██████████| 22/22 [00:36<00:00,  1.68s/it]\n",
      "Training (7391 / 18000 Steps) (loss=0.14687): 100%|██████████| 22/22 [00:35<00:00,  1.61s/it]\n",
      "Validate (7392 / 10 Steps): 100%|██████████| 6/6 [00:27<00:00,  4.62s/it]8<00:21,  1.54s/it]\n",
      "Training (7400 / 18000 Steps) (loss=0.32181):  41%|████      | 9/22 [00:46<02:12, 10.18s/it]"
     ]
    },
    {
     "name": "stdout",
     "output_type": "stream",
     "text": [
      "Model Was Not Saved ! Current Best Avg. Dice: 0.7167723178863525 Current Avg. Dice: 0.7092487812042236 Current Avg. tumor Dice: 0.7827953696250916 Current Avg. lymph Dice: 0.6357021927833557\n"
     ]
    },
    {
     "name": "stderr",
     "output_type": "stream",
     "text": [
      "Training (7413 / 18000 Steps) (loss=0.31158): 100%|██████████| 22/22 [01:03<00:00,  2.91s/it]\n",
      "Training (7435 / 18000 Steps) (loss=0.29592): 100%|██████████| 22/22 [00:36<00:00,  1.64s/it]\n",
      "Training (7457 / 18000 Steps) (loss=0.38564): 100%|██████████| 22/22 [00:35<00:00,  1.62s/it]\n",
      "Training (7479 / 18000 Steps) (loss=0.30720): 100%|██████████| 22/22 [00:36<00:00,  1.66s/it]\n",
      "Validate (7480 / 10 Steps): 100%|██████████| 6/6 [00:27<00:00,  4.62s/it]35<00:02,  1.37s/it]\n",
      "Training (7500 / 18000 Steps) (loss=0.44535):  95%|█████████▌| 21/22 [01:03<00:09,  9.70s/it]"
     ]
    },
    {
     "name": "stdout",
     "output_type": "stream",
     "text": [
      "Model Was Not Saved ! Current Best Avg. Dice: 0.7167723178863525 Current Avg. Dice: 0.7031111121177673 Current Avg. tumor Dice: 0.7940385937690735 Current Avg. lymph Dice: 0.612183690071106\n"
     ]
    },
    {
     "name": "stderr",
     "output_type": "stream",
     "text": [
      "Training (7501 / 18000 Steps) (loss=0.39598): 100%|██████████| 22/22 [01:04<00:00,  2.91s/it]\n",
      "Training (7523 / 18000 Steps) (loss=0.29225): 100%|██████████| 22/22 [00:35<00:00,  1.61s/it]\n",
      "Training (7545 / 18000 Steps) (loss=0.50680): 100%|██████████| 22/22 [00:37<00:00,  1.70s/it]\n",
      "Training (7567 / 18000 Steps) (loss=0.34543): 100%|██████████| 22/22 [00:36<00:00,  1.65s/it]\n",
      "Training (7589 / 18000 Steps) (loss=0.25443): 100%|██████████| 22/22 [00:38<00:00,  1.73s/it]\n",
      "Validate (7590 / 10 Steps): 100%|██████████| 6/6 [00:27<00:00,  4.61s/it]21<00:17,  1.45s/it]\n",
      "Training (7600 / 18000 Steps) (loss=0.39194):  50%|█████     | 11/22 [00:48<01:48,  9.90s/it]"
     ]
    },
    {
     "name": "stdout",
     "output_type": "stream",
     "text": [
      "Model Was Not Saved ! Current Best Avg. Dice: 0.7167723178863525 Current Avg. Dice: 0.6742137670516968 Current Avg. tumor Dice: 0.772132158279419 Current Avg. lymph Dice: 0.5762952566146851\n"
     ]
    },
    {
     "name": "stderr",
     "output_type": "stream",
     "text": [
      "Training (7611 / 18000 Steps) (loss=0.44198): 100%|██████████| 22/22 [01:03<00:00,  2.88s/it]\n",
      "Training (7633 / 18000 Steps) (loss=0.31417): 100%|██████████| 22/22 [00:37<00:00,  1.68s/it]\n",
      "Training (7655 / 18000 Steps) (loss=0.39573): 100%|██████████| 22/22 [00:36<00:00,  1.67s/it]\n",
      "Training (7677 / 18000 Steps) (loss=0.27145): 100%|██████████| 22/22 [00:36<00:00,  1.65s/it]\n",
      "Training (7699 / 18000 Steps) (loss=0.54901): 100%|██████████| 22/22 [00:35<00:00,  1.61s/it]\n",
      "Validate (7700 / 10 Steps): 100%|██████████| 6/6 [00:28<00:00,  4.75s/it]7<?, ?it/s]\n",
      "Training (7700 / 18000 Steps) (loss=0.46590):   5%|▍         | 1/22 [00:35<12:30, 35.73s/it]"
     ]
    },
    {
     "name": "stdout",
     "output_type": "stream",
     "text": [
      "Model Was Not Saved ! Current Best Avg. Dice: 0.7167723178863525 Current Avg. Dice: 0.6913812756538391 Current Avg. tumor Dice: 0.7815743088722229 Current Avg. lymph Dice: 0.6011884212493896\n"
     ]
    },
    {
     "name": "stderr",
     "output_type": "stream",
     "text": [
      "Training (7721 / 18000 Steps) (loss=0.31024): 100%|██████████| 22/22 [01:03<00:00,  2.91s/it]\n",
      "Training (7743 / 18000 Steps) (loss=0.34168): 100%|██████████| 22/22 [00:37<00:00,  1.70s/it]\n",
      "Training (7765 / 18000 Steps) (loss=0.66769): 100%|██████████| 22/22 [00:35<00:00,  1.62s/it]\n",
      "Training (7787 / 18000 Steps) (loss=0.53703): 100%|██████████| 22/22 [00:35<00:00,  1.63s/it]\n",
      "Validate (7788 / 10 Steps): 100%|██████████| 6/6 [00:27<00:00,  4.63s/it]24<00:14,  1.41s/it]\n",
      "Training (7800 / 18000 Steps) (loss=0.53624):  59%|█████▉    | 13/22 [00:51<01:28,  9.83s/it]"
     ]
    },
    {
     "name": "stdout",
     "output_type": "stream",
     "text": [
      "Model Was Not Saved ! Current Best Avg. Dice: 0.7167723178863525 Current Avg. Dice: 0.703927218914032 Current Avg. tumor Dice: 0.7814916372299194 Current Avg. lymph Dice: 0.6263627409934998\n"
     ]
    },
    {
     "name": "stderr",
     "output_type": "stream",
     "text": [
      "Training (7809 / 18000 Steps) (loss=0.55215): 100%|██████████| 22/22 [01:03<00:00,  2.89s/it]\n",
      "Training (7831 / 18000 Steps) (loss=0.41241): 100%|██████████| 22/22 [00:39<00:00,  1.80s/it]\n",
      "Training (7853 / 18000 Steps) (loss=0.35249): 100%|██████████| 22/22 [00:35<00:00,  1.63s/it]\n",
      "Training (7875 / 18000 Steps) (loss=0.40302): 100%|██████████| 22/22 [00:36<00:00,  1.64s/it]\n",
      "Training (7897 / 18000 Steps) (loss=0.12269): 100%|██████████| 22/22 [00:38<00:00,  1.76s/it]\n",
      "Validate (7898 / 10 Steps): 100%|██████████| 6/6 [00:27<00:00,  4.64s/it]2<01:33,  4.69s/it]\n",
      "Training (7900 / 18000 Steps) (loss=0.27376):  14%|█▎        | 3/22 [00:40<05:02, 15.91s/it]"
     ]
    },
    {
     "name": "stdout",
     "output_type": "stream",
     "text": [
      "Model Was Not Saved ! Current Best Avg. Dice: 0.7167723178863525 Current Avg. Dice: 0.6865789890289307 Current Avg. tumor Dice: 0.7758960723876953 Current Avg. lymph Dice: 0.5972617864608765\n"
     ]
    },
    {
     "name": "stderr",
     "output_type": "stream",
     "text": [
      "Training (7904 / 18000 Steps) (loss=0.44514):  32%|███▏      | 7/22 [00:46<01:38,  6.59s/it]\n"
     ]
    },
    {
     "ename": "KeyboardInterrupt",
     "evalue": "",
     "output_type": "error",
     "traceback": [
      "\u001b[0;31m---------------------------------------------------------------------------\u001b[0m",
      "\u001b[0;31mKeyboardInterrupt\u001b[0m                         Traceback (most recent call last)",
      "Cell \u001b[0;32mIn[24], line 109\u001b[0m\n\u001b[1;32m    107\u001b[0m metric_values_lymph \u001b[38;5;241m=\u001b[39m []\n\u001b[1;32m    108\u001b[0m \u001b[38;5;28;01mwhile\u001b[39;00m global_step \u001b[38;5;241m<\u001b[39m max_iterations:\n\u001b[0;32m--> 109\u001b[0m     global_step, dice_val_best, global_step_best \u001b[38;5;241m=\u001b[39m \u001b[43mtrain\u001b[49m\u001b[43m(\u001b[49m\n\u001b[1;32m    110\u001b[0m \u001b[43m        \u001b[49m\u001b[43mglobal_step\u001b[49m\u001b[43m,\u001b[49m\u001b[43m \u001b[49m\u001b[43mtrain_loader\u001b[49m\u001b[43m,\u001b[49m\u001b[43m \u001b[49m\u001b[43mdice_val_best\u001b[49m\u001b[43m,\u001b[49m\u001b[43m \u001b[49m\u001b[43mglobal_step_best\u001b[49m\n\u001b[1;32m    111\u001b[0m \u001b[43m    \u001b[49m\u001b[43m)\u001b[49m\n\u001b[1;32m    112\u001b[0m     \u001b[38;5;66;03m# wandb.log({'learning_rate': optimizer.param_groups[0]['lr']})\u001b[39;00m\n\u001b[1;32m    113\u001b[0m     \u001b[38;5;66;03m# wandb.log({'Best Dice': dice_val_best})\u001b[39;00m\n\u001b[1;32m    114\u001b[0m     epoch \u001b[38;5;241m+\u001b[39m\u001b[38;5;241m=\u001b[39m \u001b[38;5;241m1\u001b[39m \n",
      "Cell \u001b[0;32mIn[24], line 46\u001b[0m, in \u001b[0;36mtrain\u001b[0;34m(global_step, train_loader, dice_val_best, global_step_best)\u001b[0m\n\u001b[1;32m     43\u001b[0m logit_map \u001b[38;5;241m=\u001b[39m model(x, mode\u001b[38;5;241m=\u001b[39m\u001b[38;5;124m'\u001b[39m\u001b[38;5;124mct\u001b[39m\u001b[38;5;124m'\u001b[39m)\n\u001b[1;32m     45\u001b[0m loss \u001b[38;5;241m=\u001b[39m loss_function(logit_map, y)\n\u001b[0;32m---> 46\u001b[0m \u001b[43mloss\u001b[49m\u001b[38;5;241;43m.\u001b[39;49m\u001b[43mbackward\u001b[49m\u001b[43m(\u001b[49m\u001b[43m)\u001b[49m\n\u001b[1;32m     47\u001b[0m epoch_loss \u001b[38;5;241m+\u001b[39m\u001b[38;5;241m=\u001b[39m loss\u001b[38;5;241m.\u001b[39mitem()\n\u001b[1;32m     48\u001b[0m optimizer\u001b[38;5;241m.\u001b[39mstep()\n",
      "File \u001b[0;32m~/miniconda3/envs/clam/lib/python3.8/site-packages/torch/_tensor.py:483\u001b[0m, in \u001b[0;36mTensor.backward\u001b[0;34m(self, gradient, retain_graph, create_graph, inputs)\u001b[0m\n\u001b[1;32m    436\u001b[0m \u001b[38;5;250m\u001b[39m\u001b[38;5;124mr\u001b[39m\u001b[38;5;124;03m\"\"\"Computes the gradient of current tensor wrt graph leaves.\u001b[39;00m\n\u001b[1;32m    437\u001b[0m \n\u001b[1;32m    438\u001b[0m \u001b[38;5;124;03mThe graph is differentiated using the chain rule. If the tensor is\u001b[39;00m\n\u001b[0;32m   (...)\u001b[0m\n\u001b[1;32m    480\u001b[0m \u001b[38;5;124;03m        used to compute the attr::tensors.\u001b[39;00m\n\u001b[1;32m    481\u001b[0m \u001b[38;5;124;03m\"\"\"\u001b[39;00m\n\u001b[1;32m    482\u001b[0m \u001b[38;5;28;01mif\u001b[39;00m has_torch_function_unary(\u001b[38;5;28mself\u001b[39m):\n\u001b[0;32m--> 483\u001b[0m     \u001b[38;5;28;01mreturn\u001b[39;00m \u001b[43mhandle_torch_function\u001b[49m\u001b[43m(\u001b[49m\n\u001b[1;32m    484\u001b[0m \u001b[43m        \u001b[49m\u001b[43mTensor\u001b[49m\u001b[38;5;241;43m.\u001b[39;49m\u001b[43mbackward\u001b[49m\u001b[43m,\u001b[49m\n\u001b[1;32m    485\u001b[0m \u001b[43m        \u001b[49m\u001b[43m(\u001b[49m\u001b[38;5;28;43mself\u001b[39;49m\u001b[43m,\u001b[49m\u001b[43m)\u001b[49m\u001b[43m,\u001b[49m\n\u001b[1;32m    486\u001b[0m \u001b[43m        \u001b[49m\u001b[38;5;28;43mself\u001b[39;49m\u001b[43m,\u001b[49m\n\u001b[1;32m    487\u001b[0m \u001b[43m        \u001b[49m\u001b[43mgradient\u001b[49m\u001b[38;5;241;43m=\u001b[39;49m\u001b[43mgradient\u001b[49m\u001b[43m,\u001b[49m\n\u001b[1;32m    488\u001b[0m \u001b[43m        \u001b[49m\u001b[43mretain_graph\u001b[49m\u001b[38;5;241;43m=\u001b[39;49m\u001b[43mretain_graph\u001b[49m\u001b[43m,\u001b[49m\n\u001b[1;32m    489\u001b[0m \u001b[43m        \u001b[49m\u001b[43mcreate_graph\u001b[49m\u001b[38;5;241;43m=\u001b[39;49m\u001b[43mcreate_graph\u001b[49m\u001b[43m,\u001b[49m\n\u001b[1;32m    490\u001b[0m \u001b[43m        \u001b[49m\u001b[43minputs\u001b[49m\u001b[38;5;241;43m=\u001b[39;49m\u001b[43minputs\u001b[49m\u001b[43m,\u001b[49m\n\u001b[1;32m    491\u001b[0m \u001b[43m    \u001b[49m\u001b[43m)\u001b[49m\n\u001b[1;32m    492\u001b[0m torch\u001b[38;5;241m.\u001b[39mautograd\u001b[38;5;241m.\u001b[39mbackward(\n\u001b[1;32m    493\u001b[0m     \u001b[38;5;28mself\u001b[39m, gradient, retain_graph, create_graph, inputs\u001b[38;5;241m=\u001b[39minputs\n\u001b[1;32m    494\u001b[0m )\n",
      "File \u001b[0;32m~/miniconda3/envs/clam/lib/python3.8/site-packages/torch/overrides.py:1577\u001b[0m, in \u001b[0;36mhandle_torch_function\u001b[0;34m(public_api, relevant_args, *args, **kwargs)\u001b[0m\n\u001b[1;32m   1571\u001b[0m     warnings\u001b[38;5;241m.\u001b[39mwarn(\u001b[38;5;124m\"\u001b[39m\u001b[38;5;124mDefining your `__torch_function__ as a plain method is deprecated and \u001b[39m\u001b[38;5;124m\"\u001b[39m\n\u001b[1;32m   1572\u001b[0m                   \u001b[38;5;124m\"\u001b[39m\u001b[38;5;124mwill be an error in future, please define it as a classmethod.\u001b[39m\u001b[38;5;124m\"\u001b[39m,\n\u001b[1;32m   1573\u001b[0m                   \u001b[38;5;167;01mDeprecationWarning\u001b[39;00m)\n\u001b[1;32m   1575\u001b[0m \u001b[38;5;66;03m# Use `public_api` instead of `implementation` so __torch_function__\u001b[39;00m\n\u001b[1;32m   1576\u001b[0m \u001b[38;5;66;03m# implementations can do equality/identity comparisons.\u001b[39;00m\n\u001b[0;32m-> 1577\u001b[0m result \u001b[38;5;241m=\u001b[39m \u001b[43mtorch_func_method\u001b[49m\u001b[43m(\u001b[49m\u001b[43mpublic_api\u001b[49m\u001b[43m,\u001b[49m\u001b[43m \u001b[49m\u001b[43mtypes\u001b[49m\u001b[43m,\u001b[49m\u001b[43m \u001b[49m\u001b[43margs\u001b[49m\u001b[43m,\u001b[49m\u001b[43m \u001b[49m\u001b[43mkwargs\u001b[49m\u001b[43m)\u001b[49m\n\u001b[1;32m   1579\u001b[0m \u001b[38;5;28;01mif\u001b[39;00m result \u001b[38;5;129;01mis\u001b[39;00m \u001b[38;5;129;01mnot\u001b[39;00m \u001b[38;5;28mNotImplemented\u001b[39m:\n\u001b[1;32m   1580\u001b[0m     \u001b[38;5;28;01mreturn\u001b[39;00m result\n",
      "File \u001b[0;32m~/miniconda3/envs/clam/lib/python3.8/site-packages/monai/data/meta_tensor.py:282\u001b[0m, in \u001b[0;36mMetaTensor.__torch_function__\u001b[0;34m(cls, func, types, args, kwargs)\u001b[0m\n\u001b[1;32m    280\u001b[0m \u001b[38;5;28;01mif\u001b[39;00m kwargs \u001b[38;5;129;01mis\u001b[39;00m \u001b[38;5;28;01mNone\u001b[39;00m:\n\u001b[1;32m    281\u001b[0m     kwargs \u001b[38;5;241m=\u001b[39m {}\n\u001b[0;32m--> 282\u001b[0m ret \u001b[38;5;241m=\u001b[39m \u001b[38;5;28;43msuper\u001b[39;49m\u001b[43m(\u001b[49m\u001b[43m)\u001b[49m\u001b[38;5;241;43m.\u001b[39;49m\u001b[43m__torch_function__\u001b[49m\u001b[43m(\u001b[49m\u001b[43mfunc\u001b[49m\u001b[43m,\u001b[49m\u001b[43m \u001b[49m\u001b[43mtypes\u001b[49m\u001b[43m,\u001b[49m\u001b[43m \u001b[49m\u001b[43margs\u001b[49m\u001b[43m,\u001b[49m\u001b[43m \u001b[49m\u001b[43mkwargs\u001b[49m\u001b[43m)\u001b[49m\n\u001b[1;32m    283\u001b[0m \u001b[38;5;66;03m# if `out` has been used as argument, metadata is not copied, nothing to do.\u001b[39;00m\n\u001b[1;32m    284\u001b[0m \u001b[38;5;66;03m# if \"out\" in kwargs:\u001b[39;00m\n\u001b[1;32m    285\u001b[0m \u001b[38;5;66;03m#     return ret\u001b[39;00m\n\u001b[1;32m    286\u001b[0m \u001b[38;5;28;01mif\u001b[39;00m _not_requiring_metadata(ret):\n",
      "File \u001b[0;32m~/miniconda3/envs/clam/lib/python3.8/site-packages/torch/_tensor.py:1386\u001b[0m, in \u001b[0;36mTensor.__torch_function__\u001b[0;34m(cls, func, types, args, kwargs)\u001b[0m\n\u001b[1;32m   1383\u001b[0m     \u001b[38;5;28;01mreturn\u001b[39;00m \u001b[38;5;28mNotImplemented\u001b[39m\n\u001b[1;32m   1385\u001b[0m \u001b[38;5;28;01mwith\u001b[39;00m _C\u001b[38;5;241m.\u001b[39mDisableTorchFunctionSubclass():\n\u001b[0;32m-> 1386\u001b[0m     ret \u001b[38;5;241m=\u001b[39m \u001b[43mfunc\u001b[49m\u001b[43m(\u001b[49m\u001b[38;5;241;43m*\u001b[39;49m\u001b[43margs\u001b[49m\u001b[43m,\u001b[49m\u001b[43m \u001b[49m\u001b[38;5;241;43m*\u001b[39;49m\u001b[38;5;241;43m*\u001b[39;49m\u001b[43mkwargs\u001b[49m\u001b[43m)\u001b[49m\n\u001b[1;32m   1387\u001b[0m     \u001b[38;5;28;01mif\u001b[39;00m func \u001b[38;5;129;01min\u001b[39;00m get_default_nowrap_functions():\n\u001b[1;32m   1388\u001b[0m         \u001b[38;5;28;01mreturn\u001b[39;00m ret\n",
      "File \u001b[0;32m~/miniconda3/envs/clam/lib/python3.8/site-packages/torch/_tensor.py:492\u001b[0m, in \u001b[0;36mTensor.backward\u001b[0;34m(self, gradient, retain_graph, create_graph, inputs)\u001b[0m\n\u001b[1;32m    482\u001b[0m \u001b[38;5;28;01mif\u001b[39;00m has_torch_function_unary(\u001b[38;5;28mself\u001b[39m):\n\u001b[1;32m    483\u001b[0m     \u001b[38;5;28;01mreturn\u001b[39;00m handle_torch_function(\n\u001b[1;32m    484\u001b[0m         Tensor\u001b[38;5;241m.\u001b[39mbackward,\n\u001b[1;32m    485\u001b[0m         (\u001b[38;5;28mself\u001b[39m,),\n\u001b[0;32m   (...)\u001b[0m\n\u001b[1;32m    490\u001b[0m         inputs\u001b[38;5;241m=\u001b[39minputs,\n\u001b[1;32m    491\u001b[0m     )\n\u001b[0;32m--> 492\u001b[0m \u001b[43mtorch\u001b[49m\u001b[38;5;241;43m.\u001b[39;49m\u001b[43mautograd\u001b[49m\u001b[38;5;241;43m.\u001b[39;49m\u001b[43mbackward\u001b[49m\u001b[43m(\u001b[49m\n\u001b[1;32m    493\u001b[0m \u001b[43m    \u001b[49m\u001b[38;5;28;43mself\u001b[39;49m\u001b[43m,\u001b[49m\u001b[43m \u001b[49m\u001b[43mgradient\u001b[49m\u001b[43m,\u001b[49m\u001b[43m \u001b[49m\u001b[43mretain_graph\u001b[49m\u001b[43m,\u001b[49m\u001b[43m \u001b[49m\u001b[43mcreate_graph\u001b[49m\u001b[43m,\u001b[49m\u001b[43m \u001b[49m\u001b[43minputs\u001b[49m\u001b[38;5;241;43m=\u001b[39;49m\u001b[43minputs\u001b[49m\n\u001b[1;32m    494\u001b[0m \u001b[43m\u001b[49m\u001b[43m)\u001b[49m\n",
      "File \u001b[0;32m~/miniconda3/envs/clam/lib/python3.8/site-packages/torch/autograd/__init__.py:251\u001b[0m, in \u001b[0;36mbackward\u001b[0;34m(tensors, grad_tensors, retain_graph, create_graph, grad_variables, inputs)\u001b[0m\n\u001b[1;32m    246\u001b[0m     retain_graph \u001b[38;5;241m=\u001b[39m create_graph\n\u001b[1;32m    248\u001b[0m \u001b[38;5;66;03m# The reason we repeat the same comment below is that\u001b[39;00m\n\u001b[1;32m    249\u001b[0m \u001b[38;5;66;03m# some Python versions print out the first line of a multi-line function\u001b[39;00m\n\u001b[1;32m    250\u001b[0m \u001b[38;5;66;03m# calls in the traceback and some print out the last line\u001b[39;00m\n\u001b[0;32m--> 251\u001b[0m \u001b[43mVariable\u001b[49m\u001b[38;5;241;43m.\u001b[39;49m\u001b[43m_execution_engine\u001b[49m\u001b[38;5;241;43m.\u001b[39;49m\u001b[43mrun_backward\u001b[49m\u001b[43m(\u001b[49m\u001b[43m  \u001b[49m\u001b[38;5;66;43;03m# Calls into the C++ engine to run the backward pass\u001b[39;49;00m\n\u001b[1;32m    252\u001b[0m \u001b[43m    \u001b[49m\u001b[43mtensors\u001b[49m\u001b[43m,\u001b[49m\n\u001b[1;32m    253\u001b[0m \u001b[43m    \u001b[49m\u001b[43mgrad_tensors_\u001b[49m\u001b[43m,\u001b[49m\n\u001b[1;32m    254\u001b[0m \u001b[43m    \u001b[49m\u001b[43mretain_graph\u001b[49m\u001b[43m,\u001b[49m\n\u001b[1;32m    255\u001b[0m \u001b[43m    \u001b[49m\u001b[43mcreate_graph\u001b[49m\u001b[43m,\u001b[49m\n\u001b[1;32m    256\u001b[0m \u001b[43m    \u001b[49m\u001b[43minputs\u001b[49m\u001b[43m,\u001b[49m\n\u001b[1;32m    257\u001b[0m \u001b[43m    \u001b[49m\u001b[43mallow_unreachable\u001b[49m\u001b[38;5;241;43m=\u001b[39;49m\u001b[38;5;28;43;01mTrue\u001b[39;49;00m\u001b[43m,\u001b[49m\n\u001b[1;32m    258\u001b[0m \u001b[43m    \u001b[49m\u001b[43maccumulate_grad\u001b[49m\u001b[38;5;241;43m=\u001b[39;49m\u001b[38;5;28;43;01mTrue\u001b[39;49;00m\u001b[43m,\u001b[49m\n\u001b[1;32m    259\u001b[0m \u001b[43m\u001b[49m\u001b[43m)\u001b[49m\n",
      "\u001b[0;31mKeyboardInterrupt\u001b[0m: "
     ]
    }
   ],
   "source": [
    "model_dir = '/home/nada.saadi/CTPET/hecktor2022_cropped/a_6th_ctptct_CTPT'\n",
    "def validation(epoch_iterator_val):\n",
    "        model.eval()\n",
    "        with torch.no_grad():\n",
    "            for step, batch in enumerate(epoch_iterator_val):\n",
    "                val_inputs, val_labels = (batch[\"ctpt\"].cuda(), batch[\"seg\"].cuda())\n",
    "                val_outputs = sliding_window_inference(val_inputs, (96, 96, 96), 4, model)\n",
    "                val_labels_list = decollate_batch(val_labels)\n",
    "                val_labels_convert = [\n",
    "                    post_label(val_label_tensor) for val_label_tensor in val_labels_list\n",
    "                ]\n",
    "                val_outputs_list = decollate_batch(val_outputs)\n",
    "                val_output_convert = [\n",
    "                    post_pred(val_pred_tensor) for val_pred_tensor in val_outputs_list\n",
    "                ]\n",
    "                dice_metric(y_pred=val_output_convert, y=val_labels_convert)\n",
    "                dice_metric_batch(y_pred=val_output_convert, y=val_labels_convert)\n",
    "                epoch_iterator_val.set_description(\n",
    "                    \"Validate (%d / %d Steps)\" % (global_step, 10.0)\n",
    "                )\n",
    "            mean_dice_val = dice_metric.aggregate().item()\n",
    "            metric_batch_val = dice_metric_batch.aggregate()\n",
    "\n",
    "            metric_tumor = metric_batch_val[0].item()\n",
    "            metric_lymph = metric_batch_val[1].item()\n",
    "\n",
    "            dice_metric.reset()\n",
    "            dice_metric_batch.reset()\n",
    "        return mean_dice_val, metric_tumor, metric_lymph\n",
    "\n",
    "\n",
    "def train(global_step, train_loader, dice_val_best, global_step_best):\n",
    "        model.train()\n",
    "        epoch_loss = 0\n",
    "        step = 0\n",
    "        epoch_iterator = tqdm(\n",
    "            train_loader, desc=\"Training (X / X Steps) (loss=X.X)\", dynamic_ncols=True\n",
    "        )\n",
    "        \n",
    "        for step, batch in enumerate(epoch_iterator):\n",
    "            step += 1\n",
    "            x, y = (batch[\"ctpt\"].cuda(), batch[\"seg\"].cuda())\n",
    "            logit_map = model(x, mode='ct')\n",
    "            \n",
    "            loss = loss_function(logit_map, y)\n",
    "            loss.backward()\n",
    "            epoch_loss += loss.item()\n",
    "            optimizer.step()\n",
    "            optimizer.zero_grad()\n",
    "            epoch_iterator.set_description(\n",
    "                \"Training (%d / %d Steps) (loss=%2.5f)\"\n",
    "                % (global_step, max_iterations, loss)\n",
    "            )\n",
    "            \n",
    "            if (\n",
    "                global_step % eval_num == 0 and global_step != 0\n",
    "            ) or global_step == max_iterations:\n",
    "                epoch_iterator_val = tqdm(\n",
    "                    val_loader, desc=\"Validate (X / X Steps) (dice=X.X)\", dynamic_ncols=True\n",
    "                )\n",
    "                dice_val, metric_tumor, metric_lymph = validation(epoch_iterator_val)\n",
    "                epoch_loss /= step\n",
    "                epoch_loss_values.append(epoch_loss)\n",
    "                metric_values.append(dice_val)\n",
    "                metric_values_tumor.append(metric_tumor)\n",
    "                metric_values_lymph.append(metric_lymph)\n",
    "                if dice_val > dice_val_best:\n",
    "                    dice_val_best = dice_val\n",
    "                    global_step_best = global_step\n",
    "                    torch.save(\n",
    "                        model.state_dict(), os.path.join(model_dir, \"a_ctptct_onCTPT_ourapproach.pth\")\n",
    "                    )\n",
    "                    print(\n",
    "                        \"Model Was Saved ! Current Best Avg. Dice: {} Current Avg. Dice: {} Current Avg. tumor Dice: {} Current Avg. lymph Dice: {}\".format(\n",
    "                            dice_val_best, dice_val, metric_tumor, metric_lymph\n",
    "                        )\n",
    "                    )\n",
    "                else:\n",
    "                    print(\n",
    "                        \"Model Was Not Saved ! Current Best Avg. Dice: {} Current Avg. Dice: {} Current Avg. tumor Dice: {} Current Avg. lymph Dice: {}\".format(\n",
    "                            dice_val_best, dice_val,  metric_tumor, metric_lymph\n",
    "                        )\n",
    "                    )\n",
    "            global_step += 1\n",
    "        return global_step, dice_val_best, global_step_best\n",
    "\n",
    "       \n",
    "\n",
    "max_iterations = 18000\n",
    "eval_num = 100\n",
    "\n",
    "post_label = AsDiscrete(to_onehot=3)\n",
    "post_pred = AsDiscrete(argmax=True, to_onehot=3)\n",
    "\n",
    "dice_metric = DiceMetric(include_background=False, reduction=\"mean\", get_not_nans=False)\n",
    "dice_metric_batch = DiceMetric(include_background=False, reduction=\"mean_batch\")\n",
    "\n",
    "epoch = 0\n",
    "max_num_epochs = 530\n",
    "\n",
    "global_step = 0\n",
    "dice_val_best = 0.0\n",
    "global_step_best = 0\n",
    "epoch_loss_values = []\n",
    "metric_values = [] \n",
    "metric_values_tumor = []\n",
    "metric_values_lymph = []\n",
    "while global_step < max_iterations:\n",
    "    global_step, dice_val_best, global_step_best = train(\n",
    "        global_step, train_loader, dice_val_best, global_step_best\n",
    "    )\n",
    "    # wandb.log({'learning_rate': optimizer.param_groups[0]['lr']})\n",
    "    # wandb.log({'Best Dice': dice_val_best})\n",
    "    epoch += 1 \n",
    "    #optimizer.param_groups[0]['lr'] = poly_lr(epoch, max_num_epochs, 0.005676 , 0.9)\n",
    "# model.load_state_dict(torch.load(os.path.join(model_dir, \"best_metric_luck_UNETr_prompt.pth\")))"
   ]
  }
 ],
 "metadata": {
  "kernelspec": {
   "display_name": "clam",
   "language": "python",
   "name": "python3"
  },
  "language_info": {
   "codemirror_mode": {
    "name": "ipython",
    "version": 3
   },
   "file_extension": ".py",
   "mimetype": "text/x-python",
   "name": "python",
   "nbconvert_exporter": "python",
   "pygments_lexer": "ipython3",
   "version": "3.8.0"
  }
 },
 "nbformat": 4,
 "nbformat_minor": 2
}
