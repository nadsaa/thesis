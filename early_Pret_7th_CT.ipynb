{
 "cells": [
  {
   "cell_type": "code",
   "execution_count": 1,
   "metadata": {},
   "outputs": [
    {
     "data": {
      "text/plain": [
       "1"
      ]
     },
     "execution_count": 1,
     "metadata": {},
     "output_type": "execute_result"
    }
   ],
   "source": [
    "import os\n",
    "os.environ[\"CUDA_DEVICE_ORDER\"] = \"PCI_BUS_ID\"\n",
    "os.environ[\"CUDA_VISIBLE_DEVICES\"] = \"3\" \n",
    "import torch\n",
    "torch.cuda.device_count()"
   ]
  },
  {
   "cell_type": "code",
   "execution_count": 2,
   "metadata": {},
   "outputs": [],
   "source": [
    "import os\n",
    "import shutil\n",
    "import tempfile\n",
    "\n",
    "import matplotlib.pyplot as plt\n",
    "import numpy as np\n",
    "from tqdm import tqdm\n",
    "from glob import glob\n",
    "# import wandb\n",
    "\n",
    "import monai\n",
    "from monai.losses import DiceCELoss, DiceFocalLoss, FocalLoss\n",
    "from monai.inferers import sliding_window_inference\n",
    "from monai import transforms\n",
    "\n",
    "from monai.transforms import (\n",
    "       AsDiscrete,\n",
    "    Compose,\n",
    "    CropForegroundd,\n",
    "    LoadImaged,\n",
    "    Orientationd,\n",
    "    RandFlipd,\n",
    "    RandCropByPosNegLabeld,\n",
    "    RandShiftIntensityd,\n",
    "    ScaleIntensityRanged,\n",
    "    Spacingd,\n",
    "    RandRotate90d,\n",
    "    MapTransform,\n",
    "    ScaleIntensityd,\n",
    "    #AddChanneld,\n",
    "    SpatialPadd,\n",
    "    CenterSpatialCropd,\n",
    "    EnsureChannelFirstd,\n",
    "    ConcatItemsd,\n",
    "    AdjustContrastd, \n",
    "    Rand3DElasticd,\n",
    "    HistogramNormalized,\n",
    "    NormalizeIntensityd,\n",
    "    Invertd,\n",
    "    SaveImage,\n",
    "\n",
    ")\n",
    "\n",
    "from monai.config import print_config\n",
    "from monai.metrics import DiceMetric\n",
    "from monai.networks.nets import SwinUNETR, UNETR, SegResNet\n",
    "from monai.data import (\n",
    "    DataLoader,\n",
    "    CacheDataset,\n",
    "    load_decathlon_datalist,\n",
    "    decollate_batch,\n",
    ")\n",
    "from monai import data\n",
    "\n",
    "\n",
    "from monai.utils import first, set_determinism\n",
    "from sklearn.model_selection import train_test_split\n",
    "import json\n",
    "\n",
    "\n",
    "import torch"
   ]
  },
  {
   "cell_type": "code",
   "execution_count": 3,
   "metadata": {},
   "outputs": [],
   "source": [
    "set_determinism(seed=1024)"
   ]
  },
  {
   "cell_type": "code",
   "execution_count": 7,
   "metadata": {},
   "outputs": [
    {
     "name": "stdout",
     "output_type": "stream",
     "text": [
      "JSON file created at /home/nada.saadi/CTPET/hecktor2022_cropped/HMR_ct_train_new.json\n"
     ]
    }
   ],
   "source": [
    "import os\n",
    "import json\n",
    "import random\n",
    "from glob import glob\n",
    "\n",
    "def generate_paths(patient_id):\n",
    "    base_dir = '/home/nada.saadi/MIS-FM/hecktor2022_cropped/data'\n",
    "    return {\n",
    "        'id': os.path.join(base_dir, patient_id),\n",
    "        'ct': os.path.join(base_dir, patient_id, f\"{patient_id}_ct.nii.gz\"),\n",
    "        'seg': os.path.join(base_dir, patient_id, f\"{patient_id}_gt.nii.gz\")\n",
    "    }\n",
    "\n",
    "# Assign each data entry to a random fold\n",
    "all_data = []\n",
    "num_folds = 5\n",
    "\n",
    "for file_dir in sorted(glob('data/*')):\n",
    "    patient_id = file_dir.split('/')[-1]\n",
    "    # Check if the file belongs to the MDA center\n",
    "    if patient_id.startswith(\"HMR-\"):\n",
    "        entry = generate_paths(patient_id)\n",
    "        entry['fold'] = random.randint(1, num_folds) - 1\n",
    "        all_data.append(entry)\n",
    "\n",
    "# Compile data into a JSON structure\n",
    "data_json = {\"training\": all_data}\n",
    "\n",
    "# Save to JSON file\n",
    "json_file_path = \"/home/nada.saadi/CTPET/hecktor2022_cropped/HMR_ct_train_new.json\"\n",
    "with open(json_file_path, 'w') as f:\n",
    "    json.dump(data_json, f, indent=4)\n",
    "\n",
    "print(f\"JSON file created at {json_file_path}\")"
   ]
  },
  {
   "cell_type": "code",
   "execution_count": 8,
   "metadata": {},
   "outputs": [],
   "source": [
    "data_dir = '/home/nada.saadi/MIS-FM/hecktor2022_cropped'\n",
    "json_dir = \"/home/nada.saadi/CTPET/hecktor2022_cropped/HMR_ct_train_new.json\""
   ]
  },
  {
   "cell_type": "code",
   "execution_count": 9,
   "metadata": {},
   "outputs": [],
   "source": [
    "def datafold_read(datalist, basedir, fold=0, key=\"training\"):\n",
    "    with open(datalist) as f:\n",
    "        json_data = json.load(f)\n",
    "\n",
    "    json_data = json_data[key]\n",
    "\n",
    "    for d in json_data:\n",
    "        for k in d:\n",
    "            if isinstance(d[k], list):\n",
    "                d[k] = [os.path.join(basedir, iv) for iv in d[k]]\n",
    "            elif isinstance(d[k], str):\n",
    "                d[k] = os.path.join(basedir, d[k]) if len(d[k]) > 0 else d[k]\n",
    "\n",
    "    tr = []\n",
    "    val = []\n",
    "    for d in json_data:\n",
    "        if \"fold\" in d and d[\"fold\"] == fold:\n",
    "            val.append(d)\n",
    "        else:\n",
    "            tr.append(d)\n",
    "\n",
    "    return tr, val"
   ]
  },
  {
   "cell_type": "code",
   "execution_count": 10,
   "metadata": {},
   "outputs": [
    {
     "data": {
      "text/plain": [
       "(13, 4)"
      ]
     },
     "execution_count": 10,
     "metadata": {},
     "output_type": "execute_result"
    }
   ],
   "source": [
    "train_files, validation_files = datafold_read(datalist=json_dir, basedir=data_dir, fold=0)\n",
    "len(train_files), len(validation_files)"
   ]
  },
  {
   "cell_type": "code",
   "execution_count": 11,
   "metadata": {},
   "outputs": [],
   "source": [
    "class ClipCT(MapTransform):\n",
    "    \"\"\"\n",
    "    Convert labels to multi channels based on hecktor classes:\n",
    "    label 1 is the tumor\n",
    "    label 2 is the lymph node\n",
    "\n",
    "    \"\"\"\n",
    "\n",
    "    def __call__(self, data):\n",
    "        d = dict(data)\n",
    "        for key in self.keys:\n",
    "            if key == \"ct\":\n",
    "                d[key] = torch.clip(d[key], min=-200, max=200)\n",
    "            # elif key == \"pt\":\n",
    "            #     d[key] = torch.clip(d[key], d[key].min(), 5)\n",
    "        return d\n",
    "\n",
    "class MulPTFM(MapTransform):\n",
    "    \"\"\"\n",
    "    Mult PT and FM \n",
    "\n",
    "    \"\"\"\n",
    "\n",
    "    def __call__(self, data):\n",
    "        d = dict(data)\n",
    "\n",
    "        fm = d[\"ct\"] > 0\n",
    "        d[\"pt\"] = d[\"pt\"] * fm\n",
    "        return d\n",
    "\n",
    "class SelectClass(MapTransform):\n",
    "    \"\"\"\n",
    "    Select the class for which you want to fine tune the model \n",
    "\n",
    "    \"\"\"\n",
    "    # def __init__(self, keys, cls=1):\n",
    "    #     super(self).__init__(keys)\n",
    "    #     self.cls = cls\n",
    "\n",
    "    def __call__(self, data):\n",
    "        d = dict(data)\n",
    "        d[\"seg\"][d[\"seg\"] == 1] = 0\n",
    "        # d[\"seg\"][d[\"seg\"] == 2] = 1\n",
    "        \n",
    "        return d"
   ]
  },
  {
   "cell_type": "code",
   "execution_count": 12,
   "metadata": {},
   "outputs": [],
   "source": [
    "num_samples = 4\n",
    "\n",
    "train_transforms = Compose(\n",
    "    [\n",
    "        LoadImaged(keys=[\"ct\", \"seg\"], ensure_channel_first = True),\n",
    "        SpatialPadd(keys=[\"ct\",  \"seg\"], spatial_size=(200, 200, 310), method='end'),\n",
    "        Orientationd(keys=[\"ct\",  \"seg\"], axcodes=\"PLS\"),\n",
    "        #NormalizeIntensityd(keys=[\"pt\"]),\n",
    "        ClipCT(keys=[\"ct\"]),\n",
    "        ScaleIntensityd(keys=[\"ct\"], minv=0, maxv=1),\n",
    "        #MulPTFM(keys=[\"ct\",\"pt\"]),\n",
    "        #ConcatItemsd(keys=[\"pt\", \"ct\"], name=\"ctpt\"),\n",
    "        #NormalizeIntensityd(keys=[\"ctpt\"], channel_wise=True),\n",
    "        RandCropByPosNegLabeld(\n",
    "            keys=[\"ct\", \"seg\"],\n",
    "            label_key=\"seg\",\n",
    "            spatial_size=(96, 96, 96),\n",
    "            pos=1,\n",
    "            neg=1,\n",
    "            num_samples=num_samples,\n",
    "            image_key=\"ct\",\n",
    "            image_threshold=0,\n",
    "        ),\n",
    "        RandFlipd(\n",
    "            keys=[\"ct\", \"seg\"],\n",
    "            spatial_axis=[0],\n",
    "            prob=0.20,\n",
    "        ),\n",
    "        RandFlipd(\n",
    "            keys=[\"ct\", \"seg\"],\n",
    "            spatial_axis=[1],\n",
    "            prob=0.20,\n",
    "        ),\n",
    "        RandFlipd(\n",
    "            keys=[\"ct\", \"seg\"],\n",
    "            spatial_axis=[2],\n",
    "            prob=0.20,\n",
    "        ),\n",
    "        RandRotate90d(\n",
    "            keys=[\"ct\", \"seg\"],\n",
    "            prob=0.20,\n",
    "            max_k=3,\n",
    "        ),\n",
    "    ]\n",
    ")\n",
    "val_transforms = Compose(\n",
    "    [\n",
    "        LoadImaged(keys=[\"ct\", \"seg\"], ensure_channel_first = True),\n",
    "        SpatialPadd(keys=[\"ct\", \"seg\"], spatial_size=(200, 200, 310), method='end'),\n",
    "        Orientationd(keys=[\"ct\",  \"seg\"], axcodes=\"PLS\"),\n",
    "        #NormalizeIntensityd(keys=[\"pt\"]),\n",
    "        ClipCT(keys=[\"ct\"]),\n",
    "        ScaleIntensityd(keys=[\"ct\"], minv=0, maxv=1),\n",
    "        #MulPTFM(keys=[\"ct\",\"pt\"]),\n",
    "        #ConcatItemsd(keys=[\"pt\", \"ct\"], name=\"ctpt\"),\n",
    "    ]\n",
    ")"
   ]
  },
  {
   "cell_type": "code",
   "execution_count": 13,
   "metadata": {},
   "outputs": [],
   "source": [
    "train_ds = monai.data.Dataset(data=train_files, transform=train_transforms)\n",
    "\n",
    "train_loader = DataLoader(\n",
    "    train_ds,\n",
    "    batch_size=2,\n",
    "    shuffle=True,\n",
    "    num_workers=8,\n",
    "    pin_memory=torch.cuda.is_available(),\n",
    "    )\n",
    "\n",
    "val_ds = monai.data.Dataset(data=validation_files, transform=val_transforms)\n",
    "\n",
    "val_loader = DataLoader(\n",
    "    val_ds, \n",
    "    batch_size=2, \n",
    "    num_workers=8, \n",
    "    shuffle= False)"
   ]
  },
  {
   "cell_type": "code",
   "execution_count": 14,
   "metadata": {},
   "outputs": [
    {
     "name": "stderr",
     "output_type": "stream",
     "text": [
      "/home/nada.saadi/miniconda3/envs/clam/lib/python3.8/site-packages/monai/utils/deprecate_utils.py:221: FutureWarning: monai.networks.nets.unetr UNETR.__init__:pos_embed: Argument `pos_embed` has been deprecated since version 1.2. It will be removed in version 1.4. please use `proj_type` instead.\n",
      "  warn_deprecated(argname, msg, warning_category)\n"
     ]
    },
    {
     "data": {
      "text/plain": [
       "<All keys matched successfully>"
      ]
     },
     "execution_count": 14,
     "metadata": {},
     "output_type": "execute_result"
    }
   ],
   "source": [
    "os.environ[\"CUDA_DEVICE_ORDER\"] = \"PCI_BUS_ID\"\n",
    "device = torch.device(\"cuda\" if torch.cuda.is_available() else \"cpu\")\n",
    "model = UNETR(\n",
    "    in_channels=1,\n",
    "    out_channels=3,\n",
    "    img_size=(96, 96, 96),\n",
    "    feature_size=16,\n",
    "    hidden_size=768,\n",
    "    mlp_dim=3072, \n",
    "    num_heads=12,\n",
    "    pos_embed=\"perceptron\",\n",
    "    norm_name=\"instance\",\n",
    "    res_block=True,\n",
    "    dropout_rate=0.0,\n",
    ").to(device)\n",
    "\n",
    "rt7 = '/home/nada.saadi/CTPET/hecktor2022_cropped/b_7th/b_7th_ctptct.pth'\n",
    "\n",
    "# Ignore layers with size mismatch\n",
    "state_dict = torch.load(rt7)\n",
    "model_state_dict = model.state_dict()\n",
    "for name, param in state_dict.items():\n",
    "    if name in model_state_dict:\n",
    "        if param.shape == model_state_dict[name].shape:\n",
    "            model_state_dict[name] = param\n",
    "\n",
    "model.load_state_dict(model_state_dict)"
   ]
  },
  {
   "cell_type": "code",
   "execution_count": 15,
   "metadata": {},
   "outputs": [],
   "source": [
    "torch.backends.cudnn.benchmark = True\n",
    "def poly_lr(epoch, max_epochs, initial_lr, exponent=0.9):\n",
    "    return initial_lr * (1 - epoch / max_epochs)**exponent\n",
    "\n",
    "loss_function = DiceCELoss(to_onehot_y=True, softmax=True)\n",
    "optimizer = torch.optim.AdamW(model.parameters(), lr=1e-4, weight_decay=1e-5)"
   ]
  },
  {
   "cell_type": "code",
   "execution_count": 16,
   "metadata": {},
   "outputs": [
    {
     "name": "stderr",
     "output_type": "stream",
     "text": [
      "Training (6 / 18000 Steps) (loss=1.50057): 100%|██████████| 7/7 [00:20<00:00,  2.96s/it]\n",
      "Training (13 / 18000 Steps) (loss=1.44291): 100%|██████████| 7/7 [00:05<00:00,  1.21it/s]\n",
      "Training (20 / 18000 Steps) (loss=1.37906): 100%|██████████| 7/7 [00:06<00:00,  1.06it/s]\n",
      "Training (27 / 18000 Steps) (loss=1.33966): 100%|██████████| 7/7 [00:06<00:00,  1.05it/s]\n",
      "Training (34 / 18000 Steps) (loss=1.28430): 100%|██████████| 7/7 [00:06<00:00,  1.09it/s]\n",
      "Training (41 / 18000 Steps) (loss=1.26919): 100%|██████████| 7/7 [00:06<00:00,  1.01it/s]\n",
      "Training (48 / 18000 Steps) (loss=1.24758): 100%|██████████| 7/7 [00:06<00:00,  1.05it/s]\n",
      "Training (55 / 18000 Steps) (loss=1.28198): 100%|██████████| 7/7 [00:06<00:00,  1.04it/s]\n",
      "Training (62 / 18000 Steps) (loss=1.23165): 100%|██████████| 7/7 [00:06<00:00,  1.04it/s]\n",
      "Training (69 / 18000 Steps) (loss=1.21185): 100%|██████████| 7/7 [00:06<00:00,  1.01it/s]\n",
      "Training (76 / 18000 Steps) (loss=1.19243): 100%|██████████| 7/7 [00:06<00:00,  1.05it/s]\n",
      "Training (83 / 18000 Steps) (loss=1.17696): 100%|██████████| 7/7 [00:06<00:00,  1.03it/s]\n",
      "Training (90 / 18000 Steps) (loss=1.23622): 100%|██████████| 7/7 [00:06<00:00,  1.04it/s]\n",
      "Training (97 / 18000 Steps) (loss=1.15906): 100%|██████████| 7/7 [00:06<00:00,  1.06it/s]\n",
      "Validate (98 / 10 Steps): 100%|██████████| 2/2 [00:05<00:00,  2.57s/it]4<00:09,  1.82s/it]\n",
      "Training (100 / 18000 Steps) (loss=1.17373):  43%|████▎     | 3/7 [00:10<00:16,  4.09s/it]"
     ]
    },
    {
     "name": "stdout",
     "output_type": "stream",
     "text": [
      "Model Was Saved ! Current Best Avg. Dice: 9.915126611304004e-06 Current Avg. Dice: 9.915126611304004e-06 Current Avg. tumor Dice: 1.9830253222608007e-05 Current Avg. lymph Dice: 0.0\n"
     ]
    },
    {
     "name": "stderr",
     "output_type": "stream",
     "text": [
      "Training (104 / 18000 Steps) (loss=1.15329): 100%|██████████| 7/7 [00:12<00:00,  1.85s/it]\n",
      "Training (111 / 18000 Steps) (loss=1.16236): 100%|██████████| 7/7 [00:06<00:00,  1.02it/s]\n",
      "Training (118 / 18000 Steps) (loss=1.18169): 100%|██████████| 7/7 [00:06<00:00,  1.01it/s]\n",
      "Training (125 / 18000 Steps) (loss=1.17130): 100%|██████████| 7/7 [00:07<00:00,  1.00s/it]\n",
      "Training (132 / 18000 Steps) (loss=1.15606): 100%|██████████| 7/7 [00:06<00:00,  1.09it/s]\n",
      "Training (139 / 18000 Steps) (loss=1.12722): 100%|██████████| 7/7 [00:06<00:00,  1.02it/s]\n",
      "Training (146 / 18000 Steps) (loss=1.16110): 100%|██████████| 7/7 [00:06<00:00,  1.03it/s]\n",
      "Training (153 / 18000 Steps) (loss=1.15910): 100%|██████████| 7/7 [00:07<00:00,  1.01s/it]\n",
      "Training (160 / 18000 Steps) (loss=1.15512): 100%|██████████| 7/7 [00:06<00:00,  1.00it/s]\n",
      "Training (167 / 18000 Steps) (loss=1.13332): 100%|██████████| 7/7 [00:06<00:00,  1.02it/s]\n",
      "Training (174 / 18000 Steps) (loss=1.14603): 100%|██████████| 7/7 [00:07<00:00,  1.01s/it]\n",
      "Training (181 / 18000 Steps) (loss=1.12540): 100%|██████████| 7/7 [00:06<00:00,  1.11it/s]\n",
      "Training (188 / 18000 Steps) (loss=1.08465): 100%|██████████| 7/7 [00:06<00:00,  1.03it/s]\n",
      "Training (195 / 18000 Steps) (loss=1.13170): 100%|██████████| 7/7 [00:06<00:00,  1.02it/s]\n",
      "Validate (196 / 10 Steps): 100%|██████████| 2/2 [00:05<00:00,  2.57s/it]<00:03,  1.01s/it]\n",
      "Training (200 / 18000 Steps) (loss=1.08800):  71%|███████▏  | 5/7 [00:11<00:05,  2.98s/it]"
     ]
    },
    {
     "name": "stdout",
     "output_type": "stream",
     "text": [
      "Model Was Saved ! Current Best Avg. Dice: 1.963633440027479e-05 Current Avg. Dice: 1.963633440027479e-05 Current Avg. tumor Dice: 3.927266880054958e-05 Current Avg. lymph Dice: 0.0\n"
     ]
    },
    {
     "name": "stderr",
     "output_type": "stream",
     "text": [
      "Training (202 / 18000 Steps) (loss=1.11046): 100%|██████████| 7/7 [00:12<00:00,  1.85s/it]\n",
      "Training (209 / 18000 Steps) (loss=1.09660): 100%|██████████| 7/7 [00:06<00:00,  1.13it/s]\n",
      "Training (216 / 18000 Steps) (loss=1.06420): 100%|██████████| 7/7 [00:06<00:00,  1.08it/s]\n",
      "Training (223 / 18000 Steps) (loss=1.10237): 100%|██████████| 7/7 [00:06<00:00,  1.03it/s]\n",
      "Training (230 / 18000 Steps) (loss=1.06029): 100%|██████████| 7/7 [00:06<00:00,  1.03it/s]\n",
      "Training (237 / 18000 Steps) (loss=1.12687): 100%|██████████| 7/7 [00:06<00:00,  1.11it/s]\n",
      "Training (244 / 18000 Steps) (loss=1.07633): 100%|██████████| 7/7 [00:06<00:00,  1.07it/s]\n",
      "Training (251 / 18000 Steps) (loss=1.09325): 100%|██████████| 7/7 [00:06<00:00,  1.02it/s]\n",
      "Training (258 / 18000 Steps) (loss=1.07592): 100%|██████████| 7/7 [00:07<00:00,  1.04s/it]\n",
      "Training (265 / 18000 Steps) (loss=1.03815): 100%|██████████| 7/7 [00:06<00:00,  1.04it/s]\n",
      "Training (272 / 18000 Steps) (loss=1.05158): 100%|██████████| 7/7 [00:06<00:00,  1.08it/s]\n",
      "Training (279 / 18000 Steps) (loss=1.03306): 100%|██████████| 7/7 [00:06<00:00,  1.06it/s]\n",
      "Training (286 / 18000 Steps) (loss=1.06467): 100%|██████████| 7/7 [00:07<00:00,  1.00s/it]\n",
      "Training (293 / 18000 Steps) (loss=1.04559): 100%|██████████| 7/7 [00:07<00:00,  1.07s/it]\n",
      "Validate (294 / 10 Steps): 100%|██████████| 2/2 [00:05<00:00,  2.60s/it]<00:00,  1.34it/s]\n",
      "Training (300 / 18000 Steps) (loss=1.04157): 100%|██████████| 7/7 [00:12<00:00,  1.80s/it]\n"
     ]
    },
    {
     "name": "stdout",
     "output_type": "stream",
     "text": [
      "Model Was Saved ! Current Best Avg. Dice: 0.027078380808234215 Current Avg. Dice: 0.027078380808234215 Current Avg. tumor Dice: 0.05415676161646843 Current Avg. lymph Dice: 0.0\n"
     ]
    },
    {
     "name": "stderr",
     "output_type": "stream",
     "text": [
      "Training (307 / 18000 Steps) (loss=1.05504): 100%|██████████| 7/7 [00:06<00:00,  1.07it/s]\n",
      "Training (314 / 18000 Steps) (loss=1.02795): 100%|██████████| 7/7 [00:06<00:00,  1.06it/s]\n",
      "Training (321 / 18000 Steps) (loss=1.02492): 100%|██████████| 7/7 [00:06<00:00,  1.03it/s]\n",
      "Training (328 / 18000 Steps) (loss=1.05156): 100%|██████████| 7/7 [00:06<00:00,  1.05it/s]\n",
      "Training (335 / 18000 Steps) (loss=1.01340): 100%|██████████| 7/7 [00:06<00:00,  1.05it/s]\n",
      "Training (342 / 18000 Steps) (loss=1.00121): 100%|██████████| 7/7 [00:06<00:00,  1.08it/s]\n",
      "Training (349 / 18000 Steps) (loss=1.02863): 100%|██████████| 7/7 [00:06<00:00,  1.02it/s]\n",
      "Training (356 / 18000 Steps) (loss=0.99793): 100%|██████████| 7/7 [00:06<00:00,  1.04it/s]\n",
      "Training (363 / 18000 Steps) (loss=1.02769): 100%|██████████| 7/7 [00:07<00:00,  1.03s/it]\n",
      "Training (370 / 18000 Steps) (loss=0.99495): 100%|██████████| 7/7 [00:06<00:00,  1.04it/s]\n",
      "Training (377 / 18000 Steps) (loss=1.00009): 100%|██████████| 7/7 [00:05<00:00,  1.17it/s]\n",
      "Training (384 / 18000 Steps) (loss=1.03945): 100%|██████████| 7/7 [00:05<00:00,  1.23it/s]\n",
      "Training (391 / 18000 Steps) (loss=1.02855): 100%|██████████| 7/7 [00:05<00:00,  1.19it/s]\n",
      "Training (398 / 18000 Steps) (loss=1.04787): 100%|██████████| 7/7 [00:06<00:00,  1.05it/s]\n",
      "Validate (399 / 10 Steps): 100%|██████████| 2/2 [00:05<00:00,  2.82s/it]<00:21,  3.58s/it]\n",
      "Training (400 / 18000 Steps) (loss=1.00122):  29%|██▊       | 2/7 [00:10<00:27,  5.58s/it]"
     ]
    },
    {
     "name": "stdout",
     "output_type": "stream",
     "text": [
      "Model Was Saved ! Current Best Avg. Dice: 0.0411832258105278 Current Avg. Dice: 0.0411832258105278 Current Avg. tumor Dice: 0.0823664516210556 Current Avg. lymph Dice: 0.0\n"
     ]
    },
    {
     "name": "stderr",
     "output_type": "stream",
     "text": [
      "Training (405 / 18000 Steps) (loss=0.97131): 100%|██████████| 7/7 [00:13<00:00,  1.88s/it]\n",
      "Training (412 / 18000 Steps) (loss=0.98727): 100%|██████████| 7/7 [00:06<00:00,  1.06it/s]\n",
      "Training (419 / 18000 Steps) (loss=0.99435): 100%|██████████| 7/7 [00:06<00:00,  1.03it/s]\n",
      "Training (426 / 18000 Steps) (loss=0.98875): 100%|██████████| 7/7 [00:07<00:00,  1.02s/it]\n",
      "Training (433 / 18000 Steps) (loss=0.94599): 100%|██████████| 7/7 [00:06<00:00,  1.02it/s]\n",
      "Training (440 / 18000 Steps) (loss=0.95860): 100%|██████████| 7/7 [00:06<00:00,  1.03it/s]\n",
      "Training (447 / 18000 Steps) (loss=0.96062): 100%|██████████| 7/7 [00:06<00:00,  1.05it/s]\n",
      "Training (454 / 18000 Steps) (loss=0.95758): 100%|██████████| 7/7 [00:06<00:00,  1.03it/s]\n",
      "Training (461 / 18000 Steps) (loss=0.96962): 100%|██████████| 7/7 [00:06<00:00,  1.05it/s]\n",
      "Training (468 / 18000 Steps) (loss=0.97174): 100%|██████████| 7/7 [00:06<00:00,  1.02it/s]\n",
      "Training (475 / 18000 Steps) (loss=1.00401): 100%|██████████| 7/7 [00:06<00:00,  1.03it/s]\n",
      "Training (482 / 18000 Steps) (loss=0.94445): 100%|██████████| 7/7 [00:06<00:00,  1.04it/s]\n",
      "Training (489 / 18000 Steps) (loss=0.91854): 100%|██████████| 7/7 [00:06<00:00,  1.11it/s]\n",
      "Training (496 / 18000 Steps) (loss=0.95357): 100%|██████████| 7/7 [00:06<00:00,  1.07it/s]\n",
      "Validate (497 / 10 Steps): 100%|██████████| 2/2 [00:05<00:00,  2.61s/it]<00:04,  1.21s/it]\n",
      "Training (500 / 18000 Steps) (loss=0.98827):  57%|█████▋    | 4/7 [00:10<00:09,  3.01s/it]"
     ]
    },
    {
     "name": "stdout",
     "output_type": "stream",
     "text": [
      "Model Was Not Saved ! Current Best Avg. Dice: 0.0411832258105278 Current Avg. Dice: 0.03274616599082947 Current Avg. tumor Dice: 0.06549233198165894 Current Avg. lymph Dice: 0.0\n"
     ]
    },
    {
     "name": "stderr",
     "output_type": "stream",
     "text": [
      "Training (503 / 18000 Steps) (loss=0.95572): 100%|██████████| 7/7 [00:11<00:00,  1.70s/it]\n",
      "Training (510 / 18000 Steps) (loss=0.94074): 100%|██████████| 7/7 [00:06<00:00,  1.08it/s]\n",
      "Training (517 / 18000 Steps) (loss=0.93187): 100%|██████████| 7/7 [00:06<00:00,  1.02it/s]\n",
      "Training (524 / 18000 Steps) (loss=1.03340): 100%|██████████| 7/7 [00:06<00:00,  1.05it/s]\n",
      "Training (531 / 18000 Steps) (loss=0.93003): 100%|██████████| 7/7 [00:06<00:00,  1.01it/s]\n",
      "Training (538 / 18000 Steps) (loss=0.93668): 100%|██████████| 7/7 [00:06<00:00,  1.01it/s]\n",
      "Training (545 / 18000 Steps) (loss=0.92656): 100%|██████████| 7/7 [00:06<00:00,  1.02it/s]\n",
      "Training (552 / 18000 Steps) (loss=0.94464): 100%|██████████| 7/7 [00:07<00:00,  1.03s/it]\n",
      "Training (559 / 18000 Steps) (loss=0.96159): 100%|██████████| 7/7 [00:06<00:00,  1.04it/s]\n",
      "Training (566 / 18000 Steps) (loss=0.92309): 100%|██████████| 7/7 [00:06<00:00,  1.10it/s]\n",
      "Training (573 / 18000 Steps) (loss=0.92428): 100%|██████████| 7/7 [00:06<00:00,  1.06it/s]\n",
      "Training (580 / 18000 Steps) (loss=0.94741): 100%|██████████| 7/7 [00:06<00:00,  1.04it/s]\n",
      "Training (587 / 18000 Steps) (loss=0.91261): 100%|██████████| 7/7 [00:06<00:00,  1.07it/s]\n",
      "Training (594 / 18000 Steps) (loss=0.91435): 100%|██████████| 7/7 [00:06<00:00,  1.02it/s]\n",
      "Validate (595 / 10 Steps): 100%|██████████| 2/2 [00:05<00:00,  2.64s/it]<00:01,  1.22it/s]\n",
      "Training (600 / 18000 Steps) (loss=0.95166):  86%|████████▌ | 6/7 [00:11<00:02,  2.57s/it]"
     ]
    },
    {
     "name": "stdout",
     "output_type": "stream",
     "text": [
      "Model Was Not Saved ! Current Best Avg. Dice: 0.0411832258105278 Current Avg. Dice: 0.026246318593621254 Current Avg. tumor Dice: 0.05249263718724251 Current Avg. lymph Dice: 0.0\n"
     ]
    },
    {
     "name": "stderr",
     "output_type": "stream",
     "text": [
      "Training (601 / 18000 Steps) (loss=0.91988): 100%|██████████| 7/7 [00:12<00:00,  1.75s/it]\n",
      "Training (608 / 18000 Steps) (loss=0.90924): 100%|██████████| 7/7 [00:06<00:00,  1.00it/s]\n",
      "Training (615 / 18000 Steps) (loss=0.90811): 100%|██████████| 7/7 [00:06<00:00,  1.08it/s]\n",
      "Training (622 / 18000 Steps) (loss=0.87266): 100%|██████████| 7/7 [00:06<00:00,  1.05it/s]\n",
      "Training (629 / 18000 Steps) (loss=0.91545): 100%|██████████| 7/7 [00:06<00:00,  1.07it/s]\n",
      "Training (636 / 18000 Steps) (loss=0.91141): 100%|██████████| 7/7 [00:06<00:00,  1.01it/s]\n",
      "Training (643 / 18000 Steps) (loss=0.90940): 100%|██████████| 7/7 [00:06<00:00,  1.00it/s]\n",
      "Training (650 / 18000 Steps) (loss=0.89489): 100%|██████████| 7/7 [00:06<00:00,  1.09it/s]\n",
      "Training (657 / 18000 Steps) (loss=0.89037): 100%|██████████| 7/7 [00:06<00:00,  1.06it/s]\n",
      "Training (664 / 18000 Steps) (loss=0.95674): 100%|██████████| 7/7 [00:06<00:00,  1.00it/s]\n",
      "Training (671 / 18000 Steps) (loss=0.91845): 100%|██████████| 7/7 [00:07<00:00,  1.01s/it]\n",
      "Training (678 / 18000 Steps) (loss=0.90100): 100%|██████████| 7/7 [00:06<00:00,  1.11it/s]\n",
      "Training (685 / 18000 Steps) (loss=0.87493): 100%|██████████| 7/7 [00:06<00:00,  1.03it/s]\n",
      "Training (692 / 18000 Steps) (loss=0.88802): 100%|██████████| 7/7 [00:06<00:00,  1.10it/s]\n",
      "Training (699 / 18000 Steps) (loss=0.89301): 100%|██████████| 7/7 [00:06<00:00,  1.11it/s]\n",
      "Validate (700 / 10 Steps): 100%|██████████| 2/2 [00:05<00:00,  2.60s/it]<?, ?it/s]\n",
      "Training (700 / 18000 Steps) (loss=0.88522):  14%|█▍        | 1/7 [00:09<00:58,  9.76s/it]"
     ]
    },
    {
     "name": "stdout",
     "output_type": "stream",
     "text": [
      "Model Was Saved ! Current Best Avg. Dice: 0.06573320925235748 Current Avg. Dice: 0.06573320925235748 Current Avg. tumor Dice: 0.13146641850471497 Current Avg. lymph Dice: 0.0\n"
     ]
    },
    {
     "name": "stderr",
     "output_type": "stream",
     "text": [
      "Training (706 / 18000 Steps) (loss=0.88907): 100%|██████████| 7/7 [00:13<00:00,  1.86s/it]\n",
      "Training (713 / 18000 Steps) (loss=0.97688): 100%|██████████| 7/7 [00:06<00:00,  1.02it/s]\n",
      "Training (720 / 18000 Steps) (loss=0.89025): 100%|██████████| 7/7 [00:06<00:00,  1.10it/s]\n",
      "Training (727 / 18000 Steps) (loss=0.89474): 100%|██████████| 7/7 [00:06<00:00,  1.06it/s]\n",
      "Training (734 / 18000 Steps) (loss=0.87163): 100%|██████████| 7/7 [00:06<00:00,  1.05it/s]\n",
      "Training (741 / 18000 Steps) (loss=0.94079): 100%|██████████| 7/7 [00:06<00:00,  1.06it/s]\n",
      "Training (748 / 18000 Steps) (loss=0.86052): 100%|██████████| 7/7 [00:06<00:00,  1.02it/s]\n",
      "Training (755 / 18000 Steps) (loss=0.93557): 100%|██████████| 7/7 [00:06<00:00,  1.03it/s]\n",
      "Training (762 / 18000 Steps) (loss=0.89802): 100%|██████████| 7/7 [00:06<00:00,  1.11it/s]\n",
      "Training (769 / 18000 Steps) (loss=0.87081): 100%|██████████| 7/7 [00:05<00:00,  1.19it/s]\n",
      "Training (776 / 18000 Steps) (loss=0.86614): 100%|██████████| 7/7 [00:05<00:00,  1.18it/s]\n",
      "Training (783 / 18000 Steps) (loss=0.91448): 100%|██████████| 7/7 [00:06<00:00,  1.06it/s]\n",
      "Training (790 / 18000 Steps) (loss=0.86778): 100%|██████████| 7/7 [00:06<00:00,  1.08it/s]\n",
      "Training (797 / 18000 Steps) (loss=0.85378): 100%|██████████| 7/7 [00:06<00:00,  1.09it/s]\n",
      "Validate (798 / 10 Steps): 100%|██████████| 2/2 [00:05<00:00,  2.71s/it]<00:08,  1.70s/it]\n",
      "Training (800 / 18000 Steps) (loss=0.86739):  43%|████▎     | 3/7 [00:09<00:14,  3.66s/it]"
     ]
    },
    {
     "name": "stdout",
     "output_type": "stream",
     "text": [
      "Model Was Not Saved ! Current Best Avg. Dice: 0.06573320925235748 Current Avg. Dice: 0.04224083945155144 Current Avg. tumor Dice: 0.08448167890310287 Current Avg. lymph Dice: 0.0\n"
     ]
    },
    {
     "name": "stderr",
     "output_type": "stream",
     "text": [
      "Training (804 / 18000 Steps) (loss=0.89389): 100%|██████████| 7/7 [00:12<00:00,  1.72s/it]\n",
      "Training (811 / 18000 Steps) (loss=0.82203): 100%|██████████| 7/7 [00:06<00:00,  1.03it/s]\n",
      "Training (818 / 18000 Steps) (loss=0.85257): 100%|██████████| 7/7 [00:06<00:00,  1.01it/s]\n",
      "Training (825 / 18000 Steps) (loss=0.89378): 100%|██████████| 7/7 [00:07<00:00,  1.01s/it]\n",
      "Training (832 / 18000 Steps) (loss=0.84984): 100%|██████████| 7/7 [00:06<00:00,  1.08it/s]\n",
      "Training (839 / 18000 Steps) (loss=0.86552): 100%|██████████| 7/7 [00:06<00:00,  1.05it/s]\n",
      "Training (846 / 18000 Steps) (loss=0.87738): 100%|██████████| 7/7 [00:06<00:00,  1.04it/s]\n",
      "Training (853 / 18000 Steps) (loss=0.84803): 100%|██████████| 7/7 [00:06<00:00,  1.03it/s]\n",
      "Training (860 / 18000 Steps) (loss=0.81544): 100%|██████████| 7/7 [00:06<00:00,  1.04it/s]\n",
      "Training (867 / 18000 Steps) (loss=0.86717): 100%|██████████| 7/7 [00:06<00:00,  1.09it/s]\n",
      "Training (874 / 18000 Steps) (loss=0.83337): 100%|██████████| 7/7 [00:06<00:00,  1.02it/s]\n",
      "Training (881 / 18000 Steps) (loss=0.81941): 100%|██████████| 7/7 [00:06<00:00,  1.07it/s]\n",
      "Training (888 / 18000 Steps) (loss=0.82954): 100%|██████████| 7/7 [00:06<00:00,  1.02it/s]\n",
      "Training (895 / 18000 Steps) (loss=0.84636): 100%|██████████| 7/7 [00:06<00:00,  1.09it/s]\n",
      "Validate (896 / 10 Steps): 100%|██████████| 2/2 [00:05<00:00,  2.51s/it]<00:02,  1.08it/s]\n",
      "Training (900 / 18000 Steps) (loss=0.84778):  71%|███████▏  | 5/7 [00:11<00:05,  2.88s/it]"
     ]
    },
    {
     "name": "stdout",
     "output_type": "stream",
     "text": [
      "Model Was Saved ! Current Best Avg. Dice: 0.07632578909397125 Current Avg. Dice: 0.07632578909397125 Current Avg. tumor Dice: 0.1526515781879425 Current Avg. lymph Dice: 0.0\n"
     ]
    },
    {
     "name": "stderr",
     "output_type": "stream",
     "text": [
      "Training (902 / 18000 Steps) (loss=0.83999): 100%|██████████| 7/7 [00:12<00:00,  1.73s/it]\n",
      "Training (909 / 18000 Steps) (loss=0.82877): 100%|██████████| 7/7 [00:06<00:00,  1.08it/s]\n",
      "Training (916 / 18000 Steps) (loss=0.84194): 100%|██████████| 7/7 [00:06<00:00,  1.05it/s]\n",
      "Training (923 / 18000 Steps) (loss=0.79722): 100%|██████████| 7/7 [00:06<00:00,  1.03it/s]\n",
      "Training (930 / 18000 Steps) (loss=0.83907): 100%|██████████| 7/7 [00:06<00:00,  1.06it/s]\n",
      "Training (937 / 18000 Steps) (loss=0.82421): 100%|██████████| 7/7 [00:06<00:00,  1.06it/s]\n",
      "Training (944 / 18000 Steps) (loss=0.82740): 100%|██████████| 7/7 [00:06<00:00,  1.13it/s]\n",
      "Training (951 / 18000 Steps) (loss=0.81583): 100%|██████████| 7/7 [00:06<00:00,  1.03it/s]\n",
      "Training (958 / 18000 Steps) (loss=0.81709): 100%|██████████| 7/7 [00:06<00:00,  1.09it/s]\n",
      "Training (965 / 18000 Steps) (loss=0.82384): 100%|██████████| 7/7 [00:06<00:00,  1.02it/s]\n",
      "Training (972 / 18000 Steps) (loss=0.81086): 100%|██████████| 7/7 [00:07<00:00,  1.00s/it]\n",
      "Training (979 / 18000 Steps) (loss=0.78113): 100%|██████████| 7/7 [00:06<00:00,  1.10it/s]\n",
      "Training (986 / 18000 Steps) (loss=0.79633): 100%|██████████| 7/7 [00:06<00:00,  1.05it/s]\n",
      "Training (993 / 18000 Steps) (loss=0.85280): 100%|██████████| 7/7 [00:06<00:00,  1.05it/s]\n",
      "Validate (994 / 10 Steps): 100%|██████████| 2/2 [00:05<00:00,  2.60s/it]6<00:00,  1.36it/s]\n",
      "Training (1000 / 18000 Steps) (loss=0.81232): 100%|██████████| 7/7 [00:11<00:00,  1.71s/it]\n"
     ]
    },
    {
     "name": "stdout",
     "output_type": "stream",
     "text": [
      "Model Was Not Saved ! Current Best Avg. Dice: 0.07632578909397125 Current Avg. Dice: 0.07433679699897766 Current Avg. tumor Dice: 0.14867359399795532 Current Avg. lymph Dice: 0.0\n"
     ]
    },
    {
     "name": "stderr",
     "output_type": "stream",
     "text": [
      "Training (1007 / 18000 Steps) (loss=0.79033): 100%|██████████| 7/7 [00:06<00:00,  1.05it/s]\n",
      "Training (1014 / 18000 Steps) (loss=0.75764): 100%|██████████| 7/7 [00:06<00:00,  1.06it/s]\n",
      "Training (1021 / 18000 Steps) (loss=0.83003): 100%|██████████| 7/7 [00:06<00:00,  1.06it/s]\n",
      "Training (1028 / 18000 Steps) (loss=0.80235): 100%|██████████| 7/7 [00:06<00:00,  1.04it/s]\n",
      "Training (1035 / 18000 Steps) (loss=0.82631): 100%|██████████| 7/7 [00:06<00:00,  1.08it/s]\n",
      "Training (1042 / 18000 Steps) (loss=0.80614): 100%|██████████| 7/7 [00:06<00:00,  1.03it/s]\n",
      "Training (1049 / 18000 Steps) (loss=0.84667): 100%|██████████| 7/7 [00:06<00:00,  1.05it/s]\n",
      "Training (1056 / 18000 Steps) (loss=0.79347): 100%|██████████| 7/7 [00:07<00:00,  1.01s/it]\n",
      "Training (1063 / 18000 Steps) (loss=0.77191): 100%|██████████| 7/7 [00:06<00:00,  1.01it/s]\n",
      "Training (1070 / 18000 Steps) (loss=0.82576): 100%|██████████| 7/7 [00:06<00:00,  1.08it/s]\n",
      "Training (1077 / 18000 Steps) (loss=0.86662): 100%|██████████| 7/7 [00:06<00:00,  1.13it/s]\n",
      "Training (1084 / 18000 Steps) (loss=0.80172): 100%|██████████| 7/7 [00:07<00:00,  1.01s/it]\n",
      "Training (1091 / 18000 Steps) (loss=0.77586): 100%|██████████| 7/7 [00:06<00:00,  1.00it/s]\n",
      "Training (1098 / 18000 Steps) (loss=0.88091): 100%|██████████| 7/7 [00:06<00:00,  1.06it/s]\n",
      "Validate (1099 / 10 Steps): 100%|██████████| 2/2 [00:05<00:00,  2.51s/it]<00:21,  3.51s/it]\n",
      "Training (1100 / 18000 Steps) (loss=0.77255):  29%|██▊       | 2/7 [00:09<00:23,  4.73s/it]"
     ]
    },
    {
     "name": "stdout",
     "output_type": "stream",
     "text": [
      "Model Was Not Saved ! Current Best Avg. Dice: 0.07632578909397125 Current Avg. Dice: 0.07245108485221863 Current Avg. tumor Dice: 0.14490216970443726 Current Avg. lymph Dice: 0.0\n"
     ]
    },
    {
     "name": "stderr",
     "output_type": "stream",
     "text": [
      "Training (1105 / 18000 Steps) (loss=0.80051): 100%|██████████| 7/7 [00:11<00:00,  1.67s/it]\n",
      "Training (1112 / 18000 Steps) (loss=0.89474): 100%|██████████| 7/7 [00:06<00:00,  1.09it/s]\n",
      "Training (1119 / 18000 Steps) (loss=0.78233): 100%|██████████| 7/7 [00:06<00:00,  1.05it/s]\n",
      "Training (1126 / 18000 Steps) (loss=0.73291): 100%|██████████| 7/7 [00:06<00:00,  1.03it/s]\n",
      "Training (1133 / 18000 Steps) (loss=0.80517): 100%|██████████| 7/7 [00:06<00:00,  1.04it/s]\n",
      "Training (1140 / 18000 Steps) (loss=0.80285): 100%|██████████| 7/7 [00:06<00:00,  1.04it/s]\n",
      "Training (1147 / 18000 Steps) (loss=0.81515): 100%|██████████| 7/7 [00:06<00:00,  1.05it/s]\n",
      "Training (1154 / 18000 Steps) (loss=0.75612): 100%|██████████| 7/7 [00:05<00:00,  1.20it/s]\n",
      "Training (1161 / 18000 Steps) (loss=0.79485): 100%|██████████| 7/7 [00:05<00:00,  1.18it/s]\n",
      "Training (1168 / 18000 Steps) (loss=0.80162): 100%|██████████| 7/7 [00:05<00:00,  1.20it/s]\n",
      "Training (1175 / 18000 Steps) (loss=0.79288): 100%|██████████| 7/7 [00:06<00:00,  1.09it/s]\n",
      "Training (1182 / 18000 Steps) (loss=0.82373): 100%|██████████| 7/7 [00:06<00:00,  1.05it/s]\n",
      "Training (1189 / 18000 Steps) (loss=0.83670): 100%|██████████| 7/7 [00:06<00:00,  1.08it/s]\n",
      "Training (1196 / 18000 Steps) (loss=0.72225): 100%|██████████| 7/7 [00:06<00:00,  1.03it/s]\n",
      "Validate (1197 / 10 Steps): 100%|██████████| 2/2 [00:05<00:00,  2.66s/it]<00:05,  1.26s/it]\n",
      "Training (1200 / 18000 Steps) (loss=0.79203):  57%|█████▋    | 4/7 [00:11<00:10,  3.36s/it]"
     ]
    },
    {
     "name": "stdout",
     "output_type": "stream",
     "text": [
      "Model Was Saved ! Current Best Avg. Dice: 0.08140737563371658 Current Avg. Dice: 0.08140737563371658 Current Avg. tumor Dice: 0.16281475126743317 Current Avg. lymph Dice: 0.0\n"
     ]
    },
    {
     "name": "stderr",
     "output_type": "stream",
     "text": [
      "Training (1203 / 18000 Steps) (loss=0.78283): 100%|██████████| 7/7 [00:12<00:00,  1.84s/it]\n",
      "Training (1210 / 18000 Steps) (loss=0.79910): 100%|██████████| 7/7 [00:06<00:00,  1.07it/s]\n",
      "Training (1217 / 18000 Steps) (loss=0.77692): 100%|██████████| 7/7 [00:06<00:00,  1.09it/s]\n",
      "Training (1224 / 18000 Steps) (loss=0.77974): 100%|██████████| 7/7 [00:06<00:00,  1.04it/s]\n",
      "Training (1231 / 18000 Steps) (loss=0.80999): 100%|██████████| 7/7 [00:06<00:00,  1.05it/s]\n",
      "Training (1238 / 18000 Steps) (loss=0.75536): 100%|██████████| 7/7 [00:06<00:00,  1.01it/s]\n",
      "Training (1245 / 18000 Steps) (loss=0.80671): 100%|██████████| 7/7 [00:06<00:00,  1.08it/s]\n",
      "Training (1252 / 18000 Steps) (loss=0.77414): 100%|██████████| 7/7 [00:06<00:00,  1.06it/s]\n",
      "Training (1259 / 18000 Steps) (loss=0.76513): 100%|██████████| 7/7 [00:06<00:00,  1.04it/s]\n",
      "Training (1266 / 18000 Steps) (loss=0.77026): 100%|██████████| 7/7 [00:06<00:00,  1.03it/s]\n",
      "Training (1273 / 18000 Steps) (loss=0.71561): 100%|██████████| 7/7 [00:06<00:00,  1.04it/s]\n",
      "Training (1280 / 18000 Steps) (loss=0.73323): 100%|██████████| 7/7 [00:06<00:00,  1.08it/s]\n",
      "Training (1287 / 18000 Steps) (loss=0.82662): 100%|██████████| 7/7 [00:06<00:00,  1.02it/s]\n",
      "Training (1294 / 18000 Steps) (loss=0.80165): 100%|██████████| 7/7 [00:06<00:00,  1.05it/s]\n",
      "Validate (1295 / 10 Steps): 100%|██████████| 2/2 [00:05<00:00,  2.69s/it]<00:01,  1.31it/s]\n",
      "Training (1300 / 18000 Steps) (loss=0.72871):  86%|████████▌ | 6/7 [00:12<00:02,  2.80s/it]"
     ]
    },
    {
     "name": "stdout",
     "output_type": "stream",
     "text": [
      "Model Was Saved ! Current Best Avg. Dice: 0.08227865397930145 Current Avg. Dice: 0.08227865397930145 Current Avg. tumor Dice: 0.15152278542518616 Current Avg. lymph Dice: 0.013034515082836151\n"
     ]
    },
    {
     "name": "stderr",
     "output_type": "stream",
     "text": [
      "Training (1301 / 18000 Steps) (loss=0.71803): 100%|██████████| 7/7 [00:12<00:00,  1.78s/it]\n",
      "Training (1308 / 18000 Steps) (loss=0.75586): 100%|██████████| 7/7 [00:06<00:00,  1.05it/s]\n",
      "Training (1315 / 18000 Steps) (loss=0.77502): 100%|██████████| 7/7 [00:06<00:00,  1.05it/s]\n",
      "Training (1322 / 18000 Steps) (loss=0.78257): 100%|██████████| 7/7 [00:06<00:00,  1.07it/s]\n",
      "Training (1329 / 18000 Steps) (loss=0.79667): 100%|██████████| 7/7 [00:06<00:00,  1.05it/s]\n",
      "Training (1336 / 18000 Steps) (loss=0.73632): 100%|██████████| 7/7 [00:06<00:00,  1.08it/s]\n",
      "Training (1343 / 18000 Steps) (loss=0.77170): 100%|██████████| 7/7 [00:06<00:00,  1.01it/s]\n",
      "Training (1350 / 18000 Steps) (loss=0.86845): 100%|██████████| 7/7 [00:06<00:00,  1.02it/s]\n",
      "Training (1357 / 18000 Steps) (loss=0.74427): 100%|██████████| 7/7 [00:06<00:00,  1.04it/s]\n",
      "Training (1364 / 18000 Steps) (loss=0.76343): 100%|██████████| 7/7 [00:06<00:00,  1.06it/s]\n",
      "Training (1371 / 18000 Steps) (loss=0.75168): 100%|██████████| 7/7 [00:06<00:00,  1.05it/s]\n",
      "Training (1378 / 18000 Steps) (loss=0.74644): 100%|██████████| 7/7 [00:06<00:00,  1.02it/s]\n",
      "Training (1385 / 18000 Steps) (loss=0.76924): 100%|██████████| 7/7 [00:06<00:00,  1.03it/s]\n",
      "Training (1392 / 18000 Steps) (loss=0.85952): 100%|██████████| 7/7 [00:06<00:00,  1.02it/s]\n",
      "Training (1399 / 18000 Steps) (loss=0.72618): 100%|██████████| 7/7 [00:06<00:00,  1.07it/s]\n",
      "Validate (1400 / 10 Steps): 100%|██████████| 2/2 [00:05<00:00,  2.86s/it]<?, ?it/s]\n",
      "Training (1400 / 18000 Steps) (loss=0.78065):  14%|█▍        | 1/7 [00:10<01:00, 10.02s/it]"
     ]
    },
    {
     "name": "stdout",
     "output_type": "stream",
     "text": [
      "Model Was Saved ! Current Best Avg. Dice: 0.11485948413610458 Current Avg. Dice: 0.11485948413610458 Current Avg. tumor Dice: 0.13364161550998688 Current Avg. lymph Dice: 0.0960773453116417\n"
     ]
    },
    {
     "name": "stderr",
     "output_type": "stream",
     "text": [
      "Training (1406 / 18000 Steps) (loss=0.74547): 100%|██████████| 7/7 [00:13<00:00,  1.89s/it]\n",
      "Training (1413 / 18000 Steps) (loss=0.80585): 100%|██████████| 7/7 [00:06<00:00,  1.01it/s]\n",
      "Training (1420 / 18000 Steps) (loss=0.80835): 100%|██████████| 7/7 [00:07<00:00,  1.00s/it]\n",
      "Training (1427 / 18000 Steps) (loss=0.77180): 100%|██████████| 7/7 [00:06<00:00,  1.08it/s]\n",
      "Training (1434 / 18000 Steps) (loss=0.80397): 100%|██████████| 7/7 [00:06<00:00,  1.08it/s]\n",
      "Training (1441 / 18000 Steps) (loss=0.70760): 100%|██████████| 7/7 [00:06<00:00,  1.09it/s]\n",
      "Training (1448 / 18000 Steps) (loss=0.71681): 100%|██████████| 7/7 [00:07<00:00,  1.04s/it]\n",
      "Training (1455 / 18000 Steps) (loss=0.75037): 100%|██████████| 7/7 [00:07<00:00,  1.01s/it]\n",
      "Training (1462 / 18000 Steps) (loss=0.77213): 100%|██████████| 7/7 [00:06<00:00,  1.05it/s]\n",
      "Training (1469 / 18000 Steps) (loss=0.72697): 100%|██████████| 7/7 [00:06<00:00,  1.07it/s]\n",
      "Training (1476 / 18000 Steps) (loss=0.73410): 100%|██████████| 7/7 [00:06<00:00,  1.08it/s]\n",
      "Training (1483 / 18000 Steps) (loss=0.73801): 100%|██████████| 7/7 [00:06<00:00,  1.05it/s]\n",
      "Training (1490 / 18000 Steps) (loss=0.74483): 100%|██████████| 7/7 [00:06<00:00,  1.03it/s]\n",
      "Training (1497 / 18000 Steps) (loss=0.63353): 100%|██████████| 7/7 [00:06<00:00,  1.05it/s]\n",
      "Validate (1498 / 10 Steps): 100%|██████████| 2/2 [00:05<00:00,  2.77s/it]<00:08,  1.69s/it]\n",
      "Training (1500 / 18000 Steps) (loss=0.69580):  43%|████▎     | 3/7 [00:10<00:16,  4.07s/it]"
     ]
    },
    {
     "name": "stdout",
     "output_type": "stream",
     "text": [
      "Model Was Saved ! Current Best Avg. Dice: 0.14044314622879028 Current Avg. Dice: 0.14044314622879028 Current Avg. tumor Dice: 0.18418565392494202 Current Avg. lymph Dice: 0.09670063853263855\n"
     ]
    },
    {
     "name": "stderr",
     "output_type": "stream",
     "text": [
      "Training (1504 / 18000 Steps) (loss=0.78136): 100%|██████████| 7/7 [00:12<00:00,  1.84s/it]\n",
      "Training (1511 / 18000 Steps) (loss=0.77546): 100%|██████████| 7/7 [00:06<00:00,  1.02it/s]\n",
      "Training (1518 / 18000 Steps) (loss=0.71886): 100%|██████████| 7/7 [00:06<00:00,  1.05it/s]\n",
      "Training (1525 / 18000 Steps) (loss=0.71627): 100%|██████████| 7/7 [00:06<00:00,  1.05it/s]\n",
      "Training (1532 / 18000 Steps) (loss=0.75119): 100%|██████████| 7/7 [00:07<00:00,  1.01s/it]\n",
      "Training (1539 / 18000 Steps) (loss=0.68014): 100%|██████████| 7/7 [00:05<00:00,  1.21it/s]\n",
      "Training (1546 / 18000 Steps) (loss=0.71669): 100%|██████████| 7/7 [00:05<00:00,  1.17it/s]\n",
      "Training (1553 / 18000 Steps) (loss=0.71552): 100%|██████████| 7/7 [00:05<00:00,  1.25it/s]\n",
      "Training (1560 / 18000 Steps) (loss=0.78170): 100%|██████████| 7/7 [00:06<00:00,  1.04it/s]\n",
      "Training (1567 / 18000 Steps) (loss=0.70230): 100%|██████████| 7/7 [00:06<00:00,  1.06it/s]\n",
      "Training (1574 / 18000 Steps) (loss=0.75793): 100%|██████████| 7/7 [00:06<00:00,  1.13it/s]\n",
      "Training (1581 / 18000 Steps) (loss=0.68543): 100%|██████████| 7/7 [00:06<00:00,  1.04it/s]\n",
      "Training (1588 / 18000 Steps) (loss=0.70953): 100%|██████████| 7/7 [00:06<00:00,  1.11it/s]\n",
      "Training (1595 / 18000 Steps) (loss=0.73680): 100%|██████████| 7/7 [00:06<00:00,  1.04it/s]\n",
      "Validate (1596 / 10 Steps): 100%|██████████| 2/2 [00:05<00:00,  2.52s/it]<00:02,  1.14it/s]\n",
      "Training (1600 / 18000 Steps) (loss=0.72263):  71%|███████▏  | 5/7 [00:11<00:05,  2.87s/it]"
     ]
    },
    {
     "name": "stdout",
     "output_type": "stream",
     "text": [
      "Model Was Saved ! Current Best Avg. Dice: 0.15927816927433014 Current Avg. Dice: 0.15927816927433014 Current Avg. tumor Dice: 0.18549005687236786 Current Avg. lymph Dice: 0.13306628167629242\n"
     ]
    },
    {
     "name": "stderr",
     "output_type": "stream",
     "text": [
      "Training (1602 / 18000 Steps) (loss=0.72626): 100%|██████████| 7/7 [00:11<00:00,  1.71s/it]\n",
      "Training (1609 / 18000 Steps) (loss=0.73580): 100%|██████████| 7/7 [00:06<00:00,  1.07it/s]\n",
      "Training (1616 / 18000 Steps) (loss=0.67253): 100%|██████████| 7/7 [00:06<00:00,  1.05it/s]\n",
      "Training (1623 / 18000 Steps) (loss=0.74763): 100%|██████████| 7/7 [00:06<00:00,  1.04it/s]\n",
      "Training (1630 / 18000 Steps) (loss=0.70093): 100%|██████████| 7/7 [00:06<00:00,  1.10it/s]\n",
      "Training (1637 / 18000 Steps) (loss=0.67037): 100%|██████████| 7/7 [00:06<00:00,  1.10it/s]\n",
      "Training (1644 / 18000 Steps) (loss=0.72895): 100%|██████████| 7/7 [00:06<00:00,  1.06it/s]\n",
      "Training (1651 / 18000 Steps) (loss=0.73399): 100%|██████████| 7/7 [00:06<00:00,  1.04it/s]\n",
      "Training (1658 / 18000 Steps) (loss=0.73184): 100%|██████████| 7/7 [00:06<00:00,  1.03it/s]\n",
      "Training (1665 / 18000 Steps) (loss=0.65122): 100%|██████████| 7/7 [00:06<00:00,  1.03it/s]\n",
      "Training (1672 / 18000 Steps) (loss=0.69158): 100%|██████████| 7/7 [00:06<00:00,  1.01it/s]\n",
      "Training (1679 / 18000 Steps) (loss=0.63149): 100%|██████████| 7/7 [00:06<00:00,  1.04it/s]\n",
      "Training (1686 / 18000 Steps) (loss=0.67637): 100%|██████████| 7/7 [00:06<00:00,  1.06it/s]\n",
      "Training (1693 / 18000 Steps) (loss=0.69756): 100%|██████████| 7/7 [00:06<00:00,  1.04it/s]\n",
      "Validate (1694 / 10 Steps): 100%|██████████| 2/2 [00:04<00:00,  2.50s/it]<00:00,  1.38it/s]\n",
      "Training (1700 / 18000 Steps) (loss=0.68166): 100%|██████████| 7/7 [00:11<00:00,  1.70s/it]\n"
     ]
    },
    {
     "name": "stdout",
     "output_type": "stream",
     "text": [
      "Model Was Not Saved ! Current Best Avg. Dice: 0.15927816927433014 Current Avg. Dice: 0.14825044572353363 Current Avg. tumor Dice: 0.16167308390140533 Current Avg. lymph Dice: 0.13482780754566193\n"
     ]
    },
    {
     "name": "stderr",
     "output_type": "stream",
     "text": [
      "Training (1707 / 18000 Steps) (loss=0.70719): 100%|██████████| 7/7 [00:06<00:00,  1.02it/s]\n",
      "Training (1714 / 18000 Steps) (loss=0.66761): 100%|██████████| 7/7 [00:06<00:00,  1.08it/s]\n",
      "Training (1721 / 18000 Steps) (loss=0.63344): 100%|██████████| 7/7 [00:06<00:00,  1.01it/s]\n",
      "Training (1728 / 18000 Steps) (loss=0.70715): 100%|██████████| 7/7 [00:06<00:00,  1.03it/s]\n",
      "Training (1735 / 18000 Steps) (loss=0.73994): 100%|██████████| 7/7 [00:06<00:00,  1.07it/s]\n",
      "Training (1742 / 18000 Steps) (loss=0.75182): 100%|██████████| 7/7 [00:06<00:00,  1.07it/s]\n",
      "Training (1749 / 18000 Steps) (loss=0.76990): 100%|██████████| 7/7 [00:06<00:00,  1.13it/s]\n",
      "Training (1756 / 18000 Steps) (loss=0.69944): 100%|██████████| 7/7 [00:06<00:00,  1.05it/s]\n",
      "Training (1763 / 18000 Steps) (loss=0.68895): 100%|██████████| 7/7 [00:06<00:00,  1.05it/s]\n",
      "Training (1770 / 18000 Steps) (loss=0.66824): 100%|██████████| 7/7 [00:06<00:00,  1.11it/s]\n",
      "Training (1777 / 18000 Steps) (loss=0.70301): 100%|██████████| 7/7 [00:06<00:00,  1.08it/s]\n",
      "Training (1784 / 18000 Steps) (loss=0.66528): 100%|██████████| 7/7 [00:06<00:00,  1.10it/s]\n",
      "Training (1791 / 18000 Steps) (loss=0.64096): 100%|██████████| 7/7 [00:06<00:00,  1.09it/s]\n",
      "Training (1798 / 18000 Steps) (loss=0.71399): 100%|██████████| 7/7 [00:06<00:00,  1.03it/s]\n",
      "Validate (1799 / 10 Steps): 100%|██████████| 2/2 [00:04<00:00,  2.49s/it]<00:18,  3.03s/it]\n",
      "Training (1800 / 18000 Steps) (loss=0.69951):  29%|██▊       | 2/7 [00:09<00:24,  4.93s/it]"
     ]
    },
    {
     "name": "stdout",
     "output_type": "stream",
     "text": [
      "Model Was Saved ! Current Best Avg. Dice: 0.21541428565979004 Current Avg. Dice: 0.21541428565979004 Current Avg. tumor Dice: 0.25507745146751404 Current Avg. lymph Dice: 0.17575111985206604\n"
     ]
    },
    {
     "name": "stderr",
     "output_type": "stream",
     "text": [
      "Training (1805 / 18000 Steps) (loss=0.72780): 100%|██████████| 7/7 [00:12<00:00,  1.72s/it]\n",
      "Training (1812 / 18000 Steps) (loss=0.72790): 100%|██████████| 7/7 [00:06<00:00,  1.07it/s]\n",
      "Training (1819 / 18000 Steps) (loss=0.68752): 100%|██████████| 7/7 [00:06<00:00,  1.07it/s]\n",
      "Training (1826 / 18000 Steps) (loss=0.72041): 100%|██████████| 7/7 [00:06<00:00,  1.09it/s]\n",
      "Training (1833 / 18000 Steps) (loss=0.71078): 100%|██████████| 7/7 [00:06<00:00,  1.01it/s]\n",
      "Training (1840 / 18000 Steps) (loss=0.73002): 100%|██████████| 7/7 [00:06<00:00,  1.05it/s]\n",
      "Training (1847 / 18000 Steps) (loss=0.64897): 100%|██████████| 7/7 [00:06<00:00,  1.02it/s]\n",
      "Training (1854 / 18000 Steps) (loss=0.73343): 100%|██████████| 7/7 [00:06<00:00,  1.07it/s]\n",
      "Training (1861 / 18000 Steps) (loss=0.64034): 100%|██████████| 7/7 [00:06<00:00,  1.05it/s]\n",
      "Training (1868 / 18000 Steps) (loss=0.64722): 100%|██████████| 7/7 [00:06<00:00,  1.06it/s]\n",
      "Training (1875 / 18000 Steps) (loss=0.63514): 100%|██████████| 7/7 [00:06<00:00,  1.05it/s]\n",
      "Training (1882 / 18000 Steps) (loss=0.66916): 100%|██████████| 7/7 [00:06<00:00,  1.04it/s]\n",
      "Training (1889 / 18000 Steps) (loss=0.67250): 100%|██████████| 7/7 [00:06<00:00,  1.09it/s]\n",
      "Training (1896 / 18000 Steps) (loss=0.63434): 100%|██████████| 7/7 [00:06<00:00,  1.02it/s]\n",
      "Validate (1897 / 10 Steps): 100%|██████████| 2/2 [00:05<00:00,  2.60s/it]<00:04,  1.20s/it]\n",
      "Training (1900 / 18000 Steps) (loss=0.66770):  57%|█████▋    | 4/7 [00:10<00:09,  3.00s/it]"
     ]
    },
    {
     "name": "stdout",
     "output_type": "stream",
     "text": [
      "Model Was Not Saved ! Current Best Avg. Dice: 0.21541428565979004 Current Avg. Dice: 0.21205714344978333 Current Avg. tumor Dice: 0.23481515049934387 Current Avg. lymph Dice: 0.18929915130138397\n"
     ]
    },
    {
     "name": "stderr",
     "output_type": "stream",
     "text": [
      "Training (1903 / 18000 Steps) (loss=0.62007): 100%|██████████| 7/7 [00:11<00:00,  1.71s/it]\n",
      "Training (1910 / 18000 Steps) (loss=0.60920): 100%|██████████| 7/7 [00:06<00:00,  1.02it/s]\n",
      "Training (1917 / 18000 Steps) (loss=0.63681): 100%|██████████| 7/7 [00:06<00:00,  1.03it/s]\n",
      "Training (1924 / 18000 Steps) (loss=0.73960): 100%|██████████| 7/7 [00:06<00:00,  1.09it/s]\n",
      "Training (1931 / 18000 Steps) (loss=0.70823): 100%|██████████| 7/7 [00:06<00:00,  1.04it/s]\n",
      "Training (1938 / 18000 Steps) (loss=0.72081): 100%|██████████| 7/7 [00:06<00:00,  1.06it/s]\n",
      "Training (1945 / 18000 Steps) (loss=0.77693): 100%|██████████| 7/7 [00:06<00:00,  1.09it/s]\n",
      "Training (1952 / 18000 Steps) (loss=0.70440): 100%|██████████| 7/7 [00:05<00:00,  1.28it/s]\n",
      "Training (1959 / 18000 Steps) (loss=0.73764): 100%|██████████| 7/7 [00:06<00:00,  1.14it/s]\n",
      "Training (1966 / 18000 Steps) (loss=0.69693): 100%|██████████| 7/7 [00:05<00:00,  1.25it/s]\n",
      "Training (1973 / 18000 Steps) (loss=0.68208): 100%|██████████| 7/7 [00:05<00:00,  1.24it/s]\n",
      "Training (1980 / 18000 Steps) (loss=0.72782): 100%|██████████| 7/7 [00:05<00:00,  1.18it/s]\n",
      "Training (1987 / 18000 Steps) (loss=0.72504): 100%|██████████| 7/7 [00:05<00:00,  1.21it/s]\n",
      "Training (1994 / 18000 Steps) (loss=0.66958): 100%|██████████| 7/7 [00:05<00:00,  1.25it/s]\n",
      "Validate (1995 / 10 Steps): 100%|██████████| 2/2 [00:04<00:00,  2.18s/it]<00:01,  1.56it/s]\n",
      "Training (2000 / 18000 Steps) (loss=0.72792):  86%|████████▌ | 6/7 [00:09<00:02,  2.06s/it]"
     ]
    },
    {
     "name": "stdout",
     "output_type": "stream",
     "text": [
      "Model Was Not Saved ! Current Best Avg. Dice: 0.21541428565979004 Current Avg. Dice: 0.1395643800497055 Current Avg. tumor Dice: 0.15760447084903717 Current Avg. lymph Dice: 0.12152430415153503\n"
     ]
    },
    {
     "name": "stderr",
     "output_type": "stream",
     "text": [
      "Training (2001 / 18000 Steps) (loss=0.72120): 100%|██████████| 7/7 [00:09<00:00,  1.41s/it]\n",
      "Training (2008 / 18000 Steps) (loss=0.53351): 100%|██████████| 7/7 [00:05<00:00,  1.26it/s]\n",
      "Training (2015 / 18000 Steps) (loss=0.68104): 100%|██████████| 7/7 [00:05<00:00,  1.26it/s]\n",
      "Training (2022 / 18000 Steps) (loss=0.61086): 100%|██████████| 7/7 [00:05<00:00,  1.21it/s]\n",
      "Training (2029 / 18000 Steps) (loss=0.69334): 100%|██████████| 7/7 [00:05<00:00,  1.25it/s]\n",
      "Training (2036 / 18000 Steps) (loss=0.68150): 100%|██████████| 7/7 [00:05<00:00,  1.28it/s]\n",
      "Training (2043 / 18000 Steps) (loss=0.67251): 100%|██████████| 7/7 [00:05<00:00,  1.31it/s]\n",
      "Training (2050 / 18000 Steps) (loss=0.61512): 100%|██████████| 7/7 [00:05<00:00,  1.21it/s]\n",
      "Training (2057 / 18000 Steps) (loss=0.67673): 100%|██████████| 7/7 [00:05<00:00,  1.19it/s]\n",
      "Training (2064 / 18000 Steps) (loss=0.72347): 100%|██████████| 7/7 [00:06<00:00,  1.15it/s]\n",
      "Training (2071 / 18000 Steps) (loss=0.69858): 100%|██████████| 7/7 [00:06<00:00,  1.16it/s]\n",
      "Training (2078 / 18000 Steps) (loss=0.69106): 100%|██████████| 7/7 [00:05<00:00,  1.26it/s]\n",
      "Training (2085 / 18000 Steps) (loss=0.60536): 100%|██████████| 7/7 [00:05<00:00,  1.22it/s]\n",
      "Training (2092 / 18000 Steps) (loss=0.65923): 100%|██████████| 7/7 [00:05<00:00,  1.25it/s]\n",
      "Training (2099 / 18000 Steps) (loss=0.61322): 100%|██████████| 7/7 [00:05<00:00,  1.29it/s]\n",
      "Validate (2100 / 10 Steps): 100%|██████████| 2/2 [00:04<00:00,  2.28s/it]<?, ?it/s]\n",
      "Training (2100 / 18000 Steps) (loss=0.60750):  14%|█▍        | 1/7 [00:08<00:51,  8.66s/it]"
     ]
    },
    {
     "name": "stdout",
     "output_type": "stream",
     "text": [
      "Model Was Saved ! Current Best Avg. Dice: 0.22956454753875732 Current Avg. Dice: 0.22956454753875732 Current Avg. tumor Dice: 0.21768559515476227 Current Avg. lymph Dice: 0.24144351482391357\n"
     ]
    },
    {
     "name": "stderr",
     "output_type": "stream",
     "text": [
      "Training (2106 / 18000 Steps) (loss=0.55808): 100%|██████████| 7/7 [00:11<00:00,  1.58s/it]\n",
      "Training (2113 / 18000 Steps) (loss=0.66409): 100%|██████████| 7/7 [00:05<00:00,  1.19it/s]\n",
      "Training (2120 / 18000 Steps) (loss=0.62087): 100%|██████████| 7/7 [00:05<00:00,  1.23it/s]\n",
      "Training (2127 / 18000 Steps) (loss=0.70282): 100%|██████████| 7/7 [00:05<00:00,  1.29it/s]\n",
      "Training (2134 / 18000 Steps) (loss=0.61546): 100%|██████████| 7/7 [00:05<00:00,  1.28it/s]\n",
      "Training (2141 / 18000 Steps) (loss=0.57425): 100%|██████████| 7/7 [00:05<00:00,  1.25it/s]\n",
      "Training (2148 / 18000 Steps) (loss=0.62211): 100%|██████████| 7/7 [00:05<00:00,  1.22it/s]\n",
      "Training (2155 / 18000 Steps) (loss=0.57657): 100%|██████████| 7/7 [00:05<00:00,  1.28it/s]\n",
      "Training (2162 / 18000 Steps) (loss=0.66587): 100%|██████████| 7/7 [00:05<00:00,  1.28it/s]\n",
      "Training (2169 / 18000 Steps) (loss=0.66820): 100%|██████████| 7/7 [00:05<00:00,  1.26it/s]\n",
      "Training (2176 / 18000 Steps) (loss=0.66802): 100%|██████████| 7/7 [00:05<00:00,  1.26it/s]\n",
      "Training (2183 / 18000 Steps) (loss=0.64974): 100%|██████████| 7/7 [00:05<00:00,  1.33it/s]\n",
      "Training (2190 / 18000 Steps) (loss=0.67753): 100%|██████████| 7/7 [00:05<00:00,  1.29it/s]\n",
      "Training (2197 / 18000 Steps) (loss=0.66819): 100%|██████████| 7/7 [00:05<00:00,  1.32it/s]\n",
      "Validate (2198 / 10 Steps): 100%|██████████| 2/2 [00:04<00:00,  2.14s/it]<00:07,  1.59s/it]\n",
      "Training (2200 / 18000 Steps) (loss=0.67263):  43%|████▎     | 3/7 [00:09<00:13,  3.34s/it]"
     ]
    },
    {
     "name": "stdout",
     "output_type": "stream",
     "text": [
      "Model Was Saved ! Current Best Avg. Dice: 0.25076034665107727 Current Avg. Dice: 0.25076034665107727 Current Avg. tumor Dice: 0.20312252640724182 Current Avg. lymph Dice: 0.2983981668949127\n"
     ]
    },
    {
     "name": "stderr",
     "output_type": "stream",
     "text": [
      "Training (2204 / 18000 Steps) (loss=0.73443): 100%|██████████| 7/7 [00:10<00:00,  1.52s/it]\n",
      "Training (2211 / 18000 Steps) (loss=0.67577): 100%|██████████| 7/7 [00:05<00:00,  1.32it/s]\n",
      "Training (2218 / 18000 Steps) (loss=0.62727): 100%|██████████| 7/7 [00:05<00:00,  1.19it/s]\n",
      "Training (2225 / 18000 Steps) (loss=0.58251): 100%|██████████| 7/7 [00:05<00:00,  1.17it/s]\n",
      "Training (2232 / 18000 Steps) (loss=0.69346): 100%|██████████| 7/7 [00:05<00:00,  1.25it/s]\n",
      "Training (2239 / 18000 Steps) (loss=0.64221): 100%|██████████| 7/7 [00:05<00:00,  1.27it/s]\n",
      "Training (2246 / 18000 Steps) (loss=0.64457): 100%|██████████| 7/7 [00:05<00:00,  1.31it/s]\n",
      "Training (2253 / 18000 Steps) (loss=0.60857): 100%|██████████| 7/7 [00:05<00:00,  1.31it/s]\n",
      "Training (2260 / 18000 Steps) (loss=0.62352): 100%|██████████| 7/7 [00:05<00:00,  1.24it/s]\n",
      "Training (2267 / 18000 Steps) (loss=0.69630): 100%|██████████| 7/7 [00:05<00:00,  1.20it/s]\n",
      "Training (2274 / 18000 Steps) (loss=0.58711): 100%|██████████| 7/7 [00:05<00:00,  1.20it/s]\n",
      "Training (2281 / 18000 Steps) (loss=0.65383): 100%|██████████| 7/7 [00:05<00:00,  1.28it/s]\n",
      "Training (2288 / 18000 Steps) (loss=0.62404): 100%|██████████| 7/7 [00:05<00:00,  1.29it/s]\n",
      "Training (2295 / 18000 Steps) (loss=0.58505): 100%|██████████| 7/7 [00:05<00:00,  1.31it/s]\n",
      "Validate (2296 / 10 Steps): 100%|██████████| 2/2 [00:04<00:00,  2.28s/it]<00:02,  1.29it/s]\n",
      "Training (2300 / 18000 Steps) (loss=0.63983):  71%|███████▏  | 5/7 [00:10<00:05,  2.56s/it]"
     ]
    },
    {
     "name": "stdout",
     "output_type": "stream",
     "text": [
      "Model Was Saved ! Current Best Avg. Dice: 0.25396427512168884 Current Avg. Dice: 0.25396427512168884 Current Avg. tumor Dice: 0.1854519248008728 Current Avg. lymph Dice: 0.3224766254425049\n"
     ]
    },
    {
     "name": "stderr",
     "output_type": "stream",
     "text": [
      "Training (2302 / 18000 Steps) (loss=0.64003): 100%|██████████| 7/7 [00:10<00:00,  1.54s/it]\n",
      "Training (2309 / 18000 Steps) (loss=0.57596): 100%|██████████| 7/7 [00:05<00:00,  1.19it/s]\n",
      "Training (2316 / 18000 Steps) (loss=0.59626): 100%|██████████| 7/7 [00:05<00:00,  1.24it/s]\n",
      "Training (2323 / 18000 Steps) (loss=0.69176): 100%|██████████| 7/7 [00:05<00:00,  1.27it/s]\n",
      "Training (2330 / 18000 Steps) (loss=0.62026): 100%|██████████| 7/7 [00:05<00:00,  1.28it/s]\n",
      "Training (2337 / 18000 Steps) (loss=0.65889): 100%|██████████| 7/7 [00:05<00:00,  1.26it/s]\n",
      "Training (2344 / 18000 Steps) (loss=0.66630): 100%|██████████| 7/7 [00:05<00:00,  1.30it/s]\n",
      "Training (2351 / 18000 Steps) (loss=0.53643): 100%|██████████| 7/7 [00:05<00:00,  1.19it/s]\n",
      "Training (2358 / 18000 Steps) (loss=0.67776): 100%|██████████| 7/7 [00:05<00:00,  1.18it/s]\n",
      "Training (2365 / 18000 Steps) (loss=0.54460): 100%|██████████| 7/7 [00:05<00:00,  1.19it/s]\n",
      "Training (2372 / 18000 Steps) (loss=0.61766): 100%|██████████| 7/7 [00:05<00:00,  1.22it/s]\n",
      "Training (2379 / 18000 Steps) (loss=0.65740): 100%|██████████| 7/7 [00:05<00:00,  1.20it/s]\n",
      "Training (2386 / 18000 Steps) (loss=0.62233): 100%|██████████| 7/7 [00:05<00:00,  1.25it/s]\n",
      "Training (2393 / 18000 Steps) (loss=0.66546): 100%|██████████| 7/7 [00:05<00:00,  1.22it/s]\n",
      "Validate (2394 / 10 Steps): 100%|██████████| 2/2 [00:04<00:00,  2.17s/it]<00:00,  1.71it/s]\n",
      "Training (2400 / 18000 Steps) (loss=0.73492): 100%|██████████| 7/7 [00:10<00:00,  1.46s/it]\n"
     ]
    },
    {
     "name": "stdout",
     "output_type": "stream",
     "text": [
      "Model Was Not Saved ! Current Best Avg. Dice: 0.25396427512168884 Current Avg. Dice: 0.23864340782165527 Current Avg. tumor Dice: 0.2056199163198471 Current Avg. lymph Dice: 0.27166691422462463\n"
     ]
    },
    {
     "name": "stderr",
     "output_type": "stream",
     "text": [
      "Training (2407 / 18000 Steps) (loss=0.75537): 100%|██████████| 7/7 [00:05<00:00,  1.25it/s]\n",
      "Training (2414 / 18000 Steps) (loss=0.64374): 100%|██████████| 7/7 [00:05<00:00,  1.20it/s]\n",
      "Training (2421 / 18000 Steps) (loss=0.58151): 100%|██████████| 7/7 [00:05<00:00,  1.31it/s]\n",
      "Training (2428 / 18000 Steps) (loss=0.68682): 100%|██████████| 7/7 [00:05<00:00,  1.31it/s]\n",
      "Training (2435 / 18000 Steps) (loss=0.56272): 100%|██████████| 7/7 [00:05<00:00,  1.23it/s]\n",
      "Training (2442 / 18000 Steps) (loss=0.54276): 100%|██████████| 7/7 [00:05<00:00,  1.26it/s]\n",
      "Training (2449 / 18000 Steps) (loss=0.63354): 100%|██████████| 7/7 [00:05<00:00,  1.32it/s]\n",
      "Training (2456 / 18000 Steps) (loss=0.57228): 100%|██████████| 7/7 [00:05<00:00,  1.34it/s]\n",
      "Training (2463 / 18000 Steps) (loss=0.62243): 100%|██████████| 7/7 [00:05<00:00,  1.26it/s]\n",
      "Training (2470 / 18000 Steps) (loss=0.64966): 100%|██████████| 7/7 [00:06<00:00,  1.14it/s]\n",
      "Training (2477 / 18000 Steps) (loss=0.65240): 100%|██████████| 7/7 [00:05<00:00,  1.26it/s]\n",
      "Training (2484 / 18000 Steps) (loss=0.53647): 100%|██████████| 7/7 [00:05<00:00,  1.18it/s]\n",
      "Training (2491 / 18000 Steps) (loss=0.60499): 100%|██████████| 7/7 [00:05<00:00,  1.24it/s]\n",
      "Training (2498 / 18000 Steps) (loss=0.66072): 100%|██████████| 7/7 [00:05<00:00,  1.23it/s]\n",
      "Validate (2499 / 10 Steps): 100%|██████████| 2/2 [00:04<00:00,  2.21s/it]<00:19,  3.22s/it]\n",
      "Training (2500 / 18000 Steps) (loss=0.66826):  29%|██▊       | 2/7 [00:08<00:22,  4.60s/it]"
     ]
    },
    {
     "name": "stdout",
     "output_type": "stream",
     "text": [
      "Model Was Saved ! Current Best Avg. Dice: 0.3193293809890747 Current Avg. Dice: 0.3193293809890747 Current Avg. tumor Dice: 0.29132869839668274 Current Avg. lymph Dice: 0.34733012318611145\n"
     ]
    },
    {
     "name": "stderr",
     "output_type": "stream",
     "text": [
      "Training (2505 / 18000 Steps) (loss=0.65735): 100%|██████████| 7/7 [00:10<00:00,  1.54s/it]\n",
      "Training (2512 / 18000 Steps) (loss=0.57925): 100%|██████████| 7/7 [00:05<00:00,  1.19it/s]\n",
      "Training (2519 / 18000 Steps) (loss=0.64628): 100%|██████████| 7/7 [00:05<00:00,  1.26it/s]\n",
      "Training (2526 / 18000 Steps) (loss=0.63850): 100%|██████████| 7/7 [00:05<00:00,  1.24it/s]\n",
      "Training (2533 / 18000 Steps) (loss=0.59558): 100%|██████████| 7/7 [00:05<00:00,  1.26it/s]\n",
      "Training (2540 / 18000 Steps) (loss=0.55313): 100%|██████████| 7/7 [00:05<00:00,  1.26it/s]\n",
      "Training (2547 / 18000 Steps) (loss=0.57801): 100%|██████████| 7/7 [00:05<00:00,  1.24it/s]\n",
      "Training (2554 / 18000 Steps) (loss=0.55649): 100%|██████████| 7/7 [00:05<00:00,  1.18it/s]\n",
      "Training (2561 / 18000 Steps) (loss=0.72535): 100%|██████████| 7/7 [00:05<00:00,  1.18it/s]\n",
      "Training (2568 / 18000 Steps) (loss=0.57702): 100%|██████████| 7/7 [00:05<00:00,  1.25it/s]\n",
      "Training (2575 / 18000 Steps) (loss=0.65910): 100%|██████████| 7/7 [00:05<00:00,  1.28it/s]\n",
      "Training (2582 / 18000 Steps) (loss=0.65285): 100%|██████████| 7/7 [00:05<00:00,  1.27it/s]\n",
      "Training (2589 / 18000 Steps) (loss=0.60228): 100%|██████████| 7/7 [00:05<00:00,  1.30it/s]\n",
      "Training (2596 / 18000 Steps) (loss=0.65770): 100%|██████████| 7/7 [00:05<00:00,  1.22it/s]\n",
      "Validate (2597 / 10 Steps): 100%|██████████| 2/2 [00:04<00:00,  2.23s/it]<00:04,  1.09s/it]\n",
      "Training (2600 / 18000 Steps) (loss=0.62163):  57%|█████▋    | 4/7 [00:09<00:07,  2.60s/it]"
     ]
    },
    {
     "name": "stdout",
     "output_type": "stream",
     "text": [
      "Model Was Not Saved ! Current Best Avg. Dice: 0.3193293809890747 Current Avg. Dice: 0.30864304304122925 Current Avg. tumor Dice: 0.27577605843544006 Current Avg. lymph Dice: 0.3415100574493408\n"
     ]
    },
    {
     "name": "stderr",
     "output_type": "stream",
     "text": [
      "Training (2603 / 18000 Steps) (loss=0.57249): 100%|██████████| 7/7 [00:10<00:00,  1.48s/it]\n",
      "Training (2610 / 18000 Steps) (loss=0.58993): 100%|██████████| 7/7 [00:05<00:00,  1.24it/s]\n",
      "Training (2617 / 18000 Steps) (loss=0.63430): 100%|██████████| 7/7 [00:05<00:00,  1.23it/s]\n",
      "Training (2624 / 18000 Steps) (loss=0.67501): 100%|██████████| 7/7 [00:05<00:00,  1.30it/s]\n",
      "Training (2631 / 18000 Steps) (loss=0.64305): 100%|██████████| 7/7 [00:05<00:00,  1.23it/s]\n",
      "Training (2638 / 18000 Steps) (loss=0.67048): 100%|██████████| 7/7 [00:05<00:00,  1.28it/s]\n",
      "Training (2645 / 18000 Steps) (loss=0.49638): 100%|██████████| 7/7 [00:05<00:00,  1.24it/s]\n",
      "Training (2652 / 18000 Steps) (loss=0.53916): 100%|██████████| 7/7 [00:05<00:00,  1.27it/s]\n",
      "Training (2659 / 18000 Steps) (loss=0.65522): 100%|██████████| 7/7 [00:05<00:00,  1.24it/s]\n",
      "Training (2666 / 18000 Steps) (loss=0.58318): 100%|██████████| 7/7 [00:05<00:00,  1.26it/s]\n",
      "Training (2673 / 18000 Steps) (loss=0.65911): 100%|██████████| 7/7 [00:06<00:00,  1.16it/s]\n",
      "Training (2680 / 18000 Steps) (loss=0.47578): 100%|██████████| 7/7 [00:05<00:00,  1.24it/s]\n",
      "Training (2687 / 18000 Steps) (loss=0.64059): 100%|██████████| 7/7 [00:05<00:00,  1.22it/s]\n",
      "Training (2694 / 18000 Steps) (loss=0.42474): 100%|██████████| 7/7 [00:05<00:00,  1.25it/s]\n",
      "Validate (2695 / 10 Steps): 100%|██████████| 2/2 [00:04<00:00,  2.14s/it]<00:01,  1.57it/s]\n",
      "Training (2700 / 18000 Steps) (loss=0.62692):  86%|████████▌ | 6/7 [00:09<00:02,  2.03s/it]"
     ]
    },
    {
     "name": "stdout",
     "output_type": "stream",
     "text": [
      "Model Was Not Saved ! Current Best Avg. Dice: 0.3193293809890747 Current Avg. Dice: 0.2521539628505707 Current Avg. tumor Dice: 0.22328568994998932 Current Avg. lymph Dice: 0.28102225065231323\n"
     ]
    },
    {
     "name": "stderr",
     "output_type": "stream",
     "text": [
      "Training (2701 / 18000 Steps) (loss=0.52198): 100%|██████████| 7/7 [00:09<00:00,  1.39s/it]\n",
      "Training (2708 / 18000 Steps) (loss=0.65912): 100%|██████████| 7/7 [00:05<00:00,  1.28it/s]\n",
      "Training (2715 / 18000 Steps) (loss=0.47453): 100%|██████████| 7/7 [00:06<00:00,  1.15it/s]\n",
      "Training (2722 / 18000 Steps) (loss=0.67362): 100%|██████████| 7/7 [00:06<00:00,  1.13it/s]\n",
      "Training (2729 / 18000 Steps) (loss=0.59345): 100%|██████████| 7/7 [00:05<00:00,  1.28it/s]\n",
      "Training (2736 / 18000 Steps) (loss=0.70417): 100%|██████████| 7/7 [00:05<00:00,  1.28it/s]\n",
      "Training (2743 / 18000 Steps) (loss=0.64128): 100%|██████████| 7/7 [00:05<00:00,  1.34it/s]\n",
      "Training (2750 / 18000 Steps) (loss=0.52748): 100%|██████████| 7/7 [00:05<00:00,  1.24it/s]\n",
      "Training (2757 / 18000 Steps) (loss=0.62258): 100%|██████████| 7/7 [00:05<00:00,  1.22it/s]\n",
      "Training (2764 / 18000 Steps) (loss=0.59216): 100%|██████████| 7/7 [00:05<00:00,  1.18it/s]\n",
      "Training (2771 / 18000 Steps) (loss=0.57895): 100%|██████████| 7/7 [00:05<00:00,  1.22it/s]\n",
      "Training (2778 / 18000 Steps) (loss=0.65856): 100%|██████████| 7/7 [00:05<00:00,  1.24it/s]\n",
      "Training (2785 / 18000 Steps) (loss=0.61219): 100%|██████████| 7/7 [00:05<00:00,  1.26it/s]\n",
      "Training (2792 / 18000 Steps) (loss=0.54335): 100%|██████████| 7/7 [00:05<00:00,  1.27it/s]\n",
      "Training (2799 / 18000 Steps) (loss=0.57972): 100%|██████████| 7/7 [00:05<00:00,  1.27it/s]\n",
      "Validate (2800 / 10 Steps): 100%|██████████| 2/2 [00:04<00:00,  2.41s/it]<?, ?it/s]\n",
      "Training (2800 / 18000 Steps) (loss=0.57986):  14%|█▍        | 1/7 [00:08<00:48,  8.07s/it]"
     ]
    },
    {
     "name": "stdout",
     "output_type": "stream",
     "text": [
      "Model Was Not Saved ! Current Best Avg. Dice: 0.3193293809890747 Current Avg. Dice: 0.293820321559906 Current Avg. tumor Dice: 0.2549716830253601 Current Avg. lymph Dice: 0.3326689600944519\n"
     ]
    },
    {
     "name": "stderr",
     "output_type": "stream",
     "text": [
      "Training (2806 / 18000 Steps) (loss=0.65828): 100%|██████████| 7/7 [00:10<00:00,  1.50s/it]\n",
      "Training (2813 / 18000 Steps) (loss=0.49684): 100%|██████████| 7/7 [00:05<00:00,  1.27it/s]\n",
      "Training (2820 / 18000 Steps) (loss=0.55274): 100%|██████████| 7/7 [00:05<00:00,  1.30it/s]\n",
      "Training (2827 / 18000 Steps) (loss=0.55454): 100%|██████████| 7/7 [00:05<00:00,  1.28it/s]\n",
      "Training (2834 / 18000 Steps) (loss=0.65015): 100%|██████████| 7/7 [00:05<00:00,  1.24it/s]\n",
      "Training (2841 / 18000 Steps) (loss=0.63383): 100%|██████████| 7/7 [00:05<00:00,  1.19it/s]\n",
      "Training (2848 / 18000 Steps) (loss=0.48282): 100%|██████████| 7/7 [00:05<00:00,  1.17it/s]\n",
      "Training (2855 / 18000 Steps) (loss=0.63828): 100%|██████████| 7/7 [00:05<00:00,  1.28it/s]\n",
      "Training (2862 / 18000 Steps) (loss=0.62629): 100%|██████████| 7/7 [00:05<00:00,  1.24it/s]\n",
      "Training (2869 / 18000 Steps) (loss=0.58322): 100%|██████████| 7/7 [00:05<00:00,  1.29it/s]\n",
      "Training (2876 / 18000 Steps) (loss=0.51249): 100%|██████████| 7/7 [00:05<00:00,  1.24it/s]\n",
      "Training (2883 / 18000 Steps) (loss=0.64017): 100%|██████████| 7/7 [00:05<00:00,  1.24it/s]\n",
      "Training (2890 / 18000 Steps) (loss=0.57123): 100%|██████████| 7/7 [00:05<00:00,  1.26it/s]\n",
      "Training (2897 / 18000 Steps) (loss=0.53870): 100%|██████████| 7/7 [00:05<00:00,  1.24it/s]\n",
      "Validate (2898 / 10 Steps): 100%|██████████| 2/2 [00:04<00:00,  2.16s/it]<00:07,  1.51s/it]\n",
      "Training (2900 / 18000 Steps) (loss=0.60387):  43%|████▎     | 3/7 [00:08<00:11,  2.99s/it]"
     ]
    },
    {
     "name": "stdout",
     "output_type": "stream",
     "text": [
      "Model Was Not Saved ! Current Best Avg. Dice: 0.3193293809890747 Current Avg. Dice: 0.25129246711730957 Current Avg. tumor Dice: 0.2464606612920761 Current Avg. lymph Dice: 0.2561243176460266\n"
     ]
    },
    {
     "name": "stderr",
     "output_type": "stream",
     "text": [
      "Training (2904 / 18000 Steps) (loss=0.57451): 100%|██████████| 7/7 [00:09<00:00,  1.40s/it]\n",
      "Training (2911 / 18000 Steps) (loss=0.61617): 100%|██████████| 7/7 [00:05<00:00,  1.21it/s]\n",
      "Training (2918 / 18000 Steps) (loss=0.60391): 100%|██████████| 7/7 [00:05<00:00,  1.24it/s]\n",
      "Training (2925 / 18000 Steps) (loss=0.66468): 100%|██████████| 7/7 [00:05<00:00,  1.25it/s]\n",
      "Training (2932 / 18000 Steps) (loss=0.56153): 100%|██████████| 7/7 [00:05<00:00,  1.25it/s]\n",
      "Training (2939 / 18000 Steps) (loss=0.52002): 100%|██████████| 7/7 [00:05<00:00,  1.32it/s]\n",
      "Training (2946 / 18000 Steps) (loss=0.63717): 100%|██████████| 7/7 [00:05<00:00,  1.30it/s]\n",
      "Training (2953 / 18000 Steps) (loss=0.53357): 100%|██████████| 7/7 [00:05<00:00,  1.27it/s]\n",
      "Training (2960 / 18000 Steps) (loss=0.53775): 100%|██████████| 7/7 [00:05<00:00,  1.20it/s]\n",
      "Training (2967 / 18000 Steps) (loss=0.65976): 100%|██████████| 7/7 [00:05<00:00,  1.24it/s]\n",
      "Training (2974 / 18000 Steps) (loss=0.65784): 100%|██████████| 7/7 [00:05<00:00,  1.23it/s]\n",
      "Training (2981 / 18000 Steps) (loss=0.57226): 100%|██████████| 7/7 [00:05<00:00,  1.22it/s]\n",
      "Training (2988 / 18000 Steps) (loss=0.66512): 100%|██████████| 7/7 [00:05<00:00,  1.27it/s]\n",
      "Training (2995 / 18000 Steps) (loss=0.50938): 100%|██████████| 7/7 [00:05<00:00,  1.30it/s]\n",
      "Validate (2996 / 10 Steps): 100%|██████████| 2/2 [00:04<00:00,  2.28s/it]<00:02,  1.17it/s]\n",
      "Training (3000 / 18000 Steps) (loss=0.63339):  71%|███████▏  | 5/7 [00:09<00:04,  2.35s/it]"
     ]
    },
    {
     "name": "stdout",
     "output_type": "stream",
     "text": [
      "Model Was Not Saved ! Current Best Avg. Dice: 0.3193293809890747 Current Avg. Dice: 0.2749623656272888 Current Avg. tumor Dice: 0.2501853108406067 Current Avg. lymph Dice: 0.2997394800186157\n"
     ]
    },
    {
     "name": "stderr",
     "output_type": "stream",
     "text": [
      "Training (3002 / 18000 Steps) (loss=0.68022): 100%|██████████| 7/7 [00:10<00:00,  1.52s/it]\n",
      "Training (3009 / 18000 Steps) (loss=0.60373): 100%|██████████| 7/7 [00:05<00:00,  1.22it/s]\n",
      "Training (3016 / 18000 Steps) (loss=0.60427): 100%|██████████| 7/7 [00:05<00:00,  1.27it/s]\n",
      "Training (3023 / 18000 Steps) (loss=0.63589): 100%|██████████| 7/7 [00:05<00:00,  1.30it/s]\n",
      "Training (3030 / 18000 Steps) (loss=0.54372): 100%|██████████| 7/7 [00:05<00:00,  1.27it/s]\n",
      "Training (3037 / 18000 Steps) (loss=0.59770): 100%|██████████| 7/7 [00:05<00:00,  1.30it/s]\n",
      "Training (3044 / 18000 Steps) (loss=0.58360): 100%|██████████| 7/7 [00:05<00:00,  1.26it/s]\n",
      "Training (3051 / 18000 Steps) (loss=0.64742): 100%|██████████| 7/7 [00:05<00:00,  1.21it/s]\n",
      "Training (3058 / 18000 Steps) (loss=0.58327): 100%|██████████| 7/7 [00:05<00:00,  1.27it/s]\n",
      "Training (3065 / 18000 Steps) (loss=0.58667): 100%|██████████| 7/7 [00:05<00:00,  1.26it/s]\n",
      "Training (3072 / 18000 Steps) (loss=0.53692): 100%|██████████| 7/7 [00:05<00:00,  1.24it/s]\n",
      "Training (3079 / 18000 Steps) (loss=0.64093): 100%|██████████| 7/7 [00:05<00:00,  1.25it/s]\n",
      "Training (3086 / 18000 Steps) (loss=0.51890): 100%|██████████| 7/7 [00:05<00:00,  1.23it/s]\n",
      "Training (3093 / 18000 Steps) (loss=0.45831): 100%|██████████| 7/7 [00:05<00:00,  1.31it/s]\n",
      "Validate (3094 / 10 Steps): 100%|██████████| 2/2 [00:04<00:00,  2.19s/it]<00:00,  1.79it/s]\n",
      "Training (3100 / 18000 Steps) (loss=0.51452): 100%|██████████| 7/7 [00:09<00:00,  1.40s/it]\n"
     ]
    },
    {
     "name": "stdout",
     "output_type": "stream",
     "text": [
      "Model Was Not Saved ! Current Best Avg. Dice: 0.3193293809890747 Current Avg. Dice: 0.28864598274230957 Current Avg. tumor Dice: 0.275517076253891 Current Avg. lymph Dice: 0.30177488923072815\n"
     ]
    },
    {
     "name": "stderr",
     "output_type": "stream",
     "text": [
      "Training (3107 / 18000 Steps) (loss=0.53809): 100%|██████████| 7/7 [00:05<00:00,  1.17it/s]\n",
      "Training (3114 / 18000 Steps) (loss=0.63693): 100%|██████████| 7/7 [00:05<00:00,  1.24it/s]\n",
      "Training (3121 / 18000 Steps) (loss=0.48384): 100%|██████████| 7/7 [00:05<00:00,  1.23it/s]\n",
      "Training (3128 / 18000 Steps) (loss=0.59533): 100%|██████████| 7/7 [00:05<00:00,  1.21it/s]\n",
      "Training (3135 / 18000 Steps) (loss=0.58059): 100%|██████████| 7/7 [00:05<00:00,  1.29it/s]\n",
      "Training (3142 / 18000 Steps) (loss=0.60914): 100%|██████████| 7/7 [00:05<00:00,  1.28it/s]\n",
      "Training (3149 / 18000 Steps) (loss=0.61552): 100%|██████████| 7/7 [00:05<00:00,  1.29it/s]\n",
      "Training (3156 / 18000 Steps) (loss=0.57450): 100%|██████████| 7/7 [00:05<00:00,  1.25it/s]\n",
      "Training (3163 / 18000 Steps) (loss=0.60668): 100%|██████████| 7/7 [00:05<00:00,  1.24it/s]\n",
      "Training (3170 / 18000 Steps) (loss=0.64508): 100%|██████████| 7/7 [00:05<00:00,  1.24it/s]\n",
      "Training (3177 / 18000 Steps) (loss=0.68644): 100%|██████████| 7/7 [00:05<00:00,  1.26it/s]\n",
      "Training (3184 / 18000 Steps) (loss=0.62677): 100%|██████████| 7/7 [00:05<00:00,  1.30it/s]\n",
      "Training (3191 / 18000 Steps) (loss=0.63120): 100%|██████████| 7/7 [00:05<00:00,  1.25it/s]\n",
      "Training (3198 / 18000 Steps) (loss=0.60933): 100%|██████████| 7/7 [00:05<00:00,  1.20it/s]\n",
      "Validate (3199 / 10 Steps): 100%|██████████| 2/2 [00:04<00:00,  2.27s/it]<00:18,  3.17s/it]\n",
      "Training (3200 / 18000 Steps) (loss=0.55801):  29%|██▊       | 2/7 [00:08<00:21,  4.27s/it]"
     ]
    },
    {
     "name": "stdout",
     "output_type": "stream",
     "text": [
      "Model Was Not Saved ! Current Best Avg. Dice: 0.3193293809890747 Current Avg. Dice: 0.2740131914615631 Current Avg. tumor Dice: 0.24568885564804077 Current Avg. lymph Dice: 0.30233752727508545\n"
     ]
    },
    {
     "name": "stderr",
     "output_type": "stream",
     "text": [
      "Training (3205 / 18000 Steps) (loss=0.60030): 100%|██████████| 7/7 [00:10<00:00,  1.46s/it]\n",
      "Training (3212 / 18000 Steps) (loss=0.59245): 100%|██████████| 7/7 [00:05<00:00,  1.19it/s]\n",
      "Training (3219 / 18000 Steps) (loss=0.59438): 100%|██████████| 7/7 [00:05<00:00,  1.24it/s]\n",
      "Training (3226 / 18000 Steps) (loss=0.55747): 100%|██████████| 7/7 [00:05<00:00,  1.27it/s]\n",
      "Training (3233 / 18000 Steps) (loss=0.50005): 100%|██████████| 7/7 [00:05<00:00,  1.30it/s]\n",
      "Training (3240 / 18000 Steps) (loss=0.50971): 100%|██████████| 7/7 [00:05<00:00,  1.29it/s]\n",
      "Training (3247 / 18000 Steps) (loss=0.59643): 100%|██████████| 7/7 [00:05<00:00,  1.22it/s]\n",
      "Training (3254 / 18000 Steps) (loss=0.48373): 100%|██████████| 7/7 [00:05<00:00,  1.21it/s]\n",
      "Training (3261 / 18000 Steps) (loss=0.62897): 100%|██████████| 7/7 [00:05<00:00,  1.23it/s]\n",
      "Training (3268 / 18000 Steps) (loss=0.62051): 100%|██████████| 7/7 [00:05<00:00,  1.25it/s]\n",
      "Training (3275 / 18000 Steps) (loss=0.61899): 100%|██████████| 7/7 [00:05<00:00,  1.28it/s]\n",
      "Training (3282 / 18000 Steps) (loss=0.54414): 100%|██████████| 7/7 [00:05<00:00,  1.31it/s]\n",
      "Training (3289 / 18000 Steps) (loss=0.59242): 100%|██████████| 7/7 [00:05<00:00,  1.25it/s]\n",
      "Training (3296 / 18000 Steps) (loss=0.50557): 100%|██████████| 7/7 [00:05<00:00,  1.21it/s]\n",
      "Validate (3297 / 10 Steps): 100%|██████████| 2/2 [00:04<00:00,  2.27s/it]<00:04,  1.05s/it]\n",
      "Training (3300 / 18000 Steps) (loss=0.47247):  57%|█████▋    | 4/7 [00:09<00:07,  2.62s/it]"
     ]
    },
    {
     "name": "stdout",
     "output_type": "stream",
     "text": [
      "Model Was Not Saved ! Current Best Avg. Dice: 0.3193293809890747 Current Avg. Dice: 0.305363267660141 Current Avg. tumor Dice: 0.29009053111076355 Current Avg. lymph Dice: 0.32063597440719604\n"
     ]
    },
    {
     "name": "stderr",
     "output_type": "stream",
     "text": [
      "Training (3303 / 18000 Steps) (loss=0.49080): 100%|██████████| 7/7 [00:10<00:00,  1.47s/it]\n",
      "Training (3310 / 18000 Steps) (loss=0.50766): 100%|██████████| 7/7 [00:05<00:00,  1.24it/s]\n",
      "Training (3317 / 18000 Steps) (loss=0.51419): 100%|██████████| 7/7 [00:05<00:00,  1.22it/s]\n",
      "Training (3324 / 18000 Steps) (loss=0.62468): 100%|██████████| 7/7 [00:05<00:00,  1.28it/s]\n",
      "Training (3331 / 18000 Steps) (loss=0.53140): 100%|██████████| 7/7 [00:05<00:00,  1.29it/s]\n",
      "Training (3338 / 18000 Steps) (loss=0.59910): 100%|██████████| 7/7 [00:05<00:00,  1.19it/s]\n",
      "Training (3345 / 18000 Steps) (loss=0.66141): 100%|██████████| 7/7 [00:05<00:00,  1.26it/s]\n",
      "Training (3352 / 18000 Steps) (loss=0.60080): 100%|██████████| 7/7 [00:05<00:00,  1.28it/s]\n",
      "Training (3359 / 18000 Steps) (loss=0.49859): 100%|██████████| 7/7 [00:05<00:00,  1.28it/s]\n",
      "Training (3366 / 18000 Steps) (loss=0.63819): 100%|██████████| 7/7 [00:05<00:00,  1.20it/s]\n",
      "Training (3373 / 18000 Steps) (loss=0.65281): 100%|██████████| 7/7 [00:05<00:00,  1.17it/s]\n",
      "Training (3380 / 18000 Steps) (loss=0.59186): 100%|██████████| 7/7 [00:05<00:00,  1.23it/s]\n",
      "Training (3387 / 18000 Steps) (loss=0.50264): 100%|██████████| 7/7 [00:05<00:00,  1.24it/s]\n",
      "Training (3394 / 18000 Steps) (loss=0.58424): 100%|██████████| 7/7 [00:05<00:00,  1.24it/s]\n",
      "Validate (3395 / 10 Steps): 100%|██████████| 2/2 [00:04<00:00,  2.29s/it]<00:01,  1.54it/s]\n",
      "Training (3400 / 18000 Steps) (loss=0.55625):  86%|████████▌ | 6/7 [00:09<00:02,  2.14s/it]"
     ]
    },
    {
     "name": "stdout",
     "output_type": "stream",
     "text": [
      "Model Was Not Saved ! Current Best Avg. Dice: 0.3193293809890747 Current Avg. Dice: 0.30608537793159485 Current Avg. tumor Dice: 0.2648608088493347 Current Avg. lymph Dice: 0.347309947013855\n"
     ]
    },
    {
     "name": "stderr",
     "output_type": "stream",
     "text": [
      "Training (3401 / 18000 Steps) (loss=0.60102): 100%|██████████| 7/7 [00:10<00:00,  1.46s/it]\n",
      "Training (3408 / 18000 Steps) (loss=0.51275): 100%|██████████| 7/7 [00:05<00:00,  1.30it/s]\n",
      "Training (3415 / 18000 Steps) (loss=0.51362): 100%|██████████| 7/7 [00:06<00:00,  1.15it/s]\n",
      "Training (3422 / 18000 Steps) (loss=0.46169): 100%|██████████| 7/7 [00:06<00:00,  1.14it/s]\n",
      "Training (3429 / 18000 Steps) (loss=0.66517): 100%|██████████| 7/7 [00:05<00:00,  1.28it/s]\n",
      "Training (3436 / 18000 Steps) (loss=0.60476): 100%|██████████| 7/7 [00:05<00:00,  1.20it/s]\n",
      "Training (3443 / 18000 Steps) (loss=0.59512): 100%|██████████| 7/7 [00:05<00:00,  1.22it/s]\n",
      "Training (3450 / 18000 Steps) (loss=0.65752): 100%|██████████| 7/7 [00:05<00:00,  1.25it/s]\n",
      "Training (3457 / 18000 Steps) (loss=0.43873): 100%|██████████| 7/7 [00:06<00:00,  1.17it/s]\n",
      "Training (3464 / 18000 Steps) (loss=0.56632): 100%|██████████| 7/7 [00:05<00:00,  1.22it/s]\n",
      "Training (3471 / 18000 Steps) (loss=0.52241): 100%|██████████| 7/7 [00:05<00:00,  1.26it/s]\n",
      "Training (3478 / 18000 Steps) (loss=0.61287): 100%|██████████| 7/7 [00:05<00:00,  1.23it/s]\n",
      "Training (3485 / 18000 Steps) (loss=0.54157): 100%|██████████| 7/7 [00:05<00:00,  1.29it/s]\n",
      "Training (3492 / 18000 Steps) (loss=0.49913): 100%|██████████| 7/7 [00:05<00:00,  1.23it/s]\n",
      "Training (3499 / 18000 Steps) (loss=0.55647): 100%|██████████| 7/7 [00:05<00:00,  1.26it/s]\n",
      "Validate (3500 / 10 Steps): 100%|██████████| 2/2 [00:04<00:00,  2.25s/it]<?, ?it/s]\n",
      "Training (3500 / 18000 Steps) (loss=0.44251):  14%|█▍        | 1/7 [00:08<00:48,  8.12s/it]"
     ]
    },
    {
     "name": "stdout",
     "output_type": "stream",
     "text": [
      "Model Was Not Saved ! Current Best Avg. Dice: 0.3193293809890747 Current Avg. Dice: 0.28897425532341003 Current Avg. tumor Dice: 0.2790136933326721 Current Avg. lymph Dice: 0.29893481731414795\n"
     ]
    },
    {
     "name": "stderr",
     "output_type": "stream",
     "text": [
      "Training (3506 / 18000 Steps) (loss=0.50945): 100%|██████████| 7/7 [00:10<00:00,  1.50s/it]\n",
      "Training (3513 / 18000 Steps) (loss=0.64475): 100%|██████████| 7/7 [00:05<00:00,  1.20it/s]\n",
      "Training (3520 / 18000 Steps) (loss=0.72234): 100%|██████████| 7/7 [00:05<00:00,  1.27it/s]\n",
      "Training (3527 / 18000 Steps) (loss=0.50082): 100%|██████████| 7/7 [00:05<00:00,  1.23it/s]\n",
      "Training (3534 / 18000 Steps) (loss=0.56737): 100%|██████████| 7/7 [00:05<00:00,  1.25it/s]\n",
      "Training (3541 / 18000 Steps) (loss=0.60964): 100%|██████████| 7/7 [00:05<00:00,  1.27it/s]\n",
      "Training (3548 / 18000 Steps) (loss=0.41450): 100%|██████████| 7/7 [00:05<00:00,  1.23it/s]\n",
      "Training (3555 / 18000 Steps) (loss=0.56948): 100%|██████████| 7/7 [00:05<00:00,  1.30it/s]\n",
      "Training (3562 / 18000 Steps) (loss=0.53378): 100%|██████████| 7/7 [00:05<00:00,  1.28it/s]\n",
      "Training (3569 / 18000 Steps) (loss=0.50809): 100%|██████████| 7/7 [00:05<00:00,  1.30it/s]\n",
      "Training (3576 / 18000 Steps) (loss=0.53158): 100%|██████████| 7/7 [00:05<00:00,  1.17it/s]\n",
      "Training (3583 / 18000 Steps) (loss=0.62442): 100%|██████████| 7/7 [00:05<00:00,  1.19it/s]\n",
      "Training (3590 / 18000 Steps) (loss=0.44113): 100%|██████████| 7/7 [00:05<00:00,  1.21it/s]\n",
      "Training (3597 / 18000 Steps) (loss=0.68379): 100%|██████████| 7/7 [00:05<00:00,  1.24it/s]\n",
      "Validate (3598 / 10 Steps): 100%|██████████| 2/2 [00:04<00:00,  2.20s/it]<00:07,  1.48s/it]\n",
      "Training (3600 / 18000 Steps) (loss=0.49743):  43%|████▎     | 3/7 [00:08<00:12,  3.02s/it]"
     ]
    },
    {
     "name": "stdout",
     "output_type": "stream",
     "text": [
      "Model Was Not Saved ! Current Best Avg. Dice: 0.3193293809890747 Current Avg. Dice: 0.26942723989486694 Current Avg. tumor Dice: 0.21286100149154663 Current Avg. lymph Dice: 0.32599347829818726\n"
     ]
    },
    {
     "name": "stderr",
     "output_type": "stream",
     "text": [
      "Training (3604 / 18000 Steps) (loss=0.62775): 100%|██████████| 7/7 [00:09<00:00,  1.40s/it]\n",
      "Training (3611 / 18000 Steps) (loss=0.50998): 100%|██████████| 7/7 [00:05<00:00,  1.20it/s]\n",
      "Training (3618 / 18000 Steps) (loss=0.34271): 100%|██████████| 7/7 [00:05<00:00,  1.20it/s]\n",
      "Training (3625 / 18000 Steps) (loss=0.47932): 100%|██████████| 7/7 [00:06<00:00,  1.16it/s]\n",
      "Training (3632 / 18000 Steps) (loss=0.66916): 100%|██████████| 7/7 [00:05<00:00,  1.25it/s]\n",
      "Training (3639 / 18000 Steps) (loss=0.62131): 100%|██████████| 7/7 [00:05<00:00,  1.26it/s]\n",
      "Training (3646 / 18000 Steps) (loss=0.55305): 100%|██████████| 7/7 [00:05<00:00,  1.21it/s]\n",
      "Training (3653 / 18000 Steps) (loss=0.54242): 100%|██████████| 7/7 [00:05<00:00,  1.22it/s]\n",
      "Training (3660 / 18000 Steps) (loss=0.65936): 100%|██████████| 7/7 [00:05<00:00,  1.19it/s]\n",
      "Training (3667 / 18000 Steps) (loss=0.46194): 100%|██████████| 7/7 [00:06<00:00,  1.14it/s]\n",
      "Training (3674 / 18000 Steps) (loss=0.58065): 100%|██████████| 7/7 [00:05<00:00,  1.32it/s]\n",
      "Training (3681 / 18000 Steps) (loss=0.62195): 100%|██████████| 7/7 [00:05<00:00,  1.26it/s]\n",
      "Training (3688 / 18000 Steps) (loss=0.44723): 100%|██████████| 7/7 [00:05<00:00,  1.26it/s]\n",
      "Training (3695 / 18000 Steps) (loss=0.44288): 100%|██████████| 7/7 [00:05<00:00,  1.30it/s]\n",
      "Validate (3696 / 10 Steps): 100%|██████████| 2/2 [00:04<00:00,  2.28s/it]<00:02,  1.18it/s]\n",
      "Training (3700 / 18000 Steps) (loss=0.51375):  71%|███████▏  | 5/7 [00:09<00:04,  2.35s/it]"
     ]
    },
    {
     "name": "stdout",
     "output_type": "stream",
     "text": [
      "Model Was Not Saved ! Current Best Avg. Dice: 0.3193293809890747 Current Avg. Dice: 0.3165990114212036 Current Avg. tumor Dice: 0.3149959444999695 Current Avg. lymph Dice: 0.31820207834243774\n"
     ]
    },
    {
     "name": "stderr",
     "output_type": "stream",
     "text": [
      "Training (3702 / 18000 Steps) (loss=0.61212): 100%|██████████| 7/7 [00:10<00:00,  1.51s/it]\n",
      "Training (3709 / 18000 Steps) (loss=0.51914): 100%|██████████| 7/7 [00:05<00:00,  1.27it/s]\n",
      "Training (3716 / 18000 Steps) (loss=0.58029): 100%|██████████| 7/7 [00:05<00:00,  1.23it/s]\n",
      "Training (3723 / 18000 Steps) (loss=0.55903): 100%|██████████| 7/7 [00:05<00:00,  1.33it/s]\n",
      "Training (3730 / 18000 Steps) (loss=0.53459): 100%|██████████| 7/7 [00:05<00:00,  1.21it/s]\n",
      "Training (3737 / 18000 Steps) (loss=0.57770): 100%|██████████| 7/7 [00:05<00:00,  1.21it/s]\n",
      "Training (3744 / 18000 Steps) (loss=0.56938): 100%|██████████| 7/7 [00:05<00:00,  1.24it/s]\n",
      "Training (3751 / 18000 Steps) (loss=0.57068): 100%|██████████| 7/7 [00:05<00:00,  1.20it/s]\n",
      "Training (3758 / 18000 Steps) (loss=0.60793): 100%|██████████| 7/7 [00:05<00:00,  1.23it/s]\n",
      "Training (3765 / 18000 Steps) (loss=0.68294): 100%|██████████| 7/7 [00:05<00:00,  1.17it/s]\n",
      "Training (3772 / 18000 Steps) (loss=0.40876): 100%|██████████| 7/7 [00:05<00:00,  1.29it/s]\n",
      "Training (3779 / 18000 Steps) (loss=0.49858): 100%|██████████| 7/7 [00:05<00:00,  1.32it/s]\n",
      "Training (3786 / 18000 Steps) (loss=0.62664): 100%|██████████| 7/7 [00:05<00:00,  1.23it/s]\n",
      "Training (3793 / 18000 Steps) (loss=0.62996): 100%|██████████| 7/7 [00:05<00:00,  1.22it/s]\n",
      "Validate (3794 / 10 Steps): 100%|██████████| 2/2 [00:04<00:00,  2.20s/it]<00:00,  1.77it/s]\n",
      "Training (3800 / 18000 Steps) (loss=0.57672): 100%|██████████| 7/7 [00:09<00:00,  1.42s/it]\n"
     ]
    },
    {
     "name": "stdout",
     "output_type": "stream",
     "text": [
      "Model Was Not Saved ! Current Best Avg. Dice: 0.3193293809890747 Current Avg. Dice: 0.2904706597328186 Current Avg. tumor Dice: 0.27162811160087585 Current Avg. lymph Dice: 0.30931323766708374\n"
     ]
    },
    {
     "name": "stderr",
     "output_type": "stream",
     "text": [
      "Training (3807 / 18000 Steps) (loss=0.55482): 100%|██████████| 7/7 [00:05<00:00,  1.31it/s]\n",
      "Training (3814 / 18000 Steps) (loss=0.42486): 100%|██████████| 7/7 [00:05<00:00,  1.29it/s]\n",
      "Training (3821 / 18000 Steps) (loss=0.52825): 100%|██████████| 7/7 [00:05<00:00,  1.17it/s]\n",
      "Training (3828 / 18000 Steps) (loss=0.64431): 100%|██████████| 7/7 [00:05<00:00,  1.28it/s]\n",
      "Training (3835 / 18000 Steps) (loss=0.57836): 100%|██████████| 7/7 [00:05<00:00,  1.21it/s]\n",
      "Training (3842 / 18000 Steps) (loss=0.58611): 100%|██████████| 7/7 [00:05<00:00,  1.18it/s]\n",
      "Training (3849 / 18000 Steps) (loss=0.61592): 100%|██████████| 7/7 [00:05<00:00,  1.31it/s]\n",
      "Training (3856 / 18000 Steps) (loss=0.56960): 100%|██████████| 7/7 [00:05<00:00,  1.27it/s]\n",
      "Training (3863 / 18000 Steps) (loss=0.60661): 100%|██████████| 7/7 [00:05<00:00,  1.19it/s]\n",
      "Training (3870 / 18000 Steps) (loss=0.55908): 100%|██████████| 7/7 [00:05<00:00,  1.29it/s]\n",
      "Training (3877 / 18000 Steps) (loss=0.45594): 100%|██████████| 7/7 [00:05<00:00,  1.19it/s]\n",
      "Training (3884 / 18000 Steps) (loss=0.58100): 100%|██████████| 7/7 [00:05<00:00,  1.25it/s]\n",
      "Training (3891 / 18000 Steps) (loss=0.58832): 100%|██████████| 7/7 [00:05<00:00,  1.31it/s]\n",
      "Training (3898 / 18000 Steps) (loss=0.42359): 100%|██████████| 7/7 [00:05<00:00,  1.22it/s]\n",
      "Validate (3899 / 10 Steps): 100%|██████████| 2/2 [00:04<00:00,  2.33s/it]<00:20,  3.36s/it]\n",
      "Training (3900 / 18000 Steps) (loss=0.46198):  29%|██▊       | 2/7 [00:08<00:22,  4.40s/it]"
     ]
    },
    {
     "name": "stdout",
     "output_type": "stream",
     "text": [
      "Model Was Not Saved ! Current Best Avg. Dice: 0.3193293809890747 Current Avg. Dice: 0.26383543014526367 Current Avg. tumor Dice: 0.2096622735261917 Current Avg. lymph Dice: 0.3180086016654968\n"
     ]
    },
    {
     "name": "stderr",
     "output_type": "stream",
     "text": [
      "Training (3905 / 18000 Steps) (loss=0.65653): 100%|██████████| 7/7 [00:10<00:00,  1.50s/it]\n",
      "Training (3912 / 18000 Steps) (loss=0.55364): 100%|██████████| 7/7 [00:05<00:00,  1.17it/s]\n",
      "Training (3919 / 18000 Steps) (loss=0.52568): 100%|██████████| 7/7 [00:05<00:00,  1.24it/s]\n",
      "Training (3926 / 18000 Steps) (loss=0.49177): 100%|██████████| 7/7 [00:05<00:00,  1.29it/s]\n",
      "Training (3933 / 18000 Steps) (loss=0.54003): 100%|██████████| 7/7 [00:05<00:00,  1.23it/s]\n",
      "Training (3940 / 18000 Steps) (loss=0.63690): 100%|██████████| 7/7 [00:05<00:00,  1.29it/s]\n",
      "Training (3947 / 18000 Steps) (loss=0.47712): 100%|██████████| 7/7 [00:05<00:00,  1.22it/s]\n",
      "Training (3954 / 18000 Steps) (loss=0.64142): 100%|██████████| 7/7 [00:05<00:00,  1.22it/s]\n",
      "Training (3961 / 18000 Steps) (loss=0.57665): 100%|██████████| 7/7 [00:05<00:00,  1.21it/s]\n",
      "Training (3968 / 18000 Steps) (loss=0.53357): 100%|██████████| 7/7 [00:05<00:00,  1.31it/s]\n",
      "Training (3975 / 18000 Steps) (loss=0.41923): 100%|██████████| 7/7 [00:05<00:00,  1.25it/s]\n",
      "Training (3982 / 18000 Steps) (loss=0.64957): 100%|██████████| 7/7 [00:05<00:00,  1.26it/s]\n",
      "Training (3989 / 18000 Steps) (loss=0.54398): 100%|██████████| 7/7 [00:05<00:00,  1.32it/s]\n",
      "Training (3996 / 18000 Steps) (loss=0.33314): 100%|██████████| 7/7 [00:05<00:00,  1.27it/s]\n",
      "Validate (3997 / 10 Steps): 100%|██████████| 2/2 [00:04<00:00,  2.17s/it]<00:04,  1.07s/it]\n",
      "Training (4000 / 18000 Steps) (loss=0.49628):  57%|█████▋    | 4/7 [00:08<00:07,  2.54s/it]"
     ]
    },
    {
     "name": "stdout",
     "output_type": "stream",
     "text": [
      "Model Was Not Saved ! Current Best Avg. Dice: 0.3193293809890747 Current Avg. Dice: 0.30314359068870544 Current Avg. tumor Dice: 0.27064573764801025 Current Avg. lymph Dice: 0.33564144372940063\n"
     ]
    },
    {
     "name": "stderr",
     "output_type": "stream",
     "text": [
      "Training (4003 / 18000 Steps) (loss=0.57619): 100%|██████████| 7/7 [00:10<00:00,  1.46s/it]\n",
      "Training (4010 / 18000 Steps) (loss=0.59285): 100%|██████████| 7/7 [00:05<00:00,  1.26it/s]\n",
      "Training (4017 / 18000 Steps) (loss=0.45307): 100%|██████████| 7/7 [00:05<00:00,  1.22it/s]\n",
      "Training (4024 / 18000 Steps) (loss=0.62776): 100%|██████████| 7/7 [00:05<00:00,  1.23it/s]\n",
      "Training (4031 / 18000 Steps) (loss=0.48326): 100%|██████████| 7/7 [00:05<00:00,  1.21it/s]\n",
      "Training (4038 / 18000 Steps) (loss=0.69641): 100%|██████████| 7/7 [00:05<00:00,  1.26it/s]\n",
      "Training (4045 / 18000 Steps) (loss=0.63644): 100%|██████████| 7/7 [00:05<00:00,  1.27it/s]\n",
      "Training (4052 / 18000 Steps) (loss=0.55574): 100%|██████████| 7/7 [00:05<00:00,  1.26it/s]\n",
      "Training (4059 / 18000 Steps) (loss=0.52746): 100%|██████████| 7/7 [00:05<00:00,  1.24it/s]\n",
      "Training (4066 / 18000 Steps) (loss=0.41794): 100%|██████████| 7/7 [00:05<00:00,  1.19it/s]\n",
      "Training (4073 / 18000 Steps) (loss=0.63364): 100%|██████████| 7/7 [00:05<00:00,  1.23it/s]\n",
      "Training (4080 / 18000 Steps) (loss=0.59276): 100%|██████████| 7/7 [00:05<00:00,  1.18it/s]\n",
      "Training (4087 / 18000 Steps) (loss=0.56467): 100%|██████████| 7/7 [00:05<00:00,  1.25it/s]\n",
      "Training (4094 / 18000 Steps) (loss=0.49505): 100%|██████████| 7/7 [00:05<00:00,  1.23it/s]\n",
      "Validate (4095 / 10 Steps): 100%|██████████| 2/2 [00:04<00:00,  2.23s/it]<00:01,  1.55it/s]\n",
      "Training (4100 / 18000 Steps) (loss=0.54429):  86%|████████▌ | 6/7 [00:09<00:02,  2.10s/it]"
     ]
    },
    {
     "name": "stdout",
     "output_type": "stream",
     "text": [
      "Model Was Not Saved ! Current Best Avg. Dice: 0.3193293809890747 Current Avg. Dice: 0.2712712287902832 Current Avg. tumor Dice: 0.24853309988975525 Current Avg. lymph Dice: 0.29400938749313354\n"
     ]
    },
    {
     "name": "stderr",
     "output_type": "stream",
     "text": [
      "Training (4101 / 18000 Steps) (loss=0.54327): 100%|██████████| 7/7 [00:10<00:00,  1.43s/it]\n",
      "Training (4108 / 18000 Steps) (loss=0.54939): 100%|██████████| 7/7 [00:05<00:00,  1.20it/s]\n",
      "Training (4115 / 18000 Steps) (loss=0.45397): 100%|██████████| 7/7 [00:05<00:00,  1.21it/s]\n",
      "Training (4122 / 18000 Steps) (loss=0.59983): 100%|██████████| 7/7 [00:05<00:00,  1.23it/s]\n",
      "Training (4129 / 18000 Steps) (loss=0.41864): 100%|██████████| 7/7 [00:05<00:00,  1.23it/s]\n",
      "Training (4136 / 18000 Steps) (loss=0.53182): 100%|██████████| 7/7 [00:05<00:00,  1.27it/s]\n",
      "Training (4143 / 18000 Steps) (loss=0.37893): 100%|██████████| 7/7 [00:05<00:00,  1.28it/s]\n",
      "Training (4150 / 18000 Steps) (loss=0.60776): 100%|██████████| 7/7 [00:05<00:00,  1.21it/s]\n",
      "Training (4157 / 18000 Steps) (loss=0.57006): 100%|██████████| 7/7 [00:05<00:00,  1.18it/s]\n",
      "Training (4164 / 18000 Steps) (loss=0.55570): 100%|██████████| 7/7 [00:05<00:00,  1.27it/s]\n",
      "Training (4171 / 18000 Steps) (loss=0.65408): 100%|██████████| 7/7 [00:05<00:00,  1.25it/s]\n",
      "Training (4178 / 18000 Steps) (loss=0.54739): 100%|██████████| 7/7 [00:05<00:00,  1.23it/s]\n",
      "Training (4185 / 18000 Steps) (loss=0.57546): 100%|██████████| 7/7 [00:05<00:00,  1.21it/s]\n",
      "Training (4192 / 18000 Steps) (loss=0.57835): 100%|██████████| 7/7 [00:05<00:00,  1.21it/s]\n",
      "Training (4199 / 18000 Steps) (loss=0.53881): 100%|██████████| 7/7 [00:05<00:00,  1.18it/s]\n",
      "Validate (4200 / 10 Steps): 100%|██████████| 2/2 [00:04<00:00,  2.22s/it]<?, ?it/s]\n",
      "Training (4200 / 18000 Steps) (loss=0.49412):  14%|█▍        | 1/7 [00:07<00:47,  7.96s/it]"
     ]
    },
    {
     "name": "stdout",
     "output_type": "stream",
     "text": [
      "Model Was Not Saved ! Current Best Avg. Dice: 0.3193293809890747 Current Avg. Dice: 0.29275965690612793 Current Avg. tumor Dice: 0.26543691754341125 Current Avg. lymph Dice: 0.32008233666419983\n"
     ]
    },
    {
     "name": "stderr",
     "output_type": "stream",
     "text": [
      "Training (4206 / 18000 Steps) (loss=0.63298): 100%|██████████| 7/7 [00:10<00:00,  1.48s/it]\n",
      "Training (4213 / 18000 Steps) (loss=0.42885): 100%|██████████| 7/7 [00:05<00:00,  1.27it/s]\n",
      "Training (4220 / 18000 Steps) (loss=0.47535): 100%|██████████| 7/7 [00:05<00:00,  1.25it/s]\n",
      "Training (4227 / 18000 Steps) (loss=0.47528): 100%|██████████| 7/7 [00:05<00:00,  1.24it/s]\n",
      "Training (4234 / 18000 Steps) (loss=0.55170): 100%|██████████| 7/7 [00:05<00:00,  1.24it/s]\n",
      "Training (4241 / 18000 Steps) (loss=0.53243): 100%|██████████| 7/7 [00:05<00:00,  1.27it/s]\n",
      "Training (4248 / 18000 Steps) (loss=0.63656): 100%|██████████| 7/7 [00:05<00:00,  1.23it/s]\n",
      "Training (4255 / 18000 Steps) (loss=0.63543): 100%|██████████| 7/7 [00:05<00:00,  1.24it/s]\n",
      "Training (4262 / 18000 Steps) (loss=0.46075): 100%|██████████| 7/7 [00:05<00:00,  1.25it/s]\n",
      "Training (4269 / 18000 Steps) (loss=0.64180): 100%|██████████| 7/7 [00:05<00:00,  1.23it/s]\n",
      "Training (4276 / 18000 Steps) (loss=0.50986): 100%|██████████| 7/7 [00:05<00:00,  1.21it/s]\n",
      "Training (4283 / 18000 Steps) (loss=0.55933): 100%|██████████| 7/7 [00:05<00:00,  1.29it/s]\n",
      "Training (4290 / 18000 Steps) (loss=0.54637): 100%|██████████| 7/7 [00:05<00:00,  1.22it/s]\n",
      "Training (4297 / 18000 Steps) (loss=0.50535): 100%|██████████| 7/7 [00:05<00:00,  1.25it/s]\n",
      "Validate (4298 / 10 Steps): 100%|██████████| 2/2 [00:04<00:00,  2.15s/it]<00:07,  1.53s/it]\n",
      "Training (4300 / 18000 Steps) (loss=0.46540):  43%|████▎     | 3/7 [00:08<00:12,  3.01s/it]"
     ]
    },
    {
     "name": "stdout",
     "output_type": "stream",
     "text": [
      "Model Was Not Saved ! Current Best Avg. Dice: 0.3193293809890747 Current Avg. Dice: 0.2859545946121216 Current Avg. tumor Dice: 0.2560093104839325 Current Avg. lymph Dice: 0.31589987874031067\n"
     ]
    },
    {
     "name": "stderr",
     "output_type": "stream",
     "text": [
      "Training (4304 / 18000 Steps) (loss=0.67559): 100%|██████████| 7/7 [00:09<00:00,  1.41s/it]\n",
      "Training (4311 / 18000 Steps) (loss=0.67734): 100%|██████████| 7/7 [00:05<00:00,  1.23it/s]\n",
      "Training (4318 / 18000 Steps) (loss=0.46340): 100%|██████████| 7/7 [00:05<00:00,  1.27it/s]\n",
      "Training (4325 / 18000 Steps) (loss=0.47938): 100%|██████████| 7/7 [00:05<00:00,  1.21it/s]\n",
      "Training (4332 / 18000 Steps) (loss=0.44202): 100%|██████████| 7/7 [00:05<00:00,  1.27it/s]\n",
      "Training (4339 / 18000 Steps) (loss=0.36936): 100%|██████████| 7/7 [00:05<00:00,  1.22it/s]\n",
      "Training (4346 / 18000 Steps) (loss=0.41059): 100%|██████████| 7/7 [00:05<00:00,  1.23it/s]\n",
      "Training (4353 / 18000 Steps) (loss=0.42116): 100%|██████████| 7/7 [00:05<00:00,  1.26it/s]\n",
      "Training (4360 / 18000 Steps) (loss=0.59694): 100%|██████████| 7/7 [00:05<00:00,  1.26it/s]\n",
      "Training (4367 / 18000 Steps) (loss=0.51502): 100%|██████████| 7/7 [00:05<00:00,  1.21it/s]\n",
      "Training (4374 / 18000 Steps) (loss=0.60544): 100%|██████████| 7/7 [00:05<00:00,  1.29it/s]\n",
      "Training (4381 / 18000 Steps) (loss=0.43753): 100%|██████████| 7/7 [00:05<00:00,  1.24it/s]\n",
      "Training (4388 / 18000 Steps) (loss=0.50440): 100%|██████████| 7/7 [00:05<00:00,  1.25it/s]\n",
      "Training (4395 / 18000 Steps) (loss=0.43071): 100%|██████████| 7/7 [00:05<00:00,  1.26it/s]\n",
      "Validate (4396 / 10 Steps): 100%|██████████| 2/2 [00:04<00:00,  2.24s/it]<00:02,  1.26it/s]\n",
      "Training (4400 / 18000 Steps) (loss=0.55378):  71%|███████▏  | 5/7 [00:09<00:04,  2.29s/it]"
     ]
    },
    {
     "name": "stdout",
     "output_type": "stream",
     "text": [
      "Model Was Not Saved ! Current Best Avg. Dice: 0.3193293809890747 Current Avg. Dice: 0.268558531999588 Current Avg. tumor Dice: 0.2527998089790344 Current Avg. lymph Dice: 0.2843172550201416\n"
     ]
    },
    {
     "name": "stderr",
     "output_type": "stream",
     "text": [
      "Training (4402 / 18000 Steps) (loss=0.37734): 100%|██████████| 7/7 [00:10<00:00,  1.45s/it]\n",
      "Training (4409 / 18000 Steps) (loss=0.44035): 100%|██████████| 7/7 [00:05<00:00,  1.28it/s]\n",
      "Training (4416 / 18000 Steps) (loss=0.59855): 100%|██████████| 7/7 [00:05<00:00,  1.24it/s]\n",
      "Training (4423 / 18000 Steps) (loss=0.66051): 100%|██████████| 7/7 [00:05<00:00,  1.29it/s]\n",
      "Training (4430 / 18000 Steps) (loss=0.50387): 100%|██████████| 7/7 [00:05<00:00,  1.25it/s]\n",
      "Training (4437 / 18000 Steps) (loss=0.58248): 100%|██████████| 7/7 [00:05<00:00,  1.25it/s]\n",
      "Training (4444 / 18000 Steps) (loss=0.56833): 100%|██████████| 7/7 [00:05<00:00,  1.26it/s]\n",
      "Training (4451 / 18000 Steps) (loss=0.56325): 100%|██████████| 7/7 [00:05<00:00,  1.30it/s]\n",
      "Training (4458 / 18000 Steps) (loss=0.54410): 100%|██████████| 7/7 [00:05<00:00,  1.27it/s]\n",
      "Training (4465 / 18000 Steps) (loss=0.45446): 100%|██████████| 7/7 [00:05<00:00,  1.21it/s]\n",
      "Training (4472 / 18000 Steps) (loss=0.44874): 100%|██████████| 7/7 [00:05<00:00,  1.24it/s]\n",
      "Training (4479 / 18000 Steps) (loss=0.41985): 100%|██████████| 7/7 [00:05<00:00,  1.22it/s]\n",
      "Training (4486 / 18000 Steps) (loss=0.59471): 100%|██████████| 7/7 [00:05<00:00,  1.19it/s]\n",
      "Training (4493 / 18000 Steps) (loss=0.50789): 100%|██████████| 7/7 [00:05<00:00,  1.25it/s]\n",
      "Validate (4494 / 10 Steps): 100%|██████████| 2/2 [00:04<00:00,  2.25s/it]<00:00,  1.73it/s]\n",
      "Training (4500 / 18000 Steps) (loss=0.32492): 100%|██████████| 7/7 [00:10<00:00,  1.46s/it]\n"
     ]
    },
    {
     "name": "stdout",
     "output_type": "stream",
     "text": [
      "Model Was Not Saved ! Current Best Avg. Dice: 0.3193293809890747 Current Avg. Dice: 0.2983151078224182 Current Avg. tumor Dice: 0.2794870138168335 Current Avg. lymph Dice: 0.3171432316303253\n"
     ]
    },
    {
     "name": "stderr",
     "output_type": "stream",
     "text": [
      "Training (4507 / 18000 Steps) (loss=0.52155): 100%|██████████| 7/7 [00:05<00:00,  1.28it/s]\n",
      "Training (4514 / 18000 Steps) (loss=0.61932): 100%|██████████| 7/7 [00:05<00:00,  1.20it/s]\n",
      "Training (4521 / 18000 Steps) (loss=0.45401): 100%|██████████| 7/7 [00:06<00:00,  1.16it/s]\n",
      "Training (4528 / 18000 Steps) (loss=0.49336): 100%|██████████| 7/7 [00:05<00:00,  1.17it/s]\n",
      "Training (4535 / 18000 Steps) (loss=0.57556): 100%|██████████| 7/7 [00:05<00:00,  1.21it/s]\n",
      "Training (4542 / 18000 Steps) (loss=0.53411): 100%|██████████| 7/7 [00:05<00:00,  1.25it/s]\n",
      "Training (4549 / 18000 Steps) (loss=0.48925): 100%|██████████| 7/7 [00:05<00:00,  1.29it/s]\n",
      "Training (4556 / 18000 Steps) (loss=0.33850): 100%|██████████| 7/7 [00:05<00:00,  1.23it/s]\n",
      "Training (4563 / 18000 Steps) (loss=0.53787): 100%|██████████| 7/7 [00:05<00:00,  1.22it/s]\n",
      "Training (4570 / 18000 Steps) (loss=0.40099): 100%|██████████| 7/7 [00:05<00:00,  1.26it/s]\n",
      "Training (4577 / 18000 Steps) (loss=0.41648): 100%|██████████| 7/7 [00:05<00:00,  1.27it/s]\n",
      "Training (4584 / 18000 Steps) (loss=0.42311): 100%|██████████| 7/7 [00:05<00:00,  1.29it/s]\n",
      "Training (4591 / 18000 Steps) (loss=0.64839): 100%|██████████| 7/7 [00:05<00:00,  1.27it/s]\n",
      "Training (4598 / 18000 Steps) (loss=0.49730): 100%|██████████| 7/7 [00:05<00:00,  1.23it/s]\n",
      "Validate (4599 / 10 Steps): 100%|██████████| 2/2 [00:04<00:00,  2.36s/it]<00:21,  3.62s/it]\n",
      "Training (4600 / 18000 Steps) (loss=0.60927):  29%|██▊       | 2/7 [00:08<00:22,  4.54s/it]"
     ]
    },
    {
     "name": "stdout",
     "output_type": "stream",
     "text": [
      "Model Was Not Saved ! Current Best Avg. Dice: 0.3193293809890747 Current Avg. Dice: 0.26611196994781494 Current Avg. tumor Dice: 0.21274344623088837 Current Avg. lymph Dice: 0.3194805085659027\n"
     ]
    },
    {
     "name": "stderr",
     "output_type": "stream",
     "text": [
      "Training (4605 / 18000 Steps) (loss=0.60921): 100%|██████████| 7/7 [00:10<00:00,  1.54s/it]\n",
      "Training (4612 / 18000 Steps) (loss=0.62677): 100%|██████████| 7/7 [00:05<00:00,  1.26it/s]\n",
      "Training (4619 / 18000 Steps) (loss=0.58674): 100%|██████████| 7/7 [00:05<00:00,  1.23it/s]\n",
      "Training (4626 / 18000 Steps) (loss=0.46415): 100%|██████████| 7/7 [00:05<00:00,  1.31it/s]\n",
      "Training (4633 / 18000 Steps) (loss=0.53501): 100%|██████████| 7/7 [00:05<00:00,  1.27it/s]\n",
      "Training (4640 / 18000 Steps) (loss=0.52529): 100%|██████████| 7/7 [00:05<00:00,  1.25it/s]\n",
      "Training (4647 / 18000 Steps) (loss=0.55464): 100%|██████████| 7/7 [00:05<00:00,  1.31it/s]\n",
      "Training (4654 / 18000 Steps) (loss=0.60074): 100%|██████████| 7/7 [00:05<00:00,  1.28it/s]\n",
      "Training (4661 / 18000 Steps) (loss=0.40647): 100%|██████████| 7/7 [00:05<00:00,  1.29it/s]\n",
      "Training (4668 / 18000 Steps) (loss=0.45157): 100%|██████████| 7/7 [00:05<00:00,  1.24it/s]\n",
      "Training (4675 / 18000 Steps) (loss=0.55097): 100%|██████████| 7/7 [00:05<00:00,  1.28it/s]\n",
      "Training (4682 / 18000 Steps) (loss=0.35459): 100%|██████████| 7/7 [00:05<00:00,  1.26it/s]\n",
      "Training (4689 / 18000 Steps) (loss=0.51355): 100%|██████████| 7/7 [00:05<00:00,  1.31it/s]\n",
      "Training (4696 / 18000 Steps) (loss=0.61626): 100%|██████████| 7/7 [00:05<00:00,  1.24it/s]\n",
      "Validate (4697 / 10 Steps): 100%|██████████| 2/2 [00:04<00:00,  2.24s/it]<00:04,  1.09s/it]\n",
      "Training (4700 / 18000 Steps) (loss=0.59015):  57%|█████▋    | 4/7 [00:09<00:07,  2.62s/it]"
     ]
    },
    {
     "name": "stdout",
     "output_type": "stream",
     "text": [
      "Model Was Not Saved ! Current Best Avg. Dice: 0.3193293809890747 Current Avg. Dice: 0.26304352283477783 Current Avg. tumor Dice: 0.22908411920070648 Current Avg. lymph Dice: 0.297002911567688\n"
     ]
    },
    {
     "name": "stderr",
     "output_type": "stream",
     "text": [
      "Training (4703 / 18000 Steps) (loss=0.37855): 100%|██████████| 7/7 [00:10<00:00,  1.49s/it]\n",
      "Training (4710 / 18000 Steps) (loss=0.41226): 100%|██████████| 7/7 [00:05<00:00,  1.29it/s]\n",
      "Training (4717 / 18000 Steps) (loss=0.56818): 100%|██████████| 7/7 [00:05<00:00,  1.23it/s]\n",
      "Training (4724 / 18000 Steps) (loss=0.34922): 100%|██████████| 7/7 [00:05<00:00,  1.22it/s]\n",
      "Training (4731 / 18000 Steps) (loss=0.54630): 100%|██████████| 7/7 [00:05<00:00,  1.28it/s]\n",
      "Training (4738 / 18000 Steps) (loss=0.63688): 100%|██████████| 7/7 [00:05<00:00,  1.28it/s]\n",
      "Training (4745 / 18000 Steps) (loss=0.51803): 100%|██████████| 7/7 [00:05<00:00,  1.25it/s]\n",
      "Training (4752 / 18000 Steps) (loss=0.38514): 100%|██████████| 7/7 [00:05<00:00,  1.28it/s]\n",
      "Training (4759 / 18000 Steps) (loss=0.51940): 100%|██████████| 7/7 [00:05<00:00,  1.23it/s]\n",
      "Training (4766 / 18000 Steps) (loss=0.49011): 100%|██████████| 7/7 [00:05<00:00,  1.25it/s]\n",
      "Training (4773 / 18000 Steps) (loss=0.43832): 100%|██████████| 7/7 [00:05<00:00,  1.28it/s]\n",
      "Training (4780 / 18000 Steps) (loss=0.60138): 100%|██████████| 7/7 [00:05<00:00,  1.24it/s]\n",
      "Training (4787 / 18000 Steps) (loss=0.47974): 100%|██████████| 7/7 [00:05<00:00,  1.21it/s]\n",
      "Training (4794 / 18000 Steps) (loss=0.49959): 100%|██████████| 7/7 [00:05<00:00,  1.23it/s]\n",
      "Validate (4795 / 10 Steps): 100%|██████████| 2/2 [00:04<00:00,  2.24s/it]<00:01,  1.53it/s]\n",
      "Training (4800 / 18000 Steps) (loss=0.55262):  86%|████████▌ | 6/7 [00:09<00:02,  2.11s/it]"
     ]
    },
    {
     "name": "stdout",
     "output_type": "stream",
     "text": [
      "Model Was Not Saved ! Current Best Avg. Dice: 0.3193293809890747 Current Avg. Dice: 0.2684694230556488 Current Avg. tumor Dice: 0.23888051509857178 Current Avg. lymph Dice: 0.29805833101272583\n"
     ]
    },
    {
     "name": "stderr",
     "output_type": "stream",
     "text": [
      "Training (4801 / 18000 Steps) (loss=0.46508): 100%|██████████| 7/7 [00:10<00:00,  1.44s/it]\n",
      "Training (4808 / 18000 Steps) (loss=0.63345): 100%|██████████| 7/7 [00:05<00:00,  1.21it/s]\n",
      "Training (4815 / 18000 Steps) (loss=0.45586): 100%|██████████| 7/7 [00:05<00:00,  1.22it/s]\n",
      "Training (4822 / 18000 Steps) (loss=0.51150): 100%|██████████| 7/7 [00:05<00:00,  1.26it/s]\n",
      "Training (4829 / 18000 Steps) (loss=0.52879): 100%|██████████| 7/7 [00:05<00:00,  1.23it/s]\n",
      "Training (4836 / 18000 Steps) (loss=0.38614): 100%|██████████| 7/7 [00:05<00:00,  1.27it/s]\n",
      "Training (4843 / 18000 Steps) (loss=0.45643): 100%|██████████| 7/7 [00:05<00:00,  1.30it/s]\n",
      "Training (4850 / 18000 Steps) (loss=0.40995): 100%|██████████| 7/7 [00:05<00:00,  1.19it/s]\n",
      "Training (4857 / 18000 Steps) (loss=0.53108): 100%|██████████| 7/7 [00:05<00:00,  1.21it/s]\n",
      "Training (4864 / 18000 Steps) (loss=0.49683): 100%|██████████| 7/7 [00:05<00:00,  1.29it/s]\n",
      "Training (4871 / 18000 Steps) (loss=0.60503): 100%|██████████| 7/7 [00:05<00:00,  1.32it/s]\n",
      "Training (4878 / 18000 Steps) (loss=0.52101): 100%|██████████| 7/7 [00:05<00:00,  1.27it/s]\n",
      "Training (4885 / 18000 Steps) (loss=0.40655): 100%|██████████| 7/7 [00:05<00:00,  1.33it/s]\n",
      "Training (4892 / 18000 Steps) (loss=0.51418): 100%|██████████| 7/7 [00:05<00:00,  1.22it/s]\n",
      "Training (4899 / 18000 Steps) (loss=0.50877): 100%|██████████| 7/7 [00:05<00:00,  1.19it/s]\n",
      "Validate (4900 / 10 Steps): 100%|██████████| 2/2 [00:04<00:00,  2.17s/it]<?, ?it/s]\n",
      "Training (4900 / 18000 Steps) (loss=0.50795):  14%|█▍        | 1/7 [00:07<00:44,  7.37s/it]"
     ]
    },
    {
     "name": "stdout",
     "output_type": "stream",
     "text": [
      "Model Was Not Saved ! Current Best Avg. Dice: 0.3193293809890747 Current Avg. Dice: 0.2947874665260315 Current Avg. tumor Dice: 0.3020971119403839 Current Avg. lymph Dice: 0.2874778211116791\n"
     ]
    },
    {
     "name": "stderr",
     "output_type": "stream",
     "text": [
      "Training (4906 / 18000 Steps) (loss=0.42070): 100%|██████████| 7/7 [00:09<00:00,  1.39s/it]\n",
      "Training (4913 / 18000 Steps) (loss=0.44664): 100%|██████████| 7/7 [00:05<00:00,  1.28it/s]\n",
      "Training (4920 / 18000 Steps) (loss=0.44467): 100%|██████████| 7/7 [00:05<00:00,  1.26it/s]\n",
      "Training (4927 / 18000 Steps) (loss=0.55507): 100%|██████████| 7/7 [00:05<00:00,  1.26it/s]\n",
      "Training (4934 / 18000 Steps) (loss=0.43801): 100%|██████████| 7/7 [00:05<00:00,  1.25it/s]\n",
      "Training (4941 / 18000 Steps) (loss=0.28299): 100%|██████████| 7/7 [00:05<00:00,  1.31it/s]\n",
      "Training (4948 / 18000 Steps) (loss=0.46579): 100%|██████████| 7/7 [00:05<00:00,  1.25it/s]\n",
      "Training (4955 / 18000 Steps) (loss=0.51609): 100%|██████████| 7/7 [00:05<00:00,  1.28it/s]\n",
      "Training (4962 / 18000 Steps) (loss=0.37740): 100%|██████████| 7/7 [00:05<00:00,  1.23it/s]\n",
      "Training (4969 / 18000 Steps) (loss=0.47068): 100%|██████████| 7/7 [00:05<00:00,  1.18it/s]\n",
      "Training (4976 / 18000 Steps) (loss=0.55139): 100%|██████████| 7/7 [00:05<00:00,  1.28it/s]\n",
      "Training (4983 / 18000 Steps) (loss=0.59610): 100%|██████████| 7/7 [00:05<00:00,  1.26it/s]\n",
      "Training (4990 / 18000 Steps) (loss=0.54915): 100%|██████████| 7/7 [00:05<00:00,  1.29it/s]\n",
      "Training (4997 / 18000 Steps) (loss=0.51091): 100%|██████████| 7/7 [00:05<00:00,  1.30it/s]\n",
      "Validate (4998 / 10 Steps): 100%|██████████| 2/2 [00:04<00:00,  2.16s/it]<00:07,  1.51s/it]\n",
      "Training (5000 / 18000 Steps) (loss=0.46278):  43%|████▎     | 3/7 [00:09<00:13,  3.38s/it]"
     ]
    },
    {
     "name": "stdout",
     "output_type": "stream",
     "text": [
      "Model Was Saved ! Current Best Avg. Dice: 0.32666751742362976 Current Avg. Dice: 0.32666751742362976 Current Avg. tumor Dice: 0.3104298412799835 Current Avg. lymph Dice: 0.342905193567276\n"
     ]
    },
    {
     "name": "stderr",
     "output_type": "stream",
     "text": [
      "Training (5004 / 18000 Steps) (loss=0.56229): 100%|██████████| 7/7 [00:10<00:00,  1.52s/it]\n",
      "Training (5011 / 18000 Steps) (loss=0.51859): 100%|██████████| 7/7 [00:05<00:00,  1.26it/s]\n",
      "Training (5018 / 18000 Steps) (loss=0.58758): 100%|██████████| 7/7 [00:05<00:00,  1.22it/s]\n",
      "Training (5025 / 18000 Steps) (loss=0.59470): 100%|██████████| 7/7 [00:05<00:00,  1.31it/s]\n",
      "Training (5032 / 18000 Steps) (loss=0.25445): 100%|██████████| 7/7 [00:05<00:00,  1.28it/s]\n",
      "Training (5039 / 18000 Steps) (loss=0.62405): 100%|██████████| 7/7 [00:05<00:00,  1.21it/s]\n",
      "Training (5046 / 18000 Steps) (loss=0.60804): 100%|██████████| 7/7 [00:05<00:00,  1.23it/s]\n",
      "Training (5053 / 18000 Steps) (loss=0.53473): 100%|██████████| 7/7 [00:06<00:00,  1.16it/s]\n",
      "Training (5060 / 18000 Steps) (loss=0.53273): 100%|██████████| 7/7 [00:05<00:00,  1.21it/s]\n",
      "Training (5067 / 18000 Steps) (loss=0.34020): 100%|██████████| 7/7 [00:05<00:00,  1.21it/s]\n",
      "Training (5074 / 18000 Steps) (loss=0.41961): 100%|██████████| 7/7 [00:05<00:00,  1.18it/s]\n",
      "Training (5081 / 18000 Steps) (loss=0.67063): 100%|██████████| 7/7 [00:05<00:00,  1.22it/s]\n",
      "Training (5088 / 18000 Steps) (loss=0.27218): 100%|██████████| 7/7 [00:05<00:00,  1.32it/s]\n",
      "Training (5095 / 18000 Steps) (loss=0.51076): 100%|██████████| 7/7 [00:05<00:00,  1.21it/s]\n",
      "Validate (5096 / 10 Steps): 100%|██████████| 2/2 [00:04<00:00,  2.24s/it]<00:02,  1.17it/s]\n",
      "Training (5100 / 18000 Steps) (loss=0.37934):  71%|███████▏  | 5/7 [00:09<00:04,  2.32s/it]"
     ]
    },
    {
     "name": "stdout",
     "output_type": "stream",
     "text": [
      "Model Was Not Saved ! Current Best Avg. Dice: 0.32666751742362976 Current Avg. Dice: 0.2872178256511688 Current Avg. tumor Dice: 0.2734787166118622 Current Avg. lymph Dice: 0.30095693469047546\n"
     ]
    },
    {
     "name": "stderr",
     "output_type": "stream",
     "text": [
      "Training (5102 / 18000 Steps) (loss=0.53183): 100%|██████████| 7/7 [00:10<00:00,  1.51s/it]\n",
      "Training (5109 / 18000 Steps) (loss=0.57265): 100%|██████████| 7/7 [00:05<00:00,  1.27it/s]\n",
      "Training (5116 / 18000 Steps) (loss=0.41983): 100%|██████████| 7/7 [00:05<00:00,  1.28it/s]\n",
      "Training (5123 / 18000 Steps) (loss=0.51393): 100%|██████████| 7/7 [00:05<00:00,  1.22it/s]\n",
      "Training (5130 / 18000 Steps) (loss=0.40070): 100%|██████████| 7/7 [00:05<00:00,  1.27it/s]\n",
      "Training (5137 / 18000 Steps) (loss=0.53075): 100%|██████████| 7/7 [00:05<00:00,  1.24it/s]\n",
      "Training (5144 / 18000 Steps) (loss=0.36218): 100%|██████████| 7/7 [00:05<00:00,  1.29it/s]\n",
      "Training (5151 / 18000 Steps) (loss=0.58218): 100%|██████████| 7/7 [00:05<00:00,  1.26it/s]\n",
      "Training (5158 / 18000 Steps) (loss=0.51770): 100%|██████████| 7/7 [00:05<00:00,  1.24it/s]\n",
      "Training (5165 / 18000 Steps) (loss=0.53295): 100%|██████████| 7/7 [00:05<00:00,  1.22it/s]\n",
      "Training (5172 / 18000 Steps) (loss=0.51095): 100%|██████████| 7/7 [00:05<00:00,  1.28it/s]\n",
      "Training (5179 / 18000 Steps) (loss=0.40896): 100%|██████████| 7/7 [00:05<00:00,  1.23it/s]\n",
      "Training (5186 / 18000 Steps) (loss=0.56935): 100%|██████████| 7/7 [00:05<00:00,  1.23it/s]\n",
      "Training (5193 / 18000 Steps) (loss=0.57164): 100%|██████████| 7/7 [00:05<00:00,  1.21it/s]\n",
      "Validate (5194 / 10 Steps): 100%|██████████| 2/2 [00:04<00:00,  2.14s/it]<00:00,  1.76it/s]\n",
      "Training (5200 / 18000 Steps) (loss=0.54179): 100%|██████████| 7/7 [00:09<00:00,  1.41s/it]\n"
     ]
    },
    {
     "name": "stdout",
     "output_type": "stream",
     "text": [
      "Model Was Not Saved ! Current Best Avg. Dice: 0.32666751742362976 Current Avg. Dice: 0.27914029359817505 Current Avg. tumor Dice: 0.2747999429702759 Current Avg. lymph Dice: 0.28348061442375183\n"
     ]
    },
    {
     "name": "stderr",
     "output_type": "stream",
     "text": [
      "Training (5207 / 18000 Steps) (loss=0.57320): 100%|██████████| 7/7 [00:05<00:00,  1.28it/s]\n",
      "Training (5214 / 18000 Steps) (loss=0.61370): 100%|██████████| 7/7 [00:05<00:00,  1.21it/s]\n",
      "Training (5221 / 18000 Steps) (loss=0.58184): 100%|██████████| 7/7 [00:05<00:00,  1.20it/s]\n",
      "Training (5228 / 18000 Steps) (loss=0.57750): 100%|██████████| 7/7 [00:05<00:00,  1.23it/s]\n",
      "Training (5235 / 18000 Steps) (loss=0.54394): 100%|██████████| 7/7 [00:05<00:00,  1.26it/s]\n",
      "Training (5242 / 18000 Steps) (loss=0.48454): 100%|██████████| 7/7 [00:05<00:00,  1.22it/s]\n",
      "Training (5249 / 18000 Steps) (loss=0.56084): 100%|██████████| 7/7 [00:05<00:00,  1.23it/s]\n",
      "Training (5256 / 18000 Steps) (loss=0.65941): 100%|██████████| 7/7 [00:05<00:00,  1.23it/s]\n",
      "Training (5263 / 18000 Steps) (loss=0.48193): 100%|██████████| 7/7 [00:06<00:00,  1.14it/s]\n",
      "Training (5270 / 18000 Steps) (loss=0.52587): 100%|██████████| 7/7 [00:05<00:00,  1.19it/s]\n",
      "Training (5277 / 18000 Steps) (loss=0.29547): 100%|██████████| 7/7 [00:05<00:00,  1.23it/s]\n",
      "Training (5284 / 18000 Steps) (loss=0.48328): 100%|██████████| 7/7 [00:05<00:00,  1.29it/s]\n",
      "Training (5291 / 18000 Steps) (loss=0.51640): 100%|██████████| 7/7 [00:05<00:00,  1.24it/s]\n",
      "Training (5298 / 18000 Steps) (loss=0.58887): 100%|██████████| 7/7 [00:05<00:00,  1.22it/s]\n",
      "Validate (5299 / 10 Steps): 100%|██████████| 2/2 [00:04<00:00,  2.22s/it]<00:20,  3.39s/it]\n",
      "Training (5300 / 18000 Steps) (loss=0.46535):  29%|██▊       | 2/7 [00:08<00:21,  4.28s/it]"
     ]
    },
    {
     "name": "stdout",
     "output_type": "stream",
     "text": [
      "Model Was Not Saved ! Current Best Avg. Dice: 0.32666751742362976 Current Avg. Dice: 0.30031853914260864 Current Avg. tumor Dice: 0.29402777552604675 Current Avg. lymph Dice: 0.30660927295684814\n"
     ]
    },
    {
     "name": "stderr",
     "output_type": "stream",
     "text": [
      "Training (5305 / 18000 Steps) (loss=0.45786): 100%|██████████| 7/7 [00:10<00:00,  1.46s/it]\n",
      "Training (5312 / 18000 Steps) (loss=0.42806): 100%|██████████| 7/7 [00:05<00:00,  1.30it/s]\n",
      "Training (5319 / 18000 Steps) (loss=0.48583): 100%|██████████| 7/7 [00:05<00:00,  1.24it/s]\n",
      "Training (5326 / 18000 Steps) (loss=0.45203): 100%|██████████| 7/7 [00:05<00:00,  1.29it/s]\n",
      "Training (5333 / 18000 Steps) (loss=0.49479): 100%|██████████| 7/7 [00:05<00:00,  1.22it/s]\n",
      "Training (5340 / 18000 Steps) (loss=0.51240): 100%|██████████| 7/7 [00:05<00:00,  1.24it/s]\n",
      "Training (5347 / 18000 Steps) (loss=0.34736): 100%|██████████| 7/7 [00:05<00:00,  1.28it/s]\n",
      "Training (5354 / 18000 Steps) (loss=0.60934): 100%|██████████| 7/7 [00:06<00:00,  1.11it/s]\n",
      "Training (5361 / 18000 Steps) (loss=0.47170): 100%|██████████| 7/7 [00:05<00:00,  1.22it/s]\n",
      "Training (5368 / 18000 Steps) (loss=0.49453): 100%|██████████| 7/7 [00:05<00:00,  1.23it/s]\n",
      "Training (5375 / 18000 Steps) (loss=0.53949): 100%|██████████| 7/7 [00:05<00:00,  1.30it/s]\n",
      "Training (5382 / 18000 Steps) (loss=0.36251): 100%|██████████| 7/7 [00:05<00:00,  1.29it/s]\n",
      "Training (5389 / 18000 Steps) (loss=0.50301): 100%|██████████| 7/7 [00:05<00:00,  1.27it/s]\n",
      "Training (5396 / 18000 Steps) (loss=0.49046): 100%|██████████| 7/7 [00:05<00:00,  1.27it/s]\n",
      "Validate (5397 / 10 Steps): 100%|██████████| 2/2 [00:04<00:00,  2.24s/it]<00:04,  1.09s/it]\n",
      "Training (5400 / 18000 Steps) (loss=0.43428):  57%|█████▋    | 4/7 [00:09<00:07,  2.61s/it]"
     ]
    },
    {
     "name": "stdout",
     "output_type": "stream",
     "text": [
      "Model Was Not Saved ! Current Best Avg. Dice: 0.32666751742362976 Current Avg. Dice: 0.26829200983047485 Current Avg. tumor Dice: 0.2807160019874573 Current Avg. lymph Dice: 0.25586801767349243\n"
     ]
    },
    {
     "name": "stderr",
     "output_type": "stream",
     "text": [
      "Training (5403 / 18000 Steps) (loss=0.58239): 100%|██████████| 7/7 [00:10<00:00,  1.48s/it]\n",
      "Training (5410 / 18000 Steps) (loss=0.48334): 100%|██████████| 7/7 [00:05<00:00,  1.28it/s]\n",
      "Training (5417 / 18000 Steps) (loss=0.55896): 100%|██████████| 7/7 [00:05<00:00,  1.20it/s]\n",
      "Training (5424 / 18000 Steps) (loss=0.68252): 100%|██████████| 7/7 [00:06<00:00,  1.16it/s]\n",
      "Training (5431 / 18000 Steps) (loss=0.58279): 100%|██████████| 7/7 [00:05<00:00,  1.21it/s]\n",
      "Training (5438 / 18000 Steps) (loss=0.40788): 100%|██████████| 7/7 [00:06<00:00,  1.15it/s]\n",
      "Training (5445 / 18000 Steps) (loss=0.53549): 100%|██████████| 7/7 [00:05<00:00,  1.26it/s]\n",
      "Training (5452 / 18000 Steps) (loss=0.52977): 100%|██████████| 7/7 [00:05<00:00,  1.25it/s]\n",
      "Training (5459 / 18000 Steps) (loss=0.42380): 100%|██████████| 7/7 [00:05<00:00,  1.23it/s]\n",
      "Training (5466 / 18000 Steps) (loss=0.51630): 100%|██████████| 7/7 [00:05<00:00,  1.18it/s]\n",
      "Training (5473 / 18000 Steps) (loss=0.46113): 100%|██████████| 7/7 [00:06<00:00,  1.12it/s]\n",
      "Training (5480 / 18000 Steps) (loss=0.41804): 100%|██████████| 7/7 [00:05<00:00,  1.20it/s]\n",
      "Training (5487 / 18000 Steps) (loss=0.57746): 100%|██████████| 7/7 [00:05<00:00,  1.22it/s]\n",
      "Training (5494 / 18000 Steps) (loss=0.28743): 100%|██████████| 7/7 [00:05<00:00,  1.19it/s]\n",
      "Validate (5495 / 10 Steps): 100%|██████████| 2/2 [00:04<00:00,  2.31s/it]<00:01,  1.52it/s]\n",
      "Training (5500 / 18000 Steps) (loss=0.56369):  86%|████████▌ | 6/7 [00:09<00:02,  2.17s/it]"
     ]
    },
    {
     "name": "stdout",
     "output_type": "stream",
     "text": [
      "Model Was Not Saved ! Current Best Avg. Dice: 0.32666751742362976 Current Avg. Dice: 0.2876344919204712 Current Avg. tumor Dice: 0.2800317406654358 Current Avg. lymph Dice: 0.2952372133731842\n"
     ]
    },
    {
     "name": "stderr",
     "output_type": "stream",
     "text": [
      "Training (5501 / 18000 Steps) (loss=0.42492): 100%|██████████| 7/7 [00:10<00:00,  1.47s/it]\n",
      "Training (5508 / 18000 Steps) (loss=0.35900): 100%|██████████| 7/7 [00:05<00:00,  1.17it/s]\n",
      "Training (5515 / 18000 Steps) (loss=0.50253): 100%|██████████| 7/7 [00:06<00:00,  1.13it/s]\n",
      "Training (5522 / 18000 Steps) (loss=0.52938): 100%|██████████| 7/7 [00:05<00:00,  1.19it/s]\n",
      "Training (5529 / 18000 Steps) (loss=0.52718): 100%|██████████| 7/7 [00:06<00:00,  1.15it/s]\n",
      "Training (5536 / 18000 Steps) (loss=0.39086): 100%|██████████| 7/7 [00:05<00:00,  1.21it/s]\n",
      "Training (5543 / 18000 Steps) (loss=0.59131): 100%|██████████| 7/7 [00:05<00:00,  1.17it/s]\n",
      "Training (5550 / 18000 Steps) (loss=0.48796): 100%|██████████| 7/7 [00:06<00:00,  1.16it/s]\n",
      "Training (5557 / 18000 Steps) (loss=0.60816): 100%|██████████| 7/7 [00:05<00:00,  1.22it/s]\n",
      "Training (5564 / 18000 Steps) (loss=0.47460): 100%|██████████| 7/7 [00:05<00:00,  1.20it/s]\n",
      "Training (5571 / 18000 Steps) (loss=0.58947): 100%|██████████| 7/7 [00:05<00:00,  1.23it/s]\n",
      "Training (5578 / 18000 Steps) (loss=0.44603): 100%|██████████| 7/7 [00:05<00:00,  1.21it/s]\n",
      "Training (5585 / 18000 Steps) (loss=0.58907): 100%|██████████| 7/7 [00:05<00:00,  1.21it/s]\n",
      "Training (5592 / 18000 Steps) (loss=0.43946): 100%|██████████| 7/7 [00:05<00:00,  1.24it/s]\n",
      "Training (5599 / 18000 Steps) (loss=0.46425): 100%|██████████| 7/7 [00:05<00:00,  1.23it/s]\n",
      "Validate (5600 / 10 Steps): 100%|██████████| 2/2 [00:04<00:00,  2.25s/it]<?, ?it/s]\n",
      "Training (5600 / 18000 Steps) (loss=0.39017):  14%|█▍        | 1/7 [00:07<00:47,  7.90s/it]"
     ]
    },
    {
     "name": "stdout",
     "output_type": "stream",
     "text": [
      "Model Was Not Saved ! Current Best Avg. Dice: 0.32666751742362976 Current Avg. Dice: 0.32009923458099365 Current Avg. tumor Dice: 0.32961004972457886 Current Avg. lymph Dice: 0.31058844923973083\n"
     ]
    },
    {
     "name": "stderr",
     "output_type": "stream",
     "text": [
      "Training (5606 / 18000 Steps) (loss=0.43132): 100%|██████████| 7/7 [00:10<00:00,  1.47s/it]\n",
      "Training (5613 / 18000 Steps) (loss=0.39842): 100%|██████████| 7/7 [00:05<00:00,  1.21it/s]\n",
      "Training (5620 / 18000 Steps) (loss=0.55148): 100%|██████████| 7/7 [00:05<00:00,  1.17it/s]\n",
      "Training (5627 / 18000 Steps) (loss=0.34874): 100%|██████████| 7/7 [00:05<00:00,  1.20it/s]\n",
      "Training (5634 / 18000 Steps) (loss=0.52522): 100%|██████████| 7/7 [00:05<00:00,  1.27it/s]\n",
      "Training (5641 / 18000 Steps) (loss=0.48785): 100%|██████████| 7/7 [00:05<00:00,  1.32it/s]\n",
      "Training (5648 / 18000 Steps) (loss=0.38869): 100%|██████████| 7/7 [00:06<00:00,  1.12it/s]\n",
      "Training (5655 / 18000 Steps) (loss=0.36602): 100%|██████████| 7/7 [00:05<00:00,  1.28it/s]\n",
      "Training (5662 / 18000 Steps) (loss=0.45637): 100%|██████████| 7/7 [00:05<00:00,  1.20it/s]\n",
      "Training (5669 / 18000 Steps) (loss=0.39263): 100%|██████████| 7/7 [00:06<00:00,  1.17it/s]\n",
      "Training (5676 / 18000 Steps) (loss=0.58299): 100%|██████████| 7/7 [00:05<00:00,  1.18it/s]\n",
      "Training (5683 / 18000 Steps) (loss=0.61660): 100%|██████████| 7/7 [00:05<00:00,  1.25it/s]\n",
      "Training (5690 / 18000 Steps) (loss=0.38772): 100%|██████████| 7/7 [00:05<00:00,  1.23it/s]\n",
      "Training (5697 / 18000 Steps) (loss=0.59952): 100%|██████████| 7/7 [00:05<00:00,  1.22it/s]\n",
      "Validate (5698 / 10 Steps): 100%|██████████| 2/2 [00:04<00:00,  2.23s/it]<00:07,  1.58s/it]\n",
      "Training (5700 / 18000 Steps) (loss=0.52140):  43%|████▎     | 3/7 [00:08<00:12,  3.11s/it]"
     ]
    },
    {
     "name": "stdout",
     "output_type": "stream",
     "text": [
      "Model Was Not Saved ! Current Best Avg. Dice: 0.32666751742362976 Current Avg. Dice: 0.2708101272583008 Current Avg. tumor Dice: 0.2567537724971771 Current Avg. lymph Dice: 0.28486645221710205\n"
     ]
    },
    {
     "name": "stderr",
     "output_type": "stream",
     "text": [
      "Training (5704 / 18000 Steps) (loss=0.49026): 100%|██████████| 7/7 [00:10<00:00,  1.45s/it]\n",
      "Training (5711 / 18000 Steps) (loss=0.46893): 100%|██████████| 7/7 [00:06<00:00,  1.11it/s]\n",
      "Training (5718 / 18000 Steps) (loss=0.51027): 100%|██████████| 7/7 [00:05<00:00,  1.19it/s]\n",
      "Training (5725 / 18000 Steps) (loss=0.32857): 100%|██████████| 7/7 [00:05<00:00,  1.23it/s]\n",
      "Training (5732 / 18000 Steps) (loss=0.50993): 100%|██████████| 7/7 [00:05<00:00,  1.28it/s]\n",
      "Training (5739 / 18000 Steps) (loss=0.61045): 100%|██████████| 7/7 [00:05<00:00,  1.19it/s]\n",
      "Training (5746 / 18000 Steps) (loss=0.52320): 100%|██████████| 7/7 [00:05<00:00,  1.22it/s]\n",
      "Training (5753 / 18000 Steps) (loss=0.49453): 100%|██████████| 7/7 [00:05<00:00,  1.17it/s]\n",
      "Training (5760 / 18000 Steps) (loss=0.44097): 100%|██████████| 7/7 [00:05<00:00,  1.22it/s]\n",
      "Training (5767 / 18000 Steps) (loss=0.62989): 100%|██████████| 7/7 [00:05<00:00,  1.26it/s]\n",
      "Training (5774 / 18000 Steps) (loss=0.57878): 100%|██████████| 7/7 [00:05<00:00,  1.24it/s]\n",
      "Training (5781 / 18000 Steps) (loss=0.61898): 100%|██████████| 7/7 [00:05<00:00,  1.26it/s]\n",
      "Training (5788 / 18000 Steps) (loss=0.49714): 100%|██████████| 7/7 [00:05<00:00,  1.22it/s]\n",
      "Training (5795 / 18000 Steps) (loss=0.51336): 100%|██████████| 7/7 [00:06<00:00,  1.09it/s]\n",
      "Validate (5796 / 10 Steps): 100%|██████████| 2/2 [00:04<00:00,  2.31s/it]<00:02,  1.19it/s]\n",
      "Training (5800 / 18000 Steps) (loss=0.53052):  71%|███████▏  | 5/7 [00:09<00:04,  2.37s/it]"
     ]
    },
    {
     "name": "stdout",
     "output_type": "stream",
     "text": [
      "Model Was Not Saved ! Current Best Avg. Dice: 0.32666751742362976 Current Avg. Dice: 0.286584734916687 Current Avg. tumor Dice: 0.27095213532447815 Current Avg. lymph Dice: 0.3022172749042511\n"
     ]
    },
    {
     "name": "stderr",
     "output_type": "stream",
     "text": [
      "Training (5802 / 18000 Steps) (loss=0.60861): 100%|██████████| 7/7 [00:10<00:00,  1.52s/it]\n",
      "Training (5809 / 18000 Steps) (loss=0.55680): 100%|██████████| 7/7 [00:06<00:00,  1.15it/s]\n",
      "Training (5816 / 18000 Steps) (loss=0.44314): 100%|██████████| 7/7 [00:05<00:00,  1.25it/s]\n",
      "Training (5823 / 18000 Steps) (loss=0.61116): 100%|██████████| 7/7 [00:05<00:00,  1.21it/s]\n",
      "Training (5830 / 18000 Steps) (loss=0.48225): 100%|██████████| 7/7 [00:05<00:00,  1.26it/s]\n",
      "Training (5837 / 18000 Steps) (loss=0.43058): 100%|██████████| 7/7 [00:05<00:00,  1.22it/s]\n",
      "Training (5844 / 18000 Steps) (loss=0.42714): 100%|██████████| 7/7 [00:05<00:00,  1.20it/s]\n",
      "Training (5851 / 18000 Steps) (loss=0.31566): 100%|██████████| 7/7 [00:05<00:00,  1.28it/s]\n",
      "Training (5858 / 18000 Steps) (loss=0.39034): 100%|██████████| 7/7 [00:05<00:00,  1.17it/s]\n",
      "Training (5865 / 18000 Steps) (loss=0.48263): 100%|██████████| 7/7 [00:06<00:00,  1.16it/s]\n",
      "Training (5872 / 18000 Steps) (loss=0.48068): 100%|██████████| 7/7 [00:06<00:00,  1.10it/s]\n",
      "Training (5879 / 18000 Steps) (loss=0.56329): 100%|██████████| 7/7 [00:06<00:00,  1.14it/s]\n",
      "Training (5886 / 18000 Steps) (loss=0.27909): 100%|██████████| 7/7 [00:05<00:00,  1.20it/s]\n",
      "Training (5893 / 18000 Steps) (loss=0.46939): 100%|██████████| 7/7 [00:05<00:00,  1.22it/s]\n",
      "Validate (5894 / 10 Steps): 100%|██████████| 2/2 [00:04<00:00,  2.27s/it]<00:00,  1.68it/s]\n",
      "Training (5900 / 18000 Steps) (loss=0.39331): 100%|██████████| 7/7 [00:10<00:00,  1.50s/it]\n"
     ]
    },
    {
     "name": "stdout",
     "output_type": "stream",
     "text": [
      "Model Was Not Saved ! Current Best Avg. Dice: 0.32666751742362976 Current Avg. Dice: 0.2935854196548462 Current Avg. tumor Dice: 0.28470325469970703 Current Avg. lymph Dice: 0.30246758460998535\n"
     ]
    },
    {
     "name": "stderr",
     "output_type": "stream",
     "text": [
      "Training (5907 / 18000 Steps) (loss=0.56778): 100%|██████████| 7/7 [00:05<00:00,  1.25it/s]\n",
      "Training (5914 / 18000 Steps) (loss=0.54574): 100%|██████████| 7/7 [00:05<00:00,  1.18it/s]\n",
      "Training (5921 / 18000 Steps) (loss=0.47186): 100%|██████████| 7/7 [00:05<00:00,  1.23it/s]\n",
      "Training (5928 / 18000 Steps) (loss=0.49324): 100%|██████████| 7/7 [00:06<00:00,  1.12it/s]\n",
      "Training (5935 / 18000 Steps) (loss=0.41253): 100%|██████████| 7/7 [00:05<00:00,  1.27it/s]\n",
      "Training (5942 / 18000 Steps) (loss=0.50813): 100%|██████████| 7/7 [00:05<00:00,  1.19it/s]\n",
      "Training (5949 / 18000 Steps) (loss=0.43654): 100%|██████████| 7/7 [00:05<00:00,  1.21it/s]\n",
      "Training (5956 / 18000 Steps) (loss=0.33816): 100%|██████████| 7/7 [00:05<00:00,  1.19it/s]\n",
      "Training (5963 / 18000 Steps) (loss=0.57139): 100%|██████████| 7/7 [00:05<00:00,  1.21it/s]\n",
      "Training (5970 / 18000 Steps) (loss=0.59729): 100%|██████████| 7/7 [00:05<00:00,  1.17it/s]\n",
      "Training (5977 / 18000 Steps) (loss=0.50144): 100%|██████████| 7/7 [00:05<00:00,  1.26it/s]\n",
      "Training (5984 / 18000 Steps) (loss=0.44447): 100%|██████████| 7/7 [00:05<00:00,  1.26it/s]\n",
      "Training (5991 / 18000 Steps) (loss=0.46014): 100%|██████████| 7/7 [00:05<00:00,  1.24it/s]\n",
      "Training (5998 / 18000 Steps) (loss=0.53852): 100%|██████████| 7/7 [00:06<00:00,  1.13it/s]\n",
      "Validate (5999 / 10 Steps): 100%|██████████| 2/2 [00:04<00:00,  2.27s/it]<00:19,  3.29s/it]\n",
      "Training (6000 / 18000 Steps) (loss=0.42628):  29%|██▊       | 2/7 [00:08<00:21,  4.31s/it]"
     ]
    },
    {
     "name": "stdout",
     "output_type": "stream",
     "text": [
      "Model Was Not Saved ! Current Best Avg. Dice: 0.32666751742362976 Current Avg. Dice: 0.3037671446800232 Current Avg. tumor Dice: 0.2558414041996002 Current Avg. lymph Dice: 0.3516928553581238\n"
     ]
    },
    {
     "name": "stderr",
     "output_type": "stream",
     "text": [
      "Training (6005 / 18000 Steps) (loss=0.42745): 100%|██████████| 7/7 [00:10<00:00,  1.48s/it]\n",
      "Training (6012 / 18000 Steps) (loss=0.46737): 100%|██████████| 7/7 [00:05<00:00,  1.27it/s]\n",
      "Training (6019 / 18000 Steps) (loss=0.39527): 100%|██████████| 7/7 [00:05<00:00,  1.21it/s]\n",
      "Training (6026 / 18000 Steps) (loss=0.55045): 100%|██████████| 7/7 [00:05<00:00,  1.19it/s]\n",
      "Training (6033 / 18000 Steps) (loss=0.44832): 100%|██████████| 7/7 [00:05<00:00,  1.22it/s]\n",
      "Training (6040 / 18000 Steps) (loss=0.57828): 100%|██████████| 7/7 [00:05<00:00,  1.29it/s]\n",
      "Training (6047 / 18000 Steps) (loss=0.48893): 100%|██████████| 7/7 [00:05<00:00,  1.21it/s]\n",
      "Training (6054 / 18000 Steps) (loss=0.58649): 100%|██████████| 7/7 [00:05<00:00,  1.26it/s]\n",
      "Training (6061 / 18000 Steps) (loss=0.53761): 100%|██████████| 7/7 [00:05<00:00,  1.25it/s]\n",
      "Training (6068 / 18000 Steps) (loss=0.47412): 100%|██████████| 7/7 [00:05<00:00,  1.18it/s]\n",
      "Training (6075 / 18000 Steps) (loss=0.43624): 100%|██████████| 7/7 [00:06<00:00,  1.08it/s]\n",
      "Training (6082 / 18000 Steps) (loss=0.40327): 100%|██████████| 7/7 [00:05<00:00,  1.21it/s]\n",
      "Training (6089 / 18000 Steps) (loss=0.43735): 100%|██████████| 7/7 [00:06<00:00,  1.16it/s]\n",
      "Training (6096 / 18000 Steps) (loss=0.64897): 100%|██████████| 7/7 [00:05<00:00,  1.27it/s]\n",
      "Validate (6097 / 10 Steps): 100%|██████████| 2/2 [00:04<00:00,  2.26s/it]<00:04,  1.06s/it]\n",
      "Training (6100 / 18000 Steps) (loss=0.52862):  57%|█████▋    | 4/7 [00:09<00:07,  2.60s/it]"
     ]
    },
    {
     "name": "stdout",
     "output_type": "stream",
     "text": [
      "Model Was Not Saved ! Current Best Avg. Dice: 0.32666751742362976 Current Avg. Dice: 0.25878167152404785 Current Avg. tumor Dice: 0.24708089232444763 Current Avg. lymph Dice: 0.27048248052597046\n"
     ]
    },
    {
     "name": "stderr",
     "output_type": "stream",
     "text": [
      "Training (6103 / 18000 Steps) (loss=0.39472): 100%|██████████| 7/7 [00:10<00:00,  1.46s/it]\n",
      "Training (6110 / 18000 Steps) (loss=0.48358): 100%|██████████| 7/7 [00:05<00:00,  1.22it/s]\n",
      "Training (6117 / 18000 Steps) (loss=0.60518): 100%|██████████| 7/7 [00:05<00:00,  1.20it/s]\n",
      "Training (6124 / 18000 Steps) (loss=0.47991): 100%|██████████| 7/7 [00:05<00:00,  1.20it/s]\n",
      "Training (6131 / 18000 Steps) (loss=0.57743): 100%|██████████| 7/7 [00:05<00:00,  1.22it/s]\n",
      "Training (6138 / 18000 Steps) (loss=0.43015): 100%|██████████| 7/7 [00:05<00:00,  1.19it/s]\n",
      "Training (6145 / 18000 Steps) (loss=0.49043): 100%|██████████| 7/7 [00:05<00:00,  1.25it/s]\n",
      "Training (6152 / 18000 Steps) (loss=0.61310): 100%|██████████| 7/7 [00:05<00:00,  1.21it/s]\n",
      "Training (6159 / 18000 Steps) (loss=0.51833): 100%|██████████| 7/7 [00:05<00:00,  1.19it/s]\n",
      "Training (6166 / 18000 Steps) (loss=0.45269): 100%|██████████| 7/7 [00:05<00:00,  1.22it/s]\n",
      "Training (6173 / 18000 Steps) (loss=0.55938): 100%|██████████| 7/7 [00:05<00:00,  1.24it/s]\n",
      "Training (6180 / 18000 Steps) (loss=0.59254): 100%|██████████| 7/7 [00:05<00:00,  1.26it/s]\n",
      "Training (6187 / 18000 Steps) (loss=0.49808): 100%|██████████| 7/7 [00:05<00:00,  1.21it/s]\n",
      "Training (6194 / 18000 Steps) (loss=0.56114): 100%|██████████| 7/7 [00:05<00:00,  1.23it/s]\n",
      "Validate (6195 / 10 Steps): 100%|██████████| 2/2 [00:05<00:00,  2.59s/it]<00:01,  1.50it/s]\n",
      "Training (6200 / 18000 Steps) (loss=0.47112):  86%|████████▌ | 6/7 [00:10<00:02,  2.36s/it]"
     ]
    },
    {
     "name": "stdout",
     "output_type": "stream",
     "text": [
      "Model Was Not Saved ! Current Best Avg. Dice: 0.32666751742362976 Current Avg. Dice: 0.3092746138572693 Current Avg. tumor Dice: 0.3060837984085083 Current Avg. lymph Dice: 0.3124654293060303\n"
     ]
    },
    {
     "name": "stderr",
     "output_type": "stream",
     "text": [
      "Training (6201 / 18000 Steps) (loss=0.26073): 100%|██████████| 7/7 [00:10<00:00,  1.57s/it]\n",
      "Training (6208 / 18000 Steps) (loss=0.59381): 100%|██████████| 7/7 [00:05<00:00,  1.23it/s]\n",
      "Training (6215 / 18000 Steps) (loss=0.59699): 100%|██████████| 7/7 [00:05<00:00,  1.26it/s]\n",
      "Training (6222 / 18000 Steps) (loss=0.64571): 100%|██████████| 7/7 [00:05<00:00,  1.21it/s]\n",
      "Training (6229 / 18000 Steps) (loss=0.60683): 100%|██████████| 7/7 [00:05<00:00,  1.21it/s]\n",
      "Training (6236 / 18000 Steps) (loss=0.51752): 100%|██████████| 7/7 [00:05<00:00,  1.21it/s]\n",
      "Training (6243 / 18000 Steps) (loss=0.45252): 100%|██████████| 7/7 [00:06<00:00,  1.15it/s]\n",
      "Training (6250 / 18000 Steps) (loss=0.61277): 100%|██████████| 7/7 [00:05<00:00,  1.28it/s]\n",
      "Training (6257 / 18000 Steps) (loss=0.43999): 100%|██████████| 7/7 [00:05<00:00,  1.23it/s]\n",
      "Training (6264 / 18000 Steps) (loss=0.39166): 100%|██████████| 7/7 [00:05<00:00,  1.24it/s]\n",
      "Training (6271 / 18000 Steps) (loss=0.56472): 100%|██████████| 7/7 [00:05<00:00,  1.28it/s]\n",
      "Training (6278 / 18000 Steps) (loss=0.39856): 100%|██████████| 7/7 [00:05<00:00,  1.31it/s]\n",
      "Training (6285 / 18000 Steps) (loss=0.55050): 100%|██████████| 7/7 [00:05<00:00,  1.25it/s]\n",
      "Training (6292 / 18000 Steps) (loss=0.66831): 100%|██████████| 7/7 [00:05<00:00,  1.27it/s]\n",
      "Training (6299 / 18000 Steps) (loss=0.57375): 100%|██████████| 7/7 [00:05<00:00,  1.26it/s]\n",
      "Validate (6300 / 10 Steps): 100%|██████████| 2/2 [00:04<00:00,  2.23s/it]<?, ?it/s]\n",
      "Training (6300 / 18000 Steps) (loss=0.52138):  14%|█▍        | 1/7 [00:08<00:50,  8.48s/it]"
     ]
    },
    {
     "name": "stdout",
     "output_type": "stream",
     "text": [
      "Model Was Saved ! Current Best Avg. Dice: 0.35460618138313293 Current Avg. Dice: 0.35460618138313293 Current Avg. tumor Dice: 0.311822772026062 Current Avg. lymph Dice: 0.39738959074020386\n"
     ]
    },
    {
     "name": "stderr",
     "output_type": "stream",
     "text": [
      "Training (6306 / 18000 Steps) (loss=0.53556): 100%|██████████| 7/7 [00:10<00:00,  1.56s/it]\n",
      "Training (6313 / 18000 Steps) (loss=0.40523): 100%|██████████| 7/7 [00:06<00:00,  1.11it/s]\n",
      "Training (6320 / 18000 Steps) (loss=0.60553): 100%|██████████| 7/7 [00:05<00:00,  1.20it/s]\n",
      "Training (6327 / 18000 Steps) (loss=0.45042): 100%|██████████| 7/7 [00:05<00:00,  1.21it/s]\n",
      "Training (6334 / 18000 Steps) (loss=0.48144): 100%|██████████| 7/7 [00:05<00:00,  1.22it/s]\n",
      "Training (6341 / 18000 Steps) (loss=0.34290): 100%|██████████| 7/7 [00:05<00:00,  1.29it/s]\n",
      "Training (6348 / 18000 Steps) (loss=0.19035): 100%|██████████| 7/7 [00:05<00:00,  1.24it/s]\n",
      "Training (6355 / 18000 Steps) (loss=0.38211): 100%|██████████| 7/7 [00:05<00:00,  1.19it/s]\n",
      "Training (6362 / 18000 Steps) (loss=0.45932): 100%|██████████| 7/7 [00:05<00:00,  1.19it/s]\n",
      "Training (6369 / 18000 Steps) (loss=0.57860): 100%|██████████| 7/7 [00:05<00:00,  1.18it/s]\n",
      "Training (6376 / 18000 Steps) (loss=0.56922): 100%|██████████| 7/7 [00:05<00:00,  1.27it/s]\n",
      "Training (6383 / 18000 Steps) (loss=0.60657): 100%|██████████| 7/7 [00:05<00:00,  1.21it/s]\n",
      "Training (6390 / 18000 Steps) (loss=0.52831): 100%|██████████| 7/7 [00:05<00:00,  1.26it/s]\n",
      "Training (6397 / 18000 Steps) (loss=0.43886): 100%|██████████| 7/7 [00:05<00:00,  1.24it/s]\n",
      "Validate (6398 / 10 Steps): 100%|██████████| 2/2 [00:05<00:00,  2.55s/it]<00:08,  1.63s/it]\n",
      "Training (6400 / 18000 Steps) (loss=0.46532):  43%|████▎     | 3/7 [00:09<00:13,  3.43s/it]"
     ]
    },
    {
     "name": "stdout",
     "output_type": "stream",
     "text": [
      "Model Was Not Saved ! Current Best Avg. Dice: 0.35460618138313293 Current Avg. Dice: 0.2864170968532562 Current Avg. tumor Dice: 0.2784750759601593 Current Avg. lymph Dice: 0.29435914754867554\n"
     ]
    },
    {
     "name": "stderr",
     "output_type": "stream",
     "text": [
      "Training (6404 / 18000 Steps) (loss=0.40649): 100%|██████████| 7/7 [00:10<00:00,  1.56s/it]\n",
      "Training (6411 / 18000 Steps) (loss=0.44516): 100%|██████████| 7/7 [00:05<00:00,  1.27it/s]\n",
      "Training (6418 / 18000 Steps) (loss=0.37567): 100%|██████████| 7/7 [00:05<00:00,  1.26it/s]\n",
      "Training (6425 / 18000 Steps) (loss=0.52543): 100%|██████████| 7/7 [00:05<00:00,  1.27it/s]\n",
      "Training (6432 / 18000 Steps) (loss=0.66938): 100%|██████████| 7/7 [00:05<00:00,  1.28it/s]\n",
      "Training (6439 / 18000 Steps) (loss=0.33030): 100%|██████████| 7/7 [00:06<00:00,  1.14it/s]\n",
      "Training (6446 / 18000 Steps) (loss=0.48688): 100%|██████████| 7/7 [00:06<00:00,  1.15it/s]\n",
      "Training (6453 / 18000 Steps) (loss=0.21987): 100%|██████████| 7/7 [00:05<00:00,  1.25it/s]\n",
      "Training (6460 / 18000 Steps) (loss=0.47443): 100%|██████████| 7/7 [00:05<00:00,  1.22it/s]\n",
      "Training (6467 / 18000 Steps) (loss=0.33421): 100%|██████████| 7/7 [00:05<00:00,  1.22it/s]\n",
      "Training (6474 / 18000 Steps) (loss=0.26699): 100%|██████████| 7/7 [00:05<00:00,  1.22it/s]\n",
      "Training (6481 / 18000 Steps) (loss=0.42929): 100%|██████████| 7/7 [00:05<00:00,  1.26it/s]\n",
      "Training (6488 / 18000 Steps) (loss=0.41944): 100%|██████████| 7/7 [00:05<00:00,  1.21it/s]\n",
      "Training (6495 / 18000 Steps) (loss=0.24531): 100%|██████████| 7/7 [00:06<00:00,  1.10it/s]\n",
      "Validate (6496 / 10 Steps): 100%|██████████| 2/2 [00:04<00:00,  2.22s/it]<00:02,  1.20it/s]\n",
      "Training (6500 / 18000 Steps) (loss=0.55408):  71%|███████▏  | 5/7 [00:09<00:04,  2.31s/it]"
     ]
    },
    {
     "name": "stdout",
     "output_type": "stream",
     "text": [
      "Model Was Not Saved ! Current Best Avg. Dice: 0.35460618138313293 Current Avg. Dice: 0.29042357206344604 Current Avg. tumor Dice: 0.28627637028694153 Current Avg. lymph Dice: 0.2945707142353058\n"
     ]
    },
    {
     "name": "stderr",
     "output_type": "stream",
     "text": [
      "Training (6502 / 18000 Steps) (loss=0.67628): 100%|██████████| 7/7 [00:10<00:00,  1.49s/it]\n",
      "Training (6509 / 18000 Steps) (loss=0.68457): 100%|██████████| 7/7 [00:05<00:00,  1.18it/s]\n",
      "Training (6516 / 18000 Steps) (loss=0.57701): 100%|██████████| 7/7 [00:06<00:00,  1.13it/s]\n",
      "Training (6523 / 18000 Steps) (loss=0.45489): 100%|██████████| 7/7 [00:05<00:00,  1.19it/s]\n",
      "Training (6530 / 18000 Steps) (loss=0.50571): 100%|██████████| 7/7 [00:05<00:00,  1.24it/s]\n",
      "Training (6537 / 18000 Steps) (loss=0.49608): 100%|██████████| 7/7 [00:05<00:00,  1.28it/s]\n",
      "Training (6544 / 18000 Steps) (loss=0.51829): 100%|██████████| 7/7 [00:05<00:00,  1.20it/s]\n",
      "Training (6551 / 18000 Steps) (loss=0.33736): 100%|██████████| 7/7 [00:05<00:00,  1.25it/s]\n",
      "Training (6558 / 18000 Steps) (loss=0.61914): 100%|██████████| 7/7 [00:05<00:00,  1.22it/s]\n",
      "Training (6565 / 18000 Steps) (loss=0.32892): 100%|██████████| 7/7 [00:05<00:00,  1.29it/s]\n",
      "Training (6572 / 18000 Steps) (loss=0.45369): 100%|██████████| 7/7 [00:05<00:00,  1.25it/s]\n",
      "Training (6579 / 18000 Steps) (loss=0.37269): 100%|██████████| 7/7 [00:05<00:00,  1.26it/s]\n",
      "Training (6586 / 18000 Steps) (loss=0.61883): 100%|██████████| 7/7 [00:05<00:00,  1.22it/s]\n",
      "Training (6593 / 18000 Steps) (loss=0.56744): 100%|██████████| 7/7 [00:05<00:00,  1.28it/s]\n",
      "Validate (6594 / 10 Steps): 100%|██████████| 2/2 [00:04<00:00,  2.36s/it]<00:00,  1.71it/s]\n",
      "Training (6600 / 18000 Steps) (loss=0.38584): 100%|██████████| 7/7 [00:10<00:00,  1.51s/it]\n"
     ]
    },
    {
     "name": "stdout",
     "output_type": "stream",
     "text": [
      "Model Was Not Saved ! Current Best Avg. Dice: 0.35460618138313293 Current Avg. Dice: 0.3163069188594818 Current Avg. tumor Dice: 0.2940220534801483 Current Avg. lymph Dice: 0.3385918140411377\n"
     ]
    },
    {
     "name": "stderr",
     "output_type": "stream",
     "text": [
      "Training (6607 / 18000 Steps) (loss=0.30352): 100%|██████████| 7/7 [00:05<00:00,  1.23it/s]\n",
      "Training (6614 / 18000 Steps) (loss=0.30688): 100%|██████████| 7/7 [00:05<00:00,  1.27it/s]\n",
      "Training (6621 / 18000 Steps) (loss=0.44412): 100%|██████████| 7/7 [00:05<00:00,  1.25it/s]\n",
      "Training (6628 / 18000 Steps) (loss=0.43836): 100%|██████████| 7/7 [00:05<00:00,  1.29it/s]\n",
      "Training (6635 / 18000 Steps) (loss=0.35995): 100%|██████████| 7/7 [00:05<00:00,  1.22it/s]\n",
      "Training (6642 / 18000 Steps) (loss=0.37208): 100%|██████████| 7/7 [00:05<00:00,  1.20it/s]\n",
      "Training (6649 / 18000 Steps) (loss=0.45365): 100%|██████████| 7/7 [00:05<00:00,  1.19it/s]\n",
      "Training (6656 / 18000 Steps) (loss=0.55620): 100%|██████████| 7/7 [00:05<00:00,  1.20it/s]\n",
      "Training (6663 / 18000 Steps) (loss=0.43729): 100%|██████████| 7/7 [00:05<00:00,  1.24it/s]\n",
      "Training (6670 / 18000 Steps) (loss=0.56715): 100%|██████████| 7/7 [00:05<00:00,  1.26it/s]\n",
      "Training (6677 / 18000 Steps) (loss=0.26809): 100%|██████████| 7/7 [00:05<00:00,  1.24it/s]\n",
      "Training (6684 / 18000 Steps) (loss=0.51323): 100%|██████████| 7/7 [00:05<00:00,  1.23it/s]\n",
      "Training (6691 / 18000 Steps) (loss=0.54820): 100%|██████████| 7/7 [00:05<00:00,  1.22it/s]\n",
      "Training (6698 / 18000 Steps) (loss=0.50000): 100%|██████████| 7/7 [00:05<00:00,  1.21it/s]\n",
      "Validate (6699 / 10 Steps): 100%|██████████| 2/2 [00:04<00:00,  2.29s/it]<00:18,  3.09s/it]\n",
      "Training (6700 / 18000 Steps) (loss=0.43546):  29%|██▊       | 2/7 [00:08<00:21,  4.23s/it]"
     ]
    },
    {
     "name": "stdout",
     "output_type": "stream",
     "text": [
      "Model Was Not Saved ! Current Best Avg. Dice: 0.35460618138313293 Current Avg. Dice: 0.2853861451148987 Current Avg. tumor Dice: 0.2641596794128418 Current Avg. lymph Dice: 0.30661267042160034\n"
     ]
    },
    {
     "name": "stderr",
     "output_type": "stream",
     "text": [
      "Training (6705 / 18000 Steps) (loss=0.35058): 100%|██████████| 7/7 [00:10<00:00,  1.44s/it]\n",
      "Training (6712 / 18000 Steps) (loss=0.21860): 100%|██████████| 7/7 [00:05<00:00,  1.28it/s]\n",
      "Training (6719 / 18000 Steps) (loss=0.52661): 100%|██████████| 7/7 [00:05<00:00,  1.31it/s]\n",
      "Training (6726 / 18000 Steps) (loss=0.45916): 100%|██████████| 7/7 [00:05<00:00,  1.28it/s]\n",
      "Training (6733 / 18000 Steps) (loss=0.69583): 100%|██████████| 7/7 [00:05<00:00,  1.25it/s]\n",
      "Training (6740 / 18000 Steps) (loss=0.48906): 100%|██████████| 7/7 [00:05<00:00,  1.24it/s]\n",
      "Training (6747 / 18000 Steps) (loss=0.31914): 100%|██████████| 7/7 [00:05<00:00,  1.22it/s]\n",
      "Training (6754 / 18000 Steps) (loss=0.57963): 100%|██████████| 7/7 [00:05<00:00,  1.20it/s]\n",
      "Training (6761 / 18000 Steps) (loss=0.50136): 100%|██████████| 7/7 [00:06<00:00,  1.09it/s]\n",
      "Training (6768 / 18000 Steps) (loss=0.29922): 100%|██████████| 7/7 [00:05<00:00,  1.26it/s]\n",
      "Training (6775 / 18000 Steps) (loss=0.61367): 100%|██████████| 7/7 [00:05<00:00,  1.25it/s]\n",
      "Training (6782 / 18000 Steps) (loss=0.35731): 100%|██████████| 7/7 [00:05<00:00,  1.25it/s]\n",
      "Training (6789 / 18000 Steps) (loss=0.47864): 100%|██████████| 7/7 [00:05<00:00,  1.24it/s]\n",
      "Training (6796 / 18000 Steps) (loss=0.58364): 100%|██████████| 7/7 [00:05<00:00,  1.18it/s]\n",
      "Validate (6797 / 10 Steps): 100%|██████████| 2/2 [00:04<00:00,  2.45s/it]<00:04,  1.13s/it]\n",
      "Training (6800 / 18000 Steps) (loss=0.56264):  57%|█████▋    | 4/7 [00:09<00:08,  2.81s/it]"
     ]
    },
    {
     "name": "stdout",
     "output_type": "stream",
     "text": [
      "Model Was Not Saved ! Current Best Avg. Dice: 0.35460618138313293 Current Avg. Dice: 0.3035622835159302 Current Avg. tumor Dice: 0.27481043338775635 Current Avg. lymph Dice: 0.3323141038417816\n"
     ]
    },
    {
     "name": "stderr",
     "output_type": "stream",
     "text": [
      "Training (6803 / 18000 Steps) (loss=0.46471): 100%|██████████| 7/7 [00:10<00:00,  1.57s/it]\n",
      "Training (6810 / 18000 Steps) (loss=0.62850): 100%|██████████| 7/7 [00:05<00:00,  1.21it/s]\n",
      "Training (6817 / 18000 Steps) (loss=0.41095): 100%|██████████| 7/7 [00:05<00:00,  1.25it/s]\n",
      "Training (6824 / 18000 Steps) (loss=0.63063): 100%|██████████| 7/7 [00:05<00:00,  1.20it/s]\n",
      "Training (6831 / 18000 Steps) (loss=0.35990): 100%|██████████| 7/7 [00:05<00:00,  1.22it/s]\n",
      "Training (6838 / 18000 Steps) (loss=0.45881): 100%|██████████| 7/7 [00:05<00:00,  1.25it/s]\n",
      "Training (6845 / 18000 Steps) (loss=0.37840): 100%|██████████| 7/7 [00:05<00:00,  1.20it/s]\n",
      "Training (6852 / 18000 Steps) (loss=0.32831): 100%|██████████| 7/7 [00:06<00:00,  1.08it/s]\n",
      "Training (6859 / 18000 Steps) (loss=0.57727): 100%|██████████| 7/7 [00:05<00:00,  1.24it/s]\n",
      "Training (6866 / 18000 Steps) (loss=0.50648): 100%|██████████| 7/7 [00:05<00:00,  1.17it/s]\n",
      "Training (6873 / 18000 Steps) (loss=0.64643): 100%|██████████| 7/7 [00:05<00:00,  1.18it/s]\n",
      "Training (6880 / 18000 Steps) (loss=0.50834): 100%|██████████| 7/7 [00:05<00:00,  1.27it/s]\n",
      "Training (6887 / 18000 Steps) (loss=0.44318): 100%|██████████| 7/7 [00:05<00:00,  1.21it/s]\n",
      "Training (6894 / 18000 Steps) (loss=0.46534): 100%|██████████| 7/7 [00:05<00:00,  1.20it/s]\n",
      "Validate (6895 / 10 Steps): 100%|██████████| 2/2 [00:04<00:00,  2.36s/it]<00:01,  1.50it/s]\n",
      "Training (6900 / 18000 Steps) (loss=0.44826):  86%|████████▌ | 6/7 [00:10<00:02,  2.44s/it]"
     ]
    },
    {
     "name": "stdout",
     "output_type": "stream",
     "text": [
      "Model Was Saved ! Current Best Avg. Dice: 0.35737332701683044 Current Avg. Dice: 0.35737332701683044 Current Avg. tumor Dice: 0.3667922616004944 Current Avg. lymph Dice: 0.3479544222354889\n"
     ]
    },
    {
     "name": "stderr",
     "output_type": "stream",
     "text": [
      "Training (6901 / 18000 Steps) (loss=0.60981): 100%|██████████| 7/7 [00:11<00:00,  1.60s/it]\n",
      "Training (6908 / 18000 Steps) (loss=0.42628): 100%|██████████| 7/7 [00:05<00:00,  1.19it/s]\n",
      "Training (6915 / 18000 Steps) (loss=0.58151): 100%|██████████| 7/7 [00:05<00:00,  1.27it/s]\n",
      "Training (6922 / 18000 Steps) (loss=0.51918): 100%|██████████| 7/7 [00:06<00:00,  1.15it/s]\n",
      "Training (6929 / 18000 Steps) (loss=0.55870): 100%|██████████| 7/7 [00:05<00:00,  1.29it/s]\n",
      "Training (6936 / 18000 Steps) (loss=0.42218): 100%|██████████| 7/7 [00:05<00:00,  1.30it/s]\n",
      "Training (6943 / 18000 Steps) (loss=0.61840): 100%|██████████| 7/7 [00:05<00:00,  1.24it/s]\n",
      "Training (6950 / 18000 Steps) (loss=0.42122): 100%|██████████| 7/7 [00:05<00:00,  1.26it/s]\n",
      "Training (6957 / 18000 Steps) (loss=0.62543): 100%|██████████| 7/7 [00:05<00:00,  1.21it/s]\n",
      "Training (6964 / 18000 Steps) (loss=0.45690): 100%|██████████| 7/7 [00:06<00:00,  1.15it/s]\n",
      "Training (6971 / 18000 Steps) (loss=0.44713): 100%|██████████| 7/7 [00:05<00:00,  1.25it/s]\n",
      "Training (6978 / 18000 Steps) (loss=0.36890): 100%|██████████| 7/7 [00:05<00:00,  1.18it/s]\n",
      "Training (6985 / 18000 Steps) (loss=0.42473): 100%|██████████| 7/7 [00:05<00:00,  1.22it/s]\n",
      "Training (6992 / 18000 Steps) (loss=0.35163): 100%|██████████| 7/7 [00:05<00:00,  1.21it/s]\n",
      "Training (6999 / 18000 Steps) (loss=0.46591): 100%|██████████| 7/7 [00:05<00:00,  1.21it/s]\n",
      "Validate (7000 / 10 Steps): 100%|██████████| 2/2 [00:05<00:00,  2.54s/it]<?, ?it/s]\n",
      "Training (7000 / 18000 Steps) (loss=0.37752):  14%|█▍        | 1/7 [00:08<00:51,  8.51s/it]"
     ]
    },
    {
     "name": "stdout",
     "output_type": "stream",
     "text": [
      "Model Was Not Saved ! Current Best Avg. Dice: 0.35737332701683044 Current Avg. Dice: 0.3040647506713867 Current Avg. tumor Dice: 0.2989410161972046 Current Avg. lymph Dice: 0.30918845534324646\n"
     ]
    },
    {
     "name": "stderr",
     "output_type": "stream",
     "text": [
      "Training (7006 / 18000 Steps) (loss=0.55826): 100%|██████████| 7/7 [00:10<00:00,  1.57s/it]\n",
      "Training (7013 / 18000 Steps) (loss=0.37317): 100%|██████████| 7/7 [00:06<00:00,  1.13it/s]\n",
      "Training (7020 / 18000 Steps) (loss=0.38936): 100%|██████████| 7/7 [00:05<00:00,  1.21it/s]\n",
      "Training (7027 / 18000 Steps) (loss=0.42905): 100%|██████████| 7/7 [00:05<00:00,  1.25it/s]\n",
      "Training (7034 / 18000 Steps) (loss=0.52860): 100%|██████████| 7/7 [00:05<00:00,  1.24it/s]\n",
      "Training (7041 / 18000 Steps) (loss=0.52175): 100%|██████████| 7/7 [00:05<00:00,  1.26it/s]\n",
      "Training (7048 / 18000 Steps) (loss=0.48781): 100%|██████████| 7/7 [00:06<00:00,  1.16it/s]\n",
      "Training (7055 / 18000 Steps) (loss=0.43969): 100%|██████████| 7/7 [00:05<00:00,  1.19it/s]\n",
      "Training (7062 / 18000 Steps) (loss=0.51819): 100%|██████████| 7/7 [00:05<00:00,  1.19it/s]\n",
      "Training (7069 / 18000 Steps) (loss=0.27765): 100%|██████████| 7/7 [00:05<00:00,  1.18it/s]\n",
      "Training (7076 / 18000 Steps) (loss=0.53341): 100%|██████████| 7/7 [00:05<00:00,  1.23it/s]\n",
      "Training (7083 / 18000 Steps) (loss=0.25498): 100%|██████████| 7/7 [00:05<00:00,  1.20it/s]\n",
      "Training (7090 / 18000 Steps) (loss=0.57232): 100%|██████████| 7/7 [00:06<00:00,  1.13it/s]\n",
      "Training (7097 / 18000 Steps) (loss=0.58613): 100%|██████████| 7/7 [00:06<00:00,  1.16it/s]\n",
      "Validate (7098 / 10 Steps): 100%|██████████| 2/2 [00:04<00:00,  2.27s/it]<00:08,  1.65s/it]\n",
      "Training (7100 / 18000 Steps) (loss=0.42956):  43%|████▎     | 3/7 [00:08<00:12,  3.19s/it]"
     ]
    },
    {
     "name": "stdout",
     "output_type": "stream",
     "text": [
      "Model Was Not Saved ! Current Best Avg. Dice: 0.35737332701683044 Current Avg. Dice: 0.3510341942310333 Current Avg. tumor Dice: 0.3074522614479065 Current Avg. lymph Dice: 0.39461615681648254\n"
     ]
    },
    {
     "name": "stderr",
     "output_type": "stream",
     "text": [
      "Training (7104 / 18000 Steps) (loss=0.38921): 100%|██████████| 7/7 [00:10<00:00,  1.49s/it]\n",
      "Training (7111 / 18000 Steps) (loss=0.64925): 100%|██████████| 7/7 [00:05<00:00,  1.22it/s]\n",
      "Training (7118 / 18000 Steps) (loss=0.26846): 100%|██████████| 7/7 [00:05<00:00,  1.25it/s]\n",
      "Training (7125 / 18000 Steps) (loss=0.35694): 100%|██████████| 7/7 [00:05<00:00,  1.25it/s]\n",
      "Training (7132 / 18000 Steps) (loss=0.57253): 100%|██████████| 7/7 [00:06<00:00,  1.12it/s]\n",
      "Training (7139 / 18000 Steps) (loss=0.58246): 100%|██████████| 7/7 [00:05<00:00,  1.18it/s]\n",
      "Training (7146 / 18000 Steps) (loss=0.46057): 100%|██████████| 7/7 [00:05<00:00,  1.25it/s]\n",
      "Training (7153 / 18000 Steps) (loss=0.63546): 100%|██████████| 7/7 [00:06<00:00,  1.16it/s]\n",
      "Training (7160 / 18000 Steps) (loss=0.35562): 100%|██████████| 7/7 [00:05<00:00,  1.25it/s]\n",
      "Training (7167 / 18000 Steps) (loss=0.43126): 100%|██████████| 7/7 [00:05<00:00,  1.20it/s]\n",
      "Training (7174 / 18000 Steps) (loss=0.54138): 100%|██████████| 7/7 [00:05<00:00,  1.24it/s]\n",
      "Training (7181 / 18000 Steps) (loss=0.36948): 100%|██████████| 7/7 [00:05<00:00,  1.21it/s]\n",
      "Training (7188 / 18000 Steps) (loss=0.45515): 100%|██████████| 7/7 [00:05<00:00,  1.22it/s]\n",
      "Training (7195 / 18000 Steps) (loss=0.39504): 100%|██████████| 7/7 [00:05<00:00,  1.30it/s]\n",
      "Validate (7196 / 10 Steps): 100%|██████████| 2/2 [00:04<00:00,  2.33s/it]<00:02,  1.26it/s]\n",
      "Training (7200 / 18000 Steps) (loss=0.51795):  71%|███████▏  | 5/7 [00:09<00:04,  2.36s/it]"
     ]
    },
    {
     "name": "stdout",
     "output_type": "stream",
     "text": [
      "Model Was Not Saved ! Current Best Avg. Dice: 0.35737332701683044 Current Avg. Dice: 0.3293067216873169 Current Avg. tumor Dice: 0.2880091965198517 Current Avg. lymph Dice: 0.3706042170524597\n"
     ]
    },
    {
     "name": "stderr",
     "output_type": "stream",
     "text": [
      "Training (7202 / 18000 Steps) (loss=0.32923): 100%|██████████| 7/7 [00:10<00:00,  1.49s/it]\n",
      "Training (7209 / 18000 Steps) (loss=0.45378): 100%|██████████| 7/7 [00:06<00:00,  1.10it/s]\n",
      "Training (7216 / 18000 Steps) (loss=0.44518): 100%|██████████| 7/7 [00:05<00:00,  1.22it/s]\n",
      "Training (7223 / 18000 Steps) (loss=0.64893): 100%|██████████| 7/7 [00:05<00:00,  1.21it/s]\n",
      "Training (7230 / 18000 Steps) (loss=0.44761): 100%|██████████| 7/7 [00:05<00:00,  1.26it/s]\n",
      "Training (7237 / 18000 Steps) (loss=0.29112): 100%|██████████| 7/7 [00:05<00:00,  1.22it/s]\n",
      "Training (7244 / 18000 Steps) (loss=0.52036): 100%|██████████| 7/7 [00:05<00:00,  1.17it/s]\n",
      "Training (7251 / 18000 Steps) (loss=0.43983): 100%|██████████| 7/7 [00:06<00:00,  1.17it/s]\n",
      "Training (7258 / 18000 Steps) (loss=0.47120): 100%|██████████| 7/7 [00:05<00:00,  1.23it/s]\n",
      "Training (7265 / 18000 Steps) (loss=0.54756): 100%|██████████| 7/7 [00:05<00:00,  1.24it/s]\n",
      "Training (7272 / 18000 Steps) (loss=0.52180): 100%|██████████| 7/7 [00:05<00:00,  1.23it/s]\n",
      "Training (7279 / 18000 Steps) (loss=0.55568): 100%|██████████| 7/7 [00:05<00:00,  1.23it/s]\n",
      "Training (7286 / 18000 Steps) (loss=0.44217): 100%|██████████| 7/7 [00:05<00:00,  1.27it/s]\n",
      "Training (7293 / 18000 Steps) (loss=0.37157): 100%|██████████| 7/7 [00:05<00:00,  1.18it/s]\n",
      "Validate (7294 / 10 Steps): 100%|██████████| 2/2 [00:04<00:00,  2.24s/it]<00:00,  1.73it/s]\n",
      "Training (7300 / 18000 Steps) (loss=0.34395): 100%|██████████| 7/7 [00:10<00:00,  1.46s/it]\n"
     ]
    },
    {
     "name": "stdout",
     "output_type": "stream",
     "text": [
      "Model Was Not Saved ! Current Best Avg. Dice: 0.35737332701683044 Current Avg. Dice: 0.33935678005218506 Current Avg. tumor Dice: 0.33375680446624756 Current Avg. lymph Dice: 0.34495681524276733\n"
     ]
    },
    {
     "name": "stderr",
     "output_type": "stream",
     "text": [
      "Training (7307 / 18000 Steps) (loss=0.38496): 100%|██████████| 7/7 [00:05<00:00,  1.19it/s]\n",
      "Training (7314 / 18000 Steps) (loss=0.36725): 100%|██████████| 7/7 [00:05<00:00,  1.23it/s]\n",
      "Training (7321 / 18000 Steps) (loss=0.35170): 100%|██████████| 7/7 [00:05<00:00,  1.25it/s]\n",
      "Training (7328 / 18000 Steps) (loss=0.27373): 100%|██████████| 7/7 [00:05<00:00,  1.19it/s]\n",
      "Training (7335 / 18000 Steps) (loss=0.67050): 100%|██████████| 7/7 [00:05<00:00,  1.26it/s]\n",
      "Training (7342 / 18000 Steps) (loss=0.58153): 100%|██████████| 7/7 [00:05<00:00,  1.20it/s]\n",
      "Training (7349 / 18000 Steps) (loss=0.37289): 100%|██████████| 7/7 [00:05<00:00,  1.20it/s]\n",
      "Training (7356 / 18000 Steps) (loss=0.52585): 100%|██████████| 7/7 [00:06<00:00,  1.16it/s]\n",
      "Training (7363 / 18000 Steps) (loss=0.30103): 100%|██████████| 7/7 [00:05<00:00,  1.22it/s]\n",
      "Training (7370 / 18000 Steps) (loss=0.56431): 100%|██████████| 7/7 [00:05<00:00,  1.27it/s]\n",
      "Training (7377 / 18000 Steps) (loss=0.53115): 100%|██████████| 7/7 [00:05<00:00,  1.19it/s]\n",
      "Training (7384 / 18000 Steps) (loss=0.35374): 100%|██████████| 7/7 [00:06<00:00,  1.15it/s]\n",
      "Training (7391 / 18000 Steps) (loss=0.38824): 100%|██████████| 7/7 [00:05<00:00,  1.27it/s]\n",
      "Training (7398 / 18000 Steps) (loss=0.32844): 100%|██████████| 7/7 [00:05<00:00,  1.27it/s]\n",
      "Validate (7399 / 10 Steps): 100%|██████████| 2/2 [00:04<00:00,  2.27s/it]<00:20,  3.34s/it]\n",
      "Training (7400 / 18000 Steps) (loss=0.41824):  29%|██▊       | 2/7 [00:08<00:21,  4.32s/it]"
     ]
    },
    {
     "name": "stdout",
     "output_type": "stream",
     "text": [
      "Model Was Not Saved ! Current Best Avg. Dice: 0.35737332701683044 Current Avg. Dice: 0.30030888319015503 Current Avg. tumor Dice: 0.29374733567237854 Current Avg. lymph Dice: 0.3068704307079315\n"
     ]
    },
    {
     "name": "stderr",
     "output_type": "stream",
     "text": [
      "Training (7405 / 18000 Steps) (loss=0.41744): 100%|██████████| 7/7 [00:10<00:00,  1.47s/it]\n",
      "Training (7412 / 18000 Steps) (loss=0.39471): 100%|██████████| 7/7 [00:05<00:00,  1.21it/s]\n",
      "Training (7419 / 18000 Steps) (loss=0.18294): 100%|██████████| 7/7 [00:05<00:00,  1.21it/s]\n",
      "Training (7426 / 18000 Steps) (loss=0.58062): 100%|██████████| 7/7 [00:05<00:00,  1.22it/s]\n",
      "Training (7433 / 18000 Steps) (loss=0.35070): 100%|██████████| 7/7 [00:05<00:00,  1.23it/s]\n",
      "Training (7440 / 18000 Steps) (loss=0.33168): 100%|██████████| 7/7 [00:05<00:00,  1.29it/s]\n",
      "Training (7447 / 18000 Steps) (loss=0.56633): 100%|██████████| 7/7 [00:05<00:00,  1.27it/s]\n",
      "Training (7454 / 18000 Steps) (loss=0.34020): 100%|██████████| 7/7 [00:05<00:00,  1.19it/s]\n",
      "Training (7461 / 18000 Steps) (loss=0.52391): 100%|██████████| 7/7 [00:05<00:00,  1.18it/s]\n",
      "Training (7468 / 18000 Steps) (loss=0.56276): 100%|██████████| 7/7 [00:05<00:00,  1.19it/s]\n",
      "Training (7475 / 18000 Steps) (loss=0.47247): 100%|██████████| 7/7 [00:06<00:00,  1.12it/s]\n",
      "Training (7482 / 18000 Steps) (loss=0.47011): 100%|██████████| 7/7 [00:06<00:00,  1.14it/s]\n",
      "Training (7489 / 18000 Steps) (loss=0.34257): 100%|██████████| 7/7 [00:06<00:00,  1.01it/s]\n",
      "Training (7496 / 18000 Steps) (loss=0.44805): 100%|██████████| 7/7 [00:06<00:00,  1.04it/s]\n",
      "Validate (7497 / 10 Steps): 100%|██████████| 2/2 [00:05<00:00,  2.89s/it]<00:04,  1.25s/it]\n",
      "Training (7500 / 18000 Steps) (loss=0.54348):  57%|█████▋    | 4/7 [00:11<00:09,  3.29s/it]"
     ]
    },
    {
     "name": "stdout",
     "output_type": "stream",
     "text": [
      "Model Was Not Saved ! Current Best Avg. Dice: 0.35737332701683044 Current Avg. Dice: 0.294793039560318 Current Avg. tumor Dice: 0.2920452058315277 Current Avg. lymph Dice: 0.2975408434867859\n"
     ]
    },
    {
     "name": "stderr",
     "output_type": "stream",
     "text": [
      "Training (7503 / 18000 Steps) (loss=0.51932): 100%|██████████| 7/7 [00:12<00:00,  1.82s/it]\n",
      "Training (7510 / 18000 Steps) (loss=0.48740): 100%|██████████| 7/7 [00:06<00:00,  1.12it/s]\n",
      "Training (7517 / 18000 Steps) (loss=0.43829): 100%|██████████| 7/7 [00:06<00:00,  1.02it/s]\n",
      "Training (7524 / 18000 Steps) (loss=0.33803): 100%|██████████| 7/7 [00:06<00:00,  1.06it/s]\n",
      "Training (7531 / 18000 Steps) (loss=0.59081): 100%|██████████| 7/7 [00:06<00:00,  1.04it/s]\n",
      "Training (7538 / 18000 Steps) (loss=0.45899): 100%|██████████| 7/7 [00:06<00:00,  1.06it/s]\n",
      "Training (7545 / 18000 Steps) (loss=0.50845): 100%|██████████| 7/7 [00:06<00:00,  1.06it/s]\n",
      "Training (7552 / 18000 Steps) (loss=0.61796): 100%|██████████| 7/7 [00:06<00:00,  1.06it/s]\n",
      "Training (7559 / 18000 Steps) (loss=0.34491): 100%|██████████| 7/7 [00:06<00:00,  1.05it/s]\n",
      "Training (7566 / 18000 Steps) (loss=0.35650): 100%|██████████| 7/7 [00:07<00:00,  1.03s/it]\n",
      "Training (7573 / 18000 Steps) (loss=0.29423): 100%|██████████| 7/7 [00:06<00:00,  1.02it/s]\n",
      "Training (7580 / 18000 Steps) (loss=0.44028): 100%|██████████| 7/7 [00:07<00:00,  1.01s/it]\n",
      "Training (7587 / 18000 Steps) (loss=0.61809): 100%|██████████| 7/7 [00:06<00:00,  1.10it/s]\n",
      "Training (7594 / 18000 Steps) (loss=0.58487): 100%|██████████| 7/7 [00:06<00:00,  1.06it/s]\n",
      "Validate (7595 / 10 Steps): 100%|██████████| 2/2 [00:05<00:00,  2.56s/it]<00:01,  1.27it/s]\n",
      "Training (7600 / 18000 Steps) (loss=0.44267):  86%|████████▌ | 6/7 [00:11<00:02,  2.51s/it]"
     ]
    },
    {
     "name": "stdout",
     "output_type": "stream",
     "text": [
      "Model Was Not Saved ! Current Best Avg. Dice: 0.35737332701683044 Current Avg. Dice: 0.32892993092536926 Current Avg. tumor Dice: 0.34907522797584534 Current Avg. lymph Dice: 0.3087846636772156\n"
     ]
    },
    {
     "name": "stderr",
     "output_type": "stream",
     "text": [
      "Training (7601 / 18000 Steps) (loss=0.44294): 100%|██████████| 7/7 [00:11<00:00,  1.67s/it]\n",
      "Training (7608 / 18000 Steps) (loss=0.46822): 100%|██████████| 7/7 [00:07<00:00,  1.02s/it]\n",
      "Training (7615 / 18000 Steps) (loss=0.48961): 100%|██████████| 7/7 [00:06<00:00,  1.06it/s]\n",
      "Training (7622 / 18000 Steps) (loss=0.43038): 100%|██████████| 7/7 [00:06<00:00,  1.03it/s]\n",
      "Training (7629 / 18000 Steps) (loss=0.60486): 100%|██████████| 7/7 [00:06<00:00,  1.02it/s]\n",
      "Training (7636 / 18000 Steps) (loss=0.48127): 100%|██████████| 7/7 [00:07<00:00,  1.03s/it]\n",
      "Training (7643 / 18000 Steps) (loss=0.64992): 100%|██████████| 7/7 [00:06<00:00,  1.03it/s]\n",
      "Training (7650 / 18000 Steps) (loss=0.53858): 100%|██████████| 7/7 [00:06<00:00,  1.06it/s]\n",
      "Training (7657 / 18000 Steps) (loss=0.54774): 100%|██████████| 7/7 [00:06<00:00,  1.04it/s]\n",
      "Training (7664 / 18000 Steps) (loss=0.56067): 100%|██████████| 7/7 [00:07<00:00,  1.06s/it]\n",
      "Training (7671 / 18000 Steps) (loss=0.30834): 100%|██████████| 7/7 [00:06<00:00,  1.04it/s]\n",
      "Training (7678 / 18000 Steps) (loss=0.53945): 100%|██████████| 7/7 [00:06<00:00,  1.01it/s]\n",
      "Training (7685 / 18000 Steps) (loss=0.55614): 100%|██████████| 7/7 [00:07<00:00,  1.04s/it]\n",
      "Training (7692 / 18000 Steps) (loss=0.42959): 100%|██████████| 7/7 [00:06<00:00,  1.09it/s]\n",
      "Training (7699 / 18000 Steps) (loss=0.61733): 100%|██████████| 7/7 [00:06<00:00,  1.05it/s]\n",
      "Validate (7700 / 10 Steps): 100%|██████████| 2/2 [00:05<00:00,  2.72s/it]<?, ?it/s]\n",
      "Training (7700 / 18000 Steps) (loss=0.51777):  14%|█▍        | 1/7 [00:09<00:55,  9.33s/it]"
     ]
    },
    {
     "name": "stdout",
     "output_type": "stream",
     "text": [
      "Model Was Not Saved ! Current Best Avg. Dice: 0.35737332701683044 Current Avg. Dice: 0.3266949951648712 Current Avg. tumor Dice: 0.2791154980659485 Current Avg. lymph Dice: 0.37427452206611633\n"
     ]
    },
    {
     "name": "stderr",
     "output_type": "stream",
     "text": [
      "Training (7706 / 18000 Steps) (loss=0.41515): 100%|██████████| 7/7 [00:12<00:00,  1.77s/it]\n",
      "Training (7713 / 18000 Steps) (loss=0.49361): 100%|██████████| 7/7 [00:06<00:00,  1.07it/s]\n",
      "Training (7720 / 18000 Steps) (loss=0.41633): 100%|██████████| 7/7 [00:06<00:00,  1.02it/s]\n",
      "Training (7727 / 18000 Steps) (loss=0.40767): 100%|██████████| 7/7 [00:07<00:00,  1.02s/it]\n",
      "Training (7734 / 18000 Steps) (loss=0.54599): 100%|██████████| 7/7 [00:06<00:00,  1.05it/s]\n",
      "Training (7741 / 18000 Steps) (loss=0.21594): 100%|██████████| 7/7 [00:07<00:00,  1.00s/it]\n",
      "Training (7748 / 18000 Steps) (loss=0.60788): 100%|██████████| 7/7 [00:06<00:00,  1.01it/s]\n",
      "Training (7755 / 18000 Steps) (loss=0.32353): 100%|██████████| 7/7 [00:06<00:00,  1.05it/s]\n",
      "Training (7762 / 18000 Steps) (loss=0.58290): 100%|██████████| 7/7 [00:06<00:00,  1.07it/s]\n",
      "Training (7769 / 18000 Steps) (loss=0.62003): 100%|██████████| 7/7 [00:07<00:00,  1.01s/it]\n",
      "Training (7776 / 18000 Steps) (loss=0.47139): 100%|██████████| 7/7 [00:07<00:00,  1.03s/it]\n",
      "Training (7783 / 18000 Steps) (loss=0.45278): 100%|██████████| 7/7 [00:07<00:00,  1.02s/it]\n",
      "Training (7790 / 18000 Steps) (loss=0.27566): 100%|██████████| 7/7 [00:06<00:00,  1.01it/s]\n",
      "Training (7797 / 18000 Steps) (loss=0.62023): 100%|██████████| 7/7 [00:06<00:00,  1.07it/s]\n",
      "Validate (7798 / 10 Steps): 100%|██████████| 2/2 [00:05<00:00,  2.65s/it]<00:08,  1.74s/it]\n",
      "Training (7800 / 18000 Steps) (loss=0.37397):  43%|████▎     | 3/7 [00:09<00:14,  3.66s/it]"
     ]
    },
    {
     "name": "stdout",
     "output_type": "stream",
     "text": [
      "Model Was Not Saved ! Current Best Avg. Dice: 0.35737332701683044 Current Avg. Dice: 0.31682243943214417 Current Avg. tumor Dice: 0.30901283025741577 Current Avg. lymph Dice: 0.32463204860687256\n"
     ]
    },
    {
     "name": "stderr",
     "output_type": "stream",
     "text": [
      "Training (7804 / 18000 Steps) (loss=0.54034): 100%|██████████| 7/7 [00:11<00:00,  1.69s/it]\n",
      "Training (7811 / 18000 Steps) (loss=0.48279): 100%|██████████| 7/7 [00:06<00:00,  1.07it/s]\n",
      "Training (7818 / 18000 Steps) (loss=0.42081): 100%|██████████| 7/7 [00:06<00:00,  1.02it/s]\n",
      "Training (7825 / 18000 Steps) (loss=0.45368): 100%|██████████| 7/7 [00:06<00:00,  1.04it/s]\n",
      "Training (7832 / 18000 Steps) (loss=0.44600): 100%|██████████| 7/7 [00:06<00:00,  1.06it/s]\n",
      "Training (7839 / 18000 Steps) (loss=0.66987): 100%|██████████| 7/7 [00:07<00:00,  1.01s/it]\n",
      "Training (7846 / 18000 Steps) (loss=0.33860): 100%|██████████| 7/7 [00:07<00:00,  1.03s/it]\n",
      "Training (7853 / 18000 Steps) (loss=0.33460): 100%|██████████| 7/7 [00:05<00:00,  1.24it/s]\n",
      "Training (7860 / 18000 Steps) (loss=0.51627): 100%|██████████| 7/7 [00:05<00:00,  1.21it/s]\n",
      "Training (7867 / 18000 Steps) (loss=0.50491): 100%|██████████| 7/7 [00:06<00:00,  1.17it/s]\n",
      "Training (7874 / 18000 Steps) (loss=0.42360): 100%|██████████| 7/7 [00:06<00:00,  1.01it/s]\n",
      "Training (7881 / 18000 Steps) (loss=0.65903): 100%|██████████| 7/7 [00:06<00:00,  1.05it/s]\n",
      "Training (7888 / 18000 Steps) (loss=0.55375): 100%|██████████| 7/7 [00:06<00:00,  1.05it/s]\n",
      "Training (7895 / 18000 Steps) (loss=0.42735): 100%|██████████| 7/7 [00:06<00:00,  1.06it/s]\n",
      "Validate (7896 / 10 Steps): 100%|██████████| 2/2 [00:05<00:00,  2.84s/it]<00:02,  1.07it/s]\n",
      "Training (7900 / 18000 Steps) (loss=0.44057):  71%|███████▏  | 5/7 [00:11<00:05,  2.89s/it]"
     ]
    },
    {
     "name": "stdout",
     "output_type": "stream",
     "text": [
      "Model Was Not Saved ! Current Best Avg. Dice: 0.35737332701683044 Current Avg. Dice: 0.3313167691230774 Current Avg. tumor Dice: 0.32117870450019836 Current Avg. lymph Dice: 0.3414548337459564\n"
     ]
    },
    {
     "name": "stderr",
     "output_type": "stream",
     "text": [
      "Training (7902 / 18000 Steps) (loss=0.43358): 100%|██████████| 7/7 [00:12<00:00,  1.75s/it]\n",
      "Training (7909 / 18000 Steps) (loss=0.43396): 100%|██████████| 7/7 [00:06<00:00,  1.06it/s]\n",
      "Training (7916 / 18000 Steps) (loss=0.39408): 100%|██████████| 7/7 [00:07<00:00,  1.03s/it]\n",
      "Training (7923 / 18000 Steps) (loss=0.28453): 100%|██████████| 7/7 [00:06<00:00,  1.01it/s]\n",
      "Training (7930 / 18000 Steps) (loss=0.38046): 100%|██████████| 7/7 [00:06<00:00,  1.06it/s]\n",
      "Training (7937 / 18000 Steps) (loss=0.67048): 100%|██████████| 7/7 [00:06<00:00,  1.02it/s]\n",
      "Training (7944 / 18000 Steps) (loss=0.43338): 100%|██████████| 7/7 [00:06<00:00,  1.05it/s]\n",
      "Training (7951 / 18000 Steps) (loss=0.45492): 100%|██████████| 7/7 [00:07<00:00,  1.08s/it]\n",
      "Training (7958 / 18000 Steps) (loss=0.53167): 100%|██████████| 7/7 [00:06<00:00,  1.08it/s]\n",
      "Training (7965 / 18000 Steps) (loss=0.20647): 100%|██████████| 7/7 [00:06<00:00,  1.02it/s]\n",
      "Training (7972 / 18000 Steps) (loss=0.61531): 100%|██████████| 7/7 [00:06<00:00,  1.04it/s]\n",
      "Training (7979 / 18000 Steps) (loss=0.52475): 100%|██████████| 7/7 [00:06<00:00,  1.05it/s]\n",
      "Training (7986 / 18000 Steps) (loss=0.64157): 100%|██████████| 7/7 [00:06<00:00,  1.06it/s]\n",
      "Training (7993 / 18000 Steps) (loss=0.67356): 100%|██████████| 7/7 [00:06<00:00,  1.07it/s]\n",
      "Validate (7994 / 10 Steps): 100%|██████████| 2/2 [00:05<00:00,  2.52s/it]<00:00,  1.36it/s]\n",
      "Training (8000 / 18000 Steps) (loss=0.41517): 100%|██████████| 7/7 [00:11<00:00,  1.64s/it]\n"
     ]
    },
    {
     "name": "stdout",
     "output_type": "stream",
     "text": [
      "Model Was Not Saved ! Current Best Avg. Dice: 0.35737332701683044 Current Avg. Dice: 0.3135428726673126 Current Avg. tumor Dice: 0.3263825476169586 Current Avg. lymph Dice: 0.3007031977176666\n"
     ]
    },
    {
     "name": "stderr",
     "output_type": "stream",
     "text": [
      "Training (8007 / 18000 Steps) (loss=0.43389): 100%|██████████| 7/7 [00:06<00:00,  1.06it/s]\n",
      "Training (8014 / 18000 Steps) (loss=0.54165): 100%|██████████| 7/7 [00:06<00:00,  1.07it/s]\n",
      "Training (8021 / 18000 Steps) (loss=0.47053): 100%|██████████| 7/7 [00:06<00:00,  1.08it/s]\n",
      "Training (8028 / 18000 Steps) (loss=0.51338): 100%|██████████| 7/7 [00:06<00:00,  1.11it/s]\n",
      "Training (8035 / 18000 Steps) (loss=0.56697): 100%|██████████| 7/7 [00:06<00:00,  1.05it/s]\n",
      "Training (8042 / 18000 Steps) (loss=0.40022): 100%|██████████| 7/7 [00:06<00:00,  1.10it/s]\n",
      "Training (8049 / 18000 Steps) (loss=0.67287): 100%|██████████| 7/7 [00:06<00:00,  1.06it/s]\n",
      "Training (8056 / 18000 Steps) (loss=0.41298): 100%|██████████| 7/7 [00:06<00:00,  1.04it/s]\n",
      "Training (8063 / 18000 Steps) (loss=0.56594): 100%|██████████| 7/7 [00:06<00:00,  1.09it/s]\n",
      "Training (8070 / 18000 Steps) (loss=0.36360): 100%|██████████| 7/7 [00:06<00:00,  1.07it/s]\n",
      "Training (8077 / 18000 Steps) (loss=0.34351): 100%|██████████| 7/7 [00:06<00:00,  1.05it/s]\n",
      "Training (8084 / 18000 Steps) (loss=0.44144): 100%|██████████| 7/7 [00:06<00:00,  1.06it/s]\n",
      "Training (8091 / 18000 Steps) (loss=0.49261): 100%|██████████| 7/7 [00:06<00:00,  1.09it/s]\n",
      "Training (8098 / 18000 Steps) (loss=0.44038): 100%|██████████| 7/7 [00:06<00:00,  1.01it/s]\n",
      "Validate (8099 / 10 Steps): 100%|██████████| 2/2 [00:05<00:00,  2.67s/it]<00:20,  3.46s/it]\n",
      "Training (8100 / 18000 Steps) (loss=0.25586):  29%|██▊       | 2/7 [00:09<00:24,  4.89s/it]"
     ]
    },
    {
     "name": "stdout",
     "output_type": "stream",
     "text": [
      "Model Was Not Saved ! Current Best Avg. Dice: 0.35737332701683044 Current Avg. Dice: 0.34197455644607544 Current Avg. tumor Dice: 0.3158565163612366 Current Avg. lymph Dice: 0.3680926263332367\n"
     ]
    },
    {
     "name": "stderr",
     "output_type": "stream",
     "text": [
      "Training (8105 / 18000 Steps) (loss=0.42714): 100%|██████████| 7/7 [00:11<00:00,  1.70s/it]\n",
      "Training (8112 / 18000 Steps) (loss=0.52234): 100%|██████████| 7/7 [00:06<00:00,  1.12it/s]\n",
      "Training (8119 / 18000 Steps) (loss=0.65147): 100%|██████████| 7/7 [00:06<00:00,  1.07it/s]\n",
      "Training (8126 / 18000 Steps) (loss=0.41514): 100%|██████████| 7/7 [00:06<00:00,  1.03it/s]\n",
      "Training (8133 / 18000 Steps) (loss=0.43136): 100%|██████████| 7/7 [00:07<00:00,  1.01s/it]\n",
      "Training (8140 / 18000 Steps) (loss=0.40674): 100%|██████████| 7/7 [00:06<00:00,  1.03it/s]\n",
      "Training (8147 / 18000 Steps) (loss=0.51006): 100%|██████████| 7/7 [00:07<00:00,  1.07s/it]\n",
      "Training (8154 / 18000 Steps) (loss=0.56073): 100%|██████████| 7/7 [00:07<00:00,  1.00s/it]\n",
      "Training (8161 / 18000 Steps) (loss=0.49049): 100%|██████████| 7/7 [00:06<00:00,  1.01it/s]\n",
      "Training (8168 / 18000 Steps) (loss=0.57437): 100%|██████████| 7/7 [00:07<00:00,  1.01s/it]\n",
      "Training (8175 / 18000 Steps) (loss=0.40617): 100%|██████████| 7/7 [00:07<00:00,  1.02s/it]\n",
      "Training (8182 / 18000 Steps) (loss=0.29409): 100%|██████████| 7/7 [00:06<00:00,  1.01it/s]\n",
      "Training (8189 / 18000 Steps) (loss=0.41854): 100%|██████████| 7/7 [00:06<00:00,  1.01it/s]\n",
      "Training (8196 / 18000 Steps) (loss=0.51995): 100%|██████████| 7/7 [00:06<00:00,  1.02it/s]\n",
      "Validate (8197 / 10 Steps): 100%|██████████| 2/2 [00:05<00:00,  2.97s/it]<00:04,  1.19s/it]\n",
      "Training (8200 / 18000 Steps) (loss=0.45208):  57%|█████▋    | 4/7 [00:11<00:10,  3.34s/it]"
     ]
    },
    {
     "name": "stdout",
     "output_type": "stream",
     "text": [
      "Model Was Not Saved ! Current Best Avg. Dice: 0.35737332701683044 Current Avg. Dice: 0.3467947244644165 Current Avg. tumor Dice: 0.3707355260848999 Current Avg. lymph Dice: 0.3228538930416107\n"
     ]
    },
    {
     "name": "stderr",
     "output_type": "stream",
     "text": [
      "Training (8203 / 18000 Steps) (loss=0.62097): 100%|██████████| 7/7 [00:12<00:00,  1.81s/it]\n",
      "Training (8210 / 18000 Steps) (loss=0.41317): 100%|██████████| 7/7 [00:07<00:00,  1.01s/it]\n",
      "Training (8217 / 18000 Steps) (loss=0.35240): 100%|██████████| 7/7 [00:06<00:00,  1.02it/s]\n",
      "Training (8224 / 18000 Steps) (loss=0.43470): 100%|██████████| 7/7 [00:06<00:00,  1.01it/s]\n",
      "Training (8231 / 18000 Steps) (loss=0.55904): 100%|██████████| 7/7 [00:07<00:00,  1.06s/it]\n",
      "Training (8238 / 18000 Steps) (loss=0.63480): 100%|██████████| 7/7 [00:07<00:00,  1.02s/it]\n",
      "Training (8245 / 18000 Steps) (loss=0.46372): 100%|██████████| 7/7 [00:07<00:00,  1.01s/it]\n",
      "Training (8252 / 18000 Steps) (loss=0.37175): 100%|██████████| 7/7 [00:06<00:00,  1.00it/s]\n",
      "Training (8259 / 18000 Steps) (loss=0.57542): 100%|██████████| 7/7 [00:07<00:00,  1.01s/it]\n",
      "Training (8266 / 18000 Steps) (loss=0.51730): 100%|██████████| 7/7 [00:06<00:00,  1.16it/s]\n",
      "Training (8273 / 18000 Steps) (loss=0.29664): 100%|██████████| 7/7 [00:06<00:00,  1.04it/s]\n",
      "Training (8280 / 18000 Steps) (loss=0.51540): 100%|██████████| 7/7 [00:06<00:00,  1.10it/s]\n",
      "Training (8287 / 18000 Steps) (loss=0.48630): 100%|██████████| 7/7 [00:06<00:00,  1.02it/s]\n",
      "Training (8294 / 18000 Steps) (loss=0.53000): 100%|██████████| 7/7 [00:07<00:00,  1.03s/it]\n",
      "Validate (8295 / 10 Steps): 100%|██████████| 2/2 [00:05<00:00,  2.80s/it]<00:01,  1.10it/s]\n",
      "Training (8300 / 18000 Steps) (loss=0.43096):  86%|████████▌ | 6/7 [00:12<00:02,  2.74s/it]"
     ]
    },
    {
     "name": "stdout",
     "output_type": "stream",
     "text": [
      "Model Was Not Saved ! Current Best Avg. Dice: 0.35737332701683044 Current Avg. Dice: 0.3447464108467102 Current Avg. tumor Dice: 0.34583717584609985 Current Avg. lymph Dice: 0.34365561604499817\n"
     ]
    },
    {
     "name": "stderr",
     "output_type": "stream",
     "text": [
      "Training (8301 / 18000 Steps) (loss=0.52967): 100%|██████████| 7/7 [00:12<00:00,  1.85s/it]\n",
      "Training (8308 / 18000 Steps) (loss=0.43027): 100%|██████████| 7/7 [00:07<00:00,  1.05s/it]\n",
      "Training (8315 / 18000 Steps) (loss=0.52059): 100%|██████████| 7/7 [00:06<00:00,  1.05it/s]\n",
      "Training (8322 / 18000 Steps) (loss=0.58944): 100%|██████████| 7/7 [00:07<00:00,  1.01s/it]\n",
      "Training (8329 / 18000 Steps) (loss=0.50002): 100%|██████████| 7/7 [00:06<00:00,  1.00it/s]\n",
      "Training (8336 / 18000 Steps) (loss=0.40554): 100%|██████████| 7/7 [00:07<00:00,  1.04s/it]\n",
      "Training (8343 / 18000 Steps) (loss=0.35021): 100%|██████████| 7/7 [00:06<00:00,  1.01it/s]\n",
      "Training (8350 / 18000 Steps) (loss=0.66777): 100%|██████████| 7/7 [00:07<00:00,  1.00s/it]\n",
      "Training (8357 / 18000 Steps) (loss=0.28971): 100%|██████████| 7/7 [00:06<00:00,  1.01it/s]\n",
      "Training (8364 / 18000 Steps) (loss=0.45879): 100%|██████████| 7/7 [00:07<00:00,  1.03s/it]\n",
      "Training (8371 / 18000 Steps) (loss=0.39794): 100%|██████████| 7/7 [00:06<00:00,  1.05it/s]\n",
      "Training (8378 / 18000 Steps) (loss=0.33954): 100%|██████████| 7/7 [00:06<00:00,  1.02it/s]\n",
      "Training (8385 / 18000 Steps) (loss=0.60033): 100%|██████████| 7/7 [00:07<00:00,  1.01s/it]\n",
      "Training (8392 / 18000 Steps) (loss=0.30569): 100%|██████████| 7/7 [00:07<00:00,  1.06s/it]\n",
      "Training (8399 / 18000 Steps) (loss=0.49729): 100%|██████████| 7/7 [00:07<00:00,  1.01s/it]\n",
      "Validate (8400 / 10 Steps): 100%|██████████| 2/2 [00:05<00:00,  2.73s/it]<?, ?it/s]\n",
      "Training (8400 / 18000 Steps) (loss=0.30815):  14%|█▍        | 1/7 [00:08<00:52,  8.83s/it]"
     ]
    },
    {
     "name": "stdout",
     "output_type": "stream",
     "text": [
      "Model Was Not Saved ! Current Best Avg. Dice: 0.35737332701683044 Current Avg. Dice: 0.33151882886886597 Current Avg. tumor Dice: 0.32432788610458374 Current Avg. lymph Dice: 0.3387097418308258\n"
     ]
    },
    {
     "name": "stderr",
     "output_type": "stream",
     "text": [
      "Training (8406 / 18000 Steps) (loss=0.47555): 100%|██████████| 7/7 [00:12<00:00,  1.75s/it]\n",
      "Training (8413 / 18000 Steps) (loss=0.33379): 100%|██████████| 7/7 [00:06<00:00,  1.00it/s]\n",
      "Training (8420 / 18000 Steps) (loss=0.41723): 100%|██████████| 7/7 [00:06<00:00,  1.01it/s]\n",
      "Training (8427 / 18000 Steps) (loss=0.20599): 100%|██████████| 7/7 [00:07<00:00,  1.00s/it]\n",
      "Training (8434 / 18000 Steps) (loss=0.44814): 100%|██████████| 7/7 [00:07<00:00,  1.07s/it]\n",
      "Training (8441 / 18000 Steps) (loss=0.54849): 100%|██████████| 7/7 [00:07<00:00,  1.03s/it]\n",
      "Training (8448 / 18000 Steps) (loss=0.51797): 100%|██████████| 7/7 [00:07<00:00,  1.02s/it]\n",
      "Training (8455 / 18000 Steps) (loss=0.47951): 100%|██████████| 7/7 [00:07<00:00,  1.01s/it]\n",
      "Training (8462 / 18000 Steps) (loss=0.56911): 100%|██████████| 7/7 [00:07<00:00,  1.04s/it]\n",
      "Training (8469 / 18000 Steps) (loss=0.58369): 100%|██████████| 7/7 [00:07<00:00,  1.01s/it]\n",
      "Training (8476 / 18000 Steps) (loss=0.37011): 100%|██████████| 7/7 [00:06<00:00,  1.02it/s]\n",
      "Training (8483 / 18000 Steps) (loss=0.53973): 100%|██████████| 7/7 [00:06<00:00,  1.04it/s]\n",
      "Training (8490 / 18000 Steps) (loss=0.66722): 100%|██████████| 7/7 [00:07<00:00,  1.04s/it]\n",
      "Training (8497 / 18000 Steps) (loss=0.54578): 100%|██████████| 7/7 [00:07<00:00,  1.02s/it]\n",
      "Validate (8498 / 10 Steps): 100%|██████████| 2/2 [00:05<00:00,  2.82s/it]<00:09,  1.80s/it]\n",
      "Training (8500 / 18000 Steps) (loss=0.41821):  43%|████▎     | 3/7 [00:10<00:15,  3.83s/it]"
     ]
    },
    {
     "name": "stdout",
     "output_type": "stream",
     "text": [
      "Model Was Not Saved ! Current Best Avg. Dice: 0.35737332701683044 Current Avg. Dice: 0.3201540410518646 Current Avg. tumor Dice: 0.3085384964942932 Current Avg. lymph Dice: 0.33176958560943604\n"
     ]
    },
    {
     "name": "stderr",
     "output_type": "stream",
     "text": [
      "Training (8504 / 18000 Steps) (loss=0.37596): 100%|██████████| 7/7 [00:12<00:00,  1.82s/it]\n",
      "Training (8511 / 18000 Steps) (loss=0.55116): 100%|██████████| 7/7 [00:06<00:00,  1.00it/s]\n",
      "Training (8518 / 18000 Steps) (loss=0.44991): 100%|██████████| 7/7 [00:07<00:00,  1.01s/it]\n",
      "Training (8525 / 18000 Steps) (loss=0.57722): 100%|██████████| 7/7 [00:06<00:00,  1.00it/s]\n",
      "Training (8532 / 18000 Steps) (loss=0.41233): 100%|██████████| 7/7 [00:07<00:00,  1.04s/it]\n",
      "Training (8539 / 18000 Steps) (loss=0.32524): 100%|██████████| 7/7 [00:06<00:00,  1.02it/s]\n",
      "Training (8546 / 18000 Steps) (loss=0.49812): 100%|██████████| 7/7 [00:07<00:00,  1.08s/it]\n",
      "Training (8553 / 18000 Steps) (loss=0.39222): 100%|██████████| 7/7 [00:07<00:00,  1.02s/it]\n",
      "Training (8560 / 18000 Steps) (loss=0.50026): 100%|██████████| 7/7 [00:07<00:00,  1.00s/it]\n",
      "Training (8567 / 18000 Steps) (loss=0.19713): 100%|██████████| 7/7 [00:06<00:00,  1.00it/s]\n",
      "Training (8574 / 18000 Steps) (loss=0.49843): 100%|██████████| 7/7 [00:06<00:00,  1.03it/s]\n",
      "Training (8581 / 18000 Steps) (loss=0.45871): 100%|██████████| 7/7 [00:07<00:00,  1.02s/it]\n",
      "Training (8588 / 18000 Steps) (loss=0.26869): 100%|██████████| 7/7 [00:06<00:00,  1.01it/s]\n",
      "Training (8595 / 18000 Steps) (loss=0.57243): 100%|██████████| 7/7 [00:07<00:00,  1.09s/it]\n",
      "Validate (8596 / 10 Steps): 100%|██████████| 2/2 [00:05<00:00,  2.78s/it]<00:03,  1.04s/it]\n",
      "Training (8600 / 18000 Steps) (loss=0.47034):  71%|███████▏  | 5/7 [00:11<00:05,  2.91s/it]"
     ]
    },
    {
     "name": "stdout",
     "output_type": "stream",
     "text": [
      "Model Was Not Saved ! Current Best Avg. Dice: 0.35737332701683044 Current Avg. Dice: 0.31517621874809265 Current Avg. tumor Dice: 0.337096244096756 Current Avg. lymph Dice: 0.2932561933994293\n"
     ]
    },
    {
     "name": "stderr",
     "output_type": "stream",
     "text": [
      "Training (8602 / 18000 Steps) (loss=0.44316): 100%|██████████| 7/7 [00:12<00:00,  1.82s/it]\n",
      "Training (8609 / 18000 Steps) (loss=0.54323): 100%|██████████| 7/7 [00:07<00:00,  1.03s/it]\n",
      "Training (8616 / 18000 Steps) (loss=0.43941): 100%|██████████| 7/7 [00:06<00:00,  1.02it/s]\n",
      "Training (8623 / 18000 Steps) (loss=0.45354): 100%|██████████| 7/7 [00:07<00:00,  1.03s/it]\n",
      "Training (8630 / 18000 Steps) (loss=0.43182): 100%|██████████| 7/7 [00:08<00:00,  1.14s/it]\n",
      "Training (8637 / 18000 Steps) (loss=0.48966): 100%|██████████| 7/7 [00:07<00:00,  1.03s/it]\n",
      "Training (8644 / 18000 Steps) (loss=0.29274): 100%|██████████| 7/7 [00:06<00:00,  1.16it/s]\n",
      "Training (8651 / 18000 Steps) (loss=0.48536): 100%|██████████| 7/7 [00:06<00:00,  1.13it/s]\n",
      "Training (8658 / 18000 Steps) (loss=0.57632): 100%|██████████| 7/7 [00:06<00:00,  1.12it/s]\n",
      "Training (8665 / 18000 Steps) (loss=0.28010): 100%|██████████| 7/7 [00:06<00:00,  1.10it/s]\n",
      "Training (8672 / 18000 Steps) (loss=0.30216): 100%|██████████| 7/7 [00:07<00:00,  1.01s/it]\n",
      "Training (8679 / 18000 Steps) (loss=0.50141): 100%|██████████| 7/7 [00:06<00:00,  1.05it/s]\n",
      "Training (8686 / 18000 Steps) (loss=0.49980): 100%|██████████| 7/7 [00:06<00:00,  1.02it/s]\n",
      "Training (8693 / 18000 Steps) (loss=0.41510): 100%|██████████| 7/7 [00:06<00:00,  1.01it/s]\n",
      "Validate (8694 / 10 Steps): 100%|██████████| 2/2 [00:05<00:00,  2.71s/it]<00:00,  1.24it/s]\n",
      "Training (8700 / 18000 Steps) (loss=0.46977): 100%|██████████| 7/7 [00:12<00:00,  1.81s/it]\n"
     ]
    },
    {
     "name": "stdout",
     "output_type": "stream",
     "text": [
      "Model Was Not Saved ! Current Best Avg. Dice: 0.35737332701683044 Current Avg. Dice: 0.33230945467948914 Current Avg. tumor Dice: 0.35273584723472595 Current Avg. lymph Dice: 0.31188303232192993\n"
     ]
    },
    {
     "name": "stderr",
     "output_type": "stream",
     "text": [
      "Training (8707 / 18000 Steps) (loss=0.38837): 100%|██████████| 7/7 [00:06<00:00,  1.05it/s]\n",
      "Training (8714 / 18000 Steps) (loss=0.51668): 100%|██████████| 7/7 [00:07<00:00,  1.01s/it]\n",
      "Training (8721 / 18000 Steps) (loss=0.61060): 100%|██████████| 7/7 [00:06<00:00,  1.02it/s]\n",
      "Training (8728 / 18000 Steps) (loss=0.40643): 100%|██████████| 7/7 [00:06<00:00,  1.02it/s]\n",
      "Training (8735 / 18000 Steps) (loss=0.27065): 100%|██████████| 7/7 [00:06<00:00,  1.02it/s]\n",
      "Training (8742 / 18000 Steps) (loss=0.41887): 100%|██████████| 7/7 [00:06<00:00,  1.01it/s]\n",
      "Training (8749 / 18000 Steps) (loss=0.39122): 100%|██████████| 7/7 [00:07<00:00,  1.01s/it]\n",
      "Training (8756 / 18000 Steps) (loss=0.65998): 100%|██████████| 7/7 [00:06<00:00,  1.03it/s]\n",
      "Training (8763 / 18000 Steps) (loss=0.29496): 100%|██████████| 7/7 [00:07<00:00,  1.02s/it]\n",
      "Training (8770 / 18000 Steps) (loss=0.23034): 100%|██████████| 7/7 [00:07<00:00,  1.05s/it]\n",
      "Training (8777 / 18000 Steps) (loss=0.30841): 100%|██████████| 7/7 [00:07<00:00,  1.01s/it]\n",
      "Training (8784 / 18000 Steps) (loss=0.61646): 100%|██████████| 7/7 [00:06<00:00,  1.00it/s]\n",
      "Training (8791 / 18000 Steps) (loss=0.31774): 100%|██████████| 7/7 [00:07<00:00,  1.02s/it]\n",
      "Training (8798 / 18000 Steps) (loss=0.57206): 100%|██████████| 7/7 [00:07<00:00,  1.06s/it]\n",
      "Validate (8799 / 10 Steps): 100%|██████████| 2/2 [00:05<00:00,  2.96s/it]<00:20,  3.41s/it]\n",
      "Training (8800 / 18000 Steps) (loss=0.45876):  29%|██▊       | 2/7 [00:09<00:26,  5.23s/it]"
     ]
    },
    {
     "name": "stdout",
     "output_type": "stream",
     "text": [
      "Model Was Not Saved ! Current Best Avg. Dice: 0.35737332701683044 Current Avg. Dice: 0.3375796973705292 Current Avg. tumor Dice: 0.3234597444534302 Current Avg. lymph Dice: 0.3516996502876282\n"
     ]
    },
    {
     "name": "stderr",
     "output_type": "stream",
     "text": [
      "Training (8805 / 18000 Steps) (loss=0.49545): 100%|██████████| 7/7 [00:12<00:00,  1.81s/it]\n",
      "Training (8812 / 18000 Steps) (loss=0.38534): 100%|██████████| 7/7 [00:06<00:00,  1.03it/s]\n",
      "Training (8819 / 18000 Steps) (loss=0.28408): 100%|██████████| 7/7 [00:06<00:00,  1.02it/s]\n",
      "Training (8826 / 18000 Steps) (loss=0.45189): 100%|██████████| 7/7 [00:07<00:00,  1.02s/it]\n",
      "Training (8833 / 18000 Steps) (loss=0.42108): 100%|██████████| 7/7 [00:07<00:00,  1.02s/it]\n",
      "Training (8840 / 18000 Steps) (loss=0.37650): 100%|██████████| 7/7 [00:07<00:00,  1.05s/it]\n",
      "Training (8847 / 18000 Steps) (loss=0.39563): 100%|██████████| 7/7 [00:06<00:00,  1.02it/s]\n",
      "Training (8854 / 18000 Steps) (loss=0.44562): 100%|██████████| 7/7 [00:06<00:00,  1.01it/s]\n",
      "Training (8861 / 18000 Steps) (loss=0.42377): 100%|██████████| 7/7 [00:06<00:00,  1.03it/s]\n",
      "Training (8868 / 18000 Steps) (loss=0.39094): 100%|██████████| 7/7 [00:07<00:00,  1.03s/it]\n",
      "Training (8875 / 18000 Steps) (loss=0.48944): 100%|██████████| 7/7 [00:06<00:00,  1.01it/s]\n",
      "Training (8882 / 18000 Steps) (loss=0.58437): 100%|██████████| 7/7 [00:07<00:00,  1.06s/it]\n",
      "Training (8889 / 18000 Steps) (loss=0.68031): 100%|██████████| 7/7 [00:07<00:00,  1.03s/it]\n",
      "Training (8896 / 18000 Steps) (loss=0.31963): 100%|██████████| 7/7 [00:07<00:00,  1.01s/it]\n",
      "Validate (8897 / 10 Steps): 100%|██████████| 2/2 [00:05<00:00,  2.97s/it]<00:05,  1.38s/it]\n",
      "Training (8900 / 18000 Steps) (loss=0.34733):  57%|█████▋    | 4/7 [00:11<00:10,  3.45s/it]"
     ]
    },
    {
     "name": "stdout",
     "output_type": "stream",
     "text": [
      "Model Was Not Saved ! Current Best Avg. Dice: 0.35737332701683044 Current Avg. Dice: 0.3508703410625458 Current Avg. tumor Dice: 0.34047651290893555 Current Avg. lymph Dice: 0.361264169216156\n"
     ]
    },
    {
     "name": "stderr",
     "output_type": "stream",
     "text": [
      "Training (8903 / 18000 Steps) (loss=0.41918): 100%|██████████| 7/7 [00:13<00:00,  1.93s/it]\n",
      "Training (8910 / 18000 Steps) (loss=0.62661): 100%|██████████| 7/7 [00:07<00:00,  1.03s/it]\n",
      "Training (8917 / 18000 Steps) (loss=0.56222): 100%|██████████| 7/7 [00:07<00:00,  1.02s/it]\n",
      "Training (8924 / 18000 Steps) (loss=0.38325): 100%|██████████| 7/7 [00:06<00:00,  1.03it/s]\n",
      "Training (8931 / 18000 Steps) (loss=0.20204): 100%|██████████| 7/7 [00:06<00:00,  1.04it/s]\n",
      "Training (8938 / 18000 Steps) (loss=0.33026): 100%|██████████| 7/7 [00:06<00:00,  1.03it/s]\n",
      "Training (8945 / 18000 Steps) (loss=0.29284): 100%|██████████| 7/7 [00:06<00:00,  1.05it/s]\n",
      "Training (8952 / 18000 Steps) (loss=0.25519): 100%|██████████| 7/7 [00:06<00:00,  1.02it/s]\n",
      "Training (8959 / 18000 Steps) (loss=0.48720): 100%|██████████| 7/7 [00:07<00:00,  1.06s/it]\n",
      "Training (8966 / 18000 Steps) (loss=0.40663): 100%|██████████| 7/7 [00:07<00:00,  1.03s/it]\n",
      "Training (8973 / 18000 Steps) (loss=0.32397): 100%|██████████| 7/7 [00:07<00:00,  1.05s/it]\n",
      "Training (8980 / 18000 Steps) (loss=0.31917): 100%|██████████| 7/7 [00:06<00:00,  1.00it/s]\n",
      "Training (8987 / 18000 Steps) (loss=0.41214): 100%|██████████| 7/7 [00:06<00:00,  1.06it/s]\n",
      "Training (8994 / 18000 Steps) (loss=0.35171): 100%|██████████| 7/7 [00:07<00:00,  1.02s/it]\n",
      "Validate (8995 / 10 Steps): 100%|██████████| 2/2 [00:05<00:00,  2.85s/it]<00:01,  1.13it/s]\n",
      "Training (9000 / 18000 Steps) (loss=0.40359):  86%|████████▌ | 6/7 [00:12<00:02,  2.76s/it]"
     ]
    },
    {
     "name": "stdout",
     "output_type": "stream",
     "text": [
      "Model Was Not Saved ! Current Best Avg. Dice: 0.35737332701683044 Current Avg. Dice: 0.3113020658493042 Current Avg. tumor Dice: 0.32061871886253357 Current Avg. lymph Dice: 0.3019854426383972\n"
     ]
    },
    {
     "name": "stderr",
     "output_type": "stream",
     "text": [
      "Training (9001 / 18000 Steps) (loss=0.24176): 100%|██████████| 7/7 [00:13<00:00,  1.87s/it]\n",
      "Training (9008 / 18000 Steps) (loss=0.56245): 100%|██████████| 7/7 [00:07<00:00,  1.09s/it]\n",
      "Training (9015 / 18000 Steps) (loss=0.49047): 100%|██████████| 7/7 [00:07<00:00,  1.07s/it]\n",
      "Training (9022 / 18000 Steps) (loss=0.41418): 100%|██████████| 7/7 [00:06<00:00,  1.05it/s]\n",
      "Training (9029 / 18000 Steps) (loss=0.39111): 100%|██████████| 7/7 [00:06<00:00,  1.08it/s]\n",
      "Training (9036 / 18000 Steps) (loss=0.56269): 100%|██████████| 7/7 [00:06<00:00,  1.10it/s]\n",
      "Training (9043 / 18000 Steps) (loss=0.42968): 100%|██████████| 7/7 [00:06<00:00,  1.05it/s]\n",
      "Training (9050 / 18000 Steps) (loss=0.49496): 100%|██████████| 7/7 [00:07<00:00,  1.01s/it]\n",
      "Training (9057 / 18000 Steps) (loss=0.49997): 100%|██████████| 7/7 [00:06<00:00,  1.01it/s]\n",
      "Training (9064 / 18000 Steps) (loss=0.18794): 100%|██████████| 7/7 [00:07<00:00,  1.02s/it]\n",
      "Training (9071 / 18000 Steps) (loss=0.38741): 100%|██████████| 7/7 [00:07<00:00,  1.06s/it]\n",
      "Training (9078 / 18000 Steps) (loss=0.41216): 100%|██████████| 7/7 [00:06<00:00,  1.01it/s]\n",
      "Training (9085 / 18000 Steps) (loss=0.55005): 100%|██████████| 7/7 [00:07<00:00,  1.00s/it]\n",
      "Training (9092 / 18000 Steps) (loss=0.57693): 100%|██████████| 7/7 [00:07<00:00,  1.00s/it]\n",
      "Training (9099 / 18000 Steps) (loss=0.47625): 100%|██████████| 7/7 [00:07<00:00,  1.06s/it]\n",
      "Validate (9100 / 10 Steps): 100%|██████████| 2/2 [00:05<00:00,  2.79s/it]<?, ?it/s]\n",
      "Training (9100 / 18000 Steps) (loss=0.27386):  14%|█▍        | 1/7 [00:09<00:58,  9.69s/it]"
     ]
    },
    {
     "name": "stdout",
     "output_type": "stream",
     "text": [
      "Model Was Saved ! Current Best Avg. Dice: 0.36154210567474365 Current Avg. Dice: 0.36154210567474365 Current Avg. tumor Dice: 0.3619965612888336 Current Avg. lymph Dice: 0.3610875904560089\n"
     ]
    },
    {
     "name": "stderr",
     "output_type": "stream",
     "text": [
      "Training (9106 / 18000 Steps) (loss=0.36239): 100%|██████████| 7/7 [00:13<00:00,  1.90s/it]\n",
      "Training (9113 / 18000 Steps) (loss=0.54408): 100%|██████████| 7/7 [00:07<00:00,  1.04s/it]\n",
      "Training (9120 / 18000 Steps) (loss=0.59773): 100%|██████████| 7/7 [00:07<00:00,  1.03s/it]\n",
      "Training (9127 / 18000 Steps) (loss=0.37944): 100%|██████████| 7/7 [00:07<00:00,  1.03s/it]\n",
      "Training (9134 / 18000 Steps) (loss=0.38019): 100%|██████████| 7/7 [00:07<00:00,  1.02s/it]\n",
      "Training (9141 / 18000 Steps) (loss=0.30898): 100%|██████████| 7/7 [00:07<00:00,  1.07s/it]\n",
      "Training (9148 / 18000 Steps) (loss=0.43634): 100%|██████████| 7/7 [00:07<00:00,  1.03s/it]\n",
      "Training (9155 / 18000 Steps) (loss=0.50968): 100%|██████████| 7/7 [00:07<00:00,  1.04s/it]\n",
      "Training (9162 / 18000 Steps) (loss=0.58732): 100%|██████████| 7/7 [00:07<00:00,  1.12s/it]\n",
      "Training (9169 / 18000 Steps) (loss=0.61534): 100%|██████████| 7/7 [00:08<00:00,  1.19s/it]\n",
      "Training (9176 / 18000 Steps) (loss=0.49130): 100%|██████████| 7/7 [00:07<00:00,  1.01s/it]\n",
      "Training (9183 / 18000 Steps) (loss=0.52667): 100%|██████████| 7/7 [00:07<00:00,  1.04s/it]\n",
      "Training (9190 / 18000 Steps) (loss=0.45826): 100%|██████████| 7/7 [00:07<00:00,  1.04s/it]\n",
      "Training (9197 / 18000 Steps) (loss=0.34763): 100%|██████████| 7/7 [00:07<00:00,  1.05s/it]\n",
      "Validate (9198 / 10 Steps): 100%|██████████| 2/2 [00:05<00:00,  2.74s/it]<00:08,  1.77s/it]\n",
      "Training (9200 / 18000 Steps) (loss=0.37465):  43%|████▎     | 3/7 [00:10<00:15,  3.76s/it]"
     ]
    },
    {
     "name": "stdout",
     "output_type": "stream",
     "text": [
      "Model Was Not Saved ! Current Best Avg. Dice: 0.36154210567474365 Current Avg. Dice: 0.33625179529190063 Current Avg. tumor Dice: 0.3127598464488983 Current Avg. lymph Dice: 0.35974380373954773\n"
     ]
    },
    {
     "name": "stderr",
     "output_type": "stream",
     "text": [
      "Training (9204 / 18000 Steps) (loss=0.62129): 100%|██████████| 7/7 [00:12<00:00,  1.78s/it]\n",
      "Training (9211 / 18000 Steps) (loss=0.30585): 100%|██████████| 7/7 [00:07<00:00,  1.03s/it]\n",
      "Training (9218 / 18000 Steps) (loss=0.44140): 100%|██████████| 7/7 [00:06<00:00,  1.02it/s]\n",
      "Training (9225 / 18000 Steps) (loss=0.44405): 100%|██████████| 7/7 [00:07<00:00,  1.04s/it]\n",
      "Training (9232 / 18000 Steps) (loss=0.44447): 100%|██████████| 7/7 [00:07<00:00,  1.02s/it]\n",
      "Training (9239 / 18000 Steps) (loss=0.54342): 100%|██████████| 7/7 [00:07<00:00,  1.03s/it]\n",
      "Training (9246 / 18000 Steps) (loss=0.42621): 100%|██████████| 7/7 [00:07<00:00,  1.02s/it]\n",
      "Training (9253 / 18000 Steps) (loss=0.53068): 100%|██████████| 7/7 [00:07<00:00,  1.01s/it]\n",
      "Training (9260 / 18000 Steps) (loss=0.47152): 100%|██████████| 7/7 [00:07<00:00,  1.08s/it]\n",
      "Training (9267 / 18000 Steps) (loss=0.38086): 100%|██████████| 7/7 [00:07<00:00,  1.03s/it]\n",
      "Training (9274 / 18000 Steps) (loss=0.42925): 100%|██████████| 7/7 [00:07<00:00,  1.03s/it]\n",
      "Training (9281 / 18000 Steps) (loss=0.34042): 100%|██████████| 7/7 [00:07<00:00,  1.01s/it]\n",
      "Training (9288 / 18000 Steps) (loss=0.27152): 100%|██████████| 7/7 [00:06<00:00,  1.02it/s]\n",
      "Training (9295 / 18000 Steps) (loss=0.59910): 100%|██████████| 7/7 [00:07<00:00,  1.04s/it]\n",
      "Validate (9296 / 10 Steps): 100%|██████████| 2/2 [00:05<00:00,  2.86s/it]<00:03,  1.01s/it]\n",
      "Training (9300 / 18000 Steps) (loss=0.37181):  71%|███████▏  | 5/7 [00:11<00:05,  2.96s/it]"
     ]
    },
    {
     "name": "stdout",
     "output_type": "stream",
     "text": [
      "Model Was Not Saved ! Current Best Avg. Dice: 0.36154210567474365 Current Avg. Dice: 0.30119895935058594 Current Avg. tumor Dice: 0.27986976504325867 Current Avg. lymph Dice: 0.32252809405326843\n"
     ]
    },
    {
     "name": "stderr",
     "output_type": "stream",
     "text": [
      "Training (9302 / 18000 Steps) (loss=0.41509): 100%|██████████| 7/7 [00:12<00:00,  1.83s/it]\n",
      "Training (9309 / 18000 Steps) (loss=0.25104): 100%|██████████| 7/7 [00:06<00:00,  1.01it/s]\n",
      "Training (9316 / 18000 Steps) (loss=0.44866): 100%|██████████| 7/7 [00:07<00:00,  1.07s/it]\n",
      "Training (9323 / 18000 Steps) (loss=0.62453): 100%|██████████| 7/7 [00:07<00:00,  1.04s/it]\n",
      "Training (9330 / 18000 Steps) (loss=0.40169): 100%|██████████| 7/7 [00:07<00:00,  1.02s/it]\n",
      "Training (9337 / 18000 Steps) (loss=0.61190): 100%|██████████| 7/7 [00:06<00:00,  1.00it/s]\n",
      "Training (9344 / 18000 Steps) (loss=0.32530): 100%|██████████| 7/7 [00:07<00:00,  1.03s/it]\n",
      "Training (9351 / 18000 Steps) (loss=0.41216): 100%|██████████| 7/7 [00:07<00:00,  1.05s/it]\n",
      "Training (9358 / 18000 Steps) (loss=0.44201): 100%|██████████| 7/7 [00:07<00:00,  1.11s/it]\n",
      "Training (9365 / 18000 Steps) (loss=0.35939): 100%|██████████| 7/7 [00:07<00:00,  1.03s/it]\n",
      "Training (9372 / 18000 Steps) (loss=0.34557): 100%|██████████| 7/7 [00:07<00:00,  1.01s/it]\n",
      "Training (9379 / 18000 Steps) (loss=0.23603): 100%|██████████| 7/7 [00:07<00:00,  1.01s/it]\n",
      "Training (9386 / 18000 Steps) (loss=0.48791): 100%|██████████| 7/7 [00:07<00:00,  1.04s/it]\n",
      "Training (9393 / 18000 Steps) (loss=0.22735): 100%|██████████| 7/7 [00:07<00:00,  1.01s/it]\n",
      "Validate (9394 / 10 Steps): 100%|██████████| 2/2 [00:04<00:00,  2.46s/it]<00:00,  1.33it/s]\n",
      "Training (9400 / 18000 Steps) (loss=0.53386): 100%|██████████| 7/7 [00:11<00:00,  1.67s/it]\n"
     ]
    },
    {
     "name": "stdout",
     "output_type": "stream",
     "text": [
      "Model Was Not Saved ! Current Best Avg. Dice: 0.36154210567474365 Current Avg. Dice: 0.30285781621932983 Current Avg. tumor Dice: 0.29698988795280457 Current Avg. lymph Dice: 0.3087257146835327\n"
     ]
    },
    {
     "name": "stderr",
     "output_type": "stream",
     "text": [
      "Training (9407 / 18000 Steps) (loss=0.35780): 100%|██████████| 7/7 [00:06<00:00,  1.11it/s]\n",
      "Training (9414 / 18000 Steps) (loss=0.28338): 100%|██████████| 7/7 [00:06<00:00,  1.09it/s]\n",
      "Training (9421 / 18000 Steps) (loss=0.44431): 100%|██████████| 7/7 [00:06<00:00,  1.08it/s]\n",
      "Training (9428 / 18000 Steps) (loss=0.43950): 100%|██████████| 7/7 [00:06<00:00,  1.14it/s]\n",
      "Training (9435 / 18000 Steps) (loss=0.56185): 100%|██████████| 7/7 [00:06<00:00,  1.14it/s]\n",
      "Training (9442 / 18000 Steps) (loss=0.52036): 100%|██████████| 7/7 [00:06<00:00,  1.15it/s]\n",
      "Training (9449 / 18000 Steps) (loss=0.33150): 100%|██████████| 7/7 [00:05<00:00,  1.19it/s]\n",
      "Training (9456 / 18000 Steps) (loss=0.51960): 100%|██████████| 7/7 [00:06<00:00,  1.09it/s]\n",
      "Training (9463 / 18000 Steps) (loss=0.32315): 100%|██████████| 7/7 [00:06<00:00,  1.13it/s]\n",
      "Training (9470 / 18000 Steps) (loss=0.43720): 100%|██████████| 7/7 [00:06<00:00,  1.09it/s]\n",
      "Training (9477 / 18000 Steps) (loss=0.67044): 100%|██████████| 7/7 [00:06<00:00,  1.11it/s]\n",
      "Training (9484 / 18000 Steps) (loss=0.37302): 100%|██████████| 7/7 [00:06<00:00,  1.16it/s]\n",
      "Training (9491 / 18000 Steps) (loss=0.50353): 100%|██████████| 7/7 [00:05<00:00,  1.18it/s]\n",
      "Training (9498 / 18000 Steps) (loss=0.25638): 100%|██████████| 7/7 [00:06<00:00,  1.16it/s]\n",
      "Validate (9499 / 10 Steps): 100%|██████████| 2/2 [00:04<00:00,  2.45s/it]<00:18,  3.04s/it]\n",
      "Training (9500 / 18000 Steps) (loss=0.53273):  29%|██▊       | 2/7 [00:08<00:22,  4.45s/it]"
     ]
    },
    {
     "name": "stdout",
     "output_type": "stream",
     "text": [
      "Model Was Not Saved ! Current Best Avg. Dice: 0.36154210567474365 Current Avg. Dice: 0.33391273021698 Current Avg. tumor Dice: 0.30594080686569214 Current Avg. lymph Dice: 0.3618846833705902\n"
     ]
    },
    {
     "name": "stderr",
     "output_type": "stream",
     "text": [
      "Training (9505 / 18000 Steps) (loss=0.40218): 100%|██████████| 7/7 [00:10<00:00,  1.55s/it]\n",
      "Training (9512 / 18000 Steps) (loss=0.38840): 100%|██████████| 7/7 [00:06<00:00,  1.16it/s]\n",
      "Training (9519 / 18000 Steps) (loss=0.37343): 100%|██████████| 7/7 [00:06<00:00,  1.15it/s]\n",
      "Training (9526 / 18000 Steps) (loss=0.48875): 100%|██████████| 7/7 [00:06<00:00,  1.17it/s]\n",
      "Training (9533 / 18000 Steps) (loss=0.23802): 100%|██████████| 7/7 [00:06<00:00,  1.13it/s]\n",
      "Training (9540 / 18000 Steps) (loss=0.31862): 100%|██████████| 7/7 [00:06<00:00,  1.15it/s]\n",
      "Training (9547 / 18000 Steps) (loss=0.60309): 100%|██████████| 7/7 [00:06<00:00,  1.14it/s]\n",
      "Training (9554 / 18000 Steps) (loss=0.43865): 100%|██████████| 7/7 [00:06<00:00,  1.10it/s]\n",
      "Training (9561 / 18000 Steps) (loss=0.28190): 100%|██████████| 7/7 [00:06<00:00,  1.11it/s]\n",
      "Training (9568 / 18000 Steps) (loss=0.46325): 100%|██████████| 7/7 [00:06<00:00,  1.11it/s]\n",
      "Training (9575 / 18000 Steps) (loss=0.40170): 100%|██████████| 7/7 [00:06<00:00,  1.13it/s]\n",
      "Training (9582 / 18000 Steps) (loss=0.56136): 100%|██████████| 7/7 [00:06<00:00,  1.11it/s]\n",
      "Training (9589 / 18000 Steps) (loss=0.30110): 100%|██████████| 7/7 [00:05<00:00,  1.17it/s]\n",
      "Training (9596 / 18000 Steps) (loss=0.45234): 100%|██████████| 7/7 [00:06<00:00,  1.15it/s]\n",
      "Validate (9597 / 10 Steps): 100%|██████████| 2/2 [00:05<00:00,  2.53s/it]<00:04,  1.16s/it]\n",
      "Training (9600 / 18000 Steps) (loss=0.41617):  57%|█████▋    | 4/7 [00:10<00:08,  2.92s/it]"
     ]
    },
    {
     "name": "stdout",
     "output_type": "stream",
     "text": [
      "Model Was Not Saved ! Current Best Avg. Dice: 0.36154210567474365 Current Avg. Dice: 0.2929731011390686 Current Avg. tumor Dice: 0.3021280765533447 Current Avg. lymph Dice: 0.2838180661201477\n"
     ]
    },
    {
     "name": "stderr",
     "output_type": "stream",
     "text": [
      "Training (9603 / 18000 Steps) (loss=0.33759): 100%|██████████| 7/7 [00:11<00:00,  1.63s/it]\n",
      "Training (9610 / 18000 Steps) (loss=0.17578): 100%|██████████| 7/7 [00:06<00:00,  1.10it/s]\n",
      "Training (9617 / 18000 Steps) (loss=0.56048): 100%|██████████| 7/7 [00:06<00:00,  1.08it/s]\n",
      "Training (9624 / 18000 Steps) (loss=0.43932): 100%|██████████| 7/7 [00:06<00:00,  1.14it/s]\n",
      "Training (9631 / 18000 Steps) (loss=0.23672): 100%|██████████| 7/7 [00:06<00:00,  1.10it/s]\n",
      "Training (9638 / 18000 Steps) (loss=0.39867): 100%|██████████| 7/7 [00:05<00:00,  1.20it/s]\n",
      "Training (9645 / 18000 Steps) (loss=0.27822): 100%|██████████| 7/7 [00:06<00:00,  1.09it/s]\n",
      "Training (9652 / 18000 Steps) (loss=0.49044): 100%|██████████| 7/7 [00:06<00:00,  1.04it/s]\n",
      "Training (9659 / 18000 Steps) (loss=0.42572): 100%|██████████| 7/7 [00:06<00:00,  1.14it/s]\n",
      "Training (9666 / 18000 Steps) (loss=0.44890): 100%|██████████| 7/7 [00:06<00:00,  1.13it/s]\n",
      "Training (9673 / 18000 Steps) (loss=0.57113): 100%|██████████| 7/7 [00:06<00:00,  1.11it/s]\n",
      "Training (9680 / 18000 Steps) (loss=0.44290): 100%|██████████| 7/7 [00:06<00:00,  1.14it/s]\n",
      "Training (9687 / 18000 Steps) (loss=0.28202): 100%|██████████| 7/7 [00:06<00:00,  1.13it/s]\n",
      "Training (9694 / 18000 Steps) (loss=0.57446): 100%|██████████| 7/7 [00:06<00:00,  1.12it/s]\n",
      "Validate (9695 / 10 Steps): 100%|██████████| 2/2 [00:04<00:00,  2.25s/it]<00:01,  1.58it/s]\n",
      "Training (9700 / 18000 Steps) (loss=0.43744):  86%|████████▌ | 6/7 [00:09<00:02,  2.11s/it]"
     ]
    },
    {
     "name": "stdout",
     "output_type": "stream",
     "text": [
      "Model Was Not Saved ! Current Best Avg. Dice: 0.36154210567474365 Current Avg. Dice: 0.32896101474761963 Current Avg. tumor Dice: 0.3243130147457123 Current Avg. lymph Dice: 0.3336089551448822\n"
     ]
    },
    {
     "name": "stderr",
     "output_type": "stream",
     "text": [
      "Training (9701 / 18000 Steps) (loss=0.32265): 100%|██████████| 7/7 [00:09<00:00,  1.42s/it]\n",
      "Training (9708 / 18000 Steps) (loss=0.53987): 100%|██████████| 7/7 [00:06<00:00,  1.15it/s]\n",
      "Training (9715 / 18000 Steps) (loss=0.38723): 100%|██████████| 7/7 [00:06<00:00,  1.16it/s]\n",
      "Training (9722 / 18000 Steps) (loss=0.50769): 100%|██████████| 7/7 [00:06<00:00,  1.12it/s]\n",
      "Training (9729 / 18000 Steps) (loss=0.42494): 100%|██████████| 7/7 [00:06<00:00,  1.17it/s]\n",
      "Training (9736 / 18000 Steps) (loss=0.37917): 100%|██████████| 7/7 [00:06<00:00,  1.10it/s]\n",
      "Training (9743 / 18000 Steps) (loss=0.32184): 100%|██████████| 7/7 [00:06<00:00,  1.09it/s]\n",
      "Training (9750 / 18000 Steps) (loss=0.40374): 100%|██████████| 7/7 [00:06<00:00,  1.09it/s]\n",
      "Training (9757 / 18000 Steps) (loss=0.39198): 100%|██████████| 7/7 [00:06<00:00,  1.06it/s]\n",
      "Training (9764 / 18000 Steps) (loss=0.46500): 100%|██████████| 7/7 [00:06<00:00,  1.10it/s]\n",
      "Training (9771 / 18000 Steps) (loss=0.41808): 100%|██████████| 7/7 [00:06<00:00,  1.15it/s]\n",
      "Training (9778 / 18000 Steps) (loss=0.42042): 100%|██████████| 7/7 [00:06<00:00,  1.11it/s]\n",
      "Training (9785 / 18000 Steps) (loss=0.46366): 100%|██████████| 7/7 [00:06<00:00,  1.14it/s]\n",
      "Training (9792 / 18000 Steps) (loss=0.47702): 100%|██████████| 7/7 [00:05<00:00,  1.18it/s]\n",
      "Training (9799 / 18000 Steps) (loss=0.43266): 100%|██████████| 7/7 [00:06<00:00,  1.06it/s]\n",
      "Validate (9800 / 10 Steps): 100%|██████████| 2/2 [00:04<00:00,  2.39s/it]<?, ?it/s]\n",
      "Training (9800 / 18000 Steps) (loss=0.42180):  14%|█▍        | 1/7 [00:08<00:50,  8.38s/it]"
     ]
    },
    {
     "name": "stdout",
     "output_type": "stream",
     "text": [
      "Model Was Not Saved ! Current Best Avg. Dice: 0.36154210567474365 Current Avg. Dice: 0.2893393039703369 Current Avg. tumor Dice: 0.27310335636138916 Current Avg. lymph Dice: 0.3055752217769623\n"
     ]
    },
    {
     "name": "stderr",
     "output_type": "stream",
     "text": [
      "Training (9806 / 18000 Steps) (loss=0.48064): 100%|██████████| 7/7 [00:11<00:00,  1.60s/it]\n",
      "Training (9813 / 18000 Steps) (loss=0.34139): 100%|██████████| 7/7 [00:06<00:00,  1.16it/s]\n",
      "Training (9820 / 18000 Steps) (loss=0.56007): 100%|██████████| 7/7 [00:06<00:00,  1.08it/s]\n",
      "Training (9827 / 18000 Steps) (loss=0.42099): 100%|██████████| 7/7 [00:06<00:00,  1.13it/s]\n",
      "Training (9834 / 18000 Steps) (loss=0.22925): 100%|██████████| 7/7 [00:06<00:00,  1.09it/s]\n",
      "Training (9841 / 18000 Steps) (loss=0.43730): 100%|██████████| 7/7 [00:06<00:00,  1.15it/s]\n",
      "Training (9848 / 18000 Steps) (loss=0.37777): 100%|██████████| 7/7 [00:06<00:00,  1.15it/s]\n",
      "Training (9855 / 18000 Steps) (loss=0.48327): 100%|██████████| 7/7 [00:06<00:00,  1.13it/s]\n",
      "Training (9862 / 18000 Steps) (loss=0.56911): 100%|██████████| 7/7 [00:05<00:00,  1.20it/s]\n",
      "Training (9869 / 18000 Steps) (loss=0.59363): 100%|██████████| 7/7 [00:06<00:00,  1.13it/s]\n",
      "Training (9876 / 18000 Steps) (loss=0.25636): 100%|██████████| 7/7 [00:06<00:00,  1.09it/s]\n",
      "Training (9883 / 18000 Steps) (loss=0.35967): 100%|██████████| 7/7 [00:06<00:00,  1.10it/s]\n",
      "Training (9890 / 18000 Steps) (loss=0.34964): 100%|██████████| 7/7 [00:06<00:00,  1.13it/s]\n",
      "Training (9897 / 18000 Steps) (loss=0.48590): 100%|██████████| 7/7 [00:06<00:00,  1.10it/s]\n",
      "Validate (9898 / 10 Steps): 100%|██████████| 2/2 [00:04<00:00,  2.39s/it]<00:07,  1.59s/it]\n",
      "Training (9900 / 18000 Steps) (loss=0.32708):  43%|████▎     | 3/7 [00:08<00:13,  3.30s/it]"
     ]
    },
    {
     "name": "stdout",
     "output_type": "stream",
     "text": [
      "Model Was Not Saved ! Current Best Avg. Dice: 0.36154210567474365 Current Avg. Dice: 0.3124784529209137 Current Avg. tumor Dice: 0.31775718927383423 Current Avg. lymph Dice: 0.30719971656799316\n"
     ]
    },
    {
     "name": "stderr",
     "output_type": "stream",
     "text": [
      "Training (9904 / 18000 Steps) (loss=0.55356): 100%|██████████| 7/7 [00:10<00:00,  1.55s/it]\n",
      "Training (9911 / 18000 Steps) (loss=0.32035): 100%|██████████| 7/7 [00:06<00:00,  1.15it/s]\n",
      "Training (9918 / 18000 Steps) (loss=0.29143): 100%|██████████| 7/7 [00:06<00:00,  1.13it/s]\n",
      "Training (9925 / 18000 Steps) (loss=0.48064): 100%|██████████| 7/7 [00:06<00:00,  1.14it/s]\n",
      "Training (9932 / 18000 Steps) (loss=0.23806): 100%|██████████| 7/7 [00:06<00:00,  1.11it/s]\n",
      "Training (9939 / 18000 Steps) (loss=0.20998): 100%|██████████| 7/7 [00:06<00:00,  1.13it/s]\n",
      "Training (9946 / 18000 Steps) (loss=0.55698): 100%|██████████| 7/7 [00:06<00:00,  1.11it/s]\n",
      "Training (9953 / 18000 Steps) (loss=0.55360): 100%|██████████| 7/7 [00:05<00:00,  1.19it/s]\n",
      "Training (9960 / 18000 Steps) (loss=0.56719): 100%|██████████| 7/7 [00:06<00:00,  1.13it/s]\n",
      "Training (9967 / 18000 Steps) (loss=0.45352): 100%|██████████| 7/7 [00:05<00:00,  1.19it/s]\n",
      "Training (9974 / 18000 Steps) (loss=0.56356): 100%|██████████| 7/7 [00:06<00:00,  1.15it/s]\n",
      "Training (9981 / 18000 Steps) (loss=0.54532): 100%|██████████| 7/7 [00:06<00:00,  1.10it/s]\n",
      "Training (9988 / 18000 Steps) (loss=0.26513): 100%|██████████| 7/7 [00:06<00:00,  1.03it/s]\n",
      "Training (9995 / 18000 Steps) (loss=0.33785): 100%|██████████| 7/7 [00:06<00:00,  1.09it/s]\n",
      "Validate (9996 / 10 Steps): 100%|██████████| 2/2 [00:04<00:00,  2.36s/it]5<00:02,  1.16it/s]\n",
      "Training (10000 / 18000 Steps) (loss=0.49985):  71%|███████▏  | 5/7 [00:09<00:04,  2.45s/it]"
     ]
    },
    {
     "name": "stdout",
     "output_type": "stream",
     "text": [
      "Model Was Not Saved ! Current Best Avg. Dice: 0.36154210567474365 Current Avg. Dice: 0.33897918462753296 Current Avg. tumor Dice: 0.3408650755882263 Current Avg. lymph Dice: 0.337093323469162\n"
     ]
    },
    {
     "name": "stderr",
     "output_type": "stream",
     "text": [
      "Training (10002 / 18000 Steps) (loss=0.42179): 100%|██████████| 7/7 [00:10<00:00,  1.54s/it]\n",
      "Training (10009 / 18000 Steps) (loss=0.45799): 100%|██████████| 7/7 [00:06<00:00,  1.13it/s]\n",
      "Training (10016 / 18000 Steps) (loss=0.31504): 100%|██████████| 7/7 [00:06<00:00,  1.16it/s]\n",
      "Training (10023 / 18000 Steps) (loss=0.61218): 100%|██████████| 7/7 [00:06<00:00,  1.10it/s]\n",
      "Training (10030 / 18000 Steps) (loss=0.51727): 100%|██████████| 7/7 [00:06<00:00,  1.16it/s]\n",
      "Training (10037 / 18000 Steps) (loss=0.47147): 100%|██████████| 7/7 [00:06<00:00,  1.16it/s]\n",
      "Training (10044 / 18000 Steps) (loss=0.33694): 100%|██████████| 7/7 [00:06<00:00,  1.10it/s]\n",
      "Training (10051 / 18000 Steps) (loss=0.47289): 100%|██████████| 7/7 [00:06<00:00,  1.13it/s]\n",
      "Training (10058 / 18000 Steps) (loss=0.46085): 100%|██████████| 7/7 [00:06<00:00,  1.05it/s]\n",
      "Training (10065 / 18000 Steps) (loss=0.65104): 100%|██████████| 7/7 [00:06<00:00,  1.04it/s]\n",
      "Training (10072 / 18000 Steps) (loss=0.38334): 100%|██████████| 7/7 [00:06<00:00,  1.11it/s]\n",
      "Training (10079 / 18000 Steps) (loss=0.34218): 100%|██████████| 7/7 [00:05<00:00,  1.20it/s]\n",
      "Training (10086 / 18000 Steps) (loss=0.43472): 100%|██████████| 7/7 [00:06<00:00,  1.09it/s]\n",
      "Training (10093 / 18000 Steps) (loss=0.52851): 100%|██████████| 7/7 [00:05<00:00,  1.20it/s]\n",
      "Validate (10094 / 10 Steps): 100%|██████████| 2/2 [00:04<00:00,  2.42s/it]<00:00,  1.50it/s]\n",
      "Training (10100 / 18000 Steps) (loss=0.49595): 100%|██████████| 7/7 [00:11<00:00,  1.59s/it]\n"
     ]
    },
    {
     "name": "stdout",
     "output_type": "stream",
     "text": [
      "Model Was Not Saved ! Current Best Avg. Dice: 0.36154210567474365 Current Avg. Dice: 0.3302967846393585 Current Avg. tumor Dice: 0.32996854186058044 Current Avg. lymph Dice: 0.330625057220459\n"
     ]
    },
    {
     "name": "stderr",
     "output_type": "stream",
     "text": [
      "Training (10107 / 18000 Steps) (loss=0.43099): 100%|██████████| 7/7 [00:05<00:00,  1.17it/s]\n",
      "Training (10114 / 18000 Steps) (loss=0.54102): 100%|██████████| 7/7 [00:05<00:00,  1.20it/s]\n",
      "Training (10121 / 18000 Steps) (loss=0.47220): 100%|██████████| 7/7 [00:06<00:00,  1.14it/s]\n",
      "Training (10128 / 18000 Steps) (loss=0.26797): 100%|██████████| 7/7 [00:06<00:00,  1.12it/s]\n",
      "Training (10135 / 18000 Steps) (loss=0.59252): 100%|██████████| 7/7 [00:06<00:00,  1.06it/s]\n",
      "Training (10142 / 18000 Steps) (loss=0.48791): 100%|██████████| 7/7 [00:06<00:00,  1.16it/s]\n",
      "Training (10149 / 18000 Steps) (loss=0.49915): 100%|██████████| 7/7 [00:06<00:00,  1.14it/s]\n",
      "Training (10156 / 18000 Steps) (loss=0.34353): 100%|██████████| 7/7 [00:06<00:00,  1.14it/s]\n",
      "Training (10163 / 18000 Steps) (loss=0.27607): 100%|██████████| 7/7 [00:05<00:00,  1.17it/s]\n",
      "Training (10170 / 18000 Steps) (loss=0.49423): 100%|██████████| 7/7 [00:06<00:00,  1.12it/s]\n",
      "Training (10177 / 18000 Steps) (loss=0.32539): 100%|██████████| 7/7 [00:06<00:00,  1.09it/s]\n",
      "Training (10184 / 18000 Steps) (loss=0.53359): 100%|██████████| 7/7 [00:05<00:00,  1.17it/s]\n",
      "Training (10191 / 18000 Steps) (loss=0.44063): 100%|██████████| 7/7 [00:06<00:00,  1.13it/s]\n",
      "Training (10198 / 18000 Steps) (loss=0.39464): 100%|██████████| 7/7 [00:06<00:00,  1.13it/s]\n",
      "Validate (10199 / 10 Steps): 100%|██████████| 2/2 [00:05<00:00,  2.58s/it]<00:20,  3.37s/it]\n",
      "Training (10200 / 18000 Steps) (loss=0.41880):  29%|██▊       | 2/7 [00:09<00:23,  4.75s/it]"
     ]
    },
    {
     "name": "stdout",
     "output_type": "stream",
     "text": [
      "Model Was Not Saved ! Current Best Avg. Dice: 0.36154210567474365 Current Avg. Dice: 0.30362969636917114 Current Avg. tumor Dice: 0.3032775819301605 Current Avg. lymph Dice: 0.30398184061050415\n"
     ]
    },
    {
     "name": "stderr",
     "output_type": "stream",
     "text": [
      "Training (10205 / 18000 Steps) (loss=0.41645): 100%|██████████| 7/7 [00:11<00:00,  1.64s/it]\n",
      "Training (10212 / 18000 Steps) (loss=0.27333): 100%|██████████| 7/7 [00:06<00:00,  1.11it/s]\n",
      "Training (10219 / 18000 Steps) (loss=0.40581): 100%|██████████| 7/7 [00:06<00:00,  1.08it/s]\n",
      "Training (10226 / 18000 Steps) (loss=0.42148): 100%|██████████| 7/7 [00:05<00:00,  1.17it/s]\n",
      "Training (10233 / 18000 Steps) (loss=0.42098): 100%|██████████| 7/7 [00:06<00:00,  1.14it/s]\n",
      "Training (10240 / 18000 Steps) (loss=0.49384): 100%|██████████| 7/7 [00:05<00:00,  1.18it/s]\n",
      "Training (10247 / 18000 Steps) (loss=0.39449): 100%|██████████| 7/7 [00:06<00:00,  1.08it/s]\n",
      "Training (10254 / 18000 Steps) (loss=0.62691): 100%|██████████| 7/7 [00:06<00:00,  1.11it/s]\n",
      "Training (10261 / 18000 Steps) (loss=0.32378): 100%|██████████| 7/7 [00:06<00:00,  1.15it/s]\n",
      "Training (10268 / 18000 Steps) (loss=0.48277): 100%|██████████| 7/7 [00:06<00:00,  1.13it/s]\n",
      "Training (10275 / 18000 Steps) (loss=0.39032): 100%|██████████| 7/7 [00:06<00:00,  1.15it/s]\n",
      "Training (10282 / 18000 Steps) (loss=0.36829): 100%|██████████| 7/7 [00:06<00:00,  1.11it/s]\n",
      "Training (10289 / 18000 Steps) (loss=0.18755): 100%|██████████| 7/7 [00:06<00:00,  1.09it/s]\n",
      "Training (10296 / 18000 Steps) (loss=0.45001): 100%|██████████| 7/7 [00:06<00:00,  1.10it/s]\n",
      "Validate (10297 / 10 Steps): 100%|██████████| 2/2 [00:04<00:00,  2.44s/it]<00:04,  1.13s/it]\n",
      "Training (10300 / 18000 Steps) (loss=0.50461):  57%|█████▋    | 4/7 [00:09<00:08,  2.83s/it]"
     ]
    },
    {
     "name": "stdout",
     "output_type": "stream",
     "text": [
      "Model Was Not Saved ! Current Best Avg. Dice: 0.36154210567474365 Current Avg. Dice: 0.3183514177799225 Current Avg. tumor Dice: 0.33286798000335693 Current Avg. lymph Dice: 0.3038348853588104\n"
     ]
    },
    {
     "name": "stderr",
     "output_type": "stream",
     "text": [
      "Training (10303 / 18000 Steps) (loss=0.48346): 100%|██████████| 7/7 [00:11<00:00,  1.59s/it]\n",
      "Training (10310 / 18000 Steps) (loss=0.40901): 100%|██████████| 7/7 [00:06<00:00,  1.14it/s]\n",
      "Training (10317 / 18000 Steps) (loss=0.48497): 100%|██████████| 7/7 [00:06<00:00,  1.09it/s]\n",
      "Training (10324 / 18000 Steps) (loss=0.39816): 100%|██████████| 7/7 [00:06<00:00,  1.16it/s]\n",
      "Training (10331 / 18000 Steps) (loss=0.33652): 100%|██████████| 7/7 [00:06<00:00,  1.12it/s]\n",
      "Training (10338 / 18000 Steps) (loss=0.55759): 100%|██████████| 7/7 [00:06<00:00,  1.16it/s]\n",
      "Training (10345 / 18000 Steps) (loss=0.39707): 100%|██████████| 7/7 [00:06<00:00,  1.14it/s]\n",
      "Training (10352 / 18000 Steps) (loss=0.44044): 100%|██████████| 7/7 [00:06<00:00,  1.13it/s]\n",
      "Training (10359 / 18000 Steps) (loss=0.39647): 100%|██████████| 7/7 [00:06<00:00,  1.11it/s]\n",
      "Training (10366 / 18000 Steps) (loss=0.63878): 100%|██████████| 7/7 [00:06<00:00,  1.09it/s]\n",
      "Training (10373 / 18000 Steps) (loss=0.54648): 100%|██████████| 7/7 [00:06<00:00,  1.10it/s]\n",
      "Training (10380 / 18000 Steps) (loss=0.39925): 100%|██████████| 7/7 [00:06<00:00,  1.15it/s]\n",
      "Training (10387 / 18000 Steps) (loss=0.44731): 100%|██████████| 7/7 [00:06<00:00,  1.16it/s]\n",
      "Training (10394 / 18000 Steps) (loss=0.30523): 100%|██████████| 7/7 [00:06<00:00,  1.08it/s]\n",
      "Validate (10395 / 10 Steps): 100%|██████████| 2/2 [00:04<00:00,  2.47s/it]<00:01,  1.34it/s]\n",
      "Training (10400 / 18000 Steps) (loss=0.36455):  86%|████████▌ | 6/7 [00:10<00:02,  2.36s/it]"
     ]
    },
    {
     "name": "stdout",
     "output_type": "stream",
     "text": [
      "Model Was Not Saved ! Current Best Avg. Dice: 0.36154210567474365 Current Avg. Dice: 0.3252376914024353 Current Avg. tumor Dice: 0.33725878596305847 Current Avg. lymph Dice: 0.3132166266441345\n"
     ]
    },
    {
     "name": "stderr",
     "output_type": "stream",
     "text": [
      "Training (10401 / 18000 Steps) (loss=0.42974): 100%|██████████| 7/7 [00:11<00:00,  1.60s/it]\n",
      "Training (10408 / 18000 Steps) (loss=0.17444): 100%|██████████| 7/7 [00:06<00:00,  1.12it/s]\n",
      "Training (10415 / 18000 Steps) (loss=0.41580): 100%|██████████| 7/7 [00:06<00:00,  1.10it/s]\n",
      "Training (10422 / 18000 Steps) (loss=0.54159): 100%|██████████| 7/7 [00:06<00:00,  1.12it/s]\n",
      "Training (10429 / 18000 Steps) (loss=0.63286): 100%|██████████| 7/7 [00:06<00:00,  1.09it/s]\n",
      "Training (10436 / 18000 Steps) (loss=0.47666): 100%|██████████| 7/7 [00:05<00:00,  1.20it/s]\n",
      "Training (10443 / 18000 Steps) (loss=0.34077): 100%|██████████| 7/7 [00:06<00:00,  1.16it/s]\n",
      "Training (10450 / 18000 Steps) (loss=0.43476): 100%|██████████| 7/7 [00:05<00:00,  1.23it/s]\n",
      "Training (10457 / 18000 Steps) (loss=0.35294): 100%|██████████| 7/7 [00:05<00:00,  1.24it/s]\n",
      "Training (10464 / 18000 Steps) (loss=0.19545): 100%|██████████| 7/7 [00:05<00:00,  1.21it/s]\n",
      "Training (10471 / 18000 Steps) (loss=0.59542): 100%|██████████| 7/7 [00:05<00:00,  1.19it/s]\n",
      "Training (10478 / 18000 Steps) (loss=0.30537): 100%|██████████| 7/7 [00:05<00:00,  1.19it/s]\n",
      "Training (10485 / 18000 Steps) (loss=0.54204): 100%|██████████| 7/7 [00:06<00:00,  1.10it/s]\n",
      "Training (10492 / 18000 Steps) (loss=0.44488): 100%|██████████| 7/7 [00:05<00:00,  1.19it/s]\n",
      "Training (10499 / 18000 Steps) (loss=0.23042): 100%|██████████| 7/7 [00:05<00:00,  1.29it/s]\n",
      "Validate (10500 / 10 Steps): 100%|██████████| 2/2 [00:05<00:00,  2.54s/it]<?, ?it/s]\n",
      "Training (10500 / 18000 Steps) (loss=0.31531):  14%|█▍        | 1/7 [00:08<00:49,  8.33s/it]"
     ]
    },
    {
     "name": "stdout",
     "output_type": "stream",
     "text": [
      "Model Was Not Saved ! Current Best Avg. Dice: 0.36154210567474365 Current Avg. Dice: 0.31576329469680786 Current Avg. tumor Dice: 0.32999056577682495 Current Avg. lymph Dice: 0.301535964012146\n"
     ]
    },
    {
     "name": "stderr",
     "output_type": "stream",
     "text": [
      "Training (10506 / 18000 Steps) (loss=0.41193): 100%|██████████| 7/7 [00:10<00:00,  1.53s/it]\n",
      "Training (10513 / 18000 Steps) (loss=0.49853): 100%|██████████| 7/7 [00:05<00:00,  1.24it/s]\n",
      "Training (10520 / 18000 Steps) (loss=0.38084): 100%|██████████| 7/7 [00:05<00:00,  1.26it/s]\n",
      "Training (10527 / 18000 Steps) (loss=0.52168): 100%|██████████| 7/7 [00:05<00:00,  1.20it/s]\n",
      "Training (10534 / 18000 Steps) (loss=0.42439): 100%|██████████| 7/7 [00:05<00:00,  1.27it/s]\n",
      "Training (10541 / 18000 Steps) (loss=0.18336): 100%|██████████| 7/7 [00:05<00:00,  1.21it/s]\n",
      "Training (10548 / 18000 Steps) (loss=0.29509): 100%|██████████| 7/7 [00:05<00:00,  1.26it/s]\n",
      "Training (10555 / 18000 Steps) (loss=0.37439): 100%|██████████| 7/7 [00:05<00:00,  1.20it/s]\n",
      "Training (10562 / 18000 Steps) (loss=0.30465): 100%|██████████| 7/7 [00:05<00:00,  1.23it/s]\n",
      "Training (10569 / 18000 Steps) (loss=0.44607): 100%|██████████| 7/7 [00:05<00:00,  1.30it/s]\n",
      "Training (10576 / 18000 Steps) (loss=0.34021): 100%|██████████| 7/7 [00:05<00:00,  1.27it/s]\n",
      "Training (10583 / 18000 Steps) (loss=0.62672): 100%|██████████| 7/7 [00:05<00:00,  1.23it/s]\n",
      "Training (10590 / 18000 Steps) (loss=0.61635): 100%|██████████| 7/7 [00:05<00:00,  1.20it/s]\n",
      "Training (10597 / 18000 Steps) (loss=0.33141): 100%|██████████| 7/7 [00:05<00:00,  1.23it/s]\n",
      "Validate (10598 / 10 Steps): 100%|██████████| 2/2 [00:04<00:00,  2.24s/it]<00:08,  1.65s/it]\n",
      "Training (10600 / 18000 Steps) (loss=0.45444):  43%|████▎     | 3/7 [00:08<00:12,  3.15s/it]"
     ]
    },
    {
     "name": "stdout",
     "output_type": "stream",
     "text": [
      "Model Was Not Saved ! Current Best Avg. Dice: 0.36154210567474365 Current Avg. Dice: 0.31756526231765747 Current Avg. tumor Dice: 0.3237985372543335 Current Avg. lymph Dice: 0.31133198738098145\n"
     ]
    },
    {
     "name": "stderr",
     "output_type": "stream",
     "text": [
      "Training (10604 / 18000 Steps) (loss=0.36161): 100%|██████████| 7/7 [00:10<00:00,  1.48s/it]\n",
      "Training (10611 / 18000 Steps) (loss=0.32514): 100%|██████████| 7/7 [00:05<00:00,  1.17it/s]\n",
      "Training (10618 / 18000 Steps) (loss=0.48415): 100%|██████████| 7/7 [00:05<00:00,  1.22it/s]\n",
      "Training (10625 / 18000 Steps) (loss=0.18391): 100%|██████████| 7/7 [00:05<00:00,  1.26it/s]\n",
      "Training (10632 / 18000 Steps) (loss=0.43685): 100%|██████████| 7/7 [00:05<00:00,  1.19it/s]\n",
      "Training (10639 / 18000 Steps) (loss=0.29692): 100%|██████████| 7/7 [00:05<00:00,  1.21it/s]\n",
      "Training (10646 / 18000 Steps) (loss=0.49648): 100%|██████████| 7/7 [00:05<00:00,  1.20it/s]\n",
      "Training (10653 / 18000 Steps) (loss=0.25232): 100%|██████████| 7/7 [00:05<00:00,  1.27it/s]\n",
      "Training (10660 / 18000 Steps) (loss=0.54821): 100%|██████████| 7/7 [00:05<00:00,  1.26it/s]\n",
      "Training (10667 / 18000 Steps) (loss=0.34768): 100%|██████████| 7/7 [00:05<00:00,  1.33it/s]\n",
      "Training (10674 / 18000 Steps) (loss=0.20330): 100%|██████████| 7/7 [00:05<00:00,  1.26it/s]\n",
      "Training (10681 / 18000 Steps) (loss=0.39443): 100%|██████████| 7/7 [00:05<00:00,  1.26it/s]\n",
      "Training (10688 / 18000 Steps) (loss=0.45374): 100%|██████████| 7/7 [00:05<00:00,  1.23it/s]\n",
      "Training (10695 / 18000 Steps) (loss=0.56557): 100%|██████████| 7/7 [00:05<00:00,  1.26it/s]\n",
      "Validate (10696 / 10 Steps): 100%|██████████| 2/2 [00:04<00:00,  2.15s/it]<00:02,  1.28it/s]\n",
      "Training (10700 / 18000 Steps) (loss=0.47233):  71%|███████▏  | 5/7 [00:09<00:04,  2.22s/it]"
     ]
    },
    {
     "name": "stdout",
     "output_type": "stream",
     "text": [
      "Model Was Not Saved ! Current Best Avg. Dice: 0.36154210567474365 Current Avg. Dice: 0.3284454345703125 Current Avg. tumor Dice: 0.3349289000034332 Current Avg. lymph Dice: 0.3219619393348694\n"
     ]
    },
    {
     "name": "stderr",
     "output_type": "stream",
     "text": [
      "Training (10702 / 18000 Steps) (loss=0.40807): 100%|██████████| 7/7 [00:09<00:00,  1.41s/it]\n",
      "Training (10709 / 18000 Steps) (loss=0.43294): 100%|██████████| 7/7 [00:05<00:00,  1.26it/s]\n",
      "Training (10716 / 18000 Steps) (loss=0.40697): 100%|██████████| 7/7 [00:05<00:00,  1.18it/s]\n",
      "Training (10723 / 18000 Steps) (loss=0.19661): 100%|██████████| 7/7 [00:05<00:00,  1.25it/s]\n",
      "Training (10730 / 18000 Steps) (loss=0.47869): 100%|██████████| 7/7 [00:05<00:00,  1.27it/s]\n",
      "Training (10737 / 18000 Steps) (loss=0.44578): 100%|██████████| 7/7 [00:05<00:00,  1.27it/s]\n",
      "Training (10744 / 18000 Steps) (loss=0.35117): 100%|██████████| 7/7 [00:05<00:00,  1.23it/s]\n",
      "Training (10751 / 18000 Steps) (loss=0.45082): 100%|██████████| 7/7 [00:05<00:00,  1.30it/s]\n",
      "Training (10758 / 18000 Steps) (loss=0.36109): 100%|██████████| 7/7 [00:05<00:00,  1.27it/s]\n",
      "Training (10765 / 18000 Steps) (loss=0.25568): 100%|██████████| 7/7 [00:05<00:00,  1.24it/s]\n",
      "Training (10772 / 18000 Steps) (loss=0.50721): 100%|██████████| 7/7 [00:05<00:00,  1.22it/s]\n",
      "Training (10779 / 18000 Steps) (loss=0.35543): 100%|██████████| 7/7 [00:05<00:00,  1.29it/s]\n",
      "Training (10786 / 18000 Steps) (loss=0.41266): 100%|██████████| 7/7 [00:05<00:00,  1.22it/s]\n",
      "Training (10793 / 18000 Steps) (loss=0.40581): 100%|██████████| 7/7 [00:05<00:00,  1.22it/s]\n",
      "Validate (10794 / 10 Steps): 100%|██████████| 2/2 [00:04<00:00,  2.30s/it]<00:00,  1.64it/s]\n",
      "Training (10800 / 18000 Steps) (loss=0.32417): 100%|██████████| 7/7 [00:10<00:00,  1.55s/it]\n"
     ]
    },
    {
     "name": "stdout",
     "output_type": "stream",
     "text": [
      "Model Was Not Saved ! Current Best Avg. Dice: 0.36154210567474365 Current Avg. Dice: 0.32589271664619446 Current Avg. tumor Dice: 0.32697656750679016 Current Avg. lymph Dice: 0.32480883598327637\n"
     ]
    },
    {
     "name": "stderr",
     "output_type": "stream",
     "text": [
      "Training (10807 / 18000 Steps) (loss=0.36848): 100%|██████████| 7/7 [00:05<00:00,  1.21it/s]\n",
      "Training (10814 / 18000 Steps) (loss=0.26784): 100%|██████████| 7/7 [00:05<00:00,  1.26it/s]\n",
      "Training (10821 / 18000 Steps) (loss=0.51886): 100%|██████████| 7/7 [00:05<00:00,  1.29it/s]\n",
      "Training (10828 / 18000 Steps) (loss=0.47297): 100%|██████████| 7/7 [00:05<00:00,  1.21it/s]\n",
      "Training (10835 / 18000 Steps) (loss=0.33722): 100%|██████████| 7/7 [00:05<00:00,  1.20it/s]\n",
      "Training (10842 / 18000 Steps) (loss=0.51767): 100%|██████████| 7/7 [00:05<00:00,  1.18it/s]\n",
      "Training (10849 / 18000 Steps) (loss=0.37624): 100%|██████████| 7/7 [00:05<00:00,  1.19it/s]\n",
      "Training (10856 / 18000 Steps) (loss=0.20994): 100%|██████████| 7/7 [00:05<00:00,  1.25it/s]\n",
      "Training (10863 / 18000 Steps) (loss=0.35945): 100%|██████████| 7/7 [00:05<00:00,  1.19it/s]\n",
      "Training (10870 / 18000 Steps) (loss=0.36862): 100%|██████████| 7/7 [00:05<00:00,  1.29it/s]\n",
      "Training (10877 / 18000 Steps) (loss=0.45637): 100%|██████████| 7/7 [00:06<00:00,  1.15it/s]\n",
      "Training (10884 / 18000 Steps) (loss=0.42939): 100%|██████████| 7/7 [00:05<00:00,  1.17it/s]\n",
      "Training (10891 / 18000 Steps) (loss=0.30545): 100%|██████████| 7/7 [00:05<00:00,  1.23it/s]\n",
      "Training (10898 / 18000 Steps) (loss=0.29465): 100%|██████████| 7/7 [00:05<00:00,  1.25it/s]\n",
      "Validate (10899 / 10 Steps): 100%|██████████| 2/2 [00:04<00:00,  2.23s/it]<00:18,  3.14s/it]\n",
      "Training (10900 / 18000 Steps) (loss=0.51147):  29%|██▊       | 2/7 [00:08<00:20,  4.20s/it]"
     ]
    },
    {
     "name": "stdout",
     "output_type": "stream",
     "text": [
      "Model Was Not Saved ! Current Best Avg. Dice: 0.36154210567474365 Current Avg. Dice: 0.2944601774215698 Current Avg. tumor Dice: 0.3274836540222168 Current Avg. lymph Dice: 0.26143670082092285\n"
     ]
    },
    {
     "name": "stderr",
     "output_type": "stream",
     "text": [
      "Training (10905 / 18000 Steps) (loss=0.54186): 100%|██████████| 7/7 [00:10<00:00,  1.43s/it]\n",
      "Training (10912 / 18000 Steps) (loss=0.40962): 100%|██████████| 7/7 [00:05<00:00,  1.28it/s]\n",
      "Training (10919 / 18000 Steps) (loss=0.29973): 100%|██████████| 7/7 [00:06<00:00,  1.13it/s]\n",
      "Training (10926 / 18000 Steps) (loss=0.21287): 100%|██████████| 7/7 [00:05<00:00,  1.23it/s]\n",
      "Training (10933 / 18000 Steps) (loss=0.52975): 100%|██████████| 7/7 [00:05<00:00,  1.25it/s]\n",
      "Training (10940 / 18000 Steps) (loss=0.42720): 100%|██████████| 7/7 [00:05<00:00,  1.23it/s]\n",
      "Training (10947 / 18000 Steps) (loss=0.44219): 100%|██████████| 7/7 [00:05<00:00,  1.23it/s]\n",
      "Training (10954 / 18000 Steps) (loss=0.31900): 100%|██████████| 7/7 [00:05<00:00,  1.25it/s]\n",
      "Training (10961 / 18000 Steps) (loss=0.43611): 100%|██████████| 7/7 [00:05<00:00,  1.27it/s]\n",
      "Training (10968 / 18000 Steps) (loss=0.41049): 100%|██████████| 7/7 [00:05<00:00,  1.29it/s]\n",
      "Training (10975 / 18000 Steps) (loss=0.31728): 100%|██████████| 7/7 [00:05<00:00,  1.27it/s]\n",
      "Training (10982 / 18000 Steps) (loss=0.18362): 100%|██████████| 7/7 [00:05<00:00,  1.23it/s]\n",
      "Training (10989 / 18000 Steps) (loss=0.55921): 100%|██████████| 7/7 [00:05<00:00,  1.24it/s]\n",
      "Training (10996 / 18000 Steps) (loss=0.24512): 100%|██████████| 7/7 [00:06<00:00,  1.15it/s]\n",
      "Validate (10997 / 10 Steps): 100%|██████████| 2/2 [00:04<00:00,  2.25s/it]<00:04,  1.09s/it]\n",
      "Training (11000 / 18000 Steps) (loss=0.47789):  57%|█████▋    | 4/7 [00:09<00:07,  2.62s/it]"
     ]
    },
    {
     "name": "stdout",
     "output_type": "stream",
     "text": [
      "Model Was Not Saved ! Current Best Avg. Dice: 0.36154210567474365 Current Avg. Dice: 0.27368754148483276 Current Avg. tumor Dice: 0.28430652618408203 Current Avg. lymph Dice: 0.2630685269832611\n"
     ]
    },
    {
     "name": "stderr",
     "output_type": "stream",
     "text": [
      "Training (11003 / 18000 Steps) (loss=0.46076): 100%|██████████| 7/7 [00:10<00:00,  1.48s/it]\n",
      "Training (11010 / 18000 Steps) (loss=0.46166): 100%|██████████| 7/7 [00:05<00:00,  1.29it/s]\n",
      "Training (11017 / 18000 Steps) (loss=0.52018): 100%|██████████| 7/7 [00:05<00:00,  1.27it/s]\n",
      "Training (11024 / 18000 Steps) (loss=0.55004): 100%|██████████| 7/7 [00:05<00:00,  1.22it/s]\n",
      "Training (11031 / 18000 Steps) (loss=0.41402): 100%|██████████| 7/7 [00:05<00:00,  1.22it/s]\n",
      "Training (11038 / 18000 Steps) (loss=0.66966): 100%|██████████| 7/7 [00:05<00:00,  1.18it/s]\n",
      "Training (11045 / 18000 Steps) (loss=0.44155): 100%|██████████| 7/7 [00:05<00:00,  1.20it/s]\n",
      "Training (11052 / 18000 Steps) (loss=0.37585): 100%|██████████| 7/7 [00:05<00:00,  1.19it/s]\n",
      "Training (11059 / 18000 Steps) (loss=0.54851): 100%|██████████| 7/7 [00:05<00:00,  1.28it/s]\n",
      "Training (11066 / 18000 Steps) (loss=0.37864): 100%|██████████| 7/7 [00:05<00:00,  1.20it/s]\n",
      "Training (11073 / 18000 Steps) (loss=0.33214): 100%|██████████| 7/7 [00:05<00:00,  1.26it/s]\n",
      "Training (11080 / 18000 Steps) (loss=0.46536): 100%|██████████| 7/7 [00:05<00:00,  1.24it/s]\n",
      "Training (11087 / 18000 Steps) (loss=0.58247): 100%|██████████| 7/7 [00:05<00:00,  1.17it/s]\n",
      "Training (11094 / 18000 Steps) (loss=0.45132): 100%|██████████| 7/7 [00:05<00:00,  1.24it/s]\n",
      "Validate (11095 / 10 Steps): 100%|██████████| 2/2 [00:04<00:00,  2.25s/it]<00:01,  1.51it/s]\n",
      "Training (11100 / 18000 Steps) (loss=0.36665):  86%|████████▌ | 6/7 [00:09<00:02,  2.12s/it]"
     ]
    },
    {
     "name": "stdout",
     "output_type": "stream",
     "text": [
      "Model Was Not Saved ! Current Best Avg. Dice: 0.36154210567474365 Current Avg. Dice: 0.32420825958251953 Current Avg. tumor Dice: 0.3490165174007416 Current Avg. lymph Dice: 0.2993999719619751\n"
     ]
    },
    {
     "name": "stderr",
     "output_type": "stream",
     "text": [
      "Training (11101 / 18000 Steps) (loss=0.33609): 100%|██████████| 7/7 [00:10<00:00,  1.46s/it]\n",
      "Training (11108 / 18000 Steps) (loss=0.42411): 100%|██████████| 7/7 [00:05<00:00,  1.24it/s]\n",
      "Training (11115 / 18000 Steps) (loss=0.33253): 100%|██████████| 7/7 [00:05<00:00,  1.18it/s]\n",
      "Training (11122 / 18000 Steps) (loss=0.44973): 100%|██████████| 7/7 [00:05<00:00,  1.20it/s]\n",
      "Training (11129 / 18000 Steps) (loss=0.54281): 100%|██████████| 7/7 [00:05<00:00,  1.26it/s]\n",
      "Training (11136 / 18000 Steps) (loss=0.19217): 100%|██████████| 7/7 [00:05<00:00,  1.25it/s]\n",
      "Training (11143 / 18000 Steps) (loss=0.32038): 100%|██████████| 7/7 [00:05<00:00,  1.30it/s]\n",
      "Training (11150 / 18000 Steps) (loss=0.30825): 100%|██████████| 7/7 [00:05<00:00,  1.29it/s]\n",
      "Training (11157 / 18000 Steps) (loss=0.48251): 100%|██████████| 7/7 [00:05<00:00,  1.24it/s]\n",
      "Training (11164 / 18000 Steps) (loss=0.66826): 100%|██████████| 7/7 [00:05<00:00,  1.20it/s]\n",
      "Training (11171 / 18000 Steps) (loss=0.56448): 100%|██████████| 7/7 [00:06<00:00,  1.15it/s]\n",
      "Training (11178 / 18000 Steps) (loss=0.32678): 100%|██████████| 7/7 [00:05<00:00,  1.21it/s]\n",
      "Training (11185 / 18000 Steps) (loss=0.33470): 100%|██████████| 7/7 [00:05<00:00,  1.26it/s]\n",
      "Training (11192 / 18000 Steps) (loss=0.54247): 100%|██████████| 7/7 [00:05<00:00,  1.26it/s]\n",
      "Training (11199 / 18000 Steps) (loss=0.43296): 100%|██████████| 7/7 [00:05<00:00,  1.25it/s]\n",
      "Validate (11200 / 10 Steps): 100%|██████████| 2/2 [00:04<00:00,  2.22s/it]<?, ?it/s]\n",
      "Training (11200 / 18000 Steps) (loss=0.46328):  14%|█▍        | 1/7 [00:07<00:46,  7.81s/it]"
     ]
    },
    {
     "name": "stdout",
     "output_type": "stream",
     "text": [
      "Model Was Not Saved ! Current Best Avg. Dice: 0.36154210567474365 Current Avg. Dice: 0.32395538687705994 Current Avg. tumor Dice: 0.3390602767467499 Current Avg. lymph Dice: 0.30885049700737\n"
     ]
    },
    {
     "name": "stderr",
     "output_type": "stream",
     "text": [
      "Training (11206 / 18000 Steps) (loss=0.47581): 100%|██████████| 7/7 [00:10<00:00,  1.47s/it]\n",
      "Training (11213 / 18000 Steps) (loss=0.37943): 100%|██████████| 7/7 [00:05<00:00,  1.22it/s]\n",
      "Training (11220 / 18000 Steps) (loss=0.48444): 100%|██████████| 7/7 [00:05<00:00,  1.19it/s]\n",
      "Training (11227 / 18000 Steps) (loss=0.66766): 100%|██████████| 7/7 [00:05<00:00,  1.23it/s]\n",
      "Training (11234 / 18000 Steps) (loss=0.44266): 100%|██████████| 7/7 [00:05<00:00,  1.20it/s]\n",
      "Training (11241 / 18000 Steps) (loss=0.56565): 100%|██████████| 7/7 [00:05<00:00,  1.27it/s]\n",
      "Training (11248 / 18000 Steps) (loss=0.44358): 100%|██████████| 7/7 [00:05<00:00,  1.19it/s]\n",
      "Training (11255 / 18000 Steps) (loss=0.33619): 100%|██████████| 7/7 [00:05<00:00,  1.20it/s]\n",
      "Training (11262 / 18000 Steps) (loss=0.27567): 100%|██████████| 7/7 [00:05<00:00,  1.25it/s]\n",
      "Training (11269 / 18000 Steps) (loss=0.32420): 100%|██████████| 7/7 [00:05<00:00,  1.27it/s]\n",
      "Training (11276 / 18000 Steps) (loss=0.53383): 100%|██████████| 7/7 [00:05<00:00,  1.21it/s]\n",
      "Training (11283 / 18000 Steps) (loss=0.56915): 100%|██████████| 7/7 [00:05<00:00,  1.18it/s]\n",
      "Training (11290 / 18000 Steps) (loss=0.18125): 100%|██████████| 7/7 [00:05<00:00,  1.17it/s]\n",
      "Training (11297 / 18000 Steps) (loss=0.23671): 100%|██████████| 7/7 [00:05<00:00,  1.21it/s]\n",
      "Validate (11298 / 10 Steps): 100%|██████████| 2/2 [00:04<00:00,  2.19s/it]<00:07,  1.59s/it]\n",
      "Training (11300 / 18000 Steps) (loss=0.41558):  43%|████▎     | 3/7 [00:08<00:12,  3.09s/it]"
     ]
    },
    {
     "name": "stdout",
     "output_type": "stream",
     "text": [
      "Model Was Not Saved ! Current Best Avg. Dice: 0.36154210567474365 Current Avg. Dice: 0.3115018606185913 Current Avg. tumor Dice: 0.3036271333694458 Current Avg. lymph Dice: 0.3193765878677368\n"
     ]
    },
    {
     "name": "stderr",
     "output_type": "stream",
     "text": [
      "Training (11304 / 18000 Steps) (loss=0.32872): 100%|██████████| 7/7 [00:10<00:00,  1.45s/it]\n",
      "Training (11311 / 18000 Steps) (loss=0.48835): 100%|██████████| 7/7 [00:05<00:00,  1.21it/s]\n",
      "Training (11318 / 18000 Steps) (loss=0.39985): 100%|██████████| 7/7 [00:05<00:00,  1.22it/s]\n",
      "Training (11325 / 18000 Steps) (loss=0.38901): 100%|██████████| 7/7 [00:06<00:00,  1.16it/s]\n",
      "Training (11332 / 18000 Steps) (loss=0.29944): 100%|██████████| 7/7 [00:05<00:00,  1.19it/s]\n",
      "Training (11339 / 18000 Steps) (loss=0.55477): 100%|██████████| 7/7 [00:05<00:00,  1.25it/s]\n",
      "Training (11346 / 18000 Steps) (loss=0.52551): 100%|██████████| 7/7 [00:05<00:00,  1.20it/s]\n",
      "Training (11353 / 18000 Steps) (loss=0.41955): 100%|██████████| 7/7 [00:05<00:00,  1.27it/s]\n",
      "Training (11360 / 18000 Steps) (loss=0.41558): 100%|██████████| 7/7 [00:05<00:00,  1.30it/s]\n",
      "Training (11367 / 18000 Steps) (loss=0.41837): 100%|██████████| 7/7 [00:05<00:00,  1.20it/s]\n",
      "Training (11374 / 18000 Steps) (loss=0.50032): 100%|██████████| 7/7 [00:05<00:00,  1.19it/s]\n",
      "Training (11381 / 18000 Steps) (loss=0.45967): 100%|██████████| 7/7 [00:06<00:00,  1.16it/s]\n",
      "Training (11388 / 18000 Steps) (loss=0.52619): 100%|██████████| 7/7 [00:05<00:00,  1.22it/s]\n",
      "Training (11395 / 18000 Steps) (loss=0.39804): 100%|██████████| 7/7 [00:05<00:00,  1.23it/s]\n",
      "Validate (11396 / 10 Steps): 100%|██████████| 2/2 [00:04<00:00,  2.32s/it]<00:02,  1.22it/s]\n",
      "Training (11400 / 18000 Steps) (loss=0.33765):  71%|███████▏  | 5/7 [00:09<00:04,  2.36s/it]"
     ]
    },
    {
     "name": "stdout",
     "output_type": "stream",
     "text": [
      "Model Was Not Saved ! Current Best Avg. Dice: 0.36154210567474365 Current Avg. Dice: 0.336969792842865 Current Avg. tumor Dice: 0.3437937796115875 Current Avg. lymph Dice: 0.33014577627182007\n"
     ]
    },
    {
     "name": "stderr",
     "output_type": "stream",
     "text": [
      "Training (11402 / 18000 Steps) (loss=0.45578): 100%|██████████| 7/7 [00:10<00:00,  1.50s/it]\n",
      "Training (11409 / 18000 Steps) (loss=0.48871): 100%|██████████| 7/7 [00:05<00:00,  1.22it/s]\n",
      "Training (11416 / 18000 Steps) (loss=0.54105): 100%|██████████| 7/7 [00:05<00:00,  1.27it/s]\n",
      "Training (11423 / 18000 Steps) (loss=0.23751): 100%|██████████| 7/7 [00:05<00:00,  1.24it/s]\n",
      "Training (11430 / 18000 Steps) (loss=0.56601): 100%|██████████| 7/7 [00:05<00:00,  1.27it/s]\n",
      "Training (11437 / 18000 Steps) (loss=0.60157): 100%|██████████| 7/7 [00:05<00:00,  1.24it/s]\n",
      "Training (11444 / 18000 Steps) (loss=0.37207): 100%|██████████| 7/7 [00:06<00:00,  1.14it/s]\n",
      "Training (11451 / 18000 Steps) (loss=0.38845): 100%|██████████| 7/7 [00:05<00:00,  1.21it/s]\n",
      "Training (11458 / 18000 Steps) (loss=0.42774): 100%|██████████| 7/7 [00:05<00:00,  1.26it/s]\n",
      "Training (11465 / 18000 Steps) (loss=0.51787): 100%|██████████| 7/7 [00:05<00:00,  1.29it/s]\n",
      "Training (11472 / 18000 Steps) (loss=0.17877): 100%|██████████| 7/7 [00:05<00:00,  1.23it/s]\n",
      "Training (11479 / 18000 Steps) (loss=0.43538): 100%|██████████| 7/7 [00:05<00:00,  1.24it/s]\n",
      "Training (11486 / 18000 Steps) (loss=0.31433): 100%|██████████| 7/7 [00:05<00:00,  1.23it/s]\n",
      "Training (11493 / 18000 Steps) (loss=0.55983): 100%|██████████| 7/7 [00:05<00:00,  1.18it/s]\n",
      "Validate (11494 / 10 Steps): 100%|██████████| 2/2 [00:04<00:00,  2.19s/it]<00:00,  1.70it/s]\n",
      "Training (11500 / 18000 Steps) (loss=0.32930): 100%|██████████| 7/7 [00:10<00:00,  1.48s/it]\n"
     ]
    },
    {
     "name": "stdout",
     "output_type": "stream",
     "text": [
      "Model Was Not Saved ! Current Best Avg. Dice: 0.36154210567474365 Current Avg. Dice: 0.3294418454170227 Current Avg. tumor Dice: 0.33859503269195557 Current Avg. lymph Dice: 0.3202885687351227\n"
     ]
    },
    {
     "name": "stderr",
     "output_type": "stream",
     "text": [
      "Training (11507 / 18000 Steps) (loss=0.57898): 100%|██████████| 7/7 [00:05<00:00,  1.30it/s]\n",
      "Training (11514 / 18000 Steps) (loss=0.40903): 100%|██████████| 7/7 [00:05<00:00,  1.25it/s]\n",
      "Training (11521 / 18000 Steps) (loss=0.16694): 100%|██████████| 7/7 [00:05<00:00,  1.26it/s]\n",
      "Training (11528 / 18000 Steps) (loss=0.44324): 100%|██████████| 7/7 [00:05<00:00,  1.27it/s]\n",
      "Training (11535 / 18000 Steps) (loss=0.48663): 100%|██████████| 7/7 [00:05<00:00,  1.20it/s]\n",
      "Training (11542 / 18000 Steps) (loss=0.17223): 100%|██████████| 7/7 [00:05<00:00,  1.23it/s]\n",
      "Training (11549 / 18000 Steps) (loss=0.41009): 100%|██████████| 7/7 [00:05<00:00,  1.26it/s]\n",
      "Training (11556 / 18000 Steps) (loss=0.52924): 100%|██████████| 7/7 [00:05<00:00,  1.27it/s]\n",
      "Training (11563 / 18000 Steps) (loss=0.52598): 100%|██████████| 7/7 [00:05<00:00,  1.23it/s]\n",
      "Training (11570 / 18000 Steps) (loss=0.58940): 100%|██████████| 7/7 [00:06<00:00,  1.12it/s]\n",
      "Training (11577 / 18000 Steps) (loss=0.49725): 100%|██████████| 7/7 [00:05<00:00,  1.21it/s]\n",
      "Training (11584 / 18000 Steps) (loss=0.54248): 100%|██████████| 7/7 [00:05<00:00,  1.23it/s]\n",
      "Training (11591 / 18000 Steps) (loss=0.37711): 100%|██████████| 7/7 [00:05<00:00,  1.29it/s]\n",
      "Training (11598 / 18000 Steps) (loss=0.52645): 100%|██████████| 7/7 [00:05<00:00,  1.26it/s]\n",
      "Validate (11599 / 10 Steps): 100%|██████████| 2/2 [00:04<00:00,  2.24s/it]<00:18,  3.13s/it]\n",
      "Training (11600 / 18000 Steps) (loss=0.40544):  29%|██▊       | 2/7 [00:08<00:21,  4.21s/it]"
     ]
    },
    {
     "name": "stdout",
     "output_type": "stream",
     "text": [
      "Model Was Not Saved ! Current Best Avg. Dice: 0.36154210567474365 Current Avg. Dice: 0.28014034032821655 Current Avg. tumor Dice: 0.273703008890152 Current Avg. lymph Dice: 0.28657764196395874\n"
     ]
    },
    {
     "name": "stderr",
     "output_type": "stream",
     "text": [
      "Training (11605 / 18000 Steps) (loss=0.67263): 100%|██████████| 7/7 [00:10<00:00,  1.45s/it]\n",
      "Training (11612 / 18000 Steps) (loss=0.35424): 100%|██████████| 7/7 [00:05<00:00,  1.22it/s]\n",
      "Training (11619 / 18000 Steps) (loss=0.51795): 100%|██████████| 7/7 [00:05<00:00,  1.25it/s]\n",
      "Training (11626 / 18000 Steps) (loss=0.53154): 100%|██████████| 7/7 [00:05<00:00,  1.25it/s]\n",
      "Training (11633 / 18000 Steps) (loss=0.47167): 100%|██████████| 7/7 [00:05<00:00,  1.22it/s]\n",
      "Training (11640 / 18000 Steps) (loss=0.26578): 100%|██████████| 7/7 [00:05<00:00,  1.22it/s]\n",
      "Training (11647 / 18000 Steps) (loss=0.28693): 100%|██████████| 7/7 [00:05<00:00,  1.25it/s]\n",
      "Training (11654 / 18000 Steps) (loss=0.40999): 100%|██████████| 7/7 [00:05<00:00,  1.23it/s]\n",
      "Training (11661 / 18000 Steps) (loss=0.43895): 100%|██████████| 7/7 [00:05<00:00,  1.28it/s]\n",
      "Training (11668 / 18000 Steps) (loss=0.46987): 100%|██████████| 7/7 [00:05<00:00,  1.19it/s]\n",
      "Training (11675 / 18000 Steps) (loss=0.26963): 100%|██████████| 7/7 [00:05<00:00,  1.23it/s]\n",
      "Training (11682 / 18000 Steps) (loss=0.42020): 100%|██████████| 7/7 [00:05<00:00,  1.26it/s]\n",
      "Training (11689 / 18000 Steps) (loss=0.35179): 100%|██████████| 7/7 [00:06<00:00,  1.11it/s]\n",
      "Training (11696 / 18000 Steps) (loss=0.54047): 100%|██████████| 7/7 [00:05<00:00,  1.19it/s]\n",
      "Validate (11697 / 10 Steps): 100%|██████████| 2/2 [00:04<00:00,  2.21s/it]<00:04,  1.01s/it]\n",
      "Training (11700 / 18000 Steps) (loss=0.30901):  57%|█████▋    | 4/7 [00:08<00:07,  2.54s/it]"
     ]
    },
    {
     "name": "stdout",
     "output_type": "stream",
     "text": [
      "Model Was Not Saved ! Current Best Avg. Dice: 0.36154210567474365 Current Avg. Dice: 0.3205021023750305 Current Avg. tumor Dice: 0.30561432242393494 Current Avg. lymph Dice: 0.3353898525238037\n"
     ]
    },
    {
     "name": "stderr",
     "output_type": "stream",
     "text": [
      "Training (11703 / 18000 Steps) (loss=0.46707): 100%|██████████| 7/7 [00:09<00:00,  1.42s/it]\n",
      "Training (11710 / 18000 Steps) (loss=0.58102): 100%|██████████| 7/7 [00:05<00:00,  1.27it/s]\n",
      "Training (11717 / 18000 Steps) (loss=0.32086): 100%|██████████| 7/7 [00:05<00:00,  1.26it/s]\n",
      "Training (11724 / 18000 Steps) (loss=0.23953): 100%|██████████| 7/7 [00:05<00:00,  1.24it/s]\n",
      "Training (11731 / 18000 Steps) (loss=0.42080): 100%|██████████| 7/7 [00:05<00:00,  1.20it/s]\n",
      "Training (11738 / 18000 Steps) (loss=0.42099): 100%|██████████| 7/7 [00:05<00:00,  1.22it/s]\n",
      "Training (11745 / 18000 Steps) (loss=0.33479): 100%|██████████| 7/7 [00:05<00:00,  1.19it/s]\n",
      "Training (11752 / 18000 Steps) (loss=0.39750): 100%|██████████| 7/7 [00:05<00:00,  1.19it/s]\n",
      "Training (11759 / 18000 Steps) (loss=0.42818): 100%|██████████| 7/7 [00:05<00:00,  1.30it/s]\n",
      "Training (11766 / 18000 Steps) (loss=0.32899): 100%|██████████| 7/7 [00:05<00:00,  1.21it/s]\n",
      "Training (11773 / 18000 Steps) (loss=0.50828): 100%|██████████| 7/7 [00:05<00:00,  1.21it/s]\n",
      "Training (11780 / 18000 Steps) (loss=0.45858): 100%|██████████| 7/7 [00:05<00:00,  1.25it/s]\n",
      "Training (11787 / 18000 Steps) (loss=0.64499): 100%|██████████| 7/7 [00:05<00:00,  1.19it/s]\n",
      "Training (11794 / 18000 Steps) (loss=0.33268): 100%|██████████| 7/7 [00:05<00:00,  1.27it/s]\n",
      "Validate (11795 / 10 Steps): 100%|██████████| 2/2 [00:04<00:00,  2.24s/it]<00:01,  1.52it/s]\n",
      "Training (11800 / 18000 Steps) (loss=0.39902):  86%|████████▌ | 6/7 [00:09<00:02,  2.12s/it]"
     ]
    },
    {
     "name": "stdout",
     "output_type": "stream",
     "text": [
      "Model Was Not Saved ! Current Best Avg. Dice: 0.36154210567474365 Current Avg. Dice: 0.2978048324584961 Current Avg. tumor Dice: 0.3071592450141907 Current Avg. lymph Dice: 0.2884504497051239\n"
     ]
    },
    {
     "name": "stderr",
     "output_type": "stream",
     "text": [
      "Training (11801 / 18000 Steps) (loss=0.62790): 100%|██████████| 7/7 [00:10<00:00,  1.46s/it]\n",
      "Training (11808 / 18000 Steps) (loss=0.34732): 100%|██████████| 7/7 [00:05<00:00,  1.20it/s]\n",
      "Training (11815 / 18000 Steps) (loss=0.56808): 100%|██████████| 7/7 [00:05<00:00,  1.19it/s]\n",
      "Training (11822 / 18000 Steps) (loss=0.39033): 100%|██████████| 7/7 [00:05<00:00,  1.21it/s]\n",
      "Training (11829 / 18000 Steps) (loss=0.47493): 100%|██████████| 7/7 [00:05<00:00,  1.25it/s]\n",
      "Training (11836 / 18000 Steps) (loss=0.46920): 100%|██████████| 7/7 [00:05<00:00,  1.26it/s]\n",
      "Training (11843 / 18000 Steps) (loss=0.38596): 100%|██████████| 7/7 [00:05<00:00,  1.24it/s]\n",
      "Training (11850 / 18000 Steps) (loss=0.39242): 100%|██████████| 7/7 [00:05<00:00,  1.28it/s]\n",
      "Training (11857 / 18000 Steps) (loss=0.29961): 100%|██████████| 7/7 [00:05<00:00,  1.22it/s]\n",
      "Training (11864 / 18000 Steps) (loss=0.17416): 100%|██████████| 7/7 [00:05<00:00,  1.18it/s]\n",
      "Training (11871 / 18000 Steps) (loss=0.43135): 100%|██████████| 7/7 [00:05<00:00,  1.29it/s]\n",
      "Training (11878 / 18000 Steps) (loss=0.35443): 100%|██████████| 7/7 [00:05<00:00,  1.23it/s]\n",
      "Training (11885 / 18000 Steps) (loss=0.55455): 100%|██████████| 7/7 [00:05<00:00,  1.23it/s]\n",
      "Training (11892 / 18000 Steps) (loss=0.27180): 100%|██████████| 7/7 [00:05<00:00,  1.26it/s]\n",
      "Training (11899 / 18000 Steps) (loss=0.31037): 100%|██████████| 7/7 [00:05<00:00,  1.28it/s]\n",
      "Validate (11900 / 10 Steps): 100%|██████████| 2/2 [00:04<00:00,  2.29s/it]<?, ?it/s]\n",
      "Training (11900 / 18000 Steps) (loss=0.43085):  14%|█▍        | 1/7 [00:07<00:45,  7.65s/it]"
     ]
    },
    {
     "name": "stdout",
     "output_type": "stream",
     "text": [
      "Model Was Not Saved ! Current Best Avg. Dice: 0.36154210567474365 Current Avg. Dice: 0.33940088748931885 Current Avg. tumor Dice: 0.3179919719696045 Current Avg. lymph Dice: 0.3608098030090332\n"
     ]
    },
    {
     "name": "stderr",
     "output_type": "stream",
     "text": [
      "Training (11906 / 18000 Steps) (loss=0.46639): 100%|██████████| 7/7 [00:10<00:00,  1.43s/it]\n",
      "Training (11913 / 18000 Steps) (loss=0.50315): 100%|██████████| 7/7 [00:05<00:00,  1.22it/s]\n",
      "Training (11920 / 18000 Steps) (loss=0.28260): 100%|██████████| 7/7 [00:05<00:00,  1.28it/s]\n",
      "Training (11927 / 18000 Steps) (loss=0.23115): 100%|██████████| 7/7 [00:05<00:00,  1.20it/s]\n",
      "Training (11934 / 18000 Steps) (loss=0.40286): 100%|██████████| 7/7 [00:05<00:00,  1.23it/s]\n",
      "Training (11941 / 18000 Steps) (loss=0.20216): 100%|██████████| 7/7 [00:05<00:00,  1.22it/s]\n",
      "Training (11948 / 18000 Steps) (loss=0.21251): 100%|██████████| 7/7 [00:05<00:00,  1.30it/s]\n",
      "Training (11955 / 18000 Steps) (loss=0.24445): 100%|██████████| 7/7 [00:05<00:00,  1.20it/s]\n",
      "Training (11962 / 18000 Steps) (loss=0.16835): 100%|██████████| 7/7 [00:05<00:00,  1.24it/s]\n",
      "Training (11969 / 18000 Steps) (loss=0.39088): 100%|██████████| 7/7 [00:05<00:00,  1.28it/s]\n",
      "Training (11976 / 18000 Steps) (loss=0.18502): 100%|██████████| 7/7 [00:05<00:00,  1.26it/s]\n",
      "Training (11983 / 18000 Steps) (loss=0.54731): 100%|██████████| 7/7 [00:05<00:00,  1.20it/s]\n",
      "Training (11990 / 18000 Steps) (loss=0.20938): 100%|██████████| 7/7 [00:05<00:00,  1.23it/s]\n",
      "Training (11997 / 18000 Steps) (loss=0.62512): 100%|██████████| 7/7 [00:05<00:00,  1.27it/s]\n",
      "Validate (11998 / 10 Steps): 100%|██████████| 2/2 [00:04<00:00,  2.22s/it]<00:07,  1.58s/it]\n",
      "Training (12000 / 18000 Steps) (loss=0.47773):  43%|████▎     | 3/7 [00:08<00:12,  3.10s/it]"
     ]
    },
    {
     "name": "stdout",
     "output_type": "stream",
     "text": [
      "Model Was Not Saved ! Current Best Avg. Dice: 0.36154210567474365 Current Avg. Dice: 0.313520222902298 Current Avg. tumor Dice: 0.29837948083877563 Current Avg. lymph Dice: 0.3286609649658203\n"
     ]
    },
    {
     "name": "stderr",
     "output_type": "stream",
     "text": [
      "Training (12004 / 18000 Steps) (loss=0.35018): 100%|██████████| 7/7 [00:10<00:00,  1.45s/it]\n",
      "Training (12011 / 18000 Steps) (loss=0.39549): 100%|██████████| 7/7 [00:05<00:00,  1.26it/s]\n",
      "Training (12018 / 18000 Steps) (loss=0.51910): 100%|██████████| 7/7 [00:05<00:00,  1.26it/s]\n",
      "Training (12025 / 18000 Steps) (loss=0.13007): 100%|██████████| 7/7 [00:05<00:00,  1.18it/s]\n",
      "Training (12032 / 18000 Steps) (loss=0.48251): 100%|██████████| 7/7 [00:05<00:00,  1.22it/s]\n",
      "Training (12039 / 18000 Steps) (loss=0.33427): 100%|██████████| 7/7 [00:05<00:00,  1.23it/s]\n",
      "Training (12046 / 18000 Steps) (loss=0.54650): 100%|██████████| 7/7 [00:05<00:00,  1.23it/s]\n",
      "Training (12053 / 18000 Steps) (loss=0.31595): 100%|██████████| 7/7 [00:05<00:00,  1.28it/s]\n",
      "Training (12060 / 18000 Steps) (loss=0.29964): 100%|██████████| 7/7 [00:05<00:00,  1.20it/s]\n",
      "Training (12067 / 18000 Steps) (loss=0.48682): 100%|██████████| 7/7 [00:05<00:00,  1.25it/s]\n",
      "Training (12074 / 18000 Steps) (loss=0.47239): 100%|██████████| 7/7 [00:05<00:00,  1.23it/s]\n",
      "Training (12081 / 18000 Steps) (loss=0.34136): 100%|██████████| 7/7 [00:05<00:00,  1.20it/s]\n",
      "Training (12088 / 18000 Steps) (loss=0.48445): 100%|██████████| 7/7 [00:05<00:00,  1.26it/s]\n",
      "Training (12095 / 18000 Steps) (loss=0.56313): 100%|██████████| 7/7 [00:05<00:00,  1.22it/s]\n",
      "Validate (12096 / 10 Steps): 100%|██████████| 2/2 [00:04<00:00,  2.15s/it]<00:02,  1.25it/s]\n",
      "Training (12100 / 18000 Steps) (loss=0.39168):  71%|███████▏  | 5/7 [00:09<00:04,  2.23s/it]"
     ]
    },
    {
     "name": "stdout",
     "output_type": "stream",
     "text": [
      "Model Was Not Saved ! Current Best Avg. Dice: 0.36154210567474365 Current Avg. Dice: 0.3029305338859558 Current Avg. tumor Dice: 0.31508395075798035 Current Avg. lymph Dice: 0.2907771170139313\n"
     ]
    },
    {
     "name": "stderr",
     "output_type": "stream",
     "text": [
      "Training (12102 / 18000 Steps) (loss=0.31643): 100%|██████████| 7/7 [00:09<00:00,  1.43s/it]\n",
      "Training (12109 / 18000 Steps) (loss=0.38359): 100%|██████████| 7/7 [00:05<00:00,  1.32it/s]\n",
      "Training (12116 / 18000 Steps) (loss=0.50293): 100%|██████████| 7/7 [00:05<00:00,  1.28it/s]\n",
      "Training (12123 / 18000 Steps) (loss=0.45194): 100%|██████████| 7/7 [00:05<00:00,  1.21it/s]\n",
      "Training (12130 / 18000 Steps) (loss=0.58066): 100%|██████████| 7/7 [00:05<00:00,  1.27it/s]\n",
      "Training (12137 / 18000 Steps) (loss=0.49197): 100%|██████████| 7/7 [00:05<00:00,  1.24it/s]\n",
      "Training (12144 / 18000 Steps) (loss=0.38995): 100%|██████████| 7/7 [00:05<00:00,  1.22it/s]\n",
      "Training (12151 / 18000 Steps) (loss=0.44686): 100%|██████████| 7/7 [00:05<00:00,  1.24it/s]\n",
      "Training (12158 / 18000 Steps) (loss=0.60012): 100%|██████████| 7/7 [00:05<00:00,  1.19it/s]\n",
      "Training (12165 / 18000 Steps) (loss=0.43853): 100%|██████████| 7/7 [00:05<00:00,  1.22it/s]\n",
      "Training (12172 / 18000 Steps) (loss=0.29293): 100%|██████████| 7/7 [00:05<00:00,  1.23it/s]\n",
      "Training (12179 / 18000 Steps) (loss=0.52455): 100%|██████████| 7/7 [00:05<00:00,  1.24it/s]\n",
      "Training (12186 / 18000 Steps) (loss=0.40479): 100%|██████████| 7/7 [00:05<00:00,  1.22it/s]\n",
      "Training (12193 / 18000 Steps) (loss=0.48999): 100%|██████████| 7/7 [00:06<00:00,  1.16it/s]\n",
      "Validate (12194 / 10 Steps): 100%|██████████| 2/2 [00:04<00:00,  2.20s/it]<00:00,  1.75it/s]\n",
      "Training (12200 / 18000 Steps) (loss=0.52891): 100%|██████████| 7/7 [00:10<00:00,  1.44s/it]\n"
     ]
    },
    {
     "name": "stdout",
     "output_type": "stream",
     "text": [
      "Model Was Not Saved ! Current Best Avg. Dice: 0.36154210567474365 Current Avg. Dice: 0.32852083444595337 Current Avg. tumor Dice: 0.3465207815170288 Current Avg. lymph Dice: 0.31052082777023315\n"
     ]
    },
    {
     "name": "stderr",
     "output_type": "stream",
     "text": [
      "Training (12207 / 18000 Steps) (loss=0.35614): 100%|██████████| 7/7 [00:05<00:00,  1.23it/s]\n",
      "Training (12214 / 18000 Steps) (loss=0.13624): 100%|██████████| 7/7 [00:05<00:00,  1.20it/s]\n",
      "Training (12221 / 18000 Steps) (loss=0.54563): 100%|██████████| 7/7 [00:05<00:00,  1.29it/s]\n",
      "Training (12228 / 18000 Steps) (loss=0.51295): 100%|██████████| 7/7 [00:05<00:00,  1.19it/s]\n",
      "Training (12235 / 18000 Steps) (loss=0.42105): 100%|██████████| 7/7 [00:05<00:00,  1.19it/s]\n",
      "Training (12242 / 18000 Steps) (loss=0.43087): 100%|██████████| 7/7 [00:05<00:00,  1.20it/s]\n",
      "Training (12249 / 18000 Steps) (loss=0.43678): 100%|██████████| 7/7 [00:05<00:00,  1.29it/s]\n",
      "Training (12256 / 18000 Steps) (loss=0.52285): 100%|██████████| 7/7 [00:05<00:00,  1.30it/s]\n",
      "Training (12263 / 18000 Steps) (loss=0.21085): 100%|██████████| 7/7 [00:05<00:00,  1.28it/s]\n",
      "Training (12270 / 18000 Steps) (loss=0.35280): 100%|██████████| 7/7 [00:05<00:00,  1.27it/s]\n",
      "Training (12277 / 18000 Steps) (loss=0.40795): 100%|██████████| 7/7 [00:05<00:00,  1.17it/s]\n",
      "Training (12284 / 18000 Steps) (loss=0.28702): 100%|██████████| 7/7 [00:05<00:00,  1.20it/s]\n",
      "Training (12291 / 18000 Steps) (loss=0.55143): 100%|██████████| 7/7 [00:05<00:00,  1.29it/s]\n",
      "Training (12298 / 18000 Steps) (loss=0.34246): 100%|██████████| 7/7 [00:05<00:00,  1.34it/s]\n",
      "Validate (12299 / 10 Steps): 100%|██████████| 2/2 [00:04<00:00,  2.20s/it]<00:18,  3.04s/it]\n",
      "Training (12300 / 18000 Steps) (loss=0.45801):  29%|██▊       | 2/7 [00:07<00:20,  4.10s/it]"
     ]
    },
    {
     "name": "stdout",
     "output_type": "stream",
     "text": [
      "Model Was Not Saved ! Current Best Avg. Dice: 0.36154210567474365 Current Avg. Dice: 0.3110958933830261 Current Avg. tumor Dice: 0.28486117720603943 Current Avg. lymph Dice: 0.33733057975769043\n"
     ]
    },
    {
     "name": "stderr",
     "output_type": "stream",
     "text": [
      "Training (12305 / 18000 Steps) (loss=0.46187): 100%|██████████| 7/7 [00:09<00:00,  1.41s/it]\n",
      "Training (12312 / 18000 Steps) (loss=0.47077): 100%|██████████| 7/7 [00:05<00:00,  1.18it/s]\n",
      "Training (12319 / 18000 Steps) (loss=0.21076): 100%|██████████| 7/7 [00:05<00:00,  1.18it/s]\n",
      "Training (12326 / 18000 Steps) (loss=0.38283): 100%|██████████| 7/7 [00:05<00:00,  1.23it/s]\n",
      "Training (12333 / 18000 Steps) (loss=0.20288): 100%|██████████| 7/7 [00:05<00:00,  1.27it/s]\n",
      "Training (12340 / 18000 Steps) (loss=0.50636): 100%|██████████| 7/7 [00:05<00:00,  1.28it/s]\n",
      "Training (12347 / 18000 Steps) (loss=0.51504): 100%|██████████| 7/7 [00:05<00:00,  1.21it/s]\n",
      "Training (12354 / 18000 Steps) (loss=0.26193): 100%|██████████| 7/7 [00:05<00:00,  1.29it/s]\n",
      "Training (12361 / 18000 Steps) (loss=0.34740): 100%|██████████| 7/7 [00:05<00:00,  1.24it/s]\n",
      "Training (12368 / 18000 Steps) (loss=0.42171): 100%|██████████| 7/7 [00:05<00:00,  1.34it/s]\n",
      "Training (12375 / 18000 Steps) (loss=0.49893): 100%|██████████| 7/7 [00:05<00:00,  1.28it/s]\n",
      "Training (12382 / 18000 Steps) (loss=0.32765): 100%|██████████| 7/7 [00:05<00:00,  1.31it/s]\n",
      "Training (12389 / 18000 Steps) (loss=0.39652): 100%|██████████| 7/7 [00:05<00:00,  1.32it/s]\n",
      "Training (12396 / 18000 Steps) (loss=0.33205): 100%|██████████| 7/7 [00:05<00:00,  1.22it/s]\n",
      "Validate (12397 / 10 Steps): 100%|██████████| 2/2 [00:04<00:00,  2.18s/it]<00:04,  1.04s/it]\n",
      "Training (12400 / 18000 Steps) (loss=0.38872):  57%|█████▋    | 4/7 [00:08<00:07,  2.52s/it]"
     ]
    },
    {
     "name": "stdout",
     "output_type": "stream",
     "text": [
      "Model Was Not Saved ! Current Best Avg. Dice: 0.36154210567474365 Current Avg. Dice: 0.323114812374115 Current Avg. tumor Dice: 0.31848612427711487 Current Avg. lymph Dice: 0.32774344086647034\n"
     ]
    },
    {
     "name": "stderr",
     "output_type": "stream",
     "text": [
      "Training (12403 / 18000 Steps) (loss=0.67207): 100%|██████████| 7/7 [00:09<00:00,  1.43s/it]\n",
      "Training (12410 / 18000 Steps) (loss=0.39962): 100%|██████████| 7/7 [00:05<00:00,  1.23it/s]\n",
      "Training (12417 / 18000 Steps) (loss=0.23703): 100%|██████████| 7/7 [00:05<00:00,  1.30it/s]\n",
      "Training (12424 / 18000 Steps) (loss=0.40813): 100%|██████████| 7/7 [00:05<00:00,  1.23it/s]\n",
      "Training (12431 / 18000 Steps) (loss=0.49348): 100%|██████████| 7/7 [00:05<00:00,  1.29it/s]\n",
      "Training (12438 / 18000 Steps) (loss=0.48027): 100%|██████████| 7/7 [00:05<00:00,  1.21it/s]\n",
      "Training (12445 / 18000 Steps) (loss=0.44411): 100%|██████████| 7/7 [00:05<00:00,  1.26it/s]\n",
      "Training (12452 / 18000 Steps) (loss=0.32623): 100%|██████████| 7/7 [00:05<00:00,  1.30it/s]\n",
      "Training (12459 / 18000 Steps) (loss=0.42584): 100%|██████████| 7/7 [00:05<00:00,  1.26it/s]\n",
      "Training (12466 / 18000 Steps) (loss=0.39759): 100%|██████████| 7/7 [00:05<00:00,  1.33it/s]\n",
      "Training (12473 / 18000 Steps) (loss=0.53127): 100%|██████████| 7/7 [00:05<00:00,  1.32it/s]\n",
      "Training (12480 / 18000 Steps) (loss=0.42001): 100%|██████████| 7/7 [00:05<00:00,  1.33it/s]\n",
      "Training (12487 / 18000 Steps) (loss=0.42606): 100%|██████████| 7/7 [00:05<00:00,  1.26it/s]\n",
      "Training (12494 / 18000 Steps) (loss=0.16922): 100%|██████████| 7/7 [00:05<00:00,  1.32it/s]\n",
      "Validate (12495 / 10 Steps): 100%|██████████| 2/2 [00:04<00:00,  2.24s/it]<00:01,  1.50it/s]\n",
      "Training (12500 / 18000 Steps) (loss=0.52431):  86%|████████▌ | 6/7 [00:09<00:02,  2.12s/it]"
     ]
    },
    {
     "name": "stdout",
     "output_type": "stream",
     "text": [
      "Model Was Not Saved ! Current Best Avg. Dice: 0.36154210567474365 Current Avg. Dice: 0.3424501121044159 Current Avg. tumor Dice: 0.3439592123031616 Current Avg. lymph Dice: 0.34094101190567017\n"
     ]
    },
    {
     "name": "stderr",
     "output_type": "stream",
     "text": [
      "Training (12501 / 18000 Steps) (loss=0.26557): 100%|██████████| 7/7 [00:10<00:00,  1.47s/it]\n",
      "Training (12508 / 18000 Steps) (loss=0.47071): 100%|██████████| 7/7 [00:05<00:00,  1.30it/s]\n",
      "Training (12515 / 18000 Steps) (loss=0.48912): 100%|██████████| 7/7 [00:05<00:00,  1.19it/s]\n",
      "Training (12522 / 18000 Steps) (loss=0.53705): 100%|██████████| 7/7 [00:05<00:00,  1.22it/s]\n",
      "Training (12529 / 18000 Steps) (loss=0.36483): 100%|██████████| 7/7 [00:05<00:00,  1.26it/s]\n",
      "Training (12536 / 18000 Steps) (loss=0.40472): 100%|██████████| 7/7 [00:05<00:00,  1.24it/s]\n",
      "Training (12543 / 18000 Steps) (loss=0.42660): 100%|██████████| 7/7 [00:05<00:00,  1.31it/s]\n",
      "Training (12550 / 18000 Steps) (loss=0.67089): 100%|██████████| 7/7 [00:05<00:00,  1.18it/s]\n",
      "Training (12557 / 18000 Steps) (loss=0.31432): 100%|██████████| 7/7 [00:05<00:00,  1.25it/s]\n",
      "Training (12564 / 18000 Steps) (loss=0.25575): 100%|██████████| 7/7 [00:05<00:00,  1.28it/s]\n",
      "Training (12571 / 18000 Steps) (loss=0.35669): 100%|██████████| 7/7 [00:05<00:00,  1.24it/s]\n",
      "Training (12578 / 18000 Steps) (loss=0.35397): 100%|██████████| 7/7 [00:05<00:00,  1.24it/s]\n",
      "Training (12585 / 18000 Steps) (loss=0.39888): 100%|██████████| 7/7 [00:05<00:00,  1.23it/s]\n",
      "Training (12592 / 18000 Steps) (loss=0.37974): 100%|██████████| 7/7 [00:05<00:00,  1.23it/s]\n",
      "Training (12599 / 18000 Steps) (loss=0.46736): 100%|██████████| 7/7 [00:05<00:00,  1.23it/s]\n",
      "Validate (12600 / 10 Steps): 100%|██████████| 2/2 [00:04<00:00,  2.23s/it]<?, ?it/s]\n",
      "Training (12600 / 18000 Steps) (loss=0.49271):  14%|█▍        | 1/7 [00:08<00:48,  8.01s/it]"
     ]
    },
    {
     "name": "stdout",
     "output_type": "stream",
     "text": [
      "Model Was Not Saved ! Current Best Avg. Dice: 0.36154210567474365 Current Avg. Dice: 0.33329522609710693 Current Avg. tumor Dice: 0.3345889449119568 Current Avg. lymph Dice: 0.3320014476776123\n"
     ]
    },
    {
     "name": "stderr",
     "output_type": "stream",
     "text": [
      "Training (12606 / 18000 Steps) (loss=0.34467): 100%|██████████| 7/7 [00:10<00:00,  1.49s/it]\n",
      "Training (12613 / 18000 Steps) (loss=0.38516): 100%|██████████| 7/7 [00:05<00:00,  1.26it/s]\n",
      "Training (12620 / 18000 Steps) (loss=0.54657): 100%|██████████| 7/7 [00:05<00:00,  1.26it/s]\n",
      "Training (12627 / 18000 Steps) (loss=0.58720): 100%|██████████| 7/7 [00:05<00:00,  1.28it/s]\n",
      "Training (12634 / 18000 Steps) (loss=0.48724): 100%|██████████| 7/7 [00:05<00:00,  1.29it/s]\n",
      "Training (12641 / 18000 Steps) (loss=0.45522): 100%|██████████| 7/7 [00:06<00:00,  1.16it/s]\n",
      "Training (12648 / 18000 Steps) (loss=0.51673): 100%|██████████| 7/7 [00:06<00:00,  1.05it/s]\n",
      "Training (12655 / 18000 Steps) (loss=0.55052): 100%|██████████| 7/7 [00:05<00:00,  1.19it/s]\n",
      "Training (12662 / 18000 Steps) (loss=0.32264): 100%|██████████| 7/7 [00:05<00:00,  1.23it/s]\n",
      "Training (12669 / 18000 Steps) (loss=0.44026): 100%|██████████| 7/7 [00:05<00:00,  1.24it/s]\n",
      "Training (12676 / 18000 Steps) (loss=0.39991): 100%|██████████| 7/7 [00:05<00:00,  1.27it/s]\n",
      "Training (12683 / 18000 Steps) (loss=0.50322): 100%|██████████| 7/7 [00:05<00:00,  1.20it/s]\n",
      "Training (12690 / 18000 Steps) (loss=0.40275): 100%|██████████| 7/7 [00:05<00:00,  1.20it/s]\n",
      "Training (12697 / 18000 Steps) (loss=0.63389): 100%|██████████| 7/7 [00:06<00:00,  1.16it/s]\n",
      "Validate (12698 / 10 Steps): 100%|██████████| 2/2 [00:04<00:00,  2.25s/it]<00:07,  1.52s/it]\n",
      "Training (12700 / 18000 Steps) (loss=0.53401):  43%|████▎     | 3/7 [00:08<00:12,  3.09s/it]"
     ]
    },
    {
     "name": "stdout",
     "output_type": "stream",
     "text": [
      "Model Was Not Saved ! Current Best Avg. Dice: 0.36154210567474365 Current Avg. Dice: 0.3244090676307678 Current Avg. tumor Dice: 0.3137901723384857 Current Avg. lymph Dice: 0.3350279927253723\n"
     ]
    },
    {
     "name": "stderr",
     "output_type": "stream",
     "text": [
      "Training (12704 / 18000 Steps) (loss=0.38944): 100%|██████████| 7/7 [00:10<00:00,  1.43s/it]\n",
      "Training (12711 / 18000 Steps) (loss=0.54945): 100%|██████████| 7/7 [00:05<00:00,  1.23it/s]\n",
      "Training (12718 / 18000 Steps) (loss=0.57005): 100%|██████████| 7/7 [00:05<00:00,  1.23it/s]\n",
      "Training (12725 / 18000 Steps) (loss=0.37774): 100%|██████████| 7/7 [00:06<00:00,  1.06it/s]\n",
      "Training (12732 / 18000 Steps) (loss=0.25523): 100%|██████████| 7/7 [00:05<00:00,  1.18it/s]\n",
      "Training (12739 / 18000 Steps) (loss=0.49932): 100%|██████████| 7/7 [00:05<00:00,  1.20it/s]\n",
      "Training (12746 / 18000 Steps) (loss=0.21481): 100%|██████████| 7/7 [00:05<00:00,  1.19it/s]\n",
      "Training (12753 / 18000 Steps) (loss=0.41375): 100%|██████████| 7/7 [00:05<00:00,  1.29it/s]\n",
      "Training (12760 / 18000 Steps) (loss=0.47995): 100%|██████████| 7/7 [00:05<00:00,  1.24it/s]\n",
      "Training (12767 / 18000 Steps) (loss=0.54807): 100%|██████████| 7/7 [00:06<00:00,  1.10it/s]\n",
      "Training (12774 / 18000 Steps) (loss=0.42147): 100%|██████████| 7/7 [00:06<00:00,  1.07it/s]\n",
      "Training (12781 / 18000 Steps) (loss=0.39875): 100%|██████████| 7/7 [00:05<00:00,  1.23it/s]\n",
      "Training (12788 / 18000 Steps) (loss=0.32241): 100%|██████████| 7/7 [00:05<00:00,  1.25it/s]\n",
      "Training (12795 / 18000 Steps) (loss=0.35794): 100%|██████████| 7/7 [00:05<00:00,  1.24it/s]\n",
      "Validate (12796 / 10 Steps): 100%|██████████| 2/2 [00:04<00:00,  2.21s/it]<00:02,  1.24it/s]\n",
      "Training (12800 / 18000 Steps) (loss=0.38630):  71%|███████▏  | 5/7 [00:09<00:04,  2.27s/it]"
     ]
    },
    {
     "name": "stdout",
     "output_type": "stream",
     "text": [
      "Model Was Not Saved ! Current Best Avg. Dice: 0.36154210567474365 Current Avg. Dice: 0.31406715512275696 Current Avg. tumor Dice: 0.3031572997570038 Current Avg. lymph Dice: 0.3249770402908325\n"
     ]
    },
    {
     "name": "stderr",
     "output_type": "stream",
     "text": [
      "Training (12802 / 18000 Steps) (loss=0.33643): 100%|██████████| 7/7 [00:10<00:00,  1.45s/it]\n",
      "Training (12809 / 18000 Steps) (loss=0.36360): 100%|██████████| 7/7 [00:05<00:00,  1.28it/s]\n",
      "Training (12816 / 18000 Steps) (loss=0.28243): 100%|██████████| 7/7 [00:05<00:00,  1.23it/s]\n",
      "Training (12823 / 18000 Steps) (loss=0.54322): 100%|██████████| 7/7 [00:05<00:00,  1.22it/s]\n",
      "Training (12830 / 18000 Steps) (loss=0.33090): 100%|██████████| 7/7 [00:05<00:00,  1.28it/s]\n",
      "Training (12837 / 18000 Steps) (loss=0.55877): 100%|██████████| 7/7 [00:05<00:00,  1.27it/s]\n",
      "Training (12844 / 18000 Steps) (loss=0.67248): 100%|██████████| 7/7 [00:05<00:00,  1.18it/s]\n",
      "Training (12851 / 18000 Steps) (loss=0.26263): 100%|██████████| 7/7 [00:05<00:00,  1.23it/s]\n",
      "Training (12858 / 18000 Steps) (loss=0.48730): 100%|██████████| 7/7 [00:05<00:00,  1.20it/s]\n",
      "Training (12865 / 18000 Steps) (loss=0.40565): 100%|██████████| 7/7 [00:05<00:00,  1.25it/s]\n",
      "Training (12872 / 18000 Steps) (loss=0.39302): 100%|██████████| 7/7 [00:05<00:00,  1.27it/s]\n",
      "Training (12879 / 18000 Steps) (loss=0.50318): 100%|██████████| 7/7 [00:05<00:00,  1.30it/s]\n",
      "Training (12886 / 18000 Steps) (loss=0.29023): 100%|██████████| 7/7 [00:05<00:00,  1.19it/s]\n",
      "Training (12893 / 18000 Steps) (loss=0.45634): 100%|██████████| 7/7 [00:05<00:00,  1.21it/s]\n",
      "Validate (12894 / 10 Steps): 100%|██████████| 2/2 [00:04<00:00,  2.21s/it]<00:00,  1.64it/s]\n",
      "Training (12900 / 18000 Steps) (loss=0.20433): 100%|██████████| 7/7 [00:10<00:00,  1.52s/it]\n"
     ]
    },
    {
     "name": "stdout",
     "output_type": "stream",
     "text": [
      "Model Was Not Saved ! Current Best Avg. Dice: 0.36154210567474365 Current Avg. Dice: 0.30201393365859985 Current Avg. tumor Dice: 0.3066383898258209 Current Avg. lymph Dice: 0.29738950729370117\n"
     ]
    },
    {
     "name": "stderr",
     "output_type": "stream",
     "text": [
      "Training (12907 / 18000 Steps) (loss=0.38930): 100%|██████████| 7/7 [00:05<00:00,  1.23it/s]\n",
      "Training (12914 / 18000 Steps) (loss=0.42384): 100%|██████████| 7/7 [00:05<00:00,  1.29it/s]\n",
      "Training (12921 / 18000 Steps) (loss=0.41042): 100%|██████████| 7/7 [00:05<00:00,  1.27it/s]\n",
      "Training (12928 / 18000 Steps) (loss=0.38164): 100%|██████████| 7/7 [00:05<00:00,  1.22it/s]\n",
      "Training (12935 / 18000 Steps) (loss=0.40456): 100%|██████████| 7/7 [00:06<00:00,  1.14it/s]\n",
      "Training (12942 / 18000 Steps) (loss=0.53551): 100%|██████████| 7/7 [00:05<00:00,  1.25it/s]\n",
      "Training (12949 / 18000 Steps) (loss=0.39844): 100%|██████████| 7/7 [00:05<00:00,  1.24it/s]\n",
      "Training (12956 / 18000 Steps) (loss=0.49672): 100%|██████████| 7/7 [00:05<00:00,  1.25it/s]\n",
      "Training (12963 / 18000 Steps) (loss=0.61225): 100%|██████████| 7/7 [00:05<00:00,  1.21it/s]\n",
      "Training (12970 / 18000 Steps) (loss=0.33178): 100%|██████████| 7/7 [00:05<00:00,  1.25it/s]\n",
      "Training (12977 / 18000 Steps) (loss=0.47767): 100%|██████████| 7/7 [00:05<00:00,  1.20it/s]\n",
      "Training (12984 / 18000 Steps) (loss=0.28858): 100%|██████████| 7/7 [00:05<00:00,  1.23it/s]\n",
      "Training (12991 / 18000 Steps) (loss=0.42663): 100%|██████████| 7/7 [00:05<00:00,  1.20it/s]\n",
      "Training (12998 / 18000 Steps) (loss=0.54098): 100%|██████████| 7/7 [00:05<00:00,  1.21it/s]\n",
      "Validate (12999 / 10 Steps): 100%|██████████| 2/2 [00:04<00:00,  2.27s/it]<00:20,  3.35s/it]\n",
      "Training (13000 / 18000 Steps) (loss=0.28731):  29%|██▊       | 2/7 [00:08<00:21,  4.32s/it]"
     ]
    },
    {
     "name": "stdout",
     "output_type": "stream",
     "text": [
      "Model Was Not Saved ! Current Best Avg. Dice: 0.36154210567474365 Current Avg. Dice: 0.3266701102256775 Current Avg. tumor Dice: 0.3467814326286316 Current Avg. lymph Dice: 0.3065587878227234\n"
     ]
    },
    {
     "name": "stderr",
     "output_type": "stream",
     "text": [
      "Training (13005 / 18000 Steps) (loss=0.35999): 100%|██████████| 7/7 [00:10<00:00,  1.48s/it]\n",
      "Training (13012 / 18000 Steps) (loss=0.42525): 100%|██████████| 7/7 [00:05<00:00,  1.18it/s]\n",
      "Training (13019 / 18000 Steps) (loss=0.26234): 100%|██████████| 7/7 [00:05<00:00,  1.27it/s]\n",
      "Training (13026 / 18000 Steps) (loss=0.55028): 100%|██████████| 7/7 [00:05<00:00,  1.22it/s]\n",
      "Training (13033 / 18000 Steps) (loss=0.33318): 100%|██████████| 7/7 [00:05<00:00,  1.24it/s]\n",
      "Training (13040 / 18000 Steps) (loss=0.17083): 100%|██████████| 7/7 [00:05<00:00,  1.21it/s]\n",
      "Training (13047 / 18000 Steps) (loss=0.53567): 100%|██████████| 7/7 [00:05<00:00,  1.25it/s]\n",
      "Training (13054 / 18000 Steps) (loss=0.30902): 100%|██████████| 7/7 [00:05<00:00,  1.22it/s]\n",
      "Training (13061 / 18000 Steps) (loss=0.36104): 100%|██████████| 7/7 [00:05<00:00,  1.27it/s]\n",
      "Training (13068 / 18000 Steps) (loss=0.23471): 100%|██████████| 7/7 [00:05<00:00,  1.18it/s]\n",
      "Training (13075 / 18000 Steps) (loss=0.53385): 100%|██████████| 7/7 [00:05<00:00,  1.28it/s]\n",
      "Training (13082 / 18000 Steps) (loss=0.31808): 100%|██████████| 7/7 [00:05<00:00,  1.26it/s]\n",
      "Training (13089 / 18000 Steps) (loss=0.31827): 100%|██████████| 7/7 [00:05<00:00,  1.22it/s]\n",
      "Training (13096 / 18000 Steps) (loss=0.42951): 100%|██████████| 7/7 [00:05<00:00,  1.20it/s]\n",
      "Validate (13097 / 10 Steps): 100%|██████████| 2/2 [00:04<00:00,  2.25s/it]<00:04,  1.12s/it]\n",
      "Training (13100 / 18000 Steps) (loss=0.49629):  57%|█████▋    | 4/7 [00:09<00:07,  2.64s/it]"
     ]
    },
    {
     "name": "stdout",
     "output_type": "stream",
     "text": [
      "Model Was Not Saved ! Current Best Avg. Dice: 0.36154210567474365 Current Avg. Dice: 0.3017778992652893 Current Avg. tumor Dice: 0.29817941784858704 Current Avg. lymph Dice: 0.3053763508796692\n"
     ]
    },
    {
     "name": "stderr",
     "output_type": "stream",
     "text": [
      "Training (13103 / 18000 Steps) (loss=0.40914): 100%|██████████| 7/7 [00:10<00:00,  1.51s/it]\n",
      "Training (13110 / 18000 Steps) (loss=0.45505): 100%|██████████| 7/7 [00:05<00:00,  1.21it/s]\n",
      "Training (13117 / 18000 Steps) (loss=0.49161): 100%|██████████| 7/7 [00:05<00:00,  1.29it/s]\n",
      "Training (13124 / 18000 Steps) (loss=0.65394): 100%|██████████| 7/7 [00:06<00:00,  1.14it/s]\n",
      "Training (13131 / 18000 Steps) (loss=0.14499): 100%|██████████| 7/7 [00:06<00:00,  1.10it/s]\n",
      "Training (13138 / 18000 Steps) (loss=0.43421): 100%|██████████| 7/7 [00:05<00:00,  1.20it/s]\n",
      "Training (13145 / 18000 Steps) (loss=0.19398): 100%|██████████| 7/7 [00:05<00:00,  1.21it/s]\n",
      "Training (13152 / 18000 Steps) (loss=0.47715): 100%|██████████| 7/7 [00:05<00:00,  1.24it/s]\n",
      "Training (13159 / 18000 Steps) (loss=0.35799): 100%|██████████| 7/7 [00:05<00:00,  1.21it/s]\n",
      "Training (13166 / 18000 Steps) (loss=0.38946): 100%|██████████| 7/7 [00:05<00:00,  1.25it/s]\n",
      "Training (13173 / 18000 Steps) (loss=0.41378): 100%|██████████| 7/7 [00:05<00:00,  1.21it/s]\n",
      "Training (13180 / 18000 Steps) (loss=0.34986): 100%|██████████| 7/7 [00:06<00:00,  1.13it/s]\n",
      "Training (13187 / 18000 Steps) (loss=0.53205): 100%|██████████| 7/7 [00:06<00:00,  1.16it/s]\n",
      "Training (13194 / 18000 Steps) (loss=0.61122): 100%|██████████| 7/7 [00:05<00:00,  1.23it/s]\n",
      "Validate (13195 / 10 Steps): 100%|██████████| 2/2 [00:04<00:00,  2.24s/it]<00:01,  1.51it/s]\n",
      "Training (13200 / 18000 Steps) (loss=0.35794):  86%|████████▌ | 6/7 [00:09<00:02,  2.12s/it]"
     ]
    },
    {
     "name": "stdout",
     "output_type": "stream",
     "text": [
      "Model Was Not Saved ! Current Best Avg. Dice: 0.36154210567474365 Current Avg. Dice: 0.33073121309280396 Current Avg. tumor Dice: 0.3072153627872467 Current Avg. lymph Dice: 0.3542470335960388\n"
     ]
    },
    {
     "name": "stderr",
     "output_type": "stream",
     "text": [
      "Training (13201 / 18000 Steps) (loss=0.37593): 100%|██████████| 7/7 [00:10<00:00,  1.46s/it]\n",
      "Training (13208 / 18000 Steps) (loss=0.35389): 100%|██████████| 7/7 [00:05<00:00,  1.25it/s]\n",
      "Training (13215 / 18000 Steps) (loss=0.35648): 100%|██████████| 7/7 [00:05<00:00,  1.24it/s]\n",
      "Training (13222 / 18000 Steps) (loss=0.52504): 100%|██████████| 7/7 [00:05<00:00,  1.18it/s]\n",
      "Training (13229 / 18000 Steps) (loss=0.42390): 100%|██████████| 7/7 [00:05<00:00,  1.18it/s]\n",
      "Training (13236 / 18000 Steps) (loss=0.31958): 100%|██████████| 7/7 [00:05<00:00,  1.23it/s]\n",
      "Training (13243 / 18000 Steps) (loss=0.55868): 100%|██████████| 7/7 [00:05<00:00,  1.23it/s]\n",
      "Training (13250 / 18000 Steps) (loss=0.34228): 100%|██████████| 7/7 [00:05<00:00,  1.29it/s]\n",
      "Training (13257 / 18000 Steps) (loss=0.46917): 100%|██████████| 7/7 [00:05<00:00,  1.27it/s]\n",
      "Training (13264 / 18000 Steps) (loss=0.23378): 100%|██████████| 7/7 [00:05<00:00,  1.25it/s]\n",
      "Training (13271 / 18000 Steps) (loss=0.58361): 100%|██████████| 7/7 [00:06<00:00,  1.16it/s]\n",
      "Training (13278 / 18000 Steps) (loss=0.54202): 100%|██████████| 7/7 [00:05<00:00,  1.20it/s]\n",
      "Training (13285 / 18000 Steps) (loss=0.35445): 100%|██████████| 7/7 [00:05<00:00,  1.24it/s]\n",
      "Training (13292 / 18000 Steps) (loss=0.52222): 100%|██████████| 7/7 [00:05<00:00,  1.20it/s]\n",
      "Training (13299 / 18000 Steps) (loss=0.48726): 100%|██████████| 7/7 [00:06<00:00,  1.14it/s]\n",
      "Validate (13300 / 10 Steps): 100%|██████████| 2/2 [00:04<00:00,  2.26s/it]<?, ?it/s]\n",
      "Training (13300 / 18000 Steps) (loss=0.54548):  14%|█▍        | 1/7 [00:07<00:46,  7.73s/it]"
     ]
    },
    {
     "name": "stdout",
     "output_type": "stream",
     "text": [
      "Model Was Not Saved ! Current Best Avg. Dice: 0.36154210567474365 Current Avg. Dice: 0.2936965525150299 Current Avg. tumor Dice: 0.27549856901168823 Current Avg. lymph Dice: 0.31189456582069397\n"
     ]
    },
    {
     "name": "stderr",
     "output_type": "stream",
     "text": [
      "Training (13306 / 18000 Steps) (loss=0.43610): 100%|██████████| 7/7 [00:10<00:00,  1.44s/it]\n",
      "Training (13313 / 18000 Steps) (loss=0.27083): 100%|██████████| 7/7 [00:05<00:00,  1.27it/s]\n",
      "Training (13320 / 18000 Steps) (loss=0.51215): 100%|██████████| 7/7 [00:05<00:00,  1.26it/s]\n",
      "Training (13327 / 18000 Steps) (loss=0.38450): 100%|██████████| 7/7 [00:05<00:00,  1.24it/s]\n",
      "Training (13334 / 18000 Steps) (loss=0.42639): 100%|██████████| 7/7 [00:05<00:00,  1.21it/s]\n",
      "Training (13341 / 18000 Steps) (loss=0.56733): 100%|██████████| 7/7 [00:05<00:00,  1.20it/s]\n",
      "Training (13348 / 18000 Steps) (loss=0.29789): 100%|██████████| 7/7 [00:05<00:00,  1.24it/s]\n",
      "Training (13355 / 18000 Steps) (loss=0.26036): 100%|██████████| 7/7 [00:05<00:00,  1.26it/s]\n",
      "Training (13362 / 18000 Steps) (loss=0.15588): 100%|██████████| 7/7 [00:05<00:00,  1.20it/s]\n",
      "Training (13369 / 18000 Steps) (loss=0.34965): 100%|██████████| 7/7 [00:05<00:00,  1.23it/s]\n",
      "Training (13376 / 18000 Steps) (loss=0.29161): 100%|██████████| 7/7 [00:06<00:00,  1.13it/s]\n",
      "Training (13383 / 18000 Steps) (loss=0.45497): 100%|██████████| 7/7 [00:05<00:00,  1.26it/s]\n",
      "Training (13390 / 18000 Steps) (loss=0.54457): 100%|██████████| 7/7 [00:05<00:00,  1.21it/s]\n",
      "Training (13397 / 18000 Steps) (loss=0.66788): 100%|██████████| 7/7 [00:05<00:00,  1.26it/s]\n",
      "Validate (13398 / 10 Steps): 100%|██████████| 2/2 [00:04<00:00,  2.44s/it]<00:08,  1.61s/it]\n",
      "Training (13400 / 18000 Steps) (loss=0.29272):  43%|████▎     | 3/7 [00:09<00:13,  3.33s/it]"
     ]
    },
    {
     "name": "stdout",
     "output_type": "stream",
     "text": [
      "Model Was Not Saved ! Current Best Avg. Dice: 0.36154210567474365 Current Avg. Dice: 0.31319448351860046 Current Avg. tumor Dice: 0.3062621057033539 Current Avg. lymph Dice: 0.32012683153152466\n"
     ]
    },
    {
     "name": "stderr",
     "output_type": "stream",
     "text": [
      "Training (13404 / 18000 Steps) (loss=0.35356): 100%|██████████| 7/7 [00:10<00:00,  1.53s/it]\n",
      "Training (13411 / 18000 Steps) (loss=0.51789): 100%|██████████| 7/7 [00:05<00:00,  1.24it/s]\n",
      "Training (13418 / 18000 Steps) (loss=0.41668): 100%|██████████| 7/7 [00:05<00:00,  1.23it/s]\n",
      "Training (13425 / 18000 Steps) (loss=0.35024): 100%|██████████| 7/7 [00:05<00:00,  1.25it/s]\n",
      "Training (13432 / 18000 Steps) (loss=0.46731): 100%|██████████| 7/7 [00:05<00:00,  1.18it/s]\n",
      "Training (13439 / 18000 Steps) (loss=0.56563): 100%|██████████| 7/7 [00:05<00:00,  1.26it/s]\n",
      "Training (13446 / 18000 Steps) (loss=0.48541): 100%|██████████| 7/7 [00:05<00:00,  1.26it/s]\n",
      "Training (13453 / 18000 Steps) (loss=0.34816): 100%|██████████| 7/7 [00:05<00:00,  1.23it/s]\n",
      "Training (13460 / 18000 Steps) (loss=0.47592): 100%|██████████| 7/7 [00:05<00:00,  1.19it/s]\n",
      "Training (13467 / 18000 Steps) (loss=0.40341): 100%|██████████| 7/7 [00:05<00:00,  1.32it/s]\n",
      "Training (13474 / 18000 Steps) (loss=0.56630): 100%|██████████| 7/7 [00:05<00:00,  1.23it/s]\n",
      "Training (13481 / 18000 Steps) (loss=0.35898): 100%|██████████| 7/7 [00:05<00:00,  1.23it/s]\n",
      "Training (13488 / 18000 Steps) (loss=0.37488): 100%|██████████| 7/7 [00:05<00:00,  1.25it/s]\n",
      "Training (13495 / 18000 Steps) (loss=0.33458): 100%|██████████| 7/7 [00:05<00:00,  1.19it/s]\n",
      "Validate (13496 / 10 Steps): 100%|██████████| 2/2 [00:04<00:00,  2.33s/it]<00:02,  1.18it/s]\n",
      "Training (13500 / 18000 Steps) (loss=0.24431):  71%|███████▏  | 5/7 [00:09<00:04,  2.39s/it]"
     ]
    },
    {
     "name": "stdout",
     "output_type": "stream",
     "text": [
      "Model Was Not Saved ! Current Best Avg. Dice: 0.36154210567474365 Current Avg. Dice: 0.31335628032684326 Current Avg. tumor Dice: 0.316175639629364 Current Avg. lymph Dice: 0.3105369210243225\n"
     ]
    },
    {
     "name": "stderr",
     "output_type": "stream",
     "text": [
      "Training (13502 / 18000 Steps) (loss=0.39827): 100%|██████████| 7/7 [00:10<00:00,  1.53s/it]\n",
      "Training (13509 / 18000 Steps) (loss=0.61421): 100%|██████████| 7/7 [00:05<00:00,  1.23it/s]\n",
      "Training (13516 / 18000 Steps) (loss=0.45473): 100%|██████████| 7/7 [00:05<00:00,  1.17it/s]\n",
      "Training (13523 / 18000 Steps) (loss=0.32742): 100%|██████████| 7/7 [00:05<00:00,  1.21it/s]\n",
      "Training (13530 / 18000 Steps) (loss=0.41721): 100%|██████████| 7/7 [00:05<00:00,  1.24it/s]\n",
      "Training (13537 / 18000 Steps) (loss=0.42744): 100%|██████████| 7/7 [00:05<00:00,  1.19it/s]\n",
      "Training (13544 / 18000 Steps) (loss=0.41299): 100%|██████████| 7/7 [00:05<00:00,  1.23it/s]\n",
      "Training (13551 / 18000 Steps) (loss=0.26138): 100%|██████████| 7/7 [00:05<00:00,  1.26it/s]\n",
      "Training (13558 / 18000 Steps) (loss=0.38143): 100%|██████████| 7/7 [00:05<00:00,  1.30it/s]\n",
      "Training (13565 / 18000 Steps) (loss=0.29424): 100%|██████████| 7/7 [00:05<00:00,  1.26it/s]\n",
      "Training (13572 / 18000 Steps) (loss=0.53976): 100%|██████████| 7/7 [00:05<00:00,  1.24it/s]\n",
      "Training (13579 / 18000 Steps) (loss=0.43501): 100%|██████████| 7/7 [00:05<00:00,  1.22it/s]\n",
      "Training (13586 / 18000 Steps) (loss=0.50948): 100%|██████████| 7/7 [00:06<00:00,  1.14it/s]\n",
      "Training (13593 / 18000 Steps) (loss=0.43841): 100%|██████████| 7/7 [00:05<00:00,  1.24it/s]\n",
      "Validate (13594 / 10 Steps): 100%|██████████| 2/2 [00:04<00:00,  2.23s/it]<00:00,  1.76it/s]\n",
      "Training (13600 / 18000 Steps) (loss=0.32442): 100%|██████████| 7/7 [00:10<00:00,  1.44s/it]\n"
     ]
    },
    {
     "name": "stdout",
     "output_type": "stream",
     "text": [
      "Model Was Not Saved ! Current Best Avg. Dice: 0.36154210567474365 Current Avg. Dice: 0.32704174518585205 Current Avg. tumor Dice: 0.30847248435020447 Current Avg. lymph Dice: 0.34561091661453247\n"
     ]
    },
    {
     "name": "stderr",
     "output_type": "stream",
     "text": [
      "Training (13607 / 18000 Steps) (loss=0.43030): 100%|██████████| 7/7 [00:05<00:00,  1.24it/s]\n",
      "Training (13614 / 18000 Steps) (loss=0.35401): 100%|██████████| 7/7 [00:05<00:00,  1.24it/s]\n",
      "Training (13621 / 18000 Steps) (loss=0.40003): 100%|██████████| 7/7 [00:05<00:00,  1.22it/s]\n",
      "Training (13628 / 18000 Steps) (loss=0.26394): 100%|██████████| 7/7 [00:05<00:00,  1.22it/s]\n",
      "Training (13635 / 18000 Steps) (loss=0.28485): 100%|██████████| 7/7 [00:05<00:00,  1.27it/s]\n",
      "Training (13642 / 18000 Steps) (loss=0.33911): 100%|██████████| 7/7 [00:05<00:00,  1.29it/s]\n",
      "Training (13649 / 18000 Steps) (loss=0.42476): 100%|██████████| 7/7 [00:05<00:00,  1.24it/s]\n",
      "Training (13656 / 18000 Steps) (loss=0.38521): 100%|██████████| 7/7 [00:05<00:00,  1.26it/s]\n",
      "Training (13663 / 18000 Steps) (loss=0.12539): 100%|██████████| 7/7 [00:05<00:00,  1.22it/s]\n",
      "Training (13670 / 18000 Steps) (loss=0.40038): 100%|██████████| 7/7 [00:05<00:00,  1.23it/s]\n",
      "Training (13677 / 18000 Steps) (loss=0.44263): 100%|██████████| 7/7 [00:05<00:00,  1.21it/s]\n",
      "Training (13684 / 18000 Steps) (loss=0.28609): 100%|██████████| 7/7 [00:05<00:00,  1.25it/s]\n",
      "Training (13691 / 18000 Steps) (loss=0.26410): 100%|██████████| 7/7 [00:05<00:00,  1.27it/s]\n",
      "Training (13698 / 18000 Steps) (loss=0.47055): 100%|██████████| 7/7 [00:05<00:00,  1.26it/s]\n",
      "Validate (13699 / 10 Steps): 100%|██████████| 2/2 [00:04<00:00,  2.21s/it]<00:18,  3.16s/it]\n",
      "Training (13700 / 18000 Steps) (loss=0.38071):  29%|██▊       | 2/7 [00:08<00:20,  4.17s/it]"
     ]
    },
    {
     "name": "stdout",
     "output_type": "stream",
     "text": [
      "Model Was Not Saved ! Current Best Avg. Dice: 0.36154210567474365 Current Avg. Dice: 0.3300725817680359 Current Avg. tumor Dice: 0.3410615026950836 Current Avg. lymph Dice: 0.31908366084098816\n"
     ]
    },
    {
     "name": "stderr",
     "output_type": "stream",
     "text": [
      "Training (13705 / 18000 Steps) (loss=0.47664): 100%|██████████| 7/7 [00:10<00:00,  1.43s/it]\n",
      "Training (13712 / 18000 Steps) (loss=0.60204): 100%|██████████| 7/7 [00:05<00:00,  1.23it/s]\n",
      "Training (13719 / 18000 Steps) (loss=0.57517): 100%|██████████| 7/7 [00:05<00:00,  1.31it/s]\n",
      "Training (13726 / 18000 Steps) (loss=0.50428): 100%|██████████| 7/7 [00:05<00:00,  1.31it/s]\n",
      "Training (13733 / 18000 Steps) (loss=0.19440): 100%|██████████| 7/7 [00:05<00:00,  1.27it/s]\n",
      "Training (13740 / 18000 Steps) (loss=0.56299): 100%|██████████| 7/7 [00:05<00:00,  1.20it/s]\n",
      "Training (13747 / 18000 Steps) (loss=0.40190): 100%|██████████| 7/7 [00:05<00:00,  1.28it/s]\n",
      "Training (13754 / 18000 Steps) (loss=0.41001): 100%|██████████| 7/7 [00:05<00:00,  1.20it/s]\n",
      "Training (13761 / 18000 Steps) (loss=0.54294): 100%|██████████| 7/7 [00:05<00:00,  1.27it/s]\n",
      "Training (13768 / 18000 Steps) (loss=0.46684): 100%|██████████| 7/7 [00:05<00:00,  1.32it/s]\n",
      "Training (13775 / 18000 Steps) (loss=0.43691): 100%|██████████| 7/7 [00:05<00:00,  1.29it/s]\n",
      "Training (13782 / 18000 Steps) (loss=0.41190): 100%|██████████| 7/7 [00:05<00:00,  1.30it/s]\n",
      "Training (13789 / 18000 Steps) (loss=0.33814): 100%|██████████| 7/7 [00:05<00:00,  1.26it/s]\n",
      "Training (13796 / 18000 Steps) (loss=0.56922): 100%|██████████| 7/7 [00:05<00:00,  1.29it/s]\n",
      "Validate (13797 / 10 Steps): 100%|██████████| 2/2 [00:04<00:00,  2.24s/it]<00:04,  1.02s/it]\n",
      "Training (13800 / 18000 Steps) (loss=0.35071):  57%|█████▋    | 4/7 [00:08<00:07,  2.56s/it]"
     ]
    },
    {
     "name": "stdout",
     "output_type": "stream",
     "text": [
      "Model Was Not Saved ! Current Best Avg. Dice: 0.36154210567474365 Current Avg. Dice: 0.3259075880050659 Current Avg. tumor Dice: 0.3063398003578186 Current Avg. lymph Dice: 0.34547534584999084\n"
     ]
    },
    {
     "name": "stderr",
     "output_type": "stream",
     "text": [
      "Training (13803 / 18000 Steps) (loss=0.42917): 100%|██████████| 7/7 [00:10<00:00,  1.43s/it]\n",
      "Training (13810 / 18000 Steps) (loss=0.32959): 100%|██████████| 7/7 [00:05<00:00,  1.28it/s]\n",
      "Training (13817 / 18000 Steps) (loss=0.41702): 100%|██████████| 7/7 [00:05<00:00,  1.26it/s]\n",
      "Training (13824 / 18000 Steps) (loss=0.35412): 100%|██████████| 7/7 [00:05<00:00,  1.25it/s]\n",
      "Training (13831 / 18000 Steps) (loss=0.43588): 100%|██████████| 7/7 [00:05<00:00,  1.18it/s]\n",
      "Training (13838 / 18000 Steps) (loss=0.22390): 100%|██████████| 7/7 [00:05<00:00,  1.21it/s]\n",
      "Training (13845 / 18000 Steps) (loss=0.58011): 100%|██████████| 7/7 [00:05<00:00,  1.30it/s]\n",
      "Training (13852 / 18000 Steps) (loss=0.18303): 100%|██████████| 7/7 [00:05<00:00,  1.28it/s]\n",
      "Training (13859 / 18000 Steps) (loss=0.28939): 100%|██████████| 7/7 [00:05<00:00,  1.22it/s]\n",
      "Training (13866 / 18000 Steps) (loss=0.44016): 100%|██████████| 7/7 [00:05<00:00,  1.26it/s]\n",
      "Training (13873 / 18000 Steps) (loss=0.62464): 100%|██████████| 7/7 [00:05<00:00,  1.18it/s]\n",
      "Training (13880 / 18000 Steps) (loss=0.51106): 100%|██████████| 7/7 [00:05<00:00,  1.26it/s]\n",
      "Training (13887 / 18000 Steps) (loss=0.44933): 100%|██████████| 7/7 [00:05<00:00,  1.24it/s]\n",
      "Training (13894 / 18000 Steps) (loss=0.26397): 100%|██████████| 7/7 [00:05<00:00,  1.28it/s]\n",
      "Validate (13895 / 10 Steps): 100%|██████████| 2/2 [00:04<00:00,  2.25s/it]<00:01,  1.52it/s]\n",
      "Training (13900 / 18000 Steps) (loss=0.51443):  86%|████████▌ | 6/7 [00:09<00:02,  2.12s/it]"
     ]
    },
    {
     "name": "stdout",
     "output_type": "stream",
     "text": [
      "Model Was Not Saved ! Current Best Avg. Dice: 0.36154210567474365 Current Avg. Dice: 0.3171815574169159 Current Avg. tumor Dice: 0.34019342064857483 Current Avg. lymph Dice: 0.29416969418525696\n"
     ]
    },
    {
     "name": "stderr",
     "output_type": "stream",
     "text": [
      "Training (13901 / 18000 Steps) (loss=0.18411): 100%|██████████| 7/7 [00:10<00:00,  1.46s/it]\n",
      "Training (13908 / 18000 Steps) (loss=0.29364): 100%|██████████| 7/7 [00:05<00:00,  1.26it/s]\n",
      "Training (13915 / 18000 Steps) (loss=0.49277): 100%|██████████| 7/7 [00:05<00:00,  1.23it/s]\n",
      "Training (13922 / 18000 Steps) (loss=0.32649): 100%|██████████| 7/7 [00:05<00:00,  1.30it/s]\n",
      "Training (13929 / 18000 Steps) (loss=0.59819): 100%|██████████| 7/7 [00:05<00:00,  1.21it/s]\n",
      "Training (13936 / 18000 Steps) (loss=0.24619): 100%|██████████| 7/7 [00:05<00:00,  1.26it/s]\n",
      "Training (13943 / 18000 Steps) (loss=0.46696): 100%|██████████| 7/7 [00:05<00:00,  1.25it/s]\n",
      "Training (13950 / 18000 Steps) (loss=0.12650): 100%|██████████| 7/7 [00:05<00:00,  1.20it/s]\n",
      "Training (13957 / 18000 Steps) (loss=0.47208): 100%|██████████| 7/7 [00:05<00:00,  1.22it/s]\n",
      "Training (13964 / 18000 Steps) (loss=0.62795): 100%|██████████| 7/7 [00:05<00:00,  1.20it/s]\n",
      "Training (13971 / 18000 Steps) (loss=0.53848): 100%|██████████| 7/7 [00:05<00:00,  1.20it/s]\n",
      "Training (13978 / 18000 Steps) (loss=0.55200): 100%|██████████| 7/7 [00:05<00:00,  1.22it/s]\n",
      "Training (13985 / 18000 Steps) (loss=0.38428): 100%|██████████| 7/7 [00:05<00:00,  1.18it/s]\n",
      "Training (13992 / 18000 Steps) (loss=0.27354): 100%|██████████| 7/7 [00:05<00:00,  1.21it/s]\n",
      "Training (13999 / 18000 Steps) (loss=0.53367): 100%|██████████| 7/7 [00:05<00:00,  1.23it/s]\n",
      "Validate (14000 / 10 Steps): 100%|██████████| 2/2 [00:04<00:00,  2.16s/it]<?, ?it/s]\n",
      "Training (14000 / 18000 Steps) (loss=0.31681):  14%|█▍        | 1/7 [00:07<00:46,  7.68s/it]"
     ]
    },
    {
     "name": "stdout",
     "output_type": "stream",
     "text": [
      "Model Was Not Saved ! Current Best Avg. Dice: 0.36154210567474365 Current Avg. Dice: 0.33090466260910034 Current Avg. tumor Dice: 0.33606499433517456 Current Avg. lymph Dice: 0.3257443904876709\n"
     ]
    },
    {
     "name": "stderr",
     "output_type": "stream",
     "text": [
      "Training (14006 / 18000 Steps) (loss=0.39788): 100%|██████████| 7/7 [00:10<00:00,  1.44s/it]\n",
      "Training (14013 / 18000 Steps) (loss=0.35357): 100%|██████████| 7/7 [00:05<00:00,  1.24it/s]\n",
      "Training (14020 / 18000 Steps) (loss=0.24840): 100%|██████████| 7/7 [00:05<00:00,  1.32it/s]\n",
      "Training (14027 / 18000 Steps) (loss=0.29536): 100%|██████████| 7/7 [00:05<00:00,  1.31it/s]\n",
      "Training (14034 / 18000 Steps) (loss=0.48857): 100%|██████████| 7/7 [00:05<00:00,  1.23it/s]\n",
      "Training (14041 / 18000 Steps) (loss=0.27109): 100%|██████████| 7/7 [00:05<00:00,  1.29it/s]\n",
      "Training (14048 / 18000 Steps) (loss=0.21203): 100%|██████████| 7/7 [00:05<00:00,  1.29it/s]\n",
      "Training (14055 / 18000 Steps) (loss=0.38562): 100%|██████████| 7/7 [00:05<00:00,  1.34it/s]\n",
      "Training (14062 / 18000 Steps) (loss=0.42549): 100%|██████████| 7/7 [00:05<00:00,  1.23it/s]\n",
      "Training (14069 / 18000 Steps) (loss=0.33577): 100%|██████████| 7/7 [00:05<00:00,  1.33it/s]\n",
      "Training (14076 / 18000 Steps) (loss=0.40784): 100%|██████████| 7/7 [00:05<00:00,  1.18it/s]\n",
      "Training (14083 / 18000 Steps) (loss=0.19504): 100%|██████████| 7/7 [00:05<00:00,  1.28it/s]\n",
      "Training (14090 / 18000 Steps) (loss=0.48960): 100%|██████████| 7/7 [00:05<00:00,  1.29it/s]\n",
      "Training (14097 / 18000 Steps) (loss=0.34192): 100%|██████████| 7/7 [00:05<00:00,  1.23it/s]\n",
      "Validate (14098 / 10 Steps): 100%|██████████| 2/2 [00:04<00:00,  2.23s/it]<00:07,  1.54s/it]\n",
      "Training (14100 / 18000 Steps) (loss=0.32011):  43%|████▎     | 3/7 [00:08<00:12,  3.10s/it]"
     ]
    },
    {
     "name": "stdout",
     "output_type": "stream",
     "text": [
      "Model Was Not Saved ! Current Best Avg. Dice: 0.36154210567474365 Current Avg. Dice: 0.32543665170669556 Current Avg. tumor Dice: 0.31368374824523926 Current Avg. lymph Dice: 0.33718958497047424\n"
     ]
    },
    {
     "name": "stderr",
     "output_type": "stream",
     "text": [
      "Training (14104 / 18000 Steps) (loss=0.54024): 100%|██████████| 7/7 [00:10<00:00,  1.44s/it]\n",
      "Training (14111 / 18000 Steps) (loss=0.27210): 100%|██████████| 7/7 [00:05<00:00,  1.30it/s]\n",
      "Training (14118 / 18000 Steps) (loss=0.38818): 100%|██████████| 7/7 [00:05<00:00,  1.26it/s]\n",
      "Training (14125 / 18000 Steps) (loss=0.41995): 100%|██████████| 7/7 [00:05<00:00,  1.25it/s]\n",
      "Training (14132 / 18000 Steps) (loss=0.30599): 100%|██████████| 7/7 [00:05<00:00,  1.22it/s]\n",
      "Training (14139 / 18000 Steps) (loss=0.37043): 100%|██████████| 7/7 [00:05<00:00,  1.25it/s]\n",
      "Training (14146 / 18000 Steps) (loss=0.18810): 100%|██████████| 7/7 [00:05<00:00,  1.29it/s]\n",
      "Training (14153 / 18000 Steps) (loss=0.41213): 100%|██████████| 7/7 [00:05<00:00,  1.29it/s]\n",
      "Training (14160 / 18000 Steps) (loss=0.49128): 100%|██████████| 7/7 [00:05<00:00,  1.30it/s]\n",
      "Training (14167 / 18000 Steps) (loss=0.33261): 100%|██████████| 7/7 [00:05<00:00,  1.33it/s]\n",
      "Training (14174 / 18000 Steps) (loss=0.25857): 100%|██████████| 7/7 [00:05<00:00,  1.24it/s]\n",
      "Training (14181 / 18000 Steps) (loss=0.42889): 100%|██████████| 7/7 [00:05<00:00,  1.26it/s]\n",
      "Training (14188 / 18000 Steps) (loss=0.31199): 100%|██████████| 7/7 [00:05<00:00,  1.24it/s]\n",
      "Training (14195 / 18000 Steps) (loss=0.37936): 100%|██████████| 7/7 [00:05<00:00,  1.25it/s]\n",
      "Validate (14196 / 10 Steps): 100%|██████████| 2/2 [00:04<00:00,  2.20s/it]<00:02,  1.27it/s]\n",
      "Training (14200 / 18000 Steps) (loss=0.52068):  71%|███████▏  | 5/7 [00:09<00:04,  2.26s/it]"
     ]
    },
    {
     "name": "stdout",
     "output_type": "stream",
     "text": [
      "Model Was Not Saved ! Current Best Avg. Dice: 0.36154210567474365 Current Avg. Dice: 0.33657488226890564 Current Avg. tumor Dice: 0.36485326290130615 Current Avg. lymph Dice: 0.30829647183418274\n"
     ]
    },
    {
     "name": "stderr",
     "output_type": "stream",
     "text": [
      "Training (14202 / 18000 Steps) (loss=0.53397): 100%|██████████| 7/7 [00:10<00:00,  1.43s/it]\n",
      "Training (14209 / 18000 Steps) (loss=0.42085): 100%|██████████| 7/7 [00:05<00:00,  1.25it/s]\n",
      "Training (14216 / 18000 Steps) (loss=0.47975): 100%|██████████| 7/7 [00:05<00:00,  1.28it/s]\n",
      "Training (14223 / 18000 Steps) (loss=0.39314): 100%|██████████| 7/7 [00:05<00:00,  1.26it/s]\n",
      "Training (14230 / 18000 Steps) (loss=0.47248): 100%|██████████| 7/7 [00:05<00:00,  1.23it/s]\n",
      "Training (14237 / 18000 Steps) (loss=0.27302): 100%|██████████| 7/7 [00:05<00:00,  1.19it/s]\n",
      "Training (14244 / 18000 Steps) (loss=0.29008): 100%|██████████| 7/7 [00:05<00:00,  1.23it/s]\n",
      "Training (14251 / 18000 Steps) (loss=0.27795): 100%|██████████| 7/7 [00:05<00:00,  1.27it/s]\n",
      "Training (14258 / 18000 Steps) (loss=0.32620): 100%|██████████| 7/7 [00:05<00:00,  1.21it/s]\n",
      "Training (14265 / 18000 Steps) (loss=0.38598): 100%|██████████| 7/7 [00:05<00:00,  1.25it/s]\n",
      "Training (14272 / 18000 Steps) (loss=0.53090): 100%|██████████| 7/7 [00:05<00:00,  1.27it/s]\n",
      "Training (14279 / 18000 Steps) (loss=0.49741): 100%|██████████| 7/7 [00:05<00:00,  1.25it/s]\n",
      "Training (14286 / 18000 Steps) (loss=0.42431): 100%|██████████| 7/7 [00:05<00:00,  1.20it/s]\n",
      "Training (14293 / 18000 Steps) (loss=0.33111): 100%|██████████| 7/7 [00:05<00:00,  1.23it/s]\n",
      "Validate (14294 / 10 Steps): 100%|██████████| 2/2 [00:04<00:00,  2.11s/it]<00:00,  1.73it/s]\n",
      "Training (14300 / 18000 Steps) (loss=0.52664): 100%|██████████| 7/7 [00:09<00:00,  1.42s/it]\n"
     ]
    },
    {
     "name": "stdout",
     "output_type": "stream",
     "text": [
      "Model Was Not Saved ! Current Best Avg. Dice: 0.36154210567474365 Current Avg. Dice: 0.3410048484802246 Current Avg. tumor Dice: 0.3249937891960144 Current Avg. lymph Dice: 0.35701584815979004\n"
     ]
    },
    {
     "name": "stderr",
     "output_type": "stream",
     "text": [
      "Training (14307 / 18000 Steps) (loss=0.45763): 100%|██████████| 7/7 [00:05<00:00,  1.28it/s]\n",
      "Training (14314 / 18000 Steps) (loss=0.26681): 100%|██████████| 7/7 [00:05<00:00,  1.27it/s]\n",
      "Training (14321 / 18000 Steps) (loss=0.54530): 100%|██████████| 7/7 [00:05<00:00,  1.28it/s]\n",
      "Training (14328 / 18000 Steps) (loss=0.53996): 100%|██████████| 7/7 [00:05<00:00,  1.23it/s]\n",
      "Training (14335 / 18000 Steps) (loss=0.54827): 100%|██████████| 7/7 [00:05<00:00,  1.25it/s]\n",
      "Training (14342 / 18000 Steps) (loss=0.41822): 100%|██████████| 7/7 [00:05<00:00,  1.35it/s]\n",
      "Training (14349 / 18000 Steps) (loss=0.33951): 100%|██████████| 7/7 [00:05<00:00,  1.29it/s]\n",
      "Training (14356 / 18000 Steps) (loss=0.45215): 100%|██████████| 7/7 [00:05<00:00,  1.27it/s]\n",
      "Training (14363 / 18000 Steps) (loss=0.35492): 100%|██████████| 7/7 [00:05<00:00,  1.23it/s]\n",
      "Training (14370 / 18000 Steps) (loss=0.35516): 100%|██████████| 7/7 [00:05<00:00,  1.28it/s]\n",
      "Training (14377 / 18000 Steps) (loss=0.29770): 100%|██████████| 7/7 [00:05<00:00,  1.26it/s]\n",
      "Training (14384 / 18000 Steps) (loss=0.32192): 100%|██████████| 7/7 [00:05<00:00,  1.31it/s]\n",
      "Training (14391 / 18000 Steps) (loss=0.45755): 100%|██████████| 7/7 [00:05<00:00,  1.26it/s]\n",
      "Training (14398 / 18000 Steps) (loss=0.54875): 100%|██████████| 7/7 [00:05<00:00,  1.22it/s]\n",
      "Validate (14399 / 10 Steps): 100%|██████████| 2/2 [00:04<00:00,  2.22s/it]<00:18,  3.09s/it]\n",
      "Training (14400 / 18000 Steps) (loss=0.38126):  29%|██▊       | 2/7 [00:07<00:20,  4.16s/it]"
     ]
    },
    {
     "name": "stdout",
     "output_type": "stream",
     "text": [
      "Model Was Not Saved ! Current Best Avg. Dice: 0.36154210567474365 Current Avg. Dice: 0.3563416004180908 Current Avg. tumor Dice: 0.3811858296394348 Current Avg. lymph Dice: 0.33149734139442444\n"
     ]
    },
    {
     "name": "stderr",
     "output_type": "stream",
     "text": [
      "Training (14405 / 18000 Steps) (loss=0.23123): 100%|██████████| 7/7 [00:09<00:00,  1.43s/it]\n",
      "Training (14412 / 18000 Steps) (loss=0.31270): 100%|██████████| 7/7 [00:05<00:00,  1.27it/s]\n",
      "Training (14419 / 18000 Steps) (loss=0.21661): 100%|██████████| 7/7 [00:05<00:00,  1.30it/s]\n",
      "Training (14426 / 18000 Steps) (loss=0.56640): 100%|██████████| 7/7 [00:05<00:00,  1.31it/s]\n",
      "Training (14433 / 18000 Steps) (loss=0.42664): 100%|██████████| 7/7 [00:05<00:00,  1.27it/s]\n",
      "Training (14440 / 18000 Steps) (loss=0.48378): 100%|██████████| 7/7 [00:05<00:00,  1.25it/s]\n",
      "Training (14447 / 18000 Steps) (loss=0.38392): 100%|██████████| 7/7 [00:05<00:00,  1.23it/s]\n",
      "Training (14454 / 18000 Steps) (loss=0.45576): 100%|██████████| 7/7 [00:05<00:00,  1.25it/s]\n",
      "Training (14461 / 18000 Steps) (loss=0.31282): 100%|██████████| 7/7 [00:05<00:00,  1.30it/s]\n",
      "Training (14468 / 18000 Steps) (loss=0.52042): 100%|██████████| 7/7 [00:05<00:00,  1.30it/s]\n",
      "Training (14475 / 18000 Steps) (loss=0.21094): 100%|██████████| 7/7 [00:05<00:00,  1.33it/s]\n",
      "Training (14482 / 18000 Steps) (loss=0.59765): 100%|██████████| 7/7 [00:05<00:00,  1.26it/s]\n",
      "Training (14489 / 18000 Steps) (loss=0.62596): 100%|██████████| 7/7 [00:05<00:00,  1.21it/s]\n",
      "Training (14496 / 18000 Steps) (loss=0.30850): 100%|██████████| 7/7 [00:05<00:00,  1.17it/s]\n",
      "Validate (14497 / 10 Steps): 100%|██████████| 2/2 [00:04<00:00,  2.19s/it]<00:04,  1.01s/it]\n",
      "Training (14500 / 18000 Steps) (loss=0.46417):  57%|█████▋    | 4/7 [00:08<00:07,  2.53s/it]"
     ]
    },
    {
     "name": "stdout",
     "output_type": "stream",
     "text": [
      "Model Was Not Saved ! Current Best Avg. Dice: 0.36154210567474365 Current Avg. Dice: 0.34027594327926636 Current Avg. tumor Dice: 0.3398562967777252 Current Avg. lymph Dice: 0.3406955301761627\n"
     ]
    },
    {
     "name": "stderr",
     "output_type": "stream",
     "text": [
      "Training (14503 / 18000 Steps) (loss=0.46090): 100%|██████████| 7/7 [00:09<00:00,  1.42s/it]\n",
      "Training (14510 / 18000 Steps) (loss=0.20903): 100%|██████████| 7/7 [00:05<00:00,  1.25it/s]\n",
      "Training (14517 / 18000 Steps) (loss=0.42779): 100%|██████████| 7/7 [00:05<00:00,  1.27it/s]\n",
      "Training (14524 / 18000 Steps) (loss=0.44346): 100%|██████████| 7/7 [00:05<00:00,  1.23it/s]\n",
      "Training (14531 / 18000 Steps) (loss=0.14576): 100%|██████████| 7/7 [00:05<00:00,  1.22it/s]\n",
      "Training (14538 / 18000 Steps) (loss=0.26812): 100%|██████████| 7/7 [00:05<00:00,  1.21it/s]\n",
      "Training (14545 / 18000 Steps) (loss=0.22285): 100%|██████████| 7/7 [00:05<00:00,  1.30it/s]\n",
      "Training (14552 / 18000 Steps) (loss=0.34163): 100%|██████████| 7/7 [00:05<00:00,  1.20it/s]\n",
      "Training (14559 / 18000 Steps) (loss=0.44992): 100%|██████████| 7/7 [00:05<00:00,  1.33it/s]\n",
      "Training (14566 / 18000 Steps) (loss=0.21077): 100%|██████████| 7/7 [00:05<00:00,  1.29it/s]\n",
      "Training (14573 / 18000 Steps) (loss=0.47458): 100%|██████████| 7/7 [00:05<00:00,  1.20it/s]\n",
      "Training (14580 / 18000 Steps) (loss=0.67967): 100%|██████████| 7/7 [00:05<00:00,  1.26it/s]\n",
      "Training (14587 / 18000 Steps) (loss=0.35330): 100%|██████████| 7/7 [00:05<00:00,  1.27it/s]\n",
      "Training (14594 / 18000 Steps) (loss=0.44672): 100%|██████████| 7/7 [00:05<00:00,  1.30it/s]\n",
      "Validate (14595 / 10 Steps): 100%|██████████| 2/2 [00:04<00:00,  2.18s/it]<00:01,  1.49it/s]\n",
      "Training (14600 / 18000 Steps) (loss=0.45948):  86%|████████▌ | 6/7 [00:09<00:02,  2.08s/it]"
     ]
    },
    {
     "name": "stdout",
     "output_type": "stream",
     "text": [
      "Model Was Not Saved ! Current Best Avg. Dice: 0.36154210567474365 Current Avg. Dice: 0.31456395983695984 Current Avg. tumor Dice: 0.32801002264022827 Current Avg. lymph Dice: 0.3011178970336914\n"
     ]
    },
    {
     "name": "stderr",
     "output_type": "stream",
     "text": [
      "Training (14601 / 18000 Steps) (loss=0.39307): 100%|██████████| 7/7 [00:10<00:00,  1.46s/it]\n",
      "Training (14608 / 18000 Steps) (loss=0.37824): 100%|██████████| 7/7 [00:05<00:00,  1.26it/s]\n",
      "Training (14615 / 18000 Steps) (loss=0.32228): 100%|██████████| 7/7 [00:05<00:00,  1.30it/s]\n",
      "Training (14622 / 18000 Steps) (loss=0.53590): 100%|██████████| 7/7 [00:05<00:00,  1.23it/s]\n",
      "Training (14629 / 18000 Steps) (loss=0.24573): 100%|██████████| 7/7 [00:05<00:00,  1.23it/s]\n",
      "Training (14636 / 18000 Steps) (loss=0.27222): 100%|██████████| 7/7 [00:05<00:00,  1.24it/s]\n",
      "Training (14643 / 18000 Steps) (loss=0.41145): 100%|██████████| 7/7 [00:05<00:00,  1.29it/s]\n",
      "Training (14650 / 18000 Steps) (loss=0.33283): 100%|██████████| 7/7 [00:05<00:00,  1.21it/s]\n",
      "Training (14657 / 18000 Steps) (loss=0.32395): 100%|██████████| 7/7 [00:05<00:00,  1.29it/s]\n",
      "Training (14664 / 18000 Steps) (loss=0.54075): 100%|██████████| 7/7 [00:05<00:00,  1.22it/s]\n",
      "Training (14671 / 18000 Steps) (loss=0.40951): 100%|██████████| 7/7 [00:05<00:00,  1.31it/s]\n",
      "Training (14678 / 18000 Steps) (loss=0.47525): 100%|██████████| 7/7 [00:05<00:00,  1.32it/s]\n",
      "Training (14685 / 18000 Steps) (loss=0.66716): 100%|██████████| 7/7 [00:05<00:00,  1.29it/s]\n",
      "Training (14692 / 18000 Steps) (loss=0.29330): 100%|██████████| 7/7 [00:05<00:00,  1.29it/s]\n",
      "Training (14699 / 18000 Steps) (loss=0.24972): 100%|██████████| 7/7 [00:05<00:00,  1.22it/s]\n",
      "Validate (14700 / 10 Steps): 100%|██████████| 2/2 [00:04<00:00,  2.31s/it]<?, ?it/s]\n",
      "Training (14700 / 18000 Steps) (loss=0.48472):  14%|█▍        | 1/7 [00:07<00:46,  7.76s/it]"
     ]
    },
    {
     "name": "stdout",
     "output_type": "stream",
     "text": [
      "Model Was Not Saved ! Current Best Avg. Dice: 0.36154210567474365 Current Avg. Dice: 0.315995454788208 Current Avg. tumor Dice: 0.3068576157093048 Current Avg. lymph Dice: 0.3251333236694336\n"
     ]
    },
    {
     "name": "stderr",
     "output_type": "stream",
     "text": [
      "Training (14706 / 18000 Steps) (loss=0.33753): 100%|██████████| 7/7 [00:10<00:00,  1.45s/it]\n",
      "Training (14713 / 18000 Steps) (loss=0.39640): 100%|██████████| 7/7 [00:05<00:00,  1.26it/s]\n",
      "Training (14720 / 18000 Steps) (loss=0.49433): 100%|██████████| 7/7 [00:05<00:00,  1.27it/s]\n",
      "Training (14727 / 18000 Steps) (loss=0.45079): 100%|██████████| 7/7 [00:05<00:00,  1.28it/s]\n",
      "Training (14734 / 18000 Steps) (loss=0.51303): 100%|██████████| 7/7 [00:05<00:00,  1.21it/s]\n",
      "Training (14741 / 18000 Steps) (loss=0.30154): 100%|██████████| 7/7 [00:06<00:00,  1.10it/s]\n",
      "Training (14748 / 18000 Steps) (loss=0.34906): 100%|██████████| 7/7 [00:05<00:00,  1.18it/s]\n",
      "Training (14755 / 18000 Steps) (loss=0.40615): 100%|██████████| 7/7 [00:05<00:00,  1.26it/s]\n",
      "Training (14762 / 18000 Steps) (loss=0.15910): 100%|██████████| 7/7 [00:05<00:00,  1.27it/s]\n",
      "Training (14769 / 18000 Steps) (loss=0.40287): 100%|██████████| 7/7 [00:05<00:00,  1.33it/s]\n",
      "Training (14776 / 18000 Steps) (loss=0.53653): 100%|██████████| 7/7 [00:05<00:00,  1.22it/s]\n",
      "Training (14783 / 18000 Steps) (loss=0.54458): 100%|██████████| 7/7 [00:05<00:00,  1.19it/s]\n",
      "Training (14790 / 18000 Steps) (loss=0.64849): 100%|██████████| 7/7 [00:05<00:00,  1.25it/s]\n",
      "Training (14797 / 18000 Steps) (loss=0.38500): 100%|██████████| 7/7 [00:05<00:00,  1.26it/s]\n",
      "Validate (14798 / 10 Steps): 100%|██████████| 2/2 [00:04<00:00,  2.16s/it]<00:07,  1.57s/it]\n",
      "Training (14800 / 18000 Steps) (loss=0.38586):  43%|████▎     | 3/7 [00:08<00:12,  3.04s/it]"
     ]
    },
    {
     "name": "stdout",
     "output_type": "stream",
     "text": [
      "Model Was Not Saved ! Current Best Avg. Dice: 0.36154210567474365 Current Avg. Dice: 0.3577895164489746 Current Avg. tumor Dice: 0.35264071822166443 Current Avg. lymph Dice: 0.3629383444786072\n"
     ]
    },
    {
     "name": "stderr",
     "output_type": "stream",
     "text": [
      "Training (14804 / 18000 Steps) (loss=0.32532): 100%|██████████| 7/7 [00:09<00:00,  1.43s/it]\n",
      "Training (14811 / 18000 Steps) (loss=0.43488): 100%|██████████| 7/7 [00:05<00:00,  1.26it/s]\n",
      "Training (14818 / 18000 Steps) (loss=0.64759): 100%|██████████| 7/7 [00:05<00:00,  1.24it/s]\n",
      "Training (14825 / 18000 Steps) (loss=0.49478): 100%|██████████| 7/7 [00:05<00:00,  1.26it/s]\n",
      "Training (14832 / 18000 Steps) (loss=0.26590): 100%|██████████| 7/7 [00:05<00:00,  1.21it/s]\n",
      "Training (14839 / 18000 Steps) (loss=0.35652): 100%|██████████| 7/7 [00:05<00:00,  1.26it/s]\n",
      "Training (14846 / 18000 Steps) (loss=0.26459): 100%|██████████| 7/7 [00:05<00:00,  1.28it/s]\n",
      "Training (14853 / 18000 Steps) (loss=0.43718): 100%|██████████| 7/7 [00:05<00:00,  1.23it/s]\n",
      "Training (14860 / 18000 Steps) (loss=0.60416): 100%|██████████| 7/7 [00:05<00:00,  1.21it/s]\n",
      "Training (14867 / 18000 Steps) (loss=0.56643): 100%|██████████| 7/7 [00:05<00:00,  1.29it/s]\n",
      "Training (14874 / 18000 Steps) (loss=0.51253): 100%|██████████| 7/7 [00:05<00:00,  1.26it/s]\n",
      "Training (14881 / 18000 Steps) (loss=0.20147): 100%|██████████| 7/7 [00:05<00:00,  1.28it/s]\n",
      "Training (14888 / 18000 Steps) (loss=0.40827): 100%|██████████| 7/7 [00:05<00:00,  1.25it/s]\n",
      "Training (14895 / 18000 Steps) (loss=0.39757): 100%|██████████| 7/7 [00:05<00:00,  1.27it/s]\n",
      "Validate (14896 / 10 Steps): 100%|██████████| 2/2 [00:04<00:00,  2.14s/it]<00:02,  1.26it/s]\n",
      "Training (14900 / 18000 Steps) (loss=0.34053):  71%|███████▏  | 5/7 [00:09<00:04,  2.22s/it]"
     ]
    },
    {
     "name": "stdout",
     "output_type": "stream",
     "text": [
      "Model Was Not Saved ! Current Best Avg. Dice: 0.36154210567474365 Current Avg. Dice: 0.3372131288051605 Current Avg. tumor Dice: 0.35513678193092346 Current Avg. lymph Dice: 0.31928950548171997\n"
     ]
    },
    {
     "name": "stderr",
     "output_type": "stream",
     "text": [
      "Training (14902 / 18000 Steps) (loss=0.28626): 100%|██████████| 7/7 [00:09<00:00,  1.41s/it]\n",
      "Training (14909 / 18000 Steps) (loss=0.48678): 100%|██████████| 7/7 [00:05<00:00,  1.33it/s]\n",
      "Training (14916 / 18000 Steps) (loss=0.36264): 100%|██████████| 7/7 [00:05<00:00,  1.27it/s]\n",
      "Training (14923 / 18000 Steps) (loss=0.17044): 100%|██████████| 7/7 [00:05<00:00,  1.27it/s]\n",
      "Training (14930 / 18000 Steps) (loss=0.65938): 100%|██████████| 7/7 [00:05<00:00,  1.28it/s]\n",
      "Training (14937 / 18000 Steps) (loss=0.45794): 100%|██████████| 7/7 [00:05<00:00,  1.31it/s]\n",
      "Training (14944 / 18000 Steps) (loss=0.52851): 100%|██████████| 7/7 [00:05<00:00,  1.26it/s]\n",
      "Training (14951 / 18000 Steps) (loss=0.48936): 100%|██████████| 7/7 [00:05<00:00,  1.26it/s]\n",
      "Training (14958 / 18000 Steps) (loss=0.44144): 100%|██████████| 7/7 [00:05<00:00,  1.26it/s]\n",
      "Training (14965 / 18000 Steps) (loss=0.31096): 100%|██████████| 7/7 [00:05<00:00,  1.22it/s]\n",
      "Training (14972 / 18000 Steps) (loss=0.26655): 100%|██████████| 7/7 [00:05<00:00,  1.28it/s]\n",
      "Training (14979 / 18000 Steps) (loss=0.28452): 100%|██████████| 7/7 [00:05<00:00,  1.27it/s]\n",
      "Training (14986 / 18000 Steps) (loss=0.39666): 100%|██████████| 7/7 [00:05<00:00,  1.34it/s]\n",
      "Training (14993 / 18000 Steps) (loss=0.29571): 100%|██████████| 7/7 [00:05<00:00,  1.29it/s]\n",
      "Validate (14994 / 10 Steps): 100%|██████████| 2/2 [00:04<00:00,  2.14s/it]<00:00,  1.79it/s]\n",
      "Training (15000 / 18000 Steps) (loss=0.42533): 100%|██████████| 7/7 [00:09<00:00,  1.37s/it]\n"
     ]
    },
    {
     "name": "stdout",
     "output_type": "stream",
     "text": [
      "Model Was Not Saved ! Current Best Avg. Dice: 0.36154210567474365 Current Avg. Dice: 0.3397437632083893 Current Avg. tumor Dice: 0.33720725774765015 Current Avg. lymph Dice: 0.3422802686691284\n"
     ]
    },
    {
     "name": "stderr",
     "output_type": "stream",
     "text": [
      "Training (15007 / 18000 Steps) (loss=0.49539): 100%|██████████| 7/7 [00:05<00:00,  1.30it/s]\n",
      "Training (15014 / 18000 Steps) (loss=0.33591): 100%|██████████| 7/7 [00:05<00:00,  1.28it/s]\n",
      "Training (15021 / 18000 Steps) (loss=0.43004): 100%|██████████| 7/7 [00:05<00:00,  1.25it/s]\n",
      "Training (15028 / 18000 Steps) (loss=0.40690): 100%|██████████| 7/7 [00:05<00:00,  1.31it/s]\n",
      "Training (15035 / 18000 Steps) (loss=0.28957): 100%|██████████| 7/7 [00:05<00:00,  1.26it/s]\n",
      "Training (15042 / 18000 Steps) (loss=0.49184): 100%|██████████| 7/7 [00:05<00:00,  1.35it/s]\n",
      "Training (15049 / 18000 Steps) (loss=0.34053): 100%|██████████| 7/7 [00:05<00:00,  1.27it/s]\n",
      "Training (15056 / 18000 Steps) (loss=0.50880): 100%|██████████| 7/7 [00:05<00:00,  1.24it/s]\n",
      "Training (15063 / 18000 Steps) (loss=0.45109): 100%|██████████| 7/7 [00:05<00:00,  1.32it/s]\n",
      "Training (15070 / 18000 Steps) (loss=0.40177): 100%|██████████| 7/7 [00:05<00:00,  1.27it/s]\n",
      "Training (15077 / 18000 Steps) (loss=0.58245): 100%|██████████| 7/7 [00:05<00:00,  1.22it/s]\n",
      "Training (15084 / 18000 Steps) (loss=0.61114): 100%|██████████| 7/7 [00:05<00:00,  1.23it/s]\n",
      "Training (15091 / 18000 Steps) (loss=0.39258): 100%|██████████| 7/7 [00:05<00:00,  1.32it/s]\n",
      "Training (15098 / 18000 Steps) (loss=0.22503): 100%|██████████| 7/7 [00:05<00:00,  1.25it/s]\n",
      "Validate (15099 / 10 Steps): 100%|██████████| 2/2 [00:04<00:00,  2.19s/it]<00:19,  3.30s/it]\n",
      "Training (15100 / 18000 Steps) (loss=0.37957):  29%|██▊       | 2/7 [00:08<00:21,  4.21s/it]"
     ]
    },
    {
     "name": "stdout",
     "output_type": "stream",
     "text": [
      "Model Was Not Saved ! Current Best Avg. Dice: 0.36154210567474365 Current Avg. Dice: 0.35301488637924194 Current Avg. tumor Dice: 0.31529659032821655 Current Avg. lymph Dice: 0.3907332420349121\n"
     ]
    },
    {
     "name": "stderr",
     "output_type": "stream",
     "text": [
      "Training (15105 / 18000 Steps) (loss=0.37756): 100%|██████████| 7/7 [00:10<00:00,  1.45s/it]\n",
      "Training (15112 / 18000 Steps) (loss=0.56454): 100%|██████████| 7/7 [00:05<00:00,  1.21it/s]\n",
      "Training (15119 / 18000 Steps) (loss=0.43565): 100%|██████████| 7/7 [00:05<00:00,  1.29it/s]\n",
      "Training (15126 / 18000 Steps) (loss=0.61853): 100%|██████████| 7/7 [00:05<00:00,  1.23it/s]\n",
      "Training (15133 / 18000 Steps) (loss=0.40464): 100%|██████████| 7/7 [00:05<00:00,  1.27it/s]\n",
      "Training (15140 / 18000 Steps) (loss=0.53605): 100%|██████████| 7/7 [00:05<00:00,  1.20it/s]\n",
      "Training (15147 / 18000 Steps) (loss=0.47975): 100%|██████████| 7/7 [00:05<00:00,  1.29it/s]\n",
      "Training (15154 / 18000 Steps) (loss=0.25925): 100%|██████████| 7/7 [00:05<00:00,  1.26it/s]\n",
      "Training (15161 / 18000 Steps) (loss=0.55680): 100%|██████████| 7/7 [00:05<00:00,  1.28it/s]\n",
      "Training (15168 / 18000 Steps) (loss=0.56380): 100%|██████████| 7/7 [00:05<00:00,  1.30it/s]\n",
      "Training (15175 / 18000 Steps) (loss=0.49451): 100%|██████████| 7/7 [00:05<00:00,  1.27it/s]\n",
      "Training (15182 / 18000 Steps) (loss=0.39899): 100%|██████████| 7/7 [00:05<00:00,  1.25it/s]\n",
      "Training (15189 / 18000 Steps) (loss=0.40720): 100%|██████████| 7/7 [00:05<00:00,  1.24it/s]\n",
      "Training (15196 / 18000 Steps) (loss=0.17880): 100%|██████████| 7/7 [00:05<00:00,  1.28it/s]\n",
      "Validate (15197 / 10 Steps): 100%|██████████| 2/2 [00:04<00:00,  2.14s/it]<00:04,  1.01s/it]\n",
      "Training (15200 / 18000 Steps) (loss=0.45160):  57%|█████▋    | 4/7 [00:09<00:08,  2.84s/it]"
     ]
    },
    {
     "name": "stdout",
     "output_type": "stream",
     "text": [
      "Model Was Saved ! Current Best Avg. Dice: 0.3652511537075043 Current Avg. Dice: 0.3652511537075043 Current Avg. tumor Dice: 0.34510111808776855 Current Avg. lymph Dice: 0.38540118932724\n"
     ]
    },
    {
     "name": "stderr",
     "output_type": "stream",
     "text": [
      "Training (15203 / 18000 Steps) (loss=0.34712): 100%|██████████| 7/7 [00:10<00:00,  1.53s/it]\n",
      "Training (15210 / 18000 Steps) (loss=0.66861): 100%|██████████| 7/7 [00:05<00:00,  1.27it/s]\n",
      "Training (15217 / 18000 Steps) (loss=0.40712): 100%|██████████| 7/7 [00:05<00:00,  1.32it/s]\n",
      "Training (15224 / 18000 Steps) (loss=0.22238): 100%|██████████| 7/7 [00:05<00:00,  1.30it/s]\n",
      "Training (15231 / 18000 Steps) (loss=0.37127): 100%|██████████| 7/7 [00:05<00:00,  1.25it/s]\n",
      "Training (15238 / 18000 Steps) (loss=0.42488): 100%|██████████| 7/7 [00:05<00:00,  1.35it/s]\n",
      "Training (15245 / 18000 Steps) (loss=0.48974): 100%|██████████| 7/7 [00:05<00:00,  1.30it/s]\n",
      "Training (15252 / 18000 Steps) (loss=0.28136): 100%|██████████| 7/7 [00:05<00:00,  1.34it/s]\n",
      "Training (15259 / 18000 Steps) (loss=0.53720): 100%|██████████| 7/7 [00:05<00:00,  1.26it/s]\n",
      "Training (15266 / 18000 Steps) (loss=0.53387): 100%|██████████| 7/7 [00:05<00:00,  1.33it/s]\n",
      "Training (15273 / 18000 Steps) (loss=0.51968): 100%|██████████| 7/7 [00:05<00:00,  1.32it/s]\n",
      "Training (15280 / 18000 Steps) (loss=0.27525): 100%|██████████| 7/7 [00:05<00:00,  1.27it/s]\n",
      "Training (15287 / 18000 Steps) (loss=0.19596): 100%|██████████| 7/7 [00:05<00:00,  1.33it/s]\n",
      "Training (15294 / 18000 Steps) (loss=0.52921): 100%|██████████| 7/7 [00:05<00:00,  1.30it/s]\n",
      "Validate (15295 / 10 Steps): 100%|██████████| 2/2 [00:04<00:00,  2.14s/it]<00:01,  1.60it/s]\n",
      "Training (15300 / 18000 Steps) (loss=0.34753):  86%|████████▌ | 6/7 [00:09<00:02,  2.02s/it]"
     ]
    },
    {
     "name": "stdout",
     "output_type": "stream",
     "text": [
      "Model Was Not Saved ! Current Best Avg. Dice: 0.3652511537075043 Current Avg. Dice: 0.32547658681869507 Current Avg. tumor Dice: 0.3164321184158325 Current Avg. lymph Dice: 0.33452108502388\n"
     ]
    },
    {
     "name": "stderr",
     "output_type": "stream",
     "text": [
      "Training (15301 / 18000 Steps) (loss=0.46166): 100%|██████████| 7/7 [00:09<00:00,  1.36s/it]\n",
      "Training (15308 / 18000 Steps) (loss=0.40342): 100%|██████████| 7/7 [00:05<00:00,  1.27it/s]\n",
      "Training (15315 / 18000 Steps) (loss=0.26736): 100%|██████████| 7/7 [00:05<00:00,  1.26it/s]\n",
      "Training (15322 / 18000 Steps) (loss=0.43972): 100%|██████████| 7/7 [00:05<00:00,  1.29it/s]\n",
      "Training (15329 / 18000 Steps) (loss=0.59083): 100%|██████████| 7/7 [00:05<00:00,  1.34it/s]\n",
      "Training (15336 / 18000 Steps) (loss=0.33667): 100%|██████████| 7/7 [00:05<00:00,  1.29it/s]\n",
      "Training (15343 / 18000 Steps) (loss=0.28268): 100%|██████████| 7/7 [00:05<00:00,  1.32it/s]\n",
      "Training (15350 / 18000 Steps) (loss=0.14336): 100%|██████████| 7/7 [00:05<00:00,  1.29it/s]\n",
      "Training (15357 / 18000 Steps) (loss=0.41160): 100%|██████████| 7/7 [00:05<00:00,  1.24it/s]\n",
      "Training (15364 / 18000 Steps) (loss=0.42823): 100%|██████████| 7/7 [00:05<00:00,  1.25it/s]\n",
      "Training (15371 / 18000 Steps) (loss=0.40097): 100%|██████████| 7/7 [00:05<00:00,  1.27it/s]\n",
      "Training (15378 / 18000 Steps) (loss=0.42335): 100%|██████████| 7/7 [00:05<00:00,  1.31it/s]\n",
      "Training (15385 / 18000 Steps) (loss=0.33637): 100%|██████████| 7/7 [00:05<00:00,  1.35it/s]\n",
      "Training (15392 / 18000 Steps) (loss=0.25204): 100%|██████████| 7/7 [00:05<00:00,  1.27it/s]\n",
      "Training (15399 / 18000 Steps) (loss=0.45462): 100%|██████████| 7/7 [00:05<00:00,  1.25it/s]\n",
      "Validate (15400 / 10 Steps): 100%|██████████| 2/2 [00:04<00:00,  2.13s/it]<?, ?it/s]\n",
      "Training (15400 / 18000 Steps) (loss=0.28339):  14%|█▍        | 1/7 [00:07<00:43,  7.31s/it]"
     ]
    },
    {
     "name": "stdout",
     "output_type": "stream",
     "text": [
      "Model Was Not Saved ! Current Best Avg. Dice: 0.3652511537075043 Current Avg. Dice: 0.3219034671783447 Current Avg. tumor Dice: 0.33502063155174255 Current Avg. lymph Dice: 0.3087863028049469\n"
     ]
    },
    {
     "name": "stderr",
     "output_type": "stream",
     "text": [
      "Training (15406 / 18000 Steps) (loss=0.37918): 100%|██████████| 7/7 [00:09<00:00,  1.38s/it]\n",
      "Training (15413 / 18000 Steps) (loss=0.47313): 100%|██████████| 7/7 [00:05<00:00,  1.27it/s]\n",
      "Training (15420 / 18000 Steps) (loss=0.44466): 100%|██████████| 7/7 [00:05<00:00,  1.24it/s]\n",
      "Training (15427 / 18000 Steps) (loss=0.42883): 100%|██████████| 7/7 [00:05<00:00,  1.18it/s]\n",
      "Training (15434 / 18000 Steps) (loss=0.26887): 100%|██████████| 7/7 [00:05<00:00,  1.30it/s]\n",
      "Training (15441 / 18000 Steps) (loss=0.32544): 100%|██████████| 7/7 [00:05<00:00,  1.30it/s]\n",
      "Training (15448 / 18000 Steps) (loss=0.48998): 100%|██████████| 7/7 [00:05<00:00,  1.33it/s]\n",
      "Training (15455 / 18000 Steps) (loss=0.33682): 100%|██████████| 7/7 [00:05<00:00,  1.34it/s]\n",
      "Training (15462 / 18000 Steps) (loss=0.46356): 100%|██████████| 7/7 [00:05<00:00,  1.33it/s]\n",
      "Training (15469 / 18000 Steps) (loss=0.61509): 100%|██████████| 7/7 [00:05<00:00,  1.31it/s]\n",
      "Training (15476 / 18000 Steps) (loss=0.31674): 100%|██████████| 7/7 [00:05<00:00,  1.34it/s]\n",
      "Training (15483 / 18000 Steps) (loss=0.36442): 100%|██████████| 7/7 [00:05<00:00,  1.31it/s]\n",
      "Training (15490 / 18000 Steps) (loss=0.52616): 100%|██████████| 7/7 [00:05<00:00,  1.31it/s]\n",
      "Training (15497 / 18000 Steps) (loss=0.28790): 100%|██████████| 7/7 [00:05<00:00,  1.33it/s]\n",
      "Validate (15498 / 10 Steps): 100%|██████████| 2/2 [00:04<00:00,  2.15s/it]<00:07,  1.52s/it]\n",
      "Training (15500 / 18000 Steps) (loss=0.27145):  43%|████▎     | 3/7 [00:08<00:12,  3.01s/it]"
     ]
    },
    {
     "name": "stdout",
     "output_type": "stream",
     "text": [
      "Model Was Not Saved ! Current Best Avg. Dice: 0.3652511537075043 Current Avg. Dice: 0.3439708650112152 Current Avg. tumor Dice: 0.33062800765037537 Current Avg. lymph Dice: 0.35731372237205505\n"
     ]
    },
    {
     "name": "stderr",
     "output_type": "stream",
     "text": [
      "Training (15504 / 18000 Steps) (loss=0.25616): 100%|██████████| 7/7 [00:09<00:00,  1.41s/it]\n",
      "Training (15511 / 18000 Steps) (loss=0.47565): 100%|██████████| 7/7 [00:05<00:00,  1.32it/s]\n",
      "Training (15518 / 18000 Steps) (loss=0.30206): 100%|██████████| 7/7 [00:05<00:00,  1.28it/s]\n",
      "Training (15525 / 18000 Steps) (loss=0.30694): 100%|██████████| 7/7 [00:05<00:00,  1.26it/s]\n",
      "Training (15532 / 18000 Steps) (loss=0.39070): 100%|██████████| 7/7 [00:05<00:00,  1.22it/s]\n",
      "Training (15539 / 18000 Steps) (loss=0.25543): 100%|██████████| 7/7 [00:05<00:00,  1.26it/s]\n",
      "Training (15546 / 18000 Steps) (loss=0.33879): 100%|██████████| 7/7 [00:05<00:00,  1.27it/s]\n",
      "Training (15553 / 18000 Steps) (loss=0.43974): 100%|██████████| 7/7 [00:05<00:00,  1.26it/s]\n",
      "Training (15560 / 18000 Steps) (loss=0.19548): 100%|██████████| 7/7 [00:05<00:00,  1.25it/s]\n",
      "Training (15567 / 18000 Steps) (loss=0.49459): 100%|██████████| 7/7 [00:05<00:00,  1.20it/s]\n",
      "Training (15574 / 18000 Steps) (loss=0.28186): 100%|██████████| 7/7 [00:05<00:00,  1.26it/s]\n",
      "Training (15581 / 18000 Steps) (loss=0.51143): 100%|██████████| 7/7 [00:05<00:00,  1.28it/s]\n",
      "Training (15588 / 18000 Steps) (loss=0.39410): 100%|██████████| 7/7 [00:05<00:00,  1.32it/s]\n",
      "Training (15595 / 18000 Steps) (loss=0.66889): 100%|██████████| 7/7 [00:05<00:00,  1.30it/s]\n",
      "Validate (15596 / 10 Steps): 100%|██████████| 2/2 [00:04<00:00,  2.09s/it]<00:02,  1.29it/s]\n",
      "Training (15600 / 18000 Steps) (loss=0.28215):  71%|███████▏  | 5/7 [00:08<00:04,  2.17s/it]"
     ]
    },
    {
     "name": "stdout",
     "output_type": "stream",
     "text": [
      "Model Was Not Saved ! Current Best Avg. Dice: 0.3652511537075043 Current Avg. Dice: 0.3545307219028473 Current Avg. tumor Dice: 0.3552447557449341 Current Avg. lymph Dice: 0.3538166880607605\n"
     ]
    },
    {
     "name": "stderr",
     "output_type": "stream",
     "text": [
      "Training (15602 / 18000 Steps) (loss=0.43305): 100%|██████████| 7/7 [00:09<00:00,  1.39s/it]\n",
      "Training (15609 / 18000 Steps) (loss=0.29194): 100%|██████████| 7/7 [00:05<00:00,  1.29it/s]\n",
      "Training (X / X Steps) (loss=X.X):   0%|          | 0/7 [00:01<?, ?it/s]\n"
     ]
    },
    {
     "ename": "KeyboardInterrupt",
     "evalue": "",
     "output_type": "error",
     "traceback": [
      "\u001b[0;31m---------------------------------------------------------------------------\u001b[0m",
      "\u001b[0;31mKeyboardInterrupt\u001b[0m                         Traceback (most recent call last)",
      "Cell \u001b[0;32mIn[16], line 106\u001b[0m\n\u001b[1;32m    104\u001b[0m metric_values_lymph \u001b[38;5;241m=\u001b[39m []\n\u001b[1;32m    105\u001b[0m \u001b[38;5;28;01mwhile\u001b[39;00m global_step \u001b[38;5;241m<\u001b[39m max_iterations:\n\u001b[0;32m--> 106\u001b[0m     global_step, dice_val_best, global_step_best \u001b[38;5;241m=\u001b[39m \u001b[43mtrain\u001b[49m\u001b[43m(\u001b[49m\n\u001b[1;32m    107\u001b[0m \u001b[43m        \u001b[49m\u001b[43mglobal_step\u001b[49m\u001b[43m,\u001b[49m\u001b[43m \u001b[49m\u001b[43mtrain_loader\u001b[49m\u001b[43m,\u001b[49m\u001b[43m \u001b[49m\u001b[43mdice_val_best\u001b[49m\u001b[43m,\u001b[49m\u001b[43m \u001b[49m\u001b[43mglobal_step_best\u001b[49m\n\u001b[1;32m    108\u001b[0m \u001b[43m    \u001b[49m\u001b[43m)\u001b[49m\n\u001b[1;32m    109\u001b[0m     \u001b[38;5;66;03m# wandb.log({'learning_rate': optimizer.param_groups[0]['lr']})\u001b[39;00m\n\u001b[1;32m    110\u001b[0m     \u001b[38;5;66;03m# wandb.log({'Best Dice': dice_val_best})\u001b[39;00m\n\u001b[1;32m    111\u001b[0m     epoch \u001b[38;5;241m+\u001b[39m\u001b[38;5;241m=\u001b[39m \u001b[38;5;241m1\u001b[39m\n",
      "Cell \u001b[0;32mIn[16], line 40\u001b[0m, in \u001b[0;36mtrain\u001b[0;34m(global_step, train_loader, dice_val_best, global_step_best)\u001b[0m\n\u001b[1;32m     36\u001b[0m step \u001b[38;5;241m=\u001b[39m \u001b[38;5;241m0\u001b[39m\n\u001b[1;32m     37\u001b[0m epoch_iterator \u001b[38;5;241m=\u001b[39m tqdm(\n\u001b[1;32m     38\u001b[0m     train_loader, desc\u001b[38;5;241m=\u001b[39m\u001b[38;5;124m\"\u001b[39m\u001b[38;5;124mTraining (X / X Steps) (loss=X.X)\u001b[39m\u001b[38;5;124m\"\u001b[39m, dynamic_ncols\u001b[38;5;241m=\u001b[39m\u001b[38;5;28;01mTrue\u001b[39;00m\n\u001b[1;32m     39\u001b[0m )\n\u001b[0;32m---> 40\u001b[0m \u001b[38;5;28;01mfor\u001b[39;00m step, batch \u001b[38;5;129;01min\u001b[39;00m \u001b[38;5;28menumerate\u001b[39m(epoch_iterator):\n\u001b[1;32m     41\u001b[0m     step \u001b[38;5;241m+\u001b[39m\u001b[38;5;241m=\u001b[39m \u001b[38;5;241m1\u001b[39m\n\u001b[1;32m     42\u001b[0m     x, y \u001b[38;5;241m=\u001b[39m (batch[\u001b[38;5;124m\"\u001b[39m\u001b[38;5;124mct\u001b[39m\u001b[38;5;124m\"\u001b[39m]\u001b[38;5;241m.\u001b[39mcuda(), batch[\u001b[38;5;124m\"\u001b[39m\u001b[38;5;124mseg\u001b[39m\u001b[38;5;124m\"\u001b[39m]\u001b[38;5;241m.\u001b[39mcuda())\n",
      "File \u001b[0;32m~/miniconda3/envs/clam/lib/python3.8/site-packages/tqdm/std.py:1182\u001b[0m, in \u001b[0;36mtqdm.__iter__\u001b[0;34m(self)\u001b[0m\n\u001b[1;32m   1179\u001b[0m time \u001b[38;5;241m=\u001b[39m \u001b[38;5;28mself\u001b[39m\u001b[38;5;241m.\u001b[39m_time\n\u001b[1;32m   1181\u001b[0m \u001b[38;5;28;01mtry\u001b[39;00m:\n\u001b[0;32m-> 1182\u001b[0m     \u001b[38;5;28;01mfor\u001b[39;00m obj \u001b[38;5;129;01min\u001b[39;00m iterable:\n\u001b[1;32m   1183\u001b[0m         \u001b[38;5;28;01myield\u001b[39;00m obj\n\u001b[1;32m   1184\u001b[0m         \u001b[38;5;66;03m# Update and possibly print the progressbar.\u001b[39;00m\n\u001b[1;32m   1185\u001b[0m         \u001b[38;5;66;03m# Note: does not call self.update(1) for speed optimisation.\u001b[39;00m\n",
      "File \u001b[0;32m~/miniconda3/envs/clam/lib/python3.8/site-packages/torch/utils/data/dataloader.py:630\u001b[0m, in \u001b[0;36m_BaseDataLoaderIter.__next__\u001b[0;34m(self)\u001b[0m\n\u001b[1;32m    627\u001b[0m \u001b[38;5;28;01mif\u001b[39;00m \u001b[38;5;28mself\u001b[39m\u001b[38;5;241m.\u001b[39m_sampler_iter \u001b[38;5;129;01mis\u001b[39;00m \u001b[38;5;28;01mNone\u001b[39;00m:\n\u001b[1;32m    628\u001b[0m     \u001b[38;5;66;03m# TODO(https://github.com/pytorch/pytorch/issues/76750)\u001b[39;00m\n\u001b[1;32m    629\u001b[0m     \u001b[38;5;28mself\u001b[39m\u001b[38;5;241m.\u001b[39m_reset()  \u001b[38;5;66;03m# type: ignore[call-arg]\u001b[39;00m\n\u001b[0;32m--> 630\u001b[0m data \u001b[38;5;241m=\u001b[39m \u001b[38;5;28;43mself\u001b[39;49m\u001b[38;5;241;43m.\u001b[39;49m\u001b[43m_next_data\u001b[49m\u001b[43m(\u001b[49m\u001b[43m)\u001b[49m\n\u001b[1;32m    631\u001b[0m \u001b[38;5;28mself\u001b[39m\u001b[38;5;241m.\u001b[39m_num_yielded \u001b[38;5;241m+\u001b[39m\u001b[38;5;241m=\u001b[39m \u001b[38;5;241m1\u001b[39m\n\u001b[1;32m    632\u001b[0m \u001b[38;5;28;01mif\u001b[39;00m \u001b[38;5;28mself\u001b[39m\u001b[38;5;241m.\u001b[39m_dataset_kind \u001b[38;5;241m==\u001b[39m _DatasetKind\u001b[38;5;241m.\u001b[39mIterable \u001b[38;5;129;01mand\u001b[39;00m \\\n\u001b[1;32m    633\u001b[0m         \u001b[38;5;28mself\u001b[39m\u001b[38;5;241m.\u001b[39m_IterableDataset_len_called \u001b[38;5;129;01mis\u001b[39;00m \u001b[38;5;129;01mnot\u001b[39;00m \u001b[38;5;28;01mNone\u001b[39;00m \u001b[38;5;129;01mand\u001b[39;00m \\\n\u001b[1;32m    634\u001b[0m         \u001b[38;5;28mself\u001b[39m\u001b[38;5;241m.\u001b[39m_num_yielded \u001b[38;5;241m>\u001b[39m \u001b[38;5;28mself\u001b[39m\u001b[38;5;241m.\u001b[39m_IterableDataset_len_called:\n",
      "File \u001b[0;32m~/miniconda3/envs/clam/lib/python3.8/site-packages/torch/utils/data/dataloader.py:1328\u001b[0m, in \u001b[0;36m_MultiProcessingDataLoaderIter._next_data\u001b[0;34m(self)\u001b[0m\n\u001b[1;32m   1325\u001b[0m     \u001b[38;5;28;01mreturn\u001b[39;00m \u001b[38;5;28mself\u001b[39m\u001b[38;5;241m.\u001b[39m_process_data(data)\n\u001b[1;32m   1327\u001b[0m \u001b[38;5;28;01massert\u001b[39;00m \u001b[38;5;129;01mnot\u001b[39;00m \u001b[38;5;28mself\u001b[39m\u001b[38;5;241m.\u001b[39m_shutdown \u001b[38;5;129;01mand\u001b[39;00m \u001b[38;5;28mself\u001b[39m\u001b[38;5;241m.\u001b[39m_tasks_outstanding \u001b[38;5;241m>\u001b[39m \u001b[38;5;241m0\u001b[39m\n\u001b[0;32m-> 1328\u001b[0m idx, data \u001b[38;5;241m=\u001b[39m \u001b[38;5;28;43mself\u001b[39;49m\u001b[38;5;241;43m.\u001b[39;49m\u001b[43m_get_data\u001b[49m\u001b[43m(\u001b[49m\u001b[43m)\u001b[49m\n\u001b[1;32m   1329\u001b[0m \u001b[38;5;28mself\u001b[39m\u001b[38;5;241m.\u001b[39m_tasks_outstanding \u001b[38;5;241m-\u001b[39m\u001b[38;5;241m=\u001b[39m \u001b[38;5;241m1\u001b[39m\n\u001b[1;32m   1330\u001b[0m \u001b[38;5;28;01mif\u001b[39;00m \u001b[38;5;28mself\u001b[39m\u001b[38;5;241m.\u001b[39m_dataset_kind \u001b[38;5;241m==\u001b[39m _DatasetKind\u001b[38;5;241m.\u001b[39mIterable:\n\u001b[1;32m   1331\u001b[0m     \u001b[38;5;66;03m# Check for _IterableDatasetStopIteration\u001b[39;00m\n",
      "File \u001b[0;32m~/miniconda3/envs/clam/lib/python3.8/site-packages/torch/utils/data/dataloader.py:1284\u001b[0m, in \u001b[0;36m_MultiProcessingDataLoaderIter._get_data\u001b[0;34m(self)\u001b[0m\n\u001b[1;32m   1282\u001b[0m \u001b[38;5;28;01melif\u001b[39;00m \u001b[38;5;28mself\u001b[39m\u001b[38;5;241m.\u001b[39m_pin_memory:\n\u001b[1;32m   1283\u001b[0m     \u001b[38;5;28;01mwhile\u001b[39;00m \u001b[38;5;28mself\u001b[39m\u001b[38;5;241m.\u001b[39m_pin_memory_thread\u001b[38;5;241m.\u001b[39mis_alive():\n\u001b[0;32m-> 1284\u001b[0m         success, data \u001b[38;5;241m=\u001b[39m \u001b[38;5;28;43mself\u001b[39;49m\u001b[38;5;241;43m.\u001b[39;49m\u001b[43m_try_get_data\u001b[49m\u001b[43m(\u001b[49m\u001b[43m)\u001b[49m\n\u001b[1;32m   1285\u001b[0m         \u001b[38;5;28;01mif\u001b[39;00m success:\n\u001b[1;32m   1286\u001b[0m             \u001b[38;5;28;01mreturn\u001b[39;00m data\n",
      "File \u001b[0;32m~/miniconda3/envs/clam/lib/python3.8/site-packages/torch/utils/data/dataloader.py:1132\u001b[0m, in \u001b[0;36m_MultiProcessingDataLoaderIter._try_get_data\u001b[0;34m(self, timeout)\u001b[0m\n\u001b[1;32m   1119\u001b[0m \u001b[38;5;28;01mdef\u001b[39;00m \u001b[38;5;21m_try_get_data\u001b[39m(\u001b[38;5;28mself\u001b[39m, timeout\u001b[38;5;241m=\u001b[39m_utils\u001b[38;5;241m.\u001b[39mMP_STATUS_CHECK_INTERVAL):\n\u001b[1;32m   1120\u001b[0m     \u001b[38;5;66;03m# Tries to fetch data from `self._data_queue` once for a given timeout.\u001b[39;00m\n\u001b[1;32m   1121\u001b[0m     \u001b[38;5;66;03m# This can also be used as inner loop of fetching without timeout, with\u001b[39;00m\n\u001b[0;32m   (...)\u001b[0m\n\u001b[1;32m   1129\u001b[0m     \u001b[38;5;66;03m# Returns a 2-tuple:\u001b[39;00m\n\u001b[1;32m   1130\u001b[0m     \u001b[38;5;66;03m#   (bool: whether successfully get data, any: data if successful else None)\u001b[39;00m\n\u001b[1;32m   1131\u001b[0m     \u001b[38;5;28;01mtry\u001b[39;00m:\n\u001b[0;32m-> 1132\u001b[0m         data \u001b[38;5;241m=\u001b[39m \u001b[38;5;28;43mself\u001b[39;49m\u001b[38;5;241;43m.\u001b[39;49m\u001b[43m_data_queue\u001b[49m\u001b[38;5;241;43m.\u001b[39;49m\u001b[43mget\u001b[49m\u001b[43m(\u001b[49m\u001b[43mtimeout\u001b[49m\u001b[38;5;241;43m=\u001b[39;49m\u001b[43mtimeout\u001b[49m\u001b[43m)\u001b[49m\n\u001b[1;32m   1133\u001b[0m         \u001b[38;5;28;01mreturn\u001b[39;00m (\u001b[38;5;28;01mTrue\u001b[39;00m, data)\n\u001b[1;32m   1134\u001b[0m     \u001b[38;5;28;01mexcept\u001b[39;00m \u001b[38;5;167;01mException\u001b[39;00m \u001b[38;5;28;01mas\u001b[39;00m e:\n\u001b[1;32m   1135\u001b[0m         \u001b[38;5;66;03m# At timeout and error, we manually check whether any worker has\u001b[39;00m\n\u001b[1;32m   1136\u001b[0m         \u001b[38;5;66;03m# failed. Note that this is the only mechanism for Windows to detect\u001b[39;00m\n\u001b[1;32m   1137\u001b[0m         \u001b[38;5;66;03m# worker failures.\u001b[39;00m\n",
      "File \u001b[0;32m~/miniconda3/envs/clam/lib/python3.8/queue.py:179\u001b[0m, in \u001b[0;36mQueue.get\u001b[0;34m(self, block, timeout)\u001b[0m\n\u001b[1;32m    177\u001b[0m         \u001b[38;5;28;01mif\u001b[39;00m remaining \u001b[38;5;241m<\u001b[39m\u001b[38;5;241m=\u001b[39m \u001b[38;5;241m0.0\u001b[39m:\n\u001b[1;32m    178\u001b[0m             \u001b[38;5;28;01mraise\u001b[39;00m Empty\n\u001b[0;32m--> 179\u001b[0m         \u001b[38;5;28;43mself\u001b[39;49m\u001b[38;5;241;43m.\u001b[39;49m\u001b[43mnot_empty\u001b[49m\u001b[38;5;241;43m.\u001b[39;49m\u001b[43mwait\u001b[49m\u001b[43m(\u001b[49m\u001b[43mremaining\u001b[49m\u001b[43m)\u001b[49m\n\u001b[1;32m    180\u001b[0m item \u001b[38;5;241m=\u001b[39m \u001b[38;5;28mself\u001b[39m\u001b[38;5;241m.\u001b[39m_get()\n\u001b[1;32m    181\u001b[0m \u001b[38;5;28mself\u001b[39m\u001b[38;5;241m.\u001b[39mnot_full\u001b[38;5;241m.\u001b[39mnotify()\n",
      "File \u001b[0;32m~/miniconda3/envs/clam/lib/python3.8/threading.py:306\u001b[0m, in \u001b[0;36mCondition.wait\u001b[0;34m(self, timeout)\u001b[0m\n\u001b[1;32m    304\u001b[0m \u001b[38;5;28;01melse\u001b[39;00m:\n\u001b[1;32m    305\u001b[0m     \u001b[38;5;28;01mif\u001b[39;00m timeout \u001b[38;5;241m>\u001b[39m \u001b[38;5;241m0\u001b[39m:\n\u001b[0;32m--> 306\u001b[0m         gotit \u001b[38;5;241m=\u001b[39m \u001b[43mwaiter\u001b[49m\u001b[38;5;241;43m.\u001b[39;49m\u001b[43macquire\u001b[49m\u001b[43m(\u001b[49m\u001b[38;5;28;43;01mTrue\u001b[39;49;00m\u001b[43m,\u001b[49m\u001b[43m \u001b[49m\u001b[43mtimeout\u001b[49m\u001b[43m)\u001b[49m\n\u001b[1;32m    307\u001b[0m     \u001b[38;5;28;01melse\u001b[39;00m:\n\u001b[1;32m    308\u001b[0m         gotit \u001b[38;5;241m=\u001b[39m waiter\u001b[38;5;241m.\u001b[39macquire(\u001b[38;5;28;01mFalse\u001b[39;00m)\n",
      "\u001b[0;31mKeyboardInterrupt\u001b[0m: "
     ]
    }
   ],
   "source": [
    "model_dir = '/home/nada.saadi/CTPET/hecktor2022_cropped/early_Pret_7th_CTPTCT_ONCT'\n",
    "\n",
    "def validation(epoch_iterator_val):\n",
    "    model.eval()\n",
    "    with torch.no_grad():\n",
    "        for step, batch in enumerate(epoch_iterator_val):\n",
    "            val_inputs, val_labels = (batch[\"ct\"].cuda(), batch[\"seg\"].cuda())\n",
    "            val_outputs = sliding_window_inference(val_inputs, (96, 96, 96), 4, model)\n",
    "            val_labels_list = decollate_batch(val_labels)\n",
    "            val_labels_convert = [\n",
    "                post_label(val_label_tensor) for val_label_tensor in val_labels_list\n",
    "            ]\n",
    "            val_outputs_list = decollate_batch(val_outputs)\n",
    "            val_output_convert = [\n",
    "                post_pred(val_pred_tensor) for val_pred_tensor in val_outputs_list\n",
    "            ]\n",
    "            dice_metric(y_pred=val_output_convert, y=val_labels_convert)\n",
    "            dice_metric_batch(y_pred=val_output_convert, y=val_labels_convert)\n",
    "            epoch_iterator_val.set_description(\n",
    "                \"Validate (%d / %d Steps)\" % (global_step, 10.0)\n",
    "            )\n",
    "        mean_dice_val = dice_metric.aggregate().item()\n",
    "        metric_batch_val = dice_metric_batch.aggregate()\n",
    "\n",
    "        metric_tumor = metric_batch_val[0].item()\n",
    "        metric_lymph = metric_batch_val[1].item()\n",
    "\n",
    "        dice_metric.reset()\n",
    "        dice_metric_batch.reset()\n",
    "    return mean_dice_val, metric_tumor, metric_lymph\n",
    "\n",
    "\n",
    "def train(global_step, train_loader, dice_val_best, global_step_best):\n",
    "    model.train()\n",
    "    epoch_loss = 0\n",
    "    step = 0\n",
    "    epoch_iterator = tqdm(\n",
    "        train_loader, desc=\"Training (X / X Steps) (loss=X.X)\", dynamic_ncols=True\n",
    "    )\n",
    "    for step, batch in enumerate(epoch_iterator):\n",
    "        step += 1\n",
    "        x, y = (batch[\"ct\"].cuda(), batch[\"seg\"].cuda())\n",
    "        logit_map = model(x)\n",
    "        loss = loss_function(logit_map, y)\n",
    "        loss.backward()\n",
    "        epoch_loss += loss.item()\n",
    "        optimizer.step()\n",
    "        optimizer.zero_grad()\n",
    "        epoch_iterator.set_description(\n",
    "            \"Training (%d / %d Steps) (loss=%2.5f)\"\n",
    "            % (global_step, max_iterations, loss)\n",
    "        )\n",
    "        if (\n",
    "            global_step % eval_num == 0 and global_step != 0\n",
    "        ) or global_step == max_iterations:\n",
    "            epoch_iterator_val = tqdm(\n",
    "                val_loader, desc=\"Validate (X / X Steps) (dice=X.X)\", dynamic_ncols=True\n",
    "            )\n",
    "            dice_val, metric_tumor, metric_lymph = validation(epoch_iterator_val)\n",
    "            epoch_loss /= step\n",
    "            epoch_loss_values.append(epoch_loss)\n",
    "            metric_values.append(dice_val)\n",
    "            metric_values_tumor.append(metric_tumor)\n",
    "            metric_values_lymph.append(metric_lymph)\n",
    "            if dice_val > dice_val_best:\n",
    "                dice_val_best = dice_val\n",
    "                global_step_best = global_step\n",
    "                torch.save(\n",
    "                    model.state_dict(), os.path.join(model_dir, \"early_ctptct_on_ct.pth\")\n",
    "                )\n",
    "                print(\n",
    "                    \"Model Was Saved ! Current Best Avg. Dice: {} Current Avg. Dice: {} Current Avg. tumor Dice: {} Current Avg. lymph Dice: {}\".format(\n",
    "                        dice_val_best, dice_val, metric_tumor, metric_lymph\n",
    "                    )\n",
    "                )\n",
    "            else:\n",
    "                print(\n",
    "                    \"Model Was Not Saved ! Current Best Avg. Dice: {} Current Avg. Dice: {} Current Avg. tumor Dice: {} Current Avg. lymph Dice: {}\".format(\n",
    "                        dice_val_best, dice_val,  metric_tumor, metric_lymph\n",
    "                    )\n",
    "                )\n",
    "        global_step += 1\n",
    "    return global_step, dice_val_best, global_step_best\n",
    "\n",
    "\n",
    "max_iterations = 18000\n",
    "eval_num = 100\n",
    "\n",
    "post_label = AsDiscrete(to_onehot=3)\n",
    "post_pred = AsDiscrete(argmax=True, to_onehot=3)\n",
    "\n",
    "dice_metric = DiceMetric(include_background=False, reduction=\"mean\", get_not_nans=False)\n",
    "dice_metric_batch = DiceMetric(include_background=False, reduction=\"mean_batch\")\n",
    "\n",
    "epoch = 0\n",
    "max_num_epochs = 530\n",
    "\n",
    "global_step = 0\n",
    "dice_val_best = 0.0\n",
    "global_step_best = 0\n",
    "epoch_loss_values = []\n",
    "metric_values = []\n",
    "metric_values_tumor = []\n",
    "metric_values_lymph = []\n",
    "while global_step < max_iterations:\n",
    "    global_step, dice_val_best, global_step_best = train(\n",
    "        global_step, train_loader, dice_val_best, global_step_best\n",
    "    )\n",
    "    # wandb.log({'learning_rate': optimizer.param_groups[0]['lr']})\n",
    "    # wandb.log({'Best Dice': dice_val_best})\n",
    "    epoch += 1\n",
    "    #optimizer.param_groups[0]['lr'] = poly_lr(epoch, max_num_epochs, 0.005676 , 0.9)\n",
    "# model.load_state_dict(torch.load(os.path.join(model_dir, \"best_metric_luck_UNETr_prompt.pth\")))"
   ]
  }
 ],
 "metadata": {
  "kernelspec": {
   "display_name": "clam",
   "language": "python",
   "name": "python3"
  },
  "language_info": {
   "codemirror_mode": {
    "name": "ipython",
    "version": 3
   },
   "file_extension": ".py",
   "mimetype": "text/x-python",
   "name": "python",
   "nbconvert_exporter": "python",
   "pygments_lexer": "ipython3",
   "version": "3.8.0"
  }
 },
 "nbformat": 4,
 "nbformat_minor": 2
}
