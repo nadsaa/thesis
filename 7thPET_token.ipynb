{
 "cells": [
  {
   "cell_type": "code",
   "execution_count": 9,
   "metadata": {},
   "outputs": [
    {
     "name": "stdout",
     "output_type": "stream",
     "text": [
      "1\n"
     ]
    },
    {
     "name": "stderr",
     "output_type": "stream",
     "text": [
      "/tmp/ipykernel_3590812/2970517962.py:9: TqdmWarning: IProgress not found. Please update jupyter and ipywidgets. See https://ipywidgets.readthedocs.io/en/stable/user_install.html\n",
      "  from tqdm.autonotebook import tqdm\n"
     ]
    }
   ],
   "source": [
    "import torch\n",
    "import torch.nn as nn\n",
    "from torch.utils.data import DataLoader\n",
    "from collections.abc import Sequence\n",
    "\n",
    "from unetr import CustomedUNETR\n",
    "\n",
    "import json\n",
    "from tqdm.autonotebook import tqdm\n",
    "import os\n",
    "os.environ[\"CUDA_DEVICE_ORDER\"] = \"PCI_BUS_ID\"\n",
    "os.environ[\"CUDA_VISIBLE_DEVICES\"] = \"3\" \n",
    "\n",
    "print(torch.cuda.device_count())\n",
    "torch.backends.cudnn.benchmark = True\n",
    "device = torch.device(\"cuda\" if torch.cuda.is_available() else \"cpu\")"
   ]
  },
  {
   "cell_type": "code",
   "execution_count": 10,
   "metadata": {},
   "outputs": [],
   "source": [
    "from monai.transforms import EnsureTyped\n",
    "from monai.transforms import Compose, LoadImaged, ScaleIntensityRanged, ConcatItemsd\n",
    "from monai.metrics import DiceMetric\n",
    "from monai.losses import DiceCELoss, DiceFocalLoss, FocalLoss\n",
    "from monai.inferers import sliding_window_inference\n",
    "\n",
    "\n",
    "from monai.data import (\n",
    "    Dataset,\n",
    "    DataLoader,\n",
    "    CacheDataset,\n",
    "    load_decathlon_datalist,\n",
    "    decollate_batch,\n",
    ")\n",
    "\n",
    "\n",
    "from monai.transforms import (\n",
    "    AsDiscrete,\n",
    "    Compose,\n",
    "    CropForegroundd,\n",
    "    LoadImaged,\n",
    "    Orientationd,\n",
    "    RandFlipd,\n",
    "    RandCropByPosNegLabeld,\n",
    "    RandShiftIntensityd,\n",
    "    ScaleIntensityRanged,\n",
    "    Spacingd,\n",
    "    RandRotate90d,\n",
    "    MapTransform,\n",
    "    ScaleIntensityd,\n",
    "    #AddChanneld,\n",
    "    SpatialPadd,\n",
    "    CenterSpatialCropd,\n",
    "    EnsureChannelFirstd,\n",
    "    ConcatItemsd,\n",
    "    AdjustContrastd, \n",
    "    Rand3DElasticd,\n",
    "    HistogramNormalized,\n",
    "    NormalizeIntensityd,\n",
    "    Invertd,\n",
    "    SaveImage,\n",
    "\n",
    ")\n",
    "import monai\n",
    "import json"
   ]
  },
  {
   "cell_type": "code",
   "execution_count": 11,
   "metadata": {},
   "outputs": [],
   "source": [
    "data_dir = '/home/nada.saadi/MIS-FM/hecktor2022_cropped'\n",
    "json_dir = \"/home/nada.saadi/CTPET/hecktor2022_cropped/HMR_pt_train_new.json\""
   ]
  },
  {
   "cell_type": "code",
   "execution_count": 12,
   "metadata": {},
   "outputs": [
    {
     "name": "stdout",
     "output_type": "stream",
     "text": [
      "13 4\n"
     ]
    }
   ],
   "source": [
    "def datafold_read(datalist, basedir, fold=0, key=\"training\"):\n",
    "    with open(datalist) as f:\n",
    "        json_data = json.load(f)\n",
    "\n",
    "    json_data = json_data[key]\n",
    "\n",
    "    for d in json_data:\n",
    "        for k in d:\n",
    "            if isinstance(d[k], list):\n",
    "                d[k] = [os.path.join(basedir, iv) for iv in d[k]]\n",
    "            elif isinstance(d[k], str):\n",
    "                d[k] = os.path.join(basedir, d[k]) if len(d[k]) > 0 else d[k]\n",
    "\n",
    "    tr = []\n",
    "    val = []\n",
    "    for d in json_data:\n",
    "        if \"fold\" in d and d[\"fold\"] == fold:\n",
    "            val.append(d)\n",
    "        else:\n",
    "            tr.append(d)\n",
    "\n",
    "    return tr, val\n",
    "\n",
    "train_data, valid_data = datafold_read(datalist=json_dir, basedir=data_dir, fold=0)\n",
    "print(len(train_data), len(valid_data))"
   ]
  },
  {
   "cell_type": "code",
   "execution_count": 13,
   "metadata": {},
   "outputs": [],
   "source": [
    "class ClipCT(MapTransform):\n",
    "    \"\"\"\n",
    "    Convert labels to multi channels based on hecktor classes:\n",
    "    label 1 is the tumor\n",
    "    label 2 is the lymph node\n",
    "\n",
    "    \"\"\"\n",
    "\n",
    "    def __call__(self, data):\n",
    "        d = dict(data)\n",
    "        for key in self.keys:\n",
    "            if key == \"ct\":\n",
    "                d[key] = torch.clip(d[key], min=-200, max=200)\n",
    "            # elif key == \"pt\":\n",
    "            #     d[key] = torch.clip(d[key], d[key].min(), 5)\n",
    "        return d\n",
    "class MulPTFM(MapTransform):\n",
    "    \"\"\"\n",
    "    Mult PT and FM \n",
    "\n",
    "    \"\"\"\n",
    "\n",
    "    def __call__(self, data):\n",
    "        d = dict(data)\n",
    "\n",
    "        fm = d[\"ct\"] > 0\n",
    "        d[\"pt\"] = d[\"pt\"] * fm\n",
    "        return d\n",
    "\n",
    "class SelectClass(MapTransform):\n",
    "    \"\"\"\n",
    "    Select the class for which you want to fine tune the model \n",
    "\n",
    "    \"\"\"\n",
    "    # def __init__(self, keys, cls=1):\n",
    "     #     super(self).__init__(keys)\n",
    "    #     self.cls = cls\n",
    "\n",
    "    def __call__(self, data):\n",
    "        d = dict(data)\n",
    "        d[\"seg\"][d[\"seg\"] == 1] = 0\n",
    "        # d[\"seg\"][d[\"seg\"] == 2] = 1\n",
    "        \n",
    "        return d"
   ]
  },
  {
   "cell_type": "code",
   "execution_count": 14,
   "metadata": {},
   "outputs": [],
   "source": [
    "num_samples = 4\n",
    "\n",
    "train_transforms = Compose(\n",
    "    [\n",
    "        LoadImaged(keys=[\"pt\", \"seg\"], ensure_channel_first = True),\n",
    "        SpatialPadd(keys=[\"pt\",  \"seg\"], spatial_size=(200, 200, 310), method='end'),\n",
    "        Orientationd(keys=[\"pt\",  \"seg\"], axcodes=\"PLS\"),\n",
    "        #NormalizeIntensityd(keys=[\"pt\"]),\n",
    "        ClipCT(keys=[\"pt\"]),\n",
    "        ScaleIntensityd(keys=[\"pt\"], minv=0, maxv=1),\n",
    "        #MulPTFM(keys=[\"ct\",\"pt\"]),\n",
    "        #ConcatItemsd(keys=[\"pt\", \"ct\"], name=\"ctpt\"),\n",
    "        #NormalizeIntensityd(keys=[\"ctpt\"], channel_wise=True),\n",
    "        RandCropByPosNegLabeld(\n",
    "            keys=[\"pt\", \"seg\"],\n",
    "            label_key=\"seg\",\n",
    "            spatial_size=(96, 96, 96),\n",
    "            pos=1,\n",
    "            neg=1,\n",
    "            num_samples=num_samples,\n",
    "            image_key=\"pt\",\n",
    "            image_threshold=0,\n",
    "        ),\n",
    "        RandFlipd(\n",
    "            keys=[\"pt\", \"seg\"],\n",
    "            spatial_axis=[0],\n",
    "            prob=0.20,\n",
    "        ),\n",
    "        RandFlipd(\n",
    "            keys=[\"pt\", \"seg\"],\n",
    "            spatial_axis=[1],\n",
    "            prob=0.20,\n",
    "        ),\n",
    "        RandFlipd(\n",
    "            keys=[\"pt\", \"seg\"],\n",
    "            spatial_axis=[2],\n",
    "            prob=0.20,\n",
    "        ),\n",
    "        RandRotate90d(\n",
    "            keys=[\"pt\", \"seg\"],\n",
    "            prob=0.20,\n",
    "            max_k=3,\n",
    "        ),\n",
    "    ]\n",
    ")\n",
    "val_transforms = Compose(\n",
    "    [\n",
    "        LoadImaged(keys=[\"pt\", \"seg\"], ensure_channel_first = True),\n",
    "        SpatialPadd(keys=[\"pt\", \"seg\"], spatial_size=(200, 200, 310), method='end'),\n",
    "        Orientationd(keys=[\"pt\",  \"seg\"], axcodes=\"PLS\"),\n",
    "        #NormalizeIntensityd(keys=[\"pt\"]),\n",
    "        ClipCT(keys=[\"pt\"]),\n",
    "        ScaleIntensityd(keys=[\"pt\"], minv=0, maxv=1),\n",
    "        #MulPTFM(keys=[\"ct\",\"pt\"]),\n",
    "        #ConcatItemsd(keys=[\"pt\", \"ct\"], name=\"ctpt\"),\n",
    "    ]\n",
    ")"
   ]
  },
  {
   "cell_type": "code",
   "execution_count": 15,
   "metadata": {},
   "outputs": [],
   "source": [
    "train_ds = monai.data.Dataset(data=train_data, transform=train_transforms)\n",
    "\n",
    "train_loader = DataLoader(\n",
    "    train_ds,\n",
    "    batch_size=2,\n",
    "    shuffle=True,\n",
    "    num_workers=8,\n",
    "    pin_memory=torch.cuda.is_available(),\n",
    "    )\n",
    "\n",
    "val_ds = monai.data.Dataset(data=valid_data, transform=val_transforms)\n",
    "\n",
    "val_loader = DataLoader(\n",
    "    val_ds, \n",
    "    batch_size=2, \n",
    "    num_workers=8, \n",
    "    shuffle= False)"
   ]
  },
  {
   "cell_type": "code",
   "execution_count": 16,
   "metadata": {},
   "outputs": [
    {
     "name": "stderr",
     "output_type": "stream",
     "text": [
      "/home/nada.saadi/miniconda3/envs/clam/lib/python3.8/site-packages/monai/utils/deprecate_utils.py:221: FutureWarning: unetr CustomedUNETR.__init__:pos_embed: Argument `pos_embed` has been deprecated since version 1.2. It will be removed in version 1.4. please use `proj_type` instead.\n",
      "  warn_deprecated(argname, msg, warning_category)\n"
     ]
    },
    {
     "name": "stdout",
     "output_type": "stream",
     "text": [
      "Nada's version of UNETR\n",
      "(96, 96, 96)\n",
      "(16, 16, 16)\n",
      "(6, 6, 6)\n",
      "768\n",
      "zaz w dakchi ya s lbnat\n"
     ]
    }
   ],
   "source": [
    "model = CustomedUNETR(\n",
    "    in_channels=1,  # Number of input channels\n",
    "    out_channels=3,  # Number of output channels\n",
    "    img_size=(96, 96, 96),  # Size of the input image\n",
    "    feature_size=48,  # Size of the feature maps\n",
    "    hidden_size=768,\n",
    "    num_heads=12,  # Size of the hidden layers in the transformer\n",
    "    mlp_dim=3072,  # Dimension of the MLP in the transformer\n",
    "    pos_embed=\"perceptron\",  # Type of positional embedding\n",
    "    norm_name=\"instance\",  # Type of normalization\n",
    "    res_block=True,  # Whether to use residual blocks\n",
    "    dropout_rate=0.0,\n",
    "    proj_type=\"conv\",\n",
    "    r=4,\n",
    "    lora_layer=True,\n",
    "    use_ct_encoder=True,\n",
    "    use_pet_encoder=False,\n",
    ").to(device)"
   ]
  },
  {
   "cell_type": "code",
   "execution_count": 17,
   "metadata": {},
   "outputs": [],
   "source": [
    "def poly_lr(epoch, max_epochs, initial_lr, exponent=0.9):\n",
    "    return initial_lr * (1 - epoch / max_epochs)**exponent\n",
    "\n",
    "model_dir='/home/nada.saadi/CTPET/hecktor2022_cropped/7th_PET_token'\n",
    "max_iterations = 18000\n",
    "eval_num = 100\n",
    "\n",
    "## running stats\n",
    "global_step = 0\n",
    "dice_val_best = 0.0\n",
    "global_step_best = 0\n",
    "epoch_loss_values = []\n",
    "metric_values = []\n",
    "metric_values_tumor = []\n",
    "metric_values_lymph = []\n",
    "\n",
    "\n",
    "loss_function = DiceCELoss(to_onehot_y=True, softmax=True)\n",
    "optimizer = torch.optim.AdamW(model.parameters(), lr=1e-4, weight_decay=1e-5)\n",
    "\n",
    "\n",
    "post_label = AsDiscrete(to_onehot=3)\n",
    "post_pred = AsDiscrete(argmax=True, to_onehot=3)\n",
    "\n",
    "dice_metric = DiceMetric(include_background=False, reduction=\"mean\", get_not_nans=False)\n",
    "dice_metric_batch = DiceMetric(include_background=False, reduction=\"mean_batch\")\n",
    "\n",
    "\n",
    "##-----------------------------------------------------------------------------\n",
    "\n",
    "def validation(epoch_iterator_val):\n",
    "        model.eval()\n",
    "        with torch.no_grad():\n",
    "            for step, batch in enumerate(epoch_iterator_val):\n",
    "                val_inputs, val_labels = (batch[\"pt\"].cuda(), batch[\"seg\"].cuda())\n",
    "                val_outputs = sliding_window_inference(val_inputs, (96, 96, 96), 4, model)\n",
    "                val_labels_list = decollate_batch(val_labels)\n",
    "                val_labels_convert = [\n",
    "                    post_label(val_label_tensor) for val_label_tensor in val_labels_list\n",
    "                ]\n",
    "                val_outputs_list = decollate_batch(val_outputs)\n",
    "                val_output_convert = [\n",
    "                    post_pred(val_pred_tensor) for val_pred_tensor in val_outputs_list\n",
    "                ]\n",
    "                dice_metric(y_pred=val_output_convert, y=val_labels_convert)\n",
    "                dice_metric_batch(y_pred=val_output_convert, y=val_labels_convert)\n",
    "                epoch_iterator_val.set_description(\n",
    "                    \"Validate (%d / %d Steps)\" % (global_step, 10.0)\n",
    "                )\n",
    "            mean_dice_val = dice_metric.aggregate().item()\n",
    "            metric_batch_val = dice_metric_batch.aggregate()\n",
    "\n",
    "            metric_tumor = metric_batch_val[0].item()\n",
    "            metric_lymph = metric_batch_val[1].item()\n",
    "\n",
    "            dice_metric.reset()\n",
    "            dice_metric_batch.reset()\n",
    "        return mean_dice_val, metric_tumor, metric_lymph\n",
    "\n",
    "\n",
    "\n",
    "def train(global_step, train_loader, dice_val_best, global_step_best):\n",
    "        model.train()\n",
    "        epoch_loss = 0 \n",
    "        step = 0\n",
    "        epoch_iterator = tqdm(\n",
    "            train_loader, desc=\"Training (X / X Steps) (loss=X.X)\", dynamic_ncols=True\n",
    "        )\n",
    "        \n",
    "        for step, batch in enumerate(epoch_iterator):\n",
    "            step += 1\n",
    "            x, y = (batch[\"pt\"].cuda(), batch[\"seg\"].cuda())\n",
    "            logit_map = model(x)\n",
    "            loss = loss_function(logit_map, y)\n",
    "            loss.backward()\n",
    "            epoch_loss += loss.item() \n",
    "            optimizer.step()\n",
    "            optimizer.zero_grad()\n",
    "            epoch_iterator.set_description(\n",
    "                \"Training (%d / %d Steps) (loss=%2.5f)\"\n",
    "                % (global_step, max_iterations, loss)\n",
    "            )\n",
    "            \n",
    "            if (\n",
    "                global_step % eval_num == 0 and global_step != 0\n",
    "            ) or global_step == max_iterations:\n",
    "                epoch_iterator_val = tqdm(\n",
    "                    val_loader, desc=\"Validate (X / X Steps) (dice=X.X)\", dynamic_ncols=True\n",
    "                )\n",
    "                dice_val, metric_tumor, metric_lymph = validation(epoch_iterator_val)\n",
    "                epoch_loss /= step\n",
    "                epoch_loss_values.append(epoch_loss)\n",
    "                metric_values.append(dice_val)\n",
    "                metric_values_tumor.append(metric_tumor)\n",
    "                metric_values_lymph.append(metric_lymph)\n",
    "                if dice_val > dice_val_best:\n",
    "                    dice_val_best = dice_val\n",
    "                    global_step_best = global_step\n",
    "                    torch.save(\n",
    "                        model.state_dict(), os.path.join(model_dir, \"7th_center_PETtoken.pth\")\n",
    "                    )\n",
    "                    print(\n",
    "                        \"Model Was Saved ! Current Best Avg. Dice: {} Current Avg. Dice: {} Current Avg. tumor Dice: {} Current Avg. lymph Dice: {}\".format(\n",
    "                            dice_val_best, dice_val, metric_tumor, metric_lymph\n",
    "                        )\n",
    "                    )\n",
    "                else:\n",
    "                    print(\n",
    "                        \"Model Was Not Saved ! Current Best Avg. Dice: {} Current Avg. Dice: {} Current Avg. tumor Dice: {} Current Avg. lymph Dice: {}\".format(\n",
    "                            dice_val_best, dice_val,  metric_tumor, metric_lymph\n",
    "                        )\n",
    "                    )\n",
    "            global_step += 1\n",
    "        return global_step, dice_val_best, global_step_best\n"
   ]
  },
  {
   "cell_type": "code",
   "execution_count": 18,
   "metadata": {},
   "outputs": [
    {
     "name": "stderr",
     "output_type": "stream",
     "text": [
      "Training (6 / 18000 Steps) (loss=1.38184): 100%|██████████| 7/7 [01:03<00:00,  9.03s/it]\n",
      "Training (13 / 18000 Steps) (loss=1.26866): 100%|██████████| 7/7 [00:15<00:00,  2.23s/it]\n",
      "Training (20 / 18000 Steps) (loss=1.10227): 100%|██████████| 7/7 [00:15<00:00,  2.15s/it]\n",
      "Training (27 / 18000 Steps) (loss=1.09257): 100%|██████████| 7/7 [00:15<00:00,  2.22s/it]\n",
      "Training (34 / 18000 Steps) (loss=0.99602): 100%|██████████| 7/7 [00:15<00:00,  2.15s/it]\n",
      "Training (41 / 18000 Steps) (loss=0.96758): 100%|██████████| 7/7 [00:15<00:00,  2.18s/it]\n",
      "Training (48 / 18000 Steps) (loss=0.99493): 100%|██████████| 7/7 [00:15<00:00,  2.17s/it]\n",
      "Training (55 / 18000 Steps) (loss=0.98686): 100%|██████████| 7/7 [00:15<00:00,  2.18s/it]\n",
      "Training (62 / 18000 Steps) (loss=1.03855): 100%|██████████| 7/7 [00:15<00:00,  2.19s/it]\n",
      "Training (69 / 18000 Steps) (loss=0.93313): 100%|██████████| 7/7 [00:15<00:00,  2.20s/it]\n",
      "Training (76 / 18000 Steps) (loss=0.95123): 100%|██████████| 7/7 [00:14<00:00,  2.13s/it]\n",
      "Training (83 / 18000 Steps) (loss=0.90304): 100%|██████████| 7/7 [00:15<00:00,  2.21s/it]\n",
      "Training (90 / 18000 Steps) (loss=0.92926): 100%|██████████| 7/7 [00:15<00:00,  2.15s/it]\n",
      "Training (97 / 18000 Steps) (loss=0.89752): 100%|██████████| 7/7 [00:14<00:00,  2.13s/it]\n",
      "Validate (98 / 10 Steps): 100%|██████████| 2/2 [00:08<00:00,  4.44s/it]8<00:15,  3.18s/it]\n",
      "Training (100 / 18000 Steps) (loss=0.90082):  43%|████▎     | 3/7 [00:18<00:27,  6.85s/it]"
     ]
    },
    {
     "name": "stdout",
     "output_type": "stream",
     "text": [
      "Model Was Not Saved ! Current Best Avg. Dice: 0.0 Current Avg. Dice: 0.0 Current Avg. tumor Dice: 0.0 Current Avg. lymph Dice: 0.0\n"
     ]
    },
    {
     "name": "stderr",
     "output_type": "stream",
     "text": [
      "Training (104 / 18000 Steps) (loss=0.87779): 100%|██████████| 7/7 [00:24<00:00,  3.52s/it]\n",
      "Training (111 / 18000 Steps) (loss=0.86806): 100%|██████████| 7/7 [00:14<00:00,  2.12s/it]\n",
      "Training (118 / 18000 Steps) (loss=0.85814): 100%|██████████| 7/7 [00:15<00:00,  2.19s/it]\n",
      "Training (125 / 18000 Steps) (loss=0.94009): 100%|██████████| 7/7 [00:15<00:00,  2.14s/it]\n",
      "Training (132 / 18000 Steps) (loss=0.88351): 100%|██████████| 7/7 [00:15<00:00,  2.19s/it]\n",
      "Training (139 / 18000 Steps) (loss=0.86108): 100%|██████████| 7/7 [00:15<00:00,  2.18s/it]\n",
      "Training (146 / 18000 Steps) (loss=0.87706): 100%|██████████| 7/7 [00:15<00:00,  2.22s/it]\n",
      "Training (153 / 18000 Steps) (loss=1.01315): 100%|██████████| 7/7 [00:15<00:00,  2.16s/it]\n",
      "Training (160 / 18000 Steps) (loss=0.89110): 100%|██████████| 7/7 [00:15<00:00,  2.19s/it]\n",
      "Training (167 / 18000 Steps) (loss=0.86372): 100%|██████████| 7/7 [00:15<00:00,  2.16s/it]\n",
      "Training (174 / 18000 Steps) (loss=0.86299): 100%|██████████| 7/7 [00:15<00:00,  2.15s/it]\n",
      "Training (181 / 18000 Steps) (loss=0.84300): 100%|██████████| 7/7 [00:15<00:00,  2.17s/it]\n",
      "Training (188 / 18000 Steps) (loss=0.83873): 100%|██████████| 7/7 [00:15<00:00,  2.19s/it]\n",
      "Training (195 / 18000 Steps) (loss=0.87781): 100%|██████████| 7/7 [00:15<00:00,  2.19s/it]\n",
      "Validate (196 / 10 Steps): 100%|██████████| 2/2 [00:08<00:00,  4.34s/it]<00:06,  2.30s/it]\n",
      "Training (200 / 18000 Steps) (loss=0.82641):  71%|███████▏  | 5/7 [00:21<00:11,  5.58s/it]"
     ]
    },
    {
     "name": "stdout",
     "output_type": "stream",
     "text": [
      "Model Was Saved ! Current Best Avg. Dice: 0.00013240447151474655 Current Avg. Dice: 0.00013240447151474655 Current Avg. tumor Dice: 0.0002648089430294931 Current Avg. lymph Dice: 0.0\n"
     ]
    },
    {
     "name": "stderr",
     "output_type": "stream",
     "text": [
      "Training (202 / 18000 Steps) (loss=0.81006): 100%|██████████| 7/7 [00:25<00:00,  3.58s/it]\n",
      "Training (209 / 18000 Steps) (loss=0.86588): 100%|██████████| 7/7 [00:15<00:00,  2.16s/it]\n",
      "Training (216 / 18000 Steps) (loss=0.90273): 100%|██████████| 7/7 [00:15<00:00,  2.17s/it]\n",
      "Training (223 / 18000 Steps) (loss=0.79841): 100%|██████████| 7/7 [00:14<00:00,  2.14s/it]\n",
      "Training (230 / 18000 Steps) (loss=0.81000): 100%|██████████| 7/7 [00:15<00:00,  2.23s/it]\n",
      "Training (237 / 18000 Steps) (loss=0.81362): 100%|██████████| 7/7 [00:15<00:00,  2.15s/it]\n",
      "Training (244 / 18000 Steps) (loss=0.79962): 100%|██████████| 7/7 [00:15<00:00,  2.24s/it]\n",
      "Training (251 / 18000 Steps) (loss=0.90463): 100%|██████████| 7/7 [00:16<00:00,  2.30s/it]\n",
      "Training (258 / 18000 Steps) (loss=0.80278): 100%|██████████| 7/7 [00:15<00:00,  2.18s/it]\n",
      "Training (265 / 18000 Steps) (loss=0.81879): 100%|██████████| 7/7 [00:15<00:00,  2.21s/it]\n",
      "Training (272 / 18000 Steps) (loss=0.82335): 100%|██████████| 7/7 [00:14<00:00,  2.13s/it]\n",
      "Training (279 / 18000 Steps) (loss=0.77537): 100%|██████████| 7/7 [00:14<00:00,  2.12s/it]\n",
      "Training (286 / 18000 Steps) (loss=0.79209): 100%|██████████| 7/7 [00:15<00:00,  2.21s/it]\n",
      "Training (293 / 18000 Steps) (loss=0.76852): 100%|██████████| 7/7 [00:15<00:00,  2.17s/it]\n",
      "Validate (294 / 10 Steps): 100%|██████████| 2/2 [00:08<00:00,  4.39s/it]<00:02,  2.07s/it]\n",
      "Training (300 / 18000 Steps) (loss=0.78338): 100%|██████████| 7/7 [00:25<00:00,  3.65s/it]\n"
     ]
    },
    {
     "name": "stdout",
     "output_type": "stream",
     "text": [
      "Model Was Saved ! Current Best Avg. Dice: 0.008569061756134033 Current Avg. Dice: 0.008569061756134033 Current Avg. tumor Dice: 0.017138123512268066 Current Avg. lymph Dice: 0.0\n"
     ]
    },
    {
     "name": "stderr",
     "output_type": "stream",
     "text": [
      "Training (307 / 18000 Steps) (loss=0.86702): 100%|██████████| 7/7 [00:15<00:00,  2.22s/it]\n",
      "Training (314 / 18000 Steps) (loss=0.82906): 100%|██████████| 7/7 [00:14<00:00,  2.14s/it]\n",
      "Training (321 / 18000 Steps) (loss=0.76832): 100%|██████████| 7/7 [00:15<00:00,  2.16s/it]\n",
      "Training (328 / 18000 Steps) (loss=0.83299): 100%|██████████| 7/7 [00:15<00:00,  2.15s/it]\n",
      "Training (335 / 18000 Steps) (loss=0.84550): 100%|██████████| 7/7 [00:15<00:00,  2.15s/it]\n",
      "Training (342 / 18000 Steps) (loss=0.77469): 100%|██████████| 7/7 [00:15<00:00,  2.19s/it]\n",
      "Training (349 / 18000 Steps) (loss=0.75432): 100%|██████████| 7/7 [00:15<00:00,  2.25s/it]\n",
      "Training (356 / 18000 Steps) (loss=0.78778): 100%|██████████| 7/7 [00:15<00:00,  2.15s/it]\n",
      "Training (363 / 18000 Steps) (loss=0.75852): 100%|██████████| 7/7 [00:15<00:00,  2.16s/it]\n",
      "Training (370 / 18000 Steps) (loss=0.76249): 100%|██████████| 7/7 [00:15<00:00,  2.17s/it]\n",
      "Training (377 / 18000 Steps) (loss=0.79926): 100%|██████████| 7/7 [00:14<00:00,  2.14s/it]\n",
      "Training (384 / 18000 Steps) (loss=0.75987): 100%|██████████| 7/7 [00:15<00:00,  2.19s/it]\n",
      "Training (391 / 18000 Steps) (loss=0.75687): 100%|██████████| 7/7 [00:15<00:00,  2.21s/it]\n",
      "Training (398 / 18000 Steps) (loss=0.84753): 100%|██████████| 7/7 [00:15<00:00,  2.19s/it]\n",
      "Validate (399 / 10 Steps): 100%|██████████| 2/2 [00:08<00:00,  4.23s/it]<00:30,  5.02s/it]\n",
      "Training (400 / 18000 Steps) (loss=0.74976):  29%|██▊       | 2/7 [00:16<00:43,  8.70s/it]"
     ]
    },
    {
     "name": "stdout",
     "output_type": "stream",
     "text": [
      "Model Was Saved ! Current Best Avg. Dice: 0.01102813333272934 Current Avg. Dice: 0.01102813333272934 Current Avg. tumor Dice: 0.02205626666545868 Current Avg. lymph Dice: 0.0\n"
     ]
    },
    {
     "name": "stderr",
     "output_type": "stream",
     "text": [
      "Training (405 / 18000 Steps) (loss=0.83390): 100%|██████████| 7/7 [00:24<00:00,  3.54s/it]\n",
      "Training (412 / 18000 Steps) (loss=0.80246): 100%|██████████| 7/7 [00:15<00:00,  2.16s/it]\n",
      "Training (419 / 18000 Steps) (loss=0.77997): 100%|██████████| 7/7 [00:15<00:00,  2.18s/it]\n",
      "Training (426 / 18000 Steps) (loss=0.73568): 100%|██████████| 7/7 [00:15<00:00,  2.18s/it]\n",
      "Training (433 / 18000 Steps) (loss=0.77022): 100%|██████████| 7/7 [00:14<00:00,  2.14s/it]\n",
      "Training (440 / 18000 Steps) (loss=0.79070): 100%|██████████| 7/7 [00:15<00:00,  2.18s/it]\n",
      "Training (447 / 18000 Steps) (loss=0.75181): 100%|██████████| 7/7 [00:15<00:00,  2.17s/it]\n",
      "Training (454 / 18000 Steps) (loss=0.73755): 100%|██████████| 7/7 [00:15<00:00,  2.18s/it]\n",
      "Training (461 / 18000 Steps) (loss=0.83147): 100%|██████████| 7/7 [00:15<00:00,  2.20s/it]\n",
      "Training (468 / 18000 Steps) (loss=0.73654): 100%|██████████| 7/7 [00:15<00:00,  2.23s/it]\n",
      "Training (475 / 18000 Steps) (loss=0.82217): 100%|██████████| 7/7 [00:15<00:00,  2.19s/it]\n",
      "Training (482 / 18000 Steps) (loss=0.73171): 100%|██████████| 7/7 [00:15<00:00,  2.16s/it]\n",
      "Training (489 / 18000 Steps) (loss=0.72697): 100%|██████████| 7/7 [00:15<00:00,  2.18s/it]\n",
      "Training (496 / 18000 Steps) (loss=0.74722): 100%|██████████| 7/7 [00:15<00:00,  2.19s/it]\n",
      "Validate (497 / 10 Steps): 100%|██████████| 2/2 [00:08<00:00,  4.25s/it]<00:10,  2.60s/it]\n",
      "Training (500 / 18000 Steps) (loss=0.76128):  57%|█████▋    | 4/7 [00:20<00:17,  5.99s/it]"
     ]
    },
    {
     "name": "stdout",
     "output_type": "stream",
     "text": [
      "Model Was Saved ! Current Best Avg. Dice: 0.0291462242603302 Current Avg. Dice: 0.0291462242603302 Current Avg. tumor Dice: 0.0582924485206604 Current Avg. lymph Dice: 0.0\n"
     ]
    },
    {
     "name": "stderr",
     "output_type": "stream",
     "text": [
      "Training (503 / 18000 Steps) (loss=0.70501): 100%|██████████| 7/7 [00:24<00:00,  3.56s/it]\n",
      "Training (510 / 18000 Steps) (loss=0.70413): 100%|██████████| 7/7 [00:14<00:00,  2.13s/it]\n",
      "Training (517 / 18000 Steps) (loss=0.75681): 100%|██████████| 7/7 [00:15<00:00,  2.17s/it]\n",
      "Training (524 / 18000 Steps) (loss=0.73592): 100%|██████████| 7/7 [00:14<00:00,  2.11s/it]\n",
      "Training (531 / 18000 Steps) (loss=0.84520): 100%|██████████| 7/7 [00:15<00:00,  2.24s/it]\n",
      "Training (538 / 18000 Steps) (loss=0.68421): 100%|██████████| 7/7 [00:15<00:00,  2.17s/it]\n",
      "Training (545 / 18000 Steps) (loss=0.73374): 100%|██████████| 7/7 [00:15<00:00,  2.22s/it]\n",
      "Training (552 / 18000 Steps) (loss=0.75434): 100%|██████████| 7/7 [00:15<00:00,  2.25s/it]\n",
      "Training (559 / 18000 Steps) (loss=0.73797): 100%|██████████| 7/7 [00:15<00:00,  2.18s/it]\n",
      "Training (566 / 18000 Steps) (loss=0.87126): 100%|██████████| 7/7 [00:15<00:00,  2.17s/it]\n",
      "Training (573 / 18000 Steps) (loss=0.75203): 100%|██████████| 7/7 [00:14<00:00,  2.14s/it]\n",
      "Training (580 / 18000 Steps) (loss=0.72178): 100%|██████████| 7/7 [00:15<00:00,  2.23s/it]\n",
      "Training (587 / 18000 Steps) (loss=0.72207): 100%|██████████| 7/7 [00:15<00:00,  2.21s/it]\n",
      "Training (594 / 18000 Steps) (loss=0.78857): 100%|██████████| 7/7 [00:15<00:00,  2.20s/it]\n",
      "Validate (595 / 10 Steps): 100%|██████████| 2/2 [00:08<00:00,  4.32s/it]<00:04,  2.15s/it]\n",
      "Training (600 / 18000 Steps) (loss=0.72334):  86%|████████▌ | 6/7 [00:22<00:05,  5.00s/it]"
     ]
    },
    {
     "name": "stdout",
     "output_type": "stream",
     "text": [
      "Model Was Not Saved ! Current Best Avg. Dice: 0.0291462242603302 Current Avg. Dice: 0.016871152445673943 Current Avg. tumor Dice: 0.033742304891347885 Current Avg. lymph Dice: 0.0\n"
     ]
    },
    {
     "name": "stderr",
     "output_type": "stream",
     "text": [
      "Training (601 / 18000 Steps) (loss=0.74535): 100%|██████████| 7/7 [00:24<00:00,  3.45s/it]\n",
      "Training (608 / 18000 Steps) (loss=0.74291): 100%|██████████| 7/7 [00:15<00:00,  2.18s/it]\n",
      "Training (615 / 18000 Steps) (loss=0.74275): 100%|██████████| 7/7 [00:15<00:00,  2.17s/it]\n",
      "Training (622 / 18000 Steps) (loss=0.73527): 100%|██████████| 7/7 [00:15<00:00,  2.16s/it]\n",
      "Training (629 / 18000 Steps) (loss=0.83194): 100%|██████████| 7/7 [00:15<00:00,  2.19s/it]\n",
      "Training (636 / 18000 Steps) (loss=0.69691): 100%|██████████| 7/7 [00:15<00:00,  2.18s/it]\n",
      "Training (643 / 18000 Steps) (loss=0.73304): 100%|██████████| 7/7 [00:15<00:00,  2.22s/it]\n",
      "Training (650 / 18000 Steps) (loss=0.70157): 100%|██████████| 7/7 [00:15<00:00,  2.22s/it]\n",
      "Training (657 / 18000 Steps) (loss=0.77444): 100%|██████████| 7/7 [00:15<00:00,  2.17s/it]\n",
      "Training (664 / 18000 Steps) (loss=0.71832): 100%|██████████| 7/7 [00:15<00:00,  2.19s/it]\n",
      "Training (671 / 18000 Steps) (loss=0.70900): 100%|██████████| 7/7 [00:15<00:00,  2.18s/it]\n",
      "Training (678 / 18000 Steps) (loss=0.75390): 100%|██████████| 7/7 [00:14<00:00,  2.14s/it]\n",
      "Training (685 / 18000 Steps) (loss=0.71967): 100%|██████████| 7/7 [00:15<00:00,  2.20s/it]\n",
      "Training (692 / 18000 Steps) (loss=0.76799): 100%|██████████| 7/7 [00:15<00:00,  2.20s/it]\n",
      "Training (699 / 18000 Steps) (loss=0.83221): 100%|██████████| 7/7 [00:15<00:00,  2.17s/it]\n",
      "Validate (700 / 10 Steps): 100%|██████████| 2/2 [00:08<00:00,  4.29s/it]<?, ?it/s]\n",
      "Training (700 / 18000 Steps) (loss=0.89991):  14%|█▍        | 1/7 [00:14<01:26, 14.39s/it]"
     ]
    },
    {
     "name": "stdout",
     "output_type": "stream",
     "text": [
      "Model Was Saved ! Current Best Avg. Dice: 0.0321098193526268 Current Avg. Dice: 0.0321098193526268 Current Avg. tumor Dice: 0.0642196387052536 Current Avg. lymph Dice: 0.0\n"
     ]
    },
    {
     "name": "stderr",
     "output_type": "stream",
     "text": [
      "Training (706 / 18000 Steps) (loss=0.73737): 100%|██████████| 7/7 [00:24<00:00,  3.53s/it]\n",
      "Training (713 / 18000 Steps) (loss=0.71037): 100%|██████████| 7/7 [00:15<00:00,  2.19s/it]\n",
      "Training (720 / 18000 Steps) (loss=0.77506): 100%|██████████| 7/7 [00:14<00:00,  2.12s/it]\n",
      "Training (727 / 18000 Steps) (loss=0.72630): 100%|██████████| 7/7 [00:15<00:00,  2.16s/it]\n",
      "Training (734 / 18000 Steps) (loss=0.68872): 100%|██████████| 7/7 [00:15<00:00,  2.19s/it]\n",
      "Training (741 / 18000 Steps) (loss=0.70735): 100%|██████████| 7/7 [00:15<00:00,  2.19s/it]\n",
      "Training (748 / 18000 Steps) (loss=0.69355): 100%|██████████| 7/7 [00:15<00:00,  2.18s/it]\n",
      "Training (755 / 18000 Steps) (loss=0.83004): 100%|██████████| 7/7 [00:14<00:00,  2.13s/it]\n",
      "Training (762 / 18000 Steps) (loss=0.74623): 100%|██████████| 7/7 [00:15<00:00,  2.17s/it]\n",
      "Training (769 / 18000 Steps) (loss=0.77343): 100%|██████████| 7/7 [00:14<00:00,  2.12s/it]\n",
      "Training (776 / 18000 Steps) (loss=0.73436): 100%|██████████| 7/7 [00:15<00:00,  2.18s/it]\n",
      "Training (783 / 18000 Steps) (loss=0.66735): 100%|██████████| 7/7 [00:15<00:00,  2.20s/it]\n",
      "Training (790 / 18000 Steps) (loss=0.72019): 100%|██████████| 7/7 [00:15<00:00,  2.16s/it]\n",
      "Training (797 / 18000 Steps) (loss=0.70588): 100%|██████████| 7/7 [00:15<00:00,  2.17s/it]\n",
      "Validate (798 / 10 Steps): 100%|██████████| 2/2 [00:08<00:00,  4.21s/it]<00:15,  3.15s/it]\n",
      "Training (800 / 18000 Steps) (loss=0.83666):  43%|████▎     | 3/7 [00:17<00:27,  6.80s/it]"
     ]
    },
    {
     "name": "stdout",
     "output_type": "stream",
     "text": [
      "Model Was Saved ! Current Best Avg. Dice: 0.03538471832871437 Current Avg. Dice: 0.03538471832871437 Current Avg. tumor Dice: 0.06910211592912674 Current Avg. lymph Dice: 0.001667315955273807\n"
     ]
    },
    {
     "name": "stderr",
     "output_type": "stream",
     "text": [
      "Training (804 / 18000 Steps) (loss=0.73826): 100%|██████████| 7/7 [00:24<00:00,  3.51s/it]\n",
      "Training (811 / 18000 Steps) (loss=0.73353): 100%|██████████| 7/7 [00:15<00:00,  2.18s/it]\n",
      "Training (818 / 18000 Steps) (loss=0.66666): 100%|██████████| 7/7 [00:15<00:00,  2.20s/it]\n",
      "Training (825 / 18000 Steps) (loss=0.71451): 100%|██████████| 7/7 [00:15<00:00,  2.18s/it]\n",
      "Training (832 / 18000 Steps) (loss=0.67285): 100%|██████████| 7/7 [00:15<00:00,  2.20s/it]\n",
      "Training (839 / 18000 Steps) (loss=0.69708): 100%|██████████| 7/7 [00:15<00:00,  2.16s/it]\n",
      "Training (846 / 18000 Steps) (loss=0.68549): 100%|██████████| 7/7 [00:15<00:00,  2.16s/it]\n",
      "Training (853 / 18000 Steps) (loss=0.64510): 100%|██████████| 7/7 [00:15<00:00,  2.18s/it]\n",
      "Training (860 / 18000 Steps) (loss=0.80551): 100%|██████████| 7/7 [00:15<00:00,  2.15s/it]\n",
      "Training (867 / 18000 Steps) (loss=0.70387): 100%|██████████| 7/7 [00:15<00:00,  2.19s/it]\n",
      "Training (874 / 18000 Steps) (loss=0.70091): 100%|██████████| 7/7 [00:15<00:00,  2.14s/it]\n",
      "Training (881 / 18000 Steps) (loss=0.71894): 100%|██████████| 7/7 [00:14<00:00,  2.14s/it]\n",
      "Training (888 / 18000 Steps) (loss=0.76297): 100%|██████████| 7/7 [00:15<00:00,  2.14s/it]\n",
      "Training (895 / 18000 Steps) (loss=0.68233): 100%|██████████| 7/7 [00:15<00:00,  2.18s/it]\n",
      "Validate (896 / 10 Steps): 100%|██████████| 2/2 [00:08<00:00,  4.38s/it]<00:06,  2.26s/it]\n",
      "Training (900 / 18000 Steps) (loss=0.68231):  71%|███████▏  | 5/7 [00:21<00:11,  5.62s/it]"
     ]
    },
    {
     "name": "stdout",
     "output_type": "stream",
     "text": [
      "Model Was Saved ! Current Best Avg. Dice: 0.04959387332201004 Current Avg. Dice: 0.04959387332201004 Current Avg. tumor Dice: 0.07175525277853012 Current Avg. lymph Dice: 0.027432488277554512\n"
     ]
    },
    {
     "name": "stderr",
     "output_type": "stream",
     "text": [
      "Training (902 / 18000 Steps) (loss=0.66664): 100%|██████████| 7/7 [00:25<00:00,  3.57s/it]\n",
      "Training (909 / 18000 Steps) (loss=0.67693): 100%|██████████| 7/7 [00:15<00:00,  2.17s/it]\n",
      "Training (916 / 18000 Steps) (loss=0.75678): 100%|██████████| 7/7 [00:15<00:00,  2.15s/it]\n",
      "Training (923 / 18000 Steps) (loss=0.68224): 100%|██████████| 7/7 [00:15<00:00,  2.25s/it]\n",
      "Training (930 / 18000 Steps) (loss=0.68623): 100%|██████████| 7/7 [00:15<00:00,  2.17s/it]\n",
      "Training (937 / 18000 Steps) (loss=0.67795): 100%|██████████| 7/7 [00:15<00:00,  2.18s/it]\n",
      "Training (944 / 18000 Steps) (loss=0.66959): 100%|██████████| 7/7 [00:15<00:00,  2.21s/it]\n",
      "Training (951 / 18000 Steps) (loss=0.63396): 100%|██████████| 7/7 [00:15<00:00,  2.20s/it]\n",
      "Training (958 / 18000 Steps) (loss=0.68918): 100%|██████████| 7/7 [00:15<00:00,  2.22s/it]\n",
      "Training (965 / 18000 Steps) (loss=0.77600): 100%|██████████| 7/7 [00:15<00:00,  2.14s/it]\n",
      "Training (972 / 18000 Steps) (loss=0.76063): 100%|██████████| 7/7 [00:15<00:00,  2.22s/it]\n",
      "Training (979 / 18000 Steps) (loss=0.66642): 100%|██████████| 7/7 [00:15<00:00,  2.20s/it]\n",
      "Training (986 / 18000 Steps) (loss=0.69655): 100%|██████████| 7/7 [00:15<00:00,  2.19s/it]\n",
      "Training (993 / 18000 Steps) (loss=0.67091): 100%|██████████| 7/7 [00:15<00:00,  2.29s/it]\n",
      "Validate (994 / 10 Steps): 100%|██████████| 2/2 [00:08<00:00,  4.28s/it]5<00:02,  2.03s/it]\n",
      "Training (1000 / 18000 Steps) (loss=0.65696): 100%|██████████| 7/7 [00:24<00:00,  3.54s/it]\n"
     ]
    },
    {
     "name": "stdout",
     "output_type": "stream",
     "text": [
      "Model Was Saved ! Current Best Avg. Dice: 0.07291215658187866 Current Avg. Dice: 0.07291215658187866 Current Avg. tumor Dice: 0.09906233847141266 Current Avg. lymph Dice: 0.046761974692344666\n"
     ]
    },
    {
     "name": "stderr",
     "output_type": "stream",
     "text": [
      "Training (1007 / 18000 Steps) (loss=0.69829): 100%|██████████| 7/7 [00:15<00:00,  2.18s/it]\n",
      "Training (1014 / 18000 Steps) (loss=0.68874): 100%|██████████| 7/7 [00:15<00:00,  2.21s/it]\n",
      "Training (1021 / 18000 Steps) (loss=0.68525): 100%|██████████| 7/7 [00:15<00:00,  2.16s/it]\n",
      "Training (1028 / 18000 Steps) (loss=0.66309): 100%|██████████| 7/7 [00:15<00:00,  2.18s/it]\n",
      "Training (1035 / 18000 Steps) (loss=0.69039): 100%|██████████| 7/7 [00:15<00:00,  2.19s/it]\n",
      "Training (1042 / 18000 Steps) (loss=0.67901): 100%|██████████| 7/7 [00:15<00:00,  2.20s/it]\n",
      "Training (1049 / 18000 Steps) (loss=0.73024): 100%|██████████| 7/7 [00:15<00:00,  2.17s/it]\n",
      "Training (1056 / 18000 Steps) (loss=0.70535): 100%|██████████| 7/7 [00:15<00:00,  2.21s/it]\n",
      "Training (1063 / 18000 Steps) (loss=0.66706): 100%|██████████| 7/7 [00:15<00:00,  2.19s/it]\n",
      "Training (1070 / 18000 Steps) (loss=0.64383): 100%|██████████| 7/7 [00:15<00:00,  2.15s/it]\n",
      "Training (1077 / 18000 Steps) (loss=0.81142): 100%|██████████| 7/7 [00:15<00:00,  2.17s/it]\n",
      "Training (1084 / 18000 Steps) (loss=0.66573): 100%|██████████| 7/7 [00:14<00:00,  2.14s/it]\n",
      "Training (1091 / 18000 Steps) (loss=0.69554): 100%|██████████| 7/7 [00:15<00:00,  2.17s/it]\n",
      "Training (1098 / 18000 Steps) (loss=0.73424): 100%|██████████| 7/7 [00:14<00:00,  2.14s/it]\n",
      "Validate (1099 / 10 Steps): 100%|██████████| 2/2 [00:08<00:00,  4.26s/it]<00:29,  4.88s/it]\n",
      "Training (1100 / 18000 Steps) (loss=0.65043):  29%|██▊       | 2/7 [00:16<00:43,  8.69s/it]"
     ]
    },
    {
     "name": "stdout",
     "output_type": "stream",
     "text": [
      "Model Was Saved ! Current Best Avg. Dice: 0.11997455358505249 Current Avg. Dice: 0.11997455358505249 Current Avg. tumor Dice: 0.16433632373809814 Current Avg. lymph Dice: 0.07561276853084564\n"
     ]
    },
    {
     "name": "stderr",
     "output_type": "stream",
     "text": [
      "Training (1105 / 18000 Steps) (loss=0.59391): 100%|██████████| 7/7 [00:24<00:00,  3.56s/it]\n",
      "Training (1112 / 18000 Steps) (loss=0.68204): 100%|██████████| 7/7 [00:15<00:00,  2.15s/it]\n",
      "Training (1119 / 18000 Steps) (loss=0.61475): 100%|██████████| 7/7 [00:14<00:00,  2.14s/it]\n",
      "Training (1126 / 18000 Steps) (loss=0.66553): 100%|██████████| 7/7 [00:15<00:00,  2.20s/it]\n",
      "Training (1133 / 18000 Steps) (loss=0.59041): 100%|██████████| 7/7 [00:15<00:00,  2.19s/it]\n",
      "Training (1140 / 18000 Steps) (loss=0.57855): 100%|██████████| 7/7 [00:15<00:00,  2.22s/it]\n",
      "Training (1147 / 18000 Steps) (loss=0.70355): 100%|██████████| 7/7 [00:15<00:00,  2.22s/it]\n",
      "Training (1154 / 18000 Steps) (loss=0.57579): 100%|██████████| 7/7 [00:15<00:00,  2.18s/it]\n",
      "Training (1161 / 18000 Steps) (loss=0.76066): 100%|██████████| 7/7 [00:15<00:00,  2.19s/it]\n",
      "Training (1168 / 18000 Steps) (loss=0.60249): 100%|██████████| 7/7 [00:15<00:00,  2.22s/it]\n",
      "Training (1175 / 18000 Steps) (loss=0.68437): 100%|██████████| 7/7 [00:15<00:00,  2.24s/it]\n",
      "Training (1182 / 18000 Steps) (loss=0.67685): 100%|██████████| 7/7 [00:15<00:00,  2.20s/it]\n",
      "Training (1189 / 18000 Steps) (loss=0.65475): 100%|██████████| 7/7 [00:15<00:00,  2.17s/it]\n",
      "Training (1196 / 18000 Steps) (loss=0.71223): 100%|██████████| 7/7 [00:15<00:00,  2.22s/it]\n",
      "Validate (1197 / 10 Steps): 100%|██████████| 2/2 [00:08<00:00,  4.24s/it]<00:10,  2.50s/it]\n",
      "Training (1200 / 18000 Steps) (loss=0.72436):  57%|█████▋    | 4/7 [00:18<00:16,  5.64s/it]"
     ]
    },
    {
     "name": "stdout",
     "output_type": "stream",
     "text": [
      "Model Was Not Saved ! Current Best Avg. Dice: 0.11997455358505249 Current Avg. Dice: 0.06429346650838852 Current Avg. tumor Dice: 0.047001730650663376 Current Avg. lymph Dice: 0.08158521354198456\n"
     ]
    },
    {
     "name": "stderr",
     "output_type": "stream",
     "text": [
      "Training (1203 / 18000 Steps) (loss=0.61353): 100%|██████████| 7/7 [00:23<00:00,  3.41s/it]\n",
      "Training (1210 / 18000 Steps) (loss=0.72462): 100%|██████████| 7/7 [00:15<00:00,  2.22s/it]\n",
      "Training (1217 / 18000 Steps) (loss=0.68483): 100%|██████████| 7/7 [00:15<00:00,  2.17s/it]\n",
      "Training (1224 / 18000 Steps) (loss=0.68128): 100%|██████████| 7/7 [00:15<00:00,  2.22s/it]\n",
      "Training (1231 / 18000 Steps) (loss=0.66456): 100%|██████████| 7/7 [00:15<00:00,  2.18s/it]\n",
      "Training (1238 / 18000 Steps) (loss=0.57660): 100%|██████████| 7/7 [00:15<00:00,  2.27s/it]\n",
      "Training (1245 / 18000 Steps) (loss=0.48612): 100%|██████████| 7/7 [00:15<00:00,  2.18s/it]\n",
      "Training (1252 / 18000 Steps) (loss=0.65628): 100%|██████████| 7/7 [00:15<00:00,  2.19s/it]\n",
      "Training (1259 / 18000 Steps) (loss=0.68326): 100%|██████████| 7/7 [00:15<00:00,  2.21s/it]\n",
      "Training (1266 / 18000 Steps) (loss=0.69576): 100%|██████████| 7/7 [00:15<00:00,  2.17s/it]\n",
      "Training (1273 / 18000 Steps) (loss=0.61531): 100%|██████████| 7/7 [00:15<00:00,  2.19s/it]\n",
      "Training (1280 / 18000 Steps) (loss=0.60358): 100%|██████████| 7/7 [00:15<00:00,  2.22s/it]\n",
      "Training (1287 / 18000 Steps) (loss=0.79062): 100%|██████████| 7/7 [00:16<00:00,  2.29s/it]\n",
      "Training (1294 / 18000 Steps) (loss=0.68043): 100%|██████████| 7/7 [00:15<00:00,  2.21s/it]\n",
      "Validate (1295 / 10 Steps): 100%|██████████| 2/2 [00:08<00:00,  4.28s/it]<00:04,  2.15s/it]\n",
      "Training (1300 / 18000 Steps) (loss=0.73171):  86%|████████▌ | 6/7 [00:22<00:04,  4.98s/it]"
     ]
    },
    {
     "name": "stdout",
     "output_type": "stream",
     "text": [
      "Model Was Not Saved ! Current Best Avg. Dice: 0.11997455358505249 Current Avg. Dice: 0.0811600610613823 Current Avg. tumor Dice: 0.12709006667137146 Current Avg. lymph Dice: 0.03523004427552223\n"
     ]
    },
    {
     "name": "stderr",
     "output_type": "stream",
     "text": [
      "Training (1301 / 18000 Steps) (loss=0.66086): 100%|██████████| 7/7 [00:24<00:00,  3.44s/it]\n",
      "Training (1308 / 18000 Steps) (loss=0.65514): 100%|██████████| 7/7 [00:15<00:00,  2.21s/it]\n",
      "Training (1315 / 18000 Steps) (loss=0.65442): 100%|██████████| 7/7 [00:15<00:00,  2.20s/it]\n",
      "Training (1322 / 18000 Steps) (loss=0.68928): 100%|██████████| 7/7 [00:15<00:00,  2.16s/it]\n",
      "Training (1329 / 18000 Steps) (loss=0.66631): 100%|██████████| 7/7 [00:15<00:00,  2.27s/it]\n",
      "Training (1336 / 18000 Steps) (loss=0.74326): 100%|██████████| 7/7 [00:15<00:00,  2.21s/it]\n",
      "Training (1343 / 18000 Steps) (loss=0.63954): 100%|██████████| 7/7 [00:15<00:00,  2.18s/it]\n",
      "Training (1350 / 18000 Steps) (loss=0.69977): 100%|██████████| 7/7 [00:15<00:00,  2.21s/it]\n",
      "Training (1357 / 18000 Steps) (loss=0.69865): 100%|██████████| 7/7 [00:15<00:00,  2.17s/it]\n",
      "Training (1364 / 18000 Steps) (loss=0.67551): 100%|██████████| 7/7 [00:15<00:00,  2.24s/it]\n",
      "Training (1371 / 18000 Steps) (loss=0.70660): 100%|██████████| 7/7 [00:15<00:00,  2.19s/it]\n",
      "Training (1378 / 18000 Steps) (loss=0.59109): 100%|██████████| 7/7 [00:15<00:00,  2.21s/it]\n",
      "Training (1385 / 18000 Steps) (loss=0.64924): 100%|██████████| 7/7 [00:15<00:00,  2.20s/it]\n",
      "Training (1392 / 18000 Steps) (loss=0.69558): 100%|██████████| 7/7 [00:15<00:00,  2.22s/it]\n",
      "Training (1399 / 18000 Steps) (loss=0.51357): 100%|██████████| 7/7 [00:15<00:00,  2.16s/it]\n",
      "Validate (1400 / 10 Steps): 100%|██████████| 2/2 [00:08<00:00,  4.31s/it]<?, ?it/s]\n",
      "Training (1400 / 18000 Steps) (loss=0.63709):  14%|█▍        | 1/7 [00:13<01:20, 13.34s/it]"
     ]
    },
    {
     "name": "stdout",
     "output_type": "stream",
     "text": [
      "Model Was Not Saved ! Current Best Avg. Dice: 0.11997455358505249 Current Avg. Dice: 0.09522078931331635 Current Avg. tumor Dice: 0.11647039651870728 Current Avg. lymph Dice: 0.07397119700908661\n"
     ]
    },
    {
     "name": "stderr",
     "output_type": "stream",
     "text": [
      "Training (1406 / 18000 Steps) (loss=0.55478): 100%|██████████| 7/7 [00:23<00:00,  3.42s/it]\n",
      "Training (1413 / 18000 Steps) (loss=0.55274): 100%|██████████| 7/7 [00:15<00:00,  2.19s/it]\n",
      "Training (1420 / 18000 Steps) (loss=0.62728): 100%|██████████| 7/7 [00:15<00:00,  2.20s/it]\n",
      "Training (1427 / 18000 Steps) (loss=0.59475): 100%|██████████| 7/7 [00:15<00:00,  2.17s/it]\n",
      "Training (1434 / 18000 Steps) (loss=0.63502): 100%|██████████| 7/7 [00:15<00:00,  2.20s/it]\n",
      "Training (1441 / 18000 Steps) (loss=0.58020): 100%|██████████| 7/7 [00:15<00:00,  2.18s/it]\n",
      "Training (1448 / 18000 Steps) (loss=0.65445): 100%|██████████| 7/7 [00:15<00:00,  2.19s/it]\n",
      "Training (1455 / 18000 Steps) (loss=0.61351): 100%|██████████| 7/7 [00:15<00:00,  2.23s/it]\n",
      "Training (1462 / 18000 Steps) (loss=0.63020): 100%|██████████| 7/7 [00:15<00:00,  2.16s/it]\n",
      "Training (1469 / 18000 Steps) (loss=0.56156): 100%|██████████| 7/7 [00:15<00:00,  2.25s/it]\n",
      "Training (1476 / 18000 Steps) (loss=0.64047): 100%|██████████| 7/7 [00:15<00:00,  2.15s/it]\n",
      "Training (1483 / 18000 Steps) (loss=0.66633): 100%|██████████| 7/7 [00:15<00:00,  2.19s/it]\n",
      "Training (1490 / 18000 Steps) (loss=0.63689): 100%|██████████| 7/7 [00:15<00:00,  2.19s/it]\n",
      "Training (1497 / 18000 Steps) (loss=0.61558): 100%|██████████| 7/7 [00:15<00:00,  2.16s/it]\n",
      "Validate (1498 / 10 Steps): 100%|██████████| 2/2 [00:08<00:00,  4.27s/it]<00:16,  3.21s/it]\n",
      "Training (1500 / 18000 Steps) (loss=0.69753):  43%|████▎     | 3/7 [00:18<00:28,  7.01s/it]"
     ]
    },
    {
     "name": "stdout",
     "output_type": "stream",
     "text": [
      "Model Was Saved ! Current Best Avg. Dice: 0.15506061911582947 Current Avg. Dice: 0.15506061911582947 Current Avg. tumor Dice: 0.1671147495508194 Current Avg. lymph Dice: 0.14300647377967834\n"
     ]
    },
    {
     "name": "stderr",
     "output_type": "stream",
     "text": [
      "Training (1504 / 18000 Steps) (loss=0.59799): 100%|██████████| 7/7 [00:25<00:00,  3.59s/it]\n",
      "Training (1511 / 18000 Steps) (loss=0.71123): 100%|██████████| 7/7 [00:14<00:00,  2.14s/it]\n",
      "Training (1518 / 18000 Steps) (loss=0.63719): 100%|██████████| 7/7 [00:15<00:00,  2.14s/it]\n",
      "Training (1525 / 18000 Steps) (loss=0.54076): 100%|██████████| 7/7 [00:15<00:00,  2.17s/it]\n",
      "Training (1532 / 18000 Steps) (loss=0.63015): 100%|██████████| 7/7 [00:14<00:00,  2.13s/it]\n",
      "Training (1539 / 18000 Steps) (loss=0.60042): 100%|██████████| 7/7 [00:15<00:00,  2.19s/it]\n",
      "Training (1546 / 18000 Steps) (loss=0.46602): 100%|██████████| 7/7 [00:15<00:00,  2.20s/it]\n",
      "Training (1553 / 18000 Steps) (loss=0.57514): 100%|██████████| 7/7 [00:15<00:00,  2.16s/it]\n",
      "Training (1560 / 18000 Steps) (loss=0.43893): 100%|██████████| 7/7 [00:15<00:00,  2.20s/it]\n",
      "Training (1567 / 18000 Steps) (loss=0.66449): 100%|██████████| 7/7 [00:15<00:00,  2.16s/it]\n",
      "Training (1574 / 18000 Steps) (loss=0.58139): 100%|██████████| 7/7 [00:14<00:00,  2.14s/it]\n",
      "Training (1581 / 18000 Steps) (loss=0.65979): 100%|██████████| 7/7 [00:15<00:00,  2.20s/it]\n",
      "Training (1588 / 18000 Steps) (loss=0.64666): 100%|██████████| 7/7 [00:15<00:00,  2.26s/it]\n",
      "Training (1595 / 18000 Steps) (loss=0.68451): 100%|██████████| 7/7 [00:15<00:00,  2.21s/it]\n",
      "Validate (1596 / 10 Steps): 100%|██████████| 2/2 [00:08<00:00,  4.32s/it]<00:06,  2.25s/it]\n",
      "Training (1600 / 18000 Steps) (loss=0.60676):  71%|███████▏  | 5/7 [00:21<00:11,  5.55s/it]"
     ]
    },
    {
     "name": "stdout",
     "output_type": "stream",
     "text": [
      "Model Was Saved ! Current Best Avg. Dice: 0.16602854430675507 Current Avg. Dice: 0.16602854430675507 Current Avg. tumor Dice: 0.14736300706863403 Current Avg. lymph Dice: 0.1846940815448761\n"
     ]
    },
    {
     "name": "stderr",
     "output_type": "stream",
     "text": [
      "Training (1602 / 18000 Steps) (loss=0.69066): 100%|██████████| 7/7 [00:24<00:00,  3.54s/it]\n",
      "Training (1609 / 18000 Steps) (loss=0.72328): 100%|██████████| 7/7 [00:15<00:00,  2.21s/it]\n",
      "Training (1616 / 18000 Steps) (loss=0.63163): 100%|██████████| 7/7 [00:15<00:00,  2.23s/it]\n",
      "Training (1623 / 18000 Steps) (loss=0.71378): 100%|██████████| 7/7 [00:15<00:00,  2.15s/it]\n",
      "Training (1630 / 18000 Steps) (loss=0.65668): 100%|██████████| 7/7 [00:15<00:00,  2.21s/it]\n",
      "Training (1637 / 18000 Steps) (loss=0.66352): 100%|██████████| 7/7 [00:15<00:00,  2.18s/it]\n",
      "Training (1644 / 18000 Steps) (loss=0.57500): 100%|██████████| 7/7 [00:15<00:00,  2.19s/it]\n",
      "Training (1651 / 18000 Steps) (loss=0.63741): 100%|██████████| 7/7 [00:15<00:00,  2.21s/it]\n",
      "Training (1658 / 18000 Steps) (loss=0.52974): 100%|██████████| 7/7 [00:15<00:00,  2.17s/it]\n",
      "Training (1665 / 18000 Steps) (loss=0.60242): 100%|██████████| 7/7 [00:15<00:00,  2.18s/it]\n",
      "Training (1672 / 18000 Steps) (loss=0.47587): 100%|██████████| 7/7 [00:15<00:00,  2.16s/it]\n",
      "Training (1679 / 18000 Steps) (loss=0.56213): 100%|██████████| 7/7 [00:15<00:00,  2.17s/it]\n",
      "Training (1686 / 18000 Steps) (loss=0.64267): 100%|██████████| 7/7 [00:15<00:00,  2.25s/it]\n",
      "Training (1693 / 18000 Steps) (loss=0.55269): 100%|██████████| 7/7 [00:15<00:00,  2.18s/it]\n",
      "Validate (1694 / 10 Steps): 100%|██████████| 2/2 [00:08<00:00,  4.26s/it]<00:02,  2.01s/it]\n",
      "Training (1700 / 18000 Steps) (loss=0.62542): 100%|██████████| 7/7 [00:24<00:00,  3.55s/it]\n"
     ]
    },
    {
     "name": "stdout",
     "output_type": "stream",
     "text": [
      "Model Was Saved ! Current Best Avg. Dice: 0.18933916091918945 Current Avg. Dice: 0.18933916091918945 Current Avg. tumor Dice: 0.1782810389995575 Current Avg. lymph Dice: 0.2003972828388214\n"
     ]
    },
    {
     "name": "stderr",
     "output_type": "stream",
     "text": [
      "Training (1707 / 18000 Steps) (loss=0.64778): 100%|██████████| 7/7 [00:15<00:00,  2.20s/it]\n",
      "Training (1714 / 18000 Steps) (loss=0.63566): 100%|██████████| 7/7 [00:14<00:00,  2.12s/it]\n",
      "Training (1721 / 18000 Steps) (loss=0.60050): 100%|██████████| 7/7 [00:15<00:00,  2.18s/it]\n",
      "Training (1728 / 18000 Steps) (loss=0.55932): 100%|██████████| 7/7 [00:15<00:00,  2.21s/it]\n",
      "Training (1735 / 18000 Steps) (loss=0.61390): 100%|██████████| 7/7 [00:15<00:00,  2.25s/it]\n",
      "Training (1742 / 18000 Steps) (loss=0.64574): 100%|██████████| 7/7 [00:15<00:00,  2.18s/it]\n",
      "Training (1749 / 18000 Steps) (loss=0.59899): 100%|██████████| 7/7 [00:15<00:00,  2.17s/it]\n",
      "Training (1756 / 18000 Steps) (loss=0.55280): 100%|██████████| 7/7 [00:15<00:00,  2.15s/it]\n",
      "Training (1763 / 18000 Steps) (loss=0.43540): 100%|██████████| 7/7 [00:15<00:00,  2.22s/it]\n",
      "Training (1770 / 18000 Steps) (loss=0.58659): 100%|██████████| 7/7 [00:15<00:00,  2.24s/it]\n",
      "Training (1777 / 18000 Steps) (loss=0.55855): 100%|██████████| 7/7 [00:15<00:00,  2.18s/it]\n",
      "Training (1784 / 18000 Steps) (loss=0.70010): 100%|██████████| 7/7 [00:15<00:00,  2.20s/it]\n",
      "Training (1791 / 18000 Steps) (loss=0.48430): 100%|██████████| 7/7 [00:15<00:00,  2.22s/it]\n",
      "Training (1798 / 18000 Steps) (loss=0.56297): 100%|██████████| 7/7 [00:15<00:00,  2.19s/it]\n",
      "Validate (1799 / 10 Steps): 100%|██████████| 2/2 [00:08<00:00,  4.36s/it]<00:28,  4.82s/it]\n",
      "Training (1800 / 18000 Steps) (loss=0.56895):  29%|██▊       | 2/7 [00:15<00:41,  8.23s/it]"
     ]
    },
    {
     "name": "stdout",
     "output_type": "stream",
     "text": [
      "Model Was Not Saved ! Current Best Avg. Dice: 0.18933916091918945 Current Avg. Dice: 0.17405708134174347 Current Avg. tumor Dice: 0.17534948885440826 Current Avg. lymph Dice: 0.17276471853256226\n"
     ]
    },
    {
     "name": "stderr",
     "output_type": "stream",
     "text": [
      "Training (1805 / 18000 Steps) (loss=0.68603): 100%|██████████| 7/7 [00:24<00:00,  3.45s/it]\n",
      "Training (1812 / 18000 Steps) (loss=0.60456): 100%|██████████| 7/7 [00:15<00:00,  2.21s/it]\n",
      "Training (1819 / 18000 Steps) (loss=0.58097): 100%|██████████| 7/7 [00:15<00:00,  2.14s/it]\n",
      "Training (1826 / 18000 Steps) (loss=0.64588): 100%|██████████| 7/7 [00:15<00:00,  2.25s/it]\n",
      "Training (1833 / 18000 Steps) (loss=0.65114): 100%|██████████| 7/7 [00:15<00:00,  2.22s/it]\n",
      "Training (1840 / 18000 Steps) (loss=0.65045): 100%|██████████| 7/7 [00:15<00:00,  2.17s/it]\n",
      "Training (1847 / 18000 Steps) (loss=0.74552): 100%|██████████| 7/7 [00:15<00:00,  2.19s/it]\n",
      "Training (1854 / 18000 Steps) (loss=0.64480): 100%|██████████| 7/7 [00:15<00:00,  2.20s/it]\n",
      "Training (1861 / 18000 Steps) (loss=0.53245): 100%|██████████| 7/7 [00:14<00:00,  2.14s/it]\n",
      "Training (1868 / 18000 Steps) (loss=0.67396): 100%|██████████| 7/7 [00:15<00:00,  2.19s/it]\n",
      "Training (1875 / 18000 Steps) (loss=0.66164): 100%|██████████| 7/7 [00:15<00:00,  2.17s/it]\n",
      "Training (1882 / 18000 Steps) (loss=0.57219): 100%|██████████| 7/7 [00:15<00:00,  2.20s/it]\n",
      "Training (1889 / 18000 Steps) (loss=0.58064): 100%|██████████| 7/7 [00:15<00:00,  2.20s/it]\n",
      "Training (1896 / 18000 Steps) (loss=0.61224): 100%|██████████| 7/7 [00:15<00:00,  2.17s/it]\n",
      "Validate (1897 / 10 Steps): 100%|██████████| 2/2 [00:08<00:00,  4.31s/it]<00:10,  2.58s/it]\n",
      "Training (1900 / 18000 Steps) (loss=0.52144):  57%|█████▋    | 4/7 [00:19<00:17,  5.71s/it]"
     ]
    },
    {
     "name": "stdout",
     "output_type": "stream",
     "text": [
      "Model Was Not Saved ! Current Best Avg. Dice: 0.18933916091918945 Current Avg. Dice: 0.15876448154449463 Current Avg. tumor Dice: 0.11921655386686325 Current Avg. lymph Dice: 0.1983124166727066\n"
     ]
    },
    {
     "name": "stderr",
     "output_type": "stream",
     "text": [
      "Training (1903 / 18000 Steps) (loss=0.60788): 100%|██████████| 7/7 [00:24<00:00,  3.44s/it]\n",
      "Training (1910 / 18000 Steps) (loss=0.56805): 100%|██████████| 7/7 [00:14<00:00,  2.12s/it]\n",
      "Training (1917 / 18000 Steps) (loss=0.71498): 100%|██████████| 7/7 [00:15<00:00,  2.19s/it]\n",
      "Training (1924 / 18000 Steps) (loss=0.65122): 100%|██████████| 7/7 [00:15<00:00,  2.17s/it]\n",
      "Training (1931 / 18000 Steps) (loss=0.48932): 100%|██████████| 7/7 [00:15<00:00,  2.19s/it]\n",
      "Training (1938 / 18000 Steps) (loss=0.61668): 100%|██████████| 7/7 [00:15<00:00,  2.20s/it]\n",
      "Training (1945 / 18000 Steps) (loss=0.49230): 100%|██████████| 7/7 [00:15<00:00,  2.17s/it]\n",
      "Training (1952 / 18000 Steps) (loss=0.62449): 100%|██████████| 7/7 [00:15<00:00,  2.16s/it]\n",
      "Training (1959 / 18000 Steps) (loss=0.57827): 100%|██████████| 7/7 [00:14<00:00,  2.14s/it]\n",
      "Training (1966 / 18000 Steps) (loss=0.68455): 100%|██████████| 7/7 [00:15<00:00,  2.18s/it]\n",
      "Training (1973 / 18000 Steps) (loss=0.60862): 100%|██████████| 7/7 [00:15<00:00,  2.16s/it]\n",
      "Training (1980 / 18000 Steps) (loss=0.63372): 100%|██████████| 7/7 [00:15<00:00,  2.14s/it]\n",
      "Training (1987 / 18000 Steps) (loss=0.61695): 100%|██████████| 7/7 [00:15<00:00,  2.25s/it]\n",
      "Training (1994 / 18000 Steps) (loss=0.57478): 100%|██████████| 7/7 [00:14<00:00,  2.13s/it]\n",
      "Validate (1995 / 10 Steps): 100%|██████████| 2/2 [00:08<00:00,  4.48s/it]<00:04,  2.06s/it]\n",
      "Training (2000 / 18000 Steps) (loss=0.59704):  86%|████████▌ | 6/7 [00:23<00:05,  5.33s/it]"
     ]
    },
    {
     "name": "stdout",
     "output_type": "stream",
     "text": [
      "Model Was Saved ! Current Best Avg. Dice: 0.20722636580467224 Current Avg. Dice: 0.20722636580467224 Current Avg. tumor Dice: 0.19032427668571472 Current Avg. lymph Dice: 0.22412848472595215\n"
     ]
    },
    {
     "name": "stderr",
     "output_type": "stream",
     "text": [
      "Training (2001 / 18000 Steps) (loss=0.54152): 100%|██████████| 7/7 [00:24<00:00,  3.54s/it]\n",
      "Training (2008 / 18000 Steps) (loss=0.64202): 100%|██████████| 7/7 [00:15<00:00,  2.20s/it]\n",
      "Training (2015 / 18000 Steps) (loss=0.54934): 100%|██████████| 7/7 [00:15<00:00,  2.17s/it]\n",
      "Training (2022 / 18000 Steps) (loss=0.66548): 100%|██████████| 7/7 [00:15<00:00,  2.15s/it]\n",
      "Training (2029 / 18000 Steps) (loss=0.84230): 100%|██████████| 7/7 [00:15<00:00,  2.24s/it]\n",
      "Training (2036 / 18000 Steps) (loss=0.57737): 100%|██████████| 7/7 [00:15<00:00,  2.18s/it]\n",
      "Training (2043 / 18000 Steps) (loss=0.63236): 100%|██████████| 7/7 [00:15<00:00,  2.18s/it]\n",
      "Training (2050 / 18000 Steps) (loss=0.69136): 100%|██████████| 7/7 [00:15<00:00,  2.24s/it]\n",
      "Training (2057 / 18000 Steps) (loss=0.63218): 100%|██████████| 7/7 [00:15<00:00,  2.18s/it]\n",
      "Training (2064 / 18000 Steps) (loss=0.59269): 100%|██████████| 7/7 [00:15<00:00,  2.18s/it]\n",
      "Training (2071 / 18000 Steps) (loss=0.74851): 100%|██████████| 7/7 [00:15<00:00,  2.24s/it]\n",
      "Training (2078 / 18000 Steps) (loss=0.66782): 100%|██████████| 7/7 [00:15<00:00,  2.19s/it]\n",
      "Training (2085 / 18000 Steps) (loss=0.58281): 100%|██████████| 7/7 [00:15<00:00,  2.23s/it]\n",
      "Training (2092 / 18000 Steps) (loss=0.66173): 100%|██████████| 7/7 [00:15<00:00,  2.20s/it]\n",
      "Training (2099 / 18000 Steps) (loss=0.65034): 100%|██████████| 7/7 [00:15<00:00,  2.23s/it]\n",
      "Validate (2100 / 10 Steps): 100%|██████████| 2/2 [00:08<00:00,  4.35s/it]<?, ?it/s]\n",
      "Training (2100 / 18000 Steps) (loss=0.58484):  14%|█▍        | 1/7 [00:13<01:23, 13.92s/it]"
     ]
    },
    {
     "name": "stdout",
     "output_type": "stream",
     "text": [
      "Model Was Not Saved ! Current Best Avg. Dice: 0.20722636580467224 Current Avg. Dice: 0.19235116243362427 Current Avg. tumor Dice: 0.2300429791212082 Current Avg. lymph Dice: 0.15465933084487915\n"
     ]
    },
    {
     "name": "stderr",
     "output_type": "stream",
     "text": [
      "Training (2106 / 18000 Steps) (loss=0.62013): 100%|██████████| 7/7 [00:24<00:00,  3.46s/it]\n",
      "Training (2113 / 18000 Steps) (loss=0.51681): 100%|██████████| 7/7 [00:15<00:00,  2.19s/it]\n",
      "Training (2120 / 18000 Steps) (loss=0.60140): 100%|██████████| 7/7 [00:15<00:00,  2.16s/it]\n",
      "Training (2127 / 18000 Steps) (loss=0.62621): 100%|██████████| 7/7 [00:15<00:00,  2.20s/it]\n",
      "Training (2134 / 18000 Steps) (loss=0.57067): 100%|██████████| 7/7 [00:15<00:00,  2.24s/it]\n",
      "Training (2141 / 18000 Steps) (loss=0.53302): 100%|██████████| 7/7 [00:15<00:00,  2.20s/it]\n",
      "Training (2148 / 18000 Steps) (loss=0.70283): 100%|██████████| 7/7 [00:15<00:00,  2.21s/it]\n",
      "Training (2155 / 18000 Steps) (loss=0.50338): 100%|██████████| 7/7 [00:15<00:00,  2.18s/it]\n",
      "Training (2162 / 18000 Steps) (loss=0.63979): 100%|██████████| 7/7 [00:15<00:00,  2.21s/it]\n",
      "Training (2169 / 18000 Steps) (loss=0.69481): 100%|██████████| 7/7 [00:15<00:00,  2.28s/it]\n",
      "Training (2176 / 18000 Steps) (loss=0.71012): 100%|██████████| 7/7 [00:15<00:00,  2.21s/it]\n",
      "Training (2183 / 18000 Steps) (loss=0.60021): 100%|██████████| 7/7 [00:15<00:00,  2.17s/it]\n",
      "Training (2190 / 18000 Steps) (loss=0.59778): 100%|██████████| 7/7 [00:15<00:00,  2.17s/it]\n",
      "Training (2197 / 18000 Steps) (loss=0.59065): 100%|██████████| 7/7 [00:15<00:00,  2.15s/it]\n",
      "Validate (2198 / 10 Steps): 100%|██████████| 2/2 [00:08<00:00,  4.39s/it]<00:15,  3.07s/it]\n",
      "Training (2200 / 18000 Steps) (loss=0.60343):  43%|████▎     | 3/7 [00:17<00:26,  6.56s/it]"
     ]
    },
    {
     "name": "stdout",
     "output_type": "stream",
     "text": [
      "Model Was Not Saved ! Current Best Avg. Dice: 0.20722636580467224 Current Avg. Dice: 0.17663276195526123 Current Avg. tumor Dice: 0.15169793367385864 Current Avg. lymph Dice: 0.20156756043434143\n"
     ]
    },
    {
     "name": "stderr",
     "output_type": "stream",
     "text": [
      "Training (2204 / 18000 Steps) (loss=0.64110): 100%|██████████| 7/7 [00:24<00:00,  3.44s/it]\n",
      "Training (2211 / 18000 Steps) (loss=0.65117): 100%|██████████| 7/7 [00:15<00:00,  2.17s/it]\n",
      "Training (2218 / 18000 Steps) (loss=0.47487): 100%|██████████| 7/7 [00:15<00:00,  2.18s/it]\n",
      "Training (2225 / 18000 Steps) (loss=0.73587): 100%|██████████| 7/7 [00:15<00:00,  2.18s/it]\n",
      "Training (2232 / 18000 Steps) (loss=0.64811): 100%|██████████| 7/7 [00:15<00:00,  2.16s/it]\n",
      "Training (2239 / 18000 Steps) (loss=0.56465): 100%|██████████| 7/7 [00:14<00:00,  2.13s/it]\n",
      "Training (2246 / 18000 Steps) (loss=0.56527): 100%|██████████| 7/7 [00:15<00:00,  2.16s/it]\n",
      "Training (2253 / 18000 Steps) (loss=0.60277): 100%|██████████| 7/7 [00:15<00:00,  2.19s/it]\n",
      "Training (2260 / 18000 Steps) (loss=0.57127): 100%|██████████| 7/7 [00:15<00:00,  2.16s/it]\n",
      "Training (2267 / 18000 Steps) (loss=0.59028): 100%|██████████| 7/7 [00:15<00:00,  2.18s/it]\n",
      "Training (2274 / 18000 Steps) (loss=0.58569): 100%|██████████| 7/7 [00:15<00:00,  2.17s/it]\n",
      "Training (2281 / 18000 Steps) (loss=0.51384): 100%|██████████| 7/7 [00:15<00:00,  2.21s/it]\n",
      "Training (2288 / 18000 Steps) (loss=0.67207): 100%|██████████| 7/7 [00:15<00:00,  2.19s/it]\n",
      "Training (2295 / 18000 Steps) (loss=0.68555): 100%|██████████| 7/7 [00:15<00:00,  2.16s/it]\n",
      "Validate (2296 / 10 Steps): 100%|██████████| 2/2 [00:08<00:00,  4.43s/it]<00:06,  2.22s/it]\n",
      "Training (2300 / 18000 Steps) (loss=0.55925):  71%|███████▏  | 5/7 [00:20<00:10,  5.28s/it]"
     ]
    },
    {
     "name": "stdout",
     "output_type": "stream",
     "text": [
      "Model Was Not Saved ! Current Best Avg. Dice: 0.20722636580467224 Current Avg. Dice: 0.19790524244308472 Current Avg. tumor Dice: 0.21375955641269684 Current Avg. lymph Dice: 0.1820509135723114\n"
     ]
    },
    {
     "name": "stderr",
     "output_type": "stream",
     "text": [
      "Training (2302 / 18000 Steps) (loss=0.67054): 100%|██████████| 7/7 [00:23<00:00,  3.42s/it]\n",
      "Training (2309 / 18000 Steps) (loss=0.56513): 100%|██████████| 7/7 [00:14<00:00,  2.14s/it]\n",
      "Training (2316 / 18000 Steps) (loss=0.59735): 100%|██████████| 7/7 [00:15<00:00,  2.17s/it]\n",
      "Training (2323 / 18000 Steps) (loss=0.56059): 100%|██████████| 7/7 [00:15<00:00,  2.23s/it]\n",
      "Training (2330 / 18000 Steps) (loss=0.57638): 100%|██████████| 7/7 [00:15<00:00,  2.17s/it]\n",
      "Training (2337 / 18000 Steps) (loss=0.48721): 100%|██████████| 7/7 [00:15<00:00,  2.19s/it]\n",
      "Training (2344 / 18000 Steps) (loss=0.79533): 100%|██████████| 7/7 [00:14<00:00,  2.14s/it]\n",
      "Training (2351 / 18000 Steps) (loss=0.60410): 100%|██████████| 7/7 [00:15<00:00,  2.18s/it]\n",
      "Training (2358 / 18000 Steps) (loss=0.59604): 100%|██████████| 7/7 [00:15<00:00,  2.19s/it]\n",
      "Training (2365 / 18000 Steps) (loss=0.60808): 100%|██████████| 7/7 [00:15<00:00,  2.16s/it]\n",
      "Training (2372 / 18000 Steps) (loss=0.62901): 100%|██████████| 7/7 [00:15<00:00,  2.26s/it]\n",
      "Training (2379 / 18000 Steps) (loss=0.62245): 100%|██████████| 7/7 [00:15<00:00,  2.16s/it]\n",
      "Training (2386 / 18000 Steps) (loss=0.53812): 100%|██████████| 7/7 [00:15<00:00,  2.15s/it]\n",
      "Training (2393 / 18000 Steps) (loss=0.55499): 100%|██████████| 7/7 [00:15<00:00,  2.20s/it]\n",
      "Validate (2394 / 10 Steps): 100%|██████████| 2/2 [00:08<00:00,  4.41s/it]<00:02,  2.02s/it]\n",
      "Training (2400 / 18000 Steps) (loss=0.49320): 100%|██████████| 7/7 [00:24<00:00,  3.44s/it]\n"
     ]
    },
    {
     "name": "stdout",
     "output_type": "stream",
     "text": [
      "Model Was Not Saved ! Current Best Avg. Dice: 0.20722636580467224 Current Avg. Dice: 0.17857033014297485 Current Avg. tumor Dice: 0.15538270771503448 Current Avg. lymph Dice: 0.20175795257091522\n"
     ]
    },
    {
     "name": "stderr",
     "output_type": "stream",
     "text": [
      "Training (2407 / 18000 Steps) (loss=0.65939): 100%|██████████| 7/7 [00:15<00:00,  2.20s/it]\n",
      "Training (2414 / 18000 Steps) (loss=0.66866): 100%|██████████| 7/7 [00:15<00:00,  2.18s/it]\n",
      "Training (2421 / 18000 Steps) (loss=0.55253): 100%|██████████| 7/7 [00:15<00:00,  2.18s/it]\n",
      "Training (2428 / 18000 Steps) (loss=0.63348): 100%|██████████| 7/7 [00:15<00:00,  2.19s/it]\n",
      "Training (2435 / 18000 Steps) (loss=0.51330): 100%|██████████| 7/7 [00:15<00:00,  2.18s/it]\n",
      "Training (2442 / 18000 Steps) (loss=0.39436): 100%|██████████| 7/7 [00:15<00:00,  2.16s/it]\n",
      "Training (2449 / 18000 Steps) (loss=0.62921): 100%|██████████| 7/7 [00:15<00:00,  2.22s/it]\n",
      "Training (2456 / 18000 Steps) (loss=0.59852): 100%|██████████| 7/7 [00:15<00:00,  2.16s/it]\n",
      "Training (2463 / 18000 Steps) (loss=0.56423): 100%|██████████| 7/7 [00:15<00:00,  2.20s/it]\n",
      "Training (2470 / 18000 Steps) (loss=0.68594): 100%|██████████| 7/7 [00:15<00:00,  2.19s/it]\n",
      "Training (2477 / 18000 Steps) (loss=0.71374): 100%|██████████| 7/7 [00:15<00:00,  2.19s/it]\n",
      "Training (2484 / 18000 Steps) (loss=0.51328): 100%|██████████| 7/7 [00:15<00:00,  2.23s/it]\n",
      "Training (2491 / 18000 Steps) (loss=0.59341): 100%|██████████| 7/7 [00:15<00:00,  2.25s/it]\n",
      "Training (2498 / 18000 Steps) (loss=0.55437): 100%|██████████| 7/7 [00:15<00:00,  2.24s/it]\n",
      "Validate (2499 / 10 Steps): 100%|██████████| 2/2 [00:09<00:00,  4.58s/it]<00:31,  5.18s/it]\n",
      "Training (2500 / 18000 Steps) (loss=0.55934):  29%|██▊       | 2/7 [00:17<00:46,  9.27s/it]"
     ]
    },
    {
     "name": "stdout",
     "output_type": "stream",
     "text": [
      "Model Was Saved ! Current Best Avg. Dice: 0.2350609302520752 Current Avg. Dice: 0.2350609302520752 Current Avg. tumor Dice: 0.2505161464214325 Current Avg. lymph Dice: 0.2196057140827179\n"
     ]
    },
    {
     "name": "stderr",
     "output_type": "stream",
     "text": [
      "Training (2505 / 18000 Steps) (loss=0.63918): 100%|██████████| 7/7 [00:26<00:00,  3.74s/it]\n",
      "Training (2512 / 18000 Steps) (loss=0.58166): 100%|██████████| 7/7 [00:15<00:00,  2.25s/it]\n",
      "Training (2519 / 18000 Steps) (loss=0.62069): 100%|██████████| 7/7 [00:16<00:00,  2.32s/it]\n",
      "Training (2526 / 18000 Steps) (loss=0.61597): 100%|██████████| 7/7 [00:16<00:00,  2.29s/it]\n",
      "Training (2533 / 18000 Steps) (loss=0.68098): 100%|██████████| 7/7 [00:16<00:00,  2.36s/it]\n",
      "Training (2540 / 18000 Steps) (loss=0.44511): 100%|██████████| 7/7 [00:15<00:00,  2.28s/it]\n",
      "Training (2547 / 18000 Steps) (loss=0.62103): 100%|██████████| 7/7 [00:16<00:00,  2.36s/it]\n",
      "Training (2554 / 18000 Steps) (loss=0.67967): 100%|██████████| 7/7 [00:16<00:00,  2.37s/it]\n",
      "Training (2561 / 18000 Steps) (loss=0.44690): 100%|██████████| 7/7 [00:15<00:00,  2.28s/it]\n",
      "Training (2568 / 18000 Steps) (loss=0.59559): 100%|██████████| 7/7 [00:16<00:00,  2.38s/it]\n",
      "Training (2575 / 18000 Steps) (loss=0.64484): 100%|██████████| 7/7 [00:16<00:00,  2.34s/it]\n",
      "Training (2582 / 18000 Steps) (loss=0.56633): 100%|██████████| 7/7 [00:15<00:00,  2.27s/it]\n",
      "Training (2589 / 18000 Steps) (loss=0.68323): 100%|██████████| 7/7 [00:15<00:00,  2.28s/it]\n",
      "Training (2596 / 18000 Steps) (loss=0.57537): 100%|██████████| 7/7 [00:16<00:00,  2.36s/it]\n",
      "Validate (2597 / 10 Steps): 100%|██████████| 2/2 [00:08<00:00,  4.41s/it]<00:10,  2.64s/it]\n",
      "Training (2600 / 18000 Steps) (loss=0.58895):  57%|█████▋    | 4/7 [00:20<00:17,  5.96s/it]"
     ]
    },
    {
     "name": "stdout",
     "output_type": "stream",
     "text": [
      "Model Was Not Saved ! Current Best Avg. Dice: 0.2350609302520752 Current Avg. Dice: 0.21710948646068573 Current Avg. tumor Dice: 0.2122410535812378 Current Avg. lymph Dice: 0.22197791934013367\n"
     ]
    },
    {
     "name": "stderr",
     "output_type": "stream",
     "text": [
      "Training (2603 / 18000 Steps) (loss=0.58411): 100%|██████████| 7/7 [00:25<00:00,  3.61s/it]\n",
      "Training (2610 / 18000 Steps) (loss=0.47151): 100%|██████████| 7/7 [00:15<00:00,  2.25s/it]\n",
      "Training (2617 / 18000 Steps) (loss=0.61144): 100%|██████████| 7/7 [00:16<00:00,  2.31s/it]\n",
      "Training (2624 / 18000 Steps) (loss=0.57882): 100%|██████████| 7/7 [00:16<00:00,  2.34s/it]\n",
      "Training (2631 / 18000 Steps) (loss=0.57908): 100%|██████████| 7/7 [00:16<00:00,  2.29s/it]\n",
      "Training (2638 / 18000 Steps) (loss=0.62433): 100%|██████████| 7/7 [00:16<00:00,  2.30s/it]\n",
      "Training (2645 / 18000 Steps) (loss=0.59531): 100%|██████████| 7/7 [00:16<00:00,  2.31s/it]\n",
      "Training (2652 / 18000 Steps) (loss=0.65783): 100%|██████████| 7/7 [00:16<00:00,  2.32s/it]\n",
      "Training (2659 / 18000 Steps) (loss=0.64051): 100%|██████████| 7/7 [00:16<00:00,  2.33s/it]\n",
      "Training (2666 / 18000 Steps) (loss=0.62445): 100%|██████████| 7/7 [00:16<00:00,  2.34s/it]\n",
      "Training (2673 / 18000 Steps) (loss=0.56090): 100%|██████████| 7/7 [00:16<00:00,  2.34s/it]\n",
      "Training (2680 / 18000 Steps) (loss=0.64339): 100%|██████████| 7/7 [00:16<00:00,  2.31s/it]\n",
      "Training (2687 / 18000 Steps) (loss=0.56646): 100%|██████████| 7/7 [00:16<00:00,  2.29s/it]\n",
      "Training (2694 / 18000 Steps) (loss=0.66989): 100%|██████████| 7/7 [00:16<00:00,  2.32s/it]\n",
      "Validate (2695 / 10 Steps): 100%|██████████| 2/2 [00:08<00:00,  4.45s/it]<00:04,  2.19s/it]\n",
      "Training (2700 / 18000 Steps) (loss=0.61225):  86%|████████▌ | 6/7 [00:23<00:05,  5.13s/it]"
     ]
    },
    {
     "name": "stdout",
     "output_type": "stream",
     "text": [
      "Model Was Not Saved ! Current Best Avg. Dice: 0.2350609302520752 Current Avg. Dice: 0.2128024399280548 Current Avg. tumor Dice: 0.209176167845726 Current Avg. lymph Dice: 0.2164287269115448\n"
     ]
    },
    {
     "name": "stderr",
     "output_type": "stream",
     "text": [
      "Training (2701 / 18000 Steps) (loss=0.54836): 100%|██████████| 7/7 [00:25<00:00,  3.61s/it]\n",
      "Training (2708 / 18000 Steps) (loss=0.52275): 100%|██████████| 7/7 [00:16<00:00,  2.41s/it]\n",
      "Training (2715 / 18000 Steps) (loss=0.70455): 100%|██████████| 7/7 [00:15<00:00,  2.25s/it]\n",
      "Training (2722 / 18000 Steps) (loss=0.44023): 100%|██████████| 7/7 [00:16<00:00,  2.29s/it]\n",
      "Training (2729 / 18000 Steps) (loss=0.70192): 100%|██████████| 7/7 [00:16<00:00,  2.36s/it]\n",
      "Training (2736 / 18000 Steps) (loss=0.69443): 100%|██████████| 7/7 [00:15<00:00,  2.26s/it]\n",
      "Training (2743 / 18000 Steps) (loss=0.55675): 100%|██████████| 7/7 [00:16<00:00,  2.36s/it]\n",
      "Training (2750 / 18000 Steps) (loss=0.56882): 100%|██████████| 7/7 [00:16<00:00,  2.29s/it]\n",
      "Training (2757 / 18000 Steps) (loss=0.64960): 100%|██████████| 7/7 [00:15<00:00,  2.27s/it]\n",
      "Training (2764 / 18000 Steps) (loss=0.67839): 100%|██████████| 7/7 [00:15<00:00,  2.22s/it]\n",
      "Training (2771 / 18000 Steps) (loss=0.65623): 100%|██████████| 7/7 [00:16<00:00,  2.31s/it]\n",
      "Training (2778 / 18000 Steps) (loss=0.58585): 100%|██████████| 7/7 [00:16<00:00,  2.32s/it]\n",
      "Training (2785 / 18000 Steps) (loss=0.66241): 100%|██████████| 7/7 [00:16<00:00,  2.30s/it]\n",
      "Training (2792 / 18000 Steps) (loss=0.68955): 100%|██████████| 7/7 [00:15<00:00,  2.20s/it]\n",
      "Training (2799 / 18000 Steps) (loss=0.57789): 100%|██████████| 7/7 [00:16<00:00,  2.34s/it]\n",
      "Validate (2800 / 10 Steps): 100%|██████████| 2/2 [00:08<00:00,  4.46s/it]<?, ?it/s]\n",
      "Training (2800 / 18000 Steps) (loss=0.46397):  14%|█▍        | 1/7 [00:14<01:24, 14.17s/it]"
     ]
    },
    {
     "name": "stdout",
     "output_type": "stream",
     "text": [
      "Model Was Not Saved ! Current Best Avg. Dice: 0.2350609302520752 Current Avg. Dice: 0.2169732004404068 Current Avg. tumor Dice: 0.1897849291563034 Current Avg. lymph Dice: 0.244161456823349\n"
     ]
    },
    {
     "name": "stderr",
     "output_type": "stream",
     "text": [
      "Training (2806 / 18000 Steps) (loss=0.56174): 100%|██████████| 7/7 [00:24<00:00,  3.55s/it]\n",
      "Training (2813 / 18000 Steps) (loss=0.54842): 100%|██████████| 7/7 [00:16<00:00,  2.36s/it]\n",
      "Training (2820 / 18000 Steps) (loss=0.58497): 100%|██████████| 7/7 [00:15<00:00,  2.28s/it]\n",
      "Training (2827 / 18000 Steps) (loss=0.50825): 100%|██████████| 7/7 [00:16<00:00,  2.29s/it]\n",
      "Training (2834 / 18000 Steps) (loss=0.62935): 100%|██████████| 7/7 [00:16<00:00,  2.35s/it]\n",
      "Training (2841 / 18000 Steps) (loss=0.63372): 100%|██████████| 7/7 [00:15<00:00,  2.25s/it]\n",
      "Training (2848 / 18000 Steps) (loss=0.59199): 100%|██████████| 7/7 [00:16<00:00,  2.29s/it]\n",
      "Training (2855 / 18000 Steps) (loss=0.64973): 100%|██████████| 7/7 [00:15<00:00,  2.23s/it]\n",
      "Training (2862 / 18000 Steps) (loss=0.47724): 100%|██████████| 7/7 [00:16<00:00,  2.33s/it]\n",
      "Training (2869 / 18000 Steps) (loss=0.51284): 100%|██████████| 7/7 [00:16<00:00,  2.33s/it]\n",
      "Training (2876 / 18000 Steps) (loss=0.53656): 100%|██████████| 7/7 [00:16<00:00,  2.35s/it]\n",
      "Training (2883 / 18000 Steps) (loss=0.61150): 100%|██████████| 7/7 [00:16<00:00,  2.33s/it]\n",
      "Training (2890 / 18000 Steps) (loss=0.59974): 100%|██████████| 7/7 [00:16<00:00,  2.39s/it]\n",
      "Training (2897 / 18000 Steps) (loss=0.58030): 100%|██████████| 7/7 [00:16<00:00,  2.39s/it]\n",
      "Validate (2898 / 10 Steps): 100%|██████████| 2/2 [00:09<00:00,  4.62s/it]<00:16,  3.39s/it]\n",
      "Training (2900 / 18000 Steps) (loss=0.59866):  43%|████▎     | 3/7 [00:18<00:28,  7.02s/it]"
     ]
    },
    {
     "name": "stdout",
     "output_type": "stream",
     "text": [
      "Model Was Not Saved ! Current Best Avg. Dice: 0.2350609302520752 Current Avg. Dice: 0.23501339554786682 Current Avg. tumor Dice: 0.24903930723667145 Current Avg. lymph Dice: 0.220987468957901\n"
     ]
    },
    {
     "name": "stderr",
     "output_type": "stream",
     "text": [
      "Training (2904 / 18000 Steps) (loss=0.63279): 100%|██████████| 7/7 [00:26<00:00,  3.77s/it]\n",
      "Training (2911 / 18000 Steps) (loss=0.46802): 100%|██████████| 7/7 [00:16<00:00,  2.38s/it]\n",
      "Training (2918 / 18000 Steps) (loss=0.56620): 100%|██████████| 7/7 [00:16<00:00,  2.41s/it]\n",
      "Training (2925 / 18000 Steps) (loss=0.56458): 100%|██████████| 7/7 [00:17<00:00,  2.43s/it]\n",
      "Training (2932 / 18000 Steps) (loss=0.65950): 100%|██████████| 7/7 [00:17<00:00,  2.45s/it]\n",
      "Training (2939 / 18000 Steps) (loss=0.54535): 100%|██████████| 7/7 [00:16<00:00,  2.32s/it]\n",
      "Training (2946 / 18000 Steps) (loss=0.50852): 100%|██████████| 7/7 [00:16<00:00,  2.39s/it]\n",
      "Training (2953 / 18000 Steps) (loss=0.52397): 100%|██████████| 7/7 [00:17<00:00,  2.45s/it]\n",
      "Training (2960 / 18000 Steps) (loss=0.69417): 100%|██████████| 7/7 [00:16<00:00,  2.36s/it]\n",
      "Training (2967 / 18000 Steps) (loss=0.59800): 100%|██████████| 7/7 [00:16<00:00,  2.42s/it]\n",
      "Training (2974 / 18000 Steps) (loss=0.58420): 100%|██████████| 7/7 [00:16<00:00,  2.39s/it]\n",
      "Training (2981 / 18000 Steps) (loss=0.43564): 100%|██████████| 7/7 [00:16<00:00,  2.38s/it]\n",
      "Training (2988 / 18000 Steps) (loss=0.56282): 100%|██████████| 7/7 [00:17<00:00,  2.45s/it]\n",
      "Training (2995 / 18000 Steps) (loss=0.68884): 100%|██████████| 7/7 [00:16<00:00,  2.33s/it]\n",
      "Validate (2996 / 10 Steps): 100%|██████████| 2/2 [00:09<00:00,  4.59s/it]<00:07,  2.38s/it]\n",
      "Training (3000 / 18000 Steps) (loss=0.46470):  71%|███████▏  | 5/7 [00:24<00:12,  6.34s/it]"
     ]
    },
    {
     "name": "stdout",
     "output_type": "stream",
     "text": [
      "Model Was Saved ! Current Best Avg. Dice: 0.25381505489349365 Current Avg. Dice: 0.25381505489349365 Current Avg. tumor Dice: 0.23122204840183258 Current Avg. lymph Dice: 0.2764080762863159\n"
     ]
    },
    {
     "name": "stderr",
     "output_type": "stream",
     "text": [
      "Training (3002 / 18000 Steps) (loss=0.58916): 100%|██████████| 7/7 [00:27<00:00,  3.98s/it]\n",
      "Training (3009 / 18000 Steps) (loss=0.57364): 100%|██████████| 7/7 [00:16<00:00,  2.41s/it]\n",
      "Training (3016 / 18000 Steps) (loss=0.60345): 100%|██████████| 7/7 [00:16<00:00,  2.30s/it]\n",
      "Training (3023 / 18000 Steps) (loss=0.47174): 100%|██████████| 7/7 [00:16<00:00,  2.36s/it]\n",
      "Training (3030 / 18000 Steps) (loss=0.61645): 100%|██████████| 7/7 [00:16<00:00,  2.39s/it]\n",
      "Training (3037 / 18000 Steps) (loss=0.59985): 100%|██████████| 7/7 [00:16<00:00,  2.35s/it]\n",
      "Training (3044 / 18000 Steps) (loss=0.54083): 100%|██████████| 7/7 [00:16<00:00,  2.35s/it]\n",
      "Training (3051 / 18000 Steps) (loss=0.60315): 100%|██████████| 7/7 [00:16<00:00,  2.41s/it]\n",
      "Training (3058 / 18000 Steps) (loss=0.69424): 100%|██████████| 7/7 [00:17<00:00,  2.45s/it]\n",
      "Training (3065 / 18000 Steps) (loss=0.74851): 100%|██████████| 7/7 [00:16<00:00,  2.36s/it]\n",
      "Training (3072 / 18000 Steps) (loss=0.50867): 100%|██████████| 7/7 [00:16<00:00,  2.32s/it]\n",
      "Training (3079 / 18000 Steps) (loss=0.60735): 100%|██████████| 7/7 [00:16<00:00,  2.35s/it]\n",
      "Training (3086 / 18000 Steps) (loss=0.57226): 100%|██████████| 7/7 [00:17<00:00,  2.44s/it]\n",
      "Training (3093 / 18000 Steps) (loss=0.61350): 100%|██████████| 7/7 [00:16<00:00,  2.34s/it]\n",
      "Validate (3094 / 10 Steps): 100%|██████████| 2/2 [00:09<00:00,  4.77s/it]<00:02,  2.16s/it]\n",
      "Training (3100 / 18000 Steps) (loss=0.60487): 100%|██████████| 7/7 [00:26<00:00,  3.72s/it]\n"
     ]
    },
    {
     "name": "stdout",
     "output_type": "stream",
     "text": [
      "Model Was Not Saved ! Current Best Avg. Dice: 0.25381505489349365 Current Avg. Dice: 0.22307780385017395 Current Avg. tumor Dice: 0.16221192479133606 Current Avg. lymph Dice: 0.28394365310668945\n"
     ]
    },
    {
     "name": "stderr",
     "output_type": "stream",
     "text": [
      "Training (3107 / 18000 Steps) (loss=0.55108): 100%|██████████| 7/7 [00:16<00:00,  2.37s/it]\n",
      "Training (3114 / 18000 Steps) (loss=0.61396): 100%|██████████| 7/7 [00:16<00:00,  2.35s/it]\n",
      "Training (3121 / 18000 Steps) (loss=0.63542): 100%|██████████| 7/7 [00:16<00:00,  2.29s/it]\n",
      "Training (3128 / 18000 Steps) (loss=0.60719): 100%|██████████| 7/7 [00:17<00:00,  2.46s/it]\n",
      "Training (3135 / 18000 Steps) (loss=0.50359): 100%|██████████| 7/7 [00:16<00:00,  2.37s/it]\n",
      "Training (3142 / 18000 Steps) (loss=0.67404): 100%|██████████| 7/7 [00:16<00:00,  2.36s/it]\n",
      "Training (3149 / 18000 Steps) (loss=0.63278): 100%|██████████| 7/7 [00:16<00:00,  2.41s/it]\n",
      "Training (3156 / 18000 Steps) (loss=0.56872): 100%|██████████| 7/7 [00:15<00:00,  2.28s/it]\n",
      "Training (3163 / 18000 Steps) (loss=0.53539): 100%|██████████| 7/7 [00:16<00:00,  2.38s/it]\n",
      "Training (3170 / 18000 Steps) (loss=0.61219): 100%|██████████| 7/7 [00:17<00:00,  2.43s/it]\n",
      "Training (3177 / 18000 Steps) (loss=0.57496): 100%|██████████| 7/7 [00:16<00:00,  2.33s/it]\n",
      "Training (3184 / 18000 Steps) (loss=0.47926): 100%|██████████| 7/7 [00:16<00:00,  2.36s/it]\n",
      "Training (3191 / 18000 Steps) (loss=0.47955): 100%|██████████| 7/7 [00:16<00:00,  2.33s/it]\n",
      "Training (3198 / 18000 Steps) (loss=0.54770): 100%|██████████| 7/7 [00:16<00:00,  2.41s/it]\n",
      "Validate (3199 / 10 Steps): 100%|██████████| 2/2 [00:09<00:00,  4.61s/it]<00:34,  5.70s/it]\n",
      "Training (3200 / 18000 Steps) (loss=0.68084):  29%|██▊       | 2/7 [00:16<00:44,  8.96s/it]"
     ]
    },
    {
     "name": "stdout",
     "output_type": "stream",
     "text": [
      "Model Was Not Saved ! Current Best Avg. Dice: 0.25381505489349365 Current Avg. Dice: 0.1785353422164917 Current Avg. tumor Dice: 0.14574013650417328 Current Avg. lymph Dice: 0.2113305628299713\n"
     ]
    },
    {
     "name": "stderr",
     "output_type": "stream",
     "text": [
      "Training (3205 / 18000 Steps) (loss=0.66589): 100%|██████████| 7/7 [00:26<00:00,  3.73s/it]\n",
      "Training (3212 / 18000 Steps) (loss=0.65578): 100%|██████████| 7/7 [00:16<00:00,  2.34s/it]\n",
      "Training (3219 / 18000 Steps) (loss=0.54066): 100%|██████████| 7/7 [00:16<00:00,  2.38s/it]\n",
      "Training (3226 / 18000 Steps) (loss=0.60739): 100%|██████████| 7/7 [00:16<00:00,  2.35s/it]\n",
      "Training (3233 / 18000 Steps) (loss=0.47353): 100%|██████████| 7/7 [00:16<00:00,  2.35s/it]\n",
      "Training (3240 / 18000 Steps) (loss=0.62282): 100%|██████████| 7/7 [00:16<00:00,  2.38s/it]\n",
      "Training (3247 / 18000 Steps) (loss=0.47867): 100%|██████████| 7/7 [00:16<00:00,  2.38s/it]\n",
      "Training (3254 / 18000 Steps) (loss=0.54011): 100%|██████████| 7/7 [00:17<00:00,  2.44s/it]\n",
      "Training (3261 / 18000 Steps) (loss=0.58515): 100%|██████████| 7/7 [00:16<00:00,  2.38s/it]\n",
      "Training (3268 / 18000 Steps) (loss=0.44289): 100%|██████████| 7/7 [00:17<00:00,  2.44s/it]\n",
      "Training (3275 / 18000 Steps) (loss=0.50743): 100%|██████████| 7/7 [00:16<00:00,  2.33s/it]\n",
      "Training (3282 / 18000 Steps) (loss=0.61523): 100%|██████████| 7/7 [00:16<00:00,  2.37s/it]\n",
      "Training (3289 / 18000 Steps) (loss=0.58971): 100%|██████████| 7/7 [00:16<00:00,  2.35s/it]\n",
      "Training (3296 / 18000 Steps) (loss=0.49576): 100%|██████████| 7/7 [00:16<00:00,  2.37s/it]\n",
      "Validate (3297 / 10 Steps): 100%|██████████| 2/2 [00:08<00:00,  4.42s/it]<00:11,  2.80s/it]\n",
      "Training (3300 / 18000 Steps) (loss=0.65454):  57%|█████▋    | 4/7 [00:20<00:18,  6.01s/it]"
     ]
    },
    {
     "name": "stdout",
     "output_type": "stream",
     "text": [
      "Model Was Not Saved ! Current Best Avg. Dice: 0.25381505489349365 Current Avg. Dice: 0.22723355889320374 Current Avg. tumor Dice: 0.2265368551015854 Current Avg. lymph Dice: 0.22793027758598328\n"
     ]
    },
    {
     "name": "stderr",
     "output_type": "stream",
     "text": [
      "Training (3303 / 18000 Steps) (loss=0.62136): 100%|██████████| 7/7 [00:25<00:00,  3.65s/it]\n",
      "Training (3310 / 18000 Steps) (loss=0.54887): 100%|██████████| 7/7 [00:16<00:00,  2.41s/it]\n",
      "Training (3317 / 18000 Steps) (loss=0.61829): 100%|██████████| 7/7 [00:16<00:00,  2.37s/it]\n",
      "Training (3324 / 18000 Steps) (loss=0.47344): 100%|██████████| 7/7 [00:17<00:00,  2.44s/it]\n",
      "Training (3331 / 18000 Steps) (loss=0.52617): 100%|██████████| 7/7 [00:16<00:00,  2.36s/it]\n",
      "Training (3338 / 18000 Steps) (loss=0.57050): 100%|██████████| 7/7 [00:16<00:00,  2.38s/it]\n",
      "Training (3345 / 18000 Steps) (loss=0.54401): 100%|██████████| 7/7 [00:16<00:00,  2.37s/it]\n",
      "Training (3352 / 18000 Steps) (loss=0.39452): 100%|██████████| 7/7 [00:16<00:00,  2.35s/it]\n",
      "Training (3359 / 18000 Steps) (loss=0.51386): 100%|██████████| 7/7 [00:16<00:00,  2.36s/it]\n",
      "Training (3366 / 18000 Steps) (loss=0.52962): 100%|██████████| 7/7 [00:17<00:00,  2.45s/it]\n",
      "Training (3373 / 18000 Steps) (loss=0.54644): 100%|██████████| 7/7 [00:16<00:00,  2.42s/it]\n",
      "Training (3380 / 18000 Steps) (loss=0.63214): 100%|██████████| 7/7 [00:16<00:00,  2.34s/it]\n",
      "Training (3387 / 18000 Steps) (loss=0.67155): 100%|██████████| 7/7 [00:16<00:00,  2.37s/it]\n",
      "Training (3394 / 18000 Steps) (loss=0.61363): 100%|██████████| 7/7 [00:16<00:00,  2.37s/it]\n",
      "Validate (3395 / 10 Steps): 100%|██████████| 2/2 [00:09<00:00,  4.54s/it]<00:04,  2.44s/it]\n",
      "Training (3400 / 18000 Steps) (loss=0.62937):  86%|████████▌ | 6/7 [00:25<00:05,  5.38s/it]"
     ]
    },
    {
     "name": "stdout",
     "output_type": "stream",
     "text": [
      "Model Was Not Saved ! Current Best Avg. Dice: 0.25381505489349365 Current Avg. Dice: 0.21920013427734375 Current Avg. tumor Dice: 0.2041778713464737 Current Avg. lymph Dice: 0.2342223823070526\n"
     ]
    },
    {
     "name": "stderr",
     "output_type": "stream",
     "text": [
      "Training (3401 / 18000 Steps) (loss=0.54990): 100%|██████████| 7/7 [00:26<00:00,  3.78s/it]\n",
      "Training (3408 / 18000 Steps) (loss=0.60113): 100%|██████████| 7/7 [00:16<00:00,  2.34s/it]\n",
      "Training (3415 / 18000 Steps) (loss=0.55443): 100%|██████████| 7/7 [00:16<00:00,  2.40s/it]\n",
      "Training (3422 / 18000 Steps) (loss=0.62529): 100%|██████████| 7/7 [00:16<00:00,  2.37s/it]\n",
      "Training (3429 / 18000 Steps) (loss=0.67572): 100%|██████████| 7/7 [00:16<00:00,  2.35s/it]\n",
      "Training (3436 / 18000 Steps) (loss=0.63199): 100%|██████████| 7/7 [00:16<00:00,  2.41s/it]\n",
      "Training (3443 / 18000 Steps) (loss=0.65729): 100%|██████████| 7/7 [00:16<00:00,  2.35s/it]\n",
      "Training (3450 / 18000 Steps) (loss=0.58606): 100%|██████████| 7/7 [00:17<00:00,  2.48s/it]\n",
      "Training (3457 / 18000 Steps) (loss=0.51056): 100%|██████████| 7/7 [00:16<00:00,  2.29s/it]\n",
      "Training (3464 / 18000 Steps) (loss=0.46091): 100%|██████████| 7/7 [00:16<00:00,  2.38s/it]\n",
      "Training (3471 / 18000 Steps) (loss=0.36023): 100%|██████████| 7/7 [00:16<00:00,  2.36s/it]\n",
      "Training (3478 / 18000 Steps) (loss=0.49313): 100%|██████████| 7/7 [00:16<00:00,  2.30s/it]\n",
      "Training (3485 / 18000 Steps) (loss=0.56182): 100%|██████████| 7/7 [00:16<00:00,  2.37s/it]\n",
      "Training (3492 / 18000 Steps) (loss=0.56172): 100%|██████████| 7/7 [00:16<00:00,  2.39s/it]\n",
      "Training (3499 / 18000 Steps) (loss=0.51442): 100%|██████████| 7/7 [00:16<00:00,  2.35s/it]\n",
      "Validate (3500 / 10 Steps): 100%|██████████| 2/2 [00:09<00:00,  4.60s/it]<?, ?it/s]\n",
      "Training (3500 / 18000 Steps) (loss=0.52795):  14%|█▍        | 1/7 [00:14<01:28, 14.68s/it]"
     ]
    },
    {
     "name": "stdout",
     "output_type": "stream",
     "text": [
      "Model Was Not Saved ! Current Best Avg. Dice: 0.25381505489349365 Current Avg. Dice: 0.22121062874794006 Current Avg. tumor Dice: 0.22300739586353302 Current Avg. lymph Dice: 0.2194138467311859\n"
     ]
    },
    {
     "name": "stderr",
     "output_type": "stream",
     "text": [
      "Training (3506 / 18000 Steps) (loss=0.46965): 100%|██████████| 7/7 [00:25<00:00,  3.68s/it]\n",
      "Training (3513 / 18000 Steps) (loss=0.48551): 100%|██████████| 7/7 [00:16<00:00,  2.37s/it]\n",
      "Training (3520 / 18000 Steps) (loss=0.56291): 100%|██████████| 7/7 [00:16<00:00,  2.41s/it]\n",
      "Training (3527 / 18000 Steps) (loss=0.56136): 100%|██████████| 7/7 [00:16<00:00,  2.41s/it]\n",
      "Training (3534 / 18000 Steps) (loss=0.59091): 100%|██████████| 7/7 [00:16<00:00,  2.31s/it]\n",
      "Training (3541 / 18000 Steps) (loss=0.46890): 100%|██████████| 7/7 [00:16<00:00,  2.38s/it]\n",
      "Training (3548 / 18000 Steps) (loss=0.58910): 100%|██████████| 7/7 [00:17<00:00,  2.44s/it]\n",
      "Training (3555 / 18000 Steps) (loss=0.60503): 100%|██████████| 7/7 [00:16<00:00,  2.32s/it]\n",
      "Training (3562 / 18000 Steps) (loss=0.45960): 100%|██████████| 7/7 [00:16<00:00,  2.42s/it]\n",
      "Training (3569 / 18000 Steps) (loss=0.70838): 100%|██████████| 7/7 [00:16<00:00,  2.40s/it]\n",
      "Training (3576 / 18000 Steps) (loss=0.60461): 100%|██████████| 7/7 [00:16<00:00,  2.32s/it]\n",
      "Training (3583 / 18000 Steps) (loss=0.52128): 100%|██████████| 7/7 [00:16<00:00,  2.39s/it]\n",
      "Training (3590 / 18000 Steps) (loss=0.60257): 100%|██████████| 7/7 [00:16<00:00,  2.31s/it]\n",
      "Training (3597 / 18000 Steps) (loss=0.57451): 100%|██████████| 7/7 [00:16<00:00,  2.35s/it]\n",
      "Validate (3598 / 10 Steps): 100%|██████████| 2/2 [00:08<00:00,  4.48s/it]<00:17,  3.42s/it]\n",
      "Training (3600 / 18000 Steps) (loss=0.51002):  43%|████▎     | 3/7 [00:18<00:27,  6.83s/it]"
     ]
    },
    {
     "name": "stdout",
     "output_type": "stream",
     "text": [
      "Model Was Not Saved ! Current Best Avg. Dice: 0.25381505489349365 Current Avg. Dice: 0.24750502407550812 Current Avg. tumor Dice: 0.22061534225940704 Current Avg. lymph Dice: 0.274394690990448\n"
     ]
    },
    {
     "name": "stderr",
     "output_type": "stream",
     "text": [
      "Training (3604 / 18000 Steps) (loss=0.61388): 100%|██████████| 7/7 [00:25<00:00,  3.64s/it]\n",
      "Training (3611 / 18000 Steps) (loss=0.54290): 100%|██████████| 7/7 [00:16<00:00,  2.42s/it]\n",
      "Training (3618 / 18000 Steps) (loss=0.62907): 100%|██████████| 7/7 [00:16<00:00,  2.29s/it]\n",
      "Training (3625 / 18000 Steps) (loss=0.58526): 100%|██████████| 7/7 [00:16<00:00,  2.40s/it]\n",
      "Training (3632 / 18000 Steps) (loss=0.58563): 100%|██████████| 7/7 [00:16<00:00,  2.38s/it]\n",
      "Training (3639 / 18000 Steps) (loss=0.48938): 100%|██████████| 7/7 [00:16<00:00,  2.29s/it]\n",
      "Training (3646 / 18000 Steps) (loss=0.64331): 100%|██████████| 7/7 [00:17<00:00,  2.48s/it]\n",
      "Training (3653 / 18000 Steps) (loss=0.67526): 100%|██████████| 7/7 [00:16<00:00,  2.35s/it]\n",
      "Training (3660 / 18000 Steps) (loss=0.59631): 100%|██████████| 7/7 [00:16<00:00,  2.37s/it]\n",
      "Training (3667 / 18000 Steps) (loss=0.52592): 100%|██████████| 7/7 [00:15<00:00,  2.26s/it]\n",
      "Training (3674 / 18000 Steps) (loss=0.54468): 100%|██████████| 7/7 [00:16<00:00,  2.29s/it]\n",
      "Training (3681 / 18000 Steps) (loss=0.43738): 100%|██████████| 7/7 [00:16<00:00,  2.29s/it]\n",
      "Training (3688 / 18000 Steps) (loss=0.57255): 100%|██████████| 7/7 [00:15<00:00,  2.20s/it]\n",
      "Training (3695 / 18000 Steps) (loss=0.38448): 100%|██████████| 7/7 [00:15<00:00,  2.18s/it]\n",
      "Validate (3696 / 10 Steps): 100%|██████████| 2/2 [00:08<00:00,  4.44s/it]<00:06,  2.33s/it]\n",
      "Training (3700 / 18000 Steps) (loss=0.45268):  71%|███████▏  | 5/7 [00:22<00:11,  5.74s/it]"
     ]
    },
    {
     "name": "stdout",
     "output_type": "stream",
     "text": [
      "Model Was Saved ! Current Best Avg. Dice: 0.2646957337856293 Current Avg. Dice: 0.2646957337856293 Current Avg. tumor Dice: 0.22098691761493683 Current Avg. lymph Dice: 0.3084045648574829\n"
     ]
    },
    {
     "name": "stderr",
     "output_type": "stream",
     "text": [
      "Training (3702 / 18000 Steps) (loss=0.63315): 100%|██████████| 7/7 [00:25<00:00,  3.67s/it]\n",
      "Training (3709 / 18000 Steps) (loss=0.55086): 100%|██████████| 7/7 [00:15<00:00,  2.19s/it]\n",
      "Training (3716 / 18000 Steps) (loss=0.57197): 100%|██████████| 7/7 [00:15<00:00,  2.26s/it]\n",
      "Training (3723 / 18000 Steps) (loss=0.61157): 100%|██████████| 7/7 [00:15<00:00,  2.23s/it]\n",
      "Training (3730 / 18000 Steps) (loss=0.53309): 100%|██████████| 7/7 [00:15<00:00,  2.22s/it]\n",
      "Training (3737 / 18000 Steps) (loss=0.61042): 100%|██████████| 7/7 [00:16<00:00,  2.29s/it]\n",
      "Training (3744 / 18000 Steps) (loss=0.48356): 100%|██████████| 7/7 [00:15<00:00,  2.22s/it]\n",
      "Training (3751 / 18000 Steps) (loss=0.64188): 100%|██████████| 7/7 [00:15<00:00,  2.21s/it]\n",
      "Training (3758 / 18000 Steps) (loss=0.60796): 100%|██████████| 7/7 [00:15<00:00,  2.20s/it]\n",
      "Training (3765 / 18000 Steps) (loss=0.63738): 100%|██████████| 7/7 [00:16<00:00,  2.33s/it]\n",
      "Training (3772 / 18000 Steps) (loss=0.59831): 100%|██████████| 7/7 [00:15<00:00,  2.28s/it]\n",
      "Training (3779 / 18000 Steps) (loss=0.57588): 100%|██████████| 7/7 [00:15<00:00,  2.23s/it]\n",
      "Training (3786 / 18000 Steps) (loss=0.51622): 100%|██████████| 7/7 [00:15<00:00,  2.22s/it]\n",
      "Training (3793 / 18000 Steps) (loss=0.53350): 100%|██████████| 7/7 [00:15<00:00,  2.21s/it]\n",
      "Validate (3794 / 10 Steps): 100%|██████████| 2/2 [00:08<00:00,  4.37s/it]<00:02,  2.04s/it]\n",
      "Training (3800 / 18000 Steps) (loss=0.51170): 100%|██████████| 7/7 [00:24<00:00,  3.46s/it]\n"
     ]
    },
    {
     "name": "stdout",
     "output_type": "stream",
     "text": [
      "Model Was Not Saved ! Current Best Avg. Dice: 0.2646957337856293 Current Avg. Dice: 0.23268212378025055 Current Avg. tumor Dice: 0.22182431817054749 Current Avg. lymph Dice: 0.24353991448879242\n"
     ]
    },
    {
     "name": "stderr",
     "output_type": "stream",
     "text": [
      "Training (3807 / 18000 Steps) (loss=0.53425): 100%|██████████| 7/7 [00:15<00:00,  2.22s/it]\n",
      "Training (3814 / 18000 Steps) (loss=0.55274): 100%|██████████| 7/7 [00:15<00:00,  2.24s/it]\n",
      "Training (3821 / 18000 Steps) (loss=0.54440): 100%|██████████| 7/7 [00:15<00:00,  2.26s/it]\n",
      "Training (3828 / 18000 Steps) (loss=0.46330): 100%|██████████| 7/7 [00:15<00:00,  2.28s/it]\n",
      "Training (3835 / 18000 Steps) (loss=0.60778): 100%|██████████| 7/7 [00:15<00:00,  2.24s/it]\n",
      "Training (3842 / 18000 Steps) (loss=0.43056): 100%|██████████| 7/7 [00:15<00:00,  2.19s/it]\n",
      "Training (3849 / 18000 Steps) (loss=0.39440): 100%|██████████| 7/7 [00:15<00:00,  2.26s/it]\n",
      "Training (3856 / 18000 Steps) (loss=0.57317): 100%|██████████| 7/7 [00:15<00:00,  2.27s/it]\n",
      "Training (3863 / 18000 Steps) (loss=0.57399): 100%|██████████| 7/7 [00:15<00:00,  2.24s/it]\n",
      "Training (3870 / 18000 Steps) (loss=0.60616): 100%|██████████| 7/7 [00:15<00:00,  2.25s/it]\n",
      "Training (3877 / 18000 Steps) (loss=0.54948): 100%|██████████| 7/7 [00:15<00:00,  2.23s/it]\n",
      "Training (3884 / 18000 Steps) (loss=0.50360): 100%|██████████| 7/7 [00:15<00:00,  2.28s/it]\n",
      "Training (3891 / 18000 Steps) (loss=0.55298): 100%|██████████| 7/7 [00:15<00:00,  2.19s/it]\n",
      "Training (3898 / 18000 Steps) (loss=0.57865): 100%|██████████| 7/7 [00:15<00:00,  2.27s/it]\n",
      "Validate (3899 / 10 Steps): 100%|██████████| 2/2 [00:08<00:00,  4.36s/it]<00:31,  5.31s/it]\n",
      "Training (3900 / 18000 Steps) (loss=0.50434):  29%|██▊       | 2/7 [00:15<00:42,  8.44s/it]"
     ]
    },
    {
     "name": "stdout",
     "output_type": "stream",
     "text": [
      "Model Was Not Saved ! Current Best Avg. Dice: 0.2646957337856293 Current Avg. Dice: 0.24060297012329102 Current Avg. tumor Dice: 0.20231129229068756 Current Avg. lymph Dice: 0.27889469265937805\n"
     ]
    },
    {
     "name": "stderr",
     "output_type": "stream",
     "text": [
      "Training (3905 / 18000 Steps) (loss=0.64355): 100%|██████████| 7/7 [00:24<00:00,  3.53s/it]\n",
      "Training (3912 / 18000 Steps) (loss=0.58485): 100%|██████████| 7/7 [00:15<00:00,  2.27s/it]\n",
      "Training (3919 / 18000 Steps) (loss=0.64796): 100%|██████████| 7/7 [00:15<00:00,  2.20s/it]\n",
      "Training (3926 / 18000 Steps) (loss=0.49308): 100%|██████████| 7/7 [00:15<00:00,  2.28s/it]\n",
      "Training (3933 / 18000 Steps) (loss=0.61615): 100%|██████████| 7/7 [00:15<00:00,  2.19s/it]\n",
      "Training (3940 / 18000 Steps) (loss=0.44012): 100%|██████████| 7/7 [00:15<00:00,  2.25s/it]\n",
      "Training (3947 / 18000 Steps) (loss=0.58354): 100%|██████████| 7/7 [00:15<00:00,  2.23s/it]\n",
      "Training (3954 / 18000 Steps) (loss=0.61181): 100%|██████████| 7/7 [00:15<00:00,  2.27s/it]\n",
      "Training (3961 / 18000 Steps) (loss=0.54934): 100%|██████████| 7/7 [00:15<00:00,  2.28s/it]\n",
      "Training (3968 / 18000 Steps) (loss=0.51012): 100%|██████████| 7/7 [00:16<00:00,  2.33s/it]\n",
      "Training (3975 / 18000 Steps) (loss=0.69416): 100%|██████████| 7/7 [00:16<00:00,  2.29s/it]\n",
      "Training (3982 / 18000 Steps) (loss=0.48350): 100%|██████████| 7/7 [00:15<00:00,  2.20s/it]\n",
      "Training (3989 / 18000 Steps) (loss=0.53942): 100%|██████████| 7/7 [00:15<00:00,  2.27s/it]\n",
      "Training (3996 / 18000 Steps) (loss=0.48289): 100%|██████████| 7/7 [00:15<00:00,  2.27s/it]\n",
      "Validate (3997 / 10 Steps): 100%|██████████| 2/2 [00:08<00:00,  4.48s/it]<00:10,  2.57s/it]\n",
      "Training (4000 / 18000 Steps) (loss=0.42276):  57%|█████▋    | 4/7 [00:19<00:17,  5.85s/it]"
     ]
    },
    {
     "name": "stdout",
     "output_type": "stream",
     "text": [
      "Model Was Not Saved ! Current Best Avg. Dice: 0.2646957337856293 Current Avg. Dice: 0.24496863782405853 Current Avg. tumor Dice: 0.23172059655189514 Current Avg. lymph Dice: 0.2582166790962219\n"
     ]
    },
    {
     "name": "stderr",
     "output_type": "stream",
     "text": [
      "Training (4003 / 18000 Steps) (loss=0.38587): 100%|██████████| 7/7 [00:25<00:00,  3.59s/it]\n",
      "Training (4010 / 18000 Steps) (loss=0.50049): 100%|██████████| 7/7 [00:15<00:00,  2.21s/it]\n",
      "Training (4017 / 18000 Steps) (loss=0.51431): 100%|██████████| 7/7 [00:15<00:00,  2.22s/it]\n",
      "Training (4024 / 18000 Steps) (loss=0.59944): 100%|██████████| 7/7 [00:15<00:00,  2.26s/it]\n",
      "Training (4031 / 18000 Steps) (loss=0.51800): 100%|██████████| 7/7 [00:15<00:00,  2.22s/it]\n",
      "Training (4038 / 18000 Steps) (loss=0.54131): 100%|██████████| 7/7 [00:15<00:00,  2.25s/it]\n",
      "Training (4045 / 18000 Steps) (loss=0.53187): 100%|██████████| 7/7 [00:15<00:00,  2.26s/it]\n",
      "Training (4052 / 18000 Steps) (loss=0.51324): 100%|██████████| 7/7 [00:16<00:00,  2.30s/it]\n",
      "Training (4059 / 18000 Steps) (loss=0.47876): 100%|██████████| 7/7 [00:15<00:00,  2.22s/it]\n",
      "Training (4066 / 18000 Steps) (loss=0.46097): 100%|██████████| 7/7 [00:15<00:00,  2.21s/it]\n",
      "Training (4073 / 18000 Steps) (loss=0.51917): 100%|██████████| 7/7 [00:15<00:00,  2.21s/it]\n",
      "Training (4080 / 18000 Steps) (loss=0.62363): 100%|██████████| 7/7 [00:15<00:00,  2.19s/it]\n",
      "Training (4087 / 18000 Steps) (loss=0.41592): 100%|██████████| 7/7 [00:15<00:00,  2.18s/it]\n",
      "Training (4094 / 18000 Steps) (loss=0.39864): 100%|██████████| 7/7 [00:15<00:00,  2.23s/it]\n",
      "Validate (4095 / 10 Steps): 100%|██████████| 2/2 [00:08<00:00,  4.29s/it]<00:04,  2.11s/it]\n",
      "Training (4100 / 18000 Steps) (loss=0.51889):  86%|████████▌ | 6/7 [00:22<00:05,  5.03s/it]"
     ]
    },
    {
     "name": "stdout",
     "output_type": "stream",
     "text": [
      "Model Was Not Saved ! Current Best Avg. Dice: 0.2646957337856293 Current Avg. Dice: 0.21782667934894562 Current Avg. tumor Dice: 0.2051493227481842 Current Avg. lymph Dice: 0.23050402104854584\n"
     ]
    },
    {
     "name": "stderr",
     "output_type": "stream",
     "text": [
      "Training (4101 / 18000 Steps) (loss=0.63403): 100%|██████████| 7/7 [00:24<00:00,  3.46s/it]\n",
      "Training (4108 / 18000 Steps) (loss=0.49398): 100%|██████████| 7/7 [00:16<00:00,  2.30s/it]\n",
      "Training (4115 / 18000 Steps) (loss=0.45514): 100%|██████████| 7/7 [00:15<00:00,  2.22s/it]\n",
      "Training (4122 / 18000 Steps) (loss=0.47115): 100%|██████████| 7/7 [00:15<00:00,  2.25s/it]\n",
      "Training (4129 / 18000 Steps) (loss=0.62270): 100%|██████████| 7/7 [00:16<00:00,  2.30s/it]\n",
      "Training (4136 / 18000 Steps) (loss=0.51326): 100%|██████████| 7/7 [00:16<00:00,  2.33s/it]\n",
      "Training (4143 / 18000 Steps) (loss=0.55045): 100%|██████████| 7/7 [00:15<00:00,  2.25s/it]\n",
      "Training (4150 / 18000 Steps) (loss=0.46195): 100%|██████████| 7/7 [00:16<00:00,  2.34s/it]\n",
      "Training (4157 / 18000 Steps) (loss=0.68068): 100%|██████████| 7/7 [00:16<00:00,  2.30s/it]\n",
      "Training (4164 / 18000 Steps) (loss=0.58752): 100%|██████████| 7/7 [00:15<00:00,  2.20s/it]\n",
      "Training (4171 / 18000 Steps) (loss=0.58776): 100%|██████████| 7/7 [00:15<00:00,  2.24s/it]\n",
      "Training (4178 / 18000 Steps) (loss=0.65060): 100%|██████████| 7/7 [00:15<00:00,  2.23s/it]\n",
      "Training (4185 / 18000 Steps) (loss=0.42930): 100%|██████████| 7/7 [00:15<00:00,  2.23s/it]\n",
      "Training (4192 / 18000 Steps) (loss=0.59227): 100%|██████████| 7/7 [00:15<00:00,  2.24s/it]\n",
      "Training (4199 / 18000 Steps) (loss=0.51994): 100%|██████████| 7/7 [00:16<00:00,  2.33s/it]\n",
      "Validate (4200 / 10 Steps): 100%|██████████| 2/2 [00:08<00:00,  4.37s/it]<?, ?it/s]\n",
      "Training (4200 / 18000 Steps) (loss=0.54985):  14%|█▍        | 1/7 [00:13<01:23, 13.98s/it]"
     ]
    },
    {
     "name": "stdout",
     "output_type": "stream",
     "text": [
      "Model Was Not Saved ! Current Best Avg. Dice: 0.2646957337856293 Current Avg. Dice: 0.23427212238311768 Current Avg. tumor Dice: 0.20185263454914093 Current Avg. lymph Dice: 0.2666916251182556\n"
     ]
    },
    {
     "name": "stderr",
     "output_type": "stream",
     "text": [
      "Training (4206 / 18000 Steps) (loss=0.59283): 100%|██████████| 7/7 [00:24<00:00,  3.51s/it]\n",
      "Training (4213 / 18000 Steps) (loss=0.46094): 100%|██████████| 7/7 [00:15<00:00,  2.28s/it]\n",
      "Training (4220 / 18000 Steps) (loss=0.55536): 100%|██████████| 7/7 [00:15<00:00,  2.24s/it]\n",
      "Training (4227 / 18000 Steps) (loss=0.50429): 100%|██████████| 7/7 [00:15<00:00,  2.22s/it]\n",
      "Training (4234 / 18000 Steps) (loss=0.50237): 100%|██████████| 7/7 [00:16<00:00,  2.29s/it]\n",
      "Training (4241 / 18000 Steps) (loss=0.43062): 100%|██████████| 7/7 [00:15<00:00,  2.17s/it]\n",
      "Training (4248 / 18000 Steps) (loss=0.48837): 100%|██████████| 7/7 [00:15<00:00,  2.24s/it]\n",
      "Training (4255 / 18000 Steps) (loss=0.39443): 100%|██████████| 7/7 [00:15<00:00,  2.22s/it]\n",
      "Training (4262 / 18000 Steps) (loss=0.63174): 100%|██████████| 7/7 [00:15<00:00,  2.25s/it]\n",
      "Training (4269 / 18000 Steps) (loss=0.62937): 100%|██████████| 7/7 [00:15<00:00,  2.21s/it]\n",
      "Training (4276 / 18000 Steps) (loss=0.52714): 100%|██████████| 7/7 [00:15<00:00,  2.21s/it]\n",
      "Training (4283 / 18000 Steps) (loss=0.63432): 100%|██████████| 7/7 [00:15<00:00,  2.23s/it]\n",
      "Training (4290 / 18000 Steps) (loss=0.61569): 100%|██████████| 7/7 [00:15<00:00,  2.23s/it]\n",
      "Training (4297 / 18000 Steps) (loss=0.48975): 100%|██████████| 7/7 [00:15<00:00,  2.28s/it]\n",
      "Validate (4298 / 10 Steps): 100%|██████████| 2/2 [00:08<00:00,  4.35s/it]<00:15,  3.09s/it]\n",
      "Training (4300 / 18000 Steps) (loss=0.49184):  43%|████▎     | 3/7 [00:17<00:26,  6.53s/it]"
     ]
    },
    {
     "name": "stdout",
     "output_type": "stream",
     "text": [
      "Model Was Not Saved ! Current Best Avg. Dice: 0.2646957337856293 Current Avg. Dice: 0.203306645154953 Current Avg. tumor Dice: 0.1777622103691101 Current Avg. lymph Dice: 0.2288510799407959\n"
     ]
    },
    {
     "name": "stderr",
     "output_type": "stream",
     "text": [
      "Training (4304 / 18000 Steps) (loss=0.43830): 100%|██████████| 7/7 [00:24<00:00,  3.50s/it]\n",
      "Training (4311 / 18000 Steps) (loss=0.30951): 100%|██████████| 7/7 [00:15<00:00,  2.24s/it]\n",
      "Training (4318 / 18000 Steps) (loss=0.45922): 100%|██████████| 7/7 [00:15<00:00,  2.21s/it]\n",
      "Training (4325 / 18000 Steps) (loss=0.52035): 100%|██████████| 7/7 [00:15<00:00,  2.28s/it]\n",
      "Training (4332 / 18000 Steps) (loss=0.61054): 100%|██████████| 7/7 [00:15<00:00,  2.19s/it]\n",
      "Training (4339 / 18000 Steps) (loss=0.51567): 100%|██████████| 7/7 [00:16<00:00,  2.31s/it]\n",
      "Training (4346 / 18000 Steps) (loss=0.49598): 100%|██████████| 7/7 [00:15<00:00,  2.15s/it]\n",
      "Training (4353 / 18000 Steps) (loss=0.45301): 100%|██████████| 7/7 [00:15<00:00,  2.26s/it]\n",
      "Training (4360 / 18000 Steps) (loss=0.62948): 100%|██████████| 7/7 [00:15<00:00,  2.23s/it]\n",
      "Training (4367 / 18000 Steps) (loss=0.53589): 100%|██████████| 7/7 [00:15<00:00,  2.26s/it]\n",
      "Training (4374 / 18000 Steps) (loss=0.40177): 100%|██████████| 7/7 [00:15<00:00,  2.24s/it]\n",
      "Training (4381 / 18000 Steps) (loss=0.69424): 100%|██████████| 7/7 [00:15<00:00,  2.21s/it]\n",
      "Training (4388 / 18000 Steps) (loss=0.59819): 100%|██████████| 7/7 [00:16<00:00,  2.30s/it]\n",
      "Training (4395 / 18000 Steps) (loss=0.48351): 100%|██████████| 7/7 [00:15<00:00,  2.24s/it]\n",
      "Validate (4396 / 10 Steps): 100%|██████████| 2/2 [00:08<00:00,  4.23s/it]<00:07,  2.34s/it]\n",
      "Training (4400 / 18000 Steps) (loss=0.48631):  71%|███████▏  | 5/7 [00:21<00:10,  5.23s/it]"
     ]
    },
    {
     "name": "stdout",
     "output_type": "stream",
     "text": [
      "Model Was Not Saved ! Current Best Avg. Dice: 0.2646957337856293 Current Avg. Dice: 0.20681118965148926 Current Avg. tumor Dice: 0.1903439164161682 Current Avg. lymph Dice: 0.2232784628868103\n"
     ]
    },
    {
     "name": "stderr",
     "output_type": "stream",
     "text": [
      "Training (4402 / 18000 Steps) (loss=0.59140): 100%|██████████| 7/7 [00:24<00:00,  3.51s/it]\n",
      "Training (4409 / 18000 Steps) (loss=0.50102): 100%|██████████| 7/7 [00:16<00:00,  2.39s/it]\n",
      "Training (4416 / 18000 Steps) (loss=0.62815): 100%|██████████| 7/7 [00:15<00:00,  2.18s/it]\n",
      "Training (4423 / 18000 Steps) (loss=0.50909): 100%|██████████| 7/7 [00:14<00:00,  2.12s/it]\n",
      "Training (4430 / 18000 Steps) (loss=0.38163): 100%|██████████| 7/7 [00:14<00:00,  2.07s/it]\n",
      "Training (4437 / 18000 Steps) (loss=0.45935): 100%|██████████| 7/7 [00:15<00:00,  2.19s/it]\n",
      "Training (4444 / 18000 Steps) (loss=0.42463): 100%|██████████| 7/7 [00:15<00:00,  2.16s/it]\n",
      "Training (4451 / 18000 Steps) (loss=0.61862): 100%|██████████| 7/7 [00:14<00:00,  2.11s/it]\n",
      "Training (4458 / 18000 Steps) (loss=0.54037): 100%|██████████| 7/7 [00:15<00:00,  2.17s/it]\n",
      "Training (4465 / 18000 Steps) (loss=0.41084): 100%|██████████| 7/7 [00:14<00:00,  2.13s/it]\n",
      "Training (4472 / 18000 Steps) (loss=0.46883): 100%|██████████| 7/7 [00:14<00:00,  2.12s/it]\n",
      "Training (4479 / 18000 Steps) (loss=0.49828): 100%|██████████| 7/7 [00:15<00:00,  2.23s/it]\n",
      "Training (4486 / 18000 Steps) (loss=0.48929): 100%|██████████| 7/7 [00:14<00:00,  2.14s/it]\n",
      "Training (4493 / 18000 Steps) (loss=0.48830): 100%|██████████| 7/7 [00:15<00:00,  2.20s/it]\n",
      "Validate (4494 / 10 Steps): 100%|██████████| 2/2 [00:08<00:00,  4.28s/it]<00:01,  1.99s/it]\n",
      "Training (4500 / 18000 Steps) (loss=0.49243): 100%|██████████| 7/7 [00:23<00:00,  3.38s/it]\n"
     ]
    },
    {
     "name": "stdout",
     "output_type": "stream",
     "text": [
      "Model Was Not Saved ! Current Best Avg. Dice: 0.2646957337856293 Current Avg. Dice: 0.21110877394676208 Current Avg. tumor Dice: 0.1971607208251953 Current Avg. lymph Dice: 0.22505685687065125\n"
     ]
    },
    {
     "name": "stderr",
     "output_type": "stream",
     "text": [
      "Training (4507 / 18000 Steps) (loss=0.45850): 100%|██████████| 7/7 [00:15<00:00,  2.18s/it]\n",
      "Training (4514 / 18000 Steps) (loss=0.57885): 100%|██████████| 7/7 [00:14<00:00,  2.12s/it]\n",
      "Training (4521 / 18000 Steps) (loss=0.40830): 100%|██████████| 7/7 [00:14<00:00,  2.14s/it]\n",
      "Training (4528 / 18000 Steps) (loss=0.45944): 100%|██████████| 7/7 [00:15<00:00,  2.18s/it]\n",
      "Training (4535 / 18000 Steps) (loss=0.44560): 100%|██████████| 7/7 [00:15<00:00,  2.21s/it]\n",
      "Training (4542 / 18000 Steps) (loss=0.49762): 100%|██████████| 7/7 [00:14<00:00,  2.13s/it]\n",
      "Training (4549 / 18000 Steps) (loss=0.51863): 100%|██████████| 7/7 [00:15<00:00,  2.16s/it]\n",
      "Training (4556 / 18000 Steps) (loss=0.34750): 100%|██████████| 7/7 [00:14<00:00,  2.12s/it]\n",
      "Training (4563 / 18000 Steps) (loss=0.62735): 100%|██████████| 7/7 [00:15<00:00,  2.21s/it]\n",
      "Training (4570 / 18000 Steps) (loss=0.47202): 100%|██████████| 7/7 [00:15<00:00,  2.16s/it]\n",
      "Training (4577 / 18000 Steps) (loss=0.39014): 100%|██████████| 7/7 [00:14<00:00,  2.11s/it]\n",
      "Training (4584 / 18000 Steps) (loss=0.56109): 100%|██████████| 7/7 [00:14<00:00,  2.12s/it]\n",
      "Training (4591 / 18000 Steps) (loss=0.56974): 100%|██████████| 7/7 [00:15<00:00,  2.14s/it]\n",
      "Training (4598 / 18000 Steps) (loss=0.56678): 100%|██████████| 7/7 [00:15<00:00,  2.15s/it]\n",
      "Validate (4599 / 10 Steps): 100%|██████████| 2/2 [00:08<00:00,  4.27s/it]<00:26,  4.49s/it]\n",
      "Training (4600 / 18000 Steps) (loss=0.62265):  29%|██▊       | 2/7 [00:14<00:39,  7.96s/it]"
     ]
    },
    {
     "name": "stdout",
     "output_type": "stream",
     "text": [
      "Model Was Not Saved ! Current Best Avg. Dice: 0.2646957337856293 Current Avg. Dice: 0.22896718978881836 Current Avg. tumor Dice: 0.20582741498947144 Current Avg. lymph Dice: 0.2521069645881653\n"
     ]
    },
    {
     "name": "stderr",
     "output_type": "stream",
     "text": [
      "Training (4605 / 18000 Steps) (loss=0.61862): 100%|██████████| 7/7 [00:23<00:00,  3.36s/it]\n",
      "Training (4612 / 18000 Steps) (loss=0.61716): 100%|██████████| 7/7 [00:15<00:00,  2.17s/it]\n",
      "Training (4619 / 18000 Steps) (loss=0.52789): 100%|██████████| 7/7 [00:14<00:00,  2.08s/it]\n",
      "Training (4626 / 18000 Steps) (loss=0.59090): 100%|██████████| 7/7 [00:15<00:00,  2.17s/it]\n",
      "Training (4633 / 18000 Steps) (loss=0.50830): 100%|██████████| 7/7 [00:15<00:00,  2.17s/it]\n",
      "Training (4640 / 18000 Steps) (loss=0.55016): 100%|██████████| 7/7 [00:15<00:00,  2.22s/it]\n",
      "Training (4647 / 18000 Steps) (loss=0.57565): 100%|██████████| 7/7 [00:14<00:00,  2.11s/it]\n",
      "Training (4654 / 18000 Steps) (loss=0.56889): 100%|██████████| 7/7 [00:14<00:00,  2.13s/it]\n",
      "Training (4661 / 18000 Steps) (loss=0.51330): 100%|██████████| 7/7 [00:15<00:00,  2.16s/it]\n",
      "Training (4668 / 18000 Steps) (loss=0.60108): 100%|██████████| 7/7 [00:14<00:00,  2.12s/it]\n",
      "Training (4675 / 18000 Steps) (loss=0.58663): 100%|██████████| 7/7 [00:15<00:00,  2.19s/it]\n",
      "Training (4682 / 18000 Steps) (loss=0.39355): 100%|██████████| 7/7 [00:14<00:00,  2.13s/it]\n",
      "Training (4689 / 18000 Steps) (loss=0.69896): 100%|██████████| 7/7 [00:15<00:00,  2.18s/it]\n",
      "Training (4696 / 18000 Steps) (loss=0.58498): 100%|██████████| 7/7 [00:14<00:00,  2.11s/it]\n",
      "Validate (4697 / 10 Steps): 100%|██████████| 2/2 [00:08<00:00,  4.38s/it]<00:09,  2.48s/it]\n",
      "Training (4700 / 18000 Steps) (loss=0.54730):  57%|█████▋    | 4/7 [00:19<00:17,  5.71s/it]"
     ]
    },
    {
     "name": "stdout",
     "output_type": "stream",
     "text": [
      "Model Was Not Saved ! Current Best Avg. Dice: 0.2646957337856293 Current Avg. Dice: 0.26348090171813965 Current Avg. tumor Dice: 0.2706856429576874 Current Avg. lymph Dice: 0.25627613067626953\n"
     ]
    },
    {
     "name": "stderr",
     "output_type": "stream",
     "text": [
      "Training (4703 / 18000 Steps) (loss=0.44175): 100%|██████████| 7/7 [00:23<00:00,  3.42s/it]\n",
      "Training (4710 / 18000 Steps) (loss=0.46709): 100%|██████████| 7/7 [00:14<00:00,  2.11s/it]\n",
      "Training (4717 / 18000 Steps) (loss=0.57102): 100%|██████████| 7/7 [00:15<00:00,  2.21s/it]\n",
      "Training (4724 / 18000 Steps) (loss=0.57736): 100%|██████████| 7/7 [00:14<00:00,  2.13s/it]\n",
      "Training (4731 / 18000 Steps) (loss=0.54516): 100%|██████████| 7/7 [00:15<00:00,  2.15s/it]\n",
      "Training (4738 / 18000 Steps) (loss=0.41982): 100%|██████████| 7/7 [00:15<00:00,  2.16s/it]\n",
      "Training (4745 / 18000 Steps) (loss=0.50708): 100%|██████████| 7/7 [00:15<00:00,  2.15s/it]\n",
      "Training (4752 / 18000 Steps) (loss=0.67385): 100%|██████████| 7/7 [00:14<00:00,  2.12s/it]\n",
      "Training (4759 / 18000 Steps) (loss=0.51769): 100%|██████████| 7/7 [00:14<00:00,  2.09s/it]\n",
      "Training (4766 / 18000 Steps) (loss=0.56157): 100%|██████████| 7/7 [00:15<00:00,  2.19s/it]\n",
      "Training (4773 / 18000 Steps) (loss=0.57691): 100%|██████████| 7/7 [00:14<00:00,  2.14s/it]\n",
      "Training (4780 / 18000 Steps) (loss=0.39640): 100%|██████████| 7/7 [00:14<00:00,  2.13s/it]\n",
      "Training (4787 / 18000 Steps) (loss=0.51881): 100%|██████████| 7/7 [00:15<00:00,  2.15s/it]\n",
      "Training (4794 / 18000 Steps) (loss=0.56413): 100%|██████████| 7/7 [00:14<00:00,  2.12s/it]\n",
      "Validate (4795 / 10 Steps): 100%|██████████| 2/2 [00:08<00:00,  4.43s/it]<00:04,  2.03s/it]\n",
      "Training (4800 / 18000 Steps) (loss=0.55538):  86%|████████▌ | 6/7 [00:22<00:04,  4.99s/it]"
     ]
    },
    {
     "name": "stdout",
     "output_type": "stream",
     "text": [
      "Model Was Not Saved ! Current Best Avg. Dice: 0.2646957337856293 Current Avg. Dice: 0.23915532231330872 Current Avg. tumor Dice: 0.21327878534793854 Current Avg. lymph Dice: 0.2650318443775177\n"
     ]
    },
    {
     "name": "stderr",
     "output_type": "stream",
     "text": [
      "Training (4801 / 18000 Steps) (loss=0.57586): 100%|██████████| 7/7 [00:23<00:00,  3.38s/it]\n",
      "Training (4808 / 18000 Steps) (loss=0.52579): 100%|██████████| 7/7 [00:15<00:00,  2.19s/it]\n",
      "Training (4815 / 18000 Steps) (loss=0.60301): 100%|██████████| 7/7 [00:15<00:00,  2.16s/it]\n",
      "Training (4822 / 18000 Steps) (loss=0.40323): 100%|██████████| 7/7 [00:15<00:00,  2.16s/it]\n",
      "Training (4829 / 18000 Steps) (loss=0.55530): 100%|██████████| 7/7 [00:15<00:00,  2.15s/it]\n",
      "Training (4836 / 18000 Steps) (loss=0.45294): 100%|██████████| 7/7 [00:15<00:00,  2.18s/it]\n",
      "Training (4843 / 18000 Steps) (loss=0.44188): 100%|██████████| 7/7 [00:15<00:00,  2.14s/it]\n",
      "Training (4850 / 18000 Steps) (loss=0.49823): 100%|██████████| 7/7 [00:15<00:00,  2.19s/it]\n",
      "Training (4857 / 18000 Steps) (loss=0.40531): 100%|██████████| 7/7 [00:15<00:00,  2.17s/it]\n",
      "Training (4864 / 18000 Steps) (loss=0.49339): 100%|██████████| 7/7 [00:15<00:00,  2.15s/it]\n",
      "Training (4871 / 18000 Steps) (loss=0.58987): 100%|██████████| 7/7 [00:15<00:00,  2.19s/it]\n",
      "Training (4878 / 18000 Steps) (loss=0.46350): 100%|██████████| 7/7 [00:15<00:00,  2.19s/it]\n",
      "Training (4885 / 18000 Steps) (loss=0.49252): 100%|██████████| 7/7 [00:15<00:00,  2.17s/it]\n",
      "Training (4892 / 18000 Steps) (loss=0.37660): 100%|██████████| 7/7 [00:14<00:00,  2.12s/it]\n",
      "Training (4899 / 18000 Steps) (loss=0.66502): 100%|██████████| 7/7 [00:15<00:00,  2.16s/it]\n",
      "Validate (4900 / 10 Steps): 100%|██████████| 2/2 [00:08<00:00,  4.33s/it]<?, ?it/s]\n",
      "Training (4900 / 18000 Steps) (loss=0.55680):  14%|█▍        | 1/7 [00:13<01:20, 13.48s/it]"
     ]
    },
    {
     "name": "stdout",
     "output_type": "stream",
     "text": [
      "Model Was Not Saved ! Current Best Avg. Dice: 0.2646957337856293 Current Avg. Dice: 0.23659130930900574 Current Avg. tumor Dice: 0.2260853350162506 Current Avg. lymph Dice: 0.24709728360176086\n"
     ]
    },
    {
     "name": "stderr",
     "output_type": "stream",
     "text": [
      "Training (4906 / 18000 Steps) (loss=0.53362): 100%|██████████| 7/7 [00:23<00:00,  3.39s/it]\n",
      "Training (4913 / 18000 Steps) (loss=0.54591): 100%|██████████| 7/7 [00:15<00:00,  2.15s/it]\n",
      "Training (4920 / 18000 Steps) (loss=0.45639): 100%|██████████| 7/7 [00:15<00:00,  2.14s/it]\n",
      "Training (4927 / 18000 Steps) (loss=0.62720): 100%|██████████| 7/7 [00:15<00:00,  2.16s/it]\n",
      "Training (4934 / 18000 Steps) (loss=0.56004): 100%|██████████| 7/7 [00:15<00:00,  2.16s/it]\n",
      "Training (4941 / 18000 Steps) (loss=0.62532): 100%|██████████| 7/7 [00:15<00:00,  2.20s/it]\n",
      "Training (4948 / 18000 Steps) (loss=0.49626): 100%|██████████| 7/7 [00:15<00:00,  2.17s/it]\n",
      "Training (4955 / 18000 Steps) (loss=0.57232): 100%|██████████| 7/7 [00:14<00:00,  2.12s/it]\n",
      "Training (4962 / 18000 Steps) (loss=0.43296): 100%|██████████| 7/7 [00:15<00:00,  2.18s/it]\n",
      "Training (4969 / 18000 Steps) (loss=0.56333): 100%|██████████| 7/7 [00:15<00:00,  2.16s/it]\n",
      "Training (4976 / 18000 Steps) (loss=0.51089): 100%|██████████| 7/7 [00:14<00:00,  2.14s/it]\n",
      "Training (4983 / 18000 Steps) (loss=0.38431): 100%|██████████| 7/7 [00:15<00:00,  2.15s/it]\n",
      "Training (4990 / 18000 Steps) (loss=0.50364): 100%|██████████| 7/7 [00:15<00:00,  2.19s/it]\n",
      "Training (4997 / 18000 Steps) (loss=0.57044): 100%|██████████| 7/7 [00:15<00:00,  2.17s/it]\n",
      "Validate (4998 / 10 Steps): 100%|██████████| 2/2 [00:08<00:00,  4.38s/it]<00:14,  2.94s/it]\n",
      "Training (5000 / 18000 Steps) (loss=0.44750):  43%|████▎     | 3/7 [00:17<00:26,  6.57s/it]"
     ]
    },
    {
     "name": "stdout",
     "output_type": "stream",
     "text": [
      "Model Was Not Saved ! Current Best Avg. Dice: 0.2646957337856293 Current Avg. Dice: 0.2530883848667145 Current Avg. tumor Dice: 0.2656070291996002 Current Avg. lymph Dice: 0.24056971073150635\n"
     ]
    },
    {
     "name": "stderr",
     "output_type": "stream",
     "text": [
      "Training (5004 / 18000 Steps) (loss=0.50009): 100%|██████████| 7/7 [00:23<00:00,  3.42s/it]\n",
      "Training (5011 / 18000 Steps) (loss=0.49197): 100%|██████████| 7/7 [00:14<00:00,  2.13s/it]\n",
      "Training (5018 / 18000 Steps) (loss=0.52148): 100%|██████████| 7/7 [00:14<00:00,  2.13s/it]\n",
      "Training (5025 / 18000 Steps) (loss=0.38111): 100%|██████████| 7/7 [00:15<00:00,  2.19s/it]\n",
      "Training (5032 / 18000 Steps) (loss=0.49921): 100%|██████████| 7/7 [00:15<00:00,  2.19s/it]\n",
      "Training (5039 / 18000 Steps) (loss=0.53077): 100%|██████████| 7/7 [00:14<00:00,  2.13s/it]\n",
      "Training (5046 / 18000 Steps) (loss=0.40468): 100%|██████████| 7/7 [00:14<00:00,  2.11s/it]\n",
      "Training (5053 / 18000 Steps) (loss=0.60002): 100%|██████████| 7/7 [00:15<00:00,  2.17s/it]\n",
      "Training (5060 / 18000 Steps) (loss=0.56029): 100%|██████████| 7/7 [00:14<00:00,  2.10s/it]\n",
      "Training (5067 / 18000 Steps) (loss=0.58987): 100%|██████████| 7/7 [00:14<00:00,  2.09s/it]\n",
      "Training (5074 / 18000 Steps) (loss=0.63682): 100%|██████████| 7/7 [00:15<00:00,  2.25s/it]\n",
      "Training (5081 / 18000 Steps) (loss=0.38403): 100%|██████████| 7/7 [00:15<00:00,  2.15s/it]\n",
      "Training (5088 / 18000 Steps) (loss=0.54882): 100%|██████████| 7/7 [00:14<00:00,  2.14s/it]\n",
      "Training (5095 / 18000 Steps) (loss=0.34097): 100%|██████████| 7/7 [00:14<00:00,  2.13s/it]\n",
      "Validate (5096 / 10 Steps): 100%|██████████| 2/2 [00:08<00:00,  4.27s/it]<00:06,  2.17s/it]\n",
      "Training (5100 / 18000 Steps) (loss=0.63221):  71%|███████▏  | 5/7 [00:20<00:10,  5.13s/it]"
     ]
    },
    {
     "name": "stdout",
     "output_type": "stream",
     "text": [
      "Model Was Not Saved ! Current Best Avg. Dice: 0.2646957337856293 Current Avg. Dice: 0.2444731593132019 Current Avg. tumor Dice: 0.21615079045295715 Current Avg. lymph Dice: 0.27279549837112427\n"
     ]
    },
    {
     "name": "stderr",
     "output_type": "stream",
     "text": [
      "Training (5102 / 18000 Steps) (loss=0.55852): 100%|██████████| 7/7 [00:23<00:00,  3.33s/it]\n",
      "Training (5109 / 18000 Steps) (loss=0.55534): 100%|██████████| 7/7 [00:14<00:00,  2.10s/it]\n",
      "Training (5116 / 18000 Steps) (loss=0.62002): 100%|██████████| 7/7 [00:14<00:00,  2.14s/it]\n",
      "Training (5123 / 18000 Steps) (loss=0.44220): 100%|██████████| 7/7 [00:14<00:00,  2.10s/it]\n",
      "Training (5130 / 18000 Steps) (loss=0.45349): 100%|██████████| 7/7 [00:14<00:00,  2.13s/it]\n",
      "Training (5137 / 18000 Steps) (loss=0.55653): 100%|██████████| 7/7 [00:14<00:00,  2.13s/it]\n",
      "Training (5144 / 18000 Steps) (loss=0.36070): 100%|██████████| 7/7 [00:15<00:00,  2.15s/it]\n",
      "Training (5151 / 18000 Steps) (loss=0.53984): 100%|██████████| 7/7 [00:14<00:00,  2.11s/it]\n",
      "Training (5158 / 18000 Steps) (loss=0.59037): 100%|██████████| 7/7 [00:15<00:00,  2.17s/it]\n",
      "Training (5165 / 18000 Steps) (loss=0.56033): 100%|██████████| 7/7 [00:14<00:00,  2.12s/it]\n",
      "Training (5172 / 18000 Steps) (loss=0.51022): 100%|██████████| 7/7 [00:14<00:00,  2.14s/it]\n",
      "Training (5179 / 18000 Steps) (loss=0.55009): 100%|██████████| 7/7 [00:14<00:00,  2.12s/it]\n",
      "Training (5186 / 18000 Steps) (loss=0.52771): 100%|██████████| 7/7 [00:15<00:00,  2.16s/it]\n",
      "Training (5193 / 18000 Steps) (loss=0.62895): 100%|██████████| 7/7 [00:14<00:00,  2.11s/it]\n",
      "Validate (5194 / 10 Steps): 100%|██████████| 2/2 [00:08<00:00,  4.22s/it]<00:01,  1.94s/it]\n",
      "Training (5200 / 18000 Steps) (loss=0.34147): 100%|██████████| 7/7 [00:24<00:00,  3.45s/it]\n"
     ]
    },
    {
     "name": "stdout",
     "output_type": "stream",
     "text": [
      "Model Was Saved ! Current Best Avg. Dice: 0.2655785083770752 Current Avg. Dice: 0.2655785083770752 Current Avg. tumor Dice: 0.26337969303131104 Current Avg. lymph Dice: 0.26777735352516174\n"
     ]
    },
    {
     "name": "stderr",
     "output_type": "stream",
     "text": [
      "Training (5207 / 18000 Steps) (loss=0.46976): 100%|██████████| 7/7 [00:14<00:00,  2.14s/it]\n",
      "Training (5214 / 18000 Steps) (loss=0.50816): 100%|██████████| 7/7 [00:14<00:00,  2.11s/it]\n",
      "Training (5221 / 18000 Steps) (loss=0.52954): 100%|██████████| 7/7 [00:15<00:00,  2.17s/it]\n",
      "Training (5228 / 18000 Steps) (loss=0.41308): 100%|██████████| 7/7 [00:14<00:00,  2.12s/it]\n",
      "Training (5235 / 18000 Steps) (loss=0.42110): 100%|██████████| 7/7 [00:14<00:00,  2.11s/it]\n",
      "Training (5242 / 18000 Steps) (loss=0.64706): 100%|██████████| 7/7 [00:14<00:00,  2.10s/it]\n",
      "Training (5249 / 18000 Steps) (loss=0.47667): 100%|██████████| 7/7 [00:14<00:00,  2.10s/it]\n",
      "Training (5256 / 18000 Steps) (loss=0.65598): 100%|██████████| 7/7 [00:14<00:00,  2.10s/it]\n",
      "Training (5263 / 18000 Steps) (loss=0.57656): 100%|██████████| 7/7 [00:14<00:00,  2.13s/it]\n",
      "Training (5270 / 18000 Steps) (loss=0.63427): 100%|██████████| 7/7 [00:14<00:00,  2.11s/it]\n",
      "Training (5277 / 18000 Steps) (loss=0.50187): 100%|██████████| 7/7 [00:15<00:00,  2.19s/it]\n",
      "Training (5284 / 18000 Steps) (loss=0.56275): 100%|██████████| 7/7 [00:14<00:00,  2.11s/it]\n",
      "Training (5291 / 18000 Steps) (loss=0.40433): 100%|██████████| 7/7 [00:14<00:00,  2.11s/it]\n",
      "Training (5298 / 18000 Steps) (loss=0.66195): 100%|██████████| 7/7 [00:15<00:00,  2.24s/it]\n",
      "Validate (5299 / 10 Steps): 100%|██████████| 2/2 [00:08<00:00,  4.27s/it]<00:27,  4.66s/it]\n",
      "Training (5300 / 18000 Steps) (loss=0.37696):  29%|██▊       | 2/7 [00:15<00:40,  8.04s/it]"
     ]
    },
    {
     "name": "stdout",
     "output_type": "stream",
     "text": [
      "Model Was Not Saved ! Current Best Avg. Dice: 0.2655785083770752 Current Avg. Dice: 0.22656190395355225 Current Avg. tumor Dice: 0.20342643558979034 Current Avg. lymph Dice: 0.24969735741615295\n"
     ]
    },
    {
     "name": "stderr",
     "output_type": "stream",
     "text": [
      "Training (5305 / 18000 Steps) (loss=0.56554): 100%|██████████| 7/7 [00:23<00:00,  3.40s/it]\n",
      "Training (5312 / 18000 Steps) (loss=0.49250): 100%|██████████| 7/7 [00:15<00:00,  2.16s/it]\n",
      "Training (5319 / 18000 Steps) (loss=0.46488): 100%|██████████| 7/7 [00:14<00:00,  2.14s/it]\n",
      "Training (5326 / 18000 Steps) (loss=0.44004): 100%|██████████| 7/7 [00:15<00:00,  2.17s/it]\n",
      "Training (5333 / 18000 Steps) (loss=0.49027): 100%|██████████| 7/7 [00:14<00:00,  2.13s/it]\n",
      "Training (5340 / 18000 Steps) (loss=0.50537): 100%|██████████| 7/7 [00:14<00:00,  2.12s/it]\n",
      "Training (5347 / 18000 Steps) (loss=0.53417): 100%|██████████| 7/7 [00:14<00:00,  2.13s/it]\n",
      "Training (5354 / 18000 Steps) (loss=0.43164): 100%|██████████| 7/7 [00:15<00:00,  2.17s/it]\n",
      "Training (5361 / 18000 Steps) (loss=0.57147): 100%|██████████| 7/7 [00:15<00:00,  2.20s/it]\n",
      "Training (5368 / 18000 Steps) (loss=0.36319): 100%|██████████| 7/7 [00:14<00:00,  2.14s/it]\n",
      "Training (5375 / 18000 Steps) (loss=0.45461): 100%|██████████| 7/7 [00:14<00:00,  2.10s/it]\n",
      "Training (5382 / 18000 Steps) (loss=0.53732): 100%|██████████| 7/7 [00:14<00:00,  2.14s/it]\n",
      "Training (5389 / 18000 Steps) (loss=0.38586): 100%|██████████| 7/7 [00:14<00:00,  2.14s/it]\n",
      "Training (5396 / 18000 Steps) (loss=0.60369): 100%|██████████| 7/7 [00:14<00:00,  2.13s/it]\n",
      "Validate (5397 / 10 Steps): 100%|██████████| 2/2 [00:08<00:00,  4.25s/it]<00:09,  2.48s/it]\n",
      "Training (5400 / 18000 Steps) (loss=0.46622):  57%|█████▋    | 4/7 [00:18<00:16,  5.63s/it]"
     ]
    },
    {
     "name": "stdout",
     "output_type": "stream",
     "text": [
      "Model Was Not Saved ! Current Best Avg. Dice: 0.2655785083770752 Current Avg. Dice: 0.1918451189994812 Current Avg. tumor Dice: 0.19911691546440125 Current Avg. lymph Dice: 0.18457332253456116\n"
     ]
    },
    {
     "name": "stderr",
     "output_type": "stream",
     "text": [
      "Training (5403 / 18000 Steps) (loss=0.52161): 100%|██████████| 7/7 [00:23<00:00,  3.36s/it]\n",
      "Training (5410 / 18000 Steps) (loss=0.47029): 100%|██████████| 7/7 [00:14<00:00,  2.14s/it]\n",
      "Training (5417 / 18000 Steps) (loss=0.47826): 100%|██████████| 7/7 [00:15<00:00,  2.16s/it]\n",
      "Training (5424 / 18000 Steps) (loss=0.39504): 100%|██████████| 7/7 [00:14<00:00,  2.11s/it]\n",
      "Training (5431 / 18000 Steps) (loss=0.45411): 100%|██████████| 7/7 [00:15<00:00,  2.19s/it]\n",
      "Training (5438 / 18000 Steps) (loss=0.49102): 100%|██████████| 7/7 [00:14<00:00,  2.07s/it]\n",
      "Training (5445 / 18000 Steps) (loss=0.55748): 100%|██████████| 7/7 [00:14<00:00,  2.12s/it]\n",
      "Training (5452 / 18000 Steps) (loss=0.58236): 100%|██████████| 7/7 [00:14<00:00,  2.12s/it]\n",
      "Training (5459 / 18000 Steps) (loss=0.39482): 100%|██████████| 7/7 [00:15<00:00,  2.15s/it]\n",
      "Training (5466 / 18000 Steps) (loss=0.44224): 100%|██████████| 7/7 [00:15<00:00,  2.16s/it]\n",
      "Training (5473 / 18000 Steps) (loss=0.55244): 100%|██████████| 7/7 [00:15<00:00,  2.19s/it]\n",
      "Training (5480 / 18000 Steps) (loss=0.59803): 100%|██████████| 7/7 [00:15<00:00,  2.18s/it]\n",
      "Training (5487 / 18000 Steps) (loss=0.48348): 100%|██████████| 7/7 [00:14<00:00,  2.12s/it]\n",
      "Training (5494 / 18000 Steps) (loss=0.49819): 100%|██████████| 7/7 [00:14<00:00,  2.13s/it]\n",
      "Validate (5495 / 10 Steps): 100%|██████████| 2/2 [00:08<00:00,  4.26s/it]<00:04,  2.12s/it]\n",
      "Training (5500 / 18000 Steps) (loss=0.56357):  86%|████████▌ | 6/7 [00:22<00:04,  4.93s/it]"
     ]
    },
    {
     "name": "stdout",
     "output_type": "stream",
     "text": [
      "Model Was Not Saved ! Current Best Avg. Dice: 0.2655785083770752 Current Avg. Dice: 0.258681058883667 Current Avg. tumor Dice: 0.2560189366340637 Current Avg. lymph Dice: 0.26134321093559265\n"
     ]
    },
    {
     "name": "stderr",
     "output_type": "stream",
     "text": [
      "Training (5501 / 18000 Steps) (loss=0.64058): 100%|██████████| 7/7 [00:23<00:00,  3.39s/it]\n",
      "Training (5508 / 18000 Steps) (loss=0.50338): 100%|██████████| 7/7 [00:15<00:00,  2.19s/it]\n",
      "Training (5515 / 18000 Steps) (loss=0.58685): 100%|██████████| 7/7 [00:15<00:00,  2.16s/it]\n",
      "Training (5522 / 18000 Steps) (loss=0.63251): 100%|██████████| 7/7 [00:15<00:00,  2.18s/it]\n",
      "Training (5529 / 18000 Steps) (loss=0.53765): 100%|██████████| 7/7 [00:14<00:00,  2.13s/it]\n",
      "Training (5536 / 18000 Steps) (loss=0.59105): 100%|██████████| 7/7 [00:14<00:00,  2.14s/it]\n",
      "Training (5543 / 18000 Steps) (loss=0.58703): 100%|██████████| 7/7 [00:14<00:00,  2.13s/it]\n",
      "Training (5550 / 18000 Steps) (loss=0.59589): 100%|██████████| 7/7 [00:14<00:00,  2.13s/it]\n",
      "Training (5557 / 18000 Steps) (loss=0.56391): 100%|██████████| 7/7 [00:15<00:00,  2.17s/it]\n",
      "Training (5564 / 18000 Steps) (loss=0.51653): 100%|██████████| 7/7 [00:15<00:00,  2.19s/it]\n",
      "Training (5571 / 18000 Steps) (loss=0.44115): 100%|██████████| 7/7 [00:14<00:00,  2.13s/it]\n",
      "Training (5578 / 18000 Steps) (loss=0.60706): 100%|██████████| 7/7 [00:14<00:00,  2.11s/it]\n",
      "Training (5585 / 18000 Steps) (loss=0.45539): 100%|██████████| 7/7 [00:15<00:00,  2.17s/it]\n",
      "Training (5592 / 18000 Steps) (loss=0.49904): 100%|██████████| 7/7 [00:14<00:00,  2.09s/it]\n",
      "Training (5599 / 18000 Steps) (loss=0.42661): 100%|██████████| 7/7 [00:15<00:00,  2.17s/it]\n",
      "Validate (5600 / 10 Steps): 100%|██████████| 2/2 [00:08<00:00,  4.22s/it]<?, ?it/s]\n",
      "Training (5600 / 18000 Steps) (loss=0.54939):  14%|█▍        | 1/7 [00:13<01:23, 13.85s/it]"
     ]
    },
    {
     "name": "stdout",
     "output_type": "stream",
     "text": [
      "Model Was Saved ! Current Best Avg. Dice: 0.2761996388435364 Current Avg. Dice: 0.2761996388435364 Current Avg. tumor Dice: 0.2900300621986389 Current Avg. lymph Dice: 0.26236918568611145\n"
     ]
    },
    {
     "name": "stderr",
     "output_type": "stream",
     "text": [
      "Training (5606 / 18000 Steps) (loss=0.50313): 100%|██████████| 7/7 [00:24<00:00,  3.43s/it]\n",
      "Training (5613 / 18000 Steps) (loss=0.37526): 100%|██████████| 7/7 [00:14<00:00,  2.11s/it]\n",
      "Training (5620 / 18000 Steps) (loss=0.57286): 100%|██████████| 7/7 [00:15<00:00,  2.16s/it]\n",
      "Training (5627 / 18000 Steps) (loss=0.36633): 100%|██████████| 7/7 [00:15<00:00,  2.19s/it]\n",
      "Training (5634 / 18000 Steps) (loss=0.57696): 100%|██████████| 7/7 [00:15<00:00,  2.15s/it]\n",
      "Training (5641 / 18000 Steps) (loss=0.48930): 100%|██████████| 7/7 [00:15<00:00,  2.15s/it]\n",
      "Training (5648 / 18000 Steps) (loss=0.43367): 100%|██████████| 7/7 [00:14<00:00,  2.13s/it]\n",
      "Training (5655 / 18000 Steps) (loss=0.57610): 100%|██████████| 7/7 [00:14<00:00,  2.12s/it]\n",
      "Training (5662 / 18000 Steps) (loss=0.31780): 100%|██████████| 7/7 [00:14<00:00,  2.11s/it]\n",
      "Training (5669 / 18000 Steps) (loss=0.57926): 100%|██████████| 7/7 [00:15<00:00,  2.15s/it]\n",
      "Training (5676 / 18000 Steps) (loss=0.40008): 100%|██████████| 7/7 [00:14<00:00,  2.14s/it]\n",
      "Training (5683 / 18000 Steps) (loss=0.42963): 100%|██████████| 7/7 [00:14<00:00,  2.09s/it]\n",
      "Training (5690 / 18000 Steps) (loss=0.64365): 100%|██████████| 7/7 [00:14<00:00,  2.10s/it]\n",
      "Training (5697 / 18000 Steps) (loss=0.69770): 100%|██████████| 7/7 [00:15<00:00,  2.17s/it]\n",
      "Validate (5698 / 10 Steps): 100%|██████████| 2/2 [00:08<00:00,  4.30s/it]<00:15,  3.02s/it]\n",
      "Training (5700 / 18000 Steps) (loss=0.57622):  43%|████▎     | 3/7 [00:16<00:25,  6.40s/it]"
     ]
    },
    {
     "name": "stdout",
     "output_type": "stream",
     "text": [
      "Model Was Not Saved ! Current Best Avg. Dice: 0.2761996388435364 Current Avg. Dice: 0.24900910258293152 Current Avg. tumor Dice: 0.2652004063129425 Current Avg. lymph Dice: 0.23281781375408173\n"
     ]
    },
    {
     "name": "stderr",
     "output_type": "stream",
     "text": [
      "Training (5704 / 18000 Steps) (loss=0.43024): 100%|██████████| 7/7 [00:23<00:00,  3.38s/it]\n",
      "Training (5711 / 18000 Steps) (loss=0.67457): 100%|██████████| 7/7 [00:15<00:00,  2.20s/it]\n",
      "Training (5718 / 18000 Steps) (loss=0.42010): 100%|██████████| 7/7 [00:15<00:00,  2.19s/it]\n",
      "Training (5725 / 18000 Steps) (loss=0.54539): 100%|██████████| 7/7 [00:14<00:00,  2.12s/it]\n",
      "Training (5732 / 18000 Steps) (loss=0.42836): 100%|██████████| 7/7 [00:15<00:00,  2.15s/it]\n",
      "Training (5739 / 18000 Steps) (loss=0.48414): 100%|██████████| 7/7 [00:14<00:00,  2.12s/it]\n",
      "Training (5746 / 18000 Steps) (loss=0.43393): 100%|██████████| 7/7 [00:14<00:00,  2.13s/it]\n",
      "Training (5753 / 18000 Steps) (loss=0.66932): 100%|██████████| 7/7 [00:14<00:00,  2.12s/it]\n",
      "Training (5760 / 18000 Steps) (loss=0.59757): 100%|██████████| 7/7 [00:15<00:00,  2.14s/it]\n",
      "Training (5767 / 18000 Steps) (loss=0.67005): 100%|██████████| 7/7 [00:15<00:00,  2.19s/it]\n",
      "Training (5774 / 18000 Steps) (loss=0.71933): 100%|██████████| 7/7 [00:14<00:00,  2.10s/it]\n",
      "Training (5781 / 18000 Steps) (loss=0.52529): 100%|██████████| 7/7 [00:15<00:00,  2.16s/it]\n",
      "Training (5788 / 18000 Steps) (loss=0.50211): 100%|██████████| 7/7 [00:14<00:00,  2.11s/it]\n",
      "Training (5795 / 18000 Steps) (loss=0.58018): 100%|██████████| 7/7 [00:14<00:00,  2.11s/it]\n",
      "Validate (5796 / 10 Steps): 100%|██████████| 2/2 [00:08<00:00,  4.29s/it]<00:06,  2.19s/it]\n",
      "Training (5800 / 18000 Steps) (loss=0.54547):  71%|███████▏  | 5/7 [00:20<00:10,  5.16s/it]"
     ]
    },
    {
     "name": "stdout",
     "output_type": "stream",
     "text": [
      "Model Was Not Saved ! Current Best Avg. Dice: 0.2761996388435364 Current Avg. Dice: 0.24419626593589783 Current Avg. tumor Dice: 0.2206307053565979 Current Avg. lymph Dice: 0.26776182651519775\n"
     ]
    },
    {
     "name": "stderr",
     "output_type": "stream",
     "text": [
      "Training (5802 / 18000 Steps) (loss=0.60197): 100%|██████████| 7/7 [00:23<00:00,  3.40s/it]\n",
      "Training (5809 / 18000 Steps) (loss=0.41387): 100%|██████████| 7/7 [00:14<00:00,  2.12s/it]\n",
      "Training (5816 / 18000 Steps) (loss=0.53612): 100%|██████████| 7/7 [00:14<00:00,  2.13s/it]\n",
      "Training (5823 / 18000 Steps) (loss=0.49277): 100%|██████████| 7/7 [00:14<00:00,  2.12s/it]\n",
      "Training (5830 / 18000 Steps) (loss=0.48916): 100%|██████████| 7/7 [00:14<00:00,  2.09s/it]\n",
      "Training (5837 / 18000 Steps) (loss=0.58527): 100%|██████████| 7/7 [00:15<00:00,  2.18s/it]\n",
      "Training (5844 / 18000 Steps) (loss=0.47932): 100%|██████████| 7/7 [00:14<00:00,  2.12s/it]\n",
      "Training (5851 / 18000 Steps) (loss=0.57157): 100%|██████████| 7/7 [00:14<00:00,  2.12s/it]\n",
      "Training (5858 / 18000 Steps) (loss=0.62795): 100%|██████████| 7/7 [00:15<00:00,  2.17s/it]\n",
      "Training (5865 / 18000 Steps) (loss=0.38684): 100%|██████████| 7/7 [00:15<00:00,  2.16s/it]\n",
      "Training (5872 / 18000 Steps) (loss=0.58014): 100%|██████████| 7/7 [00:14<00:00,  2.13s/it]\n",
      "Training (5879 / 18000 Steps) (loss=0.48240): 100%|██████████| 7/7 [00:14<00:00,  2.11s/it]\n",
      "Training (5886 / 18000 Steps) (loss=0.28882): 100%|██████████| 7/7 [00:14<00:00,  2.10s/it]\n",
      "Training (5893 / 18000 Steps) (loss=0.37253): 100%|██████████| 7/7 [00:14<00:00,  2.12s/it]\n",
      "Validate (5894 / 10 Steps): 100%|██████████| 2/2 [00:08<00:00,  4.24s/it]<00:01,  1.97s/it]\n",
      "Training (5900 / 18000 Steps) (loss=0.48156): 100%|██████████| 7/7 [00:23<00:00,  3.33s/it]\n"
     ]
    },
    {
     "name": "stdout",
     "output_type": "stream",
     "text": [
      "Model Was Not Saved ! Current Best Avg. Dice: 0.2761996388435364 Current Avg. Dice: 0.24901854991912842 Current Avg. tumor Dice: 0.21196866035461426 Current Avg. lymph Dice: 0.2860684394836426\n"
     ]
    },
    {
     "name": "stderr",
     "output_type": "stream",
     "text": [
      "Training (5907 / 18000 Steps) (loss=0.42972): 100%|██████████| 7/7 [00:15<00:00,  2.16s/it]\n",
      "Training (5914 / 18000 Steps) (loss=0.45558): 100%|██████████| 7/7 [00:15<00:00,  2.18s/it]\n",
      "Training (5921 / 18000 Steps) (loss=0.56692): 100%|██████████| 7/7 [00:15<00:00,  2.15s/it]\n",
      "Training (5928 / 18000 Steps) (loss=0.52813): 100%|██████████| 7/7 [00:14<00:00,  2.14s/it]\n",
      "Training (5935 / 18000 Steps) (loss=0.53765): 100%|██████████| 7/7 [00:14<00:00,  2.12s/it]\n",
      "Training (5942 / 18000 Steps) (loss=0.44723): 100%|██████████| 7/7 [00:14<00:00,  2.12s/it]\n",
      "Training (5949 / 18000 Steps) (loss=0.46144): 100%|██████████| 7/7 [00:14<00:00,  2.11s/it]\n",
      "Training (5956 / 18000 Steps) (loss=0.55735): 100%|██████████| 7/7 [00:14<00:00,  2.12s/it]\n",
      "Training (5963 / 18000 Steps) (loss=0.44096): 100%|██████████| 7/7 [00:15<00:00,  2.19s/it]\n",
      "Training (5970 / 18000 Steps) (loss=0.54688): 100%|██████████| 7/7 [00:14<00:00,  2.11s/it]\n",
      "Training (5977 / 18000 Steps) (loss=0.44922): 100%|██████████| 7/7 [00:14<00:00,  2.07s/it]\n",
      "Training (5984 / 18000 Steps) (loss=0.52334): 100%|██████████| 7/7 [00:14<00:00,  2.14s/it]\n",
      "Training (5991 / 18000 Steps) (loss=0.59965): 100%|██████████| 7/7 [00:14<00:00,  2.14s/it]\n",
      "Training (5998 / 18000 Steps) (loss=0.51325): 100%|██████████| 7/7 [00:14<00:00,  2.10s/it]\n",
      "Validate (5999 / 10 Steps): 100%|██████████| 2/2 [00:08<00:00,  4.35s/it]<00:26,  4.44s/it]\n",
      "Training (6000 / 18000 Steps) (loss=0.53052):  29%|██▊       | 2/7 [00:15<00:40,  8.05s/it]"
     ]
    },
    {
     "name": "stdout",
     "output_type": "stream",
     "text": [
      "Model Was Not Saved ! Current Best Avg. Dice: 0.2761996388435364 Current Avg. Dice: 0.2542639970779419 Current Avg. tumor Dice: 0.22257499396800995 Current Avg. lymph Dice: 0.2859530448913574\n"
     ]
    },
    {
     "name": "stderr",
     "output_type": "stream",
     "text": [
      "Training (6005 / 18000 Steps) (loss=0.38109): 100%|██████████| 7/7 [00:23<00:00,  3.39s/it]\n",
      "Training (6012 / 18000 Steps) (loss=0.47017): 100%|██████████| 7/7 [00:14<00:00,  2.09s/it]\n",
      "Training (6019 / 18000 Steps) (loss=0.52473): 100%|██████████| 7/7 [00:15<00:00,  2.17s/it]\n",
      "Training (6026 / 18000 Steps) (loss=0.44197): 100%|██████████| 7/7 [00:14<00:00,  2.13s/it]\n",
      "Training (6033 / 18000 Steps) (loss=0.60023): 100%|██████████| 7/7 [00:14<00:00,  2.10s/it]\n",
      "Training (6040 / 18000 Steps) (loss=0.37686): 100%|██████████| 7/7 [00:15<00:00,  2.21s/it]\n",
      "Training (6047 / 18000 Steps) (loss=0.27090): 100%|██████████| 7/7 [00:14<00:00,  2.11s/it]\n",
      "Training (6054 / 18000 Steps) (loss=0.39490): 100%|██████████| 7/7 [00:14<00:00,  2.14s/it]\n",
      "Training (6061 / 18000 Steps) (loss=0.60540): 100%|██████████| 7/7 [00:14<00:00,  2.11s/it]\n",
      "Training (6068 / 18000 Steps) (loss=0.47414): 100%|██████████| 7/7 [00:14<00:00,  2.11s/it]\n",
      "Training (6075 / 18000 Steps) (loss=0.53581): 100%|██████████| 7/7 [00:15<00:00,  2.17s/it]\n",
      "Training (6082 / 18000 Steps) (loss=0.48241): 100%|██████████| 7/7 [00:15<00:00,  2.16s/it]\n",
      "Training (6089 / 18000 Steps) (loss=0.48518): 100%|██████████| 7/7 [00:14<00:00,  2.11s/it]\n",
      "Training (6096 / 18000 Steps) (loss=0.47948): 100%|██████████| 7/7 [00:15<00:00,  2.15s/it]\n",
      "Validate (6097 / 10 Steps): 100%|██████████| 2/2 [00:08<00:00,  4.25s/it]<00:09,  2.43s/it]\n",
      "Training (6100 / 18000 Steps) (loss=0.35670):  57%|█████▋    | 4/7 [00:19<00:17,  5.89s/it]"
     ]
    },
    {
     "name": "stdout",
     "output_type": "stream",
     "text": [
      "Model Was Saved ! Current Best Avg. Dice: 0.30716705322265625 Current Avg. Dice: 0.30716705322265625 Current Avg. tumor Dice: 0.32538196444511414 Current Avg. lymph Dice: 0.288952112197876\n"
     ]
    },
    {
     "name": "stderr",
     "output_type": "stream",
     "text": [
      "Training (6103 / 18000 Steps) (loss=0.52208): 100%|██████████| 7/7 [00:24<00:00,  3.49s/it]\n",
      "Training (6110 / 18000 Steps) (loss=0.55054): 100%|██████████| 7/7 [00:15<00:00,  2.17s/it]\n",
      "Training (6117 / 18000 Steps) (loss=0.33534): 100%|██████████| 7/7 [00:14<00:00,  2.11s/it]\n",
      "Training (6124 / 18000 Steps) (loss=0.58998): 100%|██████████| 7/7 [00:15<00:00,  2.16s/it]\n",
      "Training (6131 / 18000 Steps) (loss=0.52503): 100%|██████████| 7/7 [00:14<00:00,  2.12s/it]\n",
      "Training (6138 / 18000 Steps) (loss=0.43617): 100%|██████████| 7/7 [00:14<00:00,  2.10s/it]\n",
      "Training (6145 / 18000 Steps) (loss=0.44988): 100%|██████████| 7/7 [00:15<00:00,  2.15s/it]\n",
      "Training (6152 / 18000 Steps) (loss=0.47100): 100%|██████████| 7/7 [00:14<00:00,  2.12s/it]\n",
      "Training (6159 / 18000 Steps) (loss=0.53272): 100%|██████████| 7/7 [00:14<00:00,  2.11s/it]\n",
      "Training (6166 / 18000 Steps) (loss=0.51554): 100%|██████████| 7/7 [00:14<00:00,  2.13s/it]\n",
      "Training (6173 / 18000 Steps) (loss=0.45703): 100%|██████████| 7/7 [00:14<00:00,  2.13s/it]\n",
      "Training (6180 / 18000 Steps) (loss=0.48108): 100%|██████████| 7/7 [00:14<00:00,  2.10s/it]\n",
      "Training (6187 / 18000 Steps) (loss=0.49030): 100%|██████████| 7/7 [00:14<00:00,  2.12s/it]\n",
      "Training (6194 / 18000 Steps) (loss=0.52031): 100%|██████████| 7/7 [00:14<00:00,  2.13s/it]\n",
      "Validate (6195 / 10 Steps): 100%|██████████| 2/2 [00:08<00:00,  4.36s/it]<00:04,  2.04s/it]\n",
      "Training (6200 / 18000 Steps) (loss=0.44335):  86%|████████▌ | 6/7 [00:22<00:04,  4.93s/it]"
     ]
    },
    {
     "name": "stdout",
     "output_type": "stream",
     "text": [
      "Model Was Not Saved ! Current Best Avg. Dice: 0.30716705322265625 Current Avg. Dice: 0.2614906430244446 Current Avg. tumor Dice: 0.25702789425849915 Current Avg. lymph Dice: 0.26595339179039\n"
     ]
    },
    {
     "name": "stderr",
     "output_type": "stream",
     "text": [
      "Training (6201 / 18000 Steps) (loss=0.51088): 100%|██████████| 7/7 [00:23<00:00,  3.38s/it]\n",
      "Training (6208 / 18000 Steps) (loss=0.44824): 100%|██████████| 7/7 [00:15<00:00,  2.23s/it]\n",
      "Training (6215 / 18000 Steps) (loss=0.58230): 100%|██████████| 7/7 [00:14<00:00,  2.14s/it]\n",
      "Training (6222 / 18000 Steps) (loss=0.53548): 100%|██████████| 7/7 [00:14<00:00,  2.13s/it]\n",
      "Training (6229 / 18000 Steps) (loss=0.62614): 100%|██████████| 7/7 [00:15<00:00,  2.16s/it]\n",
      "Training (6236 / 18000 Steps) (loss=0.35599): 100%|██████████| 7/7 [00:15<00:00,  2.15s/it]\n",
      "Training (6243 / 18000 Steps) (loss=0.56602): 100%|██████████| 7/7 [00:14<00:00,  2.12s/it]\n",
      "Training (6250 / 18000 Steps) (loss=0.52852): 100%|██████████| 7/7 [00:14<00:00,  2.13s/it]\n",
      "Training (6257 / 18000 Steps) (loss=0.56630): 100%|██████████| 7/7 [00:14<00:00,  2.13s/it]\n",
      "Training (6264 / 18000 Steps) (loss=0.59791): 100%|██████████| 7/7 [00:14<00:00,  2.12s/it]\n",
      "Training (6271 / 18000 Steps) (loss=0.41986): 100%|██████████| 7/7 [00:14<00:00,  2.12s/it]\n",
      "Training (6278 / 18000 Steps) (loss=0.47553): 100%|██████████| 7/7 [00:15<00:00,  2.17s/it]\n",
      "Training (6285 / 18000 Steps) (loss=0.61779): 100%|██████████| 7/7 [00:14<00:00,  2.13s/it]\n",
      "Training (6292 / 18000 Steps) (loss=0.44137): 100%|██████████| 7/7 [00:15<00:00,  2.17s/it]\n",
      "Training (6299 / 18000 Steps) (loss=0.62072): 100%|██████████| 7/7 [00:14<00:00,  2.12s/it]\n",
      "Validate (6300 / 10 Steps): 100%|██████████| 2/2 [00:08<00:00,  4.26s/it]<?, ?it/s]\n",
      "Training (6300 / 18000 Steps) (loss=0.54990):  14%|█▍        | 1/7 [00:13<01:18, 13.06s/it]"
     ]
    },
    {
     "name": "stdout",
     "output_type": "stream",
     "text": [
      "Model Was Not Saved ! Current Best Avg. Dice: 0.30716705322265625 Current Avg. Dice: 0.2454189658164978 Current Avg. tumor Dice: 0.2949621379375458 Current Avg. lymph Dice: 0.19587582349777222\n"
     ]
    },
    {
     "name": "stderr",
     "output_type": "stream",
     "text": [
      "Training (6306 / 18000 Steps) (loss=0.62051): 100%|██████████| 7/7 [00:23<00:00,  3.38s/it]\n",
      "Training (6313 / 18000 Steps) (loss=0.52452): 100%|██████████| 7/7 [00:15<00:00,  2.15s/it]\n",
      "Training (6320 / 18000 Steps) (loss=0.58320): 100%|██████████| 7/7 [00:14<00:00,  2.09s/it]\n",
      "Training (6327 / 18000 Steps) (loss=0.46577): 100%|██████████| 7/7 [00:15<00:00,  2.22s/it]\n",
      "Training (6334 / 18000 Steps) (loss=0.57302): 100%|██████████| 7/7 [00:14<00:00,  2.09s/it]\n",
      "Training (6341 / 18000 Steps) (loss=0.31356): 100%|██████████| 7/7 [00:14<00:00,  2.13s/it]\n",
      "Training (6348 / 18000 Steps) (loss=0.58044): 100%|██████████| 7/7 [00:15<00:00,  2.18s/it]\n",
      "Training (6355 / 18000 Steps) (loss=0.52345): 100%|██████████| 7/7 [00:15<00:00,  2.20s/it]\n",
      "Training (6362 / 18000 Steps) (loss=0.47775): 100%|██████████| 7/7 [00:14<00:00,  2.10s/it]\n",
      "Training (6369 / 18000 Steps) (loss=0.36167): 100%|██████████| 7/7 [00:15<00:00,  2.16s/it]\n",
      "Training (6376 / 18000 Steps) (loss=0.38095): 100%|██████████| 7/7 [00:14<00:00,  2.13s/it]\n",
      "Training (6383 / 18000 Steps) (loss=0.52050): 100%|██████████| 7/7 [00:15<00:00,  2.16s/it]\n",
      "Training (6390 / 18000 Steps) (loss=0.56457): 100%|██████████| 7/7 [00:14<00:00,  2.11s/it]\n",
      "Training (6397 / 18000 Steps) (loss=0.35664): 100%|██████████| 7/7 [00:15<00:00,  2.15s/it]\n",
      "Validate (6398 / 10 Steps): 100%|██████████| 2/2 [00:08<00:00,  4.26s/it]<00:16,  3.21s/it]\n",
      "Training (6400 / 18000 Steps) (loss=0.53499):  43%|████▎     | 3/7 [00:17<00:25,  6.48s/it]"
     ]
    },
    {
     "name": "stdout",
     "output_type": "stream",
     "text": [
      "Model Was Not Saved ! Current Best Avg. Dice: 0.30716705322265625 Current Avg. Dice: 0.2647855281829834 Current Avg. tumor Dice: 0.26049038767814636 Current Avg. lymph Dice: 0.26908066868782043\n"
     ]
    },
    {
     "name": "stderr",
     "output_type": "stream",
     "text": [
      "Training (6404 / 18000 Steps) (loss=0.44721): 100%|██████████| 7/7 [00:23<00:00,  3.43s/it]\n",
      "Training (6411 / 18000 Steps) (loss=0.58215): 100%|██████████| 7/7 [00:14<00:00,  2.13s/it]\n",
      "Training (6418 / 18000 Steps) (loss=0.48490): 100%|██████████| 7/7 [00:14<00:00,  2.14s/it]\n",
      "Training (6425 / 18000 Steps) (loss=0.45376): 100%|██████████| 7/7 [00:15<00:00,  2.17s/it]\n",
      "Training (6432 / 18000 Steps) (loss=0.56272): 100%|██████████| 7/7 [00:15<00:00,  2.15s/it]\n",
      "Training (6439 / 18000 Steps) (loss=0.67183): 100%|██████████| 7/7 [00:15<00:00,  2.18s/it]\n",
      "Training (6446 / 18000 Steps) (loss=0.45949): 100%|██████████| 7/7 [00:14<00:00,  2.13s/it]\n",
      "Training (6453 / 18000 Steps) (loss=0.46328): 100%|██████████| 7/7 [00:15<00:00,  2.15s/it]\n",
      "Training (6460 / 18000 Steps) (loss=0.50657): 100%|██████████| 7/7 [00:14<00:00,  2.13s/it]\n",
      "Training (6467 / 18000 Steps) (loss=0.54063): 100%|██████████| 7/7 [00:14<00:00,  2.10s/it]\n",
      "Training (6474 / 18000 Steps) (loss=0.48519): 100%|██████████| 7/7 [00:14<00:00,  2.11s/it]\n",
      "Training (6481 / 18000 Steps) (loss=0.58138): 100%|██████████| 7/7 [00:14<00:00,  2.13s/it]\n",
      "Training (6488 / 18000 Steps) (loss=0.52250): 100%|██████████| 7/7 [00:14<00:00,  2.08s/it]\n",
      "Training (6495 / 18000 Steps) (loss=0.56224): 100%|██████████| 7/7 [00:15<00:00,  2.16s/it]\n",
      "Validate (6496 / 10 Steps): 100%|██████████| 2/2 [00:08<00:00,  4.23s/it]<00:06,  2.21s/it]\n",
      "Training (6500 / 18000 Steps) (loss=0.56793):  71%|███████▏  | 5/7 [00:20<00:10,  5.16s/it]"
     ]
    },
    {
     "name": "stdout",
     "output_type": "stream",
     "text": [
      "Model Was Not Saved ! Current Best Avg. Dice: 0.30716705322265625 Current Avg. Dice: 0.25732338428497314 Current Avg. tumor Dice: 0.22850006818771362 Current Avg. lymph Dice: 0.28614673018455505\n"
     ]
    },
    {
     "name": "stderr",
     "output_type": "stream",
     "text": [
      "Training (6502 / 18000 Steps) (loss=0.42861): 100%|██████████| 7/7 [00:23<00:00,  3.37s/it]\n",
      "Training (6509 / 18000 Steps) (loss=0.54438): 100%|██████████| 7/7 [00:15<00:00,  2.16s/it]\n",
      "Training (6516 / 18000 Steps) (loss=0.52755): 100%|██████████| 7/7 [00:14<00:00,  2.11s/it]\n",
      "Training (6523 / 18000 Steps) (loss=0.69656): 100%|██████████| 7/7 [00:15<00:00,  2.15s/it]\n",
      "Training (6530 / 18000 Steps) (loss=0.55540): 100%|██████████| 7/7 [00:14<00:00,  2.07s/it]\n",
      "Training (6537 / 18000 Steps) (loss=0.66921): 100%|██████████| 7/7 [00:15<00:00,  2.18s/it]\n",
      "Training (6544 / 18000 Steps) (loss=0.35954): 100%|██████████| 7/7 [00:14<00:00,  2.12s/it]\n",
      "Training (6551 / 18000 Steps) (loss=0.44205): 100%|██████████| 7/7 [00:15<00:00,  2.16s/it]\n",
      "Training (6558 / 18000 Steps) (loss=0.46249): 100%|██████████| 7/7 [00:15<00:00,  2.16s/it]\n",
      "Training (6565 / 18000 Steps) (loss=0.56340): 100%|██████████| 7/7 [00:14<00:00,  2.13s/it]\n",
      "Training (6572 / 18000 Steps) (loss=0.41753): 100%|██████████| 7/7 [00:14<00:00,  2.10s/it]\n",
      "Training (6579 / 18000 Steps) (loss=0.47518): 100%|██████████| 7/7 [00:14<00:00,  2.09s/it]\n",
      "Training (6586 / 18000 Steps) (loss=0.32941): 100%|██████████| 7/7 [00:14<00:00,  2.12s/it]\n",
      "Training (6593 / 18000 Steps) (loss=0.40185): 100%|██████████| 7/7 [00:14<00:00,  2.08s/it]\n",
      "Validate (6594 / 10 Steps): 100%|██████████| 2/2 [00:08<00:00,  4.24s/it]<00:02,  2.02s/it]\n",
      "Training (6600 / 18000 Steps) (loss=0.53693): 100%|██████████| 7/7 [00:23<00:00,  3.40s/it]\n"
     ]
    },
    {
     "name": "stdout",
     "output_type": "stream",
     "text": [
      "Model Was Not Saved ! Current Best Avg. Dice: 0.30716705322265625 Current Avg. Dice: 0.2727547287940979 Current Avg. tumor Dice: 0.29179584980010986 Current Avg. lymph Dice: 0.2537136673927307\n"
     ]
    },
    {
     "name": "stderr",
     "output_type": "stream",
     "text": [
      "Training (6607 / 18000 Steps) (loss=0.42870): 100%|██████████| 7/7 [00:14<00:00,  2.13s/it]\n",
      "Training (6614 / 18000 Steps) (loss=0.53834): 100%|██████████| 7/7 [00:14<00:00,  2.12s/it]\n",
      "Training (6621 / 18000 Steps) (loss=0.40437): 100%|██████████| 7/7 [00:14<00:00,  2.11s/it]\n",
      "Training (6628 / 18000 Steps) (loss=0.52544): 100%|██████████| 7/7 [00:15<00:00,  2.16s/it]\n",
      "Training (6635 / 18000 Steps) (loss=0.39364): 100%|██████████| 7/7 [00:14<00:00,  2.13s/it]\n",
      "Training (6642 / 18000 Steps) (loss=0.56781): 100%|██████████| 7/7 [00:15<00:00,  2.22s/it]\n",
      "Training (6649 / 18000 Steps) (loss=0.56818): 100%|██████████| 7/7 [00:14<00:00,  2.12s/it]\n",
      "Training (6656 / 18000 Steps) (loss=0.38417): 100%|██████████| 7/7 [00:14<00:00,  2.11s/it]\n",
      "Training (6663 / 18000 Steps) (loss=0.52321): 100%|██████████| 7/7 [00:14<00:00,  2.13s/it]\n",
      "Training (6670 / 18000 Steps) (loss=0.58451): 100%|██████████| 7/7 [00:14<00:00,  2.12s/it]\n",
      "Training (6677 / 18000 Steps) (loss=0.52161): 100%|██████████| 7/7 [00:15<00:00,  2.14s/it]\n",
      "Training (6684 / 18000 Steps) (loss=0.61701): 100%|██████████| 7/7 [00:14<00:00,  2.11s/it]\n",
      "Training (6691 / 18000 Steps) (loss=0.57244): 100%|██████████| 7/7 [00:14<00:00,  2.14s/it]\n",
      "Training (6698 / 18000 Steps) (loss=0.61923): 100%|██████████| 7/7 [00:15<00:00,  2.16s/it]\n",
      "Validate (6699 / 10 Steps): 100%|██████████| 2/2 [00:08<00:00,  4.25s/it]<00:27,  4.59s/it]\n",
      "Training (6700 / 18000 Steps) (loss=0.42887):  29%|██▊       | 2/7 [00:14<00:40,  8.01s/it]"
     ]
    },
    {
     "name": "stdout",
     "output_type": "stream",
     "text": [
      "Model Was Not Saved ! Current Best Avg. Dice: 0.30716705322265625 Current Avg. Dice: 0.29146623611450195 Current Avg. tumor Dice: 0.3076629340648651 Current Avg. lymph Dice: 0.27526962757110596\n"
     ]
    },
    {
     "name": "stderr",
     "output_type": "stream",
     "text": [
      "Training (6705 / 18000 Steps) (loss=0.55898): 100%|██████████| 7/7 [00:23<00:00,  3.35s/it]\n",
      "Training (6712 / 18000 Steps) (loss=0.53680): 100%|██████████| 7/7 [00:14<00:00,  2.12s/it]\n",
      "Training (6719 / 18000 Steps) (loss=0.49161): 100%|██████████| 7/7 [00:15<00:00,  2.19s/it]\n",
      "Training (6726 / 18000 Steps) (loss=0.52021): 100%|██████████| 7/7 [00:15<00:00,  2.17s/it]\n",
      "Training (6733 / 18000 Steps) (loss=0.58760): 100%|██████████| 7/7 [00:15<00:00,  2.19s/it]\n",
      "Training (6740 / 18000 Steps) (loss=0.48537): 100%|██████████| 7/7 [00:15<00:00,  2.16s/it]\n",
      "Training (6747 / 18000 Steps) (loss=0.26155): 100%|██████████| 7/7 [00:14<00:00,  2.13s/it]\n",
      "Training (6754 / 18000 Steps) (loss=0.29657): 100%|██████████| 7/7 [00:15<00:00,  2.19s/it]\n",
      "Training (6761 / 18000 Steps) (loss=0.35653): 100%|██████████| 7/7 [00:14<00:00,  2.10s/it]\n",
      "Training (6768 / 18000 Steps) (loss=0.43170): 100%|██████████| 7/7 [00:15<00:00,  2.19s/it]\n",
      "Training (6775 / 18000 Steps) (loss=0.64402): 100%|██████████| 7/7 [00:14<00:00,  2.14s/it]\n",
      "Training (6782 / 18000 Steps) (loss=0.56946): 100%|██████████| 7/7 [00:15<00:00,  2.18s/it]\n",
      "Training (6789 / 18000 Steps) (loss=0.61036): 100%|██████████| 7/7 [00:15<00:00,  2.15s/it]\n",
      "Training (6796 / 18000 Steps) (loss=0.43776): 100%|██████████| 7/7 [00:14<00:00,  2.12s/it]\n",
      "Validate (6797 / 10 Steps): 100%|██████████| 2/2 [00:08<00:00,  4.32s/it]<00:10,  2.51s/it]\n",
      "Training (6800 / 18000 Steps) (loss=0.55881):  57%|█████▋    | 4/7 [00:18<00:16,  5.66s/it]"
     ]
    },
    {
     "name": "stdout",
     "output_type": "stream",
     "text": [
      "Model Was Not Saved ! Current Best Avg. Dice: 0.30716705322265625 Current Avg. Dice: 0.2785462439060211 Current Avg. tumor Dice: 0.24414227902889252 Current Avg. lymph Dice: 0.3129501938819885\n"
     ]
    },
    {
     "name": "stderr",
     "output_type": "stream",
     "text": [
      "Training (6803 / 18000 Steps) (loss=0.38303): 100%|██████████| 7/7 [00:23<00:00,  3.40s/it]\n",
      "Training (6810 / 18000 Steps) (loss=0.53543): 100%|██████████| 7/7 [00:15<00:00,  2.16s/it]\n",
      "Training (6817 / 18000 Steps) (loss=0.48972): 100%|██████████| 7/7 [00:14<00:00,  2.13s/it]\n",
      "Training (6824 / 18000 Steps) (loss=0.54985): 100%|██████████| 7/7 [00:15<00:00,  2.15s/it]\n",
      "Training (6831 / 18000 Steps) (loss=0.45554): 100%|██████████| 7/7 [00:14<00:00,  2.10s/it]\n",
      "Training (6838 / 18000 Steps) (loss=0.32300): 100%|██████████| 7/7 [00:15<00:00,  2.15s/it]\n",
      "Training (6845 / 18000 Steps) (loss=0.59528): 100%|██████████| 7/7 [00:15<00:00,  2.19s/it]\n",
      "Training (6852 / 18000 Steps) (loss=0.66466): 100%|██████████| 7/7 [00:15<00:00,  2.15s/it]\n",
      "Training (6859 / 18000 Steps) (loss=0.48129): 100%|██████████| 7/7 [00:15<00:00,  2.17s/it]\n",
      "Training (6866 / 18000 Steps) (loss=0.48940): 100%|██████████| 7/7 [00:14<00:00,  2.12s/it]\n",
      "Training (6873 / 18000 Steps) (loss=0.33608): 100%|██████████| 7/7 [00:14<00:00,  2.11s/it]\n",
      "Training (6880 / 18000 Steps) (loss=0.53286): 100%|██████████| 7/7 [00:14<00:00,  2.14s/it]\n",
      "Training (6887 / 18000 Steps) (loss=0.39717): 100%|██████████| 7/7 [00:15<00:00,  2.16s/it]\n",
      "Training (6894 / 18000 Steps) (loss=0.54588): 100%|██████████| 7/7 [00:14<00:00,  2.10s/it]\n",
      "Validate (6895 / 10 Steps): 100%|██████████| 2/2 [00:08<00:00,  4.33s/it]<00:04,  2.08s/it]\n",
      "Training (6900 / 18000 Steps) (loss=0.57531):  86%|████████▌ | 6/7 [00:22<00:04,  4.97s/it]"
     ]
    },
    {
     "name": "stdout",
     "output_type": "stream",
     "text": [
      "Model Was Not Saved ! Current Best Avg. Dice: 0.30716705322265625 Current Avg. Dice: 0.23802046477794647 Current Avg. tumor Dice: 0.29745253920555115 Current Avg. lymph Dice: 0.178588405251503\n"
     ]
    },
    {
     "name": "stderr",
     "output_type": "stream",
     "text": [
      "Training (6901 / 18000 Steps) (loss=0.51983): 100%|██████████| 7/7 [00:23<00:00,  3.39s/it]\n",
      "Training (6908 / 18000 Steps) (loss=0.37571): 100%|██████████| 7/7 [00:14<00:00,  2.11s/it]\n",
      "Training (6915 / 18000 Steps) (loss=0.67523): 100%|██████████| 7/7 [00:14<00:00,  2.14s/it]\n",
      "Training (6922 / 18000 Steps) (loss=0.51290): 100%|██████████| 7/7 [00:14<00:00,  2.13s/it]\n",
      "Training (6929 / 18000 Steps) (loss=0.50895): 100%|██████████| 7/7 [00:14<00:00,  2.13s/it]\n",
      "Training (6936 / 18000 Steps) (loss=0.43622): 100%|██████████| 7/7 [00:14<00:00,  2.11s/it]\n",
      "Training (6943 / 18000 Steps) (loss=0.63564): 100%|██████████| 7/7 [00:15<00:00,  2.14s/it]\n",
      "Training (6950 / 18000 Steps) (loss=0.44924): 100%|██████████| 7/7 [00:15<00:00,  2.15s/it]\n",
      "Training (6957 / 18000 Steps) (loss=0.45514): 100%|██████████| 7/7 [00:14<00:00,  2.12s/it]\n",
      "Training (6964 / 18000 Steps) (loss=0.67178): 100%|██████████| 7/7 [00:14<00:00,  2.12s/it]\n",
      "Training (6971 / 18000 Steps) (loss=0.66713): 100%|██████████| 7/7 [00:14<00:00,  2.13s/it]\n",
      "Training (6978 / 18000 Steps) (loss=0.29102): 100%|██████████| 7/7 [00:14<00:00,  2.09s/it]\n",
      "Training (6985 / 18000 Steps) (loss=0.61384): 100%|██████████| 7/7 [00:15<00:00,  2.16s/it]\n",
      "Training (6992 / 18000 Steps) (loss=0.57339): 100%|██████████| 7/7 [00:14<00:00,  2.13s/it]\n",
      "Training (6999 / 18000 Steps) (loss=0.45044): 100%|██████████| 7/7 [00:15<00:00,  2.18s/it]\n",
      "Validate (7000 / 10 Steps): 100%|██████████| 2/2 [00:08<00:00,  4.36s/it]<?, ?it/s]\n",
      "Training (7000 / 18000 Steps) (loss=0.52232):  14%|█▍        | 1/7 [00:13<01:21, 13.55s/it]"
     ]
    },
    {
     "name": "stdout",
     "output_type": "stream",
     "text": [
      "Model Was Not Saved ! Current Best Avg. Dice: 0.30716705322265625 Current Avg. Dice: 0.27352407574653625 Current Avg. tumor Dice: 0.3117872476577759 Current Avg. lymph Dice: 0.23526087403297424\n"
     ]
    },
    {
     "name": "stderr",
     "output_type": "stream",
     "text": [
      "Training (7006 / 18000 Steps) (loss=0.40414): 100%|██████████| 7/7 [00:23<00:00,  3.42s/it]\n",
      "Training (7013 / 18000 Steps) (loss=0.54627): 100%|██████████| 7/7 [00:14<00:00,  2.13s/it]\n",
      "Training (7020 / 18000 Steps) (loss=0.56284): 100%|██████████| 7/7 [00:14<00:00,  2.12s/it]\n",
      "Training (7027 / 18000 Steps) (loss=0.39816): 100%|██████████| 7/7 [00:14<00:00,  2.13s/it]\n",
      "Training (7034 / 18000 Steps) (loss=0.46407): 100%|██████████| 7/7 [00:14<00:00,  2.12s/it]\n",
      "Training (7041 / 18000 Steps) (loss=0.36730): 100%|██████████| 7/7 [00:15<00:00,  2.22s/it]\n",
      "Training (7048 / 18000 Steps) (loss=0.62050): 100%|██████████| 7/7 [00:14<00:00,  2.11s/it]\n",
      "Training (7055 / 18000 Steps) (loss=0.55460): 100%|██████████| 7/7 [00:15<00:00,  2.17s/it]\n",
      "Training (7062 / 18000 Steps) (loss=0.61036): 100%|██████████| 7/7 [00:14<00:00,  2.11s/it]\n",
      "Training (7069 / 18000 Steps) (loss=0.44864): 100%|██████████| 7/7 [00:14<00:00,  2.10s/it]\n",
      "Training (7076 / 18000 Steps) (loss=0.52023): 100%|██████████| 7/7 [00:14<00:00,  2.10s/it]\n",
      "Training (7083 / 18000 Steps) (loss=0.54964): 100%|██████████| 7/7 [00:15<00:00,  2.15s/it]\n",
      "Training (7090 / 18000 Steps) (loss=0.47146): 100%|██████████| 7/7 [00:15<00:00,  2.24s/it]\n",
      "Training (7097 / 18000 Steps) (loss=0.54695): 100%|██████████| 7/7 [00:14<00:00,  2.10s/it]\n",
      "Validate (7098 / 10 Steps): 100%|██████████| 2/2 [00:08<00:00,  4.18s/it]<00:15,  3.12s/it]\n",
      "Training (7100 / 18000 Steps) (loss=0.44735):  43%|████▎     | 3/7 [00:16<00:25,  6.36s/it]"
     ]
    },
    {
     "name": "stdout",
     "output_type": "stream",
     "text": [
      "Model Was Not Saved ! Current Best Avg. Dice: 0.30716705322265625 Current Avg. Dice: 0.2854594886302948 Current Avg. tumor Dice: 0.32279908657073975 Current Avg. lymph Dice: 0.24811984598636627\n"
     ]
    },
    {
     "name": "stderr",
     "output_type": "stream",
     "text": [
      "Training (7104 / 18000 Steps) (loss=0.53719): 100%|██████████| 7/7 [00:23<00:00,  3.39s/it]\n",
      "Training (7111 / 18000 Steps) (loss=0.45101): 100%|██████████| 7/7 [00:14<00:00,  2.11s/it]\n",
      "Training (7118 / 18000 Steps) (loss=0.45654): 100%|██████████| 7/7 [00:14<00:00,  2.13s/it]\n",
      "Training (7125 / 18000 Steps) (loss=0.45286): 100%|██████████| 7/7 [00:15<00:00,  2.14s/it]\n",
      "Training (7132 / 18000 Steps) (loss=0.28802): 100%|██████████| 7/7 [00:14<00:00,  2.13s/it]\n",
      "Training (7139 / 18000 Steps) (loss=0.20996): 100%|██████████| 7/7 [00:15<00:00,  2.17s/it]\n",
      "Training (7146 / 18000 Steps) (loss=0.55601): 100%|██████████| 7/7 [00:15<00:00,  2.20s/it]\n",
      "Training (7153 / 18000 Steps) (loss=0.49355): 100%|██████████| 7/7 [00:14<00:00,  2.11s/it]\n",
      "Training (7160 / 18000 Steps) (loss=0.54588): 100%|██████████| 7/7 [00:15<00:00,  2.15s/it]\n",
      "Training (7167 / 18000 Steps) (loss=0.53328): 100%|██████████| 7/7 [00:14<00:00,  2.10s/it]\n",
      "Training (7174 / 18000 Steps) (loss=0.39829): 100%|██████████| 7/7 [00:15<00:00,  2.15s/it]\n",
      "Training (7181 / 18000 Steps) (loss=0.49997): 100%|██████████| 7/7 [00:14<00:00,  2.12s/it]\n",
      "Training (7188 / 18000 Steps) (loss=0.43308): 100%|██████████| 7/7 [00:15<00:00,  2.14s/it]\n",
      "Training (7195 / 18000 Steps) (loss=0.56785): 100%|██████████| 7/7 [00:14<00:00,  2.14s/it]\n",
      "Validate (7196 / 10 Steps): 100%|██████████| 2/2 [00:08<00:00,  4.23s/it]<00:06,  2.20s/it]\n",
      "Training (7200 / 18000 Steps) (loss=0.49329):  71%|███████▏  | 5/7 [00:20<00:10,  5.12s/it]"
     ]
    },
    {
     "name": "stdout",
     "output_type": "stream",
     "text": [
      "Model Was Not Saved ! Current Best Avg. Dice: 0.30716705322265625 Current Avg. Dice: 0.2382156252861023 Current Avg. tumor Dice: 0.2167874574661255 Current Avg. lymph Dice: 0.2596437931060791\n"
     ]
    },
    {
     "name": "stderr",
     "output_type": "stream",
     "text": [
      "Training (7202 / 18000 Steps) (loss=0.53714): 100%|██████████| 7/7 [00:23<00:00,  3.35s/it]\n",
      "Training (7209 / 18000 Steps) (loss=0.63882): 100%|██████████| 7/7 [00:15<00:00,  2.14s/it]\n",
      "Training (7216 / 18000 Steps) (loss=0.32782): 100%|██████████| 7/7 [00:14<00:00,  2.10s/it]\n",
      "Training (7223 / 18000 Steps) (loss=0.42039): 100%|██████████| 7/7 [00:15<00:00,  2.19s/it]\n",
      "Training (7230 / 18000 Steps) (loss=0.45366): 100%|██████████| 7/7 [00:14<00:00,  2.14s/it]\n",
      "Training (7237 / 18000 Steps) (loss=0.58736): 100%|██████████| 7/7 [00:15<00:00,  2.20s/it]\n",
      "Training (7244 / 18000 Steps) (loss=0.44073): 100%|██████████| 7/7 [00:14<00:00,  2.13s/it]\n",
      "Training (7251 / 18000 Steps) (loss=0.35717): 100%|██████████| 7/7 [00:14<00:00,  2.10s/it]\n",
      "Training (7258 / 18000 Steps) (loss=0.59612): 100%|██████████| 7/7 [00:14<00:00,  2.13s/it]\n",
      "Training (7265 / 18000 Steps) (loss=0.55127): 100%|██████████| 7/7 [00:15<00:00,  2.20s/it]\n",
      "Training (7272 / 18000 Steps) (loss=0.43581): 100%|██████████| 7/7 [00:14<00:00,  2.10s/it]\n",
      "Training (7279 / 18000 Steps) (loss=0.56921): 100%|██████████| 7/7 [00:14<00:00,  2.14s/it]\n",
      "Training (7286 / 18000 Steps) (loss=0.46860): 100%|██████████| 7/7 [00:15<00:00,  2.17s/it]\n",
      "Training (7293 / 18000 Steps) (loss=0.24767): 100%|██████████| 7/7 [00:14<00:00,  2.11s/it]\n",
      "Validate (7294 / 10 Steps): 100%|██████████| 2/2 [00:08<00:00,  4.24s/it]<00:01,  2.00s/it]\n",
      "Training (7300 / 18000 Steps) (loss=0.51218): 100%|██████████| 7/7 [00:23<00:00,  3.37s/it]\n"
     ]
    },
    {
     "name": "stdout",
     "output_type": "stream",
     "text": [
      "Model Was Not Saved ! Current Best Avg. Dice: 0.30716705322265625 Current Avg. Dice: 0.287778377532959 Current Avg. tumor Dice: 0.2951757311820984 Current Avg. lymph Dice: 0.2803809940814972\n"
     ]
    },
    {
     "name": "stderr",
     "output_type": "stream",
     "text": [
      "Training (7307 / 18000 Steps) (loss=0.42284): 100%|██████████| 7/7 [00:14<00:00,  2.14s/it]\n",
      "Training (7314 / 18000 Steps) (loss=0.57007): 100%|██████████| 7/7 [00:15<00:00,  2.15s/it]\n",
      "Training (7321 / 18000 Steps) (loss=0.38521): 100%|██████████| 7/7 [00:15<00:00,  2.16s/it]\n",
      "Training (7328 / 18000 Steps) (loss=0.65265): 100%|██████████| 7/7 [00:15<00:00,  2.19s/it]\n",
      "Training (7335 / 18000 Steps) (loss=0.39683): 100%|██████████| 7/7 [00:15<00:00,  2.17s/it]\n",
      "Training (7342 / 18000 Steps) (loss=0.37214): 100%|██████████| 7/7 [00:14<00:00,  2.12s/it]\n",
      "Training (7349 / 18000 Steps) (loss=0.52197): 100%|██████████| 7/7 [00:14<00:00,  2.14s/it]\n",
      "Training (7356 / 18000 Steps) (loss=0.43078): 100%|██████████| 7/7 [00:14<00:00,  2.12s/it]\n",
      "Training (7363 / 18000 Steps) (loss=0.56954): 100%|██████████| 7/7 [00:15<00:00,  2.18s/it]\n",
      "Training (7370 / 18000 Steps) (loss=0.30655): 100%|██████████| 7/7 [00:15<00:00,  2.16s/it]\n",
      "Training (7377 / 18000 Steps) (loss=0.44190): 100%|██████████| 7/7 [00:14<00:00,  2.14s/it]\n",
      "Training (7384 / 18000 Steps) (loss=0.47666): 100%|██████████| 7/7 [00:15<00:00,  2.16s/it]\n",
      "Training (7391 / 18000 Steps) (loss=0.32938): 100%|██████████| 7/7 [00:15<00:00,  2.19s/it]\n",
      "Training (7398 / 18000 Steps) (loss=0.47495): 100%|██████████| 7/7 [00:14<00:00,  2.11s/it]\n",
      "Validate (7399 / 10 Steps): 100%|██████████| 2/2 [00:08<00:00,  4.26s/it]<00:27,  4.63s/it]\n",
      "Training (7400 / 18000 Steps) (loss=0.56869):  29%|██▊       | 2/7 [00:15<00:40,  8.02s/it]"
     ]
    },
    {
     "name": "stdout",
     "output_type": "stream",
     "text": [
      "Model Was Not Saved ! Current Best Avg. Dice: 0.30716705322265625 Current Avg. Dice: 0.28362905979156494 Current Avg. tumor Dice: 0.2853345274925232 Current Avg. lymph Dice: 0.2819235622882843\n"
     ]
    },
    {
     "name": "stderr",
     "output_type": "stream",
     "text": [
      "Training (7405 / 18000 Steps) (loss=0.49956): 100%|██████████| 7/7 [00:23<00:00,  3.38s/it]\n",
      "Training (7412 / 18000 Steps) (loss=0.36956): 100%|██████████| 7/7 [00:14<00:00,  2.14s/it]\n",
      "Training (7419 / 18000 Steps) (loss=0.20075): 100%|██████████| 7/7 [00:15<00:00,  2.19s/it]\n",
      "Training (7426 / 18000 Steps) (loss=0.45758): 100%|██████████| 7/7 [00:15<00:00,  2.16s/it]\n",
      "Training (7433 / 18000 Steps) (loss=0.47084): 100%|██████████| 7/7 [00:15<00:00,  2.22s/it]\n",
      "Training (7440 / 18000 Steps) (loss=0.52823): 100%|██████████| 7/7 [00:15<00:00,  2.15s/it]\n",
      "Training (7447 / 18000 Steps) (loss=0.47687): 100%|██████████| 7/7 [00:15<00:00,  2.17s/it]\n",
      "Training (7454 / 18000 Steps) (loss=0.66325): 100%|██████████| 7/7 [00:15<00:00,  2.17s/it]\n",
      "Training (7461 / 18000 Steps) (loss=0.39121): 100%|██████████| 7/7 [00:15<00:00,  2.14s/it]\n",
      "Training (7468 / 18000 Steps) (loss=0.55279): 100%|██████████| 7/7 [00:14<00:00,  2.14s/it]\n",
      "Training (7475 / 18000 Steps) (loss=0.67361): 100%|██████████| 7/7 [00:15<00:00,  2.16s/it]\n",
      "Training (7482 / 18000 Steps) (loss=0.62103): 100%|██████████| 7/7 [00:15<00:00,  2.20s/it]\n",
      "Training (7489 / 18000 Steps) (loss=0.67413): 100%|██████████| 7/7 [00:14<00:00,  2.14s/it]\n",
      "Training (7496 / 18000 Steps) (loss=0.52815): 100%|██████████| 7/7 [00:15<00:00,  2.17s/it]\n",
      "Validate (7497 / 10 Steps): 100%|██████████| 2/2 [00:08<00:00,  4.33s/it]<00:09,  2.48s/it]\n",
      "Training (7500 / 18000 Steps) (loss=0.53144):  57%|█████▋    | 4/7 [00:18<00:16,  5.64s/it]"
     ]
    },
    {
     "name": "stdout",
     "output_type": "stream",
     "text": [
      "Model Was Not Saved ! Current Best Avg. Dice: 0.30716705322265625 Current Avg. Dice: 0.29011422395706177 Current Avg. tumor Dice: 0.285787433385849 Current Avg. lymph Dice: 0.2944410443305969\n"
     ]
    },
    {
     "name": "stderr",
     "output_type": "stream",
     "text": [
      "Training (7503 / 18000 Steps) (loss=0.38317): 100%|██████████| 7/7 [00:23<00:00,  3.38s/it]\n",
      "Training (7510 / 18000 Steps) (loss=0.52340): 100%|██████████| 7/7 [00:15<00:00,  2.17s/it]\n",
      "Training (7517 / 18000 Steps) (loss=0.41066): 100%|██████████| 7/7 [00:15<00:00,  2.19s/it]\n",
      "Training (7524 / 18000 Steps) (loss=0.53217): 100%|██████████| 7/7 [00:15<00:00,  2.21s/it]\n",
      "Training (7531 / 18000 Steps) (loss=0.53919): 100%|██████████| 7/7 [00:15<00:00,  2.23s/it]\n",
      "Training (7538 / 18000 Steps) (loss=0.64797): 100%|██████████| 7/7 [00:15<00:00,  2.19s/it]\n",
      "Training (7545 / 18000 Steps) (loss=0.49128): 100%|██████████| 7/7 [00:15<00:00,  2.17s/it]\n",
      "Training (7552 / 18000 Steps) (loss=0.41612): 100%|██████████| 7/7 [00:14<00:00,  2.14s/it]\n",
      "Training (7559 / 18000 Steps) (loss=0.58893): 100%|██████████| 7/7 [00:15<00:00,  2.15s/it]\n",
      "Training (7566 / 18000 Steps) (loss=0.40726): 100%|██████████| 7/7 [00:15<00:00,  2.19s/it]\n",
      "Training (7573 / 18000 Steps) (loss=0.44588): 100%|██████████| 7/7 [00:15<00:00,  2.17s/it]\n",
      "Training (7580 / 18000 Steps) (loss=0.45449): 100%|██████████| 7/7 [00:15<00:00,  2.16s/it]\n",
      "Training (7587 / 18000 Steps) (loss=0.32775): 100%|██████████| 7/7 [00:15<00:00,  2.20s/it]\n",
      "Training (7594 / 18000 Steps) (loss=0.55051): 100%|██████████| 7/7 [00:15<00:00,  2.16s/it]\n",
      "Validate (7595 / 10 Steps): 100%|██████████| 2/2 [00:08<00:00,  4.33s/it]<00:04,  2.07s/it]\n",
      "Training (7600 / 18000 Steps) (loss=0.55543):  86%|████████▌ | 6/7 [00:22<00:04,  4.94s/it]"
     ]
    },
    {
     "name": "stdout",
     "output_type": "stream",
     "text": [
      "Model Was Not Saved ! Current Best Avg. Dice: 0.30716705322265625 Current Avg. Dice: 0.2888757884502411 Current Avg. tumor Dice: 0.3136017918586731 Current Avg. lymph Dice: 0.2641497254371643\n"
     ]
    },
    {
     "name": "stderr",
     "output_type": "stream",
     "text": [
      "Training (7601 / 18000 Steps) (loss=0.47358): 100%|██████████| 7/7 [00:23<00:00,  3.39s/it]\n",
      "Training (7608 / 18000 Steps) (loss=0.49434): 100%|██████████| 7/7 [00:15<00:00,  2.22s/it]\n",
      "Training (7615 / 18000 Steps) (loss=0.51903): 100%|██████████| 7/7 [00:15<00:00,  2.15s/it]\n",
      "Training (7622 / 18000 Steps) (loss=0.47728): 100%|██████████| 7/7 [00:15<00:00,  2.19s/it]\n",
      "Training (7629 / 18000 Steps) (loss=0.67237): 100%|██████████| 7/7 [00:15<00:00,  2.16s/it]\n",
      "Training (7636 / 18000 Steps) (loss=0.61006): 100%|██████████| 7/7 [00:15<00:00,  2.20s/it]\n",
      "Training (7643 / 18000 Steps) (loss=0.56797): 100%|██████████| 7/7 [00:14<00:00,  2.14s/it]\n",
      "Training (7650 / 18000 Steps) (loss=0.46984): 100%|██████████| 7/7 [00:15<00:00,  2.22s/it]\n",
      "Training (7657 / 18000 Steps) (loss=0.27678): 100%|██████████| 7/7 [00:15<00:00,  2.17s/it]\n",
      "Training (7664 / 18000 Steps) (loss=0.42358): 100%|██████████| 7/7 [00:15<00:00,  2.17s/it]\n",
      "Training (7671 / 18000 Steps) (loss=0.26955): 100%|██████████| 7/7 [00:15<00:00,  2.16s/it]\n",
      "Training (7678 / 18000 Steps) (loss=0.52725): 100%|██████████| 7/7 [00:15<00:00,  2.18s/it]\n",
      "Training (7685 / 18000 Steps) (loss=0.55183): 100%|██████████| 7/7 [00:15<00:00,  2.18s/it]\n",
      "Training (7692 / 18000 Steps) (loss=0.67721): 100%|██████████| 7/7 [00:14<00:00,  2.14s/it]\n",
      "Training (7699 / 18000 Steps) (loss=0.33718): 100%|██████████| 7/7 [00:15<00:00,  2.15s/it]\n",
      "Validate (7700 / 10 Steps): 100%|██████████| 2/2 [00:08<00:00,  4.32s/it]<?, ?it/s]\n",
      "Training (7700 / 18000 Steps) (loss=0.40253):  14%|█▍        | 1/7 [00:13<01:20, 13.34s/it]"
     ]
    },
    {
     "name": "stdout",
     "output_type": "stream",
     "text": [
      "Model Was Not Saved ! Current Best Avg. Dice: 0.30716705322265625 Current Avg. Dice: 0.2717835307121277 Current Avg. tumor Dice: 0.26885318756103516 Current Avg. lymph Dice: 0.2747138440608978\n"
     ]
    },
    {
     "name": "stderr",
     "output_type": "stream",
     "text": [
      "Training (7706 / 18000 Steps) (loss=0.44742): 100%|██████████| 7/7 [00:23<00:00,  3.39s/it]\n",
      "Training (7713 / 18000 Steps) (loss=0.47835): 100%|██████████| 7/7 [00:15<00:00,  2.18s/it]\n",
      "Training (7720 / 18000 Steps) (loss=0.50821): 100%|██████████| 7/7 [00:15<00:00,  2.16s/it]\n",
      "Training (7727 / 18000 Steps) (loss=0.48820): 100%|██████████| 7/7 [00:14<00:00,  2.12s/it]\n",
      "Training (7734 / 18000 Steps) (loss=0.46683): 100%|██████████| 7/7 [00:15<00:00,  2.24s/it]\n",
      "Training (7741 / 18000 Steps) (loss=0.44689): 100%|██████████| 7/7 [00:15<00:00,  2.17s/it]\n",
      "Training (7748 / 18000 Steps) (loss=0.50502): 100%|██████████| 7/7 [00:15<00:00,  2.16s/it]\n",
      "Training (7755 / 18000 Steps) (loss=0.38132): 100%|██████████| 7/7 [00:14<00:00,  2.11s/it]\n",
      "Training (7762 / 18000 Steps) (loss=0.46534): 100%|██████████| 7/7 [00:14<00:00,  2.14s/it]\n",
      "Training (7769 / 18000 Steps) (loss=0.47499): 100%|██████████| 7/7 [00:15<00:00,  2.25s/it]\n",
      "Training (7776 / 18000 Steps) (loss=0.63447): 100%|██████████| 7/7 [00:15<00:00,  2.15s/it]\n",
      "Training (7783 / 18000 Steps) (loss=0.43158): 100%|██████████| 7/7 [00:15<00:00,  2.17s/it]\n",
      "Training (7790 / 18000 Steps) (loss=0.49410): 100%|██████████| 7/7 [00:15<00:00,  2.22s/it]\n",
      "Training (7797 / 18000 Steps) (loss=0.38079): 100%|██████████| 7/7 [00:15<00:00,  2.16s/it]\n",
      "Validate (7798 / 10 Steps): 100%|██████████| 2/2 [00:08<00:00,  4.28s/it]<00:14,  2.98s/it]\n",
      "Training (7800 / 18000 Steps) (loss=0.48848):  43%|████▎     | 3/7 [00:16<00:25,  6.37s/it]"
     ]
    },
    {
     "name": "stdout",
     "output_type": "stream",
     "text": [
      "Model Was Not Saved ! Current Best Avg. Dice: 0.30716705322265625 Current Avg. Dice: 0.2653276324272156 Current Avg. tumor Dice: 0.24184902012348175 Current Avg. lymph Dice: 0.2888062596321106\n"
     ]
    },
    {
     "name": "stderr",
     "output_type": "stream",
     "text": [
      "Training (7804 / 18000 Steps) (loss=0.48393): 100%|██████████| 7/7 [00:23<00:00,  3.36s/it]\n",
      "Training (7811 / 18000 Steps) (loss=0.38550): 100%|██████████| 7/7 [00:15<00:00,  2.18s/it]\n",
      "Training (7818 / 18000 Steps) (loss=0.55759): 100%|██████████| 7/7 [00:15<00:00,  2.15s/it]\n",
      "Training (7825 / 18000 Steps) (loss=0.24773): 100%|██████████| 7/7 [00:15<00:00,  2.15s/it]\n",
      "Training (7832 / 18000 Steps) (loss=0.60898): 100%|██████████| 7/7 [00:15<00:00,  2.18s/it]\n",
      "Training (7839 / 18000 Steps) (loss=0.22741): 100%|██████████| 7/7 [00:15<00:00,  2.17s/it]\n",
      "Training (7846 / 18000 Steps) (loss=0.36525): 100%|██████████| 7/7 [00:15<00:00,  2.15s/it]\n",
      "Training (7853 / 18000 Steps) (loss=0.41958): 100%|██████████| 7/7 [00:15<00:00,  2.23s/it]\n",
      "Training (7860 / 18000 Steps) (loss=0.51242): 100%|██████████| 7/7 [00:14<00:00,  2.14s/it]\n",
      "Training (7867 / 18000 Steps) (loss=0.55187): 100%|██████████| 7/7 [00:14<00:00,  2.12s/it]\n",
      "Training (7874 / 18000 Steps) (loss=0.48682): 100%|██████████| 7/7 [00:15<00:00,  2.19s/it]\n",
      "Training (7881 / 18000 Steps) (loss=0.43279): 100%|██████████| 7/7 [00:15<00:00,  2.19s/it]\n",
      "Training (7888 / 18000 Steps) (loss=0.52657): 100%|██████████| 7/7 [00:15<00:00,  2.16s/it]\n",
      "Training (7895 / 18000 Steps) (loss=0.60181): 100%|██████████| 7/7 [00:14<00:00,  2.11s/it]\n",
      "Validate (7896 / 10 Steps): 100%|██████████| 2/2 [00:08<00:00,  4.27s/it]<00:07,  2.37s/it]\n",
      "Training (7900 / 18000 Steps) (loss=0.48292):  71%|███████▏  | 5/7 [00:20<00:10,  5.27s/it]"
     ]
    },
    {
     "name": "stdout",
     "output_type": "stream",
     "text": [
      "Model Was Not Saved ! Current Best Avg. Dice: 0.30716705322265625 Current Avg. Dice: 0.25483980774879456 Current Avg. tumor Dice: 0.27030640840530396 Current Avg. lymph Dice: 0.23937323689460754\n"
     ]
    },
    {
     "name": "stderr",
     "output_type": "stream",
     "text": [
      "Training (7902 / 18000 Steps) (loss=0.37149): 100%|██████████| 7/7 [00:23<00:00,  3.43s/it]\n",
      "Training (7909 / 18000 Steps) (loss=0.44793): 100%|██████████| 7/7 [00:14<00:00,  2.13s/it]\n",
      "Training (7916 / 18000 Steps) (loss=0.30157): 100%|██████████| 7/7 [00:15<00:00,  2.15s/it]\n",
      "Training (7923 / 18000 Steps) (loss=0.34536): 100%|██████████| 7/7 [00:15<00:00,  2.18s/it]\n",
      "Training (7930 / 18000 Steps) (loss=0.44690): 100%|██████████| 7/7 [00:15<00:00,  2.16s/it]\n",
      "Training (7937 / 18000 Steps) (loss=0.42231): 100%|██████████| 7/7 [00:15<00:00,  2.22s/it]\n",
      "Training (7944 / 18000 Steps) (loss=0.34455): 100%|██████████| 7/7 [00:15<00:00,  2.20s/it]\n",
      "Training (7951 / 18000 Steps) (loss=0.40763): 100%|██████████| 7/7 [00:15<00:00,  2.19s/it]\n",
      "Training (7958 / 18000 Steps) (loss=0.37133): 100%|██████████| 7/7 [00:15<00:00,  2.15s/it]\n",
      "Training (7965 / 18000 Steps) (loss=0.30803): 100%|██████████| 7/7 [00:14<00:00,  2.11s/it]\n",
      "Training (7972 / 18000 Steps) (loss=0.67132): 100%|██████████| 7/7 [00:15<00:00,  2.20s/it]\n",
      "Training (7979 / 18000 Steps) (loss=0.43975): 100%|██████████| 7/7 [00:14<00:00,  2.12s/it]\n",
      "Training (7986 / 18000 Steps) (loss=0.56143): 100%|██████████| 7/7 [00:15<00:00,  2.18s/it]\n",
      "Training (7993 / 18000 Steps) (loss=0.25160): 100%|██████████| 7/7 [00:15<00:00,  2.16s/it]\n",
      "Validate (7994 / 10 Steps): 100%|██████████| 2/2 [00:08<00:00,  4.47s/it]<00:02,  2.01s/it]\n",
      "Training (8000 / 18000 Steps) (loss=0.47343): 100%|██████████| 7/7 [00:24<00:00,  3.49s/it]\n"
     ]
    },
    {
     "name": "stdout",
     "output_type": "stream",
     "text": [
      "Model Was Not Saved ! Current Best Avg. Dice: 0.30716705322265625 Current Avg. Dice: 0.2911682724952698 Current Avg. tumor Dice: 0.3058176636695862 Current Avg. lymph Dice: 0.276518851518631\n"
     ]
    },
    {
     "name": "stderr",
     "output_type": "stream",
     "text": [
      "Training (8007 / 18000 Steps) (loss=0.40504): 100%|██████████| 7/7 [00:14<00:00,  2.14s/it]\n",
      "Training (8014 / 18000 Steps) (loss=0.38804): 100%|██████████| 7/7 [00:15<00:00,  2.18s/it]\n",
      "Training (8021 / 18000 Steps) (loss=0.37639): 100%|██████████| 7/7 [00:15<00:00,  2.16s/it]\n",
      "Training (8028 / 18000 Steps) (loss=0.56623): 100%|██████████| 7/7 [00:14<00:00,  2.13s/it]\n",
      "Training (8035 / 18000 Steps) (loss=0.49044): 100%|██████████| 7/7 [00:14<00:00,  2.12s/it]\n",
      "Training (8042 / 18000 Steps) (loss=0.61148): 100%|██████████| 7/7 [00:15<00:00,  2.23s/it]\n",
      "Training (8049 / 18000 Steps) (loss=0.49852): 100%|██████████| 7/7 [00:15<00:00,  2.19s/it]\n",
      "Training (8056 / 18000 Steps) (loss=0.42092): 100%|██████████| 7/7 [00:14<00:00,  2.13s/it]\n",
      "Training (8063 / 18000 Steps) (loss=0.56091): 100%|██████████| 7/7 [00:14<00:00,  2.13s/it]\n",
      "Training (8070 / 18000 Steps) (loss=0.40121): 100%|██████████| 7/7 [00:14<00:00,  2.11s/it]\n",
      "Training (8077 / 18000 Steps) (loss=0.50077): 100%|██████████| 7/7 [00:15<00:00,  2.15s/it]\n",
      "Training (8084 / 18000 Steps) (loss=0.65514): 100%|██████████| 7/7 [00:14<00:00,  2.14s/it]\n",
      "Training (8091 / 18000 Steps) (loss=0.54856): 100%|██████████| 7/7 [00:15<00:00,  2.16s/it]\n",
      "Training (8098 / 18000 Steps) (loss=0.50111): 100%|██████████| 7/7 [00:15<00:00,  2.16s/it]\n",
      "Validate (8099 / 10 Steps): 100%|██████████| 2/2 [00:08<00:00,  4.27s/it]<00:26,  4.49s/it]\n",
      "Training (8100 / 18000 Steps) (loss=0.39483):  29%|██▊       | 2/7 [00:14<00:40,  8.01s/it]"
     ]
    },
    {
     "name": "stdout",
     "output_type": "stream",
     "text": [
      "Model Was Not Saved ! Current Best Avg. Dice: 0.30716705322265625 Current Avg. Dice: 0.3041064739227295 Current Avg. tumor Dice: 0.33833378553390503 Current Avg. lymph Dice: 0.26987919211387634\n"
     ]
    },
    {
     "name": "stderr",
     "output_type": "stream",
     "text": [
      "Training (8105 / 18000 Steps) (loss=0.36919): 100%|██████████| 7/7 [00:23<00:00,  3.35s/it]\n",
      "Training (8112 / 18000 Steps) (loss=0.45796): 100%|██████████| 7/7 [00:15<00:00,  2.17s/it]\n",
      "Training (8119 / 18000 Steps) (loss=0.53690): 100%|██████████| 7/7 [00:14<00:00,  2.14s/it]\n",
      "Training (8126 / 18000 Steps) (loss=0.48995): 100%|██████████| 7/7 [00:14<00:00,  2.12s/it]\n",
      "Training (8133 / 18000 Steps) (loss=0.40549): 100%|██████████| 7/7 [00:15<00:00,  2.18s/it]\n",
      "Training (8140 / 18000 Steps) (loss=0.54886): 100%|██████████| 7/7 [00:15<00:00,  2.18s/it]\n",
      "Training (8147 / 18000 Steps) (loss=0.38023): 100%|██████████| 7/7 [00:14<00:00,  2.12s/it]\n",
      "Training (8154 / 18000 Steps) (loss=0.42312): 100%|██████████| 7/7 [00:15<00:00,  2.16s/it]\n",
      "Training (8161 / 18000 Steps) (loss=0.39740): 100%|██████████| 7/7 [00:15<00:00,  2.16s/it]\n",
      "Training (8168 / 18000 Steps) (loss=0.40546): 100%|██████████| 7/7 [00:15<00:00,  2.16s/it]\n",
      "Training (8175 / 18000 Steps) (loss=0.37567): 100%|██████████| 7/7 [00:15<00:00,  2.15s/it]\n",
      "Training (8182 / 18000 Steps) (loss=0.34577): 100%|██████████| 7/7 [00:15<00:00,  2.22s/it]\n",
      "Training (8189 / 18000 Steps) (loss=0.54618): 100%|██████████| 7/7 [00:15<00:00,  2.17s/it]\n",
      "Training (8196 / 18000 Steps) (loss=0.44936): 100%|██████████| 7/7 [00:15<00:00,  2.16s/it]\n",
      "Validate (8197 / 10 Steps): 100%|██████████| 2/2 [00:08<00:00,  4.20s/it]<00:09,  2.44s/it]\n",
      "Training (8200 / 18000 Steps) (loss=0.31494):  57%|█████▋    | 4/7 [00:18<00:16,  5.54s/it]"
     ]
    },
    {
     "name": "stdout",
     "output_type": "stream",
     "text": [
      "Model Was Not Saved ! Current Best Avg. Dice: 0.30716705322265625 Current Avg. Dice: 0.2925763726234436 Current Avg. tumor Dice: 0.3035614490509033 Current Avg. lymph Dice: 0.2815912365913391\n"
     ]
    },
    {
     "name": "stderr",
     "output_type": "stream",
     "text": [
      "Training (8203 / 18000 Steps) (loss=0.51095): 100%|██████████| 7/7 [00:23<00:00,  3.37s/it]\n",
      "Training (8210 / 18000 Steps) (loss=0.33008): 100%|██████████| 7/7 [00:15<00:00,  2.18s/it]\n",
      "Training (8217 / 18000 Steps) (loss=0.42335): 100%|██████████| 7/7 [00:14<00:00,  2.10s/it]\n",
      "Training (8224 / 18000 Steps) (loss=0.53717): 100%|██████████| 7/7 [00:15<00:00,  2.21s/it]\n",
      "Training (8231 / 18000 Steps) (loss=0.58957): 100%|██████████| 7/7 [00:15<00:00,  2.19s/it]\n",
      "Training (8238 / 18000 Steps) (loss=0.35598): 100%|██████████| 7/7 [00:15<00:00,  2.15s/it]\n",
      "Training (8245 / 18000 Steps) (loss=0.40621): 100%|██████████| 7/7 [00:15<00:00,  2.17s/it]\n",
      "Training (8252 / 18000 Steps) (loss=0.33599): 100%|██████████| 7/7 [00:15<00:00,  2.23s/it]\n",
      "Training (8259 / 18000 Steps) (loss=0.46284): 100%|██████████| 7/7 [00:15<00:00,  2.22s/it]\n",
      "Training (8266 / 18000 Steps) (loss=0.41069): 100%|██████████| 7/7 [00:14<00:00,  2.13s/it]\n",
      "Training (8273 / 18000 Steps) (loss=0.66985): 100%|██████████| 7/7 [00:15<00:00,  2.26s/it]\n",
      "Training (8280 / 18000 Steps) (loss=0.39714): 100%|██████████| 7/7 [00:15<00:00,  2.24s/it]\n",
      "Training (8287 / 18000 Steps) (loss=0.36577): 100%|██████████| 7/7 [00:15<00:00,  2.15s/it]\n",
      "Training (8294 / 18000 Steps) (loss=0.53155): 100%|██████████| 7/7 [00:15<00:00,  2.16s/it]\n",
      "Validate (8295 / 10 Steps): 100%|██████████| 2/2 [00:08<00:00,  4.18s/it]<00:04,  2.05s/it]\n",
      "Training (8300 / 18000 Steps) (loss=0.56198):  86%|████████▌ | 6/7 [00:22<00:04,  4.85s/it]"
     ]
    },
    {
     "name": "stdout",
     "output_type": "stream",
     "text": [
      "Model Was Not Saved ! Current Best Avg. Dice: 0.30716705322265625 Current Avg. Dice: 0.28440648317337036 Current Avg. tumor Dice: 0.28925374150276184 Current Avg. lymph Dice: 0.2795591950416565\n"
     ]
    },
    {
     "name": "stderr",
     "output_type": "stream",
     "text": [
      "Training (8301 / 18000 Steps) (loss=0.43148): 100%|██████████| 7/7 [00:23<00:00,  3.33s/it]\n",
      "Training (8308 / 18000 Steps) (loss=0.49838): 100%|██████████| 7/7 [00:15<00:00,  2.17s/it]\n",
      "Training (8315 / 18000 Steps) (loss=0.39229): 100%|██████████| 7/7 [00:15<00:00,  2.18s/it]\n",
      "Training (8322 / 18000 Steps) (loss=0.34970): 100%|██████████| 7/7 [00:15<00:00,  2.19s/it]\n",
      "Training (8329 / 18000 Steps) (loss=0.56561): 100%|██████████| 7/7 [00:15<00:00,  2.26s/it]\n",
      "Training (8336 / 18000 Steps) (loss=0.43058): 100%|██████████| 7/7 [00:16<00:00,  2.30s/it]\n",
      "Training (8343 / 18000 Steps) (loss=0.48787): 100%|██████████| 7/7 [00:15<00:00,  2.26s/it]\n",
      "Training (8350 / 18000 Steps) (loss=0.67013): 100%|██████████| 7/7 [00:16<00:00,  2.37s/it]\n",
      "Training (8357 / 18000 Steps) (loss=0.61248): 100%|██████████| 7/7 [00:18<00:00,  2.63s/it]\n",
      "Training (8364 / 18000 Steps) (loss=0.56053): 100%|██████████| 7/7 [00:18<00:00,  2.66s/it]\n",
      "Training (8371 / 18000 Steps) (loss=0.42988): 100%|██████████| 7/7 [00:17<00:00,  2.55s/it]\n",
      "Training (8378 / 18000 Steps) (loss=0.49378): 100%|██████████| 7/7 [00:19<00:00,  2.77s/it]\n",
      "Training (8385 / 18000 Steps) (loss=0.49471): 100%|██████████| 7/7 [00:18<00:00,  2.62s/it]\n",
      "Training (8392 / 18000 Steps) (loss=0.59550): 100%|██████████| 7/7 [00:16<00:00,  2.38s/it]\n",
      "Training (8399 / 18000 Steps) (loss=0.34627): 100%|██████████| 7/7 [00:16<00:00,  2.32s/it]\n",
      "Validate (8400 / 10 Steps): 100%|██████████| 2/2 [00:08<00:00,  4.13s/it]<?, ?it/s]\n",
      "Training (8400 / 18000 Steps) (loss=0.49318):  14%|█▍        | 1/7 [00:12<01:16, 12.68s/it]"
     ]
    },
    {
     "name": "stdout",
     "output_type": "stream",
     "text": [
      "Model Was Not Saved ! Current Best Avg. Dice: 0.30716705322265625 Current Avg. Dice: 0.269871324300766 Current Avg. tumor Dice: 0.3035573661327362 Current Avg. lymph Dice: 0.236185222864151\n"
     ]
    },
    {
     "name": "stderr",
     "output_type": "stream",
     "text": [
      "Training (8406 / 18000 Steps) (loss=0.39946): 100%|██████████| 7/7 [00:23<00:00,  3.31s/it]\n",
      "Training (8413 / 18000 Steps) (loss=0.50250): 100%|██████████| 7/7 [00:15<00:00,  2.15s/it]\n",
      "Training (8420 / 18000 Steps) (loss=0.36199): 100%|██████████| 7/7 [00:15<00:00,  2.17s/it]\n",
      "Training (8427 / 18000 Steps) (loss=0.39785): 100%|██████████| 7/7 [00:15<00:00,  2.20s/it]\n",
      "Training (8434 / 18000 Steps) (loss=0.55281): 100%|██████████| 7/7 [00:15<00:00,  2.21s/it]\n",
      "Training (8441 / 18000 Steps) (loss=0.41098): 100%|██████████| 7/7 [00:15<00:00,  2.20s/it]\n",
      "Training (8448 / 18000 Steps) (loss=0.38171): 100%|██████████| 7/7 [00:15<00:00,  2.19s/it]\n",
      "Training (8455 / 18000 Steps) (loss=0.47148): 100%|██████████| 7/7 [00:15<00:00,  2.15s/it]\n",
      "Training (8462 / 18000 Steps) (loss=0.61058): 100%|██████████| 7/7 [00:15<00:00,  2.25s/it]\n",
      "Training (8469 / 18000 Steps) (loss=0.33752): 100%|██████████| 7/7 [00:14<00:00,  2.12s/it]\n",
      "Training (8476 / 18000 Steps) (loss=0.34284): 100%|██████████| 7/7 [00:15<00:00,  2.15s/it]\n",
      "Training (8483 / 18000 Steps) (loss=0.35868): 100%|██████████| 7/7 [00:14<00:00,  2.13s/it]\n",
      "Training (8490 / 18000 Steps) (loss=0.34579): 100%|██████████| 7/7 [00:14<00:00,  2.14s/it]\n",
      "Training (8497 / 18000 Steps) (loss=0.51580): 100%|██████████| 7/7 [00:14<00:00,  2.12s/it]\n",
      "Validate (8498 / 10 Steps): 100%|██████████| 2/2 [00:08<00:00,  4.17s/it]<00:14,  2.98s/it]\n",
      "Training (8500 / 18000 Steps) (loss=0.54604):  43%|████▎     | 3/7 [00:16<00:25,  6.29s/it]"
     ]
    },
    {
     "name": "stdout",
     "output_type": "stream",
     "text": [
      "Model Was Not Saved ! Current Best Avg. Dice: 0.30716705322265625 Current Avg. Dice: 0.3017291724681854 Current Avg. tumor Dice: 0.30614498257637024 Current Avg. lymph Dice: 0.297313392162323\n"
     ]
    },
    {
     "name": "stderr",
     "output_type": "stream",
     "text": [
      "Training (8504 / 18000 Steps) (loss=0.52282): 100%|██████████| 7/7 [00:23<00:00,  3.36s/it]\n",
      "Training (8511 / 18000 Steps) (loss=0.35366): 100%|██████████| 7/7 [00:14<00:00,  2.14s/it]\n",
      "Training (8518 / 18000 Steps) (loss=0.24135): 100%|██████████| 7/7 [00:15<00:00,  2.20s/it]\n",
      "Training (8525 / 18000 Steps) (loss=0.37512): 100%|██████████| 7/7 [00:15<00:00,  2.21s/it]\n",
      "Training (8532 / 18000 Steps) (loss=0.54149): 100%|██████████| 7/7 [00:14<00:00,  2.11s/it]\n",
      "Training (8539 / 18000 Steps) (loss=0.58340): 100%|██████████| 7/7 [00:15<00:00,  2.15s/it]\n",
      "Training (8546 / 18000 Steps) (loss=0.62049): 100%|██████████| 7/7 [00:15<00:00,  2.15s/it]\n",
      "Training (8553 / 18000 Steps) (loss=0.39945): 100%|██████████| 7/7 [00:14<00:00,  2.13s/it]\n",
      "Training (8560 / 18000 Steps) (loss=0.59850): 100%|██████████| 7/7 [00:15<00:00,  2.18s/it]\n",
      "Training (8567 / 18000 Steps) (loss=0.52769): 100%|██████████| 7/7 [00:15<00:00,  2.16s/it]\n",
      "Training (8574 / 18000 Steps) (loss=0.25228): 100%|██████████| 7/7 [00:14<00:00,  2.14s/it]\n",
      "Training (8581 / 18000 Steps) (loss=0.58314): 100%|██████████| 7/7 [00:15<00:00,  2.24s/it]\n",
      "Training (8588 / 18000 Steps) (loss=0.39834): 100%|██████████| 7/7 [00:14<00:00,  2.13s/it]\n",
      "Training (8595 / 18000 Steps) (loss=0.48009): 100%|██████████| 7/7 [00:15<00:00,  2.18s/it]\n",
      "Validate (8596 / 10 Steps): 100%|██████████| 2/2 [00:08<00:00,  4.25s/it]<00:06,  2.19s/it]\n",
      "Training (8600 / 18000 Steps) (loss=0.43034):  71%|███████▏  | 5/7 [00:20<00:10,  5.12s/it]"
     ]
    },
    {
     "name": "stdout",
     "output_type": "stream",
     "text": [
      "Model Was Not Saved ! Current Best Avg. Dice: 0.30716705322265625 Current Avg. Dice: 0.2729684114456177 Current Avg. tumor Dice: 0.30109184980392456 Current Avg. lymph Dice: 0.2448449730873108\n"
     ]
    },
    {
     "name": "stderr",
     "output_type": "stream",
     "text": [
      "Training (8602 / 18000 Steps) (loss=0.50707): 100%|██████████| 7/7 [00:23<00:00,  3.35s/it]\n",
      "Training (8609 / 18000 Steps) (loss=0.61167): 100%|██████████| 7/7 [00:15<00:00,  2.21s/it]\n",
      "Training (8616 / 18000 Steps) (loss=0.37262): 100%|██████████| 7/7 [00:14<00:00,  2.13s/it]\n",
      "Training (8623 / 18000 Steps) (loss=0.50006): 100%|██████████| 7/7 [00:15<00:00,  2.19s/it]\n",
      "Training (8630 / 18000 Steps) (loss=0.35518): 100%|██████████| 7/7 [00:14<00:00,  2.12s/it]\n",
      "Training (8637 / 18000 Steps) (loss=0.48557): 100%|██████████| 7/7 [00:14<00:00,  2.13s/it]\n",
      "Training (8644 / 18000 Steps) (loss=0.28611): 100%|██████████| 7/7 [00:14<00:00,  2.14s/it]\n",
      "Training (8651 / 18000 Steps) (loss=0.51926): 100%|██████████| 7/7 [00:15<00:00,  2.16s/it]\n",
      "Training (8658 / 18000 Steps) (loss=0.49559): 100%|██████████| 7/7 [00:14<00:00,  2.14s/it]\n",
      "Training (8665 / 18000 Steps) (loss=0.55629): 100%|██████████| 7/7 [00:15<00:00,  2.21s/it]\n",
      "Training (8672 / 18000 Steps) (loss=0.40555): 100%|██████████| 7/7 [00:15<00:00,  2.16s/it]\n",
      "Training (8679 / 18000 Steps) (loss=0.60509): 100%|██████████| 7/7 [00:14<00:00,  2.12s/it]\n",
      "Training (8686 / 18000 Steps) (loss=0.46886): 100%|██████████| 7/7 [00:15<00:00,  2.16s/it]\n",
      "Training (8693 / 18000 Steps) (loss=0.48335): 100%|██████████| 7/7 [00:15<00:00,  2.15s/it]\n",
      "Validate (8694 / 10 Steps): 100%|██████████| 2/2 [00:08<00:00,  4.30s/it]<00:02,  2.01s/it]\n",
      "Training (8700 / 18000 Steps) (loss=0.60447): 100%|██████████| 7/7 [00:23<00:00,  3.37s/it]\n"
     ]
    },
    {
     "name": "stdout",
     "output_type": "stream",
     "text": [
      "Model Was Not Saved ! Current Best Avg. Dice: 0.30716705322265625 Current Avg. Dice: 0.2777312994003296 Current Avg. tumor Dice: 0.2827554941177368 Current Avg. lymph Dice: 0.2727070748806\n"
     ]
    },
    {
     "name": "stderr",
     "output_type": "stream",
     "text": [
      "Training (8707 / 18000 Steps) (loss=0.39923): 100%|██████████| 7/7 [00:14<00:00,  2.11s/it]\n",
      "Training (8714 / 18000 Steps) (loss=0.56978): 100%|██████████| 7/7 [00:14<00:00,  2.12s/it]\n",
      "Training (8721 / 18000 Steps) (loss=0.49504): 100%|██████████| 7/7 [00:15<00:00,  2.15s/it]\n",
      "Training (8728 / 18000 Steps) (loss=0.50281): 100%|██████████| 7/7 [00:14<00:00,  2.12s/it]\n",
      "Training (8735 / 18000 Steps) (loss=0.78694): 100%|██████████| 7/7 [00:14<00:00,  2.11s/it]\n",
      "Training (8742 / 18000 Steps) (loss=0.46875): 100%|██████████| 7/7 [00:14<00:00,  2.13s/it]\n",
      "Training (8749 / 18000 Steps) (loss=0.56055): 100%|██████████| 7/7 [00:15<00:00,  2.17s/it]\n",
      "Training (8756 / 18000 Steps) (loss=0.47022): 100%|██████████| 7/7 [00:14<00:00,  2.10s/it]\n",
      "Training (8763 / 18000 Steps) (loss=0.46936): 100%|██████████| 7/7 [00:15<00:00,  2.16s/it]\n",
      "Training (8770 / 18000 Steps) (loss=0.34443): 100%|██████████| 7/7 [00:14<00:00,  2.14s/it]\n",
      "Training (8777 / 18000 Steps) (loss=0.55062): 100%|██████████| 7/7 [00:15<00:00,  2.15s/it]\n",
      "Training (8784 / 18000 Steps) (loss=0.53381): 100%|██████████| 7/7 [00:14<00:00,  2.11s/it]\n",
      "Training (8791 / 18000 Steps) (loss=0.45695): 100%|██████████| 7/7 [00:14<00:00,  2.12s/it]\n",
      "Training (8798 / 18000 Steps) (loss=0.42331): 100%|██████████| 7/7 [00:14<00:00,  2.10s/it]\n",
      "Validate (8799 / 10 Steps): 100%|██████████| 2/2 [00:08<00:00,  4.24s/it]<00:26,  4.44s/it]\n",
      "Training (8800 / 18000 Steps) (loss=0.34475):  29%|██▊       | 2/7 [00:14<00:39,  7.90s/it]"
     ]
    },
    {
     "name": "stdout",
     "output_type": "stream",
     "text": [
      "Model Was Not Saved ! Current Best Avg. Dice: 0.30716705322265625 Current Avg. Dice: 0.2678406238555908 Current Avg. tumor Dice: 0.3055674731731415 Current Avg. lymph Dice: 0.23011380434036255\n"
     ]
    },
    {
     "name": "stderr",
     "output_type": "stream",
     "text": [
      "Training (8805 / 18000 Steps) (loss=0.48748): 100%|██████████| 7/7 [00:23<00:00,  3.34s/it]\n",
      "Training (8812 / 18000 Steps) (loss=0.27414): 100%|██████████| 7/7 [00:14<00:00,  2.12s/it]\n",
      "Training (8819 / 18000 Steps) (loss=0.58600): 100%|██████████| 7/7 [00:15<00:00,  2.17s/it]\n",
      "Training (8826 / 18000 Steps) (loss=0.25969): 100%|██████████| 7/7 [00:14<00:00,  2.09s/it]\n",
      "Training (8833 / 18000 Steps) (loss=0.54855): 100%|██████████| 7/7 [00:15<00:00,  2.17s/it]\n",
      "Training (8840 / 18000 Steps) (loss=0.55018): 100%|██████████| 7/7 [00:15<00:00,  2.17s/it]\n",
      "Training (8847 / 18000 Steps) (loss=0.37557): 100%|██████████| 7/7 [00:14<00:00,  2.13s/it]\n",
      "Training (8854 / 18000 Steps) (loss=0.63836): 100%|██████████| 7/7 [00:14<00:00,  2.13s/it]\n",
      "Training (8861 / 18000 Steps) (loss=0.55145): 100%|██████████| 7/7 [00:14<00:00,  2.11s/it]\n",
      "Training (8868 / 18000 Steps) (loss=0.22112): 100%|██████████| 7/7 [00:15<00:00,  2.16s/it]\n",
      "Training (8875 / 18000 Steps) (loss=0.54220): 100%|██████████| 7/7 [00:14<00:00,  2.12s/it]\n",
      "Training (8882 / 18000 Steps) (loss=0.45555): 100%|██████████| 7/7 [00:14<00:00,  2.11s/it]\n",
      "Training (8889 / 18000 Steps) (loss=0.48463): 100%|██████████| 7/7 [00:15<00:00,  2.16s/it]\n",
      "Training (8896 / 18000 Steps) (loss=0.36736): 100%|██████████| 7/7 [00:14<00:00,  2.12s/it]\n",
      "Validate (8897 / 10 Steps): 100%|██████████| 2/2 [00:08<00:00,  4.23s/it]<00:09,  2.48s/it]\n",
      "Training (8900 / 18000 Steps) (loss=0.41044):  57%|█████▋    | 4/7 [00:18<00:16,  5.56s/it]"
     ]
    },
    {
     "name": "stdout",
     "output_type": "stream",
     "text": [
      "Model Was Not Saved ! Current Best Avg. Dice: 0.30716705322265625 Current Avg. Dice: 0.24876239895820618 Current Avg. tumor Dice: 0.24073141813278198 Current Avg. lymph Dice: 0.25679337978363037\n"
     ]
    },
    {
     "name": "stderr",
     "output_type": "stream",
     "text": [
      "Training (8903 / 18000 Steps) (loss=0.25636): 100%|██████████| 7/7 [00:23<00:00,  3.36s/it]\n",
      "Training (8910 / 18000 Steps) (loss=0.39562): 100%|██████████| 7/7 [00:15<00:00,  2.16s/it]\n",
      "Training (8917 / 18000 Steps) (loss=0.46968): 100%|██████████| 7/7 [00:15<00:00,  2.18s/it]\n",
      "Training (8924 / 18000 Steps) (loss=0.36413): 100%|██████████| 7/7 [00:14<00:00,  2.12s/it]\n",
      "Training (8931 / 18000 Steps) (loss=0.40231): 100%|██████████| 7/7 [00:15<00:00,  2.21s/it]\n",
      "Training (8938 / 18000 Steps) (loss=0.66954): 100%|██████████| 7/7 [00:14<00:00,  2.12s/it]\n",
      "Training (8945 / 18000 Steps) (loss=0.54433): 100%|██████████| 7/7 [00:14<00:00,  2.11s/it]\n",
      "Training (8952 / 18000 Steps) (loss=0.33088): 100%|██████████| 7/7 [00:14<00:00,  2.12s/it]\n",
      "Training (8959 / 18000 Steps) (loss=0.35484): 100%|██████████| 7/7 [00:15<00:00,  2.15s/it]\n",
      "Training (8966 / 18000 Steps) (loss=0.53758): 100%|██████████| 7/7 [00:14<00:00,  2.09s/it]\n",
      "Training (8973 / 18000 Steps) (loss=0.47776): 100%|██████████| 7/7 [00:15<00:00,  2.16s/it]\n",
      "Training (8980 / 18000 Steps) (loss=0.56792): 100%|██████████| 7/7 [00:15<00:00,  2.18s/it]\n",
      "Training (8987 / 18000 Steps) (loss=0.51802): 100%|██████████| 7/7 [00:14<00:00,  2.14s/it]\n",
      "Training (8994 / 18000 Steps) (loss=0.46995): 100%|██████████| 7/7 [00:14<00:00,  2.12s/it]\n",
      "Validate (8995 / 10 Steps): 100%|██████████| 2/2 [00:08<00:00,  4.29s/it]<00:04,  2.05s/it]\n",
      "Training (9000 / 18000 Steps) (loss=0.43145):  86%|████████▌ | 6/7 [00:23<00:05,  5.22s/it]"
     ]
    },
    {
     "name": "stdout",
     "output_type": "stream",
     "text": [
      "Model Was Saved ! Current Best Avg. Dice: 0.32095929980278015 Current Avg. Dice: 0.32095929980278015 Current Avg. tumor Dice: 0.3231199383735657 Current Avg. lymph Dice: 0.31879863142967224\n"
     ]
    },
    {
     "name": "stderr",
     "output_type": "stream",
     "text": [
      "Training (9001 / 18000 Steps) (loss=0.46889): 100%|██████████| 7/7 [00:24<00:00,  3.48s/it]\n",
      "Training (9008 / 18000 Steps) (loss=0.37869): 100%|██████████| 7/7 [00:14<00:00,  2.13s/it]\n",
      "Training (9015 / 18000 Steps) (loss=0.24603): 100%|██████████| 7/7 [00:15<00:00,  2.20s/it]\n",
      "Training (9022 / 18000 Steps) (loss=0.46651): 100%|██████████| 7/7 [00:14<00:00,  2.12s/it]\n",
      "Training (9029 / 18000 Steps) (loss=0.44004): 100%|██████████| 7/7 [00:14<00:00,  2.14s/it]\n",
      "Training (9036 / 18000 Steps) (loss=0.44501): 100%|██████████| 7/7 [00:15<00:00,  2.18s/it]\n",
      "Training (9043 / 18000 Steps) (loss=0.29848): 100%|██████████| 7/7 [00:14<00:00,  2.11s/it]\n",
      "Training (9050 / 18000 Steps) (loss=0.33232): 100%|██████████| 7/7 [00:15<00:00,  2.15s/it]\n",
      "Training (9057 / 18000 Steps) (loss=0.31747): 100%|██████████| 7/7 [00:14<00:00,  2.13s/it]\n",
      "Training (9064 / 18000 Steps) (loss=0.55094): 100%|██████████| 7/7 [00:15<00:00,  2.19s/it]\n",
      "Training (9071 / 18000 Steps) (loss=0.58790): 100%|██████████| 7/7 [00:15<00:00,  2.18s/it]\n",
      "Training (9078 / 18000 Steps) (loss=0.36386): 100%|██████████| 7/7 [00:14<00:00,  2.10s/it]\n",
      "Training (9085 / 18000 Steps) (loss=0.44221): 100%|██████████| 7/7 [00:14<00:00,  2.10s/it]\n",
      "Training (9092 / 18000 Steps) (loss=0.44052): 100%|██████████| 7/7 [00:15<00:00,  2.18s/it]\n",
      "Training (9099 / 18000 Steps) (loss=0.42942): 100%|██████████| 7/7 [00:14<00:00,  2.13s/it]\n",
      "Validate (9100 / 10 Steps): 100%|██████████| 2/2 [00:08<00:00,  4.28s/it]<?, ?it/s]\n",
      "Training (9100 / 18000 Steps) (loss=0.28096):  14%|█▍        | 1/7 [00:13<01:19, 13.25s/it]"
     ]
    },
    {
     "name": "stdout",
     "output_type": "stream",
     "text": [
      "Model Was Not Saved ! Current Best Avg. Dice: 0.32095929980278015 Current Avg. Dice: 0.24149003624916077 Current Avg. tumor Dice: 0.26956912875175476 Current Avg. lymph Dice: 0.21341094374656677\n"
     ]
    },
    {
     "name": "stderr",
     "output_type": "stream",
     "text": [
      "Training (9106 / 18000 Steps) (loss=0.34953): 100%|██████████| 7/7 [00:23<00:00,  3.39s/it]\n",
      "Training (9113 / 18000 Steps) (loss=0.32147): 100%|██████████| 7/7 [00:14<00:00,  2.14s/it]\n",
      "Training (9120 / 18000 Steps) (loss=0.44673): 100%|██████████| 7/7 [00:14<00:00,  2.09s/it]\n",
      "Training (9127 / 18000 Steps) (loss=0.55862): 100%|██████████| 7/7 [00:15<00:00,  2.18s/it]\n",
      "Training (9134 / 18000 Steps) (loss=0.46905): 100%|██████████| 7/7 [00:15<00:00,  2.16s/it]\n",
      "Training (9141 / 18000 Steps) (loss=0.46730): 100%|██████████| 7/7 [00:14<00:00,  2.14s/it]\n",
      "Training (9148 / 18000 Steps) (loss=0.40101): 100%|██████████| 7/7 [00:14<00:00,  2.13s/it]\n",
      "Training (9155 / 18000 Steps) (loss=0.29271): 100%|██████████| 7/7 [00:15<00:00,  2.18s/it]\n",
      "Training (9162 / 18000 Steps) (loss=0.45853): 100%|██████████| 7/7 [00:15<00:00,  2.14s/it]\n",
      "Training (9169 / 18000 Steps) (loss=0.41731): 100%|██████████| 7/7 [00:14<00:00,  2.13s/it]\n",
      "Training (9176 / 18000 Steps) (loss=0.40848): 100%|██████████| 7/7 [00:14<00:00,  2.10s/it]\n",
      "Training (9183 / 18000 Steps) (loss=0.48333): 100%|██████████| 7/7 [00:14<00:00,  2.10s/it]\n",
      "Training (9190 / 18000 Steps) (loss=0.38774): 100%|██████████| 7/7 [00:14<00:00,  2.11s/it]\n",
      "Training (9197 / 18000 Steps) (loss=0.39408): 100%|██████████| 7/7 [00:14<00:00,  2.13s/it]\n",
      "Validate (9198 / 10 Steps): 100%|██████████| 2/2 [00:08<00:00,  4.24s/it]<00:15,  3.05s/it]\n",
      "Training (9200 / 18000 Steps) (loss=0.51577):  43%|████▎     | 3/7 [00:17<00:25,  6.43s/it]"
     ]
    },
    {
     "name": "stdout",
     "output_type": "stream",
     "text": [
      "Model Was Not Saved ! Current Best Avg. Dice: 0.32095929980278015 Current Avg. Dice: 0.2842300534248352 Current Avg. tumor Dice: 0.30885767936706543 Current Avg. lymph Dice: 0.25960248708724976\n"
     ]
    },
    {
     "name": "stderr",
     "output_type": "stream",
     "text": [
      "Training (9204 / 18000 Steps) (loss=0.51723): 100%|██████████| 7/7 [00:23<00:00,  3.39s/it]\n",
      "Training (9211 / 18000 Steps) (loss=0.41791): 100%|██████████| 7/7 [00:15<00:00,  2.16s/it]\n",
      "Training (9218 / 18000 Steps) (loss=0.61025): 100%|██████████| 7/7 [00:15<00:00,  2.17s/it]\n",
      "Training (9225 / 18000 Steps) (loss=0.56628): 100%|██████████| 7/7 [00:15<00:00,  2.17s/it]\n",
      "Training (9232 / 18000 Steps) (loss=0.41544): 100%|██████████| 7/7 [00:15<00:00,  2.15s/it]\n",
      "Training (9239 / 18000 Steps) (loss=0.52280): 100%|██████████| 7/7 [00:15<00:00,  2.16s/it]\n",
      "Training (9246 / 18000 Steps) (loss=0.47957): 100%|██████████| 7/7 [00:14<00:00,  2.13s/it]\n",
      "Training (9253 / 18000 Steps) (loss=0.35282): 100%|██████████| 7/7 [00:15<00:00,  2.16s/it]\n",
      "Training (9260 / 18000 Steps) (loss=0.48738): 100%|██████████| 7/7 [00:15<00:00,  2.17s/it]\n",
      "Training (9267 / 18000 Steps) (loss=0.52643): 100%|██████████| 7/7 [00:14<00:00,  2.10s/it]\n",
      "Training (9274 / 18000 Steps) (loss=0.32282): 100%|██████████| 7/7 [00:15<00:00,  2.18s/it]\n",
      "Training (9281 / 18000 Steps) (loss=0.47790): 100%|██████████| 7/7 [00:14<00:00,  2.14s/it]\n",
      "Training (9288 / 18000 Steps) (loss=0.57753): 100%|██████████| 7/7 [00:14<00:00,  2.12s/it]\n",
      "Training (9295 / 18000 Steps) (loss=0.41498): 100%|██████████| 7/7 [00:15<00:00,  2.23s/it]\n",
      "Validate (9296 / 10 Steps): 100%|██████████| 2/2 [00:08<00:00,  4.24s/it]<00:06,  2.23s/it]\n",
      "Training (9300 / 18000 Steps) (loss=0.38019):  71%|███████▏  | 5/7 [00:20<00:10,  5.17s/it]"
     ]
    },
    {
     "name": "stdout",
     "output_type": "stream",
     "text": [
      "Model Was Not Saved ! Current Best Avg. Dice: 0.32095929980278015 Current Avg. Dice: 0.2847478687763214 Current Avg. tumor Dice: 0.28591060638427734 Current Avg. lymph Dice: 0.2835851311683655\n"
     ]
    },
    {
     "name": "stderr",
     "output_type": "stream",
     "text": [
      "Training (9302 / 18000 Steps) (loss=0.32938): 100%|██████████| 7/7 [00:23<00:00,  3.38s/it]\n",
      "Training (9309 / 18000 Steps) (loss=0.34407): 100%|██████████| 7/7 [00:14<00:00,  2.14s/it]\n",
      "Training (9316 / 18000 Steps) (loss=0.44818): 100%|██████████| 7/7 [00:14<00:00,  2.12s/it]\n",
      "Training (9323 / 18000 Steps) (loss=0.37109): 100%|██████████| 7/7 [00:15<00:00,  2.22s/it]\n",
      "Training (9330 / 18000 Steps) (loss=0.43400): 100%|██████████| 7/7 [00:14<00:00,  2.12s/it]\n",
      "Training (9337 / 18000 Steps) (loss=0.54316): 100%|██████████| 7/7 [00:15<00:00,  2.23s/it]\n",
      "Training (9344 / 18000 Steps) (loss=0.47377): 100%|██████████| 7/7 [00:14<00:00,  2.14s/it]\n",
      "Training (9351 / 18000 Steps) (loss=0.52266): 100%|██████████| 7/7 [00:15<00:00,  2.17s/it]\n",
      "Training (9358 / 18000 Steps) (loss=0.69753): 100%|██████████| 7/7 [00:15<00:00,  2.15s/it]\n",
      "Training (9365 / 18000 Steps) (loss=0.46165): 100%|██████████| 7/7 [00:14<00:00,  2.14s/it]\n",
      "Training (9372 / 18000 Steps) (loss=0.45822): 100%|██████████| 7/7 [00:14<00:00,  2.12s/it]\n",
      "Training (9379 / 18000 Steps) (loss=0.32242): 100%|██████████| 7/7 [00:15<00:00,  2.18s/it]\n",
      "Training (9386 / 18000 Steps) (loss=0.46086): 100%|██████████| 7/7 [00:14<00:00,  2.11s/it]\n",
      "Training (9393 / 18000 Steps) (loss=0.45853): 100%|██████████| 7/7 [00:14<00:00,  2.13s/it]\n",
      "Validate (9394 / 10 Steps): 100%|██████████| 2/2 [00:08<00:00,  4.27s/it]<00:02,  2.07s/it]\n",
      "Training (9400 / 18000 Steps) (loss=0.50379): 100%|██████████| 7/7 [00:24<00:00,  3.44s/it]\n"
     ]
    },
    {
     "name": "stdout",
     "output_type": "stream",
     "text": [
      "Model Was Not Saved ! Current Best Avg. Dice: 0.32095929980278015 Current Avg. Dice: 0.2895098924636841 Current Avg. tumor Dice: 0.3218355178833008 Current Avg. lymph Dice: 0.25718432664871216\n"
     ]
    },
    {
     "name": "stderr",
     "output_type": "stream",
     "text": [
      "Training (9407 / 18000 Steps) (loss=0.36260): 100%|██████████| 7/7 [00:14<00:00,  2.14s/it]\n",
      "Training (9414 / 18000 Steps) (loss=0.25514): 100%|██████████| 7/7 [00:14<00:00,  2.12s/it]\n",
      "Training (9421 / 18000 Steps) (loss=0.35548): 100%|██████████| 7/7 [00:15<00:00,  2.23s/it]\n",
      "Training (9428 / 18000 Steps) (loss=0.55596): 100%|██████████| 7/7 [00:14<00:00,  2.13s/it]\n",
      "Training (9435 / 18000 Steps) (loss=0.35586): 100%|██████████| 7/7 [00:14<00:00,  2.12s/it]\n",
      "Training (9442 / 18000 Steps) (loss=0.31251): 100%|██████████| 7/7 [00:15<00:00,  2.15s/it]\n",
      "Training (9449 / 18000 Steps) (loss=0.60305): 100%|██████████| 7/7 [00:15<00:00,  2.15s/it]\n",
      "Training (9456 / 18000 Steps) (loss=0.39833): 100%|██████████| 7/7 [00:15<00:00,  2.16s/it]\n",
      "Training (9463 / 18000 Steps) (loss=0.35911): 100%|██████████| 7/7 [00:14<00:00,  2.12s/it]\n",
      "Training (9470 / 18000 Steps) (loss=0.33250): 100%|██████████| 7/7 [00:14<00:00,  2.13s/it]\n",
      "Training (9477 / 18000 Steps) (loss=0.55417): 100%|██████████| 7/7 [00:15<00:00,  2.15s/it]\n",
      "Training (9484 / 18000 Steps) (loss=0.35790): 100%|██████████| 7/7 [00:14<00:00,  2.13s/it]\n",
      "Training (9491 / 18000 Steps) (loss=0.45537): 100%|██████████| 7/7 [00:15<00:00,  2.20s/it]\n",
      "Training (9498 / 18000 Steps) (loss=0.48735): 100%|██████████| 7/7 [00:14<00:00,  2.13s/it]\n",
      "Validate (9499 / 10 Steps): 100%|██████████| 2/2 [00:08<00:00,  4.43s/it]<00:27,  4.63s/it]\n",
      "Training (9500 / 18000 Steps) (loss=0.38894):  29%|██▊       | 2/7 [00:15<00:41,  8.36s/it]"
     ]
    },
    {
     "name": "stdout",
     "output_type": "stream",
     "text": [
      "Model Was Not Saved ! Current Best Avg. Dice: 0.32095929980278015 Current Avg. Dice: 0.2612766921520233 Current Avg. tumor Dice: 0.2614707946777344 Current Avg. lymph Dice: 0.26108255982398987\n"
     ]
    },
    {
     "name": "stderr",
     "output_type": "stream",
     "text": [
      "Training (9505 / 18000 Steps) (loss=0.55209): 100%|██████████| 7/7 [00:23<00:00,  3.43s/it]\n",
      "Training (9512 / 18000 Steps) (loss=0.51384): 100%|██████████| 7/7 [00:14<00:00,  2.11s/it]\n",
      "Training (9519 / 18000 Steps) (loss=0.45207): 100%|██████████| 7/7 [00:15<00:00,  2.15s/it]\n",
      "Training (9526 / 18000 Steps) (loss=0.34239): 100%|██████████| 7/7 [00:15<00:00,  2.16s/it]\n",
      "Training (9533 / 18000 Steps) (loss=0.30340): 100%|██████████| 7/7 [00:14<00:00,  2.12s/it]\n",
      "Training (9540 / 18000 Steps) (loss=0.52330): 100%|██████████| 7/7 [00:14<00:00,  2.08s/it]\n",
      "Training (9547 / 18000 Steps) (loss=0.44425): 100%|██████████| 7/7 [00:15<00:00,  2.16s/it]\n",
      "Training (9554 / 18000 Steps) (loss=0.47507): 100%|██████████| 7/7 [00:15<00:00,  2.17s/it]\n",
      "Training (9561 / 18000 Steps) (loss=0.30401): 100%|██████████| 7/7 [00:14<00:00,  2.14s/it]\n",
      "Training (9568 / 18000 Steps) (loss=0.52737): 100%|██████████| 7/7 [00:14<00:00,  2.14s/it]\n",
      "Training (9575 / 18000 Steps) (loss=0.33212): 100%|██████████| 7/7 [00:15<00:00,  2.18s/it]\n",
      "Training (9582 / 18000 Steps) (loss=0.56122): 100%|██████████| 7/7 [00:15<00:00,  2.20s/it]\n",
      "Training (9589 / 18000 Steps) (loss=0.28803): 100%|██████████| 7/7 [00:15<00:00,  2.18s/it]\n",
      "Training (9596 / 18000 Steps) (loss=0.44895): 100%|██████████| 7/7 [00:15<00:00,  2.15s/it]\n",
      "Validate (9597 / 10 Steps): 100%|██████████| 2/2 [00:08<00:00,  4.23s/it]<00:10,  2.57s/it]\n",
      "Training (9600 / 18000 Steps) (loss=0.48689):  57%|█████▋    | 4/7 [00:18<00:16,  5.62s/it]"
     ]
    },
    {
     "name": "stdout",
     "output_type": "stream",
     "text": [
      "Model Was Not Saved ! Current Best Avg. Dice: 0.32095929980278015 Current Avg. Dice: 0.2683713436126709 Current Avg. tumor Dice: 0.29910802841186523 Current Avg. lymph Dice: 0.23763462901115417\n"
     ]
    },
    {
     "name": "stderr",
     "output_type": "stream",
     "text": [
      "Training (9603 / 18000 Steps) (loss=0.43839): 100%|██████████| 7/7 [00:23<00:00,  3.39s/it]\n",
      "Training (9610 / 18000 Steps) (loss=0.21929): 100%|██████████| 7/7 [00:15<00:00,  2.23s/it]\n",
      "Training (9617 / 18000 Steps) (loss=0.43071): 100%|██████████| 7/7 [00:14<00:00,  2.11s/it]\n",
      "Training (9624 / 18000 Steps) (loss=0.40071): 100%|██████████| 7/7 [00:15<00:00,  2.16s/it]\n",
      "Training (9631 / 18000 Steps) (loss=0.39157): 100%|██████████| 7/7 [00:14<00:00,  2.13s/it]\n",
      "Training (9638 / 18000 Steps) (loss=0.36311): 100%|██████████| 7/7 [00:15<00:00,  2.15s/it]\n",
      "Training (9645 / 18000 Steps) (loss=0.57390): 100%|██████████| 7/7 [00:14<00:00,  2.14s/it]\n",
      "Training (9652 / 18000 Steps) (loss=0.49002): 100%|██████████| 7/7 [00:15<00:00,  2.19s/it]\n",
      "Training (9659 / 18000 Steps) (loss=0.50455): 100%|██████████| 7/7 [00:15<00:00,  2.19s/it]\n",
      "Training (9666 / 18000 Steps) (loss=0.32287): 100%|██████████| 7/7 [00:15<00:00,  2.16s/it]\n",
      "Training (9673 / 18000 Steps) (loss=0.23507): 100%|██████████| 7/7 [00:14<00:00,  2.11s/it]\n",
      "Training (9680 / 18000 Steps) (loss=0.49839): 100%|██████████| 7/7 [00:15<00:00,  2.17s/it]\n",
      "Training (9687 / 18000 Steps) (loss=0.55926): 100%|██████████| 7/7 [00:15<00:00,  2.17s/it]\n",
      "Training (9694 / 18000 Steps) (loss=0.50573): 100%|██████████| 7/7 [00:15<00:00,  2.17s/it]\n",
      "Validate (9695 / 10 Steps): 100%|██████████| 2/2 [00:08<00:00,  4.22s/it]<00:04,  2.17s/it]\n",
      "Training (9700 / 18000 Steps) (loss=0.51252):  86%|████████▌ | 6/7 [00:22<00:04,  4.95s/it]"
     ]
    },
    {
     "name": "stdout",
     "output_type": "stream",
     "text": [
      "Model Was Not Saved ! Current Best Avg. Dice: 0.32095929980278015 Current Avg. Dice: 0.27524158358573914 Current Avg. tumor Dice: 0.27140605449676514 Current Avg. lymph Dice: 0.2790771722793579\n"
     ]
    },
    {
     "name": "stderr",
     "output_type": "stream",
     "text": [
      "Training (9701 / 18000 Steps) (loss=0.22690): 100%|██████████| 7/7 [00:24<00:00,  3.46s/it]\n",
      "Training (9708 / 18000 Steps) (loss=0.47952): 100%|██████████| 7/7 [00:14<00:00,  2.14s/it]\n",
      "Training (9715 / 18000 Steps) (loss=0.53858): 100%|██████████| 7/7 [00:14<00:00,  2.12s/it]\n",
      "Training (9722 / 18000 Steps) (loss=0.23403): 100%|██████████| 7/7 [00:15<00:00,  2.21s/it]\n",
      "Training (9729 / 18000 Steps) (loss=0.28978): 100%|██████████| 7/7 [00:15<00:00,  2.21s/it]\n",
      "Training (9736 / 18000 Steps) (loss=0.42116): 100%|██████████| 7/7 [00:15<00:00,  2.16s/it]\n",
      "Training (9743 / 18000 Steps) (loss=0.50190): 100%|██████████| 7/7 [00:15<00:00,  2.26s/it]\n",
      "Training (9750 / 18000 Steps) (loss=0.46312): 100%|██████████| 7/7 [00:15<00:00,  2.18s/it]\n",
      "Training (9757 / 18000 Steps) (loss=0.40581): 100%|██████████| 7/7 [00:14<00:00,  2.12s/it]\n",
      "Training (9764 / 18000 Steps) (loss=0.37264): 100%|██████████| 7/7 [00:15<00:00,  2.21s/it]\n",
      "Training (9771 / 18000 Steps) (loss=0.36911): 100%|██████████| 7/7 [00:15<00:00,  2.16s/it]\n",
      "Training (9778 / 18000 Steps) (loss=0.31101): 100%|██████████| 7/7 [00:15<00:00,  2.20s/it]\n",
      "Training (9785 / 18000 Steps) (loss=0.40897): 100%|██████████| 7/7 [00:15<00:00,  2.16s/it]\n",
      "Training (9792 / 18000 Steps) (loss=0.51923): 100%|██████████| 7/7 [00:15<00:00,  2.18s/it]\n",
      "Training (9799 / 18000 Steps) (loss=0.45607): 100%|██████████| 7/7 [00:15<00:00,  2.15s/it]\n",
      "Validate (9800 / 10 Steps): 100%|██████████| 2/2 [00:08<00:00,  4.39s/it]<?, ?it/s]\n",
      "Training (9800 / 18000 Steps) (loss=0.49153):  14%|█▍        | 1/7 [00:13<01:21, 13.61s/it]"
     ]
    },
    {
     "name": "stdout",
     "output_type": "stream",
     "text": [
      "Model Was Not Saved ! Current Best Avg. Dice: 0.32095929980278015 Current Avg. Dice: 0.298814982175827 Current Avg. tumor Dice: 0.3051796853542328 Current Avg. lymph Dice: 0.2924502491950989\n"
     ]
    },
    {
     "name": "stderr",
     "output_type": "stream",
     "text": [
      "Training (9806 / 18000 Steps) (loss=0.48412): 100%|██████████| 7/7 [00:23<00:00,  3.42s/it]\n",
      "Training (9813 / 18000 Steps) (loss=0.58250): 100%|██████████| 7/7 [00:15<00:00,  2.19s/it]\n",
      "Training (9820 / 18000 Steps) (loss=0.48771): 100%|██████████| 7/7 [00:15<00:00,  2.16s/it]\n",
      "Training (9827 / 18000 Steps) (loss=0.21875): 100%|██████████| 7/7 [00:15<00:00,  2.17s/it]\n",
      "Training (9834 / 18000 Steps) (loss=0.49129): 100%|██████████| 7/7 [00:15<00:00,  2.16s/it]\n",
      "Training (9841 / 18000 Steps) (loss=0.63460): 100%|██████████| 7/7 [00:15<00:00,  2.25s/it]\n",
      "Training (9848 / 18000 Steps) (loss=0.57887): 100%|██████████| 7/7 [00:15<00:00,  2.24s/it]\n",
      "Training (9855 / 18000 Steps) (loss=0.43104): 100%|██████████| 7/7 [00:15<00:00,  2.21s/it]\n",
      "Training (9862 / 18000 Steps) (loss=0.48275): 100%|██████████| 7/7 [00:15<00:00,  2.21s/it]\n",
      "Training (9869 / 18000 Steps) (loss=0.54439): 100%|██████████| 7/7 [00:15<00:00,  2.15s/it]\n",
      "Training (9876 / 18000 Steps) (loss=0.38630): 100%|██████████| 7/7 [00:15<00:00,  2.15s/it]\n",
      "Training (9883 / 18000 Steps) (loss=0.33146): 100%|██████████| 7/7 [00:15<00:00,  2.27s/it]\n",
      "Training (9890 / 18000 Steps) (loss=0.56233): 100%|██████████| 7/7 [00:15<00:00,  2.15s/it]\n",
      "Training (9897 / 18000 Steps) (loss=0.48140): 100%|██████████| 7/7 [00:15<00:00,  2.20s/it]\n",
      "Validate (9898 / 10 Steps): 100%|██████████| 2/2 [00:08<00:00,  4.30s/it]<00:16,  3.33s/it]\n",
      "Training (9900 / 18000 Steps) (loss=0.36540):  43%|████▎     | 3/7 [00:17<00:26,  6.60s/it]"
     ]
    },
    {
     "name": "stdout",
     "output_type": "stream",
     "text": [
      "Model Was Not Saved ! Current Best Avg. Dice: 0.32095929980278015 Current Avg. Dice: 0.2664649784564972 Current Avg. tumor Dice: 0.2580628991127014 Current Avg. lymph Dice: 0.2748670279979706\n"
     ]
    },
    {
     "name": "stderr",
     "output_type": "stream",
     "text": [
      "Training (9904 / 18000 Steps) (loss=0.33284): 100%|██████████| 7/7 [00:24<00:00,  3.53s/it]\n",
      "Training (9911 / 18000 Steps) (loss=0.54407): 100%|██████████| 7/7 [00:15<00:00,  2.17s/it]\n",
      "Training (9918 / 18000 Steps) (loss=0.48456): 100%|██████████| 7/7 [00:15<00:00,  2.19s/it]\n",
      "Training (9925 / 18000 Steps) (loss=0.43567): 100%|██████████| 7/7 [00:15<00:00,  2.19s/it]\n",
      "Training (9932 / 18000 Steps) (loss=0.37955): 100%|██████████| 7/7 [00:15<00:00,  2.17s/it]\n",
      "Training (9939 / 18000 Steps) (loss=0.46929): 100%|██████████| 7/7 [00:15<00:00,  2.19s/it]\n",
      "Training (9946 / 18000 Steps) (loss=0.49776): 100%|██████████| 7/7 [00:15<00:00,  2.21s/it]\n",
      "Training (9953 / 18000 Steps) (loss=0.44529): 100%|██████████| 7/7 [00:15<00:00,  2.18s/it]\n",
      "Training (9960 / 18000 Steps) (loss=0.32512): 100%|██████████| 7/7 [00:15<00:00,  2.20s/it]\n",
      "Training (9967 / 18000 Steps) (loss=0.38095): 100%|██████████| 7/7 [00:15<00:00,  2.21s/it]\n",
      "Training (9974 / 18000 Steps) (loss=0.38474): 100%|██████████| 7/7 [00:15<00:00,  2.19s/it]\n",
      "Training (9981 / 18000 Steps) (loss=0.57970): 100%|██████████| 7/7 [00:15<00:00,  2.22s/it]\n",
      "Training (9988 / 18000 Steps) (loss=0.44538): 100%|██████████| 7/7 [00:15<00:00,  2.17s/it]\n",
      "Training (9995 / 18000 Steps) (loss=0.53123): 100%|██████████| 7/7 [00:15<00:00,  2.22s/it]\n",
      "Validate (9996 / 10 Steps): 100%|██████████| 2/2 [00:08<00:00,  4.31s/it]2<00:06,  2.33s/it]\n",
      "Training (10000 / 18000 Steps) (loss=0.53321):  71%|███████▏  | 5/7 [00:21<00:10,  5.29s/it]"
     ]
    },
    {
     "name": "stdout",
     "output_type": "stream",
     "text": [
      "Model Was Not Saved ! Current Best Avg. Dice: 0.32095929980278015 Current Avg. Dice: 0.30161556601524353 Current Avg. tumor Dice: 0.3697766959667206 Current Avg. lymph Dice: 0.2334544062614441\n"
     ]
    },
    {
     "name": "stderr",
     "output_type": "stream",
     "text": [
      "Training (10002 / 18000 Steps) (loss=0.32153): 100%|██████████| 7/7 [00:24<00:00,  3.50s/it]\n",
      "Training (10009 / 18000 Steps) (loss=0.68353): 100%|██████████| 7/7 [00:15<00:00,  2.18s/it]\n",
      "Training (10016 / 18000 Steps) (loss=0.32279): 100%|██████████| 7/7 [00:15<00:00,  2.16s/it]\n",
      "Training (10023 / 18000 Steps) (loss=0.54147): 100%|██████████| 7/7 [00:15<00:00,  2.16s/it]\n",
      "Training (10030 / 18000 Steps) (loss=0.62177): 100%|██████████| 7/7 [00:15<00:00,  2.22s/it]\n",
      "Training (10037 / 18000 Steps) (loss=0.44026): 100%|██████████| 7/7 [00:15<00:00,  2.18s/it]\n",
      "Training (10044 / 18000 Steps) (loss=0.38027): 100%|██████████| 7/7 [00:15<00:00,  2.23s/it]\n",
      "Training (10051 / 18000 Steps) (loss=0.45863): 100%|██████████| 7/7 [00:15<00:00,  2.21s/it]\n",
      "Training (10058 / 18000 Steps) (loss=0.47475): 100%|██████████| 7/7 [00:15<00:00,  2.18s/it]\n",
      "Training (10065 / 18000 Steps) (loss=0.27934): 100%|██████████| 7/7 [00:15<00:00,  2.19s/it]\n",
      "Training (10072 / 18000 Steps) (loss=0.42629): 100%|██████████| 7/7 [00:15<00:00,  2.16s/it]\n",
      "Training (10079 / 18000 Steps) (loss=0.50589): 100%|██████████| 7/7 [00:15<00:00,  2.19s/it]\n",
      "Training (10086 / 18000 Steps) (loss=0.51077): 100%|██████████| 7/7 [00:15<00:00,  2.20s/it]\n",
      "Training (10093 / 18000 Steps) (loss=0.46705): 100%|██████████| 7/7 [00:15<00:00,  2.17s/it]\n",
      "Validate (10094 / 10 Steps): 100%|██████████| 2/2 [00:08<00:00,  4.37s/it]<00:02,  2.01s/it]\n",
      "Training (10100 / 18000 Steps) (loss=0.30725): 100%|██████████| 7/7 [00:24<00:00,  3.44s/it]\n"
     ]
    },
    {
     "name": "stdout",
     "output_type": "stream",
     "text": [
      "Model Was Not Saved ! Current Best Avg. Dice: 0.32095929980278015 Current Avg. Dice: 0.2556998133659363 Current Avg. tumor Dice: 0.3320524990558624 Current Avg. lymph Dice: 0.17934709787368774\n"
     ]
    },
    {
     "name": "stderr",
     "output_type": "stream",
     "text": [
      "Training (10107 / 18000 Steps) (loss=0.51318): 100%|██████████| 7/7 [00:15<00:00,  2.15s/it]\n",
      "Training (10114 / 18000 Steps) (loss=0.30495): 100%|██████████| 7/7 [00:15<00:00,  2.17s/it]\n",
      "Training (10121 / 18000 Steps) (loss=0.34492): 100%|██████████| 7/7 [00:15<00:00,  2.17s/it]\n",
      "Training (10128 / 18000 Steps) (loss=0.46187): 100%|██████████| 7/7 [00:15<00:00,  2.20s/it]\n",
      "Training (10135 / 18000 Steps) (loss=0.37533): 100%|██████████| 7/7 [00:15<00:00,  2.15s/it]\n",
      "Training (10142 / 18000 Steps) (loss=0.46984): 100%|██████████| 7/7 [00:15<00:00,  2.26s/it]\n",
      "Training (10149 / 18000 Steps) (loss=0.42806): 100%|██████████| 7/7 [00:15<00:00,  2.18s/it]\n",
      "Training (10156 / 18000 Steps) (loss=0.35963): 100%|██████████| 7/7 [00:15<00:00,  2.17s/it]\n",
      "Training (10163 / 18000 Steps) (loss=0.28290): 100%|██████████| 7/7 [00:15<00:00,  2.22s/it]\n",
      "Training (10170 / 18000 Steps) (loss=0.34300): 100%|██████████| 7/7 [00:15<00:00,  2.19s/it]\n",
      "Training (10177 / 18000 Steps) (loss=0.40451): 100%|██████████| 7/7 [00:15<00:00,  2.20s/it]\n",
      "Training (10184 / 18000 Steps) (loss=0.48818): 100%|██████████| 7/7 [00:15<00:00,  2.21s/it]\n",
      "Training (10191 / 18000 Steps) (loss=0.51829): 100%|██████████| 7/7 [00:15<00:00,  2.17s/it]\n",
      "Training (10198 / 18000 Steps) (loss=0.43022): 100%|██████████| 7/7 [00:16<00:00,  2.31s/it]\n",
      "Validate (10199 / 10 Steps): 100%|██████████| 2/2 [00:08<00:00,  4.30s/it]<00:29,  4.84s/it]\n",
      "Training (10200 / 18000 Steps) (loss=0.51721):  29%|██▊       | 2/7 [00:15<00:40,  8.15s/it]"
     ]
    },
    {
     "name": "stdout",
     "output_type": "stream",
     "text": [
      "Model Was Not Saved ! Current Best Avg. Dice: 0.32095929980278015 Current Avg. Dice: 0.2918173670768738 Current Avg. tumor Dice: 0.3245431184768677 Current Avg. lymph Dice: 0.2590915858745575\n"
     ]
    },
    {
     "name": "stderr",
     "output_type": "stream",
     "text": [
      "Training (10205 / 18000 Steps) (loss=0.24339): 100%|██████████| 7/7 [00:24<00:00,  3.44s/it]\n",
      "Training (10212 / 18000 Steps) (loss=0.48351): 100%|██████████| 7/7 [00:15<00:00,  2.17s/it]\n",
      "Training (10219 / 18000 Steps) (loss=0.54041): 100%|██████████| 7/7 [00:15<00:00,  2.16s/it]\n",
      "Training (10226 / 18000 Steps) (loss=0.31180): 100%|██████████| 7/7 [00:15<00:00,  2.19s/it]\n",
      "Training (10233 / 18000 Steps) (loss=0.41193): 100%|██████████| 7/7 [00:15<00:00,  2.17s/it]\n",
      "Training (10240 / 18000 Steps) (loss=0.40802): 100%|██████████| 7/7 [00:15<00:00,  2.26s/it]\n",
      "Training (10247 / 18000 Steps) (loss=0.35793): 100%|██████████| 7/7 [00:15<00:00,  2.22s/it]\n",
      "Training (10254 / 18000 Steps) (loss=0.40210): 100%|██████████| 7/7 [00:15<00:00,  2.15s/it]\n",
      "Training (10261 / 18000 Steps) (loss=0.30917): 100%|██████████| 7/7 [00:15<00:00,  2.17s/it]\n",
      "Training (10268 / 18000 Steps) (loss=0.55056): 100%|██████████| 7/7 [00:15<00:00,  2.18s/it]\n",
      "Training (10275 / 18000 Steps) (loss=0.42064): 100%|██████████| 7/7 [00:15<00:00,  2.15s/it]\n",
      "Training (10282 / 18000 Steps) (loss=0.60666): 100%|██████████| 7/7 [00:15<00:00,  2.23s/it]\n",
      "Training (10289 / 18000 Steps) (loss=0.61164): 100%|██████████| 7/7 [00:15<00:00,  2.21s/it]\n",
      "Training (10296 / 18000 Steps) (loss=0.45193): 100%|██████████| 7/7 [00:15<00:00,  2.23s/it]\n",
      "Validate (10297 / 10 Steps): 100%|██████████| 2/2 [00:08<00:00,  4.30s/it]<00:10,  2.59s/it]\n",
      "Training (10300 / 18000 Steps) (loss=0.50096):  57%|█████▋    | 4/7 [00:20<00:18,  6.05s/it]"
     ]
    },
    {
     "name": "stdout",
     "output_type": "stream",
     "text": [
      "Model Was Saved ! Current Best Avg. Dice: 0.3450833261013031 Current Avg. Dice: 0.3450833261013031 Current Avg. tumor Dice: 0.3847554326057434 Current Avg. lymph Dice: 0.3054112493991852\n"
     ]
    },
    {
     "name": "stderr",
     "output_type": "stream",
     "text": [
      "Training (10303 / 18000 Steps) (loss=0.44693): 100%|██████████| 7/7 [00:25<00:00,  3.58s/it]\n",
      "Training (10310 / 18000 Steps) (loss=0.49109): 100%|██████████| 7/7 [00:15<00:00,  2.22s/it]\n",
      "Training (10317 / 18000 Steps) (loss=0.47275): 100%|██████████| 7/7 [00:15<00:00,  2.18s/it]\n",
      "Training (10324 / 18000 Steps) (loss=0.39686): 100%|██████████| 7/7 [00:15<00:00,  2.23s/it]\n",
      "Training (10331 / 18000 Steps) (loss=0.37068): 100%|██████████| 7/7 [00:15<00:00,  2.22s/it]\n",
      "Training (10338 / 18000 Steps) (loss=0.30015): 100%|██████████| 7/7 [00:15<00:00,  2.20s/it]\n",
      "Training (10345 / 18000 Steps) (loss=0.34688): 100%|██████████| 7/7 [00:15<00:00,  2.20s/it]\n",
      "Training (10352 / 18000 Steps) (loss=0.28413): 100%|██████████| 7/7 [00:15<00:00,  2.17s/it]\n",
      "Training (10359 / 18000 Steps) (loss=0.61066): 100%|██████████| 7/7 [00:15<00:00,  2.19s/it]\n",
      "Training (10366 / 18000 Steps) (loss=0.45742): 100%|██████████| 7/7 [00:15<00:00,  2.22s/it]\n",
      "Training (10373 / 18000 Steps) (loss=0.44864): 100%|██████████| 7/7 [00:15<00:00,  2.20s/it]\n",
      "Training (10380 / 18000 Steps) (loss=0.60093): 100%|██████████| 7/7 [00:15<00:00,  2.17s/it]\n",
      "Training (10387 / 18000 Steps) (loss=0.39553): 100%|██████████| 7/7 [00:15<00:00,  2.23s/it]\n",
      "Training (10394 / 18000 Steps) (loss=0.43017): 100%|██████████| 7/7 [00:15<00:00,  2.16s/it]\n",
      "Validate (10395 / 10 Steps): 100%|██████████| 2/2 [00:08<00:00,  4.36s/it]<00:04,  2.15s/it]\n",
      "Training (10400 / 18000 Steps) (loss=0.47812):  86%|████████▌ | 6/7 [00:23<00:05,  5.07s/it]"
     ]
    },
    {
     "name": "stdout",
     "output_type": "stream",
     "text": [
      "Model Was Not Saved ! Current Best Avg. Dice: 0.3450833261013031 Current Avg. Dice: 0.27806001901626587 Current Avg. tumor Dice: 0.28926509618759155 Current Avg. lymph Dice: 0.2668549716472626\n"
     ]
    },
    {
     "name": "stderr",
     "output_type": "stream",
     "text": [
      "Training (10401 / 18000 Steps) (loss=0.23833): 100%|██████████| 7/7 [00:24<00:00,  3.50s/it]\n",
      "Training (10408 / 18000 Steps) (loss=0.31877): 100%|██████████| 7/7 [00:15<00:00,  2.20s/it]\n",
      "Training (10415 / 18000 Steps) (loss=0.31607): 100%|██████████| 7/7 [00:15<00:00,  2.18s/it]\n",
      "Training (10422 / 18000 Steps) (loss=0.54873): 100%|██████████| 7/7 [00:15<00:00,  2.17s/it]\n",
      "Training (10429 / 18000 Steps) (loss=0.29384): 100%|██████████| 7/7 [00:15<00:00,  2.22s/it]\n",
      "Training (10436 / 18000 Steps) (loss=0.42797): 100%|██████████| 7/7 [00:15<00:00,  2.23s/it]\n",
      "Training (10443 / 18000 Steps) (loss=0.60246): 100%|██████████| 7/7 [00:15<00:00,  2.23s/it]\n",
      "Training (10450 / 18000 Steps) (loss=0.53695): 100%|██████████| 7/7 [00:15<00:00,  2.19s/it]\n",
      "Training (10457 / 18000 Steps) (loss=0.42106): 100%|██████████| 7/7 [00:15<00:00,  2.20s/it]\n",
      "Training (10464 / 18000 Steps) (loss=0.39541): 100%|██████████| 7/7 [00:15<00:00,  2.21s/it]\n",
      "Training (10471 / 18000 Steps) (loss=0.36768): 100%|██████████| 7/7 [00:15<00:00,  2.16s/it]\n",
      "Training (10478 / 18000 Steps) (loss=0.43478): 100%|██████████| 7/7 [00:15<00:00,  2.21s/it]\n",
      "Training (10485 / 18000 Steps) (loss=0.50962): 100%|██████████| 7/7 [00:15<00:00,  2.28s/it]\n",
      "Training (10492 / 18000 Steps) (loss=0.53513): 100%|██████████| 7/7 [00:15<00:00,  2.19s/it]\n",
      "Training (10499 / 18000 Steps) (loss=0.33175): 100%|██████████| 7/7 [00:15<00:00,  2.23s/it]\n",
      "Validate (10500 / 10 Steps): 100%|██████████| 2/2 [00:08<00:00,  4.39s/it]<?, ?it/s]\n",
      "Training (10500 / 18000 Steps) (loss=0.40614):  14%|█▍        | 1/7 [00:13<01:20, 13.46s/it]"
     ]
    },
    {
     "name": "stdout",
     "output_type": "stream",
     "text": [
      "Model Was Not Saved ! Current Best Avg. Dice: 0.3450833261013031 Current Avg. Dice: 0.31841957569122314 Current Avg. tumor Dice: 0.3483526110649109 Current Avg. lymph Dice: 0.2884865403175354\n"
     ]
    },
    {
     "name": "stderr",
     "output_type": "stream",
     "text": [
      "Training (10506 / 18000 Steps) (loss=0.38174): 100%|██████████| 7/7 [00:23<00:00,  3.42s/it]\n",
      "Training (10513 / 18000 Steps) (loss=0.53805): 100%|██████████| 7/7 [00:15<00:00,  2.17s/it]\n",
      "Training (10520 / 18000 Steps) (loss=0.38577): 100%|██████████| 7/7 [00:15<00:00,  2.18s/it]\n",
      "Training (10527 / 18000 Steps) (loss=0.66482): 100%|██████████| 7/7 [00:15<00:00,  2.20s/it]\n",
      "Training (10534 / 18000 Steps) (loss=0.44331): 100%|██████████| 7/7 [00:15<00:00,  2.27s/it]\n",
      "Training (10541 / 18000 Steps) (loss=0.33852): 100%|██████████| 7/7 [00:15<00:00,  2.16s/it]\n",
      "Training (10548 / 18000 Steps) (loss=0.43582): 100%|██████████| 7/7 [00:15<00:00,  2.23s/it]\n",
      "Training (10555 / 18000 Steps) (loss=0.61116): 100%|██████████| 7/7 [00:15<00:00,  2.17s/it]\n",
      "Training (10562 / 18000 Steps) (loss=0.26585): 100%|██████████| 7/7 [00:15<00:00,  2.23s/it]\n",
      "Training (10569 / 18000 Steps) (loss=0.39741): 100%|██████████| 7/7 [00:15<00:00,  2.19s/it]\n",
      "Training (10576 / 18000 Steps) (loss=0.47953): 100%|██████████| 7/7 [00:15<00:00,  2.20s/it]\n",
      "Training (10583 / 18000 Steps) (loss=0.23976): 100%|██████████| 7/7 [00:15<00:00,  2.26s/it]\n",
      "Training (10590 / 18000 Steps) (loss=0.52881): 100%|██████████| 7/7 [00:15<00:00,  2.20s/it]\n",
      "Training (10597 / 18000 Steps) (loss=0.44676): 100%|██████████| 7/7 [00:15<00:00,  2.19s/it]\n",
      "Validate (10598 / 10 Steps): 100%|██████████| 2/2 [00:08<00:00,  4.37s/it]<00:15,  3.06s/it]\n",
      "Training (10600 / 18000 Steps) (loss=0.33427):  43%|████▎     | 3/7 [00:17<00:26,  6.53s/it]"
     ]
    },
    {
     "name": "stdout",
     "output_type": "stream",
     "text": [
      "Model Was Not Saved ! Current Best Avg. Dice: 0.3450833261013031 Current Avg. Dice: 0.29130086302757263 Current Avg. tumor Dice: 0.3193814754486084 Current Avg. lymph Dice: 0.26322025060653687\n"
     ]
    },
    {
     "name": "stderr",
     "output_type": "stream",
     "text": [
      "Training (10604 / 18000 Steps) (loss=0.56959): 100%|██████████| 7/7 [00:24<00:00,  3.45s/it]\n",
      "Training (10611 / 18000 Steps) (loss=0.53737): 100%|██████████| 7/7 [00:15<00:00,  2.19s/it]\n",
      "Training (10618 / 18000 Steps) (loss=0.47271): 100%|██████████| 7/7 [00:15<00:00,  2.15s/it]\n",
      "Training (10625 / 18000 Steps) (loss=0.44619): 100%|██████████| 7/7 [00:16<00:00,  2.32s/it]\n",
      "Training (10632 / 18000 Steps) (loss=0.27607): 100%|██████████| 7/7 [00:15<00:00,  2.20s/it]\n",
      "Training (10639 / 18000 Steps) (loss=0.29976): 100%|██████████| 7/7 [00:15<00:00,  2.20s/it]\n",
      "Training (10646 / 18000 Steps) (loss=0.44016): 100%|██████████| 7/7 [00:15<00:00,  2.21s/it]\n",
      "Training (10653 / 18000 Steps) (loss=0.60736): 100%|██████████| 7/7 [00:15<00:00,  2.15s/it]\n",
      "Training (10660 / 18000 Steps) (loss=0.48211): 100%|██████████| 7/7 [00:15<00:00,  2.19s/it]\n",
      "Training (10667 / 18000 Steps) (loss=0.43195): 100%|██████████| 7/7 [00:15<00:00,  2.23s/it]\n",
      "Training (10674 / 18000 Steps) (loss=0.32549): 100%|██████████| 7/7 [00:15<00:00,  2.23s/it]\n",
      "Training (10681 / 18000 Steps) (loss=0.36302): 100%|██████████| 7/7 [00:15<00:00,  2.24s/it]\n",
      "Training (10688 / 18000 Steps) (loss=0.44364): 100%|██████████| 7/7 [00:15<00:00,  2.22s/it]\n",
      "Training (10695 / 18000 Steps) (loss=0.33701): 100%|██████████| 7/7 [00:15<00:00,  2.18s/it]\n",
      "Validate (10696 / 10 Steps): 100%|██████████| 2/2 [00:08<00:00,  4.26s/it]<00:07,  2.34s/it]\n",
      "Training (10700 / 18000 Steps) (loss=0.50469):  71%|███████▏  | 5/7 [00:21<00:10,  5.27s/it]"
     ]
    },
    {
     "name": "stdout",
     "output_type": "stream",
     "text": [
      "Model Was Not Saved ! Current Best Avg. Dice: 0.3450833261013031 Current Avg. Dice: 0.2806847095489502 Current Avg. tumor Dice: 0.3367195427417755 Current Avg. lymph Dice: 0.22464987635612488\n"
     ]
    },
    {
     "name": "stderr",
     "output_type": "stream",
     "text": [
      "Training (10702 / 18000 Steps) (loss=0.39846): 100%|██████████| 7/7 [00:24<00:00,  3.46s/it]\n",
      "Training (10709 / 18000 Steps) (loss=0.46122): 100%|██████████| 7/7 [00:15<00:00,  2.17s/it]\n",
      "Training (10716 / 18000 Steps) (loss=0.22786): 100%|██████████| 7/7 [00:15<00:00,  2.21s/it]\n",
      "Training (10723 / 18000 Steps) (loss=0.56353): 100%|██████████| 7/7 [00:15<00:00,  2.22s/it]\n",
      "Training (10730 / 18000 Steps) (loss=0.62469): 100%|██████████| 7/7 [00:15<00:00,  2.21s/it]\n",
      "Training (10737 / 18000 Steps) (loss=0.47241): 100%|██████████| 7/7 [00:15<00:00,  2.22s/it]\n",
      "Training (10744 / 18000 Steps) (loss=0.19230): 100%|██████████| 7/7 [00:15<00:00,  2.19s/it]\n",
      "Training (10751 / 18000 Steps) (loss=0.43918): 100%|██████████| 7/7 [00:15<00:00,  2.19s/it]\n",
      "Training (10758 / 18000 Steps) (loss=0.55942): 100%|██████████| 7/7 [00:15<00:00,  2.19s/it]\n",
      "Training (10765 / 18000 Steps) (loss=0.37374): 100%|██████████| 7/7 [00:15<00:00,  2.19s/it]\n",
      "Training (10772 / 18000 Steps) (loss=0.40919): 100%|██████████| 7/7 [00:15<00:00,  2.19s/it]\n",
      "Training (10779 / 18000 Steps) (loss=0.41006): 100%|██████████| 7/7 [00:15<00:00,  2.20s/it]\n",
      "Training (10786 / 18000 Steps) (loss=0.57465): 100%|██████████| 7/7 [00:15<00:00,  2.18s/it]\n",
      "Training (10793 / 18000 Steps) (loss=0.55729): 100%|██████████| 7/7 [00:15<00:00,  2.18s/it]\n",
      "Validate (10794 / 10 Steps): 100%|██████████| 2/2 [00:08<00:00,  4.36s/it]<00:02,  2.07s/it]\n",
      "Training (10800 / 18000 Steps) (loss=0.57491): 100%|██████████| 7/7 [00:24<00:00,  3.48s/it]\n"
     ]
    },
    {
     "name": "stdout",
     "output_type": "stream",
     "text": [
      "Model Was Not Saved ! Current Best Avg. Dice: 0.3450833261013031 Current Avg. Dice: 0.25952714681625366 Current Avg. tumor Dice: 0.3219171464443207 Current Avg. lymph Dice: 0.19713711738586426\n"
     ]
    },
    {
     "name": "stderr",
     "output_type": "stream",
     "text": [
      "Training (10807 / 18000 Steps) (loss=0.50421): 100%|██████████| 7/7 [00:14<00:00,  2.11s/it]\n",
      "Training (10814 / 18000 Steps) (loss=0.43450): 100%|██████████| 7/7 [00:15<00:00,  2.18s/it]\n",
      "Training (10821 / 18000 Steps) (loss=0.48536): 100%|██████████| 7/7 [00:15<00:00,  2.21s/it]\n",
      "Training (10828 / 18000 Steps) (loss=0.72029): 100%|██████████| 7/7 [00:15<00:00,  2.22s/it]\n",
      "Training (10835 / 18000 Steps) (loss=0.30431): 100%|██████████| 7/7 [00:15<00:00,  2.20s/it]\n",
      "Training (10842 / 18000 Steps) (loss=0.44380): 100%|██████████| 7/7 [00:15<00:00,  2.18s/it]\n",
      "Training (10849 / 18000 Steps) (loss=0.28613): 100%|██████████| 7/7 [00:15<00:00,  2.22s/it]\n",
      "Training (10856 / 18000 Steps) (loss=0.30683): 100%|██████████| 7/7 [00:15<00:00,  2.17s/it]\n",
      "Training (10863 / 18000 Steps) (loss=0.32150): 100%|██████████| 7/7 [00:15<00:00,  2.22s/it]\n",
      "Training (10870 / 18000 Steps) (loss=0.39914): 100%|██████████| 7/7 [00:15<00:00,  2.20s/it]\n",
      "Training (10877 / 18000 Steps) (loss=0.22399): 100%|██████████| 7/7 [00:15<00:00,  2.18s/it]\n",
      "Training (10884 / 18000 Steps) (loss=0.46658): 100%|██████████| 7/7 [00:15<00:00,  2.22s/it]\n",
      "Training (10891 / 18000 Steps) (loss=0.42469): 100%|██████████| 7/7 [00:15<00:00,  2.16s/it]\n",
      "Training (10898 / 18000 Steps) (loss=0.46613): 100%|██████████| 7/7 [00:15<00:00,  2.23s/it]\n",
      "Validate (10899 / 10 Steps): 100%|██████████| 2/2 [00:08<00:00,  4.29s/it]<00:30,  5.11s/it]\n",
      "Training (10900 / 18000 Steps) (loss=0.32590):  29%|██▊       | 2/7 [00:15<00:41,  8.27s/it]"
     ]
    },
    {
     "name": "stdout",
     "output_type": "stream",
     "text": [
      "Model Was Not Saved ! Current Best Avg. Dice: 0.3450833261013031 Current Avg. Dice: 0.29570093750953674 Current Avg. tumor Dice: 0.3250263035297394 Current Avg. lymph Dice: 0.2663755714893341\n"
     ]
    },
    {
     "name": "stderr",
     "output_type": "stream",
     "text": [
      "Training (10905 / 18000 Steps) (loss=0.37947): 100%|██████████| 7/7 [00:24<00:00,  3.47s/it]\n",
      "Training (10912 / 18000 Steps) (loss=0.29331): 100%|██████████| 7/7 [00:15<00:00,  2.24s/it]\n",
      "Training (10919 / 18000 Steps) (loss=0.31158): 100%|██████████| 7/7 [00:15<00:00,  2.18s/it]\n",
      "Training (10926 / 18000 Steps) (loss=0.35955): 100%|██████████| 7/7 [00:15<00:00,  2.18s/it]\n",
      "Training (10933 / 18000 Steps) (loss=0.44519): 100%|██████████| 7/7 [00:15<00:00,  2.17s/it]\n",
      "Training (10940 / 18000 Steps) (loss=0.18329): 100%|██████████| 7/7 [00:15<00:00,  2.18s/it]\n",
      "Training (10947 / 18000 Steps) (loss=0.18232): 100%|██████████| 7/7 [00:15<00:00,  2.18s/it]\n",
      "Training (10954 / 18000 Steps) (loss=0.24267): 100%|██████████| 7/7 [00:15<00:00,  2.22s/it]\n",
      "Training (10961 / 18000 Steps) (loss=0.55564): 100%|██████████| 7/7 [00:15<00:00,  2.25s/it]\n",
      "Training (10968 / 18000 Steps) (loss=0.38163): 100%|██████████| 7/7 [00:15<00:00,  2.23s/it]\n",
      "Training (10975 / 18000 Steps) (loss=0.30410): 100%|██████████| 7/7 [00:15<00:00,  2.16s/it]\n",
      "Training (10982 / 18000 Steps) (loss=0.47530): 100%|██████████| 7/7 [00:15<00:00,  2.20s/it]\n",
      "Training (10989 / 18000 Steps) (loss=0.32920): 100%|██████████| 7/7 [00:15<00:00,  2.16s/it]\n",
      "Training (10996 / 18000 Steps) (loss=0.44346): 100%|██████████| 7/7 [00:15<00:00,  2.19s/it]\n",
      "Validate (10997 / 10 Steps): 100%|██████████| 2/2 [00:08<00:00,  4.43s/it]<00:10,  2.54s/it]\n",
      "Training (11000 / 18000 Steps) (loss=0.41774):  57%|█████▋    | 4/7 [00:19<00:17,  5.79s/it]"
     ]
    },
    {
     "name": "stdout",
     "output_type": "stream",
     "text": [
      "Model Was Not Saved ! Current Best Avg. Dice: 0.3450833261013031 Current Avg. Dice: 0.2930285930633545 Current Avg. tumor Dice: 0.3107954263687134 Current Avg. lymph Dice: 0.2752617597579956\n"
     ]
    },
    {
     "name": "stderr",
     "output_type": "stream",
     "text": [
      "Training (11003 / 18000 Steps) (loss=0.48939): 100%|██████████| 7/7 [00:24<00:00,  3.47s/it]\n",
      "Training (11010 / 18000 Steps) (loss=0.27239): 100%|██████████| 7/7 [00:15<00:00,  2.23s/it]\n",
      "Training (11017 / 18000 Steps) (loss=0.39947): 100%|██████████| 7/7 [00:15<00:00,  2.19s/it]\n",
      "Training (11024 / 18000 Steps) (loss=0.50231): 100%|██████████| 7/7 [00:15<00:00,  2.21s/it]\n",
      "Training (11031 / 18000 Steps) (loss=0.43101): 100%|██████████| 7/7 [00:15<00:00,  2.22s/it]\n",
      "Training (11038 / 18000 Steps) (loss=0.34418): 100%|██████████| 7/7 [00:15<00:00,  2.19s/it]\n",
      "Training (11045 / 18000 Steps) (loss=0.51192): 100%|██████████| 7/7 [00:15<00:00,  2.17s/it]\n",
      "Training (11052 / 18000 Steps) (loss=0.41137): 100%|██████████| 7/7 [00:15<00:00,  2.20s/it]\n",
      "Training (11059 / 18000 Steps) (loss=0.60205): 100%|██████████| 7/7 [00:15<00:00,  2.16s/it]\n",
      "Training (11066 / 18000 Steps) (loss=0.56934): 100%|██████████| 7/7 [00:15<00:00,  2.24s/it]\n",
      "Training (11073 / 18000 Steps) (loss=0.24120): 100%|██████████| 7/7 [00:15<00:00,  2.19s/it]\n",
      "Training (11080 / 18000 Steps) (loss=0.42437): 100%|██████████| 7/7 [00:15<00:00,  2.17s/it]\n",
      "Training (11087 / 18000 Steps) (loss=0.21133): 100%|██████████| 7/7 [00:15<00:00,  2.21s/it]\n",
      "Training (11094 / 18000 Steps) (loss=0.46097): 100%|██████████| 7/7 [00:15<00:00,  2.18s/it]\n",
      "Validate (11095 / 10 Steps): 100%|██████████| 2/2 [00:08<00:00,  4.43s/it]<00:04,  2.07s/it]\n",
      "Training (11100 / 18000 Steps) (loss=0.43362):  86%|████████▌ | 6/7 [00:22<00:05,  5.03s/it]"
     ]
    },
    {
     "name": "stdout",
     "output_type": "stream",
     "text": [
      "Model Was Not Saved ! Current Best Avg. Dice: 0.3450833261013031 Current Avg. Dice: 0.294120728969574 Current Avg. tumor Dice: 0.3071003556251526 Current Avg. lymph Dice: 0.28114113211631775\n"
     ]
    },
    {
     "name": "stderr",
     "output_type": "stream",
     "text": [
      "Training (11101 / 18000 Steps) (loss=0.57979): 100%|██████████| 7/7 [00:23<00:00,  3.41s/it]\n",
      "Training (11108 / 18000 Steps) (loss=0.55335): 100%|██████████| 7/7 [00:15<00:00,  2.16s/it]\n",
      "Training (11115 / 18000 Steps) (loss=0.41741): 100%|██████████| 7/7 [00:15<00:00,  2.22s/it]\n",
      "Training (11122 / 18000 Steps) (loss=0.44580): 100%|██████████| 7/7 [00:15<00:00,  2.22s/it]\n",
      "Training (11129 / 18000 Steps) (loss=0.32797): 100%|██████████| 7/7 [00:15<00:00,  2.24s/it]\n",
      "Training (11136 / 18000 Steps) (loss=0.41877): 100%|██████████| 7/7 [00:15<00:00,  2.18s/it]\n",
      "Training (11143 / 18000 Steps) (loss=0.50353): 100%|██████████| 7/7 [00:15<00:00,  2.19s/it]\n",
      "Training (11150 / 18000 Steps) (loss=0.61757): 100%|██████████| 7/7 [00:15<00:00,  2.20s/it]\n",
      "Training (11157 / 18000 Steps) (loss=0.52026): 100%|██████████| 7/7 [00:15<00:00,  2.22s/it]\n",
      "Training (11164 / 18000 Steps) (loss=0.54918): 100%|██████████| 7/7 [00:15<00:00,  2.23s/it]\n",
      "Training (11171 / 18000 Steps) (loss=0.44416): 100%|██████████| 7/7 [00:15<00:00,  2.18s/it]\n",
      "Training (11178 / 18000 Steps) (loss=0.50199): 100%|██████████| 7/7 [00:15<00:00,  2.16s/it]\n",
      "Training (11185 / 18000 Steps) (loss=0.42550): 100%|██████████| 7/7 [00:15<00:00,  2.21s/it]\n",
      "Training (11192 / 18000 Steps) (loss=0.46627): 100%|██████████| 7/7 [00:15<00:00,  2.23s/it]\n",
      "Training (11199 / 18000 Steps) (loss=0.41742): 100%|██████████| 7/7 [00:15<00:00,  2.21s/it]\n",
      "Validate (11200 / 10 Steps): 100%|██████████| 2/2 [00:08<00:00,  4.44s/it]<?, ?it/s]\n",
      "Training (11200 / 18000 Steps) (loss=0.45342):  14%|█▍        | 1/7 [00:13<01:22, 13.83s/it]"
     ]
    },
    {
     "name": "stdout",
     "output_type": "stream",
     "text": [
      "Model Was Not Saved ! Current Best Avg. Dice: 0.3450833261013031 Current Avg. Dice: 0.2894572913646698 Current Avg. tumor Dice: 0.3183899223804474 Current Avg. lymph Dice: 0.2605246603488922\n"
     ]
    },
    {
     "name": "stderr",
     "output_type": "stream",
     "text": [
      "Training (11206 / 18000 Steps) (loss=0.48001): 100%|██████████| 7/7 [00:24<00:00,  3.49s/it]\n",
      "Training (11213 / 18000 Steps) (loss=0.31080): 100%|██████████| 7/7 [00:15<00:00,  2.24s/it]\n",
      "Training (11220 / 18000 Steps) (loss=0.39464): 100%|██████████| 7/7 [00:15<00:00,  2.19s/it]\n",
      "Training (11227 / 18000 Steps) (loss=0.53576): 100%|██████████| 7/7 [00:15<00:00,  2.20s/it]\n",
      "Training (11234 / 18000 Steps) (loss=0.41884): 100%|██████████| 7/7 [00:15<00:00,  2.22s/it]\n",
      "Training (11241 / 18000 Steps) (loss=0.44361): 100%|██████████| 7/7 [00:15<00:00,  2.19s/it]\n",
      "Training (11248 / 18000 Steps) (loss=0.32139): 100%|██████████| 7/7 [00:15<00:00,  2.19s/it]\n",
      "Training (11255 / 18000 Steps) (loss=0.35479): 100%|██████████| 7/7 [00:15<00:00,  2.17s/it]\n",
      "Training (11262 / 18000 Steps) (loss=0.21951): 100%|██████████| 7/7 [00:16<00:00,  2.34s/it]\n",
      "Training (11269 / 18000 Steps) (loss=0.45364): 100%|██████████| 7/7 [00:15<00:00,  2.25s/it]\n",
      "Training (11276 / 18000 Steps) (loss=0.58134): 100%|██████████| 7/7 [00:15<00:00,  2.21s/it]\n",
      "Training (11283 / 18000 Steps) (loss=0.40726): 100%|██████████| 7/7 [00:15<00:00,  2.19s/it]\n",
      "Training (11290 / 18000 Steps) (loss=0.55247): 100%|██████████| 7/7 [00:15<00:00,  2.14s/it]\n",
      "Training (11297 / 18000 Steps) (loss=0.44910): 100%|██████████| 7/7 [00:15<00:00,  2.18s/it]\n",
      "Validate (11298 / 10 Steps): 100%|██████████| 2/2 [00:08<00:00,  4.39s/it]<00:15,  3.05s/it]\n",
      "Training (11300 / 18000 Steps) (loss=0.52190):  43%|████▎     | 3/7 [00:17<00:26,  6.54s/it]"
     ]
    },
    {
     "name": "stdout",
     "output_type": "stream",
     "text": [
      "Model Was Not Saved ! Current Best Avg. Dice: 0.3450833261013031 Current Avg. Dice: 0.2472539097070694 Current Avg. tumor Dice: 0.3105948865413666 Current Avg. lymph Dice: 0.18391290307044983\n"
     ]
    },
    {
     "name": "stderr",
     "output_type": "stream",
     "text": [
      "Training (11304 / 18000 Steps) (loss=0.46878): 100%|██████████| 7/7 [00:24<00:00,  3.46s/it]\n",
      "Training (11311 / 18000 Steps) (loss=0.60871): 100%|██████████| 7/7 [00:15<00:00,  2.25s/it]\n",
      "Training (11318 / 18000 Steps) (loss=0.61772): 100%|██████████| 7/7 [00:15<00:00,  2.15s/it]\n",
      "Training (11325 / 18000 Steps) (loss=0.45493): 100%|██████████| 7/7 [00:15<00:00,  2.19s/it]\n",
      "Training (11332 / 18000 Steps) (loss=0.51874): 100%|██████████| 7/7 [00:15<00:00,  2.21s/it]\n",
      "Training (11339 / 18000 Steps) (loss=0.57419): 100%|██████████| 7/7 [00:15<00:00,  2.17s/it]\n",
      "Training (11346 / 18000 Steps) (loss=0.45506): 100%|██████████| 7/7 [00:15<00:00,  2.20s/it]\n",
      "Training (11353 / 18000 Steps) (loss=0.66778): 100%|██████████| 7/7 [00:15<00:00,  2.27s/it]\n",
      "Training (11360 / 18000 Steps) (loss=0.44750): 100%|██████████| 7/7 [00:16<00:00,  2.29s/it]\n",
      "Training (11367 / 18000 Steps) (loss=0.50820): 100%|██████████| 7/7 [00:16<00:00,  2.35s/it]\n",
      "Training (11374 / 18000 Steps) (loss=0.36159): 100%|██████████| 7/7 [00:18<00:00,  2.60s/it]\n",
      "Training (11381 / 18000 Steps) (loss=0.47289): 100%|██████████| 7/7 [00:17<00:00,  2.53s/it]\n",
      "Training (11388 / 18000 Steps) (loss=0.28013): 100%|██████████| 7/7 [00:17<00:00,  2.56s/it]\n",
      "Training (11395 / 18000 Steps) (loss=0.41625): 100%|██████████| 7/7 [00:17<00:00,  2.44s/it]\n",
      "Validate (11396 / 10 Steps): 100%|██████████| 2/2 [00:10<00:00,  5.13s/it]<00:08,  2.80s/it]\n",
      "Training (11400 / 18000 Steps) (loss=0.31791):  71%|███████▏  | 5/7 [00:25<00:12,  6.31s/it]"
     ]
    },
    {
     "name": "stdout",
     "output_type": "stream",
     "text": [
      "Model Was Not Saved ! Current Best Avg. Dice: 0.3450833261013031 Current Avg. Dice: 0.2938390374183655 Current Avg. tumor Dice: 0.3167589008808136 Current Avg. lymph Dice: 0.27091917395591736\n"
     ]
    },
    {
     "name": "stderr",
     "output_type": "stream",
     "text": [
      "Training (11402 / 18000 Steps) (loss=0.50164): 100%|██████████| 7/7 [00:29<00:00,  4.21s/it]\n",
      "Training (11409 / 18000 Steps) (loss=0.17455): 100%|██████████| 7/7 [00:17<00:00,  2.56s/it]\n",
      "Training (11416 / 18000 Steps) (loss=0.33522): 100%|██████████| 7/7 [00:18<00:00,  2.63s/it]\n",
      "Training (11423 / 18000 Steps) (loss=0.40567): 100%|██████████| 7/7 [00:18<00:00,  2.66s/it]\n",
      "Training (11430 / 18000 Steps) (loss=0.20348): 100%|██████████| 7/7 [00:17<00:00,  2.50s/it]\n",
      "Training (11437 / 18000 Steps) (loss=0.26015): 100%|██████████| 7/7 [00:17<00:00,  2.57s/it]\n",
      "Training (11444 / 18000 Steps) (loss=0.60253): 100%|██████████| 7/7 [00:19<00:00,  2.76s/it]\n",
      "Training (11451 / 18000 Steps) (loss=0.32674): 100%|██████████| 7/7 [00:18<00:00,  2.67s/it]\n",
      "Training (11458 / 18000 Steps) (loss=0.42859): 100%|██████████| 7/7 [00:17<00:00,  2.52s/it]\n",
      "Training (11465 / 18000 Steps) (loss=0.56937): 100%|██████████| 7/7 [00:17<00:00,  2.56s/it]\n",
      "Training (11472 / 18000 Steps) (loss=0.25879): 100%|██████████| 7/7 [00:17<00:00,  2.49s/it]\n",
      "Training (11479 / 18000 Steps) (loss=0.56632): 100%|██████████| 7/7 [00:16<00:00,  2.42s/it]\n",
      "Training (11486 / 18000 Steps) (loss=0.42211): 100%|██████████| 7/7 [00:18<00:00,  2.60s/it]\n",
      "Training (11493 / 18000 Steps) (loss=0.44252): 100%|██████████| 7/7 [00:18<00:00,  2.64s/it]\n",
      "Validate (11494 / 10 Steps): 100%|██████████| 2/2 [00:09<00:00,  4.53s/it]<00:02,  2.31s/it]\n",
      "Training (11500 / 18000 Steps) (loss=0.29866): 100%|██████████| 7/7 [00:27<00:00,  3.87s/it]\n"
     ]
    },
    {
     "name": "stdout",
     "output_type": "stream",
     "text": [
      "Model Was Not Saved ! Current Best Avg. Dice: 0.3450833261013031 Current Avg. Dice: 0.2751018702983856 Current Avg. tumor Dice: 0.30861756205558777 Current Avg. lymph Dice: 0.24158617854118347\n"
     ]
    },
    {
     "name": "stderr",
     "output_type": "stream",
     "text": [
      "Training (11507 / 18000 Steps) (loss=0.55912): 100%|██████████| 7/7 [00:17<00:00,  2.53s/it]\n",
      "Training (11514 / 18000 Steps) (loss=0.29552): 100%|██████████| 7/7 [00:18<00:00,  2.67s/it]\n",
      "Training (11521 / 18000 Steps) (loss=0.41431): 100%|██████████| 7/7 [00:16<00:00,  2.41s/it]\n",
      "Training (11528 / 18000 Steps) (loss=0.54302): 100%|██████████| 7/7 [00:17<00:00,  2.49s/it]\n",
      "Training (11535 / 18000 Steps) (loss=0.38016): 100%|██████████| 7/7 [00:18<00:00,  2.70s/it]\n",
      "Training (11542 / 18000 Steps) (loss=0.25372): 100%|██████████| 7/7 [00:17<00:00,  2.44s/it]\n",
      "Training (11549 / 18000 Steps) (loss=0.41194): 100%|██████████| 7/7 [00:17<00:00,  2.49s/it]\n",
      "Training (11556 / 18000 Steps) (loss=0.47466): 100%|██████████| 7/7 [00:17<00:00,  2.57s/it]\n",
      "Training (11563 / 18000 Steps) (loss=0.45156): 100%|██████████| 7/7 [00:19<00:00,  2.74s/it]\n",
      "Training (11570 / 18000 Steps) (loss=0.18803): 100%|██████████| 7/7 [00:16<00:00,  2.37s/it]\n",
      "Training (11577 / 18000 Steps) (loss=0.46120): 100%|██████████| 7/7 [00:17<00:00,  2.46s/it]\n",
      "Training (11584 / 18000 Steps) (loss=0.55786): 100%|██████████| 7/7 [00:18<00:00,  2.60s/it]\n",
      "Training (11591 / 18000 Steps) (loss=0.60240): 100%|██████████| 7/7 [00:17<00:00,  2.47s/it]\n",
      "Training (11598 / 18000 Steps) (loss=0.42919): 100%|██████████| 7/7 [00:17<00:00,  2.48s/it]\n",
      "Validate (11599 / 10 Steps): 100%|██████████| 2/2 [00:09<00:00,  4.91s/it]<00:38,  6.44s/it]\n",
      "Training (11600 / 18000 Steps) (loss=0.36195):  29%|██▊       | 2/7 [00:18<00:49,  9.82s/it]"
     ]
    },
    {
     "name": "stdout",
     "output_type": "stream",
     "text": [
      "Model Was Not Saved ! Current Best Avg. Dice: 0.3450833261013031 Current Avg. Dice: 0.2954121530056 Current Avg. tumor Dice: 0.34668344259262085 Current Avg. lymph Dice: 0.2441408485174179\n"
     ]
    },
    {
     "name": "stderr",
     "output_type": "stream",
     "text": [
      "Training (11605 / 18000 Steps) (loss=0.33468): 100%|██████████| 7/7 [00:28<00:00,  4.00s/it]\n",
      "Training (11612 / 18000 Steps) (loss=0.41945): 100%|██████████| 7/7 [00:17<00:00,  2.53s/it]\n",
      "Training (11619 / 18000 Steps) (loss=0.49879): 100%|██████████| 7/7 [00:17<00:00,  2.54s/it]\n",
      "Training (11626 / 18000 Steps) (loss=0.33002): 100%|██████████| 7/7 [00:18<00:00,  2.70s/it]\n",
      "Training (11633 / 18000 Steps) (loss=0.35010): 100%|██████████| 7/7 [00:17<00:00,  2.53s/it]\n",
      "Training (11640 / 18000 Steps) (loss=0.27793): 100%|██████████| 7/7 [00:16<00:00,  2.39s/it]\n",
      "Training (11647 / 18000 Steps) (loss=0.38208): 100%|██████████| 7/7 [00:17<00:00,  2.52s/it]\n",
      "Training (11654 / 18000 Steps) (loss=0.50155): 100%|██████████| 7/7 [00:17<00:00,  2.57s/it]\n",
      "Training (11661 / 18000 Steps) (loss=0.27017): 100%|██████████| 7/7 [00:17<00:00,  2.52s/it]\n",
      "Training (11668 / 18000 Steps) (loss=0.42958): 100%|██████████| 7/7 [00:17<00:00,  2.57s/it]\n",
      "Training (11675 / 18000 Steps) (loss=0.45744): 100%|██████████| 7/7 [00:18<00:00,  2.66s/it]\n",
      "Training (11682 / 18000 Steps) (loss=0.42728): 100%|██████████| 7/7 [00:16<00:00,  2.41s/it]\n",
      "Training (11689 / 18000 Steps) (loss=0.44296): 100%|██████████| 7/7 [00:17<00:00,  2.57s/it]\n",
      "Training (11696 / 18000 Steps) (loss=0.37793): 100%|██████████| 7/7 [00:18<00:00,  2.58s/it]\n",
      "Validate (11697 / 10 Steps): 100%|██████████| 2/2 [00:09<00:00,  4.69s/it]<00:12,  3.03s/it]\n",
      "Training (11700 / 18000 Steps) (loss=0.42337):  57%|█████▋    | 4/7 [00:21<00:18,  6.31s/it]"
     ]
    },
    {
     "name": "stdout",
     "output_type": "stream",
     "text": [
      "Model Was Not Saved ! Current Best Avg. Dice: 0.3450833261013031 Current Avg. Dice: 0.29009515047073364 Current Avg. tumor Dice: 0.3267118036746979 Current Avg. lymph Dice: 0.253478467464447\n"
     ]
    },
    {
     "name": "stderr",
     "output_type": "stream",
     "text": [
      "Training (11703 / 18000 Steps) (loss=0.61336): 100%|██████████| 7/7 [00:26<00:00,  3.85s/it]\n",
      "Training (11710 / 18000 Steps) (loss=0.54625): 100%|██████████| 7/7 [00:17<00:00,  2.49s/it]\n",
      "Training (11717 / 18000 Steps) (loss=0.33882): 100%|██████████| 7/7 [00:19<00:00,  2.72s/it]\n",
      "Training (11724 / 18000 Steps) (loss=0.44215): 100%|██████████| 7/7 [00:18<00:00,  2.59s/it]\n",
      "Training (11731 / 18000 Steps) (loss=0.43051): 100%|██████████| 7/7 [00:17<00:00,  2.51s/it]\n",
      "Training (11738 / 18000 Steps) (loss=0.35167): 100%|██████████| 7/7 [00:18<00:00,  2.61s/it]\n",
      "Training (11745 / 18000 Steps) (loss=0.28755): 100%|██████████| 7/7 [00:18<00:00,  2.58s/it]\n",
      "Training (11752 / 18000 Steps) (loss=0.42826): 100%|██████████| 7/7 [00:17<00:00,  2.44s/it]\n",
      "Training (11759 / 18000 Steps) (loss=0.46510): 100%|██████████| 7/7 [00:18<00:00,  2.67s/it]\n",
      "Training (11766 / 18000 Steps) (loss=0.36751): 100%|██████████| 7/7 [00:18<00:00,  2.61s/it]\n",
      "Training (11773 / 18000 Steps) (loss=0.38690): 100%|██████████| 7/7 [00:17<00:00,  2.50s/it]\n",
      "Training (11780 / 18000 Steps) (loss=0.37239): 100%|██████████| 7/7 [00:18<00:00,  2.60s/it]\n",
      "Training (11787 / 18000 Steps) (loss=0.17553): 100%|██████████| 7/7 [00:18<00:00,  2.58s/it]\n",
      "Training (11794 / 18000 Steps) (loss=0.44783): 100%|██████████| 7/7 [00:17<00:00,  2.54s/it]\n",
      "Validate (11795 / 10 Steps): 100%|██████████| 2/2 [00:09<00:00,  4.55s/it]<00:04,  2.38s/it]\n",
      "Training (11800 / 18000 Steps) (loss=0.32821):  86%|████████▌ | 6/7 [00:25<00:05,  5.42s/it]"
     ]
    },
    {
     "name": "stdout",
     "output_type": "stream",
     "text": [
      "Model Was Not Saved ! Current Best Avg. Dice: 0.3450833261013031 Current Avg. Dice: 0.2905391454696655 Current Avg. tumor Dice: 0.33127033710479736 Current Avg. lymph Dice: 0.24980787932872772\n"
     ]
    },
    {
     "name": "stderr",
     "output_type": "stream",
     "text": [
      "Training (11801 / 18000 Steps) (loss=0.16588): 100%|██████████| 7/7 [00:27<00:00,  3.87s/it]\n",
      "Training (11808 / 18000 Steps) (loss=0.29303): 100%|██████████| 7/7 [00:18<00:00,  2.68s/it]\n",
      "Training (11815 / 18000 Steps) (loss=0.53194): 100%|██████████| 7/7 [00:17<00:00,  2.48s/it]\n",
      "Training (11822 / 18000 Steps) (loss=0.41422): 100%|██████████| 7/7 [00:17<00:00,  2.53s/it]\n",
      "Training (11829 / 18000 Steps) (loss=0.53623): 100%|██████████| 7/7 [00:17<00:00,  2.48s/it]\n",
      "Training (11836 / 18000 Steps) (loss=0.23463): 100%|██████████| 7/7 [00:18<00:00,  2.58s/it]\n",
      "Training (11843 / 18000 Steps) (loss=0.52284): 100%|██████████| 7/7 [00:17<00:00,  2.45s/it]\n",
      "Training (11850 / 18000 Steps) (loss=0.46307): 100%|██████████| 7/7 [00:18<00:00,  2.60s/it]\n",
      "Training (11857 / 18000 Steps) (loss=0.50564): 100%|██████████| 7/7 [00:18<00:00,  2.65s/it]\n",
      "Training (11864 / 18000 Steps) (loss=0.61068): 100%|██████████| 7/7 [00:17<00:00,  2.49s/it]\n",
      "Training (11871 / 18000 Steps) (loss=0.47982): 100%|██████████| 7/7 [00:17<00:00,  2.44s/it]\n",
      "Training (11878 / 18000 Steps) (loss=0.46085): 100%|██████████| 7/7 [00:18<00:00,  2.69s/it]\n",
      "Training (11885 / 18000 Steps) (loss=0.34517): 100%|██████████| 7/7 [00:17<00:00,  2.52s/it]\n",
      "Training (11892 / 18000 Steps) (loss=0.51317): 100%|██████████| 7/7 [00:17<00:00,  2.55s/it]\n",
      "Training (11899 / 18000 Steps) (loss=0.47719): 100%|██████████| 7/7 [00:17<00:00,  2.51s/it]\n",
      "Validate (11900 / 10 Steps): 100%|██████████| 2/2 [00:09<00:00,  4.75s/it]<?, ?it/s]\n",
      "Training (11900 / 18000 Steps) (loss=0.45814):  14%|█▍        | 1/7 [00:15<01:32, 15.47s/it]"
     ]
    },
    {
     "name": "stdout",
     "output_type": "stream",
     "text": [
      "Model Was Not Saved ! Current Best Avg. Dice: 0.3450833261013031 Current Avg. Dice: 0.30485743284225464 Current Avg. tumor Dice: 0.32205960154533386 Current Avg. lymph Dice: 0.287655234336853\n"
     ]
    },
    {
     "name": "stderr",
     "output_type": "stream",
     "text": [
      "Training (11906 / 18000 Steps) (loss=0.49738): 100%|██████████| 7/7 [00:27<00:00,  3.88s/it]\n",
      "Training (11913 / 18000 Steps) (loss=0.50805): 100%|██████████| 7/7 [00:16<00:00,  2.42s/it]\n",
      "Training (11920 / 18000 Steps) (loss=0.28873): 100%|██████████| 7/7 [00:18<00:00,  2.60s/it]\n",
      "Training (11927 / 18000 Steps) (loss=0.30338): 100%|██████████| 7/7 [00:17<00:00,  2.54s/it]\n",
      "Training (11934 / 18000 Steps) (loss=0.25059): 100%|██████████| 7/7 [00:17<00:00,  2.52s/it]\n",
      "Training (11941 / 18000 Steps) (loss=0.28283): 100%|██████████| 7/7 [00:17<00:00,  2.51s/it]\n",
      "Training (11948 / 18000 Steps) (loss=0.48992): 100%|██████████| 7/7 [00:17<00:00,  2.55s/it]\n",
      "Training (11955 / 18000 Steps) (loss=0.67193): 100%|██████████| 7/7 [00:17<00:00,  2.50s/it]\n",
      "Training (11962 / 18000 Steps) (loss=0.46268): 100%|██████████| 7/7 [00:17<00:00,  2.48s/it]\n",
      "Training (11969 / 18000 Steps) (loss=0.58348): 100%|██████████| 7/7 [00:18<00:00,  2.69s/it]\n",
      "Training (11976 / 18000 Steps) (loss=0.45892): 100%|██████████| 7/7 [00:17<00:00,  2.53s/it]\n",
      "Training (11983 / 18000 Steps) (loss=0.55951): 100%|██████████| 7/7 [00:16<00:00,  2.41s/it]\n",
      "Training (11990 / 18000 Steps) (loss=0.49684): 100%|██████████| 7/7 [00:19<00:00,  2.77s/it]\n",
      "Training (11997 / 18000 Steps) (loss=0.50768): 100%|██████████| 7/7 [00:18<00:00,  2.60s/it]\n",
      "Validate (11998 / 10 Steps): 100%|██████████| 2/2 [00:09<00:00,  4.64s/it]<00:17,  3.57s/it]\n",
      "Training (12000 / 18000 Steps) (loss=0.37949):  43%|████▎     | 3/7 [00:19<00:28,  7.18s/it]"
     ]
    },
    {
     "name": "stdout",
     "output_type": "stream",
     "text": [
      "Model Was Not Saved ! Current Best Avg. Dice: 0.3450833261013031 Current Avg. Dice: 0.2799789011478424 Current Avg. tumor Dice: 0.31284672021865845 Current Avg. lymph Dice: 0.24711111187934875\n"
     ]
    },
    {
     "name": "stderr",
     "output_type": "stream",
     "text": [
      "Training (12004 / 18000 Steps) (loss=0.56113): 100%|██████████| 7/7 [00:27<00:00,  3.86s/it]\n",
      "Training (12011 / 18000 Steps) (loss=0.39397): 100%|██████████| 7/7 [00:18<00:00,  2.71s/it]\n",
      "Training (12018 / 18000 Steps) (loss=0.55541): 100%|██████████| 7/7 [00:17<00:00,  2.55s/it]\n",
      "Training (12025 / 18000 Steps) (loss=0.59953): 100%|██████████| 7/7 [00:17<00:00,  2.45s/it]\n",
      "Training (12032 / 18000 Steps) (loss=0.53804): 100%|██████████| 7/7 [00:18<00:00,  2.68s/it]\n",
      "Training (12039 / 18000 Steps) (loss=0.28884): 100%|██████████| 7/7 [00:18<00:00,  2.59s/it]\n",
      "Training (12046 / 18000 Steps) (loss=0.39320): 100%|██████████| 7/7 [00:17<00:00,  2.51s/it]\n",
      "Training (12053 / 18000 Steps) (loss=0.40718): 100%|██████████| 7/7 [00:17<00:00,  2.51s/it]\n",
      "Training (12060 / 18000 Steps) (loss=0.44066): 100%|██████████| 7/7 [00:18<00:00,  2.64s/it]\n",
      "Training (12067 / 18000 Steps) (loss=0.40126): 100%|██████████| 7/7 [00:17<00:00,  2.49s/it]\n",
      "Training (12074 / 18000 Steps) (loss=0.20067): 100%|██████████| 7/7 [00:17<00:00,  2.46s/it]\n",
      "Training (12081 / 18000 Steps) (loss=0.41587): 100%|██████████| 7/7 [00:18<00:00,  2.70s/it]\n",
      "Training (12088 / 18000 Steps) (loss=0.41415): 100%|██████████| 7/7 [00:18<00:00,  2.69s/it]\n",
      "Training (12095 / 18000 Steps) (loss=0.47483): 100%|██████████| 7/7 [00:17<00:00,  2.44s/it]\n",
      "Validate (12096 / 10 Steps): 100%|██████████| 2/2 [00:09<00:00,  4.67s/it]<00:08,  2.74s/it]\n",
      "Training (12100 / 18000 Steps) (loss=0.38965):  71%|███████▏  | 5/7 [00:24<00:11,  5.93s/it]"
     ]
    },
    {
     "name": "stdout",
     "output_type": "stream",
     "text": [
      "Model Was Not Saved ! Current Best Avg. Dice: 0.3450833261013031 Current Avg. Dice: 0.2651805877685547 Current Avg. tumor Dice: 0.29009848833084106 Current Avg. lymph Dice: 0.2402627021074295\n"
     ]
    },
    {
     "name": "stderr",
     "output_type": "stream",
     "text": [
      "Training (12102 / 18000 Steps) (loss=0.35829): 100%|██████████| 7/7 [00:28<00:00,  4.03s/it]\n",
      "Training (12109 / 18000 Steps) (loss=0.59362): 100%|██████████| 7/7 [00:17<00:00,  2.51s/it]\n",
      "Training (12116 / 18000 Steps) (loss=0.53815): 100%|██████████| 7/7 [00:17<00:00,  2.52s/it]\n",
      "Training (12123 / 18000 Steps) (loss=0.60742): 100%|██████████| 7/7 [00:18<00:00,  2.58s/it]\n",
      "Training (12130 / 18000 Steps) (loss=0.55056): 100%|██████████| 7/7 [00:17<00:00,  2.56s/it]\n",
      "Training (12137 / 18000 Steps) (loss=0.25588): 100%|██████████| 7/7 [00:17<00:00,  2.46s/it]\n",
      "Training (12144 / 18000 Steps) (loss=0.28580): 100%|██████████| 7/7 [00:18<00:00,  2.62s/it]\n",
      "Training (12151 / 18000 Steps) (loss=0.43962): 100%|██████████| 7/7 [00:18<00:00,  2.64s/it]\n",
      "Training (12158 / 18000 Steps) (loss=0.50778): 100%|██████████| 7/7 [00:16<00:00,  2.39s/it]\n",
      "Training (12165 / 18000 Steps) (loss=0.40041): 100%|██████████| 7/7 [00:17<00:00,  2.52s/it]\n",
      "Training (12172 / 18000 Steps) (loss=0.36154): 100%|██████████| 7/7 [00:18<00:00,  2.70s/it]\n",
      "Training (12179 / 18000 Steps) (loss=0.22323): 100%|██████████| 7/7 [00:17<00:00,  2.57s/it]\n",
      "Training (12186 / 18000 Steps) (loss=0.45539): 100%|██████████| 7/7 [00:17<00:00,  2.53s/it]\n",
      "Training (12193 / 18000 Steps) (loss=0.41313): 100%|██████████| 7/7 [00:18<00:00,  2.64s/it]\n",
      "Validate (12194 / 10 Steps): 100%|██████████| 2/2 [00:09<00:00,  4.57s/it]<00:02,  2.30s/it]\n",
      "Training (12200 / 18000 Steps) (loss=0.55984): 100%|██████████| 7/7 [00:26<00:00,  3.85s/it]\n"
     ]
    },
    {
     "name": "stdout",
     "output_type": "stream",
     "text": [
      "Model Was Not Saved ! Current Best Avg. Dice: 0.3450833261013031 Current Avg. Dice: 0.3177199959754944 Current Avg. tumor Dice: 0.3321529030799866 Current Avg. lymph Dice: 0.303287148475647\n"
     ]
    },
    {
     "name": "stderr",
     "output_type": "stream",
     "text": [
      "Training (12207 / 18000 Steps) (loss=0.44658): 100%|██████████| 7/7 [00:18<00:00,  2.59s/it]\n",
      "Training (12214 / 18000 Steps) (loss=0.40208): 100%|██████████| 7/7 [00:18<00:00,  2.60s/it]\n",
      "Training (12221 / 18000 Steps) (loss=0.32220): 100%|██████████| 7/7 [00:17<00:00,  2.48s/it]\n",
      "Training (12228 / 18000 Steps) (loss=0.46063): 100%|██████████| 7/7 [00:17<00:00,  2.53s/it]\n",
      "Training (12235 / 18000 Steps) (loss=0.45161): 100%|██████████| 7/7 [00:17<00:00,  2.55s/it]\n",
      "Training (12242 / 18000 Steps) (loss=0.44100): 100%|██████████| 7/7 [00:18<00:00,  2.71s/it]\n",
      "Training (12249 / 18000 Steps) (loss=0.39400): 100%|██████████| 7/7 [00:17<00:00,  2.51s/it]\n",
      "Training (12256 / 18000 Steps) (loss=0.28495): 100%|██████████| 7/7 [00:17<00:00,  2.46s/it]\n",
      "Training (12263 / 18000 Steps) (loss=0.54406): 100%|██████████| 7/7 [00:18<00:00,  2.68s/it]\n",
      "Training (12270 / 18000 Steps) (loss=0.34221): 100%|██████████| 7/7 [00:17<00:00,  2.48s/it]\n",
      "Training (12277 / 18000 Steps) (loss=0.50193): 100%|██████████| 7/7 [00:17<00:00,  2.44s/it]\n",
      "Training (12284 / 18000 Steps) (loss=0.51693): 100%|██████████| 7/7 [00:18<00:00,  2.58s/it]\n",
      "Training (12291 / 18000 Steps) (loss=0.49508): 100%|██████████| 7/7 [00:17<00:00,  2.51s/it]\n",
      "Training (12298 / 18000 Steps) (loss=0.34818): 100%|██████████| 7/7 [00:17<00:00,  2.55s/it]\n",
      "Validate (12299 / 10 Steps): 100%|██████████| 2/2 [00:09<00:00,  4.76s/it]<00:32,  5.35s/it]\n",
      "Training (12300 / 18000 Steps) (loss=0.33081):  29%|██▊       | 2/7 [00:17<00:45,  9.13s/it]"
     ]
    },
    {
     "name": "stdout",
     "output_type": "stream",
     "text": [
      "Model Was Not Saved ! Current Best Avg. Dice: 0.3450833261013031 Current Avg. Dice: 0.27312108874320984 Current Avg. tumor Dice: 0.3008566200733185 Current Avg. lymph Dice: 0.2453855276107788\n"
     ]
    },
    {
     "name": "stderr",
     "output_type": "stream",
     "text": [
      "Training (12305 / 18000 Steps) (loss=0.53946): 100%|██████████| 7/7 [00:27<00:00,  3.89s/it]\n",
      "Training (12312 / 18000 Steps) (loss=0.35354): 100%|██████████| 7/7 [00:18<00:00,  2.61s/it]\n",
      "Training (12319 / 18000 Steps) (loss=0.55190): 100%|██████████| 7/7 [00:17<00:00,  2.52s/it]\n",
      "Training (12326 / 18000 Steps) (loss=0.43365): 100%|██████████| 7/7 [00:17<00:00,  2.54s/it]\n",
      "Training (12333 / 18000 Steps) (loss=0.41736): 100%|██████████| 7/7 [00:17<00:00,  2.51s/it]\n",
      "Training (12340 / 18000 Steps) (loss=0.26155): 100%|██████████| 7/7 [00:16<00:00,  2.39s/it]\n",
      "Training (12347 / 18000 Steps) (loss=0.41354): 100%|██████████| 7/7 [00:17<00:00,  2.45s/it]\n",
      "Training (12354 / 18000 Steps) (loss=0.40639): 100%|██████████| 7/7 [00:18<00:00,  2.68s/it]\n",
      "Training (12361 / 18000 Steps) (loss=0.36709): 100%|██████████| 7/7 [00:17<00:00,  2.48s/it]\n",
      "Training (12368 / 18000 Steps) (loss=0.56174): 100%|██████████| 7/7 [00:17<00:00,  2.50s/it]\n",
      "Training (12375 / 18000 Steps) (loss=0.43974): 100%|██████████| 7/7 [00:18<00:00,  2.62s/it]\n",
      "Training (12382 / 18000 Steps) (loss=0.33630): 100%|██████████| 7/7 [00:17<00:00,  2.43s/it]\n",
      "Training (12389 / 18000 Steps) (loss=0.23741): 100%|██████████| 7/7 [00:17<00:00,  2.49s/it]\n",
      "Training (12396 / 18000 Steps) (loss=0.28303): 100%|██████████| 7/7 [00:17<00:00,  2.50s/it]\n",
      "Validate (12397 / 10 Steps): 100%|██████████| 2/2 [00:09<00:00,  4.55s/it]<00:11,  3.00s/it]\n",
      "Training (12400 / 18000 Steps) (loss=0.51266):  57%|█████▋    | 4/7 [00:21<00:18,  6.25s/it]"
     ]
    },
    {
     "name": "stdout",
     "output_type": "stream",
     "text": [
      "Model Was Not Saved ! Current Best Avg. Dice: 0.3450833261013031 Current Avg. Dice: 0.2542482018470764 Current Avg. tumor Dice: 0.32720187306404114 Current Avg. lymph Dice: 0.1812945306301117\n"
     ]
    },
    {
     "name": "stderr",
     "output_type": "stream",
     "text": [
      "Training (12403 / 18000 Steps) (loss=0.19991): 100%|██████████| 7/7 [00:26<00:00,  3.83s/it]\n",
      "Training (12410 / 18000 Steps) (loss=0.28368): 100%|██████████| 7/7 [00:16<00:00,  2.37s/it]\n",
      "Training (12417 / 18000 Steps) (loss=0.28261): 100%|██████████| 7/7 [00:19<00:00,  2.74s/it]\n",
      "Training (12424 / 18000 Steps) (loss=0.32484): 100%|██████████| 7/7 [00:17<00:00,  2.44s/it]\n",
      "Training (12431 / 18000 Steps) (loss=0.39697): 100%|██████████| 7/7 [00:17<00:00,  2.46s/it]\n",
      "Training (12438 / 18000 Steps) (loss=0.30965): 100%|██████████| 7/7 [00:18<00:00,  2.59s/it]\n",
      "Training (12445 / 18000 Steps) (loss=0.25798): 100%|██████████| 7/7 [00:17<00:00,  2.52s/it]\n",
      "Training (12452 / 18000 Steps) (loss=0.22142): 100%|██████████| 7/7 [00:17<00:00,  2.49s/it]\n",
      "Training (12459 / 18000 Steps) (loss=0.36666): 100%|██████████| 7/7 [00:16<00:00,  2.42s/it]\n",
      "Training (12466 / 18000 Steps) (loss=0.60814): 100%|██████████| 7/7 [00:17<00:00,  2.52s/it]\n",
      "Training (12473 / 18000 Steps) (loss=0.52036): 100%|██████████| 7/7 [00:17<00:00,  2.56s/it]\n",
      "Training (12480 / 18000 Steps) (loss=0.66812): 100%|██████████| 7/7 [00:17<00:00,  2.45s/it]\n",
      "Training (12487 / 18000 Steps) (loss=0.53428): 100%|██████████| 7/7 [00:18<00:00,  2.58s/it]\n",
      "Training (12494 / 18000 Steps) (loss=0.54317): 100%|██████████| 7/7 [00:18<00:00,  2.62s/it]\n",
      "Validate (12495 / 10 Steps): 100%|██████████| 2/2 [00:09<00:00,  4.75s/it]<00:04,  2.32s/it]\n",
      "Training (12500 / 18000 Steps) (loss=0.34782):  86%|████████▌ | 6/7 [00:25<00:05,  5.42s/it]"
     ]
    },
    {
     "name": "stdout",
     "output_type": "stream",
     "text": [
      "Model Was Not Saved ! Current Best Avg. Dice: 0.3450833261013031 Current Avg. Dice: 0.27796000242233276 Current Avg. tumor Dice: 0.32139819860458374 Current Avg. lymph Dice: 0.2345217764377594\n"
     ]
    },
    {
     "name": "stderr",
     "output_type": "stream",
     "text": [
      "Training (12501 / 18000 Steps) (loss=0.30219): 100%|██████████| 7/7 [00:26<00:00,  3.85s/it]\n",
      "Training (12508 / 18000 Steps) (loss=0.46619): 100%|██████████| 7/7 [00:16<00:00,  2.37s/it]\n",
      "Training (12515 / 18000 Steps) (loss=0.32825): 100%|██████████| 7/7 [00:17<00:00,  2.52s/it]\n",
      "Training (12522 / 18000 Steps) (loss=0.38159): 100%|██████████| 7/7 [00:16<00:00,  2.33s/it]\n",
      "Training (12529 / 18000 Steps) (loss=0.54744): 100%|██████████| 7/7 [00:14<00:00,  2.13s/it]\n",
      "Training (12536 / 18000 Steps) (loss=0.33497): 100%|██████████| 7/7 [00:15<00:00,  2.19s/it]\n",
      "Training (12543 / 18000 Steps) (loss=0.35848): 100%|██████████| 7/7 [00:15<00:00,  2.16s/it]\n",
      "Training (12550 / 18000 Steps) (loss=0.26422): 100%|██████████| 7/7 [00:14<00:00,  2.14s/it]\n",
      "Training (12557 / 18000 Steps) (loss=0.19104): 100%|██████████| 7/7 [00:15<00:00,  2.16s/it]\n",
      "Training (12564 / 18000 Steps) (loss=0.43119): 100%|██████████| 7/7 [00:15<00:00,  2.17s/it]\n",
      "Training (12571 / 18000 Steps) (loss=0.55005): 100%|██████████| 7/7 [00:15<00:00,  2.23s/it]\n",
      "Training (12578 / 18000 Steps) (loss=0.48830): 100%|██████████| 7/7 [00:14<00:00,  2.14s/it]\n",
      "Training (12585 / 18000 Steps) (loss=0.19618): 100%|██████████| 7/7 [00:14<00:00,  2.14s/it]\n",
      "Training (12592 / 18000 Steps) (loss=0.46969): 100%|██████████| 7/7 [00:15<00:00,  2.19s/it]\n",
      "Training (12599 / 18000 Steps) (loss=0.50337): 100%|██████████| 7/7 [00:15<00:00,  2.23s/it]\n",
      "Validate (12600 / 10 Steps): 100%|██████████| 2/2 [00:08<00:00,  4.17s/it]<?, ?it/s]\n",
      "Training (12600 / 18000 Steps) (loss=0.41945):  14%|█▍        | 1/7 [00:12<01:17, 12.94s/it]"
     ]
    },
    {
     "name": "stdout",
     "output_type": "stream",
     "text": [
      "Model Was Not Saved ! Current Best Avg. Dice: 0.3450833261013031 Current Avg. Dice: 0.27128785848617554 Current Avg. tumor Dice: 0.29928427934646606 Current Avg. lymph Dice: 0.2432914525270462\n"
     ]
    },
    {
     "name": "stderr",
     "output_type": "stream",
     "text": [
      "Training (12606 / 18000 Steps) (loss=0.44381): 100%|██████████| 7/7 [00:23<00:00,  3.32s/it]\n",
      "Training (12613 / 18000 Steps) (loss=0.31038): 100%|██████████| 7/7 [00:15<00:00,  2.18s/it]\n",
      "Training (12620 / 18000 Steps) (loss=0.42881): 100%|██████████| 7/7 [00:15<00:00,  2.15s/it]\n",
      "Training (12627 / 18000 Steps) (loss=0.47552): 100%|██████████| 7/7 [00:15<00:00,  2.25s/it]\n",
      "Training (12634 / 18000 Steps) (loss=0.42280): 100%|██████████| 7/7 [00:16<00:00,  2.35s/it]\n",
      "Training (12641 / 18000 Steps) (loss=0.24903): 100%|██████████| 7/7 [00:17<00:00,  2.51s/it]\n",
      "Training (12648 / 18000 Steps) (loss=0.41447): 100%|██████████| 7/7 [00:18<00:00,  2.69s/it]\n",
      "Training (12655 / 18000 Steps) (loss=0.33641): 100%|██████████| 7/7 [00:16<00:00,  2.39s/it]\n",
      "Training (12662 / 18000 Steps) (loss=0.26595): 100%|██████████| 7/7 [00:17<00:00,  2.44s/it]\n",
      "Training (12669 / 18000 Steps) (loss=0.42151): 100%|██████████| 7/7 [00:19<00:00,  2.72s/it]\n",
      "Training (12676 / 18000 Steps) (loss=0.49665): 100%|██████████| 7/7 [00:16<00:00,  2.40s/it]\n",
      "Training (12683 / 18000 Steps) (loss=0.54805): 100%|██████████| 7/7 [00:17<00:00,  2.52s/it]\n",
      "Training (12690 / 18000 Steps) (loss=0.40616): 100%|██████████| 7/7 [00:17<00:00,  2.48s/it]\n",
      "Training (12697 / 18000 Steps) (loss=0.37334): 100%|██████████| 7/7 [00:17<00:00,  2.48s/it]\n",
      "Validate (12698 / 10 Steps): 100%|██████████| 2/2 [00:08<00:00,  4.33s/it]<00:17,  3.42s/it]\n",
      "Training (12700 / 18000 Steps) (loss=0.52877):  43%|████▎     | 3/7 [00:18<00:27,  6.81s/it]"
     ]
    },
    {
     "name": "stdout",
     "output_type": "stream",
     "text": [
      "Model Was Not Saved ! Current Best Avg. Dice: 0.3450833261013031 Current Avg. Dice: 0.2710976302623749 Current Avg. tumor Dice: 0.2798748314380646 Current Avg. lymph Dice: 0.26232045888900757\n"
     ]
    },
    {
     "name": "stderr",
     "output_type": "stream",
     "text": [
      "Training (12704 / 18000 Steps) (loss=0.55610): 100%|██████████| 7/7 [00:25<00:00,  3.63s/it]\n",
      "Training (12711 / 18000 Steps) (loss=0.33757): 100%|██████████| 7/7 [00:18<00:00,  2.62s/it]\n",
      "Training (12718 / 18000 Steps) (loss=0.45963): 100%|██████████| 7/7 [00:18<00:00,  2.64s/it]\n",
      "Training (12725 / 18000 Steps) (loss=0.51178): 100%|██████████| 7/7 [00:17<00:00,  2.48s/it]\n",
      "Training (12732 / 18000 Steps) (loss=0.30997): 100%|██████████| 7/7 [00:17<00:00,  2.53s/it]\n",
      "Training (12739 / 18000 Steps) (loss=0.50298): 100%|██████████| 7/7 [00:17<00:00,  2.48s/it]\n",
      "Training (12746 / 18000 Steps) (loss=0.63333): 100%|██████████| 7/7 [00:17<00:00,  2.52s/it]\n",
      "Training (12753 / 18000 Steps) (loss=0.35342): 100%|██████████| 7/7 [00:17<00:00,  2.46s/it]\n",
      "Training (12760 / 18000 Steps) (loss=0.46367): 100%|██████████| 7/7 [00:18<00:00,  2.57s/it]\n",
      "Training (12767 / 18000 Steps) (loss=0.33920): 100%|██████████| 7/7 [00:17<00:00,  2.47s/it]\n",
      "Training (12774 / 18000 Steps) (loss=0.49111): 100%|██████████| 7/7 [00:16<00:00,  2.40s/it]\n",
      "Training (12781 / 18000 Steps) (loss=0.47706): 100%|██████████| 7/7 [00:18<00:00,  2.62s/it]\n",
      "Training (12788 / 18000 Steps) (loss=0.54924): 100%|██████████| 7/7 [00:17<00:00,  2.47s/it]\n",
      "Training (12795 / 18000 Steps) (loss=0.43939): 100%|██████████| 7/7 [00:17<00:00,  2.52s/it]\n",
      "Validate (12796 / 10 Steps): 100%|██████████| 2/2 [00:09<00:00,  4.72s/it]<00:07,  2.57s/it]\n",
      "Training (12800 / 18000 Steps) (loss=0.49634):  71%|███████▏  | 5/7 [00:23<00:11,  5.85s/it]"
     ]
    },
    {
     "name": "stdout",
     "output_type": "stream",
     "text": [
      "Model Was Not Saved ! Current Best Avg. Dice: 0.3450833261013031 Current Avg. Dice: 0.30806541442871094 Current Avg. tumor Dice: 0.330825537443161 Current Avg. lymph Dice: 0.2853052020072937\n"
     ]
    },
    {
     "name": "stderr",
     "output_type": "stream",
     "text": [
      "Training (12802 / 18000 Steps) (loss=0.28684): 100%|██████████| 7/7 [00:27<00:00,  3.86s/it]\n",
      "Training (12809 / 18000 Steps) (loss=0.34353): 100%|██████████| 7/7 [00:17<00:00,  2.45s/it]\n",
      "Training (12816 / 18000 Steps) (loss=0.30714): 100%|██████████| 7/7 [00:16<00:00,  2.34s/it]\n",
      "Training (12823 / 18000 Steps) (loss=0.18102): 100%|██████████| 7/7 [00:18<00:00,  2.60s/it]\n",
      "Training (12830 / 18000 Steps) (loss=0.31199): 100%|██████████| 7/7 [00:17<00:00,  2.51s/it]\n",
      "Training (12837 / 18000 Steps) (loss=0.50374): 100%|██████████| 7/7 [00:17<00:00,  2.46s/it]\n",
      "Training (12844 / 18000 Steps) (loss=0.30696): 100%|██████████| 7/7 [00:18<00:00,  2.58s/it]\n",
      "Training (12851 / 18000 Steps) (loss=0.59361): 100%|██████████| 7/7 [00:18<00:00,  2.58s/it]\n",
      "Training (12858 / 18000 Steps) (loss=0.55590): 100%|██████████| 7/7 [00:16<00:00,  2.37s/it]\n",
      "Training (12865 / 18000 Steps) (loss=0.27532): 100%|██████████| 7/7 [00:17<00:00,  2.52s/it]\n",
      "Training (12872 / 18000 Steps) (loss=0.32457): 100%|██████████| 7/7 [00:18<00:00,  2.58s/it]\n",
      "Training (12879 / 18000 Steps) (loss=0.35347): 100%|██████████| 7/7 [00:17<00:00,  2.45s/it]\n",
      "Training (12886 / 18000 Steps) (loss=0.39161): 100%|██████████| 7/7 [00:16<00:00,  2.40s/it]\n",
      "Training (12893 / 18000 Steps) (loss=0.60075): 100%|██████████| 7/7 [00:19<00:00,  2.72s/it]\n",
      "Validate (12894 / 10 Steps): 100%|██████████| 2/2 [00:09<00:00,  4.51s/it]<00:02,  2.15s/it]\n",
      "Training (12900 / 18000 Steps) (loss=0.20628): 100%|██████████| 7/7 [00:26<00:00,  3.79s/it]\n"
     ]
    },
    {
     "name": "stdout",
     "output_type": "stream",
     "text": [
      "Model Was Not Saved ! Current Best Avg. Dice: 0.3450833261013031 Current Avg. Dice: 0.27932310104370117 Current Avg. tumor Dice: 0.29830533266067505 Current Avg. lymph Dice: 0.26034092903137207\n"
     ]
    },
    {
     "name": "stderr",
     "output_type": "stream",
     "text": [
      "Training (12907 / 18000 Steps) (loss=0.36543): 100%|██████████| 7/7 [00:16<00:00,  2.41s/it]\n",
      "Training (12914 / 18000 Steps) (loss=0.42468): 100%|██████████| 7/7 [00:17<00:00,  2.44s/it]\n",
      "Training (12921 / 18000 Steps) (loss=0.57647): 100%|██████████| 7/7 [00:17<00:00,  2.48s/it]\n",
      "Training (12928 / 18000 Steps) (loss=0.37000): 100%|██████████| 7/7 [00:17<00:00,  2.52s/it]\n",
      "Training (12935 / 18000 Steps) (loss=0.46377): 100%|██████████| 7/7 [00:17<00:00,  2.56s/it]\n",
      "Training (12942 / 18000 Steps) (loss=0.46220): 100%|██████████| 7/7 [00:18<00:00,  2.59s/it]\n",
      "Training (12949 / 18000 Steps) (loss=0.45369): 100%|██████████| 7/7 [00:16<00:00,  2.29s/it]\n",
      "Training (12956 / 18000 Steps) (loss=0.30743): 100%|██████████| 7/7 [00:17<00:00,  2.43s/it]\n",
      "Training (12963 / 18000 Steps) (loss=0.48403): 100%|██████████| 7/7 [00:18<00:00,  2.61s/it]\n",
      "Training (12970 / 18000 Steps) (loss=0.27215): 100%|██████████| 7/7 [00:17<00:00,  2.56s/it]\n",
      "Training (12977 / 18000 Steps) (loss=0.55085): 100%|██████████| 7/7 [00:16<00:00,  2.35s/it]\n",
      "Training (12984 / 18000 Steps) (loss=0.50404): 100%|██████████| 7/7 [00:16<00:00,  2.42s/it]\n",
      "Training (12991 / 18000 Steps) (loss=0.29009): 100%|██████████| 7/7 [00:18<00:00,  2.69s/it]\n",
      "Training (12998 / 18000 Steps) (loss=0.31332): 100%|██████████| 7/7 [00:16<00:00,  2.40s/it]\n",
      "Validate (12999 / 10 Steps): 100%|██████████| 2/2 [00:08<00:00,  4.49s/it]<00:33,  5.61s/it]\n",
      "Training (13000 / 18000 Steps) (loss=0.44453):  29%|██▊       | 2/7 [00:16<00:43,  8.75s/it]"
     ]
    },
    {
     "name": "stdout",
     "output_type": "stream",
     "text": [
      "Model Was Not Saved ! Current Best Avg. Dice: 0.3450833261013031 Current Avg. Dice: 0.30091792345046997 Current Avg. tumor Dice: 0.36271870136260986 Current Avg. lymph Dice: 0.2391171008348465\n"
     ]
    },
    {
     "name": "stderr",
     "output_type": "stream",
     "text": [
      "Training (13005 / 18000 Steps) (loss=0.52462): 100%|██████████| 7/7 [00:26<00:00,  3.82s/it]\n",
      "Training (13012 / 18000 Steps) (loss=0.42531): 100%|██████████| 7/7 [00:18<00:00,  2.60s/it]\n",
      "Training (13019 / 18000 Steps) (loss=0.50211): 100%|██████████| 7/7 [00:17<00:00,  2.44s/it]\n",
      "Training (13026 / 18000 Steps) (loss=0.30095): 100%|██████████| 7/7 [00:17<00:00,  2.55s/it]\n",
      "Training (13033 / 18000 Steps) (loss=0.47034): 100%|██████████| 7/7 [00:18<00:00,  2.71s/it]\n",
      "Training (13040 / 18000 Steps) (loss=0.34356): 100%|██████████| 7/7 [00:17<00:00,  2.50s/it]\n",
      "Training (13047 / 18000 Steps) (loss=0.21624): 100%|██████████| 7/7 [00:17<00:00,  2.51s/it]\n",
      "Training (13054 / 18000 Steps) (loss=0.52033): 100%|██████████| 7/7 [00:18<00:00,  2.62s/it]\n",
      "Training (13061 / 18000 Steps) (loss=0.30343): 100%|██████████| 7/7 [00:17<00:00,  2.54s/it]\n",
      "Training (13068 / 18000 Steps) (loss=0.27711): 100%|██████████| 7/7 [00:16<00:00,  2.36s/it]\n",
      "Training (13075 / 18000 Steps) (loss=0.16400): 100%|██████████| 7/7 [00:18<00:00,  2.71s/it]\n",
      "Training (13082 / 18000 Steps) (loss=0.43674): 100%|██████████| 7/7 [00:17<00:00,  2.52s/it]\n",
      "Training (13089 / 18000 Steps) (loss=0.42851): 100%|██████████| 7/7 [00:17<00:00,  2.52s/it]\n",
      "Training (13096 / 18000 Steps) (loss=0.33152): 100%|██████████| 7/7 [00:17<00:00,  2.51s/it]\n",
      "Validate (13097 / 10 Steps): 100%|██████████| 2/2 [00:09<00:00,  4.63s/it]<00:12,  3.05s/it]\n",
      "Training (13100 / 18000 Steps) (loss=0.45256):  57%|█████▋    | 4/7 [00:21<00:18,  6.32s/it]"
     ]
    },
    {
     "name": "stdout",
     "output_type": "stream",
     "text": [
      "Model Was Not Saved ! Current Best Avg. Dice: 0.3450833261013031 Current Avg. Dice: 0.27086979150772095 Current Avg. tumor Dice: 0.3241425156593323 Current Avg. lymph Dice: 0.217597097158432\n"
     ]
    },
    {
     "name": "stderr",
     "output_type": "stream",
     "text": [
      "Training (13103 / 18000 Steps) (loss=0.29489): 100%|██████████| 7/7 [00:27<00:00,  3.86s/it]\n",
      "Training (13110 / 18000 Steps) (loss=0.36371): 100%|██████████| 7/7 [00:16<00:00,  2.42s/it]\n",
      "Training (13117 / 18000 Steps) (loss=0.44979): 100%|██████████| 7/7 [00:17<00:00,  2.50s/it]\n",
      "Training (13124 / 18000 Steps) (loss=0.36305): 100%|██████████| 7/7 [00:17<00:00,  2.57s/it]\n",
      "Training (13131 / 18000 Steps) (loss=0.19723): 100%|██████████| 7/7 [00:16<00:00,  2.42s/it]\n",
      "Training (13138 / 18000 Steps) (loss=0.53248): 100%|██████████| 7/7 [00:18<00:00,  2.60s/it]\n",
      "Training (13145 / 18000 Steps) (loss=0.48184): 100%|██████████| 7/7 [00:18<00:00,  2.57s/it]\n",
      "Training (13152 / 18000 Steps) (loss=0.29966): 100%|██████████| 7/7 [00:16<00:00,  2.34s/it]\n",
      "Training (13159 / 18000 Steps) (loss=0.54196): 100%|██████████| 7/7 [00:18<00:00,  2.57s/it]\n",
      "Training (13166 / 18000 Steps) (loss=0.55249): 100%|██████████| 7/7 [00:18<00:00,  2.66s/it]\n",
      "Training (13173 / 18000 Steps) (loss=0.45704): 100%|██████████| 7/7 [00:18<00:00,  2.59s/it]\n",
      "Training (13180 / 18000 Steps) (loss=0.43023): 100%|██████████| 7/7 [00:17<00:00,  2.44s/it]\n",
      "Training (13187 / 18000 Steps) (loss=0.23264): 100%|██████████| 7/7 [00:18<00:00,  2.65s/it]\n",
      "Training (13194 / 18000 Steps) (loss=0.43252): 100%|██████████| 7/7 [00:17<00:00,  2.52s/it]\n",
      "Validate (13195 / 10 Steps): 100%|██████████| 2/2 [00:09<00:00,  4.86s/it]<00:04,  2.32s/it]\n",
      "Training (13200 / 18000 Steps) (loss=0.23688):  86%|████████▌ | 6/7 [00:25<00:05,  5.59s/it]"
     ]
    },
    {
     "name": "stdout",
     "output_type": "stream",
     "text": [
      "Model Was Not Saved ! Current Best Avg. Dice: 0.3450833261013031 Current Avg. Dice: 0.2536453604698181 Current Avg. tumor Dice: 0.31318819522857666 Current Avg. lymph Dice: 0.19410254061222076\n"
     ]
    },
    {
     "name": "stderr",
     "output_type": "stream",
     "text": [
      "Training (13201 / 18000 Steps) (loss=0.38544): 100%|██████████| 7/7 [00:27<00:00,  3.89s/it]\n",
      "Training (13208 / 18000 Steps) (loss=0.45757): 100%|██████████| 7/7 [00:17<00:00,  2.56s/it]\n",
      "Training (13215 / 18000 Steps) (loss=0.33314): 100%|██████████| 7/7 [00:18<00:00,  2.59s/it]\n",
      "Training (13222 / 18000 Steps) (loss=0.38081): 100%|██████████| 7/7 [00:17<00:00,  2.50s/it]\n",
      "Training (13229 / 18000 Steps) (loss=0.28125): 100%|██████████| 7/7 [00:16<00:00,  2.42s/it]\n",
      "Training (13236 / 18000 Steps) (loss=0.44908): 100%|██████████| 7/7 [00:17<00:00,  2.57s/it]\n",
      "Training (13243 / 18000 Steps) (loss=0.53123): 100%|██████████| 7/7 [00:16<00:00,  2.40s/it]\n",
      "Training (13250 / 18000 Steps) (loss=0.60941): 100%|██████████| 7/7 [00:16<00:00,  2.39s/it]\n",
      "Training (13257 / 18000 Steps) (loss=0.36255): 100%|██████████| 7/7 [00:18<00:00,  2.69s/it]\n",
      "Training (13264 / 18000 Steps) (loss=0.66491): 100%|██████████| 7/7 [00:17<00:00,  2.43s/it]\n",
      "Training (13271 / 18000 Steps) (loss=0.26913): 100%|██████████| 7/7 [00:17<00:00,  2.47s/it]\n",
      "Training (13278 / 18000 Steps) (loss=0.52387): 100%|██████████| 7/7 [00:19<00:00,  2.72s/it]\n",
      "Training (13285 / 18000 Steps) (loss=0.53733): 100%|██████████| 7/7 [00:18<00:00,  2.60s/it]\n",
      "Training (13292 / 18000 Steps) (loss=0.29793): 100%|██████████| 7/7 [00:16<00:00,  2.42s/it]\n",
      "Training (13299 / 18000 Steps) (loss=0.38023): 100%|██████████| 7/7 [00:17<00:00,  2.51s/it]\n",
      "Validate (13300 / 10 Steps): 100%|██████████| 2/2 [00:09<00:00,  4.85s/it]<?, ?it/s]\n",
      "Training (13300 / 18000 Steps) (loss=0.40323):  14%|█▍        | 1/7 [00:15<01:34, 15.83s/it]"
     ]
    },
    {
     "name": "stdout",
     "output_type": "stream",
     "text": [
      "Model Was Not Saved ! Current Best Avg. Dice: 0.3450833261013031 Current Avg. Dice: 0.30331122875213623 Current Avg. tumor Dice: 0.3539871871471405 Current Avg. lymph Dice: 0.25263527035713196\n"
     ]
    },
    {
     "name": "stderr",
     "output_type": "stream",
     "text": [
      "Training (13306 / 18000 Steps) (loss=0.38996): 100%|██████████| 7/7 [00:27<00:00,  3.93s/it]\n",
      "Training (13313 / 18000 Steps) (loss=0.60154): 100%|██████████| 7/7 [00:16<00:00,  2.41s/it]\n",
      "Training (13320 / 18000 Steps) (loss=0.45050): 100%|██████████| 7/7 [00:18<00:00,  2.61s/it]\n",
      "Training (13327 / 18000 Steps) (loss=0.35524): 100%|██████████| 7/7 [00:17<00:00,  2.57s/it]\n",
      "Training (13334 / 18000 Steps) (loss=0.53644): 100%|██████████| 7/7 [00:15<00:00,  2.28s/it]\n",
      "Training (13341 / 18000 Steps) (loss=0.43007): 100%|██████████| 7/7 [00:17<00:00,  2.47s/it]\n",
      "Training (13348 / 18000 Steps) (loss=0.30281): 100%|██████████| 7/7 [00:17<00:00,  2.44s/it]\n",
      "Training (13355 / 18000 Steps) (loss=0.31151): 100%|██████████| 7/7 [00:17<00:00,  2.43s/it]\n",
      "Training (13362 / 18000 Steps) (loss=0.51105): 100%|██████████| 7/7 [00:17<00:00,  2.43s/it]\n",
      "Training (13369 / 18000 Steps) (loss=0.46672): 100%|██████████| 7/7 [00:18<00:00,  2.66s/it]\n",
      "Training (13376 / 18000 Steps) (loss=0.44204): 100%|██████████| 7/7 [00:17<00:00,  2.55s/it]\n",
      "Training (13383 / 18000 Steps) (loss=0.28723): 100%|██████████| 7/7 [00:17<00:00,  2.52s/it]\n",
      "Training (13390 / 18000 Steps) (loss=0.46795): 100%|██████████| 7/7 [00:18<00:00,  2.58s/it]\n",
      "Training (13397 / 18000 Steps) (loss=0.58698): 100%|██████████| 7/7 [00:17<00:00,  2.45s/it]\n",
      "Validate (13398 / 10 Steps): 100%|██████████| 2/2 [00:09<00:00,  4.69s/it]<00:19,  3.86s/it]\n",
      "Training (13400 / 18000 Steps) (loss=0.44921):  43%|████▎     | 3/7 [00:19<00:29,  7.28s/it]"
     ]
    },
    {
     "name": "stdout",
     "output_type": "stream",
     "text": [
      "Model Was Not Saved ! Current Best Avg. Dice: 0.3450833261013031 Current Avg. Dice: 0.29124853014945984 Current Avg. tumor Dice: 0.3158494830131531 Current Avg. lymph Dice: 0.2666475474834442\n"
     ]
    },
    {
     "name": "stderr",
     "output_type": "stream",
     "text": [
      "Training (13404 / 18000 Steps) (loss=0.25972): 100%|██████████| 7/7 [00:27<00:00,  3.87s/it]\n",
      "Training (13411 / 18000 Steps) (loss=0.32265): 100%|██████████| 7/7 [00:19<00:00,  2.72s/it]\n",
      "Training (13418 / 18000 Steps) (loss=0.38296): 100%|██████████| 7/7 [00:17<00:00,  2.51s/it]\n",
      "Training (13425 / 18000 Steps) (loss=0.53359): 100%|██████████| 7/7 [00:17<00:00,  2.50s/it]\n",
      "Training (13432 / 18000 Steps) (loss=0.43626): 100%|██████████| 7/7 [00:18<00:00,  2.63s/it]\n",
      "Training (13439 / 18000 Steps) (loss=0.51841): 100%|██████████| 7/7 [00:17<00:00,  2.52s/it]\n",
      "Training (13446 / 18000 Steps) (loss=0.46671): 100%|██████████| 7/7 [00:16<00:00,  2.36s/it]\n",
      "Training (13453 / 18000 Steps) (loss=0.21348): 100%|██████████| 7/7 [00:18<00:00,  2.59s/it]\n",
      "Training (13460 / 18000 Steps) (loss=0.37948): 100%|██████████| 7/7 [00:18<00:00,  2.59s/it]\n",
      "Training (13467 / 18000 Steps) (loss=0.47092): 100%|██████████| 7/7 [00:17<00:00,  2.44s/it]\n",
      "Training (13474 / 18000 Steps) (loss=0.54760): 100%|██████████| 7/7 [00:16<00:00,  2.42s/it]\n",
      "Training (13481 / 18000 Steps) (loss=0.32022): 100%|██████████| 7/7 [00:18<00:00,  2.61s/it]\n",
      "Training (13488 / 18000 Steps) (loss=0.47017): 100%|██████████| 7/7 [00:18<00:00,  2.63s/it]\n",
      "Training (13495 / 18000 Steps) (loss=0.36356): 100%|██████████| 7/7 [00:17<00:00,  2.45s/it]\n",
      "Validate (13496 / 10 Steps): 100%|██████████| 2/2 [00:09<00:00,  4.52s/it]<00:07,  2.57s/it]\n",
      "Training (13500 / 18000 Steps) (loss=0.46262):  71%|███████▏  | 5/7 [00:22<00:11,  5.66s/it]"
     ]
    },
    {
     "name": "stdout",
     "output_type": "stream",
     "text": [
      "Model Was Not Saved ! Current Best Avg. Dice: 0.3450833261013031 Current Avg. Dice: 0.29683515429496765 Current Avg. tumor Dice: 0.3310913145542145 Current Avg. lymph Dice: 0.2625790238380432\n"
     ]
    },
    {
     "name": "stderr",
     "output_type": "stream",
     "text": [
      "Training (13502 / 18000 Steps) (loss=0.45242): 100%|██████████| 7/7 [00:26<00:00,  3.82s/it]\n",
      "Training (13509 / 18000 Steps) (loss=0.17389): 100%|██████████| 7/7 [00:17<00:00,  2.49s/it]\n",
      "Training (13516 / 18000 Steps) (loss=0.27403): 100%|██████████| 7/7 [00:17<00:00,  2.48s/it]\n",
      "Training (13523 / 18000 Steps) (loss=0.46682): 100%|██████████| 7/7 [00:16<00:00,  2.40s/it]\n",
      "Training (13530 / 18000 Steps) (loss=0.42025): 100%|██████████| 7/7 [00:18<00:00,  2.69s/it]\n",
      "Training (13537 / 18000 Steps) (loss=0.34922): 100%|██████████| 7/7 [00:16<00:00,  2.41s/it]\n",
      "Training (13544 / 18000 Steps) (loss=0.48908): 100%|██████████| 7/7 [00:18<00:00,  2.64s/it]\n",
      "Training (13551 / 18000 Steps) (loss=0.41964): 100%|██████████| 7/7 [00:17<00:00,  2.54s/it]\n",
      "Training (13558 / 18000 Steps) (loss=0.30557): 100%|██████████| 7/7 [00:16<00:00,  2.42s/it]\n",
      "Training (13565 / 18000 Steps) (loss=0.51186): 100%|██████████| 7/7 [00:17<00:00,  2.46s/it]\n",
      "Training (13572 / 18000 Steps) (loss=0.54601): 100%|██████████| 7/7 [00:18<00:00,  2.58s/it]\n",
      "Training (13579 / 18000 Steps) (loss=0.56491): 100%|██████████| 7/7 [00:17<00:00,  2.56s/it]\n",
      "Training (13586 / 18000 Steps) (loss=0.32181): 100%|██████████| 7/7 [00:16<00:00,  2.35s/it]\n",
      "Training (13593 / 18000 Steps) (loss=0.39782): 100%|██████████| 7/7 [00:18<00:00,  2.62s/it]\n",
      "Validate (13594 / 10 Steps): 100%|██████████| 2/2 [00:08<00:00,  4.48s/it]<00:02,  2.18s/it]\n",
      "Training (13600 / 18000 Steps) (loss=0.41868): 100%|██████████| 7/7 [00:26<00:00,  3.82s/it]\n"
     ]
    },
    {
     "name": "stdout",
     "output_type": "stream",
     "text": [
      "Model Was Not Saved ! Current Best Avg. Dice: 0.3450833261013031 Current Avg. Dice: 0.303128182888031 Current Avg. tumor Dice: 0.36060088872909546 Current Avg. lymph Dice: 0.24565541744232178\n"
     ]
    },
    {
     "name": "stderr",
     "output_type": "stream",
     "text": [
      "Training (13607 / 18000 Steps) (loss=0.28251): 100%|██████████| 7/7 [00:16<00:00,  2.36s/it]\n",
      "Training (13614 / 18000 Steps) (loss=0.22976): 100%|██████████| 7/7 [00:17<00:00,  2.56s/it]\n",
      "Training (13621 / 18000 Steps) (loss=0.44397): 100%|██████████| 7/7 [00:16<00:00,  2.42s/it]\n",
      "Training (13628 / 18000 Steps) (loss=0.50563): 100%|██████████| 7/7 [00:17<00:00,  2.54s/it]\n",
      "Training (13635 / 18000 Steps) (loss=0.54731): 100%|██████████| 7/7 [00:16<00:00,  2.43s/it]\n",
      "Training (13642 / 18000 Steps) (loss=0.44562): 100%|██████████| 7/7 [00:17<00:00,  2.48s/it]\n",
      "Training (13649 / 18000 Steps) (loss=0.34023): 100%|██████████| 7/7 [00:17<00:00,  2.54s/it]\n",
      "Training (13656 / 18000 Steps) (loss=0.42521): 100%|██████████| 7/7 [00:17<00:00,  2.48s/it]\n",
      "Training (13663 / 18000 Steps) (loss=0.54365): 100%|██████████| 7/7 [00:18<00:00,  2.63s/it]\n",
      "Training (13670 / 18000 Steps) (loss=0.48681): 100%|██████████| 7/7 [00:16<00:00,  2.38s/it]\n",
      "Training (13677 / 18000 Steps) (loss=0.33033): 100%|██████████| 7/7 [00:17<00:00,  2.46s/it]\n",
      "Training (13684 / 18000 Steps) (loss=0.32164): 100%|██████████| 7/7 [00:17<00:00,  2.48s/it]\n",
      "Training (13691 / 18000 Steps) (loss=0.41885): 100%|██████████| 7/7 [00:18<00:00,  2.58s/it]\n",
      "Training (13698 / 18000 Steps) (loss=0.42062): 100%|██████████| 7/7 [00:16<00:00,  2.36s/it]\n",
      "Validate (13699 / 10 Steps): 100%|██████████| 2/2 [00:09<00:00,  4.57s/it]<00:33,  5.52s/it]\n",
      "Training (13700 / 18000 Steps) (loss=0.35139):  29%|██▊       | 2/7 [00:16<00:43,  8.79s/it]"
     ]
    },
    {
     "name": "stdout",
     "output_type": "stream",
     "text": [
      "Model Was Not Saved ! Current Best Avg. Dice: 0.3450833261013031 Current Avg. Dice: 0.33028289675712585 Current Avg. tumor Dice: 0.420316219329834 Current Avg. lymph Dice: 0.24024958908557892\n"
     ]
    },
    {
     "name": "stderr",
     "output_type": "stream",
     "text": [
      "Training (13705 / 18000 Steps) (loss=0.41832): 100%|██████████| 7/7 [00:26<00:00,  3.82s/it]\n",
      "Training (13712 / 18000 Steps) (loss=0.40294): 100%|██████████| 7/7 [00:17<00:00,  2.43s/it]\n",
      "Training (13719 / 18000 Steps) (loss=0.29537): 100%|██████████| 7/7 [00:16<00:00,  2.36s/it]\n",
      "Training (13726 / 18000 Steps) (loss=0.52987): 100%|██████████| 7/7 [00:17<00:00,  2.50s/it]\n",
      "Training (13733 / 18000 Steps) (loss=0.42264): 100%|██████████| 7/7 [00:17<00:00,  2.47s/it]\n",
      "Training (13740 / 18000 Steps) (loss=0.54368): 100%|██████████| 7/7 [00:16<00:00,  2.31s/it]\n",
      "Training (13747 / 18000 Steps) (loss=0.33389): 100%|██████████| 7/7 [00:17<00:00,  2.49s/it]\n",
      "Training (13754 / 18000 Steps) (loss=0.45900): 100%|██████████| 7/7 [00:18<00:00,  2.61s/it]\n",
      "Training (13761 / 18000 Steps) (loss=0.48162): 100%|██████████| 7/7 [00:17<00:00,  2.45s/it]\n",
      "Training (13768 / 18000 Steps) (loss=0.30886): 100%|██████████| 7/7 [00:18<00:00,  2.60s/it]\n",
      "Training (13775 / 18000 Steps) (loss=0.58040): 100%|██████████| 7/7 [00:17<00:00,  2.57s/it]\n",
      "Training (13782 / 18000 Steps) (loss=0.37886): 100%|██████████| 7/7 [00:16<00:00,  2.40s/it]\n",
      "Training (13789 / 18000 Steps) (loss=0.31768): 100%|██████████| 7/7 [00:17<00:00,  2.54s/it]\n",
      "Training (13796 / 18000 Steps) (loss=0.37323): 100%|██████████| 7/7 [00:17<00:00,  2.46s/it]\n",
      "Validate (13797 / 10 Steps): 100%|██████████| 2/2 [00:08<00:00,  4.39s/it]<00:11,  2.92s/it]\n",
      "Training (13800 / 18000 Steps) (loss=0.58215):  57%|█████▋    | 4/7 [00:21<00:18,  6.12s/it]"
     ]
    },
    {
     "name": "stdout",
     "output_type": "stream",
     "text": [
      "Model Was Not Saved ! Current Best Avg. Dice: 0.3450833261013031 Current Avg. Dice: 0.27799955010414124 Current Avg. tumor Dice: 0.3172045350074768 Current Avg. lymph Dice: 0.23879455029964447\n"
     ]
    },
    {
     "name": "stderr",
     "output_type": "stream",
     "text": [
      "Training (13803 / 18000 Steps) (loss=0.16405): 100%|██████████| 7/7 [00:27<00:00,  3.87s/it]\n",
      "Training (13810 / 18000 Steps) (loss=0.54021): 100%|██████████| 7/7 [00:16<00:00,  2.41s/it]\n",
      "Training (13817 / 18000 Steps) (loss=0.40705): 100%|██████████| 7/7 [00:18<00:00,  2.59s/it]\n",
      "Training (13824 / 18000 Steps) (loss=0.40244): 100%|██████████| 7/7 [00:17<00:00,  2.55s/it]\n",
      "Training (13831 / 18000 Steps) (loss=0.28692): 100%|██████████| 7/7 [00:16<00:00,  2.38s/it]\n",
      "Training (13838 / 18000 Steps) (loss=0.45394): 100%|██████████| 7/7 [00:17<00:00,  2.51s/it]\n",
      "Training (13845 / 18000 Steps) (loss=0.39547): 100%|██████████| 7/7 [00:18<00:00,  2.65s/it]\n",
      "Training (13852 / 18000 Steps) (loss=0.50234): 100%|██████████| 7/7 [00:16<00:00,  2.42s/it]\n",
      "Training (13859 / 18000 Steps) (loss=0.37588): 100%|██████████| 7/7 [00:17<00:00,  2.44s/it]\n",
      "Training (13866 / 18000 Steps) (loss=0.29208): 100%|██████████| 7/7 [00:18<00:00,  2.70s/it]\n",
      "Training (13873 / 18000 Steps) (loss=0.34491): 100%|██████████| 7/7 [00:17<00:00,  2.45s/it]\n",
      "Training (13880 / 18000 Steps) (loss=0.36729): 100%|██████████| 7/7 [00:16<00:00,  2.39s/it]\n",
      "Training (13887 / 18000 Steps) (loss=0.53290): 100%|██████████| 7/7 [00:18<00:00,  2.62s/it]\n",
      "Training (13894 / 18000 Steps) (loss=0.49094): 100%|██████████| 7/7 [00:18<00:00,  2.58s/it]\n",
      "Validate (13895 / 10 Steps): 100%|██████████| 2/2 [00:09<00:00,  4.57s/it]<00:04,  2.33s/it]\n",
      "Training (13900 / 18000 Steps) (loss=0.28690):  86%|████████▌ | 6/7 [00:24<00:05,  5.33s/it]"
     ]
    },
    {
     "name": "stdout",
     "output_type": "stream",
     "text": [
      "Model Was Not Saved ! Current Best Avg. Dice: 0.3450833261013031 Current Avg. Dice: 0.2930311858654022 Current Avg. tumor Dice: 0.305951863527298 Current Avg. lymph Dice: 0.28011050820350647\n"
     ]
    },
    {
     "name": "stderr",
     "output_type": "stream",
     "text": [
      "Training (13901 / 18000 Steps) (loss=0.29596): 100%|██████████| 7/7 [00:26<00:00,  3.73s/it]\n",
      "Training (13908 / 18000 Steps) (loss=0.32694): 100%|██████████| 7/7 [00:18<00:00,  2.59s/it]\n",
      "Training (13915 / 18000 Steps) (loss=0.31344): 100%|██████████| 7/7 [00:17<00:00,  2.56s/it]\n",
      "Training (13922 / 18000 Steps) (loss=0.52686): 100%|██████████| 7/7 [00:17<00:00,  2.47s/it]\n",
      "Training (13929 / 18000 Steps) (loss=0.51908): 100%|██████████| 7/7 [00:17<00:00,  2.52s/it]\n",
      "Training (13936 / 18000 Steps) (loss=0.49042): 100%|██████████| 7/7 [00:17<00:00,  2.53s/it]\n",
      "Training (13943 / 18000 Steps) (loss=0.46141): 100%|██████████| 7/7 [00:17<00:00,  2.48s/it]\n",
      "Training (13950 / 18000 Steps) (loss=0.51815): 100%|██████████| 7/7 [00:17<00:00,  2.55s/it]\n",
      "Training (13957 / 18000 Steps) (loss=0.28454): 100%|██████████| 7/7 [00:19<00:00,  2.74s/it]\n",
      "Training (13964 / 18000 Steps) (loss=0.41955): 100%|██████████| 7/7 [00:17<00:00,  2.55s/it]\n",
      "Training (13971 / 18000 Steps) (loss=0.54341): 100%|██████████| 7/7 [00:16<00:00,  2.43s/it]\n",
      "Training (13978 / 18000 Steps) (loss=0.31801): 100%|██████████| 7/7 [00:17<00:00,  2.55s/it]\n",
      "Training (13985 / 18000 Steps) (loss=0.54465): 100%|██████████| 7/7 [00:17<00:00,  2.50s/it]\n",
      "Training (13992 / 18000 Steps) (loss=0.40505): 100%|██████████| 7/7 [00:17<00:00,  2.54s/it]\n",
      "Training (13999 / 18000 Steps) (loss=0.39465): 100%|██████████| 7/7 [00:18<00:00,  2.58s/it]\n",
      "Validate (14000 / 10 Steps): 100%|██████████| 2/2 [00:09<00:00,  4.66s/it]<?, ?it/s]\n",
      "Training (14000 / 18000 Steps) (loss=0.31664):  14%|█▍        | 1/7 [00:15<01:30, 15.01s/it]"
     ]
    },
    {
     "name": "stdout",
     "output_type": "stream",
     "text": [
      "Model Was Not Saved ! Current Best Avg. Dice: 0.3450833261013031 Current Avg. Dice: 0.28928524255752563 Current Avg. tumor Dice: 0.3734326958656311 Current Avg. lymph Dice: 0.20513781905174255\n"
     ]
    },
    {
     "name": "stderr",
     "output_type": "stream",
     "text": [
      "Training (14006 / 18000 Steps) (loss=0.29996): 100%|██████████| 7/7 [00:26<00:00,  3.75s/it]\n",
      "Training (14013 / 18000 Steps) (loss=0.36167): 100%|██████████| 7/7 [00:17<00:00,  2.51s/it]\n",
      "Training (14020 / 18000 Steps) (loss=0.51986): 100%|██████████| 7/7 [00:18<00:00,  2.66s/it]\n",
      "Training (14027 / 18000 Steps) (loss=0.32106): 100%|██████████| 7/7 [00:17<00:00,  2.45s/it]\n",
      "Training (14034 / 18000 Steps) (loss=0.41469): 100%|██████████| 7/7 [00:17<00:00,  2.47s/it]\n",
      "Training (14041 / 18000 Steps) (loss=0.54414): 100%|██████████| 7/7 [00:18<00:00,  2.70s/it]\n",
      "Training (14048 / 18000 Steps) (loss=0.39802): 100%|██████████| 7/7 [00:17<00:00,  2.53s/it]\n",
      "Training (14055 / 18000 Steps) (loss=0.33241): 100%|██████████| 7/7 [00:17<00:00,  2.46s/it]\n",
      "Training (14062 / 18000 Steps) (loss=0.54830): 100%|██████████| 7/7 [00:17<00:00,  2.48s/it]\n",
      "Training (14069 / 18000 Steps) (loss=0.42751): 100%|██████████| 7/7 [00:18<00:00,  2.65s/it]\n",
      "Training (14076 / 18000 Steps) (loss=0.44012): 100%|██████████| 7/7 [00:17<00:00,  2.50s/it]\n",
      "Training (14083 / 18000 Steps) (loss=0.66683): 100%|██████████| 7/7 [00:17<00:00,  2.47s/it]\n",
      "Training (14090 / 18000 Steps) (loss=0.60467): 100%|██████████| 7/7 [00:18<00:00,  2.71s/it]\n",
      "Training (14097 / 18000 Steps) (loss=0.38670): 100%|██████████| 7/7 [00:16<00:00,  2.34s/it]\n",
      "Validate (14098 / 10 Steps): 100%|██████████| 2/2 [00:09<00:00,  4.69s/it]<00:17,  3.47s/it]\n",
      "Training (14100 / 18000 Steps) (loss=0.35886):  43%|████▎     | 3/7 [00:18<00:28,  7.05s/it]"
     ]
    },
    {
     "name": "stdout",
     "output_type": "stream",
     "text": [
      "Model Was Not Saved ! Current Best Avg. Dice: 0.3450833261013031 Current Avg. Dice: 0.30007046461105347 Current Avg. tumor Dice: 0.35509341955184937 Current Avg. lymph Dice: 0.24504755437374115\n"
     ]
    },
    {
     "name": "stderr",
     "output_type": "stream",
     "text": [
      "Training (14104 / 18000 Steps) (loss=0.46139): 100%|██████████| 7/7 [00:27<00:00,  3.90s/it]\n",
      "Training (14111 / 18000 Steps) (loss=0.17330): 100%|██████████| 7/7 [00:18<00:00,  2.66s/it]\n",
      "Training (14118 / 18000 Steps) (loss=0.35836): 100%|██████████| 7/7 [00:16<00:00,  2.42s/it]\n",
      "Training (14125 / 18000 Steps) (loss=0.33412): 100%|██████████| 7/7 [00:17<00:00,  2.43s/it]\n",
      "Training (14132 / 18000 Steps) (loss=0.60171): 100%|██████████| 7/7 [00:17<00:00,  2.54s/it]\n",
      "Training (14139 / 18000 Steps) (loss=0.41993): 100%|██████████| 7/7 [00:18<00:00,  2.61s/it]\n",
      "Training (14146 / 18000 Steps) (loss=0.12193): 100%|██████████| 7/7 [00:16<00:00,  2.34s/it]\n",
      "Training (14153 / 18000 Steps) (loss=0.58076): 100%|██████████| 7/7 [00:17<00:00,  2.52s/it]\n",
      "Training (14160 / 18000 Steps) (loss=0.19407): 100%|██████████| 7/7 [00:17<00:00,  2.55s/it]\n",
      "Training (14167 / 18000 Steps) (loss=0.19975): 100%|██████████| 7/7 [00:17<00:00,  2.55s/it]\n",
      "Training (14174 / 18000 Steps) (loss=0.23615): 100%|██████████| 7/7 [00:17<00:00,  2.49s/it]\n",
      "Training (14181 / 18000 Steps) (loss=0.42449): 100%|██████████| 7/7 [00:18<00:00,  2.59s/it]\n",
      "Training (14188 / 18000 Steps) (loss=0.61046): 100%|██████████| 7/7 [00:17<00:00,  2.48s/it]\n",
      "Training (14195 / 18000 Steps) (loss=0.38171): 100%|██████████| 7/7 [00:16<00:00,  2.29s/it]\n",
      "Validate (14196 / 10 Steps): 100%|██████████| 2/2 [00:09<00:00,  4.72s/it]<00:07,  2.66s/it]\n",
      "Training (14200 / 18000 Steps) (loss=0.40926):  71%|███████▏  | 5/7 [00:24<00:11,  5.89s/it]"
     ]
    },
    {
     "name": "stdout",
     "output_type": "stream",
     "text": [
      "Model Was Not Saved ! Current Best Avg. Dice: 0.3450833261013031 Current Avg. Dice: 0.30322596430778503 Current Avg. tumor Dice: 0.3723481595516205 Current Avg. lymph Dice: 0.23410376906394958\n"
     ]
    },
    {
     "name": "stderr",
     "output_type": "stream",
     "text": [
      "Training (14202 / 18000 Steps) (loss=0.30592): 100%|██████████| 7/7 [00:27<00:00,  3.97s/it]\n",
      "Training (14209 / 18000 Steps) (loss=0.27811): 100%|██████████| 7/7 [00:16<00:00,  2.41s/it]\n",
      "Training (14216 / 18000 Steps) (loss=0.36753): 100%|██████████| 7/7 [00:17<00:00,  2.56s/it]\n",
      "Training (14223 / 18000 Steps) (loss=0.42160): 100%|██████████| 7/7 [00:18<00:00,  2.61s/it]\n",
      "Training (14230 / 18000 Steps) (loss=0.29290): 100%|██████████| 7/7 [00:17<00:00,  2.47s/it]\n",
      "Training (14237 / 18000 Steps) (loss=0.50356): 100%|██████████| 7/7 [00:17<00:00,  2.47s/it]\n",
      "Training (14244 / 18000 Steps) (loss=0.34005): 100%|██████████| 7/7 [00:17<00:00,  2.54s/it]\n",
      "Training (14251 / 18000 Steps) (loss=0.33547): 100%|██████████| 7/7 [00:17<00:00,  2.56s/it]\n",
      "Training (14258 / 18000 Steps) (loss=0.30288): 100%|██████████| 7/7 [00:17<00:00,  2.46s/it]\n",
      "Training (14265 / 18000 Steps) (loss=0.32944): 100%|██████████| 7/7 [00:17<00:00,  2.50s/it]\n",
      "Training (14272 / 18000 Steps) (loss=0.31743): 100%|██████████| 7/7 [00:18<00:00,  2.64s/it]\n",
      "Training (14279 / 18000 Steps) (loss=0.19705): 100%|██████████| 7/7 [00:17<00:00,  2.44s/it]\n",
      "Training (14286 / 18000 Steps) (loss=0.50694): 100%|██████████| 7/7 [00:16<00:00,  2.37s/it]\n",
      "Training (14293 / 18000 Steps) (loss=0.41588): 100%|██████████| 7/7 [00:16<00:00,  2.40s/it]\n",
      "Validate (14294 / 10 Steps): 100%|██████████| 2/2 [00:09<00:00,  4.51s/it]<00:02,  2.35s/it]\n",
      "Training (14300 / 18000 Steps) (loss=0.54570): 100%|██████████| 7/7 [00:27<00:00,  3.88s/it]\n"
     ]
    },
    {
     "name": "stdout",
     "output_type": "stream",
     "text": [
      "Model Was Not Saved ! Current Best Avg. Dice: 0.3450833261013031 Current Avg. Dice: 0.28880590200424194 Current Avg. tumor Dice: 0.34591540694236755 Current Avg. lymph Dice: 0.2316964566707611\n"
     ]
    },
    {
     "name": "stderr",
     "output_type": "stream",
     "text": [
      "Training (14307 / 18000 Steps) (loss=0.48484): 100%|██████████| 7/7 [00:16<00:00,  2.39s/it]\n",
      "Training (14314 / 18000 Steps) (loss=0.34902): 100%|██████████| 7/7 [00:19<00:00,  2.72s/it]\n",
      "Training (14321 / 18000 Steps) (loss=0.46191): 100%|██████████| 7/7 [00:17<00:00,  2.52s/it]\n",
      "Training (14328 / 18000 Steps) (loss=0.41879): 100%|██████████| 7/7 [00:17<00:00,  2.46s/it]\n",
      "Training (14335 / 18000 Steps) (loss=0.18332): 100%|██████████| 7/7 [00:17<00:00,  2.51s/it]\n",
      "Training (14342 / 18000 Steps) (loss=0.52962): 100%|██████████| 7/7 [00:18<00:00,  2.65s/it]\n",
      "Training (14349 / 18000 Steps) (loss=0.53232): 100%|██████████| 7/7 [00:16<00:00,  2.41s/it]\n",
      "Training (14356 / 18000 Steps) (loss=0.50568): 100%|██████████| 7/7 [00:17<00:00,  2.52s/it]\n",
      "Training (14363 / 18000 Steps) (loss=0.32811): 100%|██████████| 7/7 [00:18<00:00,  2.70s/it]\n",
      "Training (14370 / 18000 Steps) (loss=0.22565): 100%|██████████| 7/7 [00:17<00:00,  2.54s/it]\n",
      "Training (14377 / 18000 Steps) (loss=0.43016): 100%|██████████| 7/7 [00:17<00:00,  2.49s/it]\n",
      "Training (14384 / 18000 Steps) (loss=0.41398): 100%|██████████| 7/7 [00:18<00:00,  2.68s/it]\n",
      "Training (14391 / 18000 Steps) (loss=0.48262): 100%|██████████| 7/7 [00:18<00:00,  2.58s/it]\n",
      "Training (14398 / 18000 Steps) (loss=0.20321): 100%|██████████| 7/7 [00:16<00:00,  2.35s/it]\n",
      "Validate (14399 / 10 Steps): 100%|██████████| 2/2 [00:09<00:00,  4.65s/it]<00:33,  5.63s/it]\n",
      "Training (14400 / 18000 Steps) (loss=0.41243):  29%|██▊       | 2/7 [00:16<00:44,  8.90s/it]"
     ]
    },
    {
     "name": "stdout",
     "output_type": "stream",
     "text": [
      "Model Was Not Saved ! Current Best Avg. Dice: 0.3450833261013031 Current Avg. Dice: 0.28146976232528687 Current Avg. tumor Dice: 0.3116012513637543 Current Avg. lymph Dice: 0.25133827328681946\n"
     ]
    },
    {
     "name": "stderr",
     "output_type": "stream",
     "text": [
      "Training (14405 / 18000 Steps) (loss=0.62143): 100%|██████████| 7/7 [00:26<00:00,  3.79s/it]\n",
      "Training (14412 / 18000 Steps) (loss=0.54536): 100%|██████████| 7/7 [00:18<00:00,  2.60s/it]\n",
      "Training (14419 / 18000 Steps) (loss=0.25975): 100%|██████████| 7/7 [00:16<00:00,  2.39s/it]\n",
      "Training (14426 / 18000 Steps) (loss=0.32005): 100%|██████████| 7/7 [00:17<00:00,  2.51s/it]\n",
      "Training (14433 / 18000 Steps) (loss=0.30096): 100%|██████████| 7/7 [00:18<00:00,  2.67s/it]\n",
      "Training (14440 / 18000 Steps) (loss=0.25904): 100%|██████████| 7/7 [00:17<00:00,  2.43s/it]\n",
      "Training (14447 / 18000 Steps) (loss=0.64012): 100%|██████████| 7/7 [00:17<00:00,  2.50s/it]\n",
      "Training (14454 / 18000 Steps) (loss=0.52009): 100%|██████████| 7/7 [00:18<00:00,  2.59s/it]\n",
      "Training (14461 / 18000 Steps) (loss=0.47350): 100%|██████████| 7/7 [00:18<00:00,  2.69s/it]\n",
      "Training (14468 / 18000 Steps) (loss=0.29522): 100%|██████████| 7/7 [00:17<00:00,  2.43s/it]\n",
      "Training (14475 / 18000 Steps) (loss=0.39117): 100%|██████████| 7/7 [00:17<00:00,  2.55s/it]\n",
      "Training (14482 / 18000 Steps) (loss=0.20531): 100%|██████████| 7/7 [00:18<00:00,  2.61s/it]\n",
      "Training (14489 / 18000 Steps) (loss=0.13720): 100%|██████████| 7/7 [00:16<00:00,  2.39s/it]\n",
      "Training (14496 / 18000 Steps) (loss=0.37351): 100%|██████████| 7/7 [00:17<00:00,  2.52s/it]\n",
      "Validate (14497 / 10 Steps): 100%|██████████| 2/2 [00:09<00:00,  4.59s/it]<00:12,  3.01s/it]\n",
      "Training (14500 / 18000 Steps) (loss=0.49008):  57%|█████▋    | 4/7 [00:21<00:18,  6.27s/it]"
     ]
    },
    {
     "name": "stdout",
     "output_type": "stream",
     "text": [
      "Model Was Not Saved ! Current Best Avg. Dice: 0.3450833261013031 Current Avg. Dice: 0.29362016916275024 Current Avg. tumor Dice: 0.35975906252861023 Current Avg. lymph Dice: 0.22748127579689026\n"
     ]
    },
    {
     "name": "stderr",
     "output_type": "stream",
     "text": [
      "Training (14503 / 18000 Steps) (loss=0.43433): 100%|██████████| 7/7 [00:26<00:00,  3.82s/it]\n",
      "Training (14510 / 18000 Steps) (loss=0.43091): 100%|██████████| 7/7 [00:17<00:00,  2.46s/it]\n",
      "Training (14517 / 18000 Steps) (loss=0.35212): 100%|██████████| 7/7 [00:17<00:00,  2.54s/it]\n",
      "Training (14524 / 18000 Steps) (loss=0.31429): 100%|██████████| 7/7 [00:18<00:00,  2.67s/it]\n",
      "Training (14531 / 18000 Steps) (loss=0.42175): 100%|██████████| 7/7 [00:17<00:00,  2.46s/it]\n",
      "Training (14538 / 18000 Steps) (loss=0.26692): 100%|██████████| 7/7 [00:17<00:00,  2.43s/it]\n",
      "Training (14545 / 18000 Steps) (loss=0.22541): 100%|██████████| 7/7 [00:19<00:00,  2.78s/it]\n",
      "Training (14552 / 18000 Steps) (loss=0.40611): 100%|██████████| 7/7 [00:17<00:00,  2.48s/it]\n",
      "Training (14559 / 18000 Steps) (loss=0.56253): 100%|██████████| 7/7 [00:17<00:00,  2.52s/it]\n",
      "Training (14566 / 18000 Steps) (loss=0.33302): 100%|██████████| 7/7 [00:18<00:00,  2.60s/it]\n",
      "Training (14573 / 18000 Steps) (loss=0.46735): 100%|██████████| 7/7 [00:18<00:00,  2.60s/it]\n",
      "Training (14580 / 18000 Steps) (loss=0.45865): 100%|██████████| 7/7 [00:17<00:00,  2.49s/it]\n",
      "Training (14587 / 18000 Steps) (loss=0.40583): 100%|██████████| 7/7 [00:18<00:00,  2.60s/it]\n",
      "Training (14594 / 18000 Steps) (loss=0.51364): 100%|██████████| 7/7 [00:18<00:00,  2.64s/it]\n",
      "Validate (14595 / 10 Steps): 100%|██████████| 2/2 [00:09<00:00,  4.54s/it]<00:04,  2.31s/it]\n",
      "Training (14600 / 18000 Steps) (loss=0.29252):  86%|████████▌ | 6/7 [00:24<00:05,  5.27s/it]"
     ]
    },
    {
     "name": "stdout",
     "output_type": "stream",
     "text": [
      "Model Was Not Saved ! Current Best Avg. Dice: 0.3450833261013031 Current Avg. Dice: 0.2988281846046448 Current Avg. tumor Dice: 0.3682956099510193 Current Avg. lymph Dice: 0.2293606996536255\n"
     ]
    },
    {
     "name": "stderr",
     "output_type": "stream",
     "text": [
      "Training (14601 / 18000 Steps) (loss=0.28774): 100%|██████████| 7/7 [00:25<00:00,  3.71s/it]\n",
      "Training (14608 / 18000 Steps) (loss=0.51558): 100%|██████████| 7/7 [00:18<00:00,  2.63s/it]\n",
      "Training (14615 / 18000 Steps) (loss=0.48973): 100%|██████████| 7/7 [00:17<00:00,  2.57s/it]\n",
      "Training (14622 / 18000 Steps) (loss=0.34430): 100%|██████████| 7/7 [00:16<00:00,  2.41s/it]\n",
      "Training (14629 / 18000 Steps) (loss=0.35824): 100%|██████████| 7/7 [00:18<00:00,  2.61s/it]\n",
      "Training (14636 / 18000 Steps) (loss=0.41488): 100%|██████████| 7/7 [00:17<00:00,  2.52s/it]\n",
      "Training (14643 / 18000 Steps) (loss=0.35759): 100%|██████████| 7/7 [00:16<00:00,  2.38s/it]\n",
      "Training (14650 / 18000 Steps) (loss=0.33138): 100%|██████████| 7/7 [00:16<00:00,  2.43s/it]\n",
      "Training (14657 / 18000 Steps) (loss=0.44314): 100%|██████████| 7/7 [00:18<00:00,  2.59s/it]\n",
      "Training (14664 / 18000 Steps) (loss=0.25534): 100%|██████████| 7/7 [00:17<00:00,  2.56s/it]\n",
      "Training (14671 / 18000 Steps) (loss=0.23488): 100%|██████████| 7/7 [00:16<00:00,  2.39s/it]\n",
      "Training (14678 / 18000 Steps) (loss=0.31886): 100%|██████████| 7/7 [00:17<00:00,  2.52s/it]\n",
      "Training (14685 / 18000 Steps) (loss=0.30061): 100%|██████████| 7/7 [00:17<00:00,  2.52s/it]\n",
      "Training (14692 / 18000 Steps) (loss=0.43921): 100%|██████████| 7/7 [00:17<00:00,  2.49s/it]\n",
      "Training (14699 / 18000 Steps) (loss=0.46204): 100%|██████████| 7/7 [00:17<00:00,  2.43s/it]\n",
      "Validate (14700 / 10 Steps): 100%|██████████| 2/2 [00:09<00:00,  4.90s/it]<?, ?it/s]\n",
      "Training (14700 / 18000 Steps) (loss=0.30858):  14%|█▍        | 1/7 [00:16<01:37, 16.21s/it]"
     ]
    },
    {
     "name": "stdout",
     "output_type": "stream",
     "text": [
      "Model Was Not Saved ! Current Best Avg. Dice: 0.3450833261013031 Current Avg. Dice: 0.2894788086414337 Current Avg. tumor Dice: 0.28778550028800964 Current Avg. lymph Dice: 0.2911720871925354\n"
     ]
    },
    {
     "name": "stderr",
     "output_type": "stream",
     "text": [
      "Training (14706 / 18000 Steps) (loss=0.45078): 100%|██████████| 7/7 [00:27<00:00,  3.99s/it]\n",
      "Training (14713 / 18000 Steps) (loss=0.51546): 100%|██████████| 7/7 [00:16<00:00,  2.34s/it]\n",
      "Training (14720 / 18000 Steps) (loss=0.50010): 100%|██████████| 7/7 [00:16<00:00,  2.40s/it]\n",
      "Training (14727 / 18000 Steps) (loss=0.35605): 100%|██████████| 7/7 [00:17<00:00,  2.45s/it]\n",
      "Training (14734 / 18000 Steps) (loss=0.43019): 100%|██████████| 7/7 [00:16<00:00,  2.38s/it]\n",
      "Training (14741 / 18000 Steps) (loss=0.30058): 100%|██████████| 7/7 [00:16<00:00,  2.30s/it]\n",
      "Training (14748 / 18000 Steps) (loss=0.59963): 100%|██████████| 7/7 [00:17<00:00,  2.56s/it]\n",
      "Training (14755 / 18000 Steps) (loss=0.46205): 100%|██████████| 7/7 [00:17<00:00,  2.47s/it]\n",
      "Training (14762 / 18000 Steps) (loss=0.26774): 100%|██████████| 7/7 [00:16<00:00,  2.35s/it]\n",
      "Training (14769 / 18000 Steps) (loss=0.48716): 100%|██████████| 7/7 [00:16<00:00,  2.41s/it]\n",
      "Training (14776 / 18000 Steps) (loss=0.45346): 100%|██████████| 7/7 [00:18<00:00,  2.61s/it]\n",
      "Training (14783 / 18000 Steps) (loss=0.38344): 100%|██████████| 7/7 [00:16<00:00,  2.35s/it]\n",
      "Training (14790 / 18000 Steps) (loss=0.47016): 100%|██████████| 7/7 [00:16<00:00,  2.38s/it]\n",
      "Training (14797 / 18000 Steps) (loss=0.42719): 100%|██████████| 7/7 [00:18<00:00,  2.60s/it]\n",
      "Validate (14798 / 10 Steps): 100%|██████████| 2/2 [00:09<00:00,  4.53s/it]<00:18,  3.70s/it]\n",
      "Training (14800 / 18000 Steps) (loss=0.41740):  43%|████▎     | 3/7 [00:19<00:28,  7.05s/it]"
     ]
    },
    {
     "name": "stdout",
     "output_type": "stream",
     "text": [
      "Model Was Not Saved ! Current Best Avg. Dice: 0.3450833261013031 Current Avg. Dice: 0.315528929233551 Current Avg. tumor Dice: 0.3677881360054016 Current Avg. lymph Dice: 0.26326969265937805\n"
     ]
    },
    {
     "name": "stderr",
     "output_type": "stream",
     "text": [
      "Training (14804 / 18000 Steps) (loss=0.21162): 100%|██████████| 7/7 [00:26<00:00,  3.79s/it]\n",
      "Training (14811 / 18000 Steps) (loss=0.53631): 100%|██████████| 7/7 [00:17<00:00,  2.47s/it]\n",
      "Training (14818 / 18000 Steps) (loss=0.44221): 100%|██████████| 7/7 [00:18<00:00,  2.60s/it]\n",
      "Training (14825 / 18000 Steps) (loss=0.55331): 100%|██████████| 7/7 [00:16<00:00,  2.41s/it]\n",
      "Training (14832 / 18000 Steps) (loss=0.21584): 100%|██████████| 7/7 [00:17<00:00,  2.49s/it]\n",
      "Training (14839 / 18000 Steps) (loss=0.23736): 100%|██████████| 7/7 [00:18<00:00,  2.68s/it]\n",
      "Training (14846 / 18000 Steps) (loss=0.43311): 100%|██████████| 7/7 [00:16<00:00,  2.39s/it]\n",
      "Training (14853 / 18000 Steps) (loss=0.56098): 100%|██████████| 7/7 [00:16<00:00,  2.37s/it]\n",
      "Training (14860 / 18000 Steps) (loss=0.28941): 100%|██████████| 7/7 [00:17<00:00,  2.44s/it]\n",
      "Training (14867 / 18000 Steps) (loss=0.40106): 100%|██████████| 7/7 [00:17<00:00,  2.54s/it]\n",
      "Training (14874 / 18000 Steps) (loss=0.30638): 100%|██████████| 7/7 [00:17<00:00,  2.46s/it]\n",
      "Training (14881 / 18000 Steps) (loss=0.20182): 100%|██████████| 7/7 [00:16<00:00,  2.42s/it]\n",
      "Training (14888 / 18000 Steps) (loss=0.23179): 100%|██████████| 7/7 [00:16<00:00,  2.38s/it]\n",
      "Training (14895 / 18000 Steps) (loss=0.52991): 100%|██████████| 7/7 [00:17<00:00,  2.49s/it]\n",
      "Validate (14896 / 10 Steps): 100%|██████████| 2/2 [00:09<00:00,  4.56s/it]<00:06,  2.27s/it]\n",
      "Training (14900 / 18000 Steps) (loss=0.45455):  71%|███████▏  | 5/7 [00:21<00:11,  5.52s/it]"
     ]
    },
    {
     "name": "stdout",
     "output_type": "stream",
     "text": [
      "Model Was Not Saved ! Current Best Avg. Dice: 0.3450833261013031 Current Avg. Dice: 0.26431334018707275 Current Avg. tumor Dice: 0.31875374913215637 Current Avg. lymph Dice: 0.20987290143966675\n"
     ]
    },
    {
     "name": "stderr",
     "output_type": "stream",
     "text": [
      "Training (14902 / 18000 Steps) (loss=0.39051): 100%|██████████| 7/7 [00:25<00:00,  3.61s/it]\n",
      "Training (14909 / 18000 Steps) (loss=0.45679): 100%|██████████| 7/7 [00:17<00:00,  2.47s/it]\n",
      "Training (14916 / 18000 Steps) (loss=0.38543): 100%|██████████| 7/7 [00:16<00:00,  2.37s/it]\n",
      "Training (14923 / 18000 Steps) (loss=0.30578): 100%|██████████| 7/7 [00:16<00:00,  2.39s/it]\n",
      "Training (14930 / 18000 Steps) (loss=0.38421): 100%|██████████| 7/7 [00:17<00:00,  2.51s/it]\n",
      "Training (14937 / 18000 Steps) (loss=0.32050): 100%|██████████| 7/7 [00:17<00:00,  2.43s/it]\n",
      "Training (14944 / 18000 Steps) (loss=0.43645): 100%|██████████| 7/7 [00:16<00:00,  2.41s/it]\n",
      "Training (14951 / 18000 Steps) (loss=0.33203): 100%|██████████| 7/7 [00:17<00:00,  2.50s/it]\n",
      "Training (14958 / 18000 Steps) (loss=0.26440): 100%|██████████| 7/7 [00:17<00:00,  2.49s/it]\n",
      "Training (14965 / 18000 Steps) (loss=0.17768): 100%|██████████| 7/7 [00:16<00:00,  2.38s/it]\n",
      "Training (14972 / 18000 Steps) (loss=0.55374): 100%|██████████| 7/7 [00:17<00:00,  2.51s/it]\n",
      "Training (14979 / 18000 Steps) (loss=0.54276): 100%|██████████| 7/7 [00:17<00:00,  2.46s/it]\n",
      "Training (14986 / 18000 Steps) (loss=0.59305): 100%|██████████| 7/7 [00:16<00:00,  2.38s/it]\n",
      "Training (14993 / 18000 Steps) (loss=0.32572): 100%|██████████| 7/7 [00:16<00:00,  2.35s/it]\n",
      "Validate (14994 / 10 Steps): 100%|██████████| 2/2 [00:09<00:00,  4.55s/it]<00:02,  2.28s/it]\n",
      "Training (15000 / 18000 Steps) (loss=0.40664): 100%|██████████| 7/7 [00:27<00:00,  3.86s/it]\n"
     ]
    },
    {
     "name": "stdout",
     "output_type": "stream",
     "text": [
      "Model Was Not Saved ! Current Best Avg. Dice: 0.3450833261013031 Current Avg. Dice: 0.2719424366950989 Current Avg. tumor Dice: 0.32518118619918823 Current Avg. lymph Dice: 0.2187037169933319\n"
     ]
    },
    {
     "name": "stderr",
     "output_type": "stream",
     "text": [
      "Training (15007 / 18000 Steps) (loss=0.53382): 100%|██████████| 7/7 [00:16<00:00,  2.33s/it]\n",
      "Training (15014 / 18000 Steps) (loss=0.43347): 100%|██████████| 7/7 [00:18<00:00,  2.60s/it]\n",
      "Training (15021 / 18000 Steps) (loss=0.30199): 100%|██████████| 7/7 [00:17<00:00,  2.54s/it]\n",
      "Training (15028 / 18000 Steps) (loss=0.42654): 100%|██████████| 7/7 [00:16<00:00,  2.33s/it]\n",
      "Training (15035 / 18000 Steps) (loss=0.48452): 100%|██████████| 7/7 [00:16<00:00,  2.38s/it]\n",
      "Training (15042 / 18000 Steps) (loss=0.34624): 100%|██████████| 7/7 [00:17<00:00,  2.44s/it]\n",
      "Training (15049 / 18000 Steps) (loss=0.34788): 100%|██████████| 7/7 [00:16<00:00,  2.43s/it]\n",
      "Training (15056 / 18000 Steps) (loss=0.47105): 100%|██████████| 7/7 [00:16<00:00,  2.41s/it]\n",
      "Training (15063 / 18000 Steps) (loss=0.56262): 100%|██████████| 7/7 [00:18<00:00,  2.62s/it]\n",
      "Training (15070 / 18000 Steps) (loss=0.30515): 100%|██████████| 7/7 [00:17<00:00,  2.55s/it]\n",
      "Training (15077 / 18000 Steps) (loss=0.36992): 100%|██████████| 7/7 [00:16<00:00,  2.40s/it]\n",
      "Training (15084 / 18000 Steps) (loss=0.44294): 100%|██████████| 7/7 [00:16<00:00,  2.33s/it]\n",
      "Training (15091 / 18000 Steps) (loss=0.49863): 100%|██████████| 7/7 [00:18<00:00,  2.61s/it]\n",
      "Training (15098 / 18000 Steps) (loss=0.35499): 100%|██████████| 7/7 [00:16<00:00,  2.35s/it]\n",
      "Validate (15099 / 10 Steps): 100%|██████████| 2/2 [00:09<00:00,  4.70s/it]<00:32,  5.41s/it]\n",
      "Training (15100 / 18000 Steps) (loss=0.37857):  29%|██▊       | 2/7 [00:16<00:45,  9.01s/it]"
     ]
    },
    {
     "name": "stdout",
     "output_type": "stream",
     "text": [
      "Model Was Not Saved ! Current Best Avg. Dice: 0.3450833261013031 Current Avg. Dice: 0.2986392378807068 Current Avg. tumor Dice: 0.4054122567176819 Current Avg. lymph Dice: 0.1918662041425705\n"
     ]
    },
    {
     "name": "stderr",
     "output_type": "stream",
     "text": [
      "Training (15105 / 18000 Steps) (loss=0.47096): 100%|██████████| 7/7 [00:26<00:00,  3.73s/it]\n",
      "Training (15112 / 18000 Steps) (loss=0.28268): 100%|██████████| 7/7 [00:18<00:00,  2.59s/it]\n",
      "Training (15119 / 18000 Steps) (loss=0.53100): 100%|██████████| 7/7 [00:16<00:00,  2.33s/it]\n",
      "Training (15126 / 18000 Steps) (loss=0.58405): 100%|██████████| 7/7 [00:16<00:00,  2.33s/it]\n",
      "Training (15133 / 18000 Steps) (loss=0.39590): 100%|██████████| 7/7 [00:17<00:00,  2.55s/it]\n",
      "Training (15140 / 18000 Steps) (loss=0.60172): 100%|██████████| 7/7 [00:17<00:00,  2.44s/it]\n",
      "Training (15147 / 18000 Steps) (loss=0.35972): 100%|██████████| 7/7 [00:17<00:00,  2.47s/it]\n",
      "Training (15154 / 18000 Steps) (loss=0.28780): 100%|██████████| 7/7 [00:16<00:00,  2.40s/it]\n",
      "Training (15161 / 18000 Steps) (loss=0.13806): 100%|██████████| 7/7 [00:18<00:00,  2.59s/it]\n",
      "Training (15168 / 18000 Steps) (loss=0.36848): 100%|██████████| 7/7 [00:17<00:00,  2.46s/it]\n",
      "Training (15175 / 18000 Steps) (loss=0.53395): 100%|██████████| 7/7 [00:16<00:00,  2.39s/it]\n",
      "Training (15182 / 18000 Steps) (loss=0.35231): 100%|██████████| 7/7 [00:17<00:00,  2.54s/it]\n",
      "Training (15189 / 18000 Steps) (loss=0.30973): 100%|██████████| 7/7 [00:16<00:00,  2.37s/it]\n",
      "Training (15196 / 18000 Steps) (loss=0.41826): 100%|██████████| 7/7 [00:17<00:00,  2.46s/it]\n",
      "Validate (15197 / 10 Steps): 100%|██████████| 2/2 [00:09<00:00,  4.50s/it]<00:11,  2.95s/it]\n",
      "Training (15200 / 18000 Steps) (loss=0.33206):  57%|█████▋    | 4/7 [00:21<00:18,  6.20s/it]"
     ]
    },
    {
     "name": "stdout",
     "output_type": "stream",
     "text": [
      "Model Was Not Saved ! Current Best Avg. Dice: 0.3450833261013031 Current Avg. Dice: 0.3259378671646118 Current Avg. tumor Dice: 0.36471569538116455 Current Avg. lymph Dice: 0.28716009855270386\n"
     ]
    },
    {
     "name": "stderr",
     "output_type": "stream",
     "text": [
      "Training (15203 / 18000 Steps) (loss=0.31388): 100%|██████████| 7/7 [00:26<00:00,  3.85s/it]\n",
      "Training (15210 / 18000 Steps) (loss=0.23689): 100%|██████████| 7/7 [00:16<00:00,  2.34s/it]\n",
      "Training (15217 / 18000 Steps) (loss=0.35982): 100%|██████████| 7/7 [00:17<00:00,  2.45s/it]\n",
      "Training (15224 / 18000 Steps) (loss=0.50287): 100%|██████████| 7/7 [00:17<00:00,  2.54s/it]\n",
      "Training (15231 / 18000 Steps) (loss=0.41293): 100%|██████████| 7/7 [00:17<00:00,  2.45s/it]\n",
      "Training (15238 / 18000 Steps) (loss=0.30977): 100%|██████████| 7/7 [00:16<00:00,  2.38s/it]\n",
      "Training (15245 / 18000 Steps) (loss=0.60658): 100%|██████████| 7/7 [00:16<00:00,  2.37s/it]\n",
      "Training (15252 / 18000 Steps) (loss=0.38544): 100%|██████████| 7/7 [00:17<00:00,  2.50s/it]\n",
      "Training (15259 / 18000 Steps) (loss=0.36964): 100%|██████████| 7/7 [00:16<00:00,  2.42s/it]\n",
      "Training (15266 / 18000 Steps) (loss=0.45685): 100%|██████████| 7/7 [00:16<00:00,  2.39s/it]\n",
      "Training (15273 / 18000 Steps) (loss=0.43553): 100%|██████████| 7/7 [00:17<00:00,  2.45s/it]\n",
      "Training (15280 / 18000 Steps) (loss=0.45315): 100%|██████████| 7/7 [00:16<00:00,  2.42s/it]\n",
      "Training (15287 / 18000 Steps) (loss=0.43615): 100%|██████████| 7/7 [00:16<00:00,  2.34s/it]\n",
      "Training (15294 / 18000 Steps) (loss=0.53931): 100%|██████████| 7/7 [00:16<00:00,  2.41s/it]\n",
      "Validate (15295 / 10 Steps): 100%|██████████| 2/2 [00:09<00:00,  4.82s/it]<00:04,  2.31s/it]\n",
      "Training (15300 / 18000 Steps) (loss=0.33895):  86%|████████▌ | 6/7 [00:25<00:05,  5.45s/it]"
     ]
    },
    {
     "name": "stdout",
     "output_type": "stream",
     "text": [
      "Model Was Not Saved ! Current Best Avg. Dice: 0.3450833261013031 Current Avg. Dice: 0.29399073123931885 Current Avg. tumor Dice: 0.3568485975265503 Current Avg. lymph Dice: 0.2311328649520874\n"
     ]
    },
    {
     "name": "stderr",
     "output_type": "stream",
     "text": [
      "Training (15301 / 18000 Steps) (loss=0.40673): 100%|██████████| 7/7 [00:26<00:00,  3.80s/it]\n",
      "Training (15308 / 18000 Steps) (loss=0.55972): 100%|██████████| 7/7 [00:16<00:00,  2.37s/it]\n",
      "Training (15315 / 18000 Steps) (loss=0.44808): 100%|██████████| 7/7 [00:18<00:00,  2.61s/it]\n",
      "Training (15322 / 18000 Steps) (loss=0.35113): 100%|██████████| 7/7 [00:17<00:00,  2.53s/it]\n",
      "Training (15329 / 18000 Steps) (loss=0.54271): 100%|██████████| 7/7 [00:16<00:00,  2.35s/it]\n",
      "Training (15336 / 18000 Steps) (loss=0.34485): 100%|██████████| 7/7 [00:17<00:00,  2.44s/it]\n",
      "Training (15343 / 18000 Steps) (loss=0.28387): 100%|██████████| 7/7 [00:17<00:00,  2.47s/it]\n",
      "Training (15350 / 18000 Steps) (loss=0.29805): 100%|██████████| 7/7 [00:16<00:00,  2.40s/it]\n",
      "Training (15357 / 18000 Steps) (loss=0.32661): 100%|██████████| 7/7 [00:16<00:00,  2.42s/it]\n",
      "Training (15364 / 18000 Steps) (loss=0.48724): 100%|██████████| 7/7 [00:18<00:00,  2.68s/it]\n",
      "Training (15371 / 18000 Steps) (loss=0.45871): 100%|██████████| 7/7 [00:17<00:00,  2.46s/it]\n",
      "Training (15378 / 18000 Steps) (loss=0.27235): 100%|██████████| 7/7 [00:15<00:00,  2.24s/it]\n",
      "Training (15385 / 18000 Steps) (loss=0.15077): 100%|██████████| 7/7 [00:17<00:00,  2.51s/it]\n",
      "Training (15392 / 18000 Steps) (loss=0.23337): 100%|██████████| 7/7 [00:17<00:00,  2.51s/it]\n",
      "Training (15399 / 18000 Steps) (loss=0.19892): 100%|██████████| 7/7 [00:16<00:00,  2.37s/it]\n",
      "Validate (15400 / 10 Steps): 100%|██████████| 2/2 [00:09<00:00,  4.62s/it]<?, ?it/s]\n",
      "Training (15400 / 18000 Steps) (loss=0.36192):  14%|█▍        | 1/7 [00:14<01:27, 14.57s/it]"
     ]
    },
    {
     "name": "stdout",
     "output_type": "stream",
     "text": [
      "Model Was Not Saved ! Current Best Avg. Dice: 0.3450833261013031 Current Avg. Dice: 0.3191525340080261 Current Avg. tumor Dice: 0.3711235523223877 Current Avg. lymph Dice: 0.26718151569366455\n"
     ]
    },
    {
     "name": "stderr",
     "output_type": "stream",
     "text": [
      "Training (15406 / 18000 Steps) (loss=0.37445): 100%|██████████| 7/7 [00:27<00:00,  3.90s/it]\n",
      "Training (15413 / 18000 Steps) (loss=0.13635): 100%|██████████| 7/7 [00:17<00:00,  2.52s/it]\n",
      "Training (15420 / 18000 Steps) (loss=0.42522): 100%|██████████| 7/7 [00:16<00:00,  2.30s/it]\n",
      "Training (15427 / 18000 Steps) (loss=0.62148): 100%|██████████| 7/7 [00:17<00:00,  2.47s/it]\n",
      "Training (15434 / 18000 Steps) (loss=0.35386): 100%|██████████| 7/7 [00:17<00:00,  2.55s/it]\n",
      "Training (15441 / 18000 Steps) (loss=0.37366): 100%|██████████| 7/7 [00:16<00:00,  2.36s/it]\n",
      "Training (15448 / 18000 Steps) (loss=0.57998): 100%|██████████| 7/7 [00:16<00:00,  2.37s/it]\n",
      "Training (15455 / 18000 Steps) (loss=0.59753): 100%|██████████| 7/7 [00:17<00:00,  2.52s/it]\n",
      "Training (15462 / 18000 Steps) (loss=0.41021): 100%|██████████| 7/7 [00:17<00:00,  2.57s/it]\n",
      "Training (15469 / 18000 Steps) (loss=0.19034): 100%|██████████| 7/7 [00:16<00:00,  2.32s/it]\n",
      "Training (15476 / 18000 Steps) (loss=0.29869): 100%|██████████| 7/7 [00:16<00:00,  2.39s/it]\n",
      "Training (15483 / 18000 Steps) (loss=0.42511): 100%|██████████| 7/7 [00:17<00:00,  2.50s/it]\n",
      "Training (15490 / 18000 Steps) (loss=0.20322): 100%|██████████| 7/7 [00:16<00:00,  2.41s/it]\n",
      "Training (15497 / 18000 Steps) (loss=0.55256): 100%|██████████| 7/7 [00:17<00:00,  2.46s/it]\n",
      "Validate (15498 / 10 Steps): 100%|██████████| 2/2 [00:09<00:00,  4.71s/it]<00:19,  3.89s/it]\n",
      "Training (15500 / 18000 Steps) (loss=0.56030):  43%|████▎     | 3/7 [00:20<00:29,  7.32s/it]"
     ]
    },
    {
     "name": "stdout",
     "output_type": "stream",
     "text": [
      "Model Was Not Saved ! Current Best Avg. Dice: 0.3450833261013031 Current Avg. Dice: 0.2811935544013977 Current Avg. tumor Dice: 0.34529727697372437 Current Avg. lymph Dice: 0.21708989143371582\n"
     ]
    },
    {
     "name": "stderr",
     "output_type": "stream",
     "text": [
      "Training (15504 / 18000 Steps) (loss=0.42327): 100%|██████████| 7/7 [00:27<00:00,  3.91s/it]\n",
      "Training (15511 / 18000 Steps) (loss=0.44991): 100%|██████████| 7/7 [00:17<00:00,  2.46s/it]\n",
      "Training (15518 / 18000 Steps) (loss=0.43268): 100%|██████████| 7/7 [00:17<00:00,  2.51s/it]\n",
      "Training (15525 / 18000 Steps) (loss=0.59645): 100%|██████████| 7/7 [00:17<00:00,  2.43s/it]\n",
      "Training (15532 / 18000 Steps) (loss=0.38368): 100%|██████████| 7/7 [00:17<00:00,  2.50s/it]\n",
      "Training (15539 / 18000 Steps) (loss=0.29262): 100%|██████████| 7/7 [00:17<00:00,  2.46s/it]\n",
      "Training (15546 / 18000 Steps) (loss=0.39877): 100%|██████████| 7/7 [00:18<00:00,  2.68s/it]\n",
      "Training (15553 / 18000 Steps) (loss=0.40249): 100%|██████████| 7/7 [00:16<00:00,  2.39s/it]\n",
      "Training (15560 / 18000 Steps) (loss=0.28357): 100%|██████████| 7/7 [00:17<00:00,  2.47s/it]\n",
      "Training (15567 / 18000 Steps) (loss=0.29945): 100%|██████████| 7/7 [00:18<00:00,  2.58s/it]\n",
      "Training (15574 / 18000 Steps) (loss=0.35515): 100%|██████████| 7/7 [00:17<00:00,  2.45s/it]\n",
      "Training (15581 / 18000 Steps) (loss=0.11570): 100%|██████████| 7/7 [00:16<00:00,  2.37s/it]\n",
      "Training (15588 / 18000 Steps) (loss=0.47980): 100%|██████████| 7/7 [00:17<00:00,  2.52s/it]\n",
      "Training (15595 / 18000 Steps) (loss=0.46916): 100%|██████████| 7/7 [00:17<00:00,  2.54s/it]\n",
      "Validate (15596 / 10 Steps): 100%|██████████| 2/2 [00:08<00:00,  4.39s/it]<00:07,  2.65s/it]\n",
      "Training (15600 / 18000 Steps) (loss=0.39613):  71%|███████▏  | 5/7 [00:23<00:11,  5.62s/it]"
     ]
    },
    {
     "name": "stdout",
     "output_type": "stream",
     "text": [
      "Model Was Not Saved ! Current Best Avg. Dice: 0.3450833261013031 Current Avg. Dice: 0.31180059909820557 Current Avg. tumor Dice: 0.3437771797180176 Current Avg. lymph Dice: 0.27982404828071594\n"
     ]
    },
    {
     "name": "stderr",
     "output_type": "stream",
     "text": [
      "Training (15602 / 18000 Steps) (loss=0.47332): 100%|██████████| 7/7 [00:26<00:00,  3.82s/it]\n",
      "Training (15609 / 18000 Steps) (loss=0.40483): 100%|██████████| 7/7 [00:18<00:00,  2.61s/it]\n",
      "Training (15616 / 18000 Steps) (loss=0.56687): 100%|██████████| 7/7 [00:17<00:00,  2.52s/it]\n",
      "Training (15623 / 18000 Steps) (loss=0.37087): 100%|██████████| 7/7 [00:17<00:00,  2.47s/it]\n",
      "Training (15630 / 18000 Steps) (loss=0.47195): 100%|██████████| 7/7 [00:17<00:00,  2.48s/it]\n",
      "Training (15637 / 18000 Steps) (loss=0.34437): 100%|██████████| 7/7 [00:17<00:00,  2.53s/it]\n",
      "Training (15644 / 18000 Steps) (loss=0.55048): 100%|██████████| 7/7 [00:17<00:00,  2.46s/it]\n",
      "Training (15651 / 18000 Steps) (loss=0.52283): 100%|██████████| 7/7 [00:16<00:00,  2.39s/it]\n",
      "Training (15658 / 18000 Steps) (loss=0.30010): 100%|██████████| 7/7 [00:18<00:00,  2.65s/it]\n",
      "Training (15665 / 18000 Steps) (loss=0.51497): 100%|██████████| 7/7 [00:17<00:00,  2.45s/it]\n",
      "Training (15672 / 18000 Steps) (loss=0.38241): 100%|██████████| 7/7 [00:16<00:00,  2.35s/it]\n",
      "Training (15679 / 18000 Steps) (loss=0.27576): 100%|██████████| 7/7 [00:18<00:00,  2.61s/it]\n",
      "Training (15686 / 18000 Steps) (loss=0.55524): 100%|██████████| 7/7 [00:17<00:00,  2.47s/it]\n",
      "Training (15693 / 18000 Steps) (loss=0.54312): 100%|██████████| 7/7 [00:16<00:00,  2.37s/it]\n",
      "Validate (15694 / 10 Steps): 100%|██████████| 2/2 [00:09<00:00,  4.72s/it]<00:02,  2.35s/it]\n",
      "Training (15700 / 18000 Steps) (loss=0.18220): 100%|██████████| 7/7 [00:27<00:00,  3.92s/it]\n"
     ]
    },
    {
     "name": "stdout",
     "output_type": "stream",
     "text": [
      "Model Was Not Saved ! Current Best Avg. Dice: 0.3450833261013031 Current Avg. Dice: 0.27519452571868896 Current Avg. tumor Dice: 0.32206863164901733 Current Avg. lymph Dice: 0.2283204197883606\n"
     ]
    },
    {
     "name": "stderr",
     "output_type": "stream",
     "text": [
      "Training (15707 / 18000 Steps) (loss=0.42036): 100%|██████████| 7/7 [00:17<00:00,  2.51s/it]\n",
      "Training (X / X Steps) (loss=X.X):   0%|          | 0/7 [00:02<?, ?it/s]\n"
     ]
    },
    {
     "ename": "KeyboardInterrupt",
     "evalue": "",
     "output_type": "error",
     "traceback": [
      "\u001b[0;31m---------------------------------------------------------------------------\u001b[0m",
      "\u001b[0;31mKeyboardInterrupt\u001b[0m                         Traceback (most recent call last)",
      "Cell \u001b[0;32mIn[18], line 7\u001b[0m\n\u001b[1;32m      4\u001b[0m torch\u001b[38;5;241m.\u001b[39mautograd\u001b[38;5;241m.\u001b[39mset_detect_anomaly(\u001b[38;5;28;01mTrue\u001b[39;00m)  \u001b[38;5;66;03m# Enable anomaly detection\u001b[39;00m\n\u001b[1;32m      6\u001b[0m \u001b[38;5;28;01mwhile\u001b[39;00m global_step \u001b[38;5;241m<\u001b[39m max_iterations:\n\u001b[0;32m----> 7\u001b[0m     global_step, dice_val_best, global_step_best \u001b[38;5;241m=\u001b[39m \u001b[43mtrain\u001b[49m\u001b[43m(\u001b[49m\n\u001b[1;32m      8\u001b[0m \u001b[43m        \u001b[49m\u001b[43mglobal_step\u001b[49m\u001b[43m,\u001b[49m\u001b[43m \u001b[49m\u001b[43mtrain_loader\u001b[49m\u001b[43m,\u001b[49m\u001b[43m \u001b[49m\u001b[43mdice_val_best\u001b[49m\u001b[43m,\u001b[49m\u001b[43m \u001b[49m\u001b[43mglobal_step_best\u001b[49m\n\u001b[1;32m      9\u001b[0m \u001b[43m    \u001b[49m\u001b[43m)\u001b[49m\n\u001b[1;32m     10\u001b[0m     epoch \u001b[38;5;241m+\u001b[39m\u001b[38;5;241m=\u001b[39m \u001b[38;5;241m1\u001b[39m\n\u001b[1;32m     11\u001b[0m     \u001b[38;5;66;03m#optimizer.param_groups[0]['lr'] = poly_lr(epoch, max_num_epochs, 0.005676 , 0.9)\u001b[39;00m\n\u001b[1;32m     12\u001b[0m \u001b[38;5;66;03m# model.load_state_dict(torch.load(os.path.join(model_dir, \"best_metric_luck_UNETr_prompt.pth\")))\u001b[39;00m\n",
      "Cell \u001b[0;32mIn[17], line 70\u001b[0m, in \u001b[0;36mtrain\u001b[0;34m(global_step, train_loader, dice_val_best, global_step_best)\u001b[0m\n\u001b[1;32m     65\u001b[0m step \u001b[38;5;241m=\u001b[39m \u001b[38;5;241m0\u001b[39m\n\u001b[1;32m     66\u001b[0m epoch_iterator \u001b[38;5;241m=\u001b[39m tqdm(\n\u001b[1;32m     67\u001b[0m     train_loader, desc\u001b[38;5;241m=\u001b[39m\u001b[38;5;124m\"\u001b[39m\u001b[38;5;124mTraining (X / X Steps) (loss=X.X)\u001b[39m\u001b[38;5;124m\"\u001b[39m, dynamic_ncols\u001b[38;5;241m=\u001b[39m\u001b[38;5;28;01mTrue\u001b[39;00m\n\u001b[1;32m     68\u001b[0m )\n\u001b[0;32m---> 70\u001b[0m \u001b[38;5;28;01mfor\u001b[39;00m step, batch \u001b[38;5;129;01min\u001b[39;00m \u001b[38;5;28menumerate\u001b[39m(epoch_iterator):\n\u001b[1;32m     71\u001b[0m     step \u001b[38;5;241m+\u001b[39m\u001b[38;5;241m=\u001b[39m \u001b[38;5;241m1\u001b[39m\n\u001b[1;32m     72\u001b[0m     x, y \u001b[38;5;241m=\u001b[39m (batch[\u001b[38;5;124m\"\u001b[39m\u001b[38;5;124mpt\u001b[39m\u001b[38;5;124m\"\u001b[39m]\u001b[38;5;241m.\u001b[39mcuda(), batch[\u001b[38;5;124m\"\u001b[39m\u001b[38;5;124mseg\u001b[39m\u001b[38;5;124m\"\u001b[39m]\u001b[38;5;241m.\u001b[39mcuda())\n",
      "File \u001b[0;32m~/miniconda3/envs/clam/lib/python3.8/site-packages/tqdm/std.py:1182\u001b[0m, in \u001b[0;36mtqdm.__iter__\u001b[0;34m(self)\u001b[0m\n\u001b[1;32m   1179\u001b[0m time \u001b[38;5;241m=\u001b[39m \u001b[38;5;28mself\u001b[39m\u001b[38;5;241m.\u001b[39m_time\n\u001b[1;32m   1181\u001b[0m \u001b[38;5;28;01mtry\u001b[39;00m:\n\u001b[0;32m-> 1182\u001b[0m     \u001b[38;5;28;01mfor\u001b[39;00m obj \u001b[38;5;129;01min\u001b[39;00m iterable:\n\u001b[1;32m   1183\u001b[0m         \u001b[38;5;28;01myield\u001b[39;00m obj\n\u001b[1;32m   1184\u001b[0m         \u001b[38;5;66;03m# Update and possibly print the progressbar.\u001b[39;00m\n\u001b[1;32m   1185\u001b[0m         \u001b[38;5;66;03m# Note: does not call self.update(1) for speed optimisation.\u001b[39;00m\n",
      "File \u001b[0;32m~/miniconda3/envs/clam/lib/python3.8/site-packages/torch/utils/data/dataloader.py:630\u001b[0m, in \u001b[0;36m_BaseDataLoaderIter.__next__\u001b[0;34m(self)\u001b[0m\n\u001b[1;32m    627\u001b[0m \u001b[38;5;28;01mif\u001b[39;00m \u001b[38;5;28mself\u001b[39m\u001b[38;5;241m.\u001b[39m_sampler_iter \u001b[38;5;129;01mis\u001b[39;00m \u001b[38;5;28;01mNone\u001b[39;00m:\n\u001b[1;32m    628\u001b[0m     \u001b[38;5;66;03m# TODO(https://github.com/pytorch/pytorch/issues/76750)\u001b[39;00m\n\u001b[1;32m    629\u001b[0m     \u001b[38;5;28mself\u001b[39m\u001b[38;5;241m.\u001b[39m_reset()  \u001b[38;5;66;03m# type: ignore[call-arg]\u001b[39;00m\n\u001b[0;32m--> 630\u001b[0m data \u001b[38;5;241m=\u001b[39m \u001b[38;5;28;43mself\u001b[39;49m\u001b[38;5;241;43m.\u001b[39;49m\u001b[43m_next_data\u001b[49m\u001b[43m(\u001b[49m\u001b[43m)\u001b[49m\n\u001b[1;32m    631\u001b[0m \u001b[38;5;28mself\u001b[39m\u001b[38;5;241m.\u001b[39m_num_yielded \u001b[38;5;241m+\u001b[39m\u001b[38;5;241m=\u001b[39m \u001b[38;5;241m1\u001b[39m\n\u001b[1;32m    632\u001b[0m \u001b[38;5;28;01mif\u001b[39;00m \u001b[38;5;28mself\u001b[39m\u001b[38;5;241m.\u001b[39m_dataset_kind \u001b[38;5;241m==\u001b[39m _DatasetKind\u001b[38;5;241m.\u001b[39mIterable \u001b[38;5;129;01mand\u001b[39;00m \\\n\u001b[1;32m    633\u001b[0m         \u001b[38;5;28mself\u001b[39m\u001b[38;5;241m.\u001b[39m_IterableDataset_len_called \u001b[38;5;129;01mis\u001b[39;00m \u001b[38;5;129;01mnot\u001b[39;00m \u001b[38;5;28;01mNone\u001b[39;00m \u001b[38;5;129;01mand\u001b[39;00m \\\n\u001b[1;32m    634\u001b[0m         \u001b[38;5;28mself\u001b[39m\u001b[38;5;241m.\u001b[39m_num_yielded \u001b[38;5;241m>\u001b[39m \u001b[38;5;28mself\u001b[39m\u001b[38;5;241m.\u001b[39m_IterableDataset_len_called:\n",
      "File \u001b[0;32m~/miniconda3/envs/clam/lib/python3.8/site-packages/torch/utils/data/dataloader.py:1328\u001b[0m, in \u001b[0;36m_MultiProcessingDataLoaderIter._next_data\u001b[0;34m(self)\u001b[0m\n\u001b[1;32m   1325\u001b[0m     \u001b[38;5;28;01mreturn\u001b[39;00m \u001b[38;5;28mself\u001b[39m\u001b[38;5;241m.\u001b[39m_process_data(data)\n\u001b[1;32m   1327\u001b[0m \u001b[38;5;28;01massert\u001b[39;00m \u001b[38;5;129;01mnot\u001b[39;00m \u001b[38;5;28mself\u001b[39m\u001b[38;5;241m.\u001b[39m_shutdown \u001b[38;5;129;01mand\u001b[39;00m \u001b[38;5;28mself\u001b[39m\u001b[38;5;241m.\u001b[39m_tasks_outstanding \u001b[38;5;241m>\u001b[39m \u001b[38;5;241m0\u001b[39m\n\u001b[0;32m-> 1328\u001b[0m idx, data \u001b[38;5;241m=\u001b[39m \u001b[38;5;28;43mself\u001b[39;49m\u001b[38;5;241;43m.\u001b[39;49m\u001b[43m_get_data\u001b[49m\u001b[43m(\u001b[49m\u001b[43m)\u001b[49m\n\u001b[1;32m   1329\u001b[0m \u001b[38;5;28mself\u001b[39m\u001b[38;5;241m.\u001b[39m_tasks_outstanding \u001b[38;5;241m-\u001b[39m\u001b[38;5;241m=\u001b[39m \u001b[38;5;241m1\u001b[39m\n\u001b[1;32m   1330\u001b[0m \u001b[38;5;28;01mif\u001b[39;00m \u001b[38;5;28mself\u001b[39m\u001b[38;5;241m.\u001b[39m_dataset_kind \u001b[38;5;241m==\u001b[39m _DatasetKind\u001b[38;5;241m.\u001b[39mIterable:\n\u001b[1;32m   1331\u001b[0m     \u001b[38;5;66;03m# Check for _IterableDatasetStopIteration\u001b[39;00m\n",
      "File \u001b[0;32m~/miniconda3/envs/clam/lib/python3.8/site-packages/torch/utils/data/dataloader.py:1284\u001b[0m, in \u001b[0;36m_MultiProcessingDataLoaderIter._get_data\u001b[0;34m(self)\u001b[0m\n\u001b[1;32m   1282\u001b[0m \u001b[38;5;28;01melif\u001b[39;00m \u001b[38;5;28mself\u001b[39m\u001b[38;5;241m.\u001b[39m_pin_memory:\n\u001b[1;32m   1283\u001b[0m     \u001b[38;5;28;01mwhile\u001b[39;00m \u001b[38;5;28mself\u001b[39m\u001b[38;5;241m.\u001b[39m_pin_memory_thread\u001b[38;5;241m.\u001b[39mis_alive():\n\u001b[0;32m-> 1284\u001b[0m         success, data \u001b[38;5;241m=\u001b[39m \u001b[38;5;28;43mself\u001b[39;49m\u001b[38;5;241;43m.\u001b[39;49m\u001b[43m_try_get_data\u001b[49m\u001b[43m(\u001b[49m\u001b[43m)\u001b[49m\n\u001b[1;32m   1285\u001b[0m         \u001b[38;5;28;01mif\u001b[39;00m success:\n\u001b[1;32m   1286\u001b[0m             \u001b[38;5;28;01mreturn\u001b[39;00m data\n",
      "File \u001b[0;32m~/miniconda3/envs/clam/lib/python3.8/site-packages/torch/utils/data/dataloader.py:1132\u001b[0m, in \u001b[0;36m_MultiProcessingDataLoaderIter._try_get_data\u001b[0;34m(self, timeout)\u001b[0m\n\u001b[1;32m   1119\u001b[0m \u001b[38;5;28;01mdef\u001b[39;00m \u001b[38;5;21m_try_get_data\u001b[39m(\u001b[38;5;28mself\u001b[39m, timeout\u001b[38;5;241m=\u001b[39m_utils\u001b[38;5;241m.\u001b[39mMP_STATUS_CHECK_INTERVAL):\n\u001b[1;32m   1120\u001b[0m     \u001b[38;5;66;03m# Tries to fetch data from `self._data_queue` once for a given timeout.\u001b[39;00m\n\u001b[1;32m   1121\u001b[0m     \u001b[38;5;66;03m# This can also be used as inner loop of fetching without timeout, with\u001b[39;00m\n\u001b[0;32m   (...)\u001b[0m\n\u001b[1;32m   1129\u001b[0m     \u001b[38;5;66;03m# Returns a 2-tuple:\u001b[39;00m\n\u001b[1;32m   1130\u001b[0m     \u001b[38;5;66;03m#   (bool: whether successfully get data, any: data if successful else None)\u001b[39;00m\n\u001b[1;32m   1131\u001b[0m     \u001b[38;5;28;01mtry\u001b[39;00m:\n\u001b[0;32m-> 1132\u001b[0m         data \u001b[38;5;241m=\u001b[39m \u001b[38;5;28;43mself\u001b[39;49m\u001b[38;5;241;43m.\u001b[39;49m\u001b[43m_data_queue\u001b[49m\u001b[38;5;241;43m.\u001b[39;49m\u001b[43mget\u001b[49m\u001b[43m(\u001b[49m\u001b[43mtimeout\u001b[49m\u001b[38;5;241;43m=\u001b[39;49m\u001b[43mtimeout\u001b[49m\u001b[43m)\u001b[49m\n\u001b[1;32m   1133\u001b[0m         \u001b[38;5;28;01mreturn\u001b[39;00m (\u001b[38;5;28;01mTrue\u001b[39;00m, data)\n\u001b[1;32m   1134\u001b[0m     \u001b[38;5;28;01mexcept\u001b[39;00m \u001b[38;5;167;01mException\u001b[39;00m \u001b[38;5;28;01mas\u001b[39;00m e:\n\u001b[1;32m   1135\u001b[0m         \u001b[38;5;66;03m# At timeout and error, we manually check whether any worker has\u001b[39;00m\n\u001b[1;32m   1136\u001b[0m         \u001b[38;5;66;03m# failed. Note that this is the only mechanism for Windows to detect\u001b[39;00m\n\u001b[1;32m   1137\u001b[0m         \u001b[38;5;66;03m# worker failures.\u001b[39;00m\n",
      "File \u001b[0;32m~/miniconda3/envs/clam/lib/python3.8/queue.py:179\u001b[0m, in \u001b[0;36mQueue.get\u001b[0;34m(self, block, timeout)\u001b[0m\n\u001b[1;32m    177\u001b[0m         \u001b[38;5;28;01mif\u001b[39;00m remaining \u001b[38;5;241m<\u001b[39m\u001b[38;5;241m=\u001b[39m \u001b[38;5;241m0.0\u001b[39m:\n\u001b[1;32m    178\u001b[0m             \u001b[38;5;28;01mraise\u001b[39;00m Empty\n\u001b[0;32m--> 179\u001b[0m         \u001b[38;5;28;43mself\u001b[39;49m\u001b[38;5;241;43m.\u001b[39;49m\u001b[43mnot_empty\u001b[49m\u001b[38;5;241;43m.\u001b[39;49m\u001b[43mwait\u001b[49m\u001b[43m(\u001b[49m\u001b[43mremaining\u001b[49m\u001b[43m)\u001b[49m\n\u001b[1;32m    180\u001b[0m item \u001b[38;5;241m=\u001b[39m \u001b[38;5;28mself\u001b[39m\u001b[38;5;241m.\u001b[39m_get()\n\u001b[1;32m    181\u001b[0m \u001b[38;5;28mself\u001b[39m\u001b[38;5;241m.\u001b[39mnot_full\u001b[38;5;241m.\u001b[39mnotify()\n",
      "File \u001b[0;32m~/miniconda3/envs/clam/lib/python3.8/threading.py:306\u001b[0m, in \u001b[0;36mCondition.wait\u001b[0;34m(self, timeout)\u001b[0m\n\u001b[1;32m    304\u001b[0m \u001b[38;5;28;01melse\u001b[39;00m:\n\u001b[1;32m    305\u001b[0m     \u001b[38;5;28;01mif\u001b[39;00m timeout \u001b[38;5;241m>\u001b[39m \u001b[38;5;241m0\u001b[39m:\n\u001b[0;32m--> 306\u001b[0m         gotit \u001b[38;5;241m=\u001b[39m \u001b[43mwaiter\u001b[49m\u001b[38;5;241;43m.\u001b[39;49m\u001b[43macquire\u001b[49m\u001b[43m(\u001b[49m\u001b[38;5;28;43;01mTrue\u001b[39;49;00m\u001b[43m,\u001b[49m\u001b[43m \u001b[49m\u001b[43mtimeout\u001b[49m\u001b[43m)\u001b[49m\n\u001b[1;32m    307\u001b[0m     \u001b[38;5;28;01melse\u001b[39;00m:\n\u001b[1;32m    308\u001b[0m         gotit \u001b[38;5;241m=\u001b[39m waiter\u001b[38;5;241m.\u001b[39macquire(\u001b[38;5;28;01mFalse\u001b[39;00m)\n",
      "\u001b[0;31mKeyboardInterrupt\u001b[0m: "
     ]
    }
   ],
   "source": [
    "epoch = 0 # used for LR scheduler\n",
    "max_num_epochs = 530 # used for LR scheduler\n",
    "\n",
    "torch.autograd.set_detect_anomaly(True)  # Enable anomaly detection\n",
    "\n",
    "while global_step < max_iterations:\n",
    "    global_step, dice_val_best, global_step_best = train(\n",
    "        global_step, train_loader, dice_val_best, global_step_best\n",
    "    )\n",
    "    epoch += 1\n",
    "    #optimizer.param_groups[0]['lr'] = poly_lr(epoch, max_num_epochs, 0.005676 , 0.9)\n",
    "# model.load_state_dict(torch.load(os.path.join(model_dir, \"best_metric_luck_UNETr_prompt.pth\")))"
   ]
  }
 ],
 "metadata": {
  "kernelspec": {
   "display_name": "clam",
   "language": "python",
   "name": "python3"
  },
  "language_info": {
   "codemirror_mode": {
    "name": "ipython",
    "version": 3
   },
   "file_extension": ".py",
   "mimetype": "text/x-python",
   "name": "python",
   "nbconvert_exporter": "python",
   "pygments_lexer": "ipython3",
   "version": "3.8.0"
  }
 },
 "nbformat": 4,
 "nbformat_minor": 2
}
