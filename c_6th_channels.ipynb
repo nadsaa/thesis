{
 "cells": [
  {
   "cell_type": "code",
   "execution_count": 1,
   "metadata": {},
   "outputs": [
    {
     "data": {
      "text/plain": [
       "1"
      ]
     },
     "execution_count": 1,
     "metadata": {},
     "output_type": "execute_result"
    }
   ],
   "source": [
    "import os\n",
    "os.environ[\"CUDA_DEVICE_ORDER\"] = \"PCI_BUS_ID\"\n",
    "os.environ[\"CUDA_VISIBLE_DEVICES\"] = \"4\" \n",
    "import torch\n",
    "torch.cuda.device_count()"
   ]
  },
  {
   "cell_type": "code",
   "execution_count": 2,
   "metadata": {},
   "outputs": [],
   "source": [
    "import os\n",
    "import shutil\n",
    "import tempfile\n",
    "\n",
    "import matplotlib.pyplot as plt\n",
    "import numpy as np\n",
    "from tqdm import tqdm\n",
    "from glob import glob\n",
    "# import wandb\n",
    "\n",
    "import monai\n",
    "from monai.losses import DiceCELoss, DiceFocalLoss, FocalLoss\n",
    "from monai.inferers import sliding_window_inference\n",
    "from monai import transforms\n",
    "\n",
    "from monai.transforms import (\n",
    "       AsDiscrete,\n",
    "    Compose,\n",
    "    CropForegroundd,\n",
    "    LoadImaged,\n",
    "    Orientationd,\n",
    "    RandFlipd,\n",
    "    RandCropByPosNegLabeld,\n",
    "    RandShiftIntensityd,\n",
    "    ScaleIntensityRanged,\n",
    "    Spacingd,\n",
    "    RandRotate90d,\n",
    "    MapTransform,\n",
    "    ScaleIntensityd,\n",
    "    #AddChanneld,\n",
    "    SpatialPadd,\n",
    "    CenterSpatialCropd,\n",
    "    EnsureChannelFirstd,\n",
    "    ConcatItemsd,\n",
    "    AdjustContrastd, \n",
    "    Rand3DElasticd,\n",
    "    HistogramNormalized,\n",
    "    NormalizeIntensityd,\n",
    "    Invertd,\n",
    "    SaveImage,\n",
    "\n",
    ")\n",
    "\n",
    "from monai.config import print_config\n",
    "from monai.metrics import DiceMetric\n",
    "from monai.networks.nets import SwinUNETR, UNETR, SegResNet\n",
    "from monai.data import (\n",
    "    DataLoader,\n",
    "    CacheDataset,\n",
    "    load_decathlon_datalist,\n",
    "    decollate_batch,\n",
    ")\n",
    "from monai import data\n",
    "\n",
    "\n",
    "from monai.utils import first, set_determinism\n",
    "from sklearn.model_selection import train_test_split\n",
    "import json\n",
    "\n",
    "\n",
    "import torch"
   ]
  },
  {
   "cell_type": "code",
   "execution_count": 3,
   "metadata": {},
   "outputs": [],
   "source": [
    "set_determinism(seed=1024)"
   ]
  },
  {
   "cell_type": "code",
   "execution_count": 4,
   "metadata": {},
   "outputs": [],
   "source": [
    "data_dir = '/home/nada.saadi/MIS-FM/hecktor2022_cropped'\n",
    "json_dir = '/home/nada.saadi/CTPET/hecktor2022_cropped/HGJ_CT_train_new.json'"
   ]
  },
  {
   "cell_type": "code",
   "execution_count": 5,
   "metadata": {},
   "outputs": [],
   "source": [
    "def datafold_read(datalist, basedir, fold=0, key=\"training\"):\n",
    "    with open(datalist) as f:\n",
    "        json_data = json.load(f)\n",
    "\n",
    "    json_data = json_data[key]\n",
    "\n",
    "    for d in json_data:\n",
    "        for k in d:\n",
    "            if isinstance(d[k], list):\n",
    "                d[k] = [os.path.join(basedir, iv) for iv in d[k]]\n",
    "            elif isinstance(d[k], str):\n",
    "                d[k] = os.path.join(basedir, d[k]) if len(d[k]) > 0 else d[k]\n",
    "\n",
    "    tr = []\n",
    "    val = []\n",
    "    for d in json_data:\n",
    "        if \"fold\" in d and d[\"fold\"] == fold:\n",
    "            val.append(d)\n",
    "        else:\n",
    "            tr.append(d)\n",
    "\n",
    "    return tr, val"
   ]
  },
  {
   "cell_type": "code",
   "execution_count": 12,
   "metadata": {},
   "outputs": [
    {
     "data": {
      "text/plain": [
       "(40, 14)"
      ]
     },
     "execution_count": 12,
     "metadata": {},
     "output_type": "execute_result"
    }
   ],
   "source": [
    "train_files, validation_files = datafold_read(datalist=json_dir, basedir=data_dir, fold=2)\n",
    "len(train_files), len(validation_files)"
   ]
  },
  {
   "cell_type": "code",
   "execution_count": 13,
   "metadata": {},
   "outputs": [],
   "source": [
    "class ClipCT(MapTransform):\n",
    "    \"\"\"\n",
    "    Convert labels to multi channels based on hecktor classes:\n",
    "    label 1 is the tumor\n",
    "    label 2 is the lymph node\n",
    "\n",
    "    \"\"\"\n",
    "\n",
    "    def __call__(self, data):\n",
    "        d = dict(data)\n",
    "        for key in self.keys:\n",
    "            if key == \"ct\":\n",
    "                d[key] = torch.clip(d[key], min=-200, max=200)\n",
    "            # elif key == \"pt\":\n",
    "            #     d[key] = torch.clip(d[key], d[key].min(), 5)\n",
    "        return d\n",
    "\n",
    "class MulPTFM(MapTransform):\n",
    "    \"\"\"\n",
    "    Mult PT and FM \n",
    "\n",
    "    \"\"\"\n",
    "\n",
    "    def __call__(self, data):\n",
    "        d = dict(data)\n",
    "\n",
    "        fm = d[\"ct\"] > 0\n",
    "        d[\"pt\"] = d[\"pt\"] * fm\n",
    "        return d\n",
    "\n",
    "class SelectClass(MapTransform):\n",
    "    \"\"\"\n",
    "    Select the class for which you want to fine tune the model \n",
    "\n",
    "    \"\"\"\n",
    "    # def __init__(self, keys, cls=1):\n",
    "    #     super(self).__init__(keys)\n",
    "    #     self.cls = cls\n",
    "\n",
    "    def __call__(self, data):\n",
    "        d = dict(data)\n",
    "        d[\"seg\"][d[\"seg\"] == 1] = 0\n",
    "        # d[\"seg\"][d[\"seg\"] == 2] = 1\n",
    "        \n",
    "        return d"
   ]
  },
  {
   "cell_type": "code",
   "execution_count": 14,
   "metadata": {},
   "outputs": [],
   "source": [
    "num_samples = 4\n",
    "\n",
    "train_transforms = Compose(\n",
    "    [\n",
    "        LoadImaged(keys=[\"ct\", \"seg\"], ensure_channel_first = True),\n",
    "        SpatialPadd(keys=[\"ct\",  \"seg\"], spatial_size=(200, 200, 310), method='end'),\n",
    "        Orientationd(keys=[\"ct\",  \"seg\"], axcodes=\"PLS\"),\n",
    "        #NormalizeIntensityd(keys=[\"pt\"]),\n",
    "        ClipCT(keys=[\"ct\"]),\n",
    "        ScaleIntensityd(keys=[\"ct\"], minv=0, maxv=1),\n",
    "        #MulPTFM(keys=[\"ct\",\"pt\"]),\n",
    "        #ConcatItemsd(keys=[\"pt\", \"ct\"], name=\"ctpt\"),\n",
    "        #NormalizeIntensityd(keys=[\"ctpt\"], channel_wise=True),\n",
    "        RandCropByPosNegLabeld(\n",
    "            keys=[\"ct\", \"seg\"],\n",
    "            label_key=\"seg\",\n",
    "            spatial_size=(96, 96, 96),\n",
    "            pos=1,\n",
    "            neg=1,\n",
    "            num_samples=num_samples,\n",
    "            image_key=\"ct\",\n",
    "            image_threshold=0,\n",
    "        ),\n",
    "        RandFlipd(\n",
    "             keys=[\"ct\", \"seg\"],\n",
    "            spatial_axis=[0],\n",
    "            prob=0.20,\n",
    "        ),\n",
    "        RandFlipd(\n",
    "            keys=[\"ct\", \"seg\"],\n",
    "            spatial_axis=[1],\n",
    "            prob=0.20,\n",
    "        ),\n",
    "        RandFlipd(\n",
    "            keys=[\"ct\", \"seg\"],\n",
    "            spatial_axis=[2],\n",
    "            prob=0.20,\n",
    "        ),\n",
    "        RandRotate90d(\n",
    "            keys=[\"ct\", \"seg\"],\n",
    "            prob=0.20,\n",
    "            max_k=3,\n",
    "        ),\n",
    "    ]\n",
    ")\n",
    "val_transforms = Compose(\n",
    "    [\n",
    "        LoadImaged(keys=[\"ct\", \"seg\"], ensure_channel_first = True),\n",
    "        SpatialPadd(keys=[\"ct\", \"seg\"], spatial_size=(200, 200, 310), method='end'),\n",
    "        Orientationd(keys=[\"ct\",  \"seg\"], axcodes=\"PLS\"),\n",
    "        #NormalizeIntensityd(keys=[\"pt\"]),\n",
    "        ClipCT(keys=[\"ct\"]),\n",
    "        ScaleIntensityd(keys=[\"ct\"], minv=0, maxv=1),\n",
    "        #MulPTFM(keys=[\"ct\",\"pt\"]),\n",
    "        #ConcatItemsd(keys=[\"pt\", \"ct\"], name=\"ctpt\"),\n",
    "    ]\n",
    ")"
   ]
  },
  {
   "cell_type": "code",
   "execution_count": 15,
   "metadata": {},
   "outputs": [],
   "source": [
    "train_ds = monai.data.Dataset(data=train_files, transform=train_transforms)\n",
    "\n",
    "train_loader = DataLoader(\n",
    "    train_ds,\n",
    "    batch_size=2,\n",
    "    shuffle=True,\n",
    "    num_workers=8,\n",
    "    pin_memory=torch.cuda.is_available(),\n",
    "    )\n",
    "\n",
    "val_ds = monai.data.Dataset(data=validation_files, transform=val_transforms)\n",
    "\n",
    "val_loader = DataLoader(\n",
    "    val_ds, \n",
    "    batch_size=2, \n",
    "    num_workers=8, \n",
    "    shuffle= False)"
   ]
  },
  {
   "cell_type": "code",
   "execution_count": 17,
   "metadata": {},
   "outputs": [],
   "source": [
    "os.environ[\"CUDA_DEVICE_ORDER\"] = \"PCI_BUS_ID\"\n",
    "device = torch.device(\"cuda\" if torch.cuda.is_available() else \"cpu\")\n",
    "\n",
    "\n",
    "model = UNETR(\n",
    "    in_channels=1,\n",
    "    out_channels=3,\n",
    "    img_size=(96, 96, 96),\n",
    "    feature_size=16, #16\n",
    "    hidden_size= 768, #768,\n",
    "    mlp_dim=3072, #3072,\n",
    "    num_heads=12,\n",
    "    pos_embed=\"perceptron\",\n",
    "    norm_name=\"instance\",\n",
    "    res_block=True,\n",
    "    dropout_rate=0.0,\n",
    ").to(device)\n",
    "\n",
    "c_6th_ctpt='/home/nada.saadi/CTPET/hecktor2022_cropped/6thctptchannels/6thctpt_channels_.pth'\n",
    "#model.load_state_dict(torch.load(c_6th_ctpt))\n",
    "state_dict = torch.load(c_6th_ctpt)\n",
    "model_state_dict = model.state_dict()\n",
    "for name, param in state_dict.items():\n",
    "    if name in model_state_dict:\n",
    "        if param.shape == model_state_dict[name].shape:\n",
    "            model_state_dict[name] = param"
   ]
  },
  {
   "cell_type": "code",
   "execution_count": 18,
   "metadata": {},
   "outputs": [],
   "source": [
    "torch.backends.cudnn.benchmark = True\n",
    "def poly_lr(epoch, max_epochs, initial_lr, exponent=0.9):\n",
    "    return initial_lr * (1 - epoch / max_epochs)**exponent\n",
    "\n",
    "loss_function = DiceCELoss(to_onehot_y=True, softmax=True)\n",
    "optimizer = torch.optim.AdamW(model.parameters(), lr=1e-4, weight_decay=1e-5)"
   ]
  },
  {
   "cell_type": "code",
   "execution_count": 19,
   "metadata": {},
   "outputs": [
    {
     "name": "stderr",
     "output_type": "stream",
     "text": [
      "Training (19 / 18000 Steps) (loss=1.84166): 100%|██████████| 20/20 [00:19<00:00,  1.01it/s]\n",
      "Training (39 / 18000 Steps) (loss=1.69654): 100%|██████████| 20/20 [00:11<00:00,  1.73it/s]\n",
      "Training (59 / 18000 Steps) (loss=1.61373): 100%|██████████| 20/20 [00:11<00:00,  1.80it/s]\n",
      "Training (79 / 18000 Steps) (loss=1.57917): 100%|██████████| 20/20 [00:11<00:00,  1.71it/s]\n",
      "Training (99 / 18000 Steps) (loss=1.55510): 100%|██████████| 20/20 [00:11<00:00,  1.79it/s]\n",
      "Validate (100 / 10 Steps): 100%|██████████| 7/7 [00:12<00:00,  1.72s/it]3<?, ?it/s]\n",
      "Training (100 / 18000 Steps) (loss=1.52070):   5%|▌         | 1/20 [00:16<05:06, 16.15s/it]"
     ]
    },
    {
     "name": "stdout",
     "output_type": "stream",
     "text": [
      "Model Was Saved ! Current Best Avg. Dice: 0.0005279804463498294 Current Avg. Dice: 0.0005279804463498294 Current Avg. tumor Dice: 0.0009249179274775088 Current Avg. lymph Dice: 0.00013104297977406532\n"
     ]
    },
    {
     "name": "stderr",
     "output_type": "stream",
     "text": [
      "Training (119 / 18000 Steps) (loss=1.48803): 100%|██████████| 20/20 [00:24<00:00,  1.21s/it]\n",
      "Training (139 / 18000 Steps) (loss=1.47392): 100%|██████████| 20/20 [00:11<00:00,  1.81it/s]\n",
      "Training (159 / 18000 Steps) (loss=1.46828): 100%|██████████| 20/20 [00:11<00:00,  1.77it/s]\n",
      "Training (179 / 18000 Steps) (loss=1.43826): 100%|██████████| 20/20 [00:11<00:00,  1.79it/s]\n",
      "Training (199 / 18000 Steps) (loss=1.42188): 100%|██████████| 20/20 [00:11<00:00,  1.74it/s]\n",
      "Validate (200 / 10 Steps): 100%|██████████| 7/7 [00:10<00:00,  1.48s/it]3<?, ?it/s]\n",
      "Training (200 / 18000 Steps) (loss=1.42255):   5%|▌         | 1/20 [00:13<04:19, 13.65s/it]"
     ]
    },
    {
     "name": "stdout",
     "output_type": "stream",
     "text": [
      "Model Was Not Saved ! Current Best Avg. Dice: 0.0005279804463498294 Current Avg. Dice: 3.759669925784692e-05 Current Avg. tumor Dice: 7.519339851569384e-05 Current Avg. lymph Dice: 0.0\n"
     ]
    },
    {
     "name": "stderr",
     "output_type": "stream",
     "text": [
      "Training (219 / 18000 Steps) (loss=1.39508): 100%|██████████| 20/20 [00:21<00:00,  1.08s/it]\n",
      "Training (239 / 18000 Steps) (loss=1.36535): 100%|██████████| 20/20 [00:11<00:00,  1.78it/s]\n",
      "Training (259 / 18000 Steps) (loss=1.35310): 100%|██████████| 20/20 [00:11<00:00,  1.77it/s]\n",
      "Training (279 / 18000 Steps) (loss=1.34969): 100%|██████████| 20/20 [00:11<00:00,  1.75it/s]\n",
      "Training (299 / 18000 Steps) (loss=1.30745): 100%|██████████| 20/20 [00:11<00:00,  1.80it/s]\n",
      "Validate (300 / 10 Steps): 100%|██████████| 7/7 [00:10<00:00,  1.53s/it]3<?, ?it/s]\n",
      "Training (300 / 18000 Steps) (loss=1.30058):   5%|▌         | 1/20 [00:14<04:29, 14.16s/it]"
     ]
    },
    {
     "name": "stdout",
     "output_type": "stream",
     "text": [
      "Model Was Not Saved ! Current Best Avg. Dice: 0.0005279804463498294 Current Avg. Dice: 0.0 Current Avg. tumor Dice: 0.0 Current Avg. lymph Dice: 0.0\n"
     ]
    },
    {
     "name": "stderr",
     "output_type": "stream",
     "text": [
      "Training (319 / 18000 Steps) (loss=1.28736): 100%|██████████| 20/20 [00:22<00:00,  1.11s/it]\n",
      "Training (339 / 18000 Steps) (loss=1.25420): 100%|██████████| 20/20 [00:11<00:00,  1.81it/s]\n",
      "Training (359 / 18000 Steps) (loss=1.24911): 100%|██████████| 20/20 [00:11<00:00,  1.73it/s]\n",
      "Training (379 / 18000 Steps) (loss=1.21355): 100%|██████████| 20/20 [00:11<00:00,  1.79it/s]\n",
      "Training (399 / 18000 Steps) (loss=1.19644): 100%|██████████| 20/20 [00:11<00:00,  1.76it/s]\n",
      "Validate (400 / 10 Steps): 100%|██████████| 7/7 [00:10<00:00,  1.48s/it]3<?, ?it/s]\n",
      "Training (400 / 18000 Steps) (loss=1.19836):   5%|▌         | 1/20 [00:13<04:20, 13.71s/it]"
     ]
    },
    {
     "name": "stdout",
     "output_type": "stream",
     "text": [
      "Model Was Not Saved ! Current Best Avg. Dice: 0.0005279804463498294 Current Avg. Dice: 0.0 Current Avg. tumor Dice: 0.0 Current Avg. lymph Dice: 0.0\n"
     ]
    },
    {
     "name": "stderr",
     "output_type": "stream",
     "text": [
      "Training (419 / 18000 Steps) (loss=1.18659): 100%|██████████| 20/20 [00:21<00:00,  1.09s/it]\n",
      "Training (439 / 18000 Steps) (loss=1.16115): 100%|██████████| 20/20 [00:10<00:00,  1.82it/s]\n",
      "Training (459 / 18000 Steps) (loss=1.14683): 100%|██████████| 20/20 [00:11<00:00,  1.78it/s]\n",
      "Training (479 / 18000 Steps) (loss=1.12209): 100%|██████████| 20/20 [00:11<00:00,  1.80it/s]\n",
      "Training (499 / 18000 Steps) (loss=1.10377): 100%|██████████| 20/20 [00:11<00:00,  1.77it/s]\n",
      "Validate (500 / 10 Steps): 100%|██████████| 7/7 [00:10<00:00,  1.52s/it]3<?, ?it/s]\n",
      "Training (500 / 18000 Steps) (loss=1.09649):   5%|▌         | 1/20 [00:13<04:21, 13.76s/it]"
     ]
    },
    {
     "name": "stdout",
     "output_type": "stream",
     "text": [
      "Model Was Not Saved ! Current Best Avg. Dice: 0.0005279804463498294 Current Avg. Dice: 0.0 Current Avg. tumor Dice: 0.0 Current Avg. lymph Dice: 0.0\n"
     ]
    },
    {
     "name": "stderr",
     "output_type": "stream",
     "text": [
      "Training (519 / 18000 Steps) (loss=1.10820): 100%|██████████| 20/20 [00:21<00:00,  1.09s/it]\n",
      "Training (539 / 18000 Steps) (loss=1.08148): 100%|██████████| 20/20 [00:11<00:00,  1.78it/s]\n",
      "Training (559 / 18000 Steps) (loss=1.06385): 100%|██████████| 20/20 [00:11<00:00,  1.72it/s]\n",
      "Training (579 / 18000 Steps) (loss=1.06617): 100%|██████████| 20/20 [00:11<00:00,  1.74it/s]\n",
      "Training (599 / 18000 Steps) (loss=1.03551): 100%|██████████| 20/20 [00:11<00:00,  1.79it/s]\n",
      "Validate (600 / 10 Steps): 100%|██████████| 7/7 [00:10<00:00,  1.47s/it]2<?, ?it/s]\n",
      "Training (600 / 18000 Steps) (loss=1.05113):   5%|▌         | 1/20 [00:13<04:11, 13.26s/it]"
     ]
    },
    {
     "name": "stdout",
     "output_type": "stream",
     "text": [
      "Model Was Not Saved ! Current Best Avg. Dice: 0.0005279804463498294 Current Avg. Dice: 0.0 Current Avg. tumor Dice: 0.0 Current Avg. lymph Dice: 0.0\n"
     ]
    },
    {
     "name": "stderr",
     "output_type": "stream",
     "text": [
      "Training (619 / 18000 Steps) (loss=1.05320): 100%|██████████| 20/20 [00:21<00:00,  1.06s/it]\n",
      "Training (639 / 18000 Steps) (loss=1.01453): 100%|██████████| 20/20 [00:11<00:00,  1.76it/s]\n",
      "Training (659 / 18000 Steps) (loss=1.01314): 100%|██████████| 20/20 [00:11<00:00,  1.79it/s]\n",
      "Training (679 / 18000 Steps) (loss=1.00736): 100%|██████████| 20/20 [00:11<00:00,  1.75it/s]\n",
      "Training (699 / 18000 Steps) (loss=0.99866): 100%|██████████| 20/20 [00:11<00:00,  1.80it/s]\n",
      "Validate (700 / 10 Steps): 100%|██████████| 7/7 [00:10<00:00,  1.47s/it]3<?, ?it/s]\n",
      "Training (700 / 18000 Steps) (loss=0.99088):   5%|▌         | 1/20 [00:13<04:21, 13.77s/it]"
     ]
    },
    {
     "name": "stdout",
     "output_type": "stream",
     "text": [
      "Model Was Not Saved ! Current Best Avg. Dice: 0.0005279804463498294 Current Avg. Dice: 0.00043093384010717273 Current Avg. tumor Dice: 0.0008618677384220064 Current Avg. lymph Dice: 0.0\n"
     ]
    },
    {
     "name": "stderr",
     "output_type": "stream",
     "text": [
      "Training (719 / 18000 Steps) (loss=0.98288): 100%|██████████| 20/20 [00:21<00:00,  1.09s/it]\n",
      "Training (739 / 18000 Steps) (loss=0.98091): 100%|██████████| 20/20 [00:11<00:00,  1.76it/s]\n",
      "Training (759 / 18000 Steps) (loss=0.96804): 100%|██████████| 20/20 [00:11<00:00,  1.73it/s]\n",
      "Training (779 / 18000 Steps) (loss=0.95515): 100%|██████████| 20/20 [00:11<00:00,  1.78it/s]\n",
      "Training (799 / 18000 Steps) (loss=0.95391): 100%|██████████| 20/20 [00:11<00:00,  1.78it/s]\n",
      "Validate (800 / 10 Steps): 100%|██████████| 7/7 [00:10<00:00,  1.46s/it]3<?, ?it/s]\n",
      "Training (800 / 18000 Steps) (loss=0.94365):   5%|▌         | 1/20 [00:14<04:33, 14.40s/it]"
     ]
    },
    {
     "name": "stdout",
     "output_type": "stream",
     "text": [
      "Model Was Saved ! Current Best Avg. Dice: 0.003956574015319347 Current Avg. Dice: 0.003956574015319347 Current Avg. tumor Dice: 0.0043401108123362064 Current Avg. lymph Dice: 0.0035730362869799137\n"
     ]
    },
    {
     "name": "stderr",
     "output_type": "stream",
     "text": [
      "Training (819 / 18000 Steps) (loss=0.94392): 100%|██████████| 20/20 [00:22<00:00,  1.12s/it]\n",
      "Training (839 / 18000 Steps) (loss=0.93716): 100%|██████████| 20/20 [00:11<00:00,  1.76it/s]\n",
      "Training (859 / 18000 Steps) (loss=0.92029): 100%|██████████| 20/20 [00:11<00:00,  1.79it/s]\n",
      "Training (879 / 18000 Steps) (loss=0.93398): 100%|██████████| 20/20 [00:11<00:00,  1.77it/s]\n",
      "Training (899 / 18000 Steps) (loss=0.91193): 100%|██████████| 20/20 [00:11<00:00,  1.80it/s]\n",
      "Validate (900 / 10 Steps): 100%|██████████| 7/7 [00:10<00:00,  1.48s/it]3<?, ?it/s]\n",
      "Training (900 / 18000 Steps) (loss=0.91675):   5%|▌         | 1/20 [00:14<04:31, 14.30s/it]"
     ]
    },
    {
     "name": "stdout",
     "output_type": "stream",
     "text": [
      "Model Was Saved ! Current Best Avg. Dice: 0.022077156230807304 Current Avg. Dice: 0.022077156230807304 Current Avg. tumor Dice: 0.029405100271105766 Current Avg. lymph Dice: 0.014749214053153992\n"
     ]
    },
    {
     "name": "stderr",
     "output_type": "stream",
     "text": [
      "Training (919 / 18000 Steps) (loss=0.91019): 100%|██████████| 20/20 [00:22<00:00,  1.12s/it]\n",
      "Training (939 / 18000 Steps) (loss=0.90361): 100%|██████████| 20/20 [00:11<00:00,  1.73it/s]\n",
      "Training (959 / 18000 Steps) (loss=0.90854): 100%|██████████| 20/20 [00:11<00:00,  1.74it/s]\n",
      "Training (979 / 18000 Steps) (loss=0.91445): 100%|██████████| 20/20 [00:11<00:00,  1.80it/s]\n",
      "Training (999 / 18000 Steps) (loss=0.87839): 100%|██████████| 20/20 [00:11<00:00,  1.69it/s]\n",
      "Validate (1000 / 10 Steps): 100%|██████████| 7/7 [00:10<00:00,  1.47s/it]3<?, ?it/s]\n",
      "Training (1000 / 18000 Steps) (loss=0.87245):   5%|▌         | 1/20 [00:14<04:40, 14.77s/it]"
     ]
    },
    {
     "name": "stdout",
     "output_type": "stream",
     "text": [
      "Model Was Saved ! Current Best Avg. Dice: 0.0521826408803463 Current Avg. Dice: 0.0521826408803463 Current Avg. tumor Dice: 0.07487942278385162 Current Avg. lymph Dice: 0.029485851526260376\n"
     ]
    },
    {
     "name": "stderr",
     "output_type": "stream",
     "text": [
      "Training (1019 / 18000 Steps) (loss=0.87273): 100%|██████████| 20/20 [00:22<00:00,  1.14s/it]\n",
      "Training (1039 / 18000 Steps) (loss=0.87888): 100%|██████████| 20/20 [00:11<00:00,  1.78it/s]\n",
      "Training (1059 / 18000 Steps) (loss=0.87309): 100%|██████████| 20/20 [00:11<00:00,  1.77it/s]\n",
      "Training (1079 / 18000 Steps) (loss=0.85921): 100%|██████████| 20/20 [00:11<00:00,  1.82it/s]\n",
      "Training (1099 / 18000 Steps) (loss=0.86075): 100%|██████████| 20/20 [00:11<00:00,  1.76it/s]\n",
      "Validate (1100 / 10 Steps): 100%|██████████| 7/7 [00:10<00:00,  1.46s/it]3<?, ?it/s]\n",
      "Training (1100 / 18000 Steps) (loss=0.84737):   5%|▌         | 1/20 [00:13<04:19, 13.64s/it]"
     ]
    },
    {
     "name": "stdout",
     "output_type": "stream",
     "text": [
      "Model Was Not Saved ! Current Best Avg. Dice: 0.0521826408803463 Current Avg. Dice: 0.042583975940942764 Current Avg. tumor Dice: 0.07684949785470963 Current Avg. lymph Dice: 0.008318460546433926\n"
     ]
    },
    {
     "name": "stderr",
     "output_type": "stream",
     "text": [
      "Training (1119 / 18000 Steps) (loss=0.84975): 100%|██████████| 20/20 [00:21<00:00,  1.08s/it]\n",
      "Training (1139 / 18000 Steps) (loss=0.87222): 100%|██████████| 20/20 [00:11<00:00,  1.74it/s]\n",
      "Training (1159 / 18000 Steps) (loss=0.83700): 100%|██████████| 20/20 [00:11<00:00,  1.78it/s]\n",
      "Training (1179 / 18000 Steps) (loss=0.82957): 100%|██████████| 20/20 [00:11<00:00,  1.77it/s]\n",
      "Training (1199 / 18000 Steps) (loss=0.83353): 100%|██████████| 20/20 [00:11<00:00,  1.76it/s]\n",
      "Validate (1200 / 10 Steps): 100%|██████████| 7/7 [00:10<00:00,  1.44s/it]3<?, ?it/s]\n",
      "Training (1200 / 18000 Steps) (loss=0.83018):   5%|▌         | 1/20 [00:13<04:24, 13.94s/it]"
     ]
    },
    {
     "name": "stdout",
     "output_type": "stream",
     "text": [
      "Model Was Saved ! Current Best Avg. Dice: 0.07622123509645462 Current Avg. Dice: 0.07622123509645462 Current Avg. tumor Dice: 0.1514310985803604 Current Avg. lymph Dice: 0.0010113612515851855\n"
     ]
    },
    {
     "name": "stderr",
     "output_type": "stream",
     "text": [
      "Training (1219 / 18000 Steps) (loss=0.82643): 100%|██████████| 20/20 [00:21<00:00,  1.10s/it]\n",
      "Training (1239 / 18000 Steps) (loss=0.81865): 100%|██████████| 20/20 [00:11<00:00,  1.76it/s]\n",
      "Training (1259 / 18000 Steps) (loss=0.82422): 100%|██████████| 20/20 [00:11<00:00,  1.78it/s]\n",
      "Training (1279 / 18000 Steps) (loss=0.82344): 100%|██████████| 20/20 [00:11<00:00,  1.73it/s]\n",
      "Training (1299 / 18000 Steps) (loss=0.81065): 100%|██████████| 20/20 [00:11<00:00,  1.70it/s]\n",
      "Validate (1300 / 10 Steps): 100%|██████████| 7/7 [00:10<00:00,  1.45s/it]3<?, ?it/s]\n",
      "Training (1300 / 18000 Steps) (loss=0.81221):   5%|▌         | 1/20 [00:14<04:35, 14.51s/it]"
     ]
    },
    {
     "name": "stdout",
     "output_type": "stream",
     "text": [
      "Model Was Saved ! Current Best Avg. Dice: 0.0864291861653328 Current Avg. Dice: 0.0864291861653328 Current Avg. tumor Dice: 0.1708202362060547 Current Avg. lymph Dice: 0.002038130071014166\n"
     ]
    },
    {
     "name": "stderr",
     "output_type": "stream",
     "text": [
      "Training (1319 / 18000 Steps) (loss=0.82260): 100%|██████████| 20/20 [00:22<00:00,  1.13s/it]\n",
      "Training (1339 / 18000 Steps) (loss=0.83810): 100%|██████████| 20/20 [00:11<00:00,  1.78it/s]\n",
      "Training (1359 / 18000 Steps) (loss=0.80912): 100%|██████████| 20/20 [00:11<00:00,  1.81it/s]\n",
      "Training (1379 / 18000 Steps) (loss=0.80486): 100%|██████████| 20/20 [00:11<00:00,  1.82it/s]\n",
      "Training (1399 / 18000 Steps) (loss=0.79865): 100%|██████████| 20/20 [00:11<00:00,  1.78it/s]\n",
      "Validate (1400 / 10 Steps): 100%|██████████| 7/7 [00:10<00:00,  1.45s/it]3<?, ?it/s]\n",
      "Training (1400 / 18000 Steps) (loss=0.80069):   5%|▌         | 1/20 [00:14<04:31, 14.29s/it]"
     ]
    },
    {
     "name": "stdout",
     "output_type": "stream",
     "text": [
      "Model Was Saved ! Current Best Avg. Dice: 0.11401335895061493 Current Avg. Dice: 0.11401335895061493 Current Avg. tumor Dice: 0.22797100245952606 Current Avg. lymph Dice: 5.568304914049804e-05\n"
     ]
    },
    {
     "name": "stderr",
     "output_type": "stream",
     "text": [
      "Training (1419 / 18000 Steps) (loss=0.87385): 100%|██████████| 20/20 [00:22<00:00,  1.12s/it]\n",
      "Training (1439 / 18000 Steps) (loss=0.79516): 100%|██████████| 20/20 [00:11<00:00,  1.79it/s]\n",
      "Training (1459 / 18000 Steps) (loss=0.78616): 100%|██████████| 20/20 [00:11<00:00,  1.72it/s]\n",
      "Training (1479 / 18000 Steps) (loss=0.79612): 100%|██████████| 20/20 [00:11<00:00,  1.78it/s]\n",
      "Training (1499 / 18000 Steps) (loss=0.78638): 100%|██████████| 20/20 [00:11<00:00,  1.74it/s]\n",
      "Validate (1500 / 10 Steps): 100%|██████████| 7/7 [00:10<00:00,  1.48s/it]3<?, ?it/s]\n",
      "Training (1500 / 18000 Steps) (loss=0.76643):   5%|▌         | 1/20 [00:13<04:25, 13.96s/it]"
     ]
    },
    {
     "name": "stdout",
     "output_type": "stream",
     "text": [
      "Model Was Not Saved ! Current Best Avg. Dice: 0.11401335895061493 Current Avg. Dice: 0.1123473271727562 Current Avg. tumor Dice: 0.2246946394443512 Current Avg. lymph Dice: 0.0\n"
     ]
    },
    {
     "name": "stderr",
     "output_type": "stream",
     "text": [
      "Training (1519 / 18000 Steps) (loss=0.77607): 100%|██████████| 20/20 [00:21<00:00,  1.10s/it]\n",
      "Training (1539 / 18000 Steps) (loss=0.76459): 100%|██████████| 20/20 [00:10<00:00,  1.82it/s]\n",
      "Training (1559 / 18000 Steps) (loss=0.77105): 100%|██████████| 20/20 [00:11<00:00,  1.78it/s]\n",
      "Training (1579 / 18000 Steps) (loss=0.75021): 100%|██████████| 20/20 [00:11<00:00,  1.79it/s]\n",
      "Training (1599 / 18000 Steps) (loss=0.77707): 100%|██████████| 20/20 [00:11<00:00,  1.76it/s]\n",
      "Validate (1600 / 10 Steps): 100%|██████████| 7/7 [00:10<00:00,  1.50s/it]3<?, ?it/s]\n",
      "Training (1600 / 18000 Steps) (loss=0.76889):   5%|▌         | 1/20 [00:14<04:33, 14.37s/it]"
     ]
    },
    {
     "name": "stdout",
     "output_type": "stream",
     "text": [
      "Model Was Saved ! Current Best Avg. Dice: 0.141949862241745 Current Avg. Dice: 0.141949862241745 Current Avg. tumor Dice: 0.28389972448349 Current Avg. lymph Dice: 0.0\n"
     ]
    },
    {
     "name": "stderr",
     "output_type": "stream",
     "text": [
      "Training (1619 / 18000 Steps) (loss=0.81642): 100%|██████████| 20/20 [00:22<00:00,  1.12s/it]\n",
      "Training (1639 / 18000 Steps) (loss=0.77296): 100%|██████████| 20/20 [00:11<00:00,  1.80it/s]\n",
      "Training (1659 / 18000 Steps) (loss=0.76428): 100%|██████████| 20/20 [00:11<00:00,  1.70it/s]\n",
      "Training (1679 / 18000 Steps) (loss=0.77564): 100%|██████████| 20/20 [00:11<00:00,  1.81it/s]\n",
      "Training (1699 / 18000 Steps) (loss=0.74362): 100%|██████████| 20/20 [00:11<00:00,  1.76it/s]\n",
      "Validate (1700 / 10 Steps): 100%|██████████| 7/7 [00:10<00:00,  1.47s/it]3<?, ?it/s]\n",
      "Training (1700 / 18000 Steps) (loss=0.76236):   5%|▌         | 1/20 [00:14<04:30, 14.24s/it]"
     ]
    },
    {
     "name": "stdout",
     "output_type": "stream",
     "text": [
      "Model Was Saved ! Current Best Avg. Dice: 0.1829233318567276 Current Avg. Dice: 0.1829233318567276 Current Avg. tumor Dice: 0.3260289132595062 Current Avg. lymph Dice: 0.039817746728658676\n"
     ]
    },
    {
     "name": "stderr",
     "output_type": "stream",
     "text": [
      "Training (1719 / 18000 Steps) (loss=0.76756): 100%|██████████| 20/20 [00:22<00:00,  1.11s/it]\n",
      "Training (1739 / 18000 Steps) (loss=0.72936): 100%|██████████| 20/20 [00:11<00:00,  1.74it/s]\n",
      "Training (1759 / 18000 Steps) (loss=0.76066): 100%|██████████| 20/20 [00:10<00:00,  1.84it/s]\n",
      "Training (1779 / 18000 Steps) (loss=0.74134): 100%|██████████| 20/20 [00:11<00:00,  1.76it/s]\n",
      "Training (1799 / 18000 Steps) (loss=0.73918): 100%|██████████| 20/20 [00:10<00:00,  1.82it/s]\n",
      "Validate (1800 / 10 Steps): 100%|██████████| 7/7 [00:10<00:00,  1.50s/it]2<?, ?it/s]\n",
      "Training (1800 / 18000 Steps) (loss=0.73598):   5%|▌         | 1/20 [00:14<04:29, 14.20s/it]"
     ]
    },
    {
     "name": "stdout",
     "output_type": "stream",
     "text": [
      "Model Was Saved ! Current Best Avg. Dice: 0.1949881762266159 Current Avg. Dice: 0.1949881762266159 Current Avg. tumor Dice: 0.2893359959125519 Current Avg. lymph Dice: 0.10064037144184113\n"
     ]
    },
    {
     "name": "stderr",
     "output_type": "stream",
     "text": [
      "Training (1819 / 18000 Steps) (loss=0.76836): 100%|██████████| 20/20 [00:22<00:00,  1.11s/it]\n",
      "Training (1839 / 18000 Steps) (loss=0.72277): 100%|██████████| 20/20 [00:11<00:00,  1.78it/s]\n",
      "Training (1859 / 18000 Steps) (loss=0.71838): 100%|██████████| 20/20 [00:11<00:00,  1.71it/s]\n",
      "Training (1879 / 18000 Steps) (loss=0.74122): 100%|██████████| 20/20 [00:11<00:00,  1.79it/s]\n",
      "Training (1899 / 18000 Steps) (loss=0.73010): 100%|██████████| 20/20 [00:11<00:00,  1.77it/s]\n",
      "Validate (1900 / 10 Steps): 100%|██████████| 7/7 [00:10<00:00,  1.49s/it]3<?, ?it/s]\n",
      "Training (1900 / 18000 Steps) (loss=0.76664):   5%|▌         | 1/20 [00:14<04:39, 14.71s/it]"
     ]
    },
    {
     "name": "stdout",
     "output_type": "stream",
     "text": [
      "Model Was Saved ! Current Best Avg. Dice: 0.19658221304416656 Current Avg. Dice: 0.19658221304416656 Current Avg. tumor Dice: 0.23664657771587372 Current Avg. lymph Dice: 0.15651783347129822\n"
     ]
    },
    {
     "name": "stderr",
     "output_type": "stream",
     "text": [
      "Training (1919 / 18000 Steps) (loss=0.72728): 100%|██████████| 20/20 [00:22<00:00,  1.14s/it]\n",
      "Training (1939 / 18000 Steps) (loss=0.72597): 100%|██████████| 20/20 [00:11<00:00,  1.74it/s]\n",
      "Training (1959 / 18000 Steps) (loss=0.67854): 100%|██████████| 20/20 [00:11<00:00,  1.76it/s]\n",
      "Training (1979 / 18000 Steps) (loss=0.73645): 100%|██████████| 20/20 [00:11<00:00,  1.78it/s]\n",
      "Training (1999 / 18000 Steps) (loss=0.73373): 100%|██████████| 20/20 [00:10<00:00,  1.82it/s]\n",
      "Validate (2000 / 10 Steps): 100%|██████████| 7/7 [00:10<00:00,  1.49s/it]3<?, ?it/s]\n",
      "Training (2000 / 18000 Steps) (loss=0.67598):   5%|▌         | 1/20 [00:14<04:38, 14.63s/it]"
     ]
    },
    {
     "name": "stdout",
     "output_type": "stream",
     "text": [
      "Model Was Saved ! Current Best Avg. Dice: 0.20804594457149506 Current Avg. Dice: 0.20804594457149506 Current Avg. tumor Dice: 0.2392522543668747 Current Avg. lymph Dice: 0.17683961987495422\n"
     ]
    },
    {
     "name": "stderr",
     "output_type": "stream",
     "text": [
      "Training (2019 / 18000 Steps) (loss=0.71718): 100%|██████████| 20/20 [00:22<00:00,  1.13s/it]\n",
      "Training (2039 / 18000 Steps) (loss=0.72140): 100%|██████████| 20/20 [00:11<00:00,  1.76it/s]\n",
      "Training (2059 / 18000 Steps) (loss=0.74399): 100%|██████████| 20/20 [00:11<00:00,  1.78it/s]\n",
      "Training (2079 / 18000 Steps) (loss=0.71802): 100%|██████████| 20/20 [00:11<00:00,  1.80it/s]\n",
      "Training (2099 / 18000 Steps) (loss=0.71160): 100%|██████████| 20/20 [00:11<00:00,  1.79it/s]\n",
      "Validate (2100 / 10 Steps): 100%|██████████| 7/7 [00:10<00:00,  1.54s/it]2<?, ?it/s]\n",
      "Training (2100 / 18000 Steps) (loss=0.66817):   5%|▌         | 1/20 [00:14<04:35, 14.50s/it]"
     ]
    },
    {
     "name": "stdout",
     "output_type": "stream",
     "text": [
      "Model Was Saved ! Current Best Avg. Dice: 0.25430768728256226 Current Avg. Dice: 0.25430768728256226 Current Avg. tumor Dice: 0.32704445719718933 Current Avg. lymph Dice: 0.18157093226909637\n"
     ]
    },
    {
     "name": "stderr",
     "output_type": "stream",
     "text": [
      "Training (2119 / 18000 Steps) (loss=0.63066): 100%|██████████| 20/20 [00:22<00:00,  1.13s/it]\n",
      "Training (2139 / 18000 Steps) (loss=0.64917): 100%|██████████| 20/20 [00:11<00:00,  1.70it/s]\n",
      "Training (2159 / 18000 Steps) (loss=0.66312): 100%|██████████| 20/20 [00:11<00:00,  1.79it/s]\n",
      "Training (2179 / 18000 Steps) (loss=0.64206): 100%|██████████| 20/20 [00:11<00:00,  1.74it/s]\n",
      "Training (2199 / 18000 Steps) (loss=0.65479): 100%|██████████| 20/20 [00:11<00:00,  1.76it/s]\n",
      "Validate (2200 / 10 Steps): 100%|██████████| 7/7 [00:10<00:00,  1.50s/it]3<?, ?it/s]\n",
      "Training (2200 / 18000 Steps) (loss=0.64461):   5%|▌         | 1/20 [00:13<04:20, 13.69s/it]"
     ]
    },
    {
     "name": "stdout",
     "output_type": "stream",
     "text": [
      "Model Was Not Saved ! Current Best Avg. Dice: 0.25430768728256226 Current Avg. Dice: 0.247365802526474 Current Avg. tumor Dice: 0.31235888600349426 Current Avg. lymph Dice: 0.18237268924713135\n"
     ]
    },
    {
     "name": "stderr",
     "output_type": "stream",
     "text": [
      "Training (2219 / 18000 Steps) (loss=0.69414): 100%|██████████| 20/20 [00:21<00:00,  1.09s/it]\n",
      "Training (2239 / 18000 Steps) (loss=0.70876): 100%|██████████| 20/20 [00:11<00:00,  1.78it/s]\n",
      "Training (2259 / 18000 Steps) (loss=0.66155): 100%|██████████| 20/20 [00:11<00:00,  1.73it/s]\n",
      "Training (2279 / 18000 Steps) (loss=0.65667): 100%|██████████| 20/20 [00:10<00:00,  1.82it/s]\n",
      "Training (2299 / 18000 Steps) (loss=0.69111): 100%|██████████| 20/20 [00:11<00:00,  1.78it/s]\n",
      "Validate (2300 / 10 Steps): 100%|██████████| 7/7 [00:10<00:00,  1.49s/it]3<?, ?it/s]\n",
      "Training (2300 / 18000 Steps) (loss=0.61359):   5%|▌         | 1/20 [00:13<04:23, 13.89s/it]"
     ]
    },
    {
     "name": "stdout",
     "output_type": "stream",
     "text": [
      "Model Was Not Saved ! Current Best Avg. Dice: 0.25430768728256226 Current Avg. Dice: 0.22730326652526855 Current Avg. tumor Dice: 0.31523746252059937 Current Avg. lymph Dice: 0.13936911523342133\n"
     ]
    },
    {
     "name": "stderr",
     "output_type": "stream",
     "text": [
      "Training (2319 / 18000 Steps) (loss=0.63430): 100%|██████████| 20/20 [00:21<00:00,  1.10s/it]\n",
      "Training (2339 / 18000 Steps) (loss=0.65552): 100%|██████████| 20/20 [00:11<00:00,  1.75it/s]\n",
      "Training (2359 / 18000 Steps) (loss=0.64292): 100%|██████████| 20/20 [00:11<00:00,  1.76it/s]\n",
      "Training (2379 / 18000 Steps) (loss=0.65986): 100%|██████████| 20/20 [00:11<00:00,  1.80it/s]\n",
      "Training (2399 / 18000 Steps) (loss=0.57502): 100%|██████████| 20/20 [00:11<00:00,  1.72it/s]\n",
      "Validate (2400 / 10 Steps): 100%|██████████| 7/7 [00:10<00:00,  1.48s/it]3<?, ?it/s]\n",
      "Training (2400 / 18000 Steps) (loss=0.63439):   5%|▌         | 1/20 [00:14<04:28, 14.14s/it]"
     ]
    },
    {
     "name": "stdout",
     "output_type": "stream",
     "text": [
      "Model Was Saved ! Current Best Avg. Dice: 0.2948381304740906 Current Avg. Dice: 0.2948381304740906 Current Avg. tumor Dice: 0.36815863847732544 Current Avg. lymph Dice: 0.22151759266853333\n"
     ]
    },
    {
     "name": "stderr",
     "output_type": "stream",
     "text": [
      "Training (2419 / 18000 Steps) (loss=0.63862): 100%|██████████| 20/20 [00:22<00:00,  1.11s/it]\n",
      "Training (2439 / 18000 Steps) (loss=0.62719): 100%|██████████| 20/20 [00:11<00:00,  1.74it/s]\n",
      "Training (2459 / 18000 Steps) (loss=0.58525): 100%|██████████| 20/20 [00:11<00:00,  1.76it/s]\n",
      "Training (2479 / 18000 Steps) (loss=0.63819): 100%|██████████| 20/20 [00:11<00:00,  1.81it/s]\n",
      "Training (2499 / 18000 Steps) (loss=0.66770): 100%|██████████| 20/20 [00:11<00:00,  1.81it/s]\n",
      "Validate (2500 / 10 Steps): 100%|██████████| 7/7 [00:10<00:00,  1.54s/it]2<?, ?it/s]\n",
      "Training (2500 / 18000 Steps) (loss=0.60063):   5%|▌         | 1/20 [00:14<04:36, 14.57s/it]"
     ]
    },
    {
     "name": "stdout",
     "output_type": "stream",
     "text": [
      "Model Was Saved ! Current Best Avg. Dice: 0.30145880579948425 Current Avg. Dice: 0.30145880579948425 Current Avg. tumor Dice: 0.36227360367774963 Current Avg. lymph Dice: 0.24064397811889648\n"
     ]
    },
    {
     "name": "stderr",
     "output_type": "stream",
     "text": [
      "Training (2519 / 18000 Steps) (loss=0.69098): 100%|██████████| 20/20 [00:22<00:00,  1.13s/it]\n",
      "Training (2539 / 18000 Steps) (loss=0.68069): 100%|██████████| 20/20 [00:11<00:00,  1.75it/s]\n",
      "Training (2559 / 18000 Steps) (loss=0.59092): 100%|██████████| 20/20 [00:11<00:00,  1.80it/s]\n",
      "Training (2579 / 18000 Steps) (loss=0.66971): 100%|██████████| 20/20 [00:11<00:00,  1.79it/s]\n",
      "Training (2599 / 18000 Steps) (loss=0.65654): 100%|██████████| 20/20 [00:11<00:00,  1.75it/s]\n",
      "Validate (2600 / 10 Steps): 100%|██████████| 7/7 [00:10<00:00,  1.48s/it]2<?, ?it/s]\n",
      "Training (2600 / 18000 Steps) (loss=0.64922):   5%|▌         | 1/20 [00:14<04:28, 14.12s/it]"
     ]
    },
    {
     "name": "stdout",
     "output_type": "stream",
     "text": [
      "Model Was Saved ! Current Best Avg. Dice: 0.31020477414131165 Current Avg. Dice: 0.31020477414131165 Current Avg. tumor Dice: 0.3092992603778839 Current Avg. lymph Dice: 0.3111102283000946\n"
     ]
    },
    {
     "name": "stderr",
     "output_type": "stream",
     "text": [
      "Training (2619 / 18000 Steps) (loss=0.67105): 100%|██████████| 20/20 [00:22<00:00,  1.11s/it]\n",
      "Training (2639 / 18000 Steps) (loss=0.54952): 100%|██████████| 20/20 [00:11<00:00,  1.73it/s]\n",
      "Training (2659 / 18000 Steps) (loss=0.65732): 100%|██████████| 20/20 [00:11<00:00,  1.77it/s]\n",
      "Training (2679 / 18000 Steps) (loss=0.53448): 100%|██████████| 20/20 [00:11<00:00,  1.70it/s]\n",
      "Training (2699 / 18000 Steps) (loss=0.68666): 100%|██████████| 20/20 [00:11<00:00,  1.74it/s]\n",
      "Validate (2700 / 10 Steps): 100%|██████████| 7/7 [00:10<00:00,  1.46s/it]3<?, ?it/s]\n",
      "Training (2700 / 18000 Steps) (loss=0.59263):   5%|▌         | 1/20 [00:13<04:22, 13.82s/it]"
     ]
    },
    {
     "name": "stdout",
     "output_type": "stream",
     "text": [
      "Model Was Not Saved ! Current Best Avg. Dice: 0.31020477414131165 Current Avg. Dice: 0.2909853160381317 Current Avg. tumor Dice: 0.33677345514297485 Current Avg. lymph Dice: 0.245197132229805\n"
     ]
    },
    {
     "name": "stderr",
     "output_type": "stream",
     "text": [
      "Training (2719 / 18000 Steps) (loss=0.63617): 100%|██████████| 20/20 [00:21<00:00,  1.09s/it]\n",
      "Training (2739 / 18000 Steps) (loss=0.67628): 100%|██████████| 20/20 [00:11<00:00,  1.75it/s]\n",
      "Training (2759 / 18000 Steps) (loss=0.65507): 100%|██████████| 20/20 [00:11<00:00,  1.78it/s]\n",
      "Training (2779 / 18000 Steps) (loss=0.70385): 100%|██████████| 20/20 [00:11<00:00,  1.81it/s]\n",
      "Training (2799 / 18000 Steps) (loss=0.64504): 100%|██████████| 20/20 [00:11<00:00,  1.78it/s]\n",
      "Validate (2800 / 10 Steps): 100%|██████████| 7/7 [00:10<00:00,  1.48s/it]3<?, ?it/s]\n",
      "Training (2800 / 18000 Steps) (loss=0.58760):   5%|▌         | 1/20 [00:13<04:18, 13.60s/it]"
     ]
    },
    {
     "name": "stdout",
     "output_type": "stream",
     "text": [
      "Model Was Not Saved ! Current Best Avg. Dice: 0.31020477414131165 Current Avg. Dice: 0.3056263327598572 Current Avg. tumor Dice: 0.3620699346065521 Current Avg. lymph Dice: 0.2491827756166458\n"
     ]
    },
    {
     "name": "stderr",
     "output_type": "stream",
     "text": [
      "Training (2819 / 18000 Steps) (loss=0.62584): 100%|██████████| 20/20 [00:21<00:00,  1.08s/it]\n",
      "Training (2839 / 18000 Steps) (loss=0.64998): 100%|██████████| 20/20 [00:11<00:00,  1.80it/s]\n",
      "Training (2859 / 18000 Steps) (loss=0.69681): 100%|██████████| 20/20 [00:11<00:00,  1.76it/s]\n",
      "Training (2879 / 18000 Steps) (loss=0.66350): 100%|██████████| 20/20 [00:11<00:00,  1.79it/s]\n",
      "Training (2899 / 18000 Steps) (loss=0.62972): 100%|██████████| 20/20 [00:11<00:00,  1.80it/s]\n",
      "Validate (2900 / 10 Steps): 100%|██████████| 7/7 [00:10<00:00,  1.49s/it]3<?, ?it/s]\n",
      "Training (2900 / 18000 Steps) (loss=0.52713):   5%|▌         | 1/20 [00:14<04:30, 14.23s/it]"
     ]
    },
    {
     "name": "stdout",
     "output_type": "stream",
     "text": [
      "Model Was Saved ! Current Best Avg. Dice: 0.31499820947647095 Current Avg. Dice: 0.31499820947647095 Current Avg. tumor Dice: 0.357968807220459 Current Avg. lymph Dice: 0.2720276713371277\n"
     ]
    },
    {
     "name": "stderr",
     "output_type": "stream",
     "text": [
      "Training (2919 / 18000 Steps) (loss=0.57959): 100%|██████████| 20/20 [00:22<00:00,  1.11s/it]\n",
      "Training (2939 / 18000 Steps) (loss=0.67316): 100%|██████████| 20/20 [00:11<00:00,  1.75it/s]\n",
      "Training (2959 / 18000 Steps) (loss=0.64518): 100%|██████████| 20/20 [00:11<00:00,  1.80it/s]\n",
      "Training (2979 / 18000 Steps) (loss=0.54117): 100%|██████████| 20/20 [00:11<00:00,  1.73it/s]\n",
      "Training (2999 / 18000 Steps) (loss=0.67017): 100%|██████████| 20/20 [00:11<00:00,  1.78it/s]\n",
      "Validate (3000 / 10 Steps): 100%|██████████| 7/7 [00:10<00:00,  1.49s/it]3<?, ?it/s]\n",
      "Training (3000 / 18000 Steps) (loss=0.65489):   5%|▌         | 1/20 [00:13<04:25, 13.96s/it]"
     ]
    },
    {
     "name": "stdout",
     "output_type": "stream",
     "text": [
      "Model Was Not Saved ! Current Best Avg. Dice: 0.31499820947647095 Current Avg. Dice: 0.301873117685318 Current Avg. tumor Dice: 0.35141226649284363 Current Avg. lymph Dice: 0.2523339092731476\n"
     ]
    },
    {
     "name": "stderr",
     "output_type": "stream",
     "text": [
      "Training (3019 / 18000 Steps) (loss=0.61616): 100%|██████████| 20/20 [00:21<00:00,  1.10s/it]\n",
      "Training (3039 / 18000 Steps) (loss=0.56032): 100%|██████████| 20/20 [00:11<00:00,  1.81it/s]\n",
      "Training (3059 / 18000 Steps) (loss=0.57770): 100%|██████████| 20/20 [00:11<00:00,  1.79it/s]\n",
      "Training (3079 / 18000 Steps) (loss=0.61022): 100%|██████████| 20/20 [00:11<00:00,  1.79it/s]\n",
      "Training (3099 / 18000 Steps) (loss=0.57531): 100%|██████████| 20/20 [00:11<00:00,  1.74it/s]\n",
      "Validate (3100 / 10 Steps): 100%|██████████| 7/7 [00:10<00:00,  1.48s/it]3<?, ?it/s]\n",
      "Training (3100 / 18000 Steps) (loss=0.59413):   5%|▌         | 1/20 [00:13<04:15, 13.46s/it]"
     ]
    },
    {
     "name": "stdout",
     "output_type": "stream",
     "text": [
      "Model Was Not Saved ! Current Best Avg. Dice: 0.31499820947647095 Current Avg. Dice: 0.3125394284725189 Current Avg. tumor Dice: 0.33047452569007874 Current Avg. lymph Dice: 0.2946043610572815\n"
     ]
    },
    {
     "name": "stderr",
     "output_type": "stream",
     "text": [
      "Training (3119 / 18000 Steps) (loss=0.61480): 100%|██████████| 20/20 [00:21<00:00,  1.07s/it]\n",
      "Training (3139 / 18000 Steps) (loss=0.54359): 100%|██████████| 20/20 [00:11<00:00,  1.79it/s]\n",
      "Training (3159 / 18000 Steps) (loss=0.64274): 100%|██████████| 20/20 [00:11<00:00,  1.72it/s]\n",
      "Training (3179 / 18000 Steps) (loss=0.63571): 100%|██████████| 20/20 [00:11<00:00,  1.79it/s]\n",
      "Training (3199 / 18000 Steps) (loss=0.58005): 100%|██████████| 20/20 [00:11<00:00,  1.75it/s]\n",
      "Validate (3200 / 10 Steps): 100%|██████████| 7/7 [00:10<00:00,  1.49s/it]3<?, ?it/s]\n",
      "Training (3200 / 18000 Steps) (loss=0.53500):   5%|▌         | 1/20 [00:13<04:17, 13.56s/it]"
     ]
    },
    {
     "name": "stdout",
     "output_type": "stream",
     "text": [
      "Model Was Not Saved ! Current Best Avg. Dice: 0.31499820947647095 Current Avg. Dice: 0.25459596514701843 Current Avg. tumor Dice: 0.3674924075603485 Current Avg. lymph Dice: 0.14169953763484955\n"
     ]
    },
    {
     "name": "stderr",
     "output_type": "stream",
     "text": [
      "Training (3219 / 18000 Steps) (loss=0.54386): 100%|██████████| 20/20 [00:21<00:00,  1.08s/it]\n",
      "Training (3239 / 18000 Steps) (loss=0.60129): 100%|██████████| 20/20 [00:11<00:00,  1.76it/s]\n",
      "Training (3259 / 18000 Steps) (loss=0.60721): 100%|██████████| 20/20 [00:11<00:00,  1.79it/s]\n",
      "Training (3279 / 18000 Steps) (loss=0.57771): 100%|██████████| 20/20 [00:11<00:00,  1.73it/s]\n",
      "Training (3299 / 18000 Steps) (loss=0.62481): 100%|██████████| 20/20 [00:10<00:00,  1.83it/s]\n",
      "Validate (3300 / 10 Steps): 100%|██████████| 7/7 [00:10<00:00,  1.50s/it]3<?, ?it/s]\n",
      "Training (3300 / 18000 Steps) (loss=0.52138):   5%|▌         | 1/20 [00:14<04:26, 14.01s/it]"
     ]
    },
    {
     "name": "stdout",
     "output_type": "stream",
     "text": [
      "Model Was Not Saved ! Current Best Avg. Dice: 0.31499820947647095 Current Avg. Dice: 0.26185598969459534 Current Avg. tumor Dice: 0.2487277090549469 Current Avg. lymph Dice: 0.2749842703342438\n"
     ]
    },
    {
     "name": "stderr",
     "output_type": "stream",
     "text": [
      "Training (3319 / 18000 Steps) (loss=0.67472): 100%|██████████| 20/20 [00:22<00:00,  1.10s/it]\n",
      "Training (3339 / 18000 Steps) (loss=0.55578): 100%|██████████| 20/20 [00:11<00:00,  1.77it/s]\n",
      "Training (3359 / 18000 Steps) (loss=0.66758): 100%|██████████| 20/20 [00:11<00:00,  1.73it/s]\n",
      "Training (3379 / 18000 Steps) (loss=0.64884): 100%|██████████| 20/20 [00:11<00:00,  1.72it/s]\n",
      "Training (3399 / 18000 Steps) (loss=0.52623): 100%|██████████| 20/20 [00:11<00:00,  1.76it/s]\n",
      "Validate (3400 / 10 Steps): 100%|██████████| 7/7 [00:10<00:00,  1.51s/it]3<?, ?it/s]\n",
      "Training (3400 / 18000 Steps) (loss=0.64373):   5%|▌         | 1/20 [00:14<04:41, 14.84s/it]"
     ]
    },
    {
     "name": "stdout",
     "output_type": "stream",
     "text": [
      "Model Was Saved ! Current Best Avg. Dice: 0.3340742886066437 Current Avg. Dice: 0.3340742886066437 Current Avg. tumor Dice: 0.3714141249656677 Current Avg. lymph Dice: 0.296734482049942\n"
     ]
    },
    {
     "name": "stderr",
     "output_type": "stream",
     "text": [
      "Training (3419 / 18000 Steps) (loss=0.67359): 100%|██████████| 20/20 [00:22<00:00,  1.14s/it]\n",
      "Training (3439 / 18000 Steps) (loss=0.58165): 100%|██████████| 20/20 [00:11<00:00,  1.77it/s]\n",
      "Training (3459 / 18000 Steps) (loss=0.58539): 100%|██████████| 20/20 [00:11<00:00,  1.79it/s]\n",
      "Training (3479 / 18000 Steps) (loss=0.55746): 100%|██████████| 20/20 [00:11<00:00,  1.74it/s]\n",
      "Training (3499 / 18000 Steps) (loss=0.63583): 100%|██████████| 20/20 [00:11<00:00,  1.79it/s]\n",
      "Validate (3500 / 10 Steps): 100%|██████████| 7/7 [00:10<00:00,  1.54s/it]3<?, ?it/s]\n",
      "Training (3500 / 18000 Steps) (loss=0.52946):   5%|▌         | 1/20 [00:14<04:42, 14.89s/it]"
     ]
    },
    {
     "name": "stdout",
     "output_type": "stream",
     "text": [
      "Model Was Saved ! Current Best Avg. Dice: 0.3508765995502472 Current Avg. Dice: 0.3508765995502472 Current Avg. tumor Dice: 0.3791436553001404 Current Avg. lymph Dice: 0.3226095736026764\n"
     ]
    },
    {
     "name": "stderr",
     "output_type": "stream",
     "text": [
      "Training (3519 / 18000 Steps) (loss=0.58183): 100%|██████████| 20/20 [00:22<00:00,  1.15s/it]\n",
      "Training (3539 / 18000 Steps) (loss=0.58399): 100%|██████████| 20/20 [00:11<00:00,  1.78it/s]\n",
      "Training (3559 / 18000 Steps) (loss=0.61227): 100%|██████████| 20/20 [00:11<00:00,  1.72it/s]\n",
      "Training (3579 / 18000 Steps) (loss=0.57575): 100%|██████████| 20/20 [00:11<00:00,  1.73it/s]\n",
      "Training (3599 / 18000 Steps) (loss=0.58687): 100%|██████████| 20/20 [00:11<00:00,  1.73it/s]\n",
      "Validate (3600 / 10 Steps): 100%|██████████| 7/7 [00:10<00:00,  1.50s/it]3<?, ?it/s]\n",
      "Training (3600 / 18000 Steps) (loss=0.50791):   5%|▌         | 1/20 [00:14<04:27, 14.09s/it]"
     ]
    },
    {
     "name": "stdout",
     "output_type": "stream",
     "text": [
      "Model Was Not Saved ! Current Best Avg. Dice: 0.3508765995502472 Current Avg. Dice: 0.32524558901786804 Current Avg. tumor Dice: 0.35779866576194763 Current Avg. lymph Dice: 0.29269251227378845\n"
     ]
    },
    {
     "name": "stderr",
     "output_type": "stream",
     "text": [
      "Training (3619 / 18000 Steps) (loss=0.54346): 100%|██████████| 20/20 [00:22<00:00,  1.11s/it]\n",
      "Training (3639 / 18000 Steps) (loss=0.48644): 100%|██████████| 20/20 [00:11<00:00,  1.73it/s]\n",
      "Training (3659 / 18000 Steps) (loss=0.57668): 100%|██████████| 20/20 [00:11<00:00,  1.79it/s]\n",
      "Training (3679 / 18000 Steps) (loss=0.55588): 100%|██████████| 20/20 [00:11<00:00,  1.76it/s]\n",
      "Training (3699 / 18000 Steps) (loss=0.64562): 100%|██████████| 20/20 [00:11<00:00,  1.80it/s]\n",
      "Validate (3700 / 10 Steps): 100%|██████████| 7/7 [00:10<00:00,  1.48s/it]2<?, ?it/s]\n",
      "Training (3700 / 18000 Steps) (loss=0.53597):   5%|▌         | 1/20 [00:13<04:13, 13.34s/it]"
     ]
    },
    {
     "name": "stdout",
     "output_type": "stream",
     "text": [
      "Model Was Not Saved ! Current Best Avg. Dice: 0.3508765995502472 Current Avg. Dice: 0.34112685918807983 Current Avg. tumor Dice: 0.3797937035560608 Current Avg. lymph Dice: 0.3024599850177765\n"
     ]
    },
    {
     "name": "stderr",
     "output_type": "stream",
     "text": [
      "Training (3719 / 18000 Steps) (loss=0.61020): 100%|██████████| 20/20 [00:21<00:00,  1.07s/it]\n",
      "Training (3739 / 18000 Steps) (loss=0.57075): 100%|██████████| 20/20 [00:11<00:00,  1.80it/s]\n",
      "Training (3759 / 18000 Steps) (loss=0.48720): 100%|██████████| 20/20 [00:11<00:00,  1.77it/s]\n",
      "Training (3779 / 18000 Steps) (loss=0.53949): 100%|██████████| 20/20 [00:11<00:00,  1.80it/s]\n",
      "Training (3799 / 18000 Steps) (loss=0.49868): 100%|██████████| 20/20 [00:11<00:00,  1.79it/s]\n",
      "Validate (3800 / 10 Steps): 100%|██████████| 7/7 [00:10<00:00,  1.50s/it]3<?, ?it/s]\n",
      "Training (3800 / 18000 Steps) (loss=0.59278):   5%|▌         | 1/20 [00:14<04:28, 14.11s/it]"
     ]
    },
    {
     "name": "stdout",
     "output_type": "stream",
     "text": [
      "Model Was Not Saved ! Current Best Avg. Dice: 0.3508765995502472 Current Avg. Dice: 0.3335011899471283 Current Avg. tumor Dice: 0.35170289874076843 Current Avg. lymph Dice: 0.31529945135116577\n"
     ]
    },
    {
     "name": "stderr",
     "output_type": "stream",
     "text": [
      "Training (3819 / 18000 Steps) (loss=0.48752): 100%|██████████| 20/20 [00:22<00:00,  1.11s/it]\n",
      "Training (3839 / 18000 Steps) (loss=0.55363): 100%|██████████| 20/20 [00:11<00:00,  1.78it/s]\n",
      "Training (3859 / 18000 Steps) (loss=0.54332): 100%|██████████| 20/20 [00:11<00:00,  1.70it/s]\n",
      "Training (3879 / 18000 Steps) (loss=0.55408): 100%|██████████| 20/20 [00:11<00:00,  1.75it/s]\n",
      "Training (3899 / 18000 Steps) (loss=0.50250): 100%|██████████| 20/20 [00:11<00:00,  1.77it/s]\n",
      "Validate (3900 / 10 Steps): 100%|██████████| 7/7 [00:10<00:00,  1.51s/it]2<?, ?it/s]\n",
      "Training (3900 / 18000 Steps) (loss=0.60835):   5%|▌         | 1/20 [00:14<04:31, 14.27s/it]"
     ]
    },
    {
     "name": "stdout",
     "output_type": "stream",
     "text": [
      "Model Was Saved ! Current Best Avg. Dice: 0.3569023609161377 Current Avg. Dice: 0.3569023609161377 Current Avg. tumor Dice: 0.35683950781822205 Current Avg. lymph Dice: 0.35696524381637573\n"
     ]
    },
    {
     "name": "stderr",
     "output_type": "stream",
     "text": [
      "Training (3919 / 18000 Steps) (loss=0.57294): 100%|██████████| 20/20 [00:22<00:00,  1.12s/it]\n",
      "Training (3939 / 18000 Steps) (loss=0.52184): 100%|██████████| 20/20 [00:11<00:00,  1.73it/s]\n",
      "Training (3959 / 18000 Steps) (loss=0.60694): 100%|██████████| 20/20 [00:11<00:00,  1.75it/s]\n",
      "Training (3979 / 18000 Steps) (loss=0.64133): 100%|██████████| 20/20 [00:11<00:00,  1.78it/s]\n",
      "Training (3999 / 18000 Steps) (loss=0.59126): 100%|██████████| 20/20 [00:11<00:00,  1.81it/s]\n",
      "Validate (4000 / 10 Steps): 100%|██████████| 7/7 [00:10<00:00,  1.49s/it]3<?, ?it/s]\n",
      "Training (4000 / 18000 Steps) (loss=0.55132):   5%|▌         | 1/20 [00:13<04:20, 13.70s/it]"
     ]
    },
    {
     "name": "stdout",
     "output_type": "stream",
     "text": [
      "Model Was Not Saved ! Current Best Avg. Dice: 0.3569023609161377 Current Avg. Dice: 0.3482832908630371 Current Avg. tumor Dice: 0.3554340898990631 Current Avg. lymph Dice: 0.3411324918270111\n"
     ]
    },
    {
     "name": "stderr",
     "output_type": "stream",
     "text": [
      "Training (4019 / 18000 Steps) (loss=0.55145): 100%|██████████| 20/20 [00:21<00:00,  1.08s/it]\n",
      "Training (4039 / 18000 Steps) (loss=0.49475): 100%|██████████| 20/20 [00:11<00:00,  1.79it/s]\n",
      "Training (4059 / 18000 Steps) (loss=0.51956): 100%|██████████| 20/20 [00:11<00:00,  1.76it/s]\n",
      "Training (4079 / 18000 Steps) (loss=0.49563): 100%|██████████| 20/20 [00:11<00:00,  1.68it/s]\n",
      "Training (4099 / 18000 Steps) (loss=0.58437): 100%|██████████| 20/20 [00:11<00:00,  1.76it/s]\n",
      "Validate (4100 / 10 Steps): 100%|██████████| 7/7 [00:10<00:00,  1.48s/it]3<?, ?it/s]\n",
      "Training (4100 / 18000 Steps) (loss=0.57260):   5%|▌         | 1/20 [00:13<04:25, 13.96s/it]"
     ]
    },
    {
     "name": "stdout",
     "output_type": "stream",
     "text": [
      "Model Was Not Saved ! Current Best Avg. Dice: 0.3569023609161377 Current Avg. Dice: 0.3182904124259949 Current Avg. tumor Dice: 0.35038891434669495 Current Avg. lymph Dice: 0.2861918807029724\n"
     ]
    },
    {
     "name": "stderr",
     "output_type": "stream",
     "text": [
      "Training (4119 / 18000 Steps) (loss=0.57689): 100%|██████████| 20/20 [00:22<00:00,  1.10s/it]\n",
      "Training (4139 / 18000 Steps) (loss=0.46888): 100%|██████████| 20/20 [00:11<00:00,  1.75it/s]\n",
      "Training (4159 / 18000 Steps) (loss=0.59377): 100%|██████████| 20/20 [00:11<00:00,  1.76it/s]\n",
      "Training (4179 / 18000 Steps) (loss=0.40098): 100%|██████████| 20/20 [00:11<00:00,  1.79it/s]\n",
      "Training (4199 / 18000 Steps) (loss=0.59641): 100%|██████████| 20/20 [00:11<00:00,  1.73it/s]\n",
      "Validate (4200 / 10 Steps): 100%|██████████| 7/7 [00:10<00:00,  1.51s/it]3<?, ?it/s]\n",
      "Training (4200 / 18000 Steps) (loss=0.50516):   5%|▌         | 1/20 [00:13<04:22, 13.80s/it]"
     ]
    },
    {
     "name": "stdout",
     "output_type": "stream",
     "text": [
      "Model Was Not Saved ! Current Best Avg. Dice: 0.3569023609161377 Current Avg. Dice: 0.35301902890205383 Current Avg. tumor Dice: 0.35146111249923706 Current Avg. lymph Dice: 0.3545769155025482\n"
     ]
    },
    {
     "name": "stderr",
     "output_type": "stream",
     "text": [
      "Training (4219 / 18000 Steps) (loss=0.52298): 100%|██████████| 20/20 [00:21<00:00,  1.09s/it]\n",
      "Training (4239 / 18000 Steps) (loss=0.50265): 100%|██████████| 20/20 [00:11<00:00,  1.74it/s]\n",
      "Training (4259 / 18000 Steps) (loss=0.42803): 100%|██████████| 20/20 [00:11<00:00,  1.74it/s]\n",
      "Training (4279 / 18000 Steps) (loss=0.60893): 100%|██████████| 20/20 [00:11<00:00,  1.78it/s]\n",
      "Training (4299 / 18000 Steps) (loss=0.48820): 100%|██████████| 20/20 [00:11<00:00,  1.73it/s]\n",
      "Validate (4300 / 10 Steps): 100%|██████████| 7/7 [00:10<00:00,  1.51s/it]3<?, ?it/s]\n",
      "Training (4300 / 18000 Steps) (loss=0.51776):   5%|▌         | 1/20 [00:14<04:33, 14.39s/it]"
     ]
    },
    {
     "name": "stdout",
     "output_type": "stream",
     "text": [
      "Model Was Saved ! Current Best Avg. Dice: 0.39080747961997986 Current Avg. Dice: 0.39080747961997986 Current Avg. tumor Dice: 0.37972715497016907 Current Avg. lymph Dice: 0.4018877446651459\n"
     ]
    },
    {
     "name": "stderr",
     "output_type": "stream",
     "text": [
      "Training (4319 / 18000 Steps) (loss=0.40158): 100%|██████████| 20/20 [00:22<00:00,  1.12s/it]\n",
      "Training (4339 / 18000 Steps) (loss=0.37087): 100%|██████████| 20/20 [00:11<00:00,  1.76it/s]\n",
      "Training (4359 / 18000 Steps) (loss=0.48076): 100%|██████████| 20/20 [00:11<00:00,  1.77it/s]\n",
      "Training (4379 / 18000 Steps) (loss=0.52006): 100%|██████████| 20/20 [00:11<00:00,  1.73it/s]\n",
      "Training (4399 / 18000 Steps) (loss=0.51034): 100%|██████████| 20/20 [00:11<00:00,  1.76it/s]\n",
      "Validate (4400 / 10 Steps): 100%|██████████| 7/7 [00:10<00:00,  1.48s/it]3<?, ?it/s]\n",
      "Training (4400 / 18000 Steps) (loss=0.52580):   5%|▌         | 1/20 [00:13<04:19, 13.68s/it]"
     ]
    },
    {
     "name": "stdout",
     "output_type": "stream",
     "text": [
      "Model Was Not Saved ! Current Best Avg. Dice: 0.39080747961997986 Current Avg. Dice: 0.30020174384117126 Current Avg. tumor Dice: 0.36656004190444946 Current Avg. lymph Dice: 0.23384349048137665\n"
     ]
    },
    {
     "name": "stderr",
     "output_type": "stream",
     "text": [
      "Training (4419 / 18000 Steps) (loss=0.55382): 100%|██████████| 20/20 [00:21<00:00,  1.08s/it]\n",
      "Training (4439 / 18000 Steps) (loss=0.65531): 100%|██████████| 20/20 [00:11<00:00,  1.81it/s]\n",
      "Training (4459 / 18000 Steps) (loss=0.50418): 100%|██████████| 20/20 [00:11<00:00,  1.80it/s]\n",
      "Training (4479 / 18000 Steps) (loss=0.57926): 100%|██████████| 20/20 [00:11<00:00,  1.70it/s]\n",
      "Training (4499 / 18000 Steps) (loss=0.52098): 100%|██████████| 20/20 [00:11<00:00,  1.73it/s]\n",
      "Validate (4500 / 10 Steps): 100%|██████████| 7/7 [00:10<00:00,  1.56s/it]3<?, ?it/s]\n",
      "Training (4500 / 18000 Steps) (loss=0.63475):   5%|▌         | 1/20 [00:14<04:32, 14.33s/it]"
     ]
    },
    {
     "name": "stdout",
     "output_type": "stream",
     "text": [
      "Model Was Not Saved ! Current Best Avg. Dice: 0.39080747961997986 Current Avg. Dice: 0.3639416992664337 Current Avg. tumor Dice: 0.40377935767173767 Current Avg. lymph Dice: 0.32410404086112976\n"
     ]
    },
    {
     "name": "stderr",
     "output_type": "stream",
     "text": [
      "Training (4519 / 18000 Steps) (loss=0.49641): 100%|██████████| 20/20 [00:22<00:00,  1.12s/it]\n",
      "Training (4539 / 18000 Steps) (loss=0.55937): 100%|██████████| 20/20 [00:11<00:00,  1.71it/s]\n",
      "Training (4559 / 18000 Steps) (loss=0.45119): 100%|██████████| 20/20 [00:11<00:00,  1.80it/s]\n",
      "Training (4579 / 18000 Steps) (loss=0.42858): 100%|██████████| 20/20 [00:11<00:00,  1.81it/s]\n",
      "Training (4599 / 18000 Steps) (loss=0.50972): 100%|██████████| 20/20 [00:11<00:00,  1.74it/s]\n",
      "Validate (4600 / 10 Steps): 100%|██████████| 7/7 [00:10<00:00,  1.50s/it]3<?, ?it/s]\n",
      "Training (4600 / 18000 Steps) (loss=0.42635):   5%|▌         | 1/20 [00:13<04:18, 13.62s/it]"
     ]
    },
    {
     "name": "stdout",
     "output_type": "stream",
     "text": [
      "Model Was Not Saved ! Current Best Avg. Dice: 0.39080747961997986 Current Avg. Dice: 0.36465057730674744 Current Avg. tumor Dice: 0.37466898560523987 Current Avg. lymph Dice: 0.3546321988105774\n"
     ]
    },
    {
     "name": "stderr",
     "output_type": "stream",
     "text": [
      "Training (4619 / 18000 Steps) (loss=0.56796): 100%|██████████| 20/20 [00:21<00:00,  1.08s/it]\n",
      "Training (4639 / 18000 Steps) (loss=0.53362): 100%|██████████| 20/20 [00:11<00:00,  1.79it/s]\n",
      "Training (4659 / 18000 Steps) (loss=0.60657): 100%|██████████| 20/20 [00:11<00:00,  1.79it/s]\n",
      "Training (4679 / 18000 Steps) (loss=0.50644): 100%|██████████| 20/20 [00:11<00:00,  1.73it/s]\n",
      "Training (4699 / 18000 Steps) (loss=0.42277): 100%|██████████| 20/20 [00:11<00:00,  1.76it/s]\n",
      "Validate (4700 / 10 Steps): 100%|██████████| 7/7 [00:10<00:00,  1.50s/it]3<?, ?it/s]\n",
      "Training (4700 / 18000 Steps) (loss=0.54349):   5%|▌         | 1/20 [00:14<04:27, 14.08s/it]"
     ]
    },
    {
     "name": "stdout",
     "output_type": "stream",
     "text": [
      "Model Was Not Saved ! Current Best Avg. Dice: 0.39080747961997986 Current Avg. Dice: 0.36752933263778687 Current Avg. tumor Dice: 0.3702727258205414 Current Avg. lymph Dice: 0.3647858798503876\n"
     ]
    },
    {
     "name": "stderr",
     "output_type": "stream",
     "text": [
      "Training (4719 / 18000 Steps) (loss=0.49832): 100%|██████████| 20/20 [00:22<00:00,  1.11s/it]\n",
      "Training (4739 / 18000 Steps) (loss=0.39979): 100%|██████████| 20/20 [00:11<00:00,  1.75it/s]\n",
      "Training (4759 / 18000 Steps) (loss=0.48492): 100%|██████████| 20/20 [00:11<00:00,  1.80it/s]\n",
      "Training (4779 / 18000 Steps) (loss=0.52516): 100%|██████████| 20/20 [00:11<00:00,  1.78it/s]\n",
      "Training (4799 / 18000 Steps) (loss=0.45223): 100%|██████████| 20/20 [00:10<00:00,  1.82it/s]\n",
      "Validate (4800 / 10 Steps): 100%|██████████| 7/7 [00:10<00:00,  1.49s/it]3<?, ?it/s]\n",
      "Training (4800 / 18000 Steps) (loss=0.47358):   5%|▌         | 1/20 [00:14<04:26, 14.04s/it]"
     ]
    },
    {
     "name": "stdout",
     "output_type": "stream",
     "text": [
      "Model Was Not Saved ! Current Best Avg. Dice: 0.39080747961997986 Current Avg. Dice: 0.33460551500320435 Current Avg. tumor Dice: 0.36329466104507446 Current Avg. lymph Dice: 0.30591636896133423\n"
     ]
    },
    {
     "name": "stderr",
     "output_type": "stream",
     "text": [
      "Training (4819 / 18000 Steps) (loss=0.49237): 100%|██████████| 20/20 [00:22<00:00,  1.10s/it]\n",
      "Training (4839 / 18000 Steps) (loss=0.51112): 100%|██████████| 20/20 [00:11<00:00,  1.76it/s]\n",
      "Training (4859 / 18000 Steps) (loss=0.53089): 100%|██████████| 20/20 [00:11<00:00,  1.79it/s]\n",
      "Training (4879 / 18000 Steps) (loss=0.45959): 100%|██████████| 20/20 [00:11<00:00,  1.76it/s]\n",
      "Training (4899 / 18000 Steps) (loss=0.54599): 100%|██████████| 20/20 [00:11<00:00,  1.80it/s]\n",
      "Validate (4900 / 10 Steps): 100%|██████████| 7/7 [00:10<00:00,  1.48s/it]3<?, ?it/s]\n",
      "Training (4900 / 18000 Steps) (loss=0.39135):   5%|▌         | 1/20 [00:13<04:23, 13.87s/it]"
     ]
    },
    {
     "name": "stdout",
     "output_type": "stream",
     "text": [
      "Model Was Not Saved ! Current Best Avg. Dice: 0.39080747961997986 Current Avg. Dice: 0.3538210988044739 Current Avg. tumor Dice: 0.41028791666030884 Current Avg. lymph Dice: 0.29735425114631653\n"
     ]
    },
    {
     "name": "stderr",
     "output_type": "stream",
     "text": [
      "Training (4919 / 18000 Steps) (loss=0.51003): 100%|██████████| 20/20 [00:21<00:00,  1.09s/it]\n",
      "Training (4939 / 18000 Steps) (loss=0.48273): 100%|██████████| 20/20 [00:11<00:00,  1.76it/s]\n",
      "Training (4959 / 18000 Steps) (loss=0.48505): 100%|██████████| 20/20 [00:11<00:00,  1.78it/s]\n",
      "Training (4979 / 18000 Steps) (loss=0.63515): 100%|██████████| 20/20 [00:10<00:00,  1.82it/s]\n",
      "Training (4999 / 18000 Steps) (loss=0.55844): 100%|██████████| 20/20 [00:11<00:00,  1.77it/s]\n",
      "Validate (5000 / 10 Steps): 100%|██████████| 7/7 [00:10<00:00,  1.50s/it]3<?, ?it/s]\n",
      "Training (5000 / 18000 Steps) (loss=0.57495):   5%|▌         | 1/20 [00:13<04:18, 13.62s/it]"
     ]
    },
    {
     "name": "stdout",
     "output_type": "stream",
     "text": [
      "Model Was Not Saved ! Current Best Avg. Dice: 0.39080747961997986 Current Avg. Dice: 0.35991957783699036 Current Avg. tumor Dice: 0.39933711290359497 Current Avg. lymph Dice: 0.32050201296806335\n"
     ]
    },
    {
     "name": "stderr",
     "output_type": "stream",
     "text": [
      "Training (5019 / 18000 Steps) (loss=0.49250): 100%|██████████| 20/20 [00:21<00:00,  1.08s/it]\n",
      "Training (5039 / 18000 Steps) (loss=0.46882): 100%|██████████| 20/20 [00:11<00:00,  1.78it/s]\n",
      "Training (5059 / 18000 Steps) (loss=0.44008): 100%|██████████| 20/20 [00:11<00:00,  1.78it/s]\n",
      "Training (5079 / 18000 Steps) (loss=0.53614): 100%|██████████| 20/20 [00:11<00:00,  1.80it/s]\n",
      "Training (5099 / 18000 Steps) (loss=0.48699): 100%|██████████| 20/20 [00:10<00:00,  1.82it/s]\n",
      "Validate (5100 / 10 Steps): 100%|██████████| 7/7 [00:10<00:00,  1.50s/it]3<?, ?it/s]\n",
      "Training (5100 / 18000 Steps) (loss=0.46937):   5%|▌         | 1/20 [00:13<04:24, 13.91s/it]"
     ]
    },
    {
     "name": "stdout",
     "output_type": "stream",
     "text": [
      "Model Was Not Saved ! Current Best Avg. Dice: 0.39080747961997986 Current Avg. Dice: 0.3699171841144562 Current Avg. tumor Dice: 0.380398690700531 Current Avg. lymph Dice: 0.35943564772605896\n"
     ]
    },
    {
     "name": "stderr",
     "output_type": "stream",
     "text": [
      "Training (5119 / 18000 Steps) (loss=0.40135): 100%|██████████| 20/20 [00:21<00:00,  1.10s/it]\n",
      "Training (5139 / 18000 Steps) (loss=0.49391): 100%|██████████| 20/20 [00:11<00:00,  1.77it/s]\n",
      "Training (5159 / 18000 Steps) (loss=0.60410): 100%|██████████| 20/20 [00:11<00:00,  1.75it/s]\n",
      "Training (5179 / 18000 Steps) (loss=0.61164): 100%|██████████| 20/20 [00:11<00:00,  1.74it/s]\n",
      "Training (5199 / 18000 Steps) (loss=0.44825): 100%|██████████| 20/20 [00:11<00:00,  1.70it/s]\n",
      "Validate (5200 / 10 Steps): 100%|██████████| 7/7 [00:10<00:00,  1.50s/it]3<?, ?it/s]\n",
      "Training (5200 / 18000 Steps) (loss=0.46914):   5%|▌         | 1/20 [00:13<04:19, 13.66s/it]"
     ]
    },
    {
     "name": "stdout",
     "output_type": "stream",
     "text": [
      "Model Was Not Saved ! Current Best Avg. Dice: 0.39080747961997986 Current Avg. Dice: 0.3833828270435333 Current Avg. tumor Dice: 0.39886170625686646 Current Avg. lymph Dice: 0.3679039478302002\n"
     ]
    },
    {
     "name": "stderr",
     "output_type": "stream",
     "text": [
      "Training (5219 / 18000 Steps) (loss=0.53648): 100%|██████████| 20/20 [00:21<00:00,  1.08s/it]\n",
      "Training (5239 / 18000 Steps) (loss=0.53068): 100%|██████████| 20/20 [00:11<00:00,  1.80it/s]\n",
      "Training (5259 / 18000 Steps) (loss=0.54265): 100%|██████████| 20/20 [00:11<00:00,  1.77it/s]\n",
      "Training (5279 / 18000 Steps) (loss=0.51481): 100%|██████████| 20/20 [00:11<00:00,  1.71it/s]\n",
      "Training (5299 / 18000 Steps) (loss=0.57142): 100%|██████████| 20/20 [00:11<00:00,  1.76it/s]\n",
      "Validate (5300 / 10 Steps): 100%|██████████| 7/7 [00:10<00:00,  1.49s/it]3<?, ?it/s]\n",
      "Training (5300 / 18000 Steps) (loss=0.51738):   5%|▌         | 1/20 [00:14<04:30, 14.25s/it]"
     ]
    },
    {
     "name": "stdout",
     "output_type": "stream",
     "text": [
      "Model Was Saved ! Current Best Avg. Dice: 0.3942584991455078 Current Avg. Dice: 0.3942584991455078 Current Avg. tumor Dice: 0.44658389687538147 Current Avg. lymph Dice: 0.34193310141563416\n"
     ]
    },
    {
     "name": "stderr",
     "output_type": "stream",
     "text": [
      "Training (5319 / 18000 Steps) (loss=0.60027): 100%|██████████| 20/20 [00:22<00:00,  1.11s/it]\n",
      "Training (5339 / 18000 Steps) (loss=0.38667): 100%|██████████| 20/20 [00:11<00:00,  1.77it/s]\n",
      "Training (5359 / 18000 Steps) (loss=0.54701): 100%|██████████| 20/20 [00:11<00:00,  1.81it/s]\n",
      "Training (5379 / 18000 Steps) (loss=0.45222): 100%|██████████| 20/20 [00:11<00:00,  1.78it/s]\n",
      "Training (5399 / 18000 Steps) (loss=0.41979): 100%|██████████| 20/20 [00:11<00:00,  1.73it/s]\n",
      "Validate (5400 / 10 Steps): 100%|██████████| 7/7 [00:10<00:00,  1.50s/it]3<?, ?it/s]\n",
      "Training (5400 / 18000 Steps) (loss=0.43545):   5%|▌         | 1/20 [00:13<04:20, 13.74s/it]"
     ]
    },
    {
     "name": "stdout",
     "output_type": "stream",
     "text": [
      "Model Was Not Saved ! Current Best Avg. Dice: 0.3942584991455078 Current Avg. Dice: 0.36909106373786926 Current Avg. tumor Dice: 0.41015973687171936 Current Avg. lymph Dice: 0.32802239060401917\n"
     ]
    },
    {
     "name": "stderr",
     "output_type": "stream",
     "text": [
      "Training (5419 / 18000 Steps) (loss=0.50906): 100%|██████████| 20/20 [00:21<00:00,  1.09s/it]\n",
      "Training (5439 / 18000 Steps) (loss=0.39505): 100%|██████████| 20/20 [00:11<00:00,  1.77it/s]\n",
      "Training (5459 / 18000 Steps) (loss=0.37466): 100%|██████████| 20/20 [00:11<00:00,  1.74it/s]\n",
      "Training (5479 / 18000 Steps) (loss=0.62920): 100%|██████████| 20/20 [00:11<00:00,  1.76it/s]\n",
      "Training (5499 / 18000 Steps) (loss=0.43210): 100%|██████████| 20/20 [00:11<00:00,  1.74it/s]\n",
      "Validate (5500 / 10 Steps): 100%|██████████| 7/7 [00:10<00:00,  1.50s/it]3<?, ?it/s]\n",
      "Training (5500 / 18000 Steps) (loss=0.42706):   5%|▌         | 1/20 [00:13<04:23, 13.85s/it]"
     ]
    },
    {
     "name": "stdout",
     "output_type": "stream",
     "text": [
      "Model Was Not Saved ! Current Best Avg. Dice: 0.3942584991455078 Current Avg. Dice: 0.35730165243148804 Current Avg. tumor Dice: 0.3851688802242279 Current Avg. lymph Dice: 0.32943442463874817\n"
     ]
    },
    {
     "name": "stderr",
     "output_type": "stream",
     "text": [
      "Training (5519 / 18000 Steps) (loss=0.45218): 100%|██████████| 20/20 [00:21<00:00,  1.09s/it]\n",
      "Training (5539 / 18000 Steps) (loss=0.51265): 100%|██████████| 20/20 [00:11<00:00,  1.77it/s]\n",
      "Training (5559 / 18000 Steps) (loss=0.56617): 100%|██████████| 20/20 [00:11<00:00,  1.74it/s]\n",
      "Training (5579 / 18000 Steps) (loss=0.40698): 100%|██████████| 20/20 [00:11<00:00,  1.78it/s]\n",
      "Training (5599 / 18000 Steps) (loss=0.58605): 100%|██████████| 20/20 [00:11<00:00,  1.72it/s]\n",
      "Validate (5600 / 10 Steps): 100%|██████████| 7/7 [00:10<00:00,  1.50s/it]3<?, ?it/s]\n",
      "Training (5600 / 18000 Steps) (loss=0.49852):   5%|▌         | 1/20 [00:14<04:27, 14.07s/it]"
     ]
    },
    {
     "name": "stdout",
     "output_type": "stream",
     "text": [
      "Model Was Not Saved ! Current Best Avg. Dice: 0.3942584991455078 Current Avg. Dice: 0.37899303436279297 Current Avg. tumor Dice: 0.38794034719467163 Current Avg. lymph Dice: 0.3700457215309143\n"
     ]
    },
    {
     "name": "stderr",
     "output_type": "stream",
     "text": [
      "Training (5619 / 18000 Steps) (loss=0.48200): 100%|██████████| 20/20 [00:22<00:00,  1.10s/it]\n",
      "Training (5639 / 18000 Steps) (loss=0.46804): 100%|██████████| 20/20 [00:11<00:00,  1.74it/s]\n",
      "Training (5659 / 18000 Steps) (loss=0.48883): 100%|██████████| 20/20 [00:11<00:00,  1.73it/s]\n",
      "Training (5679 / 18000 Steps) (loss=0.53258): 100%|██████████| 20/20 [00:11<00:00,  1.75it/s]\n",
      "Training (5699 / 18000 Steps) (loss=0.41118): 100%|██████████| 20/20 [00:11<00:00,  1.78it/s]\n",
      "Validate (5700 / 10 Steps): 100%|██████████| 7/7 [00:10<00:00,  1.51s/it]2<?, ?it/s]\n",
      "Training (5700 / 18000 Steps) (loss=0.54550):   5%|▌         | 1/20 [00:13<04:17, 13.54s/it]"
     ]
    },
    {
     "name": "stdout",
     "output_type": "stream",
     "text": [
      "Model Was Not Saved ! Current Best Avg. Dice: 0.3942584991455078 Current Avg. Dice: 0.373424768447876 Current Avg. tumor Dice: 0.3738754093647003 Current Avg. lymph Dice: 0.3729741871356964\n"
     ]
    },
    {
     "name": "stderr",
     "output_type": "stream",
     "text": [
      "Training (5719 / 18000 Steps) (loss=0.44057): 100%|██████████| 20/20 [00:21<00:00,  1.08s/it]\n",
      "Training (5739 / 18000 Steps) (loss=0.52242): 100%|██████████| 20/20 [00:11<00:00,  1.75it/s]\n",
      "Training (5759 / 18000 Steps) (loss=0.51898): 100%|██████████| 20/20 [00:11<00:00,  1.79it/s]\n",
      "Training (5779 / 18000 Steps) (loss=0.52269): 100%|██████████| 20/20 [00:11<00:00,  1.76it/s]\n",
      "Training (5799 / 18000 Steps) (loss=0.45638): 100%|██████████| 20/20 [00:11<00:00,  1.79it/s]\n",
      "Validate (5800 / 10 Steps): 100%|██████████| 7/7 [00:10<00:00,  1.48s/it]3<?, ?it/s]\n",
      "Training (5800 / 18000 Steps) (loss=0.50671):   5%|▌         | 1/20 [00:13<04:21, 13.75s/it]"
     ]
    },
    {
     "name": "stdout",
     "output_type": "stream",
     "text": [
      "Model Was Not Saved ! Current Best Avg. Dice: 0.3942584991455078 Current Avg. Dice: 0.3497250974178314 Current Avg. tumor Dice: 0.3357146084308624 Current Avg. lymph Dice: 0.3637356162071228\n"
     ]
    },
    {
     "name": "stderr",
     "output_type": "stream",
     "text": [
      "Training (5819 / 18000 Steps) (loss=0.47996): 100%|██████████| 20/20 [00:21<00:00,  1.09s/it]\n",
      "Training (5839 / 18000 Steps) (loss=0.40714): 100%|██████████| 20/20 [00:11<00:00,  1.69it/s]\n",
      "Training (5859 / 18000 Steps) (loss=0.57891): 100%|██████████| 20/20 [00:11<00:00,  1.74it/s]\n",
      "Training (5879 / 18000 Steps) (loss=0.46606): 100%|██████████| 20/20 [00:11<00:00,  1.73it/s]\n",
      "Training (5899 / 18000 Steps) (loss=0.52477): 100%|██████████| 20/20 [00:11<00:00,  1.75it/s]\n",
      "Validate (5900 / 10 Steps): 100%|██████████| 7/7 [00:10<00:00,  1.48s/it]3<?, ?it/s]\n",
      "Training (5900 / 18000 Steps) (loss=0.50202):   5%|▌         | 1/20 [00:13<04:23, 13.86s/it]"
     ]
    },
    {
     "name": "stdout",
     "output_type": "stream",
     "text": [
      "Model Was Not Saved ! Current Best Avg. Dice: 0.3942584991455078 Current Avg. Dice: 0.37623897194862366 Current Avg. tumor Dice: 0.39659151434898376 Current Avg. lymph Dice: 0.35588642954826355\n"
     ]
    },
    {
     "name": "stderr",
     "output_type": "stream",
     "text": [
      "Training (5919 / 18000 Steps) (loss=0.59535): 100%|██████████| 20/20 [00:21<00:00,  1.09s/it]\n",
      "Training (5939 / 18000 Steps) (loss=0.51915): 100%|██████████| 20/20 [00:11<00:00,  1.79it/s]\n",
      "Training (5959 / 18000 Steps) (loss=0.51307): 100%|██████████| 20/20 [00:11<00:00,  1.78it/s]\n",
      "Training (5979 / 18000 Steps) (loss=0.38775): 100%|██████████| 20/20 [00:11<00:00,  1.73it/s]\n",
      "Training (5999 / 18000 Steps) (loss=0.58630): 100%|██████████| 20/20 [00:11<00:00,  1.78it/s]\n",
      "Validate (6000 / 10 Steps): 100%|██████████| 7/7 [00:10<00:00,  1.48s/it]3<?, ?it/s]\n",
      "Training (6000 / 18000 Steps) (loss=0.46389):   5%|▌         | 1/20 [00:13<04:23, 13.85s/it]"
     ]
    },
    {
     "name": "stdout",
     "output_type": "stream",
     "text": [
      "Model Was Not Saved ! Current Best Avg. Dice: 0.3942584991455078 Current Avg. Dice: 0.3525787889957428 Current Avg. tumor Dice: 0.3188380300998688 Current Avg. lymph Dice: 0.3863195776939392\n"
     ]
    },
    {
     "name": "stderr",
     "output_type": "stream",
     "text": [
      "Training (6019 / 18000 Steps) (loss=0.54814): 100%|██████████| 20/20 [00:21<00:00,  1.09s/it]\n",
      "Training (6039 / 18000 Steps) (loss=0.48154): 100%|██████████| 20/20 [00:11<00:00,  1.77it/s]\n",
      "Training (6059 / 18000 Steps) (loss=0.52377): 100%|██████████| 20/20 [00:10<00:00,  1.83it/s]\n",
      "Training (6079 / 18000 Steps) (loss=0.36460): 100%|██████████| 20/20 [00:11<00:00,  1.78it/s]\n",
      "Training (6099 / 18000 Steps) (loss=0.33853): 100%|██████████| 20/20 [00:11<00:00,  1.76it/s]\n",
      "Validate (6100 / 10 Steps): 100%|██████████| 7/7 [00:10<00:00,  1.50s/it]3<?, ?it/s]\n",
      "Training (6100 / 18000 Steps) (loss=0.53381):   5%|▌         | 1/20 [00:13<04:23, 13.85s/it]"
     ]
    },
    {
     "name": "stdout",
     "output_type": "stream",
     "text": [
      "Model Was Not Saved ! Current Best Avg. Dice: 0.3942584991455078 Current Avg. Dice: 0.38399192690849304 Current Avg. tumor Dice: 0.3840002417564392 Current Avg. lymph Dice: 0.3839835822582245\n"
     ]
    },
    {
     "name": "stderr",
     "output_type": "stream",
     "text": [
      "Training (6119 / 18000 Steps) (loss=0.35829): 100%|██████████| 20/20 [00:21<00:00,  1.09s/it]\n",
      "Training (6139 / 18000 Steps) (loss=0.36471): 100%|██████████| 20/20 [00:11<00:00,  1.78it/s]\n",
      "Training (6159 / 18000 Steps) (loss=0.49964): 100%|██████████| 20/20 [00:11<00:00,  1.75it/s]\n",
      "Training (6179 / 18000 Steps) (loss=0.48518): 100%|██████████| 20/20 [00:11<00:00,  1.80it/s]\n",
      "Training (6199 / 18000 Steps) (loss=0.32670): 100%|██████████| 20/20 [00:11<00:00,  1.72it/s]\n",
      "Validate (6200 / 10 Steps): 100%|██████████| 7/7 [00:10<00:00,  1.52s/it]3<?, ?it/s]\n",
      "Training (6200 / 18000 Steps) (loss=0.52515):   5%|▌         | 1/20 [00:14<04:27, 14.08s/it]"
     ]
    },
    {
     "name": "stdout",
     "output_type": "stream",
     "text": [
      "Model Was Not Saved ! Current Best Avg. Dice: 0.3942584991455078 Current Avg. Dice: 0.36615484952926636 Current Avg. tumor Dice: 0.41225549578666687 Current Avg. lymph Dice: 0.32005420327186584\n"
     ]
    },
    {
     "name": "stderr",
     "output_type": "stream",
     "text": [
      "Training (6219 / 18000 Steps) (loss=0.51341): 100%|██████████| 20/20 [00:22<00:00,  1.11s/it]\n",
      "Training (6239 / 18000 Steps) (loss=0.42080): 100%|██████████| 20/20 [00:11<00:00,  1.77it/s]\n",
      "Training (6259 / 18000 Steps) (loss=0.42805): 100%|██████████| 20/20 [00:11<00:00,  1.77it/s]\n",
      "Training (6279 / 18000 Steps) (loss=0.60833): 100%|██████████| 20/20 [00:12<00:00,  1.66it/s]\n",
      "Training (6299 / 18000 Steps) (loss=0.48836): 100%|██████████| 20/20 [00:11<00:00,  1.76it/s]\n",
      "Validate (6300 / 10 Steps): 100%|██████████| 7/7 [00:10<00:00,  1.48s/it]3<?, ?it/s]\n",
      "Training (6300 / 18000 Steps) (loss=0.46805):   5%|▌         | 1/20 [00:13<04:25, 13.96s/it]"
     ]
    },
    {
     "name": "stdout",
     "output_type": "stream",
     "text": [
      "Model Was Not Saved ! Current Best Avg. Dice: 0.3942584991455078 Current Avg. Dice: 0.3480696678161621 Current Avg. tumor Dice: 0.38727718591690063 Current Avg. lymph Dice: 0.3088621199131012\n"
     ]
    },
    {
     "name": "stderr",
     "output_type": "stream",
     "text": [
      "Training (6319 / 18000 Steps) (loss=0.43594): 100%|██████████| 20/20 [00:21<00:00,  1.10s/it]\n",
      "Training (6339 / 18000 Steps) (loss=0.61527): 100%|██████████| 20/20 [00:11<00:00,  1.72it/s]\n",
      "Training (6359 / 18000 Steps) (loss=0.33543): 100%|██████████| 20/20 [00:11<00:00,  1.81it/s]\n",
      "Training (6379 / 18000 Steps) (loss=0.49968): 100%|██████████| 20/20 [00:10<00:00,  1.82it/s]\n",
      "Training (6399 / 18000 Steps) (loss=0.42126): 100%|██████████| 20/20 [00:11<00:00,  1.72it/s]\n",
      "Validate (6400 / 10 Steps): 100%|██████████| 7/7 [00:10<00:00,  1.49s/it]3<?, ?it/s]\n",
      "Training (6400 / 18000 Steps) (loss=0.48229):   5%|▌         | 1/20 [00:13<04:20, 13.72s/it]"
     ]
    },
    {
     "name": "stdout",
     "output_type": "stream",
     "text": [
      "Model Was Not Saved ! Current Best Avg. Dice: 0.3942584991455078 Current Avg. Dice: 0.3875896632671356 Current Avg. tumor Dice: 0.39946767687797546 Current Avg. lymph Dice: 0.3757116198539734\n"
     ]
    },
    {
     "name": "stderr",
     "output_type": "stream",
     "text": [
      "Training (6419 / 18000 Steps) (loss=0.47342): 100%|██████████| 20/20 [00:21<00:00,  1.09s/it]\n",
      "Training (6439 / 18000 Steps) (loss=0.47638): 100%|██████████| 20/20 [00:11<00:00,  1.79it/s]\n",
      "Training (6459 / 18000 Steps) (loss=0.46453): 100%|██████████| 20/20 [00:11<00:00,  1.78it/s]\n",
      "Training (6479 / 18000 Steps) (loss=0.34170): 100%|██████████| 20/20 [00:11<00:00,  1.73it/s]\n",
      "Training (6499 / 18000 Steps) (loss=0.58616): 100%|██████████| 20/20 [00:11<00:00,  1.79it/s]\n",
      "Validate (6500 / 10 Steps): 100%|██████████| 7/7 [00:10<00:00,  1.48s/it]3<?, ?it/s]\n",
      "Training (6500 / 18000 Steps) (loss=0.44322):   5%|▌         | 1/20 [00:14<04:34, 14.44s/it]"
     ]
    },
    {
     "name": "stdout",
     "output_type": "stream",
     "text": [
      "Model Was Saved ! Current Best Avg. Dice: 0.39517083764076233 Current Avg. Dice: 0.39517083764076233 Current Avg. tumor Dice: 0.40437793731689453 Current Avg. lymph Dice: 0.3859637379646301\n"
     ]
    },
    {
     "name": "stderr",
     "output_type": "stream",
     "text": [
      "Training (6519 / 18000 Steps) (loss=0.40255): 100%|██████████| 20/20 [00:22<00:00,  1.12s/it]\n",
      "Training (6539 / 18000 Steps) (loss=0.54633): 100%|██████████| 20/20 [00:11<00:00,  1.78it/s]\n",
      "Training (6559 / 18000 Steps) (loss=0.51619): 100%|██████████| 20/20 [00:11<00:00,  1.75it/s]\n",
      "Training (6579 / 18000 Steps) (loss=0.42166): 100%|██████████| 20/20 [00:11<00:00,  1.81it/s]\n",
      "Training (6599 / 18000 Steps) (loss=0.47298): 100%|██████████| 20/20 [00:11<00:00,  1.80it/s]\n",
      "Validate (6600 / 10 Steps): 100%|██████████| 7/7 [00:10<00:00,  1.50s/it]3<?, ?it/s]\n",
      "Training (6600 / 18000 Steps) (loss=0.49214):   5%|▌         | 1/20 [00:14<04:27, 14.07s/it]"
     ]
    },
    {
     "name": "stdout",
     "output_type": "stream",
     "text": [
      "Model Was Not Saved ! Current Best Avg. Dice: 0.39517083764076233 Current Avg. Dice: 0.3551507890224457 Current Avg. tumor Dice: 0.33745077252388 Current Avg. lymph Dice: 0.37285086512565613\n"
     ]
    },
    {
     "name": "stderr",
     "output_type": "stream",
     "text": [
      "Training (6619 / 18000 Steps) (loss=0.55203): 100%|██████████| 20/20 [00:22<00:00,  1.10s/it]\n",
      "Training (6639 / 18000 Steps) (loss=0.50619): 100%|██████████| 20/20 [00:11<00:00,  1.78it/s]\n",
      "Training (6659 / 18000 Steps) (loss=0.45981): 100%|██████████| 20/20 [00:11<00:00,  1.75it/s]\n",
      "Training (6679 / 18000 Steps) (loss=0.32516): 100%|██████████| 20/20 [00:11<00:00,  1.72it/s]\n",
      "Training (6699 / 18000 Steps) (loss=0.49452): 100%|██████████| 20/20 [00:11<00:00,  1.73it/s]\n",
      "Validate (6700 / 10 Steps): 100%|██████████| 7/7 [00:10<00:00,  1.53s/it]3<?, ?it/s]\n",
      "Training (6700 / 18000 Steps) (loss=0.52557):   5%|▌         | 1/20 [00:14<04:42, 14.85s/it]"
     ]
    },
    {
     "name": "stdout",
     "output_type": "stream",
     "text": [
      "Model Was Saved ! Current Best Avg. Dice: 0.4043511748313904 Current Avg. Dice: 0.4043511748313904 Current Avg. tumor Dice: 0.4146695137023926 Current Avg. lymph Dice: 0.394032746553421\n"
     ]
    },
    {
     "name": "stderr",
     "output_type": "stream",
     "text": [
      "Training (6719 / 18000 Steps) (loss=0.39987): 100%|██████████| 20/20 [00:22<00:00,  1.14s/it]\n",
      "Training (6739 / 18000 Steps) (loss=0.53757): 100%|██████████| 20/20 [00:11<00:00,  1.75it/s]\n",
      "Training (6759 / 18000 Steps) (loss=0.43083): 100%|██████████| 20/20 [00:11<00:00,  1.77it/s]\n",
      "Training (6779 / 18000 Steps) (loss=0.60997): 100%|██████████| 20/20 [00:11<00:00,  1.77it/s]\n",
      "Training (6799 / 18000 Steps) (loss=0.59724): 100%|██████████| 20/20 [00:11<00:00,  1.81it/s]\n",
      "Validate (6800 / 10 Steps): 100%|██████████| 7/7 [00:10<00:00,  1.50s/it]3<?, ?it/s]\n",
      "Training (6800 / 18000 Steps) (loss=0.57699):   5%|▌         | 1/20 [00:13<04:20, 13.73s/it]"
     ]
    },
    {
     "name": "stdout",
     "output_type": "stream",
     "text": [
      "Model Was Not Saved ! Current Best Avg. Dice: 0.4043511748313904 Current Avg. Dice: 0.3237953782081604 Current Avg. tumor Dice: 0.34246593713760376 Current Avg. lymph Dice: 0.30512481927871704\n"
     ]
    },
    {
     "name": "stderr",
     "output_type": "stream",
     "text": [
      "Training (6819 / 18000 Steps) (loss=0.59827): 100%|██████████| 20/20 [00:21<00:00,  1.08s/it]\n",
      "Training (6839 / 18000 Steps) (loss=0.53610): 100%|██████████| 20/20 [00:11<00:00,  1.78it/s]\n",
      "Training (6859 / 18000 Steps) (loss=0.55946): 100%|██████████| 20/20 [00:11<00:00,  1.78it/s]\n",
      "Training (6879 / 18000 Steps) (loss=0.47043): 100%|██████████| 20/20 [00:11<00:00,  1.75it/s]\n",
      "Training (6899 / 18000 Steps) (loss=0.50506): 100%|██████████| 20/20 [00:11<00:00,  1.72it/s]\n",
      "Validate (6900 / 10 Steps): 100%|██████████| 7/7 [00:10<00:00,  1.50s/it]3<?, ?it/s]\n",
      "Training (6900 / 18000 Steps) (loss=0.47763):   5%|▌         | 1/20 [00:13<04:24, 13.90s/it]"
     ]
    },
    {
     "name": "stdout",
     "output_type": "stream",
     "text": [
      "Model Was Not Saved ! Current Best Avg. Dice: 0.4043511748313904 Current Avg. Dice: 0.39992281794548035 Current Avg. tumor Dice: 0.3906468451023102 Current Avg. lymph Dice: 0.4091988205909729\n"
     ]
    },
    {
     "name": "stderr",
     "output_type": "stream",
     "text": [
      "Training (6919 / 18000 Steps) (loss=0.38013): 100%|██████████| 20/20 [00:22<00:00,  1.10s/it]\n",
      "Training (6939 / 18000 Steps) (loss=0.60465): 100%|██████████| 20/20 [00:11<00:00,  1.75it/s]\n",
      "Training (6959 / 18000 Steps) (loss=0.44276): 100%|██████████| 20/20 [00:11<00:00,  1.76it/s]\n",
      "Training (6979 / 18000 Steps) (loss=0.36377): 100%|██████████| 20/20 [00:11<00:00,  1.79it/s]\n",
      "Training (6999 / 18000 Steps) (loss=0.48615): 100%|██████████| 20/20 [00:11<00:00,  1.81it/s]\n",
      "Validate (7000 / 10 Steps): 100%|██████████| 7/7 [00:10<00:00,  1.49s/it]3<?, ?it/s]\n",
      "Training (7000 / 18000 Steps) (loss=0.46289):   5%|▌         | 1/20 [00:13<04:25, 14.00s/it]"
     ]
    },
    {
     "name": "stdout",
     "output_type": "stream",
     "text": [
      "Model Was Not Saved ! Current Best Avg. Dice: 0.4043511748313904 Current Avg. Dice: 0.3695642054080963 Current Avg. tumor Dice: 0.3463440537452698 Current Avg. lymph Dice: 0.39278438687324524\n"
     ]
    },
    {
     "name": "stderr",
     "output_type": "stream",
     "text": [
      "Training (7019 / 18000 Steps) (loss=0.45629): 100%|██████████| 20/20 [00:21<00:00,  1.10s/it]\n",
      "Training (7039 / 18000 Steps) (loss=0.46828): 100%|██████████| 20/20 [00:11<00:00,  1.79it/s]\n",
      "Training (7059 / 18000 Steps) (loss=0.57027): 100%|██████████| 20/20 [00:11<00:00,  1.76it/s]\n",
      "Training (7079 / 18000 Steps) (loss=0.46041): 100%|██████████| 20/20 [00:11<00:00,  1.79it/s]\n",
      "Training (7099 / 18000 Steps) (loss=0.51434): 100%|██████████| 20/20 [00:11<00:00,  1.73it/s]\n",
      "Validate (7100 / 10 Steps): 100%|██████████| 7/7 [00:10<00:00,  1.50s/it]3<?, ?it/s]\n",
      "Training (7100 / 18000 Steps) (loss=0.58623):   5%|▌         | 1/20 [00:13<04:20, 13.69s/it]"
     ]
    },
    {
     "name": "stdout",
     "output_type": "stream",
     "text": [
      "Model Was Not Saved ! Current Best Avg. Dice: 0.4043511748313904 Current Avg. Dice: 0.4039514362812042 Current Avg. tumor Dice: 0.4294523596763611 Current Avg. lymph Dice: 0.37845054268836975\n"
     ]
    },
    {
     "name": "stderr",
     "output_type": "stream",
     "text": [
      "Training (7119 / 18000 Steps) (loss=0.41525): 100%|██████████| 20/20 [00:21<00:00,  1.08s/it]\n",
      "Training (7139 / 18000 Steps) (loss=0.53177): 100%|██████████| 20/20 [00:11<00:00,  1.71it/s]\n",
      "Training (7159 / 18000 Steps) (loss=0.62220): 100%|██████████| 20/20 [00:11<00:00,  1.80it/s]\n",
      "Training (7179 / 18000 Steps) (loss=0.48908): 100%|██████████| 20/20 [00:11<00:00,  1.79it/s]\n",
      "Training (7199 / 18000 Steps) (loss=0.39703): 100%|██████████| 20/20 [00:11<00:00,  1.72it/s]\n",
      "Validate (7200 / 10 Steps): 100%|██████████| 7/7 [00:10<00:00,  1.51s/it]3<?, ?it/s]\n",
      "Training (7200 / 18000 Steps) (loss=0.50144):   5%|▌         | 1/20 [00:14<04:26, 14.04s/it]"
     ]
    },
    {
     "name": "stdout",
     "output_type": "stream",
     "text": [
      "Model Was Not Saved ! Current Best Avg. Dice: 0.4043511748313904 Current Avg. Dice: 0.40416812896728516 Current Avg. tumor Dice: 0.42178019881248474 Current Avg. lymph Dice: 0.3865559697151184\n"
     ]
    },
    {
     "name": "stderr",
     "output_type": "stream",
     "text": [
      "Training (7219 / 18000 Steps) (loss=0.50633): 100%|██████████| 20/20 [00:22<00:00,  1.10s/it]\n",
      "Training (7239 / 18000 Steps) (loss=0.53194): 100%|██████████| 20/20 [00:11<00:00,  1.72it/s]\n",
      "Training (7259 / 18000 Steps) (loss=0.46029): 100%|██████████| 20/20 [00:11<00:00,  1.70it/s]\n",
      "Training (7279 / 18000 Steps) (loss=0.49663): 100%|██████████| 20/20 [00:11<00:00,  1.76it/s]\n",
      "Training (7299 / 18000 Steps) (loss=0.46690): 100%|██████████| 20/20 [00:11<00:00,  1.78it/s]\n",
      "Validate (7300 / 10 Steps): 100%|██████████| 7/7 [00:10<00:00,  1.50s/it]3<?, ?it/s]\n",
      "Training (7300 / 18000 Steps) (loss=0.39564):   5%|▌         | 1/20 [00:13<04:18, 13.60s/it]"
     ]
    },
    {
     "name": "stdout",
     "output_type": "stream",
     "text": [
      "Model Was Not Saved ! Current Best Avg. Dice: 0.4043511748313904 Current Avg. Dice: 0.39823347330093384 Current Avg. tumor Dice: 0.39668092131614685 Current Avg. lymph Dice: 0.39978596568107605\n"
     ]
    },
    {
     "name": "stderr",
     "output_type": "stream",
     "text": [
      "Training (7319 / 18000 Steps) (loss=0.56938): 100%|██████████| 20/20 [00:21<00:00,  1.08s/it]\n",
      "Training (7339 / 18000 Steps) (loss=0.37677): 100%|██████████| 20/20 [00:10<00:00,  1.82it/s]\n",
      "Training (7359 / 18000 Steps) (loss=0.39171): 100%|██████████| 20/20 [00:11<00:00,  1.71it/s]\n",
      "Training (7379 / 18000 Steps) (loss=0.48236): 100%|██████████| 20/20 [00:11<00:00,  1.74it/s]\n",
      "Training (7399 / 18000 Steps) (loss=0.61159): 100%|██████████| 20/20 [00:11<00:00,  1.71it/s]\n",
      "Validate (7400 / 10 Steps): 100%|██████████| 7/7 [00:10<00:00,  1.50s/it]3<?, ?it/s]\n",
      "Training (7400 / 18000 Steps) (loss=0.54333):   5%|▌         | 1/20 [00:13<04:18, 13.62s/it]"
     ]
    },
    {
     "name": "stdout",
     "output_type": "stream",
     "text": [
      "Model Was Not Saved ! Current Best Avg. Dice: 0.4043511748313904 Current Avg. Dice: 0.38150903582572937 Current Avg. tumor Dice: 0.39282360672950745 Current Avg. lymph Dice: 0.3701944649219513\n"
     ]
    },
    {
     "name": "stderr",
     "output_type": "stream",
     "text": [
      "Training (7419 / 18000 Steps) (loss=0.40831): 100%|██████████| 20/20 [00:21<00:00,  1.08s/it]\n",
      "Training (7439 / 18000 Steps) (loss=0.48981): 100%|██████████| 20/20 [00:11<00:00,  1.73it/s]\n",
      "Training (7459 / 18000 Steps) (loss=0.50713): 100%|██████████| 20/20 [00:11<00:00,  1.77it/s]\n",
      "Training (7479 / 18000 Steps) (loss=0.42647): 100%|██████████| 20/20 [00:11<00:00,  1.74it/s]\n",
      "Training (7499 / 18000 Steps) (loss=0.44785): 100%|██████████| 20/20 [00:11<00:00,  1.78it/s]\n",
      "Validate (7500 / 10 Steps): 100%|██████████| 7/7 [00:10<00:00,  1.48s/it]3<?, ?it/s]\n",
      "Training (7500 / 18000 Steps) (loss=0.42151):   5%|▌         | 1/20 [00:13<04:25, 13.99s/it]"
     ]
    },
    {
     "name": "stdout",
     "output_type": "stream",
     "text": [
      "Model Was Not Saved ! Current Best Avg. Dice: 0.4043511748313904 Current Avg. Dice: 0.3977292478084564 Current Avg. tumor Dice: 0.41486644744873047 Current Avg. lymph Dice: 0.38059210777282715\n"
     ]
    },
    {
     "name": "stderr",
     "output_type": "stream",
     "text": [
      "Training (7519 / 18000 Steps) (loss=0.51904): 100%|██████████| 20/20 [00:21<00:00,  1.10s/it]\n",
      "Training (7539 / 18000 Steps) (loss=0.38176): 100%|██████████| 20/20 [00:11<00:00,  1.74it/s]\n",
      "Training (7559 / 18000 Steps) (loss=0.37317): 100%|██████████| 20/20 [00:11<00:00,  1.75it/s]\n",
      "Training (7579 / 18000 Steps) (loss=0.43956): 100%|██████████| 20/20 [00:11<00:00,  1.79it/s]\n",
      "Training (7599 / 18000 Steps) (loss=0.60490): 100%|██████████| 20/20 [00:11<00:00,  1.71it/s]\n",
      "Validate (7600 / 10 Steps): 100%|██████████| 7/7 [00:10<00:00,  1.55s/it]3<?, ?it/s]\n",
      "Training (7600 / 18000 Steps) (loss=0.56465):   5%|▌         | 1/20 [00:14<04:27, 14.10s/it]"
     ]
    },
    {
     "name": "stdout",
     "output_type": "stream",
     "text": [
      "Model Was Not Saved ! Current Best Avg. Dice: 0.4043511748313904 Current Avg. Dice: 0.38643309473991394 Current Avg. tumor Dice: 0.3923264443874359 Current Avg. lymph Dice: 0.38053974509239197\n"
     ]
    },
    {
     "name": "stderr",
     "output_type": "stream",
     "text": [
      "Training (7619 / 18000 Steps) (loss=0.50860): 100%|██████████| 20/20 [00:22<00:00,  1.11s/it]\n",
      "Training (7639 / 18000 Steps) (loss=0.40019): 100%|██████████| 20/20 [00:11<00:00,  1.80it/s]\n",
      "Training (7659 / 18000 Steps) (loss=0.49201): 100%|██████████| 20/20 [00:11<00:00,  1.81it/s]\n",
      "Training (7679 / 18000 Steps) (loss=0.54016): 100%|██████████| 20/20 [00:11<00:00,  1.77it/s]\n",
      "Training (7699 / 18000 Steps) (loss=0.43370): 100%|██████████| 20/20 [00:11<00:00,  1.78it/s]\n",
      "Validate (7700 / 10 Steps): 100%|██████████| 7/7 [00:10<00:00,  1.51s/it]3<?, ?it/s]\n",
      "Training (7700 / 18000 Steps) (loss=0.57368):   5%|▌         | 1/20 [00:14<04:40, 14.74s/it]"
     ]
    },
    {
     "name": "stdout",
     "output_type": "stream",
     "text": [
      "Model Was Saved ! Current Best Avg. Dice: 0.430745929479599 Current Avg. Dice: 0.430745929479599 Current Avg. tumor Dice: 0.45850488543510437 Current Avg. lymph Dice: 0.402987003326416\n"
     ]
    },
    {
     "name": "stderr",
     "output_type": "stream",
     "text": [
      "Training (7719 / 18000 Steps) (loss=0.47641): 100%|██████████| 20/20 [00:22<00:00,  1.14s/it]\n",
      "Training (7739 / 18000 Steps) (loss=0.48632): 100%|██████████| 20/20 [00:11<00:00,  1.75it/s]\n",
      "Training (7759 / 18000 Steps) (loss=0.44748): 100%|██████████| 20/20 [00:11<00:00,  1.79it/s]\n",
      "Training (7779 / 18000 Steps) (loss=0.32398): 100%|██████████| 20/20 [00:11<00:00,  1.81it/s]\n",
      "Training (7799 / 18000 Steps) (loss=0.30841): 100%|██████████| 20/20 [00:11<00:00,  1.76it/s]\n",
      "Validate (7800 / 10 Steps): 100%|██████████| 7/7 [00:10<00:00,  1.50s/it]3<?, ?it/s]\n",
      "Training (7800 / 18000 Steps) (loss=0.43181):   5%|▌         | 1/20 [00:13<04:22, 13.81s/it]"
     ]
    },
    {
     "name": "stdout",
     "output_type": "stream",
     "text": [
      "Model Was Not Saved ! Current Best Avg. Dice: 0.430745929479599 Current Avg. Dice: 0.3849967420101166 Current Avg. tumor Dice: 0.39264965057373047 Current Avg. lymph Dice: 0.37734392285346985\n"
     ]
    },
    {
     "name": "stderr",
     "output_type": "stream",
     "text": [
      "Training (7819 / 18000 Steps) (loss=0.35726): 100%|██████████| 20/20 [00:21<00:00,  1.09s/it]\n",
      "Training (7839 / 18000 Steps) (loss=0.32242): 100%|██████████| 20/20 [00:11<00:00,  1.77it/s]\n",
      "Training (7859 / 18000 Steps) (loss=0.36348): 100%|██████████| 20/20 [00:11<00:00,  1.78it/s]\n",
      "Training (7879 / 18000 Steps) (loss=0.39003): 100%|██████████| 20/20 [00:11<00:00,  1.74it/s]\n",
      "Training (7899 / 18000 Steps) (loss=0.47824): 100%|██████████| 20/20 [00:11<00:00,  1.81it/s]\n",
      "Validate (7900 / 10 Steps): 100%|██████████| 7/7 [00:10<00:00,  1.49s/it]3<?, ?it/s]\n",
      "Training (7900 / 18000 Steps) (loss=0.47433):   5%|▌         | 1/20 [00:13<04:17, 13.58s/it]"
     ]
    },
    {
     "name": "stdout",
     "output_type": "stream",
     "text": [
      "Model Was Not Saved ! Current Best Avg. Dice: 0.430745929479599 Current Avg. Dice: 0.3963383734226227 Current Avg. tumor Dice: 0.4006352424621582 Current Avg. lymph Dice: 0.39204150438308716\n"
     ]
    },
    {
     "name": "stderr",
     "output_type": "stream",
     "text": [
      "Training (7919 / 18000 Steps) (loss=0.47103): 100%|██████████| 20/20 [00:21<00:00,  1.08s/it]\n",
      "Training (7939 / 18000 Steps) (loss=0.45237): 100%|██████████| 20/20 [00:11<00:00,  1.77it/s]\n",
      "Training (7959 / 18000 Steps) (loss=0.34236): 100%|██████████| 20/20 [00:11<00:00,  1.77it/s]\n",
      "Training (7979 / 18000 Steps) (loss=0.46296): 100%|██████████| 20/20 [00:11<00:00,  1.78it/s]\n",
      "Training (7999 / 18000 Steps) (loss=0.32945): 100%|██████████| 20/20 [00:11<00:00,  1.79it/s]\n",
      "Validate (8000 / 10 Steps): 100%|██████████| 7/7 [00:10<00:00,  1.52s/it]3<?, ?it/s]\n",
      "Training (8000 / 18000 Steps) (loss=0.54868):   5%|▌         | 1/20 [00:13<04:23, 13.87s/it]"
     ]
    },
    {
     "name": "stdout",
     "output_type": "stream",
     "text": [
      "Model Was Not Saved ! Current Best Avg. Dice: 0.430745929479599 Current Avg. Dice: 0.39120641350746155 Current Avg. tumor Dice: 0.3794392943382263 Current Avg. lymph Dice: 0.40297356247901917\n"
     ]
    },
    {
     "name": "stderr",
     "output_type": "stream",
     "text": [
      "Training (8019 / 18000 Steps) (loss=0.34629): 100%|██████████| 20/20 [00:21<00:00,  1.10s/it]\n",
      "Training (8039 / 18000 Steps) (loss=0.36173): 100%|██████████| 20/20 [00:11<00:00,  1.76it/s]\n",
      "Training (8059 / 18000 Steps) (loss=0.35941): 100%|██████████| 20/20 [00:11<00:00,  1.77it/s]\n",
      "Training (8079 / 18000 Steps) (loss=0.55838): 100%|██████████| 20/20 [00:11<00:00,  1.76it/s]\n",
      "Training (8099 / 18000 Steps) (loss=0.38313): 100%|██████████| 20/20 [00:11<00:00,  1.74it/s]\n",
      "Validate (8100 / 10 Steps): 100%|██████████| 7/7 [00:10<00:00,  1.52s/it]3<?, ?it/s]\n",
      "Training (8100 / 18000 Steps) (loss=0.40685):   5%|▌         | 1/20 [00:14<04:27, 14.10s/it]"
     ]
    },
    {
     "name": "stdout",
     "output_type": "stream",
     "text": [
      "Model Was Not Saved ! Current Best Avg. Dice: 0.430745929479599 Current Avg. Dice: 0.4129469096660614 Current Avg. tumor Dice: 0.3966650664806366 Current Avg. lymph Dice: 0.4292287826538086\n"
     ]
    },
    {
     "name": "stderr",
     "output_type": "stream",
     "text": [
      "Training (8119 / 18000 Steps) (loss=0.34584): 100%|██████████| 20/20 [00:22<00:00,  1.11s/it]\n",
      "Training (8139 / 18000 Steps) (loss=0.43725): 100%|██████████| 20/20 [00:11<00:00,  1.80it/s]\n",
      "Training (8159 / 18000 Steps) (loss=0.43349): 100%|██████████| 20/20 [00:11<00:00,  1.72it/s]\n",
      "Training (8179 / 18000 Steps) (loss=0.48877): 100%|██████████| 20/20 [00:11<00:00,  1.80it/s]\n",
      "Training (8199 / 18000 Steps) (loss=0.54119): 100%|██████████| 20/20 [00:11<00:00,  1.76it/s]\n",
      "Validate (8200 / 10 Steps): 100%|██████████| 7/7 [00:10<00:00,  1.51s/it]3<?, ?it/s]\n",
      "Training (8200 / 18000 Steps) (loss=0.48512):   5%|▌         | 1/20 [00:13<04:21, 13.77s/it]"
     ]
    },
    {
     "name": "stdout",
     "output_type": "stream",
     "text": [
      "Model Was Not Saved ! Current Best Avg. Dice: 0.430745929479599 Current Avg. Dice: 0.4072313606739044 Current Avg. tumor Dice: 0.4130078852176666 Current Avg. lymph Dice: 0.4014548659324646\n"
     ]
    },
    {
     "name": "stderr",
     "output_type": "stream",
     "text": [
      "Training (8219 / 18000 Steps) (loss=0.45255): 100%|██████████| 20/20 [00:21<00:00,  1.10s/it]\n",
      "Training (8239 / 18000 Steps) (loss=0.44925): 100%|██████████| 20/20 [00:11<00:00,  1.69it/s]\n",
      "Training (8259 / 18000 Steps) (loss=0.53014): 100%|██████████| 20/20 [00:11<00:00,  1.74it/s]\n",
      "Training (8279 / 18000 Steps) (loss=0.53000): 100%|██████████| 20/20 [00:11<00:00,  1.77it/s]\n",
      "Training (8299 / 18000 Steps) (loss=0.45029): 100%|██████████| 20/20 [00:11<00:00,  1.77it/s]\n",
      "Validate (8300 / 10 Steps): 100%|██████████| 7/7 [00:10<00:00,  1.50s/it]3<?, ?it/s]\n",
      "Training (8300 / 18000 Steps) (loss=0.45846):   5%|▌         | 1/20 [00:13<04:19, 13.64s/it]"
     ]
    },
    {
     "name": "stdout",
     "output_type": "stream",
     "text": [
      "Model Was Not Saved ! Current Best Avg. Dice: 0.430745929479599 Current Avg. Dice: 0.39672136306762695 Current Avg. tumor Dice: 0.3871731162071228 Current Avg. lymph Dice: 0.4062696397304535\n"
     ]
    },
    {
     "name": "stderr",
     "output_type": "stream",
     "text": [
      "Training (8319 / 18000 Steps) (loss=0.43484): 100%|██████████| 20/20 [00:21<00:00,  1.08s/it]\n",
      "Training (8339 / 18000 Steps) (loss=0.38664): 100%|██████████| 20/20 [00:11<00:00,  1.73it/s]\n",
      "Training (8359 / 18000 Steps) (loss=0.39488): 100%|██████████| 20/20 [00:11<00:00,  1.76it/s]\n",
      "Training (8379 / 18000 Steps) (loss=0.41869): 100%|██████████| 20/20 [00:11<00:00,  1.80it/s]\n",
      "Training (8399 / 18000 Steps) (loss=0.45393): 100%|██████████| 20/20 [00:11<00:00,  1.77it/s]\n",
      "Validate (8400 / 10 Steps): 100%|██████████| 7/7 [00:10<00:00,  1.49s/it]3<?, ?it/s]\n",
      "Training (8400 / 18000 Steps) (loss=0.39393):   5%|▌         | 1/20 [00:13<04:24, 13.91s/it]"
     ]
    },
    {
     "name": "stdout",
     "output_type": "stream",
     "text": [
      "Model Was Not Saved ! Current Best Avg. Dice: 0.430745929479599 Current Avg. Dice: 0.40517371892929077 Current Avg. tumor Dice: 0.4026596248149872 Current Avg. lymph Dice: 0.40768781304359436\n"
     ]
    },
    {
     "name": "stderr",
     "output_type": "stream",
     "text": [
      "Training (8419 / 18000 Steps) (loss=0.56094): 100%|██████████| 20/20 [00:21<00:00,  1.10s/it]\n",
      "Training (8439 / 18000 Steps) (loss=0.45628): 100%|██████████| 20/20 [00:11<00:00,  1.74it/s]\n",
      "Training (8459 / 18000 Steps) (loss=0.53304): 100%|██████████| 20/20 [00:11<00:00,  1.78it/s]\n",
      "Training (8479 / 18000 Steps) (loss=0.56516): 100%|██████████| 20/20 [00:12<00:00,  1.66it/s]\n",
      "Training (8499 / 18000 Steps) (loss=0.43233): 100%|██████████| 20/20 [00:11<00:00,  1.79it/s]\n",
      "Validate (8500 / 10 Steps): 100%|██████████| 7/7 [00:10<00:00,  1.50s/it]3<?, ?it/s]\n",
      "Training (8500 / 18000 Steps) (loss=0.49440):   5%|▌         | 1/20 [00:13<04:24, 13.93s/it]"
     ]
    },
    {
     "name": "stdout",
     "output_type": "stream",
     "text": [
      "Model Was Not Saved ! Current Best Avg. Dice: 0.430745929479599 Current Avg. Dice: 0.39201512932777405 Current Avg. tumor Dice: 0.3770272433757782 Current Avg. lymph Dice: 0.4070030152797699\n"
     ]
    },
    {
     "name": "stderr",
     "output_type": "stream",
     "text": [
      "Training (8519 / 18000 Steps) (loss=0.41073): 100%|██████████| 20/20 [00:21<00:00,  1.10s/it]\n",
      "Training (8539 / 18000 Steps) (loss=0.55198): 100%|██████████| 20/20 [00:11<00:00,  1.75it/s]\n",
      "Training (8559 / 18000 Steps) (loss=0.38017): 100%|██████████| 20/20 [00:11<00:00,  1.72it/s]\n",
      "Training (8579 / 18000 Steps) (loss=0.47063): 100%|██████████| 20/20 [00:11<00:00,  1.79it/s]\n",
      "Training (8599 / 18000 Steps) (loss=0.50876): 100%|██████████| 20/20 [00:11<00:00,  1.75it/s]\n",
      "Validate (8600 / 10 Steps): 100%|██████████| 7/7 [00:10<00:00,  1.52s/it]3<?, ?it/s]\n",
      "Training (8600 / 18000 Steps) (loss=0.51924):   5%|▌         | 1/20 [00:13<04:20, 13.71s/it]"
     ]
    },
    {
     "name": "stdout",
     "output_type": "stream",
     "text": [
      "Model Was Not Saved ! Current Best Avg. Dice: 0.430745929479599 Current Avg. Dice: 0.4228849411010742 Current Avg. tumor Dice: 0.45000383257865906 Current Avg. lymph Dice: 0.39576610922813416\n"
     ]
    },
    {
     "name": "stderr",
     "output_type": "stream",
     "text": [
      "Training (8619 / 18000 Steps) (loss=0.48406): 100%|██████████| 20/20 [00:21<00:00,  1.09s/it]\n",
      "Training (8639 / 18000 Steps) (loss=0.48020): 100%|██████████| 20/20 [00:11<00:00,  1.81it/s]\n",
      "Training (8659 / 18000 Steps) (loss=0.45103): 100%|██████████| 20/20 [00:11<00:00,  1.80it/s]\n",
      "Training (8679 / 18000 Steps) (loss=0.52562): 100%|██████████| 20/20 [00:11<00:00,  1.76it/s]\n",
      "Training (8699 / 18000 Steps) (loss=0.50485): 100%|██████████| 20/20 [00:11<00:00,  1.78it/s]\n",
      "Validate (8700 / 10 Steps): 100%|██████████| 7/7 [00:10<00:00,  1.50s/it]3<?, ?it/s]\n",
      "Training (8700 / 18000 Steps) (loss=0.44403):   5%|▌         | 1/20 [00:13<04:19, 13.65s/it]"
     ]
    },
    {
     "name": "stdout",
     "output_type": "stream",
     "text": [
      "Model Was Not Saved ! Current Best Avg. Dice: 0.430745929479599 Current Avg. Dice: 0.3902641832828522 Current Avg. tumor Dice: 0.35581833124160767 Current Avg. lymph Dice: 0.42471009492874146\n"
     ]
    },
    {
     "name": "stderr",
     "output_type": "stream",
     "text": [
      "Training (8719 / 18000 Steps) (loss=0.61674): 100%|██████████| 20/20 [00:21<00:00,  1.08s/it]\n",
      "Training (8739 / 18000 Steps) (loss=0.40201): 100%|██████████| 20/20 [00:11<00:00,  1.72it/s]\n",
      "Training (8759 / 18000 Steps) (loss=0.49989): 100%|██████████| 20/20 [00:11<00:00,  1.76it/s]\n",
      "Training (8779 / 18000 Steps) (loss=0.37549): 100%|██████████| 20/20 [00:11<00:00,  1.75it/s]\n",
      "Training (8799 / 18000 Steps) (loss=0.43190): 100%|██████████| 20/20 [00:11<00:00,  1.78it/s]\n",
      "Validate (8800 / 10 Steps): 100%|██████████| 7/7 [00:10<00:00,  1.48s/it]3<?, ?it/s]\n",
      "Training (8800 / 18000 Steps) (loss=0.37790):   5%|▌         | 1/20 [00:14<04:27, 14.08s/it]"
     ]
    },
    {
     "name": "stdout",
     "output_type": "stream",
     "text": [
      "Model Was Not Saved ! Current Best Avg. Dice: 0.430745929479599 Current Avg. Dice: 0.4040088653564453 Current Avg. tumor Dice: 0.4224846065044403 Current Avg. lymph Dice: 0.3855331242084503\n"
     ]
    },
    {
     "name": "stderr",
     "output_type": "stream",
     "text": [
      "Training (8819 / 18000 Steps) (loss=0.31684): 100%|██████████| 20/20 [00:22<00:00,  1.10s/it]\n",
      "Training (8839 / 18000 Steps) (loss=0.52584): 100%|██████████| 20/20 [00:11<00:00,  1.77it/s]\n",
      "Training (8859 / 18000 Steps) (loss=0.43545): 100%|██████████| 20/20 [00:11<00:00,  1.77it/s]\n",
      "Training (8879 / 18000 Steps) (loss=0.32740): 100%|██████████| 20/20 [00:11<00:00,  1.74it/s]\n",
      "Training (8899 / 18000 Steps) (loss=0.46332): 100%|██████████| 20/20 [00:11<00:00,  1.77it/s]\n",
      "Validate (8900 / 10 Steps): 100%|██████████| 7/7 [00:10<00:00,  1.49s/it]3<?, ?it/s]\n",
      "Training (8900 / 18000 Steps) (loss=0.51153):   5%|▌         | 1/20 [00:13<04:24, 13.90s/it]"
     ]
    },
    {
     "name": "stdout",
     "output_type": "stream",
     "text": [
      "Model Was Not Saved ! Current Best Avg. Dice: 0.430745929479599 Current Avg. Dice: 0.3861829936504364 Current Avg. tumor Dice: 0.3872573673725128 Current Avg. lymph Dice: 0.38510861992836\n"
     ]
    },
    {
     "name": "stderr",
     "output_type": "stream",
     "text": [
      "Training (8919 / 18000 Steps) (loss=0.42814): 100%|██████████| 20/20 [00:21<00:00,  1.10s/it]\n",
      "Training (8939 / 18000 Steps) (loss=0.32491): 100%|██████████| 20/20 [00:11<00:00,  1.81it/s]\n",
      "Training (8959 / 18000 Steps) (loss=0.50518): 100%|██████████| 20/20 [00:11<00:00,  1.78it/s]\n",
      "Training (8979 / 18000 Steps) (loss=0.55096): 100%|██████████| 20/20 [00:11<00:00,  1.80it/s]\n",
      "Training (8999 / 18000 Steps) (loss=0.48622): 100%|██████████| 20/20 [00:10<00:00,  1.82it/s]\n",
      "Validate (9000 / 10 Steps): 100%|██████████| 7/7 [00:10<00:00,  1.50s/it]3<?, ?it/s]\n",
      "Training (9000 / 18000 Steps) (loss=0.41948):   5%|▌         | 1/20 [00:13<04:18, 13.59s/it]"
     ]
    },
    {
     "name": "stdout",
     "output_type": "stream",
     "text": [
      "Model Was Not Saved ! Current Best Avg. Dice: 0.430745929479599 Current Avg. Dice: 0.3825070559978485 Current Avg. tumor Dice: 0.3726743757724762 Current Avg. lymph Dice: 0.3923397660255432\n"
     ]
    },
    {
     "name": "stderr",
     "output_type": "stream",
     "text": [
      "Training (9019 / 18000 Steps) (loss=0.37504): 100%|██████████| 20/20 [00:21<00:00,  1.08s/it]\n",
      "Training (9039 / 18000 Steps) (loss=0.47080): 100%|██████████| 20/20 [00:11<00:00,  1.78it/s]\n",
      "Training (9059 / 18000 Steps) (loss=0.53655): 100%|██████████| 20/20 [00:11<00:00,  1.78it/s]\n",
      "Training (9079 / 18000 Steps) (loss=0.55719): 100%|██████████| 20/20 [00:11<00:00,  1.79it/s]\n",
      "Training (9099 / 18000 Steps) (loss=0.27780): 100%|██████████| 20/20 [00:11<00:00,  1.73it/s]\n",
      "Validate (9100 / 10 Steps): 100%|██████████| 7/7 [00:10<00:00,  1.50s/it]3<?, ?it/s]\n",
      "Training (9100 / 18000 Steps) (loss=0.41320):   5%|▌         | 1/20 [00:13<04:25, 13.98s/it]"
     ]
    },
    {
     "name": "stdout",
     "output_type": "stream",
     "text": [
      "Model Was Not Saved ! Current Best Avg. Dice: 0.430745929479599 Current Avg. Dice: 0.39269110560417175 Current Avg. tumor Dice: 0.4076434075832367 Current Avg. lymph Dice: 0.3777387738227844\n"
     ]
    },
    {
     "name": "stderr",
     "output_type": "stream",
     "text": [
      "Training (9119 / 18000 Steps) (loss=0.38317): 100%|██████████| 20/20 [00:22<00:00,  1.10s/it]\n",
      "Training (9139 / 18000 Steps) (loss=0.39829): 100%|██████████| 20/20 [00:11<00:00,  1.77it/s]\n",
      "Training (9159 / 18000 Steps) (loss=0.40930): 100%|██████████| 20/20 [00:11<00:00,  1.68it/s]\n",
      "Training (9179 / 18000 Steps) (loss=0.52015): 100%|██████████| 20/20 [00:11<00:00,  1.76it/s]\n",
      "Training (9199 / 18000 Steps) (loss=0.45206): 100%|██████████| 20/20 [00:11<00:00,  1.77it/s]\n",
      "Validate (9200 / 10 Steps): 100%|██████████| 7/7 [00:10<00:00,  1.48s/it]3<?, ?it/s]\n",
      "Training (9200 / 18000 Steps) (loss=0.54145):   5%|▌         | 1/20 [00:13<04:15, 13.45s/it]"
     ]
    },
    {
     "name": "stdout",
     "output_type": "stream",
     "text": [
      "Model Was Not Saved ! Current Best Avg. Dice: 0.430745929479599 Current Avg. Dice: 0.3937215507030487 Current Avg. tumor Dice: 0.36192503571510315 Current Avg. lymph Dice: 0.42551806569099426\n"
     ]
    },
    {
     "name": "stderr",
     "output_type": "stream",
     "text": [
      "Training (9219 / 18000 Steps) (loss=0.45104): 100%|██████████| 20/20 [00:21<00:00,  1.07s/it]\n",
      "Training (9239 / 18000 Steps) (loss=0.41058): 100%|██████████| 20/20 [00:11<00:00,  1.77it/s]\n",
      "Training (9259 / 18000 Steps) (loss=0.41869): 100%|██████████| 20/20 [00:11<00:00,  1.73it/s]\n",
      "Training (9279 / 18000 Steps) (loss=0.37764): 100%|██████████| 20/20 [00:11<00:00,  1.78it/s]\n",
      "Training (9299 / 18000 Steps) (loss=0.50516): 100%|██████████| 20/20 [00:11<00:00,  1.67it/s]\n",
      "Validate (9300 / 10 Steps): 100%|██████████| 7/7 [00:10<00:00,  1.50s/it]3<?, ?it/s]\n",
      "Training (9300 / 18000 Steps) (loss=0.54970):   5%|▌         | 1/20 [00:14<04:29, 14.20s/it]"
     ]
    },
    {
     "name": "stdout",
     "output_type": "stream",
     "text": [
      "Model Was Not Saved ! Current Best Avg. Dice: 0.430745929479599 Current Avg. Dice: 0.40397992730140686 Current Avg. tumor Dice: 0.41897153854370117 Current Avg. lymph Dice: 0.3889882564544678\n"
     ]
    },
    {
     "name": "stderr",
     "output_type": "stream",
     "text": [
      "Training (9319 / 18000 Steps) (loss=0.50655): 100%|██████████| 20/20 [00:22<00:00,  1.11s/it]\n",
      "Training (9339 / 18000 Steps) (loss=0.45373): 100%|██████████| 20/20 [00:11<00:00,  1.78it/s]\n",
      "Training (9359 / 18000 Steps) (loss=0.33492): 100%|██████████| 20/20 [00:11<00:00,  1.79it/s]\n",
      "Training (9379 / 18000 Steps) (loss=0.42963): 100%|██████████| 20/20 [00:11<00:00,  1.76it/s]\n",
      "Training (9399 / 18000 Steps) (loss=0.53133): 100%|██████████| 20/20 [00:11<00:00,  1.72it/s]\n",
      "Validate (9400 / 10 Steps): 100%|██████████| 7/7 [00:10<00:00,  1.50s/it]3<?, ?it/s]\n",
      "Training (9400 / 18000 Steps) (loss=0.50057):   5%|▌         | 1/20 [00:14<04:27, 14.09s/it]"
     ]
    },
    {
     "name": "stdout",
     "output_type": "stream",
     "text": [
      "Model Was Not Saved ! Current Best Avg. Dice: 0.430745929479599 Current Avg. Dice: 0.3816291391849518 Current Avg. tumor Dice: 0.37653711438179016 Current Avg. lymph Dice: 0.38672104477882385\n"
     ]
    },
    {
     "name": "stderr",
     "output_type": "stream",
     "text": [
      "Training (9419 / 18000 Steps) (loss=0.51918): 100%|██████████| 20/20 [00:22<00:00,  1.11s/it]\n",
      "Training (9439 / 18000 Steps) (loss=0.53350): 100%|██████████| 20/20 [00:11<00:00,  1.74it/s]\n",
      "Training (9459 / 18000 Steps) (loss=0.40885): 100%|██████████| 20/20 [00:11<00:00,  1.76it/s]\n",
      "Training (9479 / 18000 Steps) (loss=0.42153): 100%|██████████| 20/20 [00:11<00:00,  1.76it/s]\n",
      "Training (9499 / 18000 Steps) (loss=0.46191): 100%|██████████| 20/20 [00:11<00:00,  1.72it/s]\n",
      "Validate (9500 / 10 Steps): 100%|██████████| 7/7 [00:10<00:00,  1.49s/it]3<?, ?it/s]\n",
      "Training (9500 / 18000 Steps) (loss=0.37203):   5%|▌         | 1/20 [00:13<04:23, 13.88s/it]"
     ]
    },
    {
     "name": "stdout",
     "output_type": "stream",
     "text": [
      "Model Was Not Saved ! Current Best Avg. Dice: 0.430745929479599 Current Avg. Dice: 0.3505859375 Current Avg. tumor Dice: 0.37136444449424744 Current Avg. lymph Dice: 0.3298073410987854\n"
     ]
    },
    {
     "name": "stderr",
     "output_type": "stream",
     "text": [
      "Training (9519 / 18000 Steps) (loss=0.38400): 100%|██████████| 20/20 [00:21<00:00,  1.09s/it]\n",
      "Training (9539 / 18000 Steps) (loss=0.54395): 100%|██████████| 20/20 [00:11<00:00,  1.81it/s]\n",
      "Training (9559 / 18000 Steps) (loss=0.54380): 100%|██████████| 20/20 [00:11<00:00,  1.77it/s]\n",
      "Training (9579 / 18000 Steps) (loss=0.44467): 100%|██████████| 20/20 [00:11<00:00,  1.75it/s]\n",
      "Training (9599 / 18000 Steps) (loss=0.46863): 100%|██████████| 20/20 [00:11<00:00,  1.77it/s]\n",
      "Validate (9600 / 10 Steps): 100%|██████████| 7/7 [00:10<00:00,  1.52s/it]3<?, ?it/s]\n",
      "Training (9600 / 18000 Steps) (loss=0.27417):   5%|▌         | 1/20 [00:14<04:26, 14.05s/it]"
     ]
    },
    {
     "name": "stdout",
     "output_type": "stream",
     "text": [
      "Model Was Not Saved ! Current Best Avg. Dice: 0.430745929479599 Current Avg. Dice: 0.3990936279296875 Current Avg. tumor Dice: 0.4047962725162506 Current Avg. lymph Dice: 0.393390953540802\n"
     ]
    },
    {
     "name": "stderr",
     "output_type": "stream",
     "text": [
      "Training (9619 / 18000 Steps) (loss=0.62405): 100%|██████████| 20/20 [00:22<00:00,  1.11s/it]\n",
      "Training (9639 / 18000 Steps) (loss=0.56129): 100%|██████████| 20/20 [00:11<00:00,  1.78it/s]\n",
      "Training (9659 / 18000 Steps) (loss=0.35018): 100%|██████████| 20/20 [00:11<00:00,  1.78it/s]\n",
      "Training (9679 / 18000 Steps) (loss=0.55166): 100%|██████████| 20/20 [00:11<00:00,  1.78it/s]\n",
      "Training (9699 / 18000 Steps) (loss=0.44624): 100%|██████████| 20/20 [00:11<00:00,  1.78it/s]\n",
      "Validate (9700 / 10 Steps): 100%|██████████| 7/7 [00:10<00:00,  1.50s/it]3<?, ?it/s]\n",
      "Training (9700 / 18000 Steps) (loss=0.32844):   5%|▌         | 1/20 [00:13<04:25, 13.98s/it]"
     ]
    },
    {
     "name": "stdout",
     "output_type": "stream",
     "text": [
      "Model Was Not Saved ! Current Best Avg. Dice: 0.430745929479599 Current Avg. Dice: 0.3851514458656311 Current Avg. tumor Dice: 0.37633466720581055 Current Avg. lymph Dice: 0.39396828413009644\n"
     ]
    },
    {
     "name": "stderr",
     "output_type": "stream",
     "text": [
      "Training (9719 / 18000 Steps) (loss=0.50580): 100%|██████████| 20/20 [00:22<00:00,  1.10s/it]\n",
      "Training (9739 / 18000 Steps) (loss=0.34530): 100%|██████████| 20/20 [00:11<00:00,  1.79it/s]\n",
      "Training (9759 / 18000 Steps) (loss=0.32845): 100%|██████████| 20/20 [00:11<00:00,  1.81it/s]\n",
      "Training (9779 / 18000 Steps) (loss=0.33546): 100%|██████████| 20/20 [00:11<00:00,  1.77it/s]\n",
      "Training (9799 / 18000 Steps) (loss=0.50384): 100%|██████████| 20/20 [00:11<00:00,  1.80it/s]\n",
      "Validate (9800 / 10 Steps): 100%|██████████| 7/7 [00:10<00:00,  1.50s/it]3<?, ?it/s]\n",
      "Training (9800 / 18000 Steps) (loss=0.52430):   5%|▌         | 1/20 [00:13<04:19, 13.68s/it]"
     ]
    },
    {
     "name": "stdout",
     "output_type": "stream",
     "text": [
      "Model Was Not Saved ! Current Best Avg. Dice: 0.430745929479599 Current Avg. Dice: 0.4090504050254822 Current Avg. tumor Dice: 0.42695435881614685 Current Avg. lymph Dice: 0.39114639163017273\n"
     ]
    },
    {
     "name": "stderr",
     "output_type": "stream",
     "text": [
      "Training (9819 / 18000 Steps) (loss=0.28863): 100%|██████████| 20/20 [00:21<00:00,  1.09s/it]\n",
      "Training (9839 / 18000 Steps) (loss=0.48515): 100%|██████████| 20/20 [00:11<00:00,  1.74it/s]\n",
      "Training (9859 / 18000 Steps) (loss=0.33240): 100%|██████████| 20/20 [00:11<00:00,  1.76it/s]\n",
      "Training (9879 / 18000 Steps) (loss=0.37603): 100%|██████████| 20/20 [00:11<00:00,  1.78it/s]\n",
      "Training (9899 / 18000 Steps) (loss=0.40332): 100%|██████████| 20/20 [00:11<00:00,  1.76it/s]\n",
      "Validate (9900 / 10 Steps): 100%|██████████| 7/7 [00:10<00:00,  1.47s/it]3<?, ?it/s]\n",
      "Training (9900 / 18000 Steps) (loss=0.39677):   5%|▌         | 1/20 [00:14<04:26, 14.03s/it]"
     ]
    },
    {
     "name": "stdout",
     "output_type": "stream",
     "text": [
      "Model Was Not Saved ! Current Best Avg. Dice: 0.430745929479599 Current Avg. Dice: 0.4056759476661682 Current Avg. tumor Dice: 0.406321257352829 Current Avg. lymph Dice: 0.40503066778182983\n"
     ]
    },
    {
     "name": "stderr",
     "output_type": "stream",
     "text": [
      "Training (9919 / 18000 Steps) (loss=0.44518): 100%|██████████| 20/20 [00:22<00:00,  1.10s/it]\n",
      "Training (9939 / 18000 Steps) (loss=0.47487): 100%|██████████| 20/20 [00:11<00:00,  1.71it/s]\n",
      "Training (9959 / 18000 Steps) (loss=0.44034): 100%|██████████| 20/20 [00:11<00:00,  1.77it/s]\n",
      "Training (9979 / 18000 Steps) (loss=0.51389): 100%|██████████| 20/20 [00:11<00:00,  1.72it/s]\n",
      "Training (9999 / 18000 Steps) (loss=0.53742): 100%|██████████| 20/20 [00:11<00:00,  1.77it/s]\n",
      "Validate (10000 / 10 Steps): 100%|██████████| 7/7 [00:10<00:00,  1.50s/it]3<?, ?it/s]\n",
      "Training (10000 / 18000 Steps) (loss=0.38911):   5%|▌         | 1/20 [00:13<04:25, 13.97s/it]"
     ]
    },
    {
     "name": "stdout",
     "output_type": "stream",
     "text": [
      "Model Was Not Saved ! Current Best Avg. Dice: 0.430745929479599 Current Avg. Dice: 0.36631956696510315 Current Avg. tumor Dice: 0.39476218819618225 Current Avg. lymph Dice: 0.33787694573402405\n"
     ]
    },
    {
     "name": "stderr",
     "output_type": "stream",
     "text": [
      "Training (10019 / 18000 Steps) (loss=0.29345): 100%|██████████| 20/20 [00:21<00:00,  1.10s/it]\n",
      "Training (10039 / 18000 Steps) (loss=0.42596): 100%|██████████| 20/20 [00:11<00:00,  1.73it/s]\n",
      "Training (10059 / 18000 Steps) (loss=0.42055): 100%|██████████| 20/20 [00:11<00:00,  1.74it/s]\n",
      "Training (10079 / 18000 Steps) (loss=0.39163): 100%|██████████| 20/20 [00:11<00:00,  1.75it/s]\n",
      "Training (10099 / 18000 Steps) (loss=0.20881): 100%|██████████| 20/20 [00:11<00:00,  1.82it/s]\n",
      "Validate (10100 / 10 Steps): 100%|██████████| 7/7 [00:10<00:00,  1.51s/it]3<?, ?it/s]\n",
      "Training (10100 / 18000 Steps) (loss=0.55106):   5%|▌         | 1/20 [00:14<04:27, 14.06s/it]"
     ]
    },
    {
     "name": "stdout",
     "output_type": "stream",
     "text": [
      "Model Was Not Saved ! Current Best Avg. Dice: 0.430745929479599 Current Avg. Dice: 0.399180144071579 Current Avg. tumor Dice: 0.39412379264831543 Current Avg. lymph Dice: 0.40423646569252014\n"
     ]
    },
    {
     "name": "stderr",
     "output_type": "stream",
     "text": [
      "Training (10119 / 18000 Steps) (loss=0.37831): 100%|██████████| 20/20 [00:22<00:00,  1.11s/it]\n",
      "Training (10139 / 18000 Steps) (loss=0.38953): 100%|██████████| 20/20 [00:11<00:00,  1.73it/s]\n",
      "Training (10159 / 18000 Steps) (loss=0.43727): 100%|██████████| 20/20 [00:11<00:00,  1.75it/s]\n",
      "Training (10179 / 18000 Steps) (loss=0.46029): 100%|██████████| 20/20 [00:11<00:00,  1.76it/s]\n",
      "Training (10199 / 18000 Steps) (loss=0.36965): 100%|██████████| 20/20 [00:11<00:00,  1.73it/s]\n",
      "Validate (10200 / 10 Steps): 100%|██████████| 7/7 [00:10<00:00,  1.50s/it]3<?, ?it/s]\n",
      "Training (10200 / 18000 Steps) (loss=0.33639):   5%|▌         | 1/20 [00:13<04:25, 13.97s/it]"
     ]
    },
    {
     "name": "stdout",
     "output_type": "stream",
     "text": [
      "Model Was Not Saved ! Current Best Avg. Dice: 0.430745929479599 Current Avg. Dice: 0.3978424072265625 Current Avg. tumor Dice: 0.4034082293510437 Current Avg. lymph Dice: 0.39227667450904846\n"
     ]
    },
    {
     "name": "stderr",
     "output_type": "stream",
     "text": [
      "Training (10219 / 18000 Steps) (loss=0.50780): 100%|██████████| 20/20 [00:22<00:00,  1.10s/it]\n",
      "Training (10239 / 18000 Steps) (loss=0.58847): 100%|██████████| 20/20 [00:11<00:00,  1.68it/s]\n",
      "Training (10259 / 18000 Steps) (loss=0.30495): 100%|██████████| 20/20 [00:11<00:00,  1.73it/s]\n",
      "Training (10279 / 18000 Steps) (loss=0.43095): 100%|██████████| 20/20 [00:11<00:00,  1.72it/s]\n",
      "Training (10299 / 18000 Steps) (loss=0.50345): 100%|██████████| 20/20 [00:11<00:00,  1.79it/s]\n",
      "Validate (10300 / 10 Steps): 100%|██████████| 7/7 [00:10<00:00,  1.49s/it]3<?, ?it/s]\n",
      "Training (10300 / 18000 Steps) (loss=0.38477):   5%|▌         | 1/20 [00:14<04:27, 14.06s/it]"
     ]
    },
    {
     "name": "stdout",
     "output_type": "stream",
     "text": [
      "Model Was Not Saved ! Current Best Avg. Dice: 0.430745929479599 Current Avg. Dice: 0.39861059188842773 Current Avg. tumor Dice: 0.4138214886188507 Current Avg. lymph Dice: 0.38339975476264954\n"
     ]
    },
    {
     "name": "stderr",
     "output_type": "stream",
     "text": [
      "Training (10319 / 18000 Steps) (loss=0.50833): 100%|██████████| 20/20 [00:22<00:00,  1.10s/it]\n",
      "Training (10339 / 18000 Steps) (loss=0.39751): 100%|██████████| 20/20 [00:11<00:00,  1.77it/s]\n",
      "Training (10359 / 18000 Steps) (loss=0.43985): 100%|██████████| 20/20 [00:11<00:00,  1.78it/s]\n",
      "Training (10379 / 18000 Steps) (loss=0.44064): 100%|██████████| 20/20 [00:11<00:00,  1.74it/s]\n",
      "Training (10399 / 18000 Steps) (loss=0.46108): 100%|██████████| 20/20 [00:11<00:00,  1.75it/s]\n",
      "Validate (10400 / 10 Steps): 100%|██████████| 7/7 [00:10<00:00,  1.49s/it]3<?, ?it/s]\n",
      "Training (10400 / 18000 Steps) (loss=0.35435):   5%|▌         | 1/20 [00:13<04:20, 13.72s/it]"
     ]
    },
    {
     "name": "stdout",
     "output_type": "stream",
     "text": [
      "Model Was Not Saved ! Current Best Avg. Dice: 0.430745929479599 Current Avg. Dice: 0.40782400965690613 Current Avg. tumor Dice: 0.40707680583000183 Current Avg. lymph Dice: 0.4085712432861328\n"
     ]
    },
    {
     "name": "stderr",
     "output_type": "stream",
     "text": [
      "Training (10419 / 18000 Steps) (loss=0.57792): 100%|██████████| 20/20 [00:21<00:00,  1.09s/it]\n",
      "Training (10439 / 18000 Steps) (loss=0.53489): 100%|██████████| 20/20 [00:11<00:00,  1.78it/s]\n",
      "Training (10459 / 18000 Steps) (loss=0.43119): 100%|██████████| 20/20 [00:11<00:00,  1.75it/s]\n",
      "Training (10479 / 18000 Steps) (loss=0.55913): 100%|██████████| 20/20 [00:11<00:00,  1.75it/s]\n",
      "Training (10499 / 18000 Steps) (loss=0.46869): 100%|██████████| 20/20 [00:11<00:00,  1.73it/s]\n",
      "Validate (10500 / 10 Steps): 100%|██████████| 7/7 [00:10<00:00,  1.50s/it]4<?, ?it/s]\n",
      "Training (10500 / 18000 Steps) (loss=0.47872):   5%|▌         | 1/20 [00:14<04:37, 14.60s/it]"
     ]
    },
    {
     "name": "stdout",
     "output_type": "stream",
     "text": [
      "Model Was Not Saved ! Current Best Avg. Dice: 0.430745929479599 Current Avg. Dice: 0.3921794593334198 Current Avg. tumor Dice: 0.4073352813720703 Current Avg. lymph Dice: 0.3770236372947693\n"
     ]
    },
    {
     "name": "stderr",
     "output_type": "stream",
     "text": [
      "Training (10519 / 18000 Steps) (loss=0.29933): 100%|██████████| 20/20 [00:22<00:00,  1.13s/it]\n",
      "Training (10539 / 18000 Steps) (loss=0.34724): 100%|██████████| 20/20 [00:11<00:00,  1.74it/s]\n",
      "Training (10559 / 18000 Steps) (loss=0.53318): 100%|██████████| 20/20 [00:11<00:00,  1.79it/s]\n",
      "Training (10579 / 18000 Steps) (loss=0.48724): 100%|██████████| 20/20 [00:11<00:00,  1.77it/s]\n",
      "Training (10599 / 18000 Steps) (loss=0.30568): 100%|██████████| 20/20 [00:11<00:00,  1.73it/s]\n",
      "Validate (10600 / 10 Steps): 100%|██████████| 7/7 [00:10<00:00,  1.50s/it]3<?, ?it/s]\n",
      "Training (10600 / 18000 Steps) (loss=0.50927):   5%|▌         | 1/20 [00:13<04:20, 13.72s/it]"
     ]
    },
    {
     "name": "stdout",
     "output_type": "stream",
     "text": [
      "Model Was Not Saved ! Current Best Avg. Dice: 0.430745929479599 Current Avg. Dice: 0.40948453545570374 Current Avg. tumor Dice: 0.4372836649417877 Current Avg. lymph Dice: 0.3816853165626526\n"
     ]
    },
    {
     "name": "stderr",
     "output_type": "stream",
     "text": [
      "Training (10619 / 18000 Steps) (loss=0.39259): 100%|██████████| 20/20 [00:21<00:00,  1.09s/it]\n",
      "Training (10639 / 18000 Steps) (loss=0.48848): 100%|██████████| 20/20 [00:11<00:00,  1.77it/s]\n",
      "Training (10659 / 18000 Steps) (loss=0.42099): 100%|██████████| 20/20 [00:11<00:00,  1.74it/s]\n",
      "Training (10679 / 18000 Steps) (loss=0.47495): 100%|██████████| 20/20 [00:11<00:00,  1.78it/s]\n",
      "Training (10699 / 18000 Steps) (loss=0.55306): 100%|██████████| 20/20 [00:11<00:00,  1.78it/s]\n",
      "Validate (10700 / 10 Steps): 100%|██████████| 7/7 [00:10<00:00,  1.49s/it]3<?, ?it/s]\n",
      "Training (10700 / 18000 Steps) (loss=0.37618):   5%|▌         | 1/20 [00:13<04:20, 13.71s/it]"
     ]
    },
    {
     "name": "stdout",
     "output_type": "stream",
     "text": [
      "Model Was Not Saved ! Current Best Avg. Dice: 0.430745929479599 Current Avg. Dice: 0.3896198272705078 Current Avg. tumor Dice: 0.3917195200920105 Current Avg. lymph Dice: 0.3875201344490051\n"
     ]
    },
    {
     "name": "stderr",
     "output_type": "stream",
     "text": [
      "Training (10719 / 18000 Steps) (loss=0.41763): 100%|██████████| 20/20 [00:21<00:00,  1.09s/it]\n",
      "Training (10739 / 18000 Steps) (loss=0.52511): 100%|██████████| 20/20 [00:11<00:00,  1.75it/s]\n",
      "Training (10759 / 18000 Steps) (loss=0.33492): 100%|██████████| 20/20 [00:11<00:00,  1.71it/s]\n",
      "Training (10779 / 18000 Steps) (loss=0.31658): 100%|██████████| 20/20 [00:11<00:00,  1.76it/s]\n",
      "Training (10799 / 18000 Steps) (loss=0.52877): 100%|██████████| 20/20 [00:11<00:00,  1.75it/s]\n",
      "Validate (10800 / 10 Steps): 100%|██████████| 7/7 [00:10<00:00,  1.50s/it]3<?, ?it/s]\n",
      "Training (10800 / 18000 Steps) (loss=0.37300):   5%|▌         | 1/20 [00:13<04:25, 13.97s/it]"
     ]
    },
    {
     "name": "stdout",
     "output_type": "stream",
     "text": [
      "Model Was Not Saved ! Current Best Avg. Dice: 0.430745929479599 Current Avg. Dice: 0.3757040202617645 Current Avg. tumor Dice: 0.37188413739204407 Current Avg. lymph Dice: 0.379523903131485\n"
     ]
    },
    {
     "name": "stderr",
     "output_type": "stream",
     "text": [
      "Training (10819 / 18000 Steps) (loss=0.51957): 100%|██████████| 20/20 [00:22<00:00,  1.10s/it]\n",
      "Training (10839 / 18000 Steps) (loss=0.53187): 100%|██████████| 20/20 [00:11<00:00,  1.77it/s]\n",
      "Training (10859 / 18000 Steps) (loss=0.53331): 100%|██████████| 20/20 [00:11<00:00,  1.74it/s]\n",
      "Training (10879 / 18000 Steps) (loss=0.53395): 100%|██████████| 20/20 [00:11<00:00,  1.74it/s]\n",
      "Training (10899 / 18000 Steps) (loss=0.43198): 100%|██████████| 20/20 [00:11<00:00,  1.79it/s]\n",
      "Validate (10900 / 10 Steps): 100%|██████████| 7/7 [00:10<00:00,  1.52s/it]3<?, ?it/s]\n",
      "Training (10900 / 18000 Steps) (loss=0.39688):   5%|▌         | 1/20 [00:14<04:26, 14.01s/it]"
     ]
    },
    {
     "name": "stdout",
     "output_type": "stream",
     "text": [
      "Model Was Not Saved ! Current Best Avg. Dice: 0.430745929479599 Current Avg. Dice: 0.3911660313606262 Current Avg. tumor Dice: 0.3900885581970215 Current Avg. lymph Dice: 0.39224356412887573\n"
     ]
    },
    {
     "name": "stderr",
     "output_type": "stream",
     "text": [
      "Training (10919 / 18000 Steps) (loss=0.42533): 100%|██████████| 20/20 [00:22<00:00,  1.10s/it]\n",
      "Training (10939 / 18000 Steps) (loss=0.41826): 100%|██████████| 20/20 [00:11<00:00,  1.75it/s]\n",
      "Training (10959 / 18000 Steps) (loss=0.26773): 100%|██████████| 20/20 [00:11<00:00,  1.77it/s]\n",
      "Training (10979 / 18000 Steps) (loss=0.47581): 100%|██████████| 20/20 [00:11<00:00,  1.74it/s]\n",
      "Training (10999 / 18000 Steps) (loss=0.32993): 100%|██████████| 20/20 [00:11<00:00,  1.79it/s]\n",
      "Validate (11000 / 10 Steps): 100%|██████████| 7/7 [00:10<00:00,  1.50s/it]3<?, ?it/s]\n",
      "Training (11000 / 18000 Steps) (loss=0.43936):   5%|▌         | 1/20 [00:13<04:21, 13.79s/it]"
     ]
    },
    {
     "name": "stdout",
     "output_type": "stream",
     "text": [
      "Model Was Not Saved ! Current Best Avg. Dice: 0.430745929479599 Current Avg. Dice: 0.3937622606754303 Current Avg. tumor Dice: 0.4249514937400818 Current Avg. lymph Dice: 0.3625730574131012\n"
     ]
    },
    {
     "name": "stderr",
     "output_type": "stream",
     "text": [
      "Training (11019 / 18000 Steps) (loss=0.51931): 100%|██████████| 20/20 [00:21<00:00,  1.09s/it]\n",
      "Training (11039 / 18000 Steps) (loss=0.40048): 100%|██████████| 20/20 [00:11<00:00,  1.76it/s]\n",
      "Training (11059 / 18000 Steps) (loss=0.49941): 100%|██████████| 20/20 [00:11<00:00,  1.82it/s]\n",
      "Training (11079 / 18000 Steps) (loss=0.45241): 100%|██████████| 20/20 [00:11<00:00,  1.72it/s]\n",
      "Training (11099 / 18000 Steps) (loss=0.35485): 100%|██████████| 20/20 [00:11<00:00,  1.78it/s]\n",
      "Validate (11100 / 10 Steps): 100%|██████████| 7/7 [00:10<00:00,  1.50s/it]3<?, ?it/s]\n",
      "Training (11100 / 18000 Steps) (loss=0.36477):   5%|▌         | 1/20 [00:13<04:21, 13.75s/it]"
     ]
    },
    {
     "name": "stdout",
     "output_type": "stream",
     "text": [
      "Model Was Not Saved ! Current Best Avg. Dice: 0.430745929479599 Current Avg. Dice: 0.3797369599342346 Current Avg. tumor Dice: 0.4025346338748932 Current Avg. lymph Dice: 0.35693928599357605\n"
     ]
    },
    {
     "name": "stderr",
     "output_type": "stream",
     "text": [
      "Training (11119 / 18000 Steps) (loss=0.42096): 100%|██████████| 20/20 [00:21<00:00,  1.09s/it]\n",
      "Training (11139 / 18000 Steps) (loss=0.58912): 100%|██████████| 20/20 [00:11<00:00,  1.70it/s]\n",
      "Training (11159 / 18000 Steps) (loss=0.57580): 100%|██████████| 20/20 [00:11<00:00,  1.77it/s]\n",
      "Training (11179 / 18000 Steps) (loss=0.39717): 100%|██████████| 20/20 [00:11<00:00,  1.72it/s]\n",
      "Training (11199 / 18000 Steps) (loss=0.44689): 100%|██████████| 20/20 [00:11<00:00,  1.79it/s]\n",
      "Validate (11200 / 10 Steps): 100%|██████████| 7/7 [00:10<00:00,  1.50s/it]3<?, ?it/s]\n",
      "Training (11200 / 18000 Steps) (loss=0.29884):   5%|▌         | 1/20 [00:13<04:22, 13.80s/it]"
     ]
    },
    {
     "name": "stdout",
     "output_type": "stream",
     "text": [
      "Model Was Not Saved ! Current Best Avg. Dice: 0.430745929479599 Current Avg. Dice: 0.39614710211753845 Current Avg. tumor Dice: 0.4197175204753876 Current Avg. lymph Dice: 0.3725768029689789\n"
     ]
    },
    {
     "name": "stderr",
     "output_type": "stream",
     "text": [
      "Training (11219 / 18000 Steps) (loss=0.58101): 100%|██████████| 20/20 [00:21<00:00,  1.09s/it]\n",
      "Training (11239 / 18000 Steps) (loss=0.34736): 100%|██████████| 20/20 [00:11<00:00,  1.76it/s]\n",
      "Training (11259 / 18000 Steps) (loss=0.52743): 100%|██████████| 20/20 [00:11<00:00,  1.80it/s]\n",
      "Training (11279 / 18000 Steps) (loss=0.33691): 100%|██████████| 20/20 [00:11<00:00,  1.72it/s]\n",
      "Training (11299 / 18000 Steps) (loss=0.43423): 100%|██████████| 20/20 [00:11<00:00,  1.77it/s]\n",
      "Validate (11300 / 10 Steps): 100%|██████████| 7/7 [00:10<00:00,  1.49s/it]3<?, ?it/s]\n",
      "Training (11300 / 18000 Steps) (loss=0.52689):   5%|▌         | 1/20 [00:13<04:18, 13.61s/it]"
     ]
    },
    {
     "name": "stdout",
     "output_type": "stream",
     "text": [
      "Model Was Not Saved ! Current Best Avg. Dice: 0.430745929479599 Current Avg. Dice: 0.41289347410202026 Current Avg. tumor Dice: 0.40905100107192993 Current Avg. lymph Dice: 0.4167359173297882\n"
     ]
    },
    {
     "name": "stderr",
     "output_type": "stream",
     "text": [
      "Training (11319 / 18000 Steps) (loss=0.38999): 100%|██████████| 20/20 [00:21<00:00,  1.08s/it]\n",
      "Training (11339 / 18000 Steps) (loss=0.42948): 100%|██████████| 20/20 [00:11<00:00,  1.79it/s]\n",
      "Training (11359 / 18000 Steps) (loss=0.49482): 100%|██████████| 20/20 [00:11<00:00,  1.81it/s]\n",
      "Training (11379 / 18000 Steps) (loss=0.45942): 100%|██████████| 20/20 [00:11<00:00,  1.74it/s]\n",
      "Training (11399 / 18000 Steps) (loss=0.61260): 100%|██████████| 20/20 [00:11<00:00,  1.70it/s]\n",
      "Validate (11400 / 10 Steps): 100%|██████████| 7/7 [00:10<00:00,  1.49s/it]3<?, ?it/s]\n",
      "Training (11400 / 18000 Steps) (loss=0.23794):   5%|▌         | 1/20 [00:13<04:19, 13.67s/it]"
     ]
    },
    {
     "name": "stdout",
     "output_type": "stream",
     "text": [
      "Model Was Not Saved ! Current Best Avg. Dice: 0.430745929479599 Current Avg. Dice: 0.3969901204109192 Current Avg. tumor Dice: 0.38177570700645447 Current Avg. lymph Dice: 0.4122045338153839\n"
     ]
    },
    {
     "name": "stderr",
     "output_type": "stream",
     "text": [
      "Training (11419 / 18000 Steps) (loss=0.30386): 100%|██████████| 20/20 [00:21<00:00,  1.08s/it]\n",
      "Training (11439 / 18000 Steps) (loss=0.41129): 100%|██████████| 20/20 [00:11<00:00,  1.73it/s]\n",
      "Training (11459 / 18000 Steps) (loss=0.47200): 100%|██████████| 20/20 [00:11<00:00,  1.80it/s]\n",
      "Training (11479 / 18000 Steps) (loss=0.37766): 100%|██████████| 20/20 [00:11<00:00,  1.73it/s]\n",
      "Training (11499 / 18000 Steps) (loss=0.43033): 100%|██████████| 20/20 [00:11<00:00,  1.77it/s]\n",
      "Validate (11500 / 10 Steps): 100%|██████████| 7/7 [00:10<00:00,  1.51s/it]3<?, ?it/s]\n",
      "Training (11500 / 18000 Steps) (loss=0.48807):   5%|▌         | 1/20 [00:14<04:28, 14.15s/it]"
     ]
    },
    {
     "name": "stdout",
     "output_type": "stream",
     "text": [
      "Model Was Not Saved ! Current Best Avg. Dice: 0.430745929479599 Current Avg. Dice: 0.38267502188682556 Current Avg. tumor Dice: 0.40695425868034363 Current Avg. lymph Dice: 0.35839584469795227\n"
     ]
    },
    {
     "name": "stderr",
     "output_type": "stream",
     "text": [
      "Training (11519 / 18000 Steps) (loss=0.51878): 100%|██████████| 20/20 [00:22<00:00,  1.11s/it]\n",
      "Training (11539 / 18000 Steps) (loss=0.38106): 100%|██████████| 20/20 [00:11<00:00,  1.81it/s]\n",
      "Training (11559 / 18000 Steps) (loss=0.39359): 100%|██████████| 20/20 [00:11<00:00,  1.77it/s]\n",
      "Training (11579 / 18000 Steps) (loss=0.47296): 100%|██████████| 20/20 [00:11<00:00,  1.73it/s]\n",
      "Training (11599 / 18000 Steps) (loss=0.38001): 100%|██████████| 20/20 [00:11<00:00,  1.74it/s]\n",
      "Validate (11600 / 10 Steps): 100%|██████████| 7/7 [00:10<00:00,  1.48s/it]2<?, ?it/s]\n",
      "Training (11600 / 18000 Steps) (loss=0.32958):   5%|▌         | 1/20 [00:13<04:14, 13.37s/it]"
     ]
    },
    {
     "name": "stdout",
     "output_type": "stream",
     "text": [
      "Model Was Not Saved ! Current Best Avg. Dice: 0.430745929479599 Current Avg. Dice: 0.3892557919025421 Current Avg. tumor Dice: 0.356315940618515 Current Avg. lymph Dice: 0.4221956133842468\n"
     ]
    },
    {
     "name": "stderr",
     "output_type": "stream",
     "text": [
      "Training (11619 / 18000 Steps) (loss=0.36159): 100%|██████████| 20/20 [00:21<00:00,  1.07s/it]\n",
      "Training (11639 / 18000 Steps) (loss=0.33965): 100%|██████████| 20/20 [00:11<00:00,  1.74it/s]\n",
      "Training (11659 / 18000 Steps) (loss=0.41757): 100%|██████████| 20/20 [00:11<00:00,  1.75it/s]\n",
      "Training (11679 / 18000 Steps) (loss=0.39406): 100%|██████████| 20/20 [00:11<00:00,  1.76it/s]\n",
      "Training (11699 / 18000 Steps) (loss=0.52169): 100%|██████████| 20/20 [00:11<00:00,  1.76it/s]\n",
      "Validate (11700 / 10 Steps): 100%|██████████| 7/7 [00:10<00:00,  1.50s/it]3<?, ?it/s]\n",
      "Training (11700 / 18000 Steps) (loss=0.57142):   5%|▌         | 1/20 [00:13<04:23, 13.86s/it]"
     ]
    },
    {
     "name": "stdout",
     "output_type": "stream",
     "text": [
      "Model Was Not Saved ! Current Best Avg. Dice: 0.430745929479599 Current Avg. Dice: 0.3786994516849518 Current Avg. tumor Dice: 0.35773855447769165 Current Avg. lymph Dice: 0.3996603786945343\n"
     ]
    },
    {
     "name": "stderr",
     "output_type": "stream",
     "text": [
      "Training (11719 / 18000 Steps) (loss=0.53382): 100%|██████████| 20/20 [00:21<00:00,  1.09s/it]\n",
      "Training (11739 / 18000 Steps) (loss=0.48364): 100%|██████████| 20/20 [00:11<00:00,  1.79it/s]\n",
      "Training (11759 / 18000 Steps) (loss=0.41978): 100%|██████████| 20/20 [00:11<00:00,  1.78it/s]\n",
      "Training (11779 / 18000 Steps) (loss=0.38466): 100%|██████████| 20/20 [00:11<00:00,  1.78it/s]\n",
      "Training (11799 / 18000 Steps) (loss=0.45593): 100%|██████████| 20/20 [00:11<00:00,  1.72it/s]\n",
      "Validate (11800 / 10 Steps): 100%|██████████| 7/7 [00:10<00:00,  1.50s/it]3<?, ?it/s]\n",
      "Training (11800 / 18000 Steps) (loss=0.32849):   5%|▌         | 1/20 [00:13<04:25, 14.00s/it]"
     ]
    },
    {
     "name": "stdout",
     "output_type": "stream",
     "text": [
      "Model Was Not Saved ! Current Best Avg. Dice: 0.430745929479599 Current Avg. Dice: 0.4110042452812195 Current Avg. tumor Dice: 0.4159025549888611 Current Avg. lymph Dice: 0.4061059057712555\n"
     ]
    },
    {
     "name": "stderr",
     "output_type": "stream",
     "text": [
      "Training (11819 / 18000 Steps) (loss=0.45941): 100%|██████████| 20/20 [00:22<00:00,  1.11s/it]\n",
      "Training (11839 / 18000 Steps) (loss=0.41234): 100%|██████████| 20/20 [00:11<00:00,  1.76it/s]\n",
      "Training (11859 / 18000 Steps) (loss=0.35445): 100%|██████████| 20/20 [00:11<00:00,  1.80it/s]\n",
      "Training (11879 / 18000 Steps) (loss=0.50357): 100%|██████████| 20/20 [00:11<00:00,  1.74it/s]\n",
      "Training (11899 / 18000 Steps) (loss=0.47081): 100%|██████████| 20/20 [00:11<00:00,  1.75it/s]\n",
      "Validate (11900 / 10 Steps): 100%|██████████| 7/7 [00:10<00:00,  1.49s/it]3<?, ?it/s]\n",
      "Training (11900 / 18000 Steps) (loss=0.45107):   5%|▌         | 1/20 [00:13<04:25, 13.96s/it]"
     ]
    },
    {
     "name": "stdout",
     "output_type": "stream",
     "text": [
      "Model Was Not Saved ! Current Best Avg. Dice: 0.430745929479599 Current Avg. Dice: 0.4127851128578186 Current Avg. tumor Dice: 0.40105772018432617 Current Avg. lymph Dice: 0.4245125353336334\n"
     ]
    },
    {
     "name": "stderr",
     "output_type": "stream",
     "text": [
      "Training (11919 / 18000 Steps) (loss=0.45764): 100%|██████████| 20/20 [00:21<00:00,  1.10s/it]\n",
      "Training (11939 / 18000 Steps) (loss=0.58175): 100%|██████████| 20/20 [00:11<00:00,  1.78it/s]\n",
      "Training (11959 / 18000 Steps) (loss=0.47061): 100%|██████████| 20/20 [00:11<00:00,  1.78it/s]\n",
      "Training (11979 / 18000 Steps) (loss=0.49778): 100%|██████████| 20/20 [00:11<00:00,  1.78it/s]\n",
      "Training (11999 / 18000 Steps) (loss=0.39357): 100%|██████████| 20/20 [00:11<00:00,  1.75it/s]\n",
      "Validate (12000 / 10 Steps): 100%|██████████| 7/7 [00:10<00:00,  1.52s/it]3<?, ?it/s]\n",
      "Training (12000 / 18000 Steps) (loss=0.49552):   5%|▌         | 1/20 [00:13<04:23, 13.87s/it]"
     ]
    },
    {
     "name": "stdout",
     "output_type": "stream",
     "text": [
      "Model Was Not Saved ! Current Best Avg. Dice: 0.430745929479599 Current Avg. Dice: 0.3949257433414459 Current Avg. tumor Dice: 0.35408368706703186 Current Avg. lymph Dice: 0.4357677102088928\n"
     ]
    },
    {
     "name": "stderr",
     "output_type": "stream",
     "text": [
      "Training (12019 / 18000 Steps) (loss=0.50620): 100%|██████████| 20/20 [00:21<00:00,  1.09s/it]\n",
      "Training (12039 / 18000 Steps) (loss=0.39697): 100%|██████████| 20/20 [00:10<00:00,  1.82it/s]\n",
      "Training (12059 / 18000 Steps) (loss=0.47291): 100%|██████████| 20/20 [00:11<00:00,  1.78it/s]\n",
      "Training (12079 / 18000 Steps) (loss=0.54624): 100%|██████████| 20/20 [00:11<00:00,  1.81it/s]\n",
      "Training (12099 / 18000 Steps) (loss=0.38014): 100%|██████████| 20/20 [00:11<00:00,  1.77it/s]\n",
      "Validate (12100 / 10 Steps): 100%|██████████| 7/7 [00:10<00:00,  1.48s/it]3<?, ?it/s]\n",
      "Training (12100 / 18000 Steps) (loss=0.31962):   5%|▌         | 1/20 [00:13<04:17, 13.56s/it]"
     ]
    },
    {
     "name": "stdout",
     "output_type": "stream",
     "text": [
      "Model Was Not Saved ! Current Best Avg. Dice: 0.430745929479599 Current Avg. Dice: 0.3791179060935974 Current Avg. tumor Dice: 0.34721484780311584 Current Avg. lymph Dice: 0.411020964384079\n"
     ]
    },
    {
     "name": "stderr",
     "output_type": "stream",
     "text": [
      "Training (12119 / 18000 Steps) (loss=0.39323): 100%|██████████| 20/20 [00:21<00:00,  1.08s/it]\n",
      "Training (12139 / 18000 Steps) (loss=0.46336): 100%|██████████| 20/20 [00:11<00:00,  1.74it/s]\n",
      "Training (12159 / 18000 Steps) (loss=0.38553): 100%|██████████| 20/20 [00:11<00:00,  1.77it/s]\n",
      "Training (12179 / 18000 Steps) (loss=0.48421): 100%|██████████| 20/20 [00:11<00:00,  1.75it/s]\n",
      "Training (12199 / 18000 Steps) (loss=0.48611): 100%|██████████| 20/20 [00:11<00:00,  1.78it/s]\n",
      "Validate (12200 / 10 Steps): 100%|██████████| 7/7 [00:10<00:00,  1.49s/it]3<?, ?it/s]\n",
      "Training (12200 / 18000 Steps) (loss=0.43026):   5%|▌         | 1/20 [00:14<04:26, 14.00s/it]"
     ]
    },
    {
     "name": "stdout",
     "output_type": "stream",
     "text": [
      "Model Was Not Saved ! Current Best Avg. Dice: 0.430745929479599 Current Avg. Dice: 0.374846875667572 Current Avg. tumor Dice: 0.36610254645347595 Current Avg. lymph Dice: 0.3835911750793457\n"
     ]
    },
    {
     "name": "stderr",
     "output_type": "stream",
     "text": [
      "Training (12219 / 18000 Steps) (loss=0.35288): 100%|██████████| 20/20 [00:21<00:00,  1.10s/it]\n",
      "Training (12239 / 18000 Steps) (loss=0.39687): 100%|██████████| 20/20 [00:11<00:00,  1.72it/s]\n",
      "Training (12259 / 18000 Steps) (loss=0.41996): 100%|██████████| 20/20 [00:11<00:00,  1.70it/s]\n",
      "Training (12279 / 18000 Steps) (loss=0.47782): 100%|██████████| 20/20 [00:11<00:00,  1.72it/s]\n",
      "Training (12299 / 18000 Steps) (loss=0.48060): 100%|██████████| 20/20 [00:11<00:00,  1.78it/s]\n",
      "Validate (12300 / 10 Steps): 100%|██████████| 7/7 [00:10<00:00,  1.50s/it]3<?, ?it/s]\n",
      "Training (12300 / 18000 Steps) (loss=0.25625):   5%|▌         | 1/20 [00:13<04:23, 13.89s/it]"
     ]
    },
    {
     "name": "stdout",
     "output_type": "stream",
     "text": [
      "Model Was Not Saved ! Current Best Avg. Dice: 0.430745929479599 Current Avg. Dice: 0.39008426666259766 Current Avg. tumor Dice: 0.3741298317909241 Current Avg. lymph Dice: 0.4060386121273041\n"
     ]
    },
    {
     "name": "stderr",
     "output_type": "stream",
     "text": [
      "Training (12319 / 18000 Steps) (loss=0.49761): 100%|██████████| 20/20 [00:21<00:00,  1.10s/it]\n",
      "Training (12339 / 18000 Steps) (loss=0.47002): 100%|██████████| 20/20 [00:11<00:00,  1.77it/s]\n",
      "Training (12359 / 18000 Steps) (loss=0.36694): 100%|██████████| 20/20 [00:11<00:00,  1.77it/s]\n",
      "Training (12379 / 18000 Steps) (loss=0.30510): 100%|██████████| 20/20 [00:11<00:00,  1.76it/s]\n",
      "Training (12399 / 18000 Steps) (loss=0.31216): 100%|██████████| 20/20 [00:11<00:00,  1.79it/s]\n",
      "Validate (12400 / 10 Steps): 100%|██████████| 7/7 [00:10<00:00,  1.50s/it]3<?, ?it/s]\n",
      "Training (12400 / 18000 Steps) (loss=0.61775):   5%|▌         | 1/20 [00:14<04:26, 14.04s/it]"
     ]
    },
    {
     "name": "stdout",
     "output_type": "stream",
     "text": [
      "Model Was Not Saved ! Current Best Avg. Dice: 0.430745929479599 Current Avg. Dice: 0.38122111558914185 Current Avg. tumor Dice: 0.3595260977745056 Current Avg. lymph Dice: 0.40291616320610046\n"
     ]
    },
    {
     "name": "stderr",
     "output_type": "stream",
     "text": [
      "Training (12419 / 18000 Steps) (loss=0.32041): 100%|██████████| 20/20 [00:22<00:00,  1.10s/it]\n",
      "Training (12439 / 18000 Steps) (loss=0.52350): 100%|██████████| 20/20 [00:11<00:00,  1.75it/s]\n",
      "Training (12459 / 18000 Steps) (loss=0.31507): 100%|██████████| 20/20 [00:11<00:00,  1.72it/s]\n",
      "Training (12479 / 18000 Steps) (loss=0.55491): 100%|██████████| 20/20 [00:11<00:00,  1.72it/s]\n",
      "Training (12499 / 18000 Steps) (loss=0.56662): 100%|██████████| 20/20 [00:11<00:00,  1.77it/s]\n",
      "Validate (12500 / 10 Steps): 100%|██████████| 7/7 [00:10<00:00,  1.51s/it]3<?, ?it/s]\n",
      "Training (12500 / 18000 Steps) (loss=0.36235):   5%|▌         | 1/20 [00:13<04:24, 13.93s/it]"
     ]
    },
    {
     "name": "stdout",
     "output_type": "stream",
     "text": [
      "Model Was Not Saved ! Current Best Avg. Dice: 0.430745929479599 Current Avg. Dice: 0.4012793004512787 Current Avg. tumor Dice: 0.3773364722728729 Current Avg. lymph Dice: 0.42522212862968445\n"
     ]
    },
    {
     "name": "stderr",
     "output_type": "stream",
     "text": [
      "Training (12519 / 18000 Steps) (loss=0.52954): 100%|██████████| 20/20 [00:21<00:00,  1.10s/it]\n",
      "Training (12539 / 18000 Steps) (loss=0.32403): 100%|██████████| 20/20 [00:11<00:00,  1.73it/s]\n",
      "Training (12559 / 18000 Steps) (loss=0.38825): 100%|██████████| 20/20 [00:11<00:00,  1.73it/s]\n",
      "Training (12579 / 18000 Steps) (loss=0.46186): 100%|██████████| 20/20 [00:11<00:00,  1.71it/s]\n",
      "Training (12599 / 18000 Steps) (loss=0.48458): 100%|██████████| 20/20 [00:11<00:00,  1.75it/s]\n",
      "Validate (12600 / 10 Steps): 100%|██████████| 7/7 [00:10<00:00,  1.48s/it]3<?, ?it/s]\n",
      "Training (12600 / 18000 Steps) (loss=0.41980):   5%|▌         | 1/20 [00:13<04:25, 13.97s/it]"
     ]
    },
    {
     "name": "stdout",
     "output_type": "stream",
     "text": [
      "Model Was Not Saved ! Current Best Avg. Dice: 0.430745929479599 Current Avg. Dice: 0.3875001072883606 Current Avg. tumor Dice: 0.3792648911476135 Current Avg. lymph Dice: 0.3957352936267853\n"
     ]
    },
    {
     "name": "stderr",
     "output_type": "stream",
     "text": [
      "Training (12619 / 18000 Steps) (loss=0.43782): 100%|██████████| 20/20 [00:21<00:00,  1.10s/it]\n",
      "Training (12639 / 18000 Steps) (loss=0.38539): 100%|██████████| 20/20 [00:11<00:00,  1.80it/s]\n",
      "Training (12659 / 18000 Steps) (loss=0.47798): 100%|██████████| 20/20 [00:11<00:00,  1.74it/s]\n",
      "Training (12679 / 18000 Steps) (loss=0.42908): 100%|██████████| 20/20 [00:11<00:00,  1.78it/s]\n",
      "Training (12699 / 18000 Steps) (loss=0.51368): 100%|██████████| 20/20 [00:11<00:00,  1.76it/s]\n",
      "Validate (12700 / 10 Steps): 100%|██████████| 7/7 [00:10<00:00,  1.48s/it]2<?, ?it/s]\n",
      "Training (12700 / 18000 Steps) (loss=0.35112):   5%|▌         | 1/20 [00:13<04:14, 13.38s/it]"
     ]
    },
    {
     "name": "stdout",
     "output_type": "stream",
     "text": [
      "Model Was Not Saved ! Current Best Avg. Dice: 0.430745929479599 Current Avg. Dice: 0.38755860924720764 Current Avg. tumor Dice: 0.40378767251968384 Current Avg. lymph Dice: 0.37132951617240906\n"
     ]
    },
    {
     "name": "stderr",
     "output_type": "stream",
     "text": [
      "Training (12719 / 18000 Steps) (loss=0.39121): 100%|██████████| 20/20 [00:21<00:00,  1.07s/it]\n",
      "Training (12739 / 18000 Steps) (loss=0.40936): 100%|██████████| 20/20 [00:11<00:00,  1.71it/s]\n",
      "Training (12759 / 18000 Steps) (loss=0.48148): 100%|██████████| 20/20 [00:11<00:00,  1.76it/s]\n",
      "Training (12779 / 18000 Steps) (loss=0.38965): 100%|██████████| 20/20 [00:11<00:00,  1.78it/s]\n",
      "Training (12799 / 18000 Steps) (loss=0.50371): 100%|██████████| 20/20 [00:11<00:00,  1.75it/s]\n",
      "Validate (12800 / 10 Steps): 100%|██████████| 7/7 [00:10<00:00,  1.49s/it]3<?, ?it/s]\n",
      "Training (12800 / 18000 Steps) (loss=0.49224):   5%|▌         | 1/20 [00:13<04:19, 13.64s/it]"
     ]
    },
    {
     "name": "stdout",
     "output_type": "stream",
     "text": [
      "Model Was Not Saved ! Current Best Avg. Dice: 0.430745929479599 Current Avg. Dice: 0.4121708273887634 Current Avg. tumor Dice: 0.431597501039505 Current Avg. lymph Dice: 0.39274412393569946\n"
     ]
    },
    {
     "name": "stderr",
     "output_type": "stream",
     "text": [
      "Training (12819 / 18000 Steps) (loss=0.42202): 100%|██████████| 20/20 [00:21<00:00,  1.08s/it]\n",
      "Training (12839 / 18000 Steps) (loss=0.48590): 100%|██████████| 20/20 [00:11<00:00,  1.77it/s]\n",
      "Training (12859 / 18000 Steps) (loss=0.39971): 100%|██████████| 20/20 [00:11<00:00,  1.76it/s]\n",
      "Training (12879 / 18000 Steps) (loss=0.40422): 100%|██████████| 20/20 [00:11<00:00,  1.79it/s]\n",
      "Training (12899 / 18000 Steps) (loss=0.42738): 100%|██████████| 20/20 [00:11<00:00,  1.75it/s]\n",
      "Validate (12900 / 10 Steps): 100%|██████████| 7/7 [00:10<00:00,  1.48s/it]3<?, ?it/s]\n",
      "Training (12900 / 18000 Steps) (loss=0.31108):   5%|▌         | 1/20 [00:13<04:24, 13.92s/it]"
     ]
    },
    {
     "name": "stdout",
     "output_type": "stream",
     "text": [
      "Model Was Not Saved ! Current Best Avg. Dice: 0.430745929479599 Current Avg. Dice: 0.3904256820678711 Current Avg. tumor Dice: 0.3723927140235901 Current Avg. lymph Dice: 0.4084586501121521\n"
     ]
    },
    {
     "name": "stderr",
     "output_type": "stream",
     "text": [
      "Training (12919 / 18000 Steps) (loss=0.47760): 100%|██████████| 20/20 [00:21<00:00,  1.10s/it]\n",
      "Training (12939 / 18000 Steps) (loss=0.48092): 100%|██████████| 20/20 [00:11<00:00,  1.75it/s]\n",
      "Training (12959 / 18000 Steps) (loss=0.22509): 100%|██████████| 20/20 [00:11<00:00,  1.79it/s]\n",
      "Training (12979 / 18000 Steps) (loss=0.47977): 100%|██████████| 20/20 [00:11<00:00,  1.78it/s]\n",
      "Training (12999 / 18000 Steps) (loss=0.44290): 100%|██████████| 20/20 [00:11<00:00,  1.72it/s]\n",
      "Validate (13000 / 10 Steps): 100%|██████████| 7/7 [00:10<00:00,  1.50s/it]3<?, ?it/s]\n",
      "Training (13000 / 18000 Steps) (loss=0.27648):   5%|▌         | 1/20 [00:13<04:24, 13.90s/it]"
     ]
    },
    {
     "name": "stdout",
     "output_type": "stream",
     "text": [
      "Model Was Not Saved ! Current Best Avg. Dice: 0.430745929479599 Current Avg. Dice: 0.35643139481544495 Current Avg. tumor Dice: 0.3458069860935211 Current Avg. lymph Dice: 0.3670558035373688\n"
     ]
    },
    {
     "name": "stderr",
     "output_type": "stream",
     "text": [
      "Training (13019 / 18000 Steps) (loss=0.25834): 100%|██████████| 20/20 [00:21<00:00,  1.10s/it]\n",
      "Training (13039 / 18000 Steps) (loss=0.31839): 100%|██████████| 20/20 [00:10<00:00,  1.82it/s]\n",
      "Training (13059 / 18000 Steps) (loss=0.47855): 100%|██████████| 20/20 [00:11<00:00,  1.78it/s]\n",
      "Training (13079 / 18000 Steps) (loss=0.47946): 100%|██████████| 20/20 [00:11<00:00,  1.71it/s]\n",
      "Training (13099 / 18000 Steps) (loss=0.38246): 100%|██████████| 20/20 [00:11<00:00,  1.72it/s]\n",
      "Validate (13100 / 10 Steps): 100%|██████████| 7/7 [00:10<00:00,  1.47s/it]3<?, ?it/s]\n",
      "Training (13100 / 18000 Steps) (loss=0.26506):   5%|▌         | 1/20 [00:13<04:17, 13.53s/it]"
     ]
    },
    {
     "name": "stdout",
     "output_type": "stream",
     "text": [
      "Model Was Not Saved ! Current Best Avg. Dice: 0.430745929479599 Current Avg. Dice: 0.3630354106426239 Current Avg. tumor Dice: 0.3331886827945709 Current Avg. lymph Dice: 0.3928821384906769\n"
     ]
    },
    {
     "name": "stderr",
     "output_type": "stream",
     "text": [
      "Training (13119 / 18000 Steps) (loss=0.41407): 100%|██████████| 20/20 [00:21<00:00,  1.08s/it]\n",
      "Training (13139 / 18000 Steps) (loss=0.60742): 100%|██████████| 20/20 [00:11<00:00,  1.72it/s]\n",
      "Training (13159 / 18000 Steps) (loss=0.22745): 100%|██████████| 20/20 [00:11<00:00,  1.75it/s]\n",
      "Training (13179 / 18000 Steps) (loss=0.30736): 100%|██████████| 20/20 [00:11<00:00,  1.75it/s]\n",
      "Training (13199 / 18000 Steps) (loss=0.28884): 100%|██████████| 20/20 [00:11<00:00,  1.77it/s]\n",
      "Validate (13200 / 10 Steps): 100%|██████████| 7/7 [00:10<00:00,  1.52s/it]3<?, ?it/s]\n",
      "Training (13200 / 18000 Steps) (loss=0.49353):   5%|▌         | 1/20 [00:14<04:26, 14.03s/it]"
     ]
    },
    {
     "name": "stdout",
     "output_type": "stream",
     "text": [
      "Model Was Not Saved ! Current Best Avg. Dice: 0.430745929479599 Current Avg. Dice: 0.39307400584220886 Current Avg. tumor Dice: 0.4170791208744049 Current Avg. lymph Dice: 0.3690689206123352\n"
     ]
    },
    {
     "name": "stderr",
     "output_type": "stream",
     "text": [
      "Training (13219 / 18000 Steps) (loss=0.34130): 100%|██████████| 20/20 [00:22<00:00,  1.10s/it]\n",
      "Training (13239 / 18000 Steps) (loss=0.43758): 100%|██████████| 20/20 [00:11<00:00,  1.77it/s]\n",
      "Training (13259 / 18000 Steps) (loss=0.51692): 100%|██████████| 20/20 [00:11<00:00,  1.72it/s]\n",
      "Training (13279 / 18000 Steps) (loss=0.46268): 100%|██████████| 20/20 [00:11<00:00,  1.81it/s]\n",
      "Training (13299 / 18000 Steps) (loss=0.37554): 100%|██████████| 20/20 [00:11<00:00,  1.73it/s]\n",
      "Validate (13300 / 10 Steps): 100%|██████████| 7/7 [00:10<00:00,  1.50s/it]3<?, ?it/s]\n",
      "Training (13300 / 18000 Steps) (loss=0.36181):   5%|▌         | 1/20 [00:14<04:26, 14.03s/it]"
     ]
    },
    {
     "name": "stdout",
     "output_type": "stream",
     "text": [
      "Model Was Not Saved ! Current Best Avg. Dice: 0.430745929479599 Current Avg. Dice: 0.3972371518611908 Current Avg. tumor Dice: 0.4201008677482605 Current Avg. lymph Dice: 0.3743734359741211\n"
     ]
    },
    {
     "name": "stderr",
     "output_type": "stream",
     "text": [
      "Training (13319 / 18000 Steps) (loss=0.53077): 100%|██████████| 20/20 [00:22<00:00,  1.11s/it]\n",
      "Training (13339 / 18000 Steps) (loss=0.47500): 100%|██████████| 20/20 [00:11<00:00,  1.76it/s]\n",
      "Training (13359 / 18000 Steps) (loss=0.60980): 100%|██████████| 20/20 [00:11<00:00,  1.69it/s]\n",
      "Training (13379 / 18000 Steps) (loss=0.52846): 100%|██████████| 20/20 [00:11<00:00,  1.79it/s]\n",
      "Training (13399 / 18000 Steps) (loss=0.54133): 100%|██████████| 20/20 [00:11<00:00,  1.76it/s]\n",
      "Validate (13400 / 10 Steps): 100%|██████████| 7/7 [00:10<00:00,  1.48s/it]3<?, ?it/s]\n",
      "Training (13400 / 18000 Steps) (loss=0.47419):   5%|▌         | 1/20 [00:13<04:17, 13.53s/it]"
     ]
    },
    {
     "name": "stdout",
     "output_type": "stream",
     "text": [
      "Model Was Not Saved ! Current Best Avg. Dice: 0.430745929479599 Current Avg. Dice: 0.38516494631767273 Current Avg. tumor Dice: 0.3804771900177002 Current Avg. lymph Dice: 0.3898525834083557\n"
     ]
    },
    {
     "name": "stderr",
     "output_type": "stream",
     "text": [
      "Training (13419 / 18000 Steps) (loss=0.30698): 100%|██████████| 20/20 [00:21<00:00,  1.07s/it]\n",
      "Training (13439 / 18000 Steps) (loss=0.23102): 100%|██████████| 20/20 [00:11<00:00,  1.79it/s]\n",
      "Training (13459 / 18000 Steps) (loss=0.29135): 100%|██████████| 20/20 [00:11<00:00,  1.77it/s]\n",
      "Training (13479 / 18000 Steps) (loss=0.36071): 100%|██████████| 20/20 [00:11<00:00,  1.81it/s]\n",
      "Training (13499 / 18000 Steps) (loss=0.37753): 100%|██████████| 20/20 [00:11<00:00,  1.76it/s]\n",
      "Validate (13500 / 10 Steps): 100%|██████████| 7/7 [00:10<00:00,  1.50s/it]3<?, ?it/s]\n",
      "Training (13500 / 18000 Steps) (loss=0.31543):   5%|▌         | 1/20 [00:13<04:18, 13.60s/it]"
     ]
    },
    {
     "name": "stdout",
     "output_type": "stream",
     "text": [
      "Model Was Not Saved ! Current Best Avg. Dice: 0.430745929479599 Current Avg. Dice: 0.3499069809913635 Current Avg. tumor Dice: 0.3666382431983948 Current Avg. lymph Dice: 0.3331757187843323\n"
     ]
    },
    {
     "name": "stderr",
     "output_type": "stream",
     "text": [
      "Training (13519 / 18000 Steps) (loss=0.32003): 100%|██████████| 20/20 [00:21<00:00,  1.08s/it]\n",
      "Training (13539 / 18000 Steps) (loss=0.46550): 100%|██████████| 20/20 [00:11<00:00,  1.81it/s]\n",
      "Training (13559 / 18000 Steps) (loss=0.53425): 100%|██████████| 20/20 [00:11<00:00,  1.79it/s]\n",
      "Training (13579 / 18000 Steps) (loss=0.60299): 100%|██████████| 20/20 [00:11<00:00,  1.81it/s]\n",
      "Training (13599 / 18000 Steps) (loss=0.36348): 100%|██████████| 20/20 [00:11<00:00,  1.71it/s]\n",
      "Validate (13600 / 10 Steps): 100%|██████████| 7/7 [00:10<00:00,  1.49s/it]3<?, ?it/s]\n",
      "Training (13600 / 18000 Steps) (loss=0.41662):   5%|▌         | 1/20 [00:14<04:26, 14.02s/it]"
     ]
    },
    {
     "name": "stdout",
     "output_type": "stream",
     "text": [
      "Model Was Not Saved ! Current Best Avg. Dice: 0.430745929479599 Current Avg. Dice: 0.3904092311859131 Current Avg. tumor Dice: 0.38664039969444275 Current Avg. lymph Dice: 0.3941780626773834\n"
     ]
    },
    {
     "name": "stderr",
     "output_type": "stream",
     "text": [
      "Training (13619 / 18000 Steps) (loss=0.41855): 100%|██████████| 20/20 [00:22<00:00,  1.11s/it]\n",
      "Training (13639 / 18000 Steps) (loss=0.48839): 100%|██████████| 20/20 [00:11<00:00,  1.73it/s]\n",
      "Training (13659 / 18000 Steps) (loss=0.30861): 100%|██████████| 20/20 [00:11<00:00,  1.74it/s]\n",
      "Training (13679 / 18000 Steps) (loss=0.50909): 100%|██████████| 20/20 [00:11<00:00,  1.76it/s]\n",
      "Training (13699 / 18000 Steps) (loss=0.39597): 100%|██████████| 20/20 [00:11<00:00,  1.73it/s]\n",
      "Validate (13700 / 10 Steps): 100%|██████████| 7/7 [00:10<00:00,  1.48s/it]3<?, ?it/s]\n",
      "Training (13700 / 18000 Steps) (loss=0.39296):   5%|▌         | 1/20 [00:14<04:27, 14.06s/it]"
     ]
    },
    {
     "name": "stdout",
     "output_type": "stream",
     "text": [
      "Model Was Not Saved ! Current Best Avg. Dice: 0.430745929479599 Current Avg. Dice: 0.39976438879966736 Current Avg. tumor Dice: 0.3787681460380554 Current Avg. lymph Dice: 0.4207606911659241\n"
     ]
    },
    {
     "name": "stderr",
     "output_type": "stream",
     "text": [
      "Training (13719 / 18000 Steps) (loss=0.33485): 100%|██████████| 20/20 [00:22<00:00,  1.10s/it]\n",
      "Training (13739 / 18000 Steps) (loss=0.30823): 100%|██████████| 20/20 [00:11<00:00,  1.75it/s]\n",
      "Training (13759 / 18000 Steps) (loss=0.31374): 100%|██████████| 20/20 [00:11<00:00,  1.73it/s]\n",
      "Training (13779 / 18000 Steps) (loss=0.46229): 100%|██████████| 20/20 [00:11<00:00,  1.79it/s]\n",
      "Training (13799 / 18000 Steps) (loss=0.39445): 100%|██████████| 20/20 [00:11<00:00,  1.74it/s]\n",
      "Validate (13800 / 10 Steps): 100%|██████████| 7/7 [00:10<00:00,  1.47s/it]3<?, ?it/s]\n",
      "Training (13800 / 18000 Steps) (loss=0.49782):   5%|▌         | 1/20 [00:13<04:22, 13.80s/it]"
     ]
    },
    {
     "name": "stdout",
     "output_type": "stream",
     "text": [
      "Model Was Not Saved ! Current Best Avg. Dice: 0.430745929479599 Current Avg. Dice: 0.3827425539493561 Current Avg. tumor Dice: 0.35796496272087097 Current Avg. lymph Dice: 0.4075201153755188\n"
     ]
    },
    {
     "name": "stderr",
     "output_type": "stream",
     "text": [
      "Training (13819 / 18000 Steps) (loss=0.41157): 100%|██████████| 20/20 [00:21<00:00,  1.09s/it]\n",
      "Training (13839 / 18000 Steps) (loss=0.44900): 100%|██████████| 20/20 [00:11<00:00,  1.79it/s]\n",
      "Training (13859 / 18000 Steps) (loss=0.47836): 100%|██████████| 20/20 [00:10<00:00,  1.82it/s]\n",
      "Training (13879 / 18000 Steps) (loss=0.24871): 100%|██████████| 20/20 [00:11<00:00,  1.78it/s]\n",
      "Training (13899 / 18000 Steps) (loss=0.30572): 100%|██████████| 20/20 [00:11<00:00,  1.71it/s]\n",
      "Validate (13900 / 10 Steps): 100%|██████████| 7/7 [00:10<00:00,  1.51s/it]3<?, ?it/s]\n",
      "Training (13900 / 18000 Steps) (loss=0.36271):   5%|▌         | 1/20 [00:13<04:19, 13.66s/it]"
     ]
    },
    {
     "name": "stdout",
     "output_type": "stream",
     "text": [
      "Model Was Not Saved ! Current Best Avg. Dice: 0.430745929479599 Current Avg. Dice: 0.39071518182754517 Current Avg. tumor Dice: 0.39080312848091125 Current Avg. lymph Dice: 0.3906272351741791\n"
     ]
    },
    {
     "name": "stderr",
     "output_type": "stream",
     "text": [
      "Training (13919 / 18000 Steps) (loss=0.38146): 100%|██████████| 20/20 [00:21<00:00,  1.08s/it]\n",
      "Training (13939 / 18000 Steps) (loss=0.42457): 100%|██████████| 20/20 [00:11<00:00,  1.76it/s]\n",
      "Training (13959 / 18000 Steps) (loss=0.45901): 100%|██████████| 20/20 [00:11<00:00,  1.80it/s]\n",
      "Training (13979 / 18000 Steps) (loss=0.30863): 100%|██████████| 20/20 [00:11<00:00,  1.74it/s]\n",
      "Training (13999 / 18000 Steps) (loss=0.36998): 100%|██████████| 20/20 [00:11<00:00,  1.70it/s]\n",
      "Validate (14000 / 10 Steps): 100%|██████████| 7/7 [00:10<00:00,  1.53s/it]3<?, ?it/s]\n",
      "Training (14000 / 18000 Steps) (loss=0.37314):   5%|▌         | 1/20 [00:13<04:25, 13.98s/it]"
     ]
    },
    {
     "name": "stdout",
     "output_type": "stream",
     "text": [
      "Model Was Not Saved ! Current Best Avg. Dice: 0.430745929479599 Current Avg. Dice: 0.39308494329452515 Current Avg. tumor Dice: 0.35776805877685547 Current Avg. lymph Dice: 0.42840179800987244\n"
     ]
    },
    {
     "name": "stderr",
     "output_type": "stream",
     "text": [
      "Training (14019 / 18000 Steps) (loss=0.38419): 100%|██████████| 20/20 [00:22<00:00,  1.10s/it]\n",
      "Training (14039 / 18000 Steps) (loss=0.43462): 100%|██████████| 20/20 [00:11<00:00,  1.74it/s]\n",
      "Training (14059 / 18000 Steps) (loss=0.48347): 100%|██████████| 20/20 [00:11<00:00,  1.78it/s]\n",
      "Training (14079 / 18000 Steps) (loss=0.50498): 100%|██████████| 20/20 [00:11<00:00,  1.78it/s]\n",
      "Training (14099 / 18000 Steps) (loss=0.53905): 100%|██████████| 20/20 [00:10<00:00,  1.82it/s]\n",
      "Validate (14100 / 10 Steps): 100%|██████████| 7/7 [00:10<00:00,  1.51s/it]3<?, ?it/s]\n",
      "Training (14100 / 18000 Steps) (loss=0.28684):   5%|▌         | 1/20 [00:13<04:25, 13.98s/it]"
     ]
    },
    {
     "name": "stdout",
     "output_type": "stream",
     "text": [
      "Model Was Not Saved ! Current Best Avg. Dice: 0.430745929479599 Current Avg. Dice: 0.4300212860107422 Current Avg. tumor Dice: 0.4011964499950409 Current Avg. lymph Dice: 0.45884615182876587\n"
     ]
    },
    {
     "name": "stderr",
     "output_type": "stream",
     "text": [
      "Training (14119 / 18000 Steps) (loss=0.40489): 100%|██████████| 20/20 [00:22<00:00,  1.10s/it]\n",
      "Training (14139 / 18000 Steps) (loss=0.38129): 100%|██████████| 20/20 [00:11<00:00,  1.80it/s]\n",
      "Training (14159 / 18000 Steps) (loss=0.40292): 100%|██████████| 20/20 [00:11<00:00,  1.76it/s]\n",
      "Training (14179 / 18000 Steps) (loss=0.36140): 100%|██████████| 20/20 [00:11<00:00,  1.76it/s]\n",
      "Training (14199 / 18000 Steps) (loss=0.57661): 100%|██████████| 20/20 [00:11<00:00,  1.80it/s]\n",
      "Validate (14200 / 10 Steps): 100%|██████████| 7/7 [00:10<00:00,  1.50s/it]3<?, ?it/s]\n",
      "Training (14200 / 18000 Steps) (loss=0.46912):   5%|▌         | 1/20 [00:14<04:30, 14.22s/it]"
     ]
    },
    {
     "name": "stdout",
     "output_type": "stream",
     "text": [
      "Model Was Not Saved ! Current Best Avg. Dice: 0.430745929479599 Current Avg. Dice: 0.36898258328437805 Current Avg. tumor Dice: 0.33500343561172485 Current Avg. lymph Dice: 0.40296176075935364\n"
     ]
    },
    {
     "name": "stderr",
     "output_type": "stream",
     "text": [
      "Training (14219 / 18000 Steps) (loss=0.45284): 100%|██████████| 20/20 [00:22<00:00,  1.11s/it]\n",
      "Training (14239 / 18000 Steps) (loss=0.43667): 100%|██████████| 20/20 [00:11<00:00,  1.74it/s]\n",
      "Training (14259 / 18000 Steps) (loss=0.42666): 100%|██████████| 20/20 [00:11<00:00,  1.73it/s]\n",
      "Training (14279 / 18000 Steps) (loss=0.40763): 100%|██████████| 20/20 [00:11<00:00,  1.80it/s]\n",
      "Training (14299 / 18000 Steps) (loss=0.34122): 100%|██████████| 20/20 [00:11<00:00,  1.72it/s]\n",
      "Validate (14300 / 10 Steps): 100%|██████████| 7/7 [00:10<00:00,  1.50s/it]3<?, ?it/s]\n",
      "Training (14300 / 18000 Steps) (loss=0.44873):   5%|▌         | 1/20 [00:13<04:21, 13.76s/it]"
     ]
    },
    {
     "name": "stdout",
     "output_type": "stream",
     "text": [
      "Model Was Not Saved ! Current Best Avg. Dice: 0.430745929479599 Current Avg. Dice: 0.42140594124794006 Current Avg. tumor Dice: 0.43150684237480164 Current Avg. lymph Dice: 0.4113050401210785\n"
     ]
    },
    {
     "name": "stderr",
     "output_type": "stream",
     "text": [
      "Training (14319 / 18000 Steps) (loss=0.40236): 100%|██████████| 20/20 [00:21<00:00,  1.09s/it]\n",
      "Training (14339 / 18000 Steps) (loss=0.46402): 100%|██████████| 20/20 [00:11<00:00,  1.72it/s]\n",
      "Training (14359 / 18000 Steps) (loss=0.49153): 100%|██████████| 20/20 [00:10<00:00,  1.82it/s]\n",
      "Training (14379 / 18000 Steps) (loss=0.40767): 100%|██████████| 20/20 [00:11<00:00,  1.81it/s]\n",
      "Training (14399 / 18000 Steps) (loss=0.49580): 100%|██████████| 20/20 [00:11<00:00,  1.78it/s]\n",
      "Validate (14400 / 10 Steps): 100%|██████████| 7/7 [00:10<00:00,  1.48s/it]3<?, ?it/s]\n",
      "Training (14400 / 18000 Steps) (loss=0.55594):   5%|▌         | 1/20 [00:13<04:25, 13.98s/it]"
     ]
    },
    {
     "name": "stdout",
     "output_type": "stream",
     "text": [
      "Model Was Not Saved ! Current Best Avg. Dice: 0.430745929479599 Current Avg. Dice: 0.39672210812568665 Current Avg. tumor Dice: 0.3681407570838928 Current Avg. lymph Dice: 0.4253033697605133\n"
     ]
    },
    {
     "name": "stderr",
     "output_type": "stream",
     "text": [
      "Training (14419 / 18000 Steps) (loss=0.48103): 100%|██████████| 20/20 [00:22<00:00,  1.10s/it]\n",
      "Training (14439 / 18000 Steps) (loss=0.46548): 100%|██████████| 20/20 [00:11<00:00,  1.80it/s]\n",
      "Training (14459 / 18000 Steps) (loss=0.48009): 100%|██████████| 20/20 [00:11<00:00,  1.78it/s]\n",
      "Training (14479 / 18000 Steps) (loss=0.42440): 100%|██████████| 20/20 [00:11<00:00,  1.78it/s]\n",
      "Training (14499 / 18000 Steps) (loss=0.37914): 100%|██████████| 20/20 [00:10<00:00,  1.82it/s]\n",
      "Validate (14500 / 10 Steps): 100%|██████████| 7/7 [00:10<00:00,  1.48s/it]3<?, ?it/s]\n",
      "Training (14500 / 18000 Steps) (loss=0.54100):   5%|▌         | 1/20 [00:13<04:20, 13.72s/it]"
     ]
    },
    {
     "name": "stdout",
     "output_type": "stream",
     "text": [
      "Model Was Not Saved ! Current Best Avg. Dice: 0.430745929479599 Current Avg. Dice: 0.41972002387046814 Current Avg. tumor Dice: 0.43134525418281555 Current Avg. lymph Dice: 0.4080947935581207\n"
     ]
    },
    {
     "name": "stderr",
     "output_type": "stream",
     "text": [
      "Training (14519 / 18000 Steps) (loss=0.46972): 100%|██████████| 20/20 [00:21<00:00,  1.09s/it]\n",
      "Training (14539 / 18000 Steps) (loss=0.50569): 100%|██████████| 20/20 [00:11<00:00,  1.78it/s]\n",
      "Training (14559 / 18000 Steps) (loss=0.50493): 100%|██████████| 20/20 [00:11<00:00,  1.73it/s]\n",
      "Training (14579 / 18000 Steps) (loss=0.46773): 100%|██████████| 20/20 [00:11<00:00,  1.75it/s]\n",
      "Training (14599 / 18000 Steps) (loss=0.50706): 100%|██████████| 20/20 [00:11<00:00,  1.74it/s]\n",
      "Validate (14600 / 10 Steps): 100%|██████████| 7/7 [00:10<00:00,  1.51s/it]3<?, ?it/s]\n",
      "Training (14600 / 18000 Steps) (loss=0.43329):   5%|▌         | 1/20 [00:13<04:24, 13.91s/it]"
     ]
    },
    {
     "name": "stdout",
     "output_type": "stream",
     "text": [
      "Model Was Not Saved ! Current Best Avg. Dice: 0.430745929479599 Current Avg. Dice: 0.3805871605873108 Current Avg. tumor Dice: 0.32714053988456726 Current Avg. lymph Dice: 0.4340338110923767\n"
     ]
    },
    {
     "name": "stderr",
     "output_type": "stream",
     "text": [
      "Training (14619 / 18000 Steps) (loss=0.39558): 100%|██████████| 20/20 [00:21<00:00,  1.10s/it]\n",
      "Training (14639 / 18000 Steps) (loss=0.24039): 100%|██████████| 20/20 [00:11<00:00,  1.80it/s]\n",
      "Training (14659 / 18000 Steps) (loss=0.51712): 100%|██████████| 20/20 [00:11<00:00,  1.75it/s]\n",
      "Training (14679 / 18000 Steps) (loss=0.45808): 100%|██████████| 20/20 [00:11<00:00,  1.75it/s]\n",
      "Training (14699 / 18000 Steps) (loss=0.47200): 100%|██████████| 20/20 [00:11<00:00,  1.74it/s]\n",
      "Validate (14700 / 10 Steps): 100%|██████████| 7/7 [00:10<00:00,  1.50s/it]3<?, ?it/s]\n",
      "Training (14700 / 18000 Steps) (loss=0.42567):   5%|▌         | 1/20 [00:14<04:33, 14.38s/it]"
     ]
    },
    {
     "name": "stdout",
     "output_type": "stream",
     "text": [
      "Model Was Saved ! Current Best Avg. Dice: 0.43691062927246094 Current Avg. Dice: 0.43691062927246094 Current Avg. tumor Dice: 0.4487256407737732 Current Avg. lymph Dice: 0.4250956177711487\n"
     ]
    },
    {
     "name": "stderr",
     "output_type": "stream",
     "text": [
      "Training (14719 / 18000 Steps) (loss=0.56870): 100%|██████████| 20/20 [00:22<00:00,  1.12s/it]\n",
      "Training (14739 / 18000 Steps) (loss=0.46317): 100%|██████████| 20/20 [00:11<00:00,  1.76it/s]\n",
      "Training (14759 / 18000 Steps) (loss=0.41444): 100%|██████████| 20/20 [00:11<00:00,  1.72it/s]\n",
      "Training (14779 / 18000 Steps) (loss=0.50340): 100%|██████████| 20/20 [00:11<00:00,  1.79it/s]\n",
      "Training (14799 / 18000 Steps) (loss=0.55360): 100%|██████████| 20/20 [00:11<00:00,  1.76it/s]\n",
      "Validate (14800 / 10 Steps): 100%|██████████| 7/7 [00:10<00:00,  1.50s/it]3<?, ?it/s]\n",
      "Training (14800 / 18000 Steps) (loss=0.55729):   5%|▌         | 1/20 [00:13<04:21, 13.77s/it]"
     ]
    },
    {
     "name": "stdout",
     "output_type": "stream",
     "text": [
      "Model Was Not Saved ! Current Best Avg. Dice: 0.43691062927246094 Current Avg. Dice: 0.4265384078025818 Current Avg. tumor Dice: 0.4493449628353119 Current Avg. lymph Dice: 0.4037318527698517\n"
     ]
    },
    {
     "name": "stderr",
     "output_type": "stream",
     "text": [
      "Training (14819 / 18000 Steps) (loss=0.23240): 100%|██████████| 20/20 [00:21<00:00,  1.09s/it]\n",
      "Training (14839 / 18000 Steps) (loss=0.47357): 100%|██████████| 20/20 [00:11<00:00,  1.74it/s]\n",
      "Training (14859 / 18000 Steps) (loss=0.31088): 100%|██████████| 20/20 [00:11<00:00,  1.72it/s]\n",
      "Training (14879 / 18000 Steps) (loss=0.36304): 100%|██████████| 20/20 [00:11<00:00,  1.80it/s]\n",
      "Training (14899 / 18000 Steps) (loss=0.48838): 100%|██████████| 20/20 [00:10<00:00,  1.82it/s]\n",
      "Validate (14900 / 10 Steps): 100%|██████████| 7/7 [00:10<00:00,  1.49s/it]3<?, ?it/s]\n",
      "Training (14900 / 18000 Steps) (loss=0.58506):   5%|▌         | 1/20 [00:13<04:21, 13.75s/it]"
     ]
    },
    {
     "name": "stdout",
     "output_type": "stream",
     "text": [
      "Model Was Not Saved ! Current Best Avg. Dice: 0.43691062927246094 Current Avg. Dice: 0.3954905569553375 Current Avg. tumor Dice: 0.3747408092021942 Current Avg. lymph Dice: 0.41624024510383606\n"
     ]
    },
    {
     "name": "stderr",
     "output_type": "stream",
     "text": [
      "Training (14919 / 18000 Steps) (loss=0.56355): 100%|██████████| 20/20 [00:21<00:00,  1.09s/it]\n",
      "Training (14939 / 18000 Steps) (loss=0.46871): 100%|██████████| 20/20 [00:11<00:00,  1.77it/s]\n",
      "Training (14959 / 18000 Steps) (loss=0.39657): 100%|██████████| 20/20 [00:11<00:00,  1.77it/s]\n",
      "Training (14979 / 18000 Steps) (loss=0.47485): 100%|██████████| 20/20 [00:11<00:00,  1.79it/s]\n",
      "Training (14999 / 18000 Steps) (loss=0.34322): 100%|██████████| 20/20 [00:11<00:00,  1.77it/s]\n",
      "Validate (15000 / 10 Steps): 100%|██████████| 7/7 [00:10<00:00,  1.47s/it]2<?, ?it/s]\n",
      "Training (15000 / 18000 Steps) (loss=0.29666):   5%|▌         | 1/20 [00:13<04:13, 13.35s/it]"
     ]
    },
    {
     "name": "stdout",
     "output_type": "stream",
     "text": [
      "Model Was Not Saved ! Current Best Avg. Dice: 0.43691062927246094 Current Avg. Dice: 0.39347344636917114 Current Avg. tumor Dice: 0.3819487988948822 Current Avg. lymph Dice: 0.40499812364578247\n"
     ]
    },
    {
     "name": "stderr",
     "output_type": "stream",
     "text": [
      "Training (15019 / 18000 Steps) (loss=0.49142): 100%|██████████| 20/20 [00:21<00:00,  1.07s/it]\n",
      "Training (15039 / 18000 Steps) (loss=0.51058): 100%|██████████| 20/20 [00:11<00:00,  1.76it/s]\n",
      "Training (15059 / 18000 Steps) (loss=0.43313): 100%|██████████| 20/20 [00:11<00:00,  1.72it/s]\n",
      "Training (15079 / 18000 Steps) (loss=0.36805): 100%|██████████| 20/20 [00:11<00:00,  1.73it/s]\n",
      "Training (15099 / 18000 Steps) (loss=0.30088): 100%|██████████| 20/20 [00:11<00:00,  1.73it/s]\n",
      "Validate (15100 / 10 Steps): 100%|██████████| 7/7 [00:10<00:00,  1.48s/it]3<?, ?it/s]\n",
      "Training (15100 / 18000 Steps) (loss=0.52953):   5%|▌         | 1/20 [00:13<04:23, 13.87s/it]"
     ]
    },
    {
     "name": "stdout",
     "output_type": "stream",
     "text": [
      "Model Was Not Saved ! Current Best Avg. Dice: 0.43691062927246094 Current Avg. Dice: 0.37352070212364197 Current Avg. tumor Dice: 0.38578706979751587 Current Avg. lymph Dice: 0.36125436425209045\n"
     ]
    },
    {
     "name": "stderr",
     "output_type": "stream",
     "text": [
      "Training (15119 / 18000 Steps) (loss=0.43459): 100%|██████████| 20/20 [00:21<00:00,  1.09s/it]\n",
      "Training (15139 / 18000 Steps) (loss=0.44203): 100%|██████████| 20/20 [00:11<00:00,  1.76it/s]\n",
      "Training (15159 / 18000 Steps) (loss=0.54387): 100%|██████████| 20/20 [00:11<00:00,  1.77it/s]\n",
      "Training (15179 / 18000 Steps) (loss=0.48754): 100%|██████████| 20/20 [00:11<00:00,  1.80it/s]\n",
      "Training (15199 / 18000 Steps) (loss=0.40739): 100%|██████████| 20/20 [00:11<00:00,  1.79it/s]\n",
      "Validate (15200 / 10 Steps): 100%|██████████| 7/7 [00:10<00:00,  1.49s/it]3<?, ?it/s]\n",
      "Training (15200 / 18000 Steps) (loss=0.45825):   5%|▌         | 1/20 [00:14<04:26, 14.05s/it]"
     ]
    },
    {
     "name": "stdout",
     "output_type": "stream",
     "text": [
      "Model Was Not Saved ! Current Best Avg. Dice: 0.43691062927246094 Current Avg. Dice: 0.40013429522514343 Current Avg. tumor Dice: 0.3785853087902069 Current Avg. lymph Dice: 0.42168328166007996\n"
     ]
    },
    {
     "name": "stderr",
     "output_type": "stream",
     "text": [
      "Training (15219 / 18000 Steps) (loss=0.36824): 100%|██████████| 20/20 [00:22<00:00,  1.10s/it]\n",
      "Training (15239 / 18000 Steps) (loss=0.34950): 100%|██████████| 20/20 [00:11<00:00,  1.75it/s]\n",
      "Training (15259 / 18000 Steps) (loss=0.41547): 100%|██████████| 20/20 [00:11<00:00,  1.78it/s]\n",
      "Training (15279 / 18000 Steps) (loss=0.43386): 100%|██████████| 20/20 [00:11<00:00,  1.80it/s]\n",
      "Training (15299 / 18000 Steps) (loss=0.45986): 100%|██████████| 20/20 [00:11<00:00,  1.75it/s]\n",
      "Validate (15300 / 10 Steps): 100%|██████████| 7/7 [00:10<00:00,  1.48s/it]3<?, ?it/s]\n",
      "Training (15300 / 18000 Steps) (loss=0.46990):   5%|▌         | 1/20 [00:13<04:24, 13.91s/it]"
     ]
    },
    {
     "name": "stdout",
     "output_type": "stream",
     "text": [
      "Model Was Not Saved ! Current Best Avg. Dice: 0.43691062927246094 Current Avg. Dice: 0.415766179561615 Current Avg. tumor Dice: 0.4246489107608795 Current Avg. lymph Dice: 0.40688344836235046\n"
     ]
    },
    {
     "name": "stderr",
     "output_type": "stream",
     "text": [
      "Training (15319 / 18000 Steps) (loss=0.33641): 100%|██████████| 20/20 [00:21<00:00,  1.10s/it]\n",
      "Training (15339 / 18000 Steps) (loss=0.34101): 100%|██████████| 20/20 [00:11<00:00,  1.78it/s]\n",
      "Training (15359 / 18000 Steps) (loss=0.30352): 100%|██████████| 20/20 [00:11<00:00,  1.80it/s]\n",
      "Training (15379 / 18000 Steps) (loss=0.50578): 100%|██████████| 20/20 [00:11<00:00,  1.76it/s]\n",
      "Training (15399 / 18000 Steps) (loss=0.38906): 100%|██████████| 20/20 [00:11<00:00,  1.73it/s]\n",
      "Validate (15400 / 10 Steps): 100%|██████████| 7/7 [00:10<00:00,  1.50s/it]3<?, ?it/s]\n",
      "Training (15400 / 18000 Steps) (loss=0.50574):   5%|▌         | 1/20 [00:14<04:26, 14.05s/it]"
     ]
    },
    {
     "name": "stdout",
     "output_type": "stream",
     "text": [
      "Model Was Not Saved ! Current Best Avg. Dice: 0.43691062927246094 Current Avg. Dice: 0.408505380153656 Current Avg. tumor Dice: 0.4127965569496155 Current Avg. lymph Dice: 0.40421411395072937\n"
     ]
    },
    {
     "name": "stderr",
     "output_type": "stream",
     "text": [
      "Training (15419 / 18000 Steps) (loss=0.36299): 100%|██████████| 20/20 [00:22<00:00,  1.10s/it]\n",
      "Training (15439 / 18000 Steps) (loss=0.32665): 100%|██████████| 20/20 [00:11<00:00,  1.76it/s]\n",
      "Training (15459 / 18000 Steps) (loss=0.37719): 100%|██████████| 20/20 [00:11<00:00,  1.71it/s]\n",
      "Training (15479 / 18000 Steps) (loss=0.57038): 100%|██████████| 20/20 [00:11<00:00,  1.72it/s]\n",
      "Training (15499 / 18000 Steps) (loss=0.39870): 100%|██████████| 20/20 [00:11<00:00,  1.72it/s]\n",
      "Validate (15500 / 10 Steps): 100%|██████████| 7/7 [00:10<00:00,  1.48s/it]3<?, ?it/s]\n",
      "Training (15500 / 18000 Steps) (loss=0.37738):   5%|▌         | 1/20 [00:13<04:23, 13.85s/it]"
     ]
    },
    {
     "name": "stdout",
     "output_type": "stream",
     "text": [
      "Model Was Not Saved ! Current Best Avg. Dice: 0.43691062927246094 Current Avg. Dice: 0.4251086115837097 Current Avg. tumor Dice: 0.4290381371974945 Current Avg. lymph Dice: 0.42117905616760254\n"
     ]
    },
    {
     "name": "stderr",
     "output_type": "stream",
     "text": [
      "Training (15519 / 18000 Steps) (loss=0.31506): 100%|██████████| 20/20 [00:21<00:00,  1.09s/it]\n",
      "Training (15539 / 18000 Steps) (loss=0.39158): 100%|██████████| 20/20 [00:11<00:00,  1.79it/s]\n",
      "Training (15559 / 18000 Steps) (loss=0.35543): 100%|██████████| 20/20 [00:11<00:00,  1.75it/s]\n",
      "Training (15579 / 18000 Steps) (loss=0.31316): 100%|██████████| 20/20 [00:11<00:00,  1.70it/s]\n",
      "Training (15599 / 18000 Steps) (loss=0.49812): 100%|██████████| 20/20 [00:11<00:00,  1.79it/s]\n",
      "Validate (15600 / 10 Steps): 100%|██████████| 7/7 [00:10<00:00,  1.48s/it]3<?, ?it/s]\n",
      "Training (15600 / 18000 Steps) (loss=0.54823):   5%|▌         | 1/20 [00:13<04:18, 13.58s/it]"
     ]
    },
    {
     "name": "stdout",
     "output_type": "stream",
     "text": [
      "Model Was Not Saved ! Current Best Avg. Dice: 0.43691062927246094 Current Avg. Dice: 0.426142156124115 Current Avg. tumor Dice: 0.4189450144767761 Current Avg. lymph Dice: 0.43333932757377625\n"
     ]
    },
    {
     "name": "stderr",
     "output_type": "stream",
     "text": [
      "Training (15619 / 18000 Steps) (loss=0.38117): 100%|██████████| 20/20 [00:21<00:00,  1.08s/it]\n",
      "Training (15639 / 18000 Steps) (loss=0.38496): 100%|██████████| 20/20 [00:11<00:00,  1.75it/s]\n",
      "Training (15659 / 18000 Steps) (loss=0.47379): 100%|██████████| 20/20 [00:11<00:00,  1.70it/s]\n",
      "Training (15679 / 18000 Steps) (loss=0.35276): 100%|██████████| 20/20 [00:11<00:00,  1.80it/s]\n",
      "Training (15699 / 18000 Steps) (loss=0.47900): 100%|██████████| 20/20 [00:11<00:00,  1.73it/s]\n",
      "Validate (15700 / 10 Steps): 100%|██████████| 7/7 [00:10<00:00,  1.50s/it]3<?, ?it/s]\n",
      "Training (15700 / 18000 Steps) (loss=0.26048):   5%|▌         | 1/20 [00:13<04:22, 13.81s/it]"
     ]
    },
    {
     "name": "stdout",
     "output_type": "stream",
     "text": [
      "Model Was Not Saved ! Current Best Avg. Dice: 0.43691062927246094 Current Avg. Dice: 0.3962012231349945 Current Avg. tumor Dice: 0.3730785846710205 Current Avg. lymph Dice: 0.4193238615989685\n"
     ]
    },
    {
     "name": "stderr",
     "output_type": "stream",
     "text": [
      "Training (15719 / 18000 Steps) (loss=0.28248): 100%|██████████| 20/20 [00:21<00:00,  1.09s/it]\n",
      "Training (15739 / 18000 Steps) (loss=0.38773): 100%|██████████| 20/20 [00:11<00:00,  1.78it/s]\n",
      "Training (15759 / 18000 Steps) (loss=0.28217): 100%|██████████| 20/20 [00:11<00:00,  1.74it/s]\n",
      "Training (15779 / 18000 Steps) (loss=0.34808): 100%|██████████| 20/20 [00:11<00:00,  1.78it/s]\n",
      "Training (15799 / 18000 Steps) (loss=0.42693): 100%|██████████| 20/20 [00:11<00:00,  1.74it/s]\n",
      "Validate (15800 / 10 Steps): 100%|██████████| 7/7 [00:10<00:00,  1.50s/it]3<?, ?it/s]\n",
      "Training (15800 / 18000 Steps) (loss=0.42034):   5%|▌         | 1/20 [00:13<04:22, 13.80s/it]"
     ]
    },
    {
     "name": "stdout",
     "output_type": "stream",
     "text": [
      "Model Was Not Saved ! Current Best Avg. Dice: 0.43691062927246094 Current Avg. Dice: 0.40704503655433655 Current Avg. tumor Dice: 0.42943042516708374 Current Avg. lymph Dice: 0.38465967774391174\n"
     ]
    },
    {
     "name": "stderr",
     "output_type": "stream",
     "text": [
      "Training (15819 / 18000 Steps) (loss=0.40558): 100%|██████████| 20/20 [00:21<00:00,  1.09s/it]\n",
      "Training (15839 / 18000 Steps) (loss=0.38941): 100%|██████████| 20/20 [00:11<00:00,  1.81it/s]\n",
      "Training (15859 / 18000 Steps) (loss=0.27058): 100%|██████████| 20/20 [00:11<00:00,  1.76it/s]\n",
      "Training (15879 / 18000 Steps) (loss=0.53709): 100%|██████████| 20/20 [00:11<00:00,  1.72it/s]\n",
      "Training (15899 / 18000 Steps) (loss=0.44841): 100%|██████████| 20/20 [00:11<00:00,  1.72it/s]\n",
      "Validate (15900 / 10 Steps): 100%|██████████| 7/7 [00:10<00:00,  1.51s/it]3<?, ?it/s]\n",
      "Training (15900 / 18000 Steps) (loss=0.40140):   5%|▌         | 1/20 [00:13<04:22, 13.81s/it]"
     ]
    },
    {
     "name": "stdout",
     "output_type": "stream",
     "text": [
      "Model Was Not Saved ! Current Best Avg. Dice: 0.43691062927246094 Current Avg. Dice: 0.40654781460762024 Current Avg. tumor Dice: 0.4239213168621063 Current Avg. lymph Dice: 0.38917431235313416\n"
     ]
    },
    {
     "name": "stderr",
     "output_type": "stream",
     "text": [
      "Training (15919 / 18000 Steps) (loss=0.26480): 100%|██████████| 20/20 [00:21<00:00,  1.09s/it]\n",
      "Training (15939 / 18000 Steps) (loss=0.48158): 100%|██████████| 20/20 [00:11<00:00,  1.79it/s]\n",
      "Training (15959 / 18000 Steps) (loss=0.39592): 100%|██████████| 20/20 [00:11<00:00,  1.80it/s]\n",
      "Training (15979 / 18000 Steps) (loss=0.39988): 100%|██████████| 20/20 [00:11<00:00,  1.71it/s]\n",
      "Training (15999 / 18000 Steps) (loss=0.39198): 100%|██████████| 20/20 [00:11<00:00,  1.79it/s]\n",
      "Validate (16000 / 10 Steps): 100%|██████████| 7/7 [00:10<00:00,  1.50s/it]3<?, ?it/s]\n",
      "Training (16000 / 18000 Steps) (loss=0.22553):   5%|▌         | 1/20 [00:13<04:22, 13.82s/it]"
     ]
    },
    {
     "name": "stdout",
     "output_type": "stream",
     "text": [
      "Model Was Not Saved ! Current Best Avg. Dice: 0.43691062927246094 Current Avg. Dice: 0.43641337752342224 Current Avg. tumor Dice: 0.4371023178100586 Current Avg. lymph Dice: 0.4357244670391083\n"
     ]
    },
    {
     "name": "stderr",
     "output_type": "stream",
     "text": [
      "Training (16019 / 18000 Steps) (loss=0.34074): 100%|██████████| 20/20 [00:21<00:00,  1.09s/it]\n",
      "Training (16039 / 18000 Steps) (loss=0.51030): 100%|██████████| 20/20 [00:11<00:00,  1.77it/s]\n",
      "Training (16059 / 18000 Steps) (loss=0.42738): 100%|██████████| 20/20 [00:11<00:00,  1.79it/s]\n",
      "Training (16079 / 18000 Steps) (loss=0.45810): 100%|██████████| 20/20 [00:11<00:00,  1.78it/s]\n",
      "Training (16099 / 18000 Steps) (loss=0.54924): 100%|██████████| 20/20 [00:11<00:00,  1.77it/s]\n",
      "Validate (16100 / 10 Steps): 100%|██████████| 7/7 [00:10<00:00,  1.49s/it]2<?, ?it/s]\n",
      "Training (16100 / 18000 Steps) (loss=0.38164):   5%|▌         | 1/20 [00:13<04:15, 13.47s/it]"
     ]
    },
    {
     "name": "stdout",
     "output_type": "stream",
     "text": [
      "Model Was Not Saved ! Current Best Avg. Dice: 0.43691062927246094 Current Avg. Dice: 0.42072615027427673 Current Avg. tumor Dice: 0.4241942763328552 Current Avg. lymph Dice: 0.417258083820343\n"
     ]
    },
    {
     "name": "stderr",
     "output_type": "stream",
     "text": [
      "Training (16119 / 18000 Steps) (loss=0.50440): 100%|██████████| 20/20 [00:21<00:00,  1.07s/it]\n",
      "Training (16139 / 18000 Steps) (loss=0.41689): 100%|██████████| 20/20 [00:11<00:00,  1.70it/s]\n",
      "Training (16159 / 18000 Steps) (loss=0.46760): 100%|██████████| 20/20 [00:11<00:00,  1.78it/s]\n",
      "Training (16179 / 18000 Steps) (loss=0.46186): 100%|██████████| 20/20 [00:11<00:00,  1.74it/s]\n",
      "Training (16199 / 18000 Steps) (loss=0.50950): 100%|██████████| 20/20 [00:11<00:00,  1.73it/s]\n",
      "Validate (16200 / 10 Steps): 100%|██████████| 7/7 [00:10<00:00,  1.51s/it]3<?, ?it/s]\n",
      "Training (16200 / 18000 Steps) (loss=0.53266):   5%|▌         | 1/20 [00:14<04:42, 14.86s/it]"
     ]
    },
    {
     "name": "stdout",
     "output_type": "stream",
     "text": [
      "Model Was Saved ! Current Best Avg. Dice: 0.44623151421546936 Current Avg. Dice: 0.44623151421546936 Current Avg. tumor Dice: 0.46948322653770447 Current Avg. lymph Dice: 0.4229796826839447\n"
     ]
    },
    {
     "name": "stderr",
     "output_type": "stream",
     "text": [
      "Training (16219 / 18000 Steps) (loss=0.41572): 100%|██████████| 20/20 [00:22<00:00,  1.14s/it]\n",
      "Training (16239 / 18000 Steps) (loss=0.22610): 100%|██████████| 20/20 [00:11<00:00,  1.73it/s]\n",
      "Training (16259 / 18000 Steps) (loss=0.43157): 100%|██████████| 20/20 [00:11<00:00,  1.79it/s]\n",
      "Training (16279 / 18000 Steps) (loss=0.57814): 100%|██████████| 20/20 [00:11<00:00,  1.79it/s]\n",
      "Training (16299 / 18000 Steps) (loss=0.28762): 100%|██████████| 20/20 [00:11<00:00,  1.78it/s]\n",
      "Validate (16300 / 10 Steps): 100%|██████████| 7/7 [00:10<00:00,  1.50s/it]3<?, ?it/s]\n",
      "Training (16300 / 18000 Steps) (loss=0.49341):   5%|▌         | 1/20 [00:14<04:30, 14.24s/it]"
     ]
    },
    {
     "name": "stdout",
     "output_type": "stream",
     "text": [
      "Model Was Not Saved ! Current Best Avg. Dice: 0.44623151421546936 Current Avg. Dice: 0.43014049530029297 Current Avg. tumor Dice: 0.4341135621070862 Current Avg. lymph Dice: 0.42616742849349976\n"
     ]
    },
    {
     "name": "stderr",
     "output_type": "stream",
     "text": [
      "Training (16319 / 18000 Steps) (loss=0.28939): 100%|██████████| 20/20 [00:22<00:00,  1.11s/it]\n",
      "Training (16339 / 18000 Steps) (loss=0.38824): 100%|██████████| 20/20 [00:11<00:00,  1.79it/s]\n",
      "Training (16359 / 18000 Steps) (loss=0.50534): 100%|██████████| 20/20 [00:11<00:00,  1.74it/s]\n",
      "Training (16379 / 18000 Steps) (loss=0.37483): 100%|██████████| 20/20 [00:11<00:00,  1.81it/s]\n",
      "Training (16399 / 18000 Steps) (loss=0.32573): 100%|██████████| 20/20 [00:11<00:00,  1.81it/s]\n",
      "Validate (16400 / 10 Steps): 100%|██████████| 7/7 [00:10<00:00,  1.50s/it]3<?, ?it/s]\n",
      "Training (16400 / 18000 Steps) (loss=0.41619):   5%|▌         | 1/20 [00:14<04:28, 14.14s/it]"
     ]
    },
    {
     "name": "stdout",
     "output_type": "stream",
     "text": [
      "Model Was Not Saved ! Current Best Avg. Dice: 0.44623151421546936 Current Avg. Dice: 0.41506147384643555 Current Avg. tumor Dice: 0.4006958603858948 Current Avg. lymph Dice: 0.4294271171092987\n"
     ]
    },
    {
     "name": "stderr",
     "output_type": "stream",
     "text": [
      "Training (16419 / 18000 Steps) (loss=0.44535): 100%|██████████| 20/20 [00:22<00:00,  1.11s/it]\n",
      "Training (16439 / 18000 Steps) (loss=0.36017): 100%|██████████| 20/20 [00:11<00:00,  1.74it/s]\n",
      "Training (16459 / 18000 Steps) (loss=0.50883): 100%|██████████| 20/20 [00:11<00:00,  1.74it/s]\n",
      "Training (16479 / 18000 Steps) (loss=0.43957): 100%|██████████| 20/20 [00:11<00:00,  1.77it/s]\n",
      "Training (16499 / 18000 Steps) (loss=0.52491): 100%|██████████| 20/20 [00:11<00:00,  1.74it/s]\n",
      "Validate (16500 / 10 Steps): 100%|██████████| 7/7 [00:10<00:00,  1.52s/it]3<?, ?it/s]\n",
      "Training (16500 / 18000 Steps) (loss=0.47893):   5%|▌         | 1/20 [00:13<04:21, 13.79s/it]"
     ]
    },
    {
     "name": "stdout",
     "output_type": "stream",
     "text": [
      "Model Was Not Saved ! Current Best Avg. Dice: 0.44623151421546936 Current Avg. Dice: 0.4191182255744934 Current Avg. tumor Dice: 0.4427962899208069 Current Avg. lymph Dice: 0.39544016122817993\n"
     ]
    },
    {
     "name": "stderr",
     "output_type": "stream",
     "text": [
      "Training (16519 / 18000 Steps) (loss=0.44117): 100%|██████████| 20/20 [00:21<00:00,  1.09s/it]\n",
      "Training (16539 / 18000 Steps) (loss=0.44637): 100%|██████████| 20/20 [00:11<00:00,  1.78it/s]\n",
      "Training (16559 / 18000 Steps) (loss=0.29405): 100%|██████████| 20/20 [00:11<00:00,  1.76it/s]\n",
      "Training (16579 / 18000 Steps) (loss=0.37373): 100%|██████████| 20/20 [00:11<00:00,  1.75it/s]\n",
      "Training (16599 / 18000 Steps) (loss=0.50966): 100%|██████████| 20/20 [00:11<00:00,  1.76it/s]\n",
      "Validate (16600 / 10 Steps): 100%|██████████| 7/7 [00:10<00:00,  1.52s/it]3<?, ?it/s]\n",
      "Training (16600 / 18000 Steps) (loss=0.57568):   5%|▌         | 1/20 [00:13<04:23, 13.89s/it]"
     ]
    },
    {
     "name": "stdout",
     "output_type": "stream",
     "text": [
      "Model Was Not Saved ! Current Best Avg. Dice: 0.44623151421546936 Current Avg. Dice: 0.3947223126888275 Current Avg. tumor Dice: 0.34641721844673157 Current Avg. lymph Dice: 0.44302740693092346\n"
     ]
    },
    {
     "name": "stderr",
     "output_type": "stream",
     "text": [
      "Training (16619 / 18000 Steps) (loss=0.51745): 100%|██████████| 20/20 [00:21<00:00,  1.10s/it]\n",
      "Training (16639 / 18000 Steps) (loss=0.42049): 100%|██████████| 20/20 [00:11<00:00,  1.73it/s]\n",
      "Training (16659 / 18000 Steps) (loss=0.32086): 100%|██████████| 20/20 [00:11<00:00,  1.79it/s]\n",
      "Training (16679 / 18000 Steps) (loss=0.48956): 100%|██████████| 20/20 [00:11<00:00,  1.75it/s]\n",
      "Training (16699 / 18000 Steps) (loss=0.47983): 100%|██████████| 20/20 [00:11<00:00,  1.78it/s]\n",
      "Validate (16700 / 10 Steps): 100%|██████████| 7/7 [00:10<00:00,  1.50s/it]3<?, ?it/s]\n",
      "Training (16700 / 18000 Steps) (loss=0.33471):   5%|▌         | 1/20 [00:14<04:28, 14.12s/it]"
     ]
    },
    {
     "name": "stdout",
     "output_type": "stream",
     "text": [
      "Model Was Not Saved ! Current Best Avg. Dice: 0.44623151421546936 Current Avg. Dice: 0.41647958755493164 Current Avg. tumor Dice: 0.41774752736091614 Current Avg. lymph Dice: 0.41521164774894714\n"
     ]
    },
    {
     "name": "stderr",
     "output_type": "stream",
     "text": [
      "Training (16719 / 18000 Steps) (loss=0.44121): 100%|██████████| 20/20 [00:22<00:00,  1.11s/it]\n",
      "Training (16739 / 18000 Steps) (loss=0.45368): 100%|██████████| 20/20 [00:11<00:00,  1.75it/s]\n",
      "Training (16759 / 18000 Steps) (loss=0.34025): 100%|██████████| 20/20 [00:11<00:00,  1.80it/s]\n",
      "Training (16779 / 18000 Steps) (loss=0.32179): 100%|██████████| 20/20 [00:11<00:00,  1.77it/s]\n",
      "Training (16799 / 18000 Steps) (loss=0.46429): 100%|██████████| 20/20 [00:11<00:00,  1.76it/s]\n",
      "Validate (16800 / 10 Steps): 100%|██████████| 7/7 [00:10<00:00,  1.51s/it]3<?, ?it/s]\n",
      "Training (16800 / 18000 Steps) (loss=0.41464):   5%|▌         | 1/20 [00:14<04:33, 14.41s/it]"
     ]
    },
    {
     "name": "stdout",
     "output_type": "stream",
     "text": [
      "Model Was Not Saved ! Current Best Avg. Dice: 0.44623151421546936 Current Avg. Dice: 0.4139131009578705 Current Avg. tumor Dice: 0.4216826260089874 Current Avg. lymph Dice: 0.4061436057090759\n"
     ]
    },
    {
     "name": "stderr",
     "output_type": "stream",
     "text": [
      "Training (16819 / 18000 Steps) (loss=0.35792): 100%|██████████| 20/20 [00:22<00:00,  1.12s/it]\n",
      "Training (16839 / 18000 Steps) (loss=0.37197): 100%|██████████| 20/20 [00:11<00:00,  1.72it/s]\n",
      "Training (16859 / 18000 Steps) (loss=0.45735): 100%|██████████| 20/20 [00:11<00:00,  1.72it/s]\n",
      "Training (16879 / 18000 Steps) (loss=0.55743): 100%|██████████| 20/20 [00:11<00:00,  1.75it/s]\n",
      "Training (16899 / 18000 Steps) (loss=0.52876): 100%|██████████| 20/20 [00:11<00:00,  1.75it/s]\n",
      "Validate (16900 / 10 Steps): 100%|██████████| 7/7 [00:10<00:00,  1.53s/it]3<?, ?it/s]\n",
      "Training (16900 / 18000 Steps) (loss=0.40797):   5%|▌         | 1/20 [00:14<04:29, 14.17s/it]"
     ]
    },
    {
     "name": "stdout",
     "output_type": "stream",
     "text": [
      "Model Was Not Saved ! Current Best Avg. Dice: 0.44623151421546936 Current Avg. Dice: 0.43220406770706177 Current Avg. tumor Dice: 0.43905162811279297 Current Avg. lymph Dice: 0.42535653710365295\n"
     ]
    },
    {
     "name": "stderr",
     "output_type": "stream",
     "text": [
      "Training (16919 / 18000 Steps) (loss=0.29839): 100%|██████████| 20/20 [00:22<00:00,  1.11s/it]\n",
      "Training (16939 / 18000 Steps) (loss=0.40104): 100%|██████████| 20/20 [00:11<00:00,  1.75it/s]\n",
      "Training (16959 / 18000 Steps) (loss=0.40258): 100%|██████████| 20/20 [00:11<00:00,  1.75it/s]\n",
      "Training (16979 / 18000 Steps) (loss=0.32372): 100%|██████████| 20/20 [00:11<00:00,  1.78it/s]\n",
      "Training (16999 / 18000 Steps) (loss=0.36471): 100%|██████████| 20/20 [00:11<00:00,  1.73it/s]\n",
      "Validate (17000 / 10 Steps): 100%|██████████| 7/7 [00:10<00:00,  1.49s/it]3<?, ?it/s]\n",
      "Training (17000 / 18000 Steps) (loss=0.41993):   5%|▌         | 1/20 [00:14<04:31, 14.28s/it]"
     ]
    },
    {
     "name": "stdout",
     "output_type": "stream",
     "text": [
      "Model Was Not Saved ! Current Best Avg. Dice: 0.44623151421546936 Current Avg. Dice: 0.36799678206443787 Current Avg. tumor Dice: 0.3503923714160919 Current Avg. lymph Dice: 0.3856012225151062\n"
     ]
    },
    {
     "name": "stderr",
     "output_type": "stream",
     "text": [
      "Training (17019 / 18000 Steps) (loss=0.43946): 100%|██████████| 20/20 [00:22<00:00,  1.11s/it]\n",
      "Training (17039 / 18000 Steps) (loss=0.36670): 100%|██████████| 20/20 [00:11<00:00,  1.79it/s]\n",
      "Training (17059 / 18000 Steps) (loss=0.29971): 100%|██████████| 20/20 [00:11<00:00,  1.74it/s]\n",
      "Training (17079 / 18000 Steps) (loss=0.32606): 100%|██████████| 20/20 [00:11<00:00,  1.80it/s]\n",
      "Training (17099 / 18000 Steps) (loss=0.39627): 100%|██████████| 20/20 [00:11<00:00,  1.73it/s]\n",
      "Validate (17100 / 10 Steps): 100%|██████████| 7/7 [00:10<00:00,  1.51s/it]3<?, ?it/s]\n",
      "Training (17100 / 18000 Steps) (loss=0.44586):   5%|▌         | 1/20 [00:14<04:27, 14.10s/it]"
     ]
    },
    {
     "name": "stdout",
     "output_type": "stream",
     "text": [
      "Model Was Not Saved ! Current Best Avg. Dice: 0.44623151421546936 Current Avg. Dice: 0.4030914306640625 Current Avg. tumor Dice: 0.3940744400024414 Current Avg. lymph Dice: 0.4121084213256836\n"
     ]
    },
    {
     "name": "stderr",
     "output_type": "stream",
     "text": [
      "Training (17119 / 18000 Steps) (loss=0.37955): 100%|██████████| 20/20 [00:22<00:00,  1.11s/it]\n",
      "Training (17139 / 18000 Steps) (loss=0.38799): 100%|██████████| 20/20 [00:11<00:00,  1.72it/s]\n",
      "Training (17159 / 18000 Steps) (loss=0.25201): 100%|██████████| 20/20 [00:11<00:00,  1.79it/s]\n",
      "Training (17179 / 18000 Steps) (loss=0.25702): 100%|██████████| 20/20 [00:11<00:00,  1.79it/s]\n",
      "Training (17199 / 18000 Steps) (loss=0.33569): 100%|██████████| 20/20 [00:11<00:00,  1.74it/s]\n",
      "Validate (17200 / 10 Steps): 100%|██████████| 7/7 [00:10<00:00,  1.53s/it]3<?, ?it/s]\n",
      "Training (17200 / 18000 Steps) (loss=0.40652):   5%|▌         | 1/20 [00:14<04:26, 14.04s/it]"
     ]
    },
    {
     "name": "stdout",
     "output_type": "stream",
     "text": [
      "Model Was Not Saved ! Current Best Avg. Dice: 0.44623151421546936 Current Avg. Dice: 0.40636736154556274 Current Avg. tumor Dice: 0.38618549704551697 Current Avg. lymph Dice: 0.42654916644096375\n"
     ]
    },
    {
     "name": "stderr",
     "output_type": "stream",
     "text": [
      "Training (17219 / 18000 Steps) (loss=0.50126): 100%|██████████| 20/20 [00:22<00:00,  1.11s/it]\n",
      "Training (17239 / 18000 Steps) (loss=0.56530): 100%|██████████| 20/20 [00:11<00:00,  1.77it/s]\n",
      "Training (17259 / 18000 Steps) (loss=0.31141): 100%|██████████| 20/20 [00:11<00:00,  1.75it/s]\n",
      "Training (17279 / 18000 Steps) (loss=0.47234): 100%|██████████| 20/20 [00:11<00:00,  1.72it/s]\n",
      "Training (17299 / 18000 Steps) (loss=0.58185): 100%|██████████| 20/20 [00:12<00:00,  1.66it/s]\n",
      "Validate (17300 / 10 Steps): 100%|██████████| 7/7 [00:10<00:00,  1.50s/it]3<?, ?it/s]\n",
      "Training (17300 / 18000 Steps) (loss=0.28818):   5%|▌         | 1/20 [00:13<04:18, 13.62s/it]"
     ]
    },
    {
     "name": "stdout",
     "output_type": "stream",
     "text": [
      "Model Was Not Saved ! Current Best Avg. Dice: 0.44623151421546936 Current Avg. Dice: 0.39549964666366577 Current Avg. tumor Dice: 0.44820183515548706 Current Avg. lymph Dice: 0.34279748797416687\n"
     ]
    },
    {
     "name": "stderr",
     "output_type": "stream",
     "text": [
      "Training (17319 / 18000 Steps) (loss=0.36391): 100%|██████████| 20/20 [00:21<00:00,  1.08s/it]\n",
      "Training (17339 / 18000 Steps) (loss=0.41561): 100%|██████████| 20/20 [00:11<00:00,  1.78it/s]\n",
      "Training (17359 / 18000 Steps) (loss=0.38458): 100%|██████████| 20/20 [00:11<00:00,  1.74it/s]\n",
      "Training (17379 / 18000 Steps) (loss=0.38094): 100%|██████████| 20/20 [00:11<00:00,  1.78it/s]\n",
      "Training (17399 / 18000 Steps) (loss=0.46075): 100%|██████████| 20/20 [00:11<00:00,  1.75it/s]\n",
      "Validate (17400 / 10 Steps): 100%|██████████| 7/7 [00:10<00:00,  1.50s/it]3<?, ?it/s]\n",
      "Training (17400 / 18000 Steps) (loss=0.33115):   5%|▌         | 1/20 [00:13<04:22, 13.81s/it]"
     ]
    },
    {
     "name": "stdout",
     "output_type": "stream",
     "text": [
      "Model Was Not Saved ! Current Best Avg. Dice: 0.44623151421546936 Current Avg. Dice: 0.43823036551475525 Current Avg. tumor Dice: 0.4645198881626129 Current Avg. lymph Dice: 0.41194087266921997\n"
     ]
    },
    {
     "name": "stderr",
     "output_type": "stream",
     "text": [
      "Training (17419 / 18000 Steps) (loss=0.33960): 100%|██████████| 20/20 [00:21<00:00,  1.09s/it]\n",
      "Training (17439 / 18000 Steps) (loss=0.40506): 100%|██████████| 20/20 [00:11<00:00,  1.78it/s]\n",
      "Training (17459 / 18000 Steps) (loss=0.29205): 100%|██████████| 20/20 [00:11<00:00,  1.75it/s]\n",
      "Training (17479 / 18000 Steps) (loss=0.45798): 100%|██████████| 20/20 [00:11<00:00,  1.74it/s]\n",
      "Training (17499 / 18000 Steps) (loss=0.46027): 100%|██████████| 20/20 [00:11<00:00,  1.77it/s]\n",
      "Validate (17500 / 10 Steps): 100%|██████████| 7/7 [00:10<00:00,  1.50s/it]3<?, ?it/s]\n",
      "Training (17500 / 18000 Steps) (loss=0.37192):   5%|▌         | 1/20 [00:14<04:44, 14.96s/it]"
     ]
    },
    {
     "name": "stdout",
     "output_type": "stream",
     "text": [
      "Model Was Saved ! Current Best Avg. Dice: 0.4462983310222626 Current Avg. Dice: 0.4462983310222626 Current Avg. tumor Dice: 0.48745959997177124 Current Avg. lymph Dice: 0.4051370620727539\n"
     ]
    },
    {
     "name": "stderr",
     "output_type": "stream",
     "text": [
      "Training (17519 / 18000 Steps) (loss=0.48645): 100%|██████████| 20/20 [00:22<00:00,  1.15s/it]\n",
      "Training (17539 / 18000 Steps) (loss=0.32643): 100%|██████████| 20/20 [00:11<00:00,  1.78it/s]\n",
      "Training (17559 / 18000 Steps) (loss=0.39969): 100%|██████████| 20/20 [00:11<00:00,  1.76it/s]\n",
      "Training (17579 / 18000 Steps) (loss=0.46748): 100%|██████████| 20/20 [00:11<00:00,  1.76it/s]\n",
      "Training (17599 / 18000 Steps) (loss=0.58022): 100%|██████████| 20/20 [00:11<00:00,  1.79it/s]\n",
      "Validate (17600 / 10 Steps): 100%|██████████| 7/7 [00:10<00:00,  1.55s/it]3<?, ?it/s]\n",
      "Training (17600 / 18000 Steps) (loss=0.51166):   5%|▌         | 1/20 [00:13<04:25, 13.96s/it]"
     ]
    },
    {
     "name": "stdout",
     "output_type": "stream",
     "text": [
      "Model Was Not Saved ! Current Best Avg. Dice: 0.4462983310222626 Current Avg. Dice: 0.4259408414363861 Current Avg. tumor Dice: 0.4395464360713959 Current Avg. lymph Dice: 0.4123353362083435\n"
     ]
    },
    {
     "name": "stderr",
     "output_type": "stream",
     "text": [
      "Training (17619 / 18000 Steps) (loss=0.49307): 100%|██████████| 20/20 [00:21<00:00,  1.10s/it]\n",
      "Training (17639 / 18000 Steps) (loss=0.42365): 100%|██████████| 20/20 [00:11<00:00,  1.79it/s]\n",
      "Training (17659 / 18000 Steps) (loss=0.44166): 100%|██████████| 20/20 [00:11<00:00,  1.79it/s]\n",
      "Training (17679 / 18000 Steps) (loss=0.47298): 100%|██████████| 20/20 [00:11<00:00,  1.82it/s]\n",
      "Training (17699 / 18000 Steps) (loss=0.39144): 100%|██████████| 20/20 [00:11<00:00,  1.74it/s]\n",
      "Validate (17700 / 10 Steps): 100%|██████████| 7/7 [00:10<00:00,  1.53s/it]3<?, ?it/s]\n",
      "Training (17700 / 18000 Steps) (loss=0.41617):   5%|▌         | 1/20 [00:13<04:23, 13.89s/it]"
     ]
    },
    {
     "name": "stdout",
     "output_type": "stream",
     "text": [
      "Model Was Not Saved ! Current Best Avg. Dice: 0.4462983310222626 Current Avg. Dice: 0.42563340067863464 Current Avg. tumor Dice: 0.4507525563240051 Current Avg. lymph Dice: 0.40051427483558655\n"
     ]
    },
    {
     "name": "stderr",
     "output_type": "stream",
     "text": [
      "Training (17719 / 18000 Steps) (loss=0.35927): 100%|██████████| 20/20 [00:21<00:00,  1.10s/it]\n",
      "Training (17739 / 18000 Steps) (loss=0.33094): 100%|██████████| 20/20 [00:11<00:00,  1.72it/s]\n",
      "Training (17759 / 18000 Steps) (loss=0.38713): 100%|██████████| 20/20 [00:11<00:00,  1.71it/s]\n",
      "Training (17779 / 18000 Steps) (loss=0.35724): 100%|██████████| 20/20 [00:11<00:00,  1.81it/s]\n",
      "Training (17799 / 18000 Steps) (loss=0.37786): 100%|██████████| 20/20 [00:11<00:00,  1.79it/s]\n",
      "Validate (17800 / 10 Steps): 100%|██████████| 7/7 [00:10<00:00,  1.48s/it]3<?, ?it/s]\n",
      "Training (17800 / 18000 Steps) (loss=0.41268):   5%|▌         | 1/20 [00:13<04:17, 13.56s/it]"
     ]
    },
    {
     "name": "stdout",
     "output_type": "stream",
     "text": [
      "Model Was Not Saved ! Current Best Avg. Dice: 0.4462983310222626 Current Avg. Dice: 0.42751434445381165 Current Avg. tumor Dice: 0.4411630630493164 Current Avg. lymph Dice: 0.4138655960559845\n"
     ]
    },
    {
     "name": "stderr",
     "output_type": "stream",
     "text": [
      "Training (17819 / 18000 Steps) (loss=0.36830): 100%|██████████| 20/20 [00:21<00:00,  1.08s/it]\n",
      "Training (17839 / 18000 Steps) (loss=0.32014): 100%|██████████| 20/20 [00:11<00:00,  1.80it/s]\n",
      "Training (17859 / 18000 Steps) (loss=0.35766): 100%|██████████| 20/20 [00:11<00:00,  1.74it/s]\n",
      "Training (17879 / 18000 Steps) (loss=0.37701): 100%|██████████| 20/20 [00:11<00:00,  1.79it/s]\n",
      "Training (17899 / 18000 Steps) (loss=0.47352): 100%|██████████| 20/20 [00:11<00:00,  1.72it/s]\n",
      "Validate (17900 / 10 Steps): 100%|██████████| 7/7 [00:10<00:00,  1.49s/it]3<?, ?it/s]\n",
      "Training (17900 / 18000 Steps) (loss=0.35693):   5%|▌         | 1/20 [00:13<04:17, 13.57s/it]"
     ]
    },
    {
     "name": "stdout",
     "output_type": "stream",
     "text": [
      "Model Was Not Saved ! Current Best Avg. Dice: 0.4462983310222626 Current Avg. Dice: 0.3944879174232483 Current Avg. tumor Dice: 0.3993622362613678 Current Avg. lymph Dice: 0.3896135985851288\n"
     ]
    },
    {
     "name": "stderr",
     "output_type": "stream",
     "text": [
      "Training (17919 / 18000 Steps) (loss=0.50269): 100%|██████████| 20/20 [00:21<00:00,  1.08s/it]\n",
      "Training (17939 / 18000 Steps) (loss=0.46406): 100%|██████████| 20/20 [00:11<00:00,  1.75it/s]\n",
      "Training (17959 / 18000 Steps) (loss=0.51305): 100%|██████████| 20/20 [00:11<00:00,  1.77it/s]\n",
      "Training (17979 / 18000 Steps) (loss=0.44066): 100%|██████████| 20/20 [00:11<00:00,  1.81it/s]\n",
      "Training (17999 / 18000 Steps) (loss=0.39432): 100%|██████████| 20/20 [00:10<00:00,  1.82it/s]\n"
     ]
    }
   ],
   "source": [
    "model_dir = '/home/nada.saadi/CTPET/hecktor2022_cropped/c_6th_ctpt'\n",
    "\n",
    "def validation(epoch_iterator_val):\n",
    "    model.eval()\n",
    "    with torch.no_grad():\n",
    "        for step, batch in enumerate(epoch_iterator_val):\n",
    "            val_inputs, val_labels = (batch[\"ct\"].cuda(), batch[\"seg\"].cuda())\n",
    "            val_outputs = sliding_window_inference(val_inputs, (96, 96, 96), 4, model)\n",
    "            val_labels_list = decollate_batch(val_labels)\n",
    "            val_labels_convert = [\n",
    "                post_label(val_label_tensor) for val_label_tensor in val_labels_list\n",
    "            ]\n",
    "            val_outputs_list = decollate_batch(val_outputs)\n",
    "            val_output_convert = [\n",
    "                post_pred(val_pred_tensor) for val_pred_tensor in val_outputs_list\n",
    "            ]\n",
    "            dice_metric(y_pred=val_output_convert, y=val_labels_convert)\n",
    "            dice_metric_batch(y_pred=val_output_convert, y=val_labels_convert)\n",
    "            epoch_iterator_val.set_description(\n",
    "                \"Validate (%d / %d Steps)\" % (global_step, 10.0)\n",
    "            )\n",
    "        mean_dice_val = dice_metric.aggregate().item()\n",
    "        metric_batch_val = dice_metric_batch.aggregate()\n",
    "\n",
    "        metric_tumor = metric_batch_val[0].item()\n",
    "        metric_lymph = metric_batch_val[1].item()\n",
    "\n",
    "        dice_metric.reset()\n",
    "        dice_metric_batch.reset()\n",
    "    return mean_dice_val, metric_tumor, metric_lymph\n",
    "\n",
    "\n",
    "def train(global_step, train_loader, dice_val_best, global_step_best):\n",
    "    model.train()\n",
    "    epoch_loss = 0\n",
    "    step = 0\n",
    "    epoch_iterator = tqdm(\n",
    "        train_loader, desc=\"Training (X / X Steps) (loss=X.X)\", dynamic_ncols=True\n",
    "    )\n",
    "    for step, batch in enumerate(epoch_iterator):\n",
    "        step += 1\n",
    "        x, y = (batch[\"ct\"].cuda(), batch[\"seg\"].cuda())\n",
    "        logit_map = model(x)\n",
    "        loss = loss_function(logit_map, y)\n",
    "        loss.backward()\n",
    "        epoch_loss += loss.item()\n",
    "        optimizer.step()\n",
    "        optimizer.zero_grad()\n",
    "        epoch_iterator.set_description(\n",
    "            \"Training (%d / %d Steps) (loss=%2.5f)\"\n",
    "            % (global_step, max_iterations, loss)\n",
    "        )\n",
    "        if (\n",
    "            global_step % eval_num == 0 and global_step != 0\n",
    "        ) or global_step == max_iterations:\n",
    "            epoch_iterator_val = tqdm(\n",
    "                val_loader, desc=\"Validate (X / X Steps) (dice=X.X)\", dynamic_ncols=True\n",
    "            )\n",
    "            dice_val, metric_tumor, metric_lymph = validation(epoch_iterator_val)\n",
    "            epoch_loss /= step\n",
    "            epoch_loss_values.append(epoch_loss)\n",
    "            metric_values.append(dice_val)\n",
    "            metric_values_tumor.append(metric_tumor)\n",
    "            metric_values_lymph.append(metric_lymph)\n",
    "            if dice_val > dice_val_best:\n",
    "                dice_val_best = dice_val\n",
    "                global_step_best = global_step\n",
    "                torch.save(\n",
    "                    model.state_dict(), os.path.join(model_dir, \"c_6th_ctptct.pth\")\n",
    "                )\n",
    "                print(\n",
    "                    \"Model Was Saved ! Current Best Avg. Dice: {} Current Avg. Dice: {} Current Avg. tumor Dice: {} Current Avg. lymph Dice: {}\".format(\n",
    "                        dice_val_best, dice_val, metric_tumor, metric_lymph\n",
    "                    )\n",
    "                )\n",
    "            else:\n",
    "                print(\n",
    "                    \"Model Was Not Saved ! Current Best Avg. Dice: {} Current Avg. Dice: {} Current Avg. tumor Dice: {} Current Avg. lymph Dice: {}\".format(\n",
    "                        dice_val_best, dice_val,  metric_tumor, metric_lymph\n",
    "                    )\n",
    "                )\n",
    "        global_step += 1\n",
    "    return global_step, dice_val_best, global_step_best\n",
    "\n",
    "\n",
    "max_iterations = 18000\n",
    "eval_num = 100\n",
    "\n",
    "post_label = AsDiscrete(to_onehot=3)\n",
    "post_pred = AsDiscrete(argmax=True, to_onehot=3)\n",
    "\n",
    "dice_metric = DiceMetric(include_background=False, reduction=\"mean\", get_not_nans=False)\n",
    "dice_metric_batch = DiceMetric(include_background=False, reduction=\"mean_batch\")\n",
    "\n",
    "epoch = 0\n",
    "max_num_epochs = 530\n",
    "\n",
    "global_step = 0\n",
    "dice_val_best = 0.0\n",
    "global_step_best = 0\n",
    "epoch_loss_values = []\n",
    "metric_values = []\n",
    "metric_values_tumor = []\n",
    "metric_values_lymph = []\n",
    "while global_step < max_iterations:\n",
    "    global_step, dice_val_best, global_step_best = train(\n",
    "        global_step, train_loader, dice_val_best, global_step_best\n",
    "    )\n",
    "    # wandb.log({'learning_rate': optimizer.param_groups[0]['lr']})\n",
    "    # wandb.log({'Best Dice': dice_val_best})\n",
    "    epoch += 1\n",
    "    #optimizer.param_groups[0]['lr'] = poly_lr(epoch, max_num_epochs, 0.005676 , 0.9)\n",
    "# model.load_state_dict(torch.load(os.path.join(model_dir, \"best_metric_luck_UNETr_prompt.pth\")))"
   ]
  },
  {
   "cell_type": "code",
   "execution_count": null,
   "metadata": {},
   "outputs": [],
   "source": []
  }
 ],
 "metadata": {
  "kernelspec": {
   "display_name": "clam",
   "language": "python",
   "name": "python3"
  },
  "language_info": {
   "codemirror_mode": {
    "name": "ipython",
    "version": 3
   },
   "file_extension": ".py",
   "mimetype": "text/x-python",
   "name": "python",
   "nbconvert_exporter": "python",
   "pygments_lexer": "ipython3",
   "version": "3.8.0"
  }
 },
 "nbformat": 4,
 "nbformat_minor": 2
}
