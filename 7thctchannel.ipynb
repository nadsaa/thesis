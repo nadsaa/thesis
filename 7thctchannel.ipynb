{
 "cells": [
  {
   "cell_type": "code",
   "execution_count": 1,
   "metadata": {},
   "outputs": [
    {
     "data": {
      "text/plain": [
       "1"
      ]
     },
     "execution_count": 1,
     "metadata": {},
     "output_type": "execute_result"
    }
   ],
   "source": [
    "import os\n",
    "os.environ[\"CUDA_DEVICE_ORDER\"] = \"PCI_BUS_ID\"\n",
    "os.environ[\"CUDA_VISIBLE_DEVICES\"] = \"5\" \n",
    "import torch\n",
    "torch.cuda.device_count()"
   ]
  },
  {
   "cell_type": "code",
   "execution_count": 2,
   "metadata": {},
   "outputs": [],
   "source": [
    "import os\n",
    "import shutil\n",
    "import tempfile\n",
    "\n",
    "import matplotlib.pyplot as plt\n",
    "import numpy as np\n",
    "from tqdm import tqdm\n",
    "from glob import glob\n",
    "# import wandb\n",
    "\n",
    "import monai\n",
    "from monai.losses import DiceCELoss, DiceFocalLoss, FocalLoss\n",
    "from monai.inferers import sliding_window_inference\n",
    "from monai import transforms\n",
    "\n",
    "from monai.transforms import (\n",
    "       AsDiscrete,\n",
    "    Compose,\n",
    "    CropForegroundd,\n",
    "    LoadImaged,\n",
    "    Orientationd,\n",
    "    RandFlipd,\n",
    "    RandCropByPosNegLabeld,\n",
    "    RandShiftIntensityd,\n",
    "    ScaleIntensityRanged,\n",
    "    Spacingd,\n",
    "    RandRotate90d,\n",
    "    MapTransform,\n",
    "    ScaleIntensityd,\n",
    "    #AddChanneld,\n",
    "    SpatialPadd,\n",
    "    CenterSpatialCropd,\n",
    "    EnsureChannelFirstd,\n",
    "    ConcatItemsd,\n",
    "    AdjustContrastd, \n",
    "    Rand3DElasticd,\n",
    "    HistogramNormalized,\n",
    "    NormalizeIntensityd,\n",
    "    Invertd,\n",
    "    SaveImage,\n",
    "\n",
    ")\n",
    "\n",
    "from monai.config import print_config\n",
    "from monai.metrics import DiceMetric\n",
    "from monai.networks.nets import SwinUNETR, UNETR, SegResNet\n",
    "from monai.data import (\n",
    "    DataLoader,\n",
    "    CacheDataset,\n",
    "    load_decathlon_datalist,\n",
    "    decollate_batch,\n",
    ")\n",
    "from monai import data\n",
    "\n",
    "\n",
    "from monai.utils import first, set_determinism\n",
    "from sklearn.model_selection import train_test_split\n",
    "import json\n",
    "\n",
    "\n",
    "import torch"
   ]
  },
  {
   "cell_type": "code",
   "execution_count": 3,
   "metadata": {},
   "outputs": [],
   "source": [
    "set_determinism(seed=1024)"
   ]
  },
  {
   "cell_type": "code",
   "execution_count": 4,
   "metadata": {},
   "outputs": [
    {
     "name": "stdout",
     "output_type": "stream",
     "text": [
      "JSON file created at /home/nada.saadi/CTPET/hecktor2022_cropped/HMR_ct_train_new.json\n"
     ]
    }
   ],
   "source": [
    "import os\n",
    "import json\n",
    "import random\n",
    "from glob import glob\n",
    "\n",
    "def generate_paths(patient_id):\n",
    "    base_dir = '/home/nada.saadi/MIS-FM/hecktor2022_cropped/data'\n",
    "    return {\n",
    "        'id': os.path.join(base_dir, patient_id),\n",
    "        'ct': os.path.join(base_dir, patient_id, f\"{patient_id}_ct.nii.gz\"),\n",
    "        'seg': os.path.join(base_dir, patient_id, f\"{patient_id}_gt.nii.gz\")\n",
    "    }\n",
    "\n",
    "# Assign each data entry to a random fold\n",
    "all_data = []\n",
    "num_folds = 5\n",
    "\n",
    "for file_dir in sorted(glob('data/*')):\n",
    "    patient_id = file_dir.split('/')[-1]\n",
    "    # Check if the file belongs to the MDA center\n",
    "    if patient_id.startswith(\"HMR-\"):\n",
    "        entry = generate_paths(patient_id)\n",
    "        entry['fold'] = random.randint(1, num_folds) - 1\n",
    "        all_data.append(entry)\n",
    "\n",
    "# Compile data into a JSON structure\n",
    "data_json = {\"training\": all_data}\n",
    "\n",
    "# Save to JSON file\n",
    "json_file_path = \"/home/nada.saadi/CTPET/hecktor2022_cropped/HMR_ct_train_new.json\"\n",
    "with open(json_file_path, 'w') as f:\n",
    "    json.dump(data_json, f, indent=4)\n",
    "\n",
    "print(f\"JSON file created at {json_file_path}\")\n"
   ]
  },
  {
   "cell_type": "code",
   "execution_count": 5,
   "metadata": {},
   "outputs": [
    {
     "name": "stdout",
     "output_type": "stream",
     "text": [
      "[{'id': '/home/nada.saadi/MIS-FM/hecktor2022_cropped/data/HMR-001', 'ct': '/home/nada.saadi/MIS-FM/hecktor2022_cropped/data/HMR-001/HMR-001_ct.nii.gz', 'seg': '/home/nada.saadi/MIS-FM/hecktor2022_cropped/data/HMR-001/HMR-001_gt.nii.gz', 'fold': 0}, {'id': '/home/nada.saadi/MIS-FM/hecktor2022_cropped/data/HMR-004', 'ct': '/home/nada.saadi/MIS-FM/hecktor2022_cropped/data/HMR-004/HMR-004_ct.nii.gz', 'seg': '/home/nada.saadi/MIS-FM/hecktor2022_cropped/data/HMR-004/HMR-004_gt.nii.gz', 'fold': 3}, {'id': '/home/nada.saadi/MIS-FM/hecktor2022_cropped/data/HMR-005', 'ct': '/home/nada.saadi/MIS-FM/hecktor2022_cropped/data/HMR-005/HMR-005_ct.nii.gz', 'seg': '/home/nada.saadi/MIS-FM/hecktor2022_cropped/data/HMR-005/HMR-005_gt.nii.gz', 'fold': 3}, {'id': '/home/nada.saadi/MIS-FM/hecktor2022_cropped/data/HMR-011', 'ct': '/home/nada.saadi/MIS-FM/hecktor2022_cropped/data/HMR-011/HMR-011_ct.nii.gz', 'seg': '/home/nada.saadi/MIS-FM/hecktor2022_cropped/data/HMR-011/HMR-011_gt.nii.gz', 'fold': 2}, {'id': '/home/nada.saadi/MIS-FM/hecktor2022_cropped/data/HMR-012', 'ct': '/home/nada.saadi/MIS-FM/hecktor2022_cropped/data/HMR-012/HMR-012_ct.nii.gz', 'seg': '/home/nada.saadi/MIS-FM/hecktor2022_cropped/data/HMR-012/HMR-012_gt.nii.gz', 'fold': 4}]\n"
     ]
    }
   ],
   "source": [
    "import json\n",
    "\n",
    "json_file_path = \"/home/nada.saadi/CTPET/hecktor2022_cropped/HMR_ct_train_new.json\"\n",
    "\n",
    "with open(json_file_path, 'r') as f:\n",
    "    data = json.load(f)\n",
    "\n",
    "first_5_elements = data[\"training\"][:5]\n",
    "print(first_5_elements)"
   ]
  },
  {
   "cell_type": "code",
   "execution_count": 6,
   "metadata": {},
   "outputs": [],
   "source": [
    "data_dir = '/home/nada.saadi/MIS-FM/hecktor2022_cropped'\n",
    "json_dir = \"/home/nada.saadi/CTPET/hecktor2022_cropped/HMR_ct_train_new.json\""
   ]
  },
  {
   "cell_type": "code",
   "execution_count": 7,
   "metadata": {},
   "outputs": [],
   "source": [
    "def datafold_read(datalist, basedir, fold=0, key=\"training\"):\n",
    "    with open(datalist) as f:\n",
    "        json_data = json.load(f)\n",
    "\n",
    "    json_data = json_data[key]\n",
    "\n",
    "    for d in json_data:\n",
    "        for k in d:\n",
    "            if isinstance(d[k], list):\n",
    "                d[k] = [os.path.join(basedir, iv) for iv in d[k]]\n",
    "            elif isinstance(d[k], str):\n",
    "                d[k] = os.path.join(basedir, d[k]) if len(d[k]) > 0 else d[k]\n",
    "\n",
    "    tr = []\n",
    "    val = []\n",
    "    for d in json_data:\n",
    "        if \"fold\" in d and d[\"fold\"] == fold:\n",
    "            val.append(d)\n",
    "        else:\n",
    "            tr.append(d)\n",
    "\n",
    "    return tr, val"
   ]
  },
  {
   "cell_type": "code",
   "execution_count": 8,
   "metadata": {},
   "outputs": [
    {
     "data": {
      "text/plain": [
       "(13, 4)"
      ]
     },
     "execution_count": 8,
     "metadata": {},
     "output_type": "execute_result"
    }
   ],
   "source": [
    "train_files, validation_files = datafold_read(datalist=json_dir, basedir=data_dir, fold=0)\n",
    "len(train_files), len(validation_files)"
   ]
  },
  {
   "cell_type": "code",
   "execution_count": 9,
   "metadata": {},
   "outputs": [],
   "source": [
    "class ClipCT(MapTransform):\n",
    "    \"\"\"\n",
    "    Convert labels to multi channels based on hecktor classes:\n",
    "    label 1 is the tumor\n",
    "    label 2 is the lymph node\n",
    "\n",
    "    \"\"\"\n",
    "\n",
    "    def __call__(self, data):\n",
    "        d = dict(data)\n",
    "        for key in self.keys:\n",
    "            if key == \"ct\":\n",
    "                d[key] = torch.clip(d[key], min=-200, max=200)\n",
    "            # elif key == \"pt\":\n",
    "            #     d[key] = torch.clip(d[key], d[key].min(), 5)\n",
    "        return d\n",
    "\n",
    "class MulPTFM(MapTransform):\n",
    "    \"\"\"\n",
    "    Mult PT and FM \n",
    "\n",
    "    \"\"\"\n",
    "\n",
    "    def __call__(self, data):\n",
    "        d = dict(data)\n",
    "\n",
    "        fm = d[\"ct\"] > 0\n",
    "        d[\"pt\"] = d[\"pt\"] * fm\n",
    "        return d\n",
    "\n",
    "class SelectClass(MapTransform):\n",
    "    \"\"\"\n",
    "    Select the class for which you want to fine tune the model \n",
    "\n",
    "    \"\"\"\n",
    "    # def __init__(self, keys, cls=1):\n",
    "    #     super(self).__init__(keys)\n",
    "    #     self.cls = cls\n",
    "\n",
    "    def __call__(self, data):\n",
    "        d = dict(data)\n",
    "        d[\"seg\"][d[\"seg\"] == 1] = 0\n",
    "        # d[\"seg\"][d[\"seg\"] == 2] = 1\n",
    "        \n",
    "        return d"
   ]
  },
  {
   "cell_type": "code",
   "execution_count": 10,
   "metadata": {},
   "outputs": [
    {
     "name": "stdout",
     "output_type": "stream",
     "text": [
      "[{'id': '/home/nada.saadi/MIS-FM/hecktor2022_cropped/data/HMR-001', 'ct': '/home/nada.saadi/MIS-FM/hecktor2022_cropped/data/HMR-001/HMR-001_ct.nii.gz', 'seg': '/home/nada.saadi/MIS-FM/hecktor2022_cropped/data/HMR-001/HMR-001_gt.nii.gz', 'fold': 0}, {'id': '/home/nada.saadi/MIS-FM/hecktor2022_cropped/data/HMR-004', 'ct': '/home/nada.saadi/MIS-FM/hecktor2022_cropped/data/HMR-004/HMR-004_ct.nii.gz', 'seg': '/home/nada.saadi/MIS-FM/hecktor2022_cropped/data/HMR-004/HMR-004_gt.nii.gz', 'fold': 3}, {'id': '/home/nada.saadi/MIS-FM/hecktor2022_cropped/data/HMR-005', 'ct': '/home/nada.saadi/MIS-FM/hecktor2022_cropped/data/HMR-005/HMR-005_ct.nii.gz', 'seg': '/home/nada.saadi/MIS-FM/hecktor2022_cropped/data/HMR-005/HMR-005_gt.nii.gz', 'fold': 3}, {'id': '/home/nada.saadi/MIS-FM/hecktor2022_cropped/data/HMR-011', 'ct': '/home/nada.saadi/MIS-FM/hecktor2022_cropped/data/HMR-011/HMR-011_ct.nii.gz', 'seg': '/home/nada.saadi/MIS-FM/hecktor2022_cropped/data/HMR-011/HMR-011_gt.nii.gz', 'fold': 2}, {'id': '/home/nada.saadi/MIS-FM/hecktor2022_cropped/data/HMR-012', 'ct': '/home/nada.saadi/MIS-FM/hecktor2022_cropped/data/HMR-012/HMR-012_ct.nii.gz', 'seg': '/home/nada.saadi/MIS-FM/hecktor2022_cropped/data/HMR-012/HMR-012_gt.nii.gz', 'fold': 4}]\n"
     ]
    }
   ],
   "source": [
    "import json\n",
    "\n",
    "json_file_path = \"/home/nada.saadi/CTPET/hecktor2022_cropped/HMR_ct_train_new.json\"\n",
    "\n",
    "with open(json_file_path, 'r') as f:\n",
    "    data = json.load(f)\n",
    "\n",
    "first_5_elements = data[\"training\"][:5]\n",
    "print(first_5_elements)"
   ]
  },
  {
   "cell_type": "code",
   "execution_count": 11,
   "metadata": {},
   "outputs": [],
   "source": [
    "data_dir = '/home/nada.saadi/MIS-FM/hecktor2022_cropped'\n",
    "json_dir = \"/home/nada.saadi/CTPET/hecktor2022_cropped/HMR_ct_train_new.json\""
   ]
  },
  {
   "cell_type": "code",
   "execution_count": 12,
   "metadata": {},
   "outputs": [],
   "source": [
    "num_samples = 4\n",
    "\n",
    "train_transforms = Compose(\n",
    "    [\n",
    "        LoadImaged(keys=[\"ct\", \"seg\"], ensure_channel_first = True),\n",
    "        SpatialPadd(keys=[\"ct\",  \"seg\"], spatial_size=(200, 200, 310), method='end'),\n",
    "        Orientationd(keys=[\"ct\",  \"seg\"], axcodes=\"PLS\"),\n",
    "        #NormalizeIntensityd(keys=[\"pt\"]),\n",
    "        ClipCT(keys=[\"ct\"]),\n",
    "        ScaleIntensityd(keys=[\"ct\"], minv=0, maxv=1),\n",
    "        #MulPTFM(keys=[\"ct\",\"pt\"]),\n",
    "        #ConcatItemsd(keys=[\"pt\", \"ct\"], name=\"ctpt\"),\n",
    "        #NormalizeIntensityd(keys=[\"ctpt\"], channel_wise=True),\n",
    "        RandCropByPosNegLabeld(\n",
    "            keys=[\"ct\", \"seg\"],\n",
    "            label_key=\"seg\",\n",
    "            spatial_size=(96, 96, 96),\n",
    "            pos=1,\n",
    "            neg=1,\n",
    "            num_samples=num_samples,\n",
    "            image_key=\"ct\",\n",
    "            image_threshold=0,\n",
    "        ),\n",
    "        RandFlipd(\n",
    "            keys=[\"ct\", \"seg\"],\n",
    "            spatial_axis=[0],\n",
    "            prob=0.20,\n",
    "        ),\n",
    "        RandFlipd(\n",
    "            keys=[\"ct\", \"seg\"],\n",
    "            spatial_axis=[1],\n",
    "            prob=0.20,\n",
    "        ),\n",
    "        RandFlipd(\n",
    "            keys=[\"ct\", \"seg\"],\n",
    "            spatial_axis=[2],\n",
    "            prob=0.20,\n",
    "        ),\n",
    "        RandRotate90d(\n",
    "            keys=[\"ct\", \"seg\"],\n",
    "            prob=0.20,\n",
    "            max_k=3,\n",
    "        ),\n",
    "    ]\n",
    ")\n",
    "val_transforms = Compose(\n",
    "    [\n",
    "        LoadImaged(keys=[\"ct\", \"seg\"], ensure_channel_first = True),\n",
    "        SpatialPadd(keys=[\"ct\", \"seg\"], spatial_size=(200, 200, 310), method='end'),\n",
    "        Orientationd(keys=[\"ct\",  \"seg\"], axcodes=\"PLS\"),\n",
    "        #NormalizeIntensityd(keys=[\"pt\"]),\n",
    "        ClipCT(keys=[\"ct\"]),\n",
    "        ScaleIntensityd(keys=[\"ct\"], minv=0, maxv=1),\n",
    "        #MulPTFM(keys=[\"ct\",\"pt\"]),\n",
    "        #ConcatItemsd(keys=[\"pt\", \"ct\"], name=\"ctpt\"),\n",
    "    ]\n",
    ")"
   ]
  },
  {
   "cell_type": "code",
   "execution_count": 13,
   "metadata": {},
   "outputs": [],
   "source": [
    "train_ds = monai.data.Dataset(data=train_files, transform=train_transforms)\n",
    "\n",
    "train_loader = DataLoader(\n",
    "    train_ds,\n",
    "    batch_size=2,\n",
    "    shuffle=True,\n",
    "    num_workers=8,\n",
    "    pin_memory=torch.cuda.is_available(),\n",
    "    )\n",
    "\n",
    "val_ds = monai.data.Dataset(data=validation_files, transform=val_transforms)\n",
    "\n",
    "val_loader = DataLoader(\n",
    "    val_ds, \n",
    "    batch_size=2, \n",
    "    num_workers=8, \n",
    "    shuffle= False)"
   ]
  },
  {
   "cell_type": "code",
   "execution_count": 14,
   "metadata": {},
   "outputs": [
    {
     "name": "stderr",
     "output_type": "stream",
     "text": [
      "/home/nada.saadi/miniconda3/envs/clam/lib/python3.8/site-packages/monai/utils/deprecate_utils.py:221: FutureWarning: monai.networks.nets.unetr UNETR.__init__:pos_embed: Argument `pos_embed` has been deprecated since version 1.2. It will be removed in version 1.4. please use `proj_type` instead.\n",
      "  warn_deprecated(argname, msg, warning_category)\n"
     ]
    }
   ],
   "source": [
    "os.environ[\"CUDA_DEVICE_ORDER\"] = \"PCI_BUS_ID\"\n",
    "device = torch.device(\"cuda\" if torch.cuda.is_available() else \"cpu\")\n",
    "model = UNETR(\n",
    "    in_channels=1,\n",
    "    out_channels=3,\n",
    "    img_size=(96, 96, 96),\n",
    "    feature_size=16,\n",
    "    hidden_size=768,\n",
    "    mlp_dim=3072, \n",
    "    num_heads=12,\n",
    "    pos_embed=\"perceptron\",\n",
    "    norm_name=\"instance\",\n",
    "    res_block=True,\n",
    "    dropout_rate=0.0,\n",
    ").to(device) \n"
   ]
  },
  {
   "cell_type": "code",
   "execution_count": 15,
   "metadata": {},
   "outputs": [],
   "source": [
    "torch.backends.cudnn.benchmark = True\n",
    "def poly_lr(epoch, max_epochs, initial_lr, exponent=0.9):\n",
    "    return initial_lr * (1 - epoch / max_epochs)**exponent\n",
    "\n",
    "loss_function = DiceCELoss(to_onehot_y=True, softmax=True)\n",
    "optimizer = torch.optim.AdamW(model.parameters(), lr=1e-4, weight_decay=1e-5)"
   ]
  },
  {
   "cell_type": "code",
   "execution_count": 16,
   "metadata": {},
   "outputs": [
    {
     "name": "stderr",
     "output_type": "stream",
     "text": [
      "Training (6 / 18000 Steps) (loss=1.53490): 100%|██████████| 7/7 [00:27<00:00,  3.96s/it]\n",
      "Training (13 / 18000 Steps) (loss=1.47808): 100%|██████████| 7/7 [00:07<00:00,  1.06s/it]\n",
      "Training (20 / 18000 Steps) (loss=1.41299): 100%|██████████| 7/7 [00:07<00:00,  1.08s/it]\n",
      "Training (27 / 18000 Steps) (loss=1.37414): 100%|██████████| 7/7 [00:07<00:00,  1.10s/it]\n",
      "Training (34 / 18000 Steps) (loss=1.31996): 100%|██████████| 7/7 [00:06<00:00,  1.10it/s]\n",
      "Training (41 / 18000 Steps) (loss=1.30400): 100%|██████████| 7/7 [00:06<00:00,  1.01it/s]\n",
      "Training (48 / 18000 Steps) (loss=1.28236): 100%|██████████| 7/7 [00:07<00:00,  1.07s/it]\n",
      "Training (55 / 18000 Steps) (loss=1.31367): 100%|██████████| 7/7 [00:07<00:00,  1.05s/it]\n",
      "Training (62 / 18000 Steps) (loss=1.26584): 100%|██████████| 7/7 [00:07<00:00,  1.11s/it]\n",
      "Training (69 / 18000 Steps) (loss=1.24713): 100%|██████████| 7/7 [00:08<00:00,  1.20s/it]\n",
      "Training (76 / 18000 Steps) (loss=1.22591): 100%|██████████| 7/7 [00:08<00:00,  1.25s/it]\n",
      "Training (83 / 18000 Steps) (loss=1.20809): 100%|██████████| 7/7 [00:08<00:00,  1.22s/it]\n",
      "Training (90 / 18000 Steps) (loss=1.26458): 100%|██████████| 7/7 [00:08<00:00,  1.21s/it]\n",
      "Training (97 / 18000 Steps) (loss=1.18783): 100%|██████████| 7/7 [00:06<00:00,  1.04it/s]\n",
      "Validate (98 / 10 Steps): 100%|██████████| 2/2 [00:04<00:00,  2.24s/it]4<00:08,  1.62s/it]\n",
      "Training (100 / 18000 Steps) (loss=1.20381):  43%|████▎     | 3/7 [00:09<00:14,  3.58s/it]"
     ]
    },
    {
     "name": "stdout",
     "output_type": "stream",
     "text": [
      "Model Was Saved ! Current Best Avg. Dice: 0.00031642516842111945 Current Avg. Dice: 0.00031642516842111945 Current Avg. tumor Dice: 0.0006328503368422389 Current Avg. lymph Dice: 0.0\n"
     ]
    },
    {
     "name": "stderr",
     "output_type": "stream",
     "text": [
      "Training (104 / 18000 Steps) (loss=1.18563): 100%|██████████| 7/7 [00:11<00:00,  1.61s/it]\n",
      "Training (111 / 18000 Steps) (loss=1.19342): 100%|██████████| 7/7 [00:05<00:00,  1.19it/s]\n",
      "Training (118 / 18000 Steps) (loss=1.21100): 100%|██████████| 7/7 [00:05<00:00,  1.22it/s]\n",
      "Training (125 / 18000 Steps) (loss=1.19992): 100%|██████████| 7/7 [00:05<00:00,  1.24it/s]\n",
      "Training (132 / 18000 Steps) (loss=1.18309): 100%|██████████| 7/7 [00:05<00:00,  1.31it/s]\n",
      "Training (139 / 18000 Steps) (loss=1.15041): 100%|██████████| 7/7 [00:05<00:00,  1.24it/s]\n",
      "Training (146 / 18000 Steps) (loss=1.18424): 100%|██████████| 7/7 [00:05<00:00,  1.29it/s]\n",
      "Training (153 / 18000 Steps) (loss=1.18101): 100%|██████████| 7/7 [00:05<00:00,  1.35it/s]\n",
      "Training (160 / 18000 Steps) (loss=1.17513): 100%|██████████| 7/7 [00:05<00:00,  1.31it/s]\n",
      "Training (167 / 18000 Steps) (loss=1.15939): 100%|██████████| 7/7 [00:05<00:00,  1.29it/s]\n",
      "Training (174 / 18000 Steps) (loss=1.16125): 100%|██████████| 7/7 [00:05<00:00,  1.26it/s]\n",
      "Training (181 / 18000 Steps) (loss=1.15146): 100%|██████████| 7/7 [00:05<00:00,  1.25it/s]\n",
      "Training (188 / 18000 Steps) (loss=1.11288): 100%|██████████| 7/7 [00:05<00:00,  1.22it/s]\n",
      "Training (195 / 18000 Steps) (loss=1.14352): 100%|██████████| 7/7 [00:05<00:00,  1.28it/s]\n",
      "Validate (196 / 10 Steps): 100%|██████████| 2/2 [00:04<00:00,  2.14s/it]<00:02,  1.27it/s]\n",
      "Training (200 / 18000 Steps) (loss=1.11445):  71%|███████▏  | 5/7 [00:09<00:04,  2.45s/it]"
     ]
    },
    {
     "name": "stdout",
     "output_type": "stream",
     "text": [
      "Model Was Saved ! Current Best Avg. Dice: 0.0008080410188995302 Current Avg. Dice: 0.0008080410188995302 Current Avg. tumor Dice: 0.0016160820377990603 Current Avg. lymph Dice: 0.0\n"
     ]
    },
    {
     "name": "stderr",
     "output_type": "stream",
     "text": [
      "Training (202 / 18000 Steps) (loss=1.12179): 100%|██████████| 7/7 [00:10<00:00,  1.50s/it]\n",
      "Training (209 / 18000 Steps) (loss=1.12212): 100%|██████████| 7/7 [00:05<00:00,  1.30it/s]\n",
      "Training (216 / 18000 Steps) (loss=1.11079): 100%|██████████| 7/7 [00:05<00:00,  1.26it/s]\n",
      "Training (223 / 18000 Steps) (loss=1.11797): 100%|██████████| 7/7 [00:05<00:00,  1.30it/s]\n",
      "Training (230 / 18000 Steps) (loss=1.07917): 100%|██████████| 7/7 [00:05<00:00,  1.28it/s]\n",
      "Training (237 / 18000 Steps) (loss=1.13107): 100%|██████████| 7/7 [00:05<00:00,  1.32it/s]\n",
      "Training (244 / 18000 Steps) (loss=1.08451): 100%|██████████| 7/7 [00:05<00:00,  1.29it/s]\n",
      "Training (251 / 18000 Steps) (loss=1.10070): 100%|██████████| 7/7 [00:05<00:00,  1.35it/s]\n",
      "Training (258 / 18000 Steps) (loss=1.07169): 100%|██████████| 7/7 [00:05<00:00,  1.25it/s]\n",
      "Training (265 / 18000 Steps) (loss=1.06535): 100%|██████████| 7/7 [00:05<00:00,  1.26it/s]\n",
      "Training (272 / 18000 Steps) (loss=1.06001): 100%|██████████| 7/7 [00:05<00:00,  1.32it/s]\n",
      "Training (279 / 18000 Steps) (loss=1.04643): 100%|██████████| 7/7 [00:05<00:00,  1.24it/s]\n",
      "Training (286 / 18000 Steps) (loss=1.06793): 100%|██████████| 7/7 [00:05<00:00,  1.25it/s]\n",
      "Training (293 / 18000 Steps) (loss=1.04575): 100%|██████████| 7/7 [00:05<00:00,  1.27it/s]\n",
      "Validate (294 / 10 Steps): 100%|██████████| 2/2 [00:04<00:00,  2.16s/it]<00:00,  1.71it/s]\n",
      "Training (300 / 18000 Steps) (loss=1.06042): 100%|██████████| 7/7 [00:10<00:00,  1.54s/it]\n"
     ]
    },
    {
     "name": "stdout",
     "output_type": "stream",
     "text": [
      "Model Was Saved ! Current Best Avg. Dice: 0.0011192777892574668 Current Avg. Dice: 0.0011192777892574668 Current Avg. tumor Dice: 0.0022385555785149336 Current Avg. lymph Dice: 0.0\n"
     ]
    },
    {
     "name": "stderr",
     "output_type": "stream",
     "text": [
      "Training (307 / 18000 Steps) (loss=1.06559): 100%|██████████| 7/7 [00:05<00:00,  1.29it/s]\n",
      "Training (314 / 18000 Steps) (loss=1.03613): 100%|██████████| 7/7 [00:05<00:00,  1.21it/s]\n",
      "Training (321 / 18000 Steps) (loss=1.03094): 100%|██████████| 7/7 [00:05<00:00,  1.28it/s]\n",
      "Training (328 / 18000 Steps) (loss=1.04555): 100%|██████████| 7/7 [00:05<00:00,  1.25it/s]\n",
      "Training (335 / 18000 Steps) (loss=1.02830): 100%|██████████| 7/7 [00:05<00:00,  1.29it/s]\n",
      "Training (342 / 18000 Steps) (loss=1.01536): 100%|██████████| 7/7 [00:05<00:00,  1.26it/s]\n",
      "Training (349 / 18000 Steps) (loss=1.01192): 100%|██████████| 7/7 [00:05<00:00,  1.24it/s]\n",
      "Training (356 / 18000 Steps) (loss=1.06989): 100%|██████████| 7/7 [00:05<00:00,  1.24it/s]\n",
      "Training (363 / 18000 Steps) (loss=1.02911): 100%|██████████| 7/7 [00:05<00:00,  1.25it/s]\n",
      "Training (370 / 18000 Steps) (loss=1.00401): 100%|██████████| 7/7 [00:05<00:00,  1.31it/s]\n",
      "Training (377 / 18000 Steps) (loss=1.02247): 100%|██████████| 7/7 [00:05<00:00,  1.28it/s]\n",
      "Training (384 / 18000 Steps) (loss=1.04765): 100%|██████████| 7/7 [00:05<00:00,  1.32it/s]\n",
      "Training (391 / 18000 Steps) (loss=1.00259): 100%|██████████| 7/7 [00:05<00:00,  1.23it/s]\n",
      "Training (398 / 18000 Steps) (loss=1.05042): 100%|██████████| 7/7 [00:05<00:00,  1.24it/s]\n",
      "Validate (399 / 10 Steps): 100%|██████████| 2/2 [00:04<00:00,  2.15s/it]<00:19,  3.32s/it]\n",
      "Training (400 / 18000 Steps) (loss=0.99286):  29%|██▊       | 2/7 [00:08<00:22,  4.56s/it]"
     ]
    },
    {
     "name": "stdout",
     "output_type": "stream",
     "text": [
      "Model Was Saved ! Current Best Avg. Dice: 0.06314223259687424 Current Avg. Dice: 0.06314223259687424 Current Avg. tumor Dice: 0.12628446519374847 Current Avg. lymph Dice: 0.0\n"
     ]
    },
    {
     "name": "stderr",
     "output_type": "stream",
     "text": [
      "Training (405 / 18000 Steps) (loss=0.98929): 100%|██████████| 7/7 [00:10<00:00,  1.53s/it]\n",
      "Training (412 / 18000 Steps) (loss=0.98186): 100%|██████████| 7/7 [00:05<00:00,  1.28it/s]\n",
      "Training (419 / 18000 Steps) (loss=0.98198): 100%|██████████| 7/7 [00:05<00:00,  1.25it/s]\n",
      "Training (426 / 18000 Steps) (loss=0.98783): 100%|██████████| 7/7 [00:05<00:00,  1.20it/s]\n",
      "Training (433 / 18000 Steps) (loss=0.96181): 100%|██████████| 7/7 [00:05<00:00,  1.29it/s]\n",
      "Training (440 / 18000 Steps) (loss=0.95742): 100%|██████████| 7/7 [00:05<00:00,  1.26it/s]\n",
      "Training (447 / 18000 Steps) (loss=0.96688): 100%|██████████| 7/7 [00:05<00:00,  1.26it/s]\n",
      "Training (454 / 18000 Steps) (loss=0.94990): 100%|██████████| 7/7 [00:05<00:00,  1.32it/s]\n",
      "Training (461 / 18000 Steps) (loss=0.95835): 100%|██████████| 7/7 [00:05<00:00,  1.27it/s]\n",
      "Training (468 / 18000 Steps) (loss=0.95338): 100%|██████████| 7/7 [00:05<00:00,  1.26it/s]\n",
      "Training (475 / 18000 Steps) (loss=0.98526): 100%|██████████| 7/7 [00:05<00:00,  1.29it/s]\n",
      "Training (482 / 18000 Steps) (loss=0.95915): 100%|██████████| 7/7 [00:05<00:00,  1.22it/s]\n",
      "Training (489 / 18000 Steps) (loss=0.91720): 100%|██████████| 7/7 [00:05<00:00,  1.25it/s]\n",
      "Training (496 / 18000 Steps) (loss=0.95505): 100%|██████████| 7/7 [00:05<00:00,  1.26it/s]\n",
      "Validate (497 / 10 Steps): 100%|██████████| 2/2 [00:04<00:00,  2.14s/it]<00:03,  1.03it/s]\n",
      "Training (500 / 18000 Steps) (loss=0.99084):  57%|█████▋    | 4/7 [00:08<00:07,  2.46s/it]"
     ]
    },
    {
     "name": "stdout",
     "output_type": "stream",
     "text": [
      "Model Was Not Saved ! Current Best Avg. Dice: 0.06314223259687424 Current Avg. Dice: 0.05239070579409599 Current Avg. tumor Dice: 0.10478141158819199 Current Avg. lymph Dice: 0.0\n"
     ]
    },
    {
     "name": "stderr",
     "output_type": "stream",
     "text": [
      "Training (503 / 18000 Steps) (loss=0.95708): 100%|██████████| 7/7 [00:09<00:00,  1.38s/it]\n",
      "Training (510 / 18000 Steps) (loss=0.93786): 100%|██████████| 7/7 [00:05<00:00,  1.26it/s]\n",
      "Training (517 / 18000 Steps) (loss=0.92152): 100%|██████████| 7/7 [00:05<00:00,  1.33it/s]\n",
      "Training (524 / 18000 Steps) (loss=1.02207): 100%|██████████| 7/7 [00:05<00:00,  1.25it/s]\n",
      "Training (531 / 18000 Steps) (loss=0.92146): 100%|██████████| 7/7 [00:05<00:00,  1.29it/s]\n",
      "Training (538 / 18000 Steps) (loss=0.91385): 100%|██████████| 7/7 [00:05<00:00,  1.29it/s]\n",
      "Training (545 / 18000 Steps) (loss=0.90724): 100%|██████████| 7/7 [00:05<00:00,  1.29it/s]\n",
      "Training (552 / 18000 Steps) (loss=0.92843): 100%|██████████| 7/7 [00:05<00:00,  1.32it/s]\n",
      "Training (559 / 18000 Steps) (loss=0.91212): 100%|██████████| 7/7 [00:05<00:00,  1.28it/s]\n",
      "Training (566 / 18000 Steps) (loss=0.92758): 100%|██████████| 7/7 [00:05<00:00,  1.30it/s]\n",
      "Training (573 / 18000 Steps) (loss=0.91090): 100%|██████████| 7/7 [00:05<00:00,  1.28it/s]\n",
      "Training (580 / 18000 Steps) (loss=0.90000): 100%|██████████| 7/7 [00:05<00:00,  1.29it/s]\n",
      "Training (587 / 18000 Steps) (loss=0.90789): 100%|██████████| 7/7 [00:05<00:00,  1.32it/s]\n",
      "Training (594 / 18000 Steps) (loss=0.90019): 100%|██████████| 7/7 [00:05<00:00,  1.25it/s]\n",
      "Validate (595 / 10 Steps): 100%|██████████| 2/2 [00:04<00:00,  2.19s/it]<00:01,  1.54it/s]\n",
      "Training (600 / 18000 Steps) (loss=0.94948):  86%|████████▌ | 6/7 [00:10<00:02,  2.31s/it]"
     ]
    },
    {
     "name": "stdout",
     "output_type": "stream",
     "text": [
      "Model Was Saved ! Current Best Avg. Dice: 0.11499375104904175 Current Avg. Dice: 0.11499375104904175 Current Avg. tumor Dice: 0.2299874871969223 Current Avg. lymph Dice: 0.0\n"
     ]
    },
    {
     "name": "stderr",
     "output_type": "stream",
     "text": [
      "Training (601 / 18000 Steps) (loss=0.90972): 100%|██████████| 7/7 [00:10<00:00,  1.52s/it]\n",
      "Training (608 / 18000 Steps) (loss=0.91159): 100%|██████████| 7/7 [00:05<00:00,  1.25it/s]\n",
      "Training (615 / 18000 Steps) (loss=0.88827): 100%|██████████| 7/7 [00:05<00:00,  1.28it/s]\n",
      "Training (622 / 18000 Steps) (loss=0.86288): 100%|██████████| 7/7 [00:05<00:00,  1.30it/s]\n",
      "Training (629 / 18000 Steps) (loss=0.89630): 100%|██████████| 7/7 [00:05<00:00,  1.32it/s]\n",
      "Training (636 / 18000 Steps) (loss=0.90017): 100%|██████████| 7/7 [00:05<00:00,  1.34it/s]\n",
      "Training (643 / 18000 Steps) (loss=0.91647): 100%|██████████| 7/7 [00:05<00:00,  1.30it/s]\n",
      "Training (650 / 18000 Steps) (loss=0.92129): 100%|██████████| 7/7 [00:05<00:00,  1.28it/s]\n",
      "Training (657 / 18000 Steps) (loss=0.85465): 100%|██████████| 7/7 [00:05<00:00,  1.29it/s]\n",
      "Training (664 / 18000 Steps) (loss=0.92498): 100%|██████████| 7/7 [00:05<00:00,  1.25it/s]\n",
      "Training (671 / 18000 Steps) (loss=0.87054): 100%|██████████| 7/7 [00:05<00:00,  1.27it/s]\n",
      "Training (678 / 18000 Steps) (loss=0.84064): 100%|██████████| 7/7 [00:05<00:00,  1.25it/s]\n",
      "Training (685 / 18000 Steps) (loss=0.87267): 100%|██████████| 7/7 [00:05<00:00,  1.32it/s]\n",
      "Training (692 / 18000 Steps) (loss=0.87143): 100%|██████████| 7/7 [00:05<00:00,  1.24it/s]\n",
      "Training (699 / 18000 Steps) (loss=0.89335): 100%|██████████| 7/7 [00:05<00:00,  1.32it/s]\n",
      "Validate (700 / 10 Steps): 100%|██████████| 2/2 [00:04<00:00,  2.08s/it]<?, ?it/s]\n",
      "Training (700 / 18000 Steps) (loss=0.88002):  14%|█▍        | 1/7 [00:07<00:43,  7.32s/it]"
     ]
    },
    {
     "name": "stdout",
     "output_type": "stream",
     "text": [
      "Model Was Not Saved ! Current Best Avg. Dice: 0.11499375104904175 Current Avg. Dice: 0.08084198832511902 Current Avg. tumor Dice: 0.16168397665023804 Current Avg. lymph Dice: 0.0\n"
     ]
    },
    {
     "name": "stderr",
     "output_type": "stream",
     "text": [
      "Training (706 / 18000 Steps) (loss=0.90355): 100%|██████████| 7/7 [00:09<00:00,  1.39s/it]\n",
      "Training (713 / 18000 Steps) (loss=0.95044): 100%|██████████| 7/7 [00:05<00:00,  1.35it/s]\n",
      "Training (720 / 18000 Steps) (loss=0.86378): 100%|██████████| 7/7 [00:05<00:00,  1.32it/s]\n",
      "Training (727 / 18000 Steps) (loss=0.88714): 100%|██████████| 7/7 [00:05<00:00,  1.27it/s]\n",
      "Training (734 / 18000 Steps) (loss=0.87048): 100%|██████████| 7/7 [00:05<00:00,  1.26it/s]\n",
      "Training (741 / 18000 Steps) (loss=0.91973): 100%|██████████| 7/7 [00:05<00:00,  1.31it/s]\n",
      "Training (748 / 18000 Steps) (loss=0.85355): 100%|██████████| 7/7 [00:05<00:00,  1.29it/s]\n",
      "Training (755 / 18000 Steps) (loss=0.88460): 100%|██████████| 7/7 [00:05<00:00,  1.31it/s]\n",
      "Training (762 / 18000 Steps) (loss=0.87824): 100%|██████████| 7/7 [00:05<00:00,  1.26it/s]\n",
      "Training (769 / 18000 Steps) (loss=0.85210): 100%|██████████| 7/7 [00:05<00:00,  1.32it/s]\n",
      "Training (776 / 18000 Steps) (loss=0.86373): 100%|██████████| 7/7 [00:05<00:00,  1.33it/s]\n",
      "Training (783 / 18000 Steps) (loss=0.90743): 100%|██████████| 7/7 [00:05<00:00,  1.35it/s]\n",
      "Training (790 / 18000 Steps) (loss=0.85411): 100%|██████████| 7/7 [00:05<00:00,  1.28it/s]\n",
      "Training (797 / 18000 Steps) (loss=0.85866): 100%|██████████| 7/7 [00:05<00:00,  1.29it/s]\n",
      "Validate (798 / 10 Steps): 100%|██████████| 2/2 [00:04<00:00,  2.11s/it]<00:07,  1.47s/it]\n",
      "Training (800 / 18000 Steps) (loss=0.83601):  43%|████▎     | 3/7 [00:08<00:11,  2.94s/it]"
     ]
    },
    {
     "name": "stdout",
     "output_type": "stream",
     "text": [
      "Model Was Not Saved ! Current Best Avg. Dice: 0.11499375104904175 Current Avg. Dice: 0.09547537565231323 Current Avg. tumor Dice: 0.19095075130462646 Current Avg. lymph Dice: 0.0\n"
     ]
    },
    {
     "name": "stderr",
     "output_type": "stream",
     "text": [
      "Training (804 / 18000 Steps) (loss=0.83113): 100%|██████████| 7/7 [00:09<00:00,  1.38s/it]\n",
      "Training (811 / 18000 Steps) (loss=0.80432): 100%|██████████| 7/7 [00:05<00:00,  1.32it/s]\n",
      "Training (818 / 18000 Steps) (loss=0.84176): 100%|██████████| 7/7 [00:05<00:00,  1.32it/s]\n",
      "Training (825 / 18000 Steps) (loss=0.85363): 100%|██████████| 7/7 [00:05<00:00,  1.29it/s]\n",
      "Training (832 / 18000 Steps) (loss=0.85487): 100%|██████████| 7/7 [00:05<00:00,  1.30it/s]\n",
      "Training (839 / 18000 Steps) (loss=0.84715): 100%|██████████| 7/7 [00:05<00:00,  1.32it/s]\n",
      "Training (846 / 18000 Steps) (loss=0.84189): 100%|██████████| 7/7 [00:05<00:00,  1.24it/s]\n",
      "Training (853 / 18000 Steps) (loss=0.83347): 100%|██████████| 7/7 [00:05<00:00,  1.28it/s]\n",
      "Training (860 / 18000 Steps) (loss=0.80907): 100%|██████████| 7/7 [00:05<00:00,  1.26it/s]\n",
      "Training (867 / 18000 Steps) (loss=0.83560): 100%|██████████| 7/7 [00:05<00:00,  1.27it/s]\n",
      "Training (874 / 18000 Steps) (loss=0.82992): 100%|██████████| 7/7 [00:05<00:00,  1.30it/s]\n",
      "Training (881 / 18000 Steps) (loss=0.82303): 100%|██████████| 7/7 [00:05<00:00,  1.27it/s]\n",
      "Training (888 / 18000 Steps) (loss=0.83066): 100%|██████████| 7/7 [00:05<00:00,  1.32it/s]\n",
      "Training (895 / 18000 Steps) (loss=0.84218): 100%|██████████| 7/7 [00:05<00:00,  1.26it/s]\n",
      "Validate (896 / 10 Steps): 100%|██████████| 2/2 [00:04<00:00,  2.10s/it]<00:02,  1.27it/s]\n",
      "Training (900 / 18000 Steps) (loss=0.83680):  71%|███████▏  | 5/7 [00:09<00:04,  2.18s/it]"
     ]
    },
    {
     "name": "stdout",
     "output_type": "stream",
     "text": [
      "Model Was Not Saved ! Current Best Avg. Dice: 0.11499375104904175 Current Avg. Dice: 0.08623078465461731 Current Avg. tumor Dice: 0.17246156930923462 Current Avg. lymph Dice: 0.0\n"
     ]
    },
    {
     "name": "stderr",
     "output_type": "stream",
     "text": [
      "Training (902 / 18000 Steps) (loss=0.81800): 100%|██████████| 7/7 [00:09<00:00,  1.40s/it]\n",
      "Training (909 / 18000 Steps) (loss=0.83184): 100%|██████████| 7/7 [00:05<00:00,  1.31it/s]\n",
      "Training (916 / 18000 Steps) (loss=0.81072): 100%|██████████| 7/7 [00:05<00:00,  1.32it/s]\n",
      "Training (923 / 18000 Steps) (loss=0.80191): 100%|██████████| 7/7 [00:05<00:00,  1.29it/s]\n",
      "Training (930 / 18000 Steps) (loss=0.83247): 100%|██████████| 7/7 [00:05<00:00,  1.26it/s]\n",
      "Training (937 / 18000 Steps) (loss=0.82118): 100%|██████████| 7/7 [00:05<00:00,  1.36it/s]\n",
      "Training (944 / 18000 Steps) (loss=0.81193): 100%|██████████| 7/7 [00:05<00:00,  1.34it/s]\n",
      "Training (951 / 18000 Steps) (loss=0.81097): 100%|██████████| 7/7 [00:05<00:00,  1.26it/s]\n",
      "Training (958 / 18000 Steps) (loss=0.81008): 100%|██████████| 7/7 [00:05<00:00,  1.29it/s]\n",
      "Training (965 / 18000 Steps) (loss=0.81661): 100%|██████████| 7/7 [00:05<00:00,  1.30it/s]\n",
      "Training (972 / 18000 Steps) (loss=0.80994): 100%|██████████| 7/7 [00:05<00:00,  1.26it/s]\n",
      "Training (979 / 18000 Steps) (loss=0.82035): 100%|██████████| 7/7 [00:05<00:00,  1.29it/s]\n",
      "Training (986 / 18000 Steps) (loss=0.78591): 100%|██████████| 7/7 [00:05<00:00,  1.34it/s]\n",
      "Training (993 / 18000 Steps) (loss=0.83259): 100%|██████████| 7/7 [00:05<00:00,  1.25it/s]\n",
      "Validate (994 / 10 Steps): 100%|██████████| 2/2 [00:04<00:00,  2.14s/it]5<00:00,  1.77it/s]\n",
      "Training (1000 / 18000 Steps) (loss=0.80848): 100%|██████████| 7/7 [00:09<00:00,  1.39s/it]\n"
     ]
    },
    {
     "name": "stdout",
     "output_type": "stream",
     "text": [
      "Model Was Not Saved ! Current Best Avg. Dice: 0.11499375104904175 Current Avg. Dice: 0.07681185752153397 Current Avg. tumor Dice: 0.15362371504306793 Current Avg. lymph Dice: 0.0\n"
     ]
    },
    {
     "name": "stderr",
     "output_type": "stream",
     "text": [
      "Training (1007 / 18000 Steps) (loss=0.77515): 100%|██████████| 7/7 [00:05<00:00,  1.31it/s]\n",
      "Training (1014 / 18000 Steps) (loss=0.70954): 100%|██████████| 7/7 [00:05<00:00,  1.34it/s]\n",
      "Training (1021 / 18000 Steps) (loss=0.78221): 100%|██████████| 7/7 [00:05<00:00,  1.31it/s]\n",
      "Training (1028 / 18000 Steps) (loss=0.76643): 100%|██████████| 7/7 [00:05<00:00,  1.32it/s]\n",
      "Training (1035 / 18000 Steps) (loss=0.80721): 100%|██████████| 7/7 [00:05<00:00,  1.28it/s]\n",
      "Training (1042 / 18000 Steps) (loss=0.78222): 100%|██████████| 7/7 [00:05<00:00,  1.32it/s]\n",
      "Training (1049 / 18000 Steps) (loss=0.80800): 100%|██████████| 7/7 [00:05<00:00,  1.22it/s]\n",
      "Training (1056 / 18000 Steps) (loss=0.75723): 100%|██████████| 7/7 [00:05<00:00,  1.35it/s]\n",
      "Training (1063 / 18000 Steps) (loss=0.70118): 100%|██████████| 7/7 [00:05<00:00,  1.27it/s]\n",
      "Training (1070 / 18000 Steps) (loss=0.79226): 100%|██████████| 7/7 [00:05<00:00,  1.26it/s]\n",
      "Training (1077 / 18000 Steps) (loss=0.83140): 100%|██████████| 7/7 [00:05<00:00,  1.28it/s]\n",
      "Training (1084 / 18000 Steps) (loss=0.78568): 100%|██████████| 7/7 [00:05<00:00,  1.29it/s]\n",
      "Training (1091 / 18000 Steps) (loss=0.76906): 100%|██████████| 7/7 [00:05<00:00,  1.30it/s]\n",
      "Training (1098 / 18000 Steps) (loss=0.81995): 100%|██████████| 7/7 [00:05<00:00,  1.28it/s]\n",
      "Validate (1099 / 10 Steps): 100%|██████████| 2/2 [00:04<00:00,  2.12s/it]<00:19,  3.20s/it]\n",
      "Training (1100 / 18000 Steps) (loss=0.73794):  29%|██▊       | 2/7 [00:07<00:20,  4.08s/it]"
     ]
    },
    {
     "name": "stdout",
     "output_type": "stream",
     "text": [
      "Model Was Not Saved ! Current Best Avg. Dice: 0.11499375104904175 Current Avg. Dice: 0.09227762371301651 Current Avg. tumor Dice: 0.18455524742603302 Current Avg. lymph Dice: 0.0\n"
     ]
    },
    {
     "name": "stderr",
     "output_type": "stream",
     "text": [
      "Training (1105 / 18000 Steps) (loss=0.79717): 100%|██████████| 7/7 [00:09<00:00,  1.41s/it]\n",
      "Training (1112 / 18000 Steps) (loss=0.87001): 100%|██████████| 7/7 [00:05<00:00,  1.35it/s]\n",
      "Training (1119 / 18000 Steps) (loss=0.74708): 100%|██████████| 7/7 [00:05<00:00,  1.26it/s]\n",
      "Training (1126 / 18000 Steps) (loss=0.68896): 100%|██████████| 7/7 [00:05<00:00,  1.26it/s]\n",
      "Training (1133 / 18000 Steps) (loss=0.79969): 100%|██████████| 7/7 [00:05<00:00,  1.29it/s]\n",
      "Training (1140 / 18000 Steps) (loss=0.76419): 100%|██████████| 7/7 [00:05<00:00,  1.28it/s]\n",
      "Training (1147 / 18000 Steps) (loss=0.77662): 100%|██████████| 7/7 [00:05<00:00,  1.30it/s]\n",
      "Training (1154 / 18000 Steps) (loss=0.72282): 100%|██████████| 7/7 [00:05<00:00,  1.25it/s]\n",
      "Training (1161 / 18000 Steps) (loss=0.71331): 100%|██████████| 7/7 [00:05<00:00,  1.25it/s]\n",
      "Training (1168 / 18000 Steps) (loss=0.75337): 100%|██████████| 7/7 [00:05<00:00,  1.27it/s]\n",
      "Training (1175 / 18000 Steps) (loss=0.76963): 100%|██████████| 7/7 [00:05<00:00,  1.28it/s]\n",
      "Training (1182 / 18000 Steps) (loss=0.81017): 100%|██████████| 7/7 [00:05<00:00,  1.31it/s]\n",
      "Training (1189 / 18000 Steps) (loss=0.80288): 100%|██████████| 7/7 [00:05<00:00,  1.26it/s]\n",
      "Training (1196 / 18000 Steps) (loss=0.70600): 100%|██████████| 7/7 [00:05<00:00,  1.26it/s]\n",
      "Validate (1197 / 10 Steps): 100%|██████████| 2/2 [00:04<00:00,  2.09s/it]<00:03,  1.00it/s]\n",
      "Training (1200 / 18000 Steps) (loss=0.76805):  57%|█████▋    | 4/7 [00:08<00:07,  2.44s/it]"
     ]
    },
    {
     "name": "stdout",
     "output_type": "stream",
     "text": [
      "Model Was Not Saved ! Current Best Avg. Dice: 0.11499375104904175 Current Avg. Dice: 0.106683149933815 Current Avg. tumor Dice: 0.21336629986763 Current Avg. lymph Dice: 0.0\n"
     ]
    },
    {
     "name": "stderr",
     "output_type": "stream",
     "text": [
      "Training (1203 / 18000 Steps) (loss=0.77288): 100%|██████████| 7/7 [00:09<00:00,  1.38s/it]\n",
      "Training (1210 / 18000 Steps) (loss=0.76640): 100%|██████████| 7/7 [00:05<00:00,  1.28it/s]\n",
      "Training (1217 / 18000 Steps) (loss=0.75809): 100%|██████████| 7/7 [00:05<00:00,  1.29it/s]\n",
      "Training (1224 / 18000 Steps) (loss=0.77744): 100%|██████████| 7/7 [00:05<00:00,  1.26it/s]\n",
      "Training (1231 / 18000 Steps) (loss=0.75097): 100%|██████████| 7/7 [00:05<00:00,  1.31it/s]\n",
      "Training (1238 / 18000 Steps) (loss=0.71921): 100%|██████████| 7/7 [00:05<00:00,  1.29it/s]\n",
      "Training (1245 / 18000 Steps) (loss=0.80254): 100%|██████████| 7/7 [00:05<00:00,  1.27it/s]\n",
      "Training (1252 / 18000 Steps) (loss=0.76453): 100%|██████████| 7/7 [00:05<00:00,  1.28it/s]\n",
      "Training (1259 / 18000 Steps) (loss=0.74944): 100%|██████████| 7/7 [00:05<00:00,  1.29it/s]\n",
      "Training (1266 / 18000 Steps) (loss=0.72633): 100%|██████████| 7/7 [00:05<00:00,  1.23it/s]\n",
      "Training (1273 / 18000 Steps) (loss=0.69317): 100%|██████████| 7/7 [00:05<00:00,  1.27it/s]\n",
      "Training (1280 / 18000 Steps) (loss=0.72312): 100%|██████████| 7/7 [00:05<00:00,  1.32it/s]\n",
      "Training (1287 / 18000 Steps) (loss=0.83084): 100%|██████████| 7/7 [00:05<00:00,  1.26it/s]\n",
      "Training (1294 / 18000 Steps) (loss=0.81908): 100%|██████████| 7/7 [00:05<00:00,  1.27it/s]\n",
      "Validate (1295 / 10 Steps): 100%|██████████| 2/2 [00:04<00:00,  2.21s/it]<00:01,  1.56it/s]\n",
      "Training (1300 / 18000 Steps) (loss=0.70836):  86%|████████▌ | 6/7 [00:09<00:02,  2.08s/it]"
     ]
    },
    {
     "name": "stdout",
     "output_type": "stream",
     "text": [
      "Model Was Not Saved ! Current Best Avg. Dice: 0.11499375104904175 Current Avg. Dice: 0.08467236161231995 Current Avg. tumor Dice: 0.1693447232246399 Current Avg. lymph Dice: 0.0\n"
     ]
    },
    {
     "name": "stderr",
     "output_type": "stream",
     "text": [
      "Training (1301 / 18000 Steps) (loss=0.69399): 100%|██████████| 7/7 [00:09<00:00,  1.41s/it]\n",
      "Training (1308 / 18000 Steps) (loss=0.75441): 100%|██████████| 7/7 [00:05<00:00,  1.31it/s]\n",
      "Training (1315 / 18000 Steps) (loss=0.76250): 100%|██████████| 7/7 [00:05<00:00,  1.33it/s]\n",
      "Training (1322 / 18000 Steps) (loss=0.74493): 100%|██████████| 7/7 [00:05<00:00,  1.25it/s]\n",
      "Training (1329 / 18000 Steps) (loss=0.78148): 100%|██████████| 7/7 [00:05<00:00,  1.28it/s]\n",
      "Training (1336 / 18000 Steps) (loss=0.69082): 100%|██████████| 7/7 [00:05<00:00,  1.31it/s]\n",
      "Training (1343 / 18000 Steps) (loss=0.75566): 100%|██████████| 7/7 [00:05<00:00,  1.32it/s]\n",
      "Training (1350 / 18000 Steps) (loss=0.82135): 100%|██████████| 7/7 [00:05<00:00,  1.35it/s]\n",
      "Training (1357 / 18000 Steps) (loss=0.72565): 100%|██████████| 7/7 [00:05<00:00,  1.33it/s]\n",
      "Training (1364 / 18000 Steps) (loss=0.73377): 100%|██████████| 7/7 [00:05<00:00,  1.28it/s]\n",
      "Training (1371 / 18000 Steps) (loss=0.74815): 100%|██████████| 7/7 [00:05<00:00,  1.28it/s]\n",
      "Training (1378 / 18000 Steps) (loss=0.71534): 100%|██████████| 7/7 [00:05<00:00,  1.23it/s]\n",
      "Training (1385 / 18000 Steps) (loss=0.77943): 100%|██████████| 7/7 [00:05<00:00,  1.31it/s]\n",
      "Training (1392 / 18000 Steps) (loss=0.85373): 100%|██████████| 7/7 [00:05<00:00,  1.28it/s]\n",
      "Training (1399 / 18000 Steps) (loss=0.73226): 100%|██████████| 7/7 [00:05<00:00,  1.28it/s]\n",
      "Validate (1400 / 10 Steps): 100%|██████████| 2/2 [00:04<00:00,  2.12s/it]<?, ?it/s]\n",
      "Training (1400 / 18000 Steps) (loss=0.76959):  14%|█▍        | 1/7 [00:07<00:44,  7.38s/it]"
     ]
    },
    {
     "name": "stdout",
     "output_type": "stream",
     "text": [
      "Model Was Not Saved ! Current Best Avg. Dice: 0.11499375104904175 Current Avg. Dice: 0.10747954249382019 Current Avg. tumor Dice: 0.14705975353717804 Current Avg. lymph Dice: 0.06789931654930115\n"
     ]
    },
    {
     "name": "stderr",
     "output_type": "stream",
     "text": [
      "Training (1406 / 18000 Steps) (loss=0.71552): 100%|██████████| 7/7 [00:09<00:00,  1.40s/it]\n",
      "Training (1413 / 18000 Steps) (loss=0.74741): 100%|██████████| 7/7 [00:05<00:00,  1.27it/s]\n",
      "Training (1420 / 18000 Steps) (loss=0.76796): 100%|██████████| 7/7 [00:05<00:00,  1.29it/s]\n",
      "Training (1427 / 18000 Steps) (loss=0.76812): 100%|██████████| 7/7 [00:05<00:00,  1.31it/s]\n",
      "Training (1434 / 18000 Steps) (loss=0.76801): 100%|██████████| 7/7 [00:05<00:00,  1.22it/s]\n",
      "Training (1441 / 18000 Steps) (loss=0.71326): 100%|██████████| 7/7 [00:05<00:00,  1.28it/s]\n",
      "Training (1448 / 18000 Steps) (loss=0.68672): 100%|██████████| 7/7 [00:05<00:00,  1.29it/s]\n",
      "Training (1455 / 18000 Steps) (loss=0.73193): 100%|██████████| 7/7 [00:05<00:00,  1.33it/s]\n",
      "Training (1462 / 18000 Steps) (loss=0.74452): 100%|██████████| 7/7 [00:05<00:00,  1.25it/s]\n",
      "Training (1469 / 18000 Steps) (loss=0.75052): 100%|██████████| 7/7 [00:05<00:00,  1.24it/s]\n",
      "Training (1476 / 18000 Steps) (loss=0.73134): 100%|██████████| 7/7 [00:05<00:00,  1.32it/s]\n",
      "Training (1483 / 18000 Steps) (loss=0.71831): 100%|██████████| 7/7 [00:05<00:00,  1.25it/s]\n",
      "Training (1490 / 18000 Steps) (loss=0.72418): 100%|██████████| 7/7 [00:05<00:00,  1.38it/s]\n",
      "Training (1497 / 18000 Steps) (loss=0.61680): 100%|██████████| 7/7 [00:05<00:00,  1.28it/s]\n",
      "Validate (1498 / 10 Steps): 100%|██████████| 2/2 [00:04<00:00,  2.18s/it]<00:07,  1.59s/it]\n",
      "Training (1500 / 18000 Steps) (loss=0.67524):  43%|████▎     | 3/7 [00:09<00:13,  3.41s/it]"
     ]
    },
    {
     "name": "stdout",
     "output_type": "stream",
     "text": [
      "Model Was Saved ! Current Best Avg. Dice: 0.1533900499343872 Current Avg. Dice: 0.1533900499343872 Current Avg. tumor Dice: 0.2123159021139145 Current Avg. lymph Dice: 0.09446420520544052\n"
     ]
    },
    {
     "name": "stderr",
     "output_type": "stream",
     "text": [
      "Training (1504 / 18000 Steps) (loss=0.73993): 100%|██████████| 7/7 [00:10<00:00,  1.55s/it]\n",
      "Training (1511 / 18000 Steps) (loss=0.74710): 100%|██████████| 7/7 [00:05<00:00,  1.36it/s]\n",
      "Training (1518 / 18000 Steps) (loss=0.69176): 100%|██████████| 7/7 [00:05<00:00,  1.31it/s]\n",
      "Training (1525 / 18000 Steps) (loss=0.71384): 100%|██████████| 7/7 [00:05<00:00,  1.28it/s]\n",
      "Training (1532 / 18000 Steps) (loss=0.73927): 100%|██████████| 7/7 [00:05<00:00,  1.32it/s]\n",
      "Training (1539 / 18000 Steps) (loss=0.66421): 100%|██████████| 7/7 [00:05<00:00,  1.23it/s]\n",
      "Training (1546 / 18000 Steps) (loss=0.70535): 100%|██████████| 7/7 [00:05<00:00,  1.30it/s]\n",
      "Training (1553 / 18000 Steps) (loss=0.69843): 100%|██████████| 7/7 [00:05<00:00,  1.25it/s]\n",
      "Training (1560 / 18000 Steps) (loss=0.73520): 100%|██████████| 7/7 [00:05<00:00,  1.28it/s]\n",
      "Training (1567 / 18000 Steps) (loss=0.69604): 100%|██████████| 7/7 [00:05<00:00,  1.28it/s]\n",
      "Training (1574 / 18000 Steps) (loss=0.70767): 100%|██████████| 7/7 [00:05<00:00,  1.23it/s]\n",
      "Training (1581 / 18000 Steps) (loss=0.66372): 100%|██████████| 7/7 [00:05<00:00,  1.34it/s]\n",
      "Training (1588 / 18000 Steps) (loss=0.69223): 100%|██████████| 7/7 [00:05<00:00,  1.28it/s]\n",
      "Training (1595 / 18000 Steps) (loss=0.70272): 100%|██████████| 7/7 [00:05<00:00,  1.25it/s]\n",
      "Validate (1596 / 10 Steps): 100%|██████████| 2/2 [00:04<00:00,  2.16s/it]<00:02,  1.33it/s]\n",
      "Training (1600 / 18000 Steps) (loss=0.67223):  71%|███████▏  | 5/7 [00:09<00:04,  2.45s/it]"
     ]
    },
    {
     "name": "stdout",
     "output_type": "stream",
     "text": [
      "Model Was Saved ! Current Best Avg. Dice: 0.18539901077747345 Current Avg. Dice: 0.18539901077747345 Current Avg. tumor Dice: 0.2172972708940506 Current Avg. lymph Dice: 0.1535007655620575\n"
     ]
    },
    {
     "name": "stderr",
     "output_type": "stream",
     "text": [
      "Training (1602 / 18000 Steps) (loss=0.68173): 100%|██████████| 7/7 [00:10<00:00,  1.47s/it]\n",
      "Training (1609 / 18000 Steps) (loss=0.73394): 100%|██████████| 7/7 [00:05<00:00,  1.27it/s]\n",
      "Training (1616 / 18000 Steps) (loss=0.63765): 100%|██████████| 7/7 [00:05<00:00,  1.27it/s]\n",
      "Training (1623 / 18000 Steps) (loss=0.73252): 100%|██████████| 7/7 [00:05<00:00,  1.26it/s]\n",
      "Training (1630 / 18000 Steps) (loss=0.68631): 100%|██████████| 7/7 [00:05<00:00,  1.33it/s]\n",
      "Training (1637 / 18000 Steps) (loss=0.66154): 100%|██████████| 7/7 [00:05<00:00,  1.30it/s]\n",
      "Training (1644 / 18000 Steps) (loss=0.71732): 100%|██████████| 7/7 [00:05<00:00,  1.32it/s]\n",
      "Training (1651 / 18000 Steps) (loss=0.71920): 100%|██████████| 7/7 [00:05<00:00,  1.24it/s]\n",
      "Training (1658 / 18000 Steps) (loss=0.71417): 100%|██████████| 7/7 [00:05<00:00,  1.27it/s]\n",
      "Training (1665 / 18000 Steps) (loss=0.63024): 100%|██████████| 7/7 [00:05<00:00,  1.33it/s]\n",
      "Training (1672 / 18000 Steps) (loss=0.66758): 100%|██████████| 7/7 [00:05<00:00,  1.25it/s]\n",
      "Training (1679 / 18000 Steps) (loss=0.63272): 100%|██████████| 7/7 [00:05<00:00,  1.32it/s]\n",
      "Training (1686 / 18000 Steps) (loss=0.66590): 100%|██████████| 7/7 [00:05<00:00,  1.31it/s]\n",
      "Training (1693 / 18000 Steps) (loss=0.68132): 100%|██████████| 7/7 [00:05<00:00,  1.28it/s]\n",
      "Validate (1694 / 10 Steps): 100%|██████████| 2/2 [00:04<00:00,  2.10s/it]<00:00,  1.78it/s]\n",
      "Training (1700 / 18000 Steps) (loss=0.64750): 100%|██████████| 7/7 [00:09<00:00,  1.37s/it]\n"
     ]
    },
    {
     "name": "stdout",
     "output_type": "stream",
     "text": [
      "Model Was Not Saved ! Current Best Avg. Dice: 0.18539901077747345 Current Avg. Dice: 0.1750098019838333 Current Avg. tumor Dice: 0.19783535599708557 Current Avg. lymph Dice: 0.15218424797058105\n"
     ]
    },
    {
     "name": "stderr",
     "output_type": "stream",
     "text": [
      "Training (1707 / 18000 Steps) (loss=0.64313): 100%|██████████| 7/7 [00:05<00:00,  1.28it/s]\n",
      "Training (1714 / 18000 Steps) (loss=0.65374): 100%|██████████| 7/7 [00:05<00:00,  1.31it/s]\n",
      "Training (1721 / 18000 Steps) (loss=0.58687): 100%|██████████| 7/7 [00:05<00:00,  1.28it/s]\n",
      "Training (1728 / 18000 Steps) (loss=0.68300): 100%|██████████| 7/7 [00:05<00:00,  1.26it/s]\n",
      "Training (1735 / 18000 Steps) (loss=0.72277): 100%|██████████| 7/7 [00:05<00:00,  1.33it/s]\n",
      "Training (1742 / 18000 Steps) (loss=0.73203): 100%|██████████| 7/7 [00:05<00:00,  1.20it/s]\n",
      "Training (1749 / 18000 Steps) (loss=0.72067): 100%|██████████| 7/7 [00:05<00:00,  1.25it/s]\n",
      "Training (1756 / 18000 Steps) (loss=0.66297): 100%|██████████| 7/7 [00:05<00:00,  1.26it/s]\n",
      "Training (1763 / 18000 Steps) (loss=0.67561): 100%|██████████| 7/7 [00:05<00:00,  1.26it/s]\n",
      "Training (1770 / 18000 Steps) (loss=0.65279): 100%|██████████| 7/7 [00:05<00:00,  1.22it/s]\n",
      "Training (1777 / 18000 Steps) (loss=0.67178): 100%|██████████| 7/7 [00:05<00:00,  1.21it/s]\n",
      "Training (1784 / 18000 Steps) (loss=0.62881): 100%|██████████| 7/7 [00:05<00:00,  1.25it/s]\n",
      "Training (1791 / 18000 Steps) (loss=0.63219): 100%|██████████| 7/7 [00:05<00:00,  1.24it/s]\n",
      "Training (1798 / 18000 Steps) (loss=0.68429): 100%|██████████| 7/7 [00:05<00:00,  1.30it/s]\n",
      "Validate (1799 / 10 Steps): 100%|██████████| 2/2 [00:04<00:00,  2.25s/it]<00:19,  3.25s/it]\n",
      "Training (1800 / 18000 Steps) (loss=0.67515):  29%|██▊       | 2/7 [00:08<00:23,  4.67s/it]"
     ]
    },
    {
     "name": "stdout",
     "output_type": "stream",
     "text": [
      "Model Was Saved ! Current Best Avg. Dice: 0.21709772944450378 Current Avg. Dice: 0.21709772944450378 Current Avg. tumor Dice: 0.1957966834306717 Current Avg. lymph Dice: 0.23839876055717468\n"
     ]
    },
    {
     "name": "stderr",
     "output_type": "stream",
     "text": [
      "Training (1805 / 18000 Steps) (loss=0.72122): 100%|██████████| 7/7 [00:10<00:00,  1.56s/it]\n",
      "Training (1812 / 18000 Steps) (loss=0.71773): 100%|██████████| 7/7 [00:05<00:00,  1.21it/s]\n",
      "Training (1819 / 18000 Steps) (loss=0.66828): 100%|██████████| 7/7 [00:05<00:00,  1.32it/s]\n",
      "Training (1826 / 18000 Steps) (loss=0.68709): 100%|██████████| 7/7 [00:05<00:00,  1.27it/s]\n",
      "Training (1833 / 18000 Steps) (loss=0.70870): 100%|██████████| 7/7 [00:05<00:00,  1.23it/s]\n",
      "Training (1840 / 18000 Steps) (loss=0.71436): 100%|██████████| 7/7 [00:05<00:00,  1.22it/s]\n",
      "Training (1847 / 18000 Steps) (loss=0.63995): 100%|██████████| 7/7 [00:05<00:00,  1.23it/s]\n",
      "Training (1854 / 18000 Steps) (loss=0.71064): 100%|██████████| 7/7 [00:05<00:00,  1.24it/s]\n",
      "Training (1861 / 18000 Steps) (loss=0.61646): 100%|██████████| 7/7 [00:05<00:00,  1.21it/s]\n",
      "Training (1868 / 18000 Steps) (loss=0.63862): 100%|██████████| 7/7 [00:05<00:00,  1.26it/s]\n",
      "Training (1875 / 18000 Steps) (loss=0.62241): 100%|██████████| 7/7 [00:05<00:00,  1.22it/s]\n",
      "Training (1882 / 18000 Steps) (loss=0.62469): 100%|██████████| 7/7 [00:05<00:00,  1.27it/s]\n",
      "Training (1889 / 18000 Steps) (loss=0.63496): 100%|██████████| 7/7 [00:05<00:00,  1.28it/s]\n",
      "Training (1896 / 18000 Steps) (loss=0.61367): 100%|██████████| 7/7 [00:05<00:00,  1.27it/s]\n",
      "Validate (1897 / 10 Steps): 100%|██████████| 2/2 [00:04<00:00,  2.18s/it]<00:04,  1.01s/it]\n",
      "Training (1900 / 18000 Steps) (loss=0.64223):  57%|█████▋    | 4/7 [00:09<00:08,  2.80s/it]"
     ]
    },
    {
     "name": "stdout",
     "output_type": "stream",
     "text": [
      "Model Was Saved ! Current Best Avg. Dice: 0.2213028073310852 Current Avg. Dice: 0.2213028073310852 Current Avg. tumor Dice: 0.23336799442768097 Current Avg. lymph Dice: 0.20923765003681183\n"
     ]
    },
    {
     "name": "stderr",
     "output_type": "stream",
     "text": [
      "Training (1903 / 18000 Steps) (loss=0.61448): 100%|██████████| 7/7 [00:10<00:00,  1.52s/it]\n",
      "Training (1910 / 18000 Steps) (loss=0.56624): 100%|██████████| 7/7 [00:05<00:00,  1.29it/s]\n",
      "Training (1917 / 18000 Steps) (loss=0.61790): 100%|██████████| 7/7 [00:05<00:00,  1.28it/s]\n",
      "Training (1924 / 18000 Steps) (loss=0.73845): 100%|██████████| 7/7 [00:05<00:00,  1.25it/s]\n",
      "Training (1931 / 18000 Steps) (loss=0.68499): 100%|██████████| 7/7 [00:05<00:00,  1.24it/s]\n",
      "Training (1938 / 18000 Steps) (loss=0.65837): 100%|██████████| 7/7 [00:05<00:00,  1.25it/s]\n",
      "Training (1945 / 18000 Steps) (loss=0.79270): 100%|██████████| 7/7 [00:05<00:00,  1.20it/s]\n",
      "Training (1952 / 18000 Steps) (loss=0.69580): 100%|██████████| 7/7 [00:05<00:00,  1.26it/s]\n",
      "Training (1959 / 18000 Steps) (loss=0.70602): 100%|██████████| 7/7 [00:05<00:00,  1.20it/s]\n",
      "Training (1966 / 18000 Steps) (loss=0.68058): 100%|██████████| 7/7 [00:05<00:00,  1.22it/s]\n",
      "Training (1973 / 18000 Steps) (loss=0.66521): 100%|██████████| 7/7 [00:05<00:00,  1.20it/s]\n",
      "Training (1980 / 18000 Steps) (loss=0.66967): 100%|██████████| 7/7 [00:05<00:00,  1.19it/s]\n",
      "Training (1987 / 18000 Steps) (loss=0.69794): 100%|██████████| 7/7 [00:05<00:00,  1.24it/s]\n",
      "Training (1994 / 18000 Steps) (loss=0.59636): 100%|██████████| 7/7 [00:05<00:00,  1.23it/s]\n",
      "Validate (1995 / 10 Steps): 100%|██████████| 2/2 [00:04<00:00,  2.20s/it]<00:01,  1.56it/s]\n",
      "Training (2000 / 18000 Steps) (loss=0.69092):  86%|████████▌ | 6/7 [00:10<00:02,  2.31s/it]"
     ]
    },
    {
     "name": "stdout",
     "output_type": "stream",
     "text": [
      "Model Was Saved ! Current Best Avg. Dice: 0.24488799273967743 Current Avg. Dice: 0.24488799273967743 Current Avg. tumor Dice: 0.27096793055534363 Current Avg. lymph Dice: 0.21880802512168884\n"
     ]
    },
    {
     "name": "stderr",
     "output_type": "stream",
     "text": [
      "Training (2001 / 18000 Steps) (loss=0.69734): 100%|██████████| 7/7 [00:10<00:00,  1.51s/it]\n",
      "Training (2008 / 18000 Steps) (loss=0.49245): 100%|██████████| 7/7 [00:05<00:00,  1.28it/s]\n",
      "Training (2015 / 18000 Steps) (loss=0.65598): 100%|██████████| 7/7 [00:05<00:00,  1.35it/s]\n",
      "Training (2022 / 18000 Steps) (loss=0.58619): 100%|██████████| 7/7 [00:05<00:00,  1.27it/s]\n",
      "Training (2029 / 18000 Steps) (loss=0.67214): 100%|██████████| 7/7 [00:05<00:00,  1.32it/s]\n",
      "Training (2036 / 18000 Steps) (loss=0.68626): 100%|██████████| 7/7 [00:05<00:00,  1.32it/s]\n",
      "Training (2043 / 18000 Steps) (loss=0.63878): 100%|██████████| 7/7 [00:05<00:00,  1.24it/s]\n",
      "Training (2050 / 18000 Steps) (loss=0.58006): 100%|██████████| 7/7 [00:05<00:00,  1.20it/s]\n",
      "Training (2057 / 18000 Steps) (loss=0.66621): 100%|██████████| 7/7 [00:05<00:00,  1.25it/s]\n",
      "Training (2064 / 18000 Steps) (loss=0.69349): 100%|██████████| 7/7 [00:05<00:00,  1.20it/s]\n",
      "Training (2071 / 18000 Steps) (loss=0.68541): 100%|██████████| 7/7 [00:05<00:00,  1.25it/s]\n",
      "Training (2078 / 18000 Steps) (loss=0.69932): 100%|██████████| 7/7 [00:05<00:00,  1.20it/s]\n",
      "Training (2085 / 18000 Steps) (loss=0.59189): 100%|██████████| 7/7 [00:05<00:00,  1.21it/s]\n",
      "Training (2092 / 18000 Steps) (loss=0.62320): 100%|██████████| 7/7 [00:05<00:00,  1.21it/s]\n",
      "Training (2099 / 18000 Steps) (loss=0.58393): 100%|██████████| 7/7 [00:05<00:00,  1.32it/s]\n",
      "Validate (2100 / 10 Steps): 100%|██████████| 2/2 [00:04<00:00,  2.19s/it]<?, ?it/s]\n",
      "Training (2100 / 18000 Steps) (loss=0.58537):  14%|█▍        | 1/7 [00:07<00:45,  7.64s/it]"
     ]
    },
    {
     "name": "stdout",
     "output_type": "stream",
     "text": [
      "Model Was Not Saved ! Current Best Avg. Dice: 0.24488799273967743 Current Avg. Dice: 0.22055651247501373 Current Avg. tumor Dice: 0.2228025645017624 Current Avg. lymph Dice: 0.21831046044826508\n"
     ]
    },
    {
     "name": "stderr",
     "output_type": "stream",
     "text": [
      "Training (2106 / 18000 Steps) (loss=0.54047): 100%|██████████| 7/7 [00:10<00:00,  1.44s/it]\n",
      "Training (2113 / 18000 Steps) (loss=0.63578): 100%|██████████| 7/7 [00:05<00:00,  1.23it/s]\n",
      "Training (2120 / 18000 Steps) (loss=0.59089): 100%|██████████| 7/7 [00:05<00:00,  1.24it/s]\n",
      "Training (2127 / 18000 Steps) (loss=0.68277): 100%|██████████| 7/7 [00:05<00:00,  1.28it/s]\n",
      "Training (2134 / 18000 Steps) (loss=0.56005): 100%|██████████| 7/7 [00:05<00:00,  1.31it/s]\n",
      "Training (2141 / 18000 Steps) (loss=0.59753): 100%|██████████| 7/7 [00:05<00:00,  1.31it/s]\n",
      "Training (2148 / 18000 Steps) (loss=0.59962): 100%|██████████| 7/7 [00:05<00:00,  1.27it/s]\n",
      "Training (2155 / 18000 Steps) (loss=0.55685): 100%|██████████| 7/7 [00:05<00:00,  1.27it/s]\n",
      "Training (2162 / 18000 Steps) (loss=0.64769): 100%|██████████| 7/7 [00:05<00:00,  1.27it/s]\n",
      "Training (2169 / 18000 Steps) (loss=0.64318): 100%|██████████| 7/7 [00:05<00:00,  1.30it/s]\n",
      "Training (2176 / 18000 Steps) (loss=0.65328): 100%|██████████| 7/7 [00:05<00:00,  1.27it/s]\n",
      "Training (2183 / 18000 Steps) (loss=0.57076): 100%|██████████| 7/7 [00:05<00:00,  1.31it/s]\n",
      "Training (2190 / 18000 Steps) (loss=0.65646): 100%|██████████| 7/7 [00:05<00:00,  1.33it/s]\n",
      "Training (2197 / 18000 Steps) (loss=0.64882): 100%|██████████| 7/7 [00:05<00:00,  1.32it/s]\n",
      "Validate (2198 / 10 Steps): 100%|██████████| 2/2 [00:04<00:00,  2.21s/it]<00:07,  1.54s/it]\n",
      "Training (2200 / 18000 Steps) (loss=0.64657):  43%|████▎     | 3/7 [00:08<00:12,  3.06s/it]"
     ]
    },
    {
     "name": "stdout",
     "output_type": "stream",
     "text": [
      "Model Was Not Saved ! Current Best Avg. Dice: 0.24488799273967743 Current Avg. Dice: 0.22542139887809753 Current Avg. tumor Dice: 0.23802988231182098 Current Avg. lymph Dice: 0.2128128856420517\n"
     ]
    },
    {
     "name": "stderr",
     "output_type": "stream",
     "text": [
      "Training (2204 / 18000 Steps) (loss=0.70772): 100%|██████████| 7/7 [00:10<00:00,  1.43s/it]\n",
      "Training (2211 / 18000 Steps) (loss=0.64211): 100%|██████████| 7/7 [00:05<00:00,  1.27it/s]\n",
      "Training (2218 / 18000 Steps) (loss=0.59400): 100%|██████████| 7/7 [00:05<00:00,  1.25it/s]\n",
      "Training (2225 / 18000 Steps) (loss=0.56989): 100%|██████████| 7/7 [00:05<00:00,  1.25it/s]\n",
      "Training (2232 / 18000 Steps) (loss=0.64556): 100%|██████████| 7/7 [00:05<00:00,  1.26it/s]\n",
      "Training (2239 / 18000 Steps) (loss=0.62331): 100%|██████████| 7/7 [00:05<00:00,  1.24it/s]\n",
      "Training (2246 / 18000 Steps) (loss=0.61929): 100%|██████████| 7/7 [00:05<00:00,  1.25it/s]\n",
      "Training (2253 / 18000 Steps) (loss=0.59158): 100%|██████████| 7/7 [00:05<00:00,  1.31it/s]\n",
      "Training (2260 / 18000 Steps) (loss=0.59376): 100%|██████████| 7/7 [00:05<00:00,  1.29it/s]\n",
      "Training (2267 / 18000 Steps) (loss=0.67835): 100%|██████████| 7/7 [00:05<00:00,  1.34it/s]\n",
      "Training (2274 / 18000 Steps) (loss=0.53432): 100%|██████████| 7/7 [00:05<00:00,  1.31it/s]\n",
      "Training (2281 / 18000 Steps) (loss=0.61389): 100%|██████████| 7/7 [00:05<00:00,  1.30it/s]\n",
      "Training (2288 / 18000 Steps) (loss=0.60485): 100%|██████████| 7/7 [00:05<00:00,  1.18it/s]\n",
      "Training (2295 / 18000 Steps) (loss=0.55422): 100%|██████████| 7/7 [00:05<00:00,  1.25it/s]\n",
      "Validate (2296 / 10 Steps): 100%|██████████| 2/2 [00:04<00:00,  2.17s/it]<00:02,  1.27it/s]\n",
      "Training (2300 / 18000 Steps) (loss=0.61547):  71%|███████▏  | 5/7 [00:09<00:04,  2.24s/it]"
     ]
    },
    {
     "name": "stdout",
     "output_type": "stream",
     "text": [
      "Model Was Not Saved ! Current Best Avg. Dice: 0.24488799273967743 Current Avg. Dice: 0.24005188047885895 Current Avg. tumor Dice: 0.29368826746940613 Current Avg. lymph Dice: 0.18641549348831177\n"
     ]
    },
    {
     "name": "stderr",
     "output_type": "stream",
     "text": [
      "Training (2302 / 18000 Steps) (loss=0.61229): 100%|██████████| 7/7 [00:09<00:00,  1.42s/it]\n",
      "Training (2309 / 18000 Steps) (loss=0.56726): 100%|██████████| 7/7 [00:05<00:00,  1.25it/s]\n",
      "Training (2316 / 18000 Steps) (loss=0.55561): 100%|██████████| 7/7 [00:05<00:00,  1.28it/s]\n",
      "Training (2323 / 18000 Steps) (loss=0.66506): 100%|██████████| 7/7 [00:05<00:00,  1.31it/s]\n",
      "Training (2330 / 18000 Steps) (loss=0.58809): 100%|██████████| 7/7 [00:05<00:00,  1.29it/s]\n",
      "Training (2337 / 18000 Steps) (loss=0.64298): 100%|██████████| 7/7 [00:05<00:00,  1.24it/s]\n",
      "Training (2344 / 18000 Steps) (loss=0.64937): 100%|██████████| 7/7 [00:05<00:00,  1.34it/s]\n",
      "Training (2351 / 18000 Steps) (loss=0.52047): 100%|██████████| 7/7 [00:05<00:00,  1.26it/s]\n",
      "Training (2358 / 18000 Steps) (loss=0.66286): 100%|██████████| 7/7 [00:05<00:00,  1.25it/s]\n",
      "Training (2365 / 18000 Steps) (loss=0.53890): 100%|██████████| 7/7 [00:05<00:00,  1.24it/s]\n",
      "Training (2372 / 18000 Steps) (loss=0.60168): 100%|██████████| 7/7 [00:05<00:00,  1.22it/s]\n",
      "Training (2379 / 18000 Steps) (loss=0.62578): 100%|██████████| 7/7 [00:05<00:00,  1.21it/s]\n",
      "Training (2386 / 18000 Steps) (loss=0.53748): 100%|██████████| 7/7 [00:05<00:00,  1.28it/s]\n",
      "Training (2393 / 18000 Steps) (loss=0.62608): 100%|██████████| 7/7 [00:05<00:00,  1.20it/s]\n",
      "Validate (2394 / 10 Steps): 100%|██████████| 2/2 [00:04<00:00,  2.14s/it]<00:00,  1.75it/s]\n",
      "Training (2400 / 18000 Steps) (loss=0.71314): 100%|██████████| 7/7 [00:09<00:00,  1.41s/it]\n"
     ]
    },
    {
     "name": "stdout",
     "output_type": "stream",
     "text": [
      "Model Was Not Saved ! Current Best Avg. Dice: 0.24488799273967743 Current Avg. Dice: 0.2359972596168518 Current Avg. tumor Dice: 0.21452955901622772 Current Avg. lymph Dice: 0.2574649751186371\n"
     ]
    },
    {
     "name": "stderr",
     "output_type": "stream",
     "text": [
      "Training (2407 / 18000 Steps) (loss=0.69740): 100%|██████████| 7/7 [00:05<00:00,  1.24it/s]\n",
      "Training (2414 / 18000 Steps) (loss=0.61856): 100%|██████████| 7/7 [00:05<00:00,  1.30it/s]\n",
      "Training (2421 / 18000 Steps) (loss=0.57690): 100%|██████████| 7/7 [00:05<00:00,  1.32it/s]\n",
      "Training (2428 / 18000 Steps) (loss=0.65544): 100%|██████████| 7/7 [00:05<00:00,  1.25it/s]\n",
      "Training (2435 / 18000 Steps) (loss=0.55747): 100%|██████████| 7/7 [00:05<00:00,  1.32it/s]\n",
      "Training (2442 / 18000 Steps) (loss=0.46636): 100%|██████████| 7/7 [00:05<00:00,  1.27it/s]\n",
      "Training (2449 / 18000 Steps) (loss=0.60247): 100%|██████████| 7/7 [00:05<00:00,  1.35it/s]\n",
      "Training (2456 / 18000 Steps) (loss=0.53123): 100%|██████████| 7/7 [00:05<00:00,  1.29it/s]\n",
      "Training (2463 / 18000 Steps) (loss=0.59729): 100%|██████████| 7/7 [00:05<00:00,  1.23it/s]\n",
      "Training (2470 / 18000 Steps) (loss=0.60518): 100%|██████████| 7/7 [00:05<00:00,  1.33it/s]\n",
      "Training (2477 / 18000 Steps) (loss=0.61761): 100%|██████████| 7/7 [00:05<00:00,  1.32it/s]\n",
      "Training (2484 / 18000 Steps) (loss=0.51427): 100%|██████████| 7/7 [00:05<00:00,  1.26it/s]\n",
      "Training (2491 / 18000 Steps) (loss=0.57907): 100%|██████████| 7/7 [00:05<00:00,  1.33it/s]\n",
      "Training (2498 / 18000 Steps) (loss=0.63052): 100%|██████████| 7/7 [00:05<00:00,  1.24it/s]\n",
      "Validate (2499 / 10 Steps): 100%|██████████| 2/2 [00:04<00:00,  2.11s/it]<00:19,  3.24s/it]\n",
      "Training (2500 / 18000 Steps) (loss=0.64426):  29%|██▊       | 2/7 [00:07<00:20,  4.10s/it]"
     ]
    },
    {
     "name": "stdout",
     "output_type": "stream",
     "text": [
      "Model Was Not Saved ! Current Best Avg. Dice: 0.24488799273967743 Current Avg. Dice: 0.23105010390281677 Current Avg. tumor Dice: 0.27279144525527954 Current Avg. lymph Dice: 0.189308762550354\n"
     ]
    },
    {
     "name": "stderr",
     "output_type": "stream",
     "text": [
      "Training (2505 / 18000 Steps) (loss=0.65292): 100%|██████████| 7/7 [00:09<00:00,  1.41s/it]\n",
      "Training (2512 / 18000 Steps) (loss=0.55464): 100%|██████████| 7/7 [00:05<00:00,  1.29it/s]\n",
      "Training (2519 / 18000 Steps) (loss=0.63382): 100%|██████████| 7/7 [00:05<00:00,  1.29it/s]\n",
      "Training (2526 / 18000 Steps) (loss=0.62671): 100%|██████████| 7/7 [00:05<00:00,  1.26it/s]\n",
      "Training (2533 / 18000 Steps) (loss=0.54454): 100%|██████████| 7/7 [00:05<00:00,  1.24it/s]\n",
      "Training (2540 / 18000 Steps) (loss=0.52497): 100%|██████████| 7/7 [00:05<00:00,  1.33it/s]\n",
      "Training (2547 / 18000 Steps) (loss=0.55338): 100%|██████████| 7/7 [00:05<00:00,  1.25it/s]\n",
      "Training (2554 / 18000 Steps) (loss=0.52485): 100%|██████████| 7/7 [00:05<00:00,  1.28it/s]\n",
      "Training (2561 / 18000 Steps) (loss=0.65960): 100%|██████████| 7/7 [00:05<00:00,  1.26it/s]\n",
      "Training (2568 / 18000 Steps) (loss=0.56992): 100%|██████████| 7/7 [00:05<00:00,  1.23it/s]\n",
      "Training (2575 / 18000 Steps) (loss=0.64504): 100%|██████████| 7/7 [00:05<00:00,  1.29it/s]\n",
      "Training (2582 / 18000 Steps) (loss=0.58718): 100%|██████████| 7/7 [00:05<00:00,  1.33it/s]\n",
      "Training (2589 / 18000 Steps) (loss=0.58285): 100%|██████████| 7/7 [00:05<00:00,  1.29it/s]\n",
      "Training (2596 / 18000 Steps) (loss=0.66878): 100%|██████████| 7/7 [00:05<00:00,  1.27it/s]\n",
      "Validate (2597 / 10 Steps): 100%|██████████| 2/2 [00:04<00:00,  2.17s/it]<00:04,  1.08s/it]\n",
      "Training (2600 / 18000 Steps) (loss=0.61579):  57%|█████▋    | 4/7 [00:09<00:08,  2.85s/it]"
     ]
    },
    {
     "name": "stdout",
     "output_type": "stream",
     "text": [
      "Model Was Saved ! Current Best Avg. Dice: 0.26729243993759155 Current Avg. Dice: 0.26729243993759155 Current Avg. tumor Dice: 0.2778638005256653 Current Avg. lymph Dice: 0.2567210793495178\n"
     ]
    },
    {
     "name": "stderr",
     "output_type": "stream",
     "text": [
      "Training (2603 / 18000 Steps) (loss=0.53149): 100%|██████████| 7/7 [00:10<00:00,  1.56s/it]\n",
      "Training (2610 / 18000 Steps) (loss=0.53117): 100%|██████████| 7/7 [00:05<00:00,  1.22it/s]\n",
      "Training (2617 / 18000 Steps) (loss=0.59629): 100%|██████████| 7/7 [00:05<00:00,  1.27it/s]\n",
      "Training (2624 / 18000 Steps) (loss=0.60161): 100%|██████████| 7/7 [00:05<00:00,  1.32it/s]\n",
      "Training (2631 / 18000 Steps) (loss=0.62371): 100%|██████████| 7/7 [00:05<00:00,  1.25it/s]\n",
      "Training (2638 / 18000 Steps) (loss=0.66072): 100%|██████████| 7/7 [00:05<00:00,  1.24it/s]\n",
      "Training (2645 / 18000 Steps) (loss=0.44097): 100%|██████████| 7/7 [00:05<00:00,  1.23it/s]\n",
      "Training (2652 / 18000 Steps) (loss=0.49273): 100%|██████████| 7/7 [00:05<00:00,  1.37it/s]\n",
      "Training (2659 / 18000 Steps) (loss=0.62108): 100%|██████████| 7/7 [00:05<00:00,  1.29it/s]\n",
      "Training (2666 / 18000 Steps) (loss=0.54525): 100%|██████████| 7/7 [00:05<00:00,  1.34it/s]\n",
      "Training (2673 / 18000 Steps) (loss=0.61455): 100%|██████████| 7/7 [00:05<00:00,  1.23it/s]\n",
      "Training (2680 / 18000 Steps) (loss=0.49988): 100%|██████████| 7/7 [00:05<00:00,  1.24it/s]\n",
      "Training (2687 / 18000 Steps) (loss=0.62489): 100%|██████████| 7/7 [00:05<00:00,  1.32it/s]\n",
      "Training (2694 / 18000 Steps) (loss=0.43089): 100%|██████████| 7/7 [00:05<00:00,  1.30it/s]\n",
      "Validate (2695 / 10 Steps): 100%|██████████| 2/2 [00:04<00:00,  2.09s/it]<00:01,  1.62it/s]\n",
      "Training (2700 / 18000 Steps) (loss=0.60262):  86%|████████▌ | 6/7 [00:09<00:01,  1.99s/it]"
     ]
    },
    {
     "name": "stdout",
     "output_type": "stream",
     "text": [
      "Model Was Not Saved ! Current Best Avg. Dice: 0.26729243993759155 Current Avg. Dice: 0.2649196982383728 Current Avg. tumor Dice: 0.2955477237701416 Current Avg. lymph Dice: 0.2342916876077652\n"
     ]
    },
    {
     "name": "stderr",
     "output_type": "stream",
     "text": [
      "Training (2701 / 18000 Steps) (loss=0.52136): 100%|██████████| 7/7 [00:09<00:00,  1.34s/it]\n",
      "Training (2708 / 18000 Steps) (loss=0.64583): 100%|██████████| 7/7 [00:05<00:00,  1.29it/s]\n",
      "Training (2715 / 18000 Steps) (loss=0.45991): 100%|██████████| 7/7 [00:05<00:00,  1.22it/s]\n",
      "Training (2722 / 18000 Steps) (loss=0.67570): 100%|██████████| 7/7 [00:05<00:00,  1.25it/s]\n",
      "Training (2729 / 18000 Steps) (loss=0.55086): 100%|██████████| 7/7 [00:05<00:00,  1.36it/s]\n",
      "Training (2736 / 18000 Steps) (loss=0.70061): 100%|██████████| 7/7 [00:05<00:00,  1.26it/s]\n",
      "Training (2743 / 18000 Steps) (loss=0.64013): 100%|██████████| 7/7 [00:05<00:00,  1.32it/s]\n",
      "Training (2750 / 18000 Steps) (loss=0.52788): 100%|██████████| 7/7 [00:05<00:00,  1.20it/s]\n",
      "Training (2757 / 18000 Steps) (loss=0.61876): 100%|██████████| 7/7 [00:05<00:00,  1.32it/s]\n",
      "Training (2764 / 18000 Steps) (loss=0.55855): 100%|██████████| 7/7 [00:05<00:00,  1.24it/s]\n",
      "Training (2771 / 18000 Steps) (loss=0.55846): 100%|██████████| 7/7 [00:05<00:00,  1.25it/s]\n",
      "Training (2778 / 18000 Steps) (loss=0.62900): 100%|██████████| 7/7 [00:05<00:00,  1.28it/s]\n",
      "Training (2785 / 18000 Steps) (loss=0.60326): 100%|██████████| 7/7 [00:05<00:00,  1.24it/s]\n",
      "Training (2792 / 18000 Steps) (loss=0.49831): 100%|██████████| 7/7 [00:05<00:00,  1.24it/s]\n",
      "Training (2799 / 18000 Steps) (loss=0.55720): 100%|██████████| 7/7 [00:05<00:00,  1.26it/s]\n",
      "Validate (2800 / 10 Steps): 100%|██████████| 2/2 [00:04<00:00,  2.16s/it]<?, ?it/s]\n",
      "Training (2800 / 18000 Steps) (loss=0.54993):  14%|█▍        | 1/7 [00:07<00:44,  7.41s/it]"
     ]
    },
    {
     "name": "stdout",
     "output_type": "stream",
     "text": [
      "Model Was Not Saved ! Current Best Avg. Dice: 0.26729243993759155 Current Avg. Dice: 0.2348538041114807 Current Avg. tumor Dice: 0.2383563369512558 Current Avg. lymph Dice: 0.23135128617286682\n"
     ]
    },
    {
     "name": "stderr",
     "output_type": "stream",
     "text": [
      "Training (2806 / 18000 Steps) (loss=0.59763): 100%|██████████| 7/7 [00:09<00:00,  1.40s/it]\n",
      "Training (2813 / 18000 Steps) (loss=0.50555): 100%|██████████| 7/7 [00:05<00:00,  1.27it/s]\n",
      "Training (2820 / 18000 Steps) (loss=0.55057): 100%|██████████| 7/7 [00:05<00:00,  1.25it/s]\n",
      "Training (2827 / 18000 Steps) (loss=0.54194): 100%|██████████| 7/7 [00:05<00:00,  1.23it/s]\n",
      "Training (2834 / 18000 Steps) (loss=0.69711): 100%|██████████| 7/7 [00:05<00:00,  1.30it/s]\n",
      "Training (2841 / 18000 Steps) (loss=0.59012): 100%|██████████| 7/7 [00:05<00:00,  1.25it/s]\n",
      "Training (2848 / 18000 Steps) (loss=0.45550): 100%|██████████| 7/7 [00:05<00:00,  1.33it/s]\n",
      "Training (2855 / 18000 Steps) (loss=0.62538): 100%|██████████| 7/7 [00:05<00:00,  1.31it/s]\n",
      "Training (2862 / 18000 Steps) (loss=0.60961): 100%|██████████| 7/7 [00:05<00:00,  1.25it/s]\n",
      "Training (2869 / 18000 Steps) (loss=0.56568): 100%|██████████| 7/7 [00:05<00:00,  1.29it/s]\n",
      "Training (2876 / 18000 Steps) (loss=0.49003): 100%|██████████| 7/7 [00:05<00:00,  1.31it/s]\n",
      "Training (2883 / 18000 Steps) (loss=0.64635): 100%|██████████| 7/7 [00:05<00:00,  1.24it/s]\n",
      "Training (2890 / 18000 Steps) (loss=0.54777): 100%|██████████| 7/7 [00:05<00:00,  1.29it/s]\n",
      "Training (2897 / 18000 Steps) (loss=0.49790): 100%|██████████| 7/7 [00:05<00:00,  1.25it/s]\n",
      "Validate (2898 / 10 Steps): 100%|██████████| 2/2 [00:04<00:00,  2.23s/it]<00:07,  1.52s/it]\n",
      "Training (2900 / 18000 Steps) (loss=0.57873):  43%|████▎     | 3/7 [00:09<00:13,  3.42s/it]"
     ]
    },
    {
     "name": "stdout",
     "output_type": "stream",
     "text": [
      "Model Was Saved ! Current Best Avg. Dice: 0.2751936614513397 Current Avg. Dice: 0.2751936614513397 Current Avg. tumor Dice: 0.2905436158180237 Current Avg. lymph Dice: 0.2598436772823334\n"
     ]
    },
    {
     "name": "stderr",
     "output_type": "stream",
     "text": [
      "Training (2904 / 18000 Steps) (loss=0.56358): 100%|██████████| 7/7 [00:10<00:00,  1.54s/it]\n",
      "Training (2911 / 18000 Steps) (loss=0.56981): 100%|██████████| 7/7 [00:05<00:00,  1.30it/s]\n",
      "Training (2918 / 18000 Steps) (loss=0.55652): 100%|██████████| 7/7 [00:05<00:00,  1.26it/s]\n",
      "Training (2925 / 18000 Steps) (loss=0.64495): 100%|██████████| 7/7 [00:05<00:00,  1.21it/s]\n",
      "Training (2932 / 18000 Steps) (loss=0.53613): 100%|██████████| 7/7 [00:05<00:00,  1.25it/s]\n",
      "Training (2939 / 18000 Steps) (loss=0.47007): 100%|██████████| 7/7 [00:05<00:00,  1.24it/s]\n",
      "Training (2946 / 18000 Steps) (loss=0.62705): 100%|██████████| 7/7 [00:05<00:00,  1.30it/s]\n",
      "Training (2953 / 18000 Steps) (loss=0.50617): 100%|██████████| 7/7 [00:05<00:00,  1.30it/s]\n",
      "Training (2960 / 18000 Steps) (loss=0.48900): 100%|██████████| 7/7 [00:05<00:00,  1.28it/s]\n",
      "Training (2967 / 18000 Steps) (loss=0.64891): 100%|██████████| 7/7 [00:05<00:00,  1.30it/s]\n",
      "Training (2974 / 18000 Steps) (loss=0.65249): 100%|██████████| 7/7 [00:05<00:00,  1.31it/s]\n",
      "Training (2981 / 18000 Steps) (loss=0.57719): 100%|██████████| 7/7 [00:05<00:00,  1.26it/s]\n",
      "Training (2988 / 18000 Steps) (loss=0.63481): 100%|██████████| 7/7 [00:05<00:00,  1.26it/s]\n",
      "Training (2995 / 18000 Steps) (loss=0.49341): 100%|██████████| 7/7 [00:05<00:00,  1.31it/s]\n",
      "Validate (2996 / 10 Steps): 100%|██████████| 2/2 [00:04<00:00,  2.13s/it]<00:02,  1.29it/s]\n",
      "Training (3000 / 18000 Steps) (loss=0.60926):  71%|███████▏  | 5/7 [00:09<00:04,  2.21s/it]"
     ]
    },
    {
     "name": "stdout",
     "output_type": "stream",
     "text": [
      "Model Was Not Saved ! Current Best Avg. Dice: 0.2751936614513397 Current Avg. Dice: 0.2572019100189209 Current Avg. tumor Dice: 0.2515263855457306 Current Avg. lymph Dice: 0.2628774344921112\n"
     ]
    },
    {
     "name": "stderr",
     "output_type": "stream",
     "text": [
      "Training (3002 / 18000 Steps) (loss=0.64691): 100%|██████████| 7/7 [00:09<00:00,  1.40s/it]\n",
      "Training (3009 / 18000 Steps) (loss=0.57704): 100%|██████████| 7/7 [00:05<00:00,  1.28it/s]\n",
      "Training (3016 / 18000 Steps) (loss=0.56744): 100%|██████████| 7/7 [00:05<00:00,  1.31it/s]\n",
      "Training (3023 / 18000 Steps) (loss=0.59003): 100%|██████████| 7/7 [00:05<00:00,  1.28it/s]\n",
      "Training (3030 / 18000 Steps) (loss=0.49816): 100%|██████████| 7/7 [00:05<00:00,  1.30it/s]\n",
      "Training (3037 / 18000 Steps) (loss=0.57894): 100%|██████████| 7/7 [00:05<00:00,  1.33it/s]\n",
      "Training (3044 / 18000 Steps) (loss=0.60373): 100%|██████████| 7/7 [00:05<00:00,  1.27it/s]\n",
      "Training (3051 / 18000 Steps) (loss=0.64068): 100%|██████████| 7/7 [00:05<00:00,  1.30it/s]\n",
      "Training (3058 / 18000 Steps) (loss=0.55743): 100%|██████████| 7/7 [00:05<00:00,  1.29it/s]\n",
      "Training (3065 / 18000 Steps) (loss=0.57816): 100%|██████████| 7/7 [00:05<00:00,  1.26it/s]\n",
      "Training (3072 / 18000 Steps) (loss=0.49726): 100%|██████████| 7/7 [00:05<00:00,  1.26it/s]\n",
      "Training (3079 / 18000 Steps) (loss=0.63011): 100%|██████████| 7/7 [00:06<00:00,  1.16it/s]\n",
      "Training (3086 / 18000 Steps) (loss=0.51893): 100%|██████████| 7/7 [00:05<00:00,  1.22it/s]\n",
      "Training (3093 / 18000 Steps) (loss=0.39817): 100%|██████████| 7/7 [00:05<00:00,  1.22it/s]\n",
      "Validate (3094 / 10 Steps): 100%|██████████| 2/2 [00:04<00:00,  2.18s/it]<00:00,  1.72it/s]\n",
      "Training (3100 / 18000 Steps) (loss=0.52444): 100%|██████████| 7/7 [00:10<00:00,  1.44s/it]\n"
     ]
    },
    {
     "name": "stdout",
     "output_type": "stream",
     "text": [
      "Model Was Not Saved ! Current Best Avg. Dice: 0.2751936614513397 Current Avg. Dice: 0.2680777907371521 Current Avg. tumor Dice: 0.28498217463493347 Current Avg. lymph Dice: 0.2511734366416931\n"
     ]
    },
    {
     "name": "stderr",
     "output_type": "stream",
     "text": [
      "Training (3107 / 18000 Steps) (loss=0.50711): 100%|██████████| 7/7 [00:05<00:00,  1.25it/s]\n",
      "Training (3114 / 18000 Steps) (loss=0.63219): 100%|██████████| 7/7 [00:05<00:00,  1.23it/s]\n",
      "Training (3121 / 18000 Steps) (loss=0.45499): 100%|██████████| 7/7 [00:05<00:00,  1.21it/s]\n",
      "Training (3128 / 18000 Steps) (loss=0.53346): 100%|██████████| 7/7 [00:05<00:00,  1.19it/s]\n",
      "Training (3135 / 18000 Steps) (loss=0.54766): 100%|██████████| 7/7 [00:05<00:00,  1.25it/s]\n",
      "Training (3142 / 18000 Steps) (loss=0.58888): 100%|██████████| 7/7 [00:05<00:00,  1.33it/s]\n",
      "Training (3149 / 18000 Steps) (loss=0.59345): 100%|██████████| 7/7 [00:05<00:00,  1.25it/s]\n",
      "Training (3156 / 18000 Steps) (loss=0.55302): 100%|██████████| 7/7 [00:05<00:00,  1.25it/s]\n",
      "Training (3163 / 18000 Steps) (loss=0.56630): 100%|██████████| 7/7 [00:05<00:00,  1.33it/s]\n",
      "Training (3170 / 18000 Steps) (loss=0.59601): 100%|██████████| 7/7 [00:05<00:00,  1.33it/s]\n",
      "Training (3177 / 18000 Steps) (loss=0.64965): 100%|██████████| 7/7 [00:05<00:00,  1.35it/s]\n",
      "Training (3184 / 18000 Steps) (loss=0.60231): 100%|██████████| 7/7 [00:05<00:00,  1.34it/s]\n",
      "Training (3191 / 18000 Steps) (loss=0.58929): 100%|██████████| 7/7 [00:05<00:00,  1.28it/s]\n",
      "Training (3198 / 18000 Steps) (loss=0.58696): 100%|██████████| 7/7 [00:05<00:00,  1.26it/s]\n",
      "Validate (3199 / 10 Steps): 100%|██████████| 2/2 [00:04<00:00,  2.14s/it]<00:18,  3.04s/it]\n",
      "Training (3200 / 18000 Steps) (loss=0.51621):  29%|██▊       | 2/7 [00:07<00:20,  4.04s/it]"
     ]
    },
    {
     "name": "stdout",
     "output_type": "stream",
     "text": [
      "Model Was Not Saved ! Current Best Avg. Dice: 0.2751936614513397 Current Avg. Dice: 0.2675476670265198 Current Avg. tumor Dice: 0.28021663427352905 Current Avg. lymph Dice: 0.2548786997795105\n"
     ]
    },
    {
     "name": "stderr",
     "output_type": "stream",
     "text": [
      "Training (3205 / 18000 Steps) (loss=0.58100): 100%|██████████| 7/7 [00:09<00:00,  1.39s/it]\n",
      "Training (3212 / 18000 Steps) (loss=0.61165): 100%|██████████| 7/7 [00:05<00:00,  1.27it/s]\n",
      "Training (3219 / 18000 Steps) (loss=0.53999): 100%|██████████| 7/7 [00:05<00:00,  1.24it/s]\n",
      "Training (3226 / 18000 Steps) (loss=0.53556): 100%|██████████| 7/7 [00:06<00:00,  1.12it/s]\n",
      "Training (3233 / 18000 Steps) (loss=0.49076): 100%|██████████| 7/7 [00:05<00:00,  1.25it/s]\n",
      "Training (3240 / 18000 Steps) (loss=0.47774): 100%|██████████| 7/7 [00:05<00:00,  1.25it/s]\n",
      "Training (3247 / 18000 Steps) (loss=0.53360): 100%|██████████| 7/7 [00:05<00:00,  1.26it/s]\n",
      "Training (3254 / 18000 Steps) (loss=0.45892): 100%|██████████| 7/7 [00:05<00:00,  1.30it/s]\n",
      "Training (3261 / 18000 Steps) (loss=0.61661): 100%|██████████| 7/7 [00:05<00:00,  1.30it/s]\n",
      "Training (3268 / 18000 Steps) (loss=0.59229): 100%|██████████| 7/7 [00:05<00:00,  1.23it/s]\n",
      "Training (3275 / 18000 Steps) (loss=0.60814): 100%|██████████| 7/7 [00:05<00:00,  1.24it/s]\n",
      "Training (3282 / 18000 Steps) (loss=0.52657): 100%|██████████| 7/7 [00:05<00:00,  1.28it/s]\n",
      "Training (3289 / 18000 Steps) (loss=0.56285): 100%|██████████| 7/7 [00:05<00:00,  1.26it/s]\n",
      "Training (3296 / 18000 Steps) (loss=0.45194): 100%|██████████| 7/7 [00:05<00:00,  1.25it/s]\n",
      "Validate (3297 / 10 Steps): 100%|██████████| 2/2 [00:04<00:00,  2.17s/it]<00:04,  1.02s/it]\n",
      "Training (3300 / 18000 Steps) (loss=0.47232):  57%|█████▋    | 4/7 [00:08<00:07,  2.52s/it]"
     ]
    },
    {
     "name": "stdout",
     "output_type": "stream",
     "text": [
      "Model Was Not Saved ! Current Best Avg. Dice: 0.2751936614513397 Current Avg. Dice: 0.2629181742668152 Current Avg. tumor Dice: 0.29183775186538696 Current Avg. lymph Dice: 0.2339985966682434\n"
     ]
    },
    {
     "name": "stderr",
     "output_type": "stream",
     "text": [
      "Training (3303 / 18000 Steps) (loss=0.48510): 100%|██████████| 7/7 [00:09<00:00,  1.41s/it]\n",
      "Training (3310 / 18000 Steps) (loss=0.47682): 100%|██████████| 7/7 [00:05<00:00,  1.26it/s]\n",
      "Training (3317 / 18000 Steps) (loss=0.46660): 100%|██████████| 7/7 [00:05<00:00,  1.21it/s]\n",
      "Training (3324 / 18000 Steps) (loss=0.61386): 100%|██████████| 7/7 [00:05<00:00,  1.21it/s]\n",
      "Training (3331 / 18000 Steps) (loss=0.50285): 100%|██████████| 7/7 [00:05<00:00,  1.28it/s]\n",
      "Training (3338 / 18000 Steps) (loss=0.59800): 100%|██████████| 7/7 [00:05<00:00,  1.20it/s]\n",
      "Training (3345 / 18000 Steps) (loss=0.65794): 100%|██████████| 7/7 [00:05<00:00,  1.24it/s]\n",
      "Training (3352 / 18000 Steps) (loss=0.58325): 100%|██████████| 7/7 [00:05<00:00,  1.27it/s]\n",
      "Training (3359 / 18000 Steps) (loss=0.47984): 100%|██████████| 7/7 [00:05<00:00,  1.28it/s]\n",
      "Training (3366 / 18000 Steps) (loss=0.61375): 100%|██████████| 7/7 [00:05<00:00,  1.24it/s]\n",
      "Training (3373 / 18000 Steps) (loss=0.63033): 100%|██████████| 7/7 [00:05<00:00,  1.31it/s]\n",
      "Training (3380 / 18000 Steps) (loss=0.53234): 100%|██████████| 7/7 [00:05<00:00,  1.24it/s]\n",
      "Training (3387 / 18000 Steps) (loss=0.45682): 100%|██████████| 7/7 [00:05<00:00,  1.28it/s]\n",
      "Training (3394 / 18000 Steps) (loss=0.54201): 100%|██████████| 7/7 [00:05<00:00,  1.27it/s]\n",
      "Validate (3395 / 10 Steps): 100%|██████████| 2/2 [00:04<00:00,  2.18s/it]<00:01,  1.48it/s]\n",
      "Training (3400 / 18000 Steps) (loss=0.52934):  86%|████████▌ | 6/7 [00:09<00:02,  2.09s/it]"
     ]
    },
    {
     "name": "stdout",
     "output_type": "stream",
     "text": [
      "Model Was Not Saved ! Current Best Avg. Dice: 0.2751936614513397 Current Avg. Dice: 0.2714966833591461 Current Avg. tumor Dice: 0.2520952522754669 Current Avg. lymph Dice: 0.29089808464050293\n"
     ]
    },
    {
     "name": "stderr",
     "output_type": "stream",
     "text": [
      "Training (3401 / 18000 Steps) (loss=0.55229): 100%|██████████| 7/7 [00:10<00:00,  1.46s/it]\n",
      "Training (3408 / 18000 Steps) (loss=0.46339): 100%|██████████| 7/7 [00:05<00:00,  1.21it/s]\n",
      "Training (3415 / 18000 Steps) (loss=0.47088): 100%|██████████| 7/7 [00:05<00:00,  1.21it/s]\n",
      "Training (3422 / 18000 Steps) (loss=0.45391): 100%|██████████| 7/7 [00:05<00:00,  1.24it/s]\n",
      "Training (3429 / 18000 Steps) (loss=0.63906): 100%|██████████| 7/7 [00:05<00:00,  1.26it/s]\n",
      "Training (3436 / 18000 Steps) (loss=0.58445): 100%|██████████| 7/7 [00:05<00:00,  1.27it/s]\n",
      "Training (3443 / 18000 Steps) (loss=0.59038): 100%|██████████| 7/7 [00:05<00:00,  1.23it/s]\n",
      "Training (3450 / 18000 Steps) (loss=0.67149): 100%|██████████| 7/7 [00:05<00:00,  1.28it/s]\n",
      "Training (3457 / 18000 Steps) (loss=0.44481): 100%|██████████| 7/7 [00:05<00:00,  1.18it/s]\n",
      "Training (3464 / 18000 Steps) (loss=0.52246): 100%|██████████| 7/7 [00:05<00:00,  1.23it/s]\n",
      "Training (3471 / 18000 Steps) (loss=0.47785): 100%|██████████| 7/7 [00:05<00:00,  1.29it/s]\n",
      "Training (3478 / 18000 Steps) (loss=0.53311): 100%|██████████| 7/7 [00:05<00:00,  1.28it/s]\n",
      "Training (3485 / 18000 Steps) (loss=0.49582): 100%|██████████| 7/7 [00:05<00:00,  1.30it/s]\n",
      "Training (3492 / 18000 Steps) (loss=0.47448): 100%|██████████| 7/7 [00:05<00:00,  1.23it/s]\n",
      "Training (3499 / 18000 Steps) (loss=0.52573): 100%|██████████| 7/7 [00:05<00:00,  1.22it/s]\n",
      "Validate (3500 / 10 Steps): 100%|██████████| 2/2 [00:04<00:00,  2.15s/it]<?, ?it/s]\n",
      "Training (3500 / 18000 Steps) (loss=0.43174):  14%|█▍        | 1/7 [00:07<00:45,  7.52s/it]"
     ]
    },
    {
     "name": "stdout",
     "output_type": "stream",
     "text": [
      "Model Was Not Saved ! Current Best Avg. Dice: 0.2751936614513397 Current Avg. Dice: 0.2577396333217621 Current Avg. tumor Dice: 0.2412891387939453 Current Avg. lymph Dice: 0.27419015765190125\n"
     ]
    },
    {
     "name": "stderr",
     "output_type": "stream",
     "text": [
      "Training (3506 / 18000 Steps) (loss=0.50095): 100%|██████████| 7/7 [00:09<00:00,  1.42s/it]\n",
      "Training (3513 / 18000 Steps) (loss=0.60311): 100%|██████████| 7/7 [00:05<00:00,  1.26it/s]\n",
      "Training (3520 / 18000 Steps) (loss=0.66014): 100%|██████████| 7/7 [00:05<00:00,  1.30it/s]\n",
      "Training (3527 / 18000 Steps) (loss=0.49402): 100%|██████████| 7/7 [00:05<00:00,  1.28it/s]\n",
      "Training (3534 / 18000 Steps) (loss=0.55498): 100%|██████████| 7/7 [00:05<00:00,  1.30it/s]\n",
      "Training (3541 / 18000 Steps) (loss=0.54244): 100%|██████████| 7/7 [00:05<00:00,  1.28it/s]\n",
      "Training (3548 / 18000 Steps) (loss=0.38124): 100%|██████████| 7/7 [00:05<00:00,  1.23it/s]\n",
      "Training (3555 / 18000 Steps) (loss=0.56892): 100%|██████████| 7/7 [00:05<00:00,  1.26it/s]\n",
      "Training (3562 / 18000 Steps) (loss=0.54310): 100%|██████████| 7/7 [00:05<00:00,  1.31it/s]\n",
      "Training (3569 / 18000 Steps) (loss=0.48221): 100%|██████████| 7/7 [00:05<00:00,  1.26it/s]\n",
      "Training (3576 / 18000 Steps) (loss=0.48388): 100%|██████████| 7/7 [00:05<00:00,  1.29it/s]\n",
      "Training (3583 / 18000 Steps) (loss=0.61480): 100%|██████████| 7/7 [00:05<00:00,  1.32it/s]\n",
      "Training (3590 / 18000 Steps) (loss=0.42662): 100%|██████████| 7/7 [00:05<00:00,  1.30it/s]\n",
      "Training (3597 / 18000 Steps) (loss=0.59037): 100%|██████████| 7/7 [00:05<00:00,  1.33it/s]\n",
      "Validate (3598 / 10 Steps): 100%|██████████| 2/2 [00:04<00:00,  2.14s/it]<00:07,  1.55s/it]\n",
      "Training (3600 / 18000 Steps) (loss=0.46816):  43%|████▎     | 3/7 [00:08<00:12,  3.01s/it]"
     ]
    },
    {
     "name": "stdout",
     "output_type": "stream",
     "text": [
      "Model Was Not Saved ! Current Best Avg. Dice: 0.2751936614513397 Current Avg. Dice: 0.24741360545158386 Current Avg. tumor Dice: 0.230559304356575 Current Avg. lymph Dice: 0.2642679214477539\n"
     ]
    },
    {
     "name": "stderr",
     "output_type": "stream",
     "text": [
      "Training (3604 / 18000 Steps) (loss=0.58479): 100%|██████████| 7/7 [00:09<00:00,  1.42s/it]\n",
      "Training (3611 / 18000 Steps) (loss=0.43717): 100%|██████████| 7/7 [00:05<00:00,  1.29it/s]\n",
      "Training (3618 / 18000 Steps) (loss=0.30264): 100%|██████████| 7/7 [00:05<00:00,  1.26it/s]\n",
      "Training (3625 / 18000 Steps) (loss=0.39375): 100%|██████████| 7/7 [00:05<00:00,  1.29it/s]\n",
      "Training (3632 / 18000 Steps) (loss=0.59892): 100%|██████████| 7/7 [00:05<00:00,  1.23it/s]\n",
      "Training (3639 / 18000 Steps) (loss=0.57032): 100%|██████████| 7/7 [00:05<00:00,  1.30it/s]\n",
      "Training (3646 / 18000 Steps) (loss=0.54452): 100%|██████████| 7/7 [00:05<00:00,  1.28it/s]\n",
      "Training (3653 / 18000 Steps) (loss=0.53235): 100%|██████████| 7/7 [00:05<00:00,  1.30it/s]\n",
      "Training (3660 / 18000 Steps) (loss=0.63050): 100%|██████████| 7/7 [00:05<00:00,  1.33it/s]\n",
      "Training (3667 / 18000 Steps) (loss=0.43190): 100%|██████████| 7/7 [00:05<00:00,  1.30it/s]\n",
      "Training (3674 / 18000 Steps) (loss=0.56748): 100%|██████████| 7/7 [00:05<00:00,  1.28it/s]\n",
      "Training (3681 / 18000 Steps) (loss=0.61049): 100%|██████████| 7/7 [00:05<00:00,  1.33it/s]\n",
      "Training (3688 / 18000 Steps) (loss=0.33043): 100%|██████████| 7/7 [00:05<00:00,  1.33it/s]\n",
      "Training (3695 / 18000 Steps) (loss=0.39330): 100%|██████████| 7/7 [00:05<00:00,  1.31it/s]\n",
      "Validate (3696 / 10 Steps): 100%|██████████| 2/2 [00:04<00:00,  2.12s/it]<00:02,  1.32it/s]\n",
      "Training (3700 / 18000 Steps) (loss=0.48757):  71%|███████▏  | 5/7 [00:08<00:04,  2.18s/it]"
     ]
    },
    {
     "name": "stdout",
     "output_type": "stream",
     "text": [
      "Model Was Not Saved ! Current Best Avg. Dice: 0.2751936614513397 Current Avg. Dice: 0.27217504382133484 Current Avg. tumor Dice: 0.25754514336586 Current Avg. lymph Dice: 0.2868049144744873\n"
     ]
    },
    {
     "name": "stderr",
     "output_type": "stream",
     "text": [
      "Training (3702 / 18000 Steps) (loss=0.58987): 100%|██████████| 7/7 [00:09<00:00,  1.38s/it]\n",
      "Training (3709 / 18000 Steps) (loss=0.51544): 100%|██████████| 7/7 [00:05<00:00,  1.25it/s]\n",
      "Training (3716 / 18000 Steps) (loss=0.52403): 100%|██████████| 7/7 [00:05<00:00,  1.26it/s]\n",
      "Training (3723 / 18000 Steps) (loss=0.51582): 100%|██████████| 7/7 [00:05<00:00,  1.28it/s]\n",
      "Training (3730 / 18000 Steps) (loss=0.50498): 100%|██████████| 7/7 [00:05<00:00,  1.27it/s]\n",
      "Training (3737 / 18000 Steps) (loss=0.59679): 100%|██████████| 7/7 [00:05<00:00,  1.27it/s]\n",
      "Training (3744 / 18000 Steps) (loss=0.53886): 100%|██████████| 7/7 [00:05<00:00,  1.17it/s]\n",
      "Training (3751 / 18000 Steps) (loss=0.56618): 100%|██████████| 7/7 [00:05<00:00,  1.28it/s]\n",
      "Training (3758 / 18000 Steps) (loss=0.48348): 100%|██████████| 7/7 [00:05<00:00,  1.29it/s]\n",
      "Training (3765 / 18000 Steps) (loss=0.67291): 100%|██████████| 7/7 [00:05<00:00,  1.31it/s]\n",
      "Training (3772 / 18000 Steps) (loss=0.35232): 100%|██████████| 7/7 [00:05<00:00,  1.29it/s]\n",
      "Training (3779 / 18000 Steps) (loss=0.48609): 100%|██████████| 7/7 [00:05<00:00,  1.35it/s]\n",
      "Training (3786 / 18000 Steps) (loss=0.60061): 100%|██████████| 7/7 [00:05<00:00,  1.28it/s]\n",
      "Training (3793 / 18000 Steps) (loss=0.60911): 100%|██████████| 7/7 [00:05<00:00,  1.31it/s]\n",
      "Validate (3794 / 10 Steps): 100%|██████████| 2/2 [00:04<00:00,  2.08s/it]<00:00,  1.81it/s]\n",
      "Training (3800 / 18000 Steps) (loss=0.53879): 100%|██████████| 7/7 [00:10<00:00,  1.45s/it]\n"
     ]
    },
    {
     "name": "stdout",
     "output_type": "stream",
     "text": [
      "Model Was Saved ! Current Best Avg. Dice: 0.2903258502483368 Current Avg. Dice: 0.2903258502483368 Current Avg. tumor Dice: 0.25018739700317383 Current Avg. lymph Dice: 0.33046430349349976\n"
     ]
    },
    {
     "name": "stderr",
     "output_type": "stream",
     "text": [
      "Training (3807 / 18000 Steps) (loss=0.49313): 100%|██████████| 7/7 [00:05<00:00,  1.30it/s]\n",
      "Training (3814 / 18000 Steps) (loss=0.41409): 100%|██████████| 7/7 [00:05<00:00,  1.30it/s]\n",
      "Training (3821 / 18000 Steps) (loss=0.50895): 100%|██████████| 7/7 [00:05<00:00,  1.28it/s]\n",
      "Training (3828 / 18000 Steps) (loss=0.61182): 100%|██████████| 7/7 [00:05<00:00,  1.33it/s]\n",
      "Training (3835 / 18000 Steps) (loss=0.55232): 100%|██████████| 7/7 [00:05<00:00,  1.29it/s]\n",
      "Training (3842 / 18000 Steps) (loss=0.59990): 100%|██████████| 7/7 [00:05<00:00,  1.33it/s]\n",
      "Training (3849 / 18000 Steps) (loss=0.61751): 100%|██████████| 7/7 [00:05<00:00,  1.32it/s]\n",
      "Training (3856 / 18000 Steps) (loss=0.54854): 100%|██████████| 7/7 [00:05<00:00,  1.30it/s]\n",
      "Training (3863 / 18000 Steps) (loss=0.58363): 100%|██████████| 7/7 [00:05<00:00,  1.32it/s]\n",
      "Training (3870 / 18000 Steps) (loss=0.53783): 100%|██████████| 7/7 [00:05<00:00,  1.32it/s]\n",
      "Training (3877 / 18000 Steps) (loss=0.44813): 100%|██████████| 7/7 [00:05<00:00,  1.27it/s]\n",
      "Training (3884 / 18000 Steps) (loss=0.53754): 100%|██████████| 7/7 [00:05<00:00,  1.26it/s]\n",
      "Training (3891 / 18000 Steps) (loss=0.56975): 100%|██████████| 7/7 [00:05<00:00,  1.26it/s]\n",
      "Training (3898 / 18000 Steps) (loss=0.41853): 100%|██████████| 7/7 [00:05<00:00,  1.31it/s]\n",
      "Validate (3899 / 10 Steps): 100%|██████████| 2/2 [00:04<00:00,  2.06s/it]<00:16,  2.80s/it]\n",
      "Training (3900 / 18000 Steps) (loss=0.43207):  29%|██▊       | 2/7 [00:07<00:19,  3.86s/it]"
     ]
    },
    {
     "name": "stdout",
     "output_type": "stream",
     "text": [
      "Model Was Not Saved ! Current Best Avg. Dice: 0.2903258502483368 Current Avg. Dice: 0.2656407654285431 Current Avg. tumor Dice: 0.24392488598823547 Current Avg. lymph Dice: 0.2873566150665283\n"
     ]
    },
    {
     "name": "stderr",
     "output_type": "stream",
     "text": [
      "Training (3905 / 18000 Steps) (loss=0.62642): 100%|██████████| 7/7 [00:09<00:00,  1.34s/it]\n",
      "Training (3912 / 18000 Steps) (loss=0.51929): 100%|██████████| 7/7 [00:05<00:00,  1.31it/s]\n",
      "Training (3919 / 18000 Steps) (loss=0.47912): 100%|██████████| 7/7 [00:05<00:00,  1.23it/s]\n",
      "Training (3926 / 18000 Steps) (loss=0.47237): 100%|██████████| 7/7 [00:05<00:00,  1.35it/s]\n",
      "Training (3933 / 18000 Steps) (loss=0.52557): 100%|██████████| 7/7 [00:05<00:00,  1.30it/s]\n",
      "Training (3940 / 18000 Steps) (loss=0.63323): 100%|██████████| 7/7 [00:05<00:00,  1.34it/s]\n",
      "Training (3947 / 18000 Steps) (loss=0.45811): 100%|██████████| 7/7 [00:05<00:00,  1.34it/s]\n",
      "Training (3954 / 18000 Steps) (loss=0.61845): 100%|██████████| 7/7 [00:05<00:00,  1.24it/s]\n",
      "Training (3961 / 18000 Steps) (loss=0.53656): 100%|██████████| 7/7 [00:05<00:00,  1.26it/s]\n",
      "Training (3968 / 18000 Steps) (loss=0.52823): 100%|██████████| 7/7 [00:05<00:00,  1.33it/s]\n",
      "Training (3975 / 18000 Steps) (loss=0.35016): 100%|██████████| 7/7 [00:05<00:00,  1.29it/s]\n",
      "Training (3982 / 18000 Steps) (loss=0.59134): 100%|██████████| 7/7 [00:05<00:00,  1.28it/s]\n",
      "Training (3989 / 18000 Steps) (loss=0.54761): 100%|██████████| 7/7 [00:05<00:00,  1.27it/s]\n",
      "Training (3996 / 18000 Steps) (loss=0.32750): 100%|██████████| 7/7 [00:05<00:00,  1.31it/s]\n",
      "Validate (3997 / 10 Steps): 100%|██████████| 2/2 [00:04<00:00,  2.10s/it]<00:04,  1.01s/it]\n",
      "Training (4000 / 18000 Steps) (loss=0.42552):  57%|█████▋    | 4/7 [00:08<00:07,  2.46s/it]"
     ]
    },
    {
     "name": "stdout",
     "output_type": "stream",
     "text": [
      "Model Was Not Saved ! Current Best Avg. Dice: 0.2903258502483368 Current Avg. Dice: 0.25058895349502563 Current Avg. tumor Dice: 0.29571017622947693 Current Avg. lymph Dice: 0.20546776056289673\n"
     ]
    },
    {
     "name": "stderr",
     "output_type": "stream",
     "text": [
      "Training (4003 / 18000 Steps) (loss=0.53644): 100%|██████████| 7/7 [00:09<00:00,  1.39s/it]\n",
      "Training (4010 / 18000 Steps) (loss=0.61084): 100%|██████████| 7/7 [00:05<00:00,  1.21it/s]\n",
      "Training (4017 / 18000 Steps) (loss=0.42177): 100%|██████████| 7/7 [00:05<00:00,  1.34it/s]\n",
      "Training (4024 / 18000 Steps) (loss=0.60707): 100%|██████████| 7/7 [00:05<00:00,  1.32it/s]\n",
      "Training (4031 / 18000 Steps) (loss=0.45277): 100%|██████████| 7/7 [00:05<00:00,  1.28it/s]\n",
      "Training (4038 / 18000 Steps) (loss=0.65523): 100%|██████████| 7/7 [00:05<00:00,  1.25it/s]\n",
      "Training (4045 / 18000 Steps) (loss=0.65209): 100%|██████████| 7/7 [00:05<00:00,  1.27it/s]\n",
      "Training (4052 / 18000 Steps) (loss=0.53474): 100%|██████████| 7/7 [00:05<00:00,  1.25it/s]\n",
      "Training (4059 / 18000 Steps) (loss=0.53089): 100%|██████████| 7/7 [00:05<00:00,  1.26it/s]\n",
      "Training (4066 / 18000 Steps) (loss=0.42377): 100%|██████████| 7/7 [00:05<00:00,  1.27it/s]\n",
      "Training (4073 / 18000 Steps) (loss=0.60830): 100%|██████████| 7/7 [00:05<00:00,  1.29it/s]\n",
      "Training (4080 / 18000 Steps) (loss=0.59234): 100%|██████████| 7/7 [00:05<00:00,  1.26it/s]\n",
      "Training (4087 / 18000 Steps) (loss=0.54503): 100%|██████████| 7/7 [00:05<00:00,  1.30it/s]\n",
      "Training (4094 / 18000 Steps) (loss=0.47273): 100%|██████████| 7/7 [00:06<00:00,  1.16it/s]\n",
      "Validate (4095 / 10 Steps): 100%|██████████| 2/2 [00:04<00:00,  2.12s/it]<00:01,  1.56it/s]\n",
      "Training (4100 / 18000 Steps) (loss=0.51210):  86%|████████▌ | 6/7 [00:09<00:02,  2.03s/it]"
     ]
    },
    {
     "name": "stdout",
     "output_type": "stream",
     "text": [
      "Model Was Not Saved ! Current Best Avg. Dice: 0.2903258502483368 Current Avg. Dice: 0.28846144676208496 Current Avg. tumor Dice: 0.2699674367904663 Current Avg. lymph Dice: 0.3069554567337036\n"
     ]
    },
    {
     "name": "stderr",
     "output_type": "stream",
     "text": [
      "Training (4101 / 18000 Steps) (loss=0.51819): 100%|██████████| 7/7 [00:09<00:00,  1.39s/it]\n",
      "Training (4108 / 18000 Steps) (loss=0.50084): 100%|██████████| 7/7 [00:05<00:00,  1.35it/s]\n",
      "Training (4115 / 18000 Steps) (loss=0.39371): 100%|██████████| 7/7 [00:05<00:00,  1.33it/s]\n",
      "Training (4122 / 18000 Steps) (loss=0.55996): 100%|██████████| 7/7 [00:05<00:00,  1.33it/s]\n",
      "Training (4129 / 18000 Steps) (loss=0.41546): 100%|██████████| 7/7 [00:05<00:00,  1.33it/s]\n",
      "Training (4136 / 18000 Steps) (loss=0.49628): 100%|██████████| 7/7 [00:05<00:00,  1.33it/s]\n",
      "Training (4143 / 18000 Steps) (loss=0.34382): 100%|██████████| 7/7 [00:05<00:00,  1.37it/s]\n",
      "Training (4150 / 18000 Steps) (loss=0.60103): 100%|██████████| 7/7 [00:05<00:00,  1.29it/s]\n",
      "Training (4157 / 18000 Steps) (loss=0.48188): 100%|██████████| 7/7 [00:05<00:00,  1.23it/s]\n",
      "Training (4164 / 18000 Steps) (loss=0.48631): 100%|██████████| 7/7 [00:05<00:00,  1.26it/s]\n",
      "Training (4171 / 18000 Steps) (loss=0.61772): 100%|██████████| 7/7 [00:05<00:00,  1.34it/s]\n",
      "Training (4178 / 18000 Steps) (loss=0.53990): 100%|██████████| 7/7 [00:05<00:00,  1.30it/s]\n",
      "Training (4185 / 18000 Steps) (loss=0.56664): 100%|██████████| 7/7 [00:05<00:00,  1.29it/s]\n",
      "Training (4192 / 18000 Steps) (loss=0.59190): 100%|██████████| 7/7 [00:05<00:00,  1.32it/s]\n",
      "Training (4199 / 18000 Steps) (loss=0.50649): 100%|██████████| 7/7 [00:05<00:00,  1.24it/s]\n",
      "Validate (4200 / 10 Steps): 100%|██████████| 2/2 [00:04<00:00,  2.12s/it]<?, ?it/s]\n",
      "Training (4200 / 18000 Steps) (loss=0.43678):  14%|█▍        | 1/7 [00:07<00:45,  7.51s/it]"
     ]
    },
    {
     "name": "stdout",
     "output_type": "stream",
     "text": [
      "Model Was Not Saved ! Current Best Avg. Dice: 0.2903258502483368 Current Avg. Dice: 0.26209771633148193 Current Avg. tumor Dice: 0.26525893807411194 Current Avg. lymph Dice: 0.2589365243911743\n"
     ]
    },
    {
     "name": "stderr",
     "output_type": "stream",
     "text": [
      "Training (4206 / 18000 Steps) (loss=0.63323): 100%|██████████| 7/7 [00:09<00:00,  1.41s/it]\n",
      "Training (4213 / 18000 Steps) (loss=0.36557): 100%|██████████| 7/7 [00:05<00:00,  1.30it/s]\n",
      "Training (4220 / 18000 Steps) (loss=0.43880): 100%|██████████| 7/7 [00:05<00:00,  1.30it/s]\n",
      "Training (4227 / 18000 Steps) (loss=0.42816): 100%|██████████| 7/7 [00:05<00:00,  1.34it/s]\n",
      "Training (4234 / 18000 Steps) (loss=0.53583): 100%|██████████| 7/7 [00:05<00:00,  1.32it/s]\n",
      "Training (4241 / 18000 Steps) (loss=0.48968): 100%|██████████| 7/7 [00:05<00:00,  1.35it/s]\n",
      "Training (4248 / 18000 Steps) (loss=0.60635): 100%|██████████| 7/7 [00:05<00:00,  1.32it/s]\n",
      "Training (4255 / 18000 Steps) (loss=0.62257): 100%|██████████| 7/7 [00:05<00:00,  1.30it/s]\n",
      "Training (4262 / 18000 Steps) (loss=0.42339): 100%|██████████| 7/7 [00:05<00:00,  1.31it/s]\n",
      "Training (4269 / 18000 Steps) (loss=0.62101): 100%|██████████| 7/7 [00:05<00:00,  1.33it/s]\n",
      "Training (4276 / 18000 Steps) (loss=0.47972): 100%|██████████| 7/7 [00:05<00:00,  1.28it/s]\n",
      "Training (4283 / 18000 Steps) (loss=0.53711): 100%|██████████| 7/7 [00:05<00:00,  1.24it/s]\n",
      "Training (4290 / 18000 Steps) (loss=0.51659): 100%|██████████| 7/7 [00:05<00:00,  1.31it/s]\n",
      "Training (4297 / 18000 Steps) (loss=0.47055): 100%|██████████| 7/7 [00:05<00:00,  1.34it/s]\n",
      "Validate (4298 / 10 Steps): 100%|██████████| 2/2 [00:04<00:00,  2.13s/it]<00:07,  1.45s/it]\n",
      "Training (4300 / 18000 Steps) (loss=0.42411):  43%|████▎     | 3/7 [00:08<00:11,  2.95s/it]"
     ]
    },
    {
     "name": "stdout",
     "output_type": "stream",
     "text": [
      "Model Was Not Saved ! Current Best Avg. Dice: 0.2903258502483368 Current Avg. Dice: 0.2583880126476288 Current Avg. tumor Dice: 0.27378857135772705 Current Avg. lymph Dice: 0.24298743903636932\n"
     ]
    },
    {
     "name": "stderr",
     "output_type": "stream",
     "text": [
      "Training (4304 / 18000 Steps) (loss=0.67111): 100%|██████████| 7/7 [00:09<00:00,  1.38s/it]\n",
      "Training (4311 / 18000 Steps) (loss=0.67217): 100%|██████████| 7/7 [00:05<00:00,  1.31it/s]\n",
      "Training (4318 / 18000 Steps) (loss=0.45253): 100%|██████████| 7/7 [00:05<00:00,  1.31it/s]\n",
      "Training (4325 / 18000 Steps) (loss=0.39302): 100%|██████████| 7/7 [00:05<00:00,  1.34it/s]\n",
      "Training (4332 / 18000 Steps) (loss=0.42879): 100%|██████████| 7/7 [00:05<00:00,  1.30it/s]\n",
      "Training (4339 / 18000 Steps) (loss=0.37863): 100%|██████████| 7/7 [00:05<00:00,  1.34it/s]\n",
      "Training (4346 / 18000 Steps) (loss=0.40922): 100%|██████████| 7/7 [00:05<00:00,  1.36it/s]\n",
      "Training (4353 / 18000 Steps) (loss=0.39666): 100%|██████████| 7/7 [00:05<00:00,  1.26it/s]\n",
      "Training (4360 / 18000 Steps) (loss=0.60921): 100%|██████████| 7/7 [00:05<00:00,  1.34it/s]\n",
      "Training (4367 / 18000 Steps) (loss=0.48671): 100%|██████████| 7/7 [00:05<00:00,  1.26it/s]\n",
      "Training (4374 / 18000 Steps) (loss=0.54114): 100%|██████████| 7/7 [00:05<00:00,  1.33it/s]\n",
      "Training (4381 / 18000 Steps) (loss=0.40386): 100%|██████████| 7/7 [00:05<00:00,  1.27it/s]\n",
      "Training (4388 / 18000 Steps) (loss=0.47516): 100%|██████████| 7/7 [00:05<00:00,  1.27it/s]\n",
      "Training (4395 / 18000 Steps) (loss=0.39835): 100%|██████████| 7/7 [00:05<00:00,  1.33it/s]\n",
      "Validate (4396 / 10 Steps): 100%|██████████| 2/2 [00:04<00:00,  2.12s/it]<00:02,  1.32it/s]\n",
      "Training (4400 / 18000 Steps) (loss=0.54088):  71%|███████▏  | 5/7 [00:09<00:04,  2.43s/it]"
     ]
    },
    {
     "name": "stdout",
     "output_type": "stream",
     "text": [
      "Model Was Saved ! Current Best Avg. Dice: 0.31875497102737427 Current Avg. Dice: 0.31875497102737427 Current Avg. tumor Dice: 0.32301104068756104 Current Avg. lymph Dice: 0.3144989609718323\n"
     ]
    },
    {
     "name": "stderr",
     "output_type": "stream",
     "text": [
      "Training (4402 / 18000 Steps) (loss=0.36198): 100%|██████████| 7/7 [00:10<00:00,  1.47s/it]\n",
      "Training (4409 / 18000 Steps) (loss=0.40755): 100%|██████████| 7/7 [00:05<00:00,  1.28it/s]\n",
      "Training (4416 / 18000 Steps) (loss=0.59126): 100%|██████████| 7/7 [00:05<00:00,  1.32it/s]\n",
      "Training (4423 / 18000 Steps) (loss=0.63649): 100%|██████████| 7/7 [00:05<00:00,  1.32it/s]\n",
      "Training (4430 / 18000 Steps) (loss=0.43453): 100%|██████████| 7/7 [00:05<00:00,  1.30it/s]\n",
      "Training (4437 / 18000 Steps) (loss=0.49718): 100%|██████████| 7/7 [00:05<00:00,  1.29it/s]\n",
      "Training (4444 / 18000 Steps) (loss=0.51193): 100%|██████████| 7/7 [00:05<00:00,  1.30it/s]\n",
      "Training (4451 / 18000 Steps) (loss=0.53335): 100%|██████████| 7/7 [00:05<00:00,  1.36it/s]\n",
      "Training (4458 / 18000 Steps) (loss=0.48492): 100%|██████████| 7/7 [00:05<00:00,  1.30it/s]\n",
      "Training (4465 / 18000 Steps) (loss=0.40865): 100%|██████████| 7/7 [00:05<00:00,  1.30it/s]\n",
      "Training (4472 / 18000 Steps) (loss=0.40856): 100%|██████████| 7/7 [00:05<00:00,  1.23it/s]\n",
      "Training (4479 / 18000 Steps) (loss=0.42637): 100%|██████████| 7/7 [00:05<00:00,  1.26it/s]\n",
      "Training (4486 / 18000 Steps) (loss=0.57317): 100%|██████████| 7/7 [00:05<00:00,  1.30it/s]\n",
      "Training (4493 / 18000 Steps) (loss=0.44105): 100%|██████████| 7/7 [00:05<00:00,  1.30it/s]\n",
      "Validate (4494 / 10 Steps): 100%|██████████| 2/2 [00:04<00:00,  2.16s/it]<00:00,  1.76it/s]\n",
      "Training (4500 / 18000 Steps) (loss=0.31551): 100%|██████████| 7/7 [00:09<00:00,  1.40s/it]\n"
     ]
    },
    {
     "name": "stdout",
     "output_type": "stream",
     "text": [
      "Model Was Not Saved ! Current Best Avg. Dice: 0.31875497102737427 Current Avg. Dice: 0.31194549798965454 Current Avg. tumor Dice: 0.3267984092235565 Current Avg. lymph Dice: 0.29709261655807495\n"
     ]
    },
    {
     "name": "stderr",
     "output_type": "stream",
     "text": [
      "Training (4507 / 18000 Steps) (loss=0.48414): 100%|██████████| 7/7 [00:05<00:00,  1.28it/s]\n",
      "Training (4514 / 18000 Steps) (loss=0.58829): 100%|██████████| 7/7 [00:05<00:00,  1.21it/s]\n",
      "Training (4521 / 18000 Steps) (loss=0.42960): 100%|██████████| 7/7 [00:05<00:00,  1.30it/s]\n",
      "Training (4528 / 18000 Steps) (loss=0.45887): 100%|██████████| 7/7 [00:05<00:00,  1.26it/s]\n",
      "Training (4535 / 18000 Steps) (loss=0.57025): 100%|██████████| 7/7 [00:05<00:00,  1.31it/s]\n",
      "Training (4542 / 18000 Steps) (loss=0.51280): 100%|██████████| 7/7 [00:05<00:00,  1.26it/s]\n",
      "Training (4549 / 18000 Steps) (loss=0.47579): 100%|██████████| 7/7 [00:05<00:00,  1.32it/s]\n",
      "Training (4556 / 18000 Steps) (loss=0.27456): 100%|██████████| 7/7 [00:05<00:00,  1.25it/s]\n",
      "Training (4563 / 18000 Steps) (loss=0.50840): 100%|██████████| 7/7 [00:05<00:00,  1.35it/s]\n",
      "Training (4570 / 18000 Steps) (loss=0.38888): 100%|██████████| 7/7 [00:05<00:00,  1.25it/s]\n",
      "Training (4577 / 18000 Steps) (loss=0.40337): 100%|██████████| 7/7 [00:05<00:00,  1.34it/s]\n",
      "Training (4584 / 18000 Steps) (loss=0.34849): 100%|██████████| 7/7 [00:05<00:00,  1.36it/s]\n",
      "Training (4591 / 18000 Steps) (loss=0.59258): 100%|██████████| 7/7 [00:05<00:00,  1.25it/s]\n",
      "Training (4598 / 18000 Steps) (loss=0.40078): 100%|██████████| 7/7 [00:05<00:00,  1.31it/s]\n",
      "Validate (4599 / 10 Steps): 100%|██████████| 2/2 [00:04<00:00,  2.09s/it]<00:18,  3.02s/it]\n",
      "Training (4600 / 18000 Steps) (loss=0.59523):  29%|██▊       | 2/7 [00:07<00:19,  3.98s/it]"
     ]
    },
    {
     "name": "stdout",
     "output_type": "stream",
     "text": [
      "Model Was Not Saved ! Current Best Avg. Dice: 0.31875497102737427 Current Avg. Dice: 0.25903257727622986 Current Avg. tumor Dice: 0.26774081587791443 Current Avg. lymph Dice: 0.2503243386745453\n"
     ]
    },
    {
     "name": "stderr",
     "output_type": "stream",
     "text": [
      "Training (4605 / 18000 Steps) (loss=0.59555): 100%|██████████| 7/7 [00:09<00:00,  1.38s/it]\n",
      "Training (4612 / 18000 Steps) (loss=0.62954): 100%|██████████| 7/7 [00:05<00:00,  1.29it/s]\n",
      "Training (4619 / 18000 Steps) (loss=0.57367): 100%|██████████| 7/7 [00:05<00:00,  1.31it/s]\n",
      "Training (4626 / 18000 Steps) (loss=0.46627): 100%|██████████| 7/7 [00:05<00:00,  1.29it/s]\n",
      "Training (4633 / 18000 Steps) (loss=0.53724): 100%|██████████| 7/7 [00:05<00:00,  1.28it/s]\n",
      "Training (4640 / 18000 Steps) (loss=0.52571): 100%|██████████| 7/7 [00:05<00:00,  1.29it/s]\n",
      "Training (4647 / 18000 Steps) (loss=0.54500): 100%|██████████| 7/7 [00:05<00:00,  1.40it/s]\n",
      "Training (4654 / 18000 Steps) (loss=0.59776): 100%|██████████| 7/7 [00:05<00:00,  1.32it/s]\n",
      "Training (4661 / 18000 Steps) (loss=0.38193): 100%|██████████| 7/7 [00:05<00:00,  1.36it/s]\n",
      "Training (4668 / 18000 Steps) (loss=0.39167): 100%|██████████| 7/7 [00:05<00:00,  1.27it/s]\n",
      "Training (4675 / 18000 Steps) (loss=0.52310): 100%|██████████| 7/7 [00:05<00:00,  1.32it/s]\n",
      "Training (4682 / 18000 Steps) (loss=0.38607): 100%|██████████| 7/7 [00:05<00:00,  1.30it/s]\n",
      "Training (4689 / 18000 Steps) (loss=0.50235): 100%|██████████| 7/7 [00:05<00:00,  1.36it/s]\n",
      "Training (4696 / 18000 Steps) (loss=0.65289): 100%|██████████| 7/7 [00:05<00:00,  1.36it/s]\n",
      "Validate (4697 / 10 Steps): 100%|██████████| 2/2 [00:04<00:00,  2.12s/it]<00:04,  1.05s/it]\n",
      "Training (4700 / 18000 Steps) (loss=0.56254):  57%|█████▋    | 4/7 [00:08<00:07,  2.49s/it]"
     ]
    },
    {
     "name": "stdout",
     "output_type": "stream",
     "text": [
      "Model Was Not Saved ! Current Best Avg. Dice: 0.31875497102737427 Current Avg. Dice: 0.23684579133987427 Current Avg. tumor Dice: 0.23437382280826569 Current Avg. lymph Dice: 0.23931774497032166\n"
     ]
    },
    {
     "name": "stderr",
     "output_type": "stream",
     "text": [
      "Training (4703 / 18000 Steps) (loss=0.35917): 100%|██████████| 7/7 [00:09<00:00,  1.42s/it]\n",
      "Training (4710 / 18000 Steps) (loss=0.39767): 100%|██████████| 7/7 [00:05<00:00,  1.32it/s]\n",
      "Training (4717 / 18000 Steps) (loss=0.55752): 100%|██████████| 7/7 [00:05<00:00,  1.28it/s]\n",
      "Training (4724 / 18000 Steps) (loss=0.28137): 100%|██████████| 7/7 [00:05<00:00,  1.31it/s]\n",
      "Training (4731 / 18000 Steps) (loss=0.50651): 100%|██████████| 7/7 [00:05<00:00,  1.24it/s]\n",
      "Training (4738 / 18000 Steps) (loss=0.57949): 100%|██████████| 7/7 [00:05<00:00,  1.29it/s]\n",
      "Training (4745 / 18000 Steps) (loss=0.45274): 100%|██████████| 7/7 [00:05<00:00,  1.25it/s]\n",
      "Training (4752 / 18000 Steps) (loss=0.36824): 100%|██████████| 7/7 [00:05<00:00,  1.33it/s]\n",
      "Training (4759 / 18000 Steps) (loss=0.50577): 100%|██████████| 7/7 [00:05<00:00,  1.29it/s]\n",
      "Training (4766 / 18000 Steps) (loss=0.46116): 100%|██████████| 7/7 [00:05<00:00,  1.29it/s]\n",
      "Training (4773 / 18000 Steps) (loss=0.41780): 100%|██████████| 7/7 [00:05<00:00,  1.25it/s]\n",
      "Training (4780 / 18000 Steps) (loss=0.64233): 100%|██████████| 7/7 [00:05<00:00,  1.36it/s]\n",
      "Training (4787 / 18000 Steps) (loss=0.41125): 100%|██████████| 7/7 [00:05<00:00,  1.35it/s]\n",
      "Training (4794 / 18000 Steps) (loss=0.46409): 100%|██████████| 7/7 [00:05<00:00,  1.33it/s]\n",
      "Validate (4795 / 10 Steps): 100%|██████████| 2/2 [00:04<00:00,  2.28s/it]<00:01,  1.58it/s]\n",
      "Training (4800 / 18000 Steps) (loss=0.49923):  86%|████████▌ | 6/7 [00:09<00:02,  2.13s/it]"
     ]
    },
    {
     "name": "stdout",
     "output_type": "stream",
     "text": [
      "Model Was Not Saved ! Current Best Avg. Dice: 0.31875497102737427 Current Avg. Dice: 0.28174543380737305 Current Avg. tumor Dice: 0.2950805723667145 Current Avg. lymph Dice: 0.26841026544570923\n"
     ]
    },
    {
     "name": "stderr",
     "output_type": "stream",
     "text": [
      "Training (4801 / 18000 Steps) (loss=0.44497): 100%|██████████| 7/7 [00:09<00:00,  1.42s/it]\n",
      "Training (4808 / 18000 Steps) (loss=0.62562): 100%|██████████| 7/7 [00:05<00:00,  1.31it/s]\n",
      "Training (4815 / 18000 Steps) (loss=0.42192): 100%|██████████| 7/7 [00:05<00:00,  1.29it/s]\n",
      "Training (4822 / 18000 Steps) (loss=0.48838): 100%|██████████| 7/7 [00:05<00:00,  1.32it/s]\n",
      "Training (4829 / 18000 Steps) (loss=0.54443): 100%|██████████| 7/7 [00:05<00:00,  1.31it/s]\n",
      "Training (4836 / 18000 Steps) (loss=0.37556): 100%|██████████| 7/7 [00:05<00:00,  1.29it/s]\n",
      "Training (4843 / 18000 Steps) (loss=0.42449): 100%|██████████| 7/7 [00:05<00:00,  1.19it/s]\n",
      "Training (4850 / 18000 Steps) (loss=0.36737): 100%|██████████| 7/7 [00:05<00:00,  1.23it/s]\n",
      "Training (4857 / 18000 Steps) (loss=0.48592): 100%|██████████| 7/7 [00:05<00:00,  1.30it/s]\n",
      "Training (4864 / 18000 Steps) (loss=0.45417): 100%|██████████| 7/7 [00:05<00:00,  1.25it/s]\n",
      "Training (4871 / 18000 Steps) (loss=0.62172): 100%|██████████| 7/7 [00:05<00:00,  1.36it/s]\n",
      "Training (4878 / 18000 Steps) (loss=0.51270): 100%|██████████| 7/7 [00:05<00:00,  1.28it/s]\n",
      "Training (4885 / 18000 Steps) (loss=0.38519): 100%|██████████| 7/7 [00:05<00:00,  1.34it/s]\n",
      "Training (4892 / 18000 Steps) (loss=0.44910): 100%|██████████| 7/7 [00:05<00:00,  1.35it/s]\n",
      "Training (4899 / 18000 Steps) (loss=0.49116): 100%|██████████| 7/7 [00:05<00:00,  1.32it/s]\n",
      "Validate (4900 / 10 Steps): 100%|██████████| 2/2 [00:04<00:00,  2.06s/it]<?, ?it/s]\n",
      "Training (4900 / 18000 Steps) (loss=0.48819):  14%|█▍        | 1/7 [00:07<00:46,  7.70s/it]"
     ]
    },
    {
     "name": "stdout",
     "output_type": "stream",
     "text": [
      "Model Was Saved ! Current Best Avg. Dice: 0.3208903670310974 Current Avg. Dice: 0.3208903670310974 Current Avg. tumor Dice: 0.343997061252594 Current Avg. lymph Dice: 0.29778367280960083\n"
     ]
    },
    {
     "name": "stderr",
     "output_type": "stream",
     "text": [
      "Training (4906 / 18000 Steps) (loss=0.39777): 100%|██████████| 7/7 [00:10<00:00,  1.44s/it]\n",
      "Training (4913 / 18000 Steps) (loss=0.39761): 100%|██████████| 7/7 [00:05<00:00,  1.31it/s]\n",
      "Training (4920 / 18000 Steps) (loss=0.36747): 100%|██████████| 7/7 [00:05<00:00,  1.31it/s]\n",
      "Training (4927 / 18000 Steps) (loss=0.50465): 100%|██████████| 7/7 [00:05<00:00,  1.26it/s]\n",
      "Training (4934 / 18000 Steps) (loss=0.40563): 100%|██████████| 7/7 [00:05<00:00,  1.29it/s]\n",
      "Training (4941 / 18000 Steps) (loss=0.24932): 100%|██████████| 7/7 [00:05<00:00,  1.30it/s]\n",
      "Training (4948 / 18000 Steps) (loss=0.44155): 100%|██████████| 7/7 [00:05<00:00,  1.35it/s]\n",
      "Training (4955 / 18000 Steps) (loss=0.46050): 100%|██████████| 7/7 [00:05<00:00,  1.26it/s]\n",
      "Training (4962 / 18000 Steps) (loss=0.38551): 100%|██████████| 7/7 [00:05<00:00,  1.25it/s]\n",
      "Training (4969 / 18000 Steps) (loss=0.44220): 100%|██████████| 7/7 [00:05<00:00,  1.32it/s]\n",
      "Training (4976 / 18000 Steps) (loss=0.49966): 100%|██████████| 7/7 [00:05<00:00,  1.30it/s]\n",
      "Training (4983 / 18000 Steps) (loss=0.58209): 100%|██████████| 7/7 [00:05<00:00,  1.30it/s]\n",
      "Training (4990 / 18000 Steps) (loss=0.50912): 100%|██████████| 7/7 [00:05<00:00,  1.32it/s]\n",
      "Training (4997 / 18000 Steps) (loss=0.48329): 100%|██████████| 7/7 [00:05<00:00,  1.29it/s]\n",
      "Validate (4998 / 10 Steps): 100%|██████████| 2/2 [00:04<00:00,  2.17s/it]<00:07,  1.42s/it]\n",
      "Training (5000 / 18000 Steps) (loss=0.42387):  43%|████▎     | 3/7 [00:08<00:11,  2.97s/it]"
     ]
    },
    {
     "name": "stdout",
     "output_type": "stream",
     "text": [
      "Model Was Not Saved ! Current Best Avg. Dice: 0.3208903670310974 Current Avg. Dice: 0.29662084579467773 Current Avg. tumor Dice: 0.3052903711795807 Current Avg. lymph Dice: 0.28795126080513\n"
     ]
    },
    {
     "name": "stderr",
     "output_type": "stream",
     "text": [
      "Training (5004 / 18000 Steps) (loss=0.55229): 100%|██████████| 7/7 [00:09<00:00,  1.38s/it]\n",
      "Training (5011 / 18000 Steps) (loss=0.48648): 100%|██████████| 7/7 [00:05<00:00,  1.39it/s]\n",
      "Training (5018 / 18000 Steps) (loss=0.57211): 100%|██████████| 7/7 [00:05<00:00,  1.29it/s]\n",
      "Training (5025 / 18000 Steps) (loss=0.53248): 100%|██████████| 7/7 [00:05<00:00,  1.31it/s]\n",
      "Training (5032 / 18000 Steps) (loss=0.21316): 100%|██████████| 7/7 [00:05<00:00,  1.34it/s]\n",
      "Training (5039 / 18000 Steps) (loss=0.55167): 100%|██████████| 7/7 [00:05<00:00,  1.30it/s]\n",
      "Training (5046 / 18000 Steps) (loss=0.60956): 100%|██████████| 7/7 [00:05<00:00,  1.31it/s]\n",
      "Training (5053 / 18000 Steps) (loss=0.46181): 100%|██████████| 7/7 [00:05<00:00,  1.29it/s]\n",
      "Training (5060 / 18000 Steps) (loss=0.48389): 100%|██████████| 7/7 [00:05<00:00,  1.27it/s]\n",
      "Training (5067 / 18000 Steps) (loss=0.27033): 100%|██████████| 7/7 [00:05<00:00,  1.33it/s]\n",
      "Training (5074 / 18000 Steps) (loss=0.37192): 100%|██████████| 7/7 [00:05<00:00,  1.28it/s]\n",
      "Training (5081 / 18000 Steps) (loss=0.55945): 100%|██████████| 7/7 [00:05<00:00,  1.34it/s]\n",
      "Training (5088 / 18000 Steps) (loss=0.24926): 100%|██████████| 7/7 [00:05<00:00,  1.28it/s]\n",
      "Training (5095 / 18000 Steps) (loss=0.49356): 100%|██████████| 7/7 [00:05<00:00,  1.29it/s]\n",
      "Validate (5096 / 10 Steps): 100%|██████████| 2/2 [00:04<00:00,  2.06s/it]<00:02,  1.28it/s]\n",
      "Training (5100 / 18000 Steps) (loss=0.34099):  71%|███████▏  | 5/7 [00:08<00:04,  2.16s/it]"
     ]
    },
    {
     "name": "stdout",
     "output_type": "stream",
     "text": [
      "Model Was Not Saved ! Current Best Avg. Dice: 0.3208903670310974 Current Avg. Dice: 0.2801976799964905 Current Avg. tumor Dice: 0.2940070927143097 Current Avg. lymph Dice: 0.26638829708099365\n"
     ]
    },
    {
     "name": "stderr",
     "output_type": "stream",
     "text": [
      "Training (5102 / 18000 Steps) (loss=0.51961): 100%|██████████| 7/7 [00:09<00:00,  1.39s/it]\n",
      "Training (5109 / 18000 Steps) (loss=0.55286): 100%|██████████| 7/7 [00:05<00:00,  1.27it/s]\n",
      "Training (5116 / 18000 Steps) (loss=0.38662): 100%|██████████| 7/7 [00:05<00:00,  1.29it/s]\n",
      "Training (5123 / 18000 Steps) (loss=0.49482): 100%|██████████| 7/7 [00:05<00:00,  1.29it/s]\n",
      "Training (5130 / 18000 Steps) (loss=0.36644): 100%|██████████| 7/7 [00:05<00:00,  1.27it/s]\n",
      "Training (5137 / 18000 Steps) (loss=0.45123): 100%|██████████| 7/7 [00:05<00:00,  1.26it/s]\n",
      "Training (5144 / 18000 Steps) (loss=0.30926): 100%|██████████| 7/7 [00:05<00:00,  1.22it/s]\n",
      "Training (5151 / 18000 Steps) (loss=0.59123): 100%|██████████| 7/7 [00:05<00:00,  1.27it/s]\n",
      "Training (5158 / 18000 Steps) (loss=0.51043): 100%|██████████| 7/7 [00:05<00:00,  1.28it/s]\n",
      "Training (5165 / 18000 Steps) (loss=0.51876): 100%|██████████| 7/7 [00:05<00:00,  1.25it/s]\n",
      "Training (5172 / 18000 Steps) (loss=0.42360): 100%|██████████| 7/7 [00:05<00:00,  1.30it/s]\n",
      "Training (5179 / 18000 Steps) (loss=0.39453): 100%|██████████| 7/7 [00:05<00:00,  1.24it/s]\n",
      "Training (5186 / 18000 Steps) (loss=0.56061): 100%|██████████| 7/7 [00:05<00:00,  1.26it/s]\n",
      "Training (5193 / 18000 Steps) (loss=0.57873): 100%|██████████| 7/7 [00:05<00:00,  1.21it/s]\n",
      "Validate (5194 / 10 Steps): 100%|██████████| 2/2 [00:04<00:00,  2.10s/it]<00:00,  1.71it/s]\n",
      "Training (5200 / 18000 Steps) (loss=0.50057): 100%|██████████| 7/7 [00:09<00:00,  1.43s/it]\n"
     ]
    },
    {
     "name": "stdout",
     "output_type": "stream",
     "text": [
      "Model Was Not Saved ! Current Best Avg. Dice: 0.3208903670310974 Current Avg. Dice: 0.29294735193252563 Current Avg. tumor Dice: 0.2848736047744751 Current Avg. lymph Dice: 0.30102109909057617\n"
     ]
    },
    {
     "name": "stderr",
     "output_type": "stream",
     "text": [
      "Training (5207 / 18000 Steps) (loss=0.52595): 100%|██████████| 7/7 [00:05<00:00,  1.27it/s]\n",
      "Training (5214 / 18000 Steps) (loss=0.59618): 100%|██████████| 7/7 [00:05<00:00,  1.36it/s]\n",
      "Training (5221 / 18000 Steps) (loss=0.53544): 100%|██████████| 7/7 [00:05<00:00,  1.25it/s]\n",
      "Training (5228 / 18000 Steps) (loss=0.50205): 100%|██████████| 7/7 [00:05<00:00,  1.31it/s]\n",
      "Training (5235 / 18000 Steps) (loss=0.49869): 100%|██████████| 7/7 [00:05<00:00,  1.31it/s]\n",
      "Training (5242 / 18000 Steps) (loss=0.41675): 100%|██████████| 7/7 [00:05<00:00,  1.28it/s]\n",
      "Training (5249 / 18000 Steps) (loss=0.54778): 100%|██████████| 7/7 [00:05<00:00,  1.23it/s]\n",
      "Training (5256 / 18000 Steps) (loss=0.62269): 100%|██████████| 7/7 [00:05<00:00,  1.25it/s]\n",
      "Training (5263 / 18000 Steps) (loss=0.45976): 100%|██████████| 7/7 [00:05<00:00,  1.31it/s]\n",
      "Training (5270 / 18000 Steps) (loss=0.51370): 100%|██████████| 7/7 [00:05<00:00,  1.23it/s]\n",
      "Training (5277 / 18000 Steps) (loss=0.25520): 100%|██████████| 7/7 [00:05<00:00,  1.26it/s]\n",
      "Training (5284 / 18000 Steps) (loss=0.41991): 100%|██████████| 7/7 [00:05<00:00,  1.28it/s]\n",
      "Training (5291 / 18000 Steps) (loss=0.46357): 100%|██████████| 7/7 [00:05<00:00,  1.26it/s]\n",
      "Training (5298 / 18000 Steps) (loss=0.57358): 100%|██████████| 7/7 [00:05<00:00,  1.29it/s]\n",
      "Validate (5299 / 10 Steps): 100%|██████████| 2/2 [00:04<00:00,  2.09s/it]<00:19,  3.22s/it]\n",
      "Training (5300 / 18000 Steps) (loss=0.36709):  29%|██▊       | 2/7 [00:07<00:20,  4.06s/it]"
     ]
    },
    {
     "name": "stdout",
     "output_type": "stream",
     "text": [
      "Model Was Not Saved ! Current Best Avg. Dice: 0.3208903670310974 Current Avg. Dice: 0.2821861803531647 Current Avg. tumor Dice: 0.2875218987464905 Current Avg. lymph Dice: 0.27685052156448364\n"
     ]
    },
    {
     "name": "stderr",
     "output_type": "stream",
     "text": [
      "Training (5305 / 18000 Steps) (loss=0.42501): 100%|██████████| 7/7 [00:09<00:00,  1.41s/it]\n",
      "Training (5312 / 18000 Steps) (loss=0.35847): 100%|██████████| 7/7 [00:05<00:00,  1.28it/s]\n",
      "Training (5319 / 18000 Steps) (loss=0.43152): 100%|██████████| 7/7 [00:05<00:00,  1.25it/s]\n",
      "Training (5326 / 18000 Steps) (loss=0.40334): 100%|██████████| 7/7 [00:05<00:00,  1.28it/s]\n",
      "Training (5333 / 18000 Steps) (loss=0.44760): 100%|██████████| 7/7 [00:05<00:00,  1.24it/s]\n",
      "Training (5340 / 18000 Steps) (loss=0.42043): 100%|██████████| 7/7 [00:05<00:00,  1.32it/s]\n",
      "Training (5347 / 18000 Steps) (loss=0.31671): 100%|██████████| 7/7 [00:05<00:00,  1.23it/s]\n",
      "Training (5354 / 18000 Steps) (loss=0.60287): 100%|██████████| 7/7 [00:05<00:00,  1.26it/s]\n",
      "Training (5361 / 18000 Steps) (loss=0.44066): 100%|██████████| 7/7 [00:05<00:00,  1.20it/s]\n",
      "Training (5368 / 18000 Steps) (loss=0.46355): 100%|██████████| 7/7 [00:05<00:00,  1.25it/s]\n",
      "Training (5375 / 18000 Steps) (loss=0.51510): 100%|██████████| 7/7 [00:05<00:00,  1.27it/s]\n",
      "Training (5382 / 18000 Steps) (loss=0.29069): 100%|██████████| 7/7 [00:05<00:00,  1.25it/s]\n",
      "Training (5389 / 18000 Steps) (loss=0.38585): 100%|██████████| 7/7 [00:05<00:00,  1.29it/s]\n",
      "Training (5396 / 18000 Steps) (loss=0.42618): 100%|██████████| 7/7 [00:05<00:00,  1.26it/s]\n",
      "Validate (5397 / 10 Steps): 100%|██████████| 2/2 [00:04<00:00,  2.15s/it]<00:04,  1.04s/it]\n",
      "Training (5400 / 18000 Steps) (loss=0.40112):  57%|█████▋    | 4/7 [00:08<00:07,  2.50s/it]"
     ]
    },
    {
     "name": "stdout",
     "output_type": "stream",
     "text": [
      "Model Was Not Saved ! Current Best Avg. Dice: 0.3208903670310974 Current Avg. Dice: 0.2499096691608429 Current Avg. tumor Dice: 0.2635067105293274 Current Avg. lymph Dice: 0.236312597990036\n"
     ]
    },
    {
     "name": "stderr",
     "output_type": "stream",
     "text": [
      "Training (5403 / 18000 Steps) (loss=0.50529): 100%|██████████| 7/7 [00:09<00:00,  1.42s/it]\n",
      "Training (5410 / 18000 Steps) (loss=0.37413): 100%|██████████| 7/7 [00:05<00:00,  1.28it/s]\n",
      "Training (5417 / 18000 Steps) (loss=0.53968): 100%|██████████| 7/7 [00:05<00:00,  1.28it/s]\n",
      "Training (5424 / 18000 Steps) (loss=0.63822): 100%|██████████| 7/7 [00:05<00:00,  1.28it/s]\n",
      "Training (5431 / 18000 Steps) (loss=0.57883): 100%|██████████| 7/7 [00:05<00:00,  1.25it/s]\n",
      "Training (5438 / 18000 Steps) (loss=0.38527): 100%|██████████| 7/7 [00:05<00:00,  1.25it/s]\n",
      "Training (5445 / 18000 Steps) (loss=0.51371): 100%|██████████| 7/7 [00:05<00:00,  1.19it/s]\n",
      "Training (5452 / 18000 Steps) (loss=0.56349): 100%|██████████| 7/7 [00:05<00:00,  1.31it/s]\n",
      "Training (5459 / 18000 Steps) (loss=0.38748): 100%|██████████| 7/7 [00:05<00:00,  1.27it/s]\n",
      "Training (5466 / 18000 Steps) (loss=0.54310): 100%|██████████| 7/7 [00:05<00:00,  1.25it/s]\n",
      "Training (5473 / 18000 Steps) (loss=0.44829): 100%|██████████| 7/7 [00:05<00:00,  1.32it/s]\n",
      "Training (5480 / 18000 Steps) (loss=0.41319): 100%|██████████| 7/7 [00:05<00:00,  1.25it/s]\n",
      "Training (5487 / 18000 Steps) (loss=0.52979): 100%|██████████| 7/7 [00:05<00:00,  1.28it/s]\n",
      "Training (5494 / 18000 Steps) (loss=0.27429): 100%|██████████| 7/7 [00:05<00:00,  1.24it/s]\n",
      "Validate (5495 / 10 Steps): 100%|██████████| 2/2 [00:04<00:00,  2.12s/it]<00:01,  1.57it/s]\n",
      "Training (5500 / 18000 Steps) (loss=0.53185):  86%|████████▌ | 6/7 [00:09<00:02,  2.03s/it]"
     ]
    },
    {
     "name": "stdout",
     "output_type": "stream",
     "text": [
      "Model Was Not Saved ! Current Best Avg. Dice: 0.3208903670310974 Current Avg. Dice: 0.2959177494049072 Current Avg. tumor Dice: 0.2957268953323364 Current Avg. lymph Dice: 0.29610857367515564\n"
     ]
    },
    {
     "name": "stderr",
     "output_type": "stream",
     "text": [
      "Training (5501 / 18000 Steps) (loss=0.36647): 100%|██████████| 7/7 [00:09<00:00,  1.39s/it]\n",
      "Training (5508 / 18000 Steps) (loss=0.26820): 100%|██████████| 7/7 [00:05<00:00,  1.21it/s]\n",
      "Training (5515 / 18000 Steps) (loss=0.43944): 100%|██████████| 7/7 [00:05<00:00,  1.35it/s]\n",
      "Training (5522 / 18000 Steps) (loss=0.49708): 100%|██████████| 7/7 [00:05<00:00,  1.26it/s]\n",
      "Training (5529 / 18000 Steps) (loss=0.49868): 100%|██████████| 7/7 [00:05<00:00,  1.26it/s]\n",
      "Training (5536 / 18000 Steps) (loss=0.33650): 100%|██████████| 7/7 [00:05<00:00,  1.32it/s]\n",
      "Training (5543 / 18000 Steps) (loss=0.53817): 100%|██████████| 7/7 [00:05<00:00,  1.22it/s]\n",
      "Training (5550 / 18000 Steps) (loss=0.48253): 100%|██████████| 7/7 [00:05<00:00,  1.25it/s]\n",
      "Training (5557 / 18000 Steps) (loss=0.59981): 100%|██████████| 7/7 [00:05<00:00,  1.28it/s]\n",
      "Training (5564 / 18000 Steps) (loss=0.47731): 100%|██████████| 7/7 [00:05<00:00,  1.27it/s]\n",
      "Training (5571 / 18000 Steps) (loss=0.57256): 100%|██████████| 7/7 [00:05<00:00,  1.25it/s]\n",
      "Training (5578 / 18000 Steps) (loss=0.44581): 100%|██████████| 7/7 [00:05<00:00,  1.33it/s]\n",
      "Training (5585 / 18000 Steps) (loss=0.58229): 100%|██████████| 7/7 [00:05<00:00,  1.27it/s]\n",
      "Training (5592 / 18000 Steps) (loss=0.41331): 100%|██████████| 7/7 [00:05<00:00,  1.31it/s]\n",
      "Training (5599 / 18000 Steps) (loss=0.42204): 100%|██████████| 7/7 [00:05<00:00,  1.28it/s]\n",
      "Validate (5600 / 10 Steps): 100%|██████████| 2/2 [00:04<00:00,  2.09s/it]<?, ?it/s]\n",
      "Training (5600 / 18000 Steps) (loss=0.36643):  14%|█▍        | 1/7 [00:07<00:45,  7.54s/it]"
     ]
    },
    {
     "name": "stdout",
     "output_type": "stream",
     "text": [
      "Model Was Not Saved ! Current Best Avg. Dice: 0.3208903670310974 Current Avg. Dice: 0.30100056529045105 Current Avg. tumor Dice: 0.32123661041259766 Current Avg. lymph Dice: 0.28076449036598206\n"
     ]
    },
    {
     "name": "stderr",
     "output_type": "stream",
     "text": [
      "Training (5606 / 18000 Steps) (loss=0.39897): 100%|██████████| 7/7 [00:09<00:00,  1.42s/it]\n",
      "Training (5613 / 18000 Steps) (loss=0.36032): 100%|██████████| 7/7 [00:05<00:00,  1.26it/s]\n",
      "Training (5620 / 18000 Steps) (loss=0.57099): 100%|██████████| 7/7 [00:05<00:00,  1.35it/s]\n",
      "Training (5627 / 18000 Steps) (loss=0.30274): 100%|██████████| 7/7 [00:05<00:00,  1.25it/s]\n",
      "Training (5634 / 18000 Steps) (loss=0.47517): 100%|██████████| 7/7 [00:05<00:00,  1.24it/s]\n",
      "Training (5641 / 18000 Steps) (loss=0.44911): 100%|██████████| 7/7 [00:05<00:00,  1.26it/s]\n",
      "Training (5648 / 18000 Steps) (loss=0.37970): 100%|██████████| 7/7 [00:05<00:00,  1.25it/s]\n",
      "Training (5655 / 18000 Steps) (loss=0.32757): 100%|██████████| 7/7 [00:05<00:00,  1.23it/s]\n",
      "Training (5662 / 18000 Steps) (loss=0.44582): 100%|██████████| 7/7 [00:05<00:00,  1.28it/s]\n",
      "Training (5669 / 18000 Steps) (loss=0.36162): 100%|██████████| 7/7 [00:05<00:00,  1.33it/s]\n",
      "Training (5676 / 18000 Steps) (loss=0.56469): 100%|██████████| 7/7 [00:05<00:00,  1.32it/s]\n",
      "Training (5683 / 18000 Steps) (loss=0.59261): 100%|██████████| 7/7 [00:05<00:00,  1.26it/s]\n",
      "Training (5690 / 18000 Steps) (loss=0.28797): 100%|██████████| 7/7 [00:05<00:00,  1.21it/s]\n",
      "Training (5697 / 18000 Steps) (loss=0.53372): 100%|██████████| 7/7 [00:05<00:00,  1.28it/s]\n",
      "Validate (5698 / 10 Steps): 100%|██████████| 2/2 [00:04<00:00,  2.11s/it]<00:07,  1.49s/it]\n",
      "Training (5700 / 18000 Steps) (loss=0.49573):  43%|████▎     | 3/7 [00:08<00:11,  2.95s/it]"
     ]
    },
    {
     "name": "stdout",
     "output_type": "stream",
     "text": [
      "Model Was Not Saved ! Current Best Avg. Dice: 0.3208903670310974 Current Avg. Dice: 0.25956135988235474 Current Avg. tumor Dice: 0.258954793214798 Current Avg. lymph Dice: 0.2601678967475891\n"
     ]
    },
    {
     "name": "stderr",
     "output_type": "stream",
     "text": [
      "Training (5704 / 18000 Steps) (loss=0.46739): 100%|██████████| 7/7 [00:09<00:00,  1.39s/it]\n",
      "Training (5711 / 18000 Steps) (loss=0.48935): 100%|██████████| 7/7 [00:05<00:00,  1.24it/s]\n",
      "Training (5718 / 18000 Steps) (loss=0.51840): 100%|██████████| 7/7 [00:05<00:00,  1.27it/s]\n",
      "Training (5725 / 18000 Steps) (loss=0.33581): 100%|██████████| 7/7 [00:05<00:00,  1.30it/s]\n",
      "Training (5732 / 18000 Steps) (loss=0.51926): 100%|██████████| 7/7 [00:05<00:00,  1.28it/s]\n",
      "Training (5739 / 18000 Steps) (loss=0.53072): 100%|██████████| 7/7 [00:05<00:00,  1.23it/s]\n",
      "Training (5746 / 18000 Steps) (loss=0.48253): 100%|██████████| 7/7 [00:05<00:00,  1.25it/s]\n",
      "Training (5753 / 18000 Steps) (loss=0.48473): 100%|██████████| 7/7 [00:05<00:00,  1.29it/s]\n",
      "Training (5760 / 18000 Steps) (loss=0.41375): 100%|██████████| 7/7 [00:05<00:00,  1.22it/s]\n",
      "Training (5767 / 18000 Steps) (loss=0.62767): 100%|██████████| 7/7 [00:05<00:00,  1.29it/s]\n",
      "Training (5774 / 18000 Steps) (loss=0.54746): 100%|██████████| 7/7 [00:05<00:00,  1.24it/s]\n",
      "Training (5781 / 18000 Steps) (loss=0.63437): 100%|██████████| 7/7 [00:05<00:00,  1.28it/s]\n",
      "Training (5788 / 18000 Steps) (loss=0.44828): 100%|██████████| 7/7 [00:05<00:00,  1.31it/s]\n",
      "Training (5795 / 18000 Steps) (loss=0.47405): 100%|██████████| 7/7 [00:05<00:00,  1.21it/s]\n",
      "Validate (5796 / 10 Steps): 100%|██████████| 2/2 [00:04<00:00,  2.17s/it]<00:02,  1.30it/s]\n",
      "Training (5800 / 18000 Steps) (loss=0.51801):  71%|███████▏  | 5/7 [00:09<00:04,  2.22s/it]"
     ]
    },
    {
     "name": "stdout",
     "output_type": "stream",
     "text": [
      "Model Was Not Saved ! Current Best Avg. Dice: 0.3208903670310974 Current Avg. Dice: 0.3167631924152374 Current Avg. tumor Dice: 0.28785255551338196 Current Avg. lymph Dice: 0.3456738293170929\n"
     ]
    },
    {
     "name": "stderr",
     "output_type": "stream",
     "text": [
      "Training (5802 / 18000 Steps) (loss=0.60512): 100%|██████████| 7/7 [00:09<00:00,  1.40s/it]\n",
      "Training (5809 / 18000 Steps) (loss=0.52185): 100%|██████████| 7/7 [00:05<00:00,  1.29it/s]\n",
      "Training (5816 / 18000 Steps) (loss=0.34233): 100%|██████████| 7/7 [00:05<00:00,  1.33it/s]\n",
      "Training (5823 / 18000 Steps) (loss=0.58989): 100%|██████████| 7/7 [00:05<00:00,  1.31it/s]\n",
      "Training (5830 / 18000 Steps) (loss=0.40269): 100%|██████████| 7/7 [00:05<00:00,  1.34it/s]\n",
      "Training (5837 / 18000 Steps) (loss=0.41230): 100%|██████████| 7/7 [00:05<00:00,  1.30it/s]\n",
      "Training (5844 / 18000 Steps) (loss=0.34586): 100%|██████████| 7/7 [00:05<00:00,  1.26it/s]\n",
      "Training (5851 / 18000 Steps) (loss=0.31172): 100%|██████████| 7/7 [00:05<00:00,  1.32it/s]\n",
      "Training (5858 / 18000 Steps) (loss=0.37977): 100%|██████████| 7/7 [00:05<00:00,  1.29it/s]\n",
      "Training (5865 / 18000 Steps) (loss=0.44008): 100%|██████████| 7/7 [00:05<00:00,  1.25it/s]\n",
      "Training (5872 / 18000 Steps) (loss=0.45151): 100%|██████████| 7/7 [00:05<00:00,  1.29it/s]\n",
      "Training (5879 / 18000 Steps) (loss=0.49719): 100%|██████████| 7/7 [00:05<00:00,  1.28it/s]\n",
      "Training (5886 / 18000 Steps) (loss=0.28060): 100%|██████████| 7/7 [00:05<00:00,  1.23it/s]\n",
      "Training (5893 / 18000 Steps) (loss=0.45330): 100%|██████████| 7/7 [00:05<00:00,  1.30it/s]\n",
      "Validate (5894 / 10 Steps): 100%|██████████| 2/2 [00:04<00:00,  2.10s/it]<00:00,  1.77it/s]\n",
      "Training (5900 / 18000 Steps) (loss=0.36685): 100%|██████████| 7/7 [00:09<00:00,  1.38s/it]\n"
     ]
    },
    {
     "name": "stdout",
     "output_type": "stream",
     "text": [
      "Model Was Not Saved ! Current Best Avg. Dice: 0.3208903670310974 Current Avg. Dice: 0.2997855544090271 Current Avg. tumor Dice: 0.303091824054718 Current Avg. lymph Dice: 0.2964792549610138\n"
     ]
    },
    {
     "name": "stderr",
     "output_type": "stream",
     "text": [
      "Training (5907 / 18000 Steps) (loss=0.47990): 100%|██████████| 7/7 [00:05<00:00,  1.37it/s]\n",
      "Training (5914 / 18000 Steps) (loss=0.56705): 100%|██████████| 7/7 [00:05<00:00,  1.26it/s]\n",
      "Training (5921 / 18000 Steps) (loss=0.47514): 100%|██████████| 7/7 [00:05<00:00,  1.37it/s]\n",
      "Training (5928 / 18000 Steps) (loss=0.46647): 100%|██████████| 7/7 [00:05<00:00,  1.28it/s]\n",
      "Training (5935 / 18000 Steps) (loss=0.33052): 100%|██████████| 7/7 [00:05<00:00,  1.28it/s]\n",
      "Training (5942 / 18000 Steps) (loss=0.49913): 100%|██████████| 7/7 [00:05<00:00,  1.29it/s]\n",
      "Training (5949 / 18000 Steps) (loss=0.40603): 100%|██████████| 7/7 [00:05<00:00,  1.28it/s]\n",
      "Training (5956 / 18000 Steps) (loss=0.28980): 100%|██████████| 7/7 [00:05<00:00,  1.27it/s]\n",
      "Training (5963 / 18000 Steps) (loss=0.56149): 100%|██████████| 7/7 [00:05<00:00,  1.29it/s]\n",
      "Training (5970 / 18000 Steps) (loss=0.58471): 100%|██████████| 7/7 [00:05<00:00,  1.27it/s]\n",
      "Training (5977 / 18000 Steps) (loss=0.49018): 100%|██████████| 7/7 [00:05<00:00,  1.31it/s]\n",
      "Training (5984 / 18000 Steps) (loss=0.46061): 100%|██████████| 7/7 [00:05<00:00,  1.31it/s]\n",
      "Training (5991 / 18000 Steps) (loss=0.42279): 100%|██████████| 7/7 [00:05<00:00,  1.33it/s]\n",
      "Training (5998 / 18000 Steps) (loss=0.50915): 100%|██████████| 7/7 [00:05<00:00,  1.32it/s]\n",
      "Validate (5999 / 10 Steps): 100%|██████████| 2/2 [00:04<00:00,  2.19s/it]<00:18,  3.14s/it]\n",
      "Training (6000 / 18000 Steps) (loss=0.37965):  29%|██▊       | 2/7 [00:07<00:20,  4.15s/it]"
     ]
    },
    {
     "name": "stdout",
     "output_type": "stream",
     "text": [
      "Model Was Not Saved ! Current Best Avg. Dice: 0.3208903670310974 Current Avg. Dice: 0.30062609910964966 Current Avg. tumor Dice: 0.2958614230155945 Current Avg. lymph Dice: 0.3053908348083496\n"
     ]
    },
    {
     "name": "stderr",
     "output_type": "stream",
     "text": [
      "Training (6005 / 18000 Steps) (loss=0.39547): 100%|██████████| 7/7 [00:09<00:00,  1.42s/it]\n",
      "Training (6012 / 18000 Steps) (loss=0.45272): 100%|██████████| 7/7 [00:05<00:00,  1.25it/s]\n",
      "Training (6019 / 18000 Steps) (loss=0.39791): 100%|██████████| 7/7 [00:05<00:00,  1.32it/s]\n",
      "Training (6026 / 18000 Steps) (loss=0.58272): 100%|██████████| 7/7 [00:05<00:00,  1.31it/s]\n",
      "Training (6033 / 18000 Steps) (loss=0.42771): 100%|██████████| 7/7 [00:05<00:00,  1.32it/s]\n",
      "Training (6040 / 18000 Steps) (loss=0.57566): 100%|██████████| 7/7 [00:05<00:00,  1.29it/s]\n",
      "Training (6047 / 18000 Steps) (loss=0.48745): 100%|██████████| 7/7 [00:05<00:00,  1.31it/s]\n",
      "Training (6054 / 18000 Steps) (loss=0.58475): 100%|██████████| 7/7 [00:05<00:00,  1.25it/s]\n",
      "Training (6061 / 18000 Steps) (loss=0.51278): 100%|██████████| 7/7 [00:05<00:00,  1.28it/s]\n",
      "Training (6068 / 18000 Steps) (loss=0.46104): 100%|██████████| 7/7 [00:05<00:00,  1.25it/s]\n",
      "Training (6075 / 18000 Steps) (loss=0.39823): 100%|██████████| 7/7 [00:05<00:00,  1.29it/s]\n",
      "Training (6082 / 18000 Steps) (loss=0.38384): 100%|██████████| 7/7 [00:05<00:00,  1.28it/s]\n",
      "Training (6089 / 18000 Steps) (loss=0.34725): 100%|██████████| 7/7 [00:05<00:00,  1.28it/s]\n",
      "Training (6096 / 18000 Steps) (loss=0.57382): 100%|██████████| 7/7 [00:05<00:00,  1.29it/s]\n",
      "Validate (6097 / 10 Steps): 100%|██████████| 2/2 [00:04<00:00,  2.16s/it]<00:03,  1.00it/s]\n",
      "Training (6100 / 18000 Steps) (loss=0.53315):  57%|█████▋    | 4/7 [00:08<00:07,  2.50s/it]"
     ]
    },
    {
     "name": "stdout",
     "output_type": "stream",
     "text": [
      "Model Was Not Saved ! Current Best Avg. Dice: 0.3208903670310974 Current Avg. Dice: 0.2691877782344818 Current Avg. tumor Dice: 0.25595754384994507 Current Avg. lymph Dice: 0.28241801261901855\n"
     ]
    },
    {
     "name": "stderr",
     "output_type": "stream",
     "text": [
      "Training (6103 / 18000 Steps) (loss=0.33757): 100%|██████████| 7/7 [00:09<00:00,  1.40s/it]\n",
      "Training (6110 / 18000 Steps) (loss=0.45074): 100%|██████████| 7/7 [00:05<00:00,  1.25it/s]\n",
      "Training (6117 / 18000 Steps) (loss=0.58342): 100%|██████████| 7/7 [00:05<00:00,  1.24it/s]\n",
      "Training (6124 / 18000 Steps) (loss=0.43890): 100%|██████████| 7/7 [00:05<00:00,  1.26it/s]\n",
      "Training (6131 / 18000 Steps) (loss=0.55658): 100%|██████████| 7/7 [00:05<00:00,  1.27it/s]\n",
      "Training (6138 / 18000 Steps) (loss=0.33874): 100%|██████████| 7/7 [00:05<00:00,  1.23it/s]\n",
      "Training (6145 / 18000 Steps) (loss=0.32818): 100%|██████████| 7/7 [00:05<00:00,  1.31it/s]\n",
      "Training (6152 / 18000 Steps) (loss=0.60782): 100%|██████████| 7/7 [00:05<00:00,  1.26it/s]\n",
      "Training (6159 / 18000 Steps) (loss=0.49196): 100%|██████████| 7/7 [00:05<00:00,  1.26it/s]\n",
      "Training (6166 / 18000 Steps) (loss=0.42889): 100%|██████████| 7/7 [00:05<00:00,  1.20it/s]\n",
      "Training (6173 / 18000 Steps) (loss=0.53696): 100%|██████████| 7/7 [00:05<00:00,  1.25it/s]\n",
      "Training (6180 / 18000 Steps) (loss=0.56303): 100%|██████████| 7/7 [00:05<00:00,  1.27it/s]\n",
      "Training (6187 / 18000 Steps) (loss=0.47559): 100%|██████████| 7/7 [00:05<00:00,  1.29it/s]\n",
      "Training (6194 / 18000 Steps) (loss=0.55202): 100%|██████████| 7/7 [00:05<00:00,  1.22it/s]\n",
      "Validate (6195 / 10 Steps): 100%|██████████| 2/2 [00:04<00:00,  2.15s/it]<00:01,  1.53it/s]\n",
      "Training (6200 / 18000 Steps) (loss=0.43679):  86%|████████▌ | 6/7 [00:09<00:02,  2.05s/it]"
     ]
    },
    {
     "name": "stdout",
     "output_type": "stream",
     "text": [
      "Model Was Not Saved ! Current Best Avg. Dice: 0.3208903670310974 Current Avg. Dice: 0.29286426305770874 Current Avg. tumor Dice: 0.3192999064922333 Current Avg. lymph Dice: 0.2664286196231842\n"
     ]
    },
    {
     "name": "stderr",
     "output_type": "stream",
     "text": [
      "Training (6201 / 18000 Steps) (loss=0.23701): 100%|██████████| 7/7 [00:09<00:00,  1.41s/it]\n",
      "Training (6208 / 18000 Steps) (loss=0.58778): 100%|██████████| 7/7 [00:05<00:00,  1.22it/s]\n",
      "Training (6215 / 18000 Steps) (loss=0.57335): 100%|██████████| 7/7 [00:05<00:00,  1.28it/s]\n",
      "Training (6222 / 18000 Steps) (loss=0.62232): 100%|██████████| 7/7 [00:05<00:00,  1.31it/s]\n",
      "Training (6229 / 18000 Steps) (loss=0.58440): 100%|██████████| 7/7 [00:05<00:00,  1.30it/s]\n",
      "Training (6236 / 18000 Steps) (loss=0.50425): 100%|██████████| 7/7 [00:05<00:00,  1.32it/s]\n",
      "Training (6243 / 18000 Steps) (loss=0.40544): 100%|██████████| 7/7 [00:05<00:00,  1.34it/s]\n",
      "Training (6250 / 18000 Steps) (loss=0.60181): 100%|██████████| 7/7 [00:05<00:00,  1.32it/s]\n",
      "Training (6257 / 18000 Steps) (loss=0.41767): 100%|██████████| 7/7 [00:05<00:00,  1.30it/s]\n",
      "Training (6264 / 18000 Steps) (loss=0.30267): 100%|██████████| 7/7 [00:05<00:00,  1.27it/s]\n",
      "Training (6271 / 18000 Steps) (loss=0.51477): 100%|██████████| 7/7 [00:05<00:00,  1.29it/s]\n",
      "Training (6278 / 18000 Steps) (loss=0.37154): 100%|██████████| 7/7 [00:05<00:00,  1.31it/s]\n",
      "Training (6285 / 18000 Steps) (loss=0.50634): 100%|██████████| 7/7 [00:05<00:00,  1.30it/s]\n",
      "Training (6292 / 18000 Steps) (loss=0.66757): 100%|██████████| 7/7 [00:05<00:00,  1.27it/s]\n",
      "Training (6299 / 18000 Steps) (loss=0.56489): 100%|██████████| 7/7 [00:05<00:00,  1.24it/s]\n",
      "Validate (6300 / 10 Steps): 100%|██████████| 2/2 [00:04<00:00,  2.11s/it]<?, ?it/s]\n",
      "Training (6300 / 18000 Steps) (loss=0.50817):  14%|█▍        | 1/7 [00:07<00:43,  7.29s/it]"
     ]
    },
    {
     "name": "stdout",
     "output_type": "stream",
     "text": [
      "Model Was Not Saved ! Current Best Avg. Dice: 0.3208903670310974 Current Avg. Dice: 0.31910741329193115 Current Avg. tumor Dice: 0.30673444271087646 Current Avg. lymph Dice: 0.3314804136753082\n"
     ]
    },
    {
     "name": "stderr",
     "output_type": "stream",
     "text": [
      "Training (6306 / 18000 Steps) (loss=0.49306): 100%|██████████| 7/7 [00:09<00:00,  1.38s/it]\n",
      "Training (6313 / 18000 Steps) (loss=0.38661): 100%|██████████| 7/7 [00:05<00:00,  1.29it/s]\n",
      "Training (6320 / 18000 Steps) (loss=0.60597): 100%|██████████| 7/7 [00:05<00:00,  1.27it/s]\n",
      "Training (6327 / 18000 Steps) (loss=0.42367): 100%|██████████| 7/7 [00:05<00:00,  1.29it/s]\n",
      "Training (6334 / 18000 Steps) (loss=0.40424): 100%|██████████| 7/7 [00:05<00:00,  1.35it/s]\n",
      "Training (6341 / 18000 Steps) (loss=0.29935): 100%|██████████| 7/7 [00:05<00:00,  1.35it/s]\n",
      "Training (6348 / 18000 Steps) (loss=0.18556): 100%|██████████| 7/7 [00:05<00:00,  1.30it/s]\n",
      "Training (6355 / 18000 Steps) (loss=0.33219): 100%|██████████| 7/7 [00:05<00:00,  1.27it/s]\n",
      "Training (6362 / 18000 Steps) (loss=0.46733): 100%|██████████| 7/7 [00:05<00:00,  1.26it/s]\n",
      "Training (6369 / 18000 Steps) (loss=0.50302): 100%|██████████| 7/7 [00:05<00:00,  1.23it/s]\n",
      "Training (6376 / 18000 Steps) (loss=0.55860): 100%|██████████| 7/7 [00:05<00:00,  1.29it/s]\n",
      "Training (6383 / 18000 Steps) (loss=0.61184): 100%|██████████| 7/7 [00:05<00:00,  1.26it/s]\n",
      "Training (6390 / 18000 Steps) (loss=0.48307): 100%|██████████| 7/7 [00:05<00:00,  1.29it/s]\n",
      "Training (6397 / 18000 Steps) (loss=0.42990): 100%|██████████| 7/7 [00:05<00:00,  1.29it/s]\n",
      "Validate (6398 / 10 Steps): 100%|██████████| 2/2 [00:04<00:00,  2.12s/it]<00:07,  1.55s/it]\n",
      "Training (6400 / 18000 Steps) (loss=0.42657):  43%|████▎     | 3/7 [00:08<00:11,  2.99s/it]"
     ]
    },
    {
     "name": "stdout",
     "output_type": "stream",
     "text": [
      "Model Was Not Saved ! Current Best Avg. Dice: 0.3208903670310974 Current Avg. Dice: 0.28242039680480957 Current Avg. tumor Dice: 0.30328696966171265 Current Avg. lymph Dice: 0.2615538239479065\n"
     ]
    },
    {
     "name": "stderr",
     "output_type": "stream",
     "text": [
      "Training (6404 / 18000 Steps) (loss=0.35657): 100%|██████████| 7/7 [00:09<00:00,  1.40s/it]\n",
      "Training (6411 / 18000 Steps) (loss=0.43981): 100%|██████████| 7/7 [00:05<00:00,  1.32it/s]\n",
      "Training (6418 / 18000 Steps) (loss=0.34560): 100%|██████████| 7/7 [00:05<00:00,  1.33it/s]\n",
      "Training (6425 / 18000 Steps) (loss=0.49255): 100%|██████████| 7/7 [00:05<00:00,  1.31it/s]\n",
      "Training (6432 / 18000 Steps) (loss=0.66791): 100%|██████████| 7/7 [00:05<00:00,  1.28it/s]\n",
      "Training (6439 / 18000 Steps) (loss=0.31824): 100%|██████████| 7/7 [00:05<00:00,  1.27it/s]\n",
      "Training (6446 / 18000 Steps) (loss=0.44705): 100%|██████████| 7/7 [00:05<00:00,  1.19it/s]\n",
      "Training (6453 / 18000 Steps) (loss=0.19405): 100%|██████████| 7/7 [00:05<00:00,  1.31it/s]\n",
      "Training (6460 / 18000 Steps) (loss=0.43721): 100%|██████████| 7/7 [00:05<00:00,  1.35it/s]\n",
      "Training (6467 / 18000 Steps) (loss=0.31234): 100%|██████████| 7/7 [00:05<00:00,  1.29it/s]\n",
      "Training (6474 / 18000 Steps) (loss=0.22201): 100%|██████████| 7/7 [00:05<00:00,  1.27it/s]\n",
      "Training (6481 / 18000 Steps) (loss=0.41028): 100%|██████████| 7/7 [00:05<00:00,  1.28it/s]\n",
      "Training (6488 / 18000 Steps) (loss=0.44083): 100%|██████████| 7/7 [00:05<00:00,  1.26it/s]\n",
      "Training (6495 / 18000 Steps) (loss=0.24795): 100%|██████████| 7/7 [00:05<00:00,  1.29it/s]\n",
      "Validate (6496 / 10 Steps): 100%|██████████| 2/2 [00:04<00:00,  2.11s/it]<00:02,  1.28it/s]\n",
      "Training (6500 / 18000 Steps) (loss=0.54803):  71%|███████▏  | 5/7 [00:09<00:04,  2.19s/it]"
     ]
    },
    {
     "name": "stdout",
     "output_type": "stream",
     "text": [
      "Model Was Not Saved ! Current Best Avg. Dice: 0.3208903670310974 Current Avg. Dice: 0.2799772620201111 Current Avg. tumor Dice: 0.28087785840034485 Current Avg. lymph Dice: 0.2790766656398773\n"
     ]
    },
    {
     "name": "stderr",
     "output_type": "stream",
     "text": [
      "Training (6502 / 18000 Steps) (loss=0.59209): 100%|██████████| 7/7 [00:09<00:00,  1.39s/it]\n",
      "Training (6509 / 18000 Steps) (loss=0.68136): 100%|██████████| 7/7 [00:05<00:00,  1.29it/s]\n",
      "Training (6516 / 18000 Steps) (loss=0.56120): 100%|██████████| 7/7 [00:05<00:00,  1.35it/s]\n",
      "Training (6523 / 18000 Steps) (loss=0.38412): 100%|██████████| 7/7 [00:05<00:00,  1.26it/s]\n",
      "Training (6530 / 18000 Steps) (loss=0.50268): 100%|██████████| 7/7 [00:05<00:00,  1.28it/s]\n",
      "Training (6537 / 18000 Steps) (loss=0.45835): 100%|██████████| 7/7 [00:05<00:00,  1.25it/s]\n",
      "Training (6544 / 18000 Steps) (loss=0.50428): 100%|██████████| 7/7 [00:05<00:00,  1.29it/s]\n",
      "Training (6551 / 18000 Steps) (loss=0.31382): 100%|██████████| 7/7 [00:05<00:00,  1.30it/s]\n",
      "Training (6558 / 18000 Steps) (loss=0.60985): 100%|██████████| 7/7 [00:05<00:00,  1.28it/s]\n",
      "Training (6565 / 18000 Steps) (loss=0.30380): 100%|██████████| 7/7 [00:05<00:00,  1.30it/s]\n",
      "Training (6572 / 18000 Steps) (loss=0.45284): 100%|██████████| 7/7 [00:05<00:00,  1.34it/s]\n",
      "Training (6579 / 18000 Steps) (loss=0.32191): 100%|██████████| 7/7 [00:05<00:00,  1.30it/s]\n",
      "Training (6586 / 18000 Steps) (loss=0.62561): 100%|██████████| 7/7 [00:05<00:00,  1.31it/s]\n",
      "Training (6593 / 18000 Steps) (loss=0.56120): 100%|██████████| 7/7 [00:05<00:00,  1.28it/s]\n",
      "Validate (6594 / 10 Steps): 100%|██████████| 2/2 [00:04<00:00,  2.11s/it]<00:00,  1.79it/s]\n",
      "Training (6600 / 18000 Steps) (loss=0.37936): 100%|██████████| 7/7 [00:09<00:00,  1.36s/it]\n"
     ]
    },
    {
     "name": "stdout",
     "output_type": "stream",
     "text": [
      "Model Was Not Saved ! Current Best Avg. Dice: 0.3208903670310974 Current Avg. Dice: 0.3133764863014221 Current Avg. tumor Dice: 0.32327595353126526 Current Avg. lymph Dice: 0.3034769892692566\n"
     ]
    },
    {
     "name": "stderr",
     "output_type": "stream",
     "text": [
      "Training (6607 / 18000 Steps) (loss=0.24051): 100%|██████████| 7/7 [00:05<00:00,  1.26it/s]\n",
      "Training (6614 / 18000 Steps) (loss=0.30624): 100%|██████████| 7/7 [00:05<00:00,  1.35it/s]\n",
      "Training (6621 / 18000 Steps) (loss=0.41353): 100%|██████████| 7/7 [00:05<00:00,  1.25it/s]\n",
      "Training (6628 / 18000 Steps) (loss=0.36535): 100%|██████████| 7/7 [00:05<00:00,  1.29it/s]\n",
      "Training (6635 / 18000 Steps) (loss=0.35528): 100%|██████████| 7/7 [00:05<00:00,  1.35it/s]\n",
      "Training (6642 / 18000 Steps) (loss=0.36303): 100%|██████████| 7/7 [00:05<00:00,  1.26it/s]\n",
      "Training (6649 / 18000 Steps) (loss=0.48760): 100%|██████████| 7/7 [00:05<00:00,  1.28it/s]\n",
      "Training (6656 / 18000 Steps) (loss=0.53465): 100%|██████████| 7/7 [00:05<00:00,  1.31it/s]\n",
      "Training (6663 / 18000 Steps) (loss=0.43822): 100%|██████████| 7/7 [00:05<00:00,  1.25it/s]\n",
      "Training (6670 / 18000 Steps) (loss=0.55951): 100%|██████████| 7/7 [00:05<00:00,  1.31it/s]\n",
      "Training (6677 / 18000 Steps) (loss=0.21669): 100%|██████████| 7/7 [00:05<00:00,  1.30it/s]\n",
      "Training (6684 / 18000 Steps) (loss=0.42663): 100%|██████████| 7/7 [00:05<00:00,  1.28it/s]\n",
      "Training (6691 / 18000 Steps) (loss=0.43246): 100%|██████████| 7/7 [00:05<00:00,  1.28it/s]\n",
      "Training (6698 / 18000 Steps) (loss=0.44066): 100%|██████████| 7/7 [00:05<00:00,  1.23it/s]\n",
      "Validate (6699 / 10 Steps): 100%|██████████| 2/2 [00:04<00:00,  2.15s/it]<00:18,  3.08s/it]\n",
      "Training (6700 / 18000 Steps) (loss=0.43971):  29%|██▊       | 2/7 [00:07<00:20,  4.08s/it]"
     ]
    },
    {
     "name": "stdout",
     "output_type": "stream",
     "text": [
      "Model Was Not Saved ! Current Best Avg. Dice: 0.3208903670310974 Current Avg. Dice: 0.3199916183948517 Current Avg. tumor Dice: 0.34857654571533203 Current Avg. lymph Dice: 0.2914067208766937\n"
     ]
    },
    {
     "name": "stderr",
     "output_type": "stream",
     "text": [
      "Training (6705 / 18000 Steps) (loss=0.32768): 100%|██████████| 7/7 [00:09<00:00,  1.40s/it]\n",
      "Training (6712 / 18000 Steps) (loss=0.17268): 100%|██████████| 7/7 [00:05<00:00,  1.30it/s]\n",
      "Training (6719 / 18000 Steps) (loss=0.51587): 100%|██████████| 7/7 [00:05<00:00,  1.29it/s]\n",
      "Training (6726 / 18000 Steps) (loss=0.43593): 100%|██████████| 7/7 [00:05<00:00,  1.31it/s]\n",
      "Training (6733 / 18000 Steps) (loss=0.69762): 100%|██████████| 7/7 [00:05<00:00,  1.29it/s]\n",
      "Training (6740 / 18000 Steps) (loss=0.51965): 100%|██████████| 7/7 [00:05<00:00,  1.26it/s]\n",
      "Training (6747 / 18000 Steps) (loss=0.24592): 100%|██████████| 7/7 [00:05<00:00,  1.33it/s]\n",
      "Training (6754 / 18000 Steps) (loss=0.55535): 100%|██████████| 7/7 [00:05<00:00,  1.34it/s]\n",
      "Training (6761 / 18000 Steps) (loss=0.48866): 100%|██████████| 7/7 [00:05<00:00,  1.31it/s]\n",
      "Training (6768 / 18000 Steps) (loss=0.27595): 100%|██████████| 7/7 [00:05<00:00,  1.33it/s]\n",
      "Training (6775 / 18000 Steps) (loss=0.61248): 100%|██████████| 7/7 [00:05<00:00,  1.31it/s]\n",
      "Training (6782 / 18000 Steps) (loss=0.29343): 100%|██████████| 7/7 [00:05<00:00,  1.34it/s]\n",
      "Training (6789 / 18000 Steps) (loss=0.45498): 100%|██████████| 7/7 [00:05<00:00,  1.24it/s]\n",
      "Training (6796 / 18000 Steps) (loss=0.55330): 100%|██████████| 7/7 [00:05<00:00,  1.32it/s]\n",
      "Validate (6797 / 10 Steps): 100%|██████████| 2/2 [00:04<00:00,  2.11s/it]<00:04,  1.05s/it]\n",
      "Training (6800 / 18000 Steps) (loss=0.55204):  57%|█████▋    | 4/7 [00:08<00:07,  2.49s/it]"
     ]
    },
    {
     "name": "stdout",
     "output_type": "stream",
     "text": [
      "Model Was Not Saved ! Current Best Avg. Dice: 0.3208903670310974 Current Avg. Dice: 0.3093491196632385 Current Avg. tumor Dice: 0.3405472934246063 Current Avg. lymph Dice: 0.2781509757041931\n"
     ]
    },
    {
     "name": "stderr",
     "output_type": "stream",
     "text": [
      "Training (6803 / 18000 Steps) (loss=0.36170): 100%|██████████| 7/7 [00:09<00:00,  1.42s/it]\n",
      "Training (6810 / 18000 Steps) (loss=0.64341): 100%|██████████| 7/7 [00:05<00:00,  1.31it/s]\n",
      "Training (6817 / 18000 Steps) (loss=0.34045): 100%|██████████| 7/7 [00:05<00:00,  1.33it/s]\n",
      "Training (6824 / 18000 Steps) (loss=0.63090): 100%|██████████| 7/7 [00:05<00:00,  1.23it/s]\n",
      "Training (6831 / 18000 Steps) (loss=0.36574): 100%|██████████| 7/7 [00:05<00:00,  1.24it/s]\n",
      "Training (6838 / 18000 Steps) (loss=0.44393): 100%|██████████| 7/7 [00:05<00:00,  1.31it/s]\n",
      "Training (6845 / 18000 Steps) (loss=0.36367): 100%|██████████| 7/7 [00:05<00:00,  1.29it/s]\n",
      "Training (6852 / 18000 Steps) (loss=0.31266): 100%|██████████| 7/7 [00:05<00:00,  1.29it/s]\n",
      "Training (6859 / 18000 Steps) (loss=0.56037): 100%|██████████| 7/7 [00:05<00:00,  1.33it/s]\n",
      "Training (6866 / 18000 Steps) (loss=0.48950): 100%|██████████| 7/7 [00:05<00:00,  1.30it/s]\n",
      "Training (6873 / 18000 Steps) (loss=0.62492): 100%|██████████| 7/7 [00:05<00:00,  1.31it/s]\n",
      "Training (6880 / 18000 Steps) (loss=0.43560): 100%|██████████| 7/7 [00:05<00:00,  1.36it/s]\n",
      "Training (6887 / 18000 Steps) (loss=0.42406): 100%|██████████| 7/7 [00:05<00:00,  1.37it/s]\n",
      "Training (6894 / 18000 Steps) (loss=0.43239): 100%|██████████| 7/7 [00:05<00:00,  1.30it/s]\n",
      "Validate (6895 / 10 Steps): 100%|██████████| 2/2 [00:04<00:00,  2.15s/it]<00:01,  1.52it/s]\n",
      "Training (6900 / 18000 Steps) (loss=0.43341):  86%|████████▌ | 6/7 [00:10<00:02,  2.28s/it]"
     ]
    },
    {
     "name": "stdout",
     "output_type": "stream",
     "text": [
      "Model Was Saved ! Current Best Avg. Dice: 0.3794255256652832 Current Avg. Dice: 0.3794255256652832 Current Avg. tumor Dice: 0.4031352996826172 Current Avg. lymph Dice: 0.355715811252594\n"
     ]
    },
    {
     "name": "stderr",
     "output_type": "stream",
     "text": [
      "Training (6901 / 18000 Steps) (loss=0.61012): 100%|██████████| 7/7 [00:10<00:00,  1.51s/it]\n",
      "Training (6908 / 18000 Steps) (loss=0.42159): 100%|██████████| 7/7 [00:05<00:00,  1.26it/s]\n",
      "Training (6915 / 18000 Steps) (loss=0.48761): 100%|██████████| 7/7 [00:05<00:00,  1.25it/s]\n",
      "Training (6922 / 18000 Steps) (loss=0.50354): 100%|██████████| 7/7 [00:05<00:00,  1.26it/s]\n",
      "Training (6929 / 18000 Steps) (loss=0.49962): 100%|██████████| 7/7 [00:05<00:00,  1.25it/s]\n",
      "Training (6936 / 18000 Steps) (loss=0.37119): 100%|██████████| 7/7 [00:05<00:00,  1.32it/s]\n",
      "Training (6943 / 18000 Steps) (loss=0.60733): 100%|██████████| 7/7 [00:05<00:00,  1.29it/s]\n",
      "Training (6950 / 18000 Steps) (loss=0.40458): 100%|██████████| 7/7 [00:05<00:00,  1.26it/s]\n",
      "Training (6957 / 18000 Steps) (loss=0.63857): 100%|██████████| 7/7 [00:05<00:00,  1.30it/s]\n",
      "Training (6964 / 18000 Steps) (loss=0.44464): 100%|██████████| 7/7 [00:05<00:00,  1.35it/s]\n",
      "Training (6971 / 18000 Steps) (loss=0.44664): 100%|██████████| 7/7 [00:05<00:00,  1.30it/s]\n",
      "Training (6978 / 18000 Steps) (loss=0.35565): 100%|██████████| 7/7 [00:05<00:00,  1.36it/s]\n",
      "Training (6985 / 18000 Steps) (loss=0.34762): 100%|██████████| 7/7 [00:05<00:00,  1.32it/s]\n",
      "Training (6992 / 18000 Steps) (loss=0.31138): 100%|██████████| 7/7 [00:05<00:00,  1.32it/s]\n",
      "Training (6999 / 18000 Steps) (loss=0.45190): 100%|██████████| 7/7 [00:05<00:00,  1.30it/s]\n",
      "Validate (7000 / 10 Steps): 100%|██████████| 2/2 [00:04<00:00,  2.13s/it]<?, ?it/s]\n",
      "Training (7000 / 18000 Steps) (loss=0.28342):  14%|█▍        | 1/7 [00:07<00:44,  7.42s/it]"
     ]
    },
    {
     "name": "stdout",
     "output_type": "stream",
     "text": [
      "Model Was Not Saved ! Current Best Avg. Dice: 0.3794255256652832 Current Avg. Dice: 0.31701821088790894 Current Avg. tumor Dice: 0.31629082560539246 Current Avg. lymph Dice: 0.3177456259727478\n"
     ]
    },
    {
     "name": "stderr",
     "output_type": "stream",
     "text": [
      "Training (7006 / 18000 Steps) (loss=0.52047): 100%|██████████| 7/7 [00:09<00:00,  1.41s/it]\n",
      "Training (7013 / 18000 Steps) (loss=0.31645): 100%|██████████| 7/7 [00:05<00:00,  1.34it/s]\n",
      "Training (7020 / 18000 Steps) (loss=0.32057): 100%|██████████| 7/7 [00:05<00:00,  1.27it/s]\n",
      "Training (7027 / 18000 Steps) (loss=0.39062): 100%|██████████| 7/7 [00:05<00:00,  1.30it/s]\n",
      "Training (7034 / 18000 Steps) (loss=0.46758): 100%|██████████| 7/7 [00:05<00:00,  1.29it/s]\n",
      "Training (7041 / 18000 Steps) (loss=0.48000): 100%|██████████| 7/7 [00:05<00:00,  1.27it/s]\n",
      "Training (7048 / 18000 Steps) (loss=0.36882): 100%|██████████| 7/7 [00:05<00:00,  1.31it/s]\n",
      "Training (7055 / 18000 Steps) (loss=0.41153): 100%|██████████| 7/7 [00:05<00:00,  1.29it/s]\n",
      "Training (7062 / 18000 Steps) (loss=0.53107): 100%|██████████| 7/7 [00:05<00:00,  1.28it/s]\n",
      "Training (7069 / 18000 Steps) (loss=0.24568): 100%|██████████| 7/7 [00:05<00:00,  1.31it/s]\n",
      "Training (7076 / 18000 Steps) (loss=0.52438): 100%|██████████| 7/7 [00:05<00:00,  1.29it/s]\n",
      "Training (7083 / 18000 Steps) (loss=0.22006): 100%|██████████| 7/7 [00:05<00:00,  1.29it/s]\n",
      "Training (7090 / 18000 Steps) (loss=0.55322): 100%|██████████| 7/7 [00:05<00:00,  1.31it/s]\n",
      "Training (7097 / 18000 Steps) (loss=0.55540): 100%|██████████| 7/7 [00:05<00:00,  1.33it/s]\n",
      "Validate (7098 / 10 Steps): 100%|██████████| 2/2 [00:04<00:00,  2.13s/it]<00:07,  1.49s/it]\n",
      "Training (7100 / 18000 Steps) (loss=0.34549):  43%|████▎     | 3/7 [00:08<00:11,  2.97s/it]"
     ]
    },
    {
     "name": "stdout",
     "output_type": "stream",
     "text": [
      "Model Was Not Saved ! Current Best Avg. Dice: 0.3794255256652832 Current Avg. Dice: 0.2912709414958954 Current Avg. tumor Dice: 0.2891481816768646 Current Avg. lymph Dice: 0.29339367151260376\n"
     ]
    },
    {
     "name": "stderr",
     "output_type": "stream",
     "text": [
      "Training (7104 / 18000 Steps) (loss=0.37677): 100%|██████████| 7/7 [00:09<00:00,  1.39s/it]\n",
      "Training (7111 / 18000 Steps) (loss=0.67247): 100%|██████████| 7/7 [00:05<00:00,  1.28it/s]\n",
      "Training (7118 / 18000 Steps) (loss=0.21612): 100%|██████████| 7/7 [00:05<00:00,  1.26it/s]\n",
      "Training (7125 / 18000 Steps) (loss=0.30225): 100%|██████████| 7/7 [00:05<00:00,  1.28it/s]\n",
      "Training (7132 / 18000 Steps) (loss=0.54068): 100%|██████████| 7/7 [00:05<00:00,  1.30it/s]\n",
      "Training (7139 / 18000 Steps) (loss=0.58288): 100%|██████████| 7/7 [00:05<00:00,  1.29it/s]\n",
      "Training (7146 / 18000 Steps) (loss=0.43917): 100%|██████████| 7/7 [00:05<00:00,  1.27it/s]\n",
      "Training (7153 / 18000 Steps) (loss=0.46634): 100%|██████████| 7/7 [00:05<00:00,  1.26it/s]\n",
      "Training (7160 / 18000 Steps) (loss=0.33479): 100%|██████████| 7/7 [00:05<00:00,  1.31it/s]\n",
      "Training (7167 / 18000 Steps) (loss=0.38904): 100%|██████████| 7/7 [00:05<00:00,  1.29it/s]\n",
      "Training (7174 / 18000 Steps) (loss=0.49529): 100%|██████████| 7/7 [00:05<00:00,  1.28it/s]\n",
      "Training (7181 / 18000 Steps) (loss=0.35021): 100%|██████████| 7/7 [00:05<00:00,  1.29it/s]\n",
      "Training (7188 / 18000 Steps) (loss=0.39233): 100%|██████████| 7/7 [00:05<00:00,  1.30it/s]\n",
      "Training (7195 / 18000 Steps) (loss=0.29820): 100%|██████████| 7/7 [00:05<00:00,  1.25it/s]\n",
      "Validate (7196 / 10 Steps): 100%|██████████| 2/2 [00:04<00:00,  2.08s/it]<00:02,  1.35it/s]\n",
      "Training (7200 / 18000 Steps) (loss=0.50913):  71%|███████▏  | 5/7 [00:08<00:04,  2.15s/it]"
     ]
    },
    {
     "name": "stdout",
     "output_type": "stream",
     "text": [
      "Model Was Not Saved ! Current Best Avg. Dice: 0.3794255256652832 Current Avg. Dice: 0.3021354377269745 Current Avg. tumor Dice: 0.28569382429122925 Current Avg. lymph Dice: 0.3185770809650421\n"
     ]
    },
    {
     "name": "stderr",
     "output_type": "stream",
     "text": [
      "Training (7202 / 18000 Steps) (loss=0.29483): 100%|██████████| 7/7 [00:09<00:00,  1.35s/it]\n",
      "Training (7209 / 18000 Steps) (loss=0.43921): 100%|██████████| 7/7 [00:05<00:00,  1.35it/s]\n",
      "Training (7216 / 18000 Steps) (loss=0.42154): 100%|██████████| 7/7 [00:05<00:00,  1.30it/s]\n",
      "Training (7223 / 18000 Steps) (loss=0.63536): 100%|██████████| 7/7 [00:05<00:00,  1.29it/s]\n",
      "Training (7230 / 18000 Steps) (loss=0.37712): 100%|██████████| 7/7 [00:05<00:00,  1.37it/s]\n",
      "Training (7237 / 18000 Steps) (loss=0.25746): 100%|██████████| 7/7 [00:05<00:00,  1.25it/s]\n",
      "Training (7244 / 18000 Steps) (loss=0.50258): 100%|██████████| 7/7 [00:05<00:00,  1.24it/s]\n",
      "Training (7251 / 18000 Steps) (loss=0.43664): 100%|██████████| 7/7 [00:05<00:00,  1.30it/s]\n",
      "Training (7258 / 18000 Steps) (loss=0.45733): 100%|██████████| 7/7 [00:05<00:00,  1.27it/s]\n",
      "Training (7265 / 18000 Steps) (loss=0.54290): 100%|██████████| 7/7 [00:05<00:00,  1.24it/s]\n",
      "Training (7272 / 18000 Steps) (loss=0.50120): 100%|██████████| 7/7 [00:05<00:00,  1.30it/s]\n",
      "Training (7279 / 18000 Steps) (loss=0.49406): 100%|██████████| 7/7 [00:05<00:00,  1.25it/s]\n",
      "Training (7286 / 18000 Steps) (loss=0.41285): 100%|██████████| 7/7 [00:05<00:00,  1.32it/s]\n",
      "Training (7293 / 18000 Steps) (loss=0.37145): 100%|██████████| 7/7 [00:05<00:00,  1.24it/s]\n",
      "Validate (7294 / 10 Steps): 100%|██████████| 2/2 [00:04<00:00,  2.11s/it]<00:00,  1.76it/s]\n",
      "Training (7300 / 18000 Steps) (loss=0.36089): 100%|██████████| 7/7 [00:09<00:00,  1.39s/it]\n"
     ]
    },
    {
     "name": "stdout",
     "output_type": "stream",
     "text": [
      "Model Was Not Saved ! Current Best Avg. Dice: 0.3794255256652832 Current Avg. Dice: 0.33647972345352173 Current Avg. tumor Dice: 0.35039088129997253 Current Avg. lymph Dice: 0.3225686252117157\n"
     ]
    },
    {
     "name": "stderr",
     "output_type": "stream",
     "text": [
      "Training (7307 / 18000 Steps) (loss=0.33291): 100%|██████████| 7/7 [00:05<00:00,  1.23it/s]\n",
      "Training (7314 / 18000 Steps) (loss=0.30865): 100%|██████████| 7/7 [00:05<00:00,  1.38it/s]\n",
      "Training (7321 / 18000 Steps) (loss=0.32964): 100%|██████████| 7/7 [00:05<00:00,  1.30it/s]\n",
      "Training (7328 / 18000 Steps) (loss=0.23445): 100%|██████████| 7/7 [00:05<00:00,  1.32it/s]\n",
      "Training (7335 / 18000 Steps) (loss=0.66898): 100%|██████████| 7/7 [00:05<00:00,  1.32it/s]\n",
      "Training (7342 / 18000 Steps) (loss=0.57399): 100%|██████████| 7/7 [00:05<00:00,  1.34it/s]\n",
      "Training (7349 / 18000 Steps) (loss=0.31163): 100%|██████████| 7/7 [00:05<00:00,  1.28it/s]\n",
      "Training (7356 / 18000 Steps) (loss=0.48886): 100%|██████████| 7/7 [00:05<00:00,  1.35it/s]\n",
      "Training (7363 / 18000 Steps) (loss=0.42489): 100%|██████████| 7/7 [00:05<00:00,  1.34it/s]\n",
      "Training (7370 / 18000 Steps) (loss=0.61959): 100%|██████████| 7/7 [00:05<00:00,  1.33it/s]\n",
      "Training (7377 / 18000 Steps) (loss=0.54155): 100%|██████████| 7/7 [00:05<00:00,  1.30it/s]\n",
      "Training (7384 / 18000 Steps) (loss=0.31403): 100%|██████████| 7/7 [00:05<00:00,  1.25it/s]\n",
      "Training (7391 / 18000 Steps) (loss=0.35636): 100%|██████████| 7/7 [00:05<00:00,  1.29it/s]\n",
      "Training (7398 / 18000 Steps) (loss=0.30390): 100%|██████████| 7/7 [00:05<00:00,  1.30it/s]\n",
      "Validate (7399 / 10 Steps): 100%|██████████| 2/2 [00:04<00:00,  2.10s/it]<00:19,  3.18s/it]\n",
      "Training (7400 / 18000 Steps) (loss=0.37767):  29%|██▊       | 2/7 [00:07<00:20,  4.06s/it]"
     ]
    },
    {
     "name": "stdout",
     "output_type": "stream",
     "text": [
      "Model Was Not Saved ! Current Best Avg. Dice: 0.3794255256652832 Current Avg. Dice: 0.28339260816574097 Current Avg. tumor Dice: 0.3032917380332947 Current Avg. lymph Dice: 0.26349344849586487\n"
     ]
    },
    {
     "name": "stderr",
     "output_type": "stream",
     "text": [
      "Training (7405 / 18000 Steps) (loss=0.39816): 100%|██████████| 7/7 [00:09<00:00,  1.41s/it]\n",
      "Training (7412 / 18000 Steps) (loss=0.37304): 100%|██████████| 7/7 [00:05<00:00,  1.25it/s]\n",
      "Training (7419 / 18000 Steps) (loss=0.15376): 100%|██████████| 7/7 [00:05<00:00,  1.34it/s]\n",
      "Training (7426 / 18000 Steps) (loss=0.53863): 100%|██████████| 7/7 [00:05<00:00,  1.35it/s]\n",
      "Training (7433 / 18000 Steps) (loss=0.32722): 100%|██████████| 7/7 [00:05<00:00,  1.36it/s]\n",
      "Training (7440 / 18000 Steps) (loss=0.34387): 100%|██████████| 7/7 [00:05<00:00,  1.38it/s]\n",
      "Training (7447 / 18000 Steps) (loss=0.55512): 100%|██████████| 7/7 [00:05<00:00,  1.31it/s]\n",
      "Training (7454 / 18000 Steps) (loss=0.31207): 100%|██████████| 7/7 [00:05<00:00,  1.24it/s]\n",
      "Training (7461 / 18000 Steps) (loss=0.53509): 100%|██████████| 7/7 [00:05<00:00,  1.28it/s]\n",
      "Training (7468 / 18000 Steps) (loss=0.57784): 100%|██████████| 7/7 [00:05<00:00,  1.25it/s]\n",
      "Training (7475 / 18000 Steps) (loss=0.47211): 100%|██████████| 7/7 [00:05<00:00,  1.27it/s]\n",
      "Training (7482 / 18000 Steps) (loss=0.39780): 100%|██████████| 7/7 [00:05<00:00,  1.33it/s]\n",
      "Training (7489 / 18000 Steps) (loss=0.32861): 100%|██████████| 7/7 [00:05<00:00,  1.29it/s]\n",
      "Training (7496 / 18000 Steps) (loss=0.39842): 100%|██████████| 7/7 [00:05<00:00,  1.26it/s]\n",
      "Validate (7497 / 10 Steps): 100%|██████████| 2/2 [00:04<00:00,  2.08s/it]<00:04,  1.01s/it]\n",
      "Training (7500 / 18000 Steps) (loss=0.51878):  57%|█████▋    | 4/7 [00:08<00:07,  2.44s/it]"
     ]
    },
    {
     "name": "stdout",
     "output_type": "stream",
     "text": [
      "Model Was Not Saved ! Current Best Avg. Dice: 0.3794255256652832 Current Avg. Dice: 0.3064936101436615 Current Avg. tumor Dice: 0.2989993691444397 Current Avg. lymph Dice: 0.3139878511428833\n"
     ]
    },
    {
     "name": "stderr",
     "output_type": "stream",
     "text": [
      "Training (7503 / 18000 Steps) (loss=0.53226): 100%|██████████| 7/7 [00:09<00:00,  1.39s/it]\n",
      "Training (7510 / 18000 Steps) (loss=0.50482): 100%|██████████| 7/7 [00:05<00:00,  1.25it/s]\n",
      "Training (7517 / 18000 Steps) (loss=0.42273): 100%|██████████| 7/7 [00:05<00:00,  1.25it/s]\n",
      "Training (7524 / 18000 Steps) (loss=0.32461): 100%|██████████| 7/7 [00:05<00:00,  1.32it/s]\n",
      "Training (7531 / 18000 Steps) (loss=0.51710): 100%|██████████| 7/7 [00:05<00:00,  1.33it/s]\n",
      "Training (7538 / 18000 Steps) (loss=0.44411): 100%|██████████| 7/7 [00:05<00:00,  1.35it/s]\n",
      "Training (7545 / 18000 Steps) (loss=0.48896): 100%|██████████| 7/7 [00:05<00:00,  1.30it/s]\n",
      "Training (7552 / 18000 Steps) (loss=0.61541): 100%|██████████| 7/7 [00:05<00:00,  1.29it/s]\n",
      "Training (7559 / 18000 Steps) (loss=0.31791): 100%|██████████| 7/7 [00:05<00:00,  1.25it/s]\n",
      "Training (7566 / 18000 Steps) (loss=0.32582): 100%|██████████| 7/7 [00:05<00:00,  1.31it/s]\n",
      "Training (7573 / 18000 Steps) (loss=0.21030): 100%|██████████| 7/7 [00:05<00:00,  1.31it/s]\n",
      "Training (7580 / 18000 Steps) (loss=0.39498): 100%|██████████| 7/7 [00:05<00:00,  1.35it/s]\n",
      "Training (7587 / 18000 Steps) (loss=0.59369): 100%|██████████| 7/7 [00:05<00:00,  1.31it/s]\n",
      "Training (7594 / 18000 Steps) (loss=0.56106): 100%|██████████| 7/7 [00:05<00:00,  1.31it/s]\n",
      "Validate (7595 / 10 Steps): 100%|██████████| 2/2 [00:04<00:00,  2.11s/it]<00:01,  1.60it/s]\n",
      "Training (7600 / 18000 Steps) (loss=0.42085):  86%|████████▌ | 6/7 [00:09<00:02,  2.00s/it]"
     ]
    },
    {
     "name": "stdout",
     "output_type": "stream",
     "text": [
      "Model Was Not Saved ! Current Best Avg. Dice: 0.3794255256652832 Current Avg. Dice: 0.3240105211734772 Current Avg. tumor Dice: 0.3613951802253723 Current Avg. lymph Dice: 0.28662586212158203\n"
     ]
    },
    {
     "name": "stderr",
     "output_type": "stream",
     "text": [
      "Training (7601 / 18000 Steps) (loss=0.42700): 100%|██████████| 7/7 [00:09<00:00,  1.35s/it]\n",
      "Training (7608 / 18000 Steps) (loss=0.44689): 100%|██████████| 7/7 [00:05<00:00,  1.29it/s]\n",
      "Training (7615 / 18000 Steps) (loss=0.38984): 100%|██████████| 7/7 [00:05<00:00,  1.25it/s]\n",
      "Training (7622 / 18000 Steps) (loss=0.38967): 100%|██████████| 7/7 [00:05<00:00,  1.35it/s]\n",
      "Training (7629 / 18000 Steps) (loss=0.60146): 100%|██████████| 7/7 [00:05<00:00,  1.25it/s]\n",
      "Training (7636 / 18000 Steps) (loss=0.47107): 100%|██████████| 7/7 [00:05<00:00,  1.33it/s]\n",
      "Training (7643 / 18000 Steps) (loss=0.64505): 100%|██████████| 7/7 [00:05<00:00,  1.36it/s]\n",
      "Training (7650 / 18000 Steps) (loss=0.49374): 100%|██████████| 7/7 [00:05<00:00,  1.39it/s]\n",
      "Training (7657 / 18000 Steps) (loss=0.52261): 100%|██████████| 7/7 [00:05<00:00,  1.32it/s]\n",
      "Training (7664 / 18000 Steps) (loss=0.54247): 100%|██████████| 7/7 [00:05<00:00,  1.27it/s]\n",
      "Training (7671 / 18000 Steps) (loss=0.29284): 100%|██████████| 7/7 [00:05<00:00,  1.30it/s]\n",
      "Training (7678 / 18000 Steps) (loss=0.50505): 100%|██████████| 7/7 [00:05<00:00,  1.26it/s]\n",
      "Training (7685 / 18000 Steps) (loss=0.55425): 100%|██████████| 7/7 [00:05<00:00,  1.27it/s]\n",
      "Training (7692 / 18000 Steps) (loss=0.39272): 100%|██████████| 7/7 [00:05<00:00,  1.36it/s]\n",
      "Training (7699 / 18000 Steps) (loss=0.59546): 100%|██████████| 7/7 [00:05<00:00,  1.26it/s]\n",
      "Validate (7700 / 10 Steps): 100%|██████████| 2/2 [00:04<00:00,  2.11s/it]<?, ?it/s]\n",
      "Training (7700 / 18000 Steps) (loss=0.50884):  14%|█▍        | 1/7 [00:07<00:43,  7.24s/it]"
     ]
    },
    {
     "name": "stdout",
     "output_type": "stream",
     "text": [
      "Model Was Not Saved ! Current Best Avg. Dice: 0.3794255256652832 Current Avg. Dice: 0.3191426992416382 Current Avg. tumor Dice: 0.3296228349208832 Current Avg. lymph Dice: 0.3086625337600708\n"
     ]
    },
    {
     "name": "stderr",
     "output_type": "stream",
     "text": [
      "Training (7706 / 18000 Steps) (loss=0.41906): 100%|██████████| 7/7 [00:09<00:00,  1.38s/it]\n",
      "Training (7713 / 18000 Steps) (loss=0.48628): 100%|██████████| 7/7 [00:05<00:00,  1.30it/s]\n",
      "Training (7720 / 18000 Steps) (loss=0.36659): 100%|██████████| 7/7 [00:05<00:00,  1.28it/s]\n",
      "Training (7727 / 18000 Steps) (loss=0.37798): 100%|██████████| 7/7 [00:05<00:00,  1.27it/s]\n",
      "Training (7734 / 18000 Steps) (loss=0.54842): 100%|██████████| 7/7 [00:05<00:00,  1.36it/s]\n",
      "Training (7741 / 18000 Steps) (loss=0.20426): 100%|██████████| 7/7 [00:05<00:00,  1.29it/s]\n",
      "Training (7748 / 18000 Steps) (loss=0.50984): 100%|██████████| 7/7 [00:05<00:00,  1.36it/s]\n",
      "Training (7755 / 18000 Steps) (loss=0.24142): 100%|██████████| 7/7 [00:05<00:00,  1.34it/s]\n",
      "Training (7762 / 18000 Steps) (loss=0.55116): 100%|██████████| 7/7 [00:05<00:00,  1.22it/s]\n",
      "Training (7769 / 18000 Steps) (loss=0.61408): 100%|██████████| 7/7 [00:05<00:00,  1.29it/s]\n",
      "Training (7776 / 18000 Steps) (loss=0.46527): 100%|██████████| 7/7 [00:05<00:00,  1.32it/s]\n",
      "Training (7783 / 18000 Steps) (loss=0.43024): 100%|██████████| 7/7 [00:05<00:00,  1.29it/s]\n",
      "Training (7790 / 18000 Steps) (loss=0.27322): 100%|██████████| 7/7 [00:05<00:00,  1.28it/s]\n",
      "Training (7797 / 18000 Steps) (loss=0.58318): 100%|██████████| 7/7 [00:05<00:00,  1.33it/s]\n",
      "Validate (7798 / 10 Steps): 100%|██████████| 2/2 [00:04<00:00,  2.15s/it]<00:06,  1.39s/it]\n",
      "Training (7800 / 18000 Steps) (loss=0.36215):  43%|████▎     | 3/7 [00:07<00:11,  2.93s/it]"
     ]
    },
    {
     "name": "stdout",
     "output_type": "stream",
     "text": [
      "Model Was Not Saved ! Current Best Avg. Dice: 0.3794255256652832 Current Avg. Dice: 0.3128414750099182 Current Avg. tumor Dice: 0.31100547313690186 Current Avg. lymph Dice: 0.3146774470806122\n"
     ]
    },
    {
     "name": "stderr",
     "output_type": "stream",
     "text": [
      "Training (7804 / 18000 Steps) (loss=0.54107): 100%|██████████| 7/7 [00:09<00:00,  1.36s/it]\n",
      "Training (7811 / 18000 Steps) (loss=0.46308): 100%|██████████| 7/7 [00:05<00:00,  1.32it/s]\n",
      "Training (7818 / 18000 Steps) (loss=0.40969): 100%|██████████| 7/7 [00:05<00:00,  1.24it/s]\n",
      "Training (7825 / 18000 Steps) (loss=0.42945): 100%|██████████| 7/7 [00:05<00:00,  1.32it/s]\n",
      "Training (7832 / 18000 Steps) (loss=0.35915): 100%|██████████| 7/7 [00:05<00:00,  1.26it/s]\n",
      "Training (7839 / 18000 Steps) (loss=0.66850): 100%|██████████| 7/7 [00:05<00:00,  1.34it/s]\n",
      "Training (7846 / 18000 Steps) (loss=0.31802): 100%|██████████| 7/7 [00:05<00:00,  1.33it/s]\n",
      "Training (7853 / 18000 Steps) (loss=0.25069): 100%|██████████| 7/7 [00:05<00:00,  1.31it/s]\n",
      "Training (7860 / 18000 Steps) (loss=0.49047): 100%|██████████| 7/7 [00:05<00:00,  1.34it/s]\n",
      "Training (7867 / 18000 Steps) (loss=0.37542): 100%|██████████| 7/7 [00:05<00:00,  1.35it/s]\n",
      "Training (7874 / 18000 Steps) (loss=0.37955): 100%|██████████| 7/7 [00:05<00:00,  1.34it/s]\n",
      "Training (7881 / 18000 Steps) (loss=0.64661): 100%|██████████| 7/7 [00:05<00:00,  1.32it/s]\n",
      "Training (7888 / 18000 Steps) (loss=0.54109): 100%|██████████| 7/7 [00:05<00:00,  1.28it/s]\n",
      "Training (7895 / 18000 Steps) (loss=0.37113): 100%|██████████| 7/7 [00:05<00:00,  1.27it/s]\n",
      "Validate (7896 / 10 Steps): 100%|██████████| 2/2 [00:04<00:00,  2.21s/it]<00:02,  1.35it/s]\n",
      "Training (7900 / 18000 Steps) (loss=0.42210):  71%|███████▏  | 5/7 [00:08<00:04,  2.24s/it]"
     ]
    },
    {
     "name": "stdout",
     "output_type": "stream",
     "text": [
      "Model Was Not Saved ! Current Best Avg. Dice: 0.3794255256652832 Current Avg. Dice: 0.3615744113922119 Current Avg. tumor Dice: 0.37845587730407715 Current Avg. lymph Dice: 0.3446929454803467\n"
     ]
    },
    {
     "name": "stderr",
     "output_type": "stream",
     "text": [
      "Training (7902 / 18000 Steps) (loss=0.40135): 100%|██████████| 7/7 [00:09<00:00,  1.38s/it]\n",
      "Training (7909 / 18000 Steps) (loss=0.38661): 100%|██████████| 7/7 [00:05<00:00,  1.32it/s]\n",
      "Training (7916 / 18000 Steps) (loss=0.39335): 100%|██████████| 7/7 [00:05<00:00,  1.33it/s]\n",
      "Training (7923 / 18000 Steps) (loss=0.24307): 100%|██████████| 7/7 [00:05<00:00,  1.26it/s]\n",
      "Training (7930 / 18000 Steps) (loss=0.36482): 100%|██████████| 7/7 [00:05<00:00,  1.28it/s]\n",
      "Training (7937 / 18000 Steps) (loss=0.62748): 100%|██████████| 7/7 [00:05<00:00,  1.31it/s]\n",
      "Training (7944 / 18000 Steps) (loss=0.40899): 100%|██████████| 7/7 [00:05<00:00,  1.37it/s]\n",
      "Training (7951 / 18000 Steps) (loss=0.39582): 100%|██████████| 7/7 [00:05<00:00,  1.26it/s]\n",
      "Training (7958 / 18000 Steps) (loss=0.48110): 100%|██████████| 7/7 [00:05<00:00,  1.29it/s]\n",
      "Training (7965 / 18000 Steps) (loss=0.17010): 100%|██████████| 7/7 [00:05<00:00,  1.38it/s]\n",
      "Training (7972 / 18000 Steps) (loss=0.61053): 100%|██████████| 7/7 [00:05<00:00,  1.30it/s]\n",
      "Training (7979 / 18000 Steps) (loss=0.47676): 100%|██████████| 7/7 [00:05<00:00,  1.31it/s]\n",
      "Training (7986 / 18000 Steps) (loss=0.64542): 100%|██████████| 7/7 [00:05<00:00,  1.33it/s]\n",
      "Training (7993 / 18000 Steps) (loss=0.67493): 100%|██████████| 7/7 [00:05<00:00,  1.33it/s]\n",
      "Validate (7994 / 10 Steps): 100%|██████████| 2/2 [00:04<00:00,  2.11s/it]<00:00,  1.75it/s]\n",
      "Training (8000 / 18000 Steps) (loss=0.37605): 100%|██████████| 7/7 [00:09<00:00,  1.41s/it]\n"
     ]
    },
    {
     "name": "stdout",
     "output_type": "stream",
     "text": [
      "Model Was Not Saved ! Current Best Avg. Dice: 0.3794255256652832 Current Avg. Dice: 0.33204546570777893 Current Avg. tumor Dice: 0.38298705220222473 Current Avg. lymph Dice: 0.28110384941101074\n"
     ]
    },
    {
     "name": "stderr",
     "output_type": "stream",
     "text": [
      "Training (8007 / 18000 Steps) (loss=0.33808): 100%|██████████| 7/7 [00:05<00:00,  1.30it/s]\n",
      "Training (8014 / 18000 Steps) (loss=0.48234): 100%|██████████| 7/7 [00:05<00:00,  1.25it/s]\n",
      "Training (8021 / 18000 Steps) (loss=0.45163): 100%|██████████| 7/7 [00:05<00:00,  1.22it/s]\n",
      "Training (8028 / 18000 Steps) (loss=0.45829): 100%|██████████| 7/7 [00:05<00:00,  1.28it/s]\n",
      "Training (8035 / 18000 Steps) (loss=0.49647): 100%|██████████| 7/7 [00:05<00:00,  1.30it/s]\n",
      "Training (8042 / 18000 Steps) (loss=0.36244): 100%|██████████| 7/7 [00:05<00:00,  1.26it/s]\n",
      "Training (8049 / 18000 Steps) (loss=0.68159): 100%|██████████| 7/7 [00:05<00:00,  1.30it/s]\n",
      "Training (8056 / 18000 Steps) (loss=0.42579): 100%|██████████| 7/7 [00:05<00:00,  1.26it/s]\n",
      "Training (8063 / 18000 Steps) (loss=0.55496): 100%|██████████| 7/7 [00:05<00:00,  1.28it/s]\n",
      "Training (8070 / 18000 Steps) (loss=0.34840): 100%|██████████| 7/7 [00:05<00:00,  1.30it/s]\n",
      "Training (8077 / 18000 Steps) (loss=0.29667): 100%|██████████| 7/7 [00:05<00:00,  1.28it/s]\n",
      "Training (8084 / 18000 Steps) (loss=0.37220): 100%|██████████| 7/7 [00:05<00:00,  1.30it/s]\n",
      "Training (8091 / 18000 Steps) (loss=0.45177): 100%|██████████| 7/7 [00:05<00:00,  1.35it/s]\n",
      "Training (8098 / 18000 Steps) (loss=0.43294): 100%|██████████| 7/7 [00:05<00:00,  1.31it/s]\n",
      "Validate (8099 / 10 Steps): 100%|██████████| 2/2 [00:04<00:00,  2.10s/it]<00:18,  3.05s/it]\n",
      "Training (8100 / 18000 Steps) (loss=0.25929):  29%|██▊       | 2/7 [00:07<00:20,  4.00s/it]"
     ]
    },
    {
     "name": "stdout",
     "output_type": "stream",
     "text": [
      "Model Was Not Saved ! Current Best Avg. Dice: 0.3794255256652832 Current Avg. Dice: 0.326407790184021 Current Avg. tumor Dice: 0.33971309661865234 Current Avg. lymph Dice: 0.31310251355171204\n"
     ]
    },
    {
     "name": "stderr",
     "output_type": "stream",
     "text": [
      "Training (8105 / 18000 Steps) (loss=0.41412): 100%|██████████| 7/7 [00:09<00:00,  1.39s/it]\n",
      "Training (8112 / 18000 Steps) (loss=0.50291): 100%|██████████| 7/7 [00:05<00:00,  1.26it/s]\n",
      "Training (8119 / 18000 Steps) (loss=0.65066): 100%|██████████| 7/7 [00:05<00:00,  1.31it/s]\n",
      "Training (8126 / 18000 Steps) (loss=0.43068): 100%|██████████| 7/7 [00:05<00:00,  1.30it/s]\n",
      "Training (8133 / 18000 Steps) (loss=0.39404): 100%|██████████| 7/7 [00:05<00:00,  1.32it/s]\n",
      "Training (8140 / 18000 Steps) (loss=0.40470): 100%|██████████| 7/7 [00:05<00:00,  1.27it/s]\n",
      "Training (8147 / 18000 Steps) (loss=0.51194): 100%|██████████| 7/7 [00:05<00:00,  1.30it/s]\n",
      "Training (8154 / 18000 Steps) (loss=0.57312): 100%|██████████| 7/7 [00:05<00:00,  1.31it/s]\n",
      "Training (8161 / 18000 Steps) (loss=0.47896): 100%|██████████| 7/7 [00:05<00:00,  1.30it/s]\n",
      "Training (8168 / 18000 Steps) (loss=0.56149): 100%|██████████| 7/7 [00:05<00:00,  1.27it/s]\n",
      "Training (8175 / 18000 Steps) (loss=0.38399): 100%|██████████| 7/7 [00:05<00:00,  1.34it/s]\n",
      "Training (8182 / 18000 Steps) (loss=0.27605): 100%|██████████| 7/7 [00:05<00:00,  1.30it/s]\n",
      "Training (8189 / 18000 Steps) (loss=0.40338): 100%|██████████| 7/7 [00:05<00:00,  1.33it/s]\n",
      "Training (8196 / 18000 Steps) (loss=0.47596): 100%|██████████| 7/7 [00:05<00:00,  1.30it/s]\n",
      "Validate (8197 / 10 Steps): 100%|██████████| 2/2 [00:04<00:00,  2.10s/it]<00:03,  1.08it/s]\n",
      "Training (8200 / 18000 Steps) (loss=0.35961):  57%|█████▋    | 4/7 [00:08<00:07,  2.39s/it]"
     ]
    },
    {
     "name": "stdout",
     "output_type": "stream",
     "text": [
      "Model Was Not Saved ! Current Best Avg. Dice: 0.3794255256652832 Current Avg. Dice: 0.3752070665359497 Current Avg. tumor Dice: 0.4058730900287628 Current Avg. lymph Dice: 0.3445410132408142\n"
     ]
    },
    {
     "name": "stderr",
     "output_type": "stream",
     "text": [
      "Training (8203 / 18000 Steps) (loss=0.59498): 100%|██████████| 7/7 [00:09<00:00,  1.33s/it]\n",
      "Training (8210 / 18000 Steps) (loss=0.40358): 100%|██████████| 7/7 [00:05<00:00,  1.30it/s]\n",
      "Training (8217 / 18000 Steps) (loss=0.30604): 100%|██████████| 7/7 [00:05<00:00,  1.34it/s]\n",
      "Training (8224 / 18000 Steps) (loss=0.40242): 100%|██████████| 7/7 [00:05<00:00,  1.32it/s]\n",
      "Training (8231 / 18000 Steps) (loss=0.56093): 100%|██████████| 7/7 [00:05<00:00,  1.28it/s]\n",
      "Training (8238 / 18000 Steps) (loss=0.61564): 100%|██████████| 7/7 [00:05<00:00,  1.32it/s]\n",
      "Training (8245 / 18000 Steps) (loss=0.46253): 100%|██████████| 7/7 [00:05<00:00,  1.30it/s]\n",
      "Training (8252 / 18000 Steps) (loss=0.35768): 100%|██████████| 7/7 [00:05<00:00,  1.31it/s]\n",
      "Training (8259 / 18000 Steps) (loss=0.57014): 100%|██████████| 7/7 [00:05<00:00,  1.30it/s]\n",
      "Training (8266 / 18000 Steps) (loss=0.45791): 100%|██████████| 7/7 [00:05<00:00,  1.33it/s]\n",
      "Training (8273 / 18000 Steps) (loss=0.28739): 100%|██████████| 7/7 [00:05<00:00,  1.26it/s]\n",
      "Training (8280 / 18000 Steps) (loss=0.50449): 100%|██████████| 7/7 [00:05<00:00,  1.28it/s]\n",
      "Training (8287 / 18000 Steps) (loss=0.47804): 100%|██████████| 7/7 [00:05<00:00,  1.28it/s]\n",
      "Training (8294 / 18000 Steps) (loss=0.50661): 100%|██████████| 7/7 [00:05<00:00,  1.35it/s]\n",
      "Validate (8295 / 10 Steps): 100%|██████████| 2/2 [00:04<00:00,  2.12s/it]<00:01,  1.53it/s]\n",
      "Training (8300 / 18000 Steps) (loss=0.39294):  86%|████████▌ | 6/7 [00:09<00:02,  2.03s/it]"
     ]
    },
    {
     "name": "stdout",
     "output_type": "stream",
     "text": [
      "Model Was Not Saved ! Current Best Avg. Dice: 0.3794255256652832 Current Avg. Dice: 0.361480176448822 Current Avg. tumor Dice: 0.3847356140613556 Current Avg. lymph Dice: 0.33822476863861084\n"
     ]
    },
    {
     "name": "stderr",
     "output_type": "stream",
     "text": [
      "Training (8301 / 18000 Steps) (loss=0.47200): 100%|██████████| 7/7 [00:09<00:00,  1.40s/it]\n",
      "Training (8308 / 18000 Steps) (loss=0.40637): 100%|██████████| 7/7 [00:05<00:00,  1.28it/s]\n",
      "Training (8315 / 18000 Steps) (loss=0.49102): 100%|██████████| 7/7 [00:05<00:00,  1.33it/s]\n",
      "Training (8322 / 18000 Steps) (loss=0.59042): 100%|██████████| 7/7 [00:05<00:00,  1.27it/s]\n",
      "Training (8329 / 18000 Steps) (loss=0.42173): 100%|██████████| 7/7 [00:05<00:00,  1.29it/s]\n",
      "Training (8336 / 18000 Steps) (loss=0.33459): 100%|██████████| 7/7 [00:05<00:00,  1.39it/s]\n",
      "Training (8343 / 18000 Steps) (loss=0.25360): 100%|██████████| 7/7 [00:05<00:00,  1.29it/s]\n",
      "Training (8350 / 18000 Steps) (loss=0.66730): 100%|██████████| 7/7 [00:05<00:00,  1.26it/s]\n",
      "Training (8357 / 18000 Steps) (loss=0.23716): 100%|██████████| 7/7 [00:05<00:00,  1.27it/s]\n",
      "Training (8364 / 18000 Steps) (loss=0.40431): 100%|██████████| 7/7 [00:05<00:00,  1.35it/s]\n",
      "Training (8371 / 18000 Steps) (loss=0.37500): 100%|██████████| 7/7 [00:05<00:00,  1.28it/s]\n",
      "Training (8378 / 18000 Steps) (loss=0.31494): 100%|██████████| 7/7 [00:05<00:00,  1.30it/s]\n",
      "Training (8385 / 18000 Steps) (loss=0.57012): 100%|██████████| 7/7 [00:05<00:00,  1.28it/s]\n",
      "Training (8392 / 18000 Steps) (loss=0.27558): 100%|██████████| 7/7 [00:05<00:00,  1.29it/s]\n",
      "Training (8399 / 18000 Steps) (loss=0.44481): 100%|██████████| 7/7 [00:05<00:00,  1.34it/s]\n",
      "Validate (8400 / 10 Steps): 100%|██████████| 2/2 [00:04<00:00,  2.10s/it]<?, ?it/s]\n",
      "Training (8400 / 18000 Steps) (loss=0.29798):  14%|█▍        | 1/7 [00:07<00:43,  7.32s/it]"
     ]
    },
    {
     "name": "stdout",
     "output_type": "stream",
     "text": [
      "Model Was Not Saved ! Current Best Avg. Dice: 0.3794255256652832 Current Avg. Dice: 0.3431411683559418 Current Avg. tumor Dice: 0.3346083164215088 Current Avg. lymph Dice: 0.35167405009269714\n"
     ]
    },
    {
     "name": "stderr",
     "output_type": "stream",
     "text": [
      "Training (8406 / 18000 Steps) (loss=0.44846): 100%|██████████| 7/7 [00:09<00:00,  1.39s/it]\n",
      "Training (8413 / 18000 Steps) (loss=0.33183): 100%|██████████| 7/7 [00:05<00:00,  1.28it/s]\n",
      "Training (8420 / 18000 Steps) (loss=0.33004): 100%|██████████| 7/7 [00:05<00:00,  1.30it/s]\n",
      "Training (8427 / 18000 Steps) (loss=0.19420): 100%|██████████| 7/7 [00:05<00:00,  1.34it/s]\n",
      "Training (8434 / 18000 Steps) (loss=0.23995): 100%|██████████| 7/7 [00:05<00:00,  1.35it/s]\n",
      "Training (8441 / 18000 Steps) (loss=0.51767): 100%|██████████| 7/7 [00:05<00:00,  1.30it/s]\n",
      "Training (8448 / 18000 Steps) (loss=0.48847): 100%|██████████| 7/7 [00:05<00:00,  1.33it/s]\n",
      "Training (8455 / 18000 Steps) (loss=0.46808): 100%|██████████| 7/7 [00:05<00:00,  1.27it/s]\n",
      "Training (8462 / 18000 Steps) (loss=0.50170): 100%|██████████| 7/7 [00:05<00:00,  1.31it/s]\n",
      "Training (8469 / 18000 Steps) (loss=0.59293): 100%|██████████| 7/7 [00:05<00:00,  1.32it/s]\n",
      "Training (8476 / 18000 Steps) (loss=0.43354): 100%|██████████| 7/7 [00:05<00:00,  1.30it/s]\n",
      "Training (8483 / 18000 Steps) (loss=0.54206): 100%|██████████| 7/7 [00:05<00:00,  1.34it/s]\n",
      "Training (8490 / 18000 Steps) (loss=0.66702): 100%|██████████| 7/7 [00:05<00:00,  1.34it/s]\n",
      "Training (8497 / 18000 Steps) (loss=0.58161): 100%|██████████| 7/7 [00:05<00:00,  1.32it/s]\n",
      "Validate (8498 / 10 Steps): 100%|██████████| 2/2 [00:04<00:00,  2.07s/it]<00:07,  1.54s/it]\n",
      "Training (8500 / 18000 Steps) (loss=0.38927):  43%|████▎     | 3/7 [00:08<00:11,  2.93s/it]"
     ]
    },
    {
     "name": "stdout",
     "output_type": "stream",
     "text": [
      "Model Was Not Saved ! Current Best Avg. Dice: 0.3794255256652832 Current Avg. Dice: 0.29799675941467285 Current Avg. tumor Dice: 0.29175716638565063 Current Avg. lymph Dice: 0.3042363226413727\n"
     ]
    },
    {
     "name": "stderr",
     "output_type": "stream",
     "text": [
      "Training (8504 / 18000 Steps) (loss=0.32524): 100%|██████████| 7/7 [00:09<00:00,  1.39s/it]\n",
      "Training (8511 / 18000 Steps) (loss=0.48067): 100%|██████████| 7/7 [00:05<00:00,  1.33it/s]\n",
      "Training (8518 / 18000 Steps) (loss=0.37995): 100%|██████████| 7/7 [00:05<00:00,  1.32it/s]\n",
      "Training (8525 / 18000 Steps) (loss=0.57876): 100%|██████████| 7/7 [00:05<00:00,  1.28it/s]\n",
      "Training (8532 / 18000 Steps) (loss=0.36880): 100%|██████████| 7/7 [00:05<00:00,  1.31it/s]\n",
      "Training (8539 / 18000 Steps) (loss=0.30734): 100%|██████████| 7/7 [00:05<00:00,  1.27it/s]\n",
      "Training (8546 / 18000 Steps) (loss=0.47735): 100%|██████████| 7/7 [00:05<00:00,  1.32it/s]\n",
      "Training (8553 / 18000 Steps) (loss=0.37391): 100%|██████████| 7/7 [00:05<00:00,  1.33it/s]\n",
      "Training (8560 / 18000 Steps) (loss=0.43783): 100%|██████████| 7/7 [00:05<00:00,  1.32it/s]\n",
      "Training (8567 / 18000 Steps) (loss=0.18010): 100%|██████████| 7/7 [00:05<00:00,  1.30it/s]\n",
      "Training (8574 / 18000 Steps) (loss=0.49719): 100%|██████████| 7/7 [00:05<00:00,  1.34it/s]\n",
      "Training (8581 / 18000 Steps) (loss=0.42985): 100%|██████████| 7/7 [00:05<00:00,  1.30it/s]\n",
      "Training (8588 / 18000 Steps) (loss=0.23436): 100%|██████████| 7/7 [00:05<00:00,  1.30it/s]\n",
      "Training (8595 / 18000 Steps) (loss=0.53901): 100%|██████████| 7/7 [00:05<00:00,  1.31it/s]\n",
      "Validate (8596 / 10 Steps): 100%|██████████| 2/2 [00:04<00:00,  2.07s/it]<00:02,  1.29it/s]\n",
      "Training (8600 / 18000 Steps) (loss=0.44715):  71%|███████▏  | 5/7 [00:08<00:04,  2.16s/it]"
     ]
    },
    {
     "name": "stdout",
     "output_type": "stream",
     "text": [
      "Model Was Not Saved ! Current Best Avg. Dice: 0.3794255256652832 Current Avg. Dice: 0.283476322889328 Current Avg. tumor Dice: 0.3263474702835083 Current Avg. lymph Dice: 0.24060514569282532\n"
     ]
    },
    {
     "name": "stderr",
     "output_type": "stream",
     "text": [
      "Training (8602 / 18000 Steps) (loss=0.35445): 100%|██████████| 7/7 [00:09<00:00,  1.38s/it]\n",
      "Training (8609 / 18000 Steps) (loss=0.53437): 100%|██████████| 7/7 [00:05<00:00,  1.33it/s]\n",
      "Training (8616 / 18000 Steps) (loss=0.42592): 100%|██████████| 7/7 [00:05<00:00,  1.28it/s]\n",
      "Training (8623 / 18000 Steps) (loss=0.43079): 100%|██████████| 7/7 [00:05<00:00,  1.26it/s]\n",
      "Training (8630 / 18000 Steps) (loss=0.39908): 100%|██████████| 7/7 [00:05<00:00,  1.31it/s]\n",
      "Training (8637 / 18000 Steps) (loss=0.48348): 100%|██████████| 7/7 [00:05<00:00,  1.30it/s]\n",
      "Training (8644 / 18000 Steps) (loss=0.28777): 100%|██████████| 7/7 [00:05<00:00,  1.26it/s]\n",
      "Training (8651 / 18000 Steps) (loss=0.46019): 100%|██████████| 7/7 [00:05<00:00,  1.32it/s]\n",
      "Training (8658 / 18000 Steps) (loss=0.55480): 100%|██████████| 7/7 [00:05<00:00,  1.29it/s]\n",
      "Training (8665 / 18000 Steps) (loss=0.21019): 100%|██████████| 7/7 [00:05<00:00,  1.31it/s]\n",
      "Training (8672 / 18000 Steps) (loss=0.27049): 100%|██████████| 7/7 [00:05<00:00,  1.33it/s]\n",
      "Training (8679 / 18000 Steps) (loss=0.46254): 100%|██████████| 7/7 [00:05<00:00,  1.30it/s]\n",
      "Training (8686 / 18000 Steps) (loss=0.47775): 100%|██████████| 7/7 [00:05<00:00,  1.26it/s]\n",
      "Training (8693 / 18000 Steps) (loss=0.36322): 100%|██████████| 7/7 [00:05<00:00,  1.32it/s]\n",
      "Validate (8694 / 10 Steps): 100%|██████████| 2/2 [00:04<00:00,  2.08s/it]<00:00,  1.75it/s]\n",
      "Training (8700 / 18000 Steps) (loss=0.34572): 100%|██████████| 7/7 [00:09<00:00,  1.39s/it]\n"
     ]
    },
    {
     "name": "stdout",
     "output_type": "stream",
     "text": [
      "Model Was Not Saved ! Current Best Avg. Dice: 0.3794255256652832 Current Avg. Dice: 0.3080118000507355 Current Avg. tumor Dice: 0.32859039306640625 Current Avg. lymph Dice: 0.2874332070350647\n"
     ]
    },
    {
     "name": "stderr",
     "output_type": "stream",
     "text": [
      "Training (8707 / 18000 Steps) (loss=0.36974): 100%|██████████| 7/7 [00:05<00:00,  1.33it/s]\n",
      "Training (8714 / 18000 Steps) (loss=0.54614): 100%|██████████| 7/7 [00:05<00:00,  1.27it/s]\n",
      "Training (8721 / 18000 Steps) (loss=0.61108): 100%|██████████| 7/7 [00:05<00:00,  1.34it/s]\n",
      "Training (8728 / 18000 Steps) (loss=0.38798): 100%|██████████| 7/7 [00:05<00:00,  1.31it/s]\n",
      "Training (8735 / 18000 Steps) (loss=0.22620): 100%|██████████| 7/7 [00:05<00:00,  1.26it/s]\n",
      "Training (8742 / 18000 Steps) (loss=0.36145): 100%|██████████| 7/7 [00:05<00:00,  1.27it/s]\n",
      "Training (8749 / 18000 Steps) (loss=0.36325): 100%|██████████| 7/7 [00:05<00:00,  1.28it/s]\n",
      "Training (8756 / 18000 Steps) (loss=0.65884): 100%|██████████| 7/7 [00:05<00:00,  1.29it/s]\n",
      "Training (8763 / 18000 Steps) (loss=0.23537): 100%|██████████| 7/7 [00:05<00:00,  1.30it/s]\n",
      "Training (8770 / 18000 Steps) (loss=0.20438): 100%|██████████| 7/7 [00:05<00:00,  1.31it/s]\n",
      "Training (8777 / 18000 Steps) (loss=0.25006): 100%|██████████| 7/7 [00:05<00:00,  1.34it/s]\n",
      "Training (8784 / 18000 Steps) (loss=0.60184): 100%|██████████| 7/7 [00:05<00:00,  1.35it/s]\n",
      "Training (8791 / 18000 Steps) (loss=0.29638): 100%|██████████| 7/7 [00:05<00:00,  1.28it/s]\n",
      "Training (8798 / 18000 Steps) (loss=0.54728): 100%|██████████| 7/7 [00:05<00:00,  1.33it/s]\n",
      "Validate (8799 / 10 Steps): 100%|██████████| 2/2 [00:04<00:00,  2.11s/it]<00:18,  3.10s/it]\n",
      "Training (8800 / 18000 Steps) (loss=0.39039):  29%|██▊       | 2/7 [00:07<00:20,  4.03s/it]"
     ]
    },
    {
     "name": "stdout",
     "output_type": "stream",
     "text": [
      "Model Was Not Saved ! Current Best Avg. Dice: 0.3794255256652832 Current Avg. Dice: 0.34842348098754883 Current Avg. tumor Dice: 0.35628455877304077 Current Avg. lymph Dice: 0.3405624032020569\n"
     ]
    },
    {
     "name": "stderr",
     "output_type": "stream",
     "text": [
      "Training (8805 / 18000 Steps) (loss=0.47567): 100%|██████████| 7/7 [00:09<00:00,  1.39s/it]\n",
      "Training (8812 / 18000 Steps) (loss=0.32442): 100%|██████████| 7/7 [00:05<00:00,  1.27it/s]\n",
      "Training (8819 / 18000 Steps) (loss=0.23209): 100%|██████████| 7/7 [00:05<00:00,  1.33it/s]\n",
      "Training (8826 / 18000 Steps) (loss=0.41773): 100%|██████████| 7/7 [00:05<00:00,  1.35it/s]\n",
      "Training (8833 / 18000 Steps) (loss=0.42038): 100%|██████████| 7/7 [00:05<00:00,  1.30it/s]\n",
      "Training (8840 / 18000 Steps) (loss=0.33380): 100%|██████████| 7/7 [00:05<00:00,  1.34it/s]\n",
      "Training (8847 / 18000 Steps) (loss=0.31012): 100%|██████████| 7/7 [00:05<00:00,  1.28it/s]\n",
      "Training (8854 / 18000 Steps) (loss=0.42922): 100%|██████████| 7/7 [00:05<00:00,  1.31it/s]\n",
      "Training (8861 / 18000 Steps) (loss=0.32838): 100%|██████████| 7/7 [00:05<00:00,  1.27it/s]\n",
      "Training (8868 / 18000 Steps) (loss=0.37002): 100%|██████████| 7/7 [00:05<00:00,  1.29it/s]\n",
      "Training (8875 / 18000 Steps) (loss=0.48745): 100%|██████████| 7/7 [00:05<00:00,  1.35it/s]\n",
      "Training (8882 / 18000 Steps) (loss=0.57519): 100%|██████████| 7/7 [00:05<00:00,  1.34it/s]\n",
      "Training (8889 / 18000 Steps) (loss=0.66845): 100%|██████████| 7/7 [00:05<00:00,  1.32it/s]\n",
      "Training (8896 / 18000 Steps) (loss=0.29358): 100%|██████████| 7/7 [00:05<00:00,  1.32it/s]\n",
      "Validate (8897 / 10 Steps): 100%|██████████| 2/2 [00:04<00:00,  2.10s/it]<00:03,  1.05it/s]\n",
      "Training (8900 / 18000 Steps) (loss=0.32136):  57%|█████▋    | 4/7 [00:08<00:07,  2.41s/it]"
     ]
    },
    {
     "name": "stdout",
     "output_type": "stream",
     "text": [
      "Model Was Not Saved ! Current Best Avg. Dice: 0.3794255256652832 Current Avg. Dice: 0.35985130071640015 Current Avg. tumor Dice: 0.38199761509895325 Current Avg. lymph Dice: 0.33770498633384705\n"
     ]
    },
    {
     "name": "stderr",
     "output_type": "stream",
     "text": [
      "Training (8903 / 18000 Steps) (loss=0.39878): 100%|██████████| 7/7 [00:09<00:00,  1.35s/it]\n",
      "Training (8910 / 18000 Steps) (loss=0.60621): 100%|██████████| 7/7 [00:05<00:00,  1.34it/s]\n",
      "Training (8917 / 18000 Steps) (loss=0.53862): 100%|██████████| 7/7 [00:05<00:00,  1.26it/s]\n",
      "Training (8924 / 18000 Steps) (loss=0.35573): 100%|██████████| 7/7 [00:05<00:00,  1.30it/s]\n",
      "Training (8931 / 18000 Steps) (loss=0.17143): 100%|██████████| 7/7 [00:05<00:00,  1.30it/s]\n",
      "Training (8938 / 18000 Steps) (loss=0.34130): 100%|██████████| 7/7 [00:05<00:00,  1.27it/s]\n",
      "Training (8945 / 18000 Steps) (loss=0.26854): 100%|██████████| 7/7 [00:05<00:00,  1.32it/s]\n",
      "Training (8952 / 18000 Steps) (loss=0.22514): 100%|██████████| 7/7 [00:05<00:00,  1.30it/s]\n",
      "Training (8959 / 18000 Steps) (loss=0.46863): 100%|██████████| 7/7 [00:05<00:00,  1.32it/s]\n",
      "Training (8966 / 18000 Steps) (loss=0.40270): 100%|██████████| 7/7 [00:05<00:00,  1.27it/s]\n",
      "Training (8973 / 18000 Steps) (loss=0.24406): 100%|██████████| 7/7 [00:05<00:00,  1.25it/s]\n",
      "Training (8980 / 18000 Steps) (loss=0.28974): 100%|██████████| 7/7 [00:05<00:00,  1.32it/s]\n",
      "Training (8987 / 18000 Steps) (loss=0.38392): 100%|██████████| 7/7 [00:05<00:00,  1.32it/s]\n",
      "Training (8994 / 18000 Steps) (loss=0.31039): 100%|██████████| 7/7 [00:05<00:00,  1.32it/s]\n",
      "Validate (8995 / 10 Steps): 100%|██████████| 2/2 [00:04<00:00,  2.10s/it]<00:01,  1.55it/s]\n",
      "Training (9000 / 18000 Steps) (loss=0.36687):  86%|████████▌ | 6/7 [00:09<00:02,  2.01s/it]"
     ]
    },
    {
     "name": "stdout",
     "output_type": "stream",
     "text": [
      "Model Was Not Saved ! Current Best Avg. Dice: 0.3794255256652832 Current Avg. Dice: 0.25265568494796753 Current Avg. tumor Dice: 0.290251761674881 Current Avg. lymph Dice: 0.21505962312221527\n"
     ]
    },
    {
     "name": "stderr",
     "output_type": "stream",
     "text": [
      "Training (9001 / 18000 Steps) (loss=0.23294): 100%|██████████| 7/7 [00:09<00:00,  1.39s/it]\n",
      "Training (9008 / 18000 Steps) (loss=0.57270): 100%|██████████| 7/7 [00:05<00:00,  1.28it/s]\n",
      "Training (9015 / 18000 Steps) (loss=0.47259): 100%|██████████| 7/7 [00:05<00:00,  1.27it/s]\n",
      "Training (9022 / 18000 Steps) (loss=0.34257): 100%|██████████| 7/7 [00:05<00:00,  1.30it/s]\n",
      "Training (9029 / 18000 Steps) (loss=0.32528): 100%|██████████| 7/7 [00:05<00:00,  1.30it/s]\n",
      "Training (9036 / 18000 Steps) (loss=0.54013): 100%|██████████| 7/7 [00:05<00:00,  1.29it/s]\n",
      "Training (9043 / 18000 Steps) (loss=0.33630): 100%|██████████| 7/7 [00:05<00:00,  1.28it/s]\n",
      "Training (9050 / 18000 Steps) (loss=0.49202): 100%|██████████| 7/7 [00:05<00:00,  1.29it/s]\n",
      "Training (9057 / 18000 Steps) (loss=0.46439): 100%|██████████| 7/7 [00:05<00:00,  1.33it/s]\n",
      "Training (9064 / 18000 Steps) (loss=0.16560): 100%|██████████| 7/7 [00:05<00:00,  1.28it/s]\n",
      "Training (9071 / 18000 Steps) (loss=0.34736): 100%|██████████| 7/7 [00:05<00:00,  1.32it/s]\n",
      "Training (9078 / 18000 Steps) (loss=0.38455): 100%|██████████| 7/7 [00:05<00:00,  1.31it/s]\n",
      "Training (9085 / 18000 Steps) (loss=0.54919): 100%|██████████| 7/7 [00:05<00:00,  1.31it/s]\n",
      "Training (9092 / 18000 Steps) (loss=0.51751): 100%|██████████| 7/7 [00:05<00:00,  1.31it/s]\n",
      "Training (9099 / 18000 Steps) (loss=0.43313): 100%|██████████| 7/7 [00:05<00:00,  1.34it/s]\n",
      "Validate (9100 / 10 Steps): 100%|██████████| 2/2 [00:04<00:00,  2.06s/it]<?, ?it/s]\n",
      "Training (9100 / 18000 Steps) (loss=0.25974):  14%|█▍        | 1/7 [00:06<00:41,  6.95s/it]"
     ]
    },
    {
     "name": "stdout",
     "output_type": "stream",
     "text": [
      "Model Was Not Saved ! Current Best Avg. Dice: 0.3794255256652832 Current Avg. Dice: 0.3456704020500183 Current Avg. tumor Dice: 0.38211607933044434 Current Avg. lymph Dice: 0.3092247247695923\n"
     ]
    },
    {
     "name": "stderr",
     "output_type": "stream",
     "text": [
      "Training (9106 / 18000 Steps) (loss=0.35127): 100%|██████████| 7/7 [00:09<00:00,  1.33s/it]\n",
      "Training (9113 / 18000 Steps) (loss=0.53303): 100%|██████████| 7/7 [00:05<00:00,  1.31it/s]\n",
      "Training (9120 / 18000 Steps) (loss=0.58179): 100%|██████████| 7/7 [00:05<00:00,  1.27it/s]\n",
      "Training (9127 / 18000 Steps) (loss=0.35207): 100%|██████████| 7/7 [00:05<00:00,  1.27it/s]\n",
      "Training (9134 / 18000 Steps) (loss=0.34611): 100%|██████████| 7/7 [00:05<00:00,  1.30it/s]\n",
      "Training (9141 / 18000 Steps) (loss=0.28849): 100%|██████████| 7/7 [00:05<00:00,  1.28it/s]\n",
      "Training (9148 / 18000 Steps) (loss=0.42322): 100%|██████████| 7/7 [00:05<00:00,  1.32it/s]\n",
      "Training (9155 / 18000 Steps) (loss=0.47168): 100%|██████████| 7/7 [00:05<00:00,  1.31it/s]\n",
      "Training (9162 / 18000 Steps) (loss=0.56005): 100%|██████████| 7/7 [00:05<00:00,  1.28it/s]\n",
      "Training (9169 / 18000 Steps) (loss=0.52837): 100%|██████████| 7/7 [00:05<00:00,  1.34it/s]\n",
      "Training (9176 / 18000 Steps) (loss=0.46589): 100%|██████████| 7/7 [00:05<00:00,  1.29it/s]\n",
      "Training (9183 / 18000 Steps) (loss=0.52231): 100%|██████████| 7/7 [00:05<00:00,  1.36it/s]\n",
      "Training (9190 / 18000 Steps) (loss=0.43640): 100%|██████████| 7/7 [00:05<00:00,  1.33it/s]\n",
      "Training (9197 / 18000 Steps) (loss=0.30044): 100%|██████████| 7/7 [00:05<00:00,  1.34it/s]\n",
      "Validate (9198 / 10 Steps): 100%|██████████| 2/2 [00:04<00:00,  2.05s/it]<00:07,  1.51s/it]\n",
      "Training (9200 / 18000 Steps) (loss=0.35562):  43%|████▎     | 3/7 [00:08<00:11,  2.91s/it]"
     ]
    },
    {
     "name": "stdout",
     "output_type": "stream",
     "text": [
      "Model Was Not Saved ! Current Best Avg. Dice: 0.3794255256652832 Current Avg. Dice: 0.3162987530231476 Current Avg. tumor Dice: 0.34006187319755554 Current Avg. lymph Dice: 0.292535662651062\n"
     ]
    },
    {
     "name": "stderr",
     "output_type": "stream",
     "text": [
      "Training (9204 / 18000 Steps) (loss=0.61495): 100%|██████████| 7/7 [00:09<00:00,  1.38s/it]\n",
      "Training (9211 / 18000 Steps) (loss=0.25203): 100%|██████████| 7/7 [00:05<00:00,  1.30it/s]\n",
      "Training (9218 / 18000 Steps) (loss=0.41565): 100%|██████████| 7/7 [00:05<00:00,  1.33it/s]\n",
      "Training (9225 / 18000 Steps) (loss=0.43565): 100%|██████████| 7/7 [00:05<00:00,  1.28it/s]\n",
      "Training (9232 / 18000 Steps) (loss=0.44331): 100%|██████████| 7/7 [00:05<00:00,  1.35it/s]\n",
      "Training (9239 / 18000 Steps) (loss=0.53997): 100%|██████████| 7/7 [00:05<00:00,  1.27it/s]\n",
      "Training (9246 / 18000 Steps) (loss=0.42236): 100%|██████████| 7/7 [00:05<00:00,  1.32it/s]\n",
      "Training (9253 / 18000 Steps) (loss=0.51018): 100%|██████████| 7/7 [00:05<00:00,  1.34it/s]\n",
      "Training (9260 / 18000 Steps) (loss=0.46551): 100%|██████████| 7/7 [00:05<00:00,  1.27it/s]\n",
      "Training (9267 / 18000 Steps) (loss=0.36006): 100%|██████████| 7/7 [00:05<00:00,  1.33it/s]\n",
      "Training (9274 / 18000 Steps) (loss=0.40658): 100%|██████████| 7/7 [00:05<00:00,  1.33it/s]\n",
      "Training (9281 / 18000 Steps) (loss=0.32975): 100%|██████████| 7/7 [00:05<00:00,  1.29it/s]\n",
      "Training (9288 / 18000 Steps) (loss=0.19245): 100%|██████████| 7/7 [00:05<00:00,  1.30it/s]\n",
      "Training (9295 / 18000 Steps) (loss=0.52673): 100%|██████████| 7/7 [00:05<00:00,  1.27it/s]\n",
      "Validate (9296 / 10 Steps): 100%|██████████| 2/2 [00:04<00:00,  2.13s/it]<00:02,  1.30it/s]\n",
      "Training (9300 / 18000 Steps) (loss=0.34928):  71%|███████▏  | 5/7 [00:09<00:04,  2.20s/it]"
     ]
    },
    {
     "name": "stdout",
     "output_type": "stream",
     "text": [
      "Model Was Not Saved ! Current Best Avg. Dice: 0.3794255256652832 Current Avg. Dice: 0.2857855260372162 Current Avg. tumor Dice: 0.28561368584632874 Current Avg. lymph Dice: 0.28595736622810364\n"
     ]
    },
    {
     "name": "stderr",
     "output_type": "stream",
     "text": [
      "Training (9302 / 18000 Steps) (loss=0.38551): 100%|██████████| 7/7 [00:09<00:00,  1.39s/it]\n",
      "Training (9309 / 18000 Steps) (loss=0.20889): 100%|██████████| 7/7 [00:05<00:00,  1.26it/s]\n",
      "Training (9316 / 18000 Steps) (loss=0.41660): 100%|██████████| 7/7 [00:05<00:00,  1.31it/s]\n",
      "Training (9323 / 18000 Steps) (loss=0.55132): 100%|██████████| 7/7 [00:05<00:00,  1.32it/s]\n",
      "Training (9330 / 18000 Steps) (loss=0.39370): 100%|██████████| 7/7 [00:05<00:00,  1.29it/s]\n",
      "Training (9337 / 18000 Steps) (loss=0.61380): 100%|██████████| 7/7 [00:05<00:00,  1.31it/s]\n",
      "Training (9344 / 18000 Steps) (loss=0.32111): 100%|██████████| 7/7 [00:05<00:00,  1.21it/s]\n",
      "Training (9351 / 18000 Steps) (loss=0.36677): 100%|██████████| 7/7 [00:05<00:00,  1.31it/s]\n",
      "Training (9358 / 18000 Steps) (loss=0.44293): 100%|██████████| 7/7 [00:05<00:00,  1.38it/s]\n",
      "Training (9365 / 18000 Steps) (loss=0.33370): 100%|██████████| 7/7 [00:05<00:00,  1.31it/s]\n",
      "Training (9372 / 18000 Steps) (loss=0.33995): 100%|██████████| 7/7 [00:05<00:00,  1.29it/s]\n",
      "Training (9379 / 18000 Steps) (loss=0.19285): 100%|██████████| 7/7 [00:05<00:00,  1.33it/s]\n",
      "Training (9386 / 18000 Steps) (loss=0.43841): 100%|██████████| 7/7 [00:05<00:00,  1.27it/s]\n",
      "Training (9393 / 18000 Steps) (loss=0.21031): 100%|██████████| 7/7 [00:05<00:00,  1.32it/s]\n",
      "Validate (9394 / 10 Steps): 100%|██████████| 2/2 [00:04<00:00,  2.13s/it]<00:00,  1.76it/s]\n",
      "Training (9400 / 18000 Steps) (loss=0.49101): 100%|██████████| 7/7 [00:09<00:00,  1.40s/it]\n"
     ]
    },
    {
     "name": "stdout",
     "output_type": "stream",
     "text": [
      "Model Was Not Saved ! Current Best Avg. Dice: 0.3794255256652832 Current Avg. Dice: 0.3034135699272156 Current Avg. tumor Dice: 0.2945396602153778 Current Avg. lymph Dice: 0.31228744983673096\n"
     ]
    },
    {
     "name": "stderr",
     "output_type": "stream",
     "text": [
      "Training (9407 / 18000 Steps) (loss=0.38758): 100%|██████████| 7/7 [00:05<00:00,  1.29it/s]\n",
      "Training (9414 / 18000 Steps) (loss=0.22920): 100%|██████████| 7/7 [00:05<00:00,  1.33it/s]\n",
      "Training (9421 / 18000 Steps) (loss=0.40063): 100%|██████████| 7/7 [00:05<00:00,  1.28it/s]\n",
      "Training (9428 / 18000 Steps) (loss=0.36695): 100%|██████████| 7/7 [00:05<00:00,  1.34it/s]\n",
      "Training (9435 / 18000 Steps) (loss=0.61166): 100%|██████████| 7/7 [00:05<00:00,  1.27it/s]\n",
      "Training (9442 / 18000 Steps) (loss=0.48622): 100%|██████████| 7/7 [00:05<00:00,  1.29it/s]\n",
      "Training (9449 / 18000 Steps) (loss=0.31924): 100%|██████████| 7/7 [00:05<00:00,  1.28it/s]\n",
      "Training (9456 / 18000 Steps) (loss=0.52254): 100%|██████████| 7/7 [00:05<00:00,  1.30it/s]\n",
      "Training (9463 / 18000 Steps) (loss=0.32333): 100%|██████████| 7/7 [00:05<00:00,  1.32it/s]\n",
      "Training (9470 / 18000 Steps) (loss=0.42743): 100%|██████████| 7/7 [00:05<00:00,  1.29it/s]\n",
      "Training (9477 / 18000 Steps) (loss=0.66082): 100%|██████████| 7/7 [00:05<00:00,  1.32it/s]\n",
      "Training (9484 / 18000 Steps) (loss=0.38690): 100%|██████████| 7/7 [00:05<00:00,  1.35it/s]\n",
      "Training (9491 / 18000 Steps) (loss=0.48580): 100%|██████████| 7/7 [00:05<00:00,  1.33it/s]\n",
      "Training (9498 / 18000 Steps) (loss=0.22631): 100%|██████████| 7/7 [00:05<00:00,  1.34it/s]\n",
      "Validate (9499 / 10 Steps): 100%|██████████| 2/2 [00:04<00:00,  2.08s/it]<00:18,  3.06s/it]\n",
      "Training (9500 / 18000 Steps) (loss=0.52576):  29%|██▊       | 2/7 [00:07<00:19,  3.98s/it]"
     ]
    },
    {
     "name": "stdout",
     "output_type": "stream",
     "text": [
      "Model Was Not Saved ! Current Best Avg. Dice: 0.3794255256652832 Current Avg. Dice: 0.34392619132995605 Current Avg. tumor Dice: 0.327511727809906 Current Avg. lymph Dice: 0.3603406846523285\n"
     ]
    },
    {
     "name": "stderr",
     "output_type": "stream",
     "text": [
      "Training (9505 / 18000 Steps) (loss=0.36818): 100%|██████████| 7/7 [00:09<00:00,  1.38s/it]\n",
      "Training (9512 / 18000 Steps) (loss=0.37755): 100%|██████████| 7/7 [00:05<00:00,  1.32it/s]\n",
      "Training (9519 / 18000 Steps) (loss=0.34287): 100%|██████████| 7/7 [00:05<00:00,  1.30it/s]\n",
      "Training (9526 / 18000 Steps) (loss=0.42859): 100%|██████████| 7/7 [00:05<00:00,  1.30it/s]\n",
      "Training (9533 / 18000 Steps) (loss=0.19009): 100%|██████████| 7/7 [00:05<00:00,  1.31it/s]\n",
      "Training (9540 / 18000 Steps) (loss=0.27901): 100%|██████████| 7/7 [00:05<00:00,  1.32it/s]\n",
      "Training (9547 / 18000 Steps) (loss=0.58801): 100%|██████████| 7/7 [00:05<00:00,  1.36it/s]\n",
      "Training (9554 / 18000 Steps) (loss=0.42509): 100%|██████████| 7/7 [00:05<00:00,  1.27it/s]\n",
      "Training (9561 / 18000 Steps) (loss=0.27272): 100%|██████████| 7/7 [00:05<00:00,  1.28it/s]\n",
      "Training (9568 / 18000 Steps) (loss=0.35932): 100%|██████████| 7/7 [00:05<00:00,  1.31it/s]\n",
      "Training (9575 / 18000 Steps) (loss=0.40567): 100%|██████████| 7/7 [00:05<00:00,  1.29it/s]\n",
      "Training (9582 / 18000 Steps) (loss=0.59478): 100%|██████████| 7/7 [00:05<00:00,  1.30it/s]\n",
      "Training (9589 / 18000 Steps) (loss=0.28199): 100%|██████████| 7/7 [00:05<00:00,  1.33it/s]\n",
      "Training (9596 / 18000 Steps) (loss=0.44928): 100%|██████████| 7/7 [00:05<00:00,  1.32it/s]\n",
      "Validate (9597 / 10 Steps): 100%|██████████| 2/2 [00:04<00:00,  2.13s/it]<00:03,  1.02it/s]\n",
      "Training (9600 / 18000 Steps) (loss=0.39812):  57%|█████▋    | 4/7 [00:08<00:07,  2.45s/it]"
     ]
    },
    {
     "name": "stdout",
     "output_type": "stream",
     "text": [
      "Model Was Not Saved ! Current Best Avg. Dice: 0.3794255256652832 Current Avg. Dice: 0.31735849380493164 Current Avg. tumor Dice: 0.3700346052646637 Current Avg. lymph Dice: 0.264682412147522\n"
     ]
    },
    {
     "name": "stderr",
     "output_type": "stream",
     "text": [
      "Training (9603 / 18000 Steps) (loss=0.30490): 100%|██████████| 7/7 [00:09<00:00,  1.38s/it]\n",
      "Training (9610 / 18000 Steps) (loss=0.14675): 100%|██████████| 7/7 [00:05<00:00,  1.29it/s]\n",
      "Training (9617 / 18000 Steps) (loss=0.54849): 100%|██████████| 7/7 [00:05<00:00,  1.26it/s]\n",
      "Training (9624 / 18000 Steps) (loss=0.42640): 100%|██████████| 7/7 [00:05<00:00,  1.32it/s]\n",
      "Training (9631 / 18000 Steps) (loss=0.18439): 100%|██████████| 7/7 [00:05<00:00,  1.28it/s]\n",
      "Training (9638 / 18000 Steps) (loss=0.31208): 100%|██████████| 7/7 [00:05<00:00,  1.32it/s]\n",
      "Training (9645 / 18000 Steps) (loss=0.27829): 100%|██████████| 7/7 [00:05<00:00,  1.31it/s]\n",
      "Training (9652 / 18000 Steps) (loss=0.43120): 100%|██████████| 7/7 [00:05<00:00,  1.28it/s]\n",
      "Training (9659 / 18000 Steps) (loss=0.41377): 100%|██████████| 7/7 [00:05<00:00,  1.29it/s]\n",
      "Training (9666 / 18000 Steps) (loss=0.43557): 100%|██████████| 7/7 [00:05<00:00,  1.32it/s]\n",
      "Training (9673 / 18000 Steps) (loss=0.59986): 100%|██████████| 7/7 [00:05<00:00,  1.31it/s]\n",
      "Training (9680 / 18000 Steps) (loss=0.38192): 100%|██████████| 7/7 [00:05<00:00,  1.27it/s]\n",
      "Training (9687 / 18000 Steps) (loss=0.26689): 100%|██████████| 7/7 [00:05<00:00,  1.33it/s]\n",
      "Training (9694 / 18000 Steps) (loss=0.55324): 100%|██████████| 7/7 [00:05<00:00,  1.37it/s]\n",
      "Validate (9695 / 10 Steps): 100%|██████████| 2/2 [00:04<00:00,  2.06s/it]<00:01,  1.56it/s]\n",
      "Training (9700 / 18000 Steps) (loss=0.42094):  86%|████████▌ | 6/7 [00:09<00:01,  1.98s/it]"
     ]
    },
    {
     "name": "stdout",
     "output_type": "stream",
     "text": [
      "Model Was Not Saved ! Current Best Avg. Dice: 0.3794255256652832 Current Avg. Dice: 0.3297785520553589 Current Avg. tumor Dice: 0.33392810821533203 Current Avg. lymph Dice: 0.32562902569770813\n"
     ]
    },
    {
     "name": "stderr",
     "output_type": "stream",
     "text": [
      "Training (9701 / 18000 Steps) (loss=0.28832): 100%|██████████| 7/7 [00:09<00:00,  1.37s/it]\n",
      "Training (9708 / 18000 Steps) (loss=0.53549): 100%|██████████| 7/7 [00:05<00:00,  1.34it/s]\n",
      "Training (9715 / 18000 Steps) (loss=0.33209): 100%|██████████| 7/7 [00:05<00:00,  1.29it/s]\n",
      "Training (9722 / 18000 Steps) (loss=0.49466): 100%|██████████| 7/7 [00:05<00:00,  1.31it/s]\n",
      "Training (9729 / 18000 Steps) (loss=0.34843): 100%|██████████| 7/7 [00:05<00:00,  1.26it/s]\n",
      "Training (9736 / 18000 Steps) (loss=0.31762): 100%|██████████| 7/7 [00:05<00:00,  1.32it/s]\n",
      "Training (9743 / 18000 Steps) (loss=0.30032): 100%|██████████| 7/7 [00:05<00:00,  1.28it/s]\n",
      "Training (9750 / 18000 Steps) (loss=0.39655): 100%|██████████| 7/7 [00:05<00:00,  1.28it/s]\n",
      "Training (9757 / 18000 Steps) (loss=0.34788): 100%|██████████| 7/7 [00:05<00:00,  1.34it/s]\n",
      "Training (9764 / 18000 Steps) (loss=0.42375): 100%|██████████| 7/7 [00:05<00:00,  1.28it/s]\n",
      "Training (9771 / 18000 Steps) (loss=0.43567): 100%|██████████| 7/7 [00:05<00:00,  1.30it/s]\n",
      "Training (9778 / 18000 Steps) (loss=0.41838): 100%|██████████| 7/7 [00:05<00:00,  1.28it/s]\n",
      "Training (9785 / 18000 Steps) (loss=0.43146): 100%|██████████| 7/7 [00:05<00:00,  1.30it/s]\n",
      "Training (9792 / 18000 Steps) (loss=0.43513): 100%|██████████| 7/7 [00:05<00:00,  1.33it/s]\n",
      "Training (9799 / 18000 Steps) (loss=0.49485): 100%|██████████| 7/7 [00:05<00:00,  1.29it/s]\n",
      "Validate (9800 / 10 Steps): 100%|██████████| 2/2 [00:04<00:00,  2.11s/it]<?, ?it/s]\n",
      "Training (9800 / 18000 Steps) (loss=0.37367):  14%|█▍        | 1/7 [00:07<00:42,  7.05s/it]"
     ]
    },
    {
     "name": "stdout",
     "output_type": "stream",
     "text": [
      "Model Was Not Saved ! Current Best Avg. Dice: 0.3794255256652832 Current Avg. Dice: 0.333406925201416 Current Avg. tumor Dice: 0.36956894397735596 Current Avg. lymph Dice: 0.29724493622779846\n"
     ]
    },
    {
     "name": "stderr",
     "output_type": "stream",
     "text": [
      "Training (9806 / 18000 Steps) (loss=0.48530): 100%|██████████| 7/7 [00:09<00:00,  1.35s/it]\n",
      "Training (9813 / 18000 Steps) (loss=0.31404): 100%|██████████| 7/7 [00:05<00:00,  1.33it/s]\n",
      "Training (9820 / 18000 Steps) (loss=0.54457): 100%|██████████| 7/7 [00:05<00:00,  1.30it/s]\n",
      "Training (9827 / 18000 Steps) (loss=0.41126): 100%|██████████| 7/7 [00:05<00:00,  1.31it/s]\n",
      "Training (9834 / 18000 Steps) (loss=0.24854): 100%|██████████| 7/7 [00:05<00:00,  1.31it/s]\n",
      "Training (9841 / 18000 Steps) (loss=0.43840): 100%|██████████| 7/7 [00:05<00:00,  1.33it/s]\n",
      "Training (9848 / 18000 Steps) (loss=0.36545): 100%|██████████| 7/7 [00:05<00:00,  1.30it/s]\n",
      "Training (9855 / 18000 Steps) (loss=0.44549): 100%|██████████| 7/7 [00:05<00:00,  1.29it/s]\n",
      "Training (9862 / 18000 Steps) (loss=0.50884): 100%|██████████| 7/7 [00:05<00:00,  1.34it/s]\n",
      "Training (9869 / 18000 Steps) (loss=0.56361): 100%|██████████| 7/7 [00:05<00:00,  1.34it/s]\n",
      "Training (9876 / 18000 Steps) (loss=0.26062): 100%|██████████| 7/7 [00:05<00:00,  1.31it/s]\n",
      "Training (9883 / 18000 Steps) (loss=0.34501): 100%|██████████| 7/7 [00:05<00:00,  1.30it/s]\n",
      "Training (9890 / 18000 Steps) (loss=0.32204): 100%|██████████| 7/7 [00:05<00:00,  1.25it/s]\n",
      "Training (9897 / 18000 Steps) (loss=0.48715): 100%|██████████| 7/7 [00:05<00:00,  1.27it/s]\n",
      "Validate (9898 / 10 Steps): 100%|██████████| 2/2 [00:04<00:00,  2.07s/it]<00:07,  1.49s/it]\n",
      "Training (9900 / 18000 Steps) (loss=0.33034):  43%|████▎     | 3/7 [00:08<00:11,  2.92s/it]"
     ]
    },
    {
     "name": "stdout",
     "output_type": "stream",
     "text": [
      "Model Was Not Saved ! Current Best Avg. Dice: 0.3794255256652832 Current Avg. Dice: 0.34416788816452026 Current Avg. tumor Dice: 0.3299209773540497 Current Avg. lymph Dice: 0.35841476917266846\n"
     ]
    },
    {
     "name": "stderr",
     "output_type": "stream",
     "text": [
      "Training (9904 / 18000 Steps) (loss=0.53009): 100%|██████████| 7/7 [00:09<00:00,  1.38s/it]\n",
      "Training (9911 / 18000 Steps) (loss=0.32101): 100%|██████████| 7/7 [00:05<00:00,  1.32it/s]\n",
      "Training (9918 / 18000 Steps) (loss=0.23614): 100%|██████████| 7/7 [00:05<00:00,  1.36it/s]\n",
      "Training (9925 / 18000 Steps) (loss=0.47447): 100%|██████████| 7/7 [00:05<00:00,  1.36it/s]\n",
      "Training (9932 / 18000 Steps) (loss=0.22467): 100%|██████████| 7/7 [00:05<00:00,  1.34it/s]\n",
      "Training (9939 / 18000 Steps) (loss=0.18074): 100%|██████████| 7/7 [00:05<00:00,  1.35it/s]\n",
      "Training (9946 / 18000 Steps) (loss=0.55184): 100%|██████████| 7/7 [00:05<00:00,  1.27it/s]\n",
      "Training (9953 / 18000 Steps) (loss=0.55781): 100%|██████████| 7/7 [00:05<00:00,  1.33it/s]\n",
      "Training (9960 / 18000 Steps) (loss=0.54759): 100%|██████████| 7/7 [00:05<00:00,  1.31it/s]\n",
      "Training (9967 / 18000 Steps) (loss=0.42645): 100%|██████████| 7/7 [00:05<00:00,  1.35it/s]\n",
      "Training (9974 / 18000 Steps) (loss=0.50452): 100%|██████████| 7/7 [00:05<00:00,  1.27it/s]\n",
      "Training (9981 / 18000 Steps) (loss=0.55172): 100%|██████████| 7/7 [00:05<00:00,  1.31it/s]\n",
      "Training (9988 / 18000 Steps) (loss=0.25711): 100%|██████████| 7/7 [00:05<00:00,  1.31it/s]\n",
      "Training (9995 / 18000 Steps) (loss=0.31429): 100%|██████████| 7/7 [00:05<00:00,  1.34it/s]\n",
      "Validate (9996 / 10 Steps): 100%|██████████| 2/2 [00:04<00:00,  2.07s/it]4<00:02,  1.31it/s]\n",
      "Training (10000 / 18000 Steps) (loss=0.44631):  71%|███████▏  | 5/7 [00:08<00:04,  2.15s/it]"
     ]
    },
    {
     "name": "stdout",
     "output_type": "stream",
     "text": [
      "Model Was Not Saved ! Current Best Avg. Dice: 0.3794255256652832 Current Avg. Dice: 0.3581085801124573 Current Avg. tumor Dice: 0.362785279750824 Current Avg. lymph Dice: 0.35343191027641296\n"
     ]
    },
    {
     "name": "stderr",
     "output_type": "stream",
     "text": [
      "Training (10002 / 18000 Steps) (loss=0.34626): 100%|██████████| 7/7 [00:09<00:00,  1.37s/it]\n",
      "Training (10009 / 18000 Steps) (loss=0.43171): 100%|██████████| 7/7 [00:05<00:00,  1.30it/s]\n",
      "Training (10016 / 18000 Steps) (loss=0.29793): 100%|██████████| 7/7 [00:05<00:00,  1.32it/s]\n",
      "Training (10023 / 18000 Steps) (loss=0.61313): 100%|██████████| 7/7 [00:05<00:00,  1.31it/s]\n",
      "Training (10030 / 18000 Steps) (loss=0.45735): 100%|██████████| 7/7 [00:05<00:00,  1.29it/s]\n",
      "Training (10037 / 18000 Steps) (loss=0.46113): 100%|██████████| 7/7 [00:05<00:00,  1.34it/s]\n",
      "Training (10044 / 18000 Steps) (loss=0.32824): 100%|██████████| 7/7 [00:05<00:00,  1.32it/s]\n",
      "Training (10051 / 18000 Steps) (loss=0.44808): 100%|██████████| 7/7 [00:05<00:00,  1.33it/s]\n",
      "Training (10058 / 18000 Steps) (loss=0.37847): 100%|██████████| 7/7 [00:05<00:00,  1.30it/s]\n",
      "Training (10065 / 18000 Steps) (loss=0.55528): 100%|██████████| 7/7 [00:05<00:00,  1.28it/s]\n",
      "Training (10072 / 18000 Steps) (loss=0.39309): 100%|██████████| 7/7 [00:05<00:00,  1.29it/s]\n",
      "Training (10079 / 18000 Steps) (loss=0.30983): 100%|██████████| 7/7 [00:05<00:00,  1.27it/s]\n",
      "Training (10086 / 18000 Steps) (loss=0.42832): 100%|██████████| 7/7 [00:05<00:00,  1.33it/s]\n",
      "Training (10093 / 18000 Steps) (loss=0.49558): 100%|██████████| 7/7 [00:05<00:00,  1.27it/s]\n",
      "Validate (10094 / 10 Steps): 100%|██████████| 2/2 [00:04<00:00,  2.09s/it]<00:00,  1.82it/s]\n",
      "Training (10100 / 18000 Steps) (loss=0.49108): 100%|██████████| 7/7 [00:09<00:00,  1.34s/it]\n"
     ]
    },
    {
     "name": "stdout",
     "output_type": "stream",
     "text": [
      "Model Was Not Saved ! Current Best Avg. Dice: 0.3794255256652832 Current Avg. Dice: 0.36973121762275696 Current Avg. tumor Dice: 0.38240596652030945 Current Avg. lymph Dice: 0.35705646872520447\n"
     ]
    },
    {
     "name": "stderr",
     "output_type": "stream",
     "text": [
      "Training (10107 / 18000 Steps) (loss=0.39202): 100%|██████████| 7/7 [00:05<00:00,  1.33it/s]\n",
      "Training (10114 / 18000 Steps) (loss=0.54010): 100%|██████████| 7/7 [00:05<00:00,  1.30it/s]\n",
      "Training (10121 / 18000 Steps) (loss=0.43262): 100%|██████████| 7/7 [00:05<00:00,  1.29it/s]\n",
      "Training (10128 / 18000 Steps) (loss=0.20103): 100%|██████████| 7/7 [00:05<00:00,  1.37it/s]\n",
      "Training (10135 / 18000 Steps) (loss=0.57425): 100%|██████████| 7/7 [00:05<00:00,  1.28it/s]\n",
      "Training (10142 / 18000 Steps) (loss=0.48519): 100%|██████████| 7/7 [00:05<00:00,  1.32it/s]\n",
      "Training (10149 / 18000 Steps) (loss=0.49520): 100%|██████████| 7/7 [00:05<00:00,  1.34it/s]\n",
      "Training (10156 / 18000 Steps) (loss=0.29151): 100%|██████████| 7/7 [00:05<00:00,  1.31it/s]\n",
      "Training (10163 / 18000 Steps) (loss=0.35611): 100%|██████████| 7/7 [00:05<00:00,  1.35it/s]\n",
      "Training (10170 / 18000 Steps) (loss=0.45062): 100%|██████████| 7/7 [00:05<00:00,  1.28it/s]\n",
      "Training (10177 / 18000 Steps) (loss=0.26747): 100%|██████████| 7/7 [00:05<00:00,  1.30it/s]\n",
      "Training (10184 / 18000 Steps) (loss=0.50224): 100%|██████████| 7/7 [00:05<00:00,  1.30it/s]\n",
      "Training (10191 / 18000 Steps) (loss=0.38243): 100%|██████████| 7/7 [00:05<00:00,  1.26it/s]\n",
      "Training (10198 / 18000 Steps) (loss=0.36363): 100%|██████████| 7/7 [00:05<00:00,  1.36it/s]\n",
      "Validate (10199 / 10 Steps): 100%|██████████| 2/2 [00:04<00:00,  2.09s/it]<00:17,  2.84s/it]\n",
      "Training (10200 / 18000 Steps) (loss=0.35946):  29%|██▊       | 2/7 [00:07<00:19,  3.90s/it]"
     ]
    },
    {
     "name": "stdout",
     "output_type": "stream",
     "text": [
      "Model Was Not Saved ! Current Best Avg. Dice: 0.3794255256652832 Current Avg. Dice: 0.318378746509552 Current Avg. tumor Dice: 0.33965855836868286 Current Avg. lymph Dice: 0.29709893465042114\n"
     ]
    },
    {
     "name": "stderr",
     "output_type": "stream",
     "text": [
      "Training (10205 / 18000 Steps) (loss=0.34932): 100%|██████████| 7/7 [00:09<00:00,  1.35s/it]\n",
      "Training (10212 / 18000 Steps) (loss=0.25599): 100%|██████████| 7/7 [00:05<00:00,  1.31it/s]\n",
      "Training (10219 / 18000 Steps) (loss=0.34057): 100%|██████████| 7/7 [00:05<00:00,  1.24it/s]\n",
      "Training (10226 / 18000 Steps) (loss=0.43287): 100%|██████████| 7/7 [00:05<00:00,  1.24it/s]\n",
      "Training (10233 / 18000 Steps) (loss=0.38203): 100%|██████████| 7/7 [00:05<00:00,  1.26it/s]\n",
      "Training (10240 / 18000 Steps) (loss=0.47999): 100%|██████████| 7/7 [00:05<00:00,  1.31it/s]\n",
      "Training (10247 / 18000 Steps) (loss=0.35761): 100%|██████████| 7/7 [00:05<00:00,  1.28it/s]\n",
      "Training (10254 / 18000 Steps) (loss=0.57869): 100%|██████████| 7/7 [00:05<00:00,  1.30it/s]\n",
      "Training (10261 / 18000 Steps) (loss=0.33282): 100%|██████████| 7/7 [00:05<00:00,  1.33it/s]\n",
      "Training (10268 / 18000 Steps) (loss=0.45350): 100%|██████████| 7/7 [00:05<00:00,  1.30it/s]\n",
      "Training (10275 / 18000 Steps) (loss=0.33797): 100%|██████████| 7/7 [00:05<00:00,  1.29it/s]\n",
      "Training (10282 / 18000 Steps) (loss=0.36046): 100%|██████████| 7/7 [00:05<00:00,  1.33it/s]\n",
      "Training (10289 / 18000 Steps) (loss=0.16671): 100%|██████████| 7/7 [00:05<00:00,  1.33it/s]\n",
      "Training (10296 / 18000 Steps) (loss=0.46211): 100%|██████████| 7/7 [00:05<00:00,  1.33it/s]\n",
      "Validate (10297 / 10 Steps): 100%|██████████| 2/2 [00:04<00:00,  2.10s/it]<00:03,  1.00it/s]\n",
      "Training (10300 / 18000 Steps) (loss=0.47653):  57%|█████▋    | 4/7 [00:08<00:07,  2.45s/it]"
     ]
    },
    {
     "name": "stdout",
     "output_type": "stream",
     "text": [
      "Model Was Not Saved ! Current Best Avg. Dice: 0.3794255256652832 Current Avg. Dice: 0.3246740698814392 Current Avg. tumor Dice: 0.3228567838668823 Current Avg. lymph Dice: 0.3264913558959961\n"
     ]
    },
    {
     "name": "stderr",
     "output_type": "stream",
     "text": [
      "Training (10303 / 18000 Steps) (loss=0.48695): 100%|██████████| 7/7 [00:09<00:00,  1.38s/it]\n",
      "Training (10310 / 18000 Steps) (loss=0.39551): 100%|██████████| 7/7 [00:05<00:00,  1.28it/s]\n",
      "Training (10317 / 18000 Steps) (loss=0.48980): 100%|██████████| 7/7 [00:05<00:00,  1.29it/s]\n",
      "Training (10324 / 18000 Steps) (loss=0.37277): 100%|██████████| 7/7 [00:05<00:00,  1.25it/s]\n",
      "Training (10331 / 18000 Steps) (loss=0.32308): 100%|██████████| 7/7 [00:05<00:00,  1.31it/s]\n",
      "Training (10338 / 18000 Steps) (loss=0.54904): 100%|██████████| 7/7 [00:05<00:00,  1.34it/s]\n",
      "Training (10345 / 18000 Steps) (loss=0.35668): 100%|██████████| 7/7 [00:05<00:00,  1.30it/s]\n",
      "Training (10352 / 18000 Steps) (loss=0.42853): 100%|██████████| 7/7 [00:05<00:00,  1.34it/s]\n",
      "Training (10359 / 18000 Steps) (loss=0.34186): 100%|██████████| 7/7 [00:05<00:00,  1.31it/s]\n",
      "Training (10366 / 18000 Steps) (loss=0.63163): 100%|██████████| 7/7 [00:05<00:00,  1.32it/s]\n",
      "Training (10373 / 18000 Steps) (loss=0.53289): 100%|██████████| 7/7 [00:05<00:00,  1.30it/s]\n",
      "Training (10380 / 18000 Steps) (loss=0.36761): 100%|██████████| 7/7 [00:05<00:00,  1.34it/s]\n",
      "Training (10387 / 18000 Steps) (loss=0.42713): 100%|██████████| 7/7 [00:05<00:00,  1.34it/s]\n",
      "Training (10394 / 18000 Steps) (loss=0.33011): 100%|██████████| 7/7 [00:05<00:00,  1.30it/s]\n",
      "Validate (10395 / 10 Steps): 100%|██████████| 2/2 [00:04<00:00,  2.09s/it]<00:01,  1.58it/s]\n",
      "Training (10400 / 18000 Steps) (loss=0.35026):  86%|████████▌ | 6/7 [00:09<00:02,  2.00s/it]"
     ]
    },
    {
     "name": "stdout",
     "output_type": "stream",
     "text": [
      "Model Was Not Saved ! Current Best Avg. Dice: 0.3794255256652832 Current Avg. Dice: 0.31764960289001465 Current Avg. tumor Dice: 0.3423915505409241 Current Avg. lymph Dice: 0.29290762543678284\n"
     ]
    },
    {
     "name": "stderr",
     "output_type": "stream",
     "text": [
      "Training (10401 / 18000 Steps) (loss=0.43855): 100%|██████████| 7/7 [00:09<00:00,  1.36s/it]\n",
      "Training (10408 / 18000 Steps) (loss=0.16520): 100%|██████████| 7/7 [00:05<00:00,  1.28it/s]\n",
      "Training (10415 / 18000 Steps) (loss=0.38429): 100%|██████████| 7/7 [00:05<00:00,  1.28it/s]\n",
      "Training (10422 / 18000 Steps) (loss=0.51638): 100%|██████████| 7/7 [00:05<00:00,  1.33it/s]\n",
      "Training (10429 / 18000 Steps) (loss=0.59028): 100%|██████████| 7/7 [00:05<00:00,  1.32it/s]\n",
      "Training (10436 / 18000 Steps) (loss=0.48054): 100%|██████████| 7/7 [00:05<00:00,  1.25it/s]\n",
      "Training (10443 / 18000 Steps) (loss=0.31986): 100%|██████████| 7/7 [00:05<00:00,  1.31it/s]\n",
      "Training (10450 / 18000 Steps) (loss=0.42821): 100%|██████████| 7/7 [00:05<00:00,  1.32it/s]\n",
      "Training (10457 / 18000 Steps) (loss=0.33262): 100%|██████████| 7/7 [00:05<00:00,  1.32it/s]\n",
      "Training (10464 / 18000 Steps) (loss=0.20923): 100%|██████████| 7/7 [00:05<00:00,  1.28it/s]\n",
      "Training (10471 / 18000 Steps) (loss=0.60200): 100%|██████████| 7/7 [00:05<00:00,  1.34it/s]\n",
      "Training (10478 / 18000 Steps) (loss=0.27972): 100%|██████████| 7/7 [00:05<00:00,  1.29it/s]\n",
      "Training (10485 / 18000 Steps) (loss=0.53917): 100%|██████████| 7/7 [00:05<00:00,  1.29it/s]\n",
      "Training (10492 / 18000 Steps) (loss=0.42580): 100%|██████████| 7/7 [00:05<00:00,  1.33it/s]\n",
      "Training (10499 / 18000 Steps) (loss=0.20065): 100%|██████████| 7/7 [00:05<00:00,  1.35it/s]\n",
      "Validate (10500 / 10 Steps): 100%|██████████| 2/2 [00:04<00:00,  2.12s/it]<?, ?it/s]\n",
      "Training (10500 / 18000 Steps) (loss=0.29128):  14%|█▍        | 1/7 [00:07<00:43,  7.20s/it]"
     ]
    },
    {
     "name": "stdout",
     "output_type": "stream",
     "text": [
      "Model Was Not Saved ! Current Best Avg. Dice: 0.3794255256652832 Current Avg. Dice: 0.336031049489975 Current Avg. tumor Dice: 0.342794269323349 Current Avg. lymph Dice: 0.32926779985427856\n"
     ]
    },
    {
     "name": "stderr",
     "output_type": "stream",
     "text": [
      "Training (10506 / 18000 Steps) (loss=0.39224): 100%|██████████| 7/7 [00:09<00:00,  1.37s/it]\n",
      "Training (10513 / 18000 Steps) (loss=0.49016): 100%|██████████| 7/7 [00:05<00:00,  1.29it/s]\n",
      "Training (10520 / 18000 Steps) (loss=0.34714): 100%|██████████| 7/7 [00:05<00:00,  1.36it/s]\n",
      "Training (10527 / 18000 Steps) (loss=0.47300): 100%|██████████| 7/7 [00:05<00:00,  1.35it/s]\n",
      "Training (10534 / 18000 Steps) (loss=0.45179): 100%|██████████| 7/7 [00:05<00:00,  1.29it/s]\n",
      "Training (10541 / 18000 Steps) (loss=0.16908): 100%|██████████| 7/7 [00:05<00:00,  1.29it/s]\n",
      "Training (10548 / 18000 Steps) (loss=0.20191): 100%|██████████| 7/7 [00:05<00:00,  1.23it/s]\n",
      "Training (10555 / 18000 Steps) (loss=0.39678): 100%|██████████| 7/7 [00:05<00:00,  1.27it/s]\n",
      "Training (10562 / 18000 Steps) (loss=0.32118): 100%|██████████| 7/7 [00:05<00:00,  1.28it/s]\n",
      "Training (10569 / 18000 Steps) (loss=0.41434): 100%|██████████| 7/7 [00:05<00:00,  1.28it/s]\n",
      "Training (10576 / 18000 Steps) (loss=0.31931): 100%|██████████| 7/7 [00:05<00:00,  1.33it/s]\n",
      "Training (10583 / 18000 Steps) (loss=0.61241): 100%|██████████| 7/7 [00:05<00:00,  1.28it/s]\n",
      "Training (10590 / 18000 Steps) (loss=0.61225): 100%|██████████| 7/7 [00:05<00:00,  1.29it/s]\n",
      "Training (10597 / 18000 Steps) (loss=0.31072): 100%|██████████| 7/7 [00:05<00:00,  1.35it/s]\n",
      "Validate (10598 / 10 Steps): 100%|██████████| 2/2 [00:04<00:00,  2.06s/it]<00:07,  1.48s/it]\n",
      "Training (10600 / 18000 Steps) (loss=0.43727):  43%|████▎     | 3/7 [00:08<00:11,  2.90s/it]"
     ]
    },
    {
     "name": "stdout",
     "output_type": "stream",
     "text": [
      "Model Was Not Saved ! Current Best Avg. Dice: 0.3794255256652832 Current Avg. Dice: 0.33868467807769775 Current Avg. tumor Dice: 0.32672345638275146 Current Avg. lymph Dice: 0.35064586997032166\n"
     ]
    },
    {
     "name": "stderr",
     "output_type": "stream",
     "text": [
      "Training (10604 / 18000 Steps) (loss=0.35547): 100%|██████████| 7/7 [00:09<00:00,  1.37s/it]\n",
      "Training (10611 / 18000 Steps) (loss=0.28680): 100%|██████████| 7/7 [00:05<00:00,  1.31it/s]\n",
      "Training (10618 / 18000 Steps) (loss=0.38492): 100%|██████████| 7/7 [00:05<00:00,  1.31it/s]\n",
      "Training (10625 / 18000 Steps) (loss=0.14557): 100%|██████████| 7/7 [00:05<00:00,  1.35it/s]\n",
      "Training (10632 / 18000 Steps) (loss=0.41755): 100%|██████████| 7/7 [00:05<00:00,  1.25it/s]\n",
      "Training (10639 / 18000 Steps) (loss=0.26641): 100%|██████████| 7/7 [00:05<00:00,  1.27it/s]\n",
      "Training (10646 / 18000 Steps) (loss=0.46343): 100%|██████████| 7/7 [00:05<00:00,  1.34it/s]\n",
      "Training (10653 / 18000 Steps) (loss=0.20814): 100%|██████████| 7/7 [00:05<00:00,  1.27it/s]\n",
      "Training (10660 / 18000 Steps) (loss=0.55137): 100%|██████████| 7/7 [00:05<00:00,  1.35it/s]\n",
      "Training (10667 / 18000 Steps) (loss=0.34019): 100%|██████████| 7/7 [00:05<00:00,  1.33it/s]\n",
      "Training (10674 / 18000 Steps) (loss=0.17711): 100%|██████████| 7/7 [00:05<00:00,  1.28it/s]\n",
      "Training (10681 / 18000 Steps) (loss=0.32718): 100%|██████████| 7/7 [00:05<00:00,  1.33it/s]\n",
      "Training (10688 / 18000 Steps) (loss=0.43704): 100%|██████████| 7/7 [00:05<00:00,  1.30it/s]\n",
      "Training (10695 / 18000 Steps) (loss=0.55509): 100%|██████████| 7/7 [00:05<00:00,  1.36it/s]\n",
      "Validate (10696 / 10 Steps): 100%|██████████| 2/2 [00:04<00:00,  2.09s/it]<00:02,  1.25it/s]\n",
      "Training (10700 / 18000 Steps) (loss=0.45557):  71%|███████▏  | 5/7 [00:09<00:04,  2.19s/it]"
     ]
    },
    {
     "name": "stdout",
     "output_type": "stream",
     "text": [
      "Model Was Not Saved ! Current Best Avg. Dice: 0.3794255256652832 Current Avg. Dice: 0.3427408039569855 Current Avg. tumor Dice: 0.34409114718437195 Current Avg. lymph Dice: 0.3413904905319214\n"
     ]
    },
    {
     "name": "stderr",
     "output_type": "stream",
     "text": [
      "Training (10702 / 18000 Steps) (loss=0.38937): 100%|██████████| 7/7 [00:09<00:00,  1.41s/it]\n",
      "Training (10709 / 18000 Steps) (loss=0.42528): 100%|██████████| 7/7 [00:05<00:00,  1.29it/s]\n",
      "Training (10716 / 18000 Steps) (loss=0.40155): 100%|██████████| 7/7 [00:05<00:00,  1.34it/s]\n",
      "Training (10723 / 18000 Steps) (loss=0.18426): 100%|██████████| 7/7 [00:05<00:00,  1.31it/s]\n",
      "Training (10730 / 18000 Steps) (loss=0.47021): 100%|██████████| 7/7 [00:05<00:00,  1.34it/s]\n",
      "Training (10737 / 18000 Steps) (loss=0.41693): 100%|██████████| 7/7 [00:05<00:00,  1.30it/s]\n",
      "Training (10744 / 18000 Steps) (loss=0.31495): 100%|██████████| 7/7 [00:05<00:00,  1.30it/s]\n",
      "Training (10751 / 18000 Steps) (loss=0.43786): 100%|██████████| 7/7 [00:05<00:00,  1.37it/s]\n",
      "Training (10758 / 18000 Steps) (loss=0.29951): 100%|██████████| 7/7 [00:05<00:00,  1.34it/s]\n",
      "Training (10765 / 18000 Steps) (loss=0.21566): 100%|██████████| 7/7 [00:05<00:00,  1.38it/s]\n",
      "Training (10772 / 18000 Steps) (loss=0.49872): 100%|██████████| 7/7 [00:05<00:00,  1.31it/s]\n",
      "Training (10779 / 18000 Steps) (loss=0.33052): 100%|██████████| 7/7 [00:05<00:00,  1.30it/s]\n",
      "Training (10786 / 18000 Steps) (loss=0.41541): 100%|██████████| 7/7 [00:05<00:00,  1.36it/s]\n",
      "Training (10793 / 18000 Steps) (loss=0.40676): 100%|██████████| 7/7 [00:05<00:00,  1.30it/s]\n",
      "Validate (10794 / 10 Steps): 100%|██████████| 2/2 [00:04<00:00,  2.09s/it]<00:00,  1.75it/s]\n",
      "Training (10800 / 18000 Steps) (loss=0.33221): 100%|██████████| 7/7 [00:09<00:00,  1.39s/it]\n"
     ]
    },
    {
     "name": "stdout",
     "output_type": "stream",
     "text": [
      "Model Was Not Saved ! Current Best Avg. Dice: 0.3794255256652832 Current Avg. Dice: 0.3493156433105469 Current Avg. tumor Dice: 0.3642450273036957 Current Avg. lymph Dice: 0.3343862295150757\n"
     ]
    },
    {
     "name": "stderr",
     "output_type": "stream",
     "text": [
      "Training (10807 / 18000 Steps) (loss=0.39204): 100%|██████████| 7/7 [00:05<00:00,  1.34it/s]\n",
      "Training (10814 / 18000 Steps) (loss=0.26542): 100%|██████████| 7/7 [00:05<00:00,  1.30it/s]\n",
      "Training (10821 / 18000 Steps) (loss=0.48578): 100%|██████████| 7/7 [00:05<00:00,  1.29it/s]\n",
      "Training (10828 / 18000 Steps) (loss=0.44028): 100%|██████████| 7/7 [00:05<00:00,  1.33it/s]\n",
      "Training (10835 / 18000 Steps) (loss=0.29885): 100%|██████████| 7/7 [00:05<00:00,  1.31it/s]\n",
      "Training (10842 / 18000 Steps) (loss=0.53979): 100%|██████████| 7/7 [00:05<00:00,  1.30it/s]\n",
      "Training (10849 / 18000 Steps) (loss=0.33658): 100%|██████████| 7/7 [00:05<00:00,  1.29it/s]\n",
      "Training (10856 / 18000 Steps) (loss=0.15779): 100%|██████████| 7/7 [00:05<00:00,  1.34it/s]\n",
      "Training (10863 / 18000 Steps) (loss=0.35569): 100%|██████████| 7/7 [00:05<00:00,  1.27it/s]\n",
      "Training (10870 / 18000 Steps) (loss=0.33373): 100%|██████████| 7/7 [00:05<00:00,  1.31it/s]\n",
      "Training (10877 / 18000 Steps) (loss=0.46369): 100%|██████████| 7/7 [00:05<00:00,  1.36it/s]\n",
      "Training (10884 / 18000 Steps) (loss=0.38195): 100%|██████████| 7/7 [00:05<00:00,  1.34it/s]\n",
      "Training (10891 / 18000 Steps) (loss=0.22163): 100%|██████████| 7/7 [00:05<00:00,  1.30it/s]\n",
      "Training (10898 / 18000 Steps) (loss=0.27301): 100%|██████████| 7/7 [00:05<00:00,  1.32it/s]\n",
      "Validate (10899 / 10 Steps): 100%|██████████| 2/2 [00:04<00:00,  2.10s/it]<00:18,  3.15s/it]\n",
      "Training (10900 / 18000 Steps) (loss=0.48576):  29%|██▊       | 2/7 [00:07<00:20,  4.04s/it]"
     ]
    },
    {
     "name": "stdout",
     "output_type": "stream",
     "text": [
      "Model Was Not Saved ! Current Best Avg. Dice: 0.3794255256652832 Current Avg. Dice: 0.33363866806030273 Current Avg. tumor Dice: 0.3322042226791382 Current Avg. lymph Dice: 0.3350731134414673\n"
     ]
    },
    {
     "name": "stderr",
     "output_type": "stream",
     "text": [
      "Training (10905 / 18000 Steps) (loss=0.54031): 100%|██████████| 7/7 [00:09<00:00,  1.40s/it]\n",
      "Training (10912 / 18000 Steps) (loss=0.35947): 100%|██████████| 7/7 [00:05<00:00,  1.29it/s]\n",
      "Training (10919 / 18000 Steps) (loss=0.28658): 100%|██████████| 7/7 [00:05<00:00,  1.34it/s]\n",
      "Training (10926 / 18000 Steps) (loss=0.22720): 100%|██████████| 7/7 [00:05<00:00,  1.30it/s]\n",
      "Training (10933 / 18000 Steps) (loss=0.52628): 100%|██████████| 7/7 [00:05<00:00,  1.29it/s]\n",
      "Training (10940 / 18000 Steps) (loss=0.41247): 100%|██████████| 7/7 [00:05<00:00,  1.29it/s]\n",
      "Training (10947 / 18000 Steps) (loss=0.43596): 100%|██████████| 7/7 [00:05<00:00,  1.27it/s]\n",
      "Training (10954 / 18000 Steps) (loss=0.30792): 100%|██████████| 7/7 [00:05<00:00,  1.26it/s]\n",
      "Training (10961 / 18000 Steps) (loss=0.42826): 100%|██████████| 7/7 [00:05<00:00,  1.32it/s]\n",
      "Training (10968 / 18000 Steps) (loss=0.36378): 100%|██████████| 7/7 [00:05<00:00,  1.27it/s]\n",
      "Training (10975 / 18000 Steps) (loss=0.30839): 100%|██████████| 7/7 [00:05<00:00,  1.33it/s]\n",
      "Training (10982 / 18000 Steps) (loss=0.15851): 100%|██████████| 7/7 [00:05<00:00,  1.26it/s]\n",
      "Training (10989 / 18000 Steps) (loss=0.53113): 100%|██████████| 7/7 [00:05<00:00,  1.34it/s]\n",
      "Training (10996 / 18000 Steps) (loss=0.21302): 100%|██████████| 7/7 [00:05<00:00,  1.36it/s]\n",
      "Validate (10997 / 10 Steps): 100%|██████████| 2/2 [00:04<00:00,  2.14s/it]<00:04,  1.01s/it]\n",
      "Training (11000 / 18000 Steps) (loss=0.47242):  57%|█████▋    | 4/7 [00:08<00:07,  2.49s/it]"
     ]
    },
    {
     "name": "stdout",
     "output_type": "stream",
     "text": [
      "Model Was Not Saved ! Current Best Avg. Dice: 0.3794255256652832 Current Avg. Dice: 0.31731367111206055 Current Avg. tumor Dice: 0.32599806785583496 Current Avg. lymph Dice: 0.30862921476364136\n"
     ]
    },
    {
     "name": "stderr",
     "output_type": "stream",
     "text": [
      "Training (11003 / 18000 Steps) (loss=0.43564): 100%|██████████| 7/7 [00:09<00:00,  1.40s/it]\n",
      "Training (11010 / 18000 Steps) (loss=0.43137): 100%|██████████| 7/7 [00:05<00:00,  1.35it/s]\n",
      "Training (11017 / 18000 Steps) (loss=0.52727): 100%|██████████| 7/7 [00:05<00:00,  1.30it/s]\n",
      "Training (11024 / 18000 Steps) (loss=0.46832): 100%|██████████| 7/7 [00:05<00:00,  1.32it/s]\n",
      "Training (11031 / 18000 Steps) (loss=0.38976): 100%|██████████| 7/7 [00:05<00:00,  1.31it/s]\n",
      "Training (11038 / 18000 Steps) (loss=0.67056): 100%|██████████| 7/7 [00:05<00:00,  1.34it/s]\n",
      "Training (11045 / 18000 Steps) (loss=0.38385): 100%|██████████| 7/7 [00:05<00:00,  1.33it/s]\n",
      "Training (11052 / 18000 Steps) (loss=0.35081): 100%|██████████| 7/7 [00:05<00:00,  1.31it/s]\n",
      "Training (11059 / 18000 Steps) (loss=0.54129): 100%|██████████| 7/7 [00:05<00:00,  1.33it/s]\n",
      "Training (11066 / 18000 Steps) (loss=0.30084): 100%|██████████| 7/7 [00:05<00:00,  1.30it/s]\n",
      "Training (11073 / 18000 Steps) (loss=0.32874): 100%|██████████| 7/7 [00:05<00:00,  1.27it/s]\n",
      "Training (11080 / 18000 Steps) (loss=0.46006): 100%|██████████| 7/7 [00:05<00:00,  1.33it/s]\n",
      "Training (11087 / 18000 Steps) (loss=0.54170): 100%|██████████| 7/7 [00:05<00:00,  1.26it/s]\n",
      "Training (11094 / 18000 Steps) (loss=0.42882): 100%|██████████| 7/7 [00:05<00:00,  1.32it/s]\n",
      "Validate (11095 / 10 Steps): 100%|██████████| 2/2 [00:04<00:00,  2.09s/it]<00:01,  1.60it/s]\n",
      "Training (11100 / 18000 Steps) (loss=0.35335):  86%|████████▌ | 6/7 [00:09<00:01,  1.99s/it]"
     ]
    },
    {
     "name": "stdout",
     "output_type": "stream",
     "text": [
      "Model Was Not Saved ! Current Best Avg. Dice: 0.3794255256652832 Current Avg. Dice: 0.2940881848335266 Current Avg. tumor Dice: 0.3338462710380554 Current Avg. lymph Dice: 0.2543301284313202\n"
     ]
    },
    {
     "name": "stderr",
     "output_type": "stream",
     "text": [
      "Training (11101 / 18000 Steps) (loss=0.31128): 100%|██████████| 7/7 [00:09<00:00,  1.35s/it]\n",
      "Training (11108 / 18000 Steps) (loss=0.32472): 100%|██████████| 7/7 [00:05<00:00,  1.30it/s]\n",
      "Training (11115 / 18000 Steps) (loss=0.32638): 100%|██████████| 7/7 [00:05<00:00,  1.30it/s]\n",
      "Training (11122 / 18000 Steps) (loss=0.43259): 100%|██████████| 7/7 [00:05<00:00,  1.35it/s]\n",
      "Training (11129 / 18000 Steps) (loss=0.54634): 100%|██████████| 7/7 [00:05<00:00,  1.30it/s]\n",
      "Training (11136 / 18000 Steps) (loss=0.18623): 100%|██████████| 7/7 [00:05<00:00,  1.33it/s]\n",
      "Training (11143 / 18000 Steps) (loss=0.29053): 100%|██████████| 7/7 [00:05<00:00,  1.30it/s]\n",
      "Training (11150 / 18000 Steps) (loss=0.28511): 100%|██████████| 7/7 [00:05<00:00,  1.32it/s]\n",
      "Training (11157 / 18000 Steps) (loss=0.34679): 100%|██████████| 7/7 [00:05<00:00,  1.31it/s]\n",
      "Training (11164 / 18000 Steps) (loss=0.66840): 100%|██████████| 7/7 [00:05<00:00,  1.30it/s]\n",
      "Training (11171 / 18000 Steps) (loss=0.53801): 100%|██████████| 7/7 [00:05<00:00,  1.34it/s]\n",
      "Training (11178 / 18000 Steps) (loss=0.26158): 100%|██████████| 7/7 [00:05<00:00,  1.30it/s]\n",
      "Training (11185 / 18000 Steps) (loss=0.34924): 100%|██████████| 7/7 [00:05<00:00,  1.35it/s]\n",
      "Training (11192 / 18000 Steps) (loss=0.53888): 100%|██████████| 7/7 [00:05<00:00,  1.26it/s]\n",
      "Training (11199 / 18000 Steps) (loss=0.38741): 100%|██████████| 7/7 [00:05<00:00,  1.33it/s]\n",
      "Validate (11200 / 10 Steps): 100%|██████████| 2/2 [00:04<00:00,  2.09s/it]<?, ?it/s]\n",
      "Training (11200 / 18000 Steps) (loss=0.42932):  14%|█▍        | 1/7 [00:07<00:42,  7.05s/it]"
     ]
    },
    {
     "name": "stdout",
     "output_type": "stream",
     "text": [
      "Model Was Not Saved ! Current Best Avg. Dice: 0.3794255256652832 Current Avg. Dice: 0.340459942817688 Current Avg. tumor Dice: 0.36963900923728943 Current Avg. lymph Dice: 0.31128090620040894\n"
     ]
    },
    {
     "name": "stderr",
     "output_type": "stream",
     "text": [
      "Training (11206 / 18000 Steps) (loss=0.44580): 100%|██████████| 7/7 [00:09<00:00,  1.35s/it]\n",
      "Training (11213 / 18000 Steps) (loss=0.29408): 100%|██████████| 7/7 [00:05<00:00,  1.29it/s]\n",
      "Training (11220 / 18000 Steps) (loss=0.47695): 100%|██████████| 7/7 [00:05<00:00,  1.28it/s]\n",
      "Training (11227 / 18000 Steps) (loss=0.66683): 100%|██████████| 7/7 [00:05<00:00,  1.32it/s]\n",
      "Training (11234 / 18000 Steps) (loss=0.42537): 100%|██████████| 7/7 [00:05<00:00,  1.29it/s]\n",
      "Training (11241 / 18000 Steps) (loss=0.52372): 100%|██████████| 7/7 [00:05<00:00,  1.30it/s]\n",
      "Training (11248 / 18000 Steps) (loss=0.42691): 100%|██████████| 7/7 [00:05<00:00,  1.27it/s]\n",
      "Training (11255 / 18000 Steps) (loss=0.30149): 100%|██████████| 7/7 [00:05<00:00,  1.33it/s]\n",
      "Training (11262 / 18000 Steps) (loss=0.20833): 100%|██████████| 7/7 [00:05<00:00,  1.29it/s]\n",
      "Training (11269 / 18000 Steps) (loss=0.28873): 100%|██████████| 7/7 [00:05<00:00,  1.31it/s]\n",
      "Training (11276 / 18000 Steps) (loss=0.52819): 100%|██████████| 7/7 [00:05<00:00,  1.30it/s]\n",
      "Training (11283 / 18000 Steps) (loss=0.52673): 100%|██████████| 7/7 [00:05<00:00,  1.32it/s]\n",
      "Training (11290 / 18000 Steps) (loss=0.16500): 100%|██████████| 7/7 [00:05<00:00,  1.26it/s]\n",
      "Training (11297 / 18000 Steps) (loss=0.19340): 100%|██████████| 7/7 [00:05<00:00,  1.34it/s]\n",
      "Validate (11298 / 10 Steps): 100%|██████████| 2/2 [00:04<00:00,  2.10s/it]<00:07,  1.50s/it]\n",
      "Training (11300 / 18000 Steps) (loss=0.39040):  43%|████▎     | 3/7 [00:08<00:11,  2.94s/it]"
     ]
    },
    {
     "name": "stdout",
     "output_type": "stream",
     "text": [
      "Model Was Not Saved ! Current Best Avg. Dice: 0.3794255256652832 Current Avg. Dice: 0.31861352920532227 Current Avg. tumor Dice: 0.34321582317352295 Current Avg. lymph Dice: 0.2940112054347992\n"
     ]
    },
    {
     "name": "stderr",
     "output_type": "stream",
     "text": [
      "Training (11304 / 18000 Steps) (loss=0.27014): 100%|██████████| 7/7 [00:09<00:00,  1.39s/it]\n",
      "Training (11311 / 18000 Steps) (loss=0.46571): 100%|██████████| 7/7 [00:05<00:00,  1.31it/s]\n",
      "Training (11318 / 18000 Steps) (loss=0.37079): 100%|██████████| 7/7 [00:05<00:00,  1.32it/s]\n",
      "Training (11325 / 18000 Steps) (loss=0.37840): 100%|██████████| 7/7 [00:05<00:00,  1.27it/s]\n",
      "Training (11332 / 18000 Steps) (loss=0.28705): 100%|██████████| 7/7 [00:05<00:00,  1.35it/s]\n",
      "Training (11339 / 18000 Steps) (loss=0.56841): 100%|██████████| 7/7 [00:05<00:00,  1.39it/s]\n",
      "Training (11346 / 18000 Steps) (loss=0.48286): 100%|██████████| 7/7 [00:05<00:00,  1.30it/s]\n",
      "Training (11353 / 18000 Steps) (loss=0.43862): 100%|██████████| 7/7 [00:05<00:00,  1.31it/s]\n",
      "Training (11360 / 18000 Steps) (loss=0.40543): 100%|██████████| 7/7 [00:05<00:00,  1.27it/s]\n",
      "Training (11367 / 18000 Steps) (loss=0.41719): 100%|██████████| 7/7 [00:05<00:00,  1.27it/s]\n",
      "Training (11374 / 18000 Steps) (loss=0.44957): 100%|██████████| 7/7 [00:05<00:00,  1.29it/s]\n",
      "Training (11381 / 18000 Steps) (loss=0.45425): 100%|██████████| 7/7 [00:05<00:00,  1.27it/s]\n",
      "Training (11388 / 18000 Steps) (loss=0.48934): 100%|██████████| 7/7 [00:05<00:00,  1.28it/s]\n",
      "Training (11395 / 18000 Steps) (loss=0.38043): 100%|██████████| 7/7 [00:05<00:00,  1.28it/s]\n",
      "Validate (11396 / 10 Steps): 100%|██████████| 2/2 [00:04<00:00,  2.17s/it]<00:02,  1.29it/s]\n",
      "Training (11400 / 18000 Steps) (loss=0.31773):  71%|███████▏  | 5/7 [00:09<00:04,  2.23s/it]"
     ]
    },
    {
     "name": "stdout",
     "output_type": "stream",
     "text": [
      "Model Was Not Saved ! Current Best Avg. Dice: 0.3794255256652832 Current Avg. Dice: 0.3307037353515625 Current Avg. tumor Dice: 0.34528258442878723 Current Avg. lymph Dice: 0.31612491607666016\n"
     ]
    },
    {
     "name": "stderr",
     "output_type": "stream",
     "text": [
      "Training (11402 / 18000 Steps) (loss=0.44593): 100%|██████████| 7/7 [00:09<00:00,  1.41s/it]\n",
      "Training (11409 / 18000 Steps) (loss=0.45659): 100%|██████████| 7/7 [00:05<00:00,  1.29it/s]\n",
      "Training (11416 / 18000 Steps) (loss=0.50746): 100%|██████████| 7/7 [00:05<00:00,  1.25it/s]\n",
      "Training (11423 / 18000 Steps) (loss=0.21284): 100%|██████████| 7/7 [00:05<00:00,  1.27it/s]\n",
      "Training (11430 / 18000 Steps) (loss=0.57435): 100%|██████████| 7/7 [00:05<00:00,  1.33it/s]\n",
      "Training (11437 / 18000 Steps) (loss=0.57496): 100%|██████████| 7/7 [00:05<00:00,  1.28it/s]\n",
      "Training (11444 / 18000 Steps) (loss=0.30103): 100%|██████████| 7/7 [00:05<00:00,  1.33it/s]\n",
      "Training (11451 / 18000 Steps) (loss=0.36287): 100%|██████████| 7/7 [00:05<00:00,  1.29it/s]\n",
      "Training (11458 / 18000 Steps) (loss=0.41190): 100%|██████████| 7/7 [00:05<00:00,  1.33it/s]\n",
      "Training (11465 / 18000 Steps) (loss=0.47246): 100%|██████████| 7/7 [00:05<00:00,  1.26it/s]\n",
      "Training (11472 / 18000 Steps) (loss=0.18121): 100%|██████████| 7/7 [00:05<00:00,  1.31it/s]\n",
      "Training (11479 / 18000 Steps) (loss=0.41796): 100%|██████████| 7/7 [00:05<00:00,  1.27it/s]\n",
      "Training (11486 / 18000 Steps) (loss=0.30783): 100%|██████████| 7/7 [00:05<00:00,  1.28it/s]\n",
      "Training (11493 / 18000 Steps) (loss=0.55009): 100%|██████████| 7/7 [00:05<00:00,  1.33it/s]\n",
      "Validate (11494 / 10 Steps): 100%|██████████| 2/2 [00:04<00:00,  2.10s/it]<00:00,  1.76it/s]\n",
      "Training (11500 / 18000 Steps) (loss=0.29179): 100%|██████████| 7/7 [00:09<00:00,  1.38s/it]\n"
     ]
    },
    {
     "name": "stdout",
     "output_type": "stream",
     "text": [
      "Model Was Not Saved ! Current Best Avg. Dice: 0.3794255256652832 Current Avg. Dice: 0.30914074182510376 Current Avg. tumor Dice: 0.31342756748199463 Current Avg. lymph Dice: 0.30485397577285767\n"
     ]
    },
    {
     "name": "stderr",
     "output_type": "stream",
     "text": [
      "Training (11507 / 18000 Steps) (loss=0.55767): 100%|██████████| 7/7 [00:05<00:00,  1.28it/s]\n",
      "Training (11514 / 18000 Steps) (loss=0.39238): 100%|██████████| 7/7 [00:05<00:00,  1.28it/s]\n",
      "Training (11521 / 18000 Steps) (loss=0.16068): 100%|██████████| 7/7 [00:05<00:00,  1.26it/s]\n",
      "Training (11528 / 18000 Steps) (loss=0.45049): 100%|██████████| 7/7 [00:05<00:00,  1.28it/s]\n",
      "Training (11535 / 18000 Steps) (loss=0.44017): 100%|██████████| 7/7 [00:05<00:00,  1.25it/s]\n",
      "Training (11542 / 18000 Steps) (loss=0.14859): 100%|██████████| 7/7 [00:05<00:00,  1.29it/s]\n",
      "Training (11549 / 18000 Steps) (loss=0.40460): 100%|██████████| 7/7 [00:05<00:00,  1.31it/s]\n",
      "Training (11556 / 18000 Steps) (loss=0.52400): 100%|██████████| 7/7 [00:05<00:00,  1.30it/s]\n",
      "Training (11563 / 18000 Steps) (loss=0.49194): 100%|██████████| 7/7 [00:05<00:00,  1.34it/s]\n",
      "Training (11570 / 18000 Steps) (loss=0.46709): 100%|██████████| 7/7 [00:05<00:00,  1.31it/s]\n",
      "Training (11577 / 18000 Steps) (loss=0.48879): 100%|██████████| 7/7 [00:05<00:00,  1.35it/s]\n",
      "Training (11584 / 18000 Steps) (loss=0.53313): 100%|██████████| 7/7 [00:05<00:00,  1.35it/s]\n",
      "Training (11591 / 18000 Steps) (loss=0.32191): 100%|██████████| 7/7 [00:05<00:00,  1.29it/s]\n",
      "Training (11598 / 18000 Steps) (loss=0.52235): 100%|██████████| 7/7 [00:05<00:00,  1.25it/s]\n",
      "Validate (11599 / 10 Steps): 100%|██████████| 2/2 [00:04<00:00,  2.08s/it]<00:17,  2.94s/it]\n",
      "Training (11600 / 18000 Steps) (loss=0.39772):  29%|██▊       | 2/7 [00:07<00:19,  3.94s/it]"
     ]
    },
    {
     "name": "stdout",
     "output_type": "stream",
     "text": [
      "Model Was Not Saved ! Current Best Avg. Dice: 0.3794255256652832 Current Avg. Dice: 0.315690815448761 Current Avg. tumor Dice: 0.3254881501197815 Current Avg. lymph Dice: 0.3058934807777405\n"
     ]
    },
    {
     "name": "stderr",
     "output_type": "stream",
     "text": [
      "Training (11605 / 18000 Steps) (loss=0.63771): 100%|██████████| 7/7 [00:09<00:00,  1.36s/it]\n",
      "Training (11612 / 18000 Steps) (loss=0.31750): 100%|██████████| 7/7 [00:05<00:00,  1.33it/s]\n",
      "Training (11619 / 18000 Steps) (loss=0.51393): 100%|██████████| 7/7 [00:05<00:00,  1.35it/s]\n",
      "Training (11626 / 18000 Steps) (loss=0.53580): 100%|██████████| 7/7 [00:05<00:00,  1.33it/s]\n",
      "Training (11633 / 18000 Steps) (loss=0.36903): 100%|██████████| 7/7 [00:05<00:00,  1.30it/s]\n",
      "Training (11640 / 18000 Steps) (loss=0.26206): 100%|██████████| 7/7 [00:05<00:00,  1.34it/s]\n",
      "Training (11647 / 18000 Steps) (loss=0.24349): 100%|██████████| 7/7 [00:05<00:00,  1.34it/s]\n",
      "Training (11654 / 18000 Steps) (loss=0.41475): 100%|██████████| 7/7 [00:05<00:00,  1.31it/s]\n",
      "Training (11661 / 18000 Steps) (loss=0.42983): 100%|██████████| 7/7 [00:05<00:00,  1.33it/s]\n",
      "Training (11668 / 18000 Steps) (loss=0.40769): 100%|██████████| 7/7 [00:05<00:00,  1.29it/s]\n",
      "Training (11675 / 18000 Steps) (loss=0.28318): 100%|██████████| 7/7 [00:05<00:00,  1.31it/s]\n",
      "Training (11682 / 18000 Steps) (loss=0.41566): 100%|██████████| 7/7 [00:05<00:00,  1.37it/s]\n",
      "Training (11689 / 18000 Steps) (loss=0.30185): 100%|██████████| 7/7 [00:05<00:00,  1.33it/s]\n",
      "Training (11696 / 18000 Steps) (loss=0.53427): 100%|██████████| 7/7 [00:05<00:00,  1.30it/s]\n",
      "Validate (11697 / 10 Steps): 100%|██████████| 2/2 [00:04<00:00,  2.11s/it]<00:03,  1.00it/s]\n",
      "Training (11700 / 18000 Steps) (loss=0.29512):  57%|█████▋    | 4/7 [00:08<00:07,  2.46s/it]"
     ]
    },
    {
     "name": "stdout",
     "output_type": "stream",
     "text": [
      "Model Was Not Saved ! Current Best Avg. Dice: 0.3794255256652832 Current Avg. Dice: 0.31924110651016235 Current Avg. tumor Dice: 0.33035150170326233 Current Avg. lymph Dice: 0.30813068151474\n"
     ]
    },
    {
     "name": "stderr",
     "output_type": "stream",
     "text": [
      "Training (11703 / 18000 Steps) (loss=0.45948): 100%|██████████| 7/7 [00:09<00:00,  1.39s/it]\n",
      "Training (11710 / 18000 Steps) (loss=0.59552): 100%|██████████| 7/7 [00:05<00:00,  1.31it/s]\n",
      "Training (11717 / 18000 Steps) (loss=0.28129): 100%|██████████| 7/7 [00:05<00:00,  1.28it/s]\n",
      "Training (11724 / 18000 Steps) (loss=0.20312): 100%|██████████| 7/7 [00:05<00:00,  1.27it/s]\n",
      "Training (11731 / 18000 Steps) (loss=0.35918): 100%|██████████| 7/7 [00:05<00:00,  1.35it/s]\n",
      "Training (11738 / 18000 Steps) (loss=0.37644): 100%|██████████| 7/7 [00:05<00:00,  1.30it/s]\n",
      "Training (11745 / 18000 Steps) (loss=0.30667): 100%|██████████| 7/7 [00:05<00:00,  1.32it/s]\n",
      "Training (11752 / 18000 Steps) (loss=0.39409): 100%|██████████| 7/7 [00:05<00:00,  1.25it/s]\n",
      "Training (11759 / 18000 Steps) (loss=0.39978): 100%|██████████| 7/7 [00:05<00:00,  1.35it/s]\n",
      "Training (11766 / 18000 Steps) (loss=0.33463): 100%|██████████| 7/7 [00:05<00:00,  1.31it/s]\n",
      "Training (11773 / 18000 Steps) (loss=0.51516): 100%|██████████| 7/7 [00:05<00:00,  1.34it/s]\n",
      "Training (11780 / 18000 Steps) (loss=0.46081): 100%|██████████| 7/7 [00:05<00:00,  1.32it/s]\n",
      "Training (11787 / 18000 Steps) (loss=0.63664): 100%|██████████| 7/7 [00:05<00:00,  1.28it/s]\n",
      "Training (11794 / 18000 Steps) (loss=0.31232): 100%|██████████| 7/7 [00:05<00:00,  1.37it/s]\n",
      "Validate (11795 / 10 Steps): 100%|██████████| 2/2 [00:04<00:00,  2.07s/it]<00:01,  1.60it/s]\n",
      "Training (11800 / 18000 Steps) (loss=0.37974):  86%|████████▌ | 6/7 [00:09<00:01,  1.98s/it]"
     ]
    },
    {
     "name": "stdout",
     "output_type": "stream",
     "text": [
      "Model Was Not Saved ! Current Best Avg. Dice: 0.3794255256652832 Current Avg. Dice: 0.32912299036979675 Current Avg. tumor Dice: 0.3257576823234558 Current Avg. lymph Dice: 0.3324882984161377\n"
     ]
    },
    {
     "name": "stderr",
     "output_type": "stream",
     "text": [
      "Training (11801 / 18000 Steps) (loss=0.60091): 100%|██████████| 7/7 [00:09<00:00,  1.34s/it]\n",
      "Training (11808 / 18000 Steps) (loss=0.34518): 100%|██████████| 7/7 [00:05<00:00,  1.30it/s]\n",
      "Training (11815 / 18000 Steps) (loss=0.55751): 100%|██████████| 7/7 [00:05<00:00,  1.32it/s]\n",
      "Training (11822 / 18000 Steps) (loss=0.32623): 100%|██████████| 7/7 [00:05<00:00,  1.24it/s]\n",
      "Training (11829 / 18000 Steps) (loss=0.42270): 100%|██████████| 7/7 [00:05<00:00,  1.31it/s]\n",
      "Training (11836 / 18000 Steps) (loss=0.45359): 100%|██████████| 7/7 [00:05<00:00,  1.37it/s]\n",
      "Training (11843 / 18000 Steps) (loss=0.32659): 100%|██████████| 7/7 [00:05<00:00,  1.22it/s]\n",
      "Training (11850 / 18000 Steps) (loss=0.41429): 100%|██████████| 7/7 [00:05<00:00,  1.30it/s]\n",
      "Training (11857 / 18000 Steps) (loss=0.28427): 100%|██████████| 7/7 [00:05<00:00,  1.30it/s]\n",
      "Training (11864 / 18000 Steps) (loss=0.14612): 100%|██████████| 7/7 [00:05<00:00,  1.28it/s]\n",
      "Training (11871 / 18000 Steps) (loss=0.42468): 100%|██████████| 7/7 [00:05<00:00,  1.34it/s]\n",
      "Training (11878 / 18000 Steps) (loss=0.36521): 100%|██████████| 7/7 [00:05<00:00,  1.30it/s]\n",
      "Training (11885 / 18000 Steps) (loss=0.55347): 100%|██████████| 7/7 [00:05<00:00,  1.29it/s]\n",
      "Training (11892 / 18000 Steps) (loss=0.22309): 100%|██████████| 7/7 [00:05<00:00,  1.30it/s]\n",
      "Training (11899 / 18000 Steps) (loss=0.33239): 100%|██████████| 7/7 [00:05<00:00,  1.31it/s]\n",
      "Validate (11900 / 10 Steps): 100%|██████████| 2/2 [00:04<00:00,  2.06s/it]<?, ?it/s]\n",
      "Training (11900 / 18000 Steps) (loss=0.41108):  14%|█▍        | 1/7 [00:07<00:42,  7.06s/it]"
     ]
    },
    {
     "name": "stdout",
     "output_type": "stream",
     "text": [
      "Model Was Not Saved ! Current Best Avg. Dice: 0.3794255256652832 Current Avg. Dice: 0.32189178466796875 Current Avg. tumor Dice: 0.33896270394325256 Current Avg. lymph Dice: 0.3048209249973297\n"
     ]
    },
    {
     "name": "stderr",
     "output_type": "stream",
     "text": [
      "Training (11906 / 18000 Steps) (loss=0.43593): 100%|██████████| 7/7 [00:09<00:00,  1.35s/it]\n",
      "Training (11913 / 18000 Steps) (loss=0.50463): 100%|██████████| 7/7 [00:05<00:00,  1.29it/s]\n",
      "Training (11920 / 18000 Steps) (loss=0.28066): 100%|██████████| 7/7 [00:05<00:00,  1.34it/s]\n",
      "Training (11927 / 18000 Steps) (loss=0.21981): 100%|██████████| 7/7 [00:05<00:00,  1.32it/s]\n",
      "Training (11934 / 18000 Steps) (loss=0.37434): 100%|██████████| 7/7 [00:05<00:00,  1.28it/s]\n",
      "Training (11941 / 18000 Steps) (loss=0.19008): 100%|██████████| 7/7 [00:05<00:00,  1.27it/s]\n",
      "Training (11948 / 18000 Steps) (loss=0.18396): 100%|██████████| 7/7 [00:05<00:00,  1.31it/s]\n",
      "Training (11955 / 18000 Steps) (loss=0.21484): 100%|██████████| 7/7 [00:05<00:00,  1.26it/s]\n",
      "Training (11962 / 18000 Steps) (loss=0.14810): 100%|██████████| 7/7 [00:05<00:00,  1.25it/s]\n",
      "Training (11969 / 18000 Steps) (loss=0.35251): 100%|██████████| 7/7 [00:05<00:00,  1.31it/s]\n",
      "Training (11976 / 18000 Steps) (loss=0.16162): 100%|██████████| 7/7 [00:05<00:00,  1.33it/s]\n",
      "Training (11983 / 18000 Steps) (loss=0.54835): 100%|██████████| 7/7 [00:05<00:00,  1.28it/s]\n",
      "Training (11990 / 18000 Steps) (loss=0.15901): 100%|██████████| 7/7 [00:05<00:00,  1.33it/s]\n",
      "Training (11997 / 18000 Steps) (loss=0.52008): 100%|██████████| 7/7 [00:05<00:00,  1.33it/s]\n",
      "Validate (11998 / 10 Steps): 100%|██████████| 2/2 [00:04<00:00,  2.12s/it]<00:07,  1.44s/it]\n",
      "Training (12000 / 18000 Steps) (loss=0.45782):  43%|████▎     | 3/7 [00:08<00:11,  2.93s/it]"
     ]
    },
    {
     "name": "stdout",
     "output_type": "stream",
     "text": [
      "Model Was Not Saved ! Current Best Avg. Dice: 0.3794255256652832 Current Avg. Dice: 0.3544033169746399 Current Avg. tumor Dice: 0.3776126503944397 Current Avg. lymph Dice: 0.3311939835548401\n"
     ]
    },
    {
     "name": "stderr",
     "output_type": "stream",
     "text": [
      "Training (12004 / 18000 Steps) (loss=0.31691): 100%|██████████| 7/7 [00:09<00:00,  1.37s/it]\n",
      "Training (12011 / 18000 Steps) (loss=0.38895): 100%|██████████| 7/7 [00:05<00:00,  1.35it/s]\n",
      "Training (12018 / 18000 Steps) (loss=0.50182): 100%|██████████| 7/7 [00:05<00:00,  1.39it/s]\n",
      "Training (12025 / 18000 Steps) (loss=0.12937): 100%|██████████| 7/7 [00:05<00:00,  1.31it/s]\n",
      "Training (12032 / 18000 Steps) (loss=0.44980): 100%|██████████| 7/7 [00:05<00:00,  1.33it/s]\n",
      "Training (12039 / 18000 Steps) (loss=0.30916): 100%|██████████| 7/7 [00:05<00:00,  1.30it/s]\n",
      "Training (12046 / 18000 Steps) (loss=0.54481): 100%|██████████| 7/7 [00:05<00:00,  1.30it/s]\n",
      "Training (12053 / 18000 Steps) (loss=0.28900): 100%|██████████| 7/7 [00:05<00:00,  1.29it/s]\n",
      "Training (12060 / 18000 Steps) (loss=0.30187): 100%|██████████| 7/7 [00:05<00:00,  1.32it/s]\n",
      "Training (12067 / 18000 Steps) (loss=0.48239): 100%|██████████| 7/7 [00:05<00:00,  1.30it/s]\n",
      "Training (12074 / 18000 Steps) (loss=0.40296): 100%|██████████| 7/7 [00:05<00:00,  1.31it/s]\n",
      "Training (12081 / 18000 Steps) (loss=0.26584): 100%|██████████| 7/7 [00:05<00:00,  1.22it/s]\n",
      "Training (12088 / 18000 Steps) (loss=0.47063): 100%|██████████| 7/7 [00:05<00:00,  1.29it/s]\n",
      "Training (12095 / 18000 Steps) (loss=0.50987): 100%|██████████| 7/7 [00:05<00:00,  1.28it/s]\n",
      "Validate (12096 / 10 Steps): 100%|██████████| 2/2 [00:04<00:00,  2.11s/it]<00:02,  1.29it/s]\n",
      "Training (12100 / 18000 Steps) (loss=0.34197):  71%|███████▏  | 5/7 [00:09<00:04,  2.19s/it]"
     ]
    },
    {
     "name": "stdout",
     "output_type": "stream",
     "text": [
      "Model Was Not Saved ! Current Best Avg. Dice: 0.3794255256652832 Current Avg. Dice: 0.3210449814796448 Current Avg. tumor Dice: 0.3475640118122101 Current Avg. lymph Dice: 0.2945259213447571\n"
     ]
    },
    {
     "name": "stderr",
     "output_type": "stream",
     "text": [
      "Training (12102 / 18000 Steps) (loss=0.29496): 100%|██████████| 7/7 [00:09<00:00,  1.39s/it]\n",
      "Training (12109 / 18000 Steps) (loss=0.35731): 100%|██████████| 7/7 [00:05<00:00,  1.32it/s]\n",
      "Training (12116 / 18000 Steps) (loss=0.50814): 100%|██████████| 7/7 [00:05<00:00,  1.30it/s]\n",
      "Training (12123 / 18000 Steps) (loss=0.45372): 100%|██████████| 7/7 [00:05<00:00,  1.33it/s]\n",
      "Training (12130 / 18000 Steps) (loss=0.55973): 100%|██████████| 7/7 [00:05<00:00,  1.34it/s]\n",
      "Training (12137 / 18000 Steps) (loss=0.48504): 100%|██████████| 7/7 [00:05<00:00,  1.29it/s]\n",
      "Training (12144 / 18000 Steps) (loss=0.35314): 100%|██████████| 7/7 [00:05<00:00,  1.36it/s]\n",
      "Training (12151 / 18000 Steps) (loss=0.42747): 100%|██████████| 7/7 [00:05<00:00,  1.34it/s]\n",
      "Training (12158 / 18000 Steps) (loss=0.60318): 100%|██████████| 7/7 [00:05<00:00,  1.31it/s]\n",
      "Training (12165 / 18000 Steps) (loss=0.42679): 100%|██████████| 7/7 [00:05<00:00,  1.24it/s]\n",
      "Training (12172 / 18000 Steps) (loss=0.28179): 100%|██████████| 7/7 [00:05<00:00,  1.29it/s]\n",
      "Training (12179 / 18000 Steps) (loss=0.48285): 100%|██████████| 7/7 [00:05<00:00,  1.27it/s]\n",
      "Training (12186 / 18000 Steps) (loss=0.39362): 100%|██████████| 7/7 [00:05<00:00,  1.24it/s]\n",
      "Training (12193 / 18000 Steps) (loss=0.47303): 100%|██████████| 7/7 [00:05<00:00,  1.29it/s]\n",
      "Validate (12194 / 10 Steps): 100%|██████████| 2/2 [00:04<00:00,  2.09s/it]<00:00,  1.72it/s]\n",
      "Training (12200 / 18000 Steps) (loss=0.44836): 100%|██████████| 7/7 [00:10<00:00,  1.52s/it]\n"
     ]
    },
    {
     "name": "stdout",
     "output_type": "stream",
     "text": [
      "Model Was Saved ! Current Best Avg. Dice: 0.38110122084617615 Current Avg. Dice: 0.38110122084617615 Current Avg. tumor Dice: 0.38908690214157104 Current Avg. lymph Dice: 0.37311553955078125\n"
     ]
    },
    {
     "name": "stderr",
     "output_type": "stream",
     "text": [
      "Training (12207 / 18000 Steps) (loss=0.32259): 100%|██████████| 7/7 [00:05<00:00,  1.25it/s]\n",
      "Training (12214 / 18000 Steps) (loss=0.13304): 100%|██████████| 7/7 [00:05<00:00,  1.29it/s]\n",
      "Training (12221 / 18000 Steps) (loss=0.53973): 100%|██████████| 7/7 [00:05<00:00,  1.31it/s]\n",
      "Training (12228 / 18000 Steps) (loss=0.46681): 100%|██████████| 7/7 [00:05<00:00,  1.26it/s]\n",
      "Training (12235 / 18000 Steps) (loss=0.42470): 100%|██████████| 7/7 [00:05<00:00,  1.30it/s]\n",
      "Training (12242 / 18000 Steps) (loss=0.35977): 100%|██████████| 7/7 [00:05<00:00,  1.28it/s]\n",
      "Training (12249 / 18000 Steps) (loss=0.33012): 100%|██████████| 7/7 [00:05<00:00,  1.34it/s]\n",
      "Training (12256 / 18000 Steps) (loss=0.51268): 100%|██████████| 7/7 [00:05<00:00,  1.35it/s]\n",
      "Training (12263 / 18000 Steps) (loss=0.22873): 100%|██████████| 7/7 [00:05<00:00,  1.32it/s]\n",
      "Training (12270 / 18000 Steps) (loss=0.35316): 100%|██████████| 7/7 [00:05<00:00,  1.22it/s]\n",
      "Training (12277 / 18000 Steps) (loss=0.40443): 100%|██████████| 7/7 [00:05<00:00,  1.27it/s]\n",
      "Training (12284 / 18000 Steps) (loss=0.26420): 100%|██████████| 7/7 [00:05<00:00,  1.28it/s]\n",
      "Training (12291 / 18000 Steps) (loss=0.53866): 100%|██████████| 7/7 [00:05<00:00,  1.25it/s]\n",
      "Training (12298 / 18000 Steps) (loss=0.33291): 100%|██████████| 7/7 [00:05<00:00,  1.31it/s]\n",
      "Validate (12299 / 10 Steps): 100%|██████████| 2/2 [00:04<00:00,  2.13s/it]<00:19,  3.17s/it]\n",
      "Training (12300 / 18000 Steps) (loss=0.46688):  29%|██▊       | 2/7 [00:07<00:20,  4.08s/it]"
     ]
    },
    {
     "name": "stdout",
     "output_type": "stream",
     "text": [
      "Model Was Not Saved ! Current Best Avg. Dice: 0.38110122084617615 Current Avg. Dice: 0.3220933675765991 Current Avg. tumor Dice: 0.32900097966194153 Current Avg. lymph Dice: 0.3151857852935791\n"
     ]
    },
    {
     "name": "stderr",
     "output_type": "stream",
     "text": [
      "Training (12305 / 18000 Steps) (loss=0.43209): 100%|██████████| 7/7 [00:09<00:00,  1.41s/it]\n",
      "Training (12312 / 18000 Steps) (loss=0.44499): 100%|██████████| 7/7 [00:05<00:00,  1.28it/s]\n",
      "Training (12319 / 18000 Steps) (loss=0.15161): 100%|██████████| 7/7 [00:05<00:00,  1.28it/s]\n",
      "Training (12326 / 18000 Steps) (loss=0.31851): 100%|██████████| 7/7 [00:05<00:00,  1.30it/s]\n",
      "Training (12333 / 18000 Steps) (loss=0.18622): 100%|██████████| 7/7 [00:05<00:00,  1.26it/s]\n",
      "Training (12340 / 18000 Steps) (loss=0.37856): 100%|██████████| 7/7 [00:06<00:00,  1.16it/s]\n",
      "Training (12347 / 18000 Steps) (loss=0.53182): 100%|██████████| 7/7 [00:05<00:00,  1.29it/s]\n",
      "Training (12354 / 18000 Steps) (loss=0.18944): 100%|██████████| 7/7 [00:05<00:00,  1.31it/s]\n",
      "Training (12361 / 18000 Steps) (loss=0.31720): 100%|██████████| 7/7 [00:05<00:00,  1.28it/s]\n",
      "Training (12368 / 18000 Steps) (loss=0.38024): 100%|██████████| 7/7 [00:05<00:00,  1.32it/s]\n",
      "Training (12375 / 18000 Steps) (loss=0.49376): 100%|██████████| 7/7 [00:05<00:00,  1.33it/s]\n",
      "Training (12382 / 18000 Steps) (loss=0.29788): 100%|██████████| 7/7 [00:05<00:00,  1.28it/s]\n",
      "Training (12389 / 18000 Steps) (loss=0.39409): 100%|██████████| 7/7 [00:05<00:00,  1.32it/s]\n",
      "Training (12396 / 18000 Steps) (loss=0.30445): 100%|██████████| 7/7 [00:05<00:00,  1.30it/s]\n",
      "Validate (12397 / 10 Steps): 100%|██████████| 2/2 [00:04<00:00,  2.16s/it]<00:03,  1.01it/s]\n",
      "Training (12400 / 18000 Steps) (loss=0.38015):  57%|█████▋    | 4/7 [00:08<00:07,  2.48s/it]"
     ]
    },
    {
     "name": "stdout",
     "output_type": "stream",
     "text": [
      "Model Was Not Saved ! Current Best Avg. Dice: 0.38110122084617615 Current Avg. Dice: 0.3257133662700653 Current Avg. tumor Dice: 0.34351447224617004 Current Avg. lymph Dice: 0.30791229009628296\n"
     ]
    },
    {
     "name": "stderr",
     "output_type": "stream",
     "text": [
      "Training (12403 / 18000 Steps) (loss=0.67390): 100%|██████████| 7/7 [00:09<00:00,  1.39s/it]\n",
      "Training (12410 / 18000 Steps) (loss=0.37184): 100%|██████████| 7/7 [00:05<00:00,  1.30it/s]\n",
      "Training (12417 / 18000 Steps) (loss=0.16501): 100%|██████████| 7/7 [00:05<00:00,  1.30it/s]\n",
      "Training (12424 / 18000 Steps) (loss=0.43649): 100%|██████████| 7/7 [00:05<00:00,  1.29it/s]\n",
      "Training (12431 / 18000 Steps) (loss=0.45030): 100%|██████████| 7/7 [00:05<00:00,  1.29it/s]\n",
      "Training (12438 / 18000 Steps) (loss=0.42024): 100%|██████████| 7/7 [00:05<00:00,  1.23it/s]\n",
      "Training (12445 / 18000 Steps) (loss=0.39291): 100%|██████████| 7/7 [00:05<00:00,  1.20it/s]\n",
      "Training (12452 / 18000 Steps) (loss=0.30706): 100%|██████████| 7/7 [00:05<00:00,  1.27it/s]\n",
      "Training (12459 / 18000 Steps) (loss=0.41905): 100%|██████████| 7/7 [00:05<00:00,  1.31it/s]\n",
      "Training (12466 / 18000 Steps) (loss=0.35966): 100%|██████████| 7/7 [00:05<00:00,  1.29it/s]\n",
      "Training (12473 / 18000 Steps) (loss=0.53378): 100%|██████████| 7/7 [00:05<00:00,  1.23it/s]\n",
      "Training (12480 / 18000 Steps) (loss=0.41127): 100%|██████████| 7/7 [00:05<00:00,  1.33it/s]\n",
      "Training (12487 / 18000 Steps) (loss=0.40996): 100%|██████████| 7/7 [00:05<00:00,  1.30it/s]\n",
      "Training (12494 / 18000 Steps) (loss=0.15507): 100%|██████████| 7/7 [00:05<00:00,  1.28it/s]\n",
      "Validate (12495 / 10 Steps): 100%|██████████| 2/2 [00:04<00:00,  2.25s/it]<00:01,  1.50it/s]\n",
      "Training (12500 / 18000 Steps) (loss=0.51580):  86%|████████▌ | 6/7 [00:10<00:02,  2.38s/it]"
     ]
    },
    {
     "name": "stdout",
     "output_type": "stream",
     "text": [
      "Model Was Saved ! Current Best Avg. Dice: 0.38389816880226135 Current Avg. Dice: 0.38389816880226135 Current Avg. tumor Dice: 0.4183524549007416 Current Avg. lymph Dice: 0.34944385290145874\n"
     ]
    },
    {
     "name": "stderr",
     "output_type": "stream",
     "text": [
      "Training (12501 / 18000 Steps) (loss=0.25782): 100%|██████████| 7/7 [00:11<00:00,  1.57s/it]\n",
      "Training (12508 / 18000 Steps) (loss=0.43788): 100%|██████████| 7/7 [00:05<00:00,  1.32it/s]\n",
      "Training (12515 / 18000 Steps) (loss=0.49013): 100%|██████████| 7/7 [00:05<00:00,  1.27it/s]\n",
      "Training (12522 / 18000 Steps) (loss=0.48397): 100%|██████████| 7/7 [00:05<00:00,  1.27it/s]\n",
      "Training (12529 / 18000 Steps) (loss=0.34947): 100%|██████████| 7/7 [00:05<00:00,  1.33it/s]\n",
      "Training (12536 / 18000 Steps) (loss=0.39914): 100%|██████████| 7/7 [00:05<00:00,  1.32it/s]\n",
      "Training (12543 / 18000 Steps) (loss=0.36396): 100%|██████████| 7/7 [00:05<00:00,  1.33it/s]\n",
      "Training (12550 / 18000 Steps) (loss=0.62673): 100%|██████████| 7/7 [00:05<00:00,  1.27it/s]\n",
      "Training (12557 / 18000 Steps) (loss=0.29261): 100%|██████████| 7/7 [00:05<00:00,  1.24it/s]\n",
      "Training (12564 / 18000 Steps) (loss=0.24562): 100%|██████████| 7/7 [00:05<00:00,  1.28it/s]\n",
      "Training (12571 / 18000 Steps) (loss=0.31934): 100%|██████████| 7/7 [00:05<00:00,  1.28it/s]\n",
      "Training (12578 / 18000 Steps) (loss=0.34687): 100%|██████████| 7/7 [00:05<00:00,  1.24it/s]\n",
      "Training (12585 / 18000 Steps) (loss=0.39711): 100%|██████████| 7/7 [00:05<00:00,  1.25it/s]\n",
      "Training (12592 / 18000 Steps) (loss=0.33096): 100%|██████████| 7/7 [00:05<00:00,  1.26it/s]\n",
      "Training (12599 / 18000 Steps) (loss=0.44139): 100%|██████████| 7/7 [00:05<00:00,  1.32it/s]\n",
      "Validate (12600 / 10 Steps): 100%|██████████| 2/2 [00:04<00:00,  2.15s/it]<?, ?it/s]\n",
      "Training (12600 / 18000 Steps) (loss=0.48717):  14%|█▍        | 1/7 [00:07<00:43,  7.19s/it]"
     ]
    },
    {
     "name": "stdout",
     "output_type": "stream",
     "text": [
      "Model Was Not Saved ! Current Best Avg. Dice: 0.38389816880226135 Current Avg. Dice: 0.2948411703109741 Current Avg. tumor Dice: 0.3090229034423828 Current Avg. lymph Dice: 0.28065940737724304\n"
     ]
    },
    {
     "name": "stderr",
     "output_type": "stream",
     "text": [
      "Training (12606 / 18000 Steps) (loss=0.27389): 100%|██████████| 7/7 [00:09<00:00,  1.37s/it]\n",
      "Training (12613 / 18000 Steps) (loss=0.51296): 100%|██████████| 7/7 [00:05<00:00,  1.23it/s]\n",
      "Training (12620 / 18000 Steps) (loss=0.50199): 100%|██████████| 7/7 [00:05<00:00,  1.31it/s]\n",
      "Training (12627 / 18000 Steps) (loss=0.57130): 100%|██████████| 7/7 [00:05<00:00,  1.26it/s]\n",
      "Training (12634 / 18000 Steps) (loss=0.46896): 100%|██████████| 7/7 [00:05<00:00,  1.23it/s]\n",
      "Training (12641 / 18000 Steps) (loss=0.41379): 100%|██████████| 7/7 [00:05<00:00,  1.30it/s]\n",
      "Training (12648 / 18000 Steps) (loss=0.42800): 100%|██████████| 7/7 [00:05<00:00,  1.27it/s]\n",
      "Training (12655 / 18000 Steps) (loss=0.54204): 100%|██████████| 7/7 [00:05<00:00,  1.25it/s]\n",
      "Training (12662 / 18000 Steps) (loss=0.29230): 100%|██████████| 7/7 [00:05<00:00,  1.24it/s]\n",
      "Training (12669 / 18000 Steps) (loss=0.42127): 100%|██████████| 7/7 [00:05<00:00,  1.28it/s]\n",
      "Training (12676 / 18000 Steps) (loss=0.40377): 100%|██████████| 7/7 [00:05<00:00,  1.26it/s]\n",
      "Training (12683 / 18000 Steps) (loss=0.52599): 100%|██████████| 7/7 [00:05<00:00,  1.20it/s]\n",
      "Training (12690 / 18000 Steps) (loss=0.33317): 100%|██████████| 7/7 [00:05<00:00,  1.27it/s]\n",
      "Training (12697 / 18000 Steps) (loss=0.64533): 100%|██████████| 7/7 [00:05<00:00,  1.23it/s]\n",
      "Validate (12698 / 10 Steps): 100%|██████████| 2/2 [00:04<00:00,  2.20s/it]<00:07,  1.44s/it]\n",
      "Training (12700 / 18000 Steps) (loss=0.51951):  43%|████▎     | 3/7 [00:08<00:12,  3.02s/it]"
     ]
    },
    {
     "name": "stdout",
     "output_type": "stream",
     "text": [
      "Model Was Not Saved ! Current Best Avg. Dice: 0.38389816880226135 Current Avg. Dice: 0.34593790769577026 Current Avg. tumor Dice: 0.365527868270874 Current Avg. lymph Dice: 0.3263480067253113\n"
     ]
    },
    {
     "name": "stderr",
     "output_type": "stream",
     "text": [
      "Training (12704 / 18000 Steps) (loss=0.39603): 100%|██████████| 7/7 [00:09<00:00,  1.39s/it]\n",
      "Training (12711 / 18000 Steps) (loss=0.54198): 100%|██████████| 7/7 [00:05<00:00,  1.21it/s]\n",
      "Training (12718 / 18000 Steps) (loss=0.54677): 100%|██████████| 7/7 [00:05<00:00,  1.34it/s]\n",
      "Training (12725 / 18000 Steps) (loss=0.37700): 100%|██████████| 7/7 [00:05<00:00,  1.24it/s]\n",
      "Training (12732 / 18000 Steps) (loss=0.25347): 100%|██████████| 7/7 [00:05<00:00,  1.25it/s]\n",
      "Training (12739 / 18000 Steps) (loss=0.47554): 100%|██████████| 7/7 [00:05<00:00,  1.29it/s]\n",
      "Training (12746 / 18000 Steps) (loss=0.21812): 100%|██████████| 7/7 [00:05<00:00,  1.24it/s]\n",
      "Training (12753 / 18000 Steps) (loss=0.37885): 100%|██████████| 7/7 [00:05<00:00,  1.31it/s]\n",
      "Training (12760 / 18000 Steps) (loss=0.48109): 100%|██████████| 7/7 [00:05<00:00,  1.33it/s]\n",
      "Training (12767 / 18000 Steps) (loss=0.54252): 100%|██████████| 7/7 [00:05<00:00,  1.33it/s]\n",
      "Training (12774 / 18000 Steps) (loss=0.43512): 100%|██████████| 7/7 [00:05<00:00,  1.33it/s]\n",
      "Training (12781 / 18000 Steps) (loss=0.39874): 100%|██████████| 7/7 [00:05<00:00,  1.30it/s]\n",
      "Training (12788 / 18000 Steps) (loss=0.29958): 100%|██████████| 7/7 [00:05<00:00,  1.28it/s]\n",
      "Training (12795 / 18000 Steps) (loss=0.33394): 100%|██████████| 7/7 [00:05<00:00,  1.19it/s]\n",
      "Validate (12796 / 10 Steps): 100%|██████████| 2/2 [00:04<00:00,  2.18s/it]<00:02,  1.20it/s]\n",
      "Training (12800 / 18000 Steps) (loss=0.36130):  71%|███████▏  | 5/7 [00:09<00:04,  2.27s/it]"
     ]
    },
    {
     "name": "stdout",
     "output_type": "stream",
     "text": [
      "Model Was Not Saved ! Current Best Avg. Dice: 0.38389816880226135 Current Avg. Dice: 0.36463499069213867 Current Avg. tumor Dice: 0.3873571753501892 Current Avg. lymph Dice: 0.34191277623176575\n"
     ]
    },
    {
     "name": "stderr",
     "output_type": "stream",
     "text": [
      "Training (12802 / 18000 Steps) (loss=0.29828): 100%|██████████| 7/7 [00:10<00:00,  1.47s/it]\n",
      "Training (12809 / 18000 Steps) (loss=0.37003): 100%|██████████| 7/7 [00:05<00:00,  1.25it/s]\n",
      "Training (12816 / 18000 Steps) (loss=0.27937): 100%|██████████| 7/7 [00:05<00:00,  1.25it/s]\n",
      "Training (12823 / 18000 Steps) (loss=0.53558): 100%|██████████| 7/7 [00:05<00:00,  1.24it/s]\n",
      "Training (12830 / 18000 Steps) (loss=0.31015): 100%|██████████| 7/7 [00:05<00:00,  1.23it/s]\n",
      "Training (12837 / 18000 Steps) (loss=0.50045): 100%|██████████| 7/7 [00:05<00:00,  1.32it/s]\n",
      "Training (12844 / 18000 Steps) (loss=0.65953): 100%|██████████| 7/7 [00:05<00:00,  1.25it/s]\n",
      "Training (12851 / 18000 Steps) (loss=0.23518): 100%|██████████| 7/7 [00:05<00:00,  1.29it/s]\n",
      "Training (12858 / 18000 Steps) (loss=0.49120): 100%|██████████| 7/7 [00:05<00:00,  1.27it/s]\n",
      "Training (12865 / 18000 Steps) (loss=0.36824): 100%|██████████| 7/7 [00:05<00:00,  1.24it/s]\n",
      "Training (12872 / 18000 Steps) (loss=0.34741): 100%|██████████| 7/7 [00:05<00:00,  1.21it/s]\n",
      "Training (12879 / 18000 Steps) (loss=0.45089): 100%|██████████| 7/7 [00:05<00:00,  1.28it/s]\n",
      "Training (12886 / 18000 Steps) (loss=0.27725): 100%|██████████| 7/7 [00:05<00:00,  1.21it/s]\n",
      "Training (12893 / 18000 Steps) (loss=0.45554): 100%|██████████| 7/7 [00:05<00:00,  1.27it/s]\n",
      "Validate (12894 / 10 Steps): 100%|██████████| 2/2 [00:04<00:00,  2.23s/it]<00:00,  1.69it/s]\n",
      "Training (12900 / 18000 Steps) (loss=0.19643): 100%|██████████| 7/7 [00:10<00:00,  1.49s/it]\n"
     ]
    },
    {
     "name": "stdout",
     "output_type": "stream",
     "text": [
      "Model Was Not Saved ! Current Best Avg. Dice: 0.38389816880226135 Current Avg. Dice: 0.3068286180496216 Current Avg. tumor Dice: 0.34080350399017334 Current Avg. lymph Dice: 0.2728537619113922\n"
     ]
    },
    {
     "name": "stderr",
     "output_type": "stream",
     "text": [
      "Training (12907 / 18000 Steps) (loss=0.37527): 100%|██████████| 7/7 [00:05<00:00,  1.24it/s]\n",
      "Training (12914 / 18000 Steps) (loss=0.39728): 100%|██████████| 7/7 [00:05<00:00,  1.23it/s]\n",
      "Training (12921 / 18000 Steps) (loss=0.41468): 100%|██████████| 7/7 [00:05<00:00,  1.26it/s]\n",
      "Training (12928 / 18000 Steps) (loss=0.36623): 100%|██████████| 7/7 [00:05<00:00,  1.24it/s]\n",
      "Training (12935 / 18000 Steps) (loss=0.39777): 100%|██████████| 7/7 [00:05<00:00,  1.19it/s]\n",
      "Training (12942 / 18000 Steps) (loss=0.51294): 100%|██████████| 7/7 [00:05<00:00,  1.20it/s]\n",
      "Training (12949 / 18000 Steps) (loss=0.40018): 100%|██████████| 7/7 [00:05<00:00,  1.24it/s]\n",
      "Training (12956 / 18000 Steps) (loss=0.49007): 100%|██████████| 7/7 [00:05<00:00,  1.23it/s]\n",
      "Training (12963 / 18000 Steps) (loss=0.61181): 100%|██████████| 7/7 [00:05<00:00,  1.23it/s]\n",
      "Training (12970 / 18000 Steps) (loss=0.36050): 100%|██████████| 7/7 [00:05<00:00,  1.24it/s]\n",
      "Training (12977 / 18000 Steps) (loss=0.45520): 100%|██████████| 7/7 [00:05<00:00,  1.19it/s]\n",
      "Training (12984 / 18000 Steps) (loss=0.28998): 100%|██████████| 7/7 [00:05<00:00,  1.30it/s]\n",
      "Training (12991 / 18000 Steps) (loss=0.39968): 100%|██████████| 7/7 [00:05<00:00,  1.27it/s]\n",
      "Training (12998 / 18000 Steps) (loss=0.55245): 100%|██████████| 7/7 [00:05<00:00,  1.30it/s]\n",
      "Validate (12999 / 10 Steps): 100%|██████████| 2/2 [00:04<00:00,  2.19s/it]<00:19,  3.26s/it]\n",
      "Training (13000 / 18000 Steps) (loss=0.28293):  29%|██▊       | 2/7 [00:08<00:20,  4.19s/it]"
     ]
    },
    {
     "name": "stdout",
     "output_type": "stream",
     "text": [
      "Model Was Not Saved ! Current Best Avg. Dice: 0.38389816880226135 Current Avg. Dice: 0.3594210147857666 Current Avg. tumor Dice: 0.3803013861179352 Current Avg. lymph Dice: 0.338540643453598\n"
     ]
    },
    {
     "name": "stderr",
     "output_type": "stream",
     "text": [
      "Training (13005 / 18000 Steps) (loss=0.31605): 100%|██████████| 7/7 [00:10<00:00,  1.44s/it]\n",
      "Training (13012 / 18000 Steps) (loss=0.40879): 100%|██████████| 7/7 [00:05<00:00,  1.28it/s]\n",
      "Training (13019 / 18000 Steps) (loss=0.24790): 100%|██████████| 7/7 [00:05<00:00,  1.27it/s]\n",
      "Training (13026 / 18000 Steps) (loss=0.54247): 100%|██████████| 7/7 [00:06<00:00,  1.16it/s]\n",
      "Training (13033 / 18000 Steps) (loss=0.31192): 100%|██████████| 7/7 [00:05<00:00,  1.23it/s]\n",
      "Training (13040 / 18000 Steps) (loss=0.13526): 100%|██████████| 7/7 [00:05<00:00,  1.27it/s]\n",
      "Training (13047 / 18000 Steps) (loss=0.49153): 100%|██████████| 7/7 [00:05<00:00,  1.27it/s]\n",
      "Training (13054 / 18000 Steps) (loss=0.28924): 100%|██████████| 7/7 [00:05<00:00,  1.25it/s]\n",
      "Training (13061 / 18000 Steps) (loss=0.28962): 100%|██████████| 7/7 [00:05<00:00,  1.24it/s]\n",
      "Training (13068 / 18000 Steps) (loss=0.17362): 100%|██████████| 7/7 [00:05<00:00,  1.22it/s]\n",
      "Training (13075 / 18000 Steps) (loss=0.53427): 100%|██████████| 7/7 [00:05<00:00,  1.21it/s]\n",
      "Training (13082 / 18000 Steps) (loss=0.31443): 100%|██████████| 7/7 [00:05<00:00,  1.28it/s]\n",
      "Training (13089 / 18000 Steps) (loss=0.30632): 100%|██████████| 7/7 [00:05<00:00,  1.20it/s]\n",
      "Training (13096 / 18000 Steps) (loss=0.44490): 100%|██████████| 7/7 [00:05<00:00,  1.22it/s]\n",
      "Validate (13097 / 10 Steps): 100%|██████████| 2/2 [00:04<00:00,  2.08s/it]<00:04,  1.00s/it]\n",
      "Training (13100 / 18000 Steps) (loss=0.49048):  57%|█████▋    | 4/7 [00:08<00:07,  2.43s/it]"
     ]
    },
    {
     "name": "stdout",
     "output_type": "stream",
     "text": [
      "Model Was Not Saved ! Current Best Avg. Dice: 0.38389816880226135 Current Avg. Dice: 0.35052168369293213 Current Avg. tumor Dice: 0.3616544306278229 Current Avg. lymph Dice: 0.33938899636268616\n"
     ]
    },
    {
     "name": "stderr",
     "output_type": "stream",
     "text": [
      "Training (13103 / 18000 Steps) (loss=0.40729): 100%|██████████| 7/7 [00:09<00:00,  1.38s/it]\n",
      "Training (13110 / 18000 Steps) (loss=0.43150): 100%|██████████| 7/7 [00:05<00:00,  1.34it/s]\n",
      "Training (13117 / 18000 Steps) (loss=0.48871): 100%|██████████| 7/7 [00:05<00:00,  1.32it/s]\n",
      "Training (13124 / 18000 Steps) (loss=0.63441): 100%|██████████| 7/7 [00:05<00:00,  1.21it/s]\n",
      "Training (13131 / 18000 Steps) (loss=0.13794): 100%|██████████| 7/7 [00:05<00:00,  1.25it/s]\n",
      "Training (13138 / 18000 Steps) (loss=0.40022): 100%|██████████| 7/7 [00:05<00:00,  1.24it/s]\n",
      "Training (13145 / 18000 Steps) (loss=0.18099): 100%|██████████| 7/7 [00:05<00:00,  1.27it/s]\n",
      "Training (13152 / 18000 Steps) (loss=0.40449): 100%|██████████| 7/7 [00:05<00:00,  1.25it/s]\n",
      "Training (13159 / 18000 Steps) (loss=0.30381): 100%|██████████| 7/7 [00:05<00:00,  1.26it/s]\n",
      "Training (13166 / 18000 Steps) (loss=0.26698): 100%|██████████| 7/7 [00:05<00:00,  1.28it/s]\n",
      "Training (13173 / 18000 Steps) (loss=0.40140): 100%|██████████| 7/7 [00:05<00:00,  1.26it/s]\n",
      "Training (13180 / 18000 Steps) (loss=0.33251): 100%|██████████| 7/7 [00:05<00:00,  1.20it/s]\n",
      "Training (13187 / 18000 Steps) (loss=0.53141): 100%|██████████| 7/7 [00:05<00:00,  1.24it/s]\n",
      "Training (13194 / 18000 Steps) (loss=0.53116): 100%|██████████| 7/7 [00:05<00:00,  1.23it/s]\n",
      "Validate (13195 / 10 Steps): 100%|██████████| 2/2 [00:04<00:00,  2.18s/it]<00:01,  1.55it/s]\n",
      "Training (13200 / 18000 Steps) (loss=0.34013):  86%|████████▌ | 6/7 [00:09<00:02,  2.06s/it]"
     ]
    },
    {
     "name": "stdout",
     "output_type": "stream",
     "text": [
      "Model Was Not Saved ! Current Best Avg. Dice: 0.38389816880226135 Current Avg. Dice: 0.3389008343219757 Current Avg. tumor Dice: 0.33736297488212585 Current Avg. lymph Dice: 0.34043869376182556\n"
     ]
    },
    {
     "name": "stderr",
     "output_type": "stream",
     "text": [
      "Training (13201 / 18000 Steps) (loss=0.30018): 100%|██████████| 7/7 [00:09<00:00,  1.41s/it]\n",
      "Training (13208 / 18000 Steps) (loss=0.30548): 100%|██████████| 7/7 [00:05<00:00,  1.29it/s]\n",
      "Training (13215 / 18000 Steps) (loss=0.32463): 100%|██████████| 7/7 [00:05<00:00,  1.30it/s]\n",
      "Training (13222 / 18000 Steps) (loss=0.51847): 100%|██████████| 7/7 [00:05<00:00,  1.33it/s]\n",
      "Training (13229 / 18000 Steps) (loss=0.37191): 100%|██████████| 7/7 [00:05<00:00,  1.31it/s]\n",
      "Training (13236 / 18000 Steps) (loss=0.30098): 100%|██████████| 7/7 [00:05<00:00,  1.25it/s]\n",
      "Training (13243 / 18000 Steps) (loss=0.54394): 100%|██████████| 7/7 [00:05<00:00,  1.28it/s]\n",
      "Training (13250 / 18000 Steps) (loss=0.34576): 100%|██████████| 7/7 [00:05<00:00,  1.33it/s]\n",
      "Training (13257 / 18000 Steps) (loss=0.43641): 100%|██████████| 7/7 [00:05<00:00,  1.31it/s]\n",
      "Training (13264 / 18000 Steps) (loss=0.19771): 100%|██████████| 7/7 [00:05<00:00,  1.26it/s]\n",
      "Training (13271 / 18000 Steps) (loss=0.57282): 100%|██████████| 7/7 [00:05<00:00,  1.21it/s]\n",
      "Training (13278 / 18000 Steps) (loss=0.54974): 100%|██████████| 7/7 [00:05<00:00,  1.21it/s]\n",
      "Training (13285 / 18000 Steps) (loss=0.30873): 100%|██████████| 7/7 [00:05<00:00,  1.22it/s]\n",
      "Training (13292 / 18000 Steps) (loss=0.52062): 100%|██████████| 7/7 [00:05<00:00,  1.27it/s]\n",
      "Training (13299 / 18000 Steps) (loss=0.48219): 100%|██████████| 7/7 [00:05<00:00,  1.19it/s]\n",
      "Validate (13300 / 10 Steps): 100%|██████████| 2/2 [00:04<00:00,  2.26s/it]<?, ?it/s]\n",
      "Training (13300 / 18000 Steps) (loss=0.53133):  14%|█▍        | 1/7 [00:07<00:45,  7.62s/it]"
     ]
    },
    {
     "name": "stdout",
     "output_type": "stream",
     "text": [
      "Model Was Not Saved ! Current Best Avg. Dice: 0.38389816880226135 Current Avg. Dice: 0.3693541884422302 Current Avg. tumor Dice: 0.40061044692993164 Current Avg. lymph Dice: 0.3380979597568512\n"
     ]
    },
    {
     "name": "stderr",
     "output_type": "stream",
     "text": [
      "Training (13306 / 18000 Steps) (loss=0.42539): 100%|██████████| 7/7 [00:10<00:00,  1.44s/it]\n",
      "Training (13313 / 18000 Steps) (loss=0.19925): 100%|██████████| 7/7 [00:05<00:00,  1.21it/s]\n",
      "Training (13320 / 18000 Steps) (loss=0.51233): 100%|██████████| 7/7 [00:05<00:00,  1.29it/s]\n",
      "Training (13327 / 18000 Steps) (loss=0.38453): 100%|██████████| 7/7 [00:05<00:00,  1.26it/s]\n",
      "Training (13334 / 18000 Steps) (loss=0.39567): 100%|██████████| 7/7 [00:05<00:00,  1.22it/s]\n",
      "Training (13341 / 18000 Steps) (loss=0.55549): 100%|██████████| 7/7 [00:05<00:00,  1.24it/s]\n",
      "Training (13348 / 18000 Steps) (loss=0.27304): 100%|██████████| 7/7 [00:05<00:00,  1.21it/s]\n",
      "Training (13355 / 18000 Steps) (loss=0.27954): 100%|██████████| 7/7 [00:05<00:00,  1.24it/s]\n",
      "Training (13362 / 18000 Steps) (loss=0.16043): 100%|██████████| 7/7 [00:05<00:00,  1.29it/s]\n",
      "Training (13369 / 18000 Steps) (loss=0.32452): 100%|██████████| 7/7 [00:05<00:00,  1.26it/s]\n",
      "Training (13376 / 18000 Steps) (loss=0.27199): 100%|██████████| 7/7 [00:05<00:00,  1.19it/s]\n",
      "Training (13383 / 18000 Steps) (loss=0.43094): 100%|██████████| 7/7 [00:05<00:00,  1.23it/s]\n",
      "Training (13390 / 18000 Steps) (loss=0.54556): 100%|██████████| 7/7 [00:05<00:00,  1.25it/s]\n",
      "Training (13397 / 18000 Steps) (loss=0.66921): 100%|██████████| 7/7 [00:05<00:00,  1.29it/s]\n",
      "Validate (13398 / 10 Steps): 100%|██████████| 2/2 [00:04<00:00,  2.15s/it]<00:07,  1.58s/it]\n",
      "Training (13400 / 18000 Steps) (loss=0.25567):  43%|████▎     | 3/7 [00:08<00:12,  3.03s/it]"
     ]
    },
    {
     "name": "stdout",
     "output_type": "stream",
     "text": [
      "Model Was Not Saved ! Current Best Avg. Dice: 0.38389816880226135 Current Avg. Dice: 0.35760635137557983 Current Avg. tumor Dice: 0.37976372241973877 Current Avg. lymph Dice: 0.3354490399360657\n"
     ]
    },
    {
     "name": "stderr",
     "output_type": "stream",
     "text": [
      "Training (13404 / 18000 Steps) (loss=0.33555): 100%|██████████| 7/7 [00:09<00:00,  1.42s/it]\n",
      "Training (13411 / 18000 Steps) (loss=0.51770): 100%|██████████| 7/7 [00:05<00:00,  1.27it/s]\n",
      "Training (13418 / 18000 Steps) (loss=0.41938): 100%|██████████| 7/7 [00:05<00:00,  1.22it/s]\n",
      "Training (13425 / 18000 Steps) (loss=0.38549): 100%|██████████| 7/7 [00:05<00:00,  1.27it/s]\n",
      "Training (13432 / 18000 Steps) (loss=0.38843): 100%|██████████| 7/7 [00:05<00:00,  1.25it/s]\n",
      "Training (13439 / 18000 Steps) (loss=0.54882): 100%|██████████| 7/7 [00:05<00:00,  1.25it/s]\n",
      "Training (13446 / 18000 Steps) (loss=0.48235): 100%|██████████| 7/7 [00:05<00:00,  1.25it/s]\n",
      "Training (13453 / 18000 Steps) (loss=0.32559): 100%|██████████| 7/7 [00:05<00:00,  1.28it/s]\n",
      "Training (13460 / 18000 Steps) (loss=0.47160): 100%|██████████| 7/7 [00:05<00:00,  1.26it/s]\n",
      "Training (13467 / 18000 Steps) (loss=0.39499): 100%|██████████| 7/7 [00:05<00:00,  1.21it/s]\n",
      "Training (13474 / 18000 Steps) (loss=0.57861): 100%|██████████| 7/7 [00:05<00:00,  1.19it/s]\n",
      "Training (13481 / 18000 Steps) (loss=0.28950): 100%|██████████| 7/7 [00:05<00:00,  1.25it/s]\n",
      "Training (13488 / 18000 Steps) (loss=0.39903): 100%|██████████| 7/7 [00:05<00:00,  1.24it/s]\n",
      "Training (13495 / 18000 Steps) (loss=0.31110): 100%|██████████| 7/7 [00:05<00:00,  1.29it/s]\n",
      "Validate (13496 / 10 Steps): 100%|██████████| 2/2 [00:04<00:00,  2.06s/it]<00:02,  1.27it/s]\n",
      "Training (13500 / 18000 Steps) (loss=0.20962):  71%|███████▏  | 5/7 [00:08<00:04,  2.16s/it]"
     ]
    },
    {
     "name": "stdout",
     "output_type": "stream",
     "text": [
      "Model Was Not Saved ! Current Best Avg. Dice: 0.38389816880226135 Current Avg. Dice: 0.3728231191635132 Current Avg. tumor Dice: 0.372600257396698 Current Avg. lymph Dice: 0.37304598093032837\n"
     ]
    },
    {
     "name": "stderr",
     "output_type": "stream",
     "text": [
      "Training (13502 / 18000 Steps) (loss=0.34169): 100%|██████████| 7/7 [00:09<00:00,  1.39s/it]\n",
      "Training (13509 / 18000 Steps) (loss=0.58880): 100%|██████████| 7/7 [00:05<00:00,  1.22it/s]\n",
      "Training (13516 / 18000 Steps) (loss=0.44279): 100%|██████████| 7/7 [00:05<00:00,  1.26it/s]\n",
      "Training (13523 / 18000 Steps) (loss=0.29485): 100%|██████████| 7/7 [00:05<00:00,  1.20it/s]\n",
      "Training (13530 / 18000 Steps) (loss=0.40487): 100%|██████████| 7/7 [00:05<00:00,  1.28it/s]\n",
      "Training (13537 / 18000 Steps) (loss=0.41106): 100%|██████████| 7/7 [00:05<00:00,  1.29it/s]\n",
      "Training (13544 / 18000 Steps) (loss=0.37530): 100%|██████████| 7/7 [00:05<00:00,  1.29it/s]\n",
      "Training (13551 / 18000 Steps) (loss=0.22764): 100%|██████████| 7/7 [00:05<00:00,  1.27it/s]\n",
      "Training (13558 / 18000 Steps) (loss=0.32692): 100%|██████████| 7/7 [00:05<00:00,  1.24it/s]\n",
      "Training (13565 / 18000 Steps) (loss=0.27199): 100%|██████████| 7/7 [00:05<00:00,  1.24it/s]\n",
      "Training (13572 / 18000 Steps) (loss=0.53887): 100%|██████████| 7/7 [00:05<00:00,  1.25it/s]\n",
      "Training (13579 / 18000 Steps) (loss=0.40084): 100%|██████████| 7/7 [00:05<00:00,  1.32it/s]\n",
      "Training (13586 / 18000 Steps) (loss=0.45143): 100%|██████████| 7/7 [00:05<00:00,  1.29it/s]\n",
      "Training (13593 / 18000 Steps) (loss=0.41557): 100%|██████████| 7/7 [00:05<00:00,  1.26it/s]\n",
      "Validate (13594 / 10 Steps): 100%|██████████| 2/2 [00:04<00:00,  2.18s/it]<00:00,  1.68it/s]\n",
      "Training (13600 / 18000 Steps) (loss=0.27758): 100%|██████████| 7/7 [00:10<00:00,  1.47s/it]\n"
     ]
    },
    {
     "name": "stdout",
     "output_type": "stream",
     "text": [
      "Model Was Not Saved ! Current Best Avg. Dice: 0.38389816880226135 Current Avg. Dice: 0.37648433446884155 Current Avg. tumor Dice: 0.35423439741134644 Current Avg. lymph Dice: 0.3987342417240143\n"
     ]
    },
    {
     "name": "stderr",
     "output_type": "stream",
     "text": [
      "Training (13607 / 18000 Steps) (loss=0.37157): 100%|██████████| 7/7 [00:05<00:00,  1.26it/s]\n",
      "Training (13614 / 18000 Steps) (loss=0.31686): 100%|██████████| 7/7 [00:05<00:00,  1.26it/s]\n",
      "Training (13621 / 18000 Steps) (loss=0.33283): 100%|██████████| 7/7 [00:05<00:00,  1.30it/s]\n",
      "Training (13628 / 18000 Steps) (loss=0.25679): 100%|██████████| 7/7 [00:05<00:00,  1.28it/s]\n",
      "Training (13635 / 18000 Steps) (loss=0.18768): 100%|██████████| 7/7 [00:05<00:00,  1.32it/s]\n",
      "Training (13642 / 18000 Steps) (loss=0.33714): 100%|██████████| 7/7 [00:05<00:00,  1.23it/s]\n",
      "Training (13649 / 18000 Steps) (loss=0.42777): 100%|██████████| 7/7 [00:05<00:00,  1.24it/s]\n",
      "Training (13656 / 18000 Steps) (loss=0.37592): 100%|██████████| 7/7 [00:05<00:00,  1.26it/s]\n",
      "Training (13663 / 18000 Steps) (loss=0.10820): 100%|██████████| 7/7 [00:05<00:00,  1.25it/s]\n",
      "Training (13670 / 18000 Steps) (loss=0.39787): 100%|██████████| 7/7 [00:05<00:00,  1.22it/s]\n",
      "Training (13677 / 18000 Steps) (loss=0.41894): 100%|██████████| 7/7 [00:05<00:00,  1.25it/s]\n",
      "Training (13684 / 18000 Steps) (loss=0.27997): 100%|██████████| 7/7 [00:05<00:00,  1.36it/s]\n",
      "Training (13691 / 18000 Steps) (loss=0.24212): 100%|██████████| 7/7 [00:05<00:00,  1.25it/s]\n",
      "Training (13698 / 18000 Steps) (loss=0.41153): 100%|██████████| 7/7 [00:05<00:00,  1.21it/s]\n",
      "Validate (13699 / 10 Steps): 100%|██████████| 2/2 [00:04<00:00,  2.16s/it]<00:19,  3.23s/it]\n",
      "Training (13700 / 18000 Steps) (loss=0.33623):  29%|██▊       | 2/7 [00:08<00:20,  4.15s/it]"
     ]
    },
    {
     "name": "stdout",
     "output_type": "stream",
     "text": [
      "Model Was Not Saved ! Current Best Avg. Dice: 0.38389816880226135 Current Avg. Dice: 0.36739712953567505 Current Avg. tumor Dice: 0.368598610162735 Current Avg. lymph Dice: 0.3661956787109375\n"
     ]
    },
    {
     "name": "stderr",
     "output_type": "stream",
     "text": [
      "Training (13705 / 18000 Steps) (loss=0.47306): 100%|██████████| 7/7 [00:10<00:00,  1.43s/it]\n",
      "Training (13712 / 18000 Steps) (loss=0.60399): 100%|██████████| 7/7 [00:05<00:00,  1.30it/s]\n",
      "Training (13719 / 18000 Steps) (loss=0.55476): 100%|██████████| 7/7 [00:05<00:00,  1.31it/s]\n",
      "Training (13726 / 18000 Steps) (loss=0.45485): 100%|██████████| 7/7 [00:05<00:00,  1.29it/s]\n",
      "Training (13733 / 18000 Steps) (loss=0.19560): 100%|██████████| 7/7 [00:05<00:00,  1.29it/s]\n",
      "Training (13740 / 18000 Steps) (loss=0.54807): 100%|██████████| 7/7 [00:05<00:00,  1.29it/s]\n",
      "Training (13747 / 18000 Steps) (loss=0.38867): 100%|██████████| 7/7 [00:05<00:00,  1.28it/s]\n",
      "Training (13754 / 18000 Steps) (loss=0.38951): 100%|██████████| 7/7 [00:05<00:00,  1.35it/s]\n",
      "Training (13761 / 18000 Steps) (loss=0.54026): 100%|██████████| 7/7 [00:05<00:00,  1.26it/s]\n",
      "Training (13768 / 18000 Steps) (loss=0.46510): 100%|██████████| 7/7 [00:05<00:00,  1.29it/s]\n",
      "Training (13775 / 18000 Steps) (loss=0.42696): 100%|██████████| 7/7 [00:05<00:00,  1.29it/s]\n",
      "Training (13782 / 18000 Steps) (loss=0.33760): 100%|██████████| 7/7 [00:05<00:00,  1.24it/s]\n",
      "Training (13789 / 18000 Steps) (loss=0.31087): 100%|██████████| 7/7 [00:05<00:00,  1.26it/s]\n",
      "Training (13796 / 18000 Steps) (loss=0.56821): 100%|██████████| 7/7 [00:05<00:00,  1.26it/s]\n",
      "Validate (13797 / 10 Steps): 100%|██████████| 2/2 [00:04<00:00,  2.16s/it]<00:04,  1.01s/it]\n",
      "Training (13800 / 18000 Steps) (loss=0.36227):  57%|█████▋    | 4/7 [00:08<00:07,  2.50s/it]"
     ]
    },
    {
     "name": "stdout",
     "output_type": "stream",
     "text": [
      "Model Was Not Saved ! Current Best Avg. Dice: 0.38389816880226135 Current Avg. Dice: 0.36964043974876404 Current Avg. tumor Dice: 0.3554913103580475 Current Avg. lymph Dice: 0.3837895691394806\n"
     ]
    },
    {
     "name": "stderr",
     "output_type": "stream",
     "text": [
      "Training (13803 / 18000 Steps) (loss=0.38137): 100%|██████████| 7/7 [00:09<00:00,  1.41s/it]\n",
      "Training (13810 / 18000 Steps) (loss=0.31051): 100%|██████████| 7/7 [00:05<00:00,  1.23it/s]\n",
      "Training (13817 / 18000 Steps) (loss=0.25836): 100%|██████████| 7/7 [00:05<00:00,  1.29it/s]\n",
      "Training (13824 / 18000 Steps) (loss=0.35062): 100%|██████████| 7/7 [00:05<00:00,  1.30it/s]\n",
      "Training (13831 / 18000 Steps) (loss=0.43326): 100%|██████████| 7/7 [00:05<00:00,  1.27it/s]\n",
      "Training (13838 / 18000 Steps) (loss=0.21388): 100%|██████████| 7/7 [00:05<00:00,  1.26it/s]\n",
      "Training (13845 / 18000 Steps) (loss=0.54550): 100%|██████████| 7/7 [00:05<00:00,  1.24it/s]\n",
      "Training (13852 / 18000 Steps) (loss=0.16703): 100%|██████████| 7/7 [00:05<00:00,  1.35it/s]\n",
      "Training (13859 / 18000 Steps) (loss=0.27307): 100%|██████████| 7/7 [00:05<00:00,  1.25it/s]\n",
      "Training (13866 / 18000 Steps) (loss=0.43005): 100%|██████████| 7/7 [00:05<00:00,  1.26it/s]\n",
      "Training (13873 / 18000 Steps) (loss=0.61640): 100%|██████████| 7/7 [00:05<00:00,  1.24it/s]\n",
      "Training (13880 / 18000 Steps) (loss=0.48392): 100%|██████████| 7/7 [00:05<00:00,  1.30it/s]\n",
      "Training (13887 / 18000 Steps) (loss=0.44238): 100%|██████████| 7/7 [00:05<00:00,  1.32it/s]\n",
      "Training (13894 / 18000 Steps) (loss=0.26142): 100%|██████████| 7/7 [00:05<00:00,  1.31it/s]\n",
      "Validate (13895 / 10 Steps): 100%|██████████| 2/2 [00:04<00:00,  2.15s/it]<00:01,  1.54it/s]\n",
      "Training (13900 / 18000 Steps) (loss=0.50764):  86%|████████▌ | 6/7 [00:09<00:02,  2.05s/it]"
     ]
    },
    {
     "name": "stdout",
     "output_type": "stream",
     "text": [
      "Model Was Not Saved ! Current Best Avg. Dice: 0.38389816880226135 Current Avg. Dice: 0.3707478642463684 Current Avg. tumor Dice: 0.414473295211792 Current Avg. lymph Dice: 0.32702240347862244\n"
     ]
    },
    {
     "name": "stderr",
     "output_type": "stream",
     "text": [
      "Training (13901 / 18000 Steps) (loss=0.18321): 100%|██████████| 7/7 [00:09<00:00,  1.41s/it]\n",
      "Training (13908 / 18000 Steps) (loss=0.29924): 100%|██████████| 7/7 [00:05<00:00,  1.29it/s]\n",
      "Training (13915 / 18000 Steps) (loss=0.55968): 100%|██████████| 7/7 [00:05<00:00,  1.23it/s]\n",
      "Training (13922 / 18000 Steps) (loss=0.33741): 100%|██████████| 7/7 [00:05<00:00,  1.30it/s]\n",
      "Training (13929 / 18000 Steps) (loss=0.56207): 100%|██████████| 7/7 [00:05<00:00,  1.24it/s]\n",
      "Training (13936 / 18000 Steps) (loss=0.25981): 100%|██████████| 7/7 [00:05<00:00,  1.32it/s]\n",
      "Training (13943 / 18000 Steps) (loss=0.46816): 100%|██████████| 7/7 [00:05<00:00,  1.33it/s]\n",
      "Training (13950 / 18000 Steps) (loss=0.11261): 100%|██████████| 7/7 [00:05<00:00,  1.27it/s]\n",
      "Training (13957 / 18000 Steps) (loss=0.48021): 100%|██████████| 7/7 [00:05<00:00,  1.31it/s]\n",
      "Training (13964 / 18000 Steps) (loss=0.61773): 100%|██████████| 7/7 [00:05<00:00,  1.23it/s]\n",
      "Training (13971 / 18000 Steps) (loss=0.53850): 100%|██████████| 7/7 [00:05<00:00,  1.24it/s]\n",
      "Training (13978 / 18000 Steps) (loss=0.53842): 100%|██████████| 7/7 [00:05<00:00,  1.28it/s]\n",
      "Training (13985 / 18000 Steps) (loss=0.35491): 100%|██████████| 7/7 [00:05<00:00,  1.29it/s]\n",
      "Training (13992 / 18000 Steps) (loss=0.27338): 100%|██████████| 7/7 [00:05<00:00,  1.29it/s]\n",
      "Training (13999 / 18000 Steps) (loss=0.53674): 100%|██████████| 7/7 [00:05<00:00,  1.22it/s]\n",
      "Validate (14000 / 10 Steps): 100%|██████████| 2/2 [00:04<00:00,  2.16s/it]<?, ?it/s]\n",
      "Training (14000 / 18000 Steps) (loss=0.28298):  14%|█▍        | 1/7 [00:07<00:44,  7.49s/it]"
     ]
    },
    {
     "name": "stdout",
     "output_type": "stream",
     "text": [
      "Model Was Not Saved ! Current Best Avg. Dice: 0.38389816880226135 Current Avg. Dice: 0.37277743220329285 Current Avg. tumor Dice: 0.349918007850647 Current Avg. lymph Dice: 0.39563682675361633\n"
     ]
    },
    {
     "name": "stderr",
     "output_type": "stream",
     "text": [
      "Training (14006 / 18000 Steps) (loss=0.39601): 100%|██████████| 7/7 [00:09<00:00,  1.41s/it]\n",
      "Training (14013 / 18000 Steps) (loss=0.35357): 100%|██████████| 7/7 [00:05<00:00,  1.27it/s]\n",
      "Training (14020 / 18000 Steps) (loss=0.21960): 100%|██████████| 7/7 [00:05<00:00,  1.32it/s]\n",
      "Training (14027 / 18000 Steps) (loss=0.28467): 100%|██████████| 7/7 [00:05<00:00,  1.26it/s]\n",
      "Training (14034 / 18000 Steps) (loss=0.43572): 100%|██████████| 7/7 [00:05<00:00,  1.23it/s]\n",
      "Training (14041 / 18000 Steps) (loss=0.26716): 100%|██████████| 7/7 [00:05<00:00,  1.28it/s]\n",
      "Training (14048 / 18000 Steps) (loss=0.20005): 100%|██████████| 7/7 [00:05<00:00,  1.27it/s]\n",
      "Training (14055 / 18000 Steps) (loss=0.35469): 100%|██████████| 7/7 [00:05<00:00,  1.29it/s]\n",
      "Training (14062 / 18000 Steps) (loss=0.40706): 100%|██████████| 7/7 [00:05<00:00,  1.25it/s]\n",
      "Training (14069 / 18000 Steps) (loss=0.31853): 100%|██████████| 7/7 [00:05<00:00,  1.27it/s]\n",
      "Training (14076 / 18000 Steps) (loss=0.39108): 100%|██████████| 7/7 [00:05<00:00,  1.27it/s]\n",
      "Training (14083 / 18000 Steps) (loss=0.18422): 100%|██████████| 7/7 [00:05<00:00,  1.25it/s]\n",
      "Training (14090 / 18000 Steps) (loss=0.47062): 100%|██████████| 7/7 [00:05<00:00,  1.31it/s]\n",
      "Training (14097 / 18000 Steps) (loss=0.30607): 100%|██████████| 7/7 [00:05<00:00,  1.27it/s]\n",
      "Validate (14098 / 10 Steps): 100%|██████████| 2/2 [00:04<00:00,  2.15s/it]<00:07,  1.56s/it]\n",
      "Training (14100 / 18000 Steps) (loss=0.27437):  43%|████▎     | 3/7 [00:09<00:13,  3.32s/it]"
     ]
    },
    {
     "name": "stdout",
     "output_type": "stream",
     "text": [
      "Model Was Saved ! Current Best Avg. Dice: 0.3903416097164154 Current Avg. Dice: 0.3903416097164154 Current Avg. tumor Dice: 0.3896866738796234 Current Avg. lymph Dice: 0.3909965455532074\n"
     ]
    },
    {
     "name": "stderr",
     "output_type": "stream",
     "text": [
      "Training (14104 / 18000 Steps) (loss=0.53927): 100%|██████████| 7/7 [00:10<00:00,  1.51s/it]\n",
      "Training (14111 / 18000 Steps) (loss=0.27227): 100%|██████████| 7/7 [00:05<00:00,  1.36it/s]\n",
      "Training (14118 / 18000 Steps) (loss=0.36229): 100%|██████████| 7/7 [00:05<00:00,  1.27it/s]\n",
      "Training (14125 / 18000 Steps) (loss=0.41481): 100%|██████████| 7/7 [00:05<00:00,  1.34it/s]\n",
      "Training (14132 / 18000 Steps) (loss=0.30644): 100%|██████████| 7/7 [00:05<00:00,  1.31it/s]\n",
      "Training (14139 / 18000 Steps) (loss=0.35941): 100%|██████████| 7/7 [00:05<00:00,  1.30it/s]\n",
      "Training (14146 / 18000 Steps) (loss=0.18188): 100%|██████████| 7/7 [00:05<00:00,  1.26it/s]\n",
      "Training (14153 / 18000 Steps) (loss=0.38939): 100%|██████████| 7/7 [00:05<00:00,  1.27it/s]\n",
      "Training (14160 / 18000 Steps) (loss=0.48106): 100%|██████████| 7/7 [00:05<00:00,  1.32it/s]\n",
      "Training (14167 / 18000 Steps) (loss=0.31842): 100%|██████████| 7/7 [00:05<00:00,  1.24it/s]\n",
      "Training (14174 / 18000 Steps) (loss=0.25529): 100%|██████████| 7/7 [00:05<00:00,  1.25it/s]\n",
      "Training (14181 / 18000 Steps) (loss=0.41601): 100%|██████████| 7/7 [00:05<00:00,  1.29it/s]\n",
      "Training (14188 / 18000 Steps) (loss=0.30729): 100%|██████████| 7/7 [00:05<00:00,  1.26it/s]\n",
      "Training (14195 / 18000 Steps) (loss=0.36445): 100%|██████████| 7/7 [00:05<00:00,  1.22it/s]\n",
      "Validate (14196 / 10 Steps): 100%|██████████| 2/2 [00:04<00:00,  2.10s/it]<00:02,  1.29it/s]\n",
      "Training (14200 / 18000 Steps) (loss=0.48966):  71%|███████▏  | 5/7 [00:09<00:04,  2.18s/it]"
     ]
    },
    {
     "name": "stdout",
     "output_type": "stream",
     "text": [
      "Model Was Not Saved ! Current Best Avg. Dice: 0.3903416097164154 Current Avg. Dice: 0.37798580527305603 Current Avg. tumor Dice: 0.3932476043701172 Current Avg. lymph Dice: 0.3627240061759949\n"
     ]
    },
    {
     "name": "stderr",
     "output_type": "stream",
     "text": [
      "Training (14202 / 18000 Steps) (loss=0.53736): 100%|██████████| 7/7 [00:09<00:00,  1.39s/it]\n",
      "Training (14209 / 18000 Steps) (loss=0.41943): 100%|██████████| 7/7 [00:05<00:00,  1.28it/s]\n",
      "Training (14216 / 18000 Steps) (loss=0.44624): 100%|██████████| 7/7 [00:05<00:00,  1.24it/s]\n",
      "Training (14223 / 18000 Steps) (loss=0.38792): 100%|██████████| 7/7 [00:05<00:00,  1.32it/s]\n",
      "Training (14230 / 18000 Steps) (loss=0.41438): 100%|██████████| 7/7 [00:05<00:00,  1.30it/s]\n",
      "Training (14237 / 18000 Steps) (loss=0.32589): 100%|██████████| 7/7 [00:05<00:00,  1.22it/s]\n",
      "Training (14244 / 18000 Steps) (loss=0.27552): 100%|██████████| 7/7 [00:05<00:00,  1.24it/s]\n",
      "Training (14251 / 18000 Steps) (loss=0.27098): 100%|██████████| 7/7 [00:05<00:00,  1.24it/s]\n",
      "Training (14258 / 18000 Steps) (loss=0.31954): 100%|██████████| 7/7 [00:05<00:00,  1.25it/s]\n",
      "Training (14265 / 18000 Steps) (loss=0.35214): 100%|██████████| 7/7 [00:05<00:00,  1.33it/s]\n",
      "Training (14272 / 18000 Steps) (loss=0.53101): 100%|██████████| 7/7 [00:05<00:00,  1.30it/s]\n",
      "Training (14279 / 18000 Steps) (loss=0.49846): 100%|██████████| 7/7 [00:05<00:00,  1.28it/s]\n",
      "Training (14286 / 18000 Steps) (loss=0.41533): 100%|██████████| 7/7 [00:05<00:00,  1.26it/s]\n",
      "Training (14293 / 18000 Steps) (loss=0.29968): 100%|██████████| 7/7 [00:05<00:00,  1.25it/s]\n",
      "Validate (14294 / 10 Steps): 100%|██████████| 2/2 [00:04<00:00,  2.24s/it]<00:00,  1.74it/s]\n",
      "Training (14300 / 18000 Steps) (loss=0.51789): 100%|██████████| 7/7 [00:10<00:00,  1.44s/it]\n"
     ]
    },
    {
     "name": "stdout",
     "output_type": "stream",
     "text": [
      "Model Was Not Saved ! Current Best Avg. Dice: 0.3903416097164154 Current Avg. Dice: 0.36050945520401 Current Avg. tumor Dice: 0.34137141704559326 Current Avg. lymph Dice: 0.37964752316474915\n"
     ]
    },
    {
     "name": "stderr",
     "output_type": "stream",
     "text": [
      "Training (14307 / 18000 Steps) (loss=0.45497): 100%|██████████| 7/7 [00:05<00:00,  1.26it/s]\n",
      "Training (14314 / 18000 Steps) (loss=0.27216): 100%|██████████| 7/7 [00:05<00:00,  1.21it/s]\n",
      "Training (14321 / 18000 Steps) (loss=0.54047): 100%|██████████| 7/7 [00:05<00:00,  1.27it/s]\n",
      "Training (14328 / 18000 Steps) (loss=0.53487): 100%|██████████| 7/7 [00:05<00:00,  1.30it/s]\n",
      "Training (14335 / 18000 Steps) (loss=0.53692): 100%|██████████| 7/7 [00:05<00:00,  1.27it/s]\n",
      "Training (14342 / 18000 Steps) (loss=0.41951): 100%|██████████| 7/7 [00:05<00:00,  1.28it/s]\n",
      "Training (14349 / 18000 Steps) (loss=0.29327): 100%|██████████| 7/7 [00:05<00:00,  1.28it/s]\n",
      "Training (14356 / 18000 Steps) (loss=0.37493): 100%|██████████| 7/7 [00:05<00:00,  1.23it/s]\n",
      "Training (14363 / 18000 Steps) (loss=0.33666): 100%|██████████| 7/7 [00:05<00:00,  1.26it/s]\n",
      "Training (14370 / 18000 Steps) (loss=0.35011): 100%|██████████| 7/7 [00:05<00:00,  1.22it/s]\n",
      "Training (14377 / 18000 Steps) (loss=0.27240): 100%|██████████| 7/7 [00:05<00:00,  1.25it/s]\n",
      "Training (14384 / 18000 Steps) (loss=0.28399): 100%|██████████| 7/7 [00:05<00:00,  1.26it/s]\n",
      "Training (14391 / 18000 Steps) (loss=0.45805): 100%|██████████| 7/7 [00:05<00:00,  1.30it/s]\n",
      "Training (14398 / 18000 Steps) (loss=0.54382): 100%|██████████| 7/7 [00:05<00:00,  1.31it/s]\n",
      "Validate (14399 / 10 Steps): 100%|██████████| 2/2 [00:04<00:00,  2.14s/it]<00:18,  3.01s/it]\n",
      "Training (14400 / 18000 Steps) (loss=0.29511):  29%|██▊       | 2/7 [00:08<00:22,  4.41s/it]"
     ]
    },
    {
     "name": "stdout",
     "output_type": "stream",
     "text": [
      "Model Was Saved ! Current Best Avg. Dice: 0.39274758100509644 Current Avg. Dice: 0.39274758100509644 Current Avg. tumor Dice: 0.38782715797424316 Current Avg. lymph Dice: 0.3976680636405945\n"
     ]
    },
    {
     "name": "stderr",
     "output_type": "stream",
     "text": [
      "Training (14405 / 18000 Steps) (loss=0.24241): 100%|██████████| 7/7 [00:10<00:00,  1.49s/it]\n",
      "Training (14412 / 18000 Steps) (loss=0.29765): 100%|██████████| 7/7 [00:05<00:00,  1.35it/s]\n",
      "Training (14419 / 18000 Steps) (loss=0.20933): 100%|██████████| 7/7 [00:05<00:00,  1.34it/s]\n",
      "Training (14426 / 18000 Steps) (loss=0.55414): 100%|██████████| 7/7 [00:05<00:00,  1.30it/s]\n",
      "Training (14433 / 18000 Steps) (loss=0.43224): 100%|██████████| 7/7 [00:05<00:00,  1.23it/s]\n",
      "Training (14440 / 18000 Steps) (loss=0.47503): 100%|██████████| 7/7 [00:05<00:00,  1.34it/s]\n",
      "Training (14447 / 18000 Steps) (loss=0.35391): 100%|██████████| 7/7 [00:05<00:00,  1.27it/s]\n",
      "Training (14454 / 18000 Steps) (loss=0.47122): 100%|██████████| 7/7 [00:05<00:00,  1.28it/s]\n",
      "Training (14461 / 18000 Steps) (loss=0.28183): 100%|██████████| 7/7 [00:05<00:00,  1.33it/s]\n",
      "Training (14468 / 18000 Steps) (loss=0.47873): 100%|██████████| 7/7 [00:05<00:00,  1.19it/s]\n",
      "Training (14475 / 18000 Steps) (loss=0.19806): 100%|██████████| 7/7 [00:05<00:00,  1.29it/s]\n",
      "Training (14482 / 18000 Steps) (loss=0.57737): 100%|██████████| 7/7 [00:05<00:00,  1.22it/s]\n",
      "Training (14489 / 18000 Steps) (loss=0.62552): 100%|██████████| 7/7 [00:05<00:00,  1.28it/s]\n",
      "Training (14496 / 18000 Steps) (loss=0.28871): 100%|██████████| 7/7 [00:05<00:00,  1.24it/s]\n",
      "Validate (14497 / 10 Steps): 100%|██████████| 2/2 [00:04<00:00,  2.11s/it]<00:04,  1.08s/it]\n",
      "Training (14500 / 18000 Steps) (loss=0.45318):  57%|█████▋    | 4/7 [00:08<00:07,  2.50s/it]"
     ]
    },
    {
     "name": "stdout",
     "output_type": "stream",
     "text": [
      "Model Was Not Saved ! Current Best Avg. Dice: 0.39274758100509644 Current Avg. Dice: 0.3521164357662201 Current Avg. tumor Dice: 0.3811260163784027 Current Avg. lymph Dice: 0.3231068253517151\n"
     ]
    },
    {
     "name": "stderr",
     "output_type": "stream",
     "text": [
      "Training (14503 / 18000 Steps) (loss=0.43414): 100%|██████████| 7/7 [00:10<00:00,  1.43s/it]\n",
      "Training (14510 / 18000 Steps) (loss=0.19867): 100%|██████████| 7/7 [00:05<00:00,  1.23it/s]\n",
      "Training (14517 / 18000 Steps) (loss=0.41835): 100%|██████████| 7/7 [00:05<00:00,  1.27it/s]\n",
      "Training (14524 / 18000 Steps) (loss=0.46401): 100%|██████████| 7/7 [00:05<00:00,  1.31it/s]\n",
      "Training (14531 / 18000 Steps) (loss=0.12674): 100%|██████████| 7/7 [00:05<00:00,  1.25it/s]\n",
      "Training (14538 / 18000 Steps) (loss=0.22083): 100%|██████████| 7/7 [00:05<00:00,  1.29it/s]\n",
      "Training (14545 / 18000 Steps) (loss=0.20635): 100%|██████████| 7/7 [00:05<00:00,  1.29it/s]\n",
      "Training (14552 / 18000 Steps) (loss=0.32531): 100%|██████████| 7/7 [00:05<00:00,  1.25it/s]\n",
      "Training (14559 / 18000 Steps) (loss=0.35472): 100%|██████████| 7/7 [00:05<00:00,  1.37it/s]\n",
      "Training (14566 / 18000 Steps) (loss=0.17950): 100%|██████████| 7/7 [00:05<00:00,  1.23it/s]\n",
      "Training (14573 / 18000 Steps) (loss=0.47085): 100%|██████████| 7/7 [00:05<00:00,  1.23it/s]\n",
      "Training (14580 / 18000 Steps) (loss=0.67044): 100%|██████████| 7/7 [00:05<00:00,  1.28it/s]\n",
      "Training (14587 / 18000 Steps) (loss=0.32832): 100%|██████████| 7/7 [00:05<00:00,  1.28it/s]\n",
      "Training (14594 / 18000 Steps) (loss=0.44177): 100%|██████████| 7/7 [00:05<00:00,  1.32it/s]\n",
      "Validate (14595 / 10 Steps): 100%|██████████| 2/2 [00:04<00:00,  2.21s/it]<00:01,  1.53it/s]\n",
      "Training (14600 / 18000 Steps) (loss=0.44291):  86%|████████▌ | 6/7 [00:09<00:02,  2.09s/it]"
     ]
    },
    {
     "name": "stdout",
     "output_type": "stream",
     "text": [
      "Model Was Not Saved ! Current Best Avg. Dice: 0.39274758100509644 Current Avg. Dice: 0.34248197078704834 Current Avg. tumor Dice: 0.3455190062522888 Current Avg. lymph Dice: 0.33944496512413025\n"
     ]
    },
    {
     "name": "stderr",
     "output_type": "stream",
     "text": [
      "Training (14601 / 18000 Steps) (loss=0.32587): 100%|██████████| 7/7 [00:10<00:00,  1.43s/it]\n",
      "Training (14608 / 18000 Steps) (loss=0.33522): 100%|██████████| 7/7 [00:05<00:00,  1.29it/s]\n",
      "Training (14615 / 18000 Steps) (loss=0.31410): 100%|██████████| 7/7 [00:05<00:00,  1.29it/s]\n",
      "Training (14622 / 18000 Steps) (loss=0.53756): 100%|██████████| 7/7 [00:05<00:00,  1.31it/s]\n",
      "Training (14629 / 18000 Steps) (loss=0.22776): 100%|██████████| 7/7 [00:05<00:00,  1.26it/s]\n",
      "Training (14636 / 18000 Steps) (loss=0.27185): 100%|██████████| 7/7 [00:05<00:00,  1.24it/s]\n",
      "Training (14643 / 18000 Steps) (loss=0.41069): 100%|██████████| 7/7 [00:05<00:00,  1.28it/s]\n",
      "Training (14650 / 18000 Steps) (loss=0.30230): 100%|██████████| 7/7 [00:05<00:00,  1.25it/s]\n",
      "Training (14657 / 18000 Steps) (loss=0.28308): 100%|██████████| 7/7 [00:05<00:00,  1.33it/s]\n",
      "Training (14664 / 18000 Steps) (loss=0.54553): 100%|██████████| 7/7 [00:05<00:00,  1.27it/s]\n",
      "Training (14671 / 18000 Steps) (loss=0.40139): 100%|██████████| 7/7 [00:05<00:00,  1.29it/s]\n",
      "Training (14678 / 18000 Steps) (loss=0.47493): 100%|██████████| 7/7 [00:05<00:00,  1.23it/s]\n",
      "Training (14685 / 18000 Steps) (loss=0.66748): 100%|██████████| 7/7 [00:05<00:00,  1.24it/s]\n",
      "Training (14692 / 18000 Steps) (loss=0.29965): 100%|██████████| 7/7 [00:05<00:00,  1.29it/s]\n",
      "Training (14699 / 18000 Steps) (loss=0.24819): 100%|██████████| 7/7 [00:05<00:00,  1.27it/s]\n",
      "Validate (14700 / 10 Steps): 100%|██████████| 2/2 [00:04<00:00,  2.16s/it]<?, ?it/s]\n",
      "Training (14700 / 18000 Steps) (loss=0.47550):  14%|█▍        | 1/7 [00:07<00:46,  7.82s/it]"
     ]
    },
    {
     "name": "stdout",
     "output_type": "stream",
     "text": [
      "Model Was Saved ! Current Best Avg. Dice: 0.395572304725647 Current Avg. Dice: 0.395572304725647 Current Avg. tumor Dice: 0.392636775970459 Current Avg. lymph Dice: 0.39850783348083496\n"
     ]
    },
    {
     "name": "stderr",
     "output_type": "stream",
     "text": [
      "Training (14706 / 18000 Steps) (loss=0.31043): 100%|██████████| 7/7 [00:10<00:00,  1.46s/it]\n",
      "Training (14713 / 18000 Steps) (loss=0.35434): 100%|██████████| 7/7 [00:05<00:00,  1.23it/s]\n",
      "Training (14720 / 18000 Steps) (loss=0.49254): 100%|██████████| 7/7 [00:05<00:00,  1.28it/s]\n",
      "Training (14727 / 18000 Steps) (loss=0.41909): 100%|██████████| 7/7 [00:05<00:00,  1.31it/s]\n",
      "Training (14734 / 18000 Steps) (loss=0.50454): 100%|██████████| 7/7 [00:05<00:00,  1.27it/s]\n",
      "Training (14741 / 18000 Steps) (loss=0.23251): 100%|██████████| 7/7 [00:05<00:00,  1.29it/s]\n",
      "Training (14748 / 18000 Steps) (loss=0.33511): 100%|██████████| 7/7 [00:05<00:00,  1.31it/s]\n",
      "Training (14755 / 18000 Steps) (loss=0.39458): 100%|██████████| 7/7 [00:05<00:00,  1.29it/s]\n",
      "Training (14762 / 18000 Steps) (loss=0.12665): 100%|██████████| 7/7 [00:05<00:00,  1.28it/s]\n",
      "Training (14769 / 18000 Steps) (loss=0.40130): 100%|██████████| 7/7 [00:05<00:00,  1.29it/s]\n",
      "Training (14776 / 18000 Steps) (loss=0.53098): 100%|██████████| 7/7 [00:05<00:00,  1.25it/s]\n",
      "Training (14783 / 18000 Steps) (loss=0.54121): 100%|██████████| 7/7 [00:05<00:00,  1.30it/s]\n",
      "Training (14790 / 18000 Steps) (loss=0.63273): 100%|██████████| 7/7 [00:05<00:00,  1.26it/s]\n",
      "Training (14797 / 18000 Steps) (loss=0.36571): 100%|██████████| 7/7 [00:05<00:00,  1.34it/s]\n",
      "Validate (14798 / 10 Steps): 100%|██████████| 2/2 [00:04<00:00,  2.11s/it]<00:07,  1.59s/it]\n",
      "Training (14800 / 18000 Steps) (loss=0.38476):  43%|████▎     | 3/7 [00:08<00:11,  3.00s/it]"
     ]
    },
    {
     "name": "stdout",
     "output_type": "stream",
     "text": [
      "Model Was Not Saved ! Current Best Avg. Dice: 0.395572304725647 Current Avg. Dice: 0.386211633682251 Current Avg. tumor Dice: 0.3896033763885498 Current Avg. lymph Dice: 0.38281986117362976\n"
     ]
    },
    {
     "name": "stderr",
     "output_type": "stream",
     "text": [
      "Training (14804 / 18000 Steps) (loss=0.28853): 100%|██████████| 7/7 [00:09<00:00,  1.42s/it]\n",
      "Training (14811 / 18000 Steps) (loss=0.42620): 100%|██████████| 7/7 [00:05<00:00,  1.25it/s]\n",
      "Training (14818 / 18000 Steps) (loss=0.62471): 100%|██████████| 7/7 [00:05<00:00,  1.25it/s]\n",
      "Training (14825 / 18000 Steps) (loss=0.48058): 100%|██████████| 7/7 [00:05<00:00,  1.32it/s]\n",
      "Training (14832 / 18000 Steps) (loss=0.26842): 100%|██████████| 7/7 [00:05<00:00,  1.25it/s]\n",
      "Training (14839 / 18000 Steps) (loss=0.31696): 100%|██████████| 7/7 [00:05<00:00,  1.34it/s]\n",
      "Training (14846 / 18000 Steps) (loss=0.26133): 100%|██████████| 7/7 [00:05<00:00,  1.25it/s]\n",
      "Training (14853 / 18000 Steps) (loss=0.41501): 100%|██████████| 7/7 [00:05<00:00,  1.25it/s]\n",
      "Training (14860 / 18000 Steps) (loss=0.61463): 100%|██████████| 7/7 [00:05<00:00,  1.25it/s]\n",
      "Training (14867 / 18000 Steps) (loss=0.54332): 100%|██████████| 7/7 [00:05<00:00,  1.26it/s]\n",
      "Training (14874 / 18000 Steps) (loss=0.47631): 100%|██████████| 7/7 [00:05<00:00,  1.37it/s]\n",
      "Training (14881 / 18000 Steps) (loss=0.18547): 100%|██████████| 7/7 [00:05<00:00,  1.31it/s]\n",
      "Training (14888 / 18000 Steps) (loss=0.42212): 100%|██████████| 7/7 [00:05<00:00,  1.27it/s]\n",
      "Training (14895 / 18000 Steps) (loss=0.37650): 100%|██████████| 7/7 [00:05<00:00,  1.34it/s]\n",
      "Validate (14896 / 10 Steps): 100%|██████████| 2/2 [00:04<00:00,  2.17s/it]<00:02,  1.30it/s]\n",
      "Training (14900 / 18000 Steps) (loss=0.32851):  71%|███████▏  | 5/7 [00:09<00:04,  2.23s/it]"
     ]
    },
    {
     "name": "stdout",
     "output_type": "stream",
     "text": [
      "Model Was Not Saved ! Current Best Avg. Dice: 0.395572304725647 Current Avg. Dice: 0.36277636885643005 Current Avg. tumor Dice: 0.3504679501056671 Current Avg. lymph Dice: 0.375084787607193\n"
     ]
    },
    {
     "name": "stderr",
     "output_type": "stream",
     "text": [
      "Training (14902 / 18000 Steps) (loss=0.28383): 100%|██████████| 7/7 [00:09<00:00,  1.40s/it]\n",
      "Training (14909 / 18000 Steps) (loss=0.49159): 100%|██████████| 7/7 [00:05<00:00,  1.28it/s]\n",
      "Training (14916 / 18000 Steps) (loss=0.38102): 100%|██████████| 7/7 [00:05<00:00,  1.27it/s]\n",
      "Training (14923 / 18000 Steps) (loss=0.18167): 100%|██████████| 7/7 [00:05<00:00,  1.24it/s]\n",
      "Training (14930 / 18000 Steps) (loss=0.66765): 100%|██████████| 7/7 [00:05<00:00,  1.28it/s]\n",
      "Training (14937 / 18000 Steps) (loss=0.41274): 100%|██████████| 7/7 [00:05<00:00,  1.26it/s]\n",
      "Training (14944 / 18000 Steps) (loss=0.52972): 100%|██████████| 7/7 [00:05<00:00,  1.31it/s]\n",
      "Training (14951 / 18000 Steps) (loss=0.44468): 100%|██████████| 7/7 [00:05<00:00,  1.28it/s]\n",
      "Training (14958 / 18000 Steps) (loss=0.41330): 100%|██████████| 7/7 [00:05<00:00,  1.23it/s]\n",
      "Training (14965 / 18000 Steps) (loss=0.26969): 100%|██████████| 7/7 [00:05<00:00,  1.30it/s]\n",
      "Training (14972 / 18000 Steps) (loss=0.24395): 100%|██████████| 7/7 [00:05<00:00,  1.30it/s]\n",
      "Training (14979 / 18000 Steps) (loss=0.27679): 100%|██████████| 7/7 [00:05<00:00,  1.33it/s]\n",
      "Training (14986 / 18000 Steps) (loss=0.40494): 100%|██████████| 7/7 [00:05<00:00,  1.27it/s]\n",
      "Training (14993 / 18000 Steps) (loss=0.29978): 100%|██████████| 7/7 [00:05<00:00,  1.20it/s]\n",
      "Validate (14994 / 10 Steps): 100%|██████████| 2/2 [00:04<00:00,  2.12s/it]<00:00,  1.76it/s]\n",
      "Training (15000 / 18000 Steps) (loss=0.40943): 100%|██████████| 7/7 [00:09<00:00,  1.39s/it]\n"
     ]
    },
    {
     "name": "stdout",
     "output_type": "stream",
     "text": [
      "Model Was Not Saved ! Current Best Avg. Dice: 0.395572304725647 Current Avg. Dice: 0.36532312631607056 Current Avg. tumor Dice: 0.36564183235168457 Current Avg. lymph Dice: 0.36500439047813416\n"
     ]
    },
    {
     "name": "stderr",
     "output_type": "stream",
     "text": [
      "Training (15007 / 18000 Steps) (loss=0.47746): 100%|██████████| 7/7 [00:05<00:00,  1.29it/s]\n",
      "Training (15014 / 18000 Steps) (loss=0.27068): 100%|██████████| 7/7 [00:05<00:00,  1.22it/s]\n",
      "Training (15021 / 18000 Steps) (loss=0.42513): 100%|██████████| 7/7 [00:05<00:00,  1.28it/s]\n",
      "Training (15028 / 18000 Steps) (loss=0.39540): 100%|██████████| 7/7 [00:05<00:00,  1.26it/s]\n",
      "Training (15035 / 18000 Steps) (loss=0.23615): 100%|██████████| 7/7 [00:05<00:00,  1.25it/s]\n",
      "Training (15042 / 18000 Steps) (loss=0.49406): 100%|██████████| 7/7 [00:05<00:00,  1.32it/s]\n",
      "Training (15049 / 18000 Steps) (loss=0.27843): 100%|██████████| 7/7 [00:05<00:00,  1.27it/s]\n",
      "Training (15056 / 18000 Steps) (loss=0.48340): 100%|██████████| 7/7 [00:05<00:00,  1.25it/s]\n",
      "Training (15063 / 18000 Steps) (loss=0.46206): 100%|██████████| 7/7 [00:05<00:00,  1.28it/s]\n",
      "Training (15070 / 18000 Steps) (loss=0.39762): 100%|██████████| 7/7 [00:05<00:00,  1.27it/s]\n",
      "Training (15077 / 18000 Steps) (loss=0.54700): 100%|██████████| 7/7 [00:05<00:00,  1.25it/s]\n",
      "Training (15084 / 18000 Steps) (loss=0.61303): 100%|██████████| 7/7 [00:05<00:00,  1.31it/s]\n",
      "Training (15091 / 18000 Steps) (loss=0.35359): 100%|██████████| 7/7 [00:05<00:00,  1.29it/s]\n",
      "Training (15098 / 18000 Steps) (loss=0.20875): 100%|██████████| 7/7 [00:05<00:00,  1.25it/s]\n",
      "Validate (15099 / 10 Steps): 100%|██████████| 2/2 [00:04<00:00,  2.17s/it]<00:17,  2.86s/it]\n",
      "Training (15100 / 18000 Steps) (loss=0.35382):  29%|██▊       | 2/7 [00:07<00:19,  4.00s/it]"
     ]
    },
    {
     "name": "stdout",
     "output_type": "stream",
     "text": [
      "Model Was Not Saved ! Current Best Avg. Dice: 0.395572304725647 Current Avg. Dice: 0.3497365117073059 Current Avg. tumor Dice: 0.386316180229187 Current Avg. lymph Dice: 0.3131568133831024\n"
     ]
    },
    {
     "name": "stderr",
     "output_type": "stream",
     "text": [
      "Training (15105 / 18000 Steps) (loss=0.36573): 100%|██████████| 7/7 [00:09<00:00,  1.38s/it]\n",
      "Training (15112 / 18000 Steps) (loss=0.53257): 100%|██████████| 7/7 [00:05<00:00,  1.27it/s]\n",
      "Training (15119 / 18000 Steps) (loss=0.41772): 100%|██████████| 7/7 [00:05<00:00,  1.33it/s]\n",
      "Training (15126 / 18000 Steps) (loss=0.62421): 100%|██████████| 7/7 [00:05<00:00,  1.25it/s]\n",
      "Training (15133 / 18000 Steps) (loss=0.40418): 100%|██████████| 7/7 [00:05<00:00,  1.29it/s]\n",
      "Training (15140 / 18000 Steps) (loss=0.54415): 100%|██████████| 7/7 [00:05<00:00,  1.28it/s]\n",
      "Training (15147 / 18000 Steps) (loss=0.45321): 100%|██████████| 7/7 [00:05<00:00,  1.32it/s]\n",
      "Training (15154 / 18000 Steps) (loss=0.23812): 100%|██████████| 7/7 [00:05<00:00,  1.28it/s]\n",
      "Training (15161 / 18000 Steps) (loss=0.49620): 100%|██████████| 7/7 [00:05<00:00,  1.27it/s]\n",
      "Training (15168 / 18000 Steps) (loss=0.56771): 100%|██████████| 7/7 [00:05<00:00,  1.25it/s]\n",
      "Training (15175 / 18000 Steps) (loss=0.48367): 100%|██████████| 7/7 [00:05<00:00,  1.31it/s]\n",
      "Training (15182 / 18000 Steps) (loss=0.39659): 100%|██████████| 7/7 [00:05<00:00,  1.23it/s]\n",
      "Training (15189 / 18000 Steps) (loss=0.36543): 100%|██████████| 7/7 [00:05<00:00,  1.20it/s]\n",
      "Training (15196 / 18000 Steps) (loss=0.15736): 100%|██████████| 7/7 [00:05<00:00,  1.29it/s]\n",
      "Validate (15197 / 10 Steps): 100%|██████████| 2/2 [00:04<00:00,  2.14s/it]<00:04,  1.07s/it]\n",
      "Training (15200 / 18000 Steps) (loss=0.43516):  57%|█████▋    | 4/7 [00:08<00:07,  2.53s/it]"
     ]
    },
    {
     "name": "stdout",
     "output_type": "stream",
     "text": [
      "Model Was Not Saved ! Current Best Avg. Dice: 0.395572304725647 Current Avg. Dice: 0.36851948499679565 Current Avg. tumor Dice: 0.38805678486824036 Current Avg. lymph Dice: 0.34898215532302856\n"
     ]
    },
    {
     "name": "stderr",
     "output_type": "stream",
     "text": [
      "Training (15203 / 18000 Steps) (loss=0.32266): 100%|██████████| 7/7 [00:10<00:00,  1.44s/it]\n",
      "Training (15210 / 18000 Steps) (loss=0.66702): 100%|██████████| 7/7 [00:05<00:00,  1.30it/s]\n",
      "Training (15217 / 18000 Steps) (loss=0.40093): 100%|██████████| 7/7 [00:05<00:00,  1.33it/s]\n",
      "Training (15224 / 18000 Steps) (loss=0.21060): 100%|██████████| 7/7 [00:05<00:00,  1.27it/s]\n",
      "Training (15231 / 18000 Steps) (loss=0.34034): 100%|██████████| 7/7 [00:05<00:00,  1.23it/s]\n",
      "Training (15238 / 18000 Steps) (loss=0.38373): 100%|██████████| 7/7 [00:05<00:00,  1.30it/s]\n",
      "Training (15245 / 18000 Steps) (loss=0.49550): 100%|██████████| 7/7 [00:05<00:00,  1.20it/s]\n",
      "Training (15252 / 18000 Steps) (loss=0.27229): 100%|██████████| 7/7 [00:05<00:00,  1.30it/s]\n",
      "Training (15259 / 18000 Steps) (loss=0.52756): 100%|██████████| 7/7 [00:05<00:00,  1.18it/s]\n",
      "Training (15266 / 18000 Steps) (loss=0.41972): 100%|██████████| 7/7 [00:05<00:00,  1.29it/s]\n",
      "Training (15273 / 18000 Steps) (loss=0.46442): 100%|██████████| 7/7 [00:05<00:00,  1.19it/s]\n",
      "Training (15280 / 18000 Steps) (loss=0.22226): 100%|██████████| 7/7 [00:05<00:00,  1.20it/s]\n",
      "Training (15287 / 18000 Steps) (loss=0.18956): 100%|██████████| 7/7 [00:05<00:00,  1.26it/s]\n",
      "Training (15294 / 18000 Steps) (loss=0.52729): 100%|██████████| 7/7 [00:05<00:00,  1.26it/s]\n",
      "Validate (15295 / 10 Steps): 100%|██████████| 2/2 [00:04<00:00,  2.21s/it]<00:01,  1.56it/s]\n",
      "Training (15300 / 18000 Steps) (loss=0.34631):  86%|████████▌ | 6/7 [00:09<00:02,  2.08s/it]"
     ]
    },
    {
     "name": "stdout",
     "output_type": "stream",
     "text": [
      "Model Was Not Saved ! Current Best Avg. Dice: 0.395572304725647 Current Avg. Dice: 0.37190961837768555 Current Avg. tumor Dice: 0.39226463437080383 Current Avg. lymph Dice: 0.35155463218688965\n"
     ]
    },
    {
     "name": "stderr",
     "output_type": "stream",
     "text": [
      "Training (15301 / 18000 Steps) (loss=0.47702): 100%|██████████| 7/7 [00:09<00:00,  1.41s/it]\n",
      "Training (15308 / 18000 Steps) (loss=0.34423): 100%|██████████| 7/7 [00:05<00:00,  1.28it/s]\n",
      "Training (15315 / 18000 Steps) (loss=0.22297): 100%|██████████| 7/7 [00:05<00:00,  1.31it/s]\n",
      "Training (15322 / 18000 Steps) (loss=0.40815): 100%|██████████| 7/7 [00:05<00:00,  1.22it/s]\n",
      "Training (15329 / 18000 Steps) (loss=0.50499): 100%|██████████| 7/7 [00:05<00:00,  1.26it/s]\n",
      "Training (15336 / 18000 Steps) (loss=0.29878): 100%|██████████| 7/7 [00:05<00:00,  1.22it/s]\n",
      "Training (15343 / 18000 Steps) (loss=0.26201): 100%|██████████| 7/7 [00:05<00:00,  1.30it/s]\n",
      "Training (15350 / 18000 Steps) (loss=0.10979): 100%|██████████| 7/7 [00:05<00:00,  1.26it/s]\n",
      "Training (15357 / 18000 Steps) (loss=0.39403): 100%|██████████| 7/7 [00:05<00:00,  1.22it/s]\n",
      "Training (15364 / 18000 Steps) (loss=0.41360): 100%|██████████| 7/7 [00:05<00:00,  1.22it/s]\n",
      "Training (15371 / 18000 Steps) (loss=0.40372): 100%|██████████| 7/7 [00:05<00:00,  1.29it/s]\n",
      "Training (15378 / 18000 Steps) (loss=0.40829): 100%|██████████| 7/7 [00:05<00:00,  1.33it/s]\n",
      "Training (15385 / 18000 Steps) (loss=0.33478): 100%|██████████| 7/7 [00:05<00:00,  1.30it/s]\n",
      "Training (15392 / 18000 Steps) (loss=0.24596): 100%|██████████| 7/7 [00:05<00:00,  1.21it/s]\n",
      "Training (15399 / 18000 Steps) (loss=0.47258): 100%|██████████| 7/7 [00:05<00:00,  1.26it/s]\n",
      "Validate (15400 / 10 Steps): 100%|██████████| 2/2 [00:04<00:00,  2.23s/it]<?, ?it/s]\n",
      "Training (15400 / 18000 Steps) (loss=0.28014):  14%|█▍        | 1/7 [00:07<00:44,  7.48s/it]"
     ]
    },
    {
     "name": "stdout",
     "output_type": "stream",
     "text": [
      "Model Was Not Saved ! Current Best Avg. Dice: 0.395572304725647 Current Avg. Dice: 0.35698920488357544 Current Avg. tumor Dice: 0.36822912096977234 Current Avg. lymph Dice: 0.34574922919273376\n"
     ]
    },
    {
     "name": "stderr",
     "output_type": "stream",
     "text": [
      "Training (15406 / 18000 Steps) (loss=0.36276): 100%|██████████| 7/7 [00:09<00:00,  1.41s/it]\n",
      "Training (15413 / 18000 Steps) (loss=0.46386): 100%|██████████| 7/7 [00:05<00:00,  1.31it/s]\n",
      "Training (15420 / 18000 Steps) (loss=0.43977): 100%|██████████| 7/7 [00:05<00:00,  1.30it/s]\n",
      "Training (15427 / 18000 Steps) (loss=0.42772): 100%|██████████| 7/7 [00:05<00:00,  1.27it/s]\n",
      "Training (15434 / 18000 Steps) (loss=0.26068): 100%|██████████| 7/7 [00:05<00:00,  1.24it/s]\n",
      "Training (15441 / 18000 Steps) (loss=0.29722): 100%|██████████| 7/7 [00:05<00:00,  1.22it/s]\n",
      "Training (15448 / 18000 Steps) (loss=0.46789): 100%|██████████| 7/7 [00:05<00:00,  1.30it/s]\n",
      "Training (15455 / 18000 Steps) (loss=0.26097): 100%|██████████| 7/7 [00:05<00:00,  1.34it/s]\n",
      "Training (15462 / 18000 Steps) (loss=0.40361): 100%|██████████| 7/7 [00:05<00:00,  1.23it/s]\n",
      "Training (15469 / 18000 Steps) (loss=0.56175): 100%|██████████| 7/7 [00:05<00:00,  1.25it/s]\n",
      "Training (15476 / 18000 Steps) (loss=0.28248): 100%|██████████| 7/7 [00:05<00:00,  1.28it/s]\n",
      "Training (15483 / 18000 Steps) (loss=0.36594): 100%|██████████| 7/7 [00:05<00:00,  1.24it/s]\n",
      "Training (15490 / 18000 Steps) (loss=0.49877): 100%|██████████| 7/7 [00:05<00:00,  1.31it/s]\n",
      "Training (15497 / 18000 Steps) (loss=0.28913): 100%|██████████| 7/7 [00:05<00:00,  1.29it/s]\n",
      "Validate (15498 / 10 Steps): 100%|██████████| 2/2 [00:04<00:00,  2.31s/it]<00:07,  1.52s/it]\n",
      "Training (15500 / 18000 Steps) (loss=0.26342):  43%|████▎     | 3/7 [00:08<00:12,  3.15s/it]"
     ]
    },
    {
     "name": "stdout",
     "output_type": "stream",
     "text": [
      "Model Was Not Saved ! Current Best Avg. Dice: 0.395572304725647 Current Avg. Dice: 0.35822227597236633 Current Avg. tumor Dice: 0.33452108502388 Current Avg. lymph Dice: 0.38192349672317505\n"
     ]
    },
    {
     "name": "stderr",
     "output_type": "stream",
     "text": [
      "Training (15504 / 18000 Steps) (loss=0.22719): 100%|██████████| 7/7 [00:10<00:00,  1.45s/it]\n",
      "Training (15511 / 18000 Steps) (loss=0.49043): 100%|██████████| 7/7 [00:05<00:00,  1.24it/s]\n",
      "Training (15518 / 18000 Steps) (loss=0.27225): 100%|██████████| 7/7 [00:05<00:00,  1.28it/s]\n",
      "Training (15525 / 18000 Steps) (loss=0.25082): 100%|██████████| 7/7 [00:05<00:00,  1.23it/s]\n",
      "Training (15532 / 18000 Steps) (loss=0.37478): 100%|██████████| 7/7 [00:05<00:00,  1.22it/s]\n",
      "Training (15539 / 18000 Steps) (loss=0.24347): 100%|██████████| 7/7 [00:05<00:00,  1.23it/s]\n",
      "Training (15546 / 18000 Steps) (loss=0.30099): 100%|██████████| 7/7 [00:05<00:00,  1.26it/s]\n",
      "Training (15553 / 18000 Steps) (loss=0.42458): 100%|██████████| 7/7 [00:05<00:00,  1.30it/s]\n",
      "Training (15560 / 18000 Steps) (loss=0.18490): 100%|██████████| 7/7 [00:05<00:00,  1.33it/s]\n",
      "Training (15567 / 18000 Steps) (loss=0.41981): 100%|██████████| 7/7 [00:05<00:00,  1.27it/s]\n",
      "Training (15574 / 18000 Steps) (loss=0.31070): 100%|██████████| 7/7 [00:05<00:00,  1.18it/s]\n",
      "Training (15581 / 18000 Steps) (loss=0.51323): 100%|██████████| 7/7 [00:05<00:00,  1.33it/s]\n",
      "Training (15588 / 18000 Steps) (loss=0.35715): 100%|██████████| 7/7 [00:05<00:00,  1.29it/s]\n",
      "Training (15595 / 18000 Steps) (loss=0.62876): 100%|██████████| 7/7 [00:05<00:00,  1.36it/s]\n",
      "Validate (15596 / 10 Steps): 100%|██████████| 2/2 [00:04<00:00,  2.20s/it]<00:02,  1.29it/s]\n",
      "Training (15600 / 18000 Steps) (loss=0.28758):  71%|███████▏  | 5/7 [00:09<00:04,  2.25s/it]"
     ]
    },
    {
     "name": "stdout",
     "output_type": "stream",
     "text": [
      "Model Was Not Saved ! Current Best Avg. Dice: 0.395572304725647 Current Avg. Dice: 0.376604825258255 Current Avg. tumor Dice: 0.36581581830978394 Current Avg. lymph Dice: 0.38739386200904846\n"
     ]
    },
    {
     "name": "stderr",
     "output_type": "stream",
     "text": [
      "Training (15602 / 18000 Steps) (loss=0.41472): 100%|██████████| 7/7 [00:09<00:00,  1.42s/it]\n",
      "Training (15609 / 18000 Steps) (loss=0.27680): 100%|██████████| 7/7 [00:05<00:00,  1.24it/s]\n",
      "Training (15616 / 18000 Steps) (loss=0.28156): 100%|██████████| 7/7 [00:05<00:00,  1.28it/s]\n",
      "Training (15623 / 18000 Steps) (loss=0.27918): 100%|██████████| 7/7 [00:05<00:00,  1.34it/s]\n",
      "Training (15630 / 18000 Steps) (loss=0.61574): 100%|██████████| 7/7 [00:05<00:00,  1.22it/s]\n",
      "Training (15637 / 18000 Steps) (loss=0.54140): 100%|██████████| 7/7 [00:05<00:00,  1.25it/s]\n",
      "Training (15644 / 18000 Steps) (loss=0.26739): 100%|██████████| 7/7 [00:05<00:00,  1.24it/s]\n",
      "Training (15651 / 18000 Steps) (loss=0.42611): 100%|██████████| 7/7 [00:05<00:00,  1.28it/s]\n",
      "Training (15658 / 18000 Steps) (loss=0.17142): 100%|██████████| 7/7 [00:05<00:00,  1.33it/s]\n",
      "Training (15665 / 18000 Steps) (loss=0.30471): 100%|██████████| 7/7 [00:05<00:00,  1.33it/s]\n",
      "Training (15672 / 18000 Steps) (loss=0.45334): 100%|██████████| 7/7 [00:05<00:00,  1.29it/s]\n",
      "Training (15679 / 18000 Steps) (loss=0.42356): 100%|██████████| 7/7 [00:05<00:00,  1.25it/s]\n",
      "Training (15686 / 18000 Steps) (loss=0.52941): 100%|██████████| 7/7 [00:05<00:00,  1.25it/s]\n",
      "Training (15693 / 18000 Steps) (loss=0.39176): 100%|██████████| 7/7 [00:05<00:00,  1.34it/s]\n",
      "Validate (15694 / 10 Steps): 100%|██████████| 2/2 [00:04<00:00,  2.12s/it]<00:00,  1.77it/s]\n",
      "Training (15700 / 18000 Steps) (loss=0.31564): 100%|██████████| 7/7 [00:09<00:00,  1.39s/it]\n"
     ]
    },
    {
     "name": "stdout",
     "output_type": "stream",
     "text": [
      "Model Was Not Saved ! Current Best Avg. Dice: 0.395572304725647 Current Avg. Dice: 0.37222757935523987 Current Avg. tumor Dice: 0.40086525678634644 Current Avg. lymph Dice: 0.3435899019241333\n"
     ]
    },
    {
     "name": "stderr",
     "output_type": "stream",
     "text": [
      "Training (15707 / 18000 Steps) (loss=0.54514): 100%|██████████| 7/7 [00:05<00:00,  1.26it/s]\n",
      "Training (15714 / 18000 Steps) (loss=0.13460): 100%|██████████| 7/7 [00:05<00:00,  1.21it/s]\n",
      "Training (15721 / 18000 Steps) (loss=0.32361): 100%|██████████| 7/7 [00:05<00:00,  1.31it/s]\n",
      "Training (15728 / 18000 Steps) (loss=0.26569): 100%|██████████| 7/7 [00:05<00:00,  1.29it/s]\n",
      "Training (15735 / 18000 Steps) (loss=0.50311): 100%|██████████| 7/7 [00:05<00:00,  1.32it/s]\n",
      "Training (15742 / 18000 Steps) (loss=0.42098): 100%|██████████| 7/7 [00:05<00:00,  1.24it/s]\n",
      "Training (15749 / 18000 Steps) (loss=0.26471): 100%|██████████| 7/7 [00:05<00:00,  1.26it/s]\n",
      "Training (15756 / 18000 Steps) (loss=0.27798): 100%|██████████| 7/7 [00:05<00:00,  1.28it/s]\n",
      "Training (15763 / 18000 Steps) (loss=0.38375): 100%|██████████| 7/7 [00:05<00:00,  1.24it/s]\n",
      "Training (15770 / 18000 Steps) (loss=0.41521): 100%|██████████| 7/7 [00:05<00:00,  1.30it/s]\n",
      "Training (15777 / 18000 Steps) (loss=0.51399): 100%|██████████| 7/7 [00:05<00:00,  1.34it/s]\n",
      "Training (15784 / 18000 Steps) (loss=0.48418): 100%|██████████| 7/7 [00:05<00:00,  1.27it/s]\n",
      "Training (15791 / 18000 Steps) (loss=0.40652): 100%|██████████| 7/7 [00:05<00:00,  1.26it/s]\n",
      "Training (15798 / 18000 Steps) (loss=0.25113): 100%|██████████| 7/7 [00:05<00:00,  1.24it/s]\n",
      "Validate (15799 / 10 Steps): 100%|██████████| 2/2 [00:04<00:00,  2.18s/it]<00:18,  3.16s/it]\n",
      "Training (15800 / 18000 Steps) (loss=0.28457):  29%|██▊       | 2/7 [00:07<00:20,  4.13s/it]"
     ]
    },
    {
     "name": "stdout",
     "output_type": "stream",
     "text": [
      "Model Was Not Saved ! Current Best Avg. Dice: 0.395572304725647 Current Avg. Dice: 0.35109221935272217 Current Avg. tumor Dice: 0.35031816363334656 Current Avg. lymph Dice: 0.3518662750720978\n"
     ]
    },
    {
     "name": "stderr",
     "output_type": "stream",
     "text": [
      "Training (15805 / 18000 Steps) (loss=0.55230): 100%|██████████| 7/7 [00:09<00:00,  1.42s/it]\n",
      "Training (15812 / 18000 Steps) (loss=0.13009): 100%|██████████| 7/7 [00:05<00:00,  1.28it/s]\n",
      "Training (15819 / 18000 Steps) (loss=0.26195): 100%|██████████| 7/7 [00:05<00:00,  1.18it/s]\n",
      "Training (15826 / 18000 Steps) (loss=0.29805): 100%|██████████| 7/7 [00:05<00:00,  1.32it/s]\n",
      "Training (15833 / 18000 Steps) (loss=0.18908): 100%|██████████| 7/7 [00:05<00:00,  1.22it/s]\n",
      "Training (15840 / 18000 Steps) (loss=0.20535): 100%|██████████| 7/7 [00:05<00:00,  1.29it/s]\n",
      "Training (15847 / 18000 Steps) (loss=0.28950): 100%|██████████| 7/7 [00:05<00:00,  1.25it/s]\n",
      "Training (15854 / 18000 Steps) (loss=0.38346): 100%|██████████| 7/7 [00:05<00:00,  1.25it/s]\n",
      "Training (15861 / 18000 Steps) (loss=0.32932): 100%|██████████| 7/7 [00:05<00:00,  1.27it/s]\n",
      "Training (15868 / 18000 Steps) (loss=0.42068): 100%|██████████| 7/7 [00:05<00:00,  1.29it/s]\n",
      "Training (15875 / 18000 Steps) (loss=0.26667): 100%|██████████| 7/7 [00:05<00:00,  1.27it/s]\n",
      "Training (15882 / 18000 Steps) (loss=0.32465): 100%|██████████| 7/7 [00:05<00:00,  1.23it/s]\n",
      "Training (15889 / 18000 Steps) (loss=0.17723): 100%|██████████| 7/7 [00:05<00:00,  1.30it/s]\n",
      "Training (15896 / 18000 Steps) (loss=0.34470): 100%|██████████| 7/7 [00:05<00:00,  1.21it/s]\n",
      "Validate (15897 / 10 Steps): 100%|██████████| 2/2 [00:04<00:00,  2.24s/it]<00:03,  1.02it/s]\n",
      "Training (15900 / 18000 Steps) (loss=0.34546):  57%|█████▋    | 4/7 [00:08<00:07,  2.55s/it]"
     ]
    },
    {
     "name": "stdout",
     "output_type": "stream",
     "text": [
      "Model Was Not Saved ! Current Best Avg. Dice: 0.395572304725647 Current Avg. Dice: 0.35901015996932983 Current Avg. tumor Dice: 0.3511083424091339 Current Avg. lymph Dice: 0.36691194772720337\n"
     ]
    },
    {
     "name": "stderr",
     "output_type": "stream",
     "text": [
      "Training (15903 / 18000 Steps) (loss=0.15442): 100%|██████████| 7/7 [00:09<00:00,  1.42s/it]\n",
      "Training (15910 / 18000 Steps) (loss=0.54757): 100%|██████████| 7/7 [00:05<00:00,  1.32it/s]\n",
      "Training (15917 / 18000 Steps) (loss=0.34973): 100%|██████████| 7/7 [00:05<00:00,  1.31it/s]\n",
      "Training (15924 / 18000 Steps) (loss=0.48491): 100%|██████████| 7/7 [00:05<00:00,  1.23it/s]\n",
      "Training (15931 / 18000 Steps) (loss=0.37106): 100%|██████████| 7/7 [00:05<00:00,  1.24it/s]\n",
      "Training (15938 / 18000 Steps) (loss=0.35525): 100%|██████████| 7/7 [00:05<00:00,  1.22it/s]\n",
      "Training (15945 / 18000 Steps) (loss=0.34734): 100%|██████████| 7/7 [00:05<00:00,  1.31it/s]\n",
      "Training (15952 / 18000 Steps) (loss=0.41164): 100%|██████████| 7/7 [00:05<00:00,  1.24it/s]\n",
      "Training (15959 / 18000 Steps) (loss=0.59596): 100%|██████████| 7/7 [00:05<00:00,  1.29it/s]\n",
      "Training (15966 / 18000 Steps) (loss=0.40050): 100%|██████████| 7/7 [00:05<00:00,  1.26it/s]\n",
      "Training (15973 / 18000 Steps) (loss=0.41767): 100%|██████████| 7/7 [00:05<00:00,  1.25it/s]\n",
      "Training (15980 / 18000 Steps) (loss=0.17295): 100%|██████████| 7/7 [00:05<00:00,  1.29it/s]\n",
      "Training (15987 / 18000 Steps) (loss=0.53292): 100%|██████████| 7/7 [00:05<00:00,  1.23it/s]\n",
      "Training (15994 / 18000 Steps) (loss=0.35124): 100%|██████████| 7/7 [00:05<00:00,  1.32it/s]\n",
      "Validate (15995 / 10 Steps): 100%|██████████| 2/2 [00:04<00:00,  2.09s/it]<00:01,  1.57it/s]\n",
      "Training (16000 / 18000 Steps) (loss=0.40552):  86%|████████▌ | 6/7 [00:09<00:02,  2.00s/it]"
     ]
    },
    {
     "name": "stdout",
     "output_type": "stream",
     "text": [
      "Model Was Not Saved ! Current Best Avg. Dice: 0.395572304725647 Current Avg. Dice: 0.36269611120224 Current Avg. tumor Dice: 0.3689746856689453 Current Avg. lymph Dice: 0.3564175069332123\n"
     ]
    },
    {
     "name": "stderr",
     "output_type": "stream",
     "text": [
      "Training (16001 / 18000 Steps) (loss=0.38386): 100%|██████████| 7/7 [00:09<00:00,  1.37s/it]\n",
      "Training (16008 / 18000 Steps) (loss=0.47057): 100%|██████████| 7/7 [00:05<00:00,  1.30it/s]\n",
      "Training (16015 / 18000 Steps) (loss=0.30602): 100%|██████████| 7/7 [00:05<00:00,  1.19it/s]\n",
      "Training (16022 / 18000 Steps) (loss=0.53143): 100%|██████████| 7/7 [00:05<00:00,  1.27it/s]\n",
      "Training (16029 / 18000 Steps) (loss=0.54346): 100%|██████████| 7/7 [00:05<00:00,  1.30it/s]\n",
      "Training (16036 / 18000 Steps) (loss=0.53488): 100%|██████████| 7/7 [00:05<00:00,  1.26it/s]\n",
      "Training (16043 / 18000 Steps) (loss=0.15185): 100%|██████████| 7/7 [00:05<00:00,  1.28it/s]\n",
      "Training (16050 / 18000 Steps) (loss=0.28726): 100%|██████████| 7/7 [00:05<00:00,  1.24it/s]\n",
      "Training (16057 / 18000 Steps) (loss=0.48318): 100%|██████████| 7/7 [00:05<00:00,  1.33it/s]\n",
      "Training (16064 / 18000 Steps) (loss=0.38689): 100%|██████████| 7/7 [00:05<00:00,  1.31it/s]\n",
      "Training (16071 / 18000 Steps) (loss=0.16262): 100%|██████████| 7/7 [00:05<00:00,  1.26it/s]\n",
      "Training (16078 / 18000 Steps) (loss=0.29421): 100%|██████████| 7/7 [00:05<00:00,  1.24it/s]\n",
      "Training (16085 / 18000 Steps) (loss=0.26346): 100%|██████████| 7/7 [00:05<00:00,  1.23it/s]\n",
      "Training (16092 / 18000 Steps) (loss=0.29875): 100%|██████████| 7/7 [00:05<00:00,  1.28it/s]\n",
      "Training (16099 / 18000 Steps) (loss=0.36017): 100%|██████████| 7/7 [00:05<00:00,  1.31it/s]\n",
      "Validate (16100 / 10 Steps): 100%|██████████| 2/2 [00:04<00:00,  2.17s/it]<?, ?it/s]\n",
      "Training (16100 / 18000 Steps) (loss=0.40093):  14%|█▍        | 1/7 [00:07<00:45,  7.52s/it]"
     ]
    },
    {
     "name": "stdout",
     "output_type": "stream",
     "text": [
      "Model Was Not Saved ! Current Best Avg. Dice: 0.395572304725647 Current Avg. Dice: 0.38907214999198914 Current Avg. tumor Dice: 0.38496243953704834 Current Avg. lymph Dice: 0.39318186044692993\n"
     ]
    },
    {
     "name": "stderr",
     "output_type": "stream",
     "text": [
      "Training (16106 / 18000 Steps) (loss=0.54142): 100%|██████████| 7/7 [00:09<00:00,  1.41s/it]\n",
      "Training (16113 / 18000 Steps) (loss=0.40050): 100%|██████████| 7/7 [00:05<00:00,  1.28it/s]\n",
      "Training (16120 / 18000 Steps) (loss=0.27895): 100%|██████████| 7/7 [00:05<00:00,  1.25it/s]\n",
      "Training (16127 / 18000 Steps) (loss=0.38481): 100%|██████████| 7/7 [00:05<00:00,  1.33it/s]\n",
      "Training (16134 / 18000 Steps) (loss=0.29919): 100%|██████████| 7/7 [00:05<00:00,  1.29it/s]\n",
      "Training (16141 / 18000 Steps) (loss=0.27118): 100%|██████████| 7/7 [00:05<00:00,  1.32it/s]\n",
      "Training (16148 / 18000 Steps) (loss=0.21979): 100%|██████████| 7/7 [00:05<00:00,  1.29it/s]\n",
      "Training (16155 / 18000 Steps) (loss=0.31099): 100%|██████████| 7/7 [00:05<00:00,  1.21it/s]\n",
      "Training (16162 / 18000 Steps) (loss=0.32044): 100%|██████████| 7/7 [00:05<00:00,  1.26it/s]\n",
      "Training (16169 / 18000 Steps) (loss=0.31509): 100%|██████████| 7/7 [00:05<00:00,  1.24it/s]\n",
      "Training (16176 / 18000 Steps) (loss=0.30650): 100%|██████████| 7/7 [00:05<00:00,  1.23it/s]\n",
      "Training (16183 / 18000 Steps) (loss=0.41391): 100%|██████████| 7/7 [00:05<00:00,  1.30it/s]\n",
      "Training (16190 / 18000 Steps) (loss=0.45710): 100%|██████████| 7/7 [00:05<00:00,  1.24it/s]\n",
      "Training (16197 / 18000 Steps) (loss=0.35809): 100%|██████████| 7/7 [00:05<00:00,  1.29it/s]\n",
      "Validate (16198 / 10 Steps): 100%|██████████| 2/2 [00:04<00:00,  2.12s/it]<00:07,  1.50s/it]\n",
      "Training (16200 / 18000 Steps) (loss=0.33420):  43%|████▎     | 3/7 [00:08<00:11,  2.97s/it]"
     ]
    },
    {
     "name": "stdout",
     "output_type": "stream",
     "text": [
      "Model Was Not Saved ! Current Best Avg. Dice: 0.395572304725647 Current Avg. Dice: 0.351520836353302 Current Avg. tumor Dice: 0.35219746828079224 Current Avg. lymph Dice: 0.35084420442581177\n"
     ]
    },
    {
     "name": "stderr",
     "output_type": "stream",
     "text": [
      "Training (16204 / 18000 Steps) (loss=0.48868): 100%|██████████| 7/7 [00:09<00:00,  1.39s/it]\n",
      "Training (16211 / 18000 Steps) (loss=0.38659): 100%|██████████| 7/7 [00:05<00:00,  1.28it/s]\n",
      "Training (16218 / 18000 Steps) (loss=0.21540): 100%|██████████| 7/7 [00:05<00:00,  1.20it/s]\n",
      "Training (16225 / 18000 Steps) (loss=0.55919): 100%|██████████| 7/7 [00:05<00:00,  1.22it/s]\n",
      "Training (16232 / 18000 Steps) (loss=0.42394): 100%|██████████| 7/7 [00:05<00:00,  1.30it/s]\n",
      "Training (16239 / 18000 Steps) (loss=0.53883): 100%|██████████| 7/7 [00:05<00:00,  1.20it/s]\n",
      "Training (16246 / 18000 Steps) (loss=0.41698): 100%|██████████| 7/7 [00:05<00:00,  1.20it/s]\n",
      "Training (16253 / 18000 Steps) (loss=0.42451): 100%|██████████| 7/7 [00:05<00:00,  1.24it/s]\n",
      "Training (16260 / 18000 Steps) (loss=0.40542): 100%|██████████| 7/7 [00:05<00:00,  1.24it/s]\n",
      "Training (16267 / 18000 Steps) (loss=0.61614): 100%|██████████| 7/7 [00:05<00:00,  1.22it/s]\n",
      "Training (16274 / 18000 Steps) (loss=0.29863): 100%|██████████| 7/7 [00:05<00:00,  1.19it/s]\n",
      "Training (16281 / 18000 Steps) (loss=0.43802): 100%|██████████| 7/7 [00:05<00:00,  1.25it/s]\n",
      "Training (16288 / 18000 Steps) (loss=0.60120): 100%|██████████| 7/7 [00:05<00:00,  1.21it/s]\n",
      "Training (16295 / 18000 Steps) (loss=0.27898): 100%|██████████| 7/7 [00:05<00:00,  1.26it/s]\n",
      "Validate (16296 / 10 Steps): 100%|██████████| 2/2 [00:04<00:00,  2.25s/it]<00:02,  1.29it/s]\n",
      "Training (16300 / 18000 Steps) (loss=0.23725):  71%|███████▏  | 5/7 [00:09<00:04,  2.29s/it]"
     ]
    },
    {
     "name": "stdout",
     "output_type": "stream",
     "text": [
      "Model Was Not Saved ! Current Best Avg. Dice: 0.395572304725647 Current Avg. Dice: 0.382463276386261 Current Avg. tumor Dice: 0.3738332688808441 Current Avg. lymph Dice: 0.39109325408935547\n"
     ]
    },
    {
     "name": "stderr",
     "output_type": "stream",
     "text": [
      "Training (16302 / 18000 Steps) (loss=0.42020): 100%|██████████| 7/7 [00:10<00:00,  1.43s/it]\n",
      "Training (16309 / 18000 Steps) (loss=0.41773): 100%|██████████| 7/7 [00:05<00:00,  1.20it/s]\n",
      "Training (16316 / 18000 Steps) (loss=0.26944): 100%|██████████| 7/7 [00:05<00:00,  1.23it/s]\n",
      "Training (16323 / 18000 Steps) (loss=0.42680): 100%|██████████| 7/7 [00:05<00:00,  1.24it/s]\n",
      "Training (16330 / 18000 Steps) (loss=0.40520): 100%|██████████| 7/7 [00:05<00:00,  1.30it/s]\n",
      "Training (16337 / 18000 Steps) (loss=0.27294): 100%|██████████| 7/7 [00:05<00:00,  1.25it/s]\n",
      "Training (16344 / 18000 Steps) (loss=0.14132): 100%|██████████| 7/7 [00:05<00:00,  1.29it/s]\n",
      "Training (16351 / 18000 Steps) (loss=0.44392): 100%|██████████| 7/7 [00:05<00:00,  1.24it/s]\n",
      "Training (16358 / 18000 Steps) (loss=0.40323): 100%|██████████| 7/7 [00:05<00:00,  1.17it/s]\n",
      "Training (16365 / 18000 Steps) (loss=0.40327): 100%|██████████| 7/7 [00:05<00:00,  1.28it/s]\n",
      "Training (16372 / 18000 Steps) (loss=0.27006): 100%|██████████| 7/7 [00:05<00:00,  1.26it/s]\n",
      "Training (16379 / 18000 Steps) (loss=0.10205): 100%|██████████| 7/7 [00:05<00:00,  1.29it/s]\n",
      "Training (16386 / 18000 Steps) (loss=0.37357): 100%|██████████| 7/7 [00:05<00:00,  1.30it/s]\n",
      "Training (16393 / 18000 Steps) (loss=0.32347): 100%|██████████| 7/7 [00:05<00:00,  1.20it/s]\n",
      "Validate (16394 / 10 Steps): 100%|██████████| 2/2 [00:04<00:00,  2.20s/it]<00:00,  1.72it/s]\n",
      "Training (16400 / 18000 Steps) (loss=0.53649): 100%|██████████| 7/7 [00:10<00:00,  1.45s/it]\n"
     ]
    },
    {
     "name": "stdout",
     "output_type": "stream",
     "text": [
      "Model Was Not Saved ! Current Best Avg. Dice: 0.395572304725647 Current Avg. Dice: 0.3807164430618286 Current Avg. tumor Dice: 0.3553380072116852 Current Avg. lymph Dice: 0.40609487891197205\n"
     ]
    },
    {
     "name": "stderr",
     "output_type": "stream",
     "text": [
      "Training (16407 / 18000 Steps) (loss=0.41879): 100%|██████████| 7/7 [00:05<00:00,  1.24it/s]\n",
      "Training (16414 / 18000 Steps) (loss=0.27825): 100%|██████████| 7/7 [00:05<00:00,  1.30it/s]\n",
      "Training (16421 / 18000 Steps) (loss=0.38080): 100%|██████████| 7/7 [00:05<00:00,  1.28it/s]\n",
      "Training (16428 / 18000 Steps) (loss=0.39926): 100%|██████████| 7/7 [00:05<00:00,  1.26it/s]\n",
      "Training (16435 / 18000 Steps) (loss=0.40953): 100%|██████████| 7/7 [00:05<00:00,  1.22it/s]\n",
      "Training (16442 / 18000 Steps) (loss=0.59768): 100%|██████████| 7/7 [00:05<00:00,  1.29it/s]\n",
      "Training (16449 / 18000 Steps) (loss=0.60778): 100%|██████████| 7/7 [00:05<00:00,  1.21it/s]\n",
      "Training (16456 / 18000 Steps) (loss=0.37225): 100%|██████████| 7/7 [00:05<00:00,  1.30it/s]\n",
      "Training (16463 / 18000 Steps) (loss=0.27237): 100%|██████████| 7/7 [00:05<00:00,  1.27it/s]\n",
      "Training (16470 / 18000 Steps) (loss=0.39933): 100%|██████████| 7/7 [00:05<00:00,  1.23it/s]\n",
      "Training (16477 / 18000 Steps) (loss=0.29440): 100%|██████████| 7/7 [00:05<00:00,  1.24it/s]\n",
      "Training (16484 / 18000 Steps) (loss=0.52776): 100%|██████████| 7/7 [00:05<00:00,  1.25it/s]\n",
      "Training (16491 / 18000 Steps) (loss=0.41570): 100%|██████████| 7/7 [00:05<00:00,  1.31it/s]\n",
      "Training (16498 / 18000 Steps) (loss=0.26073): 100%|██████████| 7/7 [00:05<00:00,  1.35it/s]\n",
      "Validate (16499 / 10 Steps): 100%|██████████| 2/2 [00:04<00:00,  2.18s/it]<00:20,  3.48s/it]\n",
      "Training (16500 / 18000 Steps) (loss=0.22054):  29%|██▊       | 2/7 [00:08<00:21,  4.28s/it]"
     ]
    },
    {
     "name": "stdout",
     "output_type": "stream",
     "text": [
      "Model Was Not Saved ! Current Best Avg. Dice: 0.395572304725647 Current Avg. Dice: 0.34310823678970337 Current Avg. tumor Dice: 0.3492604196071625 Current Avg. lymph Dice: 0.33695608377456665\n"
     ]
    },
    {
     "name": "stderr",
     "output_type": "stream",
     "text": [
      "Training (16505 / 18000 Steps) (loss=0.51422): 100%|██████████| 7/7 [00:10<00:00,  1.47s/it]\n",
      "Training (16512 / 18000 Steps) (loss=0.39902): 100%|██████████| 7/7 [00:05<00:00,  1.27it/s]\n",
      "Training (16519 / 18000 Steps) (loss=0.41420): 100%|██████████| 7/7 [00:05<00:00,  1.26it/s]\n",
      "Training (16526 / 18000 Steps) (loss=0.18534): 100%|██████████| 7/7 [00:05<00:00,  1.23it/s]\n",
      "Training (16533 / 18000 Steps) (loss=0.41677): 100%|██████████| 7/7 [00:05<00:00,  1.34it/s]\n",
      "Training (16540 / 18000 Steps) (loss=0.36395): 100%|██████████| 7/7 [00:05<00:00,  1.22it/s]\n",
      "Training (16547 / 18000 Steps) (loss=0.29941): 100%|██████████| 7/7 [00:05<00:00,  1.25it/s]\n",
      "Training (16554 / 18000 Steps) (loss=0.40923): 100%|██████████| 7/7 [00:05<00:00,  1.29it/s]\n",
      "Training (16561 / 18000 Steps) (loss=0.47894): 100%|██████████| 7/7 [00:05<00:00,  1.32it/s]\n",
      "Training (16568 / 18000 Steps) (loss=0.38330): 100%|██████████| 7/7 [00:05<00:00,  1.29it/s]\n",
      "Training (16575 / 18000 Steps) (loss=0.40644): 100%|██████████| 7/7 [00:05<00:00,  1.25it/s]\n",
      "Training (16582 / 18000 Steps) (loss=0.42081): 100%|██████████| 7/7 [00:05<00:00,  1.21it/s]\n",
      "Training (16589 / 18000 Steps) (loss=0.29842): 100%|██████████| 7/7 [00:05<00:00,  1.23it/s]\n",
      "Training (16596 / 18000 Steps) (loss=0.66840): 100%|██████████| 7/7 [00:05<00:00,  1.30it/s]\n",
      "Validate (16597 / 10 Steps): 100%|██████████| 2/2 [00:04<00:00,  2.16s/it]<00:04,  1.01s/it]\n",
      "Training (16600 / 18000 Steps) (loss=0.43042):  57%|█████▋    | 4/7 [00:08<00:07,  2.49s/it]"
     ]
    },
    {
     "name": "stdout",
     "output_type": "stream",
     "text": [
      "Model Was Not Saved ! Current Best Avg. Dice: 0.395572304725647 Current Avg. Dice: 0.3697704076766968 Current Avg. tumor Dice: 0.36455971002578735 Current Avg. lymph Dice: 0.3749810457229614\n"
     ]
    },
    {
     "name": "stderr",
     "output_type": "stream",
     "text": [
      "Training (16603 / 18000 Steps) (loss=0.45802): 100%|██████████| 7/7 [00:09<00:00,  1.40s/it]\n",
      "Training (16610 / 18000 Steps) (loss=0.40758): 100%|██████████| 7/7 [00:05<00:00,  1.31it/s]\n",
      "Training (16617 / 18000 Steps) (loss=0.51118): 100%|██████████| 7/7 [00:05<00:00,  1.23it/s]\n",
      "Training (16624 / 18000 Steps) (loss=0.29018): 100%|██████████| 7/7 [00:05<00:00,  1.30it/s]\n",
      "Training (16631 / 18000 Steps) (loss=0.40430): 100%|██████████| 7/7 [00:05<00:00,  1.24it/s]\n",
      "Training (16638 / 18000 Steps) (loss=0.46010): 100%|██████████| 7/7 [00:05<00:00,  1.29it/s]\n",
      "Training (16645 / 18000 Steps) (loss=0.16850): 100%|██████████| 7/7 [00:05<00:00,  1.25it/s]\n",
      "Training (16652 / 18000 Steps) (loss=0.26757): 100%|██████████| 7/7 [00:05<00:00,  1.24it/s]\n",
      "Training (16659 / 18000 Steps) (loss=0.28192): 100%|██████████| 7/7 [00:05<00:00,  1.23it/s]\n",
      "Training (16666 / 18000 Steps) (loss=0.44963): 100%|██████████| 7/7 [00:05<00:00,  1.28it/s]\n",
      "Training (16673 / 18000 Steps) (loss=0.46531): 100%|██████████| 7/7 [00:05<00:00,  1.24it/s]\n",
      "Training (16680 / 18000 Steps) (loss=0.46392): 100%|██████████| 7/7 [00:05<00:00,  1.23it/s]\n",
      "Training (16687 / 18000 Steps) (loss=0.41250): 100%|██████████| 7/7 [00:05<00:00,  1.32it/s]\n",
      "Training (16694 / 18000 Steps) (loss=0.27195): 100%|██████████| 7/7 [00:05<00:00,  1.17it/s]\n",
      "Validate (16695 / 10 Steps): 100%|██████████| 2/2 [00:04<00:00,  2.17s/it]<00:01,  1.53it/s]\n",
      "Training (16700 / 18000 Steps) (loss=0.37294):  86%|████████▌ | 6/7 [00:09<00:02,  2.06s/it]"
     ]
    },
    {
     "name": "stdout",
     "output_type": "stream",
     "text": [
      "Model Was Not Saved ! Current Best Avg. Dice: 0.395572304725647 Current Avg. Dice: 0.37230005860328674 Current Avg. tumor Dice: 0.35651886463165283 Current Avg. lymph Dice: 0.38808122277259827\n"
     ]
    },
    {
     "name": "stderr",
     "output_type": "stream",
     "text": [
      "Training (16701 / 18000 Steps) (loss=0.40549): 100%|██████████| 7/7 [00:09<00:00,  1.42s/it]\n",
      "Training (16708 / 18000 Steps) (loss=0.45726): 100%|██████████| 7/7 [00:05<00:00,  1.30it/s]\n",
      "Training (16715 / 18000 Steps) (loss=0.39140): 100%|██████████| 7/7 [00:05<00:00,  1.26it/s]\n",
      "Training (16722 / 18000 Steps) (loss=0.33995): 100%|██████████| 7/7 [00:05<00:00,  1.23it/s]\n",
      "Training (16729 / 18000 Steps) (loss=0.53599): 100%|██████████| 7/7 [00:05<00:00,  1.30it/s]\n",
      "Training (16736 / 18000 Steps) (loss=0.28963): 100%|██████████| 7/7 [00:05<00:00,  1.29it/s]\n",
      "Training (16743 / 18000 Steps) (loss=0.12611): 100%|██████████| 7/7 [00:05<00:00,  1.28it/s]\n",
      "Training (16750 / 18000 Steps) (loss=0.13594): 100%|██████████| 7/7 [00:05<00:00,  1.26it/s]\n",
      "Training (16757 / 18000 Steps) (loss=0.43216): 100%|██████████| 7/7 [00:05<00:00,  1.33it/s]\n",
      "Training (16764 / 18000 Steps) (loss=0.25850): 100%|██████████| 7/7 [00:05<00:00,  1.28it/s]\n",
      "Training (16771 / 18000 Steps) (loss=0.41709): 100%|██████████| 7/7 [00:05<00:00,  1.21it/s]\n",
      "Training (16778 / 18000 Steps) (loss=0.29292): 100%|██████████| 7/7 [00:05<00:00,  1.26it/s]\n",
      "Training (16785 / 18000 Steps) (loss=0.34528): 100%|██████████| 7/7 [00:05<00:00,  1.24it/s]\n",
      "Training (16792 / 18000 Steps) (loss=0.48541): 100%|██████████| 7/7 [00:05<00:00,  1.25it/s]\n",
      "Training (16799 / 18000 Steps) (loss=0.42015): 100%|██████████| 7/7 [00:05<00:00,  1.21it/s]\n",
      "Validate (16800 / 10 Steps): 100%|██████████| 2/2 [00:04<00:00,  2.26s/it]<?, ?it/s]\n",
      "Training (16800 / 18000 Steps) (loss=0.38798):  14%|█▍        | 1/7 [00:07<00:45,  7.64s/it]"
     ]
    },
    {
     "name": "stdout",
     "output_type": "stream",
     "text": [
      "Model Was Not Saved ! Current Best Avg. Dice: 0.395572304725647 Current Avg. Dice: 0.37729257345199585 Current Avg. tumor Dice: 0.37184715270996094 Current Avg. lymph Dice: 0.3827379643917084\n"
     ]
    },
    {
     "name": "stderr",
     "output_type": "stream",
     "text": [
      "Training (16806 / 18000 Steps) (loss=0.35206): 100%|██████████| 7/7 [00:10<00:00,  1.43s/it]\n",
      "Training (16813 / 18000 Steps) (loss=0.28736): 100%|██████████| 7/7 [00:05<00:00,  1.30it/s]\n",
      "Training (16820 / 18000 Steps) (loss=0.42612): 100%|██████████| 7/7 [00:05<00:00,  1.23it/s]\n",
      "Training (16827 / 18000 Steps) (loss=0.23858): 100%|██████████| 7/7 [00:05<00:00,  1.36it/s]\n",
      "Training (16834 / 18000 Steps) (loss=0.45800): 100%|██████████| 7/7 [00:05<00:00,  1.27it/s]\n",
      "Training (16841 / 18000 Steps) (loss=0.53652): 100%|██████████| 7/7 [00:05<00:00,  1.34it/s]\n",
      "Training (16848 / 18000 Steps) (loss=0.42893): 100%|██████████| 7/7 [00:05<00:00,  1.32it/s]\n",
      "Training (16855 / 18000 Steps) (loss=0.52735): 100%|██████████| 7/7 [00:05<00:00,  1.30it/s]\n",
      "Training (16862 / 18000 Steps) (loss=0.40299): 100%|██████████| 7/7 [00:05<00:00,  1.34it/s]\n",
      "Training (16869 / 18000 Steps) (loss=0.26787): 100%|██████████| 7/7 [00:05<00:00,  1.21it/s]\n",
      "Training (16876 / 18000 Steps) (loss=0.46204): 100%|██████████| 7/7 [00:05<00:00,  1.23it/s]\n",
      "Training (16883 / 18000 Steps) (loss=0.44689): 100%|██████████| 7/7 [00:05<00:00,  1.27it/s]\n",
      "Training (16890 / 18000 Steps) (loss=0.41602): 100%|██████████| 7/7 [00:05<00:00,  1.22it/s]\n",
      "Training (16897 / 18000 Steps) (loss=0.44451): 100%|██████████| 7/7 [00:05<00:00,  1.25it/s]\n",
      "Validate (16898 / 10 Steps): 100%|██████████| 2/2 [00:04<00:00,  2.19s/it]<00:07,  1.57s/it]\n",
      "Training (16900 / 18000 Steps) (loss=0.39145):  43%|████▎     | 3/7 [00:08<00:12,  3.07s/it]"
     ]
    },
    {
     "name": "stdout",
     "output_type": "stream",
     "text": [
      "Model Was Not Saved ! Current Best Avg. Dice: 0.395572304725647 Current Avg. Dice: 0.3564639091491699 Current Avg. tumor Dice: 0.3183193802833557 Current Avg. lymph Dice: 0.3946084678173065\n"
     ]
    },
    {
     "name": "stderr",
     "output_type": "stream",
     "text": [
      "Training (16904 / 18000 Steps) (loss=0.51389): 100%|██████████| 7/7 [00:10<00:00,  1.44s/it]\n",
      "Training (16911 / 18000 Steps) (loss=0.50999): 100%|██████████| 7/7 [00:05<00:00,  1.31it/s]\n",
      "Training (16918 / 18000 Steps) (loss=0.20835): 100%|██████████| 7/7 [00:05<00:00,  1.27it/s]\n",
      "Training (16925 / 18000 Steps) (loss=0.55926): 100%|██████████| 7/7 [00:05<00:00,  1.23it/s]\n",
      "Training (16932 / 18000 Steps) (loss=0.22536): 100%|██████████| 7/7 [00:05<00:00,  1.23it/s]\n",
      "Training (16939 / 18000 Steps) (loss=0.30894): 100%|██████████| 7/7 [00:05<00:00,  1.32it/s]\n",
      "Training (16946 / 18000 Steps) (loss=0.43528): 100%|██████████| 7/7 [00:05<00:00,  1.25it/s]\n",
      "Training (16953 / 18000 Steps) (loss=0.41720): 100%|██████████| 7/7 [00:05<00:00,  1.19it/s]\n",
      "Training (16960 / 18000 Steps) (loss=0.31755): 100%|██████████| 7/7 [00:05<00:00,  1.32it/s]\n",
      "Training (16967 / 18000 Steps) (loss=0.27227): 100%|██████████| 7/7 [00:05<00:00,  1.31it/s]\n",
      "Training (16974 / 18000 Steps) (loss=0.37045): 100%|██████████| 7/7 [00:05<00:00,  1.30it/s]\n",
      "Training (16981 / 18000 Steps) (loss=0.27134): 100%|██████████| 7/7 [00:05<00:00,  1.24it/s]\n",
      "Training (16988 / 18000 Steps) (loss=0.53225): 100%|██████████| 7/7 [00:05<00:00,  1.20it/s]\n",
      "Training (16995 / 18000 Steps) (loss=0.40170): 100%|██████████| 7/7 [00:05<00:00,  1.34it/s]\n",
      "Validate (16996 / 10 Steps): 100%|██████████| 2/2 [00:04<00:00,  2.14s/it]<00:02,  1.25it/s]\n",
      "Training (17000 / 18000 Steps) (loss=0.26698):  71%|███████▏  | 5/7 [00:09<00:04,  2.23s/it]"
     ]
    },
    {
     "name": "stdout",
     "output_type": "stream",
     "text": [
      "Model Was Not Saved ! Current Best Avg. Dice: 0.395572304725647 Current Avg. Dice: 0.37461405992507935 Current Avg. tumor Dice: 0.36812588572502136 Current Avg. lymph Dice: 0.38110223412513733\n"
     ]
    },
    {
     "name": "stderr",
     "output_type": "stream",
     "text": [
      "Training (17002 / 18000 Steps) (loss=0.13905): 100%|██████████| 7/7 [00:09<00:00,  1.43s/it]\n",
      "Training (17009 / 18000 Steps) (loss=0.19106): 100%|██████████| 7/7 [00:05<00:00,  1.28it/s]\n",
      "Training (17016 / 18000 Steps) (loss=0.46849): 100%|██████████| 7/7 [00:05<00:00,  1.28it/s]\n",
      "Training (17023 / 18000 Steps) (loss=0.50712): 100%|██████████| 7/7 [00:05<00:00,  1.21it/s]\n",
      "Training (17030 / 18000 Steps) (loss=0.37560): 100%|██████████| 7/7 [00:05<00:00,  1.28it/s]\n",
      "Training (17037 / 18000 Steps) (loss=0.51698): 100%|██████████| 7/7 [00:05<00:00,  1.30it/s]\n",
      "Training (17044 / 18000 Steps) (loss=0.56198): 100%|██████████| 7/7 [00:05<00:00,  1.28it/s]\n",
      "Training (17051 / 18000 Steps) (loss=0.28066): 100%|██████████| 7/7 [00:05<00:00,  1.24it/s]\n",
      "Training (17058 / 18000 Steps) (loss=0.42033): 100%|██████████| 7/7 [00:05<00:00,  1.23it/s]\n",
      "Training (17065 / 18000 Steps) (loss=0.39555): 100%|██████████| 7/7 [00:05<00:00,  1.23it/s]\n",
      "Training (17072 / 18000 Steps) (loss=0.53476): 100%|██████████| 7/7 [00:05<00:00,  1.30it/s]\n",
      "Training (17079 / 18000 Steps) (loss=0.48154): 100%|██████████| 7/7 [00:05<00:00,  1.22it/s]\n",
      "Training (17086 / 18000 Steps) (loss=0.48559): 100%|██████████| 7/7 [00:05<00:00,  1.24it/s]\n",
      "Training (17093 / 18000 Steps) (loss=0.46387): 100%|██████████| 7/7 [00:05<00:00,  1.29it/s]\n",
      "Validate (17094 / 10 Steps): 100%|██████████| 2/2 [00:04<00:00,  2.14s/it]<00:00,  1.70it/s]\n",
      "Training (17100 / 18000 Steps) (loss=0.26585): 100%|██████████| 7/7 [00:10<00:00,  1.45s/it]\n"
     ]
    },
    {
     "name": "stdout",
     "output_type": "stream",
     "text": [
      "Model Was Not Saved ! Current Best Avg. Dice: 0.395572304725647 Current Avg. Dice: 0.36212438344955444 Current Avg. tumor Dice: 0.3691691756248474 Current Avg. lymph Dice: 0.3550795316696167\n"
     ]
    },
    {
     "name": "stderr",
     "output_type": "stream",
     "text": [
      "Training (17107 / 18000 Steps) (loss=0.41670): 100%|██████████| 7/7 [00:05<00:00,  1.25it/s]\n",
      "Training (17114 / 18000 Steps) (loss=0.29721): 100%|██████████| 7/7 [00:05<00:00,  1.25it/s]\n",
      "Training (17121 / 18000 Steps) (loss=0.26296): 100%|██████████| 7/7 [00:05<00:00,  1.34it/s]\n",
      "Training (17128 / 18000 Steps) (loss=0.30457): 100%|██████████| 7/7 [00:05<00:00,  1.23it/s]\n",
      "Training (17135 / 18000 Steps) (loss=0.28112): 100%|██████████| 7/7 [00:05<00:00,  1.24it/s]\n",
      "Training (17142 / 18000 Steps) (loss=0.25224): 100%|██████████| 7/7 [00:05<00:00,  1.30it/s]\n",
      "Training (17149 / 18000 Steps) (loss=0.54244): 100%|██████████| 7/7 [00:05<00:00,  1.26it/s]\n",
      "Training (17156 / 18000 Steps) (loss=0.47961): 100%|██████████| 7/7 [00:05<00:00,  1.29it/s]\n",
      "Training (17163 / 18000 Steps) (loss=0.12835): 100%|██████████| 7/7 [00:05<00:00,  1.19it/s]\n",
      "Training (17170 / 18000 Steps) (loss=0.27299): 100%|██████████| 7/7 [00:05<00:00,  1.25it/s]\n",
      "Training (17177 / 18000 Steps) (loss=0.41353): 100%|██████████| 7/7 [00:05<00:00,  1.24it/s]\n",
      "Training (17184 / 18000 Steps) (loss=0.52661): 100%|██████████| 7/7 [00:05<00:00,  1.23it/s]\n",
      "Training (17191 / 18000 Steps) (loss=0.45621): 100%|██████████| 7/7 [00:05<00:00,  1.19it/s]\n",
      "Training (17198 / 18000 Steps) (loss=0.33044): 100%|██████████| 7/7 [00:05<00:00,  1.19it/s]\n",
      "Validate (17199 / 10 Steps): 100%|██████████| 2/2 [00:04<00:00,  2.22s/it]<00:20,  3.36s/it]\n",
      "Training (17200 / 18000 Steps) (loss=0.24491):  29%|██▊       | 2/7 [00:08<00:21,  4.27s/it]"
     ]
    },
    {
     "name": "stdout",
     "output_type": "stream",
     "text": [
      "Model Was Not Saved ! Current Best Avg. Dice: 0.395572304725647 Current Avg. Dice: 0.35772913694381714 Current Avg. tumor Dice: 0.39009204506874084 Current Avg. lymph Dice: 0.3253662586212158\n"
     ]
    },
    {
     "name": "stderr",
     "output_type": "stream",
     "text": [
      "Training (17205 / 18000 Steps) (loss=0.42976): 100%|██████████| 7/7 [00:10<00:00,  1.46s/it]\n",
      "Training (17212 / 18000 Steps) (loss=0.38807): 100%|██████████| 7/7 [00:05<00:00,  1.24it/s]\n",
      "Training (17219 / 18000 Steps) (loss=0.47767): 100%|██████████| 7/7 [00:05<00:00,  1.25it/s]\n",
      "Training (17226 / 18000 Steps) (loss=0.45564): 100%|██████████| 7/7 [00:05<00:00,  1.23it/s]\n",
      "Training (17233 / 18000 Steps) (loss=0.54357): 100%|██████████| 7/7 [00:05<00:00,  1.22it/s]\n",
      "Training (17240 / 18000 Steps) (loss=0.30401): 100%|██████████| 7/7 [00:05<00:00,  1.20it/s]\n",
      "Training (17247 / 18000 Steps) (loss=0.34845): 100%|██████████| 7/7 [00:05<00:00,  1.20it/s]\n",
      "Training (17254 / 18000 Steps) (loss=0.14734): 100%|██████████| 7/7 [00:05<00:00,  1.21it/s]\n",
      "Training (17261 / 18000 Steps) (loss=0.50440): 100%|██████████| 7/7 [00:05<00:00,  1.31it/s]\n",
      "Training (17268 / 18000 Steps) (loss=0.20784): 100%|██████████| 7/7 [00:05<00:00,  1.23it/s]\n",
      "Training (17275 / 18000 Steps) (loss=0.20997): 100%|██████████| 7/7 [00:05<00:00,  1.20it/s]\n",
      "Training (17282 / 18000 Steps) (loss=0.37300): 100%|██████████| 7/7 [00:05<00:00,  1.28it/s]\n",
      "Training (17289 / 18000 Steps) (loss=0.49924): 100%|██████████| 7/7 [00:05<00:00,  1.26it/s]\n",
      "Training (17296 / 18000 Steps) (loss=0.25354): 100%|██████████| 7/7 [00:05<00:00,  1.27it/s]\n",
      "Validate (17297 / 10 Steps): 100%|██████████| 2/2 [00:04<00:00,  2.25s/it]<00:04,  1.09s/it]\n",
      "Training (17300 / 18000 Steps) (loss=0.34220):  57%|█████▋    | 4/7 [00:09<00:07,  2.63s/it]"
     ]
    },
    {
     "name": "stdout",
     "output_type": "stream",
     "text": [
      "Model Was Not Saved ! Current Best Avg. Dice: 0.395572304725647 Current Avg. Dice: 0.39249372482299805 Current Avg. tumor Dice: 0.42163118720054626 Current Avg. lymph Dice: 0.36335623264312744\n"
     ]
    },
    {
     "name": "stderr",
     "output_type": "stream",
     "text": [
      "Training (17303 / 18000 Steps) (loss=0.27736): 100%|██████████| 7/7 [00:10<00:00,  1.49s/it]\n",
      "Training (17310 / 18000 Steps) (loss=0.33781): 100%|██████████| 7/7 [00:05<00:00,  1.27it/s]\n",
      "Training (17317 / 18000 Steps) (loss=0.29102): 100%|██████████| 7/7 [00:05<00:00,  1.20it/s]\n",
      "Training (17324 / 18000 Steps) (loss=0.34893): 100%|██████████| 7/7 [00:05<00:00,  1.24it/s]\n",
      "Training (17331 / 18000 Steps) (loss=0.18947): 100%|██████████| 7/7 [00:05<00:00,  1.22it/s]\n",
      "Training (17338 / 18000 Steps) (loss=0.39512): 100%|██████████| 7/7 [00:05<00:00,  1.29it/s]\n",
      "Training (17345 / 18000 Steps) (loss=0.26176): 100%|██████████| 7/7 [00:05<00:00,  1.26it/s]\n",
      "Training (17352 / 18000 Steps) (loss=0.39284): 100%|██████████| 7/7 [00:05<00:00,  1.25it/s]\n",
      "Training (17359 / 18000 Steps) (loss=0.32727): 100%|██████████| 7/7 [00:05<00:00,  1.29it/s]\n",
      "Training (17366 / 18000 Steps) (loss=0.45887): 100%|██████████| 7/7 [00:05<00:00,  1.23it/s]\n",
      "Training (17373 / 18000 Steps) (loss=0.54593): 100%|██████████| 7/7 [00:05<00:00,  1.24it/s]\n",
      "Training (17380 / 18000 Steps) (loss=0.27099): 100%|██████████| 7/7 [00:05<00:00,  1.31it/s]\n",
      "Training (17387 / 18000 Steps) (loss=0.37733): 100%|██████████| 7/7 [00:05<00:00,  1.28it/s]\n",
      "Training (17394 / 18000 Steps) (loss=0.40158): 100%|██████████| 7/7 [00:05<00:00,  1.25it/s]\n",
      "Validate (17395 / 10 Steps): 100%|██████████| 2/2 [00:04<00:00,  2.21s/it]<00:01,  1.57it/s]\n",
      "Training (17400 / 18000 Steps) (loss=0.25984):  86%|████████▌ | 6/7 [00:09<00:02,  2.08s/it]"
     ]
    },
    {
     "name": "stdout",
     "output_type": "stream",
     "text": [
      "Model Was Not Saved ! Current Best Avg. Dice: 0.395572304725647 Current Avg. Dice: 0.3515479564666748 Current Avg. tumor Dice: 0.3325406312942505 Current Avg. lymph Dice: 0.37055525183677673\n"
     ]
    },
    {
     "name": "stderr",
     "output_type": "stream",
     "text": [
      "Training (17401 / 18000 Steps) (loss=0.40141): 100%|██████████| 7/7 [00:09<00:00,  1.40s/it]\n",
      "Training (17408 / 18000 Steps) (loss=0.35756): 100%|██████████| 7/7 [00:05<00:00,  1.20it/s]\n",
      "Training (17415 / 18000 Steps) (loss=0.28748): 100%|██████████| 7/7 [00:05<00:00,  1.21it/s]\n",
      "Training (17422 / 18000 Steps) (loss=0.41880): 100%|██████████| 7/7 [00:05<00:00,  1.26it/s]\n",
      "Training (17429 / 18000 Steps) (loss=0.29766): 100%|██████████| 7/7 [00:05<00:00,  1.25it/s]\n",
      "Training (17436 / 18000 Steps) (loss=0.19907): 100%|██████████| 7/7 [00:05<00:00,  1.22it/s]\n",
      "Training (17443 / 18000 Steps) (loss=0.46994): 100%|██████████| 7/7 [00:05<00:00,  1.20it/s]\n",
      "Training (17450 / 18000 Steps) (loss=0.26631): 100%|██████████| 7/7 [00:06<00:00,  1.15it/s]\n",
      "Training (17457 / 18000 Steps) (loss=0.34361): 100%|██████████| 7/7 [00:05<00:00,  1.26it/s]\n",
      "Training (17464 / 18000 Steps) (loss=0.37619): 100%|██████████| 7/7 [00:05<00:00,  1.26it/s]\n",
      "Training (17471 / 18000 Steps) (loss=0.24692): 100%|██████████| 7/7 [00:05<00:00,  1.28it/s]\n",
      "Training (17478 / 18000 Steps) (loss=0.40987): 100%|██████████| 7/7 [00:05<00:00,  1.24it/s]\n",
      "Training (17485 / 18000 Steps) (loss=0.33394): 100%|██████████| 7/7 [00:05<00:00,  1.24it/s]\n",
      "Training (17492 / 18000 Steps) (loss=0.32008): 100%|██████████| 7/7 [00:05<00:00,  1.19it/s]\n",
      "Training (17499 / 18000 Steps) (loss=0.43860): 100%|██████████| 7/7 [00:05<00:00,  1.20it/s]\n",
      "Validate (17500 / 10 Steps): 100%|██████████| 2/2 [00:04<00:00,  2.22s/it]<?, ?it/s]\n",
      "Training (17500 / 18000 Steps) (loss=0.21100):  14%|█▍        | 1/7 [00:07<00:45,  7.66s/it]"
     ]
    },
    {
     "name": "stdout",
     "output_type": "stream",
     "text": [
      "Model Was Not Saved ! Current Best Avg. Dice: 0.395572304725647 Current Avg. Dice: 0.3756111264228821 Current Avg. tumor Dice: 0.38204696774482727 Current Avg. lymph Dice: 0.3691753149032593\n"
     ]
    },
    {
     "name": "stderr",
     "output_type": "stream",
     "text": [
      "Training (17506 / 18000 Steps) (loss=0.28308): 100%|██████████| 7/7 [00:10<00:00,  1.43s/it]\n",
      "Training (17513 / 18000 Steps) (loss=0.54296): 100%|██████████| 7/7 [00:05<00:00,  1.23it/s]\n",
      "Training (17520 / 18000 Steps) (loss=0.52574): 100%|██████████| 7/7 [00:05<00:00,  1.23it/s]\n",
      "Training (17527 / 18000 Steps) (loss=0.46007): 100%|██████████| 7/7 [00:05<00:00,  1.22it/s]\n",
      "Training (17534 / 18000 Steps) (loss=0.40591): 100%|██████████| 7/7 [00:05<00:00,  1.22it/s]\n",
      "Training (17541 / 18000 Steps) (loss=0.15855): 100%|██████████| 7/7 [00:05<00:00,  1.27it/s]\n",
      "Training (17548 / 18000 Steps) (loss=0.59766): 100%|██████████| 7/7 [00:05<00:00,  1.22it/s]\n",
      "Training (17555 / 18000 Steps) (loss=0.28384): 100%|██████████| 7/7 [00:05<00:00,  1.21it/s]\n",
      "Training (17562 / 18000 Steps) (loss=0.45511): 100%|██████████| 7/7 [00:05<00:00,  1.25it/s]\n",
      "Training (17569 / 18000 Steps) (loss=0.30148): 100%|██████████| 7/7 [00:05<00:00,  1.21it/s]\n",
      "Training (17576 / 18000 Steps) (loss=0.44522): 100%|██████████| 7/7 [00:06<00:00,  1.16it/s]\n",
      "Training (17583 / 18000 Steps) (loss=0.24305): 100%|██████████| 7/7 [00:05<00:00,  1.22it/s]\n",
      "Training (17590 / 18000 Steps) (loss=0.42231): 100%|██████████| 7/7 [00:05<00:00,  1.24it/s]\n",
      "Training (17597 / 18000 Steps) (loss=0.40825): 100%|██████████| 7/7 [00:05<00:00,  1.27it/s]\n",
      "Validate (17598 / 10 Steps): 100%|██████████| 2/2 [00:04<00:00,  2.21s/it]<00:07,  1.49s/it]\n",
      "Training (17600 / 18000 Steps) (loss=0.28549):  43%|████▎     | 3/7 [00:08<00:12,  3.03s/it]"
     ]
    },
    {
     "name": "stdout",
     "output_type": "stream",
     "text": [
      "Model Was Not Saved ! Current Best Avg. Dice: 0.395572304725647 Current Avg. Dice: 0.3913552165031433 Current Avg. tumor Dice: 0.41950973868370056 Current Avg. lymph Dice: 0.36320072412490845\n"
     ]
    },
    {
     "name": "stderr",
     "output_type": "stream",
     "text": [
      "Training (17604 / 18000 Steps) (loss=0.38617): 100%|██████████| 7/7 [00:09<00:00,  1.41s/it]\n",
      "Training (17611 / 18000 Steps) (loss=0.42584): 100%|██████████| 7/7 [00:05<00:00,  1.19it/s]\n",
      "Training (17618 / 18000 Steps) (loss=0.25772): 100%|██████████| 7/7 [00:05<00:00,  1.24it/s]\n",
      "Training (17625 / 18000 Steps) (loss=0.33741): 100%|██████████| 7/7 [00:05<00:00,  1.26it/s]\n",
      "Training (17632 / 18000 Steps) (loss=0.41391): 100%|██████████| 7/7 [00:05<00:00,  1.20it/s]\n",
      "Training (17639 / 18000 Steps) (loss=0.57086): 100%|██████████| 7/7 [00:05<00:00,  1.25it/s]\n",
      "Training (17646 / 18000 Steps) (loss=0.48169): 100%|██████████| 7/7 [00:05<00:00,  1.20it/s]\n",
      "Training (17653 / 18000 Steps) (loss=0.52880): 100%|██████████| 7/7 [00:05<00:00,  1.20it/s]\n",
      "Training (17660 / 18000 Steps) (loss=0.25895): 100%|██████████| 7/7 [00:05<00:00,  1.25it/s]\n",
      "Training (17667 / 18000 Steps) (loss=0.34353): 100%|██████████| 7/7 [00:06<00:00,  1.16it/s]\n",
      "Training (17674 / 18000 Steps) (loss=0.29338): 100%|██████████| 7/7 [00:05<00:00,  1.27it/s]\n",
      "Training (17681 / 18000 Steps) (loss=0.53343): 100%|██████████| 7/7 [00:05<00:00,  1.21it/s]\n",
      "Training (17688 / 18000 Steps) (loss=0.24750): 100%|██████████| 7/7 [00:05<00:00,  1.23it/s]\n",
      "Training (17695 / 18000 Steps) (loss=0.28321): 100%|██████████| 7/7 [00:05<00:00,  1.20it/s]\n",
      "Validate (17696 / 10 Steps): 100%|██████████| 2/2 [00:04<00:00,  2.17s/it]<00:02,  1.23it/s]\n",
      "Training (17700 / 18000 Steps) (loss=0.44567):  71%|███████▏  | 5/7 [00:09<00:04,  2.25s/it]"
     ]
    },
    {
     "name": "stdout",
     "output_type": "stream",
     "text": [
      "Model Was Not Saved ! Current Best Avg. Dice: 0.395572304725647 Current Avg. Dice: 0.3759180009365082 Current Avg. tumor Dice: 0.4174738824367523 Current Avg. lymph Dice: 0.3343621492385864\n"
     ]
    },
    {
     "name": "stderr",
     "output_type": "stream",
     "text": [
      "Training (17702 / 18000 Steps) (loss=0.39563): 100%|██████████| 7/7 [00:10<00:00,  1.45s/it]\n",
      "Training (17709 / 18000 Steps) (loss=0.26424): 100%|██████████| 7/7 [00:05<00:00,  1.23it/s]\n",
      "Training (17716 / 18000 Steps) (loss=0.35567): 100%|██████████| 7/7 [00:05<00:00,  1.22it/s]\n",
      "Training (17723 / 18000 Steps) (loss=0.26754): 100%|██████████| 7/7 [00:05<00:00,  1.24it/s]\n",
      "Training (17730 / 18000 Steps) (loss=0.40862): 100%|██████████| 7/7 [00:05<00:00,  1.20it/s]\n",
      "Training (17737 / 18000 Steps) (loss=0.16307): 100%|██████████| 7/7 [00:05<00:00,  1.19it/s]\n",
      "Training (17744 / 18000 Steps) (loss=0.31215): 100%|██████████| 7/7 [00:05<00:00,  1.26it/s]\n",
      "Training (17751 / 18000 Steps) (loss=0.52672): 100%|██████████| 7/7 [00:05<00:00,  1.22it/s]\n",
      "Training (17758 / 18000 Steps) (loss=0.20323): 100%|██████████| 7/7 [00:05<00:00,  1.18it/s]\n",
      "Training (17765 / 18000 Steps) (loss=0.52978): 100%|██████████| 7/7 [00:05<00:00,  1.18it/s]\n",
      "Training (17772 / 18000 Steps) (loss=0.48055): 100%|██████████| 7/7 [00:05<00:00,  1.21it/s]\n",
      "Training (17779 / 18000 Steps) (loss=0.57315): 100%|██████████| 7/7 [00:05<00:00,  1.25it/s]\n",
      "Training (17786 / 18000 Steps) (loss=0.17337): 100%|██████████| 7/7 [00:05<00:00,  1.23it/s]\n",
      "Training (17793 / 18000 Steps) (loss=0.44985): 100%|██████████| 7/7 [00:05<00:00,  1.17it/s]\n",
      "Validate (17794 / 10 Steps): 100%|██████████| 2/2 [00:04<00:00,  2.19s/it]<00:00,  1.73it/s]\n",
      "Training (17800 / 18000 Steps) (loss=0.53905): 100%|██████████| 7/7 [00:10<00:00,  1.44s/it]\n"
     ]
    },
    {
     "name": "stdout",
     "output_type": "stream",
     "text": [
      "Model Was Not Saved ! Current Best Avg. Dice: 0.395572304725647 Current Avg. Dice: 0.37385332584381104 Current Avg. tumor Dice: 0.34933963418006897 Current Avg. lymph Dice: 0.3983669877052307\n"
     ]
    },
    {
     "name": "stderr",
     "output_type": "stream",
     "text": [
      "Training (17807 / 18000 Steps) (loss=0.11082): 100%|██████████| 7/7 [00:05<00:00,  1.31it/s]\n",
      "Training (17814 / 18000 Steps) (loss=0.26325): 100%|██████████| 7/7 [00:06<00:00,  1.16it/s]\n",
      "Training (17821 / 18000 Steps) (loss=0.46382): 100%|██████████| 7/7 [00:05<00:00,  1.22it/s]\n",
      "Training (17828 / 18000 Steps) (loss=0.45739): 100%|██████████| 7/7 [00:05<00:00,  1.25it/s]\n",
      "Training (17835 / 18000 Steps) (loss=0.38503): 100%|██████████| 7/7 [00:05<00:00,  1.20it/s]\n",
      "Training (17842 / 18000 Steps) (loss=0.42546): 100%|██████████| 7/7 [00:05<00:00,  1.27it/s]\n",
      "Training (17849 / 18000 Steps) (loss=0.40194): 100%|██████████| 7/7 [00:05<00:00,  1.26it/s]\n",
      "Training (17856 / 18000 Steps) (loss=0.23620): 100%|██████████| 7/7 [00:05<00:00,  1.20it/s]\n",
      "Training (17863 / 18000 Steps) (loss=0.18734): 100%|██████████| 7/7 [00:05<00:00,  1.25it/s]\n",
      "Training (17870 / 18000 Steps) (loss=0.42098): 100%|██████████| 7/7 [00:05<00:00,  1.20it/s]\n",
      "Training (17877 / 18000 Steps) (loss=0.37393): 100%|██████████| 7/7 [00:05<00:00,  1.24it/s]\n",
      "Training (17884 / 18000 Steps) (loss=0.39830): 100%|██████████| 7/7 [00:05<00:00,  1.27it/s]\n",
      "Training (17891 / 18000 Steps) (loss=0.57394): 100%|██████████| 7/7 [00:05<00:00,  1.18it/s]\n",
      "Training (17898 / 18000 Steps) (loss=0.30950): 100%|██████████| 7/7 [00:05<00:00,  1.20it/s]\n",
      "Validate (17899 / 10 Steps): 100%|██████████| 2/2 [00:04<00:00,  2.33s/it]<00:20,  3.46s/it]\n",
      "Training (17900 / 18000 Steps) (loss=0.32640):  29%|██▊       | 2/7 [00:08<00:22,  4.44s/it]"
     ]
    },
    {
     "name": "stdout",
     "output_type": "stream",
     "text": [
      "Model Was Not Saved ! Current Best Avg. Dice: 0.395572304725647 Current Avg. Dice: 0.34053996205329895 Current Avg. tumor Dice: 0.33818238973617554 Current Avg. lymph Dice: 0.3428975045681\n"
     ]
    },
    {
     "name": "stderr",
     "output_type": "stream",
     "text": [
      "Training (17905 / 18000 Steps) (loss=0.28093): 100%|██████████| 7/7 [00:10<00:00,  1.52s/it]\n",
      "Training (17912 / 18000 Steps) (loss=0.41638): 100%|██████████| 7/7 [00:05<00:00,  1.19it/s]\n",
      "Training (17919 / 18000 Steps) (loss=0.27719): 100%|██████████| 7/7 [00:05<00:00,  1.23it/s]\n",
      "Training (17926 / 18000 Steps) (loss=0.41053): 100%|██████████| 7/7 [00:05<00:00,  1.19it/s]\n",
      "Training (17933 / 18000 Steps) (loss=0.40582): 100%|██████████| 7/7 [00:05<00:00,  1.19it/s]\n",
      "Training (17940 / 18000 Steps) (loss=0.32372): 100%|██████████| 7/7 [00:05<00:00,  1.21it/s]\n",
      "Training (17947 / 18000 Steps) (loss=0.27412): 100%|██████████| 7/7 [00:05<00:00,  1.26it/s]\n",
      "Training (17954 / 18000 Steps) (loss=0.19434): 100%|██████████| 7/7 [00:05<00:00,  1.18it/s]\n",
      "Training (17961 / 18000 Steps) (loss=0.35642): 100%|██████████| 7/7 [00:05<00:00,  1.20it/s]\n",
      "Training (17968 / 18000 Steps) (loss=0.42236): 100%|██████████| 7/7 [00:05<00:00,  1.24it/s]\n",
      "Training (17975 / 18000 Steps) (loss=0.44045): 100%|██████████| 7/7 [00:06<00:00,  1.13it/s]\n",
      "Training (17982 / 18000 Steps) (loss=0.20135): 100%|██████████| 7/7 [00:05<00:00,  1.21it/s]\n",
      "Training (17989 / 18000 Steps) (loss=0.41567): 100%|██████████| 7/7 [00:05<00:00,  1.25it/s]\n",
      "Training (17996 / 18000 Steps) (loss=0.28772): 100%|██████████| 7/7 [00:05<00:00,  1.29it/s]\n",
      "Validate (17997 / 10 Steps): 100%|██████████| 2/2 [00:04<00:00,  2.21s/it]<00:04,  1.02s/it]\n",
      "Training (18000 / 18000 Steps) (loss=0.35390):  57%|█████▋    | 4/7 [00:08<00:07,  2.55s/it]"
     ]
    },
    {
     "name": "stdout",
     "output_type": "stream",
     "text": [
      "Model Was Not Saved ! Current Best Avg. Dice: 0.395572304725647 Current Avg. Dice: 0.3749883770942688 Current Avg. tumor Dice: 0.3674938976764679 Current Avg. lymph Dice: 0.3824828267097473\n"
     ]
    },
    {
     "name": "stderr",
     "output_type": "stream",
     "text": [
      "Training (18003 / 18000 Steps) (loss=0.24630): 100%|██████████| 7/7 [00:09<00:00,  1.43s/it]\n"
     ]
    }
   ],
   "source": [
    "model_dir = '/home/nada.saadi/CTPET/hecktor2022_cropped/7thctchannel'\n",
    "\n",
    "def validation(epoch_iterator_val):\n",
    "    model.eval()\n",
    "    with torch.no_grad():\n",
    "        for step, batch in enumerate(epoch_iterator_val):\n",
    "            val_inputs, val_labels = (batch[\"ct\"].cuda(), batch[\"seg\"].cuda())\n",
    "            val_outputs = sliding_window_inference(val_inputs, (96, 96, 96), 4, model)\n",
    "            val_labels_list = decollate_batch(val_labels)\n",
    "            val_labels_convert = [\n",
    "                post_label(val_label_tensor) for val_label_tensor in val_labels_list\n",
    "            ]\n",
    "            val_outputs_list = decollate_batch(val_outputs)\n",
    "            val_output_convert = [\n",
    "                post_pred(val_pred_tensor) for val_pred_tensor in val_outputs_list\n",
    "            ]\n",
    "            dice_metric(y_pred=val_output_convert, y=val_labels_convert)\n",
    "            dice_metric_batch(y_pred=val_output_convert, y=val_labels_convert)\n",
    "            epoch_iterator_val.set_description(\n",
    "                \"Validate (%d / %d Steps)\" % (global_step, 10.0)\n",
    "            )\n",
    "        mean_dice_val = dice_metric.aggregate().item()\n",
    "        metric_batch_val = dice_metric_batch.aggregate()\n",
    "\n",
    "        metric_tumor = metric_batch_val[0].item()\n",
    "        metric_lymph = metric_batch_val[1].item()\n",
    "\n",
    "        dice_metric.reset()\n",
    "        dice_metric_batch.reset()\n",
    "    return mean_dice_val, metric_tumor, metric_lymph\n",
    "\n",
    "\n",
    "def train(global_step, train_loader, dice_val_best, global_step_best):\n",
    "    model.train()\n",
    "    epoch_loss = 0\n",
    "    step = 0\n",
    "    epoch_iterator = tqdm(\n",
    "        train_loader, desc=\"Training (X / X Steps) (loss=X.X)\", dynamic_ncols=True\n",
    "    )\n",
    "    for step, batch in enumerate(epoch_iterator):\n",
    "        step += 1\n",
    "        x, y = (batch[\"ct\"].cuda(), batch[\"seg\"].cuda())\n",
    "        logit_map = model(x)\n",
    "        loss = loss_function(logit_map, y)\n",
    "        loss.backward()\n",
    "        epoch_loss += loss.item()\n",
    "        optimizer.step()\n",
    "        optimizer.zero_grad()\n",
    "        epoch_iterator.set_description(\n",
    "            \"Training (%d / %d Steps) (loss=%2.5f)\"\n",
    "            % (global_step, max_iterations, loss)\n",
    "        )\n",
    "        if (\n",
    "           step = 0\n",
    "    epoch_iterator = tqdm(\n",
    "        train_loader, desc=\"Training (X / X Steps) (loss=X.X)\", dynamic_ncols=True\n",
    "    )\n",
    "    for step, batch in enumerate(epoch_iterator):\n",
    "        step += 1\n",
    "        x, y = (batch[\"ct\"].cuda(), batch[\"seg\"].cuda())\n",
    "        logit_map = model(x)\n",
    "        loss = loss_function(logit_map, y)\n",
    "        loss.backward()\n",
    "        epoch_loss += loss.item()\n",
    "        optimizer.step()\n",
    "        optimizer.zero_grad()\n",
    "        epoch_iterator.set_description(\n",
    "            \"Training (%d / %d Steps) (loss=%2.5f)\"\n",
    "            % (global_step, max_iterations, loss)\n",
    "        )\n",
    "        if (\n",
    "                    step = 0\n",
    "    epoch_iterator = tqdm(\n",
    "        train_loader, desc=\"Training (X / X Steps) (loss=X.X)\", dynamic_ncols=True\n",
    "    )\n",
    "    for step, batch in enumerate(epoch_iterator):\n",
    "        step += 1\n",
    "        x, y = (batch[\"ct\"].cuda(), batch[\"seg\"].cuda())\n",
    "        logit_map = model(x)\n",
    "        loss = loss_function(logit_map, y)\n",
    "        loss.backward()\n",
    "        epoch_loss += loss.item()\n",
    "        optimizer.step()\n",
    "        optimizer.zero_grad()\n",
    "        epoch_iterator.set_description(\n",
    "            \"Training (%d / %d Steps) (loss=%2.5f)\"\n",
    "            % (global_step, max_iterations, loss)\n",
    "        )\n",
    "        if (\n",
    "post_label = AsDiscrete(to_onehot=3)\n",
    "post_pred = AsDiscrete(argmax=True, to_onehot=3)\n",
    "\n",
    "dice_metric = DiceMetric(include_background=False, reduction=\"mean\", get_not_nans=False)\n",
    "dice_metric_batch = DiceMetric(include_background=False, reduction=\"mean_batch\")\n",
    "\n",
    "epoch = 0\n",
    "max_num_epochs = 530\n",
    "\n",
    "global_step = 0\n",
    "dice_val_best = 0.0\n",
    "global_step_best = 0\n",
    "epoch_loss_values = []\n",
    "metric_values = []\n",
    "metric_values_tumor = []\n",
    "metric_values_lymph = []\n",
    "while global_step < max_iterations:\n",
    "    global_step, dice_val_best, global_step_best = train(\n",
    "        global_step, train_loader, dice_val_best, global_step_best\n",
    "    )\n",
    "    # wandb.log({'learning_rate': optimizer.param_groups[0]['lr']})\n",
    "    # wandb.log({'Best Dice': dice_val_best})\n",
    "    epoch += 1\n",
    "    #optimizer.param_groups[0]['lr'] = poly_lr(epoch, max_num_epochs, 0.005676 , 0.9)\n",
    "# model.load_state_dict(torch.load(os.path.join(model_dir, \"best_metric_luck_UNETr_prompt.pth\")))"
   ]
  }
 ],
 "metadata": {
  "kernelspec": {
   "display_name": "clam",
   "language": "python",
   "name": "python3"
  },
  "language_info": {
   "codemirror_mode": {
    "name": "ipython",
    "version": 3
   },
   "file_extension": ".py",
   "mimetype": "text/x-python",
   "name": "python",
   "nbconvert_exporter": "python",
   "pygments_lexer": "ipython3",
   "version": "3.8.0"
  }
 },
 "nbformat": 4,
 "nbformat_minor": 2
}
