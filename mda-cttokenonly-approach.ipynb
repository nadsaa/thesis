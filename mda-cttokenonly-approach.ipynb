{
 "cells": [
  {
   "cell_type": "code",
   "execution_count": 1,
   "metadata": {},
   "outputs": [
    {
     "name": "stdout",
     "output_type": "stream",
     "text": [
      "1\n"
     ]
    },
    {
     "name": "stderr",
     "output_type": "stream",
     "text": [
      "/tmp/ipykernel_3581655/306556414.py:9: TqdmWarning: IProgress not found. Please update jupyter and ipywidgets. See https://ipywidgets.readthedocs.io/en/stable/user_install.html\n",
      "  from tqdm.autonotebook import tqdm\n"
     ]
    }
   ],
   "source": [
    "import torch\n",
    "import torch.nn as nn\n",
    "from torch.utils.data import DataLoader\n",
    "from collections.abc import Sequence\n",
    "\n",
    "from unetr import CustomedUNETR\n",
    "\n",
    "import json\n",
    "from tqdm.autonotebook import tqdm\n",
    "import os\n",
    "os.environ[\"CUDA_DEVICE_ORDER\"] = \"PCI_BUS_ID\"\n",
    "os.environ[\"CUDA_VISIBLE_DEVICES\"] = \"2\" \n",
    "\n",
    "print(torch.cuda.device_count())\n",
    "torch.backends.cudnn.benchmark = True\n",
    "device = torch.device(\"cuda\" if torch.cuda.is_available() else \"cpu\")"
   ]
  },
  {
   "cell_type": "code",
   "execution_count": 2,
   "metadata": {},
   "outputs": [],
   "source": [
    "from monai.transforms import EnsureTyped\n",
    "from monai.transforms import Compose, LoadImaged, ScaleIntensityRanged, ConcatItemsd\n",
    "from monai.metrics import DiceMetric\n",
    "from monai.losses import DiceCELoss, DiceFocalLoss, FocalLoss\n",
    "from monai.inferers import sliding_window_inference\n",
    "\n",
    "\n",
    "from monai.data import (\n",
    "    Dataset,\n",
    "    DataLoader,\n",
    "    CacheDataset,\n",
    "    load_decathlon_datalist,\n",
    "    decollate_batch,\n",
    ")\n",
    "\n",
    "\n",
    "from monai.transforms import (\n",
    "    AsDiscrete,\n",
    "    Compose,\n",
    "    CropForegroundd,\n",
    "    LoadImaged,\n",
    "    Orientationd,\n",
    "    RandFlipd,\n",
    "    RandCropByPosNegLabeld,\n",
    "    RandShiftIntensityd,\n",
    "    ScaleIntensityRanged,\n",
    "    Spacingd,\n",
    "    RandRotate90d,\n",
    "    MapTransform,\n",
    "    ScaleIntensityd,\n",
    "    #AddChanneld,\n",
    "    SpatialPadd,\n",
    "    CenterSpatialCropd,\n",
    "    EnsureChannelFirstd,\n",
    "    ConcatItemsd,\n",
    "    AdjustContrastd, \n",
    "    Rand3DElasticd,\n",
    "    HistogramNormalized,\n",
    "    NormalizeIntensityd,\n",
    "    Invertd,\n",
    "    SaveImage,\n",
    "\n",
    ")\n",
    "import monai"
   ]
  },
  {
   "cell_type": "code",
   "execution_count": 3,
   "metadata": {},
   "outputs": [],
   "source": [
    "data_dir = '/home/nada.saadi/MIS-FM/hecktor2022_cropped'\n",
    "json_dir = '/home/nada.saadi/MIS-FM/hecktor2022_cropped/MDA_ct_train_new.json'"
   ]
  },
  {
   "cell_type": "code",
   "execution_count": 4,
   "metadata": {},
   "outputs": [
    {
     "name": "stdout",
     "output_type": "stream",
     "text": [
      "152 44\n"
     ]
    }
   ],
   "source": [
    "def datafold_read(datalist, basedir, fold=0, key=\"training\"):\n",
    "    with open(datalist) as f:\n",
    "        json_data = json.load(f)\n",
    "\n",
    "    json_data = json_data[key]\n",
    "\n",
    "    for d in json_data:\n",
    "        for k in d:\n",
    "            if isinstance(d[k], list):\n",
    "                d[k] = [os.path.join(basedir, iv) for iv in d[k]]\n",
    "            elif isinstance(d[k], str):\n",
    "                d[k] = os.path.join(basedir, d[k]) if len(d[k]) > 0 else d[k]\n",
    "\n",
    "    tr = []\n",
    "    val = []\n",
    "    for d in json_data:\n",
    "        if \"fold\" in d and d[\"fold\"] == fold:\n",
    "            val.append(d)\n",
    "        else:\n",
    "            tr.append(d)\n",
    "\n",
    "    return tr, val\n",
    "\n",
    "\n",
    "train_data, valid_data = datafold_read(datalist=json_dir, basedir=data_dir, fold=0)\n",
    "print(len(train_data), len(valid_data))"
   ]
  },
  {
   "cell_type": "code",
   "execution_count": 5,
   "metadata": {},
   "outputs": [],
   "source": [
    "class ClipCT(MapTransform):\n",
    "    \"\"\"\n",
    "    Convert labels to multi channels based on hecktor classes:\n",
    "    label 1 is the tumor\n",
    "    label 2 is the lymph node\n",
    "\n",
    "    \"\"\"\n",
    "\n",
    "    def __call__(self, data):\n",
    "        d = dict(data)\n",
    "        for key in self.keys:\n",
    "            if key == \"ct\":\n",
    "                d[key] = torch.clip(d[key], min=-200, max=200)\n",
    "            # elif key == \"pt\":\n",
    "            #     d[key] = torch.clip(d[key], d[key].min(), 5)\n",
    "        return d\n",
    "\n",
    "class MulPTFM(MapTransform):\n",
    "    \"\"\"\n",
    "    Mult PT and FM \n",
    "\n",
    "    \"\"\"\n",
    "\n",
    "    def __call__(self, data):\n",
    "        d = dict(data)\n",
    "\n",
    "        fm = d[\"ct\"] > 0\n",
    "        d[\"pt\"] = d[\"pt\"] * fm\n",
    "        return d\n",
    "\n",
    "class SelectClass(MapTransform):\n",
    "    \"\"\"\n",
    "    Select the class for which you want to fine tune the model \n",
    "\n",
    "    \"\"\"\n",
    "    # def __init__(self, keys, cls=1):\n",
    "    #     super(self).__init__(keys)\n",
    "    #     self.cls = cls\n",
    "\n",
    "    def __call__(self, data):\n",
    "        d = dict(data)\n",
    "        d[\"seg\"][d[\"seg\"] == 1] = 0\n",
    "        # d[\"seg\"][d[\"seg\"] == 2] = 1\n",
    "        \n",
    "        return d"
   ]
  },
  {
   "cell_type": "code",
   "execution_count": 6,
   "metadata": {},
   "outputs": [],
   "source": [
    "num_samples = 1\n",
    "\n",
    "train_transforms = Compose(\n",
    "    [\n",
    "        LoadImaged(keys=[\"ct\", \"seg\"], ensure_channel_first = True),\n",
    "        SpatialPadd(keys=[\"ct\",  \"seg\"], spatial_size=(200, 200, 310), method='end'),\n",
    "        Orientationd(keys=[\"ct\",  \"seg\"], axcodes=\"PLS\"),\n",
    "        #NormalizeIntensityd(keys=[\"pt\"]),\n",
    "        ClipCT(keys=[\"ct\"]),\n",
    "        ScaleIntensityd(keys=[\"ct\"], minv=0, maxv=1),\n",
    "        #MulPTFM(keys=[\"ct\",\"pt\"]),\n",
    "        #ConcatItemsd(keys=[\"pt\", \"ct\"], name=\"ctpt\"),\n",
    "        #NormalizeIntensityd(keys=[\"ctpt\"], channel_wise=True),\n",
    "        RandCropByPosNegLabeld(\n",
    "            keys=[\"ct\", \"seg\"],\n",
    "            label_key=\"seg\",\n",
    "            spatial_size=(96, 96, 96),\n",
    "            pos=1,\n",
    "            neg=1,\n",
    "            num_samples=num_samples,\n",
    "            image_key=\"ct\",\n",
    "            image_threshold=0,\n",
    "        ),\n",
    "        RandFlipd(\n",
    "            keys=[\"ct\", \"seg\"],\n",
    "            spatial_axis=[0],\n",
    "            prob=0.20,\n",
    "        ),\n",
    "        RandFlipd(\n",
    "            keys=[\"ct\", \"seg\"],\n",
    "            spatial_axis=[1],\n",
    "            prob=0.20,\n",
    "        ),\n",
    "        RandFlipd(\n",
    "            keys=[\"ct\", \"seg\"],\n",
    "            spatial_axis=[2],\n",
    "            prob=0.20,\n",
    "        ),\n",
    "        RandRotate90d(\n",
    "            keys=[\"ct\", \"seg\"],\n",
    "            prob=0.20,\n",
    "            max_k=3,\n",
    "        ),\n",
    "    ]\n",
    ")\n",
    "val_transforms = Compose(\n",
    "    [\n",
    "        LoadImaged(keys=[\"ct\", \"seg\"], ensure_channel_first = True),\n",
    "        SpatialPadd(keys=[\"ct\", \"seg\"], spatial_size=(200, 200, 310), method='end'),\n",
    "        Orientationd(keys=[\"ct\",  \"seg\"], axcodes=\"PLS\"),\n",
    "        #NormalizeIntensityd(keys=[\"pt\"]),\n",
    "        ClipCT(keys=[\"ct\"]),\n",
    "        ScaleIntensityd(keys=[\"ct\"], minv=0, maxv=1),\n",
    "        #MulPTFM(keys=[\"ct\",\"pt\"]),\n",
    "        #ConcatItemsd(keys=[\"pt\", \"ct\"], name=\"ctpt\"),\n",
    "    ]\n",
    ")"
   ]
  },
  {
   "cell_type": "code",
   "execution_count": 7,
   "metadata": {},
   "outputs": [],
   "source": [
    "train_ds = monai.data.Dataset(data=train_data, transform=train_transforms)\n",
    "\n",
    "train_loader = DataLoader(\n",
    "    train_ds,\n",
    "    batch_size=2,\n",
    "    shuffle=True,\n",
    "    num_workers=8,\n",
    "    pin_memory=torch.cuda.is_available(),\n",
    "    )\n",
    "\n",
    "val_ds = monai.data.Dataset(data=valid_data, transform=val_transforms)\n",
    "\n",
    "val_loader = DataLoader(\n",
    "    val_ds, \n",
    "    batch_size=2, \n",
    "    num_workers=8, \n",
    "    shuffle= False)"
   ]
  },
  {
   "cell_type": "code",
   "execution_count": 8,
   "metadata": {},
   "outputs": [
    {
     "name": "stdout",
     "output_type": "stream",
     "text": [
      "Nada's version of UNETR\n",
      "(96, 96, 96)\n",
      "(16, 16, 16)\n",
      "(6, 6, 6)\n",
      "768\n",
      "zaz w dakchi ya s lbnat\n"
     ]
    },
    {
     "name": "stderr",
     "output_type": "stream",
     "text": [
      "/home/nada.saadi/miniconda3/envs/clam/lib/python3.8/site-packages/monai/utils/deprecate_utils.py:221: FutureWarning: unetr CustomedUNETR.__init__:pos_embed: Argument `pos_embed` has been deprecated since version 1.2. It will be removed in version 1.4. please use `proj_type` instead.\n",
      "  warn_deprecated(argname, msg, warning_category)\n"
     ]
    }
   ],
   "source": [
    "model = CustomedUNETR(\n",
    "    in_channels=1,  # Number of input channels\n",
    "    out_channels=3,  # Number of output channels\n",
    "    img_size=(96, 96, 96),  # Size of the input image\n",
    "    feature_size=48,  # Size of the feature maps\n",
    "    hidden_size=768,\n",
    "    num_heads=12,  # Size of the hidden layers in the transformer\n",
    "    mlp_dim=3072,  # Dimension of the MLP in the transformer\n",
    "    pos_embed=\"perceptron\",  # Type of positional embedding\n",
    "    norm_name=\"instance\",  # Type of normalization\n",
    "    res_block=True,  # Whether to use residual blocks\n",
    "    dropout_rate=0.0,\n",
    "    proj_type=\"conv\",\n",
    "    r=4,\n",
    "    lora_layer=True,\n",
    "    use_ct_encoder=True,\n",
    "    use_pet_encoder=False,\n",
    ").to(device)\n",
    "\n",
    "pt_weights_4 = '/home/nada.saadi/CTPET/hecktor2022_cropped/Module1-4centers-CT-only-tokens/-module1-4centers-ctonly-tokens.pth'\n",
    "state_dict = torch.load(pt_weights_4)\n",
    "model_state_dict = model.state_dict()\n",
    "for name, param in state_dict.items():\n",
    "    if name in model_state_dict:\n",
    "        if param.shape == model_state_dict[name].shape:\n",
    "            model_state_dict[name] = param\n",
    "\n",
    "model.load_state_dict(model_state_dict) \n",
    "\n",
    "for name, param in model.named_parameters():\n",
    "    if \"decoder5\" in name or \"decoder4\" in name or \"decoder3\" in name or \"decoder2\" in name:\n",
    "        param.requires_grad = False\n",
    "\n"
   ]
  },
  {
   "cell_type": "code",
   "execution_count": 9,
   "metadata": {},
   "outputs": [],
   "source": [
    "def poly_lr(epoch, max_epochs, initial_lr, exponent=0.9):\n",
    "    return initial_lr * (1 - epoch / max_epochs)**exponent\n",
    "\n",
    "model_dir='/home/nada.saadi/CTPET/hecktor2022_cropped/5th_ct_ourapproach'\n",
    "\n",
    "max_iterations = 18000\n",
    "eval_num = 100\n",
    "\n",
    "## running stats\n",
    "global_step = 0\n",
    "dice_val_best = 0.0\n",
    "global_step_best = 0\n",
    "epoch_loss_values = []\n",
    "metric_values = []\n",
    "metric_values_tumor = []\n",
    "metric_values_lymph = []\n",
    "\n",
    "\n",
    "loss_function = DiceCELoss(to_onehot_y=True, softmax=True)\n",
    "optimizer = torch.optim.AdamW(model.parameters(), lr=1e-4, weight_decay=1e-5)\n",
    "\n",
    "\n",
    "post_label = AsDiscrete(to_onehot=3)\n",
    "post_pred = AsDiscrete(argmax=True, to_onehot=3)\n",
    "\n",
    "dice_metric = DiceMetric(include_background=False, reduction=\"mean\", get_not_nans=False)\n",
    "dice_metric_batch = DiceMetric(include_background=False, reduction=\"mean_batch\")\n",
    "\n",
    "\n",
    "##-----------------------------------------------------------------------------\n",
    "\n",
    "def validation(epoch_iterator_val):\n",
    "        model.eval()\n",
    "        with torch.no_grad():\n",
    "            for step, batch in enumerate(epoch_iterator_val):\n",
    "                val_inputs, val_labels = (batch[\"ct\"].cuda(), batch[\"seg\"].cuda())\n",
    "                val_outputs = sliding_window_inference(val_inputs, (96, 96, 96), 4, model)\n",
    "                val_labels_list = decollate_batch(val_labels)\n",
    "                val_labels_convert = [\n",
    "                    post_label(val_label_tensor) for val_label_tensor in val_labels_list\n",
    "                ]\n",
    "                val_outputs_list = decollate_batch(val_outputs)\n",
    "                val_output_convert = [\n",
    "                    post_pred(val_pred_tensor) for val_pred_tensor in val_outputs_list\n",
    "                ]\n",
    "                dice_metric(y_pred=val_output_convert, y=val_labels_convert)\n",
    "                dice_metric_batch(y_pred=val_output_convert, y=val_labels_convert)\n",
    "                epoch_iterator_val.set_description(\n",
    "                    \"Validate (%d / %d Steps)\" % (global_step, 10.0)\n",
    "                )\n",
    "            mean_dice_val = dice_metric.aggregate().item()\n",
    "            metric_batch_val = dice_metric_batch.aggregate()\n",
    "\n",
    "            metric_tumor = metric_batch_val[0].item()\n",
    "            metric_lymph = metric_batch_val[1].item()\n",
    "\n",
    "            dice_metric.reset()\n",
    "            dice_metric_batch.reset()\n",
    "        return mean_dice_val, metric_tumor, metric_lymph\n",
    "\n",
    "\n",
    "\n",
    "def train(global_step, train_loader, dice_val_best, global_step_best):\n",
    "        model.train()\n",
    "        epoch_loss = 0 \n",
    "        step = 0\n",
    "        epoch_iterator = tqdm(\n",
    "            train_loader, desc=\"Training (X / X Steps) (loss=X.X)\", dynamic_ncols=True\n",
    "        )\n",
    "        \n",
    "        for step, batch in enumerate(epoch_iterator):\n",
    "            step += 1\n",
    "            x, y = (batch[\"ct\"].cuda(), batch[\"seg\"].cuda())\n",
    "            logit_map = model(x)\n",
    "            loss = loss_function(logit_map, y)\n",
    "            loss.backward()\n",
    "            epoch_loss += loss.item() \n",
    "            optimizer.step()\n",
    "            optimizer.zero_grad()\n",
    "            epoch_iterator.set_description(\n",
    "                \"Training (%d / %d Steps) (loss=%2.5f)\"\n",
    "                % (global_step, max_iterations, loss)\n",
    "            )\n",
    "            \n",
    "            if (\n",
    "                global_step % eval_num == 0 and global_step != 0\n",
    "            ) or global_step == max_iterations:\n",
    "                epoch_iterator_val = tqdm(\n",
    "                    val_loader, desc=\"Validate (X / X Steps) (dice=X.X)\", dynamic_ncols=True\n",
    "                )\n",
    "                dice_val, metric_tumor, metric_lymph = validation(epoch_iterator_val)\n",
    "                epoch_loss /= step\n",
    "                epoch_loss_values.append(epoch_loss)\n",
    "                metric_values.append(dice_val)\n",
    "                metric_values_tumor.append(metric_tumor)\n",
    "                metric_values_lymph.append(metric_lymph)\n",
    "                if dice_val > dice_val_best:\n",
    "                    dice_val_best = dice_val\n",
    "                    global_step_best = global_step\n",
    "                    torch.save(\n",
    "                        model.state_dict(), os.path.join(model_dir, \"5th_center_CT_our_approach.pth\")\n",
    "                    )\n",
    "                    print(\n",
    "                        \"Model Was Saved ! Current Best Avg. Dice: {} Current Avg. Dice: {} Current Avg. tumor Dice: {} Current Avg. lymph Dice: {}\".format(\n",
    "                            dice_val_best, dice_val, metric_tumor, metric_lymph\n",
    "                        )\n",
    "                    )\n",
    "                else:\n",
    "                    print(\n",
    "                        \"Model Was Not Saved ! Current Best Avg. Dice: {} Current Avg. Dice: {} Current Avg. tumor Dice: {} Current Avg. lymph Dice: {}\".format(\n",
    "                            dice_val_best, dice_val,  metric_tumor, metric_lymph\n",
    "                        )\n",
    "                    )\n",
    "            global_step += 1\n",
    "        return global_step, dice_val_best, global_step_best\n"
   ]
  },
  {
   "cell_type": "code",
   "execution_count": 10,
   "metadata": {},
   "outputs": [
    {
     "name": "stderr",
     "output_type": "stream",
     "text": [
      "Training (X / X Steps) (loss=X.X):   0%|          | 0/76 [00:00<?, ?it/s]"
     ]
    },
    {
     "name": "stderr",
     "output_type": "stream",
     "text": [
      "Training (75 / 18000 Steps) (loss=0.58893): 100%|██████████| 76/76 [01:16<00:00,  1.01s/it]\n",
      "Validate (76 / 10 Steps): 100%|██████████| 22/22 [01:20<00:00,  3.66s/it]5<00:49,  1.04it/s]\n",
      "Training (100 / 18000 Steps) (loss=0.59530):  33%|███▎      | 25/76 [01:47<21:35, 25.41s/it]"
     ]
    },
    {
     "name": "stdout",
     "output_type": "stream",
     "text": [
      "Model Was Saved ! Current Best Avg. Dice: 0.4044315218925476 Current Avg. Dice: 0.4044315218925476 Current Avg. tumor Dice: 0.37772125005722046 Current Avg. lymph Dice: 0.44602081179618835\n"
     ]
    },
    {
     "name": "stderr",
     "output_type": "stream",
     "text": [
      "Training (151 / 18000 Steps) (loss=0.68637): 100%|██████████| 76/76 [02:31<00:00,  2.00s/it]\n",
      "Validate (152 / 10 Steps): 100%|██████████| 22/22 [01:15<00:00,  3.43s/it]<00:24,  1.12it/s]\n",
      "Training (200 / 18000 Steps) (loss=0.44157):  64%|██████▍   | 49/76 [02:02<10:35, 23.54s/it]"
     ]
    },
    {
     "name": "stdout",
     "output_type": "stream",
     "text": [
      "Model Was Not Saved ! Current Best Avg. Dice: 0.4044315218925476 Current Avg. Dice: 0.3967752456665039 Current Avg. tumor Dice: 0.3791389465332031 Current Avg. lymph Dice: 0.4283234775066376\n"
     ]
    },
    {
     "name": "stderr",
     "output_type": "stream",
     "text": [
      "Training (227 / 18000 Steps) (loss=0.33275): 100%|██████████| 76/76 [02:24<00:00,  1.91s/it]\n",
      "Validate (228 / 10 Steps): 100%|██████████| 22/22 [01:15<00:00,  3.42s/it]<00:03,  1.23it/s]\n",
      "Training (300 / 18000 Steps) (loss=0.67182):  96%|█████████▌| 73/76 [02:23<01:10, 23.65s/it]"
     ]
    },
    {
     "name": "stdout",
     "output_type": "stream",
     "text": [
      "Model Was Saved ! Current Best Avg. Dice: 0.40756866335868835 Current Avg. Dice: 0.40756866335868835 Current Avg. tumor Dice: 0.38357606530189514 Current Avg. lymph Dice: 0.45174694061279297\n"
     ]
    },
    {
     "name": "stderr",
     "output_type": "stream",
     "text": [
      "Training (303 / 18000 Steps) (loss=0.22790): 100%|██████████| 76/76 [02:26<00:00,  1.92s/it]\n",
      "Training (379 / 18000 Steps) (loss=0.66958): 100%|██████████| 76/76 [01:10<00:00,  1.08it/s]\n",
      "Validate (380 / 10 Steps): 100%|██████████| 22/22 [01:15<00:00,  3.44s/it]<00:51,  1.10it/s]\n",
      "Training (400 / 18000 Steps) (loss=0.42387):  28%|██▊       | 21/76 [01:38<21:54, 23.89s/it]"
     ]
    },
    {
     "name": "stdout",
     "output_type": "stream",
     "text": [
      "Model Was Saved ! Current Best Avg. Dice: 0.41107815504074097 Current Avg. Dice: 0.41107815504074097 Current Avg. tumor Dice: 0.3848361074924469 Current Avg. lymph Dice: 0.4492017924785614\n"
     ]
    },
    {
     "name": "stderr",
     "output_type": "stream",
     "text": [
      "Training (455 / 18000 Steps) (loss=0.45614): 100%|██████████| 76/76 [02:25<00:00,  1.92s/it]\n",
      "Validate (456 / 10 Steps): 100%|██████████| 22/22 [01:15<00:00,  3.44s/it]<00:28,  1.14it/s]\n",
      "Training (500 / 18000 Steps) (loss=0.57237):  59%|█████▉    | 45/76 [01:58<12:10, 23.57s/it]"
     ]
    },
    {
     "name": "stdout",
     "output_type": "stream",
     "text": [
      "Model Was Not Saved ! Current Best Avg. Dice: 0.41107815504074097 Current Avg. Dice: 0.3967663049697876 Current Avg. tumor Dice: 0.36654382944107056 Current Avg. lymph Dice: 0.4452938437461853\n"
     ]
    },
    {
     "name": "stderr",
     "output_type": "stream",
     "text": [
      "Training (531 / 18000 Steps) (loss=0.63322): 100%|██████████| 76/76 [02:23<00:00,  1.89s/it]\n",
      "Validate (532 / 10 Steps): 100%|██████████| 22/22 [01:15<00:00,  3.43s/it]<00:06,  1.30it/s]\n",
      "Training (600 / 18000 Steps) (loss=0.59742):  91%|█████████ | 69/76 [02:17<02:44, 23.44s/it]"
     ]
    },
    {
     "name": "stdout",
     "output_type": "stream",
     "text": [
      "Model Was Not Saved ! Current Best Avg. Dice: 0.41107815504074097 Current Avg. Dice: 0.39073705673217773 Current Avg. tumor Dice: 0.38341236114501953 Current Avg. lymph Dice: 0.4102524518966675\n"
     ]
    },
    {
     "name": "stderr",
     "output_type": "stream",
     "text": [
      "Training (607 / 18000 Steps) (loss=0.51882): 100%|██████████| 76/76 [02:23<00:00,  1.88s/it]\n",
      "Training (683 / 18000 Steps) (loss=0.63675): 100%|██████████| 76/76 [01:08<00:00,  1.12it/s]\n",
      "Validate (684 / 10 Steps): 100%|██████████| 22/22 [01:15<00:00,  3.43s/it]<00:52,  1.13it/s]\n",
      "Training (700 / 18000 Steps) (loss=0.49055):  22%|██▏       | 17/76 [01:34<23:09, 23.55s/it]"
     ]
    },
    {
     "name": "stdout",
     "output_type": "stream",
     "text": [
      "Model Was Not Saved ! Current Best Avg. Dice: 0.41107815504074097 Current Avg. Dice: 0.4091125726699829 Current Avg. tumor Dice: 0.37702786922454834 Current Avg. lymph Dice: 0.4575392007827759\n"
     ]
    },
    {
     "name": "stderr",
     "output_type": "stream",
     "text": [
      "Training (759 / 18000 Steps) (loss=0.60047): 100%|██████████| 76/76 [02:25<00:00,  1.91s/it]\n",
      "Validate (760 / 10 Steps): 100%|██████████| 22/22 [01:15<00:00,  3.42s/it]<00:30,  1.17it/s]\n",
      "Training (800 / 18000 Steps) (loss=0.42455):  54%|█████▍    | 41/76 [01:55<13:49, 23.70s/it]"
     ]
    },
    {
     "name": "stdout",
     "output_type": "stream",
     "text": [
      "Model Was Saved ! Current Best Avg. Dice: 0.42552345991134644 Current Avg. Dice: 0.42552345991134644 Current Avg. tumor Dice: 0.3993757367134094 Current Avg. lymph Dice: 0.46528610587120056\n"
     ]
    },
    {
     "name": "stderr",
     "output_type": "stream",
     "text": [
      "Training (835 / 18000 Steps) (loss=0.46925): 100%|██████████| 76/76 [02:24<00:00,  1.90s/it]\n",
      "Validate (836 / 10 Steps): 100%|██████████| 22/22 [01:15<00:00,  3.42s/it]<00:09,  1.24it/s]\n",
      "Training (900 / 18000 Steps) (loss=0.40306):  86%|████████▌ | 65/76 [02:16<04:17, 23.38s/it]"
     ]
    },
    {
     "name": "stdout",
     "output_type": "stream",
     "text": [
      "Model Was Not Saved ! Current Best Avg. Dice: 0.42552345991134644 Current Avg. Dice: 0.4118945002555847 Current Avg. tumor Dice: 0.39995643496513367 Current Avg. lymph Dice: 0.4374156594276428\n"
     ]
    },
    {
     "name": "stderr",
     "output_type": "stream",
     "text": [
      "Training (911 / 18000 Steps) (loss=0.47377): 100%|██████████| 76/76 [02:25<00:00,  1.92s/it]\n",
      "Training (987 / 18000 Steps) (loss=0.55679): 100%|██████████| 76/76 [01:08<00:00,  1.11it/s]\n",
      "Validate (988 / 10 Steps): 100%|██████████| 22/22 [01:15<00:00,  3.41s/it]5<00:58,  1.09it/s]\n",
      "Training (1000 / 18000 Steps) (loss=0.33472):  17%|█▋        | 13/76 [01:30<24:50, 23.66s/it]"
     ]
    },
    {
     "name": "stdout",
     "output_type": "stream",
     "text": [
      "Model Was Not Saved ! Current Best Avg. Dice: 0.42552345991134644 Current Avg. Dice: 0.4217405617237091 Current Avg. tumor Dice: 0.4059922695159912 Current Avg. lymph Dice: 0.4476381838321686\n"
     ]
    },
    {
     "name": "stderr",
     "output_type": "stream",
     "text": [
      "Training (1063 / 18000 Steps) (loss=0.45617): 100%|██████████| 76/76 [02:24<00:00,  1.91s/it]\n",
      "Validate (1064 / 10 Steps): 100%|██████████| 22/22 [01:15<00:00,  3.44s/it]<00:34,  1.15it/s]\n",
      "Training (1100 / 18000 Steps) (loss=0.64995):  49%|████▊     | 37/76 [01:52<15:22, 23.64s/it]"
     ]
    },
    {
     "name": "stdout",
     "output_type": "stream",
     "text": [
      "Model Was Not Saved ! Current Best Avg. Dice: 0.42552345991134644 Current Avg. Dice: 0.38121214509010315 Current Avg. tumor Dice: 0.35613736510276794 Current Avg. lymph Dice: 0.42122724652290344\n"
     ]
    },
    {
     "name": "stderr",
     "output_type": "stream",
     "text": [
      "Training (1139 / 18000 Steps) (loss=0.63626): 100%|██████████| 76/76 [02:25<00:00,  1.92s/it]\n",
      "Validate (1140 / 10 Steps): 100%|██████████| 22/22 [01:15<00:00,  3.44s/it]<00:14,  1.11it/s]\n",
      "Training (1200 / 18000 Steps) (loss=0.75955):  80%|████████  | 61/76 [02:14<05:54, 23.61s/it]"
     ]
    },
    {
     "name": "stdout",
     "output_type": "stream",
     "text": [
      "Model Was Not Saved ! Current Best Avg. Dice: 0.42552345991134644 Current Avg. Dice: 0.39821016788482666 Current Avg. tumor Dice: 0.3815978765487671 Current Avg. lymph Dice: 0.43795204162597656\n"
     ]
    },
    {
     "name": "stderr",
     "output_type": "stream",
     "text": [
      "Training (1215 / 18000 Steps) (loss=0.56563): 100%|██████████| 76/76 [02:26<00:00,  1.92s/it]\n",
      "Training (1291 / 18000 Steps) (loss=0.47879): 100%|██████████| 76/76 [01:10<00:00,  1.08it/s]\n",
      "Validate (1292 / 10 Steps): 100%|██████████| 22/22 [01:15<00:00,  3.42s/it]01:08,  1.01s/it]\n",
      "Training (1300 / 18000 Steps) (loss=0.47743):  12%|█▏        | 9/76 [01:27<27:22, 24.52s/it]"
     ]
    },
    {
     "name": "stdout",
     "output_type": "stream",
     "text": [
      "Model Was Not Saved ! Current Best Avg. Dice: 0.42552345991134644 Current Avg. Dice: 0.41211700439453125 Current Avg. tumor Dice: 0.39034590125083923 Current Avg. lymph Dice: 0.4550475478172302\n"
     ]
    },
    {
     "name": "stderr",
     "output_type": "stream",
     "text": [
      "Training (1367 / 18000 Steps) (loss=0.66757): 100%|██████████| 76/76 [02:25<00:00,  1.92s/it]\n",
      "Validate (1368 / 10 Steps): 100%|██████████| 22/22 [01:15<00:00,  3.43s/it]<00:39,  1.11it/s]\n",
      "Training (1400 / 18000 Steps) (loss=0.36692):  43%|████▎     | 33/76 [01:48<16:53, 23.57s/it]"
     ]
    },
    {
     "name": "stdout",
     "output_type": "stream",
     "text": [
      "Model Was Not Saved ! Current Best Avg. Dice: 0.42552345991134644 Current Avg. Dice: 0.4050624966621399 Current Avg. tumor Dice: 0.3729535937309265 Current Avg. lymph Dice: 0.4604746401309967\n"
     ]
    },
    {
     "name": "stderr",
     "output_type": "stream",
     "text": [
      "Training (1443 / 18000 Steps) (loss=0.50087): 100%|██████████| 76/76 [02:25<00:00,  1.92s/it]\n",
      "Validate (1444 / 10 Steps): 100%|██████████| 22/22 [01:16<00:00,  3.47s/it]<00:17,  1.14it/s]\n",
      "Training (1500 / 18000 Steps) (loss=0.69348):  75%|███████▌  | 57/76 [02:10<07:32, 23.80s/it]"
     ]
    },
    {
     "name": "stdout",
     "output_type": "stream",
     "text": [
      "Model Was Not Saved ! Current Best Avg. Dice: 0.42552345991134644 Current Avg. Dice: 0.383011132478714 Current Avg. tumor Dice: 0.3635520935058594 Current Avg. lymph Dice: 0.41837209463119507\n"
     ]
    },
    {
     "name": "stderr",
     "output_type": "stream",
     "text": [
      "Training (1519 / 18000 Steps) (loss=0.46990): 100%|██████████| 76/76 [02:27<00:00,  1.94s/it]\n",
      "Training (1595 / 18000 Steps) (loss=0.67806): 100%|██████████| 76/76 [01:10<00:00,  1.08it/s]\n",
      "Validate (1596 / 10 Steps): 100%|██████████| 22/22 [01:15<00:00,  3.45s/it]01:37,  1.35s/it]\n",
      "Training (1600 / 18000 Steps) (loss=0.46703):   7%|▋         | 5/76 [01:24<33:50, 28.59s/it]"
     ]
    },
    {
     "name": "stdout",
     "output_type": "stream",
     "text": [
      "Model Was Not Saved ! Current Best Avg. Dice: 0.42552345991134644 Current Avg. Dice: 0.38414785265922546 Current Avg. tumor Dice: 0.35520339012145996 Current Avg. lymph Dice: 0.4247560203075409\n"
     ]
    },
    {
     "name": "stderr",
     "output_type": "stream",
     "text": [
      "Training (1671 / 18000 Steps) (loss=0.67846): 100%|██████████| 76/76 [02:25<00:00,  1.92s/it]\n",
      "Validate (1672 / 10 Steps): 100%|██████████| 22/22 [01:15<00:00,  3.43s/it]<00:42,  1.14it/s]\n",
      "Training (1700 / 18000 Steps) (loss=0.52383):  38%|███▊      | 29/76 [01:45<18:25, 23.53s/it]"
     ]
    },
    {
     "name": "stdout",
     "output_type": "stream",
     "text": [
      "Model Was Not Saved ! Current Best Avg. Dice: 0.42552345991134644 Current Avg. Dice: 0.40246886014938354 Current Avg. tumor Dice: 0.3801012933254242 Current Avg. lymph Dice: 0.4380968511104584\n"
     ]
    },
    {
     "name": "stderr",
     "output_type": "stream",
     "text": [
      "Training (1747 / 18000 Steps) (loss=0.50888): 100%|██████████| 76/76 [02:26<00:00,  1.93s/it]\n",
      "Validate (1748 / 10 Steps): 100%|██████████| 22/22 [01:15<00:00,  3.44s/it]<00:20,  1.15it/s]\n",
      "Training (1800 / 18000 Steps) (loss=0.59956):  70%|██████▉   | 53/76 [02:06<09:03, 23.62s/it]"
     ]
    },
    {
     "name": "stdout",
     "output_type": "stream",
     "text": [
      "Model Was Not Saved ! Current Best Avg. Dice: 0.42552345991134644 Current Avg. Dice: 0.37209588289260864 Current Avg. tumor Dice: 0.3639601171016693 Current Avg. lymph Dice: 0.4004397392272949\n"
     ]
    },
    {
     "name": "stderr",
     "output_type": "stream",
     "text": [
      "Training (1823 / 18000 Steps) (loss=0.46625): 100%|██████████| 76/76 [02:25<00:00,  1.92s/it]\n",
      "Training (1899 / 18000 Steps) (loss=0.46778): 100%|██████████| 76/76 [01:10<00:00,  1.08it/s]\n",
      "Validate (1900 / 10 Steps): 100%|██████████| 22/22 [01:15<00:00,  3.44s/it]?, ?it/s]\n",
      "Training (1900 / 18000 Steps) (loss=0.40532):   1%|▏         | 1/76 [01:19<1:39:45, 79.80s/it]"
     ]
    },
    {
     "name": "stdout",
     "output_type": "stream",
     "text": [
      "Model Was Not Saved ! Current Best Avg. Dice: 0.42552345991134644 Current Avg. Dice: 0.4096003472805023 Current Avg. tumor Dice: 0.39374274015426636 Current Avg. lymph Dice: 0.441097617149353\n"
     ]
    },
    {
     "name": "stderr",
     "output_type": "stream",
     "text": [
      "Training (1975 / 18000 Steps) (loss=0.54182): 100%|██████████| 76/76 [02:26<00:00,  1.92s/it] \n",
      "Validate (1976 / 10 Steps): 100%|██████████| 22/22 [01:15<00:00,  3.42s/it]<00:49,  1.05it/s]\n",
      "Training (2000 / 18000 Steps) (loss=0.51187):  33%|███▎      | 25/76 [01:42<20:02, 23.58s/it]"
     ]
    },
    {
     "name": "stdout",
     "output_type": "stream",
     "text": [
      "Model Was Not Saved ! Current Best Avg. Dice: 0.42552345991134644 Current Avg. Dice: 0.41590720415115356 Current Avg. tumor Dice: 0.3933393061161041 Current Avg. lymph Dice: 0.4542393684387207\n"
     ]
    },
    {
     "name": "stderr",
     "output_type": "stream",
     "text": [
      "Training (2051 / 18000 Steps) (loss=0.46816): 100%|██████████| 76/76 [02:27<00:00,  1.94s/it]\n",
      "Validate (2052 / 10 Steps): 100%|██████████| 22/22 [01:15<00:00,  3.41s/it]<00:25,  1.10it/s]\n",
      "Training (2100 / 18000 Steps) (loss=0.62174):  64%|██████▍   | 49/76 [02:02<10:33, 23.45s/it]"
     ]
    },
    {
     "name": "stdout",
     "output_type": "stream",
     "text": [
      "Model Was Not Saved ! Current Best Avg. Dice: 0.42552345991134644 Current Avg. Dice: 0.40122759342193604 Current Avg. tumor Dice: 0.3674871027469635 Current Avg. lymph Dice: 0.4532036781311035\n"
     ]
    },
    {
     "name": "stderr",
     "output_type": "stream",
     "text": [
      "Training (2127 / 18000 Steps) (loss=0.53007): 100%|██████████| 76/76 [02:26<00:00,  1.92s/it]\n",
      "Validate (2128 / 10 Steps): 100%|██████████| 22/22 [01:15<00:00,  3.42s/it]<00:03,  1.27it/s]\n",
      "Training (2200 / 18000 Steps) (loss=0.55528):  96%|█████████▌| 73/76 [02:23<01:10, 23.39s/it]"
     ]
    },
    {
     "name": "stdout",
     "output_type": "stream",
     "text": [
      "Model Was Not Saved ! Current Best Avg. Dice: 0.42552345991134644 Current Avg. Dice: 0.41169026494026184 Current Avg. tumor Dice: 0.3887556493282318 Current Avg. lymph Dice: 0.44516175985336304\n"
     ]
    },
    {
     "name": "stderr",
     "output_type": "stream",
     "text": [
      "Training (2203 / 18000 Steps) (loss=0.65236): 100%|██████████| 76/76 [02:25<00:00,  1.92s/it]\n",
      "Training (2279 / 18000 Steps) (loss=0.51677): 100%|██████████| 76/76 [01:10<00:00,  1.08it/s]\n",
      "Validate (2280 / 10 Steps): 100%|██████████| 22/22 [01:15<00:00,  3.43s/it]<00:49,  1.13it/s]\n",
      "Training (2300 / 18000 Steps) (loss=0.53259):  28%|██▊       | 21/76 [01:37<21:33, 23.52s/it]"
     ]
    },
    {
     "name": "stdout",
     "output_type": "stream",
     "text": [
      "Model Was Not Saved ! Current Best Avg. Dice: 0.42552345991134644 Current Avg. Dice: 0.40190011262893677 Current Avg. tumor Dice: 0.3814985752105713 Current Avg. lymph Dice: 0.4392482042312622\n"
     ]
    },
    {
     "name": "stderr",
     "output_type": "stream",
     "text": [
      "Training (2355 / 18000 Steps) (loss=0.67669): 100%|██████████| 76/76 [02:26<00:00,  1.93s/it]\n",
      "Validate (2356 / 10 Steps): 100%|██████████| 22/22 [01:15<00:00,  3.43s/it]<00:28,  1.12it/s]\n",
      "Training (2400 / 18000 Steps) (loss=0.46545):  59%|█████▉    | 45/76 [01:59<12:11, 23.60s/it]"
     ]
    },
    {
     "name": "stdout",
     "output_type": "stream",
     "text": [
      "Model Was Not Saved ! Current Best Avg. Dice: 0.42552345991134644 Current Avg. Dice: 0.41168448328971863 Current Avg. tumor Dice: 0.39385494589805603 Current Avg. lymph Dice: 0.4418160617351532\n"
     ]
    },
    {
     "name": "stderr",
     "output_type": "stream",
     "text": [
      "Training (2431 / 18000 Steps) (loss=0.44495): 100%|██████████| 76/76 [02:26<00:00,  1.93s/it]\n",
      "Validate (2432 / 10 Steps): 100%|██████████| 22/22 [01:15<00:00,  3.42s/it]<00:06,  1.18it/s]\n",
      "Training (2500 / 18000 Steps) (loss=0.44843):  91%|█████████ | 69/76 [02:19<02:43, 23.38s/it]"
     ]
    },
    {
     "name": "stdout",
     "output_type": "stream",
     "text": [
      "Model Was Not Saved ! Current Best Avg. Dice: 0.42552345991134644 Current Avg. Dice: 0.4174482226371765 Current Avg. tumor Dice: 0.3925527036190033 Current Avg. lymph Dice: 0.44940391182899475\n"
     ]
    },
    {
     "name": "stderr",
     "output_type": "stream",
     "text": [
      "Training (2507 / 18000 Steps) (loss=0.46079): 100%|██████████| 76/76 [02:24<00:00,  1.91s/it]\n",
      "Training (2583 / 18000 Steps) (loss=0.67062): 100%|██████████| 76/76 [01:11<00:00,  1.06it/s]\n",
      "Validate (2584 / 10 Steps): 100%|██████████| 22/22 [01:15<00:00,  3.43s/it]<00:50,  1.18it/s]\n",
      "Training (2600 / 18000 Steps) (loss=0.50762):  22%|██▏       | 17/76 [01:33<23:12, 23.60s/it]"
     ]
    },
    {
     "name": "stdout",
     "output_type": "stream",
     "text": [
      "Model Was Not Saved ! Current Best Avg. Dice: 0.42552345991134644 Current Avg. Dice: 0.4087859094142914 Current Avg. tumor Dice: 0.3858243525028229 Current Avg. lymph Dice: 0.4472622871398926\n"
     ]
    },
    {
     "name": "stderr",
     "output_type": "stream",
     "text": [
      "Training (2659 / 18000 Steps) (loss=0.49083): 100%|██████████| 76/76 [02:25<00:00,  1.92s/it]\n",
      "Validate (2660 / 10 Steps): 100%|██████████| 22/22 [01:15<00:00,  3.44s/it]<00:31,  1.15it/s]\n",
      "Training (2700 / 18000 Steps) (loss=0.66867):  54%|█████▍    | 41/76 [01:57<13:46, 23.63s/it]"
     ]
    },
    {
     "name": "stdout",
     "output_type": "stream",
     "text": [
      "Model Was Not Saved ! Current Best Avg. Dice: 0.42552345991134644 Current Avg. Dice: 0.40689900517463684 Current Avg. tumor Dice: 0.3782707452774048 Current Avg. lymph Dice: 0.4586714506149292\n"
     ]
    },
    {
     "name": "stderr",
     "output_type": "stream",
     "text": [
      "Training (2735 / 18000 Steps) (loss=0.48500): 100%|██████████| 76/76 [02:28<00:00,  1.95s/it]\n",
      "Validate (2736 / 10 Steps): 100%|██████████| 22/22 [01:15<00:00,  3.43s/it]<00:09,  1.21it/s]\n",
      "Training (2800 / 18000 Steps) (loss=0.56177):  86%|████████▌ | 65/76 [02:15<04:18, 23.50s/it]"
     ]
    },
    {
     "name": "stdout",
     "output_type": "stream",
     "text": [
      "Model Was Not Saved ! Current Best Avg. Dice: 0.42552345991134644 Current Avg. Dice: 0.4101024866104126 Current Avg. tumor Dice: 0.38198524713516235 Current Avg. lymph Dice: 0.4471759796142578\n"
     ]
    },
    {
     "name": "stderr",
     "output_type": "stream",
     "text": [
      "Training (2811 / 18000 Steps) (loss=0.46251): 100%|██████████| 76/76 [02:25<00:00,  1.91s/it]\n",
      "Training (2887 / 18000 Steps) (loss=0.39818): 100%|██████████| 76/76 [01:10<00:00,  1.08it/s]\n",
      "Validate (2888 / 10 Steps): 100%|██████████| 22/22 [01:15<00:00,  3.42s/it]<00:58,  1.09it/s]\n",
      "Training (2900 / 18000 Steps) (loss=0.54120):  17%|█▋        | 13/76 [01:31<24:55, 23.74s/it]"
     ]
    },
    {
     "name": "stdout",
     "output_type": "stream",
     "text": [
      "Model Was Not Saved ! Current Best Avg. Dice: 0.42552345991134644 Current Avg. Dice: 0.4068823754787445 Current Avg. tumor Dice: 0.39595332741737366 Current Avg. lymph Dice: 0.4238545000553131\n"
     ]
    },
    {
     "name": "stderr",
     "output_type": "stream",
     "text": [
      "Training (2963 / 18000 Steps) (loss=0.61672): 100%|██████████| 76/76 [02:26<00:00,  1.93s/it]\n",
      "Validate (2964 / 10 Steps): 100%|██████████| 22/22 [01:15<00:00,  3.45s/it]<00:37,  1.08it/s]\n",
      "Training (3000 / 18000 Steps) (loss=0.57950):  49%|████▊     | 37/76 [01:52<15:27, 23.78s/it]"
     ]
    },
    {
     "name": "stdout",
     "output_type": "stream",
     "text": [
      "Model Was Not Saved ! Current Best Avg. Dice: 0.42552345991134644 Current Avg. Dice: 0.41644087433815 Current Avg. tumor Dice: 0.3955603539943695 Current Avg. lymph Dice: 0.44930499792099\n"
     ]
    },
    {
     "name": "stderr",
     "output_type": "stream",
     "text": [
      "Training (3039 / 18000 Steps) (loss=0.48065): 100%|██████████| 76/76 [02:26<00:00,  1.93s/it]\n",
      "Validate (3040 / 10 Steps): 100%|██████████| 22/22 [01:15<00:00,  3.42s/it]<00:13,  1.19it/s]\n",
      "Training (3100 / 18000 Steps) (loss=0.44370):  80%|████████  | 61/76 [02:13<05:51, 23.47s/it]"
     ]
    },
    {
     "name": "stdout",
     "output_type": "stream",
     "text": [
      "Model Was Not Saved ! Current Best Avg. Dice: 0.42552345991134644 Current Avg. Dice: 0.41163045167922974 Current Avg. tumor Dice: 0.379851758480072 Current Avg. lymph Dice: 0.45773130655288696\n"
     ]
    },
    {
     "name": "stderr",
     "output_type": "stream",
     "text": [
      "Training (3115 / 18000 Steps) (loss=0.63578): 100%|██████████| 76/76 [02:25<00:00,  1.92s/it]\n",
      "Training (3191 / 18000 Steps) (loss=0.66734): 100%|██████████| 76/76 [01:09<00:00,  1.10it/s]\n",
      "Validate (3192 / 10 Steps): 100%|██████████| 22/22 [01:16<00:00,  3.46s/it]01:06,  1.02it/s]\n",
      "Training (3200 / 18000 Steps) (loss=0.46318):  12%|█▏        | 9/76 [01:27<27:38, 24.75s/it]"
     ]
    },
    {
     "name": "stdout",
     "output_type": "stream",
     "text": [
      "Model Was Not Saved ! Current Best Avg. Dice: 0.42552345991134644 Current Avg. Dice: 0.3945160210132599 Current Avg. tumor Dice: 0.3810024857521057 Current Avg. lymph Dice: 0.4253113567829132\n"
     ]
    },
    {
     "name": "stderr",
     "output_type": "stream",
     "text": [
      "Training (3267 / 18000 Steps) (loss=0.63385): 100%|██████████| 76/76 [02:24<00:00,  1.90s/it]\n",
      "Validate (3268 / 10 Steps): 100%|██████████| 22/22 [01:15<00:00,  3.43s/it]<00:41,  1.06it/s]\n",
      "Training (3300 / 18000 Steps) (loss=0.42974):  43%|████▎     | 33/76 [01:49<16:51, 23.53s/it]"
     ]
    },
    {
     "name": "stdout",
     "output_type": "stream",
     "text": [
      "Model Was Not Saved ! Current Best Avg. Dice: 0.42552345991134644 Current Avg. Dice: 0.3944011926651001 Current Avg. tumor Dice: 0.36673420667648315 Current Avg. lymph Dice: 0.43755286931991577\n"
     ]
    },
    {
     "name": "stderr",
     "output_type": "stream",
     "text": [
      "Training (3343 / 18000 Steps) (loss=0.67094): 100%|██████████| 76/76 [02:26<00:00,  1.93s/it]\n",
      "Validate (3344 / 10 Steps): 100%|██████████| 22/22 [01:15<00:00,  3.43s/it]<00:17,  1.16it/s]\n",
      "Training (3400 / 18000 Steps) (loss=0.53697):  75%|███████▌  | 57/76 [02:11<07:26, 23.52s/it]"
     ]
    },
    {
     "name": "stdout",
     "output_type": "stream",
     "text": [
      "Model Was Not Saved ! Current Best Avg. Dice: 0.42552345991134644 Current Avg. Dice: 0.39696982502937317 Current Avg. tumor Dice: 0.37190237641334534 Current Avg. lymph Dice: 0.440353661775589\n"
     ]
    },
    {
     "name": "stderr",
     "output_type": "stream",
     "text": [
      "Training (3419 / 18000 Steps) (loss=0.52269): 100%|██████████| 76/76 [02:26<00:00,  1.93s/it]\n",
      "Training (3495 / 18000 Steps) (loss=0.34303): 100%|██████████| 76/76 [01:11<00:00,  1.07it/s]\n",
      "Validate (3496 / 10 Steps): 100%|██████████| 22/22 [01:15<00:00,  3.45s/it]01:41,  1.41s/it]\n",
      "Training (3500 / 18000 Steps) (loss=0.42678):   7%|▋         | 5/76 [01:24<33:57, 28.69s/it]"
     ]
    },
    {
     "name": "stdout",
     "output_type": "stream",
     "text": [
      "Model Was Not Saved ! Current Best Avg. Dice: 0.42552345991134644 Current Avg. Dice: 0.40400877594947815 Current Avg. tumor Dice: 0.37971892952919006 Current Avg. lymph Dice: 0.44553735852241516\n"
     ]
    },
    {
     "name": "stderr",
     "output_type": "stream",
     "text": [
      "Training (3571 / 18000 Steps) (loss=0.44721): 100%|██████████| 76/76 [02:26<00:00,  1.93s/it]\n",
      "Validate (3572 / 10 Steps): 100%|██████████| 22/22 [01:15<00:00,  3.42s/it]<00:43,  1.11it/s]\n",
      "Training (3600 / 18000 Steps) (loss=0.44536):  38%|███▊      | 29/76 [01:46<18:26, 23.54s/it]"
     ]
    },
    {
     "name": "stdout",
     "output_type": "stream",
     "text": [
      "Model Was Not Saved ! Current Best Avg. Dice: 0.42552345991134644 Current Avg. Dice: 0.40764331817626953 Current Avg. tumor Dice: 0.37405046820640564 Current Avg. lymph Dice: 0.46489280462265015\n"
     ]
    },
    {
     "name": "stderr",
     "output_type": "stream",
     "text": [
      "Training (3647 / 18000 Steps) (loss=0.53084): 100%|██████████| 76/76 [02:27<00:00,  1.94s/it]\n",
      "Validate (3648 / 10 Steps): 100%|██████████| 22/22 [01:15<00:00,  3.44s/it]<00:24,  1.00s/it]\n",
      "Training (3700 / 18000 Steps) (loss=0.52676):  70%|██████▉   | 53/76 [02:07<09:03, 23.63s/it]"
     ]
    },
    {
     "name": "stdout",
     "output_type": "stream",
     "text": [
      "Model Was Not Saved ! Current Best Avg. Dice: 0.42552345991134644 Current Avg. Dice: 0.3944341838359833 Current Avg. tumor Dice: 0.3609492778778076 Current Avg. lymph Dice: 0.4516524076461792\n"
     ]
    },
    {
     "name": "stderr",
     "output_type": "stream",
     "text": [
      "Training (3723 / 18000 Steps) (loss=0.65735): 100%|██████████| 76/76 [02:26<00:00,  1.93s/it]\n",
      "Training (3799 / 18000 Steps) (loss=0.65458): 100%|██████████| 76/76 [01:10<00:00,  1.07it/s]\n",
      "Validate (3800 / 10 Steps): 100%|██████████| 22/22 [01:15<00:00,  3.45s/it]?, ?it/s]\n",
      "Training (3800 / 18000 Steps) (loss=0.74487):   1%|▏         | 1/76 [01:20<1:40:19, 80.26s/it]"
     ]
    },
    {
     "name": "stdout",
     "output_type": "stream",
     "text": [
      "Model Was Not Saved ! Current Best Avg. Dice: 0.42552345991134644 Current Avg. Dice: 0.40045785903930664 Current Avg. tumor Dice: 0.38123631477355957 Current Avg. lymph Dice: 0.43893182277679443\n"
     ]
    },
    {
     "name": "stderr",
     "output_type": "stream",
     "text": [
      "Training (3875 / 18000 Steps) (loss=0.42132): 100%|██████████| 76/76 [02:25<00:00,  1.92s/it] \n",
      "Validate (3876 / 10 Steps): 100%|██████████| 22/22 [01:15<00:00,  3.45s/it]<00:47,  1.09it/s]\n",
      "Training (3900 / 18000 Steps) (loss=0.45812):  33%|███▎      | 25/76 [01:41<20:08, 23.70s/it]"
     ]
    },
    {
     "name": "stdout",
     "output_type": "stream",
     "text": [
      "Model Was Not Saved ! Current Best Avg. Dice: 0.42552345991134644 Current Avg. Dice: 0.3881935775279999 Current Avg. tumor Dice: 0.37040817737579346 Current Avg. lymph Dice: 0.4167299270629883\n"
     ]
    },
    {
     "name": "stderr",
     "output_type": "stream",
     "text": [
      "Training (3951 / 18000 Steps) (loss=0.53578): 100%|██████████| 76/76 [02:27<00:00,  1.93s/it]\n",
      "Validate (3952 / 10 Steps): 100%|██████████| 22/22 [01:15<00:00,  3.45s/it]<00:24,  1.16it/s]\n",
      "Training (4000 / 18000 Steps) (loss=0.56612):  64%|██████▍   | 49/76 [02:02<10:39, 23.69s/it]"
     ]
    },
    {
     "name": "stdout",
     "output_type": "stream",
     "text": [
      "Model Was Not Saved ! Current Best Avg. Dice: 0.42552345991134644 Current Avg. Dice: 0.4055285155773163 Current Avg. tumor Dice: 0.38092634081840515 Current Avg. lymph Dice: 0.44150441884994507\n"
     ]
    },
    {
     "name": "stderr",
     "output_type": "stream",
     "text": [
      "Training (4027 / 18000 Steps) (loss=0.60807): 100%|██████████| 76/76 [02:26<00:00,  1.93s/it]\n",
      "Validate (4028 / 10 Steps): 100%|██████████| 22/22 [01:15<00:00,  3.42s/it]<00:03,  1.26it/s]\n",
      "Training (4100 / 18000 Steps) (loss=0.49718):  96%|█████████▌| 73/76 [02:23<01:10, 23.35s/it]"
     ]
    },
    {
     "name": "stdout",
     "output_type": "stream",
     "text": [
      "Model Was Not Saved ! Current Best Avg. Dice: 0.42552345991134644 Current Avg. Dice: 0.40642479062080383 Current Avg. tumor Dice: 0.3838590085506439 Current Avg. lymph Dice: 0.4526813328266144\n"
     ]
    },
    {
     "name": "stderr",
     "output_type": "stream",
     "text": [
      "Training (4103 / 18000 Steps) (loss=0.65947): 100%|██████████| 76/76 [02:25<00:00,  1.91s/it]\n",
      "Training (4179 / 18000 Steps) (loss=0.57151): 100%|██████████| 76/76 [01:10<00:00,  1.08it/s]\n",
      "Validate (4180 / 10 Steps): 100%|██████████| 22/22 [01:15<00:00,  3.43s/it]<00:52,  1.06it/s]\n",
      "Training (4200 / 18000 Steps) (loss=0.43526):  28%|██▊       | 21/76 [01:38<21:36, 23.57s/it]"
     ]
    },
    {
     "name": "stdout",
     "output_type": "stream",
     "text": [
      "Model Was Not Saved ! Current Best Avg. Dice: 0.42552345991134644 Current Avg. Dice: 0.4058598577976227 Current Avg. tumor Dice: 0.3646300435066223 Current Avg. lymph Dice: 0.47046661376953125\n"
     ]
    },
    {
     "name": "stderr",
     "output_type": "stream",
     "text": [
      "Training (4255 / 18000 Steps) (loss=0.44791): 100%|██████████| 76/76 [02:26<00:00,  1.93s/it]\n",
      "Validate (4256 / 10 Steps): 100%|██████████| 22/22 [01:15<00:00,  3.44s/it]<00:28,  1.10it/s]\n",
      "Training (4300 / 18000 Steps) (loss=0.52698):  59%|█████▉    | 45/76 [01:59<12:13, 23.65s/it]"
     ]
    },
    {
     "name": "stdout",
     "output_type": "stream",
     "text": [
      "Model Was Not Saved ! Current Best Avg. Dice: 0.42552345991134644 Current Avg. Dice: 0.41895171999931335 Current Avg. tumor Dice: 0.37591126561164856 Current Avg. lymph Dice: 0.4781639277935028\n"
     ]
    },
    {
     "name": "stderr",
     "output_type": "stream",
     "text": [
      "Training (4331 / 18000 Steps) (loss=0.55900): 100%|██████████| 76/76 [02:26<00:00,  1.93s/it]\n",
      "Validate (4332 / 10 Steps): 100%|██████████| 22/22 [01:15<00:00,  3.42s/it]<00:06,  1.26it/s]\n",
      "Training (4400 / 18000 Steps) (loss=0.67484):  91%|█████████ | 69/76 [02:21<02:43, 23.42s/it]"
     ]
    },
    {
     "name": "stdout",
     "output_type": "stream",
     "text": [
      "Model Was Not Saved ! Current Best Avg. Dice: 0.42552345991134644 Current Avg. Dice: 0.4125768840312958 Current Avg. tumor Dice: 0.3707197904586792 Current Avg. lymph Dice: 0.47767210006713867\n"
     ]
    },
    {
     "name": "stderr",
     "output_type": "stream",
     "text": [
      "Training (4407 / 18000 Steps) (loss=0.53325): 100%|██████████| 76/76 [02:28<00:00,  1.95s/it]\n",
      "Training (4483 / 18000 Steps) (loss=0.58049): 100%|██████████| 76/76 [01:11<00:00,  1.06it/s]\n",
      "Validate (4484 / 10 Steps): 100%|██████████| 22/22 [01:15<00:00,  3.43s/it]<01:01,  1.03s/it]\n",
      "Training (4500 / 18000 Steps) (loss=0.61180):  22%|██▏       | 17/76 [01:35<23:19, 23.72s/it]"
     ]
    },
    {
     "name": "stdout",
     "output_type": "stream",
     "text": [
      "Model Was Not Saved ! Current Best Avg. Dice: 0.42552345991134644 Current Avg. Dice: 0.4021218419075012 Current Avg. tumor Dice: 0.36577677726745605 Current Avg. lymph Dice: 0.459203839302063\n"
     ]
    },
    {
     "name": "stderr",
     "output_type": "stream",
     "text": [
      "Training (4559 / 18000 Steps) (loss=0.52770): 100%|██████████| 76/76 [02:26<00:00,  1.93s/it]\n",
      "Validate (4560 / 10 Steps): 100%|██████████| 22/22 [01:16<00:00,  3.46s/it]<00:33,  1.08it/s]\n",
      "Training (4600 / 18000 Steps) (loss=0.41123):  54%|█████▍    | 41/76 [01:57<13:53, 23.81s/it]"
     ]
    },
    {
     "name": "stdout",
     "output_type": "stream",
     "text": [
      "Model Was Not Saved ! Current Best Avg. Dice: 0.42552345991134644 Current Avg. Dice: 0.37556323409080505 Current Avg. tumor Dice: 0.3311598598957062 Current Avg. lymph Dice: 0.45054715871810913\n"
     ]
    },
    {
     "name": "stderr",
     "output_type": "stream",
     "text": [
      "Training (4635 / 18000 Steps) (loss=0.41328): 100%|██████████| 76/76 [02:27<00:00,  1.94s/it]\n",
      "Validate (4636 / 10 Steps): 100%|██████████| 22/22 [01:15<00:00,  3.42s/it]<00:09,  1.23it/s]\n",
      "Training (4700 / 18000 Steps) (loss=0.67452):  86%|████████▌ | 65/76 [02:17<04:17, 23.39s/it]"
     ]
    },
    {
     "name": "stdout",
     "output_type": "stream",
     "text": [
      "Model Was Not Saved ! Current Best Avg. Dice: 0.42552345991134644 Current Avg. Dice: 0.3989097476005554 Current Avg. tumor Dice: 0.3557976186275482 Current Avg. lymph Dice: 0.4716503322124481\n"
     ]
    },
    {
     "name": "stderr",
     "output_type": "stream",
     "text": [
      "Training (4711 / 18000 Steps) (loss=0.53878): 100%|██████████| 76/76 [02:25<00:00,  1.92s/it]\n",
      "Training (4787 / 18000 Steps) (loss=0.55916): 100%|██████████| 76/76 [01:11<00:00,  1.06it/s]\n",
      "Validate (4788 / 10 Steps): 100%|██████████| 22/22 [01:15<00:00,  3.43s/it]<00:58,  1.10it/s]\n",
      "Training (4800 / 18000 Steps) (loss=0.41416):  17%|█▋        | 13/76 [01:31<25:01, 23.83s/it]"
     ]
    },
    {
     "name": "stdout",
     "output_type": "stream",
     "text": [
      "Model Was Not Saved ! Current Best Avg. Dice: 0.42552345991134644 Current Avg. Dice: 0.3912077844142914 Current Avg. tumor Dice: 0.3592207431793213 Current Avg. lymph Dice: 0.44809097051620483\n"
     ]
    },
    {
     "name": "stderr",
     "output_type": "stream",
     "text": [
      "Training (4863 / 18000 Steps) (loss=0.66601): 100%|██████████| 76/76 [02:27<00:00,  1.94s/it]\n",
      "Validate (4864 / 10 Steps): 100%|██████████| 22/22 [01:15<00:00,  3.43s/it]<00:39,  1.01it/s]\n",
      "Training (4900 / 18000 Steps) (loss=0.32853):  49%|████▊     | 37/76 [01:54<15:23, 23.68s/it]"
     ]
    },
    {
     "name": "stdout",
     "output_type": "stream",
     "text": [
      "Model Was Not Saved ! Current Best Avg. Dice: 0.42552345991134644 Current Avg. Dice: 0.40167519450187683 Current Avg. tumor Dice: 0.36728909611701965 Current Avg. lymph Dice: 0.4581393003463745\n"
     ]
    },
    {
     "name": "stderr",
     "output_type": "stream",
     "text": [
      "Training (4939 / 18000 Steps) (loss=0.40358): 100%|██████████| 76/76 [02:29<00:00,  1.97s/it]\n",
      "Validate (4940 / 10 Steps): 100%|██████████| 22/22 [01:15<00:00,  3.44s/it]<00:14,  1.10it/s]\n",
      "Training (5000 / 18000 Steps) (loss=0.49131):  80%|████████  | 61/76 [02:15<05:55, 23.67s/it]"
     ]
    },
    {
     "name": "stdout",
     "output_type": "stream",
     "text": [
      "Model Was Not Saved ! Current Best Avg. Dice: 0.42552345991134644 Current Avg. Dice: 0.3905363380908966 Current Avg. tumor Dice: 0.36977115273475647 Current Avg. lymph Dice: 0.44028058648109436\n"
     ]
    },
    {
     "name": "stderr",
     "output_type": "stream",
     "text": [
      "Training (5015 / 18000 Steps) (loss=0.53227): 100%|██████████| 76/76 [02:27<00:00,  1.94s/it]\n",
      "Training (5091 / 18000 Steps) (loss=0.53613): 100%|██████████| 76/76 [01:12<00:00,  1.05it/s]\n",
      "Validate (5092 / 10 Steps): 100%|██████████| 22/22 [01:15<00:00,  3.45s/it]01:11,  1.05s/it]\n",
      "Training (5100 / 18000 Steps) (loss=0.60047):  12%|█▏        | 9/76 [01:27<27:37, 24.74s/it]"
     ]
    },
    {
     "name": "stdout",
     "output_type": "stream",
     "text": [
      "Model Was Not Saved ! Current Best Avg. Dice: 0.42552345991134644 Current Avg. Dice: 0.39990532398223877 Current Avg. tumor Dice: 0.3582907021045685 Current Avg. lymph Dice: 0.47325876355171204\n"
     ]
    },
    {
     "name": "stderr",
     "output_type": "stream",
     "text": [
      "Training (5167 / 18000 Steps) (loss=0.34184): 100%|██████████| 76/76 [02:28<00:00,  1.95s/it]\n",
      "Validate (5168 / 10 Steps): 100%|██████████| 22/22 [01:16<00:00,  3.46s/it]<00:38,  1.15it/s]\n",
      "Training (5200 / 18000 Steps) (loss=0.36124):  43%|████▎     | 33/76 [01:49<17:01, 23.76s/it]"
     ]
    },
    {
     "name": "stdout",
     "output_type": "stream",
     "text": [
      "Model Was Not Saved ! Current Best Avg. Dice: 0.42552345991134644 Current Avg. Dice: 0.4066225290298462 Current Avg. tumor Dice: 0.37016773223876953 Current Avg. lymph Dice: 0.46873918175697327\n"
     ]
    },
    {
     "name": "stderr",
     "output_type": "stream",
     "text": [
      "Training (5243 / 18000 Steps) (loss=0.38593): 100%|██████████| 76/76 [02:28<00:00,  1.95s/it]\n",
      "Validate (5244 / 10 Steps): 100%|██████████| 22/22 [01:15<00:00,  3.43s/it]<00:18,  1.11it/s]\n",
      "Training (5300 / 18000 Steps) (loss=0.40514):  75%|███████▌  | 57/76 [02:10<07:27, 23.56s/it]"
     ]
    },
    {
     "name": "stdout",
     "output_type": "stream",
     "text": [
      "Model Was Not Saved ! Current Best Avg. Dice: 0.42552345991134644 Current Avg. Dice: 0.41677892208099365 Current Avg. tumor Dice: 0.37754347920417786 Current Avg. lymph Dice: 0.47341209650039673\n"
     ]
    },
    {
     "name": "stderr",
     "output_type": "stream",
     "text": [
      "Training (5319 / 18000 Steps) (loss=0.59031): 100%|██████████| 76/76 [02:26<00:00,  1.93s/it]\n",
      "Training (5395 / 18000 Steps) (loss=0.53965): 100%|██████████| 76/76 [01:11<00:00,  1.07it/s]\n",
      "Validate (5396 / 10 Steps): 100%|██████████| 22/22 [01:15<00:00,  3.44s/it]01:37,  1.35s/it]\n",
      "Training (5400 / 18000 Steps) (loss=0.46405):   7%|▋         | 5/76 [01:23<33:43, 28.49s/it]"
     ]
    },
    {
     "name": "stdout",
     "output_type": "stream",
     "text": [
      "Model Was Not Saved ! Current Best Avg. Dice: 0.42552345991134644 Current Avg. Dice: 0.4123314619064331 Current Avg. tumor Dice: 0.37865492701530457 Current Avg. lymph Dice: 0.4696466624736786\n"
     ]
    },
    {
     "name": "stderr",
     "output_type": "stream",
     "text": [
      "Training (5471 / 18000 Steps) (loss=0.62360): 100%|██████████| 76/76 [02:26<00:00,  1.92s/it]\n",
      "Validate (5472 / 10 Steps): 100%|██████████| 22/22 [01:15<00:00,  3.44s/it]<00:41,  1.16it/s]\n",
      "Training (5500 / 18000 Steps) (loss=0.57967):  38%|███▊      | 29/76 [01:44<18:27, 23.56s/it]"
     ]
    },
    {
     "name": "stdout",
     "output_type": "stream",
     "text": [
      "Model Was Not Saved ! Current Best Avg. Dice: 0.42552345991134644 Current Avg. Dice: 0.4156951904296875 Current Avg. tumor Dice: 0.38433510065078735 Current Avg. lymph Dice: 0.4719253182411194\n"
     ]
    },
    {
     "name": "stderr",
     "output_type": "stream",
     "text": [
      "Training (5547 / 18000 Steps) (loss=0.34566): 100%|██████████| 76/76 [02:24<00:00,  1.90s/it]\n",
      "Validate (5548 / 10 Steps): 100%|██████████| 22/22 [01:15<00:00,  3.45s/it]<00:20,  1.16it/s]\n",
      "Training (5600 / 18000 Steps) (loss=0.35946):  70%|██████▉   | 53/76 [02:06<09:03, 23.62s/it]"
     ]
    },
    {
     "name": "stdout",
     "output_type": "stream",
     "text": [
      "Model Was Not Saved ! Current Best Avg. Dice: 0.42552345991134644 Current Avg. Dice: 0.3919038474559784 Current Avg. tumor Dice: 0.3613070845603943 Current Avg. lymph Dice: 0.44440045952796936\n"
     ]
    },
    {
     "name": "stderr",
     "output_type": "stream",
     "text": [
      "Training (5623 / 18000 Steps) (loss=0.50457): 100%|██████████| 76/76 [02:26<00:00,  1.93s/it]\n",
      "Training (5699 / 18000 Steps) (loss=0.37054): 100%|██████████| 76/76 [01:12<00:00,  1.05it/s]\n",
      "Validate (5700 / 10 Steps): 100%|██████████| 22/22 [01:15<00:00,  3.43s/it]?, ?it/s]\n",
      "Training (5700 / 18000 Steps) (loss=0.35097):   1%|▏         | 1/76 [01:19<1:39:28, 79.59s/it]"
     ]
    },
    {
     "name": "stdout",
     "output_type": "stream",
     "text": [
      "Model Was Not Saved ! Current Best Avg. Dice: 0.42552345991134644 Current Avg. Dice: 0.40361177921295166 Current Avg. tumor Dice: 0.3600326180458069 Current Avg. lymph Dice: 0.4709361493587494\n"
     ]
    },
    {
     "name": "stderr",
     "output_type": "stream",
     "text": [
      "Training (5775 / 18000 Steps) (loss=0.55307): 100%|██████████| 76/76 [02:28<00:00,  1.95s/it] \n",
      "Validate (5776 / 10 Steps): 100%|██████████| 22/22 [01:15<00:00,  3.44s/it]<00:50,  1.03it/s]\n",
      "Training (5800 / 18000 Steps) (loss=0.66713):  33%|███▎      | 25/76 [01:42<20:05, 23.65s/it]"
     ]
    },
    {
     "name": "stdout",
     "output_type": "stream",
     "text": [
      "Model Was Not Saved ! Current Best Avg. Dice: 0.42552345991134644 Current Avg. Dice: 0.42137840390205383 Current Avg. tumor Dice: 0.3817800283432007 Current Avg. lymph Dice: 0.476654589176178\n"
     ]
    },
    {
     "name": "stderr",
     "output_type": "stream",
     "text": [
      "Training (5851 / 18000 Steps) (loss=0.25719): 100%|██████████| 76/76 [02:28<00:00,  1.95s/it]\n",
      "Validate (5852 / 10 Steps): 100%|██████████| 22/22 [01:16<00:00,  3.47s/it]<00:26,  1.06it/s]\n",
      "Training (5900 / 18000 Steps) (loss=0.60517):  64%|██████▍   | 49/76 [02:05<10:43, 23.82s/it]"
     ]
    },
    {
     "name": "stdout",
     "output_type": "stream",
     "text": [
      "Model Was Not Saved ! Current Best Avg. Dice: 0.42552345991134644 Current Avg. Dice: 0.41471898555755615 Current Avg. tumor Dice: 0.3876531720161438 Current Avg. lymph Dice: 0.4583151638507843\n"
     ]
    },
    {
     "name": "stderr",
     "output_type": "stream",
     "text": [
      "Training (5927 / 18000 Steps) (loss=0.53073): 100%|██████████| 76/76 [02:29<00:00,  1.97s/it]\n",
      "Validate (5928 / 10 Steps): 100%|██████████| 22/22 [01:15<00:00,  3.44s/it]<00:03,  1.11it/s]\n",
      "Training (6000 / 18000 Steps) (loss=0.49811):  96%|█████████▌| 73/76 [02:26<01:10, 23.57s/it]"
     ]
    },
    {
     "name": "stdout",
     "output_type": "stream",
     "text": [
      "Model Was Not Saved ! Current Best Avg. Dice: 0.42552345991134644 Current Avg. Dice: 0.407899409532547 Current Avg. tumor Dice: 0.3683909475803375 Current Avg. lymph Dice: 0.4688648581504822\n"
     ]
    },
    {
     "name": "stderr",
     "output_type": "stream",
     "text": [
      "Training (6003 / 18000 Steps) (loss=0.46547): 100%|██████████| 76/76 [02:29<00:00,  1.97s/it]\n",
      "Training (6079 / 18000 Steps) (loss=0.45103): 100%|██████████| 76/76 [01:13<00:00,  1.04it/s]\n",
      "Validate (6080 / 10 Steps): 100%|██████████| 22/22 [01:15<00:00,  3.43s/it]<00:52,  1.07it/s]\n",
      "Training (6100 / 18000 Steps) (loss=0.50680):  28%|██▊       | 21/76 [01:38<21:41, 23.66s/it]"
     ]
    },
    {
     "name": "stdout",
     "output_type": "stream",
     "text": [
      "Model Was Not Saved ! Current Best Avg. Dice: 0.42552345991134644 Current Avg. Dice: 0.4012504518032074 Current Avg. tumor Dice: 0.36046600341796875 Current Avg. lymph Dice: 0.46695470809936523\n"
     ]
    },
    {
     "name": "stderr",
     "output_type": "stream",
     "text": [
      "Training (6155 / 18000 Steps) (loss=0.45008): 100%|██████████| 76/76 [02:27<00:00,  1.94s/it]\n",
      "Validate (6156 / 10 Steps): 100%|██████████| 22/22 [01:15<00:00,  3.45s/it]<00:30,  1.06it/s]\n",
      "Training (6200 / 18000 Steps) (loss=0.28338):  59%|█████▉    | 45/76 [02:00<12:16, 23.76s/it]"
     ]
    },
    {
     "name": "stdout",
     "output_type": "stream",
     "text": [
      "Model Was Not Saved ! Current Best Avg. Dice: 0.42552345991134644 Current Avg. Dice: 0.4124738574028015 Current Avg. tumor Dice: 0.3858870565891266 Current Avg. lymph Dice: 0.45544740557670593\n"
     ]
    },
    {
     "name": "stderr",
     "output_type": "stream",
     "text": [
      "Training (6231 / 18000 Steps) (loss=0.52200): 100%|██████████| 76/76 [02:28<00:00,  1.95s/it]\n",
      "Validate (6232 / 10 Steps): 100%|██████████| 22/22 [01:15<00:00,  3.42s/it]<00:06,  1.23it/s]\n",
      "Training (6300 / 18000 Steps) (loss=0.47609):  91%|█████████ | 69/76 [02:21<02:44, 23.45s/it]"
     ]
    },
    {
     "name": "stdout",
     "output_type": "stream",
     "text": [
      "Model Was Not Saved ! Current Best Avg. Dice: 0.42552345991134644 Current Avg. Dice: 0.41629400849342346 Current Avg. tumor Dice: 0.38092049956321716 Current Avg. lymph Dice: 0.469563364982605\n"
     ]
    },
    {
     "name": "stderr",
     "output_type": "stream",
     "text": [
      "Training (6307 / 18000 Steps) (loss=0.66972): 100%|██████████| 76/76 [02:27<00:00,  1.94s/it]\n",
      "Training (6383 / 18000 Steps) (loss=0.32670): 100%|██████████| 76/76 [01:12<00:00,  1.05it/s]\n",
      "Validate (6384 / 10 Steps): 100%|██████████| 22/22 [01:15<00:00,  3.44s/it]<00:53,  1.11it/s]\n",
      "Training (6400 / 18000 Steps) (loss=0.51499):  22%|██▏       | 17/76 [01:35<23:30, 23.90s/it]"
     ]
    },
    {
     "name": "stdout",
     "output_type": "stream",
     "text": [
      "Model Was Saved ! Current Best Avg. Dice: 0.4265095889568329 Current Avg. Dice: 0.4265095889568329 Current Avg. tumor Dice: 0.3968809247016907 Current Avg. lymph Dice: 0.4692174196243286\n"
     ]
    },
    {
     "name": "stderr",
     "output_type": "stream",
     "text": [
      "Training (6459 / 18000 Steps) (loss=0.49885): 100%|██████████| 76/76 [02:28<00:00,  1.96s/it]\n",
      "Validate (6460 / 10 Steps): 100%|██████████| 22/22 [01:15<00:00,  3.43s/it]<00:36,  1.02s/it]\n",
      "Training (6500 / 18000 Steps) (loss=0.51654):  54%|█████▍    | 41/76 [01:56<13:47, 23.64s/it]"
     ]
    },
    {
     "name": "stdout",
     "output_type": "stream",
     "text": [
      "Model Was Not Saved ! Current Best Avg. Dice: 0.4265095889568329 Current Avg. Dice: 0.40675610303878784 Current Avg. tumor Dice: 0.39128485321998596 Current Avg. lymph Dice: 0.4370880126953125\n"
     ]
    },
    {
     "name": "stderr",
     "output_type": "stream",
     "text": [
      "Training (6535 / 18000 Steps) (loss=0.64761): 100%|██████████| 76/76 [02:28<00:00,  1.95s/it]\n",
      "Validate (6536 / 10 Steps): 100%|██████████| 22/22 [01:15<00:00,  3.43s/it]<00:10,  1.16it/s]\n",
      "Training (6600 / 18000 Steps) (loss=0.42588):  86%|████████▌ | 65/76 [02:20<04:18, 23.51s/it]"
     ]
    },
    {
     "name": "stdout",
     "output_type": "stream",
     "text": [
      "Model Was Not Saved ! Current Best Avg. Dice: 0.4265095889568329 Current Avg. Dice: 0.4074847996234894 Current Avg. tumor Dice: 0.3612469732761383 Current Avg. lymph Dice: 0.47298914194107056\n"
     ]
    },
    {
     "name": "stderr",
     "output_type": "stream",
     "text": [
      "Training (6611 / 18000 Steps) (loss=0.72516): 100%|██████████| 76/76 [02:29<00:00,  1.96s/it]\n",
      "Training (6687 / 18000 Steps) (loss=0.64262): 100%|██████████| 76/76 [01:15<00:00,  1.01it/s]\n",
      "Validate (6688 / 10 Steps): 100%|██████████| 22/22 [01:15<00:00,  3.43s/it]<00:59,  1.08it/s]\n",
      "Training (6700 / 18000 Steps) (loss=0.31392):  17%|█▋        | 13/76 [01:30<24:57, 23.78s/it]"
     ]
    },
    {
     "name": "stdout",
     "output_type": "stream",
     "text": [
      "Model Was Not Saved ! Current Best Avg. Dice: 0.4265095889568329 Current Avg. Dice: 0.42501047253608704 Current Avg. tumor Dice: 0.3732779920101166 Current Avg. lymph Dice: 0.4937645196914673\n"
     ]
    },
    {
     "name": "stderr",
     "output_type": "stream",
     "text": [
      "Training (6763 / 18000 Steps) (loss=0.50074): 100%|██████████| 76/76 [02:28<00:00,  1.95s/it]\n",
      "Validate (6764 / 10 Steps): 100%|██████████| 22/22 [01:16<00:00,  3.46s/it]<00:37,  1.06it/s]\n",
      "Training (6800 / 18000 Steps) (loss=0.39513):  49%|████▊     | 37/76 [01:54<15:25, 23.74s/it]"
     ]
    },
    {
     "name": "stdout",
     "output_type": "stream",
     "text": [
      "Model Was Not Saved ! Current Best Avg. Dice: 0.4265095889568329 Current Avg. Dice: 0.4023941159248352 Current Avg. tumor Dice: 0.35342487692832947 Current Avg. lymph Dice: 0.4761769473552704\n"
     ]
    },
    {
     "name": "stderr",
     "output_type": "stream",
     "text": [
      "Training (6839 / 18000 Steps) (loss=0.75079): 100%|██████████| 76/76 [02:29<00:00,  1.97s/it]\n",
      "Validate (6840 / 10 Steps): 100%|██████████| 22/22 [01:15<00:00,  3.43s/it]<00:13,  1.14it/s]\n",
      "Training (6900 / 18000 Steps) (loss=0.52562):  80%|████████  | 61/76 [02:16<05:53, 23.58s/it]"
     ]
    },
    {
     "name": "stdout",
     "output_type": "stream",
     "text": [
      "Model Was Not Saved ! Current Best Avg. Dice: 0.4265095889568329 Current Avg. Dice: 0.40128347277641296 Current Avg. tumor Dice: 0.3571603298187256 Current Avg. lymph Dice: 0.46401849389076233\n"
     ]
    },
    {
     "name": "stderr",
     "output_type": "stream",
     "text": [
      "Training (6915 / 18000 Steps) (loss=0.61420): 100%|██████████| 76/76 [02:28<00:00,  1.96s/it]\n",
      "Training (6991 / 18000 Steps) (loss=0.62865): 100%|██████████| 76/76 [01:13<00:00,  1.04it/s]\n",
      "Validate (6992 / 10 Steps): 100%|██████████| 22/22 [01:15<00:00,  3.43s/it]01:08,  1.01s/it]\n",
      "Training (7000 / 18000 Steps) (loss=0.66692):  12%|█▏        | 9/76 [01:27<27:28, 24.60s/it]"
     ]
    },
    {
     "name": "stdout",
     "output_type": "stream",
     "text": [
      "Model Was Not Saved ! Current Best Avg. Dice: 0.4265095889568329 Current Avg. Dice: 0.42171719670295715 Current Avg. tumor Dice: 0.37066465616226196 Current Avg. lymph Dice: 0.49098077416419983\n"
     ]
    },
    {
     "name": "stderr",
     "output_type": "stream",
     "text": [
      "Training (7067 / 18000 Steps) (loss=0.59540): 100%|██████████| 76/76 [02:27<00:00,  1.94s/it]\n",
      "Validate (7068 / 10 Steps): 100%|██████████| 22/22 [01:15<00:00,  3.43s/it]<00:40,  1.08it/s]\n",
      "Training (7100 / 18000 Steps) (loss=0.57083):  43%|████▎     | 33/76 [01:49<16:55, 23.60s/it]"
     ]
    },
    {
     "name": "stdout",
     "output_type": "stream",
     "text": [
      "Model Was Not Saved ! Current Best Avg. Dice: 0.4265095889568329 Current Avg. Dice: 0.40105074644088745 Current Avg. tumor Dice: 0.38165345788002014 Current Avg. lymph Dice: 0.4297874867916107\n"
     ]
    },
    {
     "name": "stderr",
     "output_type": "stream",
     "text": [
      "Training (7143 / 18000 Steps) (loss=0.54126): 100%|██████████| 76/76 [02:27<00:00,  1.94s/it]\n",
      "Validate (7144 / 10 Steps): 100%|██████████| 22/22 [01:15<00:00,  3.44s/it]<00:17,  1.12it/s]\n",
      "Training (7200 / 18000 Steps) (loss=0.57710):  75%|███████▌  | 57/76 [02:12<07:30, 23.69s/it]"
     ]
    },
    {
     "name": "stdout",
     "output_type": "stream",
     "text": [
      "Model Was Not Saved ! Current Best Avg. Dice: 0.4265095889568329 Current Avg. Dice: 0.4233245551586151 Current Avg. tumor Dice: 0.3860882818698883 Current Avg. lymph Dice: 0.4786718785762787\n"
     ]
    },
    {
     "name": "stderr",
     "output_type": "stream",
     "text": [
      "Training (7219 / 18000 Steps) (loss=0.65940): 100%|██████████| 76/76 [02:28<00:00,  1.95s/it]\n",
      "Training (7295 / 18000 Steps) (loss=0.47718): 100%|██████████| 76/76 [01:11<00:00,  1.06it/s]\n",
      "Validate (7296 / 10 Steps): 100%|██████████| 22/22 [01:15<00:00,  3.42s/it]01:44,  1.45s/it]\n",
      "Training (7300 / 18000 Steps) (loss=0.62091):   7%|▋         | 5/76 [01:23<33:31, 28.33s/it]"
     ]
    },
    {
     "name": "stdout",
     "output_type": "stream",
     "text": [
      "Model Was Not Saved ! Current Best Avg. Dice: 0.4265095889568329 Current Avg. Dice: 0.41311872005462646 Current Avg. tumor Dice: 0.37216076254844666 Current Avg. lymph Dice: 0.48006385564804077\n"
     ]
    },
    {
     "name": "stderr",
     "output_type": "stream",
     "text": [
      "Training (7371 / 18000 Steps) (loss=0.67037): 100%|██████████| 76/76 [02:27<00:00,  1.94s/it]\n",
      "Validate (7372 / 10 Steps): 100%|██████████| 22/22 [01:15<00:00,  3.45s/it]<00:42,  1.14it/s]\n",
      "Training (7400 / 18000 Steps) (loss=0.59994):  38%|███▊      | 29/76 [01:45<18:33, 23.69s/it]"
     ]
    },
    {
     "name": "stdout",
     "output_type": "stream",
     "text": [
      "Model Was Not Saved ! Current Best Avg. Dice: 0.4265095889568329 Current Avg. Dice: 0.4189681112766266 Current Avg. tumor Dice: 0.3799847960472107 Current Avg. lymph Dice: 0.48245370388031006\n"
     ]
    },
    {
     "name": "stderr",
     "output_type": "stream",
     "text": [
      "Training (7447 / 18000 Steps) (loss=0.45314): 100%|██████████| 76/76 [02:26<00:00,  1.93s/it]\n",
      "Validate (7448 / 10 Steps): 100%|██████████| 22/22 [01:16<00:00,  3.49s/it]<00:23,  1.04it/s]\n",
      "Training (7500 / 18000 Steps) (loss=0.42247):  70%|██████▉   | 53/76 [02:09<09:11, 24.00s/it]"
     ]
    },
    {
     "name": "stdout",
     "output_type": "stream",
     "text": [
      "Model Was Not Saved ! Current Best Avg. Dice: 0.4265095889568329 Current Avg. Dice: 0.4098627269268036 Current Avg. tumor Dice: 0.3690655827522278 Current Avg. lymph Dice: 0.4700433015823364\n"
     ]
    },
    {
     "name": "stderr",
     "output_type": "stream",
     "text": [
      "Training (7523 / 18000 Steps) (loss=0.63842): 100%|██████████| 76/76 [02:28<00:00,  1.96s/it]\n",
      "Training (7599 / 18000 Steps) (loss=0.36172): 100%|██████████| 76/76 [01:14<00:00,  1.02it/s]\n",
      "Validate (7600 / 10 Steps): 100%|██████████| 22/22 [01:16<00:00,  3.48s/it]?, ?it/s]\n",
      "Training (7600 / 18000 Steps) (loss=0.62819):   1%|▏         | 1/76 [01:20<1:40:58, 80.78s/it]"
     ]
    },
    {
     "name": "stdout",
     "output_type": "stream",
     "text": [
      "Model Was Not Saved ! Current Best Avg. Dice: 0.4265095889568329 Current Avg. Dice: 0.42088204622268677 Current Avg. tumor Dice: 0.37733685970306396 Current Avg. lymph Dice: 0.48915231227874756\n"
     ]
    },
    {
     "name": "stderr",
     "output_type": "stream",
     "text": [
      "Training (7675 / 18000 Steps) (loss=0.65995): 100%|██████████| 76/76 [02:28<00:00,  1.95s/it] \n",
      "Validate (7676 / 10 Steps): 100%|██████████| 22/22 [01:16<00:00,  3.46s/it]<00:46,  1.12it/s]\n",
      "Training (7700 / 18000 Steps) (loss=0.57212):  33%|███▎      | 25/76 [01:43<20:10, 23.74s/it]"
     ]
    },
    {
     "name": "stdout",
     "output_type": "stream",
     "text": [
      "Model Was Not Saved ! Current Best Avg. Dice: 0.4265095889568329 Current Avg. Dice: 0.4157316982746124 Current Avg. tumor Dice: 0.36670175194740295 Current Avg. lymph Dice: 0.48894011974334717\n"
     ]
    },
    {
     "name": "stderr",
     "output_type": "stream",
     "text": [
      "Training (7751 / 18000 Steps) (loss=0.66469): 100%|██████████| 76/76 [02:28<00:00,  1.96s/it]\n",
      "Validate (7752 / 10 Steps): 100%|██████████| 22/22 [01:15<00:00,  3.42s/it]<00:24,  1.12it/s]\n",
      "Training (7800 / 18000 Steps) (loss=0.47523):  64%|██████▍   | 49/76 [02:04<10:35, 23.53s/it]"
     ]
    },
    {
     "name": "stdout",
     "output_type": "stream",
     "text": [
      "Model Was Not Saved ! Current Best Avg. Dice: 0.4265095889568329 Current Avg. Dice: 0.4173256754875183 Current Avg. tumor Dice: 0.38163965940475464 Current Avg. lymph Dice: 0.4731678366661072\n"
     ]
    },
    {
     "name": "stderr",
     "output_type": "stream",
     "text": [
      "Training (7827 / 18000 Steps) (loss=0.55801): 100%|██████████| 76/76 [02:29<00:00,  1.97s/it]\n",
      "Validate (7828 / 10 Steps): 100%|██████████| 22/22 [01:15<00:00,  3.45s/it]<00:03,  1.25it/s]\n",
      "Training (7900 / 18000 Steps) (loss=0.66946):  96%|█████████▌| 73/76 [02:28<01:10, 23.65s/it]"
     ]
    },
    {
     "name": "stdout",
     "output_type": "stream",
     "text": [
      "Model Was Not Saved ! Current Best Avg. Dice: 0.4265095889568329 Current Avg. Dice: 0.41815871000289917 Current Avg. tumor Dice: 0.38036414980888367 Current Avg. lymph Dice: 0.47891733050346375\n"
     ]
    },
    {
     "name": "stderr",
     "output_type": "stream",
     "text": [
      "Training (7903 / 18000 Steps) (loss=0.52119): 100%|██████████| 76/76 [02:31<00:00,  1.99s/it]\n",
      "Training (7979 / 18000 Steps) (loss=0.47283): 100%|██████████| 76/76 [01:12<00:00,  1.05it/s]\n",
      "Validate (7980 / 10 Steps): 100%|██████████| 22/22 [01:15<00:00,  3.44s/it]<00:51,  1.09it/s]\n",
      "Training (8000 / 18000 Steps) (loss=0.62558):  28%|██▊       | 21/76 [01:39<21:40, 23.65s/it]"
     ]
    },
    {
     "name": "stdout",
     "output_type": "stream",
     "text": [
      "Model Was Not Saved ! Current Best Avg. Dice: 0.4265095889568329 Current Avg. Dice: 0.4152218997478485 Current Avg. tumor Dice: 0.3728755712509155 Current Avg. lymph Dice: 0.4777717590332031\n"
     ]
    },
    {
     "name": "stderr",
     "output_type": "stream",
     "text": [
      "Training (8055 / 18000 Steps) (loss=0.41063): 100%|██████████| 76/76 [02:28<00:00,  1.95s/it]\n",
      "Validate (8056 / 10 Steps): 100%|██████████| 22/22 [01:16<00:00,  3.46s/it]<00:28,  1.11it/s]\n",
      "Training (8100 / 18000 Steps) (loss=0.66181):  59%|█████▉    | 45/76 [02:00<12:17, 23.78s/it]"
     ]
    },
    {
     "name": "stdout",
     "output_type": "stream",
     "text": [
      "Model Was Not Saved ! Current Best Avg. Dice: 0.4265095889568329 Current Avg. Dice: 0.4258611500263214 Current Avg. tumor Dice: 0.38879063725471497 Current Avg. lymph Dice: 0.4822898507118225\n"
     ]
    },
    {
     "name": "stderr",
     "output_type": "stream",
     "text": [
      "Training (8131 / 18000 Steps) (loss=0.67001): 100%|██████████| 76/76 [02:27<00:00,  1.94s/it]\n",
      "Validate (8132 / 10 Steps): 100%|██████████| 22/22 [01:16<00:00,  3.46s/it]<00:06,  1.25it/s]\n",
      "Training (8200 / 18000 Steps) (loss=0.29445):  91%|█████████ | 69/76 [02:23<02:47, 23.93s/it]"
     ]
    },
    {
     "name": "stdout",
     "output_type": "stream",
     "text": [
      "Model Was Saved ! Current Best Avg. Dice: 0.42846357822418213 Current Avg. Dice: 0.42846357822418213 Current Avg. tumor Dice: 0.391166090965271 Current Avg. lymph Dice: 0.4823257625102997\n"
     ]
    },
    {
     "name": "stderr",
     "output_type": "stream",
     "text": [
      "Training (8207 / 18000 Steps) (loss=0.29060): 100%|██████████| 76/76 [02:29<00:00,  1.96s/it]\n",
      "Training (8283 / 18000 Steps) (loss=0.56453): 100%|██████████| 76/76 [01:11<00:00,  1.07it/s]\n",
      "Validate (8284 / 10 Steps): 100%|██████████| 22/22 [01:15<00:00,  3.43s/it]<00:54,  1.09it/s]\n",
      "Training (8300 / 18000 Steps) (loss=0.58386):  22%|██▏       | 17/76 [01:34<23:14, 23.64s/it]"
     ]
    },
    {
     "name": "stdout",
     "output_type": "stream",
     "text": [
      "Model Was Not Saved ! Current Best Avg. Dice: 0.42846357822418213 Current Avg. Dice: 0.42743709683418274 Current Avg. tumor Dice: 0.39929109811782837 Current Avg. lymph Dice: 0.4649980962276459\n"
     ]
    },
    {
     "name": "stderr",
     "output_type": "stream",
     "text": [
      "Training (8359 / 18000 Steps) (loss=0.51060): 100%|██████████| 76/76 [02:27<00:00,  1.94s/it]\n",
      "Validate (8360 / 10 Steps): 100%|██████████| 22/22 [01:15<00:00,  3.41s/it]<00:34,  1.04it/s]\n",
      "Training (8400 / 18000 Steps) (loss=0.34364):  54%|█████▍    | 41/76 [01:56<13:51, 23.75s/it]"
     ]
    },
    {
     "name": "stdout",
     "output_type": "stream",
     "text": [
      "Model Was Saved ! Current Best Avg. Dice: 0.43006566166877747 Current Avg. Dice: 0.43006566166877747 Current Avg. tumor Dice: 0.41150403022766113 Current Avg. lymph Dice: 0.4588073194026947\n"
     ]
    },
    {
     "name": "stderr",
     "output_type": "stream",
     "text": [
      "Training (8435 / 18000 Steps) (loss=0.27395): 100%|██████████| 76/76 [02:26<00:00,  1.93s/it]\n",
      "Validate (8436 / 10 Steps): 100%|██████████| 22/22 [01:15<00:00,  3.45s/it]<00:10,  1.09it/s]\n",
      "Training (8500 / 18000 Steps) (loss=0.46877):  86%|████████▌ | 65/76 [02:20<04:24, 24.02s/it]"
     ]
    },
    {
     "name": "stdout",
     "output_type": "stream",
     "text": [
      "Model Was Saved ! Current Best Avg. Dice: 0.43235084414482117 Current Avg. Dice: 0.43235084414482117 Current Avg. tumor Dice: 0.4018467366695404 Current Avg. lymph Dice: 0.4767848551273346\n"
     ]
    },
    {
     "name": "stderr",
     "output_type": "stream",
     "text": [
      "Training (8511 / 18000 Steps) (loss=0.42913): 100%|██████████| 76/76 [02:29<00:00,  1.97s/it]\n",
      "Training (8587 / 18000 Steps) (loss=0.52896): 100%|██████████| 76/76 [01:11<00:00,  1.07it/s]\n",
      "Validate (8588 / 10 Steps): 100%|██████████| 22/22 [01:15<00:00,  3.42s/it]<01:02,  1.03it/s]\n",
      "Training (8600 / 18000 Steps) (loss=0.36146):  17%|█▋        | 13/76 [01:31<25:00, 23.82s/it]"
     ]
    },
    {
     "name": "stdout",
     "output_type": "stream",
     "text": [
      "Model Was Not Saved ! Current Best Avg. Dice: 0.43235084414482117 Current Avg. Dice: 0.40934640169143677 Current Avg. tumor Dice: 0.3688242435455322 Current Avg. lymph Dice: 0.4805329740047455\n"
     ]
    },
    {
     "name": "stderr",
     "output_type": "stream",
     "text": [
      "Training (8663 / 18000 Steps) (loss=0.29983): 100%|██████████| 76/76 [02:27<00:00,  1.94s/it]\n",
      "Validate (8664 / 10 Steps): 100%|██████████| 22/22 [01:15<00:00,  3.42s/it]<00:37,  1.07it/s]\n",
      "Training (8700 / 18000 Steps) (loss=0.39077):  49%|████▊     | 37/76 [01:53<15:17, 23.52s/it]"
     ]
    },
    {
     "name": "stdout",
     "output_type": "stream",
     "text": [
      "Model Was Not Saved ! Current Best Avg. Dice: 0.43235084414482117 Current Avg. Dice: 0.41876450181007385 Current Avg. tumor Dice: 0.3910713195800781 Current Avg. lymph Dice: 0.46677717566490173\n"
     ]
    },
    {
     "name": "stderr",
     "output_type": "stream",
     "text": [
      "Training (8739 / 18000 Steps) (loss=0.28578): 100%|██████████| 76/76 [02:27<00:00,  1.94s/it]\n",
      "Validate (8740 / 10 Steps): 100%|██████████| 22/22 [01:15<00:00,  3.42s/it]<00:14,  1.13it/s]\n",
      "Training (8800 / 18000 Steps) (loss=0.46588):  80%|████████  | 61/76 [02:13<05:51, 23.45s/it]"
     ]
    },
    {
     "name": "stdout",
     "output_type": "stream",
     "text": [
      "Model Was Not Saved ! Current Best Avg. Dice: 0.43235084414482117 Current Avg. Dice: 0.42971697449684143 Current Avg. tumor Dice: 0.3840879797935486 Current Avg. lymph Dice: 0.49705204367637634\n"
     ]
    },
    {
     "name": "stderr",
     "output_type": "stream",
     "text": [
      "Training (8815 / 18000 Steps) (loss=0.27414): 100%|██████████| 76/76 [02:25<00:00,  1.92s/it]\n",
      "Training (8891 / 18000 Steps) (loss=0.66728): 100%|██████████| 76/76 [01:13<00:00,  1.04it/s]\n",
      "Validate (8892 / 10 Steps): 100%|██████████| 22/22 [01:15<00:00,  3.44s/it]01:06,  1.02it/s]\n",
      "Training (8900 / 18000 Steps) (loss=0.67957):  12%|█▏        | 9/76 [01:27<27:31, 24.65s/it]"
     ]
    },
    {
     "name": "stdout",
     "output_type": "stream",
     "text": [
      "Model Was Not Saved ! Current Best Avg. Dice: 0.43235084414482117 Current Avg. Dice: 0.4242386519908905 Current Avg. tumor Dice: 0.39451658725738525 Current Avg. lymph Dice: 0.470855176448822\n"
     ]
    },
    {
     "name": "stderr",
     "output_type": "stream",
     "text": [
      "Training (8967 / 18000 Steps) (loss=0.47008): 100%|██████████| 76/76 [02:27<00:00,  1.94s/it]\n",
      "Validate (8968 / 10 Steps): 100%|██████████| 22/22 [01:15<00:00,  3.42s/it]<00:38,  1.14it/s]\n",
      "Training (9000 / 18000 Steps) (loss=0.42205):  43%|████▎     | 33/76 [01:48<16:52, 23.54s/it]"
     ]
    },
    {
     "name": "stdout",
     "output_type": "stream",
     "text": [
      "Model Was Not Saved ! Current Best Avg. Dice: 0.43235084414482117 Current Avg. Dice: 0.42915523052215576 Current Avg. tumor Dice: 0.3879641592502594 Current Avg. lymph Dice: 0.4877625107765198\n"
     ]
    },
    {
     "name": "stderr",
     "output_type": "stream",
     "text": [
      "Training (9043 / 18000 Steps) (loss=0.58984): 100%|██████████| 76/76 [02:26<00:00,  1.92s/it]\n",
      "Validate (9044 / 10 Steps): 100%|██████████| 22/22 [01:15<00:00,  3.43s/it]<00:18,  1.10it/s]\n",
      "Training (9100 / 18000 Steps) (loss=0.55745):  75%|███████▌  | 57/76 [02:12<07:27, 23.57s/it]"
     ]
    },
    {
     "name": "stdout",
     "output_type": "stream",
     "text": [
      "Model Was Not Saved ! Current Best Avg. Dice: 0.43235084414482117 Current Avg. Dice: 0.4177979528903961 Current Avg. tumor Dice: 0.37470221519470215 Current Avg. lymph Dice: 0.4868968427181244\n"
     ]
    },
    {
     "name": "stderr",
     "output_type": "stream",
     "text": [
      "Training (9119 / 18000 Steps) (loss=0.66953): 100%|██████████| 76/76 [02:29<00:00,  1.96s/it]\n",
      "Training (9195 / 18000 Steps) (loss=0.56822): 100%|██████████| 76/76 [01:08<00:00,  1.12it/s]\n",
      "Validate (9196 / 10 Steps): 100%|██████████| 22/22 [01:15<00:00,  3.42s/it]01:33,  1.29s/it]\n",
      "Training (9200 / 18000 Steps) (loss=0.61509):   7%|▋         | 5/76 [01:22<33:29, 28.31s/it]"
     ]
    },
    {
     "name": "stdout",
     "output_type": "stream",
     "text": [
      "Model Was Not Saved ! Current Best Avg. Dice: 0.43235084414482117 Current Avg. Dice: 0.41718152165412903 Current Avg. tumor Dice: 0.3938198685646057 Current Avg. lymph Dice: 0.45415055751800537\n"
     ]
    },
    {
     "name": "stderr",
     "output_type": "stream",
     "text": [
      "Training (9271 / 18000 Steps) (loss=0.65090): 100%|██████████| 76/76 [02:22<00:00,  1.88s/it]\n",
      "Validate (9272 / 10 Steps): 100%|██████████| 22/22 [01:15<00:00,  3.44s/it]<00:39,  1.22it/s]\n",
      "Training (9300 / 18000 Steps) (loss=0.70005):  38%|███▊      | 29/76 [01:43<18:29, 23.61s/it]"
     ]
    },
    {
     "name": "stdout",
     "output_type": "stream",
     "text": [
      "Model Was Not Saved ! Current Best Avg. Dice: 0.43235084414482117 Current Avg. Dice: 0.4189161956310272 Current Avg. tumor Dice: 0.39666521549224854 Current Avg. lymph Dice: 0.4601195156574249\n"
     ]
    },
    {
     "name": "stderr",
     "output_type": "stream",
     "text": [
      "Training (9347 / 18000 Steps) (loss=0.57610): 100%|██████████| 76/76 [02:22<00:00,  1.87s/it]\n",
      "Validate (9348 / 10 Steps): 100%|██████████| 22/22 [01:14<00:00,  3.40s/it]<00:20,  1.15it/s]\n",
      "Training (9400 / 18000 Steps) (loss=0.64233):  70%|██████▉   | 53/76 [02:03<08:56, 23.35s/it]"
     ]
    },
    {
     "name": "stdout",
     "output_type": "stream",
     "text": [
      "Model Was Not Saved ! Current Best Avg. Dice: 0.43235084414482117 Current Avg. Dice: 0.4212724566459656 Current Avg. tumor Dice: 0.3878672420978546 Current Avg. lymph Dice: 0.4687803089618683\n"
     ]
    },
    {
     "name": "stderr",
     "output_type": "stream",
     "text": [
      "Training (9423 / 18000 Steps) (loss=0.66748): 100%|██████████| 76/76 [02:21<00:00,  1.87s/it]\n",
      "Training (9499 / 18000 Steps) (loss=0.39847): 100%|██████████| 76/76 [01:07<00:00,  1.13it/s]\n",
      "Validate (9500 / 10 Steps): 100%|██████████| 22/22 [01:15<00:00,  3.43s/it]?, ?it/s]\n",
      "Training (9500 / 18000 Steps) (loss=0.40898):   1%|▏         | 1/76 [01:19<1:39:30, 79.61s/it]"
     ]
    },
    {
     "name": "stdout",
     "output_type": "stream",
     "text": [
      "Model Was Not Saved ! Current Best Avg. Dice: 0.43235084414482117 Current Avg. Dice: 0.39826324582099915 Current Avg. tumor Dice: 0.3796543478965759 Current Avg. lymph Dice: 0.434903621673584\n"
     ]
    },
    {
     "name": "stderr",
     "output_type": "stream",
     "text": [
      "Training (9575 / 18000 Steps) (loss=0.49171): 100%|██████████| 76/76 [02:24<00:00,  1.91s/it] \n",
      "Validate (9576 / 10 Steps): 100%|██████████| 22/22 [01:15<00:00,  3.44s/it]<00:45,  1.15it/s]\n",
      "Training (9600 / 18000 Steps) (loss=0.57263):  33%|███▎      | 25/76 [01:40<20:04, 23.62s/it]"
     ]
    },
    {
     "name": "stdout",
     "output_type": "stream",
     "text": [
      "Model Was Not Saved ! Current Best Avg. Dice: 0.43235084414482117 Current Avg. Dice: 0.4216460883617401 Current Avg. tumor Dice: 0.3912673592567444 Current Avg. lymph Dice: 0.4693495035171509\n"
     ]
    },
    {
     "name": "stderr",
     "output_type": "stream",
     "text": [
      "Training (9651 / 18000 Steps) (loss=0.64969): 100%|██████████| 76/76 [02:22<00:00,  1.88s/it]\n",
      "Validate (9652 / 10 Steps): 100%|██████████| 22/22 [01:15<00:00,  3.42s/it]<00:25,  1.11it/s]\n",
      "Training (9700 / 18000 Steps) (loss=0.37293):  64%|██████▍   | 49/76 [02:02<10:34, 23.49s/it]"
     ]
    },
    {
     "name": "stdout",
     "output_type": "stream",
     "text": [
      "Model Was Not Saved ! Current Best Avg. Dice: 0.43235084414482117 Current Avg. Dice: 0.41416624188423157 Current Avg. tumor Dice: 0.3913431763648987 Current Avg. lymph Dice: 0.4550526440143585\n"
     ]
    },
    {
     "name": "stderr",
     "output_type": "stream",
     "text": [
      "Training (9727 / 18000 Steps) (loss=0.45982): 100%|██████████| 76/76 [02:25<00:00,  1.91s/it]\n",
      "Validate (9728 / 10 Steps): 100%|██████████| 22/22 [01:15<00:00,  3.43s/it]<00:03,  1.33it/s]\n",
      "Training (9800 / 18000 Steps) (loss=0.60236):  96%|█████████▌| 73/76 [02:20<01:10, 23.42s/it]"
     ]
    },
    {
     "name": "stdout",
     "output_type": "stream",
     "text": [
      "Model Was Not Saved ! Current Best Avg. Dice: 0.43235084414482117 Current Avg. Dice: 0.41898900270462036 Current Avg. tumor Dice: 0.396392285823822 Current Avg. lymph Dice: 0.4576021432876587\n"
     ]
    },
    {
     "name": "stderr",
     "output_type": "stream",
     "text": [
      "Training (9803 / 18000 Steps) (loss=0.59678): 100%|██████████| 76/76 [02:23<00:00,  1.89s/it]\n",
      "Training (9879 / 18000 Steps) (loss=0.34115): 100%|██████████| 76/76 [01:10<00:00,  1.08it/s]\n",
      "Validate (9880 / 10 Steps): 100%|██████████| 22/22 [01:15<00:00,  3.43s/it]<00:47,  1.17it/s]\n",
      "Training (9900 / 18000 Steps) (loss=0.53204):  28%|██▊       | 21/76 [01:37<21:33, 23.52s/it]"
     ]
    },
    {
     "name": "stdout",
     "output_type": "stream",
     "text": [
      "Model Was Not Saved ! Current Best Avg. Dice: 0.43235084414482117 Current Avg. Dice: 0.4289579391479492 Current Avg. tumor Dice: 0.4080509543418884 Current Avg. lymph Dice: 0.46416807174682617\n"
     ]
    },
    {
     "name": "stderr",
     "output_type": "stream",
     "text": [
      "Training (9955 / 18000 Steps) (loss=0.53820): 100%|██████████| 76/76 [02:24<00:00,  1.90s/it]\n",
      "Validate (9956 / 10 Steps): 100%|██████████| 22/22 [01:15<00:00,  3.43s/it]2<00:26,  1.20it/s]\n",
      "Training (10000 / 18000 Steps) (loss=0.55893):  59%|█████▉    | 45/76 [01:58<12:08, 23.50s/it]"
     ]
    },
    {
     "name": "stdout",
     "output_type": "stream",
     "text": [
      "Model Was Not Saved ! Current Best Avg. Dice: 0.43235084414482117 Current Avg. Dice: 0.4073951840400696 Current Avg. tumor Dice: 0.36785948276519775 Current Avg. lymph Dice: 0.4738479256629944\n"
     ]
    },
    {
     "name": "stderr",
     "output_type": "stream",
     "text": [
      "Training (10031 / 18000 Steps) (loss=0.49661): 100%|██████████| 76/76 [02:23<00:00,  1.89s/it]\n",
      "Validate (10032 / 10 Steps): 100%|██████████| 22/22 [01:15<00:00,  3.45s/it]<00:06,  1.19it/s]\n",
      "Training (10100 / 18000 Steps) (loss=0.66929):  91%|█████████ | 69/76 [02:20<02:45, 23.59s/it]"
     ]
    },
    {
     "name": "stdout",
     "output_type": "stream",
     "text": [
      "Model Was Not Saved ! Current Best Avg. Dice: 0.43235084414482117 Current Avg. Dice: 0.4273994565010071 Current Avg. tumor Dice: 0.39315691590309143 Current Avg. lymph Dice: 0.4756663143634796\n"
     ]
    },
    {
     "name": "stderr",
     "output_type": "stream",
     "text": [
      "Training (10107 / 18000 Steps) (loss=0.55554): 100%|██████████| 76/76 [02:25<00:00,  1.92s/it]\n",
      "Training (10183 / 18000 Steps) (loss=0.62081): 100%|██████████| 76/76 [01:09<00:00,  1.10it/s]\n",
      "Validate (10184 / 10 Steps): 100%|██████████| 22/22 [01:15<00:00,  3.44s/it]<00:53,  1.11it/s]\n",
      "Training (10200 / 18000 Steps) (loss=0.45857):  22%|██▏       | 17/76 [01:34<23:16, 23.66s/it]"
     ]
    },
    {
     "name": "stdout",
     "output_type": "stream",
     "text": [
      "Model Was Not Saved ! Current Best Avg. Dice: 0.43235084414482117 Current Avg. Dice: 0.3944063186645508 Current Avg. tumor Dice: 0.3510459065437317 Current Avg. lymph Dice: 0.4633719027042389\n"
     ]
    },
    {
     "name": "stderr",
     "output_type": "stream",
     "text": [
      "Training (10259 / 18000 Steps) (loss=0.56351): 100%|██████████| 76/76 [02:25<00:00,  1.91s/it]\n",
      "Validate (10260 / 10 Steps): 100%|██████████| 22/22 [01:15<00:00,  3.42s/it]<00:30,  1.18it/s]\n",
      "Training (10300 / 18000 Steps) (loss=0.42526):  54%|█████▍    | 41/76 [01:55<13:40, 23.45s/it]"
     ]
    },
    {
     "name": "stdout",
     "output_type": "stream",
     "text": [
      "Model Was Not Saved ! Current Best Avg. Dice: 0.43235084414482117 Current Avg. Dice: 0.40961533784866333 Current Avg. tumor Dice: 0.37026646733283997 Current Avg. lymph Dice: 0.4667108356952667\n"
     ]
    },
    {
     "name": "stderr",
     "output_type": "stream",
     "text": [
      "Training (10335 / 18000 Steps) (loss=0.58494): 100%|██████████| 76/76 [02:24<00:00,  1.90s/it]\n",
      "Validate (10336 / 10 Steps): 100%|██████████| 22/22 [01:15<00:00,  3.43s/it]<00:09,  1.23it/s]\n",
      "Training (10400 / 18000 Steps) (loss=0.51539):  86%|████████▌ | 65/76 [02:15<04:17, 23.41s/it]"
     ]
    },
    {
     "name": "stdout",
     "output_type": "stream",
     "text": [
      "Model Was Not Saved ! Current Best Avg. Dice: 0.43235084414482117 Current Avg. Dice: 0.41086629033088684 Current Avg. tumor Dice: 0.3695293664932251 Current Avg. lymph Dice: 0.47723087668418884\n"
     ]
    },
    {
     "name": "stderr",
     "output_type": "stream",
     "text": [
      "Training (10411 / 18000 Steps) (loss=0.59486): 100%|██████████| 76/76 [02:24<00:00,  1.90s/it]\n",
      "Training (10487 / 18000 Steps) (loss=0.65461): 100%|██████████| 76/76 [01:08<00:00,  1.10it/s]\n",
      "Validate (10488 / 10 Steps): 100%|██████████| 22/22 [01:15<00:00,  3.42s/it]<01:00,  1.07it/s]\n",
      "Training (10500 / 18000 Steps) (loss=0.66870):  17%|█▋        | 13/76 [01:30<24:52, 23.69s/it]"
     ]
    },
    {
     "name": "stdout",
     "output_type": "stream",
     "text": [
      "Model Was Not Saved ! Current Best Avg. Dice: 0.43235084414482117 Current Avg. Dice: 0.41951850056648254 Current Avg. tumor Dice: 0.40533334016799927 Current Avg. lymph Dice: 0.44974851608276367\n"
     ]
    },
    {
     "name": "stderr",
     "output_type": "stream",
     "text": [
      "Training (10563 / 18000 Steps) (loss=0.47430): 100%|██████████| 76/76 [02:25<00:00,  1.91s/it]\n",
      "Validate (10564 / 10 Steps): 100%|██████████| 22/22 [01:15<00:00,  3.43s/it]<00:40,  1.01s/it]\n",
      "Training (10600 / 18000 Steps) (loss=0.26478):  49%|████▊     | 37/76 [01:51<15:19, 23.59s/it]"
     ]
    },
    {
     "name": "stdout",
     "output_type": "stream",
     "text": [
      "Model Was Not Saved ! Current Best Avg. Dice: 0.43235084414482117 Current Avg. Dice: 0.40587350726127625 Current Avg. tumor Dice: 0.37486252188682556 Current Avg. lymph Dice: 0.4620128273963928\n"
     ]
    },
    {
     "name": "stderr",
     "output_type": "stream",
     "text": [
      "Training (10639 / 18000 Steps) (loss=0.56350): 100%|██████████| 76/76 [02:24<00:00,  1.90s/it]\n",
      "Validate (10640 / 10 Steps): 100%|██████████| 22/22 [01:15<00:00,  3.41s/it]<00:14,  1.12it/s]\n",
      "Training (10700 / 18000 Steps) (loss=0.57715):  80%|████████  | 61/76 [02:13<05:51, 23.41s/it]"
     ]
    },
    {
     "name": "stdout",
     "output_type": "stream",
     "text": [
      "Model Was Not Saved ! Current Best Avg. Dice: 0.43235084414482117 Current Avg. Dice: 0.4093903601169586 Current Avg. tumor Dice: 0.37471041083335876 Current Avg. lymph Dice: 0.46376004815101624\n"
     ]
    },
    {
     "name": "stderr",
     "output_type": "stream",
     "text": [
      "Training (10715 / 18000 Steps) (loss=0.57207): 100%|██████████| 76/76 [02:25<00:00,  1.91s/it]\n",
      "Training (10791 / 18000 Steps) (loss=0.42935): 100%|██████████| 76/76 [01:09<00:00,  1.09it/s]\n",
      "Validate (10792 / 10 Steps): 100%|██████████| 22/22 [01:15<00:00,  3.43s/it]01:07,  1.00it/s]\n",
      "Training (10800 / 18000 Steps) (loss=0.48259):  12%|█▏        | 9/76 [01:27<27:28, 24.61s/it]"
     ]
    },
    {
     "name": "stdout",
     "output_type": "stream",
     "text": [
      "Model Was Not Saved ! Current Best Avg. Dice: 0.43235084414482117 Current Avg. Dice: 0.4059958755970001 Current Avg. tumor Dice: 0.3804929554462433 Current Avg. lymph Dice: 0.4528109133243561\n"
     ]
    },
    {
     "name": "stderr",
     "output_type": "stream",
     "text": [
      "Training (10867 / 18000 Steps) (loss=0.48394): 100%|██████████| 76/76 [02:24<00:00,  1.90s/it]\n",
      "Validate (10868 / 10 Steps): 100%|██████████| 22/22 [01:15<00:00,  3.45s/it]<00:38,  1.13it/s]\n",
      "Training (10900 / 18000 Steps) (loss=0.63090):  43%|████▎     | 33/76 [01:47<16:56, 23.65s/it]"
     ]
    },
    {
     "name": "stdout",
     "output_type": "stream",
     "text": [
      "Model Was Not Saved ! Current Best Avg. Dice: 0.43235084414482117 Current Avg. Dice: 0.4276737868785858 Current Avg. tumor Dice: 0.390715092420578 Current Avg. lymph Dice: 0.4820903539657593\n"
     ]
    },
    {
     "name": "stderr",
     "output_type": "stream",
     "text": [
      "Training (10943 / 18000 Steps) (loss=0.58873): 100%|██████████| 76/76 [02:23<00:00,  1.89s/it]\n",
      "Validate (10944 / 10 Steps): 100%|██████████| 22/22 [01:15<00:00,  3.44s/it]<00:17,  1.16it/s]\n",
      "Training (11000 / 18000 Steps) (loss=0.40826):  75%|███████▌  | 57/76 [02:07<07:28, 23.62s/it]"
     ]
    },
    {
     "name": "stdout",
     "output_type": "stream",
     "text": [
      "Model Was Not Saved ! Current Best Avg. Dice: 0.43235084414482117 Current Avg. Dice: 0.41574981808662415 Current Avg. tumor Dice: 0.37832364439964294 Current Avg. lymph Dice: 0.47803831100463867\n"
     ]
    },
    {
     "name": "stderr",
     "output_type": "stream",
     "text": [
      "Training (11019 / 18000 Steps) (loss=0.57817): 100%|██████████| 76/76 [02:23<00:00,  1.88s/it]\n",
      "Training (11095 / 18000 Steps) (loss=0.45574): 100%|██████████| 76/76 [01:09<00:00,  1.09it/s]\n",
      "Validate (11096 / 10 Steps): 100%|██████████| 22/22 [01:15<00:00,  3.42s/it]01:45,  1.46s/it]\n",
      "Training (11100 / 18000 Steps) (loss=0.66839):   7%|▋         | 5/76 [01:23<33:31, 28.33s/it]"
     ]
    },
    {
     "name": "stdout",
     "output_type": "stream",
     "text": [
      "Model Was Not Saved ! Current Best Avg. Dice: 0.43235084414482117 Current Avg. Dice: 0.4069676101207733 Current Avg. tumor Dice: 0.3670296370983124 Current Avg. lymph Dice: 0.4683341979980469\n"
     ]
    },
    {
     "name": "stderr",
     "output_type": "stream",
     "text": [
      "Training (11171 / 18000 Steps) (loss=0.69118): 100%|██████████| 76/76 [02:23<00:00,  1.89s/it]\n",
      "Validate (11172 / 10 Steps): 100%|██████████| 22/22 [01:15<00:00,  3.44s/it]<00:39,  1.22it/s]\n",
      "Training (11200 / 18000 Steps) (loss=0.64781):  38%|███▊      | 29/76 [01:43<18:28, 23.60s/it]"
     ]
    },
    {
     "name": "stdout",
     "output_type": "stream",
     "text": [
      "Model Was Not Saved ! Current Best Avg. Dice: 0.43235084414482117 Current Avg. Dice: 0.4164848029613495 Current Avg. tumor Dice: 0.38068705797195435 Current Avg. lymph Dice: 0.4754122197628021\n"
     ]
    },
    {
     "name": "stderr",
     "output_type": "stream",
     "text": [
      "Training (11247 / 18000 Steps) (loss=0.51948): 100%|██████████| 76/76 [02:23<00:00,  1.89s/it]\n",
      "Validate (11248 / 10 Steps): 100%|██████████| 22/22 [01:15<00:00,  3.41s/it]<00:21,  1.10it/s]\n",
      "Training (11300 / 18000 Steps) (loss=0.37120):  70%|██████▉   | 53/76 [02:04<08:59, 23.44s/it]"
     ]
    },
    {
     "name": "stdout",
     "output_type": "stream",
     "text": [
      "Model Was Not Saved ! Current Best Avg. Dice: 0.43235084414482117 Current Avg. Dice: 0.4164395034313202 Current Avg. tumor Dice: 0.3777685761451721 Current Avg. lymph Dice: 0.4817684590816498\n"
     ]
    },
    {
     "name": "stderr",
     "output_type": "stream",
     "text": [
      "Training (11323 / 18000 Steps) (loss=0.36617): 100%|██████████| 76/76 [02:22<00:00,  1.88s/it]\n",
      "Training (11399 / 18000 Steps) (loss=0.55243): 100%|██████████| 76/76 [01:09<00:00,  1.10it/s]\n",
      "Validate (11400 / 10 Steps): 100%|██████████| 22/22 [01:15<00:00,  3.42s/it]?, ?it/s]\n",
      "Training (11400 / 18000 Steps) (loss=0.35197):   1%|▏         | 1/76 [01:19<1:38:59, 79.19s/it]"
     ]
    },
    {
     "name": "stdout",
     "output_type": "stream",
     "text": [
      "Model Was Not Saved ! Current Best Avg. Dice: 0.43235084414482117 Current Avg. Dice: 0.41292503476142883 Current Avg. tumor Dice: 0.360759973526001 Current Avg. lymph Dice: 0.49125099182128906\n"
     ]
    },
    {
     "name": "stderr",
     "output_type": "stream",
     "text": [
      "Training (11475 / 18000 Steps) (loss=0.67019): 100%|██████████| 76/76 [02:23<00:00,  1.88s/it] \n",
      "Validate (11476 / 10 Steps): 100%|██████████| 22/22 [01:15<00:00,  3.45s/it]<00:48,  1.08it/s]\n",
      "Training (11500 / 18000 Steps) (loss=0.52802):  33%|███▎      | 25/76 [01:43<20:11, 23.75s/it]"
     ]
    },
    {
     "name": "stdout",
     "output_type": "stream",
     "text": [
      "Model Was Not Saved ! Current Best Avg. Dice: 0.43235084414482117 Current Avg. Dice: 0.42726266384124756 Current Avg. tumor Dice: 0.391569584608078 Current Avg. lymph Dice: 0.48336008191108704\n"
     ]
    },
    {
     "name": "stderr",
     "output_type": "stream",
     "text": [
      "Training (11551 / 18000 Steps) (loss=0.53200): 100%|██████████| 76/76 [02:31<00:00,  1.99s/it]\n",
      "Validate (11552 / 10 Steps): 100%|██████████| 22/22 [01:15<00:00,  3.43s/it]<00:26,  1.04it/s]\n",
      "Training (11600 / 18000 Steps) (loss=0.41532):  64%|██████▍   | 49/76 [02:06<10:37, 23.61s/it]"
     ]
    },
    {
     "name": "stdout",
     "output_type": "stream",
     "text": [
      "Model Was Not Saved ! Current Best Avg. Dice: 0.43235084414482117 Current Avg. Dice: 0.4285792112350464 Current Avg. tumor Dice: 0.3966372311115265 Current Avg. lymph Dice: 0.4755246341228485\n"
     ]
    },
    {
     "name": "stderr",
     "output_type": "stream",
     "text": [
      "Training (11627 / 18000 Steps) (loss=0.42364): 100%|██████████| 76/76 [02:29<00:00,  1.97s/it]\n",
      "Validate (11628 / 10 Steps): 100%|██████████| 22/22 [01:15<00:00,  3.45s/it]<00:03,  1.22it/s]\n",
      "Training (11700 / 18000 Steps) (loss=0.51233):  96%|█████████▌| 73/76 [02:25<01:10, 23.58s/it]"
     ]
    },
    {
     "name": "stdout",
     "output_type": "stream",
     "text": [
      "Model Was Not Saved ! Current Best Avg. Dice: 0.43235084414482117 Current Avg. Dice: 0.42206236720085144 Current Avg. tumor Dice: 0.3809194266796112 Current Avg. lymph Dice: 0.4872779846191406\n"
     ]
    },
    {
     "name": "stderr",
     "output_type": "stream",
     "text": [
      "Training (11703 / 18000 Steps) (loss=0.59821): 100%|██████████| 76/76 [02:28<00:00,  1.95s/it]\n",
      "Training (11779 / 18000 Steps) (loss=0.37752): 100%|██████████| 76/76 [01:05<00:00,  1.15it/s]\n",
      "Validate (11780 / 10 Steps): 100%|██████████| 22/22 [01:15<00:00,  3.44s/it]<00:48,  1.15it/s]\n",
      "Training (11800 / 18000 Steps) (loss=0.66896):  28%|██▊       | 21/76 [01:37<21:36, 23.58s/it]"
     ]
    },
    {
     "name": "stdout",
     "output_type": "stream",
     "text": [
      "Model Was Not Saved ! Current Best Avg. Dice: 0.43235084414482117 Current Avg. Dice: 0.40419256687164307 Current Avg. tumor Dice: 0.3675825595855713 Current Avg. lymph Dice: 0.4724394977092743\n"
     ]
    },
    {
     "name": "stderr",
     "output_type": "stream",
     "text": [
      "Training (11855 / 18000 Steps) (loss=0.43883): 100%|██████████| 76/76 [02:23<00:00,  1.88s/it]\n",
      "Validate (11856 / 10 Steps): 100%|██████████| 22/22 [01:15<00:00,  3.43s/it]<00:28,  1.10it/s]\n",
      "Training (11900 / 18000 Steps) (loss=0.42608):  59%|█████▉    | 45/76 [01:57<12:10, 23.57s/it]"
     ]
    },
    {
     "name": "stdout",
     "output_type": "stream",
     "text": [
      "Model Was Not Saved ! Current Best Avg. Dice: 0.43235084414482117 Current Avg. Dice: 0.4204340875148773 Current Avg. tumor Dice: 0.3883178234100342 Current Avg. lymph Dice: 0.4709583818912506\n"
     ]
    },
    {
     "name": "stderr",
     "output_type": "stream",
     "text": [
      "Training (11931 / 18000 Steps) (loss=0.48320): 100%|██████████| 76/76 [02:22<00:00,  1.88s/it]\n",
      "Validate (11932 / 10 Steps): 100%|██████████| 22/22 [01:15<00:00,  3.41s/it]<00:06,  1.32it/s]\n",
      "Training (12000 / 18000 Steps) (loss=0.50134):  91%|█████████ | 69/76 [02:18<02:43, 23.31s/it]"
     ]
    },
    {
     "name": "stdout",
     "output_type": "stream",
     "text": [
      "Model Was Not Saved ! Current Best Avg. Dice: 0.43235084414482117 Current Avg. Dice: 0.4217607378959656 Current Avg. tumor Dice: 0.38908466696739197 Current Avg. lymph Dice: 0.4708963930606842\n"
     ]
    },
    {
     "name": "stderr",
     "output_type": "stream",
     "text": [
      "Training (12007 / 18000 Steps) (loss=0.66747): 100%|██████████| 76/76 [02:23<00:00,  1.89s/it]\n",
      "Training (12083 / 18000 Steps) (loss=0.67105): 100%|██████████| 76/76 [01:06<00:00,  1.15it/s]\n",
      "Validate (12084 / 10 Steps): 100%|██████████| 22/22 [01:15<00:00,  3.43s/it]<00:50,  1.19it/s]\n",
      "Training (12100 / 18000 Steps) (loss=0.72946):  22%|██▏       | 17/76 [01:33<23:09, 23.55s/it]"
     ]
    },
    {
     "name": "stdout",
     "output_type": "stream",
     "text": [
      "Model Was Not Saved ! Current Best Avg. Dice: 0.43235084414482117 Current Avg. Dice: 0.4153974652290344 Current Avg. tumor Dice: 0.3726820647716522 Current Avg. lymph Dice: 0.47595861554145813\n"
     ]
    },
    {
     "name": "stderr",
     "output_type": "stream",
     "text": [
      "Training (12159 / 18000 Steps) (loss=0.43801): 100%|██████████| 76/76 [02:24<00:00,  1.90s/it]\n",
      "Validate (12160 / 10 Steps): 100%|██████████| 22/22 [01:15<00:00,  3.44s/it]<00:31,  1.15it/s]\n",
      "Training (12200 / 18000 Steps) (loss=0.37326):  54%|█████▍    | 41/76 [01:55<13:44, 23.56s/it]"
     ]
    },
    {
     "name": "stdout",
     "output_type": "stream",
     "text": [
      "Model Was Not Saved ! Current Best Avg. Dice: 0.43235084414482117 Current Avg. Dice: 0.4235767126083374 Current Avg. tumor Dice: 0.39702528715133667 Current Avg. lymph Dice: 0.4607047438621521\n"
     ]
    },
    {
     "name": "stderr",
     "output_type": "stream",
     "text": [
      "Training (12235 / 18000 Steps) (loss=0.46781): 100%|██████████| 76/76 [02:25<00:00,  1.91s/it]\n",
      "Validate (12236 / 10 Steps): 100%|██████████| 22/22 [01:15<00:00,  3.43s/it]<00:09,  1.26it/s]\n",
      "Training (12300 / 18000 Steps) (loss=0.48775):  86%|████████▌ | 65/76 [02:14<04:17, 23.45s/it]"
     ]
    },
    {
     "name": "stdout",
     "output_type": "stream",
     "text": [
      "Model Was Not Saved ! Current Best Avg. Dice: 0.43235084414482117 Current Avg. Dice: 0.412389874458313 Current Avg. tumor Dice: 0.3705718517303467 Current Avg. lymph Dice: 0.4761914610862732\n"
     ]
    },
    {
     "name": "stderr",
     "output_type": "stream",
     "text": [
      "Training (12311 / 18000 Steps) (loss=0.46206): 100%|██████████| 76/76 [02:22<00:00,  1.88s/it]\n",
      "Training (12387 / 18000 Steps) (loss=0.52084): 100%|██████████| 76/76 [01:09<00:00,  1.10it/s]\n",
      "Validate (12388 / 10 Steps): 100%|██████████| 22/22 [01:15<00:00,  3.45s/it]<01:00,  1.06it/s]\n",
      "Training (12400 / 18000 Steps) (loss=0.53116):  17%|█▋        | 13/76 [01:31<25:23, 24.18s/it]"
     ]
    },
    {
     "name": "stdout",
     "output_type": "stream",
     "text": [
      "Model Was Saved ! Current Best Avg. Dice: 0.43329665064811707 Current Avg. Dice: 0.43329665064811707 Current Avg. tumor Dice: 0.3889680504798889 Current Avg. lymph Dice: 0.4887548089027405\n"
     ]
    },
    {
     "name": "stderr",
     "output_type": "stream",
     "text": [
      "Training (12463 / 18000 Steps) (loss=0.59341): 100%|██████████| 76/76 [02:25<00:00,  1.91s/it]\n",
      "Validate (12464 / 10 Steps): 100%|██████████| 22/22 [01:15<00:00,  3.44s/it]<00:35,  1.14it/s]\n",
      "Training (12500 / 18000 Steps) (loss=0.62732):  49%|████▊     | 37/76 [01:51<15:19, 23.58s/it]"
     ]
    },
    {
     "name": "stdout",
     "output_type": "stream",
     "text": [
      "Model Was Not Saved ! Current Best Avg. Dice: 0.43329665064811707 Current Avg. Dice: 0.4154629409313202 Current Avg. tumor Dice: 0.3785043954849243 Current Avg. lymph Dice: 0.4712449610233307\n"
     ]
    },
    {
     "name": "stderr",
     "output_type": "stream",
     "text": [
      "Training (12539 / 18000 Steps) (loss=0.51029): 100%|██████████| 76/76 [02:24<00:00,  1.90s/it]\n",
      "Validate (12540 / 10 Steps): 100%|██████████| 22/22 [01:15<00:00,  3.43s/it]<00:14,  1.14it/s]\n",
      "Training (12600 / 18000 Steps) (loss=0.66416):  80%|████████  | 61/76 [02:11<05:52, 23.52s/it]"
     ]
    },
    {
     "name": "stdout",
     "output_type": "stream",
     "text": [
      "Model Was Not Saved ! Current Best Avg. Dice: 0.43329665064811707 Current Avg. Dice: 0.40694722533226013 Current Avg. tumor Dice: 0.3689262270927429 Current Avg. lymph Dice: 0.47620466351509094\n"
     ]
    },
    {
     "name": "stderr",
     "output_type": "stream",
     "text": [
      "Training (12615 / 18000 Steps) (loss=0.49948): 100%|██████████| 76/76 [02:23<00:00,  1.89s/it]\n",
      "Training (12691 / 18000 Steps) (loss=0.44279): 100%|██████████| 76/76 [01:07<00:00,  1.13it/s]\n",
      "Validate (12692 / 10 Steps): 100%|██████████| 22/22 [01:15<00:00,  3.42s/it]01:01,  1.11it/s]\n",
      "Training (12700 / 18000 Steps) (loss=0.60935):  12%|█▏        | 9/76 [01:25<27:12, 24.37s/it]"
     ]
    },
    {
     "name": "stdout",
     "output_type": "stream",
     "text": [
      "Model Was Not Saved ! Current Best Avg. Dice: 0.43329665064811707 Current Avg. Dice: 0.41207459568977356 Current Avg. tumor Dice: 0.37769579887390137 Current Avg. lymph Dice: 0.47075018286705017\n"
     ]
    },
    {
     "name": "stderr",
     "output_type": "stream",
     "text": [
      "Training (12767 / 18000 Steps) (loss=0.47956): 100%|██████████| 76/76 [02:21<00:00,  1.86s/it]\n",
      "Validate (12768 / 10 Steps): 100%|██████████| 22/22 [01:15<00:00,  3.44s/it]<00:36,  1.22it/s]\n",
      "Training (12800 / 18000 Steps) (loss=0.27864):  43%|████▎     | 33/76 [01:47<16:51, 23.53s/it]"
     ]
    },
    {
     "name": "stdout",
     "output_type": "stream",
     "text": [
      "Model Was Not Saved ! Current Best Avg. Dice: 0.43329665064811707 Current Avg. Dice: 0.4188106656074524 Current Avg. tumor Dice: 0.37601712346076965 Current Avg. lymph Dice: 0.4864407777786255\n"
     ]
    },
    {
     "name": "stderr",
     "output_type": "stream",
     "text": [
      "Training (12843 / 18000 Steps) (loss=0.50356): 100%|██████████| 76/76 [02:24<00:00,  1.90s/it]\n",
      "Validate (12844 / 10 Steps): 100%|██████████| 22/22 [01:15<00:00,  3.42s/it]<00:17,  1.14it/s]\n",
      "Training (12900 / 18000 Steps) (loss=0.49135):  75%|███████▌  | 57/76 [02:09<07:26, 23.49s/it]"
     ]
    },
    {
     "name": "stdout",
     "output_type": "stream",
     "text": [
      "Model Was Not Saved ! Current Best Avg. Dice: 0.43329665064811707 Current Avg. Dice: 0.4273633658885956 Current Avg. tumor Dice: 0.37908220291137695 Current Avg. lymph Dice: 0.49569517374038696\n"
     ]
    },
    {
     "name": "stderr",
     "output_type": "stream",
     "text": [
      "Training (12919 / 18000 Steps) (loss=0.49610): 100%|██████████| 76/76 [02:25<00:00,  1.91s/it]\n",
      "Training (12995 / 18000 Steps) (loss=0.66714): 100%|██████████| 76/76 [01:07<00:00,  1.12it/s]\n",
      "Validate (12996 / 10 Steps): 100%|██████████| 22/22 [01:15<00:00,  3.42s/it]01:35,  1.32s/it]\n",
      "Training (13000 / 18000 Steps) (loss=0.47345):   7%|▋         | 5/76 [01:22<33:27, 28.27s/it]"
     ]
    },
    {
     "name": "stdout",
     "output_type": "stream",
     "text": [
      "Model Was Not Saved ! Current Best Avg. Dice: 0.43329665064811707 Current Avg. Dice: 0.4319179356098175 Current Avg. tumor Dice: 0.397713840007782 Current Avg. lymph Dice: 0.48375776410102844\n"
     ]
    },
    {
     "name": "stderr",
     "output_type": "stream",
     "text": [
      "Training (13071 / 18000 Steps) (loss=0.22158): 100%|██████████| 76/76 [02:23<00:00,  1.89s/it]\n",
      "Validate (13072 / 10 Steps): 100%|██████████| 22/22 [01:15<00:00,  3.41s/it]<00:41,  1.15it/s]\n",
      "Training (13100 / 18000 Steps) (loss=0.66614):  38%|███▊      | 29/76 [01:44<18:30, 23.63s/it]"
     ]
    },
    {
     "name": "stdout",
     "output_type": "stream",
     "text": [
      "Model Was Saved ! Current Best Avg. Dice: 0.4346141517162323 Current Avg. Dice: 0.4346141517162323 Current Avg. tumor Dice: 0.38865867257118225 Current Avg. lymph Dice: 0.49654674530029297\n"
     ]
    },
    {
     "name": "stderr",
     "output_type": "stream",
     "text": [
      "Training (13147 / 18000 Steps) (loss=0.46755): 100%|██████████| 76/76 [02:23<00:00,  1.88s/it]\n",
      "Validate (13148 / 10 Steps): 100%|██████████| 22/22 [01:15<00:00,  3.43s/it]<00:22,  1.08it/s]\n",
      "Training (13200 / 18000 Steps) (loss=0.52237):  70%|██████▉   | 53/76 [02:05<09:03, 23.61s/it]"
     ]
    },
    {
     "name": "stdout",
     "output_type": "stream",
     "text": [
      "Model Was Not Saved ! Current Best Avg. Dice: 0.4346141517162323 Current Avg. Dice: 0.4224604666233063 Current Avg. tumor Dice: 0.3786746859550476 Current Avg. lymph Dice: 0.48793575167655945\n"
     ]
    },
    {
     "name": "stderr",
     "output_type": "stream",
     "text": [
      "Training (13223 / 18000 Steps) (loss=0.42452): 100%|██████████| 76/76 [02:24<00:00,  1.90s/it]\n",
      "Training (13299 / 18000 Steps) (loss=0.67273): 100%|██████████| 76/76 [01:09<00:00,  1.09it/s]\n",
      "Validate (13300 / 10 Steps): 100%|██████████| 22/22 [01:15<00:00,  3.44s/it]?, ?it/s]\n",
      "Training (13300 / 18000 Steps) (loss=0.58765):   1%|▏         | 1/76 [01:19<1:39:38, 79.72s/it]"
     ]
    },
    {
     "name": "stdout",
     "output_type": "stream",
     "text": [
      "Model Was Not Saved ! Current Best Avg. Dice: 0.4346141517162323 Current Avg. Dice: 0.43112894892692566 Current Avg. tumor Dice: 0.3925037384033203 Current Avg. lymph Dice: 0.4862159490585327\n"
     ]
    },
    {
     "name": "stderr",
     "output_type": "stream",
     "text": [
      "Training (13375 / 18000 Steps) (loss=0.48141): 100%|██████████| 76/76 [02:24<00:00,  1.90s/it] \n",
      "Validate (13376 / 10 Steps): 100%|██████████| 22/22 [01:15<00:00,  3.42s/it]<00:46,  1.13it/s]\n",
      "Training (13400 / 18000 Steps) (loss=0.48457):  33%|███▎      | 25/76 [01:40<20:09, 23.72s/it]"
     ]
    },
    {
     "name": "stdout",
     "output_type": "stream",
     "text": [
      "Model Was Saved ! Current Best Avg. Dice: 0.437567800283432 Current Avg. Dice: 0.437567800283432 Current Avg. tumor Dice: 0.3984987735748291 Current Avg. lymph Dice: 0.49368205666542053\n"
     ]
    },
    {
     "name": "stderr",
     "output_type": "stream",
     "text": [
      "Training (13451 / 18000 Steps) (loss=0.49294): 100%|██████████| 76/76 [02:23<00:00,  1.89s/it]\n",
      "Validate (13452 / 10 Steps): 100%|██████████| 22/22 [01:15<00:00,  3.44s/it]<00:24,  1.13it/s]\n",
      "Training (13500 / 18000 Steps) (loss=0.36017):  64%|██████▍   | 49/76 [02:02<10:36, 23.58s/it]"
     ]
    },
    {
     "name": "stdout",
     "output_type": "stream",
     "text": [
      "Model Was Not Saved ! Current Best Avg. Dice: 0.437567800283432 Current Avg. Dice: 0.4350796937942505 Current Avg. tumor Dice: 0.400470107793808 Current Avg. lymph Dice: 0.4920060336589813\n"
     ]
    },
    {
     "name": "stderr",
     "output_type": "stream",
     "text": [
      "Training (13527 / 18000 Steps) (loss=0.33307): 100%|██████████| 76/76 [02:25<00:00,  1.91s/it]\n",
      "Validate (13528 / 10 Steps): 100%|██████████| 22/22 [01:15<00:00,  3.42s/it]<00:03,  1.25it/s]\n",
      "Training (13600 / 18000 Steps) (loss=0.40272):  96%|█████████▌| 73/76 [02:21<01:10, 23.38s/it]"
     ]
    },
    {
     "name": "stdout",
     "output_type": "stream",
     "text": [
      "Model Was Not Saved ! Current Best Avg. Dice: 0.437567800283432 Current Avg. Dice: 0.41756317019462585 Current Avg. tumor Dice: 0.386918842792511 Current Avg. lymph Dice: 0.46462902426719666\n"
     ]
    },
    {
     "name": "stderr",
     "output_type": "stream",
     "text": [
      "Training (13603 / 18000 Steps) (loss=0.40904): 100%|██████████| 76/76 [02:23<00:00,  1.89s/it]\n",
      "Training (13679 / 18000 Steps) (loss=0.61677): 100%|██████████| 76/76 [01:08<00:00,  1.11it/s]\n",
      "Validate (13680 / 10 Steps): 100%|██████████| 22/22 [01:15<00:00,  3.42s/it]<00:47,  1.17it/s]\n",
      "Training (13700 / 18000 Steps) (loss=0.51936):  28%|██▊       | 21/76 [01:36<21:31, 23.48s/it]"
     ]
    },
    {
     "name": "stdout",
     "output_type": "stream",
     "text": [
      "Model Was Not Saved ! Current Best Avg. Dice: 0.437567800283432 Current Avg. Dice: 0.4230598509311676 Current Avg. tumor Dice: 0.3844521939754486 Current Avg. lymph Dice: 0.4843382239341736\n"
     ]
    },
    {
     "name": "stderr",
     "output_type": "stream",
     "text": [
      "Training (13755 / 18000 Steps) (loss=0.50298): 100%|██████████| 76/76 [02:22<00:00,  1.87s/it]\n",
      "Validate (13756 / 10 Steps): 100%|██████████| 22/22 [01:15<00:00,  3.42s/it]<00:29,  1.09it/s]\n",
      "Training (13800 / 18000 Steps) (loss=0.59615):  59%|█████▉    | 45/76 [01:58<12:08, 23.49s/it]"
     ]
    },
    {
     "name": "stdout",
     "output_type": "stream",
     "text": [
      "Model Was Not Saved ! Current Best Avg. Dice: 0.437567800283432 Current Avg. Dice: 0.4174477756023407 Current Avg. tumor Dice: 0.380458265542984 Current Avg. lymph Dice: 0.4764446020126343\n"
     ]
    },
    {
     "name": "stderr",
     "output_type": "stream",
     "text": [
      "Training (13831 / 18000 Steps) (loss=0.47695): 100%|██████████| 76/76 [02:24<00:00,  1.90s/it]\n",
      "Validate (13832 / 10 Steps): 100%|██████████| 22/22 [01:15<00:00,  3.42s/it]<00:05,  1.36it/s]\n",
      "Training (13900 / 18000 Steps) (loss=0.34416):  91%|█████████ | 69/76 [02:18<02:43, 23.34s/it]"
     ]
    },
    {
     "name": "stdout",
     "output_type": "stream",
     "text": [
      "Model Was Not Saved ! Current Best Avg. Dice: 0.437567800283432 Current Avg. Dice: 0.4270200729370117 Current Avg. tumor Dice: 0.39184823632240295 Current Avg. lymph Dice: 0.48284733295440674\n"
     ]
    },
    {
     "name": "stderr",
     "output_type": "stream",
     "text": [
      "Training (13907 / 18000 Steps) (loss=0.59303): 100%|██████████| 76/76 [02:24<00:00,  1.90s/it]\n",
      "Training (13983 / 18000 Steps) (loss=0.44806): 100%|██████████| 76/76 [01:07<00:00,  1.13it/s]\n",
      "Validate (13984 / 10 Steps): 100%|██████████| 22/22 [01:15<00:00,  3.41s/it]<00:52,  1.14it/s]\n",
      "Training (14000 / 18000 Steps) (loss=0.58600):  22%|██▏       | 17/76 [01:32<23:03, 23.46s/it]"
     ]
    },
    {
     "name": "stdout",
     "output_type": "stream",
     "text": [
      "Model Was Not Saved ! Current Best Avg. Dice: 0.437567800283432 Current Avg. Dice: 0.41827869415283203 Current Avg. tumor Dice: 0.3741428852081299 Current Avg. lymph Dice: 0.48513704538345337\n"
     ]
    },
    {
     "name": "stderr",
     "output_type": "stream",
     "text": [
      "Training (14059 / 18000 Steps) (loss=0.54677): 100%|██████████| 76/76 [02:22<00:00,  1.87s/it]\n",
      "Validate (14060 / 10 Steps): 100%|██████████| 22/22 [01:15<00:00,  3.41s/it]<00:30,  1.20it/s]\n",
      "Training (14100 / 18000 Steps) (loss=0.28077):  54%|█████▍    | 41/76 [01:54<13:39, 23.41s/it]"
     ]
    },
    {
     "name": "stdout",
     "output_type": "stream",
     "text": [
      "Model Was Not Saved ! Current Best Avg. Dice: 0.437567800283432 Current Avg. Dice: 0.430044949054718 Current Avg. tumor Dice: 0.40170809626579285 Current Avg. lymph Dice: 0.47045695781707764\n"
     ]
    },
    {
     "name": "stderr",
     "output_type": "stream",
     "text": [
      "Training (14135 / 18000 Steps) (loss=0.34000): 100%|██████████| 76/76 [02:23<00:00,  1.89s/it]\n",
      "Validate (14136 / 10 Steps): 100%|██████████| 22/22 [01:15<00:00,  3.42s/it]<00:10,  1.20it/s]\n",
      "Training (14200 / 18000 Steps) (loss=0.56304):  86%|████████▌ | 65/76 [02:14<04:17, 23.38s/it]"
     ]
    },
    {
     "name": "stdout",
     "output_type": "stream",
     "text": [
      "Model Was Not Saved ! Current Best Avg. Dice: 0.437567800283432 Current Avg. Dice: 0.4174170196056366 Current Avg. tumor Dice: 0.3771608769893646 Current Avg. lymph Dice: 0.4748567044734955\n"
     ]
    },
    {
     "name": "stderr",
     "output_type": "stream",
     "text": [
      "Training (14211 / 18000 Steps) (loss=0.28583): 100%|██████████| 76/76 [02:22<00:00,  1.88s/it]\n",
      "Training (14287 / 18000 Steps) (loss=0.45944): 100%|██████████| 76/76 [01:08<00:00,  1.10it/s]\n",
      "Validate (14288 / 10 Steps): 100%|██████████| 22/22 [01:16<00:00,  3.46s/it]<00:55,  1.16it/s]\n",
      "Training (14300 / 18000 Steps) (loss=0.50531):  17%|█▋        | 13/76 [01:30<25:09, 23.97s/it]"
     ]
    },
    {
     "name": "stdout",
     "output_type": "stream",
     "text": [
      "Model Was Not Saved ! Current Best Avg. Dice: 0.437567800283432 Current Avg. Dice: 0.4211651086807251 Current Avg. tumor Dice: 0.38681358098983765 Current Avg. lymph Dice: 0.47778257727622986\n"
     ]
    },
    {
     "name": "stderr",
     "output_type": "stream",
     "text": [
      "Training (14363 / 18000 Steps) (loss=0.66690): 100%|██████████| 76/76 [02:22<00:00,  1.87s/it]\n",
      "Validate (14364 / 10 Steps): 100%|██████████| 22/22 [01:15<00:00,  3.41s/it]<00:32,  1.23it/s]\n",
      "Training (14400 / 18000 Steps) (loss=0.56214):  49%|████▊     | 37/76 [01:49<15:11, 23.37s/it]"
     ]
    },
    {
     "name": "stdout",
     "output_type": "stream",
     "text": [
      "Model Was Not Saved ! Current Best Avg. Dice: 0.437567800283432 Current Avg. Dice: 0.406391441822052 Current Avg. tumor Dice: 0.37135154008865356 Current Avg. lymph Dice: 0.46842682361602783\n"
     ]
    },
    {
     "name": "stderr",
     "output_type": "stream",
     "text": [
      "Training (14439 / 18000 Steps) (loss=0.33154): 100%|██████████| 76/76 [02:22<00:00,  1.87s/it]\n",
      "Validate (14440 / 10 Steps): 100%|██████████| 22/22 [01:15<00:00,  3.42s/it]<00:13,  1.20it/s]\n",
      "Training (14500 / 18000 Steps) (loss=0.50989):  80%|████████  | 61/76 [02:10<05:52, 23.47s/it]"
     ]
    },
    {
     "name": "stdout",
     "output_type": "stream",
     "text": [
      "Model Was Not Saved ! Current Best Avg. Dice: 0.437567800283432 Current Avg. Dice: 0.421843022108078 Current Avg. tumor Dice: 0.3888055384159088 Current Avg. lymph Dice: 0.47460365295410156\n"
     ]
    },
    {
     "name": "stderr",
     "output_type": "stream",
     "text": [
      "Training (14515 / 18000 Steps) (loss=0.48151): 100%|██████████| 76/76 [02:21<00:00,  1.87s/it]\n",
      "Training (14591 / 18000 Steps) (loss=0.39274): 100%|██████████| 76/76 [01:07<00:00,  1.13it/s]\n",
      "Validate (14592 / 10 Steps): 100%|██████████| 22/22 [01:15<00:00,  3.42s/it]01:04,  1.05it/s]\n",
      "Training (14600 / 18000 Steps) (loss=0.58873):  12%|█▏        | 9/76 [01:26<27:37, 24.74s/it]"
     ]
    },
    {
     "name": "stdout",
     "output_type": "stream",
     "text": [
      "Model Was Saved ! Current Best Avg. Dice: 0.44023868441581726 Current Avg. Dice: 0.44023868441581726 Current Avg. tumor Dice: 0.41089344024658203 Current Avg. lymph Dice: 0.4835776686668396\n"
     ]
    },
    {
     "name": "stderr",
     "output_type": "stream",
     "text": [
      "Training (14667 / 18000 Steps) (loss=0.20415): 100%|██████████| 76/76 [02:22<00:00,  1.88s/it]\n",
      "Validate (14668 / 10 Steps): 100%|██████████| 22/22 [01:16<00:00,  3.46s/it]<00:36,  1.20it/s]\n",
      "Training (14700 / 18000 Steps) (loss=0.67472):  43%|████▎     | 33/76 [01:47<16:56, 23.64s/it]"
     ]
    },
    {
     "name": "stdout",
     "output_type": "stream",
     "text": [
      "Model Was Not Saved ! Current Best Avg. Dice: 0.44023868441581726 Current Avg. Dice: 0.4170750379562378 Current Avg. tumor Dice: 0.3893411159515381 Current Avg. lymph Dice: 0.47130903601646423\n"
     ]
    },
    {
     "name": "stderr",
     "output_type": "stream",
     "text": [
      "Training (14743 / 18000 Steps) (loss=0.49700): 100%|██████████| 76/76 [02:22<00:00,  1.88s/it]\n",
      "Validate (14744 / 10 Steps): 100%|██████████| 22/22 [01:15<00:00,  3.44s/it]<00:17,  1.14it/s]\n",
      "Training (14800 / 18000 Steps) (loss=0.59749):  75%|███████▌  | 57/76 [02:08<07:28, 23.59s/it]"
     ]
    },
    {
     "name": "stdout",
     "output_type": "stream",
     "text": [
      "Model Was Not Saved ! Current Best Avg. Dice: 0.44023868441581726 Current Avg. Dice: 0.4157075881958008 Current Avg. tumor Dice: 0.38619524240493774 Current Avg. lymph Dice: 0.4658394455909729\n"
     ]
    },
    {
     "name": "stderr",
     "output_type": "stream",
     "text": [
      "Training (14819 / 18000 Steps) (loss=0.34084): 100%|██████████| 76/76 [02:23<00:00,  1.89s/it]\n",
      "Training (14895 / 18000 Steps) (loss=0.65935): 100%|██████████| 76/76 [01:07<00:00,  1.12it/s]\n",
      "Validate (14896 / 10 Steps): 100%|██████████| 22/22 [01:15<00:00,  3.43s/it]01:30,  1.25s/it]\n",
      "Training (14900 / 18000 Steps) (loss=0.48323):   7%|▋         | 5/76 [01:22<33:35, 28.39s/it]"
     ]
    },
    {
     "name": "stdout",
     "output_type": "stream",
     "text": [
      "Model Was Not Saved ! Current Best Avg. Dice: 0.44023868441581726 Current Avg. Dice: 0.42285481095314026 Current Avg. tumor Dice: 0.3836950659751892 Current Avg. lymph Dice: 0.48014503717422485\n"
     ]
    },
    {
     "name": "stderr",
     "output_type": "stream",
     "text": [
      "Training (14971 / 18000 Steps) (loss=0.42889): 100%|██████████| 76/76 [02:24<00:00,  1.90s/it]\n",
      "Validate (14972 / 10 Steps): 100%|██████████| 22/22 [01:15<00:00,  3.42s/it]<00:41,  1.16it/s]\n",
      "Training (15000 / 18000 Steps) (loss=0.38940):  38%|███▊      | 29/76 [01:44<18:21, 23.44s/it]"
     ]
    },
    {
     "name": "stdout",
     "output_type": "stream",
     "text": [
      "Model Was Not Saved ! Current Best Avg. Dice: 0.44023868441581726 Current Avg. Dice: 0.41648194193840027 Current Avg. tumor Dice: 0.3839212954044342 Current Avg. lymph Dice: 0.47372373938560486\n"
     ]
    },
    {
     "name": "stderr",
     "output_type": "stream",
     "text": [
      "Training (15047 / 18000 Steps) (loss=0.66775): 100%|██████████| 76/76 [02:23<00:00,  1.89s/it]\n",
      "Validate (15048 / 10 Steps): 100%|██████████| 22/22 [01:14<00:00,  3.40s/it]<00:20,  1.18it/s]\n",
      "Training (15100 / 18000 Steps) (loss=0.47938):  70%|██████▉   | 53/76 [02:04<08:57, 23.36s/it]"
     ]
    },
    {
     "name": "stdout",
     "output_type": "stream",
     "text": [
      "Model Was Not Saved ! Current Best Avg. Dice: 0.44023868441581726 Current Avg. Dice: 0.41485822200775146 Current Avg. tumor Dice: 0.3822127878665924 Current Avg. lymph Dice: 0.4714910089969635\n"
     ]
    },
    {
     "name": "stderr",
     "output_type": "stream",
     "text": [
      "Training (15123 / 18000 Steps) (loss=0.57571): 100%|██████████| 76/76 [02:23<00:00,  1.88s/it]\n",
      "Training (15199 / 18000 Steps) (loss=0.60070): 100%|██████████| 76/76 [01:07<00:00,  1.12it/s]\n",
      "Validate (15200 / 10 Steps): 100%|██████████| 22/22 [01:15<00:00,  3.42s/it]?, ?it/s]\n",
      "Training (15200 / 18000 Steps) (loss=0.67349):   1%|▏         | 1/76 [01:19<1:38:53, 79.12s/it]"
     ]
    },
    {
     "name": "stdout",
     "output_type": "stream",
     "text": [
      "Model Was Not Saved ! Current Best Avg. Dice: 0.44023868441581726 Current Avg. Dice: 0.4092566668987274 Current Avg. tumor Dice: 0.37227556109428406 Current Avg. lymph Dice: 0.46861016750335693\n"
     ]
    },
    {
     "name": "stderr",
     "output_type": "stream",
     "text": [
      "Training (15275 / 18000 Steps) (loss=0.54125): 100%|██████████| 76/76 [02:22<00:00,  1.87s/it] \n",
      "Validate (15276 / 10 Steps): 100%|██████████| 22/22 [01:15<00:00,  3.41s/it]<00:44,  1.18it/s]\n",
      "Training (15300 / 18000 Steps) (loss=0.70884):  33%|███▎      | 25/76 [01:39<19:50, 23.35s/it]"
     ]
    },
    {
     "name": "stdout",
     "output_type": "stream",
     "text": [
      "Model Was Not Saved ! Current Best Avg. Dice: 0.44023868441581726 Current Avg. Dice: 0.3982977569103241 Current Avg. tumor Dice: 0.3610117435455322 Current Avg. lymph Dice: 0.4641396701335907\n"
     ]
    },
    {
     "name": "stderr",
     "output_type": "stream",
     "text": [
      "Training (15351 / 18000 Steps) (loss=0.45713): 100%|██████████| 76/76 [02:21<00:00,  1.86s/it]\n",
      "Validate (15352 / 10 Steps): 100%|██████████| 22/22 [01:15<00:00,  3.42s/it]<00:23,  1.18it/s]\n",
      "Training (15400 / 18000 Steps) (loss=0.44682):  64%|██████▍   | 49/76 [02:00<10:32, 23.42s/it]"
     ]
    },
    {
     "name": "stdout",
     "output_type": "stream",
     "text": [
      "Model Was Not Saved ! Current Best Avg. Dice: 0.44023868441581726 Current Avg. Dice: 0.417667418718338 Current Avg. tumor Dice: 0.3839775323867798 Current Avg. lymph Dice: 0.4724307656288147\n"
     ]
    },
    {
     "name": "stderr",
     "output_type": "stream",
     "text": [
      "Training (15427 / 18000 Steps) (loss=0.51785): 100%|██████████| 76/76 [02:23<00:00,  1.89s/it]\n",
      "Validate (15428 / 10 Steps): 100%|██████████| 22/22 [01:15<00:00,  3.42s/it]<00:03,  1.25it/s]\n",
      "Training (15500 / 18000 Steps) (loss=0.54628):  96%|█████████▌| 73/76 [02:21<01:10, 23.39s/it]"
     ]
    },
    {
     "name": "stdout",
     "output_type": "stream",
     "text": [
      "Model Was Not Saved ! Current Best Avg. Dice: 0.44023868441581726 Current Avg. Dice: 0.4074400067329407 Current Avg. tumor Dice: 0.36093172430992126 Current Avg. lymph Dice: 0.4842510223388672\n"
     ]
    },
    {
     "name": "stderr",
     "output_type": "stream",
     "text": [
      "Training (15503 / 18000 Steps) (loss=0.66813): 100%|██████████| 76/76 [02:23<00:00,  1.89s/it]\n",
      "Training (15579 / 18000 Steps) (loss=0.46276): 100%|██████████| 76/76 [01:08<00:00,  1.11it/s]\n",
      "Validate (15580 / 10 Steps): 100%|██████████| 22/22 [01:15<00:00,  3.43s/it]<00:48,  1.16it/s]\n",
      "Training (15600 / 18000 Steps) (loss=0.58397):  28%|██▊       | 21/76 [01:37<21:35, 23.56s/it]"
     ]
    },
    {
     "name": "stdout",
     "output_type": "stream",
     "text": [
      "Model Was Not Saved ! Current Best Avg. Dice: 0.44023868441581726 Current Avg. Dice: 0.40918809175491333 Current Avg. tumor Dice: 0.35889631509780884 Current Avg. lymph Dice: 0.4928426742553711\n"
     ]
    },
    {
     "name": "stderr",
     "output_type": "stream",
     "text": [
      "Training (15655 / 18000 Steps) (loss=0.33326): 100%|██████████| 76/76 [02:25<00:00,  1.92s/it]\n",
      "Validate (15656 / 10 Steps): 100%|██████████| 22/22 [01:15<00:00,  3.44s/it]<00:27,  1.15it/s]\n",
      "Training (15700 / 18000 Steps) (loss=0.48815):  59%|█████▉    | 45/76 [01:57<12:10, 23.55s/it]"
     ]
    },
    {
     "name": "stdout",
     "output_type": "stream",
     "text": [
      "Model Was Not Saved ! Current Best Avg. Dice: 0.44023868441581726 Current Avg. Dice: 0.4228430986404419 Current Avg. tumor Dice: 0.3788343071937561 Current Avg. lymph Dice: 0.4906074106693268\n"
     ]
    },
    {
     "name": "stderr",
     "output_type": "stream",
     "text": [
      "Training (15731 / 18000 Steps) (loss=0.75066): 100%|██████████| 76/76 [02:23<00:00,  1.89s/it]\n",
      "Validate (15732 / 10 Steps): 100%|██████████| 22/22 [01:15<00:00,  3.43s/it]<00:06,  1.31it/s]\n",
      "Training (15800 / 18000 Steps) (loss=0.68179):  91%|█████████ | 69/76 [02:17<02:43, 23.39s/it]"
     ]
    },
    {
     "name": "stdout",
     "output_type": "stream",
     "text": [
      "Model Was Not Saved ! Current Best Avg. Dice: 0.44023868441581726 Current Avg. Dice: 0.4197637438774109 Current Avg. tumor Dice: 0.37704119086265564 Current Avg. lymph Dice: 0.4856279194355011\n"
     ]
    },
    {
     "name": "stderr",
     "output_type": "stream",
     "text": [
      "Training (15807 / 18000 Steps) (loss=0.60602): 100%|██████████| 76/76 [02:23<00:00,  1.88s/it]\n",
      "Training (15883 / 18000 Steps) (loss=0.54858): 100%|██████████| 76/76 [01:08<00:00,  1.11it/s]\n",
      "Validate (15884 / 10 Steps): 100%|██████████| 22/22 [01:15<00:00,  3.44s/it]<00:53,  1.13it/s]\n",
      "Training (15900 / 18000 Steps) (loss=0.36898):  22%|██▏       | 17/76 [01:33<23:13, 23.62s/it]"
     ]
    },
    {
     "name": "stdout",
     "output_type": "stream",
     "text": [
      "Model Was Not Saved ! Current Best Avg. Dice: 0.44023868441581726 Current Avg. Dice: 0.4015374481678009 Current Avg. tumor Dice: 0.3528912663459778 Current Avg. lymph Dice: 0.47893938422203064\n"
     ]
    },
    {
     "name": "stderr",
     "output_type": "stream",
     "text": [
      "Training (15959 / 18000 Steps) (loss=0.63498): 100%|██████████| 76/76 [02:24<00:00,  1.90s/it]\n",
      "Validate (15960 / 10 Steps): 100%|██████████| 22/22 [01:15<00:00,  3.43s/it]<00:33,  1.08it/s]\n",
      "Training (16000 / 18000 Steps) (loss=0.46838):  54%|█████▍    | 41/76 [01:56<13:44, 23.56s/it]"
     ]
    },
    {
     "name": "stdout",
     "output_type": "stream",
     "text": [
      "Model Was Not Saved ! Current Best Avg. Dice: 0.44023868441581726 Current Avg. Dice: 0.41673800349235535 Current Avg. tumor Dice: 0.37407079339027405 Current Avg. lymph Dice: 0.4800642430782318\n"
     ]
    },
    {
     "name": "stderr",
     "output_type": "stream",
     "text": [
      "Training (16035 / 18000 Steps) (loss=0.28853): 100%|██████████| 76/76 [02:27<00:00,  1.94s/it]\n",
      "Validate (16036 / 10 Steps): 100%|██████████| 22/22 [01:16<00:00,  3.46s/it]<00:09,  1.20it/s]\n",
      "Training (16100 / 18000 Steps) (loss=0.39445):  86%|████████▌ | 65/76 [02:16<04:20, 23.67s/it]"
     ]
    },
    {
     "name": "stdout",
     "output_type": "stream",
     "text": [
      "Model Was Not Saved ! Current Best Avg. Dice: 0.44023868441581726 Current Avg. Dice: 0.40734803676605225 Current Avg. tumor Dice: 0.371217280626297 Current Avg. lymph Dice: 0.47272437810897827\n"
     ]
    },
    {
     "name": "stderr",
     "output_type": "stream",
     "text": [
      "Training (16111 / 18000 Steps) (loss=0.52321): 100%|██████████| 76/76 [02:25<00:00,  1.92s/it]\n",
      "Training (16187 / 18000 Steps) (loss=0.52034): 100%|██████████| 76/76 [01:10<00:00,  1.07it/s]\n",
      "Validate (16188 / 10 Steps): 100%|██████████| 22/22 [01:15<00:00,  3.42s/it]<00:53,  1.20it/s]\n",
      "Training (16200 / 18000 Steps) (loss=0.34645):  17%|█▋        | 13/76 [01:29<24:48, 23.62s/it]"
     ]
    },
    {
     "name": "stdout",
     "output_type": "stream",
     "text": [
      "Model Was Not Saved ! Current Best Avg. Dice: 0.44023868441581726 Current Avg. Dice: 0.41535794734954834 Current Avg. tumor Dice: 0.3823988437652588 Current Avg. lymph Dice: 0.46310561895370483\n"
     ]
    },
    {
     "name": "stderr",
     "output_type": "stream",
     "text": [
      "Training (16263 / 18000 Steps) (loss=0.60055): 100%|██████████| 76/76 [02:23<00:00,  1.89s/it]\n",
      "Validate (16264 / 10 Steps): 100%|██████████| 22/22 [01:15<00:00,  3.43s/it]<00:33,  1.20it/s]\n",
      "Training (16300 / 18000 Steps) (loss=0.58312):  49%|████▊     | 37/76 [01:50<15:15, 23.47s/it]"
     ]
    },
    {
     "name": "stdout",
     "output_type": "stream",
     "text": [
      "Model Was Not Saved ! Current Best Avg. Dice: 0.44023868441581726 Current Avg. Dice: 0.43074190616607666 Current Avg. tumor Dice: 0.3875782787799835 Current Avg. lymph Dice: 0.4941556751728058\n"
     ]
    },
    {
     "name": "stderr",
     "output_type": "stream",
     "text": [
      "Training (16339 / 18000 Steps) (loss=0.54010): 100%|██████████| 76/76 [02:22<00:00,  1.88s/it]\n",
      "Validate (16340 / 10 Steps): 100%|██████████| 22/22 [01:15<00:00,  3.43s/it]<00:14,  1.14it/s]\n",
      "Training (16400 / 18000 Steps) (loss=0.29119):  80%|████████  | 61/76 [02:13<05:52, 23.53s/it]"
     ]
    },
    {
     "name": "stdout",
     "output_type": "stream",
     "text": [
      "Model Was Not Saved ! Current Best Avg. Dice: 0.44023868441581726 Current Avg. Dice: 0.4218539297580719 Current Avg. tumor Dice: 0.38392698764801025 Current Avg. lymph Dice: 0.4839136302471161\n"
     ]
    },
    {
     "name": "stderr",
     "output_type": "stream",
     "text": [
      "Training (16415 / 18000 Steps) (loss=0.47864): 100%|██████████| 76/76 [02:25<00:00,  1.91s/it]\n",
      "Training (16491 / 18000 Steps) (loss=0.52744): 100%|██████████| 76/76 [01:10<00:00,  1.08it/s]\n",
      "Validate (16492 / 10 Steps): 100%|██████████| 22/22 [01:15<00:00,  3.44s/it]01:07,  1.01it/s]\n",
      "Training (16500 / 18000 Steps) (loss=0.50203):  12%|█▏        | 9/76 [01:26<27:30, 24.64s/it]"
     ]
    },
    {
     "name": "stdout",
     "output_type": "stream",
     "text": [
      "Model Was Not Saved ! Current Best Avg. Dice: 0.44023868441581726 Current Avg. Dice: 0.4167971611022949 Current Avg. tumor Dice: 0.37047436833381653 Current Avg. lymph Dice: 0.4968861937522888\n"
     ]
    },
    {
     "name": "stderr",
     "output_type": "stream",
     "text": [
      "Training (16567 / 18000 Steps) (loss=0.56735): 100%|██████████| 76/76 [02:24<00:00,  1.90s/it]\n",
      "Validate (16568 / 10 Steps): 100%|██████████| 22/22 [01:15<00:00,  3.43s/it]<00:38,  1.16it/s]\n",
      "Training (16600 / 18000 Steps) (loss=0.48242):  43%|████▎     | 33/76 [01:48<16:53, 23.56s/it]"
     ]
    },
    {
     "name": "stdout",
     "output_type": "stream",
     "text": [
      "Model Was Not Saved ! Current Best Avg. Dice: 0.44023868441581726 Current Avg. Dice: 0.4024290144443512 Current Avg. tumor Dice: 0.3608458340167999 Current Avg. lymph Dice: 0.4621325135231018\n"
     ]
    },
    {
     "name": "stderr",
     "output_type": "stream",
     "text": [
      "Training (16643 / 18000 Steps) (loss=0.66963): 100%|██████████| 76/76 [02:26<00:00,  1.92s/it]\n",
      "Validate (16644 / 10 Steps): 100%|██████████| 22/22 [01:15<00:00,  3.43s/it]<00:16,  1.19it/s]\n",
      "Training (16700 / 18000 Steps) (loss=0.36845):  75%|███████▌  | 57/76 [02:08<07:27, 23.57s/it]"
     ]
    },
    {
     "name": "stdout",
     "output_type": "stream",
     "text": [
      "Model Was Not Saved ! Current Best Avg. Dice: 0.44023868441581726 Current Avg. Dice: 0.4186033010482788 Current Avg. tumor Dice: 0.3796292841434479 Current Avg. lymph Dice: 0.4798695743083954\n"
     ]
    },
    {
     "name": "stderr",
     "output_type": "stream",
     "text": [
      "Training (16719 / 18000 Steps) (loss=0.52688): 100%|██████████| 76/76 [02:23<00:00,  1.89s/it]\n",
      "Training (16795 / 18000 Steps) (loss=0.43828): 100%|██████████| 76/76 [01:10<00:00,  1.08it/s]\n",
      "Validate (16796 / 10 Steps): 100%|██████████| 22/22 [01:15<00:00,  3.44s/it]01:34,  1.31s/it]\n",
      "Training (16800 / 18000 Steps) (loss=0.47334):   7%|▋         | 5/76 [01:23<33:38, 28.43s/it]"
     ]
    },
    {
     "name": "stdout",
     "output_type": "stream",
     "text": [
      "Model Was Not Saved ! Current Best Avg. Dice: 0.44023868441581726 Current Avg. Dice: 0.41328051686286926 Current Avg. tumor Dice: 0.37576621770858765 Current Avg. lymph Dice: 0.4731518030166626\n"
     ]
    },
    {
     "name": "stderr",
     "output_type": "stream",
     "text": [
      "Training (16871 / 18000 Steps) (loss=0.34598): 100%|██████████| 76/76 [02:24<00:00,  1.90s/it]\n",
      "Validate (16872 / 10 Steps): 100%|██████████| 22/22 [01:15<00:00,  3.44s/it]<00:42,  1.13it/s]\n",
      "Training (16900 / 18000 Steps) (loss=0.58511):  38%|███▊      | 29/76 [01:44<18:27, 23.56s/it]"
     ]
    },
    {
     "name": "stdout",
     "output_type": "stream",
     "text": [
      "Model Was Not Saved ! Current Best Avg. Dice: 0.44023868441581726 Current Avg. Dice: 0.41589972376823425 Current Avg. tumor Dice: 0.37561360001564026 Current Avg. lymph Dice: 0.48096609115600586\n"
     ]
    },
    {
     "name": "stderr",
     "output_type": "stream",
     "text": [
      "Training (16947 / 18000 Steps) (loss=0.59794): 100%|██████████| 76/76 [02:24<00:00,  1.90s/it]\n",
      "Validate (16948 / 10 Steps): 100%|██████████| 22/22 [01:15<00:00,  3.44s/it]<00:21,  1.14it/s]\n",
      "Training (17000 / 18000 Steps) (loss=0.49824):  70%|██████▉   | 53/76 [02:05<09:03, 23.61s/it]"
     ]
    },
    {
     "name": "stdout",
     "output_type": "stream",
     "text": [
      "Model Was Not Saved ! Current Best Avg. Dice: 0.44023868441581726 Current Avg. Dice: 0.4184168577194214 Current Avg. tumor Dice: 0.3768473267555237 Current Avg. lymph Dice: 0.491780161857605\n"
     ]
    },
    {
     "name": "stderr",
     "output_type": "stream",
     "text": [
      "Training (17023 / 18000 Steps) (loss=0.54687): 100%|██████████| 76/76 [02:24<00:00,  1.90s/it]\n",
      "Training (17099 / 18000 Steps) (loss=0.66935): 100%|██████████| 76/76 [01:08<00:00,  1.11it/s]\n",
      "Validate (17100 / 10 Steps): 100%|██████████| 22/22 [01:15<00:00,  3.45s/it]?, ?it/s]\n",
      "Training (17100 / 18000 Steps) (loss=0.42444):   1%|▏         | 1/76 [01:19<1:39:46, 79.83s/it]"
     ]
    },
    {
     "name": "stdout",
     "output_type": "stream",
     "text": [
      "Model Was Not Saved ! Current Best Avg. Dice: 0.44023868441581726 Current Avg. Dice: 0.43149861693382263 Current Avg. tumor Dice: 0.3937086760997772 Current Avg. lymph Dice: 0.4933951795101166\n"
     ]
    },
    {
     "name": "stderr",
     "output_type": "stream",
     "text": [
      "Training (17175 / 18000 Steps) (loss=0.47080): 100%|██████████| 76/76 [02:24<00:00,  1.90s/it] \n",
      "Validate (17176 / 10 Steps): 100%|██████████| 22/22 [01:15<00:00,  3.45s/it]<00:44,  1.17it/s]\n",
      "Training (17200 / 18000 Steps) (loss=0.43889):  33%|███▎      | 25/76 [01:41<20:04, 23.62s/it]"
     ]
    },
    {
     "name": "stdout",
     "output_type": "stream",
     "text": [
      "Model Was Not Saved ! Current Best Avg. Dice: 0.44023868441581726 Current Avg. Dice: 0.4176996052265167 Current Avg. tumor Dice: 0.38006582856178284 Current Avg. lymph Dice: 0.4824028015136719\n"
     ]
    },
    {
     "name": "stderr",
     "output_type": "stream",
     "text": [
      "Training (17251 / 18000 Steps) (loss=0.45603): 100%|██████████| 76/76 [02:23<00:00,  1.89s/it]\n",
      "Validate (17252 / 10 Steps): 100%|██████████| 22/22 [01:15<00:00,  3.44s/it]<00:24,  1.12it/s]\n",
      "Training (17300 / 18000 Steps) (loss=0.51735):  64%|██████▍   | 49/76 [02:02<10:38, 23.63s/it]"
     ]
    },
    {
     "name": "stdout",
     "output_type": "stream",
     "text": [
      "Model Was Not Saved ! Current Best Avg. Dice: 0.44023868441581726 Current Avg. Dice: 0.4076906442642212 Current Avg. tumor Dice: 0.3801024854183197 Current Avg. lymph Dice: 0.4619104564189911\n"
     ]
    },
    {
     "name": "stderr",
     "output_type": "stream",
     "text": [
      "Training (17327 / 18000 Steps) (loss=0.38186): 100%|██████████| 76/76 [02:24<00:00,  1.91s/it]\n",
      "Validate (17328 / 10 Steps): 100%|██████████| 22/22 [01:15<00:00,  3.45s/it]<00:03,  1.26it/s]\n",
      "Training (17400 / 18000 Steps) (loss=0.49459):  96%|█████████▌| 73/76 [02:21<01:10, 23.58s/it]"
     ]
    },
    {
     "name": "stdout",
     "output_type": "stream",
     "text": [
      "Model Was Not Saved ! Current Best Avg. Dice: 0.44023868441581726 Current Avg. Dice: 0.4222700893878937 Current Avg. tumor Dice: 0.40280577540397644 Current Avg. lymph Dice: 0.46093618869781494\n"
     ]
    },
    {
     "name": "stderr",
     "output_type": "stream",
     "text": [
      "Training (17403 / 18000 Steps) (loss=0.44605): 100%|██████████| 76/76 [02:24<00:00,  1.90s/it]\n",
      "Training (17479 / 18000 Steps) (loss=0.60087): 100%|██████████| 76/76 [01:08<00:00,  1.11it/s]\n",
      "Validate (17480 / 10 Steps): 100%|██████████| 22/22 [01:15<00:00,  3.43s/it]<00:52,  1.06it/s]\n",
      "Training (17500 / 18000 Steps) (loss=0.58249):  28%|██▊       | 21/76 [01:37<21:40, 23.64s/it]"
     ]
    },
    {
     "name": "stdout",
     "output_type": "stream",
     "text": [
      "Model Was Not Saved ! Current Best Avg. Dice: 0.44023868441581726 Current Avg. Dice: 0.41819828748703003 Current Avg. tumor Dice: 0.3903461694717407 Current Avg. lymph Dice: 0.4720574915409088\n"
     ]
    },
    {
     "name": "stderr",
     "output_type": "stream",
     "text": [
      "Training (17555 / 18000 Steps) (loss=0.61960): 100%|██████████| 76/76 [02:23<00:00,  1.88s/it]\n",
      "Validate (17556 / 10 Steps): 100%|██████████| 22/22 [01:15<00:00,  3.43s/it]<00:27,  1.15it/s]\n",
      "Training (17600 / 18000 Steps) (loss=0.56891):  59%|█████▉    | 45/76 [01:58<12:09, 23.52s/it]"
     ]
    },
    {
     "name": "stdout",
     "output_type": "stream",
     "text": [
      "Model Was Not Saved ! Current Best Avg. Dice: 0.44023868441581726 Current Avg. Dice: 0.4232586920261383 Current Avg. tumor Dice: 0.38614678382873535 Current Avg. lymph Dice: 0.4840131402015686\n"
     ]
    },
    {
     "name": "stderr",
     "output_type": "stream",
     "text": [
      "Training (17631 / 18000 Steps) (loss=0.48711): 100%|██████████| 76/76 [02:23<00:00,  1.89s/it]\n",
      "Validate (17632 / 10 Steps): 100%|██████████| 22/22 [01:15<00:00,  3.43s/it]<00:06,  1.27it/s]\n",
      "Training (17700 / 18000 Steps) (loss=0.56538):  91%|█████████ | 69/76 [02:17<02:44, 23.44s/it]"
     ]
    },
    {
     "name": "stdout",
     "output_type": "stream",
     "text": [
      "Model Was Not Saved ! Current Best Avg. Dice: 0.44023868441581726 Current Avg. Dice: 0.4372732937335968 Current Avg. tumor Dice: 0.4039928913116455 Current Avg. lymph Dice: 0.49108994007110596\n"
     ]
    },
    {
     "name": "stderr",
     "output_type": "stream",
     "text": [
      "Training (17707 / 18000 Steps) (loss=0.40564): 100%|██████████| 76/76 [02:23<00:00,  1.89s/it]\n",
      "Training (17783 / 18000 Steps) (loss=0.60137): 100%|██████████| 76/76 [01:06<00:00,  1.14it/s]\n",
      "Validate (17784 / 10 Steps): 100%|██████████| 22/22 [01:15<00:00,  3.45s/it]<00:51,  1.16it/s]\n",
      "Training (17800 / 18000 Steps) (loss=0.66750):  22%|██▏       | 17/76 [01:33<23:17, 23.69s/it]"
     ]
    },
    {
     "name": "stdout",
     "output_type": "stream",
     "text": [
      "Model Was Not Saved ! Current Best Avg. Dice: 0.44023868441581726 Current Avg. Dice: 0.43254518508911133 Current Avg. tumor Dice: 0.40988585352897644 Current Avg. lymph Dice: 0.4714944064617157\n"
     ]
    },
    {
     "name": "stderr",
     "output_type": "stream",
     "text": [
      "Training (17859 / 18000 Steps) (loss=0.36576): 100%|██████████| 76/76 [02:23<00:00,  1.89s/it]\n",
      "Validate (17860 / 10 Steps): 100%|██████████| 22/22 [01:15<00:00,  3.43s/it]<00:31,  1.14it/s]\n",
      "Training (17900 / 18000 Steps) (loss=0.36177):  54%|█████▍    | 41/76 [01:53<13:43, 23.54s/it]"
     ]
    },
    {
     "name": "stdout",
     "output_type": "stream",
     "text": [
      "Model Was Not Saved ! Current Best Avg. Dice: 0.44023868441581726 Current Avg. Dice: 0.4236469566822052 Current Avg. tumor Dice: 0.38160088658332825 Current Avg. lymph Dice: 0.49199378490448\n"
     ]
    },
    {
     "name": "stderr",
     "output_type": "stream",
     "text": [
      "Training (17935 / 18000 Steps) (loss=0.55153): 100%|██████████| 76/76 [02:21<00:00,  1.87s/it]\n",
      "Validate (17936 / 10 Steps): 100%|██████████| 22/22 [01:15<00:00,  3.42s/it]<00:09,  1.30it/s]\n",
      "Training (18000 / 18000 Steps) (loss=0.51657):  86%|████████▌ | 65/76 [02:13<04:16, 23.36s/it]"
     ]
    },
    {
     "name": "stdout",
     "output_type": "stream",
     "text": [
      "Model Was Not Saved ! Current Best Avg. Dice: 0.44023868441581726 Current Avg. Dice: 0.42096319794654846 Current Avg. tumor Dice: 0.37722936272621155 Current Avg. lymph Dice: 0.4840419590473175\n"
     ]
    },
    {
     "name": "stderr",
     "output_type": "stream",
     "text": [
      "Training (18011 / 18000 Steps) (loss=0.49612): 100%|██████████| 76/76 [02:21<00:00,  1.87s/it]\n"
     ]
    }
   ],
   "source": [
    "epoch = 0 # used for LR scheduler\n",
    "max_num_epochs = 530 # used for LR scheduler\n",
    "\n",
    "torch.autograd.set_detect_anomaly(True)  # Enable anomaly detection\n",
    "\n",
    "while global_step < max_iterations:\n",
    "    global_step, dice_val_best, global_step_best = train(\n",
    "        global_step, train_loader, dice_val_best, global_step_best\n",
    "    )\n",
    "    epoch += 1\n",
    "    #optimizer.param_groups[0]['lr'] = poly_lr(epoch, max_num_epochs, 0.005676 , 0.9)\n",
    "# model.load_state_dict(torch.load(os.path.join(model_dir, \"best_metric_luck_UNETr_prompt.pth\")))"
   ]
  }
 ],
 "metadata": {
  "kernelspec": {
   "display_name": "clam",
   "language": "python",
   "name": "python3"
  },
  "language_info": {
   "codemirror_mode": {
    "name": "ipython",
    "version": 3
   },
   "file_extension": ".py",
   "mimetype": "text/x-python",
   "name": "python",
   "nbconvert_exporter": "python",
   "pygments_lexer": "ipython3",
   "version": "3.8.0"
  }
 },
 "nbformat": 4,
 "nbformat_minor": 2
}
