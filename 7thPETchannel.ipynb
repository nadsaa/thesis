{
 "cells": [
  {
   "cell_type": "code",
   "execution_count": 1,
   "metadata": {},
   "outputs": [
    {
     "data": {
      "text/plain": [
       "1"
      ]
     },
     "execution_count": 1,
     "metadata": {},
     "output_type": "execute_result"
    }
   ],
   "source": [
    "import os\n",
    "os.environ[\"CUDA_DEVICE_ORDER\"] = \"PCI_BUS_ID\"\n",
    "os.environ[\"CUDA_VISIBLE_DEVICES\"] = \"2\" \n",
    "import torch\n",
    "torch.cuda.device_count()"
   ]
  },
  {
   "cell_type": "code",
   "execution_count": 2,
   "metadata": {},
   "outputs": [],
   "source": [
    "import os\n",
    "import shutil\n",
    "import tempfile\n",
    "\n",
    "import matplotlib.pyplot as plt\n",
    "import numpy as np\n",
    "from tqdm import tqdm\n",
    "from glob import glob\n",
    "# import wandb\n",
    "\n",
    "import monai\n",
    "from monai.losses import DiceCELoss, DiceFocalLoss, FocalLoss\n",
    "from monai.inferers import sliding_window_inference\n",
    "from monai import transforms\n",
    "\n",
    "from monai.transforms import (\n",
    "       AsDiscrete,\n",
    "    Compose,\n",
    "    CropForegroundd,\n",
    "    LoadImaged,\n",
    "    Orientationd,\n",
    "    RandFlipd,\n",
    "    RandCropByPosNegLabeld,\n",
    "    RandShiftIntensityd,\n",
    "    ScaleIntensityRanged,\n",
    "    Spacingd,\n",
    "    RandRotate90d,\n",
    "    MapTransform,\n",
    "    ScaleIntensityd,\n",
    "    #AddChanneld,\n",
    "    SpatialPadd,\n",
    "    CenterSpatialCropd,\n",
    "    EnsureChannelFirstd,\n",
    "    ConcatItemsd,\n",
    "    AdjustContrastd, \n",
    "    Rand3DElasticd,\n",
    "    HistogramNormalized,\n",
    "    NormalizeIntensityd,\n",
    "    Invertd,\n",
    "    SaveImage,\n",
    "\n",
    ")\n",
    "\n",
    "from monai.config import print_config\n",
    "from monai.metrics import DiceMetric\n",
    "from monai.networks.nets import SwinUNETR, UNETR, SegResNet\n",
    "from monai.data import (\n",
    "    DataLoader,\n",
    "    CacheDataset,\n",
    "    load_decathlon_datalist,\n",
    "    decollate_batch,\n",
    ")\n",
    "from monai import data\n",
    "\n",
    "\n",
    "from monai.utils import first, set_determinism\n",
    "from sklearn.model_selection import train_test_split\n",
    "import json\n",
    "\n",
    "\n",
    "import torch"
   ]
  },
  {
   "cell_type": "code",
   "execution_count": 3,
   "metadata": {},
   "outputs": [],
   "source": [
    "set_determinism(seed=1024)"
   ]
  },
  {
   "cell_type": "code",
   "execution_count": 4,
   "metadata": {},
   "outputs": [
    {
     "name": "stdout",
     "output_type": "stream",
     "text": [
      "JSON file created at /home/nada.saadi/CTPET/hecktor2022_cropped/HMR_pt_train_new.json\n"
     ]
    }
   ],
   "source": [
    "import os\n",
    "import json\n",
    "import random\n",
    "from glob import glob\n",
    "\n",
    "def generate_paths(patient_id):\n",
    "    base_dir = '/home/nada.saadi/MIS-FM/hecktor2022_cropped/data'\n",
    "    return {\n",
    "        'id': os.path.join(base_dir, patient_id),\n",
    "        'pt': os.path.join(base_dir, patient_id, f\"{patient_id}_ct.nii.gz\"),\n",
    "        'seg': os.path.join(base_dir, patient_id, f\"{patient_id}_gt.nii.gz\")\n",
    "    }\n",
    "\n",
    "# Assign each data entry to a random fold\n",
    "all_data = []\n",
    "num_folds = 5\n",
    "\n",
    "for file_dir in sorted(glob('data/*')):\n",
    "    patient_id = file_dir.split('/')[-1]\n",
    "    # Check if the file belongs to the MDA center\n",
    "    if patient_id.startswith(\"HMR-\"):\n",
    "        entry = generate_paths(patient_id)\n",
    "        entry['fold'] = random.randint(1, num_folds) - 1\n",
    "        all_data.append(entry)\n",
    "\n",
    "# Compile data into a JSON structure\n",
    "data_json = {\"training\": all_data}\n",
    "\n",
    "# Save to JSON file\n",
    "json_file_path = \"/home/nada.saadi/CTPET/hecktor2022_cropped/HMR_pt_train_new.json\"\n",
    "with open(json_file_path, 'w') as f:\n",
    "    json.dump(data_json, f, indent=4)\n",
    "\n",
    "print(f\"JSON file created at {json_file_path}\")"
   ]
  },
  {
   "cell_type": "code",
   "execution_count": 5,
   "metadata": {},
   "outputs": [
    {
     "name": "stdout",
     "output_type": "stream",
     "text": [
      "[{'id': '/home/nada.saadi/MIS-FM/hecktor2022_cropped/data/HMR-001', 'pt': '/home/nada.saadi/MIS-FM/hecktor2022_cropped/data/HMR-001/HMR-001_ct.nii.gz', 'seg': '/home/nada.saadi/MIS-FM/hecktor2022_cropped/data/HMR-001/HMR-001_gt.nii.gz', 'fold': 0}, {'id': '/home/nada.saadi/MIS-FM/hecktor2022_cropped/data/HMR-004', 'pt': '/home/nada.saadi/MIS-FM/hecktor2022_cropped/data/HMR-004/HMR-004_ct.nii.gz', 'seg': '/home/nada.saadi/MIS-FM/hecktor2022_cropped/data/HMR-004/HMR-004_gt.nii.gz', 'fold': 3}, {'id': '/home/nada.saadi/MIS-FM/hecktor2022_cropped/data/HMR-005', 'pt': '/home/nada.saadi/MIS-FM/hecktor2022_cropped/data/HMR-005/HMR-005_ct.nii.gz', 'seg': '/home/nada.saadi/MIS-FM/hecktor2022_cropped/data/HMR-005/HMR-005_gt.nii.gz', 'fold': 3}, {'id': '/home/nada.saadi/MIS-FM/hecktor2022_cropped/data/HMR-011', 'pt': '/home/nada.saadi/MIS-FM/hecktor2022_cropped/data/HMR-011/HMR-011_ct.nii.gz', 'seg': '/home/nada.saadi/MIS-FM/hecktor2022_cropped/data/HMR-011/HMR-011_gt.nii.gz', 'fold': 2}, {'id': '/home/nada.saadi/MIS-FM/hecktor2022_cropped/data/HMR-012', 'pt': '/home/nada.saadi/MIS-FM/hecktor2022_cropped/data/HMR-012/HMR-012_ct.nii.gz', 'seg': '/home/nada.saadi/MIS-FM/hecktor2022_cropped/data/HMR-012/HMR-012_gt.nii.gz', 'fold': 4}]\n"
     ]
    }
   ],
   "source": [
    "import json\n",
    "\n",
    "json_file_path = \"/home/nada.saadi/CTPET/hecktor2022_cropped/HMR_pt_train_new.json\"\n",
    "\n",
    "with open(json_file_path, 'r') as f:\n",
    "    data = json.load(f)\n",
    "\n",
    "first_5_elements = data[\"training\"][:5]\n",
    "print(first_5_elements)"
   ]
  },
  {
   "cell_type": "code",
   "execution_count": 6,
   "metadata": {},
   "outputs": [],
   "source": [
    "data_dir = '/home/nada.saadi/MIS-FM/hecktor2022_cropped'\n",
    "json_dir = \"/home/nada.saadi/CTPET/hecktor2022_cropped/HMR_pt_train_new.json\""
   ]
  },
  {
   "cell_type": "code",
   "execution_count": 7,
   "metadata": {},
   "outputs": [],
   "source": [
    "def datafold_read(datalist, basedir, fold=0, key=\"training\"):\n",
    "    with open(datalist) as f:\n",
    "        json_data = json.load(f)\n",
    "\n",
    "    json_data = json_data[key]\n",
    "\n",
    "    for d in json_data:\n",
    "        for k in d:\n",
    "            if isinstance(d[k], list):\n",
    "                d[k] = [os.path.join(basedir, iv) for iv in d[k]]\n",
    "            elif isinstance(d[k], str):\n",
    "                d[k] = os.path.join(basedir, d[k]) if len(d[k]) > 0 else d[k]\n",
    "\n",
    "    tr = []\n",
    "    val = []\n",
    "    for d in json_data:\n",
    "        if \"fold\" in d and d[\"fold\"] == fold:\n",
    "            val.append(d)\n",
    "        else:\n",
    "            tr.append(d)\n",
    "\n",
    "    return tr, val"
   ]
  },
  {
   "cell_type": "code",
   "execution_count": 8,
   "metadata": {},
   "outputs": [
    {
     "data": {
      "text/plain": [
       "(13, 4)"
      ]
     },
     "execution_count": 8,
     "metadata": {},
     "output_type": "execute_result"
    }
   ],
   "source": [
    "train_files, validation_files = datafold_read(datalist=json_dir, basedir=data_dir, fold=0)\n",
    "len(train_files), len(validation_files)"
   ]
  },
  {
   "cell_type": "code",
   "execution_count": 9,
   "metadata": {},
   "outputs": [],
   "source": [
    "class ClipCT(MapTransform):\n",
    "    \"\"\"\n",
    "    Convert labels to multi channels based on hecktor classes:\n",
    "    label 1 is the tumor\n",
    "    label 2 is the lymph node\n",
    "\n",
    "    \"\"\"\n",
    "\n",
    "    def __call__(self, data):\n",
    "        d = dict(data)\n",
    "        for key in self.keys:\n",
    "            if key == \"ct\":\n",
    "                d[key] = torch.clip(d[key], min=-200, max=200)\n",
    "            # elif key == \"pt\":\n",
    "            #     d[key] = torch.clip(d[key], d[key].min(), 5)\n",
    "        return d\n",
    "\n",
    "class MulPTFM(MapTransform):\n",
    "    \"\"\"\n",
    "    Mult PT and FM \n",
    "\n",
    "    \"\"\"\n",
    "\n",
    "    def __call__(self, data):\n",
    "        d = dict(data)\n",
    "\n",
    "        fm = d[\"ct\"] > 0\n",
    "        d[\"pt\"] = d[\"pt\"] * fm\n",
    "        return d\n",
    "\n",
    "class SelectClass(MapTransform):\n",
    "    \"\"\"\n",
    "    Select the class for which you want to fine tune the model \n",
    "\n",
    "    \"\"\"\n",
    "    # def __init__(self, keys, cls=1):\n",
    "    #     super(self).__init__(keys)\n",
    "    #     self.cls = cls\n",
    "\n",
    "    def __call__(self, data):\n",
    "        d = dict(data)\n",
    "        d[\"seg\"][d[\"seg\"] == 1] = 0\n",
    "        # d[\"seg\"][d[\"seg\"] == 2] = 1\n",
    "        \n",
    "        return d"
   ]
  },
  {
   "cell_type": "code",
   "execution_count": 10,
   "metadata": {},
   "outputs": [],
   "source": [
    "num_samples = 4\n",
    "\n",
    "train_transforms = Compose(\n",
    "    [\n",
    "        LoadImaged(keys=[\"pt\", \"seg\"], ensure_channel_first = True),\n",
    "        SpatialPadd(keys=[\"pt\",  \"seg\"], spatial_size=(200, 200, 310), method='end'),\n",
    "        Orientationd(keys=[\"pt\",  \"seg\"], axcodes=\"PLS\"),\n",
    "        #NormalizeIntensityd(keys=[\"pt\"]),\n",
    "        ClipCT(keys=[\"pt\"]),\n",
    "        ScaleIntensityd(keys=[\"pt\"], minv=0, maxv=1),\n",
    "        #MulPTFM(keys=[\"ct\",\"pt\"]),\n",
    "        #ConcatItemsd(keys=[\"pt\", \"ct\"], name=\"ctpt\"),\n",
    "        #NormalizeIntensityd(keys=[\"ctpt\"], channel_wise=True),\n",
    "        RandCropByPosNegLabeld(\n",
    "            keys=[\"pt\", \"seg\"],\n",
    "            label_key=\"seg\",\n",
    "            spatial_size=(96, 96, 96),\n",
    "            pos=1,\n",
    "            neg=1,\n",
    "            num_samples=num_samples,\n",
    "            image_key=\"pt\",\n",
    "            image_threshold=0,\n",
    "        ),\n",
    "        RandFlipd(\n",
    "            keys=[\"pt\", \"seg\"],\n",
    "            spatial_axis=[0],\n",
    "            prob=0.20,\n",
    "        ),\n",
    "        RandFlipd(\n",
    "            keys=[\"pt\", \"seg\"],\n",
    "            spatial_axis=[1],\n",
    "            prob=0.20,\n",
    "        ),\n",
    "        RandFlipd(\n",
    "            keys=[\"pt\", \"seg\"],\n",
    "            spatial_axis=[2],\n",
    "            prob=0.20,\n",
    "        ),\n",
    "        RandRotate90d(\n",
    "            keys=[\"pt\", \"seg\"],\n",
    "            prob=0.20,\n",
    "            max_k=3,\n",
    "        ),\n",
    "    ]\n",
    ")\n",
    "val_transforms = Compose(\n",
    "    [\n",
    "        LoadImaged(keys=[\"pt\", \"seg\"], ensure_channel_first = True),\n",
    "        SpatialPadd(keys=[\"pt\", \"seg\"], spatial_size=(200, 200, 310), method='end'),\n",
    "        Orientationd(keys=[\"pt\",  \"seg\"], axcodes=\"PLS\"),\n",
    "        #NormalizeIntensityd(keys=[\"pt\"]),\n",
    "        ClipCT(keys=[\"pt\"]),\n",
    "        ScaleIntensityd(keys=[\"pt\"], minv=0, maxv=1),\n",
    "        #MulPTFM(keys=[\"ct\",\"pt\"]),\n",
    "        #ConcatItemsd(keys=[\"pt\", \"ct\"], name=\"ctpt\"),\n",
    "    ]\n",
    ")"
   ]
  },
  {
   "cell_type": "code",
   "execution_count": 11,
   "metadata": {},
   "outputs": [],
   "source": [
    "train_ds = monai.data.Dataset(data=train_files, transform=train_transforms)\n",
    "\n",
    "train_loader = DataLoader(\n",
    "    train_ds,\n",
    "    batch_size=2,\n",
    "    shuffle=True,\n",
    "    num_workers=8,\n",
    "    pin_memory=torch.cuda.is_available(),\n",
    "    )\n",
    "\n",
    "val_ds = monai.data.Dataset(data=validation_files, transform=val_transforms)\n",
    "\n",
    "val_loader = DataLoader(\n",
    "    val_ds, \n",
    "    batch_size=2, \n",
    "    num_workers=8, \n",
    "    shuffle= False)"
   ]
  },
  {
   "cell_type": "code",
   "execution_count": 12,
   "metadata": {},
   "outputs": [
    {
     "name": "stderr",
     "output_type": "stream",
     "text": [
      "/home/nada.saadi/miniconda3/envs/clam/lib/python3.8/site-packages/monai/utils/deprecate_utils.py:221: FutureWarning: monai.networks.nets.unetr UNETR.__init__:pos_embed: Argument `pos_embed` has been deprecated since version 1.2. It will be removed in version 1.4. please use `proj_type` instead.\n",
      "  warn_deprecated(argname, msg, warning_category)\n"
     ]
    }
   ],
   "source": [
    "os.environ[\"CUDA_DEVICE_ORDER\"] = \"PCI_BUS_ID\"\n",
    "device = torch.device(\"cuda\" if torch.cuda.is_available() else \"cpu\")\n",
    "model = UNETR(\n",
    "    in_channels=1,\n",
    "    out_channels=3,\n",
    "    img_size=(96, 96, 96),\n",
    "    feature_size=16,\n",
    "    hidden_size=768,\n",
    "    mlp_dim=3072, \n",
    "    num_heads=12,\n",
    "    pos_embed=\"perceptron\",\n",
    "    norm_name=\"instance\",\n",
    "    res_block=True,\n",
    "    dropout_rate=0.0,\n",
    ").to(device)"
   ]
  },
  {
   "cell_type": "code",
   "execution_count": 13,
   "metadata": {},
   "outputs": [],
   "source": [
    "torch.backends.cudnn.benchmark = True\n",
    "def poly_lr(epoch, max_epochs, initial_lr, exponent=0.9):\n",
    "    return initial_lr * (1 - epoch / max_epochs)**exponent\n",
    "\n",
    "loss_function = DiceCELoss(to_onehot_y=True, softmax=True)\n",
    "optimizer = torch.optim.AdamW(model.parameters(), lr=1e-4, weight_decay=1e-5)"
   ]
  },
  {
   "cell_type": "code",
   "execution_count": 14,
   "metadata": {},
   "outputs": [
    {
     "name": "stderr",
     "output_type": "stream",
     "text": [
      "Training (6 / 18000 Steps) (loss=1.59651): 100%|██████████| 7/7 [00:18<00:00,  2.57s/it]\n",
      "Training (13 / 18000 Steps) (loss=1.47352): 100%|██████████| 7/7 [00:05<00:00,  1.26it/s]\n",
      "Training (20 / 18000 Steps) (loss=1.45572): 100%|██████████| 7/7 [00:05<00:00,  1.30it/s]\n",
      "Training (27 / 18000 Steps) (loss=1.44292): 100%|██████████| 7/7 [00:05<00:00,  1.24it/s]\n",
      "Training (34 / 18000 Steps) (loss=1.37911): 100%|██████████| 7/7 [00:05<00:00,  1.38it/s]\n",
      "Training (41 / 18000 Steps) (loss=1.33155): 100%|██████████| 7/7 [00:05<00:00,  1.32it/s]\n",
      "Training (48 / 18000 Steps) (loss=1.27124): 100%|██████████| 7/7 [00:05<00:00,  1.29it/s]\n",
      "Training (55 / 18000 Steps) (loss=1.37367): 100%|██████████| 7/7 [00:05<00:00,  1.34it/s]\n",
      "Training (62 / 18000 Steps) (loss=1.29942): 100%|██████████| 7/7 [00:05<00:00,  1.23it/s]\n",
      "Training (69 / 18000 Steps) (loss=1.27291): 100%|██████████| 7/7 [00:05<00:00,  1.32it/s]\n",
      "Training (76 / 18000 Steps) (loss=1.22115): 100%|██████████| 7/7 [00:05<00:00,  1.33it/s]\n",
      "Training (83 / 18000 Steps) (loss=1.22280): 100%|██████████| 7/7 [00:05<00:00,  1.31it/s]\n",
      "Training (90 / 18000 Steps) (loss=1.27751): 100%|██████████| 7/7 [00:05<00:00,  1.28it/s]\n",
      "Training (97 / 18000 Steps) (loss=1.27518): 100%|██████████| 7/7 [00:05<00:00,  1.27it/s]\n",
      "Validate (98 / 10 Steps): 100%|██████████| 2/2 [00:04<00:00,  2.14s/it]3<00:06,  1.39s/it]\n",
      "Training (100 / 18000 Steps) (loss=1.25095):  43%|████▎     | 3/7 [00:09<00:13,  3.41s/it]"
     ]
    },
    {
     "name": "stdout",
     "output_type": "stream",
     "text": [
      "Model Was Saved ! Current Best Avg. Dice: 0.0012072183890268207 Current Avg. Dice: 0.0012072183890268207 Current Avg. tumor Dice: 0.0024144367780536413 Current Avg. lymph Dice: 0.0\n"
     ]
    },
    {
     "name": "stderr",
     "output_type": "stream",
     "text": [
      "Training (104 / 18000 Steps) (loss=1.20070): 100%|██████████| 7/7 [00:10<00:00,  1.51s/it]\n",
      "Training (111 / 18000 Steps) (loss=1.21105): 100%|██████████| 7/7 [00:05<00:00,  1.28it/s]\n",
      "Training (118 / 18000 Steps) (loss=1.20525): 100%|██████████| 7/7 [00:05<00:00,  1.28it/s]\n",
      "Training (125 / 18000 Steps) (loss=1.23025): 100%|██████████| 7/7 [00:05<00:00,  1.29it/s]\n",
      "Training (132 / 18000 Steps) (loss=1.22428): 100%|██████████| 7/7 [00:05<00:00,  1.25it/s]\n",
      "Training (139 / 18000 Steps) (loss=1.18592): 100%|██████████| 7/7 [00:05<00:00,  1.25it/s]\n",
      "Training (146 / 18000 Steps) (loss=1.16526): 100%|██████████| 7/7 [00:05<00:00,  1.26it/s]\n",
      "Training (153 / 18000 Steps) (loss=1.20367): 100%|██████████| 7/7 [00:05<00:00,  1.36it/s]\n",
      "Training (160 / 18000 Steps) (loss=1.18859): 100%|██████████| 7/7 [00:05<00:00,  1.31it/s]\n",
      "Training (167 / 18000 Steps) (loss=1.16530): 100%|██████████| 7/7 [00:05<00:00,  1.30it/s]\n",
      "Training (174 / 18000 Steps) (loss=1.20367): 100%|██████████| 7/7 [00:05<00:00,  1.32it/s]\n",
      "Training (181 / 18000 Steps) (loss=1.17173): 100%|██████████| 7/7 [00:05<00:00,  1.22it/s]\n",
      "Training (188 / 18000 Steps) (loss=1.13020): 100%|██████████| 7/7 [00:05<00:00,  1.19it/s]\n",
      "Training (195 / 18000 Steps) (loss=1.13587): 100%|██████████| 7/7 [00:05<00:00,  1.28it/s]\n",
      "Validate (196 / 10 Steps): 100%|██████████| 2/2 [00:06<00:00,  3.15s/it]<00:02,  1.22it/s]\n",
      "Training (200 / 18000 Steps) (loss=1.12061):  71%|███████▏  | 5/7 [00:11<00:05,  2.99s/it]"
     ]
    },
    {
     "name": "stdout",
     "output_type": "stream",
     "text": [
      "Model Was Not Saved ! Current Best Avg. Dice: 0.0012072183890268207 Current Avg. Dice: 0.0 Current Avg. tumor Dice: 0.0 Current Avg. lymph Dice: 0.0\n"
     ]
    },
    {
     "name": "stderr",
     "output_type": "stream",
     "text": [
      "Training (202 / 18000 Steps) (loss=1.12861): 100%|██████████| 7/7 [00:12<00:00,  1.77s/it]\n",
      "Training (209 / 18000 Steps) (loss=1.16969): 100%|██████████| 7/7 [00:07<00:00,  1.05s/it]\n",
      "Training (216 / 18000 Steps) (loss=1.14861): 100%|██████████| 7/7 [00:07<00:00,  1.05s/it]\n",
      "Training (223 / 18000 Steps) (loss=1.12074): 100%|██████████| 7/7 [00:07<00:00,  1.05s/it]\n",
      "Training (230 / 18000 Steps) (loss=1.07990): 100%|██████████| 7/7 [00:07<00:00,  1.14s/it]\n",
      "Training (237 / 18000 Steps) (loss=1.12737): 100%|██████████| 7/7 [00:08<00:00,  1.20s/it]\n",
      "Training (244 / 18000 Steps) (loss=1.11968): 100%|██████████| 7/7 [00:08<00:00,  1.16s/it]\n",
      "Training (251 / 18000 Steps) (loss=1.10798): 100%|██████████| 7/7 [00:08<00:00,  1.16s/it]\n",
      "Training (258 / 18000 Steps) (loss=1.06361): 100%|██████████| 7/7 [00:07<00:00,  1.14s/it]\n",
      "Training (265 / 18000 Steps) (loss=1.04097): 100%|██████████| 7/7 [00:06<00:00,  1.17it/s]\n",
      "Training (272 / 18000 Steps) (loss=1.05368): 100%|██████████| 7/7 [00:07<00:00,  1.05s/it]\n",
      "Training (279 / 18000 Steps) (loss=1.05192): 100%|██████████| 7/7 [00:05<00:00,  1.23it/s]\n",
      "Training (286 / 18000 Steps) (loss=1.05404): 100%|██████████| 7/7 [00:05<00:00,  1.31it/s]\n",
      "Training (293 / 18000 Steps) (loss=1.03609): 100%|██████████| 7/7 [00:05<00:00,  1.31it/s]\n",
      "Validate (294 / 10 Steps): 100%|██████████| 2/2 [00:06<00:00,  3.00s/it]<00:00,  1.68it/s]\n",
      "Training (300 / 18000 Steps) (loss=1.10540): 100%|██████████| 7/7 [00:11<00:00,  1.71s/it]\n"
     ]
    },
    {
     "name": "stdout",
     "output_type": "stream",
     "text": [
      "Model Was Not Saved ! Current Best Avg. Dice: 0.0012072183890268207 Current Avg. Dice: 0.0 Current Avg. tumor Dice: 0.0 Current Avg. lymph Dice: 0.0\n"
     ]
    },
    {
     "name": "stderr",
     "output_type": "stream",
     "text": [
      "Training (307 / 18000 Steps) (loss=1.08254): 100%|██████████| 7/7 [00:07<00:00,  1.07s/it]\n",
      "Training (314 / 18000 Steps) (loss=1.03544): 100%|██████████| 7/7 [00:07<00:00,  1.04s/it]\n",
      "Training (321 / 18000 Steps) (loss=1.02650): 100%|██████████| 7/7 [00:07<00:00,  1.08s/it]\n",
      "Training (328 / 18000 Steps) (loss=1.06647): 100%|██████████| 7/7 [00:07<00:00,  1.04s/it]\n",
      "Training (335 / 18000 Steps) (loss=1.04819): 100%|██████████| 7/7 [00:07<00:00,  1.05s/it]\n",
      "Training (342 / 18000 Steps) (loss=1.01112): 100%|██████████| 7/7 [00:07<00:00,  1.05s/it]\n",
      "Training (349 / 18000 Steps) (loss=1.06747): 100%|██████████| 7/7 [00:07<00:00,  1.02s/it]\n",
      "Training (356 / 18000 Steps) (loss=1.08183): 100%|██████████| 7/7 [00:07<00:00,  1.04s/it]\n",
      "Training (363 / 18000 Steps) (loss=1.00003): 100%|██████████| 7/7 [00:06<00:00,  1.11it/s]\n",
      "Training (370 / 18000 Steps) (loss=1.00365): 100%|██████████| 7/7 [00:05<00:00,  1.23it/s]\n",
      "Training (377 / 18000 Steps) (loss=1.02144): 100%|██████████| 7/7 [00:07<00:00,  1.01s/it]\n",
      "Training (384 / 18000 Steps) (loss=1.04386): 100%|██████████| 7/7 [00:05<00:00,  1.27it/s]\n",
      "Training (391 / 18000 Steps) (loss=0.98514): 100%|██████████| 7/7 [00:05<00:00,  1.28it/s]\n",
      "Training (398 / 18000 Steps) (loss=1.05802): 100%|██████████| 7/7 [00:05<00:00,  1.34it/s]\n",
      "Validate (399 / 10 Steps): 100%|██████████| 2/2 [00:06<00:00,  3.22s/it]<00:18,  3.10s/it]\n",
      "Training (400 / 18000 Steps) (loss=1.01036):  29%|██▊       | 2/7 [00:10<00:26,  5.34s/it]"
     ]
    },
    {
     "name": "stdout",
     "output_type": "stream",
     "text": [
      "Model Was Not Saved ! Current Best Avg. Dice: 0.0012072183890268207 Current Avg. Dice: 0.0 Current Avg. tumor Dice: 0.0 Current Avg. lymph Dice: 0.0\n"
     ]
    },
    {
     "name": "stderr",
     "output_type": "stream",
     "text": [
      "Training (405 / 18000 Steps) (loss=0.97628): 100%|██████████| 7/7 [00:13<00:00,  1.93s/it]\n",
      "Training (412 / 18000 Steps) (loss=0.98534): 100%|██████████| 7/7 [00:07<00:00,  1.08s/it]\n",
      "Training (419 / 18000 Steps) (loss=0.97487): 100%|██████████| 7/7 [00:07<00:00,  1.13s/it]\n",
      "Training (426 / 18000 Steps) (loss=0.98924): 100%|██████████| 7/7 [00:07<00:00,  1.07s/it]\n",
      "Training (433 / 18000 Steps) (loss=0.96156): 100%|██████████| 7/7 [00:07<00:00,  1.02s/it]\n",
      "Training (440 / 18000 Steps) (loss=0.97088): 100%|██████████| 7/7 [00:07<00:00,  1.04s/it]\n",
      "Training (447 / 18000 Steps) (loss=0.97034): 100%|██████████| 7/7 [00:07<00:00,  1.03s/it]\n",
      "Training (454 / 18000 Steps) (loss=0.97251): 100%|██████████| 7/7 [00:07<00:00,  1.02s/it]\n",
      "Training (461 / 18000 Steps) (loss=0.95887): 100%|██████████| 7/7 [00:07<00:00,  1.05s/it]\n",
      "Training (468 / 18000 Steps) (loss=0.97309): 100%|██████████| 7/7 [00:06<00:00,  1.12it/s]\n",
      "Training (475 / 18000 Steps) (loss=1.00669): 100%|██████████| 7/7 [00:05<00:00,  1.19it/s]\n",
      "Training (482 / 18000 Steps) (loss=0.95205): 100%|██████████| 7/7 [00:07<00:00,  1.05s/it]\n",
      "Training (489 / 18000 Steps) (loss=0.94800): 100%|██████████| 7/7 [00:05<00:00,  1.29it/s]\n",
      "Training (496 / 18000 Steps) (loss=0.94887): 100%|██████████| 7/7 [00:05<00:00,  1.27it/s]\n",
      "Validate (497 / 10 Steps): 100%|██████████| 2/2 [00:04<00:00,  2.08s/it]<00:03,  1.02it/s]\n",
      "Training (500 / 18000 Steps) (loss=0.98727):  57%|█████▋    | 4/7 [00:09<00:08,  2.68s/it]"
     ]
    },
    {
     "name": "stdout",
     "output_type": "stream",
     "text": [
      "Model Was Saved ! Current Best Avg. Dice: 0.013775448314845562 Current Avg. Dice: 0.013775448314845562 Current Avg. tumor Dice: 0.027550896629691124 Current Avg. lymph Dice: 0.0\n"
     ]
    },
    {
     "name": "stderr",
     "output_type": "stream",
     "text": [
      "Training (503 / 18000 Steps) (loss=0.93884): 100%|██████████| 7/7 [00:10<00:00,  1.45s/it]\n",
      "Training (510 / 18000 Steps) (loss=0.93597): 100%|██████████| 7/7 [00:08<00:00,  1.18s/it]\n",
      "Training (517 / 18000 Steps) (loss=0.93816): 100%|██████████| 7/7 [00:08<00:00,  1.14s/it]\n",
      "Training (524 / 18000 Steps) (loss=1.01490): 100%|██████████| 7/7 [00:07<00:00,  1.07s/it]\n",
      "Training (531 / 18000 Steps) (loss=0.94351): 100%|██████████| 7/7 [00:07<00:00,  1.03s/it]\n",
      "Training (538 / 18000 Steps) (loss=0.92664): 100%|██████████| 7/7 [00:07<00:00,  1.05s/it]\n",
      "Training (545 / 18000 Steps) (loss=0.94320): 100%|██████████| 7/7 [00:07<00:00,  1.08s/it]\n",
      "Training (552 / 18000 Steps) (loss=0.92883): 100%|██████████| 7/7 [00:07<00:00,  1.06s/it]\n",
      "Training (559 / 18000 Steps) (loss=0.91612): 100%|██████████| 7/7 [00:07<00:00,  1.03s/it]\n",
      "Training (566 / 18000 Steps) (loss=0.91425): 100%|██████████| 7/7 [00:08<00:00,  1.15s/it]\n",
      "Training (573 / 18000 Steps) (loss=0.91087): 100%|██████████| 7/7 [00:06<00:00,  1.13it/s]\n",
      "Training (580 / 18000 Steps) (loss=0.91170): 100%|██████████| 7/7 [00:06<00:00,  1.00it/s]\n",
      "Training (587 / 18000 Steps) (loss=0.92064): 100%|██████████| 7/7 [00:05<00:00,  1.28it/s]\n",
      "Training (594 / 18000 Steps) (loss=0.92448): 100%|██████████| 7/7 [00:05<00:00,  1.27it/s]\n",
      "Validate (595 / 10 Steps): 100%|██████████| 2/2 [00:04<00:00,  2.12s/it]<00:01,  1.58it/s]\n",
      "Training (600 / 18000 Steps) (loss=0.94561):  86%|████████▌ | 6/7 [00:10<00:02,  2.27s/it]"
     ]
    },
    {
     "name": "stdout",
     "output_type": "stream",
     "text": [
      "Model Was Saved ! Current Best Avg. Dice: 0.026227092370390892 Current Avg. Dice: 0.026227092370390892 Current Avg. tumor Dice: 0.052454184740781784 Current Avg. lymph Dice: 0.0\n"
     ]
    },
    {
     "name": "stderr",
     "output_type": "stream",
     "text": [
      "Training (601 / 18000 Steps) (loss=0.91290): 100%|██████████| 7/7 [00:10<00:00,  1.48s/it]\n",
      "Training (608 / 18000 Steps) (loss=0.90718): 100%|██████████| 7/7 [00:08<00:00,  1.18s/it]\n",
      "Training (615 / 18000 Steps) (loss=0.90119): 100%|██████████| 7/7 [00:08<00:00,  1.19s/it]\n",
      "Training (622 / 18000 Steps) (loss=0.87550): 100%|██████████| 7/7 [00:08<00:00,  1.15s/it]\n",
      "Training (629 / 18000 Steps) (loss=0.90176): 100%|██████████| 7/7 [00:07<00:00,  1.14s/it]\n",
      "Training (636 / 18000 Steps) (loss=0.89843): 100%|██████████| 7/7 [00:08<00:00,  1.20s/it]\n",
      "Training (643 / 18000 Steps) (loss=0.89452): 100%|██████████| 7/7 [00:08<00:00,  1.16s/it]\n",
      "Training (650 / 18000 Steps) (loss=0.94004): 100%|██████████| 7/7 [00:07<00:00,  1.12s/it]\n",
      "Training (657 / 18000 Steps) (loss=0.88569): 100%|██████████| 7/7 [00:07<00:00,  1.06s/it]\n",
      "Training (664 / 18000 Steps) (loss=0.94124): 100%|██████████| 7/7 [00:07<00:00,  1.08s/it]\n",
      "Training (671 / 18000 Steps) (loss=0.90414): 100%|██████████| 7/7 [00:06<00:00,  1.01it/s]\n",
      "Training (678 / 18000 Steps) (loss=0.91161): 100%|██████████| 7/7 [00:05<00:00,  1.26it/s]\n",
      "Training (685 / 18000 Steps) (loss=0.89354): 100%|██████████| 7/7 [00:07<00:00,  1.03s/it]\n",
      "Training (692 / 18000 Steps) (loss=0.87257): 100%|██████████| 7/7 [00:05<00:00,  1.26it/s]\n",
      "Training (699 / 18000 Steps) (loss=0.90822): 100%|██████████| 7/7 [00:05<00:00,  1.33it/s]\n",
      "Validate (700 / 10 Steps): 100%|██████████| 2/2 [00:04<00:00,  2.08s/it]<?, ?it/s]\n",
      "Training (700 / 18000 Steps) (loss=0.89146):  14%|█▍        | 1/7 [00:07<00:44,  7.34s/it]"
     ]
    },
    {
     "name": "stdout",
     "output_type": "stream",
     "text": [
      "Model Was Not Saved ! Current Best Avg. Dice: 0.026227092370390892 Current Avg. Dice: 0.009280039928853512 Current Avg. tumor Dice: 0.018560079857707024 Current Avg. lymph Dice: 0.0\n"
     ]
    },
    {
     "name": "stderr",
     "output_type": "stream",
     "text": [
      "Training (706 / 18000 Steps) (loss=0.88709): 100%|██████████| 7/7 [00:09<00:00,  1.39s/it]\n",
      "Training (713 / 18000 Steps) (loss=0.93416): 100%|██████████| 7/7 [00:07<00:00,  1.06s/it]\n",
      "Training (720 / 18000 Steps) (loss=0.86601): 100%|██████████| 7/7 [00:07<00:00,  1.06s/it]\n",
      "Training (727 / 18000 Steps) (loss=0.86568): 100%|██████████| 7/7 [00:07<00:00,  1.08s/it]\n",
      "Training (734 / 18000 Steps) (loss=0.85644): 100%|██████████| 7/7 [00:07<00:00,  1.12s/it]\n",
      "Training (741 / 18000 Steps) (loss=0.92652): 100%|██████████| 7/7 [00:08<00:00,  1.21s/it]\n",
      "Training (748 / 18000 Steps) (loss=0.86108): 100%|██████████| 7/7 [00:08<00:00,  1.17s/it]\n",
      "Training (755 / 18000 Steps) (loss=0.93003): 100%|██████████| 7/7 [00:08<00:00,  1.19s/it]\n",
      "Training (762 / 18000 Steps) (loss=0.87839): 100%|██████████| 7/7 [00:08<00:00,  1.18s/it]\n",
      "Training (769 / 18000 Steps) (loss=0.85103): 100%|██████████| 7/7 [00:08<00:00,  1.19s/it]\n",
      "Training (776 / 18000 Steps) (loss=0.84750): 100%|██████████| 7/7 [00:08<00:00,  1.16s/it]\n",
      "Training (783 / 18000 Steps) (loss=0.88847): 100%|██████████| 7/7 [00:05<00:00,  1.18it/s]\n",
      "Training (790 / 18000 Steps) (loss=0.85718): 100%|██████████| 7/7 [00:07<00:00,  1.05s/it]\n",
      "Training (797 / 18000 Steps) (loss=0.85268): 100%|██████████| 7/7 [00:05<00:00,  1.28it/s]\n",
      "Validate (798 / 10 Steps): 100%|██████████| 2/2 [00:04<00:00,  2.14s/it]<00:06,  1.39s/it]\n",
      "Training (800 / 18000 Steps) (loss=0.86263):  43%|████▎     | 3/7 [00:08<00:12,  3.25s/it]"
     ]
    },
    {
     "name": "stdout",
     "output_type": "stream",
     "text": [
      "Model Was Saved ! Current Best Avg. Dice: 0.05939925089478493 Current Avg. Dice: 0.05939925089478493 Current Avg. tumor Dice: 0.11879850178956985 Current Avg. lymph Dice: 0.0\n"
     ]
    },
    {
     "name": "stderr",
     "output_type": "stream",
     "text": [
      "Training (804 / 18000 Steps) (loss=0.88148): 100%|██████████| 7/7 [00:10<00:00,  1.46s/it]\n",
      "Training (811 / 18000 Steps) (loss=0.81496): 100%|██████████| 7/7 [00:05<00:00,  1.24it/s]\n",
      "Training (818 / 18000 Steps) (loss=0.84359): 100%|██████████| 7/7 [00:07<00:00,  1.08s/it]\n",
      "Training (825 / 18000 Steps) (loss=0.89884): 100%|██████████| 7/7 [00:06<00:00,  1.02it/s]\n",
      "Training (832 / 18000 Steps) (loss=0.85303): 100%|██████████| 7/7 [00:07<00:00,  1.03s/it]\n",
      "Training (839 / 18000 Steps) (loss=0.84237): 100%|██████████| 7/7 [00:07<00:00,  1.03s/it]\n",
      "Training (846 / 18000 Steps) (loss=0.84590): 100%|██████████| 7/7 [00:07<00:00,  1.04s/it]\n",
      "Training (853 / 18000 Steps) (loss=0.84177): 100%|██████████| 7/7 [00:07<00:00,  1.06s/it]\n",
      "Training (860 / 18000 Steps) (loss=0.83043): 100%|██████████| 7/7 [00:08<00:00,  1.16s/it]\n",
      "Training (867 / 18000 Steps) (loss=0.83089): 100%|██████████| 7/7 [00:08<00:00,  1.17s/it]\n",
      "Training (874 / 18000 Steps) (loss=0.83139): 100%|██████████| 7/7 [00:08<00:00,  1.20s/it]\n",
      "Training (881 / 18000 Steps) (loss=0.82954): 100%|██████████| 7/7 [00:05<00:00,  1.22it/s]\n",
      "Training (888 / 18000 Steps) (loss=0.82318): 100%|██████████| 7/7 [00:05<00:00,  1.23it/s]\n",
      "Training (895 / 18000 Steps) (loss=0.82487): 100%|██████████| 7/7 [00:06<00:00,  1.09it/s]\n",
      "Validate (896 / 10 Steps): 100%|██████████| 2/2 [00:04<00:00,  2.12s/it]<00:02,  1.31it/s]\n",
      "Training (900 / 18000 Steps) (loss=0.85353):  71%|███████▏  | 5/7 [00:08<00:04,  2.19s/it]"
     ]
    },
    {
     "name": "stdout",
     "output_type": "stream",
     "text": [
      "Model Was Not Saved ! Current Best Avg. Dice: 0.05939925089478493 Current Avg. Dice: 0.041530631482601166 Current Avg. tumor Dice: 0.08306127041578293 Current Avg. lymph Dice: 0.0\n"
     ]
    },
    {
     "name": "stderr",
     "output_type": "stream",
     "text": [
      "Training (902 / 18000 Steps) (loss=0.83015): 100%|██████████| 7/7 [00:09<00:00,  1.38s/it]\n",
      "Training (909 / 18000 Steps) (loss=0.81937): 100%|██████████| 7/7 [00:05<00:00,  1.29it/s]\n",
      "Training (916 / 18000 Steps) (loss=0.81411): 100%|██████████| 7/7 [00:07<00:00,  1.01s/it]\n",
      "Training (923 / 18000 Steps) (loss=0.81660): 100%|██████████| 7/7 [00:08<00:00,  1.19s/it]\n",
      "Training (930 / 18000 Steps) (loss=0.82743): 100%|██████████| 7/7 [00:08<00:00,  1.21s/it]\n",
      "Training (937 / 18000 Steps) (loss=0.81999): 100%|██████████| 7/7 [00:08<00:00,  1.21s/it]\n",
      "Training (944 / 18000 Steps) (loss=0.81195): 100%|██████████| 7/7 [00:08<00:00,  1.17s/it]\n",
      "Training (951 / 18000 Steps) (loss=0.81121): 100%|██████████| 7/7 [00:08<00:00,  1.20s/it]\n",
      "Training (958 / 18000 Steps) (loss=0.82044): 100%|██████████| 7/7 [00:07<00:00,  1.11s/it]\n",
      "Training (965 / 18000 Steps) (loss=0.80991): 100%|██████████| 7/7 [00:07<00:00,  1.05s/it]\n",
      "Training (972 / 18000 Steps) (loss=0.80918): 100%|██████████| 7/7 [00:07<00:00,  1.06s/it]\n",
      "Training (979 / 18000 Steps) (loss=0.87858): 100%|██████████| 7/7 [00:06<00:00,  1.00it/s]\n",
      "Training (986 / 18000 Steps) (loss=0.79371): 100%|██████████| 7/7 [00:05<00:00,  1.25it/s]\n",
      "Training (993 / 18000 Steps) (loss=0.85505): 100%|██████████| 7/7 [00:07<00:00,  1.04s/it]\n",
      "Validate (994 / 10 Steps): 100%|██████████| 2/2 [00:04<00:00,  2.08s/it]5<00:00,  1.74it/s]\n",
      "Training (1000 / 18000 Steps) (loss=0.82918): 100%|██████████| 7/7 [00:09<00:00,  1.40s/it]\n"
     ]
    },
    {
     "name": "stdout",
     "output_type": "stream",
     "text": [
      "Model Was Not Saved ! Current Best Avg. Dice: 0.05939925089478493 Current Avg. Dice: 0.04597119241952896 Current Avg. tumor Dice: 0.09194238483905792 Current Avg. lymph Dice: 0.0\n"
     ]
    },
    {
     "name": "stderr",
     "output_type": "stream",
     "text": [
      "Training (1007 / 18000 Steps) (loss=0.81310): 100%|██████████| 7/7 [00:05<00:00,  1.25it/s]\n",
      "Training (1014 / 18000 Steps) (loss=0.75173): 100%|██████████| 7/7 [00:05<00:00,  1.30it/s]\n",
      "Training (1021 / 18000 Steps) (loss=0.79700): 100%|██████████| 7/7 [00:07<00:00,  1.08s/it]\n",
      "Training (1028 / 18000 Steps) (loss=0.86831): 100%|██████████| 7/7 [00:08<00:00,  1.22s/it]\n",
      "Training (1035 / 18000 Steps) (loss=0.82463): 100%|██████████| 7/7 [00:08<00:00,  1.20s/it]\n",
      "Training (1042 / 18000 Steps) (loss=0.79587): 100%|██████████| 7/7 [00:08<00:00,  1.21s/it]\n",
      "Training (1049 / 18000 Steps) (loss=0.80456): 100%|██████████| 7/7 [00:08<00:00,  1.16s/it]\n",
      "Training (1056 / 18000 Steps) (loss=0.76659): 100%|██████████| 7/7 [00:07<00:00,  1.10s/it]\n",
      "Training (1063 / 18000 Steps) (loss=0.77566): 100%|██████████| 7/7 [00:07<00:00,  1.05s/it]\n",
      "Training (1070 / 18000 Steps) (loss=0.81944): 100%|██████████| 7/7 [00:07<00:00,  1.03s/it]\n",
      "Training (1077 / 18000 Steps) (loss=0.83906): 100%|██████████| 7/7 [00:06<00:00,  1.00it/s]\n",
      "Training (1084 / 18000 Steps) (loss=0.79500): 100%|██████████| 7/7 [00:06<00:00,  1.01it/s]\n",
      "Training (1091 / 18000 Steps) (loss=0.77921): 100%|██████████| 7/7 [00:05<00:00,  1.20it/s]\n",
      "Training (1098 / 18000 Steps) (loss=0.87043): 100%|██████████| 7/7 [00:07<00:00,  1.08s/it]\n",
      "Validate (1099 / 10 Steps): 100%|██████████| 2/2 [00:04<00:00,  2.14s/it]<00:17,  2.91s/it]\n",
      "Training (1100 / 18000 Steps) (loss=0.76185):  29%|██▊       | 2/7 [00:08<00:22,  4.42s/it]"
     ]
    },
    {
     "name": "stdout",
     "output_type": "stream",
     "text": [
      "Model Was Saved ! Current Best Avg. Dice: 0.08478901535272598 Current Avg. Dice: 0.08478901535272598 Current Avg. tumor Dice: 0.16957803070545197 Current Avg. lymph Dice: 0.0\n"
     ]
    },
    {
     "name": "stderr",
     "output_type": "stream",
     "text": [
      "Training (1105 / 18000 Steps) (loss=0.78329): 100%|██████████| 7/7 [00:10<00:00,  1.49s/it]\n",
      "Training (1112 / 18000 Steps) (loss=0.93192): 100%|██████████| 7/7 [00:05<00:00,  1.27it/s]\n",
      "Training (1119 / 18000 Steps) (loss=0.79331): 100%|██████████| 7/7 [00:07<00:00,  1.02s/it]\n",
      "Training (1126 / 18000 Steps) (loss=0.73633): 100%|██████████| 7/7 [00:07<00:00,  1.13s/it]\n",
      "Training (1133 / 18000 Steps) (loss=0.80196): 100%|██████████| 7/7 [00:08<00:00,  1.22s/it]\n",
      "Training (1140 / 18000 Steps) (loss=0.77250): 100%|██████████| 7/7 [00:05<00:00,  1.26it/s]\n",
      "Training (1147 / 18000 Steps) (loss=0.80292): 100%|██████████| 7/7 [00:08<00:00,  1.15s/it]\n",
      "Training (1154 / 18000 Steps) (loss=0.75766): 100%|██████████| 7/7 [00:07<00:00,  1.13s/it]\n",
      "Training (1161 / 18000 Steps) (loss=0.79989): 100%|██████████| 7/7 [00:07<00:00,  1.12s/it]\n",
      "Training (1168 / 18000 Steps) (loss=0.80347): 100%|██████████| 7/7 [00:07<00:00,  1.06s/it]\n",
      "Training (1175 / 18000 Steps) (loss=0.78553): 100%|██████████| 7/7 [00:07<00:00,  1.06s/it]\n",
      "Training (1182 / 18000 Steps) (loss=0.82484): 100%|██████████| 7/7 [00:07<00:00,  1.03s/it]\n",
      "Training (1189 / 18000 Steps) (loss=0.80320): 100%|██████████| 7/7 [00:06<00:00,  1.00it/s]\n",
      "Training (1196 / 18000 Steps) (loss=0.73740): 100%|██████████| 7/7 [00:05<00:00,  1.22it/s]\n",
      "Validate (1197 / 10 Steps): 100%|██████████| 2/2 [00:04<00:00,  2.14s/it]<00:05,  1.27s/it]\n",
      "Training (1200 / 18000 Steps) (loss=0.77543):  57%|█████▋    | 4/7 [00:09<00:08,  2.74s/it]"
     ]
    },
    {
     "name": "stdout",
     "output_type": "stream",
     "text": [
      "Model Was Not Saved ! Current Best Avg. Dice: 0.08478901535272598 Current Avg. Dice: 0.07890607416629791 Current Avg. tumor Dice: 0.15781214833259583 Current Avg. lymph Dice: 0.0\n"
     ]
    },
    {
     "name": "stderr",
     "output_type": "stream",
     "text": [
      "Training (1203 / 18000 Steps) (loss=0.79639): 100%|██████████| 7/7 [00:10<00:00,  1.55s/it]\n",
      "Training (1210 / 18000 Steps) (loss=0.76796): 100%|██████████| 7/7 [00:05<00:00,  1.27it/s]\n",
      "Training (1217 / 18000 Steps) (loss=0.76168): 100%|██████████| 7/7 [00:05<00:00,  1.27it/s]\n",
      "Training (1224 / 18000 Steps) (loss=0.81112): 100%|██████████| 7/7 [00:05<00:00,  1.34it/s]\n",
      "Training (1231 / 18000 Steps) (loss=0.79228): 100%|██████████| 7/7 [00:07<00:00,  1.02s/it]\n",
      "Training (1238 / 18000 Steps) (loss=0.74402): 100%|██████████| 7/7 [00:07<00:00,  1.03s/it]\n",
      "Training (1245 / 18000 Steps) (loss=0.77701): 100%|██████████| 7/7 [00:07<00:00,  1.00s/it]\n",
      "Training (1252 / 18000 Steps) (loss=0.78580): 100%|██████████| 7/7 [00:07<00:00,  1.05s/it]\n",
      "Training (1259 / 18000 Steps) (loss=0.76015): 100%|██████████| 7/7 [00:07<00:00,  1.01s/it]\n",
      "Training (1266 / 18000 Steps) (loss=0.76234): 100%|██████████| 7/7 [00:07<00:00,  1.01s/it]\n",
      "Training (1273 / 18000 Steps) (loss=0.75112): 100%|██████████| 7/7 [00:07<00:00,  1.07s/it]\n",
      "Training (1280 / 18000 Steps) (loss=0.72668): 100%|██████████| 7/7 [00:07<00:00,  1.01s/it]\n",
      "Training (1287 / 18000 Steps) (loss=0.87795): 100%|██████████| 7/7 [00:07<00:00,  1.04s/it]\n",
      "Training (1294 / 18000 Steps) (loss=0.80578): 100%|██████████| 7/7 [00:06<00:00,  1.15it/s]\n",
      "Validate (1295 / 10 Steps): 100%|██████████| 2/2 [00:04<00:00,  2.30s/it]<00:01,  1.07it/s]\n",
      "Training (1300 / 18000 Steps) (loss=0.73982):  86%|████████▌ | 6/7 [00:12<00:02,  2.65s/it]"
     ]
    },
    {
     "name": "stdout",
     "output_type": "stream",
     "text": [
      "Model Was Saved ! Current Best Avg. Dice: 0.09047265350818634 Current Avg. Dice: 0.09047265350818634 Current Avg. tumor Dice: 0.18094530701637268 Current Avg. lymph Dice: 0.0\n"
     ]
    },
    {
     "name": "stderr",
     "output_type": "stream",
     "text": [
      "Training (1301 / 18000 Steps) (loss=0.75946): 100%|██████████| 7/7 [00:12<00:00,  1.77s/it]\n",
      "Training (1308 / 18000 Steps) (loss=0.76409): 100%|██████████| 7/7 [00:05<00:00,  1.32it/s]\n",
      "Training (1315 / 18000 Steps) (loss=0.78457): 100%|██████████| 7/7 [00:05<00:00,  1.30it/s]\n",
      "Training (1322 / 18000 Steps) (loss=0.74052): 100%|██████████| 7/7 [00:05<00:00,  1.34it/s]\n",
      "Training (1329 / 18000 Steps) (loss=0.79210): 100%|██████████| 7/7 [00:05<00:00,  1.34it/s]\n",
      "Training (1336 / 18000 Steps) (loss=0.73910): 100%|██████████| 7/7 [00:07<00:00,  1.10s/it]\n",
      "Training (1343 / 18000 Steps) (loss=0.76649): 100%|██████████| 7/7 [00:07<00:00,  1.07s/it]\n",
      "Training (1350 / 18000 Steps) (loss=0.78071): 100%|██████████| 7/7 [00:07<00:00,  1.07s/it]\n",
      "Training (1357 / 18000 Steps) (loss=0.75742): 100%|██████████| 7/7 [00:07<00:00,  1.04s/it]\n",
      "Training (1364 / 18000 Steps) (loss=0.73451): 100%|██████████| 7/7 [00:07<00:00,  1.02s/it]\n",
      "Training (1371 / 18000 Steps) (loss=0.74810): 100%|██████████| 7/7 [00:07<00:00,  1.02s/it]\n",
      "Training (1378 / 18000 Steps) (loss=0.70212): 100%|██████████| 7/7 [00:07<00:00,  1.01s/it]\n",
      "Training (1385 / 18000 Steps) (loss=0.77344): 100%|██████████| 7/7 [00:06<00:00,  1.01it/s]\n",
      "Training (1392 / 18000 Steps) (loss=0.84931): 100%|██████████| 7/7 [00:07<00:00,  1.04s/it]\n",
      "Training (1399 / 18000 Steps) (loss=0.73840): 100%|██████████| 7/7 [00:06<00:00,  1.02it/s]\n",
      "Validate (1400 / 10 Steps): 100%|██████████| 2/2 [00:05<00:00,  2.82s/it]<?, ?it/s]\n",
      "Training (1400 / 18000 Steps) (loss=0.76944):  14%|█▍        | 1/7 [00:08<00:53,  8.94s/it]"
     ]
    },
    {
     "name": "stdout",
     "output_type": "stream",
     "text": [
      "Model Was Not Saved ! Current Best Avg. Dice: 0.09047265350818634 Current Avg. Dice: 0.07393534481525421 Current Avg. tumor Dice: 0.14787067472934723 Current Avg. lymph Dice: 0.0\n"
     ]
    },
    {
     "name": "stderr",
     "output_type": "stream",
     "text": [
      "Training (1406 / 18000 Steps) (loss=0.71320): 100%|██████████| 7/7 [00:12<00:00,  1.73s/it]\n",
      "Training (1413 / 18000 Steps) (loss=0.78905): 100%|██████████| 7/7 [00:05<00:00,  1.31it/s]\n",
      "Training (1420 / 18000 Steps) (loss=0.84614): 100%|██████████| 7/7 [00:05<00:00,  1.28it/s]\n",
      "Training (1427 / 18000 Steps) (loss=0.79568): 100%|██████████| 7/7 [00:05<00:00,  1.32it/s]\n",
      "Training (1434 / 18000 Steps) (loss=0.80798): 100%|██████████| 7/7 [00:07<00:00,  1.03s/it]\n",
      "Training (1441 / 18000 Steps) (loss=0.72495): 100%|██████████| 7/7 [00:07<00:00,  1.02s/it]\n",
      "Training (1448 / 18000 Steps) (loss=0.72024): 100%|██████████| 7/7 [00:08<00:00,  1.15s/it]\n",
      "Training (1455 / 18000 Steps) (loss=0.74045): 100%|██████████| 7/7 [00:08<00:00,  1.22s/it]\n",
      "Training (1462 / 18000 Steps) (loss=0.76331): 100%|██████████| 7/7 [00:08<00:00,  1.23s/it]\n",
      "Training (1469 / 18000 Steps) (loss=0.76527): 100%|██████████| 7/7 [00:08<00:00,  1.19s/it]\n",
      "Training (1476 / 18000 Steps) (loss=0.71800): 100%|██████████| 7/7 [00:08<00:00,  1.18s/it]\n",
      "Training (1483 / 18000 Steps) (loss=0.69857): 100%|██████████| 7/7 [00:07<00:00,  1.13s/it]\n",
      "Training (1490 / 18000 Steps) (loss=0.75846): 100%|██████████| 7/7 [00:07<00:00,  1.11s/it]\n",
      "Training (1497 / 18000 Steps) (loss=0.68713): 100%|██████████| 7/7 [00:07<00:00,  1.07s/it]\n",
      "Validate (1498 / 10 Steps): 100%|██████████| 2/2 [00:05<00:00,  2.69s/it]<00:07,  1.56s/it]\n",
      "Training (1500 / 18000 Steps) (loss=0.71029):  43%|████▎     | 3/7 [00:10<00:15,  3.85s/it]"
     ]
    },
    {
     "name": "stdout",
     "output_type": "stream",
     "text": [
      "Model Was Saved ! Current Best Avg. Dice: 0.09750574082136154 Current Avg. Dice: 0.09750574082136154 Current Avg. tumor Dice: 0.19501149654388428 Current Avg. lymph Dice: 0.0\n"
     ]
    },
    {
     "name": "stderr",
     "output_type": "stream",
     "text": [
      "Training (1504 / 18000 Steps) (loss=0.78623): 100%|██████████| 7/7 [00:12<00:00,  1.79s/it]\n",
      "Training (1511 / 18000 Steps) (loss=0.77933): 100%|██████████| 7/7 [00:05<00:00,  1.31it/s]\n",
      "Training (1518 / 18000 Steps) (loss=0.70453): 100%|██████████| 7/7 [00:05<00:00,  1.34it/s]\n",
      "Training (1525 / 18000 Steps) (loss=0.73038): 100%|██████████| 7/7 [00:05<00:00,  1.24it/s]\n",
      "Training (1532 / 18000 Steps) (loss=0.71758): 100%|██████████| 7/7 [00:06<00:00,  1.15it/s]\n",
      "Training (1539 / 18000 Steps) (loss=0.69133): 100%|██████████| 7/7 [00:07<00:00,  1.04s/it]\n",
      "Training (1546 / 18000 Steps) (loss=0.74683): 100%|██████████| 7/7 [00:07<00:00,  1.04s/it]\n",
      "Training (1553 / 18000 Steps) (loss=0.74377): 100%|██████████| 7/7 [00:06<00:00,  1.01it/s]\n",
      "Training (1560 / 18000 Steps) (loss=0.75141): 100%|██████████| 7/7 [00:07<00:00,  1.00s/it]\n",
      "Training (1567 / 18000 Steps) (loss=0.68932): 100%|██████████| 7/7 [00:07<00:00,  1.00s/it]\n",
      "Training (1574 / 18000 Steps) (loss=0.75664): 100%|██████████| 7/7 [00:07<00:00,  1.08s/it]\n",
      "Training (1581 / 18000 Steps) (loss=0.68090): 100%|██████████| 7/7 [00:07<00:00,  1.09s/it]\n",
      "Training (1588 / 18000 Steps) (loss=0.70369): 100%|██████████| 7/7 [00:08<00:00,  1.22s/it]\n",
      "Training (1595 / 18000 Steps) (loss=0.68798): 100%|██████████| 7/7 [00:08<00:00,  1.25s/it]\n",
      "Validate (1596 / 10 Steps): 100%|██████████| 2/2 [00:05<00:00,  2.73s/it]<00:02,  1.30it/s]\n",
      "Training (1600 / 18000 Steps) (loss=0.70471):  71%|███████▏  | 5/7 [00:10<00:05,  2.63s/it]"
     ]
    },
    {
     "name": "stdout",
     "output_type": "stream",
     "text": [
      "Model Was Not Saved ! Current Best Avg. Dice: 0.09750574082136154 Current Avg. Dice: 0.08511251211166382 Current Avg. tumor Dice: 0.16957439482212067 Current Avg. lymph Dice: 0.0006506235804408789\n"
     ]
    },
    {
     "name": "stderr",
     "output_type": "stream",
     "text": [
      "Training (1602 / 18000 Steps) (loss=0.72720): 100%|██████████| 7/7 [00:11<00:00,  1.61s/it]\n",
      "Training (1609 / 18000 Steps) (loss=0.72256): 100%|██████████| 7/7 [00:05<00:00,  1.27it/s]\n",
      "Training (1616 / 18000 Steps) (loss=0.68834): 100%|██████████| 7/7 [00:05<00:00,  1.31it/s]\n",
      "Training (1623 / 18000 Steps) (loss=0.75667): 100%|██████████| 7/7 [00:05<00:00,  1.25it/s]\n",
      "Training (1630 / 18000 Steps) (loss=0.71976): 100%|██████████| 7/7 [00:05<00:00,  1.28it/s]\n",
      "Training (1637 / 18000 Steps) (loss=0.72136): 100%|██████████| 7/7 [00:05<00:00,  1.28it/s]\n",
      "Training (1644 / 18000 Steps) (loss=0.76727): 100%|██████████| 7/7 [00:07<00:00,  1.02s/it]\n",
      "Training (1651 / 18000 Steps) (loss=0.72526): 100%|██████████| 7/7 [00:07<00:00,  1.03s/it]\n",
      "Training (1658 / 18000 Steps) (loss=0.74897): 100%|██████████| 7/7 [00:07<00:00,  1.02s/it]\n",
      "Training (1665 / 18000 Steps) (loss=0.67085): 100%|██████████| 7/7 [00:07<00:00,  1.03s/it]\n",
      "Training (1672 / 18000 Steps) (loss=0.71803): 100%|██████████| 7/7 [00:07<00:00,  1.02s/it]\n",
      "Training (1679 / 18000 Steps) (loss=0.65457): 100%|██████████| 7/7 [00:07<00:00,  1.07s/it]\n",
      "Training (1686 / 18000 Steps) (loss=0.65448): 100%|██████████| 7/7 [00:07<00:00,  1.03s/it]\n",
      "Training (1693 / 18000 Steps) (loss=0.72769): 100%|██████████| 7/7 [00:07<00:00,  1.04s/it]\n",
      "Validate (1694 / 10 Steps): 100%|██████████| 2/2 [00:05<00:00,  2.55s/it]<00:00,  1.10it/s]\n",
      "Training (1700 / 18000 Steps) (loss=0.68365): 100%|██████████| 7/7 [00:13<00:00,  1.86s/it]\n"
     ]
    },
    {
     "name": "stdout",
     "output_type": "stream",
     "text": [
      "Model Was Saved ! Current Best Avg. Dice: 0.11228272318840027 Current Avg. Dice: 0.11228272318840027 Current Avg. tumor Dice: 0.1550733745098114 Current Avg. lymph Dice: 0.06949207186698914\n"
     ]
    },
    {
     "name": "stderr",
     "output_type": "stream",
     "text": [
      "Training (1707 / 18000 Steps) (loss=0.73197): 100%|██████████| 7/7 [00:05<00:00,  1.22it/s]\n",
      "Training (1714 / 18000 Steps) (loss=0.71512): 100%|██████████| 7/7 [00:07<00:00,  1.04s/it]\n",
      "Training (1721 / 18000 Steps) (loss=0.67226): 100%|██████████| 7/7 [00:05<00:00,  1.24it/s]\n",
      "Training (1728 / 18000 Steps) (loss=0.70310): 100%|██████████| 7/7 [00:05<00:00,  1.26it/s]\n",
      "Training (1735 / 18000 Steps) (loss=0.77883): 100%|██████████| 7/7 [00:05<00:00,  1.24it/s]\n",
      "Training (1742 / 18000 Steps) (loss=0.74084): 100%|██████████| 7/7 [00:06<00:00,  1.07it/s]\n",
      "Training (1749 / 18000 Steps) (loss=0.72298): 100%|██████████| 7/7 [00:07<00:00,  1.01s/it]\n",
      "Training (1756 / 18000 Steps) (loss=0.74293): 100%|██████████| 7/7 [00:07<00:00,  1.05s/it]\n",
      "Training (1763 / 18000 Steps) (loss=0.75299): 100%|██████████| 7/7 [00:07<00:00,  1.06s/it]\n",
      "Training (1770 / 18000 Steps) (loss=0.67725): 100%|██████████| 7/7 [00:08<00:00,  1.20s/it]\n",
      "Training (1777 / 18000 Steps) (loss=0.68196): 100%|██████████| 7/7 [00:08<00:00,  1.21s/it]\n",
      "Training (1784 / 18000 Steps) (loss=0.65588): 100%|██████████| 7/7 [00:08<00:00,  1.22s/it]\n",
      "Training (1791 / 18000 Steps) (loss=0.66269): 100%|██████████| 7/7 [00:08<00:00,  1.23s/it]\n",
      "Training (1798 / 18000 Steps) (loss=0.68652): 100%|██████████| 7/7 [00:08<00:00,  1.15s/it]\n",
      "Validate (1799 / 10 Steps): 100%|██████████| 2/2 [00:04<00:00,  2.42s/it]<00:21,  3.61s/it]\n",
      "Training (1800 / 18000 Steps) (loss=0.69327):  29%|██▊       | 2/7 [00:09<00:24,  4.85s/it]"
     ]
    },
    {
     "name": "stdout",
     "output_type": "stream",
     "text": [
      "Model Was Not Saved ! Current Best Avg. Dice: 0.11228272318840027 Current Avg. Dice: 0.11005187034606934 Current Avg. tumor Dice: 0.1842706799507141 Current Avg. lymph Dice: 0.035833071917295456\n"
     ]
    },
    {
     "name": "stderr",
     "output_type": "stream",
     "text": [
      "Training (1805 / 18000 Steps) (loss=0.72055): 100%|██████████| 7/7 [00:11<00:00,  1.62s/it]\n",
      "Training (1812 / 18000 Steps) (loss=0.67747): 100%|██████████| 7/7 [00:07<00:00,  1.05s/it]\n",
      "Training (1819 / 18000 Steps) (loss=0.65040): 100%|██████████| 7/7 [00:05<00:00,  1.28it/s]\n",
      "Training (1826 / 18000 Steps) (loss=0.73241): 100%|██████████| 7/7 [00:05<00:00,  1.29it/s]\n",
      "Training (1833 / 18000 Steps) (loss=0.72965): 100%|██████████| 7/7 [00:05<00:00,  1.22it/s]\n",
      "Training (1840 / 18000 Steps) (loss=0.74741): 100%|██████████| 7/7 [00:05<00:00,  1.30it/s]\n",
      "Training (1847 / 18000 Steps) (loss=0.69024): 100%|██████████| 7/7 [00:05<00:00,  1.17it/s]\n",
      "Training (1854 / 18000 Steps) (loss=0.74790): 100%|██████████| 7/7 [00:07<00:00,  1.00s/it]\n",
      "Training (1861 / 18000 Steps) (loss=0.63246): 100%|██████████| 7/7 [00:07<00:00,  1.02s/it]\n",
      "Training (1868 / 18000 Steps) (loss=0.64752): 100%|██████████| 7/7 [00:07<00:00,  1.01s/it]\n",
      "Training (1875 / 18000 Steps) (loss=0.62624): 100%|██████████| 7/7 [00:07<00:00,  1.03s/it]\n",
      "Training (1882 / 18000 Steps) (loss=0.67552): 100%|██████████| 7/7 [00:07<00:00,  1.01s/it]\n",
      "Training (1889 / 18000 Steps) (loss=0.61245): 100%|██████████| 7/7 [00:06<00:00,  1.00it/s]\n",
      "Training (1896 / 18000 Steps) (loss=0.65905): 100%|██████████| 7/7 [00:07<00:00,  1.06s/it]\n",
      "Validate (1897 / 10 Steps): 100%|██████████| 2/2 [00:05<00:00,  2.97s/it]<00:04,  1.04s/it]\n",
      "Training (1900 / 18000 Steps) (loss=0.69334):  57%|█████▋    | 4/7 [00:11<00:10,  3.62s/it]"
     ]
    },
    {
     "name": "stdout",
     "output_type": "stream",
     "text": [
      "Model Was Saved ! Current Best Avg. Dice: 0.163793683052063 Current Avg. Dice: 0.163793683052063 Current Avg. tumor Dice: 0.19701507687568665 Current Avg. lymph Dice: 0.13057227432727814\n"
     ]
    },
    {
     "name": "stderr",
     "output_type": "stream",
     "text": [
      "Training (1903 / 18000 Steps) (loss=0.67741): 100%|██████████| 7/7 [00:13<00:00,  1.96s/it]\n",
      "Training (1910 / 18000 Steps) (loss=0.69217): 100%|██████████| 7/7 [00:06<00:00,  1.08it/s]\n",
      "Training (1917 / 18000 Steps) (loss=0.63213): 100%|██████████| 7/7 [00:06<00:00,  1.14it/s]\n",
      "Training (1924 / 18000 Steps) (loss=0.70664): 100%|██████████| 7/7 [00:07<00:00,  1.04s/it]\n",
      "Training (1931 / 18000 Steps) (loss=0.70310): 100%|██████████| 7/7 [00:05<00:00,  1.19it/s]\n",
      "Training (1938 / 18000 Steps) (loss=0.72073): 100%|██████████| 7/7 [00:05<00:00,  1.32it/s]\n",
      "Training (1945 / 18000 Steps) (loss=0.79146): 100%|██████████| 7/7 [00:05<00:00,  1.31it/s]\n",
      "Training (1952 / 18000 Steps) (loss=0.68421): 100%|██████████| 7/7 [00:05<00:00,  1.19it/s]\n",
      "Training (1959 / 18000 Steps) (loss=0.71128): 100%|██████████| 7/7 [00:07<00:00,  1.02s/it]\n",
      "Training (1966 / 18000 Steps) (loss=0.69325): 100%|██████████| 7/7 [00:07<00:00,  1.04s/it]\n",
      "Training (1973 / 18000 Steps) (loss=0.66677): 100%|██████████| 7/7 [00:07<00:00,  1.02s/it]\n",
      "Training (1980 / 18000 Steps) (loss=0.72924): 100%|██████████| 7/7 [00:07<00:00,  1.06s/it]\n",
      "Training (1987 / 18000 Steps) (loss=0.73632): 100%|██████████| 7/7 [00:07<00:00,  1.01s/it]\n",
      "Training (1994 / 18000 Steps) (loss=0.66471): 100%|██████████| 7/7 [00:07<00:00,  1.13s/it]\n",
      "Validate (1995 / 10 Steps): 100%|██████████| 2/2 [00:05<00:00,  2.77s/it]<00:02,  1.06s/it]\n",
      "Training (2000 / 18000 Steps) (loss=0.69938):  86%|████████▌ | 6/7 [00:13<00:03,  3.14s/it]"
     ]
    },
    {
     "name": "stdout",
     "output_type": "stream",
     "text": [
      "Model Was Saved ! Current Best Avg. Dice: 0.20698338747024536 Current Avg. Dice: 0.20698338747024536 Current Avg. tumor Dice: 0.24914264678955078 Current Avg. lymph Dice: 0.16482415795326233\n"
     ]
    },
    {
     "name": "stderr",
     "output_type": "stream",
     "text": [
      "Training (2001 / 18000 Steps) (loss=0.70358): 100%|██████████| 7/7 [00:14<00:00,  2.05s/it]\n",
      "Training (2008 / 18000 Steps) (loss=0.57536): 100%|██████████| 7/7 [00:07<00:00,  1.07s/it]\n",
      "Training (2015 / 18000 Steps) (loss=0.67515): 100%|██████████| 7/7 [00:05<00:00,  1.18it/s]\n",
      "Training (2022 / 18000 Steps) (loss=0.65165): 100%|██████████| 7/7 [00:06<00:00,  1.00it/s]\n",
      "Training (2029 / 18000 Steps) (loss=0.69329): 100%|██████████| 7/7 [00:05<00:00,  1.19it/s]\n",
      "Training (2036 / 18000 Steps) (loss=0.68517): 100%|██████████| 7/7 [00:05<00:00,  1.32it/s]\n",
      "Training (2043 / 18000 Steps) (loss=0.74728): 100%|██████████| 7/7 [00:05<00:00,  1.29it/s]\n",
      "Training (2050 / 18000 Steps) (loss=0.64154): 100%|██████████| 7/7 [00:05<00:00,  1.27it/s]\n",
      "Training (2057 / 18000 Steps) (loss=0.67720): 100%|██████████| 7/7 [00:08<00:00,  1.20s/it]\n",
      "Training (2064 / 18000 Steps) (loss=0.70339): 100%|██████████| 7/7 [00:08<00:00,  1.20s/it]\n",
      "Training (2071 / 18000 Steps) (loss=0.71907): 100%|██████████| 7/7 [00:08<00:00,  1.21s/it]\n",
      "Training (2078 / 18000 Steps) (loss=0.68652): 100%|██████████| 7/7 [00:08<00:00,  1.18s/it]\n",
      "Training (2085 / 18000 Steps) (loss=0.64989): 100%|██████████| 7/7 [00:08<00:00,  1.16s/it]\n",
      "Training (2092 / 18000 Steps) (loss=0.68415): 100%|██████████| 7/7 [00:07<00:00,  1.12s/it]\n",
      "Training (2099 / 18000 Steps) (loss=0.60292): 100%|██████████| 7/7 [00:07<00:00,  1.08s/it]\n",
      "Validate (2100 / 10 Steps): 100%|██████████| 2/2 [00:05<00:00,  2.99s/it]<?, ?it/s]\n",
      "Training (2100 / 18000 Steps) (loss=0.65472):  14%|█▍        | 1/7 [00:10<01:03, 10.55s/it]"
     ]
    },
    {
     "name": "stdout",
     "output_type": "stream",
     "text": [
      "Model Was Saved ! Current Best Avg. Dice: 0.21879170835018158 Current Avg. Dice: 0.21879170835018158 Current Avg. tumor Dice: 0.2331313192844391 Current Avg. lymph Dice: 0.20445212721824646\n"
     ]
    },
    {
     "name": "stderr",
     "output_type": "stream",
     "text": [
      "Training (2106 / 18000 Steps) (loss=0.57135): 100%|██████████| 7/7 [00:14<00:00,  2.07s/it]\n",
      "Training (2113 / 18000 Steps) (loss=0.71678): 100%|██████████| 7/7 [00:07<00:00,  1.04s/it]\n",
      "Training (2120 / 18000 Steps) (loss=0.58296): 100%|██████████| 7/7 [00:05<00:00,  1.19it/s]\n",
      "Training (2127 / 18000 Steps) (loss=0.69814): 100%|██████████| 7/7 [00:07<00:00,  1.06s/it]\n",
      "Training (2134 / 18000 Steps) (loss=0.65557): 100%|██████████| 7/7 [00:05<00:00,  1.26it/s]\n",
      "Training (2141 / 18000 Steps) (loss=0.61951): 100%|██████████| 7/7 [00:05<00:00,  1.33it/s]\n",
      "Training (2148 / 18000 Steps) (loss=0.63261): 100%|██████████| 7/7 [00:05<00:00,  1.32it/s]\n",
      "Training (2155 / 18000 Steps) (loss=0.59224): 100%|██████████| 7/7 [00:06<00:00,  1.06it/s]\n",
      "Training (2162 / 18000 Steps) (loss=0.71821): 100%|██████████| 7/7 [00:07<00:00,  1.01s/it]\n",
      "Training (2169 / 18000 Steps) (loss=0.67395): 100%|██████████| 7/7 [00:07<00:00,  1.03s/it]\n",
      "Training (2176 / 18000 Steps) (loss=0.58175): 100%|██████████| 7/7 [00:07<00:00,  1.08s/it]\n",
      "Training (2183 / 18000 Steps) (loss=0.62091): 100%|██████████| 7/7 [00:07<00:00,  1.10s/it]\n",
      "Training (2190 / 18000 Steps) (loss=0.65863): 100%|██████████| 7/7 [00:08<00:00,  1.15s/it]\n",
      "Training (2197 / 18000 Steps) (loss=0.67161): 100%|██████████| 7/7 [00:08<00:00,  1.20s/it]\n",
      "Validate (2198 / 10 Steps): 100%|██████████| 2/2 [00:05<00:00,  2.63s/it]<00:09,  2.00s/it]\n",
      "Training (2200 / 18000 Steps) (loss=0.69890):  43%|████▎     | 3/7 [00:10<00:15,  3.90s/it]"
     ]
    },
    {
     "name": "stdout",
     "output_type": "stream",
     "text": [
      "Model Was Not Saved ! Current Best Avg. Dice: 0.21879170835018158 Current Avg. Dice: 0.1478206217288971 Current Avg. tumor Dice: 0.1372738629579544 Current Avg. lymph Dice: 0.15836739540100098\n"
     ]
    },
    {
     "name": "stderr",
     "output_type": "stream",
     "text": [
      "Training (2204 / 18000 Steps) (loss=0.68007): 100%|██████████| 7/7 [00:13<00:00,  1.96s/it]\n",
      "Training (2211 / 18000 Steps) (loss=0.67537): 100%|██████████| 7/7 [00:08<00:00,  1.23s/it]\n",
      "Training (2218 / 18000 Steps) (loss=0.66279): 100%|██████████| 7/7 [00:05<00:00,  1.17it/s]\n",
      "Training (2225 / 18000 Steps) (loss=0.56767): 100%|██████████| 7/7 [00:07<00:00,  1.02s/it]\n",
      "Training (2232 / 18000 Steps) (loss=0.70911): 100%|██████████| 7/7 [00:05<00:00,  1.27it/s]\n",
      "Training (2239 / 18000 Steps) (loss=0.63903): 100%|██████████| 7/7 [00:05<00:00,  1.26it/s]\n",
      "Training (2246 / 18000 Steps) (loss=0.70617): 100%|██████████| 7/7 [00:05<00:00,  1.28it/s]\n",
      "Training (2253 / 18000 Steps) (loss=0.58459): 100%|██████████| 7/7 [00:05<00:00,  1.29it/s]\n",
      "Training (2260 / 18000 Steps) (loss=0.60074): 100%|██████████| 7/7 [00:05<00:00,  1.30it/s]\n",
      "Training (2267 / 18000 Steps) (loss=0.69885): 100%|██████████| 7/7 [00:08<00:00,  1.18s/it]\n",
      "Training (2274 / 18000 Steps) (loss=0.55804): 100%|██████████| 7/7 [00:08<00:00,  1.17s/it]\n",
      "Training (2281 / 18000 Steps) (loss=0.61065): 100%|██████████| 7/7 [00:08<00:00,  1.23s/it]\n",
      "Training (2288 / 18000 Steps) (loss=0.67063): 100%|██████████| 7/7 [00:08<00:00,  1.19s/it]\n",
      "Training (2295 / 18000 Steps) (loss=0.54501): 100%|██████████| 7/7 [00:07<00:00,  1.12s/it]\n",
      "Validate (2296 / 10 Steps): 100%|██████████| 2/2 [00:06<00:00,  3.24s/it]<00:03,  1.24s/it]\n",
      "Training (2300 / 18000 Steps) (loss=0.64214):  71%|███████▏  | 5/7 [00:13<00:06,  3.44s/it]"
     ]
    },
    {
     "name": "stdout",
     "output_type": "stream",
     "text": [
      "Model Was Not Saved ! Current Best Avg. Dice: 0.21879170835018158 Current Avg. Dice: 0.18431468307971954 Current Avg. tumor Dice: 0.17535775899887085 Current Avg. lymph Dice: 0.19327162206172943\n"
     ]
    },
    {
     "name": "stderr",
     "output_type": "stream",
     "text": [
      "Training (2302 / 18000 Steps) (loss=0.68101): 100%|██████████| 7/7 [00:14<00:00,  2.14s/it]\n",
      "Training (2309 / 18000 Steps) (loss=0.63670): 100%|██████████| 7/7 [00:08<00:00,  1.18s/it]\n",
      "Training (2316 / 18000 Steps) (loss=0.62692): 100%|██████████| 7/7 [00:08<00:00,  1.14s/it]\n",
      "Training (2323 / 18000 Steps) (loss=0.71635): 100%|██████████| 7/7 [00:07<00:00,  1.13s/it]\n",
      "Training (2330 / 18000 Steps) (loss=0.62593): 100%|██████████| 7/7 [00:05<00:00,  1.22it/s]\n",
      "Training (2337 / 18000 Steps) (loss=0.63237): 100%|██████████| 7/7 [00:06<00:00,  1.08it/s]\n",
      "Training (2344 / 18000 Steps) (loss=0.68345): 100%|██████████| 7/7 [00:05<00:00,  1.26it/s]\n",
      "Training (2351 / 18000 Steps) (loss=0.57826): 100%|██████████| 7/7 [00:05<00:00,  1.24it/s]\n",
      "Training (2358 / 18000 Steps) (loss=0.64412): 100%|██████████| 7/7 [00:05<00:00,  1.23it/s]\n",
      "Training (2365 / 18000 Steps) (loss=0.63845): 100%|██████████| 7/7 [00:05<00:00,  1.27it/s]\n",
      "Training (2372 / 18000 Steps) (loss=0.57191): 100%|██████████| 7/7 [00:08<00:00,  1.15s/it]\n",
      "Training (2379 / 18000 Steps) (loss=0.67255): 100%|██████████| 7/7 [00:07<00:00,  1.10s/it]\n",
      "Training (2386 / 18000 Steps) (loss=0.59119): 100%|██████████| 7/7 [00:07<00:00,  1.09s/it]\n",
      "Training (2393 / 18000 Steps) (loss=0.60378): 100%|██████████| 7/7 [00:07<00:00,  1.04s/it]\n",
      "Validate (2394 / 10 Steps): 100%|██████████| 2/2 [00:06<00:00,  3.12s/it]<00:00,  1.40it/s]\n",
      "Training (2400 / 18000 Steps) (loss=0.68597): 100%|██████████| 7/7 [00:13<00:00,  1.93s/it]\n"
     ]
    },
    {
     "name": "stdout",
     "output_type": "stream",
     "text": [
      "Model Was Not Saved ! Current Best Avg. Dice: 0.21879170835018158 Current Avg. Dice: 0.1983051747083664 Current Avg. tumor Dice: 0.2387167513370514 Current Avg. lymph Dice: 0.1578935980796814\n"
     ]
    },
    {
     "name": "stderr",
     "output_type": "stream",
     "text": [
      "Training (2407 / 18000 Steps) (loss=0.65989): 100%|██████████| 7/7 [00:07<00:00,  1.11s/it]\n",
      "Training (2414 / 18000 Steps) (loss=0.63781): 100%|██████████| 7/7 [00:07<00:00,  1.05s/it]\n",
      "Training (2421 / 18000 Steps) (loss=0.62732): 100%|██████████| 7/7 [00:07<00:00,  1.06s/it]\n",
      "Training (2428 / 18000 Steps) (loss=0.66855): 100%|██████████| 7/7 [00:07<00:00,  1.04s/it]\n",
      "Training (2435 / 18000 Steps) (loss=0.60680): 100%|██████████| 7/7 [00:05<00:00,  1.21it/s]\n",
      "Training (2442 / 18000 Steps) (loss=0.56228): 100%|██████████| 7/7 [00:07<00:00,  1.01s/it]\n",
      "Training (2449 / 18000 Steps) (loss=0.65614): 100%|██████████| 7/7 [00:05<00:00,  1.31it/s]\n",
      "Training (2456 / 18000 Steps) (loss=0.57250): 100%|██████████| 7/7 [00:05<00:00,  1.27it/s]\n",
      "Training (2463 / 18000 Steps) (loss=0.63373): 100%|██████████| 7/7 [00:05<00:00,  1.29it/s]\n",
      "Training (2470 / 18000 Steps) (loss=0.65314): 100%|██████████| 7/7 [00:05<00:00,  1.26it/s]\n",
      "Training (2477 / 18000 Steps) (loss=0.69593): 100%|██████████| 7/7 [00:07<00:00,  1.04s/it]\n",
      "Training (2484 / 18000 Steps) (loss=0.62479): 100%|██████████| 7/7 [00:07<00:00,  1.06s/it]\n",
      "Training (2491 / 18000 Steps) (loss=0.63670): 100%|██████████| 7/7 [00:07<00:00,  1.02s/it]\n",
      "Training (2498 / 18000 Steps) (loss=0.64816): 100%|██████████| 7/7 [00:07<00:00,  1.02s/it]\n",
      "Validate (2499 / 10 Steps): 100%|██████████| 2/2 [00:06<00:00,  3.27s/it]<00:23,  3.88s/it]\n",
      "Training (2500 / 18000 Steps) (loss=0.69215):  29%|██▊       | 2/7 [00:12<00:32,  6.40s/it]"
     ]
    },
    {
     "name": "stdout",
     "output_type": "stream",
     "text": [
      "Model Was Saved ! Current Best Avg. Dice: 0.24335165321826935 Current Avg. Dice: 0.24335165321826935 Current Avg. tumor Dice: 0.27879980206489563 Current Avg. lymph Dice: 0.20790348947048187\n"
     ]
    },
    {
     "name": "stderr",
     "output_type": "stream",
     "text": [
      "Training (2505 / 18000 Steps) (loss=0.68579): 100%|██████████| 7/7 [00:14<00:00,  2.09s/it]\n",
      "Training (2512 / 18000 Steps) (loss=0.55714): 100%|██████████| 7/7 [00:07<00:00,  1.02s/it]\n",
      "Training (2519 / 18000 Steps) (loss=0.62807): 100%|██████████| 7/7 [00:07<00:00,  1.02s/it]\n",
      "Training (2526 / 18000 Steps) (loss=0.66320): 100%|██████████| 7/7 [00:07<00:00,  1.02s/it]\n",
      "Training (2533 / 18000 Steps) (loss=0.64793): 100%|██████████| 7/7 [00:06<00:00,  1.00it/s]\n",
      "Training (2540 / 18000 Steps) (loss=0.60107): 100%|██████████| 7/7 [00:05<00:00,  1.18it/s]\n",
      "Training (2547 / 18000 Steps) (loss=0.55029): 100%|██████████| 7/7 [00:07<00:00,  1.02s/it]\n",
      "Training (2554 / 18000 Steps) (loss=0.61739): 100%|██████████| 7/7 [00:05<00:00,  1.24it/s]\n",
      "Training (2561 / 18000 Steps) (loss=0.71526): 100%|██████████| 7/7 [00:05<00:00,  1.21it/s]\n",
      "Training (2568 / 18000 Steps) (loss=0.62848): 100%|██████████| 7/7 [00:05<00:00,  1.25it/s]\n",
      "Training (2575 / 18000 Steps) (loss=0.64754): 100%|██████████| 7/7 [00:05<00:00,  1.28it/s]\n",
      "Training (2582 / 18000 Steps) (loss=0.60651): 100%|██████████| 7/7 [00:07<00:00,  1.03s/it]\n",
      "Training (2589 / 18000 Steps) (loss=0.62139): 100%|██████████| 7/7 [00:07<00:00,  1.04s/it]\n",
      "Training (2596 / 18000 Steps) (loss=0.72204): 100%|██████████| 7/7 [00:07<00:00,  1.02s/it]\n",
      "Validate (2597 / 10 Steps): 100%|██████████| 2/2 [00:06<00:00,  3.26s/it]<00:06,  1.50s/it]\n",
      "Training (2600 / 18000 Steps) (loss=0.62769):  57%|█████▋    | 4/7 [00:12<00:11,  3.81s/it]"
     ]
    },
    {
     "name": "stdout",
     "output_type": "stream",
     "text": [
      "Model Was Not Saved ! Current Best Avg. Dice: 0.24335165321826935 Current Avg. Dice: 0.2129926234483719 Current Avg. tumor Dice: 0.20164786279201508 Current Avg. lymph Dice: 0.2243373990058899\n"
     ]
    },
    {
     "name": "stderr",
     "output_type": "stream",
     "text": [
      "Training (2603 / 18000 Steps) (loss=0.61224): 100%|██████████| 7/7 [00:14<00:00,  2.11s/it]\n",
      "Training (2610 / 18000 Steps) (loss=0.61226): 100%|██████████| 7/7 [00:07<00:00,  1.11s/it]\n",
      "Training (2617 / 18000 Steps) (loss=0.62985): 100%|██████████| 7/7 [00:07<00:00,  1.14s/it]\n",
      "Training (2624 / 18000 Steps) (loss=0.68906): 100%|██████████| 7/7 [00:08<00:00,  1.14s/it]\n",
      "Training (2631 / 18000 Steps) (loss=0.63711): 100%|██████████| 7/7 [00:07<00:00,  1.11s/it]\n",
      "Training (2638 / 18000 Steps) (loss=0.67043): 100%|██████████| 7/7 [00:07<00:00,  1.09s/it]\n",
      "Training (2645 / 18000 Steps) (loss=0.54536): 100%|██████████| 7/7 [00:05<00:00,  1.19it/s]\n",
      "Training (2652 / 18000 Steps) (loss=0.59517): 100%|██████████| 7/7 [00:07<00:00,  1.01s/it]\n",
      "Training (2659 / 18000 Steps) (loss=0.61744): 100%|██████████| 7/7 [00:05<00:00,  1.27it/s]\n",
      "Training (2666 / 18000 Steps) (loss=0.57827): 100%|██████████| 7/7 [00:05<00:00,  1.31it/s]\n",
      "Training (2673 / 18000 Steps) (loss=0.75729): 100%|██████████| 7/7 [00:05<00:00,  1.27it/s]\n",
      "Training (2680 / 18000 Steps) (loss=0.59742): 100%|██████████| 7/7 [00:05<00:00,  1.26it/s]\n",
      "Training (2687 / 18000 Steps) (loss=0.64551): 100%|██████████| 7/7 [00:05<00:00,  1.25it/s]\n",
      "Training (2694 / 18000 Steps) (loss=0.43614): 100%|██████████| 7/7 [00:07<00:00,  1.02s/it]\n",
      "Validate (2695 / 10 Steps): 100%|██████████| 2/2 [00:05<00:00,  2.54s/it]<00:01,  1.04it/s]\n",
      "Training (2700 / 18000 Steps) (loss=0.58769):  86%|████████▌ | 6/7 [00:11<00:02,  2.67s/it]"
     ]
    },
    {
     "name": "stdout",
     "output_type": "stream",
     "text": [
      "Model Was Not Saved ! Current Best Avg. Dice: 0.24335165321826935 Current Avg. Dice: 0.2032398283481598 Current Avg. tumor Dice: 0.23841509222984314 Current Avg. lymph Dice: 0.16806456446647644\n"
     ]
    },
    {
     "name": "stderr",
     "output_type": "stream",
     "text": [
      "Training (2701 / 18000 Steps) (loss=0.52523): 100%|██████████| 7/7 [00:12<00:00,  1.77s/it]\n",
      "Training (2708 / 18000 Steps) (loss=0.68481): 100%|██████████| 7/7 [00:06<00:00,  1.03it/s]\n",
      "Training (2715 / 18000 Steps) (loss=0.46903): 100%|██████████| 7/7 [00:07<00:00,  1.04s/it]\n",
      "Training (2722 / 18000 Steps) (loss=0.62218): 100%|██████████| 7/7 [00:07<00:00,  1.03s/it]\n",
      "Training (2729 / 18000 Steps) (loss=0.64805): 100%|██████████| 7/7 [00:07<00:00,  1.03s/it]\n",
      "Training (2736 / 18000 Steps) (loss=0.61784): 100%|██████████| 7/7 [00:06<00:00,  1.02it/s]\n",
      "Training (2743 / 18000 Steps) (loss=0.74159): 100%|██████████| 7/7 [00:07<00:00,  1.04s/it]\n",
      "Training (2750 / 18000 Steps) (loss=0.60441): 100%|██████████| 7/7 [00:06<00:00,  1.01it/s]\n",
      "Training (2757 / 18000 Steps) (loss=0.65238): 100%|██████████| 7/7 [00:06<00:00,  1.07it/s]\n",
      "Training (2764 / 18000 Steps) (loss=0.50848): 100%|██████████| 7/7 [00:06<00:00,  1.14it/s]\n",
      "Training (2771 / 18000 Steps) (loss=0.57135): 100%|██████████| 7/7 [00:07<00:00,  1.04s/it]\n",
      "Training (2778 / 18000 Steps) (loss=0.62491): 100%|██████████| 7/7 [00:05<00:00,  1.30it/s]\n",
      "Training (2785 / 18000 Steps) (loss=0.61039): 100%|██████████| 7/7 [00:05<00:00,  1.32it/s]\n",
      "Training (2792 / 18000 Steps) (loss=0.66486): 100%|██████████| 7/7 [00:05<00:00,  1.30it/s]\n",
      "Training (2799 / 18000 Steps) (loss=0.62719): 100%|██████████| 7/7 [00:06<00:00,  1.01it/s]\n",
      "Validate (2800 / 10 Steps): 100%|██████████| 2/2 [00:06<00:00,  3.32s/it]<?, ?it/s]\n",
      "Training (2800 / 18000 Steps) (loss=0.58658):  14%|█▍        | 1/7 [00:10<01:00, 10.16s/it]"
     ]
    },
    {
     "name": "stdout",
     "output_type": "stream",
     "text": [
      "Model Was Not Saved ! Current Best Avg. Dice: 0.24335165321826935 Current Avg. Dice: 0.2033383548259735 Current Avg. tumor Dice: 0.2457582801580429 Current Avg. lymph Dice: 0.1609184294939041\n"
     ]
    },
    {
     "name": "stderr",
     "output_type": "stream",
     "text": [
      "Training (2806 / 18000 Steps) (loss=0.54800): 100%|██████████| 7/7 [00:13<00:00,  1.95s/it]\n",
      "Training (2813 / 18000 Steps) (loss=0.52610): 100%|██████████| 7/7 [00:07<00:00,  1.03s/it]\n",
      "Training (2820 / 18000 Steps) (loss=0.64550): 100%|██████████| 7/7 [00:06<00:00,  1.01it/s]\n",
      "Training (2827 / 18000 Steps) (loss=0.56682): 100%|██████████| 7/7 [00:07<00:00,  1.03s/it]\n",
      "Training (2834 / 18000 Steps) (loss=0.62858): 100%|██████████| 7/7 [00:07<00:00,  1.05s/it]\n",
      "Training (2841 / 18000 Steps) (loss=0.60438): 100%|██████████| 7/7 [00:07<00:00,  1.05s/it]\n",
      "Training (2848 / 18000 Steps) (loss=0.51500): 100%|██████████| 7/7 [00:07<00:00,  1.01s/it]\n",
      "Training (2855 / 18000 Steps) (loss=0.62633): 100%|██████████| 7/7 [00:07<00:00,  1.11s/it]\n",
      "Training (2862 / 18000 Steps) (loss=0.65865): 100%|██████████| 7/7 [00:06<00:00,  1.14it/s]\n",
      "Training (2869 / 18000 Steps) (loss=0.61319): 100%|██████████| 7/7 [00:06<00:00,  1.00it/s]\n",
      "Training (2876 / 18000 Steps) (loss=0.53152): 100%|██████████| 7/7 [00:05<00:00,  1.23it/s]\n",
      "Training (2883 / 18000 Steps) (loss=0.62771): 100%|██████████| 7/7 [00:05<00:00,  1.24it/s]\n",
      "Training (2890 / 18000 Steps) (loss=0.66025): 100%|██████████| 7/7 [00:05<00:00,  1.22it/s]\n",
      "Training (2897 / 18000 Steps) (loss=0.55841): 100%|██████████| 7/7 [00:05<00:00,  1.29it/s]\n",
      "Validate (2898 / 10 Steps): 100%|██████████| 2/2 [00:05<00:00,  2.93s/it]<00:09,  1.95s/it]\n",
      "Training (2900 / 18000 Steps) (loss=0.58924):  43%|████▎     | 3/7 [00:11<00:16,  4.16s/it]"
     ]
    },
    {
     "name": "stdout",
     "output_type": "stream",
     "text": [
      "Model Was Not Saved ! Current Best Avg. Dice: 0.24335165321826935 Current Avg. Dice: 0.21856404840946198 Current Avg. tumor Dice: 0.25804468989372253 Current Avg. lymph Dice: 0.17908340692520142\n"
     ]
    },
    {
     "name": "stderr",
     "output_type": "stream",
     "text": [
      "Training (2904 / 18000 Steps) (loss=0.56217): 100%|██████████| 7/7 [00:14<00:00,  2.03s/it]\n",
      "Training (2911 / 18000 Steps) (loss=0.63830): 100%|██████████| 7/7 [00:08<00:00,  1.22s/it]\n",
      "Training (2918 / 18000 Steps) (loss=0.67122): 100%|██████████| 7/7 [00:08<00:00,  1.21s/it]\n",
      "Training (2925 / 18000 Steps) (loss=0.67169): 100%|██████████| 7/7 [00:08<00:00,  1.17s/it]\n",
      "Training (2932 / 18000 Steps) (loss=0.58064): 100%|██████████| 7/7 [00:08<00:00,  1.22s/it]\n",
      "Training (2939 / 18000 Steps) (loss=0.56186): 100%|██████████| 7/7 [00:08<00:00,  1.18s/it]\n",
      "Training (2946 / 18000 Steps) (loss=0.66281): 100%|██████████| 7/7 [00:07<00:00,  1.14s/it]\n",
      "Training (2953 / 18000 Steps) (loss=0.60461): 100%|██████████| 7/7 [00:07<00:00,  1.13s/it]\n",
      "Training (2960 / 18000 Steps) (loss=0.52615): 100%|██████████| 7/7 [00:07<00:00,  1.10s/it]\n",
      "Training (2967 / 18000 Steps) (loss=0.62685): 100%|██████████| 7/7 [00:05<00:00,  1.23it/s]\n",
      "Training (2974 / 18000 Steps) (loss=0.62670): 100%|██████████| 7/7 [00:06<00:00,  1.03it/s]\n",
      "Training (2981 / 18000 Steps) (loss=0.62924): 100%|██████████| 7/7 [00:05<00:00,  1.25it/s]\n",
      "Training (2988 / 18000 Steps) (loss=0.67257): 100%|██████████| 7/7 [00:05<00:00,  1.30it/s]\n",
      "Training (2995 / 18000 Steps) (loss=0.50241): 100%|██████████| 7/7 [00:05<00:00,  1.23it/s]\n",
      "Validate (2996 / 10 Steps): 100%|██████████| 2/2 [00:06<00:00,  3.23s/it]<00:02,  1.28it/s]\n",
      "Training (3000 / 18000 Steps) (loss=0.61552):  71%|███████▏  | 5/7 [00:11<00:06,  3.00s/it]"
     ]
    },
    {
     "name": "stdout",
     "output_type": "stream",
     "text": [
      "Model Was Not Saved ! Current Best Avg. Dice: 0.24335165321826935 Current Avg. Dice: 0.2347199022769928 Current Avg. tumor Dice: 0.2509946823120117 Current Avg. lymph Dice: 0.21844512224197388\n"
     ]
    },
    {
     "name": "stderr",
     "output_type": "stream",
     "text": [
      "Training (3002 / 18000 Steps) (loss=0.64705): 100%|██████████| 7/7 [00:12<00:00,  1.77s/it]\n",
      "Training (3009 / 18000 Steps) (loss=0.60108): 100%|██████████| 7/7 [00:07<00:00,  1.14s/it]\n",
      "Training (3016 / 18000 Steps) (loss=0.56540): 100%|██████████| 7/7 [00:07<00:00,  1.12s/it]\n",
      "Training (3023 / 18000 Steps) (loss=0.67072): 100%|██████████| 7/7 [00:08<00:00,  1.14s/it]\n",
      "Training (3030 / 18000 Steps) (loss=0.56442): 100%|██████████| 7/7 [00:07<00:00,  1.14s/it]\n",
      "Training (3037 / 18000 Steps) (loss=0.62874): 100%|██████████| 7/7 [00:07<00:00,  1.11s/it]\n",
      "Training (3044 / 18000 Steps) (loss=0.60457): 100%|██████████| 7/7 [00:07<00:00,  1.12s/it]\n",
      "Training (3051 / 18000 Steps) (loss=0.65133): 100%|██████████| 7/7 [00:07<00:00,  1.12s/it]\n",
      "Training (3058 / 18000 Steps) (loss=0.62270): 100%|██████████| 7/7 [00:07<00:00,  1.11s/it]\n",
      "Training (3065 / 18000 Steps) (loss=0.57252): 100%|██████████| 7/7 [00:08<00:00,  1.15s/it]\n",
      "Training (3072 / 18000 Steps) (loss=0.61338): 100%|██████████| 7/7 [00:05<00:00,  1.24it/s]\n",
      "Training (3079 / 18000 Steps) (loss=0.58995): 100%|██████████| 7/7 [00:07<00:00,  1.00s/it]\n",
      "Training (3086 / 18000 Steps) (loss=0.53848): 100%|██████████| 7/7 [00:05<00:00,  1.22it/s]\n",
      "Training (3093 / 18000 Steps) (loss=0.53484): 100%|██████████| 7/7 [00:05<00:00,  1.32it/s]\n",
      "Validate (3094 / 10 Steps): 100%|██████████| 2/2 [00:04<00:00,  2.10s/it]<00:00,  1.79it/s]\n",
      "Training (3100 / 18000 Steps) (loss=0.57022): 100%|██████████| 7/7 [00:10<00:00,  1.46s/it]\n"
     ]
    },
    {
     "name": "stdout",
     "output_type": "stream",
     "text": [
      "Model Was Saved ! Current Best Avg. Dice: 0.24629254639148712 Current Avg. Dice: 0.24629254639148712 Current Avg. tumor Dice: 0.3307340741157532 Current Avg. lymph Dice: 0.16185098886489868\n"
     ]
    },
    {
     "name": "stderr",
     "output_type": "stream",
     "text": [
      "Training (3107 / 18000 Steps) (loss=0.55047): 100%|██████████| 7/7 [00:05<00:00,  1.31it/s]\n",
      "Training (3114 / 18000 Steps) (loss=0.68260): 100%|██████████| 7/7 [00:05<00:00,  1.29it/s]\n",
      "Training (3121 / 18000 Steps) (loss=0.53466): 100%|██████████| 7/7 [00:08<00:00,  1.14s/it]\n",
      "Training (3128 / 18000 Steps) (loss=0.62050): 100%|██████████| 7/7 [00:07<00:00,  1.13s/it]\n",
      "Training (3135 / 18000 Steps) (loss=0.61026): 100%|██████████| 7/7 [00:07<00:00,  1.12s/it]\n",
      "Training (3142 / 18000 Steps) (loss=0.64458): 100%|██████████| 7/7 [00:07<00:00,  1.13s/it]\n",
      "Training (3149 / 18000 Steps) (loss=0.62692): 100%|██████████| 7/7 [00:07<00:00,  1.13s/it]\n",
      "Training (3156 / 18000 Steps) (loss=0.60073): 100%|██████████| 7/7 [00:07<00:00,  1.14s/it]\n",
      "Training (3163 / 18000 Steps) (loss=0.62558): 100%|██████████| 7/7 [00:07<00:00,  1.13s/it]\n",
      "Training (3170 / 18000 Steps) (loss=0.63195): 100%|██████████| 7/7 [00:08<00:00,  1.15s/it]\n",
      "Training (3177 / 18000 Steps) (loss=0.62251): 100%|██████████| 7/7 [00:07<00:00,  1.13s/it]\n",
      "Training (3184 / 18000 Steps) (loss=0.60315): 100%|██████████| 7/7 [00:07<00:00,  1.11s/it]\n",
      "Training (3191 / 18000 Steps) (loss=0.68226): 100%|██████████| 7/7 [00:05<00:00,  1.28it/s]\n",
      "Training (3198 / 18000 Steps) (loss=0.63027): 100%|██████████| 7/7 [00:07<00:00,  1.04s/it]\n",
      "Validate (3199 / 10 Steps): 100%|██████████| 2/2 [00:04<00:00,  2.12s/it]<00:18,  3.09s/it]\n",
      "Training (3200 / 18000 Steps) (loss=0.61646):  29%|██▊       | 2/7 [00:07<00:20,  4.04s/it]"
     ]
    },
    {
     "name": "stdout",
     "output_type": "stream",
     "text": [
      "Model Was Not Saved ! Current Best Avg. Dice: 0.24629254639148712 Current Avg. Dice: 0.24019572138786316 Current Avg. tumor Dice: 0.26612433791160583 Current Avg. lymph Dice: 0.21426710486412048\n"
     ]
    },
    {
     "name": "stderr",
     "output_type": "stream",
     "text": [
      "Training (3205 / 18000 Steps) (loss=0.63278): 100%|██████████| 7/7 [00:09<00:00,  1.40s/it]\n",
      "Training (3212 / 18000 Steps) (loss=0.59269): 100%|██████████| 7/7 [00:05<00:00,  1.25it/s]\n",
      "Training (3219 / 18000 Steps) (loss=0.59170): 100%|██████████| 7/7 [00:05<00:00,  1.28it/s]\n",
      "Training (3226 / 18000 Steps) (loss=0.48681): 100%|██████████| 7/7 [00:08<00:00,  1.19s/it]\n",
      "Training (3233 / 18000 Steps) (loss=0.48438): 100%|██████████| 7/7 [00:08<00:00,  1.17s/it]\n",
      "Training (3240 / 18000 Steps) (loss=0.53363): 100%|██████████| 7/7 [00:08<00:00,  1.20s/it]\n",
      "Training (3247 / 18000 Steps) (loss=0.62481): 100%|██████████| 7/7 [00:08<00:00,  1.19s/it]\n",
      "Training (3254 / 18000 Steps) (loss=0.49892): 100%|██████████| 7/7 [00:08<00:00,  1.15s/it]\n",
      "Training (3261 / 18000 Steps) (loss=0.51255): 100%|██████████| 7/7 [00:08<00:00,  1.14s/it]\n",
      "Training (3268 / 18000 Steps) (loss=0.61102): 100%|██████████| 7/7 [00:07<00:00,  1.14s/it]\n",
      "Training (3275 / 18000 Steps) (loss=0.61354): 100%|██████████| 7/7 [00:08<00:00,  1.17s/it]\n",
      "Training (3282 / 18000 Steps) (loss=0.60941): 100%|██████████| 7/7 [00:07<00:00,  1.12s/it]\n",
      "Training (3289 / 18000 Steps) (loss=0.58661): 100%|██████████| 7/7 [00:08<00:00,  1.18s/it]\n",
      "Training (3296 / 18000 Steps) (loss=0.54167): 100%|██████████| 7/7 [00:05<00:00,  1.20it/s]\n",
      "Validate (3297 / 10 Steps): 100%|██████████| 2/2 [00:05<00:00,  2.54s/it]<00:04,  1.24s/it]\n",
      "Training (3300 / 18000 Steps) (loss=0.57278):  57%|█████▋    | 4/7 [00:11<00:10,  3.37s/it]"
     ]
    },
    {
     "name": "stdout",
     "output_type": "stream",
     "text": [
      "Model Was Saved ! Current Best Avg. Dice: 0.24997267127037048 Current Avg. Dice: 0.24997267127037048 Current Avg. tumor Dice: 0.2666662931442261 Current Avg. lymph Dice: 0.23327898979187012\n"
     ]
    },
    {
     "name": "stderr",
     "output_type": "stream",
     "text": [
      "Training (3303 / 18000 Steps) (loss=0.57044): 100%|██████████| 7/7 [00:12<00:00,  1.78s/it]\n",
      "Training (3310 / 18000 Steps) (loss=0.55877): 100%|██████████| 7/7 [00:05<00:00,  1.17it/s]\n",
      "Training (3317 / 18000 Steps) (loss=0.52563): 100%|██████████| 7/7 [00:05<00:00,  1.23it/s]\n",
      "Training (3324 / 18000 Steps) (loss=0.62012): 100%|██████████| 7/7 [00:05<00:00,  1.18it/s]\n",
      "Training (3331 / 18000 Steps) (loss=0.58252): 100%|██████████| 7/7 [00:08<00:00,  1.19s/it]\n",
      "Training (3338 / 18000 Steps) (loss=0.59058): 100%|██████████| 7/7 [00:08<00:00,  1.20s/it]\n",
      "Training (3345 / 18000 Steps) (loss=0.67322): 100%|██████████| 7/7 [00:08<00:00,  1.25s/it]\n",
      "Training (3352 / 18000 Steps) (loss=0.62392): 100%|██████████| 7/7 [00:08<00:00,  1.22s/it]\n",
      "Training (3359 / 18000 Steps) (loss=0.58359): 100%|██████████| 7/7 [00:08<00:00,  1.19s/it]\n",
      "Training (3366 / 18000 Steps) (loss=0.61471): 100%|██████████| 7/7 [00:08<00:00,  1.20s/it]\n",
      "Training (3373 / 18000 Steps) (loss=0.68514): 100%|██████████| 7/7 [00:08<00:00,  1.23s/it]\n",
      "Training (3380 / 18000 Steps) (loss=0.62467): 100%|██████████| 7/7 [00:08<00:00,  1.18s/it]\n",
      "Training (3387 / 18000 Steps) (loss=0.58674): 100%|██████████| 7/7 [00:08<00:00,  1.15s/it]\n",
      "Training (3394 / 18000 Steps) (loss=0.52324): 100%|██████████| 7/7 [00:08<00:00,  1.16s/it]\n",
      "Validate (3395 / 10 Steps): 100%|██████████| 2/2 [00:05<00:00,  2.55s/it]<00:01,  1.49it/s]\n",
      "Training (3400 / 18000 Steps) (loss=0.53512):  86%|████████▌ | 6/7 [00:11<00:02,  2.61s/it]"
     ]
    },
    {
     "name": "stdout",
     "output_type": "stream",
     "text": [
      "Model Was Saved ! Current Best Avg. Dice: 0.26396334171295166 Current Avg. Dice: 0.26396334171295166 Current Avg. tumor Dice: 0.25391337275505066 Current Avg. lymph Dice: 0.27401334047317505\n"
     ]
    },
    {
     "name": "stderr",
     "output_type": "stream",
     "text": [
      "Training (3401 / 18000 Steps) (loss=0.55611): 100%|██████████| 7/7 [00:11<00:00,  1.68s/it]\n",
      "Training (3408 / 18000 Steps) (loss=0.56634): 100%|██████████| 7/7 [00:06<00:00,  1.14it/s]\n",
      "Training (3415 / 18000 Steps) (loss=0.52187): 100%|██████████| 7/7 [00:05<00:00,  1.21it/s]\n",
      "Training (3422 / 18000 Steps) (loss=0.51033): 100%|██████████| 7/7 [00:05<00:00,  1.24it/s]\n",
      "Training (3429 / 18000 Steps) (loss=0.66199): 100%|██████████| 7/7 [00:05<00:00,  1.29it/s]\n",
      "Training (3436 / 18000 Steps) (loss=0.57125): 100%|██████████| 7/7 [00:08<00:00,  1.16s/it]\n",
      "Training (3443 / 18000 Steps) (loss=0.58516): 100%|██████████| 7/7 [00:08<00:00,  1.21s/it]\n",
      "Training (3450 / 18000 Steps) (loss=0.63841): 100%|██████████| 7/7 [00:08<00:00,  1.18s/it]\n",
      "Training (3457 / 18000 Steps) (loss=0.51474): 100%|██████████| 7/7 [00:08<00:00,  1.21s/it]\n",
      "Training (3464 / 18000 Steps) (loss=0.56530): 100%|██████████| 7/7 [00:08<00:00,  1.22s/it]\n",
      "Training (3471 / 18000 Steps) (loss=0.49326): 100%|██████████| 7/7 [00:08<00:00,  1.22s/it]\n",
      "Training (3478 / 18000 Steps) (loss=0.68711): 100%|██████████| 7/7 [00:08<00:00,  1.22s/it]\n",
      "Training (3485 / 18000 Steps) (loss=0.57694): 100%|██████████| 7/7 [00:08<00:00,  1.21s/it]\n",
      "Training (3492 / 18000 Steps) (loss=0.51097): 100%|██████████| 7/7 [00:08<00:00,  1.23s/it]\n",
      "Training (3499 / 18000 Steps) (loss=0.48636): 100%|██████████| 7/7 [00:08<00:00,  1.21s/it]\n",
      "Validate (3500 / 10 Steps): 100%|██████████| 2/2 [00:04<00:00,  2.29s/it]<?, ?it/s]\n",
      "Training (3500 / 18000 Steps) (loss=0.52842):  14%|█▍        | 1/7 [00:07<00:47,  7.96s/it]"
     ]
    },
    {
     "name": "stdout",
     "output_type": "stream",
     "text": [
      "Model Was Not Saved ! Current Best Avg. Dice: 0.26396334171295166 Current Avg. Dice: 0.21367639303207397 Current Avg. tumor Dice: 0.2163170427083969 Current Avg. lymph Dice: 0.21103572845458984\n"
     ]
    },
    {
     "name": "stderr",
     "output_type": "stream",
     "text": [
      "Training (3506 / 18000 Steps) (loss=0.47433): 100%|██████████| 7/7 [00:10<00:00,  1.52s/it]\n",
      "Training (3513 / 18000 Steps) (loss=0.67656): 100%|██████████| 7/7 [00:07<00:00,  1.03s/it]\n",
      "Training (3520 / 18000 Steps) (loss=0.65904): 100%|██████████| 7/7 [00:05<00:00,  1.27it/s]\n",
      "Training (3527 / 18000 Steps) (loss=0.51113): 100%|██████████| 7/7 [00:05<00:00,  1.28it/s]\n",
      "Training (3534 / 18000 Steps) (loss=0.56483): 100%|██████████| 7/7 [00:05<00:00,  1.24it/s]\n",
      "Training (3541 / 18000 Steps) (loss=0.61802): 100%|██████████| 7/7 [00:05<00:00,  1.31it/s]\n",
      "Training (3548 / 18000 Steps) (loss=0.60331): 100%|██████████| 7/7 [00:07<00:00,  1.08s/it]\n",
      "Training (3555 / 18000 Steps) (loss=0.60995): 100%|██████████| 7/7 [00:07<00:00,  1.10s/it]\n",
      "Training (3562 / 18000 Steps) (loss=0.53142): 100%|██████████| 7/7 [00:07<00:00,  1.08s/it]\n",
      "Training (3569 / 18000 Steps) (loss=0.53214): 100%|██████████| 7/7 [00:07<00:00,  1.06s/it]\n",
      "Training (3576 / 18000 Steps) (loss=0.58985): 100%|██████████| 7/7 [00:07<00:00,  1.08s/it]\n",
      "Training (3583 / 18000 Steps) (loss=0.54782): 100%|██████████| 7/7 [00:07<00:00,  1.10s/it]\n",
      "Training (3590 / 18000 Steps) (loss=0.46932): 100%|██████████| 7/7 [00:07<00:00,  1.13s/it]\n",
      "Training (3597 / 18000 Steps) (loss=0.56571): 100%|██████████| 7/7 [00:07<00:00,  1.13s/it]\n",
      "Validate (3598 / 10 Steps): 100%|██████████| 2/2 [00:06<00:00,  3.11s/it]<00:10,  2.12s/it]\n",
      "Training (3600 / 18000 Steps) (loss=0.56736):  43%|████▎     | 3/7 [00:11<00:17,  4.40s/it]"
     ]
    },
    {
     "name": "stdout",
     "output_type": "stream",
     "text": [
      "Model Was Not Saved ! Current Best Avg. Dice: 0.26396334171295166 Current Avg. Dice: 0.200039803981781 Current Avg. tumor Dice: 0.16022375226020813 Current Avg. lymph Dice: 0.23985587060451508\n"
     ]
    },
    {
     "name": "stderr",
     "output_type": "stream",
     "text": [
      "Training (3604 / 18000 Steps) (loss=0.58668): 100%|██████████| 7/7 [00:14<00:00,  2.14s/it]\n",
      "Training (3611 / 18000 Steps) (loss=0.53457): 100%|██████████| 7/7 [00:05<00:00,  1.24it/s]\n",
      "Training (3618 / 18000 Steps) (loss=0.39628): 100%|██████████| 7/7 [00:07<00:00,  1.04s/it]\n",
      "Training (3625 / 18000 Steps) (loss=0.49359): 100%|██████████| 7/7 [00:05<00:00,  1.26it/s]\n",
      "Training (3632 / 18000 Steps) (loss=0.65485): 100%|██████████| 7/7 [00:05<00:00,  1.19it/s]\n",
      "Training (3639 / 18000 Steps) (loss=0.58587): 100%|██████████| 7/7 [00:05<00:00,  1.25it/s]\n",
      "Training (3646 / 18000 Steps) (loss=0.59350): 100%|██████████| 7/7 [00:05<00:00,  1.26it/s]\n",
      "Training (3653 / 18000 Steps) (loss=0.58128): 100%|██████████| 7/7 [00:08<00:00,  1.15s/it]\n",
      "Training (3660 / 18000 Steps) (loss=0.61767): 100%|██████████| 7/7 [00:08<00:00,  1.19s/it]\n",
      "Training (3667 / 18000 Steps) (loss=0.52237): 100%|██████████| 7/7 [00:08<00:00,  1.17s/it]\n",
      "Training (3674 / 18000 Steps) (loss=0.59662): 100%|██████████| 7/7 [00:07<00:00,  1.12s/it]\n",
      "Training (3681 / 18000 Steps) (loss=0.66796): 100%|██████████| 7/7 [00:08<00:00,  1.14s/it]\n",
      "Training (3688 / 18000 Steps) (loss=0.55726): 100%|██████████| 7/7 [00:07<00:00,  1.14s/it]\n",
      "Training (3695 / 18000 Steps) (loss=0.46201): 100%|██████████| 7/7 [00:08<00:00,  1.16s/it]\n",
      "Validate (3696 / 10 Steps): 100%|██████████| 2/2 [00:06<00:00,  3.23s/it]<00:03,  1.24s/it]\n",
      "Training (3700 / 18000 Steps) (loss=0.48540):  71%|███████▏  | 5/7 [00:14<00:07,  3.70s/it]"
     ]
    },
    {
     "name": "stdout",
     "output_type": "stream",
     "text": [
      "Model Was Saved ! Current Best Avg. Dice: 0.28835099935531616 Current Avg. Dice: 0.28835099935531616 Current Avg. tumor Dice: 0.29222372174263 Current Avg. lymph Dice: 0.28447824716567993\n"
     ]
    },
    {
     "name": "stderr",
     "output_type": "stream",
     "text": [
      "Training (3702 / 18000 Steps) (loss=0.59253): 100%|██████████| 7/7 [00:15<00:00,  2.23s/it]\n",
      "Training (3709 / 18000 Steps) (loss=0.52636): 100%|██████████| 7/7 [00:08<00:00,  1.18s/it]\n",
      "Training (3716 / 18000 Steps) (loss=0.59690): 100%|██████████| 7/7 [00:05<00:00,  1.23it/s]\n",
      "Training (3723 / 18000 Steps) (loss=0.47776): 100%|██████████| 7/7 [00:07<00:00,  1.03s/it]\n",
      "Training (3730 / 18000 Steps) (loss=0.47586): 100%|██████████| 7/7 [00:05<00:00,  1.17it/s]\n",
      "Training (3737 / 18000 Steps) (loss=0.57698): 100%|██████████| 7/7 [00:05<00:00,  1.20it/s]\n",
      "Training (3744 / 18000 Steps) (loss=0.50406): 100%|██████████| 7/7 [00:05<00:00,  1.20it/s]\n",
      "Training (3751 / 18000 Steps) (loss=0.60687): 100%|██████████| 7/7 [00:05<00:00,  1.26it/s]\n",
      "Training (3758 / 18000 Steps) (loss=0.64253): 100%|██████████| 7/7 [00:05<00:00,  1.28it/s]\n",
      "Training (3765 / 18000 Steps) (loss=0.59255): 100%|██████████| 7/7 [00:05<00:00,  1.32it/s]\n",
      "Training (3772 / 18000 Steps) (loss=0.51369): 100%|██████████| 7/7 [00:08<00:00,  1.16s/it]\n",
      "Training (3779 / 18000 Steps) (loss=0.60710): 100%|██████████| 7/7 [00:08<00:00,  1.18s/it]\n",
      "Training (3786 / 18000 Steps) (loss=0.64461): 100%|██████████| 7/7 [00:08<00:00,  1.19s/it]\n",
      "Training (3793 / 18000 Steps) (loss=0.53467): 100%|██████████| 7/7 [00:08<00:00,  1.20s/it]\n",
      "Validate (3794 / 10 Steps): 100%|██████████| 2/2 [00:06<00:00,  3.27s/it]<00:00,  1.00it/s]\n",
      "Training (3800 / 18000 Steps) (loss=0.57212): 100%|██████████| 7/7 [00:14<00:00,  2.13s/it]\n"
     ]
    },
    {
     "name": "stdout",
     "output_type": "stream",
     "text": [
      "Model Was Not Saved ! Current Best Avg. Dice: 0.28835099935531616 Current Avg. Dice: 0.22386541962623596 Current Avg. tumor Dice: 0.26367026567459106 Current Avg. lymph Dice: 0.18406052887439728\n"
     ]
    },
    {
     "name": "stderr",
     "output_type": "stream",
     "text": [
      "Training (3807 / 18000 Steps) (loss=0.56794): 100%|██████████| 7/7 [00:08<00:00,  1.16s/it]\n",
      "Training (3814 / 18000 Steps) (loss=0.42737): 100%|██████████| 7/7 [00:08<00:00,  1.29s/it]\n",
      "Training (3821 / 18000 Steps) (loss=0.60192): 100%|██████████| 7/7 [00:08<00:00,  1.21s/it]\n",
      "Training (3828 / 18000 Steps) (loss=0.64294): 100%|██████████| 7/7 [00:08<00:00,  1.27s/it]\n",
      "Training (3835 / 18000 Steps) (loss=0.58098): 100%|██████████| 7/7 [00:05<00:00,  1.25it/s]\n",
      "Training (3842 / 18000 Steps) (loss=0.56725): 100%|██████████| 7/7 [00:07<00:00,  1.03s/it]\n",
      "Training (3849 / 18000 Steps) (loss=0.63014): 100%|██████████| 7/7 [00:05<00:00,  1.25it/s]\n",
      "Training (3856 / 18000 Steps) (loss=0.49089): 100%|██████████| 7/7 [00:05<00:00,  1.25it/s]\n",
      "Training (3863 / 18000 Steps) (loss=0.62397): 100%|██████████| 7/7 [00:05<00:00,  1.28it/s]\n",
      "Training (3870 / 18000 Steps) (loss=0.57323): 100%|██████████| 7/7 [00:05<00:00,  1.17it/s]\n",
      "Training (3877 / 18000 Steps) (loss=0.49778): 100%|██████████| 7/7 [00:06<00:00,  1.02it/s]\n",
      "Training (3884 / 18000 Steps) (loss=0.59824): 100%|██████████| 7/7 [00:07<00:00,  1.02s/it]\n",
      "Training (3891 / 18000 Steps) (loss=0.55837): 100%|██████████| 7/7 [00:06<00:00,  1.02it/s]\n",
      "Training (3898 / 18000 Steps) (loss=0.43085): 100%|██████████| 7/7 [00:07<00:00,  1.01s/it]\n",
      "Validate (3899 / 10 Steps): 100%|██████████| 2/2 [00:06<00:00,  3.37s/it]<00:21,  3.54s/it]\n",
      "Training (3900 / 18000 Steps) (loss=0.48589):  29%|██▊       | 2/7 [00:11<00:29,  5.95s/it]"
     ]
    },
    {
     "name": "stdout",
     "output_type": "stream",
     "text": [
      "Model Was Not Saved ! Current Best Avg. Dice: 0.28835099935531616 Current Avg. Dice: 0.23268605768680573 Current Avg. tumor Dice: 0.2576960623264313 Current Avg. lymph Dice: 0.20767603814601898\n"
     ]
    },
    {
     "name": "stderr",
     "output_type": "stream",
     "text": [
      "Training (3905 / 18000 Steps) (loss=0.64302): 100%|██████████| 7/7 [00:14<00:00,  2.10s/it]\n",
      "Training (3912 / 18000 Steps) (loss=0.48531): 100%|██████████| 7/7 [00:08<00:00,  1.15s/it]\n",
      "Training (3919 / 18000 Steps) (loss=0.51702): 100%|██████████| 7/7 [00:07<00:00,  1.13s/it]\n",
      "Training (3926 / 18000 Steps) (loss=0.56843): 100%|██████████| 7/7 [00:07<00:00,  1.13s/it]\n",
      "Training (3933 / 18000 Steps) (loss=0.65698): 100%|██████████| 7/7 [00:07<00:00,  1.13s/it]\n",
      "Training (3940 / 18000 Steps) (loss=0.67887): 100%|██████████| 7/7 [00:05<00:00,  1.21it/s]\n",
      "Training (3947 / 18000 Steps) (loss=0.48320): 100%|██████████| 7/7 [00:07<00:00,  1.01s/it]\n",
      "Training (3954 / 18000 Steps) (loss=0.63200): 100%|██████████| 7/7 [00:05<00:00,  1.21it/s]\n",
      "Training (3961 / 18000 Steps) (loss=0.54514): 100%|██████████| 7/7 [00:05<00:00,  1.23it/s]\n",
      "Training (3968 / 18000 Steps) (loss=0.55115): 100%|██████████| 7/7 [00:05<00:00,  1.30it/s]\n",
      "Training (3975 / 18000 Steps) (loss=0.45407): 100%|██████████| 7/7 [00:06<00:00,  1.12it/s]\n",
      "Training (3982 / 18000 Steps) (loss=0.53486): 100%|██████████| 7/7 [00:06<00:00,  1.06it/s]\n",
      "Training (3989 / 18000 Steps) (loss=0.61209): 100%|██████████| 7/7 [00:06<00:00,  1.05it/s]\n",
      "Training (3996 / 18000 Steps) (loss=0.31931): 100%|██████████| 7/7 [00:07<00:00,  1.03s/it]\n",
      "Validate (3997 / 10 Steps): 100%|██████████| 2/2 [00:06<00:00,  3.34s/it]<00:06,  1.54s/it]\n",
      "Training (4000 / 18000 Steps) (loss=0.59503):  57%|█████▋    | 4/7 [00:13<00:11,  3.85s/it]"
     ]
    },
    {
     "name": "stdout",
     "output_type": "stream",
     "text": [
      "Model Was Not Saved ! Current Best Avg. Dice: 0.28835099935531616 Current Avg. Dice: 0.24392689764499664 Current Avg. tumor Dice: 0.26343289017677307 Current Avg. lymph Dice: 0.22442087531089783\n"
     ]
    },
    {
     "name": "stderr",
     "output_type": "stream",
     "text": [
      "Training (4003 / 18000 Steps) (loss=0.60554): 100%|██████████| 7/7 [00:14<00:00,  2.14s/it]\n",
      "Training (4010 / 18000 Steps) (loss=0.62189): 100%|██████████| 7/7 [00:08<00:00,  1.15s/it]\n",
      "Training (4017 / 18000 Steps) (loss=0.55448): 100%|██████████| 7/7 [00:08<00:00,  1.16s/it]\n",
      "Training (4024 / 18000 Steps) (loss=0.57595): 100%|██████████| 7/7 [00:07<00:00,  1.12s/it]\n",
      "Training (4031 / 18000 Steps) (loss=0.61225): 100%|██████████| 7/7 [00:07<00:00,  1.07s/it]\n",
      "Training (4038 / 18000 Steps) (loss=0.67677): 100%|██████████| 7/7 [00:07<00:00,  1.05s/it]\n",
      "Training (4045 / 18000 Steps) (loss=0.63263): 100%|██████████| 7/7 [00:06<00:00,  1.16it/s]\n",
      "Training (4052 / 18000 Steps) (loss=0.55174): 100%|██████████| 7/7 [00:07<00:00,  1.00s/it]\n",
      "Training (4059 / 18000 Steps) (loss=0.50285): 100%|██████████| 7/7 [00:05<00:00,  1.24it/s]\n",
      "Training (4066 / 18000 Steps) (loss=0.53457): 100%|██████████| 7/7 [00:05<00:00,  1.24it/s]\n",
      "Training (4073 / 18000 Steps) (loss=0.54486): 100%|██████████| 7/7 [00:05<00:00,  1.22it/s]\n",
      "Training (4080 / 18000 Steps) (loss=0.59264): 100%|██████████| 7/7 [00:06<00:00,  1.15it/s]\n",
      "Training (4087 / 18000 Steps) (loss=0.57484): 100%|██████████| 7/7 [00:07<00:00,  1.03s/it]\n",
      "Training (4094 / 18000 Steps) (loss=0.52670): 100%|██████████| 7/7 [00:07<00:00,  1.00s/it]\n",
      "Validate (4095 / 10 Steps): 100%|██████████| 2/2 [00:06<00:00,  3.25s/it]<00:01,  1.14it/s]\n",
      "Training (4100 / 18000 Steps) (loss=0.58261):  86%|████████▌ | 6/7 [00:13<00:02,  2.95s/it]"
     ]
    },
    {
     "name": "stdout",
     "output_type": "stream",
     "text": [
      "Model Was Not Saved ! Current Best Avg. Dice: 0.28835099935531616 Current Avg. Dice: 0.22786036133766174 Current Avg. tumor Dice: 0.2554177939891815 Current Avg. lymph Dice: 0.20030292868614197\n"
     ]
    },
    {
     "name": "stderr",
     "output_type": "stream",
     "text": [
      "Training (4101 / 18000 Steps) (loss=0.52636): 100%|██████████| 7/7 [00:13<00:00,  1.96s/it]\n",
      "Training (4108 / 18000 Steps) (loss=0.53049): 100%|██████████| 7/7 [00:08<00:00,  1.22s/it]\n",
      "Training (4115 / 18000 Steps) (loss=0.44488): 100%|██████████| 7/7 [00:08<00:00,  1.20s/it]\n",
      "Training (4122 / 18000 Steps) (loss=0.58640): 100%|██████████| 7/7 [00:08<00:00,  1.18s/it]\n",
      "Training (4129 / 18000 Steps) (loss=0.42125): 100%|██████████| 7/7 [00:08<00:00,  1.16s/it]\n",
      "Training (4136 / 18000 Steps) (loss=0.57913): 100%|██████████| 7/7 [00:08<00:00,  1.16s/it]\n",
      "Training (4143 / 18000 Steps) (loss=0.45522): 100%|██████████| 7/7 [00:07<00:00,  1.14s/it]\n",
      "Training (4150 / 18000 Steps) (loss=0.56454): 100%|██████████| 7/7 [00:05<00:00,  1.19it/s]\n",
      "Training (4157 / 18000 Steps) (loss=0.44512): 100%|██████████| 7/7 [00:07<00:00,  1.05s/it]\n",
      "Training (4164 / 18000 Steps) (loss=0.55648): 100%|██████████| 7/7 [00:05<00:00,  1.26it/s]\n",
      "Training (4171 / 18000 Steps) (loss=0.66635): 100%|██████████| 7/7 [00:05<00:00,  1.26it/s]\n",
      "Training (4178 / 18000 Steps) (loss=0.51531): 100%|██████████| 7/7 [00:05<00:00,  1.26it/s]\n",
      "Training (4185 / 18000 Steps) (loss=0.62172): 100%|██████████| 7/7 [00:06<00:00,  1.12it/s]\n",
      "Training (4192 / 18000 Steps) (loss=0.66942): 100%|██████████| 7/7 [00:06<00:00,  1.01it/s]\n",
      "Training (4199 / 18000 Steps) (loss=0.48194): 100%|██████████| 7/7 [00:06<00:00,  1.00it/s]\n",
      "Validate (4200 / 10 Steps): 100%|██████████| 2/2 [00:06<00:00,  3.29s/it]<?, ?it/s]\n",
      "Training (4200 / 18000 Steps) (loss=0.47730):  14%|█▍        | 1/7 [00:10<01:02, 10.41s/it]"
     ]
    },
    {
     "name": "stdout",
     "output_type": "stream",
     "text": [
      "Model Was Not Saved ! Current Best Avg. Dice: 0.28835099935531616 Current Avg. Dice: 0.2023213803768158 Current Avg. tumor Dice: 0.23565101623535156 Current Avg. lymph Dice: 0.16899171471595764\n"
     ]
    },
    {
     "name": "stderr",
     "output_type": "stream",
     "text": [
      "Training (4206 / 18000 Steps) (loss=0.60437): 100%|██████████| 7/7 [00:14<00:00,  2.06s/it]\n",
      "Training (4213 / 18000 Steps) (loss=0.49530): 100%|██████████| 7/7 [00:07<00:00,  1.10s/it]\n",
      "Training (4220 / 18000 Steps) (loss=0.49974): 100%|██████████| 7/7 [00:07<00:00,  1.08s/it]\n",
      "Training (4227 / 18000 Steps) (loss=0.47241): 100%|██████████| 7/7 [00:07<00:00,  1.13s/it]\n",
      "Training (4234 / 18000 Steps) (loss=0.52248): 100%|██████████| 7/7 [00:07<00:00,  1.11s/it]\n",
      "Training (4241 / 18000 Steps) (loss=0.55215): 100%|██████████| 7/7 [00:07<00:00,  1.12s/it]\n",
      "Training (4248 / 18000 Steps) (loss=0.62011): 100%|██████████| 7/7 [00:07<00:00,  1.09s/it]\n",
      "Training (4255 / 18000 Steps) (loss=0.55260): 100%|██████████| 7/7 [00:05<00:00,  1.19it/s]\n",
      "Training (4262 / 18000 Steps) (loss=0.47888): 100%|██████████| 7/7 [00:07<00:00,  1.03s/it]\n",
      "Training (4269 / 18000 Steps) (loss=0.46238): 100%|██████████| 7/7 [00:05<00:00,  1.26it/s]\n",
      "Training (4276 / 18000 Steps) (loss=0.59906): 100%|██████████| 7/7 [00:05<00:00,  1.25it/s]\n",
      "Training (4283 / 18000 Steps) (loss=0.55622): 100%|██████████| 7/7 [00:05<00:00,  1.24it/s]\n",
      "Training (4290 / 18000 Steps) (loss=0.54595): 100%|██████████| 7/7 [00:05<00:00,  1.27it/s]\n",
      "Training (4297 / 18000 Steps) (loss=0.53661): 100%|██████████| 7/7 [00:07<00:00,  1.10s/it]\n",
      "Validate (4298 / 10 Steps): 100%|██████████| 2/2 [00:06<00:00,  3.20s/it]<00:10,  2.04s/it]\n",
      "Training (4300 / 18000 Steps) (loss=0.41927):  43%|████▎     | 3/7 [00:11<00:17,  4.45s/it]"
     ]
    },
    {
     "name": "stdout",
     "output_type": "stream",
     "text": [
      "Model Was Not Saved ! Current Best Avg. Dice: 0.28835099935531616 Current Avg. Dice: 0.24281582236289978 Current Avg. tumor Dice: 0.22246286273002625 Current Avg. lymph Dice: 0.2631687521934509\n"
     ]
    },
    {
     "name": "stderr",
     "output_type": "stream",
     "text": [
      "Training (4304 / 18000 Steps) (loss=0.67651): 100%|██████████| 7/7 [00:15<00:00,  2.14s/it]\n",
      "Training (4311 / 18000 Steps) (loss=0.68873): 100%|██████████| 7/7 [00:08<00:00,  1.22s/it]\n",
      "Training (4318 / 18000 Steps) (loss=0.46374): 100%|██████████| 7/7 [00:08<00:00,  1.18s/it]\n",
      "Training (4325 / 18000 Steps) (loss=0.48364): 100%|██████████| 7/7 [00:08<00:00,  1.22s/it]\n",
      "Training (4332 / 18000 Steps) (loss=0.35290): 100%|██████████| 7/7 [00:08<00:00,  1.20s/it]\n",
      "Training (4339 / 18000 Steps) (loss=0.39979): 100%|██████████| 7/7 [00:07<00:00,  1.13s/it]\n",
      "Training (4346 / 18000 Steps) (loss=0.41744): 100%|██████████| 7/7 [00:07<00:00,  1.14s/it]\n",
      "Training (4353 / 18000 Steps) (loss=0.48681): 100%|██████████| 7/7 [00:08<00:00,  1.18s/it]\n",
      "Training (4360 / 18000 Steps) (loss=0.55737): 100%|██████████| 7/7 [00:05<00:00,  1.22it/s]\n",
      "Training (4367 / 18000 Steps) (loss=0.50443): 100%|██████████| 7/7 [00:07<00:00,  1.02s/it]\n",
      "Training (4374 / 18000 Steps) (loss=0.59239): 100%|██████████| 7/7 [00:05<00:00,  1.30it/s]\n",
      "Training (4381 / 18000 Steps) (loss=0.45605): 100%|██████████| 7/7 [00:05<00:00,  1.20it/s]\n",
      "Training (4388 / 18000 Steps) (loss=0.58868): 100%|██████████| 7/7 [00:05<00:00,  1.26it/s]\n",
      "Training (4395 / 18000 Steps) (loss=0.53018): 100%|██████████| 7/7 [00:05<00:00,  1.26it/s]\n",
      "Validate (4396 / 10 Steps): 100%|██████████| 2/2 [00:06<00:00,  3.22s/it]<00:03,  1.22s/it]\n",
      "Training (4400 / 18000 Steps) (loss=0.59371):  71%|███████▏  | 5/7 [00:13<00:06,  3.39s/it]"
     ]
    },
    {
     "name": "stdout",
     "output_type": "stream",
     "text": [
      "Model Was Not Saved ! Current Best Avg. Dice: 0.28835099935531616 Current Avg. Dice: 0.2594257891178131 Current Avg. tumor Dice: 0.26858142018318176 Current Avg. lymph Dice: 0.25027015805244446\n"
     ]
    },
    {
     "name": "stderr",
     "output_type": "stream",
     "text": [
      "Training (4402 / 18000 Steps) (loss=0.40069): 100%|██████████| 7/7 [00:14<00:00,  2.11s/it]\n",
      "Training (4409 / 18000 Steps) (loss=0.47943): 100%|██████████| 7/7 [00:08<00:00,  1.17s/it]\n",
      "Training (4416 / 18000 Steps) (loss=0.57714): 100%|██████████| 7/7 [00:08<00:00,  1.24s/it]\n",
      "Training (4423 / 18000 Steps) (loss=0.64457): 100%|██████████| 7/7 [00:08<00:00,  1.20s/it]\n",
      "Training (4430 / 18000 Steps) (loss=0.58835): 100%|██████████| 7/7 [00:08<00:00,  1.18s/it]\n",
      "Training (4437 / 18000 Steps) (loss=0.67335): 100%|██████████| 7/7 [00:08<00:00,  1.19s/it]\n",
      "Training (4444 / 18000 Steps) (loss=0.59108): 100%|██████████| 7/7 [00:08<00:00,  1.22s/it]\n",
      "Training (4451 / 18000 Steps) (loss=0.54593): 100%|██████████| 7/7 [00:08<00:00,  1.20s/it]\n",
      "Training (4458 / 18000 Steps) (loss=0.49832): 100%|██████████| 7/7 [00:08<00:00,  1.17s/it]\n",
      "Training (4465 / 18000 Steps) (loss=0.48940): 100%|██████████| 7/7 [00:05<00:00,  1.18it/s]\n",
      "Training (4472 / 18000 Steps) (loss=0.38424): 100%|██████████| 7/7 [00:07<00:00,  1.12s/it]\n",
      "Training (4479 / 18000 Steps) (loss=0.50339): 100%|██████████| 7/7 [00:05<00:00,  1.26it/s]\n",
      "Training (4486 / 18000 Steps) (loss=0.59192): 100%|██████████| 7/7 [00:05<00:00,  1.24it/s]\n",
      "Training (4493 / 18000 Steps) (loss=0.44685): 100%|██████████| 7/7 [00:05<00:00,  1.24it/s]\n",
      "Validate (4494 / 10 Steps): 100%|██████████| 2/2 [00:04<00:00,  2.21s/it]<00:00,  1.72it/s]\n",
      "Training (4500 / 18000 Steps) (loss=0.36963): 100%|██████████| 7/7 [00:10<00:00,  1.45s/it]\n"
     ]
    },
    {
     "name": "stdout",
     "output_type": "stream",
     "text": [
      "Model Was Not Saved ! Current Best Avg. Dice: 0.28835099935531616 Current Avg. Dice: 0.25018835067749023 Current Avg. tumor Dice: 0.2616521120071411 Current Avg. lymph Dice: 0.23872460424900055\n"
     ]
    },
    {
     "name": "stderr",
     "output_type": "stream",
     "text": [
      "Training (4507 / 18000 Steps) (loss=0.40339): 100%|██████████| 7/7 [00:05<00:00,  1.28it/s]\n",
      "Training (4514 / 18000 Steps) (loss=0.50923): 100%|██████████| 7/7 [00:05<00:00,  1.23it/s]\n",
      "Training (4521 / 18000 Steps) (loss=0.50046): 100%|██████████| 7/7 [00:07<00:00,  1.03s/it]\n",
      "Training (4528 / 18000 Steps) (loss=0.49376): 100%|██████████| 7/7 [00:07<00:00,  1.07s/it]\n",
      "Training (4535 / 18000 Steps) (loss=0.55297): 100%|██████████| 7/7 [00:07<00:00,  1.05s/it]\n",
      "Training (4542 / 18000 Steps) (loss=0.57419): 100%|██████████| 7/7 [00:07<00:00,  1.05s/it]\n",
      "Training (4549 / 18000 Steps) (loss=0.47631): 100%|██████████| 7/7 [00:07<00:00,  1.06s/it]\n",
      "Training (4556 / 18000 Steps) (loss=0.32286): 100%|██████████| 7/7 [00:07<00:00,  1.03s/it]\n",
      "Training (4563 / 18000 Steps) (loss=0.54792): 100%|██████████| 7/7 [00:07<00:00,  1.02s/it]\n",
      "Training (4570 / 18000 Steps) (loss=0.43468): 100%|██████████| 7/7 [00:07<00:00,  1.02s/it]\n",
      "Training (4577 / 18000 Steps) (loss=0.51971): 100%|██████████| 7/7 [00:07<00:00,  1.04s/it]\n",
      "Training (4584 / 18000 Steps) (loss=0.41074): 100%|██████████| 7/7 [00:07<00:00,  1.08s/it]\n",
      "Training (4591 / 18000 Steps) (loss=0.60189): 100%|██████████| 7/7 [00:05<00:00,  1.20it/s]\n",
      "Training (4598 / 18000 Steps) (loss=0.56926): 100%|██████████| 7/7 [00:07<00:00,  1.01s/it]\n",
      "Validate (4599 / 10 Steps): 100%|██████████| 2/2 [00:04<00:00,  2.25s/it]<00:21,  3.55s/it]\n",
      "Training (4600 / 18000 Steps) (loss=0.57558):  29%|██▊       | 2/7 [00:08<00:21,  4.39s/it]"
     ]
    },
    {
     "name": "stdout",
     "output_type": "stream",
     "text": [
      "Model Was Not Saved ! Current Best Avg. Dice: 0.28835099935531616 Current Avg. Dice: 0.24978099763393402 Current Avg. tumor Dice: 0.24852201342582703 Current Avg. lymph Dice: 0.251039981842041\n"
     ]
    },
    {
     "name": "stderr",
     "output_type": "stream",
     "text": [
      "Training (4605 / 18000 Steps) (loss=0.58861): 100%|██████████| 7/7 [00:10<00:00,  1.51s/it]\n",
      "Training (4612 / 18000 Steps) (loss=0.63097): 100%|██████████| 7/7 [00:05<00:00,  1.21it/s]\n",
      "Training (4619 / 18000 Steps) (loss=0.60149): 100%|██████████| 7/7 [00:05<00:00,  1.25it/s]\n",
      "Training (4626 / 18000 Steps) (loss=0.49081): 100%|██████████| 7/7 [00:08<00:00,  1.23s/it]\n",
      "Training (4633 / 18000 Steps) (loss=0.56438): 100%|██████████| 7/7 [00:08<00:00,  1.23s/it]\n",
      "Training (4640 / 18000 Steps) (loss=0.55219): 100%|██████████| 7/7 [00:08<00:00,  1.21s/it]\n",
      "Training (4647 / 18000 Steps) (loss=0.55374): 100%|██████████| 7/7 [00:08<00:00,  1.25s/it]\n",
      "Training (4654 / 18000 Steps) (loss=0.59235): 100%|██████████| 7/7 [00:08<00:00,  1.18s/it]\n",
      "Training (4661 / 18000 Steps) (loss=0.41247): 100%|██████████| 7/7 [00:08<00:00,  1.17s/it]\n",
      "Training (4668 / 18000 Steps) (loss=0.44694): 100%|██████████| 7/7 [00:08<00:00,  1.18s/it]\n",
      "Training (4675 / 18000 Steps) (loss=0.48363): 100%|██████████| 7/7 [00:08<00:00,  1.19s/it]\n",
      "Training (4682 / 18000 Steps) (loss=0.38316): 100%|██████████| 7/7 [00:08<00:00,  1.20s/it]\n",
      "Training (4689 / 18000 Steps) (loss=0.45751): 100%|██████████| 7/7 [00:08<00:00,  1.17s/it]\n",
      "Training (4696 / 18000 Steps) (loss=0.62517): 100%|██████████| 7/7 [00:05<00:00,  1.25it/s]\n",
      "Validate (4697 / 10 Steps): 100%|██████████| 2/2 [00:04<00:00,  2.35s/it]<00:05,  1.30s/it]\n",
      "Training (4700 / 18000 Steps) (loss=0.52205):  57%|█████▋    | 4/7 [00:10<00:08,  2.91s/it]"
     ]
    },
    {
     "name": "stdout",
     "output_type": "stream",
     "text": [
      "Model Was Not Saved ! Current Best Avg. Dice: 0.28835099935531616 Current Avg. Dice: 0.21082526445388794 Current Avg. tumor Dice: 0.1931784451007843 Current Avg. lymph Dice: 0.22847208380699158\n"
     ]
    },
    {
     "name": "stderr",
     "output_type": "stream",
     "text": [
      "Training (4703 / 18000 Steps) (loss=0.37984): 100%|██████████| 7/7 [00:11<00:00,  1.63s/it]\n",
      "Training (4710 / 18000 Steps) (loss=0.44486): 100%|██████████| 7/7 [00:05<00:00,  1.22it/s]\n",
      "Training (4717 / 18000 Steps) (loss=0.62799): 100%|██████████| 7/7 [00:05<00:00,  1.23it/s]\n",
      "Training (4724 / 18000 Steps) (loss=0.36146): 100%|██████████| 7/7 [00:05<00:00,  1.24it/s]\n",
      "Training (4731 / 18000 Steps) (loss=0.59684): 100%|██████████| 7/7 [00:08<00:00,  1.17s/it]\n",
      "Training (4738 / 18000 Steps) (loss=0.58702): 100%|██████████| 7/7 [00:08<00:00,  1.20s/it]\n",
      "Training (4745 / 18000 Steps) (loss=0.61347): 100%|██████████| 7/7 [00:08<00:00,  1.20s/it]\n",
      "Training (4752 / 18000 Steps) (loss=0.48429): 100%|██████████| 7/7 [00:08<00:00,  1.16s/it]\n",
      "Training (4759 / 18000 Steps) (loss=0.53133): 100%|██████████| 7/7 [00:08<00:00,  1.20s/it]\n",
      "Training (4766 / 18000 Steps) (loss=0.53752): 100%|██████████| 7/7 [00:08<00:00,  1.19s/it]\n",
      "Training (4773 / 18000 Steps) (loss=0.45484): 100%|██████████| 7/7 [00:08<00:00,  1.21s/it]\n",
      "Training (4780 / 18000 Steps) (loss=0.59216): 100%|██████████| 7/7 [00:08<00:00,  1.22s/it]\n",
      "Training (4787 / 18000 Steps) (loss=0.49185): 100%|██████████| 7/7 [00:08<00:00,  1.22s/it]\n",
      "Training (4794 / 18000 Steps) (loss=0.43073): 100%|██████████| 7/7 [00:08<00:00,  1.19s/it]\n",
      "Validate (4795 / 10 Steps): 100%|██████████| 2/2 [00:05<00:00,  2.59s/it]<00:01,  1.52it/s]\n",
      "Training (4800 / 18000 Steps) (loss=0.53880):  86%|████████▌ | 6/7 [00:10<00:02,  2.35s/it]"
     ]
    },
    {
     "name": "stdout",
     "output_type": "stream",
     "text": [
      "Model Was Not Saved ! Current Best Avg. Dice: 0.28835099935531616 Current Avg. Dice: 0.25664204359054565 Current Avg. tumor Dice: 0.3055189847946167 Current Avg. lymph Dice: 0.2077651023864746\n"
     ]
    },
    {
     "name": "stderr",
     "output_type": "stream",
     "text": [
      "Training (4801 / 18000 Steps) (loss=0.45899): 100%|██████████| 7/7 [00:10<00:00,  1.57s/it]\n",
      "Training (4808 / 18000 Steps) (loss=0.63472): 100%|██████████| 7/7 [00:06<00:00,  1.15it/s]\n",
      "Training (4815 / 18000 Steps) (loss=0.41430): 100%|██████████| 7/7 [00:05<00:00,  1.26it/s]\n",
      "Training (4822 / 18000 Steps) (loss=0.42487): 100%|██████████| 7/7 [00:05<00:00,  1.26it/s]\n",
      "Training (4829 / 18000 Steps) (loss=0.44666): 100%|██████████| 7/7 [00:05<00:00,  1.27it/s]\n",
      "Training (4836 / 18000 Steps) (loss=0.51510): 100%|██████████| 7/7 [00:08<00:00,  1.19s/it]\n",
      "Training (4843 / 18000 Steps) (loss=0.53594): 100%|██████████| 7/7 [00:08<00:00,  1.22s/it]\n",
      "Training (4850 / 18000 Steps) (loss=0.54066): 100%|██████████| 7/7 [00:08<00:00,  1.21s/it]\n",
      "Training (4857 / 18000 Steps) (loss=0.57398): 100%|██████████| 7/7 [00:08<00:00,  1.21s/it]\n",
      "Training (4864 / 18000 Steps) (loss=0.45651): 100%|██████████| 7/7 [00:08<00:00,  1.23s/it]\n",
      "Training (4871 / 18000 Steps) (loss=0.60881): 100%|██████████| 7/7 [00:08<00:00,  1.16s/it]\n",
      "Training (4878 / 18000 Steps) (loss=0.56763): 100%|██████████| 7/7 [00:08<00:00,  1.20s/it]\n",
      "Training (4885 / 18000 Steps) (loss=0.50466): 100%|██████████| 7/7 [00:08<00:00,  1.18s/it]\n",
      "Training (4892 / 18000 Steps) (loss=0.64531): 100%|██████████| 7/7 [00:08<00:00,  1.26s/it]\n",
      "Training (4899 / 18000 Steps) (loss=0.51031): 100%|██████████| 7/7 [00:08<00:00,  1.22s/it]\n",
      "Validate (4900 / 10 Steps): 100%|██████████| 2/2 [00:04<00:00,  2.29s/it]<?, ?it/s]\n",
      "Training (4900 / 18000 Steps) (loss=0.55552):  14%|█▍        | 1/7 [00:07<00:47,  7.96s/it]"
     ]
    },
    {
     "name": "stdout",
     "output_type": "stream",
     "text": [
      "Model Was Not Saved ! Current Best Avg. Dice: 0.28835099935531616 Current Avg. Dice: 0.24419774115085602 Current Avg. tumor Dice: 0.2654614746570587 Current Avg. lymph Dice: 0.22293400764465332\n"
     ]
    },
    {
     "name": "stderr",
     "output_type": "stream",
     "text": [
      "Training (4906 / 18000 Steps) (loss=0.38530): 100%|██████████| 7/7 [00:10<00:00,  1.54s/it]\n",
      "Training (4913 / 18000 Steps) (loss=0.46618): 100%|██████████| 7/7 [00:06<00:00,  1.06it/s]\n",
      "Training (4920 / 18000 Steps) (loss=0.67422): 100%|██████████| 7/7 [00:05<00:00,  1.25it/s]\n",
      "Training (4927 / 18000 Steps) (loss=0.55378): 100%|██████████| 7/7 [00:05<00:00,  1.21it/s]\n",
      "Training (4934 / 18000 Steps) (loss=0.41148): 100%|██████████| 7/7 [00:05<00:00,  1.30it/s]\n",
      "Training (4941 / 18000 Steps) (loss=0.41338): 100%|██████████| 7/7 [00:07<00:00,  1.08s/it]\n",
      "Training (4948 / 18000 Steps) (loss=0.43100): 100%|██████████| 7/7 [00:07<00:00,  1.06s/it]\n",
      "Training (4955 / 18000 Steps) (loss=0.55897): 100%|██████████| 7/7 [00:06<00:00,  1.02it/s]\n",
      "Training (4962 / 18000 Steps) (loss=0.48899): 100%|██████████| 7/7 [00:06<00:00,  1.05it/s]\n",
      "Training (4969 / 18000 Steps) (loss=0.43346): 100%|██████████| 7/7 [00:06<00:00,  1.02it/s]\n",
      "Training (4976 / 18000 Steps) (loss=0.46946): 100%|██████████| 7/7 [00:06<00:00,  1.06it/s]\n",
      "Training (4983 / 18000 Steps) (loss=0.59501): 100%|██████████| 7/7 [00:06<00:00,  1.03it/s]\n",
      "Training (4990 / 18000 Steps) (loss=0.58035): 100%|██████████| 7/7 [00:06<00:00,  1.01it/s]\n",
      "Training (4997 / 18000 Steps) (loss=0.43360): 100%|██████████| 7/7 [00:07<00:00,  1.01s/it]\n",
      "Validate (4998 / 10 Steps): 100%|██████████| 2/2 [00:06<00:00,  3.30s/it]<00:10,  2.05s/it]\n",
      "Training (5000 / 18000 Steps) (loss=0.49191):  43%|████▎     | 3/7 [00:12<00:18,  4.55s/it]"
     ]
    },
    {
     "name": "stdout",
     "output_type": "stream",
     "text": [
      "Model Was Not Saved ! Current Best Avg. Dice: 0.28835099935531616 Current Avg. Dice: 0.2831117510795593 Current Avg. tumor Dice: 0.3179684579372406 Current Avg. lymph Dice: 0.24825501441955566\n"
     ]
    },
    {
     "name": "stderr",
     "output_type": "stream",
     "text": [
      "Training (5004 / 18000 Steps) (loss=0.53885): 100%|██████████| 7/7 [00:15<00:00,  2.14s/it]\n",
      "Training (5011 / 18000 Steps) (loss=0.54970): 100%|██████████| 7/7 [00:05<00:00,  1.25it/s]\n",
      "Training (5018 / 18000 Steps) (loss=0.59343): 100%|██████████| 7/7 [00:07<00:00,  1.02s/it]\n",
      "Training (5025 / 18000 Steps) (loss=0.52855): 100%|██████████| 7/7 [00:05<00:00,  1.25it/s]\n",
      "Training (5032 / 18000 Steps) (loss=0.31456): 100%|██████████| 7/7 [00:05<00:00,  1.29it/s]\n",
      "Training (5039 / 18000 Steps) (loss=0.58698): 100%|██████████| 7/7 [00:05<00:00,  1.23it/s]\n",
      "Training (5046 / 18000 Steps) (loss=0.50260): 100%|██████████| 7/7 [00:05<00:00,  1.28it/s]\n",
      "Training (5053 / 18000 Steps) (loss=0.48785): 100%|██████████| 7/7 [00:08<00:00,  1.17s/it]\n",
      "Training (5060 / 18000 Steps) (loss=0.64107): 100%|██████████| 7/7 [00:08<00:00,  1.18s/it]\n",
      "Training (5067 / 18000 Steps) (loss=0.43167): 100%|██████████| 7/7 [00:08<00:00,  1.19s/it]\n",
      "Training (5074 / 18000 Steps) (loss=0.45529): 100%|██████████| 7/7 [00:08<00:00,  1.20s/it]\n",
      "Training (5081 / 18000 Steps) (loss=0.56762): 100%|██████████| 7/7 [00:08<00:00,  1.20s/it]\n",
      "Training (5088 / 18000 Steps) (loss=0.27148): 100%|██████████| 7/7 [00:08<00:00,  1.19s/it]\n",
      "Training (5095 / 18000 Steps) (loss=0.56007): 100%|██████████| 7/7 [00:08<00:00,  1.23s/it]\n",
      "Validate (5096 / 10 Steps): 100%|██████████| 2/2 [00:06<00:00,  3.20s/it]<00:03,  1.24s/it]\n",
      "Training (5100 / 18000 Steps) (loss=0.45851):  71%|███████▏  | 5/7 [00:13<00:06,  3.43s/it]"
     ]
    },
    {
     "name": "stdout",
     "output_type": "stream",
     "text": [
      "Model Was Not Saved ! Current Best Avg. Dice: 0.28835099935531616 Current Avg. Dice: 0.2524019181728363 Current Avg. tumor Dice: 0.2609764635562897 Current Avg. lymph Dice: 0.24382737278938293\n"
     ]
    },
    {
     "name": "stderr",
     "output_type": "stream",
     "text": [
      "Training (5102 / 18000 Steps) (loss=0.39033): 100%|██████████| 7/7 [00:15<00:00,  2.14s/it]\n",
      "Training (5109 / 18000 Steps) (loss=0.59745): 100%|██████████| 7/7 [00:08<00:00,  1.20s/it]\n",
      "Training (5116 / 18000 Steps) (loss=0.42307): 100%|██████████| 7/7 [00:05<00:00,  1.25it/s]\n",
      "Training (5123 / 18000 Steps) (loss=0.67090): 100%|██████████| 7/7 [00:07<00:00,  1.01s/it]\n",
      "Training (5130 / 18000 Steps) (loss=0.51591): 100%|██████████| 7/7 [00:05<00:00,  1.29it/s]\n",
      "Training (5137 / 18000 Steps) (loss=0.46059): 100%|██████████| 7/7 [00:05<00:00,  1.28it/s]\n",
      "Training (5144 / 18000 Steps) (loss=0.37554): 100%|██████████| 7/7 [00:05<00:00,  1.29it/s]\n",
      "Training (5151 / 18000 Steps) (loss=0.58087): 100%|██████████| 7/7 [00:05<00:00,  1.20it/s]\n",
      "Training (5158 / 18000 Steps) (loss=0.52403): 100%|██████████| 7/7 [00:07<00:00,  1.04s/it]\n",
      "Training (5165 / 18000 Steps) (loss=0.53523): 100%|██████████| 7/7 [00:06<00:00,  1.03it/s]\n",
      "Training (5172 / 18000 Steps) (loss=0.55301): 100%|██████████| 7/7 [00:06<00:00,  1.02it/s]\n",
      "Training (5179 / 18000 Steps) (loss=0.43977): 100%|██████████| 7/7 [00:07<00:00,  1.02s/it]\n",
      "Training (5186 / 18000 Steps) (loss=0.59045): 100%|██████████| 7/7 [00:06<00:00,  1.01it/s]\n",
      "Training (5193 / 18000 Steps) (loss=0.52335): 100%|██████████| 7/7 [00:06<00:00,  1.03it/s]\n",
      "Validate (5194 / 10 Steps): 100%|██████████| 2/2 [00:06<00:00,  3.23s/it]<00:00,  1.48it/s]\n",
      "Training (5200 / 18000 Steps) (loss=0.48346): 100%|██████████| 7/7 [00:13<00:00,  1.90s/it]\n"
     ]
    },
    {
     "name": "stdout",
     "output_type": "stream",
     "text": [
      "Model Was Not Saved ! Current Best Avg. Dice: 0.28835099935531616 Current Avg. Dice: 0.2527664005756378 Current Avg. tumor Dice: 0.2481660544872284 Current Avg. lymph Dice: 0.25736674666404724\n"
     ]
    },
    {
     "name": "stderr",
     "output_type": "stream",
     "text": [
      "Training (5207 / 18000 Steps) (loss=0.60859): 100%|██████████| 7/7 [00:08<00:00,  1.16s/it]\n",
      "Training (5214 / 18000 Steps) (loss=0.63224): 100%|██████████| 7/7 [00:08<00:00,  1.15s/it]\n",
      "Training (5221 / 18000 Steps) (loss=0.56968): 100%|██████████| 7/7 [00:06<00:00,  1.14it/s]\n",
      "Training (5228 / 18000 Steps) (loss=0.66391): 100%|██████████| 7/7 [00:07<00:00,  1.02s/it]\n",
      "Training (5235 / 18000 Steps) (loss=0.60110): 100%|██████████| 7/7 [00:05<00:00,  1.24it/s]\n",
      "Training (5242 / 18000 Steps) (loss=0.50546): 100%|██████████| 7/7 [00:05<00:00,  1.26it/s]\n",
      "Training (5249 / 18000 Steps) (loss=0.55483): 100%|██████████| 7/7 [00:05<00:00,  1.30it/s]\n",
      "Training (5256 / 18000 Steps) (loss=0.57038): 100%|██████████| 7/7 [00:06<00:00,  1.15it/s]\n",
      "Training (5263 / 18000 Steps) (loss=0.60393): 100%|██████████| 7/7 [00:06<00:00,  1.05it/s]\n",
      "Training (5270 / 18000 Steps) (loss=0.46203): 100%|██████████| 7/7 [00:07<00:00,  1.01s/it]\n",
      "Training (5277 / 18000 Steps) (loss=0.29019): 100%|██████████| 7/7 [00:07<00:00,  1.07s/it]\n",
      "Training (5284 / 18000 Steps) (loss=0.46504): 100%|██████████| 7/7 [00:07<00:00,  1.06s/it]\n",
      "Training (5291 / 18000 Steps) (loss=0.57461): 100%|██████████| 7/7 [00:08<00:00,  1.17s/it]\n",
      "Training (5298 / 18000 Steps) (loss=0.47150): 100%|██████████| 7/7 [00:08<00:00,  1.16s/it]\n",
      "Validate (5299 / 10 Steps): 100%|██████████| 2/2 [00:05<00:00,  2.63s/it]<00:21,  3.67s/it]\n",
      "Training (5300 / 18000 Steps) (loss=0.39769):  29%|██▊       | 2/7 [00:09<00:25,  5.14s/it]"
     ]
    },
    {
     "name": "stdout",
     "output_type": "stream",
     "text": [
      "Model Was Not Saved ! Current Best Avg. Dice: 0.28835099935531616 Current Avg. Dice: 0.2660627067089081 Current Avg. tumor Dice: 0.30745241045951843 Current Avg. lymph Dice: 0.22467297315597534\n"
     ]
    },
    {
     "name": "stderr",
     "output_type": "stream",
     "text": [
      "Training (5305 / 18000 Steps) (loss=0.45816): 100%|██████████| 7/7 [00:13<00:00,  1.97s/it]\n",
      "Training (5312 / 18000 Steps) (loss=0.44516): 100%|██████████| 7/7 [00:08<00:00,  1.16s/it]\n",
      "Training (5319 / 18000 Steps) (loss=0.48218): 100%|██████████| 7/7 [00:08<00:00,  1.22s/it]\n",
      "Training (5326 / 18000 Steps) (loss=0.49946): 100%|██████████| 7/7 [00:05<00:00,  1.18it/s]\n",
      "Training (5333 / 18000 Steps) (loss=0.64542): 100%|██████████| 7/7 [00:07<00:00,  1.07s/it]\n",
      "Training (5340 / 18000 Steps) (loss=0.50570): 100%|██████████| 7/7 [00:05<00:00,  1.26it/s]\n",
      "Training (5347 / 18000 Steps) (loss=0.46365): 100%|██████████| 7/7 [00:05<00:00,  1.30it/s]\n",
      "Training (5354 / 18000 Steps) (loss=0.66240): 100%|██████████| 7/7 [00:05<00:00,  1.23it/s]\n",
      "Training (5361 / 18000 Steps) (loss=0.53949): 100%|██████████| 7/7 [00:05<00:00,  1.21it/s]\n",
      "Training (5368 / 18000 Steps) (loss=0.52056): 100%|██████████| 7/7 [00:05<00:00,  1.27it/s]\n",
      "Training (5375 / 18000 Steps) (loss=0.63280): 100%|██████████| 7/7 [00:05<00:00,  1.26it/s]\n",
      "Training (5382 / 18000 Steps) (loss=0.46715): 100%|██████████| 7/7 [00:05<00:00,  1.27it/s]\n",
      "Training (5389 / 18000 Steps) (loss=0.38210): 100%|██████████| 7/7 [00:06<00:00,  1.01it/s]\n",
      "Training (5396 / 18000 Steps) (loss=0.52672): 100%|██████████| 7/7 [00:07<00:00,  1.03s/it]\n",
      "Validate (5397 / 10 Steps): 100%|██████████| 2/2 [00:06<00:00,  3.00s/it]<00:04,  1.07s/it]\n",
      "Training (5400 / 18000 Steps) (loss=0.44523):  57%|█████▋    | 4/7 [00:10<00:09,  3.32s/it]"
     ]
    },
    {
     "name": "stdout",
     "output_type": "stream",
     "text": [
      "Model Was Not Saved ! Current Best Avg. Dice: 0.28835099935531616 Current Avg. Dice: 0.25178003311157227 Current Avg. tumor Dice: 0.25384148955345154 Current Avg. lymph Dice: 0.2497185468673706\n"
     ]
    },
    {
     "name": "stderr",
     "output_type": "stream",
     "text": [
      "Training (5403 / 18000 Steps) (loss=0.58823): 100%|██████████| 7/7 [00:12<00:00,  1.73s/it]\n",
      "Training (5410 / 18000 Steps) (loss=0.47247): 100%|██████████| 7/7 [00:06<00:00,  1.01it/s]\n",
      "Training (5417 / 18000 Steps) (loss=0.56070): 100%|██████████| 7/7 [00:07<00:00,  1.01s/it]\n",
      "Training (5424 / 18000 Steps) (loss=0.60912): 100%|██████████| 7/7 [00:07<00:00,  1.06s/it]\n",
      "Training (5431 / 18000 Steps) (loss=0.57970): 100%|██████████| 7/7 [00:07<00:00,  1.06s/it]\n",
      "Training (5438 / 18000 Steps) (loss=0.41917): 100%|██████████| 7/7 [00:07<00:00,  1.06s/it]\n",
      "Training (5445 / 18000 Steps) (loss=0.66903): 100%|██████████| 7/7 [00:07<00:00,  1.10s/it]\n",
      "Training (5452 / 18000 Steps) (loss=0.53577): 100%|██████████| 7/7 [00:08<00:00,  1.14s/it]\n",
      "Training (5459 / 18000 Steps) (loss=0.47214): 100%|██████████| 7/7 [00:05<00:00,  1.22it/s]\n",
      "Training (5466 / 18000 Steps) (loss=0.56160): 100%|██████████| 7/7 [00:07<00:00,  1.01s/it]\n",
      "Training (5473 / 18000 Steps) (loss=0.46471): 100%|██████████| 7/7 [00:05<00:00,  1.20it/s]\n",
      "Training (5480 / 18000 Steps) (loss=0.39336): 100%|██████████| 7/7 [00:05<00:00,  1.27it/s]\n",
      "Training (5487 / 18000 Steps) (loss=0.52431): 100%|██████████| 7/7 [00:05<00:00,  1.25it/s]\n",
      "Training (5494 / 18000 Steps) (loss=0.32016): 100%|██████████| 7/7 [00:05<00:00,  1.22it/s]\n",
      "Validate (5495 / 10 Steps): 100%|██████████| 2/2 [00:06<00:00,  3.28s/it]<00:02,  1.04s/it]\n",
      "Training (5500 / 18000 Steps) (loss=0.61093):  86%|████████▌ | 6/7 [00:13<00:03,  3.09s/it]"
     ]
    },
    {
     "name": "stdout",
     "output_type": "stream",
     "text": [
      "Model Was Not Saved ! Current Best Avg. Dice: 0.28835099935531616 Current Avg. Dice: 0.25431618094444275 Current Avg. tumor Dice: 0.27813270688056946 Current Avg. lymph Dice: 0.23049965500831604\n"
     ]
    },
    {
     "name": "stderr",
     "output_type": "stream",
     "text": [
      "Training (5501 / 18000 Steps) (loss=0.42511): 100%|██████████| 7/7 [00:14<00:00,  2.07s/it]\n",
      "Training (5508 / 18000 Steps) (loss=0.33367): 100%|██████████| 7/7 [00:08<00:00,  1.24s/it]\n",
      "Training (5515 / 18000 Steps) (loss=0.46828): 100%|██████████| 7/7 [00:08<00:00,  1.22s/it]\n",
      "Training (5522 / 18000 Steps) (loss=0.54176): 100%|██████████| 7/7 [00:08<00:00,  1.18s/it]\n",
      "Training (5529 / 18000 Steps) (loss=0.49687): 100%|██████████| 7/7 [00:08<00:00,  1.17s/it]\n",
      "Training (5536 / 18000 Steps) (loss=0.45955): 100%|██████████| 7/7 [00:07<00:00,  1.04s/it]\n",
      "Training (5543 / 18000 Steps) (loss=0.52798): 100%|██████████| 7/7 [00:07<00:00,  1.10s/it]\n",
      "Training (5550 / 18000 Steps) (loss=0.46722): 100%|██████████| 7/7 [00:07<00:00,  1.06s/it]\n",
      "Training (5557 / 18000 Steps) (loss=0.66695): 100%|██████████| 7/7 [00:08<00:00,  1.19s/it]\n",
      "Training (5564 / 18000 Steps) (loss=0.46483): 100%|██████████| 7/7 [00:06<00:00,  1.10it/s]\n",
      "Training (5571 / 18000 Steps) (loss=0.67149): 100%|██████████| 7/7 [00:06<00:00,  1.02it/s]\n",
      "Training (5578 / 18000 Steps) (loss=0.45723): 100%|██████████| 7/7 [00:05<00:00,  1.22it/s]\n",
      "Training (5585 / 18000 Steps) (loss=0.60108): 100%|██████████| 7/7 [00:05<00:00,  1.26it/s]\n",
      "Training (5592 / 18000 Steps) (loss=0.42658): 100%|██████████| 7/7 [00:05<00:00,  1.27it/s]\n",
      "Training (5599 / 18000 Steps) (loss=0.53908): 100%|██████████| 7/7 [00:05<00:00,  1.31it/s]\n",
      "Validate (5600 / 10 Steps): 100%|██████████| 2/2 [00:06<00:00,  3.33s/it]<?, ?it/s]\n",
      "Training (5600 / 18000 Steps) (loss=0.43815):  14%|█▍        | 1/7 [00:09<00:59,  9.95s/it]"
     ]
    },
    {
     "name": "stdout",
     "output_type": "stream",
     "text": [
      "Model Was Not Saved ! Current Best Avg. Dice: 0.28835099935531616 Current Avg. Dice: 0.25011032819747925 Current Avg. tumor Dice: 0.2627188563346863 Current Avg. lymph Dice: 0.23750180006027222\n"
     ]
    },
    {
     "name": "stderr",
     "output_type": "stream",
     "text": [
      "Training (5606 / 18000 Steps) (loss=0.57853): 100%|██████████| 7/7 [00:13<00:00,  1.89s/it]\n",
      "Training (5613 / 18000 Steps) (loss=0.34730): 100%|██████████| 7/7 [00:06<00:00,  1.05it/s]\n",
      "Training (5620 / 18000 Steps) (loss=0.46074): 100%|██████████| 7/7 [00:06<00:00,  1.09it/s]\n",
      "Training (5627 / 18000 Steps) (loss=0.33197): 100%|██████████| 7/7 [00:07<00:00,  1.08s/it]\n",
      "Training (5634 / 18000 Steps) (loss=0.63826): 100%|██████████| 7/7 [00:08<00:00,  1.15s/it]\n",
      "Training (5641 / 18000 Steps) (loss=0.47869): 100%|██████████| 7/7 [00:08<00:00,  1.18s/it]\n",
      "Training (5648 / 18000 Steps) (loss=0.44388): 100%|██████████| 7/7 [00:08<00:00,  1.19s/it]\n",
      "Training (5655 / 18000 Steps) (loss=0.58434): 100%|██████████| 7/7 [00:08<00:00,  1.20s/it]\n",
      "Training (5662 / 18000 Steps) (loss=0.46360): 100%|██████████| 7/7 [00:08<00:00,  1.22s/it]\n",
      "Training (5669 / 18000 Steps) (loss=0.42896): 100%|██████████| 7/7 [00:08<00:00,  1.21s/it]\n",
      "Training (5676 / 18000 Steps) (loss=0.55974): 100%|██████████| 7/7 [00:05<00:00,  1.18it/s]\n",
      "Training (5683 / 18000 Steps) (loss=0.60946): 100%|██████████| 7/7 [00:06<00:00,  1.01it/s]\n",
      "Training (5690 / 18000 Steps) (loss=0.49320): 100%|██████████| 7/7 [00:06<00:00,  1.15it/s]\n",
      "Training (5697 / 18000 Steps) (loss=0.57754): 100%|██████████| 7/7 [00:05<00:00,  1.24it/s]\n",
      "Validate (5698 / 10 Steps): 100%|██████████| 2/2 [00:04<00:00,  2.14s/it]<00:07,  1.60s/it]\n",
      "Training (5700 / 18000 Steps) (loss=0.52705):  43%|████▎     | 3/7 [00:08<00:12,  3.04s/it]"
     ]
    },
    {
     "name": "stdout",
     "output_type": "stream",
     "text": [
      "Model Was Not Saved ! Current Best Avg. Dice: 0.28835099935531616 Current Avg. Dice: 0.24131113290786743 Current Avg. tumor Dice: 0.22604608535766602 Current Avg. lymph Dice: 0.25657621026039124\n"
     ]
    },
    {
     "name": "stderr",
     "output_type": "stream",
     "text": [
      "Training (5704 / 18000 Steps) (loss=0.51916): 100%|██████████| 7/7 [00:10<00:00,  1.43s/it]\n",
      "Training (5711 / 18000 Steps) (loss=0.49463): 100%|██████████| 7/7 [00:08<00:00,  1.15s/it]\n",
      "Training (5718 / 18000 Steps) (loss=0.39505): 100%|██████████| 7/7 [00:08<00:00,  1.17s/it]\n",
      "Training (5725 / 18000 Steps) (loss=0.28620): 100%|██████████| 7/7 [00:08<00:00,  1.18s/it]\n",
      "Training (5732 / 18000 Steps) (loss=0.46148): 100%|██████████| 7/7 [00:07<00:00,  1.10s/it]\n",
      "Training (5739 / 18000 Steps) (loss=0.57901): 100%|██████████| 7/7 [00:07<00:00,  1.11s/it]\n",
      "Training (5746 / 18000 Steps) (loss=0.50839): 100%|██████████| 7/7 [00:07<00:00,  1.14s/it]\n",
      "Training (5753 / 18000 Steps) (loss=0.51670): 100%|██████████| 7/7 [00:08<00:00,  1.18s/it]\n",
      "Training (5760 / 18000 Steps) (loss=0.53572): 100%|██████████| 7/7 [00:08<00:00,  1.16s/it]\n",
      "Training (5767 / 18000 Steps) (loss=0.59253): 100%|██████████| 7/7 [00:07<00:00,  1.11s/it]\n",
      "Training (5774 / 18000 Steps) (loss=0.60261): 100%|██████████| 7/7 [00:07<00:00,  1.13s/it]\n",
      "Training (5781 / 18000 Steps) (loss=0.62432): 100%|██████████| 7/7 [00:06<00:00,  1.11it/s]\n",
      "Training (5788 / 18000 Steps) (loss=0.56845): 100%|██████████| 7/7 [00:06<00:00,  1.08it/s]\n",
      "Training (5795 / 18000 Steps) (loss=0.54726): 100%|██████████| 7/7 [00:06<00:00,  1.13it/s]\n",
      "Validate (5796 / 10 Steps): 100%|██████████| 2/2 [00:04<00:00,  2.09s/it]<00:02,  1.25it/s]\n",
      "Training (5800 / 18000 Steps) (loss=0.52515):  71%|███████▏  | 5/7 [00:09<00:04,  2.19s/it]"
     ]
    },
    {
     "name": "stdout",
     "output_type": "stream",
     "text": [
      "Model Was Not Saved ! Current Best Avg. Dice: 0.28835099935531616 Current Avg. Dice: 0.2662999629974365 Current Avg. tumor Dice: 0.2925754487514496 Current Avg. lymph Dice: 0.24002450704574585\n"
     ]
    },
    {
     "name": "stderr",
     "output_type": "stream",
     "text": [
      "Training (5802 / 18000 Steps) (loss=0.52366): 100%|██████████| 7/7 [00:09<00:00,  1.41s/it]\n",
      "Training (5809 / 18000 Steps) (loss=0.57896): 100%|██████████| 7/7 [00:05<00:00,  1.28it/s]\n",
      "Training (5816 / 18000 Steps) (loss=0.58543): 100%|██████████| 7/7 [00:06<00:00,  1.02it/s]\n",
      "Training (5823 / 18000 Steps) (loss=0.51199): 100%|██████████| 7/7 [00:06<00:00,  1.09it/s]\n",
      "Training (5830 / 18000 Steps) (loss=0.57001): 100%|██████████| 7/7 [00:06<00:00,  1.06it/s]\n",
      "Training (5837 / 18000 Steps) (loss=0.42107): 100%|██████████| 7/7 [00:06<00:00,  1.00it/s]\n",
      "Training (5844 / 18000 Steps) (loss=0.46797): 100%|██████████| 7/7 [00:06<00:00,  1.07it/s]\n",
      "Training (5851 / 18000 Steps) (loss=0.34578): 100%|██████████| 7/7 [00:07<00:00,  1.07s/it]\n",
      "Training (5858 / 18000 Steps) (loss=0.41671): 100%|██████████| 7/7 [00:07<00:00,  1.10s/it]\n",
      "Training (5865 / 18000 Steps) (loss=0.56757): 100%|██████████| 7/7 [00:08<00:00,  1.15s/it]\n",
      "Training (5872 / 18000 Steps) (loss=0.50615): 100%|██████████| 7/7 [00:08<00:00,  1.17s/it]\n",
      "Training (5879 / 18000 Steps) (loss=0.62611): 100%|██████████| 7/7 [00:08<00:00,  1.17s/it]\n",
      "Training (5886 / 18000 Steps) (loss=0.33483): 100%|██████████| 7/7 [00:08<00:00,  1.18s/it]\n",
      "Training (5893 / 18000 Steps) (loss=0.50185): 100%|██████████| 7/7 [00:05<00:00,  1.21it/s]\n",
      "Validate (5894 / 10 Steps): 100%|██████████| 2/2 [00:04<00:00,  2.18s/it]<00:00,  1.20it/s]\n",
      "Training (5900 / 18000 Steps) (loss=0.43463): 100%|██████████| 7/7 [00:11<00:00,  1.66s/it]\n"
     ]
    },
    {
     "name": "stdout",
     "output_type": "stream",
     "text": [
      "Model Was Not Saved ! Current Best Avg. Dice: 0.28835099935531616 Current Avg. Dice: 0.2881755232810974 Current Avg. tumor Dice: 0.34425705671310425 Current Avg. lymph Dice: 0.23209398984909058\n"
     ]
    },
    {
     "name": "stderr",
     "output_type": "stream",
     "text": [
      "Training (5907 / 18000 Steps) (loss=0.38083): 100%|██████████| 7/7 [00:05<00:00,  1.28it/s]\n",
      "Training (5914 / 18000 Steps) (loss=0.52642): 100%|██████████| 7/7 [00:05<00:00,  1.24it/s]\n",
      "Training (5921 / 18000 Steps) (loss=0.61919): 100%|██████████| 7/7 [00:05<00:00,  1.26it/s]\n",
      "Training (5928 / 18000 Steps) (loss=0.50010): 100%|██████████| 7/7 [00:08<00:00,  1.22s/it]\n",
      "Training (5935 / 18000 Steps) (loss=0.36839): 100%|██████████| 7/7 [00:08<00:00,  1.22s/it]\n",
      "Training (5942 / 18000 Steps) (loss=0.57168): 100%|██████████| 7/7 [00:08<00:00,  1.23s/it]\n",
      "Training (5949 / 18000 Steps) (loss=0.46184): 100%|██████████| 7/7 [00:08<00:00,  1.23s/it]\n",
      "Training (5956 / 18000 Steps) (loss=0.35111): 100%|██████████| 7/7 [00:08<00:00,  1.24s/it]\n",
      "Training (5963 / 18000 Steps) (loss=0.56607): 100%|██████████| 7/7 [00:08<00:00,  1.23s/it]\n",
      "Training (5970 / 18000 Steps) (loss=0.51968): 100%|██████████| 7/7 [00:08<00:00,  1.21s/it]\n",
      "Training (5977 / 18000 Steps) (loss=0.49983): 100%|██████████| 7/7 [00:08<00:00,  1.19s/it]\n",
      "Training (5984 / 18000 Steps) (loss=0.43930): 100%|██████████| 7/7 [00:08<00:00,  1.21s/it]\n",
      "Training (5991 / 18000 Steps) (loss=0.59729): 100%|██████████| 7/7 [00:08<00:00,  1.24s/it]\n",
      "Training (5998 / 18000 Steps) (loss=0.45214): 100%|██████████| 7/7 [00:06<00:00,  1.16it/s]\n",
      "Validate (5999 / 10 Steps): 100%|██████████| 2/2 [00:05<00:00,  2.56s/it]<00:20,  3.46s/it]\n",
      "Training (6000 / 18000 Steps) (loss=0.41684):  29%|██▊       | 2/7 [00:09<00:24,  4.87s/it]"
     ]
    },
    {
     "name": "stdout",
     "output_type": "stream",
     "text": [
      "Model Was Not Saved ! Current Best Avg. Dice: 0.28835099935531616 Current Avg. Dice: 0.2575887441635132 Current Avg. tumor Dice: 0.27306491136550903 Current Avg. lymph Dice: 0.24211254715919495\n"
     ]
    },
    {
     "name": "stderr",
     "output_type": "stream",
     "text": [
      "Training (6005 / 18000 Steps) (loss=0.37084): 100%|██████████| 7/7 [00:11<00:00,  1.62s/it]\n",
      "Training (6012 / 18000 Steps) (loss=0.45222): 100%|██████████| 7/7 [00:05<00:00,  1.26it/s]\n",
      "Training (6019 / 18000 Steps) (loss=0.45738): 100%|██████████| 7/7 [00:05<00:00,  1.30it/s]\n",
      "Training (6026 / 18000 Steps) (loss=0.62797): 100%|██████████| 7/7 [00:05<00:00,  1.28it/s]\n",
      "Training (6033 / 18000 Steps) (loss=0.43888): 100%|██████████| 7/7 [00:08<00:00,  1.19s/it]\n",
      "Training (6040 / 18000 Steps) (loss=0.53623): 100%|██████████| 7/7 [00:08<00:00,  1.17s/it]\n",
      "Training (6047 / 18000 Steps) (loss=0.44982): 100%|██████████| 7/7 [00:08<00:00,  1.22s/it]\n",
      "Training (6054 / 18000 Steps) (loss=0.57095): 100%|██████████| 7/7 [00:08<00:00,  1.19s/it]\n",
      "Training (6061 / 18000 Steps) (loss=0.50759): 100%|██████████| 7/7 [00:08<00:00,  1.15s/it]\n",
      "Training (6068 / 18000 Steps) (loss=0.57561): 100%|██████████| 7/7 [00:08<00:00,  1.20s/it]\n",
      "Training (6075 / 18000 Steps) (loss=0.47236): 100%|██████████| 7/7 [00:08<00:00,  1.15s/it]\n",
      "Training (6082 / 18000 Steps) (loss=0.48501): 100%|██████████| 7/7 [00:07<00:00,  1.11s/it]\n",
      "Training (6089 / 18000 Steps) (loss=0.35775): 100%|██████████| 7/7 [00:07<00:00,  1.11s/it]\n",
      "Training (6096 / 18000 Steps) (loss=0.56704): 100%|██████████| 7/7 [00:06<00:00,  1.04it/s]\n",
      "Validate (6097 / 10 Steps): 100%|██████████| 2/2 [00:04<00:00,  2.21s/it]<00:04,  1.08s/it]\n",
      "Training (6100 / 18000 Steps) (loss=0.59505):  57%|█████▋    | 4/7 [00:09<00:07,  2.60s/it]"
     ]
    },
    {
     "name": "stdout",
     "output_type": "stream",
     "text": [
      "Model Was Not Saved ! Current Best Avg. Dice: 0.28835099935531616 Current Avg. Dice: 0.2584392726421356 Current Avg. tumor Dice: 0.2880518138408661 Current Avg. lymph Dice: 0.22882676124572754\n"
     ]
    },
    {
     "name": "stderr",
     "output_type": "stream",
     "text": [
      "Training (6103 / 18000 Steps) (loss=0.23970): 100%|██████████| 7/7 [00:10<00:00,  1.48s/it]\n",
      "Training (6110 / 18000 Steps) (loss=0.52384): 100%|██████████| 7/7 [00:07<00:00,  1.07s/it]\n",
      "Training (6117 / 18000 Steps) (loss=0.68641): 100%|██████████| 7/7 [00:05<00:00,  1.19it/s]\n",
      "Training (6124 / 18000 Steps) (loss=0.39663): 100%|██████████| 7/7 [00:05<00:00,  1.29it/s]\n",
      "Training (6131 / 18000 Steps) (loss=0.66812): 100%|██████████| 7/7 [00:05<00:00,  1.28it/s]\n",
      "Training (6138 / 18000 Steps) (loss=0.39516): 100%|██████████| 7/7 [00:05<00:00,  1.29it/s]\n",
      "Training (6145 / 18000 Steps) (loss=0.49572): 100%|██████████| 7/7 [00:07<00:00,  1.02s/it]\n",
      "Training (6152 / 18000 Steps) (loss=0.55206): 100%|██████████| 7/7 [00:07<00:00,  1.13s/it]\n",
      "Training (6159 / 18000 Steps) (loss=0.59090): 100%|██████████| 7/7 [00:08<00:00,  1.15s/it]\n",
      "Training (6166 / 18000 Steps) (loss=0.51260): 100%|██████████| 7/7 [00:08<00:00,  1.21s/it]\n",
      "Training (6173 / 18000 Steps) (loss=0.51402): 100%|██████████| 7/7 [00:08<00:00,  1.18s/it]\n",
      "Training (6180 / 18000 Steps) (loss=0.59238): 100%|██████████| 7/7 [00:08<00:00,  1.17s/it]\n",
      "Training (6187 / 18000 Steps) (loss=0.57469): 100%|██████████| 7/7 [00:08<00:00,  1.18s/it]\n",
      "Training (6194 / 18000 Steps) (loss=0.53272): 100%|██████████| 7/7 [00:08<00:00,  1.20s/it]\n",
      "Validate (6195 / 10 Steps): 100%|██████████| 2/2 [00:04<00:00,  2.49s/it]<00:02,  1.07s/it]\n",
      "Training (6200 / 18000 Steps) (loss=0.52797):  86%|████████▌ | 6/7 [00:12<00:02,  2.71s/it]"
     ]
    },
    {
     "name": "stdout",
     "output_type": "stream",
     "text": [
      "Model Was Not Saved ! Current Best Avg. Dice: 0.28835099935531616 Current Avg. Dice: 0.27644234895706177 Current Avg. tumor Dice: 0.314701646566391 Current Avg. lymph Dice: 0.23818302154541016\n"
     ]
    },
    {
     "name": "stderr",
     "output_type": "stream",
     "text": [
      "Training (6201 / 18000 Steps) (loss=0.28976): 100%|██████████| 7/7 [00:13<00:00,  1.89s/it]\n",
      "Training (6208 / 18000 Steps) (loss=0.52709): 100%|██████████| 7/7 [00:06<00:00,  1.07it/s]\n",
      "Training (6215 / 18000 Steps) (loss=0.43344): 100%|██████████| 7/7 [00:05<00:00,  1.27it/s]\n",
      "Training (6222 / 18000 Steps) (loss=0.57656): 100%|██████████| 7/7 [00:06<00:00,  1.01it/s]\n",
      "Training (6229 / 18000 Steps) (loss=0.61150): 100%|██████████| 7/7 [00:05<00:00,  1.25it/s]\n",
      "Training (6236 / 18000 Steps) (loss=0.57238): 100%|██████████| 7/7 [00:06<00:00,  1.16it/s]\n",
      "Training (6243 / 18000 Steps) (loss=0.51115): 100%|██████████| 7/7 [00:05<00:00,  1.22it/s]\n",
      "Training (6250 / 18000 Steps) (loss=0.53638): 100%|██████████| 7/7 [00:05<00:00,  1.29it/s]\n",
      "Training (6257 / 18000 Steps) (loss=0.44481): 100%|██████████| 7/7 [00:07<00:00,  1.09s/it]\n",
      "Training (6264 / 18000 Steps) (loss=0.34383): 100%|██████████| 7/7 [00:07<00:00,  1.14s/it]\n",
      "Training (6271 / 18000 Steps) (loss=0.53547): 100%|██████████| 7/7 [00:08<00:00,  1.17s/it]\n",
      "Training (6278 / 18000 Steps) (loss=0.36609): 100%|██████████| 7/7 [00:08<00:00,  1.19s/it]\n",
      "Training (6285 / 18000 Steps) (loss=0.51340): 100%|██████████| 7/7 [00:08<00:00,  1.20s/it]\n",
      "Training (6292 / 18000 Steps) (loss=0.66693): 100%|██████████| 7/7 [00:08<00:00,  1.16s/it]\n",
      "Training (6299 / 18000 Steps) (loss=0.53853): 100%|██████████| 7/7 [00:08<00:00,  1.20s/it]\n",
      "Validate (6300 / 10 Steps): 100%|██████████| 2/2 [00:05<00:00,  2.97s/it]<?, ?it/s]\n",
      "Training (6300 / 18000 Steps) (loss=0.46108):  14%|█▍        | 1/7 [00:09<00:57,  9.65s/it]"
     ]
    },
    {
     "name": "stdout",
     "output_type": "stream",
     "text": [
      "Model Was Not Saved ! Current Best Avg. Dice: 0.28835099935531616 Current Avg. Dice: 0.26060155034065247 Current Avg. tumor Dice: 0.3184686601161957 Current Avg. lymph Dice: 0.20273447036743164\n"
     ]
    },
    {
     "name": "stderr",
     "output_type": "stream",
     "text": [
      "Training (6306 / 18000 Steps) (loss=0.46554): 100%|██████████| 7/7 [00:13<00:00,  1.92s/it]\n",
      "Training (6313 / 18000 Steps) (loss=0.47940): 100%|██████████| 7/7 [00:06<00:00,  1.02it/s]\n",
      "Training (6320 / 18000 Steps) (loss=0.58981): 100%|██████████| 7/7 [00:06<00:00,  1.08it/s]\n",
      "Training (6327 / 18000 Steps) (loss=0.59703): 100%|██████████| 7/7 [00:06<00:00,  1.14it/s]\n",
      "Training (6334 / 18000 Steps) (loss=0.48617): 100%|██████████| 7/7 [00:07<00:00,  1.02s/it]\n",
      "Training (6341 / 18000 Steps) (loss=0.34406): 100%|██████████| 7/7 [00:05<00:00,  1.23it/s]\n",
      "Training (6348 / 18000 Steps) (loss=0.22158): 100%|██████████| 7/7 [00:05<00:00,  1.30it/s]\n",
      "Training (6355 / 18000 Steps) (loss=0.35505): 100%|██████████| 7/7 [00:05<00:00,  1.19it/s]\n",
      "Training (6362 / 18000 Steps) (loss=0.38204): 100%|██████████| 7/7 [00:05<00:00,  1.24it/s]\n",
      "Training (6369 / 18000 Steps) (loss=0.48657): 100%|██████████| 7/7 [00:05<00:00,  1.28it/s]\n",
      "Training (6376 / 18000 Steps) (loss=0.60501): 100%|██████████| 7/7 [00:05<00:00,  1.28it/s]\n",
      "Training (6383 / 18000 Steps) (loss=0.61929): 100%|██████████| 7/7 [00:05<00:00,  1.25it/s]\n",
      "Training (6390 / 18000 Steps) (loss=0.40716): 100%|██████████| 7/7 [00:05<00:00,  1.20it/s]\n",
      "Training (6397 / 18000 Steps) (loss=0.64334): 100%|██████████| 7/7 [00:08<00:00,  1.15s/it]\n",
      "Validate (6398 / 10 Steps): 100%|██████████| 2/2 [00:04<00:00,  2.38s/it]<00:09,  1.92s/it]\n",
      "Training (6400 / 18000 Steps) (loss=0.45448):  43%|████▎     | 3/7 [00:09<00:14,  3.62s/it]"
     ]
    },
    {
     "name": "stdout",
     "output_type": "stream",
     "text": [
      "Model Was Not Saved ! Current Best Avg. Dice: 0.28835099935531616 Current Avg. Dice: 0.2586018443107605 Current Avg. tumor Dice: 0.2745905816555023 Current Avg. lymph Dice: 0.24261310696601868\n"
     ]
    },
    {
     "name": "stderr",
     "output_type": "stream",
     "text": [
      "Training (6404 / 18000 Steps) (loss=0.49649): 100%|██████████| 7/7 [00:12<00:00,  1.86s/it]\n",
      "Training (6411 / 18000 Steps) (loss=0.40646): 100%|██████████| 7/7 [00:06<00:00,  1.03it/s]\n",
      "Training (6418 / 18000 Steps) (loss=0.42435): 100%|██████████| 7/7 [00:06<00:00,  1.08it/s]\n",
      "Training (6425 / 18000 Steps) (loss=0.51891): 100%|██████████| 7/7 [00:06<00:00,  1.07it/s]\n",
      "Training (6432 / 18000 Steps) (loss=0.57670): 100%|██████████| 7/7 [00:07<00:00,  1.02s/it]\n",
      "Training (6439 / 18000 Steps) (loss=0.31014): 100%|██████████| 7/7 [00:07<00:00,  1.10s/it]\n",
      "Training (6446 / 18000 Steps) (loss=0.57766): 100%|██████████| 7/7 [00:07<00:00,  1.11s/it]\n",
      "Training (6453 / 18000 Steps) (loss=0.26882): 100%|██████████| 7/7 [00:08<00:00,  1.16s/it]\n",
      "Training (6460 / 18000 Steps) (loss=0.46313): 100%|██████████| 7/7 [00:08<00:00,  1.19s/it]\n",
      "Training (6467 / 18000 Steps) (loss=0.35895): 100%|██████████| 7/7 [00:06<00:00,  1.17it/s]\n",
      "Training (6474 / 18000 Steps) (loss=0.30781): 100%|██████████| 7/7 [00:07<00:00,  1.09s/it]\n",
      "Training (6481 / 18000 Steps) (loss=0.44445): 100%|██████████| 7/7 [00:05<00:00,  1.29it/s]\n",
      "Training (6488 / 18000 Steps) (loss=0.35048): 100%|██████████| 7/7 [00:05<00:00,  1.24it/s]\n",
      "Training (6495 / 18000 Steps) (loss=0.38962): 100%|██████████| 7/7 [00:05<00:00,  1.26it/s]\n",
      "Validate (6496 / 10 Steps): 100%|██████████| 2/2 [00:06<00:00,  3.25s/it]<00:02,  1.29it/s]\n",
      "Training (6500 / 18000 Steps) (loss=0.58356):  71%|███████▏  | 5/7 [00:11<00:06,  3.01s/it]"
     ]
    },
    {
     "name": "stdout",
     "output_type": "stream",
     "text": [
      "Model Was Not Saved ! Current Best Avg. Dice: 0.28835099935531616 Current Avg. Dice: 0.19957734644412994 Current Avg. tumor Dice: 0.24098357558250427 Current Avg. lymph Dice: 0.1581711322069168\n"
     ]
    },
    {
     "name": "stderr",
     "output_type": "stream",
     "text": [
      "Training (6502 / 18000 Steps) (loss=0.59245): 100%|██████████| 7/7 [00:12<00:00,  1.78s/it]\n",
      "Training (6509 / 18000 Steps) (loss=0.56592): 100%|██████████| 7/7 [00:08<00:00,  1.19s/it]\n",
      "Training (6516 / 18000 Steps) (loss=0.57063): 100%|██████████| 7/7 [00:08<00:00,  1.16s/it]\n",
      "Training (6523 / 18000 Steps) (loss=0.37774): 100%|██████████| 7/7 [00:08<00:00,  1.20s/it]\n",
      "Training (6530 / 18000 Steps) (loss=0.46403): 100%|██████████| 7/7 [00:08<00:00,  1.20s/it]\n",
      "Training (6537 / 18000 Steps) (loss=0.61466): 100%|██████████| 7/7 [00:08<00:00,  1.20s/it]\n",
      "Training (6544 / 18000 Steps) (loss=0.52318): 100%|██████████| 7/7 [00:08<00:00,  1.23s/it]\n",
      "Training (6551 / 18000 Steps) (loss=0.32008): 100%|██████████| 7/7 [00:08<00:00,  1.21s/it]\n",
      "Training (6558 / 18000 Steps) (loss=0.62397): 100%|██████████| 7/7 [00:08<00:00,  1.20s/it]\n",
      "Training (6565 / 18000 Steps) (loss=0.32368): 100%|██████████| 7/7 [00:08<00:00,  1.17s/it]\n",
      "Training (6572 / 18000 Steps) (loss=0.45557): 100%|██████████| 7/7 [00:05<00:00,  1.17it/s]\n",
      "Training (6579 / 18000 Steps) (loss=0.48589): 100%|██████████| 7/7 [00:07<00:00,  1.05s/it]\n",
      "Training (6586 / 18000 Steps) (loss=0.56063): 100%|██████████| 7/7 [00:05<00:00,  1.25it/s]\n",
      "Training (6593 / 18000 Steps) (loss=0.58299): 100%|██████████| 7/7 [00:05<00:00,  1.29it/s]\n",
      "Validate (6594 / 10 Steps): 100%|██████████| 2/2 [00:04<00:00,  2.10s/it]<00:00,  1.77it/s]\n",
      "Training (6600 / 18000 Steps) (loss=0.48477): 100%|██████████| 7/7 [00:09<00:00,  1.38s/it]\n"
     ]
    },
    {
     "name": "stdout",
     "output_type": "stream",
     "text": [
      "Model Was Not Saved ! Current Best Avg. Dice: 0.28835099935531616 Current Avg. Dice: 0.2464117705821991 Current Avg. tumor Dice: 0.29430854320526123 Current Avg. lymph Dice: 0.19851502776145935\n"
     ]
    },
    {
     "name": "stderr",
     "output_type": "stream",
     "text": [
      "Training (6607 / 18000 Steps) (loss=0.34161): 100%|██████████| 7/7 [00:07<00:00,  1.08s/it]\n",
      "Training (6614 / 18000 Steps) (loss=0.28169): 100%|██████████| 7/7 [00:07<00:00,  1.02s/it]\n",
      "Training (6621 / 18000 Steps) (loss=0.53366): 100%|██████████| 7/7 [00:07<00:00,  1.04s/it]\n",
      "Training (6628 / 18000 Steps) (loss=0.44380): 100%|██████████| 7/7 [00:06<00:00,  1.08it/s]\n",
      "Training (6635 / 18000 Steps) (loss=0.32791): 100%|██████████| 7/7 [00:06<00:00,  1.07it/s]\n",
      "Training (6642 / 18000 Steps) (loss=0.28060): 100%|██████████| 7/7 [00:06<00:00,  1.03it/s]\n",
      "Training (6649 / 18000 Steps) (loss=0.43407): 100%|██████████| 7/7 [00:07<00:00,  1.02s/it]\n",
      "Training (6656 / 18000 Steps) (loss=0.49654): 100%|██████████| 7/7 [00:07<00:00,  1.08s/it]\n",
      "Training (6663 / 18000 Steps) (loss=0.44049): 100%|██████████| 7/7 [00:07<00:00,  1.12s/it]\n",
      "Training (6670 / 18000 Steps) (loss=0.56230): 100%|██████████| 7/7 [00:07<00:00,  1.14s/it]\n",
      "Training (6677 / 18000 Steps) (loss=0.27523): 100%|██████████| 7/7 [00:08<00:00,  1.15s/it]\n",
      "Training (6684 / 18000 Steps) (loss=0.60970): 100%|██████████| 7/7 [00:05<00:00,  1.24it/s]\n",
      "Training (6691 / 18000 Steps) (loss=0.48499): 100%|██████████| 7/7 [00:07<00:00,  1.05s/it]\n",
      "Training (6698 / 18000 Steps) (loss=0.47933): 100%|██████████| 7/7 [00:05<00:00,  1.23it/s]\n",
      "Validate (6699 / 10 Steps): 100%|██████████| 2/2 [00:04<00:00,  2.09s/it]<00:18,  3.06s/it]\n",
      "Training (6700 / 18000 Steps) (loss=0.41608):  29%|██▊       | 2/7 [00:07<00:19,  3.98s/it]"
     ]
    },
    {
     "name": "stdout",
     "output_type": "stream",
     "text": [
      "Model Was Not Saved ! Current Best Avg. Dice: 0.28835099935531616 Current Avg. Dice: 0.23380757868289948 Current Avg. tumor Dice: 0.2853965759277344 Current Avg. lymph Dice: 0.18221858143806458\n"
     ]
    },
    {
     "name": "stderr",
     "output_type": "stream",
     "text": [
      "Training (6705 / 18000 Steps) (loss=0.42309): 100%|██████████| 7/7 [00:09<00:00,  1.39s/it]\n",
      "Training (6712 / 18000 Steps) (loss=0.21193): 100%|██████████| 7/7 [00:05<00:00,  1.28it/s]\n",
      "Training (6719 / 18000 Steps) (loss=0.67000): 100%|██████████| 7/7 [00:08<00:00,  1.16s/it]\n",
      "Training (6726 / 18000 Steps) (loss=0.47699): 100%|██████████| 7/7 [00:07<00:00,  1.14s/it]\n",
      "Training (6733 / 18000 Steps) (loss=0.61098): 100%|██████████| 7/7 [00:07<00:00,  1.12s/it]\n",
      "Training (6740 / 18000 Steps) (loss=0.57984): 100%|██████████| 7/7 [00:07<00:00,  1.12s/it]\n",
      "Training (6747 / 18000 Steps) (loss=0.25678): 100%|██████████| 7/7 [00:07<00:00,  1.00s/it]\n",
      "Training (6754 / 18000 Steps) (loss=0.56253): 100%|██████████| 7/7 [00:07<00:00,  1.08s/it]\n",
      "Training (6761 / 18000 Steps) (loss=0.39298): 100%|██████████| 7/7 [00:07<00:00,  1.03s/it]\n",
      "Training (6768 / 18000 Steps) (loss=0.29980): 100%|██████████| 7/7 [00:07<00:00,  1.04s/it]\n",
      "Training (6775 / 18000 Steps) (loss=0.60046): 100%|██████████| 7/7 [00:06<00:00,  1.09it/s]\n",
      "Training (6782 / 18000 Steps) (loss=0.53488): 100%|██████████| 7/7 [00:06<00:00,  1.07it/s]\n",
      "Training (6789 / 18000 Steps) (loss=0.47256): 100%|██████████| 7/7 [00:06<00:00,  1.02it/s]\n",
      "Training (6796 / 18000 Steps) (loss=0.56211): 100%|██████████| 7/7 [00:05<00:00,  1.27it/s]\n",
      "Validate (6797 / 10 Steps): 100%|██████████| 2/2 [00:04<00:00,  2.30s/it]<00:05,  1.33s/it]\n",
      "Training (6800 / 18000 Steps) (loss=0.52334):  57%|█████▋    | 4/7 [00:10<00:08,  2.88s/it]"
     ]
    },
    {
     "name": "stdout",
     "output_type": "stream",
     "text": [
      "Model Was Not Saved ! Current Best Avg. Dice: 0.28835099935531616 Current Avg. Dice: 0.23192042112350464 Current Avg. tumor Dice: 0.2734247148036957 Current Avg. lymph Dice: 0.190416157245636\n"
     ]
    },
    {
     "name": "stderr",
     "output_type": "stream",
     "text": [
      "Training (6803 / 18000 Steps) (loss=0.54672): 100%|██████████| 7/7 [00:11<00:00,  1.64s/it]\n",
      "Training (6810 / 18000 Steps) (loss=0.68030): 100%|██████████| 7/7 [00:05<00:00,  1.32it/s]\n",
      "Training (6817 / 18000 Steps) (loss=0.52260): 100%|██████████| 7/7 [00:05<00:00,  1.30it/s]\n",
      "Training (6824 / 18000 Steps) (loss=0.62496): 100%|██████████| 7/7 [00:05<00:00,  1.25it/s]\n",
      "Training (6831 / 18000 Steps) (loss=0.38128): 100%|██████████| 7/7 [00:08<00:00,  1.18s/it]\n",
      "Training (6838 / 18000 Steps) (loss=0.52249): 100%|██████████| 7/7 [00:08<00:00,  1.15s/it]\n",
      "Training (6845 / 18000 Steps) (loss=0.26143): 100%|██████████| 7/7 [00:08<00:00,  1.22s/it]\n",
      "Training (6852 / 18000 Steps) (loss=0.33635): 100%|██████████| 7/7 [00:08<00:00,  1.23s/it]\n",
      "Training (6859 / 18000 Steps) (loss=0.56924): 100%|██████████| 7/7 [00:08<00:00,  1.21s/it]\n",
      "Training (6866 / 18000 Steps) (loss=0.48634): 100%|██████████| 7/7 [00:08<00:00,  1.23s/it]\n",
      "Training (6873 / 18000 Steps) (loss=0.57909): 100%|██████████| 7/7 [00:08<00:00,  1.20s/it]\n",
      "Training (6880 / 18000 Steps) (loss=0.55470): 100%|██████████| 7/7 [00:08<00:00,  1.19s/it]\n",
      "Training (6887 / 18000 Steps) (loss=0.33884): 100%|██████████| 7/7 [00:07<00:00,  1.10s/it]\n",
      "Training (6894 / 18000 Steps) (loss=0.50469): 100%|██████████| 7/7 [00:08<00:00,  1.17s/it]\n",
      "Validate (6895 / 10 Steps): 100%|██████████| 2/2 [00:04<00:00,  2.39s/it]<00:01,  1.35it/s]\n",
      "Training (6900 / 18000 Steps) (loss=0.36113):  86%|████████▌ | 6/7 [00:10<00:02,  2.27s/it]"
     ]
    },
    {
     "name": "stdout",
     "output_type": "stream",
     "text": [
      "Model Was Not Saved ! Current Best Avg. Dice: 0.28835099935531616 Current Avg. Dice: 0.23386983573436737 Current Avg. tumor Dice: 0.2927563190460205 Current Avg. lymph Dice: 0.17498338222503662\n"
     ]
    },
    {
     "name": "stderr",
     "output_type": "stream",
     "text": [
      "Training (6901 / 18000 Steps) (loss=0.57719): 100%|██████████| 7/7 [00:11<00:00,  1.62s/it]\n",
      "Training (6908 / 18000 Steps) (loss=0.49866): 100%|██████████| 7/7 [00:06<00:00,  1.11it/s]\n",
      "Training (6915 / 18000 Steps) (loss=0.58006): 100%|██████████| 7/7 [00:05<00:00,  1.23it/s]\n",
      "Training (6922 / 18000 Steps) (loss=0.56237): 100%|██████████| 7/7 [00:05<00:00,  1.26it/s]\n",
      "Training (6929 / 18000 Steps) (loss=0.41982): 100%|██████████| 7/7 [00:05<00:00,  1.25it/s]\n",
      "Training (6936 / 18000 Steps) (loss=0.55163): 100%|██████████| 7/7 [00:07<00:00,  1.09s/it]\n",
      "Training (6943 / 18000 Steps) (loss=0.55751): 100%|██████████| 7/7 [00:07<00:00,  1.10s/it]\n",
      "Training (6950 / 18000 Steps) (loss=0.55055): 100%|██████████| 7/7 [00:07<00:00,  1.11s/it]\n",
      "Training (6957 / 18000 Steps) (loss=0.58243): 100%|██████████| 7/7 [00:07<00:00,  1.13s/it]\n",
      "Training (6964 / 18000 Steps) (loss=0.47758): 100%|██████████| 7/7 [00:07<00:00,  1.10s/it]\n",
      "Training (6971 / 18000 Steps) (loss=0.54881): 100%|██████████| 7/7 [00:07<00:00,  1.12s/it]\n",
      "Training (6978 / 18000 Steps) (loss=0.32234): 100%|██████████| 7/7 [00:07<00:00,  1.12s/it]\n",
      "Training (6985 / 18000 Steps) (loss=0.42625): 100%|██████████| 7/7 [00:07<00:00,  1.04s/it]\n",
      "Training (6992 / 18000 Steps) (loss=0.35812): 100%|██████████| 7/7 [00:06<00:00,  1.04it/s]\n",
      "Training (6999 / 18000 Steps) (loss=0.51719): 100%|██████████| 7/7 [00:06<00:00,  1.06it/s]\n",
      "Validate (7000 / 10 Steps): 100%|██████████| 2/2 [00:04<00:00,  2.23s/it]<?, ?it/s]\n",
      "Training (7000 / 18000 Steps) (loss=0.36733):  14%|█▍        | 1/7 [00:08<00:49,  8.30s/it]"
     ]
    },
    {
     "name": "stdout",
     "output_type": "stream",
     "text": [
      "Model Was Not Saved ! Current Best Avg. Dice: 0.28835099935531616 Current Avg. Dice: 0.20747515559196472 Current Avg. tumor Dice: 0.2872161865234375 Current Avg. lymph Dice: 0.12773415446281433\n"
     ]
    },
    {
     "name": "stderr",
     "output_type": "stream",
     "text": [
      "Training (7006 / 18000 Steps) (loss=0.58810): 100%|██████████| 7/7 [00:10<00:00,  1.57s/it]\n",
      "Training (7013 / 18000 Steps) (loss=0.38350): 100%|██████████| 7/7 [00:06<00:00,  1.02it/s]\n",
      "Training (7020 / 18000 Steps) (loss=0.38237): 100%|██████████| 7/7 [00:05<00:00,  1.24it/s]\n",
      "Training (7027 / 18000 Steps) (loss=0.65588): 100%|██████████| 7/7 [00:05<00:00,  1.28it/s]\n",
      "Training (7034 / 18000 Steps) (loss=0.52695): 100%|██████████| 7/7 [00:05<00:00,  1.29it/s]\n",
      "Training (7041 / 18000 Steps) (loss=0.58402): 100%|██████████| 7/7 [00:05<00:00,  1.25it/s]\n",
      "Training (7048 / 18000 Steps) (loss=0.52811): 100%|██████████| 7/7 [00:08<00:00,  1.17s/it]\n",
      "Training (7055 / 18000 Steps) (loss=0.82423): 100%|██████████| 7/7 [00:08<00:00,  1.18s/it]\n",
      "Training (7062 / 18000 Steps) (loss=0.55496): 100%|██████████| 7/7 [00:08<00:00,  1.24s/it]\n",
      "Training (7069 / 18000 Steps) (loss=0.50668): 100%|██████████| 7/7 [00:08<00:00,  1.18s/it]\n",
      "Training (7076 / 18000 Steps) (loss=0.53533): 100%|██████████| 7/7 [00:08<00:00,  1.18s/it]\n",
      "Training (7083 / 18000 Steps) (loss=0.34511): 100%|██████████| 7/7 [00:08<00:00,  1.20s/it]\n",
      "Training (7090 / 18000 Steps) (loss=0.59636): 100%|██████████| 7/7 [00:08<00:00,  1.21s/it]\n",
      "Training (7097 / 18000 Steps) (loss=0.61686): 100%|██████████| 7/7 [00:08<00:00,  1.16s/it]\n",
      "Validate (7098 / 10 Steps): 100%|██████████| 2/2 [00:05<00:00,  2.77s/it]<00:08,  1.79s/it]\n",
      "Training (7100 / 18000 Steps) (loss=0.39393):  43%|████▎     | 3/7 [00:10<00:15,  3.91s/it]"
     ]
    },
    {
     "name": "stdout",
     "output_type": "stream",
     "text": [
      "Model Was Not Saved ! Current Best Avg. Dice: 0.28835099935531616 Current Avg. Dice: 0.21450215578079224 Current Avg. tumor Dice: 0.21784478425979614 Current Avg. lymph Dice: 0.21115949749946594\n"
     ]
    },
    {
     "name": "stderr",
     "output_type": "stream",
     "text": [
      "Training (7104 / 18000 Steps) (loss=0.50975): 100%|██████████| 7/7 [00:12<00:00,  1.82s/it]\n",
      "Training (7111 / 18000 Steps) (loss=0.45797): 100%|██████████| 7/7 [00:06<00:00,  1.06it/s]\n",
      "Training (7118 / 18000 Steps) (loss=0.29468): 100%|██████████| 7/7 [00:05<00:00,  1.22it/s]\n",
      "Training (7125 / 18000 Steps) (loss=0.48110): 100%|██████████| 7/7 [00:06<00:00,  1.01it/s]\n",
      "Training (7132 / 18000 Steps) (loss=0.56934): 100%|██████████| 7/7 [00:05<00:00,  1.23it/s]\n",
      "Training (7139 / 18000 Steps) (loss=0.55199): 100%|██████████| 7/7 [00:05<00:00,  1.28it/s]\n",
      "Training (7146 / 18000 Steps) (loss=0.27393): 100%|██████████| 7/7 [00:05<00:00,  1.24it/s]\n",
      "Training (7153 / 18000 Steps) (loss=0.52185): 100%|██████████| 7/7 [00:05<00:00,  1.24it/s]\n",
      "Training (7160 / 18000 Steps) (loss=0.41598): 100%|██████████| 7/7 [00:07<00:00,  1.11s/it]\n",
      "Training (7167 / 18000 Steps) (loss=0.42770): 100%|██████████| 7/7 [00:07<00:00,  1.13s/it]\n",
      "Training (7174 / 18000 Steps) (loss=0.51224): 100%|██████████| 7/7 [00:08<00:00,  1.15s/it]\n",
      "Training (7181 / 18000 Steps) (loss=0.43191): 100%|██████████| 7/7 [00:07<00:00,  1.12s/it]\n",
      "Training (7188 / 18000 Steps) (loss=0.42301): 100%|██████████| 7/7 [00:07<00:00,  1.06s/it]\n",
      "Training (7195 / 18000 Steps) (loss=0.36829): 100%|██████████| 7/7 [00:07<00:00,  1.11s/it]\n",
      "Validate (7196 / 10 Steps): 100%|██████████| 2/2 [00:05<00:00,  2.65s/it]<00:03,  1.07s/it]\n",
      "Training (7200 / 18000 Steps) (loss=0.58770):  71%|███████▏  | 5/7 [00:11<00:05,  2.91s/it]"
     ]
    },
    {
     "name": "stdout",
     "output_type": "stream",
     "text": [
      "Model Was Not Saved ! Current Best Avg. Dice: 0.28835099935531616 Current Avg. Dice: 0.25841355323791504 Current Avg. tumor Dice: 0.29155898094177246 Current Avg. lymph Dice: 0.22526815533638\n"
     ]
    },
    {
     "name": "stderr",
     "output_type": "stream",
     "text": [
      "Training (7202 / 18000 Steps) (loss=0.25075): 100%|██████████| 7/7 [00:12<00:00,  1.78s/it]\n",
      "Training (7209 / 18000 Steps) (loss=0.42387): 100%|██████████| 7/7 [00:06<00:00,  1.04it/s]\n",
      "Training (7216 / 18000 Steps) (loss=0.51928): 100%|██████████| 7/7 [00:07<00:00,  1.03s/it]\n",
      "Training (7223 / 18000 Steps) (loss=0.57338): 100%|██████████| 7/7 [00:07<00:00,  1.11s/it]\n",
      "Training (7230 / 18000 Steps) (loss=0.54390): 100%|██████████| 7/7 [00:06<00:00,  1.14it/s]\n",
      "Training (7237 / 18000 Steps) (loss=0.37586): 100%|██████████| 7/7 [00:06<00:00,  1.05it/s]\n",
      "Training (7244 / 18000 Steps) (loss=0.56159): 100%|██████████| 7/7 [00:05<00:00,  1.22it/s]\n",
      "Training (7251 / 18000 Steps) (loss=0.33841): 100%|██████████| 7/7 [00:05<00:00,  1.24it/s]\n",
      "Training (7258 / 18000 Steps) (loss=0.56428): 100%|██████████| 7/7 [00:05<00:00,  1.30it/s]\n",
      "Training (7265 / 18000 Steps) (loss=0.55783): 100%|██████████| 7/7 [00:05<00:00,  1.27it/s]\n",
      "Training (7272 / 18000 Steps) (loss=0.49394): 100%|██████████| 7/7 [00:08<00:00,  1.21s/it]\n",
      "Training (7279 / 18000 Steps) (loss=0.56035): 100%|██████████| 7/7 [00:08<00:00,  1.22s/it]\n",
      "Training (7286 / 18000 Steps) (loss=0.40472): 100%|██████████| 7/7 [00:08<00:00,  1.16s/it]\n",
      "Training (7293 / 18000 Steps) (loss=0.50680): 100%|██████████| 7/7 [00:08<00:00,  1.17s/it]\n",
      "Validate (7294 / 10 Steps): 100%|██████████| 2/2 [00:05<00:00,  2.63s/it]<00:01,  1.00s/it]\n",
      "Training (7300 / 18000 Steps) (loss=0.31284): 100%|██████████| 7/7 [00:13<00:00,  1.93s/it]\n"
     ]
    },
    {
     "name": "stdout",
     "output_type": "stream",
     "text": [
      "Model Was Not Saved ! Current Best Avg. Dice: 0.28835099935531616 Current Avg. Dice: 0.27739179134368896 Current Avg. tumor Dice: 0.3349348306655884 Current Avg. lymph Dice: 0.21984873712062836\n"
     ]
    },
    {
     "name": "stderr",
     "output_type": "stream",
     "text": [
      "Training (7307 / 18000 Steps) (loss=0.55329): 100%|██████████| 7/7 [00:06<00:00,  1.03it/s]\n",
      "Training (7314 / 18000 Steps) (loss=0.32410): 100%|██████████| 7/7 [00:06<00:00,  1.06it/s]\n",
      "Training (7321 / 18000 Steps) (loss=0.51512): 100%|██████████| 7/7 [00:06<00:00,  1.04it/s]\n",
      "Training (7328 / 18000 Steps) (loss=0.26514): 100%|██████████| 7/7 [00:07<00:00,  1.03s/it]\n",
      "Training (7335 / 18000 Steps) (loss=0.64329): 100%|██████████| 7/7 [00:07<00:00,  1.08s/it]\n",
      "Training (7342 / 18000 Steps) (loss=0.45031): 100%|██████████| 7/7 [00:05<00:00,  1.18it/s]\n",
      "Training (7349 / 18000 Steps) (loss=0.34733): 100%|██████████| 7/7 [00:07<00:00,  1.09s/it]\n",
      "Training (7356 / 18000 Steps) (loss=0.55423): 100%|██████████| 7/7 [00:05<00:00,  1.27it/s]\n",
      "Training (7363 / 18000 Steps) (loss=0.32759): 100%|██████████| 7/7 [00:05<00:00,  1.30it/s]\n",
      "Training (7370 / 18000 Steps) (loss=0.55794): 100%|██████████| 7/7 [00:05<00:00,  1.19it/s]\n",
      "Training (7377 / 18000 Steps) (loss=0.54482): 100%|██████████| 7/7 [00:05<00:00,  1.29it/s]\n",
      "Training (7384 / 18000 Steps) (loss=0.49159): 100%|██████████| 7/7 [00:08<00:00,  1.21s/it]\n",
      "Training (7391 / 18000 Steps) (loss=0.43665): 100%|██████████| 7/7 [00:08<00:00,  1.18s/it]\n",
      "Training (7398 / 18000 Steps) (loss=0.40849): 100%|██████████| 7/7 [00:08<00:00,  1.21s/it]\n",
      "Validate (7399 / 10 Steps): 100%|██████████| 2/2 [00:05<00:00,  2.75s/it]<00:22,  3.68s/it]\n",
      "Training (7400 / 18000 Steps) (loss=0.37587):  29%|██▊       | 2/7 [00:10<00:26,  5.28s/it]"
     ]
    },
    {
     "name": "stdout",
     "output_type": "stream",
     "text": [
      "Model Was Not Saved ! Current Best Avg. Dice: 0.28835099935531616 Current Avg. Dice: 0.2401316612958908 Current Avg. tumor Dice: 0.28929904103279114 Current Avg. lymph Dice: 0.19096428155899048\n"
     ]
    },
    {
     "name": "stderr",
     "output_type": "stream",
     "text": [
      "Training (7405 / 18000 Steps) (loss=0.31702): 100%|██████████| 7/7 [00:13<00:00,  1.92s/it]\n",
      "Training (7412 / 18000 Steps) (loss=0.36263): 100%|██████████| 7/7 [00:06<00:00,  1.10it/s]\n",
      "Training (7419 / 18000 Steps) (loss=0.21179): 100%|██████████| 7/7 [00:06<00:00,  1.05it/s]\n",
      "Training (7426 / 18000 Steps) (loss=0.49714): 100%|██████████| 7/7 [00:07<00:00,  1.08s/it]\n",
      "Training (7433 / 18000 Steps) (loss=0.43152): 100%|██████████| 7/7 [00:08<00:00,  1.16s/it]\n",
      "Training (7440 / 18000 Steps) (loss=0.31933): 100%|██████████| 7/7 [00:08<00:00,  1.20s/it]\n",
      "Training (7447 / 18000 Steps) (loss=0.46912): 100%|██████████| 7/7 [00:08<00:00,  1.22s/it]\n",
      "Training (7454 / 18000 Steps) (loss=0.37685): 100%|██████████| 7/7 [00:05<00:00,  1.20it/s]\n",
      "Training (7461 / 18000 Steps) (loss=0.42030): 100%|██████████| 7/7 [00:06<00:00,  1.00it/s]\n",
      "Training (7468 / 18000 Steps) (loss=0.67037): 100%|██████████| 7/7 [00:05<00:00,  1.22it/s]\n",
      "Training (7475 / 18000 Steps) (loss=0.49252): 100%|██████████| 7/7 [00:05<00:00,  1.20it/s]\n",
      "Training (7482 / 18000 Steps) (loss=0.37140): 100%|██████████| 7/7 [00:05<00:00,  1.27it/s]\n",
      "Training (7489 / 18000 Steps) (loss=0.43543): 100%|██████████| 7/7 [00:05<00:00,  1.28it/s]\n",
      "Training (7496 / 18000 Steps) (loss=0.47934): 100%|██████████| 7/7 [00:08<00:00,  1.20s/it]\n",
      "Validate (7497 / 10 Steps): 100%|██████████| 2/2 [00:05<00:00,  2.51s/it]<00:05,  1.39s/it]\n",
      "Training (7500 / 18000 Steps) (loss=0.52718):  57%|█████▋    | 4/7 [00:10<00:09,  3.18s/it]"
     ]
    },
    {
     "name": "stdout",
     "output_type": "stream",
     "text": [
      "Model Was Not Saved ! Current Best Avg. Dice: 0.28835099935531616 Current Avg. Dice: 0.24426127970218658 Current Avg. tumor Dice: 0.32390812039375305 Current Avg. lymph Dice: 0.16461443901062012\n"
     ]
    },
    {
     "name": "stderr",
     "output_type": "stream",
     "text": [
      "Training (7503 / 18000 Steps) (loss=0.53479): 100%|██████████| 7/7 [00:12<00:00,  1.82s/it]\n",
      "Training (7510 / 18000 Steps) (loss=0.38826): 100%|██████████| 7/7 [00:06<00:00,  1.07it/s]\n",
      "Training (7517 / 18000 Steps) (loss=0.44054): 100%|██████████| 7/7 [00:06<00:00,  1.03it/s]\n",
      "Training (7524 / 18000 Steps) (loss=0.43091): 100%|██████████| 7/7 [00:07<00:00,  1.02s/it]\n",
      "Training (7531 / 18000 Steps) (loss=0.42715): 100%|██████████| 7/7 [00:08<00:00,  1.17s/it]\n",
      "Training (7538 / 18000 Steps) (loss=0.59645): 100%|██████████| 7/7 [00:08<00:00,  1.17s/it]\n",
      "Training (7545 / 18000 Steps) (loss=0.67161): 100%|██████████| 7/7 [00:08<00:00,  1.21s/it]\n",
      "Training (7552 / 18000 Steps) (loss=0.51216): 100%|██████████| 7/7 [00:08<00:00,  1.20s/it]\n",
      "Training (7559 / 18000 Steps) (loss=0.35875): 100%|██████████| 7/7 [00:08<00:00,  1.21s/it]\n",
      "Training (7566 / 18000 Steps) (loss=0.44205): 100%|██████████| 7/7 [00:05<00:00,  1.19it/s]\n",
      "Training (7573 / 18000 Steps) (loss=0.24324): 100%|██████████| 7/7 [00:07<00:00,  1.06s/it]\n",
      "Training (7580 / 18000 Steps) (loss=0.41431): 100%|██████████| 7/7 [00:05<00:00,  1.23it/s]\n",
      "Training (7587 / 18000 Steps) (loss=0.48783): 100%|██████████| 7/7 [00:05<00:00,  1.28it/s]\n",
      "Training (7594 / 18000 Steps) (loss=0.63913): 100%|██████████| 7/7 [00:05<00:00,  1.26it/s]\n",
      "Validate (7595 / 10 Steps): 100%|██████████| 2/2 [00:06<00:00,  3.00s/it]<00:01,  1.52it/s]\n",
      "Training (7600 / 18000 Steps) (loss=0.58480):  86%|████████▌ | 6/7 [00:11<00:02,  2.64s/it]"
     ]
    },
    {
     "name": "stdout",
     "output_type": "stream",
     "text": [
      "Model Was Not Saved ! Current Best Avg. Dice: 0.28835099935531616 Current Avg. Dice: 0.24612638354301453 Current Avg. tumor Dice: 0.31168437004089355 Current Avg. lymph Dice: 0.1805683970451355\n"
     ]
    },
    {
     "name": "stderr",
     "output_type": "stream",
     "text": [
      "Training (7601 / 18000 Steps) (loss=0.37510): 100%|██████████| 7/7 [00:11<00:00,  1.70s/it]\n",
      "Training (7608 / 18000 Steps) (loss=0.55509): 100%|██████████| 7/7 [00:07<00:00,  1.09s/it]\n",
      "Training (7615 / 18000 Steps) (loss=0.47608): 100%|██████████| 7/7 [00:07<00:00,  1.09s/it]\n",
      "Training (7622 / 18000 Steps) (loss=0.37836): 100%|██████████| 7/7 [00:07<00:00,  1.07s/it]\n",
      "Training (7629 / 18000 Steps) (loss=0.55075): 100%|██████████| 7/7 [00:07<00:00,  1.04s/it]\n",
      "Training (7636 / 18000 Steps) (loss=0.47874): 100%|██████████| 7/7 [00:07<00:00,  1.02s/it]\n",
      "Training (7643 / 18000 Steps) (loss=0.46144): 100%|██████████| 7/7 [00:07<00:00,  1.02s/it]\n",
      "Training (7650 / 18000 Steps) (loss=0.44706): 100%|██████████| 7/7 [00:06<00:00,  1.14it/s]\n",
      "Training (7657 / 18000 Steps) (loss=0.56805): 100%|██████████| 7/7 [00:06<00:00,  1.04it/s]\n",
      "Training (7664 / 18000 Steps) (loss=0.52602): 100%|██████████| 7/7 [00:07<00:00,  1.03s/it]\n",
      "Training (7671 / 18000 Steps) (loss=0.33528): 100%|██████████| 7/7 [00:07<00:00,  1.09s/it]\n",
      "Training (7678 / 18000 Steps) (loss=0.56896): 100%|██████████| 7/7 [00:06<00:00,  1.13it/s]\n",
      "Training (7685 / 18000 Steps) (loss=0.58016): 100%|██████████| 7/7 [00:07<00:00,  1.01s/it]\n",
      "Training (7692 / 18000 Steps) (loss=0.43983): 100%|██████████| 7/7 [00:05<00:00,  1.23it/s]\n",
      "Training (7699 / 18000 Steps) (loss=0.66800): 100%|██████████| 7/7 [00:05<00:00,  1.22it/s]\n",
      "Validate (7700 / 10 Steps): 100%|██████████| 2/2 [00:04<00:00,  2.15s/it]<?, ?it/s]\n",
      "Training (7700 / 18000 Steps) (loss=0.52912):  14%|█▍        | 1/7 [00:07<00:45,  7.62s/it]"
     ]
    },
    {
     "name": "stdout",
     "output_type": "stream",
     "text": [
      "Model Was Not Saved ! Current Best Avg. Dice: 0.28835099935531616 Current Avg. Dice: 0.2257118672132492 Current Avg. tumor Dice: 0.29178574681282043 Current Avg. lymph Dice: 0.1596379578113556\n"
     ]
    },
    {
     "name": "stderr",
     "output_type": "stream",
     "text": [
      "Training (7706 / 18000 Steps) (loss=0.42207): 100%|██████████| 7/7 [00:10<00:00,  1.43s/it]\n",
      "Training (7713 / 18000 Steps) (loss=0.39343): 100%|██████████| 7/7 [00:05<00:00,  1.29it/s]\n",
      "Training (7720 / 18000 Steps) (loss=0.44691): 100%|██████████| 7/7 [00:05<00:00,  1.29it/s]\n",
      "Training (7727 / 18000 Steps) (loss=0.43102): 100%|██████████| 7/7 [00:05<00:00,  1.25it/s]\n",
      "Training (7734 / 18000 Steps) (loss=0.54979): 100%|██████████| 7/7 [00:05<00:00,  1.24it/s]\n",
      "Training (7741 / 18000 Steps) (loss=0.21212): 100%|██████████| 7/7 [00:05<00:00,  1.26it/s]\n",
      "Training (7748 / 18000 Steps) (loss=0.49569): 100%|██████████| 7/7 [00:07<00:00,  1.03s/it]\n",
      "Training (7755 / 18000 Steps) (loss=0.32830): 100%|██████████| 7/7 [00:07<00:00,  1.10s/it]\n",
      "Training (7762 / 18000 Steps) (loss=0.45171): 100%|██████████| 7/7 [00:07<00:00,  1.07s/it]\n",
      "Training (7769 / 18000 Steps) (loss=0.55426): 100%|██████████| 7/7 [00:07<00:00,  1.01s/it]\n",
      "Training (7776 / 18000 Steps) (loss=0.46066): 100%|██████████| 7/7 [00:06<00:00,  1.11it/s]\n",
      "Training (7783 / 18000 Steps) (loss=0.39751): 100%|██████████| 7/7 [00:06<00:00,  1.07it/s]\n",
      "Training (7790 / 18000 Steps) (loss=0.29014): 100%|██████████| 7/7 [00:06<00:00,  1.03it/s]\n",
      "Training (7797 / 18000 Steps) (loss=0.56090): 100%|██████████| 7/7 [00:07<00:00,  1.02s/it]\n",
      "Validate (7798 / 10 Steps): 100%|██████████| 2/2 [00:05<00:00,  2.74s/it]<00:09,  1.94s/it]\n",
      "Training (7800 / 18000 Steps) (loss=0.46794):  43%|████▎     | 3/7 [00:10<00:15,  3.97s/it]"
     ]
    },
    {
     "name": "stdout",
     "output_type": "stream",
     "text": [
      "Model Was Not Saved ! Current Best Avg. Dice: 0.28835099935531616 Current Avg. Dice: 0.23316290974617004 Current Avg. tumor Dice: 0.26600122451782227 Current Avg. lymph Dice: 0.20032458007335663\n"
     ]
    },
    {
     "name": "stderr",
     "output_type": "stream",
     "text": [
      "Training (7804 / 18000 Steps) (loss=0.45418): 100%|██████████| 7/7 [00:13<00:00,  1.98s/it]\n",
      "Training (7811 / 18000 Steps) (loss=0.42144): 100%|██████████| 7/7 [00:08<00:00,  1.17s/it]\n",
      "Training (7818 / 18000 Steps) (loss=0.48666): 100%|██████████| 7/7 [00:06<00:00,  1.10it/s]\n",
      "Training (7825 / 18000 Steps) (loss=0.47231): 100%|██████████| 7/7 [00:07<00:00,  1.02s/it]\n",
      "Training (7832 / 18000 Steps) (loss=0.43917): 100%|██████████| 7/7 [00:05<00:00,  1.22it/s]\n",
      "Training (7839 / 18000 Steps) (loss=0.47243): 100%|██████████| 7/7 [00:05<00:00,  1.27it/s]\n",
      "Training (7846 / 18000 Steps) (loss=0.40522): 100%|██████████| 7/7 [00:05<00:00,  1.29it/s]\n",
      "Training (7853 / 18000 Steps) (loss=0.40911): 100%|██████████| 7/7 [00:05<00:00,  1.26it/s]\n",
      "Training (7860 / 18000 Steps) (loss=0.52579): 100%|██████████| 7/7 [00:08<00:00,  1.17s/it]\n",
      "Training (7867 / 18000 Steps) (loss=0.56091): 100%|██████████| 7/7 [00:08<00:00,  1.15s/it]\n",
      "Training (7874 / 18000 Steps) (loss=0.44754): 100%|██████████| 7/7 [00:06<00:00,  1.01it/s]\n",
      "Training (7881 / 18000 Steps) (loss=0.60332): 100%|██████████| 7/7 [00:06<00:00,  1.06it/s]\n",
      "Training (7888 / 18000 Steps) (loss=0.51091): 100%|██████████| 7/7 [00:06<00:00,  1.07it/s]\n",
      "Training (7895 / 18000 Steps) (loss=0.41587): 100%|██████████| 7/7 [00:06<00:00,  1.04it/s]\n",
      "Validate (7896 / 10 Steps): 100%|██████████| 2/2 [00:06<00:00,  3.29s/it]<00:03,  1.22s/it]\n",
      "Training (7900 / 18000 Steps) (loss=0.61346):  71%|███████▏  | 5/7 [00:13<00:06,  3.34s/it]"
     ]
    },
    {
     "name": "stdout",
     "output_type": "stream",
     "text": [
      "Model Was Not Saved ! Current Best Avg. Dice: 0.28835099935531616 Current Avg. Dice: 0.2725417912006378 Current Avg. tumor Dice: 0.3096824884414673 Current Avg. lymph Dice: 0.23540109395980835\n"
     ]
    },
    {
     "name": "stderr",
     "output_type": "stream",
     "text": [
      "Training (7902 / 18000 Steps) (loss=0.49424): 100%|██████████| 7/7 [00:14<00:00,  2.09s/it]\n",
      "Training (7909 / 18000 Steps) (loss=0.44157): 100%|██████████| 7/7 [00:08<00:00,  1.20s/it]\n",
      "Training (7916 / 18000 Steps) (loss=0.48028): 100%|██████████| 7/7 [00:08<00:00,  1.20s/it]\n",
      "Training (7923 / 18000 Steps) (loss=0.39933): 100%|██████████| 7/7 [00:08<00:00,  1.24s/it]\n",
      "Training (7930 / 18000 Steps) (loss=0.41886): 100%|██████████| 7/7 [00:06<00:00,  1.16it/s]\n",
      "Training (7937 / 18000 Steps) (loss=0.56000): 100%|██████████| 7/7 [00:06<00:00,  1.04it/s]\n",
      "Training (7944 / 18000 Steps) (loss=0.21768): 100%|██████████| 7/7 [00:06<00:00,  1.15it/s]\n",
      "Training (7951 / 18000 Steps) (loss=0.36546): 100%|██████████| 7/7 [00:05<00:00,  1.23it/s]\n",
      "Training (7958 / 18000 Steps) (loss=0.57771): 100%|██████████| 7/7 [00:05<00:00,  1.27it/s]\n",
      "Training (7965 / 18000 Steps) (loss=0.20471): 100%|██████████| 7/7 [00:05<00:00,  1.22it/s]\n",
      "Training (7972 / 18000 Steps) (loss=0.54071): 100%|██████████| 7/7 [00:07<00:00,  1.12s/it]\n",
      "Training (7979 / 18000 Steps) (loss=0.53171): 100%|██████████| 7/7 [00:07<00:00,  1.06s/it]\n",
      "Training (7986 / 18000 Steps) (loss=0.42690): 100%|██████████| 7/7 [00:07<00:00,  1.01s/it]\n",
      "Training (7993 / 18000 Steps) (loss=0.66538): 100%|██████████| 7/7 [00:06<00:00,  1.03it/s]\n",
      "Validate (7994 / 10 Steps): 100%|██████████| 2/2 [00:05<00:00,  2.85s/it]<00:00,  1.36it/s]\n",
      "Training (8000 / 18000 Steps) (loss=0.43327): 100%|██████████| 7/7 [00:12<00:00,  1.74s/it]\n"
     ]
    },
    {
     "name": "stdout",
     "output_type": "stream",
     "text": [
      "Model Was Not Saved ! Current Best Avg. Dice: 0.28835099935531616 Current Avg. Dice: 0.23208770155906677 Current Avg. tumor Dice: 0.30070966482162476 Current Avg. lymph Dice: 0.1634657382965088\n"
     ]
    },
    {
     "name": "stderr",
     "output_type": "stream",
     "text": [
      "Training (8007 / 18000 Steps) (loss=0.42906): 100%|██████████| 7/7 [00:08<00:00,  1.17s/it]\n",
      "Training (8014 / 18000 Steps) (loss=0.57522): 100%|██████████| 7/7 [00:08<00:00,  1.19s/it]\n",
      "Training (8021 / 18000 Steps) (loss=0.45911): 100%|██████████| 7/7 [00:08<00:00,  1.22s/it]\n",
      "Training (8028 / 18000 Steps) (loss=0.41221): 100%|██████████| 7/7 [00:08<00:00,  1.18s/it]\n",
      "Training (8035 / 18000 Steps) (loss=0.58525): 100%|██████████| 7/7 [00:07<00:00,  1.13s/it]\n",
      "Training (8042 / 18000 Steps) (loss=0.38319): 100%|██████████| 7/7 [00:06<00:00,  1.11it/s]\n",
      "Training (8049 / 18000 Steps) (loss=0.55294): 100%|██████████| 7/7 [00:07<00:00,  1.04s/it]\n",
      "Training (8056 / 18000 Steps) (loss=0.54888): 100%|██████████| 7/7 [00:05<00:00,  1.26it/s]\n",
      "Training (8063 / 18000 Steps) (loss=0.57839): 100%|██████████| 7/7 [00:05<00:00,  1.24it/s]\n",
      "Training (8070 / 18000 Steps) (loss=0.35777): 100%|██████████| 7/7 [00:05<00:00,  1.29it/s]\n",
      "Training (8077 / 18000 Steps) (loss=0.29008): 100%|██████████| 7/7 [00:05<00:00,  1.23it/s]\n",
      "Training (8084 / 18000 Steps) (loss=0.51099): 100%|██████████| 7/7 [00:08<00:00,  1.22s/it]\n",
      "Training (8091 / 18000 Steps) (loss=0.50401): 100%|██████████| 7/7 [00:08<00:00,  1.16s/it]\n",
      "Training (8098 / 18000 Steps) (loss=0.43275): 100%|██████████| 7/7 [00:07<00:00,  1.12s/it]\n",
      "Validate (8099 / 10 Steps): 100%|██████████| 2/2 [00:06<00:00,  3.02s/it]<00:19,  3.31s/it]\n",
      "Training (8100 / 18000 Steps) (loss=0.31399):  29%|██▊       | 2/7 [00:10<00:26,  5.35s/it]"
     ]
    },
    {
     "name": "stdout",
     "output_type": "stream",
     "text": [
      "Model Was Not Saved ! Current Best Avg. Dice: 0.28835099935531616 Current Avg. Dice: 0.24912722408771515 Current Avg. tumor Dice: 0.29211658239364624 Current Avg. lymph Dice: 0.20613788068294525\n"
     ]
    },
    {
     "name": "stderr",
     "output_type": "stream",
     "text": [
      "Training (8105 / 18000 Steps) (loss=0.51427): 100%|██████████| 7/7 [00:12<00:00,  1.78s/it]\n",
      "Training (8112 / 18000 Steps) (loss=0.50497): 100%|██████████| 7/7 [00:06<00:00,  1.06it/s]\n",
      "Training (8119 / 18000 Steps) (loss=0.56965): 100%|██████████| 7/7 [00:07<00:00,  1.03s/it]\n",
      "Training (8126 / 18000 Steps) (loss=0.39532): 100%|██████████| 7/7 [00:07<00:00,  1.12s/it]\n",
      "Training (8133 / 18000 Steps) (loss=0.46124): 100%|██████████| 7/7 [00:08<00:00,  1.18s/it]\n",
      "Training (8140 / 18000 Steps) (loss=0.32304): 100%|██████████| 7/7 [00:08<00:00,  1.19s/it]\n",
      "Training (8147 / 18000 Steps) (loss=0.58735): 100%|██████████| 7/7 [00:08<00:00,  1.26s/it]\n",
      "Training (8154 / 18000 Steps) (loss=0.56320): 100%|██████████| 7/7 [00:06<00:00,  1.16it/s]\n",
      "Training (8161 / 18000 Steps) (loss=0.50811): 100%|██████████| 7/7 [00:07<00:00,  1.05s/it]\n",
      "Training (8168 / 18000 Steps) (loss=0.56228): 100%|██████████| 7/7 [00:05<00:00,  1.23it/s]\n",
      "Training (8175 / 18000 Steps) (loss=0.50955): 100%|██████████| 7/7 [00:05<00:00,  1.29it/s]\n",
      "Training (8182 / 18000 Steps) (loss=0.54005): 100%|██████████| 7/7 [00:05<00:00,  1.27it/s]\n",
      "Training (8189 / 18000 Steps) (loss=0.37830): 100%|██████████| 7/7 [00:05<00:00,  1.26it/s]\n",
      "Training (8196 / 18000 Steps) (loss=0.49702): 100%|██████████| 7/7 [00:08<00:00,  1.22s/it]\n",
      "Validate (8197 / 10 Steps): 100%|██████████| 2/2 [00:04<00:00,  2.27s/it]<00:05,  1.45s/it]\n",
      "Training (8200 / 18000 Steps) (loss=0.50368):  57%|█████▋    | 4/7 [00:10<00:09,  3.02s/it]"
     ]
    },
    {
     "name": "stdout",
     "output_type": "stream",
     "text": [
      "Model Was Not Saved ! Current Best Avg. Dice: 0.28835099935531616 Current Avg. Dice: 0.2551020085811615 Current Avg. tumor Dice: 0.3280692994594574 Current Avg. lymph Dice: 0.1821347177028656\n"
     ]
    },
    {
     "name": "stderr",
     "output_type": "stream",
     "text": [
      "Training (8203 / 18000 Steps) (loss=0.62284): 100%|██████████| 7/7 [00:12<00:00,  1.84s/it]\n",
      "Training (8210 / 18000 Steps) (loss=0.46938): 100%|██████████| 7/7 [00:06<00:00,  1.09it/s]\n",
      "Training (8217 / 18000 Steps) (loss=0.39002): 100%|██████████| 7/7 [00:06<00:00,  1.04it/s]\n",
      "Training (8224 / 18000 Steps) (loss=0.38055): 100%|██████████| 7/7 [00:07<00:00,  1.08s/it]\n",
      "Training (8231 / 18000 Steps) (loss=0.55568): 100%|██████████| 7/7 [00:08<00:00,  1.19s/it]\n",
      "Training (8238 / 18000 Steps) (loss=0.54214): 100%|██████████| 7/7 [00:08<00:00,  1.20s/it]\n",
      "Training (8245 / 18000 Steps) (loss=0.40062): 100%|██████████| 7/7 [00:08<00:00,  1.17s/it]\n",
      "Training (8252 / 18000 Steps) (loss=0.44065): 100%|██████████| 7/7 [00:07<00:00,  1.09s/it]\n",
      "Training (8259 / 18000 Steps) (loss=0.58786): 100%|██████████| 7/7 [00:07<00:00,  1.03s/it]\n",
      "Training (8266 / 18000 Steps) (loss=0.42485): 100%|██████████| 7/7 [00:06<00:00,  1.08it/s]\n",
      "Training (8273 / 18000 Steps) (loss=0.31583): 100%|██████████| 7/7 [00:06<00:00,  1.14it/s]\n",
      "Training (8280 / 18000 Steps) (loss=0.44333): 100%|██████████| 7/7 [00:07<00:00,  1.01s/it]\n",
      "Training (8287 / 18000 Steps) (loss=0.51061): 100%|██████████| 7/7 [00:05<00:00,  1.23it/s]\n",
      "Training (8294 / 18000 Steps) (loss=0.56947): 100%|██████████| 7/7 [00:05<00:00,  1.29it/s]\n",
      "Validate (8295 / 10 Steps): 100%|██████████| 2/2 [00:04<00:00,  2.17s/it]<00:01,  1.55it/s]\n",
      "Training (8300 / 18000 Steps) (loss=0.48555):  86%|████████▌ | 6/7 [00:09<00:02,  2.07s/it]"
     ]
    },
    {
     "name": "stdout",
     "output_type": "stream",
     "text": [
      "Model Was Not Saved ! Current Best Avg. Dice: 0.28835099935531616 Current Avg. Dice: 0.2673901915550232 Current Avg. tumor Dice: 0.334147185087204 Current Avg. lymph Dice: 0.20063316822052002\n"
     ]
    },
    {
     "name": "stderr",
     "output_type": "stream",
     "text": [
      "Training (8301 / 18000 Steps) (loss=0.52989): 100%|██████████| 7/7 [00:09<00:00,  1.41s/it]\n",
      "Training (8308 / 18000 Steps) (loss=0.32939): 100%|██████████| 7/7 [00:08<00:00,  1.20s/it]\n",
      "Training (8315 / 18000 Steps) (loss=0.35001): 100%|██████████| 7/7 [00:07<00:00,  1.12s/it]\n",
      "Training (8322 / 18000 Steps) (loss=0.64890): 100%|██████████| 7/7 [00:07<00:00,  1.08s/it]\n",
      "Training (8329 / 18000 Steps) (loss=0.52172): 100%|██████████| 7/7 [00:07<00:00,  1.01s/it]\n",
      "Training (8336 / 18000 Steps) (loss=0.45353): 100%|██████████| 7/7 [00:06<00:00,  1.10it/s]\n",
      "Training (8343 / 18000 Steps) (loss=0.30651): 100%|██████████| 7/7 [00:06<00:00,  1.14it/s]\n",
      "Training (8350 / 18000 Steps) (loss=0.67314): 100%|██████████| 7/7 [00:07<00:00,  1.02s/it]\n",
      "Training (8357 / 18000 Steps) (loss=0.28935): 100%|██████████| 7/7 [00:07<00:00,  1.08s/it]\n",
      "Training (8364 / 18000 Steps) (loss=0.48579): 100%|██████████| 7/7 [00:07<00:00,  1.14s/it]\n",
      "Training (8371 / 18000 Steps) (loss=0.61987): 100%|██████████| 7/7 [00:08<00:00,  1.19s/it]\n",
      "Training (8378 / 18000 Steps) (loss=0.38878): 100%|██████████| 7/7 [00:08<00:00,  1.22s/it]\n",
      "Training (8385 / 18000 Steps) (loss=0.44825): 100%|██████████| 7/7 [00:05<00:00,  1.21it/s]\n",
      "Training (8392 / 18000 Steps) (loss=0.25370): 100%|██████████| 7/7 [00:07<00:00,  1.04s/it]\n",
      "Training (8399 / 18000 Steps) (loss=0.46986): 100%|██████████| 7/7 [00:05<00:00,  1.26it/s]\n",
      "Validate (8400 / 10 Steps): 100%|██████████| 2/2 [00:04<00:00,  2.11s/it]<?, ?it/s]\n",
      "Training (8400 / 18000 Steps) (loss=0.41803):  14%|█▍        | 1/7 [00:07<00:42,  7.14s/it]"
     ]
    },
    {
     "name": "stdout",
     "output_type": "stream",
     "text": [
      "Model Was Not Saved ! Current Best Avg. Dice: 0.28835099935531616 Current Avg. Dice: 0.2490081936120987 Current Avg. tumor Dice: 0.3219875991344452 Current Avg. lymph Dice: 0.1760287880897522\n"
     ]
    },
    {
     "name": "stderr",
     "output_type": "stream",
     "text": [
      "Training (8406 / 18000 Steps) (loss=0.48489): 100%|██████████| 7/7 [00:09<00:00,  1.36s/it]\n",
      "Training (8413 / 18000 Steps) (loss=0.36116): 100%|██████████| 7/7 [00:05<00:00,  1.24it/s]\n",
      "Training (8420 / 18000 Steps) (loss=0.56875): 100%|██████████| 7/7 [00:08<00:00,  1.19s/it]\n",
      "Training (8427 / 18000 Steps) (loss=0.19966): 100%|██████████| 7/7 [00:08<00:00,  1.21s/it]\n",
      "Training (8434 / 18000 Steps) (loss=0.29193): 100%|██████████| 7/7 [00:08<00:00,  1.20s/it]\n",
      "Training (8441 / 18000 Steps) (loss=0.61274): 100%|██████████| 7/7 [00:07<00:00,  1.11s/it]\n",
      "Training (8448 / 18000 Steps) (loss=0.31847): 100%|██████████| 7/7 [00:07<00:00,  1.13s/it]\n",
      "Training (8455 / 18000 Steps) (loss=0.47484): 100%|██████████| 7/7 [00:07<00:00,  1.10s/it]\n",
      "Training (8462 / 18000 Steps) (loss=0.47178): 100%|██████████| 7/7 [00:06<00:00,  1.04it/s]\n",
      "Training (8469 / 18000 Steps) (loss=0.59565): 100%|██████████| 7/7 [00:05<00:00,  1.17it/s]\n",
      "Training (8476 / 18000 Steps) (loss=0.36586): 100%|██████████| 7/7 [00:07<00:00,  1.01s/it]\n",
      "Training (8483 / 18000 Steps) (loss=0.55399): 100%|██████████| 7/7 [00:07<00:00,  1.13s/it]\n",
      "Training (8490 / 18000 Steps) (loss=0.55096): 100%|██████████| 7/7 [00:08<00:00,  1.18s/it]\n",
      "Training (8497 / 18000 Steps) (loss=0.52377): 100%|██████████| 7/7 [00:05<00:00,  1.18it/s]\n",
      "Validate (8498 / 10 Steps): 100%|██████████| 2/2 [00:04<00:00,  2.40s/it]<00:09,  1.83s/it]\n",
      "Training (8500 / 18000 Steps) (loss=0.52449):  43%|████▎     | 3/7 [00:09<00:14,  3.54s/it]"
     ]
    },
    {
     "name": "stdout",
     "output_type": "stream",
     "text": [
      "Model Was Not Saved ! Current Best Avg. Dice: 0.28835099935531616 Current Avg. Dice: 0.2522066831588745 Current Avg. tumor Dice: 0.3301428556442261 Current Avg. lymph Dice: 0.17427049577236176\n"
     ]
    },
    {
     "name": "stderr",
     "output_type": "stream",
     "text": [
      "Training (8504 / 18000 Steps) (loss=0.40767): 100%|██████████| 7/7 [00:11<00:00,  1.61s/it]\n",
      "Training (8511 / 18000 Steps) (loss=0.41002): 100%|██████████| 7/7 [00:05<00:00,  1.33it/s]\n",
      "Training (8518 / 18000 Steps) (loss=0.42206): 100%|██████████| 7/7 [00:05<00:00,  1.26it/s]\n",
      "Training (8525 / 18000 Steps) (loss=0.68006): 100%|██████████| 7/7 [00:05<00:00,  1.22it/s]\n",
      "Training (8532 / 18000 Steps) (loss=0.49962): 100%|██████████| 7/7 [00:08<00:00,  1.16s/it]\n",
      "Training (8539 / 18000 Steps) (loss=0.46005): 100%|██████████| 7/7 [00:07<00:00,  1.09s/it]\n",
      "Training (8546 / 18000 Steps) (loss=0.39020): 100%|██████████| 7/7 [00:07<00:00,  1.07s/it]\n",
      "Training (8553 / 18000 Steps) (loss=0.44060): 100%|██████████| 7/7 [00:06<00:00,  1.12it/s]\n",
      "Training (8560 / 18000 Steps) (loss=0.37403): 100%|██████████| 7/7 [00:06<00:00,  1.07it/s]\n",
      "Training (8567 / 18000 Steps) (loss=0.22621): 100%|██████████| 7/7 [00:07<00:00,  1.03s/it]\n",
      "Training (8574 / 18000 Steps) (loss=0.49581): 100%|██████████| 7/7 [00:07<00:00,  1.10s/it]\n",
      "Training (8581 / 18000 Steps) (loss=0.44740): 100%|██████████| 7/7 [00:08<00:00,  1.21s/it]\n",
      "Training (8588 / 18000 Steps) (loss=0.33884): 100%|██████████| 7/7 [00:08<00:00,  1.21s/it]\n",
      "Training (8595 / 18000 Steps) (loss=0.52935): 100%|██████████| 7/7 [00:08<00:00,  1.20s/it]\n",
      "Validate (8596 / 10 Steps): 100%|██████████| 2/2 [00:04<00:00,  2.34s/it]<00:03,  1.21s/it]\n",
      "Training (8600 / 18000 Steps) (loss=0.47785):  71%|███████▏  | 5/7 [00:11<00:05,  2.79s/it]"
     ]
    },
    {
     "name": "stdout",
     "output_type": "stream",
     "text": [
      "Model Was Not Saved ! Current Best Avg. Dice: 0.28835099935531616 Current Avg. Dice: 0.2510989308357239 Current Avg. tumor Dice: 0.2827718257904053 Current Avg. lymph Dice: 0.2194259911775589\n"
     ]
    },
    {
     "name": "stderr",
     "output_type": "stream",
     "text": [
      "Training (8602 / 18000 Steps) (loss=0.54379): 100%|██████████| 7/7 [00:12<00:00,  1.79s/it]\n",
      "Training (8609 / 18000 Steps) (loss=0.48191): 100%|██████████| 7/7 [00:05<00:00,  1.23it/s]\n",
      "Training (8616 / 18000 Steps) (loss=0.49559): 100%|██████████| 7/7 [00:06<00:00,  1.04it/s]\n",
      "Training (8623 / 18000 Steps) (loss=0.54830): 100%|██████████| 7/7 [00:05<00:00,  1.24it/s]\n",
      "Training (8630 / 18000 Steps) (loss=0.41296): 100%|██████████| 7/7 [00:05<00:00,  1.19it/s]\n",
      "Training (8637 / 18000 Steps) (loss=0.53822): 100%|██████████| 7/7 [00:05<00:00,  1.22it/s]\n",
      "Training (8644 / 18000 Steps) (loss=0.22823): 100%|██████████| 7/7 [00:05<00:00,  1.29it/s]\n",
      "Training (8651 / 18000 Steps) (loss=0.50830): 100%|██████████| 7/7 [00:08<00:00,  1.22s/it]\n",
      "Training (8658 / 18000 Steps) (loss=0.63136): 100%|██████████| 7/7 [00:08<00:00,  1.21s/it]\n",
      "Training (8665 / 18000 Steps) (loss=0.32512): 100%|██████████| 7/7 [00:08<00:00,  1.20s/it]\n",
      "Training (8672 / 18000 Steps) (loss=0.45596): 100%|██████████| 7/7 [00:08<00:00,  1.20s/it]\n",
      "Training (8679 / 18000 Steps) (loss=0.58516): 100%|██████████| 7/7 [00:07<00:00,  1.12s/it]\n",
      "Training (8686 / 18000 Steps) (loss=0.49774): 100%|██████████| 7/7 [00:07<00:00,  1.05s/it]\n",
      "Training (8693 / 18000 Steps) (loss=0.42006): 100%|██████████| 7/7 [00:06<00:00,  1.07it/s]\n",
      "Validate (8694 / 10 Steps): 100%|██████████| 2/2 [00:06<00:00,  3.19s/it]<00:00,  1.66it/s]\n",
      "Training (8700 / 18000 Steps) (loss=0.43370): 100%|██████████| 7/7 [00:12<00:00,  1.78s/it]\n"
     ]
    },
    {
     "name": "stdout",
     "output_type": "stream",
     "text": [
      "Model Was Not Saved ! Current Best Avg. Dice: 0.28835099935531616 Current Avg. Dice: 0.2456783801317215 Current Avg. tumor Dice: 0.2904502749443054 Current Avg. lymph Dice: 0.20090651512145996\n"
     ]
    },
    {
     "name": "stderr",
     "output_type": "stream",
     "text": [
      "Training (8707 / 18000 Steps) (loss=0.46949): 100%|██████████| 7/7 [00:08<00:00,  1.21s/it]\n",
      "Training (8714 / 18000 Steps) (loss=0.64955): 100%|██████████| 7/7 [00:08<00:00,  1.19s/it]\n",
      "Training (8721 / 18000 Steps) (loss=0.55789): 100%|██████████| 7/7 [00:06<00:00,  1.12it/s]\n",
      "Training (8728 / 18000 Steps) (loss=0.37866): 100%|██████████| 7/7 [00:06<00:00,  1.05it/s]\n",
      "Training (8735 / 18000 Steps) (loss=0.27631): 100%|██████████| 7/7 [00:06<00:00,  1.12it/s]\n",
      "Training (8742 / 18000 Steps) (loss=0.29951): 100%|██████████| 7/7 [00:05<00:00,  1.22it/s]\n",
      "Training (8749 / 18000 Steps) (loss=0.57672): 100%|██████████| 7/7 [00:05<00:00,  1.23it/s]\n",
      "Training (8756 / 18000 Steps) (loss=0.67802): 100%|██████████| 7/7 [00:05<00:00,  1.25it/s]\n",
      "Training (8763 / 18000 Steps) (loss=0.28455): 100%|██████████| 7/7 [00:06<00:00,  1.05it/s]\n",
      "Training (8770 / 18000 Steps) (loss=0.25149): 100%|██████████| 7/7 [00:05<00:00,  1.17it/s]\n",
      "Training (8777 / 18000 Steps) (loss=0.35333): 100%|██████████| 7/7 [00:06<00:00,  1.01it/s]\n",
      "Training (8784 / 18000 Steps) (loss=0.45595): 100%|██████████| 7/7 [00:07<00:00,  1.08s/it]\n",
      "Training (8791 / 18000 Steps) (loss=0.32628): 100%|██████████| 7/7 [00:08<00:00,  1.17s/it]\n",
      "Training (8798 / 18000 Steps) (loss=0.38337): 100%|██████████| 7/7 [00:08<00:00,  1.17s/it]\n",
      "Validate (8799 / 10 Steps): 100%|██████████| 2/2 [00:05<00:00,  2.74s/it]<00:21,  3.62s/it]\n",
      "Training (8800 / 18000 Steps) (loss=0.46946):  29%|██▊       | 2/7 [00:09<00:26,  5.24s/it]"
     ]
    },
    {
     "name": "stdout",
     "output_type": "stream",
     "text": [
      "Model Was Not Saved ! Current Best Avg. Dice: 0.28835099935531616 Current Avg. Dice: 0.25708824396133423 Current Avg. tumor Dice: 0.2797059714794159 Current Avg. lymph Dice: 0.23447054624557495\n"
     ]
    },
    {
     "name": "stderr",
     "output_type": "stream",
     "text": [
      "Training (8805 / 18000 Steps) (loss=0.49654): 100%|██████████| 7/7 [00:12<00:00,  1.84s/it]\n",
      "Training (8812 / 18000 Steps) (loss=0.50068): 100%|██████████| 7/7 [00:06<00:00,  1.14it/s]\n",
      "Training (8819 / 18000 Steps) (loss=0.44107): 100%|██████████| 7/7 [00:07<00:00,  1.00s/it]\n",
      "Training (8826 / 18000 Steps) (loss=0.31212): 100%|██████████| 7/7 [00:07<00:00,  1.13s/it]\n",
      "Training (8833 / 18000 Steps) (loss=0.42722): 100%|██████████| 7/7 [00:08<00:00,  1.17s/it]\n",
      "Training (8840 / 18000 Steps) (loss=0.28862): 100%|██████████| 7/7 [00:05<00:00,  1.23it/s]\n",
      "Training (8847 / 18000 Steps) (loss=0.50435): 100%|██████████| 7/7 [00:07<00:00,  1.01s/it]\n",
      "Training (8854 / 18000 Steps) (loss=0.36150): 100%|██████████| 7/7 [00:05<00:00,  1.28it/s]\n",
      "Training (8861 / 18000 Steps) (loss=0.41597): 100%|██████████| 7/7 [00:05<00:00,  1.24it/s]\n",
      "Training (8868 / 18000 Steps) (loss=0.49705): 100%|██████████| 7/7 [00:05<00:00,  1.25it/s]\n",
      "Training (8875 / 18000 Steps) (loss=0.49852): 100%|██████████| 7/7 [00:05<00:00,  1.20it/s]\n",
      "Training (8882 / 18000 Steps) (loss=0.43761): 100%|██████████| 7/7 [00:07<00:00,  1.06s/it]\n",
      "Training (8889 / 18000 Steps) (loss=0.56625): 100%|██████████| 7/7 [00:07<00:00,  1.13s/it]\n",
      "Training (8896 / 18000 Steps) (loss=0.49626): 100%|██████████| 7/7 [00:08<00:00,  1.17s/it]\n",
      "Validate (8897 / 10 Steps): 100%|██████████| 2/2 [00:05<00:00,  2.55s/it]<00:05,  1.44s/it]\n",
      "Training (8900 / 18000 Steps) (loss=0.37815):  57%|█████▋    | 4/7 [00:11<00:09,  3.23s/it]"
     ]
    },
    {
     "name": "stdout",
     "output_type": "stream",
     "text": [
      "Model Was Not Saved ! Current Best Avg. Dice: 0.28835099935531616 Current Avg. Dice: 0.2685585021972656 Current Avg. tumor Dice: 0.3328665792942047 Current Avg. lymph Dice: 0.20425046980381012\n"
     ]
    },
    {
     "name": "stderr",
     "output_type": "stream",
     "text": [
      "Training (8903 / 18000 Steps) (loss=0.29138): 100%|██████████| 7/7 [00:13<00:00,  1.92s/it]\n",
      "Training (8910 / 18000 Steps) (loss=0.54166): 100%|██████████| 7/7 [00:07<00:00,  1.00s/it]\n",
      "Training (8917 / 18000 Steps) (loss=0.50824): 100%|██████████| 7/7 [00:06<00:00,  1.01it/s]\n",
      "Training (8924 / 18000 Steps) (loss=0.41082): 100%|██████████| 7/7 [00:06<00:00,  1.11it/s]\n",
      "Training (8931 / 18000 Steps) (loss=0.25025): 100%|██████████| 7/7 [00:06<00:00,  1.06it/s]\n",
      "Training (8938 / 18000 Steps) (loss=0.34945): 100%|██████████| 7/7 [00:06<00:00,  1.02it/s]\n",
      "Training (8945 / 18000 Steps) (loss=0.20719): 100%|██████████| 7/7 [00:07<00:00,  1.05s/it]\n",
      "Training (8952 / 18000 Steps) (loss=0.29926): 100%|██████████| 7/7 [00:05<00:00,  1.26it/s]\n",
      "Training (8959 / 18000 Steps) (loss=0.49302): 100%|██████████| 7/7 [00:07<00:00,  1.06s/it]\n",
      "Training (8966 / 18000 Steps) (loss=0.43035): 100%|██████████| 7/7 [00:05<00:00,  1.30it/s]\n",
      "Training (8973 / 18000 Steps) (loss=0.28004): 100%|██████████| 7/7 [00:05<00:00,  1.23it/s]\n",
      "Training (8980 / 18000 Steps) (loss=0.32394): 100%|██████████| 7/7 [00:05<00:00,  1.31it/s]\n",
      "Training (8987 / 18000 Steps) (loss=0.66713): 100%|██████████| 7/7 [00:05<00:00,  1.23it/s]\n",
      "Training (8994 / 18000 Steps) (loss=0.28410): 100%|██████████| 7/7 [00:07<00:00,  1.09s/it]\n",
      "Validate (8995 / 10 Steps): 100%|██████████| 2/2 [00:06<00:00,  3.31s/it]<00:02,  1.10s/it]\n",
      "Training (9000 / 18000 Steps) (loss=0.50573):  86%|████████▌ | 6/7 [00:14<00:03,  3.14s/it]"
     ]
    },
    {
     "name": "stdout",
     "output_type": "stream",
     "text": [
      "Model Was Not Saved ! Current Best Avg. Dice: 0.28835099935531616 Current Avg. Dice: 0.257460355758667 Current Avg. tumor Dice: 0.30870750546455383 Current Avg. lymph Dice: 0.20621325075626373\n"
     ]
    },
    {
     "name": "stderr",
     "output_type": "stream",
     "text": [
      "Training (9001 / 18000 Steps) (loss=0.34177): 100%|██████████| 7/7 [00:14<00:00,  2.12s/it]\n",
      "Training (9008 / 18000 Steps) (loss=0.64085): 100%|██████████| 7/7 [00:08<00:00,  1.19s/it]\n",
      "Training (9015 / 18000 Steps) (loss=0.44301): 100%|██████████| 7/7 [00:08<00:00,  1.18s/it]\n",
      "Training (9022 / 18000 Steps) (loss=0.52559): 100%|██████████| 7/7 [00:08<00:00,  1.17s/it]\n",
      "Training (9029 / 18000 Steps) (loss=0.29368): 100%|██████████| 7/7 [00:07<00:00,  1.14s/it]\n",
      "Training (9036 / 18000 Steps) (loss=0.55169): 100%|██████████| 7/7 [00:07<00:00,  1.07s/it]\n",
      "Training (9043 / 18000 Steps) (loss=0.42906): 100%|██████████| 7/7 [00:06<00:00,  1.05it/s]\n",
      "Training (9050 / 18000 Steps) (loss=0.51165): 100%|██████████| 7/7 [00:06<00:00,  1.10it/s]\n",
      "Training (9057 / 18000 Steps) (loss=0.48133): 100%|██████████| 7/7 [00:06<00:00,  1.02it/s]\n",
      "Training (9064 / 18000 Steps) (loss=0.31923): 100%|██████████| 7/7 [00:05<00:00,  1.22it/s]\n",
      "Training (9071 / 18000 Steps) (loss=0.37627): 100%|██████████| 7/7 [00:07<00:00,  1.03s/it]\n",
      "Training (9078 / 18000 Steps) (loss=0.33506): 100%|██████████| 7/7 [00:05<00:00,  1.29it/s]\n",
      "Training (9085 / 18000 Steps) (loss=0.54102): 100%|██████████| 7/7 [00:05<00:00,  1.23it/s]\n",
      "Training (9092 / 18000 Steps) (loss=0.51830): 100%|██████████| 7/7 [00:05<00:00,  1.26it/s]\n",
      "Training (9099 / 18000 Steps) (loss=0.44340): 100%|██████████| 7/7 [00:05<00:00,  1.31it/s]\n",
      "Validate (9100 / 10 Steps): 100%|██████████| 2/2 [00:04<00:00,  2.31s/it]<?, ?it/s]\n",
      "Training (9100 / 18000 Steps) (loss=0.33323):  14%|█▍        | 1/7 [00:08<00:49,  8.33s/it]"
     ]
    },
    {
     "name": "stdout",
     "output_type": "stream",
     "text": [
      "Model Was Not Saved ! Current Best Avg. Dice: 0.28835099935531616 Current Avg. Dice: 0.2622941732406616 Current Avg. tumor Dice: 0.3331336975097656 Current Avg. lymph Dice: 0.19145467877388\n"
     ]
    },
    {
     "name": "stderr",
     "output_type": "stream",
     "text": [
      "Training (9106 / 18000 Steps) (loss=0.37946): 100%|██████████| 7/7 [00:13<00:00,  1.87s/it]\n",
      "Training (9113 / 18000 Steps) (loss=0.55759): 100%|██████████| 7/7 [00:07<00:00,  1.11s/it]\n",
      "Training (9120 / 18000 Steps) (loss=0.61317): 100%|██████████| 7/7 [00:07<00:00,  1.02s/it]\n",
      "Training (9127 / 18000 Steps) (loss=0.47482): 100%|██████████| 7/7 [00:06<00:00,  1.07it/s]\n",
      "Training (9134 / 18000 Steps) (loss=0.49103): 100%|██████████| 7/7 [00:06<00:00,  1.10it/s]\n",
      "Training (9141 / 18000 Steps) (loss=0.34834): 100%|██████████| 7/7 [00:06<00:00,  1.05it/s]\n",
      "Training (9148 / 18000 Steps) (loss=0.54854): 100%|██████████| 7/7 [00:07<00:00,  1.02s/it]\n",
      "Training (9155 / 18000 Steps) (loss=0.51857): 100%|██████████| 7/7 [00:08<00:00,  1.15s/it]\n",
      "Training (9162 / 18000 Steps) (loss=0.42190): 100%|██████████| 7/7 [00:08<00:00,  1.19s/it]\n",
      "Training (9169 / 18000 Steps) (loss=0.57706): 100%|██████████| 7/7 [00:08<00:00,  1.22s/it]\n",
      "Training (9176 / 18000 Steps) (loss=0.50218): 100%|██████████| 7/7 [00:05<00:00,  1.18it/s]\n",
      "Training (9183 / 18000 Steps) (loss=0.49641): 100%|██████████| 7/7 [00:06<00:00,  1.03it/s]\n",
      "Training (9190 / 18000 Steps) (loss=0.63546): 100%|██████████| 7/7 [00:05<00:00,  1.24it/s]\n",
      "Training (9197 / 18000 Steps) (loss=0.34984): 100%|██████████| 7/7 [00:05<00:00,  1.25it/s]\n",
      "Validate (9198 / 10 Steps): 100%|██████████| 2/2 [00:04<00:00,  2.17s/it]<00:07,  1.54s/it]\n",
      "Training (9200 / 18000 Steps) (loss=0.47505):  43%|████▎     | 3/7 [00:08<00:12,  3.03s/it]"
     ]
    },
    {
     "name": "stdout",
     "output_type": "stream",
     "text": [
      "Model Was Not Saved ! Current Best Avg. Dice: 0.28835099935531616 Current Avg. Dice: 0.25479575991630554 Current Avg. tumor Dice: 0.3266083598136902 Current Avg. lymph Dice: 0.1829831600189209\n"
     ]
    },
    {
     "name": "stderr",
     "output_type": "stream",
     "text": [
      "Training (9204 / 18000 Steps) (loss=0.60390): 100%|██████████| 7/7 [00:09<00:00,  1.42s/it]\n",
      "Training (9211 / 18000 Steps) (loss=0.43835): 100%|██████████| 7/7 [00:08<00:00,  1.18s/it]\n",
      "Training (9218 / 18000 Steps) (loss=0.55429): 100%|██████████| 7/7 [00:07<00:00,  1.13s/it]\n",
      "Training (9225 / 18000 Steps) (loss=0.43676): 100%|██████████| 7/7 [00:07<00:00,  1.11s/it]\n",
      "Training (9232 / 18000 Steps) (loss=0.43948): 100%|██████████| 7/7 [00:07<00:00,  1.04s/it]\n",
      "Training (9239 / 18000 Steps) (loss=0.37399): 100%|██████████| 7/7 [00:06<00:00,  1.00it/s]\n",
      "Training (9246 / 18000 Steps) (loss=0.35312): 100%|██████████| 7/7 [00:06<00:00,  1.10it/s]\n",
      "Training (9253 / 18000 Steps) (loss=0.49808): 100%|██████████| 7/7 [00:06<00:00,  1.08it/s]\n",
      "Training (9260 / 18000 Steps) (loss=0.56504): 100%|██████████| 7/7 [00:07<00:00,  1.06s/it]\n",
      "Training (9267 / 18000 Steps) (loss=0.42172): 100%|██████████| 7/7 [00:07<00:00,  1.13s/it]\n",
      "Training (9274 / 18000 Steps) (loss=0.47774): 100%|██████████| 7/7 [00:08<00:00,  1.19s/it]\n",
      "Training (9281 / 18000 Steps) (loss=0.27069): 100%|██████████| 7/7 [00:08<00:00,  1.22s/it]\n",
      "Training (9288 / 18000 Steps) (loss=0.37435): 100%|██████████| 7/7 [00:05<00:00,  1.26it/s]\n",
      "Training (9295 / 18000 Steps) (loss=0.57004): 100%|██████████| 7/7 [00:07<00:00,  1.00s/it]\n",
      "Validate (9296 / 10 Steps): 100%|██████████| 2/2 [00:04<00:00,  2.15s/it]<00:02,  1.27it/s]\n",
      "Training (9300 / 18000 Steps) (loss=0.45479):  71%|███████▏  | 5/7 [00:09<00:04,  2.22s/it]"
     ]
    },
    {
     "name": "stdout",
     "output_type": "stream",
     "text": [
      "Model Was Not Saved ! Current Best Avg. Dice: 0.28835099935531616 Current Avg. Dice: 0.25062796473503113 Current Avg. tumor Dice: 0.3179699778556824 Current Avg. lymph Dice: 0.18328596651554108\n"
     ]
    },
    {
     "name": "stderr",
     "output_type": "stream",
     "text": [
      "Training (9302 / 18000 Steps) (loss=0.39339): 100%|██████████| 7/7 [00:09<00:00,  1.42s/it]\n",
      "Training (9309 / 18000 Steps) (loss=0.26354): 100%|██████████| 7/7 [00:05<00:00,  1.28it/s]\n",
      "Training (9316 / 18000 Steps) (loss=0.45425): 100%|██████████| 7/7 [00:05<00:00,  1.24it/s]\n",
      "Training (9323 / 18000 Steps) (loss=0.35072): 100%|██████████| 7/7 [00:05<00:00,  1.30it/s]\n",
      "Training (9330 / 18000 Steps) (loss=0.28890): 100%|██████████| 7/7 [00:05<00:00,  1.29it/s]\n",
      "Training (9337 / 18000 Steps) (loss=0.63886): 100%|██████████| 7/7 [00:05<00:00,  1.21it/s]\n",
      "Training (9344 / 18000 Steps) (loss=0.37452): 100%|██████████| 7/7 [00:05<00:00,  1.28it/s]\n",
      "Training (9351 / 18000 Steps) (loss=0.37442): 100%|██████████| 7/7 [00:05<00:00,  1.22it/s]\n",
      "Training (9358 / 18000 Steps) (loss=0.38153): 100%|██████████| 7/7 [00:05<00:00,  1.28it/s]\n",
      "Training (9365 / 18000 Steps) (loss=0.36954): 100%|██████████| 7/7 [00:08<00:00,  1.20s/it]\n",
      "Training (9372 / 18000 Steps) (loss=0.37425): 100%|██████████| 7/7 [00:08<00:00,  1.15s/it]\n",
      "Training (9379 / 18000 Steps) (loss=0.24083): 100%|██████████| 7/7 [00:07<00:00,  1.10s/it]\n",
      "Training (9386 / 18000 Steps) (loss=0.37692): 100%|██████████| 7/7 [00:07<00:00,  1.09s/it]\n",
      "Training (9393 / 18000 Steps) (loss=0.25349): 100%|██████████| 7/7 [00:07<00:00,  1.05s/it]\n",
      "Validate (9394 / 10 Steps): 100%|██████████| 2/2 [00:05<00:00,  2.71s/it]<00:00,  1.25it/s]\n",
      "Training (9400 / 18000 Steps) (loss=0.34356): 100%|██████████| 7/7 [00:12<00:00,  1.74s/it]\n"
     ]
    },
    {
     "name": "stdout",
     "output_type": "stream",
     "text": [
      "Model Was Not Saved ! Current Best Avg. Dice: 0.28835099935531616 Current Avg. Dice: 0.28576943278312683 Current Avg. tumor Dice: 0.33817583322525024 Current Avg. lymph Dice: 0.2333630621433258\n"
     ]
    },
    {
     "name": "stderr",
     "output_type": "stream",
     "text": [
      "Training (9407 / 18000 Steps) (loss=0.34958): 100%|██████████| 7/7 [00:07<00:00,  1.13s/it]\n",
      "Training (9414 / 18000 Steps) (loss=0.29934): 100%|██████████| 7/7 [00:08<00:00,  1.19s/it]\n",
      "Training (9421 / 18000 Steps) (loss=0.43325): 100%|██████████| 7/7 [00:08<00:00,  1.17s/it]\n",
      "Training (9428 / 18000 Steps) (loss=0.43310): 100%|██████████| 7/7 [00:08<00:00,  1.17s/it]\n",
      "Training (9435 / 18000 Steps) (loss=0.42971): 100%|██████████| 7/7 [00:06<00:00,  1.16it/s]\n",
      "Training (9442 / 18000 Steps) (loss=0.44378): 100%|██████████| 7/7 [00:06<00:00,  1.00it/s]\n",
      "Training (9449 / 18000 Steps) (loss=0.34998): 100%|██████████| 7/7 [00:05<00:00,  1.18it/s]\n",
      "Training (9456 / 18000 Steps) (loss=0.31942): 100%|██████████| 7/7 [00:05<00:00,  1.23it/s]\n",
      "Training (9463 / 18000 Steps) (loss=0.33535): 100%|██████████| 7/7 [00:05<00:00,  1.25it/s]\n",
      "Training (9470 / 18000 Steps) (loss=0.57904): 100%|██████████| 7/7 [00:05<00:00,  1.20it/s]\n",
      "Training (9477 / 18000 Steps) (loss=0.41346): 100%|██████████| 7/7 [00:08<00:00,  1.17s/it]\n",
      "Training (9484 / 18000 Steps) (loss=0.52653): 100%|██████████| 7/7 [00:08<00:00,  1.20s/it]\n",
      "Training (9491 / 18000 Steps) (loss=0.43027): 100%|██████████| 7/7 [00:08<00:00,  1.15s/it]\n",
      "Training (9498 / 18000 Steps) (loss=0.38188): 100%|██████████| 7/7 [00:08<00:00,  1.17s/it]\n",
      "Validate (9499 / 10 Steps): 100%|██████████| 2/2 [00:06<00:00,  3.28s/it]<00:18,  3.06s/it]\n",
      "Training (9500 / 18000 Steps) (loss=0.49281):  29%|██▊       | 2/7 [00:10<00:26,  5.39s/it]"
     ]
    },
    {
     "name": "stdout",
     "output_type": "stream",
     "text": [
      "Model Was Not Saved ! Current Best Avg. Dice: 0.28835099935531616 Current Avg. Dice: 0.2662205100059509 Current Avg. tumor Dice: 0.34555086493492126 Current Avg. lymph Dice: 0.1868901252746582\n"
     ]
    },
    {
     "name": "stderr",
     "output_type": "stream",
     "text": [
      "Training (9505 / 18000 Steps) (loss=0.52613): 100%|██████████| 7/7 [00:12<00:00,  1.78s/it]\n",
      "Training (9512 / 18000 Steps) (loss=0.44352): 100%|██████████| 7/7 [00:07<00:00,  1.10s/it]\n",
      "Training (9519 / 18000 Steps) (loss=0.38233): 100%|██████████| 7/7 [00:08<00:00,  1.18s/it]\n",
      "Training (9526 / 18000 Steps) (loss=0.50052): 100%|██████████| 7/7 [00:08<00:00,  1.20s/it]\n",
      "Training (9533 / 18000 Steps) (loss=0.33163): 100%|██████████| 7/7 [00:08<00:00,  1.22s/it]\n",
      "Training (9540 / 18000 Steps) (loss=0.30338): 100%|██████████| 7/7 [00:08<00:00,  1.20s/it]\n",
      "Training (9547 / 18000 Steps) (loss=0.48227): 100%|██████████| 7/7 [00:05<00:00,  1.23it/s]\n",
      "Training (9554 / 18000 Steps) (loss=0.28991): 100%|██████████| 7/7 [00:07<00:00,  1.05s/it]\n",
      "Training (9561 / 18000 Steps) (loss=0.23684): 100%|██████████| 7/7 [00:05<00:00,  1.24it/s]\n",
      "Training (9568 / 18000 Steps) (loss=0.43985): 100%|██████████| 7/7 [00:05<00:00,  1.21it/s]\n",
      "Training (9575 / 18000 Steps) (loss=0.37820): 100%|██████████| 7/7 [00:05<00:00,  1.23it/s]\n",
      "Training (9582 / 18000 Steps) (loss=0.63025): 100%|██████████| 7/7 [00:05<00:00,  1.26it/s]\n",
      "Training (9589 / 18000 Steps) (loss=0.39680): 100%|██████████| 7/7 [00:08<00:00,  1.21s/it]\n",
      "Training (9596 / 18000 Steps) (loss=0.44084): 100%|██████████| 7/7 [00:08<00:00,  1.18s/it]\n",
      "Validate (9597 / 10 Steps): 100%|██████████| 2/2 [00:04<00:00,  2.40s/it]<00:05,  1.47s/it]\n",
      "Training (9600 / 18000 Steps) (loss=0.45769):  57%|█████▋    | 4/7 [00:10<00:09,  3.13s/it]"
     ]
    },
    {
     "name": "stdout",
     "output_type": "stream",
     "text": [
      "Model Was Not Saved ! Current Best Avg. Dice: 0.28835099935531616 Current Avg. Dice: 0.2744545042514801 Current Avg. tumor Dice: 0.3371679484844208 Current Avg. lymph Dice: 0.21174108982086182\n"
     ]
    },
    {
     "name": "stderr",
     "output_type": "stream",
     "text": [
      "Training (9603 / 18000 Steps) (loss=0.40328): 100%|██████████| 7/7 [00:12<00:00,  1.84s/it]\n",
      "Training (9610 / 18000 Steps) (loss=0.32326): 100%|██████████| 7/7 [00:06<00:00,  1.10it/s]\n",
      "Training (9617 / 18000 Steps) (loss=0.54537): 100%|██████████| 7/7 [00:06<00:00,  1.04it/s]\n",
      "Training (9624 / 18000 Steps) (loss=0.45131): 100%|██████████| 7/7 [00:07<00:00,  1.07s/it]\n",
      "Training (9631 / 18000 Steps) (loss=0.32315): 100%|██████████| 7/7 [00:08<00:00,  1.18s/it]\n",
      "Training (9638 / 18000 Steps) (loss=0.26065): 100%|██████████| 7/7 [00:08<00:00,  1.19s/it]\n",
      "Training (9645 / 18000 Steps) (loss=0.66775): 100%|██████████| 7/7 [00:08<00:00,  1.19s/it]\n",
      "Training (9652 / 18000 Steps) (loss=0.50009): 100%|██████████| 7/7 [00:08<00:00,  1.21s/it]\n",
      "Training (9659 / 18000 Steps) (loss=0.49521): 100%|██████████| 7/7 [00:06<00:00,  1.14it/s]\n",
      "Training (9666 / 18000 Steps) (loss=0.44661): 100%|██████████| 7/7 [00:07<00:00,  1.04s/it]\n",
      "Training (9673 / 18000 Steps) (loss=0.60287): 100%|██████████| 7/7 [00:05<00:00,  1.21it/s]\n",
      "Training (9680 / 18000 Steps) (loss=0.39920): 100%|██████████| 7/7 [00:05<00:00,  1.30it/s]\n",
      "Training (9687 / 18000 Steps) (loss=0.18891): 100%|██████████| 7/7 [00:05<00:00,  1.30it/s]\n",
      "Training (9694 / 18000 Steps) (loss=0.57022): 100%|██████████| 7/7 [00:05<00:00,  1.31it/s]\n",
      "Validate (9695 / 10 Steps): 100%|██████████| 2/2 [00:05<00:00,  2.72s/it]<00:02,  1.08s/it]\n",
      "Training (9700 / 18000 Steps) (loss=0.51035):  86%|████████▌ | 6/7 [00:13<00:02,  2.87s/it]"
     ]
    },
    {
     "name": "stdout",
     "output_type": "stream",
     "text": [
      "Model Was Not Saved ! Current Best Avg. Dice: 0.28835099935531616 Current Avg. Dice: 0.27371519804000854 Current Avg. tumor Dice: 0.34315750002861023 Current Avg. lymph Dice: 0.20427289605140686\n"
     ]
    },
    {
     "name": "stderr",
     "output_type": "stream",
     "text": [
      "Training (9701 / 18000 Steps) (loss=0.34760): 100%|██████████| 7/7 [00:13<00:00,  1.97s/it]\n",
      "Training (9708 / 18000 Steps) (loss=0.54691): 100%|██████████| 7/7 [00:06<00:00,  1.04it/s]\n",
      "Training (9715 / 18000 Steps) (loss=0.39103): 100%|██████████| 7/7 [00:06<00:00,  1.12it/s]\n",
      "Training (9722 / 18000 Steps) (loss=0.47093): 100%|██████████| 7/7 [00:06<00:00,  1.08it/s]\n",
      "Training (9729 / 18000 Steps) (loss=0.38958): 100%|██████████| 7/7 [00:07<00:00,  1.08s/it]\n",
      "Training (9736 / 18000 Steps) (loss=0.44362): 100%|██████████| 7/7 [00:08<00:00,  1.15s/it]\n",
      "Training (9743 / 18000 Steps) (loss=0.32134): 100%|██████████| 7/7 [00:08<00:00,  1.18s/it]\n",
      "Training (9750 / 18000 Steps) (loss=0.42792): 100%|██████████| 7/7 [00:08<00:00,  1.22s/it]\n",
      "Training (9757 / 18000 Steps) (loss=0.37070): 100%|██████████| 7/7 [00:08<00:00,  1.21s/it]\n",
      "Training (9764 / 18000 Steps) (loss=0.56568): 100%|██████████| 7/7 [00:08<00:00,  1.19s/it]\n",
      "Training (9771 / 18000 Steps) (loss=0.53751): 100%|██████████| 7/7 [00:05<00:00,  1.20it/s]\n",
      "Training (9778 / 18000 Steps) (loss=0.47976): 100%|██████████| 7/7 [00:07<00:00,  1.03s/it]\n",
      "Training (9785 / 18000 Steps) (loss=0.38247): 100%|██████████| 7/7 [00:05<00:00,  1.29it/s]\n",
      "Training (9792 / 18000 Steps) (loss=0.52241): 100%|██████████| 7/7 [00:05<00:00,  1.30it/s]\n",
      "Training (9799 / 18000 Steps) (loss=0.54168): 100%|██████████| 7/7 [00:05<00:00,  1.23it/s]\n",
      "Validate (9800 / 10 Steps): 100%|██████████| 2/2 [00:04<00:00,  2.43s/it]<?, ?it/s]\n",
      "Training (9800 / 18000 Steps) (loss=0.45076):  14%|█▍        | 1/7 [00:08<00:48,  8.14s/it]"
     ]
    },
    {
     "name": "stdout",
     "output_type": "stream",
     "text": [
      "Model Was Not Saved ! Current Best Avg. Dice: 0.28835099935531616 Current Avg. Dice: 0.25593113899230957 Current Avg. tumor Dice: 0.2790299355983734 Current Avg. lymph Dice: 0.23283234238624573\n"
     ]
    },
    {
     "name": "stderr",
     "output_type": "stream",
     "text": [
      "Training (9806 / 18000 Steps) (loss=0.48294): 100%|██████████| 7/7 [00:12<00:00,  1.85s/it]\n",
      "Training (9813 / 18000 Steps) (loss=0.42924): 100%|██████████| 7/7 [00:08<00:00,  1.19s/it]\n",
      "Training (9820 / 18000 Steps) (loss=0.60149): 100%|██████████| 7/7 [00:08<00:00,  1.17s/it]\n",
      "Training (9827 / 18000 Steps) (loss=0.48746): 100%|██████████| 7/7 [00:08<00:00,  1.16s/it]\n",
      "Training (9834 / 18000 Steps) (loss=0.33702): 100%|██████████| 7/7 [00:07<00:00,  1.11s/it]\n",
      "Training (9841 / 18000 Steps) (loss=0.33497): 100%|██████████| 7/7 [00:06<00:00,  1.04it/s]\n",
      "Training (9848 / 18000 Steps) (loss=0.53240): 100%|██████████| 7/7 [00:06<00:00,  1.12it/s]\n",
      "Training (9855 / 18000 Steps) (loss=0.49234): 100%|██████████| 7/7 [00:06<00:00,  1.07it/s]\n",
      "Training (9862 / 18000 Steps) (loss=0.39723): 100%|██████████| 7/7 [00:06<00:00,  1.00it/s]\n",
      "Training (9869 / 18000 Steps) (loss=0.30421): 100%|██████████| 7/7 [00:07<00:00,  1.12s/it]\n",
      "Training (9876 / 18000 Steps) (loss=0.31519): 100%|██████████| 7/7 [00:08<00:00,  1.17s/it]\n",
      "Training (9883 / 18000 Steps) (loss=0.51556): 100%|██████████| 7/7 [00:05<00:00,  1.21it/s]\n",
      "Training (9890 / 18000 Steps) (loss=0.41130): 100%|██████████| 7/7 [00:06<00:00,  1.01it/s]\n",
      "Training (9897 / 18000 Steps) (loss=0.51873): 100%|██████████| 7/7 [00:05<00:00,  1.22it/s]\n",
      "Validate (9898 / 10 Steps): 100%|██████████| 2/2 [00:04<00:00,  2.17s/it]<00:07,  1.49s/it]\n",
      "Training (9900 / 18000 Steps) (loss=0.35386):  43%|████▎     | 3/7 [00:08<00:12,  3.00s/it]"
     ]
    },
    {
     "name": "stdout",
     "output_type": "stream",
     "text": [
      "Model Was Not Saved ! Current Best Avg. Dice: 0.28835099935531616 Current Avg. Dice: 0.24729062616825104 Current Avg. tumor Dice: 0.28379517793655396 Current Avg. lymph Dice: 0.21078607439994812\n"
     ]
    },
    {
     "name": "stderr",
     "output_type": "stream",
     "text": [
      "Training (9904 / 18000 Steps) (loss=0.56525): 100%|██████████| 7/7 [00:09<00:00,  1.40s/it]\n",
      "Training (9911 / 18000 Steps) (loss=0.30542): 100%|██████████| 7/7 [00:05<00:00,  1.32it/s]\n",
      "Training (9918 / 18000 Steps) (loss=0.31930): 100%|██████████| 7/7 [00:08<00:00,  1.19s/it]\n",
      "Training (9925 / 18000 Steps) (loss=0.54312): 100%|██████████| 7/7 [00:08<00:00,  1.17s/it]\n",
      "Training (9932 / 18000 Steps) (loss=0.22791): 100%|██████████| 7/7 [00:08<00:00,  1.25s/it]\n",
      "Training (9939 / 18000 Steps) (loss=0.24100): 100%|██████████| 7/7 [00:07<00:00,  1.10s/it]\n",
      "Training (9946 / 18000 Steps) (loss=0.55992): 100%|██████████| 7/7 [00:08<00:00,  1.18s/it]\n",
      "Training (9953 / 18000 Steps) (loss=0.54533): 100%|██████████| 7/7 [00:07<00:00,  1.08s/it]\n",
      "Training (9960 / 18000 Steps) (loss=0.54135): 100%|██████████| 7/7 [00:07<00:00,  1.05s/it]\n",
      "Training (9967 / 18000 Steps) (loss=0.53441): 100%|██████████| 7/7 [00:07<00:00,  1.07s/it]\n",
      "Training (9974 / 18000 Steps) (loss=0.48271): 100%|██████████| 7/7 [00:06<00:00,  1.07it/s]\n",
      "Training (9981 / 18000 Steps) (loss=0.50913): 100%|██████████| 7/7 [00:06<00:00,  1.12it/s]\n",
      "Training (9988 / 18000 Steps) (loss=0.32187): 100%|██████████| 7/7 [00:06<00:00,  1.04it/s]\n",
      "Training (9995 / 18000 Steps) (loss=0.35741): 100%|██████████| 7/7 [00:05<00:00,  1.27it/s]\n",
      "Validate (9996 / 10 Steps): 100%|██████████| 2/2 [00:04<00:00,  2.11s/it]6<00:03,  1.05s/it]\n",
      "Training (10000 / 18000 Steps) (loss=0.49022):  71%|███████▏  | 5/7 [00:10<00:04,  2.46s/it]"
     ]
    },
    {
     "name": "stdout",
     "output_type": "stream",
     "text": [
      "Model Was Not Saved ! Current Best Avg. Dice: 0.28835099935531616 Current Avg. Dice: 0.25286155939102173 Current Avg. tumor Dice: 0.309245765209198 Current Avg. lymph Dice: 0.19647735357284546\n"
     ]
    },
    {
     "name": "stderr",
     "output_type": "stream",
     "text": [
      "Training (10002 / 18000 Steps) (loss=0.30208): 100%|██████████| 7/7 [00:11<00:00,  1.60s/it]\n",
      "Training (10009 / 18000 Steps) (loss=0.44518): 100%|██████████| 7/7 [00:05<00:00,  1.26it/s]\n",
      "Training (10016 / 18000 Steps) (loss=0.29539): 100%|██████████| 7/7 [00:05<00:00,  1.24it/s]\n",
      "Training (10023 / 18000 Steps) (loss=0.75039): 100%|██████████| 7/7 [00:05<00:00,  1.21it/s]\n",
      "Training (10030 / 18000 Steps) (loss=0.49045): 100%|██████████| 7/7 [00:08<00:00,  1.23s/it]\n",
      "Training (10037 / 18000 Steps) (loss=0.54157): 100%|██████████| 7/7 [00:08<00:00,  1.23s/it]\n",
      "Training (10044 / 18000 Steps) (loss=0.42936): 100%|██████████| 7/7 [00:08<00:00,  1.21s/it]\n",
      "Training (10051 / 18000 Steps) (loss=0.32358): 100%|██████████| 7/7 [00:08<00:00,  1.21s/it]\n",
      "Training (10058 / 18000 Steps) (loss=0.53441): 100%|██████████| 7/7 [00:08<00:00,  1.22s/it]\n",
      "Training (10065 / 18000 Steps) (loss=0.58637): 100%|██████████| 7/7 [00:08<00:00,  1.20s/it]\n",
      "Training (10072 / 18000 Steps) (loss=0.49943): 100%|██████████| 7/7 [00:08<00:00,  1.18s/it]\n",
      "Training (10079 / 18000 Steps) (loss=0.32049): 100%|██████████| 7/7 [00:07<00:00,  1.08s/it]\n",
      "Training (10086 / 18000 Steps) (loss=0.46405): 100%|██████████| 7/7 [00:07<00:00,  1.08s/it]\n",
      "Training (10093 / 18000 Steps) (loss=0.53782): 100%|██████████| 7/7 [00:07<00:00,  1.03s/it]\n",
      "Validate (10094 / 10 Steps): 100%|██████████| 2/2 [00:04<00:00,  2.23s/it]<00:00,  1.41it/s]\n",
      "Training (10100 / 18000 Steps) (loss=0.67187): 100%|██████████| 7/7 [00:10<00:00,  1.52s/it]\n"
     ]
    },
    {
     "name": "stdout",
     "output_type": "stream",
     "text": [
      "Model Was Not Saved ! Current Best Avg. Dice: 0.28835099935531616 Current Avg. Dice: 0.28535500168800354 Current Avg. tumor Dice: 0.34274792671203613 Current Avg. lymph Dice: 0.22796204686164856\n"
     ]
    },
    {
     "name": "stderr",
     "output_type": "stream",
     "text": [
      "Training (10107 / 18000 Steps) (loss=0.44170): 100%|██████████| 7/7 [00:07<00:00,  1.04s/it]\n",
      "Training (10114 / 18000 Steps) (loss=0.50201): 100%|██████████| 7/7 [00:05<00:00,  1.29it/s]\n",
      "Training (10121 / 18000 Steps) (loss=0.48247): 100%|██████████| 7/7 [00:05<00:00,  1.23it/s]\n",
      "Training (10128 / 18000 Steps) (loss=0.28116): 100%|██████████| 7/7 [00:05<00:00,  1.23it/s]\n",
      "Training (10135 / 18000 Steps) (loss=0.57682): 100%|██████████| 7/7 [00:05<00:00,  1.20it/s]\n",
      "Training (10142 / 18000 Steps) (loss=0.42995): 100%|██████████| 7/7 [00:07<00:00,  1.11s/it]\n",
      "Training (10149 / 18000 Steps) (loss=0.38263): 100%|██████████| 7/7 [00:08<00:00,  1.19s/it]\n",
      "Training (10156 / 18000 Steps) (loss=0.33367): 100%|██████████| 7/7 [00:08<00:00,  1.21s/it]\n",
      "Training (10163 / 18000 Steps) (loss=0.29299): 100%|██████████| 7/7 [00:08<00:00,  1.19s/it]\n",
      "Training (10170 / 18000 Steps) (loss=0.49630): 100%|██████████| 7/7 [00:08<00:00,  1.20s/it]\n",
      "Training (10177 / 18000 Steps) (loss=0.34047): 100%|██████████| 7/7 [00:08<00:00,  1.15s/it]\n",
      "Training (10184 / 18000 Steps) (loss=0.50374): 100%|██████████| 7/7 [00:07<00:00,  1.00s/it]\n",
      "Training (10191 / 18000 Steps) (loss=0.42150): 100%|██████████| 7/7 [00:06<00:00,  1.12it/s]\n",
      "Training (10198 / 18000 Steps) (loss=0.46802): 100%|██████████| 7/7 [00:06<00:00,  1.09it/s]\n",
      "Validate (10199 / 10 Steps): 100%|██████████| 2/2 [00:05<00:00,  2.87s/it]<00:21,  3.56s/it]\n",
      "Training (10200 / 18000 Steps) (loss=0.44739):  29%|██▊       | 2/7 [00:10<00:26,  5.37s/it]"
     ]
    },
    {
     "name": "stdout",
     "output_type": "stream",
     "text": [
      "Model Was Not Saved ! Current Best Avg. Dice: 0.28835099935531616 Current Avg. Dice: 0.24638864398002625 Current Avg. tumor Dice: 0.3062260150909424 Current Avg. lymph Dice: 0.18655124306678772\n"
     ]
    },
    {
     "name": "stderr",
     "output_type": "stream",
     "text": [
      "Training (10205 / 18000 Steps) (loss=0.46934): 100%|██████████| 7/7 [00:14<00:00,  2.02s/it]\n",
      "Training (10212 / 18000 Steps) (loss=0.29661): 100%|██████████| 7/7 [00:05<00:00,  1.20it/s]\n",
      "Training (10219 / 18000 Steps) (loss=0.37856): 100%|██████████| 7/7 [00:07<00:00,  1.03s/it]\n",
      "Training (10226 / 18000 Steps) (loss=0.47328): 100%|██████████| 7/7 [00:05<00:00,  1.29it/s]\n",
      "Training (10233 / 18000 Steps) (loss=0.46069): 100%|██████████| 7/7 [00:05<00:00,  1.19it/s]\n",
      "Training (10240 / 18000 Steps) (loss=0.40688): 100%|██████████| 7/7 [00:05<00:00,  1.19it/s]\n",
      "Training (10247 / 18000 Steps) (loss=0.53935): 100%|██████████| 7/7 [00:05<00:00,  1.32it/s]\n",
      "Training (10254 / 18000 Steps) (loss=0.42485): 100%|██████████| 7/7 [00:08<00:00,  1.19s/it]\n",
      "Training (10261 / 18000 Steps) (loss=0.33206): 100%|██████████| 7/7 [00:08<00:00,  1.20s/it]\n",
      "Training (10268 / 18000 Steps) (loss=0.44290): 100%|██████████| 7/7 [00:08<00:00,  1.17s/it]\n",
      "Training (10275 / 18000 Steps) (loss=0.29416): 100%|██████████| 7/7 [00:08<00:00,  1.17s/it]\n",
      "Training (10282 / 18000 Steps) (loss=0.43287): 100%|██████████| 7/7 [00:07<00:00,  1.07s/it]\n",
      "Training (10289 / 18000 Steps) (loss=0.18874): 100%|██████████| 7/7 [00:07<00:00,  1.09s/it]\n",
      "Training (10296 / 18000 Steps) (loss=0.49648): 100%|██████████| 7/7 [00:06<00:00,  1.03it/s]\n",
      "Validate (10297 / 10 Steps): 100%|██████████| 2/2 [00:06<00:00,  3.26s/it]<00:04,  1.11s/it]\n",
      "Training (10300 / 18000 Steps) (loss=0.42810):  57%|█████▋    | 4/7 [00:11<00:10,  3.43s/it]"
     ]
    },
    {
     "name": "stdout",
     "output_type": "stream",
     "text": [
      "Model Was Not Saved ! Current Best Avg. Dice: 0.28835099935531616 Current Avg. Dice: 0.24700424075126648 Current Avg. tumor Dice: 0.3143373429775238 Current Avg. lymph Dice: 0.17967113852500916\n"
     ]
    },
    {
     "name": "stderr",
     "output_type": "stream",
     "text": [
      "Training (10303 / 18000 Steps) (loss=0.60957): 100%|██████████| 7/7 [00:12<00:00,  1.84s/it]\n",
      "Training (10310 / 18000 Steps) (loss=0.38471): 100%|██████████| 7/7 [00:08<00:00,  1.18s/it]\n",
      "Training (10317 / 18000 Steps) (loss=0.55700): 100%|██████████| 7/7 [00:08<00:00,  1.25s/it]\n",
      "Training (10324 / 18000 Steps) (loss=0.34249): 100%|██████████| 7/7 [00:06<00:00,  1.15it/s]\n",
      "Training (10331 / 18000 Steps) (loss=0.47224): 100%|██████████| 7/7 [00:07<00:00,  1.01s/it]\n",
      "Training (10338 / 18000 Steps) (loss=0.38023): 100%|██████████| 7/7 [00:05<00:00,  1.29it/s]\n",
      "Training (10345 / 18000 Steps) (loss=0.39433): 100%|██████████| 7/7 [00:05<00:00,  1.25it/s]\n",
      "Training (10352 / 18000 Steps) (loss=0.47441): 100%|██████████| 7/7 [00:05<00:00,  1.28it/s]\n",
      "Training (10359 / 18000 Steps) (loss=0.47026): 100%|██████████| 7/7 [00:05<00:00,  1.21it/s]\n",
      "Training (10366 / 18000 Steps) (loss=0.69856): 100%|██████████| 7/7 [00:08<00:00,  1.18s/it]\n",
      "Training (10373 / 18000 Steps) (loss=0.53462): 100%|██████████| 7/7 [00:08<00:00,  1.19s/it]\n",
      "Training (10380 / 18000 Steps) (loss=0.44987): 100%|██████████| 7/7 [00:08<00:00,  1.20s/it]\n",
      "Training (10387 / 18000 Steps) (loss=0.43684): 100%|██████████| 7/7 [00:08<00:00,  1.17s/it]\n",
      "Training (10394 / 18000 Steps) (loss=0.44826): 100%|██████████| 7/7 [00:08<00:00,  1.14s/it]\n",
      "Validate (10395 / 10 Steps): 100%|██████████| 2/2 [00:05<00:00,  2.68s/it]<00:01,  1.11it/s]\n",
      "Training (10400 / 18000 Steps) (loss=0.40508):  86%|████████▌ | 6/7 [00:11<00:02,  2.72s/it]"
     ]
    },
    {
     "name": "stdout",
     "output_type": "stream",
     "text": [
      "Model Was Not Saved ! Current Best Avg. Dice: 0.28835099935531616 Current Avg. Dice: 0.23835712671279907 Current Avg. tumor Dice: 0.3027106523513794 Current Avg. lymph Dice: 0.17400363087654114\n"
     ]
    },
    {
     "name": "stderr",
     "output_type": "stream",
     "text": [
      "Training (10401 / 18000 Steps) (loss=0.34341): 100%|██████████| 7/7 [00:12<00:00,  1.76s/it]\n",
      "Training (10408 / 18000 Steps) (loss=0.23037): 100%|██████████| 7/7 [00:07<00:00,  1.12s/it]\n",
      "Training (10415 / 18000 Steps) (loss=0.47569): 100%|██████████| 7/7 [00:08<00:00,  1.20s/it]\n",
      "Training (10422 / 18000 Steps) (loss=0.65702): 100%|██████████| 7/7 [00:08<00:00,  1.24s/it]\n",
      "Training (10429 / 18000 Steps) (loss=0.54515): 100%|██████████| 7/7 [00:08<00:00,  1.20s/it]\n",
      "Training (10436 / 18000 Steps) (loss=0.53739): 100%|██████████| 7/7 [00:05<00:00,  1.22it/s]\n",
      "Training (10443 / 18000 Steps) (loss=0.44948): 100%|██████████| 7/7 [00:07<00:00,  1.04s/it]\n",
      "Training (10450 / 18000 Steps) (loss=0.43736): 100%|██████████| 7/7 [00:05<00:00,  1.22it/s]\n",
      "Training (10457 / 18000 Steps) (loss=0.57752): 100%|██████████| 7/7 [00:05<00:00,  1.17it/s]\n",
      "Training (10464 / 18000 Steps) (loss=0.21559): 100%|██████████| 7/7 [00:05<00:00,  1.23it/s]\n",
      "Training (10471 / 18000 Steps) (loss=0.59901): 100%|██████████| 7/7 [00:05<00:00,  1.29it/s]\n",
      "Training (10478 / 18000 Steps) (loss=0.37921): 100%|██████████| 7/7 [00:08<00:00,  1.16s/it]\n",
      "Training (10485 / 18000 Steps) (loss=0.37679): 100%|██████████| 7/7 [00:08<00:00,  1.18s/it]\n",
      "Training (10492 / 18000 Steps) (loss=0.44377): 100%|██████████| 7/7 [00:08<00:00,  1.17s/it]\n",
      "Training (10499 / 18000 Steps) (loss=0.27020): 100%|██████████| 7/7 [00:07<00:00,  1.02s/it]\n",
      "Validate (10500 / 10 Steps): 100%|██████████| 2/2 [00:06<00:00,  3.21s/it]<?, ?it/s]\n",
      "Training (10500 / 18000 Steps) (loss=0.32270):  14%|█▍        | 1/7 [00:09<00:59,  9.95s/it]"
     ]
    },
    {
     "name": "stdout",
     "output_type": "stream",
     "text": [
      "Model Was Not Saved ! Current Best Avg. Dice: 0.28835099935531616 Current Avg. Dice: 0.28495174646377563 Current Avg. tumor Dice: 0.3439863920211792 Current Avg. lymph Dice: 0.2259170562028885\n"
     ]
    },
    {
     "name": "stderr",
     "output_type": "stream",
     "text": [
      "Training (10506 / 18000 Steps) (loss=0.56146): 100%|██████████| 7/7 [00:13<00:00,  1.87s/it]\n",
      "Training (10513 / 18000 Steps) (loss=0.53178): 100%|██████████| 7/7 [00:07<00:00,  1.10s/it]\n",
      "Training (10520 / 18000 Steps) (loss=0.35322): 100%|██████████| 7/7 [00:08<00:00,  1.17s/it]\n",
      "Training (10527 / 18000 Steps) (loss=0.48203): 100%|██████████| 7/7 [00:08<00:00,  1.20s/it]\n",
      "Training (10534 / 18000 Steps) (loss=0.53929): 100%|██████████| 7/7 [00:08<00:00,  1.22s/it]\n",
      "Training (10541 / 18000 Steps) (loss=0.21654): 100%|██████████| 7/7 [00:08<00:00,  1.16s/it]\n",
      "Training (10548 / 18000 Steps) (loss=0.18999): 100%|██████████| 7/7 [00:06<00:00,  1.08it/s]\n",
      "Training (10555 / 18000 Steps) (loss=0.50838): 100%|██████████| 7/7 [00:07<00:00,  1.05s/it]\n",
      "Training (10562 / 18000 Steps) (loss=0.42212): 100%|██████████| 7/7 [00:05<00:00,  1.22it/s]\n",
      "Training (10569 / 18000 Steps) (loss=0.32847): 100%|██████████| 7/7 [00:05<00:00,  1.29it/s]\n",
      "Training (10576 / 18000 Steps) (loss=0.39492): 100%|██████████| 7/7 [00:05<00:00,  1.28it/s]\n",
      "Training (10583 / 18000 Steps) (loss=0.54805): 100%|██████████| 7/7 [00:05<00:00,  1.25it/s]\n",
      "Training (10590 / 18000 Steps) (loss=0.66811): 100%|██████████| 7/7 [00:08<00:00,  1.20s/it]\n",
      "Training (10597 / 18000 Steps) (loss=0.39658): 100%|██████████| 7/7 [00:07<00:00,  1.13s/it]\n",
      "Validate (10598 / 10 Steps): 100%|██████████| 2/2 [00:05<00:00,  2.85s/it]<00:08,  1.73s/it]\n",
      "Training (10600 / 18000 Steps) (loss=0.50667):  43%|████▎     | 3/7 [00:10<00:15,  3.94s/it]"
     ]
    },
    {
     "name": "stdout",
     "output_type": "stream",
     "text": [
      "Model Was Not Saved ! Current Best Avg. Dice: 0.28835099935531616 Current Avg. Dice: 0.26176875829696655 Current Avg. tumor Dice: 0.3249497413635254 Current Avg. lymph Dice: 0.19858774542808533\n"
     ]
    },
    {
     "name": "stderr",
     "output_type": "stream",
     "text": [
      "Training (10604 / 18000 Steps) (loss=0.37868): 100%|██████████| 7/7 [00:12<00:00,  1.77s/it]\n",
      "Training (10611 / 18000 Steps) (loss=0.32802): 100%|██████████| 7/7 [00:06<00:00,  1.05it/s]\n",
      "Training (10618 / 18000 Steps) (loss=0.49492): 100%|██████████| 7/7 [00:07<00:00,  1.05s/it]\n",
      "Training (10625 / 18000 Steps) (loss=0.20255): 100%|██████████| 7/7 [00:08<00:00,  1.16s/it]\n",
      "Training (10632 / 18000 Steps) (loss=0.40073): 100%|██████████| 7/7 [00:08<00:00,  1.22s/it]\n",
      "Training (10639 / 18000 Steps) (loss=0.29813): 100%|██████████| 7/7 [00:08<00:00,  1.21s/it]\n",
      "Training (10646 / 18000 Steps) (loss=0.38111): 100%|██████████| 7/7 [00:08<00:00,  1.21s/it]\n",
      "Training (10653 / 18000 Steps) (loss=0.31608): 100%|██████████| 7/7 [00:08<00:00,  1.19s/it]\n",
      "Training (10660 / 18000 Steps) (loss=0.53749): 100%|██████████| 7/7 [00:06<00:00,  1.14it/s]\n",
      "Training (10667 / 18000 Steps) (loss=0.31177): 100%|██████████| 7/7 [00:05<00:00,  1.23it/s]\n",
      "Training (10674 / 18000 Steps) (loss=0.62338): 100%|██████████| 7/7 [00:07<00:00,  1.02s/it]\n",
      "Training (10681 / 18000 Steps) (loss=0.42965): 100%|██████████| 7/7 [00:05<00:00,  1.27it/s]\n",
      "Training (10688 / 18000 Steps) (loss=0.47680): 100%|██████████| 7/7 [00:05<00:00,  1.28it/s]\n",
      "Training (10695 / 18000 Steps) (loss=0.63278): 100%|██████████| 7/7 [00:05<00:00,  1.34it/s]\n",
      "Validate (10696 / 10 Steps): 100%|██████████| 2/2 [00:04<00:00,  2.45s/it]<00:02,  1.25it/s]\n",
      "Training (10700 / 18000 Steps) (loss=0.41991):  71%|███████▏  | 5/7 [00:09<00:04,  2.46s/it]"
     ]
    },
    {
     "name": "stdout",
     "output_type": "stream",
     "text": [
      "Model Was Not Saved ! Current Best Avg. Dice: 0.28835099935531616 Current Avg. Dice: 0.26721271872520447 Current Avg. tumor Dice: 0.30057191848754883 Current Avg. lymph Dice: 0.23385348916053772\n"
     ]
    },
    {
     "name": "stderr",
     "output_type": "stream",
     "text": [
      "Training (10702 / 18000 Steps) (loss=0.37089): 100%|██████████| 7/7 [00:10<00:00,  1.54s/it]\n",
      "Training (10709 / 18000 Steps) (loss=0.50923): 100%|██████████| 7/7 [00:06<00:00,  1.11it/s]\n",
      "Training (10716 / 18000 Steps) (loss=0.25148): 100%|██████████| 7/7 [00:05<00:00,  1.22it/s]\n",
      "Training (10723 / 18000 Steps) (loss=0.22678): 100%|██████████| 7/7 [00:05<00:00,  1.22it/s]\n",
      "Training (10730 / 18000 Steps) (loss=0.54494): 100%|██████████| 7/7 [00:05<00:00,  1.25it/s]\n",
      "Training (10737 / 18000 Steps) (loss=0.49130): 100%|██████████| 7/7 [00:06<00:00,  1.07it/s]\n",
      "Training (10744 / 18000 Steps) (loss=0.45157): 100%|██████████| 7/7 [00:06<00:00,  1.14it/s]\n",
      "Training (10751 / 18000 Steps) (loss=0.46284): 100%|██████████| 7/7 [00:05<00:00,  1.27it/s]\n",
      "Training (10758 / 18000 Steps) (loss=0.38820): 100%|██████████| 7/7 [00:05<00:00,  1.27it/s]\n",
      "Training (10765 / 18000 Steps) (loss=0.33261): 100%|██████████| 7/7 [00:05<00:00,  1.23it/s]\n",
      "Training (10772 / 18000 Steps) (loss=0.49861): 100%|██████████| 7/7 [00:05<00:00,  1.21it/s]\n",
      "Training (10779 / 18000 Steps) (loss=0.35409): 100%|██████████| 7/7 [00:07<00:00,  1.04s/it]\n",
      "Training (10786 / 18000 Steps) (loss=0.47238): 100%|██████████| 7/7 [00:05<00:00,  1.25it/s]\n",
      "Training (10793 / 18000 Steps) (loss=0.40437): 100%|██████████| 7/7 [00:05<00:00,  1.29it/s]\n",
      "Validate (10794 / 10 Steps): 100%|██████████| 2/2 [00:04<00:00,  2.05s/it]<00:00,  1.74it/s]\n",
      "Training (10800 / 18000 Steps) (loss=0.46420): 100%|██████████| 7/7 [00:10<00:00,  1.50s/it]\n"
     ]
    },
    {
     "name": "stdout",
     "output_type": "stream",
     "text": [
      "Model Was Saved ! Current Best Avg. Dice: 0.3148769736289978 Current Avg. Dice: 0.3148769736289978 Current Avg. tumor Dice: 0.3706458806991577 Current Avg. lymph Dice: 0.2591080665588379\n"
     ]
    },
    {
     "name": "stderr",
     "output_type": "stream",
     "text": [
      "Training (10807 / 18000 Steps) (loss=0.44765): 100%|██████████| 7/7 [00:07<00:00,  1.02s/it]\n",
      "Training (10814 / 18000 Steps) (loss=0.28497): 100%|██████████| 7/7 [00:05<00:00,  1.21it/s]\n",
      "Training (10821 / 18000 Steps) (loss=0.50887): 100%|██████████| 7/7 [00:05<00:00,  1.26it/s]\n",
      "Training (10828 / 18000 Steps) (loss=0.50582): 100%|██████████| 7/7 [00:05<00:00,  1.25it/s]\n",
      "Training (10835 / 18000 Steps) (loss=0.33909): 100%|██████████| 7/7 [00:05<00:00,  1.24it/s]\n",
      "Training (10842 / 18000 Steps) (loss=0.53640): 100%|██████████| 7/7 [00:06<00:00,  1.09it/s]\n",
      "Training (10849 / 18000 Steps) (loss=0.51921): 100%|██████████| 7/7 [00:06<00:00,  1.01it/s]\n",
      "Training (10856 / 18000 Steps) (loss=0.20762): 100%|██████████| 7/7 [00:05<00:00,  1.25it/s]\n",
      "Training (10863 / 18000 Steps) (loss=0.43518): 100%|██████████| 7/7 [00:05<00:00,  1.20it/s]\n",
      "Training (10870 / 18000 Steps) (loss=0.23356): 100%|██████████| 7/7 [00:05<00:00,  1.27it/s]\n",
      "Training (10877 / 18000 Steps) (loss=0.54895): 100%|██████████| 7/7 [00:05<00:00,  1.31it/s]\n",
      "Training (10884 / 18000 Steps) (loss=0.37584): 100%|██████████| 7/7 [00:05<00:00,  1.25it/s]\n",
      "Training (10891 / 18000 Steps) (loss=0.48341): 100%|██████████| 7/7 [00:05<00:00,  1.24it/s]\n",
      "Training (10898 / 18000 Steps) (loss=0.51607): 100%|██████████| 7/7 [00:05<00:00,  1.32it/s]\n",
      "Validate (10899 / 10 Steps): 100%|██████████| 2/2 [00:04<00:00,  2.13s/it]<00:18,  3.05s/it]\n",
      "Training (10900 / 18000 Steps) (loss=0.47139):  29%|██▊       | 2/7 [00:07<00:20,  4.04s/it]"
     ]
    },
    {
     "name": "stdout",
     "output_type": "stream",
     "text": [
      "Model Was Not Saved ! Current Best Avg. Dice: 0.3148769736289978 Current Avg. Dice: 0.28187131881713867 Current Avg. tumor Dice: 0.3341590464115143 Current Avg. lymph Dice: 0.22958354651927948\n"
     ]
    },
    {
     "name": "stderr",
     "output_type": "stream",
     "text": [
      "Training (10905 / 18000 Steps) (loss=0.47529): 100%|██████████| 7/7 [00:09<00:00,  1.39s/it]\n",
      "Training (10912 / 18000 Steps) (loss=0.50908): 100%|██████████| 7/7 [00:05<00:00,  1.24it/s]\n",
      "Training (10919 / 18000 Steps) (loss=0.35654): 100%|██████████| 7/7 [00:05<00:00,  1.28it/s]\n",
      "Training (10926 / 18000 Steps) (loss=0.31143): 100%|██████████| 7/7 [00:07<00:00,  1.02s/it]\n",
      "Training (10933 / 18000 Steps) (loss=0.41755): 100%|██████████| 7/7 [00:05<00:00,  1.24it/s]\n",
      "Training (10940 / 18000 Steps) (loss=0.36622): 100%|██████████| 7/7 [00:05<00:00,  1.24it/s]\n",
      "Training (10947 / 18000 Steps) (loss=0.43206): 100%|██████████| 7/7 [00:05<00:00,  1.20it/s]\n",
      "Training (10954 / 18000 Steps) (loss=0.32082): 100%|██████████| 7/7 [00:05<00:00,  1.19it/s]\n",
      "Training (10961 / 18000 Steps) (loss=0.43771): 100%|██████████| 7/7 [00:07<00:00,  1.03s/it]\n",
      "Training (10968 / 18000 Steps) (loss=0.55536): 100%|██████████| 7/7 [00:05<00:00,  1.26it/s]\n",
      "Training (10975 / 18000 Steps) (loss=0.31388): 100%|██████████| 7/7 [00:05<00:00,  1.26it/s]\n",
      "Training (10982 / 18000 Steps) (loss=0.32246): 100%|██████████| 7/7 [00:05<00:00,  1.23it/s]\n",
      "Training (10989 / 18000 Steps) (loss=0.54178): 100%|██████████| 7/7 [00:05<00:00,  1.27it/s]\n",
      "Training (10996 / 18000 Steps) (loss=0.41935): 100%|██████████| 7/7 [00:07<00:00,  1.01s/it]\n",
      "Validate (10997 / 10 Steps): 100%|██████████| 2/2 [00:04<00:00,  2.16s/it]<00:04,  1.09s/it]\n",
      "Training (11000 / 18000 Steps) (loss=0.47117):  57%|█████▋    | 4/7 [00:09<00:07,  2.55s/it]"
     ]
    },
    {
     "name": "stdout",
     "output_type": "stream",
     "text": [
      "Model Was Not Saved ! Current Best Avg. Dice: 0.3148769736289978 Current Avg. Dice: 0.2261994183063507 Current Avg. tumor Dice: 0.3042459487915039 Current Avg. lymph Dice: 0.14815287292003632\n"
     ]
    },
    {
     "name": "stderr",
     "output_type": "stream",
     "text": [
      "Training (11003 / 18000 Steps) (loss=0.49980): 100%|██████████| 7/7 [00:10<00:00,  1.45s/it]\n",
      "Training (11010 / 18000 Steps) (loss=0.55818): 100%|██████████| 7/7 [00:05<00:00,  1.30it/s]\n",
      "Training (11017 / 18000 Steps) (loss=0.57016): 100%|██████████| 7/7 [00:05<00:00,  1.30it/s]\n",
      "Training (11024 / 18000 Steps) (loss=0.67763): 100%|██████████| 7/7 [00:06<00:00,  1.16it/s]\n",
      "Training (11031 / 18000 Steps) (loss=0.36250): 100%|██████████| 7/7 [00:07<00:00,  1.01s/it]\n",
      "Training (11038 / 18000 Steps) (loss=0.61886): 100%|██████████| 7/7 [00:05<00:00,  1.26it/s]\n",
      "Training (11045 / 18000 Steps) (loss=0.45217): 100%|██████████| 7/7 [00:05<00:00,  1.20it/s]\n",
      "Training (11052 / 18000 Steps) (loss=0.57231): 100%|██████████| 7/7 [00:05<00:00,  1.27it/s]\n",
      "Training (11059 / 18000 Steps) (loss=0.54512): 100%|██████████| 7/7 [00:06<00:00,  1.16it/s]\n",
      "Training (11066 / 18000 Steps) (loss=0.48054): 100%|██████████| 7/7 [00:06<00:00,  1.01it/s]\n",
      "Training (11073 / 18000 Steps) (loss=0.32859): 100%|██████████| 7/7 [00:05<00:00,  1.24it/s]\n",
      "Training (11080 / 18000 Steps) (loss=0.42546): 100%|██████████| 7/7 [00:05<00:00,  1.17it/s]\n",
      "Training (11087 / 18000 Steps) (loss=0.52604): 100%|██████████| 7/7 [00:05<00:00,  1.22it/s]\n",
      "Training (11094 / 18000 Steps) (loss=0.54628): 100%|██████████| 7/7 [00:05<00:00,  1.20it/s]\n",
      "Validate (11095 / 10 Steps): 100%|██████████| 2/2 [00:04<00:00,  2.17s/it]<00:01,  1.08it/s]\n",
      "Training (11100 / 18000 Steps) (loss=0.48446):  86%|████████▌ | 6/7 [00:11<00:02,  2.33s/it]"
     ]
    },
    {
     "name": "stdout",
     "output_type": "stream",
     "text": [
      "Model Was Not Saved ! Current Best Avg. Dice: 0.3148769736289978 Current Avg. Dice: 0.2622374892234802 Current Avg. tumor Dice: 0.3361201286315918 Current Avg. lymph Dice: 0.18835484981536865\n"
     ]
    },
    {
     "name": "stderr",
     "output_type": "stream",
     "text": [
      "Training (11101 / 18000 Steps) (loss=0.33876): 100%|██████████| 7/7 [00:11<00:00,  1.65s/it]\n",
      "Training (11108 / 18000 Steps) (loss=0.46286): 100%|██████████| 7/7 [00:05<00:00,  1.17it/s]\n",
      "Training (11115 / 18000 Steps) (loss=0.45381): 100%|██████████| 7/7 [00:05<00:00,  1.22it/s]\n",
      "Training (11122 / 18000 Steps) (loss=0.48590): 100%|██████████| 7/7 [00:05<00:00,  1.30it/s]\n",
      "Training (11129 / 18000 Steps) (loss=0.25239): 100%|██████████| 7/7 [00:07<00:00,  1.05s/it]\n",
      "Training (11136 / 18000 Steps) (loss=0.38433): 100%|██████████| 7/7 [00:05<00:00,  1.21it/s]\n",
      "Training (11143 / 18000 Steps) (loss=0.33934): 100%|██████████| 7/7 [00:05<00:00,  1.22it/s]\n",
      "Training (11150 / 18000 Steps) (loss=0.54607): 100%|██████████| 7/7 [00:05<00:00,  1.35it/s]\n",
      "Training (11157 / 18000 Steps) (loss=0.46868): 100%|██████████| 7/7 [00:05<00:00,  1.25it/s]\n",
      "Training (11164 / 18000 Steps) (loss=0.60859): 100%|██████████| 7/7 [00:07<00:00,  1.08s/it]\n",
      "Training (11171 / 18000 Steps) (loss=0.61025): 100%|██████████| 7/7 [00:05<00:00,  1.31it/s]\n",
      "Training (11178 / 18000 Steps) (loss=0.37988): 100%|██████████| 7/7 [00:05<00:00,  1.22it/s]\n",
      "Training (11185 / 18000 Steps) (loss=0.31444): 100%|██████████| 7/7 [00:05<00:00,  1.23it/s]\n",
      "Training (11192 / 18000 Steps) (loss=0.54567): 100%|██████████| 7/7 [00:05<00:00,  1.25it/s]\n",
      "Training (11199 / 18000 Steps) (loss=0.52132): 100%|██████████| 7/7 [00:07<00:00,  1.08s/it]\n",
      "Validate (11200 / 10 Steps): 100%|██████████| 2/2 [00:04<00:00,  2.12s/it]<?, ?it/s]\n",
      "Training (11200 / 18000 Steps) (loss=0.42987):  14%|█▍        | 1/7 [00:07<00:45,  7.66s/it]"
     ]
    },
    {
     "name": "stdout",
     "output_type": "stream",
     "text": [
      "Model Was Not Saved ! Current Best Avg. Dice: 0.3148769736289978 Current Avg. Dice: 0.28511476516723633 Current Avg. tumor Dice: 0.36381563544273376 Current Avg. lymph Dice: 0.20641392469406128\n"
     ]
    },
    {
     "name": "stderr",
     "output_type": "stream",
     "text": [
      "Training (11206 / 18000 Steps) (loss=0.48387): 100%|██████████| 7/7 [00:10<00:00,  1.44s/it]\n",
      "Training (11213 / 18000 Steps) (loss=0.32332): 100%|██████████| 7/7 [00:05<00:00,  1.21it/s]\n",
      "Training (11220 / 18000 Steps) (loss=0.41886): 100%|██████████| 7/7 [00:05<00:00,  1.20it/s]\n",
      "Training (11227 / 18000 Steps) (loss=0.30381): 100%|██████████| 7/7 [00:07<00:00,  1.09s/it]\n",
      "Training (11234 / 18000 Steps) (loss=0.45322): 100%|██████████| 7/7 [00:05<00:00,  1.29it/s]\n",
      "Training (11241 / 18000 Steps) (loss=0.47068): 100%|██████████| 7/7 [00:05<00:00,  1.24it/s]\n",
      "Training (11248 / 18000 Steps) (loss=0.50935): 100%|██████████| 7/7 [00:05<00:00,  1.28it/s]\n",
      "Training (11255 / 18000 Steps) (loss=0.33568): 100%|██████████| 7/7 [00:05<00:00,  1.32it/s]\n",
      "Training (11262 / 18000 Steps) (loss=0.28588): 100%|██████████| 7/7 [00:07<00:00,  1.01s/it]\n",
      "Training (11269 / 18000 Steps) (loss=0.32874): 100%|██████████| 7/7 [00:05<00:00,  1.26it/s]\n",
      "Training (11276 / 18000 Steps) (loss=0.66927): 100%|██████████| 7/7 [00:05<00:00,  1.23it/s]\n",
      "Training (11283 / 18000 Steps) (loss=0.55929): 100%|██████████| 7/7 [00:05<00:00,  1.26it/s]\n",
      "Training (11290 / 18000 Steps) (loss=0.41818): 100%|██████████| 7/7 [00:05<00:00,  1.27it/s]\n",
      "Training (11297 / 18000 Steps) (loss=0.22094): 100%|██████████| 7/7 [00:07<00:00,  1.09s/it]\n",
      "Validate (11298 / 10 Steps): 100%|██████████| 2/2 [00:04<00:00,  2.17s/it]<00:08,  1.68s/it]\n",
      "Training (11300 / 18000 Steps) (loss=0.41763):  43%|████▎     | 3/7 [00:08<00:12,  3.10s/it]"
     ]
    },
    {
     "name": "stdout",
     "output_type": "stream",
     "text": [
      "Model Was Not Saved ! Current Best Avg. Dice: 0.3148769736289978 Current Avg. Dice: 0.26559722423553467 Current Avg. tumor Dice: 0.3066357970237732 Current Avg. lymph Dice: 0.22455868124961853\n"
     ]
    },
    {
     "name": "stderr",
     "output_type": "stream",
     "text": [
      "Training (11304 / 18000 Steps) (loss=0.36842): 100%|██████████| 7/7 [00:10<00:00,  1.46s/it]\n",
      "Training (11311 / 18000 Steps) (loss=0.47576): 100%|██████████| 7/7 [00:05<00:00,  1.21it/s]\n",
      "Training (11318 / 18000 Steps) (loss=0.35850): 100%|██████████| 7/7 [00:05<00:00,  1.30it/s]\n",
      "Training (11325 / 18000 Steps) (loss=0.42987): 100%|██████████| 7/7 [00:07<00:00,  1.01s/it]\n",
      "Training (11332 / 18000 Steps) (loss=0.21430): 100%|██████████| 7/7 [00:05<00:00,  1.29it/s]\n",
      "Training (11339 / 18000 Steps) (loss=0.47041): 100%|██████████| 7/7 [00:05<00:00,  1.27it/s]\n",
      "Training (11346 / 18000 Steps) (loss=0.41876): 100%|██████████| 7/7 [00:05<00:00,  1.24it/s]\n",
      "Training (11353 / 18000 Steps) (loss=0.57497): 100%|██████████| 7/7 [00:05<00:00,  1.26it/s]\n",
      "Training (11360 / 18000 Steps) (loss=0.50964): 100%|██████████| 7/7 [00:05<00:00,  1.18it/s]\n",
      "Training (11367 / 18000 Steps) (loss=0.40104): 100%|██████████| 7/7 [00:06<00:00,  1.02it/s]\n",
      "Training (11374 / 18000 Steps) (loss=0.37206): 100%|██████████| 7/7 [00:05<00:00,  1.25it/s]\n",
      "Training (11381 / 18000 Steps) (loss=0.44029): 100%|██████████| 7/7 [00:05<00:00,  1.23it/s]\n",
      "Training (11388 / 18000 Steps) (loss=0.40278): 100%|██████████| 7/7 [00:05<00:00,  1.27it/s]\n",
      "Training (11395 / 18000 Steps) (loss=0.44244): 100%|██████████| 7/7 [00:06<00:00,  1.17it/s]\n",
      "Validate (11396 / 10 Steps): 100%|██████████| 2/2 [00:04<00:00,  2.15s/it]<00:02,  1.06it/s]\n",
      "Training (11400 / 18000 Steps) (loss=0.49810):  71%|███████▏  | 5/7 [00:09<00:04,  2.32s/it]"
     ]
    },
    {
     "name": "stdout",
     "output_type": "stream",
     "text": [
      "Model Was Not Saved ! Current Best Avg. Dice: 0.3148769736289978 Current Avg. Dice: 0.2591770887374878 Current Avg. tumor Dice: 0.3287966847419739 Current Avg. lymph Dice: 0.1895574927330017\n"
     ]
    },
    {
     "name": "stderr",
     "output_type": "stream",
     "text": [
      "Training (11402 / 18000 Steps) (loss=0.36279): 100%|██████████| 7/7 [00:10<00:00,  1.53s/it]\n",
      "Training (11409 / 18000 Steps) (loss=0.42304): 100%|██████████| 7/7 [00:05<00:00,  1.27it/s]\n",
      "Training (11416 / 18000 Steps) (loss=0.55661): 100%|██████████| 7/7 [00:05<00:00,  1.23it/s]\n",
      "Training (11423 / 18000 Steps) (loss=0.28972): 100%|██████████| 7/7 [00:05<00:00,  1.18it/s]\n",
      "Training (11430 / 18000 Steps) (loss=0.50558): 100%|██████████| 7/7 [00:07<00:00,  1.05s/it]\n",
      "Training (11437 / 18000 Steps) (loss=0.50567): 100%|██████████| 7/7 [00:05<00:00,  1.25it/s]\n",
      "Training (11444 / 18000 Steps) (loss=0.38991): 100%|██████████| 7/7 [00:05<00:00,  1.26it/s]\n",
      "Training (11451 / 18000 Steps) (loss=0.43716): 100%|██████████| 7/7 [00:05<00:00,  1.27it/s]\n",
      "Training (11458 / 18000 Steps) (loss=0.36470): 100%|██████████| 7/7 [00:05<00:00,  1.24it/s]\n",
      "Training (11465 / 18000 Steps) (loss=0.38200): 100%|██████████| 7/7 [00:07<00:00,  1.02s/it]\n",
      "Training (11472 / 18000 Steps) (loss=0.20924): 100%|██████████| 7/7 [00:05<00:00,  1.31it/s]\n",
      "Training (11479 / 18000 Steps) (loss=0.34888): 100%|██████████| 7/7 [00:05<00:00,  1.27it/s]\n",
      "Training (11486 / 18000 Steps) (loss=0.31564): 100%|██████████| 7/7 [00:05<00:00,  1.28it/s]\n",
      "Training (11493 / 18000 Steps) (loss=0.56513): 100%|██████████| 7/7 [00:05<00:00,  1.24it/s]\n",
      "Validate (11494 / 10 Steps): 100%|██████████| 2/2 [00:05<00:00,  2.63s/it]<00:01,  1.00s/it]\n",
      "Training (11500 / 18000 Steps) (loss=0.28580): 100%|██████████| 7/7 [00:13<00:00,  1.95s/it]\n"
     ]
    },
    {
     "name": "stdout",
     "output_type": "stream",
     "text": [
      "Model Was Not Saved ! Current Best Avg. Dice: 0.3148769736289978 Current Avg. Dice: 0.277032732963562 Current Avg. tumor Dice: 0.3421812355518341 Current Avg. lymph Dice: 0.21188423037528992\n"
     ]
    },
    {
     "name": "stderr",
     "output_type": "stream",
     "text": [
      "Training (11507 / 18000 Steps) (loss=0.48071): 100%|██████████| 7/7 [00:05<00:00,  1.18it/s]\n",
      "Training (11514 / 18000 Steps) (loss=0.48286): 100%|██████████| 7/7 [00:07<00:00,  1.05s/it]\n",
      "Training (11521 / 18000 Steps) (loss=0.21235): 100%|██████████| 7/7 [00:08<00:00,  1.17s/it]\n",
      "Training (11528 / 18000 Steps) (loss=0.59609): 100%|██████████| 7/7 [00:08<00:00,  1.19s/it]\n",
      "Training (11535 / 18000 Steps) (loss=0.48445): 100%|██████████| 7/7 [00:08<00:00,  1.23s/it]\n",
      "Training (11542 / 18000 Steps) (loss=0.27320): 100%|██████████| 7/7 [00:07<00:00,  1.09s/it]\n",
      "Training (11549 / 18000 Steps) (loss=0.38420): 100%|██████████| 7/7 [00:06<00:00,  1.02it/s]\n",
      "Training (11556 / 18000 Steps) (loss=0.56313): 100%|██████████| 7/7 [00:05<00:00,  1.20it/s]\n",
      "Training (11563 / 18000 Steps) (loss=0.49501): 100%|██████████| 7/7 [00:07<00:00,  1.03s/it]\n",
      "Training (11570 / 18000 Steps) (loss=0.65164): 100%|██████████| 7/7 [00:08<00:00,  1.21s/it]\n",
      "Training (11577 / 18000 Steps) (loss=0.65240): 100%|██████████| 7/7 [00:05<00:00,  1.20it/s]\n",
      "Training (11584 / 18000 Steps) (loss=0.66682): 100%|██████████| 7/7 [00:07<00:00,  1.03s/it]\n",
      "Training (11591 / 18000 Steps) (loss=0.55536): 100%|██████████| 7/7 [00:05<00:00,  1.22it/s]\n",
      "Training (11598 / 18000 Steps) (loss=0.28310): 100%|██████████| 7/7 [00:05<00:00,  1.20it/s]\n",
      "Validate (11599 / 10 Steps): 100%|██████████| 2/2 [00:04<00:00,  2.13s/it]<00:20,  3.36s/it]\n",
      "Training (11600 / 18000 Steps) (loss=0.43994):  29%|██▊       | 2/7 [00:08<00:20,  4.17s/it]"
     ]
    },
    {
     "name": "stdout",
     "output_type": "stream",
     "text": [
      "Model Was Not Saved ! Current Best Avg. Dice: 0.3148769736289978 Current Avg. Dice: 0.2677394449710846 Current Avg. tumor Dice: 0.31171947717666626 Current Avg. lymph Dice: 0.22375941276550293\n"
     ]
    },
    {
     "name": "stderr",
     "output_type": "stream",
     "text": [
      "Training (11605 / 18000 Steps) (loss=0.55096): 100%|██████████| 7/7 [00:10<00:00,  1.44s/it]\n",
      "Training (11612 / 18000 Steps) (loss=0.35720): 100%|██████████| 7/7 [00:06<00:00,  1.05it/s]\n",
      "Training (11619 / 18000 Steps) (loss=0.55442): 100%|██████████| 7/7 [00:05<00:00,  1.19it/s]\n",
      "Training (11626 / 18000 Steps) (loss=0.35008): 100%|██████████| 7/7 [00:05<00:00,  1.26it/s]\n",
      "Training (11633 / 18000 Steps) (loss=0.56829): 100%|██████████| 7/7 [00:05<00:00,  1.22it/s]\n",
      "Training (11640 / 18000 Steps) (loss=0.28204): 100%|██████████| 7/7 [00:05<00:00,  1.23it/s]\n",
      "Training (11647 / 18000 Steps) (loss=0.42843): 100%|██████████| 7/7 [00:07<00:00,  1.03s/it]\n",
      "Training (11654 / 18000 Steps) (loss=0.44155): 100%|██████████| 7/7 [00:05<00:00,  1.23it/s]\n",
      "Training (11661 / 18000 Steps) (loss=0.46713): 100%|██████████| 7/7 [00:05<00:00,  1.30it/s]\n",
      "Training (11668 / 18000 Steps) (loss=0.45191): 100%|██████████| 7/7 [00:05<00:00,  1.26it/s]\n",
      "Training (11675 / 18000 Steps) (loss=0.34851): 100%|██████████| 7/7 [00:05<00:00,  1.33it/s]\n",
      "Training (11682 / 18000 Steps) (loss=0.36716): 100%|██████████| 7/7 [00:05<00:00,  1.21it/s]\n",
      "Training (11689 / 18000 Steps) (loss=0.38843): 100%|██████████| 7/7 [00:07<00:00,  1.04s/it]\n",
      "Training (11696 / 18000 Steps) (loss=0.53733): 100%|██████████| 7/7 [00:05<00:00,  1.21it/s]\n",
      "Validate (11697 / 10 Steps): 100%|██████████| 2/2 [00:04<00:00,  2.17s/it]<00:04,  1.05s/it]\n",
      "Training (11700 / 18000 Steps) (loss=0.39559):  57%|█████▋    | 4/7 [00:08<00:07,  2.53s/it]"
     ]
    },
    {
     "name": "stdout",
     "output_type": "stream",
     "text": [
      "Model Was Not Saved ! Current Best Avg. Dice: 0.3148769736289978 Current Avg. Dice: 0.24472346901893616 Current Avg. tumor Dice: 0.3209548592567444 Current Avg. lymph Dice: 0.16849210858345032\n"
     ]
    },
    {
     "name": "stderr",
     "output_type": "stream",
     "text": [
      "Training (11703 / 18000 Steps) (loss=0.46952): 100%|██████████| 7/7 [00:10<00:00,  1.44s/it]\n",
      "Training (11710 / 18000 Steps) (loss=0.67088): 100%|██████████| 7/7 [00:05<00:00,  1.27it/s]\n",
      "Training (11717 / 18000 Steps) (loss=0.29888): 100%|██████████| 7/7 [00:07<00:00,  1.00s/it]\n",
      "Training (11724 / 18000 Steps) (loss=0.26399): 100%|██████████| 7/7 [00:05<00:00,  1.28it/s]\n",
      "Training (11731 / 18000 Steps) (loss=0.36574): 100%|██████████| 7/7 [00:05<00:00,  1.32it/s]\n",
      "Training (11738 / 18000 Steps) (loss=0.37423): 100%|██████████| 7/7 [00:05<00:00,  1.27it/s]\n",
      "Training (11745 / 18000 Steps) (loss=0.31517): 100%|██████████| 7/7 [00:05<00:00,  1.23it/s]\n",
      "Training (11752 / 18000 Steps) (loss=0.33862): 100%|██████████| 7/7 [00:05<00:00,  1.23it/s]\n",
      "Training (11759 / 18000 Steps) (loss=0.50957): 100%|██████████| 7/7 [00:05<00:00,  1.21it/s]\n",
      "Training (11766 / 18000 Steps) (loss=0.41898): 100%|██████████| 7/7 [00:05<00:00,  1.23it/s]\n",
      "Training (11773 / 18000 Steps) (loss=0.49942): 100%|██████████| 7/7 [00:05<00:00,  1.29it/s]\n",
      "Training (11780 / 18000 Steps) (loss=0.47834): 100%|██████████| 7/7 [00:05<00:00,  1.30it/s]\n",
      "Training (11787 / 18000 Steps) (loss=0.58000): 100%|██████████| 7/7 [00:05<00:00,  1.29it/s]\n",
      "Training (11794 / 18000 Steps) (loss=0.34221): 100%|██████████| 7/7 [00:05<00:00,  1.28it/s]\n",
      "Validate (11795 / 10 Steps): 100%|██████████| 2/2 [00:04<00:00,  2.19s/it]<00:01,  1.50it/s]\n",
      "Training (11800 / 18000 Steps) (loss=0.39502):  86%|████████▌ | 6/7 [00:09<00:02,  2.08s/it]"
     ]
    },
    {
     "name": "stdout",
     "output_type": "stream",
     "text": [
      "Model Was Not Saved ! Current Best Avg. Dice: 0.3148769736289978 Current Avg. Dice: 0.282256543636322 Current Avg. tumor Dice: 0.3369208872318268 Current Avg. lymph Dice: 0.22759221494197845\n"
     ]
    },
    {
     "name": "stderr",
     "output_type": "stream",
     "text": [
      "Training (11801 / 18000 Steps) (loss=0.43685): 100%|██████████| 7/7 [00:10<00:00,  1.44s/it]\n",
      "Training (11808 / 18000 Steps) (loss=0.53598): 100%|██████████| 7/7 [00:06<00:00,  1.02it/s]\n",
      "Training (11815 / 18000 Steps) (loss=0.45760): 100%|██████████| 7/7 [00:05<00:00,  1.25it/s]\n",
      "Training (11822 / 18000 Steps) (loss=0.58696): 100%|██████████| 7/7 [00:05<00:00,  1.22it/s]\n",
      "Training (11829 / 18000 Steps) (loss=0.50726): 100%|██████████| 7/7 [00:05<00:00,  1.31it/s]\n",
      "Training (11836 / 18000 Steps) (loss=0.46609): 100%|██████████| 7/7 [00:05<00:00,  1.30it/s]\n",
      "Training (11843 / 18000 Steps) (loss=0.44097): 100%|██████████| 7/7 [00:06<00:00,  1.06it/s]\n",
      "Training (11850 / 18000 Steps) (loss=0.33258): 100%|██████████| 7/7 [00:05<00:00,  1.20it/s]\n",
      "Training (11857 / 18000 Steps) (loss=0.36330): 100%|██████████| 7/7 [00:05<00:00,  1.22it/s]\n",
      "Training (11864 / 18000 Steps) (loss=0.25158): 100%|██████████| 7/7 [00:05<00:00,  1.29it/s]\n",
      "Training (11871 / 18000 Steps) (loss=0.46513): 100%|██████████| 7/7 [00:05<00:00,  1.23it/s]\n",
      "Training (11878 / 18000 Steps) (loss=0.35670): 100%|██████████| 7/7 [00:06<00:00,  1.10it/s]\n",
      "Training (11885 / 18000 Steps) (loss=0.49845): 100%|██████████| 7/7 [00:06<00:00,  1.10it/s]\n",
      "Training (11892 / 18000 Steps) (loss=0.24335): 100%|██████████| 7/7 [00:05<00:00,  1.29it/s]\n",
      "Training (11899 / 18000 Steps) (loss=0.32268): 100%|██████████| 7/7 [00:05<00:00,  1.29it/s]\n",
      "Validate (11900 / 10 Steps): 100%|██████████| 2/2 [00:04<00:00,  2.12s/it]<?, ?it/s]\n",
      "Training (11900 / 18000 Steps) (loss=0.36230):  14%|█▍        | 1/7 [00:07<00:45,  7.63s/it]"
     ]
    },
    {
     "name": "stdout",
     "output_type": "stream",
     "text": [
      "Model Was Not Saved ! Current Best Avg. Dice: 0.3148769736289978 Current Avg. Dice: 0.2372051477432251 Current Avg. tumor Dice: 0.29479822516441345 Current Avg. lymph Dice: 0.17961207032203674\n"
     ]
    },
    {
     "name": "stderr",
     "output_type": "stream",
     "text": [
      "Training (11906 / 18000 Steps) (loss=0.52553): 100%|██████████| 7/7 [00:10<00:00,  1.43s/it]\n",
      "Training (11913 / 18000 Steps) (loss=0.40986): 100%|██████████| 7/7 [00:07<00:00,  1.03s/it]\n",
      "Training (11920 / 18000 Steps) (loss=0.28505): 100%|██████████| 7/7 [00:05<00:00,  1.29it/s]\n",
      "Training (11927 / 18000 Steps) (loss=0.31914): 100%|██████████| 7/7 [00:05<00:00,  1.23it/s]\n",
      "Training (11934 / 18000 Steps) (loss=0.38864): 100%|██████████| 7/7 [00:05<00:00,  1.28it/s]\n",
      "Training (11941 / 18000 Steps) (loss=0.44800): 100%|██████████| 7/7 [00:05<00:00,  1.26it/s]\n",
      "Training (11948 / 18000 Steps) (loss=0.45996): 100%|██████████| 7/7 [00:07<00:00,  1.05s/it]\n",
      "Training (11955 / 18000 Steps) (loss=0.18019): 100%|██████████| 7/7 [00:05<00:00,  1.21it/s]\n",
      "Training (11962 / 18000 Steps) (loss=0.30213): 100%|██████████| 7/7 [00:05<00:00,  1.25it/s]\n",
      "Training (11969 / 18000 Steps) (loss=0.43275): 100%|██████████| 7/7 [00:05<00:00,  1.23it/s]\n",
      "Training (11976 / 18000 Steps) (loss=0.33759): 100%|██████████| 7/7 [00:05<00:00,  1.28it/s]\n",
      "Training (11983 / 18000 Steps) (loss=0.50074): 100%|██████████| 7/7 [00:07<00:00,  1.01s/it]\n",
      "Training (11990 / 18000 Steps) (loss=0.27968): 100%|██████████| 7/7 [00:05<00:00,  1.28it/s]\n",
      "Training (11997 / 18000 Steps) (loss=0.54968): 100%|██████████| 7/7 [00:05<00:00,  1.30it/s]\n",
      "Validate (11998 / 10 Steps): 100%|██████████| 2/2 [00:04<00:00,  2.11s/it]<00:07,  1.46s/it]\n",
      "Training (12000 / 18000 Steps) (loss=0.46745):  43%|████▎     | 3/7 [00:08<00:11,  2.94s/it]"
     ]
    },
    {
     "name": "stdout",
     "output_type": "stream",
     "text": [
      "Model Was Not Saved ! Current Best Avg. Dice: 0.3148769736289978 Current Avg. Dice: 0.24703676998615265 Current Avg. tumor Dice: 0.3064577877521515 Current Avg. lymph Dice: 0.1876157820224762\n"
     ]
    },
    {
     "name": "stderr",
     "output_type": "stream",
     "text": [
      "Training (12004 / 18000 Steps) (loss=0.35344): 100%|██████████| 7/7 [00:09<00:00,  1.37s/it]\n",
      "Training (12011 / 18000 Steps) (loss=0.42371): 100%|██████████| 7/7 [00:05<00:00,  1.19it/s]\n",
      "Training (12018 / 18000 Steps) (loss=0.49900): 100%|██████████| 7/7 [00:06<00:00,  1.00it/s]\n",
      "Training (12025 / 18000 Steps) (loss=0.28589): 100%|██████████| 7/7 [00:05<00:00,  1.21it/s]\n",
      "Training (12032 / 18000 Steps) (loss=0.46876): 100%|██████████| 7/7 [00:05<00:00,  1.27it/s]\n",
      "Training (12039 / 18000 Steps) (loss=0.43452): 100%|██████████| 7/7 [00:05<00:00,  1.27it/s]\n",
      "Training (12046 / 18000 Steps) (loss=0.31023): 100%|██████████| 7/7 [00:05<00:00,  1.26it/s]\n",
      "Training (12053 / 18000 Steps) (loss=0.33890): 100%|██████████| 7/7 [00:07<00:00,  1.02s/it]\n",
      "Training (12060 / 18000 Steps) (loss=0.42897): 100%|██████████| 7/7 [00:05<00:00,  1.24it/s]\n",
      "Training (12067 / 18000 Steps) (loss=0.43071): 100%|██████████| 7/7 [00:05<00:00,  1.23it/s]\n",
      "Training (12074 / 18000 Steps) (loss=0.54614): 100%|██████████| 7/7 [00:05<00:00,  1.30it/s]\n",
      "Training (12081 / 18000 Steps) (loss=0.40458): 100%|██████████| 7/7 [00:05<00:00,  1.24it/s]\n",
      "Training (12088 / 18000 Steps) (loss=0.49172): 100%|██████████| 7/7 [00:06<00:00,  1.13it/s]\n",
      "Training (12095 / 18000 Steps) (loss=0.62856): 100%|██████████| 7/7 [00:06<00:00,  1.14it/s]\n",
      "Validate (12096 / 10 Steps): 100%|██████████| 2/2 [00:04<00:00,  2.12s/it]<00:02,  1.30it/s]\n",
      "Training (12100 / 18000 Steps) (loss=0.43520):  71%|███████▏  | 5/7 [00:09<00:04,  2.19s/it]"
     ]
    },
    {
     "name": "stdout",
     "output_type": "stream",
     "text": [
      "Model Was Not Saved ! Current Best Avg. Dice: 0.3148769736289978 Current Avg. Dice: 0.25260820984840393 Current Avg. tumor Dice: 0.3121125102043152 Current Avg. lymph Dice: 0.19310393929481506\n"
     ]
    },
    {
     "name": "stderr",
     "output_type": "stream",
     "text": [
      "Training (12102 / 18000 Steps) (loss=0.30463): 100%|██████████| 7/7 [00:09<00:00,  1.39s/it]\n",
      "Training (12109 / 18000 Steps) (loss=0.39761): 100%|██████████| 7/7 [00:05<00:00,  1.36it/s]\n",
      "Training (12116 / 18000 Steps) (loss=0.52544): 100%|██████████| 7/7 [00:05<00:00,  1.32it/s]\n",
      "Training (12123 / 18000 Steps) (loss=0.55070): 100%|██████████| 7/7 [00:07<00:00,  1.04s/it]\n",
      "Training (12130 / 18000 Steps) (loss=0.47060): 100%|██████████| 7/7 [00:05<00:00,  1.29it/s]\n",
      "Training (12137 / 18000 Steps) (loss=0.54577): 100%|██████████| 7/7 [00:05<00:00,  1.25it/s]\n",
      "Training (12144 / 18000 Steps) (loss=0.42485): 100%|██████████| 7/7 [00:05<00:00,  1.25it/s]\n",
      "Training (12151 / 18000 Steps) (loss=0.55362): 100%|██████████| 7/7 [00:05<00:00,  1.20it/s]\n",
      "Training (12158 / 18000 Steps) (loss=0.60598): 100%|██████████| 7/7 [00:06<00:00,  1.00it/s]\n",
      "Training (12165 / 18000 Steps) (loss=0.55326): 100%|██████████| 7/7 [00:05<00:00,  1.25it/s]\n",
      "Training (12172 / 18000 Steps) (loss=0.36539): 100%|██████████| 7/7 [00:05<00:00,  1.25it/s]\n",
      "Training (12179 / 18000 Steps) (loss=0.56222): 100%|██████████| 7/7 [00:05<00:00,  1.28it/s]\n",
      "Training (12186 / 18000 Steps) (loss=0.41889): 100%|██████████| 7/7 [00:05<00:00,  1.24it/s]\n",
      "Training (12193 / 18000 Steps) (loss=0.60538): 100%|██████████| 7/7 [00:06<00:00,  1.07it/s]\n",
      "Validate (12194 / 10 Steps): 100%|██████████| 2/2 [00:04<00:00,  2.19s/it]<00:00,  1.62it/s]\n",
      "Training (12200 / 18000 Steps) (loss=0.53076): 100%|██████████| 7/7 [00:10<00:00,  1.51s/it]\n"
     ]
    },
    {
     "name": "stdout",
     "output_type": "stream",
     "text": [
      "Model Was Not Saved ! Current Best Avg. Dice: 0.3148769736289978 Current Avg. Dice: 0.2636661231517792 Current Avg. tumor Dice: 0.32183754444122314 Current Avg. lymph Dice: 0.2054947465658188\n"
     ]
    },
    {
     "name": "stderr",
     "output_type": "stream",
     "text": [
      "Training (12207 / 18000 Steps) (loss=0.36966): 100%|██████████| 7/7 [00:05<00:00,  1.30it/s]\n",
      "Training (12214 / 18000 Steps) (loss=0.13525): 100%|██████████| 7/7 [00:05<00:00,  1.29it/s]\n",
      "Training (12221 / 18000 Steps) (loss=0.64420): 100%|██████████| 7/7 [00:05<00:00,  1.30it/s]\n",
      "Training (12228 / 18000 Steps) (loss=0.46303): 100%|██████████| 7/7 [00:07<00:00,  1.01s/it]\n",
      "Training (12235 / 18000 Steps) (loss=0.37350): 100%|██████████| 7/7 [00:05<00:00,  1.20it/s]\n",
      "Training (12242 / 18000 Steps) (loss=0.67344): 100%|██████████| 7/7 [00:05<00:00,  1.27it/s]\n",
      "Training (12249 / 18000 Steps) (loss=0.35707): 100%|██████████| 7/7 [00:05<00:00,  1.30it/s]\n",
      "Training (12256 / 18000 Steps) (loss=0.66856): 100%|██████████| 7/7 [00:05<00:00,  1.27it/s]\n",
      "Training (12263 / 18000 Steps) (loss=0.30394): 100%|██████████| 7/7 [00:06<00:00,  1.03it/s]\n",
      "Training (12270 / 18000 Steps) (loss=0.25335): 100%|██████████| 7/7 [00:05<00:00,  1.19it/s]\n",
      "Training (12277 / 18000 Steps) (loss=0.39627): 100%|██████████| 7/7 [00:05<00:00,  1.29it/s]\n",
      "Training (12284 / 18000 Steps) (loss=0.30681): 100%|██████████| 7/7 [00:05<00:00,  1.24it/s]\n",
      "Training (12291 / 18000 Steps) (loss=0.43333): 100%|██████████| 7/7 [00:05<00:00,  1.20it/s]\n",
      "Training (12298 / 18000 Steps) (loss=0.47929): 100%|██████████| 7/7 [00:05<00:00,  1.23it/s]\n",
      "Validate (12299 / 10 Steps): 100%|██████████| 2/2 [00:05<00:00,  2.89s/it]<00:19,  3.22s/it]\n",
      "Training (12300 / 18000 Steps) (loss=0.59359):  29%|██▊       | 2/7 [00:09<00:25,  5.12s/it]"
     ]
    },
    {
     "name": "stdout",
     "output_type": "stream",
     "text": [
      "Model Was Not Saved ! Current Best Avg. Dice: 0.3148769736289978 Current Avg. Dice: 0.2666429877281189 Current Avg. tumor Dice: 0.3308415114879608 Current Avg. lymph Dice: 0.20244447886943817\n"
     ]
    },
    {
     "name": "stderr",
     "output_type": "stream",
     "text": [
      "Training (12305 / 18000 Steps) (loss=0.43994): 100%|██████████| 7/7 [00:11<00:00,  1.68s/it]\n",
      "Training (12312 / 18000 Steps) (loss=0.45904): 100%|██████████| 7/7 [00:05<00:00,  1.27it/s]\n",
      "Training (12319 / 18000 Steps) (loss=0.16869): 100%|██████████| 7/7 [00:05<00:00,  1.32it/s]\n",
      "Training (12326 / 18000 Steps) (loss=0.31147): 100%|██████████| 7/7 [00:05<00:00,  1.28it/s]\n",
      "Training (12333 / 18000 Steps) (loss=0.21998): 100%|██████████| 7/7 [00:05<00:00,  1.34it/s]\n",
      "Training (12340 / 18000 Steps) (loss=0.50737): 100%|██████████| 7/7 [00:06<00:00,  1.02it/s]\n",
      "Training (12347 / 18000 Steps) (loss=0.49071): 100%|██████████| 7/7 [00:05<00:00,  1.26it/s]\n",
      "Training (12354 / 18000 Steps) (loss=0.31031): 100%|██████████| 7/7 [00:05<00:00,  1.30it/s]\n",
      "Training (12361 / 18000 Steps) (loss=0.46877): 100%|██████████| 7/7 [00:05<00:00,  1.31it/s]\n",
      "Training (12368 / 18000 Steps) (loss=0.41508): 100%|██████████| 7/7 [00:05<00:00,  1.17it/s]\n",
      "Training (12375 / 18000 Steps) (loss=0.29428): 100%|██████████| 7/7 [00:07<00:00,  1.04s/it]\n",
      "Training (12382 / 18000 Steps) (loss=0.34797): 100%|██████████| 7/7 [00:06<00:00,  1.16it/s]\n",
      "Training (12389 / 18000 Steps) (loss=0.30675): 100%|██████████| 7/7 [00:05<00:00,  1.23it/s]\n",
      "Training (12396 / 18000 Steps) (loss=0.31201): 100%|██████████| 7/7 [00:05<00:00,  1.28it/s]\n",
      "Validate (12397 / 10 Steps): 100%|██████████| 2/2 [00:04<00:00,  2.15s/it]<00:04,  1.04s/it]\n",
      "Training (12400 / 18000 Steps) (loss=0.31788):  57%|█████▋    | 4/7 [00:08<00:07,  2.52s/it]"
     ]
    },
    {
     "name": "stdout",
     "output_type": "stream",
     "text": [
      "Model Was Not Saved ! Current Best Avg. Dice: 0.3148769736289978 Current Avg. Dice: 0.24335874617099762 Current Avg. tumor Dice: 0.3012738823890686 Current Avg. lymph Dice: 0.18544362485408783\n"
     ]
    },
    {
     "name": "stderr",
     "output_type": "stream",
     "text": [
      "Training (12403 / 18000 Steps) (loss=0.61824): 100%|██████████| 7/7 [00:10<00:00,  1.51s/it]\n",
      "Training (12410 / 18000 Steps) (loss=0.48482): 100%|██████████| 7/7 [00:07<00:00,  1.02s/it]\n",
      "Training (12417 / 18000 Steps) (loss=0.23946): 100%|██████████| 7/7 [00:05<00:00,  1.31it/s]\n",
      "Training (12424 / 18000 Steps) (loss=0.42868): 100%|██████████| 7/7 [00:05<00:00,  1.28it/s]\n",
      "Training (12431 / 18000 Steps) (loss=0.46409): 100%|██████████| 7/7 [00:05<00:00,  1.23it/s]\n",
      "Training (12438 / 18000 Steps) (loss=0.40535): 100%|██████████| 7/7 [00:05<00:00,  1.21it/s]\n",
      "Training (12445 / 18000 Steps) (loss=0.62457): 100%|██████████| 7/7 [00:07<00:00,  1.02s/it]\n",
      "Training (12452 / 18000 Steps) (loss=0.44715): 100%|██████████| 7/7 [00:08<00:00,  1.18s/it]\n",
      "Training (12459 / 18000 Steps) (loss=0.45424): 100%|██████████| 7/7 [00:07<00:00,  1.06s/it]\n",
      "Training (12466 / 18000 Steps) (loss=0.16511): 100%|██████████| 7/7 [00:06<00:00,  1.13it/s]\n",
      "Training (12473 / 18000 Steps) (loss=0.36840): 100%|██████████| 7/7 [00:06<00:00,  1.04it/s]\n",
      "Training (12480 / 18000 Steps) (loss=0.25435): 100%|██████████| 7/7 [00:08<00:00,  1.24s/it]\n",
      "Training (12487 / 18000 Steps) (loss=0.66935): 100%|██████████| 7/7 [00:08<00:00,  1.21s/it]\n",
      "Training (12494 / 18000 Steps) (loss=0.29525): 100%|██████████| 7/7 [00:07<00:00,  1.03s/it]\n",
      "Validate (12495 / 10 Steps): 100%|██████████| 2/2 [00:06<00:00,  3.16s/it]<00:01,  1.43it/s]\n",
      "Training (12500 / 18000 Steps) (loss=0.46543):  86%|████████▌ | 6/7 [00:12<00:02,  2.80s/it]"
     ]
    },
    {
     "name": "stdout",
     "output_type": "stream",
     "text": [
      "Model Was Not Saved ! Current Best Avg. Dice: 0.3148769736289978 Current Avg. Dice: 0.26187756657600403 Current Avg. tumor Dice: 0.29462283849716187 Current Avg. lymph Dice: 0.2291322499513626\n"
     ]
    },
    {
     "name": "stderr",
     "output_type": "stream",
     "text": [
      "Training (12501 / 18000 Steps) (loss=0.40359): 100%|██████████| 7/7 [00:12<00:00,  1.78s/it]\n",
      "Training (12508 / 18000 Steps) (loss=0.56581): 100%|██████████| 7/7 [00:08<00:00,  1.27s/it]\n",
      "Training (12515 / 18000 Steps) (loss=0.45149): 100%|██████████| 7/7 [00:08<00:00,  1.18s/it]\n",
      "Training (12522 / 18000 Steps) (loss=0.56048): 100%|██████████| 7/7 [00:06<00:00,  1.14it/s]\n",
      "Training (12529 / 18000 Steps) (loss=0.29097): 100%|██████████| 7/7 [00:06<00:00,  1.16it/s]\n",
      "Training (12536 / 18000 Steps) (loss=0.49082): 100%|██████████| 7/7 [00:06<00:00,  1.04it/s]\n",
      "Training (12543 / 18000 Steps) (loss=0.43981): 100%|██████████| 7/7 [00:05<00:00,  1.30it/s]\n",
      "Training (12550 / 18000 Steps) (loss=0.30433): 100%|██████████| 7/7 [00:05<00:00,  1.24it/s]\n",
      "Training (12557 / 18000 Steps) (loss=0.29773): 100%|██████████| 7/7 [00:05<00:00,  1.29it/s]\n",
      "Training (12564 / 18000 Steps) (loss=0.31693): 100%|██████████| 7/7 [00:05<00:00,  1.25it/s]\n",
      "Training (12571 / 18000 Steps) (loss=0.57298): 100%|██████████| 7/7 [00:06<00:00,  1.03it/s]\n",
      "Training (12578 / 18000 Steps) (loss=0.30283): 100%|██████████| 7/7 [00:05<00:00,  1.20it/s]\n",
      "Training (12585 / 18000 Steps) (loss=0.46462): 100%|██████████| 7/7 [00:05<00:00,  1.23it/s]\n",
      "Training (12592 / 18000 Steps) (loss=0.29295): 100%|██████████| 7/7 [00:05<00:00,  1.17it/s]\n",
      "Training (12599 / 18000 Steps) (loss=0.35448): 100%|██████████| 7/7 [00:05<00:00,  1.20it/s]\n",
      "Validate (12600 / 10 Steps): 100%|██████████| 2/2 [00:05<00:00,  2.53s/it]<?, ?it/s]\n",
      "Training (12600 / 18000 Steps) (loss=0.51270):  14%|█▍        | 1/7 [00:08<00:48,  8.15s/it]"
     ]
    },
    {
     "name": "stdout",
     "output_type": "stream",
     "text": [
      "Model Was Not Saved ! Current Best Avg. Dice: 0.3148769736289978 Current Avg. Dice: 0.2452574074268341 Current Avg. tumor Dice: 0.3052976727485657 Current Avg. lymph Dice: 0.18521720170974731\n"
     ]
    },
    {
     "name": "stderr",
     "output_type": "stream",
     "text": [
      "Training (12606 / 18000 Steps) (loss=0.58704): 100%|██████████| 7/7 [00:11<00:00,  1.68s/it]\n",
      "Training (12613 / 18000 Steps) (loss=0.39987): 100%|██████████| 7/7 [00:05<00:00,  1.26it/s]\n",
      "Training (12620 / 18000 Steps) (loss=0.51993): 100%|██████████| 7/7 [00:05<00:00,  1.24it/s]\n",
      "Training (12627 / 18000 Steps) (loss=0.61845): 100%|██████████| 7/7 [00:05<00:00,  1.21it/s]\n",
      "Training (12634 / 18000 Steps) (loss=0.45409): 100%|██████████| 7/7 [00:05<00:00,  1.20it/s]\n",
      "Training (12641 / 18000 Steps) (loss=0.46616): 100%|██████████| 7/7 [00:06<00:00,  1.02it/s]\n",
      "Training (12648 / 18000 Steps) (loss=0.53734): 100%|██████████| 7/7 [00:05<00:00,  1.26it/s]\n",
      "Training (12655 / 18000 Steps) (loss=0.46423): 100%|██████████| 7/7 [00:05<00:00,  1.32it/s]\n",
      "Training (12662 / 18000 Steps) (loss=0.44564): 100%|██████████| 7/7 [00:05<00:00,  1.32it/s]\n",
      "Training (12669 / 18000 Steps) (loss=0.46071): 100%|██████████| 7/7 [00:05<00:00,  1.26it/s]\n",
      "Training (12676 / 18000 Steps) (loss=0.41406): 100%|██████████| 7/7 [00:06<00:00,  1.11it/s]\n",
      "Training (12683 / 18000 Steps) (loss=0.51080): 100%|██████████| 7/7 [00:05<00:00,  1.18it/s]\n",
      "Training (12690 / 18000 Steps) (loss=0.50364): 100%|██████████| 7/7 [00:05<00:00,  1.28it/s]\n",
      "Training (12697 / 18000 Steps) (loss=0.61443): 100%|██████████| 7/7 [00:05<00:00,  1.30it/s]\n",
      "Validate (12698 / 10 Steps): 100%|██████████| 2/2 [00:04<00:00,  2.16s/it]<00:08,  1.72s/it]\n",
      "Training (12700 / 18000 Steps) (loss=0.50068):  43%|████▎     | 3/7 [00:08<00:12,  3.12s/it]"
     ]
    },
    {
     "name": "stdout",
     "output_type": "stream",
     "text": [
      "Model Was Not Saved ! Current Best Avg. Dice: 0.3148769736289978 Current Avg. Dice: 0.2731316089630127 Current Avg. tumor Dice: 0.3443381190299988 Current Avg. lymph Dice: 0.2019251137971878\n"
     ]
    },
    {
     "name": "stderr",
     "output_type": "stream",
     "text": [
      "Training (12704 / 18000 Steps) (loss=0.33894): 100%|██████████| 7/7 [00:10<00:00,  1.50s/it]\n",
      "Training (12711 / 18000 Steps) (loss=0.51145): 100%|██████████| 7/7 [00:07<00:00,  1.05s/it]\n",
      "Training (12718 / 18000 Steps) (loss=0.58398): 100%|██████████| 7/7 [00:05<00:00,  1.27it/s]\n",
      "Training (12725 / 18000 Steps) (loss=0.48959): 100%|██████████| 7/7 [00:05<00:00,  1.23it/s]\n",
      "Training (12732 / 18000 Steps) (loss=0.27155): 100%|██████████| 7/7 [00:05<00:00,  1.23it/s]\n",
      "Training (12739 / 18000 Steps) (loss=0.54075): 100%|██████████| 7/7 [00:05<00:00,  1.25it/s]\n",
      "Training (12746 / 18000 Steps) (loss=0.25215): 100%|██████████| 7/7 [00:07<00:00,  1.00s/it]\n",
      "Training (12753 / 18000 Steps) (loss=0.45906): 100%|██████████| 7/7 [00:06<00:00,  1.16it/s]\n",
      "Training (12760 / 18000 Steps) (loss=0.40748): 100%|██████████| 7/7 [00:05<00:00,  1.21it/s]\n",
      "Training (12767 / 18000 Steps) (loss=0.44532): 100%|██████████| 7/7 [00:05<00:00,  1.31it/s]\n",
      "Training (12774 / 18000 Steps) (loss=0.27387): 100%|██████████| 7/7 [00:05<00:00,  1.29it/s]\n",
      "Training (12781 / 18000 Steps) (loss=0.27514): 100%|██████████| 7/7 [00:05<00:00,  1.26it/s]\n",
      "Training (12788 / 18000 Steps) (loss=0.47120): 100%|██████████| 7/7 [00:06<00:00,  1.02it/s]\n",
      "Training (12795 / 18000 Steps) (loss=0.48359): 100%|██████████| 7/7 [00:05<00:00,  1.23it/s]\n",
      "Validate (12796 / 10 Steps): 100%|██████████| 2/2 [00:04<00:00,  2.13s/it]<00:02,  1.26it/s]\n",
      "Training (12800 / 18000 Steps) (loss=0.40252):  71%|███████▏  | 5/7 [00:09<00:04,  2.21s/it]"
     ]
    },
    {
     "name": "stdout",
     "output_type": "stream",
     "text": [
      "Model Was Not Saved ! Current Best Avg. Dice: 0.3148769736289978 Current Avg. Dice: 0.2671203911304474 Current Avg. tumor Dice: 0.3627995252609253 Current Avg. lymph Dice: 0.17144125699996948\n"
     ]
    },
    {
     "name": "stderr",
     "output_type": "stream",
     "text": [
      "Training (12802 / 18000 Steps) (loss=0.32759): 100%|██████████| 7/7 [00:09<00:00,  1.42s/it]\n",
      "Training (12809 / 18000 Steps) (loss=0.52876): 100%|██████████| 7/7 [00:05<00:00,  1.21it/s]\n",
      "Training (12816 / 18000 Steps) (loss=0.31488): 100%|██████████| 7/7 [00:06<00:00,  1.05it/s]\n",
      "Training (12823 / 18000 Steps) (loss=0.54276): 100%|██████████| 7/7 [00:06<00:00,  1.15it/s]\n",
      "Training (12830 / 18000 Steps) (loss=0.35316): 100%|██████████| 7/7 [00:05<00:00,  1.23it/s]\n",
      "Training (12837 / 18000 Steps) (loss=0.54264): 100%|██████████| 7/7 [00:05<00:00,  1.19it/s]\n",
      "Training (12844 / 18000 Steps) (loss=0.43728): 100%|██████████| 7/7 [00:05<00:00,  1.21it/s]\n",
      "Training (12851 / 18000 Steps) (loss=0.34357): 100%|██████████| 7/7 [00:05<00:00,  1.27it/s]\n",
      "Training (12858 / 18000 Steps) (loss=0.52249): 100%|██████████| 7/7 [00:05<00:00,  1.19it/s]\n",
      "Training (12865 / 18000 Steps) (loss=0.54547): 100%|██████████| 7/7 [00:05<00:00,  1.18it/s]\n",
      "Training (12872 / 18000 Steps) (loss=0.36508): 100%|██████████| 7/7 [00:05<00:00,  1.20it/s]\n",
      "Training (12879 / 18000 Steps) (loss=0.54577): 100%|██████████| 7/7 [00:05<00:00,  1.28it/s]\n",
      "Training (12886 / 18000 Steps) (loss=0.24889): 100%|██████████| 7/7 [00:05<00:00,  1.22it/s]\n",
      "Training (12893 / 18000 Steps) (loss=0.48454): 100%|██████████| 7/7 [00:05<00:00,  1.27it/s]\n",
      "Validate (12894 / 10 Steps): 100%|██████████| 2/2 [00:04<00:00,  2.04s/it]<00:00,  1.73it/s]\n",
      "Training (12900 / 18000 Steps) (loss=0.32626): 100%|██████████| 7/7 [00:09<00:00,  1.40s/it]\n"
     ]
    },
    {
     "name": "stdout",
     "output_type": "stream",
     "text": [
      "Model Was Not Saved ! Current Best Avg. Dice: 0.3148769736289978 Current Avg. Dice: 0.2705361843109131 Current Avg. tumor Dice: 0.33067506551742554 Current Avg. lymph Dice: 0.21039730310440063\n"
     ]
    },
    {
     "name": "stderr",
     "output_type": "stream",
     "text": [
      "Training (12907 / 18000 Steps) (loss=0.49354): 100%|██████████| 7/7 [00:05<00:00,  1.29it/s]\n",
      "Training (12914 / 18000 Steps) (loss=0.55793): 100%|██████████| 7/7 [00:05<00:00,  1.26it/s]\n",
      "Training (12921 / 18000 Steps) (loss=0.41094): 100%|██████████| 7/7 [00:06<00:00,  1.10it/s]\n",
      "Training (12928 / 18000 Steps) (loss=0.45122): 100%|██████████| 7/7 [00:06<00:00,  1.09it/s]\n",
      "Training (12935 / 18000 Steps) (loss=0.40719): 100%|██████████| 7/7 [00:05<00:00,  1.17it/s]\n",
      "Training (12942 / 18000 Steps) (loss=0.56161): 100%|██████████| 7/7 [00:05<00:00,  1.30it/s]\n",
      "Training (12949 / 18000 Steps) (loss=0.41035): 100%|██████████| 7/7 [00:05<00:00,  1.25it/s]\n",
      "Training (12956 / 18000 Steps) (loss=0.54179): 100%|██████████| 7/7 [00:06<00:00,  1.15it/s]\n",
      "Training (12963 / 18000 Steps) (loss=0.55679): 100%|██████████| 7/7 [00:06<00:00,  1.02it/s]\n",
      "Training (12970 / 18000 Steps) (loss=0.23422): 100%|██████████| 7/7 [00:05<00:00,  1.25it/s]\n",
      "Training (12977 / 18000 Steps) (loss=0.41587): 100%|██████████| 7/7 [00:05<00:00,  1.20it/s]\n",
      "Training (12984 / 18000 Steps) (loss=0.29781): 100%|██████████| 7/7 [00:05<00:00,  1.29it/s]\n",
      "Training (12991 / 18000 Steps) (loss=0.42357): 100%|██████████| 7/7 [00:05<00:00,  1.20it/s]\n",
      "Training (12998 / 18000 Steps) (loss=0.64474): 100%|██████████| 7/7 [00:07<00:00,  1.03s/it]\n",
      "Validate (12999 / 10 Steps): 100%|██████████| 2/2 [00:04<00:00,  2.15s/it]<00:18,  3.15s/it]\n",
      "Training (13000 / 18000 Steps) (loss=0.34655):  29%|██▊       | 2/7 [00:07<00:20,  4.11s/it]"
     ]
    },
    {
     "name": "stdout",
     "output_type": "stream",
     "text": [
      "Model Was Not Saved ! Current Best Avg. Dice: 0.3148769736289978 Current Avg. Dice: 0.23994562029838562 Current Avg. tumor Dice: 0.3128834664821625 Current Avg. lymph Dice: 0.16700780391693115\n"
     ]
    },
    {
     "name": "stderr",
     "output_type": "stream",
     "text": [
      "Training (13005 / 18000 Steps) (loss=0.32853): 100%|██████████| 7/7 [00:09<00:00,  1.41s/it]\n",
      "Training (13012 / 18000 Steps) (loss=0.28914): 100%|██████████| 7/7 [00:05<00:00,  1.28it/s]\n",
      "Training (13019 / 18000 Steps) (loss=0.31122): 100%|██████████| 7/7 [00:05<00:00,  1.27it/s]\n",
      "Training (13026 / 18000 Steps) (loss=0.55969): 100%|██████████| 7/7 [00:06<00:00,  1.05it/s]\n",
      "Training (13033 / 18000 Steps) (loss=0.43129): 100%|██████████| 7/7 [00:06<00:00,  1.16it/s]\n",
      "Training (13040 / 18000 Steps) (loss=0.18476): 100%|██████████| 7/7 [00:05<00:00,  1.28it/s]\n",
      "Training (13047 / 18000 Steps) (loss=0.48571): 100%|██████████| 7/7 [00:05<00:00,  1.31it/s]\n",
      "Training (13054 / 18000 Steps) (loss=0.34076): 100%|██████████| 7/7 [00:05<00:00,  1.27it/s]\n",
      "Training (13061 / 18000 Steps) (loss=0.50530): 100%|██████████| 7/7 [00:06<00:00,  1.16it/s]\n",
      "Training (13068 / 18000 Steps) (loss=0.48011): 100%|██████████| 7/7 [00:07<00:00,  1.05s/it]\n",
      "Training (13075 / 18000 Steps) (loss=0.49539): 100%|██████████| 7/7 [00:05<00:00,  1.23it/s]\n",
      "Training (13082 / 18000 Steps) (loss=0.29201): 100%|██████████| 7/7 [00:05<00:00,  1.26it/s]\n",
      "Training (13089 / 18000 Steps) (loss=0.32126): 100%|██████████| 7/7 [00:05<00:00,  1.26it/s]\n",
      "Training (13096 / 18000 Steps) (loss=0.51162): 100%|██████████| 7/7 [00:05<00:00,  1.22it/s]\n",
      "Validate (13097 / 10 Steps): 100%|██████████| 2/2 [00:05<00:00,  2.70s/it]<00:04,  1.10s/it]\n",
      "Training (13100 / 18000 Steps) (loss=0.37516):  57%|█████▋    | 4/7 [00:10<00:09,  3.11s/it]"
     ]
    },
    {
     "name": "stdout",
     "output_type": "stream",
     "text": [
      "Model Was Not Saved ! Current Best Avg. Dice: 0.3148769736289978 Current Avg. Dice: 0.2300271987915039 Current Avg. tumor Dice: 0.30176907777786255 Current Avg. lymph Dice: 0.15828534960746765\n"
     ]
    },
    {
     "name": "stderr",
     "output_type": "stream",
     "text": [
      "Training (13103 / 18000 Steps) (loss=0.42633): 100%|██████████| 7/7 [00:11<00:00,  1.65s/it]\n",
      "Training (13110 / 18000 Steps) (loss=0.44324): 100%|██████████| 7/7 [00:05<00:00,  1.28it/s]\n",
      "Training (13117 / 18000 Steps) (loss=0.41326): 100%|██████████| 7/7 [00:05<00:00,  1.32it/s]\n",
      "Training (13124 / 18000 Steps) (loss=0.45525): 100%|██████████| 7/7 [00:05<00:00,  1.28it/s]\n",
      "Training (13131 / 18000 Steps) (loss=0.27727): 100%|██████████| 7/7 [00:05<00:00,  1.19it/s]\n",
      "Training (13138 / 18000 Steps) (loss=0.45420): 100%|██████████| 7/7 [00:07<00:00,  1.07s/it]\n",
      "Training (13145 / 18000 Steps) (loss=0.29790): 100%|██████████| 7/7 [00:05<00:00,  1.23it/s]\n",
      "Training (13152 / 18000 Steps) (loss=0.54083): 100%|██████████| 7/7 [00:05<00:00,  1.24it/s]\n",
      "Training (13159 / 18000 Steps) (loss=0.35049): 100%|██████████| 7/7 [00:05<00:00,  1.25it/s]\n",
      "Training (13166 / 18000 Steps) (loss=0.47301): 100%|██████████| 7/7 [00:05<00:00,  1.31it/s]\n",
      "Training (13173 / 18000 Steps) (loss=0.36931): 100%|██████████| 7/7 [00:06<00:00,  1.03it/s]\n",
      "Training (13180 / 18000 Steps) (loss=0.36437): 100%|██████████| 7/7 [00:05<00:00,  1.19it/s]\n",
      "Training (13187 / 18000 Steps) (loss=0.41436): 100%|██████████| 7/7 [00:05<00:00,  1.26it/s]\n",
      "Training (13194 / 18000 Steps) (loss=0.31886): 100%|██████████| 7/7 [00:05<00:00,  1.22it/s]\n",
      "Validate (13195 / 10 Steps): 100%|██████████| 2/2 [00:04<00:00,  2.30s/it]<00:01,  1.51it/s]\n",
      "Training (13200 / 18000 Steps) (loss=0.45538):  86%|████████▌ | 6/7 [00:09<00:02,  2.16s/it]"
     ]
    },
    {
     "name": "stdout",
     "output_type": "stream",
     "text": [
      "Model Was Not Saved ! Current Best Avg. Dice: 0.3148769736289978 Current Avg. Dice: 0.2171137034893036 Current Avg. tumor Dice: 0.28919073939323425 Current Avg. lymph Dice: 0.1450366973876953\n"
     ]
    },
    {
     "name": "stderr",
     "output_type": "stream",
     "text": [
      "Training (13201 / 18000 Steps) (loss=0.42627): 100%|██████████| 7/7 [00:10<00:00,  1.48s/it]\n",
      "Training (13208 / 18000 Steps) (loss=0.41058): 100%|██████████| 7/7 [00:06<00:00,  1.06it/s]\n",
      "Training (13215 / 18000 Steps) (loss=0.21119): 100%|██████████| 7/7 [00:06<00:00,  1.13it/s]\n",
      "Training (13222 / 18000 Steps) (loss=0.69731): 100%|██████████| 7/7 [00:05<00:00,  1.31it/s]\n",
      "Training (13229 / 18000 Steps) (loss=0.42705): 100%|██████████| 7/7 [00:05<00:00,  1.19it/s]\n",
      "Training (13236 / 18000 Steps) (loss=0.33626): 100%|██████████| 7/7 [00:05<00:00,  1.24it/s]\n",
      "Training (13243 / 18000 Steps) (loss=0.49012): 100%|██████████| 7/7 [00:05<00:00,  1.18it/s]\n",
      "Training (13250 / 18000 Steps) (loss=0.51199): 100%|██████████| 7/7 [00:06<00:00,  1.06it/s]\n",
      "Training (13257 / 18000 Steps) (loss=0.48130): 100%|██████████| 7/7 [00:05<00:00,  1.27it/s]\n",
      "Training (13264 / 18000 Steps) (loss=0.25062): 100%|██████████| 7/7 [00:05<00:00,  1.28it/s]\n",
      "Training (13271 / 18000 Steps) (loss=0.36365): 100%|██████████| 7/7 [00:05<00:00,  1.27it/s]\n",
      "Training (13278 / 18000 Steps) (loss=0.43629): 100%|██████████| 7/7 [00:05<00:00,  1.22it/s]\n",
      "Training (13285 / 18000 Steps) (loss=0.54716): 100%|██████████| 7/7 [00:06<00:00,  1.01it/s]\n",
      "Training (13292 / 18000 Steps) (loss=0.54810): 100%|██████████| 7/7 [00:05<00:00,  1.21it/s]\n",
      "Training (13299 / 18000 Steps) (loss=0.47062): 100%|██████████| 7/7 [00:05<00:00,  1.22it/s]\n",
      "Validate (13300 / 10 Steps): 100%|██████████| 2/2 [00:04<00:00,  2.13s/it]<?, ?it/s]\n",
      "Training (13300 / 18000 Steps) (loss=0.40360):  14%|█▍        | 1/7 [00:07<00:44,  7.38s/it]"
     ]
    },
    {
     "name": "stdout",
     "output_type": "stream",
     "text": [
      "Model Was Not Saved ! Current Best Avg. Dice: 0.3148769736289978 Current Avg. Dice: 0.24318355321884155 Current Avg. tumor Dice: 0.3297083079814911 Current Avg. lymph Dice: 0.15665879845619202\n"
     ]
    },
    {
     "name": "stderr",
     "output_type": "stream",
     "text": [
      "Training (13306 / 18000 Steps) (loss=0.46745): 100%|██████████| 7/7 [00:09<00:00,  1.40s/it]\n",
      "Training (13313 / 18000 Steps) (loss=0.49961): 100%|██████████| 7/7 [00:05<00:00,  1.17it/s]\n",
      "Training (13320 / 18000 Steps) (loss=0.55832): 100%|██████████| 7/7 [00:06<00:00,  1.08it/s]\n",
      "Training (13327 / 18000 Steps) (loss=0.38712): 100%|██████████| 7/7 [00:05<00:00,  1.20it/s]\n",
      "Training (13334 / 18000 Steps) (loss=0.49393): 100%|██████████| 7/7 [00:05<00:00,  1.26it/s]\n",
      "Training (13341 / 18000 Steps) (loss=0.35886): 100%|██████████| 7/7 [00:05<00:00,  1.24it/s]\n",
      "Training (13348 / 18000 Steps) (loss=0.40416): 100%|██████████| 7/7 [00:05<00:00,  1.25it/s]\n",
      "Training (13355 / 18000 Steps) (loss=0.42397): 100%|██████████| 7/7 [00:06<00:00,  1.09it/s]\n",
      "Training (13362 / 18000 Steps) (loss=0.29813): 100%|██████████| 7/7 [00:06<00:00,  1.14it/s]\n",
      "Training (13369 / 18000 Steps) (loss=0.47137): 100%|██████████| 7/7 [00:05<00:00,  1.24it/s]\n",
      "Training (13376 / 18000 Steps) (loss=0.28691): 100%|██████████| 7/7 [00:05<00:00,  1.31it/s]\n",
      "Training (13383 / 18000 Steps) (loss=0.38727): 100%|██████████| 7/7 [00:05<00:00,  1.25it/s]\n",
      "Training (13390 / 18000 Steps) (loss=0.53962): 100%|██████████| 7/7 [00:05<00:00,  1.30it/s]\n",
      "Training (13397 / 18000 Steps) (loss=0.43484): 100%|██████████| 7/7 [00:06<00:00,  1.01it/s]\n",
      "Validate (13398 / 10 Steps): 100%|██████████| 2/2 [00:04<00:00,  2.17s/it]<00:07,  1.55s/it]\n",
      "Training (13400 / 18000 Steps) (loss=0.40907):  43%|████▎     | 3/7 [00:08<00:12,  3.04s/it]"
     ]
    },
    {
     "name": "stdout",
     "output_type": "stream",
     "text": [
      "Model Was Not Saved ! Current Best Avg. Dice: 0.3148769736289978 Current Avg. Dice: 0.2501176595687866 Current Avg. tumor Dice: 0.3129558563232422 Current Avg. lymph Dice: 0.18727949261665344\n"
     ]
    },
    {
     "name": "stderr",
     "output_type": "stream",
     "text": [
      "Training (13404 / 18000 Steps) (loss=0.43356): 100%|██████████| 7/7 [00:09<00:00,  1.42s/it]\n",
      "Training (13411 / 18000 Steps) (loss=0.69022): 100%|██████████| 7/7 [00:05<00:00,  1.33it/s]\n",
      "Training (13418 / 18000 Steps) (loss=0.38821): 100%|██████████| 7/7 [00:05<00:00,  1.21it/s]\n",
      "Training (13425 / 18000 Steps) (loss=0.41456): 100%|██████████| 7/7 [00:08<00:00,  1.23s/it]\n",
      "Training (13432 / 18000 Steps) (loss=0.33140): 100%|██████████| 7/7 [00:08<00:00,  1.17s/it]\n",
      "Training (13439 / 18000 Steps) (loss=0.54211): 100%|██████████| 7/7 [00:06<00:00,  1.02it/s]\n",
      "Training (13446 / 18000 Steps) (loss=0.52328): 100%|██████████| 7/7 [00:06<00:00,  1.16it/s]\n",
      "Training (13453 / 18000 Steps) (loss=0.44040): 100%|██████████| 7/7 [00:07<00:00,  1.13s/it]\n",
      "Training (13460 / 18000 Steps) (loss=0.54527): 100%|██████████| 7/7 [00:08<00:00,  1.20s/it]\n",
      "Training (13467 / 18000 Steps) (loss=0.41467): 100%|██████████| 7/7 [00:07<00:00,  1.06s/it]\n",
      "Training (13474 / 18000 Steps) (loss=0.55556): 100%|██████████| 7/7 [00:06<00:00,  1.11it/s]\n",
      "Training (13481 / 18000 Steps) (loss=0.48895): 100%|██████████| 7/7 [00:06<00:00,  1.06it/s]\n",
      "Training (13488 / 18000 Steps) (loss=0.45452): 100%|██████████| 7/7 [00:08<00:00,  1.17s/it]\n",
      "Training (13495 / 18000 Steps) (loss=0.40001): 100%|██████████| 7/7 [00:08<00:00,  1.18s/it]\n",
      "Validate (13496 / 10 Steps): 100%|██████████| 2/2 [00:05<00:00,  2.87s/it]<00:02,  1.18it/s]\n",
      "Training (13500 / 18000 Steps) (loss=0.25435):  71%|███████▏  | 5/7 [00:11<00:05,  2.93s/it]"
     ]
    },
    {
     "name": "stdout",
     "output_type": "stream",
     "text": [
      "Model Was Not Saved ! Current Best Avg. Dice: 0.3148769736289978 Current Avg. Dice: 0.27725303173065186 Current Avg. tumor Dice: 0.35160282254219055 Current Avg. lymph Dice: 0.20290330052375793\n"
     ]
    },
    {
     "name": "stderr",
     "output_type": "stream",
     "text": [
      "Training (13502 / 18000 Steps) (loss=0.48461): 100%|██████████| 7/7 [00:11<00:00,  1.71s/it]\n",
      "Training (13509 / 18000 Steps) (loss=0.57446): 100%|██████████| 7/7 [00:05<00:00,  1.21it/s]\n",
      "Training (13516 / 18000 Steps) (loss=0.38754): 100%|██████████| 7/7 [00:07<00:00,  1.04s/it]\n",
      "Training (13523 / 18000 Steps) (loss=0.21077): 100%|██████████| 7/7 [00:05<00:00,  1.26it/s]\n",
      "Training (13530 / 18000 Steps) (loss=0.36449): 100%|██████████| 7/7 [00:05<00:00,  1.28it/s]\n",
      "Training (13537 / 18000 Steps) (loss=0.44317): 100%|██████████| 7/7 [00:05<00:00,  1.25it/s]\n",
      "Training (13544 / 18000 Steps) (loss=0.32500): 100%|██████████| 7/7 [00:05<00:00,  1.27it/s]\n",
      "Training (13551 / 18000 Steps) (loss=0.32692): 100%|██████████| 7/7 [00:05<00:00,  1.23it/s]\n",
      "Training (13558 / 18000 Steps) (loss=0.50036): 100%|██████████| 7/7 [00:07<00:00,  1.05s/it]\n",
      "Training (13565 / 18000 Steps) (loss=0.54242): 100%|██████████| 7/7 [00:05<00:00,  1.19it/s]\n",
      "Training (13572 / 18000 Steps) (loss=0.54589): 100%|██████████| 7/7 [00:05<00:00,  1.19it/s]\n",
      "Training (13579 / 18000 Steps) (loss=0.35402): 100%|██████████| 7/7 [00:05<00:00,  1.28it/s]\n",
      "Training (13586 / 18000 Steps) (loss=0.58229): 100%|██████████| 7/7 [00:05<00:00,  1.27it/s]\n",
      "Training (13593 / 18000 Steps) (loss=0.44033): 100%|██████████| 7/7 [00:07<00:00,  1.02s/it]\n",
      "Validate (13594 / 10 Steps): 100%|██████████| 2/2 [00:04<00:00,  2.17s/it]<00:00,  1.73it/s]\n",
      "Training (13600 / 18000 Steps) (loss=0.41752): 100%|██████████| 7/7 [00:10<00:00,  1.44s/it]\n"
     ]
    },
    {
     "name": "stdout",
     "output_type": "stream",
     "text": [
      "Model Was Not Saved ! Current Best Avg. Dice: 0.3148769736289978 Current Avg. Dice: 0.2756810784339905 Current Avg. tumor Dice: 0.35374367237091064 Current Avg. lymph Dice: 0.19761846959590912\n"
     ]
    },
    {
     "name": "stderr",
     "output_type": "stream",
     "text": [
      "Training (13607 / 18000 Steps) (loss=0.42664): 100%|██████████| 7/7 [00:05<00:00,  1.23it/s]\n",
      "Training (13614 / 18000 Steps) (loss=0.23152): 100%|██████████| 7/7 [00:05<00:00,  1.27it/s]\n",
      "Training (13621 / 18000 Steps) (loss=0.42089): 100%|██████████| 7/7 [00:06<00:00,  1.02it/s]\n",
      "Training (13628 / 18000 Steps) (loss=0.30425): 100%|██████████| 7/7 [00:06<00:00,  1.16it/s]\n",
      "Training (13635 / 18000 Steps) (loss=0.50422): 100%|██████████| 7/7 [00:05<00:00,  1.26it/s]\n",
      "Training (13642 / 18000 Steps) (loss=0.41410): 100%|██████████| 7/7 [00:05<00:00,  1.23it/s]\n",
      "Training (13649 / 18000 Steps) (loss=0.36185): 100%|██████████| 7/7 [00:05<00:00,  1.29it/s]\n",
      "Training (13656 / 18000 Steps) (loss=0.37309): 100%|██████████| 7/7 [00:05<00:00,  1.32it/s]\n",
      "Training (13663 / 18000 Steps) (loss=0.13054): 100%|██████████| 7/7 [00:07<00:00,  1.00s/it]\n",
      "Training (13670 / 18000 Steps) (loss=0.32188): 100%|██████████| 7/7 [00:05<00:00,  1.25it/s]\n",
      "Training (13677 / 18000 Steps) (loss=0.54422): 100%|██████████| 7/7 [00:05<00:00,  1.26it/s]\n",
      "Training (13684 / 18000 Steps) (loss=0.41600): 100%|██████████| 7/7 [00:05<00:00,  1.25it/s]\n",
      "Training (13691 / 18000 Steps) (loss=0.27657): 100%|██████████| 7/7 [00:05<00:00,  1.20it/s]\n",
      "Training (13698 / 18000 Steps) (loss=0.42677): 100%|██████████| 7/7 [00:07<00:00,  1.08s/it]\n",
      "Validate (13699 / 10 Steps): 100%|██████████| 2/2 [00:04<00:00,  2.18s/it]<00:20,  3.41s/it]\n",
      "Training (13700 / 18000 Steps) (loss=0.37628):  29%|██▊       | 2/7 [00:08<00:21,  4.25s/it]"
     ]
    },
    {
     "name": "stdout",
     "output_type": "stream",
     "text": [
      "Model Was Not Saved ! Current Best Avg. Dice: 0.3148769736289978 Current Avg. Dice: 0.2631552815437317 Current Avg. tumor Dice: 0.3384239375591278 Current Avg. lymph Dice: 0.18788661062717438\n"
     ]
    },
    {
     "name": "stderr",
     "output_type": "stream",
     "text": [
      "Training (13705 / 18000 Steps) (loss=0.60082): 100%|██████████| 7/7 [00:10<00:00,  1.46s/it]\n",
      "Training (13712 / 18000 Steps) (loss=0.60561): 100%|██████████| 7/7 [00:05<00:00,  1.26it/s]\n",
      "Training (13719 / 18000 Steps) (loss=0.56466): 100%|██████████| 7/7 [00:05<00:00,  1.33it/s]\n",
      "Training (13726 / 18000 Steps) (loss=0.56600): 100%|██████████| 7/7 [00:05<00:00,  1.19it/s]\n",
      "Training (13733 / 18000 Steps) (loss=0.19762): 100%|██████████| 7/7 [00:06<00:00,  1.06it/s]\n",
      "Training (13740 / 18000 Steps) (loss=0.31040): 100%|██████████| 7/7 [00:05<00:00,  1.24it/s]\n",
      "Training (13747 / 18000 Steps) (loss=0.39712): 100%|██████████| 7/7 [00:05<00:00,  1.28it/s]\n",
      "Training (13754 / 18000 Steps) (loss=0.43304): 100%|██████████| 7/7 [00:05<00:00,  1.21it/s]\n",
      "Training (13761 / 18000 Steps) (loss=0.41895): 100%|██████████| 7/7 [00:05<00:00,  1.21it/s]\n",
      "Training (13768 / 18000 Steps) (loss=0.52448): 100%|██████████| 7/7 [00:06<00:00,  1.02it/s]\n",
      "Training (13775 / 18000 Steps) (loss=0.35949): 100%|██████████| 7/7 [00:05<00:00,  1.22it/s]\n",
      "Training (13782 / 18000 Steps) (loss=0.34435): 100%|██████████| 7/7 [00:05<00:00,  1.24it/s]\n",
      "Training (13789 / 18000 Steps) (loss=0.51112): 100%|██████████| 7/7 [00:05<00:00,  1.25it/s]\n",
      "Training (13796 / 18000 Steps) (loss=0.55149): 100%|██████████| 7/7 [00:05<00:00,  1.32it/s]\n",
      "Validate (13797 / 10 Steps): 100%|██████████| 2/2 [00:05<00:00,  2.77s/it]<00:04,  1.13s/it]\n",
      "Training (13800 / 18000 Steps) (loss=0.39433):  57%|█████▋    | 4/7 [00:10<00:09,  3.12s/it]"
     ]
    },
    {
     "name": "stdout",
     "output_type": "stream",
     "text": [
      "Model Was Not Saved ! Current Best Avg. Dice: 0.3148769736289978 Current Avg. Dice: 0.2494688779115677 Current Avg. tumor Dice: 0.2758273780345917 Current Avg. lymph Dice: 0.2231104075908661\n"
     ]
    },
    {
     "name": "stderr",
     "output_type": "stream",
     "text": [
      "Training (13803 / 18000 Steps) (loss=0.35041): 100%|██████████| 7/7 [00:11<00:00,  1.70s/it]\n",
      "Training (13810 / 18000 Steps) (loss=0.42701): 100%|██████████| 7/7 [00:05<00:00,  1.25it/s]\n",
      "Training (13817 / 18000 Steps) (loss=0.33633): 100%|██████████| 7/7 [00:05<00:00,  1.28it/s]\n",
      "Training (13824 / 18000 Steps) (loss=0.30577): 100%|██████████| 7/7 [00:05<00:00,  1.30it/s]\n",
      "Training (13831 / 18000 Steps) (loss=0.45732): 100%|██████████| 7/7 [00:05<00:00,  1.31it/s]\n",
      "Training (13838 / 18000 Steps) (loss=0.29009): 100%|██████████| 7/7 [00:06<00:00,  1.01it/s]\n",
      "Training (13845 / 18000 Steps) (loss=0.48195): 100%|██████████| 7/7 [00:05<00:00,  1.20it/s]\n",
      "Training (13852 / 18000 Steps) (loss=0.22712): 100%|██████████| 7/7 [00:05<00:00,  1.25it/s]\n",
      "Training (13859 / 18000 Steps) (loss=0.43720): 100%|██████████| 7/7 [00:05<00:00,  1.29it/s]\n",
      "Training (13866 / 18000 Steps) (loss=0.46177): 100%|██████████| 7/7 [00:05<00:00,  1.24it/s]\n",
      "Training (13873 / 18000 Steps) (loss=0.67716): 100%|██████████| 7/7 [00:06<00:00,  1.07it/s]\n",
      "Training (13880 / 18000 Steps) (loss=0.41670): 100%|██████████| 7/7 [00:05<00:00,  1.21it/s]\n",
      "Training (13887 / 18000 Steps) (loss=0.50670): 100%|██████████| 7/7 [00:05<00:00,  1.31it/s]\n",
      "Training (13894 / 18000 Steps) (loss=0.37374): 100%|██████████| 7/7 [00:05<00:00,  1.30it/s]\n",
      "Validate (13895 / 10 Steps): 100%|██████████| 2/2 [00:04<00:00,  2.22s/it]<00:01,  1.51it/s]\n",
      "Training (13900 / 18000 Steps) (loss=0.52616):  86%|████████▌ | 6/7 [00:09<00:02,  2.10s/it]"
     ]
    },
    {
     "name": "stdout",
     "output_type": "stream",
     "text": [
      "Model Was Not Saved ! Current Best Avg. Dice: 0.3148769736289978 Current Avg. Dice: 0.23062339425086975 Current Avg. tumor Dice: 0.29836633801460266 Current Avg. lymph Dice: 0.16288046538829803\n"
     ]
    },
    {
     "name": "stderr",
     "output_type": "stream",
     "text": [
      "Training (13901 / 18000 Steps) (loss=0.29111): 100%|██████████| 7/7 [00:10<00:00,  1.45s/it]\n",
      "Training (13908 / 18000 Steps) (loss=0.43313): 100%|██████████| 7/7 [00:06<00:00,  1.01it/s]\n",
      "Training (13915 / 18000 Steps) (loss=0.46087): 100%|██████████| 7/7 [00:05<00:00,  1.22it/s]\n",
      "Training (13922 / 18000 Steps) (loss=0.43255): 100%|██████████| 7/7 [00:05<00:00,  1.29it/s]\n",
      "Training (13929 / 18000 Steps) (loss=0.52420): 100%|██████████| 7/7 [00:05<00:00,  1.26it/s]\n",
      "Training (13936 / 18000 Steps) (loss=0.37519): 100%|██████████| 7/7 [00:05<00:00,  1.20it/s]\n",
      "Training (13943 / 18000 Steps) (loss=0.48701): 100%|██████████| 7/7 [00:05<00:00,  1.21it/s]\n",
      "Training (13950 / 18000 Steps) (loss=0.14148): 100%|██████████| 7/7 [00:06<00:00,  1.05it/s]\n",
      "Training (13957 / 18000 Steps) (loss=0.44070): 100%|██████████| 7/7 [00:05<00:00,  1.31it/s]\n",
      "Training (13964 / 18000 Steps) (loss=0.63163): 100%|██████████| 7/7 [00:05<00:00,  1.21it/s]\n",
      "Training (13971 / 18000 Steps) (loss=0.52947): 100%|██████████| 7/7 [00:05<00:00,  1.31it/s]\n",
      "Training (13978 / 18000 Steps) (loss=0.53454): 100%|██████████| 7/7 [00:05<00:00,  1.23it/s]\n",
      "Training (13985 / 18000 Steps) (loss=0.26146): 100%|██████████| 7/7 [00:07<00:00,  1.00s/it]\n",
      "Training (13992 / 18000 Steps) (loss=0.30686): 100%|██████████| 7/7 [00:05<00:00,  1.26it/s]\n",
      "Training (13999 / 18000 Steps) (loss=0.54364): 100%|██████████| 7/7 [00:05<00:00,  1.27it/s]\n",
      "Validate (14000 / 10 Steps): 100%|██████████| 2/2 [00:04<00:00,  2.14s/it]<?, ?it/s]\n",
      "Training (14000 / 18000 Steps) (loss=0.30950):  14%|█▍        | 1/7 [00:07<00:43,  7.18s/it]"
     ]
    },
    {
     "name": "stdout",
     "output_type": "stream",
     "text": [
      "Model Was Not Saved ! Current Best Avg. Dice: 0.3148769736289978 Current Avg. Dice: 0.23208847641944885 Current Avg. tumor Dice: 0.2999424338340759 Current Avg. lymph Dice: 0.16423454880714417\n"
     ]
    },
    {
     "name": "stderr",
     "output_type": "stream",
     "text": [
      "Training (14006 / 18000 Steps) (loss=0.35667): 100%|██████████| 7/7 [00:09<00:00,  1.37s/it]\n",
      "Training (14013 / 18000 Steps) (loss=0.58088): 100%|██████████| 7/7 [00:06<00:00,  1.17it/s]\n",
      "Training (14020 / 18000 Steps) (loss=0.25497): 100%|██████████| 7/7 [00:06<00:00,  1.07it/s]\n",
      "Training (14027 / 18000 Steps) (loss=0.31193): 100%|██████████| 7/7 [00:05<00:00,  1.25it/s]\n",
      "Training (14034 / 18000 Steps) (loss=0.34445): 100%|██████████| 7/7 [00:05<00:00,  1.26it/s]\n",
      "Training (14041 / 18000 Steps) (loss=0.38573): 100%|██████████| 7/7 [00:05<00:00,  1.28it/s]\n",
      "Training (14048 / 18000 Steps) (loss=0.34749): 100%|██████████| 7/7 [00:05<00:00,  1.22it/s]\n",
      "Training (14055 / 18000 Steps) (loss=0.41003): 100%|██████████| 7/7 [00:06<00:00,  1.02it/s]\n",
      "Training (14062 / 18000 Steps) (loss=0.49615): 100%|██████████| 7/7 [00:05<00:00,  1.27it/s]\n",
      "Training (14069 / 18000 Steps) (loss=0.32057): 100%|██████████| 7/7 [00:05<00:00,  1.33it/s]\n",
      "Training (14076 / 18000 Steps) (loss=0.54146): 100%|██████████| 7/7 [00:05<00:00,  1.33it/s]\n",
      "Training (14083 / 18000 Steps) (loss=0.32294): 100%|██████████| 7/7 [00:05<00:00,  1.26it/s]\n",
      "Training (14090 / 18000 Steps) (loss=0.50573): 100%|██████████| 7/7 [00:06<00:00,  1.01it/s]\n",
      "Training (14097 / 18000 Steps) (loss=0.45251): 100%|██████████| 7/7 [00:05<00:00,  1.27it/s]\n",
      "Validate (14098 / 10 Steps): 100%|██████████| 2/2 [00:04<00:00,  2.04s/it]<00:07,  1.43s/it]\n",
      "Training (14100 / 18000 Steps) (loss=0.40643):  43%|████▎     | 3/7 [00:07<00:11,  2.85s/it]"
     ]
    },
    {
     "name": "stdout",
     "output_type": "stream",
     "text": [
      "Model Was Not Saved ! Current Best Avg. Dice: 0.3148769736289978 Current Avg. Dice: 0.24787423014640808 Current Avg. tumor Dice: 0.2878971993923187 Current Avg. lymph Dice: 0.20785123109817505\n"
     ]
    },
    {
     "name": "stderr",
     "output_type": "stream",
     "text": [
      "Training (14104 / 18000 Steps) (loss=0.55307): 100%|██████████| 7/7 [00:09<00:00,  1.34s/it]\n",
      "Training (14111 / 18000 Steps) (loss=0.27814): 100%|██████████| 7/7 [00:05<00:00,  1.30it/s]\n",
      "Training (14118 / 18000 Steps) (loss=0.62356): 100%|██████████| 7/7 [00:06<00:00,  1.08it/s]\n",
      "Training (14125 / 18000 Steps) (loss=0.45692): 100%|██████████| 7/7 [00:06<00:00,  1.16it/s]\n",
      "Training (14132 / 18000 Steps) (loss=0.28057): 100%|██████████| 7/7 [00:05<00:00,  1.27it/s]\n",
      "Training (14139 / 18000 Steps) (loss=0.54278): 100%|██████████| 7/7 [00:05<00:00,  1.31it/s]\n",
      "Training (14146 / 18000 Steps) (loss=0.30031): 100%|██████████| 7/7 [00:05<00:00,  1.29it/s]\n",
      "Training (14153 / 18000 Steps) (loss=0.38792): 100%|██████████| 7/7 [00:06<00:00,  1.06it/s]\n",
      "Training (14160 / 18000 Steps) (loss=0.53588): 100%|██████████| 7/7 [00:05<00:00,  1.22it/s]\n",
      "Training (14167 / 18000 Steps) (loss=0.44410): 100%|██████████| 7/7 [00:05<00:00,  1.29it/s]\n",
      "Training (14174 / 18000 Steps) (loss=0.15261): 100%|██████████| 7/7 [00:05<00:00,  1.26it/s]\n",
      "Training (14181 / 18000 Steps) (loss=0.53766): 100%|██████████| 7/7 [00:05<00:00,  1.31it/s]\n",
      "Training (14188 / 18000 Steps) (loss=0.40918): 100%|██████████| 7/7 [00:06<00:00,  1.16it/s]\n",
      "Training (14195 / 18000 Steps) (loss=0.40492): 100%|██████████| 7/7 [00:06<00:00,  1.15it/s]\n",
      "Validate (14196 / 10 Steps): 100%|██████████| 2/2 [00:04<00:00,  2.06s/it]<00:02,  1.35it/s]\n",
      "Training (14200 / 18000 Steps) (loss=0.49176):  71%|███████▏  | 5/7 [00:08<00:04,  2.13s/it]"
     ]
    },
    {
     "name": "stdout",
     "output_type": "stream",
     "text": [
      "Model Was Not Saved ! Current Best Avg. Dice: 0.3148769736289978 Current Avg. Dice: 0.265083909034729 Current Avg. tumor Dice: 0.2924415171146393 Current Avg. lymph Dice: 0.23772627115249634\n"
     ]
    },
    {
     "name": "stderr",
     "output_type": "stream",
     "text": [
      "Training (14202 / 18000 Steps) (loss=0.55197): 100%|██████████| 7/7 [00:09<00:00,  1.34s/it]\n",
      "Training (14209 / 18000 Steps) (loss=0.43900): 100%|██████████| 7/7 [00:05<00:00,  1.35it/s]\n",
      "Training (14216 / 18000 Steps) (loss=0.55743): 100%|██████████| 7/7 [00:05<00:00,  1.36it/s]\n",
      "Training (14223 / 18000 Steps) (loss=0.27440): 100%|██████████| 7/7 [00:05<00:00,  1.30it/s]\n",
      "Training (14230 / 18000 Steps) (loss=0.55428): 100%|██████████| 7/7 [00:05<00:00,  1.30it/s]\n",
      "Training (14237 / 18000 Steps) (loss=0.48314): 100%|██████████| 7/7 [00:05<00:00,  1.31it/s]\n",
      "Training (14244 / 18000 Steps) (loss=0.30487): 100%|██████████| 7/7 [00:05<00:00,  1.29it/s]\n",
      "Training (14251 / 18000 Steps) (loss=0.28891): 100%|██████████| 7/7 [00:05<00:00,  1.31it/s]\n",
      "Training (14258 / 18000 Steps) (loss=0.40302): 100%|██████████| 7/7 [00:05<00:00,  1.26it/s]\n",
      "Training (14265 / 18000 Steps) (loss=0.39653): 100%|██████████| 7/7 [00:05<00:00,  1.33it/s]\n",
      "Training (14272 / 18000 Steps) (loss=0.41553): 100%|██████████| 7/7 [00:05<00:00,  1.35it/s]\n",
      "Training (14279 / 18000 Steps) (loss=0.48789): 100%|██████████| 7/7 [00:05<00:00,  1.28it/s]\n",
      "Training (14286 / 18000 Steps) (loss=0.37190): 100%|██████████| 7/7 [00:05<00:00,  1.34it/s]\n",
      "Training (14293 / 18000 Steps) (loss=0.37337): 100%|██████████| 7/7 [00:05<00:00,  1.28it/s]\n",
      "Validate (14294 / 10 Steps): 100%|██████████| 2/2 [00:05<00:00,  2.84s/it]<00:00,  1.82it/s]\n",
      "Training (14300 / 18000 Steps) (loss=0.45782): 100%|██████████| 7/7 [00:10<00:00,  1.56s/it]\n"
     ]
    },
    {
     "name": "stdout",
     "output_type": "stream",
     "text": [
      "Model Was Not Saved ! Current Best Avg. Dice: 0.3148769736289978 Current Avg. Dice: 0.25018376111984253 Current Avg. tumor Dice: 0.3255860209465027 Current Avg. lymph Dice: 0.17478147149085999\n"
     ]
    },
    {
     "name": "stderr",
     "output_type": "stream",
     "text": [
      "Training (14307 / 18000 Steps) (loss=0.37275): 100%|██████████| 7/7 [00:05<00:00,  1.32it/s]\n",
      "Training (14314 / 18000 Steps) (loss=0.46593): 100%|██████████| 7/7 [00:05<00:00,  1.34it/s]\n",
      "Training (14321 / 18000 Steps) (loss=0.47434): 100%|██████████| 7/7 [00:05<00:00,  1.28it/s]\n",
      "Training (14328 / 18000 Steps) (loss=0.54689): 100%|██████████| 7/7 [00:05<00:00,  1.30it/s]\n",
      "Training (14335 / 18000 Steps) (loss=0.33817): 100%|██████████| 7/7 [00:06<00:00,  1.01it/s]\n",
      "Training (14342 / 18000 Steps) (loss=0.41905): 100%|██████████| 7/7 [00:05<00:00,  1.32it/s]\n",
      "Training (14349 / 18000 Steps) (loss=0.33441): 100%|██████████| 7/7 [00:05<00:00,  1.35it/s]\n",
      "Training (14356 / 18000 Steps) (loss=0.46673): 100%|██████████| 7/7 [00:05<00:00,  1.30it/s]\n",
      "Training (14363 / 18000 Steps) (loss=0.36221): 100%|██████████| 7/7 [00:05<00:00,  1.33it/s]\n",
      "Training (14370 / 18000 Steps) (loss=0.35697): 100%|██████████| 7/7 [00:06<00:00,  1.00it/s]\n",
      "Training (14377 / 18000 Steps) (loss=0.29795): 100%|██████████| 7/7 [00:05<00:00,  1.33it/s]\n",
      "Training (14384 / 18000 Steps) (loss=0.34774): 100%|██████████| 7/7 [00:05<00:00,  1.34it/s]\n",
      "Training (14391 / 18000 Steps) (loss=0.29253): 100%|██████████| 7/7 [00:05<00:00,  1.28it/s]\n",
      "Training (14398 / 18000 Steps) (loss=0.41976): 100%|██████████| 7/7 [00:07<00:00,  1.03s/it]\n",
      "Validate (14399 / 10 Steps): 100%|██████████| 2/2 [00:06<00:00,  3.07s/it]<00:17,  2.84s/it]\n",
      "Training (14400 / 18000 Steps) (loss=0.34108):  29%|██▊       | 2/7 [00:09<00:25,  5.07s/it]"
     ]
    },
    {
     "name": "stdout",
     "output_type": "stream",
     "text": [
      "Model Was Not Saved ! Current Best Avg. Dice: 0.3148769736289978 Current Avg. Dice: 0.30145198106765747 Current Avg. tumor Dice: 0.3645065426826477 Current Avg. lymph Dice: 0.23839741945266724\n"
     ]
    },
    {
     "name": "stderr",
     "output_type": "stream",
     "text": [
      "Training (14405 / 18000 Steps) (loss=0.31987): 100%|██████████| 7/7 [00:13<00:00,  1.90s/it]\n",
      "Training (14412 / 18000 Steps) (loss=0.36631): 100%|██████████| 7/7 [00:08<00:00,  1.18s/it]\n",
      "Training (14419 / 18000 Steps) (loss=0.25623): 100%|██████████| 7/7 [00:06<00:00,  1.05it/s]\n",
      "Training (14426 / 18000 Steps) (loss=0.64121): 100%|██████████| 7/7 [00:05<00:00,  1.24it/s]\n",
      "Training (14433 / 18000 Steps) (loss=0.37090): 100%|██████████| 7/7 [00:07<00:00,  1.14s/it]\n",
      "Training (14440 / 18000 Steps) (loss=0.48619): 100%|██████████| 7/7 [00:07<00:00,  1.12s/it]\n",
      "Training (14447 / 18000 Steps) (loss=0.33753): 100%|██████████| 7/7 [00:05<00:00,  1.33it/s]\n",
      "Training (14454 / 18000 Steps) (loss=0.48445): 100%|██████████| 7/7 [00:06<00:00,  1.01it/s]\n",
      "Training (14461 / 18000 Steps) (loss=0.35846): 100%|██████████| 7/7 [00:08<00:00,  1.16s/it]\n",
      "Training (14468 / 18000 Steps) (loss=0.51139): 100%|██████████| 7/7 [00:07<00:00,  1.06s/it]\n",
      "Training (14475 / 18000 Steps) (loss=0.23914): 100%|██████████| 7/7 [00:05<00:00,  1.21it/s]\n",
      "Training (14482 / 18000 Steps) (loss=0.63702): 100%|██████████| 7/7 [00:06<00:00,  1.05it/s]\n",
      "Training (14489 / 18000 Steps) (loss=0.66846): 100%|██████████| 7/7 [00:05<00:00,  1.27it/s]\n",
      "Training (14496 / 18000 Steps) (loss=0.46766): 100%|██████████| 7/7 [00:07<00:00,  1.07s/it]\n",
      "Validate (14497 / 10 Steps): 100%|██████████| 2/2 [00:04<00:00,  2.06s/it]<00:03,  1.05it/s]\n",
      "Training (14500 / 18000 Steps) (loss=0.54460):  57%|█████▋    | 4/7 [00:08<00:07,  2.39s/it]"
     ]
    },
    {
     "name": "stdout",
     "output_type": "stream",
     "text": [
      "Model Was Not Saved ! Current Best Avg. Dice: 0.3148769736289978 Current Avg. Dice: 0.25894373655319214 Current Avg. tumor Dice: 0.2951647639274597 Current Avg. lymph Dice: 0.22272273898124695\n"
     ]
    },
    {
     "name": "stderr",
     "output_type": "stream",
     "text": [
      "Training (14503 / 18000 Steps) (loss=0.33822): 100%|██████████| 7/7 [00:09<00:00,  1.34s/it]\n",
      "Training (14510 / 18000 Steps) (loss=0.24710): 100%|██████████| 7/7 [00:05<00:00,  1.31it/s]\n",
      "Training (14517 / 18000 Steps) (loss=0.54680): 100%|██████████| 7/7 [00:05<00:00,  1.31it/s]\n",
      "Training (14524 / 18000 Steps) (loss=0.47223): 100%|██████████| 7/7 [00:07<00:00,  1.03s/it]\n",
      "Training (14531 / 18000 Steps) (loss=0.45523): 100%|██████████| 7/7 [00:05<00:00,  1.26it/s]\n",
      "Training (14538 / 18000 Steps) (loss=0.33578): 100%|██████████| 7/7 [00:05<00:00,  1.30it/s]\n",
      "Training (14545 / 18000 Steps) (loss=0.40993): 100%|██████████| 7/7 [00:05<00:00,  1.33it/s]\n",
      "Training (14552 / 18000 Steps) (loss=0.25812): 100%|██████████| 7/7 [00:05<00:00,  1.27it/s]\n",
      "Training (14559 / 18000 Steps) (loss=0.41501): 100%|██████████| 7/7 [00:07<00:00,  1.04s/it]\n",
      "Training (14566 / 18000 Steps) (loss=0.28715): 100%|██████████| 7/7 [00:05<00:00,  1.32it/s]\n",
      "Training (14573 / 18000 Steps) (loss=0.49048): 100%|██████████| 7/7 [00:05<00:00,  1.35it/s]\n",
      "Training (14580 / 18000 Steps) (loss=0.66695): 100%|██████████| 7/7 [00:05<00:00,  1.31it/s]\n",
      "Training (14587 / 18000 Steps) (loss=0.48552): 100%|██████████| 7/7 [00:05<00:00,  1.27it/s]\n",
      "Training (14594 / 18000 Steps) (loss=0.55420): 100%|██████████| 7/7 [00:06<00:00,  1.01it/s]\n",
      "Validate (14595 / 10 Steps): 100%|██████████| 2/2 [00:04<00:00,  2.25s/it]<00:01,  1.55it/s]\n",
      "Training (14600 / 18000 Steps) (loss=0.42507):  86%|████████▌ | 6/7 [00:09<00:02,  2.12s/it]"
     ]
    },
    {
     "name": "stdout",
     "output_type": "stream",
     "text": [
      "Model Was Not Saved ! Current Best Avg. Dice: 0.3148769736289978 Current Avg. Dice: 0.29304152727127075 Current Avg. tumor Dice: 0.33923816680908203 Current Avg. lymph Dice: 0.24684490263462067\n"
     ]
    },
    {
     "name": "stderr",
     "output_type": "stream",
     "text": [
      "Training (14601 / 18000 Steps) (loss=0.42086): 100%|██████████| 7/7 [00:10<00:00,  1.43s/it]\n",
      "Training (14608 / 18000 Steps) (loss=0.43531): 100%|██████████| 7/7 [00:05<00:00,  1.31it/s]\n",
      "Training (14615 / 18000 Steps) (loss=0.52408): 100%|██████████| 7/7 [00:05<00:00,  1.37it/s]\n",
      "Training (14622 / 18000 Steps) (loss=0.53901): 100%|██████████| 7/7 [00:07<00:00,  1.05s/it]\n",
      "Training (14629 / 18000 Steps) (loss=0.22162): 100%|██████████| 7/7 [00:05<00:00,  1.32it/s]\n",
      "Training (14636 / 18000 Steps) (loss=0.37777): 100%|██████████| 7/7 [00:05<00:00,  1.31it/s]\n",
      "Training (14643 / 18000 Steps) (loss=0.46155): 100%|██████████| 7/7 [00:05<00:00,  1.34it/s]\n",
      "Training (14650 / 18000 Steps) (loss=0.43789): 100%|██████████| 7/7 [00:05<00:00,  1.20it/s]\n",
      "Training (14657 / 18000 Steps) (loss=0.30957): 100%|██████████| 7/7 [00:07<00:00,  1.07s/it]\n",
      "Training (14664 / 18000 Steps) (loss=0.47269): 100%|██████████| 7/7 [00:05<00:00,  1.27it/s]\n",
      "Training (14671 / 18000 Steps) (loss=0.52551): 100%|██████████| 7/7 [00:05<00:00,  1.34it/s]\n",
      "Training (14678 / 18000 Steps) (loss=0.40578): 100%|██████████| 7/7 [00:05<00:00,  1.28it/s]\n",
      "Training (14685 / 18000 Steps) (loss=0.62139): 100%|██████████| 7/7 [00:05<00:00,  1.32it/s]\n",
      "Training (14692 / 18000 Steps) (loss=0.17732): 100%|██████████| 7/7 [00:06<00:00,  1.03it/s]\n",
      "Training (14699 / 18000 Steps) (loss=0.26274): 100%|██████████| 7/7 [00:05<00:00,  1.38it/s]\n",
      "Validate (14700 / 10 Steps): 100%|██████████| 2/2 [00:04<00:00,  2.01s/it]<?, ?it/s]\n",
      "Training (14700 / 18000 Steps) (loss=0.57893):  14%|█▍        | 1/7 [00:06<00:41,  6.84s/it]"
     ]
    },
    {
     "name": "stdout",
     "output_type": "stream",
     "text": [
      "Model Was Not Saved ! Current Best Avg. Dice: 0.3148769736289978 Current Avg. Dice: 0.2833794355392456 Current Avg. tumor Dice: 0.32042089104652405 Current Avg. lymph Dice: 0.24633798003196716\n"
     ]
    },
    {
     "name": "stderr",
     "output_type": "stream",
     "text": [
      "Training (14706 / 18000 Steps) (loss=0.48063): 100%|██████████| 7/7 [00:09<00:00,  1.32s/it]\n",
      "Training (14713 / 18000 Steps) (loss=0.36877): 100%|██████████| 7/7 [00:05<00:00,  1.24it/s]\n",
      "Training (14720 / 18000 Steps) (loss=0.60044): 100%|██████████| 7/7 [00:07<00:00,  1.05s/it]\n",
      "Training (14727 / 18000 Steps) (loss=0.38199): 100%|██████████| 7/7 [00:05<00:00,  1.35it/s]\n",
      "Training (14734 / 18000 Steps) (loss=0.55747): 100%|██████████| 7/7 [00:05<00:00,  1.37it/s]\n",
      "Training (14741 / 18000 Steps) (loss=0.29966): 100%|██████████| 7/7 [00:05<00:00,  1.34it/s]\n",
      "Training (14748 / 18000 Steps) (loss=0.37392): 100%|██████████| 7/7 [00:05<00:00,  1.35it/s]\n",
      "Training (14755 / 18000 Steps) (loss=0.40230): 100%|██████████| 7/7 [00:06<00:00,  1.06it/s]\n",
      "Training (14762 / 18000 Steps) (loss=0.14700): 100%|██████████| 7/7 [00:05<00:00,  1.34it/s]\n",
      "Training (14769 / 18000 Steps) (loss=0.36188): 100%|██████████| 7/7 [00:05<00:00,  1.34it/s]\n",
      "Training (14776 / 18000 Steps) (loss=0.52698): 100%|██████████| 7/7 [00:05<00:00,  1.33it/s]\n",
      "Training (14783 / 18000 Steps) (loss=0.24286): 100%|██████████| 7/7 [00:05<00:00,  1.24it/s]\n",
      "Training (14790 / 18000 Steps) (loss=0.34204): 100%|██████████| 7/7 [00:07<00:00,  1.11s/it]\n",
      "Training (14797 / 18000 Steps) (loss=0.35505): 100%|██████████| 7/7 [00:05<00:00,  1.34it/s]\n",
      "Validate (14798 / 10 Steps): 100%|██████████| 2/2 [00:04<00:00,  2.03s/it]<00:07,  1.52s/it]\n",
      "Training (14800 / 18000 Steps) (loss=0.30902):  43%|████▎     | 3/7 [00:08<00:11,  2.88s/it]"
     ]
    },
    {
     "name": "stdout",
     "output_type": "stream",
     "text": [
      "Model Was Not Saved ! Current Best Avg. Dice: 0.3148769736289978 Current Avg. Dice: 0.28013861179351807 Current Avg. tumor Dice: 0.33311164379119873 Current Avg. lymph Dice: 0.2271655797958374\n"
     ]
    },
    {
     "name": "stderr",
     "output_type": "stream",
     "text": [
      "Training (14804 / 18000 Steps) (loss=0.24308): 100%|██████████| 7/7 [00:09<00:00,  1.37s/it]\n",
      "Training (14811 / 18000 Steps) (loss=0.46811): 100%|██████████| 7/7 [00:05<00:00,  1.29it/s]\n",
      "Training (14818 / 18000 Steps) (loss=0.58660): 100%|██████████| 7/7 [00:06<00:00,  1.07it/s]\n",
      "Training (14825 / 18000 Steps) (loss=0.48025): 100%|██████████| 7/7 [00:05<00:00,  1.32it/s]\n",
      "Training (14832 / 18000 Steps) (loss=0.41146): 100%|██████████| 7/7 [00:05<00:00,  1.37it/s]\n",
      "Training (14839 / 18000 Steps) (loss=0.24361): 100%|██████████| 7/7 [00:05<00:00,  1.35it/s]\n",
      "Training (14846 / 18000 Steps) (loss=0.18276): 100%|██████████| 7/7 [00:05<00:00,  1.28it/s]\n",
      "Training (14853 / 18000 Steps) (loss=0.31743): 100%|██████████| 7/7 [00:07<00:00,  1.01s/it]\n",
      "Training (14860 / 18000 Steps) (loss=0.55089): 100%|██████████| 7/7 [00:05<00:00,  1.30it/s]\n",
      "Training (14867 / 18000 Steps) (loss=0.54670): 100%|██████████| 7/7 [00:05<00:00,  1.38it/s]\n",
      "Training (14874 / 18000 Steps) (loss=0.55201): 100%|██████████| 7/7 [00:05<00:00,  1.36it/s]\n",
      "Training (14881 / 18000 Steps) (loss=0.42049): 100%|██████████| 7/7 [00:05<00:00,  1.24it/s]\n",
      "Training (14888 / 18000 Steps) (loss=0.35322): 100%|██████████| 7/7 [00:06<00:00,  1.11it/s]\n",
      "Training (14895 / 18000 Steps) (loss=0.37803): 100%|██████████| 7/7 [00:05<00:00,  1.36it/s]\n",
      "Validate (14896 / 10 Steps): 100%|██████████| 2/2 [00:04<00:00,  2.05s/it]<00:02,  1.31it/s]\n",
      "Training (14900 / 18000 Steps) (loss=0.27890):  71%|███████▏  | 5/7 [00:08<00:04,  2.13s/it]"
     ]
    },
    {
     "name": "stdout",
     "output_type": "stream",
     "text": [
      "Model Was Not Saved ! Current Best Avg. Dice: 0.3148769736289978 Current Avg. Dice: 0.2935978174209595 Current Avg. tumor Dice: 0.33254364132881165 Current Avg. lymph Dice: 0.2546519935131073\n"
     ]
    },
    {
     "name": "stderr",
     "output_type": "stream",
     "text": [
      "Training (14902 / 18000 Steps) (loss=0.18353): 100%|██████████| 7/7 [00:09<00:00,  1.36s/it]\n",
      "Training (14909 / 18000 Steps) (loss=0.51243): 100%|██████████| 7/7 [00:05<00:00,  1.24it/s]\n",
      "Training (14916 / 18000 Steps) (loss=0.44656): 100%|██████████| 7/7 [00:07<00:00,  1.02s/it]\n",
      "Training (14923 / 18000 Steps) (loss=0.21771): 100%|██████████| 7/7 [00:05<00:00,  1.27it/s]\n",
      "Training (14930 / 18000 Steps) (loss=0.49456): 100%|██████████| 7/7 [00:05<00:00,  1.31it/s]\n",
      "Training (14937 / 18000 Steps) (loss=0.34735): 100%|██████████| 7/7 [00:05<00:00,  1.36it/s]\n",
      "Training (14944 / 18000 Steps) (loss=0.47094): 100%|██████████| 7/7 [00:05<00:00,  1.38it/s]\n",
      "Training (14951 / 18000 Steps) (loss=0.41797): 100%|██████████| 7/7 [00:06<00:00,  1.04it/s]\n",
      "Training (14958 / 18000 Steps) (loss=0.45119): 100%|██████████| 7/7 [00:05<00:00,  1.31it/s]\n",
      "Training (14965 / 18000 Steps) (loss=0.31202): 100%|██████████| 7/7 [00:05<00:00,  1.32it/s]\n",
      "Training (14972 / 18000 Steps) (loss=0.22186): 100%|██████████| 7/7 [00:05<00:00,  1.34it/s]\n",
      "Training (14979 / 18000 Steps) (loss=0.54821): 100%|██████████| 7/7 [00:05<00:00,  1.27it/s]\n",
      "Training (14986 / 18000 Steps) (loss=0.14604): 100%|██████████| 7/7 [00:07<00:00,  1.09s/it]\n",
      "Training (14993 / 18000 Steps) (loss=0.30990): 100%|██████████| 7/7 [00:05<00:00,  1.27it/s]\n",
      "Validate (14994 / 10 Steps): 100%|██████████| 2/2 [00:04<00:00,  2.09s/it]<00:00,  1.81it/s]\n",
      "Training (15000 / 18000 Steps) (loss=0.33571): 100%|██████████| 7/7 [00:09<00:00,  1.34s/it]\n"
     ]
    },
    {
     "name": "stdout",
     "output_type": "stream",
     "text": [
      "Model Was Not Saved ! Current Best Avg. Dice: 0.3148769736289978 Current Avg. Dice: 0.29065510630607605 Current Avg. tumor Dice: 0.32411646842956543 Current Avg. lymph Dice: 0.25719374418258667\n"
     ]
    },
    {
     "name": "stderr",
     "output_type": "stream",
     "text": [
      "Training (15007 / 18000 Steps) (loss=0.47141): 100%|██████████| 7/7 [00:05<00:00,  1.31it/s]\n",
      "Training (15014 / 18000 Steps) (loss=0.38514): 100%|██████████| 7/7 [00:07<00:00,  1.02s/it]\n",
      "Training (15021 / 18000 Steps) (loss=0.26978): 100%|██████████| 7/7 [00:05<00:00,  1.33it/s]\n",
      "Training (15028 / 18000 Steps) (loss=0.49563): 100%|██████████| 7/7 [00:05<00:00,  1.34it/s]\n",
      "Training (15035 / 18000 Steps) (loss=0.34442): 100%|██████████| 7/7 [00:05<00:00,  1.32it/s]\n",
      "Training (15042 / 18000 Steps) (loss=0.49673): 100%|██████████| 7/7 [00:05<00:00,  1.28it/s]\n",
      "Training (15049 / 18000 Steps) (loss=0.41135): 100%|██████████| 7/7 [00:06<00:00,  1.03it/s]\n",
      "Training (15056 / 18000 Steps) (loss=0.47918): 100%|██████████| 7/7 [00:05<00:00,  1.31it/s]\n",
      "Training (15063 / 18000 Steps) (loss=0.42169): 100%|██████████| 7/7 [00:05<00:00,  1.34it/s]\n",
      "Training (15070 / 18000 Steps) (loss=0.40473): 100%|██████████| 7/7 [00:05<00:00,  1.31it/s]\n",
      "Training (15077 / 18000 Steps) (loss=0.44189): 100%|██████████| 7/7 [00:05<00:00,  1.31it/s]\n",
      "Training (15084 / 18000 Steps) (loss=0.48041): 100%|██████████| 7/7 [00:07<00:00,  1.02s/it]\n",
      "Training (15091 / 18000 Steps) (loss=0.39928): 100%|██████████| 7/7 [00:05<00:00,  1.32it/s]\n",
      "Training (15098 / 18000 Steps) (loss=0.27234): 100%|██████████| 7/7 [00:05<00:00,  1.30it/s]\n",
      "Validate (15099 / 10 Steps): 100%|██████████| 2/2 [00:04<00:00,  2.08s/it]<00:17,  2.95s/it]\n",
      "Training (15100 / 18000 Steps) (loss=0.49545):  29%|██▊       | 2/7 [00:07<00:19,  3.93s/it]"
     ]
    },
    {
     "name": "stdout",
     "output_type": "stream",
     "text": [
      "Model Was Not Saved ! Current Best Avg. Dice: 0.3148769736289978 Current Avg. Dice: 0.2799490690231323 Current Avg. tumor Dice: 0.31739047169685364 Current Avg. lymph Dice: 0.2425076812505722\n"
     ]
    },
    {
     "name": "stderr",
     "output_type": "stream",
     "text": [
      "Training (15105 / 18000 Steps) (loss=0.38072): 100%|██████████| 7/7 [00:09<00:00,  1.39s/it]\n",
      "Training (15112 / 18000 Steps) (loss=0.53647): 100%|██████████| 7/7 [00:07<00:00,  1.01s/it]\n",
      "Training (15119 / 18000 Steps) (loss=0.39655): 100%|██████████| 7/7 [00:05<00:00,  1.30it/s]\n",
      "Training (15126 / 18000 Steps) (loss=0.48747): 100%|██████████| 7/7 [00:05<00:00,  1.35it/s]\n",
      "Training (15133 / 18000 Steps) (loss=0.32250): 100%|██████████| 7/7 [00:05<00:00,  1.30it/s]\n",
      "Training (15140 / 18000 Steps) (loss=0.54508): 100%|██████████| 7/7 [00:05<00:00,  1.39it/s]\n",
      "Training (15147 / 18000 Steps) (loss=0.51276): 100%|██████████| 7/7 [00:07<00:00,  1.07s/it]\n",
      "Training (15154 / 18000 Steps) (loss=0.32696): 100%|██████████| 7/7 [00:05<00:00,  1.36it/s]\n",
      "Training (15161 / 18000 Steps) (loss=0.59676): 100%|██████████| 7/7 [00:05<00:00,  1.37it/s]\n",
      "Training (15168 / 18000 Steps) (loss=0.55273): 100%|██████████| 7/7 [00:05<00:00,  1.33it/s]\n",
      "Training (15175 / 18000 Steps) (loss=0.44423): 100%|██████████| 7/7 [00:05<00:00,  1.28it/s]\n",
      "Training (15182 / 18000 Steps) (loss=0.40335): 100%|██████████| 7/7 [00:07<00:00,  1.06s/it]\n",
      "Training (15189 / 18000 Steps) (loss=0.52118): 100%|██████████| 7/7 [00:05<00:00,  1.28it/s]\n",
      "Training (15196 / 18000 Steps) (loss=0.25407): 100%|██████████| 7/7 [00:05<00:00,  1.36it/s]\n",
      "Validate (15197 / 10 Steps): 100%|██████████| 2/2 [00:04<00:00,  2.05s/it]<00:03,  1.05it/s]\n",
      "Training (15200 / 18000 Steps) (loss=0.50490):  57%|█████▋    | 4/7 [00:08<00:07,  2.38s/it]"
     ]
    },
    {
     "name": "stdout",
     "output_type": "stream",
     "text": [
      "Model Was Not Saved ! Current Best Avg. Dice: 0.3148769736289978 Current Avg. Dice: 0.29791194200515747 Current Avg. tumor Dice: 0.3450469672679901 Current Avg. lymph Dice: 0.25077691674232483\n"
     ]
    },
    {
     "name": "stderr",
     "output_type": "stream",
     "text": [
      "Training (15203 / 18000 Steps) (loss=0.51711): 100%|██████████| 7/7 [00:09<00:00,  1.34s/it]\n",
      "Training (15210 / 18000 Steps) (loss=0.66679): 100%|██████████| 7/7 [00:07<00:00,  1.07s/it]\n",
      "Training (15217 / 18000 Steps) (loss=0.30069): 100%|██████████| 7/7 [00:05<00:00,  1.33it/s]\n",
      "Training (15224 / 18000 Steps) (loss=0.34003): 100%|██████████| 7/7 [00:05<00:00,  1.32it/s]\n",
      "Training (15231 / 18000 Steps) (loss=0.43934): 100%|██████████| 7/7 [00:05<00:00,  1.31it/s]\n",
      "Training (15238 / 18000 Steps) (loss=0.38741): 100%|██████████| 7/7 [00:05<00:00,  1.35it/s]\n",
      "Training (15245 / 18000 Steps) (loss=0.55632): 100%|██████████| 7/7 [00:05<00:00,  1.36it/s]\n",
      "Training (15252 / 18000 Steps) (loss=0.22859): 100%|██████████| 7/7 [00:05<00:00,  1.39it/s]\n",
      "Training (15259 / 18000 Steps) (loss=0.51673): 100%|██████████| 7/7 [00:05<00:00,  1.32it/s]\n",
      "Training (15266 / 18000 Steps) (loss=0.43522): 100%|██████████| 7/7 [00:05<00:00,  1.32it/s]\n",
      "Training (15273 / 18000 Steps) (loss=0.44977): 100%|██████████| 7/7 [00:05<00:00,  1.36it/s]\n",
      "Training (15280 / 18000 Steps) (loss=0.40760): 100%|██████████| 7/7 [00:05<00:00,  1.33it/s]\n",
      "Training (15287 / 18000 Steps) (loss=0.31731): 100%|██████████| 7/7 [00:05<00:00,  1.36it/s]\n",
      "Training (15294 / 18000 Steps) (loss=0.44696): 100%|██████████| 7/7 [00:05<00:00,  1.31it/s]\n",
      "Validate (15295 / 10 Steps): 100%|██████████| 2/2 [00:04<00:00,  2.05s/it]<00:01,  1.60it/s]\n",
      "Training (15300 / 18000 Steps) (loss=0.32713):  86%|████████▌ | 6/7 [00:09<00:01,  1.96s/it]"
     ]
    },
    {
     "name": "stdout",
     "output_type": "stream",
     "text": [
      "Model Was Not Saved ! Current Best Avg. Dice: 0.3148769736289978 Current Avg. Dice: 0.2750754952430725 Current Avg. tumor Dice: 0.3430020809173584 Current Avg. lymph Dice: 0.20714887976646423\n"
     ]
    },
    {
     "name": "stderr",
     "output_type": "stream",
     "text": [
      "Training (15301 / 18000 Steps) (loss=0.43532): 100%|██████████| 7/7 [00:09<00:00,  1.34s/it]\n",
      "Training (15308 / 18000 Steps) (loss=0.45142): 100%|██████████| 7/7 [00:05<00:00,  1.28it/s]\n",
      "Training (15315 / 18000 Steps) (loss=0.26027): 100%|██████████| 7/7 [00:05<00:00,  1.35it/s]\n",
      "Training (15322 / 18000 Steps) (loss=0.42654): 100%|██████████| 7/7 [00:05<00:00,  1.29it/s]\n",
      "Training (15329 / 18000 Steps) (loss=0.62318): 100%|██████████| 7/7 [00:05<00:00,  1.31it/s]\n",
      "Training (15336 / 18000 Steps) (loss=0.42625): 100%|██████████| 7/7 [00:05<00:00,  1.28it/s]\n",
      "Training (15343 / 18000 Steps) (loss=0.39949): 100%|██████████| 7/7 [00:05<00:00,  1.36it/s]\n",
      "Training (15350 / 18000 Steps) (loss=0.13896): 100%|██████████| 7/7 [00:05<00:00,  1.31it/s]\n",
      "Training (15357 / 18000 Steps) (loss=0.40591): 100%|██████████| 7/7 [00:05<00:00,  1.34it/s]\n",
      "Training (15364 / 18000 Steps) (loss=0.56276): 100%|██████████| 7/7 [00:05<00:00,  1.30it/s]\n",
      "Training (15371 / 18000 Steps) (loss=0.29143): 100%|██████████| 7/7 [00:05<00:00,  1.29it/s]\n",
      "Training (15378 / 18000 Steps) (loss=0.41810): 100%|██████████| 7/7 [00:05<00:00,  1.35it/s]\n",
      "Training (15385 / 18000 Steps) (loss=0.45207): 100%|██████████| 7/7 [00:05<00:00,  1.32it/s]\n",
      "Training (15392 / 18000 Steps) (loss=0.25483): 100%|██████████| 7/7 [00:05<00:00,  1.30it/s]\n",
      "Training (15399 / 18000 Steps) (loss=0.55633): 100%|██████████| 7/7 [00:05<00:00,  1.32it/s]\n",
      "Validate (15400 / 10 Steps): 100%|██████████| 2/2 [00:04<00:00,  2.05s/it]<?, ?it/s]\n",
      "Training (15400 / 18000 Steps) (loss=0.38121):  14%|█▍        | 1/7 [00:06<00:41,  6.93s/it]"
     ]
    },
    {
     "name": "stdout",
     "output_type": "stream",
     "text": [
      "Model Was Not Saved ! Current Best Avg. Dice: 0.3148769736289978 Current Avg. Dice: 0.26826244592666626 Current Avg. tumor Dice: 0.3290349543094635 Current Avg. lymph Dice: 0.20748993754386902\n"
     ]
    },
    {
     "name": "stderr",
     "output_type": "stream",
     "text": [
      "Training (15406 / 18000 Steps) (loss=0.35495): 100%|██████████| 7/7 [00:09<00:00,  1.33s/it]\n",
      "Training (15413 / 18000 Steps) (loss=0.61358): 100%|██████████| 7/7 [00:05<00:00,  1.32it/s]\n",
      "Training (15420 / 18000 Steps) (loss=0.55167): 100%|██████████| 7/7 [00:05<00:00,  1.32it/s]\n",
      "Training (15427 / 18000 Steps) (loss=0.44440): 100%|██████████| 7/7 [00:05<00:00,  1.35it/s]\n",
      "Training (15434 / 18000 Steps) (loss=0.25832): 100%|██████████| 7/7 [00:05<00:00,  1.30it/s]\n",
      "Training (15441 / 18000 Steps) (loss=0.34051): 100%|██████████| 7/7 [00:05<00:00,  1.29it/s]\n",
      "Training (15448 / 18000 Steps) (loss=0.47783): 100%|██████████| 7/7 [00:05<00:00,  1.37it/s]\n",
      "Training (15455 / 18000 Steps) (loss=0.41337): 100%|██████████| 7/7 [00:05<00:00,  1.36it/s]\n",
      "Training (15462 / 18000 Steps) (loss=0.54562): 100%|██████████| 7/7 [00:05<00:00,  1.36it/s]\n",
      "Training (15469 / 18000 Steps) (loss=0.66707): 100%|██████████| 7/7 [00:05<00:00,  1.36it/s]\n",
      "Training (15476 / 18000 Steps) (loss=0.39654): 100%|██████████| 7/7 [00:05<00:00,  1.39it/s]\n",
      "Training (15483 / 18000 Steps) (loss=0.45099): 100%|██████████| 7/7 [00:05<00:00,  1.36it/s]\n",
      "Training (15490 / 18000 Steps) (loss=0.42741): 100%|██████████| 7/7 [00:05<00:00,  1.37it/s]\n",
      "Training (15497 / 18000 Steps) (loss=0.29823): 100%|██████████| 7/7 [00:05<00:00,  1.37it/s]\n",
      "Validate (15498 / 10 Steps): 100%|██████████| 2/2 [00:04<00:00,  2.02s/it]<00:07,  1.44s/it]\n",
      "Training (15500 / 18000 Steps) (loss=0.33566):  43%|████▎     | 3/7 [00:07<00:11,  2.84s/it]"
     ]
    },
    {
     "name": "stdout",
     "output_type": "stream",
     "text": [
      "Model Was Not Saved ! Current Best Avg. Dice: 0.3148769736289978 Current Avg. Dice: 0.26014187932014465 Current Avg. tumor Dice: 0.33236363530158997 Current Avg. lymph Dice: 0.18792013823986053\n"
     ]
    },
    {
     "name": "stderr",
     "output_type": "stream",
     "text": [
      "Training (15504 / 18000 Steps) (loss=0.31007): 100%|██████████| 7/7 [00:09<00:00,  1.34s/it]\n",
      "Training (15511 / 18000 Steps) (loss=0.42019): 100%|██████████| 7/7 [00:05<00:00,  1.38it/s]\n",
      "Training (15518 / 18000 Steps) (loss=0.30676): 100%|██████████| 7/7 [00:05<00:00,  1.36it/s]\n",
      "Training (15525 / 18000 Steps) (loss=0.31697): 100%|██████████| 7/7 [00:05<00:00,  1.34it/s]\n",
      "Training (15532 / 18000 Steps) (loss=0.36144): 100%|██████████| 7/7 [00:05<00:00,  1.34it/s]\n",
      "Training (15539 / 18000 Steps) (loss=0.25451): 100%|██████████| 7/7 [00:05<00:00,  1.34it/s]\n",
      "Training (15546 / 18000 Steps) (loss=0.57722): 100%|██████████| 7/7 [00:05<00:00,  1.30it/s]\n",
      "Training (15553 / 18000 Steps) (loss=0.39641): 100%|██████████| 7/7 [00:05<00:00,  1.33it/s]\n",
      "Training (15560 / 18000 Steps) (loss=0.27223): 100%|██████████| 7/7 [00:05<00:00,  1.35it/s]\n",
      "Training (15567 / 18000 Steps) (loss=0.59533): 100%|██████████| 7/7 [00:05<00:00,  1.30it/s]\n",
      "Training (15574 / 18000 Steps) (loss=0.25565): 100%|██████████| 7/7 [00:05<00:00,  1.36it/s]\n",
      "Training (15581 / 18000 Steps) (loss=0.36595): 100%|██████████| 7/7 [00:05<00:00,  1.30it/s]\n",
      "Training (15588 / 18000 Steps) (loss=0.42670): 100%|██████████| 7/7 [00:05<00:00,  1.33it/s]\n",
      "Training (15595 / 18000 Steps) (loss=0.51865): 100%|██████████| 7/7 [00:05<00:00,  1.34it/s]\n",
      "Validate (15596 / 10 Steps): 100%|██████████| 2/2 [00:04<00:00,  2.00s/it]<00:02,  1.36it/s]\n",
      "Training (15600 / 18000 Steps) (loss=0.35940):  71%|███████▏  | 5/7 [00:08<00:04,  2.09s/it]"
     ]
    },
    {
     "name": "stdout",
     "output_type": "stream",
     "text": [
      "Model Was Not Saved ! Current Best Avg. Dice: 0.3148769736289978 Current Avg. Dice: 0.30394789576530457 Current Avg. tumor Dice: 0.3473703861236572 Current Avg. lymph Dice: 0.2605254650115967\n"
     ]
    },
    {
     "name": "stderr",
     "output_type": "stream",
     "text": [
      "Training (15602 / 18000 Steps) (loss=0.49573): 100%|██████████| 7/7 [00:09<00:00,  1.32s/it]\n",
      "Training (15609 / 18000 Steps) (loss=0.23605): 100%|██████████| 7/7 [00:05<00:00,  1.34it/s]\n",
      "Training (15616 / 18000 Steps) (loss=0.36098): 100%|██████████| 7/7 [00:05<00:00,  1.37it/s]\n",
      "Training (15623 / 18000 Steps) (loss=0.31452): 100%|██████████| 7/7 [00:05<00:00,  1.39it/s]\n",
      "Training (15630 / 18000 Steps) (loss=0.56125): 100%|██████████| 7/7 [00:05<00:00,  1.32it/s]\n",
      "Training (15637 / 18000 Steps) (loss=0.58885): 100%|██████████| 7/7 [00:05<00:00,  1.31it/s]\n",
      "Training (15644 / 18000 Steps) (loss=0.55348): 100%|██████████| 7/7 [00:05<00:00,  1.35it/s]\n",
      "Training (15651 / 18000 Steps) (loss=0.44270): 100%|██████████| 7/7 [00:05<00:00,  1.31it/s]\n",
      "Training (15658 / 18000 Steps) (loss=0.19594): 100%|██████████| 7/7 [00:05<00:00,  1.36it/s]\n",
      "Training (15665 / 18000 Steps) (loss=0.27757): 100%|██████████| 7/7 [00:05<00:00,  1.37it/s]\n",
      "Training (15672 / 18000 Steps) (loss=0.40257): 100%|██████████| 7/7 [00:05<00:00,  1.38it/s]\n",
      "Training (15679 / 18000 Steps) (loss=0.47989): 100%|██████████| 7/7 [00:05<00:00,  1.28it/s]\n",
      "Training (15686 / 18000 Steps) (loss=0.53198): 100%|██████████| 7/7 [00:05<00:00,  1.30it/s]\n",
      "Training (15693 / 18000 Steps) (loss=0.41978): 100%|██████████| 7/7 [00:05<00:00,  1.33it/s]\n",
      "Validate (15694 / 10 Steps): 100%|██████████| 2/2 [00:04<00:00,  2.02s/it]<00:00,  1.79it/s]\n",
      "Training (15700 / 18000 Steps) (loss=0.44538): 100%|██████████| 7/7 [00:09<00:00,  1.34s/it]\n"
     ]
    },
    {
     "name": "stdout",
     "output_type": "stream",
     "text": [
      "Model Was Not Saved ! Current Best Avg. Dice: 0.3148769736289978 Current Avg. Dice: 0.2723125219345093 Current Avg. tumor Dice: 0.32673534750938416 Current Avg. lymph Dice: 0.21788965165615082\n"
     ]
    },
    {
     "name": "stderr",
     "output_type": "stream",
     "text": [
      "Training (15707 / 18000 Steps) (loss=0.60255): 100%|██████████| 7/7 [00:05<00:00,  1.36it/s]\n",
      "Training (15714 / 18000 Steps) (loss=0.19601): 100%|██████████| 7/7 [00:05<00:00,  1.31it/s]\n",
      "Training (15721 / 18000 Steps) (loss=0.27142): 100%|██████████| 7/7 [00:05<00:00,  1.38it/s]\n",
      "Training (15728 / 18000 Steps) (loss=0.29019): 100%|██████████| 7/7 [00:05<00:00,  1.32it/s]\n",
      "Training (15735 / 18000 Steps) (loss=0.40109): 100%|██████████| 7/7 [00:05<00:00,  1.36it/s]\n",
      "Training (15742 / 18000 Steps) (loss=0.35744): 100%|██████████| 7/7 [00:05<00:00,  1.29it/s]\n",
      "Training (15749 / 18000 Steps) (loss=0.22418): 100%|██████████| 7/7 [00:05<00:00,  1.32it/s]\n",
      "Training (15756 / 18000 Steps) (loss=0.21899): 100%|██████████| 7/7 [00:05<00:00,  1.29it/s]\n",
      "Training (15763 / 18000 Steps) (loss=0.34498): 100%|██████████| 7/7 [00:05<00:00,  1.35it/s]\n",
      "Training (15770 / 18000 Steps) (loss=0.47016): 100%|██████████| 7/7 [00:05<00:00,  1.34it/s]\n",
      "Training (15777 / 18000 Steps) (loss=0.43877): 100%|██████████| 7/7 [00:05<00:00,  1.33it/s]\n",
      "Training (15784 / 18000 Steps) (loss=0.38418): 100%|██████████| 7/7 [00:05<00:00,  1.35it/s]\n",
      "Training (15791 / 18000 Steps) (loss=0.42169): 100%|██████████| 7/7 [00:05<00:00,  1.36it/s]\n",
      "Training (15798 / 18000 Steps) (loss=0.43941): 100%|██████████| 7/7 [00:05<00:00,  1.30it/s]\n",
      "Validate (15799 / 10 Steps): 100%|██████████| 2/2 [00:04<00:00,  2.02s/it]<00:18,  3.00s/it]\n",
      "Training (15800 / 18000 Steps) (loss=0.32282):  29%|██▊       | 2/7 [00:07<00:19,  3.89s/it]"
     ]
    },
    {
     "name": "stdout",
     "output_type": "stream",
     "text": [
      "Model Was Not Saved ! Current Best Avg. Dice: 0.3148769736289978 Current Avg. Dice: 0.3086145520210266 Current Avg. tumor Dice: 0.331971675157547 Current Avg. lymph Dice: 0.28525739908218384\n"
     ]
    },
    {
     "name": "stderr",
     "output_type": "stream",
     "text": [
      "Training (15805 / 18000 Steps) (loss=0.37806): 100%|██████████| 7/7 [00:09<00:00,  1.35s/it]\n",
      "Training (15812 / 18000 Steps) (loss=0.15451): 100%|██████████| 7/7 [00:05<00:00,  1.38it/s]\n",
      "Training (15819 / 18000 Steps) (loss=0.29643): 100%|██████████| 7/7 [00:05<00:00,  1.33it/s]\n",
      "Training (15826 / 18000 Steps) (loss=0.48131): 100%|██████████| 7/7 [00:05<00:00,  1.35it/s]\n",
      "Training (15833 / 18000 Steps) (loss=0.27089): 100%|██████████| 7/7 [00:05<00:00,  1.32it/s]\n",
      "Training (15840 / 18000 Steps) (loss=0.38348): 100%|██████████| 7/7 [00:05<00:00,  1.39it/s]\n",
      "Training (15847 / 18000 Steps) (loss=0.20752): 100%|██████████| 7/7 [00:05<00:00,  1.35it/s]\n",
      "Training (15854 / 18000 Steps) (loss=0.47024): 100%|██████████| 7/7 [00:05<00:00,  1.31it/s]\n",
      "Training (15861 / 18000 Steps) (loss=0.37350): 100%|██████████| 7/7 [00:05<00:00,  1.33it/s]\n",
      "Training (15868 / 18000 Steps) (loss=0.39167): 100%|██████████| 7/7 [00:05<00:00,  1.32it/s]\n",
      "Training (15875 / 18000 Steps) (loss=0.33120): 100%|██████████| 7/7 [00:05<00:00,  1.36it/s]\n",
      "Training (15882 / 18000 Steps) (loss=0.42140): 100%|██████████| 7/7 [00:05<00:00,  1.29it/s]\n",
      "Training (15889 / 18000 Steps) (loss=0.20474): 100%|██████████| 7/7 [00:05<00:00,  1.36it/s]\n",
      "Training (15896 / 18000 Steps) (loss=0.41046): 100%|██████████| 7/7 [00:05<00:00,  1.31it/s]\n",
      "Validate (15897 / 10 Steps): 100%|██████████| 2/2 [00:04<00:00,  2.02s/it]<00:03,  1.04it/s]\n",
      "Training (15900 / 18000 Steps) (loss=0.31262):  57%|█████▋    | 4/7 [00:08<00:07,  2.65s/it]"
     ]
    },
    {
     "name": "stdout",
     "output_type": "stream",
     "text": [
      "Model Was Saved ! Current Best Avg. Dice: 0.3172563314437866 Current Avg. Dice: 0.3172563314437866 Current Avg. tumor Dice: 0.35986214876174927 Current Avg. lymph Dice: 0.27465054392814636\n"
     ]
    },
    {
     "name": "stderr",
     "output_type": "stream",
     "text": [
      "Training (15903 / 18000 Steps) (loss=0.15759): 100%|██████████| 7/7 [00:10<00:00,  1.44s/it]\n",
      "Training (15910 / 18000 Steps) (loss=0.42045): 100%|██████████| 7/7 [00:05<00:00,  1.34it/s]\n",
      "Training (15917 / 18000 Steps) (loss=0.43378): 100%|██████████| 7/7 [00:05<00:00,  1.28it/s]\n",
      "Training (15924 / 18000 Steps) (loss=0.48750): 100%|██████████| 7/7 [00:05<00:00,  1.39it/s]\n",
      "Training (15931 / 18000 Steps) (loss=0.31497): 100%|██████████| 7/7 [00:05<00:00,  1.36it/s]\n",
      "Training (15938 / 18000 Steps) (loss=0.49131): 100%|██████████| 7/7 [00:05<00:00,  1.35it/s]\n",
      "Training (15945 / 18000 Steps) (loss=0.40913): 100%|██████████| 7/7 [00:05<00:00,  1.37it/s]\n",
      "Training (15952 / 18000 Steps) (loss=0.54488): 100%|██████████| 7/7 [00:05<00:00,  1.32it/s]\n",
      "Training (15959 / 18000 Steps) (loss=0.66682): 100%|██████████| 7/7 [00:05<00:00,  1.35it/s]\n",
      "Training (15966 / 18000 Steps) (loss=0.40483): 100%|██████████| 7/7 [00:05<00:00,  1.37it/s]\n",
      "Training (15973 / 18000 Steps) (loss=0.56068): 100%|██████████| 7/7 [00:05<00:00,  1.31it/s]\n",
      "Training (15980 / 18000 Steps) (loss=0.25615): 100%|██████████| 7/7 [00:05<00:00,  1.36it/s]\n",
      "Training (15987 / 18000 Steps) (loss=0.52569): 100%|██████████| 7/7 [00:05<00:00,  1.29it/s]\n",
      "Training (15994 / 18000 Steps) (loss=0.26623): 100%|██████████| 7/7 [00:05<00:00,  1.36it/s]\n",
      "Validate (15995 / 10 Steps): 100%|██████████| 2/2 [00:04<00:00,  2.05s/it]<00:01,  1.59it/s]\n",
      "Training (16000 / 18000 Steps) (loss=0.38704):  86%|████████▌ | 6/7 [00:09<00:01,  1.97s/it]"
     ]
    },
    {
     "name": "stdout",
     "output_type": "stream",
     "text": [
      "Model Was Not Saved ! Current Best Avg. Dice: 0.3172563314437866 Current Avg. Dice: 0.24525335431098938 Current Avg. tumor Dice: 0.31815850734710693 Current Avg. lymph Dice: 0.17234818637371063\n"
     ]
    },
    {
     "name": "stderr",
     "output_type": "stream",
     "text": [
      "Training (16001 / 18000 Steps) (loss=0.31971): 100%|██████████| 7/7 [00:09<00:00,  1.35s/it]\n",
      "Training (16008 / 18000 Steps) (loss=0.39493): 100%|██████████| 7/7 [00:05<00:00,  1.38it/s]\n",
      "Training (16015 / 18000 Steps) (loss=0.40420): 100%|██████████| 7/7 [00:05<00:00,  1.37it/s]\n",
      "Training (16022 / 18000 Steps) (loss=0.60042): 100%|██████████| 7/7 [00:05<00:00,  1.35it/s]\n",
      "Training (16029 / 18000 Steps) (loss=0.48295): 100%|██████████| 7/7 [00:05<00:00,  1.30it/s]\n",
      "Training (16036 / 18000 Steps) (loss=0.46170): 100%|██████████| 7/7 [00:05<00:00,  1.32it/s]\n",
      "Training (16043 / 18000 Steps) (loss=0.26484): 100%|██████████| 7/7 [00:05<00:00,  1.35it/s]\n",
      "Training (16050 / 18000 Steps) (loss=0.30059): 100%|██████████| 7/7 [00:05<00:00,  1.36it/s]\n",
      "Training (16057 / 18000 Steps) (loss=0.38289): 100%|██████████| 7/7 [00:04<00:00,  1.41it/s]\n",
      "Training (16064 / 18000 Steps) (loss=0.23177): 100%|██████████| 7/7 [00:05<00:00,  1.36it/s]\n",
      "Training (16071 / 18000 Steps) (loss=0.30157): 100%|██████████| 7/7 [00:05<00:00,  1.32it/s]\n",
      "Training (16078 / 18000 Steps) (loss=0.42927): 100%|██████████| 7/7 [00:05<00:00,  1.31it/s]\n",
      "Training (16085 / 18000 Steps) (loss=0.30228): 100%|██████████| 7/7 [00:05<00:00,  1.30it/s]\n",
      "Training (16092 / 18000 Steps) (loss=0.37625): 100%|██████████| 7/7 [00:05<00:00,  1.30it/s]\n",
      "Training (16099 / 18000 Steps) (loss=0.43870): 100%|██████████| 7/7 [00:05<00:00,  1.32it/s]\n",
      "Validate (16100 / 10 Steps): 100%|██████████| 2/2 [00:04<00:00,  2.04s/it]<?, ?it/s]\n",
      "Training (16100 / 18000 Steps) (loss=0.39029):  14%|█▍        | 1/7 [00:06<00:41,  6.85s/it]"
     ]
    },
    {
     "name": "stdout",
     "output_type": "stream",
     "text": [
      "Model Was Not Saved ! Current Best Avg. Dice: 0.3172563314437866 Current Avg. Dice: 0.2922050952911377 Current Avg. tumor Dice: 0.3307672142982483 Current Avg. lymph Dice: 0.2536429762840271\n"
     ]
    },
    {
     "name": "stderr",
     "output_type": "stream",
     "text": [
      "Training (16106 / 18000 Steps) (loss=0.40113): 100%|██████████| 7/7 [00:09<00:00,  1.32s/it]\n",
      "Training (16113 / 18000 Steps) (loss=0.30463): 100%|██████████| 7/7 [00:05<00:00,  1.31it/s]\n",
      "Training (16120 / 18000 Steps) (loss=0.31965): 100%|██████████| 7/7 [00:05<00:00,  1.38it/s]\n",
      "Training (16127 / 18000 Steps) (loss=0.48719): 100%|██████████| 7/7 [00:05<00:00,  1.33it/s]\n",
      "Training (16134 / 18000 Steps) (loss=0.31679): 100%|██████████| 7/7 [00:05<00:00,  1.33it/s]\n",
      "Training (16141 / 18000 Steps) (loss=0.16432): 100%|██████████| 7/7 [00:05<00:00,  1.33it/s]\n",
      "Training (16148 / 18000 Steps) (loss=0.39828): 100%|██████████| 7/7 [00:05<00:00,  1.35it/s]\n",
      "Training (16155 / 18000 Steps) (loss=0.35278): 100%|██████████| 7/7 [00:05<00:00,  1.32it/s]\n",
      "Training (16162 / 18000 Steps) (loss=0.35218): 100%|██████████| 7/7 [00:05<00:00,  1.31it/s]\n",
      "Training (16169 / 18000 Steps) (loss=0.55744): 100%|██████████| 7/7 [00:05<00:00,  1.33it/s]\n",
      "Training (16176 / 18000 Steps) (loss=0.44886): 100%|██████████| 7/7 [00:05<00:00,  1.31it/s]\n",
      "Training (16183 / 18000 Steps) (loss=0.41451): 100%|██████████| 7/7 [00:05<00:00,  1.31it/s]\n",
      "Training (16190 / 18000 Steps) (loss=0.50581): 100%|██████████| 7/7 [00:05<00:00,  1.32it/s]\n",
      "Training (16197 / 18000 Steps) (loss=0.42683): 100%|██████████| 7/7 [00:05<00:00,  1.35it/s]\n",
      "Validate (16198 / 10 Steps): 100%|██████████| 2/2 [00:04<00:00,  2.02s/it]<00:06,  1.38s/it]\n",
      "Training (16200 / 18000 Steps) (loss=0.25932):  43%|████▎     | 3/7 [00:07<00:11,  2.81s/it]"
     ]
    },
    {
     "name": "stdout",
     "output_type": "stream",
     "text": [
      "Model Was Not Saved ! Current Best Avg. Dice: 0.3172563314437866 Current Avg. Dice: 0.28521931171417236 Current Avg. tumor Dice: 0.35788559913635254 Current Avg. lymph Dice: 0.212553009390831\n"
     ]
    },
    {
     "name": "stderr",
     "output_type": "stream",
     "text": [
      "Training (16204 / 18000 Steps) (loss=0.38861): 100%|██████████| 7/7 [00:09<00:00,  1.32s/it]\n",
      "Training (16211 / 18000 Steps) (loss=0.27921): 100%|██████████| 7/7 [00:05<00:00,  1.34it/s]\n",
      "Training (16218 / 18000 Steps) (loss=0.30670): 100%|██████████| 7/7 [00:05<00:00,  1.33it/s]\n",
      "Training (16225 / 18000 Steps) (loss=0.48787): 100%|██████████| 7/7 [00:05<00:00,  1.32it/s]\n",
      "Training (16232 / 18000 Steps) (loss=0.45281): 100%|██████████| 7/7 [00:05<00:00,  1.38it/s]\n",
      "Training (16239 / 18000 Steps) (loss=0.34540): 100%|██████████| 7/7 [00:05<00:00,  1.33it/s]\n",
      "Training (16246 / 18000 Steps) (loss=0.56366): 100%|██████████| 7/7 [00:05<00:00,  1.37it/s]\n",
      "Training (16253 / 18000 Steps) (loss=0.30622): 100%|██████████| 7/7 [00:05<00:00,  1.34it/s]\n",
      "Training (16260 / 18000 Steps) (loss=0.38077): 100%|██████████| 7/7 [00:05<00:00,  1.31it/s]\n",
      "Training (16267 / 18000 Steps) (loss=0.57832): 100%|██████████| 7/7 [00:05<00:00,  1.36it/s]\n",
      "Training (16274 / 18000 Steps) (loss=0.31891): 100%|██████████| 7/7 [00:05<00:00,  1.34it/s]\n",
      "Training (16281 / 18000 Steps) (loss=0.36472): 100%|██████████| 7/7 [00:05<00:00,  1.30it/s]\n",
      "Training (16288 / 18000 Steps) (loss=0.54551): 100%|██████████| 7/7 [00:05<00:00,  1.34it/s]\n",
      "Training (16295 / 18000 Steps) (loss=0.31777): 100%|██████████| 7/7 [00:05<00:00,  1.32it/s]\n",
      "Validate (16296 / 10 Steps): 100%|██████████| 2/2 [00:03<00:00,  2.00s/it]<00:02,  1.34it/s]\n",
      "Training (16300 / 18000 Steps) (loss=0.26661):  71%|███████▏  | 5/7 [00:08<00:04,  2.09s/it]"
     ]
    },
    {
     "name": "stdout",
     "output_type": "stream",
     "text": [
      "Model Was Not Saved ! Current Best Avg. Dice: 0.3172563314437866 Current Avg. Dice: 0.28286871314048767 Current Avg. tumor Dice: 0.333151251077652 Current Avg. lymph Dice: 0.23258617520332336\n"
     ]
    },
    {
     "name": "stderr",
     "output_type": "stream",
     "text": [
      "Training (16302 / 18000 Steps) (loss=0.42088): 100%|██████████| 7/7 [00:09<00:00,  1.33s/it]\n",
      "Training (16309 / 18000 Steps) (loss=0.52894): 100%|██████████| 7/7 [00:05<00:00,  1.35it/s]\n",
      "Training (16316 / 18000 Steps) (loss=0.42859): 100%|██████████| 7/7 [00:05<00:00,  1.36it/s]\n",
      "Training (16323 / 18000 Steps) (loss=0.51402): 100%|██████████| 7/7 [00:05<00:00,  1.34it/s]\n",
      "Training (16330 / 18000 Steps) (loss=0.45693): 100%|██████████| 7/7 [00:05<00:00,  1.31it/s]\n",
      "Training (16337 / 18000 Steps) (loss=0.43452): 100%|██████████| 7/7 [00:05<00:00,  1.31it/s]\n",
      "Training (16344 / 18000 Steps) (loss=0.29155): 100%|██████████| 7/7 [00:05<00:00,  1.35it/s]\n",
      "Training (16351 / 18000 Steps) (loss=0.48100): 100%|██████████| 7/7 [00:05<00:00,  1.32it/s]\n",
      "Training (16358 / 18000 Steps) (loss=0.39923): 100%|██████████| 7/7 [00:05<00:00,  1.31it/s]\n",
      "Training (16365 / 18000 Steps) (loss=0.42878): 100%|██████████| 7/7 [00:05<00:00,  1.33it/s]\n",
      "Training (16372 / 18000 Steps) (loss=0.38988): 100%|██████████| 7/7 [00:05<00:00,  1.33it/s]\n",
      "Training (16379 / 18000 Steps) (loss=0.12165): 100%|██████████| 7/7 [00:05<00:00,  1.31it/s]\n",
      "Training (16386 / 18000 Steps) (loss=0.37374): 100%|██████████| 7/7 [00:05<00:00,  1.37it/s]\n",
      "Training (16393 / 18000 Steps) (loss=0.32598): 100%|██████████| 7/7 [00:05<00:00,  1.31it/s]\n",
      "Validate (16394 / 10 Steps): 100%|██████████| 2/2 [00:04<00:00,  2.02s/it]<00:00,  1.82it/s]\n",
      "Training (16400 / 18000 Steps) (loss=0.40795): 100%|██████████| 7/7 [00:09<00:00,  1.32s/it]\n"
     ]
    },
    {
     "name": "stdout",
     "output_type": "stream",
     "text": [
      "Model Was Not Saved ! Current Best Avg. Dice: 0.3172563314437866 Current Avg. Dice: 0.2949541211128235 Current Avg. tumor Dice: 0.34996187686920166 Current Avg. lymph Dice: 0.2399463951587677\n"
     ]
    },
    {
     "name": "stderr",
     "output_type": "stream",
     "text": [
      "Training (16407 / 18000 Steps) (loss=0.41440): 100%|██████████| 7/7 [00:05<00:00,  1.34it/s]\n",
      "Training (16414 / 18000 Steps) (loss=0.22541): 100%|██████████| 7/7 [00:05<00:00,  1.33it/s]\n",
      "Training (16421 / 18000 Steps) (loss=0.48520): 100%|██████████| 7/7 [00:05<00:00,  1.36it/s]\n",
      "Training (16428 / 18000 Steps) (loss=0.41123): 100%|██████████| 7/7 [00:05<00:00,  1.34it/s]\n",
      "Training (16435 / 18000 Steps) (loss=0.42692): 100%|██████████| 7/7 [00:05<00:00,  1.35it/s]\n",
      "Training (16442 / 18000 Steps) (loss=0.54268): 100%|██████████| 7/7 [00:05<00:00,  1.33it/s]\n",
      "Training (16449 / 18000 Steps) (loss=0.31094): 100%|██████████| 7/7 [00:05<00:00,  1.29it/s]\n",
      "Training (16456 / 18000 Steps) (loss=0.36769): 100%|██████████| 7/7 [00:05<00:00,  1.36it/s]\n",
      "Training (16463 / 18000 Steps) (loss=0.29743): 100%|██████████| 7/7 [00:05<00:00,  1.31it/s]\n",
      "Training (16470 / 18000 Steps) (loss=0.32113): 100%|██████████| 7/7 [00:05<00:00,  1.37it/s]\n",
      "Training (16477 / 18000 Steps) (loss=0.39110): 100%|██████████| 7/7 [00:05<00:00,  1.28it/s]\n",
      "Training (16484 / 18000 Steps) (loss=0.52674): 100%|██████████| 7/7 [00:05<00:00,  1.31it/s]\n",
      "Training (16491 / 18000 Steps) (loss=0.41490): 100%|██████████| 7/7 [00:05<00:00,  1.37it/s]\n",
      "Training (16498 / 18000 Steps) (loss=0.46102): 100%|██████████| 7/7 [00:05<00:00,  1.37it/s]\n",
      "Validate (16499 / 10 Steps): 100%|██████████| 2/2 [00:04<00:00,  2.03s/it]<00:18,  3.03s/it]\n",
      "Training (16500 / 18000 Steps) (loss=0.27033):  29%|██▊       | 2/7 [00:07<00:19,  3.92s/it]"
     ]
    },
    {
     "name": "stdout",
     "output_type": "stream",
     "text": [
      "Model Was Not Saved ! Current Best Avg. Dice: 0.3172563314437866 Current Avg. Dice: 0.27202510833740234 Current Avg. tumor Dice: 0.315169095993042 Current Avg. lymph Dice: 0.22888115048408508\n"
     ]
    },
    {
     "name": "stderr",
     "output_type": "stream",
     "text": [
      "Training (16505 / 18000 Steps) (loss=0.53186): 100%|██████████| 7/7 [00:09<00:00,  1.36s/it]\n",
      "Training (16512 / 18000 Steps) (loss=0.44180): 100%|██████████| 7/7 [00:05<00:00,  1.39it/s]\n",
      "Training (16519 / 18000 Steps) (loss=0.47274): 100%|██████████| 7/7 [00:05<00:00,  1.33it/s]\n",
      "Training (16526 / 18000 Steps) (loss=0.17939): 100%|██████████| 7/7 [00:05<00:00,  1.36it/s]\n",
      "Training (16533 / 18000 Steps) (loss=0.53636): 100%|██████████| 7/7 [00:05<00:00,  1.39it/s]\n",
      "Training (16540 / 18000 Steps) (loss=0.31152): 100%|██████████| 7/7 [00:05<00:00,  1.30it/s]\n",
      "Training (16547 / 18000 Steps) (loss=0.39477): 100%|██████████| 7/7 [00:05<00:00,  1.33it/s]\n",
      "Training (16554 / 18000 Steps) (loss=0.44429): 100%|██████████| 7/7 [00:05<00:00,  1.33it/s]\n",
      "Training (16561 / 18000 Steps) (loss=0.53107): 100%|██████████| 7/7 [00:05<00:00,  1.33it/s]\n",
      "Training (16568 / 18000 Steps) (loss=0.29799): 100%|██████████| 7/7 [00:05<00:00,  1.38it/s]\n",
      "Training (16575 / 18000 Steps) (loss=0.35627): 100%|██████████| 7/7 [00:05<00:00,  1.28it/s]\n",
      "Training (16582 / 18000 Steps) (loss=0.47933): 100%|██████████| 7/7 [00:05<00:00,  1.38it/s]\n",
      "Training (16589 / 18000 Steps) (loss=0.33250): 100%|██████████| 7/7 [00:05<00:00,  1.32it/s]\n",
      "Training (16596 / 18000 Steps) (loss=0.35411): 100%|██████████| 7/7 [00:05<00:00,  1.39it/s]\n",
      "Validate (16597 / 10 Steps): 100%|██████████| 2/2 [00:04<00:00,  2.01s/it]<00:04,  1.00s/it]\n",
      "Training (16600 / 18000 Steps) (loss=0.42247):  57%|█████▋    | 4/7 [00:08<00:07,  2.38s/it]"
     ]
    },
    {
     "name": "stdout",
     "output_type": "stream",
     "text": [
      "Model Was Not Saved ! Current Best Avg. Dice: 0.3172563314437866 Current Avg. Dice: 0.2595033049583435 Current Avg. tumor Dice: 0.31906232237815857 Current Avg. lymph Dice: 0.19994431734085083\n"
     ]
    },
    {
     "name": "stderr",
     "output_type": "stream",
     "text": [
      "Training (16603 / 18000 Steps) (loss=0.54917): 100%|██████████| 7/7 [00:09<00:00,  1.36s/it]\n",
      "Training (16610 / 18000 Steps) (loss=0.43605): 100%|██████████| 7/7 [00:05<00:00,  1.36it/s]\n",
      "Training (16617 / 18000 Steps) (loss=0.53558): 100%|██████████| 7/7 [00:05<00:00,  1.33it/s]\n",
      "Training (16624 / 18000 Steps) (loss=0.56136): 100%|██████████| 7/7 [00:04<00:00,  1.42it/s]\n",
      "Training (16631 / 18000 Steps) (loss=0.37492): 100%|██████████| 7/7 [00:05<00:00,  1.38it/s]\n",
      "Training (16638 / 18000 Steps) (loss=0.57350): 100%|██████████| 7/7 [00:05<00:00,  1.35it/s]\n",
      "Training (16645 / 18000 Steps) (loss=0.20554): 100%|██████████| 7/7 [00:05<00:00,  1.34it/s]\n",
      "Training (16652 / 18000 Steps) (loss=0.33885): 100%|██████████| 7/7 [00:05<00:00,  1.38it/s]\n",
      "Training (16659 / 18000 Steps) (loss=0.31721): 100%|██████████| 7/7 [00:05<00:00,  1.30it/s]\n",
      "Training (16666 / 18000 Steps) (loss=0.57353): 100%|██████████| 7/7 [00:05<00:00,  1.32it/s]\n",
      "Training (16673 / 18000 Steps) (loss=0.48258): 100%|██████████| 7/7 [00:05<00:00,  1.31it/s]\n",
      "Training (16680 / 18000 Steps) (loss=0.31360): 100%|██████████| 7/7 [00:05<00:00,  1.29it/s]\n",
      "Training (16687 / 18000 Steps) (loss=0.40622): 100%|██████████| 7/7 [00:05<00:00,  1.38it/s]\n",
      "Training (16694 / 18000 Steps) (loss=0.39862): 100%|██████████| 7/7 [00:05<00:00,  1.36it/s]\n",
      "Validate (16695 / 10 Steps): 100%|██████████| 2/2 [00:04<00:00,  2.09s/it]<00:01,  1.58it/s]\n",
      "Training (16700 / 18000 Steps) (loss=0.37839):  86%|████████▌ | 6/7 [00:09<00:01,  2.00s/it]"
     ]
    },
    {
     "name": "stdout",
     "output_type": "stream",
     "text": [
      "Model Was Not Saved ! Current Best Avg. Dice: 0.3172563314437866 Current Avg. Dice: 0.2756427228450775 Current Avg. tumor Dice: 0.31506839394569397 Current Avg. lymph Dice: 0.23621700704097748\n"
     ]
    },
    {
     "name": "stderr",
     "output_type": "stream",
     "text": [
      "Training (16701 / 18000 Steps) (loss=0.42298): 100%|██████████| 7/7 [00:09<00:00,  1.36s/it]\n",
      "Training (16708 / 18000 Steps) (loss=0.48436): 100%|██████████| 7/7 [00:05<00:00,  1.30it/s]\n",
      "Training (16715 / 18000 Steps) (loss=0.33905): 100%|██████████| 7/7 [00:05<00:00,  1.22it/s]\n",
      "Training (16722 / 18000 Steps) (loss=0.41534): 100%|██████████| 7/7 [00:05<00:00,  1.36it/s]\n",
      "Training (16729 / 18000 Steps) (loss=0.34747): 100%|██████████| 7/7 [00:05<00:00,  1.33it/s]\n",
      "Training (16736 / 18000 Steps) (loss=0.32372): 100%|██████████| 7/7 [00:05<00:00,  1.36it/s]\n",
      "Training (16743 / 18000 Steps) (loss=0.28973): 100%|██████████| 7/7 [00:05<00:00,  1.32it/s]\n",
      "Training (16750 / 18000 Steps) (loss=0.29336): 100%|██████████| 7/7 [00:05<00:00,  1.29it/s]\n",
      "Training (16757 / 18000 Steps) (loss=0.49914): 100%|██████████| 7/7 [00:05<00:00,  1.35it/s]\n",
      "Training (16764 / 18000 Steps) (loss=0.30001): 100%|██████████| 7/7 [00:05<00:00,  1.38it/s]\n",
      "Training (16771 / 18000 Steps) (loss=0.45591): 100%|██████████| 7/7 [00:05<00:00,  1.32it/s]\n",
      "Training (16778 / 18000 Steps) (loss=0.41651): 100%|██████████| 7/7 [00:05<00:00,  1.34it/s]\n",
      "Training (16785 / 18000 Steps) (loss=0.34520): 100%|██████████| 7/7 [00:05<00:00,  1.35it/s]\n",
      "Training (16792 / 18000 Steps) (loss=0.43771): 100%|██████████| 7/7 [00:05<00:00,  1.29it/s]\n",
      "Training (16799 / 18000 Steps) (loss=0.26667): 100%|██████████| 7/7 [00:05<00:00,  1.34it/s]\n",
      "Validate (16800 / 10 Steps): 100%|██████████| 2/2 [00:04<00:00,  2.05s/it]<?, ?it/s]\n",
      "Training (16800 / 18000 Steps) (loss=0.38143):  14%|█▍        | 1/7 [00:07<00:43,  7.24s/it]"
     ]
    },
    {
     "name": "stdout",
     "output_type": "stream",
     "text": [
      "Model Was Not Saved ! Current Best Avg. Dice: 0.3172563314437866 Current Avg. Dice: 0.26030343770980835 Current Avg. tumor Dice: 0.271523654460907 Current Avg. lymph Dice: 0.2490832656621933\n"
     ]
    },
    {
     "name": "stderr",
     "output_type": "stream",
     "text": [
      "Training (16806 / 18000 Steps) (loss=0.32053): 100%|██████████| 7/7 [00:09<00:00,  1.37s/it]\n",
      "Training (16813 / 18000 Steps) (loss=0.34545): 100%|██████████| 7/7 [00:05<00:00,  1.38it/s]\n",
      "Training (16820 / 18000 Steps) (loss=0.44778): 100%|██████████| 7/7 [00:05<00:00,  1.34it/s]\n",
      "Training (16827 / 18000 Steps) (loss=0.26609): 100%|██████████| 7/7 [00:05<00:00,  1.34it/s]\n",
      "Training (16834 / 18000 Steps) (loss=0.39065): 100%|██████████| 7/7 [00:05<00:00,  1.31it/s]\n",
      "Training (16841 / 18000 Steps) (loss=0.47121): 100%|██████████| 7/7 [00:05<00:00,  1.30it/s]\n",
      "Training (16848 / 18000 Steps) (loss=0.49294): 100%|██████████| 7/7 [00:05<00:00,  1.31it/s]\n",
      "Training (16855 / 18000 Steps) (loss=0.51919): 100%|██████████| 7/7 [00:05<00:00,  1.32it/s]\n",
      "Training (16862 / 18000 Steps) (loss=0.28857): 100%|██████████| 7/7 [00:05<00:00,  1.36it/s]\n",
      "Training (16869 / 18000 Steps) (loss=0.30926): 100%|██████████| 7/7 [00:05<00:00,  1.34it/s]\n",
      "Training (16876 / 18000 Steps) (loss=0.51888): 100%|██████████| 7/7 [00:05<00:00,  1.31it/s]\n",
      "Training (16883 / 18000 Steps) (loss=0.66739): 100%|██████████| 7/7 [00:05<00:00,  1.37it/s]\n",
      "Training (16890 / 18000 Steps) (loss=0.49793): 100%|██████████| 7/7 [00:05<00:00,  1.31it/s]\n",
      "Training (16897 / 18000 Steps) (loss=0.41281): 100%|██████████| 7/7 [00:05<00:00,  1.34it/s]\n",
      "Validate (16898 / 10 Steps): 100%|██████████| 2/2 [00:04<00:00,  2.04s/it]<00:06,  1.37s/it]\n",
      "Training (16900 / 18000 Steps) (loss=0.43667):  43%|████▎     | 3/7 [00:07<00:11,  2.81s/it]"
     ]
    },
    {
     "name": "stdout",
     "output_type": "stream",
     "text": [
      "Model Was Not Saved ! Current Best Avg. Dice: 0.3172563314437866 Current Avg. Dice: 0.25018346309661865 Current Avg. tumor Dice: 0.3002244830131531 Current Avg. lymph Dice: 0.20014245808124542\n"
     ]
    },
    {
     "name": "stderr",
     "output_type": "stream",
     "text": [
      "Training (16904 / 18000 Steps) (loss=0.39388): 100%|██████████| 7/7 [00:09<00:00,  1.32s/it]\n",
      "Training (16911 / 18000 Steps) (loss=0.29555): 100%|██████████| 7/7 [00:05<00:00,  1.35it/s]\n",
      "Training (16918 / 18000 Steps) (loss=0.25927): 100%|██████████| 7/7 [00:05<00:00,  1.26it/s]\n",
      "Training (16925 / 18000 Steps) (loss=0.54585): 100%|██████████| 7/7 [00:05<00:00,  1.35it/s]\n",
      "Training (16932 / 18000 Steps) (loss=0.37485): 100%|██████████| 7/7 [00:05<00:00,  1.34it/s]\n",
      "Training (16939 / 18000 Steps) (loss=0.41835): 100%|██████████| 7/7 [00:05<00:00,  1.36it/s]\n",
      "Training (16946 / 18000 Steps) (loss=0.43814): 100%|██████████| 7/7 [00:05<00:00,  1.32it/s]\n",
      "Training (16953 / 18000 Steps) (loss=0.44460): 100%|██████████| 7/7 [00:05<00:00,  1.26it/s]\n",
      "Training (16960 / 18000 Steps) (loss=0.36817): 100%|██████████| 7/7 [00:05<00:00,  1.35it/s]\n",
      "Training (16967 / 18000 Steps) (loss=0.27939): 100%|██████████| 7/7 [00:05<00:00,  1.38it/s]\n",
      "Training (16974 / 18000 Steps) (loss=0.43016): 100%|██████████| 7/7 [00:05<00:00,  1.30it/s]\n",
      "Training (16981 / 18000 Steps) (loss=0.30992): 100%|██████████| 7/7 [00:05<00:00,  1.34it/s]\n",
      "Training (16988 / 18000 Steps) (loss=0.41172): 100%|██████████| 7/7 [00:05<00:00,  1.37it/s]\n",
      "Training (16995 / 18000 Steps) (loss=0.40872): 100%|██████████| 7/7 [00:05<00:00,  1.38it/s]\n",
      "Validate (16996 / 10 Steps): 100%|██████████| 2/2 [00:04<00:00,  2.02s/it]<00:02,  1.31it/s]\n",
      "Training (17000 / 18000 Steps) (loss=0.42804):  71%|███████▏  | 5/7 [00:08<00:04,  2.11s/it]"
     ]
    },
    {
     "name": "stdout",
     "output_type": "stream",
     "text": [
      "Model Was Not Saved ! Current Best Avg. Dice: 0.3172563314437866 Current Avg. Dice: 0.2732594311237335 Current Avg. tumor Dice: 0.31873103976249695 Current Avg. lymph Dice: 0.2277877926826477\n"
     ]
    },
    {
     "name": "stderr",
     "output_type": "stream",
     "text": [
      "Training (17002 / 18000 Steps) (loss=0.14368): 100%|██████████| 7/7 [00:09<00:00,  1.35s/it]\n",
      "Training (17009 / 18000 Steps) (loss=0.47890): 100%|██████████| 7/7 [00:05<00:00,  1.30it/s]\n",
      "Training (17016 / 18000 Steps) (loss=0.35804): 100%|██████████| 7/7 [00:05<00:00,  1.29it/s]\n",
      "Training (17023 / 18000 Steps) (loss=0.43212): 100%|██████████| 7/7 [00:05<00:00,  1.33it/s]\n",
      "Training (17030 / 18000 Steps) (loss=0.35849): 100%|██████████| 7/7 [00:05<00:00,  1.35it/s]\n",
      "Training (17037 / 18000 Steps) (loss=0.48727): 100%|██████████| 7/7 [00:05<00:00,  1.30it/s]\n",
      "Training (17044 / 18000 Steps) (loss=0.49021): 100%|██████████| 7/7 [00:05<00:00,  1.38it/s]\n",
      "Training (17051 / 18000 Steps) (loss=0.41940): 100%|██████████| 7/7 [00:05<00:00,  1.34it/s]\n",
      "Training (17058 / 18000 Steps) (loss=0.43418): 100%|██████████| 7/7 [00:05<00:00,  1.31it/s]\n",
      "Training (17065 / 18000 Steps) (loss=0.20184): 100%|██████████| 7/7 [00:05<00:00,  1.25it/s]\n",
      "Training (17072 / 18000 Steps) (loss=0.53995): 100%|██████████| 7/7 [00:05<00:00,  1.38it/s]\n",
      "Training (17079 / 18000 Steps) (loss=0.66738): 100%|██████████| 7/7 [00:05<00:00,  1.31it/s]\n",
      "Training (17086 / 18000 Steps) (loss=0.47321): 100%|██████████| 7/7 [00:05<00:00,  1.36it/s]\n",
      "Training (17093 / 18000 Steps) (loss=0.52915): 100%|██████████| 7/7 [00:05<00:00,  1.38it/s]\n",
      "Validate (17094 / 10 Steps): 100%|██████████| 2/2 [00:04<00:00,  2.02s/it]<00:00,  1.80it/s]\n",
      "Training (17100 / 18000 Steps) (loss=0.46136): 100%|██████████| 7/7 [00:09<00:00,  1.34s/it]\n"
     ]
    },
    {
     "name": "stdout",
     "output_type": "stream",
     "text": [
      "Model Was Not Saved ! Current Best Avg. Dice: 0.3172563314437866 Current Avg. Dice: 0.2835814952850342 Current Avg. tumor Dice: 0.31558123230934143 Current Avg. lymph Dice: 0.25158172845840454\n"
     ]
    },
    {
     "name": "stderr",
     "output_type": "stream",
     "text": [
      "Training (17107 / 18000 Steps) (loss=0.47647): 100%|██████████| 7/7 [00:05<00:00,  1.33it/s]\n",
      "Training (17114 / 18000 Steps) (loss=0.43539): 100%|██████████| 7/7 [00:05<00:00,  1.37it/s]\n",
      "Training (17121 / 18000 Steps) (loss=0.34426): 100%|██████████| 7/7 [00:05<00:00,  1.31it/s]\n",
      "Training (17128 / 18000 Steps) (loss=0.31678): 100%|██████████| 7/7 [00:05<00:00,  1.33it/s]\n",
      "Training (17135 / 18000 Steps) (loss=0.49990): 100%|██████████| 7/7 [00:05<00:00,  1.35it/s]\n",
      "Training (17142 / 18000 Steps) (loss=0.29881): 100%|██████████| 7/7 [00:05<00:00,  1.32it/s]\n",
      "Training (17149 / 18000 Steps) (loss=0.44914): 100%|██████████| 7/7 [00:05<00:00,  1.30it/s]\n",
      "Training (17156 / 18000 Steps) (loss=0.42401): 100%|██████████| 7/7 [00:05<00:00,  1.35it/s]\n",
      "Training (17163 / 18000 Steps) (loss=0.15856): 100%|██████████| 7/7 [00:05<00:00,  1.30it/s]\n",
      "Training (17170 / 18000 Steps) (loss=0.22881): 100%|██████████| 7/7 [00:05<00:00,  1.35it/s]\n",
      "Training (17177 / 18000 Steps) (loss=0.34881): 100%|██████████| 7/7 [00:05<00:00,  1.29it/s]\n",
      "Training (17184 / 18000 Steps) (loss=0.52846): 100%|██████████| 7/7 [00:05<00:00,  1.33it/s]\n",
      "Training (17191 / 18000 Steps) (loss=0.49303): 100%|██████████| 7/7 [00:05<00:00,  1.36it/s]\n",
      "Training (17198 / 18000 Steps) (loss=0.35186): 100%|██████████| 7/7 [00:05<00:00,  1.29it/s]\n",
      "Validate (17199 / 10 Steps): 100%|██████████| 2/2 [00:04<00:00,  2.02s/it]<00:17,  2.90s/it]\n",
      "Training (17200 / 18000 Steps) (loss=0.26545):  29%|██▊       | 2/7 [00:07<00:19,  3.85s/it]"
     ]
    },
    {
     "name": "stdout",
     "output_type": "stream",
     "text": [
      "Model Was Not Saved ! Current Best Avg. Dice: 0.3172563314437866 Current Avg. Dice: 0.2874232232570648 Current Avg. tumor Dice: 0.3348829746246338 Current Avg. lymph Dice: 0.23996351659297943\n"
     ]
    },
    {
     "name": "stderr",
     "output_type": "stream",
     "text": [
      "Training (17205 / 18000 Steps) (loss=0.55236): 100%|██████████| 7/7 [00:09<00:00,  1.34s/it]\n",
      "Training (17212 / 18000 Steps) (loss=0.40069): 100%|██████████| 7/7 [00:05<00:00,  1.39it/s]\n",
      "Training (17219 / 18000 Steps) (loss=0.45232): 100%|██████████| 7/7 [00:05<00:00,  1.39it/s]\n",
      "Training (17226 / 18000 Steps) (loss=0.52344): 100%|██████████| 7/7 [00:05<00:00,  1.31it/s]\n",
      "Training (17233 / 18000 Steps) (loss=0.53127): 100%|██████████| 7/7 [00:05<00:00,  1.33it/s]\n",
      "Training (17240 / 18000 Steps) (loss=0.31796): 100%|██████████| 7/7 [00:05<00:00,  1.31it/s]\n",
      "Training (17247 / 18000 Steps) (loss=0.33909): 100%|██████████| 7/7 [00:05<00:00,  1.33it/s]\n",
      "Training (17254 / 18000 Steps) (loss=0.18335): 100%|██████████| 7/7 [00:05<00:00,  1.37it/s]\n",
      "Training (17261 / 18000 Steps) (loss=0.51895): 100%|██████████| 7/7 [00:05<00:00,  1.31it/s]\n",
      "Training (17268 / 18000 Steps) (loss=0.41325): 100%|██████████| 7/7 [00:05<00:00,  1.36it/s]\n",
      "Training (17275 / 18000 Steps) (loss=0.40504): 100%|██████████| 7/7 [00:05<00:00,  1.30it/s]\n",
      "Training (17282 / 18000 Steps) (loss=0.37128): 100%|██████████| 7/7 [00:05<00:00,  1.31it/s]\n",
      "Training (17289 / 18000 Steps) (loss=0.38538): 100%|██████████| 7/7 [00:05<00:00,  1.32it/s]\n",
      "Training (17296 / 18000 Steps) (loss=0.30174): 100%|██████████| 7/7 [00:05<00:00,  1.31it/s]\n",
      "Validate (17297 / 10 Steps): 100%|██████████| 2/2 [00:04<00:00,  2.02s/it]<00:03,  1.06it/s]\n",
      "Training (17300 / 18000 Steps) (loss=0.41324):  57%|█████▋    | 4/7 [00:08<00:07,  2.35s/it]"
     ]
    },
    {
     "name": "stdout",
     "output_type": "stream",
     "text": [
      "Model Was Not Saved ! Current Best Avg. Dice: 0.3172563314437866 Current Avg. Dice: 0.27708062529563904 Current Avg. tumor Dice: 0.31011509895324707 Current Avg. lymph Dice: 0.244046151638031\n"
     ]
    },
    {
     "name": "stderr",
     "output_type": "stream",
     "text": [
      "Training (17303 / 18000 Steps) (loss=0.42874): 100%|██████████| 7/7 [00:09<00:00,  1.32s/it]\n",
      "Training (17310 / 18000 Steps) (loss=0.41499): 100%|██████████| 7/7 [00:05<00:00,  1.39it/s]\n",
      "Training (17317 / 18000 Steps) (loss=0.40619): 100%|██████████| 7/7 [00:05<00:00,  1.35it/s]\n",
      "Training (17324 / 18000 Steps) (loss=0.37426): 100%|██████████| 7/7 [00:05<00:00,  1.32it/s]\n",
      "Training (17331 / 18000 Steps) (loss=0.24141): 100%|██████████| 7/7 [00:05<00:00,  1.38it/s]\n",
      "Training (17338 / 18000 Steps) (loss=0.46949): 100%|██████████| 7/7 [00:05<00:00,  1.37it/s]\n",
      "Training (17345 / 18000 Steps) (loss=0.25623): 100%|██████████| 7/7 [00:05<00:00,  1.35it/s]\n",
      "Training (17352 / 18000 Steps) (loss=0.42854): 100%|██████████| 7/7 [00:05<00:00,  1.33it/s]\n",
      "Training (17359 / 18000 Steps) (loss=0.40023): 100%|██████████| 7/7 [00:05<00:00,  1.39it/s]\n",
      "Training (17366 / 18000 Steps) (loss=0.41090): 100%|██████████| 7/7 [00:05<00:00,  1.31it/s]\n",
      "Training (17373 / 18000 Steps) (loss=0.54596): 100%|██████████| 7/7 [00:05<00:00,  1.32it/s]\n",
      "Training (17380 / 18000 Steps) (loss=0.37770): 100%|██████████| 7/7 [00:05<00:00,  1.34it/s]\n",
      "Training (17387 / 18000 Steps) (loss=0.37599): 100%|██████████| 7/7 [00:05<00:00,  1.26it/s]\n",
      "Training (17394 / 18000 Steps) (loss=0.32795): 100%|██████████| 7/7 [00:05<00:00,  1.30it/s]\n",
      "Validate (17395 / 10 Steps): 100%|██████████| 2/2 [00:04<00:00,  2.09s/it]<00:01,  1.58it/s]\n",
      "Training (17400 / 18000 Steps) (loss=0.33268):  86%|████████▌ | 6/7 [00:09<00:01,  2.00s/it]"
     ]
    },
    {
     "name": "stdout",
     "output_type": "stream",
     "text": [
      "Model Was Not Saved ! Current Best Avg. Dice: 0.3172563314437866 Current Avg. Dice: 0.2953569293022156 Current Avg. tumor Dice: 0.3342397212982178 Current Avg. lymph Dice: 0.25647416710853577\n"
     ]
    },
    {
     "name": "stderr",
     "output_type": "stream",
     "text": [
      "Training (17401 / 18000 Steps) (loss=0.54436): 100%|██████████| 7/7 [00:09<00:00,  1.37s/it]\n",
      "Training (17408 / 18000 Steps) (loss=0.51204): 100%|██████████| 7/7 [00:05<00:00,  1.28it/s]\n",
      "Training (17415 / 18000 Steps) (loss=0.24569): 100%|██████████| 7/7 [00:05<00:00,  1.32it/s]\n",
      "Training (17422 / 18000 Steps) (loss=0.52587): 100%|██████████| 7/7 [00:05<00:00,  1.37it/s]\n",
      "Training (17429 / 18000 Steps) (loss=0.33093): 100%|██████████| 7/7 [00:05<00:00,  1.35it/s]\n",
      "Training (17436 / 18000 Steps) (loss=0.24172): 100%|██████████| 7/7 [00:05<00:00,  1.35it/s]\n",
      "Training (17443 / 18000 Steps) (loss=0.57038): 100%|██████████| 7/7 [00:05<00:00,  1.30it/s]\n",
      "Training (17450 / 18000 Steps) (loss=0.24408): 100%|██████████| 7/7 [00:05<00:00,  1.38it/s]\n",
      "Training (17457 / 18000 Steps) (loss=0.39297): 100%|██████████| 7/7 [00:05<00:00,  1.36it/s]\n",
      "Training (17464 / 18000 Steps) (loss=0.37488): 100%|██████████| 7/7 [00:05<00:00,  1.37it/s]\n",
      "Training (17471 / 18000 Steps) (loss=0.24083): 100%|██████████| 7/7 [00:05<00:00,  1.37it/s]\n",
      "Training (17478 / 18000 Steps) (loss=0.48574): 100%|██████████| 7/7 [00:05<00:00,  1.28it/s]\n",
      "Training (17485 / 18000 Steps) (loss=0.38642): 100%|██████████| 7/7 [00:05<00:00,  1.29it/s]\n",
      "Training (17492 / 18000 Steps) (loss=0.28820): 100%|██████████| 7/7 [00:05<00:00,  1.28it/s]\n",
      "Training (17499 / 18000 Steps) (loss=0.54940): 100%|██████████| 7/7 [00:05<00:00,  1.33it/s]\n",
      "Validate (17500 / 10 Steps): 100%|██████████| 2/2 [00:04<00:00,  2.06s/it]<?, ?it/s]\n",
      "Training (17500 / 18000 Steps) (loss=0.30352):  14%|█▍        | 1/7 [00:07<00:44,  7.43s/it]"
     ]
    },
    {
     "name": "stdout",
     "output_type": "stream",
     "text": [
      "Model Was Not Saved ! Current Best Avg. Dice: 0.3172563314437866 Current Avg. Dice: 0.2996010184288025 Current Avg. tumor Dice: 0.3532921075820923 Current Avg. lymph Dice: 0.2459098994731903\n"
     ]
    },
    {
     "name": "stderr",
     "output_type": "stream",
     "text": [
      "Training (17506 / 18000 Steps) (loss=0.31046): 100%|██████████| 7/7 [00:09<00:00,  1.40s/it]\n",
      "Training (17513 / 18000 Steps) (loss=0.42707): 100%|██████████| 7/7 [00:05<00:00,  1.33it/s]\n",
      "Training (17520 / 18000 Steps) (loss=0.52659): 100%|██████████| 7/7 [00:05<00:00,  1.31it/s]\n",
      "Training (17527 / 18000 Steps) (loss=0.46824): 100%|██████████| 7/7 [00:05<00:00,  1.32it/s]\n",
      "Training (17534 / 18000 Steps) (loss=0.41937): 100%|██████████| 7/7 [00:05<00:00,  1.33it/s]\n",
      "Training (17541 / 18000 Steps) (loss=0.17053): 100%|██████████| 7/7 [00:05<00:00,  1.39it/s]\n",
      "Training (17548 / 18000 Steps) (loss=0.55709): 100%|██████████| 7/7 [00:05<00:00,  1.37it/s]\n",
      "Training (17555 / 18000 Steps) (loss=0.40816): 100%|██████████| 7/7 [00:05<00:00,  1.32it/s]\n",
      "Training (17562 / 18000 Steps) (loss=0.46519): 100%|██████████| 7/7 [00:05<00:00,  1.30it/s]\n",
      "Training (17569 / 18000 Steps) (loss=0.16990): 100%|██████████| 7/7 [00:05<00:00,  1.32it/s]\n",
      "Training (17576 / 18000 Steps) (loss=0.45523): 100%|██████████| 7/7 [00:05<00:00,  1.33it/s]\n",
      "Training (17583 / 18000 Steps) (loss=0.55115): 100%|██████████| 7/7 [00:05<00:00,  1.36it/s]\n",
      "Training (17590 / 18000 Steps) (loss=0.41535): 100%|██████████| 7/7 [00:05<00:00,  1.31it/s]\n",
      "Training (17597 / 18000 Steps) (loss=0.32454): 100%|██████████| 7/7 [00:05<00:00,  1.36it/s]\n",
      "Validate (17598 / 10 Steps): 100%|██████████| 2/2 [00:04<00:00,  2.05s/it]<00:06,  1.37s/it]\n",
      "Training (17600 / 18000 Steps) (loss=0.40682):  43%|████▎     | 3/7 [00:08<00:12,  3.17s/it]"
     ]
    },
    {
     "name": "stdout",
     "output_type": "stream",
     "text": [
      "Model Was Saved ! Current Best Avg. Dice: 0.33308055996894836 Current Avg. Dice: 0.33308055996894836 Current Avg. tumor Dice: 0.3596052825450897 Current Avg. lymph Dice: 0.3065558075904846\n"
     ]
    },
    {
     "name": "stderr",
     "output_type": "stream",
     "text": [
      "Training (17604 / 18000 Steps) (loss=0.42287): 100%|██████████| 7/7 [00:10<00:00,  1.43s/it]\n",
      "Training (17611 / 18000 Steps) (loss=0.43800): 100%|██████████| 7/7 [00:05<00:00,  1.30it/s]\n",
      "Training (17618 / 18000 Steps) (loss=0.25895): 100%|██████████| 7/7 [00:05<00:00,  1.33it/s]\n",
      "Training (17625 / 18000 Steps) (loss=0.43110): 100%|██████████| 7/7 [00:05<00:00,  1.28it/s]\n",
      "Training (17632 / 18000 Steps) (loss=0.45207): 100%|██████████| 7/7 [00:05<00:00,  1.33it/s]\n",
      "Training (17639 / 18000 Steps) (loss=0.57297): 100%|██████████| 7/7 [00:05<00:00,  1.31it/s]\n",
      "Training (17646 / 18000 Steps) (loss=0.49238): 100%|██████████| 7/7 [00:05<00:00,  1.37it/s]\n",
      "Training (17653 / 18000 Steps) (loss=0.54615): 100%|██████████| 7/7 [00:05<00:00,  1.29it/s]\n",
      "Training (17660 / 18000 Steps) (loss=0.34072): 100%|██████████| 7/7 [00:05<00:00,  1.37it/s]\n",
      "Training (17667 / 18000 Steps) (loss=0.33103): 100%|██████████| 7/7 [00:05<00:00,  1.35it/s]\n",
      "Training (17674 / 18000 Steps) (loss=0.29491): 100%|██████████| 7/7 [00:05<00:00,  1.36it/s]\n",
      "Training (17681 / 18000 Steps) (loss=0.52922): 100%|██████████| 7/7 [00:05<00:00,  1.39it/s]\n",
      "Training (17688 / 18000 Steps) (loss=0.45815): 100%|██████████| 7/7 [00:05<00:00,  1.39it/s]\n",
      "Training (17695 / 18000 Steps) (loss=0.36535): 100%|██████████| 7/7 [00:05<00:00,  1.29it/s]\n",
      "Validate (17696 / 10 Steps): 100%|██████████| 2/2 [00:04<00:00,  2.03s/it]<00:02,  1.31it/s]\n",
      "Training (17700 / 18000 Steps) (loss=0.38367):  71%|███████▏  | 5/7 [00:08<00:04,  2.12s/it]"
     ]
    },
    {
     "name": "stdout",
     "output_type": "stream",
     "text": [
      "Model Was Not Saved ! Current Best Avg. Dice: 0.33308055996894836 Current Avg. Dice: 0.2925184965133667 Current Avg. tumor Dice: 0.3189713954925537 Current Avg. lymph Dice: 0.2660655379295349\n"
     ]
    },
    {
     "name": "stderr",
     "output_type": "stream",
     "text": [
      "Training (17702 / 18000 Steps) (loss=0.28196): 100%|██████████| 7/7 [00:09<00:00,  1.35s/it]\n",
      "Training (17709 / 18000 Steps) (loss=0.34839): 100%|██████████| 7/7 [00:05<00:00,  1.33it/s]\n",
      "Training (17716 / 18000 Steps) (loss=0.38377): 100%|██████████| 7/7 [00:05<00:00,  1.28it/s]\n",
      "Training (17723 / 18000 Steps) (loss=0.36229): 100%|██████████| 7/7 [00:05<00:00,  1.36it/s]\n",
      "Training (17730 / 18000 Steps) (loss=0.43552): 100%|██████████| 7/7 [00:05<00:00,  1.32it/s]\n",
      "Training (17737 / 18000 Steps) (loss=0.28493): 100%|██████████| 7/7 [00:05<00:00,  1.30it/s]\n",
      "Training (17744 / 18000 Steps) (loss=0.52086): 100%|██████████| 7/7 [00:05<00:00,  1.34it/s]\n",
      "Training (17751 / 18000 Steps) (loss=0.61822): 100%|██████████| 7/7 [00:05<00:00,  1.35it/s]\n",
      "Training (17758 / 18000 Steps) (loss=0.35282): 100%|██████████| 7/7 [00:05<00:00,  1.31it/s]\n",
      "Training (17765 / 18000 Steps) (loss=0.28176): 100%|██████████| 7/7 [00:05<00:00,  1.23it/s]\n",
      "Training (17772 / 18000 Steps) (loss=0.41344): 100%|██████████| 7/7 [00:05<00:00,  1.33it/s]\n",
      "Training (17779 / 18000 Steps) (loss=0.66695): 100%|██████████| 7/7 [00:05<00:00,  1.33it/s]\n",
      "Training (17786 / 18000 Steps) (loss=0.35349): 100%|██████████| 7/7 [00:05<00:00,  1.35it/s]\n",
      "Training (17793 / 18000 Steps) (loss=0.62428): 100%|██████████| 7/7 [00:05<00:00,  1.34it/s]\n",
      "Validate (17794 / 10 Steps): 100%|██████████| 2/2 [00:04<00:00,  2.01s/it]<00:00,  1.79it/s]\n",
      "Training (17800 / 18000 Steps) (loss=0.52857): 100%|██████████| 7/7 [00:09<00:00,  1.34s/it]\n"
     ]
    },
    {
     "name": "stdout",
     "output_type": "stream",
     "text": [
      "Model Was Not Saved ! Current Best Avg. Dice: 0.33308055996894836 Current Avg. Dice: 0.2599576413631439 Current Avg. tumor Dice: 0.34072014689445496 Current Avg. lymph Dice: 0.17919513583183289\n"
     ]
    },
    {
     "name": "stderr",
     "output_type": "stream",
     "text": [
      "Training (17807 / 18000 Steps) (loss=0.12308): 100%|██████████| 7/7 [00:05<00:00,  1.34it/s]\n",
      "Training (17814 / 18000 Steps) (loss=0.27076): 100%|██████████| 7/7 [00:05<00:00,  1.31it/s]\n",
      "Training (17821 / 18000 Steps) (loss=0.53628): 100%|██████████| 7/7 [00:05<00:00,  1.34it/s]\n",
      "Training (17828 / 18000 Steps) (loss=0.28452): 100%|██████████| 7/7 [00:05<00:00,  1.33it/s]\n",
      "Training (17835 / 18000 Steps) (loss=0.43768): 100%|██████████| 7/7 [00:05<00:00,  1.34it/s]\n",
      "Training (17842 / 18000 Steps) (loss=0.46701): 100%|██████████| 7/7 [00:05<00:00,  1.34it/s]\n",
      "Training (17849 / 18000 Steps) (loss=0.41726): 100%|██████████| 7/7 [00:05<00:00,  1.28it/s]\n",
      "Training (17856 / 18000 Steps) (loss=0.29868): 100%|██████████| 7/7 [00:05<00:00,  1.31it/s]\n",
      "Training (17863 / 18000 Steps) (loss=0.30796): 100%|██████████| 7/7 [00:05<00:00,  1.36it/s]\n",
      "Training (17870 / 18000 Steps) (loss=0.43595): 100%|██████████| 7/7 [00:05<00:00,  1.27it/s]\n",
      "Training (17877 / 18000 Steps) (loss=0.37508): 100%|██████████| 7/7 [00:05<00:00,  1.29it/s]\n",
      "Training (17884 / 18000 Steps) (loss=0.39738): 100%|██████████| 7/7 [00:05<00:00,  1.31it/s]\n",
      "Training (17891 / 18000 Steps) (loss=0.51408): 100%|██████████| 7/7 [00:05<00:00,  1.30it/s]\n",
      "Training (17898 / 18000 Steps) (loss=0.40667): 100%|██████████| 7/7 [00:05<00:00,  1.37it/s]\n",
      "Validate (17899 / 10 Steps): 100%|██████████| 2/2 [00:04<00:00,  2.02s/it]<00:17,  2.94s/it]\n",
      "Training (17900 / 18000 Steps) (loss=0.21121):  29%|██▊       | 2/7 [00:07<00:19,  3.85s/it]"
     ]
    },
    {
     "name": "stdout",
     "output_type": "stream",
     "text": [
      "Model Was Not Saved ! Current Best Avg. Dice: 0.33308055996894836 Current Avg. Dice: 0.2811535596847534 Current Avg. tumor Dice: 0.3205595314502716 Current Avg. lymph Dice: 0.24174764752388\n"
     ]
    },
    {
     "name": "stderr",
     "output_type": "stream",
     "text": [
      "Training (17905 / 18000 Steps) (loss=0.24944): 100%|██████████| 7/7 [00:09<00:00,  1.34s/it]\n",
      "Training (17912 / 18000 Steps) (loss=0.40191): 100%|██████████| 7/7 [00:05<00:00,  1.36it/s]\n",
      "Training (17919 / 18000 Steps) (loss=0.21961): 100%|██████████| 7/7 [00:05<00:00,  1.31it/s]\n",
      "Training (17926 / 18000 Steps) (loss=0.51910): 100%|██████████| 7/7 [00:05<00:00,  1.35it/s]\n",
      "Training (17933 / 18000 Steps) (loss=0.43186): 100%|██████████| 7/7 [00:05<00:00,  1.33it/s]\n",
      "Training (17940 / 18000 Steps) (loss=0.35157): 100%|██████████| 7/7 [00:05<00:00,  1.29it/s]\n",
      "Training (17947 / 18000 Steps) (loss=0.34693): 100%|██████████| 7/7 [00:05<00:00,  1.32it/s]\n",
      "Training (17954 / 18000 Steps) (loss=0.17637): 100%|██████████| 7/7 [00:05<00:00,  1.30it/s]\n",
      "Training (17961 / 18000 Steps) (loss=0.32796): 100%|██████████| 7/7 [00:05<00:00,  1.29it/s]\n",
      "Training (17968 / 18000 Steps) (loss=0.46376): 100%|██████████| 7/7 [00:05<00:00,  1.33it/s]\n",
      "Training (17975 / 18000 Steps) (loss=0.44315): 100%|██████████| 7/7 [00:05<00:00,  1.35it/s]\n",
      "Training (17982 / 18000 Steps) (loss=0.32082): 100%|██████████| 7/7 [00:05<00:00,  1.30it/s]\n",
      "Training (17989 / 18000 Steps) (loss=0.39317): 100%|██████████| 7/7 [00:05<00:00,  1.28it/s]\n",
      "Training (17996 / 18000 Steps) (loss=0.52829): 100%|██████████| 7/7 [00:05<00:00,  1.37it/s]\n",
      "Validate (17997 / 10 Steps): 100%|██████████| 2/2 [00:04<00:00,  2.03s/it]<00:03,  1.00it/s]\n",
      "Training (18000 / 18000 Steps) (loss=0.39670):  57%|█████▋    | 4/7 [00:08<00:07,  2.39s/it]"
     ]
    },
    {
     "name": "stdout",
     "output_type": "stream",
     "text": [
      "Model Was Not Saved ! Current Best Avg. Dice: 0.33308055996894836 Current Avg. Dice: 0.29835063219070435 Current Avg. tumor Dice: 0.31030362844467163 Current Avg. lymph Dice: 0.28639763593673706\n"
     ]
    },
    {
     "name": "stderr",
     "output_type": "stream",
     "text": [
      "Training (18003 / 18000 Steps) (loss=0.27915): 100%|██████████| 7/7 [00:09<00:00,  1.36s/it]\n"
     ]
    }
   ],
   "source": [
    "model_dir = '/home/nada.saadi/CTPET/hecktor2022_cropped/7thPETchannelonly'\n",
    "\n",
    "def validation(epoch_iterator_val):\n",
    "    model.eval()\n",
    "    with torch.no_grad():\n",
    "        for step, batch in enumerate(epoch_iterator_val):\n",
    "            val_inputs, val_labels = (batch[\"pt\"].cuda(), batch[\"seg\"].cuda())\n",
    "            val_outputs = sliding_window_inference(val_inputs, (96, 96, 96), 4, model)\n",
    "            val_labels_list = decollate_batch(val_labels)\n",
    "            val_labels_convert = [\n",
    "                post_label(val_label_tensor) for val_label_tensor in val_labels_list\n",
    "            ]\n",
    "            val_outputs_list = decollate_batch(val_outputs)\n",
    "            val_output_convert = [\n",
    "                post_pred(val_pred_tensor) for val_pred_tensor in val_outputs_list\n",
    "            ]\n",
    "            dice_metric(y_pred=val_output_convert, y=val_labels_convert)\n",
    "            dice_metric_batch(y_pred=val_output_convert, y=val_labels_convert)\n",
    "            epoch_iterator_val.set_description(\n",
    "                \"Validate (%d / %d Steps)\" % (global_step, 10.0)\n",
    "            )\n",
    "        mean_dice_val = dice_metric.aggregate().item()\n",
    "        metric_batch_val = dice_metric_batch.aggregate()\n",
    "\n",
    "        metric_tumor = metric_batch_val[0].item()\n",
    "        metric_lymph = metric_batch_val[1].item()\n",
    "\n",
    "        dice_metric.reset()\n",
    "        dice_metric_batch.reset()\n",
    "    return mean_dice_val, metric_tumor, metric_lymph\n",
    "\n",
    "\n",
    "def train(global_step, train_loader, dice_val_best, global_step_best):\n",
    "    model.train()\n",
    "    epoch_loss = 0\n",
    "    step = 0\n",
    "    epoch_iterator = tqdm(\n",
    "        train_loader, desc=\"Training (X / X Steps) (loss=X.X)\", dynamic_ncols=True\n",
    "    )\n",
    "    for step, batch in enumerate(epoch_iterator):\n",
    "        step += 1\n",
    "        x, y = (batch[\"pt\"].cuda(), batch[\"seg\"].cuda())\n",
    "        logit_map = model(x)\n",
    "        loss = loss_function(logit_map, y)\n",
    "        loss.backward()\n",
    "        epoch_loss += loss.item()\n",
    "        optimizer.step()\n",
    "        optimizer.zero_grad()\n",
    "        epoch_iterator.set_description(\n",
    "            \"Training (%d / %d Steps) (loss=%2.5f)\"\n",
    "            % (global_step, max_iterations, loss)\n",
    "        )\n",
    "        if (\n",
    "            global_step % eval_num == 0 and global_step != 0\n",
    "        ) or global_step == max_iterations:\n",
    "            epoch_iterator_val = tqdm(\n",
    "                val_loader, desc=\"Validate (X / X Steps) (dice=X.X)\", dynamic_ncols=True\n",
    "            )\n",
    "            dice_val, metric_tumor, metric_lymph = validation(epoch_iterator_val)\n",
    "            epoch_loss /= step\n",
    "            epoch_loss_values.append(epoch_loss)\n",
    "            metric_values.append(dice_val)\n",
    "            metric_values_tumor.append(metric_tumor)\n",
    "            metric_values_lymph.append(metric_lymph)\n",
    "            if dice_val > dice_val_best:\n",
    "                dice_val_best = dice_val\n",
    "                global_step_best = global_step\n",
    "                torch.save(\n",
    "                    model.state_dict(), os.path.join(model_dir, \"7thPETonly_channel.pth\")\n",
    "                )\n",
    "                print(\n",
    "                    \"Model Was Saved ! Current Best Avg. Dice: {} Current Avg. Dice: {} Current Avg. tumor Dice: {} Current Avg. lymph Dice: {}\".format(\n",
    "                        dice_val_best, dice_val, metric_tumor, metric_lymph\n",
    "                    )\n",
    "                )\n",
    "            else:\n",
    "                print(\n",
    "                    \"Model Was Not Saved ! Current Best Avg. Dice: {} Current Avg. Dice: {} Current Avg. tumor Dice: {} Current Avg. lymph Dice: {}\".format(\n",
    "                        dice_val_best, dice_val,  metric_tumor, metric_lymph\n",
    "                    )\n",
    "                )\n",
    "        global_step += 1\n",
    "    return global_step, dice_val_best, global_step_best\n",
    "\n",
    "\n",
    "max_iterations = 18000\n",
    "eval_num = 100\n",
    "\n",
    "post_label = AsDiscrete(to_onehot=3)\n",
    "post_pred = AsDiscrete(argmax=True, to_onehot=3)\n",
    "\n",
    "dice_metric = DiceMetric(include_background=False, reduction=\"mean\", get_not_nans=False)\n",
    "dice_metric_batch = DiceMetric(include_background=False, reduction=\"mean_batch\")\n",
    "\n",
    "epoch = 0\n",
    "max_num_epochs = 530\n",
    "\n",
    "global_step = 0\n",
    "dice_val_best = 0.0\n",
    "global_step_best = 0\n",
    "epoch_loss_values = []\n",
    "metric_values = []\n",
    "metric_values_tumor = []\n",
    "metric_values_lymph = []\n",
    "while global_step < max_iterations:\n",
    "    global_step, dice_val_best, global_step_best = train(\n",
    "        global_step, train_loader, dice_val_best, global_step_best\n",
    "    )\n",
    "    # wandb.log({'learning_rate': optimizer.param_groups[0]['lr']})\n",
    "    # wandb.log({'Best Dice': dice_val_best})\n",
    "    epoch += 1\n",
    "    #optimizer.param_groups[0]['lr'] = poly_lr(epoch, max_num_epochs, 0.005676 , 0.9)\n",
    "# model.load_state_dict(torch.load(os.path.join(model_dir, \"best_metric_luck_UNETr_prompt.pth\")))"
   ]
  },
  {
   "cell_type": "code",
   "execution_count": null,
   "metadata": {},
   "outputs": [],
   "source": []
  }
 ],
 "metadata": {
  "kernelspec": {
   "display_name": "clam",
   "language": "python",
   "name": "python3"
  },
  "language_info": {
   "codemirror_mode": {
    "name": "ipython",
    "version": 3
   },
   "file_extension": ".py",
   "mimetype": "text/x-python",
   "name": "python",
   "nbconvert_exporter": "python",
   "pygments_lexer": "ipython3",
   "version": "3.8.0"
  }
 },
 "nbformat": 4,
 "nbformat_minor": 2
}
