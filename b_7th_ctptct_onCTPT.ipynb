{
 "cells": [
  {
   "cell_type": "code",
   "execution_count": 1,
   "metadata": {},
   "outputs": [
    {
     "name": "stdout",
     "output_type": "stream",
     "text": [
      "1\n"
     ]
    },
    {
     "name": "stderr",
     "output_type": "stream",
     "text": [
      "/tmp/ipykernel_145520/1823423695.py:9: TqdmWarning: IProgress not found. Please update jupyter and ipywidgets. See https://ipywidgets.readthedocs.io/en/stable/user_install.html\n",
      "  from tqdm.autonotebook import tqdm\n"
     ]
    }
   ],
   "source": [
    "import torch\n",
    "import torch.nn as nn\n",
    "from torch.utils.data import DataLoader\n",
    "from collections.abc import Sequence\n",
    "\n",
    "from unetr import CustomedUNETR\n",
    "\n",
    "import json\n",
    "from tqdm.autonotebook import tqdm\n",
    "import os\n",
    "os.environ[\"CUDA_DEVICE_ORDER\"] = \"PCI_BUS_ID\"\n",
    "os.environ[\"CUDA_VISIBLE_DEVICES\"] = \"4\" \n",
    "\n",
    "print(torch.cuda.device_count())\n",
    "torch.backends.cudnn.benchmark = True\n",
    "device = torch.device(\"cuda\" if torch.cuda.is_available() else \"cpu\")"
   ]
  },
  {
   "cell_type": "code",
   "execution_count": 2,
   "metadata": {},
   "outputs": [],
   "source": [
    "import os\n",
    "import shutil\n",
    "import tempfile\n",
    "\n",
    "import matplotlib.pyplot as plt\n",
    "import numpy as np\n",
    "from tqdm import tqdm\n",
    "from glob import glob\n",
    "# import wandb\n",
    "\n",
    "import monai\n",
    "from monai.losses import DiceCELoss, DiceFocalLoss, FocalLoss\n",
    "from monai.inferers import sliding_window_inference\n",
    "from monai import transforms\n",
    "\n",
    "from monai.transforms import (\n",
    "       AsDiscrete,\n",
    "    Compose,\n",
    "    CropForegroundd,\n",
    "    LoadImaged,\n",
    "    Orientationd,\n",
    "    RandFlipd,\n",
    "    RandCropByPosNegLabeld,\n",
    "    RandShiftIntensityd,\n",
    "    ScaleIntensityRanged,\n",
    "    Spacingd,\n",
    "    RandRotate90d,\n",
    "    MapTransform,\n",
    "    ScaleIntensityd,\n",
    "    #AddChanneld,\n",
    "    SpatialPadd,\n",
    "    CenterSpatialCropd,\n",
    "    EnsureChannelFirstd,\n",
    "    ConcatItemsd,\n",
    "    AdjustContrastd, \n",
    "    Rand3DElasticd,\n",
    "    HistogramNormalized,\n",
    "    NormalizeIntensityd,\n",
    "    Invertd,\n",
    "    SaveImage,\n",
    "\n",
    ")\n",
    "\n",
    "from monai.config import print_config\n",
    "from monai.metrics import DiceMetric\n",
    "from monai.networks.nets import SwinUNETR, UNETR, SegResNet\n",
    "from monai.data import (\n",
    "    DataLoader,\n",
    "    CacheDataset,\n",
    "    load_decathlon_datalist,\n",
    "    decollate_batch,\n",
    ")\n",
    "from monai import data\n",
    "\n",
    "\n",
    "from monai.utils import first, set_determinism\n",
    "from sklearn.model_selection import train_test_split\n",
    "import json\n",
    "\n",
    "\n",
    "import torch"
   ]
  },
  {
   "cell_type": "code",
   "execution_count": 3,
   "metadata": {},
   "outputs": [
    {
     "name": "stdout",
     "output_type": "stream",
     "text": [
      "JSON file created at /home/nada.saadi/CTPET/hecktor2022_cropped/HMR_ctpt_train_new.json\n"
     ]
    }
   ],
   "source": [
    "import os\n",
    "import json\n",
    "import random\n",
    "from glob import glob\n",
    "\n",
    "def generate_paths(patient_id):\n",
    "    base_dir = '/home/nada.saadi/MIS-FM/hecktor2022_cropped/data'\n",
    "    return {\n",
    "        'id': os.path.join(base_dir, patient_id),\n",
    "        'ct': os.path.join(base_dir, patient_id, f\"{patient_id}_ct.nii.gz\"),\n",
    "        'pt': os.path.join(base_dir, patient_id, f\"{patient_id}_pt.nii.gz\"),\n",
    "        'seg': os.path.join(base_dir, patient_id, f\"{patient_id}_gt.nii.gz\")\n",
    "    }\n",
    "\n",
    "# Assign each data entry to a random fold\n",
    "all_data = []\n",
    "num_folds = 5\n",
    "\n",
    "for file_dir in sorted(glob('data/*')):\n",
    "    patient_id = file_dir.split('/')[-1]\n",
    "    # Check if the file belongs to the MDA center\n",
    "    if patient_id.startswith(\"HMR-\"):\n",
    "        entry = generate_paths(patient_id)\n",
    "        entry['fold'] = random.randint(1, num_folds) - 1\n",
    "        all_data.append(entry)\n",
    "\n",
    "# Compile data into a JSON structure\n",
    "data_json = {\"training\": all_data}\n",
    "\n",
    "# Save to JSON file\n",
    "json_file_path = \"/home/nada.saadi/CTPET/hecktor2022_cropped/HMR_ctpt_train_new.json\"\n",
    "with open(json_file_path, 'w') as f:\n",
    "    json.dump(data_json, f, indent=4)\n",
    "\n",
    "print(f\"JSON file created at {json_file_path}\")\n"
   ]
  },
  {
   "cell_type": "code",
   "execution_count": 4,
   "metadata": {},
   "outputs": [
    {
     "name": "stdout",
     "output_type": "stream",
     "text": [
      "[{'id': '/home/nada.saadi/MIS-FM/hecktor2022_cropped/data/HMR-001', 'ct': '/home/nada.saadi/MIS-FM/hecktor2022_cropped/data/HMR-001/HMR-001_ct.nii.gz', 'pt': '/home/nada.saadi/MIS-FM/hecktor2022_cropped/data/HMR-001/HMR-001_pt.nii.gz', 'seg': '/home/nada.saadi/MIS-FM/hecktor2022_cropped/data/HMR-001/HMR-001_gt.nii.gz', 'fold': 2}, {'id': '/home/nada.saadi/MIS-FM/hecktor2022_cropped/data/HMR-004', 'ct': '/home/nada.saadi/MIS-FM/hecktor2022_cropped/data/HMR-004/HMR-004_ct.nii.gz', 'pt': '/home/nada.saadi/MIS-FM/hecktor2022_cropped/data/HMR-004/HMR-004_pt.nii.gz', 'seg': '/home/nada.saadi/MIS-FM/hecktor2022_cropped/data/HMR-004/HMR-004_gt.nii.gz', 'fold': 0}, {'id': '/home/nada.saadi/MIS-FM/hecktor2022_cropped/data/HMR-005', 'ct': '/home/nada.saadi/MIS-FM/hecktor2022_cropped/data/HMR-005/HMR-005_ct.nii.gz', 'pt': '/home/nada.saadi/MIS-FM/hecktor2022_cropped/data/HMR-005/HMR-005_pt.nii.gz', 'seg': '/home/nada.saadi/MIS-FM/hecktor2022_cropped/data/HMR-005/HMR-005_gt.nii.gz', 'fold': 2}, {'id': '/home/nada.saadi/MIS-FM/hecktor2022_cropped/data/HMR-011', 'ct': '/home/nada.saadi/MIS-FM/hecktor2022_cropped/data/HMR-011/HMR-011_ct.nii.gz', 'pt': '/home/nada.saadi/MIS-FM/hecktor2022_cropped/data/HMR-011/HMR-011_pt.nii.gz', 'seg': '/home/nada.saadi/MIS-FM/hecktor2022_cropped/data/HMR-011/HMR-011_gt.nii.gz', 'fold': 2}, {'id': '/home/nada.saadi/MIS-FM/hecktor2022_cropped/data/HMR-012', 'ct': '/home/nada.saadi/MIS-FM/hecktor2022_cropped/data/HMR-012/HMR-012_ct.nii.gz', 'pt': '/home/nada.saadi/MIS-FM/hecktor2022_cropped/data/HMR-012/HMR-012_pt.nii.gz', 'seg': '/home/nada.saadi/MIS-FM/hecktor2022_cropped/data/HMR-012/HMR-012_gt.nii.gz', 'fold': 2}]\n"
     ]
    }
   ],
   "source": [
    "import json\n",
    "\n",
    "json_file_path = \"/home/nada.saadi/CTPET/hecktor2022_cropped/HMR_ctpt_train_new.json\"\n",
    "\n",
    "with open(json_file_path, 'r') as f:\n",
    "    data = json.load(f)\n",
    "\n",
    "first_5_elements = data[\"training\"][:5]\n",
    "print(first_5_elements)"
   ]
  },
  {
   "cell_type": "code",
   "execution_count": 5,
   "metadata": {},
   "outputs": [],
   "source": [
    "data_dir = '/home/nada.saadi/MIS-FM/hecktor2022_cropped'\n",
    "json_dir = \"/home/nada.saadi/CTPET/hecktor2022_cropped/HMR_ctpt_train_new.json\""
   ]
  },
  {
   "cell_type": "code",
   "execution_count": 6,
   "metadata": {},
   "outputs": [],
   "source": [
    "def datafold_read(datalist, basedir, fold=0, key=\"training\"):\n",
    "    with open(datalist) as f:\n",
    "        json_data = json.load(f)\n",
    "\n",
    "    json_data = json_data[key]\n",
    "\n",
    "    for d in json_data:\n",
    "        for k in d:\n",
    "            if isinstance(d[k], list):\n",
    "                d[k] = [os.path.join(basedir, iv) for iv in d[k]]\n",
    "            elif isinstance(d[k], str):\n",
    "                d[k] = os.path.join(basedir, d[k]) if len(d[k]) > 0 else d[k]\n",
    "\n",
    "    tr = []\n",
    "    val = []\n",
    "    for d in json_data:\n",
    "        if \"fold\" in d and d[\"fold\"] == fold:\n",
    "            val.append(d)\n",
    "        else:\n",
    "            tr.append(d)\n",
    "\n",
    "    return tr, val"
   ]
  },
  {
   "cell_type": "code",
   "execution_count": 8,
   "metadata": {},
   "outputs": [
    {
     "data": {
      "text/plain": [
       "(13, 4)"
      ]
     },
     "execution_count": 8,
     "metadata": {},
     "output_type": "execute_result"
    }
   ],
   "source": [
    "train_files, validation_files = datafold_read(datalist=json_dir, basedir=data_dir, fold=1)\n",
    "len(train_files), len(validation_files)"
   ]
  },
  {
   "cell_type": "code",
   "execution_count": 9,
   "metadata": {},
   "outputs": [],
   "source": [
    "class ClipCT(MapTransform):\n",
    "    \"\"\"\n",
    "    Convert labels to multi channels based on hecktor classes:\n",
    "    label 1 is the tumor\n",
    "    label 2 is the lymph node\n",
    "\n",
    "    \"\"\"\n",
    "\n",
    "    def __call__(self, data):\n",
    "        d = dict(data)\n",
    "        for key in self.keys:\n",
    "            if key == \"ct\":\n",
    "                d[key] = torch.clip(d[key], min=-200, max=200)\n",
    "            # elif key == \"pt\":\n",
    "            #     d[key] = torch.clip(d[key], d[key].min(), 5)\n",
    "        return d\n",
    "\n",
    "class MulPTFM(MapTransform):\n",
    "    \"\"\"\n",
    "    Mult PT and FM \n",
    "\n",
    "    \"\"\"\n",
    "\n",
    "    def __call__(self, data):\n",
    "        d = dict(data)\n",
    "\n",
    "        fm = d[\"ct\"] > 0\n",
    "        d[\"pt\"] = d[\"pt\"] * fm\n",
    "        return d\n",
    "\n",
    "class SelectClass(MapTransform):\n",
    "    \"\"\"\n",
    "    Select the class for which you want to fine tune the model \n",
    "\n",
    "    \"\"\"\n",
    "    # def __init__(self, keys, cls=1):\n",
    "    #     super(self).__init__(keys)\n",
    "    #     self.cls = cls\n",
    "\n",
    "    def __call__(self, data):\n",
    "        d = dict(data)\n",
    "        d[\"seg\"][d[\"seg\"] == 1] = 0\n",
    "        # d[\"seg\"][d[\"seg\"] == 2] = 1\n",
    "        \n",
    "        return d"
   ]
  },
  {
   "cell_type": "code",
   "execution_count": 10,
   "metadata": {},
   "outputs": [],
   "source": [
    "num_samples = 4\n",
    "\n",
    "train_transforms = Compose(\n",
    "    [\n",
    "        LoadImaged(keys=[\"ct\", \"pt\", \"seg\"], ensure_channel_first = True),\n",
    "        SpatialPadd(keys=[\"ct\", \"pt\", \"seg\"], spatial_size=(200, 200, 310), method='end'),\n",
    "        Orientationd(keys=[\"ct\", \"pt\", \"seg\"], axcodes=\"PLS\"),\n",
    "        NormalizeIntensityd(keys=[\"pt\"]),\n",
    "        ClipCT(keys=[\"ct\"]),\n",
    "        ScaleIntensityd(keys=[\"ct\"], minv=0, maxv=1),\n",
    "        #MulPTFM(keys=[\"ct\",\"pt\"]),\n",
    "        ConcatItemsd(keys=[\"pt\", \"ct\"], name=\"ctpt\"),\n",
    "        #NormalizeIntensityd(keys=[\"ctpt\"], channel_wise=True),\n",
    "        RandCropByPosNegLabeld(\n",
    "            keys=[\"ctpt\", \"seg\"],\n",
    "            label_key=\"seg\",\n",
    "            spatial_size=(96, 96, 96),\n",
    "            pos=1,\n",
    "            neg=1,\n",
    "            num_samples=num_samples,\n",
    "            image_key=\"ctpt\",\n",
    "            image_threshold=0,\n",
    "        ),\n",
    "        RandFlipd(\n",
    "            keys=[\"ctpt\", \"seg\"],\n",
    "            spatial_axis=[0],\n",
    "            prob=0.20,\n",
    "        ),\n",
    "        RandFlipd(\n",
    "            keys=[\"ctpt\", \"seg\"],\n",
    "            spatial_axis=[1],\n",
    "            prob=0.20,\n",
    "        ),\n",
    "        RandFlipd(\n",
    "            keys=[\"ctpt\", \"seg\"],\n",
    "            spatial_axis=[2],\n",
    "            prob=0.20,\n",
    "        ),\n",
    "        RandRotate90d(\n",
    "            keys=[\"ctpt\", \"seg\"],\n",
    "            prob=0.20,\n",
    "            max_k=3,\n",
    "        ),\n",
    "    ]\n",
    ")\n",
    "val_transforms = Compose(\n",
    "    [\n",
    "        LoadImaged(keys=[\"ct\", \"pt\", \"seg\"], ensure_channel_first = True),\n",
    "        SpatialPadd(keys=[\"ct\", \"pt\", \"seg\"], spatial_size=(200, 200, 310), method='end'),\n",
    "        Orientationd(keys=[\"ct\", \"pt\", \"seg\"], axcodes=\"PLS\"),\n",
    "        NormalizeIntensityd(keys=[\"pt\"]),\n",
    "        ClipCT(keys=[\"ct\"]),\n",
    "        ScaleIntensityd(keys=[\"ct\"], minv=0, maxv=1),\n",
    "        #MulPTFM(keys=[\"ct\",\"pt\"]),\n",
    "        ConcatItemsd(keys=[\"pt\", \"ct\"], name=\"ctpt\"),\n",
    "    ]\n",
    ")"
   ]
  },
  {
   "cell_type": "code",
   "execution_count": 11,
   "metadata": {},
   "outputs": [],
   "source": [
    "train_ds = monai.data.Dataset(data=train_files, transform=train_transforms)\n",
    "\n",
    "train_loader = DataLoader(\n",
    "    train_ds,\n",
    "    batch_size=2,\n",
    "    shuffle=True,\n",
    "    num_workers=8,\n",
    "    pin_memory=torch.cuda.is_available(),\n",
    "    )\n",
    "\n",
    "val_ds = monai.data.Dataset(data=validation_files, transform=val_transforms)\n",
    "\n",
    "val_loader = DataLoader(\n",
    "    val_ds, \n",
    "    batch_size=2, \n",
    "    num_workers=8, \n",
    "    shuffle= False)"
   ]
  },
  {
   "cell_type": "code",
   "execution_count": 12,
   "metadata": {},
   "outputs": [
    {
     "name": "stderr",
     "output_type": "stream",
     "text": [
      "/home/nada.saadi/miniconda3/envs/clam/lib/python3.8/site-packages/monai/utils/deprecate_utils.py:221: FutureWarning: unetr CustomedUNETR.__init__:pos_embed: Argument `pos_embed` has been deprecated since version 1.2. It will be removed in version 1.4. please use `proj_type` instead.\n",
      "  warn_deprecated(argname, msg, warning_category)\n"
     ]
    },
    {
     "name": "stdout",
     "output_type": "stream",
     "text": [
      "Nada's version of UNETR\n",
      "(96, 96, 96)\n",
      "(16, 16, 16)\n",
      "(6, 6, 6)\n",
      "768\n",
      "zaz w dakchi ya s lbnat\n"
     ]
    }
   ],
   "source": [
    "model = CustomedUNETR(\n",
    "    in_channels=1,  # Number of input channels\n",
    "    out_channels=3,  # Number of output channels\n",
    "    img_size=(96, 96, 96),  # Size of the input image\n",
    "    feature_size=48,  # Size of the feature maps\n",
    "    hidden_size=768,\n",
    "    num_heads=12,  # Size of the hidden layers in the transformer\n",
    "    mlp_dim=3072,  # Dimension of the MLP in the transformer\n",
    "    pos_embed=\"perceptron\",  # Type of positional embedding\n",
    "    norm_name=\"instance\",  # Type of normalization\n",
    "    res_block=True,  # Whether to use residual blocks\n",
    "    dropout_rate=0.0,\n",
    "    proj_type=\"conv\",\n",
    "    r=4,\n",
    "    lora_layer=True,\n",
    "    use_ct_encoder=True,\n",
    "    use_pet_encoder=True,\n",
    ").to(device)\n",
    "\n",
    "rt7 = '/home/nada.saadi/CTPET/hecktor2022_cropped/b_7th/b_7th_ctptct.pth'\n",
    "state_dict = torch.load(rt7)\n",
    "model_state_dict = model.state_dict()\n",
    "for name, param in state_dict.items():\n",
    "    if name in model_state_dict:\n",
    "        if param.shape == model_state_dict[name].shape:\n",
    "            model_state_dict[name] = param\n",
    "\n",
    "model.load_state_dict(model_state_dict) \n",
    "\n",
    "for name, param in model.named_parameters():\n",
    "    if \"decoder5\" in name or \"decoder4\" in name or \"decoder3\" in name or \"decoder2\" in name:\n",
    "        param.requires_grad = False"
   ]
  },
  {
   "cell_type": "code",
   "execution_count": 13,
   "metadata": {},
   "outputs": [],
   "source": [
    "torch.backends.cudnn.benchmark = True\n",
    "def poly_lr(epoch, max_epochs, initial_lr, exponent=0.9):\n",
    "    return initial_lr * (1 - epoch / max_epochs)**exponent\n",
    "\n",
    "loss_function = DiceCELoss(to_onehot_y=True, softmax=True)\n",
    "optimizer = torch.optim.AdamW(model.parameters(), lr=1e-4, weight_decay=1e-5)"
   ]
  },
  {
   "cell_type": "code",
   "execution_count": 14,
   "metadata": {},
   "outputs": [
    {
     "name": "stderr",
     "output_type": "stream",
     "text": [
      "Training (6 / 18000 Steps) (loss=0.62261): 100%|██████████| 7/7 [01:55<00:00, 16.53s/it]\n",
      "Training (13 / 18000 Steps) (loss=0.71472): 100%|██████████| 7/7 [00:27<00:00,  3.86s/it]\n",
      "Training (20 / 18000 Steps) (loss=0.42392): 100%|██████████| 7/7 [00:26<00:00,  3.83s/it]\n",
      "Training (27 / 18000 Steps) (loss=0.62535): 100%|██████████| 7/7 [00:25<00:00,  3.69s/it]\n",
      "Training (34 / 18000 Steps) (loss=0.50280): 100%|██████████| 7/7 [00:21<00:00,  3.12s/it]\n",
      "Training (41 / 18000 Steps) (loss=0.35758): 100%|██████████| 7/7 [00:16<00:00,  2.30s/it]\n",
      "Training (48 / 18000 Steps) (loss=0.38938): 100%|██████████| 7/7 [00:14<00:00,  2.10s/it]\n",
      "Training (55 / 18000 Steps) (loss=0.66205): 100%|██████████| 7/7 [00:15<00:00,  2.17s/it]\n",
      "Training (62 / 18000 Steps) (loss=0.50814): 100%|██████████| 7/7 [00:14<00:00,  2.11s/it]\n",
      "Training (69 / 18000 Steps) (loss=0.41853): 100%|██████████| 7/7 [00:14<00:00,  2.04s/it]\n",
      "Training (76 / 18000 Steps) (loss=0.51853): 100%|██████████| 7/7 [00:15<00:00,  2.29s/it]\n",
      "Training (83 / 18000 Steps) (loss=0.44812): 100%|██████████| 7/7 [00:14<00:00,  2.09s/it]\n",
      "Training (90 / 18000 Steps) (loss=0.48608): 100%|██████████| 7/7 [00:14<00:00,  2.10s/it]\n",
      "Training (97 / 18000 Steps) (loss=0.62289): 100%|██████████| 7/7 [00:15<00:00,  2.21s/it]\n",
      "Validate (98 / 10 Steps): 100%|██████████| 2/2 [00:12<00:00,  6.48s/it]9<00:19,  3.85s/it]\n",
      "Training (100 / 18000 Steps) (loss=0.25010):  43%|████▎     | 3/7 [00:24<00:36,  9.21s/it]"
     ]
    },
    {
     "name": "stdout",
     "output_type": "stream",
     "text": [
      "Model Was Saved ! Current Best Avg. Dice: 0.6877073049545288 Current Avg. Dice: 0.6877073049545288 Current Avg. tumor Dice: 0.8071473836898804 Current Avg. lymph Dice: 0.568267285823822\n"
     ]
    },
    {
     "name": "stderr",
     "output_type": "stream",
     "text": [
      "Training (104 / 18000 Steps) (loss=0.60548): 100%|██████████| 7/7 [00:29<00:00,  4.15s/it]\n",
      "Training (111 / 18000 Steps) (loss=0.41122): 100%|██████████| 7/7 [00:16<00:00,  2.30s/it]\n",
      "Training (118 / 18000 Steps) (loss=0.42828): 100%|██████████| 7/7 [00:14<00:00,  2.09s/it]\n",
      "Training (125 / 18000 Steps) (loss=0.37371): 100%|██████████| 7/7 [00:14<00:00,  2.03s/it]\n",
      "Training (132 / 18000 Steps) (loss=0.62053): 100%|██████████| 7/7 [00:14<00:00,  2.10s/it]\n",
      "Training (139 / 18000 Steps) (loss=0.41159): 100%|██████████| 7/7 [00:15<00:00,  2.19s/it]\n",
      "Training (146 / 18000 Steps) (loss=0.60181): 100%|██████████| 7/7 [00:14<00:00,  2.05s/it]\n",
      "Training (153 / 18000 Steps) (loss=0.51834): 100%|██████████| 7/7 [00:16<00:00,  2.36s/it]\n",
      "Training (160 / 18000 Steps) (loss=0.34151): 100%|██████████| 7/7 [00:15<00:00,  2.24s/it]\n",
      "Training (167 / 18000 Steps) (loss=0.27075): 100%|██████████| 7/7 [00:15<00:00,  2.16s/it]\n",
      "Training (174 / 18000 Steps) (loss=0.65068): 100%|██████████| 7/7 [00:14<00:00,  2.03s/it]\n",
      "Training (181 / 18000 Steps) (loss=0.42780): 100%|██████████| 7/7 [00:14<00:00,  2.08s/it]\n",
      "Training (188 / 18000 Steps) (loss=0.48539): 100%|██████████| 7/7 [00:15<00:00,  2.17s/it]\n",
      "Training (195 / 18000 Steps) (loss=0.61689): 100%|██████████| 7/7 [00:15<00:00,  2.20s/it]\n",
      "Validate (196 / 10 Steps): 100%|██████████| 2/2 [00:12<00:00,  6.07s/it]<00:06,  2.17s/it]\n",
      "Training (200 / 18000 Steps) (loss=0.42717):  71%|███████▏  | 5/7 [00:25<00:13,  6.62s/it]"
     ]
    },
    {
     "name": "stdout",
     "output_type": "stream",
     "text": [
      "Model Was Saved ! Current Best Avg. Dice: 0.7229617834091187 Current Avg. Dice: 0.7229617834091187 Current Avg. tumor Dice: 0.8419457077980042 Current Avg. lymph Dice: 0.6039777994155884\n"
     ]
    },
    {
     "name": "stderr",
     "output_type": "stream",
     "text": [
      "Training (202 / 18000 Steps) (loss=0.49740): 100%|██████████| 7/7 [00:27<00:00,  3.99s/it]\n",
      "Training (209 / 18000 Steps) (loss=0.20919): 100%|██████████| 7/7 [00:14<00:00,  2.08s/it]\n",
      "Training (216 / 18000 Steps) (loss=0.42396): 100%|██████████| 7/7 [00:14<00:00,  2.08s/it]\n",
      "Training (223 / 18000 Steps) (loss=0.20118): 100%|██████████| 7/7 [00:15<00:00,  2.17s/it]\n",
      "Training (230 / 18000 Steps) (loss=0.53339): 100%|██████████| 7/7 [00:15<00:00,  2.25s/it]\n",
      "Training (237 / 18000 Steps) (loss=0.49064): 100%|██████████| 7/7 [00:15<00:00,  2.20s/it]\n",
      "Training (244 / 18000 Steps) (loss=0.52688): 100%|██████████| 7/7 [00:14<00:00,  2.07s/it]\n",
      "Training (251 / 18000 Steps) (loss=0.34564): 100%|██████████| 7/7 [00:15<00:00,  2.20s/it]\n",
      "Training (258 / 18000 Steps) (loss=0.29339): 100%|██████████| 7/7 [00:16<00:00,  2.31s/it]\n",
      "Training (265 / 18000 Steps) (loss=0.24638): 100%|██████████| 7/7 [00:14<00:00,  2.07s/it]\n",
      "Training (272 / 18000 Steps) (loss=0.55076): 100%|██████████| 7/7 [00:15<00:00,  2.15s/it]\n",
      "Training (279 / 18000 Steps) (loss=0.46534): 100%|██████████| 7/7 [00:14<00:00,  2.07s/it]\n",
      "Training (286 / 18000 Steps) (loss=0.36214): 100%|██████████| 7/7 [00:14<00:00,  2.07s/it]\n",
      "Training (293 / 18000 Steps) (loss=0.33415): 100%|██████████| 7/7 [00:14<00:00,  2.09s/it]\n",
      "Validate (294 / 10 Steps): 100%|██████████| 2/2 [00:12<00:00,  6.13s/it]<00:01,  1.69s/it]\n",
      "Training (300 / 18000 Steps) (loss=0.47464): 100%|██████████| 7/7 [00:27<00:00,  3.86s/it]\n"
     ]
    },
    {
     "name": "stdout",
     "output_type": "stream",
     "text": [
      "Model Was Not Saved ! Current Best Avg. Dice: 0.7229617834091187 Current Avg. Dice: 0.7225730419158936 Current Avg. tumor Dice: 0.8286934494972229 Current Avg. lymph Dice: 0.6164526343345642\n"
     ]
    },
    {
     "name": "stderr",
     "output_type": "stream",
     "text": [
      "Training (307 / 18000 Steps) (loss=0.50290): 100%|██████████| 7/7 [00:15<00:00,  2.20s/it]\n",
      "Training (314 / 18000 Steps) (loss=0.39652): 100%|██████████| 7/7 [00:14<00:00,  2.02s/it]\n",
      "Training (321 / 18000 Steps) (loss=0.14907): 100%|██████████| 7/7 [00:16<00:00,  2.31s/it]\n",
      "Training (328 / 18000 Steps) (loss=0.43727): 100%|██████████| 7/7 [00:14<00:00,  2.12s/it]\n",
      "Training (335 / 18000 Steps) (loss=0.37083): 100%|██████████| 7/7 [00:15<00:00,  2.26s/it]\n",
      "Training (342 / 18000 Steps) (loss=0.44802): 100%|██████████| 7/7 [00:14<00:00,  2.01s/it]\n",
      "Training (349 / 18000 Steps) (loss=0.45168): 100%|██████████| 7/7 [00:15<00:00,  2.20s/it]\n",
      "Training (356 / 18000 Steps) (loss=0.61643): 100%|██████████| 7/7 [00:14<00:00,  2.04s/it]\n",
      "Training (363 / 18000 Steps) (loss=0.32133): 100%|██████████| 7/7 [00:14<00:00,  2.09s/it]\n",
      "Training (370 / 18000 Steps) (loss=0.48974): 100%|██████████| 7/7 [00:15<00:00,  2.17s/it]\n",
      "Training (377 / 18000 Steps) (loss=0.43310): 100%|██████████| 7/7 [00:15<00:00,  2.21s/it]\n",
      "Training (384 / 18000 Steps) (loss=0.45367): 100%|██████████| 7/7 [00:14<00:00,  2.03s/it]\n",
      "Training (391 / 18000 Steps) (loss=0.61651): 100%|██████████| 7/7 [00:14<00:00,  2.03s/it]\n",
      "Training (398 / 18000 Steps) (loss=0.41913): 100%|██████████| 7/7 [00:15<00:00,  2.23s/it]\n",
      "Validate (399 / 10 Steps): 100%|██████████| 2/2 [00:12<00:00,  6.11s/it]<00:42,  7.13s/it]\n",
      "Training (400 / 18000 Steps) (loss=0.39689):  29%|██▊       | 2/7 [00:21<00:57, 11.46s/it]"
     ]
    },
    {
     "name": "stdout",
     "output_type": "stream",
     "text": [
      "Model Was Saved ! Current Best Avg. Dice: 0.7245416641235352 Current Avg. Dice: 0.7245416641235352 Current Avg. tumor Dice: 0.8426941633224487 Current Avg. lymph Dice: 0.6063892841339111\n"
     ]
    },
    {
     "name": "stderr",
     "output_type": "stream",
     "text": [
      "Training (405 / 18000 Steps) (loss=0.50781): 100%|██████████| 7/7 [00:27<00:00,  3.99s/it]\n",
      "Training (412 / 18000 Steps) (loss=0.45402): 100%|██████████| 7/7 [00:15<00:00,  2.25s/it]\n",
      "Training (419 / 18000 Steps) (loss=0.17756): 100%|██████████| 7/7 [00:14<00:00,  2.09s/it]\n",
      "Training (426 / 18000 Steps) (loss=0.32531): 100%|██████████| 7/7 [00:14<00:00,  2.14s/it]\n",
      "Training (433 / 18000 Steps) (loss=0.46342): 100%|██████████| 7/7 [00:14<00:00,  2.13s/it]\n",
      "Training (440 / 18000 Steps) (loss=0.36716): 100%|██████████| 7/7 [00:15<00:00,  2.17s/it]\n",
      "Training (447 / 18000 Steps) (loss=0.43753): 100%|██████████| 7/7 [00:15<00:00,  2.21s/it]\n",
      "Training (454 / 18000 Steps) (loss=0.48506): 100%|██████████| 7/7 [00:15<00:00,  2.17s/it]\n",
      "Training (461 / 18000 Steps) (loss=0.34307): 100%|██████████| 7/7 [00:16<00:00,  2.37s/it]\n",
      "Training (468 / 18000 Steps) (loss=0.55340): 100%|██████████| 7/7 [00:14<00:00,  2.08s/it]\n",
      "Training (475 / 18000 Steps) (loss=0.41264): 100%|██████████| 7/7 [00:15<00:00,  2.21s/it]\n",
      "Training (482 / 18000 Steps) (loss=0.36867): 100%|██████████| 7/7 [00:14<00:00,  2.11s/it]\n",
      "Training (489 / 18000 Steps) (loss=0.39309): 100%|██████████| 7/7 [00:14<00:00,  2.06s/it]\n",
      "Training (496 / 18000 Steps) (loss=0.31456): 100%|██████████| 7/7 [00:15<00:00,  2.25s/it]\n",
      "Validate (497 / 10 Steps): 100%|██████████| 2/2 [00:12<00:00,  6.08s/it]<00:11,  2.90s/it]\n",
      "Training (500 / 18000 Steps) (loss=0.37067):  57%|█████▋    | 4/7 [00:25<00:22,  7.45s/it]"
     ]
    },
    {
     "name": "stdout",
     "output_type": "stream",
     "text": [
      "Model Was Saved ! Current Best Avg. Dice: 0.7388895153999329 Current Avg. Dice: 0.7388895153999329 Current Avg. tumor Dice: 0.8440631031990051 Current Avg. lymph Dice: 0.6337159276008606\n"
     ]
    },
    {
     "name": "stderr",
     "output_type": "stream",
     "text": [
      "Training (503 / 18000 Steps) (loss=0.55108): 100%|██████████| 7/7 [00:28<00:00,  4.12s/it]\n",
      "Training (510 / 18000 Steps) (loss=0.44317): 100%|██████████| 7/7 [00:15<00:00,  2.17s/it]\n",
      "Training (517 / 18000 Steps) (loss=0.47857): 100%|██████████| 7/7 [00:16<00:00,  2.37s/it]\n",
      "Training (524 / 18000 Steps) (loss=0.52607): 100%|██████████| 7/7 [00:14<00:00,  2.13s/it]\n",
      "Training (531 / 18000 Steps) (loss=0.42996): 100%|██████████| 7/7 [00:15<00:00,  2.28s/it]\n",
      "Training (538 / 18000 Steps) (loss=0.41652): 100%|██████████| 7/7 [00:15<00:00,  2.21s/it]\n",
      "Training (545 / 18000 Steps) (loss=0.60312): 100%|██████████| 7/7 [00:16<00:00,  2.37s/it]\n",
      "Training (552 / 18000 Steps) (loss=0.22754): 100%|██████████| 7/7 [00:15<00:00,  2.16s/it]\n",
      "Training (559 / 18000 Steps) (loss=0.53610): 100%|██████████| 7/7 [00:16<00:00,  2.35s/it]\n",
      "Training (566 / 18000 Steps) (loss=0.35730): 100%|██████████| 7/7 [00:16<00:00,  2.42s/it]\n",
      "Training (573 / 18000 Steps) (loss=0.33564): 100%|██████████| 7/7 [00:14<00:00,  2.03s/it]\n",
      "Training (580 / 18000 Steps) (loss=0.36403): 100%|██████████| 7/7 [00:15<00:00,  2.19s/it]\n",
      "Training (587 / 18000 Steps) (loss=0.45185): 100%|██████████| 7/7 [00:15<00:00,  2.28s/it]\n",
      "Training (594 / 18000 Steps) (loss=0.19721): 100%|██████████| 7/7 [00:14<00:00,  2.05s/it]\n",
      "Validate (595 / 10 Steps): 100%|██████████| 2/2 [00:12<00:00,  6.10s/it]<00:04,  2.00s/it]\n",
      "Training (600 / 18000 Steps) (loss=0.47001):  86%|████████▌ | 6/7 [00:27<00:05,  5.97s/it]"
     ]
    },
    {
     "name": "stdout",
     "output_type": "stream",
     "text": [
      "Model Was Not Saved ! Current Best Avg. Dice: 0.7388895153999329 Current Avg. Dice: 0.7291549444198608 Current Avg. tumor Dice: 0.8749923706054688 Current Avg. lymph Dice: 0.5833175778388977\n"
     ]
    },
    {
     "name": "stderr",
     "output_type": "stream",
     "text": [
      "Training (601 / 18000 Steps) (loss=0.32937): 100%|██████████| 7/7 [00:28<00:00,  4.09s/it]\n",
      "Training (608 / 18000 Steps) (loss=0.53827): 100%|██████████| 7/7 [00:15<00:00,  2.19s/it]\n",
      "Training (615 / 18000 Steps) (loss=0.53265): 100%|██████████| 7/7 [00:14<00:00,  2.13s/it]\n",
      "Training (622 / 18000 Steps) (loss=0.50372): 100%|██████████| 7/7 [00:14<00:00,  2.14s/it]\n",
      "Training (629 / 18000 Steps) (loss=0.39491): 100%|██████████| 7/7 [00:14<00:00,  2.09s/it]\n",
      "Training (636 / 18000 Steps) (loss=0.52129): 100%|██████████| 7/7 [00:15<00:00,  2.16s/it]\n",
      "Training (643 / 18000 Steps) (loss=0.32873): 100%|██████████| 7/7 [00:14<00:00,  2.06s/it]\n",
      "Training (650 / 18000 Steps) (loss=0.32300): 100%|██████████| 7/7 [00:15<00:00,  2.24s/it]\n",
      "Training (657 / 18000 Steps) (loss=0.61516): 100%|██████████| 7/7 [00:15<00:00,  2.19s/it]\n",
      "Training (664 / 18000 Steps) (loss=0.38002): 100%|██████████| 7/7 [00:14<00:00,  2.05s/it]\n",
      "Training (671 / 18000 Steps) (loss=0.32109): 100%|██████████| 7/7 [00:15<00:00,  2.23s/it]\n",
      "Training (678 / 18000 Steps) (loss=0.60488): 100%|██████████| 7/7 [00:14<00:00,  2.14s/it]\n",
      "Training (685 / 18000 Steps) (loss=0.55438): 100%|██████████| 7/7 [00:14<00:00,  2.09s/it]\n",
      "Training (692 / 18000 Steps) (loss=0.39227): 100%|██████████| 7/7 [00:16<00:00,  2.30s/it]\n",
      "Training (699 / 18000 Steps) (loss=0.46010): 100%|██████████| 7/7 [00:15<00:00,  2.19s/it]\n",
      "Validate (700 / 10 Steps): 100%|██████████| 2/2 [00:12<00:00,  6.09s/it]<?, ?it/s]\n",
      "Training (700 / 18000 Steps) (loss=0.28145):  14%|█▍        | 1/7 [00:20<02:03, 20.56s/it]"
     ]
    },
    {
     "name": "stdout",
     "output_type": "stream",
     "text": [
      "Model Was Saved ! Current Best Avg. Dice: 0.7454462051391602 Current Avg. Dice: 0.7454462051391602 Current Avg. tumor Dice: 0.8685919642448425 Current Avg. lymph Dice: 0.6223004460334778\n"
     ]
    },
    {
     "name": "stderr",
     "output_type": "stream",
     "text": [
      "Training (706 / 18000 Steps) (loss=0.29512): 100%|██████████| 7/7 [00:28<00:00,  4.02s/it]\n",
      "Training (713 / 18000 Steps) (loss=0.49720): 100%|██████████| 7/7 [00:15<00:00,  2.21s/it]\n",
      "Training (720 / 18000 Steps) (loss=0.30167): 100%|██████████| 7/7 [00:16<00:00,  2.33s/it]\n",
      "Training (727 / 18000 Steps) (loss=0.22086): 100%|██████████| 7/7 [00:15<00:00,  2.16s/it]\n",
      "Training (734 / 18000 Steps) (loss=0.41297): 100%|██████████| 7/7 [00:14<00:00,  2.14s/it]\n",
      "Training (741 / 18000 Steps) (loss=0.37625): 100%|██████████| 7/7 [00:15<00:00,  2.15s/it]\n",
      "Training (748 / 18000 Steps) (loss=0.52838): 100%|██████████| 7/7 [00:14<00:00,  2.13s/it]\n",
      "Training (755 / 18000 Steps) (loss=0.43687): 100%|██████████| 7/7 [00:15<00:00,  2.29s/it]\n",
      "Training (762 / 18000 Steps) (loss=0.53371): 100%|██████████| 7/7 [00:14<00:00,  2.10s/it]\n",
      "Training (769 / 18000 Steps) (loss=0.29927): 100%|██████████| 7/7 [00:15<00:00,  2.27s/it]\n",
      "Training (776 / 18000 Steps) (loss=0.43005): 100%|██████████| 7/7 [00:17<00:00,  2.44s/it]\n",
      "Training (783 / 18000 Steps) (loss=0.28906): 100%|██████████| 7/7 [00:14<00:00,  2.01s/it]\n",
      "Training (790 / 18000 Steps) (loss=0.26259): 100%|██████████| 7/7 [00:16<00:00,  2.35s/it]\n",
      "Training (797 / 18000 Steps) (loss=0.46947): 100%|██████████| 7/7 [00:15<00:00,  2.16s/it]\n",
      "Validate (798 / 10 Steps): 100%|██████████| 2/2 [00:12<00:00,  6.09s/it]<00:18,  3.61s/it]\n",
      "Training (800 / 18000 Steps) (loss=0.40631):  43%|████▎     | 3/7 [00:21<00:32,  8.19s/it]"
     ]
    },
    {
     "name": "stdout",
     "output_type": "stream",
     "text": [
      "Model Was Not Saved ! Current Best Avg. Dice: 0.7454462051391602 Current Avg. Dice: 0.7384052276611328 Current Avg. tumor Dice: 0.870736300945282 Current Avg. lymph Dice: 0.6060740947723389\n"
     ]
    },
    {
     "name": "stderr",
     "output_type": "stream",
     "text": [
      "Training (804 / 18000 Steps) (loss=0.49911): 100%|██████████| 7/7 [00:26<00:00,  3.81s/it]\n",
      "Training (811 / 18000 Steps) (loss=0.54150): 100%|██████████| 7/7 [00:15<00:00,  2.27s/it]\n",
      "Training (818 / 18000 Steps) (loss=0.28871): 100%|██████████| 7/7 [00:14<00:00,  2.11s/it]\n",
      "Training (825 / 18000 Steps) (loss=0.38355): 100%|██████████| 7/7 [00:14<00:00,  2.08s/it]\n",
      "Training (832 / 18000 Steps) (loss=0.27604): 100%|██████████| 7/7 [00:14<00:00,  2.12s/it]\n",
      "Training (839 / 18000 Steps) (loss=0.26266): 100%|██████████| 7/7 [00:14<00:00,  2.11s/it]\n",
      "Training (846 / 18000 Steps) (loss=0.44077): 100%|██████████| 7/7 [00:15<00:00,  2.21s/it]\n",
      "Training (853 / 18000 Steps) (loss=0.27129): 100%|██████████| 7/7 [00:16<00:00,  2.35s/it]\n",
      "Training (860 / 18000 Steps) (loss=0.14953): 100%|██████████| 7/7 [00:14<00:00,  2.04s/it]\n",
      "Training (867 / 18000 Steps) (loss=0.56076): 100%|██████████| 7/7 [00:14<00:00,  2.07s/it]\n",
      "Training (874 / 18000 Steps) (loss=0.54728): 100%|██████████| 7/7 [00:15<00:00,  2.21s/it]\n",
      "Training (881 / 18000 Steps) (loss=0.54490): 100%|██████████| 7/7 [00:16<00:00,  2.32s/it]\n",
      "Training (888 / 18000 Steps) (loss=0.53072): 100%|██████████| 7/7 [00:14<00:00,  2.10s/it]\n",
      "Training (895 / 18000 Steps) (loss=0.61001): 100%|██████████| 7/7 [00:16<00:00,  2.34s/it]\n",
      "Validate (896 / 10 Steps): 100%|██████████| 2/2 [00:12<00:00,  6.13s/it]<00:07,  2.46s/it]\n",
      "Training (900 / 18000 Steps) (loss=0.55052):  71%|███████▏  | 5/7 [00:27<00:13,  6.52s/it]"
     ]
    },
    {
     "name": "stdout",
     "output_type": "stream",
     "text": [
      "Model Was Not Saved ! Current Best Avg. Dice: 0.7454462051391602 Current Avg. Dice: 0.7437326312065125 Current Avg. tumor Dice: 0.8720766305923462 Current Avg. lymph Dice: 0.6153885722160339\n"
     ]
    },
    {
     "name": "stderr",
     "output_type": "stream",
     "text": [
      "Training (902 / 18000 Steps) (loss=0.33698): 100%|██████████| 7/7 [00:29<00:00,  4.20s/it]\n",
      "Training (909 / 18000 Steps) (loss=0.45209): 100%|██████████| 7/7 [00:16<00:00,  2.29s/it]\n",
      "Training (916 / 18000 Steps) (loss=0.47566): 100%|██████████| 7/7 [00:15<00:00,  2.27s/it]\n",
      "Training (923 / 18000 Steps) (loss=0.54458): 100%|██████████| 7/7 [00:14<00:00,  2.12s/it]\n",
      "Training (930 / 18000 Steps) (loss=0.28603): 100%|██████████| 7/7 [00:16<00:00,  2.34s/it]\n",
      "Training (937 / 18000 Steps) (loss=0.39473): 100%|██████████| 7/7 [00:15<00:00,  2.21s/it]\n",
      "Training (944 / 18000 Steps) (loss=0.46234): 100%|██████████| 7/7 [00:16<00:00,  2.33s/it]\n",
      "Training (951 / 18000 Steps) (loss=0.33215): 100%|██████████| 7/7 [00:15<00:00,  2.24s/it]\n",
      "Training (958 / 18000 Steps) (loss=0.51918): 100%|██████████| 7/7 [00:15<00:00,  2.28s/it]\n",
      "Training (965 / 18000 Steps) (loss=0.14709): 100%|██████████| 7/7 [00:15<00:00,  2.23s/it]\n",
      "Training (972 / 18000 Steps) (loss=0.17218): 100%|██████████| 7/7 [00:15<00:00,  2.20s/it]\n",
      "Training (979 / 18000 Steps) (loss=0.21826): 100%|██████████| 7/7 [00:14<00:00,  2.09s/it]\n",
      "Training (986 / 18000 Steps) (loss=0.31766): 100%|██████████| 7/7 [00:15<00:00,  2.19s/it]\n",
      "Training (993 / 18000 Steps) (loss=0.23061): 100%|██████████| 7/7 [00:15<00:00,  2.26s/it]\n",
      "Validate (994 / 10 Steps): 100%|██████████| 2/2 [00:12<00:00,  6.15s/it]5<00:01,  1.73s/it]\n",
      "Training (1000 / 18000 Steps) (loss=0.29635): 100%|██████████| 7/7 [00:27<00:00,  3.98s/it]\n"
     ]
    },
    {
     "name": "stdout",
     "output_type": "stream",
     "text": [
      "Model Was Not Saved ! Current Best Avg. Dice: 0.7454462051391602 Current Avg. Dice: 0.7411515712738037 Current Avg. tumor Dice: 0.8595396280288696 Current Avg. lymph Dice: 0.6227633953094482\n"
     ]
    },
    {
     "name": "stderr",
     "output_type": "stream",
     "text": [
      "Training (1007 / 18000 Steps) (loss=0.26482): 100%|██████████| 7/7 [00:15<00:00,  2.26s/it]\n",
      "Training (1014 / 18000 Steps) (loss=0.50901): 100%|██████████| 7/7 [00:15<00:00,  2.21s/it]\n",
      "Training (1021 / 18000 Steps) (loss=0.35413): 100%|██████████| 7/7 [00:14<00:00,  2.11s/it]\n",
      "Training (1028 / 18000 Steps) (loss=0.46082): 100%|██████████| 7/7 [00:14<00:00,  2.13s/it]\n",
      "Training (1035 / 18000 Steps) (loss=0.52649): 100%|██████████| 7/7 [00:15<00:00,  2.17s/it]\n",
      "Training (1042 / 18000 Steps) (loss=0.22753): 100%|██████████| 7/7 [00:15<00:00,  2.25s/it]\n",
      "Training (1049 / 18000 Steps) (loss=0.29319): 100%|██████████| 7/7 [00:15<00:00,  2.19s/it]\n",
      "Training (1056 / 18000 Steps) (loss=0.44196): 100%|██████████| 7/7 [00:14<00:00,  2.11s/it]\n",
      "Training (1063 / 18000 Steps) (loss=0.53104): 100%|██████████| 7/7 [00:15<00:00,  2.17s/it]\n",
      "Training (1070 / 18000 Steps) (loss=0.60339): 100%|██████████| 7/7 [00:14<00:00,  2.11s/it]\n",
      "Training (1077 / 18000 Steps) (loss=0.30328): 100%|██████████| 7/7 [00:15<00:00,  2.19s/it]\n",
      "Training (1084 / 18000 Steps) (loss=0.54534): 100%|██████████| 7/7 [00:15<00:00,  2.17s/it]\n",
      "Training (1091 / 18000 Steps) (loss=0.37403): 100%|██████████| 7/7 [00:14<00:00,  2.05s/it]\n",
      "Training (1098 / 18000 Steps) (loss=0.29430): 100%|██████████| 7/7 [00:15<00:00,  2.25s/it]\n",
      "Validate (1099 / 10 Steps): 100%|██████████| 2/2 [00:12<00:00,  6.24s/it]<00:53,  8.94s/it]\n",
      "Training (1100 / 18000 Steps) (loss=0.41188):  29%|██▊       | 2/7 [00:22<00:59, 11.87s/it]"
     ]
    },
    {
     "name": "stdout",
     "output_type": "stream",
     "text": [
      "Model Was Not Saved ! Current Best Avg. Dice: 0.7454462051391602 Current Avg. Dice: 0.7446986436843872 Current Avg. tumor Dice: 0.8704548478126526 Current Avg. lymph Dice: 0.6189423203468323\n"
     ]
    },
    {
     "name": "stderr",
     "output_type": "stream",
     "text": [
      "Training (1105 / 18000 Steps) (loss=0.27292): 100%|██████████| 7/7 [00:29<00:00,  4.16s/it]\n",
      "Training (1112 / 18000 Steps) (loss=0.27288): 100%|██████████| 7/7 [00:14<00:00,  2.07s/it]\n",
      "Training (1119 / 18000 Steps) (loss=0.41578): 100%|██████████| 7/7 [00:16<00:00,  2.38s/it]\n",
      "Training (1126 / 18000 Steps) (loss=0.46433): 100%|██████████| 7/7 [00:16<00:00,  2.36s/it]\n",
      "Training (1133 / 18000 Steps) (loss=0.39457): 100%|██████████| 7/7 [00:14<00:00,  2.07s/it]\n",
      "Training (1140 / 18000 Steps) (loss=0.54940): 100%|██████████| 7/7 [00:16<00:00,  2.32s/it]\n",
      "Training (1147 / 18000 Steps) (loss=0.41590): 100%|██████████| 7/7 [00:15<00:00,  2.26s/it]\n",
      "Training (1154 / 18000 Steps) (loss=0.37430): 100%|██████████| 7/7 [00:15<00:00,  2.24s/it]\n",
      "Training (1161 / 18000 Steps) (loss=0.36494): 100%|██████████| 7/7 [00:16<00:00,  2.40s/it]\n",
      "Training (1168 / 18000 Steps) (loss=0.43611): 100%|██████████| 7/7 [00:14<00:00,  2.09s/it]\n",
      "Training (1175 / 18000 Steps) (loss=0.31886): 100%|██████████| 7/7 [00:15<00:00,  2.23s/it]\n",
      "Training (1182 / 18000 Steps) (loss=0.40193): 100%|██████████| 7/7 [00:14<00:00,  2.11s/it]\n",
      "Training (1189 / 18000 Steps) (loss=0.47064): 100%|██████████| 7/7 [00:15<00:00,  2.17s/it]\n",
      "Training (1196 / 18000 Steps) (loss=0.20505): 100%|██████████| 7/7 [00:14<00:00,  2.07s/it]\n",
      "Validate (1197 / 10 Steps): 100%|██████████| 2/2 [00:12<00:00,  6.24s/it]<00:10,  2.60s/it]\n",
      "Training (1200 / 18000 Steps) (loss=0.22749):  57%|█████▋    | 4/7 [00:23<00:21,  7.07s/it]"
     ]
    },
    {
     "name": "stdout",
     "output_type": "stream",
     "text": [
      "Model Was Not Saved ! Current Best Avg. Dice: 0.7454462051391602 Current Avg. Dice: 0.7291059494018555 Current Avg. tumor Dice: 0.8666148781776428 Current Avg. lymph Dice: 0.5915970206260681\n"
     ]
    },
    {
     "name": "stderr",
     "output_type": "stream",
     "text": [
      "Training (1203 / 18000 Steps) (loss=0.40478): 100%|██████████| 7/7 [00:27<00:00,  3.87s/it]\n",
      "Training (1210 / 18000 Steps) (loss=0.44246): 100%|██████████| 7/7 [00:14<00:00,  2.09s/it]\n",
      "Training (1217 / 18000 Steps) (loss=0.13910): 100%|██████████| 7/7 [00:15<00:00,  2.17s/it]\n",
      "Training (1224 / 18000 Steps) (loss=0.16518): 100%|██████████| 7/7 [00:16<00:00,  2.41s/it]\n",
      "Training (1231 / 18000 Steps) (loss=0.41340): 100%|██████████| 7/7 [00:15<00:00,  2.22s/it]\n",
      "Training (1238 / 18000 Steps) (loss=0.49584): 100%|██████████| 7/7 [00:16<00:00,  2.30s/it]\n",
      "Training (1245 / 18000 Steps) (loss=0.44712): 100%|██████████| 7/7 [00:15<00:00,  2.25s/it]\n",
      "Training (1252 / 18000 Steps) (loss=0.55693): 100%|██████████| 7/7 [00:15<00:00,  2.27s/it]\n",
      "Training (1259 / 18000 Steps) (loss=0.44782): 100%|██████████| 7/7 [00:15<00:00,  2.18s/it]\n",
      "Training (1266 / 18000 Steps) (loss=0.27702): 100%|██████████| 7/7 [00:14<00:00,  2.07s/it]\n",
      "Training (1273 / 18000 Steps) (loss=0.30044): 100%|██████████| 7/7 [00:15<00:00,  2.27s/it]\n",
      "Training (1280 / 18000 Steps) (loss=0.26488): 100%|██████████| 7/7 [00:16<00:00,  2.39s/it]\n",
      "Training (1287 / 18000 Steps) (loss=0.19065): 100%|██████████| 7/7 [00:15<00:00,  2.25s/it]\n",
      "Training (1294 / 18000 Steps) (loss=0.27602): 100%|██████████| 7/7 [00:16<00:00,  2.33s/it]\n",
      "Validate (1295 / 10 Steps): 100%|██████████| 2/2 [00:12<00:00,  6.29s/it]<00:03,  1.98s/it]\n",
      "Training (1300 / 18000 Steps) (loss=0.36103):  86%|████████▌ | 6/7 [00:29<00:06,  6.41s/it]"
     ]
    },
    {
     "name": "stdout",
     "output_type": "stream",
     "text": [
      "Model Was Saved ! Current Best Avg. Dice: 0.7463891506195068 Current Avg. Dice: 0.7463891506195068 Current Avg. tumor Dice: 0.863335371017456 Current Avg. lymph Dice: 0.6294429302215576\n"
     ]
    },
    {
     "name": "stderr",
     "output_type": "stream",
     "text": [
      "Training (1301 / 18000 Steps) (loss=0.28520): 100%|██████████| 7/7 [00:29<00:00,  4.26s/it]\n",
      "Training (1308 / 18000 Steps) (loss=0.48475): 100%|██████████| 7/7 [00:14<00:00,  2.14s/it]\n",
      "Training (1315 / 18000 Steps) (loss=0.54298): 100%|██████████| 7/7 [00:15<00:00,  2.17s/it]\n",
      "Training (1322 / 18000 Steps) (loss=0.31041): 100%|██████████| 7/7 [00:16<00:00,  2.30s/it]\n",
      "Training (1329 / 18000 Steps) (loss=0.38985): 100%|██████████| 7/7 [00:14<00:00,  2.04s/it]\n",
      "Training (1336 / 18000 Steps) (loss=0.20901): 100%|██████████| 7/7 [00:16<00:00,  2.42s/it]\n",
      "Training (1343 / 18000 Steps) (loss=0.40335): 100%|██████████| 7/7 [00:15<00:00,  2.18s/it]\n",
      "Training (1350 / 18000 Steps) (loss=0.43937): 100%|██████████| 7/7 [00:15<00:00,  2.18s/it]\n",
      "Training (1357 / 18000 Steps) (loss=0.47594): 100%|██████████| 7/7 [00:14<00:00,  2.07s/it]\n",
      "Training (1364 / 18000 Steps) (loss=0.19388): 100%|██████████| 7/7 [00:15<00:00,  2.21s/it]\n",
      "Training (1371 / 18000 Steps) (loss=0.48252): 100%|██████████| 7/7 [00:15<00:00,  2.26s/it]\n",
      "Training (1378 / 18000 Steps) (loss=0.48857): 100%|██████████| 7/7 [00:16<00:00,  2.30s/it]\n",
      "Training (1385 / 18000 Steps) (loss=0.33988): 100%|██████████| 7/7 [00:16<00:00,  2.35s/it]\n",
      "Training (1392 / 18000 Steps) (loss=0.35724): 100%|██████████| 7/7 [00:15<00:00,  2.24s/it]\n",
      "Training (1399 / 18000 Steps) (loss=0.60131): 100%|██████████| 7/7 [00:16<00:00,  2.36s/it]\n",
      "Validate (1400 / 10 Steps): 100%|██████████| 2/2 [00:12<00:00,  6.50s/it]<?, ?it/s]\n",
      "Training (1400 / 18000 Steps) (loss=0.44482):  14%|█▍        | 1/7 [00:21<02:09, 21.54s/it]"
     ]
    },
    {
     "name": "stdout",
     "output_type": "stream",
     "text": [
      "Model Was Not Saved ! Current Best Avg. Dice: 0.7463891506195068 Current Avg. Dice: 0.7437349557876587 Current Avg. tumor Dice: 0.864264190196991 Current Avg. lymph Dice: 0.6232057809829712\n"
     ]
    },
    {
     "name": "stderr",
     "output_type": "stream",
     "text": [
      "Training (1406 / 18000 Steps) (loss=0.20410): 100%|██████████| 7/7 [00:29<00:00,  4.17s/it]\n",
      "Training (1413 / 18000 Steps) (loss=0.40376): 100%|██████████| 7/7 [00:15<00:00,  2.25s/it]\n",
      "Training (1420 / 18000 Steps) (loss=0.25028): 100%|██████████| 7/7 [00:15<00:00,  2.16s/it]\n",
      "Training (1427 / 18000 Steps) (loss=0.32541): 100%|██████████| 7/7 [00:16<00:00,  2.32s/it]\n",
      "Training (1434 / 18000 Steps) (loss=0.54670): 100%|██████████| 7/7 [00:16<00:00,  2.39s/it]\n",
      "Training (1441 / 18000 Steps) (loss=0.29290): 100%|██████████| 7/7 [00:15<00:00,  2.21s/it]\n",
      "Training (1448 / 18000 Steps) (loss=0.50580): 100%|██████████| 7/7 [00:15<00:00,  2.16s/it]\n",
      "Training (1455 / 18000 Steps) (loss=0.60039): 100%|██████████| 7/7 [00:15<00:00,  2.18s/it]\n",
      "Training (1462 / 18000 Steps) (loss=0.30968): 100%|██████████| 7/7 [00:16<00:00,  2.29s/it]\n",
      "Training (1469 / 18000 Steps) (loss=0.40619): 100%|██████████| 7/7 [00:15<00:00,  2.26s/it]\n",
      "Training (1476 / 18000 Steps) (loss=0.34551): 100%|██████████| 7/7 [00:14<00:00,  2.09s/it]\n",
      "Training (1483 / 18000 Steps) (loss=0.17000): 100%|██████████| 7/7 [00:15<00:00,  2.25s/it]\n",
      "Training (1490 / 18000 Steps) (loss=0.41283): 100%|██████████| 7/7 [00:16<00:00,  2.33s/it]\n",
      "Training (1497 / 18000 Steps) (loss=0.15207): 100%|██████████| 7/7 [00:15<00:00,  2.23s/it]\n",
      "Validate (1498 / 10 Steps): 100%|██████████| 2/2 [00:12<00:00,  6.13s/it]<00:23,  4.72s/it]\n",
      "Training (1500 / 18000 Steps) (loss=0.43989):  43%|████▎     | 3/7 [00:25<00:37,  9.26s/it]"
     ]
    },
    {
     "name": "stdout",
     "output_type": "stream",
     "text": [
      "Model Was Saved ! Current Best Avg. Dice: 0.7541887760162354 Current Avg. Dice: 0.7541887760162354 Current Avg. tumor Dice: 0.8659579157829285 Current Avg. lymph Dice: 0.6424196362495422\n"
     ]
    },
    {
     "name": "stderr",
     "output_type": "stream",
     "text": [
      "Training (1504 / 18000 Steps) (loss=0.43706): 100%|██████████| 7/7 [00:30<00:00,  4.35s/it]\n",
      "Training (1511 / 18000 Steps) (loss=0.21169): 100%|██████████| 7/7 [00:15<00:00,  2.15s/it]\n",
      "Training (1518 / 18000 Steps) (loss=0.50147): 100%|██████████| 7/7 [00:16<00:00,  2.30s/it]\n",
      "Training (1525 / 18000 Steps) (loss=0.28475): 100%|██████████| 7/7 [00:15<00:00,  2.27s/it]\n",
      "Training (1532 / 18000 Steps) (loss=0.36819): 100%|██████████| 7/7 [00:14<00:00,  2.06s/it]\n",
      "Training (1539 / 18000 Steps) (loss=0.30774): 100%|██████████| 7/7 [00:14<00:00,  2.11s/it]\n",
      "Training (1546 / 18000 Steps) (loss=0.27502): 100%|██████████| 7/7 [00:15<00:00,  2.25s/it]\n",
      "Training (1553 / 18000 Steps) (loss=0.54899): 100%|██████████| 7/7 [00:16<00:00,  2.29s/it]\n",
      "Training (1560 / 18000 Steps) (loss=0.38106): 100%|██████████| 7/7 [00:14<00:00,  2.06s/it]\n",
      "Training (1567 / 18000 Steps) (loss=0.35817): 100%|██████████| 7/7 [00:16<00:00,  2.30s/it]\n",
      "Training (1574 / 18000 Steps) (loss=0.48662): 100%|██████████| 7/7 [00:15<00:00,  2.21s/it]\n",
      "Training (1581 / 18000 Steps) (loss=0.25351): 100%|██████████| 7/7 [00:16<00:00,  2.39s/it]\n",
      "Training (1588 / 18000 Steps) (loss=0.35355): 100%|██████████| 7/7 [00:14<00:00,  2.06s/it]\n",
      "Training (1595 / 18000 Steps) (loss=0.27403): 100%|██████████| 7/7 [00:14<00:00,  2.05s/it]\n",
      "Validate (1596 / 10 Steps): 100%|██████████| 2/2 [00:12<00:00,  6.16s/it]<00:06,  2.32s/it]\n",
      "Training (1600 / 18000 Steps) (loss=0.58574):  71%|███████▏  | 5/7 [00:26<00:12,  6.45s/it]"
     ]
    },
    {
     "name": "stdout",
     "output_type": "stream",
     "text": [
      "Model Was Not Saved ! Current Best Avg. Dice: 0.7541887760162354 Current Avg. Dice: 0.7477471232414246 Current Avg. tumor Dice: 0.8715652227401733 Current Avg. lymph Dice: 0.6239290237426758\n"
     ]
    },
    {
     "name": "stderr",
     "output_type": "stream",
     "text": [
      "Training (1602 / 18000 Steps) (loss=0.49535): 100%|██████████| 7/7 [00:28<00:00,  4.07s/it]\n",
      "Training (1609 / 18000 Steps) (loss=0.43998): 100%|██████████| 7/7 [00:14<00:00,  2.13s/it]\n",
      "Training (1616 / 18000 Steps) (loss=0.41792): 100%|██████████| 7/7 [00:15<00:00,  2.19s/it]\n",
      "Training (1623 / 18000 Steps) (loss=0.18292): 100%|██████████| 7/7 [00:15<00:00,  2.14s/it]\n",
      "Training (1630 / 18000 Steps) (loss=0.60057): 100%|██████████| 7/7 [00:15<00:00,  2.22s/it]\n",
      "Training (1637 / 18000 Steps) (loss=0.23022): 100%|██████████| 7/7 [00:15<00:00,  2.18s/it]\n",
      "Training (1644 / 18000 Steps) (loss=0.47467): 100%|██████████| 7/7 [00:15<00:00,  2.28s/it]\n",
      "Training (1651 / 18000 Steps) (loss=0.30299): 100%|██████████| 7/7 [00:16<00:00,  2.36s/it]\n",
      "Training (1658 / 18000 Steps) (loss=0.53977): 100%|██████████| 7/7 [00:14<00:00,  2.07s/it]\n",
      "Training (1665 / 18000 Steps) (loss=0.47625): 100%|██████████| 7/7 [00:16<00:00,  2.41s/it]\n",
      "Training (1672 / 18000 Steps) (loss=0.35110): 100%|██████████| 7/7 [00:14<00:00,  2.09s/it]\n",
      "Training (1679 / 18000 Steps) (loss=0.27711): 100%|██████████| 7/7 [00:14<00:00,  2.06s/it]\n",
      "Training (1686 / 18000 Steps) (loss=0.54408): 100%|██████████| 7/7 [00:14<00:00,  2.13s/it]\n",
      "Training (1693 / 18000 Steps) (loss=0.45870): 100%|██████████| 7/7 [00:16<00:00,  2.37s/it]\n",
      "Validate (1694 / 10 Steps): 100%|██████████| 2/2 [00:12<00:00,  6.11s/it]<00:01,  1.72s/it]\n",
      "Training (1700 / 18000 Steps) (loss=0.40675): 100%|██████████| 7/7 [00:27<00:00,  3.92s/it]\n"
     ]
    },
    {
     "name": "stdout",
     "output_type": "stream",
     "text": [
      "Model Was Not Saved ! Current Best Avg. Dice: 0.7541887760162354 Current Avg. Dice: 0.7402902245521545 Current Avg. tumor Dice: 0.872592568397522 Current Avg. lymph Dice: 0.6079878807067871\n"
     ]
    },
    {
     "name": "stderr",
     "output_type": "stream",
     "text": [
      "Training (1707 / 18000 Steps) (loss=0.33080): 100%|██████████| 7/7 [00:16<00:00,  2.34s/it]\n",
      "Training (1714 / 18000 Steps) (loss=0.28225): 100%|██████████| 7/7 [00:16<00:00,  2.35s/it]\n",
      "Training (1721 / 18000 Steps) (loss=0.41129): 100%|██████████| 7/7 [00:15<00:00,  2.19s/it]\n",
      "Training (1728 / 18000 Steps) (loss=0.60426): 100%|██████████| 7/7 [00:16<00:00,  2.40s/it]\n",
      "Training (1735 / 18000 Steps) (loss=0.49838): 100%|██████████| 7/7 [00:17<00:00,  2.44s/it]\n",
      "Training (1742 / 18000 Steps) (loss=0.61313): 100%|██████████| 7/7 [00:14<00:00,  2.05s/it]\n",
      "Training (1749 / 18000 Steps) (loss=0.35292): 100%|██████████| 7/7 [00:15<00:00,  2.28s/it]\n",
      "Training (1756 / 18000 Steps) (loss=0.33515): 100%|██████████| 7/7 [00:15<00:00,  2.23s/it]\n",
      "Training (1763 / 18000 Steps) (loss=0.43117): 100%|██████████| 7/7 [00:15<00:00,  2.20s/it]\n",
      "Training (1770 / 18000 Steps) (loss=0.54688): 100%|██████████| 7/7 [00:14<00:00,  2.12s/it]\n",
      "Training (1777 / 18000 Steps) (loss=0.21962): 100%|██████████| 7/7 [00:14<00:00,  2.10s/it]\n",
      "Training (1784 / 18000 Steps) (loss=0.12748): 100%|██████████| 7/7 [00:15<00:00,  2.28s/it]\n",
      "Training (1791 / 18000 Steps) (loss=0.42937): 100%|██████████| 7/7 [00:14<00:00,  2.03s/it]\n",
      "Training (1798 / 18000 Steps) (loss=0.37485): 100%|██████████| 7/7 [00:14<00:00,  2.07s/it]\n",
      "Validate (1799 / 10 Steps): 100%|██████████| 2/2 [00:12<00:00,  6.10s/it]<00:43,  7.30s/it]\n",
      "Training (1800 / 18000 Steps) (loss=0.39115):  29%|██▊       | 2/7 [00:20<00:55, 11.05s/it]"
     ]
    },
    {
     "name": "stdout",
     "output_type": "stream",
     "text": [
      "Model Was Not Saved ! Current Best Avg. Dice: 0.7541887760162354 Current Avg. Dice: 0.7167490124702454 Current Avg. tumor Dice: 0.8672173619270325 Current Avg. lymph Dice: 0.566280722618103\n"
     ]
    },
    {
     "name": "stderr",
     "output_type": "stream",
     "text": [
      "Training (1805 / 18000 Steps) (loss=0.50237): 100%|██████████| 7/7 [00:27<00:00,  3.89s/it]\n",
      "Training (1812 / 18000 Steps) (loss=0.29495): 100%|██████████| 7/7 [00:14<00:00,  2.07s/it]\n",
      "Training (1819 / 18000 Steps) (loss=0.56477): 100%|██████████| 7/7 [00:14<00:00,  2.10s/it]\n",
      "Training (1826 / 18000 Steps) (loss=0.26950): 100%|██████████| 7/7 [00:14<00:00,  2.12s/it]\n",
      "Training (1833 / 18000 Steps) (loss=0.48239): 100%|██████████| 7/7 [00:15<00:00,  2.20s/it]\n",
      "Training (1840 / 18000 Steps) (loss=0.27831): 100%|██████████| 7/7 [00:14<00:00,  2.01s/it]\n",
      "Training (1847 / 18000 Steps) (loss=0.35815): 100%|██████████| 7/7 [00:14<00:00,  2.10s/it]\n",
      "Training (1854 / 18000 Steps) (loss=0.50420): 100%|██████████| 7/7 [00:14<00:00,  2.09s/it]\n",
      "Training (1861 / 18000 Steps) (loss=0.23119): 100%|██████████| 7/7 [00:15<00:00,  2.19s/it]\n",
      "Training (1868 / 18000 Steps) (loss=0.43877): 100%|██████████| 7/7 [00:15<00:00,  2.18s/it]\n",
      "Training (1875 / 18000 Steps) (loss=0.19771): 100%|██████████| 7/7 [00:16<00:00,  2.29s/it]\n",
      "Training (1882 / 18000 Steps) (loss=0.29197): 100%|██████████| 7/7 [00:14<00:00,  2.03s/it]\n",
      "Training (1889 / 18000 Steps) (loss=0.19186): 100%|██████████| 7/7 [00:14<00:00,  2.13s/it]\n",
      "Training (1896 / 18000 Steps) (loss=0.43758): 100%|██████████| 7/7 [00:14<00:00,  2.09s/it]\n",
      "Validate (1897 / 10 Steps): 100%|██████████| 2/2 [00:11<00:00,  5.98s/it]<00:11,  2.81s/it]\n",
      "Training (1900 / 18000 Steps) (loss=0.45185):  57%|█████▋    | 4/7 [00:23<00:20,  6.99s/it]"
     ]
    },
    {
     "name": "stdout",
     "output_type": "stream",
     "text": [
      "Model Was Not Saved ! Current Best Avg. Dice: 0.7541887760162354 Current Avg. Dice: 0.7370129823684692 Current Avg. tumor Dice: 0.8483863472938538 Current Avg. lymph Dice: 0.6256396770477295\n"
     ]
    },
    {
     "name": "stderr",
     "output_type": "stream",
     "text": [
      "Training (1903 / 18000 Steps) (loss=0.40389): 100%|██████████| 7/7 [00:27<00:00,  3.93s/it]\n",
      "Training (1910 / 18000 Steps) (loss=0.30430): 100%|██████████| 7/7 [00:14<00:00,  2.10s/it]\n",
      "Training (1917 / 18000 Steps) (loss=0.53659): 100%|██████████| 7/7 [00:15<00:00,  2.27s/it]\n",
      "Training (1924 / 18000 Steps) (loss=0.53646): 100%|██████████| 7/7 [00:14<00:00,  2.04s/it]\n",
      "Training (1931 / 18000 Steps) (loss=0.34326): 100%|██████████| 7/7 [00:15<00:00,  2.21s/it]\n",
      "Training (1938 / 18000 Steps) (loss=0.52780): 100%|██████████| 7/7 [00:16<00:00,  2.30s/it]\n",
      "Training (1945 / 18000 Steps) (loss=0.53935): 100%|██████████| 7/7 [00:15<00:00,  2.24s/it]\n",
      "Training (1952 / 18000 Steps) (loss=0.29639): 100%|██████████| 7/7 [00:14<00:00,  2.13s/it]\n",
      "Training (1959 / 18000 Steps) (loss=0.13663): 100%|██████████| 7/7 [00:14<00:00,  2.08s/it]\n",
      "Training (1966 / 18000 Steps) (loss=0.43523): 100%|██████████| 7/7 [00:14<00:00,  2.03s/it]\n",
      "Training (1973 / 18000 Steps) (loss=0.61448): 100%|██████████| 7/7 [00:15<00:00,  2.19s/it]\n",
      "Training (1980 / 18000 Steps) (loss=0.49813): 100%|██████████| 7/7 [00:14<00:00,  2.00s/it]\n",
      "Training (1987 / 18000 Steps) (loss=0.19422): 100%|██████████| 7/7 [00:15<00:00,  2.24s/it]\n",
      "Training (1994 / 18000 Steps) (loss=0.30760): 100%|██████████| 7/7 [00:15<00:00,  2.15s/it]\n",
      "Validate (1995 / 10 Steps): 100%|██████████| 2/2 [00:12<00:00,  6.06s/it]<00:03,  1.82s/it]\n",
      "Training (2000 / 18000 Steps) (loss=0.45476):  86%|████████▌ | 6/7 [00:25<00:05,  5.81s/it]"
     ]
    },
    {
     "name": "stdout",
     "output_type": "stream",
     "text": [
      "Model Was Not Saved ! Current Best Avg. Dice: 0.7541887760162354 Current Avg. Dice: 0.7499725818634033 Current Avg. tumor Dice: 0.8734498023986816 Current Avg. lymph Dice: 0.6264953017234802\n"
     ]
    },
    {
     "name": "stderr",
     "output_type": "stream",
     "text": [
      "Training (2001 / 18000 Steps) (loss=0.22327): 100%|██████████| 7/7 [00:26<00:00,  3.78s/it]\n",
      "Training (2008 / 18000 Steps) (loss=0.41795): 100%|██████████| 7/7 [00:14<00:00,  2.07s/it]\n",
      "Training (2015 / 18000 Steps) (loss=0.54156): 100%|██████████| 7/7 [00:15<00:00,  2.24s/it]\n",
      "Training (2022 / 18000 Steps) (loss=0.34088): 100%|██████████| 7/7 [00:14<00:00,  2.06s/it]\n",
      "Training (2029 / 18000 Steps) (loss=0.41108): 100%|██████████| 7/7 [00:16<00:00,  2.32s/it]\n",
      "Training (2036 / 18000 Steps) (loss=0.52523): 100%|██████████| 7/7 [00:14<00:00,  2.07s/it]\n",
      "Training (2043 / 18000 Steps) (loss=0.27431): 100%|██████████| 7/7 [00:15<00:00,  2.26s/it]\n",
      "Training (2050 / 18000 Steps) (loss=0.40546): 100%|██████████| 7/7 [00:16<00:00,  2.33s/it]\n",
      "Training (2057 / 18000 Steps) (loss=0.42360): 100%|██████████| 7/7 [00:14<00:00,  2.13s/it]\n",
      "Training (2064 / 18000 Steps) (loss=0.40756): 100%|██████████| 7/7 [00:15<00:00,  2.14s/it]\n",
      "Training (2071 / 18000 Steps) (loss=0.55319): 100%|██████████| 7/7 [00:14<00:00,  2.02s/it]\n",
      "Training (2078 / 18000 Steps) (loss=0.28227): 100%|██████████| 7/7 [00:14<00:00,  2.12s/it]\n",
      "Training (2085 / 18000 Steps) (loss=0.31786): 100%|██████████| 7/7 [00:15<00:00,  2.24s/it]\n",
      "Training (2092 / 18000 Steps) (loss=0.53343): 100%|██████████| 7/7 [00:14<00:00,  2.05s/it]\n",
      "Training (2099 / 18000 Steps) (loss=0.31941): 100%|██████████| 7/7 [00:16<00:00,  2.38s/it]\n",
      "Validate (2100 / 10 Steps): 100%|██████████| 2/2 [00:11<00:00,  5.96s/it]<?, ?it/s]\n",
      "Training (2100 / 18000 Steps) (loss=0.40682):  14%|█▍        | 1/7 [00:20<02:05, 20.84s/it]"
     ]
    },
    {
     "name": "stdout",
     "output_type": "stream",
     "text": [
      "Model Was Not Saved ! Current Best Avg. Dice: 0.7541887760162354 Current Avg. Dice: 0.7365049123764038 Current Avg. tumor Dice: 0.8666251301765442 Current Avg. lymph Dice: 0.6063847541809082\n"
     ]
    },
    {
     "name": "stderr",
     "output_type": "stream",
     "text": [
      "Training (2106 / 18000 Steps) (loss=0.28223): 100%|██████████| 7/7 [00:28<00:00,  4.06s/it]\n",
      "Training (2113 / 18000 Steps) (loss=0.47264): 100%|██████████| 7/7 [00:15<00:00,  2.28s/it]\n",
      "Training (2120 / 18000 Steps) (loss=0.28021): 100%|██████████| 7/7 [00:15<00:00,  2.26s/it]\n",
      "Training (2127 / 18000 Steps) (loss=0.33240): 100%|██████████| 7/7 [00:15<00:00,  2.19s/it]\n",
      "Training (2134 / 18000 Steps) (loss=0.59881): 100%|██████████| 7/7 [00:16<00:00,  2.31s/it]\n",
      "Training (2141 / 18000 Steps) (loss=0.40566): 100%|██████████| 7/7 [00:14<00:00,  2.14s/it]\n",
      "Training (2148 / 18000 Steps) (loss=0.32317): 100%|██████████| 7/7 [00:14<00:00,  2.14s/it]\n",
      "Training (2155 / 18000 Steps) (loss=0.54505): 100%|██████████| 7/7 [00:15<00:00,  2.25s/it]\n",
      "Training (2162 / 18000 Steps) (loss=0.41496): 100%|██████████| 7/7 [00:15<00:00,  2.22s/it]\n",
      "Training (2169 / 18000 Steps) (loss=0.21881): 100%|██████████| 7/7 [00:14<00:00,  2.07s/it]\n",
      "Training (2176 / 18000 Steps) (loss=0.17036): 100%|██████████| 7/7 [00:16<00:00,  2.32s/it]\n",
      "Training (2183 / 18000 Steps) (loss=0.28498): 100%|██████████| 7/7 [00:15<00:00,  2.17s/it]\n",
      "Training (2190 / 18000 Steps) (loss=0.44627): 100%|██████████| 7/7 [00:16<00:00,  2.30s/it]\n",
      "Training (2197 / 18000 Steps) (loss=0.15604): 100%|██████████| 7/7 [00:16<00:00,  2.34s/it]\n",
      "Validate (2198 / 10 Steps): 100%|██████████| 2/2 [00:11<00:00,  5.97s/it]<00:19,  3.81s/it]\n",
      "Training (2200 / 18000 Steps) (loss=0.24275):  43%|████▎     | 3/7 [00:22<00:32,  8.19s/it]"
     ]
    },
    {
     "name": "stdout",
     "output_type": "stream",
     "text": [
      "Model Was Not Saved ! Current Best Avg. Dice: 0.7541887760162354 Current Avg. Dice: 0.743977963924408 Current Avg. tumor Dice: 0.8816519379615784 Current Avg. lymph Dice: 0.6063040494918823\n"
     ]
    },
    {
     "name": "stderr",
     "output_type": "stream",
     "text": [
      "Training (2204 / 18000 Steps) (loss=0.34845): 100%|██████████| 7/7 [00:26<00:00,  3.85s/it]\n",
      "Training (2211 / 18000 Steps) (loss=0.33898): 100%|██████████| 7/7 [00:15<00:00,  2.18s/it]\n",
      "Training (2218 / 18000 Steps) (loss=0.55388): 100%|██████████| 7/7 [00:15<00:00,  2.15s/it]\n",
      "Training (2225 / 18000 Steps) (loss=0.36677): 100%|██████████| 7/7 [00:16<00:00,  2.29s/it]\n",
      "Training (2232 / 18000 Steps) (loss=0.35190): 100%|██████████| 7/7 [00:14<00:00,  2.02s/it]\n",
      "Training (2239 / 18000 Steps) (loss=0.46567): 100%|██████████| 7/7 [00:15<00:00,  2.14s/it]\n",
      "Training (2246 / 18000 Steps) (loss=0.42653): 100%|██████████| 7/7 [00:15<00:00,  2.18s/it]\n",
      "Training (2253 / 18000 Steps) (loss=0.28713): 100%|██████████| 7/7 [00:15<00:00,  2.18s/it]\n",
      "Training (2260 / 18000 Steps) (loss=0.47414): 100%|██████████| 7/7 [00:15<00:00,  2.16s/it]\n",
      "Training (2267 / 18000 Steps) (loss=0.35231): 100%|██████████| 7/7 [00:14<00:00,  2.09s/it]\n",
      "Training (2274 / 18000 Steps) (loss=0.34814): 100%|██████████| 7/7 [00:14<00:00,  2.04s/it]\n",
      "Training (2281 / 18000 Steps) (loss=0.36456): 100%|██████████| 7/7 [00:15<00:00,  2.21s/it]\n",
      "Training (2288 / 18000 Steps) (loss=0.30550): 100%|██████████| 7/7 [00:14<00:00,  2.12s/it]\n",
      "Training (2295 / 18000 Steps) (loss=0.55150): 100%|██████████| 7/7 [00:14<00:00,  2.10s/it]\n",
      "Validate (2296 / 10 Steps): 100%|██████████| 2/2 [00:12<00:00,  6.13s/it]<00:06,  2.16s/it]\n",
      "Training (2300 / 18000 Steps) (loss=0.45528):  71%|███████▏  | 5/7 [00:25<00:12,  6.32s/it]"
     ]
    },
    {
     "name": "stdout",
     "output_type": "stream",
     "text": [
      "Model Was Not Saved ! Current Best Avg. Dice: 0.7541887760162354 Current Avg. Dice: 0.7423449754714966 Current Avg. tumor Dice: 0.8667428493499756 Current Avg. lymph Dice: 0.6179471015930176\n"
     ]
    },
    {
     "name": "stderr",
     "output_type": "stream",
     "text": [
      "Training (2302 / 18000 Steps) (loss=0.36490): 100%|██████████| 7/7 [00:27<00:00,  3.89s/it]\n",
      "Training (2309 / 18000 Steps) (loss=0.28440): 100%|██████████| 7/7 [00:14<00:00,  2.03s/it]\n",
      "Training (2316 / 18000 Steps) (loss=0.15796): 100%|██████████| 7/7 [00:15<00:00,  2.17s/it]\n",
      "Training (2323 / 18000 Steps) (loss=0.27032): 100%|██████████| 7/7 [00:14<00:00,  2.10s/it]\n",
      "Training (2330 / 18000 Steps) (loss=0.31378): 100%|██████████| 7/7 [00:14<00:00,  2.12s/it]\n",
      "Training (2337 / 18000 Steps) (loss=0.41860): 100%|██████████| 7/7 [00:15<00:00,  2.17s/it]\n",
      "Training (2344 / 18000 Steps) (loss=0.43018): 100%|██████████| 7/7 [00:15<00:00,  2.18s/it]\n",
      "Training (2351 / 18000 Steps) (loss=0.39378): 100%|██████████| 7/7 [00:15<00:00,  2.19s/it]\n",
      "Training (2358 / 18000 Steps) (loss=0.52773): 100%|██████████| 7/7 [00:15<00:00,  2.17s/it]\n",
      "Training (2365 / 18000 Steps) (loss=0.55278): 100%|██████████| 7/7 [00:15<00:00,  2.18s/it]\n",
      "Training (2372 / 18000 Steps) (loss=0.40825): 100%|██████████| 7/7 [00:14<00:00,  2.10s/it]\n",
      "Training (2379 / 18000 Steps) (loss=0.37826): 100%|██████████| 7/7 [00:14<00:00,  2.07s/it]\n",
      "Training (2386 / 18000 Steps) (loss=0.30854): 100%|██████████| 7/7 [00:16<00:00,  2.31s/it]\n",
      "Training (2393 / 18000 Steps) (loss=0.53723): 100%|██████████| 7/7 [00:14<00:00,  2.07s/it]\n",
      "Validate (2394 / 10 Steps): 100%|██████████| 2/2 [00:12<00:00,  6.02s/it]<00:01,  1.79s/it]\n",
      "Training (2400 / 18000 Steps) (loss=0.27853): 100%|██████████| 7/7 [00:28<00:00,  4.08s/it]\n"
     ]
    },
    {
     "name": "stdout",
     "output_type": "stream",
     "text": [
      "Model Was Not Saved ! Current Best Avg. Dice: 0.7541887760162354 Current Avg. Dice: 0.7424963712692261 Current Avg. tumor Dice: 0.8694283366203308 Current Avg. lymph Dice: 0.6155644655227661\n"
     ]
    },
    {
     "name": "stderr",
     "output_type": "stream",
     "text": [
      "Training (2407 / 18000 Steps) (loss=0.37102): 100%|██████████| 7/7 [00:14<00:00,  2.11s/it]\n",
      "Training (2414 / 18000 Steps) (loss=0.26728): 100%|██████████| 7/7 [00:16<00:00,  2.35s/it]\n",
      "Training (2421 / 18000 Steps) (loss=0.59819): 100%|██████████| 7/7 [00:15<00:00,  2.28s/it]\n",
      "Training (2428 / 18000 Steps) (loss=0.26106): 100%|██████████| 7/7 [00:15<00:00,  2.21s/it]\n",
      "Training (2435 / 18000 Steps) (loss=0.40350): 100%|██████████| 7/7 [00:14<00:00,  2.05s/it]\n",
      "Training (2442 / 18000 Steps) (loss=0.50022): 100%|██████████| 7/7 [00:14<00:00,  2.09s/it]\n",
      "Training (2449 / 18000 Steps) (loss=0.19957): 100%|██████████| 7/7 [00:14<00:00,  2.05s/it]\n",
      "Training (2456 / 18000 Steps) (loss=0.32874): 100%|██████████| 7/7 [00:14<00:00,  2.11s/it]\n",
      "Training (2463 / 18000 Steps) (loss=0.33410): 100%|██████████| 7/7 [00:14<00:00,  2.06s/it]\n",
      "Training (2470 / 18000 Steps) (loss=0.49165): 100%|██████████| 7/7 [00:14<00:00,  2.08s/it]\n",
      "Training (2477 / 18000 Steps) (loss=0.29765): 100%|██████████| 7/7 [00:15<00:00,  2.17s/it]\n",
      "Training (2484 / 18000 Steps) (loss=0.54381): 100%|██████████| 7/7 [00:15<00:00,  2.15s/it]\n",
      "Training (2491 / 18000 Steps) (loss=0.46900): 100%|██████████| 7/7 [00:14<00:00,  2.08s/it]\n",
      "Training (2498 / 18000 Steps) (loss=0.42814): 100%|██████████| 7/7 [00:15<00:00,  2.19s/it]\n",
      "Validate (2499 / 10 Steps): 100%|██████████| 2/2 [00:12<00:00,  6.34s/it]<00:44,  7.48s/it]\n",
      "Training (2500 / 18000 Steps) (loss=0.57676):  29%|██▊       | 2/7 [00:22<00:58, 11.71s/it]"
     ]
    },
    {
     "name": "stdout",
     "output_type": "stream",
     "text": [
      "Model Was Not Saved ! Current Best Avg. Dice: 0.7541887760162354 Current Avg. Dice: 0.7297848463058472 Current Avg. tumor Dice: 0.8725789189338684 Current Avg. lymph Dice: 0.5869907140731812\n"
     ]
    },
    {
     "name": "stderr",
     "output_type": "stream",
     "text": [
      "Training (2505 / 18000 Steps) (loss=0.39976): 100%|██████████| 7/7 [00:28<00:00,  4.06s/it]\n",
      "Training (2512 / 18000 Steps) (loss=0.40830): 100%|██████████| 7/7 [00:14<00:00,  2.08s/it]\n",
      "Training (2519 / 18000 Steps) (loss=0.53788): 100%|██████████| 7/7 [00:14<00:00,  2.09s/it]\n",
      "Training (2526 / 18000 Steps) (loss=0.12611): 100%|██████████| 7/7 [00:14<00:00,  2.07s/it]\n",
      "Training (2533 / 18000 Steps) (loss=0.33901): 100%|██████████| 7/7 [00:14<00:00,  2.14s/it]\n",
      "Training (2540 / 18000 Steps) (loss=0.31076): 100%|██████████| 7/7 [00:15<00:00,  2.19s/it]\n",
      "Training (2547 / 18000 Steps) (loss=0.66830): 100%|██████████| 7/7 [00:14<00:00,  2.11s/it]\n",
      "Training (2554 / 18000 Steps) (loss=0.38406): 100%|██████████| 7/7 [00:14<00:00,  2.08s/it]\n",
      "Training (2561 / 18000 Steps) (loss=0.21794): 100%|██████████| 7/7 [00:14<00:00,  2.13s/it]\n",
      "Training (2568 / 18000 Steps) (loss=0.36195): 100%|██████████| 7/7 [00:16<00:00,  2.40s/it]\n",
      "Training (2575 / 18000 Steps) (loss=0.21094): 100%|██████████| 7/7 [00:14<00:00,  2.08s/it]\n",
      "Training (2582 / 18000 Steps) (loss=0.42146): 100%|██████████| 7/7 [00:15<00:00,  2.20s/it]\n",
      "Training (2589 / 18000 Steps) (loss=0.27726): 100%|██████████| 7/7 [00:15<00:00,  2.19s/it]\n",
      "Training (2596 / 18000 Steps) (loss=0.29372): 100%|██████████| 7/7 [00:16<00:00,  2.29s/it]\n",
      "Validate (2597 / 10 Steps): 100%|██████████| 2/2 [00:12<00:00,  6.07s/it]<00:11,  2.93s/it]\n",
      "Training (2600 / 18000 Steps) (loss=0.53493):  57%|█████▋    | 4/7 [00:24<00:21,  7.14s/it]"
     ]
    },
    {
     "name": "stdout",
     "output_type": "stream",
     "text": [
      "Model Was Not Saved ! Current Best Avg. Dice: 0.7541887760162354 Current Avg. Dice: 0.7423188090324402 Current Avg. tumor Dice: 0.8709984421730042 Current Avg. lymph Dice: 0.6136391758918762\n"
     ]
    },
    {
     "name": "stderr",
     "output_type": "stream",
     "text": [
      "Training (2603 / 18000 Steps) (loss=0.13767): 100%|██████████| 7/7 [00:28<00:00,  4.04s/it]\n",
      "Training (2610 / 18000 Steps) (loss=0.36462): 100%|██████████| 7/7 [00:14<00:00,  2.03s/it]\n",
      "Training (2617 / 18000 Steps) (loss=0.19187): 100%|██████████| 7/7 [00:15<00:00,  2.19s/it]\n",
      "Training (2624 / 18000 Steps) (loss=0.43960): 100%|██████████| 7/7 [00:16<00:00,  2.35s/it]\n",
      "Training (2631 / 18000 Steps) (loss=0.52545): 100%|██████████| 7/7 [00:15<00:00,  2.20s/it]\n",
      "Training (2638 / 18000 Steps) (loss=0.47188): 100%|██████████| 7/7 [00:14<00:00,  2.08s/it]\n",
      "Training (2645 / 18000 Steps) (loss=0.37881): 100%|██████████| 7/7 [00:14<00:00,  2.10s/it]\n",
      "Training (2652 / 18000 Steps) (loss=0.23876): 100%|██████████| 7/7 [00:14<00:00,  2.11s/it]\n",
      "Training (2659 / 18000 Steps) (loss=0.55381): 100%|██████████| 7/7 [00:14<00:00,  2.11s/it]\n",
      "Training (2666 / 18000 Steps) (loss=0.26074): 100%|██████████| 7/7 [00:14<00:00,  2.03s/it]\n",
      "Training (2673 / 18000 Steps) (loss=0.27000): 100%|██████████| 7/7 [00:14<00:00,  2.11s/it]\n",
      "Training (2680 / 18000 Steps) (loss=0.40442): 100%|██████████| 7/7 [00:15<00:00,  2.18s/it]\n",
      "Training (2687 / 18000 Steps) (loss=0.54098): 100%|██████████| 7/7 [00:14<00:00,  2.12s/it]\n",
      "Training (2694 / 18000 Steps) (loss=0.29913): 100%|██████████| 7/7 [00:14<00:00,  2.10s/it]\n",
      "Validate (2695 / 10 Steps): 100%|██████████| 2/2 [00:12<00:00,  6.39s/it]<00:03,  1.85s/it]\n",
      "Training (2700 / 18000 Steps) (loss=0.36699):  86%|████████▌ | 6/7 [00:26<00:06,  6.07s/it]"
     ]
    },
    {
     "name": "stdout",
     "output_type": "stream",
     "text": [
      "Model Was Not Saved ! Current Best Avg. Dice: 0.7541887760162354 Current Avg. Dice: 0.7427019476890564 Current Avg. tumor Dice: 0.8598706722259521 Current Avg. lymph Dice: 0.6255332231521606\n"
     ]
    },
    {
     "name": "stderr",
     "output_type": "stream",
     "text": [
      "Training (2701 / 18000 Steps) (loss=0.26730): 100%|██████████| 7/7 [00:27<00:00,  3.93s/it]\n",
      "Training (2708 / 18000 Steps) (loss=0.27231): 100%|██████████| 7/7 [00:13<00:00,  1.99s/it]\n",
      "Training (2715 / 18000 Steps) (loss=0.41833): 100%|██████████| 7/7 [00:15<00:00,  2.23s/it]\n",
      "Training (2722 / 18000 Steps) (loss=0.35590): 100%|██████████| 7/7 [00:14<00:00,  2.07s/it]\n",
      "Training (2729 / 18000 Steps) (loss=0.29364): 100%|██████████| 7/7 [00:15<00:00,  2.22s/it]\n",
      "Training (2736 / 18000 Steps) (loss=0.27194): 100%|██████████| 7/7 [00:14<00:00,  2.05s/it]\n",
      "Training (2743 / 18000 Steps) (loss=0.32835): 100%|██████████| 7/7 [00:14<00:00,  2.13s/it]\n",
      "Training (2750 / 18000 Steps) (loss=0.36046): 100%|██████████| 7/7 [00:14<00:00,  2.05s/it]\n",
      "Training (2757 / 18000 Steps) (loss=0.35561): 100%|██████████| 7/7 [00:14<00:00,  2.11s/it]\n",
      "Training (2764 / 18000 Steps) (loss=0.44512): 100%|██████████| 7/7 [00:15<00:00,  2.18s/it]\n",
      "Training (2771 / 18000 Steps) (loss=0.41426): 100%|██████████| 7/7 [00:16<00:00,  2.33s/it]\n",
      "Training (2778 / 18000 Steps) (loss=0.47960): 100%|██████████| 7/7 [00:14<00:00,  2.05s/it]\n",
      "Training (2785 / 18000 Steps) (loss=0.13955): 100%|██████████| 7/7 [00:15<00:00,  2.19s/it]\n",
      "Training (2792 / 18000 Steps) (loss=0.35926): 100%|██████████| 7/7 [00:14<00:00,  2.08s/it]\n",
      "Training (2799 / 18000 Steps) (loss=0.27306): 100%|██████████| 7/7 [00:15<00:00,  2.17s/it]\n",
      "Validate (2800 / 10 Steps): 100%|██████████| 2/2 [00:11<00:00,  5.97s/it]<?, ?it/s]\n",
      "Training (2800 / 18000 Steps) (loss=0.33234):  14%|█▍        | 1/7 [00:19<01:58, 19.81s/it]"
     ]
    },
    {
     "name": "stdout",
     "output_type": "stream",
     "text": [
      "Model Was Not Saved ! Current Best Avg. Dice: 0.7541887760162354 Current Avg. Dice: 0.7499134540557861 Current Avg. tumor Dice: 0.8709969520568848 Current Avg. lymph Dice: 0.6288298964500427\n"
     ]
    },
    {
     "name": "stderr",
     "output_type": "stream",
     "text": [
      "Training (2806 / 18000 Steps) (loss=0.44688): 100%|██████████| 7/7 [00:27<00:00,  3.92s/it]\n",
      "Training (2813 / 18000 Steps) (loss=0.54128): 100%|██████████| 7/7 [00:14<00:00,  2.11s/it]\n",
      "Training (2820 / 18000 Steps) (loss=0.26294): 100%|██████████| 7/7 [00:15<00:00,  2.16s/it]\n",
      "Training (2827 / 18000 Steps) (loss=0.39192): 100%|██████████| 7/7 [00:15<00:00,  2.27s/it]\n",
      "Training (2834 / 18000 Steps) (loss=0.29499): 100%|██████████| 7/7 [00:14<00:00,  2.14s/it]\n",
      "Training (2841 / 18000 Steps) (loss=0.31598): 100%|██████████| 7/7 [00:14<00:00,  2.12s/it]\n",
      "Training (2848 / 18000 Steps) (loss=0.28984): 100%|██████████| 7/7 [00:14<00:00,  2.01s/it]\n",
      "Training (2855 / 18000 Steps) (loss=0.42579): 100%|██████████| 7/7 [00:14<00:00,  2.09s/it]\n",
      "Training (2862 / 18000 Steps) (loss=0.54145): 100%|██████████| 7/7 [00:15<00:00,  2.22s/it]\n",
      "Training (2869 / 18000 Steps) (loss=0.27074): 100%|██████████| 7/7 [00:14<00:00,  2.14s/it]\n",
      "Training (2876 / 18000 Steps) (loss=0.39683): 100%|██████████| 7/7 [00:15<00:00,  2.19s/it]\n",
      "Training (2883 / 18000 Steps) (loss=0.45490): 100%|██████████| 7/7 [00:15<00:00,  2.26s/it]\n",
      "Training (2890 / 18000 Steps) (loss=0.48752): 100%|██████████| 7/7 [00:15<00:00,  2.24s/it]\n",
      "Training (2897 / 18000 Steps) (loss=0.37250): 100%|██████████| 7/7 [00:14<00:00,  2.14s/it]\n",
      "Validate (2898 / 10 Steps): 100%|██████████| 2/2 [00:12<00:00,  6.22s/it]<00:17,  3.48s/it]\n",
      "Training (2900 / 18000 Steps) (loss=0.23481):  43%|████▎     | 3/7 [00:21<00:32,  8.24s/it]"
     ]
    },
    {
     "name": "stdout",
     "output_type": "stream",
     "text": [
      "Model Was Not Saved ! Current Best Avg. Dice: 0.7541887760162354 Current Avg. Dice: 0.7272069454193115 Current Avg. tumor Dice: 0.8706682920455933 Current Avg. lymph Dice: 0.5837454795837402\n"
     ]
    },
    {
     "name": "stderr",
     "output_type": "stream",
     "text": [
      "Training (2904 / 18000 Steps) (loss=0.59415): 100%|██████████| 7/7 [00:26<00:00,  3.81s/it]\n",
      "Training (2911 / 18000 Steps) (loss=0.27874): 100%|██████████| 7/7 [00:16<00:00,  2.35s/it]\n",
      "Training (2918 / 18000 Steps) (loss=0.46847): 100%|██████████| 7/7 [00:16<00:00,  2.30s/it]\n",
      "Training (2925 / 18000 Steps) (loss=0.41843): 100%|██████████| 7/7 [00:14<00:00,  2.04s/it]\n",
      "Training (2932 / 18000 Steps) (loss=0.37928): 100%|██████████| 7/7 [00:15<00:00,  2.22s/it]\n",
      "Training (2939 / 18000 Steps) (loss=0.42355): 100%|██████████| 7/7 [00:15<00:00,  2.18s/it]\n",
      "Training (2946 / 18000 Steps) (loss=0.18205): 100%|██████████| 7/7 [00:15<00:00,  2.21s/it]\n",
      "Training (2953 / 18000 Steps) (loss=0.43367): 100%|██████████| 7/7 [00:15<00:00,  2.24s/it]\n",
      "Training (2960 / 18000 Steps) (loss=0.40688): 100%|██████████| 7/7 [00:14<00:00,  2.14s/it]\n",
      "Training (2967 / 18000 Steps) (loss=0.14409): 100%|██████████| 7/7 [00:14<00:00,  2.12s/it]\n",
      "Training (2974 / 18000 Steps) (loss=0.43370): 100%|██████████| 7/7 [00:14<00:00,  2.04s/it]\n",
      "Training (2981 / 18000 Steps) (loss=0.47009): 100%|██████████| 7/7 [00:15<00:00,  2.27s/it]\n",
      "Training (2988 / 18000 Steps) (loss=0.45677): 100%|██████████| 7/7 [00:14<00:00,  2.10s/it]\n",
      "Training (2995 / 18000 Steps) (loss=0.40591): 100%|██████████| 7/7 [00:14<00:00,  2.12s/it]\n",
      "Validate (2996 / 10 Steps): 100%|██████████| 2/2 [00:12<00:00,  6.14s/it]<00:06,  2.17s/it]\n",
      "Training (3000 / 18000 Steps) (loss=0.49901):  71%|███████▏  | 5/7 [00:25<00:12,  6.35s/it]"
     ]
    },
    {
     "name": "stdout",
     "output_type": "stream",
     "text": [
      "Model Was Not Saved ! Current Best Avg. Dice: 0.7541887760162354 Current Avg. Dice: 0.7402350306510925 Current Avg. tumor Dice: 0.8646634817123413 Current Avg. lymph Dice: 0.6158066391944885\n"
     ]
    },
    {
     "name": "stderr",
     "output_type": "stream",
     "text": [
      "Training (3002 / 18000 Steps) (loss=0.58169): 100%|██████████| 7/7 [00:27<00:00,  3.91s/it]\n",
      "Training (3009 / 18000 Steps) (loss=0.31613): 100%|██████████| 7/7 [00:16<00:00,  2.38s/it]\n",
      "Training (3016 / 18000 Steps) (loss=0.42909): 100%|██████████| 7/7 [00:15<00:00,  2.27s/it]\n",
      "Training (3023 / 18000 Steps) (loss=0.53044): 100%|██████████| 7/7 [00:15<00:00,  2.26s/it]\n",
      "Training (3030 / 18000 Steps) (loss=0.30221): 100%|██████████| 7/7 [00:15<00:00,  2.25s/it]\n",
      "Training (3037 / 18000 Steps) (loss=0.28284): 100%|██████████| 7/7 [00:14<00:00,  2.09s/it]\n",
      "Training (3044 / 18000 Steps) (loss=0.37028): 100%|██████████| 7/7 [00:15<00:00,  2.16s/it]\n",
      "Training (3051 / 18000 Steps) (loss=0.66925): 100%|██████████| 7/7 [00:15<00:00,  2.19s/it]\n",
      "Training (3058 / 18000 Steps) (loss=0.16494): 100%|██████████| 7/7 [00:14<00:00,  2.07s/it]\n",
      "Training (3065 / 18000 Steps) (loss=0.44313): 100%|██████████| 7/7 [00:14<00:00,  2.12s/it]\n",
      "Training (3072 / 18000 Steps) (loss=0.29217): 100%|██████████| 7/7 [00:16<00:00,  2.40s/it]\n",
      "Training (3079 / 18000 Steps) (loss=0.46788): 100%|██████████| 7/7 [00:15<00:00,  2.15s/it]\n",
      "Training (3086 / 18000 Steps) (loss=0.33830): 100%|██████████| 7/7 [00:16<00:00,  2.33s/it]\n",
      "Training (3093 / 18000 Steps) (loss=0.26996): 100%|██████████| 7/7 [00:15<00:00,  2.19s/it]\n",
      "Validate (3094 / 10 Steps): 100%|██████████| 2/2 [00:12<00:00,  6.13s/it]<00:01,  1.77s/it]\n",
      "Training (3100 / 18000 Steps) (loss=0.55834): 100%|██████████| 7/7 [00:28<00:00,  4.06s/it]\n"
     ]
    },
    {
     "name": "stdout",
     "output_type": "stream",
     "text": [
      "Model Was Not Saved ! Current Best Avg. Dice: 0.7541887760162354 Current Avg. Dice: 0.7449727654457092 Current Avg. tumor Dice: 0.8582093119621277 Current Avg. lymph Dice: 0.6317362189292908\n"
     ]
    },
    {
     "name": "stderr",
     "output_type": "stream",
     "text": [
      "Training (3107 / 18000 Steps) (loss=0.47613): 100%|██████████| 7/7 [00:14<00:00,  2.05s/it]\n",
      "Training (3114 / 18000 Steps) (loss=0.41121): 100%|██████████| 7/7 [00:14<00:00,  2.02s/it]\n",
      "Training (3121 / 18000 Steps) (loss=0.16762): 100%|██████████| 7/7 [00:15<00:00,  2.16s/it]\n",
      "Training (3128 / 18000 Steps) (loss=0.41021): 100%|██████████| 7/7 [00:14<00:00,  2.06s/it]\n",
      "Training (3135 / 18000 Steps) (loss=0.37688): 100%|██████████| 7/7 [00:14<00:00,  2.06s/it]\n",
      "Training (3142 / 18000 Steps) (loss=0.39695): 100%|██████████| 7/7 [00:14<00:00,  2.13s/it]\n",
      "Training (3149 / 18000 Steps) (loss=0.54927): 100%|██████████| 7/7 [00:15<00:00,  2.15s/it]\n",
      "Training (3156 / 18000 Steps) (loss=0.53384): 100%|██████████| 7/7 [00:16<00:00,  2.34s/it]\n",
      "Training (3163 / 18000 Steps) (loss=0.26515): 100%|██████████| 7/7 [00:16<00:00,  2.37s/it]\n",
      "Training (3170 / 18000 Steps) (loss=0.17765): 100%|██████████| 7/7 [00:15<00:00,  2.24s/it]\n",
      "Training (3177 / 18000 Steps) (loss=0.14863): 100%|██████████| 7/7 [00:15<00:00,  2.17s/it]\n",
      "Training (3184 / 18000 Steps) (loss=0.29672): 100%|██████████| 7/7 [00:14<00:00,  2.09s/it]\n",
      "Training (3191 / 18000 Steps) (loss=0.39345): 100%|██████████| 7/7 [00:16<00:00,  2.30s/it]\n",
      "Training (3198 / 18000 Steps) (loss=0.32341): 100%|██████████| 7/7 [00:15<00:00,  2.16s/it]\n",
      "Validate (3199 / 10 Steps): 100%|██████████| 2/2 [00:12<00:00,  6.18s/it]<00:43,  7.20s/it]\n",
      "Training (3200 / 18000 Steps) (loss=0.20216):  29%|██▊       | 2/7 [00:21<00:55, 11.10s/it]"
     ]
    },
    {
     "name": "stdout",
     "output_type": "stream",
     "text": [
      "Model Was Not Saved ! Current Best Avg. Dice: 0.7541887760162354 Current Avg. Dice: 0.7380133867263794 Current Avg. tumor Dice: 0.8571900725364685 Current Avg. lymph Dice: 0.6188366413116455\n"
     ]
    },
    {
     "name": "stderr",
     "output_type": "stream",
     "text": [
      "Training (3205 / 18000 Steps) (loss=0.60433): 100%|██████████| 7/7 [00:27<00:00,  3.90s/it]\n",
      "Training (3212 / 18000 Steps) (loss=0.16163): 100%|██████████| 7/7 [00:14<00:00,  2.02s/it]\n",
      "Training (3219 / 18000 Steps) (loss=0.54485): 100%|██████████| 7/7 [00:14<00:00,  2.10s/it]\n",
      "Training (3226 / 18000 Steps) (loss=0.36609): 100%|██████████| 7/7 [00:15<00:00,  2.19s/it]\n",
      "Training (3233 / 18000 Steps) (loss=0.16407): 100%|██████████| 7/7 [00:15<00:00,  2.15s/it]\n",
      "Training (3240 / 18000 Steps) (loss=0.28378): 100%|██████████| 7/7 [00:15<00:00,  2.21s/it]\n",
      "Training (3247 / 18000 Steps) (loss=0.46095): 100%|██████████| 7/7 [00:15<00:00,  2.25s/it]\n",
      "Training (3254 / 18000 Steps) (loss=0.29491): 100%|██████████| 7/7 [00:16<00:00,  2.31s/it]\n",
      "Training (3261 / 18000 Steps) (loss=0.32129): 100%|██████████| 7/7 [00:15<00:00,  2.16s/it]\n",
      "Training (3268 / 18000 Steps) (loss=0.13535): 100%|██████████| 7/7 [00:14<00:00,  2.14s/it]\n",
      "Training (3275 / 18000 Steps) (loss=0.50637): 100%|██████████| 7/7 [00:14<00:00,  2.08s/it]\n",
      "Training (3282 / 18000 Steps) (loss=0.40224): 100%|██████████| 7/7 [00:16<00:00,  2.31s/it]\n",
      "Training (3289 / 18000 Steps) (loss=0.53809): 100%|██████████| 7/7 [00:15<00:00,  2.28s/it]\n",
      "Training (3296 / 18000 Steps) (loss=0.17642): 100%|██████████| 7/7 [00:15<00:00,  2.27s/it]\n",
      "Validate (3297 / 10 Steps): 100%|██████████| 2/2 [00:12<00:00,  6.13s/it]<00:12,  3.06s/it]\n",
      "Training (3300 / 18000 Steps) (loss=0.26137):  57%|█████▋    | 4/7 [00:25<00:21,  7.28s/it]"
     ]
    },
    {
     "name": "stdout",
     "output_type": "stream",
     "text": [
      "Model Was Not Saved ! Current Best Avg. Dice: 0.7541887760162354 Current Avg. Dice: 0.7463531494140625 Current Avg. tumor Dice: 0.8726711869239807 Current Avg. lymph Dice: 0.6200351715087891\n"
     ]
    },
    {
     "name": "stderr",
     "output_type": "stream",
     "text": [
      "Training (3303 / 18000 Steps) (loss=0.27918): 100%|██████████| 7/7 [00:28<00:00,  4.13s/it]\n",
      "Training (3310 / 18000 Steps) (loss=0.58127): 100%|██████████| 7/7 [00:16<00:00,  2.41s/it]\n",
      "Training (3317 / 18000 Steps) (loss=0.53663): 100%|██████████| 7/7 [00:14<00:00,  2.06s/it]\n",
      "Training (3324 / 18000 Steps) (loss=0.28556): 100%|██████████| 7/7 [00:14<00:00,  2.06s/it]\n",
      "Training (3331 / 18000 Steps) (loss=0.43808): 100%|██████████| 7/7 [00:16<00:00,  2.31s/it]\n",
      "Training (3338 / 18000 Steps) (loss=0.17799): 100%|██████████| 7/7 [00:14<00:00,  2.11s/it]\n",
      "Training (3345 / 18000 Steps) (loss=0.25310): 100%|██████████| 7/7 [00:14<00:00,  2.09s/it]\n",
      "Training (3352 / 18000 Steps) (loss=0.38423): 100%|██████████| 7/7 [00:15<00:00,  2.20s/it]\n",
      "Training (3359 / 18000 Steps) (loss=0.64020): 100%|██████████| 7/7 [00:14<00:00,  2.08s/it]\n",
      "Training (3366 / 18000 Steps) (loss=0.29451): 100%|██████████| 7/7 [00:16<00:00,  2.30s/it]\n",
      "Training (3373 / 18000 Steps) (loss=0.52903): 100%|██████████| 7/7 [00:14<00:00,  2.04s/it]\n",
      "Training (3380 / 18000 Steps) (loss=0.14019): 100%|██████████| 7/7 [00:15<00:00,  2.21s/it]\n",
      "Training (3387 / 18000 Steps) (loss=0.54402): 100%|██████████| 7/7 [00:16<00:00,  2.37s/it]\n",
      "Training (3394 / 18000 Steps) (loss=0.43643): 100%|██████████| 7/7 [00:16<00:00,  2.40s/it]\n",
      "Validate (3395 / 10 Steps): 100%|██████████| 2/2 [00:12<00:00,  6.27s/it]<00:03,  1.96s/it]\n",
      "Training (3400 / 18000 Steps) (loss=0.34964):  86%|████████▌ | 6/7 [00:27<00:06,  6.06s/it]"
     ]
    },
    {
     "name": "stdout",
     "output_type": "stream",
     "text": [
      "Model Was Not Saved ! Current Best Avg. Dice: 0.7541887760162354 Current Avg. Dice: 0.7409728765487671 Current Avg. tumor Dice: 0.8684436678886414 Current Avg. lymph Dice: 0.613502025604248\n"
     ]
    },
    {
     "name": "stderr",
     "output_type": "stream",
     "text": [
      "Training (3401 / 18000 Steps) (loss=0.40200): 100%|██████████| 7/7 [00:28<00:00,  4.02s/it]\n",
      "Training (3408 / 18000 Steps) (loss=0.46786): 100%|██████████| 7/7 [00:15<00:00,  2.28s/it]\n",
      "Training (3415 / 18000 Steps) (loss=0.21037): 100%|██████████| 7/7 [00:15<00:00,  2.22s/it]\n",
      "Training (3422 / 18000 Steps) (loss=0.13807): 100%|██████████| 7/7 [00:16<00:00,  2.38s/it]\n",
      "Training (3429 / 18000 Steps) (loss=0.39242): 100%|██████████| 7/7 [00:16<00:00,  2.29s/it]\n",
      "Training (3436 / 18000 Steps) (loss=0.18171): 100%|██████████| 7/7 [00:14<00:00,  2.12s/it]\n",
      "Training (3443 / 18000 Steps) (loss=0.48524): 100%|██████████| 7/7 [00:15<00:00,  2.27s/it]\n",
      "Training (3450 / 18000 Steps) (loss=0.27339): 100%|██████████| 7/7 [00:14<00:00,  2.14s/it]\n",
      "Training (3457 / 18000 Steps) (loss=0.27043): 100%|██████████| 7/7 [00:15<00:00,  2.15s/it]\n",
      "Training (3464 / 18000 Steps) (loss=0.15053): 100%|██████████| 7/7 [00:14<00:00,  2.11s/it]\n",
      "Training (3471 / 18000 Steps) (loss=0.40833): 100%|██████████| 7/7 [00:16<00:00,  2.39s/it]\n",
      "Training (3478 / 18000 Steps) (loss=0.53623): 100%|██████████| 7/7 [00:16<00:00,  2.34s/it]\n",
      "Training (3485 / 18000 Steps) (loss=0.35938): 100%|██████████| 7/7 [00:14<00:00,  2.08s/it]\n",
      "Training (3492 / 18000 Steps) (loss=0.55981): 100%|██████████| 7/7 [00:14<00:00,  2.07s/it]\n",
      "Training (3499 / 18000 Steps) (loss=0.28995): 100%|██████████| 7/7 [00:15<00:00,  2.24s/it]\n",
      "Validate (3500 / 10 Steps): 100%|██████████| 2/2 [00:12<00:00,  6.13s/it]<?, ?it/s]\n",
      "Training (3500 / 18000 Steps) (loss=0.40244):  14%|█▍        | 1/7 [00:20<02:00, 20.07s/it]"
     ]
    },
    {
     "name": "stdout",
     "output_type": "stream",
     "text": [
      "Model Was Not Saved ! Current Best Avg. Dice: 0.7541887760162354 Current Avg. Dice: 0.7244064807891846 Current Avg. tumor Dice: 0.8392068147659302 Current Avg. lymph Dice: 0.609606146812439\n"
     ]
    },
    {
     "name": "stderr",
     "output_type": "stream",
     "text": [
      "Training (3506 / 18000 Steps) (loss=0.35715): 100%|██████████| 7/7 [00:27<00:00,  3.95s/it]\n",
      "Training (3513 / 18000 Steps) (loss=0.52691): 100%|██████████| 7/7 [00:16<00:00,  2.33s/it]\n",
      "Training (3520 / 18000 Steps) (loss=0.33097): 100%|██████████| 7/7 [00:15<00:00,  2.25s/it]\n",
      "Training (3527 / 18000 Steps) (loss=0.22615): 100%|██████████| 7/7 [00:15<00:00,  2.27s/it]\n",
      "Training (3534 / 18000 Steps) (loss=0.38554): 100%|██████████| 7/7 [00:15<00:00,  2.23s/it]\n",
      "Training (3541 / 18000 Steps) (loss=0.42571): 100%|██████████| 7/7 [00:16<00:00,  2.30s/it]\n",
      "Training (3548 / 18000 Steps) (loss=0.44027): 100%|██████████| 7/7 [00:14<00:00,  2.14s/it]\n",
      "Training (3555 / 18000 Steps) (loss=0.27176): 100%|██████████| 7/7 [00:15<00:00,  2.21s/it]\n",
      "Training (3562 / 18000 Steps) (loss=0.12560): 100%|██████████| 7/7 [00:14<00:00,  2.11s/it]\n",
      "Training (3569 / 18000 Steps) (loss=0.51132): 100%|██████████| 7/7 [00:14<00:00,  2.10s/it]\n",
      "Training (3576 / 18000 Steps) (loss=0.37427): 100%|██████████| 7/7 [00:15<00:00,  2.20s/it]\n",
      "Training (3583 / 18000 Steps) (loss=0.39675): 100%|██████████| 7/7 [00:15<00:00,  2.14s/it]\n",
      "Training (3590 / 18000 Steps) (loss=0.53293): 100%|██████████| 7/7 [00:16<00:00,  2.37s/it]\n",
      "Training (3597 / 18000 Steps) (loss=0.16211): 100%|██████████| 7/7 [00:16<00:00,  2.34s/it]\n",
      "Validate (3598 / 10 Steps): 100%|██████████| 2/2 [00:12<00:00,  6.33s/it]<00:20,  4.03s/it]\n",
      "Training (3600 / 18000 Steps) (loss=0.43941):  43%|████▎     | 3/7 [00:23<00:34,  8.64s/it]"
     ]
    },
    {
     "name": "stdout",
     "output_type": "stream",
     "text": [
      "Model Was Not Saved ! Current Best Avg. Dice: 0.7541887760162354 Current Avg. Dice: 0.7402830719947815 Current Avg. tumor Dice: 0.8733974695205688 Current Avg. lymph Dice: 0.6071685552597046\n"
     ]
    },
    {
     "name": "stderr",
     "output_type": "stream",
     "text": [
      "Training (3604 / 18000 Steps) (loss=0.33935): 100%|██████████| 7/7 [00:28<00:00,  4.03s/it]\n",
      "Training (3611 / 18000 Steps) (loss=0.37041): 100%|██████████| 7/7 [00:16<00:00,  2.30s/it]\n",
      "Training (3618 / 18000 Steps) (loss=0.13026): 100%|██████████| 7/7 [00:15<00:00,  2.18s/it]\n",
      "Training (3625 / 18000 Steps) (loss=0.29682): 100%|██████████| 7/7 [00:15<00:00,  2.17s/it]\n",
      "Training (3632 / 18000 Steps) (loss=0.22350): 100%|██████████| 7/7 [00:16<00:00,  2.31s/it]\n",
      "Training (3639 / 18000 Steps) (loss=0.24784): 100%|██████████| 7/7 [00:15<00:00,  2.23s/it]\n",
      "Training (3646 / 18000 Steps) (loss=0.29307): 100%|██████████| 7/7 [00:15<00:00,  2.18s/it]\n",
      "Training (3653 / 18000 Steps) (loss=0.29138): 100%|██████████| 7/7 [00:16<00:00,  2.29s/it]\n",
      "Training (3660 / 18000 Steps) (loss=0.39639): 100%|██████████| 7/7 [00:16<00:00,  2.36s/it]\n",
      "Training (3667 / 18000 Steps) (loss=0.27840): 100%|██████████| 7/7 [00:15<00:00,  2.20s/it]\n",
      "Training (3674 / 18000 Steps) (loss=0.60074): 100%|██████████| 7/7 [00:16<00:00,  2.31s/it]\n",
      "Training (3681 / 18000 Steps) (loss=0.38741): 100%|██████████| 7/7 [00:14<00:00,  2.14s/it]\n",
      "Training (3688 / 18000 Steps) (loss=0.30986): 100%|██████████| 7/7 [00:14<00:00,  2.08s/it]\n",
      "Training (3695 / 18000 Steps) (loss=0.24321): 100%|██████████| 7/7 [00:16<00:00,  2.36s/it]\n",
      "Validate (3696 / 10 Steps): 100%|██████████| 2/2 [00:12<00:00,  6.19s/it]<00:06,  2.26s/it]\n",
      "Training (3700 / 18000 Steps) (loss=0.35577):  71%|███████▏  | 5/7 [00:25<00:12,  6.43s/it]"
     ]
    },
    {
     "name": "stdout",
     "output_type": "stream",
     "text": [
      "Model Was Not Saved ! Current Best Avg. Dice: 0.7541887760162354 Current Avg. Dice: 0.7326394319534302 Current Avg. tumor Dice: 0.8644263744354248 Current Avg. lymph Dice: 0.6008524894714355\n"
     ]
    },
    {
     "name": "stderr",
     "output_type": "stream",
     "text": [
      "Training (3702 / 18000 Steps) (loss=0.53945): 100%|██████████| 7/7 [00:28<00:00,  4.01s/it]\n",
      "Training (3709 / 18000 Steps) (loss=0.46381): 100%|██████████| 7/7 [00:14<00:00,  2.07s/it]\n",
      "Training (3716 / 18000 Steps) (loss=0.28042): 100%|██████████| 7/7 [00:16<00:00,  2.29s/it]\n",
      "Training (3723 / 18000 Steps) (loss=0.47643): 100%|██████████| 7/7 [00:15<00:00,  2.21s/it]\n",
      "Training (3730 / 18000 Steps) (loss=0.32261): 100%|██████████| 7/7 [00:16<00:00,  2.36s/it]\n",
      "Training (3737 / 18000 Steps) (loss=0.30294): 100%|██████████| 7/7 [00:15<00:00,  2.21s/it]\n",
      "Training (3744 / 18000 Steps) (loss=0.39069): 100%|██████████| 7/7 [00:14<00:00,  2.05s/it]\n",
      "Training (3751 / 18000 Steps) (loss=0.26688): 100%|██████████| 7/7 [00:16<00:00,  2.33s/it]\n",
      "Training (3758 / 18000 Steps) (loss=0.44798): 100%|██████████| 7/7 [00:15<00:00,  2.20s/it]\n",
      "Training (3765 / 18000 Steps) (loss=0.47109): 100%|██████████| 7/7 [00:16<00:00,  2.35s/it]\n",
      "Training (3772 / 18000 Steps) (loss=0.46822): 100%|██████████| 7/7 [00:16<00:00,  2.41s/it]\n",
      "Training (3779 / 18000 Steps) (loss=0.27006): 100%|██████████| 7/7 [00:16<00:00,  2.35s/it]\n",
      "Training (3786 / 18000 Steps) (loss=0.42866): 100%|██████████| 7/7 [00:16<00:00,  2.33s/it]\n",
      "Training (3793 / 18000 Steps) (loss=0.34566): 100%|██████████| 7/7 [00:16<00:00,  2.36s/it]\n",
      "Validate (3794 / 10 Steps): 100%|██████████| 2/2 [00:12<00:00,  6.19s/it]<00:01,  1.71s/it]\n",
      "Training (3800 / 18000 Steps) (loss=0.39681): 100%|██████████| 7/7 [00:27<00:00,  3.91s/it]\n"
     ]
    },
    {
     "name": "stdout",
     "output_type": "stream",
     "text": [
      "Model Was Not Saved ! Current Best Avg. Dice: 0.7541887760162354 Current Avg. Dice: 0.7428420782089233 Current Avg. tumor Dice: 0.8712285757064819 Current Avg. lymph Dice: 0.6144555807113647\n"
     ]
    },
    {
     "name": "stderr",
     "output_type": "stream",
     "text": [
      "Training (3807 / 18000 Steps) (loss=0.37507): 100%|██████████| 7/7 [00:17<00:00,  2.43s/it]\n",
      "Training (3814 / 18000 Steps) (loss=0.46774): 100%|██████████| 7/7 [00:15<00:00,  2.19s/it]\n",
      "Training (3821 / 18000 Steps) (loss=0.40760): 100%|██████████| 7/7 [00:14<00:00,  2.13s/it]\n",
      "Training (3828 / 18000 Steps) (loss=0.52786): 100%|██████████| 7/7 [00:16<00:00,  2.29s/it]\n",
      "Training (3835 / 18000 Steps) (loss=0.26550): 100%|██████████| 7/7 [00:15<00:00,  2.16s/it]\n",
      "Training (3842 / 18000 Steps) (loss=0.13939): 100%|██████████| 7/7 [00:15<00:00,  2.28s/it]\n",
      "Training (3849 / 18000 Steps) (loss=0.39748): 100%|██████████| 7/7 [00:16<00:00,  2.33s/it]\n",
      "Training (3856 / 18000 Steps) (loss=0.56605): 100%|██████████| 7/7 [00:14<00:00,  2.13s/it]\n",
      "Training (3863 / 18000 Steps) (loss=0.20141): 100%|██████████| 7/7 [00:16<00:00,  2.35s/it]\n",
      "Training (3870 / 18000 Steps) (loss=0.53904): 100%|██████████| 7/7 [00:15<00:00,  2.26s/it]\n",
      "Training (3877 / 18000 Steps) (loss=0.54243): 100%|██████████| 7/7 [00:15<00:00,  2.17s/it]\n",
      "Training (3884 / 18000 Steps) (loss=0.39715): 100%|██████████| 7/7 [00:15<00:00,  2.19s/it]\n",
      "Training (3891 / 18000 Steps) (loss=0.47193): 100%|██████████| 7/7 [00:15<00:00,  2.24s/it]\n",
      "Training (3898 / 18000 Steps) (loss=0.55134): 100%|██████████| 7/7 [00:14<00:00,  2.14s/it]\n",
      "Validate (3899 / 10 Steps): 100%|██████████| 2/2 [00:12<00:00,  6.06s/it]<00:47,  7.90s/it]\n",
      "Training (3900 / 18000 Steps) (loss=0.32292):  29%|██▊       | 2/7 [00:21<00:56, 11.23s/it]"
     ]
    },
    {
     "name": "stdout",
     "output_type": "stream",
     "text": [
      "Model Was Not Saved ! Current Best Avg. Dice: 0.7541887760162354 Current Avg. Dice: 0.7469394207000732 Current Avg. tumor Dice: 0.8620462417602539 Current Avg. lymph Dice: 0.6318326592445374\n"
     ]
    },
    {
     "name": "stderr",
     "output_type": "stream",
     "text": [
      "Training (3905 / 18000 Steps) (loss=0.41752): 100%|██████████| 7/7 [00:27<00:00,  3.96s/it]\n",
      "Training (3912 / 18000 Steps) (loss=0.36613): 100%|██████████| 7/7 [00:15<00:00,  2.17s/it]\n",
      "Training (3919 / 18000 Steps) (loss=0.47005): 100%|██████████| 7/7 [00:15<00:00,  2.15s/it]\n",
      "Training (3926 / 18000 Steps) (loss=0.21242): 100%|██████████| 7/7 [00:15<00:00,  2.17s/it]\n",
      "Training (3933 / 18000 Steps) (loss=0.34921): 100%|██████████| 7/7 [00:15<00:00,  2.24s/it]\n",
      "Training (3940 / 18000 Steps) (loss=0.46123): 100%|██████████| 7/7 [00:16<00:00,  2.38s/it]\n",
      "Training (3947 / 18000 Steps) (loss=0.31804): 100%|██████████| 7/7 [00:17<00:00,  2.51s/it]\n",
      "Training (3954 / 18000 Steps) (loss=0.33132): 100%|██████████| 7/7 [00:15<00:00,  2.23s/it]\n",
      "Training (3961 / 18000 Steps) (loss=0.47506): 100%|██████████| 7/7 [00:15<00:00,  2.15s/it]\n",
      "Training (3968 / 18000 Steps) (loss=0.40702): 100%|██████████| 7/7 [00:15<00:00,  2.24s/it]\n",
      "Training (3975 / 18000 Steps) (loss=0.54147): 100%|██████████| 7/7 [00:15<00:00,  2.20s/it]\n",
      "Training (3982 / 18000 Steps) (loss=0.37254): 100%|██████████| 7/7 [00:16<00:00,  2.37s/it]\n",
      "Training (3989 / 18000 Steps) (loss=0.55973): 100%|██████████| 7/7 [00:15<00:00,  2.18s/it]\n",
      "Training (3996 / 18000 Steps) (loss=0.37534): 100%|██████████| 7/7 [00:16<00:00,  2.41s/it]\n",
      "Validate (3997 / 10 Steps): 100%|██████████| 2/2 [00:12<00:00,  6.29s/it]<00:11,  2.98s/it]\n",
      "Training (4000 / 18000 Steps) (loss=0.28898):  57%|█████▋    | 4/7 [00:25<00:22,  7.36s/it]"
     ]
    },
    {
     "name": "stdout",
     "output_type": "stream",
     "text": [
      "Model Was Not Saved ! Current Best Avg. Dice: 0.7541887760162354 Current Avg. Dice: 0.742186427116394 Current Avg. tumor Dice: 0.8712828755378723 Current Avg. lymph Dice: 0.613089919090271\n"
     ]
    },
    {
     "name": "stderr",
     "output_type": "stream",
     "text": [
      "Training (4003 / 18000 Steps) (loss=0.42062): 100%|██████████| 7/7 [00:28<00:00,  4.13s/it]\n",
      "Training (4010 / 18000 Steps) (loss=0.24840): 100%|██████████| 7/7 [00:14<00:00,  2.06s/it]\n",
      "Training (4017 / 18000 Steps) (loss=0.52267): 100%|██████████| 7/7 [00:15<00:00,  2.17s/it]\n",
      "Training (4024 / 18000 Steps) (loss=0.28103): 100%|██████████| 7/7 [00:14<00:00,  2.09s/it]\n",
      "Training (4031 / 18000 Steps) (loss=0.18373): 100%|██████████| 7/7 [00:15<00:00,  2.24s/it]\n",
      "Training (4038 / 18000 Steps) (loss=0.24071): 100%|██████████| 7/7 [00:15<00:00,  2.21s/it]\n",
      "Training (4045 / 18000 Steps) (loss=0.26857): 100%|██████████| 7/7 [00:14<00:00,  2.04s/it]\n",
      "Training (4052 / 18000 Steps) (loss=0.48658): 100%|██████████| 7/7 [00:15<00:00,  2.19s/it]\n",
      "Training (4059 / 18000 Steps) (loss=0.42481): 100%|██████████| 7/7 [00:14<00:00,  2.13s/it]\n",
      "Training (4066 / 18000 Steps) (loss=0.59872): 100%|██████████| 7/7 [00:15<00:00,  2.19s/it]\n",
      "Training (4073 / 18000 Steps) (loss=0.22906): 100%|██████████| 7/7 [00:14<00:00,  2.05s/it]\n",
      "Training (4080 / 18000 Steps) (loss=0.26343): 100%|██████████| 7/7 [00:14<00:00,  2.12s/it]\n",
      "Training (4087 / 18000 Steps) (loss=0.53206): 100%|██████████| 7/7 [00:15<00:00,  2.23s/it]\n",
      "Training (4094 / 18000 Steps) (loss=0.39622): 100%|██████████| 7/7 [00:14<00:00,  2.02s/it]\n",
      "Validate (4095 / 10 Steps): 100%|██████████| 2/2 [00:12<00:00,  6.21s/it]<00:03,  1.89s/it]\n",
      "Training (4100 / 18000 Steps) (loss=0.20629):  86%|████████▌ | 6/7 [00:26<00:05,  5.97s/it]"
     ]
    },
    {
     "name": "stdout",
     "output_type": "stream",
     "text": [
      "Model Was Not Saved ! Current Best Avg. Dice: 0.7541887760162354 Current Avg. Dice: 0.7326299548149109 Current Avg. tumor Dice: 0.8542040586471558 Current Avg. lymph Dice: 0.6110557913780212\n"
     ]
    },
    {
     "name": "stderr",
     "output_type": "stream",
     "text": [
      "Training (4101 / 18000 Steps) (loss=0.58742): 100%|██████████| 7/7 [00:27<00:00,  3.94s/it]\n",
      "Training (4108 / 18000 Steps) (loss=0.23109): 100%|██████████| 7/7 [00:15<00:00,  2.16s/it]\n",
      "Training (4115 / 18000 Steps) (loss=0.25928): 100%|██████████| 7/7 [00:16<00:00,  2.42s/it]\n",
      "Training (4122 / 18000 Steps) (loss=0.42286): 100%|██████████| 7/7 [00:15<00:00,  2.20s/it]\n",
      "Training (4129 / 18000 Steps) (loss=0.44668): 100%|██████████| 7/7 [00:15<00:00,  2.28s/it]\n",
      "Training (4136 / 18000 Steps) (loss=0.29414): 100%|██████████| 7/7 [00:14<00:00,  2.07s/it]\n",
      "Training (4143 / 18000 Steps) (loss=0.42421): 100%|██████████| 7/7 [00:16<00:00,  2.38s/it]\n",
      "Training (4150 / 18000 Steps) (loss=0.23993): 100%|██████████| 7/7 [00:15<00:00,  2.24s/it]\n",
      "Training (4157 / 18000 Steps) (loss=0.26734): 100%|██████████| 7/7 [00:16<00:00,  2.29s/it]\n",
      "Training (4164 / 18000 Steps) (loss=0.28148): 100%|██████████| 7/7 [00:14<00:00,  2.13s/it]\n",
      "Training (4171 / 18000 Steps) (loss=0.32741): 100%|██████████| 7/7 [00:14<00:00,  2.13s/it]\n",
      "Training (4178 / 18000 Steps) (loss=0.60150): 100%|██████████| 7/7 [00:15<00:00,  2.19s/it]\n",
      "Training (4185 / 18000 Steps) (loss=0.33976): 100%|██████████| 7/7 [00:14<00:00,  2.11s/it]\n",
      "Training (4192 / 18000 Steps) (loss=0.31581): 100%|██████████| 7/7 [00:15<00:00,  2.26s/it]\n",
      "Training (4199 / 18000 Steps) (loss=0.54778): 100%|██████████| 7/7 [00:15<00:00,  2.27s/it]\n",
      "Training (X / X Steps) (loss=X.X):   0%|          | 0/7 [00:02<?, ?it/s]\n"
     ]
    },
    {
     "ename": "KeyboardInterrupt",
     "evalue": "",
     "output_type": "error",
     "traceback": [
      "\u001b[0;31m---------------------------------------------------------------------------\u001b[0m",
      "\u001b[0;31mKeyboardInterrupt\u001b[0m                         Traceback (most recent call last)",
      "Cell \u001b[0;32mIn[14], line 109\u001b[0m\n\u001b[1;32m    107\u001b[0m metric_values_lymph \u001b[38;5;241m=\u001b[39m []\n\u001b[1;32m    108\u001b[0m \u001b[38;5;28;01mwhile\u001b[39;00m global_step \u001b[38;5;241m<\u001b[39m max_iterations:\n\u001b[0;32m--> 109\u001b[0m     global_step, dice_val_best, global_step_best \u001b[38;5;241m=\u001b[39m \u001b[43mtrain\u001b[49m\u001b[43m(\u001b[49m\n\u001b[1;32m    110\u001b[0m \u001b[43m        \u001b[49m\u001b[43mglobal_step\u001b[49m\u001b[43m,\u001b[49m\u001b[43m \u001b[49m\u001b[43mtrain_loader\u001b[49m\u001b[43m,\u001b[49m\u001b[43m \u001b[49m\u001b[43mdice_val_best\u001b[49m\u001b[43m,\u001b[49m\u001b[43m \u001b[49m\u001b[43mglobal_step_best\u001b[49m\n\u001b[1;32m    111\u001b[0m \u001b[43m    \u001b[49m\u001b[43m)\u001b[49m\n\u001b[1;32m    112\u001b[0m     \u001b[38;5;66;03m# wandb.log({'learning_rate': optimizer.param_groups[0]['lr']})\u001b[39;00m\n\u001b[1;32m    113\u001b[0m     \u001b[38;5;66;03m# wandb.log({'Best Dice': dice_val_best})\u001b[39;00m\n\u001b[1;32m    114\u001b[0m     epoch \u001b[38;5;241m+\u001b[39m\u001b[38;5;241m=\u001b[39m \u001b[38;5;241m1\u001b[39m \n",
      "Cell \u001b[0;32mIn[14], line 40\u001b[0m, in \u001b[0;36mtrain\u001b[0;34m(global_step, train_loader, dice_val_best, global_step_best)\u001b[0m\n\u001b[1;32m     35\u001b[0m step \u001b[38;5;241m=\u001b[39m \u001b[38;5;241m0\u001b[39m\n\u001b[1;32m     36\u001b[0m epoch_iterator \u001b[38;5;241m=\u001b[39m tqdm(\n\u001b[1;32m     37\u001b[0m     train_loader, desc\u001b[38;5;241m=\u001b[39m\u001b[38;5;124m\"\u001b[39m\u001b[38;5;124mTraining (X / X Steps) (loss=X.X)\u001b[39m\u001b[38;5;124m\"\u001b[39m, dynamic_ncols\u001b[38;5;241m=\u001b[39m\u001b[38;5;28;01mTrue\u001b[39;00m\n\u001b[1;32m     38\u001b[0m )\n\u001b[0;32m---> 40\u001b[0m \u001b[38;5;28;01mfor\u001b[39;00m step, batch \u001b[38;5;129;01min\u001b[39;00m \u001b[38;5;28menumerate\u001b[39m(epoch_iterator):\n\u001b[1;32m     41\u001b[0m     step \u001b[38;5;241m+\u001b[39m\u001b[38;5;241m=\u001b[39m \u001b[38;5;241m1\u001b[39m\n\u001b[1;32m     42\u001b[0m     x, y \u001b[38;5;241m=\u001b[39m (batch[\u001b[38;5;124m\"\u001b[39m\u001b[38;5;124mctpt\u001b[39m\u001b[38;5;124m\"\u001b[39m]\u001b[38;5;241m.\u001b[39mcuda(), batch[\u001b[38;5;124m\"\u001b[39m\u001b[38;5;124mseg\u001b[39m\u001b[38;5;124m\"\u001b[39m]\u001b[38;5;241m.\u001b[39mcuda())\n",
      "File \u001b[0;32m~/miniconda3/envs/clam/lib/python3.8/site-packages/tqdm/std.py:1182\u001b[0m, in \u001b[0;36mtqdm.__iter__\u001b[0;34m(self)\u001b[0m\n\u001b[1;32m   1179\u001b[0m time \u001b[38;5;241m=\u001b[39m \u001b[38;5;28mself\u001b[39m\u001b[38;5;241m.\u001b[39m_time\n\u001b[1;32m   1181\u001b[0m \u001b[38;5;28;01mtry\u001b[39;00m:\n\u001b[0;32m-> 1182\u001b[0m     \u001b[38;5;28;01mfor\u001b[39;00m obj \u001b[38;5;129;01min\u001b[39;00m iterable:\n\u001b[1;32m   1183\u001b[0m         \u001b[38;5;28;01myield\u001b[39;00m obj\n\u001b[1;32m   1184\u001b[0m         \u001b[38;5;66;03m# Update and possibly print the progressbar.\u001b[39;00m\n\u001b[1;32m   1185\u001b[0m         \u001b[38;5;66;03m# Note: does not call self.update(1) for speed optimisation.\u001b[39;00m\n",
      "File \u001b[0;32m~/miniconda3/envs/clam/lib/python3.8/site-packages/torch/utils/data/dataloader.py:630\u001b[0m, in \u001b[0;36m_BaseDataLoaderIter.__next__\u001b[0;34m(self)\u001b[0m\n\u001b[1;32m    627\u001b[0m \u001b[38;5;28;01mif\u001b[39;00m \u001b[38;5;28mself\u001b[39m\u001b[38;5;241m.\u001b[39m_sampler_iter \u001b[38;5;129;01mis\u001b[39;00m \u001b[38;5;28;01mNone\u001b[39;00m:\n\u001b[1;32m    628\u001b[0m     \u001b[38;5;66;03m# TODO(https://github.com/pytorch/pytorch/issues/76750)\u001b[39;00m\n\u001b[1;32m    629\u001b[0m     \u001b[38;5;28mself\u001b[39m\u001b[38;5;241m.\u001b[39m_reset()  \u001b[38;5;66;03m# type: ignore[call-arg]\u001b[39;00m\n\u001b[0;32m--> 630\u001b[0m data \u001b[38;5;241m=\u001b[39m \u001b[38;5;28;43mself\u001b[39;49m\u001b[38;5;241;43m.\u001b[39;49m\u001b[43m_next_data\u001b[49m\u001b[43m(\u001b[49m\u001b[43m)\u001b[49m\n\u001b[1;32m    631\u001b[0m \u001b[38;5;28mself\u001b[39m\u001b[38;5;241m.\u001b[39m_num_yielded \u001b[38;5;241m+\u001b[39m\u001b[38;5;241m=\u001b[39m \u001b[38;5;241m1\u001b[39m\n\u001b[1;32m    632\u001b[0m \u001b[38;5;28;01mif\u001b[39;00m \u001b[38;5;28mself\u001b[39m\u001b[38;5;241m.\u001b[39m_dataset_kind \u001b[38;5;241m==\u001b[39m _DatasetKind\u001b[38;5;241m.\u001b[39mIterable \u001b[38;5;129;01mand\u001b[39;00m \\\n\u001b[1;32m    633\u001b[0m         \u001b[38;5;28mself\u001b[39m\u001b[38;5;241m.\u001b[39m_IterableDataset_len_called \u001b[38;5;129;01mis\u001b[39;00m \u001b[38;5;129;01mnot\u001b[39;00m \u001b[38;5;28;01mNone\u001b[39;00m \u001b[38;5;129;01mand\u001b[39;00m \\\n\u001b[1;32m    634\u001b[0m         \u001b[38;5;28mself\u001b[39m\u001b[38;5;241m.\u001b[39m_num_yielded \u001b[38;5;241m>\u001b[39m \u001b[38;5;28mself\u001b[39m\u001b[38;5;241m.\u001b[39m_IterableDataset_len_called:\n",
      "File \u001b[0;32m~/miniconda3/envs/clam/lib/python3.8/site-packages/torch/utils/data/dataloader.py:1328\u001b[0m, in \u001b[0;36m_MultiProcessingDataLoaderIter._next_data\u001b[0;34m(self)\u001b[0m\n\u001b[1;32m   1325\u001b[0m     \u001b[38;5;28;01mreturn\u001b[39;00m \u001b[38;5;28mself\u001b[39m\u001b[38;5;241m.\u001b[39m_process_data(data)\n\u001b[1;32m   1327\u001b[0m \u001b[38;5;28;01massert\u001b[39;00m \u001b[38;5;129;01mnot\u001b[39;00m \u001b[38;5;28mself\u001b[39m\u001b[38;5;241m.\u001b[39m_shutdown \u001b[38;5;129;01mand\u001b[39;00m \u001b[38;5;28mself\u001b[39m\u001b[38;5;241m.\u001b[39m_tasks_outstanding \u001b[38;5;241m>\u001b[39m \u001b[38;5;241m0\u001b[39m\n\u001b[0;32m-> 1328\u001b[0m idx, data \u001b[38;5;241m=\u001b[39m \u001b[38;5;28;43mself\u001b[39;49m\u001b[38;5;241;43m.\u001b[39;49m\u001b[43m_get_data\u001b[49m\u001b[43m(\u001b[49m\u001b[43m)\u001b[49m\n\u001b[1;32m   1329\u001b[0m \u001b[38;5;28mself\u001b[39m\u001b[38;5;241m.\u001b[39m_tasks_outstanding \u001b[38;5;241m-\u001b[39m\u001b[38;5;241m=\u001b[39m \u001b[38;5;241m1\u001b[39m\n\u001b[1;32m   1330\u001b[0m \u001b[38;5;28;01mif\u001b[39;00m \u001b[38;5;28mself\u001b[39m\u001b[38;5;241m.\u001b[39m_dataset_kind \u001b[38;5;241m==\u001b[39m _DatasetKind\u001b[38;5;241m.\u001b[39mIterable:\n\u001b[1;32m   1331\u001b[0m     \u001b[38;5;66;03m# Check for _IterableDatasetStopIteration\u001b[39;00m\n",
      "File \u001b[0;32m~/miniconda3/envs/clam/lib/python3.8/site-packages/torch/utils/data/dataloader.py:1284\u001b[0m, in \u001b[0;36m_MultiProcessingDataLoaderIter._get_data\u001b[0;34m(self)\u001b[0m\n\u001b[1;32m   1282\u001b[0m \u001b[38;5;28;01melif\u001b[39;00m \u001b[38;5;28mself\u001b[39m\u001b[38;5;241m.\u001b[39m_pin_memory:\n\u001b[1;32m   1283\u001b[0m     \u001b[38;5;28;01mwhile\u001b[39;00m \u001b[38;5;28mself\u001b[39m\u001b[38;5;241m.\u001b[39m_pin_memory_thread\u001b[38;5;241m.\u001b[39mis_alive():\n\u001b[0;32m-> 1284\u001b[0m         success, data \u001b[38;5;241m=\u001b[39m \u001b[38;5;28;43mself\u001b[39;49m\u001b[38;5;241;43m.\u001b[39;49m\u001b[43m_try_get_data\u001b[49m\u001b[43m(\u001b[49m\u001b[43m)\u001b[49m\n\u001b[1;32m   1285\u001b[0m         \u001b[38;5;28;01mif\u001b[39;00m success:\n\u001b[1;32m   1286\u001b[0m             \u001b[38;5;28;01mreturn\u001b[39;00m data\n",
      "File \u001b[0;32m~/miniconda3/envs/clam/lib/python3.8/site-packages/torch/utils/data/dataloader.py:1132\u001b[0m, in \u001b[0;36m_MultiProcessingDataLoaderIter._try_get_data\u001b[0;34m(self, timeout)\u001b[0m\n\u001b[1;32m   1119\u001b[0m \u001b[38;5;28;01mdef\u001b[39;00m \u001b[38;5;21m_try_get_data\u001b[39m(\u001b[38;5;28mself\u001b[39m, timeout\u001b[38;5;241m=\u001b[39m_utils\u001b[38;5;241m.\u001b[39mMP_STATUS_CHECK_INTERVAL):\n\u001b[1;32m   1120\u001b[0m     \u001b[38;5;66;03m# Tries to fetch data from `self._data_queue` once for a given timeout.\u001b[39;00m\n\u001b[1;32m   1121\u001b[0m     \u001b[38;5;66;03m# This can also be used as inner loop of fetching without timeout, with\u001b[39;00m\n\u001b[0;32m   (...)\u001b[0m\n\u001b[1;32m   1129\u001b[0m     \u001b[38;5;66;03m# Returns a 2-tuple:\u001b[39;00m\n\u001b[1;32m   1130\u001b[0m     \u001b[38;5;66;03m#   (bool: whether successfully get data, any: data if successful else None)\u001b[39;00m\n\u001b[1;32m   1131\u001b[0m     \u001b[38;5;28;01mtry\u001b[39;00m:\n\u001b[0;32m-> 1132\u001b[0m         data \u001b[38;5;241m=\u001b[39m \u001b[38;5;28;43mself\u001b[39;49m\u001b[38;5;241;43m.\u001b[39;49m\u001b[43m_data_queue\u001b[49m\u001b[38;5;241;43m.\u001b[39;49m\u001b[43mget\u001b[49m\u001b[43m(\u001b[49m\u001b[43mtimeout\u001b[49m\u001b[38;5;241;43m=\u001b[39;49m\u001b[43mtimeout\u001b[49m\u001b[43m)\u001b[49m\n\u001b[1;32m   1133\u001b[0m         \u001b[38;5;28;01mreturn\u001b[39;00m (\u001b[38;5;28;01mTrue\u001b[39;00m, data)\n\u001b[1;32m   1134\u001b[0m     \u001b[38;5;28;01mexcept\u001b[39;00m \u001b[38;5;167;01mException\u001b[39;00m \u001b[38;5;28;01mas\u001b[39;00m e:\n\u001b[1;32m   1135\u001b[0m         \u001b[38;5;66;03m# At timeout and error, we manually check whether any worker has\u001b[39;00m\n\u001b[1;32m   1136\u001b[0m         \u001b[38;5;66;03m# failed. Note that this is the only mechanism for Windows to detect\u001b[39;00m\n\u001b[1;32m   1137\u001b[0m         \u001b[38;5;66;03m# worker failures.\u001b[39;00m\n",
      "File \u001b[0;32m~/miniconda3/envs/clam/lib/python3.8/queue.py:179\u001b[0m, in \u001b[0;36mQueue.get\u001b[0;34m(self, block, timeout)\u001b[0m\n\u001b[1;32m    177\u001b[0m         \u001b[38;5;28;01mif\u001b[39;00m remaining \u001b[38;5;241m<\u001b[39m\u001b[38;5;241m=\u001b[39m \u001b[38;5;241m0.0\u001b[39m:\n\u001b[1;32m    178\u001b[0m             \u001b[38;5;28;01mraise\u001b[39;00m Empty\n\u001b[0;32m--> 179\u001b[0m         \u001b[38;5;28;43mself\u001b[39;49m\u001b[38;5;241;43m.\u001b[39;49m\u001b[43mnot_empty\u001b[49m\u001b[38;5;241;43m.\u001b[39;49m\u001b[43mwait\u001b[49m\u001b[43m(\u001b[49m\u001b[43mremaining\u001b[49m\u001b[43m)\u001b[49m\n\u001b[1;32m    180\u001b[0m item \u001b[38;5;241m=\u001b[39m \u001b[38;5;28mself\u001b[39m\u001b[38;5;241m.\u001b[39m_get()\n\u001b[1;32m    181\u001b[0m \u001b[38;5;28mself\u001b[39m\u001b[38;5;241m.\u001b[39mnot_full\u001b[38;5;241m.\u001b[39mnotify()\n",
      "File \u001b[0;32m~/miniconda3/envs/clam/lib/python3.8/threading.py:306\u001b[0m, in \u001b[0;36mCondition.wait\u001b[0;34m(self, timeout)\u001b[0m\n\u001b[1;32m    304\u001b[0m \u001b[38;5;28;01melse\u001b[39;00m:\n\u001b[1;32m    305\u001b[0m     \u001b[38;5;28;01mif\u001b[39;00m timeout \u001b[38;5;241m>\u001b[39m \u001b[38;5;241m0\u001b[39m:\n\u001b[0;32m--> 306\u001b[0m         gotit \u001b[38;5;241m=\u001b[39m \u001b[43mwaiter\u001b[49m\u001b[38;5;241;43m.\u001b[39;49m\u001b[43macquire\u001b[49m\u001b[43m(\u001b[49m\u001b[38;5;28;43;01mTrue\u001b[39;49;00m\u001b[43m,\u001b[49m\u001b[43m \u001b[49m\u001b[43mtimeout\u001b[49m\u001b[43m)\u001b[49m\n\u001b[1;32m    307\u001b[0m     \u001b[38;5;28;01melse\u001b[39;00m:\n\u001b[1;32m    308\u001b[0m         gotit \u001b[38;5;241m=\u001b[39m waiter\u001b[38;5;241m.\u001b[39macquire(\u001b[38;5;28;01mFalse\u001b[39;00m)\n",
      "\u001b[0;31mKeyboardInterrupt\u001b[0m: "
     ]
    }
   ],
   "source": [
    "model_dir = '/home/nada.saadi/CTPET/hecktor2022_cropped/b_7th_ctptct_onCTPT'\n",
    "def validation(epoch_iterator_val):\n",
    "        model.eval()\n",
    "        with torch.no_grad():\n",
    "            for step, batch in enumerate(epoch_iterator_val):\n",
    "                val_inputs, val_labels = (batch[\"ctpt\"].cuda(), batch[\"seg\"].cuda())\n",
    "                val_outputs = sliding_window_inference(val_inputs, (96, 96, 96), 4, model)\n",
    "                val_labels_list = decollate_batch(val_labels)\n",
    "                val_labels_convert = [\n",
    "                    post_label(val_label_tensor) for val_label_tensor in val_labels_list\n",
    "                ]\n",
    "                val_outputs_list = decollate_batch(val_outputs)\n",
    "                val_output_convert = [\n",
    "                    post_pred(val_pred_tensor) for val_pred_tensor in val_outputs_list\n",
    "                ]\n",
    "                dice_metric(y_pred=val_output_convert, y=val_labels_convert)\n",
    "                dice_metric_batch(y_pred=val_output_convert, y=val_labels_convert)\n",
    "                epoch_iterator_val.set_description(\n",
    "                    \"Validate (%d / %d Steps)\" % (global_step, 10.0)\n",
    "                )\n",
    "            mean_dice_val = dice_metric.aggregate().item()\n",
    "            metric_batch_val = dice_metric_batch.aggregate()\n",
    "\n",
    "            metric_tumor = metric_batch_val[0].item()\n",
    "            metric_lymph = metric_batch_val[1].item()\n",
    "\n",
    "            dice_metric.reset()\n",
    "            dice_metric_batch.reset()\n",
    "        return mean_dice_val, metric_tumor, metric_lymph\n",
    "\n",
    "\n",
    "def train(global_step, train_loader, dice_val_best, global_step_best):\n",
    "        model.train()\n",
    "        epoch_loss = 0\n",
    "        step = 0\n",
    "        epoch_iterator = tqdm(\n",
    "            train_loader, desc=\"Training (X / X Steps) (loss=X.X)\", dynamic_ncols=True\n",
    "        )\n",
    "        \n",
    "        for step, batch in enumerate(epoch_iterator):\n",
    "            step += 1\n",
    "            x, y = (batch[\"ctpt\"].cuda(), batch[\"seg\"].cuda())\n",
    "            logit_map = model(x, mode='ct')\n",
    "            \n",
    "            loss = loss_function(logit_map, y)\n",
    "            loss.backward()\n",
    "            epoch_loss += loss.item()\n",
    "            optimizer.step()\n",
    "            optimizer.zero_grad()\n",
    "            epoch_iterator.set_description(\n",
    "                \"Training (%d / %d Steps) (loss=%2.5f)\"\n",
    "                % (global_step, max_iterations, loss)\n",
    "            )\n",
    "            \n",
    "            if (\n",
    "                global_step % eval_num == 0 and global_step != 0\n",
    "            ) or global_step == max_iterations:\n",
    "                epoch_iterator_val = tqdm(\n",
    "                    val_loader, desc=\"Validate (X / X Steps) (dice=X.X)\", dynamic_ncols=True\n",
    "                )\n",
    "                dice_val, metric_tumor, metric_lymph = validation(epoch_iterator_val)\n",
    "                epoch_loss /= step\n",
    "                epoch_loss_values.append(epoch_loss)\n",
    "                metric_values.append(dice_val)\n",
    "                metric_values_tumor.append(metric_tumor)\n",
    "                metric_values_lymph.append(metric_lymph)\n",
    "                if dice_val > dice_val_best:\n",
    "                    dice_val_best = dice_val\n",
    "                    global_step_best = global_step\n",
    "                    torch.save(\n",
    "                        model.state_dict(), os.path.join(model_dir, \"b_ctptct_onCTPT_ourapproach.pth\")\n",
    "                    )\n",
    "                    print(\n",
    "                        \"Model Was Saved ! Current Best Avg. Dice: {} Current Avg. Dice: {} Current Avg. tumor Dice: {} Current Avg. lymph Dice: {}\".format(\n",
    "                            dice_val_best, dice_val, metric_tumor, metric_lymph\n",
    "                        )\n",
    "                    )\n",
    "                else:\n",
    "                    print(\n",
    "                        \"Model Was Not Saved ! Current Best Avg. Dice: {} Current Avg. Dice: {} Current Avg. tumor Dice: {} Current Avg. lymph Dice: {}\".format(\n",
    "                            dice_val_best, dice_val,  metric_tumor, metric_lymph\n",
    "                        )\n",
    "                    )\n",
    "            global_step += 1\n",
    "        return global_step, dice_val_best, global_step_best\n",
    "\n",
    "       \n",
    "\n",
    "max_iterations = 18000\n",
    "eval_num = 100\n",
    "\n",
    "post_label = AsDiscrete(to_onehot=3)\n",
    "post_pred = AsDiscrete(argmax=True, to_onehot=3)\n",
    "\n",
    "dice_metric = DiceMetric(include_background=False, reduction=\"mean\", get_not_nans=False)\n",
    "dice_metric_batch = DiceMetric(include_background=False, reduction=\"mean_batch\")\n",
    "\n",
    "epoch = 0\n",
    "max_num_epochs = 530\n",
    "\n",
    "global_step = 0\n",
    "dice_val_best = 0.0\n",
    "global_step_best = 0\n",
    "epoch_loss_values = []\n",
    "metric_values = [] \n",
    "metric_values_tumor = []\n",
    "metric_values_lymph = []\n",
    "while global_step < max_iterations:\n",
    "    global_step, dice_val_best, global_step_best = train(\n",
    "        global_step, train_loader, dice_val_best, global_step_best\n",
    "    )\n",
    "    # wandb.log({'learning_rate': optimizer.param_groups[0]['lr']})\n",
    "    # wandb.log({'Best Dice': dice_val_best})\n",
    "    epoch += 1 \n",
    "    #optimizer.param_groups[0]['lr'] = poly_lr(epoch, max_num_epochs, 0.005676 , 0.9)\n",
    "# model.load_state_dict(torch.load(os.path.join(model_dir, \"best_metric_luck_UNETr_prompt.pth\")))"
   ]
  }
 ],
 "metadata": {
  "kernelspec": {
   "display_name": "clam",
   "language": "python",
   "name": "python3"
  },
  "language_info": {
   "codemirror_mode": {
    "name": "ipython",
    "version": 3
   },
   "file_extension": ".py",
   "mimetype": "text/x-python",
   "name": "python",
   "nbconvert_exporter": "python",
   "pygments_lexer": "ipython3",
   "version": "3.8.0"
  }
 },
 "nbformat": 4,
 "nbformat_minor": 2
}
