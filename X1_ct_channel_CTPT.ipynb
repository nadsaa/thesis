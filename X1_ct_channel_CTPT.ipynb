{
 "cells": [
  {
   "cell_type": "code",
   "execution_count": 11,
   "metadata": {},
   "outputs": [
    {
     "name": "stdout",
     "output_type": "stream",
     "text": [
      "1\n"
     ]
    }
   ],
   "source": [
    "import torch\n",
    "import torch.nn as nn\n",
    "from torch.utils.data import DataLoader\n",
    "\n",
    "from collections.abc import Sequence\n",
    "\n",
    "from unetr import CustomedUNETR\n",
    "\n",
    "import json\n",
    "from tqdm.autonotebook import tqdm\n",
    "import os\n",
    "os.environ[\"CUDA_DEVICE_ORDER\"] = \"PCI_BUS_ID\"\n",
    "os.environ[\"CUDA_VISIBLE_DEVICES\"] = \"2\" \n",
    "\n",
    "print(torch.cuda.device_count())\n",
    "torch.backends.cudnn.benchmark = True\n",
    "device = torch.device(\"cuda\" if torch.cuda.is_available() else \"cpu\")"
   ]
  },
  {
   "cell_type": "code",
   "execution_count": 12,
   "metadata": {},
   "outputs": [],
   "source": [
    "from monai.transforms import EnsureTyped\n",
    "from monai.transforms import Compose, LoadImaged, ScaleIntensityRanged, ConcatItemsd\n",
    "from monai.metrics import DiceMetric\n",
    "from monai.losses import DiceCELoss, DiceFocalLoss, FocalLoss\n",
    "from monai.inferers import sliding_window_inference\n",
    "from monai.data import (\n",
    "    Dataset,\n",
    "    DataLoader,\n",
    "    CacheDataset,\n",
    "    load_decathlon_datalist,\n",
    "    decollate_batch,\n",
    ")\n",
    "from monai.transforms import (\n",
    "    AsDiscrete,\n",
    "    Compose,\n",
    "    CropForegroundd,\n",
    "    LoadImaged,\n",
    "    Orientationd,\n",
    "    RandFlipd,\n",
    "    RandCropByPosNegLabeld,\n",
    "    RandShiftIntensityd,\n",
    "    ScaleIntensityRanged,\n",
    "    Spacingd,\n",
    "    RandRotate90d,\n",
    "    MapTransform,\n",
    "    ScaleIntensityd,\n",
    "    #AddChanneld,\n",
    "    SpatialPadd,\n",
    "    CenterSpatialCropd,\n",
    "    EnsureChannelFirstd,\n",
    "    ConcatItemsd,\n",
    "    AdjustContrastd, \n",
    "    Rand3DElasticd,\n",
    "    HistogramNormalized,\n",
    "    NormalizeIntensityd,\n",
    "    Invertd,\n",
    "    SaveImage,\n",
    "\n",
    ")\n",
    "import monai\n",
    "from monai.config import print_config\n",
    "from monai.metrics import DiceMetric\n",
    "from monai.networks.nets import SwinUNETR, UNETR, SegResNet\n",
    "from monai.data import (\n",
    "    DataLoader,\n",
    "     CacheDataset,\n",
    "    load_decathlon_datalist,\n",
    "    decollate_batch,\n",
    ")\n",
    "from monai import data\n",
    "\n",
    "\n",
    "from monai.utils import first, set_determinism\n",
    "from sklearn.model_selection import train_test_split\n",
    "import json\n",
    "\n"
   ]
  },
  {
   "cell_type": "code",
   "execution_count": 13,
   "metadata": {},
   "outputs": [],
   "source": [
    "data_dir = '/home/nada.saadi/MIS-FM/hecktor2022_cropped'\n",
    "json_dir = \"/home/nada.saadi/CTPET/hecktor2022_cropped/HGJ_ctpt_train_new.json\""
   ]
  },
  {
   "cell_type": "code",
   "execution_count": 14,
   "metadata": {},
   "outputs": [],
   "source": [
    "def datafold_read(datalist, basedir, fold=0, key=\"training\"):\n",
    "    with open(datalist) as f:\n",
    "        json_data = json.load(f)\n",
    "\n",
    "    json_data = json_data[key]\n",
    "\n",
    "    for d in json_data:\n",
    "        for k in d:\n",
    "            if isinstance(d[k], list):\n",
    "                d[k] = [os.path.join(basedir, iv) for iv in d[k]]\n",
    "            elif isinstance(d[k], str):\n",
    "                d[k] = os.path.join(basedir, d[k]) if len(d[k]) > 0 else d[k]\n",
    "\n",
    "    tr = []\n",
    "    val = []\n",
    "    for d in json_data:\n",
    "        if \"fold\" in d and d[\"fold\"] == fold:\n",
    "            val.append(d)\n",
    "        else:\n",
    "            tr.append(d)\n",
    "\n",
    "    return tr, val"
   ]
  },
  {
   "cell_type": "code",
   "execution_count": 15,
   "metadata": {},
   "outputs": [
    {
     "data": {
      "text/plain": [
       "(39, 15)"
      ]
     },
     "execution_count": 15,
     "metadata": {},
     "output_type": "execute_result"
    }
   ],
   "source": [
    "train_files, validation_files = datafold_read(datalist=json_dir, basedir=data_dir, fold=0)\n",
    "len(train_files), len(validation_files)"
   ]
  },
  {
   "cell_type": "code",
   "execution_count": 16,
   "metadata": {},
   "outputs": [],
   "source": [
    "class ClipCT(MapTransform):\n",
    "    \"\"\"\n",
    "    Convert labels to multi channels based on hecktor classes:\n",
    "    label 1 is the tumor\n",
    "    label 2 is the lymph node\n",
    "\n",
    "    \"\"\"\n",
    "\n",
    "    def __call__(self, data):\n",
    "        d = dict(data)\n",
    "        for key in self.keys:\n",
    "            if key == \"ct\":\n",
    "                d[key] = torch.clip(d[key], min=-200, max=200)\n",
    "            # elif key == \"pt\":\n",
    "            #     d[key] = torch.clip(d[key], d[key].min(), 5)\n",
    "        return d\n",
    "class MulPTFM(MapTransform):\n",
    "    \"\"\"\n",
    "    Mult PT and FM \n",
    "\n",
    "    \"\"\"\n",
    "\n",
    "    def __call__(self, data):\n",
    "        d = dict(data)\n",
    "\n",
    "        fm = d[\"ct\"] > 0\n",
    "        d[\"pt\"] = d[\"pt\"] * fm\n",
    "        return d\n",
    "\n",
    "class SelectClass(MapTransform):\n",
    "    \"\"\"\n",
    "    Select the class for which you want to fine tune the model \n",
    "     \"\"\"\n",
    "    # def __init__(self, keys, cls=1):\n",
    "    #     super(self).__init__(keys)\n",
    "    #     self.cls = cls\n",
    "\n",
    "    def __call__(self, data):\n",
    "        d = dict(data)\n",
    "        d[\"seg\"][d[\"seg\"] == 1] = 0\n",
    "        # d[\"seg\"][d[\"seg\"] == 2] = 1\n",
    "        \n",
    "        return d\n"
   ]
  },
  {
   "cell_type": "code",
   "execution_count": 17,
   "metadata": {},
   "outputs": [],
   "source": [
    "num_samples = 4\n",
    "\n",
    "train_transforms = Compose(\n",
    "    [\n",
    "        LoadImaged(keys=[\"ct\", \"pt\", \"seg\"], ensure_channel_first = True),\n",
    "        SpatialPadd(keys=[\"ct\", \"pt\", \"seg\"], spatial_size=(200, 200, 310), method='end'),\n",
    "        Orientationd(keys=[\"ct\", \"pt\", \"seg\"], axcodes=\"PLS\"),\n",
    "        NormalizeIntensityd(keys=[\"pt\"]),\n",
    "        ClipCT(keys=[\"ct\"]),\n",
    "        ScaleIntensityd(keys=[\"ct\"], minv=0, maxv=1),\n",
    "        #MulPTFM(keys=[\"ct\",\"pt\"]),\n",
    "        ConcatItemsd(keys=[\"pt\", \"ct\"], name=\"ctpt\"),\n",
    "        #NormalizeIntensityd(keys=[\"ctpt\"], channel_wise=True),\n",
    "        RandCropByPosNegLabeld(\n",
    "            keys=[\"ctpt\", \"seg\"],\n",
    "            label_key=\"seg\",\n",
    "            spatial_size=(96, 96, 96),\n",
    "            pos=1,\n",
    "            neg=1,\n",
    "            num_samples=num_samples,\n",
    "            image_key=\"ctpt\",\n",
    "            image_threshold=0,\n",
    "        ),\n",
    "        RandFlipd(\n",
    "            keys=[\"ctpt\", \"seg\"],\n",
    "            spatial_axis=[0],\n",
    "            prob=0.20,\n",
    "        ),\n",
    "        RandFlipd(\n",
    "            keys=[\"ctpt\", \"seg\"],\n",
    "            spatial_axis=[1],\n",
    "            prob=0.20,\n",
    "        ),\n",
    "        RandFlipd(\n",
    "            keys=[\"ctpt\", \"seg\"],\n",
    "             spatial_axis=[2],\n",
    "            prob=0.20,\n",
    "        ),\n",
    "        RandRotate90d(\n",
    "            keys=[\"ctpt\", \"seg\"],\n",
    "            prob=0.20,\n",
    "            max_k=3,\n",
    "        ),\n",
    "    ]\n",
    ")\n",
    "val_transforms = Compose(\n",
    "    [\n",
    "        LoadImaged(keys=[\"ct\", \"pt\", \"seg\"], ensure_channel_first = True),\n",
    "        SpatialPadd(keys=[\"ct\", \"pt\", \"seg\"], spatial_size=(200, 200, 310), method='end'),\n",
    "        Orientationd(keys=[\"ct\", \"pt\", \"seg\"], axcodes=\"PLS\"),\n",
    "        NormalizeIntensityd(keys=[\"pt\"]),\n",
    "        ClipCT(keys=[\"ct\"]),\n",
    "         ScaleIntensityd(keys=[\"ct\"], minv=0, maxv=1),\n",
    "        #MulPTFM(keys=[\"ct\",\"pt\"]),\n",
    "        ConcatItemsd(keys=[\"pt\", \"ct\"], name=\"ctpt\"),\n",
    "    ]\n",
    ")"
   ]
  },
  {
   "cell_type": "code",
   "execution_count": 18,
   "metadata": {},
   "outputs": [],
   "source": [
    "train_ds = monai.data.Dataset(data=train_files, transform=train_transforms)\n",
    "\n",
    "train_loader = DataLoader(\n",
    "    train_ds,\n",
    "    batch_size=2,\n",
    "    shuffle=True,\n",
    "    num_workers=8,\n",
    "    pin_memory=torch.cuda.is_available(),\n",
    "    )\n",
    "\n",
    "val_ds = monai.data.Dataset(data=validation_files, transform=val_transforms)\n",
    "\n",
    "val_loader = DataLoader(\n",
    "    val_ds, \n",
    "    batch_size=2, \n",
    "    num_workers=8, \n",
    "    shuffle= False)"
   ]
  },
  {
   "cell_type": "code",
   "execution_count": 19,
   "metadata": {},
   "outputs": [],
   "source": [
    "os.environ[\"CUDA_DEVICE_ORDER\"] = \"PCI_BUS_ID\"\n",
    "device = torch.device(\"cuda\" if torch.cuda.is_available() else \"cpu\")\n",
    "model = UNETR(\n",
    "    in_channels=2,\n",
    "    out_channels=3,\n",
    "    img_size=(96, 96, 96),\n",
    "    feature_size=16, #16\n",
    "    hidden_size= 768, #768,\n",
    "    mlp_dim=3072, #3072,\n",
    "    num_heads=12,\n",
    "    pos_embed=\"perceptron\",\n",
    "    norm_name=\"instance\",\n",
    "    res_block=True,\n",
    "    dropout_rate=0.0,\n",
    ").to(device)\n",
    "pt_ct_weights_ct_6th_channel = '/home/nada.saadi/CTPET/hecktor2022_cropped/6thCTonly_channel/6thCTonly_channel.pth'\n",
    "torch.save(model.state_dict(), pt_ct_weights_ct_6th_channel)\n",
    "\n",
    "for name, param in model.named_parameters():\n",
    "    if \"decoder5\" in name or \"decoder4\" in name or \"decoder3\" in name or \"decoder2\" in name:\n",
    "        param.requires_grad = False\n"
   ]
  },
  {
   "cell_type": "code",
   "execution_count": 20,
   "metadata": {},
   "outputs": [],
   "source": [
    "torch.backends.cudnn.benchmark = True\n",
    "def poly_lr(epoch, max_epochs, initial_lr, exponent=0.9):\n",
    "    return initial_lr * (1 - epoch / max_epochs)**exponent\n",
    "\n",
    "loss_function = DiceCELoss(to_onehot_y=True, softmax=True)\n",
    "optimizer = torch.optim.AdamW(model.parameters(), lr=1e-4, weight_decay=1e-5)"
   ]
  },
  {
   "cell_type": "code",
   "execution_count": 21,
   "metadata": {},
   "outputs": [
    {
     "name": "stderr",
     "output_type": "stream",
     "text": [
      "Training (19 / 18000 Steps) (loss=2.50954): 100%|██████████| 20/20 [00:32<00:00,  1.63s/it]\n",
      "Training (39 / 18000 Steps) (loss=2.39697): 100%|██████████| 20/20 [00:15<00:00,  1.28it/s]\n",
      "Training (59 / 18000 Steps) (loss=2.22421): 100%|██████████| 20/20 [00:15<00:00,  1.27it/s]\n",
      "Training (79 / 18000 Steps) (loss=2.23975): 100%|██████████| 20/20 [00:15<00:00,  1.30it/s]\n",
      "Training (99 / 18000 Steps) (loss=2.12441): 100%|██████████| 20/20 [00:14<00:00,  1.36it/s]\n",
      "Validate (100 / 10 Steps): 100%|██████████| 8/8 [00:13<00:00,  1.70s/it]7<?, ?it/s]\n",
      "Training (100 / 18000 Steps) (loss=2.17701):   5%|▌         | 1/20 [00:21<06:53, 21.75s/it]"
     ]
    },
    {
     "name": "stdout",
     "output_type": "stream",
     "text": [
      "Model Was Saved ! Current Best Avg. Dice: 0.004992382135242224 Current Avg. Dice: 0.004992382135242224 Current Avg. tumor Dice: 0.0018721555825322866 Current Avg. lymph Dice: 0.00919046625494957\n"
     ]
    },
    {
     "name": "stderr",
     "output_type": "stream",
     "text": [
      "Training (119 / 18000 Steps) (loss=2.12781): 100%|██████████| 20/20 [00:28<00:00,  1.44s/it]\n",
      "Training (139 / 18000 Steps) (loss=2.12936): 100%|██████████| 20/20 [00:14<00:00,  1.40it/s]\n",
      "Training (159 / 18000 Steps) (loss=2.04549): 100%|██████████| 20/20 [00:14<00:00,  1.36it/s]\n",
      "Training (179 / 18000 Steps) (loss=2.03880): 100%|██████████| 20/20 [00:15<00:00,  1.28it/s]\n",
      "Training (199 / 18000 Steps) (loss=2.08737): 100%|██████████| 20/20 [00:14<00:00,  1.38it/s]\n",
      "Validate (200 / 10 Steps): 100%|██████████| 8/8 [00:12<00:00,  1.60s/it]6<?, ?it/s]\n",
      "Training (200 / 18000 Steps) (loss=2.02910):   5%|▌         | 1/20 [00:19<06:17, 19.85s/it]"
     ]
    },
    {
     "name": "stdout",
     "output_type": "stream",
     "text": [
      "Model Was Not Saved ! Current Best Avg. Dice: 0.004992382135242224 Current Avg. Dice: 0.0030047220643609762 Current Avg. tumor Dice: 0.0021828387398272753 Current Avg. lymph Dice: 0.00421252753585577\n"
     ]
    },
    {
     "name": "stderr",
     "output_type": "stream",
     "text": [
      "Training (219 / 18000 Steps) (loss=2.04972): 100%|██████████| 20/20 [00:26<00:00,  1.34s/it]\n",
      "Training (239 / 18000 Steps) (loss=2.00004): 100%|██████████| 20/20 [00:14<00:00,  1.36it/s]\n",
      "Training (259 / 18000 Steps) (loss=1.91643): 100%|██████████| 20/20 [00:14<00:00,  1.36it/s]\n",
      "Training (279 / 18000 Steps) (loss=1.92305): 100%|██████████| 20/20 [00:15<00:00,  1.26it/s]\n",
      "Training (299 / 18000 Steps) (loss=1.84613): 100%|██████████| 20/20 [00:15<00:00,  1.29it/s]\n",
      "Validate (300 / 10 Steps): 100%|██████████| 8/8 [00:12<00:00,  1.61s/it]7<?, ?it/s]\n",
      "Training (300 / 18000 Steps) (loss=1.90714):   5%|▌         | 1/20 [00:20<06:33, 20.69s/it]"
     ]
    },
    {
     "name": "stdout",
     "output_type": "stream",
     "text": [
      "Model Was Not Saved ! Current Best Avg. Dice: 0.004992382135242224 Current Avg. Dice: 0.0037363911978900433 Current Avg. tumor Dice: 0.0038743363693356514 Current Avg. lymph Dice: 0.0038012275472283363\n"
     ]
    },
    {
     "name": "stderr",
     "output_type": "stream",
     "text": [
      "Training (319 / 18000 Steps) (loss=1.88536): 100%|██████████| 20/20 [00:27<00:00,  1.39s/it]\n",
      "Training (339 / 18000 Steps) (loss=1.89037): 100%|██████████| 20/20 [00:14<00:00,  1.36it/s]\n",
      "Training (359 / 18000 Steps) (loss=1.82761): 100%|██████████| 20/20 [00:15<00:00,  1.33it/s]\n",
      "Training (379 / 18000 Steps) (loss=1.79503): 100%|██████████| 20/20 [00:14<00:00,  1.36it/s]\n",
      "Training (399 / 18000 Steps) (loss=1.80084): 100%|██████████| 20/20 [00:13<00:00,  1.44it/s]\n",
      "Validate (400 / 10 Steps): 100%|██████████| 8/8 [00:13<00:00,  1.63s/it]5<?, ?it/s]\n",
      "Training (400 / 18000 Steps) (loss=1.78043):   5%|▌         | 1/20 [00:18<05:58, 18.85s/it]"
     ]
    },
    {
     "name": "stdout",
     "output_type": "stream",
     "text": [
      "Model Was Not Saved ! Current Best Avg. Dice: 0.004992382135242224 Current Avg. Dice: 0.004876730963587761 Current Avg. tumor Dice: 0.004879795480519533 Current Avg. lymph Dice: 0.005188543815165758\n"
     ]
    },
    {
     "name": "stderr",
     "output_type": "stream",
     "text": [
      "Training (419 / 18000 Steps) (loss=1.78924): 100%|██████████| 20/20 [00:25<00:00,  1.29s/it]\n",
      "Training (439 / 18000 Steps) (loss=1.77100): 100%|██████████| 20/20 [00:15<00:00,  1.33it/s]\n",
      "Training (459 / 18000 Steps) (loss=1.65638): 100%|██████████| 20/20 [00:14<00:00,  1.39it/s]\n",
      "Training (479 / 18000 Steps) (loss=1.73172): 100%|██████████| 20/20 [00:14<00:00,  1.34it/s]\n",
      "Training (499 / 18000 Steps) (loss=1.66416): 100%|██████████| 20/20 [00:15<00:00,  1.30it/s]\n",
      "Validate (500 / 10 Steps): 100%|██████████| 8/8 [00:12<00:00,  1.61s/it]5<?, ?it/s]\n",
      "Training (500 / 18000 Steps) (loss=1.67733):   5%|▌         | 1/20 [00:19<06:08, 19.38s/it]"
     ]
    },
    {
     "name": "stdout",
     "output_type": "stream",
     "text": [
      "Model Was Saved ! Current Best Avg. Dice: 0.0126152029260993 Current Avg. Dice: 0.0126152029260993 Current Avg. tumor Dice: 0.006222548894584179 Current Avg. lymph Dice: 0.021381912752985954\n"
     ]
    },
    {
     "name": "stderr",
     "output_type": "stream",
     "text": [
      "Training (519 / 18000 Steps) (loss=1.69339): 100%|██████████| 20/20 [00:26<00:00,  1.32s/it]\n",
      "Training (539 / 18000 Steps) (loss=1.69145): 100%|██████████| 20/20 [00:14<00:00,  1.38it/s]\n",
      "Training (559 / 18000 Steps) (loss=1.60947): 100%|██████████| 20/20 [00:15<00:00,  1.31it/s]\n",
      "Training (579 / 18000 Steps) (loss=1.59762): 100%|██████████| 20/20 [00:14<00:00,  1.35it/s]\n",
      "Training (599 / 18000 Steps) (loss=1.53559): 100%|██████████| 20/20 [00:14<00:00,  1.37it/s]\n",
      "Validate (600 / 10 Steps): 100%|██████████| 8/8 [00:13<00:00,  1.65s/it]5<?, ?it/s]\n",
      "Training (600 / 18000 Steps) (loss=1.59213):   5%|▌         | 1/20 [00:19<06:04, 19.20s/it]"
     ]
    },
    {
     "name": "stdout",
     "output_type": "stream",
     "text": [
      "Model Was Saved ! Current Best Avg. Dice: 0.015387658961117268 Current Avg. Dice: 0.015387658961117268 Current Avg. tumor Dice: 0.00979684293270111 Current Avg. lymph Dice: 0.023336153477430344\n"
     ]
    },
    {
     "name": "stderr",
     "output_type": "stream",
     "text": [
      "Training (619 / 18000 Steps) (loss=1.62251): 100%|██████████| 20/20 [00:26<00:00,  1.31s/it]\n",
      "Training (639 / 18000 Steps) (loss=1.58085): 100%|██████████| 20/20 [00:14<00:00,  1.35it/s]\n",
      "Training (659 / 18000 Steps) (loss=1.57491): 100%|██████████| 20/20 [00:14<00:00,  1.37it/s]\n",
      "Training (679 / 18000 Steps) (loss=1.50404): 100%|██████████| 20/20 [00:15<00:00,  1.27it/s]\n",
      "Training (699 / 18000 Steps) (loss=1.51352): 100%|██████████| 20/20 [00:15<00:00,  1.31it/s]\n",
      "Validate (700 / 10 Steps): 100%|██████████| 8/8 [00:13<00:00,  1.63s/it]5<?, ?it/s]\n",
      "Training (700 / 18000 Steps) (loss=1.48882):   5%|▌         | 1/20 [00:19<06:16, 19.84s/it]"
     ]
    },
    {
     "name": "stdout",
     "output_type": "stream",
     "text": [
      "Model Was Saved ! Current Best Avg. Dice: 0.02434665337204933 Current Avg. Dice: 0.02434665337204933 Current Avg. tumor Dice: 0.016315221786499023 Current Avg. lymph Dice: 0.035843316465616226\n"
     ]
    },
    {
     "name": "stderr",
     "output_type": "stream",
     "text": [
      "Training (719 / 18000 Steps) (loss=1.48146): 100%|██████████| 20/20 [00:26<00:00,  1.34s/it]\n",
      "Training (739 / 18000 Steps) (loss=1.47702): 100%|██████████| 20/20 [00:15<00:00,  1.29it/s]\n",
      "Training (759 / 18000 Steps) (loss=1.46015): 100%|██████████| 20/20 [00:14<00:00,  1.42it/s]\n",
      "Training (779 / 18000 Steps) (loss=1.41758): 100%|██████████| 20/20 [00:14<00:00,  1.40it/s]\n",
      "Training (799 / 18000 Steps) (loss=1.39322): 100%|██████████| 20/20 [00:15<00:00,  1.30it/s]\n",
      "Validate (800 / 10 Steps): 100%|██████████| 8/8 [00:12<00:00,  1.61s/it]5<?, ?it/s]\n",
      "Training (800 / 18000 Steps) (loss=1.40046):   5%|▌         | 1/20 [00:19<06:04, 19.18s/it]"
     ]
    },
    {
     "name": "stdout",
     "output_type": "stream",
     "text": [
      "Model Was Saved ! Current Best Avg. Dice: 0.03431229293346405 Current Avg. Dice: 0.03431229293346405 Current Avg. tumor Dice: 0.02410174533724785 Current Avg. lymph Dice: 0.04900992661714554\n"
     ]
    },
    {
     "name": "stderr",
     "output_type": "stream",
     "text": [
      "Training (819 / 18000 Steps) (loss=1.36234): 100%|██████████| 20/20 [00:26<00:00,  1.31s/it]\n",
      "Training (839 / 18000 Steps) (loss=1.38502): 100%|██████████| 20/20 [00:14<00:00,  1.41it/s]\n",
      "Training (859 / 18000 Steps) (loss=1.36403): 100%|██████████| 20/20 [00:14<00:00,  1.41it/s]\n",
      "Training (879 / 18000 Steps) (loss=1.34507): 100%|██████████| 20/20 [00:15<00:00,  1.28it/s]\n",
      "Training (899 / 18000 Steps) (loss=1.32740): 100%|██████████| 20/20 [00:15<00:00,  1.31it/s]\n",
      "Validate (900 / 10 Steps): 100%|██████████| 8/8 [00:13<00:00,  1.64s/it]5<?, ?it/s]\n",
      "Training (900 / 18000 Steps) (loss=1.32916):   5%|▌         | 1/20 [00:19<06:02, 19.07s/it]"
     ]
    },
    {
     "name": "stdout",
     "output_type": "stream",
     "text": [
      "Model Was Saved ! Current Best Avg. Dice: 0.04596903175115585 Current Avg. Dice: 0.04596903175115585 Current Avg. tumor Dice: 0.041946303099393845 Current Avg. lymph Dice: 0.05338229611515999\n"
     ]
    },
    {
     "name": "stderr",
     "output_type": "stream",
     "text": [
      "Training (919 / 18000 Steps) (loss=1.32252): 100%|██████████| 20/20 [00:26<00:00,  1.31s/it]\n",
      "Training (939 / 18000 Steps) (loss=1.29536): 100%|██████████| 20/20 [00:14<00:00,  1.41it/s]\n",
      "Training (959 / 18000 Steps) (loss=1.26948): 100%|██████████| 20/20 [00:14<00:00,  1.37it/s]\n",
      "Training (979 / 18000 Steps) (loss=1.25716): 100%|██████████| 20/20 [00:14<00:00,  1.34it/s]\n",
      "Training (999 / 18000 Steps) (loss=1.23566): 100%|██████████| 20/20 [00:15<00:00,  1.33it/s]\n",
      "Validate (1000 / 10 Steps): 100%|██████████| 8/8 [00:13<00:00,  1.63s/it]6<?, ?it/s]\n",
      "Training (1000 / 18000 Steps) (loss=1.25119):   5%|▌         | 1/20 [00:20<06:23, 20.19s/it]"
     ]
    },
    {
     "name": "stdout",
     "output_type": "stream",
     "text": [
      "Model Was Saved ! Current Best Avg. Dice: 0.08560352772474289 Current Avg. Dice: 0.08560352772474289 Current Avg. tumor Dice: 0.08571996539831161 Current Avg. lymph Dice: 0.08866240084171295\n"
     ]
    },
    {
     "name": "stderr",
     "output_type": "stream",
     "text": [
      "Training (1019 / 18000 Steps) (loss=1.19757): 100%|██████████| 20/20 [00:27<00:00,  1.36s/it]\n",
      "Training (1039 / 18000 Steps) (loss=1.21134): 100%|██████████| 20/20 [00:15<00:00,  1.25it/s]\n",
      "Training (1059 / 18000 Steps) (loss=1.17427): 100%|██████████| 20/20 [00:14<00:00,  1.37it/s]\n",
      "Training (1079 / 18000 Steps) (loss=1.18725): 100%|██████████| 20/20 [00:15<00:00,  1.32it/s]\n",
      "Training (1099 / 18000 Steps) (loss=1.17719): 100%|██████████| 20/20 [00:14<00:00,  1.34it/s]\n",
      "Validate (1100 / 10 Steps): 100%|██████████| 8/8 [00:12<00:00,  1.60s/it]5<?, ?it/s]\n",
      "Training (1100 / 18000 Steps) (loss=1.16583):   5%|▌         | 1/20 [00:18<05:47, 18.28s/it]"
     ]
    },
    {
     "name": "stdout",
     "output_type": "stream",
     "text": [
      "Model Was Not Saved ! Current Best Avg. Dice: 0.08560352772474289 Current Avg. Dice: 0.08404114842414856 Current Avg. tumor Dice: 0.1027466207742691 Current Avg. lymph Dice: 0.06358405947685242\n"
     ]
    },
    {
     "name": "stderr",
     "output_type": "stream",
     "text": [
      "Training (1119 / 18000 Steps) (loss=1.15376): 100%|██████████| 20/20 [00:25<00:00,  1.27s/it]\n",
      "Training (1139 / 18000 Steps) (loss=1.16003): 100%|██████████| 20/20 [00:14<00:00,  1.34it/s]\n",
      "Training (1159 / 18000 Steps) (loss=1.12762): 100%|██████████| 20/20 [00:15<00:00,  1.31it/s]\n",
      "Training (1179 / 18000 Steps) (loss=1.11634): 100%|██████████| 20/20 [00:14<00:00,  1.39it/s]\n",
      "Training (1199 / 18000 Steps) (loss=1.10119): 100%|██████████| 20/20 [00:15<00:00,  1.31it/s]\n",
      "Validate (1200 / 10 Steps): 100%|██████████| 8/8 [00:13<00:00,  1.64s/it]6<?, ?it/s]\n",
      "Training (1200 / 18000 Steps) (loss=1.09842):   5%|▌         | 1/20 [00:20<06:29, 20.49s/it]"
     ]
    },
    {
     "name": "stdout",
     "output_type": "stream",
     "text": [
      "Model Was Saved ! Current Best Avg. Dice: 0.10082988440990448 Current Avg. Dice: 0.10082988440990448 Current Avg. tumor Dice: 0.12394591420888901 Current Avg. lymph Dice: 0.07612670212984085\n"
     ]
    },
    {
     "name": "stderr",
     "output_type": "stream",
     "text": [
      "Training (1219 / 18000 Steps) (loss=1.06118): 100%|██████████| 20/20 [00:27<00:00,  1.38s/it]\n",
      "Training (1239 / 18000 Steps) (loss=1.05497): 100%|██████████| 20/20 [00:15<00:00,  1.28it/s]\n",
      "Training (1259 / 18000 Steps) (loss=1.08673): 100%|██████████| 20/20 [00:15<00:00,  1.30it/s]\n",
      "Training (1279 / 18000 Steps) (loss=1.10379): 100%|██████████| 20/20 [00:16<00:00,  1.25it/s]\n",
      "Training (1299 / 18000 Steps) (loss=1.03516): 100%|██████████| 20/20 [00:15<00:00,  1.29it/s]\n",
      "Validate (1300 / 10 Steps): 100%|██████████| 8/8 [00:12<00:00,  1.59s/it]6<?, ?it/s]\n",
      "Training (1300 / 18000 Steps) (loss=1.04837):   5%|▌         | 1/20 [00:20<06:27, 20.41s/it]"
     ]
    },
    {
     "name": "stdout",
     "output_type": "stream",
     "text": [
      "Model Was Saved ! Current Best Avg. Dice: 0.11408447474241257 Current Avg. Dice: 0.11408447474241257 Current Avg. tumor Dice: 0.12886981666088104 Current Avg. lymph Dice: 0.10024641454219818\n"
     ]
    },
    {
     "name": "stderr",
     "output_type": "stream",
     "text": [
      "Training (1319 / 18000 Steps) (loss=1.06044): 100%|██████████| 20/20 [00:27<00:00,  1.37s/it]\n",
      "Training (1339 / 18000 Steps) (loss=1.05936): 100%|██████████| 20/20 [00:15<00:00,  1.30it/s]\n",
      "Training (1359 / 18000 Steps) (loss=1.02350): 100%|██████████| 20/20 [00:15<00:00,  1.29it/s]\n",
      "Training (1379 / 18000 Steps) (loss=1.03412): 100%|██████████| 20/20 [00:15<00:00,  1.25it/s]\n",
      "Training (1399 / 18000 Steps) (loss=1.00600): 100%|██████████| 20/20 [00:14<00:00,  1.37it/s]\n",
      "Validate (1400 / 10 Steps): 100%|██████████| 8/8 [00:13<00:00,  1.64s/it]5<?, ?it/s]\n",
      "Training (1400 / 18000 Steps) (loss=1.02290):   5%|▌         | 1/20 [00:19<06:08, 19.39s/it]"
     ]
    },
    {
     "name": "stdout",
     "output_type": "stream",
     "text": [
      "Model Was Saved ! Current Best Avg. Dice: 0.15581326186656952 Current Avg. Dice: 0.15581326186656952 Current Avg. tumor Dice: 0.19415445625782013 Current Avg. lymph Dice: 0.10919933766126633\n"
     ]
    },
    {
     "name": "stderr",
     "output_type": "stream",
     "text": [
      "Training (1419 / 18000 Steps) (loss=1.01750): 100%|██████████| 20/20 [00:26<00:00,  1.32s/it]\n",
      "Training (1439 / 18000 Steps) (loss=1.02620): 100%|██████████| 20/20 [00:15<00:00,  1.27it/s]\n",
      "Training (1459 / 18000 Steps) (loss=0.98428): 100%|██████████| 20/20 [00:15<00:00,  1.26it/s]\n",
      "Training (1479 / 18000 Steps) (loss=0.97684): 100%|██████████| 20/20 [00:14<00:00,  1.39it/s]\n",
      "Training (1499 / 18000 Steps) (loss=0.94358): 100%|██████████| 20/20 [00:15<00:00,  1.28it/s]\n",
      "Validate (1500 / 10 Steps): 100%|██████████| 8/8 [00:12<00:00,  1.62s/it]5<?, ?it/s]\n",
      "Training (1500 / 18000 Steps) (loss=0.97033):   5%|▌         | 1/20 [00:19<06:04, 19.17s/it]"
     ]
    },
    {
     "name": "stdout",
     "output_type": "stream",
     "text": [
      "Model Was Saved ! Current Best Avg. Dice: 0.1930701583623886 Current Avg. Dice: 0.1930701583623886 Current Avg. tumor Dice: 0.2653488516807556 Current Avg. lymph Dice: 0.10073067247867584\n"
     ]
    },
    {
     "name": "stderr",
     "output_type": "stream",
     "text": [
      "Training (1519 / 18000 Steps) (loss=0.97168): 100%|██████████| 20/20 [00:26<00:00,  1.31s/it]\n",
      "Training (1539 / 18000 Steps) (loss=0.97011): 100%|██████████| 20/20 [00:14<00:00,  1.37it/s]\n",
      "Training (1559 / 18000 Steps) (loss=0.95464): 100%|██████████| 20/20 [00:14<00:00,  1.40it/s]\n",
      "Training (1579 / 18000 Steps) (loss=0.96768): 100%|██████████| 20/20 [00:14<00:00,  1.40it/s]\n",
      "Training (1599 / 18000 Steps) (loss=0.94453): 100%|██████████| 20/20 [00:14<00:00,  1.34it/s]\n",
      "Validate (1600 / 10 Steps): 100%|██████████| 8/8 [00:12<00:00,  1.62s/it]6<?, ?it/s]\n",
      "Training (1600 / 18000 Steps) (loss=0.93992):   5%|▌         | 1/20 [00:20<06:20, 20.02s/it]"
     ]
    },
    {
     "name": "stdout",
     "output_type": "stream",
     "text": [
      "Model Was Saved ! Current Best Avg. Dice: 0.24120977520942688 Current Avg. Dice: 0.24120977520942688 Current Avg. tumor Dice: 0.37263837456703186 Current Avg. lymph Dice: 0.061839792877435684\n"
     ]
    },
    {
     "name": "stderr",
     "output_type": "stream",
     "text": [
      "Training (1619 / 18000 Steps) (loss=0.92213): 100%|██████████| 20/20 [00:27<00:00,  1.35s/it]\n",
      "Training (1639 / 18000 Steps) (loss=0.92949): 100%|██████████| 20/20 [00:15<00:00,  1.28it/s]\n",
      "Training (1659 / 18000 Steps) (loss=0.93306): 100%|██████████| 20/20 [00:14<00:00,  1.36it/s]\n",
      "Training (1679 / 18000 Steps) (loss=0.93371): 100%|██████████| 20/20 [00:15<00:00,  1.28it/s]\n",
      "Training (1699 / 18000 Steps) (loss=0.92027): 100%|██████████| 20/20 [00:14<00:00,  1.35it/s]\n",
      "Validate (1700 / 10 Steps): 100%|██████████| 8/8 [00:12<00:00,  1.61s/it]7<?, ?it/s]\n",
      "Training (1700 / 18000 Steps) (loss=0.89968):   5%|▌         | 1/20 [00:21<06:41, 21.11s/it]"
     ]
    },
    {
     "name": "stdout",
     "output_type": "stream",
     "text": [
      "Model Was Saved ! Current Best Avg. Dice: 0.24303533136844635 Current Avg. Dice: 0.24303533136844635 Current Avg. tumor Dice: 0.3428482711315155 Current Avg. lymph Dice: 0.10034064203500748\n"
     ]
    },
    {
     "name": "stderr",
     "output_type": "stream",
     "text": [
      "Training (1719 / 18000 Steps) (loss=0.92695): 100%|██████████| 20/20 [00:28<00:00,  1.41s/it]\n",
      "Training (1739 / 18000 Steps) (loss=0.89579): 100%|██████████| 20/20 [00:15<00:00,  1.26it/s]\n",
      "Training (1759 / 18000 Steps) (loss=0.88528): 100%|██████████| 20/20 [00:15<00:00,  1.30it/s]\n",
      "Training (1779 / 18000 Steps) (loss=0.90882): 100%|██████████| 20/20 [00:15<00:00,  1.28it/s]\n",
      "Training (1799 / 18000 Steps) (loss=0.90165): 100%|██████████| 20/20 [00:15<00:00,  1.29it/s]\n",
      "Validate (1800 / 10 Steps): 100%|██████████| 8/8 [00:13<00:00,  1.64s/it]6<?, ?it/s]\n",
      "Training (1800 / 18000 Steps) (loss=0.89061):   5%|▌         | 1/20 [00:20<06:20, 20.00s/it]"
     ]
    },
    {
     "name": "stdout",
     "output_type": "stream",
     "text": [
      "Model Was Saved ! Current Best Avg. Dice: 0.28836920857429504 Current Avg. Dice: 0.28836920857429504 Current Avg. tumor Dice: 0.46081364154815674 Current Avg. lymph Dice: 0.05347499996423721\n"
     ]
    },
    {
     "name": "stderr",
     "output_type": "stream",
     "text": [
      "Training (1819 / 18000 Steps) (loss=0.87798): 100%|██████████| 20/20 [00:27<00:00,  1.35s/it]\n",
      "Training (1839 / 18000 Steps) (loss=0.86298): 100%|██████████| 20/20 [00:15<00:00,  1.27it/s]\n",
      "Training (1859 / 18000 Steps) (loss=0.86177): 100%|██████████| 20/20 [00:14<00:00,  1.35it/s]\n",
      "Training (1879 / 18000 Steps) (loss=0.89119): 100%|██████████| 20/20 [00:15<00:00,  1.27it/s]\n",
      "Training (1899 / 18000 Steps) (loss=0.85754): 100%|██████████| 20/20 [00:15<00:00,  1.26it/s]\n",
      "Validate (1900 / 10 Steps): 100%|██████████| 8/8 [00:12<00:00,  1.62s/it]5<?, ?it/s]\n",
      "Training (1900 / 18000 Steps) (loss=0.87492):   5%|▌         | 1/20 [00:19<06:12, 19.63s/it]"
     ]
    },
    {
     "name": "stdout",
     "output_type": "stream",
     "text": [
      "Model Was Saved ! Current Best Avg. Dice: 0.3109305799007416 Current Avg. Dice: 0.3109305799007416 Current Avg. tumor Dice: 0.48845693469047546 Current Avg. lymph Dice: 0.062332913279533386\n"
     ]
    },
    {
     "name": "stderr",
     "output_type": "stream",
     "text": [
      "Training (1919 / 18000 Steps) (loss=0.84627): 100%|██████████| 20/20 [00:26<00:00,  1.33s/it]\n",
      "Training (1939 / 18000 Steps) (loss=0.85185): 100%|██████████| 20/20 [00:15<00:00,  1.30it/s]\n",
      "Training (1959 / 18000 Steps) (loss=0.85762): 100%|██████████| 20/20 [00:14<00:00,  1.37it/s]\n",
      "Training (1979 / 18000 Steps) (loss=0.85772): 100%|██████████| 20/20 [00:15<00:00,  1.29it/s]\n",
      "Training (1999 / 18000 Steps) (loss=0.80636): 100%|██████████| 20/20 [00:15<00:00,  1.26it/s]\n",
      "Validate (2000 / 10 Steps): 100%|██████████| 8/8 [00:13<00:00,  1.66s/it]7<?, ?it/s]\n",
      "Training (2000 / 18000 Steps) (loss=0.83544):   5%|▌         | 1/20 [00:21<06:42, 21.19s/it]"
     ]
    },
    {
     "name": "stdout",
     "output_type": "stream",
     "text": [
      "Model Was Not Saved ! Current Best Avg. Dice: 0.3109305799007416 Current Avg. Dice: 0.2999952435493469 Current Avg. tumor Dice: 0.4500187933444977 Current Avg. lymph Dice: 0.08162441849708557\n"
     ]
    },
    {
     "name": "stderr",
     "output_type": "stream",
     "text": [
      "Training (2019 / 18000 Steps) (loss=0.82439): 100%|██████████| 20/20 [00:28<00:00,  1.41s/it]\n",
      "Training (2039 / 18000 Steps) (loss=0.85769): 100%|██████████| 20/20 [00:15<00:00,  1.31it/s]\n",
      "Training (2059 / 18000 Steps) (loss=0.80264): 100%|██████████| 20/20 [00:15<00:00,  1.32it/s]\n",
      "Training (2079 / 18000 Steps) (loss=0.83680): 100%|██████████| 20/20 [00:16<00:00,  1.24it/s]\n",
      "Training (2099 / 18000 Steps) (loss=0.83690): 100%|██████████| 20/20 [00:15<00:00,  1.29it/s]\n",
      "Validate (2100 / 10 Steps): 100%|██████████| 8/8 [00:12<00:00,  1.62s/it]5<?, ?it/s]\n",
      "Training (2100 / 18000 Steps) (loss=0.84379):   5%|▌         | 1/20 [00:18<05:50, 18.46s/it]"
     ]
    },
    {
     "name": "stdout",
     "output_type": "stream",
     "text": [
      "Model Was Not Saved ! Current Best Avg. Dice: 0.3109305799007416 Current Avg. Dice: 0.29319459199905396 Current Avg. tumor Dice: 0.432327538728714 Current Avg. lymph Dice: 0.09420929849147797\n"
     ]
    },
    {
     "name": "stderr",
     "output_type": "stream",
     "text": [
      "Training (2119 / 18000 Steps) (loss=0.82409): 100%|██████████| 20/20 [00:25<00:00,  1.27s/it]\n",
      "Training (2139 / 18000 Steps) (loss=0.78052): 100%|██████████| 20/20 [00:15<00:00,  1.29it/s]\n",
      "Training (2159 / 18000 Steps) (loss=0.83484): 100%|██████████| 20/20 [00:16<00:00,  1.22it/s]\n",
      "Training (2179 / 18000 Steps) (loss=0.82073): 100%|██████████| 20/20 [00:14<00:00,  1.35it/s]\n",
      "Training (2199 / 18000 Steps) (loss=0.82497): 100%|██████████| 20/20 [00:14<00:00,  1.36it/s]\n",
      "Validate (2200 / 10 Steps): 100%|██████████| 8/8 [00:13<00:00,  1.63s/it]6<?, ?it/s]\n",
      "Training (2200 / 18000 Steps) (loss=0.80261):   5%|▌         | 1/20 [00:19<06:04, 19.21s/it]"
     ]
    },
    {
     "name": "stdout",
     "output_type": "stream",
     "text": [
      "Model Was Not Saved ! Current Best Avg. Dice: 0.3109305799007416 Current Avg. Dice: 0.268037348985672 Current Avg. tumor Dice: 0.3553495407104492 Current Avg. lymph Dice: 0.1357572227716446\n"
     ]
    },
    {
     "name": "stderr",
     "output_type": "stream",
     "text": [
      "Training (2219 / 18000 Steps) (loss=0.80904): 100%|██████████| 20/20 [00:26<00:00,  1.32s/it]\n",
      "Training (2239 / 18000 Steps) (loss=0.80646): 100%|██████████| 20/20 [00:15<00:00,  1.29it/s]\n",
      "Training (2259 / 18000 Steps) (loss=0.79468): 100%|██████████| 20/20 [00:15<00:00,  1.26it/s]\n",
      "Training (2279 / 18000 Steps) (loss=0.79060): 100%|██████████| 20/20 [00:15<00:00,  1.29it/s]\n",
      "Training (2299 / 18000 Steps) (loss=0.81873): 100%|██████████| 20/20 [00:15<00:00,  1.29it/s]\n",
      "Validate (2300 / 10 Steps): 100%|██████████| 8/8 [00:12<00:00,  1.62s/it]7<?, ?it/s]\n",
      "Training (2300 / 18000 Steps) (loss=0.77098):   5%|▌         | 1/20 [00:21<06:39, 21.01s/it]"
     ]
    },
    {
     "name": "stdout",
     "output_type": "stream",
     "text": [
      "Model Was Saved ! Current Best Avg. Dice: 0.32499536871910095 Current Avg. Dice: 0.32499536871910095 Current Avg. tumor Dice: 0.5245578289031982 Current Avg. lymph Dice: 0.045595213770866394\n"
     ]
    },
    {
     "name": "stderr",
     "output_type": "stream",
     "text": [
      "Training (2319 / 18000 Steps) (loss=0.81394): 100%|██████████| 20/20 [00:28<00:00,  1.42s/it]\n",
      "Training (2339 / 18000 Steps) (loss=0.81175): 100%|██████████| 20/20 [00:15<00:00,  1.30it/s]\n",
      "Training (2359 / 18000 Steps) (loss=0.71325): 100%|██████████| 20/20 [00:15<00:00,  1.29it/s]\n",
      "Training (2379 / 18000 Steps) (loss=0.79221): 100%|██████████| 20/20 [00:15<00:00,  1.32it/s]\n",
      "Training (2399 / 18000 Steps) (loss=0.79347): 100%|██████████| 20/20 [00:16<00:00,  1.25it/s]\n",
      "Validate (2400 / 10 Steps): 100%|██████████| 8/8 [00:13<00:00,  1.68s/it]5<?, ?it/s]\n",
      "Training (2400 / 18000 Steps) (loss=0.78984):   5%|▌         | 1/20 [00:19<06:04, 19.18s/it]"
     ]
    },
    {
     "name": "stdout",
     "output_type": "stream",
     "text": [
      "Model Was Not Saved ! Current Best Avg. Dice: 0.32499536871910095 Current Avg. Dice: 0.2744320034980774 Current Avg. tumor Dice: 0.42356744408607483 Current Avg. lymph Dice: 0.05630950629711151\n"
     ]
    },
    {
     "name": "stderr",
     "output_type": "stream",
     "text": [
      "Training (2419 / 18000 Steps) (loss=0.76526): 100%|██████████| 20/20 [00:26<00:00,  1.31s/it]\n",
      "Training (2439 / 18000 Steps) (loss=0.80246): 100%|██████████| 20/20 [00:15<00:00,  1.26it/s]\n",
      "Training (2459 / 18000 Steps) (loss=0.76818): 100%|██████████| 20/20 [00:15<00:00,  1.32it/s]\n",
      "Training (2479 / 18000 Steps) (loss=0.78667): 100%|██████████| 20/20 [00:14<00:00,  1.37it/s]\n",
      "Training (2499 / 18000 Steps) (loss=0.75298): 100%|██████████| 20/20 [00:15<00:00,  1.33it/s]\n",
      "Validate (2500 / 10 Steps): 100%|██████████| 8/8 [00:12<00:00,  1.62s/it]7<?, ?it/s]\n",
      "Training (2500 / 18000 Steps) (loss=0.77078):   5%|▌         | 1/20 [00:20<06:38, 20.95s/it]"
     ]
    },
    {
     "name": "stdout",
     "output_type": "stream",
     "text": [
      "Model Was Not Saved ! Current Best Avg. Dice: 0.32499536871910095 Current Avg. Dice: 0.31026172637939453 Current Avg. tumor Dice: 0.4793643653392792 Current Avg. lymph Dice: 0.06797158718109131\n"
     ]
    },
    {
     "name": "stderr",
     "output_type": "stream",
     "text": [
      "Training (2519 / 18000 Steps) (loss=0.77548): 100%|██████████| 20/20 [00:27<00:00,  1.40s/it]\n",
      "Training (2539 / 18000 Steps) (loss=0.77506): 100%|██████████| 20/20 [00:15<00:00,  1.31it/s]\n",
      "Training (2559 / 18000 Steps) (loss=0.74200): 100%|██████████| 20/20 [00:15<00:00,  1.33it/s]\n",
      "Training (2579 / 18000 Steps) (loss=0.72763): 100%|██████████| 20/20 [00:14<00:00,  1.35it/s]\n",
      "Training (2599 / 18000 Steps) (loss=0.67573): 100%|██████████| 20/20 [00:15<00:00,  1.31it/s]\n",
      "Validate (2600 / 10 Steps): 100%|██████████| 8/8 [00:13<00:00,  1.68s/it]5<?, ?it/s]\n",
      "Training (2600 / 18000 Steps) (loss=0.75944):   5%|▌         | 1/20 [00:19<06:08, 19.41s/it]"
     ]
    },
    {
     "name": "stdout",
     "output_type": "stream",
     "text": [
      "Model Was Not Saved ! Current Best Avg. Dice: 0.32499536871910095 Current Avg. Dice: 0.2920190989971161 Current Avg. tumor Dice: 0.4693343937397003 Current Avg. lymph Dice: 0.038158103823661804\n"
     ]
    },
    {
     "name": "stderr",
     "output_type": "stream",
     "text": [
      "Training (2619 / 18000 Steps) (loss=0.71230): 100%|██████████| 20/20 [00:26<00:00,  1.32s/it]\n",
      "Training (2639 / 18000 Steps) (loss=0.73669): 100%|██████████| 20/20 [00:16<00:00,  1.24it/s]\n",
      "Training (2659 / 18000 Steps) (loss=0.74920): 100%|██████████| 20/20 [00:14<00:00,  1.38it/s]\n",
      "Training (2679 / 18000 Steps) (loss=0.76804): 100%|██████████| 20/20 [00:14<00:00,  1.35it/s]\n",
      "Training (2699 / 18000 Steps) (loss=0.75822): 100%|██████████| 20/20 [00:15<00:00,  1.31it/s]\n",
      "Validate (2700 / 10 Steps): 100%|██████████| 8/8 [00:13<00:00,  1.67s/it]5<?, ?it/s]\n",
      "Training (2700 / 18000 Steps) (loss=0.75264):   5%|▌         | 1/20 [00:18<05:49, 18.42s/it]"
     ]
    },
    {
     "name": "stdout",
     "output_type": "stream",
     "text": [
      "Model Was Not Saved ! Current Best Avg. Dice: 0.32499536871910095 Current Avg. Dice: 0.30697906017303467 Current Avg. tumor Dice: 0.5098133087158203 Current Avg. lymph Dice: 0.014470948837697506\n"
     ]
    },
    {
     "name": "stderr",
     "output_type": "stream",
     "text": [
      "Training (2719 / 18000 Steps) (loss=0.76695): 100%|██████████| 20/20 [00:25<00:00,  1.27s/it]\n",
      "Training (2739 / 18000 Steps) (loss=0.76346): 100%|██████████| 20/20 [00:15<00:00,  1.27it/s]\n",
      "Training (2759 / 18000 Steps) (loss=0.77503): 100%|██████████| 20/20 [00:15<00:00,  1.28it/s]\n",
      "Training (2779 / 18000 Steps) (loss=0.71341): 100%|██████████| 20/20 [00:15<00:00,  1.33it/s]\n",
      "Training (2799 / 18000 Steps) (loss=0.75998): 100%|██████████| 20/20 [00:15<00:00,  1.26it/s]\n",
      "Validate (2800 / 10 Steps): 100%|██████████| 8/8 [00:13<00:00,  1.65s/it]5<?, ?it/s]\n",
      "Training (2800 / 18000 Steps) (loss=0.72234):   5%|▌         | 1/20 [00:18<06:00, 18.97s/it]"
     ]
    },
    {
     "name": "stdout",
     "output_type": "stream",
     "text": [
      "Model Was Not Saved ! Current Best Avg. Dice: 0.32499536871910095 Current Avg. Dice: 0.32291367650032043 Current Avg. tumor Dice: 0.5292580723762512 Current Avg. lymph Dice: 0.02781265787780285\n"
     ]
    },
    {
     "name": "stderr",
     "output_type": "stream",
     "text": [
      "Training (2819 / 18000 Steps) (loss=0.75000): 100%|██████████| 20/20 [00:25<00:00,  1.30s/it]\n",
      "Training (2839 / 18000 Steps) (loss=0.76124): 100%|██████████| 20/20 [00:15<00:00,  1.29it/s]\n",
      "Training (2859 / 18000 Steps) (loss=0.77717): 100%|██████████| 20/20 [00:14<00:00,  1.35it/s]\n",
      "Training (2879 / 18000 Steps) (loss=0.71598): 100%|██████████| 20/20 [00:15<00:00,  1.26it/s]\n",
      "Training (2899 / 18000 Steps) (loss=0.76422): 100%|██████████| 20/20 [00:14<00:00,  1.33it/s]\n",
      "Validate (2900 / 10 Steps): 100%|██████████| 8/8 [00:13<00:00,  1.63s/it]7<?, ?it/s]\n",
      "Training (2900 / 18000 Steps) (loss=0.75733):   5%|▌         | 1/20 [00:20<06:25, 20.27s/it]"
     ]
    },
    {
     "name": "stdout",
     "output_type": "stream",
     "text": [
      "Model Was Not Saved ! Current Best Avg. Dice: 0.32499536871910095 Current Avg. Dice: 0.31291332840919495 Current Avg. tumor Dice: 0.5219007134437561 Current Avg. lymph Dice: 0.01499396376311779\n"
     ]
    },
    {
     "name": "stderr",
     "output_type": "stream",
     "text": [
      "Training (2919 / 18000 Steps) (loss=0.87959): 100%|██████████| 20/20 [00:27<00:00,  1.37s/it]\n",
      "Training (2939 / 18000 Steps) (loss=0.71329): 100%|██████████| 20/20 [00:16<00:00,  1.21it/s]\n",
      "Training (2959 / 18000 Steps) (loss=0.71682): 100%|██████████| 20/20 [00:15<00:00,  1.32it/s]\n",
      "Training (2979 / 18000 Steps) (loss=0.74186): 100%|██████████| 20/20 [00:15<00:00,  1.30it/s]\n",
      "Training (2999 / 18000 Steps) (loss=0.73701): 100%|██████████| 20/20 [00:15<00:00,  1.32it/s]\n",
      "Validate (3000 / 10 Steps): 100%|██████████| 8/8 [00:13<00:00,  1.69s/it]7<?, ?it/s]\n",
      "Training (3000 / 18000 Steps) (loss=0.72331):   5%|▌         | 1/20 [00:21<06:39, 21.00s/it]"
     ]
    },
    {
     "name": "stdout",
     "output_type": "stream",
     "text": [
      "Model Was Not Saved ! Current Best Avg. Dice: 0.32499536871910095 Current Avg. Dice: 0.32002919912338257 Current Avg. tumor Dice: 0.5392166376113892 Current Avg. lymph Dice: 0.00710044801235199\n"
     ]
    },
    {
     "name": "stderr",
     "output_type": "stream",
     "text": [
      "Training (3019 / 18000 Steps) (loss=0.74802): 100%|██████████| 20/20 [00:28<00:00,  1.40s/it]\n",
      "Training (3039 / 18000 Steps) (loss=0.69542): 100%|██████████| 20/20 [00:15<00:00,  1.33it/s]\n",
      "Training (3059 / 18000 Steps) (loss=0.72270): 100%|██████████| 20/20 [00:15<00:00,  1.26it/s]\n",
      "Training (3079 / 18000 Steps) (loss=0.75050): 100%|██████████| 20/20 [00:14<00:00,  1.38it/s]\n",
      "Training (3099 / 18000 Steps) (loss=0.64038): 100%|██████████| 20/20 [00:15<00:00,  1.31it/s]\n",
      "Validate (3100 / 10 Steps): 100%|██████████| 8/8 [00:12<00:00,  1.60s/it]8<?, ?it/s]\n",
      "Training (3100 / 18000 Steps) (loss=0.73470):   5%|▌         | 1/20 [00:21<06:55, 21.84s/it]"
     ]
    },
    {
     "name": "stdout",
     "output_type": "stream",
     "text": [
      "Model Was Saved ! Current Best Avg. Dice: 0.3297485411167145 Current Avg. Dice: 0.3297485411167145 Current Avg. tumor Dice: 0.5556156039237976 Current Avg. lymph Dice: 0.01363381091505289\n"
     ]
    },
    {
     "name": "stderr",
     "output_type": "stream",
     "text": [
      "Training (3119 / 18000 Steps) (loss=0.70174): 100%|██████████| 20/20 [00:28<00:00,  1.44s/it]\n",
      "Training (3139 / 18000 Steps) (loss=0.71637): 100%|██████████| 20/20 [00:15<00:00,  1.26it/s]\n",
      "Training (3159 / 18000 Steps) (loss=0.74403): 100%|██████████| 20/20 [00:14<00:00,  1.35it/s]\n",
      "Training (3179 / 18000 Steps) (loss=0.64994): 100%|██████████| 20/20 [00:15<00:00,  1.26it/s]\n",
      "Training (3199 / 18000 Steps) (loss=0.64882): 100%|██████████| 20/20 [00:15<00:00,  1.26it/s]\n",
      "Validate (3200 / 10 Steps): 100%|██████████| 8/8 [00:13<00:00,  1.66s/it]6<?, ?it/s]\n",
      "Training (3200 / 18000 Steps) (loss=0.64151):   5%|▌         | 1/20 [00:19<06:08, 19.39s/it]"
     ]
    },
    {
     "name": "stdout",
     "output_type": "stream",
     "text": [
      "Model Was Not Saved ! Current Best Avg. Dice: 0.3297485411167145 Current Avg. Dice: 0.3150262236595154 Current Avg. tumor Dice: 0.5200043320655823 Current Avg. lymph Dice: 0.0207525622099638\n"
     ]
    },
    {
     "name": "stderr",
     "output_type": "stream",
     "text": [
      "Training (3219 / 18000 Steps) (loss=0.94028): 100%|██████████| 20/20 [00:26<00:00,  1.32s/it]\n",
      "Training (3239 / 18000 Steps) (loss=0.67576): 100%|██████████| 20/20 [00:13<00:00,  1.43it/s]\n",
      "Training (3259 / 18000 Steps) (loss=0.67359): 100%|██████████| 20/20 [00:14<00:00,  1.36it/s]\n",
      "Training (3279 / 18000 Steps) (loss=0.70776): 100%|██████████| 20/20 [00:15<00:00,  1.26it/s]\n",
      "Training (3299 / 18000 Steps) (loss=0.72124): 100%|██████████| 20/20 [00:14<00:00,  1.37it/s]\n",
      "Validate (3300 / 10 Steps): 100%|██████████| 8/8 [00:13<00:00,  1.72s/it]5<?, ?it/s]\n",
      "Training (3300 / 18000 Steps) (loss=0.67567):   5%|▌         | 1/20 [00:20<06:21, 20.09s/it]"
     ]
    },
    {
     "name": "stdout",
     "output_type": "stream",
     "text": [
      "Model Was Saved ! Current Best Avg. Dice: 0.3360655605792999 Current Avg. Dice: 0.3360655605792999 Current Avg. tumor Dice: 0.5750830769538879 Current Avg. lymph Dice: 0.003804780077189207\n"
     ]
    },
    {
     "name": "stderr",
     "output_type": "stream",
     "text": [
      "Training (3319 / 18000 Steps) (loss=0.71778): 100%|██████████| 20/20 [00:27<00:00,  1.36s/it]\n",
      "Training (3339 / 18000 Steps) (loss=0.71752): 100%|██████████| 20/20 [00:14<00:00,  1.34it/s]\n",
      "Training (3359 / 18000 Steps) (loss=0.70084): 100%|██████████| 20/20 [00:14<00:00,  1.34it/s]\n",
      "Training (3379 / 18000 Steps) (loss=0.73995): 100%|██████████| 20/20 [00:15<00:00,  1.30it/s]\n",
      "Training (3399 / 18000 Steps) (loss=0.73385): 100%|██████████| 20/20 [00:15<00:00,  1.32it/s]\n",
      "Validate (3400 / 10 Steps): 100%|██████████| 8/8 [00:13<00:00,  1.67s/it]5<?, ?it/s]\n",
      "Training (3400 / 18000 Steps) (loss=0.64801):   5%|▌         | 1/20 [00:19<06:03, 19.13s/it]"
     ]
    },
    {
     "name": "stdout",
     "output_type": "stream",
     "text": [
      "Model Was Not Saved ! Current Best Avg. Dice: 0.3360655605792999 Current Avg. Dice: 0.3281364440917969 Current Avg. tumor Dice: 0.5530675053596497 Current Avg. lymph Dice: 0.009365301579236984\n"
     ]
    },
    {
     "name": "stderr",
     "output_type": "stream",
     "text": [
      "Training (3419 / 18000 Steps) (loss=0.67317): 100%|██████████| 20/20 [00:26<00:00,  1.31s/it]\n",
      "Training (3439 / 18000 Steps) (loss=0.68962): 100%|██████████| 20/20 [00:16<00:00,  1.24it/s]\n",
      "Training (3459 / 18000 Steps) (loss=0.66212): 100%|██████████| 20/20 [00:15<00:00,  1.33it/s]\n",
      "Training (3479 / 18000 Steps) (loss=0.69205): 100%|██████████| 20/20 [00:15<00:00,  1.26it/s]\n",
      "Training (3499 / 18000 Steps) (loss=0.66135): 100%|██████████| 20/20 [00:15<00:00,  1.26it/s]\n",
      "Validate (3500 / 10 Steps): 100%|██████████| 8/8 [00:13<00:00,  1.66s/it]5<?, ?it/s]\n",
      "Training (3500 / 18000 Steps) (loss=0.67538):   5%|▌         | 1/20 [00:18<06:00, 18.96s/it]"
     ]
    },
    {
     "name": "stdout",
     "output_type": "stream",
     "text": [
      "Model Was Not Saved ! Current Best Avg. Dice: 0.3360655605792999 Current Avg. Dice: 0.30993956327438354 Current Avg. tumor Dice: 0.5019766092300415 Current Avg. lymph Dice: 0.02875160239636898\n"
     ]
    },
    {
     "name": "stderr",
     "output_type": "stream",
     "text": [
      "Training (3519 / 18000 Steps) (loss=0.69504): 100%|██████████| 20/20 [00:25<00:00,  1.30s/it]\n",
      "Training (3539 / 18000 Steps) (loss=0.67744): 100%|██████████| 20/20 [00:14<00:00,  1.36it/s]\n",
      "Training (3559 / 18000 Steps) (loss=0.66134): 100%|██████████| 20/20 [00:14<00:00,  1.36it/s]\n",
      "Training (3579 / 18000 Steps) (loss=0.65338): 100%|██████████| 20/20 [00:15<00:00,  1.26it/s]\n",
      "Training (3599 / 18000 Steps) (loss=0.69028): 100%|██████████| 20/20 [00:15<00:00,  1.30it/s]\n",
      "Validate (3600 / 10 Steps): 100%|██████████| 8/8 [00:13<00:00,  1.68s/it]6<?, ?it/s]\n",
      "Training (3600 / 18000 Steps) (loss=0.66874):   5%|▌         | 1/20 [00:20<06:28, 20.42s/it]"
     ]
    },
    {
     "name": "stdout",
     "output_type": "stream",
     "text": [
      "Model Was Not Saved ! Current Best Avg. Dice: 0.3360655605792999 Current Avg. Dice: 0.29661688208580017 Current Avg. tumor Dice: 0.47074002027511597 Current Avg. lymph Dice: 0.041680850088596344\n"
     ]
    },
    {
     "name": "stderr",
     "output_type": "stream",
     "text": [
      "Training (3619 / 18000 Steps) (loss=0.69236): 100%|██████████| 20/20 [00:27<00:00,  1.37s/it]\n",
      "Training (3639 / 18000 Steps) (loss=0.68378): 100%|██████████| 20/20 [00:15<00:00,  1.29it/s]\n",
      "Training (3659 / 18000 Steps) (loss=0.70680): 100%|██████████| 20/20 [00:14<00:00,  1.35it/s]\n",
      "Training (3679 / 18000 Steps) (loss=0.70459): 100%|██████████| 20/20 [00:14<00:00,  1.35it/s]\n",
      "Training (3699 / 18000 Steps) (loss=0.64606): 100%|██████████| 20/20 [00:15<00:00,  1.26it/s]\n",
      "Validate (3700 / 10 Steps): 100%|██████████| 8/8 [00:13<00:00,  1.65s/it]6<?, ?it/s]\n",
      "Training (3700 / 18000 Steps) (loss=0.65440):   5%|▌         | 1/20 [00:20<06:29, 20.52s/it]"
     ]
    },
    {
     "name": "stdout",
     "output_type": "stream",
     "text": [
      "Model Was Saved ! Current Best Avg. Dice: 0.34257277846336365 Current Avg. Dice: 0.34257277846336365 Current Avg. tumor Dice: 0.5710106492042542 Current Avg. lymph Dice: 0.025985676795244217\n"
     ]
    },
    {
     "name": "stderr",
     "output_type": "stream",
     "text": [
      "Training (3719 / 18000 Steps) (loss=0.67420): 100%|██████████| 20/20 [00:27<00:00,  1.38s/it]\n",
      "Training (3739 / 18000 Steps) (loss=0.69373): 100%|██████████| 20/20 [00:14<00:00,  1.34it/s]\n",
      "Training (3759 / 18000 Steps) (loss=0.69510): 100%|██████████| 20/20 [00:16<00:00,  1.25it/s]\n",
      "Training (3779 / 18000 Steps) (loss=0.59161): 100%|██████████| 20/20 [00:15<00:00,  1.26it/s]\n",
      "Training (3799 / 18000 Steps) (loss=0.64799): 100%|██████████| 20/20 [00:15<00:00,  1.29it/s]\n",
      "Validate (3800 / 10 Steps): 100%|██████████| 8/8 [00:13<00:00,  1.68s/it]4<?, ?it/s]\n",
      "Training (3800 / 18000 Steps) (loss=0.67737):   5%|▌         | 1/20 [00:19<06:03, 19.12s/it]"
     ]
    },
    {
     "name": "stdout",
     "output_type": "stream",
     "text": [
      "Model Was Saved ! Current Best Avg. Dice: 0.3595828115940094 Current Avg. Dice: 0.3595828115940094 Current Avg. tumor Dice: 0.5733052492141724 Current Avg. lymph Dice: 0.05948618799448013\n"
     ]
    },
    {
     "name": "stderr",
     "output_type": "stream",
     "text": [
      "Training (3819 / 18000 Steps) (loss=0.68295): 100%|██████████| 20/20 [00:26<00:00,  1.31s/it]\n",
      "Training (3839 / 18000 Steps) (loss=0.72325): 100%|██████████| 20/20 [00:15<00:00,  1.32it/s]\n",
      "Training (3859 / 18000 Steps) (loss=0.61899): 100%|██████████| 20/20 [00:15<00:00,  1.29it/s]\n",
      "Training (3879 / 18000 Steps) (loss=0.58821): 100%|██████████| 20/20 [00:14<00:00,  1.35it/s]\n",
      "Training (3899 / 18000 Steps) (loss=0.66456): 100%|██████████| 20/20 [00:15<00:00,  1.30it/s]\n",
      "Validate (3900 / 10 Steps): 100%|██████████| 8/8 [00:13<00:00,  1.68s/it]5<?, ?it/s]\n",
      "Training (3900 / 18000 Steps) (loss=0.65686):   5%|▌         | 1/20 [00:19<06:15, 19.77s/it]"
     ]
    },
    {
     "name": "stdout",
     "output_type": "stream",
     "text": [
      "Model Was Saved ! Current Best Avg. Dice: 0.3619668185710907 Current Avg. Dice: 0.3619668185710907 Current Avg. tumor Dice: 0.5436265468597412 Current Avg. lymph Dice: 0.10302785784006119\n"
     ]
    },
    {
     "name": "stderr",
     "output_type": "stream",
     "text": [
      "Training (3919 / 18000 Steps) (loss=0.69289): 100%|██████████| 20/20 [00:26<00:00,  1.34s/it]\n",
      "Training (3939 / 18000 Steps) (loss=0.59539): 100%|██████████| 20/20 [00:14<00:00,  1.34it/s]\n",
      "Training (3959 / 18000 Steps) (loss=0.65377): 100%|██████████| 20/20 [00:15<00:00,  1.30it/s]\n",
      "Training (3979 / 18000 Steps) (loss=0.63519): 100%|██████████| 20/20 [00:14<00:00,  1.38it/s]\n",
      "Training (3999 / 18000 Steps) (loss=0.68190): 100%|██████████| 20/20 [00:14<00:00,  1.34it/s]\n",
      "Validate (4000 / 10 Steps): 100%|██████████| 8/8 [00:13<00:00,  1.65s/it]5<?, ?it/s]\n",
      "Training (4000 / 18000 Steps) (loss=0.64083):   5%|▌         | 1/20 [00:18<05:49, 18.39s/it]"
     ]
    },
    {
     "name": "stdout",
     "output_type": "stream",
     "text": [
      "Model Was Not Saved ! Current Best Avg. Dice: 0.3619668185710907 Current Avg. Dice: 0.32804015278816223 Current Avg. tumor Dice: 0.5237460136413574 Current Avg. lymph Dice: 0.04416199028491974\n"
     ]
    },
    {
     "name": "stderr",
     "output_type": "stream",
     "text": [
      "Training (4019 / 18000 Steps) (loss=0.67392): 100%|██████████| 20/20 [00:25<00:00,  1.27s/it]\n",
      "Training (4039 / 18000 Steps) (loss=0.62296): 100%|██████████| 20/20 [00:14<00:00,  1.36it/s]\n",
      "Training (4059 / 18000 Steps) (loss=0.65939): 100%|██████████| 20/20 [00:15<00:00,  1.31it/s]\n",
      "Training (4079 / 18000 Steps) (loss=0.69108): 100%|██████████| 20/20 [00:15<00:00,  1.30it/s]\n",
      "Training (4099 / 18000 Steps) (loss=0.67445): 100%|██████████| 20/20 [00:16<00:00,  1.23it/s]\n",
      "Validate (4100 / 10 Steps): 100%|██████████| 8/8 [00:12<00:00,  1.61s/it]5<?, ?it/s]\n",
      "Training (4100 / 18000 Steps) (loss=0.67974):   5%|▌         | 1/20 [00:18<05:48, 18.35s/it]"
     ]
    },
    {
     "name": "stdout",
     "output_type": "stream",
     "text": [
      "Model Was Not Saved ! Current Best Avg. Dice: 0.3619668185710907 Current Avg. Dice: 0.3332032561302185 Current Avg. tumor Dice: 0.5572215914726257 Current Avg. lymph Dice: 0.01522340252995491\n"
     ]
    },
    {
     "name": "stderr",
     "output_type": "stream",
     "text": [
      "Training (4119 / 18000 Steps) (loss=0.62465): 100%|██████████| 20/20 [00:25<00:00,  1.27s/it]\n",
      "Training (4139 / 18000 Steps) (loss=0.70927): 100%|██████████| 20/20 [00:15<00:00,  1.31it/s]\n",
      "Training (4159 / 18000 Steps) (loss=0.67002): 100%|██████████| 20/20 [00:15<00:00,  1.30it/s]\n",
      "Training (4179 / 18000 Steps) (loss=0.62299): 100%|██████████| 20/20 [00:15<00:00,  1.33it/s]\n",
      "Training (4199 / 18000 Steps) (loss=0.67673): 100%|██████████| 20/20 [00:15<00:00,  1.30it/s]\n",
      "Validate (4200 / 10 Steps): 100%|██████████| 8/8 [00:12<00:00,  1.58s/it]7<?, ?it/s]\n",
      "Training (4200 / 18000 Steps) (loss=0.61420):   5%|▌         | 1/20 [00:21<06:39, 21.04s/it]"
     ]
    },
    {
     "name": "stdout",
     "output_type": "stream",
     "text": [
      "Model Was Saved ! Current Best Avg. Dice: 0.36833712458610535 Current Avg. Dice: 0.36833712458610535 Current Avg. tumor Dice: 0.5771690011024475 Current Avg. lymph Dice: 0.07289954274892807\n"
     ]
    },
    {
     "name": "stderr",
     "output_type": "stream",
     "text": [
      "Training (4219 / 18000 Steps) (loss=0.61064): 100%|██████████| 20/20 [00:28<00:00,  1.40s/it]\n",
      "Training (4239 / 18000 Steps) (loss=0.57515): 100%|██████████| 20/20 [00:14<00:00,  1.37it/s]\n",
      "Training (4259 / 18000 Steps) (loss=0.53298): 100%|██████████| 20/20 [00:15<00:00,  1.32it/s]\n",
      "Training (4279 / 18000 Steps) (loss=0.52887): 100%|██████████| 20/20 [00:15<00:00,  1.33it/s]\n",
      "Training (4299 / 18000 Steps) (loss=0.68683): 100%|██████████| 20/20 [00:15<00:00,  1.30it/s]\n",
      "Validate (4300 / 10 Steps): 100%|██████████| 8/8 [00:13<00:00,  1.64s/it]6<?, ?it/s]\n",
      "Training (4300 / 18000 Steps) (loss=0.62731):   5%|▌         | 1/20 [00:20<06:23, 20.21s/it]"
     ]
    },
    {
     "name": "stdout",
     "output_type": "stream",
     "text": [
      "Model Was Saved ! Current Best Avg. Dice: 0.3817836046218872 Current Avg. Dice: 0.3817836046218872 Current Avg. tumor Dice: 0.48027482628822327 Current Avg. lymph Dice: 0.2270575314760208\n"
     ]
    },
    {
     "name": "stderr",
     "output_type": "stream",
     "text": [
      "Training (4319 / 18000 Steps) (loss=0.65765): 100%|██████████| 20/20 [00:27<00:00,  1.36s/it]\n",
      "Training (4339 / 18000 Steps) (loss=0.67441): 100%|██████████| 20/20 [00:15<00:00,  1.29it/s]\n",
      "Training (4359 / 18000 Steps) (loss=0.61571): 100%|██████████| 20/20 [00:14<00:00,  1.35it/s]\n",
      "Training (4379 / 18000 Steps) (loss=0.64955): 100%|██████████| 20/20 [00:15<00:00,  1.26it/s]\n",
      "Training (4399 / 18000 Steps) (loss=0.61706): 100%|██████████| 20/20 [00:15<00:00,  1.28it/s]\n",
      "Validate (4400 / 10 Steps): 100%|██████████| 8/8 [00:12<00:00,  1.61s/it]6<?, ?it/s]\n",
      "Training (4400 / 18000 Steps) (loss=0.60109):   5%|▌         | 1/20 [00:19<06:16, 19.79s/it]"
     ]
    },
    {
     "name": "stdout",
     "output_type": "stream",
     "text": [
      "Model Was Saved ! Current Best Avg. Dice: 0.4039055407047272 Current Avg. Dice: 0.4039055407047272 Current Avg. tumor Dice: 0.573040246963501 Current Avg. lymph Dice: 0.16138043999671936\n"
     ]
    },
    {
     "name": "stderr",
     "output_type": "stream",
     "text": [
      "Training (4419 / 18000 Steps) (loss=0.55948): 100%|██████████| 20/20 [00:26<00:00,  1.34s/it]\n",
      "Training (4439 / 18000 Steps) (loss=0.60601): 100%|██████████| 20/20 [00:15<00:00,  1.26it/s]\n",
      "Training (4459 / 18000 Steps) (loss=0.63135): 100%|██████████| 20/20 [00:15<00:00,  1.29it/s]\n",
      "Training (4479 / 18000 Steps) (loss=0.67503): 100%|██████████| 20/20 [00:15<00:00,  1.27it/s]\n",
      "Training (4499 / 18000 Steps) (loss=0.69088): 100%|██████████| 20/20 [00:15<00:00,  1.27it/s]\n",
      "Validate (4500 / 10 Steps): 100%|██████████| 8/8 [00:13<00:00,  1.64s/it]5<?, ?it/s]\n",
      "Training (4500 / 18000 Steps) (loss=0.62113):   5%|▌         | 1/20 [00:19<06:03, 19.13s/it]"
     ]
    },
    {
     "name": "stdout",
     "output_type": "stream",
     "text": [
      "Model Was Saved ! Current Best Avg. Dice: 0.4688190817832947 Current Avg. Dice: 0.4688190817832947 Current Avg. tumor Dice: 0.6003808379173279 Current Avg. lymph Dice: 0.2831266224384308\n"
     ]
    },
    {
     "name": "stderr",
     "output_type": "stream",
     "text": [
      "Training (4519 / 18000 Steps) (loss=0.58998): 100%|██████████| 20/20 [00:26<00:00,  1.31s/it]\n",
      "Training (4539 / 18000 Steps) (loss=0.69431): 100%|██████████| 20/20 [00:14<00:00,  1.34it/s]\n",
      "Training (4559 / 18000 Steps) (loss=0.63743): 100%|██████████| 20/20 [00:15<00:00,  1.28it/s]\n",
      "Training (4579 / 18000 Steps) (loss=0.64321): 100%|██████████| 20/20 [00:15<00:00,  1.28it/s]\n",
      "Training (4599 / 18000 Steps) (loss=0.66496): 100%|██████████| 20/20 [00:14<00:00,  1.38it/s]\n",
      "Validate (4600 / 10 Steps): 100%|██████████| 8/8 [00:13<00:00,  1.69s/it]5<?, ?it/s]\n",
      "Training (4600 / 18000 Steps) (loss=0.60937):   5%|▌         | 1/20 [00:19<06:01, 19.05s/it]"
     ]
    },
    {
     "name": "stdout",
     "output_type": "stream",
     "text": [
      "Model Was Not Saved ! Current Best Avg. Dice: 0.4688190817832947 Current Avg. Dice: 0.4416726231575012 Current Avg. tumor Dice: 0.5835850834846497 Current Avg. lymph Dice: 0.24159838259220123\n"
     ]
    },
    {
     "name": "stderr",
     "output_type": "stream",
     "text": [
      "Training (4619 / 18000 Steps) (loss=0.55671): 100%|██████████| 20/20 [00:26<00:00,  1.30s/it]\n",
      "Training (4639 / 18000 Steps) (loss=0.60602): 100%|██████████| 20/20 [00:15<00:00,  1.25it/s]\n",
      "Training (4659 / 18000 Steps) (loss=0.54564): 100%|██████████| 20/20 [00:15<00:00,  1.33it/s]\n",
      "Training (4679 / 18000 Steps) (loss=0.64246): 100%|██████████| 20/20 [00:14<00:00,  1.36it/s]\n",
      "Training (4699 / 18000 Steps) (loss=0.68088): 100%|██████████| 20/20 [00:15<00:00,  1.31it/s]\n",
      "Validate (4700 / 10 Steps): 100%|██████████| 8/8 [00:13<00:00,  1.64s/it]5<?, ?it/s]\n",
      "Training (4700 / 18000 Steps) (loss=0.65629):   5%|▌         | 1/20 [00:18<05:55, 18.70s/it]"
     ]
    },
    {
     "name": "stdout",
     "output_type": "stream",
     "text": [
      "Model Was Not Saved ! Current Best Avg. Dice: 0.4688190817832947 Current Avg. Dice: 0.4136684238910675 Current Avg. tumor Dice: 0.5075698494911194 Current Avg. lymph Dice: 0.26994550228118896\n"
     ]
    },
    {
     "name": "stderr",
     "output_type": "stream",
     "text": [
      "Training (4719 / 18000 Steps) (loss=0.63241): 100%|██████████| 20/20 [00:25<00:00,  1.28s/it]\n",
      "Training (4739 / 18000 Steps) (loss=0.65237): 100%|██████████| 20/20 [00:15<00:00,  1.28it/s]\n",
      "Training (4759 / 18000 Steps) (loss=0.51213): 100%|██████████| 20/20 [00:15<00:00,  1.31it/s]\n",
      "Training (4779 / 18000 Steps) (loss=0.69824): 100%|██████████| 20/20 [00:15<00:00,  1.33it/s]\n",
      "Training (4799 / 18000 Steps) (loss=0.68342): 100%|██████████| 20/20 [00:14<00:00,  1.37it/s]\n",
      "Validate (4800 / 10 Steps): 100%|██████████| 8/8 [00:12<00:00,  1.62s/it]6<?, ?it/s]\n",
      "Training (4800 / 18000 Steps) (loss=0.60655):   5%|▌         | 1/20 [00:20<06:33, 20.69s/it]"
     ]
    },
    {
     "name": "stdout",
     "output_type": "stream",
     "text": [
      "Model Was Saved ! Current Best Avg. Dice: 0.4778849184513092 Current Avg. Dice: 0.4778849184513092 Current Avg. tumor Dice: 0.5789774656295776 Current Avg. lymph Dice: 0.33901962637901306\n"
     ]
    },
    {
     "name": "stderr",
     "output_type": "stream",
     "text": [
      "Training (4819 / 18000 Steps) (loss=0.69281): 100%|██████████| 20/20 [00:27<00:00,  1.38s/it]\n",
      "Training (4839 / 18000 Steps) (loss=0.48809): 100%|██████████| 20/20 [00:15<00:00,  1.29it/s]\n",
      "Training (4859 / 18000 Steps) (loss=0.67915): 100%|██████████| 20/20 [00:15<00:00,  1.33it/s]\n",
      "Training (4879 / 18000 Steps) (loss=0.59441): 100%|██████████| 20/20 [00:14<00:00,  1.36it/s]\n",
      "Training (4899 / 18000 Steps) (loss=0.57414): 100%|██████████| 20/20 [00:14<00:00,  1.36it/s]\n",
      "Validate (4900 / 10 Steps): 100%|██████████| 8/8 [00:12<00:00,  1.60s/it]7<?, ?it/s]\n",
      "Training (4900 / 18000 Steps) (loss=0.58041):   5%|▌         | 1/20 [00:20<06:35, 20.80s/it]"
     ]
    },
    {
     "name": "stdout",
     "output_type": "stream",
     "text": [
      "Model Was Not Saved ! Current Best Avg. Dice: 0.4778849184513092 Current Avg. Dice: 0.4683617949485779 Current Avg. tumor Dice: 0.584212064743042 Current Avg. lymph Dice: 0.29824861884117126\n"
     ]
    },
    {
     "name": "stderr",
     "output_type": "stream",
     "text": [
      "Training (4919 / 18000 Steps) (loss=0.65556): 100%|██████████| 20/20 [00:27<00:00,  1.39s/it]\n",
      "Training (4939 / 18000 Steps) (loss=0.53838): 100%|██████████| 20/20 [00:15<00:00,  1.26it/s]\n",
      "Training (4959 / 18000 Steps) (loss=0.58838): 100%|██████████| 20/20 [00:15<00:00,  1.29it/s]\n",
      "Training (4979 / 18000 Steps) (loss=0.62990): 100%|██████████| 20/20 [00:16<00:00,  1.23it/s]\n",
      "Training (4999 / 18000 Steps) (loss=0.62631): 100%|██████████| 20/20 [00:15<00:00,  1.26it/s]\n",
      "Validate (5000 / 10 Steps): 100%|██████████| 8/8 [00:12<00:00,  1.61s/it]7<?, ?it/s]\n",
      "Training (5000 / 18000 Steps) (loss=0.60660):   5%|▌         | 1/20 [00:20<06:37, 20.89s/it]"
     ]
    },
    {
     "name": "stdout",
     "output_type": "stream",
     "text": [
      "Model Was Saved ! Current Best Avg. Dice: 0.5269773602485657 Current Avg. Dice: 0.5269773602485657 Current Avg. tumor Dice: 0.6726457476615906 Current Avg. lymph Dice: 0.3292906880378723\n"
     ]
    },
    {
     "name": "stderr",
     "output_type": "stream",
     "text": [
      "Training (5019 / 18000 Steps) (loss=0.63135): 100%|██████████| 20/20 [00:27<00:00,  1.40s/it]\n",
      "Training (5039 / 18000 Steps) (loss=0.61382): 100%|██████████| 20/20 [00:15<00:00,  1.33it/s]\n",
      "Training (5059 / 18000 Steps) (loss=0.54100): 100%|██████████| 20/20 [00:15<00:00,  1.29it/s]\n",
      "Training (5079 / 18000 Steps) (loss=0.69325): 100%|██████████| 20/20 [00:14<00:00,  1.36it/s]\n",
      "Training (5099 / 18000 Steps) (loss=0.60991): 100%|██████████| 20/20 [00:15<00:00,  1.27it/s]\n",
      "Validate (5100 / 10 Steps): 100%|██████████| 8/8 [00:13<00:00,  1.68s/it]5<?, ?it/s]\n",
      "Training (5100 / 18000 Steps) (loss=0.68011):   5%|▌         | 1/20 [00:18<05:55, 18.70s/it]"
     ]
    },
    {
     "name": "stdout",
     "output_type": "stream",
     "text": [
      "Model Was Not Saved ! Current Best Avg. Dice: 0.5269773602485657 Current Avg. Dice: 0.4944519102573395 Current Avg. tumor Dice: 0.5944030284881592 Current Avg. lymph Dice: 0.34648653864860535\n"
     ]
    },
    {
     "name": "stderr",
     "output_type": "stream",
     "text": [
      "Training (5119 / 18000 Steps) (loss=0.66305): 100%|██████████| 20/20 [00:25<00:00,  1.29s/it]\n",
      "Training (5139 / 18000 Steps) (loss=0.62179): 100%|██████████| 20/20 [00:14<00:00,  1.36it/s]\n",
      "Training (5159 / 18000 Steps) (loss=0.66017): 100%|██████████| 20/20 [00:14<00:00,  1.35it/s]\n",
      "Training (5179 / 18000 Steps) (loss=0.58234): 100%|██████████| 20/20 [00:15<00:00,  1.30it/s]\n",
      "Training (5199 / 18000 Steps) (loss=0.61502): 100%|██████████| 20/20 [00:14<00:00,  1.39it/s]\n",
      "Validate (5200 / 10 Steps): 100%|██████████| 8/8 [00:13<00:00,  1.67s/it]5<?, ?it/s]\n",
      "Training (5200 / 18000 Steps) (loss=0.55192):   5%|▌         | 1/20 [00:19<06:11, 19.53s/it]"
     ]
    },
    {
     "name": "stdout",
     "output_type": "stream",
     "text": [
      "Model Was Saved ! Current Best Avg. Dice: 0.5568622350692749 Current Avg. Dice: 0.5568622350692749 Current Avg. tumor Dice: 0.6793147921562195 Current Avg. lymph Dice: 0.3962591290473938\n"
     ]
    },
    {
     "name": "stderr",
     "output_type": "stream",
     "text": [
      "Training (5219 / 18000 Steps) (loss=0.46958): 100%|██████████| 20/20 [00:26<00:00,  1.33s/it]\n",
      "Training (5239 / 18000 Steps) (loss=0.50123): 100%|██████████| 20/20 [00:14<00:00,  1.38it/s]\n",
      "Training (5259 / 18000 Steps) (loss=0.63184): 100%|██████████| 20/20 [00:15<00:00,  1.28it/s]\n",
      "Training (5279 / 18000 Steps) (loss=0.83431): 100%|██████████| 20/20 [00:14<00:00,  1.35it/s]\n",
      "Training (5299 / 18000 Steps) (loss=0.47877): 100%|██████████| 20/20 [00:15<00:00,  1.32it/s]\n",
      "Validate (5300 / 10 Steps): 100%|██████████| 8/8 [00:12<00:00,  1.62s/it]4<?, ?it/s]\n",
      "Training (5300 / 18000 Steps) (loss=0.59490):   5%|▌         | 1/20 [00:18<05:42, 18.03s/it]"
     ]
    },
    {
     "name": "stdout",
     "output_type": "stream",
     "text": [
      "Model Was Not Saved ! Current Best Avg. Dice: 0.5568622350692749 Current Avg. Dice: 0.48120519518852234 Current Avg. tumor Dice: 0.5480154156684875 Current Avg. lymph Dice: 0.3820711374282837\n"
     ]
    },
    {
     "name": "stderr",
     "output_type": "stream",
     "text": [
      "Training (5319 / 18000 Steps) (loss=0.52126): 100%|██████████| 20/20 [00:25<00:00,  1.26s/it]\n",
      "Training (5339 / 18000 Steps) (loss=0.52981): 100%|██████████| 20/20 [00:15<00:00,  1.32it/s]\n",
      "Training (5359 / 18000 Steps) (loss=0.55096): 100%|██████████| 20/20 [00:15<00:00,  1.26it/s]\n",
      "Training (5379 / 18000 Steps) (loss=0.60049): 100%|██████████| 20/20 [00:14<00:00,  1.34it/s]\n",
      "Training (5399 / 18000 Steps) (loss=0.41660): 100%|██████████| 20/20 [00:14<00:00,  1.34it/s]\n",
      "Validate (5400 / 10 Steps): 100%|██████████| 8/8 [00:13<00:00,  1.66s/it]5<?, ?it/s]\n",
      "Training (5400 / 18000 Steps) (loss=0.56129):   5%|▌         | 1/20 [00:18<05:57, 18.82s/it]"
     ]
    },
    {
     "name": "stdout",
     "output_type": "stream",
     "text": [
      "Model Was Not Saved ! Current Best Avg. Dice: 0.5568622350692749 Current Avg. Dice: 0.5418606996536255 Current Avg. tumor Dice: 0.6695901155471802 Current Avg. lymph Dice: 0.3650307059288025\n"
     ]
    },
    {
     "name": "stderr",
     "output_type": "stream",
     "text": [
      "Training (5419 / 18000 Steps) (loss=0.65176): 100%|██████████| 20/20 [00:25<00:00,  1.29s/it]\n",
      "Training (5439 / 18000 Steps) (loss=0.63969): 100%|██████████| 20/20 [00:15<00:00,  1.29it/s]\n",
      "Training (5459 / 18000 Steps) (loss=0.55515): 100%|██████████| 20/20 [00:14<00:00,  1.37it/s]\n",
      "Training (5479 / 18000 Steps) (loss=0.53958): 100%|██████████| 20/20 [00:15<00:00,  1.31it/s]\n",
      "Training (5499 / 18000 Steps) (loss=0.62769): 100%|██████████| 20/20 [00:15<00:00,  1.31it/s]\n",
      "Validate (5500 / 10 Steps): 100%|██████████| 8/8 [00:13<00:00,  1.63s/it]7<?, ?it/s]\n",
      "Training (5500 / 18000 Steps) (loss=0.67995):   5%|▌         | 1/20 [00:20<06:36, 20.87s/it]"
     ]
    },
    {
     "name": "stdout",
     "output_type": "stream",
     "text": [
      "Model Was Not Saved ! Current Best Avg. Dice: 0.5568622350692749 Current Avg. Dice: 0.5497575402259827 Current Avg. tumor Dice: 0.6693479418754578 Current Avg. lymph Dice: 0.3867967426776886\n"
     ]
    },
    {
     "name": "stderr",
     "output_type": "stream",
     "text": [
      "Training (5519 / 18000 Steps) (loss=0.50789): 100%|██████████| 20/20 [00:27<00:00,  1.39s/it]\n",
      "Training (5539 / 18000 Steps) (loss=0.57007): 100%|██████████| 20/20 [00:15<00:00,  1.27it/s]\n",
      "Training (5559 / 18000 Steps) (loss=0.53097): 100%|██████████| 20/20 [00:15<00:00,  1.31it/s]\n",
      "Training (5579 / 18000 Steps) (loss=0.63916): 100%|██████████| 20/20 [00:15<00:00,  1.33it/s]\n",
      "Training (5599 / 18000 Steps) (loss=0.48524): 100%|██████████| 20/20 [00:14<00:00,  1.38it/s]\n",
      "Validate (5600 / 10 Steps): 100%|██████████| 8/8 [00:12<00:00,  1.62s/it]5<?, ?it/s]\n",
      "Training (5600 / 18000 Steps) (loss=0.57269):   5%|▌         | 1/20 [00:19<06:06, 19.28s/it]"
     ]
    },
    {
     "name": "stdout",
     "output_type": "stream",
     "text": [
      "Model Was Saved ! Current Best Avg. Dice: 0.5695626735687256 Current Avg. Dice: 0.5695626735687256 Current Avg. tumor Dice: 0.6807203888893127 Current Avg. lymph Dice: 0.421080082654953\n"
     ]
    },
    {
     "name": "stderr",
     "output_type": "stream",
     "text": [
      "Training (5619 / 18000 Steps) (loss=0.46378): 100%|██████████| 20/20 [00:26<00:00,  1.31s/it]\n",
      "Training (5639 / 18000 Steps) (loss=0.60918): 100%|██████████| 20/20 [00:15<00:00,  1.30it/s]\n",
      "Training (5659 / 18000 Steps) (loss=0.59658): 100%|██████████| 20/20 [00:15<00:00,  1.31it/s]\n",
      "Training (5679 / 18000 Steps) (loss=0.56338): 100%|██████████| 20/20 [00:15<00:00,  1.26it/s]\n",
      "Training (5699 / 18000 Steps) (loss=0.57574): 100%|██████████| 20/20 [00:14<00:00,  1.34it/s]\n",
      "Validate (5700 / 10 Steps): 100%|██████████| 8/8 [00:13<00:00,  1.65s/it]5<?, ?it/s]\n",
      "Training (5700 / 18000 Steps) (loss=0.52090):   5%|▌         | 1/20 [00:18<05:48, 18.34s/it]"
     ]
    },
    {
     "name": "stdout",
     "output_type": "stream",
     "text": [
      "Model Was Not Saved ! Current Best Avg. Dice: 0.5695626735687256 Current Avg. Dice: 0.56084144115448 Current Avg. tumor Dice: 0.6692526936531067 Current Avg. lymph Dice: 0.4128328561782837\n"
     ]
    },
    {
     "name": "stderr",
     "output_type": "stream",
     "text": [
      "Training (5719 / 18000 Steps) (loss=0.41335): 100%|██████████| 20/20 [00:25<00:00,  1.27s/it]\n",
      "Training (5739 / 18000 Steps) (loss=0.54574): 100%|██████████| 20/20 [00:15<00:00,  1.31it/s]\n",
      "Training (5759 / 18000 Steps) (loss=0.55903): 100%|██████████| 20/20 [00:14<00:00,  1.36it/s]\n",
      "Training (5779 / 18000 Steps) (loss=0.46210): 100%|██████████| 20/20 [00:14<00:00,  1.34it/s]\n",
      "Training (5799 / 18000 Steps) (loss=0.54818): 100%|██████████| 20/20 [00:15<00:00,  1.31it/s]\n",
      "Validate (5800 / 10 Steps): 100%|██████████| 8/8 [00:13<00:00,  1.67s/it]6<?, ?it/s]\n",
      "Training (5800 / 18000 Steps) (loss=0.56808):   5%|▌         | 1/20 [00:20<06:22, 20.15s/it]"
     ]
    },
    {
     "name": "stdout",
     "output_type": "stream",
     "text": [
      "Model Was Not Saved ! Current Best Avg. Dice: 0.5695626735687256 Current Avg. Dice: 0.52376389503479 Current Avg. tumor Dice: 0.6520745754241943 Current Avg. lymph Dice: 0.3461390733718872\n"
     ]
    },
    {
     "name": "stderr",
     "output_type": "stream",
     "text": [
      "Training (5819 / 18000 Steps) (loss=0.56764): 100%|██████████| 20/20 [00:27<00:00,  1.36s/it]\n",
      "Training (5839 / 18000 Steps) (loss=0.60885): 100%|██████████| 20/20 [00:14<00:00,  1.40it/s]\n",
      "Training (5859 / 18000 Steps) (loss=0.64081): 100%|██████████| 20/20 [00:15<00:00,  1.25it/s]\n",
      "Training (5879 / 18000 Steps) (loss=0.48226): 100%|██████████| 20/20 [00:16<00:00,  1.24it/s]\n",
      "Training (5899 / 18000 Steps) (loss=0.58942): 100%|██████████| 20/20 [00:14<00:00,  1.34it/s]\n",
      "Validate (5900 / 10 Steps): 100%|██████████| 8/8 [00:12<00:00,  1.61s/it]7<?, ?it/s]\n",
      "Training (5900 / 18000 Steps) (loss=0.42124):   5%|▌         | 1/20 [00:20<06:31, 20.61s/it]"
     ]
    },
    {
     "name": "stdout",
     "output_type": "stream",
     "text": [
      "Model Was Not Saved ! Current Best Avg. Dice: 0.5695626735687256 Current Avg. Dice: 0.5459426641464233 Current Avg. tumor Dice: 0.6673411130905151 Current Avg. lymph Dice: 0.3809460997581482\n"
     ]
    },
    {
     "name": "stderr",
     "output_type": "stream",
     "text": [
      "Training (5919 / 18000 Steps) (loss=0.45716): 100%|██████████| 20/20 [00:27<00:00,  1.38s/it]\n",
      "Training (5939 / 18000 Steps) (loss=0.58402): 100%|██████████| 20/20 [00:15<00:00,  1.26it/s]\n",
      "Training (5959 / 18000 Steps) (loss=0.41539): 100%|██████████| 20/20 [00:16<00:00,  1.25it/s]\n",
      "Training (5979 / 18000 Steps) (loss=0.61738): 100%|██████████| 20/20 [00:15<00:00,  1.26it/s]\n",
      "Training (5999 / 18000 Steps) (loss=0.53476): 100%|██████████| 20/20 [00:14<00:00,  1.36it/s]\n",
      "Validate (6000 / 10 Steps): 100%|██████████| 8/8 [00:13<00:00,  1.65s/it]5<?, ?it/s]\n",
      "Training (6000 / 18000 Steps) (loss=0.58922):   5%|▌         | 1/20 [00:18<05:51, 18.48s/it]"
     ]
    },
    {
     "name": "stdout",
     "output_type": "stream",
     "text": [
      "Model Was Not Saved ! Current Best Avg. Dice: 0.5695626735687256 Current Avg. Dice: 0.5330318212509155 Current Avg. tumor Dice: 0.6593843102455139 Current Avg. lymph Dice: 0.3582368493080139\n"
     ]
    },
    {
     "name": "stderr",
     "output_type": "stream",
     "text": [
      "Training (6019 / 18000 Steps) (loss=0.48196): 100%|██████████| 20/20 [00:25<00:00,  1.27s/it]\n",
      "Training (6039 / 18000 Steps) (loss=0.45408): 100%|██████████| 20/20 [00:15<00:00,  1.29it/s]\n",
      "Training (6059 / 18000 Steps) (loss=0.44553): 100%|██████████| 20/20 [00:14<00:00,  1.37it/s]\n",
      "Training (6079 / 18000 Steps) (loss=0.56646): 100%|██████████| 20/20 [00:16<00:00,  1.23it/s]\n",
      "Training (6099 / 18000 Steps) (loss=0.54463): 100%|██████████| 20/20 [00:15<00:00,  1.33it/s]\n",
      "Validate (6100 / 10 Steps): 100%|██████████| 8/8 [00:13<00:00,  1.65s/it]5<?, ?it/s]\n",
      "Training (6100 / 18000 Steps) (loss=0.50441):   5%|▌         | 1/20 [00:18<05:59, 18.90s/it]"
     ]
    },
    {
     "name": "stdout",
     "output_type": "stream",
     "text": [
      "Model Was Not Saved ! Current Best Avg. Dice: 0.5695626735687256 Current Avg. Dice: 0.5680757164955139 Current Avg. tumor Dice: 0.671994149684906 Current Avg. lymph Dice: 0.4277436435222626\n"
     ]
    },
    {
     "name": "stderr",
     "output_type": "stream",
     "text": [
      "Training (6119 / 18000 Steps) (loss=0.55831): 100%|██████████| 20/20 [00:25<00:00,  1.30s/it]\n",
      "Training (6139 / 18000 Steps) (loss=0.67171): 100%|██████████| 20/20 [00:15<00:00,  1.32it/s]\n",
      "Training (6159 / 18000 Steps) (loss=0.48496): 100%|██████████| 20/20 [00:14<00:00,  1.34it/s]\n",
      "Training (6179 / 18000 Steps) (loss=0.35239): 100%|██████████| 20/20 [00:15<00:00,  1.26it/s]\n",
      "Training (6199 / 18000 Steps) (loss=0.47740): 100%|██████████| 20/20 [00:15<00:00,  1.28it/s]\n",
      "Validate (6200 / 10 Steps): 100%|██████████| 8/8 [00:13<00:00,  1.63s/it]5<?, ?it/s]\n",
      "Training (6200 / 18000 Steps) (loss=0.54167):   5%|▌         | 1/20 [00:19<06:14, 19.70s/it]"
     ]
    },
    {
     "name": "stdout",
     "output_type": "stream",
     "text": [
      "Model Was Saved ! Current Best Avg. Dice: 0.5738171339035034 Current Avg. Dice: 0.5738171339035034 Current Avg. tumor Dice: 0.6768321990966797 Current Avg. lymph Dice: 0.433183878660202\n"
     ]
    },
    {
     "name": "stderr",
     "output_type": "stream",
     "text": [
      "Training (6219 / 18000 Steps) (loss=0.47631): 100%|██████████| 20/20 [00:26<00:00,  1.34s/it]\n",
      "Training (6239 / 18000 Steps) (loss=0.60081): 100%|██████████| 20/20 [00:15<00:00,  1.30it/s]\n",
      "Training (6259 / 18000 Steps) (loss=0.40324): 100%|██████████| 20/20 [00:15<00:00,  1.32it/s]\n",
      "Training (6279 / 18000 Steps) (loss=0.52132): 100%|██████████| 20/20 [00:14<00:00,  1.37it/s]\n",
      "Training (6299 / 18000 Steps) (loss=0.60360): 100%|██████████| 20/20 [00:15<00:00,  1.28it/s]\n",
      "Validate (6300 / 10 Steps): 100%|██████████| 8/8 [00:13<00:00,  1.63s/it]6<?, ?it/s]\n",
      "Training (6300 / 18000 Steps) (loss=0.48332):   5%|▌         | 1/20 [00:19<06:11, 19.53s/it]"
     ]
    },
    {
     "name": "stdout",
     "output_type": "stream",
     "text": [
      "Model Was Not Saved ! Current Best Avg. Dice: 0.5738171339035034 Current Avg. Dice: 0.5729749798774719 Current Avg. tumor Dice: 0.6963628530502319 Current Avg. lymph Dice: 0.4051360487937927\n"
     ]
    },
    {
     "name": "stderr",
     "output_type": "stream",
     "text": [
      "Training (6319 / 18000 Steps) (loss=0.38715): 100%|██████████| 20/20 [00:26<00:00,  1.33s/it]\n",
      "Training (6339 / 18000 Steps) (loss=0.46876): 100%|██████████| 20/20 [00:15<00:00,  1.26it/s]\n",
      "Training (6359 / 18000 Steps) (loss=0.50063): 100%|██████████| 20/20 [00:15<00:00,  1.28it/s]\n",
      "Training (6379 / 18000 Steps) (loss=0.40193): 100%|██████████| 20/20 [00:15<00:00,  1.26it/s]\n",
      "Training (6399 / 18000 Steps) (loss=0.48633): 100%|██████████| 20/20 [00:15<00:00,  1.28it/s]\n",
      "Validate (6400 / 10 Steps): 100%|██████████| 8/8 [00:13<00:00,  1.64s/it]6<?, ?it/s]\n",
      "Training (6400 / 18000 Steps) (loss=0.55833):   5%|▌         | 1/20 [00:19<06:10, 19.48s/it]"
     ]
    },
    {
     "name": "stdout",
     "output_type": "stream",
     "text": [
      "Model Was Not Saved ! Current Best Avg. Dice: 0.5738171339035034 Current Avg. Dice: 0.5289750099182129 Current Avg. tumor Dice: 0.6393258571624756 Current Avg. lymph Dice: 0.3716490864753723\n"
     ]
    },
    {
     "name": "stderr",
     "output_type": "stream",
     "text": [
      "Training (6419 / 18000 Steps) (loss=0.60121): 100%|██████████| 20/20 [00:26<00:00,  1.32s/it]\n",
      "Training (6439 / 18000 Steps) (loss=0.62296): 100%|██████████| 20/20 [00:14<00:00,  1.34it/s]\n",
      "Training (6459 / 18000 Steps) (loss=0.49725): 100%|██████████| 20/20 [00:15<00:00,  1.27it/s]\n",
      "Training (6479 / 18000 Steps) (loss=0.34947): 100%|██████████| 20/20 [00:14<00:00,  1.36it/s]\n",
      "Training (6499 / 18000 Steps) (loss=0.58803): 100%|██████████| 20/20 [00:15<00:00,  1.29it/s]\n",
      "Validate (6500 / 10 Steps): 100%|██████████| 8/8 [00:13<00:00,  1.63s/it]6<?, ?it/s]\n",
      "Training (6500 / 18000 Steps) (loss=0.39736):   5%|▌         | 1/20 [00:20<06:35, 20.80s/it]"
     ]
    },
    {
     "name": "stdout",
     "output_type": "stream",
     "text": [
      "Model Was Saved ! Current Best Avg. Dice: 0.5812658667564392 Current Avg. Dice: 0.5812658667564392 Current Avg. tumor Dice: 0.700471818447113 Current Avg. lymph Dice: 0.4220733046531677\n"
     ]
    },
    {
     "name": "stderr",
     "output_type": "stream",
     "text": [
      "Training (6519 / 18000 Steps) (loss=0.53295): 100%|██████████| 20/20 [00:27<00:00,  1.39s/it]\n",
      "Training (6539 / 18000 Steps) (loss=0.62124): 100%|██████████| 20/20 [00:16<00:00,  1.23it/s]\n",
      "Training (6559 / 18000 Steps) (loss=0.45774): 100%|██████████| 20/20 [00:14<00:00,  1.37it/s]\n",
      "Training (6579 / 18000 Steps) (loss=0.63382): 100%|██████████| 20/20 [00:15<00:00,  1.31it/s]\n",
      "Training (6599 / 18000 Steps) (loss=0.45270): 100%|██████████| 20/20 [00:14<00:00,  1.40it/s]\n",
      "Validate (6600 / 10 Steps): 100%|██████████| 8/8 [00:13<00:00,  1.70s/it]5<?, ?it/s]\n",
      "Training (6600 / 18000 Steps) (loss=0.47457):   5%|▌         | 1/20 [00:19<06:01, 19.00s/it]"
     ]
    },
    {
     "name": "stdout",
     "output_type": "stream",
     "text": [
      "Model Was Not Saved ! Current Best Avg. Dice: 0.5812658667564392 Current Avg. Dice: 0.5761014819145203 Current Avg. tumor Dice: 0.7008407711982727 Current Avg. lymph Dice: 0.41524866223335266\n"
     ]
    },
    {
     "name": "stderr",
     "output_type": "stream",
     "text": [
      "Training (6619 / 18000 Steps) (loss=0.56495): 100%|██████████| 20/20 [00:26<00:00,  1.30s/it]\n",
      "Training (6639 / 18000 Steps) (loss=0.54946): 100%|██████████| 20/20 [00:15<00:00,  1.32it/s]\n",
      "Training (6659 / 18000 Steps) (loss=0.29278): 100%|██████████| 20/20 [00:15<00:00,  1.29it/s]\n",
      "Training (6679 / 18000 Steps) (loss=0.46616): 100%|██████████| 20/20 [00:15<00:00,  1.31it/s]\n",
      "Training (6699 / 18000 Steps) (loss=0.47931): 100%|██████████| 20/20 [00:15<00:00,  1.31it/s]\n",
      "Validate (6700 / 10 Steps): 100%|██████████| 8/8 [00:13<00:00,  1.67s/it]5<?, ?it/s]\n",
      "Training (6700 / 18000 Steps) (loss=0.49576):   5%|▌         | 1/20 [00:19<06:19, 20.00s/it]"
     ]
    },
    {
     "name": "stdout",
     "output_type": "stream",
     "text": [
      "Model Was Saved ! Current Best Avg. Dice: 0.6005127429962158 Current Avg. Dice: 0.6005127429962158 Current Avg. tumor Dice: 0.7219085693359375 Current Avg. lymph Dice: 0.44799545407295227\n"
     ]
    },
    {
     "name": "stderr",
     "output_type": "stream",
     "text": [
      "Training (6719 / 18000 Steps) (loss=0.55648): 100%|██████████| 20/20 [00:27<00:00,  1.35s/it]\n",
      "Training (6739 / 18000 Steps) (loss=0.38752): 100%|██████████| 20/20 [00:16<00:00,  1.24it/s]\n",
      "Training (6759 / 18000 Steps) (loss=0.72962): 100%|██████████| 20/20 [00:15<00:00,  1.28it/s]\n",
      "Training (6779 / 18000 Steps) (loss=0.53472): 100%|██████████| 20/20 [00:15<00:00,  1.27it/s]\n",
      "Training (6799 / 18000 Steps) (loss=0.57056): 100%|██████████| 20/20 [00:15<00:00,  1.30it/s]\n",
      "Validate (6800 / 10 Steps): 100%|██████████| 8/8 [00:13<00:00,  1.64s/it]5<?, ?it/s]\n",
      "Training (6800 / 18000 Steps) (loss=0.46172):   5%|▌         | 1/20 [00:18<05:53, 18.60s/it]"
     ]
    },
    {
     "name": "stdout",
     "output_type": "stream",
     "text": [
      "Model Was Not Saved ! Current Best Avg. Dice: 0.6005127429962158 Current Avg. Dice: 0.5952149629592896 Current Avg. tumor Dice: 0.7148630619049072 Current Avg. lymph Dice: 0.43751686811447144\n"
     ]
    },
    {
     "name": "stderr",
     "output_type": "stream",
     "text": [
      "Training (6819 / 18000 Steps) (loss=0.72885): 100%|██████████| 20/20 [00:25<00:00,  1.28s/it]\n",
      "Training (6839 / 18000 Steps) (loss=0.66960): 100%|██████████| 20/20 [00:14<00:00,  1.36it/s]\n",
      "Training (6859 / 18000 Steps) (loss=0.39419): 100%|██████████| 20/20 [00:16<00:00,  1.24it/s]\n",
      "Training (6879 / 18000 Steps) (loss=0.53674): 100%|██████████| 20/20 [00:15<00:00,  1.30it/s]\n",
      "Training (6899 / 18000 Steps) (loss=0.50319): 100%|██████████| 20/20 [00:15<00:00,  1.31it/s]\n",
      "Validate (6900 / 10 Steps): 100%|██████████| 8/8 [00:13<00:00,  1.66s/it]5<?, ?it/s]\n",
      "Training (6900 / 18000 Steps) (loss=0.33718):   5%|▌         | 1/20 [00:18<05:57, 18.81s/it]"
     ]
    },
    {
     "name": "stdout",
     "output_type": "stream",
     "text": [
      "Model Was Not Saved ! Current Best Avg. Dice: 0.6005127429962158 Current Avg. Dice: 0.5718088150024414 Current Avg. tumor Dice: 0.6963846683502197 Current Avg. lymph Dice: 0.40694373846054077\n"
     ]
    },
    {
     "name": "stderr",
     "output_type": "stream",
     "text": [
      "Training (6919 / 18000 Steps) (loss=0.48098): 100%|██████████| 20/20 [00:25<00:00,  1.29s/it]\n",
      "Training (6939 / 18000 Steps) (loss=0.51785): 100%|██████████| 20/20 [00:15<00:00,  1.30it/s]\n",
      "Training (6959 / 18000 Steps) (loss=0.68053): 100%|██████████| 20/20 [00:15<00:00,  1.33it/s]\n",
      "Training (6979 / 18000 Steps) (loss=0.48883): 100%|██████████| 20/20 [00:15<00:00,  1.29it/s]\n",
      "Training (6999 / 18000 Steps) (loss=0.64682): 100%|██████████| 20/20 [00:14<00:00,  1.35it/s]\n",
      "Validate (7000 / 10 Steps): 100%|██████████| 8/8 [00:13<00:00,  1.67s/it]5<?, ?it/s]\n",
      "Training (7000 / 18000 Steps) (loss=0.55081):   5%|▌         | 1/20 [00:19<06:18, 19.91s/it]"
     ]
    },
    {
     "name": "stdout",
     "output_type": "stream",
     "text": [
      "Model Was Saved ! Current Best Avg. Dice: 0.6012189388275146 Current Avg. Dice: 0.6012189388275146 Current Avg. tumor Dice: 0.7184751629829407 Current Avg. lymph Dice: 0.44514691829681396\n"
     ]
    },
    {
     "name": "stderr",
     "output_type": "stream",
     "text": [
      "Training (7019 / 18000 Steps) (loss=0.42592): 100%|██████████| 20/20 [00:26<00:00,  1.35s/it]\n",
      "Training (7039 / 18000 Steps) (loss=0.63167): 100%|██████████| 20/20 [00:14<00:00,  1.34it/s]\n",
      "Training (7059 / 18000 Steps) (loss=0.50618): 100%|██████████| 20/20 [00:15<00:00,  1.26it/s]\n",
      "Training (7079 / 18000 Steps) (loss=0.49619): 100%|██████████| 20/20 [00:14<00:00,  1.38it/s]\n",
      "Training (7099 / 18000 Steps) (loss=0.39511): 100%|██████████| 20/20 [00:15<00:00,  1.27it/s]\n",
      "Validate (7100 / 10 Steps): 100%|██████████| 8/8 [00:12<00:00,  1.60s/it]7<?, ?it/s]\n",
      "Training (7100 / 18000 Steps) (loss=0.61206):   5%|▌         | 1/20 [00:20<06:23, 20.17s/it]"
     ]
    },
    {
     "name": "stdout",
     "output_type": "stream",
     "text": [
      "Model Was Not Saved ! Current Best Avg. Dice: 0.6012189388275146 Current Avg. Dice: 0.5421546101570129 Current Avg. tumor Dice: 0.6259400248527527 Current Avg. lymph Dice: 0.4267165958881378\n"
     ]
    },
    {
     "name": "stderr",
     "output_type": "stream",
     "text": [
      "Training (7119 / 18000 Steps) (loss=0.49122): 100%|██████████| 20/20 [00:27<00:00,  1.36s/it]\n",
      "Training (7139 / 18000 Steps) (loss=0.60634): 100%|██████████| 20/20 [00:15<00:00,  1.30it/s]\n",
      "Training (7159 / 18000 Steps) (loss=0.50930): 100%|██████████| 20/20 [00:16<00:00,  1.25it/s]\n",
      "Training (7179 / 18000 Steps) (loss=0.30757): 100%|██████████| 20/20 [00:15<00:00,  1.29it/s]\n",
      "Training (7199 / 18000 Steps) (loss=0.66693): 100%|██████████| 20/20 [00:14<00:00,  1.35it/s]\n",
      "Validate (7200 / 10 Steps): 100%|██████████| 8/8 [00:12<00:00,  1.62s/it]6<?, ?it/s]\n",
      "Training (7200 / 18000 Steps) (loss=0.50826):   5%|▌         | 1/20 [00:19<06:08, 19.41s/it]"
     ]
    },
    {
     "name": "stdout",
     "output_type": "stream",
     "text": [
      "Model Was Not Saved ! Current Best Avg. Dice: 0.6012189388275146 Current Avg. Dice: 0.5971177816390991 Current Avg. tumor Dice: 0.7087631225585938 Current Avg. lymph Dice: 0.451043963432312\n"
     ]
    },
    {
     "name": "stderr",
     "output_type": "stream",
     "text": [
      "Training (7219 / 18000 Steps) (loss=0.63622): 100%|██████████| 20/20 [00:26<00:00,  1.32s/it]\n",
      "Training (7239 / 18000 Steps) (loss=0.49124): 100%|██████████| 20/20 [00:15<00:00,  1.27it/s]\n",
      "Training (7259 / 18000 Steps) (loss=0.43190): 100%|██████████| 20/20 [00:15<00:00,  1.27it/s]\n",
      "Training (7279 / 18000 Steps) (loss=0.56275): 100%|██████████| 20/20 [00:15<00:00,  1.33it/s]\n",
      "Training (7299 / 18000 Steps) (loss=0.59581): 100%|██████████| 20/20 [00:16<00:00,  1.25it/s]\n",
      "Validate (7300 / 10 Steps): 100%|██████████| 8/8 [00:13<00:00,  1.67s/it]5<?, ?it/s]\n",
      "Training (7300 / 18000 Steps) (loss=0.51860):   5%|▌         | 1/20 [00:19<06:04, 19.21s/it]"
     ]
    },
    {
     "name": "stdout",
     "output_type": "stream",
     "text": [
      "Model Was Not Saved ! Current Best Avg. Dice: 0.6012189388275146 Current Avg. Dice: 0.5550774931907654 Current Avg. tumor Dice: 0.6505536437034607 Current Avg. lymph Dice: 0.4225113093852997\n"
     ]
    },
    {
     "name": "stderr",
     "output_type": "stream",
     "text": [
      "Training (7319 / 18000 Steps) (loss=0.55586): 100%|██████████| 20/20 [00:26<00:00,  1.31s/it]\n",
      "Training (7339 / 18000 Steps) (loss=0.59313): 100%|██████████| 20/20 [00:15<00:00,  1.31it/s]\n",
      "Training (7359 / 18000 Steps) (loss=0.33819): 100%|██████████| 20/20 [00:16<00:00,  1.24it/s]\n",
      "Training (7379 / 18000 Steps) (loss=0.46105): 100%|██████████| 20/20 [00:15<00:00,  1.32it/s]\n",
      "Training (7399 / 18000 Steps) (loss=0.50438): 100%|██████████| 20/20 [00:16<00:00,  1.22it/s]\n",
      "Validate (7400 / 10 Steps): 100%|██████████| 8/8 [00:12<00:00,  1.58s/it]6<?, ?it/s]\n",
      "Training (7400 / 18000 Steps) (loss=0.49874):   5%|▌         | 1/20 [00:19<06:01, 19.04s/it]"
     ]
    },
    {
     "name": "stdout",
     "output_type": "stream",
     "text": [
      "Model Was Not Saved ! Current Best Avg. Dice: 0.6012189388275146 Current Avg. Dice: 0.5891526341438293 Current Avg. tumor Dice: 0.7015972137451172 Current Avg. lymph Dice: 0.442159503698349\n"
     ]
    },
    {
     "name": "stderr",
     "output_type": "stream",
     "text": [
      "Training (7419 / 18000 Steps) (loss=0.54619): 100%|██████████| 20/20 [00:26<00:00,  1.30s/it]\n",
      "Training (7439 / 18000 Steps) (loss=0.45254): 100%|██████████| 20/20 [00:16<00:00,  1.24it/s]\n",
      "Training (7459 / 18000 Steps) (loss=0.46786): 100%|██████████| 20/20 [00:16<00:00,  1.22it/s]\n",
      "Training (7479 / 18000 Steps) (loss=0.47642): 100%|██████████| 20/20 [00:14<00:00,  1.34it/s]\n",
      "Training (7499 / 18000 Steps) (loss=0.48744): 100%|██████████| 20/20 [00:15<00:00,  1.29it/s]\n",
      "Validate (7500 / 10 Steps): 100%|██████████| 8/8 [00:13<00:00,  1.63s/it]6<?, ?it/s]\n",
      "Training (7500 / 18000 Steps) (loss=0.53452):   5%|▌         | 1/20 [00:19<06:08, 19.37s/it]"
     ]
    },
    {
     "name": "stdout",
     "output_type": "stream",
     "text": [
      "Model Was Not Saved ! Current Best Avg. Dice: 0.6012189388275146 Current Avg. Dice: 0.5706195831298828 Current Avg. tumor Dice: 0.6654865145683289 Current Avg. lymph Dice: 0.44633767008781433\n"
     ]
    },
    {
     "name": "stderr",
     "output_type": "stream",
     "text": [
      "Training (7519 / 18000 Steps) (loss=0.49538): 100%|██████████| 20/20 [00:26<00:00,  1.32s/it]\n",
      "Training (7539 / 18000 Steps) (loss=0.51291): 100%|██████████| 20/20 [00:15<00:00,  1.31it/s]\n",
      "Training (7559 / 18000 Steps) (loss=0.43759): 100%|██████████| 20/20 [00:14<00:00,  1.33it/s]\n",
      "Training (7579 / 18000 Steps) (loss=0.48426): 100%|██████████| 20/20 [00:16<00:00,  1.21it/s]\n",
      "Training (7599 / 18000 Steps) (loss=0.49036): 100%|██████████| 20/20 [00:15<00:00,  1.30it/s]\n",
      "Validate (7600 / 10 Steps): 100%|██████████| 8/8 [00:12<00:00,  1.62s/it]6<?, ?it/s]\n",
      "Training (7600 / 18000 Steps) (loss=0.54099):   5%|▌         | 1/20 [00:19<06:09, 19.45s/it]"
     ]
    },
    {
     "name": "stdout",
     "output_type": "stream",
     "text": [
      "Model Was Not Saved ! Current Best Avg. Dice: 0.6012189388275146 Current Avg. Dice: 0.5843428373336792 Current Avg. tumor Dice: 0.6830458045005798 Current Avg. lymph Dice: 0.4572278559207916\n"
     ]
    },
    {
     "name": "stderr",
     "output_type": "stream",
     "text": [
      "Training (7619 / 18000 Steps) (loss=0.48836): 100%|██████████| 20/20 [00:26<00:00,  1.32s/it]\n",
      "Training (7639 / 18000 Steps) (loss=0.63610): 100%|██████████| 20/20 [00:15<00:00,  1.25it/s]\n",
      "Training (7659 / 18000 Steps) (loss=0.48728): 100%|██████████| 20/20 [00:15<00:00,  1.31it/s]\n",
      "Training (7679 / 18000 Steps) (loss=0.22415): 100%|██████████| 20/20 [00:14<00:00,  1.36it/s]\n",
      "Training (7699 / 18000 Steps) (loss=0.34118): 100%|██████████| 20/20 [00:15<00:00,  1.33it/s]\n",
      "Validate (7700 / 10 Steps): 100%|██████████| 8/8 [00:12<00:00,  1.60s/it]7<?, ?it/s]\n",
      "Training (7700 / 18000 Steps) (loss=0.43321):   5%|▌         | 1/20 [00:20<06:28, 20.45s/it]"
     ]
    },
    {
     "name": "stdout",
     "output_type": "stream",
     "text": [
      "Model Was Not Saved ! Current Best Avg. Dice: 0.6012189388275146 Current Avg. Dice: 0.5585157871246338 Current Avg. tumor Dice: 0.6605566740036011 Current Avg. lymph Dice: 0.4149881601333618\n"
     ]
    },
    {
     "name": "stderr",
     "output_type": "stream",
     "text": [
      "Training (7719 / 18000 Steps) (loss=0.55250): 100%|██████████| 20/20 [00:27<00:00,  1.37s/it]\n",
      "Training (7739 / 18000 Steps) (loss=0.33838): 100%|██████████| 20/20 [00:15<00:00,  1.29it/s]\n",
      "Training (7759 / 18000 Steps) (loss=0.61307): 100%|██████████| 20/20 [00:15<00:00,  1.30it/s]\n",
      "Training (7779 / 18000 Steps) (loss=0.73674): 100%|██████████| 20/20 [00:16<00:00,  1.22it/s]\n",
      "Training (7799 / 18000 Steps) (loss=0.59922): 100%|██████████| 20/20 [00:14<00:00,  1.38it/s]\n",
      "Validate (7800 / 10 Steps): 100%|██████████| 8/8 [00:13<00:00,  1.64s/it]5<?, ?it/s]\n",
      "Training (7800 / 18000 Steps) (loss=0.53455):   5%|▌         | 1/20 [00:18<05:51, 18.50s/it]"
     ]
    },
    {
     "name": "stdout",
     "output_type": "stream",
     "text": [
      "Model Was Not Saved ! Current Best Avg. Dice: 0.6012189388275146 Current Avg. Dice: 0.5469409227371216 Current Avg. tumor Dice: 0.6232122182846069 Current Avg. lymph Dice: 0.43088218569755554\n"
     ]
    },
    {
     "name": "stderr",
     "output_type": "stream",
     "text": [
      "Training (7819 / 18000 Steps) (loss=0.56744): 100%|██████████| 20/20 [00:25<00:00,  1.28s/it]\n",
      "Training (7839 / 18000 Steps) (loss=0.53662): 100%|██████████| 20/20 [00:15<00:00,  1.25it/s]\n",
      "Training (7859 / 18000 Steps) (loss=0.43916): 100%|██████████| 20/20 [00:16<00:00,  1.24it/s]\n",
      "Training (7879 / 18000 Steps) (loss=0.33223): 100%|██████████| 20/20 [00:15<00:00,  1.33it/s]\n",
      "Training (7899 / 18000 Steps) (loss=0.45073): 100%|██████████| 20/20 [00:16<00:00,  1.24it/s]\n",
      "Validate (7900 / 10 Steps): 100%|██████████| 8/8 [00:12<00:00,  1.60s/it]8<?, ?it/s]\n",
      "Training (7900 / 18000 Steps) (loss=0.38052):   5%|▌         | 1/20 [00:20<06:36, 20.85s/it]"
     ]
    },
    {
     "name": "stdout",
     "output_type": "stream",
     "text": [
      "Model Was Not Saved ! Current Best Avg. Dice: 0.6012189388275146 Current Avg. Dice: 0.5859357118606567 Current Avg. tumor Dice: 0.7159750461578369 Current Avg. lymph Dice: 0.4111916422843933\n"
     ]
    },
    {
     "name": "stderr",
     "output_type": "stream",
     "text": [
      "Training (7919 / 18000 Steps) (loss=0.49539): 100%|██████████| 20/20 [00:27<00:00,  1.39s/it]\n",
      "Training (7939 / 18000 Steps) (loss=0.57256): 100%|██████████| 20/20 [00:16<00:00,  1.22it/s]\n",
      "Training (7959 / 18000 Steps) (loss=0.46597): 100%|██████████| 20/20 [00:15<00:00,  1.30it/s]\n",
      "Training (7979 / 18000 Steps) (loss=0.39001): 100%|██████████| 20/20 [00:14<00:00,  1.38it/s]\n",
      "Training (7999 / 18000 Steps) (loss=0.56467): 100%|██████████| 20/20 [00:15<00:00,  1.30it/s]\n",
      "Validate (8000 / 10 Steps): 100%|██████████| 8/8 [00:13<00:00,  1.64s/it]5<?, ?it/s]\n",
      "Training (8000 / 18000 Steps) (loss=0.54490):   5%|▌         | 1/20 [00:18<05:54, 18.67s/it]"
     ]
    },
    {
     "name": "stdout",
     "output_type": "stream",
     "text": [
      "Model Was Not Saved ! Current Best Avg. Dice: 0.6012189388275146 Current Avg. Dice: 0.5546752214431763 Current Avg. tumor Dice: 0.7132384181022644 Current Avg. lymph Dice: 0.3429224193096161\n"
     ]
    },
    {
     "name": "stderr",
     "output_type": "stream",
     "text": [
      "Training (8019 / 18000 Steps) (loss=0.49764): 100%|██████████| 20/20 [00:25<00:00,  1.29s/it]\n",
      "Training (8039 / 18000 Steps) (loss=0.32147): 100%|██████████| 20/20 [00:15<00:00,  1.28it/s]\n",
      "Training (8059 / 18000 Steps) (loss=0.27859): 100%|██████████| 20/20 [00:14<00:00,  1.37it/s]\n",
      "Training (8079 / 18000 Steps) (loss=0.53177): 100%|██████████| 20/20 [00:15<00:00,  1.28it/s]\n",
      "Training (8099 / 18000 Steps) (loss=0.43592): 100%|██████████| 20/20 [00:14<00:00,  1.36it/s]\n",
      "Validate (8100 / 10 Steps): 100%|██████████| 8/8 [00:12<00:00,  1.60s/it]7<?, ?it/s]\n",
      "Training (8100 / 18000 Steps) (loss=0.41840):   5%|▌         | 1/20 [00:20<06:29, 20.52s/it]"
     ]
    },
    {
     "name": "stdout",
     "output_type": "stream",
     "text": [
      "Model Was Not Saved ! Current Best Avg. Dice: 0.6012189388275146 Current Avg. Dice: 0.5865013599395752 Current Avg. tumor Dice: 0.7152539491653442 Current Avg. lymph Dice: 0.41151222586631775\n"
     ]
    },
    {
     "name": "stderr",
     "output_type": "stream",
     "text": [
      "Training (8119 / 18000 Steps) (loss=0.41615): 100%|██████████| 20/20 [00:27<00:00,  1.38s/it]\n",
      "Training (8139 / 18000 Steps) (loss=0.32870): 100%|██████████| 20/20 [00:15<00:00,  1.31it/s]\n",
      "Training (8159 / 18000 Steps) (loss=0.34679): 100%|██████████| 20/20 [00:15<00:00,  1.31it/s]\n",
      "Training (8179 / 18000 Steps) (loss=0.54738): 100%|██████████| 20/20 [00:15<00:00,  1.31it/s]\n",
      "Training (8199 / 18000 Steps) (loss=0.45001): 100%|██████████| 20/20 [00:15<00:00,  1.30it/s]\n",
      "Validate (8200 / 10 Steps): 100%|██████████| 8/8 [00:13<00:00,  1.63s/it]6<?, ?it/s]\n",
      "Training (8200 / 18000 Steps) (loss=0.60998):   5%|▌         | 1/20 [00:19<06:08, 19.41s/it]"
     ]
    },
    {
     "name": "stdout",
     "output_type": "stream",
     "text": [
      "Model Was Not Saved ! Current Best Avg. Dice: 0.6012189388275146 Current Avg. Dice: 0.5513500571250916 Current Avg. tumor Dice: 0.6654461026191711 Current Avg. lymph Dice: 0.3967530429363251\n"
     ]
    },
    {
     "name": "stderr",
     "output_type": "stream",
     "text": [
      "Training (8219 / 18000 Steps) (loss=0.57655): 100%|██████████| 20/20 [00:26<00:00,  1.32s/it]\n",
      "Training (8239 / 18000 Steps) (loss=0.37054): 100%|██████████| 20/20 [00:15<00:00,  1.28it/s]\n",
      "Training (8259 / 18000 Steps) (loss=0.48842): 100%|██████████| 20/20 [00:15<00:00,  1.32it/s]\n",
      "Training (8279 / 18000 Steps) (loss=0.35456): 100%|██████████| 20/20 [00:15<00:00,  1.28it/s]\n",
      "Training (8299 / 18000 Steps) (loss=0.48426): 100%|██████████| 20/20 [00:16<00:00,  1.24it/s]\n",
      "Validate (8300 / 10 Steps): 100%|██████████| 8/8 [00:12<00:00,  1.61s/it]6<?, ?it/s]\n",
      "Training (8300 / 18000 Steps) (loss=0.46996):   5%|▌         | 1/20 [00:18<06:00, 18.97s/it]"
     ]
    },
    {
     "name": "stdout",
     "output_type": "stream",
     "text": [
      "Model Was Not Saved ! Current Best Avg. Dice: 0.6012189388275146 Current Avg. Dice: 0.6001959443092346 Current Avg. tumor Dice: 0.7224988341331482 Current Avg. lymph Dice: 0.4449560046195984\n"
     ]
    },
    {
     "name": "stderr",
     "output_type": "stream",
     "text": [
      "Training (8319 / 18000 Steps) (loss=0.58698): 100%|██████████| 20/20 [00:26<00:00,  1.30s/it]\n",
      "Training (8339 / 18000 Steps) (loss=0.77081): 100%|██████████| 20/20 [00:15<00:00,  1.26it/s]\n",
      "Training (8359 / 18000 Steps) (loss=0.51664): 100%|██████████| 20/20 [00:14<00:00,  1.36it/s]\n",
      "Training (8379 / 18000 Steps) (loss=0.47904): 100%|██████████| 20/20 [00:15<00:00,  1.27it/s]\n",
      "Training (8399 / 18000 Steps) (loss=0.38545): 100%|██████████| 20/20 [00:15<00:00,  1.30it/s]\n",
      "Validate (8400 / 10 Steps): 100%|██████████| 8/8 [00:13<00:00,  1.66s/it]5<?, ?it/s]\n",
      "Training (8400 / 18000 Steps) (loss=0.44692):   5%|▌         | 1/20 [00:19<06:01, 19.02s/it]"
     ]
    },
    {
     "name": "stdout",
     "output_type": "stream",
     "text": [
      "Model Was Not Saved ! Current Best Avg. Dice: 0.6012189388275146 Current Avg. Dice: 0.5959486365318298 Current Avg. tumor Dice: 0.721676766872406 Current Avg. lymph Dice: 0.4331212639808655\n"
     ]
    },
    {
     "name": "stderr",
     "output_type": "stream",
     "text": [
      "Training (8419 / 18000 Steps) (loss=0.38696): 100%|██████████| 20/20 [00:26<00:00,  1.30s/it]\n",
      "Training (8439 / 18000 Steps) (loss=0.51216): 100%|██████████| 20/20 [00:15<00:00,  1.29it/s]\n",
      "Training (8459 / 18000 Steps) (loss=0.58518): 100%|██████████| 20/20 [00:15<00:00,  1.27it/s]\n",
      "Training (8479 / 18000 Steps) (loss=0.32929): 100%|██████████| 20/20 [00:14<00:00,  1.39it/s]\n",
      "Training (8499 / 18000 Steps) (loss=0.44829): 100%|██████████| 20/20 [00:16<00:00,  1.23it/s]\n",
      "Validate (8500 / 10 Steps): 100%|██████████| 8/8 [00:13<00:00,  1.63s/it]7<?, ?it/s]\n",
      "Training (8500 / 18000 Steps) (loss=0.42091):   5%|▌         | 1/20 [00:21<06:46, 21.38s/it]"
     ]
    },
    {
     "name": "stdout",
     "output_type": "stream",
     "text": [
      "Model Was Saved ! Current Best Avg. Dice: 0.6023834347724915 Current Avg. Dice: 0.6023834347724915 Current Avg. tumor Dice: 0.7162355780601501 Current Avg. lymph Dice: 0.45779862999916077\n"
     ]
    },
    {
     "name": "stderr",
     "output_type": "stream",
     "text": [
      "Training (8519 / 18000 Steps) (loss=0.57710): 100%|██████████| 20/20 [00:28<00:00,  1.42s/it]\n",
      "Training (8539 / 18000 Steps) (loss=0.67074): 100%|██████████| 20/20 [00:15<00:00,  1.29it/s]\n",
      "Training (8559 / 18000 Steps) (loss=0.31761): 100%|██████████| 20/20 [00:15<00:00,  1.31it/s]\n",
      "Training (8579 / 18000 Steps) (loss=0.57310): 100%|██████████| 20/20 [00:16<00:00,  1.25it/s]\n",
      "Training (8599 / 18000 Steps) (loss=0.25749): 100%|██████████| 20/20 [00:14<00:00,  1.39it/s]\n",
      "Validate (8600 / 10 Steps): 100%|██████████| 8/8 [00:13<00:00,  1.66s/it]5<?, ?it/s]\n",
      "Training (8600 / 18000 Steps) (loss=0.49327):   5%|▌         | 1/20 [00:18<05:55, 18.71s/it]"
     ]
    },
    {
     "name": "stdout",
     "output_type": "stream",
     "text": [
      "Model Was Not Saved ! Current Best Avg. Dice: 0.6023834347724915 Current Avg. Dice: 0.5948883295059204 Current Avg. tumor Dice: 0.7173123955726624 Current Avg. lymph Dice: 0.4347459375858307\n"
     ]
    },
    {
     "name": "stderr",
     "output_type": "stream",
     "text": [
      "Training (8619 / 18000 Steps) (loss=0.47776): 100%|██████████| 20/20 [00:25<00:00,  1.29s/it]\n",
      "Training (8639 / 18000 Steps) (loss=0.26893): 100%|██████████| 20/20 [00:15<00:00,  1.28it/s]\n",
      "Training (8659 / 18000 Steps) (loss=0.43621): 100%|██████████| 20/20 [00:15<00:00,  1.31it/s]\n",
      "Training (8679 / 18000 Steps) (loss=0.44561): 100%|██████████| 20/20 [00:14<00:00,  1.38it/s]\n",
      "Training (8699 / 18000 Steps) (loss=0.45336): 100%|██████████| 20/20 [00:15<00:00,  1.25it/s]\n",
      "Validate (8700 / 10 Steps): 100%|██████████| 8/8 [00:13<00:00,  1.63s/it]7<?, ?it/s]\n",
      "Training (8700 / 18000 Steps) (loss=0.42078):   5%|▌         | 1/20 [00:20<06:26, 20.37s/it]"
     ]
    },
    {
     "name": "stdout",
     "output_type": "stream",
     "text": [
      "Model Was Not Saved ! Current Best Avg. Dice: 0.6023834347724915 Current Avg. Dice: 0.583269476890564 Current Avg. tumor Dice: 0.720291256904602 Current Avg. lymph Dice: 0.4077482223510742\n"
     ]
    },
    {
     "name": "stderr",
     "output_type": "stream",
     "text": [
      "Training (8719 / 18000 Steps) (loss=0.49560): 100%|██████████| 20/20 [00:27<00:00,  1.37s/it]\n",
      "Training (8739 / 18000 Steps) (loss=0.56507): 100%|██████████| 20/20 [00:15<00:00,  1.28it/s]\n",
      "Training (8759 / 18000 Steps) (loss=0.57450): 100%|██████████| 20/20 [00:16<00:00,  1.24it/s]\n",
      "Training (8779 / 18000 Steps) (loss=0.65908): 100%|██████████| 20/20 [00:14<00:00,  1.35it/s]\n",
      "Training (8799 / 18000 Steps) (loss=0.47030): 100%|██████████| 20/20 [00:16<00:00,  1.24it/s]\n",
      "Validate (8800 / 10 Steps): 100%|██████████| 8/8 [00:13<00:00,  1.63s/it]5<?, ?it/s]\n",
      "Training (8800 / 18000 Steps) (loss=0.50852):   5%|▌         | 1/20 [00:18<05:45, 18.20s/it]"
     ]
    },
    {
     "name": "stdout",
     "output_type": "stream",
     "text": [
      "Model Was Not Saved ! Current Best Avg. Dice: 0.6023834347724915 Current Avg. Dice: 0.5864724516868591 Current Avg. tumor Dice: 0.6986429691314697 Current Avg. lymph Dice: 0.4390898048877716\n"
     ]
    },
    {
     "name": "stderr",
     "output_type": "stream",
     "text": [
      "Training (8819 / 18000 Steps) (loss=0.25318): 100%|██████████| 20/20 [00:25<00:00,  1.26s/it]\n",
      "Training (8839 / 18000 Steps) (loss=0.56551): 100%|██████████| 20/20 [00:14<00:00,  1.37it/s]\n",
      "Training (8859 / 18000 Steps) (loss=0.33390): 100%|██████████| 20/20 [00:15<00:00,  1.27it/s]\n",
      "Training (8879 / 18000 Steps) (loss=0.49528): 100%|██████████| 20/20 [00:14<00:00,  1.36it/s]\n",
      "Training (8899 / 18000 Steps) (loss=0.28319): 100%|██████████| 20/20 [00:15<00:00,  1.30it/s]\n",
      "Validate (8900 / 10 Steps): 100%|██████████| 8/8 [00:13<00:00,  1.66s/it]6<?, ?it/s]\n",
      "Training (8900 / 18000 Steps) (loss=0.43844):   5%|▌         | 1/20 [00:20<06:25, 20.31s/it]"
     ]
    },
    {
     "name": "stdout",
     "output_type": "stream",
     "text": [
      "Model Was Saved ! Current Best Avg. Dice: 0.6095545291900635 Current Avg. Dice: 0.6095545291900635 Current Avg. tumor Dice: 0.7386433482170105 Current Avg. lymph Dice: 0.4418020248413086\n"
     ]
    },
    {
     "name": "stderr",
     "output_type": "stream",
     "text": [
      "Training (8919 / 18000 Steps) (loss=0.54873): 100%|██████████| 20/20 [00:27<00:00,  1.37s/it]\n",
      "Training (8939 / 18000 Steps) (loss=0.50267): 100%|██████████| 20/20 [00:14<00:00,  1.41it/s]\n",
      "Training (8959 / 18000 Steps) (loss=0.45122): 100%|██████████| 20/20 [00:15<00:00,  1.27it/s]\n",
      "Training (8979 / 18000 Steps) (loss=0.33181): 100%|██████████| 20/20 [00:15<00:00,  1.32it/s]\n",
      "Training (8999 / 18000 Steps) (loss=0.35528): 100%|██████████| 20/20 [00:15<00:00,  1.27it/s]\n",
      "Validate (9000 / 10 Steps): 100%|██████████| 8/8 [00:13<00:00,  1.68s/it]6<?, ?it/s]\n",
      "Training (9000 / 18000 Steps) (loss=0.32070):   5%|▌         | 1/20 [00:20<06:36, 20.85s/it]"
     ]
    },
    {
     "name": "stdout",
     "output_type": "stream",
     "text": [
      "Model Was Saved ! Current Best Avg. Dice: 0.6154266595840454 Current Avg. Dice: 0.6154266595840454 Current Avg. tumor Dice: 0.7452554106712341 Current Avg. lymph Dice: 0.44898101687431335\n"
     ]
    },
    {
     "name": "stderr",
     "output_type": "stream",
     "text": [
      "Training (9019 / 18000 Steps) (loss=0.34812): 100%|██████████| 20/20 [00:27<00:00,  1.39s/it]\n",
      "Training (9039 / 18000 Steps) (loss=0.54860): 100%|██████████| 20/20 [00:15<00:00,  1.29it/s]\n",
      "Training (9059 / 18000 Steps) (loss=0.26635): 100%|██████████| 20/20 [00:14<00:00,  1.35it/s]\n",
      "Training (9079 / 18000 Steps) (loss=0.36491): 100%|██████████| 20/20 [00:14<00:00,  1.35it/s]\n",
      "Training (9099 / 18000 Steps) (loss=0.52385): 100%|██████████| 20/20 [00:16<00:00,  1.25it/s]\n",
      "Validate (9100 / 10 Steps): 100%|██████████| 8/8 [00:13<00:00,  1.63s/it]5<?, ?it/s]\n",
      "Training (9100 / 18000 Steps) (loss=0.43477):   5%|▌         | 1/20 [00:18<05:46, 18.21s/it]"
     ]
    },
    {
     "name": "stdout",
     "output_type": "stream",
     "text": [
      "Model Was Not Saved ! Current Best Avg. Dice: 0.6154266595840454 Current Avg. Dice: 0.6088542938232422 Current Avg. tumor Dice: 0.7223370671272278 Current Avg. lymph Dice: 0.46192100644111633\n"
     ]
    },
    {
     "name": "stderr",
     "output_type": "stream",
     "text": [
      "Training (9119 / 18000 Steps) (loss=0.57444): 100%|██████████| 20/20 [00:25<00:00,  1.27s/it]\n",
      "Training (9139 / 18000 Steps) (loss=0.56565): 100%|██████████| 20/20 [00:14<00:00,  1.39it/s]\n",
      "Training (9159 / 18000 Steps) (loss=0.36673): 100%|██████████| 20/20 [00:15<00:00,  1.31it/s]\n",
      "Training (9179 / 18000 Steps) (loss=0.52136): 100%|██████████| 20/20 [00:15<00:00,  1.33it/s]\n",
      "Training (9199 / 18000 Steps) (loss=0.47158): 100%|██████████| 20/20 [00:15<00:00,  1.27it/s]\n",
      "Validate (9200 / 10 Steps): 100%|██████████| 8/8 [00:13<00:00,  1.68s/it]6<?, ?it/s]\n",
      "Training (9200 / 18000 Steps) (loss=0.47517):   5%|▌         | 1/20 [00:20<06:22, 20.14s/it]"
     ]
    },
    {
     "name": "stdout",
     "output_type": "stream",
     "text": [
      "Model Was Not Saved ! Current Best Avg. Dice: 0.6154266595840454 Current Avg. Dice: 0.5897020697593689 Current Avg. tumor Dice: 0.6848164200782776 Current Avg. lymph Dice: 0.46058955788612366\n"
     ]
    },
    {
     "name": "stderr",
     "output_type": "stream",
     "text": [
      "Training (9219 / 18000 Steps) (loss=0.58020): 100%|██████████| 20/20 [00:27<00:00,  1.36s/it]\n",
      "Training (9239 / 18000 Steps) (loss=0.45410): 100%|██████████| 20/20 [00:14<00:00,  1.38it/s]\n",
      "Training (9259 / 18000 Steps) (loss=0.55716): 100%|██████████| 20/20 [00:15<00:00,  1.25it/s]\n",
      "Training (9279 / 18000 Steps) (loss=0.39167): 100%|██████████| 20/20 [00:14<00:00,  1.35it/s]\n",
      "Training (9299 / 18000 Steps) (loss=0.35126): 100%|██████████| 20/20 [00:15<00:00,  1.29it/s]\n",
      "Validate (9300 / 10 Steps): 100%|██████████| 8/8 [00:12<00:00,  1.60s/it]7<?, ?it/s]\n",
      "Training (9300 / 18000 Steps) (loss=0.43143):   5%|▌         | 1/20 [00:20<06:30, 20.56s/it]"
     ]
    },
    {
     "name": "stdout",
     "output_type": "stream",
     "text": [
      "Model Was Not Saved ! Current Best Avg. Dice: 0.6154266595840454 Current Avg. Dice: 0.5588855743408203 Current Avg. tumor Dice: 0.6978370547294617 Current Avg. lymph Dice: 0.3745945394039154\n"
     ]
    },
    {
     "name": "stderr",
     "output_type": "stream",
     "text": [
      "Training (9319 / 18000 Steps) (loss=0.51485): 100%|██████████| 20/20 [00:27<00:00,  1.38s/it]\n",
      "Training (9339 / 18000 Steps) (loss=0.51925): 100%|██████████| 20/20 [00:15<00:00,  1.28it/s]\n",
      "Training (9359 / 18000 Steps) (loss=0.62522): 100%|██████████| 20/20 [00:14<00:00,  1.35it/s]\n",
      "Training (9379 / 18000 Steps) (loss=0.21717): 100%|██████████| 20/20 [00:15<00:00,  1.25it/s]\n",
      "Training (9399 / 18000 Steps) (loss=0.25403): 100%|██████████| 20/20 [00:16<00:00,  1.25it/s]\n",
      "Validate (9400 / 10 Steps): 100%|██████████| 8/8 [00:13<00:00,  1.64s/it]5<?, ?it/s]\n",
      "Training (9400 / 18000 Steps) (loss=0.57215):   5%|▌         | 1/20 [00:18<05:59, 18.90s/it]"
     ]
    },
    {
     "name": "stdout",
     "output_type": "stream",
     "text": [
      "Model Was Not Saved ! Current Best Avg. Dice: 0.6154266595840454 Current Avg. Dice: 0.6099423766136169 Current Avg. tumor Dice: 0.7247570157051086 Current Avg. lymph Dice: 0.4600602686405182\n"
     ]
    },
    {
     "name": "stderr",
     "output_type": "stream",
     "text": [
      "Training (9419 / 18000 Steps) (loss=0.40817): 100%|██████████| 20/20 [00:25<00:00,  1.30s/it]\n",
      "Training (9439 / 18000 Steps) (loss=0.48850): 100%|██████████| 20/20 [00:15<00:00,  1.26it/s]\n",
      "Training (9459 / 18000 Steps) (loss=0.42321): 100%|██████████| 20/20 [00:15<00:00,  1.32it/s]\n",
      "Training (9479 / 18000 Steps) (loss=0.37935): 100%|██████████| 20/20 [00:15<00:00,  1.31it/s]\n",
      "Training (9499 / 18000 Steps) (loss=0.40674): 100%|██████████| 20/20 [00:15<00:00,  1.33it/s]\n",
      "Validate (9500 / 10 Steps): 100%|██████████| 8/8 [00:13<00:00,  1.66s/it]5<?, ?it/s]\n",
      "Training (9500 / 18000 Steps) (loss=0.44728):   5%|▌         | 1/20 [00:18<05:57, 18.80s/it]"
     ]
    },
    {
     "name": "stdout",
     "output_type": "stream",
     "text": [
      "Model Was Not Saved ! Current Best Avg. Dice: 0.6154266595840454 Current Avg. Dice: 0.5928119421005249 Current Avg. tumor Dice: 0.7187570333480835 Current Avg. lymph Dice: 0.4300600588321686\n"
     ]
    },
    {
     "name": "stderr",
     "output_type": "stream",
     "text": [
      "Training (9519 / 18000 Steps) (loss=0.33287): 100%|██████████| 20/20 [00:25<00:00,  1.29s/it]\n",
      "Training (9539 / 18000 Steps) (loss=0.28777): 100%|██████████| 20/20 [00:14<00:00,  1.41it/s]\n",
      "Training (9559 / 18000 Steps) (loss=0.44993): 100%|██████████| 20/20 [00:15<00:00,  1.27it/s]\n",
      "Training (9579 / 18000 Steps) (loss=0.57945): 100%|██████████| 20/20 [00:14<00:00,  1.34it/s]\n",
      "Training (9599 / 18000 Steps) (loss=0.56270): 100%|██████████| 20/20 [00:15<00:00,  1.25it/s]\n",
      "Validate (9600 / 10 Steps): 100%|██████████| 8/8 [00:12<00:00,  1.62s/it]5<?, ?it/s]\n",
      "Training (9600 / 18000 Steps) (loss=0.42913):   5%|▌         | 1/20 [00:18<05:55, 18.69s/it]"
     ]
    },
    {
     "name": "stdout",
     "output_type": "stream",
     "text": [
      "Model Was Not Saved ! Current Best Avg. Dice: 0.6154266595840454 Current Avg. Dice: 0.599223792552948 Current Avg. tumor Dice: 0.7145370244979858 Current Avg. lymph Dice: 0.4497336149215698\n"
     ]
    },
    {
     "name": "stderr",
     "output_type": "stream",
     "text": [
      "Training (9619 / 18000 Steps) (loss=0.47839): 100%|██████████| 20/20 [00:25<00:00,  1.29s/it]\n",
      "Training (9639 / 18000 Steps) (loss=0.14899): 100%|██████████| 20/20 [00:15<00:00,  1.31it/s]\n",
      "Training (9659 / 18000 Steps) (loss=0.34892): 100%|██████████| 20/20 [00:15<00:00,  1.31it/s]\n",
      "Training (9679 / 18000 Steps) (loss=0.29706): 100%|██████████| 20/20 [00:15<00:00,  1.30it/s]\n",
      "Training (9699 / 18000 Steps) (loss=0.35091): 100%|██████████| 20/20 [00:15<00:00,  1.27it/s]\n",
      "Validate (9700 / 10 Steps): 100%|██████████| 8/8 [00:13<00:00,  1.64s/it]6<?, ?it/s]\n",
      "Training (9700 / 18000 Steps) (loss=0.47870):   5%|▌         | 1/20 [00:19<06:11, 19.57s/it]"
     ]
    },
    {
     "name": "stdout",
     "output_type": "stream",
     "text": [
      "Model Was Not Saved ! Current Best Avg. Dice: 0.6154266595840454 Current Avg. Dice: 0.5747206211090088 Current Avg. tumor Dice: 0.6774154305458069 Current Avg. lymph Dice: 0.43626248836517334\n"
     ]
    },
    {
     "name": "stderr",
     "output_type": "stream",
     "text": [
      "Training (9719 / 18000 Steps) (loss=0.47590): 100%|██████████| 20/20 [00:26<00:00,  1.33s/it]\n",
      "Training (9739 / 18000 Steps) (loss=0.41554): 100%|██████████| 20/20 [00:15<00:00,  1.31it/s]\n",
      "Training (9759 / 18000 Steps) (loss=0.21966): 100%|██████████| 20/20 [00:15<00:00,  1.26it/s]\n",
      "Training (9779 / 18000 Steps) (loss=0.42411): 100%|██████████| 20/20 [00:14<00:00,  1.34it/s]\n",
      "Training (9799 / 18000 Steps) (loss=0.58179): 100%|██████████| 20/20 [00:15<00:00,  1.31it/s]\n",
      "Validate (9800 / 10 Steps): 100%|██████████| 8/8 [00:13<00:00,  1.63s/it]5<?, ?it/s]\n",
      "Training (9800 / 18000 Steps) (loss=0.52271):   5%|▌         | 1/20 [00:18<05:55, 18.69s/it]"
     ]
    },
    {
     "name": "stdout",
     "output_type": "stream",
     "text": [
      "Model Was Not Saved ! Current Best Avg. Dice: 0.6154266595840454 Current Avg. Dice: 0.6069974303245544 Current Avg. tumor Dice: 0.7393619418144226 Current Avg. lymph Dice: 0.4386114776134491\n"
     ]
    },
    {
     "name": "stderr",
     "output_type": "stream",
     "text": [
      "Training (9819 / 18000 Steps) (loss=0.41112): 100%|██████████| 20/20 [00:25<00:00,  1.28s/it]\n",
      "Training (9839 / 18000 Steps) (loss=0.59384): 100%|██████████| 20/20 [00:14<00:00,  1.36it/s]\n",
      "Training (9859 / 18000 Steps) (loss=0.44598): 100%|██████████| 20/20 [00:15<00:00,  1.30it/s]\n",
      "Training (9879 / 18000 Steps) (loss=0.33159): 100%|██████████| 20/20 [00:15<00:00,  1.33it/s]\n",
      "Training (9899 / 18000 Steps) (loss=0.35317): 100%|██████████| 20/20 [00:14<00:00,  1.36it/s]\n",
      "Validate (9900 / 10 Steps): 100%|██████████| 8/8 [00:13<00:00,  1.65s/it]5<?, ?it/s]\n",
      "Training (9900 / 18000 Steps) (loss=0.47983):   5%|▌         | 1/20 [00:19<06:08, 19.38s/it]"
     ]
    },
    {
     "name": "stdout",
     "output_type": "stream",
     "text": [
      "Model Was Saved ! Current Best Avg. Dice: 0.621103048324585 Current Avg. Dice: 0.621103048324585 Current Avg. tumor Dice: 0.7238271236419678 Current Avg. lymph Dice: 0.49039795994758606\n"
     ]
    },
    {
     "name": "stderr",
     "output_type": "stream",
     "text": [
      "Training (9919 / 18000 Steps) (loss=0.48954): 100%|██████████| 20/20 [00:26<00:00,  1.32s/it]\n",
      "Training (9939 / 18000 Steps) (loss=0.48667): 100%|██████████| 20/20 [00:15<00:00,  1.31it/s]\n",
      "Training (9959 / 18000 Steps) (loss=0.84743): 100%|██████████| 20/20 [00:15<00:00,  1.31it/s]\n",
      "Training (9979 / 18000 Steps) (loss=0.60349): 100%|██████████| 20/20 [00:15<00:00,  1.28it/s]\n",
      "Training (9999 / 18000 Steps) (loss=0.52703): 100%|██████████| 20/20 [00:15<00:00,  1.33it/s]\n",
      "Validate (10000 / 10 Steps): 100%|██████████| 8/8 [00:12<00:00,  1.62s/it]6<?, ?it/s]\n",
      "Training (10000 / 18000 Steps) (loss=0.43935):   5%|▌         | 1/20 [00:20<06:21, 20.05s/it]"
     ]
    },
    {
     "name": "stdout",
     "output_type": "stream",
     "text": [
      "Model Was Not Saved ! Current Best Avg. Dice: 0.621103048324585 Current Avg. Dice: 0.5995886325836182 Current Avg. tumor Dice: 0.7039450407028198 Current Avg. lymph Dice: 0.4669869542121887\n"
     ]
    },
    {
     "name": "stderr",
     "output_type": "stream",
     "text": [
      "Training (10019 / 18000 Steps) (loss=0.45180): 100%|██████████| 20/20 [00:27<00:00,  1.35s/it]\n",
      "Training (10039 / 18000 Steps) (loss=0.56864): 100%|██████████| 20/20 [00:15<00:00,  1.30it/s]\n",
      "Training (10059 / 18000 Steps) (loss=0.42109): 100%|██████████| 20/20 [00:15<00:00,  1.31it/s]\n",
      "Training (10079 / 18000 Steps) (loss=0.53112): 100%|██████████| 20/20 [00:15<00:00,  1.31it/s]\n",
      "Training (10099 / 18000 Steps) (loss=0.52488): 100%|██████████| 20/20 [00:13<00:00,  1.44it/s]\n",
      "Validate (10100 / 10 Steps): 100%|██████████| 8/8 [00:13<00:00,  1.63s/it]6<?, ?it/s]\n",
      "Training (10100 / 18000 Steps) (loss=0.43391):   5%|▌         | 1/20 [00:19<06:11, 19.53s/it]"
     ]
    },
    {
     "name": "stdout",
     "output_type": "stream",
     "text": [
      "Model Was Not Saved ! Current Best Avg. Dice: 0.621103048324585 Current Avg. Dice: 0.5819110870361328 Current Avg. tumor Dice: 0.69388747215271 Current Avg. lymph Dice: 0.4374159574508667\n"
     ]
    },
    {
     "name": "stderr",
     "output_type": "stream",
     "text": [
      "Training (10119 / 18000 Steps) (loss=0.41788): 100%|██████████| 20/20 [00:26<00:00,  1.33s/it]\n",
      "Training (10139 / 18000 Steps) (loss=0.55810): 100%|██████████| 20/20 [00:15<00:00,  1.25it/s]\n",
      "Training (10159 / 18000 Steps) (loss=0.64522): 100%|██████████| 20/20 [00:15<00:00,  1.28it/s]\n",
      "Training (10179 / 18000 Steps) (loss=0.28901): 100%|██████████| 20/20 [00:15<00:00,  1.27it/s]\n",
      "Training (10199 / 18000 Steps) (loss=0.31032): 100%|██████████| 20/20 [00:14<00:00,  1.36it/s]\n",
      "Validate (10200 / 10 Steps): 100%|██████████| 8/8 [00:13<00:00,  1.63s/it]6<?, ?it/s]\n",
      "Training (10200 / 18000 Steps) (loss=0.35536):   5%|▌         | 1/20 [00:19<06:14, 19.70s/it]"
     ]
    },
    {
     "name": "stdout",
     "output_type": "stream",
     "text": [
      "Model Was Not Saved ! Current Best Avg. Dice: 0.621103048324585 Current Avg. Dice: 0.6109428405761719 Current Avg. tumor Dice: 0.7116835117340088 Current Avg. lymph Dice: 0.47862115502357483\n"
     ]
    },
    {
     "name": "stderr",
     "output_type": "stream",
     "text": [
      "Training (10219 / 18000 Steps) (loss=0.53639): 100%|██████████| 20/20 [00:26<00:00,  1.34s/it]\n",
      "Training (10239 / 18000 Steps) (loss=0.35278): 100%|██████████| 20/20 [00:14<00:00,  1.33it/s]\n",
      "Training (10259 / 18000 Steps) (loss=0.37296): 100%|██████████| 20/20 [00:15<00:00,  1.32it/s]\n",
      "Training (10279 / 18000 Steps) (loss=0.55550): 100%|██████████| 20/20 [00:15<00:00,  1.32it/s]\n",
      "Training (10299 / 18000 Steps) (loss=0.45270): 100%|██████████| 20/20 [00:15<00:00,  1.30it/s]\n",
      "Validate (10300 / 10 Steps): 100%|██████████| 8/8 [00:12<00:00,  1.62s/it]5<?, ?it/s]\n",
      "Training (10300 / 18000 Steps) (loss=0.40898):   5%|▌         | 1/20 [00:18<05:46, 18.25s/it]"
     ]
    },
    {
     "name": "stdout",
     "output_type": "stream",
     "text": [
      "Model Was Not Saved ! Current Best Avg. Dice: 0.621103048324585 Current Avg. Dice: 0.5640414953231812 Current Avg. tumor Dice: 0.6387208104133606 Current Avg. lymph Dice: 0.4599887728691101\n"
     ]
    },
    {
     "name": "stderr",
     "output_type": "stream",
     "text": [
      "Training (10319 / 18000 Steps) (loss=0.55965): 100%|██████████| 20/20 [00:25<00:00,  1.26s/it]\n",
      "Training (10339 / 18000 Steps) (loss=0.20915): 100%|██████████| 20/20 [00:15<00:00,  1.30it/s]\n",
      "Training (10359 / 18000 Steps) (loss=0.52529): 100%|██████████| 20/20 [00:14<00:00,  1.43it/s]\n",
      "Training (10379 / 18000 Steps) (loss=0.29136): 100%|██████████| 20/20 [00:16<00:00,  1.23it/s]\n",
      "Training (10399 / 18000 Steps) (loss=0.50122): 100%|██████████| 20/20 [00:15<00:00,  1.29it/s]\n",
      "Validate (10400 / 10 Steps): 100%|██████████| 8/8 [00:13<00:00,  1.65s/it]5<?, ?it/s]\n",
      "Training (10400 / 18000 Steps) (loss=0.48542):   5%|▌         | 1/20 [00:18<05:49, 18.40s/it]"
     ]
    },
    {
     "name": "stdout",
     "output_type": "stream",
     "text": [
      "Model Was Not Saved ! Current Best Avg. Dice: 0.621103048324585 Current Avg. Dice: 0.591899037361145 Current Avg. tumor Dice: 0.706809401512146 Current Avg. lymph Dice: 0.43930038809776306\n"
     ]
    },
    {
     "name": "stderr",
     "output_type": "stream",
     "text": [
      "Training (10419 / 18000 Steps) (loss=0.40475): 100%|██████████| 20/20 [00:25<00:00,  1.27s/it]\n",
      "Training (10439 / 18000 Steps) (loss=0.67313): 100%|██████████| 20/20 [00:14<00:00,  1.36it/s]\n",
      "Training (10459 / 18000 Steps) (loss=0.40456): 100%|██████████| 20/20 [00:15<00:00,  1.32it/s]\n",
      "Training (10479 / 18000 Steps) (loss=0.36273): 100%|██████████| 20/20 [00:16<00:00,  1.21it/s]\n",
      "Training (10499 / 18000 Steps) (loss=0.36884): 100%|██████████| 20/20 [00:16<00:00,  1.24it/s]\n",
      "Validate (10500 / 10 Steps): 100%|██████████| 8/8 [00:12<00:00,  1.59s/it]8<?, ?it/s]\n",
      "Training (10500 / 18000 Steps) (loss=0.22524):   5%|▌         | 1/20 [00:21<06:41, 21.14s/it]"
     ]
    },
    {
     "name": "stdout",
     "output_type": "stream",
     "text": [
      "Model Was Not Saved ! Current Best Avg. Dice: 0.621103048324585 Current Avg. Dice: 0.608542799949646 Current Avg. tumor Dice: 0.7245540618896484 Current Avg. lymph Dice: 0.45611482858657837\n"
     ]
    },
    {
     "name": "stderr",
     "output_type": "stream",
     "text": [
      "Training (10519 / 18000 Steps) (loss=0.33058): 100%|██████████| 20/20 [00:28<00:00,  1.41s/it]\n",
      "Training (10539 / 18000 Steps) (loss=0.52702): 100%|██████████| 20/20 [00:15<00:00,  1.26it/s]\n",
      "Training (10559 / 18000 Steps) (loss=0.46319): 100%|██████████| 20/20 [00:15<00:00,  1.31it/s]\n",
      "Training (10579 / 18000 Steps) (loss=0.16263): 100%|██████████| 20/20 [00:14<00:00,  1.35it/s]\n",
      "Training (10599 / 18000 Steps) (loss=0.36846): 100%|██████████| 20/20 [00:15<00:00,  1.29it/s]\n",
      "Validate (10600 / 10 Steps): 100%|██████████| 8/8 [00:12<00:00,  1.61s/it]5<?, ?it/s]\n",
      "Training (10600 / 18000 Steps) (loss=0.38652):   5%|▌         | 1/20 [00:18<05:58, 18.87s/it]"
     ]
    },
    {
     "name": "stdout",
     "output_type": "stream",
     "text": [
      "Model Was Not Saved ! Current Best Avg. Dice: 0.621103048324585 Current Avg. Dice: 0.5963152647018433 Current Avg. tumor Dice: 0.6860658526420593 Current Avg. lymph Dice: 0.4739416539669037\n"
     ]
    },
    {
     "name": "stderr",
     "output_type": "stream",
     "text": [
      "Training (10619 / 18000 Steps) (loss=0.54970): 100%|██████████| 20/20 [00:25<00:00,  1.30s/it]\n",
      "Training (10639 / 18000 Steps) (loss=0.40381): 100%|██████████| 20/20 [00:15<00:00,  1.25it/s]\n",
      "Training (10659 / 18000 Steps) (loss=0.46186): 100%|██████████| 20/20 [00:15<00:00,  1.29it/s]\n",
      "Training (10679 / 18000 Steps) (loss=0.28745): 100%|██████████| 20/20 [00:15<00:00,  1.30it/s]\n",
      "Training (10699 / 18000 Steps) (loss=0.42059): 100%|██████████| 20/20 [00:16<00:00,  1.25it/s]\n",
      "Validate (10700 / 10 Steps): 100%|██████████| 8/8 [00:13<00:00,  1.63s/it]7<?, ?it/s]\n",
      "Training (10700 / 18000 Steps) (loss=0.36330):   5%|▌         | 1/20 [00:20<06:38, 20.96s/it]"
     ]
    },
    {
     "name": "stdout",
     "output_type": "stream",
     "text": [
      "Model Was Not Saved ! Current Best Avg. Dice: 0.621103048324585 Current Avg. Dice: 0.5953304171562195 Current Avg. tumor Dice: 0.6918254494667053 Current Avg. lymph Dice: 0.46529003977775574\n"
     ]
    },
    {
     "name": "stderr",
     "output_type": "stream",
     "text": [
      "Training (10719 / 18000 Steps) (loss=0.52837): 100%|██████████| 20/20 [00:27<00:00,  1.40s/it]\n",
      "Training (10739 / 18000 Steps) (loss=0.46798): 100%|██████████| 20/20 [00:15<00:00,  1.32it/s]\n",
      "Training (10759 / 18000 Steps) (loss=0.53967): 100%|██████████| 20/20 [00:15<00:00,  1.29it/s]\n",
      "Training (10779 / 18000 Steps) (loss=0.64399): 100%|██████████| 20/20 [00:15<00:00,  1.32it/s]\n",
      "Training (10799 / 18000 Steps) (loss=0.45304): 100%|██████████| 20/20 [00:14<00:00,  1.36it/s]\n",
      "Validate (10800 / 10 Steps): 100%|██████████| 8/8 [00:13<00:00,  1.64s/it]7<?, ?it/s]\n",
      "Training (10800 / 18000 Steps) (loss=0.46582):   5%|▌         | 1/20 [00:20<06:26, 20.34s/it]"
     ]
    },
    {
     "name": "stdout",
     "output_type": "stream",
     "text": [
      "Model Was Not Saved ! Current Best Avg. Dice: 0.621103048324585 Current Avg. Dice: 0.5670408606529236 Current Avg. tumor Dice: 0.660932719707489 Current Avg. lymph Dice: 0.44240203499794006\n"
     ]
    },
    {
     "name": "stderr",
     "output_type": "stream",
     "text": [
      "Training (10819 / 18000 Steps) (loss=0.45039): 100%|██████████| 20/20 [00:27<00:00,  1.37s/it]\n",
      "Training (10839 / 18000 Steps) (loss=0.28228): 100%|██████████| 20/20 [00:15<00:00,  1.27it/s]\n",
      "Training (10859 / 18000 Steps) (loss=0.59862): 100%|██████████| 20/20 [00:16<00:00,  1.25it/s]\n",
      "Training (10879 / 18000 Steps) (loss=0.41978): 100%|██████████| 20/20 [00:14<00:00,  1.34it/s]\n",
      "Training (10899 / 18000 Steps) (loss=0.52507): 100%|██████████| 20/20 [00:15<00:00,  1.31it/s]\n",
      "Validate (10900 / 10 Steps): 100%|██████████| 8/8 [00:13<00:00,  1.66s/it]5<?, ?it/s]\n",
      "Training (10900 / 18000 Steps) (loss=0.60925):   5%|▌         | 1/20 [00:18<05:50, 18.46s/it]"
     ]
    },
    {
     "name": "stdout",
     "output_type": "stream",
     "text": [
      "Model Was Not Saved ! Current Best Avg. Dice: 0.621103048324585 Current Avg. Dice: 0.5853580832481384 Current Avg. tumor Dice: 0.7069882154464722 Current Avg. lymph Dice: 0.42794373631477356\n"
     ]
    },
    {
     "name": "stderr",
     "output_type": "stream",
     "text": [
      "Training (10919 / 18000 Steps) (loss=0.66967): 100%|██████████| 20/20 [00:25<00:00,  1.27s/it]\n",
      "Training (10939 / 18000 Steps) (loss=0.36290): 100%|██████████| 20/20 [00:15<00:00,  1.32it/s]\n",
      "Training (10959 / 18000 Steps) (loss=0.39771): 100%|██████████| 20/20 [00:15<00:00,  1.30it/s]\n",
      "Training (10979 / 18000 Steps) (loss=0.33126): 100%|██████████| 20/20 [00:14<00:00,  1.34it/s]\n",
      "Training (10999 / 18000 Steps) (loss=0.42909): 100%|██████████| 20/20 [00:14<00:00,  1.34it/s]\n",
      "Validate (11000 / 10 Steps): 100%|██████████| 8/8 [00:13<00:00,  1.66s/it]5<?, ?it/s]\n",
      "Training (11000 / 18000 Steps) (loss=0.32496):   5%|▌         | 1/20 [00:19<06:01, 19.03s/it]"
     ]
    },
    {
     "name": "stdout",
     "output_type": "stream",
     "text": [
      "Model Was Not Saved ! Current Best Avg. Dice: 0.621103048324585 Current Avg. Dice: 0.5750969052314758 Current Avg. tumor Dice: 0.6716841459274292 Current Avg. lymph Dice: 0.444344162940979\n"
     ]
    },
    {
     "name": "stderr",
     "output_type": "stream",
     "text": [
      "Training (11019 / 18000 Steps) (loss=0.32258): 100%|██████████| 20/20 [00:26<00:00,  1.30s/it]\n",
      "Training (11039 / 18000 Steps) (loss=0.33614): 100%|██████████| 20/20 [00:15<00:00,  1.27it/s]\n",
      "Training (11059 / 18000 Steps) (loss=0.44208): 100%|██████████| 20/20 [00:16<00:00,  1.25it/s]\n",
      "Training (11079 / 18000 Steps) (loss=0.53503): 100%|██████████| 20/20 [00:15<00:00,  1.32it/s]\n",
      "Training (11099 / 18000 Steps) (loss=0.43754): 100%|██████████| 20/20 [00:15<00:00,  1.27it/s]\n",
      "Validate (11100 / 10 Steps): 100%|██████████| 8/8 [00:13<00:00,  1.65s/it]6<?, ?it/s]\n",
      "Training (11100 / 18000 Steps) (loss=0.45100):   5%|▌         | 1/20 [00:20<06:25, 20.28s/it]"
     ]
    },
    {
     "name": "stdout",
     "output_type": "stream",
     "text": [
      "Model Was Saved ! Current Best Avg. Dice: 0.6218541860580444 Current Avg. Dice: 0.6218541860580444 Current Avg. tumor Dice: 0.732919454574585 Current Avg. lymph Dice: 0.4768538475036621\n"
     ]
    },
    {
     "name": "stderr",
     "output_type": "stream",
     "text": [
      "Training (11119 / 18000 Steps) (loss=0.26530): 100%|██████████| 20/20 [00:27<00:00,  1.36s/it]\n",
      "Training (11139 / 18000 Steps) (loss=0.28033): 100%|██████████| 20/20 [00:16<00:00,  1.23it/s]\n",
      "Training (11159 / 18000 Steps) (loss=0.42644): 100%|██████████| 20/20 [00:15<00:00,  1.28it/s]\n",
      "Training (11179 / 18000 Steps) (loss=0.30110): 100%|██████████| 20/20 [00:14<00:00,  1.35it/s]\n",
      "Training (11199 / 18000 Steps) (loss=0.46126): 100%|██████████| 20/20 [00:15<00:00,  1.28it/s]\n",
      "Validate (11200 / 10 Steps): 100%|██████████| 8/8 [00:13<00:00,  1.63s/it]6<?, ?it/s]\n",
      "Training (11200 / 18000 Steps) (loss=0.53696):   5%|▌         | 1/20 [00:20<06:24, 20.24s/it]"
     ]
    },
    {
     "name": "stdout",
     "output_type": "stream",
     "text": [
      "Model Was Saved ! Current Best Avg. Dice: 0.6230583190917969 Current Avg. Dice: 0.6230583190917969 Current Avg. tumor Dice: 0.7400274276733398 Current Avg. lymph Dice: 0.4757906198501587\n"
     ]
    },
    {
     "name": "stderr",
     "output_type": "stream",
     "text": [
      "Training (11219 / 18000 Steps) (loss=0.41451): 100%|██████████| 20/20 [00:27<00:00,  1.36s/it]\n",
      "Training (11239 / 18000 Steps) (loss=0.53488): 100%|██████████| 20/20 [00:14<00:00,  1.35it/s]\n",
      "Training (11259 / 18000 Steps) (loss=0.45327): 100%|██████████| 20/20 [00:15<00:00,  1.28it/s]\n",
      "Training (11279 / 18000 Steps) (loss=0.35842): 100%|██████████| 20/20 [00:15<00:00,  1.25it/s]\n",
      "Training (11299 / 18000 Steps) (loss=0.28172): 100%|██████████| 20/20 [00:14<00:00,  1.37it/s]\n",
      "Validate (11300 / 10 Steps): 100%|██████████| 8/8 [00:12<00:00,  1.60s/it]8<?, ?it/s]\n",
      "Training (11300 / 18000 Steps) (loss=0.46503):   5%|▌         | 1/20 [00:20<06:38, 20.95s/it]"
     ]
    },
    {
     "name": "stdout",
     "output_type": "stream",
     "text": [
      "Model Was Not Saved ! Current Best Avg. Dice: 0.6230583190917969 Current Avg. Dice: 0.5724763870239258 Current Avg. tumor Dice: 0.6692472100257874 Current Avg. lymph Dice: 0.4385131001472473\n"
     ]
    },
    {
     "name": "stderr",
     "output_type": "stream",
     "text": [
      "Training (11319 / 18000 Steps) (loss=0.60294): 100%|██████████| 20/20 [00:27<00:00,  1.40s/it]\n",
      "Training (11339 / 18000 Steps) (loss=0.49605): 100%|██████████| 20/20 [00:15<00:00,  1.33it/s]\n",
      "Training (11359 / 18000 Steps) (loss=0.36123): 100%|██████████| 20/20 [00:15<00:00,  1.25it/s]\n",
      "Training (11379 / 18000 Steps) (loss=0.29697): 100%|██████████| 20/20 [00:14<00:00,  1.38it/s]\n",
      "Training (11399 / 18000 Steps) (loss=0.60601): 100%|██████████| 20/20 [00:15<00:00,  1.31it/s]\n",
      "Validate (11400 / 10 Steps): 100%|██████████| 8/8 [00:12<00:00,  1.60s/it]5<?, ?it/s]\n",
      "Training (11400 / 18000 Steps) (loss=0.44731):   5%|▌         | 1/20 [00:18<05:43, 18.08s/it]"
     ]
    },
    {
     "name": "stdout",
     "output_type": "stream",
     "text": [
      "Model Was Not Saved ! Current Best Avg. Dice: 0.6230583190917969 Current Avg. Dice: 0.5876085758209229 Current Avg. tumor Dice: 0.7024429440498352 Current Avg. lymph Dice: 0.43801644444465637\n"
     ]
    },
    {
     "name": "stderr",
     "output_type": "stream",
     "text": [
      "Training (11419 / 18000 Steps) (loss=0.33479): 100%|██████████| 20/20 [00:25<00:00,  1.26s/it]\n",
      "Training (11439 / 18000 Steps) (loss=0.22954): 100%|██████████| 20/20 [00:15<00:00,  1.29it/s]\n",
      "Training (11459 / 18000 Steps) (loss=0.50232): 100%|██████████| 20/20 [00:15<00:00,  1.28it/s]\n",
      "Training (11479 / 18000 Steps) (loss=0.57772): 100%|██████████| 20/20 [00:15<00:00,  1.26it/s]\n",
      "Training (11499 / 18000 Steps) (loss=0.30322): 100%|██████████| 20/20 [00:15<00:00,  1.30it/s]\n",
      "Validate (11500 / 10 Steps): 100%|██████████| 8/8 [00:13<00:00,  1.65s/it]6<?, ?it/s]\n",
      "Training (11500 / 18000 Steps) (loss=0.41531):   5%|▌         | 1/20 [00:19<06:07, 19.32s/it]"
     ]
    },
    {
     "name": "stdout",
     "output_type": "stream",
     "text": [
      "Model Was Not Saved ! Current Best Avg. Dice: 0.6230583190917969 Current Avg. Dice: 0.58489990234375 Current Avg. tumor Dice: 0.7009503841400146 Current Avg. lymph Dice: 0.4448418915271759\n"
     ]
    },
    {
     "name": "stderr",
     "output_type": "stream",
     "text": [
      "Training (11519 / 18000 Steps) (loss=0.36574): 100%|██████████| 20/20 [00:26<00:00,  1.32s/it]\n",
      "Training (11539 / 18000 Steps) (loss=0.57248): 100%|██████████| 20/20 [00:14<00:00,  1.36it/s]\n",
      "Training (11559 / 18000 Steps) (loss=0.35363): 100%|██████████| 20/20 [00:14<00:00,  1.35it/s]\n",
      "Training (11579 / 18000 Steps) (loss=0.55618): 100%|██████████| 20/20 [00:14<00:00,  1.34it/s]\n",
      "Training (11599 / 18000 Steps) (loss=0.32034): 100%|██████████| 20/20 [00:15<00:00,  1.33it/s]\n",
      "Validate (11600 / 10 Steps): 100%|██████████| 8/8 [00:13<00:00,  1.66s/it]5<?, ?it/s]\n",
      "Training (11600 / 18000 Steps) (loss=0.42798):   5%|▌         | 1/20 [00:19<06:02, 19.06s/it]"
     ]
    },
    {
     "name": "stdout",
     "output_type": "stream",
     "text": [
      "Model Was Not Saved ! Current Best Avg. Dice: 0.6230583190917969 Current Avg. Dice: 0.5995191335678101 Current Avg. tumor Dice: 0.7106173634529114 Current Avg. lymph Dice: 0.45485547184944153\n"
     ]
    },
    {
     "name": "stderr",
     "output_type": "stream",
     "text": [
      "Training (11619 / 18000 Steps) (loss=0.37872): 100%|██████████| 20/20 [00:26<00:00,  1.30s/it]\n",
      "Training (11639 / 18000 Steps) (loss=0.27244): 100%|██████████| 20/20 [00:15<00:00,  1.29it/s]\n",
      "Training (11659 / 18000 Steps) (loss=0.63930): 100%|██████████| 20/20 [00:15<00:00,  1.27it/s]\n",
      "Training (11679 / 18000 Steps) (loss=0.58239): 100%|██████████| 20/20 [00:15<00:00,  1.33it/s]\n",
      "Training (11699 / 18000 Steps) (loss=0.43271): 100%|██████████| 20/20 [00:14<00:00,  1.35it/s]\n",
      "Validate (11700 / 10 Steps): 100%|██████████| 8/8 [00:13<00:00,  1.63s/it]5<?, ?it/s]\n",
      "Training (11700 / 18000 Steps) (loss=0.32399):   5%|▌         | 1/20 [00:18<05:55, 18.73s/it]"
     ]
    },
    {
     "name": "stdout",
     "output_type": "stream",
     "text": [
      "Model Was Not Saved ! Current Best Avg. Dice: 0.6230583190917969 Current Avg. Dice: 0.5898807644844055 Current Avg. tumor Dice: 0.7188746333122253 Current Avg. lymph Dice: 0.4213164746761322\n"
     ]
    },
    {
     "name": "stderr",
     "output_type": "stream",
     "text": [
      "Training (11719 / 18000 Steps) (loss=0.28640): 100%|██████████| 20/20 [00:25<00:00,  1.29s/it]\n",
      "Training (11739 / 18000 Steps) (loss=0.65106): 100%|██████████| 20/20 [00:16<00:00,  1.21it/s]\n",
      "Training (11759 / 18000 Steps) (loss=0.44235): 100%|██████████| 20/20 [00:15<00:00,  1.27it/s]\n",
      "Training (11779 / 18000 Steps) (loss=0.50665): 100%|██████████| 20/20 [00:15<00:00,  1.30it/s]\n",
      "Training (11799 / 18000 Steps) (loss=0.24065): 100%|██████████| 20/20 [00:14<00:00,  1.35it/s]\n",
      "Validate (11800 / 10 Steps): 100%|██████████| 8/8 [00:12<00:00,  1.61s/it]7<?, ?it/s]\n",
      "Training (11800 / 18000 Steps) (loss=0.32368):   5%|▌         | 1/20 [00:20<06:23, 20.21s/it]"
     ]
    },
    {
     "name": "stdout",
     "output_type": "stream",
     "text": [
      "Model Was Not Saved ! Current Best Avg. Dice: 0.6230583190917969 Current Avg. Dice: 0.5945116877555847 Current Avg. tumor Dice: 0.7023065686225891 Current Avg. lymph Dice: 0.46364644169807434\n"
     ]
    },
    {
     "name": "stderr",
     "output_type": "stream",
     "text": [
      "Training (11819 / 18000 Steps) (loss=0.53428): 100%|██████████| 20/20 [00:27<00:00,  1.36s/it]\n",
      "Training (11839 / 18000 Steps) (loss=0.39657): 100%|██████████| 20/20 [00:15<00:00,  1.26it/s]\n",
      "Training (11859 / 18000 Steps) (loss=0.42187): 100%|██████████| 20/20 [00:15<00:00,  1.27it/s]\n",
      "Training (11879 / 18000 Steps) (loss=0.44000): 100%|██████████| 20/20 [00:14<00:00,  1.34it/s]\n",
      "Training (11899 / 18000 Steps) (loss=0.39139): 100%|██████████| 20/20 [00:15<00:00,  1.32it/s]\n",
      "Validate (11900 / 10 Steps): 100%|██████████| 8/8 [00:13<00:00,  1.67s/it]5<?, ?it/s]\n",
      "Training (11900 / 18000 Steps) (loss=0.35935):   5%|▌         | 1/20 [00:19<06:07, 19.33s/it]"
     ]
    },
    {
     "name": "stdout",
     "output_type": "stream",
     "text": [
      "Model Was Not Saved ! Current Best Avg. Dice: 0.6230583190917969 Current Avg. Dice: 0.6076506972312927 Current Avg. tumor Dice: 0.701339840888977 Current Avg. lymph Dice: 0.4887494444847107\n"
     ]
    },
    {
     "name": "stderr",
     "output_type": "stream",
     "text": [
      "Training (11919 / 18000 Steps) (loss=0.34232): 100%|██████████| 20/20 [00:26<00:00,  1.32s/it]\n",
      "Training (11939 / 18000 Steps) (loss=0.54630): 100%|██████████| 20/20 [00:15<00:00,  1.27it/s]\n",
      "Training (11959 / 18000 Steps) (loss=0.41573): 100%|██████████| 20/20 [00:14<00:00,  1.33it/s]\n",
      "Training (11979 / 18000 Steps) (loss=0.54351): 100%|██████████| 20/20 [00:15<00:00,  1.28it/s]\n",
      "Training (11999 / 18000 Steps) (loss=0.41266): 100%|██████████| 20/20 [00:16<00:00,  1.23it/s]\n",
      "Validate (12000 / 10 Steps): 100%|██████████| 8/8 [00:12<00:00,  1.59s/it]8<?, ?it/s]\n",
      "Training (12000 / 18000 Steps) (loss=0.25828):   5%|▌         | 1/20 [00:21<06:49, 21.57s/it]"
     ]
    },
    {
     "name": "stdout",
     "output_type": "stream",
     "text": [
      "Model Was Saved ! Current Best Avg. Dice: 0.6273200511932373 Current Avg. Dice: 0.6273200511932373 Current Avg. tumor Dice: 0.7389351725578308 Current Avg. lymph Dice: 0.4903119206428528\n"
     ]
    },
    {
     "name": "stderr",
     "output_type": "stream",
     "text": [
      "Training (12019 / 18000 Steps) (loss=0.29733): 100%|██████████| 20/20 [00:28<00:00,  1.43s/it]\n",
      "Training (12039 / 18000 Steps) (loss=0.54696): 100%|██████████| 20/20 [00:15<00:00,  1.27it/s]\n",
      "Training (12059 / 18000 Steps) (loss=0.45388): 100%|██████████| 20/20 [00:14<00:00,  1.41it/s]\n",
      "Training (12079 / 18000 Steps) (loss=0.56943): 100%|██████████| 20/20 [00:16<00:00,  1.20it/s]\n",
      "Training (12099 / 18000 Steps) (loss=0.40097): 100%|██████████| 20/20 [00:14<00:00,  1.38it/s]\n",
      "Validate (12100 / 10 Steps): 100%|██████████| 8/8 [00:13<00:00,  1.64s/it]6<?, ?it/s]\n",
      "Training (12100 / 18000 Steps) (loss=0.39210):   5%|▌         | 1/20 [00:19<06:06, 19.29s/it]"
     ]
    },
    {
     "name": "stdout",
     "output_type": "stream",
     "text": [
      "Model Was Not Saved ! Current Best Avg. Dice: 0.6273200511932373 Current Avg. Dice: 0.6094198226928711 Current Avg. tumor Dice: 0.7229761481285095 Current Avg. lymph Dice: 0.4687161445617676\n"
     ]
    },
    {
     "name": "stderr",
     "output_type": "stream",
     "text": [
      "Training (12119 / 18000 Steps) (loss=0.53211): 100%|██████████| 20/20 [00:26<00:00,  1.32s/it]\n",
      "Training (12139 / 18000 Steps) (loss=0.46782): 100%|██████████| 20/20 [00:14<00:00,  1.33it/s]\n",
      "Training (12159 / 18000 Steps) (loss=0.59829): 100%|██████████| 20/20 [00:15<00:00,  1.28it/s]\n",
      "Training (12179 / 18000 Steps) (loss=0.67294): 100%|██████████| 20/20 [00:15<00:00,  1.33it/s]\n",
      "Training (12199 / 18000 Steps) (loss=0.66348): 100%|██████████| 20/20 [00:15<00:00,  1.29it/s]\n",
      "Validate (12200 / 10 Steps): 100%|██████████| 8/8 [00:12<00:00,  1.61s/it]6<?, ?it/s]\n",
      "Training (12200 / 18000 Steps) (loss=0.59340):   5%|▌         | 1/20 [00:19<06:09, 19.45s/it]"
     ]
    },
    {
     "name": "stdout",
     "output_type": "stream",
     "text": [
      "Model Was Not Saved ! Current Best Avg. Dice: 0.6273200511932373 Current Avg. Dice: 0.6225414872169495 Current Avg. tumor Dice: 0.7390440702438354 Current Avg. lymph Dice: 0.4764140546321869\n"
     ]
    },
    {
     "name": "stderr",
     "output_type": "stream",
     "text": [
      "Training (12219 / 18000 Steps) (loss=0.35340): 100%|██████████| 20/20 [00:26<00:00,  1.32s/it]\n",
      "Training (12239 / 18000 Steps) (loss=0.44861): 100%|██████████| 20/20 [00:14<00:00,  1.33it/s]\n",
      "Training (12259 / 18000 Steps) (loss=0.42658): 100%|██████████| 20/20 [00:14<00:00,  1.38it/s]\n",
      "Training (12279 / 18000 Steps) (loss=0.57422): 100%|██████████| 20/20 [00:15<00:00,  1.31it/s]\n",
      "Training (12299 / 18000 Steps) (loss=0.34515): 100%|██████████| 20/20 [00:15<00:00,  1.29it/s]\n",
      "Validate (12300 / 10 Steps): 100%|██████████| 8/8 [00:12<00:00,  1.62s/it]5<?, ?it/s]\n",
      "Training (12300 / 18000 Steps) (loss=0.28688):   5%|▌         | 1/20 [00:18<05:53, 18.61s/it]"
     ]
    },
    {
     "name": "stdout",
     "output_type": "stream",
     "text": [
      "Model Was Not Saved ! Current Best Avg. Dice: 0.6273200511932373 Current Avg. Dice: 0.5888679623603821 Current Avg. tumor Dice: 0.7321179509162903 Current Avg. lymph Dice: 0.4111267328262329\n"
     ]
    },
    {
     "name": "stderr",
     "output_type": "stream",
     "text": [
      "Training (12319 / 18000 Steps) (loss=0.36968): 100%|██████████| 20/20 [00:25<00:00,  1.28s/it]\n",
      "Training (12339 / 18000 Steps) (loss=0.49538): 100%|██████████| 20/20 [00:16<00:00,  1.24it/s]\n",
      "Training (12359 / 18000 Steps) (loss=0.39959): 100%|██████████| 20/20 [00:14<00:00,  1.41it/s]\n",
      "Training (12379 / 18000 Steps) (loss=0.48875): 100%|██████████| 20/20 [00:15<00:00,  1.31it/s]\n",
      "Training (12399 / 18000 Steps) (loss=0.45511): 100%|██████████| 20/20 [00:15<00:00,  1.29it/s]\n",
      "Validate (12400 / 10 Steps): 100%|██████████| 8/8 [00:13<00:00,  1.66s/it]5<?, ?it/s]\n",
      "Training (12400 / 18000 Steps) (loss=0.26213):   5%|▌         | 1/20 [00:18<05:57, 18.83s/it]"
     ]
    },
    {
     "name": "stdout",
     "output_type": "stream",
     "text": [
      "Model Was Not Saved ! Current Best Avg. Dice: 0.6273200511932373 Current Avg. Dice: 0.6126900911331177 Current Avg. tumor Dice: 0.7233664393424988 Current Avg. lymph Dice: 0.46694710850715637\n"
     ]
    },
    {
     "name": "stderr",
     "output_type": "stream",
     "text": [
      "Training (12419 / 18000 Steps) (loss=0.48630): 100%|██████████| 20/20 [00:25<00:00,  1.30s/it]\n",
      "Training (12439 / 18000 Steps) (loss=0.47154): 100%|██████████| 20/20 [00:16<00:00,  1.23it/s]\n",
      "Training (12459 / 18000 Steps) (loss=0.47466): 100%|██████████| 20/20 [00:15<00:00,  1.27it/s]\n",
      "Training (12479 / 18000 Steps) (loss=0.46411): 100%|██████████| 20/20 [00:15<00:00,  1.26it/s]\n",
      "Training (12499 / 18000 Steps) (loss=0.24167): 100%|██████████| 20/20 [00:15<00:00,  1.30it/s]\n",
      "Validate (12500 / 10 Steps): 100%|██████████| 8/8 [00:13<00:00,  1.63s/it]6<?, ?it/s]\n",
      "Training (12500 / 18000 Steps) (loss=0.36259):   5%|▌         | 1/20 [00:19<06:17, 19.87s/it]"
     ]
    },
    {
     "name": "stdout",
     "output_type": "stream",
     "text": [
      "Model Was Not Saved ! Current Best Avg. Dice: 0.6273200511932373 Current Avg. Dice: 0.602001428604126 Current Avg. tumor Dice: 0.7063792943954468 Current Avg. lymph Dice: 0.4751221537590027\n"
     ]
    },
    {
     "name": "stderr",
     "output_type": "stream",
     "text": [
      "Training (12519 / 18000 Steps) (loss=0.50987): 100%|██████████| 20/20 [00:26<00:00,  1.34s/it]\n",
      "Training (12539 / 18000 Steps) (loss=0.55427): 100%|██████████| 20/20 [00:15<00:00,  1.27it/s]\n",
      "Training (12559 / 18000 Steps) (loss=0.44472): 100%|██████████| 20/20 [00:15<00:00,  1.29it/s]\n",
      "Training (12579 / 18000 Steps) (loss=0.59404): 100%|██████████| 20/20 [00:14<00:00,  1.36it/s]\n",
      "Training (12599 / 18000 Steps) (loss=0.43876): 100%|██████████| 20/20 [00:14<00:00,  1.34it/s]\n",
      "Validate (12600 / 10 Steps): 100%|██████████| 8/8 [00:13<00:00,  1.66s/it]5<?, ?it/s]\n",
      "Training (12600 / 18000 Steps) (loss=0.31525):   5%|▌         | 1/20 [00:19<06:06, 19.27s/it]"
     ]
    },
    {
     "name": "stdout",
     "output_type": "stream",
     "text": [
      "Model Was Not Saved ! Current Best Avg. Dice: 0.6273200511932373 Current Avg. Dice: 0.6084975004196167 Current Avg. tumor Dice: 0.6947587728500366 Current Avg. lymph Dice: 0.4995371997356415\n"
     ]
    },
    {
     "name": "stderr",
     "output_type": "stream",
     "text": [
      "Training (12619 / 18000 Steps) (loss=0.19722): 100%|██████████| 20/20 [00:26<00:00,  1.32s/it]\n",
      "Training (12639 / 18000 Steps) (loss=0.55874): 100%|██████████| 20/20 [00:15<00:00,  1.26it/s]\n",
      "Training (12659 / 18000 Steps) (loss=0.14898): 100%|██████████| 20/20 [00:15<00:00,  1.32it/s]\n",
      "Training (12679 / 18000 Steps) (loss=0.26806): 100%|██████████| 20/20 [00:15<00:00,  1.30it/s]\n",
      "Training (12699 / 18000 Steps) (loss=0.35874): 100%|██████████| 20/20 [00:15<00:00,  1.32it/s]\n",
      "Validate (12700 / 10 Steps): 100%|██████████| 8/8 [00:13<00:00,  1.64s/it]6<?, ?it/s]\n",
      "Training (12700 / 18000 Steps) (loss=0.35788):   5%|▌         | 1/20 [00:19<06:07, 19.35s/it]"
     ]
    },
    {
     "name": "stdout",
     "output_type": "stream",
     "text": [
      "Model Was Not Saved ! Current Best Avg. Dice: 0.6273200511932373 Current Avg. Dice: 0.6272659301757812 Current Avg. tumor Dice: 0.7325506210327148 Current Avg. lymph Dice: 0.500282347202301\n"
     ]
    },
    {
     "name": "stderr",
     "output_type": "stream",
     "text": [
      "Training (12719 / 18000 Steps) (loss=0.41550): 100%|██████████| 20/20 [00:26<00:00,  1.32s/it]\n",
      "Training (12739 / 18000 Steps) (loss=0.41602): 100%|██████████| 20/20 [00:16<00:00,  1.23it/s]\n",
      "Training (12759 / 18000 Steps) (loss=0.15404): 100%|██████████| 20/20 [00:14<00:00,  1.34it/s]\n",
      "Training (12779 / 18000 Steps) (loss=0.15404): 100%|██████████| 20/20 [00:16<00:00,  1.23it/s]\n",
      "Training (12799 / 18000 Steps) (loss=0.30853): 100%|██████████| 20/20 [00:15<00:00,  1.25it/s]\n",
      "Validate (12800 / 10 Steps): 100%|██████████| 8/8 [00:13<00:00,  1.63s/it]6<?, ?it/s]\n",
      "Training (12800 / 18000 Steps) (loss=0.56433):   5%|▌         | 1/20 [00:19<06:05, 19.22s/it]"
     ]
    },
    {
     "name": "stdout",
     "output_type": "stream",
     "text": [
      "Model Was Not Saved ! Current Best Avg. Dice: 0.6273200511932373 Current Avg. Dice: 0.6079928278923035 Current Avg. tumor Dice: 0.7023657560348511 Current Avg. lymph Dice: 0.49158579111099243\n"
     ]
    },
    {
     "name": "stderr",
     "output_type": "stream",
     "text": [
      "Training (12819 / 18000 Steps) (loss=0.19446): 100%|██████████| 20/20 [00:26<00:00,  1.31s/it]\n",
      "Training (12839 / 18000 Steps) (loss=0.46663): 100%|██████████| 20/20 [00:15<00:00,  1.28it/s]\n",
      "Training (12859 / 18000 Steps) (loss=0.54601): 100%|██████████| 20/20 [00:14<00:00,  1.35it/s]\n",
      "Training (12879 / 18000 Steps) (loss=0.50008): 100%|██████████| 20/20 [00:15<00:00,  1.26it/s]\n",
      "Training (12899 / 18000 Steps) (loss=0.48569): 100%|██████████| 20/20 [00:16<00:00,  1.24it/s]\n",
      "Validate (12900 / 10 Steps): 100%|██████████| 8/8 [00:13<00:00,  1.65s/it]5<?, ?it/s]\n",
      "Training (12900 / 18000 Steps) (loss=0.31512):   5%|▌         | 1/20 [00:18<05:49, 18.39s/it]"
     ]
    },
    {
     "name": "stdout",
     "output_type": "stream",
     "text": [
      "Model Was Not Saved ! Current Best Avg. Dice: 0.6273200511932373 Current Avg. Dice: 0.6100205779075623 Current Avg. tumor Dice: 0.7279442548751831 Current Avg. lymph Dice: 0.45743581652641296\n"
     ]
    },
    {
     "name": "stderr",
     "output_type": "stream",
     "text": [
      "Training (12919 / 18000 Steps) (loss=0.54712): 100%|██████████| 20/20 [00:25<00:00,  1.27s/it]\n",
      "Training (12939 / 18000 Steps) (loss=0.46117): 100%|██████████| 20/20 [00:14<00:00,  1.34it/s]\n",
      "Training (12959 / 18000 Steps) (loss=0.39395): 100%|██████████| 20/20 [00:14<00:00,  1.37it/s]\n",
      "Training (12979 / 18000 Steps) (loss=0.28832): 100%|██████████| 20/20 [00:16<00:00,  1.23it/s]\n",
      "Training (12999 / 18000 Steps) (loss=0.58358): 100%|██████████| 20/20 [00:15<00:00,  1.31it/s]\n",
      "Validate (13000 / 10 Steps): 100%|██████████| 8/8 [00:13<00:00,  1.67s/it]5<?, ?it/s]\n",
      "Training (13000 / 18000 Steps) (loss=0.44345):   5%|▌         | 1/20 [00:19<06:06, 19.27s/it]"
     ]
    },
    {
     "name": "stdout",
     "output_type": "stream",
     "text": [
      "Model Was Not Saved ! Current Best Avg. Dice: 0.6273200511932373 Current Avg. Dice: 0.5948955416679382 Current Avg. tumor Dice: 0.6714277863502502 Current Avg. lymph Dice: 0.49218666553497314\n"
     ]
    },
    {
     "name": "stderr",
     "output_type": "stream",
     "text": [
      "Training (13019 / 18000 Steps) (loss=0.36401): 100%|██████████| 20/20 [00:26<00:00,  1.31s/it]\n",
      "Training (13039 / 18000 Steps) (loss=0.43171): 100%|██████████| 20/20 [00:15<00:00,  1.26it/s]\n",
      "Training (13059 / 18000 Steps) (loss=0.40991): 100%|██████████| 20/20 [00:15<00:00,  1.31it/s]\n",
      "Training (13079 / 18000 Steps) (loss=0.28283): 100%|██████████| 20/20 [00:16<00:00,  1.24it/s]\n",
      "Training (13099 / 18000 Steps) (loss=0.43941): 100%|██████████| 20/20 [00:15<00:00,  1.30it/s]\n",
      "Validate (13100 / 10 Steps): 100%|██████████| 8/8 [00:13<00:00,  1.65s/it]5<?, ?it/s]\n",
      "Training (13100 / 18000 Steps) (loss=0.47436):   5%|▌         | 1/20 [00:18<05:53, 18.61s/it]"
     ]
    },
    {
     "name": "stdout",
     "output_type": "stream",
     "text": [
      "Model Was Not Saved ! Current Best Avg. Dice: 0.6273200511932373 Current Avg. Dice: 0.5842698812484741 Current Avg. tumor Dice: 0.6970179080963135 Current Avg. lymph Dice: 0.43633607029914856\n"
     ]
    },
    {
     "name": "stderr",
     "output_type": "stream",
     "text": [
      "Training (13119 / 18000 Steps) (loss=0.30779): 100%|██████████| 20/20 [00:25<00:00,  1.28s/it]\n",
      "Training (13139 / 18000 Steps) (loss=0.35290): 100%|██████████| 20/20 [00:15<00:00,  1.25it/s]\n",
      "Training (13159 / 18000 Steps) (loss=0.36338): 100%|██████████| 20/20 [00:15<00:00,  1.28it/s]\n",
      "Training (13179 / 18000 Steps) (loss=0.44855): 100%|██████████| 20/20 [00:14<00:00,  1.37it/s]\n",
      "Training (13199 / 18000 Steps) (loss=0.34682): 100%|██████████| 20/20 [00:16<00:00,  1.23it/s]\n",
      "Validate (13200 / 10 Steps): 100%|██████████| 8/8 [00:13<00:00,  1.63s/it]6<?, ?it/s]\n",
      "Training (13200 / 18000 Steps) (loss=0.40445):   5%|▌         | 1/20 [00:19<06:04, 19.18s/it]"
     ]
    },
    {
     "name": "stdout",
     "output_type": "stream",
     "text": [
      "Model Was Not Saved ! Current Best Avg. Dice: 0.6273200511932373 Current Avg. Dice: 0.5958014130592346 Current Avg. tumor Dice: 0.7219343185424805 Current Avg. lymph Dice: 0.439083069562912\n"
     ]
    },
    {
     "name": "stderr",
     "output_type": "stream",
     "text": [
      "Training (13219 / 18000 Steps) (loss=0.39529): 100%|██████████| 20/20 [00:26<00:00,  1.31s/it]\n",
      "Training (13239 / 18000 Steps) (loss=0.62838): 100%|██████████| 20/20 [00:16<00:00,  1.23it/s]\n",
      "Training (13259 / 18000 Steps) (loss=0.43172): 100%|██████████| 20/20 [00:15<00:00,  1.26it/s]\n",
      "Training (13279 / 18000 Steps) (loss=0.31814): 100%|██████████| 20/20 [00:15<00:00,  1.27it/s]\n",
      "Training (13299 / 18000 Steps) (loss=0.41679): 100%|██████████| 20/20 [00:15<00:00,  1.30it/s]\n",
      "Validate (13300 / 10 Steps): 100%|██████████| 8/8 [00:13<00:00,  1.65s/it]6<?, ?it/s]\n",
      "Training (13300 / 18000 Steps) (loss=0.41209):   5%|▌         | 1/20 [00:19<06:16, 19.84s/it]"
     ]
    },
    {
     "name": "stdout",
     "output_type": "stream",
     "text": [
      "Model Was Not Saved ! Current Best Avg. Dice: 0.6273200511932373 Current Avg. Dice: 0.6122090220451355 Current Avg. tumor Dice: 0.7172402739524841 Current Avg. lymph Dice: 0.4841955900192261\n"
     ]
    },
    {
     "name": "stderr",
     "output_type": "stream",
     "text": [
      "Training (13319 / 18000 Steps) (loss=0.35922): 100%|██████████| 20/20 [00:26<00:00,  1.34s/it]\n",
      "Training (13339 / 18000 Steps) (loss=0.34103): 100%|██████████| 20/20 [00:15<00:00,  1.31it/s]\n",
      "Training (13359 / 18000 Steps) (loss=0.29199): 100%|██████████| 20/20 [00:16<00:00,  1.22it/s]\n",
      "Training (13379 / 18000 Steps) (loss=0.37281): 100%|██████████| 20/20 [00:14<00:00,  1.38it/s]\n",
      "Training (13399 / 18000 Steps) (loss=0.42047): 100%|██████████| 20/20 [00:15<00:00,  1.27it/s]\n",
      "Validate (13400 / 10 Steps): 100%|██████████| 8/8 [00:13<00:00,  1.66s/it]5<?, ?it/s]\n",
      "Training (13400 / 18000 Steps) (loss=0.34084):   5%|▌         | 1/20 [00:18<05:57, 18.82s/it]"
     ]
    },
    {
     "name": "stdout",
     "output_type": "stream",
     "text": [
      "Model Was Not Saved ! Current Best Avg. Dice: 0.6273200511932373 Current Avg. Dice: 0.6047009229660034 Current Avg. tumor Dice: 0.7346709966659546 Current Avg. lymph Dice: 0.4400317072868347\n"
     ]
    },
    {
     "name": "stderr",
     "output_type": "stream",
     "text": [
      "Training (13419 / 18000 Steps) (loss=0.54643): 100%|██████████| 20/20 [00:25<00:00,  1.29s/it]\n",
      "Training (13439 / 18000 Steps) (loss=0.55164): 100%|██████████| 20/20 [00:16<00:00,  1.24it/s]\n",
      "Training (13459 / 18000 Steps) (loss=0.42005): 100%|██████████| 20/20 [00:15<00:00,  1.27it/s]\n",
      "Training (13479 / 18000 Steps) (loss=0.54498): 100%|██████████| 20/20 [00:15<00:00,  1.27it/s]\n",
      "Training (13499 / 18000 Steps) (loss=0.60088): 100%|██████████| 20/20 [00:14<00:00,  1.36it/s]\n",
      "Validate (13500 / 10 Steps): 100%|██████████| 8/8 [00:13<00:00,  1.68s/it]5<?, ?it/s]\n",
      "Training (13500 / 18000 Steps) (loss=0.41207):   5%|▌         | 1/20 [00:18<05:55, 18.73s/it]"
     ]
    },
    {
     "name": "stdout",
     "output_type": "stream",
     "text": [
      "Model Was Not Saved ! Current Best Avg. Dice: 0.6273200511932373 Current Avg. Dice: 0.6034485697746277 Current Avg. tumor Dice: 0.738952100276947 Current Avg. lymph Dice: 0.4329979121685028\n"
     ]
    },
    {
     "name": "stderr",
     "output_type": "stream",
     "text": [
      "Training (13519 / 18000 Steps) (loss=0.28568): 100%|██████████| 20/20 [00:25<00:00,  1.29s/it]\n",
      "Training (13539 / 18000 Steps) (loss=0.52507): 100%|██████████| 20/20 [00:15<00:00,  1.31it/s]\n",
      "Training (13559 / 18000 Steps) (loss=0.30083): 100%|██████████| 20/20 [00:15<00:00,  1.33it/s]\n",
      "Training (13579 / 18000 Steps) (loss=0.36545): 100%|██████████| 20/20 [00:15<00:00,  1.33it/s]\n",
      "Training (13599 / 18000 Steps) (loss=0.40552): 100%|██████████| 20/20 [00:14<00:00,  1.37it/s]\n",
      "Validate (13600 / 10 Steps): 100%|██████████| 8/8 [00:13<00:00,  1.65s/it]6<?, ?it/s]\n",
      "Training (13600 / 18000 Steps) (loss=0.40092):   5%|▌         | 1/20 [00:19<06:13, 19.67s/it]"
     ]
    },
    {
     "name": "stdout",
     "output_type": "stream",
     "text": [
      "Model Was Not Saved ! Current Best Avg. Dice: 0.6273200511932373 Current Avg. Dice: 0.6052435636520386 Current Avg. tumor Dice: 0.7278820872306824 Current Avg. lymph Dice: 0.4472803771495819\n"
     ]
    },
    {
     "name": "stderr",
     "output_type": "stream",
     "text": [
      "Training (13619 / 18000 Steps) (loss=0.55214): 100%|██████████| 20/20 [00:26<00:00,  1.34s/it]\n",
      "Training (13639 / 18000 Steps) (loss=0.21728): 100%|██████████| 20/20 [00:15<00:00,  1.28it/s]\n",
      "Training (13659 / 18000 Steps) (loss=0.61160): 100%|██████████| 20/20 [00:15<00:00,  1.25it/s]\n",
      "Training (13679 / 18000 Steps) (loss=0.54586): 100%|██████████| 20/20 [00:15<00:00,  1.29it/s]\n",
      "Training (13699 / 18000 Steps) (loss=0.28333): 100%|██████████| 20/20 [00:15<00:00,  1.28it/s]\n",
      "Validate (13700 / 10 Steps): 100%|██████████| 8/8 [00:12<00:00,  1.62s/it]7<?, ?it/s]\n",
      "Training (13700 / 18000 Steps) (loss=0.45616):   5%|▌         | 1/20 [00:20<06:38, 21.00s/it]"
     ]
    },
    {
     "name": "stdout",
     "output_type": "stream",
     "text": [
      "Model Was Not Saved ! Current Best Avg. Dice: 0.6273200511932373 Current Avg. Dice: 0.6146745085716248 Current Avg. tumor Dice: 0.7292579412460327 Current Avg. lymph Dice: 0.4746116101741791\n"
     ]
    },
    {
     "name": "stderr",
     "output_type": "stream",
     "text": [
      "Training (13719 / 18000 Steps) (loss=0.34329): 100%|██████████| 20/20 [00:27<00:00,  1.40s/it]\n",
      "Training (13739 / 18000 Steps) (loss=0.29591): 100%|██████████| 20/20 [00:15<00:00,  1.33it/s]\n",
      "Training (13759 / 18000 Steps) (loss=0.40615): 100%|██████████| 20/20 [00:14<00:00,  1.34it/s]\n",
      "Training (13779 / 18000 Steps) (loss=0.52733): 100%|██████████| 20/20 [00:15<00:00,  1.33it/s]\n",
      "Training (13799 / 18000 Steps) (loss=0.35040): 100%|██████████| 20/20 [00:14<00:00,  1.34it/s]\n",
      "Validate (13800 / 10 Steps): 100%|██████████| 8/8 [00:12<00:00,  1.62s/it]5<?, ?it/s]\n",
      "Training (13800 / 18000 Steps) (loss=0.36239):   5%|▌         | 1/20 [00:18<06:00, 18.95s/it]"
     ]
    },
    {
     "name": "stdout",
     "output_type": "stream",
     "text": [
      "Model Was Not Saved ! Current Best Avg. Dice: 0.6273200511932373 Current Avg. Dice: 0.6186807155609131 Current Avg. tumor Dice: 0.7342678308486938 Current Avg. lymph Dice: 0.4784873127937317\n"
     ]
    },
    {
     "name": "stderr",
     "output_type": "stream",
     "text": [
      "Training (13819 / 18000 Steps) (loss=0.34004): 100%|██████████| 20/20 [00:26<00:00,  1.30s/it]\n",
      "Training (13839 / 18000 Steps) (loss=0.51877): 100%|██████████| 20/20 [00:15<00:00,  1.33it/s]\n",
      "Training (13859 / 18000 Steps) (loss=0.57559): 100%|██████████| 20/20 [00:15<00:00,  1.27it/s]\n",
      "Training (13879 / 18000 Steps) (loss=0.44265): 100%|██████████| 20/20 [00:15<00:00,  1.31it/s]\n",
      "Training (13899 / 18000 Steps) (loss=0.45287): 100%|██████████| 20/20 [00:15<00:00,  1.29it/s]\n",
      "Validate (13900 / 10 Steps): 100%|██████████| 8/8 [00:13<00:00,  1.70s/it]6<?, ?it/s]\n",
      "Training (13900 / 18000 Steps) (loss=0.50869):   5%|▌         | 1/20 [00:19<06:15, 19.78s/it]"
     ]
    },
    {
     "name": "stdout",
     "output_type": "stream",
     "text": [
      "Model Was Not Saved ! Current Best Avg. Dice: 0.6273200511932373 Current Avg. Dice: 0.6042518615722656 Current Avg. tumor Dice: 0.7208148837089539 Current Avg. lymph Dice: 0.45857861638069153\n"
     ]
    },
    {
     "name": "stderr",
     "output_type": "stream",
     "text": [
      "Training (13919 / 18000 Steps) (loss=0.30970): 100%|██████████| 20/20 [00:26<00:00,  1.34s/it]\n",
      "Training (13939 / 18000 Steps) (loss=0.40317): 100%|██████████| 20/20 [00:15<00:00,  1.28it/s]\n",
      "Training (13959 / 18000 Steps) (loss=0.24492): 100%|██████████| 20/20 [00:15<00:00,  1.26it/s]\n",
      "Training (13979 / 18000 Steps) (loss=0.44682): 100%|██████████| 20/20 [00:15<00:00,  1.26it/s]\n",
      "Training (13999 / 18000 Steps) (loss=0.40600): 100%|██████████| 20/20 [00:15<00:00,  1.30it/s]\n",
      "Validate (14000 / 10 Steps): 100%|██████████| 8/8 [00:13<00:00,  1.66s/it]6<?, ?it/s]\n",
      "Training (14000 / 18000 Steps) (loss=0.27229):   5%|▌         | 1/20 [00:19<06:14, 19.69s/it]"
     ]
    },
    {
     "name": "stdout",
     "output_type": "stream",
     "text": [
      "Model Was Not Saved ! Current Best Avg. Dice: 0.6273200511932373 Current Avg. Dice: 0.6165896058082581 Current Avg. tumor Dice: 0.723812460899353 Current Avg. lymph Dice: 0.47491690516471863\n"
     ]
    },
    {
     "name": "stderr",
     "output_type": "stream",
     "text": [
      "Training (14019 / 18000 Steps) (loss=0.22860): 100%|██████████| 20/20 [00:26<00:00,  1.34s/it]\n",
      "Training (14039 / 18000 Steps) (loss=0.44162): 100%|██████████| 20/20 [00:15<00:00,  1.26it/s]\n",
      "Training (14059 / 18000 Steps) (loss=0.30740): 100%|██████████| 20/20 [00:14<00:00,  1.34it/s]\n",
      "Training (14079 / 18000 Steps) (loss=0.45523): 100%|██████████| 20/20 [00:14<00:00,  1.39it/s]\n",
      "Training (14099 / 18000 Steps) (loss=0.66839): 100%|██████████| 20/20 [00:15<00:00,  1.27it/s]\n",
      "Validate (14100 / 10 Steps): 100%|██████████| 8/8 [00:13<00:00,  1.66s/it]5<?, ?it/s]\n",
      "Training (14100 / 18000 Steps) (loss=0.51030):   5%|▌         | 1/20 [00:18<05:54, 18.65s/it]"
     ]
    },
    {
     "name": "stdout",
     "output_type": "stream",
     "text": [
      "Model Was Not Saved ! Current Best Avg. Dice: 0.6273200511932373 Current Avg. Dice: 0.5688932538032532 Current Avg. tumor Dice: 0.6947729587554932 Current Avg. lymph Dice: 0.4072260558605194\n"
     ]
    },
    {
     "name": "stderr",
     "output_type": "stream",
     "text": [
      "Training (14119 / 18000 Steps) (loss=0.65544): 100%|██████████| 20/20 [00:25<00:00,  1.28s/it]\n",
      "Training (14139 / 18000 Steps) (loss=0.48205): 100%|██████████| 20/20 [00:15<00:00,  1.27it/s]\n",
      "Training (14159 / 18000 Steps) (loss=0.31540): 100%|██████████| 20/20 [00:15<00:00,  1.33it/s]\n",
      "Training (14179 / 18000 Steps) (loss=0.33337): 100%|██████████| 20/20 [00:16<00:00,  1.25it/s]\n",
      "Training (14199 / 18000 Steps) (loss=0.15059): 100%|██████████| 20/20 [00:14<00:00,  1.34it/s]\n",
      "Validate (14200 / 10 Steps): 100%|██████████| 8/8 [00:13<00:00,  1.64s/it]5<?, ?it/s]\n",
      "Training (14200 / 18000 Steps) (loss=0.29713):   5%|▌         | 1/20 [00:19<06:03, 19.11s/it]"
     ]
    },
    {
     "name": "stdout",
     "output_type": "stream",
     "text": [
      "Model Was Not Saved ! Current Best Avg. Dice: 0.6273200511932373 Current Avg. Dice: 0.6066699624061584 Current Avg. tumor Dice: 0.7454227209091187 Current Avg. lymph Dice: 0.4308347702026367\n"
     ]
    },
    {
     "name": "stderr",
     "output_type": "stream",
     "text": [
      "Training (14219 / 18000 Steps) (loss=0.54349): 100%|██████████| 20/20 [00:26<00:00,  1.31s/it]\n",
      "Training (14239 / 18000 Steps) (loss=0.29009): 100%|██████████| 20/20 [00:15<00:00,  1.30it/s]\n",
      "Training (14259 / 18000 Steps) (loss=0.25466): 100%|██████████| 20/20 [00:16<00:00,  1.24it/s]\n",
      "Training (14279 / 18000 Steps) (loss=0.36322): 100%|██████████| 20/20 [00:14<00:00,  1.35it/s]\n",
      "Training (14299 / 18000 Steps) (loss=0.31385): 100%|██████████| 20/20 [00:15<00:00,  1.28it/s]\n",
      "Validate (14300 / 10 Steps): 100%|██████████| 8/8 [00:13<00:00,  1.68s/it]5<?, ?it/s]\n",
      "Training (14300 / 18000 Steps) (loss=0.50418):   5%|▌         | 1/20 [00:19<06:02, 19.05s/it]"
     ]
    },
    {
     "name": "stdout",
     "output_type": "stream",
     "text": [
      "Model Was Not Saved ! Current Best Avg. Dice: 0.6273200511932373 Current Avg. Dice: 0.6134114861488342 Current Avg. tumor Dice: 0.7385899424552917 Current Avg. lymph Dice: 0.4554281234741211\n"
     ]
    },
    {
     "name": "stderr",
     "output_type": "stream",
     "text": [
      "Training (14319 / 18000 Steps) (loss=0.41448): 100%|██████████| 20/20 [00:26<00:00,  1.30s/it]\n",
      "Training (14339 / 18000 Steps) (loss=0.42621): 100%|██████████| 20/20 [00:15<00:00,  1.27it/s]\n",
      "Training (14359 / 18000 Steps) (loss=0.55318): 100%|██████████| 20/20 [00:15<00:00,  1.29it/s]\n",
      "Training (14379 / 18000 Steps) (loss=0.56425): 100%|██████████| 20/20 [00:16<00:00,  1.24it/s]\n",
      "Training (14399 / 18000 Steps) (loss=0.38008): 100%|██████████| 20/20 [00:16<00:00,  1.24it/s]\n",
      "Validate (14400 / 10 Steps): 100%|██████████| 8/8 [00:13<00:00,  1.63s/it]6<?, ?it/s]\n",
      "Training (14400 / 18000 Steps) (loss=0.26046):   5%|▌         | 1/20 [00:19<06:04, 19.17s/it]"
     ]
    },
    {
     "name": "stdout",
     "output_type": "stream",
     "text": [
      "Model Was Not Saved ! Current Best Avg. Dice: 0.6273200511932373 Current Avg. Dice: 0.6208124756813049 Current Avg. tumor Dice: 0.7399532794952393 Current Avg. lymph Dice: 0.47629082202911377\n"
     ]
    },
    {
     "name": "stderr",
     "output_type": "stream",
     "text": [
      "Training (14419 / 18000 Steps) (loss=0.66879): 100%|██████████| 20/20 [00:26<00:00,  1.31s/it]\n",
      "Training (14439 / 18000 Steps) (loss=0.30476): 100%|██████████| 20/20 [00:14<00:00,  1.36it/s]\n",
      "Training (14459 / 18000 Steps) (loss=0.30723): 100%|██████████| 20/20 [00:14<00:00,  1.39it/s]\n",
      "Training (14479 / 18000 Steps) (loss=0.49819): 100%|██████████| 20/20 [00:16<00:00,  1.25it/s]\n",
      "Training (14499 / 18000 Steps) (loss=0.31034): 100%|██████████| 20/20 [00:15<00:00,  1.31it/s]\n",
      "Validate (14500 / 10 Steps): 100%|██████████| 8/8 [00:13<00:00,  1.66s/it]6<?, ?it/s]\n",
      "Training (14500 / 18000 Steps) (loss=0.31419):   5%|▌         | 1/20 [00:19<06:15, 19.77s/it]"
     ]
    },
    {
     "name": "stdout",
     "output_type": "stream",
     "text": [
      "Model Was Not Saved ! Current Best Avg. Dice: 0.6273200511932373 Current Avg. Dice: 0.5982888340950012 Current Avg. tumor Dice: 0.7423862218856812 Current Avg. lymph Dice: 0.41550546884536743\n"
     ]
    },
    {
     "name": "stderr",
     "output_type": "stream",
     "text": [
      "Training (14519 / 18000 Steps) (loss=0.41867): 100%|██████████| 20/20 [00:26<00:00,  1.34s/it]\n",
      "Training (14539 / 18000 Steps) (loss=0.42414): 100%|██████████| 20/20 [00:15<00:00,  1.29it/s]\n",
      "Training (14559 / 18000 Steps) (loss=0.34878): 100%|██████████| 20/20 [00:15<00:00,  1.30it/s]\n",
      "Training (14579 / 18000 Steps) (loss=0.43229): 100%|██████████| 20/20 [00:15<00:00,  1.32it/s]\n",
      "Training (14599 / 18000 Steps) (loss=0.62056): 100%|██████████| 20/20 [00:15<00:00,  1.30it/s]\n",
      "Validate (14600 / 10 Steps): 100%|██████████| 8/8 [00:13<00:00,  1.69s/it]7<?, ?it/s]\n",
      "Training (14600 / 18000 Steps) (loss=0.40038):   5%|▌         | 1/20 [00:21<06:46, 21.39s/it]"
     ]
    },
    {
     "name": "stdout",
     "output_type": "stream",
     "text": [
      "Model Was Not Saved ! Current Best Avg. Dice: 0.6273200511932373 Current Avg. Dice: 0.6008312106132507 Current Avg. tumor Dice: 0.7253077030181885 Current Avg. lymph Dice: 0.442790687084198\n"
     ]
    },
    {
     "name": "stderr",
     "output_type": "stream",
     "text": [
      "Training (14619 / 18000 Steps) (loss=0.62506): 100%|██████████| 20/20 [00:28<00:00,  1.42s/it]\n",
      "Training (14639 / 18000 Steps) (loss=0.34845): 100%|██████████| 20/20 [00:15<00:00,  1.26it/s]\n",
      "Training (14659 / 18000 Steps) (loss=0.34345): 100%|██████████| 20/20 [00:14<00:00,  1.34it/s]\n",
      "Training (14679 / 18000 Steps) (loss=0.46405): 100%|██████████| 20/20 [00:15<00:00,  1.29it/s]\n",
      "Training (14699 / 18000 Steps) (loss=0.42226): 100%|██████████| 20/20 [00:14<00:00,  1.35it/s]\n",
      "Validate (14700 / 10 Steps): 100%|██████████| 8/8 [00:12<00:00,  1.60s/it]8<?, ?it/s]\n",
      "Training (14700 / 18000 Steps) (loss=0.34765):   5%|▌         | 1/20 [00:20<06:37, 20.91s/it]"
     ]
    },
    {
     "name": "stdout",
     "output_type": "stream",
     "text": [
      "Model Was Not Saved ! Current Best Avg. Dice: 0.6273200511932373 Current Avg. Dice: 0.5998857021331787 Current Avg. tumor Dice: 0.7243814468383789 Current Avg. lymph Dice: 0.4376470744609833\n"
     ]
    },
    {
     "name": "stderr",
     "output_type": "stream",
     "text": [
      "Training (14719 / 18000 Steps) (loss=0.17397): 100%|██████████| 20/20 [00:28<00:00,  1.40s/it]\n",
      "Training (14739 / 18000 Steps) (loss=0.26538): 100%|██████████| 20/20 [00:14<00:00,  1.37it/s]\n",
      "Training (14759 / 18000 Steps) (loss=0.19314): 100%|██████████| 20/20 [00:14<00:00,  1.40it/s]\n",
      "Training (14779 / 18000 Steps) (loss=0.61033): 100%|██████████| 20/20 [00:14<00:00,  1.37it/s]\n",
      "Training (14799 / 18000 Steps) (loss=0.31518): 100%|██████████| 20/20 [00:15<00:00,  1.30it/s]\n",
      "Validate (14800 / 10 Steps): 100%|██████████| 8/8 [00:13<00:00,  1.65s/it]5<?, ?it/s]\n",
      "Training (14800 / 18000 Steps) (loss=0.28380):   5%|▌         | 1/20 [00:19<06:05, 19.23s/it]"
     ]
    },
    {
     "name": "stdout",
     "output_type": "stream",
     "text": [
      "Model Was Not Saved ! Current Best Avg. Dice: 0.6273200511932373 Current Avg. Dice: 0.6073729395866394 Current Avg. tumor Dice: 0.7516583800315857 Current Avg. lymph Dice: 0.42153576016426086\n"
     ]
    },
    {
     "name": "stderr",
     "output_type": "stream",
     "text": [
      "Training (14819 / 18000 Steps) (loss=0.50535): 100%|██████████| 20/20 [00:26<00:00,  1.31s/it]\n",
      "Training (14839 / 18000 Steps) (loss=0.31809): 100%|██████████| 20/20 [00:14<00:00,  1.36it/s]\n",
      "Training (14859 / 18000 Steps) (loss=0.66743): 100%|██████████| 20/20 [00:16<00:00,  1.24it/s]\n",
      "Training (14879 / 18000 Steps) (loss=0.47355): 100%|██████████| 20/20 [00:15<00:00,  1.26it/s]\n",
      "Training (14899 / 18000 Steps) (loss=0.31865): 100%|██████████| 20/20 [00:14<00:00,  1.35it/s]\n",
      "Validate (14900 / 10 Steps): 100%|██████████| 8/8 [00:12<00:00,  1.60s/it]5<?, ?it/s]\n",
      "Training (14900 / 18000 Steps) (loss=0.52098):   5%|▌         | 1/20 [00:18<05:52, 18.56s/it]"
     ]
    },
    {
     "name": "stdout",
     "output_type": "stream",
     "text": [
      "Model Was Not Saved ! Current Best Avg. Dice: 0.6273200511932373 Current Avg. Dice: 0.614196240901947 Current Avg. tumor Dice: 0.7433621883392334 Current Avg. lymph Dice: 0.4542073607444763\n"
     ]
    },
    {
     "name": "stderr",
     "output_type": "stream",
     "text": [
      "Training (14919 / 18000 Steps) (loss=0.41370): 100%|██████████| 20/20 [00:25<00:00,  1.28s/it]\n",
      "Training (14939 / 18000 Steps) (loss=0.16699): 100%|██████████| 20/20 [00:15<00:00,  1.28it/s]\n",
      "Training (14959 / 18000 Steps) (loss=0.28100): 100%|██████████| 20/20 [00:15<00:00,  1.29it/s]\n",
      "Training (14979 / 18000 Steps) (loss=0.43296): 100%|██████████| 20/20 [00:15<00:00,  1.30it/s]\n",
      "Training (14999 / 18000 Steps) (loss=0.41138): 100%|██████████| 20/20 [00:14<00:00,  1.35it/s]\n",
      "Validate (15000 / 10 Steps): 100%|██████████| 8/8 [00:12<00:00,  1.61s/it]5<?, ?it/s]\n",
      "Training (15000 / 18000 Steps) (loss=0.42299):   5%|▌         | 1/20 [00:18<05:54, 18.65s/it]"
     ]
    },
    {
     "name": "stdout",
     "output_type": "stream",
     "text": [
      "Model Was Not Saved ! Current Best Avg. Dice: 0.6273200511932373 Current Avg. Dice: 0.6116817593574524 Current Avg. tumor Dice: 0.7441189885139465 Current Avg. lymph Dice: 0.4435453414916992\n"
     ]
    },
    {
     "name": "stderr",
     "output_type": "stream",
     "text": [
      "Training (15019 / 18000 Steps) (loss=0.57623): 100%|██████████| 20/20 [00:25<00:00,  1.28s/it]\n",
      "Training (15039 / 18000 Steps) (loss=0.39778): 100%|██████████| 20/20 [00:15<00:00,  1.28it/s]\n",
      "Training (15059 / 18000 Steps) (loss=0.49367): 100%|██████████| 20/20 [00:16<00:00,  1.25it/s]\n",
      "Training (15079 / 18000 Steps) (loss=0.27222): 100%|██████████| 20/20 [00:15<00:00,  1.26it/s]\n",
      "Training (15099 / 18000 Steps) (loss=0.29071): 100%|██████████| 20/20 [00:14<00:00,  1.37it/s]\n",
      "Validate (15100 / 10 Steps): 100%|██████████| 8/8 [00:12<00:00,  1.62s/it]7<?, ?it/s]\n",
      "Training (15100 / 18000 Steps) (loss=0.55820):   5%|▌         | 1/20 [00:20<06:27, 20.39s/it]"
     ]
    },
    {
     "name": "stdout",
     "output_type": "stream",
     "text": [
      "Model Was Not Saved ! Current Best Avg. Dice: 0.6273200511932373 Current Avg. Dice: 0.6241100430488586 Current Avg. tumor Dice: 0.7431307435035706 Current Avg. lymph Dice: 0.47604846954345703\n"
     ]
    },
    {
     "name": "stderr",
     "output_type": "stream",
     "text": [
      "Training (15119 / 18000 Steps) (loss=0.38577): 100%|██████████| 20/20 [00:27<00:00,  1.37s/it]\n",
      "Training (15139 / 18000 Steps) (loss=0.66741): 100%|██████████| 20/20 [00:15<00:00,  1.26it/s]\n",
      "Training (15159 / 18000 Steps) (loss=0.40487): 100%|██████████| 20/20 [00:15<00:00,  1.27it/s]\n",
      "Training (15179 / 18000 Steps) (loss=0.60024): 100%|██████████| 20/20 [00:16<00:00,  1.24it/s]\n",
      "Training (15199 / 18000 Steps) (loss=0.41454): 100%|██████████| 20/20 [00:16<00:00,  1.23it/s]\n",
      "Validate (15200 / 10 Steps): 100%|██████████| 8/8 [00:13<00:00,  1.63s/it]6<?, ?it/s]\n",
      "Training (15200 / 18000 Steps) (loss=0.35272):   5%|▌         | 1/20 [00:19<06:06, 19.27s/it]"
     ]
    },
    {
     "name": "stdout",
     "output_type": "stream",
     "text": [
      "Model Was Not Saved ! Current Best Avg. Dice: 0.6273200511932373 Current Avg. Dice: 0.6221358180046082 Current Avg. tumor Dice: 0.7322291135787964 Current Avg. lymph Dice: 0.48197227716445923\n"
     ]
    },
    {
     "name": "stderr",
     "output_type": "stream",
     "text": [
      "Training (15219 / 18000 Steps) (loss=0.36852): 100%|██████████| 20/20 [00:26<00:00,  1.32s/it]\n",
      "Training (15239 / 18000 Steps) (loss=0.25416): 100%|██████████| 20/20 [00:16<00:00,  1.20it/s]\n",
      "Training (15259 / 18000 Steps) (loss=0.40797): 100%|██████████| 20/20 [00:15<00:00,  1.26it/s]\n",
      "Training (15279 / 18000 Steps) (loss=0.31987): 100%|██████████| 20/20 [00:14<00:00,  1.36it/s]\n",
      "Training (15299 / 18000 Steps) (loss=0.41507): 100%|██████████| 20/20 [00:15<00:00,  1.33it/s]\n",
      "Validate (15300 / 10 Steps): 100%|██████████| 8/8 [00:13<00:00,  1.64s/it]6<?, ?it/s]\n",
      "Training (15300 / 18000 Steps) (loss=0.42831):   5%|▌         | 1/20 [00:19<06:12, 19.60s/it]"
     ]
    },
    {
     "name": "stdout",
     "output_type": "stream",
     "text": [
      "Model Was Not Saved ! Current Best Avg. Dice: 0.6273200511932373 Current Avg. Dice: 0.6230761408805847 Current Avg. tumor Dice: 0.7447929382324219 Current Avg. lymph Dice: 0.46840280294418335\n"
     ]
    },
    {
     "name": "stderr",
     "output_type": "stream",
     "text": [
      "Training (15319 / 18000 Steps) (loss=0.41077): 100%|██████████| 20/20 [00:26<00:00,  1.33s/it]\n",
      "Training (15339 / 18000 Steps) (loss=0.54927): 100%|██████████| 20/20 [00:15<00:00,  1.28it/s]\n",
      "Training (15359 / 18000 Steps) (loss=0.14959): 100%|██████████| 20/20 [00:16<00:00,  1.22it/s]\n",
      "Training (15379 / 18000 Steps) (loss=0.48746): 100%|██████████| 20/20 [00:15<00:00,  1.28it/s]\n",
      "Training (15399 / 18000 Steps) (loss=0.29290): 100%|██████████| 20/20 [00:16<00:00,  1.22it/s]\n",
      "Validate (15400 / 10 Steps): 100%|██████████| 8/8 [00:12<00:00,  1.58s/it]7<?, ?it/s]\n",
      "Training (15400 / 18000 Steps) (loss=0.28705):   5%|▌         | 1/20 [00:20<06:26, 20.35s/it]"
     ]
    },
    {
     "name": "stdout",
     "output_type": "stream",
     "text": [
      "Model Was Not Saved ! Current Best Avg. Dice: 0.6273200511932373 Current Avg. Dice: 0.6065784096717834 Current Avg. tumor Dice: 0.7122894525527954 Current Avg. lymph Dice: 0.46785780787467957\n"
     ]
    },
    {
     "name": "stderr",
     "output_type": "stream",
     "text": [
      "Training (15419 / 18000 Steps) (loss=0.39941): 100%|██████████| 20/20 [00:27<00:00,  1.37s/it]\n",
      "Training (15439 / 18000 Steps) (loss=0.31478): 100%|██████████| 20/20 [00:15<00:00,  1.27it/s]\n",
      "Training (15459 / 18000 Steps) (loss=0.40448): 100%|██████████| 20/20 [00:15<00:00,  1.28it/s]\n",
      "Training (15479 / 18000 Steps) (loss=0.12626): 100%|██████████| 20/20 [00:14<00:00,  1.41it/s]\n",
      "Training (15499 / 18000 Steps) (loss=0.28523): 100%|██████████| 20/20 [00:15<00:00,  1.26it/s]\n",
      "Validate (15500 / 10 Steps): 100%|██████████| 8/8 [00:13<00:00,  1.64s/it]5<?, ?it/s]\n",
      "Training (15500 / 18000 Steps) (loss=0.40764):   5%|▌         | 1/20 [00:19<06:16, 19.82s/it]"
     ]
    },
    {
     "name": "stdout",
     "output_type": "stream",
     "text": [
      "Model Was Saved ! Current Best Avg. Dice: 0.6320788264274597 Current Avg. Dice: 0.6320788264274597 Current Avg. tumor Dice: 0.7428843379020691 Current Avg. lymph Dice: 0.48627743124961853\n"
     ]
    },
    {
     "name": "stderr",
     "output_type": "stream",
     "text": [
      "Training (15519 / 18000 Steps) (loss=0.37186): 100%|██████████| 20/20 [00:26<00:00,  1.34s/it]\n",
      "Training (15539 / 18000 Steps) (loss=0.21966): 100%|██████████| 20/20 [00:15<00:00,  1.29it/s]\n",
      "Training (15559 / 18000 Steps) (loss=0.34525): 100%|██████████| 20/20 [00:15<00:00,  1.28it/s]\n",
      "Training (15579 / 18000 Steps) (loss=0.28677): 100%|██████████| 20/20 [00:15<00:00,  1.26it/s]\n",
      "Training (15599 / 18000 Steps) (loss=0.66742): 100%|██████████| 20/20 [00:15<00:00,  1.33it/s]\n",
      "Validate (15600 / 10 Steps): 100%|██████████| 8/8 [00:13<00:00,  1.66s/it]5<?, ?it/s]\n",
      "Training (15600 / 18000 Steps) (loss=0.32480):   5%|▌         | 1/20 [00:18<05:54, 18.67s/it]"
     ]
    },
    {
     "name": "stdout",
     "output_type": "stream",
     "text": [
      "Model Was Not Saved ! Current Best Avg. Dice: 0.6320788264274597 Current Avg. Dice: 0.5875861048698425 Current Avg. tumor Dice: 0.7147337794303894 Current Avg. lymph Dice: 0.42260271310806274\n"
     ]
    },
    {
     "name": "stderr",
     "output_type": "stream",
     "text": [
      "Training (15619 / 18000 Steps) (loss=0.56929): 100%|██████████| 20/20 [00:25<00:00,  1.28s/it]\n",
      "Training (15639 / 18000 Steps) (loss=0.32245): 100%|██████████| 20/20 [00:15<00:00,  1.30it/s]\n",
      "Training (15659 / 18000 Steps) (loss=0.22327): 100%|██████████| 20/20 [00:15<00:00,  1.32it/s]\n",
      "Training (15679 / 18000 Steps) (loss=0.54541): 100%|██████████| 20/20 [00:15<00:00,  1.32it/s]\n",
      "Training (15699 / 18000 Steps) (loss=0.31196): 100%|██████████| 20/20 [00:14<00:00,  1.34it/s]\n",
      "Validate (15700 / 10 Steps): 100%|██████████| 8/8 [00:12<00:00,  1.62s/it]6<?, ?it/s]\n",
      "Training (15700 / 18000 Steps) (loss=0.22247):   5%|▌         | 1/20 [00:19<06:16, 19.82s/it]"
     ]
    },
    {
     "name": "stdout",
     "output_type": "stream",
     "text": [
      "Model Was Not Saved ! Current Best Avg. Dice: 0.6320788264274597 Current Avg. Dice: 0.5931613445281982 Current Avg. tumor Dice: 0.6894973516464233 Current Avg. lymph Dice: 0.46848252415657043\n"
     ]
    },
    {
     "name": "stderr",
     "output_type": "stream",
     "text": [
      "Training (15719 / 18000 Steps) (loss=0.27902): 100%|██████████| 20/20 [00:26<00:00,  1.34s/it]\n",
      "Training (15739 / 18000 Steps) (loss=0.42112): 100%|██████████| 20/20 [00:15<00:00,  1.31it/s]\n",
      "Training (15759 / 18000 Steps) (loss=0.51991): 100%|██████████| 20/20 [00:16<00:00,  1.21it/s]\n",
      "Training (15779 / 18000 Steps) (loss=0.31192): 100%|██████████| 20/20 [00:15<00:00,  1.31it/s]\n",
      "Training (15799 / 18000 Steps) (loss=0.43961): 100%|██████████| 20/20 [00:15<00:00,  1.27it/s]\n",
      "Validate (15800 / 10 Steps): 100%|██████████| 8/8 [00:13<00:00,  1.65s/it]5<?, ?it/s]\n",
      "Training (15800 / 18000 Steps) (loss=0.51753):   5%|▌         | 1/20 [00:18<05:57, 18.81s/it]"
     ]
    },
    {
     "name": "stdout",
     "output_type": "stream",
     "text": [
      "Model Was Not Saved ! Current Best Avg. Dice: 0.6320788264274597 Current Avg. Dice: 0.5894737839698792 Current Avg. tumor Dice: 0.728337287902832 Current Avg. lymph Dice: 0.4059222340583801\n"
     ]
    },
    {
     "name": "stderr",
     "output_type": "stream",
     "text": [
      "Training (15819 / 18000 Steps) (loss=0.22104): 100%|██████████| 20/20 [00:25<00:00,  1.29s/it]\n",
      "Training (15839 / 18000 Steps) (loss=0.39120): 100%|██████████| 20/20 [00:15<00:00,  1.29it/s]\n",
      "Training (15859 / 18000 Steps) (loss=0.42534): 100%|██████████| 20/20 [00:14<00:00,  1.35it/s]\n",
      "Training (15879 / 18000 Steps) (loss=0.26514): 100%|██████████| 20/20 [00:15<00:00,  1.28it/s]\n",
      "Training (15899 / 18000 Steps) (loss=0.39403): 100%|██████████| 20/20 [00:14<00:00,  1.33it/s]\n",
      "Validate (15900 / 10 Steps): 100%|██████████| 8/8 [00:13<00:00,  1.63s/it]5<?, ?it/s]\n",
      "Training (15900 / 18000 Steps) (loss=0.38342):   5%|▌         | 1/20 [00:19<06:01, 19.04s/it]"
     ]
    },
    {
     "name": "stdout",
     "output_type": "stream",
     "text": [
      "Model Was Not Saved ! Current Best Avg. Dice: 0.6320788264274597 Current Avg. Dice: 0.5939305424690247 Current Avg. tumor Dice: 0.6877450942993164 Current Avg. lymph Dice: 0.47322648763656616\n"
     ]
    },
    {
     "name": "stderr",
     "output_type": "stream",
     "text": [
      "Training (15919 / 18000 Steps) (loss=0.41355): 100%|██████████| 20/20 [00:26<00:00,  1.30s/it]\n",
      "Training (15939 / 18000 Steps) (loss=0.36543): 100%|██████████| 20/20 [00:15<00:00,  1.31it/s]\n",
      "Training (15959 / 18000 Steps) (loss=0.40015): 100%|██████████| 20/20 [00:16<00:00,  1.19it/s]\n",
      "Training (15979 / 18000 Steps) (loss=0.35333): 100%|██████████| 20/20 [00:14<00:00,  1.42it/s]\n",
      "Training (15999 / 18000 Steps) (loss=0.29087): 100%|██████████| 20/20 [00:15<00:00,  1.30it/s]\n",
      "Validate (16000 / 10 Steps): 100%|██████████| 8/8 [00:13<00:00,  1.67s/it]5<?, ?it/s]\n",
      "Training (16000 / 18000 Steps) (loss=0.43116):   5%|▌         | 1/20 [00:19<06:03, 19.14s/it]"
     ]
    },
    {
     "name": "stdout",
     "output_type": "stream",
     "text": [
      "Model Was Not Saved ! Current Best Avg. Dice: 0.6320788264274597 Current Avg. Dice: 0.5999346375465393 Current Avg. tumor Dice: 0.7416324615478516 Current Avg. lymph Dice: 0.4115641415119171\n"
     ]
    },
    {
     "name": "stderr",
     "output_type": "stream",
     "text": [
      "Training (16019 / 18000 Steps) (loss=0.42304): 100%|██████████| 20/20 [00:26<00:00,  1.31s/it]\n",
      "Training (16039 / 18000 Steps) (loss=0.47229): 100%|██████████| 20/20 [00:14<00:00,  1.41it/s]\n",
      "Training (16059 / 18000 Steps) (loss=0.48284): 100%|██████████| 20/20 [00:14<00:00,  1.34it/s]\n",
      "Training (16079 / 18000 Steps) (loss=0.25729): 100%|██████████| 20/20 [00:15<00:00,  1.31it/s]\n",
      "Training (16099 / 18000 Steps) (loss=0.13859): 100%|██████████| 20/20 [00:15<00:00,  1.31it/s]\n",
      "Validate (16100 / 10 Steps): 100%|██████████| 8/8 [00:13<00:00,  1.65s/it]5<?, ?it/s]\n",
      "Training (16100 / 18000 Steps) (loss=0.42656):   5%|▌         | 1/20 [00:18<05:51, 18.48s/it]"
     ]
    },
    {
     "name": "stdout",
     "output_type": "stream",
     "text": [
      "Model Was Not Saved ! Current Best Avg. Dice: 0.6320788264274597 Current Avg. Dice: 0.6237294673919678 Current Avg. tumor Dice: 0.7484207153320312 Current Avg. lymph Dice: 0.47310584783554077\n"
     ]
    },
    {
     "name": "stderr",
     "output_type": "stream",
     "text": [
      "Training (16119 / 18000 Steps) (loss=0.44751): 100%|██████████| 20/20 [00:25<00:00,  1.28s/it]\n",
      "Training (16139 / 18000 Steps) (loss=0.29590): 100%|██████████| 20/20 [00:14<00:00,  1.35it/s]\n",
      "Training (16159 / 18000 Steps) (loss=0.45876): 100%|██████████| 20/20 [00:14<00:00,  1.37it/s]\n",
      "Training (16179 / 18000 Steps) (loss=0.29461): 100%|██████████| 20/20 [00:15<00:00,  1.28it/s]\n",
      "Training (16199 / 18000 Steps) (loss=0.37616): 100%|██████████| 20/20 [00:15<00:00,  1.30it/s]\n",
      "Validate (16200 / 10 Steps): 100%|██████████| 8/8 [00:12<00:00,  1.58s/it]8<?, ?it/s]\n",
      "Training (16200 / 18000 Steps) (loss=0.28777):   5%|▌         | 1/20 [00:21<06:40, 21.07s/it]"
     ]
    },
    {
     "name": "stdout",
     "output_type": "stream",
     "text": [
      "Model Was Not Saved ! Current Best Avg. Dice: 0.6320788264274597 Current Avg. Dice: 0.6032059788703918 Current Avg. tumor Dice: 0.7270819544792175 Current Avg. lymph Dice: 0.4535273015499115\n"
     ]
    },
    {
     "name": "stderr",
     "output_type": "stream",
     "text": [
      "Training (16219 / 18000 Steps) (loss=0.19930): 100%|██████████| 20/20 [00:28<00:00,  1.40s/it]\n",
      "Training (16239 / 18000 Steps) (loss=0.55928): 100%|██████████| 20/20 [00:15<00:00,  1.33it/s]\n",
      "Training (16259 / 18000 Steps) (loss=0.54900): 100%|██████████| 20/20 [00:15<00:00,  1.28it/s]\n",
      "Training (16279 / 18000 Steps) (loss=0.47564): 100%|██████████| 20/20 [00:15<00:00,  1.31it/s]\n",
      "Training (16299 / 18000 Steps) (loss=0.44591): 100%|██████████| 20/20 [00:15<00:00,  1.32it/s]\n",
      "Validate (16300 / 10 Steps): 100%|██████████| 8/8 [00:13<00:00,  1.63s/it]7<?, ?it/s]\n",
      "Training (16300 / 18000 Steps) (loss=0.39283):   5%|▌         | 1/20 [00:21<06:45, 21.36s/it]"
     ]
    },
    {
     "name": "stdout",
     "output_type": "stream",
     "text": [
      "Model Was Saved ! Current Best Avg. Dice: 0.632978618144989 Current Avg. Dice: 0.632978618144989 Current Avg. tumor Dice: 0.7508126497268677 Current Avg. lymph Dice: 0.4827728867530823\n"
     ]
    },
    {
     "name": "stderr",
     "output_type": "stream",
     "text": [
      "Training (16319 / 18000 Steps) (loss=0.52186): 100%|██████████| 20/20 [00:28<00:00,  1.42s/it]\n",
      "Training (16339 / 18000 Steps) (loss=0.55233): 100%|██████████| 20/20 [00:15<00:00,  1.25it/s]\n",
      "Training (16359 / 18000 Steps) (loss=0.37933): 100%|██████████| 20/20 [00:15<00:00,  1.30it/s]\n",
      "Training (16379 / 18000 Steps) (loss=0.31708): 100%|██████████| 20/20 [00:14<00:00,  1.36it/s]\n",
      "Training (16399 / 18000 Steps) (loss=0.13107): 100%|██████████| 20/20 [00:16<00:00,  1.22it/s]\n",
      "Validate (16400 / 10 Steps): 100%|██████████| 8/8 [00:12<00:00,  1.62s/it]7<?, ?it/s]\n",
      "Training (16400 / 18000 Steps) (loss=0.47922):   5%|▌         | 1/20 [00:20<06:37, 20.90s/it]"
     ]
    },
    {
     "name": "stdout",
     "output_type": "stream",
     "text": [
      "Model Was Not Saved ! Current Best Avg. Dice: 0.632978618144989 Current Avg. Dice: 0.6178411841392517 Current Avg. tumor Dice: 0.7403411865234375 Current Avg. lymph Dice: 0.45954152941703796\n"
     ]
    },
    {
     "name": "stderr",
     "output_type": "stream",
     "text": [
      "Training (16419 / 18000 Steps) (loss=0.27515): 100%|██████████| 20/20 [00:27<00:00,  1.40s/it]\n",
      "Training (16439 / 18000 Steps) (loss=0.37530): 100%|██████████| 20/20 [00:16<00:00,  1.23it/s]\n",
      "Training (16459 / 18000 Steps) (loss=0.33155): 100%|██████████| 20/20 [00:15<00:00,  1.32it/s]\n",
      "Training (16479 / 18000 Steps) (loss=0.28348): 100%|██████████| 20/20 [00:15<00:00,  1.33it/s]\n",
      "Training (16499 / 18000 Steps) (loss=0.30827): 100%|██████████| 20/20 [00:14<00:00,  1.36it/s]\n",
      "Validate (16500 / 10 Steps): 100%|██████████| 8/8 [00:13<00:00,  1.65s/it]6<?, ?it/s]\n",
      "Training (16500 / 18000 Steps) (loss=0.40417):   5%|▌         | 1/20 [00:20<06:23, 20.21s/it]"
     ]
    },
    {
     "name": "stdout",
     "output_type": "stream",
     "text": [
      "Model Was Not Saved ! Current Best Avg. Dice: 0.632978618144989 Current Avg. Dice: 0.6159899830818176 Current Avg. tumor Dice: 0.7440677285194397 Current Avg. lymph Dice: 0.4502273201942444\n"
     ]
    },
    {
     "name": "stderr",
     "output_type": "stream",
     "text": [
      "Training (16519 / 18000 Steps) (loss=0.28257): 100%|██████████| 20/20 [00:27<00:00,  1.36s/it]\n",
      "Training (16539 / 18000 Steps) (loss=0.27206): 100%|██████████| 20/20 [00:14<00:00,  1.40it/s]\n",
      "Training (16559 / 18000 Steps) (loss=0.39275): 100%|██████████| 20/20 [00:15<00:00,  1.29it/s]\n",
      "Training (16579 / 18000 Steps) (loss=0.34255): 100%|██████████| 20/20 [00:14<00:00,  1.40it/s]\n",
      "Training (16599 / 18000 Steps) (loss=0.54669): 100%|██████████| 20/20 [00:15<00:00,  1.32it/s]\n",
      "Validate (16600 / 10 Steps): 100%|██████████| 8/8 [00:12<00:00,  1.59s/it]7<?, ?it/s]\n",
      "Training (16600 / 18000 Steps) (loss=0.38881):   5%|▌         | 1/20 [00:20<06:29, 20.50s/it]"
     ]
    },
    {
     "name": "stdout",
     "output_type": "stream",
     "text": [
      "Model Was Not Saved ! Current Best Avg. Dice: 0.632978618144989 Current Avg. Dice: 0.6262514591217041 Current Avg. tumor Dice: 0.7513346076011658 Current Avg. lymph Dice: 0.46407368779182434\n"
     ]
    },
    {
     "name": "stderr",
     "output_type": "stream",
     "text": [
      "Training (16619 / 18000 Steps) (loss=0.17584): 100%|██████████| 20/20 [00:27<00:00,  1.38s/it]\n",
      "Training (16639 / 18000 Steps) (loss=0.41593): 100%|██████████| 20/20 [00:15<00:00,  1.26it/s]\n",
      "Training (16659 / 18000 Steps) (loss=0.23873): 100%|██████████| 20/20 [00:15<00:00,  1.33it/s]\n",
      "Training (16679 / 18000 Steps) (loss=0.43820): 100%|██████████| 20/20 [00:15<00:00,  1.31it/s]\n",
      "Training (16699 / 18000 Steps) (loss=0.27845): 100%|██████████| 20/20 [00:16<00:00,  1.24it/s]\n",
      "Validate (16700 / 10 Steps): 100%|██████████| 8/8 [00:13<00:00,  1.63s/it]5<?, ?it/s]\n",
      "Training (16700 / 18000 Steps) (loss=0.32671):   5%|▌         | 1/20 [00:18<05:46, 18.22s/it]"
     ]
    },
    {
     "name": "stdout",
     "output_type": "stream",
     "text": [
      "Model Was Not Saved ! Current Best Avg. Dice: 0.632978618144989 Current Avg. Dice: 0.5883980393409729 Current Avg. tumor Dice: 0.7298609018325806 Current Avg. lymph Dice: 0.40701690316200256\n"
     ]
    },
    {
     "name": "stderr",
     "output_type": "stream",
     "text": [
      "Training (16719 / 18000 Steps) (loss=0.54487): 100%|██████████| 20/20 [00:25<00:00,  1.26s/it]\n",
      "Training (16739 / 18000 Steps) (loss=0.62538): 100%|██████████| 20/20 [00:16<00:00,  1.25it/s]\n",
      "Training (16759 / 18000 Steps) (loss=0.15727): 100%|██████████| 20/20 [00:15<00:00,  1.26it/s]\n",
      "Training (16779 / 18000 Steps) (loss=0.32289): 100%|██████████| 20/20 [00:15<00:00,  1.32it/s]\n",
      "Training (16799 / 18000 Steps) (loss=0.32029): 100%|██████████| 20/20 [00:15<00:00,  1.29it/s]\n",
      "Validate (16800 / 10 Steps): 100%|██████████| 8/8 [00:13<00:00,  1.64s/it]5<?, ?it/s]\n",
      "Training (16800 / 18000 Steps) (loss=0.54024):   5%|▌         | 1/20 [00:19<06:03, 19.12s/it]"
     ]
    },
    {
     "name": "stdout",
     "output_type": "stream",
     "text": [
      "Model Was Not Saved ! Current Best Avg. Dice: 0.632978618144989 Current Avg. Dice: 0.5704030990600586 Current Avg. tumor Dice: 0.6912352442741394 Current Avg. lymph Dice: 0.42015236616134644\n"
     ]
    },
    {
     "name": "stderr",
     "output_type": "stream",
     "text": [
      "Training (16819 / 18000 Steps) (loss=0.46926): 100%|██████████| 20/20 [00:26<00:00,  1.31s/it]\n",
      "Training (16839 / 18000 Steps) (loss=0.12684): 100%|██████████| 20/20 [00:16<00:00,  1.22it/s]\n",
      "Training (16859 / 18000 Steps) (loss=0.35453): 100%|██████████| 20/20 [00:15<00:00,  1.27it/s]\n",
      "Training (16879 / 18000 Steps) (loss=0.25283): 100%|██████████| 20/20 [00:16<00:00,  1.24it/s]\n",
      "Training (16899 / 18000 Steps) (loss=0.41982): 100%|██████████| 20/20 [00:14<00:00,  1.35it/s]\n",
      "Validate (16900 / 10 Steps): 100%|██████████| 8/8 [00:12<00:00,  1.62s/it]6<?, ?it/s]\n",
      "Training (16900 / 18000 Steps) (loss=0.40332):   5%|▌         | 1/20 [00:19<06:06, 19.30s/it]"
     ]
    },
    {
     "name": "stdout",
     "output_type": "stream",
     "text": [
      "Model Was Not Saved ! Current Best Avg. Dice: 0.632978618144989 Current Avg. Dice: 0.6310589909553528 Current Avg. tumor Dice: 0.742101788520813 Current Avg. lymph Dice: 0.4896141290664673\n"
     ]
    },
    {
     "name": "stderr",
     "output_type": "stream",
     "text": [
      "Training (16919 / 18000 Steps) (loss=0.45439): 100%|██████████| 20/20 [00:26<00:00,  1.31s/it]\n",
      "Training (16939 / 18000 Steps) (loss=0.27309): 100%|██████████| 20/20 [00:15<00:00,  1.31it/s]\n",
      "Training (16959 / 18000 Steps) (loss=0.53935): 100%|██████████| 20/20 [00:14<00:00,  1.36it/s]\n",
      "Training (16979 / 18000 Steps) (loss=0.49904): 100%|██████████| 20/20 [00:15<00:00,  1.31it/s]\n",
      "Training (16999 / 18000 Steps) (loss=0.44171): 100%|██████████| 20/20 [00:16<00:00,  1.23it/s]\n",
      "Validate (17000 / 10 Steps): 100%|██████████| 8/8 [00:13<00:00,  1.65s/it]5<?, ?it/s]\n",
      "Training (17000 / 18000 Steps) (loss=0.44297):   5%|▌         | 1/20 [00:19<06:08, 19.39s/it]"
     ]
    },
    {
     "name": "stdout",
     "output_type": "stream",
     "text": [
      "Model Was Saved ! Current Best Avg. Dice: 0.634338915348053 Current Avg. Dice: 0.634338915348053 Current Avg. tumor Dice: 0.7560577392578125 Current Avg. lymph Dice: 0.48089471459388733\n"
     ]
    },
    {
     "name": "stderr",
     "output_type": "stream",
     "text": [
      "Training (17019 / 18000 Steps) (loss=0.29879): 100%|██████████| 20/20 [00:26<00:00,  1.32s/it]\n",
      "Training (17039 / 18000 Steps) (loss=0.54876): 100%|██████████| 20/20 [00:14<00:00,  1.36it/s]\n",
      "Training (17059 / 18000 Steps) (loss=0.40348): 100%|██████████| 20/20 [00:15<00:00,  1.27it/s]\n",
      "Training (17079 / 18000 Steps) (loss=0.54049): 100%|██████████| 20/20 [00:15<00:00,  1.31it/s]\n",
      "Training (17099 / 18000 Steps) (loss=0.31179): 100%|██████████| 20/20 [00:14<00:00,  1.34it/s]\n",
      "Validate (17100 / 10 Steps): 100%|██████████| 8/8 [00:13<00:00,  1.67s/it]5<?, ?it/s]\n",
      "Training (17100 / 18000 Steps) (loss=0.42950):   5%|▌         | 1/20 [00:18<05:58, 18.86s/it]"
     ]
    },
    {
     "name": "stdout",
     "output_type": "stream",
     "text": [
      "Model Was Not Saved ! Current Best Avg. Dice: 0.634338915348053 Current Avg. Dice: 0.6310728192329407 Current Avg. tumor Dice: 0.7569658756256104 Current Avg. lymph Dice: 0.4696473777294159\n"
     ]
    },
    {
     "name": "stderr",
     "output_type": "stream",
     "text": [
      "Training (17119 / 18000 Steps) (loss=0.32164): 100%|██████████| 20/20 [00:25<00:00,  1.29s/it]\n",
      "Training (17139 / 18000 Steps) (loss=0.14937): 100%|██████████| 20/20 [00:15<00:00,  1.29it/s]\n",
      "Training (17159 / 18000 Steps) (loss=0.34120): 100%|██████████| 20/20 [00:16<00:00,  1.21it/s]\n",
      "Training (17179 / 18000 Steps) (loss=0.33889): 100%|██████████| 20/20 [00:14<00:00,  1.39it/s]\n",
      "Training (17199 / 18000 Steps) (loss=0.65223): 100%|██████████| 20/20 [00:15<00:00,  1.31it/s]\n",
      "Validate (17200 / 10 Steps): 100%|██████████| 8/8 [00:13<00:00,  1.68s/it]5<?, ?it/s]\n",
      "Training (17200 / 18000 Steps) (loss=0.51338):   5%|▌         | 1/20 [00:19<06:06, 19.31s/it]"
     ]
    },
    {
     "name": "stdout",
     "output_type": "stream",
     "text": [
      "Model Was Not Saved ! Current Best Avg. Dice: 0.634338915348053 Current Avg. Dice: 0.6102624535560608 Current Avg. tumor Dice: 0.7567363977432251 Current Avg. lymph Dice: 0.42492038011550903\n"
     ]
    },
    {
     "name": "stderr",
     "output_type": "stream",
     "text": [
      "Training (17219 / 18000 Steps) (loss=0.38969): 100%|██████████| 20/20 [00:26<00:00,  1.32s/it]\n",
      "Training (17239 / 18000 Steps) (loss=0.30173): 100%|██████████| 20/20 [00:15<00:00,  1.29it/s]\n",
      "Training (17259 / 18000 Steps) (loss=0.41041): 100%|██████████| 20/20 [00:15<00:00,  1.26it/s]\n",
      "Training (17279 / 18000 Steps) (loss=0.28967): 100%|██████████| 20/20 [00:15<00:00,  1.27it/s]\n",
      "Training (17299 / 18000 Steps) (loss=0.42548): 100%|██████████| 20/20 [00:15<00:00,  1.26it/s]\n",
      "Validate (17300 / 10 Steps): 100%|██████████| 8/8 [00:13<00:00,  1.64s/it]5<?, ?it/s]\n",
      "Training (17300 / 18000 Steps) (loss=0.35378):   5%|▌         | 1/20 [00:18<05:46, 18.25s/it]"
     ]
    },
    {
     "name": "stdout",
     "output_type": "stream",
     "text": [
      "Model Was Not Saved ! Current Best Avg. Dice: 0.634338915348053 Current Avg. Dice: 0.623779296875 Current Avg. tumor Dice: 0.7469292879104614 Current Avg. lymph Dice: 0.4610825181007385\n"
     ]
    },
    {
     "name": "stderr",
     "output_type": "stream",
     "text": [
      "Training (17319 / 18000 Steps) (loss=0.43065): 100%|██████████| 20/20 [00:25<00:00,  1.26s/it]\n",
      "Training (17339 / 18000 Steps) (loss=0.50197): 100%|██████████| 20/20 [00:14<00:00,  1.38it/s]\n",
      "Training (17359 / 18000 Steps) (loss=0.23589): 100%|██████████| 20/20 [00:16<00:00,  1.20it/s]\n",
      "Training (17379 / 18000 Steps) (loss=0.29511): 100%|██████████| 20/20 [00:15<00:00,  1.28it/s]\n",
      "Training (17399 / 18000 Steps) (loss=0.40499): 100%|██████████| 20/20 [00:15<00:00,  1.29it/s]\n",
      "Validate (17400 / 10 Steps): 100%|██████████| 8/8 [00:13<00:00,  1.70s/it]6<?, ?it/s]\n",
      "Training (17400 / 18000 Steps) (loss=0.39244):   5%|▌         | 1/20 [00:20<06:23, 20.21s/it]"
     ]
    },
    {
     "name": "stdout",
     "output_type": "stream",
     "text": [
      "Model Was Not Saved ! Current Best Avg. Dice: 0.634338915348053 Current Avg. Dice: 0.6092889308929443 Current Avg. tumor Dice: 0.7537602782249451 Current Avg. lymph Dice: 0.4242887496948242\n"
     ]
    },
    {
     "name": "stderr",
     "output_type": "stream",
     "text": [
      "Training (17419 / 18000 Steps) (loss=0.41487): 100%|██████████| 20/20 [00:27<00:00,  1.36s/it]\n",
      "Training (17439 / 18000 Steps) (loss=0.36814): 100%|██████████| 20/20 [00:14<00:00,  1.33it/s]\n",
      "Training (17459 / 18000 Steps) (loss=0.61363): 100%|██████████| 20/20 [00:16<00:00,  1.24it/s]\n",
      "Training (17479 / 18000 Steps) (loss=0.34372): 100%|██████████| 20/20 [00:14<00:00,  1.38it/s]\n",
      "Training (17499 / 18000 Steps) (loss=0.54433): 100%|██████████| 20/20 [00:15<00:00,  1.30it/s]\n",
      "Validate (17500 / 10 Steps): 100%|██████████| 8/8 [00:13<00:00,  1.66s/it]5<?, ?it/s]\n",
      "Training (17500 / 18000 Steps) (loss=0.40112):   5%|▌         | 1/20 [00:19<06:13, 19.66s/it]"
     ]
    },
    {
     "name": "stdout",
     "output_type": "stream",
     "text": [
      "Model Was Saved ! Current Best Avg. Dice: 0.6420183777809143 Current Avg. Dice: 0.6420183777809143 Current Avg. tumor Dice: 0.7427574396133423 Current Avg. lymph Dice: 0.5156047344207764\n"
     ]
    },
    {
     "name": "stderr",
     "output_type": "stream",
     "text": [
      "Training (17519 / 18000 Steps) (loss=0.53653): 100%|██████████| 20/20 [00:26<00:00,  1.34s/it]\n",
      "Training (17539 / 18000 Steps) (loss=0.53479): 100%|██████████| 20/20 [00:15<00:00,  1.31it/s]\n",
      "Training (17559 / 18000 Steps) (loss=0.52817): 100%|██████████| 20/20 [00:15<00:00,  1.30it/s]\n",
      "Training (17579 / 18000 Steps) (loss=0.25828): 100%|██████████| 20/20 [00:14<00:00,  1.36it/s]\n",
      "Training (17599 / 18000 Steps) (loss=0.26732): 100%|██████████| 20/20 [00:14<00:00,  1.40it/s]\n",
      "Validate (17600 / 10 Steps): 100%|██████████| 8/8 [00:13<00:00,  1.67s/it]7<?, ?it/s]\n",
      "Training (17600 / 18000 Steps) (loss=0.42580):   5%|▌         | 1/20 [00:20<06:34, 20.78s/it]"
     ]
    },
    {
     "name": "stdout",
     "output_type": "stream",
     "text": [
      "Model Was Not Saved ! Current Best Avg. Dice: 0.6420183777809143 Current Avg. Dice: 0.5998537540435791 Current Avg. tumor Dice: 0.66914963722229 Current Avg. lymph Dice: 0.5085650086402893\n"
     ]
    },
    {
     "name": "stderr",
     "output_type": "stream",
     "text": [
      "Training (17619 / 18000 Steps) (loss=0.57807): 100%|██████████| 20/20 [00:27<00:00,  1.39s/it]\n",
      "Training (17639 / 18000 Steps) (loss=0.45573): 100%|██████████| 20/20 [00:14<00:00,  1.34it/s]\n",
      "Training (17659 / 18000 Steps) (loss=0.38979): 100%|██████████| 20/20 [00:15<00:00,  1.31it/s]\n",
      "Training (17679 / 18000 Steps) (loss=0.46536): 100%|██████████| 20/20 [00:15<00:00,  1.29it/s]\n",
      "Training (17699 / 18000 Steps) (loss=0.61867): 100%|██████████| 20/20 [00:15<00:00,  1.33it/s]\n",
      "Validate (17700 / 10 Steps): 100%|██████████| 8/8 [00:13<00:00,  1.64s/it]7<?, ?it/s]\n",
      "Training (17700 / 18000 Steps) (loss=0.43117):   5%|▌         | 1/20 [00:20<06:36, 20.89s/it]"
     ]
    },
    {
     "name": "stdout",
     "output_type": "stream",
     "text": [
      "Model Was Not Saved ! Current Best Avg. Dice: 0.6420183777809143 Current Avg. Dice: 0.6304062008857727 Current Avg. tumor Dice: 0.7524959444999695 Current Avg. lymph Dice: 0.47586536407470703\n"
     ]
    },
    {
     "name": "stderr",
     "output_type": "stream",
     "text": [
      "Training (17719 / 18000 Steps) (loss=0.39345): 100%|██████████| 20/20 [00:27<00:00,  1.39s/it]\n",
      "Training (17739 / 18000 Steps) (loss=0.43921): 100%|██████████| 20/20 [00:15<00:00,  1.25it/s]\n",
      "Training (17759 / 18000 Steps) (loss=0.53236): 100%|██████████| 20/20 [00:15<00:00,  1.30it/s]\n",
      "Training (17779 / 18000 Steps) (loss=0.26033): 100%|██████████| 20/20 [00:15<00:00,  1.30it/s]\n",
      "Training (17799 / 18000 Steps) (loss=0.60911): 100%|██████████| 20/20 [00:16<00:00,  1.21it/s]\n",
      "Validate (17800 / 10 Steps): 100%|██████████| 8/8 [00:13<00:00,  1.69s/it]5<?, ?it/s]\n",
      "Training (17800 / 18000 Steps) (loss=0.30267):   5%|▌         | 1/20 [00:18<05:55, 18.72s/it]"
     ]
    },
    {
     "name": "stdout",
     "output_type": "stream",
     "text": [
      "Model Was Not Saved ! Current Best Avg. Dice: 0.6420183777809143 Current Avg. Dice: 0.6018961668014526 Current Avg. tumor Dice: 0.7602161765098572 Current Avg. lymph Dice: 0.40228894352912903\n"
     ]
    },
    {
     "name": "stderr",
     "output_type": "stream",
     "text": [
      "Training (17819 / 18000 Steps) (loss=0.52078): 100%|██████████| 20/20 [00:25<00:00,  1.29s/it]\n",
      "Training (17839 / 18000 Steps) (loss=0.31374): 100%|██████████| 20/20 [00:15<00:00,  1.27it/s]\n",
      "Training (17859 / 18000 Steps) (loss=0.49030): 100%|██████████| 20/20 [00:15<00:00,  1.32it/s]\n",
      "Training (17879 / 18000 Steps) (loss=0.54954): 100%|██████████| 20/20 [00:16<00:00,  1.21it/s]\n",
      "Training (17899 / 18000 Steps) (loss=0.29867): 100%|██████████| 20/20 [00:15<00:00,  1.32it/s]\n",
      "Validate (17900 / 10 Steps): 100%|██████████| 8/8 [00:13<00:00,  1.70s/it]7<?, ?it/s]\n",
      "Training (17900 / 18000 Steps) (loss=0.20463):   5%|▌         | 1/20 [00:20<06:37, 20.93s/it]"
     ]
    },
    {
     "name": "stdout",
     "output_type": "stream",
     "text": [
      "Model Was Not Saved ! Current Best Avg. Dice: 0.6420183777809143 Current Avg. Dice: 0.5807121396064758 Current Avg. tumor Dice: 0.7433731555938721 Current Avg. lymph Dice: 0.37245118618011475\n"
     ]
    },
    {
     "name": "stderr",
     "output_type": "stream",
     "text": [
      "Training (17919 / 18000 Steps) (loss=0.53312): 100%|██████████| 20/20 [00:27<00:00,  1.40s/it]\n",
      "Training (17939 / 18000 Steps) (loss=0.36035): 100%|██████████| 20/20 [00:15<00:00,  1.27it/s]\n",
      "Training (17959 / 18000 Steps) (loss=0.38996): 100%|██████████| 20/20 [00:15<00:00,  1.28it/s]\n",
      "Training (17979 / 18000 Steps) (loss=0.58550): 100%|██████████| 20/20 [00:16<00:00,  1.24it/s]\n",
      "Training (17999 / 18000 Steps) (loss=0.38016): 100%|██████████| 20/20 [00:16<00:00,  1.24it/s]\n"
     ]
    }
   ],
   "source": [
    "model_dir = '/home/nada.saadi/CTPET/hecktor2022_cropped/x1_ct_channel_ctpt'\n",
    "def validation(epoch_iterator_val):\n",
    "        model.eval()\n",
    "        with torch.no_grad():\n",
    "            for step, batch in enumerate(epoch_iterator_val):\n",
    "                val_inputs, val_labels = (batch[\"ctpt\"].cuda(), batch[\"seg\"].cuda())\n",
    "                val_outputs = sliding_window_inference(val_inputs, (96, 96, 96), 4, model)\n",
    "                val_labels_list = decollate_batch(val_labels)\n",
    "                val_labels_convert = [\n",
    "                    post_label(val_label_tensor) for val_label_tensor in val_labels_list\n",
    "                ]\n",
    "                val_outputs_list = decollate_batch(val_outputs)\n",
    "                val_output_convert = [\n",
    "                    post_pred(val_pred_tensor) for val_pred_tensor in val_outputs_list\n",
    "                ]\n",
    "                dice_metric(y_pred=val_output_convert, y=val_labels_convert)\n",
    "                dice_metric_batch(y_pred=val_output_convert, y=val_labels_convert)\n",
    "                epoch_iterator_val.set_description(\n",
    "                    \"Validate (%d / %d Steps)\" % (global_step, 10.0)\n",
    "                )\n",
    "            mean_dice_val = dice_metric.aggregate().item()\n",
    "            metric_batch_val = dice_metric_batch.aggregate()\n",
    "\n",
    "            metric_tumor = metric_batch_val[0].item()\n",
    "            metric_lymph = metric_batch_val[1].item()\n",
    "\n",
    "            dice_metric.reset()\n",
    "            dice_metric_batch.reset()\n",
    "        return mean_dice_val, metric_tumor, metric_lymph\n",
    "\n",
    "def train(global_step, train_loader, dice_val_best, global_step_best):\n",
    "        model.train()\n",
    "        epoch_loss = 0\n",
    "        step = 0\n",
    "        epoch_iterator = tqdm(\n",
    "            train_loader, desc=\"Training (X / X Steps) (loss=X.X)\", dynamic_ncols=True\n",
    "        )\n",
    "        \n",
    "        for step, batch in enumerate(epoch_iterator):\n",
    "            step += 1\n",
    "            x, y = (batch[\"ctpt\"].cuda(), batch[\"seg\"].cuda())\n",
    "            logit_map = model(x)\n",
    "            \n",
    "            loss = loss_function(logit_map, y)\n",
    "            loss.backward()\n",
    "            epoch_loss += loss.item()\n",
    "            optimizer.step()\n",
    "            optimizer.zero_grad()\n",
    "            epoch_iterator.set_description(\n",
    "                \"Training (%d / %d Steps) (loss=%2.5f)\"\n",
    "                % (global_step, max_iterations, loss)\n",
    "            )\n",
    "            \n",
    "            if (\n",
    "                global_step % eval_num == 0 and global_step != 0\n",
    "            ) or global_step == max_iterations:\n",
    "                epoch_iterator_val = tqdm(\n",
    "                    val_loader, desc=\"Validate (X / X Steps) (dice=X.X)\", dynamic_ncols=True\n",
    "                )\n",
    "                dice_val, metric_tumor, metric_lymph = validation(epoch_iterator_val)\n",
    "                epoch_loss /= step\n",
    "                epoch_loss_values.append(epoch_loss)\n",
    "                metric_values.append(dice_val)\n",
    "                metric_values_tumor.append(metric_tumor)\n",
    "                metric_values_lymph.append(metric_lymph)\n",
    "                if dice_val > dice_val_best:\n",
    "                    dice_val_best = dice_val\n",
    "                    global_step_best = global_step\n",
    "                    torch.save(\n",
    "                        model.state_dict(), os.path.join(model_dir, \"x1_ct_channel-ctpt_.pth\")\n",
    "                    )\n",
    "                    print(\n",
    "                        \"Model Was Saved ! Current Best Avg. Dice: {} Current Avg. Dice: {} Current Avg. tumor Dice: {} Current Avg. lymph Dice: {}\".format(\n",
    "                            dice_val_best, dice_val, metric_tumor, metric_lymph\n",
    "                        )\n",
    "                    )\n",
    "                else:\n",
    "                    print(\n",
    "                        \"Model Was Not Saved ! Current Best Avg. Dice: {} Current Avg. Dice: {} Current Avg. tumor Dice: {} Current Avg. lymph Dice: {}\".format(\n",
    "                            dice_val_best, dice_val,  metric_tumor, metric_lymph\n",
    "                        )\n",
    "                    )\n",
    "            global_step += 1\n",
    "        return global_step, dice_val_best, global_step_best\n",
    "\n",
    "       \n",
    "\n",
    "max_iterations = 18000\n",
    "eval_num = 100\n",
    "\n",
    "post_label = AsDiscrete(to_onehot=3)\n",
    "post_pred = AsDiscrete(argmax=True, to_onehot=3)\n",
    "\n",
    "dice_metric = DiceMetric(include_background=False, reduction=\"mean\", get_not_nans=False)\n",
    "dice_metric_batch = DiceMetric(include_background=False, reduction=\"mean_batch\")\n",
    "\n",
    "epoch = 0\n",
    "max_num_epochs = 530\n",
    "\n",
    "global_step = 0\n",
    "dice_val_best = 0.0\n",
    "global_step_best = 0\n",
    "epoch_loss_values = []\n",
    "metric_values = []\n",
    "metric_values_tumor = []\n",
    "metric_values_lymph = []\n",
    "while global_step < max_iterations:\n",
    "    global_step, dice_val_best, global_step_best = train(\n",
    "        global_step, train_loader, dice_val_best, global_step_best\n",
    "    )\n",
    "    # wandb.log({'learning_rate': optimizer.param_groups[0]['lr']})\n",
    "    # wandb.log({'Best Dice': dice_val_best})\n",
    "    epoch += 1 \n",
    "    #optimizer.param_groups[0]['lr'] = poly_lr(epoch, max_num_epochs, 0.005676 , 0.9)\n",
    "# model.load_state_dict(torch.load(os.path.join(model_dir, \"best_metric_luck_UNETr_prompt.pth\")))\n",
    "                "
   ]
  }
 ],
 "metadata": {
  "kernelspec": {
   "display_name": "clam",
   "language": "python",
   "name": "python3"
  },
  "language_info": {
   "codemirror_mode": {
    "name": "ipython",
    "version": 3
   },
   "file_extension": ".py",
   "mimetype": "text/x-python",
   "name": "python",
   "nbconvert_exporter": "python",
   "pygments_lexer": "ipython3",
   "version": "3.8.0"
  }
 },
 "nbformat": 4,
 "nbformat_minor": 2
}
