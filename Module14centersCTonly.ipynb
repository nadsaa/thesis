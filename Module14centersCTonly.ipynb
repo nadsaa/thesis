{
 "cells": [
  {
   "cell_type": "code",
   "execution_count": 1,
   "metadata": {},
   "outputs": [
    {
     "name": "stdout",
     "output_type": "stream",
     "text": [
      "1\n"
     ]
    },
    {
     "name": "stderr",
     "output_type": "stream",
     "text": [
      "/tmp/ipykernel_299628/1896300350.py:9: TqdmWarning: IProgress not found. Please update jupyter and ipywidgets. See https://ipywidgets.readthedocs.io/en/stable/user_install.html\n",
      "  from tqdm.autonotebook import tqdm\n"
     ]
    }
   ],
   "source": [
    "import torch\n",
    "import torch.nn as nn\n",
    "from torch.utils.data import DataLoader\n",
    "from collections.abc import Sequence\n",
    "\n",
    "from unetr import CustomedUNETR\n",
    "\n",
    "import json\n",
    "from tqdm.autonotebook import tqdm\n",
    "import os\n",
    "os.environ[\"CUDA_DEVICE_ORDER\"] = \"PCI_BUS_ID\"\n",
    "os.environ[\"CUDA_VISIBLE_DEVICES\"] = \"0\" \n",
    "\n",
    "print(torch.cuda.device_count())\n",
    "torch.backends.cudnn.benchmark = True\n",
    "device = torch.device(\"cuda\" if torch.cuda.is_available() else \"cpu\")"
   ]
  },
  {
   "cell_type": "code",
   "execution_count": 2,
   "metadata": {},
   "outputs": [],
   "source": [
    "from monai.transforms import EnsureTyped\n",
    "from monai.transforms import Compose, LoadImaged, ScaleIntensityRanged, ConcatItemsd\n",
    "from monai.metrics import DiceMetric\n",
    "from monai.losses import DiceCELoss, DiceFocalLoss, FocalLoss\n",
    "from monai.inferers import sliding_window_inference\n",
    "\n",
    "\n",
    "from monai.data import (\n",
    "    Dataset,\n",
    "    DataLoader,\n",
    "    CacheDataset,\n",
    "    load_decathlon_datalist,\n",
    "    decollate_batch,\n",
    ")\n",
    "\n",
    "\n",
    "from monai.transforms import (\n",
    "    AsDiscrete,\n",
    "    Compose,\n",
    "    CropForegroundd,\n",
    "    LoadImaged,\n",
    "    Orientationd,\n",
    "    RandFlipd,\n",
    "    RandCropByPosNegLabeld,\n",
    "    RandShiftIntensityd,\n",
    "    ScaleIntensityRanged,\n",
    "    Spacingd,\n",
    "    RandRotate90d,\n",
    "    MapTransform,\n",
    "    ScaleIntensityd,\n",
    "    #AddChanneld,\n",
    "    SpatialPadd,\n",
    "    CenterSpatialCropd,\n",
    "    EnsureChannelFirstd,\n",
    "    ConcatItemsd,\n",
    "    AdjustContrastd, \n",
    "    Rand3DElasticd,\n",
    "    HistogramNormalized,\n",
    "    NormalizeIntensityd,\n",
    "    Invertd,\n",
    "    SaveImage,\n",
    "\n",
    ")\n",
    "\n",
    "from monai import data\n",
    "\n",
    "\n",
    "from monai.utils import first, set_determinism\n",
    "from sklearn.model_selection import train_test_split\n",
    "import json\n",
    "\n",
    "\n"
   ]
  },
  {
   "cell_type": "code",
   "execution_count": 3,
   "metadata": {},
   "outputs": [
    {
     "name": "stdout",
     "output_type": "stream",
     "text": [
      "JSON file created at /home/nada.saadi/MIS-FM/hecktor2022_cropped/4centers-CTonly.json\n"
     ]
    }
   ],
   "source": [
    "import os\n",
    "import json\n",
    "import random\n",
    "from glob import glob\n",
    "\n",
    "def generate_paths(patient_id):\n",
    "    base_dir = '/home/nada.saadi/MIS-FM/hecktor2022_cropped/data'\n",
    "    return {\n",
    "        'id': os.path.join(base_dir, patient_id),\n",
    "        'ct': os.path.join(base_dir, patient_id, f\"{patient_id}_ct.nii.gz\"),\n",
    "        #'pt': os.path.join(base_dir, patient_id, f\"{patient_id}_pt.nii.gz\"),\n",
    "        'seg': os.path.join(base_dir, patient_id, f\"{patient_id}_gt.nii.gz\")\n",
    "    }\n",
    "# Assign each data entry to a random fold\n",
    "all_data = []\n",
    "num_folds = 5\n",
    "centers = ['CHUM', 'CHUP', 'CHUS', 'CHUV']  # Centers to include\n",
    "\n",
    "for file_dir in sorted(glob('data/*')):\n",
    "    patient_id = file_dir.split('/')[-1]\n",
    "    # Check if the file belongs to one of the specified centers\n",
    "    if any(patient_id.startswith(center) for center in centers):\n",
    "        entry = generate_paths(patient_id)\n",
    "        entry['fold'] = random.randint(1, num_folds) - 1\n",
    "        all_data.append(entry)\n",
    "\n",
    "# Compile data into a JSON structure\n",
    "data_json = {\"training\": all_data}\n",
    "\n",
    "# Save to JSON file\n",
    "json_file_path = \"/home/nada.saadi/MIS-FM/hecktor2022_cropped/4centers-CTonly.json\"\n",
    "with open(json_file_path, 'w') as f:\n",
    "    json.dump(data_json, f, indent=4)\n",
    "\n",
    "print(f\"JSON file created at {json_file_path}\")"
   ]
  },
  {
   "cell_type": "code",
   "execution_count": 4,
   "metadata": {},
   "outputs": [],
   "source": [
    "data_dir = '/home/nada.saadi/MIS-FM/hecktor2022_cropped'\n",
    "json_dir = '/home/nada.saadi/MIS-FM/hecktor2022_cropped/4centers-CTonly.json'"
   ]
  },
  {
   "cell_type": "code",
   "execution_count": 5,
   "metadata": {},
   "outputs": [],
   "source": [
    "def datafold_read(datalist, basedir, fold=0, key=\"training\"):\n",
    "    with open(datalist) as f:\n",
    "        json_data = json.load(f)\n",
    "\n",
    "    json_data = json_data[key]\n",
    "\n",
    "    for d in json_data:\n",
    "        for k in d:\n",
    "            if isinstance(d[k], list):\n",
    "                d[k] = [os.path.join(basedir, iv) for iv in d[k]]\n",
    "            elif isinstance(d[k], str):\n",
    "                d[k] = os.path.join(basedir, d[k]) if len(d[k]) > 0 else d[k]\n",
    "\n",
    "    tr = []\n",
    "    val = []\n",
    "    for d in json_data:\n",
    "        if \"fold\" in d and d[\"fold\"] == fold:\n",
    "            val.append(d)\n",
    "        else:\n",
    "            tr.append(d)\n",
    "\n",
    "    return tr, val"
   ]
  },
  {
   "cell_type": "code",
   "execution_count": 6,
   "metadata": {},
   "outputs": [
    {
     "data": {
      "text/plain": [
       "(202, 51)"
      ]
     },
     "execution_count": 6,
     "metadata": {},
     "output_type": "execute_result"
    }
   ],
   "source": [
    "train_files, validation_files = datafold_read(datalist=json_dir, basedir=data_dir, fold=0)\n",
    "len(train_files), len(validation_files)"
   ]
  },
  {
   "cell_type": "code",
   "execution_count": 7,
   "metadata": {},
   "outputs": [],
   "source": [
    "class ClipCT(MapTransform):\n",
    "    \"\"\"\n",
    "    Convert labels to multi channels based on hecktor classes:\n",
    "    label 1 is the tumor\n",
    "    label 2 is the lymph node\n",
    "\n",
    "    \"\"\"\n",
    "\n",
    "    def __call__(self, data):\n",
    "        d = dict(data)\n",
    "        for key in self.keys:\n",
    "            if key == \"ct\":\n",
    "                d[key] = torch.clip(d[key], min=-200, max=200)\n",
    "            # elif key == \"pt\":\n",
    "            #     d[key] = torch.clip(d[key], d[key].min(), 5)\n",
    "        return d\n",
    "\n",
    "class MulPTFM(MapTransform):\n",
    "    \"\"\"\n",
    "    Mult PT and FM \n",
    "\n",
    "    \"\"\"\n",
    "\n",
    "    def __call__(self, data):\n",
    "        d = dict(data)\n",
    "\n",
    "        fm = d[\"ct\"] > 0\n",
    "        d[\"pt\"] = d[\"pt\"] * fm\n",
    "        return d\n",
    "\n",
    "class SelectClass(MapTransform):\n",
    "    \"\"\"\n",
    "    Select the class for which you want to fine tune the model \n",
    "\n",
    "    \"\"\"\n",
    "    # def __init__(self, keys, cls=1):\n",
    "    #     super(self).__init__(keys)\n",
    "    #     self.cls = cls\n",
    "\n",
    "    def __call__(self, data):\n",
    "        d = dict(data)\n",
    "        d[\"seg\"][d[\"seg\"] == 1] = 0\n",
    "        # d[\"seg\"][d[\"seg\"] == 2] = 1\n",
    "        \n",
    "        return d"
   ]
  },
  {
   "cell_type": "code",
   "execution_count": 8,
   "metadata": {},
   "outputs": [],
   "source": [
    "num_samples = 4\n",
    "\n",
    "train_transforms = Compose(\n",
    "    [\n",
    "        LoadImaged(keys=[\"ct\", \"seg\"], ensure_channel_first = True),\n",
    "        SpatialPadd(keys=[\"ct\",  \"seg\"], spatial_size=(200, 200, 310), method='end'),\n",
    "        Orientationd(keys=[\"ct\",  \"seg\"], axcodes=\"PLS\"),\n",
    "        #NormalizeIntensityd(keys=[\"pt\"]),\n",
    "        ClipCT(keys=[\"ct\"]),\n",
    "        ScaleIntensityd(keys=[\"ct\"], minv=0, maxv=1),\n",
    "        #MulPTFM(keys=[\"ct\",\"pt\"]),\n",
    "        #ConcatItemsd(keys=[\"pt\", \"ct\"], name=\"ctpt\"),\n",
    "        #NormalizeIntensityd(keys=[\"ctpt\"], channel_wise=True),\n",
    "        RandCropByPosNegLabeld(\n",
    "            keys=[\"ct\", \"seg\"],\n",
    "            label_key=\"seg\",\n",
    "            spatial_size=(96, 96, 96),\n",
    "            pos=1,\n",
    "            neg=1,\n",
    "            num_samples=num_samples,\n",
    "            image_key=\"ct\",\n",
    "            image_threshold=0,\n",
    "        ),\n",
    "        RandFlipd(\n",
    "            keys=[\"ct\", \"seg\"],\n",
    "            spatial_axis=[0],\n",
    "            prob=0.20,\n",
    "        ),\n",
    "        RandFlipd(\n",
    "            keys=[\"ct\", \"seg\"],\n",
    "            spatial_axis=[1],\n",
    "            prob=0.20,\n",
    "        ),\n",
    "        RandFlipd(\n",
    "            keys=[\"ct\", \"seg\"],\n",
    "            spatial_axis=[2],\n",
    "            prob=0.20,\n",
    "        ),\n",
    "        RandRotate90d(\n",
    "            keys=[\"ct\", \"seg\"],\n",
    "            prob=0.20,\n",
    "            max_k=3,\n",
    "        ),\n",
    "    ]\n",
    ")\n",
    "val_transforms = Compose(\n",
    "    [\n",
    "        LoadImaged(keys=[\"ct\", \"seg\"], ensure_channel_first = True),\n",
    "        SpatialPadd(keys=[\"ct\", \"seg\"], spatial_size=(200, 200, 310), method='end'),\n",
    "        Orientationd(keys=[\"ct\",  \"seg\"], axcodes=\"PLS\"),\n",
    "        #NormalizeIntensityd(keys=[\"pt\"]),\n",
    "        ClipCT(keys=[\"ct\"]),\n",
    "        ScaleIntensityd(keys=[\"ct\"], minv=0, maxv=1),\n",
    "        #MulPTFM(keys=[\"ct\",\"pt\"]),\n",
    "        #ConcatItemsd(keys=[\"pt\", \"ct\"], name=\"ctpt\"),\n",
    "    ]\n",
    ")"
   ]
  },
  {
   "cell_type": "code",
   "execution_count": 9,
   "metadata": {},
   "outputs": [],
   "source": [
    "import monai\n",
    "\n",
    "\n",
    "train_ds = monai.data.Dataset(data=train_files, transform=train_transforms)\n",
    "\n",
    "train_loader = DataLoader(\n",
    "    train_ds,\n",
    "    batch_size=2,\n",
    "    shuffle=True,\n",
    "    num_workers=8,\n",
    "    pin_memory=torch.cuda.is_available(),\n",
    "    )\n",
    "\n",
    "val_ds = monai.data.Dataset(data=validation_files, transform=val_transforms)\n",
    "\n",
    "val_loader = DataLoader(\n",
    "    val_ds, \n",
    "    batch_size=2, \n",
    "    num_workers=8, \n",
    "    shuffle= False)"
   ]
  },
  {
   "cell_type": "code",
   "execution_count": 10,
   "metadata": {},
   "outputs": [
    {
     "name": "stdout",
     "output_type": "stream",
     "text": [
      "Nada's version of UNETR\n",
      "(96, 96, 96)\n",
      "(16, 16, 16)\n",
      "(6, 6, 6)\n",
      "768\n",
      "ana daba kandir ghir CT dial 4 lewlin\n"
     ]
    },
    {
     "name": "stderr",
     "output_type": "stream",
     "text": [
      "/home/nada.saadi/miniconda3/envs/clam/lib/python3.8/site-packages/monai/utils/deprecate_utils.py:221: FutureWarning: unetr CustomedUNETR.__init__:pos_embed: Argument `pos_embed` has been deprecated since version 1.2. It will be removed in version 1.4. please use `proj_type` instead.\n",
      "  warn_deprecated(argname, msg, warning_category)\n"
     ]
    }
   ],
   "source": [
    "# os.environ[\"CUDA_DEVICE_ORDER\"] = \"PCI_BUS_ID\"\n",
    "# device = torch.device(\"cuda\" if torch.cuda.is_available() else \"cpu\")\n",
    "model = CustomedUNETR(\n",
    "    in_channels=1,  # Number of input channels\n",
    "    out_channels=3,  # Number of output channels\n",
    "    img_size=(96, 96, 96),  # Size of the input image\n",
    "    feature_size=48,  # Size of the feature maps\n",
    "    hidden_size=768,\n",
    "    num_heads = 12,# Size of the hidden layers in the transformer\n",
    "    mlp_dim=3072,  # Dimension of the MLP in the transformer\n",
    "    pos_embed=\"perceptron\",  # Type of positional embedding\n",
    "    norm_name=\"instance\",  # Type of normalization\n",
    "    res_block=True,  # Whether to use residual blocks\n",
    "    dropout_rate=0.0,\n",
    "    proj_type= \"conv\",\n",
    "    #r=4,\n",
    "    #lora_layer=None,\n",
    "    \n",
    ").to(device) "
   ]
  },
  {
   "cell_type": "code",
   "execution_count": 11,
   "metadata": {},
   "outputs": [],
   "source": [
    "torch.backends.cudnn.benchmark = True\n",
    "def poly_lr(epoch, max_epochs, initial_lr, exponent=0.9):\n",
    "    return initial_lr * (1 - epoch / max_epochs)**exponent\n",
    "\n",
    "loss_function = DiceCELoss(to_onehot_y=True, softmax=True)\n",
    "optimizer = torch.optim.AdamW(model.parameters(), lr=1e-4, weight_decay=1e-5)"
   ]
  },
  {
   "cell_type": "code",
   "execution_count": 12,
   "metadata": {},
   "outputs": [
    {
     "name": "stderr",
     "output_type": "stream",
     "text": [
      "Training (X / X Steps) (loss=X.X):   0%|          | 0/101 [00:00<?, ?it/s]"
     ]
    },
    {
     "name": "stderr",
     "output_type": "stream",
     "text": [
      "Validate (0 / 10 Steps): 100%|██████████| 26/26 [01:32<00:00,  3.55s/it]2:43<00:01,  1.27s/it]\n",
      "Training (100 / 18000 Steps) (loss=1.12302): 100%|██████████| 101/101 [04:16<00:00,  2.54s/it]\n"
     ]
    },
    {
     "name": "stdout",
     "output_type": "stream",
     "text": [
      "Model Was Not Saved ! Current Best Avg. Dice: 0.0 Current Avg. Dice: 0.0 Current Avg. tumor Dice: 0.0 Current Avg. lymph Dice: 0.0\n"
     ]
    },
    {
     "name": "stderr",
     "output_type": "stream",
     "text": [
      "Validate (101 / 10 Steps): 100%|██████████| 26/26 [01:26<00:00,  3.33s/it]9<00:02,  1.27s/it]\n",
      "Training (200 / 18000 Steps) (loss=0.98577):  99%|█████████▉| 100/101 [03:36<00:27, 27.28s/it]"
     ]
    },
    {
     "name": "stdout",
     "output_type": "stream",
     "text": [
      "Model Was Not Saved ! Current Best Avg. Dice: 0.0 Current Avg. Dice: 0.0 Current Avg. tumor Dice: 0.0 Current Avg. lymph Dice: 0.0\n"
     ]
    },
    {
     "name": "stderr",
     "output_type": "stream",
     "text": [
      "Training (201 / 18000 Steps) (loss=1.01069): 100%|██████████| 101/101 [03:37<00:00,  2.15s/it]\n",
      "Validate (202 / 10 Steps): 100%|██████████| 26/26 [01:26<00:00,  3.32s/it]7<00:03,  1.27s/it]\n",
      "Training (300 / 18000 Steps) (loss=0.90576):  98%|█████████▊| 99/101 [03:34<00:54, 27.19s/it]"
     ]
    },
    {
     "name": "stdout",
     "output_type": "stream",
     "text": [
      "Model Was Not Saved ! Current Best Avg. Dice: 0.0 Current Avg. Dice: 0.0 Current Avg. tumor Dice: 0.0 Current Avg. lymph Dice: 0.0\n"
     ]
    },
    {
     "name": "stderr",
     "output_type": "stream",
     "text": [
      "Training (302 / 18000 Steps) (loss=0.89114): 100%|██████████| 101/101 [03:36<00:00,  2.15s/it]\n",
      "Validate (303 / 10 Steps): 100%|██████████| 26/26 [01:26<00:00,  3.31s/it]6<00:05,  1.26s/it]\n",
      "Training (400 / 18000 Steps) (loss=0.82992):  97%|█████████▋| 98/101 [03:33<01:22, 27.39s/it]"
     ]
    },
    {
     "name": "stdout",
     "output_type": "stream",
     "text": [
      "Model Was Saved ! Current Best Avg. Dice: 0.005909902974963188 Current Avg. Dice: 0.005909902974963188 Current Avg. tumor Dice: 0.009594254195690155 Current Avg. lymph Dice: 0.0\n"
     ]
    },
    {
     "name": "stderr",
     "output_type": "stream",
     "text": [
      "Training (403 / 18000 Steps) (loss=0.83826): 100%|██████████| 101/101 [03:37<00:00,  2.15s/it]\n",
      "Validate (404 / 10 Steps): 100%|██████████| 26/26 [01:26<00:00,  3.31s/it]5<00:06,  1.26s/it]\n",
      "Training (500 / 18000 Steps) (loss=0.84800):  96%|█████████▌| 97/101 [03:32<01:49, 27.37s/it]"
     ]
    },
    {
     "name": "stdout",
     "output_type": "stream",
     "text": [
      "Model Was Saved ! Current Best Avg. Dice: 0.01597698964178562 Current Avg. Dice: 0.01597698964178562 Current Avg. tumor Dice: 0.02806713990867138 Current Avg. lymph Dice: 0.0\n"
     ]
    },
    {
     "name": "stderr",
     "output_type": "stream",
     "text": [
      "Training (504 / 18000 Steps) (loss=0.91379): 100%|██████████| 101/101 [03:37<00:00,  2.16s/it]\n",
      "Validate (505 / 10 Steps): 100%|██████████| 26/26 [01:26<00:00,  3.32s/it]3<00:07,  1.26s/it]\n",
      "Training (600 / 18000 Steps) (loss=0.78229):  95%|█████████▌| 96/101 [03:30<02:17, 27.42s/it]"
     ]
    },
    {
     "name": "stdout",
     "output_type": "stream",
     "text": [
      "Model Was Saved ! Current Best Avg. Dice: 0.032827869057655334 Current Avg. Dice: 0.032827869057655334 Current Avg. tumor Dice: 0.06134757772088051 Current Avg. lymph Dice: 0.0\n"
     ]
    },
    {
     "name": "stderr",
     "output_type": "stream",
     "text": [
      "Training (605 / 18000 Steps) (loss=0.77258): 100%|██████████| 101/101 [03:37<00:00,  2.15s/it]\n",
      "Validate (606 / 10 Steps): 100%|██████████| 26/26 [01:26<00:00,  3.32s/it]2<00:08,  1.26s/it]\n",
      "Training (700 / 18000 Steps) (loss=0.77713):  94%|█████████▍| 95/101 [03:28<02:42, 27.14s/it]"
     ]
    },
    {
     "name": "stdout",
     "output_type": "stream",
     "text": [
      "Model Was Not Saved ! Current Best Avg. Dice: 0.032827869057655334 Current Avg. Dice: 0.03132054582238197 Current Avg. tumor Dice: 0.05877864733338356 Current Avg. lymph Dice: 0.0\n"
     ]
    },
    {
     "name": "stderr",
     "output_type": "stream",
     "text": [
      "Training (706 / 18000 Steps) (loss=0.77134): 100%|██████████| 101/101 [03:36<00:00,  2.14s/it]\n",
      "Validate (707 / 10 Steps): 100%|██████████| 26/26 [01:26<00:00,  3.32s/it]1<00:10,  1.26s/it]\n",
      "Training (800 / 18000 Steps) (loss=0.72702):  93%|█████████▎| 94/101 [03:27<03:09, 27.13s/it]"
     ]
    },
    {
     "name": "stdout",
     "output_type": "stream",
     "text": [
      "Model Was Not Saved ! Current Best Avg. Dice: 0.032827869057655334 Current Avg. Dice: 0.01800093986093998 Current Avg. tumor Dice: 0.03292329981923103 Current Avg. lymph Dice: 0.0\n"
     ]
    },
    {
     "name": "stderr",
     "output_type": "stream",
     "text": [
      "Training (807 / 18000 Steps) (loss=0.74914): 100%|██████████| 101/101 [03:36<00:00,  2.14s/it]\n",
      "Validate (808 / 10 Steps): 100%|██████████| 26/26 [01:26<00:00,  3.33s/it]0<00:11,  1.26s/it]\n",
      "Training (900 / 18000 Steps) (loss=0.77191):  92%|█████████▏| 93/101 [03:27<03:39, 27.48s/it]"
     ]
    },
    {
     "name": "stdout",
     "output_type": "stream",
     "text": [
      "Model Was Saved ! Current Best Avg. Dice: 0.07212705910205841 Current Avg. Dice: 0.07212705910205841 Current Avg. tumor Dice: 0.11248686164617538 Current Avg. lymph Dice: 0.025674398988485336\n"
     ]
    },
    {
     "name": "stderr",
     "output_type": "stream",
     "text": [
      "Training (908 / 18000 Steps) (loss=0.72292): 100%|██████████| 101/101 [03:37<00:00,  2.15s/it]\n",
      "Validate (909 / 10 Steps): 100%|██████████| 26/26 [01:26<00:00,  3.32s/it]58<00:12,  1.27s/it]\n",
      "Training (1000 / 18000 Steps) (loss=0.72939):  91%|█████████ | 92/101 [03:25<04:04, 27.16s/it]"
     ]
    },
    {
     "name": "stdout",
     "output_type": "stream",
     "text": [
      "Model Was Not Saved ! Current Best Avg. Dice: 0.07212705910205841 Current Avg. Dice: 0.05513110011816025 Current Avg. tumor Dice: 0.09645432978868484 Current Avg. lymph Dice: 0.0039057566318660975\n"
     ]
    },
    {
     "name": "stderr",
     "output_type": "stream",
     "text": [
      "Training (1009 / 18000 Steps) (loss=0.69680): 100%|██████████| 101/101 [03:36<00:00,  2.15s/it]\n",
      "Validate (1010 / 10 Steps): 100%|██████████| 26/26 [01:26<00:00,  3.31s/it]7<00:13,  1.27s/it]\n",
      "Training (1100 / 18000 Steps) (loss=0.65596):  90%|█████████ | 91/101 [03:24<04:33, 27.38s/it]"
     ]
    },
    {
     "name": "stdout",
     "output_type": "stream",
     "text": [
      "Model Was Saved ! Current Best Avg. Dice: 0.09054778516292572 Current Avg. Dice: 0.09054778516292572 Current Avg. tumor Dice: 0.10666385293006897 Current Avg. lymph Dice: 0.07277672737836838\n"
     ]
    },
    {
     "name": "stderr",
     "output_type": "stream",
     "text": [
      "Training (1110 / 18000 Steps) (loss=0.72145): 100%|██████████| 101/101 [03:37<00:00,  2.15s/it]\n",
      "Validate (1111 / 10 Steps): 100%|██████████| 26/26 [01:26<00:00,  3.33s/it]6<00:15,  1.26s/it]\n",
      "Training (1200 / 18000 Steps) (loss=0.70871):  89%|████████▉ | 90/101 [03:23<05:02, 27.53s/it]"
     ]
    },
    {
     "name": "stdout",
     "output_type": "stream",
     "text": [
      "Model Was Saved ! Current Best Avg. Dice: 0.0917496308684349 Current Avg. Dice: 0.0917496308684349 Current Avg. tumor Dice: 0.13535736501216888 Current Avg. lymph Dice: 0.042400915175676346\n"
     ]
    },
    {
     "name": "stderr",
     "output_type": "stream",
     "text": [
      "Training (1211 / 18000 Steps) (loss=0.69073): 100%|██████████| 101/101 [03:37<00:00,  2.16s/it]\n",
      "Validate (1212 / 10 Steps): 100%|██████████| 26/26 [01:26<00:00,  3.33s/it]5<00:16,  1.26s/it]\n",
      "Training (1300 / 18000 Steps) (loss=0.67507):  88%|████████▊ | 89/101 [03:22<05:29, 27.49s/it]"
     ]
    },
    {
     "name": "stdout",
     "output_type": "stream",
     "text": [
      "Model Was Saved ! Current Best Avg. Dice: 0.10607156902551651 Current Avg. Dice: 0.10607156902551651 Current Avg. tumor Dice: 0.10764151811599731 Current Avg. lymph Dice: 0.10803340375423431\n"
     ]
    },
    {
     "name": "stderr",
     "output_type": "stream",
     "text": [
      "Training (1312 / 18000 Steps) (loss=0.64751): 100%|██████████| 101/101 [03:37<00:00,  2.16s/it]\n",
      "Validate (1313 / 10 Steps): 100%|██████████| 26/26 [01:26<00:00,  3.33s/it]3<00:17,  1.27s/it]\n",
      "Training (1400 / 18000 Steps) (loss=0.70952):  87%|████████▋ | 88/101 [03:21<05:57, 27.51s/it]"
     ]
    },
    {
     "name": "stdout",
     "output_type": "stream",
     "text": [
      "Model Was Saved ! Current Best Avg. Dice: 0.13793115317821503 Current Avg. Dice: 0.13793115317821503 Current Avg. tumor Dice: 0.12921583652496338 Current Avg. lymph Dice: 0.1508859246969223\n"
     ]
    },
    {
     "name": "stderr",
     "output_type": "stream",
     "text": [
      "Training (1413 / 18000 Steps) (loss=0.62107): 100%|██████████| 101/101 [03:37<00:00,  2.15s/it]\n",
      "Validate (1414 / 10 Steps): 100%|██████████| 26/26 [01:26<00:00,  3.32s/it]2<00:19,  1.27s/it]\n",
      "Training (1500 / 18000 Steps) (loss=0.68346):  86%|████████▌ | 87/101 [03:19<06:20, 27.18s/it]"
     ]
    },
    {
     "name": "stdout",
     "output_type": "stream",
     "text": [
      "Model Was Not Saved ! Current Best Avg. Dice: 0.13793115317821503 Current Avg. Dice: 0.12623660266399384 Current Avg. tumor Dice: 0.15270580351352692 Current Avg. lymph Dice: 0.09902733564376831\n"
     ]
    },
    {
     "name": "stderr",
     "output_type": "stream",
     "text": [
      "Training (1514 / 18000 Steps) (loss=0.66332): 100%|██████████| 101/101 [03:37<00:00,  2.15s/it]\n",
      "Validate (1515 / 10 Steps): 100%|██████████| 26/26 [01:26<00:00,  3.32s/it]1<00:20,  1.27s/it]\n",
      "Training (1600 / 18000 Steps) (loss=0.65523):  85%|████████▌ | 86/101 [03:18<06:51, 27.44s/it]"
     ]
    },
    {
     "name": "stdout",
     "output_type": "stream",
     "text": [
      "Model Was Saved ! Current Best Avg. Dice: 0.14183370769023895 Current Avg. Dice: 0.14183370769023895 Current Avg. tumor Dice: 0.13200999796390533 Current Avg. lymph Dice: 0.15910792350769043\n"
     ]
    },
    {
     "name": "stderr",
     "output_type": "stream",
     "text": [
      "Training (1615 / 18000 Steps) (loss=0.70587): 100%|██████████| 101/101 [03:37<00:00,  2.16s/it]\n",
      "Validate (1616 / 10 Steps): 100%|██████████| 26/26 [01:26<00:00,  3.32s/it]9<00:21,  1.26s/it]\n",
      "Training (1700 / 18000 Steps) (loss=0.69761):  84%|████████▍ | 85/101 [03:16<07:14, 27.17s/it]"
     ]
    },
    {
     "name": "stdout",
     "output_type": "stream",
     "text": [
      "Model Was Not Saved ! Current Best Avg. Dice: 0.14183370769023895 Current Avg. Dice: 0.13829925656318665 Current Avg. tumor Dice: 0.14860093593597412 Current Avg. lymph Dice: 0.12892292439937592\n"
     ]
    },
    {
     "name": "stderr",
     "output_type": "stream",
     "text": [
      "Training (1716 / 18000 Steps) (loss=0.66241): 100%|██████████| 101/101 [03:36<00:00,  2.14s/it]\n",
      "Validate (1717 / 10 Steps): 100%|██████████| 26/26 [01:26<00:00,  3.32s/it]8<00:22,  1.26s/it]\n",
      "Training (1800 / 18000 Steps) (loss=0.61301):  83%|████████▎ | 84/101 [03:15<07:46, 27.45s/it]"
     ]
    },
    {
     "name": "stdout",
     "output_type": "stream",
     "text": [
      "Model Was Saved ! Current Best Avg. Dice: 0.1627163290977478 Current Avg. Dice: 0.1627163290977478 Current Avg. tumor Dice: 0.1467265784740448 Current Avg. lymph Dice: 0.18431799113750458\n"
     ]
    },
    {
     "name": "stderr",
     "output_type": "stream",
     "text": [
      "Training (1817 / 18000 Steps) (loss=0.71008): 100%|██████████| 101/101 [03:37<00:00,  2.15s/it]\n",
      "Validate (1818 / 10 Steps): 100%|██████████| 26/26 [01:26<00:00,  3.33s/it]7<00:24,  1.26s/it]\n",
      "Training (1900 / 18000 Steps) (loss=0.70594):  82%|████████▏ | 83/101 [03:13<08:09, 27.22s/it]"
     ]
    },
    {
     "name": "stdout",
     "output_type": "stream",
     "text": [
      "Model Was Not Saved ! Current Best Avg. Dice: 0.1627163290977478 Current Avg. Dice: 0.15111848711967468 Current Avg. tumor Dice: 0.14723284542560577 Current Avg. lymph Dice: 0.16161176562309265\n"
     ]
    },
    {
     "name": "stderr",
     "output_type": "stream",
     "text": [
      "Training (1918 / 18000 Steps) (loss=0.63893): 100%|██████████| 101/101 [03:36<00:00,  2.14s/it]\n",
      "Validate (1919 / 10 Steps): 100%|██████████| 26/26 [01:26<00:00,  3.32s/it]6<00:25,  1.27s/it]\n",
      "Training (2000 / 18000 Steps) (loss=0.61939):  81%|████████  | 82/101 [03:12<08:36, 27.18s/it]"
     ]
    },
    {
     "name": "stdout",
     "output_type": "stream",
     "text": [
      "Model Was Not Saved ! Current Best Avg. Dice: 0.1627163290977478 Current Avg. Dice: 0.1441536545753479 Current Avg. tumor Dice: 0.13696089386940002 Current Avg. lymph Dice: 0.15380945801734924\n"
     ]
    },
    {
     "name": "stderr",
     "output_type": "stream",
     "text": [
      "Training (2019 / 18000 Steps) (loss=0.64078): 100%|██████████| 101/101 [03:36<00:00,  2.15s/it]\n",
      "Validate (2020 / 10 Steps): 100%|██████████| 26/26 [01:26<00:00,  3.33s/it]4<00:26,  1.26s/it]\n",
      "Training (2100 / 18000 Steps) (loss=0.56811):  80%|████████  | 81/101 [03:12<09:09, 27.50s/it]"
     ]
    },
    {
     "name": "stdout",
     "output_type": "stream",
     "text": [
      "Model Was Saved ! Current Best Avg. Dice: 0.1691981703042984 Current Avg. Dice: 0.1691981703042984 Current Avg. tumor Dice: 0.16473081707954407 Current Avg. lymph Dice: 0.17767654359340668\n"
     ]
    },
    {
     "name": "stderr",
     "output_type": "stream",
     "text": [
      "Training (2120 / 18000 Steps) (loss=0.65183): 100%|██████████| 101/101 [03:37<00:00,  2.16s/it]\n",
      "Validate (2121 / 10 Steps): 100%|██████████| 26/26 [01:25<00:00,  3.31s/it]4<00:27,  1.27s/it]\n",
      "Training (2200 / 18000 Steps) (loss=0.61728):  79%|███████▉  | 80/101 [03:11<09:33, 27.33s/it]"
     ]
    },
    {
     "name": "stdout",
     "output_type": "stream",
     "text": [
      "Model Was Saved ! Current Best Avg. Dice: 0.17948360741138458 Current Avg. Dice: 0.17948360741138458 Current Avg. tumor Dice: 0.17808373272418976 Current Avg. lymph Dice: 0.18559035658836365\n"
     ]
    },
    {
     "name": "stderr",
     "output_type": "stream",
     "text": [
      "Training (2221 / 18000 Steps) (loss=0.60169): 100%|██████████| 101/101 [03:38<00:00,  2.16s/it]\n",
      "Validate (2222 / 10 Steps): 100%|██████████| 26/26 [01:26<00:00,  3.32s/it]2<00:29,  1.27s/it]\n",
      "Training (2300 / 18000 Steps) (loss=0.61199):  78%|███████▊  | 79/101 [03:10<10:03, 27.43s/it]"
     ]
    },
    {
     "name": "stdout",
     "output_type": "stream",
     "text": [
      "Model Was Saved ! Current Best Avg. Dice: 0.1969332993030548 Current Avg. Dice: 0.1969332993030548 Current Avg. tumor Dice: 0.16719746589660645 Current Avg. lymph Dice: 0.23582467436790466\n"
     ]
    },
    {
     "name": "stderr",
     "output_type": "stream",
     "text": [
      "Training (2322 / 18000 Steps) (loss=0.61924): 100%|██████████| 101/101 [03:38<00:00,  2.16s/it]\n",
      "Validate (2323 / 10 Steps): 100%|██████████| 26/26 [01:26<00:00,  3.32s/it]1<00:30,  1.27s/it]\n",
      "Training (2400 / 18000 Steps) (loss=0.61101):  77%|███████▋  | 78/101 [03:07<10:24, 27.15s/it]"
     ]
    },
    {
     "name": "stdout",
     "output_type": "stream",
     "text": [
      "Model Was Not Saved ! Current Best Avg. Dice: 0.1969332993030548 Current Avg. Dice: 0.1605234593153 Current Avg. tumor Dice: 0.16492821276187897 Current Avg. lymph Dice: 0.1567486822605133\n"
     ]
    },
    {
     "name": "stderr",
     "output_type": "stream",
     "text": [
      "Training (2423 / 18000 Steps) (loss=0.64752): 100%|██████████| 101/101 [03:36<00:00,  2.15s/it]\n",
      "Validate (2424 / 10 Steps): 100%|██████████| 26/26 [01:26<00:00,  3.33s/it]0<00:31,  1.27s/it]\n",
      "Training (2500 / 18000 Steps) (loss=0.64714):  76%|███████▌  | 77/101 [03:07<10:53, 27.22s/it]"
     ]
    },
    {
     "name": "stdout",
     "output_type": "stream",
     "text": [
      "Model Was Not Saved ! Current Best Avg. Dice: 0.1969332993030548 Current Avg. Dice: 0.1887417733669281 Current Avg. tumor Dice: 0.17893646657466888 Current Avg. lymph Dice: 0.20409893989562988\n"
     ]
    },
    {
     "name": "stderr",
     "output_type": "stream",
     "text": [
      "Training (2524 / 18000 Steps) (loss=0.52304): 100%|██████████| 101/101 [03:37<00:00,  2.16s/it]\n",
      "Validate (2525 / 10 Steps): 100%|██████████| 26/26 [01:26<00:00,  3.32s/it]8<00:32,  1.27s/it]\n",
      "Training (2600 / 18000 Steps) (loss=0.66208):  75%|███████▌  | 76/101 [03:05<11:19, 27.18s/it]"
     ]
    },
    {
     "name": "stdout",
     "output_type": "stream",
     "text": [
      "Model Was Not Saved ! Current Best Avg. Dice: 0.1969332993030548 Current Avg. Dice: 0.17916469275951385 Current Avg. tumor Dice: 0.16783951222896576 Current Avg. lymph Dice: 0.19594337046146393\n"
     ]
    },
    {
     "name": "stderr",
     "output_type": "stream",
     "text": [
      "Training (2625 / 18000 Steps) (loss=0.65606): 100%|██████████| 101/101 [03:36<00:00,  2.15s/it]\n",
      "Validate (2626 / 10 Steps): 100%|██████████| 26/26 [01:26<00:00,  3.33s/it]7<00:34,  1.27s/it]\n",
      "Training (2700 / 18000 Steps) (loss=0.63757):  74%|███████▍  | 75/101 [03:04<11:48, 27.24s/it]"
     ]
    },
    {
     "name": "stdout",
     "output_type": "stream",
     "text": [
      "Model Was Not Saved ! Current Best Avg. Dice: 0.1969332993030548 Current Avg. Dice: 0.18090379238128662 Current Avg. tumor Dice: 0.17073044180870056 Current Avg. lymph Dice: 0.19782818853855133\n"
     ]
    },
    {
     "name": "stderr",
     "output_type": "stream",
     "text": [
      "Training (2726 / 18000 Steps) (loss=0.65303): 100%|██████████| 101/101 [03:37<00:00,  2.15s/it]\n",
      "Validate (2727 / 10 Steps): 100%|██████████| 26/26 [01:26<00:00,  3.32s/it]6<00:35,  1.26s/it]\n",
      "Training (2800 / 18000 Steps) (loss=0.61470):  73%|███████▎  | 74/101 [03:02<12:14, 27.20s/it]"
     ]
    },
    {
     "name": "stdout",
     "output_type": "stream",
     "text": [
      "Model Was Not Saved ! Current Best Avg. Dice: 0.1969332993030548 Current Avg. Dice: 0.12730582058429718 Current Avg. tumor Dice: 0.15814265608787537 Current Avg. lymph Dice: 0.08948022127151489\n"
     ]
    },
    {
     "name": "stderr",
     "output_type": "stream",
     "text": [
      "Training (2827 / 18000 Steps) (loss=0.63279): 100%|██████████| 101/101 [03:37<00:00,  2.15s/it]\n",
      "Validate (2828 / 10 Steps): 100%|██████████| 26/26 [01:26<00:00,  3.34s/it]5<00:36,  1.27s/it]\n",
      "Training (2900 / 18000 Steps) (loss=0.49283):  72%|███████▏  | 73/101 [03:03<12:53, 27.61s/it]"
     ]
    },
    {
     "name": "stdout",
     "output_type": "stream",
     "text": [
      "Model Was Saved ! Current Best Avg. Dice: 0.21196694672107697 Current Avg. Dice: 0.21196694672107697 Current Avg. tumor Dice: 0.19002142548561096 Current Avg. lymph Dice: 0.24326568841934204\n"
     ]
    },
    {
     "name": "stderr",
     "output_type": "stream",
     "text": [
      "Training (2928 / 18000 Steps) (loss=0.61368): 100%|██████████| 101/101 [03:38<00:00,  2.17s/it]\n",
      "Validate (2929 / 10 Steps): 100%|██████████| 26/26 [01:26<00:00,  3.34s/it]3<00:37,  1.27s/it]\n",
      "Training (3000 / 18000 Steps) (loss=0.57660):  71%|███████▏  | 72/101 [03:00<13:11, 27.30s/it]"
     ]
    },
    {
     "name": "stdout",
     "output_type": "stream",
     "text": [
      "Model Was Not Saved ! Current Best Avg. Dice: 0.21196694672107697 Current Avg. Dice: 0.17757627367973328 Current Avg. tumor Dice: 0.18328672647476196 Current Avg. lymph Dice: 0.17578056454658508\n"
     ]
    },
    {
     "name": "stderr",
     "output_type": "stream",
     "text": [
      "Training (3029 / 18000 Steps) (loss=0.55209): 100%|██████████| 101/101 [03:37<00:00,  2.15s/it]\n",
      "Validate (3030 / 10 Steps): 100%|██████████| 26/26 [01:26<00:00,  3.33s/it]2<00:39,  1.26s/it]\n",
      "Training (3100 / 18000 Steps) (loss=0.54211):  70%|███████   | 71/101 [02:59<13:38, 27.28s/it]"
     ]
    },
    {
     "name": "stdout",
     "output_type": "stream",
     "text": [
      "Model Was Not Saved ! Current Best Avg. Dice: 0.21196694672107697 Current Avg. Dice: 0.20253761112689972 Current Avg. tumor Dice: 0.16876645386219025 Current Avg. lymph Dice: 0.24667489528656006\n"
     ]
    },
    {
     "name": "stderr",
     "output_type": "stream",
     "text": [
      "Training (3130 / 18000 Steps) (loss=0.56509): 100%|██████████| 101/101 [03:37<00:00,  2.15s/it]\n",
      "Validate (3131 / 10 Steps): 100%|██████████| 26/26 [01:26<00:00,  3.32s/it]0<00:40,  1.26s/it]\n",
      "Training (3200 / 18000 Steps) (loss=0.66185):  69%|██████▉   | 70/101 [02:58<14:11, 27.47s/it]"
     ]
    },
    {
     "name": "stdout",
     "output_type": "stream",
     "text": [
      "Model Was Saved ! Current Best Avg. Dice: 0.24226562678813934 Current Avg. Dice: 0.24226562678813934 Current Avg. tumor Dice: 0.20399563014507294 Current Avg. lymph Dice: 0.2966703772544861\n"
     ]
    },
    {
     "name": "stderr",
     "output_type": "stream",
     "text": [
      "Training (3231 / 18000 Steps) (loss=0.60164): 100%|██████████| 101/101 [03:37<00:00,  2.16s/it]\n",
      "Validate (3232 / 10 Steps): 100%|██████████| 26/26 [01:26<00:00,  3.34s/it]9<00:41,  1.27s/it]\n",
      "Training (3300 / 18000 Steps) (loss=0.69119):  68%|██████▊   | 69/101 [02:56<14:35, 27.35s/it]"
     ]
    },
    {
     "name": "stdout",
     "output_type": "stream",
     "text": [
      "Model Was Not Saved ! Current Best Avg. Dice: 0.24226562678813934 Current Avg. Dice: 0.22583551704883575 Current Avg. tumor Dice: 0.17907053232192993 Current Avg. lymph Dice: 0.2901197075843811\n"
     ]
    },
    {
     "name": "stderr",
     "output_type": "stream",
     "text": [
      "Training (3332 / 18000 Steps) (loss=0.63748): 100%|██████████| 101/101 [03:37<00:00,  2.15s/it]\n",
      "Validate (3333 / 10 Steps): 100%|██████████| 26/26 [01:26<00:00,  3.33s/it]8<00:42,  1.26s/it]\n",
      "Training (3400 / 18000 Steps) (loss=0.58365):  67%|██████▋   | 68/101 [02:55<14:59, 27.26s/it]"
     ]
    },
    {
     "name": "stdout",
     "output_type": "stream",
     "text": [
      "Model Was Not Saved ! Current Best Avg. Dice: 0.24226562678813934 Current Avg. Dice: 0.22949416935443878 Current Avg. tumor Dice: 0.1951601803302765 Current Avg. lymph Dice: 0.2792830169200897\n"
     ]
    },
    {
     "name": "stderr",
     "output_type": "stream",
     "text": [
      "Training (3433 / 18000 Steps) (loss=0.61489): 100%|██████████| 101/101 [03:37<00:00,  2.15s/it]\n",
      "Training (3500 / 18000 Steps) (loss=0.65121):  65%|██████▌   | 66/101 [01:27<00:44,  1.27s/it]"
     ]
    }
   ],
   "source": [
    "model_dir = '/home/nada.saadi/CTPET/hecktor2022_cropped/Module1-4centers-CT-only-tokens'\n",
    "\n",
    "def validation(epoch_iterator_val):\n",
    "    model.eval()\n",
    "    with torch.no_grad():\n",
    "        for step, batch in enumerate(epoch_iterator_val):\n",
    "            val_inputs, val_labels = (batch[\"ct\"].cuda(), batch[\"seg\"].cuda())\n",
    "            val_outputs = sliding_window_inference(val_inputs, (96, 96, 96), 4, model)\n",
    "            val_labels_list = decollate_batch(val_labels)\n",
    "            val_labels_convert = [\n",
    "                post_label(val_label_tensor) for val_label_tensor in val_labels_list\n",
    "            ]\n",
    "            val_outputs_list = decollate_batch(val_outputs)\n",
    "            val_output_convert = [\n",
    "                post_pred(val_pred_tensor) for val_pred_tensor in val_outputs_list\n",
    "            ]\n",
    "            dice_metric(y_pred=val_output_convert, y=val_labels_convert)\n",
    "            dice_metric_batch(y_pred=val_output_convert, y=val_labels_convert)\n",
    "            epoch_iterator_val.set_description(\n",
    "                \"Validate (%d / %d Steps)\" % (global_step, 10.0)\n",
    "            )\n",
    "        mean_dice_val = dice_metric.aggregate().item()\n",
    "        metric_batch_val = dice_metric_batch.aggregate()\n",
    "\n",
    "        metric_tumor = metric_batch_val[0].item()\n",
    "        metric_lymph = metric_batch_val[1].item()\n",
    "\n",
    "        dice_metric.reset()\n",
    "        dice_metric_batch.reset()\n",
    "    return mean_dice_val, metric_tumor, metric_lymph\n",
    "\n",
    "\n",
    "def train(global_step, train_loader, dice_val_best, global_step_best):\n",
    "    model.train()\n",
    "    epoch_loss = 0\n",
    "    step = 0\n",
    "    epoch_iterator = tqdm(\n",
    "        train_loader, desc=\"Training (X / X Steps) (loss=X.X)\", dynamic_ncols=True\n",
    "    )\n",
    "    for step, batch in enumerate(epoch_iterator):\n",
    "        step += 1\n",
    "        x, y = (batch[\"ct\"].cuda(), batch[\"seg\"].cuda())\n",
    "        logit_map = model(x)\n",
    "        loss = loss_function(logit_map, y)\n",
    "        loss.backward()\n",
    "        epoch_loss += loss.item()\n",
    "        optimizer.step()\n",
    "        optimizer.zero_grad()\n",
    "        epoch_iterator.set_description(\n",
    "            \"Training (%d / %d Steps) (loss=%2.5f)\"\n",
    "            % (global_step, max_iterations, loss)\n",
    "        )\n",
    "        if (\n",
    "            global_step % eval_num == 0 and global_step != 0\n",
    "        ) or global_step == max_iterations:\n",
    "            epoch_iterator_val = tqdm(\n",
    "                val_loader, desc=\"Validate (X / X Steps) (dice=X.X)\", dynamic_ncols=True\n",
    "            )\n",
    "            dice_val, metric_tumor, metric_lymph = validation(epoch_iterator_val)\n",
    "            epoch_loss /= step\n",
    "            epoch_loss_values.append(epoch_loss)\n",
    "            metric_values.append(dice_val)\n",
    "            metric_values_tumor.append(metric_tumor)\n",
    "            metric_values_lymph.append(metric_lymph)\n",
    "            if dice_val > dice_val_best:\n",
    "                dice_val_best = dice_val\n",
    "                global_step_best = global_step\n",
    "                torch.save(\n",
    "                    model.state_dict(), os.path.join(model_dir, \"-module1-4centers-ctonly-tokens.pth\")\n",
    "                )\n",
    "                print(\n",
    "                    \"Model Was Saved ! Current Best Avg. Dice: {} Current Avg. Dice: {} Current Avg. tumor Dice: {} Current Avg. lymph Dice: {}\".format(\n",
    "                        dice_val_best, dice_val, metric_tumor, metric_lymph\n",
    "                    )\n",
    "                )\n",
    "            else:\n",
    "                print(\n",
    "                    \"Model Was Not Saved ! Current Best Avg. Dice: {} Current Avg. Dice: {} Current Avg. tumor Dice: {} Current Avg. lymph Dice: {}\".format(\n",
    "                        dice_val_best, dice_val,  metric_tumor, metric_lymph\n",
    "                    )\n",
    "                )\n",
    "        global_step += 1\n",
    "    return global_step, dice_val_best, global_step_best\n",
    "\n",
    "\n",
    "max_iterations = 18000\n",
    "eval_num = 100\n",
    "\n",
    "post_label = AsDiscrete(to_onehot=3)\n",
    "post_pred = AsDiscrete(argmax=True, to_onehot=3)\n",
    "\n",
    "dice_metric = DiceMetric(include_background=False, reduction=\"mean\", get_not_nans=False)\n",
    "dice_metric_batch = DiceMetric(include_background=False, reduction=\"mean_batch\")\n",
    "\n",
    "epoch = 0\n",
    "max_num_epochs = 530\n",
    "\n",
    "global_step = 0\n",
    "dice_val_best = 0.0\n",
    "global_step_best = 0\n",
    "epoch_loss_values = []\n",
    "metric_values = []\n",
    "metric_values_tumor = []\n",
    "metric_values_lymph = []\n",
    "while global_step < max_iterations:\n",
    "    global_step, dice_val_best, global_step_best = train(\n",
    "        global_step, train_loader, dice_val_best, global_step_best\n",
    "    )\n",
    "    # wandb.log({'learning_rate': optimizer.param_groups[0]['lr']})\n",
    "    # wandb.log({'Best Dice': dice_val_best})\n",
    "    epoch += 1\n",
    "    #optimizer.param_groups[0]['lr'] = poly_lr(epoch, max_num_epochs, 0.005676 , 0.9)\n",
    "# model.load_state_dict(torch.load(os.path.join(model_dir, \"best_metric_luck_UNETr_prompt.pth\")))"
   ]
  },
  {
   "cell_type": "code",
   "execution_count": null,
   "metadata": {},
   "outputs": [],
   "source": []
  }
 ],
 "metadata": {
  "kernelspec": {
   "display_name": "clam",
   "language": "python",
   "name": "python3"
  },
  "language_info": {
   "codemirror_mode": {
    "name": "ipython",
    "version": 3
   },
   "file_extension": ".py",
   "mimetype": "text/x-python",
   "name": "python",
   "nbconvert_exporter": "python",
   "pygments_lexer": "ipython3",
   "version": "3.8.0"
  }
 },
 "nbformat": 4,
 "nbformat_minor": 2
}
