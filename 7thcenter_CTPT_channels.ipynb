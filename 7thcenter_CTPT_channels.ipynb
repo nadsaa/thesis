{
 "cells": [
  {
   "cell_type": "code",
   "execution_count": 1,
   "metadata": {},
   "outputs": [
    {
     "data": {
      "text/plain": [
       "1"
      ]
     },
     "execution_count": 1,
     "metadata": {},
     "output_type": "execute_result"
    }
   ],
   "source": [
    "import os\n",
    "os.environ[\"CUDA_DEVICE_ORDER\"] = \"PCI_BUS_ID\"\n",
    "os.environ[\"CUDA_VISIBLE_DEVICES\"] = \"1\" \n",
    "import torch\n",
    "torch.cuda.device_count()"
   ]
  },
  {
   "cell_type": "code",
   "execution_count": 2,
   "metadata": {},
   "outputs": [],
   "source": [
    "import os\n",
    "import shutil\n",
    "import tempfile\n",
    "\n",
    "import matplotlib.pyplot as plt\n",
    "import numpy as np\n",
    "from tqdm import tqdm\n",
    "from glob import glob\n",
    "# import wandb\n",
    "\n",
    "import monai\n",
    "from monai.losses import DiceCELoss, DiceFocalLoss, FocalLoss\n",
    "from monai.inferers import sliding_window_inference\n",
    "from monai import transforms\n",
    "\n",
    "from monai.transforms import (\n",
    "       AsDiscrete,\n",
    "    Compose,\n",
    "    CropForegroundd,\n",
    "    LoadImaged,\n",
    "    Orientationd,\n",
    "    RandFlipd,\n",
    "    RandCropByPosNegLabeld,\n",
    "    RandShiftIntensityd,\n",
    "    ScaleIntensityRanged,\n",
    "    Spacingd,\n",
    "    RandRotate90d,\n",
    "    MapTransform,\n",
    "    ScaleIntensityd,\n",
    "    #AddChanneld,\n",
    "    SpatialPadd,\n",
    "    CenterSpatialCropd,\n",
    "    EnsureChannelFirstd,\n",
    "    ConcatItemsd,\n",
    "    AdjustContrastd, \n",
    "    Rand3DElasticd,\n",
    "    HistogramNormalized,\n",
    "    NormalizeIntensityd,\n",
    "    Invertd,\n",
    "    SaveImage,\n",
    "\n",
    ")\n",
    "\n",
    "from monai.config import print_config\n",
    "from monai.metrics import DiceMetric\n",
    "from monai.networks.nets import SwinUNETR, UNETR, SegResNet\n",
    "from monai.data import (\n",
    "    DataLoader,\n",
    "    CacheDataset,\n",
    "    load_decathlon_datalist,\n",
    "    decollate_batch,\n",
    ")\n",
    "from monai import data\n",
    "\n",
    "\n",
    "from monai.utils import first, set_determinism\n",
    "from sklearn.model_selection import train_test_split\n",
    "import json\n",
    "\n",
    "\n",
    "import torch"
   ]
  },
  {
   "cell_type": "code",
   "execution_count": 3,
   "metadata": {},
   "outputs": [],
   "source": [
    "set_determinism(seed=1024)"
   ]
  },
  {
   "cell_type": "code",
   "execution_count": 4,
   "metadata": {},
   "outputs": [
    {
     "name": "stdout",
     "output_type": "stream",
     "text": [
      "JSON file created at /home/nada.saadi/CTPET/hecktor2022_cropped/HMR_ctpt_train_new.json\n"
     ]
    }
   ],
   "source": [
    "import os\n",
    "import json\n",
    "import random\n",
    "from glob import glob\n",
    "\n",
    "def generate_paths(patient_id):\n",
    "    base_dir = '/home/nada.saadi/MIS-FM/hecktor2022_cropped/data'\n",
    "    return {\n",
    "        'id': os.path.join(base_dir, patient_id),\n",
    "        'ct': os.path.join(base_dir, patient_id, f\"{patient_id}_ct.nii.gz\"),\n",
    "        'pt': os.path.join(base_dir, patient_id, f\"{patient_id}_pt.nii.gz\"),\n",
    "        'seg': os.path.join(base_dir, patient_id, f\"{patient_id}_gt.nii.gz\")\n",
    "    }\n",
    "\n",
    "# Assign each data entry to a random fold\n",
    "all_data = []\n",
    "num_folds = 5\n",
    "\n",
    "for file_dir in sorted(glob('data/*')):\n",
    "    patient_id = file_dir.split('/')[-1]\n",
    "    # Check if the file belongs to the MDA center\n",
    "    if patient_id.startswith(\"HMR-\"):\n",
    "        entry = generate_paths(patient_id)\n",
    "        entry['fold'] = random.randint(1, num_folds) - 1\n",
    "        all_data.append(entry)\n",
    "\n",
    "# Compile data into a JSON structure\n",
    "data_json = {\"training\": all_data}\n",
    "\n",
    "# Save to JSON file\n",
    "json_file_path = \"/home/nada.saadi/CTPET/hecktor2022_cropped/HMR_ctpt_train_new.json\"\n",
    "with open(json_file_path, 'w') as f:\n",
    "    json.dump(data_json, f, indent=4)\n",
    "\n",
    "print(f\"JSON file created at {json_file_path}\")\n"
   ]
  },
  {
   "cell_type": "code",
   "execution_count": 5,
   "metadata": {},
   "outputs": [
    {
     "name": "stdout",
     "output_type": "stream",
     "text": [
      "[{'id': '/home/nada.saadi/MIS-FM/hecktor2022_cropped/data/HMR-001', 'ct': '/home/nada.saadi/MIS-FM/hecktor2022_cropped/data/HMR-001/HMR-001_ct.nii.gz', 'pt': '/home/nada.saadi/MIS-FM/hecktor2022_cropped/data/HMR-001/HMR-001_pt.nii.gz', 'seg': '/home/nada.saadi/MIS-FM/hecktor2022_cropped/data/HMR-001/HMR-001_gt.nii.gz', 'fold': 0}, {'id': '/home/nada.saadi/MIS-FM/hecktor2022_cropped/data/HMR-004', 'ct': '/home/nada.saadi/MIS-FM/hecktor2022_cropped/data/HMR-004/HMR-004_ct.nii.gz', 'pt': '/home/nada.saadi/MIS-FM/hecktor2022_cropped/data/HMR-004/HMR-004_pt.nii.gz', 'seg': '/home/nada.saadi/MIS-FM/hecktor2022_cropped/data/HMR-004/HMR-004_gt.nii.gz', 'fold': 3}, {'id': '/home/nada.saadi/MIS-FM/hecktor2022_cropped/data/HMR-005', 'ct': '/home/nada.saadi/MIS-FM/hecktor2022_cropped/data/HMR-005/HMR-005_ct.nii.gz', 'pt': '/home/nada.saadi/MIS-FM/hecktor2022_cropped/data/HMR-005/HMR-005_pt.nii.gz', 'seg': '/home/nada.saadi/MIS-FM/hecktor2022_cropped/data/HMR-005/HMR-005_gt.nii.gz', 'fold': 3}, {'id': '/home/nada.saadi/MIS-FM/hecktor2022_cropped/data/HMR-011', 'ct': '/home/nada.saadi/MIS-FM/hecktor2022_cropped/data/HMR-011/HMR-011_ct.nii.gz', 'pt': '/home/nada.saadi/MIS-FM/hecktor2022_cropped/data/HMR-011/HMR-011_pt.nii.gz', 'seg': '/home/nada.saadi/MIS-FM/hecktor2022_cropped/data/HMR-011/HMR-011_gt.nii.gz', 'fold': 2}, {'id': '/home/nada.saadi/MIS-FM/hecktor2022_cropped/data/HMR-012', 'ct': '/home/nada.saadi/MIS-FM/hecktor2022_cropped/data/HMR-012/HMR-012_ct.nii.gz', 'pt': '/home/nada.saadi/MIS-FM/hecktor2022_cropped/data/HMR-012/HMR-012_pt.nii.gz', 'seg': '/home/nada.saadi/MIS-FM/hecktor2022_cropped/data/HMR-012/HMR-012_gt.nii.gz', 'fold': 4}]\n"
     ]
    }
   ],
   "source": [
    "import json\n",
    "\n",
    "json_file_path = \"/home/nada.saadi/CTPET/hecktor2022_cropped/HMR_ctpt_train_new.json\"\n",
    "\n",
    "with open(json_file_path, 'r') as f:\n",
    "    data = json.load(f)\n",
    "\n",
    "first_5_elements = data[\"training\"][:5]\n",
    "print(first_5_elements)"
   ]
  },
  {
   "cell_type": "code",
   "execution_count": 6,
   "metadata": {},
   "outputs": [],
   "source": [
    "data_dir = '/home/nada.saadi/MIS-FM/hecktor2022_cropped'\n",
    "json_dir = \"/home/nada.saadi/CTPET/hecktor2022_cropped/HMR_ctpt_train_new.json\""
   ]
  },
  {
   "cell_type": "code",
   "execution_count": 7,
   "metadata": {},
   "outputs": [],
   "source": [
    "def datafold_read(datalist, basedir, fold=0, key=\"training\"):\n",
    "    with open(datalist) as f:\n",
    "        json_data = json.load(f)\n",
    "\n",
    "    json_data = json_data[key]\n",
    "\n",
    "    for d in json_data:\n",
    "        for k in d:\n",
    "            if isinstance(d[k], list):\n",
    "                d[k] = [os.path.join(basedir, iv) for iv in d[k]]\n",
    "            elif isinstance(d[k], str):\n",
    "                d[k] = os.path.join(basedir, d[k]) if len(d[k]) > 0 else d[k]\n",
    "\n",
    "    tr = []\n",
    "    val = []\n",
    "    for d in json_data:\n",
    "        if \"fold\" in d and d[\"fold\"] == fold:\n",
    "            val.append(d)\n",
    "        else:\n",
    "            tr.append(d)\n",
    "\n",
    "    return tr, val"
   ]
  },
  {
   "cell_type": "code",
   "execution_count": 8,
   "metadata": {},
   "outputs": [
    {
     "data": {
      "text/plain": [
       "(13, 4)"
      ]
     },
     "execution_count": 8,
     "metadata": {},
     "output_type": "execute_result"
    }
   ],
   "source": [
    "train_files, validation_files = datafold_read(datalist=json_dir, basedir=data_dir, fold=0)\n",
    "len(train_files), len(validation_files)"
   ]
  },
  {
   "cell_type": "code",
   "execution_count": 9,
   "metadata": {},
   "outputs": [
    {
     "data": {
      "text/plain": [
       "[{'id': '/home/nada.saadi/MIS-FM/hecktor2022_cropped/data/HMR-004',\n",
       "  'ct': '/home/nada.saadi/MIS-FM/hecktor2022_cropped/data/HMR-004/HMR-004_ct.nii.gz',\n",
       "  'pt': '/home/nada.saadi/MIS-FM/hecktor2022_cropped/data/HMR-004/HMR-004_pt.nii.gz',\n",
       "  'seg': '/home/nada.saadi/MIS-FM/hecktor2022_cropped/data/HMR-004/HMR-004_gt.nii.gz',\n",
       "  'fold': 3},\n",
       " {'id': '/home/nada.saadi/MIS-FM/hecktor2022_cropped/data/HMR-005',\n",
       "  'ct': '/home/nada.saadi/MIS-FM/hecktor2022_cropped/data/HMR-005/HMR-005_ct.nii.gz',\n",
       "  'pt': '/home/nada.saadi/MIS-FM/hecktor2022_cropped/data/HMR-005/HMR-005_pt.nii.gz',\n",
       "  'seg': '/home/nada.saadi/MIS-FM/hecktor2022_cropped/data/HMR-005/HMR-005_gt.nii.gz',\n",
       "  'fold': 3},\n",
       " {'id': '/home/nada.saadi/MIS-FM/hecktor2022_cropped/data/HMR-011',\n",
       "  'ct': '/home/nada.saadi/MIS-FM/hecktor2022_cropped/data/HMR-011/HMR-011_ct.nii.gz',\n",
       "  'pt': '/home/nada.saadi/MIS-FM/hecktor2022_cropped/data/HMR-011/HMR-011_pt.nii.gz',\n",
       "  'seg': '/home/nada.saadi/MIS-FM/hecktor2022_cropped/data/HMR-011/HMR-011_gt.nii.gz',\n",
       "  'fold': 2},\n",
       " {'id': '/home/nada.saadi/MIS-FM/hecktor2022_cropped/data/HMR-012',\n",
       "  'ct': '/home/nada.saadi/MIS-FM/hecktor2022_cropped/data/HMR-012/HMR-012_ct.nii.gz',\n",
       "  'pt': '/home/nada.saadi/MIS-FM/hecktor2022_cropped/data/HMR-012/HMR-012_pt.nii.gz',\n",
       "  'seg': '/home/nada.saadi/MIS-FM/hecktor2022_cropped/data/HMR-012/HMR-012_gt.nii.gz',\n",
       "  'fold': 4},\n",
       " {'id': '/home/nada.saadi/MIS-FM/hecktor2022_cropped/data/HMR-016',\n",
       "  'ct': '/home/nada.saadi/MIS-FM/hecktor2022_cropped/data/HMR-016/HMR-016_ct.nii.gz',\n",
       "  'pt': '/home/nada.saadi/MIS-FM/hecktor2022_cropped/data/HMR-016/HMR-016_pt.nii.gz',\n",
       "  'seg': '/home/nada.saadi/MIS-FM/hecktor2022_cropped/data/HMR-016/HMR-016_gt.nii.gz',\n",
       "  'fold': 3},\n",
       " {'id': '/home/nada.saadi/MIS-FM/hecktor2022_cropped/data/HMR-020',\n",
       "  'ct': '/home/nada.saadi/MIS-FM/hecktor2022_cropped/data/HMR-020/HMR-020_ct.nii.gz',\n",
       "  'pt': '/home/nada.saadi/MIS-FM/hecktor2022_cropped/data/HMR-020/HMR-020_pt.nii.gz',\n",
       "  'seg': '/home/nada.saadi/MIS-FM/hecktor2022_cropped/data/HMR-020/HMR-020_gt.nii.gz',\n",
       "  'fold': 4},\n",
       " {'id': '/home/nada.saadi/MIS-FM/hecktor2022_cropped/data/HMR-021',\n",
       "  'ct': '/home/nada.saadi/MIS-FM/hecktor2022_cropped/data/HMR-021/HMR-021_ct.nii.gz',\n",
       "  'pt': '/home/nada.saadi/MIS-FM/hecktor2022_cropped/data/HMR-021/HMR-021_pt.nii.gz',\n",
       "  'seg': '/home/nada.saadi/MIS-FM/hecktor2022_cropped/data/HMR-021/HMR-021_gt.nii.gz',\n",
       "  'fold': 2},\n",
       " {'id': '/home/nada.saadi/MIS-FM/hecktor2022_cropped/data/HMR-023',\n",
       "  'ct': '/home/nada.saadi/MIS-FM/hecktor2022_cropped/data/HMR-023/HMR-023_ct.nii.gz',\n",
       "  'pt': '/home/nada.saadi/MIS-FM/hecktor2022_cropped/data/HMR-023/HMR-023_pt.nii.gz',\n",
       "  'seg': '/home/nada.saadi/MIS-FM/hecktor2022_cropped/data/HMR-023/HMR-023_gt.nii.gz',\n",
       "  'fold': 2},\n",
       " {'id': '/home/nada.saadi/MIS-FM/hecktor2022_cropped/data/HMR-024',\n",
       "  'ct': '/home/nada.saadi/MIS-FM/hecktor2022_cropped/data/HMR-024/HMR-024_ct.nii.gz',\n",
       "  'pt': '/home/nada.saadi/MIS-FM/hecktor2022_cropped/data/HMR-024/HMR-024_pt.nii.gz',\n",
       "  'seg': '/home/nada.saadi/MIS-FM/hecktor2022_cropped/data/HMR-024/HMR-024_gt.nii.gz',\n",
       "  'fold': 3},\n",
       " {'id': '/home/nada.saadi/MIS-FM/hecktor2022_cropped/data/HMR-028',\n",
       "  'ct': '/home/nada.saadi/MIS-FM/hecktor2022_cropped/data/HMR-028/HMR-028_ct.nii.gz',\n",
       "  'pt': '/home/nada.saadi/MIS-FM/hecktor2022_cropped/data/HMR-028/HMR-028_pt.nii.gz',\n",
       "  'seg': '/home/nada.saadi/MIS-FM/hecktor2022_cropped/data/HMR-028/HMR-028_gt.nii.gz',\n",
       "  'fold': 1},\n",
       " {'id': '/home/nada.saadi/MIS-FM/hecktor2022_cropped/data/HMR-029',\n",
       "  'ct': '/home/nada.saadi/MIS-FM/hecktor2022_cropped/data/HMR-029/HMR-029_ct.nii.gz',\n",
       "  'pt': '/home/nada.saadi/MIS-FM/hecktor2022_cropped/data/HMR-029/HMR-029_pt.nii.gz',\n",
       "  'seg': '/home/nada.saadi/MIS-FM/hecktor2022_cropped/data/HMR-029/HMR-029_gt.nii.gz',\n",
       "  'fold': 3},\n",
       " {'id': '/home/nada.saadi/MIS-FM/hecktor2022_cropped/data/HMR-034',\n",
       "  'ct': '/home/nada.saadi/MIS-FM/hecktor2022_cropped/data/HMR-034/HMR-034_ct.nii.gz',\n",
       "  'pt': '/home/nada.saadi/MIS-FM/hecktor2022_cropped/data/HMR-034/HMR-034_pt.nii.gz',\n",
       "  'seg': '/home/nada.saadi/MIS-FM/hecktor2022_cropped/data/HMR-034/HMR-034_gt.nii.gz',\n",
       "  'fold': 3},\n",
       " {'id': '/home/nada.saadi/MIS-FM/hecktor2022_cropped/data/HMR-040',\n",
       "  'ct': '/home/nada.saadi/MIS-FM/hecktor2022_cropped/data/HMR-040/HMR-040_ct.nii.gz',\n",
       "  'pt': '/home/nada.saadi/MIS-FM/hecktor2022_cropped/data/HMR-040/HMR-040_pt.nii.gz',\n",
       "  'seg': '/home/nada.saadi/MIS-FM/hecktor2022_cropped/data/HMR-040/HMR-040_gt.nii.gz',\n",
       "  'fold': 1}]"
      ]
     },
     "execution_count": 9,
     "metadata": {},
     "output_type": "execute_result"
    }
   ],
   "source": [
    "train_files"
   ]
  },
  {
   "cell_type": "code",
   "execution_count": 10,
   "metadata": {},
   "outputs": [],
   "source": [
    "class ClipCT(MapTransform):\n",
    "    \"\"\"\n",
    "    Convert labels to multi channels based on hecktor classes:\n",
    "    label 1 is the tumor\n",
    "    label 2 is the lymph node\n",
    "\n",
    "    \"\"\"\n",
    "\n",
    "    def __call__(self, data):\n",
    "        d = dict(data)\n",
    "        for key in self.keys:\n",
    "            if key == \"ct\":\n",
    "                d[key] = torch.clip(d[key], min=-200, max=200)\n",
    "            # elif key == \"pt\":\n",
    "            #     d[key] = torch.clip(d[key], d[key].min(), 5)\n",
    "        return d\n",
    "\n",
    "class MulPTFM(MapTransform):\n",
    "    \"\"\"\n",
    "    Mult PT and FM \n",
    "\n",
    "    \"\"\"\n",
    "\n",
    "    def __call__(self, data):\n",
    "        d = dict(data)\n",
    "\n",
    "        fm = d[\"ct\"] > 0\n",
    "        d[\"pt\"] = d[\"pt\"] * fm\n",
    "        return d\n",
    "\n",
    "class SelectClass(MapTransform):\n",
    "    \"\"\"\n",
    "    Select the class for which you want to fine tune the model \n",
    "\n",
    "    \"\"\"\n",
    "    # def __init__(self, keys, cls=1):\n",
    "    #     super(self).__init__(keys)\n",
    "    #     self.cls = cls\n",
    "\n",
    "    def __call__(self, data):\n",
    "        d = dict(data)\n",
    "        d[\"seg\"][d[\"seg\"] == 1] = 0\n",
    "        # d[\"seg\"][d[\"seg\"] == 2] = 1\n",
    "        \n",
    "        return d"
   ]
  },
  {
   "cell_type": "code",
   "execution_count": 11,
   "metadata": {},
   "outputs": [],
   "source": [
    "num_samples = 4\n",
    "\n",
    "train_transforms = Compose(\n",
    "    [\n",
    "        LoadImaged(keys=[\"ct\", \"pt\", \"seg\"], ensure_channel_first = True),\n",
    "        SpatialPadd(keys=[\"ct\", \"pt\", \"seg\"], spatial_size=(200, 200, 310), method='end'),\n",
    "        Orientationd(keys=[\"ct\", \"pt\", \"seg\"], axcodes=\"PLS\"),\n",
    "        NormalizeIntensityd(keys=[\"pt\"]),\n",
    "        ClipCT(keys=[\"ct\"]),\n",
    "        ScaleIntensityd(keys=[\"ct\"], minv=0, maxv=1),\n",
    "        #MulPTFM(keys=[\"ct\",\"pt\"]),\n",
    "        ConcatItemsd(keys=[\"pt\", \"ct\"], name=\"ctpt\"),\n",
    "        #NormalizeIntensityd(keys=[\"ctpt\"], channel_wise=True),\n",
    "        RandCropByPosNegLabeld(\n",
    "            keys=[\"ctpt\", \"seg\"],\n",
    "            label_key=\"seg\",\n",
    "            spatial_size=(96, 96, 96),\n",
    "            pos=1,\n",
    "            neg=1,\n",
    "            num_samples=num_samples,\n",
    "            image_key=\"ctpt\",\n",
    "            image_threshold=0,\n",
    "        ),\n",
    "        RandFlipd(\n",
    "            keys=[\"ctpt\", \"seg\"],\n",
    "            spatial_axis=[0],\n",
    "            prob=0.20,\n",
    "        ),\n",
    "        RandFlipd(\n",
    "            keys=[\"ctpt\", \"seg\"],\n",
    "            spatial_axis=[1],\n",
    "            prob=0.20,\n",
    "        ),\n",
    "        RandFlipd(\n",
    "            keys=[\"ctpt\", \"seg\"],\n",
    "            spatial_axis=[2],\n",
    "            prob=0.20,\n",
    "        ),\n",
    "        RandRotate90d(\n",
    "            keys=[\"ctpt\", \"seg\"],\n",
    "            prob=0.20,\n",
    "            max_k=3,\n",
    "        ),\n",
    "    ]\n",
    ")\n",
    "val_transforms = Compose(\n",
    "    [\n",
    "        LoadImaged(keys=[\"ct\", \"pt\", \"seg\"], ensure_channel_first = True),\n",
    "        SpatialPadd(keys=[\"ct\", \"pt\", \"seg\"], spatial_size=(200, 200, 310), method='end'),\n",
    "        Orientationd(keys=[\"ct\", \"pt\", \"seg\"], axcodes=\"PLS\"),\n",
    "        NormalizeIntensityd(keys=[\"pt\"]),\n",
    "        ClipCT(keys=[\"ct\"]),\n",
    "        ScaleIntensityd(keys=[\"ct\"], minv=0, maxv=1),\n",
    "        #MulPTFM(keys=[\"ct\",\"pt\"]),\n",
    "        ConcatItemsd(keys=[\"pt\", \"ct\"], name=\"ctpt\"),\n",
    "    ]\n",
    ")"
   ]
  },
  {
   "cell_type": "code",
   "execution_count": 12,
   "metadata": {},
   "outputs": [],
   "source": [
    "train_ds = monai.data.Dataset(data=train_files, transform=train_transforms)\n",
    "\n",
    "train_loader = DataLoader(\n",
    "    train_ds,\n",
    "    batch_size=2,\n",
    "    shuffle=True,\n",
    "    num_workers=8,\n",
    "    pin_memory=torch.cuda.is_available(),\n",
    "    )\n",
    "\n",
    "val_ds = monai.data.Dataset(data=validation_files, transform=val_transforms)\n",
    "\n",
    "val_loader = DataLoader(\n",
    "    val_ds, \n",
    "    batch_size=2, \n",
    "    num_workers=8, \n",
    "    shuffle= False)"
   ]
  },
  {
   "cell_type": "code",
   "execution_count": 13,
   "metadata": {},
   "outputs": [
    {
     "name": "stderr",
     "output_type": "stream",
     "text": [
      "/home/nada.saadi/miniconda3/envs/clam/lib/python3.8/site-packages/monai/utils/deprecate_utils.py:221: FutureWarning: monai.networks.nets.unetr UNETR.__init__:pos_embed: Argument `pos_embed` has been deprecated since version 1.2. It will be removed in version 1.4. please use `proj_type` instead.\n",
      "  warn_deprecated(argname, msg, warning_category)\n"
     ]
    }
   ],
   "source": [
    "os.environ[\"CUDA_DEVICE_ORDER\"] = \"PCI_BUS_ID\"\n",
    "device = torch.device(\"cuda\" if torch.cuda.is_available() else \"cpu\")\n",
    "model = UNETR(\n",
    "    in_channels=2,\n",
    "    out_channels=3,\n",
    "    img_size=(96, 96, 96),\n",
    "    feature_size=16, #16\n",
    "    hidden_size= 768, #768,\n",
    "    mlp_dim=3072, #3072,\n",
    "    num_heads=12,\n",
    "    pos_embed=\"perceptron\",\n",
    "    norm_name=\"instance\",\n",
    "    res_block=True,\n",
    "    dropout_rate=0.0,\n",
    ").to(device)"
   ]
  },
  {
   "cell_type": "code",
   "execution_count": 14,
   "metadata": {},
   "outputs": [],
   "source": [
    "torch.backends.cudnn.benchmark = True\n",
    "def poly_lr(epoch, max_epochs, initial_lr, exponent=0.9):\n",
    "    return initial_lr * (1 - epoch / max_epochs)**exponent\n",
    "\n",
    "loss_function = DiceCELoss(to_onehot_y=True, softmax=True)\n",
    "optimizer = torch.optim.AdamW(model.parameters(), lr=1e-4, weight_decay=1e-5)"
   ]
  },
  {
   "cell_type": "code",
   "execution_count": 15,
   "metadata": {},
   "outputs": [
    {
     "name": "stderr",
     "output_type": "stream",
     "text": [
      "Training (X / X Steps) (loss=X.X):   0%|          | 0/7 [00:00<?, ?it/s]"
     ]
    },
    {
     "name": "stderr",
     "output_type": "stream",
     "text": [
      "Training (6 / 18000 Steps) (loss=1.75012): 100%|██████████| 7/7 [00:31<00:00,  4.47s/it]\n",
      "Training (13 / 18000 Steps) (loss=1.68970): 100%|██████████| 7/7 [00:09<00:00,  1.32s/it]\n",
      "Training (20 / 18000 Steps) (loss=1.65733): 100%|██████████| 7/7 [00:09<00:00,  1.30s/it]\n",
      "Training (27 / 18000 Steps) (loss=1.59671): 100%|██████████| 7/7 [00:09<00:00,  1.29s/it]\n",
      "Training (34 / 18000 Steps) (loss=1.57607): 100%|██████████| 7/7 [00:08<00:00,  1.24s/it]\n",
      "Training (41 / 18000 Steps) (loss=1.56408): 100%|██████████| 7/7 [00:09<00:00,  1.33s/it]\n",
      "Training (48 / 18000 Steps) (loss=1.52777): 100%|██████████| 7/7 [00:09<00:00,  1.33s/it]\n",
      "Training (55 / 18000 Steps) (loss=1.48047): 100%|██████████| 7/7 [00:08<00:00,  1.25s/it]\n",
      "Training (62 / 18000 Steps) (loss=1.54948): 100%|██████████| 7/7 [00:08<00:00,  1.28s/it]\n",
      "Training (69 / 18000 Steps) (loss=1.44401): 100%|██████████| 7/7 [00:10<00:00,  1.43s/it]\n",
      "Training (76 / 18000 Steps) (loss=1.47360): 100%|██████████| 7/7 [00:09<00:00,  1.38s/it]\n",
      "Training (83 / 18000 Steps) (loss=1.46854): 100%|██████████| 7/7 [00:08<00:00,  1.18s/it]\n",
      "Training (90 / 18000 Steps) (loss=1.44964): 100%|██████████| 7/7 [00:10<00:00,  1.50s/it]\n",
      "Training (97 / 18000 Steps) (loss=1.37879): 100%|██████████| 7/7 [00:08<00:00,  1.26s/it]\n",
      "Validate (98 / 10 Steps): 100%|██████████| 2/2 [00:07<00:00,  4.00s/it]7<00:15,  3.19s/it]\n",
      "Training (100 / 18000 Steps) (loss=1.43531):  43%|████▎     | 3/7 [00:17<00:24,  6.16s/it]"
     ]
    },
    {
     "name": "stdout",
     "output_type": "stream",
     "text": [
      "Model Was Saved ! Current Best Avg. Dice: 0.08750870823860168 Current Avg. Dice: 0.08750870823860168 Current Avg. tumor Dice: 0.138916477560997 Current Avg. lymph Dice: 0.03610093519091606\n"
     ]
    },
    {
     "name": "stderr",
     "output_type": "stream",
     "text": [
      "Training (104 / 18000 Steps) (loss=1.40536): 100%|██████████| 7/7 [00:18<00:00,  2.67s/it]\n",
      "Training (111 / 18000 Steps) (loss=1.42321): 100%|██████████| 7/7 [00:09<00:00,  1.36s/it]\n",
      "Training (118 / 18000 Steps) (loss=1.40785): 100%|██████████| 7/7 [00:08<00:00,  1.27s/it]\n",
      "Training (125 / 18000 Steps) (loss=1.35638): 100%|██████████| 7/7 [00:09<00:00,  1.37s/it]\n",
      "Training (132 / 18000 Steps) (loss=1.39699): 100%|██████████| 7/7 [00:09<00:00,  1.29s/it]\n",
      "Training (139 / 18000 Steps) (loss=1.36187): 100%|██████████| 7/7 [00:09<00:00,  1.36s/it]\n",
      "Training (146 / 18000 Steps) (loss=1.36307): 100%|██████████| 7/7 [00:08<00:00,  1.25s/it]\n",
      "Training (153 / 18000 Steps) (loss=1.35676): 100%|██████████| 7/7 [00:08<00:00,  1.15s/it]\n",
      "Training (160 / 18000 Steps) (loss=1.38682): 100%|██████████| 7/7 [00:08<00:00,  1.24s/it]\n",
      "Training (167 / 18000 Steps) (loss=1.30327): 100%|██████████| 7/7 [00:09<00:00,  1.38s/it]\n",
      "Training (174 / 18000 Steps) (loss=1.25199): 100%|██████████| 7/7 [00:08<00:00,  1.20s/it]\n",
      "Training (181 / 18000 Steps) (loss=1.32864): 100%|██████████| 7/7 [00:08<00:00,  1.20s/it]\n",
      "Training (188 / 18000 Steps) (loss=1.31825): 100%|██████████| 7/7 [00:09<00:00,  1.39s/it]\n",
      "Training (195 / 18000 Steps) (loss=1.29693): 100%|██████████| 7/7 [00:08<00:00,  1.23s/it]\n",
      "Validate (196 / 10 Steps): 100%|██████████| 2/2 [00:05<00:00,  2.94s/it]<00:04,  1.33s/it]\n",
      "Training (200 / 18000 Steps) (loss=1.28776):  71%|███████▏  | 5/7 [00:15<00:06,  3.43s/it]"
     ]
    },
    {
     "name": "stdout",
     "output_type": "stream",
     "text": [
      "Model Was Saved ! Current Best Avg. Dice: 0.12354230135679245 Current Avg. Dice: 0.12354230135679245 Current Avg. tumor Dice: 0.22303272783756256 Current Avg. lymph Dice: 0.024051882326602936\n"
     ]
    },
    {
     "name": "stderr",
     "output_type": "stream",
     "text": [
      "Training (202 / 18000 Steps) (loss=1.22176): 100%|██████████| 7/7 [00:16<00:00,  2.33s/it]\n",
      "Training (209 / 18000 Steps) (loss=1.28632): 100%|██████████| 7/7 [00:09<00:00,  1.31s/it]\n",
      "Training (216 / 18000 Steps) (loss=1.10027): 100%|██████████| 7/7 [00:09<00:00,  1.36s/it]\n",
      "Training (223 / 18000 Steps) (loss=1.24003): 100%|██████████| 7/7 [00:09<00:00,  1.31s/it]\n",
      "Training (230 / 18000 Steps) (loss=1.17882): 100%|██████████| 7/7 [00:09<00:00,  1.34s/it]\n",
      "Training (237 / 18000 Steps) (loss=1.12213): 100%|██████████| 7/7 [00:08<00:00,  1.25s/it]\n",
      "Training (244 / 18000 Steps) (loss=1.24333): 100%|██████████| 7/7 [00:08<00:00,  1.28s/it]\n",
      "Training (251 / 18000 Steps) (loss=1.22856): 100%|██████████| 7/7 [00:09<00:00,  1.31s/it]\n",
      "Training (258 / 18000 Steps) (loss=1.22173): 100%|██████████| 7/7 [00:07<00:00,  1.13s/it]\n",
      "Training (265 / 18000 Steps) (loss=1.26886): 100%|██████████| 7/7 [00:08<00:00,  1.25s/it]\n",
      "Training (272 / 18000 Steps) (loss=1.20624): 100%|██████████| 7/7 [00:09<00:00,  1.34s/it]\n",
      "Training (279 / 18000 Steps) (loss=1.08898): 100%|██████████| 7/7 [00:08<00:00,  1.25s/it]\n",
      "Training (286 / 18000 Steps) (loss=1.23355): 100%|██████████| 7/7 [00:08<00:00,  1.25s/it]\n",
      "Training (293 / 18000 Steps) (loss=1.20803): 100%|██████████| 7/7 [00:08<00:00,  1.27s/it]\n",
      "Validate (294 / 10 Steps): 100%|██████████| 2/2 [00:05<00:00,  2.88s/it]<00:00,  1.25it/s]\n",
      "Training (300 / 18000 Steps) (loss=1.06326): 100%|██████████| 7/7 [00:16<00:00,  2.29s/it]\n"
     ]
    },
    {
     "name": "stdout",
     "output_type": "stream",
     "text": [
      "Model Was Saved ! Current Best Avg. Dice: 0.2140454649925232 Current Avg. Dice: 0.2140454649925232 Current Avg. tumor Dice: 0.4267144501209259 Current Avg. lymph Dice: 0.001376485568471253\n"
     ]
    },
    {
     "name": "stderr",
     "output_type": "stream",
     "text": [
      "Training (307 / 18000 Steps) (loss=1.20107): 100%|██████████| 7/7 [00:08<00:00,  1.28s/it]\n",
      "Training (314 / 18000 Steps) (loss=1.19277): 100%|██████████| 7/7 [00:09<00:00,  1.38s/it]\n",
      "Training (321 / 18000 Steps) (loss=1.17051): 100%|██████████| 7/7 [00:08<00:00,  1.25s/it]\n",
      "Training (328 / 18000 Steps) (loss=1.14787): 100%|██████████| 7/7 [00:08<00:00,  1.19s/it]\n",
      "Training (335 / 18000 Steps) (loss=1.19052): 100%|██████████| 7/7 [00:08<00:00,  1.24s/it]\n",
      "Training (342 / 18000 Steps) (loss=1.12925): 100%|██████████| 7/7 [00:08<00:00,  1.14s/it]\n",
      "Training (349 / 18000 Steps) (loss=1.12027): 100%|██████████| 7/7 [00:08<00:00,  1.15s/it]\n",
      "Training (356 / 18000 Steps) (loss=1.12554): 100%|██████████| 7/7 [00:08<00:00,  1.24s/it]\n",
      "Training (363 / 18000 Steps) (loss=1.01071): 100%|██████████| 7/7 [00:08<00:00,  1.18s/it]\n",
      "Training (370 / 18000 Steps) (loss=1.14471): 100%|██████████| 7/7 [00:09<00:00,  1.36s/it]\n",
      "Training (377 / 18000 Steps) (loss=1.15277): 100%|██████████| 7/7 [00:10<00:00,  1.43s/it]\n",
      "Training (384 / 18000 Steps) (loss=1.13558): 100%|██████████| 7/7 [00:09<00:00,  1.29s/it]\n",
      "Training (391 / 18000 Steps) (loss=1.13843): 100%|██████████| 7/7 [00:08<00:00,  1.29s/it]\n",
      "Training (398 / 18000 Steps) (loss=0.98733): 100%|██████████| 7/7 [00:08<00:00,  1.14s/it]\n",
      "Validate (399 / 10 Steps): 100%|██████████| 2/2 [00:05<00:00,  2.92s/it]<00:35,  5.87s/it]\n",
      "Training (400 / 18000 Steps) (loss=1.11600):  29%|██▊       | 2/7 [00:12<00:30,  6.15s/it]"
     ]
    },
    {
     "name": "stdout",
     "output_type": "stream",
     "text": [
      "Model Was Not Saved ! Current Best Avg. Dice: 0.2140454649925232 Current Avg. Dice: 0.1909591406583786 Current Avg. tumor Dice: 0.3819182515144348 Current Avg. lymph Dice: 0.0\n"
     ]
    },
    {
     "name": "stderr",
     "output_type": "stream",
     "text": [
      "Training (405 / 18000 Steps) (loss=1.02162): 100%|██████████| 7/7 [00:14<00:00,  2.03s/it]\n",
      "Training (412 / 18000 Steps) (loss=1.06608): 100%|██████████| 7/7 [00:08<00:00,  1.18s/it]\n",
      "Training (419 / 18000 Steps) (loss=0.96401): 100%|██████████| 7/7 [00:08<00:00,  1.19s/it]\n",
      "Training (426 / 18000 Steps) (loss=1.13177): 100%|██████████| 7/7 [00:08<00:00,  1.25s/it]\n",
      "Training (433 / 18000 Steps) (loss=0.99968): 100%|██████████| 7/7 [00:09<00:00,  1.34s/it]\n",
      "Training (440 / 18000 Steps) (loss=1.10581): 100%|██████████| 7/7 [00:09<00:00,  1.30s/it]\n",
      "Training (447 / 18000 Steps) (loss=0.94100): 100%|██████████| 7/7 [00:08<00:00,  1.22s/it]\n",
      "Training (454 / 18000 Steps) (loss=0.99628): 100%|██████████| 7/7 [00:08<00:00,  1.18s/it]\n",
      "Training (461 / 18000 Steps) (loss=1.03160): 100%|██████████| 7/7 [00:08<00:00,  1.22s/it]\n",
      "Training (468 / 18000 Steps) (loss=1.04931): 100%|██████████| 7/7 [00:08<00:00,  1.22s/it]\n",
      "Training (475 / 18000 Steps) (loss=1.10574): 100%|██████████| 7/7 [00:09<00:00,  1.29s/it]\n",
      "Training (482 / 18000 Steps) (loss=1.06958): 100%|██████████| 7/7 [00:08<00:00,  1.21s/it]\n",
      "Training (489 / 18000 Steps) (loss=1.05809): 100%|██████████| 7/7 [00:08<00:00,  1.16s/it]\n",
      "Training (496 / 18000 Steps) (loss=1.05361): 100%|██████████| 7/7 [00:08<00:00,  1.15s/it]\n",
      "Validate (497 / 10 Steps): 100%|██████████| 2/2 [00:05<00:00,  2.97s/it]<00:08,  2.01s/it]\n",
      "Training (500 / 18000 Steps) (loss=1.04421):  57%|█████▋    | 4/7 [00:14<00:11,  3.77s/it]"
     ]
    },
    {
     "name": "stdout",
     "output_type": "stream",
     "text": [
      "Model Was Not Saved ! Current Best Avg. Dice: 0.2140454649925232 Current Avg. Dice: 0.17752350866794586 Current Avg. tumor Dice: 0.3550470173358917 Current Avg. lymph Dice: 0.0\n"
     ]
    },
    {
     "name": "stderr",
     "output_type": "stream",
     "text": [
      "Training (503 / 18000 Steps) (loss=1.03695): 100%|██████████| 7/7 [00:15<00:00,  2.19s/it]\n",
      "Training (510 / 18000 Steps) (loss=1.02463): 100%|██████████| 7/7 [00:09<00:00,  1.31s/it]\n",
      "Training (517 / 18000 Steps) (loss=0.88576): 100%|██████████| 7/7 [00:08<00:00,  1.26s/it]\n",
      "Training (524 / 18000 Steps) (loss=1.03909): 100%|██████████| 7/7 [00:09<00:00,  1.36s/it]\n",
      "Training (531 / 18000 Steps) (loss=0.87259): 100%|██████████| 7/7 [00:09<00:00,  1.29s/it]\n",
      "Training (538 / 18000 Steps) (loss=0.97656): 100%|██████████| 7/7 [00:08<00:00,  1.26s/it]\n",
      "Training (545 / 18000 Steps) (loss=0.86066): 100%|██████████| 7/7 [00:09<00:00,  1.29s/it]\n",
      "Training (552 / 18000 Steps) (loss=1.00899): 100%|██████████| 7/7 [00:08<00:00,  1.22s/it]\n",
      "Training (559 / 18000 Steps) (loss=1.00724): 100%|██████████| 7/7 [00:07<00:00,  1.13s/it]\n",
      "Training (566 / 18000 Steps) (loss=1.04348): 100%|██████████| 7/7 [00:08<00:00,  1.22s/it]\n",
      "Training (573 / 18000 Steps) (loss=0.95327): 100%|██████████| 7/7 [00:08<00:00,  1.22s/it]\n",
      "Training (580 / 18000 Steps) (loss=0.99739): 100%|██████████| 7/7 [00:08<00:00,  1.22s/it]\n",
      "Training (587 / 18000 Steps) (loss=1.02395): 100%|██████████| 7/7 [00:08<00:00,  1.24s/it]\n",
      "Training (594 / 18000 Steps) (loss=0.96871): 100%|██████████| 7/7 [00:08<00:00,  1.28s/it]\n",
      "Validate (595 / 10 Steps): 100%|██████████| 2/2 [00:05<00:00,  2.83s/it]<00:01,  1.09it/s]\n",
      "Training (600 / 18000 Steps) (loss=0.92431):  86%|████████▌ | 6/7 [00:14<00:02,  2.70s/it]"
     ]
    },
    {
     "name": "stdout",
     "output_type": "stream",
     "text": [
      "Model Was Not Saved ! Current Best Avg. Dice: 0.2140454649925232 Current Avg. Dice: 0.2122325599193573 Current Avg. tumor Dice: 0.4244651198387146 Current Avg. lymph Dice: 0.0\n"
     ]
    },
    {
     "name": "stderr",
     "output_type": "stream",
     "text": [
      "Training (601 / 18000 Steps) (loss=0.81718): 100%|██████████| 7/7 [00:14<00:00,  2.05s/it]\n",
      "Training (608 / 18000 Steps) (loss=0.87629): 100%|██████████| 7/7 [00:09<00:00,  1.35s/it]\n",
      "Training (615 / 18000 Steps) (loss=0.97826): 100%|██████████| 7/7 [00:08<00:00,  1.24s/it]\n",
      "Training (622 / 18000 Steps) (loss=0.96019): 100%|██████████| 7/7 [00:09<00:00,  1.30s/it]\n",
      "Training (629 / 18000 Steps) (loss=1.00531): 100%|██████████| 7/7 [00:08<00:00,  1.28s/it]\n",
      "Training (636 / 18000 Steps) (loss=0.93568): 100%|██████████| 7/7 [00:07<00:00,  1.14s/it]\n",
      "Training (643 / 18000 Steps) (loss=0.87162): 100%|██████████| 7/7 [00:08<00:00,  1.26s/it]\n",
      "Training (650 / 18000 Steps) (loss=0.97960): 100%|██████████| 7/7 [00:08<00:00,  1.23s/it]\n",
      "Training (657 / 18000 Steps) (loss=0.94252): 100%|██████████| 7/7 [00:09<00:00,  1.29s/it]\n",
      "Training (664 / 18000 Steps) (loss=0.94452): 100%|██████████| 7/7 [00:08<00:00,  1.20s/it]\n",
      "Training (671 / 18000 Steps) (loss=0.92037): 100%|██████████| 7/7 [00:08<00:00,  1.19s/it]\n",
      "Training (678 / 18000 Steps) (loss=0.85295): 100%|██████████| 7/7 [00:09<00:00,  1.36s/it]\n",
      "Training (685 / 18000 Steps) (loss=0.86311): 100%|██████████| 7/7 [00:08<00:00,  1.27s/it]\n",
      "Training (692 / 18000 Steps) (loss=0.83212): 100%|██████████| 7/7 [00:08<00:00,  1.21s/it]\n",
      "Training (699 / 18000 Steps) (loss=0.89285): 100%|██████████| 7/7 [00:09<00:00,  1.29s/it]\n",
      "Validate (700 / 10 Steps): 100%|██████████| 2/2 [00:05<00:00,  2.86s/it]<?, ?it/s]\n",
      "Training (700 / 18000 Steps) (loss=0.85343):  14%|█▍        | 1/7 [00:11<01:08, 11.48s/it]"
     ]
    },
    {
     "name": "stdout",
     "output_type": "stream",
     "text": [
      "Model Was Not Saved ! Current Best Avg. Dice: 0.2140454649925232 Current Avg. Dice: 0.18624290823936462 Current Avg. tumor Dice: 0.37248581647872925 Current Avg. lymph Dice: 0.0\n"
     ]
    },
    {
     "name": "stderr",
     "output_type": "stream",
     "text": [
      "Training (706 / 18000 Steps) (loss=0.82325): 100%|██████████| 7/7 [00:13<00:00,  1.99s/it]\n",
      "Training (713 / 18000 Steps) (loss=0.76656): 100%|██████████| 7/7 [00:09<00:00,  1.31s/it]\n",
      "Training (720 / 18000 Steps) (loss=0.81910): 100%|██████████| 7/7 [00:08<00:00,  1.26s/it]\n",
      "Training (727 / 18000 Steps) (loss=0.81563): 100%|██████████| 7/7 [00:08<00:00,  1.23s/it]\n",
      "Training (734 / 18000 Steps) (loss=0.87083): 100%|██████████| 7/7 [00:08<00:00,  1.21s/it]\n",
      "Training (741 / 18000 Steps) (loss=0.84218): 100%|██████████| 7/7 [00:08<00:00,  1.21s/it]\n",
      "Training (748 / 18000 Steps) (loss=0.90598): 100%|██████████| 7/7 [00:09<00:00,  1.39s/it]\n",
      "Training (755 / 18000 Steps) (loss=0.85043): 100%|██████████| 7/7 [00:08<00:00,  1.26s/it]\n",
      "Training (762 / 18000 Steps) (loss=0.84460): 100%|██████████| 7/7 [00:08<00:00,  1.23s/it]\n",
      "Training (769 / 18000 Steps) (loss=0.73956): 100%|██████████| 7/7 [00:08<00:00,  1.17s/it]\n",
      "Training (776 / 18000 Steps) (loss=0.88142): 100%|██████████| 7/7 [00:09<00:00,  1.35s/it]\n",
      "Training (783 / 18000 Steps) (loss=0.89379): 100%|██████████| 7/7 [00:09<00:00,  1.37s/it]\n",
      "Training (790 / 18000 Steps) (loss=0.86551): 100%|██████████| 7/7 [00:09<00:00,  1.30s/it]\n",
      "Training (797 / 18000 Steps) (loss=0.85307): 100%|██████████| 7/7 [00:08<00:00,  1.26s/it]\n",
      "Validate (798 / 10 Steps): 100%|██████████| 2/2 [00:05<00:00,  2.90s/it]<00:15,  3.07s/it]\n",
      "Training (800 / 18000 Steps) (loss=0.87386):  43%|████▎     | 3/7 [00:13<00:19,  4.87s/it]"
     ]
    },
    {
     "name": "stdout",
     "output_type": "stream",
     "text": [
      "Model Was Saved ! Current Best Avg. Dice: 0.2440839558839798 Current Avg. Dice: 0.2440839558839798 Current Avg. tumor Dice: 0.488167941570282 Current Avg. lymph Dice: 0.0\n"
     ]
    },
    {
     "name": "stderr",
     "output_type": "stream",
     "text": [
      "Training (804 / 18000 Steps) (loss=0.72972): 100%|██████████| 7/7 [00:15<00:00,  2.22s/it]\n",
      "Training (811 / 18000 Steps) (loss=0.87754): 100%|██████████| 7/7 [00:08<00:00,  1.20s/it]\n",
      "Training (818 / 18000 Steps) (loss=0.76862): 100%|██████████| 7/7 [00:09<00:00,  1.31s/it]\n",
      "Training (825 / 18000 Steps) (loss=0.81798): 100%|██████████| 7/7 [00:08<00:00,  1.25s/it]\n",
      "Training (832 / 18000 Steps) (loss=0.70494): 100%|██████████| 7/7 [00:08<00:00,  1.23s/it]\n",
      "Training (839 / 18000 Steps) (loss=0.70709): 100%|██████████| 7/7 [00:08<00:00,  1.23s/it]\n",
      "Training (846 / 18000 Steps) (loss=0.83401): 100%|██████████| 7/7 [00:08<00:00,  1.18s/it]\n",
      "Training (853 / 18000 Steps) (loss=0.75528): 100%|██████████| 7/7 [00:08<00:00,  1.21s/it]\n",
      "Training (860 / 18000 Steps) (loss=0.84661): 100%|██████████| 7/7 [00:09<00:00,  1.37s/it]\n",
      "Training (867 / 18000 Steps) (loss=0.76001): 100%|██████████| 7/7 [00:09<00:00,  1.34s/it]\n",
      "Training (874 / 18000 Steps) (loss=0.89233): 100%|██████████| 7/7 [00:08<00:00,  1.25s/it]\n",
      "Training (881 / 18000 Steps) (loss=0.83753): 100%|██████████| 7/7 [00:09<00:00,  1.32s/it]\n",
      "Training (888 / 18000 Steps) (loss=0.79688): 100%|██████████| 7/7 [00:09<00:00,  1.33s/it]\n",
      "Training (895 / 18000 Steps) (loss=0.87839): 100%|██████████| 7/7 [00:08<00:00,  1.22s/it]\n",
      "Validate (896 / 10 Steps): 100%|██████████| 2/2 [00:05<00:00,  2.83s/it]<00:03,  1.27s/it]\n",
      "Training (900 / 18000 Steps) (loss=0.84302):  71%|███████▏  | 5/7 [00:14<00:06,  3.29s/it]"
     ]
    },
    {
     "name": "stdout",
     "output_type": "stream",
     "text": [
      "Model Was Saved ! Current Best Avg. Dice: 0.27659285068511963 Current Avg. Dice: 0.27659285068511963 Current Avg. tumor Dice: 0.5531857013702393 Current Avg. lymph Dice: 0.0\n"
     ]
    },
    {
     "name": "stderr",
     "output_type": "stream",
     "text": [
      "Training (902 / 18000 Steps) (loss=0.81371): 100%|██████████| 7/7 [00:15<00:00,  2.22s/it]\n",
      "Training (909 / 18000 Steps) (loss=0.83907): 100%|██████████| 7/7 [00:08<00:00,  1.25s/it]\n",
      "Training (916 / 18000 Steps) (loss=0.85392): 100%|██████████| 7/7 [00:08<00:00,  1.18s/it]\n",
      "Training (923 / 18000 Steps) (loss=0.87491): 100%|██████████| 7/7 [00:09<00:00,  1.37s/it]\n",
      "Training (930 / 18000 Steps) (loss=0.83567): 100%|██████████| 7/7 [00:08<00:00,  1.25s/it]\n",
      "Training (937 / 18000 Steps) (loss=0.79806): 100%|██████████| 7/7 [00:09<00:00,  1.37s/it]\n",
      "Training (944 / 18000 Steps) (loss=0.78965): 100%|██████████| 7/7 [00:09<00:00,  1.30s/it]\n",
      "Training (951 / 18000 Steps) (loss=0.75235): 100%|██████████| 7/7 [00:09<00:00,  1.31s/it]\n",
      "Training (958 / 18000 Steps) (loss=0.77264): 100%|██████████| 7/7 [00:09<00:00,  1.33s/it]\n",
      "Training (965 / 18000 Steps) (loss=0.81189): 100%|██████████| 7/7 [00:09<00:00,  1.34s/it]\n",
      "Training (972 / 18000 Steps) (loss=0.86319): 100%|██████████| 7/7 [00:09<00:00,  1.35s/it]\n",
      "Training (979 / 18000 Steps) (loss=0.81606): 100%|██████████| 7/7 [00:08<00:00,  1.26s/it]\n",
      "Training (986 / 18000 Steps) (loss=0.83172): 100%|██████████| 7/7 [00:09<00:00,  1.31s/it]\n",
      "Training (993 / 18000 Steps) (loss=0.65983): 100%|██████████| 7/7 [00:08<00:00,  1.17s/it]\n",
      "Validate (994 / 10 Steps): 100%|██████████| 2/2 [00:05<00:00,  2.88s/it]9<00:00,  1.24it/s]\n",
      "Training (1000 / 18000 Steps) (loss=0.79446): 100%|██████████| 7/7 [00:15<00:00,  2.16s/it]\n"
     ]
    },
    {
     "name": "stdout",
     "output_type": "stream",
     "text": [
      "Model Was Not Saved ! Current Best Avg. Dice: 0.27659285068511963 Current Avg. Dice: 0.26818808913230896 Current Avg. tumor Dice: 0.5363761782646179 Current Avg. lymph Dice: 0.0\n"
     ]
    },
    {
     "name": "stderr",
     "output_type": "stream",
     "text": [
      "Training (1007 / 18000 Steps) (loss=0.78962): 100%|██████████| 7/7 [00:08<00:00,  1.22s/it]\n",
      "Training (1014 / 18000 Steps) (loss=0.81366): 100%|██████████| 7/7 [00:08<00:00,  1.22s/it]\n",
      "Training (1021 / 18000 Steps) (loss=0.79490): 100%|██████████| 7/7 [00:08<00:00,  1.24s/it]\n",
      "Training (1028 / 18000 Steps) (loss=0.65507): 100%|██████████| 7/7 [00:09<00:00,  1.38s/it]\n",
      "Training (1035 / 18000 Steps) (loss=0.78481): 100%|██████████| 7/7 [00:08<00:00,  1.24s/it]\n",
      "Training (1042 / 18000 Steps) (loss=0.82475): 100%|██████████| 7/7 [00:08<00:00,  1.27s/it]\n",
      "Training (1049 / 18000 Steps) (loss=0.57698): 100%|██████████| 7/7 [00:09<00:00,  1.41s/it]\n",
      "Training (1056 / 18000 Steps) (loss=0.78794): 100%|██████████| 7/7 [00:08<00:00,  1.25s/it]\n",
      "Training (1063 / 18000 Steps) (loss=0.75447): 100%|██████████| 7/7 [00:08<00:00,  1.26s/it]\n",
      "Training (1070 / 18000 Steps) (loss=0.75954): 100%|██████████| 7/7 [00:08<00:00,  1.24s/it]\n",
      "Training (1077 / 18000 Steps) (loss=0.70838): 100%|██████████| 7/7 [00:08<00:00,  1.17s/it]\n",
      "Training (1084 / 18000 Steps) (loss=0.62916): 100%|██████████| 7/7 [00:08<00:00,  1.19s/it]\n",
      "Training (1091 / 18000 Steps) (loss=0.79856): 100%|██████████| 7/7 [00:08<00:00,  1.27s/it]\n",
      "Training (1098 / 18000 Steps) (loss=0.68485): 100%|██████████| 7/7 [00:08<00:00,  1.23s/it]\n",
      "Validate (1099 / 10 Steps): 100%|██████████| 2/2 [00:05<00:00,  2.91s/it]<00:32,  5.35s/it]\n",
      "Training (1100 / 18000 Steps) (loss=0.70143):  29%|██▊       | 2/7 [00:12<00:30,  6.15s/it]"
     ]
    },
    {
     "name": "stdout",
     "output_type": "stream",
     "text": [
      "Model Was Not Saved ! Current Best Avg. Dice: 0.27659285068511963 Current Avg. Dice: 0.23651587963104248 Current Avg. tumor Dice: 0.47303175926208496 Current Avg. lymph Dice: 0.0\n"
     ]
    },
    {
     "name": "stderr",
     "output_type": "stream",
     "text": [
      "Training (1105 / 18000 Steps) (loss=0.70047): 100%|██████████| 7/7 [00:14<00:00,  2.01s/it]\n",
      "Training (1112 / 18000 Steps) (loss=0.77152): 100%|██████████| 7/7 [00:08<00:00,  1.25s/it]\n",
      "Training (1119 / 18000 Steps) (loss=0.65792): 100%|██████████| 7/7 [00:09<00:00,  1.38s/it]\n",
      "Training (1126 / 18000 Steps) (loss=0.77341): 100%|██████████| 7/7 [00:09<00:00,  1.33s/it]\n",
      "Training (1133 / 18000 Steps) (loss=0.67923): 100%|██████████| 7/7 [00:08<00:00,  1.26s/it]\n",
      "Training (1140 / 18000 Steps) (loss=0.69203): 100%|██████████| 7/7 [00:08<00:00,  1.25s/it]\n",
      "Training (1147 / 18000 Steps) (loss=0.66318): 100%|██████████| 7/7 [00:08<00:00,  1.29s/it]\n",
      "Training (1154 / 18000 Steps) (loss=0.61813): 100%|██████████| 7/7 [00:08<00:00,  1.27s/it]\n",
      "Training (1161 / 18000 Steps) (loss=0.54841): 100%|██████████| 7/7 [00:08<00:00,  1.20s/it]\n",
      "Training (1168 / 18000 Steps) (loss=0.73325): 100%|██████████| 7/7 [00:09<00:00,  1.33s/it]\n",
      "Training (1175 / 18000 Steps) (loss=0.60801): 100%|██████████| 7/7 [00:09<00:00,  1.32s/it]\n",
      "Training (1182 / 18000 Steps) (loss=0.74591): 100%|██████████| 7/7 [00:08<00:00,  1.26s/it]\n",
      "Training (1189 / 18000 Steps) (loss=0.75132): 100%|██████████| 7/7 [00:08<00:00,  1.24s/it]\n",
      "Training (1196 / 18000 Steps) (loss=0.76924): 100%|██████████| 7/7 [00:09<00:00,  1.36s/it]\n",
      "Validate (1197 / 10 Steps): 100%|██████████| 2/2 [00:05<00:00,  2.92s/it]<00:07,  1.87s/it]\n",
      "Training (1200 / 18000 Steps) (loss=0.68194):  57%|█████▋    | 4/7 [00:14<00:11,  3.90s/it]"
     ]
    },
    {
     "name": "stdout",
     "output_type": "stream",
     "text": [
      "Model Was Saved ! Current Best Avg. Dice: 0.28066176176071167 Current Avg. Dice: 0.28066176176071167 Current Avg. tumor Dice: 0.5613235235214233 Current Avg. lymph Dice: 0.0\n"
     ]
    },
    {
     "name": "stderr",
     "output_type": "stream",
     "text": [
      "Training (1203 / 18000 Steps) (loss=0.65040): 100%|██████████| 7/7 [00:15<00:00,  2.28s/it]\n",
      "Training (1210 / 18000 Steps) (loss=0.75924): 100%|██████████| 7/7 [00:08<00:00,  1.22s/it]\n",
      "Training (1217 / 18000 Steps) (loss=0.78722): 100%|██████████| 7/7 [00:09<00:00,  1.38s/it]\n",
      "Training (1224 / 18000 Steps) (loss=0.67036): 100%|██████████| 7/7 [00:08<00:00,  1.26s/it]\n",
      "Training (1231 / 18000 Steps) (loss=0.69013): 100%|██████████| 7/7 [00:08<00:00,  1.28s/it]\n",
      "Training (1238 / 18000 Steps) (loss=0.76223): 100%|██████████| 7/7 [00:09<00:00,  1.36s/it]\n",
      "Training (1245 / 18000 Steps) (loss=0.75077): 100%|██████████| 7/7 [00:08<00:00,  1.24s/it]\n",
      "Training (1252 / 18000 Steps) (loss=0.76293): 100%|██████████| 7/7 [00:08<00:00,  1.23s/it]\n",
      "Training (1259 / 18000 Steps) (loss=0.65119): 100%|██████████| 7/7 [00:09<00:00,  1.29s/it]\n",
      "Training (1266 / 18000 Steps) (loss=0.77034): 100%|██████████| 7/7 [00:09<00:00,  1.31s/it]\n",
      "Training (1273 / 18000 Steps) (loss=0.68572): 100%|██████████| 7/7 [00:08<00:00,  1.27s/it]\n",
      "Training (1280 / 18000 Steps) (loss=0.74580): 100%|██████████| 7/7 [00:09<00:00,  1.33s/it]\n",
      "Training (1287 / 18000 Steps) (loss=0.65741): 100%|██████████| 7/7 [00:09<00:00,  1.41s/it]\n",
      "Training (1294 / 18000 Steps) (loss=0.59781): 100%|██████████| 7/7 [00:09<00:00,  1.40s/it]\n",
      "Validate (1295 / 10 Steps): 100%|██████████| 2/2 [00:05<00:00,  2.86s/it]<00:01,  1.06it/s]\n",
      "Training (1300 / 18000 Steps) (loss=0.67325):  86%|████████▌ | 6/7 [00:15<00:02,  2.96s/it]"
     ]
    },
    {
     "name": "stdout",
     "output_type": "stream",
     "text": [
      "Model Was Saved ! Current Best Avg. Dice: 0.29139450192451477 Current Avg. Dice: 0.29139450192451477 Current Avg. tumor Dice: 0.5827890634536743 Current Avg. lymph Dice: 0.0\n"
     ]
    },
    {
     "name": "stderr",
     "output_type": "stream",
     "text": [
      "Training (1301 / 18000 Steps) (loss=0.72263): 100%|██████████| 7/7 [00:15<00:00,  2.20s/it]\n",
      "Training (1308 / 18000 Steps) (loss=0.60023): 100%|██████████| 7/7 [00:08<00:00,  1.21s/it]\n",
      "Training (1315 / 18000 Steps) (loss=0.64519): 100%|██████████| 7/7 [00:08<00:00,  1.26s/it]\n",
      "Training (1322 / 18000 Steps) (loss=0.60213): 100%|██████████| 7/7 [00:08<00:00,  1.22s/it]\n",
      "Training (1329 / 18000 Steps) (loss=0.73296): 100%|██████████| 7/7 [00:09<00:00,  1.30s/it]\n",
      "Training (1336 / 18000 Steps) (loss=0.70363): 100%|██████████| 7/7 [00:08<00:00,  1.28s/it]\n",
      "Training (1343 / 18000 Steps) (loss=0.73040): 100%|██████████| 7/7 [00:09<00:00,  1.34s/it]\n",
      "Training (1350 / 18000 Steps) (loss=0.69111): 100%|██████████| 7/7 [00:08<00:00,  1.23s/it]\n",
      "Training (1357 / 18000 Steps) (loss=0.70231): 100%|██████████| 7/7 [00:08<00:00,  1.16s/it]\n",
      "Training (1364 / 18000 Steps) (loss=0.63419): 100%|██████████| 7/7 [00:09<00:00,  1.41s/it]\n",
      "Training (1371 / 18000 Steps) (loss=0.70401): 100%|██████████| 7/7 [00:08<00:00,  1.18s/it]\n",
      "Training (1378 / 18000 Steps) (loss=0.74705): 100%|██████████| 7/7 [00:08<00:00,  1.23s/it]\n",
      "Training (1385 / 18000 Steps) (loss=0.67662): 100%|██████████| 7/7 [00:08<00:00,  1.22s/it]\n",
      "Training (1392 / 18000 Steps) (loss=0.65833): 100%|██████████| 7/7 [00:08<00:00,  1.21s/it]\n",
      "Training (1399 / 18000 Steps) (loss=0.62788): 100%|██████████| 7/7 [00:08<00:00,  1.27s/it]\n",
      "Validate (1400 / 10 Steps): 100%|██████████| 2/2 [00:06<00:00,  3.03s/it]<?, ?it/s]\n",
      "Training (1400 / 18000 Steps) (loss=0.61191):  14%|█▍        | 1/7 [00:11<01:11, 11.93s/it]"
     ]
    },
    {
     "name": "stdout",
     "output_type": "stream",
     "text": [
      "Model Was Not Saved ! Current Best Avg. Dice: 0.29139450192451477 Current Avg. Dice: 0.27035653591156006 Current Avg. tumor Dice: 0.5407130718231201 Current Avg. lymph Dice: 0.0\n"
     ]
    },
    {
     "name": "stderr",
     "output_type": "stream",
     "text": [
      "Training (1406 / 18000 Steps) (loss=0.62749): 100%|██████████| 7/7 [00:14<00:00,  2.05s/it]\n",
      "Training (1413 / 18000 Steps) (loss=0.69353): 100%|██████████| 7/7 [00:08<00:00,  1.24s/it]\n",
      "Training (1420 / 18000 Steps) (loss=0.67897): 100%|██████████| 7/7 [00:08<00:00,  1.19s/it]\n",
      "Training (1427 / 18000 Steps) (loss=0.69535): 100%|██████████| 7/7 [00:09<00:00,  1.32s/it]\n",
      "Training (1434 / 18000 Steps) (loss=0.62613): 100%|██████████| 7/7 [00:08<00:00,  1.28s/it]\n",
      "Training (1441 / 18000 Steps) (loss=0.67281): 100%|██████████| 7/7 [00:08<00:00,  1.20s/it]\n",
      "Training (1448 / 18000 Steps) (loss=0.51292): 100%|██████████| 7/7 [00:08<00:00,  1.16s/it]\n",
      "Training (1455 / 18000 Steps) (loss=0.62383): 100%|██████████| 7/7 [00:08<00:00,  1.19s/it]\n",
      "Training (1462 / 18000 Steps) (loss=0.57711): 100%|██████████| 7/7 [00:08<00:00,  1.24s/it]\n",
      "Training (1469 / 18000 Steps) (loss=0.71116): 100%|██████████| 7/7 [00:08<00:00,  1.27s/it]\n",
      "Training (1476 / 18000 Steps) (loss=0.71165): 100%|██████████| 7/7 [00:09<00:00,  1.32s/it]\n",
      "Training (1483 / 18000 Steps) (loss=0.73052): 100%|██████████| 7/7 [00:09<00:00,  1.32s/it]\n",
      "Training (1490 / 18000 Steps) (loss=0.68437): 100%|██████████| 7/7 [00:08<00:00,  1.23s/it]\n",
      "Training (1497 / 18000 Steps) (loss=0.68202): 100%|██████████| 7/7 [00:08<00:00,  1.17s/it]\n",
      "Validate (1498 / 10 Steps): 100%|██████████| 2/2 [00:05<00:00,  2.86s/it]<00:14,  2.84s/it]\n",
      "Training (1500 / 18000 Steps) (loss=0.69115):  43%|████▎     | 3/7 [00:12<00:17,  4.38s/it]"
     ]
    },
    {
     "name": "stdout",
     "output_type": "stream",
     "text": [
      "Model Was Not Saved ! Current Best Avg. Dice: 0.29139450192451477 Current Avg. Dice: 0.17001011967658997 Current Avg. tumor Dice: 0.3400202691555023 Current Avg. lymph Dice: 0.0\n"
     ]
    },
    {
     "name": "stderr",
     "output_type": "stream",
     "text": [
      "Training (1504 / 18000 Steps) (loss=0.67497): 100%|██████████| 7/7 [00:14<00:00,  2.07s/it]\n",
      "Training (1511 / 18000 Steps) (loss=0.55138): 100%|██████████| 7/7 [00:09<00:00,  1.37s/it]\n",
      "Training (1518 / 18000 Steps) (loss=0.69905): 100%|██████████| 7/7 [00:09<00:00,  1.32s/it]\n",
      "Training (1525 / 18000 Steps) (loss=0.68467): 100%|██████████| 7/7 [00:08<00:00,  1.26s/it]\n",
      "Training (1532 / 18000 Steps) (loss=0.64525): 100%|██████████| 7/7 [00:09<00:00,  1.30s/it]\n",
      "Training (1539 / 18000 Steps) (loss=0.65652): 100%|██████████| 7/7 [00:08<00:00,  1.27s/it]\n",
      "Training (1546 / 18000 Steps) (loss=0.77966): 100%|██████████| 7/7 [00:08<00:00,  1.27s/it]\n",
      "Training (1553 / 18000 Steps) (loss=0.66188): 100%|██████████| 7/7 [00:09<00:00,  1.37s/it]\n",
      "Training (1560 / 18000 Steps) (loss=0.62563): 100%|██████████| 7/7 [00:09<00:00,  1.32s/it]\n",
      "Training (1567 / 18000 Steps) (loss=0.56385): 100%|██████████| 7/7 [00:09<00:00,  1.33s/it]\n",
      "Training (1574 / 18000 Steps) (loss=0.64243): 100%|██████████| 7/7 [00:08<00:00,  1.24s/it]\n",
      "Training (1581 / 18000 Steps) (loss=0.69322): 100%|██████████| 7/7 [00:08<00:00,  1.28s/it]\n",
      "Training (1588 / 18000 Steps) (loss=0.62452): 100%|██████████| 7/7 [00:09<00:00,  1.31s/it]\n",
      "Training (1595 / 18000 Steps) (loss=0.54469): 100%|██████████| 7/7 [00:09<00:00,  1.35s/it]\n",
      "Validate (1596 / 10 Steps): 100%|██████████| 2/2 [00:06<00:00,  3.00s/it]<00:03,  1.17s/it]\n",
      "Training (1600 / 18000 Steps) (loss=0.60635):  71%|███████▏  | 5/7 [00:13<00:06,  3.10s/it]"
     ]
    },
    {
     "name": "stdout",
     "output_type": "stream",
     "text": [
      "Model Was Not Saved ! Current Best Avg. Dice: 0.29139450192451477 Current Avg. Dice: 0.27958977222442627 Current Avg. tumor Dice: 0.5591795444488525 Current Avg. lymph Dice: 0.0\n"
     ]
    },
    {
     "name": "stderr",
     "output_type": "stream",
     "text": [
      "Training (1602 / 18000 Steps) (loss=0.63177): 100%|██████████| 7/7 [00:14<00:00,  2.07s/it]\n",
      "Training (1609 / 18000 Steps) (loss=0.60776): 100%|██████████| 7/7 [00:09<00:00,  1.31s/it]\n",
      "Training (1616 / 18000 Steps) (loss=0.54088): 100%|██████████| 7/7 [00:08<00:00,  1.25s/it]\n",
      "Training (1623 / 18000 Steps) (loss=0.60168): 100%|██████████| 7/7 [00:08<00:00,  1.28s/it]\n",
      "Training (1630 / 18000 Steps) (loss=0.67632): 100%|██████████| 7/7 [00:09<00:00,  1.35s/it]\n",
      "Training (1637 / 18000 Steps) (loss=0.53653): 100%|██████████| 7/7 [00:09<00:00,  1.42s/it]\n",
      "Training (1644 / 18000 Steps) (loss=0.65580): 100%|██████████| 7/7 [00:08<00:00,  1.20s/it]\n",
      "Training (1651 / 18000 Steps) (loss=0.56307): 100%|██████████| 7/7 [00:09<00:00,  1.35s/it]\n",
      "Training (1658 / 18000 Steps) (loss=0.71308): 100%|██████████| 7/7 [00:08<00:00,  1.27s/it]\n",
      "Training (1665 / 18000 Steps) (loss=0.54806): 100%|██████████| 7/7 [00:08<00:00,  1.28s/it]\n",
      "Training (1672 / 18000 Steps) (loss=0.67735): 100%|██████████| 7/7 [00:08<00:00,  1.26s/it]\n",
      "Training (1679 / 18000 Steps) (loss=0.58927): 100%|██████████| 7/7 [00:08<00:00,  1.25s/it]\n",
      "Training (1686 / 18000 Steps) (loss=0.72514): 100%|██████████| 7/7 [00:08<00:00,  1.20s/it]\n",
      "Training (1693 / 18000 Steps) (loss=0.45916): 100%|██████████| 7/7 [00:09<00:00,  1.33s/it]\n",
      "Validate (1694 / 10 Steps): 100%|██████████| 2/2 [00:05<00:00,  2.94s/it]<00:00,  1.32it/s]\n",
      "Training (1700 / 18000 Steps) (loss=0.55227): 100%|██████████| 7/7 [00:14<00:00,  2.07s/it]\n"
     ]
    },
    {
     "name": "stdout",
     "output_type": "stream",
     "text": [
      "Model Was Not Saved ! Current Best Avg. Dice: 0.29139450192451477 Current Avg. Dice: 0.26734688878059387 Current Avg. tumor Dice: 0.5346937775611877 Current Avg. lymph Dice: 0.0\n"
     ]
    },
    {
     "name": "stderr",
     "output_type": "stream",
     "text": [
      "Training (1707 / 18000 Steps) (loss=0.62192): 100%|██████████| 7/7 [00:09<00:00,  1.29s/it]\n",
      "Training (1714 / 18000 Steps) (loss=0.54110): 100%|██████████| 7/7 [00:09<00:00,  1.35s/it]\n",
      "Training (1721 / 18000 Steps) (loss=0.69490): 100%|██████████| 7/7 [00:09<00:00,  1.42s/it]\n",
      "Training (1728 / 18000 Steps) (loss=0.63266): 100%|██████████| 7/7 [00:08<00:00,  1.27s/it]\n",
      "Training (1735 / 18000 Steps) (loss=0.58699): 100%|██████████| 7/7 [00:08<00:00,  1.16s/it]\n",
      "Training (1742 / 18000 Steps) (loss=0.51908): 100%|██████████| 7/7 [00:08<00:00,  1.25s/it]\n",
      "Training (1749 / 18000 Steps) (loss=0.66955): 100%|██████████| 7/7 [00:09<00:00,  1.34s/it]\n",
      "Training (1756 / 18000 Steps) (loss=0.70516): 100%|██████████| 7/7 [00:09<00:00,  1.29s/it]\n",
      "Training (1763 / 18000 Steps) (loss=0.67847): 100%|██████████| 7/7 [00:09<00:00,  1.37s/it]\n",
      "Training (1770 / 18000 Steps) (loss=0.60148): 100%|██████████| 7/7 [00:08<00:00,  1.25s/it]\n",
      "Training (1777 / 18000 Steps) (loss=0.57746): 100%|██████████| 7/7 [00:08<00:00,  1.20s/it]\n",
      "Training (1784 / 18000 Steps) (loss=0.67375): 100%|██████████| 7/7 [00:09<00:00,  1.36s/it]\n",
      "Training (1791 / 18000 Steps) (loss=0.59574): 100%|██████████| 7/7 [00:09<00:00,  1.37s/it]\n",
      "Training (1798 / 18000 Steps) (loss=0.60262): 100%|██████████| 7/7 [00:09<00:00,  1.30s/it]\n",
      "Validate (1799 / 10 Steps): 100%|██████████| 2/2 [00:06<00:00,  3.00s/it]<00:40,  6.68s/it]\n",
      "Training (1800 / 18000 Steps) (loss=0.59627):  29%|██▊       | 2/7 [00:13<00:32,  6.59s/it]"
     ]
    },
    {
     "name": "stdout",
     "output_type": "stream",
     "text": [
      "Model Was Not Saved ! Current Best Avg. Dice: 0.29139450192451477 Current Avg. Dice: 0.24425892531871796 Current Avg. tumor Dice: 0.41944772005081177 Current Avg. lymph Dice: 0.06907012313604355\n"
     ]
    },
    {
     "name": "stderr",
     "output_type": "stream",
     "text": [
      "Training (1805 / 18000 Steps) (loss=0.56571): 100%|██████████| 7/7 [00:15<00:00,  2.17s/it]\n",
      "Training (1812 / 18000 Steps) (loss=0.61498): 100%|██████████| 7/7 [00:09<00:00,  1.40s/it]\n",
      "Training (1819 / 18000 Steps) (loss=0.62001): 100%|██████████| 7/7 [00:09<00:00,  1.34s/it]\n",
      "Training (1826 / 18000 Steps) (loss=0.71420): 100%|██████████| 7/7 [00:07<00:00,  1.11s/it]\n",
      "Training (1833 / 18000 Steps) (loss=0.65236): 100%|██████████| 7/7 [00:08<00:00,  1.16s/it]\n",
      "Training (1840 / 18000 Steps) (loss=0.53443): 100%|██████████| 7/7 [00:08<00:00,  1.25s/it]\n",
      "Training (1847 / 18000 Steps) (loss=0.50522): 100%|██████████| 7/7 [00:08<00:00,  1.23s/it]\n",
      "Training (1854 / 18000 Steps) (loss=0.51173): 100%|██████████| 7/7 [00:09<00:00,  1.33s/it]\n",
      "Training (1861 / 18000 Steps) (loss=0.61849): 100%|██████████| 7/7 [00:09<00:00,  1.30s/it]\n",
      "Training (1868 / 18000 Steps) (loss=0.73791): 100%|██████████| 7/7 [00:09<00:00,  1.34s/it]\n",
      "Training (1875 / 18000 Steps) (loss=0.60182): 100%|██████████| 7/7 [00:08<00:00,  1.22s/it]\n",
      "Training (1882 / 18000 Steps) (loss=0.58207): 100%|██████████| 7/7 [00:08<00:00,  1.24s/it]\n",
      "Training (1889 / 18000 Steps) (loss=0.56871): 100%|██████████| 7/7 [00:09<00:00,  1.39s/it]\n",
      "Training (1896 / 18000 Steps) (loss=0.49310): 100%|██████████| 7/7 [00:08<00:00,  1.27s/it]\n",
      "Validate (1897 / 10 Steps): 100%|██████████| 2/2 [00:06<00:00,  3.01s/it]<00:06,  1.61s/it]\n",
      "Training (1900 / 18000 Steps) (loss=0.57547):  57%|█████▋    | 4/7 [00:13<00:11,  3.86s/it]"
     ]
    },
    {
     "name": "stdout",
     "output_type": "stream",
     "text": [
      "Model Was Saved ! Current Best Avg. Dice: 0.4932553172111511 Current Avg. Dice: 0.4932553172111511 Current Avg. tumor Dice: 0.5650061964988708 Current Avg. lymph Dice: 0.42150449752807617\n"
     ]
    },
    {
     "name": "stderr",
     "output_type": "stream",
     "text": [
      "Training (1903 / 18000 Steps) (loss=0.49700): 100%|██████████| 7/7 [00:15<00:00,  2.15s/it]\n",
      "Training (1910 / 18000 Steps) (loss=0.60337): 100%|██████████| 7/7 [00:10<00:00,  1.46s/it]\n",
      "Training (1917 / 18000 Steps) (loss=0.67320): 100%|██████████| 7/7 [00:08<00:00,  1.24s/it]\n",
      "Training (1924 / 18000 Steps) (loss=0.55701): 100%|██████████| 7/7 [00:09<00:00,  1.41s/it]\n",
      "Training (1931 / 18000 Steps) (loss=0.52700): 100%|██████████| 7/7 [00:08<00:00,  1.24s/it]\n",
      "Training (1938 / 18000 Steps) (loss=0.51036): 100%|██████████| 7/7 [00:09<00:00,  1.32s/it]\n",
      "Training (1945 / 18000 Steps) (loss=0.69230): 100%|██████████| 7/7 [00:09<00:00,  1.36s/it]\n",
      "Training (1952 / 18000 Steps) (loss=0.63354): 100%|██████████| 7/7 [00:09<00:00,  1.31s/it]\n",
      "Training (1959 / 18000 Steps) (loss=0.62042): 100%|██████████| 7/7 [00:08<00:00,  1.20s/it]\n",
      "Training (1966 / 18000 Steps) (loss=0.53043): 100%|██████████| 7/7 [00:09<00:00,  1.36s/it]\n",
      "Training (1973 / 18000 Steps) (loss=0.52425): 100%|██████████| 7/7 [00:09<00:00,  1.34s/it]\n",
      "Training (1980 / 18000 Steps) (loss=0.63202): 100%|██████████| 7/7 [00:09<00:00,  1.40s/it]\n",
      "Training (1987 / 18000 Steps) (loss=0.54067): 100%|██████████| 7/7 [00:08<00:00,  1.28s/it]\n",
      "Training (1994 / 18000 Steps) (loss=0.56858): 100%|██████████| 7/7 [00:08<00:00,  1.23s/it]\n",
      "Validate (1995 / 10 Steps): 100%|██████████| 2/2 [00:06<00:00,  3.03s/it]<00:01,  1.00it/s]\n",
      "Training (2000 / 18000 Steps) (loss=0.58253):  86%|████████▌ | 6/7 [00:14<00:02,  2.89s/it]"
     ]
    },
    {
     "name": "stdout",
     "output_type": "stream",
     "text": [
      "Model Was Not Saved ! Current Best Avg. Dice: 0.4932553172111511 Current Avg. Dice: 0.357378751039505 Current Avg. tumor Dice: 0.36768507957458496 Current Avg. lymph Dice: 0.34707242250442505\n"
     ]
    },
    {
     "name": "stderr",
     "output_type": "stream",
     "text": [
      "Training (2001 / 18000 Steps) (loss=0.43088): 100%|██████████| 7/7 [00:15<00:00,  2.17s/it]\n",
      "Training (2008 / 18000 Steps) (loss=0.55078): 100%|██████████| 7/7 [00:08<00:00,  1.21s/it]\n",
      "Training (2015 / 18000 Steps) (loss=0.57258): 100%|██████████| 7/7 [00:09<00:00,  1.40s/it]\n",
      "Training (2022 / 18000 Steps) (loss=0.55801): 100%|██████████| 7/7 [00:09<00:00,  1.32s/it]\n",
      "Training (2029 / 18000 Steps) (loss=0.44335): 100%|██████████| 7/7 [00:08<00:00,  1.26s/it]\n",
      "Training (2036 / 18000 Steps) (loss=0.66191): 100%|██████████| 7/7 [00:09<00:00,  1.32s/it]\n",
      "Training (2043 / 18000 Steps) (loss=0.55754): 100%|██████████| 7/7 [00:08<00:00,  1.18s/it]\n",
      "Training (2050 / 18000 Steps) (loss=0.46040): 100%|██████████| 7/7 [00:08<00:00,  1.15s/it]\n",
      "Training (2057 / 18000 Steps) (loss=0.62442): 100%|██████████| 7/7 [00:09<00:00,  1.38s/it]\n",
      "Training (2064 / 18000 Steps) (loss=0.50245): 100%|██████████| 7/7 [00:08<00:00,  1.28s/it]\n",
      "Training (2071 / 18000 Steps) (loss=0.49972): 100%|██████████| 7/7 [00:08<00:00,  1.24s/it]\n",
      "Training (2078 / 18000 Steps) (loss=0.56968): 100%|██████████| 7/7 [00:09<00:00,  1.38s/it]\n",
      "Training (2085 / 18000 Steps) (loss=0.67942): 100%|██████████| 7/7 [00:08<00:00,  1.22s/it]\n",
      "Training (2092 / 18000 Steps) (loss=0.49087): 100%|██████████| 7/7 [00:08<00:00,  1.17s/it]\n",
      "Training (2099 / 18000 Steps) (loss=0.57436): 100%|██████████| 7/7 [00:08<00:00,  1.25s/it]\n",
      "Validate (2100 / 10 Steps): 100%|██████████| 2/2 [00:06<00:00,  3.02s/it]<?, ?it/s]\n",
      "Training (2100 / 18000 Steps) (loss=0.45823):  14%|█▍        | 1/7 [00:13<01:21, 13.54s/it]"
     ]
    },
    {
     "name": "stdout",
     "output_type": "stream",
     "text": [
      "Model Was Not Saved ! Current Best Avg. Dice: 0.4932553172111511 Current Avg. Dice: 0.4059041738510132 Current Avg. tumor Dice: 0.4766838550567627 Current Avg. lymph Dice: 0.33512449264526367\n"
     ]
    },
    {
     "name": "stderr",
     "output_type": "stream",
     "text": [
      "Training (2106 / 18000 Steps) (loss=0.47008): 100%|██████████| 7/7 [00:15<00:00,  2.28s/it]\n",
      "Training (2113 / 18000 Steps) (loss=0.54537): 100%|██████████| 7/7 [00:08<00:00,  1.27s/it]\n",
      "Training (2120 / 18000 Steps) (loss=0.62864): 100%|██████████| 7/7 [00:09<00:00,  1.35s/it]\n",
      "Training (2127 / 18000 Steps) (loss=0.57208): 100%|██████████| 7/7 [00:09<00:00,  1.37s/it]\n",
      "Training (2134 / 18000 Steps) (loss=0.46323): 100%|██████████| 7/7 [00:09<00:00,  1.33s/it]\n",
      "Training (2141 / 18000 Steps) (loss=0.49729): 100%|██████████| 7/7 [00:09<00:00,  1.32s/it]\n",
      "Training (2148 / 18000 Steps) (loss=0.57278): 100%|██████████| 7/7 [00:08<00:00,  1.18s/it]\n",
      "Training (2155 / 18000 Steps) (loss=0.63665): 100%|██████████| 7/7 [00:08<00:00,  1.25s/it]\n",
      "Training (2162 / 18000 Steps) (loss=0.60469): 100%|██████████| 7/7 [00:08<00:00,  1.27s/it]\n",
      "Training (2169 / 18000 Steps) (loss=0.42356): 100%|██████████| 7/7 [00:09<00:00,  1.34s/it]\n",
      "Training (2176 / 18000 Steps) (loss=0.46627): 100%|██████████| 7/7 [00:09<00:00,  1.34s/it]\n",
      "Training (2183 / 18000 Steps) (loss=0.62441): 100%|██████████| 7/7 [00:08<00:00,  1.21s/it]\n",
      "Training (2190 / 18000 Steps) (loss=0.47367): 100%|██████████| 7/7 [00:09<00:00,  1.32s/it]\n",
      "Training (2197 / 18000 Steps) (loss=0.45545): 100%|██████████| 7/7 [00:09<00:00,  1.34s/it]\n",
      "Validate (2198 / 10 Steps): 100%|██████████| 2/2 [00:06<00:00,  3.08s/it]<00:17,  3.58s/it]\n",
      "Training (2200 / 18000 Steps) (loss=0.54152):  43%|████▎     | 3/7 [00:14<00:19,  4.99s/it]"
     ]
    },
    {
     "name": "stdout",
     "output_type": "stream",
     "text": [
      "Model Was Not Saved ! Current Best Avg. Dice: 0.4932553172111511 Current Avg. Dice: 0.4746101498603821 Current Avg. tumor Dice: 0.5201155543327332 Current Avg. lymph Dice: 0.429104745388031\n"
     ]
    },
    {
     "name": "stderr",
     "output_type": "stream",
     "text": [
      "Training (2204 / 18000 Steps) (loss=0.56734): 100%|██████████| 7/7 [00:16<00:00,  2.29s/it]\n",
      "Training (2211 / 18000 Steps) (loss=0.54984): 100%|██████████| 7/7 [00:08<00:00,  1.24s/it]\n",
      "Training (2218 / 18000 Steps) (loss=0.51226): 100%|██████████| 7/7 [00:09<00:00,  1.37s/it]\n",
      "Training (2225 / 18000 Steps) (loss=0.56551): 100%|██████████| 7/7 [00:08<00:00,  1.21s/it]\n",
      "Training (2232 / 18000 Steps) (loss=0.56136): 100%|██████████| 7/7 [00:08<00:00,  1.24s/it]\n",
      "Training (2239 / 18000 Steps) (loss=0.55584): 100%|██████████| 7/7 [00:09<00:00,  1.32s/it]\n",
      "Training (2246 / 18000 Steps) (loss=0.29707): 100%|██████████| 7/7 [00:08<00:00,  1.28s/it]\n",
      "Training (2253 / 18000 Steps) (loss=0.47546): 100%|██████████| 7/7 [00:08<00:00,  1.21s/it]\n",
      "Training (2260 / 18000 Steps) (loss=0.34965): 100%|██████████| 7/7 [00:09<00:00,  1.40s/it]\n",
      "Training (2267 / 18000 Steps) (loss=0.57453): 100%|██████████| 7/7 [00:09<00:00,  1.31s/it]\n",
      "Training (2274 / 18000 Steps) (loss=0.45332): 100%|██████████| 7/7 [00:08<00:00,  1.22s/it]\n",
      "Training (2281 / 18000 Steps) (loss=0.47095): 100%|██████████| 7/7 [00:08<00:00,  1.23s/it]\n",
      "Training (2288 / 18000 Steps) (loss=0.41266): 100%|██████████| 7/7 [00:08<00:00,  1.27s/it]\n",
      "Training (2295 / 18000 Steps) (loss=0.63928): 100%|██████████| 7/7 [00:08<00:00,  1.18s/it]\n",
      "Validate (2296 / 10 Steps): 100%|██████████| 2/2 [00:05<00:00,  2.85s/it]<00:03,  1.24s/it]\n",
      "Training (2300 / 18000 Steps) (loss=0.56432):  71%|███████▏  | 5/7 [00:14<00:06,  3.28s/it]"
     ]
    },
    {
     "name": "stdout",
     "output_type": "stream",
     "text": [
      "Model Was Saved ! Current Best Avg. Dice: 0.5408245325088501 Current Avg. Dice: 0.5408245325088501 Current Avg. tumor Dice: 0.5571908354759216 Current Avg. lymph Dice: 0.524458110332489\n"
     ]
    },
    {
     "name": "stderr",
     "output_type": "stream",
     "text": [
      "Training (2302 / 18000 Steps) (loss=0.61408): 100%|██████████| 7/7 [00:15<00:00,  2.20s/it]\n",
      "Training (2309 / 18000 Steps) (loss=0.35660): 100%|██████████| 7/7 [00:08<00:00,  1.19s/it]\n",
      "Training (2316 / 18000 Steps) (loss=0.44334): 100%|██████████| 7/7 [00:08<00:00,  1.22s/it]\n",
      "Training (2323 / 18000 Steps) (loss=0.53160): 100%|██████████| 7/7 [00:08<00:00,  1.24s/it]\n",
      "Training (2330 / 18000 Steps) (loss=0.46961): 100%|██████████| 7/7 [00:08<00:00,  1.28s/it]\n",
      "Training (2337 / 18000 Steps) (loss=0.61063): 100%|██████████| 7/7 [00:08<00:00,  1.23s/it]\n",
      "Training (2344 / 18000 Steps) (loss=0.52155): 100%|██████████| 7/7 [00:09<00:00,  1.29s/it]\n",
      "Training (2351 / 18000 Steps) (loss=0.49011): 100%|██████████| 7/7 [00:08<00:00,  1.26s/it]\n",
      "Training (2358 / 18000 Steps) (loss=0.46190): 100%|██████████| 7/7 [00:08<00:00,  1.22s/it]\n",
      "Training (2365 / 18000 Steps) (loss=0.57578): 100%|██████████| 7/7 [00:08<00:00,  1.21s/it]\n",
      "Training (2372 / 18000 Steps) (loss=0.48852): 100%|██████████| 7/7 [00:08<00:00,  1.22s/it]\n",
      "Training (2379 / 18000 Steps) (loss=0.47221): 100%|██████████| 7/7 [00:08<00:00,  1.23s/it]\n",
      "Training (2386 / 18000 Steps) (loss=0.40561): 100%|██████████| 7/7 [00:09<00:00,  1.30s/it]\n",
      "Training (2393 / 18000 Steps) (loss=0.57386): 100%|██████████| 7/7 [00:08<00:00,  1.17s/it]\n",
      "Validate (2394 / 10 Steps): 100%|██████████| 2/2 [00:05<00:00,  2.91s/it]<00:00,  1.33it/s]\n",
      "Training (2400 / 18000 Steps) (loss=0.42110): 100%|██████████| 7/7 [00:14<00:00,  2.09s/it]\n"
     ]
    },
    {
     "name": "stdout",
     "output_type": "stream",
     "text": [
      "Model Was Not Saved ! Current Best Avg. Dice: 0.5408245325088501 Current Avg. Dice: 0.4813845455646515 Current Avg. tumor Dice: 0.5117557048797607 Current Avg. lymph Dice: 0.45101338624954224\n"
     ]
    },
    {
     "name": "stderr",
     "output_type": "stream",
     "text": [
      "Training (2407 / 18000 Steps) (loss=0.59457): 100%|██████████| 7/7 [00:08<00:00,  1.21s/it]\n",
      "Training (2414 / 18000 Steps) (loss=0.54563): 100%|██████████| 7/7 [00:09<00:00,  1.32s/it]\n",
      "Training (2421 / 18000 Steps) (loss=0.53159): 100%|██████████| 7/7 [00:09<00:00,  1.42s/it]\n",
      "Training (2428 / 18000 Steps) (loss=0.55581): 100%|██████████| 7/7 [00:09<00:00,  1.36s/it]\n",
      "Training (2435 / 18000 Steps) (loss=0.47491): 100%|██████████| 7/7 [00:09<00:00,  1.35s/it]\n",
      "Training (2442 / 18000 Steps) (loss=0.60225): 100%|██████████| 7/7 [00:09<00:00,  1.31s/it]\n",
      "Training (2449 / 18000 Steps) (loss=0.53449): 100%|██████████| 7/7 [00:08<00:00,  1.24s/it]\n",
      "Training (2456 / 18000 Steps) (loss=0.43812): 100%|██████████| 7/7 [00:09<00:00,  1.32s/it]\n",
      "Training (2463 / 18000 Steps) (loss=0.58633): 100%|██████████| 7/7 [00:08<00:00,  1.20s/it]\n",
      "Training (2470 / 18000 Steps) (loss=0.56375): 100%|██████████| 7/7 [00:08<00:00,  1.24s/it]\n",
      "Training (2477 / 18000 Steps) (loss=0.45288): 100%|██████████| 7/7 [00:07<00:00,  1.11s/it]\n",
      "Training (2484 / 18000 Steps) (loss=0.46244): 100%|██████████| 7/7 [00:08<00:00,  1.21s/it]\n",
      "Training (2491 / 18000 Steps) (loss=0.48808): 100%|██████████| 7/7 [00:08<00:00,  1.28s/it]\n",
      "Training (2498 / 18000 Steps) (loss=0.51034): 100%|██████████| 7/7 [00:08<00:00,  1.18s/it]\n",
      "Validate (2499 / 10 Steps): 100%|██████████| 2/2 [00:06<00:00,  3.00s/it]<00:36,  6.08s/it]\n",
      "Training (2500 / 18000 Steps) (loss=0.43875):  29%|██▊       | 2/7 [00:12<00:31,  6.34s/it]"
     ]
    },
    {
     "name": "stdout",
     "output_type": "stream",
     "text": [
      "Model Was Not Saved ! Current Best Avg. Dice: 0.5408245325088501 Current Avg. Dice: 0.4981361925601959 Current Avg. tumor Dice: 0.5126611590385437 Current Avg. lymph Dice: 0.48361122608184814\n"
     ]
    },
    {
     "name": "stderr",
     "output_type": "stream",
     "text": [
      "Training (2505 / 18000 Steps) (loss=0.46584): 100%|██████████| 7/7 [00:14<00:00,  2.09s/it]\n",
      "Training (2512 / 18000 Steps) (loss=0.47564): 100%|██████████| 7/7 [00:08<00:00,  1.27s/it]\n",
      "Training (2519 / 18000 Steps) (loss=0.62752): 100%|██████████| 7/7 [00:08<00:00,  1.20s/it]\n",
      "Training (2526 / 18000 Steps) (loss=0.39811): 100%|██████████| 7/7 [00:09<00:00,  1.29s/it]\n",
      "Training (2533 / 18000 Steps) (loss=0.49191): 100%|██████████| 7/7 [00:08<00:00,  1.25s/it]\n",
      "Training (2540 / 18000 Steps) (loss=0.49488): 100%|██████████| 7/7 [00:08<00:00,  1.29s/it]\n",
      "Training (2547 / 18000 Steps) (loss=0.60998): 100%|██████████| 7/7 [00:08<00:00,  1.24s/it]\n",
      "Training (2554 / 18000 Steps) (loss=0.34208): 100%|██████████| 7/7 [00:08<00:00,  1.23s/it]\n",
      "Training (2561 / 18000 Steps) (loss=0.39967): 100%|██████████| 7/7 [00:08<00:00,  1.27s/it]\n",
      "Training (2568 / 18000 Steps) (loss=0.48885): 100%|██████████| 7/7 [00:08<00:00,  1.19s/it]\n",
      "Training (2575 / 18000 Steps) (loss=0.60277): 100%|██████████| 7/7 [00:09<00:00,  1.31s/it]\n",
      "Training (2582 / 18000 Steps) (loss=0.51777): 100%|██████████| 7/7 [00:09<00:00,  1.33s/it]\n",
      "Training (2589 / 18000 Steps) (loss=0.60149): 100%|██████████| 7/7 [00:08<00:00,  1.24s/it]\n",
      "Training (2596 / 18000 Steps) (loss=0.56378): 100%|██████████| 7/7 [00:09<00:00,  1.39s/it]\n",
      "Validate (2597 / 10 Steps): 100%|██████████| 2/2 [00:05<00:00,  2.96s/it]<00:07,  1.84s/it]\n",
      "Training (2600 / 18000 Steps) (loss=0.46122):  57%|█████▋    | 4/7 [00:13<00:10,  3.65s/it]"
     ]
    },
    {
     "name": "stdout",
     "output_type": "stream",
     "text": [
      "Model Was Not Saved ! Current Best Avg. Dice: 0.5408245325088501 Current Avg. Dice: 0.5017410516738892 Current Avg. tumor Dice: 0.530579149723053 Current Avg. lymph Dice: 0.4729030132293701\n"
     ]
    },
    {
     "name": "stderr",
     "output_type": "stream",
     "text": [
      "Training (2603 / 18000 Steps) (loss=0.51911): 100%|██████████| 7/7 [00:14<00:00,  2.07s/it]\n",
      "Training (2610 / 18000 Steps) (loss=0.54387): 100%|██████████| 7/7 [00:08<00:00,  1.21s/it]\n",
      "Training (2617 / 18000 Steps) (loss=0.23689): 100%|██████████| 7/7 [00:09<00:00,  1.30s/it]\n",
      "Training (2624 / 18000 Steps) (loss=0.62555): 100%|██████████| 7/7 [00:08<00:00,  1.24s/it]\n",
      "Training (2631 / 18000 Steps) (loss=0.42598): 100%|██████████| 7/7 [00:08<00:00,  1.25s/it]\n",
      "Training (2638 / 18000 Steps) (loss=0.52555): 100%|██████████| 7/7 [00:08<00:00,  1.27s/it]\n",
      "Training (2645 / 18000 Steps) (loss=0.49583): 100%|██████████| 7/7 [00:08<00:00,  1.23s/it]\n",
      "Training (2652 / 18000 Steps) (loss=0.51058): 100%|██████████| 7/7 [00:09<00:00,  1.31s/it]\n",
      "Training (2659 / 18000 Steps) (loss=0.43891): 100%|██████████| 7/7 [00:09<00:00,  1.35s/it]\n",
      "Training (2666 / 18000 Steps) (loss=0.49828): 100%|██████████| 7/7 [00:09<00:00,  1.29s/it]\n",
      "Training (2673 / 18000 Steps) (loss=0.51220): 100%|██████████| 7/7 [00:08<00:00,  1.26s/it]\n",
      "Training (2680 / 18000 Steps) (loss=0.55155): 100%|██████████| 7/7 [00:08<00:00,  1.27s/it]\n",
      "Training (2687 / 18000 Steps) (loss=0.44595): 100%|██████████| 7/7 [00:08<00:00,  1.21s/it]\n",
      "Training (2694 / 18000 Steps) (loss=0.40618): 100%|██████████| 7/7 [00:08<00:00,  1.17s/it]\n",
      "Validate (2695 / 10 Steps): 100%|██████████| 2/2 [00:05<00:00,  2.96s/it]<00:01,  1.08it/s]\n",
      "Training (2700 / 18000 Steps) (loss=0.52298):  86%|████████▌ | 6/7 [00:14<00:02,  2.80s/it]"
     ]
    },
    {
     "name": "stdout",
     "output_type": "stream",
     "text": [
      "Model Was Not Saved ! Current Best Avg. Dice: 0.5408245325088501 Current Avg. Dice: 0.5217645168304443 Current Avg. tumor Dice: 0.5416306257247925 Current Avg. lymph Dice: 0.5018984079360962\n"
     ]
    },
    {
     "name": "stderr",
     "output_type": "stream",
     "text": [
      "Training (2701 / 18000 Steps) (loss=0.55095): 100%|██████████| 7/7 [00:14<00:00,  2.10s/it]\n",
      "Training (2708 / 18000 Steps) (loss=0.44961): 100%|██████████| 7/7 [00:09<00:00,  1.34s/it]\n",
      "Training (2715 / 18000 Steps) (loss=0.30958): 100%|██████████| 7/7 [00:08<00:00,  1.26s/it]\n",
      "Training (2722 / 18000 Steps) (loss=0.28371): 100%|██████████| 7/7 [00:08<00:00,  1.23s/it]\n",
      "Training (2729 / 18000 Steps) (loss=0.57629): 100%|██████████| 7/7 [00:08<00:00,  1.24s/it]\n",
      "Training (2736 / 18000 Steps) (loss=0.43620): 100%|██████████| 7/7 [00:09<00:00,  1.34s/it]\n",
      "Training (2743 / 18000 Steps) (loss=0.38017): 100%|██████████| 7/7 [00:08<00:00,  1.24s/it]\n",
      "Training (2750 / 18000 Steps) (loss=0.57110): 100%|██████████| 7/7 [00:08<00:00,  1.23s/it]\n",
      "Training (2757 / 18000 Steps) (loss=0.39949): 100%|██████████| 7/7 [00:09<00:00,  1.40s/it]\n",
      "Training (2764 / 18000 Steps) (loss=0.56302): 100%|██████████| 7/7 [00:08<00:00,  1.21s/it]\n",
      "Training (2771 / 18000 Steps) (loss=0.49894): 100%|██████████| 7/7 [00:09<00:00,  1.38s/it]\n",
      "Training (2778 / 18000 Steps) (loss=0.47486): 100%|██████████| 7/7 [00:08<00:00,  1.23s/it]\n",
      "Training (2785 / 18000 Steps) (loss=0.43476): 100%|██████████| 7/7 [00:08<00:00,  1.23s/it]\n",
      "Training (2792 / 18000 Steps) (loss=0.42497): 100%|██████████| 7/7 [00:09<00:00,  1.32s/it]\n",
      "Training (2799 / 18000 Steps) (loss=0.51150): 100%|██████████| 7/7 [00:08<00:00,  1.17s/it]\n",
      "Validate (2800 / 10 Steps): 100%|██████████| 2/2 [00:06<00:00,  3.04s/it]<?, ?it/s]\n",
      "Training (2800 / 18000 Steps) (loss=0.45239):  14%|█▍        | 1/7 [00:12<01:16, 12.78s/it]"
     ]
    },
    {
     "name": "stdout",
     "output_type": "stream",
     "text": [
      "Model Was Saved ! Current Best Avg. Dice: 0.5467983484268188 Current Avg. Dice: 0.5467983484268188 Current Avg. tumor Dice: 0.5655658841133118 Current Avg. lymph Dice: 0.5280308723449707\n"
     ]
    },
    {
     "name": "stderr",
     "output_type": "stream",
     "text": [
      "Training (2806 / 18000 Steps) (loss=0.30037): 100%|██████████| 7/7 [00:15<00:00,  2.18s/it]\n",
      "Training (2813 / 18000 Steps) (loss=0.51036): 100%|██████████| 7/7 [00:09<00:00,  1.29s/it]\n",
      "Training (2820 / 18000 Steps) (loss=0.49310): 100%|██████████| 7/7 [00:08<00:00,  1.21s/it]\n",
      "Training (2827 / 18000 Steps) (loss=0.35037): 100%|██████████| 7/7 [00:09<00:00,  1.32s/it]\n",
      "Training (2834 / 18000 Steps) (loss=0.59222): 100%|██████████| 7/7 [00:08<00:00,  1.24s/it]\n",
      "Training (2841 / 18000 Steps) (loss=0.40339): 100%|██████████| 7/7 [00:08<00:00,  1.28s/it]\n",
      "Training (2848 / 18000 Steps) (loss=0.49381): 100%|██████████| 7/7 [00:08<00:00,  1.24s/it]\n",
      "Training (2855 / 18000 Steps) (loss=0.48321): 100%|██████████| 7/7 [00:09<00:00,  1.37s/it]\n",
      "Training (2862 / 18000 Steps) (loss=0.54904): 100%|██████████| 7/7 [00:08<00:00,  1.21s/it]\n",
      "Training (2869 / 18000 Steps) (loss=0.53221): 100%|██████████| 7/7 [00:09<00:00,  1.31s/it]\n",
      "Training (2876 / 18000 Steps) (loss=0.59750): 100%|██████████| 7/7 [00:09<00:00,  1.31s/it]\n",
      "Training (2883 / 18000 Steps) (loss=0.35940): 100%|██████████| 7/7 [00:08<00:00,  1.20s/it]\n",
      "Training (2890 / 18000 Steps) (loss=0.35915): 100%|██████████| 7/7 [00:08<00:00,  1.23s/it]\n",
      "Training (2897 / 18000 Steps) (loss=0.39413): 100%|██████████| 7/7 [00:08<00:00,  1.28s/it]\n",
      "Validate (2898 / 10 Steps): 100%|██████████| 2/2 [00:05<00:00,  2.99s/it]<00:14,  2.95s/it]\n",
      "Training (2900 / 18000 Steps) (loss=0.48860):  43%|████▎     | 3/7 [00:13<00:18,  4.58s/it]"
     ]
    },
    {
     "name": "stdout",
     "output_type": "stream",
     "text": [
      "Model Was Not Saved ! Current Best Avg. Dice: 0.5467983484268188 Current Avg. Dice: 0.526826024055481 Current Avg. tumor Dice: 0.5767921805381775 Current Avg. lymph Dice: 0.4768598675727844\n"
     ]
    },
    {
     "name": "stderr",
     "output_type": "stream",
     "text": [
      "Training (2904 / 18000 Steps) (loss=0.51146): 100%|██████████| 7/7 [00:15<00:00,  2.16s/it]\n",
      "Training (2911 / 18000 Steps) (loss=0.61606): 100%|██████████| 7/7 [00:09<00:00,  1.31s/it]\n",
      "Training (2918 / 18000 Steps) (loss=0.44047): 100%|██████████| 7/7 [00:09<00:00,  1.36s/it]\n",
      "Training (2925 / 18000 Steps) (loss=0.35465): 100%|██████████| 7/7 [00:08<00:00,  1.27s/it]\n",
      "Training (2932 / 18000 Steps) (loss=0.51389): 100%|██████████| 7/7 [00:09<00:00,  1.38s/it]\n",
      "Training (2939 / 18000 Steps) (loss=0.53512): 100%|██████████| 7/7 [00:09<00:00,  1.31s/it]\n",
      "Training (2946 / 18000 Steps) (loss=0.49818): 100%|██████████| 7/7 [00:09<00:00,  1.34s/it]\n",
      "Training (2953 / 18000 Steps) (loss=0.47133): 100%|██████████| 7/7 [00:08<00:00,  1.26s/it]\n",
      "Training (2960 / 18000 Steps) (loss=0.58556): 100%|██████████| 7/7 [00:08<00:00,  1.22s/it]\n",
      "Training (2967 / 18000 Steps) (loss=0.34208): 100%|██████████| 7/7 [00:08<00:00,  1.27s/it]\n",
      "Training (2974 / 18000 Steps) (loss=0.43519): 100%|██████████| 7/7 [00:09<00:00,  1.40s/it]\n",
      "Training (2981 / 18000 Steps) (loss=0.34453): 100%|██████████| 7/7 [00:08<00:00,  1.21s/it]\n",
      "Training (2988 / 18000 Steps) (loss=0.44147): 100%|██████████| 7/7 [00:08<00:00,  1.27s/it]\n",
      "Training (2995 / 18000 Steps) (loss=0.40292): 100%|██████████| 7/7 [00:08<00:00,  1.28s/it]\n",
      "Validate (2996 / 10 Steps): 100%|██████████| 2/2 [00:05<00:00,  2.89s/it]<00:03,  1.18s/it]\n",
      "Training (3000 / 18000 Steps) (loss=0.43271):  71%|███████▏  | 5/7 [00:13<00:06,  3.02s/it]"
     ]
    },
    {
     "name": "stdout",
     "output_type": "stream",
     "text": [
      "Model Was Not Saved ! Current Best Avg. Dice: 0.5467983484268188 Current Avg. Dice: 0.5172760486602783 Current Avg. tumor Dice: 0.5489910840988159 Current Avg. lymph Dice: 0.48556095361709595\n"
     ]
    },
    {
     "name": "stderr",
     "output_type": "stream",
     "text": [
      "Training (3002 / 18000 Steps) (loss=0.45950): 100%|██████████| 7/7 [00:14<00:00,  2.05s/it]\n",
      "Training (3009 / 18000 Steps) (loss=0.60028): 100%|██████████| 7/7 [00:09<00:00,  1.31s/it]\n",
      "Training (3016 / 18000 Steps) (loss=0.44591): 100%|██████████| 7/7 [00:08<00:00,  1.23s/it]\n",
      "Training (3023 / 18000 Steps) (loss=0.40422): 100%|██████████| 7/7 [00:08<00:00,  1.15s/it]\n",
      "Training (3030 / 18000 Steps) (loss=0.38651): 100%|██████████| 7/7 [00:08<00:00,  1.15s/it]\n",
      "Training (3037 / 18000 Steps) (loss=0.59095): 100%|██████████| 7/7 [00:08<00:00,  1.21s/it]\n",
      "Training (3044 / 18000 Steps) (loss=0.40901): 100%|██████████| 7/7 [00:08<00:00,  1.22s/it]\n",
      "Training (3051 / 18000 Steps) (loss=0.60047): 100%|██████████| 7/7 [00:08<00:00,  1.16s/it]\n",
      "Training (3058 / 18000 Steps) (loss=0.49510): 100%|██████████| 7/7 [00:08<00:00,  1.17s/it]\n",
      "Training (3065 / 18000 Steps) (loss=0.58012): 100%|██████████| 7/7 [00:08<00:00,  1.18s/it]\n",
      "Training (3072 / 18000 Steps) (loss=0.34583): 100%|██████████| 7/7 [00:08<00:00,  1.22s/it]\n",
      "Training (3079 / 18000 Steps) (loss=0.63392): 100%|██████████| 7/7 [00:09<00:00,  1.30s/it]\n",
      "Training (3086 / 18000 Steps) (loss=0.26331): 100%|██████████| 7/7 [00:08<00:00,  1.15s/it]\n",
      "Training (3093 / 18000 Steps) (loss=0.46425): 100%|██████████| 7/7 [00:08<00:00,  1.15s/it]\n",
      "Validate (3094 / 10 Steps): 100%|██████████| 2/2 [00:05<00:00,  2.84s/it]<00:00,  1.35it/s]\n",
      "Training (3100 / 18000 Steps) (loss=0.43360): 100%|██████████| 7/7 [00:13<00:00,  1.99s/it]\n"
     ]
    },
    {
     "name": "stdout",
     "output_type": "stream",
     "text": [
      "Model Was Not Saved ! Current Best Avg. Dice: 0.5467983484268188 Current Avg. Dice: 0.526340663433075 Current Avg. tumor Dice: 0.5484869480133057 Current Avg. lymph Dice: 0.5041943788528442\n"
     ]
    },
    {
     "name": "stderr",
     "output_type": "stream",
     "text": [
      "Training (3107 / 18000 Steps) (loss=0.32113): 100%|██████████| 7/7 [00:09<00:00,  1.32s/it]\n",
      "Training (3114 / 18000 Steps) (loss=0.27029): 100%|██████████| 7/7 [00:08<00:00,  1.23s/it]\n",
      "Training (3121 / 18000 Steps) (loss=0.40393): 100%|██████████| 7/7 [00:08<00:00,  1.25s/it]\n",
      "Training (3128 / 18000 Steps) (loss=0.59661): 100%|██████████| 7/7 [00:08<00:00,  1.24s/it]\n",
      "Training (3135 / 18000 Steps) (loss=0.43010): 100%|██████████| 7/7 [00:08<00:00,  1.25s/it]\n",
      "Training (3142 / 18000 Steps) (loss=0.44929): 100%|██████████| 7/7 [00:09<00:00,  1.31s/it]\n",
      "Training (3149 / 18000 Steps) (loss=0.45827): 100%|██████████| 7/7 [00:08<00:00,  1.22s/it]\n",
      "Training (3156 / 18000 Steps) (loss=0.29096): 100%|██████████| 7/7 [00:09<00:00,  1.32s/it]\n",
      "Training (3163 / 18000 Steps) (loss=0.37294): 100%|██████████| 7/7 [00:08<00:00,  1.27s/it]\n",
      "Training (3170 / 18000 Steps) (loss=0.40309): 100%|██████████| 7/7 [00:08<00:00,  1.20s/it]\n",
      "Training (3177 / 18000 Steps) (loss=0.32109): 100%|██████████| 7/7 [00:08<00:00,  1.16s/it]\n",
      "Training (3184 / 18000 Steps) (loss=0.50148): 100%|██████████| 7/7 [00:08<00:00,  1.23s/it]\n",
      "Training (3191 / 18000 Steps) (loss=0.44371): 100%|██████████| 7/7 [00:08<00:00,  1.27s/it]\n",
      "Training (3198 / 18000 Steps) (loss=0.58870): 100%|██████████| 7/7 [00:08<00:00,  1.21s/it]\n",
      "Validate (3199 / 10 Steps): 100%|██████████| 2/2 [00:05<00:00,  2.89s/it]<00:33,  5.64s/it]\n",
      "Training (3200 / 18000 Steps) (loss=0.42498):  29%|██▊       | 2/7 [00:11<00:30,  6.02s/it]"
     ]
    },
    {
     "name": "stdout",
     "output_type": "stream",
     "text": [
      "Model Was Not Saved ! Current Best Avg. Dice: 0.5467983484268188 Current Avg. Dice: 0.4599681496620178 Current Avg. tumor Dice: 0.42156982421875 Current Avg. lymph Dice: 0.49836650490760803\n"
     ]
    },
    {
     "name": "stderr",
     "output_type": "stream",
     "text": [
      "Training (3205 / 18000 Steps) (loss=0.42466): 100%|██████████| 7/7 [00:13<00:00,  1.99s/it]\n",
      "Training (3212 / 18000 Steps) (loss=0.51907): 100%|██████████| 7/7 [00:08<00:00,  1.21s/it]\n",
      "Training (3219 / 18000 Steps) (loss=0.55567): 100%|██████████| 7/7 [00:09<00:00,  1.31s/it]\n",
      "Training (3226 / 18000 Steps) (loss=0.45944): 100%|██████████| 7/7 [00:08<00:00,  1.17s/it]\n",
      "Training (3233 / 18000 Steps) (loss=0.46718): 100%|██████████| 7/7 [00:09<00:00,  1.35s/it]\n",
      "Training (3240 / 18000 Steps) (loss=0.49030): 100%|██████████| 7/7 [00:08<00:00,  1.28s/it]\n",
      "Training (3247 / 18000 Steps) (loss=0.44169): 100%|██████████| 7/7 [00:08<00:00,  1.22s/it]\n",
      "Training (3254 / 18000 Steps) (loss=0.30974): 100%|██████████| 7/7 [00:09<00:00,  1.37s/it]\n",
      "Training (3261 / 18000 Steps) (loss=0.44742): 100%|██████████| 7/7 [00:08<00:00,  1.26s/it]\n",
      "Training (3268 / 18000 Steps) (loss=0.33329): 100%|██████████| 7/7 [00:08<00:00,  1.28s/it]\n",
      "Training (3275 / 18000 Steps) (loss=0.55470): 100%|██████████| 7/7 [00:09<00:00,  1.40s/it]\n",
      "Training (3282 / 18000 Steps) (loss=0.50341): 100%|██████████| 7/7 [00:08<00:00,  1.27s/it]\n",
      "Training (3289 / 18000 Steps) (loss=0.35856): 100%|██████████| 7/7 [00:09<00:00,  1.32s/it]\n",
      "Training (3296 / 18000 Steps) (loss=0.36399): 100%|██████████| 7/7 [00:08<00:00,  1.28s/it]\n",
      "Validate (3297 / 10 Steps): 100%|██████████| 2/2 [00:05<00:00,  2.82s/it]<00:07,  1.81s/it]\n",
      "Training (3300 / 18000 Steps) (loss=0.48972):  57%|█████▋    | 4/7 [00:13<00:10,  3.53s/it]"
     ]
    },
    {
     "name": "stdout",
     "output_type": "stream",
     "text": [
      "Model Was Not Saved ! Current Best Avg. Dice: 0.5467983484268188 Current Avg. Dice: 0.5176480412483215 Current Avg. tumor Dice: 0.5651120543479919 Current Avg. lymph Dice: 0.4701840877532959\n"
     ]
    },
    {
     "name": "stderr",
     "output_type": "stream",
     "text": [
      "Training (3303 / 18000 Steps) (loss=0.40581): 100%|██████████| 7/7 [00:14<00:00,  2.11s/it]\n",
      "Training (3310 / 18000 Steps) (loss=0.63807): 100%|██████████| 7/7 [00:09<00:00,  1.29s/it]\n",
      "Training (3317 / 18000 Steps) (loss=0.56320): 100%|██████████| 7/7 [00:09<00:00,  1.40s/it]\n",
      "Training (3324 / 18000 Steps) (loss=0.46735): 100%|██████████| 7/7 [00:08<00:00,  1.21s/it]\n",
      "Training (3331 / 18000 Steps) (loss=0.41559): 100%|██████████| 7/7 [00:08<00:00,  1.28s/it]\n",
      "Training (3338 / 18000 Steps) (loss=0.35681): 100%|██████████| 7/7 [00:08<00:00,  1.23s/it]\n",
      "Training (3345 / 18000 Steps) (loss=0.40009): 100%|██████████| 7/7 [00:08<00:00,  1.25s/it]\n",
      "Training (3352 / 18000 Steps) (loss=0.56981): 100%|██████████| 7/7 [00:08<00:00,  1.19s/it]\n",
      "Training (3359 / 18000 Steps) (loss=0.59585): 100%|██████████| 7/7 [00:08<00:00,  1.28s/it]\n",
      "Training (3366 / 18000 Steps) (loss=0.47564): 100%|██████████| 7/7 [00:08<00:00,  1.24s/it]\n",
      "Training (3373 / 18000 Steps) (loss=0.56040): 100%|██████████| 7/7 [00:09<00:00,  1.32s/it]\n",
      "Training (3380 / 18000 Steps) (loss=0.35981): 100%|██████████| 7/7 [00:09<00:00,  1.30s/it]\n",
      "Training (3387 / 18000 Steps) (loss=0.36048): 100%|██████████| 7/7 [00:08<00:00,  1.18s/it]\n",
      "Training (3394 / 18000 Steps) (loss=0.56736): 100%|██████████| 7/7 [00:09<00:00,  1.30s/it]\n",
      "Validate (3395 / 10 Steps): 100%|██████████| 2/2 [00:05<00:00,  2.93s/it]<00:02,  1.01s/it]\n",
      "Training (3400 / 18000 Steps) (loss=0.29391):  86%|████████▌ | 6/7 [00:15<00:02,  2.84s/it]"
     ]
    },
    {
     "name": "stdout",
     "output_type": "stream",
     "text": [
      "Model Was Not Saved ! Current Best Avg. Dice: 0.5467983484268188 Current Avg. Dice: 0.5091293454170227 Current Avg. tumor Dice: 0.48386168479919434 Current Avg. lymph Dice: 0.5343970060348511\n"
     ]
    },
    {
     "name": "stderr",
     "output_type": "stream",
     "text": [
      "Training (3401 / 18000 Steps) (loss=0.56157): 100%|██████████| 7/7 [00:15<00:00,  2.24s/it]\n",
      "Training (3408 / 18000 Steps) (loss=0.41967): 100%|██████████| 7/7 [00:08<00:00,  1.20s/it]\n",
      "Training (3415 / 18000 Steps) (loss=0.56474): 100%|██████████| 7/7 [00:08<00:00,  1.19s/it]\n",
      "Training (3422 / 18000 Steps) (loss=0.52316): 100%|██████████| 7/7 [00:09<00:00,  1.32s/it]\n",
      "Training (3429 / 18000 Steps) (loss=0.51352): 100%|██████████| 7/7 [00:08<00:00,  1.26s/it]\n",
      "Training (3436 / 18000 Steps) (loss=0.51154): 100%|██████████| 7/7 [00:09<00:00,  1.36s/it]\n",
      "Training (3443 / 18000 Steps) (loss=0.30958): 100%|██████████| 7/7 [00:08<00:00,  1.17s/it]\n",
      "Training (3450 / 18000 Steps) (loss=0.42851): 100%|██████████| 7/7 [00:08<00:00,  1.27s/it]\n",
      "Training (3457 / 18000 Steps) (loss=0.35597): 100%|██████████| 7/7 [00:08<00:00,  1.19s/it]\n",
      "Training (3464 / 18000 Steps) (loss=0.61970): 100%|██████████| 7/7 [00:09<00:00,  1.38s/it]\n",
      "Training (3471 / 18000 Steps) (loss=0.39721): 100%|██████████| 7/7 [00:09<00:00,  1.29s/it]\n",
      "Training (3478 / 18000 Steps) (loss=0.67305): 100%|██████████| 7/7 [00:09<00:00,  1.34s/it]\n",
      "Training (3485 / 18000 Steps) (loss=0.46241): 100%|██████████| 7/7 [00:08<00:00,  1.15s/it]\n",
      "Training (3492 / 18000 Steps) (loss=0.23186): 100%|██████████| 7/7 [00:09<00:00,  1.30s/it]\n",
      "Training (3499 / 18000 Steps) (loss=0.52492): 100%|██████████| 7/7 [00:09<00:00,  1.32s/it]\n",
      "Validate (3500 / 10 Steps): 100%|██████████| 2/2 [00:05<00:00,  2.88s/it]<?, ?it/s]\n",
      "Training (3500 / 18000 Steps) (loss=0.33411):  14%|█▍        | 1/7 [00:13<01:21, 13.57s/it]"
     ]
    },
    {
     "name": "stdout",
     "output_type": "stream",
     "text": [
      "Model Was Not Saved ! Current Best Avg. Dice: 0.5467983484268188 Current Avg. Dice: 0.5278350114822388 Current Avg. tumor Dice: 0.5707221627235413 Current Avg. lymph Dice: 0.4849477708339691\n"
     ]
    },
    {
     "name": "stderr",
     "output_type": "stream",
     "text": [
      "Training (3506 / 18000 Steps) (loss=0.50335): 100%|██████████| 7/7 [00:16<00:00,  2.29s/it]\n",
      "Training (3513 / 18000 Steps) (loss=0.31483): 100%|██████████| 7/7 [00:09<00:00,  1.30s/it]\n",
      "Training (3520 / 18000 Steps) (loss=0.38895): 100%|██████████| 7/7 [00:08<00:00,  1.17s/it]\n",
      "Training (3527 / 18000 Steps) (loss=0.24023): 100%|██████████| 7/7 [00:08<00:00,  1.26s/it]\n",
      "Training (3534 / 18000 Steps) (loss=0.34053): 100%|██████████| 7/7 [00:08<00:00,  1.24s/it]\n",
      "Training (3541 / 18000 Steps) (loss=0.31079): 100%|██████████| 7/7 [00:09<00:00,  1.32s/it]\n",
      "Training (3548 / 18000 Steps) (loss=0.32657): 100%|██████████| 7/7 [00:08<00:00,  1.21s/it]\n",
      "Training (3555 / 18000 Steps) (loss=0.45882): 100%|██████████| 7/7 [00:09<00:00,  1.30s/it]\n",
      "Training (3562 / 18000 Steps) (loss=0.49309): 100%|██████████| 7/7 [00:08<00:00,  1.24s/it]\n",
      "Training (3569 / 18000 Steps) (loss=0.57310): 100%|██████████| 7/7 [00:09<00:00,  1.31s/it]\n",
      "Training (3576 / 18000 Steps) (loss=0.54752): 100%|██████████| 7/7 [00:08<00:00,  1.22s/it]\n",
      "Training (3583 / 18000 Steps) (loss=0.37408): 100%|██████████| 7/7 [00:08<00:00,  1.21s/it]\n",
      "Training (3590 / 18000 Steps) (loss=0.43193): 100%|██████████| 7/7 [00:10<00:00,  1.44s/it]\n",
      "Training (3597 / 18000 Steps) (loss=0.37290): 100%|██████████| 7/7 [00:09<00:00,  1.35s/it]\n",
      "Validate (3598 / 10 Steps): 100%|██████████| 2/2 [00:05<00:00,  2.87s/it]<00:14,  2.89s/it]\n",
      "Training (3600 / 18000 Steps) (loss=0.44094):  43%|████▎     | 3/7 [00:12<00:17,  4.43s/it]"
     ]
    },
    {
     "name": "stdout",
     "output_type": "stream",
     "text": [
      "Model Was Not Saved ! Current Best Avg. Dice: 0.5467983484268188 Current Avg. Dice: 0.5203598737716675 Current Avg. tumor Dice: 0.5376731157302856 Current Avg. lymph Dice: 0.5030466914176941\n"
     ]
    },
    {
     "name": "stderr",
     "output_type": "stream",
     "text": [
      "Training (3604 / 18000 Steps) (loss=0.43001): 100%|██████████| 7/7 [00:14<00:00,  2.06s/it]\n",
      "Training (3611 / 18000 Steps) (loss=0.48357): 100%|██████████| 7/7 [00:09<00:00,  1.32s/it]\n",
      "Training (3618 / 18000 Steps) (loss=0.53640): 100%|██████████| 7/7 [00:08<00:00,  1.25s/it]\n",
      "Training (3625 / 18000 Steps) (loss=0.32112): 100%|██████████| 7/7 [00:08<00:00,  1.28s/it]\n",
      "Training (3632 / 18000 Steps) (loss=0.47461): 100%|██████████| 7/7 [00:08<00:00,  1.18s/it]\n",
      "Training (3639 / 18000 Steps) (loss=0.42822): 100%|██████████| 7/7 [00:08<00:00,  1.27s/it]\n",
      "Training (3646 / 18000 Steps) (loss=0.54493): 100%|██████████| 7/7 [00:09<00:00,  1.29s/it]\n",
      "Training (3653 / 18000 Steps) (loss=0.44411): 100%|██████████| 7/7 [00:09<00:00,  1.30s/it]\n",
      "Training (3660 / 18000 Steps) (loss=0.44301): 100%|██████████| 7/7 [00:08<00:00,  1.17s/it]\n",
      "Training (3667 / 18000 Steps) (loss=0.56199): 100%|██████████| 7/7 [00:08<00:00,  1.17s/it]\n",
      "Training (3674 / 18000 Steps) (loss=0.43665): 100%|██████████| 7/7 [00:08<00:00,  1.22s/it]\n",
      "Training (3681 / 18000 Steps) (loss=0.22923): 100%|██████████| 7/7 [00:08<00:00,  1.25s/it]\n",
      "Training (3688 / 18000 Steps) (loss=0.40926): 100%|██████████| 7/7 [00:08<00:00,  1.20s/it]\n",
      "Training (3695 / 18000 Steps) (loss=0.50083): 100%|██████████| 7/7 [00:08<00:00,  1.23s/it]\n",
      "Validate (3696 / 10 Steps): 100%|██████████| 2/2 [00:05<00:00,  2.87s/it]<00:03,  1.33s/it]\n",
      "Training (3700 / 18000 Steps) (loss=0.37401):  71%|███████▏  | 5/7 [00:14<00:06,  3.10s/it]"
     ]
    },
    {
     "name": "stdout",
     "output_type": "stream",
     "text": [
      "Model Was Not Saved ! Current Best Avg. Dice: 0.5467983484268188 Current Avg. Dice: 0.5156776905059814 Current Avg. tumor Dice: 0.5210999846458435 Current Avg. lymph Dice: 0.5102553367614746\n"
     ]
    },
    {
     "name": "stderr",
     "output_type": "stream",
     "text": [
      "Training (3702 / 18000 Steps) (loss=0.62264): 100%|██████████| 7/7 [00:15<00:00,  2.17s/it]\n",
      "Training (3709 / 18000 Steps) (loss=0.56030): 100%|██████████| 7/7 [00:08<00:00,  1.20s/it]\n",
      "Training (3716 / 18000 Steps) (loss=0.56194): 100%|██████████| 7/7 [00:08<00:00,  1.26s/it]\n",
      "Training (3723 / 18000 Steps) (loss=0.48853): 100%|██████████| 7/7 [00:08<00:00,  1.21s/it]\n",
      "Training (3730 / 18000 Steps) (loss=0.44137): 100%|██████████| 7/7 [00:08<00:00,  1.21s/it]\n",
      "Training (3737 / 18000 Steps) (loss=0.34619): 100%|██████████| 7/7 [00:07<00:00,  1.13s/it]\n",
      "Training (3744 / 18000 Steps) (loss=0.34683): 100%|██████████| 7/7 [00:09<00:00,  1.30s/it]\n",
      "Training (3751 / 18000 Steps) (loss=0.51258): 100%|██████████| 7/7 [00:08<00:00,  1.26s/it]\n",
      "Training (3758 / 18000 Steps) (loss=0.47622): 100%|██████████| 7/7 [00:08<00:00,  1.28s/it]\n",
      "Training (3765 / 18000 Steps) (loss=0.49435): 100%|██████████| 7/7 [00:09<00:00,  1.34s/it]\n",
      "Training (3772 / 18000 Steps) (loss=0.30572): 100%|██████████| 7/7 [00:08<00:00,  1.25s/it]\n",
      "Training (3779 / 18000 Steps) (loss=0.44673): 100%|██████████| 7/7 [00:09<00:00,  1.32s/it]\n",
      "Training (3786 / 18000 Steps) (loss=0.56463): 100%|██████████| 7/7 [00:09<00:00,  1.30s/it]\n",
      "Training (3793 / 18000 Steps) (loss=0.53957): 100%|██████████| 7/7 [00:08<00:00,  1.15s/it]\n",
      "Validate (3794 / 10 Steps): 100%|██████████| 2/2 [00:06<00:00,  3.07s/it]<00:00,  1.33it/s]\n",
      "Training (3800 / 18000 Steps) (loss=0.44546): 100%|██████████| 7/7 [00:14<00:00,  2.07s/it]\n"
     ]
    },
    {
     "name": "stdout",
     "output_type": "stream",
     "text": [
      "Model Was Not Saved ! Current Best Avg. Dice: 0.5467983484268188 Current Avg. Dice: 0.4958667457103729 Current Avg. tumor Dice: 0.5446848273277283 Current Avg. lymph Dice: 0.44704872369766235\n"
     ]
    },
    {
     "name": "stderr",
     "output_type": "stream",
     "text": [
      "Training (3807 / 18000 Steps) (loss=0.54121): 100%|██████████| 7/7 [00:08<00:00,  1.24s/it]\n",
      "Training (3814 / 18000 Steps) (loss=0.50408): 100%|██████████| 7/7 [00:08<00:00,  1.27s/it]\n",
      "Training (3821 / 18000 Steps) (loss=0.55544): 100%|██████████| 7/7 [00:08<00:00,  1.29s/it]\n",
      "Training (3828 / 18000 Steps) (loss=0.27579): 100%|██████████| 7/7 [00:09<00:00,  1.32s/it]\n",
      "Training (3835 / 18000 Steps) (loss=0.50574): 100%|██████████| 7/7 [00:09<00:00,  1.32s/it]\n",
      "Training (3842 / 18000 Steps) (loss=0.43789): 100%|██████████| 7/7 [00:09<00:00,  1.31s/it]\n",
      "Training (3849 / 18000 Steps) (loss=0.42669): 100%|██████████| 7/7 [00:08<00:00,  1.22s/it]\n",
      "Training (3856 / 18000 Steps) (loss=0.55085): 100%|██████████| 7/7 [00:09<00:00,  1.33s/it]\n",
      "Training (3863 / 18000 Steps) (loss=0.34678): 100%|██████████| 7/7 [00:08<00:00,  1.22s/it]\n",
      "Training (3870 / 18000 Steps) (loss=0.50226): 100%|██████████| 7/7 [00:08<00:00,  1.21s/it]\n",
      "Training (3877 / 18000 Steps) (loss=0.28156): 100%|██████████| 7/7 [00:09<00:00,  1.29s/it]\n",
      "Training (3884 / 18000 Steps) (loss=0.53120): 100%|██████████| 7/7 [00:08<00:00,  1.18s/it]\n",
      "Training (3891 / 18000 Steps) (loss=0.41276): 100%|██████████| 7/7 [00:08<00:00,  1.24s/it]\n",
      "Training (3898 / 18000 Steps) (loss=0.38753): 100%|██████████| 7/7 [00:08<00:00,  1.26s/it]\n",
      "Validate (3899 / 10 Steps): 100%|██████████| 2/2 [00:05<00:00,  2.94s/it]<00:38,  6.35s/it]\n",
      "Training (3900 / 18000 Steps) (loss=0.28642):  29%|██▊       | 2/7 [00:12<00:31,  6.37s/it]"
     ]
    },
    {
     "name": "stdout",
     "output_type": "stream",
     "text": [
      "Model Was Not Saved ! Current Best Avg. Dice: 0.5467983484268188 Current Avg. Dice: 0.5246400833129883 Current Avg. tumor Dice: 0.563102126121521 Current Avg. lymph Dice: 0.4861780107021332\n"
     ]
    },
    {
     "name": "stderr",
     "output_type": "stream",
     "text": [
      "Training (3905 / 18000 Steps) (loss=0.43500): 100%|██████████| 7/7 [00:14<00:00,  2.11s/it]\n",
      "Training (3912 / 18000 Steps) (loss=0.33437): 100%|██████████| 7/7 [00:09<00:00,  1.38s/it]\n",
      "Training (3919 / 18000 Steps) (loss=0.62540): 100%|██████████| 7/7 [00:09<00:00,  1.32s/it]\n",
      "Training (3926 / 18000 Steps) (loss=0.51417): 100%|██████████| 7/7 [00:08<00:00,  1.23s/it]\n",
      "Training (3933 / 18000 Steps) (loss=0.49317): 100%|██████████| 7/7 [00:07<00:00,  1.10s/it]\n",
      "Training (3940 / 18000 Steps) (loss=0.42538): 100%|██████████| 7/7 [00:09<00:00,  1.32s/it]\n",
      "Training (3947 / 18000 Steps) (loss=0.65088): 100%|██████████| 7/7 [00:09<00:00,  1.33s/it]\n",
      "Training (3954 / 18000 Steps) (loss=0.20161): 100%|██████████| 7/7 [00:08<00:00,  1.23s/it]\n",
      "Training (3961 / 18000 Steps) (loss=0.61807): 100%|██████████| 7/7 [00:08<00:00,  1.20s/it]\n",
      "Training (3968 / 18000 Steps) (loss=0.46691): 100%|██████████| 7/7 [00:09<00:00,  1.33s/it]\n",
      "Training (3975 / 18000 Steps) (loss=0.34990): 100%|██████████| 7/7 [00:08<00:00,  1.24s/it]\n",
      "Training (3982 / 18000 Steps) (loss=0.39400): 100%|██████████| 7/7 [00:09<00:00,  1.31s/it]\n",
      "Training (3989 / 18000 Steps) (loss=0.33498): 100%|██████████| 7/7 [00:08<00:00,  1.28s/it]\n",
      "Training (3996 / 18000 Steps) (loss=0.42137): 100%|██████████| 7/7 [00:08<00:00,  1.25s/it]\n",
      "Validate (3997 / 10 Steps): 100%|██████████| 2/2 [00:05<00:00,  2.80s/it]<00:06,  1.68s/it]\n",
      "Training (4000 / 18000 Steps) (loss=0.47291):  57%|█████▋    | 4/7 [00:12<00:10,  3.42s/it]"
     ]
    },
    {
     "name": "stdout",
     "output_type": "stream",
     "text": [
      "Model Was Not Saved ! Current Best Avg. Dice: 0.5467983484268188 Current Avg. Dice: 0.5433205366134644 Current Avg. tumor Dice: 0.5924322605133057 Current Avg. lymph Dice: 0.49420881271362305\n"
     ]
    },
    {
     "name": "stderr",
     "output_type": "stream",
     "text": [
      "Training (4003 / 18000 Steps) (loss=0.41064): 100%|██████████| 7/7 [00:14<00:00,  2.02s/it]\n",
      "Training (4010 / 18000 Steps) (loss=0.44202): 100%|██████████| 7/7 [00:08<00:00,  1.22s/it]\n",
      "Training (4017 / 18000 Steps) (loss=0.41129): 100%|██████████| 7/7 [00:08<00:00,  1.28s/it]\n",
      "Training (4024 / 18000 Steps) (loss=0.31020): 100%|██████████| 7/7 [00:09<00:00,  1.36s/it]\n",
      "Training (4031 / 18000 Steps) (loss=0.28538): 100%|██████████| 7/7 [00:08<00:00,  1.21s/it]\n",
      "Training (4038 / 18000 Steps) (loss=0.44725): 100%|██████████| 7/7 [00:08<00:00,  1.22s/it]\n",
      "Training (4045 / 18000 Steps) (loss=0.47956): 100%|██████████| 7/7 [00:09<00:00,  1.42s/it]\n",
      "Training (4052 / 18000 Steps) (loss=0.56431): 100%|██████████| 7/7 [00:08<00:00,  1.24s/it]\n",
      "Training (4059 / 18000 Steps) (loss=0.27190): 100%|██████████| 7/7 [00:08<00:00,  1.21s/it]\n",
      "Training (4066 / 18000 Steps) (loss=0.34921): 100%|██████████| 7/7 [00:08<00:00,  1.24s/it]\n",
      "Training (4073 / 18000 Steps) (loss=0.34206): 100%|██████████| 7/7 [00:08<00:00,  1.16s/it]\n",
      "Training (4080 / 18000 Steps) (loss=0.44465): 100%|██████████| 7/7 [00:09<00:00,  1.31s/it]\n",
      "Training (4087 / 18000 Steps) (loss=0.42398): 100%|██████████| 7/7 [00:08<00:00,  1.21s/it]\n",
      "Training (4094 / 18000 Steps) (loss=0.55994): 100%|██████████| 7/7 [00:09<00:00,  1.31s/it]\n",
      "Validate (4095 / 10 Steps): 100%|██████████| 2/2 [00:05<00:00,  2.85s/it]<00:01,  1.06it/s]\n",
      "Training (4100 / 18000 Steps) (loss=0.60973):  86%|████████▌ | 6/7 [00:13<00:02,  2.73s/it]"
     ]
    },
    {
     "name": "stdout",
     "output_type": "stream",
     "text": [
      "Model Was Not Saved ! Current Best Avg. Dice: 0.5467983484268188 Current Avg. Dice: 0.42053404450416565 Current Avg. tumor Dice: 0.38093966245651245 Current Avg. lymph Dice: 0.46012842655181885\n"
     ]
    },
    {
     "name": "stderr",
     "output_type": "stream",
     "text": [
      "Training (4101 / 18000 Steps) (loss=0.24155): 100%|██████████| 7/7 [00:13<00:00,  1.97s/it]\n",
      "Training (4108 / 18000 Steps) (loss=0.46861): 100%|██████████| 7/7 [00:08<00:00,  1.26s/it]\n",
      "Training (4115 / 18000 Steps) (loss=0.67023): 100%|██████████| 7/7 [00:09<00:00,  1.33s/it]\n",
      "Training (4122 / 18000 Steps) (loss=0.46957): 100%|██████████| 7/7 [00:08<00:00,  1.21s/it]\n",
      "Training (4129 / 18000 Steps) (loss=0.34338): 100%|██████████| 7/7 [00:08<00:00,  1.26s/it]\n",
      "Training (4136 / 18000 Steps) (loss=0.38026): 100%|██████████| 7/7 [00:08<00:00,  1.24s/it]\n",
      "Training (4143 / 18000 Steps) (loss=0.32876): 100%|██████████| 7/7 [00:08<00:00,  1.24s/it]\n",
      "Training (4150 / 18000 Steps) (loss=0.22987): 100%|██████████| 7/7 [00:08<00:00,  1.28s/it]\n",
      "Training (4157 / 18000 Steps) (loss=0.19278): 100%|██████████| 7/7 [00:09<00:00,  1.31s/it]\n",
      "Training (4164 / 18000 Steps) (loss=0.44941): 100%|██████████| 7/7 [00:08<00:00,  1.28s/it]\n",
      "Training (4171 / 18000 Steps) (loss=0.57642): 100%|██████████| 7/7 [00:08<00:00,  1.23s/it]\n",
      "Training (4178 / 18000 Steps) (loss=0.53174): 100%|██████████| 7/7 [00:09<00:00,  1.29s/it]\n",
      "Training (4185 / 18000 Steps) (loss=0.41153): 100%|██████████| 7/7 [00:09<00:00,  1.30s/it]\n",
      "Training (4192 / 18000 Steps) (loss=0.38803): 100%|██████████| 7/7 [00:09<00:00,  1.31s/it]\n",
      "Training (4199 / 18000 Steps) (loss=0.46450): 100%|██████████| 7/7 [00:08<00:00,  1.18s/it]\n",
      "Validate (4200 / 10 Steps): 100%|██████████| 2/2 [00:05<00:00,  2.94s/it]<?, ?it/s]\n",
      "Training (4200 / 18000 Steps) (loss=0.48685):  14%|█▍        | 1/7 [00:13<01:20, 13.50s/it]"
     ]
    },
    {
     "name": "stdout",
     "output_type": "stream",
     "text": [
      "Model Was Saved ! Current Best Avg. Dice: 0.5652890205383301 Current Avg. Dice: 0.5652890205383301 Current Avg. tumor Dice: 0.6188474297523499 Current Avg. lymph Dice: 0.5117306709289551\n"
     ]
    },
    {
     "name": "stderr",
     "output_type": "stream",
     "text": [
      "Training (4206 / 18000 Steps) (loss=0.27149): 100%|██████████| 7/7 [00:15<00:00,  2.28s/it]\n",
      "Training (4213 / 18000 Steps) (loss=0.39543): 100%|██████████| 7/7 [00:08<00:00,  1.19s/it]\n",
      "Training (4220 / 18000 Steps) (loss=0.27525): 100%|██████████| 7/7 [00:09<00:00,  1.31s/it]\n",
      "Training (4227 / 18000 Steps) (loss=0.44941): 100%|██████████| 7/7 [00:09<00:00,  1.32s/it]\n",
      "Training (4234 / 18000 Steps) (loss=0.46804): 100%|██████████| 7/7 [00:09<00:00,  1.31s/it]\n",
      "Training (4241 / 18000 Steps) (loss=0.43573): 100%|██████████| 7/7 [00:08<00:00,  1.25s/it]\n",
      "Training (4248 / 18000 Steps) (loss=0.33361): 100%|██████████| 7/7 [00:08<00:00,  1.22s/it]\n",
      "Training (4255 / 18000 Steps) (loss=0.32879): 100%|██████████| 7/7 [00:08<00:00,  1.28s/it]\n",
      "Training (4262 / 18000 Steps) (loss=0.62377): 100%|██████████| 7/7 [00:07<00:00,  1.12s/it]\n",
      "Training (4269 / 18000 Steps) (loss=0.27386): 100%|██████████| 7/7 [00:09<00:00,  1.30s/it]\n",
      "Training (4276 / 18000 Steps) (loss=0.67195): 100%|██████████| 7/7 [00:09<00:00,  1.33s/it]\n",
      "Training (4283 / 18000 Steps) (loss=0.44686): 100%|██████████| 7/7 [00:09<00:00,  1.34s/it]\n",
      "Training (4290 / 18000 Steps) (loss=0.30059): 100%|██████████| 7/7 [00:09<00:00,  1.31s/it]\n",
      "Training (4297 / 18000 Steps) (loss=0.50222): 100%|██████████| 7/7 [00:08<00:00,  1.27s/it]\n",
      "Validate (4298 / 10 Steps): 100%|██████████| 2/2 [00:05<00:00,  2.88s/it]<00:15,  3.18s/it]\n",
      "Training (4300 / 18000 Steps) (loss=0.43132):  43%|████▎     | 3/7 [00:13<00:18,  4.59s/it]"
     ]
    },
    {
     "name": "stdout",
     "output_type": "stream",
     "text": [
      "Model Was Not Saved ! Current Best Avg. Dice: 0.5652890205383301 Current Avg. Dice: 0.527935266494751 Current Avg. tumor Dice: 0.5802091956138611 Current Avg. lymph Dice: 0.47566133737564087\n"
     ]
    },
    {
     "name": "stderr",
     "output_type": "stream",
     "text": [
      "Training (4304 / 18000 Steps) (loss=0.51511): 100%|██████████| 7/7 [00:15<00:00,  2.20s/it]\n",
      "Training (4311 / 18000 Steps) (loss=0.60296): 100%|██████████| 7/7 [00:09<00:00,  1.39s/it]\n",
      "Training (4318 / 18000 Steps) (loss=0.20169): 100%|██████████| 7/7 [00:08<00:00,  1.27s/it]\n",
      "Training (4325 / 18000 Steps) (loss=0.32920): 100%|██████████| 7/7 [00:08<00:00,  1.18s/it]\n",
      "Training (4332 / 18000 Steps) (loss=0.43175): 100%|██████████| 7/7 [00:07<00:00,  1.13s/it]\n",
      "Training (4339 / 18000 Steps) (loss=0.53246): 100%|██████████| 7/7 [00:08<00:00,  1.24s/it]\n",
      "Training (4346 / 18000 Steps) (loss=0.13356): 100%|██████████| 7/7 [00:09<00:00,  1.29s/it]\n",
      "Training (4353 / 18000 Steps) (loss=0.36445): 100%|██████████| 7/7 [00:08<00:00,  1.27s/it]\n",
      "Training (4360 / 18000 Steps) (loss=0.20950): 100%|██████████| 7/7 [00:08<00:00,  1.25s/it]\n",
      "Training (4367 / 18000 Steps) (loss=0.44662): 100%|██████████| 7/7 [00:08<00:00,  1.26s/it]\n",
      "Training (4374 / 18000 Steps) (loss=0.40849): 100%|██████████| 7/7 [00:09<00:00,  1.34s/it]\n",
      "Training (4381 / 18000 Steps) (loss=0.20943): 100%|██████████| 7/7 [00:08<00:00,  1.16s/it]\n",
      "Training (4388 / 18000 Steps) (loss=0.58446): 100%|██████████| 7/7 [00:08<00:00,  1.16s/it]\n",
      "Training (4395 / 18000 Steps) (loss=0.47739): 100%|██████████| 7/7 [00:08<00:00,  1.21s/it]\n",
      "Validate (4396 / 10 Steps): 100%|██████████| 2/2 [00:05<00:00,  2.86s/it]<00:03,  1.30s/it]\n",
      "Training (4400 / 18000 Steps) (loss=0.45138):  71%|███████▏  | 5/7 [00:14<00:06,  3.07s/it]"
     ]
    },
    {
     "name": "stdout",
     "output_type": "stream",
     "text": [
      "Model Was Not Saved ! Current Best Avg. Dice: 0.5652890205383301 Current Avg. Dice: 0.5382972955703735 Current Avg. tumor Dice: 0.580624520778656 Current Avg. lymph Dice: 0.49597012996673584\n"
     ]
    },
    {
     "name": "stderr",
     "output_type": "stream",
     "text": [
      "Training (4402 / 18000 Steps) (loss=0.31696): 100%|██████████| 7/7 [00:15<00:00,  2.16s/it]\n",
      "Training (4409 / 18000 Steps) (loss=0.41956): 100%|██████████| 7/7 [00:08<00:00,  1.25s/it]\n",
      "Training (4416 / 18000 Steps) (loss=0.41697): 100%|██████████| 7/7 [00:08<00:00,  1.24s/it]\n",
      "Training (4423 / 18000 Steps) (loss=0.44689): 100%|██████████| 7/7 [00:09<00:00,  1.30s/it]\n",
      "Training (4430 / 18000 Steps) (loss=0.35587): 100%|██████████| 7/7 [00:09<00:00,  1.29s/it]\n",
      "Training (4437 / 18000 Steps) (loss=0.55468): 100%|██████████| 7/7 [00:08<00:00,  1.28s/it]\n",
      "Training (4444 / 18000 Steps) (loss=0.54523): 100%|██████████| 7/7 [00:09<00:00,  1.32s/it]\n",
      "Training (4451 / 18000 Steps) (loss=0.28741): 100%|██████████| 7/7 [00:08<00:00,  1.27s/it]\n",
      "Training (4458 / 18000 Steps) (loss=0.53965): 100%|██████████| 7/7 [00:08<00:00,  1.25s/it]\n",
      "Training (4465 / 18000 Steps) (loss=0.42649): 100%|██████████| 7/7 [00:08<00:00,  1.24s/it]\n",
      "Training (4472 / 18000 Steps) (loss=0.44201): 100%|██████████| 7/7 [00:08<00:00,  1.24s/it]\n",
      "Training (4479 / 18000 Steps) (loss=0.39894): 100%|██████████| 7/7 [00:09<00:00,  1.34s/it]\n",
      "Training (4486 / 18000 Steps) (loss=0.38803): 100%|██████████| 7/7 [00:08<00:00,  1.25s/it]\n",
      "Training (4493 / 18000 Steps) (loss=0.48310): 100%|██████████| 7/7 [00:08<00:00,  1.27s/it]\n",
      "Validate (4494 / 10 Steps): 100%|██████████| 2/2 [00:05<00:00,  2.85s/it]<00:00,  1.34it/s]\n",
      "Training (4500 / 18000 Steps) (loss=0.38926): 100%|██████████| 7/7 [00:14<00:00,  2.05s/it]\n"
     ]
    },
    {
     "name": "stdout",
     "output_type": "stream",
     "text": [
      "Model Was Not Saved ! Current Best Avg. Dice: 0.5652890205383301 Current Avg. Dice: 0.5496562123298645 Current Avg. tumor Dice: 0.5885263681411743 Current Avg. lymph Dice: 0.5107859969139099\n"
     ]
    },
    {
     "name": "stderr",
     "output_type": "stream",
     "text": [
      "Training (4507 / 18000 Steps) (loss=0.44056): 100%|██████████| 7/7 [00:09<00:00,  1.39s/it]\n",
      "Training (4514 / 18000 Steps) (loss=0.35978): 100%|██████████| 7/7 [00:07<00:00,  1.09s/it]\n",
      "Training (4521 / 18000 Steps) (loss=0.27352): 100%|██████████| 7/7 [00:08<00:00,  1.19s/it]\n",
      "Training (4528 / 18000 Steps) (loss=0.43823): 100%|██████████| 7/7 [00:09<00:00,  1.30s/it]\n",
      "Training (4535 / 18000 Steps) (loss=0.35379): 100%|██████████| 7/7 [00:08<00:00,  1.15s/it]\n",
      "Training (4542 / 18000 Steps) (loss=0.37010): 100%|██████████| 7/7 [00:08<00:00,  1.18s/it]\n",
      "Training (4549 / 18000 Steps) (loss=0.33041): 100%|██████████| 7/7 [00:08<00:00,  1.22s/it]\n",
      "Training (4556 / 18000 Steps) (loss=0.50277): 100%|██████████| 7/7 [00:08<00:00,  1.25s/it]\n",
      "Training (4563 / 18000 Steps) (loss=0.50951): 100%|██████████| 7/7 [00:08<00:00,  1.22s/it]\n",
      "Training (4570 / 18000 Steps) (loss=0.55300): 100%|██████████| 7/7 [00:08<00:00,  1.24s/it]\n",
      "Training (4577 / 18000 Steps) (loss=0.32243): 100%|██████████| 7/7 [00:08<00:00,  1.28s/it]\n",
      "Training (4584 / 18000 Steps) (loss=0.20989): 100%|██████████| 7/7 [00:09<00:00,  1.37s/it]\n",
      "Training (4591 / 18000 Steps) (loss=0.24414): 100%|██████████| 7/7 [00:08<00:00,  1.19s/it]\n",
      "Training (4598 / 18000 Steps) (loss=0.32777): 100%|██████████| 7/7 [00:08<00:00,  1.24s/it]\n",
      "Validate (4599 / 10 Steps): 100%|██████████| 2/2 [00:05<00:00,  2.75s/it]<00:35,  5.96s/it]\n",
      "Training (4600 / 18000 Steps) (loss=0.34486):  29%|██▊       | 2/7 [00:12<00:31,  6.37s/it]"
     ]
    },
    {
     "name": "stdout",
     "output_type": "stream",
     "text": [
      "Model Was Saved ! Current Best Avg. Dice: 0.568209171295166 Current Avg. Dice: 0.568209171295166 Current Avg. tumor Dice: 0.6068573594093323 Current Avg. lymph Dice: 0.529560923576355\n"
     ]
    },
    {
     "name": "stderr",
     "output_type": "stream",
     "text": [
      "Training (4605 / 18000 Steps) (loss=0.55462): 100%|██████████| 7/7 [00:14<00:00,  2.09s/it]\n",
      "Training (4612 / 18000 Steps) (loss=0.40016): 100%|██████████| 7/7 [00:08<00:00,  1.28s/it]\n",
      "Training (4619 / 18000 Steps) (loss=0.44965): 100%|██████████| 7/7 [00:08<00:00,  1.24s/it]\n",
      "Training (4626 / 18000 Steps) (loss=0.34492): 100%|██████████| 7/7 [00:08<00:00,  1.21s/it]\n",
      "Training (4633 / 18000 Steps) (loss=0.34711): 100%|██████████| 7/7 [00:08<00:00,  1.21s/it]\n",
      "Training (4640 / 18000 Steps) (loss=0.47799): 100%|██████████| 7/7 [00:09<00:00,  1.29s/it]\n",
      "Training (4647 / 18000 Steps) (loss=0.53784): 100%|██████████| 7/7 [00:09<00:00,  1.29s/it]\n",
      "Training (4654 / 18000 Steps) (loss=0.29092): 100%|██████████| 7/7 [00:09<00:00,  1.36s/it]\n",
      "Training (4661 / 18000 Steps) (loss=0.48877): 100%|██████████| 7/7 [00:09<00:00,  1.42s/it]\n",
      "Training (4668 / 18000 Steps) (loss=0.34747): 100%|██████████| 7/7 [00:07<00:00,  1.11s/it]\n",
      "Training (4675 / 18000 Steps) (loss=0.45178): 100%|██████████| 7/7 [00:08<00:00,  1.21s/it]\n",
      "Training (4682 / 18000 Steps) (loss=0.58844): 100%|██████████| 7/7 [00:09<00:00,  1.37s/it]\n",
      "Training (4689 / 18000 Steps) (loss=0.20969): 100%|██████████| 7/7 [00:08<00:00,  1.21s/it]\n",
      "Training (4696 / 18000 Steps) (loss=0.31136): 100%|██████████| 7/7 [00:08<00:00,  1.18s/it]\n",
      "Validate (4697 / 10 Steps): 100%|██████████| 2/2 [00:05<00:00,  2.84s/it]<00:07,  1.84s/it]\n",
      "Training (4700 / 18000 Steps) (loss=0.40749):  57%|█████▋    | 4/7 [00:13<00:10,  3.56s/it]"
     ]
    },
    {
     "name": "stdout",
     "output_type": "stream",
     "text": [
      "Model Was Not Saved ! Current Best Avg. Dice: 0.568209171295166 Current Avg. Dice: 0.5437304377555847 Current Avg. tumor Dice: 0.5684002041816711 Current Avg. lymph Dice: 0.5190606713294983\n"
     ]
    },
    {
     "name": "stderr",
     "output_type": "stream",
     "text": [
      "Training (4703 / 18000 Steps) (loss=0.45963): 100%|██████████| 7/7 [00:14<00:00,  2.14s/it]\n",
      "Training (4710 / 18000 Steps) (loss=0.31515): 100%|██████████| 7/7 [00:09<00:00,  1.31s/it]\n",
      "Training (4717 / 18000 Steps) (loss=0.30124): 100%|██████████| 7/7 [00:09<00:00,  1.30s/it]\n",
      "Training (4724 / 18000 Steps) (loss=0.52934): 100%|██████████| 7/7 [00:08<00:00,  1.16s/it]\n",
      "Training (4731 / 18000 Steps) (loss=0.36085): 100%|██████████| 7/7 [00:08<00:00,  1.23s/it]\n",
      "Training (4738 / 18000 Steps) (loss=0.19468): 100%|██████████| 7/7 [00:08<00:00,  1.19s/it]\n",
      "Training (4745 / 18000 Steps) (loss=0.31457): 100%|██████████| 7/7 [00:07<00:00,  1.13s/it]\n",
      "Training (4752 / 18000 Steps) (loss=0.36945): 100%|██████████| 7/7 [00:09<00:00,  1.30s/it]\n",
      "Training (4759 / 18000 Steps) (loss=0.32275): 100%|██████████| 7/7 [00:08<00:00,  1.25s/it]\n",
      "Training (4766 / 18000 Steps) (loss=0.25783): 100%|██████████| 7/7 [00:09<00:00,  1.40s/it]\n",
      "Training (4773 / 18000 Steps) (loss=0.34361): 100%|██████████| 7/7 [00:08<00:00,  1.26s/it]\n",
      "Training (4780 / 18000 Steps) (loss=0.26997): 100%|██████████| 7/7 [00:08<00:00,  1.22s/it]\n",
      "Training (4787 / 18000 Steps) (loss=0.50074): 100%|██████████| 7/7 [00:09<00:00,  1.34s/it]\n",
      "Training (4794 / 18000 Steps) (loss=0.33709): 100%|██████████| 7/7 [00:08<00:00,  1.22s/it]\n",
      "Validate (4795 / 10 Steps): 100%|██████████| 2/2 [00:05<00:00,  2.73s/it]<00:01,  1.08it/s]\n",
      "Training (4800 / 18000 Steps) (loss=0.52486):  86%|████████▌ | 6/7 [00:13<00:02,  2.63s/it]"
     ]
    },
    {
     "name": "stdout",
     "output_type": "stream",
     "text": [
      "Model Was Not Saved ! Current Best Avg. Dice: 0.568209171295166 Current Avg. Dice: 0.5467749834060669 Current Avg. tumor Dice: 0.5691068768501282 Current Avg. lymph Dice: 0.5244430899620056\n"
     ]
    },
    {
     "name": "stderr",
     "output_type": "stream",
     "text": [
      "Training (4801 / 18000 Steps) (loss=0.41473): 100%|██████████| 7/7 [00:14<00:00,  2.03s/it]\n",
      "Training (4808 / 18000 Steps) (loss=0.50472): 100%|██████████| 7/7 [00:08<00:00,  1.20s/it]\n",
      "Training (4815 / 18000 Steps) (loss=0.36900): 100%|██████████| 7/7 [00:08<00:00,  1.15s/it]\n",
      "Training (4822 / 18000 Steps) (loss=0.43597): 100%|██████████| 7/7 [00:08<00:00,  1.16s/it]\n",
      "Training (4829 / 18000 Steps) (loss=0.47062): 100%|██████████| 7/7 [00:09<00:00,  1.35s/it]\n",
      "Training (4836 / 18000 Steps) (loss=0.39890): 100%|██████████| 7/7 [00:09<00:00,  1.29s/it]\n",
      "Training (4843 / 18000 Steps) (loss=0.33464): 100%|██████████| 7/7 [00:08<00:00,  1.22s/it]\n",
      "Training (4850 / 18000 Steps) (loss=0.20264): 100%|██████████| 7/7 [00:08<00:00,  1.16s/it]\n",
      "Training (4857 / 18000 Steps) (loss=0.29676): 100%|██████████| 7/7 [00:08<00:00,  1.21s/it]\n",
      "Training (4864 / 18000 Steps) (loss=0.36261): 100%|██████████| 7/7 [00:08<00:00,  1.21s/it]\n",
      "Training (4871 / 18000 Steps) (loss=0.44994): 100%|██████████| 7/7 [00:08<00:00,  1.23s/it]\n",
      "Training (4878 / 18000 Steps) (loss=0.41436): 100%|██████████| 7/7 [00:08<00:00,  1.26s/it]\n",
      "Training (4885 / 18000 Steps) (loss=0.26791): 100%|██████████| 7/7 [00:08<00:00,  1.24s/it]\n",
      "Training (4892 / 18000 Steps) (loss=0.34969): 100%|██████████| 7/7 [00:09<00:00,  1.33s/it]\n",
      "Training (4899 / 18000 Steps) (loss=0.37661): 100%|██████████| 7/7 [00:08<00:00,  1.19s/it]\n",
      "Validate (4900 / 10 Steps): 100%|██████████| 2/2 [00:05<00:00,  2.87s/it]<?, ?it/s]\n",
      "Training (4900 / 18000 Steps) (loss=0.36292):  14%|█▍        | 1/7 [00:11<01:08, 11.42s/it]"
     ]
    },
    {
     "name": "stdout",
     "output_type": "stream",
     "text": [
      "Model Was Not Saved ! Current Best Avg. Dice: 0.568209171295166 Current Avg. Dice: 0.49815309047698975 Current Avg. tumor Dice: 0.5421056151390076 Current Avg. lymph Dice: 0.4542005956172943\n"
     ]
    },
    {
     "name": "stderr",
     "output_type": "stream",
     "text": [
      "Training (4906 / 18000 Steps) (loss=0.16511): 100%|██████████| 7/7 [00:13<00:00,  1.97s/it]\n",
      "Training (4913 / 18000 Steps) (loss=0.42383): 100%|██████████| 7/7 [00:09<00:00,  1.30s/it]\n",
      "Training (4920 / 18000 Steps) (loss=0.30831): 100%|██████████| 7/7 [00:08<00:00,  1.24s/it]\n",
      "Training (4927 / 18000 Steps) (loss=0.27597): 100%|██████████| 7/7 [00:08<00:00,  1.28s/it]\n",
      "Training (4934 / 18000 Steps) (loss=0.18746): 100%|██████████| 7/7 [00:08<00:00,  1.28s/it]\n",
      "Training (4941 / 18000 Steps) (loss=0.28563): 100%|██████████| 7/7 [00:08<00:00,  1.17s/it]\n",
      "Training (4948 / 18000 Steps) (loss=0.55602): 100%|██████████| 7/7 [00:08<00:00,  1.19s/it]\n",
      "Training (4955 / 18000 Steps) (loss=0.59027): 100%|██████████| 7/7 [00:07<00:00,  1.14s/it]\n",
      "Training (4962 / 18000 Steps) (loss=0.60308): 100%|██████████| 7/7 [00:08<00:00,  1.23s/it]\n",
      "Training (4969 / 18000 Steps) (loss=0.54716): 100%|██████████| 7/7 [00:08<00:00,  1.19s/it]\n",
      "Training (4976 / 18000 Steps) (loss=0.32973): 100%|██████████| 7/7 [00:09<00:00,  1.31s/it]\n",
      "Training (4983 / 18000 Steps) (loss=0.40024): 100%|██████████| 7/7 [00:08<00:00,  1.23s/it]\n",
      "Training (4990 / 18000 Steps) (loss=0.32320): 100%|██████████| 7/7 [00:08<00:00,  1.19s/it]\n",
      "Training (4997 / 18000 Steps) (loss=0.31498): 100%|██████████| 7/7 [00:08<00:00,  1.20s/it]\n",
      "Validate (4998 / 10 Steps): 100%|██████████| 2/2 [00:05<00:00,  2.73s/it]<00:11,  2.36s/it]\n",
      "Training (5000 / 18000 Steps) (loss=0.26164):  43%|████▎     | 3/7 [00:12<00:17,  4.27s/it]"
     ]
    },
    {
     "name": "stdout",
     "output_type": "stream",
     "text": [
      "Model Was Not Saved ! Current Best Avg. Dice: 0.568209171295166 Current Avg. Dice: 0.536011815071106 Current Avg. tumor Dice: 0.580923318862915 Current Avg. lymph Dice: 0.4911003112792969\n"
     ]
    },
    {
     "name": "stderr",
     "output_type": "stream",
     "text": [
      "Training (5004 / 18000 Steps) (loss=0.31699): 100%|██████████| 7/7 [00:13<00:00,  1.95s/it]\n",
      "Training (5011 / 18000 Steps) (loss=0.23470): 100%|██████████| 7/7 [00:08<00:00,  1.19s/it]\n",
      "Training (5018 / 18000 Steps) (loss=0.46051): 100%|██████████| 7/7 [00:08<00:00,  1.24s/it]\n",
      "Training (5025 / 18000 Steps) (loss=0.24905): 100%|██████████| 7/7 [00:08<00:00,  1.14s/it]\n",
      "Training (5032 / 18000 Steps) (loss=0.48432): 100%|██████████| 7/7 [00:09<00:00,  1.30s/it]\n",
      "Training (5039 / 18000 Steps) (loss=0.36415): 100%|██████████| 7/7 [00:09<00:00,  1.31s/it]\n",
      "Training (5046 / 18000 Steps) (loss=0.33346): 100%|██████████| 7/7 [00:08<00:00,  1.15s/it]\n",
      "Training (5053 / 18000 Steps) (loss=0.40158): 100%|██████████| 7/7 [00:08<00:00,  1.24s/it]\n",
      "Training (5060 / 18000 Steps) (loss=0.28079): 100%|██████████| 7/7 [00:08<00:00,  1.28s/it]\n",
      "Training (5067 / 18000 Steps) (loss=0.16127): 100%|██████████| 7/7 [00:09<00:00,  1.32s/it]\n",
      "Training (5074 / 18000 Steps) (loss=0.30099): 100%|██████████| 7/7 [00:07<00:00,  1.12s/it]\n",
      "Training (5081 / 18000 Steps) (loss=0.43453): 100%|██████████| 7/7 [00:08<00:00,  1.23s/it]\n",
      "Training (5088 / 18000 Steps) (loss=0.46113): 100%|██████████| 7/7 [00:09<00:00,  1.32s/it]\n",
      "Training (5095 / 18000 Steps) (loss=0.34577): 100%|██████████| 7/7 [00:09<00:00,  1.35s/it]\n",
      "Validate (5096 / 10 Steps): 100%|██████████| 2/2 [00:05<00:00,  2.86s/it]<00:03,  1.21s/it]\n",
      "Training (5100 / 18000 Steps) (loss=0.38649):  71%|███████▏  | 5/7 [00:13<00:06,  3.02s/it]"
     ]
    },
    {
     "name": "stdout",
     "output_type": "stream",
     "text": [
      "Model Was Not Saved ! Current Best Avg. Dice: 0.568209171295166 Current Avg. Dice: 0.5005608797073364 Current Avg. tumor Dice: 0.5244123935699463 Current Avg. lymph Dice: 0.4767093062400818\n"
     ]
    },
    {
     "name": "stderr",
     "output_type": "stream",
     "text": [
      "Training (5102 / 18000 Steps) (loss=0.28503): 100%|██████████| 7/7 [00:14<00:00,  2.06s/it]\n",
      "Training (5109 / 18000 Steps) (loss=0.28782): 100%|██████████| 7/7 [00:07<00:00,  1.13s/it]\n",
      "Training (5116 / 18000 Steps) (loss=0.45266): 100%|██████████| 7/7 [00:08<00:00,  1.24s/it]\n",
      "Training (5123 / 18000 Steps) (loss=0.27126): 100%|██████████| 7/7 [00:08<00:00,  1.25s/it]\n",
      "Training (5130 / 18000 Steps) (loss=0.43441): 100%|██████████| 7/7 [00:08<00:00,  1.25s/it]\n",
      "Training (5137 / 18000 Steps) (loss=0.41946): 100%|██████████| 7/7 [00:07<00:00,  1.14s/it]\n",
      "Training (5144 / 18000 Steps) (loss=0.31071): 100%|██████████| 7/7 [00:07<00:00,  1.13s/it]\n",
      "Training (5151 / 18000 Steps) (loss=0.53741): 100%|██████████| 7/7 [00:08<00:00,  1.21s/it]\n",
      "Training (5158 / 18000 Steps) (loss=0.66825): 100%|██████████| 7/7 [00:08<00:00,  1.18s/it]\n",
      "Training (5165 / 18000 Steps) (loss=0.46889): 100%|██████████| 7/7 [00:09<00:00,  1.31s/it]\n",
      "Training (5172 / 18000 Steps) (loss=0.19938): 100%|██████████| 7/7 [00:08<00:00,  1.22s/it]\n",
      "Training (5179 / 18000 Steps) (loss=0.28940): 100%|██████████| 7/7 [00:08<00:00,  1.21s/it]\n",
      "Training (5186 / 18000 Steps) (loss=0.28028): 100%|██████████| 7/7 [00:08<00:00,  1.22s/it]\n",
      "Training (5193 / 18000 Steps) (loss=0.41951): 100%|██████████| 7/7 [00:08<00:00,  1.19s/it]\n",
      "Validate (5194 / 10 Steps): 100%|██████████| 2/2 [00:05<00:00,  2.89s/it]<00:00,  1.34it/s]\n",
      "Training (5200 / 18000 Steps) (loss=0.31361): 100%|██████████| 7/7 [00:13<00:00,  1.99s/it]\n"
     ]
    },
    {
     "name": "stdout",
     "output_type": "stream",
     "text": [
      "Model Was Not Saved ! Current Best Avg. Dice: 0.568209171295166 Current Avg. Dice: 0.5371016263961792 Current Avg. tumor Dice: 0.5803073048591614 Current Avg. lymph Dice: 0.49389588832855225\n"
     ]
    },
    {
     "name": "stderr",
     "output_type": "stream",
     "text": [
      "Training (5207 / 18000 Steps) (loss=0.61008): 100%|██████████| 7/7 [00:08<00:00,  1.28s/it]\n",
      "Training (5214 / 18000 Steps) (loss=0.39212): 100%|██████████| 7/7 [00:08<00:00,  1.21s/it]\n",
      "Training (5221 / 18000 Steps) (loss=0.28063): 100%|██████████| 7/7 [00:08<00:00,  1.27s/it]\n",
      "Training (5228 / 18000 Steps) (loss=0.41183): 100%|██████████| 7/7 [00:08<00:00,  1.18s/it]\n",
      "Training (5235 / 18000 Steps) (loss=0.42994): 100%|██████████| 7/7 [00:08<00:00,  1.19s/it]\n",
      "Training (5242 / 18000 Steps) (loss=0.28283): 100%|██████████| 7/7 [00:08<00:00,  1.18s/it]\n",
      "Training (5249 / 18000 Steps) (loss=0.26635): 100%|██████████| 7/7 [00:08<00:00,  1.25s/it]\n",
      "Training (5256 / 18000 Steps) (loss=0.34418): 100%|██████████| 7/7 [00:08<00:00,  1.27s/it]\n",
      "Training (5263 / 18000 Steps) (loss=0.18840): 100%|██████████| 7/7 [00:09<00:00,  1.35s/it]\n",
      "Training (5270 / 18000 Steps) (loss=0.33034): 100%|██████████| 7/7 [00:09<00:00,  1.32s/it]\n",
      "Training (5277 / 18000 Steps) (loss=0.38974): 100%|██████████| 7/7 [00:08<00:00,  1.24s/it]\n",
      "Training (5284 / 18000 Steps) (loss=0.30202): 100%|██████████| 7/7 [00:09<00:00,  1.37s/it]\n",
      "Training (5291 / 18000 Steps) (loss=0.20487): 100%|██████████| 7/7 [00:08<00:00,  1.19s/it]\n",
      "Training (5298 / 18000 Steps) (loss=0.16519): 100%|██████████| 7/7 [00:09<00:00,  1.39s/it]\n",
      "Validate (5299 / 10 Steps): 100%|██████████| 2/2 [00:05<00:00,  2.77s/it]<00:33,  5.57s/it]\n",
      "Training (5300 / 18000 Steps) (loss=0.34675):  29%|██▊       | 2/7 [00:11<00:29,  5.87s/it]"
     ]
    },
    {
     "name": "stdout",
     "output_type": "stream",
     "text": [
      "Model Was Not Saved ! Current Best Avg. Dice: 0.568209171295166 Current Avg. Dice: 0.514492392539978 Current Avg. tumor Dice: 0.5220348834991455 Current Avg. lymph Dice: 0.5069499015808105\n"
     ]
    },
    {
     "name": "stderr",
     "output_type": "stream",
     "text": [
      "Training (5305 / 18000 Steps) (loss=0.61175): 100%|██████████| 7/7 [00:13<00:00,  1.95s/it]\n",
      "Training (5312 / 18000 Steps) (loss=0.30893): 100%|██████████| 7/7 [00:08<00:00,  1.22s/it]\n",
      "Training (5319 / 18000 Steps) (loss=0.39623): 100%|██████████| 7/7 [00:08<00:00,  1.20s/it]\n",
      "Training (5326 / 18000 Steps) (loss=0.40755): 100%|██████████| 7/7 [00:08<00:00,  1.23s/it]\n",
      "Training (5333 / 18000 Steps) (loss=0.33881): 100%|██████████| 7/7 [00:09<00:00,  1.30s/it]\n",
      "Training (5340 / 18000 Steps) (loss=0.47524): 100%|██████████| 7/7 [00:08<00:00,  1.28s/it]\n",
      "Training (5347 / 18000 Steps) (loss=0.35432): 100%|██████████| 7/7 [00:08<00:00,  1.20s/it]\n",
      "Training (5354 / 18000 Steps) (loss=0.28429): 100%|██████████| 7/7 [00:08<00:00,  1.20s/it]\n",
      "Training (5361 / 18000 Steps) (loss=0.47260): 100%|██████████| 7/7 [00:08<00:00,  1.21s/it]\n",
      "Training (5368 / 18000 Steps) (loss=0.37945): 100%|██████████| 7/7 [00:08<00:00,  1.17s/it]\n",
      "Training (5375 / 18000 Steps) (loss=0.37475): 100%|██████████| 7/7 [00:08<00:00,  1.29s/it]\n",
      "Training (5382 / 18000 Steps) (loss=0.40434): 100%|██████████| 7/7 [00:08<00:00,  1.21s/it]\n",
      "Training (5389 / 18000 Steps) (loss=0.52217): 100%|██████████| 7/7 [00:08<00:00,  1.16s/it]\n",
      "Training (5396 / 18000 Steps) (loss=0.28005): 100%|██████████| 7/7 [00:08<00:00,  1.21s/it]\n",
      "Validate (5397 / 10 Steps): 100%|██████████| 2/2 [00:05<00:00,  2.87s/it]<00:07,  1.83s/it]\n",
      "Training (5400 / 18000 Steps) (loss=0.26591):  57%|█████▋    | 4/7 [00:13<00:10,  3.57s/it]"
     ]
    },
    {
     "name": "stdout",
     "output_type": "stream",
     "text": [
      "Model Was Not Saved ! Current Best Avg. Dice: 0.568209171295166 Current Avg. Dice: 0.5259814262390137 Current Avg. tumor Dice: 0.5723106861114502 Current Avg. lymph Dice: 0.47965216636657715\n"
     ]
    },
    {
     "name": "stderr",
     "output_type": "stream",
     "text": [
      "Training (5403 / 18000 Steps) (loss=0.42475): 100%|██████████| 7/7 [00:14<00:00,  2.13s/it]\n",
      "Training (5410 / 18000 Steps) (loss=0.19006): 100%|██████████| 7/7 [00:09<00:00,  1.32s/it]\n",
      "Training (5417 / 18000 Steps) (loss=0.26252): 100%|██████████| 7/7 [00:08<00:00,  1.23s/it]\n",
      "Training (5424 / 18000 Steps) (loss=0.43383): 100%|██████████| 7/7 [00:09<00:00,  1.39s/it]\n",
      "Training (5431 / 18000 Steps) (loss=0.30908): 100%|██████████| 7/7 [00:09<00:00,  1.30s/it]\n",
      "Training (5438 / 18000 Steps) (loss=0.54735): 100%|██████████| 7/7 [00:08<00:00,  1.23s/it]\n",
      "Training (5445 / 18000 Steps) (loss=0.55856): 100%|██████████| 7/7 [00:08<00:00,  1.19s/it]\n",
      "Training (5452 / 18000 Steps) (loss=0.29475): 100%|██████████| 7/7 [00:08<00:00,  1.23s/it]\n",
      "Training (5459 / 18000 Steps) (loss=0.56759): 100%|██████████| 7/7 [00:08<00:00,  1.17s/it]\n",
      "Training (5466 / 18000 Steps) (loss=0.22529): 100%|██████████| 7/7 [00:08<00:00,  1.22s/it]\n",
      "Training (5473 / 18000 Steps) (loss=0.36653): 100%|██████████| 7/7 [00:08<00:00,  1.16s/it]\n",
      "Training (5480 / 18000 Steps) (loss=0.44023): 100%|██████████| 7/7 [00:08<00:00,  1.15s/it]\n",
      "Training (5487 / 18000 Steps) (loss=0.27323): 100%|██████████| 7/7 [00:08<00:00,  1.19s/it]\n",
      "Training (5494 / 18000 Steps) (loss=0.38909): 100%|██████████| 7/7 [00:08<00:00,  1.18s/it]\n",
      "Validate (5495 / 10 Steps): 100%|██████████| 2/2 [00:05<00:00,  2.81s/it]<00:01,  1.02it/s]\n",
      "Training (5500 / 18000 Steps) (loss=0.42474):  86%|████████▌ | 6/7 [00:14<00:02,  2.74s/it]"
     ]
    },
    {
     "name": "stdout",
     "output_type": "stream",
     "text": [
      "Model Was Not Saved ! Current Best Avg. Dice: 0.568209171295166 Current Avg. Dice: 0.5411080121994019 Current Avg. tumor Dice: 0.5735813975334167 Current Avg. lymph Dice: 0.5086345076560974\n"
     ]
    },
    {
     "name": "stderr",
     "output_type": "stream",
     "text": [
      "Training (5501 / 18000 Steps) (loss=0.52117): 100%|██████████| 7/7 [00:15<00:00,  2.15s/it]\n",
      "Training (5508 / 18000 Steps) (loss=0.24169): 100%|██████████| 7/7 [00:07<00:00,  1.13s/it]\n",
      "Training (5515 / 18000 Steps) (loss=0.14362): 100%|██████████| 7/7 [00:08<00:00,  1.21s/it]\n",
      "Training (5522 / 18000 Steps) (loss=0.35191): 100%|██████████| 7/7 [00:07<00:00,  1.14s/it]\n",
      "Training (5529 / 18000 Steps) (loss=0.58729): 100%|██████████| 7/7 [00:08<00:00,  1.23s/it]\n",
      "Training (5536 / 18000 Steps) (loss=0.40507): 100%|██████████| 7/7 [00:08<00:00,  1.17s/it]\n",
      "Training (5543 / 18000 Steps) (loss=0.59746): 100%|██████████| 7/7 [00:08<00:00,  1.28s/it]\n",
      "Training (5550 / 18000 Steps) (loss=0.33536): 100%|██████████| 7/7 [00:08<00:00,  1.18s/it]\n",
      "Training (5557 / 18000 Steps) (loss=0.53485): 100%|██████████| 7/7 [00:09<00:00,  1.29s/it]\n",
      "Training (5564 / 18000 Steps) (loss=0.39078): 100%|██████████| 7/7 [00:09<00:00,  1.29s/it]\n",
      "Training (5571 / 18000 Steps) (loss=0.27987): 100%|██████████| 7/7 [00:09<00:00,  1.29s/it]\n",
      "Training (5578 / 18000 Steps) (loss=0.48781): 100%|██████████| 7/7 [00:08<00:00,  1.20s/it]\n",
      "Training (5585 / 18000 Steps) (loss=0.42959): 100%|██████████| 7/7 [00:09<00:00,  1.29s/it]\n",
      "Training (5592 / 18000 Steps) (loss=0.54225): 100%|██████████| 7/7 [00:09<00:00,  1.37s/it]\n",
      "Training (5599 / 18000 Steps) (loss=0.25412): 100%|██████████| 7/7 [00:08<00:00,  1.25s/it]\n",
      "Validate (5600 / 10 Steps): 100%|██████████| 2/2 [00:06<00:00,  3.01s/it]<?, ?it/s]\n",
      "Training (5600 / 18000 Steps) (loss=0.47557):  14%|█▍        | 1/7 [00:11<01:08, 11.44s/it]"
     ]
    },
    {
     "name": "stdout",
     "output_type": "stream",
     "text": [
      "Model Was Not Saved ! Current Best Avg. Dice: 0.568209171295166 Current Avg. Dice: 0.5531681776046753 Current Avg. tumor Dice: 0.5884770154953003 Current Avg. lymph Dice: 0.5178594589233398\n"
     ]
    },
    {
     "name": "stderr",
     "output_type": "stream",
     "text": [
      "Training (5606 / 18000 Steps) (loss=0.32947): 100%|██████████| 7/7 [00:13<00:00,  1.98s/it]\n",
      "Training (5613 / 18000 Steps) (loss=0.46454): 100%|██████████| 7/7 [00:08<00:00,  1.23s/it]\n",
      "Training (5620 / 18000 Steps) (loss=0.47451): 100%|██████████| 7/7 [00:08<00:00,  1.22s/it]\n",
      "Training (5627 / 18000 Steps) (loss=0.54850): 100%|██████████| 7/7 [00:08<00:00,  1.25s/it]\n",
      "Training (5634 / 18000 Steps) (loss=0.49749): 100%|██████████| 7/7 [00:08<00:00,  1.22s/it]\n",
      "Training (5641 / 18000 Steps) (loss=0.52639): 100%|██████████| 7/7 [00:08<00:00,  1.27s/it]\n",
      "Training (5648 / 18000 Steps) (loss=0.39419): 100%|██████████| 7/7 [00:09<00:00,  1.31s/it]\n",
      "Training (5655 / 18000 Steps) (loss=0.53462): 100%|██████████| 7/7 [00:07<00:00,  1.14s/it]\n",
      "Training (5662 / 18000 Steps) (loss=0.37956): 100%|██████████| 7/7 [00:08<00:00,  1.26s/it]\n",
      "Training (5669 / 18000 Steps) (loss=0.52507): 100%|██████████| 7/7 [00:08<00:00,  1.28s/it]\n",
      "Training (5676 / 18000 Steps) (loss=0.38253): 100%|██████████| 7/7 [00:08<00:00,  1.28s/it]\n",
      "Training (5683 / 18000 Steps) (loss=0.38802): 100%|██████████| 7/7 [00:08<00:00,  1.21s/it]\n",
      "Training (5690 / 18000 Steps) (loss=0.26998): 100%|██████████| 7/7 [00:08<00:00,  1.24s/it]\n",
      "Training (5697 / 18000 Steps) (loss=0.41487): 100%|██████████| 7/7 [00:09<00:00,  1.33s/it]\n",
      "Validate (5698 / 10 Steps): 100%|██████████| 2/2 [00:05<00:00,  2.88s/it]<00:15,  3.11s/it]\n",
      "Training (5700 / 18000 Steps) (loss=0.35461):  43%|████▎     | 3/7 [00:13<00:18,  4.55s/it]"
     ]
    },
    {
     "name": "stdout",
     "output_type": "stream",
     "text": [
      "Model Was Not Saved ! Current Best Avg. Dice: 0.568209171295166 Current Avg. Dice: 0.5378230810165405 Current Avg. tumor Dice: 0.575720489025116 Current Avg. lymph Dice: 0.4999256730079651\n"
     ]
    },
    {
     "name": "stderr",
     "output_type": "stream",
     "text": [
      "Training (5704 / 18000 Steps) (loss=0.41830): 100%|██████████| 7/7 [00:15<00:00,  2.17s/it]\n",
      "Training (5711 / 18000 Steps) (loss=0.26615): 100%|██████████| 7/7 [00:08<00:00,  1.15s/it]\n",
      "Training (5718 / 18000 Steps) (loss=0.17436): 100%|██████████| 7/7 [00:08<00:00,  1.26s/it]\n",
      "Training (5725 / 18000 Steps) (loss=0.48241): 100%|██████████| 7/7 [00:08<00:00,  1.18s/it]\n",
      "Training (5732 / 18000 Steps) (loss=0.42930): 100%|██████████| 7/7 [00:08<00:00,  1.28s/it]\n",
      "Training (5739 / 18000 Steps) (loss=0.32664): 100%|██████████| 7/7 [00:07<00:00,  1.12s/it]\n",
      "Training (5746 / 18000 Steps) (loss=0.39805): 100%|██████████| 7/7 [00:08<00:00,  1.20s/it]\n",
      "Training (5753 / 18000 Steps) (loss=0.42250): 100%|██████████| 7/7 [00:08<00:00,  1.22s/it]\n",
      "Training (5760 / 18000 Steps) (loss=0.28638): 100%|██████████| 7/7 [00:08<00:00,  1.27s/it]\n",
      "Training (5767 / 18000 Steps) (loss=0.39085): 100%|██████████| 7/7 [00:08<00:00,  1.23s/it]\n",
      "Training (5774 / 18000 Steps) (loss=0.32605): 100%|██████████| 7/7 [00:08<00:00,  1.20s/it]\n",
      "Training (5781 / 18000 Steps) (loss=0.45479): 100%|██████████| 7/7 [00:08<00:00,  1.25s/it]\n",
      "Training (5788 / 18000 Steps) (loss=0.59992): 100%|██████████| 7/7 [00:08<00:00,  1.20s/it]\n",
      "Training (5795 / 18000 Steps) (loss=0.57505): 100%|██████████| 7/7 [00:07<00:00,  1.09s/it]\n",
      "Validate (5796 / 10 Steps): 100%|██████████| 2/2 [00:05<00:00,  2.87s/it]<00:03,  1.24s/it]\n",
      "Training (5800 / 18000 Steps) (loss=0.33350):  71%|███████▏  | 5/7 [00:13<00:06,  3.05s/it]"
     ]
    },
    {
     "name": "stdout",
     "output_type": "stream",
     "text": [
      "Model Was Not Saved ! Current Best Avg. Dice: 0.568209171295166 Current Avg. Dice: 0.5264645218849182 Current Avg. tumor Dice: 0.5815449953079224 Current Avg. lymph Dice: 0.4713840186595917\n"
     ]
    },
    {
     "name": "stderr",
     "output_type": "stream",
     "text": [
      "Training (5802 / 18000 Steps) (loss=0.19947): 100%|██████████| 7/7 [00:14<00:00,  2.07s/it]\n",
      "Training (5809 / 18000 Steps) (loss=0.17985): 100%|██████████| 7/7 [00:09<00:00,  1.36s/it]\n",
      "Training (5816 / 18000 Steps) (loss=0.54679): 100%|██████████| 7/7 [00:08<00:00,  1.21s/it]\n",
      "Training (5823 / 18000 Steps) (loss=0.45028): 100%|██████████| 7/7 [00:08<00:00,  1.28s/it]\n",
      "Training (5830 / 18000 Steps) (loss=0.45218): 100%|██████████| 7/7 [00:08<00:00,  1.21s/it]\n",
      "Training (5837 / 18000 Steps) (loss=0.24782): 100%|██████████| 7/7 [00:08<00:00,  1.16s/it]\n",
      "Training (5844 / 18000 Steps) (loss=0.22446): 100%|██████████| 7/7 [00:08<00:00,  1.16s/it]\n",
      "Training (5851 / 18000 Steps) (loss=0.48975): 100%|██████████| 7/7 [00:08<00:00,  1.23s/it]\n",
      "Training (5858 / 18000 Steps) (loss=0.16096): 100%|██████████| 7/7 [00:09<00:00,  1.32s/it]\n",
      "Training (5865 / 18000 Steps) (loss=0.40183): 100%|██████████| 7/7 [00:07<00:00,  1.13s/it]\n",
      "Training (5872 / 18000 Steps) (loss=0.30962): 100%|██████████| 7/7 [00:08<00:00,  1.21s/it]\n",
      "Training (5879 / 18000 Steps) (loss=0.27750): 100%|██████████| 7/7 [00:08<00:00,  1.21s/it]\n",
      "Training (5886 / 18000 Steps) (loss=0.30519): 100%|██████████| 7/7 [00:08<00:00,  1.15s/it]\n",
      "Training (5893 / 18000 Steps) (loss=0.34440): 100%|██████████| 7/7 [00:08<00:00,  1.22s/it]\n",
      "Validate (5894 / 10 Steps): 100%|██████████| 2/2 [00:05<00:00,  2.87s/it]<00:00,  1.30it/s]\n",
      "Training (5900 / 18000 Steps) (loss=0.42259): 100%|██████████| 7/7 [00:14<00:00,  2.12s/it]\n"
     ]
    },
    {
     "name": "stdout",
     "output_type": "stream",
     "text": [
      "Model Was Not Saved ! Current Best Avg. Dice: 0.568209171295166 Current Avg. Dice: 0.5217550992965698 Current Avg. tumor Dice: 0.5507955551147461 Current Avg. lymph Dice: 0.49271464347839355\n"
     ]
    },
    {
     "name": "stderr",
     "output_type": "stream",
     "text": [
      "Training (5907 / 18000 Steps) (loss=0.51772): 100%|██████████| 7/7 [00:08<00:00,  1.28s/it]\n",
      "Training (5914 / 18000 Steps) (loss=0.33614): 100%|██████████| 7/7 [00:09<00:00,  1.33s/it]\n",
      "Training (5921 / 18000 Steps) (loss=0.34794): 100%|██████████| 7/7 [00:09<00:00,  1.32s/it]\n",
      "Training (5928 / 18000 Steps) (loss=0.27802): 100%|██████████| 7/7 [00:08<00:00,  1.28s/it]\n",
      "Training (5935 / 18000 Steps) (loss=0.39069): 100%|██████████| 7/7 [00:08<00:00,  1.16s/it]\n",
      "Training (5942 / 18000 Steps) (loss=0.49263): 100%|██████████| 7/7 [00:08<00:00,  1.19s/it]\n",
      "Training (5949 / 18000 Steps) (loss=0.32157): 100%|██████████| 7/7 [00:08<00:00,  1.18s/it]\n",
      "Training (5956 / 18000 Steps) (loss=0.43817): 100%|██████████| 7/7 [00:08<00:00,  1.26s/it]\n",
      "Training (5963 / 18000 Steps) (loss=0.45372): 100%|██████████| 7/7 [00:08<00:00,  1.27s/it]\n",
      "Training (5970 / 18000 Steps) (loss=0.25804): 100%|██████████| 7/7 [00:09<00:00,  1.29s/it]\n",
      "Training (5977 / 18000 Steps) (loss=0.49123): 100%|██████████| 7/7 [00:09<00:00,  1.29s/it]\n",
      "Training (5984 / 18000 Steps) (loss=0.48234): 100%|██████████| 7/7 [00:08<00:00,  1.17s/it]\n",
      "Training (5991 / 18000 Steps) (loss=0.41053): 100%|██████████| 7/7 [00:08<00:00,  1.20s/it]\n",
      "Training (5998 / 18000 Steps) (loss=0.47704): 100%|██████████| 7/7 [00:09<00:00,  1.29s/it]\n",
      "Validate (5999 / 10 Steps): 100%|██████████| 2/2 [00:05<00:00,  2.92s/it]<00:37,  6.19s/it]\n",
      "Training (6000 / 18000 Steps) (loss=0.38117):  29%|██▊       | 2/7 [00:12<00:31,  6.29s/it]"
     ]
    },
    {
     "name": "stdout",
     "output_type": "stream",
     "text": [
      "Model Was Not Saved ! Current Best Avg. Dice: 0.568209171295166 Current Avg. Dice: 0.5402511358261108 Current Avg. tumor Dice: 0.567133903503418 Current Avg. lymph Dice: 0.5133683681488037\n"
     ]
    },
    {
     "name": "stderr",
     "output_type": "stream",
     "text": [
      "Training (6005 / 18000 Steps) (loss=0.54806): 100%|██████████| 7/7 [00:14<00:00,  2.08s/it]\n",
      "Training (6012 / 18000 Steps) (loss=0.52593): 100%|██████████| 7/7 [00:08<00:00,  1.22s/it]\n",
      "Training (6019 / 18000 Steps) (loss=0.25540): 100%|██████████| 7/7 [00:08<00:00,  1.22s/it]\n",
      "Training (6026 / 18000 Steps) (loss=0.28843): 100%|██████████| 7/7 [00:08<00:00,  1.21s/it]\n",
      "Training (6033 / 18000 Steps) (loss=0.39669): 100%|██████████| 7/7 [00:08<00:00,  1.19s/it]\n",
      "Training (6040 / 18000 Steps) (loss=0.28937): 100%|██████████| 7/7 [00:08<00:00,  1.27s/it]\n",
      "Training (6047 / 18000 Steps) (loss=0.27332): 100%|██████████| 7/7 [00:08<00:00,  1.20s/it]\n",
      "Training (6054 / 18000 Steps) (loss=0.13410): 100%|██████████| 7/7 [00:08<00:00,  1.26s/it]\n",
      "Training (6061 / 18000 Steps) (loss=0.11912): 100%|██████████| 7/7 [00:08<00:00,  1.23s/it]\n",
      "Training (6068 / 18000 Steps) (loss=0.40074): 100%|██████████| 7/7 [00:08<00:00,  1.23s/it]\n",
      "Training (6075 / 18000 Steps) (loss=0.13506): 100%|██████████| 7/7 [00:08<00:00,  1.24s/it]\n",
      "Training (6082 / 18000 Steps) (loss=0.36576): 100%|██████████| 7/7 [00:08<00:00,  1.25s/it]\n",
      "Training (6089 / 18000 Steps) (loss=0.33743): 100%|██████████| 7/7 [00:08<00:00,  1.26s/it]\n",
      "Training (6096 / 18000 Steps) (loss=0.44797): 100%|██████████| 7/7 [00:09<00:00,  1.31s/it]\n",
      "Validate (6097 / 10 Steps): 100%|██████████| 2/2 [00:05<00:00,  2.92s/it]<00:06,  1.55s/it]\n",
      "Training (6100 / 18000 Steps) (loss=0.47409):  57%|█████▋    | 4/7 [00:12<00:10,  3.45s/it]"
     ]
    },
    {
     "name": "stdout",
     "output_type": "stream",
     "text": [
      "Model Was Not Saved ! Current Best Avg. Dice: 0.568209171295166 Current Avg. Dice: 0.5023173093795776 Current Avg. tumor Dice: 0.5472586154937744 Current Avg. lymph Dice: 0.4573758840560913\n"
     ]
    },
    {
     "name": "stderr",
     "output_type": "stream",
     "text": [
      "Training (6103 / 18000 Steps) (loss=0.47202): 100%|██████████| 7/7 [00:13<00:00,  1.98s/it]\n",
      "Training (6110 / 18000 Steps) (loss=0.37217): 100%|██████████| 7/7 [00:09<00:00,  1.40s/it]\n",
      "Training (6117 / 18000 Steps) (loss=0.42780): 100%|██████████| 7/7 [00:08<00:00,  1.16s/it]\n",
      "Training (6124 / 18000 Steps) (loss=0.45594): 100%|██████████| 7/7 [00:09<00:00,  1.40s/it]\n",
      "Training (6131 / 18000 Steps) (loss=0.45280): 100%|██████████| 7/7 [00:08<00:00,  1.18s/it]\n",
      "Training (6138 / 18000 Steps) (loss=0.43447): 100%|██████████| 7/7 [00:09<00:00,  1.32s/it]\n",
      "Training (6145 / 18000 Steps) (loss=0.22764): 100%|██████████| 7/7 [00:09<00:00,  1.34s/it]\n",
      "Training (6152 / 18000 Steps) (loss=0.54077): 100%|██████████| 7/7 [00:09<00:00,  1.33s/it]\n",
      "Training (6159 / 18000 Steps) (loss=0.34129): 100%|██████████| 7/7 [00:08<00:00,  1.16s/it]\n",
      "Training (6166 / 18000 Steps) (loss=0.48641): 100%|██████████| 7/7 [00:08<00:00,  1.24s/it]\n",
      "Training (6173 / 18000 Steps) (loss=0.46695): 100%|██████████| 7/7 [00:09<00:00,  1.35s/it]\n",
      "Training (6180 / 18000 Steps) (loss=0.27464): 100%|██████████| 7/7 [00:08<00:00,  1.29s/it]\n",
      "Training (6187 / 18000 Steps) (loss=0.40210): 100%|██████████| 7/7 [00:09<00:00,  1.30s/it]\n",
      "Training (6194 / 18000 Steps) (loss=0.36471): 100%|██████████| 7/7 [00:08<00:00,  1.23s/it]\n",
      "Validate (6195 / 10 Steps): 100%|██████████| 2/2 [00:05<00:00,  2.86s/it]<00:01,  1.10it/s]\n",
      "Training (6200 / 18000 Steps) (loss=0.24751):  86%|████████▌ | 6/7 [00:14<00:02,  2.72s/it]"
     ]
    },
    {
     "name": "stdout",
     "output_type": "stream",
     "text": [
      "Model Was Not Saved ! Current Best Avg. Dice: 0.568209171295166 Current Avg. Dice: 0.48891863226890564 Current Avg. tumor Dice: 0.5024133324623108 Current Avg. lymph Dice: 0.4754239618778229\n"
     ]
    },
    {
     "name": "stderr",
     "output_type": "stream",
     "text": [
      "Training (6201 / 18000 Steps) (loss=0.30125): 100%|██████████| 7/7 [00:14<00:00,  2.05s/it]\n",
      "Training (6208 / 18000 Steps) (loss=0.20685): 100%|██████████| 7/7 [00:08<00:00,  1.18s/it]\n",
      "Training (6215 / 18000 Steps) (loss=0.39652): 100%|██████████| 7/7 [00:09<00:00,  1.34s/it]\n",
      "Training (6222 / 18000 Steps) (loss=0.33183): 100%|██████████| 7/7 [00:08<00:00,  1.23s/it]\n",
      "Training (6229 / 18000 Steps) (loss=0.45216): 100%|██████████| 7/7 [00:08<00:00,  1.19s/it]\n",
      "Training (6236 / 18000 Steps) (loss=0.43949): 100%|██████████| 7/7 [00:08<00:00,  1.25s/it]\n",
      "Training (6243 / 18000 Steps) (loss=0.30694): 100%|██████████| 7/7 [00:08<00:00,  1.18s/it]\n",
      "Training (6250 / 18000 Steps) (loss=0.42528): 100%|██████████| 7/7 [00:09<00:00,  1.32s/it]\n",
      "Training (6257 / 18000 Steps) (loss=0.48804): 100%|██████████| 7/7 [00:08<00:00,  1.23s/it]\n",
      "Training (6264 / 18000 Steps) (loss=0.29422): 100%|██████████| 7/7 [00:08<00:00,  1.17s/it]\n",
      "Training (6271 / 18000 Steps) (loss=0.30527): 100%|██████████| 7/7 [00:08<00:00,  1.18s/it]\n",
      "Training (6278 / 18000 Steps) (loss=0.38035): 100%|██████████| 7/7 [00:09<00:00,  1.30s/it]\n",
      "Training (6285 / 18000 Steps) (loss=0.19061): 100%|██████████| 7/7 [00:08<00:00,  1.22s/it]\n",
      "Training (6292 / 18000 Steps) (loss=0.35784): 100%|██████████| 7/7 [00:08<00:00,  1.25s/it]\n",
      "Training (6299 / 18000 Steps) (loss=0.16284): 100%|██████████| 7/7 [00:08<00:00,  1.22s/it]\n",
      "Validate (6300 / 10 Steps): 100%|██████████| 2/2 [00:05<00:00,  2.89s/it]<?, ?it/s]\n",
      "Training (6300 / 18000 Steps) (loss=0.37610):  14%|█▍        | 1/7 [00:11<01:10, 11.72s/it]"
     ]
    },
    {
     "name": "stdout",
     "output_type": "stream",
     "text": [
      "Model Was Not Saved ! Current Best Avg. Dice: 0.568209171295166 Current Avg. Dice: 0.5182840824127197 Current Avg. tumor Dice: 0.5450894832611084 Current Avg. lymph Dice: 0.4914786219596863\n"
     ]
    },
    {
     "name": "stderr",
     "output_type": "stream",
     "text": [
      "Training (6306 / 18000 Steps) (loss=0.45354): 100%|██████████| 7/7 [00:14<00:00,  2.02s/it]\n",
      "Training (6313 / 18000 Steps) (loss=0.24910): 100%|██████████| 7/7 [00:09<00:00,  1.39s/it]\n",
      "Training (6320 / 18000 Steps) (loss=0.25495): 100%|██████████| 7/7 [00:08<00:00,  1.24s/it]\n",
      "Training (6327 / 18000 Steps) (loss=0.25563): 100%|██████████| 7/7 [00:08<00:00,  1.28s/it]\n",
      "Training (6334 / 18000 Steps) (loss=0.38898): 100%|██████████| 7/7 [00:08<00:00,  1.25s/it]\n",
      "Training (6341 / 18000 Steps) (loss=0.25756): 100%|██████████| 7/7 [00:08<00:00,  1.18s/it]\n",
      "Training (6348 / 18000 Steps) (loss=0.34364): 100%|██████████| 7/7 [00:09<00:00,  1.29s/it]\n",
      "Training (6355 / 18000 Steps) (loss=0.28341): 100%|██████████| 7/7 [00:09<00:00,  1.29s/it]\n",
      "Training (6362 / 18000 Steps) (loss=0.40996): 100%|██████████| 7/7 [00:08<00:00,  1.23s/it]\n",
      "Training (6369 / 18000 Steps) (loss=0.47979): 100%|██████████| 7/7 [00:08<00:00,  1.22s/it]\n",
      "Training (6376 / 18000 Steps) (loss=0.21396): 100%|██████████| 7/7 [00:08<00:00,  1.25s/it]\n",
      "Training (6383 / 18000 Steps) (loss=0.62655): 100%|██████████| 7/7 [00:08<00:00,  1.15s/it]\n",
      "Training (6390 / 18000 Steps) (loss=0.62605): 100%|██████████| 7/7 [00:08<00:00,  1.19s/it]\n",
      "Training (6397 / 18000 Steps) (loss=0.31567): 100%|██████████| 7/7 [00:09<00:00,  1.36s/it]\n",
      "Validate (6398 / 10 Steps): 100%|██████████| 2/2 [00:05<00:00,  2.82s/it]<00:13,  2.68s/it]\n",
      "Training (6400 / 18000 Steps) (loss=0.18980):  43%|████▎     | 3/7 [00:12<00:18,  4.50s/it]"
     ]
    },
    {
     "name": "stdout",
     "output_type": "stream",
     "text": [
      "Model Was Not Saved ! Current Best Avg. Dice: 0.568209171295166 Current Avg. Dice: 0.516059160232544 Current Avg. tumor Dice: 0.5736280679702759 Current Avg. lymph Dice: 0.4584903120994568\n"
     ]
    },
    {
     "name": "stderr",
     "output_type": "stream",
     "text": [
      "Training (6404 / 18000 Steps) (loss=0.40986): 100%|██████████| 7/7 [00:14<00:00,  2.06s/it]\n",
      "Training (6411 / 18000 Steps) (loss=0.28777): 100%|██████████| 7/7 [00:07<00:00,  1.14s/it]\n",
      "Training (6418 / 18000 Steps) (loss=0.25726): 100%|██████████| 7/7 [00:07<00:00,  1.13s/it]\n",
      "Training (6425 / 18000 Steps) (loss=0.48633): 100%|██████████| 7/7 [00:08<00:00,  1.18s/it]\n",
      "Training (6432 / 18000 Steps) (loss=0.17315): 100%|██████████| 7/7 [00:08<00:00,  1.26s/it]\n",
      "Training (6439 / 18000 Steps) (loss=0.35067): 100%|██████████| 7/7 [00:08<00:00,  1.22s/it]\n",
      "Training (6446 / 18000 Steps) (loss=0.29599): 100%|██████████| 7/7 [00:08<00:00,  1.17s/it]\n",
      "Training (6453 / 18000 Steps) (loss=0.37172): 100%|██████████| 7/7 [00:08<00:00,  1.22s/it]\n",
      "Training (6460 / 18000 Steps) (loss=0.44177): 100%|██████████| 7/7 [00:09<00:00,  1.36s/it]\n",
      "Training (6467 / 18000 Steps) (loss=0.19594): 100%|██████████| 7/7 [00:09<00:00,  1.31s/it]\n",
      "Training (6474 / 18000 Steps) (loss=0.31733): 100%|██████████| 7/7 [00:08<00:00,  1.28s/it]\n",
      "Training (6481 / 18000 Steps) (loss=0.15263): 100%|██████████| 7/7 [00:09<00:00,  1.29s/it]\n",
      "Training (6488 / 18000 Steps) (loss=0.27578): 100%|██████████| 7/7 [00:08<00:00,  1.15s/it]\n",
      "Training (6495 / 18000 Steps) (loss=0.16890): 100%|██████████| 7/7 [00:09<00:00,  1.30s/it]\n",
      "Validate (6496 / 10 Steps): 100%|██████████| 2/2 [00:05<00:00,  2.89s/it]<00:03,  1.17s/it]\n",
      "Training (6500 / 18000 Steps) (loss=0.40717):  71%|███████▏  | 5/7 [00:13<00:06,  3.02s/it]"
     ]
    },
    {
     "name": "stdout",
     "output_type": "stream",
     "text": [
      "Model Was Not Saved ! Current Best Avg. Dice: 0.568209171295166 Current Avg. Dice: 0.5256309509277344 Current Avg. tumor Dice: 0.5991742014884949 Current Avg. lymph Dice: 0.45208775997161865\n"
     ]
    },
    {
     "name": "stderr",
     "output_type": "stream",
     "text": [
      "Training (6502 / 18000 Steps) (loss=0.28661): 100%|██████████| 7/7 [00:14<00:00,  2.04s/it]\n",
      "Training (6509 / 18000 Steps) (loss=0.54719): 100%|██████████| 7/7 [00:08<00:00,  1.27s/it]\n",
      "Training (6516 / 18000 Steps) (loss=0.12916): 100%|██████████| 7/7 [00:08<00:00,  1.28s/it]\n",
      "Training (6523 / 18000 Steps) (loss=0.23735): 100%|██████████| 7/7 [00:09<00:00,  1.29s/it]\n",
      "Training (6530 / 18000 Steps) (loss=0.53223): 100%|██████████| 7/7 [00:08<00:00,  1.21s/it]\n",
      "Training (6537 / 18000 Steps) (loss=0.24923): 100%|██████████| 7/7 [00:09<00:00,  1.38s/it]\n",
      "Training (6544 / 18000 Steps) (loss=0.41334): 100%|██████████| 7/7 [00:08<00:00,  1.16s/it]\n",
      "Training (6551 / 18000 Steps) (loss=0.31666): 100%|██████████| 7/7 [00:09<00:00,  1.33s/it]\n",
      "Training (6558 / 18000 Steps) (loss=0.25121): 100%|██████████| 7/7 [00:08<00:00,  1.28s/it]\n",
      "Training (6565 / 18000 Steps) (loss=0.42021): 100%|██████████| 7/7 [00:09<00:00,  1.31s/it]\n",
      "Training (6572 / 18000 Steps) (loss=0.15599): 100%|██████████| 7/7 [00:08<00:00,  1.20s/it]\n",
      "Training (6579 / 18000 Steps) (loss=0.60343): 100%|██████████| 7/7 [00:08<00:00,  1.19s/it]\n",
      "Training (6586 / 18000 Steps) (loss=0.41462): 100%|██████████| 7/7 [00:08<00:00,  1.23s/it]\n",
      "Training (6593 / 18000 Steps) (loss=0.27138): 100%|██████████| 7/7 [00:09<00:00,  1.33s/it]\n",
      "Validate (6594 / 10 Steps): 100%|██████████| 2/2 [00:05<00:00,  2.90s/it]<00:00,  1.23it/s]\n",
      "Training (6600 / 18000 Steps) (loss=0.27109): 100%|██████████| 7/7 [00:15<00:00,  2.23s/it]\n"
     ]
    },
    {
     "name": "stdout",
     "output_type": "stream",
     "text": [
      "Model Was Not Saved ! Current Best Avg. Dice: 0.568209171295166 Current Avg. Dice: 0.5130259394645691 Current Avg. tumor Dice: 0.5634940266609192 Current Avg. lymph Dice: 0.4625578820705414\n"
     ]
    },
    {
     "name": "stderr",
     "output_type": "stream",
     "text": [
      "Training (6607 / 18000 Steps) (loss=0.44355): 100%|██████████| 7/7 [00:08<00:00,  1.19s/it]\n",
      "Training (6614 / 18000 Steps) (loss=0.39771): 100%|██████████| 7/7 [00:08<00:00,  1.22s/it]\n",
      "Training (6621 / 18000 Steps) (loss=0.35908): 100%|██████████| 7/7 [00:08<00:00,  1.17s/it]\n",
      "Training (6628 / 18000 Steps) (loss=0.26059): 100%|██████████| 7/7 [00:09<00:00,  1.29s/it]\n",
      "Training (6635 / 18000 Steps) (loss=0.30690): 100%|██████████| 7/7 [00:09<00:00,  1.36s/it]\n",
      "Training (6642 / 18000 Steps) (loss=0.32795): 100%|██████████| 7/7 [00:09<00:00,  1.36s/it]\n",
      "Training (6649 / 18000 Steps) (loss=0.14217): 100%|██████████| 7/7 [00:08<00:00,  1.27s/it]\n",
      "Training (6656 / 18000 Steps) (loss=0.53105): 100%|██████████| 7/7 [00:08<00:00,  1.16s/it]\n",
      "Training (6663 / 18000 Steps) (loss=0.26854): 100%|██████████| 7/7 [00:08<00:00,  1.25s/it]\n",
      "Training (6670 / 18000 Steps) (loss=0.28144): 100%|██████████| 7/7 [00:08<00:00,  1.27s/it]\n",
      "Training (6677 / 18000 Steps) (loss=0.25151): 100%|██████████| 7/7 [00:08<00:00,  1.17s/it]\n",
      "Training (6684 / 18000 Steps) (loss=0.54752): 100%|██████████| 7/7 [00:08<00:00,  1.25s/it]\n",
      "Training (6691 / 18000 Steps) (loss=0.27056): 100%|██████████| 7/7 [00:09<00:00,  1.30s/it]\n",
      "Training (6698 / 18000 Steps) (loss=0.13961): 100%|██████████| 7/7 [00:09<00:00,  1.31s/it]\n",
      "Validate (6699 / 10 Steps): 100%|██████████| 2/2 [00:05<00:00,  2.89s/it]<00:31,  5.31s/it]\n",
      "Training (6700 / 18000 Steps) (loss=0.40748):  29%|██▊       | 2/7 [00:12<00:33,  6.60s/it]"
     ]
    },
    {
     "name": "stdout",
     "output_type": "stream",
     "text": [
      "Model Was Not Saved ! Current Best Avg. Dice: 0.568209171295166 Current Avg. Dice: 0.482624351978302 Current Avg. tumor Dice: 0.5406469106674194 Current Avg. lymph Dice: 0.42460179328918457\n"
     ]
    },
    {
     "name": "stderr",
     "output_type": "stream",
     "text": [
      "Training (6705 / 18000 Steps) (loss=0.35221): 100%|██████████| 7/7 [00:14<00:00,  2.11s/it]\n",
      "Training (6712 / 18000 Steps) (loss=0.42054): 100%|██████████| 7/7 [00:08<00:00,  1.17s/it]\n",
      "Training (6719 / 18000 Steps) (loss=0.13479): 100%|██████████| 7/7 [00:08<00:00,  1.23s/it]\n",
      "Training (6726 / 18000 Steps) (loss=0.60433): 100%|██████████| 7/7 [00:08<00:00,  1.16s/it]\n",
      "Training (6733 / 18000 Steps) (loss=0.24865): 100%|██████████| 7/7 [00:08<00:00,  1.21s/it]\n",
      "Training (6740 / 18000 Steps) (loss=0.52707): 100%|██████████| 7/7 [00:08<00:00,  1.24s/it]\n",
      "Training (6747 / 18000 Steps) (loss=0.60028): 100%|██████████| 7/7 [00:08<00:00,  1.26s/it]\n",
      "Training (6754 / 18000 Steps) (loss=0.18240): 100%|██████████| 7/7 [00:08<00:00,  1.21s/it]\n",
      "Training (6761 / 18000 Steps) (loss=0.26217): 100%|██████████| 7/7 [00:08<00:00,  1.25s/it]\n",
      "Training (6768 / 18000 Steps) (loss=0.32619): 100%|██████████| 7/7 [00:08<00:00,  1.27s/it]\n",
      "Training (6775 / 18000 Steps) (loss=0.31857): 100%|██████████| 7/7 [00:08<00:00,  1.25s/it]\n",
      "Training (6782 / 18000 Steps) (loss=0.34883): 100%|██████████| 7/7 [00:09<00:00,  1.29s/it]\n",
      "Training (6789 / 18000 Steps) (loss=0.27226): 100%|██████████| 7/7 [00:08<00:00,  1.23s/it]\n",
      "Training (6796 / 18000 Steps) (loss=0.40125): 100%|██████████| 7/7 [00:08<00:00,  1.26s/it]\n",
      "Validate (6797 / 10 Steps): 100%|██████████| 2/2 [00:05<00:00,  2.88s/it]<00:07,  1.80s/it]\n",
      "Training (6800 / 18000 Steps) (loss=0.44792):  57%|█████▋    | 4/7 [00:13<00:10,  3.56s/it]"
     ]
    },
    {
     "name": "stdout",
     "output_type": "stream",
     "text": [
      "Model Was Not Saved ! Current Best Avg. Dice: 0.568209171295166 Current Avg. Dice: 0.5201798677444458 Current Avg. tumor Dice: 0.5782791376113892 Current Avg. lymph Dice: 0.4620806574821472\n"
     ]
    },
    {
     "name": "stderr",
     "output_type": "stream",
     "text": [
      "Training (6803 / 18000 Steps) (loss=0.31813): 100%|██████████| 7/7 [00:14<00:00,  2.12s/it]\n",
      "Training (6810 / 18000 Steps) (loss=0.32575): 100%|██████████| 7/7 [00:07<00:00,  1.13s/it]\n",
      "Training (6817 / 18000 Steps) (loss=0.46736): 100%|██████████| 7/7 [00:08<00:00,  1.22s/it]\n",
      "Training (6824 / 18000 Steps) (loss=0.21288): 100%|██████████| 7/7 [00:08<00:00,  1.15s/it]\n",
      "Training (6831 / 18000 Steps) (loss=0.36976): 100%|██████████| 7/7 [00:08<00:00,  1.15s/it]\n",
      "Training (6838 / 18000 Steps) (loss=0.42871): 100%|██████████| 7/7 [00:08<00:00,  1.25s/it]\n",
      "Training (6845 / 18000 Steps) (loss=0.55728): 100%|██████████| 7/7 [00:09<00:00,  1.33s/it]\n",
      "Training (6852 / 18000 Steps) (loss=0.30144): 100%|██████████| 7/7 [00:08<00:00,  1.22s/it]\n",
      "Training (6859 / 18000 Steps) (loss=0.28113): 100%|██████████| 7/7 [00:08<00:00,  1.16s/it]\n",
      "Training (6866 / 18000 Steps) (loss=0.41494): 100%|██████████| 7/7 [00:09<00:00,  1.37s/it]\n",
      "Training (6873 / 18000 Steps) (loss=0.40594): 100%|██████████| 7/7 [00:08<00:00,  1.17s/it]\n",
      "Training (6880 / 18000 Steps) (loss=0.49787): 100%|██████████| 7/7 [00:09<00:00,  1.29s/it]\n",
      "Training (6887 / 18000 Steps) (loss=0.46246): 100%|██████████| 7/7 [00:08<00:00,  1.28s/it]\n",
      "Training (6894 / 18000 Steps) (loss=0.39088): 100%|██████████| 7/7 [00:08<00:00,  1.26s/it]\n",
      "Validate (6895 / 10 Steps): 100%|██████████| 2/2 [00:05<00:00,  2.87s/it]<00:01,  1.09it/s]\n",
      "Training (6900 / 18000 Steps) (loss=0.42163):  86%|████████▌ | 6/7 [00:14<00:02,  2.72s/it]"
     ]
    },
    {
     "name": "stdout",
     "output_type": "stream",
     "text": [
      "Model Was Not Saved ! Current Best Avg. Dice: 0.568209171295166 Current Avg. Dice: 0.5289345383644104 Current Avg. tumor Dice: 0.5743932127952576 Current Avg. lymph Dice: 0.48347586393356323\n"
     ]
    },
    {
     "name": "stderr",
     "output_type": "stream",
     "text": [
      "Training (6901 / 18000 Steps) (loss=0.25828): 100%|██████████| 7/7 [00:14<00:00,  2.06s/it]\n",
      "Training (6908 / 18000 Steps) (loss=0.52441): 100%|██████████| 7/7 [00:08<00:00,  1.19s/it]\n",
      "Training (6915 / 18000 Steps) (loss=0.38783): 100%|██████████| 7/7 [00:08<00:00,  1.17s/it]\n",
      "Training (6922 / 18000 Steps) (loss=0.39641): 100%|██████████| 7/7 [00:09<00:00,  1.30s/it]\n",
      "Training (6929 / 18000 Steps) (loss=0.13479): 100%|██████████| 7/7 [00:08<00:00,  1.22s/it]\n",
      "Training (6936 / 18000 Steps) (loss=0.40918): 100%|██████████| 7/7 [00:08<00:00,  1.23s/it]\n",
      "Training (6943 / 18000 Steps) (loss=0.25300): 100%|██████████| 7/7 [00:08<00:00,  1.28s/it]\n",
      "Training (6950 / 18000 Steps) (loss=0.14765): 100%|██████████| 7/7 [00:09<00:00,  1.34s/it]\n",
      "Training (6957 / 18000 Steps) (loss=0.26109): 100%|██████████| 7/7 [00:09<00:00,  1.35s/it]\n",
      "Training (6964 / 18000 Steps) (loss=0.29368): 100%|██████████| 7/7 [00:08<00:00,  1.21s/it]\n",
      "Training (6971 / 18000 Steps) (loss=0.59961): 100%|██████████| 7/7 [00:08<00:00,  1.18s/it]\n",
      "Training (6978 / 18000 Steps) (loss=0.30006): 100%|██████████| 7/7 [00:08<00:00,  1.21s/it]\n",
      "Training (6985 / 18000 Steps) (loss=0.24248): 100%|██████████| 7/7 [00:08<00:00,  1.17s/it]\n",
      "Training (6992 / 18000 Steps) (loss=0.34517): 100%|██████████| 7/7 [00:08<00:00,  1.16s/it]\n",
      "Training (6999 / 18000 Steps) (loss=0.26654): 100%|██████████| 7/7 [00:08<00:00,  1.14s/it]\n",
      "Validate (7000 / 10 Steps): 100%|██████████| 2/2 [00:05<00:00,  2.84s/it]<?, ?it/s]\n",
      "Training (7000 / 18000 Steps) (loss=0.31840):  14%|█▍        | 1/7 [00:11<01:08, 11.44s/it]"
     ]
    },
    {
     "name": "stdout",
     "output_type": "stream",
     "text": [
      "Model Was Not Saved ! Current Best Avg. Dice: 0.568209171295166 Current Avg. Dice: 0.53643798828125 Current Avg. tumor Dice: 0.6009154319763184 Current Avg. lymph Dice: 0.47196054458618164\n"
     ]
    },
    {
     "name": "stderr",
     "output_type": "stream",
     "text": [
      "Training (7006 / 18000 Steps) (loss=0.41375): 100%|██████████| 7/7 [00:13<00:00,  1.98s/it]\n",
      "Training (7013 / 18000 Steps) (loss=0.28088): 100%|██████████| 7/7 [00:09<00:00,  1.36s/it]\n",
      "Training (7020 / 18000 Steps) (loss=0.31324): 100%|██████████| 7/7 [00:09<00:00,  1.29s/it]\n",
      "Training (7027 / 18000 Steps) (loss=0.53331): 100%|██████████| 7/7 [00:09<00:00,  1.35s/it]\n",
      "Training (7034 / 18000 Steps) (loss=0.40030): 100%|██████████| 7/7 [00:08<00:00,  1.26s/it]\n",
      "Training (7041 / 18000 Steps) (loss=0.39795): 100%|██████████| 7/7 [00:07<00:00,  1.07s/it]\n",
      "Training (7048 / 18000 Steps) (loss=0.46402): 100%|██████████| 7/7 [00:08<00:00,  1.28s/it]\n",
      "Training (7055 / 18000 Steps) (loss=0.36066): 100%|██████████| 7/7 [00:08<00:00,  1.27s/it]\n",
      "Training (7062 / 18000 Steps) (loss=0.24829): 100%|██████████| 7/7 [00:08<00:00,  1.19s/it]\n",
      "Training (7069 / 18000 Steps) (loss=0.21981): 100%|██████████| 7/7 [00:09<00:00,  1.31s/it]\n",
      "Training (7076 / 18000 Steps) (loss=0.40155): 100%|██████████| 7/7 [00:08<00:00,  1.25s/it]\n",
      "Training (7083 / 18000 Steps) (loss=0.40596): 100%|██████████| 7/7 [00:09<00:00,  1.31s/it]\n",
      "Training (7090 / 18000 Steps) (loss=0.21435): 100%|██████████| 7/7 [00:09<00:00,  1.29s/it]\n",
      "Training (7097 / 18000 Steps) (loss=0.40342): 100%|██████████| 7/7 [00:08<00:00,  1.28s/it]\n",
      "Validate (7098 / 10 Steps): 100%|██████████| 2/2 [00:05<00:00,  2.77s/it]<00:13,  2.72s/it]\n",
      "Training (7100 / 18000 Steps) (loss=0.28669):  43%|████▎     | 3/7 [00:13<00:18,  4.57s/it]"
     ]
    },
    {
     "name": "stdout",
     "output_type": "stream",
     "text": [
      "Model Was Saved ! Current Best Avg. Dice: 0.57095867395401 Current Avg. Dice: 0.57095867395401 Current Avg. tumor Dice: 0.613454282283783 Current Avg. lymph Dice: 0.5284630656242371\n"
     ]
    },
    {
     "name": "stderr",
     "output_type": "stream",
     "text": [
      "Training (7104 / 18000 Steps) (loss=0.27158): 100%|██████████| 7/7 [00:14<00:00,  2.11s/it]\n",
      "Training (7111 / 18000 Steps) (loss=0.45573): 100%|██████████| 7/7 [00:09<00:00,  1.32s/it]\n",
      "Training (7118 / 18000 Steps) (loss=0.28536): 100%|██████████| 7/7 [00:07<00:00,  1.14s/it]\n",
      "Training (7125 / 18000 Steps) (loss=0.29021): 100%|██████████| 7/7 [00:08<00:00,  1.20s/it]\n",
      "Training (7132 / 18000 Steps) (loss=0.45852): 100%|██████████| 7/7 [00:08<00:00,  1.21s/it]\n",
      "Training (7139 / 18000 Steps) (loss=0.41927): 100%|██████████| 7/7 [00:08<00:00,  1.26s/it]\n",
      "Training (7146 / 18000 Steps) (loss=0.27210): 100%|██████████| 7/7 [00:08<00:00,  1.16s/it]\n",
      "Training (7153 / 18000 Steps) (loss=0.13484): 100%|██████████| 7/7 [00:08<00:00,  1.20s/it]\n",
      "Training (7160 / 18000 Steps) (loss=0.54598): 100%|██████████| 7/7 [00:07<00:00,  1.14s/it]\n",
      "Training (7167 / 18000 Steps) (loss=0.50335): 100%|██████████| 7/7 [00:08<00:00,  1.22s/it]\n",
      "Training (7174 / 18000 Steps) (loss=0.37531): 100%|██████████| 7/7 [00:09<00:00,  1.38s/it]\n",
      "Training (7181 / 18000 Steps) (loss=0.37846): 100%|██████████| 7/7 [00:08<00:00,  1.29s/it]\n",
      "Training (7188 / 18000 Steps) (loss=0.48541): 100%|██████████| 7/7 [00:09<00:00,  1.36s/it]\n",
      "Training (7195 / 18000 Steps) (loss=0.46443): 100%|██████████| 7/7 [00:08<00:00,  1.22s/it]\n",
      "Validate (7196 / 10 Steps): 100%|██████████| 2/2 [00:05<00:00,  2.90s/it]<00:03,  1.28s/it]\n",
      "Training (7200 / 18000 Steps) (loss=0.63267):  71%|███████▏  | 5/7 [00:13<00:06,  3.10s/it]"
     ]
    },
    {
     "name": "stdout",
     "output_type": "stream",
     "text": [
      "Model Was Not Saved ! Current Best Avg. Dice: 0.57095867395401 Current Avg. Dice: 0.49502819776535034 Current Avg. tumor Dice: 0.5241336226463318 Current Avg. lymph Dice: 0.4659227132797241\n"
     ]
    },
    {
     "name": "stderr",
     "output_type": "stream",
     "text": [
      "Training (7202 / 18000 Steps) (loss=0.28329): 100%|██████████| 7/7 [00:14<00:00,  2.08s/it]\n",
      "Training (7209 / 18000 Steps) (loss=0.16764): 100%|██████████| 7/7 [00:09<00:00,  1.31s/it]\n",
      "Training (7216 / 18000 Steps) (loss=0.38602): 100%|██████████| 7/7 [00:09<00:00,  1.34s/it]\n",
      "Training (7223 / 18000 Steps) (loss=0.25973): 100%|██████████| 7/7 [00:09<00:00,  1.34s/it]\n",
      "Training (7230 / 18000 Steps) (loss=0.42828): 100%|██████████| 7/7 [00:08<00:00,  1.24s/it]\n",
      "Training (7237 / 18000 Steps) (loss=0.29740): 100%|██████████| 7/7 [00:09<00:00,  1.32s/it]\n",
      "Training (7244 / 18000 Steps) (loss=0.41434): 100%|██████████| 7/7 [00:08<00:00,  1.23s/it]\n",
      "Training (7251 / 18000 Steps) (loss=0.41432): 100%|██████████| 7/7 [00:07<00:00,  1.10s/it]\n",
      "Training (7258 / 18000 Steps) (loss=0.43830): 100%|██████████| 7/7 [00:08<00:00,  1.21s/it]\n",
      "Training (7265 / 18000 Steps) (loss=0.54342): 100%|██████████| 7/7 [00:08<00:00,  1.20s/it]\n",
      "Training (7272 / 18000 Steps) (loss=0.32099): 100%|██████████| 7/7 [00:09<00:00,  1.30s/it]\n",
      "Training (7279 / 18000 Steps) (loss=0.16577): 100%|██████████| 7/7 [00:08<00:00,  1.26s/it]\n",
      "Training (7286 / 18000 Steps) (loss=0.50279): 100%|██████████| 7/7 [00:09<00:00,  1.29s/it]\n",
      "Training (7293 / 18000 Steps) (loss=0.46484): 100%|██████████| 7/7 [00:09<00:00,  1.30s/it]\n",
      "Validate (7294 / 10 Steps): 100%|██████████| 2/2 [00:05<00:00,  2.92s/it]<00:00,  1.29it/s]\n",
      "Training (7300 / 18000 Steps) (loss=0.40628): 100%|██████████| 7/7 [00:14<00:00,  2.14s/it]\n"
     ]
    },
    {
     "name": "stdout",
     "output_type": "stream",
     "text": [
      "Model Was Not Saved ! Current Best Avg. Dice: 0.57095867395401 Current Avg. Dice: 0.3873380720615387 Current Avg. tumor Dice: 0.3660340905189514 Current Avg. lymph Dice: 0.40864211320877075\n"
     ]
    },
    {
     "name": "stderr",
     "output_type": "stream",
     "text": [
      "Training (7307 / 18000 Steps) (loss=0.45467): 100%|██████████| 7/7 [00:09<00:00,  1.31s/it]\n",
      "Training (7314 / 18000 Steps) (loss=0.25748): 100%|██████████| 7/7 [00:08<00:00,  1.26s/it]\n",
      "Training (7321 / 18000 Steps) (loss=0.39312): 100%|██████████| 7/7 [00:08<00:00,  1.17s/it]\n",
      "Training (7328 / 18000 Steps) (loss=0.52797): 100%|██████████| 7/7 [00:09<00:00,  1.39s/it]\n",
      "Training (7335 / 18000 Steps) (loss=0.66699): 100%|██████████| 7/7 [00:09<00:00,  1.38s/it]\n",
      "Training (7342 / 18000 Steps) (loss=0.22867): 100%|██████████| 7/7 [00:08<00:00,  1.23s/it]\n",
      "Training (7349 / 18000 Steps) (loss=0.47841): 100%|██████████| 7/7 [00:08<00:00,  1.20s/it]\n",
      "Training (7356 / 18000 Steps) (loss=0.12206): 100%|██████████| 7/7 [00:09<00:00,  1.34s/it]\n",
      "Training (7363 / 18000 Steps) (loss=0.53132): 100%|██████████| 7/7 [00:08<00:00,  1.20s/it]\n",
      "Training (7370 / 18000 Steps) (loss=0.47848): 100%|██████████| 7/7 [00:08<00:00,  1.28s/it]\n",
      "Training (7377 / 18000 Steps) (loss=0.34139): 100%|██████████| 7/7 [00:08<00:00,  1.19s/it]\n",
      "Training (7384 / 18000 Steps) (loss=0.29288): 100%|██████████| 7/7 [00:09<00:00,  1.30s/it]\n",
      "Training (7391 / 18000 Steps) (loss=0.57190): 100%|██████████| 7/7 [00:08<00:00,  1.19s/it]\n",
      "Training (7398 / 18000 Steps) (loss=0.48235): 100%|██████████| 7/7 [00:08<00:00,  1.20s/it]\n",
      "Validate (7399 / 10 Steps): 100%|██████████| 2/2 [00:05<00:00,  2.86s/it]<00:32,  5.41s/it]\n",
      "Training (7400 / 18000 Steps) (loss=0.40844):  29%|██▊       | 2/7 [00:11<00:29,  5.92s/it]"
     ]
    },
    {
     "name": "stdout",
     "output_type": "stream",
     "text": [
      "Model Was Not Saved ! Current Best Avg. Dice: 0.57095867395401 Current Avg. Dice: 0.5474101305007935 Current Avg. tumor Dice: 0.5798474550247192 Current Avg. lymph Dice: 0.5149728059768677\n"
     ]
    },
    {
     "name": "stderr",
     "output_type": "stream",
     "text": [
      "Training (7405 / 18000 Steps) (loss=0.43873): 100%|██████████| 7/7 [00:13<00:00,  1.95s/it]\n",
      "Training (7412 / 18000 Steps) (loss=0.49073): 100%|██████████| 7/7 [00:08<00:00,  1.24s/it]\n",
      "Training (7419 / 18000 Steps) (loss=0.34645): 100%|██████████| 7/7 [00:09<00:00,  1.31s/it]\n",
      "Training (7426 / 18000 Steps) (loss=0.29613): 100%|██████████| 7/7 [00:08<00:00,  1.21s/it]\n",
      "Training (7433 / 18000 Steps) (loss=0.53031): 100%|██████████| 7/7 [00:09<00:00,  1.31s/it]\n",
      "Training (7440 / 18000 Steps) (loss=0.41960): 100%|██████████| 7/7 [00:09<00:00,  1.30s/it]\n",
      "Training (7447 / 18000 Steps) (loss=0.38348): 100%|██████████| 7/7 [00:09<00:00,  1.38s/it]\n",
      "Training (7454 / 18000 Steps) (loss=0.40136): 100%|██████████| 7/7 [00:07<00:00,  1.14s/it]\n",
      "Training (7461 / 18000 Steps) (loss=0.33590): 100%|██████████| 7/7 [00:08<00:00,  1.28s/it]\n",
      "Training (7468 / 18000 Steps) (loss=0.40686): 100%|██████████| 7/7 [00:08<00:00,  1.24s/it]\n",
      "Training (7475 / 18000 Steps) (loss=0.54153): 100%|██████████| 7/7 [00:08<00:00,  1.19s/it]\n",
      "Training (7482 / 18000 Steps) (loss=0.26129): 100%|██████████| 7/7 [00:08<00:00,  1.24s/it]\n",
      "Training (7489 / 18000 Steps) (loss=0.28228): 100%|██████████| 7/7 [00:09<00:00,  1.38s/it]\n",
      "Training (7496 / 18000 Steps) (loss=0.52952): 100%|██████████| 7/7 [00:09<00:00,  1.31s/it]\n",
      "Validate (7497 / 10 Steps): 100%|██████████| 2/2 [00:05<00:00,  2.82s/it]<00:06,  1.71s/it]\n",
      "Training (7500 / 18000 Steps) (loss=0.29397):  57%|█████▋    | 4/7 [00:12<00:10,  3.46s/it]"
     ]
    },
    {
     "name": "stdout",
     "output_type": "stream",
     "text": [
      "Model Was Not Saved ! Current Best Avg. Dice: 0.57095867395401 Current Avg. Dice: 0.5446668863296509 Current Avg. tumor Dice: 0.5847235321998596 Current Avg. lymph Dice: 0.5046103000640869\n"
     ]
    },
    {
     "name": "stderr",
     "output_type": "stream",
     "text": [
      "Training (7503 / 18000 Steps) (loss=0.36169): 100%|██████████| 7/7 [00:14<00:00,  2.01s/it]\n",
      "Training (7510 / 18000 Steps) (loss=0.23534): 100%|██████████| 7/7 [00:08<00:00,  1.17s/it]\n",
      "Training (7517 / 18000 Steps) (loss=0.24487): 100%|██████████| 7/7 [00:08<00:00,  1.15s/it]\n",
      "Training (7524 / 18000 Steps) (loss=0.40367): 100%|██████████| 7/7 [00:08<00:00,  1.20s/it]\n",
      "Training (7531 / 18000 Steps) (loss=0.30534): 100%|██████████| 7/7 [00:08<00:00,  1.20s/it]\n",
      "Training (7538 / 18000 Steps) (loss=0.46552): 100%|██████████| 7/7 [00:08<00:00,  1.15s/it]\n",
      "Training (7545 / 18000 Steps) (loss=0.32772): 100%|██████████| 7/7 [00:08<00:00,  1.25s/it]\n",
      "Training (7552 / 18000 Steps) (loss=0.28422): 100%|██████████| 7/7 [00:08<00:00,  1.19s/it]\n",
      "Training (7559 / 18000 Steps) (loss=0.32236): 100%|██████████| 7/7 [00:08<00:00,  1.17s/it]\n",
      "Training (7566 / 18000 Steps) (loss=0.37399): 100%|██████████| 7/7 [00:08<00:00,  1.17s/it]\n",
      "Training (7573 / 18000 Steps) (loss=0.44721): 100%|██████████| 7/7 [00:08<00:00,  1.18s/it]\n",
      "Training (7580 / 18000 Steps) (loss=0.35253): 100%|██████████| 7/7 [00:07<00:00,  1.12s/it]\n",
      "Training (7587 / 18000 Steps) (loss=0.52842): 100%|██████████| 7/7 [00:08<00:00,  1.26s/it]\n",
      "Training (7594 / 18000 Steps) (loss=0.16809): 100%|██████████| 7/7 [00:08<00:00,  1.26s/it]\n",
      "Validate (7595 / 10 Steps): 100%|██████████| 2/2 [00:05<00:00,  2.77s/it]<00:01,  1.02it/s]\n",
      "Training (7600 / 18000 Steps) (loss=0.46261):  86%|████████▌ | 6/7 [00:14<00:02,  2.70s/it]"
     ]
    },
    {
     "name": "stdout",
     "output_type": "stream",
     "text": [
      "Model Was Not Saved ! Current Best Avg. Dice: 0.57095867395401 Current Avg. Dice: 0.5247536897659302 Current Avg. tumor Dice: 0.5826982855796814 Current Avg. lymph Dice: 0.46680915355682373\n"
     ]
    },
    {
     "name": "stderr",
     "output_type": "stream",
     "text": [
      "Training (7601 / 18000 Steps) (loss=0.16174): 100%|██████████| 7/7 [00:14<00:00,  2.13s/it]\n",
      "Training (7608 / 18000 Steps) (loss=0.12182): 100%|██████████| 7/7 [00:08<00:00,  1.18s/it]\n",
      "Training (7615 / 18000 Steps) (loss=0.49184): 100%|██████████| 7/7 [00:09<00:00,  1.29s/it]\n",
      "Training (7622 / 18000 Steps) (loss=0.41421): 100%|██████████| 7/7 [00:08<00:00,  1.24s/it]\n",
      "Training (7629 / 18000 Steps) (loss=0.42775): 100%|██████████| 7/7 [00:08<00:00,  1.16s/it]\n",
      "Training (7636 / 18000 Steps) (loss=0.36532): 100%|██████████| 7/7 [00:09<00:00,  1.29s/it]\n",
      "Training (7643 / 18000 Steps) (loss=0.52706): 100%|██████████| 7/7 [00:09<00:00,  1.36s/it]\n",
      "Training (7650 / 18000 Steps) (loss=0.25436): 100%|██████████| 7/7 [00:09<00:00,  1.38s/it]\n",
      "Training (7657 / 18000 Steps) (loss=0.39864): 100%|██████████| 7/7 [00:08<00:00,  1.20s/it]\n",
      "Training (7664 / 18000 Steps) (loss=0.31953): 100%|██████████| 7/7 [00:08<00:00,  1.22s/it]\n",
      "Training (7671 / 18000 Steps) (loss=0.31506): 100%|██████████| 7/7 [00:08<00:00,  1.19s/it]\n",
      "Training (7678 / 18000 Steps) (loss=0.43572): 100%|██████████| 7/7 [00:07<00:00,  1.09s/it]\n",
      "Training (7685 / 18000 Steps) (loss=0.51966): 100%|██████████| 7/7 [00:08<00:00,  1.21s/it]\n",
      "Training (7692 / 18000 Steps) (loss=0.45122): 100%|██████████| 7/7 [00:09<00:00,  1.33s/it]\n",
      "Training (7699 / 18000 Steps) (loss=0.29445): 100%|██████████| 7/7 [00:08<00:00,  1.28s/it]\n",
      "Validate (7700 / 10 Steps): 100%|██████████| 2/2 [00:05<00:00,  2.95s/it]<?, ?it/s]\n",
      "Training (7700 / 18000 Steps) (loss=0.30824):  14%|█▍        | 1/7 [00:12<01:14, 12.44s/it]"
     ]
    },
    {
     "name": "stdout",
     "output_type": "stream",
     "text": [
      "Model Was Not Saved ! Current Best Avg. Dice: 0.57095867395401 Current Avg. Dice: 0.5279282331466675 Current Avg. tumor Dice: 0.5712270736694336 Current Avg. lymph Dice: 0.48462942242622375\n"
     ]
    },
    {
     "name": "stderr",
     "output_type": "stream",
     "text": [
      "Training (7706 / 18000 Steps) (loss=0.40488): 100%|██████████| 7/7 [00:14<00:00,  2.12s/it]\n",
      "Training (7713 / 18000 Steps) (loss=0.31533): 100%|██████████| 7/7 [00:09<00:00,  1.39s/it]\n",
      "Training (7720 / 18000 Steps) (loss=0.50264): 100%|██████████| 7/7 [00:08<00:00,  1.24s/it]\n",
      "Training (7727 / 18000 Steps) (loss=0.37057): 100%|██████████| 7/7 [00:08<00:00,  1.18s/it]\n",
      "Training (7734 / 18000 Steps) (loss=0.40138): 100%|██████████| 7/7 [00:09<00:00,  1.32s/it]\n",
      "Training (7741 / 18000 Steps) (loss=0.19709): 100%|██████████| 7/7 [00:09<00:00,  1.29s/it]\n",
      "Training (7748 / 18000 Steps) (loss=0.30550): 100%|██████████| 7/7 [00:09<00:00,  1.34s/it]\n",
      "Training (7755 / 18000 Steps) (loss=0.40685): 100%|██████████| 7/7 [00:08<00:00,  1.26s/it]\n",
      "Training (7762 / 18000 Steps) (loss=0.16105): 100%|██████████| 7/7 [00:08<00:00,  1.24s/it]\n",
      "Training (7769 / 18000 Steps) (loss=0.25923): 100%|██████████| 7/7 [00:08<00:00,  1.21s/it]\n",
      "Training (7776 / 18000 Steps) (loss=0.29933): 100%|██████████| 7/7 [00:09<00:00,  1.36s/it]\n",
      "Training (7783 / 18000 Steps) (loss=0.53454): 100%|██████████| 7/7 [00:08<00:00,  1.27s/it]\n",
      "Training (7790 / 18000 Steps) (loss=0.13498): 100%|██████████| 7/7 [00:09<00:00,  1.35s/it]\n",
      "Training (7797 / 18000 Steps) (loss=0.34255): 100%|██████████| 7/7 [00:09<00:00,  1.34s/it]\n",
      "Validate (7798 / 10 Steps): 100%|██████████| 2/2 [00:05<00:00,  2.84s/it]<00:15,  3.11s/it]\n",
      "Training (7800 / 18000 Steps) (loss=0.56274):  43%|████▎     | 3/7 [00:13<00:18,  4.54s/it]"
     ]
    },
    {
     "name": "stdout",
     "output_type": "stream",
     "text": [
      "Model Was Not Saved ! Current Best Avg. Dice: 0.57095867395401 Current Avg. Dice: 0.5308125615119934 Current Avg. tumor Dice: 0.5695025324821472 Current Avg. lymph Dice: 0.4921225905418396\n"
     ]
    },
    {
     "name": "stderr",
     "output_type": "stream",
     "text": [
      "Training (7804 / 18000 Steps) (loss=0.30517): 100%|██████████| 7/7 [00:15<00:00,  2.16s/it]\n",
      "Training (7811 / 18000 Steps) (loss=0.59855): 100%|██████████| 7/7 [00:08<00:00,  1.28s/it]\n",
      "Training (7818 / 18000 Steps) (loss=0.26386): 100%|██████████| 7/7 [00:08<00:00,  1.26s/it]\n",
      "Training (7825 / 18000 Steps) (loss=0.55118): 100%|██████████| 7/7 [00:09<00:00,  1.33s/it]\n",
      "Training (7832 / 18000 Steps) (loss=0.27095): 100%|██████████| 7/7 [00:09<00:00,  1.32s/it]\n",
      "Training (7839 / 18000 Steps) (loss=0.26523): 100%|██████████| 7/7 [00:09<00:00,  1.38s/it]\n",
      "Training (7846 / 18000 Steps) (loss=0.47102): 100%|██████████| 7/7 [00:08<00:00,  1.17s/it]\n",
      "Training (7853 / 18000 Steps) (loss=0.27189): 100%|██████████| 7/7 [00:08<00:00,  1.23s/it]\n",
      "Training (7860 / 18000 Steps) (loss=0.33466): 100%|██████████| 7/7 [00:08<00:00,  1.21s/it]\n",
      "Training (7867 / 18000 Steps) (loss=0.25840): 100%|██████████| 7/7 [00:08<00:00,  1.24s/it]\n",
      "Training (7874 / 18000 Steps) (loss=0.15740): 100%|██████████| 7/7 [00:08<00:00,  1.22s/it]\n",
      "Training (7881 / 18000 Steps) (loss=0.27410): 100%|██████████| 7/7 [00:09<00:00,  1.34s/it]\n",
      "Training (7888 / 18000 Steps) (loss=0.20767): 100%|██████████| 7/7 [00:08<00:00,  1.27s/it]\n",
      "Training (7895 / 18000 Steps) (loss=0.44037): 100%|██████████| 7/7 [00:09<00:00,  1.29s/it]\n",
      "Validate (7896 / 10 Steps): 100%|██████████| 2/2 [00:05<00:00,  2.96s/it]<00:03,  1.31s/it]\n",
      "Training (7900 / 18000 Steps) (loss=0.23757):  71%|███████▏  | 5/7 [00:14<00:06,  3.16s/it]"
     ]
    },
    {
     "name": "stdout",
     "output_type": "stream",
     "text": [
      "Model Was Not Saved ! Current Best Avg. Dice: 0.57095867395401 Current Avg. Dice: 0.5340363383293152 Current Avg. tumor Dice: 0.5770351886749268 Current Avg. lymph Dice: 0.491037517786026\n"
     ]
    },
    {
     "name": "stderr",
     "output_type": "stream",
     "text": [
      "Training (7902 / 18000 Steps) (loss=0.36874): 100%|██████████| 7/7 [00:15<00:00,  2.21s/it]\n",
      "Training (7909 / 18000 Steps) (loss=0.34187): 100%|██████████| 7/7 [00:08<00:00,  1.24s/it]\n",
      "Training (7916 / 18000 Steps) (loss=0.46567): 100%|██████████| 7/7 [00:09<00:00,  1.39s/it]\n",
      "Training (7923 / 18000 Steps) (loss=0.61830): 100%|██████████| 7/7 [00:09<00:00,  1.30s/it]\n",
      "Training (7930 / 18000 Steps) (loss=0.39985): 100%|██████████| 7/7 [00:08<00:00,  1.20s/it]\n",
      "Training (7937 / 18000 Steps) (loss=0.30799): 100%|██████████| 7/7 [00:08<00:00,  1.21s/it]\n",
      "Training (7944 / 18000 Steps) (loss=0.26921): 100%|██████████| 7/7 [00:08<00:00,  1.26s/it]\n",
      "Training (7951 / 18000 Steps) (loss=0.11868): 100%|██████████| 7/7 [00:08<00:00,  1.23s/it]\n",
      "Training (7958 / 18000 Steps) (loss=0.30269): 100%|██████████| 7/7 [00:08<00:00,  1.25s/it]\n",
      "Training (7965 / 18000 Steps) (loss=0.52462): 100%|██████████| 7/7 [00:09<00:00,  1.31s/it]\n",
      "Training (7972 / 18000 Steps) (loss=0.46135): 100%|██████████| 7/7 [00:08<00:00,  1.27s/it]\n",
      "Training (7979 / 18000 Steps) (loss=0.53719): 100%|██████████| 7/7 [00:09<00:00,  1.39s/it]\n",
      "Training (7986 / 18000 Steps) (loss=0.43293): 100%|██████████| 7/7 [00:09<00:00,  1.37s/it]\n",
      "Training (7993 / 18000 Steps) (loss=0.51201): 100%|██████████| 7/7 [00:08<00:00,  1.27s/it]\n",
      "Validate (7994 / 10 Steps): 100%|██████████| 2/2 [00:06<00:00,  3.08s/it]<00:00,  1.34it/s]\n",
      "Training (8000 / 18000 Steps) (loss=0.45013): 100%|██████████| 7/7 [00:14<00:00,  2.08s/it]\n"
     ]
    },
    {
     "name": "stdout",
     "output_type": "stream",
     "text": [
      "Model Was Not Saved ! Current Best Avg. Dice: 0.57095867395401 Current Avg. Dice: 0.5327317118644714 Current Avg. tumor Dice: 0.5404765605926514 Current Avg. lymph Dice: 0.5249868631362915\n"
     ]
    },
    {
     "name": "stderr",
     "output_type": "stream",
     "text": [
      "Training (8007 / 18000 Steps) (loss=0.54854): 100%|██████████| 7/7 [00:08<00:00,  1.23s/it]\n",
      "Training (8014 / 18000 Steps) (loss=0.54669): 100%|██████████| 7/7 [00:08<00:00,  1.19s/it]\n",
      "Training (8021 / 18000 Steps) (loss=0.39098): 100%|██████████| 7/7 [00:09<00:00,  1.34s/it]\n",
      "Training (8028 / 18000 Steps) (loss=0.30096): 100%|██████████| 7/7 [00:09<00:00,  1.37s/it]\n",
      "Training (8035 / 18000 Steps) (loss=0.42566): 100%|██████████| 7/7 [00:09<00:00,  1.31s/it]\n",
      "Training (8042 / 18000 Steps) (loss=0.31922): 100%|██████████| 7/7 [00:09<00:00,  1.30s/it]\n",
      "Training (8049 / 18000 Steps) (loss=0.54360): 100%|██████████| 7/7 [00:08<00:00,  1.22s/it]\n",
      "Training (8056 / 18000 Steps) (loss=0.42763): 100%|██████████| 7/7 [00:09<00:00,  1.41s/it]\n",
      "Training (8063 / 18000 Steps) (loss=0.44241): 100%|██████████| 7/7 [00:09<00:00,  1.33s/it]\n",
      "Training (8070 / 18000 Steps) (loss=0.36105): 100%|██████████| 7/7 [00:09<00:00,  1.32s/it]\n",
      "Training (8077 / 18000 Steps) (loss=0.33051): 100%|██████████| 7/7 [00:08<00:00,  1.20s/it]\n",
      "Training (8084 / 18000 Steps) (loss=0.41882): 100%|██████████| 7/7 [00:09<00:00,  1.31s/it]\n",
      "Training (8091 / 18000 Steps) (loss=0.15131): 100%|██████████| 7/7 [00:08<00:00,  1.21s/it]\n",
      "Training (8098 / 18000 Steps) (loss=0.30522): 100%|██████████| 7/7 [00:10<00:00,  1.43s/it]\n",
      "Validate (8099 / 10 Steps): 100%|██████████| 2/2 [00:05<00:00,  2.97s/it]<00:38,  6.34s/it]\n",
      "Training (8100 / 18000 Steps) (loss=0.19363):  29%|██▊       | 2/7 [00:12<00:32,  6.42s/it]"
     ]
    },
    {
     "name": "stdout",
     "output_type": "stream",
     "text": [
      "Model Was Not Saved ! Current Best Avg. Dice: 0.57095867395401 Current Avg. Dice: 0.5673278570175171 Current Avg. tumor Dice: 0.5927127599716187 Current Avg. lymph Dice: 0.5419429540634155\n"
     ]
    },
    {
     "name": "stderr",
     "output_type": "stream",
     "text": [
      "Training (8105 / 18000 Steps) (loss=0.29621): 100%|██████████| 7/7 [00:14<00:00,  2.12s/it]\n",
      "Training (8112 / 18000 Steps) (loss=0.29404): 100%|██████████| 7/7 [00:09<00:00,  1.30s/it]\n",
      "Training (8119 / 18000 Steps) (loss=0.29794): 100%|██████████| 7/7 [00:09<00:00,  1.35s/it]\n",
      "Training (8126 / 18000 Steps) (loss=0.27063): 100%|██████████| 7/7 [00:10<00:00,  1.46s/it]\n",
      "Training (8133 / 18000 Steps) (loss=0.39330): 100%|██████████| 7/7 [00:09<00:00,  1.34s/it]\n",
      "Training (8140 / 18000 Steps) (loss=0.33662): 100%|██████████| 7/7 [00:08<00:00,  1.19s/it]\n",
      "Training (8147 / 18000 Steps) (loss=0.32920): 100%|██████████| 7/7 [00:09<00:00,  1.35s/it]\n",
      "Training (8154 / 18000 Steps) (loss=0.28008): 100%|██████████| 7/7 [00:08<00:00,  1.26s/it]\n",
      "Training (8161 / 18000 Steps) (loss=0.25966): 100%|██████████| 7/7 [00:09<00:00,  1.37s/it]\n",
      "Training (8168 / 18000 Steps) (loss=0.32211): 100%|██████████| 7/7 [00:09<00:00,  1.35s/it]\n",
      "Training (8175 / 18000 Steps) (loss=0.52766): 100%|██████████| 7/7 [00:08<00:00,  1.26s/it]\n",
      "Training (8182 / 18000 Steps) (loss=0.31554): 100%|██████████| 7/7 [00:08<00:00,  1.22s/it]\n",
      "Training (8189 / 18000 Steps) (loss=0.15213): 100%|██████████| 7/7 [00:09<00:00,  1.37s/it]\n",
      "Training (8196 / 18000 Steps) (loss=0.60439): 100%|██████████| 7/7 [00:09<00:00,  1.32s/it]\n",
      "Validate (8197 / 10 Steps): 100%|██████████| 2/2 [00:05<00:00,  2.85s/it]<00:06,  1.68s/it]\n",
      "Training (8200 / 18000 Steps) (loss=0.37391):  57%|█████▋    | 4/7 [00:13<00:10,  3.47s/it]"
     ]
    },
    {
     "name": "stdout",
     "output_type": "stream",
     "text": [
      "Model Was Not Saved ! Current Best Avg. Dice: 0.57095867395401 Current Avg. Dice: 0.545984148979187 Current Avg. tumor Dice: 0.6183087229728699 Current Avg. lymph Dice: 0.47365957498550415\n"
     ]
    },
    {
     "name": "stderr",
     "output_type": "stream",
     "text": [
      "Training (8203 / 18000 Steps) (loss=0.23001): 100%|██████████| 7/7 [00:14<00:00,  2.03s/it]\n",
      "Training (8210 / 18000 Steps) (loss=0.29742): 100%|██████████| 7/7 [00:08<00:00,  1.27s/it]\n",
      "Training (8217 / 18000 Steps) (loss=0.24809): 100%|██████████| 7/7 [00:09<00:00,  1.32s/it]\n",
      "Training (8224 / 18000 Steps) (loss=0.52439): 100%|██████████| 7/7 [00:10<00:00,  1.47s/it]\n",
      "Training (8231 / 18000 Steps) (loss=0.14885): 100%|██████████| 7/7 [00:08<00:00,  1.27s/it]\n",
      "Training (8238 / 18000 Steps) (loss=0.41695): 100%|██████████| 7/7 [00:08<00:00,  1.22s/it]\n",
      "Training (8245 / 18000 Steps) (loss=0.26524): 100%|██████████| 7/7 [00:08<00:00,  1.23s/it]\n",
      "Training (8252 / 18000 Steps) (loss=0.38942): 100%|██████████| 7/7 [00:08<00:00,  1.29s/it]\n",
      "Training (8259 / 18000 Steps) (loss=0.37125): 100%|██████████| 7/7 [00:08<00:00,  1.21s/it]\n",
      "Training (8266 / 18000 Steps) (loss=0.18832): 100%|██████████| 7/7 [00:08<00:00,  1.24s/it]\n",
      "Training (8273 / 18000 Steps) (loss=0.39693): 100%|██████████| 7/7 [00:09<00:00,  1.31s/it]\n",
      "Training (8280 / 18000 Steps) (loss=0.28753): 100%|██████████| 7/7 [00:09<00:00,  1.42s/it]\n",
      "Training (8287 / 18000 Steps) (loss=0.19567): 100%|██████████| 7/7 [00:08<00:00,  1.18s/it]\n",
      "Training (8294 / 18000 Steps) (loss=0.38618): 100%|██████████| 7/7 [00:09<00:00,  1.41s/it]\n",
      "Validate (8295 / 10 Steps): 100%|██████████| 2/2 [00:05<00:00,  2.92s/it]<00:01,  1.03it/s]\n",
      "Training (8300 / 18000 Steps) (loss=0.47452):  86%|████████▌ | 6/7 [00:14<00:02,  2.80s/it]"
     ]
    },
    {
     "name": "stdout",
     "output_type": "stream",
     "text": [
      "Model Was Not Saved ! Current Best Avg. Dice: 0.57095867395401 Current Avg. Dice: 0.540096640586853 Current Avg. tumor Dice: 0.5906276702880859 Current Avg. lymph Dice: 0.48956555128097534\n"
     ]
    },
    {
     "name": "stderr",
     "output_type": "stream",
     "text": [
      "Training (8301 / 18000 Steps) (loss=0.39811): 100%|██████████| 7/7 [00:15<00:00,  2.17s/it]\n",
      "Training (8308 / 18000 Steps) (loss=0.53656): 100%|██████████| 7/7 [00:08<00:00,  1.28s/it]\n",
      "Training (8315 / 18000 Steps) (loss=0.16111): 100%|██████████| 7/7 [00:08<00:00,  1.27s/it]\n",
      "Training (8322 / 18000 Steps) (loss=0.32608): 100%|██████████| 7/7 [00:08<00:00,  1.20s/it]\n",
      "Training (8329 / 18000 Steps) (loss=0.35115): 100%|██████████| 7/7 [00:09<00:00,  1.31s/it]\n",
      "Training (8336 / 18000 Steps) (loss=0.37013): 100%|██████████| 7/7 [00:09<00:00,  1.35s/it]\n",
      "Training (8343 / 18000 Steps) (loss=0.30203): 100%|██████████| 7/7 [00:08<00:00,  1.25s/it]\n",
      "Training (8350 / 18000 Steps) (loss=0.19821): 100%|██████████| 7/7 [00:08<00:00,  1.16s/it]\n",
      "Training (8357 / 18000 Steps) (loss=0.39114): 100%|██████████| 7/7 [00:08<00:00,  1.18s/it]\n",
      "Training (8364 / 18000 Steps) (loss=0.45326): 100%|██████████| 7/7 [00:09<00:00,  1.40s/it]\n",
      "Training (8371 / 18000 Steps) (loss=0.28696): 100%|██████████| 7/7 [00:08<00:00,  1.23s/it]\n",
      "Training (8378 / 18000 Steps) (loss=0.29953): 100%|██████████| 7/7 [00:08<00:00,  1.23s/it]\n",
      "Training (8385 / 18000 Steps) (loss=0.30560): 100%|██████████| 7/7 [00:09<00:00,  1.37s/it]\n",
      "Training (8392 / 18000 Steps) (loss=0.42125): 100%|██████████| 7/7 [00:09<00:00,  1.40s/it]\n",
      "Training (8399 / 18000 Steps) (loss=0.35660): 100%|██████████| 7/7 [00:08<00:00,  1.25s/it]\n",
      "Validate (8400 / 10 Steps): 100%|██████████| 2/2 [00:05<00:00,  2.85s/it]<?, ?it/s]\n",
      "Training (8400 / 18000 Steps) (loss=0.29762):  14%|█▍        | 1/7 [00:12<01:15, 12.55s/it]"
     ]
    },
    {
     "name": "stdout",
     "output_type": "stream",
     "text": [
      "Model Was Not Saved ! Current Best Avg. Dice: 0.57095867395401 Current Avg. Dice: 0.5367261171340942 Current Avg. tumor Dice: 0.5949885249137878 Current Avg. lymph Dice: 0.47846367955207825\n"
     ]
    },
    {
     "name": "stderr",
     "output_type": "stream",
     "text": [
      "Training (8406 / 18000 Steps) (loss=0.14444): 100%|██████████| 7/7 [00:14<00:00,  2.14s/it]\n",
      "Training (8413 / 18000 Steps) (loss=0.47984): 100%|██████████| 7/7 [00:09<00:00,  1.29s/it]\n",
      "Training (8420 / 18000 Steps) (loss=0.42165): 100%|██████████| 7/7 [00:08<00:00,  1.16s/it]\n",
      "Training (8427 / 18000 Steps) (loss=0.24675): 100%|██████████| 7/7 [00:08<00:00,  1.27s/it]\n",
      "Training (8434 / 18000 Steps) (loss=0.48860): 100%|██████████| 7/7 [00:09<00:00,  1.41s/it]\n",
      "Training (8441 / 18000 Steps) (loss=0.14990): 100%|██████████| 7/7 [00:08<00:00,  1.25s/it]\n",
      "Training (8448 / 18000 Steps) (loss=0.29031): 100%|██████████| 7/7 [00:08<00:00,  1.18s/it]\n",
      "Training (8455 / 18000 Steps) (loss=0.44410): 100%|██████████| 7/7 [00:09<00:00,  1.39s/it]\n",
      "Training (8462 / 18000 Steps) (loss=0.23610): 100%|██████████| 7/7 [00:08<00:00,  1.14s/it]\n",
      "Training (8469 / 18000 Steps) (loss=0.29375): 100%|██████████| 7/7 [00:08<00:00,  1.27s/it]\n",
      "Training (8476 / 18000 Steps) (loss=0.42193): 100%|██████████| 7/7 [00:09<00:00,  1.33s/it]\n",
      "Training (8483 / 18000 Steps) (loss=0.15717): 100%|██████████| 7/7 [00:08<00:00,  1.21s/it]\n",
      "Training (8490 / 18000 Steps) (loss=0.52433): 100%|██████████| 7/7 [00:08<00:00,  1.15s/it]\n",
      "Training (8497 / 18000 Steps) (loss=0.26134): 100%|██████████| 7/7 [00:09<00:00,  1.38s/it]\n",
      "Validate (8498 / 10 Steps): 100%|██████████| 2/2 [00:05<00:00,  2.87s/it]<00:12,  2.56s/it]\n",
      "Training (8500 / 18000 Steps) (loss=0.16419):  43%|████▎     | 3/7 [00:12<00:17,  4.27s/it]"
     ]
    },
    {
     "name": "stdout",
     "output_type": "stream",
     "text": [
      "Model Was Not Saved ! Current Best Avg. Dice: 0.57095867395401 Current Avg. Dice: 0.5334608554840088 Current Avg. tumor Dice: 0.5625660419464111 Current Avg. lymph Dice: 0.5043556690216064\n"
     ]
    },
    {
     "name": "stderr",
     "output_type": "stream",
     "text": [
      "Training (8504 / 18000 Steps) (loss=0.41200): 100%|██████████| 7/7 [00:13<00:00,  1.99s/it]\n",
      "Training (8511 / 18000 Steps) (loss=0.21681): 100%|██████████| 7/7 [00:08<00:00,  1.25s/it]\n",
      "Training (8518 / 18000 Steps) (loss=0.24605): 100%|██████████| 7/7 [00:08<00:00,  1.24s/it]\n",
      "Training (8525 / 18000 Steps) (loss=0.33013): 100%|██████████| 7/7 [00:09<00:00,  1.38s/it]\n",
      "Training (8532 / 18000 Steps) (loss=0.61680): 100%|██████████| 7/7 [00:08<00:00,  1.18s/it]\n",
      "Training (8539 / 18000 Steps) (loss=0.66298): 100%|██████████| 7/7 [00:09<00:00,  1.39s/it]\n",
      "Training (8546 / 18000 Steps) (loss=0.37121): 100%|██████████| 7/7 [00:08<00:00,  1.18s/it]\n",
      "Training (8553 / 18000 Steps) (loss=0.42733): 100%|██████████| 7/7 [00:09<00:00,  1.30s/it]\n",
      "Training (8560 / 18000 Steps) (loss=0.37383): 100%|██████████| 7/7 [00:09<00:00,  1.35s/it]\n",
      "Training (8567 / 18000 Steps) (loss=0.26052): 100%|██████████| 7/7 [00:08<00:00,  1.24s/it]\n",
      "Training (8574 / 18000 Steps) (loss=0.35778): 100%|██████████| 7/7 [00:09<00:00,  1.32s/it]\n",
      "Training (8581 / 18000 Steps) (loss=0.49492): 100%|██████████| 7/7 [00:08<00:00,  1.27s/it]\n",
      "Training (8588 / 18000 Steps) (loss=0.10538): 100%|██████████| 7/7 [00:08<00:00,  1.17s/it]\n",
      "Training (8595 / 18000 Steps) (loss=0.38541): 100%|██████████| 7/7 [00:09<00:00,  1.31s/it]\n",
      "Validate (8596 / 10 Steps): 100%|██████████| 2/2 [00:05<00:00,  2.87s/it]<00:03,  1.30s/it]\n",
      "Training (8600 / 18000 Steps) (loss=0.34063):  71%|███████▏  | 5/7 [00:14<00:06,  3.08s/it]"
     ]
    },
    {
     "name": "stdout",
     "output_type": "stream",
     "text": [
      "Model Was Not Saved ! Current Best Avg. Dice: 0.57095867395401 Current Avg. Dice: 0.538087785243988 Current Avg. tumor Dice: 0.5814038515090942 Current Avg. lymph Dice: 0.49477168917655945\n"
     ]
    },
    {
     "name": "stderr",
     "output_type": "stream",
     "text": [
      "Training (8602 / 18000 Steps) (loss=0.27374): 100%|██████████| 7/7 [00:15<00:00,  2.16s/it]\n",
      "Training (8609 / 18000 Steps) (loss=0.39710): 100%|██████████| 7/7 [00:08<00:00,  1.24s/it]\n",
      "Training (8616 / 18000 Steps) (loss=0.48593): 100%|██████████| 7/7 [00:08<00:00,  1.21s/it]\n",
      "Training (8623 / 18000 Steps) (loss=0.38972): 100%|██████████| 7/7 [00:08<00:00,  1.28s/it]\n",
      "Training (8630 / 18000 Steps) (loss=0.61224): 100%|██████████| 7/7 [00:10<00:00,  1.43s/it]\n",
      "Training (8637 / 18000 Steps) (loss=0.34107): 100%|██████████| 7/7 [00:08<00:00,  1.21s/it]\n",
      "Training (8644 / 18000 Steps) (loss=0.27000): 100%|██████████| 7/7 [00:09<00:00,  1.30s/it]\n",
      "Training (8651 / 18000 Steps) (loss=0.41811): 100%|██████████| 7/7 [00:08<00:00,  1.27s/it]\n",
      "Training (8658 / 18000 Steps) (loss=0.52739): 100%|██████████| 7/7 [00:09<00:00,  1.29s/it]\n",
      "Training (8665 / 18000 Steps) (loss=0.40412): 100%|██████████| 7/7 [00:09<00:00,  1.36s/it]\n",
      "Training (8672 / 18000 Steps) (loss=0.46600): 100%|██████████| 7/7 [00:08<00:00,  1.24s/it]\n",
      "Training (8679 / 18000 Steps) (loss=0.39150): 100%|██████████| 7/7 [00:09<00:00,  1.31s/it]\n",
      "Training (8686 / 18000 Steps) (loss=0.27745): 100%|██████████| 7/7 [00:08<00:00,  1.15s/it]\n",
      "Training (8693 / 18000 Steps) (loss=0.10986): 100%|██████████| 7/7 [00:08<00:00,  1.24s/it]\n",
      "Validate (8694 / 10 Steps): 100%|██████████| 2/2 [00:06<00:00,  3.05s/it]<00:00,  1.28it/s]\n",
      "Training (8700 / 18000 Steps) (loss=0.49301): 100%|██████████| 7/7 [00:15<00:00,  2.19s/it]\n"
     ]
    },
    {
     "name": "stdout",
     "output_type": "stream",
     "text": [
      "Model Was Not Saved ! Current Best Avg. Dice: 0.57095867395401 Current Avg. Dice: 0.5348050594329834 Current Avg. tumor Dice: 0.6031795740127563 Current Avg. lymph Dice: 0.4664304852485657\n"
     ]
    },
    {
     "name": "stderr",
     "output_type": "stream",
     "text": [
      "Training (8707 / 18000 Steps) (loss=0.31941): 100%|██████████| 7/7 [00:08<00:00,  1.26s/it]\n",
      "Training (8714 / 18000 Steps) (loss=0.30797): 100%|██████████| 7/7 [00:09<00:00,  1.30s/it]\n",
      "Training (8721 / 18000 Steps) (loss=0.29810): 100%|██████████| 7/7 [00:09<00:00,  1.32s/it]\n",
      "Training (8728 / 18000 Steps) (loss=0.56567): 100%|██████████| 7/7 [00:08<00:00,  1.27s/it]\n",
      "Training (8735 / 18000 Steps) (loss=0.54060): 100%|██████████| 7/7 [00:09<00:00,  1.37s/it]\n",
      "Training (8742 / 18000 Steps) (loss=0.27606): 100%|██████████| 7/7 [00:09<00:00,  1.35s/it]\n",
      "Training (8749 / 18000 Steps) (loss=0.53041): 100%|██████████| 7/7 [00:08<00:00,  1.26s/it]\n",
      "Training (8756 / 18000 Steps) (loss=0.39841): 100%|██████████| 7/7 [00:09<00:00,  1.39s/it]\n",
      "Training (8763 / 18000 Steps) (loss=0.46811): 100%|██████████| 7/7 [00:08<00:00,  1.26s/it]\n",
      "Training (8770 / 18000 Steps) (loss=0.36651): 100%|██████████| 7/7 [00:08<00:00,  1.19s/it]\n",
      "Training (8777 / 18000 Steps) (loss=0.23991): 100%|██████████| 7/7 [00:08<00:00,  1.25s/it]\n",
      "Training (8784 / 18000 Steps) (loss=0.29242): 100%|██████████| 7/7 [00:09<00:00,  1.35s/it]\n",
      "Training (8791 / 18000 Steps) (loss=0.35862): 100%|██████████| 7/7 [00:08<00:00,  1.21s/it]\n",
      "Training (8798 / 18000 Steps) (loss=0.53228): 100%|██████████| 7/7 [00:09<00:00,  1.31s/it]\n",
      "Validate (8799 / 10 Steps): 100%|██████████| 2/2 [00:05<00:00,  2.98s/it]<00:40,  6.82s/it]\n",
      "Training (8800 / 18000 Steps) (loss=0.25962):  29%|██▊       | 2/7 [00:13<00:33,  6.62s/it]"
     ]
    },
    {
     "name": "stdout",
     "output_type": "stream",
     "text": [
      "Model Was Not Saved ! Current Best Avg. Dice: 0.57095867395401 Current Avg. Dice: 0.4883219599723816 Current Avg. tumor Dice: 0.5014035701751709 Current Avg. lymph Dice: 0.4752403497695923\n"
     ]
    },
    {
     "name": "stderr",
     "output_type": "stream",
     "text": [
      "Training (8805 / 18000 Steps) (loss=0.39214): 100%|██████████| 7/7 [00:15<00:00,  2.19s/it]\n",
      "Training (8812 / 18000 Steps) (loss=0.24106): 100%|██████████| 7/7 [00:08<00:00,  1.26s/it]\n",
      "Training (8819 / 18000 Steps) (loss=0.41620): 100%|██████████| 7/7 [00:08<00:00,  1.23s/it]\n",
      "Training (8826 / 18000 Steps) (loss=0.19035): 100%|██████████| 7/7 [00:08<00:00,  1.28s/it]\n",
      "Training (8833 / 18000 Steps) (loss=0.43587): 100%|██████████| 7/7 [00:09<00:00,  1.42s/it]\n",
      "Training (8840 / 18000 Steps) (loss=0.27980): 100%|██████████| 7/7 [00:09<00:00,  1.34s/it]\n",
      "Training (8847 / 18000 Steps) (loss=0.50024): 100%|██████████| 7/7 [00:08<00:00,  1.25s/it]\n",
      "Training (8854 / 18000 Steps) (loss=0.65669): 100%|██████████| 7/7 [00:08<00:00,  1.27s/it]\n",
      "Training (8861 / 18000 Steps) (loss=0.26773): 100%|██████████| 7/7 [00:09<00:00,  1.33s/it]\n",
      "Training (8868 / 18000 Steps) (loss=0.50502): 100%|██████████| 7/7 [00:08<00:00,  1.28s/it]\n",
      "Training (8875 / 18000 Steps) (loss=0.54487): 100%|██████████| 7/7 [00:09<00:00,  1.34s/it]\n",
      "Training (8882 / 18000 Steps) (loss=0.15575): 100%|██████████| 7/7 [00:08<00:00,  1.22s/it]\n",
      "Training (8889 / 18000 Steps) (loss=0.45406): 100%|██████████| 7/7 [00:09<00:00,  1.31s/it]\n",
      "Training (8896 / 18000 Steps) (loss=0.39458): 100%|██████████| 7/7 [00:09<00:00,  1.41s/it]\n",
      "Validate (8897 / 10 Steps): 100%|██████████| 2/2 [00:05<00:00,  2.85s/it]<00:07,  1.84s/it]\n",
      "Training (8900 / 18000 Steps) (loss=0.30237):  57%|█████▋    | 4/7 [00:13<00:10,  3.56s/it]"
     ]
    },
    {
     "name": "stdout",
     "output_type": "stream",
     "text": [
      "Model Was Not Saved ! Current Best Avg. Dice: 0.57095867395401 Current Avg. Dice: 0.5513378381729126 Current Avg. tumor Dice: 0.5867366790771484 Current Avg. lymph Dice: 0.5159389972686768\n"
     ]
    },
    {
     "name": "stderr",
     "output_type": "stream",
     "text": [
      "Training (8903 / 18000 Steps) (loss=0.41092): 100%|██████████| 7/7 [00:14<00:00,  2.08s/it]\n",
      "Training (8910 / 18000 Steps) (loss=0.40910): 100%|██████████| 7/7 [00:08<00:00,  1.27s/it]\n",
      "Training (8917 / 18000 Steps) (loss=0.33869): 100%|██████████| 7/7 [00:09<00:00,  1.33s/it]\n",
      "Training (8924 / 18000 Steps) (loss=0.38396): 100%|██████████| 7/7 [00:09<00:00,  1.33s/it]\n",
      "Training (8931 / 18000 Steps) (loss=0.40795): 100%|██████████| 7/7 [00:08<00:00,  1.19s/it]\n",
      "Training (8938 / 18000 Steps) (loss=0.36903): 100%|██████████| 7/7 [00:09<00:00,  1.29s/it]\n",
      "Training (8945 / 18000 Steps) (loss=0.24249): 100%|██████████| 7/7 [00:09<00:00,  1.31s/it]\n",
      "Training (8952 / 18000 Steps) (loss=0.41685): 100%|██████████| 7/7 [00:09<00:00,  1.29s/it]\n",
      "Training (8959 / 18000 Steps) (loss=0.10014): 100%|██████████| 7/7 [00:08<00:00,  1.26s/it]\n",
      "Training (8966 / 18000 Steps) (loss=0.46872): 100%|██████████| 7/7 [00:09<00:00,  1.29s/it]\n",
      "Training (8973 / 18000 Steps) (loss=0.31925): 100%|██████████| 7/7 [00:09<00:00,  1.34s/it]\n",
      "Training (8980 / 18000 Steps) (loss=0.23851): 100%|██████████| 7/7 [00:10<00:00,  1.43s/it]\n",
      "Training (8987 / 18000 Steps) (loss=0.31311): 100%|██████████| 7/7 [00:08<00:00,  1.27s/it]\n",
      "Training (8994 / 18000 Steps) (loss=0.41363): 100%|██████████| 7/7 [00:10<00:00,  1.54s/it]\n",
      "Validate (8995 / 10 Steps): 100%|██████████| 2/2 [00:05<00:00,  2.84s/it]<00:01,  1.09it/s]\n",
      "Training (9000 / 18000 Steps) (loss=0.36725):  86%|████████▌ | 6/7 [00:14<00:02,  2.71s/it]"
     ]
    },
    {
     "name": "stdout",
     "output_type": "stream",
     "text": [
      "Model Was Not Saved ! Current Best Avg. Dice: 0.57095867395401 Current Avg. Dice: 0.520633339881897 Current Avg. tumor Dice: 0.5822136402130127 Current Avg. lymph Dice: 0.45905306935310364\n"
     ]
    },
    {
     "name": "stderr",
     "output_type": "stream",
     "text": [
      "Training (9001 / 18000 Steps) (loss=0.41427): 100%|██████████| 7/7 [00:14<00:00,  2.06s/it]\n",
      "Training (9008 / 18000 Steps) (loss=0.31704): 100%|██████████| 7/7 [00:09<00:00,  1.29s/it]\n",
      "Training (9015 / 18000 Steps) (loss=0.24398): 100%|██████████| 7/7 [00:09<00:00,  1.32s/it]\n",
      "Training (9022 / 18000 Steps) (loss=0.47359): 100%|██████████| 7/7 [00:08<00:00,  1.26s/it]\n",
      "Training (9029 / 18000 Steps) (loss=0.24400): 100%|██████████| 7/7 [00:09<00:00,  1.34s/it]\n",
      "Training (9036 / 18000 Steps) (loss=0.25533): 100%|██████████| 7/7 [00:09<00:00,  1.38s/it]\n",
      "Training (9043 / 18000 Steps) (loss=0.23416): 100%|██████████| 7/7 [00:09<00:00,  1.43s/it]\n",
      "Training (9050 / 18000 Steps) (loss=0.12606): 100%|██████████| 7/7 [00:08<00:00,  1.22s/it]\n",
      "Training (9057 / 18000 Steps) (loss=0.19317): 100%|██████████| 7/7 [00:09<00:00,  1.35s/it]\n",
      "Training (9064 / 18000 Steps) (loss=0.42310): 100%|██████████| 7/7 [00:08<00:00,  1.26s/it]\n",
      "Training (9071 / 18000 Steps) (loss=0.53051): 100%|██████████| 7/7 [00:09<00:00,  1.33s/it]\n",
      "Training (9078 / 18000 Steps) (loss=0.13785): 100%|██████████| 7/7 [00:08<00:00,  1.23s/it]\n",
      "Training (9085 / 18000 Steps) (loss=0.41176): 100%|██████████| 7/7 [00:09<00:00,  1.39s/it]\n",
      "Training (9092 / 18000 Steps) (loss=0.22328): 100%|██████████| 7/7 [00:08<00:00,  1.28s/it]\n",
      "Training (9099 / 18000 Steps) (loss=0.32234): 100%|██████████| 7/7 [00:09<00:00,  1.31s/it]\n",
      "Validate (9100 / 10 Steps): 100%|██████████| 2/2 [00:05<00:00,  2.91s/it]<?, ?it/s]\n",
      "Training (9100 / 18000 Steps) (loss=0.30473):  14%|█▍        | 1/7 [00:12<01:14, 12.40s/it]"
     ]
    },
    {
     "name": "stdout",
     "output_type": "stream",
     "text": [
      "Model Was Not Saved ! Current Best Avg. Dice: 0.57095867395401 Current Avg. Dice: 0.5318117141723633 Current Avg. tumor Dice: 0.5910323262214661 Current Avg. lymph Dice: 0.4725911021232605\n"
     ]
    },
    {
     "name": "stderr",
     "output_type": "stream",
     "text": [
      "Training (9106 / 18000 Steps) (loss=0.14048): 100%|██████████| 7/7 [00:14<00:00,  2.12s/it]\n",
      "Training (9113 / 18000 Steps) (loss=0.53803): 100%|██████████| 7/7 [00:10<00:00,  1.46s/it]\n",
      "Training (9120 / 18000 Steps) (loss=0.40943): 100%|██████████| 7/7 [00:09<00:00,  1.32s/it]\n",
      "Training (9127 / 18000 Steps) (loss=0.23923): 100%|██████████| 7/7 [00:09<00:00,  1.36s/it]\n",
      "Training (9134 / 18000 Steps) (loss=0.40551): 100%|██████████| 7/7 [00:09<00:00,  1.34s/it]\n",
      "Training (9141 / 18000 Steps) (loss=0.52877): 100%|██████████| 7/7 [00:09<00:00,  1.36s/it]\n",
      "Training (9148 / 18000 Steps) (loss=0.21782): 100%|██████████| 7/7 [00:09<00:00,  1.32s/it]\n",
      "Training (9155 / 18000 Steps) (loss=0.36618): 100%|██████████| 7/7 [00:09<00:00,  1.34s/it]\n",
      "Training (9162 / 18000 Steps) (loss=0.42535): 100%|██████████| 7/7 [00:08<00:00,  1.28s/it]\n",
      "Training (9169 / 18000 Steps) (loss=0.30634): 100%|██████████| 7/7 [00:09<00:00,  1.29s/it]\n",
      "Training (9176 / 18000 Steps) (loss=0.19923): 100%|██████████| 7/7 [00:09<00:00,  1.38s/it]\n",
      "Training (9183 / 18000 Steps) (loss=0.39141): 100%|██████████| 7/7 [00:09<00:00,  1.34s/it]\n",
      "Training (9190 / 18000 Steps) (loss=0.32258): 100%|██████████| 7/7 [00:09<00:00,  1.37s/it]\n",
      "Training (9197 / 18000 Steps) (loss=0.41834): 100%|██████████| 7/7 [00:08<00:00,  1.21s/it]\n",
      "Validate (9198 / 10 Steps): 100%|██████████| 2/2 [00:06<00:00,  3.03s/it]<00:12,  2.53s/it]\n",
      "Training (9200 / 18000 Steps) (loss=0.18724):  43%|████▎     | 3/7 [00:12<00:17,  4.37s/it]"
     ]
    },
    {
     "name": "stdout",
     "output_type": "stream",
     "text": [
      "Model Was Not Saved ! Current Best Avg. Dice: 0.57095867395401 Current Avg. Dice: 0.5331586599349976 Current Avg. tumor Dice: 0.5727526545524597 Current Avg. lymph Dice: 0.4935647249221802\n"
     ]
    },
    {
     "name": "stderr",
     "output_type": "stream",
     "text": [
      "Training (9204 / 18000 Steps) (loss=0.30532): 100%|██████████| 7/7 [00:14<00:00,  2.01s/it]\n",
      "Training (9211 / 18000 Steps) (loss=0.66720): 100%|██████████| 7/7 [00:09<00:00,  1.31s/it]\n",
      "Training (9218 / 18000 Steps) (loss=0.38811): 100%|██████████| 7/7 [00:09<00:00,  1.31s/it]\n",
      "Training (9225 / 18000 Steps) (loss=0.30861): 100%|██████████| 7/7 [00:08<00:00,  1.18s/it]\n",
      "Training (9232 / 18000 Steps) (loss=0.46419): 100%|██████████| 7/7 [00:09<00:00,  1.37s/it]\n",
      "Training (9239 / 18000 Steps) (loss=0.41583): 100%|██████████| 7/7 [00:09<00:00,  1.32s/it]\n",
      "Training (9246 / 18000 Steps) (loss=0.25007): 100%|██████████| 7/7 [00:08<00:00,  1.19s/it]\n",
      "Training (9253 / 18000 Steps) (loss=0.46212): 100%|██████████| 7/7 [00:09<00:00,  1.41s/it]\n",
      "Training (9260 / 18000 Steps) (loss=0.50853): 100%|██████████| 7/7 [00:09<00:00,  1.40s/it]\n",
      "Training (9267 / 18000 Steps) (loss=0.28596): 100%|██████████| 7/7 [00:08<00:00,  1.19s/it]\n",
      "Training (9274 / 18000 Steps) (loss=0.12131): 100%|██████████| 7/7 [00:09<00:00,  1.31s/it]\n",
      "Training (9281 / 18000 Steps) (loss=0.39492): 100%|██████████| 7/7 [00:09<00:00,  1.36s/it]\n",
      "Training (9288 / 18000 Steps) (loss=0.35001): 100%|██████████| 7/7 [00:08<00:00,  1.27s/it]\n",
      "Training (9295 / 18000 Steps) (loss=0.27098): 100%|██████████| 7/7 [00:08<00:00,  1.25s/it]\n",
      "Validate (9296 / 10 Steps): 100%|██████████| 2/2 [00:06<00:00,  3.06s/it]<00:03,  1.26s/it]\n",
      "Training (9300 / 18000 Steps) (loss=0.33624):  71%|███████▏  | 5/7 [00:14<00:06,  3.20s/it]"
     ]
    },
    {
     "name": "stdout",
     "output_type": "stream",
     "text": [
      "Model Was Not Saved ! Current Best Avg. Dice: 0.57095867395401 Current Avg. Dice: 0.5488821268081665 Current Avg. tumor Dice: 0.5988606214523315 Current Avg. lymph Dice: 0.49890363216400146\n"
     ]
    },
    {
     "name": "stderr",
     "output_type": "stream",
     "text": [
      "Training (9302 / 18000 Steps) (loss=0.22118): 100%|██████████| 7/7 [00:14<00:00,  2.11s/it]\n",
      "Training (9309 / 18000 Steps) (loss=0.38871): 100%|██████████| 7/7 [00:08<00:00,  1.21s/it]\n",
      "Training (9316 / 18000 Steps) (loss=0.40316): 100%|██████████| 7/7 [00:08<00:00,  1.25s/it]\n",
      "Training (9323 / 18000 Steps) (loss=0.38593): 100%|██████████| 7/7 [00:09<00:00,  1.37s/it]\n",
      "Training (9330 / 18000 Steps) (loss=0.52514): 100%|██████████| 7/7 [00:08<00:00,  1.21s/it]\n",
      "Training (9337 / 18000 Steps) (loss=0.53919): 100%|██████████| 7/7 [00:08<00:00,  1.23s/it]\n",
      "Training (9344 / 18000 Steps) (loss=0.18902): 100%|██████████| 7/7 [00:08<00:00,  1.19s/it]\n",
      "Training (9351 / 18000 Steps) (loss=0.36089): 100%|██████████| 7/7 [00:09<00:00,  1.39s/it]\n",
      "Training (9358 / 18000 Steps) (loss=0.26029): 100%|██████████| 7/7 [00:08<00:00,  1.28s/it]\n",
      "Training (9365 / 18000 Steps) (loss=0.52859): 100%|██████████| 7/7 [00:08<00:00,  1.27s/it]\n",
      "Training (9372 / 18000 Steps) (loss=0.47209): 100%|██████████| 7/7 [00:09<00:00,  1.33s/it]\n",
      "Training (9379 / 18000 Steps) (loss=0.39987): 100%|██████████| 7/7 [00:09<00:00,  1.32s/it]\n",
      "Training (9386 / 18000 Steps) (loss=0.54891): 100%|██████████| 7/7 [00:08<00:00,  1.17s/it]\n",
      "Training (9393 / 18000 Steps) (loss=0.54683): 100%|██████████| 7/7 [00:09<00:00,  1.33s/it]\n",
      "Validate (9394 / 10 Steps): 100%|██████████| 2/2 [00:06<00:00,  3.01s/it]<00:00,  1.26it/s]\n",
      "Training (9400 / 18000 Steps) (loss=0.25689): 100%|██████████| 7/7 [00:15<00:00,  2.21s/it]\n"
     ]
    },
    {
     "name": "stdout",
     "output_type": "stream",
     "text": [
      "Model Was Not Saved ! Current Best Avg. Dice: 0.57095867395401 Current Avg. Dice: 0.5209296345710754 Current Avg. tumor Dice: 0.5845673680305481 Current Avg. lymph Dice: 0.4572919011116028\n"
     ]
    },
    {
     "name": "stderr",
     "output_type": "stream",
     "text": [
      "Training (9407 / 18000 Steps) (loss=0.45645): 100%|██████████| 7/7 [00:09<00:00,  1.29s/it]\n",
      "Training (9414 / 18000 Steps) (loss=0.38532): 100%|██████████| 7/7 [00:09<00:00,  1.37s/it]\n",
      "Training (9421 / 18000 Steps) (loss=0.44720): 100%|██████████| 7/7 [00:08<00:00,  1.25s/it]\n",
      "Training (9428 / 18000 Steps) (loss=0.12300): 100%|██████████| 7/7 [00:08<00:00,  1.22s/it]\n",
      "Training (9435 / 18000 Steps) (loss=0.38847): 100%|██████████| 7/7 [00:08<00:00,  1.24s/it]\n",
      "Training (9442 / 18000 Steps) (loss=0.53871): 100%|██████████| 7/7 [00:09<00:00,  1.35s/it]\n",
      "Training (9449 / 18000 Steps) (loss=0.39311): 100%|██████████| 7/7 [00:09<00:00,  1.34s/it]\n",
      "Training (9456 / 18000 Steps) (loss=0.32378): 100%|██████████| 7/7 [00:10<00:00,  1.44s/it]\n",
      "Training (9463 / 18000 Steps) (loss=0.15844): 100%|██████████| 7/7 [00:08<00:00,  1.25s/it]\n",
      "Training (9470 / 18000 Steps) (loss=0.22285): 100%|██████████| 7/7 [00:09<00:00,  1.41s/it]\n",
      "Training (9477 / 18000 Steps) (loss=0.15506): 100%|██████████| 7/7 [00:09<00:00,  1.34s/it]\n",
      "Training (9484 / 18000 Steps) (loss=0.16182): 100%|██████████| 7/7 [00:08<00:00,  1.21s/it]\n",
      "Training (9491 / 18000 Steps) (loss=0.33673): 100%|██████████| 7/7 [00:09<00:00,  1.41s/it]\n",
      "Training (9498 / 18000 Steps) (loss=0.28184): 100%|██████████| 7/7 [00:08<00:00,  1.27s/it]\n",
      "Validate (9499 / 10 Steps): 100%|██████████| 2/2 [00:05<00:00,  2.94s/it]<00:32,  5.46s/it]\n",
      "Training (9500 / 18000 Steps) (loss=0.31303):  29%|██▊       | 2/7 [00:11<00:30,  6.02s/it]"
     ]
    },
    {
     "name": "stdout",
     "output_type": "stream",
     "text": [
      "Model Was Not Saved ! Current Best Avg. Dice: 0.57095867395401 Current Avg. Dice: 0.5211414694786072 Current Avg. tumor Dice: 0.6154698729515076 Current Avg. lymph Dice: 0.4268130958080292\n"
     ]
    },
    {
     "name": "stderr",
     "output_type": "stream",
     "text": [
      "Training (9505 / 18000 Steps) (loss=0.24135): 100%|██████████| 7/7 [00:13<00:00,  1.98s/it]\n",
      "Training (9512 / 18000 Steps) (loss=0.30754): 100%|██████████| 7/7 [00:09<00:00,  1.32s/it]\n",
      "Training (9519 / 18000 Steps) (loss=0.25305): 100%|██████████| 7/7 [00:09<00:00,  1.35s/it]\n",
      "Training (9526 / 18000 Steps) (loss=0.44816): 100%|██████████| 7/7 [00:08<00:00,  1.27s/it]\n",
      "Training (9533 / 18000 Steps) (loss=0.39707): 100%|██████████| 7/7 [00:09<00:00,  1.33s/it]\n",
      "Training (9540 / 18000 Steps) (loss=0.34252): 100%|██████████| 7/7 [00:08<00:00,  1.23s/it]\n",
      "Training (9547 / 18000 Steps) (loss=0.33611): 100%|██████████| 7/7 [00:09<00:00,  1.29s/it]\n",
      "Training (9554 / 18000 Steps) (loss=0.66810): 100%|██████████| 7/7 [00:09<00:00,  1.34s/it]\n",
      "Training (9561 / 18000 Steps) (loss=0.24461): 100%|██████████| 7/7 [00:09<00:00,  1.38s/it]\n",
      "Training (9568 / 18000 Steps) (loss=0.29548): 100%|██████████| 7/7 [00:09<00:00,  1.31s/it]\n",
      "Training (9575 / 18000 Steps) (loss=0.53865): 100%|██████████| 7/7 [00:09<00:00,  1.39s/it]\n",
      "Training (9582 / 18000 Steps) (loss=0.26620): 100%|██████████| 7/7 [00:08<00:00,  1.25s/it]\n",
      "Training (9589 / 18000 Steps) (loss=0.39022): 100%|██████████| 7/7 [00:09<00:00,  1.37s/it]\n",
      "Training (9596 / 18000 Steps) (loss=0.26084): 100%|██████████| 7/7 [00:09<00:00,  1.32s/it]\n",
      "Validate (9597 / 10 Steps): 100%|██████████| 2/2 [00:05<00:00,  2.90s/it]<00:07,  1.81s/it]\n",
      "Training (9600 / 18000 Steps) (loss=0.18477):  57%|█████▋    | 4/7 [00:13<00:10,  3.59s/it]"
     ]
    },
    {
     "name": "stdout",
     "output_type": "stream",
     "text": [
      "Model Was Not Saved ! Current Best Avg. Dice: 0.57095867395401 Current Avg. Dice: 0.5419915914535522 Current Avg. tumor Dice: 0.5947221517562866 Current Avg. lymph Dice: 0.48926103115081787\n"
     ]
    },
    {
     "name": "stderr",
     "output_type": "stream",
     "text": [
      "Training (9603 / 18000 Steps) (loss=0.39138): 100%|██████████| 7/7 [00:14<00:00,  2.14s/it]\n",
      "Training (9610 / 18000 Steps) (loss=0.28244): 100%|██████████| 7/7 [00:08<00:00,  1.21s/it]\n",
      "Training (9617 / 18000 Steps) (loss=0.27382): 100%|██████████| 7/7 [00:09<00:00,  1.30s/it]\n",
      "Training (9624 / 18000 Steps) (loss=0.31264): 100%|██████████| 7/7 [00:09<00:00,  1.30s/it]\n",
      "Training (9631 / 18000 Steps) (loss=0.43881): 100%|██████████| 7/7 [00:09<00:00,  1.38s/it]\n",
      "Training (9638 / 18000 Steps) (loss=0.41608): 100%|██████████| 7/7 [00:08<00:00,  1.26s/it]\n",
      "Training (9645 / 18000 Steps) (loss=0.39258): 100%|██████████| 7/7 [00:08<00:00,  1.20s/it]\n",
      "Training (9652 / 18000 Steps) (loss=0.38173): 100%|██████████| 7/7 [00:08<00:00,  1.19s/it]\n",
      "Training (9659 / 18000 Steps) (loss=0.21500): 100%|██████████| 7/7 [00:09<00:00,  1.33s/it]\n",
      "Training (9666 / 18000 Steps) (loss=0.66683): 100%|██████████| 7/7 [00:08<00:00,  1.23s/it]\n",
      "Training (9673 / 18000 Steps) (loss=0.41939): 100%|██████████| 7/7 [00:08<00:00,  1.19s/it]\n",
      "Training (9680 / 18000 Steps) (loss=0.41004): 100%|██████████| 7/7 [00:08<00:00,  1.25s/it]\n",
      "Training (9687 / 18000 Steps) (loss=0.32907): 100%|██████████| 7/7 [00:09<00:00,  1.30s/it]\n",
      "Training (9694 / 18000 Steps) (loss=0.48601): 100%|██████████| 7/7 [00:08<00:00,  1.23s/it]\n",
      "Validate (9695 / 10 Steps): 100%|██████████| 2/2 [00:05<00:00,  2.98s/it]<00:01,  1.09it/s]\n",
      "Training (9700 / 18000 Steps) (loss=0.42246):  86%|████████▌ | 6/7 [00:14<00:02,  2.81s/it]"
     ]
    },
    {
     "name": "stdout",
     "output_type": "stream",
     "text": [
      "Model Was Not Saved ! Current Best Avg. Dice: 0.57095867395401 Current Avg. Dice: 0.5704891681671143 Current Avg. tumor Dice: 0.6205325722694397 Current Avg. lymph Dice: 0.5204458236694336\n"
     ]
    },
    {
     "name": "stderr",
     "output_type": "stream",
     "text": [
      "Training (9701 / 18000 Steps) (loss=0.41657): 100%|██████████| 7/7 [00:14<00:00,  2.10s/it]\n",
      "Training (9708 / 18000 Steps) (loss=0.23976): 100%|██████████| 7/7 [00:09<00:00,  1.40s/it]\n",
      "Training (9715 / 18000 Steps) (loss=0.27843): 100%|██████████| 7/7 [00:09<00:00,  1.30s/it]\n",
      "Training (9722 / 18000 Steps) (loss=0.11827): 100%|██████████| 7/7 [00:09<00:00,  1.31s/it]\n",
      "Training (9729 / 18000 Steps) (loss=0.66772): 100%|██████████| 7/7 [00:09<00:00,  1.38s/it]\n",
      "Training (9736 / 18000 Steps) (loss=0.33627): 100%|██████████| 7/7 [00:08<00:00,  1.17s/it]\n",
      "Training (9743 / 18000 Steps) (loss=0.47899): 100%|██████████| 7/7 [00:09<00:00,  1.29s/it]\n",
      "Training (9750 / 18000 Steps) (loss=0.19312): 100%|██████████| 7/7 [00:10<00:00,  1.48s/it]\n",
      "Training (9757 / 18000 Steps) (loss=0.11964): 100%|██████████| 7/7 [00:08<00:00,  1.17s/it]\n",
      "Training (9764 / 18000 Steps) (loss=0.60046): 100%|██████████| 7/7 [00:08<00:00,  1.23s/it]\n",
      "Training (9771 / 18000 Steps) (loss=0.23655): 100%|██████████| 7/7 [00:09<00:00,  1.32s/it]\n",
      "Training (9778 / 18000 Steps) (loss=0.41185): 100%|██████████| 7/7 [00:08<00:00,  1.25s/it]\n",
      "Training (9785 / 18000 Steps) (loss=0.42084): 100%|██████████| 7/7 [00:09<00:00,  1.30s/it]\n",
      "Training (9792 / 18000 Steps) (loss=0.26850): 100%|██████████| 7/7 [00:09<00:00,  1.35s/it]\n",
      "Training (9799 / 18000 Steps) (loss=0.14826): 100%|██████████| 7/7 [00:08<00:00,  1.26s/it]\n",
      "Validate (9800 / 10 Steps): 100%|██████████| 2/2 [00:06<00:00,  3.04s/it]<?, ?it/s]\n",
      "Training (9800 / 18000 Steps) (loss=0.40220):  14%|█▍        | 1/7 [00:12<01:17, 12.88s/it]"
     ]
    },
    {
     "name": "stdout",
     "output_type": "stream",
     "text": [
      "Model Was Saved ! Current Best Avg. Dice: 0.5721765756607056 Current Avg. Dice: 0.5721765756607056 Current Avg. tumor Dice: 0.622173011302948 Current Avg. lymph Dice: 0.5221800804138184\n"
     ]
    },
    {
     "name": "stderr",
     "output_type": "stream",
     "text": [
      "Training (9806 / 18000 Steps) (loss=0.33093): 100%|██████████| 7/7 [00:15<00:00,  2.19s/it]\n",
      "Training (9813 / 18000 Steps) (loss=0.26491): 100%|██████████| 7/7 [00:09<00:00,  1.39s/it]\n",
      "Training (9820 / 18000 Steps) (loss=0.40698): 100%|██████████| 7/7 [00:09<00:00,  1.31s/it]\n",
      "Training (9827 / 18000 Steps) (loss=0.47452): 100%|██████████| 7/7 [00:08<00:00,  1.19s/it]\n",
      "Training (9834 / 18000 Steps) (loss=0.49840): 100%|██████████| 7/7 [00:09<00:00,  1.41s/it]\n",
      "Training (9841 / 18000 Steps) (loss=0.28329): 100%|██████████| 7/7 [00:09<00:00,  1.29s/it]\n",
      "Training (9848 / 18000 Steps) (loss=0.18612): 100%|██████████| 7/7 [00:09<00:00,  1.32s/it]\n",
      "Training (9855 / 18000 Steps) (loss=0.57078): 100%|██████████| 7/7 [00:08<00:00,  1.22s/it]\n",
      "Training (9862 / 18000 Steps) (loss=0.29675): 100%|██████████| 7/7 [00:09<00:00,  1.39s/it]\n",
      "Training (9869 / 18000 Steps) (loss=0.24045): 100%|██████████| 7/7 [00:08<00:00,  1.20s/it]\n",
      "Training (9876 / 18000 Steps) (loss=0.31161): 100%|██████████| 7/7 [00:08<00:00,  1.20s/it]\n",
      "Training (9883 / 18000 Steps) (loss=0.38865): 100%|██████████| 7/7 [00:08<00:00,  1.27s/it]\n",
      "Training (9890 / 18000 Steps) (loss=0.34723): 100%|██████████| 7/7 [00:09<00:00,  1.37s/it]\n",
      "Training (9897 / 18000 Steps) (loss=0.26988): 100%|██████████| 7/7 [00:08<00:00,  1.17s/it]\n",
      "Validate (9898 / 10 Steps): 100%|██████████| 2/2 [00:05<00:00,  2.78s/it]<00:15,  3.05s/it]\n",
      "Training (9900 / 18000 Steps) (loss=0.25130):  43%|████▎     | 3/7 [00:13<00:17,  4.43s/it]"
     ]
    },
    {
     "name": "stdout",
     "output_type": "stream",
     "text": [
      "Model Was Not Saved ! Current Best Avg. Dice: 0.5721765756607056 Current Avg. Dice: 0.5504093170166016 Current Avg. tumor Dice: 0.576565682888031 Current Avg. lymph Dice: 0.5242528915405273\n"
     ]
    },
    {
     "name": "stderr",
     "output_type": "stream",
     "text": [
      "Training (9904 / 18000 Steps) (loss=0.25099): 100%|██████████| 7/7 [00:14<00:00,  2.10s/it]\n",
      "Training (9911 / 18000 Steps) (loss=0.15688): 100%|██████████| 7/7 [00:09<00:00,  1.41s/it]\n",
      "Training (9918 / 18000 Steps) (loss=0.47095): 100%|██████████| 7/7 [00:08<00:00,  1.22s/it]\n",
      "Training (9925 / 18000 Steps) (loss=0.27180): 100%|██████████| 7/7 [00:09<00:00,  1.32s/it]\n",
      "Training (9932 / 18000 Steps) (loss=0.39781): 100%|██████████| 7/7 [00:09<00:00,  1.40s/it]\n",
      "Training (9939 / 18000 Steps) (loss=0.38580): 100%|██████████| 7/7 [00:08<00:00,  1.28s/it]\n",
      "Training (9946 / 18000 Steps) (loss=0.53329): 100%|██████████| 7/7 [00:09<00:00,  1.34s/it]\n",
      "Training (9953 / 18000 Steps) (loss=0.19535): 100%|██████████| 7/7 [00:10<00:00,  1.45s/it]\n",
      "Training (9960 / 18000 Steps) (loss=0.24702): 100%|██████████| 7/7 [00:09<00:00,  1.32s/it]\n",
      "Training (9967 / 18000 Steps) (loss=0.42137): 100%|██████████| 7/7 [00:10<00:00,  1.43s/it]\n",
      "Training (9974 / 18000 Steps) (loss=0.33644): 100%|██████████| 7/7 [00:09<00:00,  1.35s/it]\n",
      "Training (9981 / 18000 Steps) (loss=0.33481): 100%|██████████| 7/7 [00:09<00:00,  1.34s/it]\n",
      "Training (9988 / 18000 Steps) (loss=0.41599): 100%|██████████| 7/7 [00:09<00:00,  1.29s/it]\n",
      "Training (9995 / 18000 Steps) (loss=0.42199): 100%|██████████| 7/7 [00:09<00:00,  1.34s/it]\n",
      "Validate (9996 / 10 Steps): 100%|██████████| 2/2 [00:05<00:00,  2.91s/it]8<00:03,  1.25s/it]\n",
      "Training (10000 / 18000 Steps) (loss=0.45808):  71%|███████▏  | 5/7 [00:14<00:06,  3.08s/it]"
     ]
    },
    {
     "name": "stdout",
     "output_type": "stream",
     "text": [
      "Model Was Not Saved ! Current Best Avg. Dice: 0.5721765756607056 Current Avg. Dice: 0.5585871934890747 Current Avg. tumor Dice: 0.5862346291542053 Current Avg. lymph Dice: 0.5309398174285889\n"
     ]
    },
    {
     "name": "stderr",
     "output_type": "stream",
     "text": [
      "Training (10002 / 18000 Steps) (loss=0.27218): 100%|██████████| 7/7 [00:14<00:00,  2.12s/it]\n",
      "Training (10009 / 18000 Steps) (loss=0.46557): 100%|██████████| 7/7 [00:09<00:00,  1.32s/it]\n",
      "Training (10016 / 18000 Steps) (loss=0.38656): 100%|██████████| 7/7 [00:09<00:00,  1.36s/it]\n",
      "Training (10023 / 18000 Steps) (loss=0.24219): 100%|██████████| 7/7 [00:08<00:00,  1.22s/it]\n",
      "Training (10030 / 18000 Steps) (loss=0.33171): 100%|██████████| 7/7 [00:09<00:00,  1.43s/it]\n",
      "Training (10037 / 18000 Steps) (loss=0.53010): 100%|██████████| 7/7 [00:09<00:00,  1.39s/it]\n",
      "Training (10044 / 18000 Steps) (loss=0.41105): 100%|██████████| 7/7 [00:08<00:00,  1.28s/it]\n",
      "Training (10051 / 18000 Steps) (loss=0.11869): 100%|██████████| 7/7 [00:08<00:00,  1.24s/it]\n",
      "Training (10058 / 18000 Steps) (loss=0.45420): 100%|██████████| 7/7 [00:08<00:00,  1.24s/it]\n",
      "Training (10065 / 18000 Steps) (loss=0.59226): 100%|██████████| 7/7 [00:08<00:00,  1.26s/it]\n",
      "Training (10072 / 18000 Steps) (loss=0.40678): 100%|██████████| 7/7 [00:08<00:00,  1.20s/it]\n",
      "Training (10079 / 18000 Steps) (loss=0.12026): 100%|██████████| 7/7 [00:08<00:00,  1.20s/it]\n",
      "Training (10086 / 18000 Steps) (loss=0.22067): 100%|██████████| 7/7 [00:09<00:00,  1.31s/it]\n",
      "Training (10093 / 18000 Steps) (loss=0.36919): 100%|██████████| 7/7 [00:08<00:00,  1.19s/it]\n",
      "Validate (10094 / 10 Steps): 100%|██████████| 2/2 [00:06<00:00,  3.04s/it]<00:00,  1.32it/s]\n",
      "Training (10100 / 18000 Steps) (loss=0.33800): 100%|██████████| 7/7 [00:14<00:00,  2.13s/it]\n"
     ]
    },
    {
     "name": "stdout",
     "output_type": "stream",
     "text": [
      "Model Was Not Saved ! Current Best Avg. Dice: 0.5721765756607056 Current Avg. Dice: 0.526195228099823 Current Avg. tumor Dice: 0.5942699909210205 Current Avg. lymph Dice: 0.4581204652786255\n"
     ]
    },
    {
     "name": "stderr",
     "output_type": "stream",
     "text": [
      "Training (10107 / 18000 Steps) (loss=0.34103): 100%|██████████| 7/7 [00:08<00:00,  1.24s/it]\n",
      "Training (10114 / 18000 Steps) (loss=0.45731): 100%|██████████| 7/7 [00:09<00:00,  1.35s/it]\n",
      "Training (10121 / 18000 Steps) (loss=0.37782): 100%|██████████| 7/7 [00:08<00:00,  1.19s/it]\n",
      "Training (10128 / 18000 Steps) (loss=0.39360): 100%|██████████| 7/7 [00:09<00:00,  1.29s/it]\n",
      "Training (10135 / 18000 Steps) (loss=0.36383): 100%|██████████| 7/7 [00:10<00:00,  1.45s/it]\n",
      "Training (10142 / 18000 Steps) (loss=0.20014): 100%|██████████| 7/7 [00:09<00:00,  1.37s/it]\n",
      "Training (10149 / 18000 Steps) (loss=0.25167): 100%|██████████| 7/7 [00:08<00:00,  1.28s/it]\n",
      "Training (10156 / 18000 Steps) (loss=0.24670): 100%|██████████| 7/7 [00:09<00:00,  1.39s/it]\n",
      "Training (10163 / 18000 Steps) (loss=0.35716): 100%|██████████| 7/7 [00:09<00:00,  1.37s/it]\n",
      "Training (10170 / 18000 Steps) (loss=0.35661): 100%|██████████| 7/7 [00:09<00:00,  1.32s/it]\n",
      "Training (10177 / 18000 Steps) (loss=0.52696): 100%|██████████| 7/7 [00:09<00:00,  1.33s/it]\n",
      "Training (10184 / 18000 Steps) (loss=0.47028): 100%|██████████| 7/7 [00:09<00:00,  1.30s/it]\n",
      "Training (10191 / 18000 Steps) (loss=0.24924): 100%|██████████| 7/7 [00:09<00:00,  1.29s/it]\n",
      "Training (10198 / 18000 Steps) (loss=0.39802): 100%|██████████| 7/7 [00:08<00:00,  1.29s/it]\n",
      "Validate (10199 / 10 Steps): 100%|██████████| 2/2 [00:06<00:00,  3.01s/it]<00:36,  6.06s/it]\n",
      "Training (10200 / 18000 Steps) (loss=0.41913):  29%|██▊       | 2/7 [00:12<00:31,  6.34s/it]"
     ]
    },
    {
     "name": "stdout",
     "output_type": "stream",
     "text": [
      "Model Was Not Saved ! Current Best Avg. Dice: 0.5721765756607056 Current Avg. Dice: 0.5627428293228149 Current Avg. tumor Dice: 0.6278274655342102 Current Avg. lymph Dice: 0.49765825271606445\n"
     ]
    },
    {
     "name": "stderr",
     "output_type": "stream",
     "text": [
      "Training (10205 / 18000 Steps) (loss=0.28146): 100%|██████████| 7/7 [00:14<00:00,  2.09s/it]\n",
      "Training (10212 / 18000 Steps) (loss=0.39840): 100%|██████████| 7/7 [00:09<00:00,  1.32s/it]\n",
      "Training (10219 / 18000 Steps) (loss=0.39359): 100%|██████████| 7/7 [00:09<00:00,  1.35s/it]\n",
      "Training (10226 / 18000 Steps) (loss=0.52767): 100%|██████████| 7/7 [00:09<00:00,  1.32s/it]\n",
      "Training (10233 / 18000 Steps) (loss=0.53680): 100%|██████████| 7/7 [00:10<00:00,  1.49s/it]\n",
      "Training (10240 / 18000 Steps) (loss=0.27802): 100%|██████████| 7/7 [00:09<00:00,  1.38s/it]\n",
      "Training (10247 / 18000 Steps) (loss=0.09738): 100%|██████████| 7/7 [00:08<00:00,  1.26s/it]\n",
      "Training (10254 / 18000 Steps) (loss=0.60257): 100%|██████████| 7/7 [00:10<00:00,  1.56s/it]\n",
      "Training (10261 / 18000 Steps) (loss=0.40318): 100%|██████████| 7/7 [00:09<00:00,  1.39s/it]\n",
      "Training (10268 / 18000 Steps) (loss=0.40488): 100%|██████████| 7/7 [00:09<00:00,  1.32s/it]\n",
      "Training (10275 / 18000 Steps) (loss=0.32245): 100%|██████████| 7/7 [00:09<00:00,  1.41s/it]\n",
      "Training (10282 / 18000 Steps) (loss=0.17418): 100%|██████████| 7/7 [00:09<00:00,  1.29s/it]\n",
      "Training (10289 / 18000 Steps) (loss=0.24240): 100%|██████████| 7/7 [00:08<00:00,  1.24s/it]\n",
      "Training (10296 / 18000 Steps) (loss=0.25467): 100%|██████████| 7/7 [00:08<00:00,  1.20s/it]\n",
      "Validate (10297 / 10 Steps): 100%|██████████| 2/2 [00:06<00:00,  3.02s/it]<00:07,  1.96s/it]\n",
      "Training (10300 / 18000 Steps) (loss=0.45898):  57%|█████▋    | 4/7 [00:14<00:11,  3.77s/it]"
     ]
    },
    {
     "name": "stdout",
     "output_type": "stream",
     "text": [
      "Model Was Not Saved ! Current Best Avg. Dice: 0.5721765756607056 Current Avg. Dice: 0.5673730969429016 Current Avg. tumor Dice: 0.6190212965011597 Current Avg. lymph Dice: 0.5157248973846436\n"
     ]
    },
    {
     "name": "stderr",
     "output_type": "stream",
     "text": [
      "Training (10303 / 18000 Steps) (loss=0.15027): 100%|██████████| 7/7 [00:15<00:00,  2.25s/it]\n",
      "Training (10310 / 18000 Steps) (loss=0.53872): 100%|██████████| 7/7 [00:09<00:00,  1.38s/it]\n",
      "Training (10317 / 18000 Steps) (loss=0.49049): 100%|██████████| 7/7 [00:09<00:00,  1.42s/it]\n",
      "Training (10324 / 18000 Steps) (loss=0.41775): 100%|██████████| 7/7 [00:08<00:00,  1.26s/it]\n",
      "Training (10331 / 18000 Steps) (loss=0.33717): 100%|██████████| 7/7 [00:08<00:00,  1.20s/it]\n",
      "Training (10338 / 18000 Steps) (loss=0.29515): 100%|██████████| 7/7 [00:09<00:00,  1.34s/it]\n",
      "Training (10345 / 18000 Steps) (loss=0.53129): 100%|██████████| 7/7 [00:09<00:00,  1.31s/it]\n",
      "Training (10352 / 18000 Steps) (loss=0.17452): 100%|██████████| 7/7 [00:09<00:00,  1.30s/it]\n",
      "Training (10359 / 18000 Steps) (loss=0.33308): 100%|██████████| 7/7 [00:08<00:00,  1.26s/it]\n",
      "Training (10366 / 18000 Steps) (loss=0.39928): 100%|██████████| 7/7 [00:09<00:00,  1.42s/it]\n",
      "Training (10373 / 18000 Steps) (loss=0.24552): 100%|██████████| 7/7 [00:08<00:00,  1.20s/it]\n",
      "Training (10380 / 18000 Steps) (loss=0.13171): 100%|██████████| 7/7 [00:09<00:00,  1.33s/it]\n",
      "Training (10387 / 18000 Steps) (loss=0.38830): 100%|██████████| 7/7 [00:09<00:00,  1.34s/it]\n",
      "Training (10394 / 18000 Steps) (loss=0.17418): 100%|██████████| 7/7 [00:09<00:00,  1.34s/it]\n",
      "Validate (10395 / 10 Steps): 100%|██████████| 2/2 [00:06<00:00,  3.05s/it]<00:02,  1.05s/it]\n",
      "Training (10400 / 18000 Steps) (loss=0.39829):  86%|████████▌ | 6/7 [00:15<00:02,  2.93s/it]"
     ]
    },
    {
     "name": "stdout",
     "output_type": "stream",
     "text": [
      "Model Was Not Saved ! Current Best Avg. Dice: 0.5721765756607056 Current Avg. Dice: 0.5630283951759338 Current Avg. tumor Dice: 0.6289557218551636 Current Avg. lymph Dice: 0.4971010088920593\n"
     ]
    },
    {
     "name": "stderr",
     "output_type": "stream",
     "text": [
      "Training (10401 / 18000 Steps) (loss=0.17276): 100%|██████████| 7/7 [00:15<00:00,  2.19s/it]\n",
      "Training (10408 / 18000 Steps) (loss=0.12252): 100%|██████████| 7/7 [00:09<00:00,  1.41s/it]\n",
      "Training (10415 / 18000 Steps) (loss=0.49260): 100%|██████████| 7/7 [00:09<00:00,  1.32s/it]\n",
      "Training (10422 / 18000 Steps) (loss=0.59786): 100%|██████████| 7/7 [00:09<00:00,  1.31s/it]\n",
      "Training (10429 / 18000 Steps) (loss=0.28206): 100%|██████████| 7/7 [00:09<00:00,  1.38s/it]\n",
      "Training (10436 / 18000 Steps) (loss=0.27010): 100%|██████████| 7/7 [00:08<00:00,  1.27s/it]\n",
      "Training (10443 / 18000 Steps) (loss=0.22432): 100%|██████████| 7/7 [00:08<00:00,  1.26s/it]\n",
      "Training (10450 / 18000 Steps) (loss=0.20374): 100%|██████████| 7/7 [00:08<00:00,  1.22s/it]\n",
      "Training (10457 / 18000 Steps) (loss=0.20776): 100%|██████████| 7/7 [00:10<00:00,  1.48s/it]\n",
      "Training (10464 / 18000 Steps) (loss=0.34648): 100%|██████████| 7/7 [00:10<00:00,  1.43s/it]\n",
      "Training (10471 / 18000 Steps) (loss=0.13789): 100%|██████████| 7/7 [00:08<00:00,  1.26s/it]\n",
      "Training (10478 / 18000 Steps) (loss=0.53364): 100%|██████████| 7/7 [00:08<00:00,  1.28s/it]\n",
      "Training (10485 / 18000 Steps) (loss=0.14755): 100%|██████████| 7/7 [00:08<00:00,  1.24s/it]\n",
      "Training (10492 / 18000 Steps) (loss=0.11514): 100%|██████████| 7/7 [00:08<00:00,  1.24s/it]\n",
      "Training (10499 / 18000 Steps) (loss=0.49381): 100%|██████████| 7/7 [00:09<00:00,  1.42s/it]\n",
      "Validate (10500 / 10 Steps): 100%|██████████| 2/2 [00:05<00:00,  2.91s/it]<?, ?it/s]\n",
      "Training (10500 / 18000 Steps) (loss=0.18950):  14%|█▍        | 1/7 [00:12<01:13, 12.28s/it]"
     ]
    },
    {
     "name": "stdout",
     "output_type": "stream",
     "text": [
      "Model Was Not Saved ! Current Best Avg. Dice: 0.5721765756607056 Current Avg. Dice: 0.5211200714111328 Current Avg. tumor Dice: 0.5257606506347656 Current Avg. lymph Dice: 0.5164794325828552\n"
     ]
    },
    {
     "name": "stderr",
     "output_type": "stream",
     "text": [
      "Training (10506 / 18000 Steps) (loss=0.37676): 100%|██████████| 7/7 [00:14<00:00,  2.10s/it]\n",
      "Training (10513 / 18000 Steps) (loss=0.41130): 100%|██████████| 7/7 [00:09<00:00,  1.35s/it]\n",
      "Training (10520 / 18000 Steps) (loss=0.23766): 100%|██████████| 7/7 [00:09<00:00,  1.36s/it]\n",
      "Training (10527 / 18000 Steps) (loss=0.21906): 100%|██████████| 7/7 [00:09<00:00,  1.29s/it]\n",
      "Training (10534 / 18000 Steps) (loss=0.12767): 100%|██████████| 7/7 [00:09<00:00,  1.33s/it]\n",
      "Training (10541 / 18000 Steps) (loss=0.37415): 100%|██████████| 7/7 [00:09<00:00,  1.39s/it]\n",
      "Training (10548 / 18000 Steps) (loss=0.41062): 100%|██████████| 7/7 [00:08<00:00,  1.28s/it]\n",
      "Training (10555 / 18000 Steps) (loss=0.51855): 100%|██████████| 7/7 [00:09<00:00,  1.31s/it]\n",
      "Training (10562 / 18000 Steps) (loss=0.29491): 100%|██████████| 7/7 [00:09<00:00,  1.40s/it]\n",
      "Training (10569 / 18000 Steps) (loss=0.12203): 100%|██████████| 7/7 [00:10<00:00,  1.47s/it]\n",
      "Training (10576 / 18000 Steps) (loss=0.45962): 100%|██████████| 7/7 [00:09<00:00,  1.32s/it]\n",
      "Training (10583 / 18000 Steps) (loss=0.22924): 100%|██████████| 7/7 [00:08<00:00,  1.27s/it]\n",
      "Training (10590 / 18000 Steps) (loss=0.47382): 100%|██████████| 7/7 [00:09<00:00,  1.30s/it]\n",
      "Training (10597 / 18000 Steps) (loss=0.46158): 100%|██████████| 7/7 [00:09<00:00,  1.32s/it]\n",
      "Validate (10598 / 10 Steps): 100%|██████████| 2/2 [00:06<00:00,  3.03s/it]<00:15,  3.06s/it]\n",
      "Training (10600 / 18000 Steps) (loss=0.34195):  43%|████▎     | 3/7 [00:13<00:18,  4.66s/it]"
     ]
    },
    {
     "name": "stdout",
     "output_type": "stream",
     "text": [
      "Model Was Not Saved ! Current Best Avg. Dice: 0.5721765756607056 Current Avg. Dice: 0.5563448667526245 Current Avg. tumor Dice: 0.602632999420166 Current Avg. lymph Dice: 0.5100566744804382\n"
     ]
    },
    {
     "name": "stderr",
     "output_type": "stream",
     "text": [
      "Training (10604 / 18000 Steps) (loss=0.26833): 100%|██████████| 7/7 [00:15<00:00,  2.16s/it]\n",
      "Training (10611 / 18000 Steps) (loss=0.27056): 100%|██████████| 7/7 [00:09<00:00,  1.37s/it]\n",
      "Training (10618 / 18000 Steps) (loss=0.25812): 100%|██████████| 7/7 [00:09<00:00,  1.41s/it]\n",
      "Training (10625 / 18000 Steps) (loss=0.40456): 100%|██████████| 7/7 [00:08<00:00,  1.25s/it]\n",
      "Training (10632 / 18000 Steps) (loss=0.55252): 100%|██████████| 7/7 [00:08<00:00,  1.22s/it]\n",
      "Training (10639 / 18000 Steps) (loss=0.53026): 100%|██████████| 7/7 [00:09<00:00,  1.39s/it]\n",
      "Training (10646 / 18000 Steps) (loss=0.46461): 100%|██████████| 7/7 [00:09<00:00,  1.35s/it]\n",
      "Training (10653 / 18000 Steps) (loss=0.33944): 100%|██████████| 7/7 [00:10<00:00,  1.45s/it]\n",
      "Training (10660 / 18000 Steps) (loss=0.31605): 100%|██████████| 7/7 [00:08<00:00,  1.25s/it]\n",
      "Training (10667 / 18000 Steps) (loss=0.12056): 100%|██████████| 7/7 [00:08<00:00,  1.27s/it]\n",
      "Training (10674 / 18000 Steps) (loss=0.40258): 100%|██████████| 7/7 [00:08<00:00,  1.21s/it]\n",
      "Training (10681 / 18000 Steps) (loss=0.53126): 100%|██████████| 7/7 [00:09<00:00,  1.32s/it]\n",
      "Training (10688 / 18000 Steps) (loss=0.52372): 100%|██████████| 7/7 [00:09<00:00,  1.38s/it]\n",
      "Training (10695 / 18000 Steps) (loss=0.46488): 100%|██████████| 7/7 [00:08<00:00,  1.28s/it]\n",
      "Validate (10696 / 10 Steps): 100%|██████████| 2/2 [00:06<00:00,  3.35s/it]<00:03,  1.20s/it]\n",
      "Training (10700 / 18000 Steps) (loss=0.34154):  71%|███████▏  | 5/7 [00:14<00:06,  3.38s/it]"
     ]
    },
    {
     "name": "stdout",
     "output_type": "stream",
     "text": [
      "Model Was Not Saved ! Current Best Avg. Dice: 0.5721765756607056 Current Avg. Dice: 0.5640218257904053 Current Avg. tumor Dice: 0.6020460724830627 Current Avg. lymph Dice: 0.5259976387023926\n"
     ]
    },
    {
     "name": "stderr",
     "output_type": "stream",
     "text": [
      "Training (10702 / 18000 Steps) (loss=0.25201): 100%|██████████| 7/7 [00:15<00:00,  2.17s/it]\n",
      "Training (10709 / 18000 Steps) (loss=0.39347): 100%|██████████| 7/7 [00:09<00:00,  1.41s/it]\n",
      "Training (10716 / 18000 Steps) (loss=0.28029): 100%|██████████| 7/7 [00:09<00:00,  1.43s/it]\n",
      "Training (10723 / 18000 Steps) (loss=0.11010): 100%|██████████| 7/7 [00:09<00:00,  1.33s/it]\n",
      "Training (10730 / 18000 Steps) (loss=0.37087): 100%|██████████| 7/7 [00:08<00:00,  1.26s/it]\n",
      "Training (10737 / 18000 Steps) (loss=0.18572): 100%|██████████| 7/7 [00:09<00:00,  1.32s/it]\n",
      "Training (10744 / 18000 Steps) (loss=0.31550): 100%|██████████| 7/7 [00:08<00:00,  1.28s/it]\n",
      "Training (10751 / 18000 Steps) (loss=0.23179): 100%|██████████| 7/7 [00:09<00:00,  1.37s/it]\n",
      "Training (10758 / 18000 Steps) (loss=0.38148): 100%|██████████| 7/7 [00:08<00:00,  1.28s/it]\n",
      "Training (10765 / 18000 Steps) (loss=0.28768): 100%|██████████| 7/7 [00:09<00:00,  1.41s/it]\n",
      "Training (10772 / 18000 Steps) (loss=0.25673): 100%|██████████| 7/7 [00:08<00:00,  1.28s/it]\n",
      "Training (10779 / 18000 Steps) (loss=0.28373): 100%|██████████| 7/7 [00:09<00:00,  1.37s/it]\n",
      "Training (10786 / 18000 Steps) (loss=0.39656): 100%|██████████| 7/7 [00:09<00:00,  1.32s/it]\n",
      "Training (10793 / 18000 Steps) (loss=0.14547): 100%|██████████| 7/7 [00:09<00:00,  1.40s/it]\n",
      "Validate (10794 / 10 Steps): 100%|██████████| 2/2 [00:06<00:00,  3.06s/it]<00:00,  1.15it/s]\n",
      "Training (10800 / 18000 Steps) (loss=0.33783): 100%|██████████| 7/7 [00:16<00:00,  2.31s/it]\n"
     ]
    },
    {
     "name": "stdout",
     "output_type": "stream",
     "text": [
      "Model Was Saved ! Current Best Avg. Dice: 0.5830403566360474 Current Avg. Dice: 0.5830403566360474 Current Avg. tumor Dice: 0.6255131959915161 Current Avg. lymph Dice: 0.5405675172805786\n"
     ]
    },
    {
     "name": "stderr",
     "output_type": "stream",
     "text": [
      "Training (10807 / 18000 Steps) (loss=0.47264): 100%|██████████| 7/7 [00:08<00:00,  1.22s/it]\n",
      "Training (10814 / 18000 Steps) (loss=0.46922): 100%|██████████| 7/7 [00:09<00:00,  1.32s/it]\n",
      "Training (10821 / 18000 Steps) (loss=0.20531): 100%|██████████| 7/7 [00:10<00:00,  1.45s/it]\n",
      "Training (10828 / 18000 Steps) (loss=0.25305): 100%|██████████| 7/7 [00:09<00:00,  1.30s/it]\n",
      "Training (10835 / 18000 Steps) (loss=0.27647): 100%|██████████| 7/7 [00:09<00:00,  1.40s/it]\n",
      "Training (10842 / 18000 Steps) (loss=0.21418): 100%|██████████| 7/7 [00:09<00:00,  1.29s/it]\n",
      "Training (10849 / 18000 Steps) (loss=0.42089): 100%|██████████| 7/7 [00:09<00:00,  1.31s/it]\n",
      "Training (10856 / 18000 Steps) (loss=0.26581): 100%|██████████| 7/7 [00:10<00:00,  1.47s/it]\n",
      "Training (10863 / 18000 Steps) (loss=0.41238): 100%|██████████| 7/7 [00:09<00:00,  1.37s/it]\n",
      "Training (10870 / 18000 Steps) (loss=0.39496): 100%|██████████| 7/7 [00:09<00:00,  1.41s/it]\n",
      "Training (10877 / 18000 Steps) (loss=0.41620): 100%|██████████| 7/7 [00:09<00:00,  1.41s/it]\n",
      "Training (10884 / 18000 Steps) (loss=0.39511): 100%|██████████| 7/7 [00:08<00:00,  1.24s/it]\n",
      "Training (10891 / 18000 Steps) (loss=0.45125): 100%|██████████| 7/7 [00:08<00:00,  1.25s/it]\n",
      "Training (10898 / 18000 Steps) (loss=0.53942): 100%|██████████| 7/7 [00:08<00:00,  1.21s/it]\n",
      "Validate (10899 / 10 Steps): 100%|██████████| 2/2 [00:05<00:00,  2.94s/it]<00:45,  7.64s/it]\n",
      "Training (10900 / 18000 Steps) (loss=0.26750):  29%|██▊       | 2/7 [00:14<00:34,  6.92s/it]"
     ]
    },
    {
     "name": "stdout",
     "output_type": "stream",
     "text": [
      "Model Was Not Saved ! Current Best Avg. Dice: 0.5830403566360474 Current Avg. Dice: 0.5693579912185669 Current Avg. tumor Dice: 0.6181872487068176 Current Avg. lymph Dice: 0.5205287337303162\n"
     ]
    },
    {
     "name": "stderr",
     "output_type": "stream",
     "text": [
      "Training (10905 / 18000 Steps) (loss=0.38812): 100%|██████████| 7/7 [00:16<00:00,  2.30s/it]\n",
      "Training (10912 / 18000 Steps) (loss=0.52857): 100%|██████████| 7/7 [00:09<00:00,  1.35s/it]\n",
      "Training (10919 / 18000 Steps) (loss=0.17801): 100%|██████████| 7/7 [00:09<00:00,  1.38s/it]\n",
      "Training (10926 / 18000 Steps) (loss=0.33555): 100%|██████████| 7/7 [00:09<00:00,  1.38s/it]\n",
      "Training (10933 / 18000 Steps) (loss=0.46090): 100%|██████████| 7/7 [00:08<00:00,  1.25s/it]\n",
      "Training (10940 / 18000 Steps) (loss=0.53169): 100%|██████████| 7/7 [00:09<00:00,  1.37s/it]\n",
      "Training (10947 / 18000 Steps) (loss=0.42182): 100%|██████████| 7/7 [00:09<00:00,  1.36s/it]\n",
      "Training (10954 / 18000 Steps) (loss=0.41310): 100%|██████████| 7/7 [00:08<00:00,  1.23s/it]\n",
      "Training (10961 / 18000 Steps) (loss=0.43478): 100%|██████████| 7/7 [00:09<00:00,  1.36s/it]\n",
      "Training (10968 / 18000 Steps) (loss=0.52456): 100%|██████████| 7/7 [00:09<00:00,  1.37s/it]\n",
      "Training (10975 / 18000 Steps) (loss=0.25019): 100%|██████████| 7/7 [00:09<00:00,  1.39s/it]\n",
      "Training (10982 / 18000 Steps) (loss=0.26471): 100%|██████████| 7/7 [00:10<00:00,  1.44s/it]\n",
      "Training (10989 / 18000 Steps) (loss=0.27398): 100%|██████████| 7/7 [00:09<00:00,  1.32s/it]\n",
      "Training (10996 / 18000 Steps) (loss=0.38096): 100%|██████████| 7/7 [00:09<00:00,  1.43s/it]\n",
      "Validate (10997 / 10 Steps): 100%|██████████| 2/2 [00:05<00:00,  2.93s/it]<00:08,  2.01s/it]\n",
      "Training (11000 / 18000 Steps) (loss=0.44167):  57%|█████▋    | 4/7 [00:14<00:11,  3.74s/it]"
     ]
    },
    {
     "name": "stdout",
     "output_type": "stream",
     "text": [
      "Model Was Not Saved ! Current Best Avg. Dice: 0.5830403566360474 Current Avg. Dice: 0.5631366968154907 Current Avg. tumor Dice: 0.6090356707572937 Current Avg. lymph Dice: 0.5172377824783325\n"
     ]
    },
    {
     "name": "stderr",
     "output_type": "stream",
     "text": [
      "Training (11003 / 18000 Steps) (loss=0.43592): 100%|██████████| 7/7 [00:15<00:00,  2.23s/it]\n",
      "Training (11010 / 18000 Steps) (loss=0.53010): 100%|██████████| 7/7 [00:09<00:00,  1.34s/it]\n",
      "Training (11017 / 18000 Steps) (loss=0.47374): 100%|██████████| 7/7 [00:09<00:00,  1.37s/it]\n",
      "Training (11024 / 18000 Steps) (loss=0.40927): 100%|██████████| 7/7 [00:08<00:00,  1.23s/it]\n",
      "Training (11031 / 18000 Steps) (loss=0.30983): 100%|██████████| 7/7 [00:09<00:00,  1.39s/it]\n",
      "Training (11038 / 18000 Steps) (loss=0.34716): 100%|██████████| 7/7 [00:09<00:00,  1.33s/it]\n",
      "Training (11045 / 18000 Steps) (loss=0.09260): 100%|██████████| 7/7 [00:08<00:00,  1.27s/it]\n",
      "Training (11052 / 18000 Steps) (loss=0.40429): 100%|██████████| 7/7 [00:08<00:00,  1.27s/it]\n",
      "Training (11059 / 18000 Steps) (loss=0.33256): 100%|██████████| 7/7 [00:09<00:00,  1.34s/it]\n",
      "Training (11066 / 18000 Steps) (loss=0.24385): 100%|██████████| 7/7 [00:09<00:00,  1.35s/it]\n",
      "Training (11073 / 18000 Steps) (loss=0.44345): 100%|██████████| 7/7 [00:09<00:00,  1.29s/it]\n",
      "Training (11080 / 18000 Steps) (loss=0.39494): 100%|██████████| 7/7 [00:10<00:00,  1.48s/it]\n",
      "Training (11087 / 18000 Steps) (loss=0.28186): 100%|██████████| 7/7 [00:09<00:00,  1.31s/it]\n",
      "Training (11094 / 18000 Steps) (loss=0.24826): 100%|██████████| 7/7 [00:09<00:00,  1.39s/it]\n",
      "Validate (11095 / 10 Steps): 100%|██████████| 2/2 [00:06<00:00,  3.04s/it]<00:01,  1.00it/s]\n",
      "Training (11100 / 18000 Steps) (loss=0.31634):  86%|████████▌ | 6/7 [00:15<00:02,  2.90s/it]"
     ]
    },
    {
     "name": "stdout",
     "output_type": "stream",
     "text": [
      "Model Was Not Saved ! Current Best Avg. Dice: 0.5830403566360474 Current Avg. Dice: 0.4798619747161865 Current Avg. tumor Dice: 0.5741849541664124 Current Avg. lymph Dice: 0.3855389952659607\n"
     ]
    },
    {
     "name": "stderr",
     "output_type": "stream",
     "text": [
      "Training (11101 / 18000 Steps) (loss=0.53073): 100%|██████████| 7/7 [00:15<00:00,  2.24s/it]\n",
      "Training (11108 / 18000 Steps) (loss=0.66728): 100%|██████████| 7/7 [00:09<00:00,  1.38s/it]\n",
      "Training (11115 / 18000 Steps) (loss=0.38606): 100%|██████████| 7/7 [00:09<00:00,  1.38s/it]\n",
      "Training (11122 / 18000 Steps) (loss=0.44585): 100%|██████████| 7/7 [00:09<00:00,  1.29s/it]\n",
      "Training (11129 / 18000 Steps) (loss=0.25536): 100%|██████████| 7/7 [00:08<00:00,  1.26s/it]\n",
      "Training (11136 / 18000 Steps) (loss=0.41503): 100%|██████████| 7/7 [00:09<00:00,  1.41s/it]\n",
      "Training (11143 / 18000 Steps) (loss=0.28092): 100%|██████████| 7/7 [00:10<00:00,  1.49s/it]\n",
      "Training (11150 / 18000 Steps) (loss=0.35523): 100%|██████████| 7/7 [00:09<00:00,  1.42s/it]\n",
      "Training (11157 / 18000 Steps) (loss=0.45847): 100%|██████████| 7/7 [00:09<00:00,  1.31s/it]\n",
      "Training (11164 / 18000 Steps) (loss=0.23925): 100%|██████████| 7/7 [00:09<00:00,  1.32s/it]\n",
      "Training (11171 / 18000 Steps) (loss=0.28621): 100%|██████████| 7/7 [00:10<00:00,  1.44s/it]\n",
      "Training (11178 / 18000 Steps) (loss=0.32547): 100%|██████████| 7/7 [00:09<00:00,  1.36s/it]\n",
      "Training (11185 / 18000 Steps) (loss=0.45385): 100%|██████████| 7/7 [00:09<00:00,  1.35s/it]\n",
      "Training (11192 / 18000 Steps) (loss=0.49100): 100%|██████████| 7/7 [00:08<00:00,  1.27s/it]\n",
      "Training (11199 / 18000 Steps) (loss=0.37032): 100%|██████████| 7/7 [00:09<00:00,  1.36s/it]\n",
      "Validate (11200 / 10 Steps): 100%|██████████| 2/2 [00:05<00:00,  2.89s/it]<?, ?it/s]\n",
      "Training (11200 / 18000 Steps) (loss=0.40278):  14%|█▍        | 1/7 [00:13<01:19, 13.28s/it]"
     ]
    },
    {
     "name": "stdout",
     "output_type": "stream",
     "text": [
      "Model Was Not Saved ! Current Best Avg. Dice: 0.5830403566360474 Current Avg. Dice: 0.5027080178260803 Current Avg. tumor Dice: 0.5232228636741638 Current Avg. lymph Dice: 0.4821932315826416\n"
     ]
    },
    {
     "name": "stderr",
     "output_type": "stream",
     "text": [
      "Training (11206 / 18000 Steps) (loss=0.26424): 100%|██████████| 7/7 [00:15<00:00,  2.24s/it]\n",
      "Training (11213 / 18000 Steps) (loss=0.53491): 100%|██████████| 7/7 [00:09<00:00,  1.34s/it]\n",
      "Training (11220 / 18000 Steps) (loss=0.18759): 100%|██████████| 7/7 [00:10<00:00,  1.43s/it]\n",
      "Training (11227 / 18000 Steps) (loss=0.59662): 100%|██████████| 7/7 [00:08<00:00,  1.24s/it]\n",
      "Training (11234 / 18000 Steps) (loss=0.15692): 100%|██████████| 7/7 [00:09<00:00,  1.40s/it]\n",
      "Training (11241 / 18000 Steps) (loss=0.52298): 100%|██████████| 7/7 [00:08<00:00,  1.26s/it]\n",
      "Training (11248 / 18000 Steps) (loss=0.12117): 100%|██████████| 7/7 [00:09<00:00,  1.39s/it]\n",
      "Training (11255 / 18000 Steps) (loss=0.34024): 100%|██████████| 7/7 [00:09<00:00,  1.30s/it]\n",
      "Training (11262 / 18000 Steps) (loss=0.24018): 100%|██████████| 7/7 [00:09<00:00,  1.35s/it]\n",
      "Training (11269 / 18000 Steps) (loss=0.16721): 100%|██████████| 7/7 [00:09<00:00,  1.43s/it]\n",
      "Training (11276 / 18000 Steps) (loss=0.18963): 100%|██████████| 7/7 [00:09<00:00,  1.32s/it]\n",
      "Training (11283 / 18000 Steps) (loss=0.27019): 100%|██████████| 7/7 [00:09<00:00,  1.33s/it]\n",
      "Training (11290 / 18000 Steps) (loss=0.18021): 100%|██████████| 7/7 [00:08<00:00,  1.28s/it]\n",
      "Training (11297 / 18000 Steps) (loss=0.33637): 100%|██████████| 7/7 [00:09<00:00,  1.35s/it]\n",
      "Validate (11298 / 10 Steps): 100%|██████████| 2/2 [00:05<00:00,  2.89s/it]<00:15,  3.09s/it]\n",
      "Training (11300 / 18000 Steps) (loss=0.32986):  43%|████▎     | 3/7 [00:13<00:18,  4.55s/it]"
     ]
    },
    {
     "name": "stdout",
     "output_type": "stream",
     "text": [
      "Model Was Not Saved ! Current Best Avg. Dice: 0.5830403566360474 Current Avg. Dice: 0.5475877523422241 Current Avg. tumor Dice: 0.5637253522872925 Current Avg. lymph Dice: 0.5314502120018005\n"
     ]
    },
    {
     "name": "stderr",
     "output_type": "stream",
     "text": [
      "Training (11304 / 18000 Steps) (loss=0.61912): 100%|██████████| 7/7 [00:14<00:00,  2.12s/it]\n",
      "Training (11311 / 18000 Steps) (loss=0.34930): 100%|██████████| 7/7 [00:09<00:00,  1.38s/it]\n",
      "Training (11318 / 18000 Steps) (loss=0.36054): 100%|██████████| 7/7 [00:09<00:00,  1.29s/it]\n",
      "Training (11325 / 18000 Steps) (loss=0.43527): 100%|██████████| 7/7 [00:09<00:00,  1.34s/it]\n",
      "Training (11332 / 18000 Steps) (loss=0.53113): 100%|██████████| 7/7 [00:08<00:00,  1.23s/it]\n",
      "Training (11339 / 18000 Steps) (loss=0.25897): 100%|██████████| 7/7 [00:08<00:00,  1.24s/it]\n",
      "Training (11346 / 18000 Steps) (loss=0.40132): 100%|██████████| 7/7 [00:09<00:00,  1.35s/it]\n",
      "Training (11353 / 18000 Steps) (loss=0.29067): 100%|██████████| 7/7 [00:08<00:00,  1.24s/it]\n",
      "Training (11360 / 18000 Steps) (loss=0.26124): 100%|██████████| 7/7 [00:10<00:00,  1.45s/it]\n",
      "Training (11367 / 18000 Steps) (loss=0.31834): 100%|██████████| 7/7 [00:09<00:00,  1.36s/it]\n",
      "Training (11374 / 18000 Steps) (loss=0.42181): 100%|██████████| 7/7 [00:10<00:00,  1.48s/it]\n",
      "Training (11381 / 18000 Steps) (loss=0.25623): 100%|██████████| 7/7 [00:08<00:00,  1.21s/it]\n",
      "Training (11388 / 18000 Steps) (loss=0.40463): 100%|██████████| 7/7 [00:08<00:00,  1.28s/it]\n",
      "Training (11395 / 18000 Steps) (loss=0.41940): 100%|██████████| 7/7 [00:09<00:00,  1.31s/it]\n",
      "Validate (11396 / 10 Steps): 100%|██████████| 2/2 [00:05<00:00,  2.98s/it]<00:04,  1.49s/it]\n",
      "Training (11400 / 18000 Steps) (loss=0.23339):  71%|███████▏  | 5/7 [00:14<00:06,  3.29s/it]"
     ]
    },
    {
     "name": "stdout",
     "output_type": "stream",
     "text": [
      "Model Was Not Saved ! Current Best Avg. Dice: 0.5830403566360474 Current Avg. Dice: 0.546976625919342 Current Avg. tumor Dice: 0.5997182130813599 Current Avg. lymph Dice: 0.49423497915267944\n"
     ]
    },
    {
     "name": "stderr",
     "output_type": "stream",
     "text": [
      "Training (11402 / 18000 Steps) (loss=0.52722): 100%|██████████| 7/7 [00:15<00:00,  2.22s/it]\n",
      "Training (11409 / 18000 Steps) (loss=0.26423): 100%|██████████| 7/7 [00:09<00:00,  1.34s/it]\n",
      "Training (11416 / 18000 Steps) (loss=0.20044): 100%|██████████| 7/7 [00:09<00:00,  1.38s/it]\n",
      "Training (11423 / 18000 Steps) (loss=0.43150): 100%|██████████| 7/7 [00:10<00:00,  1.46s/it]\n",
      "Training (11430 / 18000 Steps) (loss=0.34524): 100%|██████████| 7/7 [00:09<00:00,  1.37s/it]\n",
      "Training (11437 / 18000 Steps) (loss=0.44811): 100%|██████████| 7/7 [00:10<00:00,  1.48s/it]\n",
      "Training (11444 / 18000 Steps) (loss=0.26099): 100%|██████████| 7/7 [00:09<00:00,  1.30s/it]\n",
      "Training (11451 / 18000 Steps) (loss=0.39166): 100%|██████████| 7/7 [00:09<00:00,  1.29s/it]\n",
      "Training (11458 / 18000 Steps) (loss=0.28990): 100%|██████████| 7/7 [00:09<00:00,  1.30s/it]\n",
      "Training (11465 / 18000 Steps) (loss=0.48093): 100%|██████████| 7/7 [00:08<00:00,  1.28s/it]\n",
      "Training (11472 / 18000 Steps) (loss=0.54424): 100%|██████████| 7/7 [00:10<00:00,  1.49s/it]\n",
      "Training (11479 / 18000 Steps) (loss=0.57442): 100%|██████████| 7/7 [00:08<00:00,  1.22s/it]\n",
      "Training (11486 / 18000 Steps) (loss=0.32687): 100%|██████████| 7/7 [00:09<00:00,  1.36s/it]\n",
      "Training (11493 / 18000 Steps) (loss=0.38729): 100%|██████████| 7/7 [00:09<00:00,  1.33s/it]\n",
      "Validate (11494 / 10 Steps): 100%|██████████| 2/2 [00:05<00:00,  2.95s/it]<00:00,  1.32it/s]\n",
      "Training (11500 / 18000 Steps) (loss=0.13933): 100%|██████████| 7/7 [00:14<00:00,  2.07s/it]\n"
     ]
    },
    {
     "name": "stdout",
     "output_type": "stream",
     "text": [
      "Model Was Not Saved ! Current Best Avg. Dice: 0.5830403566360474 Current Avg. Dice: 0.5106111764907837 Current Avg. tumor Dice: 0.5484848618507385 Current Avg. lymph Dice: 0.47273746132850647\n"
     ]
    },
    {
     "name": "stderr",
     "output_type": "stream",
     "text": [
      "Training (11507 / 18000 Steps) (loss=0.24455): 100%|██████████| 7/7 [00:08<00:00,  1.24s/it]\n",
      "Training (11514 / 18000 Steps) (loss=0.30861): 100%|██████████| 7/7 [00:08<00:00,  1.25s/it]\n",
      "Training (11521 / 18000 Steps) (loss=0.23597): 100%|██████████| 7/7 [00:09<00:00,  1.36s/it]\n",
      "Training (11528 / 18000 Steps) (loss=0.52893): 100%|██████████| 7/7 [00:09<00:00,  1.35s/it]\n",
      "Training (11535 / 18000 Steps) (loss=0.46290): 100%|██████████| 7/7 [00:08<00:00,  1.26s/it]\n",
      "Training (11542 / 18000 Steps) (loss=0.36201): 100%|██████████| 7/7 [00:09<00:00,  1.40s/it]\n",
      "Training (11549 / 18000 Steps) (loss=0.38899): 100%|██████████| 7/7 [00:10<00:00,  1.49s/it]\n",
      "Training (11556 / 18000 Steps) (loss=0.40819): 100%|██████████| 7/7 [00:09<00:00,  1.40s/it]\n",
      "Training (11563 / 18000 Steps) (loss=0.23929): 100%|██████████| 7/7 [00:10<00:00,  1.49s/it]\n",
      "Training (11570 / 18000 Steps) (loss=0.35219): 100%|██████████| 7/7 [00:08<00:00,  1.22s/it]\n",
      "Training (11577 / 18000 Steps) (loss=0.32243): 100%|██████████| 7/7 [00:08<00:00,  1.22s/it]\n",
      "Training (11584 / 18000 Steps) (loss=0.55488): 100%|██████████| 7/7 [00:09<00:00,  1.33s/it]\n",
      "Training (11591 / 18000 Steps) (loss=0.38085): 100%|██████████| 7/7 [00:09<00:00,  1.31s/it]\n",
      "Training (11598 / 18000 Steps) (loss=0.25990): 100%|██████████| 7/7 [00:09<00:00,  1.34s/it]\n",
      "Validate (11599 / 10 Steps): 100%|██████████| 2/2 [00:05<00:00,  2.97s/it]<00:45,  7.66s/it]\n",
      "Training (11600 / 18000 Steps) (loss=0.52337):  29%|██▊       | 2/7 [00:14<00:34,  6.94s/it]"
     ]
    },
    {
     "name": "stdout",
     "output_type": "stream",
     "text": [
      "Model Was Not Saved ! Current Best Avg. Dice: 0.5830403566360474 Current Avg. Dice: 0.5099740624427795 Current Avg. tumor Dice: 0.5188629031181335 Current Avg. lymph Dice: 0.5010852217674255\n"
     ]
    },
    {
     "name": "stderr",
     "output_type": "stream",
     "text": [
      "Training (11605 / 18000 Steps) (loss=0.40989): 100%|██████████| 7/7 [00:16<00:00,  2.30s/it]\n",
      "Training (11612 / 18000 Steps) (loss=0.25543): 100%|██████████| 7/7 [00:10<00:00,  1.43s/it]\n",
      "Training (11619 / 18000 Steps) (loss=0.39771): 100%|██████████| 7/7 [00:09<00:00,  1.31s/it]\n",
      "Training (11626 / 18000 Steps) (loss=0.44232): 100%|██████████| 7/7 [00:09<00:00,  1.29s/it]\n",
      "Training (11633 / 18000 Steps) (loss=0.52476): 100%|██████████| 7/7 [00:09<00:00,  1.31s/it]\n",
      "Training (11640 / 18000 Steps) (loss=0.45913): 100%|██████████| 7/7 [00:09<00:00,  1.34s/it]\n",
      "Training (11647 / 18000 Steps) (loss=0.18410): 100%|██████████| 7/7 [00:09<00:00,  1.35s/it]\n",
      "Training (11654 / 18000 Steps) (loss=0.31504): 100%|██████████| 7/7 [00:09<00:00,  1.30s/it]\n",
      "Training (11661 / 18000 Steps) (loss=0.14397): 100%|██████████| 7/7 [00:10<00:00,  1.43s/it]\n",
      "Training (11668 / 18000 Steps) (loss=0.28370): 100%|██████████| 7/7 [00:09<00:00,  1.35s/it]\n",
      "Training (11675 / 18000 Steps) (loss=0.40476): 100%|██████████| 7/7 [00:09<00:00,  1.35s/it]\n",
      "Training (11682 / 18000 Steps) (loss=0.35347): 100%|██████████| 7/7 [00:09<00:00,  1.38s/it]\n",
      "Training (11689 / 18000 Steps) (loss=0.47018): 100%|██████████| 7/7 [00:08<00:00,  1.28s/it]\n",
      "Training (11696 / 18000 Steps) (loss=0.52793): 100%|██████████| 7/7 [00:09<00:00,  1.36s/it]\n",
      "Validate (11697 / 10 Steps): 100%|██████████| 2/2 [00:05<00:00,  2.85s/it]<00:07,  1.84s/it]\n",
      "Training (11700 / 18000 Steps) (loss=0.25914):  57%|█████▋    | 4/7 [00:13<00:10,  3.56s/it]"
     ]
    },
    {
     "name": "stdout",
     "output_type": "stream",
     "text": [
      "Model Was Not Saved ! Current Best Avg. Dice: 0.5830403566360474 Current Avg. Dice: 0.5396251678466797 Current Avg. tumor Dice: 0.6088485717773438 Current Avg. lymph Dice: 0.47040170431137085\n"
     ]
    },
    {
     "name": "stderr",
     "output_type": "stream",
     "text": [
      "Training (11703 / 18000 Steps) (loss=0.37749): 100%|██████████| 7/7 [00:14<00:00,  2.11s/it]\n",
      "Training (11710 / 18000 Steps) (loss=0.18902): 100%|██████████| 7/7 [00:08<00:00,  1.27s/it]\n",
      "Training (11717 / 18000 Steps) (loss=0.23379): 100%|██████████| 7/7 [00:08<00:00,  1.28s/it]\n",
      "Training (11724 / 18000 Steps) (loss=0.25698): 100%|██████████| 7/7 [00:09<00:00,  1.29s/it]\n",
      "Training (11731 / 18000 Steps) (loss=0.30738): 100%|██████████| 7/7 [00:09<00:00,  1.36s/it]\n",
      "Training (11738 / 18000 Steps) (loss=0.42952): 100%|██████████| 7/7 [00:09<00:00,  1.39s/it]\n",
      "Training (11745 / 18000 Steps) (loss=0.17838): 100%|██████████| 7/7 [00:08<00:00,  1.23s/it]\n",
      "Training (11752 / 18000 Steps) (loss=0.29854): 100%|██████████| 7/7 [00:09<00:00,  1.30s/it]\n",
      "Training (11759 / 18000 Steps) (loss=0.53839): 100%|██████████| 7/7 [00:10<00:00,  1.44s/it]\n",
      "Training (11766 / 18000 Steps) (loss=0.59805): 100%|██████████| 7/7 [00:09<00:00,  1.32s/it]\n",
      "Training (11773 / 18000 Steps) (loss=0.27258): 100%|██████████| 7/7 [00:09<00:00,  1.30s/it]\n",
      "Training (11780 / 18000 Steps) (loss=0.51886): 100%|██████████| 7/7 [00:08<00:00,  1.28s/it]\n",
      "Training (11787 / 18000 Steps) (loss=0.12579): 100%|██████████| 7/7 [00:08<00:00,  1.26s/it]\n",
      "Training (11794 / 18000 Steps) (loss=0.27875): 100%|██████████| 7/7 [00:09<00:00,  1.33s/it]\n",
      "Validate (11795 / 10 Steps): 100%|██████████| 2/2 [00:05<00:00,  2.88s/it]<00:01,  1.06it/s]\n",
      "Training (11800 / 18000 Steps) (loss=0.26539):  86%|████████▌ | 6/7 [00:14<00:02,  2.75s/it]"
     ]
    },
    {
     "name": "stdout",
     "output_type": "stream",
     "text": [
      "Model Was Not Saved ! Current Best Avg. Dice: 0.5830403566360474 Current Avg. Dice: 0.5566056966781616 Current Avg. tumor Dice: 0.6276558637619019 Current Avg. lymph Dice: 0.4855554699897766\n"
     ]
    },
    {
     "name": "stderr",
     "output_type": "stream",
     "text": [
      "Training (11801 / 18000 Steps) (loss=0.24611): 100%|██████████| 7/7 [00:14<00:00,  2.10s/it]\n",
      "Training (11808 / 18000 Steps) (loss=0.31453): 100%|██████████| 7/7 [00:09<00:00,  1.42s/it]\n",
      "Training (11815 / 18000 Steps) (loss=0.23243): 100%|██████████| 7/7 [00:10<00:00,  1.44s/it]\n",
      "Training (11822 / 18000 Steps) (loss=0.53642): 100%|██████████| 7/7 [00:09<00:00,  1.40s/it]\n",
      "Training (11829 / 18000 Steps) (loss=0.34803): 100%|██████████| 7/7 [00:09<00:00,  1.33s/it]\n",
      "Training (11836 / 18000 Steps) (loss=0.38698): 100%|██████████| 7/7 [00:09<00:00,  1.36s/it]\n",
      "Training (11843 / 18000 Steps) (loss=0.24167): 100%|██████████| 7/7 [00:08<00:00,  1.22s/it]\n",
      "Training (11850 / 18000 Steps) (loss=0.31990): 100%|██████████| 7/7 [00:09<00:00,  1.33s/it]\n",
      "Training (11857 / 18000 Steps) (loss=0.53366): 100%|██████████| 7/7 [00:09<00:00,  1.41s/it]\n",
      "Training (11864 / 18000 Steps) (loss=0.53218): 100%|██████████| 7/7 [00:08<00:00,  1.27s/it]\n",
      "Training (11871 / 18000 Steps) (loss=0.11580): 100%|██████████| 7/7 [00:09<00:00,  1.34s/it]\n",
      "Training (11878 / 18000 Steps) (loss=0.12320): 100%|██████████| 7/7 [00:09<00:00,  1.29s/it]\n",
      "Training (11885 / 18000 Steps) (loss=0.24939): 100%|██████████| 7/7 [00:08<00:00,  1.24s/it]\n",
      "Training (11892 / 18000 Steps) (loss=0.66684): 100%|██████████| 7/7 [00:08<00:00,  1.26s/it]\n",
      "Training (11899 / 18000 Steps) (loss=0.38483): 100%|██████████| 7/7 [00:09<00:00,  1.31s/it]\n",
      "Validate (11900 / 10 Steps): 100%|██████████| 2/2 [00:05<00:00,  2.93s/it]<?, ?it/s]\n",
      "Training (11900 / 18000 Steps) (loss=0.47085):  14%|█▍        | 1/7 [00:13<01:22, 13.82s/it]"
     ]
    },
    {
     "name": "stdout",
     "output_type": "stream",
     "text": [
      "Model Was Not Saved ! Current Best Avg. Dice: 0.5830403566360474 Current Avg. Dice: 0.5068556070327759 Current Avg. tumor Dice: 0.5107086300849915 Current Avg. lymph Dice: 0.5030025243759155\n"
     ]
    },
    {
     "name": "stderr",
     "output_type": "stream",
     "text": [
      "Training (11906 / 18000 Steps) (loss=0.35366): 100%|██████████| 7/7 [00:16<00:00,  2.33s/it]\n",
      "Training (11913 / 18000 Steps) (loss=0.32313): 100%|██████████| 7/7 [00:09<00:00,  1.29s/it]\n",
      "Training (11920 / 18000 Steps) (loss=0.18960): 100%|██████████| 7/7 [00:09<00:00,  1.38s/it]\n",
      "Training (11927 / 18000 Steps) (loss=0.25289): 100%|██████████| 7/7 [00:09<00:00,  1.33s/it]\n",
      "Training (11934 / 18000 Steps) (loss=0.27719): 100%|██████████| 7/7 [00:09<00:00,  1.30s/it]\n",
      "Training (11941 / 18000 Steps) (loss=0.37689): 100%|██████████| 7/7 [00:09<00:00,  1.40s/it]\n",
      "Training (11948 / 18000 Steps) (loss=0.38061): 100%|██████████| 7/7 [00:08<00:00,  1.20s/it]\n",
      "Training (11955 / 18000 Steps) (loss=0.40680): 100%|██████████| 7/7 [00:08<00:00,  1.20s/it]\n",
      "Training (11962 / 18000 Steps) (loss=0.48958): 100%|██████████| 7/7 [00:08<00:00,  1.28s/it]\n",
      "Training (11969 / 18000 Steps) (loss=0.20943): 100%|██████████| 7/7 [00:09<00:00,  1.36s/it]\n",
      "Training (11976 / 18000 Steps) (loss=0.45884): 100%|██████████| 7/7 [00:09<00:00,  1.34s/it]\n",
      "Training (11983 / 18000 Steps) (loss=0.21541): 100%|██████████| 7/7 [00:10<00:00,  1.46s/it]\n",
      "Training (11990 / 18000 Steps) (loss=0.53476): 100%|██████████| 7/7 [00:09<00:00,  1.36s/it]\n",
      "Training (11997 / 18000 Steps) (loss=0.40053): 100%|██████████| 7/7 [00:10<00:00,  1.44s/it]\n",
      "Validate (11998 / 10 Steps): 100%|██████████| 2/2 [00:05<00:00,  2.90s/it]<00:15,  3.07s/it]\n",
      "Training (12000 / 18000 Steps) (loss=0.37079):  43%|████▎     | 3/7 [00:13<00:18,  4.54s/it]"
     ]
    },
    {
     "name": "stdout",
     "output_type": "stream",
     "text": [
      "Model Was Not Saved ! Current Best Avg. Dice: 0.5830403566360474 Current Avg. Dice: 0.5359988808631897 Current Avg. tumor Dice: 0.5726912021636963 Current Avg. lymph Dice: 0.49930649995803833\n"
     ]
    },
    {
     "name": "stderr",
     "output_type": "stream",
     "text": [
      "Training (12004 / 18000 Steps) (loss=0.21191): 100%|██████████| 7/7 [00:15<00:00,  2.16s/it]\n",
      "Training (12011 / 18000 Steps) (loss=0.38485): 100%|██████████| 7/7 [00:08<00:00,  1.23s/it]\n",
      "Training (12018 / 18000 Steps) (loss=0.23838): 100%|██████████| 7/7 [00:09<00:00,  1.31s/it]\n",
      "Training (12025 / 18000 Steps) (loss=0.46996): 100%|██████████| 7/7 [00:09<00:00,  1.34s/it]\n",
      "Training (12032 / 18000 Steps) (loss=0.25441): 100%|██████████| 7/7 [00:09<00:00,  1.40s/it]\n",
      "Training (12039 / 18000 Steps) (loss=0.46056): 100%|██████████| 7/7 [00:09<00:00,  1.40s/it]\n",
      "Training (12046 / 18000 Steps) (loss=0.30956): 100%|██████████| 7/7 [00:10<00:00,  1.45s/it]\n",
      "Training (12053 / 18000 Steps) (loss=0.39870): 100%|██████████| 7/7 [00:10<00:00,  1.46s/it]\n",
      "Training (12060 / 18000 Steps) (loss=0.18560): 100%|██████████| 7/7 [00:09<00:00,  1.34s/it]\n",
      "Training (12067 / 18000 Steps) (loss=0.46023): 100%|██████████| 7/7 [00:09<00:00,  1.31s/it]\n",
      "Training (12074 / 18000 Steps) (loss=0.39761): 100%|██████████| 7/7 [00:09<00:00,  1.34s/it]\n",
      "Training (12081 / 18000 Steps) (loss=0.24145): 100%|██████████| 7/7 [00:08<00:00,  1.27s/it]\n",
      "Training (12088 / 18000 Steps) (loss=0.25694): 100%|██████████| 7/7 [00:08<00:00,  1.16s/it]\n",
      "Training (12095 / 18000 Steps) (loss=0.13797): 100%|██████████| 7/7 [00:09<00:00,  1.32s/it]\n",
      "Validate (12096 / 10 Steps): 100%|██████████| 2/2 [00:05<00:00,  2.96s/it]<00:03,  1.26s/it]\n",
      "Training (12100 / 18000 Steps) (loss=0.27265):  71%|███████▏  | 5/7 [00:14<00:06,  3.12s/it]"
     ]
    },
    {
     "name": "stdout",
     "output_type": "stream",
     "text": [
      "Model Was Not Saved ! Current Best Avg. Dice: 0.5830403566360474 Current Avg. Dice: 0.545576274394989 Current Avg. tumor Dice: 0.5990929007530212 Current Avg. lymph Dice: 0.49205970764160156\n"
     ]
    },
    {
     "name": "stderr",
     "output_type": "stream",
     "text": [
      "Training (12102 / 18000 Steps) (loss=0.21321): 100%|██████████| 7/7 [00:14<00:00,  2.12s/it]\n",
      "Training (12109 / 18000 Steps) (loss=0.46124): 100%|██████████| 7/7 [00:09<00:00,  1.29s/it]\n",
      "Training (12116 / 18000 Steps) (loss=0.33623): 100%|██████████| 7/7 [00:08<00:00,  1.27s/it]\n",
      "Training (12123 / 18000 Steps) (loss=0.17065): 100%|██████████| 7/7 [00:09<00:00,  1.32s/it]\n",
      "Training (12130 / 18000 Steps) (loss=0.27339): 100%|██████████| 7/7 [00:09<00:00,  1.33s/it]\n",
      "Training (12137 / 18000 Steps) (loss=0.25316): 100%|██████████| 7/7 [00:09<00:00,  1.34s/it]\n",
      "Training (12144 / 18000 Steps) (loss=0.48108): 100%|██████████| 7/7 [00:08<00:00,  1.26s/it]\n",
      "Training (12151 / 18000 Steps) (loss=0.25149): 100%|██████████| 7/7 [00:09<00:00,  1.40s/it]\n",
      "Training (12158 / 18000 Steps) (loss=0.44833): 100%|██████████| 7/7 [00:09<00:00,  1.39s/it]\n",
      "Training (12165 / 18000 Steps) (loss=0.31261): 100%|██████████| 7/7 [00:08<00:00,  1.19s/it]\n",
      "Training (12172 / 18000 Steps) (loss=0.39006): 100%|██████████| 7/7 [00:10<00:00,  1.46s/it]\n",
      "Training (12179 / 18000 Steps) (loss=0.40361): 100%|██████████| 7/7 [00:10<00:00,  1.45s/it]\n",
      "Training (12186 / 18000 Steps) (loss=0.41758): 100%|██████████| 7/7 [00:08<00:00,  1.22s/it]\n",
      "Training (12193 / 18000 Steps) (loss=0.18092): 100%|██████████| 7/7 [00:08<00:00,  1.28s/it]\n",
      "Validate (12194 / 10 Steps): 100%|██████████| 2/2 [00:06<00:00,  3.06s/it]<00:00,  1.18it/s]\n",
      "Training (12200 / 18000 Steps) (loss=0.26229): 100%|██████████| 7/7 [00:16<00:00,  2.36s/it]\n"
     ]
    },
    {
     "name": "stdout",
     "output_type": "stream",
     "text": [
      "Model Was Not Saved ! Current Best Avg. Dice: 0.5830403566360474 Current Avg. Dice: 0.5670475959777832 Current Avg. tumor Dice: 0.6124831438064575 Current Avg. lymph Dice: 0.5216119885444641\n"
     ]
    },
    {
     "name": "stderr",
     "output_type": "stream",
     "text": [
      "Training (12207 / 18000 Steps) (loss=0.27076): 100%|██████████| 7/7 [00:08<00:00,  1.25s/it]\n",
      "Training (12214 / 18000 Steps) (loss=0.37385): 100%|██████████| 7/7 [00:09<00:00,  1.32s/it]\n",
      "Training (12221 / 18000 Steps) (loss=0.24930): 100%|██████████| 7/7 [00:08<00:00,  1.28s/it]\n",
      "Training (12228 / 18000 Steps) (loss=0.38760): 100%|██████████| 7/7 [00:09<00:00,  1.32s/it]\n",
      "Training (12235 / 18000 Steps) (loss=0.35344): 100%|██████████| 7/7 [00:09<00:00,  1.41s/it]\n",
      "Training (12242 / 18000 Steps) (loss=0.38810): 100%|██████████| 7/7 [00:10<00:00,  1.48s/it]\n",
      "Training (12249 / 18000 Steps) (loss=0.46903): 100%|██████████| 7/7 [00:09<00:00,  1.30s/it]\n",
      "Training (12256 / 18000 Steps) (loss=0.24704): 100%|██████████| 7/7 [00:09<00:00,  1.33s/it]\n",
      "Training (12263 / 18000 Steps) (loss=0.24477): 100%|██████████| 7/7 [00:09<00:00,  1.40s/it]\n",
      "Training (12270 / 18000 Steps) (loss=0.34650): 100%|██████████| 7/7 [00:09<00:00,  1.39s/it]\n",
      "Training (12277 / 18000 Steps) (loss=0.38098): 100%|██████████| 7/7 [00:09<00:00,  1.39s/it]\n",
      "Training (12284 / 18000 Steps) (loss=0.42003): 100%|██████████| 7/7 [00:09<00:00,  1.39s/it]\n",
      "Training (12291 / 18000 Steps) (loss=0.12765): 100%|██████████| 7/7 [00:08<00:00,  1.25s/it]\n",
      "Training (12298 / 18000 Steps) (loss=0.40808): 100%|██████████| 7/7 [00:10<00:00,  1.45s/it]\n",
      "Validate (12299 / 10 Steps): 100%|██████████| 2/2 [00:05<00:00,  3.00s/it]<00:47,  7.91s/it]\n",
      "Training (12300 / 18000 Steps) (loss=0.32243):  29%|██▊       | 2/7 [00:14<00:35,  7.08s/it]"
     ]
    },
    {
     "name": "stdout",
     "output_type": "stream",
     "text": [
      "Model Was Not Saved ! Current Best Avg. Dice: 0.5830403566360474 Current Avg. Dice: 0.5671783089637756 Current Avg. tumor Dice: 0.6197314262390137 Current Avg. lymph Dice: 0.5146251320838928\n"
     ]
    },
    {
     "name": "stderr",
     "output_type": "stream",
     "text": [
      "Training (12305 / 18000 Steps) (loss=0.28082): 100%|██████████| 7/7 [00:16<00:00,  2.34s/it]\n",
      "Training (12312 / 18000 Steps) (loss=0.28242): 100%|██████████| 7/7 [00:08<00:00,  1.28s/it]\n",
      "Training (12319 / 18000 Steps) (loss=0.26441): 100%|██████████| 7/7 [00:09<00:00,  1.31s/it]\n",
      "Training (12326 / 18000 Steps) (loss=0.24529): 100%|██████████| 7/7 [00:09<00:00,  1.43s/it]\n",
      "Training (12333 / 18000 Steps) (loss=0.43142): 100%|██████████| 7/7 [00:08<00:00,  1.21s/it]\n",
      "Training (12340 / 18000 Steps) (loss=0.25554): 100%|██████████| 7/7 [00:08<00:00,  1.28s/it]\n",
      "Training (12347 / 18000 Steps) (loss=0.27782): 100%|██████████| 7/7 [00:08<00:00,  1.28s/it]\n",
      "Training (12354 / 18000 Steps) (loss=0.27069): 100%|██████████| 7/7 [00:09<00:00,  1.33s/it]\n",
      "Training (12361 / 18000 Steps) (loss=0.39269): 100%|██████████| 7/7 [00:09<00:00,  1.42s/it]\n",
      "Training (12368 / 18000 Steps) (loss=0.25227): 100%|██████████| 7/7 [00:08<00:00,  1.26s/it]\n",
      "Training (12375 / 18000 Steps) (loss=0.38609): 100%|██████████| 7/7 [00:09<00:00,  1.41s/it]\n",
      "Training (12382 / 18000 Steps) (loss=0.34932): 100%|██████████| 7/7 [00:09<00:00,  1.29s/it]\n",
      "Training (12389 / 18000 Steps) (loss=0.29413): 100%|██████████| 7/7 [00:08<00:00,  1.26s/it]\n",
      "Training (12396 / 18000 Steps) (loss=0.29230): 100%|██████████| 7/7 [00:09<00:00,  1.40s/it]\n",
      "Validate (12397 / 10 Steps): 100%|██████████| 2/2 [00:05<00:00,  2.77s/it]<00:07,  1.83s/it]\n",
      "Training (12400 / 18000 Steps) (loss=0.29631):  57%|█████▋    | 4/7 [00:13<00:10,  3.49s/it]"
     ]
    },
    {
     "name": "stdout",
     "output_type": "stream",
     "text": [
      "Model Was Not Saved ! Current Best Avg. Dice: 0.5830403566360474 Current Avg. Dice: 0.5602563619613647 Current Avg. tumor Dice: 0.5806642770767212 Current Avg. lymph Dice: 0.5398483276367188\n"
     ]
    },
    {
     "name": "stderr",
     "output_type": "stream",
     "text": [
      "Training (12403 / 18000 Steps) (loss=0.46256): 100%|██████████| 7/7 [00:14<00:00,  2.11s/it]\n",
      "Training (12410 / 18000 Steps) (loss=0.25218): 100%|██████████| 7/7 [00:09<00:00,  1.40s/it]\n",
      "Training (12417 / 18000 Steps) (loss=0.52608): 100%|██████████| 7/7 [00:08<00:00,  1.24s/it]\n",
      "Training (12424 / 18000 Steps) (loss=0.12940): 100%|██████████| 7/7 [00:08<00:00,  1.27s/it]\n",
      "Training (12431 / 18000 Steps) (loss=0.29216): 100%|██████████| 7/7 [00:09<00:00,  1.42s/it]\n",
      "Training (12438 / 18000 Steps) (loss=0.31796): 100%|██████████| 7/7 [00:09<00:00,  1.30s/it]\n",
      "Training (12445 / 18000 Steps) (loss=0.31744): 100%|██████████| 7/7 [00:09<00:00,  1.31s/it]\n",
      "Training (12452 / 18000 Steps) (loss=0.28883): 100%|██████████| 7/7 [00:08<00:00,  1.27s/it]\n",
      "Training (12459 / 18000 Steps) (loss=0.29043): 100%|██████████| 7/7 [00:10<00:00,  1.45s/it]\n",
      "Training (12466 / 18000 Steps) (loss=0.24738): 100%|██████████| 7/7 [00:08<00:00,  1.23s/it]\n",
      "Training (12473 / 18000 Steps) (loss=0.40383): 100%|██████████| 7/7 [00:08<00:00,  1.26s/it]\n",
      "Training (12480 / 18000 Steps) (loss=0.53546): 100%|██████████| 7/7 [00:08<00:00,  1.19s/it]\n",
      "Training (12487 / 18000 Steps) (loss=0.47932): 100%|██████████| 7/7 [00:09<00:00,  1.31s/it]\n",
      "Training (12494 / 18000 Steps) (loss=0.44420): 100%|██████████| 7/7 [00:09<00:00,  1.32s/it]\n",
      "Validate (12495 / 10 Steps): 100%|██████████| 2/2 [00:05<00:00,  2.95s/it]<00:01,  1.03it/s]\n",
      "Training (12500 / 18000 Steps) (loss=0.32839):  86%|████████▌ | 6/7 [00:14<00:02,  2.83s/it]"
     ]
    },
    {
     "name": "stdout",
     "output_type": "stream",
     "text": [
      "Model Was Not Saved ! Current Best Avg. Dice: 0.5830403566360474 Current Avg. Dice: 0.5588080286979675 Current Avg. tumor Dice: 0.6015076041221619 Current Avg. lymph Dice: 0.5161084532737732\n"
     ]
    },
    {
     "name": "stderr",
     "output_type": "stream",
     "text": [
      "Training (12501 / 18000 Steps) (loss=0.52479): 100%|██████████| 7/7 [00:15<00:00,  2.16s/it]\n",
      "Training (12508 / 18000 Steps) (loss=0.33899): 100%|██████████| 7/7 [00:09<00:00,  1.36s/it]\n",
      "Training (12515 / 18000 Steps) (loss=0.27722): 100%|██████████| 7/7 [00:09<00:00,  1.38s/it]\n",
      "Training (12522 / 18000 Steps) (loss=0.37845): 100%|██████████| 7/7 [00:08<00:00,  1.27s/it]\n",
      "Training (12529 / 18000 Steps) (loss=0.66726): 100%|██████████| 7/7 [00:09<00:00,  1.30s/it]\n",
      "Training (12536 / 18000 Steps) (loss=0.37871): 100%|██████████| 7/7 [00:09<00:00,  1.31s/it]\n",
      "Training (12543 / 18000 Steps) (loss=0.27919): 100%|██████████| 7/7 [00:08<00:00,  1.21s/it]\n",
      "Training (12550 / 18000 Steps) (loss=0.26880): 100%|██████████| 7/7 [00:09<00:00,  1.41s/it]\n",
      "Training (12557 / 18000 Steps) (loss=0.36155): 100%|██████████| 7/7 [00:09<00:00,  1.39s/it]\n",
      "Training (12564 / 18000 Steps) (loss=0.25087): 100%|██████████| 7/7 [00:08<00:00,  1.23s/it]\n",
      "Training (12571 / 18000 Steps) (loss=0.59633): 100%|██████████| 7/7 [00:09<00:00,  1.35s/it]\n",
      "Training (12578 / 18000 Steps) (loss=0.46169): 100%|██████████| 7/7 [00:08<00:00,  1.26s/it]\n",
      "Training (12585 / 18000 Steps) (loss=0.40204): 100%|██████████| 7/7 [00:08<00:00,  1.28s/it]\n",
      "Training (12592 / 18000 Steps) (loss=0.27010): 100%|██████████| 7/7 [00:09<00:00,  1.30s/it]\n",
      "Training (12599 / 18000 Steps) (loss=0.25416): 100%|██████████| 7/7 [00:09<00:00,  1.36s/it]\n",
      "Validate (12600 / 10 Steps): 100%|██████████| 2/2 [00:05<00:00,  2.87s/it]<?, ?it/s]\n",
      "Training (12600 / 18000 Steps) (loss=0.38511):  14%|█▍        | 1/7 [00:12<01:12, 12.16s/it]"
     ]
    },
    {
     "name": "stdout",
     "output_type": "stream",
     "text": [
      "Model Was Not Saved ! Current Best Avg. Dice: 0.5830403566360474 Current Avg. Dice: 0.5680721402168274 Current Avg. tumor Dice: 0.6160051822662354 Current Avg. lymph Dice: 0.5201389789581299\n"
     ]
    },
    {
     "name": "stderr",
     "output_type": "stream",
     "text": [
      "Training (12606 / 18000 Steps) (loss=0.40057): 100%|██████████| 7/7 [00:14<00:00,  2.08s/it]\n",
      "Training (12613 / 18000 Steps) (loss=0.59525): 100%|██████████| 7/7 [00:08<00:00,  1.24s/it]\n",
      "Training (12620 / 18000 Steps) (loss=0.39725): 100%|██████████| 7/7 [00:09<00:00,  1.38s/it]\n",
      "Training (12627 / 18000 Steps) (loss=0.49803): 100%|██████████| 7/7 [00:08<00:00,  1.24s/it]\n",
      "Training (12634 / 18000 Steps) (loss=0.14000): 100%|██████████| 7/7 [00:08<00:00,  1.21s/it]\n",
      "Training (12641 / 18000 Steps) (loss=0.14539): 100%|██████████| 7/7 [00:08<00:00,  1.22s/it]\n",
      "Training (12648 / 18000 Steps) (loss=0.15780): 100%|██████████| 7/7 [00:10<00:00,  1.45s/it]\n",
      "Training (12655 / 18000 Steps) (loss=0.53109): 100%|██████████| 7/7 [00:09<00:00,  1.31s/it]\n",
      "Training (12662 / 18000 Steps) (loss=0.34879): 100%|██████████| 7/7 [00:10<00:00,  1.43s/it]\n",
      "Training (12669 / 18000 Steps) (loss=0.19009): 100%|██████████| 7/7 [00:09<00:00,  1.35s/it]\n",
      "Training (12676 / 18000 Steps) (loss=0.25941): 100%|██████████| 7/7 [00:09<00:00,  1.31s/it]\n",
      "Training (12683 / 18000 Steps) (loss=0.39659): 100%|██████████| 7/7 [00:09<00:00,  1.36s/it]\n",
      "Training (12690 / 18000 Steps) (loss=0.53566): 100%|██████████| 7/7 [00:09<00:00,  1.32s/it]\n",
      "Training (12697 / 18000 Steps) (loss=0.52379): 100%|██████████| 7/7 [00:09<00:00,  1.36s/it]\n",
      "Validate (12698 / 10 Steps): 100%|██████████| 2/2 [00:05<00:00,  2.94s/it]<00:14,  2.84s/it]\n",
      "Training (12700 / 18000 Steps) (loss=0.28561):  43%|████▎     | 3/7 [00:13<00:17,  4.47s/it]"
     ]
    },
    {
     "name": "stdout",
     "output_type": "stream",
     "text": [
      "Model Was Not Saved ! Current Best Avg. Dice: 0.5830403566360474 Current Avg. Dice: 0.5532177090644836 Current Avg. tumor Dice: 0.5925034284591675 Current Avg. lymph Dice: 0.5139320492744446\n"
     ]
    },
    {
     "name": "stderr",
     "output_type": "stream",
     "text": [
      "Training (12704 / 18000 Steps) (loss=0.41119): 100%|██████████| 7/7 [00:14<00:00,  2.10s/it]\n",
      "Training (12711 / 18000 Steps) (loss=0.46342): 100%|██████████| 7/7 [00:08<00:00,  1.27s/it]\n",
      "Training (12718 / 18000 Steps) (loss=0.26400): 100%|██████████| 7/7 [00:09<00:00,  1.32s/it]\n",
      "Training (12725 / 18000 Steps) (loss=0.34754): 100%|██████████| 7/7 [00:09<00:00,  1.32s/it]\n",
      "Training (12732 / 18000 Steps) (loss=0.25538): 100%|██████████| 7/7 [00:09<00:00,  1.33s/it]\n",
      "Training (12739 / 18000 Steps) (loss=0.27780): 100%|██████████| 7/7 [00:08<00:00,  1.27s/it]\n",
      "Training (12746 / 18000 Steps) (loss=0.38373): 100%|██████████| 7/7 [00:09<00:00,  1.36s/it]\n",
      "Training (12753 / 18000 Steps) (loss=0.34234): 100%|██████████| 7/7 [00:09<00:00,  1.31s/it]\n",
      "Training (12760 / 18000 Steps) (loss=0.27508): 100%|██████████| 7/7 [00:09<00:00,  1.41s/it]\n",
      "Training (12767 / 18000 Steps) (loss=0.25749): 100%|██████████| 7/7 [00:08<00:00,  1.27s/it]\n",
      "Training (12774 / 18000 Steps) (loss=0.09159): 100%|██████████| 7/7 [00:09<00:00,  1.35s/it]\n",
      "Training (12781 / 18000 Steps) (loss=0.35629): 100%|██████████| 7/7 [00:09<00:00,  1.37s/it]\n",
      "Training (12788 / 18000 Steps) (loss=0.26693): 100%|██████████| 7/7 [00:09<00:00,  1.35s/it]\n",
      "Training (12795 / 18000 Steps) (loss=0.23627): 100%|██████████| 7/7 [00:09<00:00,  1.30s/it]\n",
      "Validate (12796 / 10 Steps): 100%|██████████| 2/2 [00:05<00:00,  2.96s/it]<00:04,  1.35s/it]\n",
      "Training (12800 / 18000 Steps) (loss=0.24162):  71%|███████▏  | 5/7 [00:15<00:06,  3.19s/it]"
     ]
    },
    {
     "name": "stdout",
     "output_type": "stream",
     "text": [
      "Model Was Not Saved ! Current Best Avg. Dice: 0.5830403566360474 Current Avg. Dice: 0.5427981019020081 Current Avg. tumor Dice: 0.5698812007904053 Current Avg. lymph Dice: 0.5157150030136108\n"
     ]
    },
    {
     "name": "stderr",
     "output_type": "stream",
     "text": [
      "Training (12802 / 18000 Steps) (loss=0.53507): 100%|██████████| 7/7 [00:15<00:00,  2.25s/it]\n",
      "Training (12809 / 18000 Steps) (loss=0.14589): 100%|██████████| 7/7 [00:08<00:00,  1.24s/it]\n",
      "Training (12816 / 18000 Steps) (loss=0.40549): 100%|██████████| 7/7 [00:08<00:00,  1.28s/it]\n",
      "Training (12823 / 18000 Steps) (loss=0.45734): 100%|██████████| 7/7 [00:08<00:00,  1.23s/it]\n",
      "Training (12830 / 18000 Steps) (loss=0.25918): 100%|██████████| 7/7 [00:10<00:00,  1.45s/it]\n",
      "Training (12837 / 18000 Steps) (loss=0.33697): 100%|██████████| 7/7 [00:09<00:00,  1.42s/it]\n",
      "Training (12844 / 18000 Steps) (loss=0.22915): 100%|██████████| 7/7 [00:09<00:00,  1.34s/it]\n",
      "Training (12851 / 18000 Steps) (loss=0.14969): 100%|██████████| 7/7 [00:09<00:00,  1.32s/it]\n",
      "Training (12858 / 18000 Steps) (loss=0.14616): 100%|██████████| 7/7 [00:08<00:00,  1.27s/it]\n",
      "Training (12865 / 18000 Steps) (loss=0.35310): 100%|██████████| 7/7 [00:08<00:00,  1.25s/it]\n",
      "Training (12872 / 18000 Steps) (loss=0.24423): 100%|██████████| 7/7 [00:08<00:00,  1.19s/it]\n",
      "Training (12879 / 18000 Steps) (loss=0.23688): 100%|██████████| 7/7 [00:09<00:00,  1.36s/it]\n",
      "Training (12886 / 18000 Steps) (loss=0.39540): 100%|██████████| 7/7 [00:09<00:00,  1.29s/it]\n",
      "Training (12893 / 18000 Steps) (loss=0.19215): 100%|██████████| 7/7 [00:09<00:00,  1.36s/it]\n",
      "Validate (12894 / 10 Steps): 100%|██████████| 2/2 [00:06<00:00,  3.00s/it]<00:00,  1.26it/s]\n",
      "Training (12900 / 18000 Steps) (loss=0.31140): 100%|██████████| 7/7 [00:15<00:00,  2.19s/it]\n"
     ]
    },
    {
     "name": "stdout",
     "output_type": "stream",
     "text": [
      "Model Was Not Saved ! Current Best Avg. Dice: 0.5830403566360474 Current Avg. Dice: 0.5764665603637695 Current Avg. tumor Dice: 0.6032158136367798 Current Avg. lymph Dice: 0.5497173070907593\n"
     ]
    },
    {
     "name": "stderr",
     "output_type": "stream",
     "text": [
      "Training (12907 / 18000 Steps) (loss=0.38265): 100%|██████████| 7/7 [00:09<00:00,  1.35s/it]\n",
      "Training (12914 / 18000 Steps) (loss=0.27431): 100%|██████████| 7/7 [00:09<00:00,  1.29s/it]\n",
      "Training (12921 / 18000 Steps) (loss=0.12852): 100%|██████████| 7/7 [00:09<00:00,  1.35s/it]\n",
      "Training (12928 / 18000 Steps) (loss=0.25570): 100%|██████████| 7/7 [00:09<00:00,  1.30s/it]\n",
      "Training (12935 / 18000 Steps) (loss=0.34321): 100%|██████████| 7/7 [00:08<00:00,  1.23s/it]\n",
      "Training (12942 / 18000 Steps) (loss=0.31376): 100%|██████████| 7/7 [00:08<00:00,  1.24s/it]\n",
      "Training (12949 / 18000 Steps) (loss=0.27895): 100%|██████████| 7/7 [00:08<00:00,  1.28s/it]\n",
      "Training (12956 / 18000 Steps) (loss=0.38299): 100%|██████████| 7/7 [00:08<00:00,  1.26s/it]\n",
      "Training (12963 / 18000 Steps) (loss=0.19391): 100%|██████████| 7/7 [00:09<00:00,  1.32s/it]\n",
      "Training (12970 / 18000 Steps) (loss=0.42707): 100%|██████████| 7/7 [00:09<00:00,  1.35s/it]\n",
      "Training (12977 / 18000 Steps) (loss=0.28657): 100%|██████████| 7/7 [00:09<00:00,  1.32s/it]\n",
      "Training (12984 / 18000 Steps) (loss=0.12859): 100%|██████████| 7/7 [00:09<00:00,  1.36s/it]\n",
      "Training (12991 / 18000 Steps) (loss=0.51829): 100%|██████████| 7/7 [00:08<00:00,  1.25s/it]\n",
      "Training (12998 / 18000 Steps) (loss=0.21459): 100%|██████████| 7/7 [00:09<00:00,  1.34s/it]\n",
      "Validate (12999 / 10 Steps): 100%|██████████| 2/2 [00:05<00:00,  2.85s/it]<00:32,  5.39s/it]\n",
      "Training (13000 / 18000 Steps) (loss=0.35501):  29%|██▊       | 2/7 [00:13<00:33,  6.74s/it]"
     ]
    },
    {
     "name": "stdout",
     "output_type": "stream",
     "text": [
      "Model Was Not Saved ! Current Best Avg. Dice: 0.5830403566360474 Current Avg. Dice: 0.5828988552093506 Current Avg. tumor Dice: 0.5915049314498901 Current Avg. lymph Dice: 0.5742927193641663\n"
     ]
    },
    {
     "name": "stderr",
     "output_type": "stream",
     "text": [
      "Training (13005 / 18000 Steps) (loss=0.66726): 100%|██████████| 7/7 [00:15<00:00,  2.15s/it]\n",
      "Training (13012 / 18000 Steps) (loss=0.36611): 100%|██████████| 7/7 [00:09<00:00,  1.30s/it]\n",
      "Training (13019 / 18000 Steps) (loss=0.21764): 100%|██████████| 7/7 [00:08<00:00,  1.28s/it]\n",
      "Training (13026 / 18000 Steps) (loss=0.42032): 100%|██████████| 7/7 [00:09<00:00,  1.30s/it]\n",
      "Training (13033 / 18000 Steps) (loss=0.26660): 100%|██████████| 7/7 [00:09<00:00,  1.30s/it]\n",
      "Training (13040 / 18000 Steps) (loss=0.52656): 100%|██████████| 7/7 [00:09<00:00,  1.32s/it]\n",
      "Training (13047 / 18000 Steps) (loss=0.23543): 100%|██████████| 7/7 [00:08<00:00,  1.23s/it]\n",
      "Training (13054 / 18000 Steps) (loss=0.38051): 100%|██████████| 7/7 [00:09<00:00,  1.33s/it]\n",
      "Training (13061 / 18000 Steps) (loss=0.35586): 100%|██████████| 7/7 [00:09<00:00,  1.34s/it]\n",
      "Training (13068 / 18000 Steps) (loss=0.39150): 100%|██████████| 7/7 [00:09<00:00,  1.33s/it]\n",
      "Training (13075 / 18000 Steps) (loss=0.24796): 100%|██████████| 7/7 [00:08<00:00,  1.23s/it]\n",
      "Training (13082 / 18000 Steps) (loss=0.36282): 100%|██████████| 7/7 [00:09<00:00,  1.30s/it]\n",
      "Training (13089 / 18000 Steps) (loss=0.23199): 100%|██████████| 7/7 [00:08<00:00,  1.22s/it]\n",
      "Training (13096 / 18000 Steps) (loss=0.24783): 100%|██████████| 7/7 [00:09<00:00,  1.42s/it]\n",
      "Validate (13097 / 10 Steps): 100%|██████████| 2/2 [00:05<00:00,  2.97s/it]<00:08,  2.02s/it]\n",
      "Training (13100 / 18000 Steps) (loss=0.16745):  57%|█████▋    | 4/7 [00:14<00:11,  3.77s/it]"
     ]
    },
    {
     "name": "stdout",
     "output_type": "stream",
     "text": [
      "Model Was Not Saved ! Current Best Avg. Dice: 0.5830403566360474 Current Avg. Dice: 0.5736728310585022 Current Avg. tumor Dice: 0.6291806101799011 Current Avg. lymph Dice: 0.518165111541748\n"
     ]
    },
    {
     "name": "stderr",
     "output_type": "stream",
     "text": [
      "Training (13103 / 18000 Steps) (loss=0.39088): 100%|██████████| 7/7 [00:16<00:00,  2.29s/it]\n",
      "Training (13110 / 18000 Steps) (loss=0.66704): 100%|██████████| 7/7 [00:09<00:00,  1.31s/it]\n",
      "Training (13117 / 18000 Steps) (loss=0.39074): 100%|██████████| 7/7 [00:09<00:00,  1.29s/it]\n",
      "Training (13124 / 18000 Steps) (loss=0.31648): 100%|██████████| 7/7 [00:09<00:00,  1.32s/it]\n",
      "Training (13131 / 18000 Steps) (loss=0.25659): 100%|██████████| 7/7 [00:09<00:00,  1.29s/it]\n",
      "Training (13138 / 18000 Steps) (loss=0.33630): 100%|██████████| 7/7 [00:09<00:00,  1.38s/it]\n",
      "Training (13145 / 18000 Steps) (loss=0.13149): 100%|██████████| 7/7 [00:08<00:00,  1.24s/it]\n",
      "Training (13152 / 18000 Steps) (loss=0.24828): 100%|██████████| 7/7 [00:09<00:00,  1.35s/it]\n",
      "Training (13159 / 18000 Steps) (loss=0.15461): 100%|██████████| 7/7 [00:08<00:00,  1.27s/it]\n",
      "Training (13166 / 18000 Steps) (loss=0.33974): 100%|██████████| 7/7 [00:09<00:00,  1.31s/it]\n",
      "Training (13173 / 18000 Steps) (loss=0.10566): 100%|██████████| 7/7 [00:08<00:00,  1.19s/it]\n",
      "Training (13180 / 18000 Steps) (loss=0.31889): 100%|██████████| 7/7 [00:08<00:00,  1.19s/it]\n",
      "Training (13187 / 18000 Steps) (loss=0.23922): 100%|██████████| 7/7 [00:09<00:00,  1.38s/it]\n",
      "Training (13194 / 18000 Steps) (loss=0.37677): 100%|██████████| 7/7 [00:09<00:00,  1.31s/it]\n",
      "Validate (13195 / 10 Steps): 100%|██████████| 2/2 [00:05<00:00,  2.94s/it]<00:01,  1.05it/s]\n",
      "Training (13200 / 18000 Steps) (loss=0.45351):  86%|████████▌ | 6/7 [00:14<00:02,  2.80s/it]"
     ]
    },
    {
     "name": "stdout",
     "output_type": "stream",
     "text": [
      "Model Was Not Saved ! Current Best Avg. Dice: 0.5830403566360474 Current Avg. Dice: 0.5697771310806274 Current Avg. tumor Dice: 0.6250821352005005 Current Avg. lymph Dice: 0.5144720673561096\n"
     ]
    },
    {
     "name": "stderr",
     "output_type": "stream",
     "text": [
      "Training (13201 / 18000 Steps) (loss=0.17862): 100%|██████████| 7/7 [00:15<00:00,  2.14s/it]\n",
      "Training (13208 / 18000 Steps) (loss=0.37554): 100%|██████████| 7/7 [00:09<00:00,  1.32s/it]\n",
      "Training (13215 / 18000 Steps) (loss=0.40792): 100%|██████████| 7/7 [00:09<00:00,  1.31s/it]\n",
      "Training (13222 / 18000 Steps) (loss=0.47907): 100%|██████████| 7/7 [00:09<00:00,  1.41s/it]\n",
      "Training (13229 / 18000 Steps) (loss=0.59768): 100%|██████████| 7/7 [00:08<00:00,  1.24s/it]\n",
      "Training (13236 / 18000 Steps) (loss=0.30978): 100%|██████████| 7/7 [00:09<00:00,  1.37s/it]\n",
      "Training (13243 / 18000 Steps) (loss=0.34249): 100%|██████████| 7/7 [00:09<00:00,  1.39s/it]\n",
      "Training (13250 / 18000 Steps) (loss=0.18359): 100%|██████████| 7/7 [00:09<00:00,  1.34s/it]\n",
      "Training (13257 / 18000 Steps) (loss=0.11927): 100%|██████████| 7/7 [00:08<00:00,  1.25s/it]\n",
      "Training (13264 / 18000 Steps) (loss=0.42762): 100%|██████████| 7/7 [00:09<00:00,  1.35s/it]\n",
      "Training (13271 / 18000 Steps) (loss=0.40066): 100%|██████████| 7/7 [00:08<00:00,  1.28s/it]\n",
      "Training (13278 / 18000 Steps) (loss=0.39293): 100%|██████████| 7/7 [00:09<00:00,  1.30s/it]\n",
      "Training (13285 / 18000 Steps) (loss=0.32023): 100%|██████████| 7/7 [00:08<00:00,  1.23s/it]\n",
      "Training (13292 / 18000 Steps) (loss=0.25661): 100%|██████████| 7/7 [00:09<00:00,  1.30s/it]\n",
      "Training (13299 / 18000 Steps) (loss=0.23388): 100%|██████████| 7/7 [00:08<00:00,  1.27s/it]\n",
      "Validate (13300 / 10 Steps): 100%|██████████| 2/2 [00:06<00:00,  3.25s/it]<?, ?it/s]\n",
      "Training (13300 / 18000 Steps) (loss=0.31857):  14%|█▍        | 1/7 [00:13<01:22, 13.78s/it]"
     ]
    },
    {
     "name": "stdout",
     "output_type": "stream",
     "text": [
      "Model Was Not Saved ! Current Best Avg. Dice: 0.5830403566360474 Current Avg. Dice: 0.5588595867156982 Current Avg. tumor Dice: 0.5986553430557251 Current Avg. lymph Dice: 0.5190638899803162\n"
     ]
    },
    {
     "name": "stderr",
     "output_type": "stream",
     "text": [
      "Training (13306 / 18000 Steps) (loss=0.26208): 100%|██████████| 7/7 [00:16<00:00,  2.31s/it]\n",
      "Training (13313 / 18000 Steps) (loss=0.25982): 100%|██████████| 7/7 [00:08<00:00,  1.24s/it]\n",
      "Training (13320 / 18000 Steps) (loss=0.28103): 100%|██████████| 7/7 [00:08<00:00,  1.23s/it]\n",
      "Training (13327 / 18000 Steps) (loss=0.38509): 100%|██████████| 7/7 [00:08<00:00,  1.24s/it]\n",
      "Training (13334 / 18000 Steps) (loss=0.26461): 100%|██████████| 7/7 [00:08<00:00,  1.22s/it]\n",
      "Training (13341 / 18000 Steps) (loss=0.13825): 100%|██████████| 7/7 [00:08<00:00,  1.26s/it]\n",
      "Training (13348 / 18000 Steps) (loss=0.47317): 100%|██████████| 7/7 [00:08<00:00,  1.22s/it]\n",
      "Training (13355 / 18000 Steps) (loss=0.38529): 100%|██████████| 7/7 [00:08<00:00,  1.19s/it]\n",
      "Training (13362 / 18000 Steps) (loss=0.20475): 100%|██████████| 7/7 [00:09<00:00,  1.36s/it]\n",
      "Training (13369 / 18000 Steps) (loss=0.46345): 100%|██████████| 7/7 [00:09<00:00,  1.35s/it]\n",
      "Training (13376 / 18000 Steps) (loss=0.12171): 100%|██████████| 7/7 [00:08<00:00,  1.28s/it]\n",
      "Training (13383 / 18000 Steps) (loss=0.60886): 100%|██████████| 7/7 [00:08<00:00,  1.27s/it]\n",
      "Training (13390 / 18000 Steps) (loss=0.40985): 100%|██████████| 7/7 [00:08<00:00,  1.22s/it]\n",
      "Training (13397 / 18000 Steps) (loss=0.29552): 100%|██████████| 7/7 [00:09<00:00,  1.36s/it]\n",
      "Validate (13398 / 10 Steps): 100%|██████████| 2/2 [00:05<00:00,  2.97s/it]<00:15,  3.17s/it]\n",
      "Training (13400 / 18000 Steps) (loss=0.21017):  43%|████▎     | 3/7 [00:13<00:18,  4.67s/it]"
     ]
    },
    {
     "name": "stdout",
     "output_type": "stream",
     "text": [
      "Model Was Not Saved ! Current Best Avg. Dice: 0.5830403566360474 Current Avg. Dice: 0.5471694469451904 Current Avg. tumor Dice: 0.5848212242126465 Current Avg. lymph Dice: 0.5095176696777344\n"
     ]
    },
    {
     "name": "stderr",
     "output_type": "stream",
     "text": [
      "Training (13404 / 18000 Steps) (loss=0.12004): 100%|██████████| 7/7 [00:15<00:00,  2.22s/it]\n",
      "Training (13411 / 18000 Steps) (loss=0.34820): 100%|██████████| 7/7 [00:08<00:00,  1.17s/it]\n",
      "Training (13418 / 18000 Steps) (loss=0.25343): 100%|██████████| 7/7 [00:10<00:00,  1.55s/it]\n",
      "Training (13425 / 18000 Steps) (loss=0.32685): 100%|██████████| 7/7 [00:09<00:00,  1.39s/it]\n",
      "Training (13432 / 18000 Steps) (loss=0.32336): 100%|██████████| 7/7 [00:08<00:00,  1.28s/it]\n",
      "Training (13439 / 18000 Steps) (loss=0.10895): 100%|██████████| 7/7 [00:09<00:00,  1.33s/it]\n",
      "Training (13446 / 18000 Steps) (loss=0.13217): 100%|██████████| 7/7 [00:09<00:00,  1.31s/it]\n",
      "Training (13453 / 18000 Steps) (loss=0.12849): 100%|██████████| 7/7 [00:09<00:00,  1.30s/it]\n",
      "Training (13460 / 18000 Steps) (loss=0.36152): 100%|██████████| 7/7 [00:09<00:00,  1.34s/it]\n",
      "Training (13467 / 18000 Steps) (loss=0.46436): 100%|██████████| 7/7 [00:08<00:00,  1.15s/it]\n",
      "Training (13474 / 18000 Steps) (loss=0.28387): 100%|██████████| 7/7 [00:08<00:00,  1.17s/it]\n",
      "Training (13481 / 18000 Steps) (loss=0.11760): 100%|██████████| 7/7 [00:08<00:00,  1.27s/it]\n",
      "Training (13488 / 18000 Steps) (loss=0.24468): 100%|██████████| 7/7 [00:09<00:00,  1.38s/it]\n",
      "Training (13495 / 18000 Steps) (loss=0.24107): 100%|██████████| 7/7 [00:09<00:00,  1.30s/it]\n",
      "Validate (13496 / 10 Steps): 100%|██████████| 2/2 [00:06<00:00,  3.00s/it]<00:03,  1.26s/it]\n",
      "Training (13500 / 18000 Steps) (loss=0.37983):  71%|███████▏  | 5/7 [00:14<00:06,  3.15s/it]"
     ]
    },
    {
     "name": "stdout",
     "output_type": "stream",
     "text": [
      "Model Was Not Saved ! Current Best Avg. Dice: 0.5830403566360474 Current Avg. Dice: 0.5566152930259705 Current Avg. tumor Dice: 0.600612223148346 Current Avg. lymph Dice: 0.5126182436943054\n"
     ]
    },
    {
     "name": "stderr",
     "output_type": "stream",
     "text": [
      "Training (13502 / 18000 Steps) (loss=0.44896): 100%|██████████| 7/7 [00:15<00:00,  2.16s/it]\n",
      "Training (13509 / 18000 Steps) (loss=0.14137): 100%|██████████| 7/7 [00:09<00:00,  1.30s/it]\n",
      "Training (13516 / 18000 Steps) (loss=0.40486): 100%|██████████| 7/7 [00:09<00:00,  1.39s/it]\n",
      "Training (13523 / 18000 Steps) (loss=0.43021): 100%|██████████| 7/7 [00:09<00:00,  1.36s/it]\n",
      "Training (13530 / 18000 Steps) (loss=0.34176): 100%|██████████| 7/7 [00:09<00:00,  1.30s/it]\n",
      "Training (13537 / 18000 Steps) (loss=0.12541): 100%|██████████| 7/7 [00:09<00:00,  1.34s/it]\n",
      "Training (13544 / 18000 Steps) (loss=0.31726): 100%|██████████| 7/7 [00:08<00:00,  1.24s/it]\n",
      "Training (13551 / 18000 Steps) (loss=0.24764): 100%|██████████| 7/7 [00:08<00:00,  1.18s/it]\n",
      "Training (13558 / 18000 Steps) (loss=0.26343): 100%|██████████| 7/7 [00:08<00:00,  1.17s/it]\n",
      "Training (13565 / 18000 Steps) (loss=0.16473): 100%|██████████| 7/7 [00:08<00:00,  1.26s/it]\n",
      "Training (13572 / 18000 Steps) (loss=0.35357): 100%|██████████| 7/7 [00:09<00:00,  1.35s/it]\n",
      "Training (13579 / 18000 Steps) (loss=0.29738): 100%|██████████| 7/7 [00:08<00:00,  1.24s/it]\n",
      "Training (13586 / 18000 Steps) (loss=0.44530): 100%|██████████| 7/7 [00:08<00:00,  1.25s/it]\n",
      "Training (13593 / 18000 Steps) (loss=0.13161): 100%|██████████| 7/7 [00:10<00:00,  1.49s/it]\n",
      "Validate (13594 / 10 Steps): 100%|██████████| 2/2 [00:06<00:00,  3.11s/it]<00:00,  1.17it/s]\n",
      "Training (13600 / 18000 Steps) (loss=0.47608): 100%|██████████| 7/7 [00:16<00:00,  2.34s/it]\n"
     ]
    },
    {
     "name": "stdout",
     "output_type": "stream",
     "text": [
      "Model Was Not Saved ! Current Best Avg. Dice: 0.5830403566360474 Current Avg. Dice: 0.5540866851806641 Current Avg. tumor Dice: 0.6120439767837524 Current Avg. lymph Dice: 0.4961293935775757\n"
     ]
    },
    {
     "name": "stderr",
     "output_type": "stream",
     "text": [
      "Training (13607 / 18000 Steps) (loss=0.25512): 100%|██████████| 7/7 [00:09<00:00,  1.42s/it]\n",
      "Training (13614 / 18000 Steps) (loss=0.19241): 100%|██████████| 7/7 [00:09<00:00,  1.30s/it]\n",
      "Training (13621 / 18000 Steps) (loss=0.52221): 100%|██████████| 7/7 [00:09<00:00,  1.38s/it]\n",
      "Training (13628 / 18000 Steps) (loss=0.14738): 100%|██████████| 7/7 [00:09<00:00,  1.30s/it]\n",
      "Training (13635 / 18000 Steps) (loss=0.13244): 100%|██████████| 7/7 [00:09<00:00,  1.30s/it]\n",
      "Training (13642 / 18000 Steps) (loss=0.36885): 100%|██████████| 7/7 [00:09<00:00,  1.39s/it]\n",
      "Training (13649 / 18000 Steps) (loss=0.27580): 100%|██████████| 7/7 [00:09<00:00,  1.35s/it]\n",
      "Training (13656 / 18000 Steps) (loss=0.44311): 100%|██████████| 7/7 [00:09<00:00,  1.31s/it]\n",
      "Training (13663 / 18000 Steps) (loss=0.32302): 100%|██████████| 7/7 [00:09<00:00,  1.37s/it]\n",
      "Training (13670 / 18000 Steps) (loss=0.28601): 100%|██████████| 7/7 [00:10<00:00,  1.47s/it]\n",
      "Training (13677 / 18000 Steps) (loss=0.25748): 100%|██████████| 7/7 [00:08<00:00,  1.25s/it]\n",
      "Training (13684 / 18000 Steps) (loss=0.52862): 100%|██████████| 7/7 [00:09<00:00,  1.31s/it]\n",
      "Training (13691 / 18000 Steps) (loss=0.38002): 100%|██████████| 7/7 [00:09<00:00,  1.31s/it]\n",
      "Training (13698 / 18000 Steps) (loss=0.37564): 100%|██████████| 7/7 [00:08<00:00,  1.26s/it]\n",
      "Validate (13699 / 10 Steps): 100%|██████████| 2/2 [00:05<00:00,  2.85s/it]<00:43,  7.18s/it]\n",
      "Training (13700 / 18000 Steps) (loss=0.49156):  29%|██▊       | 2/7 [00:13<00:33,  6.61s/it]"
     ]
    },
    {
     "name": "stdout",
     "output_type": "stream",
     "text": [
      "Model Was Not Saved ! Current Best Avg. Dice: 0.5830403566360474 Current Avg. Dice: 0.5635391473770142 Current Avg. tumor Dice: 0.6219404339790344 Current Avg. lymph Dice: 0.5051378607749939\n"
     ]
    },
    {
     "name": "stderr",
     "output_type": "stream",
     "text": [
      "Training (13705 / 18000 Steps) (loss=0.35178): 100%|██████████| 7/7 [00:15<00:00,  2.20s/it]\n",
      "Training (13712 / 18000 Steps) (loss=0.40207): 100%|██████████| 7/7 [00:08<00:00,  1.20s/it]\n",
      "Training (13719 / 18000 Steps) (loss=0.27854): 100%|██████████| 7/7 [00:10<00:00,  1.49s/it]\n",
      "Training (13726 / 18000 Steps) (loss=0.46518): 100%|██████████| 7/7 [00:10<00:00,  1.46s/it]\n",
      "Training (13733 / 18000 Steps) (loss=0.41034): 100%|██████████| 7/7 [00:09<00:00,  1.39s/it]\n",
      "Training (13740 / 18000 Steps) (loss=0.52708): 100%|██████████| 7/7 [00:08<00:00,  1.24s/it]\n",
      "Training (13747 / 18000 Steps) (loss=0.21475): 100%|██████████| 7/7 [00:08<00:00,  1.25s/it]\n",
      "Training (13754 / 18000 Steps) (loss=0.12977): 100%|██████████| 7/7 [00:09<00:00,  1.31s/it]\n",
      "Training (13761 / 18000 Steps) (loss=0.29038): 100%|██████████| 7/7 [00:09<00:00,  1.35s/it]\n",
      "Training (13768 / 18000 Steps) (loss=0.39275): 100%|██████████| 7/7 [00:08<00:00,  1.27s/it]\n",
      "Training (13775 / 18000 Steps) (loss=0.28224): 100%|██████████| 7/7 [00:09<00:00,  1.32s/it]\n",
      "Training (13782 / 18000 Steps) (loss=0.54088): 100%|██████████| 7/7 [00:09<00:00,  1.29s/it]\n",
      "Training (13789 / 18000 Steps) (loss=0.39743): 100%|██████████| 7/7 [00:09<00:00,  1.34s/it]\n",
      "Training (13796 / 18000 Steps) (loss=0.47284): 100%|██████████| 7/7 [00:09<00:00,  1.33s/it]\n",
      "Validate (13797 / 10 Steps): 100%|██████████| 2/2 [00:06<00:00,  3.08s/it]<00:07,  1.75s/it]\n",
      "Training (13800 / 18000 Steps) (loss=0.24590):  57%|█████▋    | 4/7 [00:13<00:11,  3.71s/it]"
     ]
    },
    {
     "name": "stdout",
     "output_type": "stream",
     "text": [
      "Model Was Not Saved ! Current Best Avg. Dice: 0.5830403566360474 Current Avg. Dice: 0.557501494884491 Current Avg. tumor Dice: 0.5926060080528259 Current Avg. lymph Dice: 0.5223969221115112\n"
     ]
    },
    {
     "name": "stderr",
     "output_type": "stream",
     "text": [
      "Training (13803 / 18000 Steps) (loss=0.20316): 100%|██████████| 7/7 [00:15<00:00,  2.15s/it]\n",
      "Training (13810 / 18000 Steps) (loss=0.32440): 100%|██████████| 7/7 [00:09<00:00,  1.30s/it]\n",
      "Training (13817 / 18000 Steps) (loss=0.13652): 100%|██████████| 7/7 [00:09<00:00,  1.33s/it]\n",
      "Training (13824 / 18000 Steps) (loss=0.44879): 100%|██████████| 7/7 [00:09<00:00,  1.38s/it]\n",
      "Training (13831 / 18000 Steps) (loss=0.52314): 100%|██████████| 7/7 [00:10<00:00,  1.48s/it]\n",
      "Training (13838 / 18000 Steps) (loss=0.32997): 100%|██████████| 7/7 [00:09<00:00,  1.43s/it]\n",
      "Training (13845 / 18000 Steps) (loss=0.14763): 100%|██████████| 7/7 [00:09<00:00,  1.38s/it]\n",
      "Training (13852 / 18000 Steps) (loss=0.32185): 100%|██████████| 7/7 [00:08<00:00,  1.27s/it]\n",
      "Training (13859 / 18000 Steps) (loss=0.42381): 100%|██████████| 7/7 [00:08<00:00,  1.24s/it]\n",
      "Training (13866 / 18000 Steps) (loss=0.52433): 100%|██████████| 7/7 [00:09<00:00,  1.33s/it]\n",
      "Training (13873 / 18000 Steps) (loss=0.52348): 100%|██████████| 7/7 [00:09<00:00,  1.35s/it]\n",
      "Training (13880 / 18000 Steps) (loss=0.47803): 100%|██████████| 7/7 [00:09<00:00,  1.38s/it]\n",
      "Training (13887 / 18000 Steps) (loss=0.25375): 100%|██████████| 7/7 [00:08<00:00,  1.24s/it]\n",
      "Training (13894 / 18000 Steps) (loss=0.28640): 100%|██████████| 7/7 [00:10<00:00,  1.44s/it]\n",
      "Validate (13895 / 10 Steps): 100%|██████████| 2/2 [00:06<00:00,  3.12s/it]<00:01,  1.01it/s]\n",
      "Training (13900 / 18000 Steps) (loss=0.41943):  86%|████████▌ | 6/7 [00:15<00:02,  2.96s/it]"
     ]
    },
    {
     "name": "stdout",
     "output_type": "stream",
     "text": [
      "Model Was Not Saved ! Current Best Avg. Dice: 0.5830403566360474 Current Avg. Dice: 0.5711556673049927 Current Avg. tumor Dice: 0.6131956577301025 Current Avg. lymph Dice: 0.5291156768798828\n"
     ]
    },
    {
     "name": "stderr",
     "output_type": "stream",
     "text": [
      "Training (13901 / 18000 Steps) (loss=0.09377): 100%|██████████| 7/7 [00:15<00:00,  2.26s/it]\n",
      "Training (13908 / 18000 Steps) (loss=0.22005): 100%|██████████| 7/7 [00:08<00:00,  1.23s/it]\n",
      "Training (13915 / 18000 Steps) (loss=0.11221): 100%|██████████| 7/7 [00:09<00:00,  1.33s/it]\n",
      "Training (13922 / 18000 Steps) (loss=0.28018): 100%|██████████| 7/7 [00:08<00:00,  1.25s/it]\n",
      "Training (13929 / 18000 Steps) (loss=0.56253): 100%|██████████| 7/7 [00:09<00:00,  1.38s/it]\n",
      "Training (13936 / 18000 Steps) (loss=0.52578): 100%|██████████| 7/7 [00:08<00:00,  1.28s/it]\n",
      "Training (13943 / 18000 Steps) (loss=0.17037): 100%|██████████| 7/7 [00:09<00:00,  1.38s/it]\n",
      "Training (13950 / 18000 Steps) (loss=0.17556): 100%|██████████| 7/7 [00:08<00:00,  1.28s/it]\n",
      "Training (13957 / 18000 Steps) (loss=0.52287): 100%|██████████| 7/7 [00:09<00:00,  1.35s/it]\n",
      "Training (13964 / 18000 Steps) (loss=0.19499): 100%|██████████| 7/7 [00:10<00:00,  1.44s/it]\n",
      "Training (13971 / 18000 Steps) (loss=0.37962): 100%|██████████| 7/7 [00:09<00:00,  1.32s/it]\n",
      "Training (13978 / 18000 Steps) (loss=0.40502): 100%|██████████| 7/7 [00:10<00:00,  1.46s/it]\n",
      "Training (13985 / 18000 Steps) (loss=0.23945): 100%|██████████| 7/7 [00:08<00:00,  1.25s/it]\n",
      "Training (13992 / 18000 Steps) (loss=0.33804): 100%|██████████| 7/7 [00:09<00:00,  1.33s/it]\n",
      "Training (13999 / 18000 Steps) (loss=0.38144): 100%|██████████| 7/7 [00:08<00:00,  1.20s/it]\n",
      "Validate (14000 / 10 Steps): 100%|██████████| 2/2 [00:05<00:00,  2.92s/it]<?, ?it/s]\n",
      "Training (14000 / 18000 Steps) (loss=0.27709):  14%|█▍        | 1/7 [00:11<01:11, 11.93s/it]"
     ]
    },
    {
     "name": "stdout",
     "output_type": "stream",
     "text": [
      "Model Was Not Saved ! Current Best Avg. Dice: 0.5830403566360474 Current Avg. Dice: 0.4898023009300232 Current Avg. tumor Dice: 0.5734543204307556 Current Avg. lymph Dice: 0.40615028142929077\n"
     ]
    },
    {
     "name": "stderr",
     "output_type": "stream",
     "text": [
      "Training (14006 / 18000 Steps) (loss=0.42752): 100%|██████████| 7/7 [00:14<00:00,  2.05s/it]\n",
      "Training (14013 / 18000 Steps) (loss=0.34589): 100%|██████████| 7/7 [00:08<00:00,  1.26s/it]\n",
      "Training (14020 / 18000 Steps) (loss=0.53135): 100%|██████████| 7/7 [00:08<00:00,  1.26s/it]\n",
      "Training (14027 / 18000 Steps) (loss=0.56929): 100%|██████████| 7/7 [00:08<00:00,  1.21s/it]\n",
      "Training (14034 / 18000 Steps) (loss=0.24197): 100%|██████████| 7/7 [00:08<00:00,  1.25s/it]\n",
      "Training (14041 / 18000 Steps) (loss=0.26227): 100%|██████████| 7/7 [00:09<00:00,  1.31s/it]\n",
      "Training (14048 / 18000 Steps) (loss=0.38247): 100%|██████████| 7/7 [00:10<00:00,  1.43s/it]\n",
      "Training (14055 / 18000 Steps) (loss=0.20251): 100%|██████████| 7/7 [00:10<00:00,  1.50s/it]\n",
      "Training (14062 / 18000 Steps) (loss=0.39351): 100%|██████████| 7/7 [00:09<00:00,  1.35s/it]\n",
      "Training (14069 / 18000 Steps) (loss=0.46938): 100%|██████████| 7/7 [00:10<00:00,  1.43s/it]\n",
      "Training (14076 / 18000 Steps) (loss=0.11606): 100%|██████████| 7/7 [00:10<00:00,  1.44s/it]\n",
      "Training (14083 / 18000 Steps) (loss=0.54008): 100%|██████████| 7/7 [00:08<00:00,  1.20s/it]\n",
      "Training (14090 / 18000 Steps) (loss=0.19365): 100%|██████████| 7/7 [00:08<00:00,  1.23s/it]\n",
      "Training (14097 / 18000 Steps) (loss=0.32334): 100%|██████████| 7/7 [00:08<00:00,  1.16s/it]\n",
      "Validate (14098 / 10 Steps): 100%|██████████| 2/2 [00:05<00:00,  2.97s/it]<00:15,  3.13s/it]\n",
      "Training (14100 / 18000 Steps) (loss=0.23403):  43%|████▎     | 3/7 [00:13<00:18,  4.65s/it]"
     ]
    },
    {
     "name": "stdout",
     "output_type": "stream",
     "text": [
      "Model Was Not Saved ! Current Best Avg. Dice: 0.5830403566360474 Current Avg. Dice: 0.5527870059013367 Current Avg. tumor Dice: 0.616161584854126 Current Avg. lymph Dice: 0.48941245675086975\n"
     ]
    },
    {
     "name": "stderr",
     "output_type": "stream",
     "text": [
      "Training (14104 / 18000 Steps) (loss=0.26262): 100%|██████████| 7/7 [00:15<00:00,  2.21s/it]\n",
      "Training (14111 / 18000 Steps) (loss=0.29452): 100%|██████████| 7/7 [00:09<00:00,  1.31s/it]\n",
      "Training (14118 / 18000 Steps) (loss=0.31474): 100%|██████████| 7/7 [00:10<00:00,  1.43s/it]\n",
      "Training (14125 / 18000 Steps) (loss=0.40300): 100%|██████████| 7/7 [00:09<00:00,  1.43s/it]\n",
      "Training (14132 / 18000 Steps) (loss=0.33459): 100%|██████████| 7/7 [00:08<00:00,  1.27s/it]\n",
      "Training (14139 / 18000 Steps) (loss=0.23402): 100%|██████████| 7/7 [00:08<00:00,  1.28s/it]\n",
      "Training (14146 / 18000 Steps) (loss=0.39991): 100%|██████████| 7/7 [00:09<00:00,  1.32s/it]\n",
      "Training (14153 / 18000 Steps) (loss=0.35600): 100%|██████████| 7/7 [00:09<00:00,  1.36s/it]\n",
      "Training (14160 / 18000 Steps) (loss=0.45467): 100%|██████████| 7/7 [00:08<00:00,  1.19s/it]\n",
      "Training (14167 / 18000 Steps) (loss=0.42317): 100%|██████████| 7/7 [00:08<00:00,  1.26s/it]\n",
      "Training (14174 / 18000 Steps) (loss=0.59561): 100%|██████████| 7/7 [00:09<00:00,  1.35s/it]\n",
      "Training (14181 / 18000 Steps) (loss=0.12991): 100%|██████████| 7/7 [00:10<00:00,  1.44s/it]\n",
      "Training (14188 / 18000 Steps) (loss=0.25468): 100%|██████████| 7/7 [00:08<00:00,  1.23s/it]\n",
      "Training (14195 / 18000 Steps) (loss=0.35253): 100%|██████████| 7/7 [00:08<00:00,  1.28s/it]\n",
      "Validate (14196 / 10 Steps): 100%|██████████| 2/2 [00:06<00:00,  3.03s/it]<00:04,  1.37s/it]\n",
      "Training (14200 / 18000 Steps) (loss=0.35479):  71%|███████▏  | 5/7 [00:15<00:06,  3.24s/it]"
     ]
    },
    {
     "name": "stdout",
     "output_type": "stream",
     "text": [
      "Model Was Not Saved ! Current Best Avg. Dice: 0.5830403566360474 Current Avg. Dice: 0.5457677245140076 Current Avg. tumor Dice: 0.6198267936706543 Current Avg. lymph Dice: 0.47170865535736084\n"
     ]
    },
    {
     "name": "stderr",
     "output_type": "stream",
     "text": [
      "Training (14202 / 18000 Steps) (loss=0.15834): 100%|██████████| 7/7 [00:15<00:00,  2.28s/it]\n",
      "Training (14209 / 18000 Steps) (loss=0.20002): 100%|██████████| 7/7 [00:09<00:00,  1.33s/it]\n",
      "Training (14216 / 18000 Steps) (loss=0.38084): 100%|██████████| 7/7 [00:09<00:00,  1.32s/it]\n",
      "Training (14223 / 18000 Steps) (loss=0.26857): 100%|██████████| 7/7 [00:09<00:00,  1.42s/it]\n",
      "Training (14230 / 18000 Steps) (loss=0.53960): 100%|██████████| 7/7 [00:09<00:00,  1.41s/it]\n",
      "Training (14237 / 18000 Steps) (loss=0.27757): 100%|██████████| 7/7 [00:08<00:00,  1.26s/it]\n",
      "Training (14244 / 18000 Steps) (loss=0.35290): 100%|██████████| 7/7 [00:09<00:00,  1.34s/it]\n",
      "Training (14251 / 18000 Steps) (loss=0.47985): 100%|██████████| 7/7 [00:09<00:00,  1.41s/it]\n",
      "Training (14258 / 18000 Steps) (loss=0.24148): 100%|██████████| 7/7 [00:09<00:00,  1.41s/it]\n",
      "Training (14265 / 18000 Steps) (loss=0.12738): 100%|██████████| 7/7 [00:09<00:00,  1.37s/it]\n",
      "Training (14272 / 18000 Steps) (loss=0.41818): 100%|██████████| 7/7 [00:08<00:00,  1.29s/it]\n",
      "Training (14279 / 18000 Steps) (loss=0.33748): 100%|██████████| 7/7 [00:08<00:00,  1.28s/it]\n",
      "Training (14286 / 18000 Steps) (loss=0.25719): 100%|██████████| 7/7 [00:09<00:00,  1.31s/it]\n",
      "Training (14293 / 18000 Steps) (loss=0.23986): 100%|██████████| 7/7 [00:08<00:00,  1.22s/it]\n",
      "Validate (14294 / 10 Steps): 100%|██████████| 2/2 [00:05<00:00,  3.00s/it]<00:00,  1.22it/s]\n",
      "Training (14300 / 18000 Steps) (loss=0.38736): 100%|██████████| 7/7 [00:15<00:00,  2.18s/it]\n"
     ]
    },
    {
     "name": "stdout",
     "output_type": "stream",
     "text": [
      "Model Was Not Saved ! Current Best Avg. Dice: 0.5830403566360474 Current Avg. Dice: 0.5167825222015381 Current Avg. tumor Dice: 0.5742331743240356 Current Avg. lymph Dice: 0.4593317210674286\n"
     ]
    },
    {
     "name": "stderr",
     "output_type": "stream",
     "text": [
      "Training (14307 / 18000 Steps) (loss=0.45643): 100%|██████████| 7/7 [00:09<00:00,  1.35s/it]\n",
      "Training (14314 / 18000 Steps) (loss=0.31303): 100%|██████████| 7/7 [00:08<00:00,  1.23s/it]\n",
      "Training (14321 / 18000 Steps) (loss=0.24501): 100%|██████████| 7/7 [00:09<00:00,  1.31s/it]\n",
      "Training (14328 / 18000 Steps) (loss=0.13454): 100%|██████████| 7/7 [00:09<00:00,  1.30s/it]\n",
      "Training (14335 / 18000 Steps) (loss=0.12398): 100%|██████████| 7/7 [00:08<00:00,  1.24s/it]\n",
      "Training (14342 / 18000 Steps) (loss=0.40301): 100%|██████████| 7/7 [00:09<00:00,  1.39s/it]\n",
      "Training (14349 / 18000 Steps) (loss=0.27695): 100%|██████████| 7/7 [00:09<00:00,  1.37s/it]\n",
      "Training (14356 / 18000 Steps) (loss=0.52744): 100%|██████████| 7/7 [00:08<00:00,  1.27s/it]\n",
      "Training (14363 / 18000 Steps) (loss=0.09346): 100%|██████████| 7/7 [00:10<00:00,  1.43s/it]\n",
      "Training (14370 / 18000 Steps) (loss=0.37597): 100%|██████████| 7/7 [00:09<00:00,  1.32s/it]\n",
      "Training (14377 / 18000 Steps) (loss=0.38678): 100%|██████████| 7/7 [00:09<00:00,  1.32s/it]\n",
      "Training (14384 / 18000 Steps) (loss=0.38416): 100%|██████████| 7/7 [00:08<00:00,  1.21s/it]\n",
      "Training (14391 / 18000 Steps) (loss=0.27843): 100%|██████████| 7/7 [00:09<00:00,  1.34s/it]\n",
      "Training (14398 / 18000 Steps) (loss=0.10370): 100%|██████████| 7/7 [00:09<00:00,  1.35s/it]\n",
      "Validate (14399 / 10 Steps): 100%|██████████| 2/2 [00:06<00:00,  3.06s/it]<00:42,  7.14s/it]\n",
      "Training (14400 / 18000 Steps) (loss=0.30852):  29%|██▊       | 2/7 [00:13<00:34,  6.84s/it]"
     ]
    },
    {
     "name": "stdout",
     "output_type": "stream",
     "text": [
      "Model Was Not Saved ! Current Best Avg. Dice: 0.5830403566360474 Current Avg. Dice: 0.5757474303245544 Current Avg. tumor Dice: 0.6288490891456604 Current Avg. lymph Dice: 0.5226457118988037\n"
     ]
    },
    {
     "name": "stderr",
     "output_type": "stream",
     "text": [
      "Training (14405 / 18000 Steps) (loss=0.48290): 100%|██████████| 7/7 [00:15<00:00,  2.26s/it]\n",
      "Training (14412 / 18000 Steps) (loss=0.52857): 100%|██████████| 7/7 [00:09<00:00,  1.34s/it]\n",
      "Training (14419 / 18000 Steps) (loss=0.53899): 100%|██████████| 7/7 [00:09<00:00,  1.34s/it]\n",
      "Training (14426 / 18000 Steps) (loss=0.25916): 100%|██████████| 7/7 [00:09<00:00,  1.31s/it]\n",
      "Training (14433 / 18000 Steps) (loss=0.53886): 100%|██████████| 7/7 [00:09<00:00,  1.30s/it]\n",
      "Training (14440 / 18000 Steps) (loss=0.32789): 100%|██████████| 7/7 [00:08<00:00,  1.21s/it]\n",
      "Training (14447 / 18000 Steps) (loss=0.11649): 100%|██████████| 7/7 [00:08<00:00,  1.28s/it]\n",
      "Training (14454 / 18000 Steps) (loss=0.13711): 100%|██████████| 7/7 [00:09<00:00,  1.31s/it]\n",
      "Training (14461 / 18000 Steps) (loss=0.32510): 100%|██████████| 7/7 [00:09<00:00,  1.34s/it]\n",
      "Training (14468 / 18000 Steps) (loss=0.32250): 100%|██████████| 7/7 [00:08<00:00,  1.28s/it]\n",
      "Training (14475 / 18000 Steps) (loss=0.35670): 100%|██████████| 7/7 [00:08<00:00,  1.28s/it]\n",
      "Training (14482 / 18000 Steps) (loss=0.25841): 100%|██████████| 7/7 [00:08<00:00,  1.27s/it]\n",
      "Training (14489 / 18000 Steps) (loss=0.26868): 100%|██████████| 7/7 [00:09<00:00,  1.36s/it]\n",
      "Training (14496 / 18000 Steps) (loss=0.43853): 100%|██████████| 7/7 [00:08<00:00,  1.19s/it]\n",
      "Validate (14497 / 10 Steps): 100%|██████████| 2/2 [00:05<00:00,  2.94s/it]<00:07,  1.90s/it]\n",
      "Training (14500 / 18000 Steps) (loss=0.19219):  57%|█████▋    | 4/7 [00:14<00:11,  3.67s/it]"
     ]
    },
    {
     "name": "stdout",
     "output_type": "stream",
     "text": [
      "Model Was Not Saved ! Current Best Avg. Dice: 0.5830403566360474 Current Avg. Dice: 0.5473650097846985 Current Avg. tumor Dice: 0.6257964372634888 Current Avg. lymph Dice: 0.4689335823059082\n"
     ]
    },
    {
     "name": "stderr",
     "output_type": "stream",
     "text": [
      "Training (14503 / 18000 Steps) (loss=0.10103): 100%|██████████| 7/7 [00:15<00:00,  2.20s/it]\n",
      "Training (14510 / 18000 Steps) (loss=0.24542): 100%|██████████| 7/7 [00:08<00:00,  1.18s/it]\n",
      "Training (14517 / 18000 Steps) (loss=0.13500): 100%|██████████| 7/7 [00:09<00:00,  1.30s/it]\n",
      "Training (14524 / 18000 Steps) (loss=0.39133): 100%|██████████| 7/7 [00:09<00:00,  1.38s/it]\n",
      "Training (14531 / 18000 Steps) (loss=0.34500): 100%|██████████| 7/7 [00:08<00:00,  1.19s/it]\n",
      "Training (14538 / 18000 Steps) (loss=0.23826): 100%|██████████| 7/7 [00:08<00:00,  1.21s/it]\n",
      "Training (14545 / 18000 Steps) (loss=0.49465): 100%|██████████| 7/7 [00:09<00:00,  1.31s/it]\n",
      "Training (14552 / 18000 Steps) (loss=0.11788): 100%|██████████| 7/7 [00:09<00:00,  1.35s/it]\n",
      "Training (14559 / 18000 Steps) (loss=0.26273): 100%|██████████| 7/7 [00:09<00:00,  1.36s/it]\n",
      "Training (14566 / 18000 Steps) (loss=0.24924): 100%|██████████| 7/7 [00:09<00:00,  1.31s/it]\n",
      "Training (14573 / 18000 Steps) (loss=0.23472): 100%|██████████| 7/7 [00:09<00:00,  1.31s/it]\n",
      "Training (14580 / 18000 Steps) (loss=0.24858): 100%|██████████| 7/7 [00:09<00:00,  1.33s/it]\n",
      "Training (14587 / 18000 Steps) (loss=0.55920): 100%|██████████| 7/7 [00:09<00:00,  1.32s/it]\n",
      "Training (14594 / 18000 Steps) (loss=0.54634): 100%|██████████| 7/7 [00:08<00:00,  1.24s/it]\n",
      "Validate (14595 / 10 Steps): 100%|██████████| 2/2 [00:05<00:00,  2.89s/it]<00:01,  1.00it/s]\n",
      "Training (14600 / 18000 Steps) (loss=0.26443):  86%|████████▌ | 6/7 [00:14<00:02,  2.79s/it]"
     ]
    },
    {
     "name": "stdout",
     "output_type": "stream",
     "text": [
      "Model Was Not Saved ! Current Best Avg. Dice: 0.5830403566360474 Current Avg. Dice: 0.5587377548217773 Current Avg. tumor Dice: 0.6173601746559143 Current Avg. lymph Dice: 0.5001153945922852\n"
     ]
    },
    {
     "name": "stderr",
     "output_type": "stream",
     "text": [
      "Training (14601 / 18000 Steps) (loss=0.26306): 100%|██████████| 7/7 [00:14<00:00,  2.12s/it]\n",
      "Training (14608 / 18000 Steps) (loss=0.40499): 100%|██████████| 7/7 [00:08<00:00,  1.22s/it]\n",
      "Training (14615 / 18000 Steps) (loss=0.35557): 100%|██████████| 7/7 [00:08<00:00,  1.22s/it]\n",
      "Training (14622 / 18000 Steps) (loss=0.39454): 100%|██████████| 7/7 [00:09<00:00,  1.36s/it]\n",
      "Training (14629 / 18000 Steps) (loss=0.49423): 100%|██████████| 7/7 [00:09<00:00,  1.40s/it]\n",
      "Training (14636 / 18000 Steps) (loss=0.35099): 100%|██████████| 7/7 [00:08<00:00,  1.24s/it]\n",
      "Training (14643 / 18000 Steps) (loss=0.45944): 100%|██████████| 7/7 [00:09<00:00,  1.40s/it]\n",
      "Training (14650 / 18000 Steps) (loss=0.54292): 100%|██████████| 7/7 [00:08<00:00,  1.23s/it]\n",
      "Training (14657 / 18000 Steps) (loss=0.28063): 100%|██████████| 7/7 [00:09<00:00,  1.35s/it]\n",
      "Training (14664 / 18000 Steps) (loss=0.11968): 100%|██████████| 7/7 [00:08<00:00,  1.26s/it]\n",
      "Training (14671 / 18000 Steps) (loss=0.49494): 100%|██████████| 7/7 [00:09<00:00,  1.36s/it]\n",
      "Training (14678 / 18000 Steps) (loss=0.28621): 100%|██████████| 7/7 [00:09<00:00,  1.31s/it]\n",
      "Training (14685 / 18000 Steps) (loss=0.25430): 100%|██████████| 7/7 [00:08<00:00,  1.28s/it]\n",
      "Training (14692 / 18000 Steps) (loss=0.33451): 100%|██████████| 7/7 [00:08<00:00,  1.19s/it]\n",
      "Training (14699 / 18000 Steps) (loss=0.41210): 100%|██████████| 7/7 [00:10<00:00,  1.46s/it]\n",
      "Validate (14700 / 10 Steps): 100%|██████████| 2/2 [00:06<00:00,  3.12s/it]<?, ?it/s]\n",
      "Training (14700 / 18000 Steps) (loss=0.46207):  14%|█▍        | 1/7 [00:12<01:12, 12.11s/it]"
     ]
    },
    {
     "name": "stdout",
     "output_type": "stream",
     "text": [
      "Model Was Not Saved ! Current Best Avg. Dice: 0.5830403566360474 Current Avg. Dice: 0.5431621074676514 Current Avg. tumor Dice: 0.585722804069519 Current Avg. lymph Dice: 0.5006015300750732\n"
     ]
    },
    {
     "name": "stderr",
     "output_type": "stream",
     "text": [
      "Training (14706 / 18000 Steps) (loss=0.12190): 100%|██████████| 7/7 [00:14<00:00,  2.08s/it]\n",
      "Training (14713 / 18000 Steps) (loss=0.30467): 100%|██████████| 7/7 [00:09<00:00,  1.34s/it]\n",
      "Training (14720 / 18000 Steps) (loss=0.42060): 100%|██████████| 7/7 [00:08<00:00,  1.27s/it]\n",
      "Training (14727 / 18000 Steps) (loss=0.35233): 100%|██████████| 7/7 [00:08<00:00,  1.26s/it]\n",
      "Training (14734 / 18000 Steps) (loss=0.39848): 100%|██████████| 7/7 [00:09<00:00,  1.39s/it]\n",
      "Training (14741 / 18000 Steps) (loss=0.14741): 100%|██████████| 7/7 [00:09<00:00,  1.34s/it]\n",
      "Training (14748 / 18000 Steps) (loss=0.44622): 100%|██████████| 7/7 [00:09<00:00,  1.43s/it]\n",
      "Training (14755 / 18000 Steps) (loss=0.59571): 100%|██████████| 7/7 [00:09<00:00,  1.41s/it]\n",
      "Training (14762 / 18000 Steps) (loss=0.26287): 100%|██████████| 7/7 [00:09<00:00,  1.29s/it]\n",
      "Training (14769 / 18000 Steps) (loss=0.22785): 100%|██████████| 7/7 [00:08<00:00,  1.28s/it]\n",
      "Training (14776 / 18000 Steps) (loss=0.39334): 100%|██████████| 7/7 [00:09<00:00,  1.31s/it]\n",
      "Training (14783 / 18000 Steps) (loss=0.09539): 100%|██████████| 7/7 [00:08<00:00,  1.19s/it]\n",
      "Training (14790 / 18000 Steps) (loss=0.09648): 100%|██████████| 7/7 [00:09<00:00,  1.29s/it]\n",
      "Training (14797 / 18000 Steps) (loss=0.26823): 100%|██████████| 7/7 [00:08<00:00,  1.18s/it]\n",
      "Validate (14798 / 10 Steps): 100%|██████████| 2/2 [00:05<00:00,  2.99s/it]<00:16,  3.34s/it]\n",
      "Training (14800 / 18000 Steps) (loss=0.41078):  43%|████▎     | 3/7 [00:13<00:19,  4.77s/it]"
     ]
    },
    {
     "name": "stdout",
     "output_type": "stream",
     "text": [
      "Model Was Not Saved ! Current Best Avg. Dice: 0.5830403566360474 Current Avg. Dice: 0.5539823174476624 Current Avg. tumor Dice: 0.6129685640335083 Current Avg. lymph Dice: 0.49499601125717163\n"
     ]
    },
    {
     "name": "stderr",
     "output_type": "stream",
     "text": [
      "Training (14804 / 18000 Steps) (loss=0.25622): 100%|██████████| 7/7 [00:15<00:00,  2.20s/it]\n",
      "Training (14811 / 18000 Steps) (loss=0.30172): 100%|██████████| 7/7 [00:09<00:00,  1.42s/it]\n",
      "Training (14818 / 18000 Steps) (loss=0.33659): 100%|██████████| 7/7 [00:09<00:00,  1.40s/it]\n",
      "Training (14825 / 18000 Steps) (loss=0.28037): 100%|██████████| 7/7 [00:08<00:00,  1.27s/it]\n",
      "Training (14832 / 18000 Steps) (loss=0.24194): 100%|██████████| 7/7 [00:08<00:00,  1.27s/it]\n",
      "Training (14839 / 18000 Steps) (loss=0.11000): 100%|██████████| 7/7 [00:08<00:00,  1.27s/it]\n",
      "Training (14846 / 18000 Steps) (loss=0.59922): 100%|██████████| 7/7 [00:08<00:00,  1.27s/it]\n",
      "Training (14853 / 18000 Steps) (loss=0.52521): 100%|██████████| 7/7 [00:08<00:00,  1.21s/it]\n",
      "Training (14860 / 18000 Steps) (loss=0.24691): 100%|██████████| 7/7 [00:08<00:00,  1.25s/it]\n",
      "Training (14867 / 18000 Steps) (loss=0.52283): 100%|██████████| 7/7 [00:09<00:00,  1.33s/it]\n",
      "Training (14874 / 18000 Steps) (loss=0.31244): 100%|██████████| 7/7 [00:09<00:00,  1.37s/it]\n",
      "Training (14881 / 18000 Steps) (loss=0.12541): 100%|██████████| 7/7 [00:09<00:00,  1.30s/it]\n",
      "Training (14888 / 18000 Steps) (loss=0.32463): 100%|██████████| 7/7 [00:09<00:00,  1.37s/it]\n",
      "Training (14895 / 18000 Steps) (loss=0.36082): 100%|██████████| 7/7 [00:09<00:00,  1.40s/it]\n",
      "Validate (14896 / 10 Steps): 100%|██████████| 2/2 [00:05<00:00,  2.90s/it]<00:03,  1.28s/it]\n",
      "Training (14900 / 18000 Steps) (loss=0.42981):  71%|███████▏  | 5/7 [00:14<00:06,  3.10s/it]"
     ]
    },
    {
     "name": "stdout",
     "output_type": "stream",
     "text": [
      "Model Was Not Saved ! Current Best Avg. Dice: 0.5830403566360474 Current Avg. Dice: 0.5029221773147583 Current Avg. tumor Dice: 0.5661712288856506 Current Avg. lymph Dice: 0.43967312574386597\n"
     ]
    },
    {
     "name": "stderr",
     "output_type": "stream",
     "text": [
      "Training (14902 / 18000 Steps) (loss=0.29404): 100%|██████████| 7/7 [00:14<00:00,  2.11s/it]\n",
      "Training (14909 / 18000 Steps) (loss=0.53170): 100%|██████████| 7/7 [00:08<00:00,  1.28s/it]\n",
      "Training (14916 / 18000 Steps) (loss=0.47308): 100%|██████████| 7/7 [00:08<00:00,  1.25s/it]\n",
      "Training (14923 / 18000 Steps) (loss=0.23239): 100%|██████████| 7/7 [00:09<00:00,  1.41s/it]\n",
      "Training (14930 / 18000 Steps) (loss=0.25227): 100%|██████████| 7/7 [00:09<00:00,  1.30s/it]\n",
      "Training (14937 / 18000 Steps) (loss=0.38945): 100%|██████████| 7/7 [00:09<00:00,  1.34s/it]\n",
      "Training (14944 / 18000 Steps) (loss=0.15065): 100%|██████████| 7/7 [00:09<00:00,  1.31s/it]\n",
      "Training (14951 / 18000 Steps) (loss=0.40792): 100%|██████████| 7/7 [00:09<00:00,  1.42s/it]\n",
      "Training (14958 / 18000 Steps) (loss=0.20176): 100%|██████████| 7/7 [00:09<00:00,  1.38s/it]\n",
      "Training (14965 / 18000 Steps) (loss=0.23610): 100%|██████████| 7/7 [00:10<00:00,  1.47s/it]\n",
      "Training (14972 / 18000 Steps) (loss=0.23947): 100%|██████████| 7/7 [00:09<00:00,  1.30s/it]\n",
      "Training (14979 / 18000 Steps) (loss=0.39431): 100%|██████████| 7/7 [00:09<00:00,  1.32s/it]\n",
      "Training (14986 / 18000 Steps) (loss=0.23600): 100%|██████████| 7/7 [00:08<00:00,  1.27s/it]\n",
      "Training (14993 / 18000 Steps) (loss=0.21552): 100%|██████████| 7/7 [00:09<00:00,  1.35s/it]\n",
      "Validate (14994 / 10 Steps): 100%|██████████| 2/2 [00:06<00:00,  3.02s/it]<00:00,  1.32it/s]\n",
      "Training (15000 / 18000 Steps) (loss=0.32473): 100%|██████████| 7/7 [00:14<00:00,  2.11s/it]\n"
     ]
    },
    {
     "name": "stdout",
     "output_type": "stream",
     "text": [
      "Model Was Not Saved ! Current Best Avg. Dice: 0.5830403566360474 Current Avg. Dice: 0.5423323512077332 Current Avg. tumor Dice: 0.5733993053436279 Current Avg. lymph Dice: 0.5112654566764832\n"
     ]
    },
    {
     "name": "stderr",
     "output_type": "stream",
     "text": [
      "Training (15007 / 18000 Steps) (loss=0.18190): 100%|██████████| 7/7 [00:09<00:00,  1.32s/it]\n",
      "Training (15014 / 18000 Steps) (loss=0.38355): 100%|██████████| 7/7 [00:09<00:00,  1.34s/it]\n",
      "Training (15021 / 18000 Steps) (loss=0.38003): 100%|██████████| 7/7 [00:09<00:00,  1.36s/it]\n",
      "Training (15028 / 18000 Steps) (loss=0.38619): 100%|██████████| 7/7 [00:09<00:00,  1.34s/it]\n",
      "Training (15035 / 18000 Steps) (loss=0.17969): 100%|██████████| 7/7 [00:09<00:00,  1.35s/it]\n",
      "Training (15042 / 18000 Steps) (loss=0.24727): 100%|██████████| 7/7 [00:08<00:00,  1.25s/it]\n",
      "Training (15049 / 18000 Steps) (loss=0.28768): 100%|██████████| 7/7 [00:10<00:00,  1.43s/it]\n",
      "Training (15056 / 18000 Steps) (loss=0.53883): 100%|██████████| 7/7 [00:08<00:00,  1.26s/it]\n",
      "Training (15063 / 18000 Steps) (loss=0.38370): 100%|██████████| 7/7 [00:09<00:00,  1.29s/it]\n",
      "Training (15070 / 18000 Steps) (loss=0.38361): 100%|██████████| 7/7 [00:09<00:00,  1.38s/it]\n",
      "Training (15077 / 18000 Steps) (loss=0.37597): 100%|██████████| 7/7 [00:09<00:00,  1.33s/it]\n",
      "Training (15084 / 18000 Steps) (loss=0.31334): 100%|██████████| 7/7 [00:09<00:00,  1.38s/it]\n",
      "Training (15091 / 18000 Steps) (loss=0.25522): 100%|██████████| 7/7 [00:09<00:00,  1.31s/it]\n",
      "Training (15098 / 18000 Steps) (loss=0.25021): 100%|██████████| 7/7 [00:09<00:00,  1.34s/it]\n",
      "Validate (15099 / 10 Steps): 100%|██████████| 2/2 [00:06<00:00,  3.11s/it]<00:40,  6.67s/it]\n",
      "Training (15100 / 18000 Steps) (loss=0.42644):  29%|██▊       | 2/7 [00:13<00:33,  6.71s/it]"
     ]
    },
    {
     "name": "stdout",
     "output_type": "stream",
     "text": [
      "Model Was Not Saved ! Current Best Avg. Dice: 0.5830403566360474 Current Avg. Dice: 0.542239785194397 Current Avg. tumor Dice: 0.6179182529449463 Current Avg. lymph Dice: 0.4665612578392029\n"
     ]
    },
    {
     "name": "stderr",
     "output_type": "stream",
     "text": [
      "Training (15105 / 18000 Steps) (loss=0.36443): 100%|██████████| 7/7 [00:15<00:00,  2.20s/it]\n",
      "Training (15112 / 18000 Steps) (loss=0.48778): 100%|██████████| 7/7 [00:09<00:00,  1.41s/it]\n",
      "Training (15119 / 18000 Steps) (loss=0.54794): 100%|██████████| 7/7 [00:09<00:00,  1.34s/it]\n",
      "Training (15126 / 18000 Steps) (loss=0.15059): 100%|██████████| 7/7 [00:08<00:00,  1.27s/it]\n",
      "Training (15133 / 18000 Steps) (loss=0.39225): 100%|██████████| 7/7 [00:08<00:00,  1.28s/it]\n",
      "Training (15140 / 18000 Steps) (loss=0.26112): 100%|██████████| 7/7 [00:09<00:00,  1.29s/it]\n",
      "Training (15147 / 18000 Steps) (loss=0.24551): 100%|██████████| 7/7 [00:09<00:00,  1.32s/it]\n",
      "Training (15154 / 18000 Steps) (loss=0.34099): 100%|██████████| 7/7 [00:09<00:00,  1.35s/it]\n",
      "Training (15161 / 18000 Steps) (loss=0.28381): 100%|██████████| 7/7 [00:09<00:00,  1.29s/it]\n",
      "Training (15168 / 18000 Steps) (loss=0.25476): 100%|██████████| 7/7 [00:09<00:00,  1.34s/it]\n",
      "Training (15175 / 18000 Steps) (loss=0.14118): 100%|██████████| 7/7 [00:09<00:00,  1.29s/it]\n",
      "Training (15182 / 18000 Steps) (loss=0.27281): 100%|██████████| 7/7 [00:09<00:00,  1.32s/it]\n",
      "Training (15189 / 18000 Steps) (loss=0.40651): 100%|██████████| 7/7 [00:09<00:00,  1.34s/it]\n",
      "Training (15196 / 18000 Steps) (loss=0.40470): 100%|██████████| 7/7 [00:08<00:00,  1.22s/it]\n",
      "Validate (15197 / 10 Steps): 100%|██████████| 2/2 [00:05<00:00,  2.83s/it]<00:07,  1.86s/it]\n",
      "Training (15200 / 18000 Steps) (loss=0.39931):  57%|█████▋    | 4/7 [00:13<00:10,  3.56s/it]"
     ]
    },
    {
     "name": "stdout",
     "output_type": "stream",
     "text": [
      "Model Was Not Saved ! Current Best Avg. Dice: 0.5830403566360474 Current Avg. Dice: 0.5643507838249207 Current Avg. tumor Dice: 0.5685849785804749 Current Avg. lymph Dice: 0.5601165294647217\n"
     ]
    },
    {
     "name": "stderr",
     "output_type": "stream",
     "text": [
      "Training (15203 / 18000 Steps) (loss=0.44826): 100%|██████████| 7/7 [00:14<00:00,  2.10s/it]\n",
      "Training (15210 / 18000 Steps) (loss=0.21737): 100%|██████████| 7/7 [00:09<00:00,  1.29s/it]\n",
      "Training (15217 / 18000 Steps) (loss=0.30667): 100%|██████████| 7/7 [00:09<00:00,  1.31s/it]\n",
      "Training (15224 / 18000 Steps) (loss=0.26599): 100%|██████████| 7/7 [00:08<00:00,  1.26s/it]\n",
      "Training (15231 / 18000 Steps) (loss=0.24927): 100%|██████████| 7/7 [00:09<00:00,  1.35s/it]\n",
      "Training (15238 / 18000 Steps) (loss=0.45434): 100%|██████████| 7/7 [00:10<00:00,  1.45s/it]\n",
      "Training (15245 / 18000 Steps) (loss=0.10755): 100%|██████████| 7/7 [00:09<00:00,  1.31s/it]\n",
      "Training (15252 / 18000 Steps) (loss=0.19158): 100%|██████████| 7/7 [00:09<00:00,  1.29s/it]\n",
      "Training (15259 / 18000 Steps) (loss=0.25909): 100%|██████████| 7/7 [00:09<00:00,  1.38s/it]\n",
      "Training (15266 / 18000 Steps) (loss=0.59442): 100%|██████████| 7/7 [00:09<00:00,  1.30s/it]\n",
      "Training (15273 / 18000 Steps) (loss=0.18785): 100%|██████████| 7/7 [00:09<00:00,  1.35s/it]\n",
      "Training (15280 / 18000 Steps) (loss=0.23357): 100%|██████████| 7/7 [00:08<00:00,  1.23s/it]\n",
      "Training (15287 / 18000 Steps) (loss=0.40580): 100%|██████████| 7/7 [00:08<00:00,  1.24s/it]\n",
      "Training (15294 / 18000 Steps) (loss=0.31287): 100%|██████████| 7/7 [00:09<00:00,  1.34s/it]\n",
      "Validate (15295 / 10 Steps): 100%|██████████| 2/2 [00:05<00:00,  2.84s/it]<00:01,  1.03it/s]\n",
      "Training (15300 / 18000 Steps) (loss=0.36671):  86%|████████▌ | 6/7 [00:14<00:02,  2.75s/it]"
     ]
    },
    {
     "name": "stdout",
     "output_type": "stream",
     "text": [
      "Model Was Not Saved ! Current Best Avg. Dice: 0.5830403566360474 Current Avg. Dice: 0.5541155934333801 Current Avg. tumor Dice: 0.6065458655357361 Current Avg. lymph Dice: 0.5016852617263794\n"
     ]
    },
    {
     "name": "stderr",
     "output_type": "stream",
     "text": [
      "Training (15301 / 18000 Steps) (loss=0.26757): 100%|██████████| 7/7 [00:14<00:00,  2.13s/it]\n",
      "Training (15308 / 18000 Steps) (loss=0.12565): 100%|██████████| 7/7 [00:08<00:00,  1.24s/it]\n",
      "Training (15315 / 18000 Steps) (loss=0.25442): 100%|██████████| 7/7 [00:08<00:00,  1.26s/it]\n",
      "Training (15322 / 18000 Steps) (loss=0.47563): 100%|██████████| 7/7 [00:09<00:00,  1.38s/it]\n",
      "Training (15329 / 18000 Steps) (loss=0.30696): 100%|██████████| 7/7 [00:08<00:00,  1.22s/it]\n",
      "Training (15336 / 18000 Steps) (loss=0.13378): 100%|██████████| 7/7 [00:08<00:00,  1.26s/it]\n",
      "Training (15343 / 18000 Steps) (loss=0.62689): 100%|██████████| 7/7 [00:08<00:00,  1.28s/it]\n",
      "Training (15350 / 18000 Steps) (loss=0.14737): 100%|██████████| 7/7 [00:09<00:00,  1.32s/it]\n",
      "Training (15357 / 18000 Steps) (loss=0.46792): 100%|██████████| 7/7 [00:08<00:00,  1.29s/it]\n",
      "Training (15364 / 18000 Steps) (loss=0.41698): 100%|██████████| 7/7 [00:08<00:00,  1.20s/it]\n",
      "Training (15371 / 18000 Steps) (loss=0.40147): 100%|██████████| 7/7 [00:09<00:00,  1.40s/it]\n",
      "Training (15378 / 18000 Steps) (loss=0.13419): 100%|██████████| 7/7 [00:08<00:00,  1.28s/it]\n",
      "Training (15385 / 18000 Steps) (loss=0.59875): 100%|██████████| 7/7 [00:09<00:00,  1.32s/it]\n",
      "Training (15392 / 18000 Steps) (loss=0.16818): 100%|██████████| 7/7 [00:09<00:00,  1.39s/it]\n",
      "Training (15399 / 18000 Steps) (loss=0.26259): 100%|██████████| 7/7 [00:08<00:00,  1.22s/it]\n",
      "Validate (15400 / 10 Steps): 100%|██████████| 2/2 [00:05<00:00,  2.99s/it]<?, ?it/s]\n",
      "Training (15400 / 18000 Steps) (loss=0.30900):  14%|█▍        | 1/7 [00:12<01:15, 12.50s/it]"
     ]
    },
    {
     "name": "stdout",
     "output_type": "stream",
     "text": [
      "Model Was Not Saved ! Current Best Avg. Dice: 0.5830403566360474 Current Avg. Dice: 0.5386145114898682 Current Avg. tumor Dice: 0.5921710133552551 Current Avg. lymph Dice: 0.4850580394268036\n"
     ]
    },
    {
     "name": "stderr",
     "output_type": "stream",
     "text": [
      "Training (15406 / 18000 Steps) (loss=0.25819): 100%|██████████| 7/7 [00:14<00:00,  2.13s/it]\n",
      "Training (15413 / 18000 Steps) (loss=0.35342): 100%|██████████| 7/7 [00:09<00:00,  1.31s/it]\n",
      "Training (15420 / 18000 Steps) (loss=0.49664): 100%|██████████| 7/7 [00:09<00:00,  1.39s/it]\n",
      "Training (15427 / 18000 Steps) (loss=0.32078): 100%|██████████| 7/7 [00:10<00:00,  1.47s/it]\n",
      "Training (15434 / 18000 Steps) (loss=0.46353): 100%|██████████| 7/7 [00:09<00:00,  1.39s/it]\n",
      "Training (15441 / 18000 Steps) (loss=0.27663): 100%|██████████| 7/7 [00:08<00:00,  1.26s/it]\n",
      "Training (15448 / 18000 Steps) (loss=0.24396): 100%|██████████| 7/7 [00:08<00:00,  1.19s/it]\n",
      "Training (15455 / 18000 Steps) (loss=0.57662): 100%|██████████| 7/7 [00:09<00:00,  1.29s/it]\n",
      "Training (15462 / 18000 Steps) (loss=0.24075): 100%|██████████| 7/7 [00:09<00:00,  1.39s/it]\n",
      "Training (15469 / 18000 Steps) (loss=0.28721): 100%|██████████| 7/7 [00:08<00:00,  1.26s/it]\n",
      "Training (15476 / 18000 Steps) (loss=0.53592): 100%|██████████| 7/7 [00:08<00:00,  1.21s/it]\n",
      "Training (15483 / 18000 Steps) (loss=0.38910): 100%|██████████| 7/7 [00:09<00:00,  1.36s/it]\n",
      "Training (15490 / 18000 Steps) (loss=0.27459): 100%|██████████| 7/7 [00:08<00:00,  1.22s/it]\n",
      "Training (15497 / 18000 Steps) (loss=0.53692): 100%|██████████| 7/7 [00:09<00:00,  1.30s/it]\n",
      "Validate (15498 / 10 Steps): 100%|██████████| 2/2 [00:05<00:00,  2.99s/it]<00:15,  3.00s/it]\n",
      "Training (15500 / 18000 Steps) (loss=0.39710):  43%|████▎     | 3/7 [00:13<00:18,  4.61s/it]"
     ]
    },
    {
     "name": "stdout",
     "output_type": "stream",
     "text": [
      "Model Was Not Saved ! Current Best Avg. Dice: 0.5830403566360474 Current Avg. Dice: 0.5707969665527344 Current Avg. tumor Dice: 0.606507420539856 Current Avg. lymph Dice: 0.5350866317749023\n"
     ]
    },
    {
     "name": "stderr",
     "output_type": "stream",
     "text": [
      "Training (15504 / 18000 Steps) (loss=0.32257): 100%|██████████| 7/7 [00:15<00:00,  2.14s/it]\n",
      "Training (15511 / 18000 Steps) (loss=0.26323): 100%|██████████| 7/7 [00:08<00:00,  1.27s/it]\n",
      "Training (15518 / 18000 Steps) (loss=0.32129): 100%|██████████| 7/7 [00:08<00:00,  1.22s/it]\n",
      "Training (15525 / 18000 Steps) (loss=0.12522): 100%|██████████| 7/7 [00:08<00:00,  1.22s/it]\n",
      "Training (15532 / 18000 Steps) (loss=0.38143): 100%|██████████| 7/7 [00:09<00:00,  1.33s/it]\n",
      "Training (15539 / 18000 Steps) (loss=0.38374): 100%|██████████| 7/7 [00:09<00:00,  1.32s/it]\n",
      "Training (15546 / 18000 Steps) (loss=0.30293): 100%|██████████| 7/7 [00:09<00:00,  1.35s/it]\n",
      "Training (15553 / 18000 Steps) (loss=0.29678): 100%|██████████| 7/7 [00:08<00:00,  1.23s/it]\n",
      "Training (15560 / 18000 Steps) (loss=0.59492): 100%|██████████| 7/7 [00:10<00:00,  1.52s/it]\n",
      "Training (15567 / 18000 Steps) (loss=0.31933): 100%|██████████| 7/7 [00:09<00:00,  1.41s/it]\n",
      "Training (15574 / 18000 Steps) (loss=0.20466): 100%|██████████| 7/7 [00:08<00:00,  1.20s/it]\n",
      "Training (15581 / 18000 Steps) (loss=0.45777): 100%|██████████| 7/7 [00:09<00:00,  1.38s/it]\n",
      "Training (15588 / 18000 Steps) (loss=0.38923): 100%|██████████| 7/7 [00:08<00:00,  1.24s/it]\n",
      "Training (15595 / 18000 Steps) (loss=0.25334): 100%|██████████| 7/7 [00:08<00:00,  1.26s/it]\n",
      "Validate (15596 / 10 Steps): 100%|██████████| 2/2 [00:06<00:00,  3.01s/it]<00:03,  1.21s/it]\n",
      "Training (15600 / 18000 Steps) (loss=0.43464):  71%|███████▏  | 5/7 [00:13<00:06,  3.13s/it]"
     ]
    },
    {
     "name": "stdout",
     "output_type": "stream",
     "text": [
      "Model Was Not Saved ! Current Best Avg. Dice: 0.5830403566360474 Current Avg. Dice: 0.5458232760429382 Current Avg. tumor Dice: 0.5971431732177734 Current Avg. lymph Dice: 0.49450328946113586\n"
     ]
    },
    {
     "name": "stderr",
     "output_type": "stream",
     "text": [
      "Training (15602 / 18000 Steps) (loss=0.24129): 100%|██████████| 7/7 [00:14<00:00,  2.08s/it]\n",
      "Training (15609 / 18000 Steps) (loss=0.46402): 100%|██████████| 7/7 [00:08<00:00,  1.21s/it]\n",
      "Training (15616 / 18000 Steps) (loss=0.34071): 100%|██████████| 7/7 [00:08<00:00,  1.26s/it]\n",
      "Training (15623 / 18000 Steps) (loss=0.22091): 100%|██████████| 7/7 [00:08<00:00,  1.24s/it]\n",
      "Training (15630 / 18000 Steps) (loss=0.61148): 100%|██████████| 7/7 [00:08<00:00,  1.26s/it]\n",
      "Training (15637 / 18000 Steps) (loss=0.46285): 100%|██████████| 7/7 [00:09<00:00,  1.32s/it]\n",
      "Training (15644 / 18000 Steps) (loss=0.39162): 100%|██████████| 7/7 [00:08<00:00,  1.23s/it]\n",
      "Training (15651 / 18000 Steps) (loss=0.26598): 100%|██████████| 7/7 [00:09<00:00,  1.37s/it]\n",
      "Training (15658 / 18000 Steps) (loss=0.62818): 100%|██████████| 7/7 [00:09<00:00,  1.39s/it]\n",
      "Training (15665 / 18000 Steps) (loss=0.25372): 100%|██████████| 7/7 [00:09<00:00,  1.41s/it]\n",
      "Training (15672 / 18000 Steps) (loss=0.25247): 100%|██████████| 7/7 [00:08<00:00,  1.22s/it]\n",
      "Training (15679 / 18000 Steps) (loss=0.20464): 100%|██████████| 7/7 [00:08<00:00,  1.26s/it]\n",
      "Training (15686 / 18000 Steps) (loss=0.26714): 100%|██████████| 7/7 [00:08<00:00,  1.28s/it]\n",
      "Training (15693 / 18000 Steps) (loss=0.66679): 100%|██████████| 7/7 [00:09<00:00,  1.32s/it]\n",
      "Validate (15694 / 10 Steps): 100%|██████████| 2/2 [00:05<00:00,  2.99s/it]<00:00,  1.26it/s]\n",
      "Training (15700 / 18000 Steps) (loss=0.34170): 100%|██████████| 7/7 [00:15<00:00,  2.21s/it]\n"
     ]
    },
    {
     "name": "stdout",
     "output_type": "stream",
     "text": [
      "Model Was Not Saved ! Current Best Avg. Dice: 0.5830403566360474 Current Avg. Dice: 0.5002894997596741 Current Avg. tumor Dice: 0.5877289772033691 Current Avg. lymph Dice: 0.412850022315979\n"
     ]
    },
    {
     "name": "stderr",
     "output_type": "stream",
     "text": [
      "Training (15707 / 18000 Steps) (loss=0.23193): 100%|██████████| 7/7 [00:08<00:00,  1.26s/it]\n",
      "Training (15714 / 18000 Steps) (loss=0.24856): 100%|██████████| 7/7 [00:08<00:00,  1.26s/it]\n",
      "Training (15721 / 18000 Steps) (loss=0.39974): 100%|██████████| 7/7 [00:09<00:00,  1.34s/it]\n",
      "Training (15728 / 18000 Steps) (loss=0.12944): 100%|██████████| 7/7 [00:10<00:00,  1.49s/it]\n",
      "Training (15735 / 18000 Steps) (loss=0.38904): 100%|██████████| 7/7 [00:08<00:00,  1.28s/it]\n",
      "Training (15742 / 18000 Steps) (loss=0.09338): 100%|██████████| 7/7 [00:08<00:00,  1.23s/it]\n",
      "Training (15749 / 18000 Steps) (loss=0.25276): 100%|██████████| 7/7 [00:09<00:00,  1.35s/it]\n",
      "Training (15756 / 18000 Steps) (loss=0.28635): 100%|██████████| 7/7 [00:08<00:00,  1.24s/it]\n",
      "Training (15763 / 18000 Steps) (loss=0.25889): 100%|██████████| 7/7 [00:08<00:00,  1.16s/it]\n",
      "Training (15770 / 18000 Steps) (loss=0.23238): 100%|██████████| 7/7 [00:09<00:00,  1.36s/it]\n",
      "Training (15777 / 18000 Steps) (loss=0.19325): 100%|██████████| 7/7 [00:08<00:00,  1.23s/it]\n",
      "Training (15784 / 18000 Steps) (loss=0.52991): 100%|██████████| 7/7 [00:09<00:00,  1.42s/it]\n",
      "Training (15791 / 18000 Steps) (loss=0.15709): 100%|██████████| 7/7 [00:09<00:00,  1.38s/it]\n",
      "Training (15798 / 18000 Steps) (loss=0.24378): 100%|██████████| 7/7 [00:08<00:00,  1.25s/it]\n",
      "Validate (15799 / 10 Steps): 100%|██████████| 2/2 [00:05<00:00,  2.99s/it]<00:38,  6.39s/it]\n",
      "Training (15800 / 18000 Steps) (loss=0.43137):  29%|██▊       | 2/7 [00:12<00:32,  6.46s/it]"
     ]
    },
    {
     "name": "stdout",
     "output_type": "stream",
     "text": [
      "Model Was Not Saved ! Current Best Avg. Dice: 0.5830403566360474 Current Avg. Dice: 0.513227105140686 Current Avg. tumor Dice: 0.5240716934204102 Current Avg. lymph Dice: 0.5023824572563171\n"
     ]
    },
    {
     "name": "stderr",
     "output_type": "stream",
     "text": [
      "Training (15805 / 18000 Steps) (loss=0.35604): 100%|██████████| 7/7 [00:14<00:00,  2.13s/it]\n",
      "Training (15812 / 18000 Steps) (loss=0.39466): 100%|██████████| 7/7 [00:08<00:00,  1.24s/it]\n",
      "Training (15819 / 18000 Steps) (loss=0.17858): 100%|██████████| 7/7 [00:09<00:00,  1.38s/it]\n",
      "Training (15826 / 18000 Steps) (loss=0.18695): 100%|██████████| 7/7 [00:09<00:00,  1.33s/it]\n",
      "Training (15833 / 18000 Steps) (loss=0.38936): 100%|██████████| 7/7 [00:09<00:00,  1.36s/it]\n",
      "Training (15840 / 18000 Steps) (loss=0.24508): 100%|██████████| 7/7 [00:08<00:00,  1.28s/it]\n",
      "Training (15847 / 18000 Steps) (loss=0.32135): 100%|██████████| 7/7 [00:08<00:00,  1.18s/it]\n",
      "Training (15854 / 18000 Steps) (loss=0.38648): 100%|██████████| 7/7 [00:09<00:00,  1.34s/it]\n",
      "Training (15861 / 18000 Steps) (loss=0.53318): 100%|██████████| 7/7 [00:09<00:00,  1.35s/it]\n",
      "Training (15868 / 18000 Steps) (loss=0.32899): 100%|██████████| 7/7 [00:09<00:00,  1.30s/it]\n",
      "Training (15875 / 18000 Steps) (loss=0.31897): 100%|██████████| 7/7 [00:09<00:00,  1.32s/it]\n",
      "Training (15882 / 18000 Steps) (loss=0.45716): 100%|██████████| 7/7 [00:10<00:00,  1.45s/it]\n",
      "Training (15889 / 18000 Steps) (loss=0.20017): 100%|██████████| 7/7 [00:09<00:00,  1.37s/it]\n",
      "Training (15896 / 18000 Steps) (loss=0.52836): 100%|██████████| 7/7 [00:08<00:00,  1.24s/it]\n",
      "Validate (15897 / 10 Steps): 100%|██████████| 2/2 [00:06<00:00,  3.04s/it]<00:07,  1.82s/it]\n",
      "Training (15900 / 18000 Steps) (loss=0.40195):  57%|█████▋    | 4/7 [00:13<00:11,  3.71s/it]"
     ]
    },
    {
     "name": "stdout",
     "output_type": "stream",
     "text": [
      "Model Was Not Saved ! Current Best Avg. Dice: 0.5830403566360474 Current Avg. Dice: 0.5675605535507202 Current Avg. tumor Dice: 0.5914112329483032 Current Avg. lymph Dice: 0.5437098741531372\n"
     ]
    },
    {
     "name": "stderr",
     "output_type": "stream",
     "text": [
      "Training (15903 / 18000 Steps) (loss=0.17075): 100%|██████████| 7/7 [00:15<00:00,  2.15s/it]\n",
      "Training (15910 / 18000 Steps) (loss=0.34333): 100%|██████████| 7/7 [00:08<00:00,  1.26s/it]\n",
      "Training (15917 / 18000 Steps) (loss=0.11533): 100%|██████████| 7/7 [00:07<00:00,  1.10s/it]\n",
      "Training (15924 / 18000 Steps) (loss=0.24348): 100%|██████████| 7/7 [00:09<00:00,  1.31s/it]\n",
      "Training (15931 / 18000 Steps) (loss=0.37435): 100%|██████████| 7/7 [00:09<00:00,  1.29s/it]\n",
      "Training (15938 / 18000 Steps) (loss=0.33893): 100%|██████████| 7/7 [00:08<00:00,  1.18s/it]\n",
      "Training (15945 / 18000 Steps) (loss=0.40009): 100%|██████████| 7/7 [00:08<00:00,  1.26s/it]\n",
      "Training (15952 / 18000 Steps) (loss=0.54732): 100%|██████████| 7/7 [00:09<00:00,  1.33s/it]\n",
      "Training (15959 / 18000 Steps) (loss=0.46257): 100%|██████████| 7/7 [00:09<00:00,  1.34s/it]\n",
      "Training (15966 / 18000 Steps) (loss=0.53707): 100%|██████████| 7/7 [00:09<00:00,  1.33s/it]\n",
      "Training (15973 / 18000 Steps) (loss=0.32132): 100%|██████████| 7/7 [00:09<00:00,  1.33s/it]\n",
      "Training (15980 / 18000 Steps) (loss=0.11959): 100%|██████████| 7/7 [00:09<00:00,  1.29s/it]\n",
      "Training (15987 / 18000 Steps) (loss=0.38858): 100%|██████████| 7/7 [00:08<00:00,  1.17s/it]\n",
      "Training (15994 / 18000 Steps) (loss=0.38422): 100%|██████████| 7/7 [00:09<00:00,  1.34s/it]\n",
      "Validate (15995 / 10 Steps): 100%|██████████| 2/2 [00:05<00:00,  2.98s/it]<00:01,  1.11it/s]\n",
      "Training (16000 / 18000 Steps) (loss=0.39216):  86%|████████▌ | 6/7 [00:13<00:02,  2.79s/it]"
     ]
    },
    {
     "name": "stdout",
     "output_type": "stream",
     "text": [
      "Model Was Not Saved ! Current Best Avg. Dice: 0.5830403566360474 Current Avg. Dice: 0.5448641180992126 Current Avg. tumor Dice: 0.612052321434021 Current Avg. lymph Dice: 0.4776759147644043\n"
     ]
    },
    {
     "name": "stderr",
     "output_type": "stream",
     "text": [
      "Training (16001 / 18000 Steps) (loss=0.10628): 100%|██████████| 7/7 [00:14<00:00,  2.04s/it]\n",
      "Training (16008 / 18000 Steps) (loss=0.53355): 100%|██████████| 7/7 [00:08<00:00,  1.19s/it]\n",
      "Training (16015 / 18000 Steps) (loss=0.20457): 100%|██████████| 7/7 [00:09<00:00,  1.29s/it]\n",
      "Training (16022 / 18000 Steps) (loss=0.28366): 100%|██████████| 7/7 [00:08<00:00,  1.27s/it]\n",
      "Training (16029 / 18000 Steps) (loss=0.39360): 100%|██████████| 7/7 [00:09<00:00,  1.33s/it]\n",
      "Training (16036 / 18000 Steps) (loss=0.35549): 100%|██████████| 7/7 [00:08<00:00,  1.25s/it]\n",
      "Training (16043 / 18000 Steps) (loss=0.37799): 100%|██████████| 7/7 [00:09<00:00,  1.36s/it]\n",
      "Training (16050 / 18000 Steps) (loss=0.17575): 100%|██████████| 7/7 [00:09<00:00,  1.35s/it]\n",
      "Training (16057 / 18000 Steps) (loss=0.55831): 100%|██████████| 7/7 [00:08<00:00,  1.24s/it]\n",
      "Training (16064 / 18000 Steps) (loss=0.26707): 100%|██████████| 7/7 [00:07<00:00,  1.13s/it]\n",
      "Training (16071 / 18000 Steps) (loss=0.18908): 100%|██████████| 7/7 [00:09<00:00,  1.29s/it]\n",
      "Training (16078 / 18000 Steps) (loss=0.14478): 100%|██████████| 7/7 [00:09<00:00,  1.33s/it]\n",
      "Training (16085 / 18000 Steps) (loss=0.19944): 100%|██████████| 7/7 [00:09<00:00,  1.33s/it]\n",
      "Training (16092 / 18000 Steps) (loss=0.41542): 100%|██████████| 7/7 [00:09<00:00,  1.30s/it]\n",
      "Training (16099 / 18000 Steps) (loss=0.27764): 100%|██████████| 7/7 [00:09<00:00,  1.34s/it]\n",
      "Validate (16100 / 10 Steps): 100%|██████████| 2/2 [00:06<00:00,  3.07s/it]<?, ?it/s]\n",
      "Training (16100 / 18000 Steps) (loss=0.35791):  14%|█▍        | 1/7 [00:13<01:22, 13.68s/it]"
     ]
    },
    {
     "name": "stdout",
     "output_type": "stream",
     "text": [
      "Model Was Not Saved ! Current Best Avg. Dice: 0.5830403566360474 Current Avg. Dice: 0.5015650987625122 Current Avg. tumor Dice: 0.5804265737533569 Current Avg. lymph Dice: 0.42270371317863464\n"
     ]
    },
    {
     "name": "stderr",
     "output_type": "stream",
     "text": [
      "Training (16106 / 18000 Steps) (loss=0.39006): 100%|██████████| 7/7 [00:16<00:00,  2.31s/it]\n",
      "Training (16113 / 18000 Steps) (loss=0.39073): 100%|██████████| 7/7 [00:09<00:00,  1.33s/it]\n",
      "Training (16120 / 18000 Steps) (loss=0.66708): 100%|██████████| 7/7 [00:09<00:00,  1.35s/it]\n",
      "Training (16127 / 18000 Steps) (loss=0.66699): 100%|██████████| 7/7 [00:09<00:00,  1.30s/it]\n",
      "Training (16134 / 18000 Steps) (loss=0.46997): 100%|██████████| 7/7 [00:08<00:00,  1.15s/it]\n",
      "Training (16141 / 18000 Steps) (loss=0.52910): 100%|██████████| 7/7 [00:09<00:00,  1.30s/it]\n",
      "Training (16148 / 18000 Steps) (loss=0.34100): 100%|██████████| 7/7 [00:09<00:00,  1.30s/it]\n",
      "Training (16155 / 18000 Steps) (loss=0.13785): 100%|██████████| 7/7 [00:08<00:00,  1.22s/it]\n",
      "Training (16162 / 18000 Steps) (loss=0.25853): 100%|██████████| 7/7 [00:09<00:00,  1.33s/it]\n",
      "Training (16169 / 18000 Steps) (loss=0.25678): 100%|██████████| 7/7 [00:08<00:00,  1.22s/it]\n",
      "Training (16176 / 18000 Steps) (loss=0.39517): 100%|██████████| 7/7 [00:08<00:00,  1.24s/it]\n",
      "Training (16183 / 18000 Steps) (loss=0.49022): 100%|██████████| 7/7 [00:09<00:00,  1.29s/it]\n",
      "Training (16190 / 18000 Steps) (loss=0.24976): 100%|██████████| 7/7 [00:08<00:00,  1.28s/it]\n",
      "Training (16197 / 18000 Steps) (loss=0.32667): 100%|██████████| 7/7 [00:08<00:00,  1.24s/it]\n",
      "Validate (16198 / 10 Steps): 100%|██████████| 2/2 [00:06<00:00,  3.03s/it]<00:13,  2.67s/it]\n",
      "Training (16200 / 18000 Steps) (loss=0.37681):  43%|████▎     | 3/7 [00:14<00:20,  5.03s/it]"
     ]
    },
    {
     "name": "stdout",
     "output_type": "stream",
     "text": [
      "Model Was Not Saved ! Current Best Avg. Dice: 0.5830403566360474 Current Avg. Dice: 0.5455315113067627 Current Avg. tumor Dice: 0.5907953977584839 Current Avg. lymph Dice: 0.500267505645752\n"
     ]
    },
    {
     "name": "stderr",
     "output_type": "stream",
     "text": [
      "Training (16204 / 18000 Steps) (loss=0.49187): 100%|██████████| 7/7 [00:15<00:00,  2.25s/it]\n",
      "Training (16211 / 18000 Steps) (loss=0.28015): 100%|██████████| 7/7 [00:10<00:00,  1.47s/it]\n",
      "Training (16218 / 18000 Steps) (loss=0.16065): 100%|██████████| 7/7 [00:09<00:00,  1.31s/it]\n",
      "Training (16225 / 18000 Steps) (loss=0.33590): 100%|██████████| 7/7 [00:08<00:00,  1.27s/it]\n",
      "Training (16232 / 18000 Steps) (loss=0.52159): 100%|██████████| 7/7 [00:09<00:00,  1.33s/it]\n",
      "Training (16239 / 18000 Steps) (loss=0.10878): 100%|██████████| 7/7 [00:10<00:00,  1.44s/it]\n",
      "Training (16246 / 18000 Steps) (loss=0.31673): 100%|██████████| 7/7 [00:09<00:00,  1.30s/it]\n",
      "Training (16253 / 18000 Steps) (loss=0.25338): 100%|██████████| 7/7 [00:09<00:00,  1.33s/it]\n",
      "Training (16260 / 18000 Steps) (loss=0.47121): 100%|██████████| 7/7 [00:09<00:00,  1.40s/it]\n",
      "Training (16267 / 18000 Steps) (loss=0.13581): 100%|██████████| 7/7 [00:09<00:00,  1.39s/it]\n",
      "Training (16274 / 18000 Steps) (loss=0.37849): 100%|██████████| 7/7 [00:09<00:00,  1.36s/it]\n",
      "Training (16281 / 18000 Steps) (loss=0.45682): 100%|██████████| 7/7 [00:09<00:00,  1.29s/it]\n",
      "Training (16288 / 18000 Steps) (loss=0.27950): 100%|██████████| 7/7 [00:08<00:00,  1.26s/it]\n",
      "Training (16295 / 18000 Steps) (loss=0.32694): 100%|██████████| 7/7 [00:08<00:00,  1.25s/it]\n",
      "Validate (16296 / 10 Steps): 100%|██████████| 2/2 [00:05<00:00,  2.90s/it]<00:03,  1.20s/it]\n",
      "Training (16300 / 18000 Steps) (loss=0.41235):  71%|███████▏  | 5/7 [00:13<00:06,  3.04s/it]"
     ]
    },
    {
     "name": "stdout",
     "output_type": "stream",
     "text": [
      "Model Was Not Saved ! Current Best Avg. Dice: 0.5830403566360474 Current Avg. Dice: 0.5401386618614197 Current Avg. tumor Dice: 0.5746018290519714 Current Avg. lymph Dice: 0.5056754946708679\n"
     ]
    },
    {
     "name": "stderr",
     "output_type": "stream",
     "text": [
      "Training (16302 / 18000 Steps) (loss=0.24280): 100%|██████████| 7/7 [00:14<00:00,  2.07s/it]\n",
      "Training (16309 / 18000 Steps) (loss=0.34002): 100%|██████████| 7/7 [00:08<00:00,  1.24s/it]\n",
      "Training (16316 / 18000 Steps) (loss=0.13361): 100%|██████████| 7/7 [00:08<00:00,  1.25s/it]\n",
      "Training (16323 / 18000 Steps) (loss=0.40285): 100%|██████████| 7/7 [00:09<00:00,  1.39s/it]\n",
      "Training (16330 / 18000 Steps) (loss=0.45030): 100%|██████████| 7/7 [00:08<00:00,  1.24s/it]\n",
      "Training (16337 / 18000 Steps) (loss=0.14136): 100%|██████████| 7/7 [00:09<00:00,  1.34s/it]\n",
      "Training (16344 / 18000 Steps) (loss=0.39507): 100%|██████████| 7/7 [00:09<00:00,  1.29s/it]\n",
      "Training (16351 / 18000 Steps) (loss=0.09293): 100%|██████████| 7/7 [00:09<00:00,  1.34s/it]\n",
      "Training (16358 / 18000 Steps) (loss=0.23940): 100%|██████████| 7/7 [00:09<00:00,  1.42s/it]\n",
      "Training (16365 / 18000 Steps) (loss=0.27215): 100%|██████████| 7/7 [00:08<00:00,  1.23s/it]\n",
      "Training (16372 / 18000 Steps) (loss=0.52964): 100%|██████████| 7/7 [00:08<00:00,  1.22s/it]\n",
      "Training (16379 / 18000 Steps) (loss=0.23428): 100%|██████████| 7/7 [00:09<00:00,  1.34s/it]\n",
      "Training (16386 / 18000 Steps) (loss=0.37720): 100%|██████████| 7/7 [00:09<00:00,  1.36s/it]\n",
      "Training (16393 / 18000 Steps) (loss=0.44227): 100%|██████████| 7/7 [00:09<00:00,  1.39s/it]\n",
      "Validate (16394 / 10 Steps): 100%|██████████| 2/2 [00:06<00:00,  3.05s/it]<00:00,  1.24it/s]\n",
      "Training (16400 / 18000 Steps) (loss=0.25553): 100%|██████████| 7/7 [00:15<00:00,  2.20s/it]\n"
     ]
    },
    {
     "name": "stdout",
     "output_type": "stream",
     "text": [
      "Model Was Not Saved ! Current Best Avg. Dice: 0.5830403566360474 Current Avg. Dice: 0.5220813155174255 Current Avg. tumor Dice: 0.6082942485809326 Current Avg. lymph Dice: 0.43586841225624084\n"
     ]
    },
    {
     "name": "stderr",
     "output_type": "stream",
     "text": [
      "Training (16407 / 18000 Steps) (loss=0.09567): 100%|██████████| 7/7 [00:08<00:00,  1.26s/it]\n",
      "Training (16414 / 18000 Steps) (loss=0.27707): 100%|██████████| 7/7 [00:10<00:00,  1.45s/it]\n",
      "Training (16421 / 18000 Steps) (loss=0.25788): 100%|██████████| 7/7 [00:09<00:00,  1.36s/it]\n",
      "Training (16428 / 18000 Steps) (loss=0.09055): 100%|██████████| 7/7 [00:09<00:00,  1.40s/it]\n",
      "Training (16435 / 18000 Steps) (loss=0.48688): 100%|██████████| 7/7 [00:09<00:00,  1.34s/it]\n",
      "Training (16442 / 18000 Steps) (loss=0.37811): 100%|██████████| 7/7 [00:08<00:00,  1.28s/it]\n",
      "Training (16449 / 18000 Steps) (loss=0.42078): 100%|██████████| 7/7 [00:09<00:00,  1.38s/it]\n",
      "Training (16456 / 18000 Steps) (loss=0.41623): 100%|██████████| 7/7 [00:09<00:00,  1.33s/it]\n",
      "Training (16463 / 18000 Steps) (loss=0.39022): 100%|██████████| 7/7 [00:08<00:00,  1.22s/it]\n",
      "Training (16470 / 18000 Steps) (loss=0.36132): 100%|██████████| 7/7 [00:08<00:00,  1.22s/it]\n",
      "Training (16477 / 18000 Steps) (loss=0.13087): 100%|██████████| 7/7 [00:08<00:00,  1.22s/it]\n",
      "Training (16484 / 18000 Steps) (loss=0.24114): 100%|██████████| 7/7 [00:08<00:00,  1.27s/it]\n",
      "Training (16491 / 18000 Steps) (loss=0.25841): 100%|██████████| 7/7 [00:08<00:00,  1.27s/it]\n",
      "Training (16498 / 18000 Steps) (loss=0.32621): 100%|██████████| 7/7 [00:09<00:00,  1.34s/it]\n",
      "Validate (16499 / 10 Steps): 100%|██████████| 2/2 [00:05<00:00,  2.97s/it]<00:33,  5.58s/it]\n",
      "Training (16500 / 18000 Steps) (loss=0.29189):  29%|██▊       | 2/7 [00:12<00:30,  6.11s/it]"
     ]
    },
    {
     "name": "stdout",
     "output_type": "stream",
     "text": [
      "Model Was Not Saved ! Current Best Avg. Dice: 0.5830403566360474 Current Avg. Dice: 0.5540319085121155 Current Avg. tumor Dice: 0.6178500056266785 Current Avg. lymph Dice: 0.4902137517929077\n"
     ]
    },
    {
     "name": "stderr",
     "output_type": "stream",
     "text": [
      "Training (16505 / 18000 Steps) (loss=0.51992): 100%|██████████| 7/7 [00:14<00:00,  2.01s/it]\n",
      "Training (16512 / 18000 Steps) (loss=0.25520): 100%|██████████| 7/7 [00:08<00:00,  1.28s/it]\n",
      "Training (16519 / 18000 Steps) (loss=0.24753): 100%|██████████| 7/7 [00:10<00:00,  1.46s/it]\n",
      "Training (16526 / 18000 Steps) (loss=0.45894): 100%|██████████| 7/7 [00:08<00:00,  1.23s/it]\n",
      "Training (16533 / 18000 Steps) (loss=0.23004): 100%|██████████| 7/7 [00:09<00:00,  1.42s/it]\n",
      "Training (16540 / 18000 Steps) (loss=0.33744): 100%|██████████| 7/7 [00:08<00:00,  1.22s/it]\n",
      "Training (16547 / 18000 Steps) (loss=0.42674): 100%|██████████| 7/7 [00:08<00:00,  1.24s/it]\n",
      "Training (16554 / 18000 Steps) (loss=0.52508): 100%|██████████| 7/7 [00:09<00:00,  1.35s/it]\n",
      "Training (16561 / 18000 Steps) (loss=0.10023): 100%|██████████| 7/7 [00:10<00:00,  1.43s/it]\n",
      "Training (16568 / 18000 Steps) (loss=0.40091): 100%|██████████| 7/7 [00:08<00:00,  1.20s/it]\n",
      "Training (16575 / 18000 Steps) (loss=0.25515): 100%|██████████| 7/7 [00:08<00:00,  1.27s/it]\n",
      "Training (16582 / 18000 Steps) (loss=0.23915): 100%|██████████| 7/7 [00:08<00:00,  1.26s/it]\n",
      "Training (16589 / 18000 Steps) (loss=0.17418): 100%|██████████| 7/7 [00:09<00:00,  1.43s/it]\n",
      "Training (16596 / 18000 Steps) (loss=0.31873): 100%|██████████| 7/7 [00:08<00:00,  1.23s/it]\n",
      "Validate (16597 / 10 Steps): 100%|██████████| 2/2 [00:05<00:00,  2.92s/it]<00:06,  1.69s/it]\n",
      "Training (16600 / 18000 Steps) (loss=0.11866):  57%|█████▋    | 4/7 [00:13<00:10,  3.53s/it]"
     ]
    },
    {
     "name": "stdout",
     "output_type": "stream",
     "text": [
      "Model Was Not Saved ! Current Best Avg. Dice: 0.5830403566360474 Current Avg. Dice: 0.5355207920074463 Current Avg. tumor Dice: 0.5994721055030823 Current Avg. lymph Dice: 0.4715695083141327\n"
     ]
    },
    {
     "name": "stderr",
     "output_type": "stream",
     "text": [
      "Training (16603 / 18000 Steps) (loss=0.30875): 100%|██████████| 7/7 [00:14<00:00,  2.04s/it]\n",
      "Training (16610 / 18000 Steps) (loss=0.39258): 100%|██████████| 7/7 [00:09<00:00,  1.29s/it]\n",
      "Training (16617 / 18000 Steps) (loss=0.24593): 100%|██████████| 7/7 [00:09<00:00,  1.40s/it]\n",
      "Training (16624 / 18000 Steps) (loss=0.51669): 100%|██████████| 7/7 [00:09<00:00,  1.33s/it]\n",
      "Training (16631 / 18000 Steps) (loss=0.39680): 100%|██████████| 7/7 [00:08<00:00,  1.21s/it]\n",
      "Training (16638 / 18000 Steps) (loss=0.40056): 100%|██████████| 7/7 [00:09<00:00,  1.34s/it]\n",
      "Training (16645 / 18000 Steps) (loss=0.45764): 100%|██████████| 7/7 [00:08<00:00,  1.27s/it]\n",
      "Training (16652 / 18000 Steps) (loss=0.38147): 100%|██████████| 7/7 [00:08<00:00,  1.27s/it]\n",
      "Training (16659 / 18000 Steps) (loss=0.20025): 100%|██████████| 7/7 [00:08<00:00,  1.26s/it]\n",
      "Training (16666 / 18000 Steps) (loss=0.40281): 100%|██████████| 7/7 [00:08<00:00,  1.19s/it]\n",
      "Training (16673 / 18000 Steps) (loss=0.40055): 100%|██████████| 7/7 [00:09<00:00,  1.42s/it]\n",
      "Training (16680 / 18000 Steps) (loss=0.22680): 100%|██████████| 7/7 [00:08<00:00,  1.20s/it]\n",
      "Training (16687 / 18000 Steps) (loss=0.42855): 100%|██████████| 7/7 [00:09<00:00,  1.34s/it]\n",
      "Training (16694 / 18000 Steps) (loss=0.19856): 100%|██████████| 7/7 [00:09<00:00,  1.31s/it]\n",
      "Validate (16695 / 10 Steps): 100%|██████████| 2/2 [00:05<00:00,  2.90s/it]<00:01,  1.11it/s]\n",
      "Training (16700 / 18000 Steps) (loss=0.31379):  86%|████████▌ | 6/7 [00:13<00:02,  2.73s/it]"
     ]
    },
    {
     "name": "stdout",
     "output_type": "stream",
     "text": [
      "Model Was Not Saved ! Current Best Avg. Dice: 0.5830403566360474 Current Avg. Dice: 0.5446579456329346 Current Avg. tumor Dice: 0.6127868294715881 Current Avg. lymph Dice: 0.476529061794281\n"
     ]
    },
    {
     "name": "stderr",
     "output_type": "stream",
     "text": [
      "Training (16701 / 18000 Steps) (loss=0.18436): 100%|██████████| 7/7 [00:14<00:00,  2.04s/it]\n",
      "Training (16708 / 18000 Steps) (loss=0.09209): 100%|██████████| 7/7 [00:09<00:00,  1.32s/it]\n",
      "Training (16715 / 18000 Steps) (loss=0.27165): 100%|██████████| 7/7 [00:09<00:00,  1.30s/it]\n",
      "Training (16722 / 18000 Steps) (loss=0.53165): 100%|██████████| 7/7 [00:09<00:00,  1.31s/it]\n",
      "Training (16729 / 18000 Steps) (loss=0.24666): 100%|██████████| 7/7 [00:09<00:00,  1.33s/it]\n",
      "Training (16736 / 18000 Steps) (loss=0.59550): 100%|██████████| 7/7 [00:08<00:00,  1.26s/it]\n",
      "Training (16743 / 18000 Steps) (loss=0.52701): 100%|██████████| 7/7 [00:08<00:00,  1.27s/it]\n",
      "Training (16750 / 18000 Steps) (loss=0.39090): 100%|██████████| 7/7 [00:09<00:00,  1.34s/it]\n",
      "Training (16757 / 18000 Steps) (loss=0.38741): 100%|██████████| 7/7 [00:08<00:00,  1.26s/it]\n",
      "Training (16764 / 18000 Steps) (loss=0.23124): 100%|██████████| 7/7 [00:09<00:00,  1.31s/it]\n",
      "Training (16771 / 18000 Steps) (loss=0.52666): 100%|██████████| 7/7 [00:08<00:00,  1.25s/it]\n",
      "Training (16778 / 18000 Steps) (loss=0.49003): 100%|██████████| 7/7 [00:10<00:00,  1.43s/it]\n",
      "Training (16785 / 18000 Steps) (loss=0.55778): 100%|██████████| 7/7 [00:09<00:00,  1.36s/it]\n",
      "Training (16792 / 18000 Steps) (loss=0.25691): 100%|██████████| 7/7 [00:09<00:00,  1.38s/it]\n",
      "Training (16799 / 18000 Steps) (loss=0.24291): 100%|██████████| 7/7 [00:09<00:00,  1.31s/it]\n",
      "Validate (16800 / 10 Steps): 100%|██████████| 2/2 [00:05<00:00,  2.92s/it]<?, ?it/s]\n",
      "Training (16800 / 18000 Steps) (loss=0.33733):  14%|█▍        | 1/7 [00:12<01:16, 12.70s/it]"
     ]
    },
    {
     "name": "stdout",
     "output_type": "stream",
     "text": [
      "Model Was Not Saved ! Current Best Avg. Dice: 0.5830403566360474 Current Avg. Dice: 0.5401955246925354 Current Avg. tumor Dice: 0.5901949405670166 Current Avg. lymph Dice: 0.490196168422699\n"
     ]
    },
    {
     "name": "stderr",
     "output_type": "stream",
     "text": [
      "Training (16806 / 18000 Steps) (loss=0.45190): 100%|██████████| 7/7 [00:15<00:00,  2.16s/it]\n",
      "Training (16813 / 18000 Steps) (loss=0.38778): 100%|██████████| 7/7 [00:09<00:00,  1.38s/it]\n",
      "Training (16820 / 18000 Steps) (loss=0.29573): 100%|██████████| 7/7 [00:09<00:00,  1.38s/it]\n",
      "Training (16827 / 18000 Steps) (loss=0.38413): 100%|██████████| 7/7 [00:09<00:00,  1.36s/it]\n",
      "Training (16834 / 18000 Steps) (loss=0.18917): 100%|██████████| 7/7 [00:09<00:00,  1.31s/it]\n",
      "Training (16841 / 18000 Steps) (loss=0.24720): 100%|██████████| 7/7 [00:09<00:00,  1.42s/it]\n",
      "Training (16848 / 18000 Steps) (loss=0.30887): 100%|██████████| 7/7 [00:08<00:00,  1.17s/it]\n",
      "Training (16855 / 18000 Steps) (loss=0.52756): 100%|██████████| 7/7 [00:08<00:00,  1.24s/it]\n",
      "Training (16862 / 18000 Steps) (loss=0.25498): 100%|██████████| 7/7 [00:08<00:00,  1.27s/it]\n",
      "Training (16869 / 18000 Steps) (loss=0.54849): 100%|██████████| 7/7 [00:09<00:00,  1.35s/it]\n",
      "Training (16876 / 18000 Steps) (loss=0.11107): 100%|██████████| 7/7 [00:08<00:00,  1.26s/it]\n",
      "Training (16883 / 18000 Steps) (loss=0.22888): 100%|██████████| 7/7 [00:08<00:00,  1.22s/it]\n",
      "Training (16890 / 18000 Steps) (loss=0.31002): 100%|██████████| 7/7 [00:09<00:00,  1.37s/it]\n",
      "Training (16897 / 18000 Steps) (loss=0.44830): 100%|██████████| 7/7 [00:10<00:00,  1.47s/it]\n",
      "Validate (16898 / 10 Steps): 100%|██████████| 2/2 [00:05<00:00,  2.98s/it]<00:15,  3.10s/it]\n",
      "Training (16900 / 18000 Steps) (loss=0.29549):  43%|████▎     | 3/7 [00:13<00:18,  4.63s/it]"
     ]
    },
    {
     "name": "stdout",
     "output_type": "stream",
     "text": [
      "Model Was Not Saved ! Current Best Avg. Dice: 0.5830403566360474 Current Avg. Dice: 0.5212073922157288 Current Avg. tumor Dice: 0.5660595893859863 Current Avg. lymph Dice: 0.4763551652431488\n"
     ]
    },
    {
     "name": "stderr",
     "output_type": "stream",
     "text": [
      "Training (16904 / 18000 Steps) (loss=0.37811): 100%|██████████| 7/7 [00:15<00:00,  2.17s/it]\n",
      "Training (16911 / 18000 Steps) (loss=0.46505): 100%|██████████| 7/7 [00:09<00:00,  1.39s/it]\n",
      "Training (16918 / 18000 Steps) (loss=0.40415): 100%|██████████| 7/7 [00:09<00:00,  1.30s/it]\n",
      "Training (16925 / 18000 Steps) (loss=0.33117): 100%|██████████| 7/7 [00:08<00:00,  1.19s/it]\n",
      "Training (16932 / 18000 Steps) (loss=0.24737): 100%|██████████| 7/7 [00:08<00:00,  1.28s/it]\n",
      "Training (16939 / 18000 Steps) (loss=0.45026): 100%|██████████| 7/7 [00:09<00:00,  1.34s/it]\n",
      "Training (16946 / 18000 Steps) (loss=0.10558): 100%|██████████| 7/7 [00:09<00:00,  1.39s/it]\n",
      "Training (16953 / 18000 Steps) (loss=0.52081): 100%|██████████| 7/7 [00:09<00:00,  1.32s/it]\n",
      "Training (16960 / 18000 Steps) (loss=0.52265): 100%|██████████| 7/7 [00:08<00:00,  1.26s/it]\n",
      "Training (16967 / 18000 Steps) (loss=0.52641): 100%|██████████| 7/7 [00:08<00:00,  1.28s/it]\n",
      "Training (16974 / 18000 Steps) (loss=0.38338): 100%|██████████| 7/7 [00:09<00:00,  1.35s/it]\n",
      "Training (16981 / 18000 Steps) (loss=0.39203): 100%|██████████| 7/7 [00:09<00:00,  1.35s/it]\n",
      "Training (16988 / 18000 Steps) (loss=0.38907): 100%|██████████| 7/7 [00:08<00:00,  1.20s/it]\n",
      "Training (16995 / 18000 Steps) (loss=0.16885): 100%|██████████| 7/7 [00:08<00:00,  1.24s/it]\n",
      "Validate (16996 / 10 Steps): 100%|██████████| 2/2 [00:05<00:00,  2.94s/it]<00:03,  1.17s/it]\n",
      "Training (17000 / 18000 Steps) (loss=0.29103):  71%|███████▏  | 5/7 [00:13<00:06,  3.05s/it]"
     ]
    },
    {
     "name": "stdout",
     "output_type": "stream",
     "text": [
      "Model Was Not Saved ! Current Best Avg. Dice: 0.5830403566360474 Current Avg. Dice: 0.5526914596557617 Current Avg. tumor Dice: 0.6442601084709167 Current Avg. lymph Dice: 0.4611227512359619\n"
     ]
    },
    {
     "name": "stderr",
     "output_type": "stream",
     "text": [
      "Training (17002 / 18000 Steps) (loss=0.26278): 100%|██████████| 7/7 [00:14<00:00,  2.05s/it]\n",
      "Training (17009 / 18000 Steps) (loss=0.46818): 100%|██████████| 7/7 [00:08<00:00,  1.27s/it]\n",
      "Training (17016 / 18000 Steps) (loss=0.17277): 100%|██████████| 7/7 [00:09<00:00,  1.39s/it]\n",
      "Training (17023 / 18000 Steps) (loss=0.25069): 100%|██████████| 7/7 [00:09<00:00,  1.38s/it]\n",
      "Training (17030 / 18000 Steps) (loss=0.12261): 100%|██████████| 7/7 [00:09<00:00,  1.32s/it]\n",
      "Training (17037 / 18000 Steps) (loss=0.53096): 100%|██████████| 7/7 [00:09<00:00,  1.40s/it]\n",
      "Training (17044 / 18000 Steps) (loss=0.27882): 100%|██████████| 7/7 [00:09<00:00,  1.40s/it]\n",
      "Training (17051 / 18000 Steps) (loss=0.25241): 100%|██████████| 7/7 [00:09<00:00,  1.31s/it]\n",
      "Training (17058 / 18000 Steps) (loss=0.32419): 100%|██████████| 7/7 [00:09<00:00,  1.41s/it]\n",
      "Training (17065 / 18000 Steps) (loss=0.46381): 100%|██████████| 7/7 [00:08<00:00,  1.25s/it]\n",
      "Training (17072 / 18000 Steps) (loss=0.53557): 100%|██████████| 7/7 [00:09<00:00,  1.34s/it]\n",
      "Training (17079 / 18000 Steps) (loss=0.32900): 100%|██████████| 7/7 [00:09<00:00,  1.33s/it]\n",
      "Training (17086 / 18000 Steps) (loss=0.24697): 100%|██████████| 7/7 [00:09<00:00,  1.33s/it]\n",
      "Training (17093 / 18000 Steps) (loss=0.23909): 100%|██████████| 7/7 [00:08<00:00,  1.19s/it]\n",
      "Validate (17094 / 10 Steps): 100%|██████████| 2/2 [00:06<00:00,  3.16s/it]<00:00,  1.22it/s]\n",
      "Training (17100 / 18000 Steps) (loss=0.53003): 100%|██████████| 7/7 [00:15<00:00,  2.26s/it]\n"
     ]
    },
    {
     "name": "stdout",
     "output_type": "stream",
     "text": [
      "Model Was Not Saved ! Current Best Avg. Dice: 0.5830403566360474 Current Avg. Dice: 0.5791100859642029 Current Avg. tumor Dice: 0.6395097970962524 Current Avg. lymph Dice: 0.5187103748321533\n"
     ]
    },
    {
     "name": "stderr",
     "output_type": "stream",
     "text": [
      "Training (17107 / 18000 Steps) (loss=0.24685): 100%|██████████| 7/7 [00:09<00:00,  1.33s/it]\n",
      "Training (17114 / 18000 Steps) (loss=0.08649): 100%|██████████| 7/7 [00:09<00:00,  1.32s/it]\n",
      "Training (17121 / 18000 Steps) (loss=0.39320): 100%|██████████| 7/7 [00:09<00:00,  1.43s/it]\n",
      "Training (17128 / 18000 Steps) (loss=0.33345): 100%|██████████| 7/7 [00:09<00:00,  1.33s/it]\n",
      "Training (17135 / 18000 Steps) (loss=0.25812): 100%|██████████| 7/7 [00:08<00:00,  1.23s/it]\n",
      "Training (17142 / 18000 Steps) (loss=0.16866): 100%|██████████| 7/7 [00:09<00:00,  1.31s/it]\n",
      "Training (17149 / 18000 Steps) (loss=0.29496): 100%|██████████| 7/7 [00:08<00:00,  1.25s/it]\n",
      "Training (17156 / 18000 Steps) (loss=0.24272): 100%|██████████| 7/7 [00:09<00:00,  1.33s/it]\n",
      "Training (17163 / 18000 Steps) (loss=0.23213): 100%|██████████| 7/7 [00:08<00:00,  1.25s/it]\n",
      "Training (17170 / 18000 Steps) (loss=0.25490): 100%|██████████| 7/7 [00:09<00:00,  1.32s/it]\n",
      "Training (17177 / 18000 Steps) (loss=0.10826): 100%|██████████| 7/7 [00:09<00:00,  1.34s/it]\n",
      "Training (17184 / 18000 Steps) (loss=0.22351): 100%|██████████| 7/7 [00:09<00:00,  1.35s/it]\n",
      "Training (17191 / 18000 Steps) (loss=0.38684): 100%|██████████| 7/7 [00:09<00:00,  1.33s/it]\n",
      "Training (17198 / 18000 Steps) (loss=0.44376): 100%|██████████| 7/7 [00:10<00:00,  1.45s/it]\n",
      "Validate (17199 / 10 Steps): 100%|██████████| 2/2 [00:05<00:00,  2.99s/it]<00:41,  6.98s/it]\n",
      "Training (17200 / 18000 Steps) (loss=0.31972):  29%|██▊       | 2/7 [00:13<00:33,  6.70s/it]"
     ]
    },
    {
     "name": "stdout",
     "output_type": "stream",
     "text": [
      "Model Was Not Saved ! Current Best Avg. Dice: 0.5830403566360474 Current Avg. Dice: 0.5598978996276855 Current Avg. tumor Dice: 0.6055716276168823 Current Avg. lymph Dice: 0.5142241716384888\n"
     ]
    },
    {
     "name": "stderr",
     "output_type": "stream",
     "text": [
      "Training (17205 / 18000 Steps) (loss=0.26630): 100%|██████████| 7/7 [00:15<00:00,  2.22s/it]\n",
      "Training (17212 / 18000 Steps) (loss=0.32671): 100%|██████████| 7/7 [00:09<00:00,  1.40s/it]\n",
      "Training (17219 / 18000 Steps) (loss=0.48885): 100%|██████████| 7/7 [00:09<00:00,  1.36s/it]\n",
      "Training (17226 / 18000 Steps) (loss=0.17763): 100%|██████████| 7/7 [00:08<00:00,  1.24s/it]\n",
      "Training (17233 / 18000 Steps) (loss=0.52568): 100%|██████████| 7/7 [00:09<00:00,  1.31s/it]\n",
      "Training (17240 / 18000 Steps) (loss=0.30199): 100%|██████████| 7/7 [00:08<00:00,  1.23s/it]\n",
      "Training (17247 / 18000 Steps) (loss=0.34025): 100%|██████████| 7/7 [00:09<00:00,  1.31s/it]\n",
      "Training (17254 / 18000 Steps) (loss=0.44575): 100%|██████████| 7/7 [00:10<00:00,  1.44s/it]\n",
      "Training (17261 / 18000 Steps) (loss=0.13640): 100%|██████████| 7/7 [00:09<00:00,  1.42s/it]\n",
      "Training (17268 / 18000 Steps) (loss=0.36226): 100%|██████████| 7/7 [00:10<00:00,  1.43s/it]\n",
      "Training (17275 / 18000 Steps) (loss=0.10930): 100%|██████████| 7/7 [00:10<00:00,  1.48s/it]\n",
      "Training (17282 / 18000 Steps) (loss=0.37822): 100%|██████████| 7/7 [00:09<00:00,  1.35s/it]\n",
      "Training (17289 / 18000 Steps) (loss=0.10596): 100%|██████████| 7/7 [00:08<00:00,  1.25s/it]\n",
      "Training (17296 / 18000 Steps) (loss=0.24277): 100%|██████████| 7/7 [00:08<00:00,  1.26s/it]\n",
      "Validate (17297 / 10 Steps): 100%|██████████| 2/2 [00:05<00:00,  2.93s/it]<00:07,  1.75s/it]\n",
      "Training (17300 / 18000 Steps) (loss=0.17725):  57%|█████▋    | 4/7 [00:13<00:10,  3.57s/it]"
     ]
    },
    {
     "name": "stdout",
     "output_type": "stream",
     "text": [
      "Model Was Not Saved ! Current Best Avg. Dice: 0.5830403566360474 Current Avg. Dice: 0.5523700714111328 Current Avg. tumor Dice: 0.6162372827529907 Current Avg. lymph Dice: 0.4885028302669525\n"
     ]
    },
    {
     "name": "stderr",
     "output_type": "stream",
     "text": [
      "Training (17303 / 18000 Steps) (loss=0.48182): 100%|██████████| 7/7 [00:14<00:00,  2.04s/it]\n",
      "Training (17310 / 18000 Steps) (loss=0.40767): 100%|██████████| 7/7 [00:08<00:00,  1.15s/it]\n",
      "Training (17317 / 18000 Steps) (loss=0.09473): 100%|██████████| 7/7 [00:09<00:00,  1.37s/it]\n",
      "Training (17324 / 18000 Steps) (loss=0.48648): 100%|██████████| 7/7 [00:09<00:00,  1.33s/it]\n",
      "Training (17331 / 18000 Steps) (loss=0.25253): 100%|██████████| 7/7 [00:09<00:00,  1.34s/it]\n",
      "Training (17338 / 18000 Steps) (loss=0.52236): 100%|██████████| 7/7 [00:08<00:00,  1.17s/it]\n",
      "Training (17345 / 18000 Steps) (loss=0.26573): 100%|██████████| 7/7 [00:09<00:00,  1.39s/it]\n",
      "Training (17352 / 18000 Steps) (loss=0.38379): 100%|██████████| 7/7 [00:09<00:00,  1.37s/it]\n",
      "Training (17359 / 18000 Steps) (loss=0.10235): 100%|██████████| 7/7 [00:09<00:00,  1.41s/it]\n",
      "Training (17366 / 18000 Steps) (loss=0.25969): 100%|██████████| 7/7 [00:09<00:00,  1.31s/it]\n",
      "Training (17373 / 18000 Steps) (loss=0.13679): 100%|██████████| 7/7 [00:09<00:00,  1.42s/it]\n",
      "Training (17380 / 18000 Steps) (loss=0.24687): 100%|██████████| 7/7 [00:09<00:00,  1.30s/it]\n",
      "Training (17387 / 18000 Steps) (loss=0.26313): 100%|██████████| 7/7 [00:08<00:00,  1.20s/it]\n",
      "Training (17394 / 18000 Steps) (loss=0.59511): 100%|██████████| 7/7 [00:09<00:00,  1.33s/it]\n",
      "Validate (17395 / 10 Steps): 100%|██████████| 2/2 [00:05<00:00,  2.90s/it]<00:01,  1.01it/s]\n",
      "Training (17400 / 18000 Steps) (loss=0.39268):  86%|████████▌ | 6/7 [00:15<00:02,  2.80s/it]"
     ]
    },
    {
     "name": "stdout",
     "output_type": "stream",
     "text": [
      "Model Was Not Saved ! Current Best Avg. Dice: 0.5830403566360474 Current Avg. Dice: 0.548293948173523 Current Avg. tumor Dice: 0.631147027015686 Current Avg. lymph Dice: 0.46544089913368225\n"
     ]
    },
    {
     "name": "stderr",
     "output_type": "stream",
     "text": [
      "Training (17401 / 18000 Steps) (loss=0.25626): 100%|██████████| 7/7 [00:15<00:00,  2.19s/it]\n",
      "Training (17408 / 18000 Steps) (loss=0.40109): 100%|██████████| 7/7 [00:09<00:00,  1.33s/it]\n",
      "Training (17415 / 18000 Steps) (loss=0.36777): 100%|██████████| 7/7 [00:09<00:00,  1.30s/it]\n",
      "Training (17422 / 18000 Steps) (loss=0.52519): 100%|██████████| 7/7 [00:08<00:00,  1.22s/it]\n",
      "Training (17429 / 18000 Steps) (loss=0.25347): 100%|██████████| 7/7 [00:08<00:00,  1.26s/it]\n",
      "Training (17436 / 18000 Steps) (loss=0.24453): 100%|██████████| 7/7 [00:09<00:00,  1.38s/it]\n",
      "Training (17443 / 18000 Steps) (loss=0.21856): 100%|██████████| 7/7 [00:09<00:00,  1.42s/it]\n",
      "Training (17450 / 18000 Steps) (loss=0.09401): 100%|██████████| 7/7 [00:09<00:00,  1.29s/it]\n",
      "Training (17457 / 18000 Steps) (loss=0.24113): 100%|██████████| 7/7 [00:08<00:00,  1.24s/it]\n",
      "Training (17464 / 18000 Steps) (loss=0.32047): 100%|██████████| 7/7 [00:09<00:00,  1.37s/it]\n",
      "Training (17471 / 18000 Steps) (loss=0.22068): 100%|██████████| 7/7 [00:08<00:00,  1.26s/it]\n",
      "Training (17478 / 18000 Steps) (loss=0.33849): 100%|██████████| 7/7 [00:08<00:00,  1.25s/it]\n",
      "Training (17485 / 18000 Steps) (loss=0.10332): 100%|██████████| 7/7 [00:08<00:00,  1.22s/it]\n",
      "Training (17492 / 18000 Steps) (loss=0.54285): 100%|██████████| 7/7 [00:08<00:00,  1.22s/it]\n",
      "Training (17499 / 18000 Steps) (loss=0.31858): 100%|██████████| 7/7 [00:09<00:00,  1.38s/it]\n",
      "Validate (17500 / 10 Steps): 100%|██████████| 2/2 [00:05<00:00,  2.94s/it]<?, ?it/s]\n",
      "Training (17500 / 18000 Steps) (loss=0.43479):  14%|█▍        | 1/7 [00:13<01:23, 13.84s/it]"
     ]
    },
    {
     "name": "stdout",
     "output_type": "stream",
     "text": [
      "Model Was Not Saved ! Current Best Avg. Dice: 0.5830403566360474 Current Avg. Dice: 0.5219241380691528 Current Avg. tumor Dice: 0.6016308069229126 Current Avg. lymph Dice: 0.4422174394130707\n"
     ]
    },
    {
     "name": "stderr",
     "output_type": "stream",
     "text": [
      "Training (17506 / 18000 Steps) (loss=0.16694): 100%|██████████| 7/7 [00:16<00:00,  2.33s/it]\n",
      "Training (17513 / 18000 Steps) (loss=0.38006): 100%|██████████| 7/7 [00:10<00:00,  1.44s/it]\n",
      "Training (17520 / 18000 Steps) (loss=0.38815): 100%|██████████| 7/7 [00:09<00:00,  1.34s/it]\n",
      "Training (17527 / 18000 Steps) (loss=0.24115): 100%|██████████| 7/7 [00:09<00:00,  1.30s/it]\n",
      "Training (17534 / 18000 Steps) (loss=0.32973): 100%|██████████| 7/7 [00:08<00:00,  1.28s/it]\n",
      "Training (17541 / 18000 Steps) (loss=0.25631): 100%|██████████| 7/7 [00:10<00:00,  1.44s/it]\n",
      "Training (17548 / 18000 Steps) (loss=0.24343): 100%|██████████| 7/7 [00:09<00:00,  1.34s/it]\n",
      "Training (17555 / 18000 Steps) (loss=0.39986): 100%|██████████| 7/7 [00:09<00:00,  1.39s/it]\n",
      "Training (17562 / 18000 Steps) (loss=0.34381): 100%|██████████| 7/7 [00:09<00:00,  1.37s/it]\n",
      "Training (17569 / 18000 Steps) (loss=0.37428): 100%|██████████| 7/7 [00:09<00:00,  1.35s/it]\n",
      "Training (17576 / 18000 Steps) (loss=0.21130): 100%|██████████| 7/7 [00:09<00:00,  1.31s/it]\n",
      "Training (17583 / 18000 Steps) (loss=0.31929): 100%|██████████| 7/7 [00:09<00:00,  1.37s/it]\n",
      "Training (17590 / 18000 Steps) (loss=0.14829): 100%|██████████| 7/7 [00:08<00:00,  1.25s/it]\n",
      "Training (17597 / 18000 Steps) (loss=0.28331): 100%|██████████| 7/7 [00:08<00:00,  1.28s/it]\n",
      "Validate (17598 / 10 Steps): 100%|██████████| 2/2 [00:05<00:00,  2.93s/it]<00:16,  3.25s/it]\n",
      "Training (17600 / 18000 Steps) (loss=0.28979):  43%|████▎     | 3/7 [00:13<00:18,  4.67s/it]"
     ]
    },
    {
     "name": "stdout",
     "output_type": "stream",
     "text": [
      "Model Was Not Saved ! Current Best Avg. Dice: 0.5830403566360474 Current Avg. Dice: 0.5475906133651733 Current Avg. tumor Dice: 0.6113594174385071 Current Avg. lymph Dice: 0.48382171988487244\n"
     ]
    },
    {
     "name": "stderr",
     "output_type": "stream",
     "text": [
      "Training (17604 / 18000 Steps) (loss=0.31804): 100%|██████████| 7/7 [00:15<00:00,  2.16s/it]\n",
      "Training (17611 / 18000 Steps) (loss=0.27229): 100%|██████████| 7/7 [00:09<00:00,  1.38s/it]\n",
      "Training (17618 / 18000 Steps) (loss=0.26684): 100%|██████████| 7/7 [00:10<00:00,  1.44s/it]\n",
      "Training (17625 / 18000 Steps) (loss=0.16803): 100%|██████████| 7/7 [00:09<00:00,  1.34s/it]\n",
      "Training (17632 / 18000 Steps) (loss=0.17766): 100%|██████████| 7/7 [00:08<00:00,  1.22s/it]\n",
      "Training (17639 / 18000 Steps) (loss=0.13444): 100%|██████████| 7/7 [00:09<00:00,  1.29s/it]\n",
      "Training (17646 / 18000 Steps) (loss=0.24496): 100%|██████████| 7/7 [00:09<00:00,  1.39s/it]\n",
      "Training (17653 / 18000 Steps) (loss=0.47016): 100%|██████████| 7/7 [00:09<00:00,  1.29s/it]\n",
      "Training (17660 / 18000 Steps) (loss=0.36547): 100%|██████████| 7/7 [00:08<00:00,  1.27s/it]\n",
      "Training (17667 / 18000 Steps) (loss=0.49694): 100%|██████████| 7/7 [00:09<00:00,  1.36s/it]\n",
      "Training (17674 / 18000 Steps) (loss=0.24979): 100%|██████████| 7/7 [00:08<00:00,  1.27s/it]\n",
      "Training (17681 / 18000 Steps) (loss=0.47888): 100%|██████████| 7/7 [00:10<00:00,  1.43s/it]\n",
      "Training (17688 / 18000 Steps) (loss=0.31044): 100%|██████████| 7/7 [00:09<00:00,  1.33s/it]\n",
      "Training (17695 / 18000 Steps) (loss=0.45966): 100%|██████████| 7/7 [00:09<00:00,  1.39s/it]\n",
      "Validate (17696 / 10 Steps): 100%|██████████| 2/2 [00:05<00:00,  2.91s/it]<00:04,  1.49s/it]\n",
      "Training (17700 / 18000 Steps) (loss=0.33305):  71%|███████▏  | 5/7 [00:15<00:06,  3.23s/it]"
     ]
    },
    {
     "name": "stdout",
     "output_type": "stream",
     "text": [
      "Model Was Not Saved ! Current Best Avg. Dice: 0.5830403566360474 Current Avg. Dice: 0.5498957633972168 Current Avg. tumor Dice: 0.6001068949699402 Current Avg. lymph Dice: 0.4996846914291382\n"
     ]
    },
    {
     "name": "stderr",
     "output_type": "stream",
     "text": [
      "Training (17702 / 18000 Steps) (loss=0.29695): 100%|██████████| 7/7 [00:15<00:00,  2.27s/it]\n",
      "Training (17709 / 18000 Steps) (loss=0.20468): 100%|██████████| 7/7 [00:09<00:00,  1.40s/it]\n",
      "Training (17716 / 18000 Steps) (loss=0.31871): 100%|██████████| 7/7 [00:09<00:00,  1.31s/it]\n",
      "Training (17723 / 18000 Steps) (loss=0.29746): 100%|██████████| 7/7 [00:08<00:00,  1.25s/it]\n",
      "Training (17730 / 18000 Steps) (loss=0.25148): 100%|██████████| 7/7 [00:08<00:00,  1.21s/it]\n",
      "Training (17737 / 18000 Steps) (loss=0.24624): 100%|██████████| 7/7 [00:08<00:00,  1.24s/it]\n",
      "Training (17744 / 18000 Steps) (loss=0.24199): 100%|██████████| 7/7 [00:08<00:00,  1.20s/it]\n",
      "Training (17751 / 18000 Steps) (loss=0.23043): 100%|██████████| 7/7 [00:09<00:00,  1.34s/it]\n",
      "Training (17758 / 18000 Steps) (loss=0.28792): 100%|██████████| 7/7 [00:10<00:00,  1.43s/it]\n",
      "Training (17765 / 18000 Steps) (loss=0.22179): 100%|██████████| 7/7 [00:09<00:00,  1.35s/it]\n",
      "Training (17772 / 18000 Steps) (loss=0.14296): 100%|██████████| 7/7 [00:08<00:00,  1.25s/it]\n",
      "Training (17779 / 18000 Steps) (loss=0.32211): 100%|██████████| 7/7 [00:09<00:00,  1.35s/it]\n",
      "Training (17786 / 18000 Steps) (loss=0.35657): 100%|██████████| 7/7 [00:08<00:00,  1.24s/it]\n",
      "Training (17793 / 18000 Steps) (loss=0.22961): 100%|██████████| 7/7 [00:09<00:00,  1.37s/it]\n",
      "Validate (17794 / 10 Steps): 100%|██████████| 2/2 [00:05<00:00,  2.93s/it]<00:00,  1.16it/s]\n",
      "Training (17800 / 18000 Steps) (loss=0.33960): 100%|██████████| 7/7 [00:15<00:00,  2.19s/it]\n"
     ]
    },
    {
     "name": "stdout",
     "output_type": "stream",
     "text": [
      "Model Was Not Saved ! Current Best Avg. Dice: 0.5830403566360474 Current Avg. Dice: 0.5455410480499268 Current Avg. tumor Dice: 0.5773685574531555 Current Avg. lymph Dice: 0.5137135982513428\n"
     ]
    },
    {
     "name": "stderr",
     "output_type": "stream",
     "text": [
      "Training (17807 / 18000 Steps) (loss=0.09188): 100%|██████████| 7/7 [00:09<00:00,  1.32s/it]\n",
      "Training (17814 / 18000 Steps) (loss=0.22788): 100%|██████████| 7/7 [00:09<00:00,  1.39s/it]\n",
      "Training (17821 / 18000 Steps) (loss=0.52923): 100%|██████████| 7/7 [00:09<00:00,  1.29s/it]\n",
      "Training (17828 / 18000 Steps) (loss=0.28068): 100%|██████████| 7/7 [00:09<00:00,  1.41s/it]\n",
      "Training (17835 / 18000 Steps) (loss=0.45013): 100%|██████████| 7/7 [00:08<00:00,  1.24s/it]\n",
      "Training (17842 / 18000 Steps) (loss=0.53343): 100%|██████████| 7/7 [00:09<00:00,  1.42s/it]\n",
      "Training (17849 / 18000 Steps) (loss=0.45437): 100%|██████████| 7/7 [00:09<00:00,  1.42s/it]\n",
      "Training (17856 / 18000 Steps) (loss=0.52547): 100%|██████████| 7/7 [00:09<00:00,  1.38s/it]\n",
      "Training (17863 / 18000 Steps) (loss=0.12611): 100%|██████████| 7/7 [00:08<00:00,  1.22s/it]\n",
      "Training (17870 / 18000 Steps) (loss=0.66698): 100%|██████████| 7/7 [00:09<00:00,  1.39s/it]\n",
      "Training (17877 / 18000 Steps) (loss=0.41106): 100%|██████████| 7/7 [00:09<00:00,  1.35s/it]\n",
      "Training (17884 / 18000 Steps) (loss=0.23603): 100%|██████████| 7/7 [00:08<00:00,  1.25s/it]\n",
      "Training (17891 / 18000 Steps) (loss=0.52361): 100%|██████████| 7/7 [00:09<00:00,  1.33s/it]\n",
      "Training (17898 / 18000 Steps) (loss=0.18604): 100%|██████████| 7/7 [00:09<00:00,  1.32s/it]\n",
      "Validate (17899 / 10 Steps): 100%|██████████| 2/2 [00:06<00:00,  3.10s/it]<00:39,  6.52s/it]\n",
      "Training (17900 / 18000 Steps) (loss=0.43256):  29%|██▊       | 2/7 [00:13<00:33,  6.64s/it]"
     ]
    },
    {
     "name": "stdout",
     "output_type": "stream",
     "text": [
      "Model Was Not Saved ! Current Best Avg. Dice: 0.5830403566360474 Current Avg. Dice: 0.5248213410377502 Current Avg. tumor Dice: 0.5976052284240723 Current Avg. lymph Dice: 0.452037513256073\n"
     ]
    },
    {
     "name": "stderr",
     "output_type": "stream",
     "text": [
      "Training (17905 / 18000 Steps) (loss=0.37619): 100%|██████████| 7/7 [00:15<00:00,  2.18s/it]\n",
      "Training (17912 / 18000 Steps) (loss=0.45390): 100%|██████████| 7/7 [00:09<00:00,  1.37s/it]\n",
      "Training (17919 / 18000 Steps) (loss=0.53142): 100%|██████████| 7/7 [00:09<00:00,  1.29s/it]\n",
      "Training (17926 / 18000 Steps) (loss=0.10778): 100%|██████████| 7/7 [00:08<00:00,  1.24s/it]\n",
      "Training (17933 / 18000 Steps) (loss=0.23695): 100%|██████████| 7/7 [00:09<00:00,  1.37s/it]\n",
      "Training (17940 / 18000 Steps) (loss=0.53107): 100%|██████████| 7/7 [00:09<00:00,  1.31s/it]\n",
      "Training (17947 / 18000 Steps) (loss=0.38337): 100%|██████████| 7/7 [00:09<00:00,  1.30s/it]\n",
      "Training (17954 / 18000 Steps) (loss=0.52725): 100%|██████████| 7/7 [00:08<00:00,  1.18s/it]\n",
      "Training (17961 / 18000 Steps) (loss=0.37682): 100%|██████████| 7/7 [00:09<00:00,  1.37s/it]\n",
      "Training (17968 / 18000 Steps) (loss=0.52562): 100%|██████████| 7/7 [00:10<00:00,  1.45s/it]\n",
      "Training (17975 / 18000 Steps) (loss=0.32991): 100%|██████████| 7/7 [00:09<00:00,  1.30s/it]\n",
      "Training (17982 / 18000 Steps) (loss=0.24694): 100%|██████████| 7/7 [00:09<00:00,  1.32s/it]\n",
      "Training (17989 / 18000 Steps) (loss=0.25395): 100%|██████████| 7/7 [00:08<00:00,  1.28s/it]\n",
      "Training (17996 / 18000 Steps) (loss=0.35959): 100%|██████████| 7/7 [00:09<00:00,  1.37s/it]\n",
      "Validate (17997 / 10 Steps): 100%|██████████| 2/2 [00:05<00:00,  2.99s/it]<00:07,  1.95s/it]\n",
      "Training (18000 / 18000 Steps) (loss=0.30452):  57%|█████▋    | 4/7 [00:14<00:11,  3.74s/it]"
     ]
    },
    {
     "name": "stdout",
     "output_type": "stream",
     "text": [
      "Model Was Not Saved ! Current Best Avg. Dice: 0.5830403566360474 Current Avg. Dice: 0.5423608422279358 Current Avg. tumor Dice: 0.6069741249084473 Current Avg. lymph Dice: 0.47774752974510193\n"
     ]
    },
    {
     "name": "stderr",
     "output_type": "stream",
     "text": [
      "Training (18003 / 18000 Steps) (loss=0.31366): 100%|██████████| 7/7 [00:15<00:00,  2.25s/it]\n"
     ]
    }
   ],
   "source": [
    "model_dir = '/home/nada.saadi/CTPET/hecktor2022_cropped/7thctptchannels'\n",
    "def validation(epoch_iterator_val):\n",
    "        model.eval()\n",
    "        with torch.no_grad():\n",
    "            for step, batch in enumerate(epoch_iterator_val):\n",
    "                val_inputs, val_labels = (batch[\"ctpt\"].cuda(), batch[\"seg\"].cuda())\n",
    "                val_outputs = sliding_window_inference(val_inputs, (96, 96, 96), 4, model)\n",
    "                val_labels_list = decollate_batch(val_labels)\n",
    "                val_labels_convert = [\n",
    "                    post_label(val_label_tensor) for val_label_tensor in val_labels_list\n",
    "                ]\n",
    "                val_outputs_list = decollate_batch(val_outputs)\n",
    "                val_output_convert = [\n",
    "                    post_pred(val_pred_tensor) for val_pred_tensor in val_outputs_list\n",
    "                ]\n",
    "                dice_metric(y_pred=val_output_convert, y=val_labels_convert)\n",
    "                dice_metric_batch(y_pred=val_output_convert, y=val_labels_convert)\n",
    "                epoch_iterator_val.set_description(\n",
    "                    \"Validate (%d / %d Steps)\" % (global_step, 10.0)\n",
    "                )\n",
    "            mean_dice_val = dice_metric.aggregate().item()\n",
    "            metric_batch_val = dice_metric_batch.aggregate()\n",
    "\n",
    "            metric_tumor = metric_batch_val[0].item()\n",
    "            metric_lymph = metric_batch_val[1].item()\n",
    "\n",
    "            dice_metric.reset()\n",
    "            dice_metric_batch.reset()\n",
    "        return mean_dice_val, metric_tumor, metric_lymph\n",
    "\n",
    "\n",
    "def train(global_step, train_loader, dice_val_best, global_step_best):\n",
    "        model.train()\n",
    "        epoch_loss = 0\n",
    "        step = 0\n",
    "        epoch_iterator = tqdm(\n",
    "            train_loader, desc=\"Training (X / X Steps) (loss=X.X)\", dynamic_ncols=True\n",
    "        )\n",
    "        \n",
    "        for step, batch in enumerate(epoch_iterator):\n",
    "            step += 1\n",
    "            x, y = (batch[\"ctpt\"].cuda(), batch[\"seg\"].cuda())\n",
    "            logit_map = model(x)\n",
    "            \n",
    "            loss = loss_function(logit_map, y)\n",
    "            loss.backward()\n",
    "            epoch_loss += loss.item()\n",
    "            optimizer.step()\n",
    "            optimizer.zero_grad()\n",
    "            epoch_iterator.set_description(\n",
    "                \"Training (%d / %d Steps) (loss=%2.5f)\"\n",
    "                % (global_step, max_iterations, loss)\n",
    "            )\n",
    "            \n",
    "            if (\n",
    "                global_step % eval_num == 0 and global_step != 0\n",
    "            ) or global_step == max_iterations:\n",
    "                epoch_iterator_val = tqdm(\n",
    "                    val_loader, desc=\"Validate (X / X Steps) (dice=X.X)\", dynamic_ncols=True\n",
    "                )\n",
    "                dice_val, metric_tumor, metric_lymph = validation(epoch_iterator_val)\n",
    "                epoch_loss /= step\n",
    "                epoch_loss_values.append(epoch_loss)\n",
    "                metric_values.append(dice_val)\n",
    "                metric_values_tumor.append(metric_tumor)\n",
    "                metric_values_lymph.append(metric_lymph)\n",
    "                if dice_val > dice_val_best:\n",
    "                    dice_val_best = dice_val\n",
    "                    global_step_best = global_step\n",
    "                    torch.save(\n",
    "                        model.state_dict(), os.path.join(model_dir, \"7thctpt_channels_.pth\")\n",
    "                    )\n",
    "                    print(\n",
    "                        \"Model Was Saved ! Current Best Avg. Dice: {} Current Avg. Dice: {} Current Avg. tumor Dice: {} Current Avg. lymph Dice: {}\".format(\n",
    "                            dice_val_best, dice_val, metric_tumor, metric_lymph\n",
    "                        )\n",
    "                    )\n",
    "                else:\n",
    "                    print(\n",
    "                        \"Model Was Not Saved ! Current Best Avg. Dice: {} Current Avg. Dice: {} Current Avg. tumor Dice: {} Current Avg. lymph Dice: {}\".format(\n",
    "                            dice_val_best, dice_val,  metric_tumor, metric_lymph\n",
    "                        )\n",
    "                    )\n",
    "            global_step += 1\n",
    "        return global_step, dice_val_best, global_step_best\n",
    "\n",
    "       \n",
    "\n",
    "max_iterations = 18000\n",
    "eval_num = 100\n",
    "\n",
    "post_label = AsDiscrete(to_onehot=3)\n",
    "post_pred = AsDiscrete(argmax=True, to_onehot=3)\n",
    "\n",
    "dice_metric = DiceMetric(include_background=False, reduction=\"mean\", get_not_nans=False)\n",
    "dice_metric_batch = DiceMetric(include_background=False, reduction=\"mean_batch\")\n",
    "\n",
    "epoch = 0\n",
    "max_num_epochs = 530\n",
    "\n",
    "global_step = 0\n",
    "dice_val_best = 0.0\n",
    "global_step_best = 0\n",
    "epoch_loss_values = []\n",
    "metric_values = []\n",
    "metric_values_tumor = []\n",
    "metric_values_lymph = []\n",
    "while global_step < max_iterations:\n",
    "    global_step, dice_val_best, global_step_best = train(\n",
    "        global_step, train_loader, dice_val_best, global_step_best\n",
    "    )\n",
    "    # wandb.log({'learning_rate': optimizer.param_groups[0]['lr']})\n",
    "    # wandb.log({'Best Dice': dice_val_best})\n",
    "    epoch += 1 \n",
    "    #optimizer.param_groups[0]['lr'] = poly_lr(epoch, max_num_epochs, 0.005676 , 0.9)\n",
    "# model.load_state_dict(torch.load(os.path.join(model_dir, \"best_metric_luck_UNETr_prompt.pth\")))"
   ]
  }
 ],
 "metadata": {
  "kernelspec": {
   "display_name": "clam",
   "language": "python",
   "name": "python3"
  },
  "language_info": {
   "codemirror_mode": {
    "name": "ipython",
    "version": 3
   },
   "file_extension": ".py",
   "mimetype": "text/x-python",
   "name": "python",
   "nbconvert_exporter": "python",
   "pygments_lexer": "ipython3",
   "version": "3.8.0"
  }
 },
 "nbformat": 4,
 "nbformat_minor": 2
}
