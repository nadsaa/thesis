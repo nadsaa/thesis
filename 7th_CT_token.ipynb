{
 "cells": [
  {
   "cell_type": "code",
   "execution_count": 1,
   "metadata": {},
   "outputs": [
    {
     "name": "stdout",
     "output_type": "stream",
     "text": [
      "1\n"
     ]
    },
    {
     "name": "stderr",
     "output_type": "stream",
     "text": [
      "/tmp/ipykernel_2356189/2846298510.py:9: TqdmWarning: IProgress not found. Please update jupyter and ipywidgets. See https://ipywidgets.readthedocs.io/en/stable/user_install.html\n",
      "  from tqdm.autonotebook import tqdm\n"
     ]
    }
   ],
   "source": [
    "import torch\n",
    "import torch.nn as nn\n",
    "from torch.utils.data import DataLoader\n",
    "from collections.abc import Sequence\n",
    "\n",
    "from unetr import CustomedUNETR\n",
    "\n",
    "import json\n",
    "from tqdm.autonotebook import tqdm\n",
    "import os\n",
    "os.environ[\"CUDA_DEVICE_ORDER\"] = \"PCI_BUS_ID\"\n",
    "os.environ[\"CUDA_VISIBLE_DEVICES\"] = \"5\" \n",
    "\n",
    "print(torch.cuda.device_count())\n",
    "torch.backends.cudnn.benchmark = True\n",
    "device = torch.device(\"cuda\" if torch.cuda.is_available() else \"cpu\")"
   ]
  },
  {
   "cell_type": "code",
   "execution_count": 4,
   "metadata": {},
   "outputs": [],
   "source": [
    "from monai.transforms import EnsureTyped\n",
    "from monai.transforms import Compose, LoadImaged, ScaleIntensityRanged, ConcatItemsd\n",
    "from monai.metrics import DiceMetric\n",
    "from monai.losses import DiceCELoss, DiceFocalLoss, FocalLoss\n",
    "from monai.inferers import sliding_window_inference\n",
    "\n",
    "\n",
    "from monai.data import (\n",
    "    Dataset,\n",
    "    DataLoader,\n",
    "    CacheDataset,\n",
    "    load_decathlon_datalist,\n",
    "    decollate_batch,\n",
    ")\n",
    "from monai.transforms import (\n",
    "    AsDiscrete,\n",
    "    Compose,\n",
    "    CropForegroundd,\n",
    "    LoadImaged,\n",
    "    Orientationd,\n",
    "    RandFlipd,\n",
    "    RandCropByPosNegLabeld,\n",
    "    RandShiftIntensityd,\n",
    "    ScaleIntensityRanged,\n",
    "    Spacingd,\n",
    "    RandRotate90d,\n",
    "    MapTransform,\n",
    "    ScaleIntensityd,\n",
    "    #AddChanneld,\n",
    "    SpatialPadd,\n",
    "    CenterSpatialCropd,\n",
    "    EnsureChannelFirstd,\n",
    "    ConcatItemsd,\n",
    "    AdjustContrastd, \n",
    "    Rand3DElasticd,\n",
    "    HistogramNormalized,\n",
    "    NormalizeIntensityd,\n",
    "    Invertd,\n",
    "    SaveImage,\n",
    "\n",
    ") \n",
    "import monai\n",
    "import json\n",
    "    "
   ]
  },
  {
   "cell_type": "code",
   "execution_count": 5,
   "metadata": {},
   "outputs": [],
   "source": [
    "data_dir = '/home/nada.saadi/MIS-FM/hecktor2022_cropped'\n",
    "json_dir = \"/home/nada.saadi/CTPET/hecktor2022_cropped/HMR_ct_train_new.json\""
   ]
  },
  {
   "cell_type": "code",
   "execution_count": 7,
   "metadata": {},
   "outputs": [
    {
     "name": "stdout",
     "output_type": "stream",
     "text": [
      "3 0\n"
     ]
    }
   ],
   "source": [
    "\n",
    "import os\n",
    "def datafold_read(datalist, basedir, fold=0):\n",
    "    with open(datalist) as f:\n",
    "        json_data = json.load(f)\n",
    "\n",
    "    #json_data = json_data[key]\n",
    "\n",
    "    for d in json_data:\n",
    "        for k in d:\n",
    "            if isinstance(d[k], list):\n",
    "                d[k] = [os.path.join(basedir, iv) for iv in d[k]]\n",
    "            elif isinstance(d[k], str):\n",
    "                d[k] = os.path.join(basedir, d[k]) if len(d[k]) > 0 else d[k]\n",
    "\n",
    "    tr = []\n",
    "    val = []\n",
    "    for d in json_data:\n",
    "        if \"fold\" in d and d[\"fold\"] == fold:\n",
    "            val.append(d)\n",
    "        else:\n",
    "            tr.append(d)\n",
    "\n",
    "    return tr, val\n",
    "\n",
    "train_data, valid_data = datafold_read(datalist=json_dir, basedir=data_dir, fold=0)\n",
    "print(len(train_data), len(valid_data))"
   ]
  },
  {
   "cell_type": "code",
   "execution_count": 5,
   "metadata": {},
   "outputs": [],
   "source": [
    "class ClipCT(MapTransform):\n",
    "    \"\"\"\n",
    "    Convert labels to multi channels based on hecktor classes:\n",
    "    label 1 is the tumor\n",
    "    label 2 is the lymph node\n",
    "\n",
    "    \"\"\"\n",
    "\n",
    "    def __call__(self, data):\n",
    "        d = dict(data)\n",
    "        for key in self.keys:\n",
    "            if key == \"ct\":\n",
    "                d[key] = torch.clip(d[key], min=-200, max=200)\n",
    "            # elif key == \"pt\":\n",
    "            #     d[key] = torch.clip(d[key], d[key].min(), 5)\n",
    "        return d\n",
    "class MulPTFM(MapTransform):\n",
    "    \"\"\"\n",
    "    Mult PT and FM \n",
    "\n",
    "    \"\"\"\n",
    "\n",
    "    def __call__(self, data):\n",
    "        d = dict(data)\n",
    "\n",
    "        fm = d[\"ct\"] > 0\n",
    "        d[\"pt\"] = d[\"pt\"] * fm\n",
    "        return d\n",
    "\n",
    "class SelectClass(MapTransform):\n",
    "    \"\"\"\n",
    "    Select the class for which you want to fine tune the model \n",
    "\n",
    "    \"\"\"\n",
    "    # def __init__(self, keys, cls=1):\n",
    "     #     super(self).__init__(keys)\n",
    "    #     self.cls = cls\n",
    "\n",
    "    def __call__(self, data):\n",
    "        d = dict(data)\n",
    "        d[\"seg\"][d[\"seg\"] == 1] = 0\n",
    "        # d[\"seg\"][d[\"seg\"] == 2] = 1\n",
    "        \n",
    "        return d"
   ]
  },
  {
   "cell_type": "code",
   "execution_count": 6,
   "metadata": {},
   "outputs": [],
   "source": [
    "num_samples = 4\n",
    "\n",
    "train_transforms = Compose(\n",
    "    [\n",
    "        LoadImaged(keys=[\"ct\", \"seg\"], ensure_channel_first = True),\n",
    "        SpatialPadd(keys=[\"ct\",  \"seg\"], spatial_size=(200, 200, 310), method='end'),\n",
    "        Orientationd(keys=[\"ct\",  \"seg\"], axcodes=\"PLS\"),\n",
    "        #NormalizeIntensityd(keys=[\"pt\"]),\n",
    "        ClipCT(keys=[\"ct\"]),\n",
    "        ScaleIntensityd(keys=[\"ct\"], minv=0, maxv=1),\n",
    "        #MulPTFM(keys=[\"ct\",\"pt\"]),\n",
    "        #ConcatItemsd(keys=[\"pt\", \"ct\"], name=\"ctpt\"),\n",
    "        #NormalizeIntensityd(keys=[\"ctpt\"], channel_wise=True),\n",
    "        RandCropByPosNegLabeld(\n",
    "            keys=[\"ct\", \"seg\"],\n",
    "            label_key=\"seg\",\n",
    "            spatial_size=(96, 96, 96),\n",
    "            pos=1,\n",
    "            neg=1,\n",
    "            num_samples=num_samples,\n",
    "            image_key=\"ct\",\n",
    "            image_threshold=0,\n",
    "        ),\n",
    "        RandFlipd(\n",
    "             keys=[\"ct\", \"seg\"],\n",
    "            spatial_axis=[0],\n",
    "            prob=0.20,\n",
    "        ),\n",
    "        RandFlipd(\n",
    "            keys=[\"ct\", \"seg\"],\n",
    "            spatial_axis=[1],\n",
    "            prob=0.20,\n",
    "        ),\n",
    "        RandFlipd(\n",
    "            keys=[\"ct\", \"seg\"],\n",
    "            spatial_axis=[2],\n",
    "            prob=0.20,\n",
    "        ),\n",
    "        RandRotate90d(\n",
    "            keys=[\"ct\", \"seg\"],\n",
    "            prob=0.20,\n",
    "            max_k=3,\n",
    "        ),\n",
    "    ]\n",
    ")\n",
    "val_transforms = Compose(\n",
    "    [\n",
    "        LoadImaged(keys=[\"ct\", \"seg\"], ensure_channel_first = True),\n",
    "        SpatialPadd(keys=[\"ct\", \"seg\"], spatial_size=(200, 200, 310), method='end'),\n",
    "        Orientationd(keys=[\"ct\",  \"seg\"], axcodes=\"PLS\"),\n",
    "        #NormalizeIntensityd(keys=[\"pt\"]),\n",
    "        ClipCT(keys=[\"ct\"]),\n",
    "        ScaleIntensityd(keys=[\"ct\"], minv=0, maxv=1),\n",
    "        #MulPTFM(keys=[\"ct\",\"pt\"]),\n",
    "        #ConcatItemsd(keys=[\"pt\", \"ct\"], name=\"ctpt\"),\n",
    "    ]\n",
    ")"
   ]
  },
  {
   "cell_type": "code",
   "execution_count": 7,
   "metadata": {},
   "outputs": [],
   "source": [
    "train_ds = monai.data.Dataset(data=train_data, transform=train_transforms)\n",
    "\n",
    "train_loader = DataLoader(\n",
    "    train_ds,\n",
    "    batch_size=2,\n",
    "    shuffle=True,\n",
    "    num_workers=8,\n",
    "    pin_memory=torch.cuda.is_available(),\n",
    "    )\n",
    "\n",
    "val_ds = monai.data.Dataset(data=valid_data, transform=val_transforms)\n",
    "\n",
    "val_loader = DataLoader(\n",
    "    val_ds, \n",
    "    batch_size=2, \n",
    "    num_workers=8, \n",
    "    shuffle= False)"
   ]
  },
  {
   "cell_type": "code",
   "execution_count": 8,
   "metadata": {},
   "outputs": [
    {
     "name": "stdout",
     "output_type": "stream",
     "text": [
      "Nada's version of UNETR\n",
      "(96, 96, 96)\n",
      "(16, 16, 16)\n",
      "(6, 6, 6)\n",
      "768\n",
      "zaz w dakchi ya s lbnat\n"
     ]
    },
    {
     "name": "stderr",
     "output_type": "stream",
     "text": [
      "/home/nada.saadi/miniconda3/envs/clam/lib/python3.8/site-packages/monai/utils/deprecate_utils.py:221: FutureWarning: unetr CustomedUNETR.__init__:pos_embed: Argument `pos_embed` has been deprecated since version 1.2. It will be removed in version 1.4. please use `proj_type` instead.\n",
      "  warn_deprecated(argname, msg, warning_category)\n"
     ]
    }
   ],
   "source": [
    "model = CustomedUNETR(\n",
    "    in_channels=1,  # Number of input channels\n",
    "    out_channels=3,  # Number of output channels\n",
    "    img_size=(96, 96, 96),  # Size of the input image\n",
    "    feature_size=48,  # Size of the feature maps\n",
    "    hidden_size=768,\n",
    "    num_heads = 12,# Size of the hidden layers in the transformer\n",
    "    mlp_dim=3072,  # Dimension of the MLP in the transformer\n",
    "    pos_embed=\"perceptron\",  # Type of positional embedding\n",
    "    norm_name=\"instance\",  # Type of normalization\n",
    "    res_block=True,  # Whether to use residual blocks\n",
    "    dropout_rate=0.0,\n",
    "    proj_type= \"conv\",\n",
    "    r=4,\n",
    "    lora_layer=True,\n",
    "    use_ct_encoder=True,\n",
    "    use_pet_encoder=False    \n",
    ").to(device) "
   ]
  },
  {
   "cell_type": "code",
   "execution_count": 9,
   "metadata": {},
   "outputs": [],
   "source": [
    "def poly_lr(epoch, max_epochs, initial_lr, exponent=0.9):\n",
    "    return initial_lr * (1 - epoch / max_epochs)**exponent\n",
    "\n",
    "model_dir='/home/nada.saadi/CTPET/hecktor2022_cropped/7thCTtoken'\n",
    "\n",
    "max_iterations = 18000\n",
    "eval_num = 100\n",
    "\n",
    "## running stats\n",
    "global_step = 0\n",
    "dice_val_best = 0.0\n",
    "global_step_best = 0\n",
    "epoch_loss_values = []\n",
    "metric_values = []\n",
    "metric_values_tumor = []\n",
    "metric_values_lymph = []\n",
    "\n",
    "\n",
    "loss_function = DiceCELoss(to_onehot_y=True, softmax=True)\n",
    "optimizer = torch.optim.AdamW(model.parameters(), lr=1e-4, weight_decay=1e-5)\n",
    "\n",
    "\n",
    "post_label = AsDiscrete(to_onehot=3)\n",
    "post_pred = AsDiscrete(argmax=True, to_onehot=3)\n",
    "\n",
    "dice_metric = DiceMetric(include_background=False, reduction=\"mean\", get_not_nans=False)\n",
    "dice_metric_batch = DiceMetric(include_background=False, reduction=\"mean_batch\")\n",
    "def validation(epoch_iterator_val):\n",
    "        model.eval()\n",
    "        with torch.no_grad():\n",
    "            for step, batch in enumerate(epoch_iterator_val):\n",
    "                val_inputs, val_labels = (batch[\"ct\"].cuda(), batch[\"seg\"].cuda())\n",
    "                val_outputs = sliding_window_inference(val_inputs, (96, 96, 96), 4, model)\n",
    "                val_labels_list = decollate_batch(val_labels)\n",
    "                val_labels_convert = [\n",
    "                    post_label(val_label_tensor) for val_label_tensor in val_labels_list\n",
    "                ]\n",
    "                val_outputs_list = decollate_batch(val_outputs)\n",
    "                val_output_convert = [\n",
    "                    post_pred(val_pred_tensor) for val_pred_tensor in val_outputs_list\n",
    "                ]\n",
    "                dice_metric(y_pred=val_output_convert, y=val_labels_convert)\n",
    "                dice_metric_batch(y_pred=val_output_convert, y=val_labels_convert)\n",
    "                epoch_iterator_val.set_description(\n",
    "                    \"Validate (%d / %d Steps)\" % (global_step, 10.0)\n",
    "                )\n",
    "            mean_dice_val = dice_metric.aggregate().item()\n",
    "            metric_batch_val = dice_metric_batch.aggregate()\n",
    "\n",
    "            metric_tumor = metric_batch_val[0].item()\n",
    "            metric_lymph = metric_batch_val[1].item()\n",
    "\n",
    "            dice_metric.reset()\n",
    "            dice_metric_batch.reset()\n",
    "        return mean_dice_val, metric_tumor, metric_lymph\n",
    "\n",
    "\n",
    "\n",
    "def train(global_step, train_loader, dice_val_best, global_step_best):\n",
    "        model.train()\n",
    "        epoch_loss = 0\n",
    "        step = 0\n",
    "        epoch_iterator = tqdm(\n",
    "            train_loader, desc=\"Training (X / X Steps) (loss=X.X)\", dynamic_ncols=True\n",
    "        )\n",
    "        \n",
    "        for step, batch in enumerate(epoch_iterator):\n",
    "            step += 1\n",
    "            x, y = (batch[\"ct\"].cuda(), batch[\"seg\"].cuda())\n",
    "            logit_map = model(x, mode=None)\n",
    "            if logit_map is None:\n",
    "                print(\"logit_map is None\")\n",
    "            if y is None:\n",
    "                print(\"y is None\")\n",
    "            loss = loss_function(logit_map, y)\n",
    "            loss.backward()\n",
    "            epoch_loss += loss.item() \n",
    "            optimizer.step()\n",
    "            optimizer.zero_grad()\n",
    "            epoch_iterator.set_description(\n",
    "                \"Training (%d / %d Steps) (loss=%2.5f)\"\n",
    "                % (global_step, max_iterations, loss)\n",
    "            )\n",
    "            \n",
    "            if (\n",
    "                global_step % eval_num == 0 and global_step != 0\n",
    "            ) or global_step == max_iterations:\n",
    "                epoch_iterator_val = tqdm(\n",
    "                    val_loader, desc=\"Validate (X / X Steps) (dice=X.X)\", dynamic_ncols=True\n",
    "                )\n",
    "                dice_val, metric_tumor, metric_lymph = validation(epoch_iterator_val)\n",
    "                epoch_loss /= step\n",
    "                epoch_loss_values.append(epoch_loss)\n",
    "                metric_values.append(dice_val)\n",
    "                metric_values_tumor.append(metric_tumor)\n",
    "                metric_values_lymph.append(metric_lymph)\n",
    "                if dice_val > dice_val_best:\n",
    "                    dice_val_best = dice_val\n",
    "                    global_step_best = global_step\n",
    "                    torch.save(\n",
    "                        model.state_dict(), os.path.join(model_dir, \"7th_CT_TOKENS.pth\")\n",
    "                    )\n",
    "                    print(\n",
    "                        \"Model Was Saved ! Current Best Avg. Dice: {} Current Avg. Dice: {} Current Avg. tumor Dice: {} Current Avg. lymph Dice: {}\".format(\n",
    "                            dice_val_best, dice_val, metric_tumor, metric_lymph\n",
    "                        )\n",
    "                    )\n",
    "                else:\n",
    "                    print(\n",
    "                        \"Model Was Not Saved ! Current Best Avg. Dice: {} Current Avg. Dice: {} Current Avg. tumor Dice: {} Current Avg. lymph Dice: {}\".format(\n",
    "                            dice_val_best, dice_val,  metric_tumor, metric_lymph\n",
    "                        )\n",
    "                    )\n",
    "            global_step += 1\n",
    "        return global_step, dice_val_best, global_step_best\n",
    "\n"
   ]
  },
  {
   "cell_type": "code",
   "execution_count": 10,
   "metadata": {},
   "outputs": [
    {
     "name": "stderr",
     "output_type": "stream",
     "text": [
      "Training (6 / 18000 Steps) (loss=1.60975): 100%|██████████| 7/7 [01:01<00:00,  8.72s/it]\n",
      "Training (13 / 18000 Steps) (loss=1.38419): 100%|██████████| 7/7 [00:14<00:00,  2.08s/it]\n",
      "Training (20 / 18000 Steps) (loss=1.34799): 100%|██████████| 7/7 [00:14<00:00,  2.14s/it]\n",
      "Training (27 / 18000 Steps) (loss=1.33601): 100%|██████████| 7/7 [00:14<00:00,  2.13s/it]\n",
      "Training (34 / 18000 Steps) (loss=1.22559): 100%|██████████| 7/7 [00:14<00:00,  2.12s/it]\n",
      "Training (41 / 18000 Steps) (loss=1.25967): 100%|██████████| 7/7 [00:14<00:00,  2.12s/it]\n",
      "Training (48 / 18000 Steps) (loss=1.18814): 100%|██████████| 7/7 [00:14<00:00,  2.11s/it]\n",
      "Training (55 / 18000 Steps) (loss=1.17505): 100%|██████████| 7/7 [00:14<00:00,  2.13s/it]\n",
      "Training (62 / 18000 Steps) (loss=1.15807): 100%|██████████| 7/7 [00:14<00:00,  2.10s/it]\n",
      "Training (69 / 18000 Steps) (loss=1.10292): 100%|██████████| 7/7 [00:14<00:00,  2.11s/it]\n",
      "Training (76 / 18000 Steps) (loss=1.15074): 100%|██████████| 7/7 [00:14<00:00,  2.10s/it]\n",
      "Training (83 / 18000 Steps) (loss=1.12832): 100%|██████████| 7/7 [00:14<00:00,  2.08s/it]\n",
      "Training (90 / 18000 Steps) (loss=1.05739): 100%|██████████| 7/7 [00:14<00:00,  2.13s/it]\n",
      "Training (97 / 18000 Steps) (loss=1.08556): 100%|██████████| 7/7 [00:15<00:00,  2.17s/it]\n",
      "Validate (98 / 10 Steps): 100%|██████████| 2/2 [00:08<00:00,  4.35s/it]8<00:14,  2.97s/it]\n",
      "Training (100 / 18000 Steps) (loss=1.08349):  43%|████▎     | 3/7 [00:17<00:26,  6.60s/it]"
     ]
    },
    {
     "name": "stdout",
     "output_type": "stream",
     "text": [
      "Model Was Not Saved ! Current Best Avg. Dice: 0.0 Current Avg. Dice: 0.0 Current Avg. tumor Dice: 0.0 Current Avg. lymph Dice: 0.0\n"
     ]
    },
    {
     "name": "stderr",
     "output_type": "stream",
     "text": [
      "Training (104 / 18000 Steps) (loss=1.03236): 100%|██████████| 7/7 [00:23<00:00,  3.41s/it]\n",
      "Training (111 / 18000 Steps) (loss=1.02851): 100%|██████████| 7/7 [00:14<00:00,  2.12s/it]\n",
      "Training (118 / 18000 Steps) (loss=1.01594): 100%|██████████| 7/7 [00:14<00:00,  2.12s/it]\n",
      "Training (125 / 18000 Steps) (loss=1.09388): 100%|██████████| 7/7 [00:14<00:00,  2.08s/it]\n",
      "Training (132 / 18000 Steps) (loss=1.04274): 100%|██████████| 7/7 [00:15<00:00,  2.15s/it]\n",
      "Training (139 / 18000 Steps) (loss=1.03993): 100%|██████████| 7/7 [00:14<00:00,  2.10s/it]\n",
      "Training (146 / 18000 Steps) (loss=1.00884): 100%|██████████| 7/7 [00:15<00:00,  2.19s/it]\n",
      "Training (153 / 18000 Steps) (loss=1.01227): 100%|██████████| 7/7 [00:14<00:00,  2.14s/it]\n",
      "Training (160 / 18000 Steps) (loss=0.98650): 100%|██████████| 7/7 [00:14<00:00,  2.09s/it]\n",
      "Training (167 / 18000 Steps) (loss=0.98043): 100%|██████████| 7/7 [00:14<00:00,  2.09s/it]\n",
      "Training (174 / 18000 Steps) (loss=0.99094): 100%|██████████| 7/7 [00:14<00:00,  2.09s/it]\n",
      "Training (181 / 18000 Steps) (loss=0.95292): 100%|██████████| 7/7 [00:14<00:00,  2.12s/it]\n",
      "Training (188 / 18000 Steps) (loss=1.00745): 100%|██████████| 7/7 [00:14<00:00,  2.11s/it]\n",
      "Training (195 / 18000 Steps) (loss=0.96221): 100%|██████████| 7/7 [00:14<00:00,  2.14s/it]\n",
      "Validate (196 / 10 Steps): 100%|██████████| 2/2 [00:08<00:00,  4.28s/it]<00:06,  2.26s/it]\n",
      "Training (200 / 18000 Steps) (loss=0.97815):  71%|███████▏  | 5/7 [00:20<00:10,  5.19s/it]"
     ]
    },
    {
     "name": "stdout",
     "output_type": "stream",
     "text": [
      "Model Was Not Saved ! Current Best Avg. Dice: 0.0 Current Avg. Dice: 0.0 Current Avg. tumor Dice: 0.0 Current Avg. lymph Dice: 0.0\n"
     ]
    },
    {
     "name": "stderr",
     "output_type": "stream",
     "text": [
      "Training (202 / 18000 Steps) (loss=0.93411): 100%|██████████| 7/7 [00:23<00:00,  3.36s/it]\n",
      "Training (209 / 18000 Steps) (loss=0.93845): 100%|██████████| 7/7 [00:14<00:00,  2.13s/it]\n",
      "Training (216 / 18000 Steps) (loss=0.91010): 100%|██████████| 7/7 [00:15<00:00,  2.21s/it]\n",
      "Training (223 / 18000 Steps) (loss=0.96741): 100%|██████████| 7/7 [00:15<00:00,  2.19s/it]\n",
      "Training (230 / 18000 Steps) (loss=0.98350): 100%|██████████| 7/7 [00:14<00:00,  2.14s/it]\n",
      "Training (237 / 18000 Steps) (loss=0.91645): 100%|██████████| 7/7 [00:15<00:00,  2.20s/it]\n",
      "Training (244 / 18000 Steps) (loss=0.97085): 100%|██████████| 7/7 [00:15<00:00,  2.17s/it]\n",
      "Training (251 / 18000 Steps) (loss=0.94853): 100%|██████████| 7/7 [00:15<00:00,  2.17s/it]\n",
      "Training (258 / 18000 Steps) (loss=0.93123): 100%|██████████| 7/7 [00:14<00:00,  2.12s/it]\n",
      "Training (265 / 18000 Steps) (loss=0.89665): 100%|██████████| 7/7 [00:14<00:00,  2.14s/it]\n",
      "Training (272 / 18000 Steps) (loss=0.85912): 100%|██████████| 7/7 [00:15<00:00,  2.14s/it]\n",
      "Training (279 / 18000 Steps) (loss=0.91666): 100%|██████████| 7/7 [00:14<00:00,  2.14s/it]\n",
      "Training (286 / 18000 Steps) (loss=0.88793): 100%|██████████| 7/7 [00:15<00:00,  2.17s/it]\n",
      "Training (293 / 18000 Steps) (loss=0.86704): 100%|██████████| 7/7 [00:14<00:00,  2.14s/it]\n",
      "Validate (294 / 10 Steps): 100%|██████████| 2/2 [00:08<00:00,  4.36s/it]<00:01,  1.94s/it]\n",
      "Training (300 / 18000 Steps) (loss=0.90264): 100%|██████████| 7/7 [00:24<00:00,  3.50s/it]\n"
     ]
    },
    {
     "name": "stdout",
     "output_type": "stream",
     "text": [
      "Model Was Saved ! Current Best Avg. Dice: 0.015118030831217766 Current Avg. Dice: 0.015118030831217766 Current Avg. tumor Dice: 0.03023606166243553 Current Avg. lymph Dice: 0.0\n"
     ]
    },
    {
     "name": "stderr",
     "output_type": "stream",
     "text": [
      "Training (307 / 18000 Steps) (loss=0.85638): 100%|██████████| 7/7 [00:14<00:00,  2.08s/it]\n",
      "Training (314 / 18000 Steps) (loss=0.91048): 100%|██████████| 7/7 [00:14<00:00,  2.13s/it]\n",
      "Training (321 / 18000 Steps) (loss=0.94024): 100%|██████████| 7/7 [00:14<00:00,  2.14s/it]\n",
      "Training (328 / 18000 Steps) (loss=0.85143): 100%|██████████| 7/7 [00:15<00:00,  2.17s/it]\n",
      "Training (335 / 18000 Steps) (loss=0.88231): 100%|██████████| 7/7 [00:14<00:00,  2.10s/it]\n",
      "Training (342 / 18000 Steps) (loss=0.82971): 100%|██████████| 7/7 [00:14<00:00,  2.08s/it]\n",
      "Training (349 / 18000 Steps) (loss=0.85978): 100%|██████████| 7/7 [00:15<00:00,  2.16s/it]\n",
      "Training (356 / 18000 Steps) (loss=0.85255): 100%|██████████| 7/7 [00:14<00:00,  2.12s/it]\n",
      "Training (363 / 18000 Steps) (loss=0.95809): 100%|██████████| 7/7 [00:15<00:00,  2.15s/it]\n",
      "Training (370 / 18000 Steps) (loss=0.84532): 100%|██████████| 7/7 [00:15<00:00,  2.14s/it]\n",
      "Training (377 / 18000 Steps) (loss=0.85117): 100%|██████████| 7/7 [00:14<00:00,  2.10s/it]\n",
      "Training (384 / 18000 Steps) (loss=0.81587): 100%|██████████| 7/7 [00:14<00:00,  2.14s/it]\n",
      "Training (391 / 18000 Steps) (loss=0.83383): 100%|██████████| 7/7 [00:14<00:00,  2.09s/it]\n",
      "Training (398 / 18000 Steps) (loss=0.80633): 100%|██████████| 7/7 [00:15<00:00,  2.15s/it]\n",
      "Validate (399 / 10 Steps): 100%|██████████| 2/2 [00:08<00:00,  4.32s/it]<00:29,  4.90s/it]\n",
      "Training (400 / 18000 Steps) (loss=0.80926):  29%|██▊       | 2/7 [00:16<00:43,  8.78s/it]"
     ]
    },
    {
     "name": "stdout",
     "output_type": "stream",
     "text": [
      "Model Was Saved ! Current Best Avg. Dice: 0.04341303929686546 Current Avg. Dice: 0.04341303929686546 Current Avg. tumor Dice: 0.08682607859373093 Current Avg. lymph Dice: 0.0\n"
     ]
    },
    {
     "name": "stderr",
     "output_type": "stream",
     "text": [
      "Training (405 / 18000 Steps) (loss=0.80108): 100%|██████████| 7/7 [00:25<00:00,  3.57s/it]\n",
      "Training (412 / 18000 Steps) (loss=0.85537): 100%|██████████| 7/7 [00:15<00:00,  2.14s/it]\n",
      "Training (419 / 18000 Steps) (loss=0.80969): 100%|██████████| 7/7 [00:15<00:00,  2.15s/it]\n",
      "Training (426 / 18000 Steps) (loss=0.79856): 100%|██████████| 7/7 [00:14<00:00,  2.11s/it]\n",
      "Training (433 / 18000 Steps) (loss=0.85016): 100%|██████████| 7/7 [00:14<00:00,  2.12s/it]\n",
      "Training (440 / 18000 Steps) (loss=0.75894): 100%|██████████| 7/7 [00:14<00:00,  2.12s/it]\n",
      "Training (447 / 18000 Steps) (loss=0.83238): 100%|██████████| 7/7 [00:14<00:00,  2.13s/it]\n",
      "Training (454 / 18000 Steps) (loss=0.83935): 100%|██████████| 7/7 [00:14<00:00,  2.12s/it]\n",
      "Training (461 / 18000 Steps) (loss=0.85720): 100%|██████████| 7/7 [00:14<00:00,  2.14s/it]\n",
      "Training (468 / 18000 Steps) (loss=0.79871): 100%|██████████| 7/7 [00:14<00:00,  2.13s/it]\n",
      "Training (475 / 18000 Steps) (loss=0.80747): 100%|██████████| 7/7 [00:14<00:00,  2.11s/it]\n",
      "Training (482 / 18000 Steps) (loss=0.79244): 100%|██████████| 7/7 [00:15<00:00,  2.15s/it]\n",
      "Training (489 / 18000 Steps) (loss=0.78605): 100%|██████████| 7/7 [00:14<00:00,  2.11s/it]\n",
      "Training (496 / 18000 Steps) (loss=0.77595): 100%|██████████| 7/7 [00:14<00:00,  2.12s/it]\n",
      "Validate (497 / 10 Steps): 100%|██████████| 2/2 [00:08<00:00,  4.34s/it]<00:10,  2.51s/it]\n",
      "Training (500 / 18000 Steps) (loss=0.75669):  57%|█████▋    | 4/7 [00:19<00:17,  5.68s/it]"
     ]
    },
    {
     "name": "stdout",
     "output_type": "stream",
     "text": [
      "Model Was Not Saved ! Current Best Avg. Dice: 0.04341303929686546 Current Avg. Dice: 0.0419558621942997 Current Avg. tumor Dice: 0.08391173183917999 Current Avg. lymph Dice: 0.0\n"
     ]
    },
    {
     "name": "stderr",
     "output_type": "stream",
     "text": [
      "Training (503 / 18000 Steps) (loss=0.74206): 100%|██████████| 7/7 [00:23<00:00,  3.42s/it]\n",
      "Training (510 / 18000 Steps) (loss=0.75782): 100%|██████████| 7/7 [00:14<00:00,  2.10s/it]\n",
      "Training (517 / 18000 Steps) (loss=0.76750): 100%|██████████| 7/7 [00:14<00:00,  2.14s/it]\n",
      "Training (524 / 18000 Steps) (loss=0.90758): 100%|██████████| 7/7 [00:14<00:00,  2.07s/it]\n",
      "Training (531 / 18000 Steps) (loss=0.81357): 100%|██████████| 7/7 [00:14<00:00,  2.11s/it]\n",
      "Training (538 / 18000 Steps) (loss=0.76546): 100%|██████████| 7/7 [00:14<00:00,  2.11s/it]\n",
      "Training (545 / 18000 Steps) (loss=0.79328): 100%|██████████| 7/7 [00:14<00:00,  2.12s/it]\n",
      "Training (552 / 18000 Steps) (loss=0.74512): 100%|██████████| 7/7 [00:15<00:00,  2.15s/it]\n",
      "Training (559 / 18000 Steps) (loss=0.73024): 100%|██████████| 7/7 [00:14<00:00,  2.08s/it]\n",
      "Training (566 / 18000 Steps) (loss=0.76832): 100%|██████████| 7/7 [00:14<00:00,  2.13s/it]\n",
      "Training (573 / 18000 Steps) (loss=0.74749): 100%|██████████| 7/7 [00:15<00:00,  2.16s/it]\n",
      "Training (580 / 18000 Steps) (loss=0.70087): 100%|██████████| 7/7 [00:15<00:00,  2.15s/it]\n",
      "Training (587 / 18000 Steps) (loss=0.73467): 100%|██████████| 7/7 [00:14<00:00,  2.11s/it]\n",
      "Training (594 / 18000 Steps) (loss=0.77984): 100%|██████████| 7/7 [00:14<00:00,  2.11s/it]\n",
      "Validate (595 / 10 Steps): 100%|██████████| 2/2 [00:08<00:00,  4.30s/it]<00:04,  2.04s/it]\n",
      "Training (600 / 18000 Steps) (loss=0.77023):  86%|████████▌ | 6/7 [00:23<00:05,  5.20s/it]"
     ]
    },
    {
     "name": "stdout",
     "output_type": "stream",
     "text": [
      "Model Was Saved ! Current Best Avg. Dice: 0.10250898450613022 Current Avg. Dice: 0.10250898450613022 Current Avg. tumor Dice: 0.20501796901226044 Current Avg. lymph Dice: 0.0\n"
     ]
    },
    {
     "name": "stderr",
     "output_type": "stream",
     "text": [
      "Training (601 / 18000 Steps) (loss=0.73738): 100%|██████████| 7/7 [00:24<00:00,  3.46s/it]\n",
      "Training (608 / 18000 Steps) (loss=0.73520): 100%|██████████| 7/7 [00:14<00:00,  2.08s/it]\n",
      "Training (615 / 18000 Steps) (loss=0.88914): 100%|██████████| 7/7 [00:15<00:00,  2.19s/it]\n",
      "Training (622 / 18000 Steps) (loss=0.73012): 100%|██████████| 7/7 [00:14<00:00,  2.10s/it]\n",
      "Training (629 / 18000 Steps) (loss=0.75371): 100%|██████████| 7/7 [00:14<00:00,  2.10s/it]\n",
      "Training (636 / 18000 Steps) (loss=0.72295): 100%|██████████| 7/7 [00:14<00:00,  2.14s/it]\n",
      "Training (643 / 18000 Steps) (loss=0.74034): 100%|██████████| 7/7 [00:15<00:00,  2.14s/it]\n",
      "Training (650 / 18000 Steps) (loss=0.75336): 100%|██████████| 7/7 [00:14<00:00,  2.08s/it]\n",
      "Training (657 / 18000 Steps) (loss=0.72168): 100%|██████████| 7/7 [00:14<00:00,  2.10s/it]\n",
      "Training (664 / 18000 Steps) (loss=0.75109): 100%|██████████| 7/7 [00:15<00:00,  2.14s/it]\n",
      "Training (671 / 18000 Steps) (loss=0.76762): 100%|██████████| 7/7 [00:14<00:00,  2.12s/it]\n",
      "Training (678 / 18000 Steps) (loss=0.72647): 100%|██████████| 7/7 [00:15<00:00,  2.15s/it]\n",
      "Training (685 / 18000 Steps) (loss=0.76386): 100%|██████████| 7/7 [00:14<00:00,  2.13s/it]\n",
      "Training (692 / 18000 Steps) (loss=0.70822): 100%|██████████| 7/7 [00:15<00:00,  2.15s/it]\n",
      "Training (699 / 18000 Steps) (loss=0.73595): 100%|██████████| 7/7 [00:14<00:00,  2.06s/it]\n",
      "Validate (700 / 10 Steps): 100%|██████████| 2/2 [00:08<00:00,  4.33s/it]<?, ?it/s]\n",
      "Training (700 / 18000 Steps) (loss=0.73585):  14%|█▍        | 1/7 [00:13<01:20, 13.39s/it]"
     ]
    },
    {
     "name": "stdout",
     "output_type": "stream",
     "text": [
      "Model Was Not Saved ! Current Best Avg. Dice: 0.10250898450613022 Current Avg. Dice: 0.07059391587972641 Current Avg. tumor Dice: 0.141187846660614 Current Avg. lymph Dice: 0.0\n"
     ]
    },
    {
     "name": "stderr",
     "output_type": "stream",
     "text": [
      "Training (706 / 18000 Steps) (loss=0.72587): 100%|██████████| 7/7 [00:23<00:00,  3.39s/it]\n",
      "Training (713 / 18000 Steps) (loss=0.73033): 100%|██████████| 7/7 [00:14<00:00,  2.13s/it]\n",
      "Training (720 / 18000 Steps) (loss=0.72773): 100%|██████████| 7/7 [00:15<00:00,  2.15s/it]\n",
      "Training (727 / 18000 Steps) (loss=0.82539): 100%|██████████| 7/7 [00:15<00:00,  2.15s/it]\n",
      "Training (734 / 18000 Steps) (loss=0.73219): 100%|██████████| 7/7 [00:14<00:00,  2.13s/it]\n",
      "Training (741 / 18000 Steps) (loss=0.65671): 100%|██████████| 7/7 [00:14<00:00,  2.12s/it]\n",
      "Training (748 / 18000 Steps) (loss=0.74987): 100%|██████████| 7/7 [00:15<00:00,  2.15s/it]\n",
      "Training (755 / 18000 Steps) (loss=0.83122): 100%|██████████| 7/7 [00:15<00:00,  2.21s/it]\n",
      "Training (762 / 18000 Steps) (loss=0.74442): 100%|██████████| 7/7 [00:15<00:00,  2.16s/it]\n",
      "Training (769 / 18000 Steps) (loss=0.70414): 100%|██████████| 7/7 [00:15<00:00,  2.15s/it]\n",
      "Training (776 / 18000 Steps) (loss=0.70584): 100%|██████████| 7/7 [00:15<00:00,  2.15s/it]\n",
      "Training (783 / 18000 Steps) (loss=0.69505): 100%|██████████| 7/7 [00:14<00:00,  2.12s/it]\n",
      "Training (790 / 18000 Steps) (loss=0.73005): 100%|██████████| 7/7 [00:14<00:00,  2.13s/it]\n",
      "Training (797 / 18000 Steps) (loss=0.70028): 100%|██████████| 7/7 [00:15<00:00,  2.17s/it]\n",
      "Validate (798 / 10 Steps): 100%|██████████| 2/2 [00:08<00:00,  4.41s/it]<00:14,  3.00s/it]\n",
      "Training (800 / 18000 Steps) (loss=0.70113):  43%|████▎     | 3/7 [00:17<00:26,  6.54s/it]"
     ]
    },
    {
     "name": "stdout",
     "output_type": "stream",
     "text": [
      "Model Was Not Saved ! Current Best Avg. Dice: 0.10250898450613022 Current Avg. Dice: 0.08513612300157547 Current Avg. tumor Dice: 0.17027224600315094 Current Avg. lymph Dice: 0.0\n"
     ]
    },
    {
     "name": "stderr",
     "output_type": "stream",
     "text": [
      "Training (804 / 18000 Steps) (loss=0.70921): 100%|██████████| 7/7 [00:24<00:00,  3.45s/it]\n",
      "Training (811 / 18000 Steps) (loss=0.69728): 100%|██████████| 7/7 [00:14<00:00,  2.09s/it]\n",
      "Training (818 / 18000 Steps) (loss=0.66012): 100%|██████████| 7/7 [00:15<00:00,  2.16s/it]\n",
      "Training (825 / 18000 Steps) (loss=0.70250): 100%|██████████| 7/7 [00:14<00:00,  2.13s/it]\n",
      "Training (832 / 18000 Steps) (loss=0.82901): 100%|██████████| 7/7 [00:14<00:00,  2.10s/it]\n",
      "Training (839 / 18000 Steps) (loss=0.64418): 100%|██████████| 7/7 [00:15<00:00,  2.16s/it]\n",
      "Training (846 / 18000 Steps) (loss=0.71328): 100%|██████████| 7/7 [00:14<00:00,  2.11s/it]\n",
      "Training (853 / 18000 Steps) (loss=0.72217): 100%|██████████| 7/7 [00:14<00:00,  2.12s/it]\n",
      "Training (860 / 18000 Steps) (loss=0.75557): 100%|██████████| 7/7 [00:15<00:00,  2.16s/it]\n",
      "Training (867 / 18000 Steps) (loss=0.73019): 100%|██████████| 7/7 [00:14<00:00,  2.13s/it]\n",
      "Training (874 / 18000 Steps) (loss=0.77800): 100%|██████████| 7/7 [00:15<00:00,  2.15s/it]\n",
      "Training (881 / 18000 Steps) (loss=0.78318): 100%|██████████| 7/7 [00:15<00:00,  2.14s/it]\n",
      "Training (888 / 18000 Steps) (loss=0.67908): 100%|██████████| 7/7 [00:14<00:00,  2.12s/it]\n",
      "Training (895 / 18000 Steps) (loss=0.66655): 100%|██████████| 7/7 [00:14<00:00,  2.13s/it]\n",
      "Validate (896 / 10 Steps): 100%|██████████| 2/2 [00:08<00:00,  4.35s/it]<00:06,  2.20s/it]\n",
      "Training (900 / 18000 Steps) (loss=0.69515):  71%|███████▏  | 5/7 [00:21<00:11,  5.67s/it]"
     ]
    },
    {
     "name": "stdout",
     "output_type": "stream",
     "text": [
      "Model Was Saved ! Current Best Avg. Dice: 0.11723113805055618 Current Avg. Dice: 0.11723113805055618 Current Avg. tumor Dice: 0.2332972288131714 Current Avg. lymph Dice: 0.0011650372762233019\n"
     ]
    },
    {
     "name": "stderr",
     "output_type": "stream",
     "text": [
      "Training (902 / 18000 Steps) (loss=0.68137): 100%|██████████| 7/7 [00:24<00:00,  3.56s/it]\n",
      "Training (909 / 18000 Steps) (loss=0.71840): 100%|██████████| 7/7 [00:14<00:00,  2.12s/it]\n",
      "Training (916 / 18000 Steps) (loss=0.69414): 100%|██████████| 7/7 [00:14<00:00,  2.13s/it]\n",
      "Training (923 / 18000 Steps) (loss=0.66560): 100%|██████████| 7/7 [00:14<00:00,  2.13s/it]\n",
      "Training (930 / 18000 Steps) (loss=0.71434): 100%|██████████| 7/7 [00:14<00:00,  2.09s/it]\n",
      "Training (937 / 18000 Steps) (loss=0.60833): 100%|██████████| 7/7 [00:15<00:00,  2.15s/it]\n",
      "Training (944 / 18000 Steps) (loss=0.67938): 100%|██████████| 7/7 [00:14<00:00,  2.13s/it]\n",
      "Training (951 / 18000 Steps) (loss=0.74209): 100%|██████████| 7/7 [00:14<00:00,  2.11s/it]\n",
      "Training (958 / 18000 Steps) (loss=0.71744): 100%|██████████| 7/7 [00:14<00:00,  2.10s/it]\n",
      "Training (965 / 18000 Steps) (loss=0.66148): 100%|██████████| 7/7 [00:14<00:00,  2.07s/it]\n",
      "Training (972 / 18000 Steps) (loss=0.60142): 100%|██████████| 7/7 [00:15<00:00,  2.15s/it]\n",
      "Training (979 / 18000 Steps) (loss=0.68825): 100%|██████████| 7/7 [00:14<00:00,  2.12s/it]\n",
      "Training (986 / 18000 Steps) (loss=0.83977): 100%|██████████| 7/7 [00:14<00:00,  2.09s/it]\n",
      "Training (993 / 18000 Steps) (loss=0.61435): 100%|██████████| 7/7 [00:15<00:00,  2.14s/it]\n",
      "Validate (994 / 10 Steps): 100%|██████████| 2/2 [00:08<00:00,  4.26s/it]4<00:01,  1.94s/it]\n",
      "Training (1000 / 18000 Steps) (loss=0.62787): 100%|██████████| 7/7 [00:23<00:00,  3.31s/it]\n"
     ]
    },
    {
     "name": "stdout",
     "output_type": "stream",
     "text": [
      "Model Was Not Saved ! Current Best Avg. Dice: 0.11723113805055618 Current Avg. Dice: 0.10691224038600922 Current Avg. tumor Dice: 0.1317075788974762 Current Avg. lymph Dice: 0.08211690187454224\n"
     ]
    },
    {
     "name": "stderr",
     "output_type": "stream",
     "text": [
      "Training (1007 / 18000 Steps) (loss=0.75639): 100%|██████████| 7/7 [00:14<00:00,  2.13s/it]\n",
      "Training (1014 / 18000 Steps) (loss=0.73842): 100%|██████████| 7/7 [00:14<00:00,  2.12s/it]\n",
      "Training (1021 / 18000 Steps) (loss=0.65914): 100%|██████████| 7/7 [00:14<00:00,  2.11s/it]\n",
      "Training (1028 / 18000 Steps) (loss=0.71645): 100%|██████████| 7/7 [00:14<00:00,  2.12s/it]\n",
      "Training (1035 / 18000 Steps) (loss=0.67723): 100%|██████████| 7/7 [00:15<00:00,  2.18s/it]\n",
      "Training (1042 / 18000 Steps) (loss=0.68971): 100%|██████████| 7/7 [00:14<00:00,  2.06s/it]\n",
      "Training (1049 / 18000 Steps) (loss=0.62912): 100%|██████████| 7/7 [00:14<00:00,  2.08s/it]\n",
      "Training (1056 / 18000 Steps) (loss=0.62567): 100%|██████████| 7/7 [00:15<00:00,  2.15s/it]\n",
      "Training (1063 / 18000 Steps) (loss=0.69151): 100%|██████████| 7/7 [00:14<00:00,  2.14s/it]\n",
      "Training (1070 / 18000 Steps) (loss=0.71844): 100%|██████████| 7/7 [00:14<00:00,  2.12s/it]\n",
      "Training (1077 / 18000 Steps) (loss=0.69079): 100%|██████████| 7/7 [00:15<00:00,  2.15s/it]\n",
      "Training (1084 / 18000 Steps) (loss=0.65009): 100%|██████████| 7/7 [00:14<00:00,  2.06s/it]\n",
      "Training (1091 / 18000 Steps) (loss=0.64528): 100%|██████████| 7/7 [00:15<00:00,  2.15s/it]\n",
      "Training (1098 / 18000 Steps) (loss=0.63629): 100%|██████████| 7/7 [00:15<00:00,  2.19s/it]\n",
      "Validate (1099 / 10 Steps): 100%|██████████| 2/2 [00:08<00:00,  4.32s/it]<00:27,  4.65s/it]\n",
      "Training (1100 / 18000 Steps) (loss=0.64496):  29%|██▊       | 2/7 [00:16<00:43,  8.66s/it]"
     ]
    },
    {
     "name": "stdout",
     "output_type": "stream",
     "text": [
      "Model Was Saved ! Current Best Avg. Dice: 0.1247890442609787 Current Avg. Dice: 0.1247890442609787 Current Avg. tumor Dice: 0.18612024188041687 Current Avg. lymph Dice: 0.06345783174037933\n"
     ]
    },
    {
     "name": "stderr",
     "output_type": "stream",
     "text": [
      "Training (1105 / 18000 Steps) (loss=0.64897): 100%|██████████| 7/7 [00:24<00:00,  3.53s/it]\n",
      "Training (1112 / 18000 Steps) (loss=0.58903): 100%|██████████| 7/7 [00:14<00:00,  2.13s/it]\n",
      "Training (1119 / 18000 Steps) (loss=0.70977): 100%|██████████| 7/7 [00:14<00:00,  2.10s/it]\n",
      "Training (1126 / 18000 Steps) (loss=0.69830): 100%|██████████| 7/7 [00:14<00:00,  2.11s/it]\n",
      "Training (1133 / 18000 Steps) (loss=0.67744): 100%|██████████| 7/7 [00:14<00:00,  2.12s/it]\n",
      "Training (1140 / 18000 Steps) (loss=0.67324): 100%|██████████| 7/7 [00:14<00:00,  2.13s/it]\n",
      "Training (1147 / 18000 Steps) (loss=0.61859): 100%|██████████| 7/7 [00:14<00:00,  2.09s/it]\n",
      "Training (1154 / 18000 Steps) (loss=0.63370): 100%|██████████| 7/7 [00:14<00:00,  2.11s/it]\n",
      "Training (1161 / 18000 Steps) (loss=0.66787): 100%|██████████| 7/7 [00:14<00:00,  2.10s/it]\n",
      "Training (1168 / 18000 Steps) (loss=0.57103): 100%|██████████| 7/7 [00:14<00:00,  2.12s/it]\n",
      "Training (1175 / 18000 Steps) (loss=0.67462): 100%|██████████| 7/7 [00:15<00:00,  2.15s/it]\n",
      "Training (1182 / 18000 Steps) (loss=0.73983): 100%|██████████| 7/7 [00:15<00:00,  2.16s/it]\n",
      "Training (1189 / 18000 Steps) (loss=0.68501): 100%|██████████| 7/7 [00:14<00:00,  2.10s/it]\n",
      "Training (1196 / 18000 Steps) (loss=0.60247): 100%|██████████| 7/7 [00:15<00:00,  2.15s/it]\n",
      "Validate (1197 / 10 Steps): 100%|██████████| 2/2 [00:08<00:00,  4.37s/it]<00:09,  2.41s/it]\n",
      "Training (1200 / 18000 Steps) (loss=0.67516):  57%|█████▋    | 4/7 [00:19<00:17,  5.96s/it]"
     ]
    },
    {
     "name": "stdout",
     "output_type": "stream",
     "text": [
      "Model Was Saved ! Current Best Avg. Dice: 0.17666828632354736 Current Avg. Dice: 0.17666828632354736 Current Avg. tumor Dice: 0.1901441216468811 Current Avg. lymph Dice: 0.163192480802536\n"
     ]
    },
    {
     "name": "stderr",
     "output_type": "stream",
     "text": [
      "Training (1203 / 18000 Steps) (loss=0.73296): 100%|██████████| 7/7 [00:24<00:00,  3.49s/it]\n",
      "Training (1210 / 18000 Steps) (loss=0.58430): 100%|██████████| 7/7 [00:14<00:00,  2.08s/it]\n",
      "Training (1217 / 18000 Steps) (loss=0.61873): 100%|██████████| 7/7 [00:14<00:00,  2.14s/it]\n",
      "Training (1224 / 18000 Steps) (loss=0.64746): 100%|██████████| 7/7 [00:15<00:00,  2.15s/it]\n",
      "Training (1231 / 18000 Steps) (loss=0.66713): 100%|██████████| 7/7 [00:14<00:00,  2.10s/it]\n",
      "Training (1238 / 18000 Steps) (loss=0.65055): 100%|██████████| 7/7 [00:14<00:00,  2.07s/it]\n",
      "Training (1245 / 18000 Steps) (loss=0.67923): 100%|██████████| 7/7 [00:14<00:00,  2.11s/it]\n",
      "Training (1252 / 18000 Steps) (loss=0.64974): 100%|██████████| 7/7 [00:14<00:00,  2.10s/it]\n",
      "Training (1259 / 18000 Steps) (loss=0.74460): 100%|██████████| 7/7 [00:14<00:00,  2.14s/it]\n",
      "Training (1266 / 18000 Steps) (loss=0.75525): 100%|██████████| 7/7 [00:14<00:00,  2.14s/it]\n",
      "Training (1273 / 18000 Steps) (loss=0.66340): 100%|██████████| 7/7 [00:14<00:00,  2.09s/it]\n",
      "Training (1280 / 18000 Steps) (loss=0.60892): 100%|██████████| 7/7 [00:15<00:00,  2.15s/it]\n",
      "Training (1287 / 18000 Steps) (loss=0.65833): 100%|██████████| 7/7 [00:14<00:00,  2.06s/it]\n",
      "Training (1294 / 18000 Steps) (loss=0.59823): 100%|██████████| 7/7 [00:14<00:00,  2.09s/it]\n",
      "Validate (1295 / 10 Steps): 100%|██████████| 2/2 [00:08<00:00,  4.30s/it]<00:04,  2.06s/it]\n",
      "Training (1300 / 18000 Steps) (loss=0.69694):  86%|████████▌ | 6/7 [00:23<00:05,  5.21s/it]"
     ]
    },
    {
     "name": "stdout",
     "output_type": "stream",
     "text": [
      "Model Was Saved ! Current Best Avg. Dice: 0.19969868659973145 Current Avg. Dice: 0.19969868659973145 Current Avg. tumor Dice: 0.2106885313987732 Current Avg. lymph Dice: 0.1887088268995285\n"
     ]
    },
    {
     "name": "stderr",
     "output_type": "stream",
     "text": [
      "Training (1301 / 18000 Steps) (loss=0.68940): 100%|██████████| 7/7 [00:24<00:00,  3.51s/it]\n",
      "Training (1308 / 18000 Steps) (loss=0.74795): 100%|██████████| 7/7 [00:15<00:00,  2.16s/it]\n",
      "Training (1315 / 18000 Steps) (loss=0.63006): 100%|██████████| 7/7 [00:14<00:00,  2.13s/it]\n",
      "Training (1322 / 18000 Steps) (loss=0.64475): 100%|██████████| 7/7 [00:14<00:00,  2.11s/it]\n",
      "Training (1329 / 18000 Steps) (loss=0.58315): 100%|██████████| 7/7 [00:14<00:00,  2.13s/it]\n",
      "Training (1336 / 18000 Steps) (loss=0.61786): 100%|██████████| 7/7 [00:14<00:00,  2.13s/it]\n",
      "Training (1343 / 18000 Steps) (loss=0.64455): 100%|██████████| 7/7 [00:14<00:00,  2.11s/it]\n",
      "Training (1350 / 18000 Steps) (loss=0.62419): 100%|██████████| 7/7 [00:14<00:00,  2.10s/it]\n",
      "Training (1357 / 18000 Steps) (loss=0.60611): 100%|██████████| 7/7 [00:14<00:00,  2.10s/it]\n",
      "Training (1364 / 18000 Steps) (loss=0.66290): 100%|██████████| 7/7 [00:15<00:00,  2.15s/it]\n",
      "Training (1371 / 18000 Steps) (loss=0.64824): 100%|██████████| 7/7 [00:14<00:00,  2.11s/it]\n",
      "Training (1378 / 18000 Steps) (loss=0.53702): 100%|██████████| 7/7 [00:14<00:00,  2.08s/it]\n",
      "Training (1385 / 18000 Steps) (loss=0.67736): 100%|██████████| 7/7 [00:15<00:00,  2.15s/it]\n",
      "Training (1392 / 18000 Steps) (loss=0.57326): 100%|██████████| 7/7 [00:14<00:00,  2.09s/it]\n",
      "Training (1399 / 18000 Steps) (loss=0.61450): 100%|██████████| 7/7 [00:14<00:00,  2.10s/it]\n",
      "Validate (1400 / 10 Steps): 100%|██████████| 2/2 [00:08<00:00,  4.27s/it]<?, ?it/s]\n",
      "Training (1400 / 18000 Steps) (loss=0.62520):  14%|█▍        | 1/7 [00:13<01:19, 13.27s/it]"
     ]
    },
    {
     "name": "stdout",
     "output_type": "stream",
     "text": [
      "Model Was Not Saved ! Current Best Avg. Dice: 0.19969868659973145 Current Avg. Dice: 0.19179531931877136 Current Avg. tumor Dice: 0.17848369479179382 Current Avg. lymph Dice: 0.2051069736480713\n"
     ]
    },
    {
     "name": "stderr",
     "output_type": "stream",
     "text": [
      "Training (1406 / 18000 Steps) (loss=0.70366): 100%|██████████| 7/7 [00:23<00:00,  3.36s/it]\n",
      "Training (1413 / 18000 Steps) (loss=0.58341): 100%|██████████| 7/7 [00:14<00:00,  2.12s/it]\n",
      "Training (1420 / 18000 Steps) (loss=0.62219): 100%|██████████| 7/7 [00:14<00:00,  2.09s/it]\n",
      "Training (1427 / 18000 Steps) (loss=0.51198): 100%|██████████| 7/7 [00:14<00:00,  2.13s/it]\n",
      "Training (1434 / 18000 Steps) (loss=0.46242): 100%|██████████| 7/7 [00:14<00:00,  2.11s/it]\n",
      "Training (1441 / 18000 Steps) (loss=0.53076): 100%|██████████| 7/7 [00:14<00:00,  2.10s/it]\n",
      "Training (1448 / 18000 Steps) (loss=0.60850): 100%|██████████| 7/7 [00:14<00:00,  2.13s/it]\n",
      "Training (1455 / 18000 Steps) (loss=0.65581): 100%|██████████| 7/7 [00:14<00:00,  2.07s/it]\n",
      "Training (1462 / 18000 Steps) (loss=0.64182): 100%|██████████| 7/7 [00:15<00:00,  2.15s/it]\n",
      "Training (1469 / 18000 Steps) (loss=0.65698): 100%|██████████| 7/7 [00:14<00:00,  2.12s/it]\n",
      "Training (1476 / 18000 Steps) (loss=0.62902): 100%|██████████| 7/7 [00:14<00:00,  2.10s/it]\n",
      "Training (1483 / 18000 Steps) (loss=0.50829): 100%|██████████| 7/7 [00:14<00:00,  2.12s/it]\n",
      "Training (1490 / 18000 Steps) (loss=0.65864): 100%|██████████| 7/7 [00:14<00:00,  2.05s/it]\n",
      "Training (1497 / 18000 Steps) (loss=0.66658): 100%|██████████| 7/7 [00:14<00:00,  2.13s/it]\n",
      "Validate (1498 / 10 Steps): 100%|██████████| 2/2 [00:08<00:00,  4.35s/it]<00:14,  2.89s/it]\n",
      "Training (1500 / 18000 Steps) (loss=0.61132):  43%|████▎     | 3/7 [00:16<00:25,  6.37s/it]"
     ]
    },
    {
     "name": "stdout",
     "output_type": "stream",
     "text": [
      "Model Was Not Saved ! Current Best Avg. Dice: 0.19969868659973145 Current Avg. Dice: 0.1759353131055832 Current Avg. tumor Dice: 0.18194331228733063 Current Avg. lymph Dice: 0.16992732882499695\n"
     ]
    },
    {
     "name": "stderr",
     "output_type": "stream",
     "text": [
      "Training (1504 / 18000 Steps) (loss=0.64763): 100%|██████████| 7/7 [00:23<00:00,  3.32s/it]\n",
      "Training (1511 / 18000 Steps) (loss=0.59960): 100%|██████████| 7/7 [00:15<00:00,  2.15s/it]\n",
      "Training (1518 / 18000 Steps) (loss=0.68130): 100%|██████████| 7/7 [00:14<00:00,  2.08s/it]\n",
      "Training (1525 / 18000 Steps) (loss=0.61863): 100%|██████████| 7/7 [00:14<00:00,  2.12s/it]\n",
      "Training (1532 / 18000 Steps) (loss=0.69462): 100%|██████████| 7/7 [00:14<00:00,  2.12s/it]\n",
      "Training (1539 / 18000 Steps) (loss=0.58625): 100%|██████████| 7/7 [00:14<00:00,  2.12s/it]\n",
      "Training (1546 / 18000 Steps) (loss=0.59973): 100%|██████████| 7/7 [00:15<00:00,  2.16s/it]\n",
      "Training (1553 / 18000 Steps) (loss=0.46579): 100%|██████████| 7/7 [00:15<00:00,  2.16s/it]\n",
      "Training (1560 / 18000 Steps) (loss=0.61445): 100%|██████████| 7/7 [00:14<00:00,  2.13s/it]\n",
      "Training (1567 / 18000 Steps) (loss=0.58236): 100%|██████████| 7/7 [00:14<00:00,  2.13s/it]\n",
      "Training (1574 / 18000 Steps) (loss=0.66848): 100%|██████████| 7/7 [00:14<00:00,  2.12s/it]\n",
      "Training (1581 / 18000 Steps) (loss=0.64778): 100%|██████████| 7/7 [00:15<00:00,  2.17s/it]\n",
      "Training (1588 / 18000 Steps) (loss=0.50040): 100%|██████████| 7/7 [00:14<00:00,  2.09s/it]\n",
      "Training (1595 / 18000 Steps) (loss=0.65183): 100%|██████████| 7/7 [00:15<00:00,  2.16s/it]\n",
      "Validate (1596 / 10 Steps): 100%|██████████| 2/2 [00:08<00:00,  4.36s/it]<00:06,  2.26s/it]\n",
      "Training (1600 / 18000 Steps) (loss=0.59709):  71%|███████▏  | 5/7 [00:21<00:11,  5.60s/it]"
     ]
    },
    {
     "name": "stdout",
     "output_type": "stream",
     "text": [
      "Model Was Saved ! Current Best Avg. Dice: 0.24173566699028015 Current Avg. Dice: 0.24173566699028015 Current Avg. tumor Dice: 0.24976083636283875 Current Avg. lymph Dice: 0.23371049761772156\n"
     ]
    },
    {
     "name": "stderr",
     "output_type": "stream",
     "text": [
      "Training (1602 / 18000 Steps) (loss=0.73768): 100%|██████████| 7/7 [00:24<00:00,  3.54s/it]\n",
      "Training (1609 / 18000 Steps) (loss=0.68003): 100%|██████████| 7/7 [00:15<00:00,  2.15s/it]\n",
      "Training (1616 / 18000 Steps) (loss=0.72122): 100%|██████████| 7/7 [00:15<00:00,  2.15s/it]\n",
      "Training (1623 / 18000 Steps) (loss=0.52425): 100%|██████████| 7/7 [00:15<00:00,  2.15s/it]\n",
      "Training (1630 / 18000 Steps) (loss=0.64121): 100%|██████████| 7/7 [00:14<00:00,  2.13s/it]\n",
      "Training (1637 / 18000 Steps) (loss=0.62434): 100%|██████████| 7/7 [00:14<00:00,  2.09s/it]\n",
      "Training (1644 / 18000 Steps) (loss=0.45163): 100%|██████████| 7/7 [00:14<00:00,  2.13s/it]\n",
      "Training (1651 / 18000 Steps) (loss=0.56208): 100%|██████████| 7/7 [00:14<00:00,  2.13s/it]\n",
      "Training (1658 / 18000 Steps) (loss=0.69915): 100%|██████████| 7/7 [00:14<00:00,  2.14s/it]\n",
      "Training (1665 / 18000 Steps) (loss=0.65692): 100%|██████████| 7/7 [00:15<00:00,  2.16s/it]\n",
      "Training (1672 / 18000 Steps) (loss=0.58657): 100%|██████████| 7/7 [00:15<00:00,  2.14s/it]\n",
      "Training (1679 / 18000 Steps) (loss=0.61420): 100%|██████████| 7/7 [00:14<00:00,  2.13s/it]\n",
      "Training (1686 / 18000 Steps) (loss=0.66633): 100%|██████████| 7/7 [00:14<00:00,  2.14s/it]\n",
      "Training (1693 / 18000 Steps) (loss=0.58361): 100%|██████████| 7/7 [00:14<00:00,  2.10s/it]\n",
      "Validate (1694 / 10 Steps): 100%|██████████| 2/2 [00:08<00:00,  4.31s/it]<00:01,  1.97s/it]\n",
      "Training (1700 / 18000 Steps) (loss=0.57914): 100%|██████████| 7/7 [00:24<00:00,  3.52s/it]\n"
     ]
    },
    {
     "name": "stdout",
     "output_type": "stream",
     "text": [
      "Model Was Saved ! Current Best Avg. Dice: 0.2528117001056671 Current Avg. Dice: 0.2528117001056671 Current Avg. tumor Dice: 0.22052140533924103 Current Avg. lymph Dice: 0.2851020097732544\n"
     ]
    },
    {
     "name": "stderr",
     "output_type": "stream",
     "text": [
      "Training (1707 / 18000 Steps) (loss=0.64065): 100%|██████████| 7/7 [00:15<00:00,  2.18s/it]\n",
      "Training (1714 / 18000 Steps) (loss=0.59500): 100%|██████████| 7/7 [00:15<00:00,  2.19s/it]\n",
      "Training (1721 / 18000 Steps) (loss=0.68155): 100%|██████████| 7/7 [00:14<00:00,  2.11s/it]\n",
      "Training (1728 / 18000 Steps) (loss=0.53875): 100%|██████████| 7/7 [00:14<00:00,  2.13s/it]\n",
      "Training (1735 / 18000 Steps) (loss=0.49256): 100%|██████████| 7/7 [00:15<00:00,  2.17s/it]\n",
      "Training (1742 / 18000 Steps) (loss=0.58955): 100%|██████████| 7/7 [00:15<00:00,  2.15s/it]\n",
      "Training (1749 / 18000 Steps) (loss=0.68932): 100%|██████████| 7/7 [00:15<00:00,  2.17s/it]\n",
      "Training (1756 / 18000 Steps) (loss=0.48894): 100%|██████████| 7/7 [00:14<00:00,  2.12s/it]\n",
      "Training (1763 / 18000 Steps) (loss=0.66013): 100%|██████████| 7/7 [00:14<00:00,  2.13s/it]\n",
      "Training (1770 / 18000 Steps) (loss=0.48748): 100%|██████████| 7/7 [00:14<00:00,  2.10s/it]\n",
      "Training (1777 / 18000 Steps) (loss=0.66932): 100%|██████████| 7/7 [00:15<00:00,  2.16s/it]\n",
      "Training (1784 / 18000 Steps) (loss=0.49040): 100%|██████████| 7/7 [00:14<00:00,  2.13s/it]\n",
      "Training (1791 / 18000 Steps) (loss=0.60312): 100%|██████████| 7/7 [00:14<00:00,  2.13s/it]\n",
      "Training (1798 / 18000 Steps) (loss=0.61715): 100%|██████████| 7/7 [00:15<00:00,  2.14s/it]\n",
      "Validate (1799 / 10 Steps): 100%|██████████| 2/2 [00:08<00:00,  4.27s/it]<00:26,  4.42s/it]\n",
      "Training (1800 / 18000 Steps) (loss=0.62434):  29%|██▊       | 2/7 [00:14<00:39,  7.91s/it]"
     ]
    },
    {
     "name": "stdout",
     "output_type": "stream",
     "text": [
      "Model Was Not Saved ! Current Best Avg. Dice: 0.2528117001056671 Current Avg. Dice: 0.23457150161266327 Current Avg. tumor Dice: 0.25222867727279663 Current Avg. lymph Dice: 0.2169143259525299\n"
     ]
    },
    {
     "name": "stderr",
     "output_type": "stream",
     "text": [
      "Training (1805 / 18000 Steps) (loss=0.62386): 100%|██████████| 7/7 [00:23<00:00,  3.31s/it]\n",
      "Training (1812 / 18000 Steps) (loss=0.56275): 100%|██████████| 7/7 [00:15<00:00,  2.17s/it]\n",
      "Training (1819 / 18000 Steps) (loss=0.55242): 100%|██████████| 7/7 [00:15<00:00,  2.20s/it]\n",
      "Training (1826 / 18000 Steps) (loss=0.60984): 100%|██████████| 7/7 [00:14<00:00,  2.14s/it]\n",
      "Training (1833 / 18000 Steps) (loss=0.61749): 100%|██████████| 7/7 [00:15<00:00,  2.16s/it]\n",
      "Training (1840 / 18000 Steps) (loss=0.71094): 100%|██████████| 7/7 [00:14<00:00,  2.07s/it]\n",
      "Training (1847 / 18000 Steps) (loss=0.56247): 100%|██████████| 7/7 [00:14<00:00,  2.12s/it]\n",
      "Training (1854 / 18000 Steps) (loss=0.53799): 100%|██████████| 7/7 [00:14<00:00,  2.14s/it]\n",
      "Training (1861 / 18000 Steps) (loss=0.61075): 100%|██████████| 7/7 [00:15<00:00,  2.17s/it]\n",
      "Training (1868 / 18000 Steps) (loss=0.60154): 100%|██████████| 7/7 [00:15<00:00,  2.23s/it]\n",
      "Training (1875 / 18000 Steps) (loss=0.60310): 100%|██████████| 7/7 [00:14<00:00,  2.13s/it]\n",
      "Training (1882 / 18000 Steps) (loss=0.50246): 100%|██████████| 7/7 [00:14<00:00,  2.11s/it]\n",
      "Training (1889 / 18000 Steps) (loss=0.64751): 100%|██████████| 7/7 [00:14<00:00,  2.08s/it]\n",
      "Training (1896 / 18000 Steps) (loss=0.46338): 100%|██████████| 7/7 [00:14<00:00,  2.13s/it]\n",
      "Validate (1897 / 10 Steps): 100%|██████████| 2/2 [00:08<00:00,  4.33s/it]<00:09,  2.43s/it]\n",
      "Training (1900 / 18000 Steps) (loss=0.60635):  57%|█████▋    | 4/7 [00:19<00:17,  6.00s/it]"
     ]
    },
    {
     "name": "stdout",
     "output_type": "stream",
     "text": [
      "Model Was Saved ! Current Best Avg. Dice: 0.2653978168964386 Current Avg. Dice: 0.2653978168964386 Current Avg. tumor Dice: 0.300801157951355 Current Avg. lymph Dice: 0.2299944907426834\n"
     ]
    },
    {
     "name": "stderr",
     "output_type": "stream",
     "text": [
      "Training (1903 / 18000 Steps) (loss=0.55735): 100%|██████████| 7/7 [00:24<00:00,  3.49s/it]\n",
      "Training (1910 / 18000 Steps) (loss=0.52711): 100%|██████████| 7/7 [00:15<00:00,  2.20s/it]\n",
      "Training (1917 / 18000 Steps) (loss=0.40704): 100%|██████████| 7/7 [00:14<00:00,  2.14s/it]\n",
      "Training (1924 / 18000 Steps) (loss=0.58492): 100%|██████████| 7/7 [00:14<00:00,  2.11s/it]\n",
      "Training (1931 / 18000 Steps) (loss=0.64350): 100%|██████████| 7/7 [00:14<00:00,  2.12s/it]\n",
      "Training (1938 / 18000 Steps) (loss=0.48404): 100%|██████████| 7/7 [00:14<00:00,  2.09s/it]\n",
      "Training (1945 / 18000 Steps) (loss=0.65019): 100%|██████████| 7/7 [00:15<00:00,  2.14s/it]\n",
      "Training (1952 / 18000 Steps) (loss=0.56370): 100%|██████████| 7/7 [00:14<00:00,  2.14s/it]\n",
      "Training (1959 / 18000 Steps) (loss=0.51267): 100%|██████████| 7/7 [00:14<00:00,  2.13s/it]\n",
      "Training (1966 / 18000 Steps) (loss=0.55660): 100%|██████████| 7/7 [00:14<00:00,  2.09s/it]\n",
      "Training (1973 / 18000 Steps) (loss=0.51461): 100%|██████████| 7/7 [00:14<00:00,  2.11s/it]\n",
      "Training (1980 / 18000 Steps) (loss=0.61901): 100%|██████████| 7/7 [00:15<00:00,  2.16s/it]\n",
      "Training (1987 / 18000 Steps) (loss=0.54737): 100%|██████████| 7/7 [00:15<00:00,  2.15s/it]\n",
      "Training (1994 / 18000 Steps) (loss=0.55400): 100%|██████████| 7/7 [00:14<00:00,  2.12s/it]\n",
      "Validate (1995 / 10 Steps): 100%|██████████| 2/2 [00:08<00:00,  4.37s/it]<00:04,  2.03s/it]\n",
      "Training (2000 / 18000 Steps) (loss=0.59984):  86%|████████▌ | 6/7 [00:22<00:04,  4.95s/it]"
     ]
    },
    {
     "name": "stdout",
     "output_type": "stream",
     "text": [
      "Model Was Not Saved ! Current Best Avg. Dice: 0.2653978168964386 Current Avg. Dice: 0.23636506497859955 Current Avg. tumor Dice: 0.21509233117103577 Current Avg. lymph Dice: 0.25763779878616333\n"
     ]
    },
    {
     "name": "stderr",
     "output_type": "stream",
     "text": [
      "Training (2001 / 18000 Steps) (loss=0.64605): 100%|██████████| 7/7 [00:23<00:00,  3.38s/it]\n",
      "Training (2008 / 18000 Steps) (loss=0.63261): 100%|██████████| 7/7 [00:14<00:00,  2.11s/it]\n",
      "Training (2015 / 18000 Steps) (loss=0.65584): 100%|██████████| 7/7 [00:15<00:00,  2.16s/it]\n",
      "Training (2022 / 18000 Steps) (loss=0.57634): 100%|██████████| 7/7 [00:15<00:00,  2.15s/it]\n",
      "Training (2029 / 18000 Steps) (loss=0.63118): 100%|██████████| 7/7 [00:14<00:00,  2.12s/it]\n",
      "Training (2036 / 18000 Steps) (loss=0.58913): 100%|██████████| 7/7 [00:14<00:00,  2.14s/it]\n",
      "Training (2043 / 18000 Steps) (loss=0.51241): 100%|██████████| 7/7 [00:14<00:00,  2.09s/it]\n",
      "Training (2050 / 18000 Steps) (loss=0.58355): 100%|██████████| 7/7 [00:15<00:00,  2.16s/it]\n",
      "Training (2057 / 18000 Steps) (loss=0.55039): 100%|██████████| 7/7 [00:14<00:00,  2.11s/it]\n",
      "Training (2064 / 18000 Steps) (loss=0.65444): 100%|██████████| 7/7 [00:14<00:00,  2.12s/it]\n",
      "Training (2071 / 18000 Steps) (loss=0.50333): 100%|██████████| 7/7 [00:15<00:00,  2.16s/it]\n",
      "Training (2078 / 18000 Steps) (loss=0.59988): 100%|██████████| 7/7 [00:15<00:00,  2.18s/it]\n",
      "Training (2085 / 18000 Steps) (loss=0.68603): 100%|██████████| 7/7 [00:15<00:00,  2.20s/it]\n",
      "Training (2092 / 18000 Steps) (loss=0.65641): 100%|██████████| 7/7 [00:14<00:00,  2.11s/it]\n",
      "Training (2099 / 18000 Steps) (loss=0.55028): 100%|██████████| 7/7 [00:15<00:00,  2.18s/it]\n",
      "Validate (2100 / 10 Steps): 100%|██████████| 2/2 [00:08<00:00,  4.29s/it]<?, ?it/s]\n",
      "Training (2100 / 18000 Steps) (loss=0.55448):  14%|█▍        | 1/7 [00:13<01:18, 13.12s/it]"
     ]
    },
    {
     "name": "stdout",
     "output_type": "stream",
     "text": [
      "Model Was Not Saved ! Current Best Avg. Dice: 0.2653978168964386 Current Avg. Dice: 0.24251320958137512 Current Avg. tumor Dice: 0.2369527667760849 Current Avg. lymph Dice: 0.24807366728782654\n"
     ]
    },
    {
     "name": "stderr",
     "output_type": "stream",
     "text": [
      "Training (2106 / 18000 Steps) (loss=0.59067): 100%|██████████| 7/7 [00:23<00:00,  3.35s/it]\n",
      "Training (2113 / 18000 Steps) (loss=0.44622): 100%|██████████| 7/7 [00:15<00:00,  2.17s/it]\n",
      "Training (2120 / 18000 Steps) (loss=0.49999): 100%|██████████| 7/7 [00:15<00:00,  2.15s/it]\n",
      "Training (2127 / 18000 Steps) (loss=0.59344): 100%|██████████| 7/7 [00:14<00:00,  2.12s/it]\n",
      "Training (2134 / 18000 Steps) (loss=0.63613): 100%|██████████| 7/7 [00:15<00:00,  2.15s/it]\n",
      "Training (2141 / 18000 Steps) (loss=0.61274): 100%|██████████| 7/7 [00:14<00:00,  2.14s/it]\n",
      "Training (2148 / 18000 Steps) (loss=0.66968): 100%|██████████| 7/7 [00:15<00:00,  2.17s/it]\n",
      "Training (2155 / 18000 Steps) (loss=0.54743): 100%|██████████| 7/7 [00:15<00:00,  2.18s/it]\n",
      "Training (2162 / 18000 Steps) (loss=0.56763): 100%|██████████| 7/7 [00:14<00:00,  2.14s/it]\n",
      "Training (2169 / 18000 Steps) (loss=0.52147): 100%|██████████| 7/7 [00:15<00:00,  2.16s/it]\n",
      "Training (2176 / 18000 Steps) (loss=0.66877): 100%|██████████| 7/7 [00:15<00:00,  2.14s/it]\n",
      "Training (2183 / 18000 Steps) (loss=0.53607): 100%|██████████| 7/7 [00:14<00:00,  2.10s/it]\n",
      "Training (2190 / 18000 Steps) (loss=0.52500): 100%|██████████| 7/7 [00:15<00:00,  2.19s/it]\n",
      "Training (2197 / 18000 Steps) (loss=0.52660): 100%|██████████| 7/7 [00:15<00:00,  2.15s/it]\n",
      "Validate (2198 / 10 Steps): 100%|██████████| 2/2 [00:08<00:00,  4.35s/it]<00:15,  3.05s/it]\n",
      "Training (2200 / 18000 Steps) (loss=0.56316):  43%|████▎     | 3/7 [00:17<00:25,  6.47s/it]"
     ]
    },
    {
     "name": "stdout",
     "output_type": "stream",
     "text": [
      "Model Was Not Saved ! Current Best Avg. Dice: 0.2653978168964386 Current Avg. Dice: 0.2512231171131134 Current Avg. tumor Dice: 0.23775790631771088 Current Avg. lymph Dice: 0.26468831300735474\n"
     ]
    },
    {
     "name": "stderr",
     "output_type": "stream",
     "text": [
      "Training (2204 / 18000 Steps) (loss=0.57548): 100%|██████████| 7/7 [00:23<00:00,  3.42s/it]\n",
      "Training (2211 / 18000 Steps) (loss=0.66094): 100%|██████████| 7/7 [00:15<00:00,  2.15s/it]\n",
      "Training (2218 / 18000 Steps) (loss=0.45607): 100%|██████████| 7/7 [00:14<00:00,  2.11s/it]\n",
      "Training (2225 / 18000 Steps) (loss=0.62905): 100%|██████████| 7/7 [00:14<00:00,  2.09s/it]\n",
      "Training (2232 / 18000 Steps) (loss=0.49588): 100%|██████████| 7/7 [00:14<00:00,  2.13s/it]\n",
      "Training (2239 / 18000 Steps) (loss=0.68539): 100%|██████████| 7/7 [00:15<00:00,  2.18s/it]\n",
      "Training (2246 / 18000 Steps) (loss=0.51907): 100%|██████████| 7/7 [00:14<00:00,  2.13s/it]\n",
      "Training (2253 / 18000 Steps) (loss=0.56565): 100%|██████████| 7/7 [00:15<00:00,  2.15s/it]\n",
      "Training (2260 / 18000 Steps) (loss=0.47891): 100%|██████████| 7/7 [00:14<00:00,  2.10s/it]\n",
      "Training (2267 / 18000 Steps) (loss=0.55303): 100%|██████████| 7/7 [00:14<00:00,  2.11s/it]\n",
      "Training (2274 / 18000 Steps) (loss=0.65408): 100%|██████████| 7/7 [00:15<00:00,  2.21s/it]\n",
      "Training (2281 / 18000 Steps) (loss=0.68336): 100%|██████████| 7/7 [00:14<00:00,  2.14s/it]\n",
      "Training (2288 / 18000 Steps) (loss=0.55316): 100%|██████████| 7/7 [00:15<00:00,  2.16s/it]\n",
      "Training (2295 / 18000 Steps) (loss=0.49409): 100%|██████████| 7/7 [00:15<00:00,  2.15s/it]\n",
      "Validate (2296 / 10 Steps): 100%|██████████| 2/2 [00:08<00:00,  4.29s/it]<00:06,  2.16s/it]\n",
      "Training (2300 / 18000 Steps) (loss=0.52154):  71%|███████▏  | 5/7 [00:20<00:10,  5.14s/it]"
     ]
    },
    {
     "name": "stdout",
     "output_type": "stream",
     "text": [
      "Model Was Not Saved ! Current Best Avg. Dice: 0.2653978168964386 Current Avg. Dice: 0.1896691769361496 Current Avg. tumor Dice: 0.1445944607257843 Current Avg. lymph Dice: 0.2347438931465149\n"
     ]
    },
    {
     "name": "stderr",
     "output_type": "stream",
     "text": [
      "Training (2302 / 18000 Steps) (loss=0.65530): 100%|██████████| 7/7 [00:23<00:00,  3.34s/it]\n",
      "Training (2309 / 18000 Steps) (loss=0.47367): 100%|██████████| 7/7 [00:15<00:00,  2.16s/it]\n",
      "Training (2316 / 18000 Steps) (loss=0.47721): 100%|██████████| 7/7 [00:15<00:00,  2.17s/it]\n",
      "Training (2323 / 18000 Steps) (loss=0.57314): 100%|██████████| 7/7 [00:15<00:00,  2.16s/it]\n",
      "Training (2330 / 18000 Steps) (loss=0.53335): 100%|██████████| 7/7 [00:15<00:00,  2.15s/it]\n",
      "Training (2337 / 18000 Steps) (loss=0.45875): 100%|██████████| 7/7 [00:15<00:00,  2.16s/it]\n",
      "Training (2344 / 18000 Steps) (loss=0.54206): 100%|██████████| 7/7 [00:14<00:00,  2.10s/it]\n",
      "Training (2351 / 18000 Steps) (loss=0.59613): 100%|██████████| 7/7 [00:15<00:00,  2.16s/it]\n",
      "Training (2358 / 18000 Steps) (loss=0.59203): 100%|██████████| 7/7 [00:15<00:00,  2.16s/it]\n",
      "Training (2365 / 18000 Steps) (loss=0.63178): 100%|██████████| 7/7 [00:15<00:00,  2.14s/it]\n",
      "Training (2372 / 18000 Steps) (loss=0.59619): 100%|██████████| 7/7 [00:15<00:00,  2.15s/it]\n",
      "Training (2379 / 18000 Steps) (loss=0.53080): 100%|██████████| 7/7 [00:15<00:00,  2.15s/it]\n",
      "Training (2386 / 18000 Steps) (loss=0.63499): 100%|██████████| 7/7 [00:14<00:00,  2.13s/it]\n",
      "Training (2393 / 18000 Steps) (loss=0.47919): 100%|██████████| 7/7 [00:15<00:00,  2.17s/it]\n",
      "Validate (2394 / 10 Steps): 100%|██████████| 2/2 [00:08<00:00,  4.33s/it]<00:02,  2.01s/it]\n",
      "Training (2400 / 18000 Steps) (loss=0.36399): 100%|██████████| 7/7 [00:23<00:00,  3.40s/it]\n"
     ]
    },
    {
     "name": "stdout",
     "output_type": "stream",
     "text": [
      "Model Was Not Saved ! Current Best Avg. Dice: 0.2653978168964386 Current Avg. Dice: 0.2414686530828476 Current Avg. tumor Dice: 0.21315959095954895 Current Avg. lymph Dice: 0.26977771520614624\n"
     ]
    },
    {
     "name": "stderr",
     "output_type": "stream",
     "text": [
      "Training (2407 / 18000 Steps) (loss=0.59199): 100%|██████████| 7/7 [00:15<00:00,  2.17s/it]\n",
      "Training (2414 / 18000 Steps) (loss=0.61532): 100%|██████████| 7/7 [00:14<00:00,  2.09s/it]\n",
      "Training (2421 / 18000 Steps) (loss=0.37591): 100%|██████████| 7/7 [00:15<00:00,  2.16s/it]\n",
      "Training (2428 / 18000 Steps) (loss=0.61828): 100%|██████████| 7/7 [00:15<00:00,  2.22s/it]\n",
      "Training (2435 / 18000 Steps) (loss=0.44530): 100%|██████████| 7/7 [00:14<00:00,  2.11s/it]\n",
      "Training (2442 / 18000 Steps) (loss=0.41480): 100%|██████████| 7/7 [00:15<00:00,  2.15s/it]\n",
      "Training (2449 / 18000 Steps) (loss=0.44049): 100%|██████████| 7/7 [00:14<00:00,  2.12s/it]\n",
      "Training (2456 / 18000 Steps) (loss=0.64346): 100%|██████████| 7/7 [00:14<00:00,  2.10s/it]\n",
      "Training (2463 / 18000 Steps) (loss=0.59812): 100%|██████████| 7/7 [00:14<00:00,  2.11s/it]\n",
      "Training (2470 / 18000 Steps) (loss=0.57251): 100%|██████████| 7/7 [00:15<00:00,  2.19s/it]\n",
      "Training (2477 / 18000 Steps) (loss=0.60963): 100%|██████████| 7/7 [00:15<00:00,  2.18s/it]\n",
      "Training (2484 / 18000 Steps) (loss=0.41672): 100%|██████████| 7/7 [00:14<00:00,  2.09s/it]\n",
      "Training (2491 / 18000 Steps) (loss=0.58640): 100%|██████████| 7/7 [00:15<00:00,  2.15s/it]\n",
      "Training (2498 / 18000 Steps) (loss=0.53497): 100%|██████████| 7/7 [00:14<00:00,  2.10s/it]\n",
      "Validate (2499 / 10 Steps): 100%|██████████| 2/2 [00:08<00:00,  4.31s/it]<00:27,  4.51s/it]\n",
      "Training (2500 / 18000 Steps) (loss=0.53993):  29%|██▊       | 2/7 [00:15<00:42,  8.53s/it]"
     ]
    },
    {
     "name": "stdout",
     "output_type": "stream",
     "text": [
      "Model Was Saved ! Current Best Avg. Dice: 0.2891850769519806 Current Avg. Dice: 0.2891850769519806 Current Avg. tumor Dice: 0.285933256149292 Current Avg. lymph Dice: 0.2924369275569916\n"
     ]
    },
    {
     "name": "stderr",
     "output_type": "stream",
     "text": [
      "Training (2505 / 18000 Steps) (loss=0.65521): 100%|██████████| 7/7 [00:24<00:00,  3.47s/it]\n",
      "Training (2512 / 18000 Steps) (loss=0.54428): 100%|██████████| 7/7 [00:14<00:00,  2.13s/it]\n",
      "Training (2519 / 18000 Steps) (loss=0.51011): 100%|██████████| 7/7 [00:15<00:00,  2.22s/it]\n",
      "Training (2526 / 18000 Steps) (loss=0.60574): 100%|██████████| 7/7 [00:15<00:00,  2.17s/it]\n",
      "Training (2533 / 18000 Steps) (loss=0.58754): 100%|██████████| 7/7 [00:14<00:00,  2.12s/it]\n",
      "Training (2540 / 18000 Steps) (loss=0.48295): 100%|██████████| 7/7 [00:15<00:00,  2.15s/it]\n",
      "Training (2547 / 18000 Steps) (loss=0.59247): 100%|██████████| 7/7 [00:15<00:00,  2.16s/it]\n",
      "Training (2554 / 18000 Steps) (loss=0.57302): 100%|██████████| 7/7 [00:15<00:00,  2.17s/it]\n",
      "Training (2561 / 18000 Steps) (loss=0.47514): 100%|██████████| 7/7 [00:15<00:00,  2.21s/it]\n",
      "Training (2568 / 18000 Steps) (loss=0.51063): 100%|██████████| 7/7 [00:15<00:00,  2.19s/it]\n",
      "Training (2575 / 18000 Steps) (loss=0.45490): 100%|██████████| 7/7 [00:14<00:00,  2.14s/it]\n",
      "Training (2582 / 18000 Steps) (loss=0.67399): 100%|██████████| 7/7 [00:14<00:00,  2.12s/it]\n",
      "Training (2589 / 18000 Steps) (loss=0.53368): 100%|██████████| 7/7 [00:15<00:00,  2.19s/it]\n",
      "Training (2596 / 18000 Steps) (loss=0.67442): 100%|██████████| 7/7 [00:15<00:00,  2.23s/it]\n",
      "Validate (2597 / 10 Steps): 100%|██████████| 2/2 [00:08<00:00,  4.40s/it]<00:09,  2.49s/it]\n",
      "Training (2600 / 18000 Steps) (loss=0.53741):  57%|█████▋    | 4/7 [00:19<00:17,  5.70s/it]"
     ]
    },
    {
     "name": "stdout",
     "output_type": "stream",
     "text": [
      "Model Was Not Saved ! Current Best Avg. Dice: 0.2891850769519806 Current Avg. Dice: 0.2410205453634262 Current Avg. tumor Dice: 0.1716391146183014 Current Avg. lymph Dice: 0.3104020059108734\n"
     ]
    },
    {
     "name": "stderr",
     "output_type": "stream",
     "text": [
      "Training (2603 / 18000 Steps) (loss=0.54567): 100%|██████████| 7/7 [00:23<00:00,  3.42s/it]\n",
      "Training (2610 / 18000 Steps) (loss=0.59606): 100%|██████████| 7/7 [00:14<00:00,  2.14s/it]\n",
      "Training (2617 / 18000 Steps) (loss=0.54833): 100%|██████████| 7/7 [00:15<00:00,  2.16s/it]\n",
      "Training (2624 / 18000 Steps) (loss=0.54251): 100%|██████████| 7/7 [00:15<00:00,  2.20s/it]\n",
      "Training (2631 / 18000 Steps) (loss=0.45429): 100%|██████████| 7/7 [00:14<00:00,  2.11s/it]\n",
      "Training (2638 / 18000 Steps) (loss=0.56266): 100%|██████████| 7/7 [00:15<00:00,  2.18s/it]\n",
      "Training (2645 / 18000 Steps) (loss=0.50732): 100%|██████████| 7/7 [00:14<00:00,  2.14s/it]\n",
      "Training (2652 / 18000 Steps) (loss=0.38995): 100%|██████████| 7/7 [00:14<00:00,  2.10s/it]\n",
      "Training (2659 / 18000 Steps) (loss=0.54893): 100%|██████████| 7/7 [00:15<00:00,  2.18s/it]\n",
      "Training (2666 / 18000 Steps) (loss=0.60650): 100%|██████████| 7/7 [00:15<00:00,  2.18s/it]\n",
      "Training (2673 / 18000 Steps) (loss=0.55806): 100%|██████████| 7/7 [00:15<00:00,  2.17s/it]\n",
      "Training (2680 / 18000 Steps) (loss=0.52460): 100%|██████████| 7/7 [00:15<00:00,  2.19s/it]\n",
      "Training (2687 / 18000 Steps) (loss=0.62724): 100%|██████████| 7/7 [00:15<00:00,  2.16s/it]\n",
      "Training (2694 / 18000 Steps) (loss=0.54820): 100%|██████████| 7/7 [00:14<00:00,  2.14s/it]\n",
      "Validate (2695 / 10 Steps): 100%|██████████| 2/2 [00:08<00:00,  4.37s/it]<00:04,  2.05s/it]\n",
      "Training (2700 / 18000 Steps) (loss=0.59932):  86%|████████▌ | 6/7 [00:23<00:05,  5.28s/it]"
     ]
    },
    {
     "name": "stdout",
     "output_type": "stream",
     "text": [
      "Model Was Saved ! Current Best Avg. Dice: 0.30736684799194336 Current Avg. Dice: 0.30736684799194336 Current Avg. tumor Dice: 0.3073902130126953 Current Avg. lymph Dice: 0.3073435127735138\n"
     ]
    },
    {
     "name": "stderr",
     "output_type": "stream",
     "text": [
      "Training (2701 / 18000 Steps) (loss=0.54603): 100%|██████████| 7/7 [00:24<00:00,  3.53s/it]\n",
      "Training (2708 / 18000 Steps) (loss=0.55016): 100%|██████████| 7/7 [00:15<00:00,  2.25s/it]\n",
      "Training (2715 / 18000 Steps) (loss=0.39964): 100%|██████████| 7/7 [00:15<00:00,  2.14s/it]\n",
      "Training (2722 / 18000 Steps) (loss=0.49545): 100%|██████████| 7/7 [00:15<00:00,  2.17s/it]\n",
      "Training (2729 / 18000 Steps) (loss=0.60895): 100%|██████████| 7/7 [00:14<00:00,  2.12s/it]\n",
      "Training (2736 / 18000 Steps) (loss=0.53407): 100%|██████████| 7/7 [00:14<00:00,  2.09s/it]\n",
      "Training (2743 / 18000 Steps) (loss=0.56181): 100%|██████████| 7/7 [00:15<00:00,  2.16s/it]\n",
      "Training (2750 / 18000 Steps) (loss=0.33766): 100%|██████████| 7/7 [00:15<00:00,  2.18s/it]\n",
      "Training (2757 / 18000 Steps) (loss=0.64337): 100%|██████████| 7/7 [00:15<00:00,  2.19s/it]\n",
      "Training (2764 / 18000 Steps) (loss=0.62179): 100%|██████████| 7/7 [00:15<00:00,  2.17s/it]\n",
      "Training (2771 / 18000 Steps) (loss=0.65556): 100%|██████████| 7/7 [00:14<00:00,  2.10s/it]\n",
      "Training (2778 / 18000 Steps) (loss=0.59549): 100%|██████████| 7/7 [00:14<00:00,  2.10s/it]\n",
      "Training (2785 / 18000 Steps) (loss=0.63302): 100%|██████████| 7/7 [00:15<00:00,  2.16s/it]\n",
      "Training (2792 / 18000 Steps) (loss=0.56996): 100%|██████████| 7/7 [00:15<00:00,  2.19s/it]\n",
      "Training (2799 / 18000 Steps) (loss=0.58538): 100%|██████████| 7/7 [00:15<00:00,  2.22s/it]\n",
      "Validate (2800 / 10 Steps): 100%|██████████| 2/2 [00:08<00:00,  4.32s/it]<?, ?it/s]\n",
      "Training (2800 / 18000 Steps) (loss=0.54502):  14%|█▍        | 1/7 [00:13<01:20, 13.35s/it]"
     ]
    },
    {
     "name": "stdout",
     "output_type": "stream",
     "text": [
      "Model Was Not Saved ! Current Best Avg. Dice: 0.30736684799194336 Current Avg. Dice: 0.23469890654087067 Current Avg. tumor Dice: 0.19705073535442352 Current Avg. lymph Dice: 0.272347092628479\n"
     ]
    },
    {
     "name": "stderr",
     "output_type": "stream",
     "text": [
      "Training (2806 / 18000 Steps) (loss=0.50054): 100%|██████████| 7/7 [00:23<00:00,  3.39s/it]\n",
      "Training (2813 / 18000 Steps) (loss=0.64498): 100%|██████████| 7/7 [00:14<00:00,  2.12s/it]\n",
      "Training (2820 / 18000 Steps) (loss=0.49757): 100%|██████████| 7/7 [00:15<00:00,  2.17s/it]\n",
      "Training (2827 / 18000 Steps) (loss=0.48581): 100%|██████████| 7/7 [00:15<00:00,  2.16s/it]\n",
      "Training (2834 / 18000 Steps) (loss=0.45595): 100%|██████████| 7/7 [00:15<00:00,  2.15s/it]\n",
      "Training (2841 / 18000 Steps) (loss=0.43277): 100%|██████████| 7/7 [00:15<00:00,  2.15s/it]\n",
      "Training (2848 / 18000 Steps) (loss=0.51615): 100%|██████████| 7/7 [00:15<00:00,  2.17s/it]\n",
      "Training (2855 / 18000 Steps) (loss=0.69541): 100%|██████████| 7/7 [00:14<00:00,  2.13s/it]\n",
      "Training (2862 / 18000 Steps) (loss=0.61953): 100%|██████████| 7/7 [00:15<00:00,  2.15s/it]\n",
      "Training (2869 / 18000 Steps) (loss=0.48592): 100%|██████████| 7/7 [00:14<00:00,  2.13s/it]\n",
      "Training (2876 / 18000 Steps) (loss=0.43283): 100%|██████████| 7/7 [00:15<00:00,  2.15s/it]\n",
      "Training (2883 / 18000 Steps) (loss=0.40283): 100%|██████████| 7/7 [00:15<00:00,  2.17s/it]\n",
      "Training (2890 / 18000 Steps) (loss=0.45573): 100%|██████████| 7/7 [00:15<00:00,  2.18s/it]\n",
      "Training (2897 / 18000 Steps) (loss=0.48155): 100%|██████████| 7/7 [00:15<00:00,  2.15s/it]\n",
      "Validate (2898 / 10 Steps): 100%|██████████| 2/2 [00:08<00:00,  4.41s/it]<00:15,  3.01s/it]\n",
      "Training (2900 / 18000 Steps) (loss=0.60194):  43%|████▎     | 3/7 [00:17<00:25,  6.50s/it]"
     ]
    },
    {
     "name": "stdout",
     "output_type": "stream",
     "text": [
      "Model Was Not Saved ! Current Best Avg. Dice: 0.30736684799194336 Current Avg. Dice: 0.254491925239563 Current Avg. tumor Dice: 0.24594824016094208 Current Avg. lymph Dice: 0.2630355954170227\n"
     ]
    },
    {
     "name": "stderr",
     "output_type": "stream",
     "text": [
      "Training (2904 / 18000 Steps) (loss=0.35635): 100%|██████████| 7/7 [00:23<00:00,  3.40s/it]\n",
      "Training (2911 / 18000 Steps) (loss=0.63249): 100%|██████████| 7/7 [00:14<00:00,  2.11s/it]\n",
      "Training (2918 / 18000 Steps) (loss=0.47422): 100%|██████████| 7/7 [00:14<00:00,  2.14s/it]\n",
      "Training (2925 / 18000 Steps) (loss=0.49233): 100%|██████████| 7/7 [00:15<00:00,  2.17s/it]\n",
      "Training (2932 / 18000 Steps) (loss=0.66898): 100%|██████████| 7/7 [00:14<00:00,  2.14s/it]\n",
      "Training (2939 / 18000 Steps) (loss=0.54289): 100%|██████████| 7/7 [00:14<00:00,  2.13s/it]\n",
      "Training (2946 / 18000 Steps) (loss=0.64469): 100%|██████████| 7/7 [00:15<00:00,  2.18s/it]\n",
      "Training (2953 / 18000 Steps) (loss=0.54321): 100%|██████████| 7/7 [00:14<00:00,  2.11s/it]\n",
      "Training (2960 / 18000 Steps) (loss=0.48643): 100%|██████████| 7/7 [00:14<00:00,  2.13s/it]\n",
      "Training (2967 / 18000 Steps) (loss=0.46770): 100%|██████████| 7/7 [00:15<00:00,  2.17s/it]\n",
      "Training (2974 / 18000 Steps) (loss=0.65411): 100%|██████████| 7/7 [00:14<00:00,  2.12s/it]\n",
      "Training (2981 / 18000 Steps) (loss=0.48774): 100%|██████████| 7/7 [00:14<00:00,  2.14s/it]\n",
      "Training (2988 / 18000 Steps) (loss=0.54150): 100%|██████████| 7/7 [00:14<00:00,  2.12s/it]\n",
      "Training (2995 / 18000 Steps) (loss=0.51489): 100%|██████████| 7/7 [00:14<00:00,  2.10s/it]\n",
      "Validate (2996 / 10 Steps): 100%|██████████| 2/2 [00:08<00:00,  4.29s/it]<00:06,  2.25s/it]\n",
      "Training (3000 / 18000 Steps) (loss=0.64402):  71%|███████▏  | 5/7 [00:20<00:10,  5.20s/it]"
     ]
    },
    {
     "name": "stdout",
     "output_type": "stream",
     "text": [
      "Model Was Not Saved ! Current Best Avg. Dice: 0.30736684799194336 Current Avg. Dice: 0.280868262052536 Current Avg. tumor Dice: 0.30181995034217834 Current Avg. lymph Dice: 0.25991660356521606\n"
     ]
    },
    {
     "name": "stderr",
     "output_type": "stream",
     "text": [
      "Training (3002 / 18000 Steps) (loss=0.46847): 100%|██████████| 7/7 [00:23<00:00,  3.43s/it]\n",
      "Training (3009 / 18000 Steps) (loss=0.44316): 100%|██████████| 7/7 [00:14<00:00,  2.12s/it]\n",
      "Training (3016 / 18000 Steps) (loss=0.60585): 100%|██████████| 7/7 [00:15<00:00,  2.16s/it]\n",
      "Training (3023 / 18000 Steps) (loss=0.47053): 100%|██████████| 7/7 [00:14<00:00,  2.11s/it]\n",
      "Training (3030 / 18000 Steps) (loss=0.49978): 100%|██████████| 7/7 [00:15<00:00,  2.15s/it]\n",
      "Training (3037 / 18000 Steps) (loss=0.66411): 100%|██████████| 7/7 [00:15<00:00,  2.14s/it]\n",
      "Training (3044 / 18000 Steps) (loss=0.39192): 100%|██████████| 7/7 [00:14<00:00,  2.13s/it]\n",
      "Training (3051 / 18000 Steps) (loss=0.71420): 100%|██████████| 7/7 [00:15<00:00,  2.17s/it]\n",
      "Training (3058 / 18000 Steps) (loss=0.44366): 100%|██████████| 7/7 [00:14<00:00,  2.12s/it]\n",
      "Training (3065 / 18000 Steps) (loss=0.51644): 100%|██████████| 7/7 [00:14<00:00,  2.14s/it]\n",
      "Training (3072 / 18000 Steps) (loss=0.65540): 100%|██████████| 7/7 [00:14<00:00,  2.10s/it]\n",
      "Training (3079 / 18000 Steps) (loss=0.48654): 100%|██████████| 7/7 [00:15<00:00,  2.17s/it]\n",
      "Training (3086 / 18000 Steps) (loss=0.53866): 100%|██████████| 7/7 [00:15<00:00,  2.14s/it]\n",
      "Training (3093 / 18000 Steps) (loss=0.55711): 100%|██████████| 7/7 [00:14<00:00,  2.13s/it]\n",
      "Validate (3094 / 10 Steps): 100%|██████████| 2/2 [00:08<00:00,  4.33s/it]<00:01,  1.97s/it]\n",
      "Training (3100 / 18000 Steps) (loss=0.27553): 100%|██████████| 7/7 [00:23<00:00,  3.39s/it]\n"
     ]
    },
    {
     "name": "stdout",
     "output_type": "stream",
     "text": [
      "Model Was Not Saved ! Current Best Avg. Dice: 0.30736684799194336 Current Avg. Dice: 0.2522351145744324 Current Avg. tumor Dice: 0.23473063111305237 Current Avg. lymph Dice: 0.26973962783813477\n"
     ]
    },
    {
     "name": "stderr",
     "output_type": "stream",
     "text": [
      "Training (3107 / 18000 Steps) (loss=0.35373): 100%|██████████| 7/7 [00:14<00:00,  2.11s/it]\n",
      "Training (3114 / 18000 Steps) (loss=0.31724): 100%|██████████| 7/7 [00:14<00:00,  2.14s/it]\n",
      "Training (3121 / 18000 Steps) (loss=0.58079): 100%|██████████| 7/7 [00:15<00:00,  2.17s/it]\n",
      "Training (3128 / 18000 Steps) (loss=0.63594): 100%|██████████| 7/7 [00:14<00:00,  2.11s/it]\n",
      "Training (3135 / 18000 Steps) (loss=0.53653): 100%|██████████| 7/7 [00:15<00:00,  2.16s/it]\n",
      "Training (3142 / 18000 Steps) (loss=0.49781): 100%|██████████| 7/7 [00:15<00:00,  2.15s/it]\n",
      "Training (3149 / 18000 Steps) (loss=0.55555): 100%|██████████| 7/7 [00:14<00:00,  2.13s/it]\n",
      "Training (3156 / 18000 Steps) (loss=0.53449): 100%|██████████| 7/7 [00:14<00:00,  2.10s/it]\n",
      "Training (3163 / 18000 Steps) (loss=0.44680): 100%|██████████| 7/7 [00:15<00:00,  2.16s/it]\n",
      "Training (3170 / 18000 Steps) (loss=0.54921): 100%|██████████| 7/7 [00:15<00:00,  2.20s/it]\n",
      "Training (3177 / 18000 Steps) (loss=0.60866): 100%|██████████| 7/7 [00:14<00:00,  2.10s/it]\n",
      "Training (3184 / 18000 Steps) (loss=0.54257): 100%|██████████| 7/7 [00:15<00:00,  2.15s/it]\n",
      "Training (3191 / 18000 Steps) (loss=0.47522): 100%|██████████| 7/7 [00:15<00:00,  2.16s/it]\n",
      "Training (3198 / 18000 Steps) (loss=0.43721): 100%|██████████| 7/7 [00:14<00:00,  2.12s/it]\n",
      "Validate (3199 / 10 Steps): 100%|██████████| 2/2 [00:08<00:00,  4.43s/it]<00:28,  4.74s/it]\n",
      "Training (3200 / 18000 Steps) (loss=0.49229):  29%|██▊       | 2/7 [00:15<00:41,  8.26s/it]"
     ]
    },
    {
     "name": "stdout",
     "output_type": "stream",
     "text": [
      "Model Was Not Saved ! Current Best Avg. Dice: 0.30736684799194336 Current Avg. Dice: 0.27915769815444946 Current Avg. tumor Dice: 0.253109335899353 Current Avg. lymph Dice: 0.3052060902118683\n"
     ]
    },
    {
     "name": "stderr",
     "output_type": "stream",
     "text": [
      "Training (3205 / 18000 Steps) (loss=0.42152): 100%|██████████| 7/7 [00:23<00:00,  3.42s/it]\n",
      "Training (3212 / 18000 Steps) (loss=0.44108): 100%|██████████| 7/7 [00:15<00:00,  2.17s/it]\n",
      "Training (3219 / 18000 Steps) (loss=0.40872): 100%|██████████| 7/7 [00:14<00:00,  2.10s/it]\n",
      "Training (3226 / 18000 Steps) (loss=0.65897): 100%|██████████| 7/7 [00:14<00:00,  2.11s/it]\n",
      "Training (3233 / 18000 Steps) (loss=0.67133): 100%|██████████| 7/7 [00:14<00:00,  2.12s/it]\n",
      "Training (3240 / 18000 Steps) (loss=0.50221): 100%|██████████| 7/7 [00:14<00:00,  2.13s/it]\n",
      "Training (3247 / 18000 Steps) (loss=0.42959): 100%|██████████| 7/7 [00:15<00:00,  2.14s/it]\n",
      "Training (3254 / 18000 Steps) (loss=0.45226): 100%|██████████| 7/7 [00:15<00:00,  2.19s/it]\n",
      "Training (3261 / 18000 Steps) (loss=0.64903): 100%|██████████| 7/7 [00:14<00:00,  2.12s/it]\n",
      "Training (3268 / 18000 Steps) (loss=0.52204): 100%|██████████| 7/7 [00:15<00:00,  2.15s/it]\n",
      "Training (3275 / 18000 Steps) (loss=0.56146): 100%|██████████| 7/7 [00:14<00:00,  2.12s/it]\n",
      "Training (3282 / 18000 Steps) (loss=0.40330): 100%|██████████| 7/7 [00:14<00:00,  2.09s/it]\n",
      "Training (3289 / 18000 Steps) (loss=0.63020): 100%|██████████| 7/7 [00:14<00:00,  2.14s/it]\n",
      "Training (3296 / 18000 Steps) (loss=0.37877): 100%|██████████| 7/7 [00:14<00:00,  2.09s/it]\n",
      "Validate (3297 / 10 Steps): 100%|██████████| 2/2 [00:08<00:00,  4.30s/it]<00:09,  2.45s/it]\n",
      "Training (3300 / 18000 Steps) (loss=0.47567):  57%|█████▋    | 4/7 [00:18<00:16,  5.60s/it]"
     ]
    },
    {
     "name": "stdout",
     "output_type": "stream",
     "text": [
      "Model Was Not Saved ! Current Best Avg. Dice: 0.30736684799194336 Current Avg. Dice: 0.27168387174606323 Current Avg. tumor Dice: 0.2940584421157837 Current Avg. lymph Dice: 0.24930930137634277\n"
     ]
    },
    {
     "name": "stderr",
     "output_type": "stream",
     "text": [
      "Training (3303 / 18000 Steps) (loss=0.50873): 100%|██████████| 7/7 [00:23<00:00,  3.39s/it]\n",
      "Training (3310 / 18000 Steps) (loss=0.44851): 100%|██████████| 7/7 [00:14<00:00,  2.08s/it]\n",
      "Training (3317 / 18000 Steps) (loss=0.55816): 100%|██████████| 7/7 [00:14<00:00,  2.09s/it]\n",
      "Training (3324 / 18000 Steps) (loss=0.59508): 100%|██████████| 7/7 [00:15<00:00,  2.15s/it]\n",
      "Training (3331 / 18000 Steps) (loss=0.48503): 100%|██████████| 7/7 [00:14<00:00,  2.12s/it]\n",
      "Training (3338 / 18000 Steps) (loss=0.31230): 100%|██████████| 7/7 [00:14<00:00,  2.11s/it]\n",
      "Training (3345 / 18000 Steps) (loss=0.42926): 100%|██████████| 7/7 [00:14<00:00,  2.12s/it]\n",
      "Training (3352 / 18000 Steps) (loss=0.52856): 100%|██████████| 7/7 [00:15<00:00,  2.17s/it]\n",
      "Training (3359 / 18000 Steps) (loss=0.43962): 100%|██████████| 7/7 [00:14<00:00,  2.11s/it]\n",
      "Training (3366 / 18000 Steps) (loss=0.51244): 100%|██████████| 7/7 [00:14<00:00,  2.12s/it]\n",
      "Training (3373 / 18000 Steps) (loss=0.48581): 100%|██████████| 7/7 [00:14<00:00,  2.13s/it]\n",
      "Training (3380 / 18000 Steps) (loss=0.42025): 100%|██████████| 7/7 [00:14<00:00,  2.08s/it]\n",
      "Training (3387 / 18000 Steps) (loss=0.58818): 100%|██████████| 7/7 [00:14<00:00,  2.13s/it]\n",
      "Training (3394 / 18000 Steps) (loss=0.42192): 100%|██████████| 7/7 [00:14<00:00,  2.14s/it]\n",
      "Validate (3395 / 10 Steps): 100%|██████████| 2/2 [00:08<00:00,  4.40s/it]<00:04,  2.06s/it]\n",
      "Training (3400 / 18000 Steps) (loss=0.47357):  86%|████████▌ | 6/7 [00:22<00:04,  4.98s/it]"
     ]
    },
    {
     "name": "stdout",
     "output_type": "stream",
     "text": [
      "Model Was Not Saved ! Current Best Avg. Dice: 0.30736684799194336 Current Avg. Dice: 0.25135180354118347 Current Avg. tumor Dice: 0.21911485493183136 Current Avg. lymph Dice: 0.2835887670516968\n"
     ]
    },
    {
     "name": "stderr",
     "output_type": "stream",
     "text": [
      "Training (3401 / 18000 Steps) (loss=0.51049): 100%|██████████| 7/7 [00:23<00:00,  3.43s/it]\n",
      "Training (3408 / 18000 Steps) (loss=0.59018): 100%|██████████| 7/7 [00:15<00:00,  2.16s/it]\n",
      "Training (3415 / 18000 Steps) (loss=0.38087): 100%|██████████| 7/7 [00:14<00:00,  2.13s/it]\n",
      "Training (3422 / 18000 Steps) (loss=0.40384): 100%|██████████| 7/7 [00:14<00:00,  2.09s/it]\n",
      "Training (3429 / 18000 Steps) (loss=0.61991): 100%|██████████| 7/7 [00:14<00:00,  2.10s/it]\n",
      "Training (3436 / 18000 Steps) (loss=0.54850): 100%|██████████| 7/7 [00:14<00:00,  2.14s/it]\n",
      "Training (3443 / 18000 Steps) (loss=0.57939): 100%|██████████| 7/7 [00:15<00:00,  2.15s/it]\n",
      "Training (3450 / 18000 Steps) (loss=0.62408): 100%|██████████| 7/7 [00:15<00:00,  2.19s/it]\n",
      "Training (3457 / 18000 Steps) (loss=0.68075): 100%|██████████| 7/7 [00:15<00:00,  2.17s/it]\n",
      "Training (3464 / 18000 Steps) (loss=0.51429): 100%|██████████| 7/7 [00:14<00:00,  2.10s/it]\n",
      "Training (3471 / 18000 Steps) (loss=0.30993): 100%|██████████| 7/7 [00:15<00:00,  2.17s/it]\n",
      "Training (3478 / 18000 Steps) (loss=0.56005): 100%|██████████| 7/7 [00:14<00:00,  2.10s/it]\n",
      "Training (3485 / 18000 Steps) (loss=0.51972): 100%|██████████| 7/7 [00:14<00:00,  2.13s/it]\n",
      "Training (3492 / 18000 Steps) (loss=0.49458): 100%|██████████| 7/7 [00:15<00:00,  2.18s/it]\n",
      "Training (3499 / 18000 Steps) (loss=0.37425): 100%|██████████| 7/7 [00:14<00:00,  2.14s/it]\n",
      "Validate (3500 / 10 Steps): 100%|██████████| 2/2 [00:08<00:00,  4.35s/it]<?, ?it/s]\n",
      "Training (3500 / 18000 Steps) (loss=0.43958):  14%|█▍        | 1/7 [00:13<01:19, 13.29s/it]"
     ]
    },
    {
     "name": "stdout",
     "output_type": "stream",
     "text": [
      "Model Was Not Saved ! Current Best Avg. Dice: 0.30736684799194336 Current Avg. Dice: 0.274804025888443 Current Avg. tumor Dice: 0.2687414288520813 Current Avg. lymph Dice: 0.2808666229248047\n"
     ]
    },
    {
     "name": "stderr",
     "output_type": "stream",
     "text": [
      "Training (3506 / 18000 Steps) (loss=0.57101): 100%|██████████| 7/7 [00:23<00:00,  3.38s/it]\n",
      "Training (3513 / 18000 Steps) (loss=0.22183): 100%|██████████| 7/7 [00:14<00:00,  2.14s/it]\n",
      "Training (3520 / 18000 Steps) (loss=0.59373): 100%|██████████| 7/7 [00:14<00:00,  2.13s/it]\n",
      "Training (3527 / 18000 Steps) (loss=0.42016): 100%|██████████| 7/7 [00:14<00:00,  2.12s/it]\n",
      "Training (3534 / 18000 Steps) (loss=0.53125): 100%|██████████| 7/7 [00:15<00:00,  2.19s/it]\n",
      "Training (3541 / 18000 Steps) (loss=0.48613): 100%|██████████| 7/7 [00:15<00:00,  2.18s/it]\n",
      "Training (3548 / 18000 Steps) (loss=0.45748): 100%|██████████| 7/7 [00:14<00:00,  2.11s/it]\n",
      "Training (3555 / 18000 Steps) (loss=0.47411): 100%|██████████| 7/7 [00:14<00:00,  2.13s/it]\n",
      "Training (3562 / 18000 Steps) (loss=0.37322): 100%|██████████| 7/7 [00:14<00:00,  2.13s/it]\n",
      "Training (3569 / 18000 Steps) (loss=0.45880): 100%|██████████| 7/7 [00:15<00:00,  2.15s/it]\n",
      "Training (3576 / 18000 Steps) (loss=0.43232): 100%|██████████| 7/7 [00:15<00:00,  2.17s/it]\n",
      "Training (3583 / 18000 Steps) (loss=0.43879): 100%|██████████| 7/7 [00:15<00:00,  2.16s/it]\n",
      "Training (3590 / 18000 Steps) (loss=0.46937): 100%|██████████| 7/7 [00:14<00:00,  2.12s/it]\n",
      "Training (3597 / 18000 Steps) (loss=0.55806): 100%|██████████| 7/7 [00:14<00:00,  2.12s/it]\n",
      "Validate (3598 / 10 Steps): 100%|██████████| 2/2 [00:08<00:00,  4.35s/it]<00:14,  2.96s/it]\n",
      "Training (3600 / 18000 Steps) (loss=0.42787):  43%|████▎     | 3/7 [00:16<00:25,  6.42s/it]"
     ]
    },
    {
     "name": "stdout",
     "output_type": "stream",
     "text": [
      "Model Was Not Saved ! Current Best Avg. Dice: 0.30736684799194336 Current Avg. Dice: 0.27373459935188293 Current Avg. tumor Dice: 0.23175519704818726 Current Avg. lymph Dice: 0.3157139718532562\n"
     ]
    },
    {
     "name": "stderr",
     "output_type": "stream",
     "text": [
      "Training (3604 / 18000 Steps) (loss=0.42774): 100%|██████████| 7/7 [00:23<00:00,  3.40s/it]\n",
      "Training (3611 / 18000 Steps) (loss=0.52300): 100%|██████████| 7/7 [00:15<00:00,  2.17s/it]\n",
      "Training (3618 / 18000 Steps) (loss=0.40837): 100%|██████████| 7/7 [00:14<00:00,  2.12s/it]\n",
      "Training (3625 / 18000 Steps) (loss=0.59571): 100%|██████████| 7/7 [00:15<00:00,  2.18s/it]\n",
      "Training (3632 / 18000 Steps) (loss=0.41226): 100%|██████████| 7/7 [00:14<00:00,  2.11s/it]\n",
      "Training (3639 / 18000 Steps) (loss=0.51935): 100%|██████████| 7/7 [00:14<00:00,  2.11s/it]\n",
      "Training (3646 / 18000 Steps) (loss=0.43632): 100%|██████████| 7/7 [00:14<00:00,  2.10s/it]\n",
      "Training (3653 / 18000 Steps) (loss=0.62258): 100%|██████████| 7/7 [00:14<00:00,  2.13s/it]\n",
      "Training (3660 / 18000 Steps) (loss=0.49376): 100%|██████████| 7/7 [00:14<00:00,  2.12s/it]\n",
      "Training (3667 / 18000 Steps) (loss=0.61216): 100%|██████████| 7/7 [00:14<00:00,  2.14s/it]\n",
      "Training (3674 / 18000 Steps) (loss=0.50785): 100%|██████████| 7/7 [00:15<00:00,  2.20s/it]\n",
      "Training (3681 / 18000 Steps) (loss=0.54569): 100%|██████████| 7/7 [00:14<00:00,  2.09s/it]\n",
      "Training (3688 / 18000 Steps) (loss=0.54049): 100%|██████████| 7/7 [00:14<00:00,  2.09s/it]\n",
      "Training (3695 / 18000 Steps) (loss=0.64431): 100%|██████████| 7/7 [00:15<00:00,  2.19s/it]\n",
      "Validate (3696 / 10 Steps): 100%|██████████| 2/2 [00:08<00:00,  4.39s/it]<00:06,  2.21s/it]\n",
      "Training (3700 / 18000 Steps) (loss=0.46943):  71%|███████▏  | 5/7 [00:20<00:10,  5.27s/it]"
     ]
    },
    {
     "name": "stdout",
     "output_type": "stream",
     "text": [
      "Model Was Not Saved ! Current Best Avg. Dice: 0.30736684799194336 Current Avg. Dice: 0.2946166694164276 Current Avg. tumor Dice: 0.29747843742370605 Current Avg. lymph Dice: 0.2917548716068268\n"
     ]
    },
    {
     "name": "stderr",
     "output_type": "stream",
     "text": [
      "Training (3702 / 18000 Steps) (loss=0.42581): 100%|██████████| 7/7 [00:23<00:00,  3.42s/it]\n",
      "Training (3709 / 18000 Steps) (loss=0.57998): 100%|██████████| 7/7 [00:15<00:00,  2.17s/it]\n",
      "Training (3716 / 18000 Steps) (loss=0.62711): 100%|██████████| 7/7 [00:15<00:00,  2.16s/it]\n",
      "Training (3723 / 18000 Steps) (loss=0.53276): 100%|██████████| 7/7 [00:14<00:00,  2.08s/it]\n",
      "Training (3730 / 18000 Steps) (loss=0.52226): 100%|██████████| 7/7 [00:14<00:00,  2.12s/it]\n",
      "Training (3737 / 18000 Steps) (loss=0.40642): 100%|██████████| 7/7 [00:15<00:00,  2.16s/it]\n",
      "Training (3744 / 18000 Steps) (loss=0.52574): 100%|██████████| 7/7 [00:14<00:00,  2.13s/it]\n",
      "Training (3751 / 18000 Steps) (loss=0.39359): 100%|██████████| 7/7 [00:15<00:00,  2.16s/it]\n",
      "Training (3758 / 18000 Steps) (loss=0.53320): 100%|██████████| 7/7 [00:15<00:00,  2.20s/it]\n",
      "Training (3765 / 18000 Steps) (loss=0.53657): 100%|██████████| 7/7 [00:14<00:00,  2.09s/it]\n",
      "Training (3772 / 18000 Steps) (loss=0.48250): 100%|██████████| 7/7 [00:14<00:00,  2.09s/it]\n",
      "Training (3779 / 18000 Steps) (loss=0.32067): 100%|██████████| 7/7 [00:15<00:00,  2.16s/it]\n",
      "Training (3786 / 18000 Steps) (loss=0.50443): 100%|██████████| 7/7 [00:14<00:00,  2.12s/it]\n",
      "Training (3793 / 18000 Steps) (loss=0.46957): 100%|██████████| 7/7 [00:14<00:00,  2.08s/it]\n",
      "Validate (3794 / 10 Steps): 100%|██████████| 2/2 [00:08<00:00,  4.29s/it]<00:01,  1.94s/it]\n",
      "Training (3800 / 18000 Steps) (loss=0.59523): 100%|██████████| 7/7 [00:23<00:00,  3.32s/it]\n"
     ]
    },
    {
     "name": "stdout",
     "output_type": "stream",
     "text": [
      "Model Was Not Saved ! Current Best Avg. Dice: 0.30736684799194336 Current Avg. Dice: 0.2967568337917328 Current Avg. tumor Dice: 0.2689216732978821 Current Avg. lymph Dice: 0.3245919942855835\n"
     ]
    },
    {
     "name": "stderr",
     "output_type": "stream",
     "text": [
      "Training (3807 / 18000 Steps) (loss=0.27657): 100%|██████████| 7/7 [00:14<00:00,  2.14s/it]\n",
      "Training (3814 / 18000 Steps) (loss=0.56082): 100%|██████████| 7/7 [00:15<00:00,  2.16s/it]\n",
      "Training (3821 / 18000 Steps) (loss=0.48303): 100%|██████████| 7/7 [00:14<00:00,  2.11s/it]\n",
      "Training (3828 / 18000 Steps) (loss=0.33947): 100%|██████████| 7/7 [00:14<00:00,  2.11s/it]\n",
      "Training (3835 / 18000 Steps) (loss=0.37938): 100%|██████████| 7/7 [00:15<00:00,  2.16s/it]\n",
      "Training (3842 / 18000 Steps) (loss=0.40891): 100%|██████████| 7/7 [00:15<00:00,  2.15s/it]\n",
      "Training (3849 / 18000 Steps) (loss=0.36853): 100%|██████████| 7/7 [00:14<00:00,  2.11s/it]\n",
      "Training (3856 / 18000 Steps) (loss=0.50226): 100%|██████████| 7/7 [00:14<00:00,  2.13s/it]\n",
      "Training (3863 / 18000 Steps) (loss=0.44996): 100%|██████████| 7/7 [00:15<00:00,  2.21s/it]\n",
      "Training (3870 / 18000 Steps) (loss=0.41755): 100%|██████████| 7/7 [00:14<00:00,  2.11s/it]\n",
      "Training (3877 / 18000 Steps) (loss=0.44575): 100%|██████████| 7/7 [00:15<00:00,  2.16s/it]\n",
      "Training (3884 / 18000 Steps) (loss=0.53571): 100%|██████████| 7/7 [00:14<00:00,  2.11s/it]\n",
      "Training (3891 / 18000 Steps) (loss=0.42564): 100%|██████████| 7/7 [00:14<00:00,  2.11s/it]\n",
      "Training (3898 / 18000 Steps) (loss=0.42065): 100%|██████████| 7/7 [00:14<00:00,  2.13s/it]\n",
      "Validate (3899 / 10 Steps): 100%|██████████| 2/2 [00:08<00:00,  4.47s/it]<00:29,  4.88s/it]\n",
      "Training (3900 / 18000 Steps) (loss=0.52395):  29%|██▊       | 2/7 [00:15<00:41,  8.36s/it]"
     ]
    },
    {
     "name": "stdout",
     "output_type": "stream",
     "text": [
      "Model Was Not Saved ! Current Best Avg. Dice: 0.30736684799194336 Current Avg. Dice: 0.2698565721511841 Current Avg. tumor Dice: 0.2436310052871704 Current Avg. lymph Dice: 0.29608219861984253\n"
     ]
    },
    {
     "name": "stderr",
     "output_type": "stream",
     "text": [
      "Training (3905 / 18000 Steps) (loss=0.53897): 100%|██████████| 7/7 [00:24<00:00,  3.45s/it]\n",
      "Training (3912 / 18000 Steps) (loss=0.55697): 100%|██████████| 7/7 [00:14<00:00,  2.14s/it]\n",
      "Training (3919 / 18000 Steps) (loss=0.53598): 100%|██████████| 7/7 [00:14<00:00,  2.13s/it]\n",
      "Training (3926 / 18000 Steps) (loss=0.45338): 100%|██████████| 7/7 [00:14<00:00,  2.13s/it]\n",
      "Training (3933 / 18000 Steps) (loss=0.53769): 100%|██████████| 7/7 [00:14<00:00,  2.12s/it]\n",
      "Training (3940 / 18000 Steps) (loss=0.56878): 100%|██████████| 7/7 [00:15<00:00,  2.15s/it]\n",
      "Training (3947 / 18000 Steps) (loss=0.43913): 100%|██████████| 7/7 [00:15<00:00,  2.16s/it]\n",
      "Training (3954 / 18000 Steps) (loss=0.43625): 100%|██████████| 7/7 [00:14<00:00,  2.10s/it]\n",
      "Training (3961 / 18000 Steps) (loss=0.49057): 100%|██████████| 7/7 [00:15<00:00,  2.15s/it]\n",
      "Training (3968 / 18000 Steps) (loss=0.32192): 100%|██████████| 7/7 [00:14<00:00,  2.10s/it]\n",
      "Training (3975 / 18000 Steps) (loss=0.33448): 100%|██████████| 7/7 [00:14<00:00,  2.11s/it]\n",
      "Training (3982 / 18000 Steps) (loss=0.48939): 100%|██████████| 7/7 [00:14<00:00,  2.10s/it]\n",
      "Training (3989 / 18000 Steps) (loss=0.32436): 100%|██████████| 7/7 [00:14<00:00,  2.10s/it]\n",
      "Training (3996 / 18000 Steps) (loss=0.57981): 100%|██████████| 7/7 [00:15<00:00,  2.19s/it]\n",
      "Validate (3997 / 10 Steps): 100%|██████████| 2/2 [00:08<00:00,  4.34s/it]<00:09,  2.37s/it]\n",
      "Training (4000 / 18000 Steps) (loss=0.50021):  57%|█████▋    | 4/7 [00:18<00:16,  5.58s/it]"
     ]
    },
    {
     "name": "stdout",
     "output_type": "stream",
     "text": [
      "Model Was Not Saved ! Current Best Avg. Dice: 0.30736684799194336 Current Avg. Dice: 0.2679562270641327 Current Avg. tumor Dice: 0.28114864230155945 Current Avg. lymph Dice: 0.25476381182670593\n"
     ]
    },
    {
     "name": "stderr",
     "output_type": "stream",
     "text": [
      "Training (4003 / 18000 Steps) (loss=0.48173): 100%|██████████| 7/7 [00:23<00:00,  3.32s/it]\n",
      "Training (4010 / 18000 Steps) (loss=0.51146): 100%|██████████| 7/7 [00:14<00:00,  2.14s/it]\n",
      "Training (4017 / 18000 Steps) (loss=0.42047): 100%|██████████| 7/7 [00:14<00:00,  2.11s/it]\n",
      "Training (4024 / 18000 Steps) (loss=0.30781): 100%|██████████| 7/7 [00:15<00:00,  2.15s/it]\n",
      "Training (4031 / 18000 Steps) (loss=0.36249): 100%|██████████| 7/7 [00:14<00:00,  2.12s/it]\n",
      "Training (4038 / 18000 Steps) (loss=0.33374): 100%|██████████| 7/7 [00:14<00:00,  2.11s/it]\n",
      "Training (4045 / 18000 Steps) (loss=0.47339): 100%|██████████| 7/7 [00:15<00:00,  2.15s/it]\n",
      "Training (4052 / 18000 Steps) (loss=0.63044): 100%|██████████| 7/7 [00:15<00:00,  2.16s/it]\n",
      "Training (4059 / 18000 Steps) (loss=0.35443): 100%|██████████| 7/7 [00:14<00:00,  2.08s/it]\n",
      "Training (4066 / 18000 Steps) (loss=0.25959): 100%|██████████| 7/7 [00:15<00:00,  2.15s/it]\n",
      "Training (4073 / 18000 Steps) (loss=0.35985): 100%|██████████| 7/7 [00:14<00:00,  2.14s/it]\n",
      "Training (4080 / 18000 Steps) (loss=0.65866): 100%|██████████| 7/7 [00:15<00:00,  2.16s/it]\n",
      "Training (4087 / 18000 Steps) (loss=0.56545): 100%|██████████| 7/7 [00:14<00:00,  2.08s/it]\n",
      "Training (4094 / 18000 Steps) (loss=0.53412): 100%|██████████| 7/7 [00:14<00:00,  2.12s/it]\n",
      "Validate (4095 / 10 Steps): 100%|██████████| 2/2 [00:08<00:00,  4.31s/it]<00:04,  2.06s/it]\n",
      "Training (4100 / 18000 Steps) (loss=0.55063):  86%|████████▌ | 6/7 [00:22<00:04,  4.92s/it]"
     ]
    },
    {
     "name": "stdout",
     "output_type": "stream",
     "text": [
      "Model Was Not Saved ! Current Best Avg. Dice: 0.30736684799194336 Current Avg. Dice: 0.2769099473953247 Current Avg. tumor Dice: 0.2724074125289917 Current Avg. lymph Dice: 0.2814125418663025\n"
     ]
    },
    {
     "name": "stderr",
     "output_type": "stream",
     "text": [
      "Training (4101 / 18000 Steps) (loss=0.48849): 100%|██████████| 7/7 [00:23<00:00,  3.37s/it]\n",
      "Training (4108 / 18000 Steps) (loss=0.44237): 100%|██████████| 7/7 [00:15<00:00,  2.16s/it]\n",
      "Training (4115 / 18000 Steps) (loss=0.59800): 100%|██████████| 7/7 [00:15<00:00,  2.19s/it]\n",
      "Training (4122 / 18000 Steps) (loss=0.54346): 100%|██████████| 7/7 [00:14<00:00,  2.11s/it]\n",
      "Training (4129 / 18000 Steps) (loss=0.52414): 100%|██████████| 7/7 [00:14<00:00,  2.11s/it]\n",
      "Training (4136 / 18000 Steps) (loss=0.56435): 100%|██████████| 7/7 [00:14<00:00,  2.11s/it]\n",
      "Training (4143 / 18000 Steps) (loss=0.53586): 100%|██████████| 7/7 [00:14<00:00,  2.11s/it]\n",
      "Training (4150 / 18000 Steps) (loss=0.44718): 100%|██████████| 7/7 [00:14<00:00,  2.12s/it]\n",
      "Training (4157 / 18000 Steps) (loss=0.42120): 100%|██████████| 7/7 [00:15<00:00,  2.15s/it]\n",
      "Training (4164 / 18000 Steps) (loss=0.55612): 100%|██████████| 7/7 [00:15<00:00,  2.20s/it]\n",
      "Training (4171 / 18000 Steps) (loss=0.41708): 100%|██████████| 7/7 [00:15<00:00,  2.18s/it]\n",
      "Training (4178 / 18000 Steps) (loss=0.46595): 100%|██████████| 7/7 [00:15<00:00,  2.17s/it]\n",
      "Training (4185 / 18000 Steps) (loss=0.42405): 100%|██████████| 7/7 [00:14<00:00,  2.12s/it]\n",
      "Training (4192 / 18000 Steps) (loss=0.43575): 100%|██████████| 7/7 [00:14<00:00,  2.12s/it]\n",
      "Training (4199 / 18000 Steps) (loss=0.39952): 100%|██████████| 7/7 [00:14<00:00,  2.13s/it]\n",
      "Validate (4200 / 10 Steps): 100%|██████████| 2/2 [00:08<00:00,  4.38s/it]<?, ?it/s]\n",
      "Training (4200 / 18000 Steps) (loss=0.41031):  14%|█▍        | 1/7 [00:13<01:20, 13.36s/it]"
     ]
    },
    {
     "name": "stdout",
     "output_type": "stream",
     "text": [
      "Model Was Not Saved ! Current Best Avg. Dice: 0.30736684799194336 Current Avg. Dice: 0.2663307785987854 Current Avg. tumor Dice: 0.3030160665512085 Current Avg. lymph Dice: 0.2296455204486847\n"
     ]
    },
    {
     "name": "stderr",
     "output_type": "stream",
     "text": [
      "Training (4206 / 18000 Steps) (loss=0.47587): 100%|██████████| 7/7 [00:23<00:00,  3.39s/it]\n",
      "Training (4213 / 18000 Steps) (loss=0.26452): 100%|██████████| 7/7 [00:15<00:00,  2.14s/it]\n",
      "Training (4220 / 18000 Steps) (loss=0.52422): 100%|██████████| 7/7 [00:14<00:00,  2.12s/it]\n",
      "Training (4227 / 18000 Steps) (loss=0.44164): 100%|██████████| 7/7 [00:15<00:00,  2.15s/it]\n",
      "Training (4234 / 18000 Steps) (loss=0.36401): 100%|██████████| 7/7 [00:14<00:00,  2.12s/it]\n",
      "Training (4241 / 18000 Steps) (loss=0.33289): 100%|██████████| 7/7 [00:15<00:00,  2.16s/it]\n",
      "Training (4248 / 18000 Steps) (loss=0.43331): 100%|██████████| 7/7 [00:15<00:00,  2.19s/it]\n",
      "Training (4255 / 18000 Steps) (loss=0.49046): 100%|██████████| 7/7 [00:15<00:00,  2.16s/it]\n",
      "Training (4262 / 18000 Steps) (loss=0.52674): 100%|██████████| 7/7 [00:15<00:00,  2.15s/it]\n",
      "Training (4269 / 18000 Steps) (loss=0.34089): 100%|██████████| 7/7 [00:14<00:00,  2.14s/it]\n",
      "Training (4276 / 18000 Steps) (loss=0.46410): 100%|██████████| 7/7 [00:14<00:00,  2.11s/it]\n",
      "Training (4283 / 18000 Steps) (loss=0.41784): 100%|██████████| 7/7 [00:15<00:00,  2.19s/it]\n",
      "Training (4290 / 18000 Steps) (loss=0.54408): 100%|██████████| 7/7 [00:15<00:00,  2.21s/it]\n",
      "Training (4297 / 18000 Steps) (loss=0.33486): 100%|██████████| 7/7 [00:15<00:00,  2.16s/it]\n",
      "Validate (4298 / 10 Steps): 100%|██████████| 2/2 [00:08<00:00,  4.29s/it]<00:14,  2.97s/it]\n",
      "Training (4300 / 18000 Steps) (loss=0.47153):  43%|████▎     | 3/7 [00:16<00:25,  6.37s/it]"
     ]
    },
    {
     "name": "stdout",
     "output_type": "stream",
     "text": [
      "Model Was Not Saved ! Current Best Avg. Dice: 0.30736684799194336 Current Avg. Dice: 0.29765233397483826 Current Avg. tumor Dice: 0.32643622159957886 Current Avg. lymph Dice: 0.26886844635009766\n"
     ]
    },
    {
     "name": "stderr",
     "output_type": "stream",
     "text": [
      "Training (4304 / 18000 Steps) (loss=0.34699): 100%|██████████| 7/7 [00:23<00:00,  3.35s/it]\n",
      "Training (4311 / 18000 Steps) (loss=0.39013): 100%|██████████| 7/7 [00:15<00:00,  2.19s/it]\n",
      "Training (4318 / 18000 Steps) (loss=0.43951): 100%|██████████| 7/7 [00:14<00:00,  2.14s/it]\n",
      "Training (4325 / 18000 Steps) (loss=0.56778): 100%|██████████| 7/7 [00:15<00:00,  2.15s/it]\n",
      "Training (4332 / 18000 Steps) (loss=0.48654): 100%|██████████| 7/7 [00:15<00:00,  2.15s/it]\n",
      "Training (4339 / 18000 Steps) (loss=0.48390): 100%|██████████| 7/7 [00:15<00:00,  2.15s/it]\n",
      "Training (4346 / 18000 Steps) (loss=0.43080): 100%|██████████| 7/7 [00:15<00:00,  2.18s/it]\n",
      "Training (4353 / 18000 Steps) (loss=0.57845): 100%|██████████| 7/7 [00:14<00:00,  2.11s/it]\n",
      "Training (4360 / 18000 Steps) (loss=0.47254): 100%|██████████| 7/7 [00:14<00:00,  2.13s/it]\n",
      "Training (4367 / 18000 Steps) (loss=0.48129): 100%|██████████| 7/7 [00:15<00:00,  2.17s/it]\n",
      "Training (4374 / 18000 Steps) (loss=0.55626): 100%|██████████| 7/7 [00:14<00:00,  2.13s/it]\n",
      "Training (4381 / 18000 Steps) (loss=0.35333): 100%|██████████| 7/7 [00:15<00:00,  2.25s/it]\n",
      "Training (4388 / 18000 Steps) (loss=0.56424): 100%|██████████| 7/7 [00:14<00:00,  2.13s/it]\n",
      "Training (4395 / 18000 Steps) (loss=0.57435): 100%|██████████| 7/7 [00:14<00:00,  2.12s/it]\n",
      "Validate (4396 / 10 Steps): 100%|██████████| 2/2 [00:08<00:00,  4.30s/it]<00:06,  2.18s/it]\n",
      "Training (4400 / 18000 Steps) (loss=0.43535):  71%|███████▏  | 5/7 [00:20<00:10,  5.16s/it]"
     ]
    },
    {
     "name": "stdout",
     "output_type": "stream",
     "text": [
      "Model Was Not Saved ! Current Best Avg. Dice: 0.30736684799194336 Current Avg. Dice: 0.26267167925834656 Current Avg. tumor Dice: 0.23117277026176453 Current Avg. lymph Dice: 0.2941705882549286\n"
     ]
    },
    {
     "name": "stderr",
     "output_type": "stream",
     "text": [
      "Training (4402 / 18000 Steps) (loss=0.61747): 100%|██████████| 7/7 [00:23<00:00,  3.36s/it]\n",
      "Training (4409 / 18000 Steps) (loss=0.59159): 100%|██████████| 7/7 [00:15<00:00,  2.21s/it]\n",
      "Training (4416 / 18000 Steps) (loss=0.29967): 100%|██████████| 7/7 [00:15<00:00,  2.19s/it]\n",
      "Training (4423 / 18000 Steps) (loss=0.39038): 100%|██████████| 7/7 [00:14<00:00,  2.12s/it]\n",
      "Training (4430 / 18000 Steps) (loss=0.51599): 100%|██████████| 7/7 [00:16<00:00,  2.40s/it]\n",
      "Training (4437 / 18000 Steps) (loss=0.44471): 100%|██████████| 7/7 [00:23<00:00,  3.34s/it]\n",
      "Training (4444 / 18000 Steps) (loss=0.60068): 100%|██████████| 7/7 [00:21<00:00,  3.00s/it]\n",
      "Training (4451 / 18000 Steps) (loss=0.49256): 100%|██████████| 7/7 [00:16<00:00,  2.42s/it]\n",
      "Training (4458 / 18000 Steps) (loss=0.57493): 100%|██████████| 7/7 [00:15<00:00,  2.18s/it]\n",
      "Training (4465 / 18000 Steps) (loss=0.61601): 100%|██████████| 7/7 [00:15<00:00,  2.16s/it]\n",
      "Training (4472 / 18000 Steps) (loss=0.57031): 100%|██████████| 7/7 [00:15<00:00,  2.16s/it]\n",
      "Training (4479 / 18000 Steps) (loss=0.36913): 100%|██████████| 7/7 [00:15<00:00,  2.16s/it]\n",
      "Training (4486 / 18000 Steps) (loss=0.54408): 100%|██████████| 7/7 [00:14<00:00,  2.13s/it]\n",
      "Training (4493 / 18000 Steps) (loss=0.67380): 100%|██████████| 7/7 [00:15<00:00,  2.17s/it]\n",
      "Validate (4494 / 10 Steps): 100%|██████████| 2/2 [00:08<00:00,  4.33s/it]<00:01,  1.97s/it]\n",
      "Training (4500 / 18000 Steps) (loss=0.38187): 100%|██████████| 7/7 [00:23<00:00,  3.39s/it]\n"
     ]
    },
    {
     "name": "stdout",
     "output_type": "stream",
     "text": [
      "Model Was Not Saved ! Current Best Avg. Dice: 0.30736684799194336 Current Avg. Dice: 0.2779594659805298 Current Avg. tumor Dice: 0.2661929130554199 Current Avg. lymph Dice: 0.28972601890563965\n"
     ]
    },
    {
     "name": "stderr",
     "output_type": "stream",
     "text": [
      "Training (4507 / 18000 Steps) (loss=0.37014): 100%|██████████| 7/7 [00:15<00:00,  2.20s/it]\n",
      "Training (4514 / 18000 Steps) (loss=0.42296): 100%|██████████| 7/7 [00:15<00:00,  2.17s/it]\n",
      "Training (4521 / 18000 Steps) (loss=0.43026): 100%|██████████| 7/7 [00:15<00:00,  2.15s/it]\n",
      "Training (4528 / 18000 Steps) (loss=0.35885): 100%|██████████| 7/7 [00:14<00:00,  2.13s/it]\n",
      "Training (4535 / 18000 Steps) (loss=0.38883): 100%|██████████| 7/7 [00:15<00:00,  2.18s/it]\n",
      "Training (4542 / 18000 Steps) (loss=0.54322): 100%|██████████| 7/7 [00:15<00:00,  2.17s/it]\n",
      "Training (4549 / 18000 Steps) (loss=0.65844): 100%|██████████| 7/7 [00:14<00:00,  2.13s/it]\n",
      "Training (4556 / 18000 Steps) (loss=0.24647): 100%|██████████| 7/7 [00:15<00:00,  2.18s/it]\n",
      "Training (4563 / 18000 Steps) (loss=0.46125): 100%|██████████| 7/7 [00:15<00:00,  2.20s/it]\n",
      "Training (4570 / 18000 Steps) (loss=0.41856): 100%|██████████| 7/7 [00:14<00:00,  2.11s/it]\n",
      "Training (4577 / 18000 Steps) (loss=0.46428): 100%|██████████| 7/7 [00:15<00:00,  2.15s/it]\n",
      "Training (4584 / 18000 Steps) (loss=0.47579): 100%|██████████| 7/7 [00:14<00:00,  2.10s/it]\n",
      "Training (4591 / 18000 Steps) (loss=0.42618): 100%|██████████| 7/7 [00:14<00:00,  2.11s/it]\n",
      "Training (4598 / 18000 Steps) (loss=0.55608): 100%|██████████| 7/7 [00:15<00:00,  2.18s/it]\n",
      "Validate (4599 / 10 Steps): 100%|██████████| 2/2 [00:08<00:00,  4.32s/it]<00:28,  4.67s/it]\n",
      "Training (4600 / 18000 Steps) (loss=0.35017):  29%|██▊       | 2/7 [00:15<00:40,  8.09s/it]"
     ]
    },
    {
     "name": "stdout",
     "output_type": "stream",
     "text": [
      "Model Was Not Saved ! Current Best Avg. Dice: 0.30736684799194336 Current Avg. Dice: 0.30639129877090454 Current Avg. tumor Dice: 0.30659249424934387 Current Avg. lymph Dice: 0.3061901330947876\n"
     ]
    },
    {
     "name": "stderr",
     "output_type": "stream",
     "text": [
      "Training (4605 / 18000 Steps) (loss=0.47997): 100%|██████████| 7/7 [00:23<00:00,  3.39s/it]\n",
      "Training (4612 / 18000 Steps) (loss=0.42725): 100%|██████████| 7/7 [00:15<00:00,  2.20s/it]\n",
      "Training (4619 / 18000 Steps) (loss=0.58040): 100%|██████████| 7/7 [00:14<00:00,  2.14s/it]\n",
      "Training (4626 / 18000 Steps) (loss=0.55653): 100%|██████████| 7/7 [00:15<00:00,  2.15s/it]\n",
      "Training (4633 / 18000 Steps) (loss=0.31552): 100%|██████████| 7/7 [00:15<00:00,  2.15s/it]\n",
      "Training (4640 / 18000 Steps) (loss=0.58403): 100%|██████████| 7/7 [00:15<00:00,  2.19s/it]\n",
      "Training (4647 / 18000 Steps) (loss=0.53725): 100%|██████████| 7/7 [00:15<00:00,  2.19s/it]\n",
      "Training (4654 / 18000 Steps) (loss=0.61752): 100%|██████████| 7/7 [00:15<00:00,  2.17s/it]\n",
      "Training (4661 / 18000 Steps) (loss=0.44335): 100%|██████████| 7/7 [00:15<00:00,  2.16s/it]\n",
      "Training (4668 / 18000 Steps) (loss=0.39749): 100%|██████████| 7/7 [00:14<00:00,  2.12s/it]\n",
      "Training (4675 / 18000 Steps) (loss=0.34567): 100%|██████████| 7/7 [00:15<00:00,  2.15s/it]\n",
      "Training (4682 / 18000 Steps) (loss=0.49628): 100%|██████████| 7/7 [00:15<00:00,  2.19s/it]\n",
      "Training (4689 / 18000 Steps) (loss=0.66497): 100%|██████████| 7/7 [00:14<00:00,  2.12s/it]\n",
      "Training (4696 / 18000 Steps) (loss=0.44317): 100%|██████████| 7/7 [00:15<00:00,  2.19s/it]\n",
      "Validate (4697 / 10 Steps): 100%|██████████| 2/2 [00:08<00:00,  4.31s/it]<00:10,  2.50s/it]\n",
      "Training (4700 / 18000 Steps) (loss=0.47102):  57%|█████▋    | 4/7 [00:19<00:17,  5.98s/it]"
     ]
    },
    {
     "name": "stdout",
     "output_type": "stream",
     "text": [
      "Model Was Saved ! Current Best Avg. Dice: 0.32241082191467285 Current Avg. Dice: 0.32241082191467285 Current Avg. tumor Dice: 0.3043861389160156 Current Avg. lymph Dice: 0.34043553471565247\n"
     ]
    },
    {
     "name": "stderr",
     "output_type": "stream",
     "text": [
      "Training (4703 / 18000 Steps) (loss=0.29741): 100%|██████████| 7/7 [00:24<00:00,  3.54s/it]\n",
      "Training (4710 / 18000 Steps) (loss=0.28807): 100%|██████████| 7/7 [00:15<00:00,  2.17s/it]\n",
      "Training (4717 / 18000 Steps) (loss=0.56807): 100%|██████████| 7/7 [00:15<00:00,  2.15s/it]\n",
      "Training (4724 / 18000 Steps) (loss=0.63007): 100%|██████████| 7/7 [00:14<00:00,  2.13s/it]\n",
      "Training (4731 / 18000 Steps) (loss=0.21013): 100%|██████████| 7/7 [00:15<00:00,  2.23s/it]\n",
      "Training (4738 / 18000 Steps) (loss=0.39315): 100%|██████████| 7/7 [00:15<00:00,  2.16s/it]\n",
      "Training (4745 / 18000 Steps) (loss=0.30693): 100%|██████████| 7/7 [00:15<00:00,  2.18s/it]\n",
      "Training (4752 / 18000 Steps) (loss=0.33565): 100%|██████████| 7/7 [00:14<00:00,  2.12s/it]\n",
      "Training (4759 / 18000 Steps) (loss=0.37741): 100%|██████████| 7/7 [00:15<00:00,  2.18s/it]\n",
      "Training (4766 / 18000 Steps) (loss=0.54688): 100%|██████████| 7/7 [00:14<00:00,  2.13s/it]\n",
      "Training (4773 / 18000 Steps) (loss=0.33105): 100%|██████████| 7/7 [00:14<00:00,  2.13s/it]\n",
      "Training (4780 / 18000 Steps) (loss=0.48265): 100%|██████████| 7/7 [00:15<00:00,  2.21s/it]\n",
      "Training (4787 / 18000 Steps) (loss=0.29261): 100%|██████████| 7/7 [00:14<00:00,  2.12s/it]\n",
      "Training (4794 / 18000 Steps) (loss=0.53010): 100%|██████████| 7/7 [00:15<00:00,  2.17s/it]\n",
      "Validate (4795 / 10 Steps): 100%|██████████| 2/2 [00:08<00:00,  4.31s/it]<00:04,  2.07s/it]\n",
      "Training (4800 / 18000 Steps) (loss=0.45423):  86%|████████▌ | 6/7 [00:22<00:04,  4.92s/it]"
     ]
    },
    {
     "name": "stdout",
     "output_type": "stream",
     "text": [
      "Model Was Not Saved ! Current Best Avg. Dice: 0.32241082191467285 Current Avg. Dice: 0.2941354513168335 Current Avg. tumor Dice: 0.2713812291622162 Current Avg. lymph Dice: 0.3168896436691284\n"
     ]
    },
    {
     "name": "stderr",
     "output_type": "stream",
     "text": [
      "Training (4801 / 18000 Steps) (loss=0.50362): 100%|██████████| 7/7 [00:23<00:00,  3.39s/it]\n",
      "Training (4808 / 18000 Steps) (loss=0.36679): 100%|██████████| 7/7 [00:14<00:00,  2.14s/it]\n",
      "Training (4815 / 18000 Steps) (loss=0.33378): 100%|██████████| 7/7 [00:15<00:00,  2.19s/it]\n",
      "Training (4822 / 18000 Steps) (loss=0.48221): 100%|██████████| 7/7 [00:14<00:00,  2.10s/it]\n",
      "Training (4829 / 18000 Steps) (loss=0.62878): 100%|██████████| 7/7 [00:14<00:00,  2.10s/it]\n",
      "Training (4836 / 18000 Steps) (loss=0.37148): 100%|██████████| 7/7 [00:14<00:00,  2.12s/it]\n",
      "Training (4843 / 18000 Steps) (loss=0.46568): 100%|██████████| 7/7 [00:15<00:00,  2.17s/it]\n",
      "Training (4850 / 18000 Steps) (loss=0.22443): 100%|██████████| 7/7 [00:14<00:00,  2.13s/it]\n",
      "Training (4857 / 18000 Steps) (loss=0.30960): 100%|██████████| 7/7 [00:15<00:00,  2.15s/it]\n",
      "Training (4864 / 18000 Steps) (loss=0.29698): 100%|██████████| 7/7 [00:14<00:00,  2.11s/it]\n",
      "Training (4871 / 18000 Steps) (loss=0.48055): 100%|██████████| 7/7 [00:15<00:00,  2.16s/it]\n",
      "Training (4878 / 18000 Steps) (loss=0.55651): 100%|██████████| 7/7 [00:14<00:00,  2.11s/it]\n",
      "Training (4885 / 18000 Steps) (loss=0.41474): 100%|██████████| 7/7 [00:14<00:00,  2.13s/it]\n",
      "Training (4892 / 18000 Steps) (loss=0.33033): 100%|██████████| 7/7 [00:15<00:00,  2.14s/it]\n",
      "Training (4899 / 18000 Steps) (loss=0.46343): 100%|██████████| 7/7 [00:14<00:00,  2.12s/it]\n",
      "Validate (4900 / 10 Steps): 100%|██████████| 2/2 [00:08<00:00,  4.29s/it]<?, ?it/s]\n",
      "Training (4900 / 18000 Steps) (loss=0.60129):  14%|█▍        | 1/7 [00:13<01:18, 13.09s/it]"
     ]
    },
    {
     "name": "stdout",
     "output_type": "stream",
     "text": [
      "Model Was Not Saved ! Current Best Avg. Dice: 0.32241082191467285 Current Avg. Dice: 0.3128338158130646 Current Avg. tumor Dice: 0.267899751663208 Current Avg. lymph Dice: 0.35776787996292114\n"
     ]
    },
    {
     "name": "stderr",
     "output_type": "stream",
     "text": [
      "Training (4906 / 18000 Steps) (loss=0.42916): 100%|██████████| 7/7 [00:23<00:00,  3.36s/it]\n",
      "Training (4913 / 18000 Steps) (loss=0.36281): 100%|██████████| 7/7 [00:15<00:00,  2.18s/it]\n",
      "Training (4920 / 18000 Steps) (loss=0.34464): 100%|██████████| 7/7 [00:14<00:00,  2.10s/it]\n",
      "Training (4927 / 18000 Steps) (loss=0.62314): 100%|██████████| 7/7 [00:15<00:00,  2.17s/it]\n",
      "Training (4934 / 18000 Steps) (loss=0.49134): 100%|██████████| 7/7 [00:15<00:00,  2.15s/it]\n",
      "Training (4941 / 18000 Steps) (loss=0.42377): 100%|██████████| 7/7 [00:14<00:00,  2.14s/it]\n",
      "Training (4948 / 18000 Steps) (loss=0.50961): 100%|██████████| 7/7 [00:14<00:00,  2.12s/it]\n",
      "Training (4955 / 18000 Steps) (loss=0.38371): 100%|██████████| 7/7 [00:15<00:00,  2.15s/it]\n",
      "Training (4962 / 18000 Steps) (loss=0.51534): 100%|██████████| 7/7 [00:14<00:00,  2.13s/it]\n",
      "Training (4969 / 18000 Steps) (loss=0.59087): 100%|██████████| 7/7 [00:15<00:00,  2.19s/it]\n",
      "Training (4976 / 18000 Steps) (loss=0.33415): 100%|██████████| 7/7 [00:15<00:00,  2.20s/it]\n",
      "Training (4983 / 18000 Steps) (loss=0.31029): 100%|██████████| 7/7 [00:15<00:00,  2.15s/it]\n",
      "Training (4990 / 18000 Steps) (loss=0.54803): 100%|██████████| 7/7 [00:14<00:00,  2.12s/it]\n",
      "Training (4997 / 18000 Steps) (loss=0.56235): 100%|██████████| 7/7 [00:15<00:00,  2.19s/it]\n",
      "Validate (4998 / 10 Steps): 100%|██████████| 2/2 [00:08<00:00,  4.34s/it]<00:14,  2.97s/it]\n",
      "Training (5000 / 18000 Steps) (loss=0.36782):  43%|████▎     | 3/7 [00:16<00:25,  6.40s/it]"
     ]
    },
    {
     "name": "stdout",
     "output_type": "stream",
     "text": [
      "Model Was Not Saved ! Current Best Avg. Dice: 0.32241082191467285 Current Avg. Dice: 0.3216715455055237 Current Avg. tumor Dice: 0.3336206078529358 Current Avg. lymph Dice: 0.3097224533557892\n"
     ]
    },
    {
     "name": "stderr",
     "output_type": "stream",
     "text": [
      "Training (5004 / 18000 Steps) (loss=0.25956): 100%|██████████| 7/7 [00:23<00:00,  3.37s/it]\n",
      "Training (5011 / 18000 Steps) (loss=0.40217): 100%|██████████| 7/7 [00:15<00:00,  2.19s/it]\n",
      "Training (5018 / 18000 Steps) (loss=0.54294): 100%|██████████| 7/7 [00:15<00:00,  2.17s/it]\n",
      "Training (5025 / 18000 Steps) (loss=0.66781): 100%|██████████| 7/7 [00:15<00:00,  2.17s/it]\n",
      "Training (5032 / 18000 Steps) (loss=0.59601): 100%|██████████| 7/7 [00:14<00:00,  2.11s/it]\n",
      "Training (5039 / 18000 Steps) (loss=0.65167): 100%|██████████| 7/7 [00:14<00:00,  2.13s/it]\n",
      "Training (5046 / 18000 Steps) (loss=0.49822): 100%|██████████| 7/7 [00:14<00:00,  2.13s/it]\n",
      "Training (5053 / 18000 Steps) (loss=0.63146): 100%|██████████| 7/7 [00:15<00:00,  2.14s/it]\n",
      "Training (5060 / 18000 Steps) (loss=0.60910): 100%|██████████| 7/7 [00:15<00:00,  2.18s/it]\n",
      "Training (5067 / 18000 Steps) (loss=0.39074): 100%|██████████| 7/7 [00:14<00:00,  2.12s/it]\n",
      "Training (5074 / 18000 Steps) (loss=0.47406): 100%|██████████| 7/7 [00:15<00:00,  2.16s/it]\n",
      "Training (5081 / 18000 Steps) (loss=0.46276): 100%|██████████| 7/7 [00:14<00:00,  2.09s/it]\n",
      "Training (5088 / 18000 Steps) (loss=0.63357): 100%|██████████| 7/7 [00:15<00:00,  2.15s/it]\n",
      "Training (5095 / 18000 Steps) (loss=0.49843): 100%|██████████| 7/7 [00:14<00:00,  2.11s/it]\n",
      "Validate (5096 / 10 Steps): 100%|██████████| 2/2 [00:08<00:00,  4.32s/it]<00:06,  2.23s/it]\n",
      "Training (5100 / 18000 Steps) (loss=0.41369):  71%|███████▏  | 5/7 [00:20<00:10,  5.21s/it]"
     ]
    },
    {
     "name": "stdout",
     "output_type": "stream",
     "text": [
      "Model Was Not Saved ! Current Best Avg. Dice: 0.32241082191467285 Current Avg. Dice: 0.27978187799453735 Current Avg. tumor Dice: 0.2958435118198395 Current Avg. lymph Dice: 0.26372024416923523\n"
     ]
    },
    {
     "name": "stderr",
     "output_type": "stream",
     "text": [
      "Training (5102 / 18000 Steps) (loss=0.54944): 100%|██████████| 7/7 [00:23<00:00,  3.39s/it]\n",
      "Training (5109 / 18000 Steps) (loss=0.60780): 100%|██████████| 7/7 [00:15<00:00,  2.16s/it]\n",
      "Training (5116 / 18000 Steps) (loss=0.44881): 100%|██████████| 7/7 [00:15<00:00,  2.17s/it]\n",
      "Training (5123 / 18000 Steps) (loss=0.58246): 100%|██████████| 7/7 [00:15<00:00,  2.15s/it]\n",
      "Training (5130 / 18000 Steps) (loss=0.40252): 100%|██████████| 7/7 [00:14<00:00,  2.13s/it]\n",
      "Training (5137 / 18000 Steps) (loss=0.54875): 100%|██████████| 7/7 [00:14<00:00,  2.14s/it]\n",
      "Training (5144 / 18000 Steps) (loss=0.43139): 100%|██████████| 7/7 [00:15<00:00,  2.15s/it]\n",
      "Training (5151 / 18000 Steps) (loss=0.51467): 100%|██████████| 7/7 [00:14<00:00,  2.11s/it]\n",
      "Training (5158 / 18000 Steps) (loss=0.45542): 100%|██████████| 7/7 [00:15<00:00,  2.16s/it]\n",
      "Training (5165 / 18000 Steps) (loss=0.49863): 100%|██████████| 7/7 [00:15<00:00,  2.16s/it]\n",
      "Training (5172 / 18000 Steps) (loss=0.23870): 100%|██████████| 7/7 [00:14<00:00,  2.13s/it]\n",
      "Training (5179 / 18000 Steps) (loss=0.50684): 100%|██████████| 7/7 [00:14<00:00,  2.13s/it]\n",
      "Training (5186 / 18000 Steps) (loss=0.59153): 100%|██████████| 7/7 [00:15<00:00,  2.20s/it]\n",
      "Training (5193 / 18000 Steps) (loss=0.49854): 100%|██████████| 7/7 [00:14<00:00,  2.14s/it]\n",
      "Validate (5194 / 10 Steps): 100%|██████████| 2/2 [00:08<00:00,  4.28s/it]<00:01,  1.98s/it]\n",
      "Training (5200 / 18000 Steps) (loss=0.41898): 100%|██████████| 7/7 [00:24<00:00,  3.50s/it]\n"
     ]
    },
    {
     "name": "stdout",
     "output_type": "stream",
     "text": [
      "Model Was Saved ! Current Best Avg. Dice: 0.34272611141204834 Current Avg. Dice: 0.34272611141204834 Current Avg. tumor Dice: 0.38293927907943726 Current Avg. lymph Dice: 0.3025130033493042\n"
     ]
    },
    {
     "name": "stderr",
     "output_type": "stream",
     "text": [
      "Training (5207 / 18000 Steps) (loss=0.26718): 100%|██████████| 7/7 [00:15<00:00,  2.15s/it]\n",
      "Training (5214 / 18000 Steps) (loss=0.33771): 100%|██████████| 7/7 [00:14<00:00,  2.10s/it]\n",
      "Training (5221 / 18000 Steps) (loss=0.50595): 100%|██████████| 7/7 [00:14<00:00,  2.11s/it]\n",
      "Training (5228 / 18000 Steps) (loss=0.25704): 100%|██████████| 7/7 [00:15<00:00,  2.21s/it]\n",
      "Training (5235 / 18000 Steps) (loss=0.54740): 100%|██████████| 7/7 [00:15<00:00,  2.16s/it]\n",
      "Training (5242 / 18000 Steps) (loss=0.50837): 100%|██████████| 7/7 [00:15<00:00,  2.17s/it]\n",
      "Training (5249 / 18000 Steps) (loss=0.55342): 100%|██████████| 7/7 [00:15<00:00,  2.15s/it]\n",
      "Training (5256 / 18000 Steps) (loss=0.56225): 100%|██████████| 7/7 [00:14<00:00,  2.14s/it]\n",
      "Training (5263 / 18000 Steps) (loss=0.25585): 100%|██████████| 7/7 [00:14<00:00,  2.12s/it]\n",
      "Training (5270 / 18000 Steps) (loss=0.45283): 100%|██████████| 7/7 [00:14<00:00,  2.14s/it]\n",
      "Training (5277 / 18000 Steps) (loss=0.51811): 100%|██████████| 7/7 [00:15<00:00,  2.16s/it]\n",
      "Training (5284 / 18000 Steps) (loss=0.32699): 100%|██████████| 7/7 [00:15<00:00,  2.15s/it]\n",
      "Training (5291 / 18000 Steps) (loss=0.14989): 100%|██████████| 7/7 [00:15<00:00,  2.14s/it]\n",
      "Training (5298 / 18000 Steps) (loss=0.23219): 100%|██████████| 7/7 [00:14<00:00,  2.12s/it]\n",
      "Validate (5299 / 10 Steps): 100%|██████████| 2/2 [00:08<00:00,  4.33s/it]<00:27,  4.51s/it]\n",
      "Training (5300 / 18000 Steps) (loss=0.49844):  29%|██▊       | 2/7 [00:15<00:40,  8.03s/it]"
     ]
    },
    {
     "name": "stdout",
     "output_type": "stream",
     "text": [
      "Model Was Not Saved ! Current Best Avg. Dice: 0.34272611141204834 Current Avg. Dice: 0.25318410992622375 Current Avg. tumor Dice: 0.2522640824317932 Current Avg. lymph Dice: 0.2541041374206543\n"
     ]
    },
    {
     "name": "stderr",
     "output_type": "stream",
     "text": [
      "Training (5305 / 18000 Steps) (loss=0.41803): 100%|██████████| 7/7 [00:23<00:00,  3.39s/it]\n",
      "Training (5312 / 18000 Steps) (loss=0.30437): 100%|██████████| 7/7 [00:14<00:00,  2.14s/it]\n",
      "Training (5319 / 18000 Steps) (loss=0.29198): 100%|██████████| 7/7 [00:15<00:00,  2.19s/it]\n",
      "Training (5326 / 18000 Steps) (loss=0.48458): 100%|██████████| 7/7 [00:15<00:00,  2.17s/it]\n",
      "Training (5333 / 18000 Steps) (loss=0.42177): 100%|██████████| 7/7 [00:14<00:00,  2.12s/it]\n",
      "Training (5340 / 18000 Steps) (loss=0.56709): 100%|██████████| 7/7 [00:14<00:00,  2.12s/it]\n",
      "Training (5347 / 18000 Steps) (loss=0.52521): 100%|██████████| 7/7 [00:15<00:00,  2.18s/it]\n",
      "Training (5354 / 18000 Steps) (loss=0.45881): 100%|██████████| 7/7 [00:15<00:00,  2.16s/it]\n",
      "Training (5361 / 18000 Steps) (loss=0.24019): 100%|██████████| 7/7 [00:14<00:00,  2.13s/it]\n",
      "Training (5368 / 18000 Steps) (loss=0.40013): 100%|██████████| 7/7 [00:15<00:00,  2.18s/it]\n",
      "Training (5375 / 18000 Steps) (loss=0.45158): 100%|██████████| 7/7 [00:14<00:00,  2.13s/it]\n",
      "Training (5382 / 18000 Steps) (loss=0.32494): 100%|██████████| 7/7 [00:14<00:00,  2.10s/it]\n",
      "Training (5389 / 18000 Steps) (loss=0.36414): 100%|██████████| 7/7 [00:14<00:00,  2.13s/it]\n",
      "Training (5396 / 18000 Steps) (loss=0.39945): 100%|██████████| 7/7 [00:15<00:00,  2.14s/it]\n",
      "Validate (5397 / 10 Steps): 100%|██████████| 2/2 [00:08<00:00,  4.33s/it]<00:09,  2.48s/it]\n",
      "Training (5400 / 18000 Steps) (loss=0.30730):  57%|█████▋    | 4/7 [00:18<00:17,  5.68s/it]"
     ]
    },
    {
     "name": "stdout",
     "output_type": "stream",
     "text": [
      "Model Was Not Saved ! Current Best Avg. Dice: 0.34272611141204834 Current Avg. Dice: 0.25581470131874084 Current Avg. tumor Dice: 0.2405649721622467 Current Avg. lymph Dice: 0.271064430475235\n"
     ]
    },
    {
     "name": "stderr",
     "output_type": "stream",
     "text": [
      "Training (5403 / 18000 Steps) (loss=0.35503): 100%|██████████| 7/7 [00:23<00:00,  3.41s/it]\n",
      "Training (5410 / 18000 Steps) (loss=0.51856): 100%|██████████| 7/7 [00:15<00:00,  2.16s/it]\n",
      "Training (5417 / 18000 Steps) (loss=0.53869): 100%|██████████| 7/7 [00:14<00:00,  2.14s/it]\n",
      "Training (5424 / 18000 Steps) (loss=0.29785): 100%|██████████| 7/7 [00:14<00:00,  2.12s/it]\n",
      "Training (5431 / 18000 Steps) (loss=0.66824): 100%|██████████| 7/7 [00:14<00:00,  2.12s/it]\n",
      "Training (5438 / 18000 Steps) (loss=0.49635): 100%|██████████| 7/7 [00:15<00:00,  2.15s/it]\n",
      "Training (5445 / 18000 Steps) (loss=0.46977): 100%|██████████| 7/7 [00:14<00:00,  2.13s/it]\n",
      "Training (5452 / 18000 Steps) (loss=0.39924): 100%|██████████| 7/7 [00:14<00:00,  2.13s/it]\n",
      "Training (5459 / 18000 Steps) (loss=0.32134): 100%|██████████| 7/7 [00:15<00:00,  2.15s/it]\n",
      "Training (5466 / 18000 Steps) (loss=0.54860): 100%|██████████| 7/7 [00:14<00:00,  2.08s/it]\n",
      "Training (5473 / 18000 Steps) (loss=0.18174): 100%|██████████| 7/7 [00:14<00:00,  2.14s/it]\n",
      "Training (5480 / 18000 Steps) (loss=0.43980): 100%|██████████| 7/7 [00:14<00:00,  2.12s/it]\n",
      "Training (5487 / 18000 Steps) (loss=0.66718): 100%|██████████| 7/7 [00:15<00:00,  2.15s/it]\n",
      "Training (5494 / 18000 Steps) (loss=0.32790): 100%|██████████| 7/7 [00:15<00:00,  2.17s/it]\n",
      "Validate (5495 / 10 Steps): 100%|██████████| 2/2 [00:08<00:00,  4.32s/it]<00:04,  2.09s/it]\n",
      "Training (5500 / 18000 Steps) (loss=0.38620):  86%|████████▌ | 6/7 [00:22<00:04,  4.94s/it]"
     ]
    },
    {
     "name": "stdout",
     "output_type": "stream",
     "text": [
      "Model Was Not Saved ! Current Best Avg. Dice: 0.34272611141204834 Current Avg. Dice: 0.33881857991218567 Current Avg. tumor Dice: 0.37117257714271545 Current Avg. lymph Dice: 0.30646461248397827\n"
     ]
    },
    {
     "name": "stderr",
     "output_type": "stream",
     "text": [
      "Training (5501 / 18000 Steps) (loss=0.35266): 100%|██████████| 7/7 [00:23<00:00,  3.39s/it]\n",
      "Training (5508 / 18000 Steps) (loss=0.50050): 100%|██████████| 7/7 [00:15<00:00,  2.19s/it]\n",
      "Training (5515 / 18000 Steps) (loss=0.38048): 100%|██████████| 7/7 [00:15<00:00,  2.15s/it]\n",
      "Training (5522 / 18000 Steps) (loss=0.15937): 100%|██████████| 7/7 [00:14<00:00,  2.12s/it]\n",
      "Training (5529 / 18000 Steps) (loss=0.40160): 100%|██████████| 7/7 [00:15<00:00,  2.18s/it]\n",
      "Training (5536 / 18000 Steps) (loss=0.31193): 100%|██████████| 7/7 [00:15<00:00,  2.17s/it]\n",
      "Training (5543 / 18000 Steps) (loss=0.31708): 100%|██████████| 7/7 [00:14<00:00,  2.11s/it]\n",
      "Training (5550 / 18000 Steps) (loss=0.36120): 100%|██████████| 7/7 [00:14<00:00,  2.11s/it]\n",
      "Training (5557 / 18000 Steps) (loss=0.54482): 100%|██████████| 7/7 [00:14<00:00,  2.14s/it]\n",
      "Training (5564 / 18000 Steps) (loss=0.44031): 100%|██████████| 7/7 [00:15<00:00,  2.15s/it]\n",
      "Training (5571 / 18000 Steps) (loss=0.54611): 100%|██████████| 7/7 [00:15<00:00,  2.17s/it]\n",
      "Training (5578 / 18000 Steps) (loss=0.48194): 100%|██████████| 7/7 [00:14<00:00,  2.14s/it]\n",
      "Training (5585 / 18000 Steps) (loss=0.67662): 100%|██████████| 7/7 [00:14<00:00,  2.12s/it]\n",
      "Training (5592 / 18000 Steps) (loss=0.29166): 100%|██████████| 7/7 [00:15<00:00,  2.16s/it]\n",
      "Training (5599 / 18000 Steps) (loss=0.42867): 100%|██████████| 7/7 [00:14<00:00,  2.10s/it]\n",
      "Validate (5600 / 10 Steps): 100%|██████████| 2/2 [00:08<00:00,  4.34s/it]<?, ?it/s]\n",
      "Training (5600 / 18000 Steps) (loss=0.61758):  14%|█▍        | 1/7 [00:13<01:20, 13.42s/it]"
     ]
    },
    {
     "name": "stdout",
     "output_type": "stream",
     "text": [
      "Model Was Not Saved ! Current Best Avg. Dice: 0.34272611141204834 Current Avg. Dice: 0.24506336450576782 Current Avg. tumor Dice: 0.3061850368976593 Current Avg. lymph Dice: 0.18394169211387634\n"
     ]
    },
    {
     "name": "stderr",
     "output_type": "stream",
     "text": [
      "Training (5606 / 18000 Steps) (loss=0.34015): 100%|██████████| 7/7 [00:23<00:00,  3.39s/it]\n",
      "Training (5613 / 18000 Steps) (loss=0.46385): 100%|██████████| 7/7 [00:15<00:00,  2.16s/it]\n",
      "Training (5620 / 18000 Steps) (loss=0.66978): 100%|██████████| 7/7 [00:15<00:00,  2.17s/it]\n",
      "Training (5627 / 18000 Steps) (loss=0.36631): 100%|██████████| 7/7 [00:14<00:00,  2.08s/it]\n",
      "Training (5634 / 18000 Steps) (loss=0.31880): 100%|██████████| 7/7 [00:15<00:00,  2.16s/it]\n",
      "Training (5641 / 18000 Steps) (loss=0.47306): 100%|██████████| 7/7 [00:14<00:00,  2.14s/it]\n",
      "Training (5648 / 18000 Steps) (loss=0.49979): 100%|██████████| 7/7 [00:15<00:00,  2.20s/it]\n",
      "Training (5655 / 18000 Steps) (loss=0.54951): 100%|██████████| 7/7 [00:15<00:00,  2.15s/it]\n",
      "Training (5662 / 18000 Steps) (loss=0.46571): 100%|██████████| 7/7 [00:14<00:00,  2.13s/it]\n",
      "Training (5669 / 18000 Steps) (loss=0.44554): 100%|██████████| 7/7 [00:14<00:00,  2.13s/it]\n",
      "Training (5676 / 18000 Steps) (loss=0.46433): 100%|██████████| 7/7 [00:15<00:00,  2.16s/it]\n",
      "Training (5683 / 18000 Steps) (loss=0.41360): 100%|██████████| 7/7 [00:15<00:00,  2.16s/it]\n",
      "Training (5690 / 18000 Steps) (loss=0.31482): 100%|██████████| 7/7 [00:15<00:00,  2.19s/it]\n",
      "Training (5697 / 18000 Steps) (loss=0.43771): 100%|██████████| 7/7 [00:14<00:00,  2.12s/it]\n",
      "Validate (5698 / 10 Steps): 100%|██████████| 2/2 [00:08<00:00,  4.33s/it]<00:15,  3.10s/it]\n",
      "Training (5700 / 18000 Steps) (loss=0.39914):  43%|████▎     | 3/7 [00:17<00:25,  6.49s/it]"
     ]
    },
    {
     "name": "stdout",
     "output_type": "stream",
     "text": [
      "Model Was Not Saved ! Current Best Avg. Dice: 0.34272611141204834 Current Avg. Dice: 0.25660696625709534 Current Avg. tumor Dice: 0.25690266489982605 Current Avg. lymph Dice: 0.256311297416687\n"
     ]
    },
    {
     "name": "stderr",
     "output_type": "stream",
     "text": [
      "Training (5704 / 18000 Steps) (loss=0.51657): 100%|██████████| 7/7 [00:23<00:00,  3.42s/it]\n",
      "Training (5711 / 18000 Steps) (loss=0.36092): 100%|██████████| 7/7 [00:14<00:00,  2.10s/it]\n",
      "Training (5718 / 18000 Steps) (loss=0.41457): 100%|██████████| 7/7 [00:14<00:00,  2.10s/it]\n",
      "Training (5725 / 18000 Steps) (loss=0.36603): 100%|██████████| 7/7 [00:14<00:00,  2.14s/it]\n",
      "Training (5732 / 18000 Steps) (loss=0.17576): 100%|██████████| 7/7 [00:14<00:00,  2.13s/it]\n",
      "Training (5739 / 18000 Steps) (loss=0.64115): 100%|██████████| 7/7 [00:15<00:00,  2.19s/it]\n",
      "Training (5746 / 18000 Steps) (loss=0.39667): 100%|██████████| 7/7 [00:14<00:00,  2.12s/it]\n",
      "Training (5753 / 18000 Steps) (loss=0.53508): 100%|██████████| 7/7 [00:15<00:00,  2.16s/it]\n",
      "Training (5760 / 18000 Steps) (loss=0.50787): 100%|██████████| 7/7 [00:15<00:00,  2.14s/it]\n",
      "Training (5767 / 18000 Steps) (loss=0.53634): 100%|██████████| 7/7 [00:15<00:00,  2.16s/it]\n",
      "Training (5774 / 18000 Steps) (loss=0.50079): 100%|██████████| 7/7 [00:14<00:00,  2.13s/it]\n",
      "Training (5781 / 18000 Steps) (loss=0.44036): 100%|██████████| 7/7 [00:15<00:00,  2.18s/it]\n",
      "Training (5788 / 18000 Steps) (loss=0.57126): 100%|██████████| 7/7 [00:15<00:00,  2.20s/it]\n",
      "Training (5795 / 18000 Steps) (loss=0.50702): 100%|██████████| 7/7 [00:15<00:00,  2.20s/it]\n",
      "Validate (5796 / 10 Steps): 100%|██████████| 2/2 [00:08<00:00,  4.44s/it]<00:06,  2.20s/it]\n",
      "Training (5800 / 18000 Steps) (loss=0.36672):  71%|███████▏  | 5/7 [00:20<00:10,  5.28s/it]"
     ]
    },
    {
     "name": "stdout",
     "output_type": "stream",
     "text": [
      "Model Was Not Saved ! Current Best Avg. Dice: 0.34272611141204834 Current Avg. Dice: 0.3099101185798645 Current Avg. tumor Dice: 0.31090202927589417 Current Avg. lymph Dice: 0.3089182376861572\n"
     ]
    },
    {
     "name": "stderr",
     "output_type": "stream",
     "text": [
      "Training (5802 / 18000 Steps) (loss=0.57683): 100%|██████████| 7/7 [00:24<00:00,  3.43s/it]\n",
      "Training (5809 / 18000 Steps) (loss=0.31743): 100%|██████████| 7/7 [00:15<00:00,  2.16s/it]\n",
      "Training (5816 / 18000 Steps) (loss=0.49160): 100%|██████████| 7/7 [00:15<00:00,  2.23s/it]\n",
      "Training (5823 / 18000 Steps) (loss=0.46125): 100%|██████████| 7/7 [00:15<00:00,  2.20s/it]\n",
      "Training (5830 / 18000 Steps) (loss=0.43888): 100%|██████████| 7/7 [00:15<00:00,  2.22s/it]\n",
      "Training (5837 / 18000 Steps) (loss=0.41988): 100%|██████████| 7/7 [00:15<00:00,  2.17s/it]\n",
      "Training (5844 / 18000 Steps) (loss=0.30570): 100%|██████████| 7/7 [00:14<00:00,  2.13s/it]\n",
      "Training (5851 / 18000 Steps) (loss=0.53620): 100%|██████████| 7/7 [00:14<00:00,  2.14s/it]\n",
      "Training (5858 / 18000 Steps) (loss=0.30743): 100%|██████████| 7/7 [00:14<00:00,  2.14s/it]\n",
      "Training (5865 / 18000 Steps) (loss=0.42929): 100%|██████████| 7/7 [00:15<00:00,  2.18s/it]\n",
      "Training (5872 / 18000 Steps) (loss=0.54319): 100%|██████████| 7/7 [00:15<00:00,  2.16s/it]\n",
      "Training (5879 / 18000 Steps) (loss=0.44780): 100%|██████████| 7/7 [00:14<00:00,  2.13s/it]\n",
      "Training (5886 / 18000 Steps) (loss=0.40476): 100%|██████████| 7/7 [00:15<00:00,  2.18s/it]\n",
      "Training (5893 / 18000 Steps) (loss=0.46712): 100%|██████████| 7/7 [00:14<00:00,  2.10s/it]\n",
      "Validate (5894 / 10 Steps): 100%|██████████| 2/2 [00:08<00:00,  4.45s/it]<00:01,  1.94s/it]\n",
      "Training (5900 / 18000 Steps) (loss=0.38571): 100%|██████████| 7/7 [00:23<00:00,  3.38s/it]\n"
     ]
    },
    {
     "name": "stdout",
     "output_type": "stream",
     "text": [
      "Model Was Not Saved ! Current Best Avg. Dice: 0.34272611141204834 Current Avg. Dice: 0.32561177015304565 Current Avg. tumor Dice: 0.3109491765499115 Current Avg. lymph Dice: 0.3402744233608246\n"
     ]
    },
    {
     "name": "stderr",
     "output_type": "stream",
     "text": [
      "Training (5907 / 18000 Steps) (loss=0.39483): 100%|██████████| 7/7 [00:15<00:00,  2.20s/it]\n",
      "Training (5914 / 18000 Steps) (loss=0.61252): 100%|██████████| 7/7 [00:15<00:00,  2.16s/it]\n",
      "Training (5921 / 18000 Steps) (loss=0.22329): 100%|██████████| 7/7 [00:15<00:00,  2.16s/it]\n",
      "Training (5928 / 18000 Steps) (loss=0.39144): 100%|██████████| 7/7 [00:15<00:00,  2.20s/it]\n",
      "Training (5935 / 18000 Steps) (loss=0.58090): 100%|██████████| 7/7 [00:15<00:00,  2.19s/it]\n",
      "Training (5942 / 18000 Steps) (loss=0.37270): 100%|██████████| 7/7 [00:15<00:00,  2.16s/it]\n",
      "Training (5949 / 18000 Steps) (loss=0.28259): 100%|██████████| 7/7 [00:15<00:00,  2.24s/it]\n",
      "Training (5956 / 18000 Steps) (loss=0.48249): 100%|██████████| 7/7 [00:15<00:00,  2.15s/it]\n",
      "Training (5963 / 18000 Steps) (loss=0.56554): 100%|██████████| 7/7 [00:15<00:00,  2.16s/it]\n",
      "Training (5970 / 18000 Steps) (loss=0.47334): 100%|██████████| 7/7 [00:15<00:00,  2.15s/it]\n",
      "Training (5977 / 18000 Steps) (loss=0.59207): 100%|██████████| 7/7 [00:14<00:00,  2.13s/it]\n",
      "Training (5984 / 18000 Steps) (loss=0.30148): 100%|██████████| 7/7 [00:14<00:00,  2.11s/it]\n",
      "Training (5991 / 18000 Steps) (loss=0.50410): 100%|██████████| 7/7 [00:14<00:00,  2.14s/it]\n",
      "Training (5998 / 18000 Steps) (loss=0.55843): 100%|██████████| 7/7 [00:15<00:00,  2.16s/it]\n",
      "Validate (5999 / 10 Steps): 100%|██████████| 2/2 [00:08<00:00,  4.42s/it]<00:30,  5.04s/it]\n",
      "Training (6000 / 18000 Steps) (loss=0.48609):  29%|██▊       | 2/7 [00:15<00:42,  8.42s/it]"
     ]
    },
    {
     "name": "stdout",
     "output_type": "stream",
     "text": [
      "Model Was Not Saved ! Current Best Avg. Dice: 0.34272611141204834 Current Avg. Dice: 0.2985086739063263 Current Avg. tumor Dice: 0.22022183239459991 Current Avg. lymph Dice: 0.37679553031921387\n"
     ]
    },
    {
     "name": "stderr",
     "output_type": "stream",
     "text": [
      "Training (6005 / 18000 Steps) (loss=0.36497): 100%|██████████| 7/7 [00:24<00:00,  3.49s/it]\n",
      "Training (6012 / 18000 Steps) (loss=0.44184): 100%|██████████| 7/7 [00:15<00:00,  2.24s/it]\n",
      "Training (6019 / 18000 Steps) (loss=0.24253): 100%|██████████| 7/7 [00:15<00:00,  2.19s/it]\n",
      "Training (6026 / 18000 Steps) (loss=0.44136): 100%|██████████| 7/7 [00:15<00:00,  2.20s/it]\n",
      "Training (6033 / 18000 Steps) (loss=0.53462): 100%|██████████| 7/7 [00:15<00:00,  2.17s/it]\n",
      "Training (6040 / 18000 Steps) (loss=0.45513): 100%|██████████| 7/7 [00:15<00:00,  2.17s/it]\n",
      "Training (6047 / 18000 Steps) (loss=0.38632): 100%|██████████| 7/7 [00:15<00:00,  2.18s/it]\n",
      "Training (6054 / 18000 Steps) (loss=0.43482): 100%|██████████| 7/7 [00:15<00:00,  2.21s/it]\n",
      "Training (6061 / 18000 Steps) (loss=0.39665): 100%|██████████| 7/7 [00:15<00:00,  2.17s/it]\n",
      "Training (6068 / 18000 Steps) (loss=0.19874): 100%|██████████| 7/7 [00:14<00:00,  2.12s/it]\n",
      "Training (6075 / 18000 Steps) (loss=0.58115): 100%|██████████| 7/7 [00:15<00:00,  2.18s/it]\n",
      "Training (6082 / 18000 Steps) (loss=0.40119): 100%|██████████| 7/7 [00:15<00:00,  2.16s/it]\n",
      "Training (6089 / 18000 Steps) (loss=0.42145): 100%|██████████| 7/7 [00:15<00:00,  2.19s/it]\n",
      "Training (6096 / 18000 Steps) (loss=0.53776): 100%|██████████| 7/7 [00:14<00:00,  2.14s/it]\n",
      "Validate (6097 / 10 Steps): 100%|██████████| 2/2 [00:08<00:00,  4.41s/it]<00:10,  2.57s/it]\n",
      "Training (6100 / 18000 Steps) (loss=0.39211):  57%|█████▋    | 4/7 [00:19<00:17,  5.77s/it]"
     ]
    },
    {
     "name": "stdout",
     "output_type": "stream",
     "text": [
      "Model Was Not Saved ! Current Best Avg. Dice: 0.34272611141204834 Current Avg. Dice: 0.3141983151435852 Current Avg. tumor Dice: 0.3059491813182831 Current Avg. lymph Dice: 0.32244741916656494\n"
     ]
    },
    {
     "name": "stderr",
     "output_type": "stream",
     "text": [
      "Training (6103 / 18000 Steps) (loss=0.32517): 100%|██████████| 7/7 [00:24<00:00,  3.45s/it]\n",
      "Training (6110 / 18000 Steps) (loss=0.56768): 100%|██████████| 7/7 [00:14<00:00,  2.12s/it]\n",
      "Training (6117 / 18000 Steps) (loss=0.33040): 100%|██████████| 7/7 [00:14<00:00,  2.13s/it]\n",
      "Training (6124 / 18000 Steps) (loss=0.51077): 100%|██████████| 7/7 [00:15<00:00,  2.16s/it]\n",
      "Training (6131 / 18000 Steps) (loss=0.52699): 100%|██████████| 7/7 [00:15<00:00,  2.20s/it]\n",
      "Training (6138 / 18000 Steps) (loss=0.34332): 100%|██████████| 7/7 [00:15<00:00,  2.15s/it]\n",
      "Training (6145 / 18000 Steps) (loss=0.42640): 100%|██████████| 7/7 [00:15<00:00,  2.19s/it]\n",
      "Training (6152 / 18000 Steps) (loss=0.18544): 100%|██████████| 7/7 [00:14<00:00,  2.10s/it]\n",
      "Training (6159 / 18000 Steps) (loss=0.58334): 100%|██████████| 7/7 [00:14<00:00,  2.11s/it]\n",
      "Training (6166 / 18000 Steps) (loss=0.36823): 100%|██████████| 7/7 [00:15<00:00,  2.18s/it]\n",
      "Training (6173 / 18000 Steps) (loss=0.47815): 100%|██████████| 7/7 [00:14<00:00,  2.09s/it]\n",
      "Training (6180 / 18000 Steps) (loss=0.43229): 100%|██████████| 7/7 [00:14<00:00,  2.09s/it]\n",
      "Training (6187 / 18000 Steps) (loss=0.51620): 100%|██████████| 7/7 [00:14<00:00,  2.11s/it]\n",
      "Training (6194 / 18000 Steps) (loss=0.43417): 100%|██████████| 7/7 [00:15<00:00,  2.15s/it]\n",
      "Validate (6195 / 10 Steps): 100%|██████████| 2/2 [00:08<00:00,  4.28s/it]<00:04,  2.07s/it]\n",
      "Training (6200 / 18000 Steps) (loss=0.57396):  86%|████████▌ | 6/7 [00:22<00:04,  4.90s/it]"
     ]
    },
    {
     "name": "stdout",
     "output_type": "stream",
     "text": [
      "Model Was Not Saved ! Current Best Avg. Dice: 0.34272611141204834 Current Avg. Dice: 0.2977061867713928 Current Avg. tumor Dice: 0.24426552653312683 Current Avg. lymph Dice: 0.3511468768119812\n"
     ]
    },
    {
     "name": "stderr",
     "output_type": "stream",
     "text": [
      "Training (6201 / 18000 Steps) (loss=0.66827): 100%|██████████| 7/7 [00:23<00:00,  3.33s/it]\n",
      "Training (6208 / 18000 Steps) (loss=0.55249): 100%|██████████| 7/7 [00:14<00:00,  2.10s/it]\n",
      "Training (6215 / 18000 Steps) (loss=0.24334): 100%|██████████| 7/7 [00:14<00:00,  2.09s/it]\n",
      "Training (6222 / 18000 Steps) (loss=0.67060): 100%|██████████| 7/7 [00:14<00:00,  2.13s/it]\n",
      "Training (6229 / 18000 Steps) (loss=0.54766): 100%|██████████| 7/7 [00:14<00:00,  2.08s/it]\n",
      "Training (6236 / 18000 Steps) (loss=0.41498): 100%|██████████| 7/7 [00:14<00:00,  2.09s/it]\n",
      "Training (6243 / 18000 Steps) (loss=0.42516): 100%|██████████| 7/7 [00:14<00:00,  2.08s/it]\n",
      "Training (6250 / 18000 Steps) (loss=0.47011): 100%|██████████| 7/7 [00:14<00:00,  2.09s/it]\n",
      "Training (6257 / 18000 Steps) (loss=0.33477): 100%|██████████| 7/7 [00:14<00:00,  2.06s/it]\n",
      "Training (6264 / 18000 Steps) (loss=0.40843): 100%|██████████| 7/7 [00:14<00:00,  2.10s/it]\n",
      "Training (6271 / 18000 Steps) (loss=0.31977): 100%|██████████| 7/7 [00:14<00:00,  2.08s/it]\n",
      "Training (6278 / 18000 Steps) (loss=0.38538): 100%|██████████| 7/7 [00:14<00:00,  2.09s/it]\n",
      "Training (6285 / 18000 Steps) (loss=0.49620): 100%|██████████| 7/7 [00:14<00:00,  2.12s/it]\n",
      "Training (6292 / 18000 Steps) (loss=0.56097): 100%|██████████| 7/7 [00:14<00:00,  2.08s/it]\n",
      "Training (6299 / 18000 Steps) (loss=0.61869): 100%|██████████| 7/7 [00:14<00:00,  2.08s/it]\n",
      "Validate (6300 / 10 Steps): 100%|██████████| 2/2 [00:08<00:00,  4.25s/it]<?, ?it/s]\n",
      "Training (6300 / 18000 Steps) (loss=0.46505):  14%|█▍        | 1/7 [00:13<01:18, 13.06s/it]"
     ]
    },
    {
     "name": "stdout",
     "output_type": "stream",
     "text": [
      "Model Was Not Saved ! Current Best Avg. Dice: 0.34272611141204834 Current Avg. Dice: 0.3369097113609314 Current Avg. tumor Dice: 0.3446647524833679 Current Avg. lymph Dice: 0.3291546702384949\n"
     ]
    },
    {
     "name": "stderr",
     "output_type": "stream",
     "text": [
      "Training (6306 / 18000 Steps) (loss=0.50156): 100%|██████████| 7/7 [00:23<00:00,  3.31s/it]\n",
      "Training (6313 / 18000 Steps) (loss=0.30228): 100%|██████████| 7/7 [00:14<00:00,  2.06s/it]\n",
      "Training (6320 / 18000 Steps) (loss=0.49558): 100%|██████████| 7/7 [00:14<00:00,  2.06s/it]\n",
      "Training (6327 / 18000 Steps) (loss=0.19546): 100%|██████████| 7/7 [00:14<00:00,  2.07s/it]\n",
      "Training (6334 / 18000 Steps) (loss=0.29969): 100%|██████████| 7/7 [00:14<00:00,  2.09s/it]\n",
      "Training (6341 / 18000 Steps) (loss=0.50328): 100%|██████████| 7/7 [00:14<00:00,  2.05s/it]\n",
      "Training (6348 / 18000 Steps) (loss=0.48501): 100%|██████████| 7/7 [00:14<00:00,  2.09s/it]\n",
      "Training (6355 / 18000 Steps) (loss=0.24293): 100%|██████████| 7/7 [00:14<00:00,  2.08s/it]\n",
      "Training (6362 / 18000 Steps) (loss=0.38362): 100%|██████████| 7/7 [00:14<00:00,  2.07s/it]\n",
      "Training (6369 / 18000 Steps) (loss=0.36151): 100%|██████████| 7/7 [00:14<00:00,  2.13s/it]\n",
      "Training (6376 / 18000 Steps) (loss=0.43794): 100%|██████████| 7/7 [00:14<00:00,  2.10s/it]\n",
      "Training (6383 / 18000 Steps) (loss=0.42199): 100%|██████████| 7/7 [00:14<00:00,  2.07s/it]\n",
      "Training (6390 / 18000 Steps) (loss=0.47115): 100%|██████████| 7/7 [00:14<00:00,  2.07s/it]\n",
      "Training (6397 / 18000 Steps) (loss=0.34866): 100%|██████████| 7/7 [00:14<00:00,  2.08s/it]\n",
      "Validate (6398 / 10 Steps): 100%|██████████| 2/2 [00:08<00:00,  4.37s/it]<00:14,  2.90s/it]\n",
      "Training (6400 / 18000 Steps) (loss=0.49403):  43%|████▎     | 3/7 [00:16<00:25,  6.42s/it]"
     ]
    },
    {
     "name": "stdout",
     "output_type": "stream",
     "text": [
      "Model Was Not Saved ! Current Best Avg. Dice: 0.34272611141204834 Current Avg. Dice: 0.2774448096752167 Current Avg. tumor Dice: 0.2263343632221222 Current Avg. lymph Dice: 0.32855528593063354\n"
     ]
    },
    {
     "name": "stderr",
     "output_type": "stream",
     "text": [
      "Training (6404 / 18000 Steps) (loss=0.47107): 100%|██████████| 7/7 [00:23<00:00,  3.33s/it]\n",
      "Training (6411 / 18000 Steps) (loss=0.55596): 100%|██████████| 7/7 [00:14<00:00,  2.09s/it]\n",
      "Training (6418 / 18000 Steps) (loss=0.31088): 100%|██████████| 7/7 [00:14<00:00,  2.09s/it]\n",
      "Training (6425 / 18000 Steps) (loss=0.24005): 100%|██████████| 7/7 [00:14<00:00,  2.10s/it]\n",
      "Training (6432 / 18000 Steps) (loss=0.50177): 100%|██████████| 7/7 [00:14<00:00,  2.10s/it]\n",
      "Training (6439 / 18000 Steps) (loss=0.28518): 100%|██████████| 7/7 [00:14<00:00,  2.06s/it]\n",
      "Training (6446 / 18000 Steps) (loss=0.31946): 100%|██████████| 7/7 [00:14<00:00,  2.07s/it]\n",
      "Training (6453 / 18000 Steps) (loss=0.32665): 100%|██████████| 7/7 [00:14<00:00,  2.10s/it]\n",
      "Training (6460 / 18000 Steps) (loss=0.43105): 100%|██████████| 7/7 [00:14<00:00,  2.05s/it]\n",
      "Training (6467 / 18000 Steps) (loss=0.33728): 100%|██████████| 7/7 [00:14<00:00,  2.08s/it]\n",
      "Training (6474 / 18000 Steps) (loss=0.37694): 100%|██████████| 7/7 [00:14<00:00,  2.09s/it]\n",
      "Training (6481 / 18000 Steps) (loss=0.53692): 100%|██████████| 7/7 [00:14<00:00,  2.08s/it]\n",
      "Training (6488 / 18000 Steps) (loss=0.40289): 100%|██████████| 7/7 [00:14<00:00,  2.13s/it]\n",
      "Training (6495 / 18000 Steps) (loss=0.42724): 100%|██████████| 7/7 [00:14<00:00,  2.07s/it]\n",
      "Validate (6496 / 10 Steps): 100%|██████████| 2/2 [00:08<00:00,  4.31s/it]<00:06,  2.14s/it]\n",
      "Training (6500 / 18000 Steps) (loss=0.38856):  71%|███████▏  | 5/7 [00:20<00:10,  5.14s/it]"
     ]
    },
    {
     "name": "stdout",
     "output_type": "stream",
     "text": [
      "Model Was Not Saved ! Current Best Avg. Dice: 0.34272611141204834 Current Avg. Dice: 0.29908597469329834 Current Avg. tumor Dice: 0.33894357085227966 Current Avg. lymph Dice: 0.25922834873199463\n"
     ]
    },
    {
     "name": "stderr",
     "output_type": "stream",
     "text": [
      "Training (6502 / 18000 Steps) (loss=0.49417): 100%|██████████| 7/7 [00:23<00:00,  3.33s/it]\n",
      "Training (6509 / 18000 Steps) (loss=0.44802): 100%|██████████| 7/7 [00:14<00:00,  2.07s/it]\n",
      "Training (6516 / 18000 Steps) (loss=0.34956): 100%|██████████| 7/7 [00:14<00:00,  2.07s/it]\n",
      "Training (6523 / 18000 Steps) (loss=0.37817): 100%|██████████| 7/7 [00:14<00:00,  2.08s/it]\n",
      "Training (6530 / 18000 Steps) (loss=0.38940): 100%|██████████| 7/7 [00:14<00:00,  2.08s/it]\n",
      "Training (6537 / 18000 Steps) (loss=0.50524): 100%|██████████| 7/7 [00:14<00:00,  2.07s/it]\n",
      "Training (6544 / 18000 Steps) (loss=0.35093): 100%|██████████| 7/7 [00:14<00:00,  2.08s/it]\n",
      "Training (6551 / 18000 Steps) (loss=0.39703): 100%|██████████| 7/7 [00:14<00:00,  2.12s/it]\n",
      "Training (6558 / 18000 Steps) (loss=0.65701): 100%|██████████| 7/7 [00:14<00:00,  2.07s/it]\n",
      "Training (6565 / 18000 Steps) (loss=0.48689): 100%|██████████| 7/7 [00:14<00:00,  2.11s/it]\n",
      "Training (6572 / 18000 Steps) (loss=0.63841): 100%|██████████| 7/7 [00:14<00:00,  2.10s/it]\n",
      "Training (6579 / 18000 Steps) (loss=0.31053): 100%|██████████| 7/7 [00:14<00:00,  2.09s/it]\n",
      "Training (6586 / 18000 Steps) (loss=0.41095): 100%|██████████| 7/7 [00:14<00:00,  2.10s/it]\n",
      "Training (6593 / 18000 Steps) (loss=0.57774): 100%|██████████| 7/7 [00:14<00:00,  2.08s/it]\n",
      "Validate (6594 / 10 Steps): 100%|██████████| 2/2 [00:08<00:00,  4.32s/it]<00:01,  1.98s/it]\n",
      "Training (6600 / 18000 Steps) (loss=0.40769): 100%|██████████| 7/7 [00:23<00:00,  3.34s/it]\n"
     ]
    },
    {
     "name": "stdout",
     "output_type": "stream",
     "text": [
      "Model Was Not Saved ! Current Best Avg. Dice: 0.34272611141204834 Current Avg. Dice: 0.30908316373825073 Current Avg. tumor Dice: 0.2977248430252075 Current Avg. lymph Dice: 0.32044145464897156\n"
     ]
    },
    {
     "name": "stderr",
     "output_type": "stream",
     "text": [
      "Training (6607 / 18000 Steps) (loss=0.55588): 100%|██████████| 7/7 [00:14<00:00,  2.09s/it]\n",
      "Training (6614 / 18000 Steps) (loss=0.38001): 100%|██████████| 7/7 [00:14<00:00,  2.09s/it]\n",
      "Training (6621 / 18000 Steps) (loss=0.43782): 100%|██████████| 7/7 [00:14<00:00,  2.07s/it]\n",
      "Training (6628 / 18000 Steps) (loss=0.32595): 100%|██████████| 7/7 [00:14<00:00,  2.09s/it]\n",
      "Training (6635 / 18000 Steps) (loss=0.40826): 100%|██████████| 7/7 [00:14<00:00,  2.10s/it]\n",
      "Training (6642 / 18000 Steps) (loss=0.51313): 100%|██████████| 7/7 [00:14<00:00,  2.06s/it]\n",
      "Training (6649 / 18000 Steps) (loss=0.40760): 100%|██████████| 7/7 [00:14<00:00,  2.10s/it]\n",
      "Training (6656 / 18000 Steps) (loss=0.35480): 100%|██████████| 7/7 [00:14<00:00,  2.08s/it]\n",
      "Training (6663 / 18000 Steps) (loss=0.45435): 100%|██████████| 7/7 [00:14<00:00,  2.08s/it]\n",
      "Training (6670 / 18000 Steps) (loss=0.54699): 100%|██████████| 7/7 [00:14<00:00,  2.10s/it]\n",
      "Training (6677 / 18000 Steps) (loss=0.46597): 100%|██████████| 7/7 [00:14<00:00,  2.07s/it]\n",
      "Training (6684 / 18000 Steps) (loss=0.40765): 100%|██████████| 7/7 [00:14<00:00,  2.09s/it]\n",
      "Training (6691 / 18000 Steps) (loss=0.39304): 100%|██████████| 7/7 [00:14<00:00,  2.06s/it]\n",
      "Training (6698 / 18000 Steps) (loss=0.48115): 100%|██████████| 7/7 [00:14<00:00,  2.07s/it]\n",
      "Validate (6699 / 10 Steps): 100%|██████████| 2/2 [00:08<00:00,  4.36s/it]<00:26,  4.35s/it]\n",
      "Training (6700 / 18000 Steps) (loss=0.34637):  29%|██▊       | 2/7 [00:14<00:39,  8.00s/it]"
     ]
    },
    {
     "name": "stdout",
     "output_type": "stream",
     "text": [
      "Model Was Not Saved ! Current Best Avg. Dice: 0.34272611141204834 Current Avg. Dice: 0.3042091727256775 Current Avg. tumor Dice: 0.2549358308315277 Current Avg. lymph Dice: 0.35348254442214966\n"
     ]
    },
    {
     "name": "stderr",
     "output_type": "stream",
     "text": [
      "Training (6705 / 18000 Steps) (loss=0.37003): 100%|██████████| 7/7 [00:23<00:00,  3.31s/it]\n",
      "Training (6712 / 18000 Steps) (loss=0.51495): 100%|██████████| 7/7 [00:14<00:00,  2.14s/it]\n",
      "Training (6719 / 18000 Steps) (loss=0.21697): 100%|██████████| 7/7 [00:14<00:00,  2.05s/it]\n",
      "Training (6726 / 18000 Steps) (loss=0.67281): 100%|██████████| 7/7 [00:14<00:00,  2.10s/it]\n",
      "Training (6733 / 18000 Steps) (loss=0.29157): 100%|██████████| 7/7 [00:14<00:00,  2.08s/it]\n",
      "Training (6740 / 18000 Steps) (loss=0.24460): 100%|██████████| 7/7 [00:14<00:00,  2.08s/it]\n",
      "Training (6747 / 18000 Steps) (loss=0.31054): 100%|██████████| 7/7 [00:14<00:00,  2.09s/it]\n",
      "Training (6754 / 18000 Steps) (loss=0.31769): 100%|██████████| 7/7 [00:15<00:00,  2.15s/it]\n",
      "Training (6761 / 18000 Steps) (loss=0.24163): 100%|██████████| 7/7 [00:14<00:00,  2.13s/it]\n",
      "Training (6768 / 18000 Steps) (loss=0.56955): 100%|██████████| 7/7 [00:14<00:00,  2.14s/it]\n",
      "Training (6775 / 18000 Steps) (loss=0.61278): 100%|██████████| 7/7 [00:14<00:00,  2.14s/it]\n",
      "Training (6782 / 18000 Steps) (loss=0.48506): 100%|██████████| 7/7 [00:14<00:00,  2.09s/it]\n",
      "Training (6789 / 18000 Steps) (loss=0.20935): 100%|██████████| 7/7 [00:15<00:00,  2.18s/it]\n",
      "Training (6796 / 18000 Steps) (loss=0.30833): 100%|██████████| 7/7 [00:14<00:00,  2.07s/it]\n",
      "Validate (6797 / 10 Steps): 100%|██████████| 2/2 [00:08<00:00,  4.36s/it]<00:09,  2.45s/it]\n",
      "Training (6800 / 18000 Steps) (loss=0.45428):  57%|█████▋    | 4/7 [00:18<00:16,  5.66s/it]"
     ]
    },
    {
     "name": "stdout",
     "output_type": "stream",
     "text": [
      "Model Was Not Saved ! Current Best Avg. Dice: 0.34272611141204834 Current Avg. Dice: 0.33166468143463135 Current Avg. tumor Dice: 0.3489413857460022 Current Avg. lymph Dice: 0.3143879473209381\n"
     ]
    },
    {
     "name": "stderr",
     "output_type": "stream",
     "text": [
      "Training (6803 / 18000 Steps) (loss=0.62059): 100%|██████████| 7/7 [00:23<00:00,  3.40s/it]\n",
      "Training (6810 / 18000 Steps) (loss=0.56255): 100%|██████████| 7/7 [00:14<00:00,  2.10s/it]\n",
      "Training (6817 / 18000 Steps) (loss=0.25671): 100%|██████████| 7/7 [00:14<00:00,  2.09s/it]\n",
      "Training (6824 / 18000 Steps) (loss=0.51286): 100%|██████████| 7/7 [00:14<00:00,  2.09s/it]\n",
      "Training (6831 / 18000 Steps) (loss=0.53968): 100%|██████████| 7/7 [00:15<00:00,  2.15s/it]\n",
      "Training (6838 / 18000 Steps) (loss=0.53348): 100%|██████████| 7/7 [00:14<00:00,  2.13s/it]\n",
      "Training (6845 / 18000 Steps) (loss=0.62475): 100%|██████████| 7/7 [00:15<00:00,  2.17s/it]\n",
      "Training (6852 / 18000 Steps) (loss=0.59460): 100%|██████████| 7/7 [00:14<00:00,  2.14s/it]\n",
      "Training (6859 / 18000 Steps) (loss=0.29136): 100%|██████████| 7/7 [00:14<00:00,  2.11s/it]\n",
      "Training (6866 / 18000 Steps) (loss=0.54599): 100%|██████████| 7/7 [00:14<00:00,  2.13s/it]\n",
      "Training (6873 / 18000 Steps) (loss=0.29543): 100%|██████████| 7/7 [00:14<00:00,  2.11s/it]\n",
      "Training (6880 / 18000 Steps) (loss=0.45227): 100%|██████████| 7/7 [00:14<00:00,  2.12s/it]\n",
      "Training (6887 / 18000 Steps) (loss=0.45172): 100%|██████████| 7/7 [00:14<00:00,  2.13s/it]\n",
      "Training (6894 / 18000 Steps) (loss=0.26853): 100%|██████████| 7/7 [00:14<00:00,  2.14s/it]\n",
      "Validate (6895 / 10 Steps): 100%|██████████| 2/2 [00:08<00:00,  4.30s/it]<00:04,  2.02s/it]\n",
      "Training (6900 / 18000 Steps) (loss=0.46575):  86%|████████▌ | 6/7 [00:22<00:04,  4.88s/it]"
     ]
    },
    {
     "name": "stdout",
     "output_type": "stream",
     "text": [
      "Model Was Not Saved ! Current Best Avg. Dice: 0.34272611141204834 Current Avg. Dice: 0.3276844322681427 Current Avg. tumor Dice: 0.29566895961761475 Current Avg. lymph Dice: 0.35969990491867065\n"
     ]
    },
    {
     "name": "stderr",
     "output_type": "stream",
     "text": [
      "Training (6901 / 18000 Steps) (loss=0.24716): 100%|██████████| 7/7 [00:23<00:00,  3.33s/it]\n",
      "Training (6908 / 18000 Steps) (loss=0.50843): 100%|██████████| 7/7 [00:14<00:00,  2.06s/it]\n",
      "Training (6915 / 18000 Steps) (loss=0.45352): 100%|██████████| 7/7 [00:14<00:00,  2.14s/it]\n",
      "Training (6922 / 18000 Steps) (loss=0.26911): 100%|██████████| 7/7 [00:14<00:00,  2.12s/it]\n",
      "Training (6929 / 18000 Steps) (loss=0.38188): 100%|██████████| 7/7 [00:15<00:00,  2.16s/it]\n",
      "Training (6936 / 18000 Steps) (loss=0.45595): 100%|██████████| 7/7 [00:15<00:00,  2.19s/it]\n",
      "Training (6943 / 18000 Steps) (loss=0.40692): 100%|██████████| 7/7 [00:14<00:00,  2.11s/it]\n",
      "Training (6950 / 18000 Steps) (loss=0.47802): 100%|██████████| 7/7 [00:14<00:00,  2.10s/it]\n",
      "Training (6957 / 18000 Steps) (loss=0.44398): 100%|██████████| 7/7 [00:15<00:00,  2.18s/it]\n",
      "Training (6964 / 18000 Steps) (loss=0.31388): 100%|██████████| 7/7 [00:15<00:00,  2.16s/it]\n",
      "Training (6971 / 18000 Steps) (loss=0.34729): 100%|██████████| 7/7 [00:14<00:00,  2.12s/it]\n",
      "Training (6978 / 18000 Steps) (loss=0.31632): 100%|██████████| 7/7 [00:14<00:00,  2.13s/it]\n",
      "Training (6985 / 18000 Steps) (loss=0.59185): 100%|██████████| 7/7 [00:14<00:00,  2.12s/it]\n",
      "Training (6992 / 18000 Steps) (loss=0.45557): 100%|██████████| 7/7 [00:15<00:00,  2.20s/it]\n",
      "Training (6999 / 18000 Steps) (loss=0.31363): 100%|██████████| 7/7 [00:15<00:00,  2.17s/it]\n",
      "Validate (7000 / 10 Steps): 100%|██████████| 2/2 [00:08<00:00,  4.45s/it]<?, ?it/s]\n",
      "Training (7000 / 18000 Steps) (loss=0.48269):  14%|█▍        | 1/7 [00:14<01:27, 14.62s/it]"
     ]
    },
    {
     "name": "stdout",
     "output_type": "stream",
     "text": [
      "Model Was Saved ! Current Best Avg. Dice: 0.36300528049468994 Current Avg. Dice: 0.36300528049468994 Current Avg. tumor Dice: 0.332440048456192 Current Avg. lymph Dice: 0.39357054233551025\n"
     ]
    },
    {
     "name": "stderr",
     "output_type": "stream",
     "text": [
      "Training (7006 / 18000 Steps) (loss=0.45734): 100%|██████████| 7/7 [00:24<00:00,  3.56s/it]\n",
      "Training (7013 / 18000 Steps) (loss=0.55395): 100%|██████████| 7/7 [00:14<00:00,  2.13s/it]\n",
      "Training (7020 / 18000 Steps) (loss=0.42660): 100%|██████████| 7/7 [00:15<00:00,  2.17s/it]\n",
      "Training (7027 / 18000 Steps) (loss=0.33694): 100%|██████████| 7/7 [00:14<00:00,  2.12s/it]\n",
      "Training (7034 / 18000 Steps) (loss=0.40607): 100%|██████████| 7/7 [00:15<00:00,  2.20s/it]\n",
      "Training (7041 / 18000 Steps) (loss=0.43956): 100%|██████████| 7/7 [00:15<00:00,  2.17s/it]\n",
      "Training (7048 / 18000 Steps) (loss=0.32889): 100%|██████████| 7/7 [00:15<00:00,  2.16s/it]\n",
      "Training (7055 / 18000 Steps) (loss=0.57163): 100%|██████████| 7/7 [00:14<00:00,  2.14s/it]\n",
      "Training (7062 / 18000 Steps) (loss=0.52760): 100%|██████████| 7/7 [00:14<00:00,  2.11s/it]\n",
      "Training (7069 / 18000 Steps) (loss=0.53566): 100%|██████████| 7/7 [00:15<00:00,  2.15s/it]\n",
      "Training (7076 / 18000 Steps) (loss=0.36904): 100%|██████████| 7/7 [00:14<00:00,  2.11s/it]\n",
      "Training (7083 / 18000 Steps) (loss=0.52239): 100%|██████████| 7/7 [00:15<00:00,  2.15s/it]\n",
      "Training (7090 / 18000 Steps) (loss=0.22258): 100%|██████████| 7/7 [00:15<00:00,  2.23s/it]\n",
      "Training (7097 / 18000 Steps) (loss=0.42154): 100%|██████████| 7/7 [00:14<00:00,  2.12s/it]\n",
      "Validate (7098 / 10 Steps): 100%|██████████| 2/2 [00:08<00:00,  4.29s/it]<00:14,  2.97s/it]\n",
      "Training (7100 / 18000 Steps) (loss=0.47450):  43%|████▎     | 3/7 [00:16<00:25,  6.38s/it]"
     ]
    },
    {
     "name": "stdout",
     "output_type": "stream",
     "text": [
      "Model Was Not Saved ! Current Best Avg. Dice: 0.36300528049468994 Current Avg. Dice: 0.3267340064048767 Current Avg. tumor Dice: 0.337904155254364 Current Avg. lymph Dice: 0.315563827753067\n"
     ]
    },
    {
     "name": "stderr",
     "output_type": "stream",
     "text": [
      "Training (7104 / 18000 Steps) (loss=0.67736): 100%|██████████| 7/7 [00:23<00:00,  3.38s/it]\n",
      "Training (7111 / 18000 Steps) (loss=0.50188): 100%|██████████| 7/7 [00:14<00:00,  2.12s/it]\n",
      "Training (7118 / 18000 Steps) (loss=0.49563): 100%|██████████| 7/7 [00:14<00:00,  2.11s/it]\n",
      "Training (7125 / 18000 Steps) (loss=0.29426): 100%|██████████| 7/7 [00:14<00:00,  2.12s/it]\n",
      "Training (7132 / 18000 Steps) (loss=0.15767): 100%|██████████| 7/7 [00:15<00:00,  2.21s/it]\n",
      "Training (7139 / 18000 Steps) (loss=0.56007): 100%|██████████| 7/7 [00:15<00:00,  2.26s/it]\n",
      "Training (7146 / 18000 Steps) (loss=0.34150): 100%|██████████| 7/7 [00:15<00:00,  2.20s/it]\n",
      "Training (7153 / 18000 Steps) (loss=0.17832): 100%|██████████| 7/7 [00:15<00:00,  2.24s/it]\n",
      "Training (7160 / 18000 Steps) (loss=0.54918): 100%|██████████| 7/7 [00:15<00:00,  2.24s/it]\n",
      "Training (7167 / 18000 Steps) (loss=0.47812): 100%|██████████| 7/7 [00:15<00:00,  2.22s/it]\n",
      "Training (7174 / 18000 Steps) (loss=0.32914): 100%|██████████| 7/7 [00:16<00:00,  2.30s/it]\n",
      "Training (7181 / 18000 Steps) (loss=0.37600): 100%|██████████| 7/7 [00:15<00:00,  2.20s/it]\n",
      "Training (7188 / 18000 Steps) (loss=0.61805): 100%|██████████| 7/7 [00:15<00:00,  2.25s/it]\n",
      "Training (7195 / 18000 Steps) (loss=0.38870): 100%|██████████| 7/7 [00:15<00:00,  2.15s/it]\n",
      "Validate (7196 / 10 Steps): 100%|██████████| 2/2 [00:08<00:00,  4.50s/it]<00:06,  2.30s/it]\n",
      "Training (7200 / 18000 Steps) (loss=0.39387):  71%|███████▏  | 5/7 [00:21<00:10,  5.44s/it]"
     ]
    },
    {
     "name": "stdout",
     "output_type": "stream",
     "text": [
      "Model Was Not Saved ! Current Best Avg. Dice: 0.36300528049468994 Current Avg. Dice: 0.3225521445274353 Current Avg. tumor Dice: 0.28418898582458496 Current Avg. lymph Dice: 0.36091530323028564\n"
     ]
    },
    {
     "name": "stderr",
     "output_type": "stream",
     "text": [
      "Training (7202 / 18000 Steps) (loss=0.35536): 100%|██████████| 7/7 [00:24<00:00,  3.53s/it]\n",
      "Training (7209 / 18000 Steps) (loss=0.54042): 100%|██████████| 7/7 [00:15<00:00,  2.22s/it]\n",
      "Training (7216 / 18000 Steps) (loss=0.60842): 100%|██████████| 7/7 [00:15<00:00,  2.25s/it]\n",
      "Training (7223 / 18000 Steps) (loss=0.44394): 100%|██████████| 7/7 [00:15<00:00,  2.24s/it]\n",
      "Training (7230 / 18000 Steps) (loss=0.43286): 100%|██████████| 7/7 [00:15<00:00,  2.22s/it]\n",
      "Training (7237 / 18000 Steps) (loss=0.41416): 100%|██████████| 7/7 [00:15<00:00,  2.28s/it]\n",
      "Training (7244 / 18000 Steps) (loss=0.54992): 100%|██████████| 7/7 [00:15<00:00,  2.22s/it]\n",
      "Training (7251 / 18000 Steps) (loss=0.53033): 100%|██████████| 7/7 [00:15<00:00,  2.22s/it]\n",
      "Training (7258 / 18000 Steps) (loss=0.41157): 100%|██████████| 7/7 [00:15<00:00,  2.20s/it]\n",
      "Training (7265 / 18000 Steps) (loss=0.45030): 100%|██████████| 7/7 [00:15<00:00,  2.25s/it]\n",
      "Training (7272 / 18000 Steps) (loss=0.43867): 100%|██████████| 7/7 [00:16<00:00,  2.35s/it]\n",
      "Training (7279 / 18000 Steps) (loss=0.26681): 100%|██████████| 7/7 [00:15<00:00,  2.22s/it]\n",
      "Training (7286 / 18000 Steps) (loss=0.48709): 100%|██████████| 7/7 [00:15<00:00,  2.22s/it]\n",
      "Training (7293 / 18000 Steps) (loss=0.55276): 100%|██████████| 7/7 [00:14<00:00,  2.14s/it]\n",
      "Validate (7294 / 10 Steps): 100%|██████████| 2/2 [00:08<00:00,  4.34s/it]<00:01,  1.97s/it]\n",
      "Training (7300 / 18000 Steps) (loss=0.47359): 100%|██████████| 7/7 [00:24<00:00,  3.50s/it]\n"
     ]
    },
    {
     "name": "stdout",
     "output_type": "stream",
     "text": [
      "Model Was Saved ! Current Best Avg. Dice: 0.36620211601257324 Current Avg. Dice: 0.36620211601257324 Current Avg. tumor Dice: 0.3756066858768463 Current Avg. lymph Dice: 0.35679754614830017\n"
     ]
    },
    {
     "name": "stderr",
     "output_type": "stream",
     "text": [
      "Training (7307 / 18000 Steps) (loss=0.43249): 100%|██████████| 7/7 [00:15<00:00,  2.15s/it]\n",
      "Training (7314 / 18000 Steps) (loss=0.35326): 100%|██████████| 7/7 [00:14<00:00,  2.11s/it]\n",
      "Training (7321 / 18000 Steps) (loss=0.47339): 100%|██████████| 7/7 [00:14<00:00,  2.12s/it]\n",
      "Training (7328 / 18000 Steps) (loss=0.32557): 100%|██████████| 7/7 [00:14<00:00,  2.10s/it]\n",
      "Training (7335 / 18000 Steps) (loss=0.19873): 100%|██████████| 7/7 [00:15<00:00,  2.18s/it]\n",
      "Training (7342 / 18000 Steps) (loss=0.24943): 100%|██████████| 7/7 [00:14<00:00,  2.13s/it]\n",
      "Training (7349 / 18000 Steps) (loss=0.56357): 100%|██████████| 7/7 [00:14<00:00,  2.13s/it]\n",
      "Training (7356 / 18000 Steps) (loss=0.60781): 100%|██████████| 7/7 [00:14<00:00,  2.11s/it]\n",
      "Training (7363 / 18000 Steps) (loss=0.34457): 100%|██████████| 7/7 [00:14<00:00,  2.09s/it]\n",
      "Training (7370 / 18000 Steps) (loss=0.26084): 100%|██████████| 7/7 [00:14<00:00,  2.13s/it]\n",
      "Training (7377 / 18000 Steps) (loss=0.21300): 100%|██████████| 7/7 [00:14<00:00,  2.10s/it]\n",
      "Training (7384 / 18000 Steps) (loss=0.43388): 100%|██████████| 7/7 [00:14<00:00,  2.14s/it]\n",
      "Training (7391 / 18000 Steps) (loss=0.37341): 100%|██████████| 7/7 [00:15<00:00,  2.20s/it]\n",
      "Training (7398 / 18000 Steps) (loss=0.44496): 100%|██████████| 7/7 [00:14<00:00,  2.10s/it]\n",
      "Validate (7399 / 10 Steps): 100%|██████████| 2/2 [00:08<00:00,  4.33s/it]<00:27,  4.57s/it]\n",
      "Training (7400 / 18000 Steps) (loss=0.39979):  29%|██▊       | 2/7 [00:15<00:40,  8.10s/it]"
     ]
    },
    {
     "name": "stdout",
     "output_type": "stream",
     "text": [
      "Model Was Not Saved ! Current Best Avg. Dice: 0.36620211601257324 Current Avg. Dice: 0.33815819025039673 Current Avg. tumor Dice: 0.3534362316131592 Current Avg. lymph Dice: 0.3228801488876343\n"
     ]
    },
    {
     "name": "stderr",
     "output_type": "stream",
     "text": [
      "Training (7405 / 18000 Steps) (loss=0.23221): 100%|██████████| 7/7 [00:23<00:00,  3.41s/it]\n",
      "Training (7412 / 18000 Steps) (loss=0.38687): 100%|██████████| 7/7 [00:15<00:00,  2.23s/it]\n",
      "Training (7419 / 18000 Steps) (loss=0.14497): 100%|██████████| 7/7 [00:15<00:00,  2.23s/it]\n",
      "Training (7426 / 18000 Steps) (loss=0.43988): 100%|██████████| 7/7 [00:15<00:00,  2.23s/it]\n",
      "Training (7433 / 18000 Steps) (loss=0.53914): 100%|██████████| 7/7 [00:15<00:00,  2.26s/it]\n",
      "Training (7440 / 18000 Steps) (loss=0.35594): 100%|██████████| 7/7 [00:15<00:00,  2.19s/it]\n",
      "Training (7447 / 18000 Steps) (loss=0.31778): 100%|██████████| 7/7 [00:15<00:00,  2.16s/it]\n",
      "Training (7454 / 18000 Steps) (loss=0.30708): 100%|██████████| 7/7 [00:15<00:00,  2.24s/it]\n",
      "Training (7461 / 18000 Steps) (loss=0.44288): 100%|██████████| 7/7 [00:15<00:00,  2.23s/it]\n",
      "Training (7468 / 18000 Steps) (loss=0.29382): 100%|██████████| 7/7 [00:16<00:00,  2.31s/it]\n",
      "Training (7475 / 18000 Steps) (loss=0.56285): 100%|██████████| 7/7 [00:15<00:00,  2.22s/it]\n",
      "Training (7482 / 18000 Steps) (loss=0.54974): 100%|██████████| 7/7 [00:15<00:00,  2.20s/it]\n",
      "Training (7489 / 18000 Steps) (loss=0.54924): 100%|██████████| 7/7 [00:15<00:00,  2.20s/it]\n",
      "Training (7496 / 18000 Steps) (loss=0.61213): 100%|██████████| 7/7 [00:15<00:00,  2.19s/it]\n",
      "Validate (7497 / 10 Steps): 100%|██████████| 2/2 [00:08<00:00,  4.42s/it]<00:10,  2.54s/it]\n",
      "Training (7500 / 18000 Steps) (loss=0.40090):  57%|█████▋    | 4/7 [00:19<00:17,  5.76s/it]"
     ]
    },
    {
     "name": "stdout",
     "output_type": "stream",
     "text": [
      "Model Was Not Saved ! Current Best Avg. Dice: 0.36620211601257324 Current Avg. Dice: 0.30647391080856323 Current Avg. tumor Dice: 0.31209543347358704 Current Avg. lymph Dice: 0.3008524477481842\n"
     ]
    },
    {
     "name": "stderr",
     "output_type": "stream",
     "text": [
      "Training (7503 / 18000 Steps) (loss=0.25310): 100%|██████████| 7/7 [00:24<00:00,  3.54s/it]\n",
      "Training (7510 / 18000 Steps) (loss=0.36906): 100%|██████████| 7/7 [00:15<00:00,  2.23s/it]\n",
      "Training (7517 / 18000 Steps) (loss=0.32861): 100%|██████████| 7/7 [00:15<00:00,  2.26s/it]\n",
      "Training (7524 / 18000 Steps) (loss=0.44986): 100%|██████████| 7/7 [00:15<00:00,  2.20s/it]\n",
      "Training (7531 / 18000 Steps) (loss=0.40977): 100%|██████████| 7/7 [00:15<00:00,  2.19s/it]\n",
      "Training (7538 / 18000 Steps) (loss=0.45908): 100%|██████████| 7/7 [00:15<00:00,  2.20s/it]\n",
      "Training (7545 / 18000 Steps) (loss=0.44536): 100%|██████████| 7/7 [00:15<00:00,  2.22s/it]\n",
      "Training (7552 / 18000 Steps) (loss=0.27422): 100%|██████████| 7/7 [00:16<00:00,  2.31s/it]\n",
      "Training (7559 / 18000 Steps) (loss=0.32608): 100%|██████████| 7/7 [00:15<00:00,  2.28s/it]\n",
      "Training (7566 / 18000 Steps) (loss=0.30270): 100%|██████████| 7/7 [00:15<00:00,  2.18s/it]\n",
      "Training (7573 / 18000 Steps) (loss=0.36159): 100%|██████████| 7/7 [00:15<00:00,  2.17s/it]\n",
      "Training (7580 / 18000 Steps) (loss=0.24793): 100%|██████████| 7/7 [00:14<00:00,  2.09s/it]\n",
      "Training (7587 / 18000 Steps) (loss=0.40037): 100%|██████████| 7/7 [00:15<00:00,  2.15s/it]\n",
      "Training (7594 / 18000 Steps) (loss=0.42862): 100%|██████████| 7/7 [00:15<00:00,  2.16s/it]\n",
      "Validate (7595 / 10 Steps): 100%|██████████| 2/2 [00:08<00:00,  4.33s/it]<00:04,  2.06s/it]\n",
      "Training (7600 / 18000 Steps) (loss=0.49457):  86%|████████▌ | 6/7 [00:22<00:04,  4.95s/it]"
     ]
    },
    {
     "name": "stdout",
     "output_type": "stream",
     "text": [
      "Model Was Not Saved ! Current Best Avg. Dice: 0.36620211601257324 Current Avg. Dice: 0.33473312854766846 Current Avg. tumor Dice: 0.35082101821899414 Current Avg. lymph Dice: 0.3186452388763428\n"
     ]
    },
    {
     "name": "stderr",
     "output_type": "stream",
     "text": [
      "Training (7601 / 18000 Steps) (loss=0.45348): 100%|██████████| 7/7 [00:23<00:00,  3.41s/it]\n",
      "Training (7608 / 18000 Steps) (loss=0.46768): 100%|██████████| 7/7 [00:14<00:00,  2.11s/it]\n",
      "Training (7615 / 18000 Steps) (loss=0.20765): 100%|██████████| 7/7 [00:14<00:00,  2.12s/it]\n",
      "Training (7622 / 18000 Steps) (loss=0.42767): 100%|██████████| 7/7 [00:15<00:00,  2.17s/it]\n",
      "Training (7629 / 18000 Steps) (loss=0.65124): 100%|██████████| 7/7 [00:14<00:00,  2.14s/it]\n",
      "Training (7636 / 18000 Steps) (loss=0.28395): 100%|██████████| 7/7 [00:15<00:00,  2.19s/it]\n",
      "Training (7643 / 18000 Steps) (loss=0.53376): 100%|██████████| 7/7 [00:14<00:00,  2.13s/it]\n",
      "Training (7650 / 18000 Steps) (loss=0.29235): 100%|██████████| 7/7 [00:14<00:00,  2.11s/it]\n",
      "Training (7657 / 18000 Steps) (loss=0.38304): 100%|██████████| 7/7 [00:14<00:00,  2.10s/it]\n",
      "Training (7664 / 18000 Steps) (loss=0.27971): 100%|██████████| 7/7 [00:15<00:00,  2.15s/it]\n",
      "Training (7671 / 18000 Steps) (loss=0.53842): 100%|██████████| 7/7 [00:15<00:00,  2.17s/it]\n",
      "Training (7678 / 18000 Steps) (loss=0.57297): 100%|██████████| 7/7 [00:15<00:00,  2.15s/it]\n",
      "Training (7685 / 18000 Steps) (loss=0.29664): 100%|██████████| 7/7 [00:14<00:00,  2.11s/it]\n",
      "Training (7692 / 18000 Steps) (loss=0.61844): 100%|██████████| 7/7 [00:15<00:00,  2.20s/it]\n",
      "Training (7699 / 18000 Steps) (loss=0.34471): 100%|██████████| 7/7 [00:14<00:00,  2.14s/it]\n",
      "Validate (7700 / 10 Steps): 100%|██████████| 2/2 [00:08<00:00,  4.47s/it]<?, ?it/s]\n",
      "Training (7700 / 18000 Steps) (loss=0.31168):  14%|█▍        | 1/7 [00:13<01:22, 13.78s/it]"
     ]
    },
    {
     "name": "stdout",
     "output_type": "stream",
     "text": [
      "Model Was Not Saved ! Current Best Avg. Dice: 0.36620211601257324 Current Avg. Dice: 0.2948530912399292 Current Avg. tumor Dice: 0.2533870041370392 Current Avg. lymph Dice: 0.3363191783428192\n"
     ]
    },
    {
     "name": "stderr",
     "output_type": "stream",
     "text": [
      "Training (7706 / 18000 Steps) (loss=0.49389): 100%|██████████| 7/7 [00:24<00:00,  3.47s/it]\n",
      "Training (7713 / 18000 Steps) (loss=0.36322): 100%|██████████| 7/7 [00:15<00:00,  2.17s/it]\n",
      "Training (7720 / 18000 Steps) (loss=0.50491): 100%|██████████| 7/7 [00:15<00:00,  2.18s/it]\n",
      "Training (7727 / 18000 Steps) (loss=0.34070): 100%|██████████| 7/7 [00:15<00:00,  2.20s/it]\n",
      "Training (7734 / 18000 Steps) (loss=0.55697): 100%|██████████| 7/7 [00:15<00:00,  2.16s/it]\n",
      "Training (7741 / 18000 Steps) (loss=0.24881): 100%|██████████| 7/7 [00:15<00:00,  2.17s/it]\n",
      "Training (7748 / 18000 Steps) (loss=0.14187): 100%|██████████| 7/7 [00:15<00:00,  2.20s/it]\n",
      "Training (7755 / 18000 Steps) (loss=0.14439): 100%|██████████| 7/7 [00:15<00:00,  2.22s/it]\n",
      "Training (7762 / 18000 Steps) (loss=0.40783): 100%|██████████| 7/7 [00:15<00:00,  2.24s/it]\n",
      "Training (7769 / 18000 Steps) (loss=0.40152): 100%|██████████| 7/7 [00:15<00:00,  2.17s/it]\n",
      "Training (7776 / 18000 Steps) (loss=0.28107): 100%|██████████| 7/7 [00:14<00:00,  2.08s/it]\n",
      "Training (7783 / 18000 Steps) (loss=0.58525): 100%|██████████| 7/7 [00:15<00:00,  2.21s/it]\n",
      "Training (7790 / 18000 Steps) (loss=0.32751): 100%|██████████| 7/7 [00:15<00:00,  2.18s/it]\n",
      "Training (7797 / 18000 Steps) (loss=0.58110): 100%|██████████| 7/7 [00:15<00:00,  2.19s/it]\n",
      "Validate (7798 / 10 Steps): 100%|██████████| 2/2 [00:08<00:00,  4.40s/it]<00:15,  3.11s/it]\n",
      "Training (7800 / 18000 Steps) (loss=0.42485):  43%|████▎     | 3/7 [00:17<00:26,  6.57s/it]"
     ]
    },
    {
     "name": "stdout",
     "output_type": "stream",
     "text": [
      "Model Was Not Saved ! Current Best Avg. Dice: 0.36620211601257324 Current Avg. Dice: 0.31187450885772705 Current Avg. tumor Dice: 0.2574203312397003 Current Avg. lymph Dice: 0.366328626871109\n"
     ]
    },
    {
     "name": "stderr",
     "output_type": "stream",
     "text": [
      "Training (7804 / 18000 Steps) (loss=0.37853): 100%|██████████| 7/7 [00:24<00:00,  3.45s/it]\n",
      "Training (7811 / 18000 Steps) (loss=0.25480): 100%|██████████| 7/7 [00:14<00:00,  2.13s/it]\n",
      "Training (7818 / 18000 Steps) (loss=0.27844): 100%|██████████| 7/7 [00:15<00:00,  2.14s/it]\n",
      "Training (7825 / 18000 Steps) (loss=0.48396): 100%|██████████| 7/7 [00:15<00:00,  2.22s/it]\n",
      "Training (7832 / 18000 Steps) (loss=0.34575): 100%|██████████| 7/7 [00:15<00:00,  2.19s/it]\n",
      "Training (7839 / 18000 Steps) (loss=0.38416): 100%|██████████| 7/7 [00:15<00:00,  2.18s/it]\n",
      "Training (7846 / 18000 Steps) (loss=0.41830): 100%|██████████| 7/7 [00:15<00:00,  2.18s/it]\n",
      "Training (7853 / 18000 Steps) (loss=0.20349): 100%|██████████| 7/7 [00:14<00:00,  2.12s/it]\n",
      "Training (7860 / 18000 Steps) (loss=0.31644): 100%|██████████| 7/7 [00:14<00:00,  2.14s/it]\n",
      "Training (7867 / 18000 Steps) (loss=0.49716): 100%|██████████| 7/7 [00:15<00:00,  2.21s/it]\n",
      "Training (7874 / 18000 Steps) (loss=0.31082): 100%|██████████| 7/7 [00:15<00:00,  2.26s/it]\n",
      "Training (7881 / 18000 Steps) (loss=0.15939): 100%|██████████| 7/7 [00:15<00:00,  2.18s/it]\n",
      "Training (7888 / 18000 Steps) (loss=0.50744): 100%|██████████| 7/7 [00:15<00:00,  2.19s/it]\n",
      "Training (7895 / 18000 Steps) (loss=0.37155): 100%|██████████| 7/7 [00:14<00:00,  2.10s/it]\n",
      "Validate (7896 / 10 Steps): 100%|██████████| 2/2 [00:08<00:00,  4.40s/it]<00:06,  2.23s/it]\n",
      "Training (7900 / 18000 Steps) (loss=0.35762):  71%|███████▏  | 5/7 [00:20<00:10,  5.27s/it]"
     ]
    },
    {
     "name": "stdout",
     "output_type": "stream",
     "text": [
      "Model Was Not Saved ! Current Best Avg. Dice: 0.36620211601257324 Current Avg. Dice: 0.3216375410556793 Current Avg. tumor Dice: 0.32226401567459106 Current Avg. lymph Dice: 0.3210110068321228\n"
     ]
    },
    {
     "name": "stderr",
     "output_type": "stream",
     "text": [
      "Training (7902 / 18000 Steps) (loss=0.29431): 100%|██████████| 7/7 [00:23<00:00,  3.43s/it]\n",
      "Training (7909 / 18000 Steps) (loss=0.32029): 100%|██████████| 7/7 [00:15<00:00,  2.15s/it]\n",
      "Training (7916 / 18000 Steps) (loss=0.36877): 100%|██████████| 7/7 [00:15<00:00,  2.18s/it]\n",
      "Training (7923 / 18000 Steps) (loss=0.32124): 100%|██████████| 7/7 [00:14<00:00,  2.13s/it]\n",
      "Training (7930 / 18000 Steps) (loss=0.42355): 100%|██████████| 7/7 [00:14<00:00,  2.11s/it]\n",
      "Training (7937 / 18000 Steps) (loss=0.36927): 100%|██████████| 7/7 [00:15<00:00,  2.25s/it]\n",
      "Training (7944 / 18000 Steps) (loss=0.19010): 100%|██████████| 7/7 [00:15<00:00,  2.26s/it]\n",
      "Training (7951 / 18000 Steps) (loss=0.35119): 100%|██████████| 7/7 [00:16<00:00,  2.32s/it]\n",
      "Training (7958 / 18000 Steps) (loss=0.14489): 100%|██████████| 7/7 [00:15<00:00,  2.23s/it]\n",
      "Training (7965 / 18000 Steps) (loss=0.60974): 100%|██████████| 7/7 [00:16<00:00,  2.33s/it]\n",
      "Training (7972 / 18000 Steps) (loss=0.42907): 100%|██████████| 7/7 [00:15<00:00,  2.21s/it]\n",
      "Training (7979 / 18000 Steps) (loss=0.46612): 100%|██████████| 7/7 [00:15<00:00,  2.24s/it]\n",
      "Training (7986 / 18000 Steps) (loss=0.43267): 100%|██████████| 7/7 [00:15<00:00,  2.27s/it]\n",
      "Training (7993 / 18000 Steps) (loss=0.55640): 100%|██████████| 7/7 [00:15<00:00,  2.24s/it]\n",
      "Validate (7994 / 10 Steps): 100%|██████████| 2/2 [00:09<00:00,  4.60s/it]<00:02,  2.04s/it]\n",
      "Training (8000 / 18000 Steps) (loss=0.54127): 100%|██████████| 7/7 [00:24<00:00,  3.56s/it]\n"
     ]
    },
    {
     "name": "stdout",
     "output_type": "stream",
     "text": [
      "Model Was Not Saved ! Current Best Avg. Dice: 0.36620211601257324 Current Avg. Dice: 0.3252803683280945 Current Avg. tumor Dice: 0.303742915391922 Current Avg. lymph Dice: 0.34681785106658936\n"
     ]
    },
    {
     "name": "stderr",
     "output_type": "stream",
     "text": [
      "Training (8007 / 18000 Steps) (loss=0.53987): 100%|██████████| 7/7 [00:15<00:00,  2.24s/it]\n",
      "Training (8014 / 18000 Steps) (loss=0.30762): 100%|██████████| 7/7 [00:15<00:00,  2.25s/it]\n",
      "Training (8021 / 18000 Steps) (loss=0.53250): 100%|██████████| 7/7 [00:15<00:00,  2.22s/it]\n",
      "Training (8028 / 18000 Steps) (loss=0.28894): 100%|██████████| 7/7 [00:15<00:00,  2.25s/it]\n",
      "Training (8035 / 18000 Steps) (loss=0.55352): 100%|██████████| 7/7 [00:15<00:00,  2.24s/it]\n",
      "Training (8042 / 18000 Steps) (loss=0.45628): 100%|██████████| 7/7 [00:15<00:00,  2.24s/it]\n",
      "Training (8049 / 18000 Steps) (loss=0.32836): 100%|██████████| 7/7 [00:15<00:00,  2.25s/it]\n",
      "Training (8056 / 18000 Steps) (loss=0.46389): 100%|██████████| 7/7 [00:15<00:00,  2.21s/it]\n",
      "Training (8063 / 18000 Steps) (loss=0.30570): 100%|██████████| 7/7 [00:15<00:00,  2.26s/it]\n",
      "Training (8070 / 18000 Steps) (loss=0.55470): 100%|██████████| 7/7 [00:15<00:00,  2.23s/it]\n",
      "Training (8077 / 18000 Steps) (loss=0.30741): 100%|██████████| 7/7 [00:14<00:00,  2.13s/it]\n",
      "Training (8084 / 18000 Steps) (loss=0.44892): 100%|██████████| 7/7 [00:14<00:00,  2.14s/it]\n",
      "Training (8091 / 18000 Steps) (loss=0.27721): 100%|██████████| 7/7 [00:14<00:00,  2.12s/it]\n",
      "Training (8098 / 18000 Steps) (loss=0.42194): 100%|██████████| 7/7 [00:14<00:00,  2.12s/it]\n",
      "Validate (8099 / 10 Steps): 100%|██████████| 2/2 [00:08<00:00,  4.31s/it]<00:28,  4.82s/it]\n",
      "Training (8100 / 18000 Steps) (loss=0.42432):  29%|██▊       | 2/7 [00:15<00:40,  8.16s/it]"
     ]
    },
    {
     "name": "stdout",
     "output_type": "stream",
     "text": [
      "Model Was Not Saved ! Current Best Avg. Dice: 0.36620211601257324 Current Avg. Dice: 0.3409869968891144 Current Avg. tumor Dice: 0.31808820366859436 Current Avg. lymph Dice: 0.3638857901096344\n"
     ]
    },
    {
     "name": "stderr",
     "output_type": "stream",
     "text": [
      "Training (8105 / 18000 Steps) (loss=0.18972): 100%|██████████| 7/7 [00:23<00:00,  3.43s/it]\n",
      "Training (8112 / 18000 Steps) (loss=0.46167): 100%|██████████| 7/7 [00:15<00:00,  2.15s/it]\n",
      "Training (8119 / 18000 Steps) (loss=0.44471): 100%|██████████| 7/7 [00:14<00:00,  2.14s/it]\n",
      "Training (8126 / 18000 Steps) (loss=0.36623): 100%|██████████| 7/7 [00:14<00:00,  2.12s/it]\n",
      "Training (8133 / 18000 Steps) (loss=0.33586): 100%|██████████| 7/7 [00:14<00:00,  2.13s/it]\n",
      "Training (8140 / 18000 Steps) (loss=0.48849): 100%|██████████| 7/7 [00:14<00:00,  2.13s/it]\n",
      "Training (8147 / 18000 Steps) (loss=0.44311): 100%|██████████| 7/7 [00:15<00:00,  2.14s/it]\n",
      "Training (8154 / 18000 Steps) (loss=0.66307): 100%|██████████| 7/7 [00:14<00:00,  2.13s/it]\n",
      "Training (8161 / 18000 Steps) (loss=0.17111): 100%|██████████| 7/7 [00:15<00:00,  2.18s/it]\n",
      "Training (8168 / 18000 Steps) (loss=0.44388): 100%|██████████| 7/7 [00:14<00:00,  2.14s/it]\n",
      "Training (8175 / 18000 Steps) (loss=0.46201): 100%|██████████| 7/7 [00:14<00:00,  2.12s/it]\n",
      "Training (8182 / 18000 Steps) (loss=0.42522): 100%|██████████| 7/7 [00:15<00:00,  2.19s/it]\n",
      "Training (8189 / 18000 Steps) (loss=0.42466): 100%|██████████| 7/7 [00:14<00:00,  2.14s/it]\n",
      "Training (8196 / 18000 Steps) (loss=0.32512): 100%|██████████| 7/7 [00:15<00:00,  2.15s/it]\n",
      "Validate (8197 / 10 Steps): 100%|██████████| 2/2 [00:08<00:00,  4.34s/it]<00:10,  2.50s/it]\n",
      "Training (8200 / 18000 Steps) (loss=0.53407):  57%|█████▋    | 4/7 [00:19<00:17,  5.71s/it]"
     ]
    },
    {
     "name": "stdout",
     "output_type": "stream",
     "text": [
      "Model Was Not Saved ! Current Best Avg. Dice: 0.36620211601257324 Current Avg. Dice: 0.2978011965751648 Current Avg. tumor Dice: 0.3041427433490753 Current Avg. lymph Dice: 0.2914596498012543\n"
     ]
    },
    {
     "name": "stderr",
     "output_type": "stream",
     "text": [
      "Training (8203 / 18000 Steps) (loss=0.35227): 100%|██████████| 7/7 [00:23<00:00,  3.41s/it]\n",
      "Training (8210 / 18000 Steps) (loss=0.40941): 100%|██████████| 7/7 [00:14<00:00,  2.13s/it]\n",
      "Training (8217 / 18000 Steps) (loss=0.43338): 100%|██████████| 7/7 [00:15<00:00,  2.17s/it]\n",
      "Training (8224 / 18000 Steps) (loss=0.26050): 100%|██████████| 7/7 [00:14<00:00,  2.14s/it]\n",
      "Training (8231 / 18000 Steps) (loss=0.23520): 100%|██████████| 7/7 [00:14<00:00,  2.11s/it]\n",
      "Training (8238 / 18000 Steps) (loss=0.32304): 100%|██████████| 7/7 [00:14<00:00,  2.11s/it]\n",
      "Training (8245 / 18000 Steps) (loss=0.50578): 100%|██████████| 7/7 [00:15<00:00,  2.26s/it]\n",
      "Training (8252 / 18000 Steps) (loss=0.28202): 100%|██████████| 7/7 [00:15<00:00,  2.23s/it]\n",
      "Training (8259 / 18000 Steps) (loss=0.40823): 100%|██████████| 7/7 [00:15<00:00,  2.17s/it]\n",
      "Training (8266 / 18000 Steps) (loss=0.37833): 100%|██████████| 7/7 [00:15<00:00,  2.25s/it]\n",
      "Training (8273 / 18000 Steps) (loss=0.50084): 100%|██████████| 7/7 [00:16<00:00,  2.30s/it]\n",
      "Training (8280 / 18000 Steps) (loss=0.29552): 100%|██████████| 7/7 [00:15<00:00,  2.28s/it]\n",
      "Training (8287 / 18000 Steps) (loss=0.17330): 100%|██████████| 7/7 [00:15<00:00,  2.26s/it]\n",
      "Training (8294 / 18000 Steps) (loss=0.35475): 100%|██████████| 7/7 [00:15<00:00,  2.17s/it]\n",
      "Validate (8295 / 10 Steps): 100%|██████████| 2/2 [00:08<00:00,  4.33s/it]<00:04,  2.14s/it]\n",
      "Training (8300 / 18000 Steps) (loss=0.34651):  86%|████████▌ | 6/7 [00:23<00:05,  5.28s/it]"
     ]
    },
    {
     "name": "stdout",
     "output_type": "stream",
     "text": [
      "Model Was Saved ! Current Best Avg. Dice: 0.3791145980358124 Current Avg. Dice: 0.3791145980358124 Current Avg. tumor Dice: 0.3583103120326996 Current Avg. lymph Dice: 0.3999188542366028\n"
     ]
    },
    {
     "name": "stderr",
     "output_type": "stream",
     "text": [
      "Training (8301 / 18000 Steps) (loss=0.44962): 100%|██████████| 7/7 [00:25<00:00,  3.58s/it]\n",
      "Training (8308 / 18000 Steps) (loss=0.54183): 100%|██████████| 7/7 [00:15<00:00,  2.20s/it]\n",
      "Training (8315 / 18000 Steps) (loss=0.23762): 100%|██████████| 7/7 [00:15<00:00,  2.21s/it]\n",
      "Training (8322 / 18000 Steps) (loss=0.52989): 100%|██████████| 7/7 [00:15<00:00,  2.21s/it]\n",
      "Training (8329 / 18000 Steps) (loss=0.35622): 100%|██████████| 7/7 [00:15<00:00,  2.21s/it]\n",
      "Training (8336 / 18000 Steps) (loss=0.38563): 100%|██████████| 7/7 [00:15<00:00,  2.19s/it]\n",
      "Training (8343 / 18000 Steps) (loss=0.54595): 100%|██████████| 7/7 [00:15<00:00,  2.21s/it]\n",
      "Training (8350 / 18000 Steps) (loss=0.59005): 100%|██████████| 7/7 [00:15<00:00,  2.25s/it]\n",
      "Training (8357 / 18000 Steps) (loss=0.47911): 100%|██████████| 7/7 [00:15<00:00,  2.25s/it]\n",
      "Training (8364 / 18000 Steps) (loss=0.33375): 100%|██████████| 7/7 [00:15<00:00,  2.29s/it]\n",
      "Training (8371 / 18000 Steps) (loss=0.42278): 100%|██████████| 7/7 [00:15<00:00,  2.23s/it]\n",
      "Training (8378 / 18000 Steps) (loss=0.53618): 100%|██████████| 7/7 [00:14<00:00,  2.13s/it]\n",
      "Training (8385 / 18000 Steps) (loss=0.19441): 100%|██████████| 7/7 [00:15<00:00,  2.20s/it]\n",
      "Training (8392 / 18000 Steps) (loss=0.32906): 100%|██████████| 7/7 [00:15<00:00,  2.19s/it]\n",
      "Training (8399 / 18000 Steps) (loss=0.45726): 100%|██████████| 7/7 [00:15<00:00,  2.24s/it]\n",
      "Validate (8400 / 10 Steps): 100%|██████████| 2/2 [00:08<00:00,  4.46s/it]<?, ?it/s]\n",
      "Training (8400 / 18000 Steps) (loss=0.39083):  14%|█▍        | 1/7 [00:13<01:21, 13.65s/it]"
     ]
    },
    {
     "name": "stdout",
     "output_type": "stream",
     "text": [
      "Model Was Not Saved ! Current Best Avg. Dice: 0.3791145980358124 Current Avg. Dice: 0.36865562200546265 Current Avg. tumor Dice: 0.35086488723754883 Current Avg. lymph Dice: 0.38644641637802124\n"
     ]
    },
    {
     "name": "stderr",
     "output_type": "stream",
     "text": [
      "Training (8406 / 18000 Steps) (loss=0.23696): 100%|██████████| 7/7 [00:24<00:00,  3.47s/it]\n",
      "Training (8413 / 18000 Steps) (loss=0.32225): 100%|██████████| 7/7 [00:15<00:00,  2.19s/it]\n",
      "Training (8420 / 18000 Steps) (loss=0.19232): 100%|██████████| 7/7 [00:15<00:00,  2.15s/it]\n",
      "Training (8427 / 18000 Steps) (loss=0.50964): 100%|██████████| 7/7 [00:15<00:00,  2.25s/it]\n",
      "Training (8434 / 18000 Steps) (loss=0.66582): 100%|██████████| 7/7 [00:15<00:00,  2.28s/it]\n",
      "Training (8441 / 18000 Steps) (loss=0.46085): 100%|██████████| 7/7 [00:15<00:00,  2.25s/it]\n",
      "Training (8448 / 18000 Steps) (loss=0.25105): 100%|██████████| 7/7 [00:15<00:00,  2.21s/it]\n",
      "Training (8455 / 18000 Steps) (loss=0.41130): 100%|██████████| 7/7 [00:15<00:00,  2.18s/it]\n",
      "Training (8462 / 18000 Steps) (loss=0.41937): 100%|██████████| 7/7 [00:15<00:00,  2.15s/it]\n",
      "Training (8469 / 18000 Steps) (loss=0.41803): 100%|██████████| 7/7 [00:15<00:00,  2.25s/it]\n",
      "Training (8476 / 18000 Steps) (loss=0.48886): 100%|██████████| 7/7 [00:15<00:00,  2.27s/it]\n",
      "Training (8483 / 18000 Steps) (loss=0.54701): 100%|██████████| 7/7 [00:16<00:00,  2.29s/it]\n",
      "Training (8490 / 18000 Steps) (loss=0.45193): 100%|██████████| 7/7 [00:15<00:00,  2.26s/it]\n",
      "Training (8497 / 18000 Steps) (loss=0.41034): 100%|██████████| 7/7 [00:15<00:00,  2.25s/it]\n",
      "Validate (8498 / 10 Steps): 100%|██████████| 2/2 [00:08<00:00,  4.27s/it]<00:15,  3.06s/it]\n",
      "Training (8500 / 18000 Steps) (loss=0.40328):  43%|████▎     | 3/7 [00:16<00:25,  6.39s/it]"
     ]
    },
    {
     "name": "stdout",
     "output_type": "stream",
     "text": [
      "Model Was Not Saved ! Current Best Avg. Dice: 0.3791145980358124 Current Avg. Dice: 0.35307151079177856 Current Avg. tumor Dice: 0.32750698924064636 Current Avg. lymph Dice: 0.3786360025405884\n"
     ]
    },
    {
     "name": "stderr",
     "output_type": "stream",
     "text": [
      "Training (8504 / 18000 Steps) (loss=0.39660): 100%|██████████| 7/7 [00:23<00:00,  3.37s/it]\n",
      "Training (8511 / 18000 Steps) (loss=0.28894): 100%|██████████| 7/7 [00:15<00:00,  2.25s/it]\n",
      "Training (8518 / 18000 Steps) (loss=0.40374): 100%|██████████| 7/7 [00:15<00:00,  2.24s/it]\n",
      "Training (8525 / 18000 Steps) (loss=0.27116): 100%|██████████| 7/7 [00:15<00:00,  2.28s/it]\n",
      "Training (8532 / 18000 Steps) (loss=0.40198): 100%|██████████| 7/7 [00:15<00:00,  2.23s/it]\n",
      "Training (8539 / 18000 Steps) (loss=0.47751): 100%|██████████| 7/7 [00:15<00:00,  2.22s/it]\n",
      "Training (8546 / 18000 Steps) (loss=0.41672): 100%|██████████| 7/7 [00:15<00:00,  2.25s/it]\n",
      "Training (8553 / 18000 Steps) (loss=0.24797): 100%|██████████| 7/7 [00:15<00:00,  2.21s/it]\n",
      "Training (8560 / 18000 Steps) (loss=0.55817): 100%|██████████| 7/7 [00:15<00:00,  2.28s/it]\n",
      "Training (8567 / 18000 Steps) (loss=0.30092): 100%|██████████| 7/7 [00:15<00:00,  2.25s/it]\n",
      "Training (8574 / 18000 Steps) (loss=0.44137): 100%|██████████| 7/7 [00:15<00:00,  2.26s/it]\n",
      "Training (8581 / 18000 Steps) (loss=0.52785): 100%|██████████| 7/7 [00:15<00:00,  2.25s/it]\n",
      "Training (8588 / 18000 Steps) (loss=0.48571): 100%|██████████| 7/7 [00:15<00:00,  2.24s/it]\n",
      "Training (8595 / 18000 Steps) (loss=0.54298): 100%|██████████| 7/7 [00:15<00:00,  2.19s/it]\n",
      "Validate (8596 / 10 Steps): 100%|██████████| 2/2 [00:08<00:00,  4.48s/it]<00:06,  2.33s/it]\n",
      "Training (8600 / 18000 Steps) (loss=0.34930):  71%|███████▏  | 5/7 [00:21<00:10,  5.42s/it]"
     ]
    },
    {
     "name": "stdout",
     "output_type": "stream",
     "text": [
      "Model Was Not Saved ! Current Best Avg. Dice: 0.3791145980358124 Current Avg. Dice: 0.3511682152748108 Current Avg. tumor Dice: 0.3332325220108032 Current Avg. lymph Dice: 0.36910390853881836\n"
     ]
    },
    {
     "name": "stderr",
     "output_type": "stream",
     "text": [
      "Training (8602 / 18000 Steps) (loss=0.37152): 100%|██████████| 7/7 [00:24<00:00,  3.55s/it]\n",
      "Training (8609 / 18000 Steps) (loss=0.48156): 100%|██████████| 7/7 [00:15<00:00,  2.27s/it]\n",
      "Training (8616 / 18000 Steps) (loss=0.54841): 100%|██████████| 7/7 [00:15<00:00,  2.25s/it]\n",
      "Training (8623 / 18000 Steps) (loss=0.41189): 100%|██████████| 7/7 [00:15<00:00,  2.23s/it]\n",
      "Training (8630 / 18000 Steps) (loss=0.45303): 100%|██████████| 7/7 [00:15<00:00,  2.20s/it]\n",
      "Training (8637 / 18000 Steps) (loss=0.44538): 100%|██████████| 7/7 [00:15<00:00,  2.22s/it]\n",
      "Training (8644 / 18000 Steps) (loss=0.21563): 100%|██████████| 7/7 [00:15<00:00,  2.21s/it]\n",
      "Training (8651 / 18000 Steps) (loss=0.30618): 100%|██████████| 7/7 [00:15<00:00,  2.20s/it]\n",
      "Training (8658 / 18000 Steps) (loss=0.60561): 100%|██████████| 7/7 [00:15<00:00,  2.22s/it]\n",
      "Training (8665 / 18000 Steps) (loss=0.49513): 100%|██████████| 7/7 [00:15<00:00,  2.19s/it]\n",
      "Training (8672 / 18000 Steps) (loss=0.43419): 100%|██████████| 7/7 [00:15<00:00,  2.15s/it]\n",
      "Training (8679 / 18000 Steps) (loss=0.50294): 100%|██████████| 7/7 [00:15<00:00,  2.21s/it]\n",
      "Training (8686 / 18000 Steps) (loss=0.45827): 100%|██████████| 7/7 [00:15<00:00,  2.25s/it]\n",
      "Training (8693 / 18000 Steps) (loss=0.36293): 100%|██████████| 7/7 [00:15<00:00,  2.20s/it]\n",
      "Validate (8694 / 10 Steps): 100%|██████████| 2/2 [00:08<00:00,  4.49s/it]<00:02,  2.09s/it]\n",
      "Training (8700 / 18000 Steps) (loss=0.54399): 100%|██████████| 7/7 [00:25<00:00,  3.65s/it]\n"
     ]
    },
    {
     "name": "stdout",
     "output_type": "stream",
     "text": [
      "Model Was Not Saved ! Current Best Avg. Dice: 0.3791145980358124 Current Avg. Dice: 0.3052125573158264 Current Avg. tumor Dice: 0.26402637362480164 Current Avg. lymph Dice: 0.3463987112045288\n"
     ]
    },
    {
     "name": "stderr",
     "output_type": "stream",
     "text": [
      "Training (8707 / 18000 Steps) (loss=0.45171): 100%|██████████| 7/7 [00:15<00:00,  2.19s/it]\n",
      "Training (8714 / 18000 Steps) (loss=0.28411): 100%|██████████| 7/7 [00:15<00:00,  2.21s/it]\n",
      "Training (8721 / 18000 Steps) (loss=0.37848): 100%|██████████| 7/7 [00:15<00:00,  2.26s/it]\n",
      "Training (8728 / 18000 Steps) (loss=0.46426): 100%|██████████| 7/7 [00:15<00:00,  2.27s/it]\n",
      "Training (8735 / 18000 Steps) (loss=0.58456): 100%|██████████| 7/7 [00:15<00:00,  2.17s/it]\n",
      "Training (8742 / 18000 Steps) (loss=0.47790): 100%|██████████| 7/7 [00:15<00:00,  2.16s/it]\n",
      "Training (8749 / 18000 Steps) (loss=0.48284): 100%|██████████| 7/7 [00:14<00:00,  2.11s/it]\n",
      "Training (8756 / 18000 Steps) (loss=0.26228): 100%|██████████| 7/7 [00:15<00:00,  2.25s/it]\n",
      "Training (8763 / 18000 Steps) (loss=0.46739): 100%|██████████| 7/7 [00:15<00:00,  2.29s/it]\n",
      "Training (8770 / 18000 Steps) (loss=0.16164): 100%|██████████| 7/7 [00:15<00:00,  2.23s/it]\n",
      "Training (8777 / 18000 Steps) (loss=0.46996): 100%|██████████| 7/7 [00:15<00:00,  2.25s/it]\n",
      "Training (8784 / 18000 Steps) (loss=0.60592): 100%|██████████| 7/7 [00:15<00:00,  2.19s/it]\n",
      "Training (8791 / 18000 Steps) (loss=0.30570): 100%|██████████| 7/7 [00:14<00:00,  2.12s/it]\n",
      "Training (8798 / 18000 Steps) (loss=0.23412): 100%|██████████| 7/7 [00:15<00:00,  2.23s/it]\n",
      "Validate (8799 / 10 Steps): 100%|██████████| 2/2 [00:08<00:00,  4.41s/it]<00:30,  5.05s/it]\n",
      "Training (8800 / 18000 Steps) (loss=0.50295):  29%|██▊       | 2/7 [00:15<00:42,  8.43s/it]"
     ]
    },
    {
     "name": "stdout",
     "output_type": "stream",
     "text": [
      "Model Was Not Saved ! Current Best Avg. Dice: 0.3791145980358124 Current Avg. Dice: 0.2680158019065857 Current Avg. tumor Dice: 0.1964300274848938 Current Avg. lymph Dice: 0.3396015167236328\n"
     ]
    },
    {
     "name": "stderr",
     "output_type": "stream",
     "text": [
      "Training (8805 / 18000 Steps) (loss=0.34122): 100%|██████████| 7/7 [00:24<00:00,  3.51s/it]\n",
      "Training (8812 / 18000 Steps) (loss=0.60108): 100%|██████████| 7/7 [00:15<00:00,  2.17s/it]\n",
      "Training (8819 / 18000 Steps) (loss=0.39268): 100%|██████████| 7/7 [00:15<00:00,  2.20s/it]\n",
      "Training (8826 / 18000 Steps) (loss=0.40330): 100%|██████████| 7/7 [00:14<00:00,  2.14s/it]\n",
      "Training (8833 / 18000 Steps) (loss=0.45262): 100%|██████████| 7/7 [00:15<00:00,  2.16s/it]\n",
      "Training (8840 / 18000 Steps) (loss=0.30035): 100%|██████████| 7/7 [00:15<00:00,  2.25s/it]\n",
      "Training (8847 / 18000 Steps) (loss=0.27793): 100%|██████████| 7/7 [00:15<00:00,  2.24s/it]\n",
      "Training (8854 / 18000 Steps) (loss=0.43447): 100%|██████████| 7/7 [00:15<00:00,  2.24s/it]\n",
      "Training (8861 / 18000 Steps) (loss=0.20978): 100%|██████████| 7/7 [00:15<00:00,  2.22s/it]\n",
      "Training (8868 / 18000 Steps) (loss=0.48286): 100%|██████████| 7/7 [00:14<00:00,  2.13s/it]\n",
      "Training (8875 / 18000 Steps) (loss=0.57907): 100%|██████████| 7/7 [00:14<00:00,  2.14s/it]\n",
      "Training (8882 / 18000 Steps) (loss=0.37617): 100%|██████████| 7/7 [00:15<00:00,  2.18s/it]\n",
      "Training (8889 / 18000 Steps) (loss=0.33025): 100%|██████████| 7/7 [00:15<00:00,  2.23s/it]\n",
      "Training (8896 / 18000 Steps) (loss=0.39625): 100%|██████████| 7/7 [00:16<00:00,  2.30s/it]\n",
      "Validate (8897 / 10 Steps): 100%|██████████| 2/2 [00:08<00:00,  4.48s/it]<00:09,  2.50s/it]\n",
      "Training (8900 / 18000 Steps) (loss=0.30704):  57%|█████▋    | 4/7 [00:19<00:17,  5.79s/it]"
     ]
    },
    {
     "name": "stdout",
     "output_type": "stream",
     "text": [
      "Model Was Not Saved ! Current Best Avg. Dice: 0.3791145980358124 Current Avg. Dice: 0.31083306670188904 Current Avg. tumor Dice: 0.301414430141449 Current Avg. lymph Dice: 0.3202517032623291\n"
     ]
    },
    {
     "name": "stderr",
     "output_type": "stream",
     "text": [
      "Training (8903 / 18000 Steps) (loss=0.14345): 100%|██████████| 7/7 [00:24<00:00,  3.47s/it]\n",
      "Training (8910 / 18000 Steps) (loss=0.45227): 100%|██████████| 7/7 [00:15<00:00,  2.22s/it]\n",
      "Training (8917 / 18000 Steps) (loss=0.28151): 100%|██████████| 7/7 [00:15<00:00,  2.17s/it]\n",
      "Training (8924 / 18000 Steps) (loss=0.42210): 100%|██████████| 7/7 [00:15<00:00,  2.22s/it]\n",
      "Training (8931 / 18000 Steps) (loss=0.26314): 100%|██████████| 7/7 [00:15<00:00,  2.17s/it]\n",
      "Training (8938 / 18000 Steps) (loss=0.52067): 100%|██████████| 7/7 [00:15<00:00,  2.18s/it]\n",
      "Training (8945 / 18000 Steps) (loss=0.43365): 100%|██████████| 7/7 [00:15<00:00,  2.20s/it]\n",
      "Training (8952 / 18000 Steps) (loss=0.56397): 100%|██████████| 7/7 [00:15<00:00,  2.18s/it]\n",
      "Training (8959 / 18000 Steps) (loss=0.44831): 100%|██████████| 7/7 [00:15<00:00,  2.20s/it]\n",
      "Training (8966 / 18000 Steps) (loss=0.25117): 100%|██████████| 7/7 [00:15<00:00,  2.22s/it]\n",
      "Training (8973 / 18000 Steps) (loss=0.30475): 100%|██████████| 7/7 [00:15<00:00,  2.23s/it]\n",
      "Training (8980 / 18000 Steps) (loss=0.33552): 100%|██████████| 7/7 [00:15<00:00,  2.20s/it]\n",
      "Training (8987 / 18000 Steps) (loss=0.23392): 100%|██████████| 7/7 [00:15<00:00,  2.18s/it]\n",
      "Training (8994 / 18000 Steps) (loss=0.44195): 100%|██████████| 7/7 [00:15<00:00,  2.22s/it]\n",
      "Validate (8995 / 10 Steps): 100%|██████████| 2/2 [00:08<00:00,  4.43s/it]<00:04,  2.05s/it]\n",
      "Training (9000 / 18000 Steps) (loss=0.33894):  86%|████████▌ | 6/7 [00:22<00:04,  4.98s/it]"
     ]
    },
    {
     "name": "stdout",
     "output_type": "stream",
     "text": [
      "Model Was Not Saved ! Current Best Avg. Dice: 0.3791145980358124 Current Avg. Dice: 0.3506012260913849 Current Avg. tumor Dice: 0.34560421109199524 Current Avg. lymph Dice: 0.35559821128845215\n"
     ]
    },
    {
     "name": "stderr",
     "output_type": "stream",
     "text": [
      "Training (9001 / 18000 Steps) (loss=0.32286): 100%|██████████| 7/7 [00:23<00:00,  3.41s/it]\n",
      "Training (9008 / 18000 Steps) (loss=0.39785): 100%|██████████| 7/7 [00:15<00:00,  2.18s/it]\n",
      "Training (9015 / 18000 Steps) (loss=0.45173): 100%|██████████| 7/7 [00:15<00:00,  2.17s/it]\n",
      "Training (9022 / 18000 Steps) (loss=0.15554): 100%|██████████| 7/7 [00:15<00:00,  2.26s/it]\n",
      "Training (9029 / 18000 Steps) (loss=0.42534): 100%|██████████| 7/7 [00:15<00:00,  2.19s/it]\n",
      "Training (9036 / 18000 Steps) (loss=0.26911): 100%|██████████| 7/7 [00:15<00:00,  2.19s/it]\n",
      "Training (9043 / 18000 Steps) (loss=0.44564): 100%|██████████| 7/7 [00:15<00:00,  2.18s/it]\n",
      "Training (9050 / 18000 Steps) (loss=0.48634): 100%|██████████| 7/7 [00:15<00:00,  2.18s/it]\n",
      "Training (9057 / 18000 Steps) (loss=0.31097): 100%|██████████| 7/7 [00:15<00:00,  2.15s/it]\n",
      "Training (9064 / 18000 Steps) (loss=0.48918): 100%|██████████| 7/7 [00:15<00:00,  2.21s/it]\n",
      "Training (9071 / 18000 Steps) (loss=0.29649): 100%|██████████| 7/7 [00:15<00:00,  2.21s/it]\n",
      "Training (9078 / 18000 Steps) (loss=0.54429): 100%|██████████| 7/7 [00:15<00:00,  2.20s/it]\n",
      "Training (9085 / 18000 Steps) (loss=0.33247): 100%|██████████| 7/7 [00:15<00:00,  2.16s/it]\n",
      "Training (9092 / 18000 Steps) (loss=0.53155): 100%|██████████| 7/7 [00:15<00:00,  2.21s/it]\n",
      "Training (9099 / 18000 Steps) (loss=0.51384): 100%|██████████| 7/7 [00:15<00:00,  2.21s/it]\n",
      "Validate (9100 / 10 Steps): 100%|██████████| 2/2 [00:08<00:00,  4.36s/it]<?, ?it/s]\n",
      "Training (9100 / 18000 Steps) (loss=0.48320):  14%|█▍        | 1/7 [00:13<01:20, 13.44s/it]"
     ]
    },
    {
     "name": "stdout",
     "output_type": "stream",
     "text": [
      "Model Was Not Saved ! Current Best Avg. Dice: 0.3791145980358124 Current Avg. Dice: 0.37684834003448486 Current Avg. tumor Dice: 0.39586615562438965 Current Avg. lymph Dice: 0.3578304648399353\n"
     ]
    },
    {
     "name": "stderr",
     "output_type": "stream",
     "text": [
      "Training (9106 / 18000 Steps) (loss=0.47121): 100%|██████████| 7/7 [00:23<00:00,  3.37s/it]\n",
      "Training (9113 / 18000 Steps) (loss=0.47946): 100%|██████████| 7/7 [00:14<00:00,  2.12s/it]\n",
      "Training (9120 / 18000 Steps) (loss=0.67147): 100%|██████████| 7/7 [00:14<00:00,  2.10s/it]\n",
      "Training (9127 / 18000 Steps) (loss=0.42972): 100%|██████████| 7/7 [00:15<00:00,  2.15s/it]\n",
      "Training (9134 / 18000 Steps) (loss=0.54056): 100%|██████████| 7/7 [00:14<00:00,  2.13s/it]\n",
      "Training (9141 / 18000 Steps) (loss=0.41789): 100%|██████████| 7/7 [00:15<00:00,  2.15s/it]\n",
      "Training (9148 / 18000 Steps) (loss=0.31636): 100%|██████████| 7/7 [00:14<00:00,  2.12s/it]\n",
      "Training (9155 / 18000 Steps) (loss=0.36254): 100%|██████████| 7/7 [00:14<00:00,  2.11s/it]\n",
      "Training (9162 / 18000 Steps) (loss=0.35921): 100%|██████████| 7/7 [00:14<00:00,  2.10s/it]\n",
      "Training (9169 / 18000 Steps) (loss=0.31565): 100%|██████████| 7/7 [00:14<00:00,  2.12s/it]\n",
      "Training (9176 / 18000 Steps) (loss=0.41490): 100%|██████████| 7/7 [00:14<00:00,  2.12s/it]\n",
      "Training (9183 / 18000 Steps) (loss=0.45079): 100%|██████████| 7/7 [00:14<00:00,  2.14s/it]\n",
      "Training (9190 / 18000 Steps) (loss=0.28201): 100%|██████████| 7/7 [00:14<00:00,  2.13s/it]\n",
      "Training (9197 / 18000 Steps) (loss=0.29095): 100%|██████████| 7/7 [00:15<00:00,  2.14s/it]\n",
      "Validate (9198 / 10 Steps): 100%|██████████| 2/2 [00:08<00:00,  4.26s/it]<00:14,  2.86s/it]\n",
      "Training (9200 / 18000 Steps) (loss=0.30995):  43%|████▎     | 3/7 [00:16<00:25,  6.29s/it]"
     ]
    },
    {
     "name": "stdout",
     "output_type": "stream",
     "text": [
      "Model Was Not Saved ! Current Best Avg. Dice: 0.3791145980358124 Current Avg. Dice: 0.37688377499580383 Current Avg. tumor Dice: 0.3491673171520233 Current Avg. lymph Dice: 0.40460026264190674\n"
     ]
    },
    {
     "name": "stderr",
     "output_type": "stream",
     "text": [
      "Training (9204 / 18000 Steps) (loss=0.46100): 100%|██████████| 7/7 [00:23<00:00,  3.31s/it]\n",
      "Training (9211 / 18000 Steps) (loss=0.63546): 100%|██████████| 7/7 [00:14<00:00,  2.14s/it]\n",
      "Training (9218 / 18000 Steps) (loss=0.32113): 100%|██████████| 7/7 [00:14<00:00,  2.14s/it]\n",
      "Training (9225 / 18000 Steps) (loss=0.34387): 100%|██████████| 7/7 [00:14<00:00,  2.11s/it]\n",
      "Training (9232 / 18000 Steps) (loss=0.47544): 100%|██████████| 7/7 [00:14<00:00,  2.13s/it]\n",
      "Training (9239 / 18000 Steps) (loss=0.29964): 100%|██████████| 7/7 [00:14<00:00,  2.09s/it]\n",
      "Training (9246 / 18000 Steps) (loss=0.47828): 100%|██████████| 7/7 [00:14<00:00,  2.11s/it]\n",
      "Training (9253 / 18000 Steps) (loss=0.44624): 100%|██████████| 7/7 [00:14<00:00,  2.10s/it]\n",
      "Training (9260 / 18000 Steps) (loss=0.60637): 100%|██████████| 7/7 [00:15<00:00,  2.19s/it]\n",
      "Training (9267 / 18000 Steps) (loss=0.48339): 100%|██████████| 7/7 [00:15<00:00,  2.15s/it]\n",
      "Training (9274 / 18000 Steps) (loss=0.35941): 100%|██████████| 7/7 [00:15<00:00,  2.16s/it]\n",
      "Training (9281 / 18000 Steps) (loss=0.52957): 100%|██████████| 7/7 [00:14<00:00,  2.08s/it]\n",
      "Training (9288 / 18000 Steps) (loss=0.36146): 100%|██████████| 7/7 [00:14<00:00,  2.06s/it]\n",
      "Training (9295 / 18000 Steps) (loss=0.29448): 100%|██████████| 7/7 [00:14<00:00,  2.11s/it]\n",
      "Validate (9296 / 10 Steps): 100%|██████████| 2/2 [00:08<00:00,  4.32s/it]<00:06,  2.18s/it]\n",
      "Training (9300 / 18000 Steps) (loss=0.32087):  71%|███████▏  | 5/7 [00:20<00:10,  5.16s/it]"
     ]
    },
    {
     "name": "stdout",
     "output_type": "stream",
     "text": [
      "Model Was Not Saved ! Current Best Avg. Dice: 0.3791145980358124 Current Avg. Dice: 0.36847031116485596 Current Avg. tumor Dice: 0.3572719693183899 Current Avg. lymph Dice: 0.3796687126159668\n"
     ]
    },
    {
     "name": "stderr",
     "output_type": "stream",
     "text": [
      "Training (9302 / 18000 Steps) (loss=0.40032): 100%|██████████| 7/7 [00:23<00:00,  3.35s/it]\n",
      "Training (9309 / 18000 Steps) (loss=0.37748): 100%|██████████| 7/7 [00:15<00:00,  2.19s/it]\n",
      "Training (9316 / 18000 Steps) (loss=0.26592): 100%|██████████| 7/7 [00:14<00:00,  2.12s/it]\n",
      "Training (9323 / 18000 Steps) (loss=0.45220): 100%|██████████| 7/7 [00:15<00:00,  2.16s/it]\n",
      "Training (9330 / 18000 Steps) (loss=0.30915): 100%|██████████| 7/7 [00:14<00:00,  2.05s/it]\n",
      "Training (9337 / 18000 Steps) (loss=0.26686): 100%|██████████| 7/7 [00:14<00:00,  2.10s/it]\n",
      "Training (9344 / 18000 Steps) (loss=0.24670): 100%|██████████| 7/7 [00:14<00:00,  2.12s/it]\n",
      "Training (9351 / 18000 Steps) (loss=0.40571): 100%|██████████| 7/7 [00:14<00:00,  2.14s/it]\n",
      "Training (9358 / 18000 Steps) (loss=0.36895): 100%|██████████| 7/7 [00:15<00:00,  2.16s/it]\n",
      "Training (9365 / 18000 Steps) (loss=0.43602): 100%|██████████| 7/7 [00:14<00:00,  2.09s/it]\n",
      "Training (9372 / 18000 Steps) (loss=0.25104): 100%|██████████| 7/7 [00:14<00:00,  2.06s/it]\n",
      "Training (9379 / 18000 Steps) (loss=0.32841): 100%|██████████| 7/7 [00:14<00:00,  2.14s/it]\n",
      "Training (9386 / 18000 Steps) (loss=0.41726): 100%|██████████| 7/7 [00:14<00:00,  2.13s/it]\n",
      "Training (9393 / 18000 Steps) (loss=0.35667): 100%|██████████| 7/7 [00:14<00:00,  2.13s/it]\n",
      "Validate (9394 / 10 Steps): 100%|██████████| 2/2 [00:08<00:00,  4.34s/it]<00:01,  1.98s/it]\n",
      "Training (9400 / 18000 Steps) (loss=0.43504): 100%|██████████| 7/7 [00:23<00:00,  3.41s/it]\n"
     ]
    },
    {
     "name": "stdout",
     "output_type": "stream",
     "text": [
      "Model Was Not Saved ! Current Best Avg. Dice: 0.3791145980358124 Current Avg. Dice: 0.31535711884498596 Current Avg. tumor Dice: 0.29693603515625 Current Avg. lymph Dice: 0.3337782323360443\n"
     ]
    },
    {
     "name": "stderr",
     "output_type": "stream",
     "text": [
      "Training (9407 / 18000 Steps) (loss=0.40017): 100%|██████████| 7/7 [00:14<00:00,  2.11s/it]\n",
      "Training (9414 / 18000 Steps) (loss=0.53820): 100%|██████████| 7/7 [00:14<00:00,  2.10s/it]\n",
      "Training (9421 / 18000 Steps) (loss=0.26967): 100%|██████████| 7/7 [00:14<00:00,  2.13s/it]\n",
      "Training (9428 / 18000 Steps) (loss=0.43142): 100%|██████████| 7/7 [00:14<00:00,  2.13s/it]\n",
      "Training (9435 / 18000 Steps) (loss=0.45137): 100%|██████████| 7/7 [00:14<00:00,  2.14s/it]\n",
      "Training (9442 / 18000 Steps) (loss=0.40269): 100%|██████████| 7/7 [00:14<00:00,  2.13s/it]\n",
      "Training (9449 / 18000 Steps) (loss=0.44391): 100%|██████████| 7/7 [00:14<00:00,  2.06s/it]\n",
      "Training (9456 / 18000 Steps) (loss=0.21530): 100%|██████████| 7/7 [00:15<00:00,  2.18s/it]\n",
      "Training (9463 / 18000 Steps) (loss=0.41343): 100%|██████████| 7/7 [00:14<00:00,  2.13s/it]\n",
      "Training (9470 / 18000 Steps) (loss=0.60934): 100%|██████████| 7/7 [00:14<00:00,  2.12s/it]\n",
      "Training (9477 / 18000 Steps) (loss=0.27749): 100%|██████████| 7/7 [00:14<00:00,  2.11s/it]\n",
      "Training (9484 / 18000 Steps) (loss=0.39770): 100%|██████████| 7/7 [00:14<00:00,  2.11s/it]\n",
      "Training (9491 / 18000 Steps) (loss=0.18279): 100%|██████████| 7/7 [00:14<00:00,  2.09s/it]\n",
      "Training (9498 / 18000 Steps) (loss=0.50553): 100%|██████████| 7/7 [00:14<00:00,  2.13s/it]\n",
      "Validate (9499 / 10 Steps): 100%|██████████| 2/2 [00:08<00:00,  4.26s/it]<00:28,  4.73s/it]\n",
      "Training (9500 / 18000 Steps) (loss=0.33193):  29%|██▊       | 2/7 [00:15<00:40,  8.06s/it]"
     ]
    },
    {
     "name": "stdout",
     "output_type": "stream",
     "text": [
      "Model Was Not Saved ! Current Best Avg. Dice: 0.3791145980358124 Current Avg. Dice: 0.3280941843986511 Current Avg. tumor Dice: 0.3139294385910034 Current Avg. lymph Dice: 0.3422589600086212\n"
     ]
    },
    {
     "name": "stderr",
     "output_type": "stream",
     "text": [
      "Training (9501 / 18000 Steps) (loss=0.57878):  43%|████▎     | 3/7 [00:16<00:20,  5.21s/it]"
     ]
    }
   ],
   "source": [
    "epoch = 0 # used for LR scheduler\n",
    "max_num_epochs = 530 # used for LR scheduler\n",
    "\n",
    "torch.autograd.set_detect_anomaly(True)  # Enable anomaly detection\n",
    "\n",
    "while global_step < max_iterations:\n",
    "    global_step, dice_val_best, global_step_best = train(\n",
    "        global_step, train_loader, dice_val_best, global_step_best\n",
    "    )\n",
    "    epoch += 1\n",
    "    #optimizer.param_groups[0]['lr'] = poly_lr(epoch, max_num_epochs, 0.005676 , 0.9)\n",
    "# model.load_state_dict(torch.load(os.path.join(model_dir, \"best_metric_luck_UNETr_prompt.pth\")))"
   ]
  }
 ],
 "metadata": {
  "kernelspec": {
   "display_name": "clam",
   "language": "python",
   "name": "python3"
  },
  "language_info": {
   "codemirror_mode": {
    "name": "ipython",
    "version": 3
   },
   "file_extension": ".py",
   "mimetype": "text/x-python",
   "name": "python",
   "nbconvert_exporter": "python",
   "pygments_lexer": "ipython3",
   "version": "3.8.0"
  }
 },
 "nbformat": 4,
 "nbformat_minor": 2
}
