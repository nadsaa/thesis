{
 "cells": [
  {
   "cell_type": "code",
   "execution_count": 1,
   "metadata": {},
   "outputs": [
    {
     "data": {
      "text/plain": [
       "1"
      ]
     },
     "execution_count": 1,
     "metadata": {},
     "output_type": "execute_result"
    }
   ],
   "source": [
    "import os\n",
    "os.environ[\"CUDA_DEVICE_ORDER\"] = \"PCI_BUS_ID\"\n",
    "os.environ[\"CUDA_VISIBLE_DEVICES\"] = \"3\" \n",
    "import torch\n",
    "torch.cuda.device_count()"
   ]
  },
  {
   "cell_type": "code",
   "execution_count": 2,
   "metadata": {},
   "outputs": [],
   "source": [
    "import os\n",
    "import shutil\n",
    "import tempfile\n",
    "\n",
    "import matplotlib.pyplot as plt\n",
    "import numpy as np\n",
    "from tqdm import tqdm\n",
    "from glob import glob\n",
    "# import wandb\n",
    "\n",
    "import monai\n",
    "from monai.losses import DiceCELoss, DiceFocalLoss, FocalLoss\n",
    "from monai.inferers import sliding_window_inference\n",
    "from monai import transforms\n",
    "\n",
    "from monai.transforms import (\n",
    "       AsDiscrete,\n",
    "    Compose,\n",
    "    CropForegroundd,\n",
    "    LoadImaged,\n",
    "    Orientationd,\n",
    "    RandFlipd,\n",
    "    RandCropByPosNegLabeld,\n",
    "    RandShiftIntensityd,\n",
    "    ScaleIntensityRanged,\n",
    "    Spacingd,\n",
    "    RandRotate90d,\n",
    "    MapTransform,\n",
    "    ScaleIntensityd,\n",
    "    #AddChanneld,\n",
    "    SpatialPadd,\n",
    "    CenterSpatialCropd,\n",
    "    EnsureChannelFirstd,\n",
    "    ConcatItemsd,\n",
    "    AdjustContrastd, \n",
    "    Rand3DElasticd,\n",
    "    HistogramNormalized,\n",
    "    NormalizeIntensityd,\n",
    "    Invertd,\n",
    "    SaveImage,\n",
    "\n",
    ")\n",
    "\n",
    "from monai.config import print_config\n",
    "from monai.metrics import DiceMetric\n",
    "from monai.networks.nets import SwinUNETR, UNETR, SegResNet\n",
    "from monai.data import (\n",
    "    DataLoader,\n",
    "    CacheDataset,\n",
    "    load_decathlon_datalist,\n",
    "    decollate_batch,\n",
    ")\n",
    "from monai import data\n",
    "\n",
    "\n",
    "from monai.utils import first, set_determinism\n",
    "from sklearn.model_selection import train_test_split\n",
    "import json\n",
    "\n",
    "\n",
    "import torch"
   ]
  },
  {
   "cell_type": "code",
   "execution_count": 3,
   "metadata": {},
   "outputs": [],
   "source": [
    "set_determinism(seed=1024)"
   ]
  },
  {
   "cell_type": "code",
   "execution_count": 4,
   "metadata": {},
   "outputs": [],
   "source": [
    "data_dir = '/home/nada.saadi/MIS-FM/hecktor2022_cropped'\n",
    "json_dir = \"/home/nada.saadi/CTPET/hecktor2022_cropped/HMR_pt_train_new.json\""
   ]
  },
  {
   "cell_type": "code",
   "execution_count": 5,
   "metadata": {},
   "outputs": [],
   "source": [
    "def datafold_read(datalist, basedir, fold=0, key=\"training\"):\n",
    "    with open(datalist) as f:\n",
    "        json_data = json.load(f)\n",
    "\n",
    "    json_data = json_data[key]\n",
    "\n",
    "    for d in json_data:\n",
    "        for k in d:\n",
    "            if isinstance(d[k], list):\n",
    "                d[k] = [os.path.join(basedir, iv) for iv in d[k]]\n",
    "            elif isinstance(d[k], str):\n",
    "                d[k] = os.path.join(basedir, d[k]) if len(d[k]) > 0 else d[k]\n",
    "\n",
    "    tr = []\n",
    "    val = []\n",
    "    for d in json_data:\n",
    "        if \"fold\" in d and d[\"fold\"] == fold:\n",
    "            val.append(d)\n",
    "        else:\n",
    "            tr.append(d)\n",
    "\n",
    "    return tr, val"
   ]
  },
  {
   "cell_type": "code",
   "execution_count": 6,
   "metadata": {},
   "outputs": [
    {
     "data": {
      "text/plain": [
       "(13, 4)"
      ]
     },
     "execution_count": 6,
     "metadata": {},
     "output_type": "execute_result"
    }
   ],
   "source": [
    "train_files, validation_files = datafold_read(datalist=json_dir, basedir=data_dir, fold=0)\n",
    "len(train_files), len(validation_files)"
   ]
  },
  {
   "cell_type": "code",
   "execution_count": 7,
   "metadata": {},
   "outputs": [],
   "source": [
    "class ClipCT(MapTransform):\n",
    "    \"\"\"\n",
    "    Convert labels to multi channels based on hecktor classes:\n",
    "    label 1 is the tumor\n",
    "    label 2 is the lymph node\n",
    "\n",
    "    \"\"\"\n",
    "\n",
    "    def __call__(self, data):\n",
    "        d = dict(data)\n",
    "        for key in self.keys:\n",
    "            if key == \"ct\":\n",
    "                d[key] = torch.clip(d[key], min=-200, max=200)\n",
    "            # elif key == \"pt\":\n",
    "            #     d[key] = torch.clip(d[key], d[key].min(), 5)\n",
    "        return d\n",
    "\n",
    "class MulPTFM(MapTransform):\n",
    "    \"\"\"\n",
    "    Mult PT and FM \n",
    "\n",
    "    \"\"\"\n",
    "\n",
    "    def __call__(self, data):\n",
    "        d = dict(data)\n",
    "\n",
    "        fm = d[\"ct\"] > 0\n",
    "        d[\"pt\"] = d[\"pt\"] * fm\n",
    "        return d\n",
    "\n",
    "class SelectClass(MapTransform):\n",
    "    \"\"\"\n",
    "    Select the class for which you want to fine tune the model \n",
    "\n",
    "    \"\"\"\n",
    "    # def __init__(self, keys, cls=1):\n",
    "    #     super(self).__init__(keys)\n",
    "    #     self.cls = cls\n",
    "\n",
    "    def __call__(self, data):\n",
    "        d = dict(data)\n",
    "        d[\"seg\"][d[\"seg\"] == 1] = 0\n",
    "        # d[\"seg\"][d[\"seg\"] == 2] = 1\n",
    "        \n",
    "        return d"
   ]
  },
  {
   "cell_type": "code",
   "execution_count": 8,
   "metadata": {},
   "outputs": [],
   "source": [
    "num_samples = 4\n",
    "\n",
    "train_transforms = Compose(\n",
    "    [\n",
    "        LoadImaged(keys=[\"pt\", \"seg\"], ensure_channel_first = True),\n",
    "        SpatialPadd(keys=[\"pt\",  \"seg\"], spatial_size=(200, 200, 310), method='end'),\n",
    "        Orientationd(keys=[\"pt\",  \"seg\"], axcodes=\"PLS\"),\n",
    "        #NormalizeIntensityd(keys=[\"pt\"]),\n",
    "        ClipCT(keys=[\"pt\"]),\n",
    "        ScaleIntensityd(keys=[\"pt\"], minv=0, maxv=1),\n",
    "        #MulPTFM(keys=[\"ct\",\"pt\"]),\n",
    "        #ConcatItemsd(keys=[\"pt\", \"ct\"], name=\"ctpt\"),\n",
    "        #NormalizeIntensityd(keys=[\"ctpt\"], channel_wise=True),\n",
    "        RandCropByPosNegLabeld(\n",
    "            keys=[\"pt\", \"seg\"],\n",
    "            label_key=\"seg\",\n",
    "            spatial_size=(96, 96, 96),\n",
    "            pos=1,\n",
    "            neg=1,\n",
    "            num_samples=num_samples,\n",
    "            image_key=\"pt\",\n",
    "            image_threshold=0,\n",
    "        ),\n",
    "        RandFlipd(\n",
    "            keys=[\"pt\", \"seg\"],\n",
    "            spatial_axis=[0],\n",
    "            prob=0.20,\n",
    "        ),\n",
    "        RandFlipd(\n",
    "            keys=[\"pt\", \"seg\"],\n",
    "            spatial_axis=[1],\n",
    "            prob=0.20,\n",
    "        ),\n",
    "        RandFlipd(\n",
    "            keys=[\"pt\", \"seg\"],\n",
    "            spatial_axis=[2],\n",
    "            prob=0.20,\n",
    "        ),\n",
    "        RandRotate90d(\n",
    "            keys=[\"pt\", \"seg\"],\n",
    "            prob=0.20,\n",
    "            max_k=3,\n",
    "        ),\n",
    "    ]\n",
    ")\n",
    "val_transforms = Compose(\n",
    "    [\n",
    "        LoadImaged(keys=[\"pt\", \"seg\"], ensure_channel_first = True),\n",
    "        SpatialPadd(keys=[\"pt\", \"seg\"], spatial_size=(200, 200, 310), method='end'),\n",
    "        Orientationd(keys=[\"pt\",  \"seg\"], axcodes=\"PLS\"),\n",
    "        #NormalizeIntensityd(keys=[\"pt\"]),\n",
    "        ClipCT(keys=[\"pt\"]),\n",
    "        ScaleIntensityd(keys=[\"pt\"], minv=0, maxv=1),\n",
    "        #MulPTFM(keys=[\"ct\",\"pt\"]),\n",
    "        #ConcatItemsd(keys=[\"pt\", \"ct\"], name=\"ctpt\"),\n",
    "    ]\n",
    ")"
   ]
  },
  {
   "cell_type": "code",
   "execution_count": 9,
   "metadata": {},
   "outputs": [],
   "source": [
    "train_ds = monai.data.Dataset(data=train_files, transform=train_transforms)\n",
    "\n",
    "train_loader = DataLoader(\n",
    "    train_ds,\n",
    "    batch_size=2,\n",
    "    shuffle=True,\n",
    "    num_workers=8,\n",
    "    pin_memory=torch.cuda.is_available(),\n",
    "    )\n",
    "\n",
    "val_ds = monai.data.Dataset(data=validation_files, transform=val_transforms)\n",
    "\n",
    "val_loader = DataLoader(\n",
    "    val_ds, \n",
    "    batch_size=2, \n",
    "    num_workers=8, \n",
    "    shuffle= False)"
   ]
  },
  {
   "cell_type": "code",
   "execution_count": 10,
   "metadata": {},
   "outputs": [
    {
     "name": "stderr",
     "output_type": "stream",
     "text": [
      "/home/nada.saadi/miniconda3/envs/clam/lib/python3.8/site-packages/monai/utils/deprecate_utils.py:221: FutureWarning: monai.networks.nets.unetr UNETR.__init__:pos_embed: Argument `pos_embed` has been deprecated since version 1.2. It will be removed in version 1.4. please use `proj_type` instead.\n",
      "  warn_deprecated(argname, msg, warning_category)\n"
     ]
    },
    {
     "data": {
      "text/plain": [
       "<All keys matched successfully>"
      ]
     },
     "execution_count": 10,
     "metadata": {},
     "output_type": "execute_result"
    }
   ],
   "source": [
    "os.environ[\"CUDA_DEVICE_ORDER\"] = \"PCI_BUS_ID\"\n",
    "device = torch.device(\"cuda\" if torch.cuda.is_available() else \"cpu\")\n",
    "model = UNETR(\n",
    "    in_channels=1,\n",
    "    out_channels=3,\n",
    "    img_size=(96, 96, 96),\n",
    "    feature_size=16,\n",
    "    hidden_size=768,\n",
    "    mlp_dim=3072, \n",
    "    num_heads=12,\n",
    "    pos_embed=\"perceptron\",\n",
    "    norm_name=\"instance\",\n",
    "    res_block=True,\n",
    "    dropout_rate=0.0,\n",
    ").to(device) \n",
    "\n",
    "pt_weights_6='/home/nada.saadi/CTPET/hecktor2022_cropped/6th_ctpt_channel_PRET/6thctpt_channels_pret.pth'\n",
    "\n",
    "# Ignore layers with size mismatch\n",
    "state_dict = torch.load(pt_weights_6)\n",
    "model_state_dict = model.state_dict()\n",
    "for name, param in state_dict.items():\n",
    "    if name in model_state_dict:\n",
    "        if param.shape == model_state_dict[name].shape:\n",
    "            model_state_dict[name] = param\n",
    "\n",
    "model.load_state_dict(model_state_dict)"
   ]
  },
  {
   "cell_type": "code",
   "execution_count": 11,
   "metadata": {},
   "outputs": [],
   "source": [
    "torch.backends.cudnn.benchmark = True\n",
    "def poly_lr(epoch, max_epochs, initial_lr, exponent=0.9):\n",
    "    return initial_lr * (1 - epoch / max_epochs)**exponent\n",
    "\n",
    "loss_function = DiceCELoss(to_onehot_y=True, softmax=True)\n",
    "optimizer = torch.optim.AdamW(model.parameters(), lr=1e-4, weight_decay=1e-5)"
   ]
  },
  {
   "cell_type": "code",
   "execution_count": 13,
   "metadata": {},
   "outputs": [
    {
     "name": "stderr",
     "output_type": "stream",
     "text": [
      "Training (X / X Steps) (loss=X.X):   0%|          | 0/7 [00:00<?, ?it/s]"
     ]
    },
    {
     "name": "stderr",
     "output_type": "stream",
     "text": [
      "Training (6 / 18000 Steps) (loss=0.76905): 100%|██████████| 7/7 [00:17<00:00,  2.57s/it]\n",
      "Training (13 / 18000 Steps) (loss=0.89879): 100%|██████████| 7/7 [00:05<00:00,  1.26it/s]\n",
      "Training (20 / 18000 Steps) (loss=0.87411): 100%|██████████| 7/7 [00:05<00:00,  1.24it/s]\n",
      "Training (27 / 18000 Steps) (loss=0.71966): 100%|██████████| 7/7 [00:05<00:00,  1.34it/s]\n",
      "Training (34 / 18000 Steps) (loss=0.69562): 100%|██████████| 7/7 [00:05<00:00,  1.28it/s]\n",
      "Training (41 / 18000 Steps) (loss=0.75202): 100%|██████████| 7/7 [00:05<00:00,  1.26it/s]\n",
      "Training (48 / 18000 Steps) (loss=0.73950): 100%|██████████| 7/7 [00:05<00:00,  1.25it/s]\n",
      "Training (55 / 18000 Steps) (loss=0.71041): 100%|██████████| 7/7 [00:05<00:00,  1.27it/s]\n",
      "Training (62 / 18000 Steps) (loss=0.69339): 100%|██████████| 7/7 [00:05<00:00,  1.27it/s]\n",
      "Training (69 / 18000 Steps) (loss=0.76197): 100%|██████████| 7/7 [00:05<00:00,  1.30it/s]\n",
      "Training (76 / 18000 Steps) (loss=0.70559): 100%|██████████| 7/7 [00:05<00:00,  1.24it/s]\n",
      "Training (83 / 18000 Steps) (loss=0.69663): 100%|██████████| 7/7 [00:05<00:00,  1.27it/s]\n",
      "Training (90 / 18000 Steps) (loss=0.72864): 100%|██████████| 7/7 [00:05<00:00,  1.27it/s]\n",
      "Training (97 / 18000 Steps) (loss=0.67824): 100%|██████████| 7/7 [00:05<00:00,  1.27it/s]\n",
      "Validate (98 / 10 Steps): 100%|██████████| 2/2 [00:04<00:00,  2.22s/it]3<00:07,  1.48s/it]\n",
      "Training (100 / 18000 Steps) (loss=0.71396):  43%|████▎     | 3/7 [00:09<00:13,  3.49s/it]"
     ]
    },
    {
     "name": "stdout",
     "output_type": "stream",
     "text": [
      "Model Was Saved ! Current Best Avg. Dice: 0.02303731068968773 Current Avg. Dice: 0.02303731068968773 Current Avg. tumor Dice: 0.04607462137937546 Current Avg. lymph Dice: 0.0\n"
     ]
    },
    {
     "name": "stderr",
     "output_type": "stream",
     "text": [
      "Training (104 / 18000 Steps) (loss=0.81766): 100%|██████████| 7/7 [00:10<00:00,  1.55s/it]\n",
      "Training (111 / 18000 Steps) (loss=0.62565): 100%|██████████| 7/7 [00:05<00:00,  1.27it/s]\n",
      "Training (118 / 18000 Steps) (loss=0.73784): 100%|██████████| 7/7 [00:05<00:00,  1.31it/s]\n",
      "Training (125 / 18000 Steps) (loss=0.74489): 100%|██████████| 7/7 [00:05<00:00,  1.26it/s]\n",
      "Training (132 / 18000 Steps) (loss=0.76792): 100%|██████████| 7/7 [00:05<00:00,  1.28it/s]\n",
      "Training (139 / 18000 Steps) (loss=0.68971): 100%|██████████| 7/7 [00:05<00:00,  1.23it/s]\n",
      "Training (146 / 18000 Steps) (loss=0.72999): 100%|██████████| 7/7 [00:05<00:00,  1.32it/s]\n",
      "Training (153 / 18000 Steps) (loss=0.81887): 100%|██████████| 7/7 [00:05<00:00,  1.24it/s]\n",
      "Training (160 / 18000 Steps) (loss=0.79015): 100%|██████████| 7/7 [00:05<00:00,  1.24it/s]\n",
      "Training (167 / 18000 Steps) (loss=0.81270): 100%|██████████| 7/7 [00:05<00:00,  1.31it/s]\n",
      "Training (174 / 18000 Steps) (loss=0.69106): 100%|██████████| 7/7 [00:05<00:00,  1.20it/s]\n",
      "Training (181 / 18000 Steps) (loss=0.62980): 100%|██████████| 7/7 [00:05<00:00,  1.27it/s]\n",
      "Training (188 / 18000 Steps) (loss=0.80865): 100%|██████████| 7/7 [00:05<00:00,  1.35it/s]\n",
      "Training (195 / 18000 Steps) (loss=0.69867): 100%|██████████| 7/7 [00:05<00:00,  1.21it/s]\n",
      "Validate (196 / 10 Steps): 100%|██████████| 2/2 [00:04<00:00,  2.30s/it]<00:02,  1.26it/s]\n",
      "Training (200 / 18000 Steps) (loss=0.79629):  71%|███████▏  | 5/7 [00:09<00:04,  2.34s/it]"
     ]
    },
    {
     "name": "stdout",
     "output_type": "stream",
     "text": [
      "Model Was Not Saved ! Current Best Avg. Dice: 0.02303731068968773 Current Avg. Dice: 0.017663223668932915 Current Avg. tumor Dice: 0.03532644733786583 Current Avg. lymph Dice: 0.0\n"
     ]
    },
    {
     "name": "stderr",
     "output_type": "stream",
     "text": [
      "Training (202 / 18000 Steps) (loss=0.68516): 100%|██████████| 7/7 [00:10<00:00,  1.47s/it]\n",
      "Training (209 / 18000 Steps) (loss=0.78544): 100%|██████████| 7/7 [00:05<00:00,  1.28it/s]\n",
      "Training (216 / 18000 Steps) (loss=0.77803): 100%|██████████| 7/7 [00:05<00:00,  1.26it/s]\n",
      "Training (223 / 18000 Steps) (loss=0.69029): 100%|██████████| 7/7 [00:05<00:00,  1.23it/s]\n",
      "Training (230 / 18000 Steps) (loss=0.80474): 100%|██████████| 7/7 [00:05<00:00,  1.25it/s]\n",
      "Training (237 / 18000 Steps) (loss=0.90117): 100%|██████████| 7/7 [00:05<00:00,  1.29it/s]\n",
      "Training (244 / 18000 Steps) (loss=0.79417): 100%|██████████| 7/7 [00:05<00:00,  1.22it/s]\n",
      "Training (251 / 18000 Steps) (loss=0.69605): 100%|██████████| 7/7 [00:05<00:00,  1.32it/s]\n",
      "Training (258 / 18000 Steps) (loss=0.66523): 100%|██████████| 7/7 [00:05<00:00,  1.21it/s]\n",
      "Training (265 / 18000 Steps) (loss=0.67054): 100%|██████████| 7/7 [00:05<00:00,  1.28it/s]\n",
      "Training (272 / 18000 Steps) (loss=0.73554): 100%|██████████| 7/7 [00:05<00:00,  1.25it/s]\n",
      "Training (279 / 18000 Steps) (loss=0.68746): 100%|██████████| 7/7 [00:05<00:00,  1.24it/s]\n",
      "Training (286 / 18000 Steps) (loss=0.67970): 100%|██████████| 7/7 [00:05<00:00,  1.26it/s]\n",
      "Training (293 / 18000 Steps) (loss=0.83848): 100%|██████████| 7/7 [00:05<00:00,  1.29it/s]\n",
      "Validate (294 / 10 Steps): 100%|██████████| 2/2 [00:04<00:00,  2.15s/it]<00:00,  1.76it/s]\n",
      "Training (300 / 18000 Steps) (loss=0.71350): 100%|██████████| 7/7 [00:10<00:00,  1.50s/it]\n"
     ]
    },
    {
     "name": "stdout",
     "output_type": "stream",
     "text": [
      "Model Was Saved ! Current Best Avg. Dice: 0.057665299624204636 Current Avg. Dice: 0.057665299624204636 Current Avg. tumor Dice: 0.11533059924840927 Current Avg. lymph Dice: 0.0\n"
     ]
    },
    {
     "name": "stderr",
     "output_type": "stream",
     "text": [
      "Training (307 / 18000 Steps) (loss=0.69470): 100%|██████████| 7/7 [00:05<00:00,  1.21it/s]\n",
      "Training (314 / 18000 Steps) (loss=0.70729): 100%|██████████| 7/7 [00:05<00:00,  1.27it/s]\n",
      "Training (321 / 18000 Steps) (loss=0.74874): 100%|██████████| 7/7 [00:05<00:00,  1.29it/s]\n",
      "Training (328 / 18000 Steps) (loss=0.72164): 100%|██████████| 7/7 [00:05<00:00,  1.25it/s]\n",
      "Training (335 / 18000 Steps) (loss=0.70010): 100%|██████████| 7/7 [00:05<00:00,  1.21it/s]\n",
      "Training (342 / 18000 Steps) (loss=0.78154): 100%|██████████| 7/7 [00:05<00:00,  1.29it/s]\n",
      "Training (349 / 18000 Steps) (loss=0.81246): 100%|██████████| 7/7 [00:05<00:00,  1.21it/s]\n",
      "Training (356 / 18000 Steps) (loss=0.69827): 100%|██████████| 7/7 [00:05<00:00,  1.31it/s]\n",
      "Training (363 / 18000 Steps) (loss=0.67876): 100%|██████████| 7/7 [00:05<00:00,  1.21it/s]\n",
      "Training (370 / 18000 Steps) (loss=0.66165): 100%|██████████| 7/7 [00:05<00:00,  1.30it/s]\n",
      "Training (377 / 18000 Steps) (loss=0.78925): 100%|██████████| 7/7 [00:05<00:00,  1.29it/s]\n",
      "Training (384 / 18000 Steps) (loss=0.71358): 100%|██████████| 7/7 [00:05<00:00,  1.24it/s]\n",
      "Training (391 / 18000 Steps) (loss=0.80671): 100%|██████████| 7/7 [00:05<00:00,  1.29it/s]\n",
      "Training (398 / 18000 Steps) (loss=0.66523): 100%|██████████| 7/7 [00:05<00:00,  1.28it/s]\n",
      "Validate (399 / 10 Steps): 100%|██████████| 2/2 [00:04<00:00,  2.21s/it]<00:16,  2.80s/it]\n",
      "Training (400 / 18000 Steps) (loss=0.66229):  29%|██▊       | 2/7 [00:08<00:22,  4.45s/it]"
     ]
    },
    {
     "name": "stdout",
     "output_type": "stream",
     "text": [
      "Model Was Saved ! Current Best Avg. Dice: 0.06306833028793335 Current Avg. Dice: 0.06306833028793335 Current Avg. tumor Dice: 0.1261366456747055 Current Avg. lymph Dice: 0.0\n"
     ]
    },
    {
     "name": "stderr",
     "output_type": "stream",
     "text": [
      "Training (405 / 18000 Steps) (loss=0.66163): 100%|██████████| 7/7 [00:10<00:00,  1.48s/it]\n",
      "Training (412 / 18000 Steps) (loss=0.68217): 100%|██████████| 7/7 [00:05<00:00,  1.20it/s]\n",
      "Training (419 / 18000 Steps) (loss=0.73478): 100%|██████████| 7/7 [00:05<00:00,  1.25it/s]\n",
      "Training (426 / 18000 Steps) (loss=0.69998): 100%|██████████| 7/7 [00:05<00:00,  1.33it/s]\n",
      "Training (433 / 18000 Steps) (loss=0.70270): 100%|██████████| 7/7 [00:05<00:00,  1.23it/s]\n",
      "Training (440 / 18000 Steps) (loss=0.68259): 100%|██████████| 7/7 [00:05<00:00,  1.33it/s]\n",
      "Training (447 / 18000 Steps) (loss=0.58880): 100%|██████████| 7/7 [00:05<00:00,  1.20it/s]\n",
      "Training (454 / 18000 Steps) (loss=0.68079): 100%|██████████| 7/7 [00:05<00:00,  1.20it/s]\n",
      "Training (461 / 18000 Steps) (loss=0.78720): 100%|██████████| 7/7 [00:05<00:00,  1.25it/s]\n",
      "Training (468 / 18000 Steps) (loss=0.74917): 100%|██████████| 7/7 [00:05<00:00,  1.23it/s]\n",
      "Training (475 / 18000 Steps) (loss=0.66235): 100%|██████████| 7/7 [00:05<00:00,  1.29it/s]\n",
      "Training (482 / 18000 Steps) (loss=0.55633): 100%|██████████| 7/7 [00:05<00:00,  1.30it/s]\n",
      "Training (489 / 18000 Steps) (loss=0.65986): 100%|██████████| 7/7 [00:05<00:00,  1.27it/s]\n",
      "Training (496 / 18000 Steps) (loss=0.70738): 100%|██████████| 7/7 [00:05<00:00,  1.32it/s]\n",
      "Validate (497 / 10 Steps): 100%|██████████| 2/2 [00:04<00:00,  2.16s/it]<00:04,  1.00s/it]\n",
      "Training (500 / 18000 Steps) (loss=0.67396):  57%|█████▋    | 4/7 [00:08<00:07,  2.50s/it]"
     ]
    },
    {
     "name": "stdout",
     "output_type": "stream",
     "text": [
      "Model Was Not Saved ! Current Best Avg. Dice: 0.06306833028793335 Current Avg. Dice: 0.06156855821609497 Current Avg. tumor Dice: 0.1131613627076149 Current Avg. lymph Dice: 0.009975762106478214\n"
     ]
    },
    {
     "name": "stderr",
     "output_type": "stream",
     "text": [
      "Training (503 / 18000 Steps) (loss=0.66405): 100%|██████████| 7/7 [00:09<00:00,  1.40s/it]\n",
      "Training (510 / 18000 Steps) (loss=0.75185): 100%|██████████| 7/7 [00:05<00:00,  1.18it/s]\n",
      "Training (517 / 18000 Steps) (loss=0.82027): 100%|██████████| 7/7 [00:05<00:00,  1.26it/s]\n",
      "Training (524 / 18000 Steps) (loss=0.65853): 100%|██████████| 7/7 [00:05<00:00,  1.27it/s]\n",
      "Training (531 / 18000 Steps) (loss=0.57547): 100%|██████████| 7/7 [00:05<00:00,  1.22it/s]\n",
      "Training (538 / 18000 Steps) (loss=0.73971): 100%|██████████| 7/7 [00:05<00:00,  1.22it/s]\n",
      "Training (545 / 18000 Steps) (loss=0.67496): 100%|██████████| 7/7 [00:05<00:00,  1.31it/s]\n",
      "Training (552 / 18000 Steps) (loss=0.71984): 100%|██████████| 7/7 [00:05<00:00,  1.21it/s]\n",
      "Training (559 / 18000 Steps) (loss=0.67725): 100%|██████████| 7/7 [00:05<00:00,  1.29it/s]\n",
      "Training (566 / 18000 Steps) (loss=0.63867): 100%|██████████| 7/7 [00:05<00:00,  1.24it/s]\n",
      "Training (573 / 18000 Steps) (loss=0.63521): 100%|██████████| 7/7 [00:05<00:00,  1.29it/s]\n",
      "Training (580 / 18000 Steps) (loss=0.60208): 100%|██████████| 7/7 [00:05<00:00,  1.25it/s]\n",
      "Training (587 / 18000 Steps) (loss=0.58805): 100%|██████████| 7/7 [00:05<00:00,  1.25it/s]\n",
      "Training (594 / 18000 Steps) (loss=0.68473): 100%|██████████| 7/7 [00:05<00:00,  1.30it/s]\n",
      "Validate (595 / 10 Steps): 100%|██████████| 2/2 [00:04<00:00,  2.14s/it]<00:01,  1.62it/s]\n",
      "Training (600 / 18000 Steps) (loss=0.61608):  86%|████████▌ | 6/7 [00:09<00:02,  2.26s/it]"
     ]
    },
    {
     "name": "stdout",
     "output_type": "stream",
     "text": [
      "Model Was Saved ! Current Best Avg. Dice: 0.08374742418527603 Current Avg. Dice: 0.08374742418527603 Current Avg. tumor Dice: 0.10378964245319366 Current Avg. lymph Dice: 0.063705213367939\n"
     ]
    },
    {
     "name": "stderr",
     "output_type": "stream",
     "text": [
      "Training (601 / 18000 Steps) (loss=0.70333): 100%|██████████| 7/7 [00:10<00:00,  1.46s/it]\n",
      "Training (608 / 18000 Steps) (loss=0.60673): 100%|██████████| 7/7 [00:05<00:00,  1.34it/s]\n",
      "Training (615 / 18000 Steps) (loss=0.48978): 100%|██████████| 7/7 [00:05<00:00,  1.31it/s]\n",
      "Training (622 / 18000 Steps) (loss=0.65185): 100%|██████████| 7/7 [00:05<00:00,  1.27it/s]\n",
      "Training (629 / 18000 Steps) (loss=0.58697): 100%|██████████| 7/7 [00:05<00:00,  1.25it/s]\n",
      "Training (636 / 18000 Steps) (loss=0.64635): 100%|██████████| 7/7 [00:05<00:00,  1.24it/s]\n",
      "Training (643 / 18000 Steps) (loss=0.76483): 100%|██████████| 7/7 [00:05<00:00,  1.26it/s]\n",
      "Training (650 / 18000 Steps) (loss=0.69777): 100%|██████████| 7/7 [00:05<00:00,  1.25it/s]\n",
      "Training (657 / 18000 Steps) (loss=0.61954): 100%|██████████| 7/7 [00:05<00:00,  1.25it/s]\n",
      "Training (664 / 18000 Steps) (loss=0.76495): 100%|██████████| 7/7 [00:05<00:00,  1.28it/s]\n",
      "Training (671 / 18000 Steps) (loss=0.81161): 100%|██████████| 7/7 [00:05<00:00,  1.22it/s]\n",
      "Training (678 / 18000 Steps) (loss=0.71678): 100%|██████████| 7/7 [00:05<00:00,  1.23it/s]\n",
      "Training (685 / 18000 Steps) (loss=0.69152): 100%|██████████| 7/7 [00:05<00:00,  1.22it/s]\n",
      "Training (692 / 18000 Steps) (loss=0.61727): 100%|██████████| 7/7 [00:05<00:00,  1.23it/s]\n",
      "Training (699 / 18000 Steps) (loss=0.65836): 100%|██████████| 7/7 [00:05<00:00,  1.25it/s]\n",
      "Validate (700 / 10 Steps): 100%|██████████| 2/2 [00:04<00:00,  2.21s/it]<?, ?it/s]\n",
      "Training (700 / 18000 Steps) (loss=0.65509):  14%|█▍        | 1/7 [00:08<00:48,  8.01s/it]"
     ]
    },
    {
     "name": "stdout",
     "output_type": "stream",
     "text": [
      "Model Was Saved ! Current Best Avg. Dice: 0.11038786172866821 Current Avg. Dice: 0.11038786172866821 Current Avg. tumor Dice: 0.1339247226715088 Current Avg. lymph Dice: 0.08685100078582764\n"
     ]
    },
    {
     "name": "stderr",
     "output_type": "stream",
     "text": [
      "Training (706 / 18000 Steps) (loss=0.66453): 100%|██████████| 7/7 [00:10<00:00,  1.48s/it]\n",
      "Training (713 / 18000 Steps) (loss=0.68791): 100%|██████████| 7/7 [00:05<00:00,  1.34it/s]\n",
      "Training (720 / 18000 Steps) (loss=0.64937): 100%|██████████| 7/7 [00:05<00:00,  1.26it/s]\n",
      "Training (727 / 18000 Steps) (loss=0.64581): 100%|██████████| 7/7 [00:05<00:00,  1.25it/s]\n",
      "Training (734 / 18000 Steps) (loss=0.69198): 100%|██████████| 7/7 [00:05<00:00,  1.22it/s]\n",
      "Training (741 / 18000 Steps) (loss=0.71711): 100%|██████████| 7/7 [00:05<00:00,  1.24it/s]\n",
      "Training (748 / 18000 Steps) (loss=0.79435): 100%|██████████| 7/7 [00:05<00:00,  1.23it/s]\n",
      "Training (755 / 18000 Steps) (loss=0.70340): 100%|██████████| 7/7 [00:05<00:00,  1.31it/s]\n",
      "Training (762 / 18000 Steps) (loss=0.58318): 100%|██████████| 7/7 [00:05<00:00,  1.19it/s]\n",
      "Training (769 / 18000 Steps) (loss=0.67428): 100%|██████████| 7/7 [00:05<00:00,  1.24it/s]\n",
      "Training (776 / 18000 Steps) (loss=0.70356): 100%|██████████| 7/7 [00:05<00:00,  1.32it/s]\n",
      "Training (783 / 18000 Steps) (loss=0.68018): 100%|██████████| 7/7 [00:05<00:00,  1.24it/s]\n",
      "Training (790 / 18000 Steps) (loss=0.58182): 100%|██████████| 7/7 [00:05<00:00,  1.25it/s]\n",
      "Training (797 / 18000 Steps) (loss=0.79918): 100%|██████████| 7/7 [00:05<00:00,  1.30it/s]\n",
      "Validate (798 / 10 Steps): 100%|██████████| 2/2 [00:04<00:00,  2.17s/it]<00:07,  1.52s/it]\n",
      "Training (800 / 18000 Steps) (loss=0.61422):  43%|████▎     | 3/7 [00:08<00:12,  3.03s/it]"
     ]
    },
    {
     "name": "stdout",
     "output_type": "stream",
     "text": [
      "Model Was Not Saved ! Current Best Avg. Dice: 0.11038786172866821 Current Avg. Dice: 0.09997203201055527 Current Avg. tumor Dice: 0.10904025286436081 Current Avg. lymph Dice: 0.09090381860733032\n"
     ]
    },
    {
     "name": "stderr",
     "output_type": "stream",
     "text": [
      "Training (804 / 18000 Steps) (loss=0.77496): 100%|██████████| 7/7 [00:09<00:00,  1.42s/it]\n",
      "Training (811 / 18000 Steps) (loss=0.66744): 100%|██████████| 7/7 [00:05<00:00,  1.21it/s]\n",
      "Training (818 / 18000 Steps) (loss=0.75694): 100%|██████████| 7/7 [00:05<00:00,  1.37it/s]\n",
      "Training (825 / 18000 Steps) (loss=0.64871): 100%|██████████| 7/7 [00:05<00:00,  1.24it/s]\n",
      "Training (832 / 18000 Steps) (loss=0.66508): 100%|██████████| 7/7 [00:05<00:00,  1.33it/s]\n",
      "Training (839 / 18000 Steps) (loss=0.61006): 100%|██████████| 7/7 [00:05<00:00,  1.20it/s]\n",
      "Training (846 / 18000 Steps) (loss=0.72432): 100%|██████████| 7/7 [00:05<00:00,  1.29it/s]\n",
      "Training (853 / 18000 Steps) (loss=0.51637): 100%|██████████| 7/7 [00:05<00:00,  1.25it/s]\n",
      "Training (860 / 18000 Steps) (loss=0.68202): 100%|██████████| 7/7 [00:05<00:00,  1.32it/s]\n",
      "Training (867 / 18000 Steps) (loss=0.61485): 100%|██████████| 7/7 [00:05<00:00,  1.28it/s]\n",
      "Training (874 / 18000 Steps) (loss=0.62197): 100%|██████████| 7/7 [00:05<00:00,  1.26it/s]\n",
      "Training (881 / 18000 Steps) (loss=0.62164): 100%|██████████| 7/7 [00:05<00:00,  1.24it/s]\n",
      "Training (888 / 18000 Steps) (loss=0.67643): 100%|██████████| 7/7 [00:05<00:00,  1.27it/s]\n",
      "Training (895 / 18000 Steps) (loss=0.57565): 100%|██████████| 7/7 [00:05<00:00,  1.25it/s]\n",
      "Validate (896 / 10 Steps): 100%|██████████| 2/2 [00:04<00:00,  2.20s/it]<00:02,  1.27it/s]\n",
      "Training (900 / 18000 Steps) (loss=0.65028):  71%|███████▏  | 5/7 [00:09<00:04,  2.26s/it]"
     ]
    },
    {
     "name": "stdout",
     "output_type": "stream",
     "text": [
      "Model Was Not Saved ! Current Best Avg. Dice: 0.11038786172866821 Current Avg. Dice: 0.10768363624811172 Current Avg. tumor Dice: 0.1419222503900528 Current Avg. lymph Dice: 0.07344502210617065\n"
     ]
    },
    {
     "name": "stderr",
     "output_type": "stream",
     "text": [
      "Training (902 / 18000 Steps) (loss=0.64134): 100%|██████████| 7/7 [00:10<00:00,  1.43s/it]\n",
      "Training (909 / 18000 Steps) (loss=0.60463): 100%|██████████| 7/7 [00:05<00:00,  1.21it/s]\n",
      "Training (916 / 18000 Steps) (loss=0.83065): 100%|██████████| 7/7 [00:05<00:00,  1.23it/s]\n",
      "Training (923 / 18000 Steps) (loss=0.74277): 100%|██████████| 7/7 [00:05<00:00,  1.30it/s]\n",
      "Training (930 / 18000 Steps) (loss=0.59297): 100%|██████████| 7/7 [00:05<00:00,  1.34it/s]\n",
      "Training (937 / 18000 Steps) (loss=0.67031): 100%|██████████| 7/7 [00:05<00:00,  1.33it/s]\n",
      "Training (944 / 18000 Steps) (loss=0.63438): 100%|██████████| 7/7 [00:05<00:00,  1.24it/s]\n",
      "Training (951 / 18000 Steps) (loss=0.64746): 100%|██████████| 7/7 [00:05<00:00,  1.26it/s]\n",
      "Training (958 / 18000 Steps) (loss=0.57731): 100%|██████████| 7/7 [00:05<00:00,  1.33it/s]\n",
      "Training (965 / 18000 Steps) (loss=0.65001): 100%|██████████| 7/7 [00:05<00:00,  1.33it/s]\n",
      "Training (972 / 18000 Steps) (loss=0.77007): 100%|██████████| 7/7 [00:05<00:00,  1.26it/s]\n",
      "Training (979 / 18000 Steps) (loss=0.54539): 100%|██████████| 7/7 [00:05<00:00,  1.31it/s]\n",
      "Training (986 / 18000 Steps) (loss=0.76212): 100%|██████████| 7/7 [00:05<00:00,  1.28it/s]\n",
      "Training (993 / 18000 Steps) (loss=0.62374): 100%|██████████| 7/7 [00:05<00:00,  1.25it/s]\n",
      "Validate (994 / 10 Steps): 100%|██████████| 2/2 [00:04<00:00,  2.20s/it]5<00:00,  1.73it/s]\n",
      "Training (1000 / 18000 Steps) (loss=0.72094): 100%|██████████| 7/7 [00:10<00:00,  1.56s/it]\n"
     ]
    },
    {
     "name": "stdout",
     "output_type": "stream",
     "text": [
      "Model Was Saved ! Current Best Avg. Dice: 0.12078472971916199 Current Avg. Dice: 0.12078472971916199 Current Avg. tumor Dice: 0.1542796492576599 Current Avg. lymph Dice: 0.08728981018066406\n"
     ]
    },
    {
     "name": "stderr",
     "output_type": "stream",
     "text": [
      "Training (1007 / 18000 Steps) (loss=0.75997): 100%|██████████| 7/7 [00:05<00:00,  1.19it/s]\n",
      "Training (1014 / 18000 Steps) (loss=0.69488): 100%|██████████| 7/7 [00:05<00:00,  1.23it/s]\n",
      "Training (1021 / 18000 Steps) (loss=0.82375): 100%|██████████| 7/7 [00:05<00:00,  1.28it/s]\n",
      "Training (1028 / 18000 Steps) (loss=0.74357): 100%|██████████| 7/7 [00:05<00:00,  1.26it/s]\n",
      "Training (1035 / 18000 Steps) (loss=0.65050): 100%|██████████| 7/7 [00:05<00:00,  1.33it/s]\n",
      "Training (1042 / 18000 Steps) (loss=0.63590): 100%|██████████| 7/7 [00:05<00:00,  1.27it/s]\n",
      "Training (1049 / 18000 Steps) (loss=0.48191): 100%|██████████| 7/7 [00:05<00:00,  1.24it/s]\n",
      "Training (1056 / 18000 Steps) (loss=0.79106): 100%|██████████| 7/7 [00:05<00:00,  1.22it/s]\n",
      "Training (1063 / 18000 Steps) (loss=0.75062): 100%|██████████| 7/7 [00:05<00:00,  1.26it/s]\n",
      "Training (1070 / 18000 Steps) (loss=0.64468): 100%|██████████| 7/7 [00:05<00:00,  1.28it/s]\n",
      "Training (1077 / 18000 Steps) (loss=0.62878): 100%|██████████| 7/7 [00:05<00:00,  1.30it/s]\n",
      "Training (1084 / 18000 Steps) (loss=0.50062): 100%|██████████| 7/7 [00:05<00:00,  1.19it/s]\n",
      "Training (1091 / 18000 Steps) (loss=0.74772): 100%|██████████| 7/7 [00:05<00:00,  1.23it/s]\n",
      "Training (1098 / 18000 Steps) (loss=0.57040): 100%|██████████| 7/7 [00:05<00:00,  1.26it/s]\n",
      "Validate (1099 / 10 Steps): 100%|██████████| 2/2 [00:04<00:00,  2.26s/it]<00:18,  3.09s/it]\n",
      "Training (1100 / 18000 Steps) (loss=0.66736):  29%|██▊       | 2/7 [00:08<00:21,  4.20s/it]"
     ]
    },
    {
     "name": "stdout",
     "output_type": "stream",
     "text": [
      "Model Was Not Saved ! Current Best Avg. Dice: 0.12078472971916199 Current Avg. Dice: 0.11067257821559906 Current Avg. tumor Dice: 0.18160250782966614 Current Avg. lymph Dice: 0.03974263370037079\n"
     ]
    },
    {
     "name": "stderr",
     "output_type": "stream",
     "text": [
      "Training (1105 / 18000 Steps) (loss=0.55500): 100%|██████████| 7/7 [00:10<00:00,  1.43s/it]\n",
      "Training (1112 / 18000 Steps) (loss=0.74966): 100%|██████████| 7/7 [00:05<00:00,  1.28it/s]\n",
      "Training (1119 / 18000 Steps) (loss=0.77396): 100%|██████████| 7/7 [00:05<00:00,  1.20it/s]\n",
      "Training (1126 / 18000 Steps) (loss=0.66352): 100%|██████████| 7/7 [00:05<00:00,  1.24it/s]\n",
      "Training (1133 / 18000 Steps) (loss=0.67012): 100%|██████████| 7/7 [00:05<00:00,  1.29it/s]\n",
      "Training (1140 / 18000 Steps) (loss=0.69726): 100%|██████████| 7/7 [00:05<00:00,  1.33it/s]\n",
      "Training (1147 / 18000 Steps) (loss=0.65781): 100%|██████████| 7/7 [00:05<00:00,  1.28it/s]\n",
      "Training (1154 / 18000 Steps) (loss=0.88959): 100%|██████████| 7/7 [00:05<00:00,  1.25it/s]\n",
      "Training (1161 / 18000 Steps) (loss=0.60728): 100%|██████████| 7/7 [00:05<00:00,  1.21it/s]\n",
      "Training (1168 / 18000 Steps) (loss=0.67555): 100%|██████████| 7/7 [00:05<00:00,  1.27it/s]\n",
      "Training (1175 / 18000 Steps) (loss=0.66272): 100%|██████████| 7/7 [00:05<00:00,  1.23it/s]\n",
      "Training (1182 / 18000 Steps) (loss=0.78512): 100%|██████████| 7/7 [00:05<00:00,  1.27it/s]\n",
      "Training (1189 / 18000 Steps) (loss=0.66156): 100%|██████████| 7/7 [00:05<00:00,  1.33it/s]\n",
      "Training (1196 / 18000 Steps) (loss=0.61991): 100%|██████████| 7/7 [00:05<00:00,  1.26it/s]\n",
      "Validate (1197 / 10 Steps): 100%|██████████| 2/2 [00:04<00:00,  2.18s/it]<00:04,  1.03s/it]\n",
      "Training (1200 / 18000 Steps) (loss=0.54844):  57%|█████▋    | 4/7 [00:09<00:08,  2.81s/it]"
     ]
    },
    {
     "name": "stdout",
     "output_type": "stream",
     "text": [
      "Model Was Saved ! Current Best Avg. Dice: 0.14763009548187256 Current Avg. Dice: 0.14763009548187256 Current Avg. tumor Dice: 0.16392920911312103 Current Avg. lymph Dice: 0.13133098185062408\n"
     ]
    },
    {
     "name": "stderr",
     "output_type": "stream",
     "text": [
      "Training (1203 / 18000 Steps) (loss=0.55000): 100%|██████████| 7/7 [00:10<00:00,  1.53s/it]\n",
      "Training (1210 / 18000 Steps) (loss=0.59686): 100%|██████████| 7/7 [00:05<00:00,  1.20it/s]\n",
      "Training (1217 / 18000 Steps) (loss=0.59956): 100%|██████████| 7/7 [00:05<00:00,  1.28it/s]\n",
      "Training (1224 / 18000 Steps) (loss=0.71931): 100%|██████████| 7/7 [00:05<00:00,  1.32it/s]\n",
      "Training (1231 / 18000 Steps) (loss=0.67300): 100%|██████████| 7/7 [00:05<00:00,  1.32it/s]\n",
      "Training (1238 / 18000 Steps) (loss=0.64335): 100%|██████████| 7/7 [00:05<00:00,  1.26it/s]\n",
      "Training (1245 / 18000 Steps) (loss=0.56903): 100%|██████████| 7/7 [00:05<00:00,  1.27it/s]\n",
      "Training (1252 / 18000 Steps) (loss=0.56394): 100%|██████████| 7/7 [00:05<00:00,  1.28it/s]\n",
      "Training (1259 / 18000 Steps) (loss=0.73762): 100%|██████████| 7/7 [00:05<00:00,  1.29it/s]\n",
      "Training (1266 / 18000 Steps) (loss=0.69666): 100%|██████████| 7/7 [00:05<00:00,  1.24it/s]\n",
      "Training (1273 / 18000 Steps) (loss=0.53234): 100%|██████████| 7/7 [00:05<00:00,  1.27it/s]\n",
      "Training (1280 / 18000 Steps) (loss=0.69240): 100%|██████████| 7/7 [00:05<00:00,  1.27it/s]\n",
      "Training (1287 / 18000 Steps) (loss=0.86382): 100%|██████████| 7/7 [00:05<00:00,  1.26it/s]\n",
      "Training (1294 / 18000 Steps) (loss=0.69015): 100%|██████████| 7/7 [00:05<00:00,  1.26it/s]\n",
      "Validate (1295 / 10 Steps): 100%|██████████| 2/2 [00:04<00:00,  2.16s/it]<00:01,  1.49it/s]\n",
      "Training (1300 / 18000 Steps) (loss=0.72940):  86%|████████▌ | 6/7 [00:09<00:02,  2.08s/it]"
     ]
    },
    {
     "name": "stdout",
     "output_type": "stream",
     "text": [
      "Model Was Not Saved ! Current Best Avg. Dice: 0.14763009548187256 Current Avg. Dice: 0.13079270720481873 Current Avg. tumor Dice: 0.11160466074943542 Current Avg. lymph Dice: 0.14998076856136322\n"
     ]
    },
    {
     "name": "stderr",
     "output_type": "stream",
     "text": [
      "Training (1301 / 18000 Steps) (loss=0.64426): 100%|██████████| 7/7 [00:10<00:00,  1.45s/it]\n",
      "Training (1308 / 18000 Steps) (loss=0.74664): 100%|██████████| 7/7 [00:05<00:00,  1.26it/s]\n",
      "Training (1315 / 18000 Steps) (loss=0.62946): 100%|██████████| 7/7 [00:05<00:00,  1.19it/s]\n",
      "Training (1322 / 18000 Steps) (loss=0.70040): 100%|██████████| 7/7 [00:05<00:00,  1.27it/s]\n",
      "Training (1329 / 18000 Steps) (loss=0.65453): 100%|██████████| 7/7 [00:05<00:00,  1.22it/s]\n",
      "Training (1336 / 18000 Steps) (loss=0.63229): 100%|██████████| 7/7 [00:05<00:00,  1.20it/s]\n",
      "Training (1343 / 18000 Steps) (loss=0.77064): 100%|██████████| 7/7 [00:05<00:00,  1.28it/s]\n",
      "Training (1350 / 18000 Steps) (loss=0.60137): 100%|██████████| 7/7 [00:05<00:00,  1.25it/s]\n",
      "Training (1357 / 18000 Steps) (loss=0.54881): 100%|██████████| 7/7 [00:05<00:00,  1.23it/s]\n",
      "Training (1364 / 18000 Steps) (loss=0.58550): 100%|██████████| 7/7 [00:05<00:00,  1.33it/s]\n",
      "Training (1371 / 18000 Steps) (loss=0.63489): 100%|██████████| 7/7 [00:05<00:00,  1.30it/s]\n",
      "Training (1378 / 18000 Steps) (loss=0.62943): 100%|██████████| 7/7 [00:05<00:00,  1.30it/s]\n",
      "Training (1385 / 18000 Steps) (loss=0.82856): 100%|██████████| 7/7 [00:05<00:00,  1.25it/s]\n",
      "Training (1392 / 18000 Steps) (loss=0.51848): 100%|██████████| 7/7 [00:05<00:00,  1.26it/s]\n",
      "Training (1399 / 18000 Steps) (loss=0.50257): 100%|██████████| 7/7 [00:05<00:00,  1.25it/s]\n",
      "Validate (1400 / 10 Steps): 100%|██████████| 2/2 [00:04<00:00,  2.16s/it]<?, ?it/s]\n",
      "Training (1400 / 18000 Steps) (loss=0.63905):  14%|█▍        | 1/7 [00:08<00:50,  8.34s/it]"
     ]
    },
    {
     "name": "stdout",
     "output_type": "stream",
     "text": [
      "Model Was Saved ! Current Best Avg. Dice: 0.1497572362422943 Current Avg. Dice: 0.1497572362422943 Current Avg. tumor Dice: 0.12488557398319244 Current Avg. lymph Dice: 0.17462891340255737\n"
     ]
    },
    {
     "name": "stderr",
     "output_type": "stream",
     "text": [
      "Training (1406 / 18000 Steps) (loss=0.71639): 100%|██████████| 7/7 [00:10<00:00,  1.54s/it]\n",
      "Training (1413 / 18000 Steps) (loss=0.69411): 100%|██████████| 7/7 [00:05<00:00,  1.21it/s]\n",
      "Training (1420 / 18000 Steps) (loss=0.57840): 100%|██████████| 7/7 [00:05<00:00,  1.25it/s]\n",
      "Training (1427 / 18000 Steps) (loss=0.63554): 100%|██████████| 7/7 [00:05<00:00,  1.22it/s]\n",
      "Training (1434 / 18000 Steps) (loss=0.70523): 100%|██████████| 7/7 [00:05<00:00,  1.26it/s]\n",
      "Training (1441 / 18000 Steps) (loss=0.57163): 100%|██████████| 7/7 [00:05<00:00,  1.24it/s]\n",
      "Training (1448 / 18000 Steps) (loss=0.75200): 100%|██████████| 7/7 [00:05<00:00,  1.24it/s]\n",
      "Training (1455 / 18000 Steps) (loss=0.64966): 100%|██████████| 7/7 [00:05<00:00,  1.23it/s]\n",
      "Training (1462 / 18000 Steps) (loss=0.56161): 100%|██████████| 7/7 [00:05<00:00,  1.29it/s]\n",
      "Training (1469 / 18000 Steps) (loss=0.59156): 100%|██████████| 7/7 [00:05<00:00,  1.29it/s]\n",
      "Training (1476 / 18000 Steps) (loss=0.52512): 100%|██████████| 7/7 [00:05<00:00,  1.25it/s]\n",
      "Training (1483 / 18000 Steps) (loss=0.68642): 100%|██████████| 7/7 [00:05<00:00,  1.33it/s]\n",
      "Training (1490 / 18000 Steps) (loss=0.47502): 100%|██████████| 7/7 [00:05<00:00,  1.24it/s]\n",
      "Training (1497 / 18000 Steps) (loss=0.79370): 100%|██████████| 7/7 [00:05<00:00,  1.25it/s]\n",
      "Validate (1498 / 10 Steps): 100%|██████████| 2/2 [00:04<00:00,  2.21s/it]<00:07,  1.43s/it]\n",
      "Training (1500 / 18000 Steps) (loss=0.60900):  43%|████▎     | 3/7 [00:08<00:13,  3.31s/it]"
     ]
    },
    {
     "name": "stdout",
     "output_type": "stream",
     "text": [
      "Model Was Saved ! Current Best Avg. Dice: 0.16991832852363586 Current Avg. Dice: 0.16991832852363586 Current Avg. tumor Dice: 0.15358687937259674 Current Avg. lymph Dice: 0.18624979257583618\n"
     ]
    },
    {
     "name": "stderr",
     "output_type": "stream",
     "text": [
      "Training (1504 / 18000 Steps) (loss=0.65065): 100%|██████████| 7/7 [00:10<00:00,  1.49s/it]\n",
      "Training (1511 / 18000 Steps) (loss=0.59177): 100%|██████████| 7/7 [00:05<00:00,  1.33it/s]\n",
      "Training (1518 / 18000 Steps) (loss=0.65927): 100%|██████████| 7/7 [00:05<00:00,  1.22it/s]\n",
      "Training (1525 / 18000 Steps) (loss=0.63224): 100%|██████████| 7/7 [00:05<00:00,  1.26it/s]\n",
      "Training (1532 / 18000 Steps) (loss=0.60831): 100%|██████████| 7/7 [00:05<00:00,  1.24it/s]\n",
      "Training (1539 / 18000 Steps) (loss=0.57917): 100%|██████████| 7/7 [00:05<00:00,  1.27it/s]\n",
      "Training (1546 / 18000 Steps) (loss=0.69308): 100%|██████████| 7/7 [00:05<00:00,  1.27it/s]\n",
      "Training (1553 / 18000 Steps) (loss=0.64327): 100%|██████████| 7/7 [00:05<00:00,  1.27it/s]\n",
      "Training (1560 / 18000 Steps) (loss=0.63423): 100%|██████████| 7/7 [00:05<00:00,  1.23it/s]\n",
      "Training (1567 / 18000 Steps) (loss=0.66804): 100%|██████████| 7/7 [00:05<00:00,  1.27it/s]\n",
      "Training (1574 / 18000 Steps) (loss=0.54978): 100%|██████████| 7/7 [00:05<00:00,  1.25it/s]\n",
      "Training (1581 / 18000 Steps) (loss=0.59016): 100%|██████████| 7/7 [00:05<00:00,  1.25it/s]\n",
      "Training (1588 / 18000 Steps) (loss=0.68178): 100%|██████████| 7/7 [00:05<00:00,  1.28it/s]\n",
      "Training (1595 / 18000 Steps) (loss=0.56285): 100%|██████████| 7/7 [00:05<00:00,  1.25it/s]\n",
      "Validate (1596 / 10 Steps): 100%|██████████| 2/2 [00:04<00:00,  2.20s/it]<00:02,  1.24it/s]\n",
      "Training (1600 / 18000 Steps) (loss=0.57705):  71%|███████▏  | 5/7 [00:10<00:05,  2.54s/it]"
     ]
    },
    {
     "name": "stdout",
     "output_type": "stream",
     "text": [
      "Model Was Saved ! Current Best Avg. Dice: 0.18400895595550537 Current Avg. Dice: 0.18400895595550537 Current Avg. tumor Dice: 0.1809406876564026 Current Avg. lymph Dice: 0.18707719445228577\n"
     ]
    },
    {
     "name": "stderr",
     "output_type": "stream",
     "text": [
      "Training (1602 / 18000 Steps) (loss=0.51173): 100%|██████████| 7/7 [00:10<00:00,  1.56s/it]\n",
      "Training (1609 / 18000 Steps) (loss=0.51955): 100%|██████████| 7/7 [00:05<00:00,  1.24it/s]\n",
      "Training (1616 / 18000 Steps) (loss=0.61620): 100%|██████████| 7/7 [00:05<00:00,  1.25it/s]\n",
      "Training (1623 / 18000 Steps) (loss=0.59345): 100%|██████████| 7/7 [00:05<00:00,  1.30it/s]\n",
      "Training (1630 / 18000 Steps) (loss=0.55905): 100%|██████████| 7/7 [00:05<00:00,  1.21it/s]\n",
      "Training (1637 / 18000 Steps) (loss=0.63399): 100%|██████████| 7/7 [00:05<00:00,  1.23it/s]\n",
      "Training (1644 / 18000 Steps) (loss=0.59710): 100%|██████████| 7/7 [00:05<00:00,  1.23it/s]\n",
      "Training (1651 / 18000 Steps) (loss=0.59017): 100%|██████████| 7/7 [00:05<00:00,  1.24it/s]\n",
      "Training (1658 / 18000 Steps) (loss=0.50561): 100%|██████████| 7/7 [00:05<00:00,  1.25it/s]\n",
      "Training (1665 / 18000 Steps) (loss=0.66978): 100%|██████████| 7/7 [00:05<00:00,  1.25it/s]\n",
      "Training (1672 / 18000 Steps) (loss=0.46694): 100%|██████████| 7/7 [00:05<00:00,  1.27it/s]\n",
      "Training (1679 / 18000 Steps) (loss=0.53905): 100%|██████████| 7/7 [00:05<00:00,  1.33it/s]\n",
      "Training (1686 / 18000 Steps) (loss=0.64211): 100%|██████████| 7/7 [00:05<00:00,  1.27it/s]\n",
      "Training (1693 / 18000 Steps) (loss=0.48534): 100%|██████████| 7/7 [00:05<00:00,  1.27it/s]\n",
      "Validate (1694 / 10 Steps): 100%|██████████| 2/2 [00:04<00:00,  2.17s/it]<00:00,  1.79it/s]\n",
      "Training (1700 / 18000 Steps) (loss=0.62970): 100%|██████████| 7/7 [00:09<00:00,  1.39s/it]\n"
     ]
    },
    {
     "name": "stdout",
     "output_type": "stream",
     "text": [
      "Model Was Not Saved ! Current Best Avg. Dice: 0.18400895595550537 Current Avg. Dice: 0.17532065510749817 Current Avg. tumor Dice: 0.1651381403207779 Current Avg. lymph Dice: 0.18550316989421844\n"
     ]
    },
    {
     "name": "stderr",
     "output_type": "stream",
     "text": [
      "Training (1707 / 18000 Steps) (loss=0.61515): 100%|██████████| 7/7 [00:05<00:00,  1.22it/s]\n",
      "Training (1714 / 18000 Steps) (loss=0.67875): 100%|██████████| 7/7 [00:05<00:00,  1.27it/s]\n",
      "Training (1721 / 18000 Steps) (loss=0.61305): 100%|██████████| 7/7 [00:05<00:00,  1.21it/s]\n",
      "Training (1728 / 18000 Steps) (loss=0.72943): 100%|██████████| 7/7 [00:05<00:00,  1.26it/s]\n",
      "Training (1735 / 18000 Steps) (loss=0.66436): 100%|██████████| 7/7 [00:05<00:00,  1.19it/s]\n",
      "Training (1742 / 18000 Steps) (loss=0.62969): 100%|██████████| 7/7 [00:05<00:00,  1.27it/s]\n",
      "Training (1749 / 18000 Steps) (loss=0.57263): 100%|██████████| 7/7 [00:05<00:00,  1.32it/s]\n",
      "Training (1756 / 18000 Steps) (loss=0.54503): 100%|██████████| 7/7 [00:05<00:00,  1.26it/s]\n",
      "Training (1763 / 18000 Steps) (loss=0.58368): 100%|██████████| 7/7 [00:05<00:00,  1.23it/s]\n",
      "Training (1770 / 18000 Steps) (loss=0.67492): 100%|██████████| 7/7 [00:05<00:00,  1.21it/s]\n",
      "Training (1777 / 18000 Steps) (loss=0.64694): 100%|██████████| 7/7 [00:05<00:00,  1.27it/s]\n",
      "Training (1784 / 18000 Steps) (loss=0.54716): 100%|██████████| 7/7 [00:05<00:00,  1.27it/s]\n",
      "Training (1791 / 18000 Steps) (loss=0.66733): 100%|██████████| 7/7 [00:05<00:00,  1.27it/s]\n",
      "Training (1798 / 18000 Steps) (loss=0.65411): 100%|██████████| 7/7 [00:05<00:00,  1.37it/s]\n",
      "Validate (1799 / 10 Steps): 100%|██████████| 2/2 [00:04<00:00,  2.14s/it]<00:19,  3.22s/it]\n",
      "Training (1800 / 18000 Steps) (loss=0.58127):  29%|██▊       | 2/7 [00:07<00:20,  4.12s/it]"
     ]
    },
    {
     "name": "stdout",
     "output_type": "stream",
     "text": [
      "Model Was Not Saved ! Current Best Avg. Dice: 0.18400895595550537 Current Avg. Dice: 0.18266257643699646 Current Avg. tumor Dice: 0.17975953221321106 Current Avg. lymph Dice: 0.18556563556194305\n"
     ]
    },
    {
     "name": "stderr",
     "output_type": "stream",
     "text": [
      "Training (1805 / 18000 Steps) (loss=0.48581): 100%|██████████| 7/7 [00:09<00:00,  1.42s/it]\n",
      "Training (1812 / 18000 Steps) (loss=0.51814): 100%|██████████| 7/7 [00:05<00:00,  1.25it/s]\n",
      "Training (1819 / 18000 Steps) (loss=0.70913): 100%|██████████| 7/7 [00:05<00:00,  1.23it/s]\n",
      "Training (1826 / 18000 Steps) (loss=0.59503): 100%|██████████| 7/7 [00:05<00:00,  1.17it/s]\n",
      "Training (1833 / 18000 Steps) (loss=0.67657): 100%|██████████| 7/7 [00:05<00:00,  1.26it/s]\n",
      "Training (1840 / 18000 Steps) (loss=0.59040): 100%|██████████| 7/7 [00:05<00:00,  1.26it/s]\n",
      "Training (1847 / 18000 Steps) (loss=0.64409): 100%|██████████| 7/7 [00:05<00:00,  1.22it/s]\n",
      "Training (1854 / 18000 Steps) (loss=0.50238): 100%|██████████| 7/7 [00:05<00:00,  1.20it/s]\n",
      "Training (1861 / 18000 Steps) (loss=0.46952): 100%|██████████| 7/7 [00:05<00:00,  1.24it/s]\n",
      "Training (1868 / 18000 Steps) (loss=0.56169): 100%|██████████| 7/7 [00:05<00:00,  1.25it/s]\n",
      "Training (1875 / 18000 Steps) (loss=0.52041): 100%|██████████| 7/7 [00:05<00:00,  1.21it/s]\n",
      "Training (1882 / 18000 Steps) (loss=0.60543): 100%|██████████| 7/7 [00:05<00:00,  1.22it/s]\n",
      "Training (1889 / 18000 Steps) (loss=0.48401): 100%|██████████| 7/7 [00:05<00:00,  1.23it/s]\n",
      "Training (1896 / 18000 Steps) (loss=0.62040): 100%|██████████| 7/7 [00:05<00:00,  1.30it/s]\n",
      "Validate (1897 / 10 Steps): 100%|██████████| 2/2 [00:04<00:00,  2.22s/it]<00:04,  1.00s/it]\n",
      "Training (1900 / 18000 Steps) (loss=0.65366):  57%|█████▋    | 4/7 [00:08<00:07,  2.55s/it]"
     ]
    },
    {
     "name": "stdout",
     "output_type": "stream",
     "text": [
      "Model Was Not Saved ! Current Best Avg. Dice: 0.18400895595550537 Current Avg. Dice: 0.1720869243144989 Current Avg. tumor Dice: 0.16968147456645966 Current Avg. lymph Dice: 0.17449240386486053\n"
     ]
    },
    {
     "name": "stderr",
     "output_type": "stream",
     "text": [
      "Training (1903 / 18000 Steps) (loss=0.44160): 100%|██████████| 7/7 [00:09<00:00,  1.42s/it]\n",
      "Training (1910 / 18000 Steps) (loss=0.57515): 100%|██████████| 7/7 [00:05<00:00,  1.25it/s]\n",
      "Training (1917 / 18000 Steps) (loss=0.65603): 100%|██████████| 7/7 [00:05<00:00,  1.24it/s]\n",
      "Training (1924 / 18000 Steps) (loss=0.63059): 100%|██████████| 7/7 [00:05<00:00,  1.34it/s]\n",
      "Training (1931 / 18000 Steps) (loss=0.68692): 100%|██████████| 7/7 [00:05<00:00,  1.31it/s]\n",
      "Training (1938 / 18000 Steps) (loss=0.77458): 100%|██████████| 7/7 [00:05<00:00,  1.24it/s]\n",
      "Training (1945 / 18000 Steps) (loss=0.64409): 100%|██████████| 7/7 [00:05<00:00,  1.28it/s]\n",
      "Training (1952 / 18000 Steps) (loss=0.62258): 100%|██████████| 7/7 [00:05<00:00,  1.23it/s]\n",
      "Training (1959 / 18000 Steps) (loss=0.54012): 100%|██████████| 7/7 [00:05<00:00,  1.21it/s]\n",
      "Training (1966 / 18000 Steps) (loss=0.60356): 100%|██████████| 7/7 [00:05<00:00,  1.26it/s]\n",
      "Training (1973 / 18000 Steps) (loss=0.73307): 100%|██████████| 7/7 [00:05<00:00,  1.25it/s]\n",
      "Training (1980 / 18000 Steps) (loss=0.72738): 100%|██████████| 7/7 [00:05<00:00,  1.28it/s]\n",
      "Training (1987 / 18000 Steps) (loss=0.67126): 100%|██████████| 7/7 [00:05<00:00,  1.23it/s]\n",
      "Training (1994 / 18000 Steps) (loss=0.62097): 100%|██████████| 7/7 [00:05<00:00,  1.27it/s]\n",
      "Validate (1995 / 10 Steps): 100%|██████████| 2/2 [00:04<00:00,  2.20s/it]<00:01,  1.51it/s]\n",
      "Training (2000 / 18000 Steps) (loss=0.52995):  86%|████████▌ | 6/7 [00:10<00:02,  2.32s/it]"
     ]
    },
    {
     "name": "stdout",
     "output_type": "stream",
     "text": [
      "Model Was Saved ! Current Best Avg. Dice: 0.19452129304409027 Current Avg. Dice: 0.19452129304409027 Current Avg. tumor Dice: 0.20050166547298431 Current Avg. lymph Dice: 0.18854090571403503\n"
     ]
    },
    {
     "name": "stderr",
     "output_type": "stream",
     "text": [
      "Training (2001 / 18000 Steps) (loss=0.59514): 100%|██████████| 7/7 [00:10<00:00,  1.54s/it]\n",
      "Training (2008 / 18000 Steps) (loss=0.55190): 100%|██████████| 7/7 [00:05<00:00,  1.30it/s]\n",
      "Training (2015 / 18000 Steps) (loss=0.53195): 100%|██████████| 7/7 [00:05<00:00,  1.24it/s]\n",
      "Training (2022 / 18000 Steps) (loss=0.57167): 100%|██████████| 7/7 [00:05<00:00,  1.26it/s]\n",
      "Training (2029 / 18000 Steps) (loss=0.64866): 100%|██████████| 7/7 [00:05<00:00,  1.32it/s]\n",
      "Training (2036 / 18000 Steps) (loss=0.73627): 100%|██████████| 7/7 [00:05<00:00,  1.29it/s]\n",
      "Training (2043 / 18000 Steps) (loss=0.58740): 100%|██████████| 7/7 [00:05<00:00,  1.28it/s]\n",
      "Training (2050 / 18000 Steps) (loss=0.64220): 100%|██████████| 7/7 [00:05<00:00,  1.24it/s]\n",
      "Training (2057 / 18000 Steps) (loss=0.63490): 100%|██████████| 7/7 [00:05<00:00,  1.27it/s]\n",
      "Training (2064 / 18000 Steps) (loss=0.63586): 100%|██████████| 7/7 [00:05<00:00,  1.24it/s]\n",
      "Training (2071 / 18000 Steps) (loss=0.58589): 100%|██████████| 7/7 [00:05<00:00,  1.24it/s]\n",
      "Training (2078 / 18000 Steps) (loss=0.47189): 100%|██████████| 7/7 [00:05<00:00,  1.26it/s]\n",
      "Training (2085 / 18000 Steps) (loss=0.76669): 100%|██████████| 7/7 [00:05<00:00,  1.26it/s]\n",
      "Training (2092 / 18000 Steps) (loss=0.50483): 100%|██████████| 7/7 [00:05<00:00,  1.21it/s]\n",
      "Training (2099 / 18000 Steps) (loss=0.46427): 100%|██████████| 7/7 [00:06<00:00,  1.17it/s]\n",
      "Validate (2100 / 10 Steps): 100%|██████████| 2/2 [00:04<00:00,  2.23s/it]<?, ?it/s]\n",
      "Training (2100 / 18000 Steps) (loss=0.61629):  14%|█▍        | 1/7 [00:07<00:46,  7.67s/it]"
     ]
    },
    {
     "name": "stdout",
     "output_type": "stream",
     "text": [
      "Model Was Not Saved ! Current Best Avg. Dice: 0.19452129304409027 Current Avg. Dice: 0.18807175755500793 Current Avg. tumor Dice: 0.18246708810329437 Current Avg. lymph Dice: 0.1936764121055603\n"
     ]
    },
    {
     "name": "stderr",
     "output_type": "stream",
     "text": [
      "Training (2106 / 18000 Steps) (loss=0.56346): 100%|██████████| 7/7 [00:10<00:00,  1.44s/it]\n",
      "Training (2113 / 18000 Steps) (loss=0.48194): 100%|██████████| 7/7 [00:05<00:00,  1.24it/s]\n",
      "Training (2120 / 18000 Steps) (loss=0.62569): 100%|██████████| 7/7 [00:05<00:00,  1.28it/s]\n",
      "Training (2127 / 18000 Steps) (loss=0.59520): 100%|██████████| 7/7 [00:05<00:00,  1.25it/s]\n",
      "Training (2134 / 18000 Steps) (loss=0.57519): 100%|██████████| 7/7 [00:05<00:00,  1.25it/s]\n",
      "Training (2141 / 18000 Steps) (loss=0.53981): 100%|██████████| 7/7 [00:05<00:00,  1.29it/s]\n",
      "Training (2148 / 18000 Steps) (loss=0.43358): 100%|██████████| 7/7 [00:05<00:00,  1.25it/s]\n",
      "Training (2155 / 18000 Steps) (loss=0.64460): 100%|██████████| 7/7 [00:05<00:00,  1.26it/s]\n",
      "Training (2162 / 18000 Steps) (loss=0.74892): 100%|██████████| 7/7 [00:05<00:00,  1.34it/s]\n",
      "Training (2169 / 18000 Steps) (loss=0.48107): 100%|██████████| 7/7 [00:05<00:00,  1.26it/s]\n",
      "Training (2176 / 18000 Steps) (loss=0.51561): 100%|██████████| 7/7 [00:05<00:00,  1.24it/s]\n",
      "Training (2183 / 18000 Steps) (loss=0.60573): 100%|██████████| 7/7 [00:05<00:00,  1.29it/s]\n",
      "Training (2190 / 18000 Steps) (loss=0.60055): 100%|██████████| 7/7 [00:05<00:00,  1.22it/s]\n",
      "Training (2197 / 18000 Steps) (loss=0.60332): 100%|██████████| 7/7 [00:05<00:00,  1.23it/s]\n",
      "Validate (2198 / 10 Steps): 100%|██████████| 2/2 [00:04<00:00,  2.17s/it]<00:08,  1.68s/it]\n",
      "Training (2200 / 18000 Steps) (loss=0.68750):  43%|████▎     | 3/7 [00:08<00:12,  3.11s/it]"
     ]
    },
    {
     "name": "stdout",
     "output_type": "stream",
     "text": [
      "Model Was Not Saved ! Current Best Avg. Dice: 0.19452129304409027 Current Avg. Dice: 0.16476643085479736 Current Avg. tumor Dice: 0.17609070241451263 Current Avg. lymph Dice: 0.1534421592950821\n"
     ]
    },
    {
     "name": "stderr",
     "output_type": "stream",
     "text": [
      "Training (2204 / 18000 Steps) (loss=0.58396): 100%|██████████| 7/7 [00:10<00:00,  1.47s/it]\n",
      "Training (2211 / 18000 Steps) (loss=0.54738): 100%|██████████| 7/7 [00:05<00:00,  1.22it/s]\n",
      "Training (2218 / 18000 Steps) (loss=0.53467): 100%|██████████| 7/7 [00:05<00:00,  1.24it/s]\n",
      "Training (2225 / 18000 Steps) (loss=0.63858): 100%|██████████| 7/7 [00:05<00:00,  1.27it/s]\n",
      "Training (2232 / 18000 Steps) (loss=0.56334): 100%|██████████| 7/7 [00:05<00:00,  1.25it/s]\n",
      "Training (2239 / 18000 Steps) (loss=0.74949): 100%|██████████| 7/7 [00:05<00:00,  1.32it/s]\n",
      "Training (2246 / 18000 Steps) (loss=0.46389): 100%|██████████| 7/7 [00:05<00:00,  1.30it/s]\n",
      "Training (2253 / 18000 Steps) (loss=0.57342): 100%|██████████| 7/7 [00:05<00:00,  1.27it/s]\n",
      "Training (2260 / 18000 Steps) (loss=0.57941): 100%|██████████| 7/7 [00:05<00:00,  1.25it/s]\n",
      "Training (2267 / 18000 Steps) (loss=0.58354): 100%|██████████| 7/7 [00:05<00:00,  1.21it/s]\n",
      "Training (2274 / 18000 Steps) (loss=0.57525): 100%|██████████| 7/7 [00:05<00:00,  1.30it/s]\n",
      "Training (2281 / 18000 Steps) (loss=0.54399): 100%|██████████| 7/7 [00:05<00:00,  1.29it/s]\n",
      "Training (2288 / 18000 Steps) (loss=0.47400): 100%|██████████| 7/7 [00:05<00:00,  1.30it/s]\n",
      "Training (2295 / 18000 Steps) (loss=0.63557): 100%|██████████| 7/7 [00:05<00:00,  1.20it/s]\n",
      "Validate (2296 / 10 Steps): 100%|██████████| 2/2 [00:04<00:00,  2.21s/it]<00:02,  1.25it/s]\n",
      "Training (2300 / 18000 Steps) (loss=0.58704):  71%|███████▏  | 5/7 [00:09<00:04,  2.27s/it]"
     ]
    },
    {
     "name": "stdout",
     "output_type": "stream",
     "text": [
      "Model Was Not Saved ! Current Best Avg. Dice: 0.19452129304409027 Current Avg. Dice: 0.1874551922082901 Current Avg. tumor Dice: 0.19350574910640717 Current Avg. lymph Dice: 0.18140462040901184\n"
     ]
    },
    {
     "name": "stderr",
     "output_type": "stream",
     "text": [
      "Training (2302 / 18000 Steps) (loss=0.68260): 100%|██████████| 7/7 [00:10<00:00,  1.45s/it]\n",
      "Training (2309 / 18000 Steps) (loss=0.51761): 100%|██████████| 7/7 [00:05<00:00,  1.24it/s]\n",
      "Training (2316 / 18000 Steps) (loss=0.74351): 100%|██████████| 7/7 [00:05<00:00,  1.35it/s]\n",
      "Training (2323 / 18000 Steps) (loss=0.66412): 100%|██████████| 7/7 [00:05<00:00,  1.23it/s]\n",
      "Training (2330 / 18000 Steps) (loss=0.63571): 100%|██████████| 7/7 [00:05<00:00,  1.26it/s]\n",
      "Training (2337 / 18000 Steps) (loss=0.59768): 100%|██████████| 7/7 [00:05<00:00,  1.29it/s]\n",
      "Training (2344 / 18000 Steps) (loss=0.48672): 100%|██████████| 7/7 [00:05<00:00,  1.29it/s]\n",
      "Training (2351 / 18000 Steps) (loss=0.67159): 100%|██████████| 7/7 [00:05<00:00,  1.25it/s]\n",
      "Training (2358 / 18000 Steps) (loss=0.51924): 100%|██████████| 7/7 [00:05<00:00,  1.20it/s]\n",
      "Training (2365 / 18000 Steps) (loss=0.49985): 100%|██████████| 7/7 [00:05<00:00,  1.22it/s]\n",
      "Training (2372 / 18000 Steps) (loss=0.62458): 100%|██████████| 7/7 [00:05<00:00,  1.22it/s]\n",
      "Training (2379 / 18000 Steps) (loss=0.58851): 100%|██████████| 7/7 [00:05<00:00,  1.25it/s]\n",
      "Training (2386 / 18000 Steps) (loss=0.50613): 100%|██████████| 7/7 [00:05<00:00,  1.24it/s]\n",
      "Training (2393 / 18000 Steps) (loss=0.74437): 100%|██████████| 7/7 [00:05<00:00,  1.21it/s]\n",
      "Validate (2394 / 10 Steps): 100%|██████████| 2/2 [00:04<00:00,  2.17s/it]<00:00,  1.70it/s]\n",
      "Training (2400 / 18000 Steps) (loss=0.59556): 100%|██████████| 7/7 [00:11<00:00,  1.58s/it]\n"
     ]
    },
    {
     "name": "stdout",
     "output_type": "stream",
     "text": [
      "Model Was Saved ! Current Best Avg. Dice: 0.20886817574501038 Current Avg. Dice: 0.20886817574501038 Current Avg. tumor Dice: 0.20059938728809357 Current Avg. lymph Dice: 0.21713697910308838\n"
     ]
    },
    {
     "name": "stderr",
     "output_type": "stream",
     "text": [
      "Training (2407 / 18000 Steps) (loss=0.54317): 100%|██████████| 7/7 [00:05<00:00,  1.22it/s]\n",
      "Training (2414 / 18000 Steps) (loss=0.53986): 100%|██████████| 7/7 [00:05<00:00,  1.27it/s]\n",
      "Training (2421 / 18000 Steps) (loss=0.61268): 100%|██████████| 7/7 [00:05<00:00,  1.27it/s]\n",
      "Training (2428 / 18000 Steps) (loss=0.55696): 100%|██████████| 7/7 [00:05<00:00,  1.23it/s]\n",
      "Training (2435 / 18000 Steps) (loss=0.56283): 100%|██████████| 7/7 [00:05<00:00,  1.24it/s]\n",
      "Training (2442 / 18000 Steps) (loss=0.63787): 100%|██████████| 7/7 [00:05<00:00,  1.29it/s]\n",
      "Training (2449 / 18000 Steps) (loss=0.50375): 100%|██████████| 7/7 [00:05<00:00,  1.28it/s]\n",
      "Training (2456 / 18000 Steps) (loss=0.58497): 100%|██████████| 7/7 [00:05<00:00,  1.28it/s]\n",
      "Training (2463 / 18000 Steps) (loss=0.61495): 100%|██████████| 7/7 [00:05<00:00,  1.32it/s]\n",
      "Training (2470 / 18000 Steps) (loss=0.64542): 100%|██████████| 7/7 [00:05<00:00,  1.32it/s]\n",
      "Training (2477 / 18000 Steps) (loss=0.55574): 100%|██████████| 7/7 [00:05<00:00,  1.27it/s]\n",
      "Training (2484 / 18000 Steps) (loss=0.55380): 100%|██████████| 7/7 [00:05<00:00,  1.22it/s]\n",
      "Training (2491 / 18000 Steps) (loss=0.52694): 100%|██████████| 7/7 [00:05<00:00,  1.26it/s]\n",
      "Training (2498 / 18000 Steps) (loss=0.56787): 100%|██████████| 7/7 [00:05<00:00,  1.21it/s]\n",
      "Validate (2499 / 10 Steps): 100%|██████████| 2/2 [00:04<00:00,  2.20s/it]<00:19,  3.17s/it]\n",
      "Training (2500 / 18000 Steps) (loss=0.63021):  29%|██▊       | 2/7 [00:08<00:20,  4.17s/it]"
     ]
    },
    {
     "name": "stdout",
     "output_type": "stream",
     "text": [
      "Model Was Not Saved ! Current Best Avg. Dice: 0.20886817574501038 Current Avg. Dice: 0.20560607314109802 Current Avg. tumor Dice: 0.20108318328857422 Current Avg. lymph Dice: 0.21012896299362183\n"
     ]
    },
    {
     "name": "stderr",
     "output_type": "stream",
     "text": [
      "Training (2505 / 18000 Steps) (loss=0.59745): 100%|██████████| 7/7 [00:10<00:00,  1.43s/it]\n",
      "Training (2512 / 18000 Steps) (loss=0.59392): 100%|██████████| 7/7 [00:05<00:00,  1.26it/s]\n",
      "Training (2519 / 18000 Steps) (loss=0.66955): 100%|██████████| 7/7 [00:05<00:00,  1.22it/s]\n",
      "Training (2526 / 18000 Steps) (loss=0.63422): 100%|██████████| 7/7 [00:05<00:00,  1.24it/s]\n",
      "Training (2533 / 18000 Steps) (loss=0.55552): 100%|██████████| 7/7 [00:05<00:00,  1.31it/s]\n",
      "Training (2540 / 18000 Steps) (loss=0.51187): 100%|██████████| 7/7 [00:05<00:00,  1.25it/s]\n",
      "Training (2547 / 18000 Steps) (loss=0.59217): 100%|██████████| 7/7 [00:05<00:00,  1.27it/s]\n",
      "Training (2554 / 18000 Steps) (loss=0.83183): 100%|██████████| 7/7 [00:05<00:00,  1.23it/s]\n",
      "Training (2561 / 18000 Steps) (loss=0.64480): 100%|██████████| 7/7 [00:05<00:00,  1.28it/s]\n",
      "Training (2568 / 18000 Steps) (loss=0.69161): 100%|██████████| 7/7 [00:05<00:00,  1.32it/s]\n",
      "Training (2575 / 18000 Steps) (loss=0.52216): 100%|██████████| 7/7 [00:05<00:00,  1.27it/s]\n",
      "Training (2582 / 18000 Steps) (loss=0.60824): 100%|██████████| 7/7 [00:05<00:00,  1.27it/s]\n",
      "Training (2589 / 18000 Steps) (loss=0.61544): 100%|██████████| 7/7 [00:05<00:00,  1.18it/s]\n",
      "Training (2596 / 18000 Steps) (loss=0.63231): 100%|██████████| 7/7 [00:05<00:00,  1.26it/s]\n",
      "Validate (2597 / 10 Steps): 100%|██████████| 2/2 [00:04<00:00,  2.24s/it]<00:03,  1.02it/s]\n",
      "Training (2600 / 18000 Steps) (loss=0.61418):  57%|█████▋    | 4/7 [00:08<00:07,  2.55s/it]"
     ]
    },
    {
     "name": "stdout",
     "output_type": "stream",
     "text": [
      "Model Was Not Saved ! Current Best Avg. Dice: 0.20886817574501038 Current Avg. Dice: 0.19914230704307556 Current Avg. tumor Dice: 0.16896787285804749 Current Avg. lymph Dice: 0.22931675612926483\n"
     ]
    },
    {
     "name": "stderr",
     "output_type": "stream",
     "text": [
      "Training (2603 / 18000 Steps) (loss=0.64981): 100%|██████████| 7/7 [00:09<00:00,  1.41s/it]\n",
      "Training (2610 / 18000 Steps) (loss=0.50533): 100%|██████████| 7/7 [00:05<00:00,  1.24it/s]\n",
      "Training (2617 / 18000 Steps) (loss=0.66952): 100%|██████████| 7/7 [00:05<00:00,  1.25it/s]\n",
      "Training (2624 / 18000 Steps) (loss=0.60326): 100%|██████████| 7/7 [00:05<00:00,  1.19it/s]\n",
      "Training (2631 / 18000 Steps) (loss=0.63338): 100%|██████████| 7/7 [00:05<00:00,  1.24it/s]\n",
      "Training (2638 / 18000 Steps) (loss=0.49297): 100%|██████████| 7/7 [00:05<00:00,  1.19it/s]\n",
      "Training (2645 / 18000 Steps) (loss=0.49242): 100%|██████████| 7/7 [00:05<00:00,  1.30it/s]\n",
      "Training (2652 / 18000 Steps) (loss=0.56388): 100%|██████████| 7/7 [00:05<00:00,  1.22it/s]\n",
      "Training (2659 / 18000 Steps) (loss=0.54162): 100%|██████████| 7/7 [00:05<00:00,  1.26it/s]\n",
      "Training (2666 / 18000 Steps) (loss=0.81362): 100%|██████████| 7/7 [00:05<00:00,  1.27it/s]\n",
      "Training (2673 / 18000 Steps) (loss=0.45442): 100%|██████████| 7/7 [00:05<00:00,  1.30it/s]\n",
      "Training (2680 / 18000 Steps) (loss=0.55813): 100%|██████████| 7/7 [00:05<00:00,  1.28it/s]\n",
      "Training (2687 / 18000 Steps) (loss=0.38063): 100%|██████████| 7/7 [00:05<00:00,  1.28it/s]\n",
      "Training (2694 / 18000 Steps) (loss=0.43342): 100%|██████████| 7/7 [00:05<00:00,  1.28it/s]\n",
      "Validate (2695 / 10 Steps): 100%|██████████| 2/2 [00:04<00:00,  2.19s/it]<00:01,  1.48it/s]\n",
      "Training (2700 / 18000 Steps) (loss=0.61116):  86%|████████▌ | 6/7 [00:10<00:02,  2.34s/it]"
     ]
    },
    {
     "name": "stdout",
     "output_type": "stream",
     "text": [
      "Model Was Saved ! Current Best Avg. Dice: 0.22349731624126434 Current Avg. Dice: 0.22349731624126434 Current Avg. tumor Dice: 0.21162647008895874 Current Avg. lymph Dice: 0.23536814749240875\n"
     ]
    },
    {
     "name": "stderr",
     "output_type": "stream",
     "text": [
      "Training (2701 / 18000 Steps) (loss=0.58665): 100%|██████████| 7/7 [00:10<00:00,  1.57s/it]\n",
      "Training (2708 / 18000 Steps) (loss=0.43785): 100%|██████████| 7/7 [00:05<00:00,  1.21it/s]\n",
      "Training (2715 / 18000 Steps) (loss=0.60305): 100%|██████████| 7/7 [00:05<00:00,  1.24it/s]\n",
      "Training (2722 / 18000 Steps) (loss=0.65982): 100%|██████████| 7/7 [00:05<00:00,  1.28it/s]\n",
      "Training (2729 / 18000 Steps) (loss=0.59358): 100%|██████████| 7/7 [00:05<00:00,  1.22it/s]\n",
      "Training (2736 / 18000 Steps) (loss=0.72469): 100%|██████████| 7/7 [00:05<00:00,  1.34it/s]\n",
      "Training (2743 / 18000 Steps) (loss=0.60234): 100%|██████████| 7/7 [00:05<00:00,  1.26it/s]\n",
      "Training (2750 / 18000 Steps) (loss=0.68382): 100%|██████████| 7/7 [00:05<00:00,  1.28it/s]\n",
      "Training (2757 / 18000 Steps) (loss=0.40137): 100%|██████████| 7/7 [00:05<00:00,  1.29it/s]\n",
      "Training (2764 / 18000 Steps) (loss=0.52827): 100%|██████████| 7/7 [00:05<00:00,  1.28it/s]\n",
      "Training (2771 / 18000 Steps) (loss=0.60591): 100%|██████████| 7/7 [00:05<00:00,  1.24it/s]\n",
      "Training (2778 / 18000 Steps) (loss=0.60293): 100%|██████████| 7/7 [00:05<00:00,  1.26it/s]\n",
      "Training (2785 / 18000 Steps) (loss=0.57084): 100%|██████████| 7/7 [00:05<00:00,  1.28it/s]\n",
      "Training (2792 / 18000 Steps) (loss=0.66707): 100%|██████████| 7/7 [00:05<00:00,  1.26it/s]\n",
      "Training (2799 / 18000 Steps) (loss=0.60136): 100%|██████████| 7/7 [00:05<00:00,  1.30it/s]\n",
      "Validate (2800 / 10 Steps): 100%|██████████| 2/2 [00:04<00:00,  2.35s/it]<?, ?it/s]\n",
      "Training (2800 / 18000 Steps) (loss=0.58105):  14%|█▍        | 1/7 [00:07<00:46,  7.71s/it]"
     ]
    },
    {
     "name": "stdout",
     "output_type": "stream",
     "text": [
      "Model Was Not Saved ! Current Best Avg. Dice: 0.22349731624126434 Current Avg. Dice: 0.196867436170578 Current Avg. tumor Dice: 0.17269635200500488 Current Avg. lymph Dice: 0.22103853523731232\n"
     ]
    },
    {
     "name": "stderr",
     "output_type": "stream",
     "text": [
      "Training (2806 / 18000 Steps) (loss=0.66477): 100%|██████████| 7/7 [00:10<00:00,  1.44s/it]\n",
      "Training (2813 / 18000 Steps) (loss=0.54291): 100%|██████████| 7/7 [00:05<00:00,  1.28it/s]\n",
      "Training (2820 / 18000 Steps) (loss=0.68119): 100%|██████████| 7/7 [00:05<00:00,  1.19it/s]\n",
      "Training (2827 / 18000 Steps) (loss=0.66321): 100%|██████████| 7/7 [00:05<00:00,  1.28it/s]\n",
      "Training (2834 / 18000 Steps) (loss=0.59747): 100%|██████████| 7/7 [00:05<00:00,  1.26it/s]\n",
      "Training (2841 / 18000 Steps) (loss=0.48174): 100%|██████████| 7/7 [00:05<00:00,  1.23it/s]\n",
      "Training (2848 / 18000 Steps) (loss=0.55020): 100%|██████████| 7/7 [00:05<00:00,  1.18it/s]\n",
      "Training (2855 / 18000 Steps) (loss=0.63584): 100%|██████████| 7/7 [00:05<00:00,  1.25it/s]\n",
      "Training (2862 / 18000 Steps) (loss=0.54990): 100%|██████████| 7/7 [00:05<00:00,  1.27it/s]\n",
      "Training (2869 / 18000 Steps) (loss=0.52068): 100%|██████████| 7/7 [00:05<00:00,  1.28it/s]\n",
      "Training (2876 / 18000 Steps) (loss=0.57612): 100%|██████████| 7/7 [00:05<00:00,  1.24it/s]\n",
      "Training (2883 / 18000 Steps) (loss=0.58421): 100%|██████████| 7/7 [00:05<00:00,  1.25it/s]\n",
      "Training (2890 / 18000 Steps) (loss=0.54150): 100%|██████████| 7/7 [00:05<00:00,  1.32it/s]\n",
      "Training (2897 / 18000 Steps) (loss=0.50202): 100%|██████████| 7/7 [00:05<00:00,  1.22it/s]\n",
      "Validate (2898 / 10 Steps): 100%|██████████| 2/2 [00:04<00:00,  2.22s/it]<00:07,  1.56s/it]\n",
      "Training (2900 / 18000 Steps) (loss=0.62669):  43%|████▎     | 3/7 [00:09<00:13,  3.41s/it]"
     ]
    },
    {
     "name": "stdout",
     "output_type": "stream",
     "text": [
      "Model Was Saved ! Current Best Avg. Dice: 0.22925671935081482 Current Avg. Dice: 0.22925671935081482 Current Avg. tumor Dice: 0.21204563975334167 Current Avg. lymph Dice: 0.24646779894828796\n"
     ]
    },
    {
     "name": "stderr",
     "output_type": "stream",
     "text": [
      "Training (2904 / 18000 Steps) (loss=0.69350): 100%|██████████| 7/7 [00:10<00:00,  1.55s/it]\n",
      "Training (2911 / 18000 Steps) (loss=0.62883): 100%|██████████| 7/7 [00:05<00:00,  1.21it/s]\n",
      "Training (2918 / 18000 Steps) (loss=0.64219): 100%|██████████| 7/7 [00:05<00:00,  1.25it/s]\n",
      "Training (2925 / 18000 Steps) (loss=0.46331): 100%|██████████| 7/7 [00:05<00:00,  1.26it/s]\n",
      "Training (2932 / 18000 Steps) (loss=0.56421): 100%|██████████| 7/7 [00:05<00:00,  1.22it/s]\n",
      "Training (2939 / 18000 Steps) (loss=0.67384): 100%|██████████| 7/7 [00:05<00:00,  1.27it/s]\n",
      "Training (2946 / 18000 Steps) (loss=0.55692): 100%|██████████| 7/7 [00:05<00:00,  1.19it/s]\n",
      "Training (2953 / 18000 Steps) (loss=0.53302): 100%|██████████| 7/7 [00:05<00:00,  1.26it/s]\n",
      "Training (2960 / 18000 Steps) (loss=0.62236): 100%|██████████| 7/7 [00:05<00:00,  1.25it/s]\n",
      "Training (2967 / 18000 Steps) (loss=0.64254): 100%|██████████| 7/7 [00:05<00:00,  1.30it/s]\n",
      "Training (2974 / 18000 Steps) (loss=0.64225): 100%|██████████| 7/7 [00:05<00:00,  1.27it/s]\n",
      "Training (2981 / 18000 Steps) (loss=0.70208): 100%|██████████| 7/7 [00:05<00:00,  1.27it/s]\n",
      "Training (2988 / 18000 Steps) (loss=0.47088): 100%|██████████| 7/7 [00:05<00:00,  1.30it/s]\n",
      "Training (2995 / 18000 Steps) (loss=0.65791): 100%|██████████| 7/7 [00:05<00:00,  1.26it/s]\n",
      "Validate (2996 / 10 Steps): 100%|██████████| 2/2 [00:04<00:00,  2.15s/it]<00:02,  1.26it/s]\n",
      "Training (3000 / 18000 Steps) (loss=0.56731):  71%|███████▏  | 5/7 [00:09<00:04,  2.49s/it]"
     ]
    },
    {
     "name": "stdout",
     "output_type": "stream",
     "text": [
      "Model Was Saved ! Current Best Avg. Dice: 0.2424687147140503 Current Avg. Dice: 0.2424687147140503 Current Avg. tumor Dice: 0.24520693719387054 Current Avg. lymph Dice: 0.23973050713539124\n"
     ]
    },
    {
     "name": "stderr",
     "output_type": "stream",
     "text": [
      "Training (3002 / 18000 Steps) (loss=0.59336): 100%|██████████| 7/7 [00:10<00:00,  1.53s/it]\n",
      "Training (3009 / 18000 Steps) (loss=0.59884): 100%|██████████| 7/7 [00:05<00:00,  1.35it/s]\n",
      "Training (3016 / 18000 Steps) (loss=0.68474): 100%|██████████| 7/7 [00:05<00:00,  1.25it/s]\n",
      "Training (3023 / 18000 Steps) (loss=0.56389): 100%|██████████| 7/7 [00:05<00:00,  1.24it/s]\n",
      "Training (3030 / 18000 Steps) (loss=0.58823): 100%|██████████| 7/7 [00:05<00:00,  1.27it/s]\n",
      "Training (3037 / 18000 Steps) (loss=0.62133): 100%|██████████| 7/7 [00:05<00:00,  1.23it/s]\n",
      "Training (3044 / 18000 Steps) (loss=0.67375): 100%|██████████| 7/7 [00:05<00:00,  1.25it/s]\n",
      "Training (3051 / 18000 Steps) (loss=0.59798): 100%|██████████| 7/7 [00:05<00:00,  1.30it/s]\n",
      "Training (3058 / 18000 Steps) (loss=0.55350): 100%|██████████| 7/7 [00:05<00:00,  1.20it/s]\n",
      "Training (3065 / 18000 Steps) (loss=0.58174): 100%|██████████| 7/7 [00:05<00:00,  1.31it/s]\n",
      "Training (3072 / 18000 Steps) (loss=0.55133): 100%|██████████| 7/7 [00:05<00:00,  1.21it/s]\n",
      "Training (3079 / 18000 Steps) (loss=0.51859): 100%|██████████| 7/7 [00:05<00:00,  1.28it/s]\n",
      "Training (3086 / 18000 Steps) (loss=0.44377): 100%|██████████| 7/7 [00:05<00:00,  1.29it/s]\n",
      "Training (3093 / 18000 Steps) (loss=0.52404): 100%|██████████| 7/7 [00:05<00:00,  1.32it/s]\n",
      "Validate (3094 / 10 Steps): 100%|██████████| 2/2 [00:04<00:00,  2.12s/it]<00:00,  1.76it/s]\n",
      "Training (3100 / 18000 Steps) (loss=0.54916): 100%|██████████| 7/7 [00:09<00:00,  1.39s/it]\n"
     ]
    },
    {
     "name": "stdout",
     "output_type": "stream",
     "text": [
      "Model Was Not Saved ! Current Best Avg. Dice: 0.2424687147140503 Current Avg. Dice: 0.19254320859909058 Current Avg. tumor Dice: 0.18860456347465515 Current Avg. lymph Dice: 0.196481853723526\n"
     ]
    },
    {
     "name": "stderr",
     "output_type": "stream",
     "text": [
      "Training (3107 / 18000 Steps) (loss=0.63017): 100%|██████████| 7/7 [00:05<00:00,  1.22it/s]\n",
      "Training (3114 / 18000 Steps) (loss=0.47283): 100%|██████████| 7/7 [00:05<00:00,  1.33it/s]\n",
      "Training (3121 / 18000 Steps) (loss=0.61466): 100%|██████████| 7/7 [00:05<00:00,  1.26it/s]\n",
      "Training (3128 / 18000 Steps) (loss=0.70104): 100%|██████████| 7/7 [00:05<00:00,  1.27it/s]\n",
      "Training (3135 / 18000 Steps) (loss=0.60759): 100%|██████████| 7/7 [00:05<00:00,  1.34it/s]\n",
      "Training (3142 / 18000 Steps) (loss=0.60075): 100%|██████████| 7/7 [00:05<00:00,  1.28it/s]\n",
      "Training (3149 / 18000 Steps) (loss=0.57147): 100%|██████████| 7/7 [00:05<00:00,  1.25it/s]\n",
      "Training (3156 / 18000 Steps) (loss=0.59725): 100%|██████████| 7/7 [00:05<00:00,  1.24it/s]\n",
      "Training (3163 / 18000 Steps) (loss=0.62443): 100%|██████████| 7/7 [00:05<00:00,  1.24it/s]\n",
      "Training (3170 / 18000 Steps) (loss=0.56217): 100%|██████████| 7/7 [00:05<00:00,  1.21it/s]\n",
      "Training (3177 / 18000 Steps) (loss=0.61880): 100%|██████████| 7/7 [00:05<00:00,  1.28it/s]\n",
      "Training (3184 / 18000 Steps) (loss=0.68186): 100%|██████████| 7/7 [00:05<00:00,  1.23it/s]\n",
      "Training (3191 / 18000 Steps) (loss=0.60100): 100%|██████████| 7/7 [00:05<00:00,  1.21it/s]\n",
      "Training (3198 / 18000 Steps) (loss=0.65514): 100%|██████████| 7/7 [00:05<00:00,  1.32it/s]\n",
      "Validate (3199 / 10 Steps): 100%|██████████| 2/2 [00:04<00:00,  2.18s/it]<00:18,  3.11s/it]\n",
      "Training (3200 / 18000 Steps) (loss=0.54000):  29%|██▊       | 2/7 [00:07<00:20,  4.13s/it]"
     ]
    },
    {
     "name": "stdout",
     "output_type": "stream",
     "text": [
      "Model Was Not Saved ! Current Best Avg. Dice: 0.2424687147140503 Current Avg. Dice: 0.1956331729888916 Current Avg. tumor Dice: 0.1666460633277893 Current Avg. lymph Dice: 0.2246202826499939\n"
     ]
    },
    {
     "name": "stderr",
     "output_type": "stream",
     "text": [
      "Training (3205 / 18000 Steps) (loss=0.67775): 100%|██████████| 7/7 [00:09<00:00,  1.42s/it]\n",
      "Training (3212 / 18000 Steps) (loss=0.54134): 100%|██████████| 7/7 [00:05<00:00,  1.24it/s]\n",
      "Training (3219 / 18000 Steps) (loss=0.41524): 100%|██████████| 7/7 [00:05<00:00,  1.26it/s]\n",
      "Training (3226 / 18000 Steps) (loss=0.50434): 100%|██████████| 7/7 [00:05<00:00,  1.30it/s]\n",
      "Training (3233 / 18000 Steps) (loss=0.52140): 100%|██████████| 7/7 [00:05<00:00,  1.28it/s]\n",
      "Training (3240 / 18000 Steps) (loss=0.68997): 100%|██████████| 7/7 [00:05<00:00,  1.22it/s]\n",
      "Training (3247 / 18000 Steps) (loss=0.55209): 100%|██████████| 7/7 [00:05<00:00,  1.29it/s]\n",
      "Training (3254 / 18000 Steps) (loss=0.46620): 100%|██████████| 7/7 [00:05<00:00,  1.27it/s]\n",
      "Training (3261 / 18000 Steps) (loss=0.58037): 100%|██████████| 7/7 [00:05<00:00,  1.25it/s]\n",
      "Training (3268 / 18000 Steps) (loss=0.60844): 100%|██████████| 7/7 [00:05<00:00,  1.27it/s]\n",
      "Training (3275 / 18000 Steps) (loss=0.60604): 100%|██████████| 7/7 [00:05<00:00,  1.28it/s]\n",
      "Training (3282 / 18000 Steps) (loss=0.66414): 100%|██████████| 7/7 [00:05<00:00,  1.26it/s]\n",
      "Training (3289 / 18000 Steps) (loss=0.49905): 100%|██████████| 7/7 [00:05<00:00,  1.21it/s]\n",
      "Training (3296 / 18000 Steps) (loss=0.66797): 100%|██████████| 7/7 [00:05<00:00,  1.20it/s]\n",
      "Validate (3297 / 10 Steps): 100%|██████████| 2/2 [00:04<00:00,  2.16s/it]<00:04,  1.08s/it]\n",
      "Training (3300 / 18000 Steps) (loss=0.62635):  57%|█████▋    | 4/7 [00:09<00:07,  2.55s/it]"
     ]
    },
    {
     "name": "stdout",
     "output_type": "stream",
     "text": [
      "Model Was Not Saved ! Current Best Avg. Dice: 0.2424687147140503 Current Avg. Dice: 0.18466171622276306 Current Avg. tumor Dice: 0.21792884171009064 Current Avg. lymph Dice: 0.1513945758342743\n"
     ]
    },
    {
     "name": "stderr",
     "output_type": "stream",
     "text": [
      "Training (3303 / 18000 Steps) (loss=0.62142): 100%|██████████| 7/7 [00:10<00:00,  1.45s/it]\n",
      "Training (3310 / 18000 Steps) (loss=0.42380): 100%|██████████| 7/7 [00:05<00:00,  1.23it/s]\n",
      "Training (3317 / 18000 Steps) (loss=0.63770): 100%|██████████| 7/7 [00:05<00:00,  1.29it/s]\n",
      "Training (3324 / 18000 Steps) (loss=0.57573): 100%|██████████| 7/7 [00:05<00:00,  1.28it/s]\n",
      "Training (3331 / 18000 Steps) (loss=0.63671): 100%|██████████| 7/7 [00:05<00:00,  1.23it/s]\n",
      "Training (3338 / 18000 Steps) (loss=0.60399): 100%|██████████| 7/7 [00:05<00:00,  1.26it/s]\n",
      "Training (3345 / 18000 Steps) (loss=0.66917): 100%|██████████| 7/7 [00:05<00:00,  1.29it/s]\n",
      "Training (3352 / 18000 Steps) (loss=0.60167): 100%|██████████| 7/7 [00:05<00:00,  1.29it/s]\n",
      "Training (3359 / 18000 Steps) (loss=0.61510): 100%|██████████| 7/7 [00:05<00:00,  1.23it/s]\n",
      "Training (3366 / 18000 Steps) (loss=0.73730): 100%|██████████| 7/7 [00:05<00:00,  1.24it/s]\n",
      "Training (3373 / 18000 Steps) (loss=0.62646): 100%|██████████| 7/7 [00:05<00:00,  1.24it/s]\n",
      "Training (3380 / 18000 Steps) (loss=0.54054): 100%|██████████| 7/7 [00:05<00:00,  1.23it/s]\n",
      "Training (3387 / 18000 Steps) (loss=0.51854): 100%|██████████| 7/7 [00:05<00:00,  1.21it/s]\n",
      "Training (3394 / 18000 Steps) (loss=0.51842): 100%|██████████| 7/7 [00:05<00:00,  1.25it/s]\n",
      "Validate (3395 / 10 Steps): 100%|██████████| 2/2 [00:04<00:00,  2.16s/it]<00:01,  1.49it/s]\n",
      "Training (3400 / 18000 Steps) (loss=0.57990):  86%|████████▌ | 6/7 [00:09<00:02,  2.07s/it]"
     ]
    },
    {
     "name": "stdout",
     "output_type": "stream",
     "text": [
      "Model Was Not Saved ! Current Best Avg. Dice: 0.2424687147140503 Current Avg. Dice: 0.20939788222312927 Current Avg. tumor Dice: 0.2093532830476761 Current Avg. lymph Dice: 0.20944249629974365\n"
     ]
    },
    {
     "name": "stderr",
     "output_type": "stream",
     "text": [
      "Training (3401 / 18000 Steps) (loss=0.49223): 100%|██████████| 7/7 [00:10<00:00,  1.45s/it]\n",
      "Training (3408 / 18000 Steps) (loss=0.48554): 100%|██████████| 7/7 [00:05<00:00,  1.28it/s]\n",
      "Training (3415 / 18000 Steps) (loss=0.53721): 100%|██████████| 7/7 [00:05<00:00,  1.25it/s]\n",
      "Training (3422 / 18000 Steps) (loss=0.63262): 100%|██████████| 7/7 [00:05<00:00,  1.20it/s]\n",
      "Training (3429 / 18000 Steps) (loss=0.60582): 100%|██████████| 7/7 [00:05<00:00,  1.27it/s]\n",
      "Training (3436 / 18000 Steps) (loss=0.69547): 100%|██████████| 7/7 [00:05<00:00,  1.20it/s]\n",
      "Training (3443 / 18000 Steps) (loss=0.61692): 100%|██████████| 7/7 [00:05<00:00,  1.33it/s]\n",
      "Training (3450 / 18000 Steps) (loss=0.51490): 100%|██████████| 7/7 [00:05<00:00,  1.24it/s]\n",
      "Training (3457 / 18000 Steps) (loss=0.57833): 100%|██████████| 7/7 [00:05<00:00,  1.23it/s]\n",
      "Training (3464 / 18000 Steps) (loss=0.45367): 100%|██████████| 7/7 [00:05<00:00,  1.30it/s]\n",
      "Training (3471 / 18000 Steps) (loss=0.68837): 100%|██████████| 7/7 [00:05<00:00,  1.25it/s]\n",
      "Training (3478 / 18000 Steps) (loss=0.59476): 100%|██████████| 7/7 [00:05<00:00,  1.28it/s]\n",
      "Training (3485 / 18000 Steps) (loss=0.50895): 100%|██████████| 7/7 [00:05<00:00,  1.23it/s]\n",
      "Training (3492 / 18000 Steps) (loss=0.54510): 100%|██████████| 7/7 [00:05<00:00,  1.30it/s]\n",
      "Training (3499 / 18000 Steps) (loss=0.58766): 100%|██████████| 7/7 [00:05<00:00,  1.20it/s]\n",
      "Validate (3500 / 10 Steps): 100%|██████████| 2/2 [00:04<00:00,  2.19s/it]<?, ?it/s]\n",
      "Training (3500 / 18000 Steps) (loss=0.59359):  14%|█▍        | 1/7 [00:07<00:44,  7.44s/it]"
     ]
    },
    {
     "name": "stdout",
     "output_type": "stream",
     "text": [
      "Model Was Not Saved ! Current Best Avg. Dice: 0.2424687147140503 Current Avg. Dice: 0.20675556361675262 Current Avg. tumor Dice: 0.20217078924179077 Current Avg. lymph Dice: 0.21134033799171448\n"
     ]
    },
    {
     "name": "stderr",
     "output_type": "stream",
     "text": [
      "Training (3506 / 18000 Steps) (loss=0.47426): 100%|██████████| 7/7 [00:09<00:00,  1.41s/it]\n",
      "Training (3513 / 18000 Steps) (loss=0.64886): 100%|██████████| 7/7 [00:05<00:00,  1.29it/s]\n",
      "Training (3520 / 18000 Steps) (loss=0.57298): 100%|██████████| 7/7 [00:05<00:00,  1.30it/s]\n",
      "Training (3527 / 18000 Steps) (loss=0.54408): 100%|██████████| 7/7 [00:05<00:00,  1.20it/s]\n",
      "Training (3534 / 18000 Steps) (loss=0.61892): 100%|██████████| 7/7 [00:05<00:00,  1.29it/s]\n",
      "Training (3541 / 18000 Steps) (loss=0.61094): 100%|██████████| 7/7 [00:05<00:00,  1.22it/s]\n",
      "Training (3548 / 18000 Steps) (loss=0.58217): 100%|██████████| 7/7 [00:05<00:00,  1.29it/s]\n",
      "Training (3555 / 18000 Steps) (loss=0.55288): 100%|██████████| 7/7 [00:05<00:00,  1.30it/s]\n",
      "Training (3562 / 18000 Steps) (loss=0.49932): 100%|██████████| 7/7 [00:05<00:00,  1.27it/s]\n",
      "Training (3569 / 18000 Steps) (loss=0.60590): 100%|██████████| 7/7 [00:05<00:00,  1.24it/s]\n",
      "Training (3576 / 18000 Steps) (loss=0.56811): 100%|██████████| 7/7 [00:05<00:00,  1.31it/s]\n",
      "Training (3583 / 18000 Steps) (loss=0.43335): 100%|██████████| 7/7 [00:05<00:00,  1.23it/s]\n",
      "Training (3590 / 18000 Steps) (loss=0.74153): 100%|██████████| 7/7 [00:05<00:00,  1.25it/s]\n",
      "Training (3597 / 18000 Steps) (loss=0.63360): 100%|██████████| 7/7 [00:05<00:00,  1.27it/s]\n",
      "Validate (3598 / 10 Steps): 100%|██████████| 2/2 [00:04<00:00,  2.38s/it]<00:07,  1.58s/it]\n",
      "Training (3600 / 18000 Steps) (loss=0.55843):  43%|████▎     | 3/7 [00:08<00:12,  3.24s/it]"
     ]
    },
    {
     "name": "stdout",
     "output_type": "stream",
     "text": [
      "Model Was Not Saved ! Current Best Avg. Dice: 0.2424687147140503 Current Avg. Dice: 0.21040073037147522 Current Avg. tumor Dice: 0.15577401220798492 Current Avg. lymph Dice: 0.2650274634361267\n"
     ]
    },
    {
     "name": "stderr",
     "output_type": "stream",
     "text": [
      "Training (3604 / 18000 Steps) (loss=0.60674): 100%|██████████| 7/7 [00:10<00:00,  1.49s/it]\n",
      "Training (3611 / 18000 Steps) (loss=0.39556): 100%|██████████| 7/7 [00:05<00:00,  1.26it/s]\n",
      "Training (3618 / 18000 Steps) (loss=0.43539): 100%|██████████| 7/7 [00:05<00:00,  1.30it/s]\n",
      "Training (3625 / 18000 Steps) (loss=0.71578): 100%|██████████| 7/7 [00:05<00:00,  1.24it/s]\n",
      "Training (3632 / 18000 Steps) (loss=0.64968): 100%|██████████| 7/7 [00:05<00:00,  1.18it/s]\n",
      "Training (3639 / 18000 Steps) (loss=0.59135): 100%|██████████| 7/7 [00:05<00:00,  1.28it/s]\n",
      "Training (3646 / 18000 Steps) (loss=0.54069): 100%|██████████| 7/7 [00:05<00:00,  1.29it/s]\n",
      "Training (3653 / 18000 Steps) (loss=0.62113): 100%|██████████| 7/7 [00:05<00:00,  1.30it/s]\n",
      "Training (3660 / 18000 Steps) (loss=0.54160): 100%|██████████| 7/7 [00:05<00:00,  1.23it/s]\n",
      "Training (3667 / 18000 Steps) (loss=0.58487): 100%|██████████| 7/7 [00:05<00:00,  1.28it/s]\n",
      "Training (3674 / 18000 Steps) (loss=0.63391): 100%|██████████| 7/7 [00:05<00:00,  1.25it/s]\n",
      "Training (3681 / 18000 Steps) (loss=0.56010): 100%|██████████| 7/7 [00:05<00:00,  1.22it/s]\n",
      "Training (3688 / 18000 Steps) (loss=0.44238): 100%|██████████| 7/7 [00:05<00:00,  1.25it/s]\n",
      "Training (3695 / 18000 Steps) (loss=0.58145): 100%|██████████| 7/7 [00:05<00:00,  1.24it/s]\n",
      "Validate (3696 / 10 Steps): 100%|██████████| 2/2 [00:04<00:00,  2.16s/it]<00:02,  1.18it/s]\n",
      "Training (3700 / 18000 Steps) (loss=0.54219):  71%|███████▏  | 5/7 [00:09<00:04,  2.27s/it]"
     ]
    },
    {
     "name": "stdout",
     "output_type": "stream",
     "text": [
      "Model Was Not Saved ! Current Best Avg. Dice: 0.2424687147140503 Current Avg. Dice: 0.22316086292266846 Current Avg. tumor Dice: 0.2561280131340027 Current Avg. lymph Dice: 0.19019374251365662\n"
     ]
    },
    {
     "name": "stderr",
     "output_type": "stream",
     "text": [
      "Training (3702 / 18000 Steps) (loss=0.56395): 100%|██████████| 7/7 [00:10<00:00,  1.48s/it]\n",
      "Training (3709 / 18000 Steps) (loss=0.58475): 100%|██████████| 7/7 [00:05<00:00,  1.30it/s]\n",
      "Training (3716 / 18000 Steps) (loss=0.44478): 100%|██████████| 7/7 [00:05<00:00,  1.23it/s]\n",
      "Training (3723 / 18000 Steps) (loss=0.46058): 100%|██████████| 7/7 [00:05<00:00,  1.31it/s]\n",
      "Training (3730 / 18000 Steps) (loss=0.71290): 100%|██████████| 7/7 [00:05<00:00,  1.23it/s]\n",
      "Training (3737 / 18000 Steps) (loss=0.57087): 100%|██████████| 7/7 [00:05<00:00,  1.22it/s]\n",
      "Training (3744 / 18000 Steps) (loss=0.61639): 100%|██████████| 7/7 [00:05<00:00,  1.27it/s]\n",
      "Training (3751 / 18000 Steps) (loss=0.64175): 100%|██████████| 7/7 [00:05<00:00,  1.32it/s]\n",
      "Training (3758 / 18000 Steps) (loss=0.59188): 100%|██████████| 7/7 [00:05<00:00,  1.23it/s]\n",
      "Training (3765 / 18000 Steps) (loss=0.52181): 100%|██████████| 7/7 [00:05<00:00,  1.25it/s]\n",
      "Training (3772 / 18000 Steps) (loss=0.59894): 100%|██████████| 7/7 [00:05<00:00,  1.27it/s]\n",
      "Training (3779 / 18000 Steps) (loss=0.63082): 100%|██████████| 7/7 [00:05<00:00,  1.25it/s]\n",
      "Training (3786 / 18000 Steps) (loss=0.56932): 100%|██████████| 7/7 [00:05<00:00,  1.23it/s]\n",
      "Training (3793 / 18000 Steps) (loss=0.54153): 100%|██████████| 7/7 [00:05<00:00,  1.30it/s]\n",
      "Validate (3794 / 10 Steps): 100%|██████████| 2/2 [00:04<00:00,  2.16s/it]<00:00,  1.77it/s]\n",
      "Training (3800 / 18000 Steps) (loss=0.58026): 100%|██████████| 7/7 [00:09<00:00,  1.40s/it]\n"
     ]
    },
    {
     "name": "stdout",
     "output_type": "stream",
     "text": [
      "Model Was Not Saved ! Current Best Avg. Dice: 0.2424687147140503 Current Avg. Dice: 0.19924020767211914 Current Avg. tumor Dice: 0.1539631485939026 Current Avg. lymph Dice: 0.2445172667503357\n"
     ]
    },
    {
     "name": "stderr",
     "output_type": "stream",
     "text": [
      "Training (3807 / 18000 Steps) (loss=0.45658): 100%|██████████| 7/7 [00:05<00:00,  1.33it/s]\n",
      "Training (3814 / 18000 Steps) (loss=0.65462): 100%|██████████| 7/7 [00:05<00:00,  1.27it/s]\n",
      "Training (3821 / 18000 Steps) (loss=0.61361): 100%|██████████| 7/7 [00:05<00:00,  1.25it/s]\n",
      "Training (3828 / 18000 Steps) (loss=0.57403): 100%|██████████| 7/7 [00:05<00:00,  1.24it/s]\n",
      "Training (3835 / 18000 Steps) (loss=0.61067): 100%|██████████| 7/7 [00:05<00:00,  1.22it/s]\n",
      "Training (3842 / 18000 Steps) (loss=0.66663): 100%|██████████| 7/7 [00:05<00:00,  1.28it/s]\n",
      "Training (3849 / 18000 Steps) (loss=0.53595): 100%|██████████| 7/7 [00:05<00:00,  1.33it/s]\n",
      "Training (3856 / 18000 Steps) (loss=0.66853): 100%|██████████| 7/7 [00:05<00:00,  1.29it/s]\n",
      "Training (3863 / 18000 Steps) (loss=0.55888): 100%|██████████| 7/7 [00:05<00:00,  1.31it/s]\n",
      "Training (3870 / 18000 Steps) (loss=0.50523): 100%|██████████| 7/7 [00:05<00:00,  1.25it/s]\n",
      "Training (3877 / 18000 Steps) (loss=0.58582): 100%|██████████| 7/7 [00:05<00:00,  1.25it/s]\n",
      "Training (3884 / 18000 Steps) (loss=0.55194): 100%|██████████| 7/7 [00:05<00:00,  1.20it/s]\n",
      "Training (3891 / 18000 Steps) (loss=0.39923): 100%|██████████| 7/7 [00:05<00:00,  1.27it/s]\n",
      "Training (3898 / 18000 Steps) (loss=0.67348): 100%|██████████| 7/7 [00:05<00:00,  1.20it/s]\n",
      "Validate (3899 / 10 Steps): 100%|██████████| 2/2 [00:04<00:00,  2.16s/it]<00:16,  2.78s/it]\n",
      "Training (3900 / 18000 Steps) (loss=0.54882):  29%|██▊       | 2/7 [00:07<00:19,  3.95s/it]"
     ]
    },
    {
     "name": "stdout",
     "output_type": "stream",
     "text": [
      "Model Was Not Saved ! Current Best Avg. Dice: 0.2424687147140503 Current Avg. Dice: 0.2344512641429901 Current Avg. tumor Dice: 0.2310667783021927 Current Avg. lymph Dice: 0.23783576488494873\n"
     ]
    },
    {
     "name": "stderr",
     "output_type": "stream",
     "text": [
      "Training (3905 / 18000 Steps) (loss=0.55636): 100%|██████████| 7/7 [00:09<00:00,  1.36s/it]\n",
      "Training (3912 / 18000 Steps) (loss=0.54873): 100%|██████████| 7/7 [00:05<00:00,  1.27it/s]\n",
      "Training (3919 / 18000 Steps) (loss=0.57510): 100%|██████████| 7/7 [00:05<00:00,  1.33it/s]\n",
      "Training (3926 / 18000 Steps) (loss=0.71659): 100%|██████████| 7/7 [00:05<00:00,  1.22it/s]\n",
      "Training (3933 / 18000 Steps) (loss=0.67163): 100%|██████████| 7/7 [00:05<00:00,  1.27it/s]\n",
      "Training (3940 / 18000 Steps) (loss=0.46199): 100%|██████████| 7/7 [00:05<00:00,  1.27it/s]\n",
      "Training (3947 / 18000 Steps) (loss=0.61654): 100%|██████████| 7/7 [00:05<00:00,  1.23it/s]\n",
      "Training (3954 / 18000 Steps) (loss=0.52911): 100%|██████████| 7/7 [00:05<00:00,  1.21it/s]\n",
      "Training (3961 / 18000 Steps) (loss=0.61646): 100%|██████████| 7/7 [00:05<00:00,  1.28it/s]\n",
      "Training (3968 / 18000 Steps) (loss=0.50541): 100%|██████████| 7/7 [00:05<00:00,  1.20it/s]\n",
      "Training (3975 / 18000 Steps) (loss=0.56625): 100%|██████████| 7/7 [00:05<00:00,  1.27it/s]\n",
      "Training (3982 / 18000 Steps) (loss=0.62411): 100%|██████████| 7/7 [00:05<00:00,  1.25it/s]\n",
      "Training (3989 / 18000 Steps) (loss=0.27751): 100%|██████████| 7/7 [00:05<00:00,  1.33it/s]\n",
      "Training (3996 / 18000 Steps) (loss=0.63269): 100%|██████████| 7/7 [00:05<00:00,  1.25it/s]\n",
      "Validate (3997 / 10 Steps): 100%|██████████| 2/2 [00:04<00:00,  2.22s/it]<00:04,  1.06s/it]\n",
      "Training (4000 / 18000 Steps) (loss=0.61205):  57%|█████▋    | 4/7 [00:09<00:08,  2.88s/it]"
     ]
    },
    {
     "name": "stdout",
     "output_type": "stream",
     "text": [
      "Model Was Saved ! Current Best Avg. Dice: 0.24654629826545715 Current Avg. Dice: 0.24654629826545715 Current Avg. tumor Dice: 0.2804558277130127 Current Avg. lymph Dice: 0.21263675391674042\n"
     ]
    },
    {
     "name": "stderr",
     "output_type": "stream",
     "text": [
      "Training (4003 / 18000 Steps) (loss=0.46549): 100%|██████████| 7/7 [00:10<00:00,  1.56s/it]\n",
      "Training (4010 / 18000 Steps) (loss=0.59948): 100%|██████████| 7/7 [00:05<00:00,  1.31it/s]\n",
      "Training (4017 / 18000 Steps) (loss=0.68001): 100%|██████████| 7/7 [00:05<00:00,  1.33it/s]\n",
      "Training (4024 / 18000 Steps) (loss=0.61859): 100%|██████████| 7/7 [00:05<00:00,  1.25it/s]\n",
      "Training (4031 / 18000 Steps) (loss=0.69156): 100%|██████████| 7/7 [00:05<00:00,  1.29it/s]\n",
      "Training (4038 / 18000 Steps) (loss=0.66681): 100%|██████████| 7/7 [00:05<00:00,  1.31it/s]\n",
      "Training (4045 / 18000 Steps) (loss=0.54790): 100%|██████████| 7/7 [00:05<00:00,  1.27it/s]\n",
      "Training (4052 / 18000 Steps) (loss=0.47171): 100%|██████████| 7/7 [00:05<00:00,  1.32it/s]\n",
      "Training (4059 / 18000 Steps) (loss=0.55081): 100%|██████████| 7/7 [00:05<00:00,  1.33it/s]\n",
      "Training (4066 / 18000 Steps) (loss=0.62714): 100%|██████████| 7/7 [00:05<00:00,  1.25it/s]\n",
      "Training (4073 / 18000 Steps) (loss=0.57377): 100%|██████████| 7/7 [00:05<00:00,  1.28it/s]\n",
      "Training (4080 / 18000 Steps) (loss=0.57875): 100%|██████████| 7/7 [00:05<00:00,  1.23it/s]\n",
      "Training (4087 / 18000 Steps) (loss=0.55414): 100%|██████████| 7/7 [00:05<00:00,  1.25it/s]\n",
      "Training (4094 / 18000 Steps) (loss=0.51721): 100%|██████████| 7/7 [00:05<00:00,  1.31it/s]\n",
      "Validate (4095 / 10 Steps): 100%|██████████| 2/2 [00:04<00:00,  2.12s/it]<00:01,  1.49it/s]\n",
      "Training (4100 / 18000 Steps) (loss=0.57249):  86%|████████▌ | 6/7 [00:09<00:02,  2.04s/it]"
     ]
    },
    {
     "name": "stdout",
     "output_type": "stream",
     "text": [
      "Model Was Not Saved ! Current Best Avg. Dice: 0.24654629826545715 Current Avg. Dice: 0.24000129103660583 Current Avg. tumor Dice: 0.2636338174343109 Current Avg. lymph Dice: 0.21636873483657837\n"
     ]
    },
    {
     "name": "stderr",
     "output_type": "stream",
     "text": [
      "Training (4101 / 18000 Steps) (loss=0.65171): 100%|██████████| 7/7 [00:10<00:00,  1.44s/it]\n",
      "Training (4108 / 18000 Steps) (loss=0.48076): 100%|██████████| 7/7 [00:05<00:00,  1.27it/s]\n",
      "Training (4115 / 18000 Steps) (loss=0.62517): 100%|██████████| 7/7 [00:05<00:00,  1.27it/s]\n",
      "Training (4122 / 18000 Steps) (loss=0.58129): 100%|██████████| 7/7 [00:05<00:00,  1.27it/s]\n",
      "Training (4129 / 18000 Steps) (loss=0.55968): 100%|██████████| 7/7 [00:05<00:00,  1.32it/s]\n",
      "Training (4136 / 18000 Steps) (loss=0.53276): 100%|██████████| 7/7 [00:05<00:00,  1.29it/s]\n",
      "Training (4143 / 18000 Steps) (loss=0.53515): 100%|██████████| 7/7 [00:05<00:00,  1.30it/s]\n",
      "Training (4150 / 18000 Steps) (loss=0.47827): 100%|██████████| 7/7 [00:05<00:00,  1.23it/s]\n",
      "Training (4157 / 18000 Steps) (loss=0.62202): 100%|██████████| 7/7 [00:05<00:00,  1.28it/s]\n",
      "Training (4164 / 18000 Steps) (loss=0.66865): 100%|██████████| 7/7 [00:05<00:00,  1.23it/s]\n",
      "Training (4171 / 18000 Steps) (loss=0.57430): 100%|██████████| 7/7 [00:05<00:00,  1.25it/s]\n",
      "Training (4178 / 18000 Steps) (loss=0.59899): 100%|██████████| 7/7 [00:05<00:00,  1.20it/s]\n",
      "Training (4185 / 18000 Steps) (loss=0.69691): 100%|██████████| 7/7 [00:05<00:00,  1.24it/s]\n",
      "Training (4192 / 18000 Steps) (loss=0.53192): 100%|██████████| 7/7 [00:05<00:00,  1.25it/s]\n",
      "Training (4199 / 18000 Steps) (loss=0.65360): 100%|██████████| 7/7 [00:05<00:00,  1.32it/s]\n",
      "Validate (4200 / 10 Steps): 100%|██████████| 2/2 [00:04<00:00,  2.25s/it]<?, ?it/s]\n",
      "Training (4200 / 18000 Steps) (loss=0.38303):  14%|█▍        | 1/7 [00:07<00:45,  7.65s/it]"
     ]
    },
    {
     "name": "stdout",
     "output_type": "stream",
     "text": [
      "Model Was Not Saved ! Current Best Avg. Dice: 0.24654629826545715 Current Avg. Dice: 0.18273374438285828 Current Avg. tumor Dice: 0.15232938528060913 Current Avg. lymph Dice: 0.21313808858394623\n"
     ]
    },
    {
     "name": "stderr",
     "output_type": "stream",
     "text": [
      "Training (4206 / 18000 Steps) (loss=0.58172): 100%|██████████| 7/7 [00:10<00:00,  1.43s/it]\n",
      "Training (4213 / 18000 Steps) (loss=0.54246): 100%|██████████| 7/7 [00:05<00:00,  1.18it/s]\n",
      "Training (4220 / 18000 Steps) (loss=0.52071): 100%|██████████| 7/7 [00:05<00:00,  1.29it/s]\n",
      "Training (4227 / 18000 Steps) (loss=0.54829): 100%|██████████| 7/7 [00:05<00:00,  1.25it/s]\n",
      "Training (4234 / 18000 Steps) (loss=0.63541): 100%|██████████| 7/7 [00:05<00:00,  1.31it/s]\n",
      "Training (4241 / 18000 Steps) (loss=0.61188): 100%|██████████| 7/7 [00:05<00:00,  1.21it/s]\n",
      "Training (4248 / 18000 Steps) (loss=0.62594): 100%|██████████| 7/7 [00:05<00:00,  1.27it/s]\n",
      "Training (4255 / 18000 Steps) (loss=0.51328): 100%|██████████| 7/7 [00:05<00:00,  1.22it/s]\n",
      "Training (4262 / 18000 Steps) (loss=0.50100): 100%|██████████| 7/7 [00:05<00:00,  1.31it/s]\n",
      "Training (4269 / 18000 Steps) (loss=0.60412): 100%|██████████| 7/7 [00:05<00:00,  1.24it/s]\n",
      "Training (4276 / 18000 Steps) (loss=0.53540): 100%|██████████| 7/7 [00:05<00:00,  1.27it/s]\n",
      "Training (4283 / 18000 Steps) (loss=0.66000): 100%|██████████| 7/7 [00:05<00:00,  1.24it/s]\n",
      "Training (4290 / 18000 Steps) (loss=0.54632): 100%|██████████| 7/7 [00:05<00:00,  1.30it/s]\n",
      "Training (4297 / 18000 Steps) (loss=0.69213): 100%|██████████| 7/7 [00:05<00:00,  1.23it/s]\n",
      "Validate (4298 / 10 Steps): 100%|██████████| 2/2 [00:04<00:00,  2.14s/it]<00:08,  1.60s/it]\n",
      "Training (4300 / 18000 Steps) (loss=0.55621):  43%|████▎     | 3/7 [00:09<00:13,  3.36s/it]"
     ]
    },
    {
     "name": "stdout",
     "output_type": "stream",
     "text": [
      "Model Was Saved ! Current Best Avg. Dice: 0.2483072429895401 Current Avg. Dice: 0.2483072429895401 Current Avg. tumor Dice: 0.25687262415885925 Current Avg. lymph Dice: 0.23974186182022095\n"
     ]
    },
    {
     "name": "stderr",
     "output_type": "stream",
     "text": [
      "Training (4304 / 18000 Steps) (loss=0.65160): 100%|██████████| 7/7 [00:10<00:00,  1.54s/it]\n",
      "Training (4311 / 18000 Steps) (loss=0.46737): 100%|██████████| 7/7 [00:05<00:00,  1.28it/s]\n",
      "Training (4318 / 18000 Steps) (loss=0.66606): 100%|██████████| 7/7 [00:05<00:00,  1.29it/s]\n",
      "Training (4325 / 18000 Steps) (loss=0.42377): 100%|██████████| 7/7 [00:05<00:00,  1.21it/s]\n",
      "Training (4332 / 18000 Steps) (loss=0.43676): 100%|██████████| 7/7 [00:05<00:00,  1.28it/s]\n",
      "Training (4339 / 18000 Steps) (loss=0.39158): 100%|██████████| 7/7 [00:05<00:00,  1.24it/s]\n",
      "Training (4346 / 18000 Steps) (loss=0.51366): 100%|██████████| 7/7 [00:05<00:00,  1.29it/s]\n",
      "Training (4353 / 18000 Steps) (loss=0.55182): 100%|██████████| 7/7 [00:05<00:00,  1.27it/s]\n",
      "Training (4360 / 18000 Steps) (loss=0.50704): 100%|██████████| 7/7 [00:05<00:00,  1.34it/s]\n",
      "Training (4367 / 18000 Steps) (loss=0.54655): 100%|██████████| 7/7 [00:05<00:00,  1.30it/s]\n",
      "Training (4374 / 18000 Steps) (loss=0.44108): 100%|██████████| 7/7 [00:05<00:00,  1.25it/s]\n",
      "Training (4381 / 18000 Steps) (loss=0.60739): 100%|██████████| 7/7 [00:05<00:00,  1.26it/s]\n",
      "Training (4388 / 18000 Steps) (loss=0.52936): 100%|██████████| 7/7 [00:05<00:00,  1.26it/s]\n",
      "Training (4395 / 18000 Steps) (loss=0.42443): 100%|██████████| 7/7 [00:05<00:00,  1.27it/s]\n",
      "Validate (4396 / 10 Steps): 100%|██████████| 2/2 [00:04<00:00,  2.17s/it]<00:02,  1.32it/s]\n",
      "Training (4400 / 18000 Steps) (loss=0.54171):  71%|███████▏  | 5/7 [00:09<00:04,  2.23s/it]"
     ]
    },
    {
     "name": "stdout",
     "output_type": "stream",
     "text": [
      "Model Was Not Saved ! Current Best Avg. Dice: 0.2483072429895401 Current Avg. Dice: 0.24098147451877594 Current Avg. tumor Dice: 0.22936826944351196 Current Avg. lymph Dice: 0.2525946795940399\n"
     ]
    },
    {
     "name": "stderr",
     "output_type": "stream",
     "text": [
      "Training (4402 / 18000 Steps) (loss=0.52830): 100%|██████████| 7/7 [00:09<00:00,  1.39s/it]\n",
      "Training (4409 / 18000 Steps) (loss=0.56789): 100%|██████████| 7/7 [00:05<00:00,  1.26it/s]\n",
      "Training (4416 / 18000 Steps) (loss=0.70158): 100%|██████████| 7/7 [00:05<00:00,  1.21it/s]\n",
      "Training (4423 / 18000 Steps) (loss=0.55472): 100%|██████████| 7/7 [00:05<00:00,  1.29it/s]\n",
      "Training (4430 / 18000 Steps) (loss=0.67636): 100%|██████████| 7/7 [00:05<00:00,  1.25it/s]\n",
      "Training (4437 / 18000 Steps) (loss=0.60278): 100%|██████████| 7/7 [00:05<00:00,  1.26it/s]\n",
      "Training (4444 / 18000 Steps) (loss=0.60646): 100%|██████████| 7/7 [00:05<00:00,  1.22it/s]\n",
      "Training (4451 / 18000 Steps) (loss=0.53158): 100%|██████████| 7/7 [00:05<00:00,  1.27it/s]\n",
      "Training (4458 / 18000 Steps) (loss=0.52408): 100%|██████████| 7/7 [00:05<00:00,  1.26it/s]\n",
      "Training (4465 / 18000 Steps) (loss=0.43108): 100%|██████████| 7/7 [00:05<00:00,  1.25it/s]\n",
      "Training (4472 / 18000 Steps) (loss=0.47973): 100%|██████████| 7/7 [00:05<00:00,  1.26it/s]\n",
      "Training (4479 / 18000 Steps) (loss=0.60111): 100%|██████████| 7/7 [00:05<00:00,  1.25it/s]\n",
      "Training (4486 / 18000 Steps) (loss=0.42768): 100%|██████████| 7/7 [00:05<00:00,  1.21it/s]\n",
      "Training (4493 / 18000 Steps) (loss=0.45411): 100%|██████████| 7/7 [00:05<00:00,  1.28it/s]\n",
      "Validate (4494 / 10 Steps): 100%|██████████| 2/2 [00:04<00:00,  2.16s/it]<00:00,  1.73it/s]\n",
      "Training (4500 / 18000 Steps) (loss=0.57195): 100%|██████████| 7/7 [00:10<00:00,  1.44s/it]\n"
     ]
    },
    {
     "name": "stdout",
     "output_type": "stream",
     "text": [
      "Model Was Not Saved ! Current Best Avg. Dice: 0.2483072429895401 Current Avg. Dice: 0.2292564958333969 Current Avg. tumor Dice: 0.27494096755981445 Current Avg. lymph Dice: 0.18357203900814056\n"
     ]
    },
    {
     "name": "stderr",
     "output_type": "stream",
     "text": [
      "Training (4507 / 18000 Steps) (loss=0.55787): 100%|██████████| 7/7 [00:05<00:00,  1.29it/s]\n",
      "Training (4514 / 18000 Steps) (loss=0.52881): 100%|██████████| 7/7 [00:05<00:00,  1.20it/s]\n",
      "Training (4521 / 18000 Steps) (loss=0.53343): 100%|██████████| 7/7 [00:05<00:00,  1.27it/s]\n",
      "Training (4528 / 18000 Steps) (loss=0.67370): 100%|██████████| 7/7 [00:05<00:00,  1.26it/s]\n",
      "Training (4535 / 18000 Steps) (loss=0.59382): 100%|██████████| 7/7 [00:05<00:00,  1.30it/s]\n",
      "Training (4542 / 18000 Steps) (loss=0.56876): 100%|██████████| 7/7 [00:05<00:00,  1.27it/s]\n",
      "Training (4549 / 18000 Steps) (loss=0.37816): 100%|██████████| 7/7 [00:05<00:00,  1.28it/s]\n",
      "Training (4556 / 18000 Steps) (loss=0.58452): 100%|██████████| 7/7 [00:05<00:00,  1.25it/s]\n",
      "Training (4563 / 18000 Steps) (loss=0.42584): 100%|██████████| 7/7 [00:05<00:00,  1.24it/s]\n",
      "Training (4570 / 18000 Steps) (loss=0.57204): 100%|██████████| 7/7 [00:05<00:00,  1.20it/s]\n",
      "Training (4577 / 18000 Steps) (loss=0.45688): 100%|██████████| 7/7 [00:05<00:00,  1.35it/s]\n",
      "Training (4584 / 18000 Steps) (loss=0.80716): 100%|██████████| 7/7 [00:05<00:00,  1.24it/s]\n",
      "Training (4591 / 18000 Steps) (loss=0.52085): 100%|██████████| 7/7 [00:05<00:00,  1.33it/s]\n",
      "Training (4598 / 18000 Steps) (loss=0.60562): 100%|██████████| 7/7 [00:05<00:00,  1.21it/s]\n",
      "Validate (4599 / 10 Steps): 100%|██████████| 2/2 [00:04<00:00,  2.14s/it]<00:19,  3.19s/it]\n",
      "Training (4600 / 18000 Steps) (loss=0.47174):  29%|██▊       | 2/7 [00:08<00:22,  4.50s/it]"
     ]
    },
    {
     "name": "stdout",
     "output_type": "stream",
     "text": [
      "Model Was Saved ! Current Best Avg. Dice: 0.25701695680618286 Current Avg. Dice: 0.25701695680618286 Current Avg. tumor Dice: 0.26274245977401733 Current Avg. lymph Dice: 0.2512914538383484\n"
     ]
    },
    {
     "name": "stderr",
     "output_type": "stream",
     "text": [
      "Training (4605 / 18000 Steps) (loss=0.60284): 100%|██████████| 7/7 [00:10<00:00,  1.52s/it]\n",
      "Training (4612 / 18000 Steps) (loss=0.65458): 100%|██████████| 7/7 [00:05<00:00,  1.29it/s]\n",
      "Training (4619 / 18000 Steps) (loss=0.52069): 100%|██████████| 7/7 [00:05<00:00,  1.28it/s]\n",
      "Training (4626 / 18000 Steps) (loss=0.57502): 100%|██████████| 7/7 [00:05<00:00,  1.26it/s]\n",
      "Training (4633 / 18000 Steps) (loss=0.52115): 100%|██████████| 7/7 [00:05<00:00,  1.27it/s]\n",
      "Training (4640 / 18000 Steps) (loss=0.60544): 100%|██████████| 7/7 [00:05<00:00,  1.33it/s]\n",
      "Training (4647 / 18000 Steps) (loss=0.62885): 100%|██████████| 7/7 [00:05<00:00,  1.25it/s]\n",
      "Training (4654 / 18000 Steps) (loss=0.43953): 100%|██████████| 7/7 [00:05<00:00,  1.31it/s]\n",
      "Training (4661 / 18000 Steps) (loss=0.48537): 100%|██████████| 7/7 [00:05<00:00,  1.19it/s]\n",
      "Training (4668 / 18000 Steps) (loss=0.50696): 100%|██████████| 7/7 [00:05<00:00,  1.31it/s]\n",
      "Training (4675 / 18000 Steps) (loss=0.42072): 100%|██████████| 7/7 [00:05<00:00,  1.24it/s]\n",
      "Training (4682 / 18000 Steps) (loss=0.49464): 100%|██████████| 7/7 [00:05<00:00,  1.33it/s]\n",
      "Training (4689 / 18000 Steps) (loss=0.63209): 100%|██████████| 7/7 [00:05<00:00,  1.23it/s]\n",
      "Training (4696 / 18000 Steps) (loss=0.34036): 100%|██████████| 7/7 [00:05<00:00,  1.31it/s]\n",
      "Validate (4697 / 10 Steps): 100%|██████████| 2/2 [00:04<00:00,  2.14s/it]<00:04,  1.03s/it]\n",
      "Training (4700 / 18000 Steps) (loss=0.57809):  57%|█████▋    | 4/7 [00:08<00:07,  2.50s/it]"
     ]
    },
    {
     "name": "stdout",
     "output_type": "stream",
     "text": [
      "Model Was Not Saved ! Current Best Avg. Dice: 0.25701695680618286 Current Avg. Dice: 0.2277897745370865 Current Avg. tumor Dice: 0.23580484092235565 Current Avg. lymph Dice: 0.21977472305297852\n"
     ]
    },
    {
     "name": "stderr",
     "output_type": "stream",
     "text": [
      "Training (4703 / 18000 Steps) (loss=0.53066): 100%|██████████| 7/7 [00:09<00:00,  1.41s/it]\n",
      "Training (4710 / 18000 Steps) (loss=0.62603): 100%|██████████| 7/7 [00:05<00:00,  1.24it/s]\n",
      "Training (4717 / 18000 Steps) (loss=0.38021): 100%|██████████| 7/7 [00:05<00:00,  1.28it/s]\n",
      "Training (4724 / 18000 Steps) (loss=0.59594): 100%|██████████| 7/7 [00:05<00:00,  1.33it/s]\n",
      "Training (4731 / 18000 Steps) (loss=0.61234): 100%|██████████| 7/7 [00:05<00:00,  1.29it/s]\n",
      "Training (4738 / 18000 Steps) (loss=0.65035): 100%|██████████| 7/7 [00:05<00:00,  1.28it/s]\n",
      "Training (4745 / 18000 Steps) (loss=0.52742): 100%|██████████| 7/7 [00:05<00:00,  1.25it/s]\n",
      "Training (4752 / 18000 Steps) (loss=0.56758): 100%|██████████| 7/7 [00:05<00:00,  1.31it/s]\n",
      "Training (4759 / 18000 Steps) (loss=0.52003): 100%|██████████| 7/7 [00:05<00:00,  1.29it/s]\n",
      "Training (4766 / 18000 Steps) (loss=0.54442): 100%|██████████| 7/7 [00:05<00:00,  1.27it/s]\n",
      "Training (4773 / 18000 Steps) (loss=0.64934): 100%|██████████| 7/7 [00:05<00:00,  1.27it/s]\n",
      "Training (4780 / 18000 Steps) (loss=0.55294): 100%|██████████| 7/7 [00:05<00:00,  1.30it/s]\n",
      "Training (4787 / 18000 Steps) (loss=0.48026): 100%|██████████| 7/7 [00:05<00:00,  1.18it/s]\n",
      "Training (4794 / 18000 Steps) (loss=0.51087): 100%|██████████| 7/7 [00:05<00:00,  1.33it/s]\n",
      "Validate (4795 / 10 Steps): 100%|██████████| 2/2 [00:04<00:00,  2.13s/it]<00:01,  1.47it/s]\n",
      "Training (4800 / 18000 Steps) (loss=0.54841):  86%|████████▌ | 6/7 [00:09<00:02,  2.06s/it]"
     ]
    },
    {
     "name": "stdout",
     "output_type": "stream",
     "text": [
      "Model Was Not Saved ! Current Best Avg. Dice: 0.25701695680618286 Current Avg. Dice: 0.1859472095966339 Current Avg. tumor Dice: 0.19379405677318573 Current Avg. lymph Dice: 0.1781003624200821\n"
     ]
    },
    {
     "name": "stderr",
     "output_type": "stream",
     "text": [
      "Training (4801 / 18000 Steps) (loss=0.49330): 100%|██████████| 7/7 [00:10<00:00,  1.46s/it]\n",
      "Training (4808 / 18000 Steps) (loss=0.47207): 100%|██████████| 7/7 [00:05<00:00,  1.21it/s]\n",
      "Training (4815 / 18000 Steps) (loss=0.50274): 100%|██████████| 7/7 [00:05<00:00,  1.28it/s]\n",
      "Training (4822 / 18000 Steps) (loss=0.49460): 100%|██████████| 7/7 [00:05<00:00,  1.22it/s]\n",
      "Training (4829 / 18000 Steps) (loss=0.57267): 100%|██████████| 7/7 [00:05<00:00,  1.28it/s]\n",
      "Training (4836 / 18000 Steps) (loss=0.54192): 100%|██████████| 7/7 [00:05<00:00,  1.28it/s]\n",
      "Training (4843 / 18000 Steps) (loss=0.53939): 100%|██████████| 7/7 [00:05<00:00,  1.35it/s]\n",
      "Training (4850 / 18000 Steps) (loss=0.53328): 100%|██████████| 7/7 [00:05<00:00,  1.20it/s]\n",
      "Training (4857 / 18000 Steps) (loss=0.50107): 100%|██████████| 7/7 [00:05<00:00,  1.27it/s]\n",
      "Training (4864 / 18000 Steps) (loss=0.62606): 100%|██████████| 7/7 [00:05<00:00,  1.28it/s]\n",
      "Training (4871 / 18000 Steps) (loss=0.58136): 100%|██████████| 7/7 [00:05<00:00,  1.28it/s]\n",
      "Training (4878 / 18000 Steps) (loss=0.55152): 100%|██████████| 7/7 [00:05<00:00,  1.30it/s]\n",
      "Training (4885 / 18000 Steps) (loss=0.64450): 100%|██████████| 7/7 [00:05<00:00,  1.25it/s]\n",
      "Training (4892 / 18000 Steps) (loss=0.54215): 100%|██████████| 7/7 [00:05<00:00,  1.25it/s]\n",
      "Training (4899 / 18000 Steps) (loss=0.37451): 100%|██████████| 7/7 [00:05<00:00,  1.26it/s]\n",
      "Validate (4900 / 10 Steps): 100%|██████████| 2/2 [00:04<00:00,  2.16s/it]<?, ?it/s]\n",
      "Training (4900 / 18000 Steps) (loss=0.43329):  14%|█▍        | 1/7 [00:07<00:43,  7.26s/it]"
     ]
    },
    {
     "name": "stdout",
     "output_type": "stream",
     "text": [
      "Model Was Not Saved ! Current Best Avg. Dice: 0.25701695680618286 Current Avg. Dice: 0.23122817277908325 Current Avg. tumor Dice: 0.2025456726551056 Current Avg. lymph Dice: 0.2599107027053833\n"
     ]
    },
    {
     "name": "stderr",
     "output_type": "stream",
     "text": [
      "Training (4906 / 18000 Steps) (loss=0.59377): 100%|██████████| 7/7 [00:09<00:00,  1.38s/it]\n",
      "Training (4913 / 18000 Steps) (loss=0.65894): 100%|██████████| 7/7 [00:05<00:00,  1.21it/s]\n",
      "Training (4920 / 18000 Steps) (loss=0.61101): 100%|██████████| 7/7 [00:05<00:00,  1.21it/s]\n",
      "Training (4927 / 18000 Steps) (loss=0.55426): 100%|██████████| 7/7 [00:05<00:00,  1.30it/s]\n",
      "Training (4934 / 18000 Steps) (loss=0.50779): 100%|██████████| 7/7 [00:05<00:00,  1.32it/s]\n",
      "Training (4941 / 18000 Steps) (loss=0.45670): 100%|██████████| 7/7 [00:05<00:00,  1.28it/s]\n",
      "Training (4948 / 18000 Steps) (loss=0.54660): 100%|██████████| 7/7 [00:05<00:00,  1.32it/s]\n",
      "Training (4955 / 18000 Steps) (loss=0.50485): 100%|██████████| 7/7 [00:05<00:00,  1.25it/s]\n",
      "Training (4962 / 18000 Steps) (loss=0.48276): 100%|██████████| 7/7 [00:05<00:00,  1.28it/s]\n",
      "Training (4969 / 18000 Steps) (loss=0.58350): 100%|██████████| 7/7 [00:05<00:00,  1.30it/s]\n",
      "Training (4976 / 18000 Steps) (loss=0.58766): 100%|██████████| 7/7 [00:05<00:00,  1.25it/s]\n",
      "Training (4983 / 18000 Steps) (loss=0.73207): 100%|██████████| 7/7 [00:05<00:00,  1.21it/s]\n",
      "Training (4990 / 18000 Steps) (loss=0.43054): 100%|██████████| 7/7 [00:05<00:00,  1.24it/s]\n",
      "Training (4997 / 18000 Steps) (loss=0.56457): 100%|██████████| 7/7 [00:05<00:00,  1.23it/s]\n",
      "Validate (4998 / 10 Steps): 100%|██████████| 2/2 [00:04<00:00,  2.12s/it]<00:07,  1.52s/it]\n",
      "Training (5000 / 18000 Steps) (loss=0.49562):  43%|████▎     | 3/7 [00:08<00:11,  2.98s/it]"
     ]
    },
    {
     "name": "stdout",
     "output_type": "stream",
     "text": [
      "Model Was Not Saved ! Current Best Avg. Dice: 0.25701695680618286 Current Avg. Dice: 0.2554807662963867 Current Avg. tumor Dice: 0.2533470690250397 Current Avg. lymph Dice: 0.25761446356773376\n"
     ]
    },
    {
     "name": "stderr",
     "output_type": "stream",
     "text": [
      "Training (5004 / 18000 Steps) (loss=0.64076): 100%|██████████| 7/7 [00:09<00:00,  1.40s/it]\n",
      "Training (5011 / 18000 Steps) (loss=0.63156): 100%|██████████| 7/7 [00:05<00:00,  1.25it/s]\n",
      "Training (5018 / 18000 Steps) (loss=0.53853): 100%|██████████| 7/7 [00:05<00:00,  1.26it/s]\n",
      "Training (5025 / 18000 Steps) (loss=0.38766): 100%|██████████| 7/7 [00:05<00:00,  1.33it/s]\n",
      "Training (5032 / 18000 Steps) (loss=0.60137): 100%|██████████| 7/7 [00:05<00:00,  1.26it/s]\n",
      "Training (5039 / 18000 Steps) (loss=0.58939): 100%|██████████| 7/7 [00:05<00:00,  1.28it/s]\n",
      "Training (5046 / 18000 Steps) (loss=0.50894): 100%|██████████| 7/7 [00:05<00:00,  1.30it/s]\n",
      "Training (5053 / 18000 Steps) (loss=0.56184): 100%|██████████| 7/7 [00:05<00:00,  1.22it/s]\n",
      "Training (5060 / 18000 Steps) (loss=0.40708): 100%|██████████| 7/7 [00:05<00:00,  1.33it/s]\n",
      "Training (5067 / 18000 Steps) (loss=0.50594): 100%|██████████| 7/7 [00:05<00:00,  1.29it/s]\n",
      "Training (5074 / 18000 Steps) (loss=0.62171): 100%|██████████| 7/7 [00:05<00:00,  1.18it/s]\n",
      "Training (5081 / 18000 Steps) (loss=0.32807): 100%|██████████| 7/7 [00:05<00:00,  1.32it/s]\n",
      "Training (5088 / 18000 Steps) (loss=0.62589): 100%|██████████| 7/7 [00:05<00:00,  1.25it/s]\n",
      "Training (5095 / 18000 Steps) (loss=0.41652): 100%|██████████| 7/7 [00:05<00:00,  1.27it/s]\n",
      "Validate (5096 / 10 Steps): 100%|██████████| 2/2 [00:04<00:00,  2.28s/it]<00:02,  1.22it/s]\n",
      "Training (5100 / 18000 Steps) (loss=0.47111):  71%|███████▏  | 5/7 [00:09<00:04,  2.34s/it]"
     ]
    },
    {
     "name": "stdout",
     "output_type": "stream",
     "text": [
      "Model Was Not Saved ! Current Best Avg. Dice: 0.25701695680618286 Current Avg. Dice: 0.24550260603427887 Current Avg. tumor Dice: 0.2647700905799866 Current Avg. lymph Dice: 0.22623509168624878\n"
     ]
    },
    {
     "name": "stderr",
     "output_type": "stream",
     "text": [
      "Training (5102 / 18000 Steps) (loss=0.53348): 100%|██████████| 7/7 [00:10<00:00,  1.48s/it]\n",
      "Training (5109 / 18000 Steps) (loss=0.41077): 100%|██████████| 7/7 [00:05<00:00,  1.27it/s]\n",
      "Training (5116 / 18000 Steps) (loss=0.67671): 100%|██████████| 7/7 [00:05<00:00,  1.25it/s]\n",
      "Training (5123 / 18000 Steps) (loss=0.67662): 100%|██████████| 7/7 [00:05<00:00,  1.27it/s]\n",
      "Training (5130 / 18000 Steps) (loss=0.50572): 100%|██████████| 7/7 [00:05<00:00,  1.26it/s]\n",
      "Training (5137 / 18000 Steps) (loss=0.47597): 100%|██████████| 7/7 [00:05<00:00,  1.27it/s]\n",
      "Training (5144 / 18000 Steps) (loss=0.65269): 100%|██████████| 7/7 [00:05<00:00,  1.24it/s]\n",
      "Training (5151 / 18000 Steps) (loss=0.58325): 100%|██████████| 7/7 [00:05<00:00,  1.31it/s]\n",
      "Training (5158 / 18000 Steps) (loss=0.57490): 100%|██████████| 7/7 [00:05<00:00,  1.20it/s]\n",
      "Training (5165 / 18000 Steps) (loss=0.52692): 100%|██████████| 7/7 [00:05<00:00,  1.31it/s]\n",
      "Training (5172 / 18000 Steps) (loss=0.47056): 100%|██████████| 7/7 [00:05<00:00,  1.24it/s]\n",
      "Training (5179 / 18000 Steps) (loss=0.58809): 100%|██████████| 7/7 [00:05<00:00,  1.28it/s]\n",
      "Training (5186 / 18000 Steps) (loss=0.55827): 100%|██████████| 7/7 [00:05<00:00,  1.23it/s]\n",
      "Training (5193 / 18000 Steps) (loss=0.52618): 100%|██████████| 7/7 [00:05<00:00,  1.22it/s]\n",
      "Validate (5194 / 10 Steps): 100%|██████████| 2/2 [00:04<00:00,  2.14s/it]<00:00,  1.70it/s]\n",
      "Training (5200 / 18000 Steps) (loss=0.54239): 100%|██████████| 7/7 [00:10<00:00,  1.45s/it]\n"
     ]
    },
    {
     "name": "stdout",
     "output_type": "stream",
     "text": [
      "Model Was Not Saved ! Current Best Avg. Dice: 0.25701695680618286 Current Avg. Dice: 0.2465071678161621 Current Avg. tumor Dice: 0.2325543761253357 Current Avg. lymph Dice: 0.2604599595069885\n"
     ]
    },
    {
     "name": "stderr",
     "output_type": "stream",
     "text": [
      "Training (5207 / 18000 Steps) (loss=0.65215): 100%|██████████| 7/7 [00:05<00:00,  1.28it/s]\n",
      "Training (5214 / 18000 Steps) (loss=0.56575): 100%|██████████| 7/7 [00:05<00:00,  1.26it/s]\n",
      "Training (5221 / 18000 Steps) (loss=0.63170): 100%|██████████| 7/7 [00:05<00:00,  1.19it/s]\n",
      "Training (5228 / 18000 Steps) (loss=0.64606): 100%|██████████| 7/7 [00:05<00:00,  1.22it/s]\n",
      "Training (5235 / 18000 Steps) (loss=0.52964): 100%|██████████| 7/7 [00:05<00:00,  1.24it/s]\n",
      "Training (5242 / 18000 Steps) (loss=0.55367): 100%|██████████| 7/7 [00:05<00:00,  1.22it/s]\n",
      "Training (5249 / 18000 Steps) (loss=0.67793): 100%|██████████| 7/7 [00:05<00:00,  1.23it/s]\n",
      "Training (5256 / 18000 Steps) (loss=0.59652): 100%|██████████| 7/7 [00:05<00:00,  1.35it/s]\n",
      "Training (5263 / 18000 Steps) (loss=0.46961): 100%|██████████| 7/7 [00:05<00:00,  1.25it/s]\n",
      "Training (5270 / 18000 Steps) (loss=0.34877): 100%|██████████| 7/7 [00:05<00:00,  1.26it/s]\n",
      "Training (5277 / 18000 Steps) (loss=0.44809): 100%|██████████| 7/7 [00:05<00:00,  1.30it/s]\n",
      "Training (5284 / 18000 Steps) (loss=0.57946): 100%|██████████| 7/7 [00:05<00:00,  1.35it/s]\n",
      "Training (5291 / 18000 Steps) (loss=0.56307): 100%|██████████| 7/7 [00:05<00:00,  1.28it/s]\n",
      "Training (5298 / 18000 Steps) (loss=0.42706): 100%|██████████| 7/7 [00:05<00:00,  1.32it/s]\n",
      "Validate (5299 / 10 Steps): 100%|██████████| 2/2 [00:04<00:00,  2.15s/it]<00:18,  3.15s/it]\n",
      "Training (5300 / 18000 Steps) (loss=0.52005):  29%|██▊       | 2/7 [00:07<00:20,  4.11s/it]"
     ]
    },
    {
     "name": "stdout",
     "output_type": "stream",
     "text": [
      "Model Was Not Saved ! Current Best Avg. Dice: 0.25701695680618286 Current Avg. Dice: 0.24123889207839966 Current Avg. tumor Dice: 0.2726176381111145 Current Avg. lymph Dice: 0.20986014604568481\n"
     ]
    },
    {
     "name": "stderr",
     "output_type": "stream",
     "text": [
      "Training (5305 / 18000 Steps) (loss=0.42778): 100%|██████████| 7/7 [00:09<00:00,  1.42s/it]\n",
      "Training (5312 / 18000 Steps) (loss=0.50271): 100%|██████████| 7/7 [00:05<00:00,  1.31it/s]\n",
      "Training (5319 / 18000 Steps) (loss=0.50193): 100%|██████████| 7/7 [00:05<00:00,  1.22it/s]\n",
      "Training (5326 / 18000 Steps) (loss=0.63641): 100%|██████████| 7/7 [00:05<00:00,  1.26it/s]\n",
      "Training (5333 / 18000 Steps) (loss=0.55853): 100%|██████████| 7/7 [00:05<00:00,  1.21it/s]\n",
      "Training (5340 / 18000 Steps) (loss=0.53584): 100%|██████████| 7/7 [00:05<00:00,  1.18it/s]\n",
      "Training (5347 / 18000 Steps) (loss=0.64008): 100%|██████████| 7/7 [00:05<00:00,  1.26it/s]\n",
      "Training (5354 / 18000 Steps) (loss=0.60363): 100%|██████████| 7/7 [00:05<00:00,  1.28it/s]\n",
      "Training (5361 / 18000 Steps) (loss=0.47753): 100%|██████████| 7/7 [00:05<00:00,  1.26it/s]\n",
      "Training (5368 / 18000 Steps) (loss=0.63498): 100%|██████████| 7/7 [00:05<00:00,  1.31it/s]\n",
      "Training (5375 / 18000 Steps) (loss=0.36775): 100%|██████████| 7/7 [00:05<00:00,  1.30it/s]\n",
      "Training (5382 / 18000 Steps) (loss=0.43619): 100%|██████████| 7/7 [00:05<00:00,  1.23it/s]\n",
      "Training (5389 / 18000 Steps) (loss=0.52313): 100%|██████████| 7/7 [00:05<00:00,  1.22it/s]\n",
      "Training (5396 / 18000 Steps) (loss=0.59476): 100%|██████████| 7/7 [00:05<00:00,  1.29it/s]\n",
      "Validate (5397 / 10 Steps): 100%|██████████| 2/2 [00:04<00:00,  2.15s/it]<00:04,  1.01s/it]\n",
      "Training (5400 / 18000 Steps) (loss=0.56384):  57%|█████▋    | 4/7 [00:08<00:07,  2.49s/it]"
     ]
    },
    {
     "name": "stdout",
     "output_type": "stream",
     "text": [
      "Model Was Not Saved ! Current Best Avg. Dice: 0.25701695680618286 Current Avg. Dice: 0.20216113328933716 Current Avg. tumor Dice: 0.2142183631658554 Current Avg. lymph Dice: 0.19010388851165771\n"
     ]
    },
    {
     "name": "stderr",
     "output_type": "stream",
     "text": [
      "Training (5403 / 18000 Steps) (loss=0.25723): 100%|██████████| 7/7 [00:09<00:00,  1.40s/it]\n",
      "Training (5410 / 18000 Steps) (loss=0.57168): 100%|██████████| 7/7 [00:05<00:00,  1.20it/s]\n",
      "Training (5417 / 18000 Steps) (loss=0.65146): 100%|██████████| 7/7 [00:05<00:00,  1.34it/s]\n",
      "Training (5424 / 18000 Steps) (loss=0.59959): 100%|██████████| 7/7 [00:05<00:00,  1.23it/s]\n",
      "Training (5431 / 18000 Steps) (loss=0.46630): 100%|██████████| 7/7 [00:05<00:00,  1.25it/s]\n",
      "Training (5438 / 18000 Steps) (loss=0.67228): 100%|██████████| 7/7 [00:05<00:00,  1.25it/s]\n",
      "Training (5445 / 18000 Steps) (loss=0.54956): 100%|██████████| 7/7 [00:05<00:00,  1.26it/s]\n",
      "Training (5452 / 18000 Steps) (loss=0.47378): 100%|██████████| 7/7 [00:05<00:00,  1.19it/s]\n",
      "Training (5459 / 18000 Steps) (loss=0.51031): 100%|██████████| 7/7 [00:05<00:00,  1.26it/s]\n",
      "Training (5466 / 18000 Steps) (loss=0.50345): 100%|██████████| 7/7 [00:05<00:00,  1.21it/s]\n",
      "Training (5473 / 18000 Steps) (loss=0.43911): 100%|██████████| 7/7 [00:05<00:00,  1.27it/s]\n",
      "Training (5480 / 18000 Steps) (loss=0.53023): 100%|██████████| 7/7 [00:05<00:00,  1.25it/s]\n",
      "Training (5487 / 18000 Steps) (loss=0.36061): 100%|██████████| 7/7 [00:05<00:00,  1.23it/s]\n",
      "Training (5494 / 18000 Steps) (loss=0.38663): 100%|██████████| 7/7 [00:05<00:00,  1.32it/s]\n",
      "Validate (5495 / 10 Steps): 100%|██████████| 2/2 [00:04<00:00,  2.20s/it]<00:01,  1.55it/s]\n",
      "Training (5500 / 18000 Steps) (loss=0.53012):  86%|████████▌ | 6/7 [00:09<00:02,  2.08s/it]"
     ]
    },
    {
     "name": "stdout",
     "output_type": "stream",
     "text": [
      "Model Was Not Saved ! Current Best Avg. Dice: 0.25701695680618286 Current Avg. Dice: 0.19283805787563324 Current Avg. tumor Dice: 0.2681366205215454 Current Avg. lymph Dice: 0.11753948777914047\n"
     ]
    },
    {
     "name": "stderr",
     "output_type": "stream",
     "text": [
      "Training (5501 / 18000 Steps) (loss=0.50337): 100%|██████████| 7/7 [00:09<00:00,  1.42s/it]\n",
      "Training (5508 / 18000 Steps) (loss=0.47710): 100%|██████████| 7/7 [00:05<00:00,  1.18it/s]\n",
      "Training (5515 / 18000 Steps) (loss=0.59640): 100%|██████████| 7/7 [00:05<00:00,  1.29it/s]\n",
      "Training (5522 / 18000 Steps) (loss=0.52648): 100%|██████████| 7/7 [00:05<00:00,  1.21it/s]\n",
      "Training (5529 / 18000 Steps) (loss=0.53628): 100%|██████████| 7/7 [00:05<00:00,  1.26it/s]\n",
      "Training (5536 / 18000 Steps) (loss=0.54731): 100%|██████████| 7/7 [00:05<00:00,  1.25it/s]\n",
      "Training (5543 / 18000 Steps) (loss=0.56680): 100%|██████████| 7/7 [00:05<00:00,  1.26it/s]\n",
      "Training (5550 / 18000 Steps) (loss=0.64755): 100%|██████████| 7/7 [00:05<00:00,  1.24it/s]\n",
      "Training (5557 / 18000 Steps) (loss=0.49482): 100%|██████████| 7/7 [00:05<00:00,  1.23it/s]\n",
      "Training (5564 / 18000 Steps) (loss=0.69054): 100%|██████████| 7/7 [00:05<00:00,  1.23it/s]\n",
      "Training (5571 / 18000 Steps) (loss=0.50518): 100%|██████████| 7/7 [00:05<00:00,  1.30it/s]\n",
      "Training (5578 / 18000 Steps) (loss=0.61205): 100%|██████████| 7/7 [00:06<00:00,  1.16it/s]\n",
      "Training (5585 / 18000 Steps) (loss=0.43479): 100%|██████████| 7/7 [00:05<00:00,  1.28it/s]\n",
      "Training (5592 / 18000 Steps) (loss=0.53830): 100%|██████████| 7/7 [00:05<00:00,  1.28it/s]\n",
      "Training (5599 / 18000 Steps) (loss=0.58794): 100%|██████████| 7/7 [00:05<00:00,  1.28it/s]\n",
      "Validate (5600 / 10 Steps): 100%|██████████| 2/2 [00:04<00:00,  2.15s/it]<?, ?it/s]\n",
      "Training (5600 / 18000 Steps) (loss=0.50232):  14%|█▍        | 1/7 [00:07<00:45,  7.61s/it]"
     ]
    },
    {
     "name": "stdout",
     "output_type": "stream",
     "text": [
      "Model Was Not Saved ! Current Best Avg. Dice: 0.25701695680618286 Current Avg. Dice: 0.22773978114128113 Current Avg. tumor Dice: 0.23682868480682373 Current Avg. lymph Dice: 0.2186509072780609\n"
     ]
    },
    {
     "name": "stderr",
     "output_type": "stream",
     "text": [
      "Training (5606 / 18000 Steps) (loss=0.67048): 100%|██████████| 7/7 [00:10<00:00,  1.43s/it]\n",
      "Training (5613 / 18000 Steps) (loss=0.50481): 100%|██████████| 7/7 [00:05<00:00,  1.21it/s]\n",
      "Training (5620 / 18000 Steps) (loss=0.42410): 100%|██████████| 7/7 [00:05<00:00,  1.28it/s]\n",
      "Training (5627 / 18000 Steps) (loss=0.65120): 100%|██████████| 7/7 [00:05<00:00,  1.26it/s]\n",
      "Training (5634 / 18000 Steps) (loss=0.48302): 100%|██████████| 7/7 [00:05<00:00,  1.26it/s]\n",
      "Training (5641 / 18000 Steps) (loss=0.44409): 100%|██████████| 7/7 [00:05<00:00,  1.23it/s]\n",
      "Training (5648 / 18000 Steps) (loss=0.48400): 100%|██████████| 7/7 [00:05<00:00,  1.23it/s]\n",
      "Training (5655 / 18000 Steps) (loss=0.51573): 100%|██████████| 7/7 [00:05<00:00,  1.23it/s]\n",
      "Training (5662 / 18000 Steps) (loss=0.44509): 100%|██████████| 7/7 [00:05<00:00,  1.27it/s]\n",
      "Training (5669 / 18000 Steps) (loss=0.59176): 100%|██████████| 7/7 [00:05<00:00,  1.22it/s]\n",
      "Training (5676 / 18000 Steps) (loss=0.59532): 100%|██████████| 7/7 [00:05<00:00,  1.29it/s]\n",
      "Training (5683 / 18000 Steps) (loss=0.49406): 100%|██████████| 7/7 [00:05<00:00,  1.22it/s]\n",
      "Training (5690 / 18000 Steps) (loss=0.63558): 100%|██████████| 7/7 [00:05<00:00,  1.23it/s]\n",
      "Training (5697 / 18000 Steps) (loss=0.55195): 100%|██████████| 7/7 [00:05<00:00,  1.27it/s]\n",
      "Validate (5698 / 10 Steps): 100%|██████████| 2/2 [00:04<00:00,  2.14s/it]<00:07,  1.60s/it]\n",
      "Training (5700 / 18000 Steps) (loss=0.61863):  43%|████▎     | 3/7 [00:09<00:13,  3.46s/it]"
     ]
    },
    {
     "name": "stdout",
     "output_type": "stream",
     "text": [
      "Model Was Saved ! Current Best Avg. Dice: 0.25785166025161743 Current Avg. Dice: 0.25785166025161743 Current Avg. tumor Dice: 0.29754266142845154 Current Avg. lymph Dice: 0.21816067397594452\n"
     ]
    },
    {
     "name": "stderr",
     "output_type": "stream",
     "text": [
      "Training (5704 / 18000 Steps) (loss=0.41577): 100%|██████████| 7/7 [00:10<00:00,  1.56s/it]\n",
      "Training (5711 / 18000 Steps) (loss=0.51797): 100%|██████████| 7/7 [00:05<00:00,  1.22it/s]\n",
      "Training (5718 / 18000 Steps) (loss=0.34603): 100%|██████████| 7/7 [00:05<00:00,  1.21it/s]\n",
      "Training (5725 / 18000 Steps) (loss=0.51441): 100%|██████████| 7/7 [00:05<00:00,  1.32it/s]\n",
      "Training (5732 / 18000 Steps) (loss=0.61629): 100%|██████████| 7/7 [00:05<00:00,  1.25it/s]\n",
      "Training (5739 / 18000 Steps) (loss=0.55382): 100%|██████████| 7/7 [00:05<00:00,  1.21it/s]\n",
      "Training (5746 / 18000 Steps) (loss=0.57724): 100%|██████████| 7/7 [00:05<00:00,  1.26it/s]\n",
      "Training (5753 / 18000 Steps) (loss=0.56034): 100%|██████████| 7/7 [00:05<00:00,  1.22it/s]\n",
      "Training (5760 / 18000 Steps) (loss=0.62783): 100%|██████████| 7/7 [00:05<00:00,  1.32it/s]\n",
      "Training (5767 / 18000 Steps) (loss=0.60331): 100%|██████████| 7/7 [00:05<00:00,  1.23it/s]\n",
      "Training (5774 / 18000 Steps) (loss=0.62620): 100%|██████████| 7/7 [00:05<00:00,  1.32it/s]\n",
      "Training (5781 / 18000 Steps) (loss=0.61631): 100%|██████████| 7/7 [00:05<00:00,  1.29it/s]\n",
      "Training (5788 / 18000 Steps) (loss=0.57422): 100%|██████████| 7/7 [00:05<00:00,  1.22it/s]\n",
      "Training (5795 / 18000 Steps) (loss=0.55792): 100%|██████████| 7/7 [00:05<00:00,  1.29it/s]\n",
      "Validate (5796 / 10 Steps): 100%|██████████| 2/2 [00:04<00:00,  2.20s/it]<00:02,  1.26it/s]\n",
      "Training (5800 / 18000 Steps) (loss=0.44991):  71%|███████▏  | 5/7 [00:10<00:05,  2.54s/it]"
     ]
    },
    {
     "name": "stdout",
     "output_type": "stream",
     "text": [
      "Model Was Saved ! Current Best Avg. Dice: 0.26751279830932617 Current Avg. Dice: 0.26751279830932617 Current Avg. tumor Dice: 0.3034284710884094 Current Avg. lymph Dice: 0.23159712553024292\n"
     ]
    },
    {
     "name": "stderr",
     "output_type": "stream",
     "text": [
      "Training (5802 / 18000 Steps) (loss=0.67144): 100%|██████████| 7/7 [00:10<00:00,  1.55s/it]\n",
      "Training (5809 / 18000 Steps) (loss=0.57064): 100%|██████████| 7/7 [00:05<00:00,  1.30it/s]\n",
      "Training (5816 / 18000 Steps) (loss=0.48820): 100%|██████████| 7/7 [00:05<00:00,  1.23it/s]\n",
      "Training (5823 / 18000 Steps) (loss=0.63442): 100%|██████████| 7/7 [00:05<00:00,  1.25it/s]\n",
      "Training (5830 / 18000 Steps) (loss=0.50686): 100%|██████████| 7/7 [00:05<00:00,  1.29it/s]\n",
      "Training (5837 / 18000 Steps) (loss=0.49940): 100%|██████████| 7/7 [00:05<00:00,  1.32it/s]\n",
      "Training (5844 / 18000 Steps) (loss=0.38547): 100%|██████████| 7/7 [00:05<00:00,  1.25it/s]\n",
      "Training (5851 / 18000 Steps) (loss=0.44552): 100%|██████████| 7/7 [00:05<00:00,  1.32it/s]\n",
      "Training (5858 / 18000 Steps) (loss=0.58011): 100%|██████████| 7/7 [00:05<00:00,  1.30it/s]\n",
      "Training (5865 / 18000 Steps) (loss=0.64703): 100%|██████████| 7/7 [00:05<00:00,  1.26it/s]\n",
      "Training (5872 / 18000 Steps) (loss=0.76124): 100%|██████████| 7/7 [00:05<00:00,  1.26it/s]\n",
      "Training (5879 / 18000 Steps) (loss=0.40591): 100%|██████████| 7/7 [00:05<00:00,  1.26it/s]\n",
      "Training (5886 / 18000 Steps) (loss=0.51782): 100%|██████████| 7/7 [00:05<00:00,  1.24it/s]\n",
      "Training (5893 / 18000 Steps) (loss=0.46228): 100%|██████████| 7/7 [00:06<00:00,  1.16it/s]\n",
      "Validate (5894 / 10 Steps): 100%|██████████| 2/2 [00:04<00:00,  2.20s/it]<00:00,  1.71it/s]\n",
      "Training (5900 / 18000 Steps) (loss=0.40949): 100%|██████████| 7/7 [00:10<00:00,  1.44s/it]\n"
     ]
    },
    {
     "name": "stdout",
     "output_type": "stream",
     "text": [
      "Model Was Not Saved ! Current Best Avg. Dice: 0.26751279830932617 Current Avg. Dice: 0.20207493007183075 Current Avg. tumor Dice: 0.21879401803016663 Current Avg. lymph Dice: 0.18535582721233368\n"
     ]
    },
    {
     "name": "stderr",
     "output_type": "stream",
     "text": [
      "Training (5907 / 18000 Steps) (loss=0.54431): 100%|██████████| 7/7 [00:05<00:00,  1.30it/s]\n",
      "Training (5914 / 18000 Steps) (loss=0.63457): 100%|██████████| 7/7 [00:05<00:00,  1.27it/s]\n",
      "Training (5921 / 18000 Steps) (loss=0.53234): 100%|██████████| 7/7 [00:05<00:00,  1.25it/s]\n",
      "Training (5928 / 18000 Steps) (loss=0.39559): 100%|██████████| 7/7 [00:05<00:00,  1.24it/s]\n",
      "Training (5935 / 18000 Steps) (loss=0.55558): 100%|██████████| 7/7 [00:05<00:00,  1.21it/s]\n",
      "Training (5942 / 18000 Steps) (loss=0.50709): 100%|██████████| 7/7 [00:05<00:00,  1.25it/s]\n",
      "Training (5949 / 18000 Steps) (loss=0.40110): 100%|██████████| 7/7 [00:05<00:00,  1.27it/s]\n",
      "Training (5956 / 18000 Steps) (loss=0.60603): 100%|██████████| 7/7 [00:05<00:00,  1.25it/s]\n",
      "Training (5963 / 18000 Steps) (loss=0.58902): 100%|██████████| 7/7 [00:05<00:00,  1.24it/s]\n",
      "Training (5970 / 18000 Steps) (loss=0.62507): 100%|██████████| 7/7 [00:05<00:00,  1.22it/s]\n",
      "Training (5977 / 18000 Steps) (loss=0.53250): 100%|██████████| 7/7 [00:05<00:00,  1.34it/s]\n",
      "Training (5984 / 18000 Steps) (loss=0.66183): 100%|██████████| 7/7 [00:05<00:00,  1.28it/s]\n",
      "Training (5991 / 18000 Steps) (loss=0.50494): 100%|██████████| 7/7 [00:05<00:00,  1.33it/s]\n",
      "Training (5998 / 18000 Steps) (loss=0.44108): 100%|██████████| 7/7 [00:05<00:00,  1.27it/s]\n",
      "Validate (5999 / 10 Steps): 100%|██████████| 2/2 [00:04<00:00,  2.15s/it]<00:18,  3.03s/it]\n",
      "Training (6000 / 18000 Steps) (loss=0.51573):  29%|██▊       | 2/7 [00:07<00:20,  4.05s/it]"
     ]
    },
    {
     "name": "stdout",
     "output_type": "stream",
     "text": [
      "Model Was Not Saved ! Current Best Avg. Dice: 0.26751279830932617 Current Avg. Dice: 0.2667914032936096 Current Avg. tumor Dice: 0.28970474004745483 Current Avg. lymph Dice: 0.2438780516386032\n"
     ]
    },
    {
     "name": "stderr",
     "output_type": "stream",
     "text": [
      "Training (6005 / 18000 Steps) (loss=0.49236): 100%|██████████| 7/7 [00:09<00:00,  1.40s/it]\n",
      "Training (6012 / 18000 Steps) (loss=0.51740): 100%|██████████| 7/7 [00:05<00:00,  1.24it/s]\n",
      "Training (6019 / 18000 Steps) (loss=0.63336): 100%|██████████| 7/7 [00:05<00:00,  1.22it/s]\n",
      "Training (6026 / 18000 Steps) (loss=0.44147): 100%|██████████| 7/7 [00:05<00:00,  1.28it/s]\n",
      "Training (6033 / 18000 Steps) (loss=0.57207): 100%|██████████| 7/7 [00:05<00:00,  1.25it/s]\n",
      "Training (6040 / 18000 Steps) (loss=0.51875): 100%|██████████| 7/7 [00:05<00:00,  1.23it/s]\n",
      "Training (6047 / 18000 Steps) (loss=0.63558): 100%|██████████| 7/7 [00:05<00:00,  1.23it/s]\n",
      "Training (6054 / 18000 Steps) (loss=0.53188): 100%|██████████| 7/7 [00:05<00:00,  1.28it/s]\n",
      "Training (6061 / 18000 Steps) (loss=0.58188): 100%|██████████| 7/7 [00:05<00:00,  1.25it/s]\n",
      "Training (6068 / 18000 Steps) (loss=0.49989): 100%|██████████| 7/7 [00:05<00:00,  1.21it/s]\n",
      "Training (6075 / 18000 Steps) (loss=0.49365): 100%|██████████| 7/7 [00:05<00:00,  1.25it/s]\n",
      "Training (6082 / 18000 Steps) (loss=0.37456): 100%|██████████| 7/7 [00:05<00:00,  1.22it/s]\n",
      "Training (6089 / 18000 Steps) (loss=0.68452): 100%|██████████| 7/7 [00:05<00:00,  1.26it/s]\n",
      "Training (6096 / 18000 Steps) (loss=0.28284): 100%|██████████| 7/7 [00:05<00:00,  1.29it/s]\n",
      "Validate (6097 / 10 Steps): 100%|██████████| 2/2 [00:04<00:00,  2.15s/it]<00:04,  1.02s/it]\n",
      "Training (6100 / 18000 Steps) (loss=0.52779):  57%|█████▋    | 4/7 [00:09<00:08,  2.77s/it]"
     ]
    },
    {
     "name": "stdout",
     "output_type": "stream",
     "text": [
      "Model Was Saved ! Current Best Avg. Dice: 0.27587494254112244 Current Avg. Dice: 0.27587494254112244 Current Avg. tumor Dice: 0.2945987582206726 Current Avg. lymph Dice: 0.2571510970592499\n"
     ]
    },
    {
     "name": "stderr",
     "output_type": "stream",
     "text": [
      "Training (6103 / 18000 Steps) (loss=0.59147): 100%|██████████| 7/7 [00:10<00:00,  1.51s/it]\n",
      "Training (6110 / 18000 Steps) (loss=0.69762): 100%|██████████| 7/7 [00:05<00:00,  1.28it/s]\n",
      "Training (6117 / 18000 Steps) (loss=0.51159): 100%|██████████| 7/7 [00:05<00:00,  1.22it/s]\n",
      "Training (6124 / 18000 Steps) (loss=0.66988): 100%|██████████| 7/7 [00:05<00:00,  1.28it/s]\n",
      "Training (6131 / 18000 Steps) (loss=0.42372): 100%|██████████| 7/7 [00:05<00:00,  1.25it/s]\n",
      "Training (6138 / 18000 Steps) (loss=0.55515): 100%|██████████| 7/7 [00:05<00:00,  1.29it/s]\n",
      "Training (6145 / 18000 Steps) (loss=0.55484): 100%|██████████| 7/7 [00:05<00:00,  1.22it/s]\n",
      "Training (6152 / 18000 Steps) (loss=0.57534): 100%|██████████| 7/7 [00:05<00:00,  1.28it/s]\n",
      "Training (6159 / 18000 Steps) (loss=0.57321): 100%|██████████| 7/7 [00:06<00:00,  1.12it/s]\n",
      "Training (6166 / 18000 Steps) (loss=0.53280): 100%|██████████| 7/7 [00:05<00:00,  1.27it/s]\n",
      "Training (6173 / 18000 Steps) (loss=0.58742): 100%|██████████| 7/7 [00:05<00:00,  1.28it/s]\n",
      "Training (6180 / 18000 Steps) (loss=0.55845): 100%|██████████| 7/7 [00:05<00:00,  1.28it/s]\n",
      "Training (6187 / 18000 Steps) (loss=0.56020): 100%|██████████| 7/7 [00:05<00:00,  1.23it/s]\n",
      "Training (6194 / 18000 Steps) (loss=0.37239): 100%|██████████| 7/7 [00:05<00:00,  1.24it/s]\n",
      "Validate (6195 / 10 Steps): 100%|██████████| 2/2 [00:04<00:00,  2.14s/it]<00:01,  1.50it/s]\n",
      "Training (6200 / 18000 Steps) (loss=0.47153):  86%|████████▌ | 6/7 [00:10<00:02,  2.29s/it]"
     ]
    },
    {
     "name": "stdout",
     "output_type": "stream",
     "text": [
      "Model Was Saved ! Current Best Avg. Dice: 0.29462841153144836 Current Avg. Dice: 0.29462841153144836 Current Avg. tumor Dice: 0.38157472014427185 Current Avg. lymph Dice: 0.20768210291862488\n"
     ]
    },
    {
     "name": "stderr",
     "output_type": "stream",
     "text": [
      "Training (6201 / 18000 Steps) (loss=0.63709): 100%|██████████| 7/7 [00:10<00:00,  1.54s/it]\n",
      "Training (6208 / 18000 Steps) (loss=0.45546): 100%|██████████| 7/7 [00:05<00:00,  1.26it/s]\n",
      "Training (6215 / 18000 Steps) (loss=0.61815): 100%|██████████| 7/7 [00:05<00:00,  1.32it/s]\n",
      "Training (6222 / 18000 Steps) (loss=0.61143): 100%|██████████| 7/7 [00:05<00:00,  1.24it/s]\n",
      "Training (6229 / 18000 Steps) (loss=0.56823): 100%|██████████| 7/7 [00:05<00:00,  1.22it/s]\n",
      "Training (6236 / 18000 Steps) (loss=0.56512): 100%|██████████| 7/7 [00:05<00:00,  1.24it/s]\n",
      "Training (6243 / 18000 Steps) (loss=0.56423): 100%|██████████| 7/7 [00:05<00:00,  1.29it/s]\n",
      "Training (6250 / 18000 Steps) (loss=0.47924): 100%|██████████| 7/7 [00:05<00:00,  1.22it/s]\n",
      "Training (6257 / 18000 Steps) (loss=0.38567): 100%|██████████| 7/7 [00:05<00:00,  1.29it/s]\n",
      "Training (6264 / 18000 Steps) (loss=0.58773): 100%|██████████| 7/7 [00:05<00:00,  1.26it/s]\n",
      "Training (6271 / 18000 Steps) (loss=0.39412): 100%|██████████| 7/7 [00:05<00:00,  1.31it/s]\n",
      "Training (6278 / 18000 Steps) (loss=0.56425): 100%|██████████| 7/7 [00:05<00:00,  1.29it/s]\n",
      "Training (6285 / 18000 Steps) (loss=0.68338): 100%|██████████| 7/7 [00:05<00:00,  1.27it/s]\n",
      "Training (6292 / 18000 Steps) (loss=0.57571): 100%|██████████| 7/7 [00:05<00:00,  1.29it/s]\n",
      "Training (6299 / 18000 Steps) (loss=0.49309): 100%|██████████| 7/7 [00:05<00:00,  1.23it/s]\n",
      "Validate (6300 / 10 Steps): 100%|██████████| 2/2 [00:04<00:00,  2.23s/it]<?, ?it/s]\n",
      "Training (6300 / 18000 Steps) (loss=0.51189):  14%|█▍        | 1/7 [00:07<00:46,  7.73s/it]"
     ]
    },
    {
     "name": "stdout",
     "output_type": "stream",
     "text": [
      "Model Was Not Saved ! Current Best Avg. Dice: 0.29462841153144836 Current Avg. Dice: 0.23054832220077515 Current Avg. tumor Dice: 0.27491095662117004 Current Avg. lymph Dice: 0.18618570268154144\n"
     ]
    },
    {
     "name": "stderr",
     "output_type": "stream",
     "text": [
      "Training (6306 / 18000 Steps) (loss=0.49503): 100%|██████████| 7/7 [00:10<00:00,  1.45s/it]\n",
      "Training (6313 / 18000 Steps) (loss=0.59855): 100%|██████████| 7/7 [00:05<00:00,  1.25it/s]\n",
      "Training (6320 / 18000 Steps) (loss=0.65549): 100%|██████████| 7/7 [00:05<00:00,  1.28it/s]\n",
      "Training (6327 / 18000 Steps) (loss=0.57552): 100%|██████████| 7/7 [00:05<00:00,  1.26it/s]\n",
      "Training (6334 / 18000 Steps) (loss=0.42591): 100%|██████████| 7/7 [00:05<00:00,  1.28it/s]\n",
      "Training (6341 / 18000 Steps) (loss=0.29017): 100%|██████████| 7/7 [00:05<00:00,  1.26it/s]\n",
      "Training (6348 / 18000 Steps) (loss=0.45077): 100%|██████████| 7/7 [00:05<00:00,  1.27it/s]\n",
      "Training (6355 / 18000 Steps) (loss=0.46324): 100%|██████████| 7/7 [00:05<00:00,  1.23it/s]\n",
      "Training (6362 / 18000 Steps) (loss=0.46173): 100%|██████████| 7/7 [00:05<00:00,  1.24it/s]\n",
      "Training (6369 / 18000 Steps) (loss=0.66853): 100%|██████████| 7/7 [00:05<00:00,  1.29it/s]\n",
      "Training (6376 / 18000 Steps) (loss=0.61738): 100%|██████████| 7/7 [00:05<00:00,  1.29it/s]\n",
      "Training (6383 / 18000 Steps) (loss=0.41380): 100%|██████████| 7/7 [00:05<00:00,  1.21it/s]\n",
      "Training (6390 / 18000 Steps) (loss=0.62490): 100%|██████████| 7/7 [00:05<00:00,  1.30it/s]\n",
      "Training (6397 / 18000 Steps) (loss=0.48586): 100%|██████████| 7/7 [00:05<00:00,  1.22it/s]\n",
      "Validate (6398 / 10 Steps): 100%|██████████| 2/2 [00:04<00:00,  2.26s/it]<00:07,  1.50s/it]\n",
      "Training (6400 / 18000 Steps) (loss=0.52450):  43%|████▎     | 3/7 [00:08<00:12,  3.10s/it]"
     ]
    },
    {
     "name": "stdout",
     "output_type": "stream",
     "text": [
      "Model Was Not Saved ! Current Best Avg. Dice: 0.29462841153144836 Current Avg. Dice: 0.24562622606754303 Current Avg. tumor Dice: 0.26604315638542175 Current Avg. lymph Dice: 0.2252093106508255\n"
     ]
    },
    {
     "name": "stderr",
     "output_type": "stream",
     "text": [
      "Training (6404 / 18000 Steps) (loss=0.59074): 100%|██████████| 7/7 [00:10<00:00,  1.43s/it]\n",
      "Training (6411 / 18000 Steps) (loss=0.51259): 100%|██████████| 7/7 [00:05<00:00,  1.30it/s]\n",
      "Training (6418 / 18000 Steps) (loss=0.55771): 100%|██████████| 7/7 [00:06<00:00,  1.16it/s]\n",
      "Training (6425 / 18000 Steps) (loss=0.60896): 100%|██████████| 7/7 [00:05<00:00,  1.24it/s]\n",
      "Training (6432 / 18000 Steps) (loss=0.35584): 100%|██████████| 7/7 [00:05<00:00,  1.24it/s]\n",
      "Training (6439 / 18000 Steps) (loss=0.61122): 100%|██████████| 7/7 [00:05<00:00,  1.34it/s]\n",
      "Training (6446 / 18000 Steps) (loss=0.32931): 100%|██████████| 7/7 [00:05<00:00,  1.31it/s]\n",
      "Training (6453 / 18000 Steps) (loss=0.52069): 100%|██████████| 7/7 [00:05<00:00,  1.30it/s]\n",
      "Training (6460 / 18000 Steps) (loss=0.35885): 100%|██████████| 7/7 [00:05<00:00,  1.29it/s]\n",
      "Training (6467 / 18000 Steps) (loss=0.36287): 100%|██████████| 7/7 [00:05<00:00,  1.33it/s]\n",
      "Training (6474 / 18000 Steps) (loss=0.46388): 100%|██████████| 7/7 [00:05<00:00,  1.31it/s]\n",
      "Training (6481 / 18000 Steps) (loss=0.36769): 100%|██████████| 7/7 [00:05<00:00,  1.28it/s]\n",
      "Training (6488 / 18000 Steps) (loss=0.42907): 100%|██████████| 7/7 [00:05<00:00,  1.28it/s]\n",
      "Training (6495 / 18000 Steps) (loss=0.61085): 100%|██████████| 7/7 [00:05<00:00,  1.22it/s]\n",
      "Validate (6496 / 10 Steps): 100%|██████████| 2/2 [00:04<00:00,  2.14s/it]<00:02,  1.31it/s]\n",
      "Training (6500 / 18000 Steps) (loss=0.45453):  71%|███████▏  | 5/7 [00:08<00:04,  2.20s/it]"
     ]
    },
    {
     "name": "stdout",
     "output_type": "stream",
     "text": [
      "Model Was Not Saved ! Current Best Avg. Dice: 0.29462841153144836 Current Avg. Dice: 0.20032088458538055 Current Avg. tumor Dice: 0.23727315664291382 Current Avg. lymph Dice: 0.1633686125278473\n"
     ]
    },
    {
     "name": "stderr",
     "output_type": "stream",
     "text": [
      "Training (6502 / 18000 Steps) (loss=0.59702): 100%|██████████| 7/7 [00:09<00:00,  1.39s/it]\n",
      "Training (6509 / 18000 Steps) (loss=0.50465): 100%|██████████| 7/7 [00:05<00:00,  1.23it/s]\n",
      "Training (6516 / 18000 Steps) (loss=0.38199): 100%|██████████| 7/7 [00:05<00:00,  1.27it/s]\n",
      "Training (6523 / 18000 Steps) (loss=0.53561): 100%|██████████| 7/7 [00:05<00:00,  1.28it/s]\n",
      "Training (6530 / 18000 Steps) (loss=0.65142): 100%|██████████| 7/7 [00:05<00:00,  1.24it/s]\n",
      "Training (6537 / 18000 Steps) (loss=0.53089): 100%|██████████| 7/7 [00:05<00:00,  1.23it/s]\n",
      "Training (6544 / 18000 Steps) (loss=0.39463): 100%|██████████| 7/7 [00:05<00:00,  1.25it/s]\n",
      "Training (6551 / 18000 Steps) (loss=0.61880): 100%|██████████| 7/7 [00:05<00:00,  1.24it/s]\n",
      "Training (6558 / 18000 Steps) (loss=0.39695): 100%|██████████| 7/7 [00:05<00:00,  1.31it/s]\n",
      "Training (6565 / 18000 Steps) (loss=0.51824): 100%|██████████| 7/7 [00:05<00:00,  1.24it/s]\n",
      "Training (6572 / 18000 Steps) (loss=0.52201): 100%|██████████| 7/7 [00:05<00:00,  1.22it/s]\n",
      "Training (6579 / 18000 Steps) (loss=0.55755): 100%|██████████| 7/7 [00:05<00:00,  1.23it/s]\n",
      "Training (6586 / 18000 Steps) (loss=0.61507): 100%|██████████| 7/7 [00:05<00:00,  1.32it/s]\n",
      "Training (6593 / 18000 Steps) (loss=0.49493): 100%|██████████| 7/7 [00:05<00:00,  1.32it/s]\n",
      "Validate (6594 / 10 Steps): 100%|██████████| 2/2 [00:04<00:00,  2.18s/it]<00:00,  1.75it/s]\n",
      "Training (6600 / 18000 Steps) (loss=0.64777): 100%|██████████| 7/7 [00:09<00:00,  1.41s/it]\n"
     ]
    },
    {
     "name": "stdout",
     "output_type": "stream",
     "text": [
      "Model Was Not Saved ! Current Best Avg. Dice: 0.29462841153144836 Current Avg. Dice: 0.2780078053474426 Current Avg. tumor Dice: 0.33053576946258545 Current Avg. lymph Dice: 0.22547981142997742\n"
     ]
    },
    {
     "name": "stderr",
     "output_type": "stream",
     "text": [
      "Training (6607 / 18000 Steps) (loss=0.36908): 100%|██████████| 7/7 [00:05<00:00,  1.34it/s]\n",
      "Training (6614 / 18000 Steps) (loss=0.56762): 100%|██████████| 7/7 [00:05<00:00,  1.27it/s]\n",
      "Training (6621 / 18000 Steps) (loss=0.54470): 100%|██████████| 7/7 [00:05<00:00,  1.34it/s]\n",
      "Training (6628 / 18000 Steps) (loss=0.42264): 100%|██████████| 7/7 [00:05<00:00,  1.24it/s]\n",
      "Training (6635 / 18000 Steps) (loss=0.35633): 100%|██████████| 7/7 [00:05<00:00,  1.27it/s]\n",
      "Training (6642 / 18000 Steps) (loss=0.41587): 100%|██████████| 7/7 [00:05<00:00,  1.34it/s]\n",
      "Training (6649 / 18000 Steps) (loss=0.56188): 100%|██████████| 7/7 [00:05<00:00,  1.26it/s]\n",
      "Training (6656 / 18000 Steps) (loss=0.49673): 100%|██████████| 7/7 [00:05<00:00,  1.29it/s]\n",
      "Training (6663 / 18000 Steps) (loss=0.58571): 100%|██████████| 7/7 [00:05<00:00,  1.24it/s]\n",
      "Training (6670 / 18000 Steps) (loss=0.41123): 100%|██████████| 7/7 [00:05<00:00,  1.30it/s]\n",
      "Training (6677 / 18000 Steps) (loss=0.65063): 100%|██████████| 7/7 [00:05<00:00,  1.24it/s]\n",
      "Training (6684 / 18000 Steps) (loss=0.58970): 100%|██████████| 7/7 [00:05<00:00,  1.29it/s]\n",
      "Training (6691 / 18000 Steps) (loss=0.52833): 100%|██████████| 7/7 [00:05<00:00,  1.25it/s]\n",
      "Training (6698 / 18000 Steps) (loss=0.47741): 100%|██████████| 7/7 [00:05<00:00,  1.23it/s]\n",
      "Validate (6699 / 10 Steps): 100%|██████████| 2/2 [00:04<00:00,  2.13s/it]<00:17,  2.90s/it]\n",
      "Training (6700 / 18000 Steps) (loss=0.52180):  29%|██▊       | 2/7 [00:07<00:19,  3.98s/it]"
     ]
    },
    {
     "name": "stdout",
     "output_type": "stream",
     "text": [
      "Model Was Not Saved ! Current Best Avg. Dice: 0.29462841153144836 Current Avg. Dice: 0.195071280002594 Current Avg. tumor Dice: 0.2456422746181488 Current Avg. lymph Dice: 0.14450028538703918\n"
     ]
    },
    {
     "name": "stderr",
     "output_type": "stream",
     "text": [
      "Training (6705 / 18000 Steps) (loss=0.61624): 100%|██████████| 7/7 [00:09<00:00,  1.37s/it]\n",
      "Training (6712 / 18000 Steps) (loss=0.66746): 100%|██████████| 7/7 [00:05<00:00,  1.29it/s]\n",
      "Training (6719 / 18000 Steps) (loss=0.49016): 100%|██████████| 7/7 [00:05<00:00,  1.24it/s]\n",
      "Training (6726 / 18000 Steps) (loss=0.72142): 100%|██████████| 7/7 [00:05<00:00,  1.28it/s]\n",
      "Training (6733 / 18000 Steps) (loss=0.67371): 100%|██████████| 7/7 [00:05<00:00,  1.27it/s]\n",
      "Training (6740 / 18000 Steps) (loss=0.41499): 100%|██████████| 7/7 [00:05<00:00,  1.27it/s]\n",
      "Training (6747 / 18000 Steps) (loss=0.58273): 100%|██████████| 7/7 [00:05<00:00,  1.31it/s]\n",
      "Training (6754 / 18000 Steps) (loss=0.51200): 100%|██████████| 7/7 [00:05<00:00,  1.25it/s]\n",
      "Training (6761 / 18000 Steps) (loss=0.39684): 100%|██████████| 7/7 [00:05<00:00,  1.26it/s]\n",
      "Training (6768 / 18000 Steps) (loss=0.61422): 100%|██████████| 7/7 [00:05<00:00,  1.31it/s]\n",
      "Training (6775 / 18000 Steps) (loss=0.58608): 100%|██████████| 7/7 [00:05<00:00,  1.29it/s]\n",
      "Training (6782 / 18000 Steps) (loss=0.54212): 100%|██████████| 7/7 [00:05<00:00,  1.28it/s]\n",
      "Training (6789 / 18000 Steps) (loss=0.60062): 100%|██████████| 7/7 [00:05<00:00,  1.34it/s]\n",
      "Training (6796 / 18000 Steps) (loss=0.61301): 100%|██████████| 7/7 [00:05<00:00,  1.29it/s]\n",
      "Validate (6797 / 10 Steps): 100%|██████████| 2/2 [00:04<00:00,  2.11s/it]<00:03,  1.00it/s]\n",
      "Training (6800 / 18000 Steps) (loss=0.50914):  57%|█████▋    | 4/7 [00:08<00:07,  2.46s/it]"
     ]
    },
    {
     "name": "stdout",
     "output_type": "stream",
     "text": [
      "Model Was Not Saved ! Current Best Avg. Dice: 0.29462841153144836 Current Avg. Dice: 0.23284637928009033 Current Avg. tumor Dice: 0.25256291031837463 Current Avg. lymph Dice: 0.21312987804412842\n"
     ]
    },
    {
     "name": "stderr",
     "output_type": "stream",
     "text": [
      "Training (6803 / 18000 Steps) (loss=0.63925): 100%|██████████| 7/7 [00:09<00:00,  1.39s/it]\n",
      "Training (6810 / 18000 Steps) (loss=0.62051): 100%|██████████| 7/7 [00:05<00:00,  1.29it/s]\n",
      "Training (6817 / 18000 Steps) (loss=0.63398): 100%|██████████| 7/7 [00:05<00:00,  1.25it/s]\n",
      "Training (6824 / 18000 Steps) (loss=0.47602): 100%|██████████| 7/7 [00:05<00:00,  1.28it/s]\n",
      "Training (6831 / 18000 Steps) (loss=0.61329): 100%|██████████| 7/7 [00:05<00:00,  1.29it/s]\n",
      "Training (6838 / 18000 Steps) (loss=0.29762): 100%|██████████| 7/7 [00:05<00:00,  1.27it/s]\n",
      "Training (6845 / 18000 Steps) (loss=0.38271): 100%|██████████| 7/7 [00:05<00:00,  1.33it/s]\n",
      "Training (6852 / 18000 Steps) (loss=0.59257): 100%|██████████| 7/7 [00:05<00:00,  1.33it/s]\n",
      "Training (6859 / 18000 Steps) (loss=0.57655): 100%|██████████| 7/7 [00:05<00:00,  1.36it/s]\n",
      "Training (6866 / 18000 Steps) (loss=0.60676): 100%|██████████| 7/7 [00:05<00:00,  1.28it/s]\n",
      "Training (6873 / 18000 Steps) (loss=0.57847): 100%|██████████| 7/7 [00:05<00:00,  1.33it/s]\n",
      "Training (6880 / 18000 Steps) (loss=0.36449): 100%|██████████| 7/7 [00:05<00:00,  1.30it/s]\n",
      "Training (6887 / 18000 Steps) (loss=0.50896): 100%|██████████| 7/7 [00:05<00:00,  1.28it/s]\n",
      "Training (6894 / 18000 Steps) (loss=0.60722): 100%|██████████| 7/7 [00:05<00:00,  1.26it/s]\n",
      "Validate (6895 / 10 Steps): 100%|██████████| 2/2 [00:04<00:00,  2.11s/it]<00:01,  1.58it/s]\n",
      "Training (6900 / 18000 Steps) (loss=0.39749):  86%|████████▌ | 6/7 [00:09<00:02,  2.01s/it]"
     ]
    },
    {
     "name": "stdout",
     "output_type": "stream",
     "text": [
      "Model Was Not Saved ! Current Best Avg. Dice: 0.29462841153144836 Current Avg. Dice: 0.27643832564353943 Current Avg. tumor Dice: 0.30911320447921753 Current Avg. lymph Dice: 0.24376346170902252\n"
     ]
    },
    {
     "name": "stderr",
     "output_type": "stream",
     "text": [
      "Training (6901 / 18000 Steps) (loss=0.60459): 100%|██████████| 7/7 [00:09<00:00,  1.37s/it]\n",
      "Training (6908 / 18000 Steps) (loss=0.61303): 100%|██████████| 7/7 [00:05<00:00,  1.30it/s]\n",
      "Training (6915 / 18000 Steps) (loss=0.58332): 100%|██████████| 7/7 [00:05<00:00,  1.31it/s]\n",
      "Training (6922 / 18000 Steps) (loss=0.49814): 100%|██████████| 7/7 [00:05<00:00,  1.24it/s]\n",
      "Training (6929 / 18000 Steps) (loss=0.56780): 100%|██████████| 7/7 [00:05<00:00,  1.27it/s]\n",
      "Training (6936 / 18000 Steps) (loss=0.57081): 100%|██████████| 7/7 [00:05<00:00,  1.29it/s]\n",
      "Training (6943 / 18000 Steps) (loss=0.58954): 100%|██████████| 7/7 [00:05<00:00,  1.34it/s]\n",
      "Training (6950 / 18000 Steps) (loss=0.58967): 100%|██████████| 7/7 [00:05<00:00,  1.29it/s]\n",
      "Training (6957 / 18000 Steps) (loss=0.46532): 100%|██████████| 7/7 [00:05<00:00,  1.32it/s]\n",
      "Training (6964 / 18000 Steps) (loss=0.44109): 100%|██████████| 7/7 [00:05<00:00,  1.26it/s]\n",
      "Training (6971 / 18000 Steps) (loss=0.36584): 100%|██████████| 7/7 [00:05<00:00,  1.34it/s]\n",
      "Training (6978 / 18000 Steps) (loss=0.45265): 100%|██████████| 7/7 [00:05<00:00,  1.23it/s]\n",
      "Training (6985 / 18000 Steps) (loss=0.45273): 100%|██████████| 7/7 [00:05<00:00,  1.24it/s]\n",
      "Training (6992 / 18000 Steps) (loss=0.56222): 100%|██████████| 7/7 [00:05<00:00,  1.26it/s]\n",
      "Training (6999 / 18000 Steps) (loss=0.58244): 100%|██████████| 7/7 [00:05<00:00,  1.25it/s]\n",
      "Validate (7000 / 10 Steps): 100%|██████████| 2/2 [00:04<00:00,  2.14s/it]<?, ?it/s]\n",
      "Training (7000 / 18000 Steps) (loss=0.63634):  14%|█▍        | 1/7 [00:07<00:44,  7.48s/it]"
     ]
    },
    {
     "name": "stdout",
     "output_type": "stream",
     "text": [
      "Model Was Not Saved ! Current Best Avg. Dice: 0.29462841153144836 Current Avg. Dice: 0.26051878929138184 Current Avg. tumor Dice: 0.3352136015892029 Current Avg. lymph Dice: 0.1858239620923996\n"
     ]
    },
    {
     "name": "stderr",
     "output_type": "stream",
     "text": [
      "Training (7006 / 18000 Steps) (loss=0.48846): 100%|██████████| 7/7 [00:09<00:00,  1.41s/it]\n",
      "Training (7013 / 18000 Steps) (loss=0.37338): 100%|██████████| 7/7 [00:05<00:00,  1.27it/s]\n",
      "Training (7020 / 18000 Steps) (loss=0.65691): 100%|██████████| 7/7 [00:05<00:00,  1.29it/s]\n",
      "Training (7027 / 18000 Steps) (loss=0.51652): 100%|██████████| 7/7 [00:05<00:00,  1.28it/s]\n",
      "Training (7034 / 18000 Steps) (loss=0.53757): 100%|██████████| 7/7 [00:05<00:00,  1.28it/s]\n",
      "Training (7041 / 18000 Steps) (loss=0.51729): 100%|██████████| 7/7 [00:05<00:00,  1.30it/s]\n",
      "Training (7048 / 18000 Steps) (loss=0.54311): 100%|██████████| 7/7 [00:05<00:00,  1.23it/s]\n",
      "Training (7055 / 18000 Steps) (loss=0.55149): 100%|██████████| 7/7 [00:05<00:00,  1.27it/s]\n",
      "Training (7062 / 18000 Steps) (loss=0.31532): 100%|██████████| 7/7 [00:05<00:00,  1.26it/s]\n",
      "Training (7069 / 18000 Steps) (loss=0.56022): 100%|██████████| 7/7 [00:05<00:00,  1.29it/s]\n",
      "Training (7076 / 18000 Steps) (loss=0.37073): 100%|██████████| 7/7 [00:05<00:00,  1.24it/s]\n",
      "Training (7083 / 18000 Steps) (loss=0.57568): 100%|██████████| 7/7 [00:05<00:00,  1.33it/s]\n",
      "Training (7090 / 18000 Steps) (loss=0.63628): 100%|██████████| 7/7 [00:05<00:00,  1.30it/s]\n",
      "Training (7097 / 18000 Steps) (loss=0.59083): 100%|██████████| 7/7 [00:05<00:00,  1.27it/s]\n",
      "Validate (7098 / 10 Steps): 100%|██████████| 2/2 [00:04<00:00,  2.09s/it]<00:07,  1.52s/it]\n",
      "Training (7100 / 18000 Steps) (loss=0.48139):  43%|████▎     | 3/7 [00:08<00:11,  2.94s/it]"
     ]
    },
    {
     "name": "stdout",
     "output_type": "stream",
     "text": [
      "Model Was Not Saved ! Current Best Avg. Dice: 0.29462841153144836 Current Avg. Dice: 0.24508854746818542 Current Avg. tumor Dice: 0.347685843706131 Current Avg. lymph Dice: 0.14249125123023987\n"
     ]
    },
    {
     "name": "stderr",
     "output_type": "stream",
     "text": [
      "Training (7104 / 18000 Steps) (loss=0.59260): 100%|██████████| 7/7 [00:09<00:00,  1.39s/it]\n",
      "Training (7111 / 18000 Steps) (loss=0.35274): 100%|██████████| 7/7 [00:05<00:00,  1.22it/s]\n",
      "Training (7118 / 18000 Steps) (loss=0.51387): 100%|██████████| 7/7 [00:05<00:00,  1.30it/s]\n",
      "Training (7125 / 18000 Steps) (loss=0.54710): 100%|██████████| 7/7 [00:05<00:00,  1.34it/s]\n",
      "Training (7132 / 18000 Steps) (loss=0.55484): 100%|██████████| 7/7 [00:05<00:00,  1.26it/s]\n",
      "Training (7139 / 18000 Steps) (loss=0.41341): 100%|██████████| 7/7 [00:05<00:00,  1.28it/s]\n",
      "Training (7146 / 18000 Steps) (loss=0.52618): 100%|██████████| 7/7 [00:05<00:00,  1.34it/s]\n",
      "Training (7153 / 18000 Steps) (loss=0.48123): 100%|██████████| 7/7 [00:05<00:00,  1.25it/s]\n",
      "Training (7160 / 18000 Steps) (loss=0.47987): 100%|██████████| 7/7 [00:05<00:00,  1.22it/s]\n",
      "Training (7167 / 18000 Steps) (loss=0.51937): 100%|██████████| 7/7 [00:05<00:00,  1.26it/s]\n",
      "Training (7174 / 18000 Steps) (loss=0.44991): 100%|██████████| 7/7 [00:05<00:00,  1.26it/s]\n",
      "Training (7181 / 18000 Steps) (loss=0.42238): 100%|██████████| 7/7 [00:05<00:00,  1.28it/s]\n",
      "Training (7188 / 18000 Steps) (loss=0.44564): 100%|██████████| 7/7 [00:05<00:00,  1.34it/s]\n",
      "Training (7195 / 18000 Steps) (loss=0.34056): 100%|██████████| 7/7 [00:05<00:00,  1.30it/s]\n",
      "Validate (7196 / 10 Steps): 100%|██████████| 2/2 [00:04<00:00,  2.15s/it]<00:02,  1.31it/s]\n",
      "Training (7200 / 18000 Steps) (loss=0.61833):  71%|███████▏  | 5/7 [00:09<00:04,  2.20s/it]"
     ]
    },
    {
     "name": "stdout",
     "output_type": "stream",
     "text": [
      "Model Was Not Saved ! Current Best Avg. Dice: 0.29462841153144836 Current Avg. Dice: 0.27197015285491943 Current Avg. tumor Dice: 0.3217548429965973 Current Avg. lymph Dice: 0.222185418009758\n"
     ]
    },
    {
     "name": "stderr",
     "output_type": "stream",
     "text": [
      "Training (7202 / 18000 Steps) (loss=0.40294): 100%|██████████| 7/7 [00:09<00:00,  1.39s/it]\n",
      "Training (7209 / 18000 Steps) (loss=0.54533): 100%|██████████| 7/7 [00:05<00:00,  1.25it/s]\n",
      "Training (7216 / 18000 Steps) (loss=0.57020): 100%|██████████| 7/7 [00:05<00:00,  1.30it/s]\n",
      "Training (7223 / 18000 Steps) (loss=0.56263): 100%|██████████| 7/7 [00:05<00:00,  1.27it/s]\n",
      "Training (7230 / 18000 Steps) (loss=0.41812): 100%|██████████| 7/7 [00:05<00:00,  1.28it/s]\n",
      "Training (7237 / 18000 Steps) (loss=0.57218): 100%|██████████| 7/7 [00:05<00:00,  1.25it/s]\n",
      "Training (7244 / 18000 Steps) (loss=0.37155): 100%|██████████| 7/7 [00:05<00:00,  1.26it/s]\n",
      "Training (7251 / 18000 Steps) (loss=0.56139): 100%|██████████| 7/7 [00:05<00:00,  1.27it/s]\n",
      "Training (7258 / 18000 Steps) (loss=0.57658): 100%|██████████| 7/7 [00:05<00:00,  1.26it/s]\n",
      "Training (7265 / 18000 Steps) (loss=0.61615): 100%|██████████| 7/7 [00:05<00:00,  1.25it/s]\n",
      "Training (7272 / 18000 Steps) (loss=0.61243): 100%|██████████| 7/7 [00:05<00:00,  1.27it/s]\n",
      "Training (7279 / 18000 Steps) (loss=0.43410): 100%|██████████| 7/7 [00:05<00:00,  1.28it/s]\n",
      "Training (7286 / 18000 Steps) (loss=0.52604): 100%|██████████| 7/7 [00:05<00:00,  1.28it/s]\n",
      "Training (7293 / 18000 Steps) (loss=0.43559): 100%|██████████| 7/7 [00:05<00:00,  1.27it/s]\n",
      "Validate (7294 / 10 Steps): 100%|██████████| 2/2 [00:04<00:00,  2.21s/it]<00:00,  1.74it/s]\n",
      "Training (7300 / 18000 Steps) (loss=0.52136): 100%|██████████| 7/7 [00:10<00:00,  1.44s/it]\n"
     ]
    },
    {
     "name": "stdout",
     "output_type": "stream",
     "text": [
      "Model Was Not Saved ! Current Best Avg. Dice: 0.29462841153144836 Current Avg. Dice: 0.2348896563053131 Current Avg. tumor Dice: 0.25953325629234314 Current Avg. lymph Dice: 0.2102460265159607\n"
     ]
    },
    {
     "name": "stderr",
     "output_type": "stream",
     "text": [
      "Training (7307 / 18000 Steps) (loss=0.33910): 100%|██████████| 7/7 [00:05<00:00,  1.31it/s]\n",
      "Training (7314 / 18000 Steps) (loss=0.51911): 100%|██████████| 7/7 [00:05<00:00,  1.32it/s]\n",
      "Training (7321 / 18000 Steps) (loss=0.30893): 100%|██████████| 7/7 [00:05<00:00,  1.29it/s]\n",
      "Training (7328 / 18000 Steps) (loss=0.67844): 100%|██████████| 7/7 [00:05<00:00,  1.28it/s]\n",
      "Training (7335 / 18000 Steps) (loss=0.48046): 100%|██████████| 7/7 [00:05<00:00,  1.35it/s]\n",
      "Training (7342 / 18000 Steps) (loss=0.39464): 100%|██████████| 7/7 [00:05<00:00,  1.31it/s]\n",
      "Training (7349 / 18000 Steps) (loss=0.55667): 100%|██████████| 7/7 [00:05<00:00,  1.31it/s]\n",
      "Training (7356 / 18000 Steps) (loss=0.36135): 100%|██████████| 7/7 [00:05<00:00,  1.33it/s]\n",
      "Training (7363 / 18000 Steps) (loss=0.56389): 100%|██████████| 7/7 [00:05<00:00,  1.33it/s]\n",
      "Training (7370 / 18000 Steps) (loss=0.61128): 100%|██████████| 7/7 [00:05<00:00,  1.21it/s]\n",
      "Training (7377 / 18000 Steps) (loss=0.56377): 100%|██████████| 7/7 [00:05<00:00,  1.25it/s]\n",
      "Training (7384 / 18000 Steps) (loss=0.49007): 100%|██████████| 7/7 [00:05<00:00,  1.30it/s]\n",
      "Training (7391 / 18000 Steps) (loss=0.45858): 100%|██████████| 7/7 [00:05<00:00,  1.33it/s]\n",
      "Training (7398 / 18000 Steps) (loss=0.41377): 100%|██████████| 7/7 [00:05<00:00,  1.26it/s]\n",
      "Validate (7399 / 10 Steps): 100%|██████████| 2/2 [00:04<00:00,  2.16s/it]<00:18,  3.14s/it]\n",
      "Training (7400 / 18000 Steps) (loss=0.44251):  29%|██▊       | 2/7 [00:07<00:20,  4.11s/it]"
     ]
    },
    {
     "name": "stdout",
     "output_type": "stream",
     "text": [
      "Model Was Not Saved ! Current Best Avg. Dice: 0.29462841153144836 Current Avg. Dice: 0.2866348922252655 Current Avg. tumor Dice: 0.3404349684715271 Current Avg. lymph Dice: 0.2328348159790039\n"
     ]
    },
    {
     "name": "stderr",
     "output_type": "stream",
     "text": [
      "Training (7405 / 18000 Steps) (loss=0.54657): 100%|██████████| 7/7 [00:09<00:00,  1.42s/it]\n",
      "Training (7412 / 18000 Steps) (loss=0.24829): 100%|██████████| 7/7 [00:05<00:00,  1.37it/s]\n",
      "Training (7419 / 18000 Steps) (loss=0.52005): 100%|██████████| 7/7 [00:05<00:00,  1.25it/s]\n",
      "Training (7426 / 18000 Steps) (loss=0.43944): 100%|██████████| 7/7 [00:05<00:00,  1.27it/s]\n",
      "Training (7433 / 18000 Steps) (loss=0.40234): 100%|██████████| 7/7 [00:05<00:00,  1.34it/s]\n",
      "Training (7440 / 18000 Steps) (loss=0.46361): 100%|██████████| 7/7 [00:05<00:00,  1.33it/s]\n",
      "Training (7447 / 18000 Steps) (loss=0.42453): 100%|██████████| 7/7 [00:05<00:00,  1.26it/s]\n",
      "Training (7454 / 18000 Steps) (loss=0.45761): 100%|██████████| 7/7 [00:05<00:00,  1.26it/s]\n",
      "Training (7461 / 18000 Steps) (loss=0.67312): 100%|██████████| 7/7 [00:05<00:00,  1.24it/s]\n",
      "Training (7468 / 18000 Steps) (loss=0.54971): 100%|██████████| 7/7 [00:05<00:00,  1.26it/s]\n",
      "Training (7475 / 18000 Steps) (loss=0.41708): 100%|██████████| 7/7 [00:05<00:00,  1.36it/s]\n",
      "Training (7482 / 18000 Steps) (loss=0.49752): 100%|██████████| 7/7 [00:05<00:00,  1.26it/s]\n",
      "Training (7489 / 18000 Steps) (loss=0.49260): 100%|██████████| 7/7 [00:05<00:00,  1.32it/s]\n",
      "Training (7496 / 18000 Steps) (loss=0.55455): 100%|██████████| 7/7 [00:05<00:00,  1.23it/s]\n",
      "Validate (7497 / 10 Steps): 100%|██████████| 2/2 [00:04<00:00,  2.16s/it]<00:03,  1.01it/s]\n",
      "Training (7500 / 18000 Steps) (loss=0.43868):  57%|█████▋    | 4/7 [00:08<00:07,  2.49s/it]"
     ]
    },
    {
     "name": "stdout",
     "output_type": "stream",
     "text": [
      "Model Was Not Saved ! Current Best Avg. Dice: 0.29462841153144836 Current Avg. Dice: 0.21310210227966309 Current Avg. tumor Dice: 0.2563599944114685 Current Avg. lymph Dice: 0.16984422504901886\n"
     ]
    },
    {
     "name": "stderr",
     "output_type": "stream",
     "text": [
      "Training (7503 / 18000 Steps) (loss=0.35528): 100%|██████████| 7/7 [00:09<00:00,  1.40s/it]\n",
      "Training (7510 / 18000 Steps) (loss=0.48530): 100%|██████████| 7/7 [00:05<00:00,  1.32it/s]\n",
      "Training (7517 / 18000 Steps) (loss=0.45196): 100%|██████████| 7/7 [00:05<00:00,  1.27it/s]\n",
      "Training (7524 / 18000 Steps) (loss=0.50273): 100%|██████████| 7/7 [00:05<00:00,  1.25it/s]\n",
      "Training (7531 / 18000 Steps) (loss=0.59734): 100%|██████████| 7/7 [00:05<00:00,  1.33it/s]\n",
      "Training (7538 / 18000 Steps) (loss=0.66881): 100%|██████████| 7/7 [00:05<00:00,  1.31it/s]\n",
      "Training (7545 / 18000 Steps) (loss=0.52989): 100%|██████████| 7/7 [00:05<00:00,  1.32it/s]\n",
      "Training (7552 / 18000 Steps) (loss=0.37631): 100%|██████████| 7/7 [00:05<00:00,  1.29it/s]\n",
      "Training (7559 / 18000 Steps) (loss=0.48385): 100%|██████████| 7/7 [00:05<00:00,  1.34it/s]\n",
      "Training (7566 / 18000 Steps) (loss=0.33222): 100%|██████████| 7/7 [00:05<00:00,  1.34it/s]\n",
      "Training (7573 / 18000 Steps) (loss=0.49069): 100%|██████████| 7/7 [00:05<00:00,  1.33it/s]\n",
      "Training (7580 / 18000 Steps) (loss=0.54184): 100%|██████████| 7/7 [00:05<00:00,  1.29it/s]\n",
      "Training (7587 / 18000 Steps) (loss=0.62911): 100%|██████████| 7/7 [00:05<00:00,  1.28it/s]\n",
      "Training (7594 / 18000 Steps) (loss=0.39800): 100%|██████████| 7/7 [00:05<00:00,  1.23it/s]\n",
      "Validate (7595 / 10 Steps): 100%|██████████| 2/2 [00:04<00:00,  2.21s/it]<00:01,  1.56it/s]\n",
      "Training (7600 / 18000 Steps) (loss=0.61512):  86%|████████▌ | 6/7 [00:09<00:02,  2.09s/it]"
     ]
    },
    {
     "name": "stdout",
     "output_type": "stream",
     "text": [
      "Model Was Not Saved ! Current Best Avg. Dice: 0.29462841153144836 Current Avg. Dice: 0.24761557579040527 Current Avg. tumor Dice: 0.361541748046875 Current Avg. lymph Dice: 0.13368940353393555\n"
     ]
    },
    {
     "name": "stderr",
     "output_type": "stream",
     "text": [
      "Training (7601 / 18000 Steps) (loss=0.53653): 100%|██████████| 7/7 [00:09<00:00,  1.42s/it]\n",
      "Training (7608 / 18000 Steps) (loss=0.49631): 100%|██████████| 7/7 [00:05<00:00,  1.32it/s]\n",
      "Training (7615 / 18000 Steps) (loss=0.46158): 100%|██████████| 7/7 [00:05<00:00,  1.34it/s]\n",
      "Training (7622 / 18000 Steps) (loss=0.56436): 100%|██████████| 7/7 [00:05<00:00,  1.30it/s]\n",
      "Training (7629 / 18000 Steps) (loss=0.49053): 100%|██████████| 7/7 [00:05<00:00,  1.30it/s]\n",
      "Training (7636 / 18000 Steps) (loss=0.54261): 100%|██████████| 7/7 [00:05<00:00,  1.27it/s]\n",
      "Training (7643 / 18000 Steps) (loss=0.45100): 100%|██████████| 7/7 [00:05<00:00,  1.30it/s]\n",
      "Training (7650 / 18000 Steps) (loss=0.56005): 100%|██████████| 7/7 [00:05<00:00,  1.30it/s]\n",
      "Training (7657 / 18000 Steps) (loss=0.54012): 100%|██████████| 7/7 [00:05<00:00,  1.33it/s]\n",
      "Training (7664 / 18000 Steps) (loss=0.35460): 100%|██████████| 7/7 [00:05<00:00,  1.30it/s]\n",
      "Training (7671 / 18000 Steps) (loss=0.57161): 100%|██████████| 7/7 [00:05<00:00,  1.32it/s]\n",
      "Training (7678 / 18000 Steps) (loss=0.60970): 100%|██████████| 7/7 [00:05<00:00,  1.31it/s]\n",
      "Training (7685 / 18000 Steps) (loss=0.49887): 100%|██████████| 7/7 [00:05<00:00,  1.31it/s]\n",
      "Training (7692 / 18000 Steps) (loss=0.67135): 100%|██████████| 7/7 [00:05<00:00,  1.27it/s]\n",
      "Training (7699 / 18000 Steps) (loss=0.46637): 100%|██████████| 7/7 [00:05<00:00,  1.25it/s]\n",
      "Validate (7700 / 10 Steps): 100%|██████████| 2/2 [00:04<00:00,  2.10s/it]<?, ?it/s]\n",
      "Training (7700 / 18000 Steps) (loss=0.63139):  14%|█▍        | 1/7 [00:07<00:42,  7.12s/it]"
     ]
    },
    {
     "name": "stdout",
     "output_type": "stream",
     "text": [
      "Model Was Not Saved ! Current Best Avg. Dice: 0.29462841153144836 Current Avg. Dice: 0.23645710945129395 Current Avg. tumor Dice: 0.24835039675235748 Current Avg. lymph Dice: 0.2245638370513916\n"
     ]
    },
    {
     "name": "stderr",
     "output_type": "stream",
     "text": [
      "Training (7706 / 18000 Steps) (loss=0.41710): 100%|██████████| 7/7 [00:09<00:00,  1.36s/it]\n",
      "Training (7713 / 18000 Steps) (loss=0.49122): 100%|██████████| 7/7 [00:05<00:00,  1.31it/s]\n",
      "Training (7720 / 18000 Steps) (loss=0.47541): 100%|██████████| 7/7 [00:05<00:00,  1.27it/s]\n",
      "Training (7727 / 18000 Steps) (loss=0.56077): 100%|██████████| 7/7 [00:05<00:00,  1.30it/s]\n",
      "Training (7734 / 18000 Steps) (loss=0.27667): 100%|██████████| 7/7 [00:05<00:00,  1.28it/s]\n",
      "Training (7741 / 18000 Steps) (loss=0.54541): 100%|██████████| 7/7 [00:05<00:00,  1.28it/s]\n",
      "Training (7748 / 18000 Steps) (loss=0.36557): 100%|██████████| 7/7 [00:05<00:00,  1.27it/s]\n",
      "Training (7755 / 18000 Steps) (loss=0.47510): 100%|██████████| 7/7 [00:05<00:00,  1.26it/s]\n",
      "Training (7762 / 18000 Steps) (loss=0.56882): 100%|██████████| 7/7 [00:05<00:00,  1.30it/s]\n",
      "Training (7769 / 18000 Steps) (loss=0.47955): 100%|██████████| 7/7 [00:05<00:00,  1.20it/s]\n",
      "Training (7776 / 18000 Steps) (loss=0.47563): 100%|██████████| 7/7 [00:05<00:00,  1.30it/s]\n",
      "Training (7783 / 18000 Steps) (loss=0.32475): 100%|██████████| 7/7 [00:05<00:00,  1.25it/s]\n",
      "Training (7790 / 18000 Steps) (loss=0.55957): 100%|██████████| 7/7 [00:05<00:00,  1.30it/s]\n",
      "Training (7797 / 18000 Steps) (loss=0.46070): 100%|██████████| 7/7 [00:05<00:00,  1.28it/s]\n",
      "Validate (7798 / 10 Steps): 100%|██████████| 2/2 [00:04<00:00,  2.12s/it]<00:07,  1.49s/it]\n",
      "Training (7800 / 18000 Steps) (loss=0.46639):  43%|████▎     | 3/7 [00:08<00:11,  2.96s/it]"
     ]
    },
    {
     "name": "stdout",
     "output_type": "stream",
     "text": [
      "Model Was Not Saved ! Current Best Avg. Dice: 0.29462841153144836 Current Avg. Dice: 0.25926506519317627 Current Avg. tumor Dice: 0.3039338290691376 Current Avg. lymph Dice: 0.21459631621837616\n"
     ]
    },
    {
     "name": "stderr",
     "output_type": "stream",
     "text": [
      "Training (7804 / 18000 Steps) (loss=0.37293): 100%|██████████| 7/7 [00:09<00:00,  1.39s/it]\n",
      "Training (7811 / 18000 Steps) (loss=0.42886): 100%|██████████| 7/7 [00:05<00:00,  1.29it/s]\n",
      "Training (7818 / 18000 Steps) (loss=0.49236): 100%|██████████| 7/7 [00:05<00:00,  1.32it/s]\n",
      "Training (7825 / 18000 Steps) (loss=0.59091): 100%|██████████| 7/7 [00:05<00:00,  1.26it/s]\n",
      "Training (7832 / 18000 Steps) (loss=0.61837): 100%|██████████| 7/7 [00:05<00:00,  1.34it/s]\n",
      "Training (7839 / 18000 Steps) (loss=0.39581): 100%|██████████| 7/7 [00:05<00:00,  1.31it/s]\n",
      "Training (7846 / 18000 Steps) (loss=0.49849): 100%|██████████| 7/7 [00:05<00:00,  1.27it/s]\n",
      "Training (7853 / 18000 Steps) (loss=0.49933): 100%|██████████| 7/7 [00:05<00:00,  1.21it/s]\n",
      "Training (7860 / 18000 Steps) (loss=0.66648): 100%|██████████| 7/7 [00:05<00:00,  1.30it/s]\n",
      "Training (7867 / 18000 Steps) (loss=0.44857): 100%|██████████| 7/7 [00:05<00:00,  1.31it/s]\n",
      "Training (7874 / 18000 Steps) (loss=0.60877): 100%|██████████| 7/7 [00:05<00:00,  1.34it/s]\n",
      "Training (7881 / 18000 Steps) (loss=0.53407): 100%|██████████| 7/7 [00:05<00:00,  1.28it/s]\n",
      "Training (7888 / 18000 Steps) (loss=0.48766): 100%|██████████| 7/7 [00:05<00:00,  1.24it/s]\n",
      "Training (7895 / 18000 Steps) (loss=0.51630): 100%|██████████| 7/7 [00:05<00:00,  1.27it/s]\n",
      "Validate (7896 / 10 Steps): 100%|██████████| 2/2 [00:04<00:00,  2.26s/it]<00:02,  1.31it/s]\n",
      "Training (7900 / 18000 Steps) (loss=0.54289):  71%|███████▏  | 5/7 [00:09<00:04,  2.28s/it]"
     ]
    },
    {
     "name": "stdout",
     "output_type": "stream",
     "text": [
      "Model Was Not Saved ! Current Best Avg. Dice: 0.29462841153144836 Current Avg. Dice: 0.23066845536231995 Current Avg. tumor Dice: 0.26690563559532166 Current Avg. lymph Dice: 0.19443127512931824\n"
     ]
    },
    {
     "name": "stderr",
     "output_type": "stream",
     "text": [
      "Training (7902 / 18000 Steps) (loss=0.36582): 100%|██████████| 7/7 [00:09<00:00,  1.42s/it]\n",
      "Training (7909 / 18000 Steps) (loss=0.51528): 100%|██████████| 7/7 [00:05<00:00,  1.28it/s]\n",
      "Training (7916 / 18000 Steps) (loss=0.41491): 100%|██████████| 7/7 [00:05<00:00,  1.28it/s]\n",
      "Training (7923 / 18000 Steps) (loss=0.47088): 100%|██████████| 7/7 [00:05<00:00,  1.29it/s]\n",
      "Training (7930 / 18000 Steps) (loss=0.60559): 100%|██████████| 7/7 [00:05<00:00,  1.34it/s]\n",
      "Training (7937 / 18000 Steps) (loss=0.25571): 100%|██████████| 7/7 [00:05<00:00,  1.28it/s]\n",
      "Training (7944 / 18000 Steps) (loss=0.52945): 100%|██████████| 7/7 [00:05<00:00,  1.29it/s]\n",
      "Training (7951 / 18000 Steps) (loss=0.60481): 100%|██████████| 7/7 [00:05<00:00,  1.27it/s]\n",
      "Training (7958 / 18000 Steps) (loss=0.26986): 100%|██████████| 7/7 [00:05<00:00,  1.33it/s]\n",
      "Training (7965 / 18000 Steps) (loss=0.56273): 100%|██████████| 7/7 [00:05<00:00,  1.30it/s]\n",
      "Training (7972 / 18000 Steps) (loss=0.60474): 100%|██████████| 7/7 [00:05<00:00,  1.32it/s]\n",
      "Training (7979 / 18000 Steps) (loss=0.52362): 100%|██████████| 7/7 [00:05<00:00,  1.35it/s]\n",
      "Training (7986 / 18000 Steps) (loss=0.67607): 100%|██████████| 7/7 [00:05<00:00,  1.30it/s]\n",
      "Training (7993 / 18000 Steps) (loss=0.46824): 100%|██████████| 7/7 [00:05<00:00,  1.23it/s]\n",
      "Validate (7994 / 10 Steps): 100%|██████████| 2/2 [00:04<00:00,  2.16s/it]<00:00,  1.80it/s]\n",
      "Training (8000 / 18000 Steps) (loss=0.29686): 100%|██████████| 7/7 [00:09<00:00,  1.38s/it]\n"
     ]
    },
    {
     "name": "stdout",
     "output_type": "stream",
     "text": [
      "Model Was Not Saved ! Current Best Avg. Dice: 0.29462841153144836 Current Avg. Dice: 0.2700755000114441 Current Avg. tumor Dice: 0.30901217460632324 Current Avg. lymph Dice: 0.23113887012004852\n"
     ]
    },
    {
     "name": "stderr",
     "output_type": "stream",
     "text": [
      "Training (8007 / 18000 Steps) (loss=0.51828): 100%|██████████| 7/7 [00:05<00:00,  1.35it/s]\n",
      "Training (8014 / 18000 Steps) (loss=0.50638): 100%|██████████| 7/7 [00:05<00:00,  1.24it/s]\n",
      "Training (8021 / 18000 Steps) (loss=0.49389): 100%|██████████| 7/7 [00:05<00:00,  1.29it/s]\n",
      "Training (8028 / 18000 Steps) (loss=0.63100): 100%|██████████| 7/7 [00:05<00:00,  1.24it/s]\n",
      "Training (8035 / 18000 Steps) (loss=0.48834): 100%|██████████| 7/7 [00:05<00:00,  1.24it/s]\n",
      "Training (8042 / 18000 Steps) (loss=0.59636): 100%|██████████| 7/7 [00:05<00:00,  1.29it/s]\n",
      "Training (8049 / 18000 Steps) (loss=0.56797): 100%|██████████| 7/7 [00:05<00:00,  1.26it/s]\n",
      "Training (8056 / 18000 Steps) (loss=0.59750): 100%|██████████| 7/7 [00:05<00:00,  1.26it/s]\n",
      "Training (8063 / 18000 Steps) (loss=0.43764): 100%|██████████| 7/7 [00:05<00:00,  1.25it/s]\n",
      "Training (8070 / 18000 Steps) (loss=0.35536): 100%|██████████| 7/7 [00:05<00:00,  1.25it/s]\n",
      "Training (8077 / 18000 Steps) (loss=0.58201): 100%|██████████| 7/7 [00:05<00:00,  1.26it/s]\n",
      "Training (8084 / 18000 Steps) (loss=0.56233): 100%|██████████| 7/7 [00:05<00:00,  1.36it/s]\n",
      "Training (8091 / 18000 Steps) (loss=0.43450): 100%|██████████| 7/7 [00:05<00:00,  1.27it/s]\n",
      "Training (8098 / 18000 Steps) (loss=0.58112): 100%|██████████| 7/7 [00:05<00:00,  1.22it/s]\n",
      "Validate (8099 / 10 Steps): 100%|██████████| 2/2 [00:04<00:00,  2.21s/it]<00:17,  2.84s/it]\n",
      "Training (8100 / 18000 Steps) (loss=0.52948):  29%|██▊       | 2/7 [00:07<00:20,  4.05s/it]"
     ]
    },
    {
     "name": "stdout",
     "output_type": "stream",
     "text": [
      "Model Was Not Saved ! Current Best Avg. Dice: 0.29462841153144836 Current Avg. Dice: 0.25544387102127075 Current Avg. tumor Dice: 0.3010943531990051 Current Avg. lymph Dice: 0.20979338884353638\n"
     ]
    },
    {
     "name": "stderr",
     "output_type": "stream",
     "text": [
      "Training (8105 / 18000 Steps) (loss=0.59787): 100%|██████████| 7/7 [00:09<00:00,  1.39s/it]\n",
      "Training (8112 / 18000 Steps) (loss=0.63136): 100%|██████████| 7/7 [00:05<00:00,  1.30it/s]\n",
      "Training (8119 / 18000 Steps) (loss=0.39924): 100%|██████████| 7/7 [00:05<00:00,  1.27it/s]\n",
      "Training (8126 / 18000 Steps) (loss=0.47003): 100%|██████████| 7/7 [00:05<00:00,  1.23it/s]\n",
      "Training (8133 / 18000 Steps) (loss=0.36647): 100%|██████████| 7/7 [00:05<00:00,  1.31it/s]\n",
      "Training (8140 / 18000 Steps) (loss=0.65199): 100%|██████████| 7/7 [00:05<00:00,  1.26it/s]\n",
      "Training (8147 / 18000 Steps) (loss=0.55092): 100%|██████████| 7/7 [00:05<00:00,  1.30it/s]\n",
      "Training (8154 / 18000 Steps) (loss=0.58265): 100%|██████████| 7/7 [00:05<00:00,  1.28it/s]\n",
      "Training (8161 / 18000 Steps) (loss=0.57893): 100%|██████████| 7/7 [00:05<00:00,  1.21it/s]\n",
      "Training (8168 / 18000 Steps) (loss=0.53456): 100%|██████████| 7/7 [00:05<00:00,  1.29it/s]\n",
      "Training (8175 / 18000 Steps) (loss=0.62079): 100%|██████████| 7/7 [00:05<00:00,  1.23it/s]\n",
      "Training (8182 / 18000 Steps) (loss=0.51758): 100%|██████████| 7/7 [00:05<00:00,  1.26it/s]\n",
      "Training (8189 / 18000 Steps) (loss=0.52639): 100%|██████████| 7/7 [00:05<00:00,  1.28it/s]\n",
      "Training (8196 / 18000 Steps) (loss=0.60821): 100%|██████████| 7/7 [00:05<00:00,  1.33it/s]\n",
      "Validate (8197 / 10 Steps): 100%|██████████| 2/2 [00:04<00:00,  2.19s/it]<00:04,  1.02s/it]\n",
      "Training (8200 / 18000 Steps) (loss=0.47457):  57%|█████▋    | 4/7 [00:08<00:07,  2.53s/it]"
     ]
    },
    {
     "name": "stdout",
     "output_type": "stream",
     "text": [
      "Model Was Not Saved ! Current Best Avg. Dice: 0.29462841153144836 Current Avg. Dice: 0.20111355185508728 Current Avg. tumor Dice: 0.2638859748840332 Current Avg. lymph Dice: 0.13834114372730255\n"
     ]
    },
    {
     "name": "stderr",
     "output_type": "stream",
     "text": [
      "Training (8203 / 18000 Steps) (loss=0.71411): 100%|██████████| 7/7 [00:09<00:00,  1.42s/it]\n",
      "Training (8210 / 18000 Steps) (loss=0.47863): 100%|██████████| 7/7 [00:05<00:00,  1.22it/s]\n",
      "Training (8217 / 18000 Steps) (loss=0.46224): 100%|██████████| 7/7 [00:05<00:00,  1.24it/s]\n",
      "Training (8224 / 18000 Steps) (loss=0.58220): 100%|██████████| 7/7 [00:05<00:00,  1.26it/s]\n",
      "Training (8231 / 18000 Steps) (loss=0.57549): 100%|██████████| 7/7 [00:05<00:00,  1.32it/s]\n",
      "Training (8238 / 18000 Steps) (loss=0.43720): 100%|██████████| 7/7 [00:05<00:00,  1.24it/s]\n",
      "Training (8245 / 18000 Steps) (loss=0.50665): 100%|██████████| 7/7 [00:05<00:00,  1.28it/s]\n",
      "Training (8252 / 18000 Steps) (loss=0.61157): 100%|██████████| 7/7 [00:05<00:00,  1.31it/s]\n",
      "Training (8259 / 18000 Steps) (loss=0.49495): 100%|██████████| 7/7 [00:05<00:00,  1.29it/s]\n",
      "Training (8266 / 18000 Steps) (loss=0.35483): 100%|██████████| 7/7 [00:05<00:00,  1.27it/s]\n",
      "Training (8273 / 18000 Steps) (loss=0.48950): 100%|██████████| 7/7 [00:05<00:00,  1.27it/s]\n",
      "Training (8280 / 18000 Steps) (loss=0.55506): 100%|██████████| 7/7 [00:05<00:00,  1.21it/s]\n",
      "Training (8287 / 18000 Steps) (loss=0.55852): 100%|██████████| 7/7 [00:05<00:00,  1.34it/s]\n",
      "Training (8294 / 18000 Steps) (loss=0.65874): 100%|██████████| 7/7 [00:05<00:00,  1.28it/s]\n",
      "Validate (8295 / 10 Steps): 100%|██████████| 2/2 [00:04<00:00,  2.09s/it]<00:01,  1.52it/s]\n",
      "Training (8300 / 18000 Steps) (loss=0.52968):  86%|████████▌ | 6/7 [00:09<00:02,  2.02s/it]"
     ]
    },
    {
     "name": "stdout",
     "output_type": "stream",
     "text": [
      "Model Was Not Saved ! Current Best Avg. Dice: 0.29462841153144836 Current Avg. Dice: 0.27860790491104126 Current Avg. tumor Dice: 0.313518226146698 Current Avg. lymph Dice: 0.24369753897190094\n"
     ]
    },
    {
     "name": "stderr",
     "output_type": "stream",
     "text": [
      "Training (8301 / 18000 Steps) (loss=0.38250): 100%|██████████| 7/7 [00:09<00:00,  1.41s/it]\n",
      "Training (8308 / 18000 Steps) (loss=0.37541): 100%|██████████| 7/7 [00:05<00:00,  1.29it/s]\n",
      "Training (8315 / 18000 Steps) (loss=0.67332): 100%|██████████| 7/7 [00:05<00:00,  1.28it/s]\n",
      "Training (8322 / 18000 Steps) (loss=0.52731): 100%|██████████| 7/7 [00:05<00:00,  1.22it/s]\n",
      "Training (8329 / 18000 Steps) (loss=0.42398): 100%|██████████| 7/7 [00:05<00:00,  1.35it/s]\n",
      "Training (8336 / 18000 Steps) (loss=0.37498): 100%|██████████| 7/7 [00:05<00:00,  1.23it/s]\n",
      "Training (8343 / 18000 Steps) (loss=0.67344): 100%|██████████| 7/7 [00:05<00:00,  1.25it/s]\n",
      "Training (8350 / 18000 Steps) (loss=0.30366): 100%|██████████| 7/7 [00:05<00:00,  1.22it/s]\n",
      "Training (8357 / 18000 Steps) (loss=0.51183): 100%|██████████| 7/7 [00:05<00:00,  1.28it/s]\n",
      "Training (8364 / 18000 Steps) (loss=0.62198): 100%|██████████| 7/7 [00:05<00:00,  1.29it/s]\n",
      "Training (8371 / 18000 Steps) (loss=0.46796): 100%|██████████| 7/7 [00:05<00:00,  1.28it/s]\n",
      "Training (8378 / 18000 Steps) (loss=0.47154): 100%|██████████| 7/7 [00:05<00:00,  1.27it/s]\n",
      "Training (8385 / 18000 Steps) (loss=0.34407): 100%|██████████| 7/7 [00:05<00:00,  1.32it/s]\n",
      "Training (8392 / 18000 Steps) (loss=0.46932): 100%|██████████| 7/7 [00:05<00:00,  1.33it/s]\n",
      "Training (8399 / 18000 Steps) (loss=0.48217): 100%|██████████| 7/7 [00:05<00:00,  1.39it/s]\n",
      "Validate (8400 / 10 Steps): 100%|██████████| 2/2 [00:04<00:00,  2.08s/it]<?, ?it/s]\n",
      "Training (8400 / 18000 Steps) (loss=0.38539):  14%|█▍        | 1/7 [00:07<00:43,  7.30s/it]"
     ]
    },
    {
     "name": "stdout",
     "output_type": "stream",
     "text": [
      "Model Was Not Saved ! Current Best Avg. Dice: 0.29462841153144836 Current Avg. Dice: 0.23150381445884705 Current Avg. tumor Dice: 0.3010750710964203 Current Avg. lymph Dice: 0.1619325429201126\n"
     ]
    },
    {
     "name": "stderr",
     "output_type": "stream",
     "text": [
      "Training (8406 / 18000 Steps) (loss=0.47038): 100%|██████████| 7/7 [00:09<00:00,  1.38s/it]\n",
      "Training (8413 / 18000 Steps) (loss=0.65517): 100%|██████████| 7/7 [00:05<00:00,  1.26it/s]\n",
      "Training (8420 / 18000 Steps) (loss=0.23460): 100%|██████████| 7/7 [00:05<00:00,  1.28it/s]\n",
      "Training (8427 / 18000 Steps) (loss=0.40238): 100%|██████████| 7/7 [00:05<00:00,  1.23it/s]\n",
      "Training (8434 / 18000 Steps) (loss=0.61360): 100%|██████████| 7/7 [00:05<00:00,  1.28it/s]\n",
      "Training (8441 / 18000 Steps) (loss=0.36512): 100%|██████████| 7/7 [00:05<00:00,  1.25it/s]\n",
      "Training (8448 / 18000 Steps) (loss=0.54224): 100%|██████████| 7/7 [00:05<00:00,  1.33it/s]\n",
      "Training (8455 / 18000 Steps) (loss=0.48478): 100%|██████████| 7/7 [00:05<00:00,  1.25it/s]\n",
      "Training (8462 / 18000 Steps) (loss=0.59380): 100%|██████████| 7/7 [00:05<00:00,  1.27it/s]\n",
      "Training (8469 / 18000 Steps) (loss=0.39279): 100%|██████████| 7/7 [00:05<00:00,  1.29it/s]\n",
      "Training (8476 / 18000 Steps) (loss=0.56149): 100%|██████████| 7/7 [00:05<00:00,  1.34it/s]\n",
      "Training (8483 / 18000 Steps) (loss=0.62642): 100%|██████████| 7/7 [00:05<00:00,  1.32it/s]\n",
      "Training (8490 / 18000 Steps) (loss=0.54126): 100%|██████████| 7/7 [00:05<00:00,  1.29it/s]\n",
      "Training (8497 / 18000 Steps) (loss=0.50551): 100%|██████████| 7/7 [00:05<00:00,  1.28it/s]\n",
      "Validate (8498 / 10 Steps): 100%|██████████| 2/2 [00:04<00:00,  2.15s/it]<00:07,  1.56s/it]\n",
      "Training (8500 / 18000 Steps) (loss=0.46758):  43%|████▎     | 3/7 [00:08<00:12,  3.02s/it]"
     ]
    },
    {
     "name": "stdout",
     "output_type": "stream",
     "text": [
      "Model Was Not Saved ! Current Best Avg. Dice: 0.29462841153144836 Current Avg. Dice: 0.2026747763156891 Current Avg. tumor Dice: 0.255537748336792 Current Avg. lymph Dice: 0.1498117744922638\n"
     ]
    },
    {
     "name": "stderr",
     "output_type": "stream",
     "text": [
      "Training (8504 / 18000 Steps) (loss=0.44140): 100%|██████████| 7/7 [00:09<00:00,  1.42s/it]\n",
      "Training (8511 / 18000 Steps) (loss=0.55483): 100%|██████████| 7/7 [00:05<00:00,  1.27it/s]\n",
      "Training (8518 / 18000 Steps) (loss=0.68285): 100%|██████████| 7/7 [00:05<00:00,  1.31it/s]\n",
      "Training (8525 / 18000 Steps) (loss=0.52097): 100%|██████████| 7/7 [00:05<00:00,  1.33it/s]\n",
      "Training (8532 / 18000 Steps) (loss=0.45282): 100%|██████████| 7/7 [00:05<00:00,  1.28it/s]\n",
      "Training (8539 / 18000 Steps) (loss=0.45028): 100%|██████████| 7/7 [00:05<00:00,  1.30it/s]\n",
      "Training (8546 / 18000 Steps) (loss=0.48237): 100%|██████████| 7/7 [00:05<00:00,  1.25it/s]\n",
      "Training (8553 / 18000 Steps) (loss=0.40956): 100%|██████████| 7/7 [00:05<00:00,  1.29it/s]\n",
      "Training (8560 / 18000 Steps) (loss=0.32202): 100%|██████████| 7/7 [00:05<00:00,  1.29it/s]\n",
      "Training (8567 / 18000 Steps) (loss=0.49872): 100%|██████████| 7/7 [00:05<00:00,  1.28it/s]\n",
      "Training (8574 / 18000 Steps) (loss=0.47041): 100%|██████████| 7/7 [00:05<00:00,  1.26it/s]\n",
      "Training (8581 / 18000 Steps) (loss=0.41253): 100%|██████████| 7/7 [00:05<00:00,  1.18it/s]\n",
      "Training (8588 / 18000 Steps) (loss=0.61319): 100%|██████████| 7/7 [00:05<00:00,  1.30it/s]\n",
      "Training (8595 / 18000 Steps) (loss=0.59111): 100%|██████████| 7/7 [00:05<00:00,  1.28it/s]\n",
      "Validate (8596 / 10 Steps): 100%|██████████| 2/2 [00:04<00:00,  2.10s/it]<00:02,  1.29it/s]\n",
      "Training (8600 / 18000 Steps) (loss=0.45539):  71%|███████▏  | 5/7 [00:08<00:04,  2.18s/it]"
     ]
    },
    {
     "name": "stdout",
     "output_type": "stream",
     "text": [
      "Model Was Not Saved ! Current Best Avg. Dice: 0.29462841153144836 Current Avg. Dice: 0.27225786447525024 Current Avg. tumor Dice: 0.32654210925102234 Current Avg. lymph Dice: 0.21797358989715576\n"
     ]
    },
    {
     "name": "stderr",
     "output_type": "stream",
     "text": [
      "Training (8602 / 18000 Steps) (loss=0.45528): 100%|██████████| 7/7 [00:09<00:00,  1.38s/it]\n",
      "Training (8609 / 18000 Steps) (loss=0.51958): 100%|██████████| 7/7 [00:05<00:00,  1.29it/s]\n",
      "Training (8616 / 18000 Steps) (loss=0.56831): 100%|██████████| 7/7 [00:05<00:00,  1.28it/s]\n",
      "Training (8623 / 18000 Steps) (loss=0.44118): 100%|██████████| 7/7 [00:05<00:00,  1.28it/s]\n",
      "Training (8630 / 18000 Steps) (loss=0.53621): 100%|██████████| 7/7 [00:05<00:00,  1.27it/s]\n",
      "Training (8637 / 18000 Steps) (loss=0.30163): 100%|██████████| 7/7 [00:05<00:00,  1.33it/s]\n",
      "Training (8644 / 18000 Steps) (loss=0.55905): 100%|██████████| 7/7 [00:05<00:00,  1.25it/s]\n",
      "Training (8651 / 18000 Steps) (loss=0.58906): 100%|██████████| 7/7 [00:05<00:00,  1.24it/s]\n",
      "Training (8658 / 18000 Steps) (loss=0.34553): 100%|██████████| 7/7 [00:05<00:00,  1.29it/s]\n",
      "Training (8665 / 18000 Steps) (loss=0.47976): 100%|██████████| 7/7 [00:05<00:00,  1.25it/s]\n",
      "Training (8672 / 18000 Steps) (loss=0.58322): 100%|██████████| 7/7 [00:05<00:00,  1.33it/s]\n",
      "Training (8679 / 18000 Steps) (loss=0.51571): 100%|██████████| 7/7 [00:05<00:00,  1.34it/s]\n",
      "Training (8686 / 18000 Steps) (loss=0.41460): 100%|██████████| 7/7 [00:05<00:00,  1.31it/s]\n",
      "Training (8693 / 18000 Steps) (loss=0.54849): 100%|██████████| 7/7 [00:05<00:00,  1.25it/s]\n",
      "Validate (8694 / 10 Steps): 100%|██████████| 2/2 [00:04<00:00,  2.12s/it]<00:00,  1.76it/s]\n",
      "Training (8700 / 18000 Steps) (loss=0.49465): 100%|██████████| 7/7 [00:09<00:00,  1.40s/it]\n"
     ]
    },
    {
     "name": "stdout",
     "output_type": "stream",
     "text": [
      "Model Was Not Saved ! Current Best Avg. Dice: 0.29462841153144836 Current Avg. Dice: 0.27853548526763916 Current Avg. tumor Dice: 0.3514825403690338 Current Avg. lymph Dice: 0.2055884301662445\n"
     ]
    },
    {
     "name": "stderr",
     "output_type": "stream",
     "text": [
      "Training (8707 / 18000 Steps) (loss=0.66393): 100%|██████████| 7/7 [00:05<00:00,  1.33it/s]\n",
      "Training (8714 / 18000 Steps) (loss=0.58273): 100%|██████████| 7/7 [00:05<00:00,  1.28it/s]\n",
      "Training (8721 / 18000 Steps) (loss=0.43462): 100%|██████████| 7/7 [00:05<00:00,  1.34it/s]\n",
      "Training (8728 / 18000 Steps) (loss=0.30971): 100%|██████████| 7/7 [00:05<00:00,  1.28it/s]\n",
      "Training (8735 / 18000 Steps) (loss=0.43093): 100%|██████████| 7/7 [00:05<00:00,  1.32it/s]\n",
      "Training (8742 / 18000 Steps) (loss=0.58898): 100%|██████████| 7/7 [00:05<00:00,  1.27it/s]\n",
      "Training (8749 / 18000 Steps) (loss=0.65071): 100%|██████████| 7/7 [00:05<00:00,  1.24it/s]\n",
      "Training (8756 / 18000 Steps) (loss=0.32810): 100%|██████████| 7/7 [00:05<00:00,  1.28it/s]\n",
      "Training (8763 / 18000 Steps) (loss=0.28207): 100%|██████████| 7/7 [00:05<00:00,  1.25it/s]\n",
      "Training (8770 / 18000 Steps) (loss=0.36182): 100%|██████████| 7/7 [00:05<00:00,  1.32it/s]\n",
      "Training (8777 / 18000 Steps) (loss=0.45276): 100%|██████████| 7/7 [00:05<00:00,  1.28it/s]\n",
      "Training (8784 / 18000 Steps) (loss=0.37436): 100%|██████████| 7/7 [00:05<00:00,  1.29it/s]\n",
      "Training (8791 / 18000 Steps) (loss=0.40036): 100%|██████████| 7/7 [00:05<00:00,  1.25it/s]\n",
      "Training (8798 / 18000 Steps) (loss=0.50577): 100%|██████████| 7/7 [00:05<00:00,  1.28it/s]\n",
      "Validate (8799 / 10 Steps): 100%|██████████| 2/2 [00:04<00:00,  2.11s/it]<00:18,  3.00s/it]\n",
      "Training (8800 / 18000 Steps) (loss=0.37457):  29%|██▊       | 2/7 [00:07<00:19,  3.99s/it]"
     ]
    },
    {
     "name": "stdout",
     "output_type": "stream",
     "text": [
      "Model Was Not Saved ! Current Best Avg. Dice: 0.29462841153144836 Current Avg. Dice: 0.26796606183052063 Current Avg. tumor Dice: 0.42310255765914917 Current Avg. lymph Dice: 0.1128295361995697\n"
     ]
    },
    {
     "name": "stderr",
     "output_type": "stream",
     "text": [
      "Training (8805 / 18000 Steps) (loss=0.59486): 100%|██████████| 7/7 [00:09<00:00,  1.38s/it]\n",
      "Training (8812 / 18000 Steps) (loss=0.49735): 100%|██████████| 7/7 [00:05<00:00,  1.31it/s]\n",
      "Training (8819 / 18000 Steps) (loss=0.32834): 100%|██████████| 7/7 [00:05<00:00,  1.29it/s]\n",
      "Training (8826 / 18000 Steps) (loss=0.42625): 100%|██████████| 7/7 [00:05<00:00,  1.29it/s]\n",
      "Training (8833 / 18000 Steps) (loss=0.31329): 100%|██████████| 7/7 [00:05<00:00,  1.29it/s]\n",
      "Training (8840 / 18000 Steps) (loss=0.48584): 100%|██████████| 7/7 [00:05<00:00,  1.30it/s]\n",
      "Training (8847 / 18000 Steps) (loss=0.39237): 100%|██████████| 7/7 [00:05<00:00,  1.35it/s]\n",
      "Training (8854 / 18000 Steps) (loss=0.46465): 100%|██████████| 7/7 [00:05<00:00,  1.28it/s]\n",
      "Training (8861 / 18000 Steps) (loss=0.51150): 100%|██████████| 7/7 [00:05<00:00,  1.29it/s]\n",
      "Training (8868 / 18000 Steps) (loss=0.51305): 100%|██████████| 7/7 [00:05<00:00,  1.24it/s]\n",
      "Training (8875 / 18000 Steps) (loss=0.49900): 100%|██████████| 7/7 [00:05<00:00,  1.31it/s]\n",
      "Training (8882 / 18000 Steps) (loss=0.56698): 100%|██████████| 7/7 [00:05<00:00,  1.33it/s]\n",
      "Training (8889 / 18000 Steps) (loss=0.53924): 100%|██████████| 7/7 [00:05<00:00,  1.27it/s]\n",
      "Training (8896 / 18000 Steps) (loss=0.32983): 100%|██████████| 7/7 [00:05<00:00,  1.33it/s]\n",
      "Validate (8897 / 10 Steps): 100%|██████████| 2/2 [00:04<00:00,  2.14s/it]<00:03,  1.04it/s]\n",
      "Training (8900 / 18000 Steps) (loss=0.46162):  57%|█████▋    | 4/7 [00:08<00:07,  2.46s/it]"
     ]
    },
    {
     "name": "stdout",
     "output_type": "stream",
     "text": [
      "Model Was Not Saved ! Current Best Avg. Dice: 0.29462841153144836 Current Avg. Dice: 0.28817838430404663 Current Avg. tumor Dice: 0.32435381412506104 Current Avg. lymph Dice: 0.25200292468070984\n"
     ]
    },
    {
     "name": "stderr",
     "output_type": "stream",
     "text": [
      "Training (8903 / 18000 Steps) (loss=0.32152): 100%|██████████| 7/7 [00:09<00:00,  1.37s/it]\n",
      "Training (8910 / 18000 Steps) (loss=0.53428): 100%|██████████| 7/7 [00:05<00:00,  1.27it/s]\n",
      "Training (8917 / 18000 Steps) (loss=0.44222): 100%|██████████| 7/7 [00:05<00:00,  1.31it/s]\n",
      "Training (8924 / 18000 Steps) (loss=0.26008): 100%|██████████| 7/7 [00:05<00:00,  1.30it/s]\n",
      "Training (8931 / 18000 Steps) (loss=0.44542): 100%|██████████| 7/7 [00:05<00:00,  1.30it/s]\n",
      "Training (8938 / 18000 Steps) (loss=0.33115): 100%|██████████| 7/7 [00:05<00:00,  1.23it/s]\n",
      "Training (8945 / 18000 Steps) (loss=0.35052): 100%|██████████| 7/7 [00:05<00:00,  1.28it/s]\n",
      "Training (8952 / 18000 Steps) (loss=0.56745): 100%|██████████| 7/7 [00:05<00:00,  1.27it/s]\n",
      "Training (8959 / 18000 Steps) (loss=0.49912): 100%|██████████| 7/7 [00:05<00:00,  1.30it/s]\n",
      "Training (8966 / 18000 Steps) (loss=0.29674): 100%|██████████| 7/7 [00:05<00:00,  1.27it/s]\n",
      "Training (8973 / 18000 Steps) (loss=0.41574): 100%|██████████| 7/7 [00:05<00:00,  1.28it/s]\n",
      "Training (8980 / 18000 Steps) (loss=0.66809): 100%|██████████| 7/7 [00:05<00:00,  1.24it/s]\n",
      "Training (8987 / 18000 Steps) (loss=0.32637): 100%|██████████| 7/7 [00:05<00:00,  1.26it/s]\n",
      "Training (8994 / 18000 Steps) (loss=0.35592): 100%|██████████| 7/7 [00:05<00:00,  1.27it/s]\n",
      "Validate (8995 / 10 Steps): 100%|██████████| 2/2 [00:04<00:00,  2.15s/it]<00:01,  1.52it/s]\n",
      "Training (9000 / 18000 Steps) (loss=0.53130):  86%|████████▌ | 6/7 [00:09<00:02,  2.06s/it]"
     ]
    },
    {
     "name": "stdout",
     "output_type": "stream",
     "text": [
      "Model Was Not Saved ! Current Best Avg. Dice: 0.29462841153144836 Current Avg. Dice: 0.2757319211959839 Current Avg. tumor Dice: 0.3202400803565979 Current Avg. lymph Dice: 0.23122373223304749\n"
     ]
    },
    {
     "name": "stderr",
     "output_type": "stream",
     "text": [
      "Training (9001 / 18000 Steps) (loss=0.27677): 100%|██████████| 7/7 [00:09<00:00,  1.43s/it]\n",
      "Training (9008 / 18000 Steps) (loss=0.49644): 100%|██████████| 7/7 [00:05<00:00,  1.31it/s]\n",
      "Training (9015 / 18000 Steps) (loss=0.57315): 100%|██████████| 7/7 [00:05<00:00,  1.23it/s]\n",
      "Training (9022 / 18000 Steps) (loss=0.32756): 100%|██████████| 7/7 [00:05<00:00,  1.31it/s]\n",
      "Training (9029 / 18000 Steps) (loss=0.59419): 100%|██████████| 7/7 [00:05<00:00,  1.32it/s]\n",
      "Training (9036 / 18000 Steps) (loss=0.49335): 100%|██████████| 7/7 [00:05<00:00,  1.26it/s]\n",
      "Training (9043 / 18000 Steps) (loss=0.54191): 100%|██████████| 7/7 [00:05<00:00,  1.25it/s]\n",
      "Training (9050 / 18000 Steps) (loss=0.49697): 100%|██████████| 7/7 [00:05<00:00,  1.25it/s]\n",
      "Training (9057 / 18000 Steps) (loss=0.37187): 100%|██████████| 7/7 [00:05<00:00,  1.29it/s]\n",
      "Training (9064 / 18000 Steps) (loss=0.42585): 100%|██████████| 7/7 [00:05<00:00,  1.31it/s]\n",
      "Training (9071 / 18000 Steps) (loss=0.35655): 100%|██████████| 7/7 [00:05<00:00,  1.31it/s]\n",
      "Training (9078 / 18000 Steps) (loss=0.56286): 100%|██████████| 7/7 [00:05<00:00,  1.26it/s]\n",
      "Training (9085 / 18000 Steps) (loss=0.56502): 100%|██████████| 7/7 [00:05<00:00,  1.31it/s]\n",
      "Training (9092 / 18000 Steps) (loss=0.49045): 100%|██████████| 7/7 [00:05<00:00,  1.27it/s]\n",
      "Training (9099 / 18000 Steps) (loss=0.45022): 100%|██████████| 7/7 [00:05<00:00,  1.27it/s]\n",
      "Validate (9100 / 10 Steps): 100%|██████████| 2/2 [00:04<00:00,  2.22s/it]<?, ?it/s]\n",
      "Training (9100 / 18000 Steps) (loss=0.49197):  14%|█▍        | 1/7 [00:07<00:47,  7.88s/it]"
     ]
    },
    {
     "name": "stdout",
     "output_type": "stream",
     "text": [
      "Model Was Not Saved ! Current Best Avg. Dice: 0.29462841153144836 Current Avg. Dice: 0.2782444953918457 Current Avg. tumor Dice: 0.3389635980129242 Current Avg. lymph Dice: 0.21752536296844482\n"
     ]
    },
    {
     "name": "stderr",
     "output_type": "stream",
     "text": [
      "Training (9106 / 18000 Steps) (loss=0.40280): 100%|██████████| 7/7 [00:10<00:00,  1.47s/it]\n",
      "Training (9113 / 18000 Steps) (loss=0.62567): 100%|██████████| 7/7 [00:05<00:00,  1.35it/s]\n",
      "Training (9120 / 18000 Steps) (loss=0.47990): 100%|██████████| 7/7 [00:05<00:00,  1.29it/s]\n",
      "Training (9127 / 18000 Steps) (loss=0.50752): 100%|██████████| 7/7 [00:05<00:00,  1.27it/s]\n",
      "Training (9134 / 18000 Steps) (loss=0.39442): 100%|██████████| 7/7 [00:05<00:00,  1.29it/s]\n",
      "Training (9141 / 18000 Steps) (loss=0.55076): 100%|██████████| 7/7 [00:05<00:00,  1.28it/s]\n",
      "Training (9148 / 18000 Steps) (loss=0.53734): 100%|██████████| 7/7 [00:05<00:00,  1.29it/s]\n",
      "Training (9155 / 18000 Steps) (loss=0.43059): 100%|██████████| 7/7 [00:05<00:00,  1.31it/s]\n",
      "Training (9162 / 18000 Steps) (loss=0.57446): 100%|██████████| 7/7 [00:05<00:00,  1.23it/s]\n",
      "Training (9169 / 18000 Steps) (loss=0.62049): 100%|██████████| 7/7 [00:05<00:00,  1.34it/s]\n",
      "Training (9176 / 18000 Steps) (loss=0.53638): 100%|██████████| 7/7 [00:05<00:00,  1.29it/s]\n",
      "Training (9183 / 18000 Steps) (loss=0.62111): 100%|██████████| 7/7 [00:05<00:00,  1.35it/s]\n",
      "Training (9190 / 18000 Steps) (loss=0.41672): 100%|██████████| 7/7 [00:05<00:00,  1.25it/s]\n",
      "Training (9197 / 18000 Steps) (loss=0.60989): 100%|██████████| 7/7 [00:05<00:00,  1.26it/s]\n",
      "Validate (9198 / 10 Steps): 100%|██████████| 2/2 [00:04<00:00,  2.23s/it]<00:07,  1.51s/it]\n",
      "Training (9200 / 18000 Steps) (loss=0.46626):  43%|████▎     | 3/7 [00:08<00:12,  3.07s/it]"
     ]
    },
    {
     "name": "stdout",
     "output_type": "stream",
     "text": [
      "Model Was Not Saved ! Current Best Avg. Dice: 0.29462841153144836 Current Avg. Dice: 0.22794413566589355 Current Avg. tumor Dice: 0.2812808156013489 Current Avg. lymph Dice: 0.17460745573043823\n"
     ]
    },
    {
     "name": "stderr",
     "output_type": "stream",
     "text": [
      "Training (9204 / 18000 Steps) (loss=0.34639): 100%|██████████| 7/7 [00:10<00:00,  1.43s/it]\n",
      "Training (9211 / 18000 Steps) (loss=0.57517): 100%|██████████| 7/7 [00:05<00:00,  1.31it/s]\n",
      "Training (9218 / 18000 Steps) (loss=0.47283): 100%|██████████| 7/7 [00:05<00:00,  1.24it/s]\n",
      "Training (9225 / 18000 Steps) (loss=0.48651): 100%|██████████| 7/7 [00:05<00:00,  1.36it/s]\n",
      "Training (9232 / 18000 Steps) (loss=0.40822): 100%|██████████| 7/7 [00:05<00:00,  1.25it/s]\n",
      "Training (9239 / 18000 Steps) (loss=0.42925): 100%|██████████| 7/7 [00:05<00:00,  1.33it/s]\n",
      "Training (9246 / 18000 Steps) (loss=0.51526): 100%|██████████| 7/7 [00:05<00:00,  1.25it/s]\n",
      "Training (9253 / 18000 Steps) (loss=0.59281): 100%|██████████| 7/7 [00:05<00:00,  1.28it/s]\n",
      "Training (9260 / 18000 Steps) (loss=0.54421): 100%|██████████| 7/7 [00:05<00:00,  1.35it/s]\n",
      "Training (9267 / 18000 Steps) (loss=0.44789): 100%|██████████| 7/7 [00:05<00:00,  1.32it/s]\n",
      "Training (9274 / 18000 Steps) (loss=0.33417): 100%|██████████| 7/7 [00:05<00:00,  1.29it/s]\n",
      "Training (9281 / 18000 Steps) (loss=0.36867): 100%|██████████| 7/7 [00:05<00:00,  1.22it/s]\n",
      "Training (9288 / 18000 Steps) (loss=0.56921): 100%|██████████| 7/7 [00:05<00:00,  1.25it/s]\n",
      "Training (9295 / 18000 Steps) (loss=0.43462): 100%|██████████| 7/7 [00:05<00:00,  1.32it/s]\n",
      "Validate (9296 / 10 Steps): 100%|██████████| 2/2 [00:04<00:00,  2.14s/it]<00:02,  1.31it/s]\n",
      "Training (9300 / 18000 Steps) (loss=0.49436):  71%|███████▏  | 5/7 [00:08<00:04,  2.20s/it]"
     ]
    },
    {
     "name": "stdout",
     "output_type": "stream",
     "text": [
      "Model Was Not Saved ! Current Best Avg. Dice: 0.29462841153144836 Current Avg. Dice: 0.2290937602519989 Current Avg. tumor Dice: 0.29471123218536377 Current Avg. lymph Dice: 0.16347628831863403\n"
     ]
    },
    {
     "name": "stderr",
     "output_type": "stream",
     "text": [
      "Training (9302 / 18000 Steps) (loss=0.53001): 100%|██████████| 7/7 [00:09<00:00,  1.39s/it]\n",
      "Training (9309 / 18000 Steps) (loss=0.46015): 100%|██████████| 7/7 [00:05<00:00,  1.23it/s]\n",
      "Training (9316 / 18000 Steps) (loss=0.42740): 100%|██████████| 7/7 [00:05<00:00,  1.35it/s]\n",
      "Training (9323 / 18000 Steps) (loss=0.33157): 100%|██████████| 7/7 [00:05<00:00,  1.29it/s]\n",
      "Training (9330 / 18000 Steps) (loss=0.61709): 100%|██████████| 7/7 [00:05<00:00,  1.31it/s]\n",
      "Training (9337 / 18000 Steps) (loss=0.42885): 100%|██████████| 7/7 [00:05<00:00,  1.27it/s]\n",
      "Training (9344 / 18000 Steps) (loss=0.40122): 100%|██████████| 7/7 [00:05<00:00,  1.30it/s]\n",
      "Training (9351 / 18000 Steps) (loss=0.41001): 100%|██████████| 7/7 [00:05<00:00,  1.33it/s]\n",
      "Training (9358 / 18000 Steps) (loss=0.42135): 100%|██████████| 7/7 [00:05<00:00,  1.29it/s]\n",
      "Training (9365 / 18000 Steps) (loss=0.42890): 100%|██████████| 7/7 [00:05<00:00,  1.24it/s]\n",
      "Training (9372 / 18000 Steps) (loss=0.29016): 100%|██████████| 7/7 [00:05<00:00,  1.31it/s]\n",
      "Training (9379 / 18000 Steps) (loss=0.41652): 100%|██████████| 7/7 [00:05<00:00,  1.24it/s]\n",
      "Training (9386 / 18000 Steps) (loss=0.27280): 100%|██████████| 7/7 [00:05<00:00,  1.21it/s]\n",
      "Training (9393 / 18000 Steps) (loss=0.41803): 100%|██████████| 7/7 [00:05<00:00,  1.26it/s]\n",
      "Validate (9394 / 10 Steps): 100%|██████████| 2/2 [00:04<00:00,  2.10s/it]<00:00,  1.80it/s]\n",
      "Training (9400 / 18000 Steps) (loss=0.54364): 100%|██████████| 7/7 [00:09<00:00,  1.36s/it]\n"
     ]
    },
    {
     "name": "stdout",
     "output_type": "stream",
     "text": [
      "Model Was Not Saved ! Current Best Avg. Dice: 0.29462841153144836 Current Avg. Dice: 0.27870696783065796 Current Avg. tumor Dice: 0.3517802357673645 Current Avg. lymph Dice: 0.2056337296962738\n"
     ]
    },
    {
     "name": "stderr",
     "output_type": "stream",
     "text": [
      "Training (9407 / 18000 Steps) (loss=0.36064): 100%|██████████| 7/7 [00:05<00:00,  1.25it/s]\n",
      "Training (9414 / 18000 Steps) (loss=0.47625): 100%|██████████| 7/7 [00:05<00:00,  1.31it/s]\n",
      "Training (9421 / 18000 Steps) (loss=0.49138): 100%|██████████| 7/7 [00:05<00:00,  1.30it/s]\n",
      "Training (9428 / 18000 Steps) (loss=0.63499): 100%|██████████| 7/7 [00:05<00:00,  1.24it/s]\n",
      "Training (9435 / 18000 Steps) (loss=0.51639): 100%|██████████| 7/7 [00:05<00:00,  1.35it/s]\n",
      "Training (9442 / 18000 Steps) (loss=0.40894): 100%|██████████| 7/7 [00:05<00:00,  1.28it/s]\n",
      "Training (9449 / 18000 Steps) (loss=0.44655): 100%|██████████| 7/7 [00:05<00:00,  1.31it/s]\n",
      "Training (9456 / 18000 Steps) (loss=0.37779): 100%|██████████| 7/7 [00:05<00:00,  1.25it/s]\n",
      "Training (9463 / 18000 Steps) (loss=0.60222): 100%|██████████| 7/7 [00:05<00:00,  1.27it/s]\n",
      "Training (9470 / 18000 Steps) (loss=0.46587): 100%|██████████| 7/7 [00:05<00:00,  1.26it/s]\n",
      "Training (9477 / 18000 Steps) (loss=0.64937): 100%|██████████| 7/7 [00:05<00:00,  1.35it/s]\n",
      "Training (9484 / 18000 Steps) (loss=0.51638): 100%|██████████| 7/7 [00:05<00:00,  1.28it/s]\n",
      "Training (9491 / 18000 Steps) (loss=0.42184): 100%|██████████| 7/7 [00:05<00:00,  1.34it/s]\n",
      "Training (9498 / 18000 Steps) (loss=0.61516): 100%|██████████| 7/7 [00:05<00:00,  1.24it/s]\n",
      "Validate (9499 / 10 Steps): 100%|██████████| 2/2 [00:04<00:00,  2.13s/it]<00:19,  3.26s/it]\n",
      "Training (9500 / 18000 Steps) (loss=0.59962):  29%|██▊       | 2/7 [00:07<00:20,  4.12s/it]"
     ]
    },
    {
     "name": "stdout",
     "output_type": "stream",
     "text": [
      "Model Was Not Saved ! Current Best Avg. Dice: 0.29462841153144836 Current Avg. Dice: 0.25364193320274353 Current Avg. tumor Dice: 0.33561015129089355 Current Avg. lymph Dice: 0.1716737449169159\n"
     ]
    },
    {
     "name": "stderr",
     "output_type": "stream",
     "text": [
      "Training (9505 / 18000 Steps) (loss=0.24193): 100%|██████████| 7/7 [00:09<00:00,  1.42s/it]\n",
      "Training (9512 / 18000 Steps) (loss=0.38580): 100%|██████████| 7/7 [00:05<00:00,  1.32it/s]\n",
      "Training (9519 / 18000 Steps) (loss=0.52724): 100%|██████████| 7/7 [00:05<00:00,  1.28it/s]\n",
      "Training (9526 / 18000 Steps) (loss=0.37946): 100%|██████████| 7/7 [00:05<00:00,  1.24it/s]\n",
      "Training (9533 / 18000 Steps) (loss=0.33541): 100%|██████████| 7/7 [00:05<00:00,  1.25it/s]\n",
      "Training (9540 / 18000 Steps) (loss=0.51124): 100%|██████████| 7/7 [00:05<00:00,  1.35it/s]\n",
      "Training (9547 / 18000 Steps) (loss=0.29370): 100%|██████████| 7/7 [00:05<00:00,  1.23it/s]\n",
      "Training (9554 / 18000 Steps) (loss=0.29390): 100%|██████████| 7/7 [00:05<00:00,  1.29it/s]\n",
      "Training (9561 / 18000 Steps) (loss=0.46485): 100%|██████████| 7/7 [00:05<00:00,  1.23it/s]\n",
      "Training (9568 / 18000 Steps) (loss=0.43259): 100%|██████████| 7/7 [00:05<00:00,  1.29it/s]\n",
      "Training (9575 / 18000 Steps) (loss=0.61988): 100%|██████████| 7/7 [00:05<00:00,  1.25it/s]\n",
      "Training (9582 / 18000 Steps) (loss=0.43574): 100%|██████████| 7/7 [00:05<00:00,  1.26it/s]\n",
      "Training (9589 / 18000 Steps) (loss=0.52399): 100%|██████████| 7/7 [00:05<00:00,  1.28it/s]\n",
      "Training (9596 / 18000 Steps) (loss=0.45110): 100%|██████████| 7/7 [00:05<00:00,  1.29it/s]\n",
      "Validate (9597 / 10 Steps): 100%|██████████| 2/2 [00:04<00:00,  2.13s/it]<00:03,  1.00it/s]\n",
      "Training (9600 / 18000 Steps) (loss=0.33793):  57%|█████▋    | 4/7 [00:08<00:07,  2.47s/it]"
     ]
    },
    {
     "name": "stdout",
     "output_type": "stream",
     "text": [
      "Model Was Not Saved ! Current Best Avg. Dice: 0.29462841153144836 Current Avg. Dice: 0.2588222920894623 Current Avg. tumor Dice: 0.3857296109199524 Current Avg. lymph Dice: 0.13191495835781097\n"
     ]
    },
    {
     "name": "stderr",
     "output_type": "stream",
     "text": [
      "Training (9603 / 18000 Steps) (loss=0.46249): 100%|██████████| 7/7 [00:09<00:00,  1.39s/it]\n",
      "Training (9610 / 18000 Steps) (loss=0.55450): 100%|██████████| 7/7 [00:05<00:00,  1.25it/s]\n",
      "Training (9617 / 18000 Steps) (loss=0.46508): 100%|██████████| 7/7 [00:05<00:00,  1.30it/s]\n",
      "Training (9624 / 18000 Steps) (loss=0.34616): 100%|██████████| 7/7 [00:05<00:00,  1.33it/s]\n",
      "Training (9631 / 18000 Steps) (loss=0.32413): 100%|██████████| 7/7 [00:05<00:00,  1.33it/s]\n",
      "Training (9638 / 18000 Steps) (loss=0.66710): 100%|██████████| 7/7 [00:05<00:00,  1.26it/s]\n",
      "Training (9645 / 18000 Steps) (loss=0.52101): 100%|██████████| 7/7 [00:05<00:00,  1.21it/s]\n",
      "Training (9652 / 18000 Steps) (loss=0.47931): 100%|██████████| 7/7 [00:05<00:00,  1.22it/s]\n",
      "Training (9659 / 18000 Steps) (loss=0.50066): 100%|██████████| 7/7 [00:05<00:00,  1.26it/s]\n",
      "Training (9666 / 18000 Steps) (loss=0.60958): 100%|██████████| 7/7 [00:05<00:00,  1.30it/s]\n",
      "Training (9673 / 18000 Steps) (loss=0.46682): 100%|██████████| 7/7 [00:05<00:00,  1.22it/s]\n",
      "Training (9680 / 18000 Steps) (loss=0.24382): 100%|██████████| 7/7 [00:05<00:00,  1.34it/s]\n",
      "Training (9687 / 18000 Steps) (loss=0.56353): 100%|██████████| 7/7 [00:05<00:00,  1.24it/s]\n",
      "Training (9694 / 18000 Steps) (loss=0.35842): 100%|██████████| 7/7 [00:05<00:00,  1.30it/s]\n",
      "Validate (9695 / 10 Steps): 100%|██████████| 2/2 [00:04<00:00,  2.16s/it]<00:01,  1.57it/s]\n",
      "Training (9700 / 18000 Steps) (loss=0.44706):  86%|████████▌ | 6/7 [00:09<00:02,  2.05s/it]"
     ]
    },
    {
     "name": "stdout",
     "output_type": "stream",
     "text": [
      "Model Was Not Saved ! Current Best Avg. Dice: 0.29462841153144836 Current Avg. Dice: 0.279279887676239 Current Avg. tumor Dice: 0.35312730073928833 Current Avg. lymph Dice: 0.2054324746131897\n"
     ]
    },
    {
     "name": "stderr",
     "output_type": "stream",
     "text": [
      "Training (9701 / 18000 Steps) (loss=0.50127): 100%|██████████| 7/7 [00:09<00:00,  1.39s/it]\n",
      "Training (9708 / 18000 Steps) (loss=0.46279): 100%|██████████| 7/7 [00:05<00:00,  1.27it/s]\n",
      "Training (9715 / 18000 Steps) (loss=0.52464): 100%|██████████| 7/7 [00:05<00:00,  1.31it/s]\n",
      "Training (9722 / 18000 Steps) (loss=0.52162): 100%|██████████| 7/7 [00:05<00:00,  1.31it/s]\n",
      "Training (9729 / 18000 Steps) (loss=0.45227): 100%|██████████| 7/7 [00:05<00:00,  1.30it/s]\n",
      "Training (9736 / 18000 Steps) (loss=0.37284): 100%|██████████| 7/7 [00:05<00:00,  1.25it/s]\n",
      "Training (9743 / 18000 Steps) (loss=0.42051): 100%|██████████| 7/7 [00:05<00:00,  1.32it/s]\n",
      "Training (9750 / 18000 Steps) (loss=0.43872): 100%|██████████| 7/7 [00:05<00:00,  1.28it/s]\n",
      "Training (9757 / 18000 Steps) (loss=0.57304): 100%|██████████| 7/7 [00:05<00:00,  1.30it/s]\n",
      "Training (9764 / 18000 Steps) (loss=0.56768): 100%|██████████| 7/7 [00:05<00:00,  1.28it/s]\n",
      "Training (9771 / 18000 Steps) (loss=0.48810): 100%|██████████| 7/7 [00:05<00:00,  1.32it/s]\n",
      "Training (9778 / 18000 Steps) (loss=0.45828): 100%|██████████| 7/7 [00:05<00:00,  1.33it/s]\n",
      "Training (9785 / 18000 Steps) (loss=0.54134): 100%|██████████| 7/7 [00:05<00:00,  1.28it/s]\n",
      "Training (9792 / 18000 Steps) (loss=0.51657): 100%|██████████| 7/7 [00:05<00:00,  1.29it/s]\n",
      "Training (9799 / 18000 Steps) (loss=0.49999): 100%|██████████| 7/7 [00:05<00:00,  1.22it/s]\n",
      "Validate (9800 / 10 Steps): 100%|██████████| 2/2 [00:04<00:00,  2.21s/it]<?, ?it/s]\n",
      "Training (9800 / 18000 Steps) (loss=0.32225):  14%|█▍        | 1/7 [00:07<00:44,  7.46s/it]"
     ]
    },
    {
     "name": "stdout",
     "output_type": "stream",
     "text": [
      "Model Was Not Saved ! Current Best Avg. Dice: 0.29462841153144836 Current Avg. Dice: 0.25670427083969116 Current Avg. tumor Dice: 0.3284050524234772 Current Avg. lymph Dice: 0.18500348925590515\n"
     ]
    },
    {
     "name": "stderr",
     "output_type": "stream",
     "text": [
      "Training (9806 / 18000 Steps) (loss=0.38693): 100%|██████████| 7/7 [00:09<00:00,  1.41s/it]\n",
      "Training (9813 / 18000 Steps) (loss=0.62183): 100%|██████████| 7/7 [00:05<00:00,  1.24it/s]\n",
      "Training (9820 / 18000 Steps) (loss=0.50654): 100%|██████████| 7/7 [00:05<00:00,  1.30it/s]\n",
      "Training (9827 / 18000 Steps) (loss=0.43194): 100%|██████████| 7/7 [00:05<00:00,  1.27it/s]\n",
      "Training (9834 / 18000 Steps) (loss=0.42472): 100%|██████████| 7/7 [00:05<00:00,  1.25it/s]\n",
      "Training (9841 / 18000 Steps) (loss=0.54109): 100%|██████████| 7/7 [00:05<00:00,  1.28it/s]\n",
      "Training (9848 / 18000 Steps) (loss=0.51762): 100%|██████████| 7/7 [00:05<00:00,  1.25it/s]\n",
      "Training (9855 / 18000 Steps) (loss=0.44292): 100%|██████████| 7/7 [00:05<00:00,  1.32it/s]\n",
      "Training (9862 / 18000 Steps) (loss=0.32965): 100%|██████████| 7/7 [00:05<00:00,  1.26it/s]\n",
      "Training (9869 / 18000 Steps) (loss=0.35477): 100%|██████████| 7/7 [00:05<00:00,  1.24it/s]\n",
      "Training (9876 / 18000 Steps) (loss=0.56869): 100%|██████████| 7/7 [00:05<00:00,  1.32it/s]\n",
      "Training (9883 / 18000 Steps) (loss=0.44280): 100%|██████████| 7/7 [00:05<00:00,  1.29it/s]\n",
      "Training (9890 / 18000 Steps) (loss=0.53408): 100%|██████████| 7/7 [00:05<00:00,  1.24it/s]\n",
      "Training (9897 / 18000 Steps) (loss=0.60357): 100%|██████████| 7/7 [00:05<00:00,  1.25it/s]\n",
      "Validate (9898 / 10 Steps): 100%|██████████| 2/2 [00:04<00:00,  2.13s/it]<00:07,  1.52s/it]\n",
      "Training (9900 / 18000 Steps) (loss=0.59973):  43%|████▎     | 3/7 [00:08<00:11,  2.99s/it]"
     ]
    },
    {
     "name": "stdout",
     "output_type": "stream",
     "text": [
      "Model Was Not Saved ! Current Best Avg. Dice: 0.29462841153144836 Current Avg. Dice: 0.25348562002182007 Current Avg. tumor Dice: 0.2711363136768341 Current Avg. lymph Dice: 0.23583494126796722\n"
     ]
    },
    {
     "name": "stderr",
     "output_type": "stream",
     "text": [
      "Training (9904 / 18000 Steps) (loss=0.57310): 100%|██████████| 7/7 [00:09<00:00,  1.41s/it]\n",
      "Training (9911 / 18000 Steps) (loss=0.35707): 100%|██████████| 7/7 [00:05<00:00,  1.25it/s]\n",
      "Training (9918 / 18000 Steps) (loss=0.55639): 100%|██████████| 7/7 [00:05<00:00,  1.31it/s]\n",
      "Training (9925 / 18000 Steps) (loss=0.24810): 100%|██████████| 7/7 [00:05<00:00,  1.26it/s]\n",
      "Training (9932 / 18000 Steps) (loss=0.35070): 100%|██████████| 7/7 [00:05<00:00,  1.27it/s]\n",
      "Training (9939 / 18000 Steps) (loss=0.55153): 100%|██████████| 7/7 [00:05<00:00,  1.29it/s]\n",
      "Training (9946 / 18000 Steps) (loss=0.51610): 100%|██████████| 7/7 [00:05<00:00,  1.32it/s]\n",
      "Training (9953 / 18000 Steps) (loss=0.59980): 100%|██████████| 7/7 [00:05<00:00,  1.24it/s]\n",
      "Training (9960 / 18000 Steps) (loss=0.59004): 100%|██████████| 7/7 [00:05<00:00,  1.31it/s]\n",
      "Training (9967 / 18000 Steps) (loss=0.49046): 100%|██████████| 7/7 [00:05<00:00,  1.26it/s]\n",
      "Training (9974 / 18000 Steps) (loss=0.55909): 100%|██████████| 7/7 [00:05<00:00,  1.32it/s]\n",
      "Training (9981 / 18000 Steps) (loss=0.35993): 100%|██████████| 7/7 [00:05<00:00,  1.30it/s]\n",
      "Training (9988 / 18000 Steps) (loss=0.38071): 100%|██████████| 7/7 [00:05<00:00,  1.27it/s]\n",
      "Training (9995 / 18000 Steps) (loss=0.38948): 100%|██████████| 7/7 [00:05<00:00,  1.32it/s]\n",
      "Validate (9996 / 10 Steps): 100%|██████████| 2/2 [00:04<00:00,  2.21s/it]4<00:02,  1.26it/s]\n",
      "Training (10000 / 18000 Steps) (loss=0.47494):  71%|███████▏  | 5/7 [00:09<00:04,  2.27s/it]"
     ]
    },
    {
     "name": "stdout",
     "output_type": "stream",
     "text": [
      "Model Was Not Saved ! Current Best Avg. Dice: 0.29462841153144836 Current Avg. Dice: 0.2572063207626343 Current Avg. tumor Dice: 0.32064369320869446 Current Avg. lymph Dice: 0.1937689185142517\n"
     ]
    },
    {
     "name": "stderr",
     "output_type": "stream",
     "text": [
      "Training (10002 / 18000 Steps) (loss=0.39913): 100%|██████████| 7/7 [00:10<00:00,  1.44s/it]\n",
      "Training (10009 / 18000 Steps) (loss=0.39149): 100%|██████████| 7/7 [00:05<00:00,  1.30it/s]\n",
      "Training (10016 / 18000 Steps) (loss=0.69759): 100%|██████████| 7/7 [00:05<00:00,  1.34it/s]\n",
      "Training (10023 / 18000 Steps) (loss=0.53399): 100%|██████████| 7/7 [00:05<00:00,  1.28it/s]\n",
      "Training (10030 / 18000 Steps) (loss=0.53447): 100%|██████████| 7/7 [00:05<00:00,  1.27it/s]\n",
      "Training (10037 / 18000 Steps) (loss=0.50281): 100%|██████████| 7/7 [00:05<00:00,  1.24it/s]\n",
      "Training (10044 / 18000 Steps) (loss=0.39622): 100%|██████████| 7/7 [00:05<00:00,  1.34it/s]\n",
      "Training (10051 / 18000 Steps) (loss=0.57320): 100%|██████████| 7/7 [00:05<00:00,  1.28it/s]\n",
      "Training (10058 / 18000 Steps) (loss=0.67874): 100%|██████████| 7/7 [00:05<00:00,  1.34it/s]\n",
      "Training (10065 / 18000 Steps) (loss=0.53972): 100%|██████████| 7/7 [00:05<00:00,  1.27it/s]\n",
      "Training (10072 / 18000 Steps) (loss=0.37548): 100%|██████████| 7/7 [00:05<00:00,  1.23it/s]\n",
      "Training (10079 / 18000 Steps) (loss=0.45304): 100%|██████████| 7/7 [00:05<00:00,  1.27it/s]\n",
      "Training (10086 / 18000 Steps) (loss=0.58567): 100%|██████████| 7/7 [00:05<00:00,  1.27it/s]\n",
      "Training (10093 / 18000 Steps) (loss=0.67149): 100%|██████████| 7/7 [00:05<00:00,  1.31it/s]\n",
      "Validate (10094 / 10 Steps): 100%|██████████| 2/2 [00:04<00:00,  2.13s/it]<00:00,  1.79it/s]\n",
      "Training (10100 / 18000 Steps) (loss=0.53674): 100%|██████████| 7/7 [00:09<00:00,  1.37s/it]\n"
     ]
    },
    {
     "name": "stdout",
     "output_type": "stream",
     "text": [
      "Model Was Not Saved ! Current Best Avg. Dice: 0.29462841153144836 Current Avg. Dice: 0.2420356571674347 Current Avg. tumor Dice: 0.3348083198070526 Current Avg. lymph Dice: 0.14926296472549438\n"
     ]
    },
    {
     "name": "stderr",
     "output_type": "stream",
     "text": [
      "Training (10107 / 18000 Steps) (loss=0.50864): 100%|██████████| 7/7 [00:05<00:00,  1.28it/s]\n",
      "Training (10114 / 18000 Steps) (loss=0.50472): 100%|██████████| 7/7 [00:05<00:00,  1.23it/s]\n",
      "Training (10121 / 18000 Steps) (loss=0.31475): 100%|██████████| 7/7 [00:05<00:00,  1.28it/s]\n",
      "Training (10128 / 18000 Steps) (loss=0.60375): 100%|██████████| 7/7 [00:05<00:00,  1.28it/s]\n",
      "Training (10135 / 18000 Steps) (loss=0.44502): 100%|██████████| 7/7 [00:05<00:00,  1.31it/s]\n",
      "Training (10142 / 18000 Steps) (loss=0.42509): 100%|██████████| 7/7 [00:05<00:00,  1.29it/s]\n",
      "Training (10149 / 18000 Steps) (loss=0.36429): 100%|██████████| 7/7 [00:05<00:00,  1.25it/s]\n",
      "Training (10156 / 18000 Steps) (loss=0.33583): 100%|██████████| 7/7 [00:05<00:00,  1.31it/s]\n",
      "Training (10163 / 18000 Steps) (loss=0.53860): 100%|██████████| 7/7 [00:05<00:00,  1.27it/s]\n",
      "Training (10170 / 18000 Steps) (loss=0.38956): 100%|██████████| 7/7 [00:05<00:00,  1.35it/s]\n",
      "Training (10177 / 18000 Steps) (loss=0.51031): 100%|██████████| 7/7 [00:05<00:00,  1.34it/s]\n",
      "Training (10184 / 18000 Steps) (loss=0.42387): 100%|██████████| 7/7 [00:05<00:00,  1.28it/s]\n",
      "Training (10191 / 18000 Steps) (loss=0.55988): 100%|██████████| 7/7 [00:05<00:00,  1.28it/s]\n",
      "Training (10198 / 18000 Steps) (loss=0.49824): 100%|██████████| 7/7 [00:05<00:00,  1.29it/s]\n",
      "Validate (10199 / 10 Steps): 100%|██████████| 2/2 [00:04<00:00,  2.16s/it]<00:19,  3.25s/it]\n",
      "Training (10200 / 18000 Steps) (loss=0.51487):  29%|██▊       | 2/7 [00:08<00:20,  4.15s/it]"
     ]
    },
    {
     "name": "stdout",
     "output_type": "stream",
     "text": [
      "Model Was Not Saved ! Current Best Avg. Dice: 0.29462841153144836 Current Avg. Dice: 0.21485251188278198 Current Avg. tumor Dice: 0.30994531512260437 Current Avg. lymph Dice: 0.1197596937417984\n"
     ]
    },
    {
     "name": "stderr",
     "output_type": "stream",
     "text": [
      "Training (10205 / 18000 Steps) (loss=0.43338): 100%|██████████| 7/7 [00:10<00:00,  1.43s/it]\n",
      "Training (10212 / 18000 Steps) (loss=0.84007): 100%|██████████| 7/7 [00:05<00:00,  1.32it/s]\n",
      "Training (10219 / 18000 Steps) (loss=0.57036): 100%|██████████| 7/7 [00:05<00:00,  1.33it/s]\n",
      "Training (10226 / 18000 Steps) (loss=0.76608): 100%|██████████| 7/7 [00:05<00:00,  1.22it/s]\n",
      "Training (10233 / 18000 Steps) (loss=0.65094): 100%|██████████| 7/7 [00:05<00:00,  1.29it/s]\n",
      "Training (10240 / 18000 Steps) (loss=0.56545): 100%|██████████| 7/7 [00:05<00:00,  1.31it/s]\n",
      "Training (10247 / 18000 Steps) (loss=0.51927): 100%|██████████| 7/7 [00:05<00:00,  1.30it/s]\n",
      "Training (10254 / 18000 Steps) (loss=0.41126): 100%|██████████| 7/7 [00:05<00:00,  1.30it/s]\n",
      "Training (10261 / 18000 Steps) (loss=0.52656): 100%|██████████| 7/7 [00:05<00:00,  1.30it/s]\n",
      "Training (10268 / 18000 Steps) (loss=0.44525): 100%|██████████| 7/7 [00:05<00:00,  1.26it/s]\n",
      "Training (10275 / 18000 Steps) (loss=0.49255): 100%|██████████| 7/7 [00:05<00:00,  1.31it/s]\n",
      "Training (10282 / 18000 Steps) (loss=0.24700): 100%|██████████| 7/7 [00:05<00:00,  1.32it/s]\n",
      "Training (10289 / 18000 Steps) (loss=0.52712): 100%|██████████| 7/7 [00:05<00:00,  1.34it/s]\n",
      "Training (10296 / 18000 Steps) (loss=0.60691): 100%|██████████| 7/7 [00:05<00:00,  1.28it/s]\n",
      "Validate (10297 / 10 Steps): 100%|██████████| 2/2 [00:04<00:00,  2.21s/it]<00:04,  1.01s/it]\n",
      "Training (10300 / 18000 Steps) (loss=0.44912):  57%|█████▋    | 4/7 [00:09<00:08,  2.82s/it]"
     ]
    },
    {
     "name": "stdout",
     "output_type": "stream",
     "text": [
      "Model Was Saved ! Current Best Avg. Dice: 0.30912160873413086 Current Avg. Dice: 0.30912160873413086 Current Avg. tumor Dice: 0.36721330881118774 Current Avg. lymph Dice: 0.25102996826171875\n"
     ]
    },
    {
     "name": "stderr",
     "output_type": "stream",
     "text": [
      "Training (10303 / 18000 Steps) (loss=0.48035): 100%|██████████| 7/7 [00:10<00:00,  1.52s/it]\n",
      "Training (10310 / 18000 Steps) (loss=0.55757): 100%|██████████| 7/7 [00:05<00:00,  1.29it/s]\n",
      "Training (10317 / 18000 Steps) (loss=0.43097): 100%|██████████| 7/7 [00:05<00:00,  1.30it/s]\n",
      "Training (10324 / 18000 Steps) (loss=0.49016): 100%|██████████| 7/7 [00:05<00:00,  1.30it/s]\n",
      "Training (10331 / 18000 Steps) (loss=0.42236): 100%|██████████| 7/7 [00:05<00:00,  1.30it/s]\n",
      "Training (10338 / 18000 Steps) (loss=0.45006): 100%|██████████| 7/7 [00:05<00:00,  1.27it/s]\n",
      "Training (10345 / 18000 Steps) (loss=0.50479): 100%|██████████| 7/7 [00:05<00:00,  1.26it/s]\n",
      "Training (10352 / 18000 Steps) (loss=0.59191): 100%|██████████| 7/7 [00:05<00:00,  1.30it/s]\n",
      "Training (10359 / 18000 Steps) (loss=0.69077): 100%|██████████| 7/7 [00:05<00:00,  1.34it/s]\n",
      "Training (10366 / 18000 Steps) (loss=0.54678): 100%|██████████| 7/7 [00:05<00:00,  1.24it/s]\n",
      "Training (10373 / 18000 Steps) (loss=0.46433): 100%|██████████| 7/7 [00:05<00:00,  1.30it/s]\n",
      "Training (10380 / 18000 Steps) (loss=0.44801): 100%|██████████| 7/7 [00:05<00:00,  1.29it/s]\n",
      "Training (10387 / 18000 Steps) (loss=0.45679): 100%|██████████| 7/7 [00:05<00:00,  1.29it/s]\n",
      "Training (10394 / 18000 Steps) (loss=0.40104): 100%|██████████| 7/7 [00:05<00:00,  1.26it/s]\n",
      "Validate (10395 / 10 Steps): 100%|██████████| 2/2 [00:04<00:00,  2.14s/it]<00:01,  1.58it/s]\n",
      "Training (10400 / 18000 Steps) (loss=0.52874):  86%|████████▌ | 6/7 [00:09<00:02,  2.03s/it]"
     ]
    },
    {
     "name": "stdout",
     "output_type": "stream",
     "text": [
      "Model Was Not Saved ! Current Best Avg. Dice: 0.30912160873413086 Current Avg. Dice: 0.24174942076206207 Current Avg. tumor Dice: 0.3416251838207245 Current Avg. lymph Dice: 0.14187365770339966\n"
     ]
    },
    {
     "name": "stderr",
     "output_type": "stream",
     "text": [
      "Training (10401 / 18000 Steps) (loss=0.51523): 100%|██████████| 7/7 [00:09<00:00,  1.37s/it]\n",
      "Training (10408 / 18000 Steps) (loss=0.45308): 100%|██████████| 7/7 [00:05<00:00,  1.24it/s]\n",
      "Training (10415 / 18000 Steps) (loss=0.65528): 100%|██████████| 7/7 [00:05<00:00,  1.30it/s]\n",
      "Training (10422 / 18000 Steps) (loss=0.55227): 100%|██████████| 7/7 [00:05<00:00,  1.29it/s]\n",
      "Training (10429 / 18000 Steps) (loss=0.55176): 100%|██████████| 7/7 [00:05<00:00,  1.32it/s]\n",
      "Training (10436 / 18000 Steps) (loss=0.51833): 100%|██████████| 7/7 [00:05<00:00,  1.26it/s]\n",
      "Training (10443 / 18000 Steps) (loss=0.45400): 100%|██████████| 7/7 [00:05<00:00,  1.29it/s]\n",
      "Training (10450 / 18000 Steps) (loss=0.57760): 100%|██████████| 7/7 [00:05<00:00,  1.29it/s]\n",
      "Training (10457 / 18000 Steps) (loss=0.29213): 100%|██████████| 7/7 [00:05<00:00,  1.27it/s]\n",
      "Training (10464 / 18000 Steps) (loss=0.60048): 100%|██████████| 7/7 [00:05<00:00,  1.33it/s]\n",
      "Training (10471 / 18000 Steps) (loss=0.45017): 100%|██████████| 7/7 [00:05<00:00,  1.26it/s]\n",
      "Training (10478 / 18000 Steps) (loss=0.40849): 100%|██████████| 7/7 [00:05<00:00,  1.39it/s]\n",
      "Training (10485 / 18000 Steps) (loss=0.45435): 100%|██████████| 7/7 [00:05<00:00,  1.27it/s]\n",
      "Training (10492 / 18000 Steps) (loss=0.30690): 100%|██████████| 7/7 [00:05<00:00,  1.21it/s]\n",
      "Training (10499 / 18000 Steps) (loss=0.57641): 100%|██████████| 7/7 [00:05<00:00,  1.31it/s]\n",
      "Validate (10500 / 10 Steps): 100%|██████████| 2/2 [00:04<00:00,  2.21s/it]<?, ?it/s]\n",
      "Training (10500 / 18000 Steps) (loss=0.37632):  14%|█▍        | 1/7 [00:07<00:42,  7.03s/it]"
     ]
    },
    {
     "name": "stdout",
     "output_type": "stream",
     "text": [
      "Model Was Not Saved ! Current Best Avg. Dice: 0.30912160873413086 Current Avg. Dice: 0.27580463886260986 Current Avg. tumor Dice: 0.37802478671073914 Current Avg. lymph Dice: 0.17358453571796417\n"
     ]
    },
    {
     "name": "stderr",
     "output_type": "stream",
     "text": [
      "Training (10506 / 18000 Steps) (loss=0.38726): 100%|██████████| 7/7 [00:09<00:00,  1.34s/it]\n",
      "Training (10513 / 18000 Steps) (loss=0.37903): 100%|██████████| 7/7 [00:05<00:00,  1.34it/s]\n",
      "Training (10520 / 18000 Steps) (loss=0.51857): 100%|██████████| 7/7 [00:05<00:00,  1.23it/s]\n",
      "Training (10527 / 18000 Steps) (loss=0.58779): 100%|██████████| 7/7 [00:05<00:00,  1.32it/s]\n",
      "Training (10534 / 18000 Steps) (loss=0.33957): 100%|██████████| 7/7 [00:05<00:00,  1.26it/s]\n",
      "Training (10541 / 18000 Steps) (loss=0.36059): 100%|██████████| 7/7 [00:05<00:00,  1.25it/s]\n",
      "Training (10548 / 18000 Steps) (loss=0.56187): 100%|██████████| 7/7 [00:05<00:00,  1.26it/s]\n",
      "Training (10555 / 18000 Steps) (loss=0.44963): 100%|██████████| 7/7 [00:05<00:00,  1.23it/s]\n",
      "Training (10562 / 18000 Steps) (loss=0.37277): 100%|██████████| 7/7 [00:05<00:00,  1.27it/s]\n",
      "Training (10569 / 18000 Steps) (loss=0.48093): 100%|██████████| 7/7 [00:05<00:00,  1.31it/s]\n",
      "Training (10576 / 18000 Steps) (loss=0.63374): 100%|██████████| 7/7 [00:05<00:00,  1.31it/s]\n",
      "Training (10583 / 18000 Steps) (loss=0.66920): 100%|██████████| 7/7 [00:05<00:00,  1.27it/s]\n",
      "Training (10590 / 18000 Steps) (loss=0.42842): 100%|██████████| 7/7 [00:05<00:00,  1.26it/s]\n",
      "Training (10597 / 18000 Steps) (loss=0.45052): 100%|██████████| 7/7 [00:05<00:00,  1.31it/s]\n",
      "Validate (10598 / 10 Steps): 100%|██████████| 2/2 [00:04<00:00,  2.08s/it]<00:07,  1.53s/it]\n",
      "Training (10600 / 18000 Steps) (loss=0.46301):  43%|████▎     | 3/7 [00:08<00:11,  2.94s/it]"
     ]
    },
    {
     "name": "stdout",
     "output_type": "stream",
     "text": [
      "Model Was Not Saved ! Current Best Avg. Dice: 0.30912160873413086 Current Avg. Dice: 0.24553288519382477 Current Avg. tumor Dice: 0.3354586660861969 Current Avg. lymph Dice: 0.15560710430145264\n"
     ]
    },
    {
     "name": "stderr",
     "output_type": "stream",
     "text": [
      "Training (10604 / 18000 Steps) (loss=0.29580): 100%|██████████| 7/7 [00:09<00:00,  1.39s/it]\n",
      "Training (10611 / 18000 Steps) (loss=0.51103): 100%|██████████| 7/7 [00:05<00:00,  1.32it/s]\n",
      "Training (10618 / 18000 Steps) (loss=0.24641): 100%|██████████| 7/7 [00:05<00:00,  1.38it/s]\n",
      "Training (10625 / 18000 Steps) (loss=0.40761): 100%|██████████| 7/7 [00:05<00:00,  1.26it/s]\n",
      "Training (10632 / 18000 Steps) (loss=0.37276): 100%|██████████| 7/7 [00:05<00:00,  1.33it/s]\n",
      "Training (10639 / 18000 Steps) (loss=0.48000): 100%|██████████| 7/7 [00:05<00:00,  1.30it/s]\n",
      "Training (10646 / 18000 Steps) (loss=0.35713): 100%|██████████| 7/7 [00:05<00:00,  1.29it/s]\n",
      "Training (10653 / 18000 Steps) (loss=0.55655): 100%|██████████| 7/7 [00:05<00:00,  1.20it/s]\n",
      "Training (10660 / 18000 Steps) (loss=0.36825): 100%|██████████| 7/7 [00:05<00:00,  1.30it/s]\n",
      "Training (10667 / 18000 Steps) (loss=0.65541): 100%|██████████| 7/7 [00:05<00:00,  1.26it/s]\n",
      "Training (10674 / 18000 Steps) (loss=0.52377): 100%|██████████| 7/7 [00:05<00:00,  1.30it/s]\n",
      "Training (10681 / 18000 Steps) (loss=0.50192): 100%|██████████| 7/7 [00:05<00:00,  1.30it/s]\n",
      "Training (10688 / 18000 Steps) (loss=0.64200): 100%|██████████| 7/7 [00:05<00:00,  1.34it/s]\n",
      "Training (10695 / 18000 Steps) (loss=0.42779): 100%|██████████| 7/7 [00:05<00:00,  1.26it/s]\n",
      "Validate (10696 / 10 Steps): 100%|██████████| 2/2 [00:04<00:00,  2.16s/it]<00:02,  1.27it/s]\n",
      "Training (10700 / 18000 Steps) (loss=0.56637):  71%|███████▏  | 5/7 [00:09<00:04,  2.23s/it]"
     ]
    },
    {
     "name": "stdout",
     "output_type": "stream",
     "text": [
      "Model Was Not Saved ! Current Best Avg. Dice: 0.30912160873413086 Current Avg. Dice: 0.2526489496231079 Current Avg. tumor Dice: 0.28584086894989014 Current Avg. lymph Dice: 0.21945703029632568\n"
     ]
    },
    {
     "name": "stderr",
     "output_type": "stream",
     "text": [
      "Training (10702 / 18000 Steps) (loss=0.58253): 100%|██████████| 7/7 [00:09<00:00,  1.42s/it]\n",
      "Training (10709 / 18000 Steps) (loss=0.34386): 100%|██████████| 7/7 [00:05<00:00,  1.30it/s]\n",
      "Training (10716 / 18000 Steps) (loss=0.31453): 100%|██████████| 7/7 [00:05<00:00,  1.34it/s]\n",
      "Training (10723 / 18000 Steps) (loss=0.58607): 100%|██████████| 7/7 [00:05<00:00,  1.33it/s]\n",
      "Training (10730 / 18000 Steps) (loss=0.56613): 100%|██████████| 7/7 [00:05<00:00,  1.20it/s]\n",
      "Training (10737 / 18000 Steps) (loss=0.46820): 100%|██████████| 7/7 [00:05<00:00,  1.17it/s]\n",
      "Training (10744 / 18000 Steps) (loss=0.46792): 100%|██████████| 7/7 [00:05<00:00,  1.38it/s]\n",
      "Training (10751 / 18000 Steps) (loss=0.42836): 100%|██████████| 7/7 [00:05<00:00,  1.26it/s]\n",
      "Training (10758 / 18000 Steps) (loss=0.33416): 100%|██████████| 7/7 [00:05<00:00,  1.33it/s]\n",
      "Training (10765 / 18000 Steps) (loss=0.52909): 100%|██████████| 7/7 [00:05<00:00,  1.26it/s]\n",
      "Training (10772 / 18000 Steps) (loss=0.36377): 100%|██████████| 7/7 [00:05<00:00,  1.23it/s]\n",
      "Training (10779 / 18000 Steps) (loss=0.49102): 100%|██████████| 7/7 [00:05<00:00,  1.24it/s]\n",
      "Training (10786 / 18000 Steps) (loss=0.43841): 100%|██████████| 7/7 [00:05<00:00,  1.33it/s]\n",
      "Training (10793 / 18000 Steps) (loss=0.48228): 100%|██████████| 7/7 [00:05<00:00,  1.22it/s]\n",
      "Validate (10794 / 10 Steps): 100%|██████████| 2/2 [00:04<00:00,  2.16s/it]<00:00,  1.82it/s]\n",
      "Training (10800 / 18000 Steps) (loss=0.32076): 100%|██████████| 7/7 [00:09<00:00,  1.37s/it]\n"
     ]
    },
    {
     "name": "stdout",
     "output_type": "stream",
     "text": [
      "Model Was Not Saved ! Current Best Avg. Dice: 0.30912160873413086 Current Avg. Dice: 0.30344444513320923 Current Avg. tumor Dice: 0.3736270070075989 Current Avg. lymph Dice: 0.23326188325881958\n"
     ]
    },
    {
     "name": "stderr",
     "output_type": "stream",
     "text": [
      "Training (10807 / 18000 Steps) (loss=0.30350): 100%|██████████| 7/7 [00:05<00:00,  1.24it/s]\n",
      "Training (10814 / 18000 Steps) (loss=0.49565): 100%|██████████| 7/7 [00:05<00:00,  1.29it/s]\n",
      "Training (10821 / 18000 Steps) (loss=0.48359): 100%|██████████| 7/7 [00:05<00:00,  1.28it/s]\n",
      "Training (10828 / 18000 Steps) (loss=0.35503): 100%|██████████| 7/7 [00:05<00:00,  1.32it/s]\n",
      "Training (10835 / 18000 Steps) (loss=0.54065): 100%|██████████| 7/7 [00:05<00:00,  1.35it/s]\n",
      "Training (10842 / 18000 Steps) (loss=0.52037): 100%|██████████| 7/7 [00:05<00:00,  1.23it/s]\n",
      "Training (10849 / 18000 Steps) (loss=0.25000): 100%|██████████| 7/7 [00:05<00:00,  1.32it/s]\n",
      "Training (10856 / 18000 Steps) (loss=0.51116): 100%|██████████| 7/7 [00:05<00:00,  1.26it/s]\n",
      "Training (10863 / 18000 Steps) (loss=0.29167): 100%|██████████| 7/7 [00:05<00:00,  1.33it/s]\n",
      "Training (10870 / 18000 Steps) (loss=0.56402): 100%|██████████| 7/7 [00:05<00:00,  1.31it/s]\n",
      "Training (10877 / 18000 Steps) (loss=0.40201): 100%|██████████| 7/7 [00:05<00:00,  1.32it/s]\n",
      "Training (10884 / 18000 Steps) (loss=0.50262): 100%|██████████| 7/7 [00:05<00:00,  1.24it/s]\n",
      "Training (10891 / 18000 Steps) (loss=0.45106): 100%|██████████| 7/7 [00:05<00:00,  1.31it/s]\n",
      "Training (10898 / 18000 Steps) (loss=0.47963): 100%|██████████| 7/7 [00:05<00:00,  1.29it/s]\n",
      "Validate (10899 / 10 Steps): 100%|██████████| 2/2 [00:04<00:00,  2.12s/it]<00:16,  2.82s/it]\n",
      "Training (10900 / 18000 Steps) (loss=0.53850):  29%|██▊       | 2/7 [00:07<00:19,  3.94s/it]"
     ]
    },
    {
     "name": "stdout",
     "output_type": "stream",
     "text": [
      "Model Was Not Saved ! Current Best Avg. Dice: 0.30912160873413086 Current Avg. Dice: 0.2407103329896927 Current Avg. tumor Dice: 0.28758251667022705 Current Avg. lymph Dice: 0.19383814930915833\n"
     ]
    },
    {
     "name": "stderr",
     "output_type": "stream",
     "text": [
      "Training (10905 / 18000 Steps) (loss=0.58005): 100%|██████████| 7/7 [00:09<00:00,  1.36s/it]\n",
      "Training (10912 / 18000 Steps) (loss=0.40877): 100%|██████████| 7/7 [00:05<00:00,  1.30it/s]\n",
      "Training (10919 / 18000 Steps) (loss=0.29091): 100%|██████████| 7/7 [00:05<00:00,  1.26it/s]\n",
      "Training (10926 / 18000 Steps) (loss=0.43430): 100%|██████████| 7/7 [00:05<00:00,  1.31it/s]\n",
      "Training (10933 / 18000 Steps) (loss=0.40309): 100%|██████████| 7/7 [00:05<00:00,  1.31it/s]\n",
      "Training (10940 / 18000 Steps) (loss=0.44670): 100%|██████████| 7/7 [00:05<00:00,  1.27it/s]\n",
      "Training (10947 / 18000 Steps) (loss=0.36266): 100%|██████████| 7/7 [00:05<00:00,  1.30it/s]\n",
      "Training (10954 / 18000 Steps) (loss=0.49164): 100%|██████████| 7/7 [00:05<00:00,  1.34it/s]\n",
      "Training (10961 / 18000 Steps) (loss=0.56074): 100%|██████████| 7/7 [00:05<00:00,  1.33it/s]\n",
      "Training (10968 / 18000 Steps) (loss=0.31673): 100%|██████████| 7/7 [00:05<00:00,  1.32it/s]\n",
      "Training (10975 / 18000 Steps) (loss=0.35158): 100%|██████████| 7/7 [00:05<00:00,  1.25it/s]\n",
      "Training (10982 / 18000 Steps) (loss=0.54433): 100%|██████████| 7/7 [00:05<00:00,  1.26it/s]\n",
      "Training (10989 / 18000 Steps) (loss=0.47192): 100%|██████████| 7/7 [00:05<00:00,  1.33it/s]\n",
      "Training (10996 / 18000 Steps) (loss=0.45609): 100%|██████████| 7/7 [00:05<00:00,  1.22it/s]\n",
      "Validate (10997 / 10 Steps): 100%|██████████| 2/2 [00:04<00:00,  2.25s/it]<00:04,  1.02s/it]\n",
      "Training (11000 / 18000 Steps) (loss=0.56640):  57%|█████▋    | 4/7 [00:08<00:07,  2.58s/it]"
     ]
    },
    {
     "name": "stdout",
     "output_type": "stream",
     "text": [
      "Model Was Not Saved ! Current Best Avg. Dice: 0.30912160873413086 Current Avg. Dice: 0.2886510193347931 Current Avg. tumor Dice: 0.3534686267375946 Current Avg. lymph Dice: 0.22383341193199158\n"
     ]
    },
    {
     "name": "stderr",
     "output_type": "stream",
     "text": [
      "Training (11003 / 18000 Steps) (loss=0.34045): 100%|██████████| 7/7 [00:10<00:00,  1.44s/it]\n",
      "Training (11010 / 18000 Steps) (loss=0.54194): 100%|██████████| 7/7 [00:05<00:00,  1.33it/s]\n",
      "Training (11017 / 18000 Steps) (loss=0.58761): 100%|██████████| 7/7 [00:05<00:00,  1.26it/s]\n",
      "Training (11024 / 18000 Steps) (loss=0.33484): 100%|██████████| 7/7 [00:05<00:00,  1.29it/s]\n",
      "Training (11031 / 18000 Steps) (loss=0.65018): 100%|██████████| 7/7 [00:05<00:00,  1.32it/s]\n",
      "Training (11038 / 18000 Steps) (loss=0.46376): 100%|██████████| 7/7 [00:05<00:00,  1.29it/s]\n",
      "Training (11045 / 18000 Steps) (loss=0.58037): 100%|██████████| 7/7 [00:05<00:00,  1.29it/s]\n",
      "Training (11052 / 18000 Steps) (loss=0.55738): 100%|██████████| 7/7 [00:05<00:00,  1.30it/s]\n",
      "Training (11059 / 18000 Steps) (loss=0.53038): 100%|██████████| 7/7 [00:05<00:00,  1.27it/s]\n",
      "Training (11066 / 18000 Steps) (loss=0.35874): 100%|██████████| 7/7 [00:05<00:00,  1.29it/s]\n",
      "Training (11073 / 18000 Steps) (loss=0.46274): 100%|██████████| 7/7 [00:05<00:00,  1.29it/s]\n",
      "Training (11080 / 18000 Steps) (loss=0.60126): 100%|██████████| 7/7 [00:05<00:00,  1.30it/s]\n",
      "Training (11087 / 18000 Steps) (loss=0.58656): 100%|██████████| 7/7 [00:05<00:00,  1.24it/s]\n",
      "Training (11094 / 18000 Steps) (loss=0.35599): 100%|██████████| 7/7 [00:05<00:00,  1.32it/s]\n",
      "Validate (11095 / 10 Steps): 100%|██████████| 2/2 [00:04<00:00,  2.14s/it]<00:01,  1.51it/s]\n",
      "Training (11100 / 18000 Steps) (loss=0.44448):  86%|████████▌ | 6/7 [00:09<00:02,  2.05s/it]"
     ]
    },
    {
     "name": "stdout",
     "output_type": "stream",
     "text": [
      "Model Was Not Saved ! Current Best Avg. Dice: 0.30912160873413086 Current Avg. Dice: 0.2611266076564789 Current Avg. tumor Dice: 0.336900532245636 Current Avg. lymph Dice: 0.18535268306732178\n"
     ]
    },
    {
     "name": "stderr",
     "output_type": "stream",
     "text": [
      "Training (11101 / 18000 Steps) (loss=0.35013): 100%|██████████| 7/7 [00:09<00:00,  1.42s/it]\n",
      "Training (11108 / 18000 Steps) (loss=0.45743): 100%|██████████| 7/7 [00:05<00:00,  1.23it/s]\n",
      "Training (11115 / 18000 Steps) (loss=0.53272): 100%|██████████| 7/7 [00:05<00:00,  1.24it/s]\n",
      "Training (11122 / 18000 Steps) (loss=0.32463): 100%|██████████| 7/7 [00:05<00:00,  1.35it/s]\n",
      "Training (11129 / 18000 Steps) (loss=0.36992): 100%|██████████| 7/7 [00:05<00:00,  1.35it/s]\n",
      "Training (11136 / 18000 Steps) (loss=0.40674): 100%|██████████| 7/7 [00:05<00:00,  1.27it/s]\n",
      "Training (11143 / 18000 Steps) (loss=0.56366): 100%|██████████| 7/7 [00:05<00:00,  1.32it/s]\n",
      "Training (11150 / 18000 Steps) (loss=0.49211): 100%|██████████| 7/7 [00:05<00:00,  1.25it/s]\n",
      "Training (11157 / 18000 Steps) (loss=0.61702): 100%|██████████| 7/7 [00:05<00:00,  1.30it/s]\n",
      "Training (11164 / 18000 Steps) (loss=0.63422): 100%|██████████| 7/7 [00:05<00:00,  1.27it/s]\n",
      "Training (11171 / 18000 Steps) (loss=0.41211): 100%|██████████| 7/7 [00:05<00:00,  1.30it/s]\n",
      "Training (11178 / 18000 Steps) (loss=0.32330): 100%|██████████| 7/7 [00:05<00:00,  1.29it/s]\n",
      "Training (11185 / 18000 Steps) (loss=0.56938): 100%|██████████| 7/7 [00:05<00:00,  1.29it/s]\n",
      "Training (11192 / 18000 Steps) (loss=0.51685): 100%|██████████| 7/7 [00:05<00:00,  1.30it/s]\n",
      "Training (11199 / 18000 Steps) (loss=0.50392): 100%|██████████| 7/7 [00:05<00:00,  1.32it/s]\n",
      "Validate (11200 / 10 Steps): 100%|██████████| 2/2 [00:04<00:00,  2.12s/it]<?, ?it/s]\n",
      "Training (11200 / 18000 Steps) (loss=0.50189):  14%|█▍        | 1/7 [00:07<00:44,  7.44s/it]"
     ]
    },
    {
     "name": "stdout",
     "output_type": "stream",
     "text": [
      "Model Was Not Saved ! Current Best Avg. Dice: 0.30912160873413086 Current Avg. Dice: 0.2508138418197632 Current Avg. tumor Dice: 0.3221499025821686 Current Avg. lymph Dice: 0.1794777810573578\n"
     ]
    },
    {
     "name": "stderr",
     "output_type": "stream",
     "text": [
      "Training (11206 / 18000 Steps) (loss=0.51287): 100%|██████████| 7/7 [00:09<00:00,  1.41s/it]\n",
      "Training (11213 / 18000 Steps) (loss=0.43397): 100%|██████████| 7/7 [00:05<00:00,  1.19it/s]\n",
      "Training (11220 / 18000 Steps) (loss=0.34802): 100%|██████████| 7/7 [00:05<00:00,  1.30it/s]\n",
      "Training (11227 / 18000 Steps) (loss=0.46304): 100%|██████████| 7/7 [00:05<00:00,  1.24it/s]\n",
      "Training (11234 / 18000 Steps) (loss=0.51283): 100%|██████████| 7/7 [00:05<00:00,  1.29it/s]\n",
      "Training (11241 / 18000 Steps) (loss=0.55110): 100%|██████████| 7/7 [00:05<00:00,  1.31it/s]\n",
      "Training (11248 / 18000 Steps) (loss=0.39521): 100%|██████████| 7/7 [00:05<00:00,  1.29it/s]\n",
      "Training (11255 / 18000 Steps) (loss=0.31038): 100%|██████████| 7/7 [00:05<00:00,  1.32it/s]\n",
      "Training (11262 / 18000 Steps) (loss=0.33863): 100%|██████████| 7/7 [00:05<00:00,  1.29it/s]\n",
      "Training (11269 / 18000 Steps) (loss=0.66850): 100%|██████████| 7/7 [00:05<00:00,  1.21it/s]\n",
      "Training (11276 / 18000 Steps) (loss=0.57393): 100%|██████████| 7/7 [00:05<00:00,  1.30it/s]\n",
      "Training (11283 / 18000 Steps) (loss=0.44226): 100%|██████████| 7/7 [00:05<00:00,  1.31it/s]\n",
      "Training (11290 / 18000 Steps) (loss=0.31546): 100%|██████████| 7/7 [00:05<00:00,  1.29it/s]\n",
      "Training (11297 / 18000 Steps) (loss=0.42820): 100%|██████████| 7/7 [00:05<00:00,  1.32it/s]\n",
      "Validate (11298 / 10 Steps): 100%|██████████| 2/2 [00:04<00:00,  2.16s/it]<00:07,  1.48s/it]\n",
      "Training (11300 / 18000 Steps) (loss=0.46497):  43%|████▎     | 3/7 [00:08<00:11,  2.99s/it]"
     ]
    },
    {
     "name": "stdout",
     "output_type": "stream",
     "text": [
      "Model Was Not Saved ! Current Best Avg. Dice: 0.30912160873413086 Current Avg. Dice: 0.30513328313827515 Current Avg. tumor Dice: 0.4159756600856781 Current Avg. lymph Dice: 0.1942908763885498\n"
     ]
    },
    {
     "name": "stderr",
     "output_type": "stream",
     "text": [
      "Training (11304 / 18000 Steps) (loss=0.46567): 100%|██████████| 7/7 [00:09<00:00,  1.39s/it]\n",
      "Training (11311 / 18000 Steps) (loss=0.43805): 100%|██████████| 7/7 [00:05<00:00,  1.30it/s]\n",
      "Training (11318 / 18000 Steps) (loss=0.45604): 100%|██████████| 7/7 [00:05<00:00,  1.28it/s]\n",
      "Training (11325 / 18000 Steps) (loss=0.30755): 100%|██████████| 7/7 [00:05<00:00,  1.33it/s]\n",
      "Training (11332 / 18000 Steps) (loss=0.49155): 100%|██████████| 7/7 [00:05<00:00,  1.29it/s]\n",
      "Training (11339 / 18000 Steps) (loss=0.51450): 100%|██████████| 7/7 [00:05<00:00,  1.24it/s]\n",
      "Training (11346 / 18000 Steps) (loss=0.57255): 100%|██████████| 7/7 [00:05<00:00,  1.29it/s]\n",
      "Training (11353 / 18000 Steps) (loss=0.55784): 100%|██████████| 7/7 [00:05<00:00,  1.21it/s]\n",
      "Training (11360 / 18000 Steps) (loss=0.39634): 100%|██████████| 7/7 [00:05<00:00,  1.31it/s]\n",
      "Training (11367 / 18000 Steps) (loss=0.44746): 100%|██████████| 7/7 [00:05<00:00,  1.23it/s]\n",
      "Training (11374 / 18000 Steps) (loss=0.50731): 100%|██████████| 7/7 [00:05<00:00,  1.30it/s]\n",
      "Training (11381 / 18000 Steps) (loss=0.42953): 100%|██████████| 7/7 [00:05<00:00,  1.25it/s]\n",
      "Training (11388 / 18000 Steps) (loss=0.46247): 100%|██████████| 7/7 [00:05<00:00,  1.33it/s]\n",
      "Training (11395 / 18000 Steps) (loss=0.37376): 100%|██████████| 7/7 [00:05<00:00,  1.25it/s]\n",
      "Validate (11396 / 10 Steps): 100%|██████████| 2/2 [00:04<00:00,  2.17s/it]<00:02,  1.30it/s]\n",
      "Training (11400 / 18000 Steps) (loss=0.42771):  71%|███████▏  | 5/7 [00:09<00:04,  2.22s/it]"
     ]
    },
    {
     "name": "stdout",
     "output_type": "stream",
     "text": [
      "Model Was Not Saved ! Current Best Avg. Dice: 0.30912160873413086 Current Avg. Dice: 0.20710906386375427 Current Avg. tumor Dice: 0.3107645809650421 Current Avg. lymph Dice: 0.10345354676246643\n"
     ]
    },
    {
     "name": "stderr",
     "output_type": "stream",
     "text": [
      "Training (11402 / 18000 Steps) (loss=0.32584): 100%|██████████| 7/7 [00:09<00:00,  1.40s/it]\n",
      "Training (11409 / 18000 Steps) (loss=0.65492): 100%|██████████| 7/7 [00:05<00:00,  1.27it/s]\n",
      "Training (11416 / 18000 Steps) (loss=0.30973): 100%|██████████| 7/7 [00:05<00:00,  1.30it/s]\n",
      "Training (11423 / 18000 Steps) (loss=0.64171): 100%|██████████| 7/7 [00:05<00:00,  1.30it/s]\n",
      "Training (11430 / 18000 Steps) (loss=0.49215): 100%|██████████| 7/7 [00:05<00:00,  1.31it/s]\n",
      "Training (11437 / 18000 Steps) (loss=0.47410): 100%|██████████| 7/7 [00:05<00:00,  1.25it/s]\n",
      "Training (11444 / 18000 Steps) (loss=0.44975): 100%|██████████| 7/7 [00:05<00:00,  1.29it/s]\n",
      "Training (11451 / 18000 Steps) (loss=0.43243): 100%|██████████| 7/7 [00:05<00:00,  1.24it/s]\n",
      "Training (11458 / 18000 Steps) (loss=0.52468): 100%|██████████| 7/7 [00:05<00:00,  1.27it/s]\n",
      "Training (11465 / 18000 Steps) (loss=0.27343): 100%|██████████| 7/7 [00:05<00:00,  1.23it/s]\n",
      "Training (11472 / 18000 Steps) (loss=0.43334): 100%|██████████| 7/7 [00:05<00:00,  1.33it/s]\n",
      "Training (11479 / 18000 Steps) (loss=0.33803): 100%|██████████| 7/7 [00:05<00:00,  1.25it/s]\n",
      "Training (11486 / 18000 Steps) (loss=0.55988): 100%|██████████| 7/7 [00:05<00:00,  1.31it/s]\n",
      "Training (11493 / 18000 Steps) (loss=0.33179): 100%|██████████| 7/7 [00:05<00:00,  1.28it/s]\n",
      "Validate (11494 / 10 Steps): 100%|██████████| 2/2 [00:04<00:00,  2.12s/it]<00:00,  1.77it/s]\n",
      "Training (11500 / 18000 Steps) (loss=0.47101): 100%|██████████| 7/7 [00:09<00:00,  1.39s/it]\n"
     ]
    },
    {
     "name": "stdout",
     "output_type": "stream",
     "text": [
      "Model Was Not Saved ! Current Best Avg. Dice: 0.30912160873413086 Current Avg. Dice: 0.2838585674762726 Current Avg. tumor Dice: 0.3486793041229248 Current Avg. lymph Dice: 0.21903786063194275\n"
     ]
    },
    {
     "name": "stderr",
     "output_type": "stream",
     "text": [
      "Training (11507 / 18000 Steps) (loss=0.50212): 100%|██████████| 7/7 [00:05<00:00,  1.27it/s]\n",
      "Training (11514 / 18000 Steps) (loss=0.26795): 100%|██████████| 7/7 [00:05<00:00,  1.27it/s]\n",
      "Training (11521 / 18000 Steps) (loss=0.60940): 100%|██████████| 7/7 [00:05<00:00,  1.27it/s]\n",
      "Training (11528 / 18000 Steps) (loss=0.48534): 100%|██████████| 7/7 [00:05<00:00,  1.30it/s]\n",
      "Training (11535 / 18000 Steps) (loss=0.30089): 100%|██████████| 7/7 [00:05<00:00,  1.24it/s]\n",
      "Training (11542 / 18000 Steps) (loss=0.42023): 100%|██████████| 7/7 [00:05<00:00,  1.31it/s]\n",
      "Training (11549 / 18000 Steps) (loss=0.58717): 100%|██████████| 7/7 [00:05<00:00,  1.31it/s]\n",
      "Training (11556 / 18000 Steps) (loss=0.52383): 100%|██████████| 7/7 [00:05<00:00,  1.30it/s]\n",
      "Training (11563 / 18000 Steps) (loss=0.65486): 100%|██████████| 7/7 [00:05<00:00,  1.25it/s]\n",
      "Training (11570 / 18000 Steps) (loss=0.64781): 100%|██████████| 7/7 [00:05<00:00,  1.29it/s]\n",
      "Training (11577 / 18000 Steps) (loss=0.66694): 100%|██████████| 7/7 [00:05<00:00,  1.28it/s]\n",
      "Training (11584 / 18000 Steps) (loss=0.56845): 100%|██████████| 7/7 [00:05<00:00,  1.30it/s]\n",
      "Training (11591 / 18000 Steps) (loss=0.30812): 100%|██████████| 7/7 [00:05<00:00,  1.26it/s]\n",
      "Training (11598 / 18000 Steps) (loss=0.58867): 100%|██████████| 7/7 [00:05<00:00,  1.29it/s]\n",
      "Validate (11599 / 10 Steps): 100%|██████████| 2/2 [00:04<00:00,  2.19s/it]<00:18,  3.12s/it]\n",
      "Training (11600 / 18000 Steps) (loss=0.40913):  29%|██▊       | 2/7 [00:07<00:20,  4.14s/it]"
     ]
    },
    {
     "name": "stdout",
     "output_type": "stream",
     "text": [
      "Model Was Not Saved ! Current Best Avg. Dice: 0.30912160873413086 Current Avg. Dice: 0.27769210934638977 Current Avg. tumor Dice: 0.39498957991600037 Current Avg. lymph Dice: 0.16039463877677917\n"
     ]
    },
    {
     "name": "stderr",
     "output_type": "stream",
     "text": [
      "Training (11605 / 18000 Steps) (loss=0.41027): 100%|██████████| 7/7 [00:09<00:00,  1.43s/it]\n",
      "Training (11612 / 18000 Steps) (loss=0.55602): 100%|██████████| 7/7 [00:05<00:00,  1.25it/s]\n",
      "Training (11619 / 18000 Steps) (loss=0.42643): 100%|██████████| 7/7 [00:05<00:00,  1.30it/s]\n",
      "Training (11626 / 18000 Steps) (loss=0.60916): 100%|██████████| 7/7 [00:05<00:00,  1.23it/s]\n",
      "Training (11633 / 18000 Steps) (loss=0.31304): 100%|██████████| 7/7 [00:05<00:00,  1.24it/s]\n",
      "Training (11640 / 18000 Steps) (loss=0.47325): 100%|██████████| 7/7 [00:05<00:00,  1.27it/s]\n",
      "Training (11647 / 18000 Steps) (loss=0.48306): 100%|██████████| 7/7 [00:05<00:00,  1.30it/s]\n",
      "Training (11654 / 18000 Steps) (loss=0.46276): 100%|██████████| 7/7 [00:05<00:00,  1.32it/s]\n",
      "Training (11661 / 18000 Steps) (loss=0.46183): 100%|██████████| 7/7 [00:05<00:00,  1.32it/s]\n",
      "Training (11668 / 18000 Steps) (loss=0.36280): 100%|██████████| 7/7 [00:05<00:00,  1.30it/s]\n",
      "Training (11675 / 18000 Steps) (loss=0.45278): 100%|██████████| 7/7 [00:05<00:00,  1.33it/s]\n",
      "Training (11682 / 18000 Steps) (loss=0.46890): 100%|██████████| 7/7 [00:05<00:00,  1.25it/s]\n",
      "Training (11689 / 18000 Steps) (loss=0.53919): 100%|██████████| 7/7 [00:05<00:00,  1.26it/s]\n",
      "Training (11696 / 18000 Steps) (loss=0.48116): 100%|██████████| 7/7 [00:05<00:00,  1.29it/s]\n",
      "Validate (11697 / 10 Steps): 100%|██████████| 2/2 [00:04<00:00,  2.19s/it]<00:03,  1.06it/s]\n",
      "Training (11700 / 18000 Steps) (loss=0.47429):  57%|█████▋    | 4/7 [00:08<00:07,  2.48s/it]"
     ]
    },
    {
     "name": "stdout",
     "output_type": "stream",
     "text": [
      "Model Was Not Saved ! Current Best Avg. Dice: 0.30912160873413086 Current Avg. Dice: 0.24881161749362946 Current Avg. tumor Dice: 0.3012612462043762 Current Avg. lymph Dice: 0.1963619589805603\n"
     ]
    },
    {
     "name": "stderr",
     "output_type": "stream",
     "text": [
      "Training (11703 / 18000 Steps) (loss=0.43544): 100%|██████████| 7/7 [00:09<00:00,  1.37s/it]\n",
      "Training (11710 / 18000 Steps) (loss=0.33962): 100%|██████████| 7/7 [00:05<00:00,  1.30it/s]\n",
      "Training (11717 / 18000 Steps) (loss=0.27999): 100%|██████████| 7/7 [00:05<00:00,  1.34it/s]\n",
      "Training (11724 / 18000 Steps) (loss=0.38961): 100%|██████████| 7/7 [00:05<00:00,  1.32it/s]\n",
      "Training (11731 / 18000 Steps) (loss=0.43764): 100%|██████████| 7/7 [00:05<00:00,  1.30it/s]\n",
      "Training (11738 / 18000 Steps) (loss=0.36651): 100%|██████████| 7/7 [00:05<00:00,  1.25it/s]\n",
      "Training (11745 / 18000 Steps) (loss=0.33720): 100%|██████████| 7/7 [00:05<00:00,  1.26it/s]\n",
      "Training (11752 / 18000 Steps) (loss=0.53753): 100%|██████████| 7/7 [00:05<00:00,  1.28it/s]\n",
      "Training (11759 / 18000 Steps) (loss=0.43830): 100%|██████████| 7/7 [00:05<00:00,  1.26it/s]\n",
      "Training (11766 / 18000 Steps) (loss=0.48079): 100%|██████████| 7/7 [00:05<00:00,  1.29it/s]\n",
      "Training (11773 / 18000 Steps) (loss=0.55114): 100%|██████████| 7/7 [00:05<00:00,  1.31it/s]\n",
      "Training (11780 / 18000 Steps) (loss=0.61034): 100%|██████████| 7/7 [00:05<00:00,  1.22it/s]\n",
      "Training (11787 / 18000 Steps) (loss=0.36911): 100%|██████████| 7/7 [00:05<00:00,  1.31it/s]\n",
      "Training (11794 / 18000 Steps) (loss=0.40780): 100%|██████████| 7/7 [00:05<00:00,  1.27it/s]\n",
      "Validate (11795 / 10 Steps): 100%|██████████| 2/2 [00:04<00:00,  2.26s/it]<00:01,  1.56it/s]\n",
      "Training (11800 / 18000 Steps) (loss=0.38422):  86%|████████▌ | 6/7 [00:09<00:02,  2.12s/it]"
     ]
    },
    {
     "name": "stdout",
     "output_type": "stream",
     "text": [
      "Model Was Not Saved ! Current Best Avg. Dice: 0.30912160873413086 Current Avg. Dice: 0.26222866773605347 Current Avg. tumor Dice: 0.312972754240036 Current Avg. lymph Dice: 0.2114846259355545\n"
     ]
    },
    {
     "name": "stderr",
     "output_type": "stream",
     "text": [
      "Training (11801 / 18000 Steps) (loss=0.42408): 100%|██████████| 7/7 [00:10<00:00,  1.43s/it]\n",
      "Training (11808 / 18000 Steps) (loss=0.47081): 100%|██████████| 7/7 [00:05<00:00,  1.34it/s]\n",
      "Training (11815 / 18000 Steps) (loss=0.58197): 100%|██████████| 7/7 [00:05<00:00,  1.18it/s]\n",
      "Training (11822 / 18000 Steps) (loss=0.53413): 100%|██████████| 7/7 [00:05<00:00,  1.35it/s]\n",
      "Training (11829 / 18000 Steps) (loss=0.48103): 100%|██████████| 7/7 [00:05<00:00,  1.30it/s]\n",
      "Training (11836 / 18000 Steps) (loss=0.48420): 100%|██████████| 7/7 [00:05<00:00,  1.28it/s]\n",
      "Training (11843 / 18000 Steps) (loss=0.29741): 100%|██████████| 7/7 [00:05<00:00,  1.33it/s]\n",
      "Training (11850 / 18000 Steps) (loss=0.39699): 100%|██████████| 7/7 [00:05<00:00,  1.24it/s]\n",
      "Training (11857 / 18000 Steps) (loss=0.30871): 100%|██████████| 7/7 [00:05<00:00,  1.27it/s]\n",
      "Training (11864 / 18000 Steps) (loss=0.47975): 100%|██████████| 7/7 [00:05<00:00,  1.29it/s]\n",
      "Training (11871 / 18000 Steps) (loss=0.41911): 100%|██████████| 7/7 [00:05<00:00,  1.25it/s]\n",
      "Training (11878 / 18000 Steps) (loss=0.54900): 100%|██████████| 7/7 [00:05<00:00,  1.29it/s]\n",
      "Training (11885 / 18000 Steps) (loss=0.27727): 100%|██████████| 7/7 [00:05<00:00,  1.25it/s]\n",
      "Training (11892 / 18000 Steps) (loss=0.35129): 100%|██████████| 7/7 [00:05<00:00,  1.33it/s]\n",
      "Training (11899 / 18000 Steps) (loss=0.57861): 100%|██████████| 7/7 [00:05<00:00,  1.25it/s]\n",
      "Validate (11900 / 10 Steps): 100%|██████████| 2/2 [00:04<00:00,  2.18s/it]<?, ?it/s]\n",
      "Training (11900 / 18000 Steps) (loss=0.40688):  14%|█▍        | 1/7 [00:07<00:45,  7.55s/it]"
     ]
    },
    {
     "name": "stdout",
     "output_type": "stream",
     "text": [
      "Model Was Not Saved ! Current Best Avg. Dice: 0.30912160873413086 Current Avg. Dice: 0.2547309398651123 Current Avg. tumor Dice: 0.36833077669143677 Current Avg. lymph Dice: 0.14113111793994904\n"
     ]
    },
    {
     "name": "stderr",
     "output_type": "stream",
     "text": [
      "Training (11906 / 18000 Steps) (loss=0.66707): 100%|██████████| 7/7 [00:09<00:00,  1.42s/it]\n",
      "Training (11913 / 18000 Steps) (loss=0.32395): 100%|██████████| 7/7 [00:05<00:00,  1.35it/s]\n",
      "Training (11920 / 18000 Steps) (loss=0.35604): 100%|██████████| 7/7 [00:05<00:00,  1.35it/s]\n",
      "Training (11927 / 18000 Steps) (loss=0.45228): 100%|██████████| 7/7 [00:05<00:00,  1.29it/s]\n",
      "Training (11934 / 18000 Steps) (loss=0.47711): 100%|██████████| 7/7 [00:05<00:00,  1.26it/s]\n",
      "Training (11941 / 18000 Steps) (loss=0.48669): 100%|██████████| 7/7 [00:05<00:00,  1.29it/s]\n",
      "Training (11948 / 18000 Steps) (loss=0.25643): 100%|██████████| 7/7 [00:05<00:00,  1.25it/s]\n",
      "Training (11955 / 18000 Steps) (loss=0.34494): 100%|██████████| 7/7 [00:05<00:00,  1.29it/s]\n",
      "Training (11962 / 18000 Steps) (loss=0.47088): 100%|██████████| 7/7 [00:05<00:00,  1.25it/s]\n",
      "Training (11969 / 18000 Steps) (loss=0.36861): 100%|██████████| 7/7 [00:05<00:00,  1.31it/s]\n",
      "Training (11976 / 18000 Steps) (loss=0.50535): 100%|██████████| 7/7 [00:05<00:00,  1.24it/s]\n",
      "Training (11983 / 18000 Steps) (loss=0.30769): 100%|██████████| 7/7 [00:05<00:00,  1.26it/s]\n",
      "Training (11990 / 18000 Steps) (loss=0.59889): 100%|██████████| 7/7 [00:05<00:00,  1.25it/s]\n",
      "Training (11997 / 18000 Steps) (loss=0.35404): 100%|██████████| 7/7 [00:05<00:00,  1.26it/s]\n",
      "Validate (11998 / 10 Steps): 100%|██████████| 2/2 [00:04<00:00,  2.16s/it]<00:07,  1.48s/it]\n",
      "Training (12000 / 18000 Steps) (loss=0.37571):  43%|████▎     | 3/7 [00:08<00:11,  2.98s/it]"
     ]
    },
    {
     "name": "stdout",
     "output_type": "stream",
     "text": [
      "Model Was Not Saved ! Current Best Avg. Dice: 0.30912160873413086 Current Avg. Dice: 0.26275545358657837 Current Avg. tumor Dice: 0.3249334394931793 Current Avg. lymph Dice: 0.2005774974822998\n"
     ]
    },
    {
     "name": "stderr",
     "output_type": "stream",
     "text": [
      "Training (12004 / 18000 Steps) (loss=0.20770): 100%|██████████| 7/7 [00:09<00:00,  1.39s/it]\n",
      "Training (12011 / 18000 Steps) (loss=0.51000): 100%|██████████| 7/7 [00:05<00:00,  1.36it/s]\n",
      "Training (12018 / 18000 Steps) (loss=0.29937): 100%|██████████| 7/7 [00:05<00:00,  1.21it/s]\n",
      "Training (12025 / 18000 Steps) (loss=0.52133): 100%|██████████| 7/7 [00:05<00:00,  1.26it/s]\n",
      "Training (12032 / 18000 Steps) (loss=0.49468): 100%|██████████| 7/7 [00:05<00:00,  1.29it/s]\n",
      "Training (12039 / 18000 Steps) (loss=0.33929): 100%|██████████| 7/7 [00:05<00:00,  1.26it/s]\n",
      "Training (12046 / 18000 Steps) (loss=0.35619): 100%|██████████| 7/7 [00:05<00:00,  1.31it/s]\n",
      "Training (12053 / 18000 Steps) (loss=0.45512): 100%|██████████| 7/7 [00:05<00:00,  1.30it/s]\n",
      "Training (12060 / 18000 Steps) (loss=0.50137): 100%|██████████| 7/7 [00:05<00:00,  1.26it/s]\n",
      "Training (12067 / 18000 Steps) (loss=0.55482): 100%|██████████| 7/7 [00:05<00:00,  1.30it/s]\n",
      "Training (12074 / 18000 Steps) (loss=0.45532): 100%|██████████| 7/7 [00:05<00:00,  1.21it/s]\n",
      "Training (12081 / 18000 Steps) (loss=0.51810): 100%|██████████| 7/7 [00:05<00:00,  1.28it/s]\n",
      "Training (12088 / 18000 Steps) (loss=0.64941): 100%|██████████| 7/7 [00:05<00:00,  1.27it/s]\n",
      "Training (12095 / 18000 Steps) (loss=0.38679): 100%|██████████| 7/7 [00:05<00:00,  1.27it/s]\n",
      "Validate (12096 / 10 Steps): 100%|██████████| 2/2 [00:04<00:00,  2.10s/it]<00:02,  1.31it/s]\n",
      "Training (12100 / 18000 Steps) (loss=0.54666):  71%|███████▏  | 5/7 [00:08<00:04,  2.16s/it]"
     ]
    },
    {
     "name": "stdout",
     "output_type": "stream",
     "text": [
      "Model Was Not Saved ! Current Best Avg. Dice: 0.30912160873413086 Current Avg. Dice: 0.25864240527153015 Current Avg. tumor Dice: 0.287767231464386 Current Avg. lymph Dice: 0.2295175939798355\n"
     ]
    },
    {
     "name": "stderr",
     "output_type": "stream",
     "text": [
      "Training (12102 / 18000 Steps) (loss=0.40617): 100%|██████████| 7/7 [00:09<00:00,  1.37s/it]\n",
      "Training (12109 / 18000 Steps) (loss=0.60166): 100%|██████████| 7/7 [00:05<00:00,  1.35it/s]\n",
      "Training (12116 / 18000 Steps) (loss=0.54534): 100%|██████████| 7/7 [00:05<00:00,  1.33it/s]\n",
      "Training (12123 / 18000 Steps) (loss=0.47941): 100%|██████████| 7/7 [00:05<00:00,  1.29it/s]\n",
      "Training (12130 / 18000 Steps) (loss=0.56120): 100%|██████████| 7/7 [00:05<00:00,  1.27it/s]\n",
      "Training (12137 / 18000 Steps) (loss=0.43288): 100%|██████████| 7/7 [00:05<00:00,  1.24it/s]\n",
      "Training (12144 / 18000 Steps) (loss=0.56730): 100%|██████████| 7/7 [00:05<00:00,  1.37it/s]\n",
      "Training (12151 / 18000 Steps) (loss=0.60170): 100%|██████████| 7/7 [00:05<00:00,  1.30it/s]\n",
      "Training (12158 / 18000 Steps) (loss=0.53457): 100%|██████████| 7/7 [00:05<00:00,  1.26it/s]\n",
      "Training (12165 / 18000 Steps) (loss=0.38651): 100%|██████████| 7/7 [00:05<00:00,  1.32it/s]\n",
      "Training (12172 / 18000 Steps) (loss=0.58288): 100%|██████████| 7/7 [00:05<00:00,  1.29it/s]\n",
      "Training (12179 / 18000 Steps) (loss=0.41667): 100%|██████████| 7/7 [00:05<00:00,  1.25it/s]\n",
      "Training (12186 / 18000 Steps) (loss=0.60352): 100%|██████████| 7/7 [00:05<00:00,  1.32it/s]\n",
      "Training (12193 / 18000 Steps) (loss=0.54613): 100%|██████████| 7/7 [00:05<00:00,  1.25it/s]\n",
      "Validate (12194 / 10 Steps): 100%|██████████| 2/2 [00:04<00:00,  2.28s/it]<00:00,  1.77it/s]\n",
      "Training (12200 / 18000 Steps) (loss=0.42914): 100%|██████████| 7/7 [00:10<00:00,  1.44s/it]\n"
     ]
    },
    {
     "name": "stdout",
     "output_type": "stream",
     "text": [
      "Model Was Not Saved ! Current Best Avg. Dice: 0.30912160873413086 Current Avg. Dice: 0.274678111076355 Current Avg. tumor Dice: 0.35695141553878784 Current Avg. lymph Dice: 0.1924048662185669\n"
     ]
    },
    {
     "name": "stderr",
     "output_type": "stream",
     "text": [
      "Training (12207 / 18000 Steps) (loss=0.18162): 100%|██████████| 7/7 [00:05<00:00,  1.22it/s]\n",
      "Training (12214 / 18000 Steps) (loss=0.67060): 100%|██████████| 7/7 [00:05<00:00,  1.29it/s]\n",
      "Training (12221 / 18000 Steps) (loss=0.48820): 100%|██████████| 7/7 [00:05<00:00,  1.35it/s]\n",
      "Training (12228 / 18000 Steps) (loss=0.39975): 100%|██████████| 7/7 [00:05<00:00,  1.27it/s]\n",
      "Training (12235 / 18000 Steps) (loss=0.68265): 100%|██████████| 7/7 [00:05<00:00,  1.33it/s]\n",
      "Training (12242 / 18000 Steps) (loss=0.37951): 100%|██████████| 7/7 [00:05<00:00,  1.30it/s]\n",
      "Training (12249 / 18000 Steps) (loss=0.66435): 100%|██████████| 7/7 [00:05<00:00,  1.36it/s]\n",
      "Training (12256 / 18000 Steps) (loss=0.38139): 100%|██████████| 7/7 [00:05<00:00,  1.24it/s]\n",
      "Training (12263 / 18000 Steps) (loss=0.31483): 100%|██████████| 7/7 [00:05<00:00,  1.33it/s]\n",
      "Training (12270 / 18000 Steps) (loss=0.42446): 100%|██████████| 7/7 [00:05<00:00,  1.32it/s]\n",
      "Training (12277 / 18000 Steps) (loss=0.38038): 100%|██████████| 7/7 [00:05<00:00,  1.27it/s]\n",
      "Training (12284 / 18000 Steps) (loss=0.46258): 100%|██████████| 7/7 [00:05<00:00,  1.29it/s]\n",
      "Training (12291 / 18000 Steps) (loss=0.52286): 100%|██████████| 7/7 [00:05<00:00,  1.30it/s]\n",
      "Training (12298 / 18000 Steps) (loss=0.45285): 100%|██████████| 7/7 [00:05<00:00,  1.24it/s]\n",
      "Validate (12299 / 10 Steps): 100%|██████████| 2/2 [00:04<00:00,  2.23s/it]<00:17,  2.93s/it]\n",
      "Training (12300 / 18000 Steps) (loss=0.51094):  29%|██▊       | 2/7 [00:07<00:20,  4.11s/it]"
     ]
    },
    {
     "name": "stdout",
     "output_type": "stream",
     "text": [
      "Model Was Not Saved ! Current Best Avg. Dice: 0.30912160873413086 Current Avg. Dice: 0.28891226649284363 Current Avg. tumor Dice: 0.36119306087493896 Current Avg. lymph Dice: 0.21663148701190948\n"
     ]
    },
    {
     "name": "stderr",
     "output_type": "stream",
     "text": [
      "Training (12305 / 18000 Steps) (loss=0.51630): 100%|██████████| 7/7 [00:09<00:00,  1.41s/it]\n",
      "Training (12312 / 18000 Steps) (loss=0.22930): 100%|██████████| 7/7 [00:05<00:00,  1.29it/s]\n",
      "Training (12319 / 18000 Steps) (loss=0.37845): 100%|██████████| 7/7 [00:05<00:00,  1.28it/s]\n",
      "Training (12326 / 18000 Steps) (loss=0.30296): 100%|██████████| 7/7 [00:05<00:00,  1.31it/s]\n",
      "Training (12333 / 18000 Steps) (loss=0.52988): 100%|██████████| 7/7 [00:05<00:00,  1.33it/s]\n",
      "Training (12340 / 18000 Steps) (loss=0.50621): 100%|██████████| 7/7 [00:05<00:00,  1.25it/s]\n",
      "Training (12347 / 18000 Steps) (loss=0.36950): 100%|██████████| 7/7 [00:05<00:00,  1.31it/s]\n",
      "Training (12354 / 18000 Steps) (loss=0.51528): 100%|██████████| 7/7 [00:05<00:00,  1.29it/s]\n",
      "Training (12361 / 18000 Steps) (loss=0.42079): 100%|██████████| 7/7 [00:05<00:00,  1.30it/s]\n",
      "Training (12368 / 18000 Steps) (loss=0.35454): 100%|██████████| 7/7 [00:05<00:00,  1.30it/s]\n",
      "Training (12375 / 18000 Steps) (loss=0.50535): 100%|██████████| 7/7 [00:05<00:00,  1.29it/s]\n",
      "Training (12382 / 18000 Steps) (loss=0.39902): 100%|██████████| 7/7 [00:05<00:00,  1.33it/s]\n",
      "Training (12389 / 18000 Steps) (loss=0.36395): 100%|██████████| 7/7 [00:05<00:00,  1.32it/s]\n",
      "Training (12396 / 18000 Steps) (loss=0.61715): 100%|██████████| 7/7 [00:05<00:00,  1.24it/s]\n",
      "Validate (12397 / 10 Steps): 100%|██████████| 2/2 [00:04<00:00,  2.18s/it]<00:04,  1.02s/it]\n",
      "Training (12400 / 18000 Steps) (loss=0.38667):  57%|█████▋    | 4/7 [00:09<00:08,  2.79s/it]"
     ]
    },
    {
     "name": "stdout",
     "output_type": "stream",
     "text": [
      "Model Was Saved ! Current Best Avg. Dice: 0.3125263750553131 Current Avg. Dice: 0.3125263750553131 Current Avg. tumor Dice: 0.3920886516571045 Current Avg. lymph Dice: 0.23296403884887695\n"
     ]
    },
    {
     "name": "stderr",
     "output_type": "stream",
     "text": [
      "Training (12403 / 18000 Steps) (loss=0.49261): 100%|██████████| 7/7 [00:10<00:00,  1.51s/it]\n",
      "Training (12410 / 18000 Steps) (loss=0.27600): 100%|██████████| 7/7 [00:05<00:00,  1.34it/s]\n",
      "Training (12417 / 18000 Steps) (loss=0.42234): 100%|██████████| 7/7 [00:05<00:00,  1.25it/s]\n",
      "Training (12424 / 18000 Steps) (loss=0.49413): 100%|██████████| 7/7 [00:05<00:00,  1.31it/s]\n",
      "Training (12431 / 18000 Steps) (loss=0.40189): 100%|██████████| 7/7 [00:05<00:00,  1.31it/s]\n",
      "Training (12438 / 18000 Steps) (loss=0.62449): 100%|██████████| 7/7 [00:05<00:00,  1.25it/s]\n",
      "Training (12445 / 18000 Steps) (loss=0.45522): 100%|██████████| 7/7 [00:05<00:00,  1.28it/s]\n",
      "Training (12452 / 18000 Steps) (loss=0.44757): 100%|██████████| 7/7 [00:05<00:00,  1.34it/s]\n",
      "Training (12459 / 18000 Steps) (loss=0.22362): 100%|██████████| 7/7 [00:05<00:00,  1.31it/s]\n",
      "Training (12466 / 18000 Steps) (loss=0.42533): 100%|██████████| 7/7 [00:05<00:00,  1.33it/s]\n",
      "Training (12473 / 18000 Steps) (loss=0.26193): 100%|██████████| 7/7 [00:05<00:00,  1.35it/s]\n",
      "Training (12480 / 18000 Steps) (loss=0.67067): 100%|██████████| 7/7 [00:05<00:00,  1.27it/s]\n",
      "Training (12487 / 18000 Steps) (loss=0.38008): 100%|██████████| 7/7 [00:05<00:00,  1.33it/s]\n",
      "Training (12494 / 18000 Steps) (loss=0.42444): 100%|██████████| 7/7 [00:05<00:00,  1.28it/s]\n",
      "Validate (12495 / 10 Steps): 100%|██████████| 2/2 [00:04<00:00,  2.16s/it]<00:01,  1.57it/s]\n",
      "Training (12500 / 18000 Steps) (loss=0.52802):  86%|████████▌ | 6/7 [00:09<00:02,  2.04s/it]"
     ]
    },
    {
     "name": "stdout",
     "output_type": "stream",
     "text": [
      "Model Was Not Saved ! Current Best Avg. Dice: 0.3125263750553131 Current Avg. Dice: 0.28590482473373413 Current Avg. tumor Dice: 0.40121665596961975 Current Avg. lymph Dice: 0.1705930233001709\n"
     ]
    },
    {
     "name": "stderr",
     "output_type": "stream",
     "text": [
      "Training (12501 / 18000 Steps) (loss=0.41083): 100%|██████████| 7/7 [00:09<00:00,  1.39s/it]\n",
      "Training (12508 / 18000 Steps) (loss=0.52960): 100%|██████████| 7/7 [00:05<00:00,  1.33it/s]\n",
      "Training (12515 / 18000 Steps) (loss=0.61050): 100%|██████████| 7/7 [00:05<00:00,  1.27it/s]\n",
      "Training (12522 / 18000 Steps) (loss=0.32518): 100%|██████████| 7/7 [00:05<00:00,  1.24it/s]\n",
      "Training (12529 / 18000 Steps) (loss=0.50344): 100%|██████████| 7/7 [00:05<00:00,  1.27it/s]\n",
      "Training (12536 / 18000 Steps) (loss=0.47607): 100%|██████████| 7/7 [00:05<00:00,  1.29it/s]\n",
      "Training (12543 / 18000 Steps) (loss=0.34626): 100%|██████████| 7/7 [00:05<00:00,  1.26it/s]\n",
      "Training (12550 / 18000 Steps) (loss=0.38301): 100%|██████████| 7/7 [00:05<00:00,  1.38it/s]\n",
      "Training (12557 / 18000 Steps) (loss=0.33832): 100%|██████████| 7/7 [00:05<00:00,  1.29it/s]\n",
      "Training (12564 / 18000 Steps) (loss=0.57540): 100%|██████████| 7/7 [00:05<00:00,  1.28it/s]\n",
      "Training (12571 / 18000 Steps) (loss=0.35957): 100%|██████████| 7/7 [00:05<00:00,  1.23it/s]\n",
      "Training (12578 / 18000 Steps) (loss=0.49919): 100%|██████████| 7/7 [00:05<00:00,  1.28it/s]\n",
      "Training (12585 / 18000 Steps) (loss=0.33286): 100%|██████████| 7/7 [00:05<00:00,  1.26it/s]\n",
      "Training (12592 / 18000 Steps) (loss=0.38025): 100%|██████████| 7/7 [00:05<00:00,  1.29it/s]\n",
      "Training (12599 / 18000 Steps) (loss=0.63586): 100%|██████████| 7/7 [00:05<00:00,  1.32it/s]\n",
      "Validate (12600 / 10 Steps): 100%|██████████| 2/2 [00:04<00:00,  2.17s/it]<?, ?it/s]\n",
      "Training (12600 / 18000 Steps) (loss=0.47756):  14%|█▍        | 1/7 [00:07<00:43,  7.26s/it]"
     ]
    },
    {
     "name": "stdout",
     "output_type": "stream",
     "text": [
      "Model Was Not Saved ! Current Best Avg. Dice: 0.3125263750553131 Current Avg. Dice: 0.2885068356990814 Current Avg. tumor Dice: 0.38914427161216736 Current Avg. lymph Dice: 0.1878693699836731\n"
     ]
    },
    {
     "name": "stderr",
     "output_type": "stream",
     "text": [
      "Training (12606 / 18000 Steps) (loss=0.49054): 100%|██████████| 7/7 [00:09<00:00,  1.38s/it]\n",
      "Training (12613 / 18000 Steps) (loss=0.57871): 100%|██████████| 7/7 [00:05<00:00,  1.28it/s]\n",
      "Training (12620 / 18000 Steps) (loss=0.63173): 100%|██████████| 7/7 [00:05<00:00,  1.25it/s]\n",
      "Training (12627 / 18000 Steps) (loss=0.50132): 100%|██████████| 7/7 [00:05<00:00,  1.32it/s]\n",
      "Training (12634 / 18000 Steps) (loss=0.50425): 100%|██████████| 7/7 [00:05<00:00,  1.30it/s]\n",
      "Training (12641 / 18000 Steps) (loss=0.56208): 100%|██████████| 7/7 [00:05<00:00,  1.32it/s]\n",
      "Training (12648 / 18000 Steps) (loss=0.51731): 100%|██████████| 7/7 [00:05<00:00,  1.31it/s]\n",
      "Training (12655 / 18000 Steps) (loss=0.45723): 100%|██████████| 7/7 [00:05<00:00,  1.22it/s]\n",
      "Training (12662 / 18000 Steps) (loss=0.49300): 100%|██████████| 7/7 [00:05<00:00,  1.29it/s]\n",
      "Training (12669 / 18000 Steps) (loss=0.42882): 100%|██████████| 7/7 [00:05<00:00,  1.33it/s]\n",
      "Training (12676 / 18000 Steps) (loss=0.52526): 100%|██████████| 7/7 [00:05<00:00,  1.33it/s]\n",
      "Training (12683 / 18000 Steps) (loss=0.48007): 100%|██████████| 7/7 [00:05<00:00,  1.25it/s]\n",
      "Training (12690 / 18000 Steps) (loss=0.56787): 100%|██████████| 7/7 [00:05<00:00,  1.25it/s]\n",
      "Training (12697 / 18000 Steps) (loss=0.38406): 100%|██████████| 7/7 [00:05<00:00,  1.25it/s]\n",
      "Validate (12698 / 10 Steps): 100%|██████████| 2/2 [00:04<00:00,  2.14s/it]<00:07,  1.48s/it]\n",
      "Training (12700 / 18000 Steps) (loss=0.44290):  43%|████▎     | 3/7 [00:08<00:11,  2.98s/it]"
     ]
    },
    {
     "name": "stdout",
     "output_type": "stream",
     "text": [
      "Model Was Not Saved ! Current Best Avg. Dice: 0.3125263750553131 Current Avg. Dice: 0.2649489939212799 Current Avg. tumor Dice: 0.3764558732509613 Current Avg. lymph Dice: 0.1534421294927597\n"
     ]
    },
    {
     "name": "stderr",
     "output_type": "stream",
     "text": [
      "Training (12704 / 18000 Steps) (loss=0.67281): 100%|██████████| 7/7 [00:09<00:00,  1.39s/it]\n",
      "Training (12711 / 18000 Steps) (loss=0.58679): 100%|██████████| 7/7 [00:05<00:00,  1.34it/s]\n",
      "Training (12718 / 18000 Steps) (loss=0.52235): 100%|██████████| 7/7 [00:05<00:00,  1.23it/s]\n",
      "Training (12725 / 18000 Steps) (loss=0.29407): 100%|██████████| 7/7 [00:05<00:00,  1.29it/s]\n",
      "Training (12732 / 18000 Steps) (loss=0.54926): 100%|██████████| 7/7 [00:05<00:00,  1.24it/s]\n",
      "Training (12739 / 18000 Steps) (loss=0.30220): 100%|██████████| 7/7 [00:05<00:00,  1.30it/s]\n",
      "Training (12746 / 18000 Steps) (loss=0.49251): 100%|██████████| 7/7 [00:05<00:00,  1.31it/s]\n",
      "Training (12753 / 18000 Steps) (loss=0.43295): 100%|██████████| 7/7 [00:05<00:00,  1.24it/s]\n",
      "Training (12760 / 18000 Steps) (loss=0.50093): 100%|██████████| 7/7 [00:05<00:00,  1.30it/s]\n",
      "Training (12767 / 18000 Steps) (loss=0.27394): 100%|██████████| 7/7 [00:05<00:00,  1.29it/s]\n",
      "Training (12774 / 18000 Steps) (loss=0.32050): 100%|██████████| 7/7 [00:05<00:00,  1.29it/s]\n",
      "Training (12781 / 18000 Steps) (loss=0.46177): 100%|██████████| 7/7 [00:05<00:00,  1.32it/s]\n",
      "Training (12788 / 18000 Steps) (loss=0.50246): 100%|██████████| 7/7 [00:05<00:00,  1.24it/s]\n",
      "Training (12795 / 18000 Steps) (loss=0.41880): 100%|██████████| 7/7 [00:05<00:00,  1.29it/s]\n",
      "Validate (12796 / 10 Steps): 100%|██████████| 2/2 [00:04<00:00,  2.11s/it]<00:02,  1.34it/s]\n",
      "Training (12800 / 18000 Steps) (loss=0.44102):  71%|███████▏  | 5/7 [00:08<00:04,  2.16s/it]"
     ]
    },
    {
     "name": "stdout",
     "output_type": "stream",
     "text": [
      "Model Was Not Saved ! Current Best Avg. Dice: 0.3125263750553131 Current Avg. Dice: 0.2509343922138214 Current Avg. tumor Dice: 0.334883451461792 Current Avg. lymph Dice: 0.16698531806468964\n"
     ]
    },
    {
     "name": "stderr",
     "output_type": "stream",
     "text": [
      "Training (12802 / 18000 Steps) (loss=0.24900): 100%|██████████| 7/7 [00:09<00:00,  1.36s/it]\n",
      "Training (12809 / 18000 Steps) (loss=0.33805): 100%|██████████| 7/7 [00:05<00:00,  1.30it/s]\n",
      "Training (12816 / 18000 Steps) (loss=0.55079): 100%|██████████| 7/7 [00:05<00:00,  1.28it/s]\n",
      "Training (12823 / 18000 Steps) (loss=0.39527): 100%|██████████| 7/7 [00:05<00:00,  1.31it/s]\n",
      "Training (12830 / 18000 Steps) (loss=0.55038): 100%|██████████| 7/7 [00:05<00:00,  1.26it/s]\n",
      "Training (12837 / 18000 Steps) (loss=0.44508): 100%|██████████| 7/7 [00:05<00:00,  1.26it/s]\n",
      "Training (12844 / 18000 Steps) (loss=0.36838): 100%|██████████| 7/7 [00:05<00:00,  1.28it/s]\n",
      "Training (12851 / 18000 Steps) (loss=0.51706): 100%|██████████| 7/7 [00:05<00:00,  1.27it/s]\n",
      "Training (12858 / 18000 Steps) (loss=0.55666): 100%|██████████| 7/7 [00:05<00:00,  1.25it/s]\n",
      "Training (12865 / 18000 Steps) (loss=0.42033): 100%|██████████| 7/7 [00:05<00:00,  1.25it/s]\n",
      "Training (12872 / 18000 Steps) (loss=0.54153): 100%|██████████| 7/7 [00:05<00:00,  1.30it/s]\n",
      "Training (12879 / 18000 Steps) (loss=0.25543): 100%|██████████| 7/7 [00:05<00:00,  1.24it/s]\n",
      "Training (12886 / 18000 Steps) (loss=0.51829): 100%|██████████| 7/7 [00:05<00:00,  1.25it/s]\n",
      "Training (12893 / 18000 Steps) (loss=0.36123): 100%|██████████| 7/7 [00:05<00:00,  1.33it/s]\n",
      "Validate (12894 / 10 Steps): 100%|██████████| 2/2 [00:04<00:00,  2.17s/it]<00:00,  1.70it/s]\n",
      "Training (12900 / 18000 Steps) (loss=0.32993): 100%|██████████| 7/7 [00:10<00:00,  1.46s/it]\n"
     ]
    },
    {
     "name": "stdout",
     "output_type": "stream",
     "text": [
      "Model Was Not Saved ! Current Best Avg. Dice: 0.3125263750553131 Current Avg. Dice: 0.27157625555992126 Current Avg. tumor Dice: 0.3180374205112457 Current Avg. lymph Dice: 0.2251150906085968\n"
     ]
    },
    {
     "name": "stderr",
     "output_type": "stream",
     "text": [
      "Training (12907 / 18000 Steps) (loss=0.55015): 100%|██████████| 7/7 [00:05<00:00,  1.29it/s]\n",
      "Training (12914 / 18000 Steps) (loss=0.42875): 100%|██████████| 7/7 [00:05<00:00,  1.31it/s]\n",
      "Training (12921 / 18000 Steps) (loss=0.47694): 100%|██████████| 7/7 [00:05<00:00,  1.29it/s]\n",
      "Training (12928 / 18000 Steps) (loss=0.41111): 100%|██████████| 7/7 [00:05<00:00,  1.26it/s]\n",
      "Training (12935 / 18000 Steps) (loss=0.57939): 100%|██████████| 7/7 [00:05<00:00,  1.28it/s]\n",
      "Training (12942 / 18000 Steps) (loss=0.40928): 100%|██████████| 7/7 [00:05<00:00,  1.28it/s]\n",
      "Training (12949 / 18000 Steps) (loss=0.53823): 100%|██████████| 7/7 [00:05<00:00,  1.27it/s]\n",
      "Training (12956 / 18000 Steps) (loss=0.55635): 100%|██████████| 7/7 [00:05<00:00,  1.26it/s]\n",
      "Training (12963 / 18000 Steps) (loss=0.28564): 100%|██████████| 7/7 [00:05<00:00,  1.29it/s]\n",
      "Training (12970 / 18000 Steps) (loss=0.42316): 100%|██████████| 7/7 [00:05<00:00,  1.28it/s]\n",
      "Training (12977 / 18000 Steps) (loss=0.28284): 100%|██████████| 7/7 [00:05<00:00,  1.31it/s]\n",
      "Training (12984 / 18000 Steps) (loss=0.44943): 100%|██████████| 7/7 [00:05<00:00,  1.31it/s]\n",
      "Training (12991 / 18000 Steps) (loss=0.64117): 100%|██████████| 7/7 [00:05<00:00,  1.26it/s]\n",
      "Training (12998 / 18000 Steps) (loss=0.41700): 100%|██████████| 7/7 [00:05<00:00,  1.26it/s]\n",
      "Validate (12999 / 10 Steps): 100%|██████████| 2/2 [00:04<00:00,  2.11s/it]<00:19,  3.31s/it]\n",
      "Training (13000 / 18000 Steps) (loss=0.42628):  29%|██▊       | 2/7 [00:08<00:20,  4.13s/it]"
     ]
    },
    {
     "name": "stdout",
     "output_type": "stream",
     "text": [
      "Model Was Not Saved ! Current Best Avg. Dice: 0.3125263750553131 Current Avg. Dice: 0.2592434883117676 Current Avg. tumor Dice: 0.3491480052471161 Current Avg. lymph Dice: 0.16933894157409668\n"
     ]
    },
    {
     "name": "stderr",
     "output_type": "stream",
     "text": [
      "Training (13005 / 18000 Steps) (loss=0.60882): 100%|██████████| 7/7 [00:10<00:00,  1.43s/it]\n",
      "Training (13012 / 18000 Steps) (loss=0.31370): 100%|██████████| 7/7 [00:05<00:00,  1.21it/s]\n",
      "Training (13019 / 18000 Steps) (loss=0.58009): 100%|██████████| 7/7 [00:05<00:00,  1.26it/s]\n",
      "Training (13026 / 18000 Steps) (loss=0.46116): 100%|██████████| 7/7 [00:05<00:00,  1.28it/s]\n",
      "Training (13033 / 18000 Steps) (loss=0.26295): 100%|██████████| 7/7 [00:05<00:00,  1.29it/s]\n",
      "Training (13040 / 18000 Steps) (loss=0.55542): 100%|██████████| 7/7 [00:05<00:00,  1.32it/s]\n",
      "Training (13047 / 18000 Steps) (loss=0.36019): 100%|██████████| 7/7 [00:05<00:00,  1.26it/s]\n",
      "Training (13054 / 18000 Steps) (loss=0.52235): 100%|██████████| 7/7 [00:05<00:00,  1.31it/s]\n",
      "Training (13061 / 18000 Steps) (loss=0.49286): 100%|██████████| 7/7 [00:05<00:00,  1.24it/s]\n",
      "Training (13068 / 18000 Steps) (loss=0.49319): 100%|██████████| 7/7 [00:05<00:00,  1.30it/s]\n",
      "Training (13075 / 18000 Steps) (loss=0.30212): 100%|██████████| 7/7 [00:05<00:00,  1.29it/s]\n",
      "Training (13082 / 18000 Steps) (loss=0.30576): 100%|██████████| 7/7 [00:05<00:00,  1.26it/s]\n",
      "Training (13089 / 18000 Steps) (loss=0.50802): 100%|██████████| 7/7 [00:05<00:00,  1.28it/s]\n",
      "Training (13096 / 18000 Steps) (loss=0.41658): 100%|██████████| 7/7 [00:05<00:00,  1.32it/s]\n",
      "Validate (13097 / 10 Steps): 100%|██████████| 2/2 [00:04<00:00,  2.19s/it]<00:04,  1.05s/it]\n",
      "Training (13100 / 18000 Steps) (loss=0.39966):  57%|█████▋    | 4/7 [00:08<00:07,  2.55s/it]"
     ]
    },
    {
     "name": "stdout",
     "output_type": "stream",
     "text": [
      "Model Was Not Saved ! Current Best Avg. Dice: 0.3125263750553131 Current Avg. Dice: 0.2750532329082489 Current Avg. tumor Dice: 0.3382125794887543 Current Avg. lymph Dice: 0.21189387142658234\n"
     ]
    },
    {
     "name": "stderr",
     "output_type": "stream",
     "text": [
      "Training (13103 / 18000 Steps) (loss=0.57387): 100%|██████████| 7/7 [00:10<00:00,  1.44s/it]\n",
      "Training (13110 / 18000 Steps) (loss=0.46532): 100%|██████████| 7/7 [00:05<00:00,  1.25it/s]\n",
      "Training (13117 / 18000 Steps) (loss=0.45649): 100%|██████████| 7/7 [00:05<00:00,  1.27it/s]\n",
      "Training (13124 / 18000 Steps) (loss=0.30183): 100%|██████████| 7/7 [00:05<00:00,  1.28it/s]\n",
      "Training (13131 / 18000 Steps) (loss=0.49156): 100%|██████████| 7/7 [00:05<00:00,  1.36it/s]\n",
      "Training (13138 / 18000 Steps) (loss=0.31747): 100%|██████████| 7/7 [00:05<00:00,  1.35it/s]\n",
      "Training (13145 / 18000 Steps) (loss=0.57818): 100%|██████████| 7/7 [00:05<00:00,  1.37it/s]\n",
      "Training (13152 / 18000 Steps) (loss=0.35269): 100%|██████████| 7/7 [00:05<00:00,  1.24it/s]\n",
      "Training (13159 / 18000 Steps) (loss=0.54653): 100%|██████████| 7/7 [00:05<00:00,  1.31it/s]\n",
      "Training (13166 / 18000 Steps) (loss=0.45214): 100%|██████████| 7/7 [00:05<00:00,  1.21it/s]\n",
      "Training (13173 / 18000 Steps) (loss=0.46523): 100%|██████████| 7/7 [00:05<00:00,  1.30it/s]\n",
      "Training (13180 / 18000 Steps) (loss=0.43600): 100%|██████████| 7/7 [00:05<00:00,  1.23it/s]\n",
      "Training (13187 / 18000 Steps) (loss=0.41828): 100%|██████████| 7/7 [00:05<00:00,  1.27it/s]\n",
      "Training (13194 / 18000 Steps) (loss=0.44949): 100%|██████████| 7/7 [00:05<00:00,  1.29it/s]\n",
      "Validate (13195 / 10 Steps): 100%|██████████| 2/2 [00:04<00:00,  2.10s/it]<00:01,  1.59it/s]\n",
      "Training (13200 / 18000 Steps) (loss=0.40940):  86%|████████▌ | 6/7 [00:09<00:02,  2.01s/it]"
     ]
    },
    {
     "name": "stdout",
     "output_type": "stream",
     "text": [
      "Model Was Not Saved ! Current Best Avg. Dice: 0.3125263750553131 Current Avg. Dice: 0.2771272361278534 Current Avg. tumor Dice: 0.325279176235199 Current Avg. lymph Dice: 0.2289752960205078\n"
     ]
    },
    {
     "name": "stderr",
     "output_type": "stream",
     "text": [
      "Training (13201 / 18000 Steps) (loss=0.45591): 100%|██████████| 7/7 [00:09<00:00,  1.36s/it]\n",
      "Training (13208 / 18000 Steps) (loss=0.29161): 100%|██████████| 7/7 [00:05<00:00,  1.28it/s]\n",
      "Training (13215 / 18000 Steps) (loss=0.61154): 100%|██████████| 7/7 [00:05<00:00,  1.30it/s]\n",
      "Training (13222 / 18000 Steps) (loss=0.41073): 100%|██████████| 7/7 [00:05<00:00,  1.29it/s]\n",
      "Training (13229 / 18000 Steps) (loss=0.34940): 100%|██████████| 7/7 [00:05<00:00,  1.27it/s]\n",
      "Training (13236 / 18000 Steps) (loss=0.50575): 100%|██████████| 7/7 [00:05<00:00,  1.35it/s]\n",
      "Training (13243 / 18000 Steps) (loss=0.51607): 100%|██████████| 7/7 [00:05<00:00,  1.31it/s]\n",
      "Training (13250 / 18000 Steps) (loss=0.49299): 100%|██████████| 7/7 [00:05<00:00,  1.33it/s]\n",
      "Training (13257 / 18000 Steps) (loss=0.34818): 100%|██████████| 7/7 [00:05<00:00,  1.29it/s]\n",
      "Training (13264 / 18000 Steps) (loss=0.40475): 100%|██████████| 7/7 [00:05<00:00,  1.27it/s]\n",
      "Training (13271 / 18000 Steps) (loss=0.47233): 100%|██████████| 7/7 [00:05<00:00,  1.29it/s]\n",
      "Training (13278 / 18000 Steps) (loss=0.54715): 100%|██████████| 7/7 [00:05<00:00,  1.30it/s]\n",
      "Training (13285 / 18000 Steps) (loss=0.59939): 100%|██████████| 7/7 [00:05<00:00,  1.28it/s]\n",
      "Training (13292 / 18000 Steps) (loss=0.47550): 100%|██████████| 7/7 [00:05<00:00,  1.30it/s]\n",
      "Training (13299 / 18000 Steps) (loss=0.46325): 100%|██████████| 7/7 [00:05<00:00,  1.33it/s]\n",
      "Validate (13300 / 10 Steps): 100%|██████████| 2/2 [00:04<00:00,  2.22s/it]<?, ?it/s]\n",
      "Training (13300 / 18000 Steps) (loss=0.44573):  14%|█▍        | 1/7 [00:07<00:45,  7.52s/it]"
     ]
    },
    {
     "name": "stdout",
     "output_type": "stream",
     "text": [
      "Model Was Not Saved ! Current Best Avg. Dice: 0.3125263750553131 Current Avg. Dice: 0.2875102758407593 Current Avg. tumor Dice: 0.39265644550323486 Current Avg. lymph Dice: 0.18236404657363892\n"
     ]
    },
    {
     "name": "stderr",
     "output_type": "stream",
     "text": [
      "Training (13306 / 18000 Steps) (loss=0.47785): 100%|██████████| 7/7 [00:09<00:00,  1.42s/it]\n",
      "Training (13313 / 18000 Steps) (loss=0.56171): 100%|██████████| 7/7 [00:05<00:00,  1.33it/s]\n",
      "Training (13320 / 18000 Steps) (loss=0.40315): 100%|██████████| 7/7 [00:05<00:00,  1.31it/s]\n",
      "Training (13327 / 18000 Steps) (loss=0.52659): 100%|██████████| 7/7 [00:05<00:00,  1.28it/s]\n",
      "Training (13334 / 18000 Steps) (loss=0.38717): 100%|██████████| 7/7 [00:05<00:00,  1.27it/s]\n",
      "Training (13341 / 18000 Steps) (loss=0.38644): 100%|██████████| 7/7 [00:05<00:00,  1.29it/s]\n",
      "Training (13348 / 18000 Steps) (loss=0.39641): 100%|██████████| 7/7 [00:05<00:00,  1.34it/s]\n",
      "Training (13355 / 18000 Steps) (loss=0.33493): 100%|██████████| 7/7 [00:05<00:00,  1.33it/s]\n",
      "Training (13362 / 18000 Steps) (loss=0.51545): 100%|██████████| 7/7 [00:05<00:00,  1.25it/s]\n",
      "Training (13369 / 18000 Steps) (loss=0.32664): 100%|██████████| 7/7 [00:05<00:00,  1.29it/s]\n",
      "Training (13376 / 18000 Steps) (loss=0.43734): 100%|██████████| 7/7 [00:05<00:00,  1.25it/s]\n",
      "Training (13383 / 18000 Steps) (loss=0.55328): 100%|██████████| 7/7 [00:05<00:00,  1.32it/s]\n",
      "Training (13390 / 18000 Steps) (loss=0.47023): 100%|██████████| 7/7 [00:05<00:00,  1.33it/s]\n",
      "Training (13397 / 18000 Steps) (loss=0.45325): 100%|██████████| 7/7 [00:05<00:00,  1.29it/s]\n",
      "Validate (13398 / 10 Steps): 100%|██████████| 2/2 [00:04<00:00,  2.16s/it]<00:07,  1.44s/it]\n",
      "Training (13400 / 18000 Steps) (loss=0.46250):  43%|████▎     | 3/7 [00:08<00:11,  2.96s/it]"
     ]
    },
    {
     "name": "stdout",
     "output_type": "stream",
     "text": [
      "Model Was Not Saved ! Current Best Avg. Dice: 0.3125263750553131 Current Avg. Dice: 0.26805832982063293 Current Avg. tumor Dice: 0.33261653780937195 Current Avg. lymph Dice: 0.20350010693073273\n"
     ]
    },
    {
     "name": "stderr",
     "output_type": "stream",
     "text": [
      "Training (13404 / 18000 Steps) (loss=0.48868): 100%|██████████| 7/7 [00:09<00:00,  1.38s/it]\n",
      "Training (13411 / 18000 Steps) (loss=0.50794): 100%|██████████| 7/7 [00:05<00:00,  1.29it/s]\n",
      "Training (13418 / 18000 Steps) (loss=0.46011): 100%|██████████| 7/7 [00:05<00:00,  1.30it/s]\n",
      "Training (13425 / 18000 Steps) (loss=0.35391): 100%|██████████| 7/7 [00:05<00:00,  1.23it/s]\n",
      "Training (13432 / 18000 Steps) (loss=0.54537): 100%|██████████| 7/7 [00:05<00:00,  1.28it/s]\n",
      "Training (13439 / 18000 Steps) (loss=0.55363): 100%|██████████| 7/7 [00:05<00:00,  1.35it/s]\n",
      "Training (13446 / 18000 Steps) (loss=0.45206): 100%|██████████| 7/7 [00:05<00:00,  1.29it/s]\n",
      "Training (13453 / 18000 Steps) (loss=0.54335): 100%|██████████| 7/7 [00:05<00:00,  1.28it/s]\n",
      "Training (13460 / 18000 Steps) (loss=0.43065): 100%|██████████| 7/7 [00:05<00:00,  1.24it/s]\n",
      "Training (13467 / 18000 Steps) (loss=0.56420): 100%|██████████| 7/7 [00:05<00:00,  1.30it/s]\n",
      "Training (13474 / 18000 Steps) (loss=0.44363): 100%|██████████| 7/7 [00:05<00:00,  1.35it/s]\n",
      "Training (13481 / 18000 Steps) (loss=0.52969): 100%|██████████| 7/7 [00:05<00:00,  1.28it/s]\n",
      "Training (13488 / 18000 Steps) (loss=0.42009): 100%|██████████| 7/7 [00:05<00:00,  1.23it/s]\n",
      "Training (13495 / 18000 Steps) (loss=0.49135): 100%|██████████| 7/7 [00:05<00:00,  1.28it/s]\n",
      "Validate (13496 / 10 Steps): 100%|██████████| 2/2 [00:04<00:00,  2.13s/it]<00:02,  1.32it/s]\n",
      "Training (13500 / 18000 Steps) (loss=0.43197):  71%|███████▏  | 5/7 [00:08<00:04,  2.19s/it]"
     ]
    },
    {
     "name": "stdout",
     "output_type": "stream",
     "text": [
      "Model Was Not Saved ! Current Best Avg. Dice: 0.3125263750553131 Current Avg. Dice: 0.309774249792099 Current Avg. tumor Dice: 0.3811209201812744 Current Avg. lymph Dice: 0.23842757940292358\n"
     ]
    },
    {
     "name": "stderr",
     "output_type": "stream",
     "text": [
      "Training (13502 / 18000 Steps) (loss=0.39654): 100%|██████████| 7/7 [00:09<00:00,  1.38s/it]\n",
      "Training (13509 / 18000 Steps) (loss=0.40454): 100%|██████████| 7/7 [00:05<00:00,  1.26it/s]\n",
      "Training (13516 / 18000 Steps) (loss=0.28831): 100%|██████████| 7/7 [00:05<00:00,  1.31it/s]\n",
      "Training (13523 / 18000 Steps) (loss=0.43493): 100%|██████████| 7/7 [00:05<00:00,  1.31it/s]\n",
      "Training (13530 / 18000 Steps) (loss=0.44867): 100%|██████████| 7/7 [00:05<00:00,  1.32it/s]\n",
      "Training (13537 / 18000 Steps) (loss=0.42274): 100%|██████████| 7/7 [00:05<00:00,  1.29it/s]\n",
      "Training (13544 / 18000 Steps) (loss=0.40516): 100%|██████████| 7/7 [00:05<00:00,  1.30it/s]\n",
      "Training (13551 / 18000 Steps) (loss=0.51803): 100%|██████████| 7/7 [00:05<00:00,  1.32it/s]\n",
      "Training (13558 / 18000 Steps) (loss=0.54709): 100%|██████████| 7/7 [00:05<00:00,  1.27it/s]\n",
      "Training (13565 / 18000 Steps) (loss=0.55522): 100%|██████████| 7/7 [00:05<00:00,  1.34it/s]\n",
      "Training (13572 / 18000 Steps) (loss=0.39917): 100%|██████████| 7/7 [00:05<00:00,  1.38it/s]\n",
      "Training (13579 / 18000 Steps) (loss=0.61544): 100%|██████████| 7/7 [00:05<00:00,  1.36it/s]\n",
      "Training (13586 / 18000 Steps) (loss=0.44446): 100%|██████████| 7/7 [00:05<00:00,  1.28it/s]\n",
      "Training (13593 / 18000 Steps) (loss=0.45386): 100%|██████████| 7/7 [00:05<00:00,  1.31it/s]\n",
      "Validate (13594 / 10 Steps): 100%|██████████| 2/2 [00:04<00:00,  2.13s/it]<00:00,  1.72it/s]\n",
      "Training (13600 / 18000 Steps) (loss=0.37838): 100%|██████████| 7/7 [00:10<00:00,  1.43s/it]\n"
     ]
    },
    {
     "name": "stdout",
     "output_type": "stream",
     "text": [
      "Model Was Not Saved ! Current Best Avg. Dice: 0.3125263750553131 Current Avg. Dice: 0.2916574776172638 Current Avg. tumor Dice: 0.3622063398361206 Current Avg. lymph Dice: 0.22110861539840698\n"
     ]
    },
    {
     "name": "stderr",
     "output_type": "stream",
     "text": [
      "Training (13607 / 18000 Steps) (loss=0.27969): 100%|██████████| 7/7 [00:05<00:00,  1.30it/s]\n",
      "Training (13614 / 18000 Steps) (loss=0.49167): 100%|██████████| 7/7 [00:05<00:00,  1.30it/s]\n",
      "Training (13621 / 18000 Steps) (loss=0.34402): 100%|██████████| 7/7 [00:05<00:00,  1.30it/s]\n",
      "Training (13628 / 18000 Steps) (loss=0.55787): 100%|██████████| 7/7 [00:05<00:00,  1.29it/s]\n",
      "Training (13635 / 18000 Steps) (loss=0.42638): 100%|██████████| 7/7 [00:05<00:00,  1.25it/s]\n",
      "Training (13642 / 18000 Steps) (loss=0.45646): 100%|██████████| 7/7 [00:05<00:00,  1.27it/s]\n",
      "Training (13649 / 18000 Steps) (loss=0.40499): 100%|██████████| 7/7 [00:05<00:00,  1.33it/s]\n",
      "Training (13656 / 18000 Steps) (loss=0.15840): 100%|██████████| 7/7 [00:05<00:00,  1.28it/s]\n",
      "Training (13663 / 18000 Steps) (loss=0.39633): 100%|██████████| 7/7 [00:05<00:00,  1.25it/s]\n",
      "Training (13670 / 18000 Steps) (loss=0.55622): 100%|██████████| 7/7 [00:05<00:00,  1.30it/s]\n",
      "Training (13677 / 18000 Steps) (loss=0.41274): 100%|██████████| 7/7 [00:05<00:00,  1.32it/s]\n",
      "Training (13684 / 18000 Steps) (loss=0.29149): 100%|██████████| 7/7 [00:05<00:00,  1.23it/s]\n",
      "Training (13691 / 18000 Steps) (loss=0.43453): 100%|██████████| 7/7 [00:05<00:00,  1.30it/s]\n",
      "Training (13698 / 18000 Steps) (loss=0.64999): 100%|██████████| 7/7 [00:05<00:00,  1.30it/s]\n",
      "Validate (13699 / 10 Steps): 100%|██████████| 2/2 [00:04<00:00,  2.20s/it]<00:20,  3.39s/it]\n",
      "Training (13700 / 18000 Steps) (loss=0.34168):  29%|██▊       | 2/7 [00:08<00:21,  4.26s/it]"
     ]
    },
    {
     "name": "stdout",
     "output_type": "stream",
     "text": [
      "Model Was Not Saved ! Current Best Avg. Dice: 0.3125263750553131 Current Avg. Dice: 0.2727789878845215 Current Avg. tumor Dice: 0.3334314227104187 Current Avg. lymph Dice: 0.21212655305862427\n"
     ]
    },
    {
     "name": "stderr",
     "output_type": "stream",
     "text": [
      "Training (13705 / 18000 Steps) (loss=0.57821): 100%|██████████| 7/7 [00:10<00:00,  1.46s/it]\n",
      "Training (13712 / 18000 Steps) (loss=0.57267): 100%|██████████| 7/7 [00:05<00:00,  1.30it/s]\n",
      "Training (13719 / 18000 Steps) (loss=0.58699): 100%|██████████| 7/7 [00:05<00:00,  1.31it/s]\n",
      "Training (13726 / 18000 Steps) (loss=0.30986): 100%|██████████| 7/7 [00:05<00:00,  1.28it/s]\n",
      "Training (13733 / 18000 Steps) (loss=0.34510): 100%|██████████| 7/7 [00:05<00:00,  1.24it/s]\n",
      "Training (13740 / 18000 Steps) (loss=0.41551): 100%|██████████| 7/7 [00:05<00:00,  1.27it/s]\n",
      "Training (13747 / 18000 Steps) (loss=0.45098): 100%|██████████| 7/7 [00:05<00:00,  1.26it/s]\n",
      "Training (13754 / 18000 Steps) (loss=0.44641): 100%|██████████| 7/7 [00:05<00:00,  1.31it/s]\n",
      "Training (13761 / 18000 Steps) (loss=0.55284): 100%|██████████| 7/7 [00:05<00:00,  1.30it/s]\n",
      "Training (13768 / 18000 Steps) (loss=0.44679): 100%|██████████| 7/7 [00:05<00:00,  1.30it/s]\n",
      "Training (13775 / 18000 Steps) (loss=0.34986): 100%|██████████| 7/7 [00:05<00:00,  1.29it/s]\n",
      "Training (13782 / 18000 Steps) (loss=0.49731): 100%|██████████| 7/7 [00:05<00:00,  1.24it/s]\n",
      "Training (13789 / 18000 Steps) (loss=0.56539): 100%|██████████| 7/7 [00:05<00:00,  1.29it/s]\n",
      "Training (13796 / 18000 Steps) (loss=0.36132): 100%|██████████| 7/7 [00:05<00:00,  1.26it/s]\n",
      "Validate (13797 / 10 Steps): 100%|██████████| 2/2 [00:04<00:00,  2.19s/it]<00:03,  1.01it/s]\n",
      "Training (13800 / 18000 Steps) (loss=0.54285):  57%|█████▋    | 4/7 [00:08<00:07,  2.51s/it]"
     ]
    },
    {
     "name": "stdout",
     "output_type": "stream",
     "text": [
      "Model Was Not Saved ! Current Best Avg. Dice: 0.3125263750553131 Current Avg. Dice: 0.2781694829463959 Current Avg. tumor Dice: 0.35095179080963135 Current Avg. lymph Dice: 0.2053871601819992\n"
     ]
    },
    {
     "name": "stderr",
     "output_type": "stream",
     "text": [
      "Training (13803 / 18000 Steps) (loss=0.56856): 100%|██████████| 7/7 [00:09<00:00,  1.40s/it]\n",
      "Training (13810 / 18000 Steps) (loss=0.41022): 100%|██████████| 7/7 [00:05<00:00,  1.32it/s]\n",
      "Training (13817 / 18000 Steps) (loss=0.37864): 100%|██████████| 7/7 [00:05<00:00,  1.34it/s]\n",
      "Training (13824 / 18000 Steps) (loss=0.47913): 100%|██████████| 7/7 [00:05<00:00,  1.30it/s]\n",
      "Training (13831 / 18000 Steps) (loss=0.32331): 100%|██████████| 7/7 [00:05<00:00,  1.24it/s]\n",
      "Training (13838 / 18000 Steps) (loss=0.55044): 100%|██████████| 7/7 [00:05<00:00,  1.30it/s]\n",
      "Training (13845 / 18000 Steps) (loss=0.24983): 100%|██████████| 7/7 [00:05<00:00,  1.31it/s]\n",
      "Training (13852 / 18000 Steps) (loss=0.57974): 100%|██████████| 7/7 [00:05<00:00,  1.23it/s]\n",
      "Training (13859 / 18000 Steps) (loss=0.47192): 100%|██████████| 7/7 [00:05<00:00,  1.28it/s]\n",
      "Training (13866 / 18000 Steps) (loss=0.67847): 100%|██████████| 7/7 [00:05<00:00,  1.20it/s]\n",
      "Training (13873 / 18000 Steps) (loss=0.45820): 100%|██████████| 7/7 [00:05<00:00,  1.32it/s]\n",
      "Training (13880 / 18000 Steps) (loss=0.57273): 100%|██████████| 7/7 [00:05<00:00,  1.28it/s]\n",
      "Training (13887 / 18000 Steps) (loss=0.44744): 100%|██████████| 7/7 [00:05<00:00,  1.31it/s]\n",
      "Training (13894 / 18000 Steps) (loss=0.32883): 100%|██████████| 7/7 [00:05<00:00,  1.26it/s]\n",
      "Validate (13895 / 10 Steps): 100%|██████████| 2/2 [00:04<00:00,  2.16s/it]<00:01,  1.58it/s]\n",
      "Training (13900 / 18000 Steps) (loss=0.37998):  86%|████████▌ | 6/7 [00:09<00:02,  2.04s/it]"
     ]
    },
    {
     "name": "stdout",
     "output_type": "stream",
     "text": [
      "Model Was Not Saved ! Current Best Avg. Dice: 0.3125263750553131 Current Avg. Dice: 0.2843257188796997 Current Avg. tumor Dice: 0.3309216797351837 Current Avg. lymph Dice: 0.2377297282218933\n"
     ]
    },
    {
     "name": "stderr",
     "output_type": "stream",
     "text": [
      "Training (13901 / 18000 Steps) (loss=0.42010): 100%|██████████| 7/7 [00:09<00:00,  1.39s/it]\n",
      "Training (13908 / 18000 Steps) (loss=0.54084): 100%|██████████| 7/7 [00:05<00:00,  1.32it/s]\n",
      "Training (13915 / 18000 Steps) (loss=0.41106): 100%|██████████| 7/7 [00:05<00:00,  1.30it/s]\n",
      "Training (13922 / 18000 Steps) (loss=0.56213): 100%|██████████| 7/7 [00:05<00:00,  1.33it/s]\n",
      "Training (13929 / 18000 Steps) (loss=0.40635): 100%|██████████| 7/7 [00:05<00:00,  1.33it/s]\n",
      "Training (13936 / 18000 Steps) (loss=0.46716): 100%|██████████| 7/7 [00:05<00:00,  1.27it/s]\n",
      "Training (13943 / 18000 Steps) (loss=0.18325): 100%|██████████| 7/7 [00:05<00:00,  1.22it/s]\n",
      "Training (13950 / 18000 Steps) (loss=0.49714): 100%|██████████| 7/7 [00:05<00:00,  1.32it/s]\n",
      "Training (13957 / 18000 Steps) (loss=0.65424): 100%|██████████| 7/7 [00:05<00:00,  1.20it/s]\n",
      "Training (13964 / 18000 Steps) (loss=0.55183): 100%|██████████| 7/7 [00:05<00:00,  1.28it/s]\n",
      "Training (13971 / 18000 Steps) (loss=0.53290): 100%|██████████| 7/7 [00:05<00:00,  1.25it/s]\n",
      "Training (13978 / 18000 Steps) (loss=0.31712): 100%|██████████| 7/7 [00:05<00:00,  1.32it/s]\n",
      "Training (13985 / 18000 Steps) (loss=0.34671): 100%|██████████| 7/7 [00:05<00:00,  1.30it/s]\n",
      "Training (13992 / 18000 Steps) (loss=0.55139): 100%|██████████| 7/7 [00:05<00:00,  1.24it/s]\n",
      "Training (13999 / 18000 Steps) (loss=0.36588): 100%|██████████| 7/7 [00:05<00:00,  1.28it/s]\n",
      "Validate (14000 / 10 Steps): 100%|██████████| 2/2 [00:04<00:00,  2.22s/it]<?, ?it/s]\n",
      "Training (14000 / 18000 Steps) (loss=0.56885):  14%|█▍        | 1/7 [00:07<00:45,  7.64s/it]"
     ]
    },
    {
     "name": "stdout",
     "output_type": "stream",
     "text": [
      "Model Was Not Saved ! Current Best Avg. Dice: 0.3125263750553131 Current Avg. Dice: 0.2683197557926178 Current Avg. tumor Dice: 0.32803875207901 Current Avg. lymph Dice: 0.20860075950622559\n"
     ]
    },
    {
     "name": "stderr",
     "output_type": "stream",
     "text": [
      "Training (14006 / 18000 Steps) (loss=0.26322): 100%|██████████| 7/7 [00:10<00:00,  1.44s/it]\n",
      "Training (14013 / 18000 Steps) (loss=0.28152): 100%|██████████| 7/7 [00:05<00:00,  1.33it/s]\n",
      "Training (14020 / 18000 Steps) (loss=0.33780): 100%|██████████| 7/7 [00:05<00:00,  1.26it/s]\n",
      "Training (14027 / 18000 Steps) (loss=0.37680): 100%|██████████| 7/7 [00:05<00:00,  1.24it/s]\n",
      "Training (14034 / 18000 Steps) (loss=0.41136): 100%|██████████| 7/7 [00:05<00:00,  1.29it/s]\n",
      "Training (14041 / 18000 Steps) (loss=0.38934): 100%|██████████| 7/7 [00:05<00:00,  1.33it/s]\n",
      "Training (14048 / 18000 Steps) (loss=0.47717): 100%|██████████| 7/7 [00:05<00:00,  1.28it/s]\n",
      "Training (14055 / 18000 Steps) (loss=0.50923): 100%|██████████| 7/7 [00:05<00:00,  1.25it/s]\n",
      "Training (14062 / 18000 Steps) (loss=0.33251): 100%|██████████| 7/7 [00:05<00:00,  1.33it/s]\n",
      "Training (14069 / 18000 Steps) (loss=0.53723): 100%|██████████| 7/7 [00:05<00:00,  1.23it/s]\n",
      "Training (14076 / 18000 Steps) (loss=0.37274): 100%|██████████| 7/7 [00:05<00:00,  1.28it/s]\n",
      "Training (14083 / 18000 Steps) (loss=0.49779): 100%|██████████| 7/7 [00:05<00:00,  1.29it/s]\n",
      "Training (14090 / 18000 Steps) (loss=0.45225): 100%|██████████| 7/7 [00:05<00:00,  1.35it/s]\n",
      "Training (14097 / 18000 Steps) (loss=0.55486): 100%|██████████| 7/7 [00:05<00:00,  1.27it/s]\n",
      "Validate (14098 / 10 Steps): 100%|██████████| 2/2 [00:04<00:00,  2.14s/it]<00:07,  1.43s/it]\n",
      "Training (14100 / 18000 Steps) (loss=0.40696):  43%|████▎     | 3/7 [00:08<00:11,  2.95s/it]"
     ]
    },
    {
     "name": "stdout",
     "output_type": "stream",
     "text": [
      "Model Was Not Saved ! Current Best Avg. Dice: 0.3125263750553131 Current Avg. Dice: 0.2926900386810303 Current Avg. tumor Dice: 0.3673163652420044 Current Avg. lymph Dice: 0.21806371212005615\n"
     ]
    },
    {
     "name": "stderr",
     "output_type": "stream",
     "text": [
      "Training (14104 / 18000 Steps) (loss=0.57118): 100%|██████████| 7/7 [00:09<00:00,  1.37s/it]\n",
      "Training (14111 / 18000 Steps) (loss=0.61694): 100%|██████████| 7/7 [00:05<00:00,  1.28it/s]\n",
      "Training (14118 / 18000 Steps) (loss=0.46934): 100%|██████████| 7/7 [00:05<00:00,  1.27it/s]\n",
      "Training (14125 / 18000 Steps) (loss=0.36015): 100%|██████████| 7/7 [00:05<00:00,  1.30it/s]\n",
      "Training (14132 / 18000 Steps) (loss=0.55683): 100%|██████████| 7/7 [00:05<00:00,  1.31it/s]\n",
      "Training (14139 / 18000 Steps) (loss=0.31665): 100%|██████████| 7/7 [00:05<00:00,  1.30it/s]\n",
      "Training (14146 / 18000 Steps) (loss=0.35795): 100%|██████████| 7/7 [00:05<00:00,  1.29it/s]\n",
      "Training (14153 / 18000 Steps) (loss=0.53804): 100%|██████████| 7/7 [00:05<00:00,  1.31it/s]\n",
      "Training (14160 / 18000 Steps) (loss=0.45941): 100%|██████████| 7/7 [00:05<00:00,  1.25it/s]\n",
      "Training (14167 / 18000 Steps) (loss=0.17731): 100%|██████████| 7/7 [00:05<00:00,  1.32it/s]\n",
      "Training (14174 / 18000 Steps) (loss=0.54764): 100%|██████████| 7/7 [00:05<00:00,  1.32it/s]\n",
      "Training (14181 / 18000 Steps) (loss=0.39448): 100%|██████████| 7/7 [00:05<00:00,  1.28it/s]\n",
      "Training (14188 / 18000 Steps) (loss=0.42094): 100%|██████████| 7/7 [00:05<00:00,  1.29it/s]\n",
      "Training (14195 / 18000 Steps) (loss=0.55493): 100%|██████████| 7/7 [00:05<00:00,  1.24it/s]\n",
      "Validate (14196 / 10 Steps): 100%|██████████| 2/2 [00:04<00:00,  2.20s/it]<00:02,  1.32it/s]\n",
      "Training (14200 / 18000 Steps) (loss=0.39909):  71%|███████▏  | 5/7 [00:09<00:04,  2.24s/it]"
     ]
    },
    {
     "name": "stdout",
     "output_type": "stream",
     "text": [
      "Model Was Not Saved ! Current Best Avg. Dice: 0.3125263750553131 Current Avg. Dice: 0.30000174045562744 Current Avg. tumor Dice: 0.3528289794921875 Current Avg. lymph Dice: 0.247174471616745\n"
     ]
    },
    {
     "name": "stderr",
     "output_type": "stream",
     "text": [
      "Training (14202 / 18000 Steps) (loss=0.61806): 100%|██████████| 7/7 [00:09<00:00,  1.40s/it]\n",
      "Training (14209 / 18000 Steps) (loss=0.56936): 100%|██████████| 7/7 [00:05<00:00,  1.32it/s]\n",
      "Training (14216 / 18000 Steps) (loss=0.27206): 100%|██████████| 7/7 [00:05<00:00,  1.23it/s]\n",
      "Training (14223 / 18000 Steps) (loss=0.55419): 100%|██████████| 7/7 [00:05<00:00,  1.25it/s]\n",
      "Training (14230 / 18000 Steps) (loss=0.49774): 100%|██████████| 7/7 [00:05<00:00,  1.24it/s]\n",
      "Training (14237 / 18000 Steps) (loss=0.30977): 100%|██████████| 7/7 [00:05<00:00,  1.25it/s]\n",
      "Training (14244 / 18000 Steps) (loss=0.29209): 100%|██████████| 7/7 [00:05<00:00,  1.31it/s]\n",
      "Training (14251 / 18000 Steps) (loss=0.43504): 100%|██████████| 7/7 [00:05<00:00,  1.33it/s]\n",
      "Training (14258 / 18000 Steps) (loss=0.40333): 100%|██████████| 7/7 [00:05<00:00,  1.26it/s]\n",
      "Training (14265 / 18000 Steps) (loss=0.42888): 100%|██████████| 7/7 [00:05<00:00,  1.17it/s]\n",
      "Training (14272 / 18000 Steps) (loss=0.53076): 100%|██████████| 7/7 [00:05<00:00,  1.29it/s]\n",
      "Training (14279 / 18000 Steps) (loss=0.46128): 100%|██████████| 7/7 [00:05<00:00,  1.27it/s]\n",
      "Training (14286 / 18000 Steps) (loss=0.39359): 100%|██████████| 7/7 [00:05<00:00,  1.23it/s]\n",
      "Training (14293 / 18000 Steps) (loss=0.47311): 100%|██████████| 7/7 [00:05<00:00,  1.25it/s]\n",
      "Validate (14294 / 10 Steps): 100%|██████████| 2/2 [00:04<00:00,  2.18s/it]<00:00,  1.77it/s]\n",
      "Training (14300 / 18000 Steps) (loss=0.35420): 100%|██████████| 7/7 [00:09<00:00,  1.41s/it]\n"
     ]
    },
    {
     "name": "stdout",
     "output_type": "stream",
     "text": [
      "Model Was Not Saved ! Current Best Avg. Dice: 0.3125263750553131 Current Avg. Dice: 0.2890281677246094 Current Avg. tumor Dice: 0.3890473246574402 Current Avg. lymph Dice: 0.18900901079177856\n"
     ]
    },
    {
     "name": "stderr",
     "output_type": "stream",
     "text": [
      "Training (14307 / 18000 Steps) (loss=0.48669): 100%|██████████| 7/7 [00:05<00:00,  1.26it/s]\n",
      "Training (14314 / 18000 Steps) (loss=0.49828): 100%|██████████| 7/7 [00:05<00:00,  1.32it/s]\n",
      "Training (14321 / 18000 Steps) (loss=0.54695): 100%|██████████| 7/7 [00:05<00:00,  1.32it/s]\n",
      "Training (14328 / 18000 Steps) (loss=0.35038): 100%|██████████| 7/7 [00:05<00:00,  1.35it/s]\n",
      "Training (14335 / 18000 Steps) (loss=0.42584): 100%|██████████| 7/7 [00:05<00:00,  1.38it/s]\n",
      "Training (14342 / 18000 Steps) (loss=0.34412): 100%|██████████| 7/7 [00:05<00:00,  1.32it/s]\n",
      "Training (14349 / 18000 Steps) (loss=0.48601): 100%|██████████| 7/7 [00:05<00:00,  1.32it/s]\n",
      "Training (14356 / 18000 Steps) (loss=0.36451): 100%|██████████| 7/7 [00:05<00:00,  1.30it/s]\n",
      "Training (14363 / 18000 Steps) (loss=0.43783): 100%|██████████| 7/7 [00:05<00:00,  1.32it/s]\n",
      "Training (14370 / 18000 Steps) (loss=0.34255): 100%|██████████| 7/7 [00:05<00:00,  1.24it/s]\n",
      "Training (14377 / 18000 Steps) (loss=0.39568): 100%|██████████| 7/7 [00:05<00:00,  1.33it/s]\n",
      "Training (14384 / 18000 Steps) (loss=0.32509): 100%|██████████| 7/7 [00:05<00:00,  1.21it/s]\n",
      "Training (14391 / 18000 Steps) (loss=0.44394): 100%|██████████| 7/7 [00:05<00:00,  1.30it/s]\n",
      "Training (14398 / 18000 Steps) (loss=0.35562): 100%|██████████| 7/7 [00:05<00:00,  1.24it/s]\n",
      "Validate (14399 / 10 Steps): 100%|██████████| 2/2 [00:04<00:00,  2.17s/it]<00:17,  2.96s/it]\n",
      "Training (14400 / 18000 Steps) (loss=0.47915):  29%|██▊       | 2/7 [00:07<00:20,  4.05s/it]"
     ]
    },
    {
     "name": "stdout",
     "output_type": "stream",
     "text": [
      "Model Was Not Saved ! Current Best Avg. Dice: 0.3125263750553131 Current Avg. Dice: 0.3043198883533478 Current Avg. tumor Dice: 0.3674369752407074 Current Avg. lymph Dice: 0.24120280146598816\n"
     ]
    },
    {
     "name": "stderr",
     "output_type": "stream",
     "text": [
      "Training (14405 / 18000 Steps) (loss=0.59999): 100%|██████████| 7/7 [00:09<00:00,  1.39s/it]\n",
      "Training (14412 / 18000 Steps) (loss=0.23176): 100%|██████████| 7/7 [00:05<00:00,  1.32it/s]\n",
      "Training (14419 / 18000 Steps) (loss=0.64846): 100%|██████████| 7/7 [00:05<00:00,  1.32it/s]\n",
      "Training (14426 / 18000 Steps) (loss=0.43575): 100%|██████████| 7/7 [00:05<00:00,  1.30it/s]\n",
      "Training (14433 / 18000 Steps) (loss=0.52379): 100%|██████████| 7/7 [00:05<00:00,  1.35it/s]\n",
      "Training (14440 / 18000 Steps) (loss=0.37240): 100%|██████████| 7/7 [00:05<00:00,  1.29it/s]\n",
      "Training (14447 / 18000 Steps) (loss=0.53387): 100%|██████████| 7/7 [00:05<00:00,  1.24it/s]\n",
      "Training (14454 / 18000 Steps) (loss=0.37671): 100%|██████████| 7/7 [00:05<00:00,  1.28it/s]\n",
      "Training (14461 / 18000 Steps) (loss=0.56732): 100%|██████████| 7/7 [00:05<00:00,  1.32it/s]\n",
      "Training (14468 / 18000 Steps) (loss=0.21456): 100%|██████████| 7/7 [00:05<00:00,  1.33it/s]\n",
      "Training (14475 / 18000 Steps) (loss=0.60620): 100%|██████████| 7/7 [00:05<00:00,  1.21it/s]\n",
      "Training (14482 / 18000 Steps) (loss=0.66956): 100%|██████████| 7/7 [00:05<00:00,  1.34it/s]\n",
      "Training (14489 / 18000 Steps) (loss=0.45684): 100%|██████████| 7/7 [00:05<00:00,  1.26it/s]\n",
      "Training (14496 / 18000 Steps) (loss=0.36720): 100%|██████████| 7/7 [00:05<00:00,  1.30it/s]\n",
      "Validate (14497 / 10 Steps): 100%|██████████| 2/2 [00:04<00:00,  2.15s/it]<00:04,  1.02s/it]\n",
      "Training (14500 / 18000 Steps) (loss=0.50968):  57%|█████▋    | 4/7 [00:09<00:08,  2.77s/it]"
     ]
    },
    {
     "name": "stdout",
     "output_type": "stream",
     "text": [
      "Model Was Saved ! Current Best Avg. Dice: 0.31303155422210693 Current Avg. Dice: 0.31303155422210693 Current Avg. tumor Dice: 0.384975403547287 Current Avg. lymph Dice: 0.24108770489692688\n"
     ]
    },
    {
     "name": "stderr",
     "output_type": "stream",
     "text": [
      "Training (14503 / 18000 Steps) (loss=0.37582): 100%|██████████| 7/7 [00:10<00:00,  1.51s/it]\n",
      "Training (14510 / 18000 Steps) (loss=0.55134): 100%|██████████| 7/7 [00:05<00:00,  1.31it/s]\n",
      "Training (14517 / 18000 Steps) (loss=0.36772): 100%|██████████| 7/7 [00:05<00:00,  1.24it/s]\n",
      "Training (14524 / 18000 Steps) (loss=0.45833): 100%|██████████| 7/7 [00:05<00:00,  1.23it/s]\n",
      "Training (14531 / 18000 Steps) (loss=0.29252): 100%|██████████| 7/7 [00:05<00:00,  1.26it/s]\n",
      "Training (14538 / 18000 Steps) (loss=0.43051): 100%|██████████| 7/7 [00:06<00:00,  1.15it/s]\n",
      "Training (14545 / 18000 Steps) (loss=0.31247): 100%|██████████| 7/7 [00:05<00:00,  1.28it/s]\n",
      "Training (14552 / 18000 Steps) (loss=0.45787): 100%|██████████| 7/7 [00:05<00:00,  1.30it/s]\n",
      "Training (14559 / 18000 Steps) (loss=0.32196): 100%|██████████| 7/7 [00:05<00:00,  1.28it/s]\n",
      "Training (14566 / 18000 Steps) (loss=0.48067): 100%|██████████| 7/7 [00:05<00:00,  1.28it/s]\n",
      "Training (14573 / 18000 Steps) (loss=0.66679): 100%|██████████| 7/7 [00:05<00:00,  1.30it/s]\n",
      "Training (14580 / 18000 Steps) (loss=0.49720): 100%|██████████| 7/7 [00:05<00:00,  1.31it/s]\n",
      "Training (14587 / 18000 Steps) (loss=0.60062): 100%|██████████| 7/7 [00:05<00:00,  1.25it/s]\n",
      "Training (14594 / 18000 Steps) (loss=0.48465): 100%|██████████| 7/7 [00:05<00:00,  1.30it/s]\n",
      "Validate (14595 / 10 Steps): 100%|██████████| 2/2 [00:04<00:00,  2.15s/it]<00:01,  1.51it/s]\n",
      "Training (14600 / 18000 Steps) (loss=0.56125):  86%|████████▌ | 6/7 [00:09<00:02,  2.06s/it]"
     ]
    },
    {
     "name": "stdout",
     "output_type": "stream",
     "text": [
      "Model Was Not Saved ! Current Best Avg. Dice: 0.31303155422210693 Current Avg. Dice: 0.24899157881736755 Current Avg. tumor Dice: 0.37588924169540405 Current Avg. lymph Dice: 0.12209390848875046\n"
     ]
    },
    {
     "name": "stderr",
     "output_type": "stream",
     "text": [
      "Training (14601 / 18000 Steps) (loss=0.50461): 100%|██████████| 7/7 [00:10<00:00,  1.43s/it]\n",
      "Training (14608 / 18000 Steps) (loss=0.52425): 100%|██████████| 7/7 [00:05<00:00,  1.27it/s]\n",
      "Training (14615 / 18000 Steps) (loss=0.53524): 100%|██████████| 7/7 [00:05<00:00,  1.29it/s]\n",
      "Training (14622 / 18000 Steps) (loss=0.26249): 100%|██████████| 7/7 [00:05<00:00,  1.26it/s]\n",
      "Training (14629 / 18000 Steps) (loss=0.38091): 100%|██████████| 7/7 [00:05<00:00,  1.28it/s]\n",
      "Training (14636 / 18000 Steps) (loss=0.53973): 100%|██████████| 7/7 [00:05<00:00,  1.31it/s]\n",
      "Training (14643 / 18000 Steps) (loss=0.46928): 100%|██████████| 7/7 [00:05<00:00,  1.30it/s]\n",
      "Training (14650 / 18000 Steps) (loss=0.36491): 100%|██████████| 7/7 [00:05<00:00,  1.26it/s]\n",
      "Training (14657 / 18000 Steps) (loss=0.47855): 100%|██████████| 7/7 [00:05<00:00,  1.25it/s]\n",
      "Training (14664 / 18000 Steps) (loss=0.55527): 100%|██████████| 7/7 [00:05<00:00,  1.23it/s]\n",
      "Training (14671 / 18000 Steps) (loss=0.45098): 100%|██████████| 7/7 [00:05<00:00,  1.33it/s]\n",
      "Training (14678 / 18000 Steps) (loss=0.63348): 100%|██████████| 7/7 [00:05<00:00,  1.34it/s]\n",
      "Training (14685 / 18000 Steps) (loss=0.20840): 100%|██████████| 7/7 [00:05<00:00,  1.34it/s]\n",
      "Training (14692 / 18000 Steps) (loss=0.33244): 100%|██████████| 7/7 [00:05<00:00,  1.26it/s]\n",
      "Training (14699 / 18000 Steps) (loss=0.47456): 100%|██████████| 7/7 [00:05<00:00,  1.33it/s]\n",
      "Validate (14700 / 10 Steps): 100%|██████████| 2/2 [00:04<00:00,  2.12s/it]<?, ?it/s]\n",
      "Training (14700 / 18000 Steps) (loss=0.41462):  14%|█▍        | 1/7 [00:07<00:44,  7.35s/it]"
     ]
    },
    {
     "name": "stdout",
     "output_type": "stream",
     "text": [
      "Model Was Not Saved ! Current Best Avg. Dice: 0.31303155422210693 Current Avg. Dice: 0.2872255742549896 Current Avg. tumor Dice: 0.3397851884365082 Current Avg. lymph Dice: 0.23466597497463226\n"
     ]
    },
    {
     "name": "stderr",
     "output_type": "stream",
     "text": [
      "Training (14706 / 18000 Steps) (loss=0.54405): 100%|██████████| 7/7 [00:09<00:00,  1.39s/it]\n",
      "Training (14713 / 18000 Steps) (loss=0.60767): 100%|██████████| 7/7 [00:05<00:00,  1.27it/s]\n",
      "Training (14720 / 18000 Steps) (loss=0.43059): 100%|██████████| 7/7 [00:05<00:00,  1.30it/s]\n",
      "Training (14727 / 18000 Steps) (loss=0.52793): 100%|██████████| 7/7 [00:05<00:00,  1.33it/s]\n",
      "Training (14734 / 18000 Steps) (loss=0.36547): 100%|██████████| 7/7 [00:05<00:00,  1.27it/s]\n",
      "Training (14741 / 18000 Steps) (loss=0.44930): 100%|██████████| 7/7 [00:05<00:00,  1.33it/s]\n",
      "Training (14748 / 18000 Steps) (loss=0.42449): 100%|██████████| 7/7 [00:05<00:00,  1.25it/s]\n",
      "Training (14755 / 18000 Steps) (loss=0.18253): 100%|██████████| 7/7 [00:05<00:00,  1.28it/s]\n",
      "Training (14762 / 18000 Steps) (loss=0.45950): 100%|██████████| 7/7 [00:05<00:00,  1.32it/s]\n",
      "Training (14769 / 18000 Steps) (loss=0.55179): 100%|██████████| 7/7 [00:05<00:00,  1.33it/s]\n",
      "Training (14776 / 18000 Steps) (loss=0.28505): 100%|██████████| 7/7 [00:05<00:00,  1.22it/s]\n",
      "Training (14783 / 18000 Steps) (loss=0.35102): 100%|██████████| 7/7 [00:05<00:00,  1.25it/s]\n",
      "Training (14790 / 18000 Steps) (loss=0.36697): 100%|██████████| 7/7 [00:05<00:00,  1.31it/s]\n",
      "Training (14797 / 18000 Steps) (loss=0.25939): 100%|██████████| 7/7 [00:05<00:00,  1.30it/s]\n",
      "Validate (14798 / 10 Steps): 100%|██████████| 2/2 [00:04<00:00,  2.10s/it]<00:07,  1.46s/it]\n",
      "Training (14800 / 18000 Steps) (loss=0.48188):  43%|████▎     | 3/7 [00:08<00:11,  2.93s/it]"
     ]
    },
    {
     "name": "stdout",
     "output_type": "stream",
     "text": [
      "Model Was Not Saved ! Current Best Avg. Dice: 0.31303155422210693 Current Avg. Dice: 0.2725059390068054 Current Avg. tumor Dice: 0.3500613570213318 Current Avg. lymph Dice: 0.19495049118995667\n"
     ]
    },
    {
     "name": "stderr",
     "output_type": "stream",
     "text": [
      "Training (14804 / 18000 Steps) (loss=0.36428): 100%|██████████| 7/7 [00:09<00:00,  1.37s/it]\n",
      "Training (14811 / 18000 Steps) (loss=0.63041): 100%|██████████| 7/7 [00:05<00:00,  1.23it/s]\n",
      "Training (14818 / 18000 Steps) (loss=0.48921): 100%|██████████| 7/7 [00:05<00:00,  1.33it/s]\n",
      "Training (14825 / 18000 Steps) (loss=0.42965): 100%|██████████| 7/7 [00:05<00:00,  1.34it/s]\n",
      "Training (14832 / 18000 Steps) (loss=0.25551): 100%|██████████| 7/7 [00:05<00:00,  1.26it/s]\n",
      "Training (14839 / 18000 Steps) (loss=0.22537): 100%|██████████| 7/7 [00:05<00:00,  1.23it/s]\n",
      "Training (14846 / 18000 Steps) (loss=0.33066): 100%|██████████| 7/7 [00:05<00:00,  1.31it/s]\n",
      "Training (14853 / 18000 Steps) (loss=0.56582): 100%|██████████| 7/7 [00:05<00:00,  1.30it/s]\n",
      "Training (14860 / 18000 Steps) (loss=0.58398): 100%|██████████| 7/7 [00:05<00:00,  1.33it/s]\n",
      "Training (14867 / 18000 Steps) (loss=0.49063): 100%|██████████| 7/7 [00:05<00:00,  1.34it/s]\n",
      "Training (14874 / 18000 Steps) (loss=0.39653): 100%|██████████| 7/7 [00:05<00:00,  1.29it/s]\n",
      "Training (14881 / 18000 Steps) (loss=0.36946): 100%|██████████| 7/7 [00:05<00:00,  1.25it/s]\n",
      "Training (14888 / 18000 Steps) (loss=0.38225): 100%|██████████| 7/7 [00:05<00:00,  1.34it/s]\n",
      "Training (14895 / 18000 Steps) (loss=0.24562): 100%|██████████| 7/7 [00:05<00:00,  1.29it/s]\n",
      "Validate (14896 / 10 Steps): 100%|██████████| 2/2 [00:04<00:00,  2.20s/it]<00:02,  1.26it/s]\n",
      "Training (14900 / 18000 Steps) (loss=0.47066):  71%|███████▏  | 5/7 [00:09<00:04,  2.26s/it]"
     ]
    },
    {
     "name": "stdout",
     "output_type": "stream",
     "text": [
      "Model Was Not Saved ! Current Best Avg. Dice: 0.31303155422210693 Current Avg. Dice: 0.28633907437324524 Current Avg. tumor Dice: 0.38181647658348083 Current Avg. lymph Dice: 0.19086167216300964\n"
     ]
    },
    {
     "name": "stderr",
     "output_type": "stream",
     "text": [
      "Training (14902 / 18000 Steps) (loss=0.43105): 100%|██████████| 7/7 [00:10<00:00,  1.44s/it]\n",
      "Training (14909 / 18000 Steps) (loss=0.40845): 100%|██████████| 7/7 [00:05<00:00,  1.30it/s]\n",
      "Training (14916 / 18000 Steps) (loss=0.24256): 100%|██████████| 7/7 [00:05<00:00,  1.29it/s]\n",
      "Training (14923 / 18000 Steps) (loss=0.48556): 100%|██████████| 7/7 [00:05<00:00,  1.32it/s]\n",
      "Training (14930 / 18000 Steps) (loss=0.39114): 100%|██████████| 7/7 [00:05<00:00,  1.28it/s]\n",
      "Training (14937 / 18000 Steps) (loss=0.50346): 100%|██████████| 7/7 [00:05<00:00,  1.27it/s]\n",
      "Training (14944 / 18000 Steps) (loss=0.41554): 100%|██████████| 7/7 [00:05<00:00,  1.31it/s]\n",
      "Training (14951 / 18000 Steps) (loss=0.44107): 100%|██████████| 7/7 [00:05<00:00,  1.30it/s]\n",
      "Training (14958 / 18000 Steps) (loss=0.33848): 100%|██████████| 7/7 [00:05<00:00,  1.28it/s]\n",
      "Training (14965 / 18000 Steps) (loss=0.27148): 100%|██████████| 7/7 [00:05<00:00,  1.35it/s]\n",
      "Training (14972 / 18000 Steps) (loss=0.55622): 100%|██████████| 7/7 [00:05<00:00,  1.33it/s]\n",
      "Training (14979 / 18000 Steps) (loss=0.17491): 100%|██████████| 7/7 [00:05<00:00,  1.26it/s]\n",
      "Training (14986 / 18000 Steps) (loss=0.35208): 100%|██████████| 7/7 [00:05<00:00,  1.24it/s]\n",
      "Training (14993 / 18000 Steps) (loss=0.39790): 100%|██████████| 7/7 [00:05<00:00,  1.26it/s]\n",
      "Validate (14994 / 10 Steps): 100%|██████████| 2/2 [00:04<00:00,  2.10s/it]<00:00,  1.82it/s]\n",
      "Training (15000 / 18000 Steps) (loss=0.31200): 100%|██████████| 7/7 [00:09<00:00,  1.34s/it]\n"
     ]
    },
    {
     "name": "stdout",
     "output_type": "stream",
     "text": [
      "Model Was Not Saved ! Current Best Avg. Dice: 0.31303155422210693 Current Avg. Dice: 0.29057615995407104 Current Avg. tumor Dice: 0.3606434464454651 Current Avg. lymph Dice: 0.22050884366035461\n"
     ]
    },
    {
     "name": "stderr",
     "output_type": "stream",
     "text": [
      "Training (15007 / 18000 Steps) (loss=0.43489): 100%|██████████| 7/7 [00:05<00:00,  1.30it/s]\n",
      "Training (15014 / 18000 Steps) (loss=0.31704): 100%|██████████| 7/7 [00:05<00:00,  1.33it/s]\n",
      "Training (15021 / 18000 Steps) (loss=0.55693): 100%|██████████| 7/7 [00:05<00:00,  1.25it/s]\n",
      "Training (15028 / 18000 Steps) (loss=0.35906): 100%|██████████| 7/7 [00:05<00:00,  1.26it/s]\n",
      "Training (15035 / 18000 Steps) (loss=0.50248): 100%|██████████| 7/7 [00:05<00:00,  1.37it/s]\n",
      "Training (15042 / 18000 Steps) (loss=0.42183): 100%|██████████| 7/7 [00:05<00:00,  1.29it/s]\n",
      "Training (15049 / 18000 Steps) (loss=0.52309): 100%|██████████| 7/7 [00:05<00:00,  1.25it/s]\n",
      "Training (15056 / 18000 Steps) (loss=0.45102): 100%|██████████| 7/7 [00:05<00:00,  1.28it/s]\n",
      "Training (15063 / 18000 Steps) (loss=0.44172): 100%|██████████| 7/7 [00:05<00:00,  1.23it/s]\n",
      "Training (15070 / 18000 Steps) (loss=0.46168): 100%|██████████| 7/7 [00:05<00:00,  1.25it/s]\n",
      "Training (15077 / 18000 Steps) (loss=0.52788): 100%|██████████| 7/7 [00:05<00:00,  1.31it/s]\n",
      "Training (15084 / 18000 Steps) (loss=0.51589): 100%|██████████| 7/7 [00:05<00:00,  1.36it/s]\n",
      "Training (15091 / 18000 Steps) (loss=0.30619): 100%|██████████| 7/7 [00:05<00:00,  1.28it/s]\n",
      "Training (15098 / 18000 Steps) (loss=0.46000): 100%|██████████| 7/7 [00:05<00:00,  1.29it/s]\n",
      "Validate (15099 / 10 Steps): 100%|██████████| 2/2 [00:04<00:00,  2.08s/it]<00:18,  3.06s/it]\n",
      "Training (15100 / 18000 Steps) (loss=0.46822):  29%|██▊       | 2/7 [00:07<00:19,  3.99s/it]"
     ]
    },
    {
     "name": "stdout",
     "output_type": "stream",
     "text": [
      "Model Was Not Saved ! Current Best Avg. Dice: 0.31303155422210693 Current Avg. Dice: 0.2746581435203552 Current Avg. tumor Dice: 0.3242611587047577 Current Avg. lymph Dice: 0.22505514323711395\n"
     ]
    },
    {
     "name": "stderr",
     "output_type": "stream",
     "text": [
      "Training (15105 / 18000 Steps) (loss=0.33261): 100%|██████████| 7/7 [00:09<00:00,  1.39s/it]\n",
      "Training (15112 / 18000 Steps) (loss=0.43577): 100%|██████████| 7/7 [00:05<00:00,  1.29it/s]\n",
      "Training (15119 / 18000 Steps) (loss=0.56208): 100%|██████████| 7/7 [00:05<00:00,  1.33it/s]\n",
      "Training (15126 / 18000 Steps) (loss=0.36704): 100%|██████████| 7/7 [00:05<00:00,  1.25it/s]\n",
      "Training (15133 / 18000 Steps) (loss=0.53698): 100%|██████████| 7/7 [00:05<00:00,  1.24it/s]\n",
      "Training (15140 / 18000 Steps) (loss=0.66059): 100%|██████████| 7/7 [00:05<00:00,  1.27it/s]\n",
      "Training (15147 / 18000 Steps) (loss=0.36862): 100%|██████████| 7/7 [00:05<00:00,  1.33it/s]\n",
      "Training (15154 / 18000 Steps) (loss=0.62439): 100%|██████████| 7/7 [00:05<00:00,  1.27it/s]\n",
      "Training (15161 / 18000 Steps) (loss=0.57651): 100%|██████████| 7/7 [00:05<00:00,  1.25it/s]\n",
      "Training (15168 / 18000 Steps) (loss=0.51693): 100%|██████████| 7/7 [00:05<00:00,  1.29it/s]\n",
      "Training (15175 / 18000 Steps) (loss=0.40653): 100%|██████████| 7/7 [00:05<00:00,  1.28it/s]\n",
      "Training (15182 / 18000 Steps) (loss=0.59175): 100%|██████████| 7/7 [00:05<00:00,  1.27it/s]\n",
      "Training (15189 / 18000 Steps) (loss=0.35304): 100%|██████████| 7/7 [00:05<00:00,  1.26it/s]\n",
      "Training (15196 / 18000 Steps) (loss=0.56350): 100%|██████████| 7/7 [00:05<00:00,  1.29it/s]\n",
      "Validate (15197 / 10 Steps): 100%|██████████| 2/2 [00:04<00:00,  2.11s/it]<00:04,  1.02s/it]\n",
      "Training (15200 / 18000 Steps) (loss=0.33236):  57%|█████▋    | 4/7 [00:08<00:07,  2.47s/it]"
     ]
    },
    {
     "name": "stdout",
     "output_type": "stream",
     "text": [
      "Model Was Not Saved ! Current Best Avg. Dice: 0.31303155422210693 Current Avg. Dice: 0.2543242275714874 Current Avg. tumor Dice: 0.36460691690444946 Current Avg. lymph Dice: 0.14404156804084778\n"
     ]
    },
    {
     "name": "stderr",
     "output_type": "stream",
     "text": [
      "Training (15203 / 18000 Steps) (loss=0.47680): 100%|██████████| 7/7 [00:09<00:00,  1.40s/it]\n",
      "Training (15210 / 18000 Steps) (loss=0.36246): 100%|██████████| 7/7 [00:05<00:00,  1.25it/s]\n",
      "Training (15217 / 18000 Steps) (loss=0.36703): 100%|██████████| 7/7 [00:05<00:00,  1.31it/s]\n",
      "Training (15224 / 18000 Steps) (loss=0.45676): 100%|██████████| 7/7 [00:05<00:00,  1.29it/s]\n",
      "Training (15231 / 18000 Steps) (loss=0.36970): 100%|██████████| 7/7 [00:05<00:00,  1.29it/s]\n",
      "Training (15238 / 18000 Steps) (loss=0.55746): 100%|██████████| 7/7 [00:05<00:00,  1.27it/s]\n",
      "Training (15245 / 18000 Steps) (loss=0.25826): 100%|██████████| 7/7 [00:05<00:00,  1.26it/s]\n",
      "Training (15252 / 18000 Steps) (loss=0.51699): 100%|██████████| 7/7 [00:05<00:00,  1.23it/s]\n",
      "Training (15259 / 18000 Steps) (loss=0.50692): 100%|██████████| 7/7 [00:05<00:00,  1.28it/s]\n",
      "Training (15266 / 18000 Steps) (loss=0.45990): 100%|██████████| 7/7 [00:05<00:00,  1.28it/s]\n",
      "Training (15273 / 18000 Steps) (loss=0.41635): 100%|██████████| 7/7 [00:05<00:00,  1.25it/s]\n",
      "Training (15280 / 18000 Steps) (loss=0.35520): 100%|██████████| 7/7 [00:05<00:00,  1.32it/s]\n",
      "Training (15287 / 18000 Steps) (loss=0.43347): 100%|██████████| 7/7 [00:05<00:00,  1.25it/s]\n",
      "Training (15294 / 18000 Steps) (loss=0.45517): 100%|██████████| 7/7 [00:05<00:00,  1.25it/s]\n",
      "Validate (15295 / 10 Steps): 100%|██████████| 2/2 [00:04<00:00,  2.16s/it]<00:01,  1.55it/s]\n",
      "Training (15300 / 18000 Steps) (loss=0.60678):  86%|████████▌ | 6/7 [00:10<00:02,  2.31s/it]"
     ]
    },
    {
     "name": "stdout",
     "output_type": "stream",
     "text": [
      "Model Was Saved ! Current Best Avg. Dice: 0.3162791132926941 Current Avg. Dice: 0.3162791132926941 Current Avg. tumor Dice: 0.4102932810783386 Current Avg. lymph Dice: 0.22226494550704956\n"
     ]
    },
    {
     "name": "stderr",
     "output_type": "stream",
     "text": [
      "Training (15301 / 18000 Steps) (loss=0.48219): 100%|██████████| 7/7 [00:10<00:00,  1.51s/it]\n",
      "Training (15308 / 18000 Steps) (loss=0.31350): 100%|██████████| 7/7 [00:05<00:00,  1.28it/s]\n",
      "Training (15315 / 18000 Steps) (loss=0.47161): 100%|██████████| 7/7 [00:05<00:00,  1.17it/s]\n",
      "Training (15322 / 18000 Steps) (loss=0.65601): 100%|██████████| 7/7 [00:05<00:00,  1.29it/s]\n",
      "Training (15329 / 18000 Steps) (loss=0.43473): 100%|██████████| 7/7 [00:05<00:00,  1.31it/s]\n",
      "Training (15336 / 18000 Steps) (loss=0.40768): 100%|██████████| 7/7 [00:05<00:00,  1.24it/s]\n",
      "Training (15343 / 18000 Steps) (loss=0.15180): 100%|██████████| 7/7 [00:05<00:00,  1.28it/s]\n",
      "Training (15350 / 18000 Steps) (loss=0.42522): 100%|██████████| 7/7 [00:05<00:00,  1.24it/s]\n",
      "Training (15357 / 18000 Steps) (loss=0.55133): 100%|██████████| 7/7 [00:05<00:00,  1.25it/s]\n",
      "Training (15364 / 18000 Steps) (loss=0.30905): 100%|██████████| 7/7 [00:05<00:00,  1.30it/s]\n",
      "Training (15371 / 18000 Steps) (loss=0.41983): 100%|██████████| 7/7 [00:05<00:00,  1.28it/s]\n",
      "Training (15378 / 18000 Steps) (loss=0.46750): 100%|██████████| 7/7 [00:05<00:00,  1.30it/s]\n",
      "Training (15385 / 18000 Steps) (loss=0.28028): 100%|██████████| 7/7 [00:05<00:00,  1.23it/s]\n",
      "Training (15392 / 18000 Steps) (loss=0.58496): 100%|██████████| 7/7 [00:05<00:00,  1.28it/s]\n",
      "Training (15399 / 18000 Steps) (loss=0.34091): 100%|██████████| 7/7 [00:05<00:00,  1.27it/s]\n",
      "Validate (15400 / 10 Steps): 100%|██████████| 2/2 [00:04<00:00,  2.14s/it]<?, ?it/s]\n",
      "Training (15400 / 18000 Steps) (loss=0.30613):  14%|█▍        | 1/7 [00:07<00:44,  7.41s/it]"
     ]
    },
    {
     "name": "stdout",
     "output_type": "stream",
     "text": [
      "Model Was Not Saved ! Current Best Avg. Dice: 0.3162791132926941 Current Avg. Dice: 0.2987678349018097 Current Avg. tumor Dice: 0.3633883595466614 Current Avg. lymph Dice: 0.234147310256958\n"
     ]
    },
    {
     "name": "stderr",
     "output_type": "stream",
     "text": [
      "Training (15406 / 18000 Steps) (loss=0.37195): 100%|██████████| 7/7 [00:09<00:00,  1.40s/it]\n",
      "Training (15413 / 18000 Steps) (loss=0.56224): 100%|██████████| 7/7 [00:05<00:00,  1.29it/s]\n",
      "Training (15420 / 18000 Steps) (loss=0.45516): 100%|██████████| 7/7 [00:05<00:00,  1.30it/s]\n",
      "Training (15427 / 18000 Steps) (loss=0.30696): 100%|██████████| 7/7 [00:05<00:00,  1.24it/s]\n",
      "Training (15434 / 18000 Steps) (loss=0.35649): 100%|██████████| 7/7 [00:05<00:00,  1.26it/s]\n",
      "Training (15441 / 18000 Steps) (loss=0.46535): 100%|██████████| 7/7 [00:05<00:00,  1.36it/s]\n",
      "Training (15448 / 18000 Steps) (loss=0.42763): 100%|██████████| 7/7 [00:05<00:00,  1.35it/s]\n",
      "Training (15455 / 18000 Steps) (loss=0.53955): 100%|██████████| 7/7 [00:05<00:00,  1.34it/s]\n",
      "Training (15462 / 18000 Steps) (loss=0.66857): 100%|██████████| 7/7 [00:05<00:00,  1.29it/s]\n",
      "Training (15469 / 18000 Steps) (loss=0.44952): 100%|██████████| 7/7 [00:05<00:00,  1.34it/s]\n",
      "Training (15476 / 18000 Steps) (loss=0.46589): 100%|██████████| 7/7 [00:05<00:00,  1.26it/s]\n",
      "Training (15483 / 18000 Steps) (loss=0.47712): 100%|██████████| 7/7 [00:05<00:00,  1.32it/s]\n",
      "Training (15490 / 18000 Steps) (loss=0.31042): 100%|██████████| 7/7 [00:05<00:00,  1.30it/s]\n",
      "Training (15497 / 18000 Steps) (loss=0.32153): 100%|██████████| 7/7 [00:05<00:00,  1.31it/s]\n",
      "Validate (15498 / 10 Steps): 100%|██████████| 2/2 [00:04<00:00,  2.16s/it]<00:08,  1.61s/it]\n",
      "Training (15500 / 18000 Steps) (loss=0.51678):  43%|████▎     | 3/7 [00:08<00:12,  3.06s/it]"
     ]
    },
    {
     "name": "stdout",
     "output_type": "stream",
     "text": [
      "Model Was Not Saved ! Current Best Avg. Dice: 0.3162791132926941 Current Avg. Dice: 0.3114851713180542 Current Avg. tumor Dice: 0.37393245100975037 Current Avg. lymph Dice: 0.2490379512310028\n"
     ]
    },
    {
     "name": "stderr",
     "output_type": "stream",
     "text": [
      "Training (15504 / 18000 Steps) (loss=0.49893): 100%|██████████| 7/7 [00:10<00:00,  1.44s/it]\n",
      "Training (15511 / 18000 Steps) (loss=0.32753): 100%|██████████| 7/7 [00:05<00:00,  1.25it/s]\n",
      "Training (15518 / 18000 Steps) (loss=0.46164): 100%|██████████| 7/7 [00:05<00:00,  1.31it/s]\n",
      "Training (15525 / 18000 Steps) (loss=0.36544): 100%|██████████| 7/7 [00:05<00:00,  1.27it/s]\n",
      "Training (15532 / 18000 Steps) (loss=0.25375): 100%|██████████| 7/7 [00:05<00:00,  1.33it/s]\n",
      "Training (15539 / 18000 Steps) (loss=0.57700): 100%|██████████| 7/7 [00:05<00:00,  1.27it/s]\n",
      "Training (15546 / 18000 Steps) (loss=0.41894): 100%|██████████| 7/7 [00:05<00:00,  1.26it/s]\n",
      "Training (15553 / 18000 Steps) (loss=0.30262): 100%|██████████| 7/7 [00:05<00:00,  1.28it/s]\n",
      "Training (15560 / 18000 Steps) (loss=0.60475): 100%|██████████| 7/7 [00:05<00:00,  1.30it/s]\n",
      "Training (15567 / 18000 Steps) (loss=0.27822): 100%|██████████| 7/7 [00:05<00:00,  1.30it/s]\n",
      "Training (15574 / 18000 Steps) (loss=0.39583): 100%|██████████| 7/7 [00:05<00:00,  1.25it/s]\n",
      "Training (15581 / 18000 Steps) (loss=0.40595): 100%|██████████| 7/7 [00:05<00:00,  1.21it/s]\n",
      "Training (15588 / 18000 Steps) (loss=0.50135): 100%|██████████| 7/7 [00:05<00:00,  1.29it/s]\n",
      "Training (15595 / 18000 Steps) (loss=0.52902): 100%|██████████| 7/7 [00:05<00:00,  1.25it/s]\n",
      "Validate (15596 / 10 Steps): 100%|██████████| 2/2 [00:04<00:00,  2.24s/it]<00:02,  1.33it/s]\n",
      "Training (15600 / 18000 Steps) (loss=0.45266):  71%|███████▏  | 5/7 [00:09<00:04,  2.26s/it]"
     ]
    },
    {
     "name": "stdout",
     "output_type": "stream",
     "text": [
      "Model Was Not Saved ! Current Best Avg. Dice: 0.3162791132926941 Current Avg. Dice: 0.3147599995136261 Current Avg. tumor Dice: 0.3679031729698181 Current Avg. lymph Dice: 0.2616168260574341\n"
     ]
    },
    {
     "name": "stderr",
     "output_type": "stream",
     "text": [
      "Training (15602 / 18000 Steps) (loss=0.44778): 100%|██████████| 7/7 [00:09<00:00,  1.40s/it]\n",
      "Training (15609 / 18000 Steps) (loss=0.35910): 100%|██████████| 7/7 [00:05<00:00,  1.35it/s]\n",
      "Training (15616 / 18000 Steps) (loss=0.32049): 100%|██████████| 7/7 [00:05<00:00,  1.29it/s]\n",
      "Training (15623 / 18000 Steps) (loss=0.55440): 100%|██████████| 7/7 [00:05<00:00,  1.35it/s]\n",
      "Training (15630 / 18000 Steps) (loss=0.62531): 100%|██████████| 7/7 [00:05<00:00,  1.33it/s]\n",
      "Training (15637 / 18000 Steps) (loss=0.55950): 100%|██████████| 7/7 [00:05<00:00,  1.28it/s]\n",
      "Training (15644 / 18000 Steps) (loss=0.41465): 100%|██████████| 7/7 [00:05<00:00,  1.34it/s]\n",
      "Training (15651 / 18000 Steps) (loss=0.23145): 100%|██████████| 7/7 [00:05<00:00,  1.35it/s]\n",
      "Training (15658 / 18000 Steps) (loss=0.29124): 100%|██████████| 7/7 [00:05<00:00,  1.38it/s]\n",
      "Training (15665 / 18000 Steps) (loss=0.42738): 100%|██████████| 7/7 [00:05<00:00,  1.40it/s]\n",
      "Training (15672 / 18000 Steps) (loss=0.50948): 100%|██████████| 7/7 [00:05<00:00,  1.31it/s]\n",
      "Training (15679 / 18000 Steps) (loss=0.53273): 100%|██████████| 7/7 [00:05<00:00,  1.31it/s]\n",
      "Training (15686 / 18000 Steps) (loss=0.46800): 100%|██████████| 7/7 [00:05<00:00,  1.25it/s]\n",
      "Training (15693 / 18000 Steps) (loss=0.44451): 100%|██████████| 7/7 [00:05<00:00,  1.32it/s]\n",
      "Validate (15694 / 10 Steps): 100%|██████████| 2/2 [00:04<00:00,  2.17s/it]<00:00,  1.72it/s]\n",
      "Training (15700 / 18000 Steps) (loss=0.33584): 100%|██████████| 7/7 [00:10<00:00,  1.45s/it]\n"
     ]
    },
    {
     "name": "stdout",
     "output_type": "stream",
     "text": [
      "Model Was Not Saved ! Current Best Avg. Dice: 0.3162791132926941 Current Avg. Dice: 0.29593876004219055 Current Avg. tumor Dice: 0.36701568961143494 Current Avg. lymph Dice: 0.22486187517642975\n"
     ]
    },
    {
     "name": "stderr",
     "output_type": "stream",
     "text": [
      "Training (15707 / 18000 Steps) (loss=0.24714): 100%|██████████| 7/7 [00:05<00:00,  1.25it/s]\n",
      "Training (15714 / 18000 Steps) (loss=0.31698): 100%|██████████| 7/7 [00:05<00:00,  1.32it/s]\n",
      "Training (15721 / 18000 Steps) (loss=0.28722): 100%|██████████| 7/7 [00:05<00:00,  1.30it/s]\n",
      "Training (15728 / 18000 Steps) (loss=0.44059): 100%|██████████| 7/7 [00:05<00:00,  1.29it/s]\n",
      "Training (15735 / 18000 Steps) (loss=0.40428): 100%|██████████| 7/7 [00:05<00:00,  1.23it/s]\n",
      "Training (15742 / 18000 Steps) (loss=0.22377): 100%|██████████| 7/7 [00:05<00:00,  1.32it/s]\n",
      "Training (15749 / 18000 Steps) (loss=0.25794): 100%|██████████| 7/7 [00:05<00:00,  1.25it/s]\n",
      "Training (15756 / 18000 Steps) (loss=0.35483): 100%|██████████| 7/7 [00:05<00:00,  1.29it/s]\n",
      "Training (15763 / 18000 Steps) (loss=0.49727): 100%|██████████| 7/7 [00:05<00:00,  1.28it/s]\n",
      "Training (15770 / 18000 Steps) (loss=0.47188): 100%|██████████| 7/7 [00:05<00:00,  1.33it/s]\n",
      "Training (15777 / 18000 Steps) (loss=0.46329): 100%|██████████| 7/7 [00:05<00:00,  1.30it/s]\n",
      "Training (15784 / 18000 Steps) (loss=0.41330): 100%|██████████| 7/7 [00:05<00:00,  1.26it/s]\n",
      "Training (15791 / 18000 Steps) (loss=0.47121): 100%|██████████| 7/7 [00:05<00:00,  1.32it/s]\n",
      "Training (15798 / 18000 Steps) (loss=0.45712): 100%|██████████| 7/7 [00:05<00:00,  1.29it/s]\n",
      "Validate (15799 / 10 Steps): 100%|██████████| 2/2 [00:04<00:00,  2.17s/it]<00:17,  2.87s/it]\n",
      "Training (15800 / 18000 Steps) (loss=0.46834):  29%|██▊       | 2/7 [00:07<00:20,  4.01s/it]"
     ]
    },
    {
     "name": "stdout",
     "output_type": "stream",
     "text": [
      "Model Was Not Saved ! Current Best Avg. Dice: 0.3162791132926941 Current Avg. Dice: 0.31081533432006836 Current Avg. tumor Dice: 0.39017385244369507 Current Avg. lymph Dice: 0.23145681619644165\n"
     ]
    },
    {
     "name": "stderr",
     "output_type": "stream",
     "text": [
      "Training (15805 / 18000 Steps) (loss=0.61879): 100%|██████████| 7/7 [00:09<00:00,  1.38s/it]\n",
      "Training (15812 / 18000 Steps) (loss=0.30625): 100%|██████████| 7/7 [00:05<00:00,  1.23it/s]\n",
      "Training (15819 / 18000 Steps) (loss=0.48974): 100%|██████████| 7/7 [00:05<00:00,  1.29it/s]\n",
      "Training (15826 / 18000 Steps) (loss=0.24569): 100%|██████████| 7/7 [00:05<00:00,  1.26it/s]\n",
      "Training (15833 / 18000 Steps) (loss=0.39467): 100%|██████████| 7/7 [00:05<00:00,  1.32it/s]\n",
      "Training (15840 / 18000 Steps) (loss=0.24296): 100%|██████████| 7/7 [00:05<00:00,  1.29it/s]\n",
      "Training (15847 / 18000 Steps) (loss=0.46866): 100%|██████████| 7/7 [00:05<00:00,  1.27it/s]\n",
      "Training (15854 / 18000 Steps) (loss=0.40754): 100%|██████████| 7/7 [00:05<00:00,  1.34it/s]\n",
      "Training (15861 / 18000 Steps) (loss=0.39109): 100%|██████████| 7/7 [00:05<00:00,  1.31it/s]\n",
      "Training (15868 / 18000 Steps) (loss=0.33167): 100%|██████████| 7/7 [00:05<00:00,  1.29it/s]\n",
      "Training (15875 / 18000 Steps) (loss=0.43600): 100%|██████████| 7/7 [00:05<00:00,  1.25it/s]\n",
      "Training (15882 / 18000 Steps) (loss=0.21827): 100%|██████████| 7/7 [00:05<00:00,  1.29it/s]\n",
      "Training (15889 / 18000 Steps) (loss=0.42739): 100%|██████████| 7/7 [00:05<00:00,  1.29it/s]\n",
      "Training (15896 / 18000 Steps) (loss=0.22164): 100%|██████████| 7/7 [00:05<00:00,  1.23it/s]\n",
      "Validate (15897 / 10 Steps): 100%|██████████| 2/2 [00:04<00:00,  2.18s/it]<00:04,  1.08s/it]\n",
      "Training (15900 / 18000 Steps) (loss=0.43307):  57%|█████▋    | 4/7 [00:09<00:07,  2.56s/it]"
     ]
    },
    {
     "name": "stdout",
     "output_type": "stream",
     "text": [
      "Model Was Not Saved ! Current Best Avg. Dice: 0.3162791132926941 Current Avg. Dice: 0.31610816717147827 Current Avg. tumor Dice: 0.4079505503177643 Current Avg. lymph Dice: 0.22426578402519226\n"
     ]
    },
    {
     "name": "stderr",
     "output_type": "stream",
     "text": [
      "Training (15903 / 18000 Steps) (loss=0.33656): 100%|██████████| 7/7 [00:10<00:00,  1.46s/it]\n",
      "Training (15910 / 18000 Steps) (loss=0.47517): 100%|██████████| 7/7 [00:05<00:00,  1.33it/s]\n",
      "Training (15917 / 18000 Steps) (loss=0.54691): 100%|██████████| 7/7 [00:05<00:00,  1.30it/s]\n",
      "Training (15924 / 18000 Steps) (loss=0.37557): 100%|██████████| 7/7 [00:05<00:00,  1.30it/s]\n",
      "Training (15931 / 18000 Steps) (loss=0.52836): 100%|██████████| 7/7 [00:05<00:00,  1.24it/s]\n",
      "Training (15938 / 18000 Steps) (loss=0.42084): 100%|██████████| 7/7 [00:05<00:00,  1.32it/s]\n",
      "Training (15945 / 18000 Steps) (loss=0.54526): 100%|██████████| 7/7 [00:05<00:00,  1.23it/s]\n",
      "Training (15952 / 18000 Steps) (loss=0.66679): 100%|██████████| 7/7 [00:05<00:00,  1.33it/s]\n",
      "Training (15959 / 18000 Steps) (loss=0.39792): 100%|██████████| 7/7 [00:05<00:00,  1.30it/s]\n",
      "Training (15966 / 18000 Steps) (loss=0.55778): 100%|██████████| 7/7 [00:05<00:00,  1.28it/s]\n",
      "Training (15973 / 18000 Steps) (loss=0.24937): 100%|██████████| 7/7 [00:05<00:00,  1.35it/s]\n",
      "Training (15980 / 18000 Steps) (loss=0.50891): 100%|██████████| 7/7 [00:05<00:00,  1.26it/s]\n",
      "Training (15987 / 18000 Steps) (loss=0.30111): 100%|██████████| 7/7 [00:05<00:00,  1.31it/s]\n",
      "Training (15994 / 18000 Steps) (loss=0.32686): 100%|██████████| 7/7 [00:05<00:00,  1.30it/s]\n",
      "Validate (15995 / 10 Steps): 100%|██████████| 2/2 [00:04<00:00,  2.20s/it]<00:01,  1.52it/s]\n",
      "Training (16000 / 18000 Steps) (loss=0.45354):  86%|████████▌ | 6/7 [00:09<00:02,  2.10s/it]"
     ]
    },
    {
     "name": "stdout",
     "output_type": "stream",
     "text": [
      "Model Was Not Saved ! Current Best Avg. Dice: 0.3162791132926941 Current Avg. Dice: 0.28325629234313965 Current Avg. tumor Dice: 0.3409731686115265 Current Avg. lymph Dice: 0.2255394011735916\n"
     ]
    },
    {
     "name": "stderr",
     "output_type": "stream",
     "text": [
      "Training (16001 / 18000 Steps) (loss=0.17396): 100%|██████████| 7/7 [00:10<00:00,  1.44s/it]\n",
      "Training (16008 / 18000 Steps) (loss=0.47980): 100%|██████████| 7/7 [00:05<00:00,  1.30it/s]\n",
      "Training (16015 / 18000 Steps) (loss=0.60080): 100%|██████████| 7/7 [00:05<00:00,  1.27it/s]\n",
      "Training (16022 / 18000 Steps) (loss=0.47641): 100%|██████████| 7/7 [00:05<00:00,  1.25it/s]\n",
      "Training (16029 / 18000 Steps) (loss=0.43612): 100%|██████████| 7/7 [00:05<00:00,  1.30it/s]\n",
      "Training (16036 / 18000 Steps) (loss=0.32712): 100%|██████████| 7/7 [00:05<00:00,  1.26it/s]\n",
      "Training (16043 / 18000 Steps) (loss=0.30822): 100%|██████████| 7/7 [00:05<00:00,  1.26it/s]\n",
      "Training (16050 / 18000 Steps) (loss=0.46182): 100%|██████████| 7/7 [00:05<00:00,  1.31it/s]\n",
      "Training (16057 / 18000 Steps) (loss=0.24102): 100%|██████████| 7/7 [00:05<00:00,  1.28it/s]\n",
      "Training (16064 / 18000 Steps) (loss=0.31972): 100%|██████████| 7/7 [00:05<00:00,  1.28it/s]\n",
      "Training (16071 / 18000 Steps) (loss=0.43788): 100%|██████████| 7/7 [00:05<00:00,  1.28it/s]\n",
      "Training (16078 / 18000 Steps) (loss=0.32624): 100%|██████████| 7/7 [00:05<00:00,  1.26it/s]\n",
      "Training (16085 / 18000 Steps) (loss=0.40096): 100%|██████████| 7/7 [00:05<00:00,  1.35it/s]\n",
      "Training (16092 / 18000 Steps) (loss=0.45222): 100%|██████████| 7/7 [00:05<00:00,  1.28it/s]\n",
      "Training (16099 / 18000 Steps) (loss=0.45488): 100%|██████████| 7/7 [00:05<00:00,  1.34it/s]\n",
      "Validate (16100 / 10 Steps): 100%|██████████| 2/2 [00:04<00:00,  2.19s/it]<?, ?it/s]\n",
      "Training (16100 / 18000 Steps) (loss=0.50548):  14%|█▍        | 1/7 [00:08<00:48,  8.15s/it]"
     ]
    },
    {
     "name": "stdout",
     "output_type": "stream",
     "text": [
      "Model Was Saved ! Current Best Avg. Dice: 0.3168645203113556 Current Avg. Dice: 0.3168645203113556 Current Avg. tumor Dice: 0.3957686424255371 Current Avg. lymph Dice: 0.23796042799949646\n"
     ]
    },
    {
     "name": "stderr",
     "output_type": "stream",
     "text": [
      "Training (16106 / 18000 Steps) (loss=0.22320): 100%|██████████| 7/7 [00:10<00:00,  1.50s/it]\n",
      "Training (16113 / 18000 Steps) (loss=0.33481): 100%|██████████| 7/7 [00:05<00:00,  1.26it/s]\n",
      "Training (16120 / 18000 Steps) (loss=0.48687): 100%|██████████| 7/7 [00:05<00:00,  1.25it/s]\n",
      "Training (16127 / 18000 Steps) (loss=0.31997): 100%|██████████| 7/7 [00:05<00:00,  1.31it/s]\n",
      "Training (16134 / 18000 Steps) (loss=0.22125): 100%|██████████| 7/7 [00:05<00:00,  1.29it/s]\n",
      "Training (16141 / 18000 Steps) (loss=0.41758): 100%|██████████| 7/7 [00:05<00:00,  1.26it/s]\n",
      "Training (16148 / 18000 Steps) (loss=0.35368): 100%|██████████| 7/7 [00:05<00:00,  1.28it/s]\n",
      "Training (16155 / 18000 Steps) (loss=0.36249): 100%|██████████| 7/7 [00:05<00:00,  1.23it/s]\n",
      "Training (16162 / 18000 Steps) (loss=0.55336): 100%|██████████| 7/7 [00:05<00:00,  1.34it/s]\n",
      "Training (16169 / 18000 Steps) (loss=0.43978): 100%|██████████| 7/7 [00:05<00:00,  1.20it/s]\n",
      "Training (16176 / 18000 Steps) (loss=0.44078): 100%|██████████| 7/7 [00:05<00:00,  1.29it/s]\n",
      "Training (16183 / 18000 Steps) (loss=0.54621): 100%|██████████| 7/7 [00:05<00:00,  1.23it/s]\n",
      "Training (16190 / 18000 Steps) (loss=0.43273): 100%|██████████| 7/7 [00:05<00:00,  1.27it/s]\n",
      "Training (16197 / 18000 Steps) (loss=0.42611): 100%|██████████| 7/7 [00:05<00:00,  1.29it/s]\n",
      "Validate (16198 / 10 Steps): 100%|██████████| 2/2 [00:04<00:00,  2.26s/it]<00:07,  1.49s/it]\n",
      "Training (16200 / 18000 Steps) (loss=0.24471):  43%|████▎     | 3/7 [00:08<00:12,  3.08s/it]"
     ]
    },
    {
     "name": "stdout",
     "output_type": "stream",
     "text": [
      "Model Was Not Saved ! Current Best Avg. Dice: 0.3168645203113556 Current Avg. Dice: 0.2998173236846924 Current Avg. tumor Dice: 0.38284537196159363 Current Avg. lymph Dice: 0.21678929030895233\n"
     ]
    },
    {
     "name": "stderr",
     "output_type": "stream",
     "text": [
      "Training (16204 / 18000 Steps) (loss=0.52953): 100%|██████████| 7/7 [00:10<00:00,  1.43s/it]\n",
      "Training (16211 / 18000 Steps) (loss=0.32673): 100%|██████████| 7/7 [00:05<00:00,  1.27it/s]\n",
      "Training (16218 / 18000 Steps) (loss=0.48723): 100%|██████████| 7/7 [00:05<00:00,  1.23it/s]\n",
      "Training (16225 / 18000 Steps) (loss=0.45869): 100%|██████████| 7/7 [00:05<00:00,  1.32it/s]\n",
      "Training (16232 / 18000 Steps) (loss=0.34879): 100%|██████████| 7/7 [00:05<00:00,  1.25it/s]\n",
      "Training (16239 / 18000 Steps) (loss=0.56226): 100%|██████████| 7/7 [00:05<00:00,  1.33it/s]\n",
      "Training (16246 / 18000 Steps) (loss=0.33649): 100%|██████████| 7/7 [00:05<00:00,  1.26it/s]\n",
      "Training (16253 / 18000 Steps) (loss=0.41485): 100%|██████████| 7/7 [00:05<00:00,  1.25it/s]\n",
      "Training (16260 / 18000 Steps) (loss=0.56219): 100%|██████████| 7/7 [00:05<00:00,  1.30it/s]\n",
      "Training (16267 / 18000 Steps) (loss=0.32425): 100%|██████████| 7/7 [00:05<00:00,  1.29it/s]\n",
      "Training (16274 / 18000 Steps) (loss=0.41379): 100%|██████████| 7/7 [00:05<00:00,  1.30it/s]\n",
      "Training (16281 / 18000 Steps) (loss=0.53546): 100%|██████████| 7/7 [00:05<00:00,  1.29it/s]\n",
      "Training (16288 / 18000 Steps) (loss=0.32544): 100%|██████████| 7/7 [00:05<00:00,  1.30it/s]\n",
      "Training (16295 / 18000 Steps) (loss=0.42392): 100%|██████████| 7/7 [00:05<00:00,  1.24it/s]\n",
      "Validate (16296 / 10 Steps): 100%|██████████| 2/2 [00:04<00:00,  2.16s/it]<00:02,  1.28it/s]\n",
      "Training (16300 / 18000 Steps) (loss=0.39001):  71%|███████▏  | 5/7 [00:09<00:04,  2.49s/it]"
     ]
    },
    {
     "name": "stdout",
     "output_type": "stream",
     "text": [
      "Model Was Saved ! Current Best Avg. Dice: 0.33468031883239746 Current Avg. Dice: 0.33468031883239746 Current Avg. tumor Dice: 0.41529351472854614 Current Avg. lymph Dice: 0.2540671229362488\n"
     ]
    },
    {
     "name": "stderr",
     "output_type": "stream",
     "text": [
      "Training (16302 / 18000 Steps) (loss=0.37655): 100%|██████████| 7/7 [00:10<00:00,  1.52s/it]\n",
      "Training (16309 / 18000 Steps) (loss=0.43026): 100%|██████████| 7/7 [00:05<00:00,  1.32it/s]\n",
      "Training (16316 / 18000 Steps) (loss=0.54414): 100%|██████████| 7/7 [00:05<00:00,  1.26it/s]\n",
      "Training (16323 / 18000 Steps) (loss=0.44769): 100%|██████████| 7/7 [00:05<00:00,  1.33it/s]\n",
      "Training (16330 / 18000 Steps) (loss=0.44594): 100%|██████████| 7/7 [00:05<00:00,  1.28it/s]\n",
      "Training (16337 / 18000 Steps) (loss=0.32213): 100%|██████████| 7/7 [00:05<00:00,  1.32it/s]\n",
      "Training (16344 / 18000 Steps) (loss=0.50244): 100%|██████████| 7/7 [00:05<00:00,  1.30it/s]\n",
      "Training (16351 / 18000 Steps) (loss=0.40979): 100%|██████████| 7/7 [00:05<00:00,  1.29it/s]\n",
      "Training (16358 / 18000 Steps) (loss=0.41872): 100%|██████████| 7/7 [00:05<00:00,  1.24it/s]\n",
      "Training (16365 / 18000 Steps) (loss=0.40821): 100%|██████████| 7/7 [00:05<00:00,  1.28it/s]\n",
      "Training (16372 / 18000 Steps) (loss=0.14592): 100%|██████████| 7/7 [00:05<00:00,  1.29it/s]\n",
      "Training (16379 / 18000 Steps) (loss=0.43181): 100%|██████████| 7/7 [00:05<00:00,  1.26it/s]\n",
      "Training (16386 / 18000 Steps) (loss=0.34163): 100%|██████████| 7/7 [00:05<00:00,  1.17it/s]\n",
      "Training (16393 / 18000 Steps) (loss=0.44390): 100%|██████████| 7/7 [00:05<00:00,  1.29it/s]\n",
      "Validate (16394 / 10 Steps): 100%|██████████| 2/2 [00:04<00:00,  2.21s/it]<00:00,  1.82it/s]\n",
      "Training (16400 / 18000 Steps) (loss=0.44551): 100%|██████████| 7/7 [00:09<00:00,  1.38s/it]\n"
     ]
    },
    {
     "name": "stdout",
     "output_type": "stream",
     "text": [
      "Model Was Not Saved ! Current Best Avg. Dice: 0.33468031883239746 Current Avg. Dice: 0.2993391752243042 Current Avg. tumor Dice: 0.3950096666812897 Current Avg. lymph Dice: 0.20366868376731873\n"
     ]
    },
    {
     "name": "stderr",
     "output_type": "stream",
     "text": [
      "Training (16407 / 18000 Steps) (loss=0.27041): 100%|██████████| 7/7 [00:05<00:00,  1.25it/s]\n",
      "Training (16414 / 18000 Steps) (loss=0.46906): 100%|██████████| 7/7 [00:05<00:00,  1.29it/s]\n",
      "Training (16421 / 18000 Steps) (loss=0.35026): 100%|██████████| 7/7 [00:05<00:00,  1.30it/s]\n",
      "Training (16428 / 18000 Steps) (loss=0.41871): 100%|██████████| 7/7 [00:05<00:00,  1.30it/s]\n",
      "Training (16435 / 18000 Steps) (loss=0.54609): 100%|██████████| 7/7 [00:05<00:00,  1.23it/s]\n",
      "Training (16442 / 18000 Steps) (loss=0.31306): 100%|██████████| 7/7 [00:05<00:00,  1.27it/s]\n",
      "Training (16449 / 18000 Steps) (loss=0.34778): 100%|██████████| 7/7 [00:05<00:00,  1.28it/s]\n",
      "Training (16456 / 18000 Steps) (loss=0.31303): 100%|██████████| 7/7 [00:05<00:00,  1.33it/s]\n",
      "Training (16463 / 18000 Steps) (loss=0.30927): 100%|██████████| 7/7 [00:05<00:00,  1.24it/s]\n",
      "Training (16470 / 18000 Steps) (loss=0.43675): 100%|██████████| 7/7 [00:05<00:00,  1.28it/s]\n",
      "Training (16477 / 18000 Steps) (loss=0.47810): 100%|██████████| 7/7 [00:05<00:00,  1.30it/s]\n",
      "Training (16484 / 18000 Steps) (loss=0.45442): 100%|██████████| 7/7 [00:05<00:00,  1.34it/s]\n",
      "Training (16491 / 18000 Steps) (loss=0.46791): 100%|██████████| 7/7 [00:05<00:00,  1.33it/s]\n",
      "Training (16498 / 18000 Steps) (loss=0.53825): 100%|██████████| 7/7 [00:05<00:00,  1.32it/s]\n",
      "Validate (16499 / 10 Steps): 100%|██████████| 2/2 [00:04<00:00,  2.17s/it]<00:19,  3.18s/it]\n",
      "Training (16500 / 18000 Steps) (loss=0.33390):  29%|██▊       | 2/7 [00:07<00:20,  4.13s/it]"
     ]
    },
    {
     "name": "stdout",
     "output_type": "stream",
     "text": [
      "Model Was Not Saved ! Current Best Avg. Dice: 0.33468031883239746 Current Avg. Dice: 0.2879168391227722 Current Avg. tumor Dice: 0.3820001482963562 Current Avg. lymph Dice: 0.19383352994918823\n"
     ]
    },
    {
     "name": "stderr",
     "output_type": "stream",
     "text": [
      "Training (16505 / 18000 Steps) (loss=0.46731): 100%|██████████| 7/7 [00:09<00:00,  1.42s/it]\n",
      "Training (16512 / 18000 Steps) (loss=0.50271): 100%|██████████| 7/7 [00:05<00:00,  1.22it/s]\n",
      "Training (16519 / 18000 Steps) (loss=0.16590): 100%|██████████| 7/7 [00:05<00:00,  1.27it/s]\n",
      "Training (16526 / 18000 Steps) (loss=0.55547): 100%|██████████| 7/7 [00:05<00:00,  1.33it/s]\n",
      "Training (16533 / 18000 Steps) (loss=0.34986): 100%|██████████| 7/7 [00:05<00:00,  1.30it/s]\n",
      "Training (16540 / 18000 Steps) (loss=0.52035): 100%|██████████| 7/7 [00:05<00:00,  1.28it/s]\n",
      "Training (16547 / 18000 Steps) (loss=0.53104): 100%|██████████| 7/7 [00:05<00:00,  1.24it/s]\n",
      "Training (16554 / 18000 Steps) (loss=0.54131): 100%|██████████| 7/7 [00:05<00:00,  1.30it/s]\n",
      "Training (16561 / 18000 Steps) (loss=0.40888): 100%|██████████| 7/7 [00:05<00:00,  1.30it/s]\n",
      "Training (16568 / 18000 Steps) (loss=0.40718): 100%|██████████| 7/7 [00:05<00:00,  1.30it/s]\n",
      "Training (16575 / 18000 Steps) (loss=0.56502): 100%|██████████| 7/7 [00:05<00:00,  1.28it/s]\n",
      "Training (16582 / 18000 Steps) (loss=0.35351): 100%|██████████| 7/7 [00:05<00:00,  1.27it/s]\n",
      "Training (16589 / 18000 Steps) (loss=0.37336): 100%|██████████| 7/7 [00:05<00:00,  1.26it/s]\n",
      "Training (16596 / 18000 Steps) (loss=0.54687): 100%|██████████| 7/7 [00:05<00:00,  1.32it/s]\n",
      "Validate (16597 / 10 Steps): 100%|██████████| 2/2 [00:04<00:00,  2.16s/it]<00:04,  1.00s/it]\n",
      "Training (16600 / 18000 Steps) (loss=0.35200):  57%|█████▋    | 4/7 [00:08<00:07,  2.50s/it]"
     ]
    },
    {
     "name": "stdout",
     "output_type": "stream",
     "text": [
      "Model Was Not Saved ! Current Best Avg. Dice: 0.33468031883239746 Current Avg. Dice: 0.2810518145561218 Current Avg. tumor Dice: 0.3784205913543701 Current Avg. lymph Dice: 0.18368303775787354\n"
     ]
    },
    {
     "name": "stderr",
     "output_type": "stream",
     "text": [
      "Training (16603 / 18000 Steps) (loss=0.40095): 100%|██████████| 7/7 [00:09<00:00,  1.40s/it]\n",
      "Training (16610 / 18000 Steps) (loss=0.53556): 100%|██████████| 7/7 [00:05<00:00,  1.26it/s]\n",
      "Training (16617 / 18000 Steps) (loss=0.55372): 100%|██████████| 7/7 [00:05<00:00,  1.36it/s]\n",
      "Training (16624 / 18000 Steps) (loss=0.43364): 100%|██████████| 7/7 [00:05<00:00,  1.28it/s]\n",
      "Training (16631 / 18000 Steps) (loss=0.57218): 100%|██████████| 7/7 [00:05<00:00,  1.28it/s]\n",
      "Training (16638 / 18000 Steps) (loss=0.20492): 100%|██████████| 7/7 [00:05<00:00,  1.28it/s]\n",
      "Training (16645 / 18000 Steps) (loss=0.37496): 100%|██████████| 7/7 [00:05<00:00,  1.26it/s]\n",
      "Training (16652 / 18000 Steps) (loss=0.34377): 100%|██████████| 7/7 [00:05<00:00,  1.26it/s]\n",
      "Training (16659 / 18000 Steps) (loss=0.54018): 100%|██████████| 7/7 [00:05<00:00,  1.31it/s]\n",
      "Training (16666 / 18000 Steps) (loss=0.53096): 100%|██████████| 7/7 [00:05<00:00,  1.24it/s]\n",
      "Training (16673 / 18000 Steps) (loss=0.33104): 100%|██████████| 7/7 [00:05<00:00,  1.28it/s]\n",
      "Training (16680 / 18000 Steps) (loss=0.46856): 100%|██████████| 7/7 [00:05<00:00,  1.30it/s]\n",
      "Training (16687 / 18000 Steps) (loss=0.43728): 100%|██████████| 7/7 [00:05<00:00,  1.35it/s]\n",
      "Training (16694 / 18000 Steps) (loss=0.45818): 100%|██████████| 7/7 [00:05<00:00,  1.27it/s]\n",
      "Validate (16695 / 10 Steps): 100%|██████████| 2/2 [00:04<00:00,  2.33s/it]<00:01,  1.55it/s]\n",
      "Training (16700 / 18000 Steps) (loss=0.32419):  86%|████████▌ | 6/7 [00:09<00:02,  2.17s/it]"
     ]
    },
    {
     "name": "stdout",
     "output_type": "stream",
     "text": [
      "Model Was Not Saved ! Current Best Avg. Dice: 0.33468031883239746 Current Avg. Dice: 0.3240683674812317 Current Avg. tumor Dice: 0.38995951414108276 Current Avg. lymph Dice: 0.25817716121673584\n"
     ]
    },
    {
     "name": "stderr",
     "output_type": "stream",
     "text": [
      "Training (16701 / 18000 Steps) (loss=0.43090): 100%|██████████| 7/7 [00:10<00:00,  1.45s/it]\n",
      "Training (16708 / 18000 Steps) (loss=0.35845): 100%|██████████| 7/7 [00:05<00:00,  1.26it/s]\n",
      "Training (16715 / 18000 Steps) (loss=0.42069): 100%|██████████| 7/7 [00:05<00:00,  1.27it/s]\n",
      "Training (16722 / 18000 Steps) (loss=0.40319): 100%|██████████| 7/7 [00:05<00:00,  1.24it/s]\n",
      "Training (16729 / 18000 Steps) (loss=0.34751): 100%|██████████| 7/7 [00:05<00:00,  1.31it/s]\n",
      "Training (16736 / 18000 Steps) (loss=0.31680): 100%|██████████| 7/7 [00:05<00:00,  1.27it/s]\n",
      "Training (16743 / 18000 Steps) (loss=0.29496): 100%|██████████| 7/7 [00:05<00:00,  1.32it/s]\n",
      "Training (16750 / 18000 Steps) (loss=0.53039): 100%|██████████| 7/7 [00:05<00:00,  1.24it/s]\n",
      "Training (16757 / 18000 Steps) (loss=0.37762): 100%|██████████| 7/7 [00:05<00:00,  1.28it/s]\n",
      "Training (16764 / 18000 Steps) (loss=0.47061): 100%|██████████| 7/7 [00:05<00:00,  1.23it/s]\n",
      "Training (16771 / 18000 Steps) (loss=0.51093): 100%|██████████| 7/7 [00:05<00:00,  1.26it/s]\n",
      "Training (16778 / 18000 Steps) (loss=0.48024): 100%|██████████| 7/7 [00:05<00:00,  1.28it/s]\n",
      "Training (16785 / 18000 Steps) (loss=0.51365): 100%|██████████| 7/7 [00:05<00:00,  1.32it/s]\n",
      "Training (16792 / 18000 Steps) (loss=0.35377): 100%|██████████| 7/7 [00:05<00:00,  1.29it/s]\n",
      "Training (16799 / 18000 Steps) (loss=0.33998): 100%|██████████| 7/7 [00:05<00:00,  1.34it/s]\n",
      "Validate (16800 / 10 Steps): 100%|██████████| 2/2 [00:04<00:00,  2.15s/it]<?, ?it/s]\n",
      "Training (16800 / 18000 Steps) (loss=0.36517):  14%|█▍        | 1/7 [00:07<00:43,  7.27s/it]"
     ]
    },
    {
     "name": "stdout",
     "output_type": "stream",
     "text": [
      "Model Was Not Saved ! Current Best Avg. Dice: 0.33468031883239746 Current Avg. Dice: 0.28765782713890076 Current Avg. tumor Dice: 0.33368825912475586 Current Avg. lymph Dice: 0.24162741005420685\n"
     ]
    },
    {
     "name": "stderr",
     "output_type": "stream",
     "text": [
      "Training (16806 / 18000 Steps) (loss=0.26278): 100%|██████████| 7/7 [00:09<00:00,  1.38s/it]\n",
      "Training (16813 / 18000 Steps) (loss=0.44741): 100%|██████████| 7/7 [00:05<00:00,  1.26it/s]\n",
      "Training (16820 / 18000 Steps) (loss=0.28009): 100%|██████████| 7/7 [00:05<00:00,  1.34it/s]\n",
      "Training (16827 / 18000 Steps) (loss=0.43914): 100%|██████████| 7/7 [00:05<00:00,  1.30it/s]\n",
      "Training (16834 / 18000 Steps) (loss=0.47085): 100%|██████████| 7/7 [00:05<00:00,  1.24it/s]\n",
      "Training (16841 / 18000 Steps) (loss=0.48167): 100%|██████████| 7/7 [00:05<00:00,  1.27it/s]\n",
      "Training (16848 / 18000 Steps) (loss=0.48978): 100%|██████████| 7/7 [00:05<00:00,  1.30it/s]\n",
      "Training (16855 / 18000 Steps) (loss=0.31000): 100%|██████████| 7/7 [00:05<00:00,  1.31it/s]\n",
      "Training (16862 / 18000 Steps) (loss=0.33787): 100%|██████████| 7/7 [00:05<00:00,  1.27it/s]\n",
      "Training (16869 / 18000 Steps) (loss=0.49530): 100%|██████████| 7/7 [00:05<00:00,  1.26it/s]\n",
      "Training (16876 / 18000 Steps) (loss=0.66865): 100%|██████████| 7/7 [00:05<00:00,  1.28it/s]\n",
      "Training (16883 / 18000 Steps) (loss=0.51152): 100%|██████████| 7/7 [00:05<00:00,  1.26it/s]\n",
      "Training (16890 / 18000 Steps) (loss=0.41169): 100%|██████████| 7/7 [00:05<00:00,  1.31it/s]\n",
      "Training (16897 / 18000 Steps) (loss=0.46065): 100%|██████████| 7/7 [00:05<00:00,  1.30it/s]\n",
      "Validate (16898 / 10 Steps): 100%|██████████| 2/2 [00:04<00:00,  2.15s/it]<00:07,  1.56s/it]\n",
      "Training (16900 / 18000 Steps) (loss=0.37936):  43%|████▎     | 3/7 [00:08<00:12,  3.02s/it]"
     ]
    },
    {
     "name": "stdout",
     "output_type": "stream",
     "text": [
      "Model Was Not Saved ! Current Best Avg. Dice: 0.33468031883239746 Current Avg. Dice: 0.2846952974796295 Current Avg. tumor Dice: 0.3417486548423767 Current Avg. lymph Dice: 0.22764194011688232\n"
     ]
    },
    {
     "name": "stderr",
     "output_type": "stream",
     "text": [
      "Training (16904 / 18000 Steps) (loss=0.28637): 100%|██████████| 7/7 [00:09<00:00,  1.42s/it]\n",
      "Training (16911 / 18000 Steps) (loss=0.29588): 100%|██████████| 7/7 [00:05<00:00,  1.23it/s]\n",
      "Training (16918 / 18000 Steps) (loss=0.50052): 100%|██████████| 7/7 [00:05<00:00,  1.29it/s]\n",
      "Training (16925 / 18000 Steps) (loss=0.34225): 100%|██████████| 7/7 [00:05<00:00,  1.25it/s]\n",
      "Training (16932 / 18000 Steps) (loss=0.42108): 100%|██████████| 7/7 [00:05<00:00,  1.22it/s]\n",
      "Training (16939 / 18000 Steps) (loss=0.45628): 100%|██████████| 7/7 [00:05<00:00,  1.24it/s]\n",
      "Training (16946 / 18000 Steps) (loss=0.45343): 100%|██████████| 7/7 [00:05<00:00,  1.25it/s]\n",
      "Training (16953 / 18000 Steps) (loss=0.38288): 100%|██████████| 7/7 [00:05<00:00,  1.32it/s]\n",
      "Training (16960 / 18000 Steps) (loss=0.29836): 100%|██████████| 7/7 [00:05<00:00,  1.32it/s]\n",
      "Training (16967 / 18000 Steps) (loss=0.42291): 100%|██████████| 7/7 [00:05<00:00,  1.28it/s]\n",
      "Training (16974 / 18000 Steps) (loss=0.32124): 100%|██████████| 7/7 [00:05<00:00,  1.25it/s]\n",
      "Training (16981 / 18000 Steps) (loss=0.41022): 100%|██████████| 7/7 [00:05<00:00,  1.27it/s]\n",
      "Training (16988 / 18000 Steps) (loss=0.45532): 100%|██████████| 7/7 [00:05<00:00,  1.33it/s]\n",
      "Training (16995 / 18000 Steps) (loss=0.18637): 100%|██████████| 7/7 [00:05<00:00,  1.26it/s]\n",
      "Validate (16996 / 10 Steps): 100%|██████████| 2/2 [00:04<00:00,  2.17s/it]<00:02,  1.33it/s]\n",
      "Training (17000 / 18000 Steps) (loss=0.45995):  71%|███████▏  | 5/7 [00:08<00:04,  2.21s/it]"
     ]
    },
    {
     "name": "stdout",
     "output_type": "stream",
     "text": [
      "Model Was Not Saved ! Current Best Avg. Dice: 0.33468031883239746 Current Avg. Dice: 0.3180876076221466 Current Avg. tumor Dice: 0.38921934366226196 Current Avg. lymph Dice: 0.24695590138435364\n"
     ]
    },
    {
     "name": "stderr",
     "output_type": "stream",
     "text": [
      "Training (17002 / 18000 Steps) (loss=0.41989): 100%|██████████| 7/7 [00:09<00:00,  1.38s/it]\n",
      "Training (17009 / 18000 Steps) (loss=0.38640): 100%|██████████| 7/7 [00:05<00:00,  1.24it/s]\n",
      "Training (17016 / 18000 Steps) (loss=0.44528): 100%|██████████| 7/7 [00:05<00:00,  1.27it/s]\n",
      "Training (17023 / 18000 Steps) (loss=0.51875): 100%|██████████| 7/7 [00:05<00:00,  1.31it/s]\n",
      "Training (17030 / 18000 Steps) (loss=0.48564): 100%|██████████| 7/7 [00:05<00:00,  1.23it/s]\n",
      "Training (17037 / 18000 Steps) (loss=0.48083): 100%|██████████| 7/7 [00:05<00:00,  1.36it/s]\n",
      "Training (17044 / 18000 Steps) (loss=0.39547): 100%|██████████| 7/7 [00:05<00:00,  1.21it/s]\n",
      "Training (17051 / 18000 Steps) (loss=0.43735): 100%|██████████| 7/7 [00:05<00:00,  1.30it/s]\n",
      "Training (17058 / 18000 Steps) (loss=0.27519): 100%|██████████| 7/7 [00:05<00:00,  1.22it/s]\n",
      "Training (17065 / 18000 Steps) (loss=0.53990): 100%|██████████| 7/7 [00:05<00:00,  1.31it/s]\n",
      "Training (17072 / 18000 Steps) (loss=0.66851): 100%|██████████| 7/7 [00:05<00:00,  1.29it/s]\n",
      "Training (17079 / 18000 Steps) (loss=0.48512): 100%|██████████| 7/7 [00:05<00:00,  1.29it/s]\n",
      "Training (17086 / 18000 Steps) (loss=0.53388): 100%|██████████| 7/7 [00:05<00:00,  1.31it/s]\n",
      "Training (17093 / 18000 Steps) (loss=0.45578): 100%|██████████| 7/7 [00:05<00:00,  1.32it/s]\n",
      "Validate (17094 / 10 Steps): 100%|██████████| 2/2 [00:04<00:00,  2.23s/it]<00:00,  1.73it/s]\n",
      "Training (17100 / 18000 Steps) (loss=0.47954): 100%|██████████| 7/7 [00:10<00:00,  1.46s/it]\n"
     ]
    },
    {
     "name": "stdout",
     "output_type": "stream",
     "text": [
      "Model Was Not Saved ! Current Best Avg. Dice: 0.33468031883239746 Current Avg. Dice: 0.29864102602005005 Current Avg. tumor Dice: 0.3819580674171448 Current Avg. lymph Dice: 0.21532398462295532\n"
     ]
    },
    {
     "name": "stderr",
     "output_type": "stream",
     "text": [
      "Training (17107 / 18000 Steps) (loss=0.45329): 100%|██████████| 7/7 [00:05<00:00,  1.32it/s]\n",
      "Training (17114 / 18000 Steps) (loss=0.40346): 100%|██████████| 7/7 [00:05<00:00,  1.28it/s]\n",
      "Training (17121 / 18000 Steps) (loss=0.38707): 100%|██████████| 7/7 [00:05<00:00,  1.28it/s]\n",
      "Training (17128 / 18000 Steps) (loss=0.56099): 100%|██████████| 7/7 [00:05<00:00,  1.26it/s]\n",
      "Training (17135 / 18000 Steps) (loss=0.31967): 100%|██████████| 7/7 [00:05<00:00,  1.31it/s]\n",
      "Training (17142 / 18000 Steps) (loss=0.43456): 100%|██████████| 7/7 [00:05<00:00,  1.25it/s]\n",
      "Training (17149 / 18000 Steps) (loss=0.43393): 100%|██████████| 7/7 [00:05<00:00,  1.27it/s]\n",
      "Training (17156 / 18000 Steps) (loss=0.18831): 100%|██████████| 7/7 [00:05<00:00,  1.26it/s]\n",
      "Training (17163 / 18000 Steps) (loss=0.23422): 100%|██████████| 7/7 [00:05<00:00,  1.31it/s]\n",
      "Training (17170 / 18000 Steps) (loss=0.40147): 100%|██████████| 7/7 [00:05<00:00,  1.27it/s]\n",
      "Training (17177 / 18000 Steps) (loss=0.53425): 100%|██████████| 7/7 [00:05<00:00,  1.25it/s]\n",
      "Training (17184 / 18000 Steps) (loss=0.54499): 100%|██████████| 7/7 [00:05<00:00,  1.28it/s]\n",
      "Training (17191 / 18000 Steps) (loss=0.36502): 100%|██████████| 7/7 [00:05<00:00,  1.25it/s]\n",
      "Training (17198 / 18000 Steps) (loss=0.57984): 100%|██████████| 7/7 [00:05<00:00,  1.36it/s]\n",
      "Validate (17199 / 10 Steps): 100%|██████████| 2/2 [00:04<00:00,  2.15s/it]<00:19,  3.24s/it]\n",
      "Training (17200 / 18000 Steps) (loss=0.33466):  29%|██▊       | 2/7 [00:07<00:20,  4.13s/it]"
     ]
    },
    {
     "name": "stdout",
     "output_type": "stream",
     "text": [
      "Model Was Not Saved ! Current Best Avg. Dice: 0.33468031883239746 Current Avg. Dice: 0.2993731200695038 Current Avg. tumor Dice: 0.34968188405036926 Current Avg. lymph Dice: 0.24906432628631592\n"
     ]
    },
    {
     "name": "stderr",
     "output_type": "stream",
     "text": [
      "Training (17205 / 18000 Steps) (loss=0.48956): 100%|██████████| 7/7 [00:09<00:00,  1.42s/it]\n",
      "Training (17212 / 18000 Steps) (loss=0.50388): 100%|██████████| 7/7 [00:05<00:00,  1.28it/s]\n",
      "Training (17219 / 18000 Steps) (loss=0.51889): 100%|██████████| 7/7 [00:05<00:00,  1.33it/s]\n",
      "Training (17226 / 18000 Steps) (loss=0.55137): 100%|██████████| 7/7 [00:05<00:00,  1.23it/s]\n",
      "Training (17233 / 18000 Steps) (loss=0.32979): 100%|██████████| 7/7 [00:05<00:00,  1.25it/s]\n",
      "Training (17240 / 18000 Steps) (loss=0.37322): 100%|██████████| 7/7 [00:05<00:00,  1.32it/s]\n",
      "Training (17247 / 18000 Steps) (loss=0.18928): 100%|██████████| 7/7 [00:05<00:00,  1.26it/s]\n",
      "Training (17254 / 18000 Steps) (loss=0.50209): 100%|██████████| 7/7 [00:05<00:00,  1.31it/s]\n",
      "Training (17261 / 18000 Steps) (loss=0.41066): 100%|██████████| 7/7 [00:05<00:00,  1.34it/s]\n",
      "Training (17268 / 18000 Steps) (loss=0.36464): 100%|██████████| 7/7 [00:05<00:00,  1.31it/s]\n",
      "Training (17275 / 18000 Steps) (loss=0.40501): 100%|██████████| 7/7 [00:05<00:00,  1.33it/s]\n",
      "Training (17282 / 18000 Steps) (loss=0.49796): 100%|██████████| 7/7 [00:05<00:00,  1.33it/s]\n",
      "Training (17289 / 18000 Steps) (loss=0.35070): 100%|██████████| 7/7 [00:05<00:00,  1.23it/s]\n",
      "Training (17296 / 18000 Steps) (loss=0.45481): 100%|██████████| 7/7 [00:05<00:00,  1.30it/s]\n",
      "Validate (17297 / 10 Steps): 100%|██████████| 2/2 [00:04<00:00,  2.11s/it]<00:03,  1.02it/s]\n",
      "Training (17300 / 18000 Steps) (loss=0.50661):  57%|█████▋    | 4/7 [00:08<00:07,  2.44s/it]"
     ]
    },
    {
     "name": "stdout",
     "output_type": "stream",
     "text": [
      "Model Was Not Saved ! Current Best Avg. Dice: 0.33468031883239746 Current Avg. Dice: 0.28921231627464294 Current Avg. tumor Dice: 0.37797021865844727 Current Avg. lymph Dice: 0.20045438408851624\n"
     ]
    },
    {
     "name": "stderr",
     "output_type": "stream",
     "text": [
      "Training (17303 / 18000 Steps) (loss=0.57752): 100%|██████████| 7/7 [00:09<00:00,  1.37s/it]\n",
      "Training (17310 / 18000 Steps) (loss=0.44370): 100%|██████████| 7/7 [00:05<00:00,  1.28it/s]\n",
      "Training (17317 / 18000 Steps) (loss=0.44447): 100%|██████████| 7/7 [00:05<00:00,  1.33it/s]\n",
      "Training (17324 / 18000 Steps) (loss=0.26023): 100%|██████████| 7/7 [00:05<00:00,  1.24it/s]\n",
      "Training (17331 / 18000 Steps) (loss=0.49897): 100%|██████████| 7/7 [00:05<00:00,  1.28it/s]\n",
      "Training (17338 / 18000 Steps) (loss=0.29029): 100%|██████████| 7/7 [00:05<00:00,  1.27it/s]\n",
      "Training (17345 / 18000 Steps) (loss=0.41997): 100%|██████████| 7/7 [00:05<00:00,  1.28it/s]\n",
      "Training (17352 / 18000 Steps) (loss=0.43016): 100%|██████████| 7/7 [00:05<00:00,  1.33it/s]\n",
      "Training (17359 / 18000 Steps) (loss=0.40026): 100%|██████████| 7/7 [00:05<00:00,  1.24it/s]\n",
      "Training (17366 / 18000 Steps) (loss=0.57072): 100%|██████████| 7/7 [00:05<00:00,  1.30it/s]\n",
      "Training (17373 / 18000 Steps) (loss=0.41460): 100%|██████████| 7/7 [00:05<00:00,  1.33it/s]\n",
      "Training (17380 / 18000 Steps) (loss=0.36314): 100%|██████████| 7/7 [00:05<00:00,  1.23it/s]\n",
      "Training (17387 / 18000 Steps) (loss=0.38937): 100%|██████████| 7/7 [00:05<00:00,  1.34it/s]\n",
      "Training (17394 / 18000 Steps) (loss=0.54499): 100%|██████████| 7/7 [00:05<00:00,  1.31it/s]\n",
      "Validate (17395 / 10 Steps): 100%|██████████| 2/2 [00:04<00:00,  2.17s/it]<00:01,  1.54it/s]\n",
      "Training (17400 / 18000 Steps) (loss=0.38029):  86%|████████▌ | 6/7 [00:09<00:02,  2.06s/it]"
     ]
    },
    {
     "name": "stdout",
     "output_type": "stream",
     "text": [
      "Model Was Not Saved ! Current Best Avg. Dice: 0.33468031883239746 Current Avg. Dice: 0.32472383975982666 Current Avg. tumor Dice: 0.4409467875957489 Current Avg. lymph Dice: 0.2085009217262268\n"
     ]
    },
    {
     "name": "stderr",
     "output_type": "stream",
     "text": [
      "Training (17401 / 18000 Steps) (loss=0.50385): 100%|██████████| 7/7 [00:09<00:00,  1.41s/it]\n",
      "Training (17408 / 18000 Steps) (loss=0.26169): 100%|██████████| 7/7 [00:05<00:00,  1.35it/s]\n",
      "Training (17415 / 18000 Steps) (loss=0.53111): 100%|██████████| 7/7 [00:05<00:00,  1.38it/s]\n",
      "Training (17422 / 18000 Steps) (loss=0.36561): 100%|██████████| 7/7 [00:05<00:00,  1.36it/s]\n",
      "Training (17429 / 18000 Steps) (loss=0.21484): 100%|██████████| 7/7 [00:05<00:00,  1.25it/s]\n",
      "Training (17436 / 18000 Steps) (loss=0.55979): 100%|██████████| 7/7 [00:05<00:00,  1.27it/s]\n",
      "Training (17443 / 18000 Steps) (loss=0.28283): 100%|██████████| 7/7 [00:05<00:00,  1.30it/s]\n",
      "Training (17450 / 18000 Steps) (loss=0.44814): 100%|██████████| 7/7 [00:05<00:00,  1.29it/s]\n",
      "Training (17457 / 18000 Steps) (loss=0.36108): 100%|██████████| 7/7 [00:05<00:00,  1.27it/s]\n",
      "Training (17464 / 18000 Steps) (loss=0.27324): 100%|██████████| 7/7 [00:05<00:00,  1.36it/s]\n",
      "Training (17471 / 18000 Steps) (loss=0.54206): 100%|██████████| 7/7 [00:05<00:00,  1.23it/s]\n",
      "Training (17478 / 18000 Steps) (loss=0.45945): 100%|██████████| 7/7 [00:05<00:00,  1.26it/s]\n",
      "Training (17485 / 18000 Steps) (loss=0.29563): 100%|██████████| 7/7 [00:05<00:00,  1.28it/s]\n",
      "Training (17492 / 18000 Steps) (loss=0.55538): 100%|██████████| 7/7 [00:05<00:00,  1.30it/s]\n",
      "Training (17499 / 18000 Steps) (loss=0.30587): 100%|██████████| 7/7 [00:05<00:00,  1.32it/s]\n",
      "Validate (17500 / 10 Steps): 100%|██████████| 2/2 [00:04<00:00,  2.15s/it]<?, ?it/s]\n",
      "Training (17500 / 18000 Steps) (loss=0.46495):  14%|█▍        | 1/7 [00:07<00:44,  7.36s/it]"
     ]
    },
    {
     "name": "stdout",
     "output_type": "stream",
     "text": [
      "Model Was Not Saved ! Current Best Avg. Dice: 0.33468031883239746 Current Avg. Dice: 0.322553813457489 Current Avg. tumor Dice: 0.407097727060318 Current Avg. lymph Dice: 0.23800985515117645\n"
     ]
    },
    {
     "name": "stderr",
     "output_type": "stream",
     "text": [
      "Training (17506 / 18000 Steps) (loss=0.37494): 100%|██████████| 7/7 [00:09<00:00,  1.39s/it]\n",
      "Training (17513 / 18000 Steps) (loss=0.53180): 100%|██████████| 7/7 [00:05<00:00,  1.22it/s]\n",
      "Training (17520 / 18000 Steps) (loss=0.47011): 100%|██████████| 7/7 [00:05<00:00,  1.30it/s]\n",
      "Training (17527 / 18000 Steps) (loss=0.43080): 100%|██████████| 7/7 [00:05<00:00,  1.28it/s]\n",
      "Training (17534 / 18000 Steps) (loss=0.21928): 100%|██████████| 7/7 [00:05<00:00,  1.37it/s]\n",
      "Training (17541 / 18000 Steps) (loss=0.58420): 100%|██████████| 7/7 [00:05<00:00,  1.30it/s]\n",
      "Training (17548 / 18000 Steps) (loss=0.43426): 100%|██████████| 7/7 [00:05<00:00,  1.30it/s]\n",
      "Training (17555 / 18000 Steps) (loss=0.45828): 100%|██████████| 7/7 [00:05<00:00,  1.22it/s]\n",
      "Training (17562 / 18000 Steps) (loss=0.23719): 100%|██████████| 7/7 [00:05<00:00,  1.27it/s]\n",
      "Training (17569 / 18000 Steps) (loss=0.47052): 100%|██████████| 7/7 [00:05<00:00,  1.23it/s]\n",
      "Training (17576 / 18000 Steps) (loss=0.56384): 100%|██████████| 7/7 [00:05<00:00,  1.31it/s]\n",
      "Training (17583 / 18000 Steps) (loss=0.44613): 100%|██████████| 7/7 [00:05<00:00,  1.27it/s]\n",
      "Training (17590 / 18000 Steps) (loss=0.38201): 100%|██████████| 7/7 [00:05<00:00,  1.29it/s]\n",
      "Training (17597 / 18000 Steps) (loss=0.47730): 100%|██████████| 7/7 [00:05<00:00,  1.31it/s]\n",
      "Validate (17598 / 10 Steps): 100%|██████████| 2/2 [00:04<00:00,  2.19s/it]<00:07,  1.45s/it]\n",
      "Training (17600 / 18000 Steps) (loss=0.44991):  43%|████▎     | 3/7 [00:08<00:11,  3.00s/it]"
     ]
    },
    {
     "name": "stdout",
     "output_type": "stream",
     "text": [
      "Model Was Not Saved ! Current Best Avg. Dice: 0.33468031883239746 Current Avg. Dice: 0.29117509722709656 Current Avg. tumor Dice: 0.34238407015800476 Current Avg. lymph Dice: 0.23996609449386597\n"
     ]
    },
    {
     "name": "stderr",
     "output_type": "stream",
     "text": [
      "Training (17604 / 18000 Steps) (loss=0.59760): 100%|██████████| 7/7 [00:09<00:00,  1.39s/it]\n",
      "Training (17611 / 18000 Steps) (loss=0.27481): 100%|██████████| 7/7 [00:05<00:00,  1.32it/s]\n",
      "Training (17618 / 18000 Steps) (loss=0.54620): 100%|██████████| 7/7 [00:05<00:00,  1.30it/s]\n",
      "Training (17625 / 18000 Steps) (loss=0.47715): 100%|██████████| 7/7 [00:05<00:00,  1.31it/s]\n",
      "Training (17632 / 18000 Steps) (loss=0.63429): 100%|██████████| 7/7 [00:05<00:00,  1.29it/s]\n",
      "Training (17639 / 18000 Steps) (loss=0.50404): 100%|██████████| 7/7 [00:05<00:00,  1.36it/s]\n",
      "Training (17646 / 18000 Steps) (loss=0.54611): 100%|██████████| 7/7 [00:05<00:00,  1.27it/s]\n",
      "Training (17653 / 18000 Steps) (loss=0.36830): 100%|██████████| 7/7 [00:05<00:00,  1.27it/s]\n",
      "Training (17660 / 18000 Steps) (loss=0.32651): 100%|██████████| 7/7 [00:05<00:00,  1.29it/s]\n",
      "Training (17667 / 18000 Steps) (loss=0.32030): 100%|██████████| 7/7 [00:05<00:00,  1.30it/s]\n",
      "Training (17674 / 18000 Steps) (loss=0.57401): 100%|██████████| 7/7 [00:05<00:00,  1.28it/s]\n",
      "Training (17681 / 18000 Steps) (loss=0.49964): 100%|██████████| 7/7 [00:05<00:00,  1.33it/s]\n",
      "Training (17688 / 18000 Steps) (loss=0.39247): 100%|██████████| 7/7 [00:05<00:00,  1.25it/s]\n",
      "Training (17695 / 18000 Steps) (loss=0.29947): 100%|██████████| 7/7 [00:05<00:00,  1.27it/s]\n",
      "Validate (17696 / 10 Steps): 100%|██████████| 2/2 [00:04<00:00,  2.15s/it]<00:02,  1.31it/s]\n",
      "Training (17700 / 18000 Steps) (loss=0.30033):  71%|███████▏  | 5/7 [00:08<00:04,  2.20s/it]"
     ]
    },
    {
     "name": "stdout",
     "output_type": "stream",
     "text": [
      "Model Was Not Saved ! Current Best Avg. Dice: 0.33468031883239746 Current Avg. Dice: 0.29757434129714966 Current Avg. tumor Dice: 0.334130197763443 Current Avg. lymph Dice: 0.2610184848308563\n"
     ]
    },
    {
     "name": "stderr",
     "output_type": "stream",
     "text": [
      "Training (17702 / 18000 Steps) (loss=0.55986): 100%|██████████| 7/7 [00:09<00:00,  1.39s/it]\n",
      "Training (17709 / 18000 Steps) (loss=0.41578): 100%|██████████| 7/7 [00:05<00:00,  1.27it/s]\n",
      "Training (17716 / 18000 Steps) (loss=0.39739): 100%|██████████| 7/7 [00:05<00:00,  1.29it/s]\n",
      "Training (17723 / 18000 Steps) (loss=0.47762): 100%|██████████| 7/7 [00:05<00:00,  1.27it/s]\n",
      "Training (17730 / 18000 Steps) (loss=0.26019): 100%|██████████| 7/7 [00:05<00:00,  1.31it/s]\n",
      "Training (17737 / 18000 Steps) (loss=0.60314): 100%|██████████| 7/7 [00:05<00:00,  1.26it/s]\n",
      "Training (17744 / 18000 Steps) (loss=0.60512): 100%|██████████| 7/7 [00:05<00:00,  1.25it/s]\n",
      "Training (17751 / 18000 Steps) (loss=0.35771): 100%|██████████| 7/7 [00:05<00:00,  1.30it/s]\n",
      "Training (17758 / 18000 Steps) (loss=0.29071): 100%|██████████| 7/7 [00:05<00:00,  1.28it/s]\n",
      "Training (17765 / 18000 Steps) (loss=0.42177): 100%|██████████| 7/7 [00:05<00:00,  1.29it/s]\n",
      "Training (17772 / 18000 Steps) (loss=0.66680): 100%|██████████| 7/7 [00:05<00:00,  1.27it/s]\n",
      "Training (17779 / 18000 Steps) (loss=0.37604): 100%|██████████| 7/7 [00:05<00:00,  1.27it/s]\n",
      "Training (17786 / 18000 Steps) (loss=0.66586): 100%|██████████| 7/7 [00:05<00:00,  1.33it/s]\n",
      "Training (17793 / 18000 Steps) (loss=0.53452): 100%|██████████| 7/7 [00:05<00:00,  1.27it/s]\n",
      "Validate (17794 / 10 Steps): 100%|██████████| 2/2 [00:04<00:00,  2.27s/it]<00:00,  1.79it/s]\n",
      "Training (17800 / 18000 Steps) (loss=0.53120): 100%|██████████| 7/7 [00:10<00:00,  1.51s/it]\n"
     ]
    },
    {
     "name": "stdout",
     "output_type": "stream",
     "text": [
      "Model Was Saved ! Current Best Avg. Dice: 0.33909595012664795 Current Avg. Dice: 0.33909595012664795 Current Avg. tumor Dice: 0.42569130659103394 Current Avg. lymph Dice: 0.25250059366226196\n"
     ]
    },
    {
     "name": "stderr",
     "output_type": "stream",
     "text": [
      "Training (17807 / 18000 Steps) (loss=0.30336): 100%|██████████| 7/7 [00:05<00:00,  1.29it/s]\n",
      "Training (17814 / 18000 Steps) (loss=0.53604): 100%|██████████| 7/7 [00:05<00:00,  1.28it/s]\n",
      "Training (17821 / 18000 Steps) (loss=0.28875): 100%|██████████| 7/7 [00:05<00:00,  1.36it/s]\n",
      "Training (17828 / 18000 Steps) (loss=0.43876): 100%|██████████| 7/7 [00:05<00:00,  1.34it/s]\n",
      "Training (17835 / 18000 Steps) (loss=0.50742): 100%|██████████| 7/7 [00:05<00:00,  1.30it/s]\n",
      "Training (17842 / 18000 Steps) (loss=0.42570): 100%|██████████| 7/7 [00:05<00:00,  1.22it/s]\n",
      "Training (17849 / 18000 Steps) (loss=0.31646): 100%|██████████| 7/7 [00:05<00:00,  1.32it/s]\n",
      "Training (17856 / 18000 Steps) (loss=0.33567): 100%|██████████| 7/7 [00:05<00:00,  1.30it/s]\n",
      "Training (17863 / 18000 Steps) (loss=0.44946): 100%|██████████| 7/7 [00:05<00:00,  1.29it/s]\n",
      "Training (17870 / 18000 Steps) (loss=0.34477): 100%|██████████| 7/7 [00:05<00:00,  1.31it/s]\n",
      "Training (17877 / 18000 Steps) (loss=0.40606): 100%|██████████| 7/7 [00:05<00:00,  1.24it/s]\n",
      "Training (17884 / 18000 Steps) (loss=0.54201): 100%|██████████| 7/7 [00:05<00:00,  1.27it/s]\n",
      "Training (17891 / 18000 Steps) (loss=0.42957): 100%|██████████| 7/7 [00:05<00:00,  1.29it/s]\n",
      "Training (17898 / 18000 Steps) (loss=0.26751): 100%|██████████| 7/7 [00:05<00:00,  1.32it/s]\n",
      "Validate (17899 / 10 Steps): 100%|██████████| 2/2 [00:04<00:00,  2.14s/it]<00:19,  3.26s/it]\n",
      "Training (17900 / 18000 Steps) (loss=0.44573):  29%|██▊       | 2/7 [00:08<00:20,  4.14s/it]"
     ]
    },
    {
     "name": "stdout",
     "output_type": "stream",
     "text": [
      "Model Was Not Saved ! Current Best Avg. Dice: 0.33909595012664795 Current Avg. Dice: 0.2812906503677368 Current Avg. tumor Dice: 0.33634045720100403 Current Avg. lymph Dice: 0.22624076902866364\n"
     ]
    },
    {
     "name": "stderr",
     "output_type": "stream",
     "text": [
      "Training (17905 / 18000 Steps) (loss=0.31464): 100%|██████████| 7/7 [00:10<00:00,  1.43s/it]\n",
      "Training (17912 / 18000 Steps) (loss=0.23940): 100%|██████████| 7/7 [00:05<00:00,  1.26it/s]\n",
      "Training (17919 / 18000 Steps) (loss=0.53855): 100%|██████████| 7/7 [00:05<00:00,  1.28it/s]\n",
      "Training (17926 / 18000 Steps) (loss=0.40783): 100%|██████████| 7/7 [00:05<00:00,  1.28it/s]\n",
      "Training (17933 / 18000 Steps) (loss=0.37235): 100%|██████████| 7/7 [00:05<00:00,  1.30it/s]\n",
      "Training (17940 / 18000 Steps) (loss=0.32302): 100%|██████████| 7/7 [00:05<00:00,  1.23it/s]\n",
      "Training (17947 / 18000 Steps) (loss=0.19275): 100%|██████████| 7/7 [00:05<00:00,  1.25it/s]\n",
      "Training (17954 / 18000 Steps) (loss=0.32725): 100%|██████████| 7/7 [00:05<00:00,  1.28it/s]\n",
      "Training (17961 / 18000 Steps) (loss=0.46393): 100%|██████████| 7/7 [00:05<00:00,  1.30it/s]\n",
      "Training (17968 / 18000 Steps) (loss=0.46231): 100%|██████████| 7/7 [00:05<00:00,  1.35it/s]\n",
      "Training (17975 / 18000 Steps) (loss=0.34818): 100%|██████████| 7/7 [00:05<00:00,  1.30it/s]\n",
      "Training (17982 / 18000 Steps) (loss=0.47358): 100%|██████████| 7/7 [00:05<00:00,  1.25it/s]\n",
      "Training (17989 / 18000 Steps) (loss=0.37681): 100%|██████████| 7/7 [00:05<00:00,  1.29it/s]\n",
      "Training (17996 / 18000 Steps) (loss=0.23884): 100%|██████████| 7/7 [00:05<00:00,  1.28it/s]\n",
      "Validate (17997 / 10 Steps): 100%|██████████| 2/2 [00:04<00:00,  2.17s/it]<00:04,  1.01s/it]\n",
      "Training (18000 / 18000 Steps) (loss=0.61530):  57%|█████▋    | 4/7 [00:08<00:07,  2.51s/it]"
     ]
    },
    {
     "name": "stdout",
     "output_type": "stream",
     "text": [
      "Model Was Not Saved ! Current Best Avg. Dice: 0.33909595012664795 Current Avg. Dice: 0.30460232496261597 Current Avg. tumor Dice: 0.36365923285484314 Current Avg. lymph Dice: 0.24554544687271118\n"
     ]
    },
    {
     "name": "stderr",
     "output_type": "stream",
     "text": [
      "Training (18003 / 18000 Steps) (loss=0.52777): 100%|██████████| 7/7 [00:09<00:00,  1.41s/it]\n"
     ]
    }
   ],
   "source": [
    "model_dir = '/home/nada.saadi/CTPET/hecktor2022_cropped/7th_PET_channel_pret'\n",
    "\n",
    "def validation(epoch_iterator_val):\n",
    "    model.eval()\n",
    "    with torch.no_grad():\n",
    "        for step, batch in enumerate(epoch_iterator_val):\n",
    "            val_inputs, val_labels = (batch[\"pt\"].cuda(), batch[\"seg\"].cuda())\n",
    "            val_outputs = sliding_window_inference(val_inputs, (96, 96, 96), 4, model)\n",
    "            val_labels_list = decollate_batch(val_labels)\n",
    "            val_labels_convert = [\n",
    "                post_label(val_label_tensor) for val_label_tensor in val_labels_list\n",
    "            ]\n",
    "            val_outputs_list = decollate_batch(val_outputs)\n",
    "            val_output_convert = [\n",
    "                post_pred(val_pred_tensor) for val_pred_tensor in val_outputs_list\n",
    "            ]\n",
    "            dice_metric(y_pred=val_output_convert, y=val_labels_convert)\n",
    "            dice_metric_batch(y_pred=val_output_convert, y=val_labels_convert)\n",
    "            epoch_iterator_val.set_description(\n",
    "                \"Validate (%d / %d Steps)\" % (global_step, 10.0)\n",
    "            )\n",
    "        mean_dice_val = dice_metric.aggregate().item()\n",
    "        metric_batch_val = dice_metric_batch.aggregate()\n",
    "\n",
    "        metric_tumor = metric_batch_val[0].item()\n",
    "        metric_lymph = metric_batch_val[1].item()\n",
    "\n",
    "        dice_metric.reset()\n",
    "        dice_metric_batch.reset()\n",
    "    return mean_dice_val, metric_tumor, metric_lymph\n",
    "\n",
    "\n",
    "def train(global_step, train_loader, dice_val_best, global_step_best):\n",
    "    model.train()\n",
    "    epoch_loss = 0\n",
    "    step = 0\n",
    "    epoch_iterator = tqdm(\n",
    "        train_loader, desc=\"Training (X / X Steps) (loss=X.X)\", dynamic_ncols=True\n",
    "    )\n",
    "    for step, batch in enumerate(epoch_iterator):\n",
    "        step += 1\n",
    "        x, y = (batch[\"pt\"].cuda(), batch[\"seg\"].cuda())\n",
    "        logit_map = model(x)\n",
    "        loss = loss_function(logit_map, y)\n",
    "        loss.backward()\n",
    "        epoch_loss += loss.item()\n",
    "        optimizer.step()\n",
    "        optimizer.zero_grad()\n",
    "        epoch_iterator.set_description(\n",
    "            \"Training (%d / %d Steps) (loss=%2.5f)\"\n",
    "            % (global_step, max_iterations, loss)\n",
    "        )\n",
    "        if (\n",
    "            global_step % eval_num == 0 and global_step != 0\n",
    "        ) or global_step == max_iterations:\n",
    "            epoch_iterator_val = tqdm(\n",
    "                val_loader, desc=\"Validate (X / X Steps) (dice=X.X)\", dynamic_ncols=True\n",
    "            )\n",
    "            dice_val, metric_tumor, metric_lymph = validation(epoch_iterator_val)\n",
    "            epoch_loss /= step\n",
    "            epoch_loss_values.append(epoch_loss)\n",
    "            metric_values.append(dice_val)\n",
    "            metric_values_tumor.append(metric_tumor)\n",
    "            metric_values_lymph.append(metric_lymph)\n",
    "            if dice_val > dice_val_best:\n",
    "                dice_val_best = dice_val\n",
    "                global_step_best = global_step\n",
    "                torch.save(\n",
    "                    model.state_dict(), os.path.join(model_dir, \"7thPETonly_channel_PRET.pth\")\n",
    "                )\n",
    "                print(\n",
    "                    \"Model Was Saved ! Current Best Avg. Dice: {} Current Avg. Dice: {} Current Avg. tumor Dice: {} Current Avg. lymph Dice: {}\".format(\n",
    "                        dice_val_best, dice_val, metric_tumor, metric_lymph\n",
    "                    )\n",
    "                )\n",
    "            else:\n",
    "                print(\n",
    "                    \"Model Was Not Saved ! Current Best Avg. Dice: {} Current Avg. Dice: {} Current Avg. tumor Dice: {} Current Avg. lymph Dice: {}\".format(\n",
    "                        dice_val_best, dice_val,  metric_tumor, metric_lymph\n",
    "                    )\n",
    "                )\n",
    "        global_step += 1\n",
    "    return global_step, dice_val_best, global_step_best\n",
    "\n",
    "\n",
    "max_iterations = 18000\n",
    "eval_num = 100\n",
    "\n",
    "post_label = AsDiscrete(to_onehot=3)\n",
    "post_pred = AsDiscrete(argmax=True, to_onehot=3)\n",
    "\n",
    "dice_metric = DiceMetric(include_background=False, reduction=\"mean\", get_not_nans=False)\n",
    "dice_metric_batch = DiceMetric(include_background=False, reduction=\"mean_batch\")\n",
    "\n",
    "epoch = 0\n",
    "max_num_epochs = 530\n",
    "\n",
    "global_step = 0\n",
    "dice_val_best = 0.0\n",
    "global_step_best = 0\n",
    "epoch_loss_values = []\n",
    "metric_values = []\n",
    "metric_values_tumor = []\n",
    "metric_values_lymph = []\n",
    "while global_step < max_iterations:\n",
    "    global_step, dice_val_best, global_step_best = train(\n",
    "        global_step, train_loader, dice_val_best, global_step_best\n",
    "    )\n",
    "    # wandb.log({'learning_rate': optimizer.param_groups[0]['lr']})\n",
    "    # wandb.log({'Best Dice': dice_val_best})\n",
    "    epoch += 1\n",
    "    #optimizer.param_groups[0]['lr'] = poly_lr(epoch, max_num_epochs, 0.005676 , 0.9)\n",
    "# model.load_state_dict(torch.load(os.path.join(model_dir, \"best_metric_luck_UNETr_prompt.pth\")))"
   ]
  },
  {
   "cell_type": "code",
   "execution_count": null,
   "metadata": {},
   "outputs": [],
   "source": []
  }
 ],
 "metadata": {
  "kernelspec": {
   "display_name": "clam",
   "language": "python",
   "name": "python3"
  },
  "language_info": {
   "codemirror_mode": {
    "name": "ipython",
    "version": 3
   },
   "file_extension": ".py",
   "mimetype": "text/x-python",
   "name": "python",
   "nbconvert_exporter": "python",
   "pygments_lexer": "ipython3",
   "version": "3.8.0"
  }
 },
 "nbformat": 4,
 "nbformat_minor": 2
}
