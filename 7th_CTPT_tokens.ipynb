{
 "cells": [
  {
   "cell_type": "code",
   "execution_count": 1,
   "metadata": {},
   "outputs": [
    {
     "name": "stdout",
     "output_type": "stream",
     "text": [
      "1\n"
     ]
    },
    {
     "name": "stderr",
     "output_type": "stream",
     "text": [
      "/tmp/ipykernel_1327087/1896300350.py:9: TqdmWarning: IProgress not found. Please update jupyter and ipywidgets. See https://ipywidgets.readthedocs.io/en/stable/user_install.html\n",
      "  from tqdm.autonotebook import tqdm\n"
     ]
    }
   ],
   "source": [
    "import torch\n",
    "import torch.nn as nn\n",
    "from torch.utils.data import DataLoader\n",
    "from collections.abc import Sequence\n",
    "\n",
    "from unetr import CustomedUNETR\n",
    "\n",
    "import json\n",
    "from tqdm.autonotebook import tqdm\n",
    "import os\n",
    "os.environ[\"CUDA_DEVICE_ORDER\"] = \"PCI_BUS_ID\"\n",
    "os.environ[\"CUDA_VISIBLE_DEVICES\"] = \"0\" \n",
    "\n",
    "print(torch.cuda.device_count())\n",
    "torch.backends.cudnn.benchmark = True\n",
    "device = torch.device(\"cuda\" if torch.cuda.is_available() else \"cpu\")"
   ]
  },
  {
   "cell_type": "code",
   "execution_count": 2,
   "metadata": {},
   "outputs": [],
   "source": [
    "import os\n",
    "import shutil\n",
    "import tempfile\n",
    "\n",
    "import matplotlib.pyplot as plt\n",
    "import numpy as np\n",
    "from tqdm import tqdm\n",
    "from glob import glob\n",
    "# import wandb\n",
    "\n",
    "import monai\n",
    "from monai.losses import DiceCELoss, DiceFocalLoss, FocalLoss\n",
    "from monai.inferers import sliding_window_inference\n",
    "from monai import transforms\n",
    "\n",
    "from monai.transforms import (\n",
    "       AsDiscrete,\n",
    "    Compose,\n",
    "    CropForegroundd,\n",
    "    LoadImaged,\n",
    "    Orientationd,\n",
    "    RandFlipd,\n",
    "    RandCropByPosNegLabeld,\n",
    "    RandShiftIntensityd,\n",
    "    ScaleIntensityRanged,\n",
    "    Spacingd,\n",
    "    RandRotate90d,\n",
    "    MapTransform,\n",
    "    ScaleIntensityd,\n",
    "    #AddChanneld,\n",
    "    SpatialPadd,\n",
    "    CenterSpatialCropd,\n",
    "    EnsureChannelFirstd,\n",
    "    ConcatItemsd,\n",
    "    AdjustContrastd, \n",
    "    Rand3DElasticd,\n",
    "    HistogramNormalized,\n",
    "    NormalizeIntensityd,\n",
    "    Invertd,\n",
    "    SaveImage,\n",
    "\n",
    ")\n",
    "\n",
    "from monai.config import print_config\n",
    "from monai.metrics import DiceMetric\n",
    "from monai.networks.nets import SwinUNETR, UNETR, SegResNet\n",
    "from monai.data import (\n",
    "    DataLoader,\n",
    "    CacheDataset,\n",
    "    load_decathlon_datalist,\n",
    "    decollate_batch,\n",
    ")\n",
    "from monai import data\n",
    "\n",
    "\n",
    "from monai.utils import first, set_determinism\n",
    "from sklearn.model_selection import train_test_split\n",
    "import json\n",
    "\n",
    "\n",
    "import torch"
   ]
  },
  {
   "cell_type": "code",
   "execution_count": 3,
   "metadata": {},
   "outputs": [],
   "source": [
    "set_determinism(seed=1024)"
   ]
  },
  {
   "cell_type": "code",
   "execution_count": 4,
   "metadata": {},
   "outputs": [],
   "source": [
    "data_dir = '/home/nada.saadi/MIS-FM/hecktor2022_cropped'\n",
    "json_dir = \"/home/nada.saadi/CTPET/hecktor2022_cropped/HMR_ctpt_train_new.json\""
   ]
  },
  {
   "cell_type": "code",
   "execution_count": 5,
   "metadata": {},
   "outputs": [],
   "source": [
    "def datafold_read(datalist, basedir, fold=0, key=\"training\"):\n",
    "    with open(datalist) as f:\n",
    "        json_data = json.load(f)\n",
    "\n",
    "    json_data = json_data[key]\n",
    "\n",
    "    for d in json_data:\n",
    "        for k in d:\n",
    "            if isinstance(d[k], list):\n",
    "                d[k] = [os.path.join(basedir, iv) for iv in d[k]]\n",
    "            elif isinstance(d[k], str):\n",
    "                d[k] = os.path.join(basedir, d[k]) if len(d[k]) > 0 else d[k]\n",
    "\n",
    "    tr = []\n",
    "    val = []\n",
    "    for d in json_data:\n",
    "        if \"fold\" in d and d[\"fold\"] == fold:\n",
    "            val.append(d)\n",
    "        else:\n",
    "            tr.append(d)\n",
    "\n",
    "    return tr, val"
   ]
  },
  {
   "cell_type": "code",
   "execution_count": 6,
   "metadata": {},
   "outputs": [
    {
     "data": {
      "text/plain": [
       "(13, 4)"
      ]
     },
     "execution_count": 6,
     "metadata": {},
     "output_type": "execute_result"
    }
   ],
   "source": [
    "train_files, validation_files = datafold_read(datalist=json_dir, basedir=data_dir, fold=0)\n",
    "len(train_files), len(validation_files)"
   ]
  },
  {
   "cell_type": "code",
   "execution_count": 7,
   "metadata": {},
   "outputs": [],
   "source": [
    "class ClipCT(MapTransform):\n",
    "    \"\"\"\n",
    "    Convert labels to multi channels based on hecktor classes:\n",
    "    label 1 is the tumor\n",
    "    label 2 is the lymph node\n",
    "\n",
    "    \"\"\"\n",
    "\n",
    "    def __call__(self, data):\n",
    "        d = dict(data)\n",
    "        for key in self.keys:\n",
    "            if key == \"ct\":\n",
    "                d[key] = torch.clip(d[key], min=-200, max=200)\n",
    "            # elif key == \"pt\":\n",
    "            #     d[key] = torch.clip(d[key], d[key].min(), 5)\n",
    "        return d\n",
    "\n",
    "class MulPTFM(MapTransform):\n",
    "    \"\"\"\n",
    "    Mult PT and FM \n",
    "\n",
    "    \"\"\"\n",
    "\n",
    "    def __call__(self, data):\n",
    "        d = dict(data)\n",
    "\n",
    "        fm = d[\"ct\"] > 0\n",
    "        d[\"pt\"] = d[\"pt\"] * fm\n",
    "        return d\n",
    "\n",
    "class SelectClass(MapTransform):\n",
    "    \"\"\"\n",
    "    Select the class for which you want to fine tune the model \n",
    "\n",
    "    \"\"\"\n",
    "    # def __init__(self, keys, cls=1):\n",
    "    #     super(self).__init__(keys)\n",
    "    #     self.cls = cls\n",
    "\n",
    "    def __call__(self, data):\n",
    "        d = dict(data)\n",
    "        d[\"seg\"][d[\"seg\"] == 1] = 0\n",
    "        # d[\"seg\"][d[\"seg\"] == 2] = 1\n",
    "        \n",
    "        return d"
   ]
  },
  {
   "cell_type": "code",
   "execution_count": 8,
   "metadata": {},
   "outputs": [],
   "source": [
    "num_samples = 4\n",
    "\n",
    "train_transforms = Compose(\n",
    "    [\n",
    "        LoadImaged(keys=[\"ct\", \"pt\", \"seg\"], ensure_channel_first = True),\n",
    "        SpatialPadd(keys=[\"ct\", \"pt\", \"seg\"], spatial_size=(200, 200, 310), method='end'),\n",
    "        Orientationd(keys=[\"ct\", \"pt\", \"seg\"], axcodes=\"PLS\"),\n",
    "        NormalizeIntensityd(keys=[\"pt\"]),\n",
    "        ClipCT(keys=[\"ct\"]),\n",
    "        ScaleIntensityd(keys=[\"ct\"], minv=0, maxv=1),\n",
    "        #MulPTFM(keys=[\"ct\",\"pt\"]),\n",
    "        ConcatItemsd(keys=[\"pt\", \"ct\"], name=\"ctpt\"),\n",
    "        #NormalizeIntensityd(keys=[\"ctpt\"], channel_wise=True),\n",
    "        RandCropByPosNegLabeld(\n",
    "            keys=[\"ctpt\", \"seg\"],\n",
    "            label_key=\"seg\",\n",
    "            spatial_size=(96, 96, 96),\n",
    "            pos=1,\n",
    "            neg=1,\n",
    "            num_samples=num_samples,\n",
    "            image_key=\"ctpt\",\n",
    "            image_threshold=0,\n",
    "        ),\n",
    "        RandFlipd(\n",
    "            keys=[\"ctpt\", \"seg\"],\n",
    "            spatial_axis=[0],\n",
    "            prob=0.20,\n",
    "        ),\n",
    "        RandFlipd(\n",
    "            keys=[\"ctpt\", \"seg\"],\n",
    "            spatial_axis=[1],\n",
    "            prob=0.20,\n",
    "        ),\n",
    "        RandFlipd(\n",
    "            keys=[\"ctpt\", \"seg\"],\n",
    "            spatial_axis=[2],\n",
    "            prob=0.20,\n",
    "        ),\n",
    "        RandRotate90d(\n",
    "            keys=[\"ctpt\", \"seg\"],\n",
    "            prob=0.20,\n",
    "            max_k=3,\n",
    "        ),\n",
    "    ]\n",
    ")\n",
    "val_transforms = Compose(\n",
    "    [\n",
    "        LoadImaged(keys=[\"ct\", \"pt\", \"seg\"], ensure_channel_first = True),\n",
    "        SpatialPadd(keys=[\"ct\", \"pt\", \"seg\"], spatial_size=(200, 200, 310), method='end'),\n",
    "        Orientationd(keys=[\"ct\", \"pt\", \"seg\"], axcodes=\"PLS\"),\n",
    "        NormalizeIntensityd(keys=[\"pt\"]),\n",
    "        ClipCT(keys=[\"ct\"]),\n",
    "        ScaleIntensityd(keys=[\"ct\"], minv=0, maxv=1),\n",
    "        #MulPTFM(keys=[\"ct\",\"pt\"]),\n",
    "        ConcatItemsd(keys=[\"pt\", \"ct\"], name=\"ctpt\"),\n",
    "    ]\n",
    ")"
   ]
  },
  {
   "cell_type": "code",
   "execution_count": 9,
   "metadata": {},
   "outputs": [],
   "source": [
    "train_ds = monai.data.Dataset(data=train_files, transform=train_transforms)\n",
    "\n",
    "train_loader = DataLoader(\n",
    "    train_ds,\n",
    "    batch_size=2,\n",
    "    shuffle=True,\n",
    "    num_workers=8,\n",
    "    pin_memory=torch.cuda.is_available(),\n",
    "    )\n",
    "\n",
    "val_ds = monai.data.Dataset(data=validation_files, transform=val_transforms)\n",
    "\n",
    "val_loader = DataLoader(\n",
    "    val_ds, \n",
    "    batch_size=2, \n",
    "    num_workers=8, \n",
    "    shuffle= False)"
   ]
  },
  {
   "cell_type": "code",
   "execution_count": 10,
   "metadata": {},
   "outputs": [
    {
     "name": "stderr",
     "output_type": "stream",
     "text": [
      "/home/nada.saadi/miniconda3/envs/clam/lib/python3.8/site-packages/monai/utils/deprecate_utils.py:221: FutureWarning: unetr CustomedUNETR.__init__:pos_embed: Argument `pos_embed` has been deprecated since version 1.2. It will be removed in version 1.4. please use `proj_type` instead.\n",
      "  warn_deprecated(argname, msg, warning_category)\n"
     ]
    },
    {
     "name": "stdout",
     "output_type": "stream",
     "text": [
      "Nada's version of UNETR\n",
      "(96, 96, 96)\n",
      "(16, 16, 16)\n",
      "(6, 6, 6)\n",
      "768\n",
      "zaz w dakchi ya s lbnat\n"
     ]
    }
   ],
   "source": [
    "os.environ[\"CUDA_DEVICE_ORDER\"] = \"PCI_BUS_ID\"\n",
    "device = torch.device(\"cuda\" if torch.cuda.is_available() else \"cpu\")\n",
    "model = CustomedUNETR(\n",
    "    in_channels=2,  # Number of input channels\n",
    "    out_channels=3,  # Number of output channels\n",
    "    img_size=(96, 96, 96),  # Size of the input image\n",
    "    feature_size=48,  # Size of the feature maps\n",
    "    hidden_size=768,\n",
    "    num_heads=12,  # Size of the hidden layers in the transformer\n",
    "    mlp_dim=3072,  # Dimension of the MLP in the transformer\n",
    "    pos_embed=\"perceptron\",  # Type of positional embedding\n",
    "    norm_name=\"instance\",  # Type of normalization\n",
    "    res_block=True,  # Whether to use residual blocks\n",
    "    dropout_rate=0.0,\n",
    "    proj_type=\"conv\",\n",
    "    r=4,\n",
    "    lora_layer=True,\n",
    "    use_ct_encoder=True,\n",
    "    use_pet_encoder=True,\n",
    ").to(device)"
   ]
  },
  {
   "cell_type": "code",
   "execution_count": 11,
   "metadata": {},
   "outputs": [],
   "source": [
    "torch.backends.cudnn.benchmark = True\n",
    "def poly_lr(epoch, max_epochs, initial_lr, exponent=0.9):\n",
    "    return initial_lr * (1 - epoch / max_epochs)**exponent\n",
    "\n",
    "loss_function = DiceCELoss(to_onehot_y=True, softmax=True)\n",
    "optimizer = torch.optim.AdamW(model.parameters(), lr=1e-4, weight_decay=1e-5)"
   ]
  },
  {
   "cell_type": "code",
   "execution_count": 12,
   "metadata": {},
   "outputs": [
    {
     "name": "stderr",
     "output_type": "stream",
     "text": [
      "Training (X / X Steps) (loss=X.X):   0%|          | 0/7 [00:00<?, ?it/s]"
     ]
    },
    {
     "name": "stderr",
     "output_type": "stream",
     "text": [
      "Training (6 / 18000 Steps) (loss=1.57941): 100%|██████████| 7/7 [01:21<00:00, 11.57s/it]\n",
      "Training (13 / 18000 Steps) (loss=1.35924): 100%|██████████| 7/7 [00:17<00:00,  2.46s/it]\n",
      "Training (20 / 18000 Steps) (loss=1.32671): 100%|██████████| 7/7 [00:16<00:00,  2.33s/it]\n",
      "Training (27 / 18000 Steps) (loss=1.33362): 100%|██████████| 7/7 [00:15<00:00,  2.26s/it]\n",
      "Training (34 / 18000 Steps) (loss=1.22198): 100%|██████████| 7/7 [00:15<00:00,  2.27s/it]\n",
      "Training (41 / 18000 Steps) (loss=1.27390): 100%|██████████| 7/7 [00:16<00:00,  2.34s/it]\n",
      "Training (48 / 18000 Steps) (loss=1.19159): 100%|██████████| 7/7 [00:17<00:00,  2.54s/it]\n",
      "Training (55 / 18000 Steps) (loss=1.14083): 100%|██████████| 7/7 [00:17<00:00,  2.46s/it]\n",
      "Training (62 / 18000 Steps) (loss=1.14620): 100%|██████████| 7/7 [00:17<00:00,  2.52s/it]\n",
      "Training (69 / 18000 Steps) (loss=1.09646): 100%|██████████| 7/7 [00:16<00:00,  2.34s/it]\n",
      "Training (76 / 18000 Steps) (loss=1.04863): 100%|██████████| 7/7 [00:15<00:00,  2.27s/it]\n",
      "Training (83 / 18000 Steps) (loss=1.09377): 100%|██████████| 7/7 [00:16<00:00,  2.38s/it]\n",
      "Training (90 / 18000 Steps) (loss=1.05981): 100%|██████████| 7/7 [00:16<00:00,  2.34s/it]\n",
      "Training (97 / 18000 Steps) (loss=1.03506): 100%|██████████| 7/7 [00:15<00:00,  2.28s/it]\n",
      "Validate (98 / 10 Steps): 100%|██████████| 2/2 [00:11<00:00,  5.95s/it]0<00:19,  3.95s/it]\n",
      "Training (100 / 18000 Steps) (loss=1.05633):  43%|████▎     | 3/7 [00:23<00:35,  8.87s/it]"
     ]
    },
    {
     "name": "stdout",
     "output_type": "stream",
     "text": [
      "Model Was Saved ! Current Best Avg. Dice: 0.09226757287979126 Current Avg. Dice: 0.09226757287979126 Current Avg. tumor Dice: 0.18453514575958252 Current Avg. lymph Dice: 0.0\n"
     ]
    },
    {
     "name": "stderr",
     "output_type": "stream",
     "text": [
      "Training (104 / 18000 Steps) (loss=1.02742): 100%|██████████| 7/7 [00:29<00:00,  4.19s/it]\n",
      "Training (111 / 18000 Steps) (loss=1.05335): 100%|██████████| 7/7 [00:15<00:00,  2.24s/it]\n",
      "Training (118 / 18000 Steps) (loss=1.03162): 100%|██████████| 7/7 [00:16<00:00,  2.38s/it]\n",
      "Training (125 / 18000 Steps) (loss=1.02247): 100%|██████████| 7/7 [00:16<00:00,  2.40s/it]\n",
      "Training (132 / 18000 Steps) (loss=0.96049): 100%|██████████| 7/7 [00:17<00:00,  2.44s/it]\n",
      "Training (139 / 18000 Steps) (loss=1.05393): 100%|██████████| 7/7 [00:17<00:00,  2.44s/it]\n",
      "Training (146 / 18000 Steps) (loss=1.00156): 100%|██████████| 7/7 [00:15<00:00,  2.17s/it]\n",
      "Training (153 / 18000 Steps) (loss=0.94883): 100%|██████████| 7/7 [00:16<00:00,  2.42s/it]\n",
      "Training (160 / 18000 Steps) (loss=0.92546): 100%|██████████| 7/7 [00:16<00:00,  2.33s/it]\n",
      "Training (167 / 18000 Steps) (loss=0.99197): 100%|██████████| 7/7 [00:15<00:00,  2.26s/it]\n",
      "Training (174 / 18000 Steps) (loss=0.94488): 100%|██████████| 7/7 [00:16<00:00,  2.29s/it]\n",
      "Training (181 / 18000 Steps) (loss=0.95746): 100%|██████████| 7/7 [00:16<00:00,  2.38s/it]\n",
      "Training (188 / 18000 Steps) (loss=0.95808): 100%|██████████| 7/7 [00:15<00:00,  2.21s/it]\n",
      "Training (195 / 18000 Steps) (loss=0.89715): 100%|██████████| 7/7 [00:17<00:00,  2.53s/it]\n",
      "Validate (196 / 10 Steps): 100%|██████████| 2/2 [00:12<00:00,  6.08s/it]<00:07,  2.42s/it]\n",
      "Training (200 / 18000 Steps) (loss=0.92854):  71%|███████▏  | 5/7 [00:26<00:13,  6.83s/it]"
     ]
    },
    {
     "name": "stdout",
     "output_type": "stream",
     "text": [
      "Model Was Saved ! Current Best Avg. Dice: 0.20215588808059692 Current Avg. Dice: 0.20215588808059692 Current Avg. tumor Dice: 0.31073707342147827 Current Avg. lymph Dice: 0.09357469528913498\n"
     ]
    },
    {
     "name": "stderr",
     "output_type": "stream",
     "text": [
      "Training (202 / 18000 Steps) (loss=0.98777): 100%|██████████| 7/7 [00:29<00:00,  4.20s/it]\n",
      "Training (209 / 18000 Steps) (loss=0.86801): 100%|██████████| 7/7 [00:16<00:00,  2.29s/it]\n",
      "Training (216 / 18000 Steps) (loss=0.91888): 100%|██████████| 7/7 [00:16<00:00,  2.41s/it]\n",
      "Training (223 / 18000 Steps) (loss=0.86677): 100%|██████████| 7/7 [00:16<00:00,  2.29s/it]\n",
      "Training (230 / 18000 Steps) (loss=0.90070): 100%|██████████| 7/7 [00:17<00:00,  2.50s/it]\n",
      "Training (237 / 18000 Steps) (loss=0.88159): 100%|██████████| 7/7 [00:17<00:00,  2.56s/it]\n",
      "Training (244 / 18000 Steps) (loss=0.91365): 100%|██████████| 7/7 [00:16<00:00,  2.41s/it]\n",
      "Training (251 / 18000 Steps) (loss=0.78422): 100%|██████████| 7/7 [00:16<00:00,  2.32s/it]\n",
      "Training (258 / 18000 Steps) (loss=1.00871): 100%|██████████| 7/7 [00:15<00:00,  2.28s/it]\n",
      "Training (265 / 18000 Steps) (loss=0.79733): 100%|██████████| 7/7 [00:16<00:00,  2.36s/it]\n",
      "Training (272 / 18000 Steps) (loss=0.83364): 100%|██████████| 7/7 [00:15<00:00,  2.24s/it]\n",
      "Training (279 / 18000 Steps) (loss=0.83321): 100%|██████████| 7/7 [00:17<00:00,  2.45s/it]\n",
      "Training (286 / 18000 Steps) (loss=0.83944): 100%|██████████| 7/7 [00:15<00:00,  2.23s/it]\n",
      "Training (293 / 18000 Steps) (loss=0.83569): 100%|██████████| 7/7 [00:17<00:00,  2.48s/it]\n",
      "Validate (294 / 10 Steps): 100%|██████████| 2/2 [00:12<00:00,  6.05s/it]<00:01,  1.97s/it]\n",
      "Training (300 / 18000 Steps) (loss=0.88586): 100%|██████████| 7/7 [00:30<00:00,  4.32s/it]\n"
     ]
    },
    {
     "name": "stdout",
     "output_type": "stream",
     "text": [
      "Model Was Saved ! Current Best Avg. Dice: 0.2359078824520111 Current Avg. Dice: 0.2359078824520111 Current Avg. tumor Dice: 0.34080901741981506 Current Avg. lymph Dice: 0.13100674748420715\n"
     ]
    },
    {
     "name": "stderr",
     "output_type": "stream",
     "text": [
      "Training (307 / 18000 Steps) (loss=0.86612): 100%|██████████| 7/7 [00:17<00:00,  2.54s/it]\n",
      "Training (314 / 18000 Steps) (loss=0.83517): 100%|██████████| 7/7 [00:17<00:00,  2.54s/it]\n",
      "Training (321 / 18000 Steps) (loss=0.80971): 100%|██████████| 7/7 [00:16<00:00,  2.39s/it]\n",
      "Training (328 / 18000 Steps) (loss=0.79851): 100%|██████████| 7/7 [00:15<00:00,  2.22s/it]\n",
      "Training (335 / 18000 Steps) (loss=0.82112): 100%|██████████| 7/7 [00:15<00:00,  2.27s/it]\n",
      "Training (342 / 18000 Steps) (loss=0.80455): 100%|██████████| 7/7 [00:17<00:00,  2.54s/it]\n",
      "Training (349 / 18000 Steps) (loss=0.67297): 100%|██████████| 7/7 [00:17<00:00,  2.48s/it]\n",
      "Training (356 / 18000 Steps) (loss=0.78052): 100%|██████████| 7/7 [00:17<00:00,  2.51s/it]\n",
      "Training (363 / 18000 Steps) (loss=0.73315): 100%|██████████| 7/7 [00:17<00:00,  2.45s/it]\n",
      "Training (370 / 18000 Steps) (loss=0.81454): 100%|██████████| 7/7 [00:16<00:00,  2.41s/it]\n",
      "Training (377 / 18000 Steps) (loss=0.82281): 100%|██████████| 7/7 [00:16<00:00,  2.33s/it]\n",
      "Training (384 / 18000 Steps) (loss=0.71475): 100%|██████████| 7/7 [00:17<00:00,  2.51s/it]\n",
      "Training (391 / 18000 Steps) (loss=0.80776): 100%|██████████| 7/7 [00:15<00:00,  2.22s/it]\n",
      "Training (398 / 18000 Steps) (loss=0.71360): 100%|██████████| 7/7 [00:17<00:00,  2.48s/it]\n",
      "Validate (399 / 10 Steps): 100%|██████████| 2/2 [00:12<00:00,  6.07s/it]<00:43,  7.22s/it]\n",
      "Training (400 / 18000 Steps) (loss=0.71686):  29%|██▊       | 2/7 [00:21<00:57, 11.58s/it]"
     ]
    },
    {
     "name": "stdout",
     "output_type": "stream",
     "text": [
      "Model Was Saved ! Current Best Avg. Dice: 0.2483540028333664 Current Avg. Dice: 0.2483540028333664 Current Avg. tumor Dice: 0.3426089286804199 Current Avg. lymph Dice: 0.15409906208515167\n"
     ]
    },
    {
     "name": "stderr",
     "output_type": "stream",
     "text": [
      "Training (405 / 18000 Steps) (loss=0.83768): 100%|██████████| 7/7 [00:29<00:00,  4.17s/it]\n",
      "Training (412 / 18000 Steps) (loss=0.75567): 100%|██████████| 7/7 [00:16<00:00,  2.29s/it]\n",
      "Training (419 / 18000 Steps) (loss=0.66393): 100%|██████████| 7/7 [00:17<00:00,  2.45s/it]\n",
      "Training (426 / 18000 Steps) (loss=0.79016): 100%|██████████| 7/7 [00:16<00:00,  2.33s/it]\n",
      "Training (433 / 18000 Steps) (loss=0.75513): 100%|██████████| 7/7 [00:16<00:00,  2.40s/it]\n",
      "Training (440 / 18000 Steps) (loss=0.78566): 100%|██████████| 7/7 [00:15<00:00,  2.26s/it]\n",
      "Training (447 / 18000 Steps) (loss=0.78000): 100%|██████████| 7/7 [00:17<00:00,  2.46s/it]\n",
      "Training (454 / 18000 Steps) (loss=0.72260): 100%|██████████| 7/7 [00:16<00:00,  2.32s/it]\n",
      "Training (461 / 18000 Steps) (loss=0.71810): 100%|██████████| 7/7 [00:17<00:00,  2.50s/it]\n",
      "Training (468 / 18000 Steps) (loss=0.71969): 100%|██████████| 7/7 [00:17<00:00,  2.45s/it]\n",
      "Training (475 / 18000 Steps) (loss=0.71182): 100%|██████████| 7/7 [00:17<00:00,  2.44s/it]\n",
      "Training (482 / 18000 Steps) (loss=0.73379): 100%|██████████| 7/7 [00:16<00:00,  2.42s/it]\n",
      "Training (489 / 18000 Steps) (loss=0.72208): 100%|██████████| 7/7 [00:16<00:00,  2.30s/it]\n",
      "Training (496 / 18000 Steps) (loss=0.67627): 100%|██████████| 7/7 [00:16<00:00,  2.36s/it]\n",
      "Validate (497 / 10 Steps): 100%|██████████| 2/2 [00:12<00:00,  6.05s/it]<00:11,  2.91s/it]\n",
      "Training (500 / 18000 Steps) (loss=0.64385):  57%|█████▋    | 4/7 [00:25<00:22,  7.52s/it]"
     ]
    },
    {
     "name": "stdout",
     "output_type": "stream",
     "text": [
      "Model Was Saved ! Current Best Avg. Dice: 0.29620876908302307 Current Avg. Dice: 0.29620876908302307 Current Avg. tumor Dice: 0.3292710781097412 Current Avg. lymph Dice: 0.26314643025398254\n"
     ]
    },
    {
     "name": "stderr",
     "output_type": "stream",
     "text": [
      "Training (503 / 18000 Steps) (loss=0.64857): 100%|██████████| 7/7 [00:29<00:00,  4.20s/it]\n",
      "Training (510 / 18000 Steps) (loss=0.75090): 100%|██████████| 7/7 [00:16<00:00,  2.36s/it]\n",
      "Training (517 / 18000 Steps) (loss=0.67121): 100%|██████████| 7/7 [00:16<00:00,  2.38s/it]\n",
      "Training (524 / 18000 Steps) (loss=0.59996): 100%|██████████| 7/7 [00:17<00:00,  2.55s/it]\n",
      "Training (531 / 18000 Steps) (loss=0.70977): 100%|██████████| 7/7 [00:17<00:00,  2.45s/it]\n",
      "Training (538 / 18000 Steps) (loss=0.64835): 100%|██████████| 7/7 [00:17<00:00,  2.52s/it]\n",
      "Training (545 / 18000 Steps) (loss=0.68114): 100%|██████████| 7/7 [00:17<00:00,  2.44s/it]\n",
      "Training (552 / 18000 Steps) (loss=0.64704): 100%|██████████| 7/7 [00:17<00:00,  2.54s/it]\n",
      "Training (559 / 18000 Steps) (loss=0.73745): 100%|██████████| 7/7 [00:19<00:00,  2.73s/it]\n",
      "Training (566 / 18000 Steps) (loss=0.62861): 100%|██████████| 7/7 [00:18<00:00,  2.68s/it]\n",
      "Training (573 / 18000 Steps) (loss=0.57324): 100%|██████████| 7/7 [00:17<00:00,  2.55s/it]\n",
      "Training (580 / 18000 Steps) (loss=0.65999): 100%|██████████| 7/7 [00:18<00:00,  2.59s/it]\n",
      "Training (587 / 18000 Steps) (loss=0.58460): 100%|██████████| 7/7 [00:18<00:00,  2.67s/it]\n",
      "Training (594 / 18000 Steps) (loss=0.63061): 100%|██████████| 7/7 [00:17<00:00,  2.46s/it]\n",
      "Validate (595 / 10 Steps): 100%|██████████| 2/2 [00:12<00:00,  6.43s/it]<00:04,  2.21s/it]\n",
      "Training (600 / 18000 Steps) (loss=0.69707):  86%|████████▌ | 6/7 [00:30<00:06,  6.69s/it]"
     ]
    },
    {
     "name": "stdout",
     "output_type": "stream",
     "text": [
      "Model Was Saved ! Current Best Avg. Dice: 0.36430662870407104 Current Avg. Dice: 0.36430662870407104 Current Avg. tumor Dice: 0.37999552488327026 Current Avg. lymph Dice: 0.34861770272254944\n"
     ]
    },
    {
     "name": "stderr",
     "output_type": "stream",
     "text": [
      "Training (601 / 18000 Steps) (loss=0.63527): 100%|██████████| 7/7 [00:31<00:00,  4.48s/it]\n",
      "Training (608 / 18000 Steps) (loss=0.71244): 100%|██████████| 7/7 [00:19<00:00,  2.72s/it]\n",
      "Training (615 / 18000 Steps) (loss=0.62382): 100%|██████████| 7/7 [00:19<00:00,  2.73s/it]\n",
      "Training (622 / 18000 Steps) (loss=0.65381): 100%|██████████| 7/7 [00:16<00:00,  2.41s/it]\n",
      "Training (629 / 18000 Steps) (loss=0.69230): 100%|██████████| 7/7 [00:18<00:00,  2.58s/it]\n",
      "Training (636 / 18000 Steps) (loss=0.74111): 100%|██████████| 7/7 [00:17<00:00,  2.52s/it]\n",
      "Training (643 / 18000 Steps) (loss=0.63673): 100%|██████████| 7/7 [00:18<00:00,  2.57s/it]\n",
      "Training (650 / 18000 Steps) (loss=0.68019): 100%|██████████| 7/7 [00:16<00:00,  2.40s/it]\n",
      "Training (657 / 18000 Steps) (loss=0.71306): 100%|██████████| 7/7 [00:16<00:00,  2.36s/it]\n",
      "Training (664 / 18000 Steps) (loss=0.68588): 100%|██████████| 7/7 [00:16<00:00,  2.30s/it]\n",
      "Training (671 / 18000 Steps) (loss=0.68600): 100%|██████████| 7/7 [00:18<00:00,  2.64s/it]\n",
      "Training (678 / 18000 Steps) (loss=0.52340): 100%|██████████| 7/7 [00:18<00:00,  2.66s/it]\n",
      "Training (685 / 18000 Steps) (loss=0.67245): 100%|██████████| 7/7 [00:17<00:00,  2.44s/it]\n",
      "Training (692 / 18000 Steps) (loss=0.60061): 100%|██████████| 7/7 [00:18<00:00,  2.68s/it]\n",
      "Training (699 / 18000 Steps) (loss=0.61410): 100%|██████████| 7/7 [00:17<00:00,  2.49s/it]\n",
      "Validate (700 / 10 Steps): 100%|██████████| 2/2 [00:13<00:00,  6.51s/it]<?, ?it/s]\n",
      "Training (700 / 18000 Steps) (loss=0.61638):  14%|█▍        | 1/7 [00:21<02:10, 21.72s/it]"
     ]
    },
    {
     "name": "stdout",
     "output_type": "stream",
     "text": [
      "Model Was Saved ! Current Best Avg. Dice: 0.3771243095397949 Current Avg. Dice: 0.3771243095397949 Current Avg. tumor Dice: 0.4321438670158386 Current Avg. lymph Dice: 0.3221047520637512\n"
     ]
    },
    {
     "name": "stderr",
     "output_type": "stream",
     "text": [
      "Training (706 / 18000 Steps) (loss=0.60652): 100%|██████████| 7/7 [00:30<00:00,  4.37s/it]\n",
      "Training (713 / 18000 Steps) (loss=0.66608): 100%|██████████| 7/7 [00:17<00:00,  2.44s/it]\n",
      "Training (720 / 18000 Steps) (loss=0.66536): 100%|██████████| 7/7 [00:18<00:00,  2.63s/it]\n",
      "Training (727 / 18000 Steps) (loss=0.61147): 100%|██████████| 7/7 [00:18<00:00,  2.63s/it]\n",
      "Training (734 / 18000 Steps) (loss=0.70094): 100%|██████████| 7/7 [00:18<00:00,  2.66s/it]\n",
      "Training (741 / 18000 Steps) (loss=0.66458): 100%|██████████| 7/7 [00:16<00:00,  2.35s/it]\n",
      "Training (748 / 18000 Steps) (loss=0.68634): 100%|██████████| 7/7 [00:16<00:00,  2.29s/it]\n",
      "Training (755 / 18000 Steps) (loss=0.54794): 100%|██████████| 7/7 [00:18<00:00,  2.57s/it]\n",
      "Training (762 / 18000 Steps) (loss=0.60086): 100%|██████████| 7/7 [00:17<00:00,  2.55s/it]\n",
      "Training (769 / 18000 Steps) (loss=0.56732): 100%|██████████| 7/7 [00:19<00:00,  2.75s/it]\n",
      "Training (776 / 18000 Steps) (loss=0.59183): 100%|██████████| 7/7 [00:17<00:00,  2.52s/it]\n",
      "Training (783 / 18000 Steps) (loss=0.55684): 100%|██████████| 7/7 [00:17<00:00,  2.49s/it]\n",
      "Training (790 / 18000 Steps) (loss=0.55753): 100%|██████████| 7/7 [00:17<00:00,  2.45s/it]\n",
      "Training (797 / 18000 Steps) (loss=0.60791): 100%|██████████| 7/7 [00:16<00:00,  2.42s/it]\n",
      "Validate (798 / 10 Steps): 100%|██████████| 2/2 [00:12<00:00,  6.18s/it]<00:24,  4.93s/it]\n",
      "Training (800 / 18000 Steps) (loss=0.56386):  43%|████▎     | 3/7 [00:26<00:38,  9.51s/it]"
     ]
    },
    {
     "name": "stdout",
     "output_type": "stream",
     "text": [
      "Model Was Saved ! Current Best Avg. Dice: 0.40210404992103577 Current Avg. Dice: 0.40210404992103577 Current Avg. tumor Dice: 0.4288257360458374 Current Avg. lymph Dice: 0.37538230419158936\n"
     ]
    },
    {
     "name": "stderr",
     "output_type": "stream",
     "text": [
      "Training (804 / 18000 Steps) (loss=0.54624): 100%|██████████| 7/7 [00:31<00:00,  4.56s/it]\n",
      "Training (811 / 18000 Steps) (loss=0.61920): 100%|██████████| 7/7 [00:16<00:00,  2.30s/it]\n",
      "Training (818 / 18000 Steps) (loss=0.52999): 100%|██████████| 7/7 [00:15<00:00,  2.27s/it]\n",
      "Training (825 / 18000 Steps) (loss=0.45800): 100%|██████████| 7/7 [00:16<00:00,  2.38s/it]\n",
      "Training (832 / 18000 Steps) (loss=0.58008): 100%|██████████| 7/7 [00:16<00:00,  2.42s/it]\n",
      "Training (839 / 18000 Steps) (loss=0.49352): 100%|██████████| 7/7 [00:16<00:00,  2.40s/it]\n",
      "Training (846 / 18000 Steps) (loss=0.47223): 100%|██████████| 7/7 [00:17<00:00,  2.53s/it]\n",
      "Training (853 / 18000 Steps) (loss=0.42795): 100%|██████████| 7/7 [00:17<00:00,  2.52s/it]\n",
      "Training (860 / 18000 Steps) (loss=0.49520): 100%|██████████| 7/7 [00:16<00:00,  2.41s/it]\n",
      "Training (867 / 18000 Steps) (loss=0.49030): 100%|██████████| 7/7 [00:16<00:00,  2.35s/it]\n",
      "Training (874 / 18000 Steps) (loss=0.56881): 100%|██████████| 7/7 [00:16<00:00,  2.37s/it]\n",
      "Training (881 / 18000 Steps) (loss=0.47050): 100%|██████████| 7/7 [00:16<00:00,  2.41s/it]\n",
      "Training (888 / 18000 Steps) (loss=0.50284): 100%|██████████| 7/7 [00:17<00:00,  2.44s/it]\n",
      "Training (895 / 18000 Steps) (loss=0.61577): 100%|██████████| 7/7 [00:16<00:00,  2.33s/it]\n",
      "Validate (896 / 10 Steps): 100%|██████████| 2/2 [00:12<00:00,  6.12s/it]<00:07,  2.44s/it]\n",
      "Training (900 / 18000 Steps) (loss=0.55404):  71%|███████▏  | 5/7 [00:27<00:13,  6.85s/it]"
     ]
    },
    {
     "name": "stdout",
     "output_type": "stream",
     "text": [
      "Model Was Saved ! Current Best Avg. Dice: 0.41289442777633667 Current Avg. Dice: 0.41289442777633667 Current Avg. tumor Dice: 0.45159339904785156 Current Avg. lymph Dice: 0.3741954565048218\n"
     ]
    },
    {
     "name": "stderr",
     "output_type": "stream",
     "text": [
      "Training (902 / 18000 Steps) (loss=0.57228): 100%|██████████| 7/7 [00:29<00:00,  4.26s/it]\n",
      "Training (909 / 18000 Steps) (loss=0.59220): 100%|██████████| 7/7 [00:16<00:00,  2.35s/it]\n",
      "Training (916 / 18000 Steps) (loss=0.56200): 100%|██████████| 7/7 [00:16<00:00,  2.30s/it]\n",
      "Training (923 / 18000 Steps) (loss=0.44774): 100%|██████████| 7/7 [00:17<00:00,  2.52s/it]\n",
      "Training (930 / 18000 Steps) (loss=0.60542): 100%|██████████| 7/7 [00:17<00:00,  2.57s/it]\n",
      "Training (937 / 18000 Steps) (loss=0.58065): 100%|██████████| 7/7 [00:16<00:00,  2.34s/it]\n",
      "Training (944 / 18000 Steps) (loss=0.65689): 100%|██████████| 7/7 [00:17<00:00,  2.46s/it]\n",
      "Training (951 / 18000 Steps) (loss=0.44942): 100%|██████████| 7/7 [00:16<00:00,  2.39s/it]\n",
      "Training (958 / 18000 Steps) (loss=0.58114): 100%|██████████| 7/7 [00:16<00:00,  2.31s/it]\n",
      "Training (965 / 18000 Steps) (loss=0.65443): 100%|██████████| 7/7 [00:17<00:00,  2.52s/it]\n",
      "Training (972 / 18000 Steps) (loss=0.63452): 100%|██████████| 7/7 [00:16<00:00,  2.30s/it]\n",
      "Training (979 / 18000 Steps) (loss=0.59995): 100%|██████████| 7/7 [00:17<00:00,  2.50s/it]\n",
      "Training (986 / 18000 Steps) (loss=0.55922): 100%|██████████| 7/7 [00:17<00:00,  2.44s/it]\n",
      "Training (993 / 18000 Steps) (loss=0.48576): 100%|██████████| 7/7 [00:18<00:00,  2.58s/it]\n",
      "Validate (994 / 10 Steps): 100%|██████████| 2/2 [00:12<00:00,  6.03s/it]6<00:01,  1.93s/it]\n",
      "Training (1000 / 18000 Steps) (loss=0.50490): 100%|██████████| 7/7 [00:29<00:00,  4.20s/it]\n"
     ]
    },
    {
     "name": "stdout",
     "output_type": "stream",
     "text": [
      "Model Was Saved ! Current Best Avg. Dice: 0.41787707805633545 Current Avg. Dice: 0.41787707805633545 Current Avg. tumor Dice: 0.4552488923072815 Current Avg. lymph Dice: 0.3805053234100342\n"
     ]
    },
    {
     "name": "stderr",
     "output_type": "stream",
     "text": [
      "Training (1007 / 18000 Steps) (loss=0.61115): 100%|██████████| 7/7 [00:16<00:00,  2.39s/it]\n",
      "Training (1014 / 18000 Steps) (loss=0.41417): 100%|██████████| 7/7 [00:16<00:00,  2.38s/it]\n",
      "Training (1021 / 18000 Steps) (loss=0.59119): 100%|██████████| 7/7 [00:17<00:00,  2.54s/it]\n",
      "Training (1028 / 18000 Steps) (loss=0.41634): 100%|██████████| 7/7 [00:16<00:00,  2.37s/it]\n",
      "Training (1035 / 18000 Steps) (loss=0.51414): 100%|██████████| 7/7 [00:18<00:00,  2.68s/it]\n",
      "Training (1042 / 18000 Steps) (loss=0.62148): 100%|██████████| 7/7 [00:15<00:00,  2.27s/it]\n",
      "Training (1049 / 18000 Steps) (loss=0.42292): 100%|██████████| 7/7 [00:18<00:00,  2.60s/it]\n",
      "Training (1056 / 18000 Steps) (loss=0.40174): 100%|██████████| 7/7 [00:17<00:00,  2.51s/it]\n",
      "Training (1063 / 18000 Steps) (loss=0.63266): 100%|██████████| 7/7 [00:17<00:00,  2.50s/it]\n",
      "Training (1070 / 18000 Steps) (loss=0.51087): 100%|██████████| 7/7 [00:16<00:00,  2.29s/it]\n",
      "Training (1077 / 18000 Steps) (loss=0.63942): 100%|██████████| 7/7 [00:15<00:00,  2.27s/it]\n",
      "Training (1084 / 18000 Steps) (loss=0.51485): 100%|██████████| 7/7 [00:16<00:00,  2.35s/it]\n",
      "Training (1091 / 18000 Steps) (loss=0.72812): 100%|██████████| 7/7 [00:17<00:00,  2.46s/it]\n",
      "Training (1098 / 18000 Steps) (loss=0.46369): 100%|██████████| 7/7 [00:15<00:00,  2.28s/it]\n",
      "Validate (1099 / 10 Steps): 100%|██████████| 2/2 [00:12<00:00,  6.02s/it]<00:49,  8.22s/it]\n",
      "Training (1100 / 18000 Steps) (loss=0.35396):  29%|██▊       | 2/7 [00:21<00:57, 11.49s/it]"
     ]
    },
    {
     "name": "stdout",
     "output_type": "stream",
     "text": [
      "Model Was Not Saved ! Current Best Avg. Dice: 0.41787707805633545 Current Avg. Dice: 0.23856674134731293 Current Avg. tumor Dice: 0.1504058688879013 Current Avg. lymph Dice: 0.32672759890556335\n"
     ]
    },
    {
     "name": "stderr",
     "output_type": "stream",
     "text": [
      "Training (1105 / 18000 Steps) (loss=0.64617): 100%|██████████| 7/7 [00:29<00:00,  4.18s/it]\n",
      "Training (1112 / 18000 Steps) (loss=0.52783): 100%|██████████| 7/7 [00:16<00:00,  2.35s/it]\n",
      "Training (1119 / 18000 Steps) (loss=0.43168): 100%|██████████| 7/7 [00:15<00:00,  2.24s/it]\n",
      "Training (1126 / 18000 Steps) (loss=0.50106): 100%|██████████| 7/7 [00:18<00:00,  2.67s/it]\n",
      "Training (1133 / 18000 Steps) (loss=0.58308): 100%|██████████| 7/7 [00:18<00:00,  2.61s/it]\n",
      "Training (1140 / 18000 Steps) (loss=0.46652): 100%|██████████| 7/7 [00:16<00:00,  2.35s/it]\n",
      "Training (1147 / 18000 Steps) (loss=0.42935): 100%|██████████| 7/7 [00:16<00:00,  2.40s/it]\n",
      "Training (1154 / 18000 Steps) (loss=0.25552): 100%|██████████| 7/7 [00:17<00:00,  2.52s/it]\n",
      "Training (1161 / 18000 Steps) (loss=0.55008): 100%|██████████| 7/7 [00:15<00:00,  2.24s/it]\n",
      "Training (1168 / 18000 Steps) (loss=0.45967): 100%|██████████| 7/7 [00:15<00:00,  2.26s/it]\n",
      "Training (1175 / 18000 Steps) (loss=0.52322): 100%|██████████| 7/7 [00:15<00:00,  2.24s/it]\n",
      "Training (1182 / 18000 Steps) (loss=0.47181): 100%|██████████| 7/7 [00:17<00:00,  2.56s/it]\n",
      "Training (1189 / 18000 Steps) (loss=0.68520): 100%|██████████| 7/7 [00:15<00:00,  2.28s/it]\n",
      "Training (1196 / 18000 Steps) (loss=0.52974): 100%|██████████| 7/7 [00:17<00:00,  2.54s/it]\n",
      "Validate (1197 / 10 Steps): 100%|██████████| 2/2 [00:12<00:00,  6.05s/it]<00:11,  2.95s/it]\n",
      "Training (1200 / 18000 Steps) (loss=0.47037):  57%|█████▋    | 4/7 [00:24<00:21,  7.23s/it]"
     ]
    },
    {
     "name": "stdout",
     "output_type": "stream",
     "text": [
      "Model Was Not Saved ! Current Best Avg. Dice: 0.41787707805633545 Current Avg. Dice: 0.39823299646377563 Current Avg. tumor Dice: 0.4117763042449951 Current Avg. lymph Dice: 0.3846896290779114\n"
     ]
    },
    {
     "name": "stderr",
     "output_type": "stream",
     "text": [
      "Training (1203 / 18000 Steps) (loss=0.39533): 100%|██████████| 7/7 [00:28<00:00,  4.11s/it]\n",
      "Training (1210 / 18000 Steps) (loss=0.51730): 100%|██████████| 7/7 [00:17<00:00,  2.55s/it]\n",
      "Training (1217 / 18000 Steps) (loss=0.47737): 100%|██████████| 7/7 [00:17<00:00,  2.47s/it]\n",
      "Training (1224 / 18000 Steps) (loss=0.61164): 100%|██████████| 7/7 [00:15<00:00,  2.24s/it]\n",
      "Training (1231 / 18000 Steps) (loss=0.60655): 100%|██████████| 7/7 [00:15<00:00,  2.27s/it]\n",
      "Training (1238 / 18000 Steps) (loss=0.25027): 100%|██████████| 7/7 [00:17<00:00,  2.54s/it]\n",
      "Training (1245 / 18000 Steps) (loss=0.53953): 100%|██████████| 7/7 [00:17<00:00,  2.47s/it]\n",
      "Training (1252 / 18000 Steps) (loss=0.50231): 100%|██████████| 7/7 [00:16<00:00,  2.30s/it]\n",
      "Training (1259 / 18000 Steps) (loss=0.56006): 100%|██████████| 7/7 [00:17<00:00,  2.51s/it]\n",
      "Training (1266 / 18000 Steps) (loss=0.49719): 100%|██████████| 7/7 [00:16<00:00,  2.39s/it]\n",
      "Training (1273 / 18000 Steps) (loss=0.49519): 100%|██████████| 7/7 [00:17<00:00,  2.55s/it]\n",
      "Training (1280 / 18000 Steps) (loss=0.59050): 100%|██████████| 7/7 [00:16<00:00,  2.40s/it]\n",
      "Training (1287 / 18000 Steps) (loss=0.41779): 100%|██████████| 7/7 [00:15<00:00,  2.27s/it]\n",
      "Training (1294 / 18000 Steps) (loss=0.55671): 100%|██████████| 7/7 [00:15<00:00,  2.22s/it]\n",
      "Validate (1295 / 10 Steps): 100%|██████████| 2/2 [00:12<00:00,  6.01s/it]<00:04,  2.06s/it]\n",
      "Training (1300 / 18000 Steps) (loss=0.57301):  86%|████████▌ | 6/7 [00:27<00:06,  6.02s/it]"
     ]
    },
    {
     "name": "stdout",
     "output_type": "stream",
     "text": [
      "Model Was Not Saved ! Current Best Avg. Dice: 0.41787707805633545 Current Avg. Dice: 0.36926209926605225 Current Avg. tumor Dice: 0.4213080108165741 Current Avg. lymph Dice: 0.3172162175178528\n"
     ]
    },
    {
     "name": "stderr",
     "output_type": "stream",
     "text": [
      "Training (1301 / 18000 Steps) (loss=0.44917): 100%|██████████| 7/7 [00:28<00:00,  4.00s/it]\n",
      "Training (1308 / 18000 Steps) (loss=0.52154): 100%|██████████| 7/7 [00:16<00:00,  2.41s/it]\n",
      "Training (1315 / 18000 Steps) (loss=0.57997): 100%|██████████| 7/7 [00:16<00:00,  2.33s/it]\n",
      "Training (1322 / 18000 Steps) (loss=0.53232): 100%|██████████| 7/7 [00:16<00:00,  2.40s/it]\n",
      "Training (1329 / 18000 Steps) (loss=0.43383): 100%|██████████| 7/7 [00:16<00:00,  2.38s/it]\n",
      "Training (1336 / 18000 Steps) (loss=0.30056): 100%|██████████| 7/7 [00:15<00:00,  2.27s/it]\n",
      "Training (1343 / 18000 Steps) (loss=0.30695): 100%|██████████| 7/7 [00:16<00:00,  2.42s/it]\n",
      "Training (1350 / 18000 Steps) (loss=0.51544): 100%|██████████| 7/7 [00:15<00:00,  2.21s/it]\n",
      "Training (1357 / 18000 Steps) (loss=0.38197): 100%|██████████| 7/7 [00:16<00:00,  2.39s/it]\n",
      "Training (1364 / 18000 Steps) (loss=0.67314): 100%|██████████| 7/7 [00:16<00:00,  2.41s/it]\n",
      "Training (1371 / 18000 Steps) (loss=0.39039): 100%|██████████| 7/7 [00:16<00:00,  2.30s/it]\n",
      "Training (1378 / 18000 Steps) (loss=0.40611): 100%|██████████| 7/7 [00:17<00:00,  2.44s/it]\n",
      "Training (1385 / 18000 Steps) (loss=0.24405): 100%|██████████| 7/7 [00:15<00:00,  2.27s/it]\n",
      "Training (1392 / 18000 Steps) (loss=0.46368): 100%|██████████| 7/7 [00:16<00:00,  2.33s/it]\n",
      "Training (1399 / 18000 Steps) (loss=0.40657): 100%|██████████| 7/7 [00:17<00:00,  2.54s/it]\n",
      "Validate (1400 / 10 Steps): 100%|██████████| 2/2 [00:12<00:00,  6.05s/it]<?, ?it/s]\n",
      "Training (1400 / 18000 Steps) (loss=0.40929):  14%|█▍        | 1/7 [00:19<01:58, 19.68s/it]"
     ]
    },
    {
     "name": "stdout",
     "output_type": "stream",
     "text": [
      "Model Was Not Saved ! Current Best Avg. Dice: 0.41787707805633545 Current Avg. Dice: 0.3882116377353668 Current Avg. tumor Dice: 0.395934522151947 Current Avg. lymph Dice: 0.3804887533187866\n"
     ]
    },
    {
     "name": "stderr",
     "output_type": "stream",
     "text": [
      "Training (1406 / 18000 Steps) (loss=0.47610): 100%|██████████| 7/7 [00:28<00:00,  4.08s/it]\n",
      "Training (1413 / 18000 Steps) (loss=0.63282): 100%|██████████| 7/7 [00:15<00:00,  2.21s/it]\n",
      "Training (1420 / 18000 Steps) (loss=0.54181): 100%|██████████| 7/7 [00:16<00:00,  2.35s/it]\n",
      "Training (1427 / 18000 Steps) (loss=0.54023): 100%|██████████| 7/7 [00:16<00:00,  2.33s/it]\n",
      "Training (1434 / 18000 Steps) (loss=0.27123): 100%|██████████| 7/7 [00:15<00:00,  2.20s/it]\n",
      "Training (1441 / 18000 Steps) (loss=0.41615): 100%|██████████| 7/7 [00:16<00:00,  2.31s/it]\n",
      "Training (1448 / 18000 Steps) (loss=0.37413): 100%|██████████| 7/7 [00:18<00:00,  2.58s/it]\n",
      "Training (1455 / 18000 Steps) (loss=0.40854): 100%|██████████| 7/7 [00:17<00:00,  2.45s/it]\n",
      "Training (1462 / 18000 Steps) (loss=0.46015): 100%|██████████| 7/7 [00:17<00:00,  2.43s/it]\n",
      "Training (1469 / 18000 Steps) (loss=0.33167): 100%|██████████| 7/7 [00:16<00:00,  2.42s/it]\n",
      "Training (1476 / 18000 Steps) (loss=0.63770): 100%|██████████| 7/7 [00:15<00:00,  2.26s/it]\n",
      "Training (1483 / 18000 Steps) (loss=0.35831): 100%|██████████| 7/7 [00:16<00:00,  2.40s/it]\n",
      "Training (1490 / 18000 Steps) (loss=0.46035): 100%|██████████| 7/7 [00:15<00:00,  2.24s/it]\n",
      "Training (1497 / 18000 Steps) (loss=0.39165): 100%|██████████| 7/7 [00:16<00:00,  2.42s/it]\n",
      "Validate (1498 / 10 Steps): 100%|██████████| 2/2 [00:11<00:00,  5.84s/it]<00:18,  3.73s/it]\n",
      "Training (1500 / 18000 Steps) (loss=0.39065):  43%|████▎     | 3/7 [00:22<00:34,  8.54s/it]"
     ]
    },
    {
     "name": "stdout",
     "output_type": "stream",
     "text": [
      "Model Was Saved ! Current Best Avg. Dice: 0.4590732455253601 Current Avg. Dice: 0.4590732455253601 Current Avg. tumor Dice: 0.4993528723716736 Current Avg. lymph Dice: 0.41879355907440186\n"
     ]
    },
    {
     "name": "stderr",
     "output_type": "stream",
     "text": [
      "Training (1504 / 18000 Steps) (loss=0.49313): 100%|██████████| 7/7 [00:28<00:00,  4.04s/it]\n",
      "Training (1511 / 18000 Steps) (loss=0.36626): 100%|██████████| 7/7 [00:15<00:00,  2.26s/it]\n",
      "Training (1518 / 18000 Steps) (loss=0.45268): 100%|██████████| 7/7 [00:16<00:00,  2.32s/it]\n",
      "Training (1525 / 18000 Steps) (loss=0.58236): 100%|██████████| 7/7 [00:15<00:00,  2.28s/it]\n",
      "Training (1532 / 18000 Steps) (loss=0.58633): 100%|██████████| 7/7 [00:18<00:00,  2.61s/it]\n",
      "Training (1539 / 18000 Steps) (loss=0.36022): 100%|██████████| 7/7 [00:16<00:00,  2.37s/it]\n",
      "Training (1546 / 18000 Steps) (loss=0.46878): 100%|██████████| 7/7 [00:16<00:00,  2.41s/it]\n",
      "Training (1553 / 18000 Steps) (loss=0.50733): 100%|██████████| 7/7 [00:16<00:00,  2.37s/it]\n",
      "Training (1560 / 18000 Steps) (loss=0.28323): 100%|██████████| 7/7 [00:15<00:00,  2.27s/it]\n",
      "Training (1567 / 18000 Steps) (loss=0.56727): 100%|██████████| 7/7 [00:16<00:00,  2.42s/it]\n",
      "Training (1574 / 18000 Steps) (loss=0.38997): 100%|██████████| 7/7 [00:15<00:00,  2.25s/it]\n",
      "Training (1581 / 18000 Steps) (loss=0.63613): 100%|██████████| 7/7 [00:16<00:00,  2.33s/it]\n",
      "Training (1588 / 18000 Steps) (loss=0.30796): 100%|██████████| 7/7 [00:16<00:00,  2.39s/it]\n",
      "Training (1595 / 18000 Steps) (loss=0.35443): 100%|██████████| 7/7 [00:15<00:00,  2.23s/it]\n",
      "Validate (1596 / 10 Steps): 100%|██████████| 2/2 [00:11<00:00,  5.96s/it]<00:07,  2.40s/it]\n",
      "Training (1600 / 18000 Steps) (loss=0.51503):  71%|███████▏  | 5/7 [00:25<00:12,  6.44s/it]"
     ]
    },
    {
     "name": "stdout",
     "output_type": "stream",
     "text": [
      "Model Was Not Saved ! Current Best Avg. Dice: 0.4590732455253601 Current Avg. Dice: 0.427511990070343 Current Avg. tumor Dice: 0.4895913600921631 Current Avg. lymph Dice: 0.36543262004852295\n"
     ]
    },
    {
     "name": "stderr",
     "output_type": "stream",
     "text": [
      "Training (1602 / 18000 Steps) (loss=0.34063): 100%|██████████| 7/7 [00:28<00:00,  4.06s/it]\n",
      "Training (1609 / 18000 Steps) (loss=0.36121): 100%|██████████| 7/7 [00:16<00:00,  2.41s/it]\n",
      "Training (1616 / 18000 Steps) (loss=0.50813): 100%|██████████| 7/7 [00:15<00:00,  2.20s/it]\n",
      "Training (1623 / 18000 Steps) (loss=0.41675): 100%|██████████| 7/7 [00:15<00:00,  2.28s/it]\n",
      "Training (1630 / 18000 Steps) (loss=0.63509): 100%|██████████| 7/7 [00:15<00:00,  2.26s/it]\n",
      "Training (1637 / 18000 Steps) (loss=0.46961): 100%|██████████| 7/7 [00:16<00:00,  2.36s/it]\n",
      "Training (1644 / 18000 Steps) (loss=0.62350): 100%|██████████| 7/7 [00:17<00:00,  2.52s/it]\n",
      "Training (1651 / 18000 Steps) (loss=0.50968): 100%|██████████| 7/7 [00:17<00:00,  2.46s/it]\n",
      "Training (1658 / 18000 Steps) (loss=0.40751): 100%|██████████| 7/7 [00:16<00:00,  2.40s/it]\n",
      "Training (1665 / 18000 Steps) (loss=0.24909): 100%|██████████| 7/7 [00:15<00:00,  2.26s/it]\n",
      "Training (1672 / 18000 Steps) (loss=0.55774): 100%|██████████| 7/7 [00:17<00:00,  2.44s/it]\n",
      "Training (1679 / 18000 Steps) (loss=0.30353): 100%|██████████| 7/7 [00:16<00:00,  2.31s/it]\n",
      "Training (1686 / 18000 Steps) (loss=0.46781): 100%|██████████| 7/7 [00:15<00:00,  2.22s/it]\n",
      "Training (1693 / 18000 Steps) (loss=0.38175): 100%|██████████| 7/7 [00:15<00:00,  2.26s/it]\n",
      "Validate (1694 / 10 Steps): 100%|██████████| 2/2 [00:12<00:00,  6.06s/it]<00:02,  2.02s/it]\n",
      "Training (1700 / 18000 Steps) (loss=0.47129): 100%|██████████| 7/7 [00:31<00:00,  4.43s/it]\n"
     ]
    },
    {
     "name": "stdout",
     "output_type": "stream",
     "text": [
      "Model Was Saved ! Current Best Avg. Dice: 0.5145047307014465 Current Avg. Dice: 0.5145047307014465 Current Avg. tumor Dice: 0.5652750134468079 Current Avg. lymph Dice: 0.4637344479560852\n"
     ]
    },
    {
     "name": "stderr",
     "output_type": "stream",
     "text": [
      "Training (1707 / 18000 Steps) (loss=0.40248): 100%|██████████| 7/7 [00:17<00:00,  2.44s/it]\n",
      "Training (1714 / 18000 Steps) (loss=0.33891): 100%|██████████| 7/7 [00:16<00:00,  2.40s/it]\n",
      "Training (1721 / 18000 Steps) (loss=0.28072): 100%|██████████| 7/7 [00:16<00:00,  2.29s/it]\n",
      "Training (1728 / 18000 Steps) (loss=0.58165): 100%|██████████| 7/7 [00:15<00:00,  2.24s/it]\n",
      "Training (1735 / 18000 Steps) (loss=0.40771): 100%|██████████| 7/7 [00:16<00:00,  2.35s/it]\n",
      "Training (1742 / 18000 Steps) (loss=0.58146): 100%|██████████| 7/7 [00:15<00:00,  2.27s/it]\n",
      "Training (1749 / 18000 Steps) (loss=0.44675): 100%|██████████| 7/7 [00:15<00:00,  2.21s/it]\n",
      "Training (1756 / 18000 Steps) (loss=0.28181): 100%|██████████| 7/7 [00:17<00:00,  2.46s/it]\n",
      "Training (1763 / 18000 Steps) (loss=0.32505): 100%|██████████| 7/7 [00:16<00:00,  2.31s/it]\n",
      "Training (1770 / 18000 Steps) (loss=0.29492): 100%|██████████| 7/7 [00:16<00:00,  2.29s/it]\n",
      "Training (1777 / 18000 Steps) (loss=0.30697): 100%|██████████| 7/7 [00:17<00:00,  2.45s/it]\n",
      "Training (1784 / 18000 Steps) (loss=0.45608): 100%|██████████| 7/7 [00:16<00:00,  2.42s/it]\n",
      "Training (1791 / 18000 Steps) (loss=0.50971): 100%|██████████| 7/7 [00:16<00:00,  2.38s/it]\n",
      "Training (1798 / 18000 Steps) (loss=0.52031): 100%|██████████| 7/7 [00:16<00:00,  2.36s/it]\n",
      "Validate (1799 / 10 Steps): 100%|██████████| 2/2 [00:12<00:00,  6.02s/it]<00:41,  6.96s/it]\n",
      "Training (1800 / 18000 Steps) (loss=0.38250):  29%|██▊       | 2/7 [00:20<00:54, 10.93s/it]"
     ]
    },
    {
     "name": "stdout",
     "output_type": "stream",
     "text": [
      "Model Was Not Saved ! Current Best Avg. Dice: 0.5145047307014465 Current Avg. Dice: 0.4468569755554199 Current Avg. tumor Dice: 0.5069608688354492 Current Avg. lymph Dice: 0.3867531418800354\n"
     ]
    },
    {
     "name": "stderr",
     "output_type": "stream",
     "text": [
      "Training (1805 / 18000 Steps) (loss=0.39484): 100%|██████████| 7/7 [00:27<00:00,  4.00s/it]\n",
      "Training (1812 / 18000 Steps) (loss=0.36202): 100%|██████████| 7/7 [00:17<00:00,  2.45s/it]\n",
      "Training (1819 / 18000 Steps) (loss=0.29336): 100%|██████████| 7/7 [00:17<00:00,  2.44s/it]\n",
      "Training (1826 / 18000 Steps) (loss=0.62015): 100%|██████████| 7/7 [00:16<00:00,  2.40s/it]\n",
      "Training (1833 / 18000 Steps) (loss=0.35776): 100%|██████████| 7/7 [00:17<00:00,  2.50s/it]\n",
      "Training (1840 / 18000 Steps) (loss=0.44717): 100%|██████████| 7/7 [00:16<00:00,  2.31s/it]\n",
      "Training (1847 / 18000 Steps) (loss=0.46513): 100%|██████████| 7/7 [00:16<00:00,  2.33s/it]\n",
      "Training (1854 / 18000 Steps) (loss=0.57113): 100%|██████████| 7/7 [00:17<00:00,  2.45s/it]\n",
      "Training (1861 / 18000 Steps) (loss=0.39727): 100%|██████████| 7/7 [00:17<00:00,  2.55s/it]\n",
      "Training (1868 / 18000 Steps) (loss=0.50693): 100%|██████████| 7/7 [00:16<00:00,  2.32s/it]\n",
      "Training (1875 / 18000 Steps) (loss=0.42833): 100%|██████████| 7/7 [00:17<00:00,  2.46s/it]\n",
      "Training (1882 / 18000 Steps) (loss=0.27892): 100%|██████████| 7/7 [00:16<00:00,  2.41s/it]\n",
      "Training (1889 / 18000 Steps) (loss=0.52387): 100%|██████████| 7/7 [00:16<00:00,  2.33s/it]\n",
      "Training (1896 / 18000 Steps) (loss=0.58512): 100%|██████████| 7/7 [00:16<00:00,  2.42s/it]\n",
      "Validate (1897 / 10 Steps): 100%|██████████| 2/2 [00:11<00:00,  5.88s/it]<00:11,  2.91s/it]\n",
      "Training (1900 / 18000 Steps) (loss=0.47890):  57%|█████▋    | 4/7 [00:24<00:21,  7.07s/it]"
     ]
    },
    {
     "name": "stdout",
     "output_type": "stream",
     "text": [
      "Model Was Not Saved ! Current Best Avg. Dice: 0.5145047307014465 Current Avg. Dice: 0.5047163963317871 Current Avg. tumor Dice: 0.5721383094787598 Current Avg. lymph Dice: 0.43729448318481445\n"
     ]
    },
    {
     "name": "stderr",
     "output_type": "stream",
     "text": [
      "Training (1903 / 18000 Steps) (loss=0.55455): 100%|██████████| 7/7 [00:28<00:00,  4.03s/it]\n",
      "Training (1910 / 18000 Steps) (loss=0.32960): 100%|██████████| 7/7 [00:16<00:00,  2.41s/it]\n",
      "Training (1917 / 18000 Steps) (loss=0.24351): 100%|██████████| 7/7 [00:17<00:00,  2.53s/it]\n",
      "Training (1924 / 18000 Steps) (loss=0.51493): 100%|██████████| 7/7 [00:17<00:00,  2.52s/it]\n",
      "Training (1931 / 18000 Steps) (loss=0.44224): 100%|██████████| 7/7 [00:16<00:00,  2.41s/it]\n",
      "Training (1938 / 18000 Steps) (loss=0.35946): 100%|██████████| 7/7 [00:15<00:00,  2.21s/it]\n",
      "Training (1945 / 18000 Steps) (loss=0.66996): 100%|██████████| 7/7 [00:17<00:00,  2.46s/it]\n",
      "Training (1952 / 18000 Steps) (loss=0.31228): 100%|██████████| 7/7 [00:15<00:00,  2.23s/it]\n",
      "Training (1959 / 18000 Steps) (loss=0.67297): 100%|██████████| 7/7 [00:16<00:00,  2.37s/it]\n",
      "Training (1966 / 18000 Steps) (loss=0.49043): 100%|██████████| 7/7 [00:15<00:00,  2.28s/it]\n",
      "Training (1973 / 18000 Steps) (loss=0.51704): 100%|██████████| 7/7 [00:15<00:00,  2.26s/it]\n",
      "Training (1980 / 18000 Steps) (loss=0.27943): 100%|██████████| 7/7 [00:15<00:00,  2.24s/it]\n",
      "Training (1987 / 18000 Steps) (loss=0.29984): 100%|██████████| 7/7 [00:16<00:00,  2.35s/it]\n",
      "Training (1994 / 18000 Steps) (loss=0.57417): 100%|██████████| 7/7 [00:15<00:00,  2.26s/it]\n",
      "Validate (1995 / 10 Steps): 100%|██████████| 2/2 [00:11<00:00,  5.98s/it]<00:04,  2.14s/it]\n",
      "Training (2000 / 18000 Steps) (loss=0.36891):  86%|████████▌ | 6/7 [00:27<00:06,  6.06s/it]"
     ]
    },
    {
     "name": "stdout",
     "output_type": "stream",
     "text": [
      "Model Was Not Saved ! Current Best Avg. Dice: 0.5145047307014465 Current Avg. Dice: 0.49484774470329285 Current Avg. tumor Dice: 0.5618385076522827 Current Avg. lymph Dice: 0.42785701155662537\n"
     ]
    },
    {
     "name": "stderr",
     "output_type": "stream",
     "text": [
      "Training (2001 / 18000 Steps) (loss=0.52744): 100%|██████████| 7/7 [00:28<00:00,  4.12s/it]\n",
      "Training (2008 / 18000 Steps) (loss=0.26016): 100%|██████████| 7/7 [00:15<00:00,  2.26s/it]\n",
      "Training (2015 / 18000 Steps) (loss=0.42669): 100%|██████████| 7/7 [00:16<00:00,  2.37s/it]\n",
      "Training (2022 / 18000 Steps) (loss=0.49771): 100%|██████████| 7/7 [00:16<00:00,  2.32s/it]\n",
      "Training (2029 / 18000 Steps) (loss=0.45754): 100%|██████████| 7/7 [00:15<00:00,  2.28s/it]\n",
      "Training (2036 / 18000 Steps) (loss=0.15164): 100%|██████████| 7/7 [00:16<00:00,  2.37s/it]\n",
      "Training (2043 / 18000 Steps) (loss=0.32657): 100%|██████████| 7/7 [00:16<00:00,  2.30s/it]\n",
      "Training (2050 / 18000 Steps) (loss=0.44803): 100%|██████████| 7/7 [00:17<00:00,  2.47s/it]\n",
      "Training (2057 / 18000 Steps) (loss=0.19984): 100%|██████████| 7/7 [00:17<00:00,  2.57s/it]\n",
      "Training (2064 / 18000 Steps) (loss=0.59727): 100%|██████████| 7/7 [00:15<00:00,  2.28s/it]\n",
      "Training (2071 / 18000 Steps) (loss=0.29531): 100%|██████████| 7/7 [00:16<00:00,  2.36s/it]\n",
      "Training (2078 / 18000 Steps) (loss=0.49206): 100%|██████████| 7/7 [00:16<00:00,  2.42s/it]\n",
      "Training (2085 / 18000 Steps) (loss=0.35678): 100%|██████████| 7/7 [00:15<00:00,  2.28s/it]\n",
      "Training (2092 / 18000 Steps) (loss=0.49079): 100%|██████████| 7/7 [00:17<00:00,  2.50s/it]\n",
      "Training (2099 / 18000 Steps) (loss=0.17390): 100%|██████████| 7/7 [00:16<00:00,  2.37s/it]\n",
      "Validate (2100 / 10 Steps): 100%|██████████| 2/2 [00:11<00:00,  5.91s/it]<?, ?it/s]\n",
      "Training (2100 / 18000 Steps) (loss=0.38239):  14%|█▍        | 1/7 [00:20<02:03, 20.62s/it]"
     ]
    },
    {
     "name": "stdout",
     "output_type": "stream",
     "text": [
      "Model Was Not Saved ! Current Best Avg. Dice: 0.5145047307014465 Current Avg. Dice: 0.5067452788352966 Current Avg. tumor Dice: 0.5719552040100098 Current Avg. lymph Dice: 0.44153541326522827\n"
     ]
    },
    {
     "name": "stderr",
     "output_type": "stream",
     "text": [
      "Training (2106 / 18000 Steps) (loss=0.33672): 100%|██████████| 7/7 [00:29<00:00,  4.21s/it]\n",
      "Training (2113 / 18000 Steps) (loss=0.23531): 100%|██████████| 7/7 [00:17<00:00,  2.51s/it]\n",
      "Training (2120 / 18000 Steps) (loss=0.37232): 100%|██████████| 7/7 [00:16<00:00,  2.32s/it]\n",
      "Training (2127 / 18000 Steps) (loss=0.38297): 100%|██████████| 7/7 [00:16<00:00,  2.31s/it]\n",
      "Training (2134 / 18000 Steps) (loss=0.42600): 100%|██████████| 7/7 [00:15<00:00,  2.24s/it]\n",
      "Training (2141 / 18000 Steps) (loss=0.32533): 100%|██████████| 7/7 [00:16<00:00,  2.34s/it]\n",
      "Training (2148 / 18000 Steps) (loss=0.49922): 100%|██████████| 7/7 [00:15<00:00,  2.27s/it]\n",
      "Training (2155 / 18000 Steps) (loss=0.34038): 100%|██████████| 7/7 [00:17<00:00,  2.43s/it]\n",
      "Training (2162 / 18000 Steps) (loss=0.36618): 100%|██████████| 7/7 [00:15<00:00,  2.28s/it]\n",
      "Training (2169 / 18000 Steps) (loss=0.31528): 100%|██████████| 7/7 [00:16<00:00,  2.30s/it]\n",
      "Training (2176 / 18000 Steps) (loss=0.47664): 100%|██████████| 7/7 [00:16<00:00,  2.31s/it]\n",
      "Training (2183 / 18000 Steps) (loss=0.47718): 100%|██████████| 7/7 [00:17<00:00,  2.49s/it]\n",
      "Training (2190 / 18000 Steps) (loss=0.50743): 100%|██████████| 7/7 [00:16<00:00,  2.41s/it]\n",
      "Training (2197 / 18000 Steps) (loss=0.56874): 100%|██████████| 7/7 [00:18<00:00,  2.58s/it]\n",
      "Validate (2198 / 10 Steps): 100%|██████████| 2/2 [00:11<00:00,  5.93s/it]<00:19,  3.91s/it]\n",
      "Training (2200 / 18000 Steps) (loss=0.54904):  43%|████▎     | 3/7 [00:22<00:33,  8.32s/it]"
     ]
    },
    {
     "name": "stdout",
     "output_type": "stream",
     "text": [
      "Model Was Not Saved ! Current Best Avg. Dice: 0.5145047307014465 Current Avg. Dice: 0.4967838525772095 Current Avg. tumor Dice: 0.5191373825073242 Current Avg. lymph Dice: 0.47443029284477234\n"
     ]
    },
    {
     "name": "stderr",
     "output_type": "stream",
     "text": [
      "Training (2204 / 18000 Steps) (loss=0.45014): 100%|██████████| 7/7 [00:28<00:00,  4.01s/it]\n",
      "Training (2211 / 18000 Steps) (loss=0.39083): 100%|██████████| 7/7 [00:16<00:00,  2.32s/it]\n",
      "Training (2218 / 18000 Steps) (loss=0.43499): 100%|██████████| 7/7 [00:17<00:00,  2.43s/it]\n",
      "Training (2225 / 18000 Steps) (loss=0.48807): 100%|██████████| 7/7 [00:15<00:00,  2.27s/it]\n",
      "Training (2232 / 18000 Steps) (loss=0.23207): 100%|██████████| 7/7 [00:16<00:00,  2.43s/it]\n",
      "Training (2239 / 18000 Steps) (loss=0.48342): 100%|██████████| 7/7 [00:15<00:00,  2.27s/it]\n",
      "Training (2246 / 18000 Steps) (loss=0.45025): 100%|██████████| 7/7 [00:15<00:00,  2.24s/it]\n",
      "Training (2253 / 18000 Steps) (loss=0.45458): 100%|██████████| 7/7 [00:16<00:00,  2.33s/it]\n",
      "Training (2260 / 18000 Steps) (loss=0.62482): 100%|██████████| 7/7 [00:16<00:00,  2.34s/it]\n",
      "Training (2267 / 18000 Steps) (loss=0.36143): 100%|██████████| 7/7 [00:17<00:00,  2.44s/it]\n",
      "Training (2274 / 18000 Steps) (loss=0.50777): 100%|██████████| 7/7 [00:16<00:00,  2.32s/it]\n",
      "Training (2281 / 18000 Steps) (loss=0.60741): 100%|██████████| 7/7 [00:16<00:00,  2.29s/it]\n",
      "Training (2288 / 18000 Steps) (loss=0.53964): 100%|██████████| 7/7 [00:16<00:00,  2.39s/it]\n",
      "Training (2295 / 18000 Steps) (loss=0.55131): 100%|██████████| 7/7 [00:15<00:00,  2.28s/it]\n",
      "Validate (2296 / 10 Steps): 100%|██████████| 2/2 [00:12<00:00,  6.07s/it]<00:07,  2.56s/it]\n",
      "Training (2300 / 18000 Steps) (loss=0.26774):  71%|███████▏  | 5/7 [00:28<00:13,  6.93s/it]"
     ]
    },
    {
     "name": "stdout",
     "output_type": "stream",
     "text": [
      "Model Was Saved ! Current Best Avg. Dice: 0.5160220861434937 Current Avg. Dice: 0.5160220861434937 Current Avg. tumor Dice: 0.5681114196777344 Current Avg. lymph Dice: 0.4639327824115753\n"
     ]
    },
    {
     "name": "stderr",
     "output_type": "stream",
     "text": [
      "Training (2302 / 18000 Steps) (loss=0.50724): 100%|██████████| 7/7 [00:30<00:00,  4.38s/it]\n",
      "Training (2309 / 18000 Steps) (loss=0.23938): 100%|██████████| 7/7 [00:16<00:00,  2.42s/it]\n",
      "Training (2316 / 18000 Steps) (loss=0.44036): 100%|██████████| 7/7 [00:15<00:00,  2.27s/it]\n",
      "Training (2323 / 18000 Steps) (loss=0.21369): 100%|██████████| 7/7 [00:16<00:00,  2.38s/it]\n",
      "Training (2330 / 18000 Steps) (loss=0.34799): 100%|██████████| 7/7 [00:17<00:00,  2.47s/it]\n",
      "Training (2337 / 18000 Steps) (loss=0.35610): 100%|██████████| 7/7 [00:17<00:00,  2.52s/it]\n",
      "Training (2344 / 18000 Steps) (loss=0.43190): 100%|██████████| 7/7 [00:16<00:00,  2.31s/it]\n",
      "Training (2351 / 18000 Steps) (loss=0.39464): 100%|██████████| 7/7 [00:16<00:00,  2.33s/it]\n",
      "Training (2358 / 18000 Steps) (loss=0.50092): 100%|██████████| 7/7 [00:16<00:00,  2.30s/it]\n",
      "Training (2365 / 18000 Steps) (loss=0.45030): 100%|██████████| 7/7 [00:15<00:00,  2.25s/it]\n",
      "Training (2372 / 18000 Steps) (loss=0.26299): 100%|██████████| 7/7 [00:15<00:00,  2.27s/it]\n",
      "Training (2379 / 18000 Steps) (loss=0.40382): 100%|██████████| 7/7 [00:15<00:00,  2.28s/it]\n",
      "Training (2386 / 18000 Steps) (loss=0.48149): 100%|██████████| 7/7 [00:16<00:00,  2.36s/it]\n",
      "Training (2393 / 18000 Steps) (loss=0.53515): 100%|██████████| 7/7 [00:16<00:00,  2.39s/it]\n",
      "Validate (2394 / 10 Steps): 100%|██████████| 2/2 [00:11<00:00,  5.98s/it]<00:01,  1.92s/it]\n",
      "Training (2400 / 18000 Steps) (loss=0.34294): 100%|██████████| 7/7 [00:28<00:00,  4.03s/it]\n"
     ]
    },
    {
     "name": "stdout",
     "output_type": "stream",
     "text": [
      "Model Was Not Saved ! Current Best Avg. Dice: 0.5160220861434937 Current Avg. Dice: 0.47524696588516235 Current Avg. tumor Dice: 0.5442297458648682 Current Avg. lymph Dice: 0.40626418590545654\n"
     ]
    },
    {
     "name": "stderr",
     "output_type": "stream",
     "text": [
      "Training (2407 / 18000 Steps) (loss=0.53201): 100%|██████████| 7/7 [00:15<00:00,  2.24s/it]\n",
      "Training (2414 / 18000 Steps) (loss=0.42608): 100%|██████████| 7/7 [00:15<00:00,  2.26s/it]\n",
      "Training (2421 / 18000 Steps) (loss=0.49914): 100%|██████████| 7/7 [00:15<00:00,  2.26s/it]\n",
      "Training (2428 / 18000 Steps) (loss=0.30657): 100%|██████████| 7/7 [00:16<00:00,  2.34s/it]\n",
      "Training (2435 / 18000 Steps) (loss=0.20402): 100%|██████████| 7/7 [00:16<00:00,  2.42s/it]\n",
      "Training (2442 / 18000 Steps) (loss=0.35105): 100%|██████████| 7/7 [00:16<00:00,  2.30s/it]\n",
      "Training (2449 / 18000 Steps) (loss=0.33612): 100%|██████████| 7/7 [00:16<00:00,  2.34s/it]\n",
      "Training (2456 / 18000 Steps) (loss=0.43833): 100%|██████████| 7/7 [00:16<00:00,  2.33s/it]\n",
      "Training (2463 / 18000 Steps) (loss=0.52328): 100%|██████████| 7/7 [00:16<00:00,  2.36s/it]\n",
      "Training (2470 / 18000 Steps) (loss=0.44646): 100%|██████████| 7/7 [00:17<00:00,  2.56s/it]\n",
      "Training (2477 / 18000 Steps) (loss=0.54121): 100%|██████████| 7/7 [00:18<00:00,  2.58s/it]\n",
      "Training (2484 / 18000 Steps) (loss=0.34053): 100%|██████████| 7/7 [00:15<00:00,  2.25s/it]\n",
      "Training (2491 / 18000 Steps) (loss=0.41024): 100%|██████████| 7/7 [00:15<00:00,  2.27s/it]\n",
      "Training (2498 / 18000 Steps) (loss=0.53825): 100%|██████████| 7/7 [00:16<00:00,  2.41s/it]\n",
      "Validate (2499 / 10 Steps): 100%|██████████| 2/2 [00:12<00:00,  6.24s/it]<00:42,  7.05s/it]\n",
      "Training (2500 / 18000 Steps) (loss=0.27585):  29%|██▊       | 2/7 [00:21<00:56, 11.24s/it]"
     ]
    },
    {
     "name": "stdout",
     "output_type": "stream",
     "text": [
      "Model Was Not Saved ! Current Best Avg. Dice: 0.5160220861434937 Current Avg. Dice: 0.5002843141555786 Current Avg. tumor Dice: 0.5868833065032959 Current Avg. lymph Dice: 0.4136853516101837\n"
     ]
    },
    {
     "name": "stderr",
     "output_type": "stream",
     "text": [
      "Training (2505 / 18000 Steps) (loss=0.46907): 100%|██████████| 7/7 [00:28<00:00,  4.07s/it]\n",
      "Training (2512 / 18000 Steps) (loss=0.17907): 100%|██████████| 7/7 [00:17<00:00,  2.49s/it]\n",
      "Training (2519 / 18000 Steps) (loss=0.36808): 100%|██████████| 7/7 [00:17<00:00,  2.47s/it]\n",
      "Training (2526 / 18000 Steps) (loss=0.44240): 100%|██████████| 7/7 [00:17<00:00,  2.56s/it]\n",
      "Training (2533 / 18000 Steps) (loss=0.45510): 100%|██████████| 7/7 [00:16<00:00,  2.41s/it]\n",
      "Training (2540 / 18000 Steps) (loss=0.57101): 100%|██████████| 7/7 [00:17<00:00,  2.53s/it]\n",
      "Training (2547 / 18000 Steps) (loss=0.42959): 100%|██████████| 7/7 [00:15<00:00,  2.22s/it]\n",
      "Training (2554 / 18000 Steps) (loss=0.53886): 100%|██████████| 7/7 [00:17<00:00,  2.47s/it]\n",
      "Training (2561 / 18000 Steps) (loss=0.46461): 100%|██████████| 7/7 [00:16<00:00,  2.37s/it]\n",
      "Training (2568 / 18000 Steps) (loss=0.29404): 100%|██████████| 7/7 [00:16<00:00,  2.31s/it]\n",
      "Training (2575 / 18000 Steps) (loss=0.43978): 100%|██████████| 7/7 [00:16<00:00,  2.31s/it]\n",
      "Training (2582 / 18000 Steps) (loss=0.27623): 100%|██████████| 7/7 [00:17<00:00,  2.46s/it]\n",
      "Training (2589 / 18000 Steps) (loss=0.55440): 100%|██████████| 7/7 [00:15<00:00,  2.22s/it]\n",
      "Training (2596 / 18000 Steps) (loss=0.54311): 100%|██████████| 7/7 [00:17<00:00,  2.44s/it]\n",
      "Validate (2597 / 10 Steps): 100%|██████████| 2/2 [00:12<00:00,  6.07s/it]<00:13,  3.26s/it]\n",
      "Training (2600 / 18000 Steps) (loss=0.36956):  57%|█████▋    | 4/7 [00:26<00:22,  7.43s/it]"
     ]
    },
    {
     "name": "stdout",
     "output_type": "stream",
     "text": [
      "Model Was Not Saved ! Current Best Avg. Dice: 0.5160220861434937 Current Avg. Dice: 0.46170884370803833 Current Avg. tumor Dice: 0.44497817754745483 Current Avg. lymph Dice: 0.4784395396709442\n"
     ]
    },
    {
     "name": "stderr",
     "output_type": "stream",
     "text": [
      "Training (2603 / 18000 Steps) (loss=0.31602): 100%|██████████| 7/7 [00:30<00:00,  4.31s/it]\n",
      "Training (2610 / 18000 Steps) (loss=0.35293): 100%|██████████| 7/7 [00:17<00:00,  2.53s/it]\n",
      "Training (2617 / 18000 Steps) (loss=0.33489): 100%|██████████| 7/7 [00:17<00:00,  2.44s/it]\n",
      "Training (2624 / 18000 Steps) (loss=0.32354): 100%|██████████| 7/7 [00:15<00:00,  2.25s/it]\n",
      "Training (2631 / 18000 Steps) (loss=0.41348): 100%|██████████| 7/7 [00:16<00:00,  2.31s/it]\n",
      "Training (2638 / 18000 Steps) (loss=0.52114): 100%|██████████| 7/7 [00:17<00:00,  2.43s/it]\n",
      "Training (2645 / 18000 Steps) (loss=0.37292): 100%|██████████| 7/7 [00:16<00:00,  2.42s/it]\n",
      "Training (2652 / 18000 Steps) (loss=0.41675): 100%|██████████| 7/7 [00:18<00:00,  2.58s/it]\n",
      "Training (2659 / 18000 Steps) (loss=0.50225): 100%|██████████| 7/7 [00:17<00:00,  2.50s/it]\n",
      "Training (2666 / 18000 Steps) (loss=0.38619): 100%|██████████| 7/7 [00:15<00:00,  2.25s/it]\n",
      "Training (2673 / 18000 Steps) (loss=0.56838): 100%|██████████| 7/7 [00:16<00:00,  2.31s/it]\n",
      "Training (2680 / 18000 Steps) (loss=0.48477): 100%|██████████| 7/7 [00:17<00:00,  2.53s/it]\n",
      "Training (2687 / 18000 Steps) (loss=0.30173): 100%|██████████| 7/7 [00:16<00:00,  2.38s/it]\n",
      "Training (2694 / 18000 Steps) (loss=0.47476): 100%|██████████| 7/7 [00:16<00:00,  2.31s/it]\n",
      "Validate (2695 / 10 Steps): 100%|██████████| 2/2 [00:12<00:00,  6.23s/it]<00:04,  2.07s/it]\n",
      "Training (2700 / 18000 Steps) (loss=0.37958):  86%|████████▌ | 6/7 [00:27<00:06,  6.18s/it]"
     ]
    },
    {
     "name": "stdout",
     "output_type": "stream",
     "text": [
      "Model Was Not Saved ! Current Best Avg. Dice: 0.5160220861434937 Current Avg. Dice: 0.48674577474594116 Current Avg. tumor Dice: 0.5486161112785339 Current Avg. lymph Dice: 0.424875408411026\n"
     ]
    },
    {
     "name": "stderr",
     "output_type": "stream",
     "text": [
      "Training (2701 / 18000 Steps) (loss=0.44614): 100%|██████████| 7/7 [00:28<00:00,  4.07s/it]\n",
      "Training (2708 / 18000 Steps) (loss=0.36409): 100%|██████████| 7/7 [00:16<00:00,  2.37s/it]\n",
      "Training (2715 / 18000 Steps) (loss=0.39658): 100%|██████████| 7/7 [00:15<00:00,  2.28s/it]\n",
      "Training (2722 / 18000 Steps) (loss=0.47466): 100%|██████████| 7/7 [00:17<00:00,  2.53s/it]\n",
      "Training (2729 / 18000 Steps) (loss=0.31415): 100%|██████████| 7/7 [00:17<00:00,  2.49s/it]\n",
      "Training (2736 / 18000 Steps) (loss=0.51740): 100%|██████████| 7/7 [00:17<00:00,  2.55s/it]\n",
      "Training (2743 / 18000 Steps) (loss=0.30040): 100%|██████████| 7/7 [00:16<00:00,  2.30s/it]\n",
      "Training (2750 / 18000 Steps) (loss=0.53477): 100%|██████████| 7/7 [00:15<00:00,  2.24s/it]\n",
      "Training (2757 / 18000 Steps) (loss=0.26881): 100%|██████████| 7/7 [00:15<00:00,  2.25s/it]\n",
      "Training (2764 / 18000 Steps) (loss=0.28166): 100%|██████████| 7/7 [00:17<00:00,  2.53s/it]\n",
      "Training (2771 / 18000 Steps) (loss=0.23882): 100%|██████████| 7/7 [00:16<00:00,  2.33s/it]\n",
      "Training (2778 / 18000 Steps) (loss=0.55232): 100%|██████████| 7/7 [00:15<00:00,  2.26s/it]\n",
      "Training (2785 / 18000 Steps) (loss=0.41763): 100%|██████████| 7/7 [00:16<00:00,  2.29s/it]\n",
      "Training (2792 / 18000 Steps) (loss=0.57250): 100%|██████████| 7/7 [00:16<00:00,  2.36s/it]\n",
      "Training (2799 / 18000 Steps) (loss=0.28908): 100%|██████████| 7/7 [00:16<00:00,  2.30s/it]\n",
      "Validate (2800 / 10 Steps): 100%|██████████| 2/2 [00:11<00:00,  5.97s/it]<?, ?it/s]\n",
      "Training (2800 / 18000 Steps) (loss=0.36618):  14%|█▍        | 1/7 [00:19<01:55, 19.28s/it]"
     ]
    },
    {
     "name": "stdout",
     "output_type": "stream",
     "text": [
      "Model Was Not Saved ! Current Best Avg. Dice: 0.5160220861434937 Current Avg. Dice: 0.48394709825515747 Current Avg. tumor Dice: 0.5670003294944763 Current Avg. lymph Dice: 0.40089383721351624\n"
     ]
    },
    {
     "name": "stderr",
     "output_type": "stream",
     "text": [
      "Training (2806 / 18000 Steps) (loss=0.30680): 100%|██████████| 7/7 [00:28<00:00,  4.02s/it]\n",
      "Training (2813 / 18000 Steps) (loss=0.45770): 100%|██████████| 7/7 [00:16<00:00,  2.35s/it]\n",
      "Training (2820 / 18000 Steps) (loss=0.43374): 100%|██████████| 7/7 [00:16<00:00,  2.42s/it]\n",
      "Training (2827 / 18000 Steps) (loss=0.40161): 100%|██████████| 7/7 [00:16<00:00,  2.31s/it]\n",
      "Training (2834 / 18000 Steps) (loss=0.42352): 100%|██████████| 7/7 [00:17<00:00,  2.50s/it]\n",
      "Training (2841 / 18000 Steps) (loss=0.52364): 100%|██████████| 7/7 [00:15<00:00,  2.22s/it]\n",
      "Training (2848 / 18000 Steps) (loss=0.32929): 100%|██████████| 7/7 [00:16<00:00,  2.43s/it]\n",
      "Training (2855 / 18000 Steps) (loss=0.41862): 100%|██████████| 7/7 [00:15<00:00,  2.23s/it]\n",
      "Training (2862 / 18000 Steps) (loss=0.54884): 100%|██████████| 7/7 [00:16<00:00,  2.30s/it]\n",
      "Training (2869 / 18000 Steps) (loss=0.40645): 100%|██████████| 7/7 [00:16<00:00,  2.33s/it]\n",
      "Training (2876 / 18000 Steps) (loss=0.12857): 100%|██████████| 7/7 [00:16<00:00,  2.31s/it]\n",
      "Training (2883 / 18000 Steps) (loss=0.47253): 100%|██████████| 7/7 [00:16<00:00,  2.40s/it]\n",
      "Training (2890 / 18000 Steps) (loss=0.40783): 100%|██████████| 7/7 [00:16<00:00,  2.34s/it]\n",
      "Training (2897 / 18000 Steps) (loss=0.41355): 100%|██████████| 7/7 [00:17<00:00,  2.48s/it]\n",
      "Validate (2898 / 10 Steps): 100%|██████████| 2/2 [00:12<00:00,  6.11s/it]<00:19,  3.81s/it]\n",
      "Training (2900 / 18000 Steps) (loss=0.33748):  43%|████▎     | 3/7 [00:22<00:33,  8.42s/it]"
     ]
    },
    {
     "name": "stdout",
     "output_type": "stream",
     "text": [
      "Model Was Not Saved ! Current Best Avg. Dice: 0.5160220861434937 Current Avg. Dice: 0.4411241412162781 Current Avg. tumor Dice: 0.46868258714675903 Current Avg. lymph Dice: 0.4135656952857971\n"
     ]
    },
    {
     "name": "stderr",
     "output_type": "stream",
     "text": [
      "Training (2904 / 18000 Steps) (loss=0.29532): 100%|██████████| 7/7 [00:28<00:00,  4.03s/it]\n",
      "Training (2911 / 18000 Steps) (loss=0.61695): 100%|██████████| 7/7 [00:15<00:00,  2.24s/it]\n",
      "Training (2918 / 18000 Steps) (loss=0.36121): 100%|██████████| 7/7 [00:16<00:00,  2.42s/it]\n",
      "Training (2925 / 18000 Steps) (loss=0.37801): 100%|██████████| 7/7 [00:17<00:00,  2.51s/it]\n",
      "Training (2932 / 18000 Steps) (loss=0.47220): 100%|██████████| 7/7 [00:16<00:00,  2.30s/it]\n",
      "Training (2939 / 18000 Steps) (loss=0.22377): 100%|██████████| 7/7 [00:16<00:00,  2.37s/it]\n",
      "Training (2946 / 18000 Steps) (loss=0.48825): 100%|██████████| 7/7 [00:17<00:00,  2.43s/it]\n",
      "Training (2953 / 18000 Steps) (loss=0.42447): 100%|██████████| 7/7 [00:16<00:00,  2.30s/it]\n",
      "Training (2960 / 18000 Steps) (loss=0.27465): 100%|██████████| 7/7 [00:16<00:00,  2.40s/it]\n",
      "Training (2967 / 18000 Steps) (loss=0.42315): 100%|██████████| 7/7 [00:15<00:00,  2.26s/it]\n",
      "Training (2974 / 18000 Steps) (loss=0.25742): 100%|██████████| 7/7 [00:17<00:00,  2.53s/it]\n",
      "Training (2981 / 18000 Steps) (loss=0.29150): 100%|██████████| 7/7 [00:16<00:00,  2.41s/it]\n",
      "Training (2988 / 18000 Steps) (loss=0.49302): 100%|██████████| 7/7 [00:16<00:00,  2.29s/it]\n",
      "Training (2995 / 18000 Steps) (loss=0.32634): 100%|██████████| 7/7 [00:17<00:00,  2.52s/it]\n",
      "Validate (2996 / 10 Steps): 100%|██████████| 2/2 [00:11<00:00,  5.89s/it]<00:07,  2.38s/it]\n",
      "Training (3000 / 18000 Steps) (loss=0.37955):  71%|███████▏  | 5/7 [00:25<00:12,  6.38s/it]"
     ]
    },
    {
     "name": "stdout",
     "output_type": "stream",
     "text": [
      "Model Was Not Saved ! Current Best Avg. Dice: 0.5160220861434937 Current Avg. Dice: 0.500939667224884 Current Avg. tumor Dice: 0.5487571358680725 Current Avg. lymph Dice: 0.4531221389770508\n"
     ]
    },
    {
     "name": "stderr",
     "output_type": "stream",
     "text": [
      "Training (3002 / 18000 Steps) (loss=0.54261): 100%|██████████| 7/7 [00:28<00:00,  4.02s/it]\n",
      "Training (3009 / 18000 Steps) (loss=0.55150): 100%|██████████| 7/7 [00:16<00:00,  2.30s/it]\n",
      "Training (3016 / 18000 Steps) (loss=0.39270): 100%|██████████| 7/7 [00:16<00:00,  2.42s/it]\n",
      "Training (3023 / 18000 Steps) (loss=0.26992): 100%|██████████| 7/7 [00:16<00:00,  2.41s/it]\n",
      "Training (3030 / 18000 Steps) (loss=0.52645): 100%|██████████| 7/7 [00:16<00:00,  2.37s/it]\n",
      "Training (3037 / 18000 Steps) (loss=0.21932): 100%|██████████| 7/7 [00:16<00:00,  2.41s/it]\n",
      "Training (3044 / 18000 Steps) (loss=0.27695): 100%|██████████| 7/7 [00:16<00:00,  2.34s/it]\n",
      "Training (3051 / 18000 Steps) (loss=0.31062): 100%|██████████| 7/7 [00:17<00:00,  2.51s/it]\n",
      "Training (3058 / 18000 Steps) (loss=0.23498): 100%|██████████| 7/7 [00:16<00:00,  2.42s/it]\n",
      "Training (3065 / 18000 Steps) (loss=0.25213): 100%|██████████| 7/7 [00:17<00:00,  2.44s/it]\n",
      "Training (3072 / 18000 Steps) (loss=0.38141): 100%|██████████| 7/7 [00:15<00:00,  2.28s/it]\n",
      "Training (3079 / 18000 Steps) (loss=0.29738): 100%|██████████| 7/7 [00:15<00:00,  2.23s/it]\n",
      "Training (3086 / 18000 Steps) (loss=0.24211): 100%|██████████| 7/7 [00:15<00:00,  2.21s/it]\n",
      "Training (3093 / 18000 Steps) (loss=0.41243): 100%|██████████| 7/7 [00:17<00:00,  2.56s/it]\n",
      "Validate (3094 / 10 Steps): 100%|██████████| 2/2 [00:12<00:00,  6.00s/it]<00:01,  1.97s/it]\n",
      "Training (3100 / 18000 Steps) (loss=0.45900): 100%|██████████| 7/7 [00:29<00:00,  4.16s/it]\n"
     ]
    },
    {
     "name": "stdout",
     "output_type": "stream",
     "text": [
      "Model Was Not Saved ! Current Best Avg. Dice: 0.5160220861434937 Current Avg. Dice: 0.5035475492477417 Current Avg. tumor Dice: 0.5759532451629639 Current Avg. lymph Dice: 0.43114185333251953\n"
     ]
    },
    {
     "name": "stderr",
     "output_type": "stream",
     "text": [
      "Training (3107 / 18000 Steps) (loss=0.27058): 100%|██████████| 7/7 [00:16<00:00,  2.37s/it]\n",
      "Training (3114 / 18000 Steps) (loss=0.55798): 100%|██████████| 7/7 [00:17<00:00,  2.57s/it]\n",
      "Training (3121 / 18000 Steps) (loss=0.30903): 100%|██████████| 7/7 [00:17<00:00,  2.47s/it]\n",
      "Training (3128 / 18000 Steps) (loss=0.27679): 100%|██████████| 7/7 [00:16<00:00,  2.31s/it]\n",
      "Training (3135 / 18000 Steps) (loss=0.48773): 100%|██████████| 7/7 [00:15<00:00,  2.27s/it]\n",
      "Training (3142 / 18000 Steps) (loss=0.34133): 100%|██████████| 7/7 [00:16<00:00,  2.34s/it]\n",
      "Training (3149 / 18000 Steps) (loss=0.30535): 100%|██████████| 7/7 [00:17<00:00,  2.51s/it]\n",
      "Training (3156 / 18000 Steps) (loss=0.67636): 100%|██████████| 7/7 [00:15<00:00,  2.27s/it]\n",
      "Training (3163 / 18000 Steps) (loss=0.42240): 100%|██████████| 7/7 [00:17<00:00,  2.43s/it]\n",
      "Training (3170 / 18000 Steps) (loss=0.27577): 100%|██████████| 7/7 [00:16<00:00,  2.31s/it]\n",
      "Training (3177 / 18000 Steps) (loss=0.37805): 100%|██████████| 7/7 [00:15<00:00,  2.25s/it]\n",
      "Training (3184 / 18000 Steps) (loss=0.36459): 100%|██████████| 7/7 [00:15<00:00,  2.25s/it]\n",
      "Training (3191 / 18000 Steps) (loss=0.41276): 100%|██████████| 7/7 [00:15<00:00,  2.23s/it]\n",
      "Training (3198 / 18000 Steps) (loss=0.29252): 100%|██████████| 7/7 [00:15<00:00,  2.28s/it]\n",
      "Validate (3199 / 10 Steps): 100%|██████████| 2/2 [00:12<00:00,  6.11s/it]<00:47,  7.85s/it]\n",
      "Training (3200 / 18000 Steps) (loss=0.47675):  29%|██▊       | 2/7 [00:21<00:57, 11.43s/it]"
     ]
    },
    {
     "name": "stdout",
     "output_type": "stream",
     "text": [
      "Model Was Not Saved ! Current Best Avg. Dice: 0.5160220861434937 Current Avg. Dice: 0.45671355724334717 Current Avg. tumor Dice: 0.5043037533760071 Current Avg. lymph Dice: 0.4091233015060425\n"
     ]
    },
    {
     "name": "stderr",
     "output_type": "stream",
     "text": [
      "Training (3205 / 18000 Steps) (loss=0.47657): 100%|██████████| 7/7 [00:29<00:00,  4.15s/it]\n",
      "Training (3212 / 18000 Steps) (loss=0.53858): 100%|██████████| 7/7 [00:17<00:00,  2.46s/it]\n",
      "Training (3219 / 18000 Steps) (loss=0.47322): 100%|██████████| 7/7 [00:15<00:00,  2.27s/it]\n",
      "Training (3226 / 18000 Steps) (loss=0.57333): 100%|██████████| 7/7 [00:16<00:00,  2.30s/it]\n",
      "Training (3233 / 18000 Steps) (loss=0.47042): 100%|██████████| 7/7 [00:18<00:00,  2.59s/it]\n",
      "Training (3240 / 18000 Steps) (loss=0.30225): 100%|██████████| 7/7 [00:16<00:00,  2.33s/it]\n",
      "Training (3247 / 18000 Steps) (loss=0.50972): 100%|██████████| 7/7 [00:16<00:00,  2.41s/it]\n",
      "Training (3254 / 18000 Steps) (loss=0.23797): 100%|██████████| 7/7 [00:17<00:00,  2.56s/it]\n",
      "Training (3261 / 18000 Steps) (loss=0.67274): 100%|██████████| 7/7 [00:15<00:00,  2.27s/it]\n",
      "Training (3268 / 18000 Steps) (loss=0.26320): 100%|██████████| 7/7 [00:16<00:00,  2.31s/it]\n",
      "Training (3275 / 18000 Steps) (loss=0.17330): 100%|██████████| 7/7 [00:18<00:00,  2.58s/it]\n",
      "Training (3282 / 18000 Steps) (loss=0.44769): 100%|██████████| 7/7 [00:16<00:00,  2.32s/it]\n",
      "Training (3289 / 18000 Steps) (loss=0.39413): 100%|██████████| 7/7 [00:16<00:00,  2.31s/it]\n",
      "Training (3296 / 18000 Steps) (loss=0.42427): 100%|██████████| 7/7 [00:17<00:00,  2.48s/it]\n",
      "Validate (3297 / 10 Steps): 100%|██████████| 2/2 [00:12<00:00,  6.00s/it]<00:11,  2.82s/it]\n",
      "Training (3300 / 18000 Steps) (loss=0.46442):  57%|█████▋    | 4/7 [00:24<00:22,  7.45s/it]"
     ]
    },
    {
     "name": "stdout",
     "output_type": "stream",
     "text": [
      "Model Was Saved ! Current Best Avg. Dice: 0.530278205871582 Current Avg. Dice: 0.530278205871582 Current Avg. tumor Dice: 0.5733582973480225 Current Avg. lymph Dice: 0.4871980547904968\n"
     ]
    },
    {
     "name": "stderr",
     "output_type": "stream",
     "text": [
      "Training (3303 / 18000 Steps) (loss=0.42223): 100%|██████████| 7/7 [00:28<00:00,  4.13s/it]\n",
      "Training (3310 / 18000 Steps) (loss=0.22397): 100%|██████████| 7/7 [00:15<00:00,  2.27s/it]\n",
      "Training (3317 / 18000 Steps) (loss=0.33962): 100%|██████████| 7/7 [00:16<00:00,  2.34s/it]\n",
      "Training (3324 / 18000 Steps) (loss=0.50516): 100%|██████████| 7/7 [00:16<00:00,  2.36s/it]\n",
      "Training (3331 / 18000 Steps) (loss=0.54042): 100%|██████████| 7/7 [00:16<00:00,  2.30s/it]\n",
      "Training (3338 / 18000 Steps) (loss=0.55204): 100%|██████████| 7/7 [00:16<00:00,  2.38s/it]\n",
      "Training (3345 / 18000 Steps) (loss=0.27789): 100%|██████████| 7/7 [00:16<00:00,  2.31s/it]\n",
      "Training (3352 / 18000 Steps) (loss=0.35239): 100%|██████████| 7/7 [00:17<00:00,  2.48s/it]\n",
      "Training (3359 / 18000 Steps) (loss=0.63284): 100%|██████████| 7/7 [00:18<00:00,  2.65s/it]\n",
      "Training (3366 / 18000 Steps) (loss=0.51858): 100%|██████████| 7/7 [00:16<00:00,  2.37s/it]\n",
      "Training (3373 / 18000 Steps) (loss=0.32818): 100%|██████████| 7/7 [00:16<00:00,  2.29s/it]\n",
      "Training (3380 / 18000 Steps) (loss=0.14365): 100%|██████████| 7/7 [00:16<00:00,  2.40s/it]\n",
      "Training (3387 / 18000 Steps) (loss=0.22577): 100%|██████████| 7/7 [00:17<00:00,  2.48s/it]\n",
      "Training (3394 / 18000 Steps) (loss=0.21424): 100%|██████████| 7/7 [00:16<00:00,  2.34s/it]\n",
      "Validate (3395 / 10 Steps): 100%|██████████| 2/2 [00:11<00:00,  5.95s/it]<00:04,  2.13s/it]\n",
      "Training (3400 / 18000 Steps) (loss=0.29585):  86%|████████▌ | 6/7 [00:28<00:06,  6.32s/it]"
     ]
    },
    {
     "name": "stdout",
     "output_type": "stream",
     "text": [
      "Model Was Saved ! Current Best Avg. Dice: 0.5338010191917419 Current Avg. Dice: 0.5338010191917419 Current Avg. tumor Dice: 0.6018067598342896 Current Avg. lymph Dice: 0.46579527854919434\n"
     ]
    },
    {
     "name": "stderr",
     "output_type": "stream",
     "text": [
      "Training (3401 / 18000 Steps) (loss=0.34020): 100%|██████████| 7/7 [00:29<00:00,  4.21s/it]\n",
      "Training (3408 / 18000 Steps) (loss=0.41188): 100%|██████████| 7/7 [00:17<00:00,  2.50s/it]\n",
      "Training (3415 / 18000 Steps) (loss=0.30210): 100%|██████████| 7/7 [00:16<00:00,  2.31s/it]\n",
      "Training (3422 / 18000 Steps) (loss=0.39316): 100%|██████████| 7/7 [00:17<00:00,  2.52s/it]\n",
      "Training (3429 / 18000 Steps) (loss=0.62036): 100%|██████████| 7/7 [00:16<00:00,  2.30s/it]\n",
      "Training (3436 / 18000 Steps) (loss=0.54681): 100%|██████████| 7/7 [00:16<00:00,  2.39s/it]\n",
      "Training (3443 / 18000 Steps) (loss=0.34581): 100%|██████████| 7/7 [00:15<00:00,  2.27s/it]\n",
      "Training (3450 / 18000 Steps) (loss=0.33676): 100%|██████████| 7/7 [00:17<00:00,  2.51s/it]\n",
      "Training (3457 / 18000 Steps) (loss=0.22146): 100%|██████████| 7/7 [00:15<00:00,  2.26s/it]\n",
      "Training (3464 / 18000 Steps) (loss=0.41803): 100%|██████████| 7/7 [00:17<00:00,  2.48s/it]\n",
      "Training (3471 / 18000 Steps) (loss=0.34724): 100%|██████████| 7/7 [00:17<00:00,  2.52s/it]\n",
      "Training (3478 / 18000 Steps) (loss=0.14066): 100%|██████████| 7/7 [00:16<00:00,  2.32s/it]\n",
      "Training (3485 / 18000 Steps) (loss=0.54862): 100%|██████████| 7/7 [00:16<00:00,  2.39s/it]\n",
      "Training (3492 / 18000 Steps) (loss=0.40664): 100%|██████████| 7/7 [00:16<00:00,  2.37s/it]\n",
      "Training (3499 / 18000 Steps) (loss=0.36571): 100%|██████████| 7/7 [00:16<00:00,  2.43s/it]\n",
      "Validate (3500 / 10 Steps): 100%|██████████| 2/2 [00:11<00:00,  5.94s/it]<?, ?it/s]\n",
      "Training (3500 / 18000 Steps) (loss=0.48438):  14%|█▍        | 1/7 [00:18<01:53, 18.96s/it]"
     ]
    },
    {
     "name": "stdout",
     "output_type": "stream",
     "text": [
      "Model Was Not Saved ! Current Best Avg. Dice: 0.5338010191917419 Current Avg. Dice: 0.5160177946090698 Current Avg. tumor Dice: 0.5819389224052429 Current Avg. lymph Dice: 0.45009666681289673\n"
     ]
    },
    {
     "name": "stderr",
     "output_type": "stream",
     "text": [
      "Training (3506 / 18000 Steps) (loss=0.26019): 100%|██████████| 7/7 [00:27<00:00,  3.98s/it]\n",
      "Training (3513 / 18000 Steps) (loss=0.26415): 100%|██████████| 7/7 [00:17<00:00,  2.49s/it]\n",
      "Training (3520 / 18000 Steps) (loss=0.41400): 100%|██████████| 7/7 [00:17<00:00,  2.49s/it]\n",
      "Training (3527 / 18000 Steps) (loss=0.42786): 100%|██████████| 7/7 [00:17<00:00,  2.53s/it]\n",
      "Training (3534 / 18000 Steps) (loss=0.40770): 100%|██████████| 7/7 [00:16<00:00,  2.32s/it]\n",
      "Training (3541 / 18000 Steps) (loss=0.33576): 100%|██████████| 7/7 [00:17<00:00,  2.49s/it]\n",
      "Training (3548 / 18000 Steps) (loss=0.35760): 100%|██████████| 7/7 [00:16<00:00,  2.40s/it]\n",
      "Training (3555 / 18000 Steps) (loss=0.39974): 100%|██████████| 7/7 [00:15<00:00,  2.24s/it]\n",
      "Training (3562 / 18000 Steps) (loss=0.44741): 100%|██████████| 7/7 [00:15<00:00,  2.28s/it]\n",
      "Training (3569 / 18000 Steps) (loss=0.14827): 100%|██████████| 7/7 [00:17<00:00,  2.52s/it]\n",
      "Training (3576 / 18000 Steps) (loss=0.41249): 100%|██████████| 7/7 [00:16<00:00,  2.36s/it]\n",
      "Training (3583 / 18000 Steps) (loss=0.43461): 100%|██████████| 7/7 [00:17<00:00,  2.53s/it]\n",
      "Training (3590 / 18000 Steps) (loss=0.37638): 100%|██████████| 7/7 [00:15<00:00,  2.28s/it]\n",
      "Training (3597 / 18000 Steps) (loss=0.30650): 100%|██████████| 7/7 [00:17<00:00,  2.45s/it]\n",
      "Validate (3598 / 10 Steps): 100%|██████████| 2/2 [00:11<00:00,  5.89s/it]<00:18,  3.71s/it]\n",
      "Training (3600 / 18000 Steps) (loss=0.38622):  43%|████▎     | 3/7 [00:21<00:32,  8.17s/it]"
     ]
    },
    {
     "name": "stdout",
     "output_type": "stream",
     "text": [
      "Model Was Not Saved ! Current Best Avg. Dice: 0.5338010191917419 Current Avg. Dice: 0.4545533061027527 Current Avg. tumor Dice: 0.4536604881286621 Current Avg. lymph Dice: 0.4554460644721985\n"
     ]
    },
    {
     "name": "stderr",
     "output_type": "stream",
     "text": [
      "Training (3604 / 18000 Steps) (loss=0.32803): 100%|██████████| 7/7 [00:27<00:00,  3.93s/it]\n",
      "Training (3611 / 18000 Steps) (loss=0.40417): 100%|██████████| 7/7 [00:16<00:00,  2.43s/it]\n",
      "Training (3618 / 18000 Steps) (loss=0.32931): 100%|██████████| 7/7 [00:16<00:00,  2.39s/it]\n",
      "Training (3625 / 18000 Steps) (loss=0.19632): 100%|██████████| 7/7 [00:17<00:00,  2.48s/it]\n",
      "Training (3632 / 18000 Steps) (loss=0.33374): 100%|██████████| 7/7 [00:18<00:00,  2.60s/it]\n",
      "Training (3639 / 18000 Steps) (loss=0.54009): 100%|██████████| 7/7 [00:16<00:00,  2.42s/it]\n",
      "Training (3646 / 18000 Steps) (loss=0.27771): 100%|██████████| 7/7 [00:17<00:00,  2.54s/it]\n",
      "Training (3653 / 18000 Steps) (loss=0.50877): 100%|██████████| 7/7 [00:17<00:00,  2.47s/it]\n",
      "Training (3660 / 18000 Steps) (loss=0.28758): 100%|██████████| 7/7 [00:16<00:00,  2.43s/it]\n",
      "Training (3667 / 18000 Steps) (loss=0.39157): 100%|██████████| 7/7 [00:17<00:00,  2.49s/it]\n",
      "Training (3674 / 18000 Steps) (loss=0.47246): 100%|██████████| 7/7 [00:15<00:00,  2.26s/it]\n",
      "Training (3681 / 18000 Steps) (loss=0.42485): 100%|██████████| 7/7 [00:17<00:00,  2.44s/it]\n",
      "Training (3688 / 18000 Steps) (loss=0.38840): 100%|██████████| 7/7 [00:15<00:00,  2.25s/it]\n",
      "Training (3695 / 18000 Steps) (loss=0.22465): 100%|██████████| 7/7 [00:17<00:00,  2.48s/it]\n",
      "Validate (3696 / 10 Steps): 100%|██████████| 2/2 [00:12<00:00,  6.10s/it]<00:07,  2.41s/it]\n",
      "Training (3700 / 18000 Steps) (loss=0.32005):  71%|███████▏  | 5/7 [00:26<00:13,  6.55s/it]"
     ]
    },
    {
     "name": "stdout",
     "output_type": "stream",
     "text": [
      "Model Was Not Saved ! Current Best Avg. Dice: 0.5338010191917419 Current Avg. Dice: 0.5294100642204285 Current Avg. tumor Dice: 0.5629811882972717 Current Avg. lymph Dice: 0.49583899974823\n"
     ]
    },
    {
     "name": "stderr",
     "output_type": "stream",
     "text": [
      "Training (3702 / 18000 Steps) (loss=0.47840): 100%|██████████| 7/7 [00:28<00:00,  4.11s/it]\n",
      "Training (3709 / 18000 Steps) (loss=0.61565): 100%|██████████| 7/7 [00:15<00:00,  2.27s/it]\n",
      "Training (3716 / 18000 Steps) (loss=0.29652): 100%|██████████| 7/7 [00:16<00:00,  2.37s/it]\n",
      "Training (3723 / 18000 Steps) (loss=0.19944): 100%|██████████| 7/7 [00:17<00:00,  2.44s/it]\n",
      "Training (3730 / 18000 Steps) (loss=0.42271): 100%|██████████| 7/7 [00:16<00:00,  2.41s/it]\n",
      "Training (3737 / 18000 Steps) (loss=0.28140): 100%|██████████| 7/7 [00:15<00:00,  2.27s/it]\n",
      "Training (3744 / 18000 Steps) (loss=0.16837): 100%|██████████| 7/7 [00:16<00:00,  2.41s/it]\n",
      "Training (3751 / 18000 Steps) (loss=0.46951): 100%|██████████| 7/7 [00:17<00:00,  2.46s/it]\n",
      "Training (3758 / 18000 Steps) (loss=0.28641): 100%|██████████| 7/7 [00:15<00:00,  2.24s/it]\n",
      "Training (3765 / 18000 Steps) (loss=0.30141): 100%|██████████| 7/7 [00:16<00:00,  2.31s/it]\n",
      "Training (3772 / 18000 Steps) (loss=0.54183): 100%|██████████| 7/7 [00:15<00:00,  2.28s/it]\n",
      "Training (3779 / 18000 Steps) (loss=0.57225): 100%|██████████| 7/7 [00:16<00:00,  2.32s/it]\n",
      "Training (3786 / 18000 Steps) (loss=0.40956): 100%|██████████| 7/7 [00:16<00:00,  2.40s/it]\n",
      "Training (3793 / 18000 Steps) (loss=0.54222): 100%|██████████| 7/7 [00:17<00:00,  2.52s/it]\n",
      "Validate (3794 / 10 Steps): 100%|██████████| 2/2 [00:12<00:00,  6.07s/it]<00:01,  1.95s/it]\n",
      "Training (3800 / 18000 Steps) (loss=0.54286): 100%|██████████| 7/7 [00:28<00:00,  4.13s/it]\n"
     ]
    },
    {
     "name": "stdout",
     "output_type": "stream",
     "text": [
      "Model Was Not Saved ! Current Best Avg. Dice: 0.5338010191917419 Current Avg. Dice: 0.49638989567756653 Current Avg. tumor Dice: 0.5560144782066345 Current Avg. lymph Dice: 0.43676531314849854\n"
     ]
    },
    {
     "name": "stderr",
     "output_type": "stream",
     "text": [
      "Training (3807 / 18000 Steps) (loss=0.55583): 100%|██████████| 7/7 [00:16<00:00,  2.41s/it]\n",
      "Training (3814 / 18000 Steps) (loss=0.42115): 100%|██████████| 7/7 [00:16<00:00,  2.36s/it]\n",
      "Training (3821 / 18000 Steps) (loss=0.27082): 100%|██████████| 7/7 [00:15<00:00,  2.28s/it]\n",
      "Training (3828 / 18000 Steps) (loss=0.42355): 100%|██████████| 7/7 [00:15<00:00,  2.25s/it]\n",
      "Training (3835 / 18000 Steps) (loss=0.30728): 100%|██████████| 7/7 [00:17<00:00,  2.55s/it]\n",
      "Training (3842 / 18000 Steps) (loss=0.40125): 100%|██████████| 7/7 [00:15<00:00,  2.23s/it]\n",
      "Training (3849 / 18000 Steps) (loss=0.43156): 100%|██████████| 7/7 [00:16<00:00,  2.30s/it]\n",
      "Training (3856 / 18000 Steps) (loss=0.22177): 100%|██████████| 7/7 [00:16<00:00,  2.34s/it]\n",
      "Training (3863 / 18000 Steps) (loss=0.39413): 100%|██████████| 7/7 [00:16<00:00,  2.30s/it]\n",
      "Training (3870 / 18000 Steps) (loss=0.44266): 100%|██████████| 7/7 [00:16<00:00,  2.33s/it]\n",
      "Training (3877 / 18000 Steps) (loss=0.44900): 100%|██████████| 7/7 [00:17<00:00,  2.46s/it]\n",
      "Training (3884 / 18000 Steps) (loss=0.22254): 100%|██████████| 7/7 [00:17<00:00,  2.45s/it]\n",
      "Training (3891 / 18000 Steps) (loss=0.32747): 100%|██████████| 7/7 [00:15<00:00,  2.26s/it]\n",
      "Training (3898 / 18000 Steps) (loss=0.30286): 100%|██████████| 7/7 [00:17<00:00,  2.44s/it]\n",
      "Validate (3899 / 10 Steps): 100%|██████████| 2/2 [00:11<00:00,  5.98s/it]<00:47,  7.99s/it]\n",
      "Training (3900 / 18000 Steps) (loss=0.48096):  29%|██▊       | 2/7 [00:21<00:56, 11.32s/it]"
     ]
    },
    {
     "name": "stdout",
     "output_type": "stream",
     "text": [
      "Model Was Not Saved ! Current Best Avg. Dice: 0.5338010191917419 Current Avg. Dice: 0.5303494334220886 Current Avg. tumor Dice: 0.5948544144630432 Current Avg. lymph Dice: 0.46584445238113403\n"
     ]
    },
    {
     "name": "stderr",
     "output_type": "stream",
     "text": [
      "Training (3905 / 18000 Steps) (loss=0.37998): 100%|██████████| 7/7 [00:28<00:00,  4.13s/it]\n",
      "Training (3912 / 18000 Steps) (loss=0.22851): 100%|██████████| 7/7 [00:17<00:00,  2.56s/it]\n",
      "Training (3919 / 18000 Steps) (loss=0.35033): 100%|██████████| 7/7 [00:18<00:00,  2.58s/it]\n",
      "Training (3926 / 18000 Steps) (loss=0.11376): 100%|██████████| 7/7 [00:16<00:00,  2.34s/it]\n",
      "Training (3933 / 18000 Steps) (loss=0.59886): 100%|██████████| 7/7 [00:16<00:00,  2.31s/it]\n",
      "Training (3940 / 18000 Steps) (loss=0.23790): 100%|██████████| 7/7 [00:15<00:00,  2.25s/it]\n",
      "Training (3947 / 18000 Steps) (loss=0.35581): 100%|██████████| 7/7 [00:15<00:00,  2.26s/it]\n",
      "Training (3954 / 18000 Steps) (loss=0.42954): 100%|██████████| 7/7 [00:16<00:00,  2.38s/it]\n",
      "Training (3961 / 18000 Steps) (loss=0.28377): 100%|██████████| 7/7 [00:16<00:00,  2.38s/it]\n",
      "Training (3968 / 18000 Steps) (loss=0.43380): 100%|██████████| 7/7 [00:17<00:00,  2.55s/it]\n",
      "Training (3975 / 18000 Steps) (loss=0.54757): 100%|██████████| 7/7 [00:17<00:00,  2.45s/it]\n",
      "Training (3982 / 18000 Steps) (loss=0.40895): 100%|██████████| 7/7 [00:17<00:00,  2.49s/it]\n",
      "Training (3989 / 18000 Steps) (loss=0.33076): 100%|██████████| 7/7 [00:16<00:00,  2.32s/it]\n",
      "Training (3996 / 18000 Steps) (loss=0.34523): 100%|██████████| 7/7 [00:16<00:00,  2.32s/it]\n",
      "Validate (3997 / 10 Steps): 100%|██████████| 2/2 [00:12<00:00,  6.01s/it]<00:11,  2.84s/it]\n",
      "Training (4000 / 18000 Steps) (loss=0.36724):  57%|█████▋    | 4/7 [00:24<00:21,  7.14s/it]"
     ]
    },
    {
     "name": "stdout",
     "output_type": "stream",
     "text": [
      "Model Was Not Saved ! Current Best Avg. Dice: 0.5338010191917419 Current Avg. Dice: 0.49551188945770264 Current Avg. tumor Dice: 0.550302267074585 Current Avg. lymph Dice: 0.4407215118408203\n"
     ]
    },
    {
     "name": "stderr",
     "output_type": "stream",
     "text": [
      "Training (4003 / 18000 Steps) (loss=0.31023): 100%|██████████| 7/7 [00:28<00:00,  4.03s/it]\n",
      "Training (4010 / 18000 Steps) (loss=0.47944): 100%|██████████| 7/7 [00:17<00:00,  2.44s/it]\n",
      "Training (4017 / 18000 Steps) (loss=0.18218): 100%|██████████| 7/7 [00:16<00:00,  2.40s/it]\n",
      "Training (4024 / 18000 Steps) (loss=0.32700): 100%|██████████| 7/7 [00:15<00:00,  2.26s/it]\n",
      "Training (4031 / 18000 Steps) (loss=0.41628): 100%|██████████| 7/7 [00:18<00:00,  2.60s/it]\n",
      "Training (4038 / 18000 Steps) (loss=0.31753): 100%|██████████| 7/7 [00:15<00:00,  2.22s/it]\n",
      "Training (4045 / 18000 Steps) (loss=0.39188): 100%|██████████| 7/7 [00:16<00:00,  2.34s/it]\n",
      "Training (4052 / 18000 Steps) (loss=0.31024): 100%|██████████| 7/7 [00:17<00:00,  2.55s/it]\n",
      "Training (4059 / 18000 Steps) (loss=0.17426): 100%|██████████| 7/7 [00:16<00:00,  2.37s/it]\n",
      "Training (4066 / 18000 Steps) (loss=0.42096): 100%|██████████| 7/7 [00:15<00:00,  2.27s/it]\n",
      "Training (4073 / 18000 Steps) (loss=0.27419): 100%|██████████| 7/7 [00:15<00:00,  2.27s/it]\n",
      "Training (4080 / 18000 Steps) (loss=0.43005): 100%|██████████| 7/7 [00:16<00:00,  2.41s/it]\n",
      "Training (4087 / 18000 Steps) (loss=0.41649): 100%|██████████| 7/7 [00:16<00:00,  2.41s/it]\n",
      "Training (4094 / 18000 Steps) (loss=0.41039): 100%|██████████| 7/7 [00:16<00:00,  2.30s/it]\n",
      "Validate (4095 / 10 Steps): 100%|██████████| 2/2 [00:12<00:00,  6.01s/it]<00:04,  2.20s/it]\n",
      "Training (4100 / 18000 Steps) (loss=0.38979):  86%|████████▌ | 6/7 [00:28<00:06,  6.11s/it]"
     ]
    },
    {
     "name": "stdout",
     "output_type": "stream",
     "text": [
      "Model Was Not Saved ! Current Best Avg. Dice: 0.5338010191917419 Current Avg. Dice: 0.4639628529548645 Current Avg. tumor Dice: 0.5061064958572388 Current Avg. lymph Dice: 0.4218192398548126\n"
     ]
    },
    {
     "name": "stderr",
     "output_type": "stream",
     "text": [
      "Training (4101 / 18000 Steps) (loss=0.35036): 100%|██████████| 7/7 [00:29<00:00,  4.22s/it]\n",
      "Training (4108 / 18000 Steps) (loss=0.34160): 100%|██████████| 7/7 [00:16<00:00,  2.30s/it]\n",
      "Training (4115 / 18000 Steps) (loss=0.42613): 100%|██████████| 7/7 [00:17<00:00,  2.47s/it]\n",
      "Training (4122 / 18000 Steps) (loss=0.48889): 100%|██████████| 7/7 [00:17<00:00,  2.48s/it]\n",
      "Training (4129 / 18000 Steps) (loss=0.55454): 100%|██████████| 7/7 [00:15<00:00,  2.24s/it]\n",
      "Training (4136 / 18000 Steps) (loss=0.37753): 100%|██████████| 7/7 [00:17<00:00,  2.44s/it]\n",
      "Training (4143 / 18000 Steps) (loss=0.17591): 100%|██████████| 7/7 [00:16<00:00,  2.42s/it]\n",
      "Training (4150 / 18000 Steps) (loss=0.30218): 100%|██████████| 7/7 [00:16<00:00,  2.32s/it]\n",
      "Training (4157 / 18000 Steps) (loss=0.42450): 100%|██████████| 7/7 [00:16<00:00,  2.31s/it]\n",
      "Training (4164 / 18000 Steps) (loss=0.53770): 100%|██████████| 7/7 [00:16<00:00,  2.40s/it]\n",
      "Training (4171 / 18000 Steps) (loss=0.18330): 100%|██████████| 7/7 [00:17<00:00,  2.46s/it]\n",
      "Training (4178 / 18000 Steps) (loss=0.42266): 100%|██████████| 7/7 [00:16<00:00,  2.40s/it]\n",
      "Training (4185 / 18000 Steps) (loss=0.21626): 100%|██████████| 7/7 [00:17<00:00,  2.43s/it]\n",
      "Training (4192 / 18000 Steps) (loss=0.51039): 100%|██████████| 7/7 [00:16<00:00,  2.30s/it]\n",
      "Training (4199 / 18000 Steps) (loss=0.28500): 100%|██████████| 7/7 [00:15<00:00,  2.27s/it]\n",
      "Validate (4200 / 10 Steps): 100%|██████████| 2/2 [00:11<00:00,  5.93s/it]<?, ?it/s]\n",
      "Training (4200 / 18000 Steps) (loss=0.53334):  14%|█▍        | 1/7 [00:19<01:56, 19.48s/it]"
     ]
    },
    {
     "name": "stdout",
     "output_type": "stream",
     "text": [
      "Model Was Not Saved ! Current Best Avg. Dice: 0.5338010191917419 Current Avg. Dice: 0.5194991230964661 Current Avg. tumor Dice: 0.5698893070220947 Current Avg. lymph Dice: 0.46910884976387024\n"
     ]
    },
    {
     "name": "stderr",
     "output_type": "stream",
     "text": [
      "Training (4206 / 18000 Steps) (loss=0.38647): 100%|██████████| 7/7 [00:28<00:00,  4.06s/it]\n",
      "Training (4213 / 18000 Steps) (loss=0.33011): 100%|██████████| 7/7 [00:16<00:00,  2.32s/it]\n",
      "Training (4220 / 18000 Steps) (loss=0.19026): 100%|██████████| 7/7 [00:15<00:00,  2.26s/it]\n",
      "Training (4227 / 18000 Steps) (loss=0.41069): 100%|██████████| 7/7 [00:16<00:00,  2.35s/it]\n",
      "Training (4234 / 18000 Steps) (loss=0.44393): 100%|██████████| 7/7 [00:16<00:00,  2.29s/it]\n",
      "Training (4241 / 18000 Steps) (loss=0.27359): 100%|██████████| 7/7 [00:16<00:00,  2.30s/it]\n",
      "Training (4248 / 18000 Steps) (loss=0.35094): 100%|██████████| 7/7 [00:15<00:00,  2.26s/it]\n",
      "Training (4255 / 18000 Steps) (loss=0.14430): 100%|██████████| 7/7 [00:16<00:00,  2.37s/it]\n",
      "Training (4262 / 18000 Steps) (loss=0.10795): 100%|██████████| 7/7 [00:16<00:00,  2.34s/it]\n",
      "Training (4269 / 18000 Steps) (loss=0.36595): 100%|██████████| 7/7 [00:16<00:00,  2.35s/it]\n",
      "Training (4276 / 18000 Steps) (loss=0.17285): 100%|██████████| 7/7 [00:15<00:00,  2.23s/it]\n",
      "Training (4283 / 18000 Steps) (loss=0.29636): 100%|██████████| 7/7 [00:15<00:00,  2.25s/it]\n",
      "Training (4290 / 18000 Steps) (loss=0.55461): 100%|██████████| 7/7 [00:16<00:00,  2.33s/it]\n",
      "Training (4297 / 18000 Steps) (loss=0.55685): 100%|██████████| 7/7 [00:17<00:00,  2.49s/it]\n",
      "Validate (4298 / 10 Steps): 100%|██████████| 2/2 [00:12<00:00,  6.11s/it]<00:23,  4.62s/it]\n",
      "Training (4300 / 18000 Steps) (loss=0.44912):  43%|████▎     | 3/7 [00:24<00:35,  8.86s/it]"
     ]
    },
    {
     "name": "stdout",
     "output_type": "stream",
     "text": [
      "Model Was Not Saved ! Current Best Avg. Dice: 0.5338010191917419 Current Avg. Dice: 0.5067288279533386 Current Avg. tumor Dice: 0.5753485560417175 Current Avg. lymph Dice: 0.43810904026031494\n"
     ]
    },
    {
     "name": "stderr",
     "output_type": "stream",
     "text": [
      "Training (4304 / 18000 Steps) (loss=0.51113): 100%|██████████| 7/7 [00:30<00:00,  4.31s/it]\n",
      "Training (4311 / 18000 Steps) (loss=0.22020): 100%|██████████| 7/7 [00:15<00:00,  2.26s/it]\n",
      "Training (4318 / 18000 Steps) (loss=0.48642): 100%|██████████| 7/7 [00:17<00:00,  2.43s/it]\n",
      "Training (4325 / 18000 Steps) (loss=0.25162): 100%|██████████| 7/7 [00:17<00:00,  2.52s/it]\n",
      "Training (4332 / 18000 Steps) (loss=0.29857): 100%|██████████| 7/7 [00:17<00:00,  2.46s/it]\n",
      "Training (4339 / 18000 Steps) (loss=0.50410): 100%|██████████| 7/7 [00:15<00:00,  2.23s/it]\n",
      "Training (4346 / 18000 Steps) (loss=0.30892): 100%|██████████| 7/7 [00:16<00:00,  2.40s/it]\n",
      "Training (4353 / 18000 Steps) (loss=0.35440): 100%|██████████| 7/7 [00:16<00:00,  2.33s/it]\n",
      "Training (4360 / 18000 Steps) (loss=0.29015): 100%|██████████| 7/7 [00:15<00:00,  2.26s/it]\n",
      "Training (4367 / 18000 Steps) (loss=0.24219): 100%|██████████| 7/7 [00:16<00:00,  2.39s/it]\n",
      "Training (4374 / 18000 Steps) (loss=0.44473): 100%|██████████| 7/7 [00:16<00:00,  2.33s/it]\n",
      "Training (4381 / 18000 Steps) (loss=0.40880): 100%|██████████| 7/7 [00:16<00:00,  2.36s/it]\n",
      "Training (4388 / 18000 Steps) (loss=0.28030): 100%|██████████| 7/7 [00:16<00:00,  2.39s/it]\n",
      "Training (4395 / 18000 Steps) (loss=0.12066): 100%|██████████| 7/7 [00:16<00:00,  2.33s/it]\n",
      "Validate (4396 / 10 Steps): 100%|██████████| 2/2 [00:12<00:00,  6.02s/it]<00:07,  2.38s/it]\n",
      "Training (4400 / 18000 Steps) (loss=0.33113):  71%|███████▏  | 5/7 [00:25<00:12,  6.47s/it]"
     ]
    },
    {
     "name": "stdout",
     "output_type": "stream",
     "text": [
      "Model Was Not Saved ! Current Best Avg. Dice: 0.5338010191917419 Current Avg. Dice: 0.5333471298217773 Current Avg. tumor Dice: 0.6209441423416138 Current Avg. lymph Dice: 0.4457501471042633\n"
     ]
    },
    {
     "name": "stderr",
     "output_type": "stream",
     "text": [
      "Training (4402 / 18000 Steps) (loss=0.15122): 100%|██████████| 7/7 [00:28<00:00,  4.06s/it]\n",
      "Training (4409 / 18000 Steps) (loss=0.53634): 100%|██████████| 7/7 [00:16<00:00,  2.38s/it]\n",
      "Training (4416 / 18000 Steps) (loss=0.15958): 100%|██████████| 7/7 [00:16<00:00,  2.30s/it]\n",
      "Training (4423 / 18000 Steps) (loss=0.53557): 100%|██████████| 7/7 [00:16<00:00,  2.37s/it]\n",
      "Training (4430 / 18000 Steps) (loss=0.32707): 100%|██████████| 7/7 [00:16<00:00,  2.33s/it]\n",
      "Training (4437 / 18000 Steps) (loss=0.53104): 100%|██████████| 7/7 [00:15<00:00,  2.24s/it]\n",
      "Training (4444 / 18000 Steps) (loss=0.35379): 100%|██████████| 7/7 [00:16<00:00,  2.36s/it]\n",
      "Training (4451 / 18000 Steps) (loss=0.26809): 100%|██████████| 7/7 [00:17<00:00,  2.52s/it]\n",
      "Training (4458 / 18000 Steps) (loss=0.37042): 100%|██████████| 7/7 [00:17<00:00,  2.50s/it]\n",
      "Training (4465 / 18000 Steps) (loss=0.40784): 100%|██████████| 7/7 [00:15<00:00,  2.22s/it]\n",
      "Training (4472 / 18000 Steps) (loss=0.61814): 100%|██████████| 7/7 [00:15<00:00,  2.27s/it]\n",
      "Training (4479 / 18000 Steps) (loss=0.42889): 100%|██████████| 7/7 [00:16<00:00,  2.29s/it]\n",
      "Training (4486 / 18000 Steps) (loss=0.39991): 100%|██████████| 7/7 [00:16<00:00,  2.32s/it]\n",
      "Training (4493 / 18000 Steps) (loss=0.13372): 100%|██████████| 7/7 [00:18<00:00,  2.61s/it]\n",
      "Validate (4494 / 10 Steps): 100%|██████████| 2/2 [00:11<00:00,  5.95s/it]<00:01,  1.91s/it]\n",
      "Training (4500 / 18000 Steps) (loss=0.30875): 100%|██████████| 7/7 [00:28<00:00,  4.12s/it]\n"
     ]
    },
    {
     "name": "stdout",
     "output_type": "stream",
     "text": [
      "Model Was Saved ! Current Best Avg. Dice: 0.5353188514709473 Current Avg. Dice: 0.5353188514709473 Current Avg. tumor Dice: 0.5872399210929871 Current Avg. lymph Dice: 0.48339784145355225\n"
     ]
    },
    {
     "name": "stderr",
     "output_type": "stream",
     "text": [
      "Training (4507 / 18000 Steps) (loss=0.37843): 100%|██████████| 7/7 [00:15<00:00,  2.24s/it]\n",
      "Training (4514 / 18000 Steps) (loss=0.45717): 100%|██████████| 7/7 [00:15<00:00,  2.25s/it]\n",
      "Training (4521 / 18000 Steps) (loss=0.31996): 100%|██████████| 7/7 [00:16<00:00,  2.34s/it]\n",
      "Training (4528 / 18000 Steps) (loss=0.35120): 100%|██████████| 7/7 [00:16<00:00,  2.35s/it]\n",
      "Training (4535 / 18000 Steps) (loss=0.45160): 100%|██████████| 7/7 [00:17<00:00,  2.47s/it]\n",
      "Training (4542 / 18000 Steps) (loss=0.28251): 100%|██████████| 7/7 [00:16<00:00,  2.41s/it]\n",
      "Training (4549 / 18000 Steps) (loss=0.45563): 100%|██████████| 7/7 [00:16<00:00,  2.39s/it]\n",
      "Training (4556 / 18000 Steps) (loss=0.43335): 100%|██████████| 7/7 [00:16<00:00,  2.30s/it]\n",
      "Training (4563 / 18000 Steps) (loss=0.48412): 100%|██████████| 7/7 [00:18<00:00,  2.58s/it]\n",
      "Training (4570 / 18000 Steps) (loss=0.36699): 100%|██████████| 7/7 [00:15<00:00,  2.25s/it]\n",
      "Training (4577 / 18000 Steps) (loss=0.44504): 100%|██████████| 7/7 [00:16<00:00,  2.30s/it]\n",
      "Training (4584 / 18000 Steps) (loss=0.40820): 100%|██████████| 7/7 [00:15<00:00,  2.24s/it]\n",
      "Training (4591 / 18000 Steps) (loss=0.53063): 100%|██████████| 7/7 [00:16<00:00,  2.30s/it]\n",
      "Training (4598 / 18000 Steps) (loss=0.49542): 100%|██████████| 7/7 [00:16<00:00,  2.32s/it]\n",
      "Validate (4599 / 10 Steps): 100%|██████████| 2/2 [00:12<00:00,  6.11s/it]<00:44,  7.40s/it]\n",
      "Training (4600 / 18000 Steps) (loss=0.21505):  29%|██▊       | 2/7 [00:22<00:58, 11.74s/it]"
     ]
    },
    {
     "name": "stdout",
     "output_type": "stream",
     "text": [
      "Model Was Saved ! Current Best Avg. Dice: 0.5577710270881653 Current Avg. Dice: 0.5577710270881653 Current Avg. tumor Dice: 0.6185873746871948 Current Avg. lymph Dice: 0.4969547390937805\n"
     ]
    },
    {
     "name": "stderr",
     "output_type": "stream",
     "text": [
      "Training (4605 / 18000 Steps) (loss=0.27355): 100%|██████████| 7/7 [00:29<00:00,  4.21s/it]\n",
      "Training (4612 / 18000 Steps) (loss=0.20718): 100%|██████████| 7/7 [00:16<00:00,  2.40s/it]\n",
      "Training (4619 / 18000 Steps) (loss=0.18360): 100%|██████████| 7/7 [00:16<00:00,  2.37s/it]\n",
      "Training (4626 / 18000 Steps) (loss=0.31942): 100%|██████████| 7/7 [00:17<00:00,  2.56s/it]\n",
      "Training (4633 / 18000 Steps) (loss=0.54465): 100%|██████████| 7/7 [00:16<00:00,  2.36s/it]\n",
      "Training (4640 / 18000 Steps) (loss=0.39383): 100%|██████████| 7/7 [00:16<00:00,  2.29s/it]\n",
      "Training (4647 / 18000 Steps) (loss=0.15867): 100%|██████████| 7/7 [00:17<00:00,  2.54s/it]\n",
      "Training (4654 / 18000 Steps) (loss=0.36352): 100%|██████████| 7/7 [00:17<00:00,  2.45s/it]\n",
      "Training (4661 / 18000 Steps) (loss=0.40039): 100%|██████████| 7/7 [00:16<00:00,  2.32s/it]\n",
      "Training (4668 / 18000 Steps) (loss=0.26767): 100%|██████████| 7/7 [00:16<00:00,  2.29s/it]\n",
      "Training (4675 / 18000 Steps) (loss=0.40490): 100%|██████████| 7/7 [00:15<00:00,  2.28s/it]\n",
      "Training (4682 / 18000 Steps) (loss=0.17607): 100%|██████████| 7/7 [00:16<00:00,  2.29s/it]\n",
      "Training (4689 / 18000 Steps) (loss=0.42469): 100%|██████████| 7/7 [00:16<00:00,  2.32s/it]\n",
      "Training (4696 / 18000 Steps) (loss=0.33473): 100%|██████████| 7/7 [00:16<00:00,  2.34s/it]\n",
      "Validate (4697 / 10 Steps): 100%|██████████| 2/2 [00:12<00:00,  6.00s/it]<00:12,  3.11s/it]\n",
      "Training (4700 / 18000 Steps) (loss=0.30562):  57%|█████▋    | 4/7 [00:25<00:21,  7.29s/it]"
     ]
    },
    {
     "name": "stdout",
     "output_type": "stream",
     "text": [
      "Model Was Not Saved ! Current Best Avg. Dice: 0.5577710270881653 Current Avg. Dice: 0.5217312574386597 Current Avg. tumor Dice: 0.57541424036026 Current Avg. lymph Dice: 0.46804821491241455\n"
     ]
    },
    {
     "name": "stderr",
     "output_type": "stream",
     "text": [
      "Training (4703 / 18000 Steps) (loss=0.20799): 100%|██████████| 7/7 [00:29<00:00,  4.20s/it]\n",
      "Training (4710 / 18000 Steps) (loss=0.39420): 100%|██████████| 7/7 [00:16<00:00,  2.33s/it]\n",
      "Training (4717 / 18000 Steps) (loss=0.26458): 100%|██████████| 7/7 [00:15<00:00,  2.24s/it]\n",
      "Training (4724 / 18000 Steps) (loss=0.26293): 100%|██████████| 7/7 [00:16<00:00,  2.39s/it]\n",
      "Training (4731 / 18000 Steps) (loss=0.18405): 100%|██████████| 7/7 [00:16<00:00,  2.31s/it]\n",
      "Training (4738 / 18000 Steps) (loss=0.28777): 100%|██████████| 7/7 [00:16<00:00,  2.39s/it]\n",
      "Training (4745 / 18000 Steps) (loss=0.52921): 100%|██████████| 7/7 [00:16<00:00,  2.30s/it]\n",
      "Training (4752 / 18000 Steps) (loss=0.32149): 100%|██████████| 7/7 [00:16<00:00,  2.38s/it]\n",
      "Training (4759 / 18000 Steps) (loss=0.36125): 100%|██████████| 7/7 [00:17<00:00,  2.44s/it]\n",
      "Training (4766 / 18000 Steps) (loss=0.13918): 100%|██████████| 7/7 [00:16<00:00,  2.34s/it]\n",
      "Training (4773 / 18000 Steps) (loss=0.31919): 100%|██████████| 7/7 [00:16<00:00,  2.40s/it]\n",
      "Training (4780 / 18000 Steps) (loss=0.41648): 100%|██████████| 7/7 [00:15<00:00,  2.25s/it]\n",
      "Training (4787 / 18000 Steps) (loss=0.27155): 100%|██████████| 7/7 [00:17<00:00,  2.52s/it]\n",
      "Training (4794 / 18000 Steps) (loss=0.61252): 100%|██████████| 7/7 [00:16<00:00,  2.41s/it]\n",
      "Validate (4795 / 10 Steps): 100%|██████████| 2/2 [00:11<00:00,  5.99s/it]<00:04,  2.19s/it]\n",
      "Training (4800 / 18000 Steps) (loss=0.33664):  86%|████████▌ | 6/7 [00:28<00:06,  6.10s/it]"
     ]
    },
    {
     "name": "stdout",
     "output_type": "stream",
     "text": [
      "Model Was Not Saved ! Current Best Avg. Dice: 0.5577710270881653 Current Avg. Dice: 0.4735950827598572 Current Avg. tumor Dice: 0.5297051072120667 Current Avg. lymph Dice: 0.4174850881099701\n"
     ]
    },
    {
     "name": "stderr",
     "output_type": "stream",
     "text": [
      "Training (4801 / 18000 Steps) (loss=0.55726): 100%|██████████| 7/7 [00:29<00:00,  4.21s/it]\n",
      "Training (4808 / 18000 Steps) (loss=0.43764): 100%|██████████| 7/7 [00:16<00:00,  2.39s/it]\n",
      "Training (4815 / 18000 Steps) (loss=0.35599): 100%|██████████| 7/7 [00:17<00:00,  2.56s/it]\n",
      "Training (4822 / 18000 Steps) (loss=0.29291): 100%|██████████| 7/7 [00:16<00:00,  2.29s/it]\n",
      "Training (4829 / 18000 Steps) (loss=0.41263): 100%|██████████| 7/7 [00:18<00:00,  2.59s/it]\n",
      "Training (4836 / 18000 Steps) (loss=0.26502): 100%|██████████| 7/7 [00:16<00:00,  2.32s/it]\n",
      "Training (4843 / 18000 Steps) (loss=0.25940): 100%|██████████| 7/7 [00:15<00:00,  2.23s/it]\n",
      "Training (4850 / 18000 Steps) (loss=0.24071): 100%|██████████| 7/7 [00:16<00:00,  2.35s/it]\n",
      "Training (4857 / 18000 Steps) (loss=0.55467): 100%|██████████| 7/7 [00:17<00:00,  2.48s/it]\n",
      "Training (4864 / 18000 Steps) (loss=0.11262): 100%|██████████| 7/7 [00:15<00:00,  2.23s/it]\n",
      "Training (4871 / 18000 Steps) (loss=0.26419): 100%|██████████| 7/7 [00:15<00:00,  2.28s/it]\n",
      "Training (4878 / 18000 Steps) (loss=0.39994): 100%|██████████| 7/7 [00:16<00:00,  2.40s/it]\n",
      "Training (4885 / 18000 Steps) (loss=0.40784): 100%|██████████| 7/7 [00:15<00:00,  2.25s/it]\n",
      "Training (4892 / 18000 Steps) (loss=0.14349): 100%|██████████| 7/7 [00:17<00:00,  2.50s/it]\n",
      "Training (4899 / 18000 Steps) (loss=0.49208): 100%|██████████| 7/7 [00:17<00:00,  2.43s/it]\n",
      "Validate (4900 / 10 Steps): 100%|██████████| 2/2 [00:12<00:00,  6.17s/it]<?, ?it/s]\n",
      "Training (4900 / 18000 Steps) (loss=0.56578):  14%|█▍        | 1/7 [00:20<02:04, 20.73s/it]"
     ]
    },
    {
     "name": "stdout",
     "output_type": "stream",
     "text": [
      "Model Was Not Saved ! Current Best Avg. Dice: 0.5577710270881653 Current Avg. Dice: 0.4937387704849243 Current Avg. tumor Dice: 0.5383895635604858 Current Avg. lymph Dice: 0.4490879774093628\n"
     ]
    },
    {
     "name": "stderr",
     "output_type": "stream",
     "text": [
      "Training (4906 / 18000 Steps) (loss=0.60179): 100%|██████████| 7/7 [00:29<00:00,  4.23s/it]\n",
      "Training (4913 / 18000 Steps) (loss=0.46727): 100%|██████████| 7/7 [00:17<00:00,  2.49s/it]\n",
      "Training (4920 / 18000 Steps) (loss=0.66680): 100%|██████████| 7/7 [00:16<00:00,  2.30s/it]\n",
      "Training (4927 / 18000 Steps) (loss=0.58541): 100%|██████████| 7/7 [00:17<00:00,  2.47s/it]\n",
      "Training (4934 / 18000 Steps) (loss=0.34162): 100%|██████████| 7/7 [00:15<00:00,  2.27s/it]\n",
      "Training (4941 / 18000 Steps) (loss=0.27766): 100%|██████████| 7/7 [00:15<00:00,  2.26s/it]\n",
      "Training (4948 / 18000 Steps) (loss=0.50575): 100%|██████████| 7/7 [00:16<00:00,  2.41s/it]\n",
      "Training (4955 / 18000 Steps) (loss=0.40155): 100%|██████████| 7/7 [00:16<00:00,  2.29s/it]\n",
      "Training (4962 / 18000 Steps) (loss=0.49412): 100%|██████████| 7/7 [00:17<00:00,  2.55s/it]\n",
      "Training (4969 / 18000 Steps) (loss=0.30731): 100%|██████████| 7/7 [00:17<00:00,  2.52s/it]\n",
      "Training (4976 / 18000 Steps) (loss=0.48769): 100%|██████████| 7/7 [00:17<00:00,  2.45s/it]\n",
      "Training (4983 / 18000 Steps) (loss=0.36119): 100%|██████████| 7/7 [00:17<00:00,  2.44s/it]\n",
      "Training (4990 / 18000 Steps) (loss=0.39421): 100%|██████████| 7/7 [00:17<00:00,  2.56s/it]\n",
      "Training (4997 / 18000 Steps) (loss=0.41147): 100%|██████████| 7/7 [00:17<00:00,  2.44s/it]\n",
      "Validate (4998 / 10 Steps): 100%|██████████| 2/2 [00:12<00:00,  6.09s/it]<00:20,  4.01s/it]\n",
      "Training (5000 / 18000 Steps) (loss=0.28509):  43%|████▎     | 3/7 [00:22<00:34,  8.51s/it]"
     ]
    },
    {
     "name": "stdout",
     "output_type": "stream",
     "text": [
      "Model Was Not Saved ! Current Best Avg. Dice: 0.5577710270881653 Current Avg. Dice: 0.5047640800476074 Current Avg. tumor Dice: 0.5427417159080505 Current Avg. lymph Dice: 0.4667864739894867\n"
     ]
    },
    {
     "name": "stderr",
     "output_type": "stream",
     "text": [
      "Training (5004 / 18000 Steps) (loss=0.45479): 100%|██████████| 7/7 [00:28<00:00,  4.05s/it]\n",
      "Training (5011 / 18000 Steps) (loss=0.27572): 100%|██████████| 7/7 [00:15<00:00,  2.27s/it]\n",
      "Training (5018 / 18000 Steps) (loss=0.26130): 100%|██████████| 7/7 [00:17<00:00,  2.51s/it]\n",
      "Training (5025 / 18000 Steps) (loss=0.20648): 100%|██████████| 7/7 [00:15<00:00,  2.28s/it]\n",
      "Training (5032 / 18000 Steps) (loss=0.45403): 100%|██████████| 7/7 [00:17<00:00,  2.49s/it]\n",
      "Training (5039 / 18000 Steps) (loss=0.31256): 100%|██████████| 7/7 [00:16<00:00,  2.33s/it]\n",
      "Training (5046 / 18000 Steps) (loss=0.36645): 100%|██████████| 7/7 [00:16<00:00,  2.34s/it]\n",
      "Training (5053 / 18000 Steps) (loss=0.53932): 100%|██████████| 7/7 [00:16<00:00,  2.40s/it]\n",
      "Training (5060 / 18000 Steps) (loss=0.28939): 100%|██████████| 7/7 [00:17<00:00,  2.49s/it]\n",
      "Training (5067 / 18000 Steps) (loss=0.44471): 100%|██████████| 7/7 [00:16<00:00,  2.34s/it]\n",
      "Training (5074 / 18000 Steps) (loss=0.36007): 100%|██████████| 7/7 [00:16<00:00,  2.39s/it]\n",
      "Training (5081 / 18000 Steps) (loss=0.38936): 100%|██████████| 7/7 [00:16<00:00,  2.42s/it]\n",
      "Training (5088 / 18000 Steps) (loss=0.55934): 100%|██████████| 7/7 [00:16<00:00,  2.39s/it]\n",
      "Training (5095 / 18000 Steps) (loss=0.38015): 100%|██████████| 7/7 [00:16<00:00,  2.34s/it]\n",
      "Validate (5096 / 10 Steps): 100%|██████████| 2/2 [00:12<00:00,  6.10s/it]<00:07,  2.49s/it]\n",
      "Training (5100 / 18000 Steps) (loss=0.24505):  71%|███████▏  | 5/7 [00:26<00:13,  6.60s/it]"
     ]
    },
    {
     "name": "stdout",
     "output_type": "stream",
     "text": [
      "Model Was Not Saved ! Current Best Avg. Dice: 0.5577710270881653 Current Avg. Dice: 0.5550245046615601 Current Avg. tumor Dice: 0.6049774289131165 Current Avg. lymph Dice: 0.5050715208053589\n"
     ]
    },
    {
     "name": "stderr",
     "output_type": "stream",
     "text": [
      "Training (5102 / 18000 Steps) (loss=0.30303): 100%|██████████| 7/7 [00:29<00:00,  4.19s/it]\n",
      "Training (5109 / 18000 Steps) (loss=0.35531): 100%|██████████| 7/7 [00:16<00:00,  2.31s/it]\n",
      "Training (5116 / 18000 Steps) (loss=0.30380): 100%|██████████| 7/7 [00:16<00:00,  2.34s/it]\n",
      "Training (5123 / 18000 Steps) (loss=0.38368): 100%|██████████| 7/7 [00:16<00:00,  2.29s/it]\n",
      "Training (5130 / 18000 Steps) (loss=0.30986): 100%|██████████| 7/7 [00:16<00:00,  2.36s/it]\n",
      "Training (5137 / 18000 Steps) (loss=0.46339): 100%|██████████| 7/7 [00:16<00:00,  2.39s/it]\n",
      "Training (5144 / 18000 Steps) (loss=0.19077): 100%|██████████| 7/7 [00:15<00:00,  2.25s/it]\n",
      "Training (5151 / 18000 Steps) (loss=0.13850): 100%|██████████| 7/7 [00:16<00:00,  2.34s/it]\n",
      "Training (5158 / 18000 Steps) (loss=0.31193): 100%|██████████| 7/7 [00:16<00:00,  2.31s/it]\n",
      "Training (5165 / 18000 Steps) (loss=0.44229): 100%|██████████| 7/7 [00:17<00:00,  2.45s/it]\n",
      "Training (5172 / 18000 Steps) (loss=0.52577): 100%|██████████| 7/7 [00:17<00:00,  2.48s/it]\n",
      "Training (5179 / 18000 Steps) (loss=0.29961): 100%|██████████| 7/7 [00:15<00:00,  2.25s/it]\n",
      "Training (5186 / 18000 Steps) (loss=0.53632): 100%|██████████| 7/7 [00:15<00:00,  2.27s/it]\n",
      "Training (5193 / 18000 Steps) (loss=0.32897): 100%|██████████| 7/7 [00:16<00:00,  2.41s/it]\n",
      "Validate (5194 / 10 Steps): 100%|██████████| 2/2 [00:12<00:00,  6.12s/it]<00:01,  1.99s/it]\n",
      "Training (5200 / 18000 Steps) (loss=0.46096): 100%|██████████| 7/7 [00:30<00:00,  4.38s/it]\n"
     ]
    },
    {
     "name": "stdout",
     "output_type": "stream",
     "text": [
      "Model Was Saved ! Current Best Avg. Dice: 0.5622348785400391 Current Avg. Dice: 0.5622348785400391 Current Avg. tumor Dice: 0.6320997476577759 Current Avg. lymph Dice: 0.49236994981765747\n"
     ]
    },
    {
     "name": "stderr",
     "output_type": "stream",
     "text": [
      "Training (5207 / 18000 Steps) (loss=0.42890): 100%|██████████| 7/7 [00:16<00:00,  2.29s/it]\n",
      "Training (5214 / 18000 Steps) (loss=0.41756): 100%|██████████| 7/7 [00:16<00:00,  2.39s/it]\n",
      "Training (5221 / 18000 Steps) (loss=0.35180): 100%|██████████| 7/7 [00:16<00:00,  2.40s/it]\n",
      "Training (5228 / 18000 Steps) (loss=0.44021): 100%|██████████| 7/7 [00:16<00:00,  2.36s/it]\n",
      "Training (5235 / 18000 Steps) (loss=0.28762): 100%|██████████| 7/7 [00:15<00:00,  2.27s/it]\n",
      "Training (5242 / 18000 Steps) (loss=0.41316): 100%|██████████| 7/7 [00:17<00:00,  2.47s/it]\n",
      "Training (5249 / 18000 Steps) (loss=0.34166): 100%|██████████| 7/7 [00:17<00:00,  2.55s/it]\n",
      "Training (5256 / 18000 Steps) (loss=0.42259): 100%|██████████| 7/7 [00:15<00:00,  2.27s/it]\n",
      "Training (5263 / 18000 Steps) (loss=0.17019): 100%|██████████| 7/7 [00:15<00:00,  2.27s/it]\n",
      "Training (5270 / 18000 Steps) (loss=0.51202): 100%|██████████| 7/7 [00:16<00:00,  2.30s/it]\n",
      "Training (5277 / 18000 Steps) (loss=0.51228): 100%|██████████| 7/7 [00:16<00:00,  2.43s/it]\n",
      "Training (5284 / 18000 Steps) (loss=0.41003): 100%|██████████| 7/7 [00:17<00:00,  2.44s/it]\n",
      "Training (5291 / 18000 Steps) (loss=0.53244): 100%|██████████| 7/7 [00:16<00:00,  2.31s/it]\n",
      "Training (5298 / 18000 Steps) (loss=0.41343): 100%|██████████| 7/7 [00:16<00:00,  2.38s/it]\n",
      "Validate (5299 / 10 Steps): 100%|██████████| 2/2 [00:11<00:00,  5.97s/it]<00:43,  7.21s/it]\n",
      "Training (5300 / 18000 Steps) (loss=0.17100):  29%|██▊       | 2/7 [00:20<00:54, 10.98s/it]"
     ]
    },
    {
     "name": "stdout",
     "output_type": "stream",
     "text": [
      "Model Was Not Saved ! Current Best Avg. Dice: 0.5622348785400391 Current Avg. Dice: 0.5178690552711487 Current Avg. tumor Dice: 0.6185312271118164 Current Avg. lymph Dice: 0.41720694303512573\n"
     ]
    },
    {
     "name": "stderr",
     "output_type": "stream",
     "text": [
      "Training (5305 / 18000 Steps) (loss=0.18526): 100%|██████████| 7/7 [00:28<00:00,  4.02s/it]\n",
      "Training (5312 / 18000 Steps) (loss=0.30298): 100%|██████████| 7/7 [00:15<00:00,  2.26s/it]\n",
      "Training (5319 / 18000 Steps) (loss=0.12426): 100%|██████████| 7/7 [00:16<00:00,  2.42s/it]\n",
      "Training (5326 / 18000 Steps) (loss=0.39640): 100%|██████████| 7/7 [00:16<00:00,  2.32s/it]\n",
      "Training (5333 / 18000 Steps) (loss=0.26286): 100%|██████████| 7/7 [00:16<00:00,  2.43s/it]\n",
      "Training (5340 / 18000 Steps) (loss=0.25832): 100%|██████████| 7/7 [00:15<00:00,  2.26s/it]\n",
      "Training (5347 / 18000 Steps) (loss=0.41771): 100%|██████████| 7/7 [00:17<00:00,  2.45s/it]\n",
      "Training (5354 / 18000 Steps) (loss=0.36309): 100%|██████████| 7/7 [00:17<00:00,  2.46s/it]\n",
      "Training (5361 / 18000 Steps) (loss=0.24854): 100%|██████████| 7/7 [00:16<00:00,  2.31s/it]\n",
      "Training (5368 / 18000 Steps) (loss=0.55717): 100%|██████████| 7/7 [00:15<00:00,  2.28s/it]\n",
      "Training (5375 / 18000 Steps) (loss=0.30742): 100%|██████████| 7/7 [00:16<00:00,  2.41s/it]\n",
      "Training (5382 / 18000 Steps) (loss=0.38887): 100%|██████████| 7/7 [00:17<00:00,  2.43s/it]\n",
      "Training (5389 / 18000 Steps) (loss=0.55689): 100%|██████████| 7/7 [00:16<00:00,  2.34s/it]\n",
      "Training (5396 / 18000 Steps) (loss=0.24109): 100%|██████████| 7/7 [00:16<00:00,  2.36s/it]\n",
      "Validate (5397 / 10 Steps): 100%|██████████| 2/2 [00:12<00:00,  6.07s/it]<00:12,  3.08s/it]\n",
      "Training (5400 / 18000 Steps) (loss=0.39035):  57%|█████▋    | 4/7 [00:26<00:23,  7.68s/it]"
     ]
    },
    {
     "name": "stdout",
     "output_type": "stream",
     "text": [
      "Model Was Saved ! Current Best Avg. Dice: 0.5648857355117798 Current Avg. Dice: 0.5648857355117798 Current Avg. tumor Dice: 0.617026686668396 Current Avg. lymph Dice: 0.5127449035644531\n"
     ]
    },
    {
     "name": "stderr",
     "output_type": "stream",
     "text": [
      "Training (5403 / 18000 Steps) (loss=0.45396): 100%|██████████| 7/7 [00:30<00:00,  4.32s/it]\n",
      "Training (5410 / 18000 Steps) (loss=0.11395): 100%|██████████| 7/7 [00:18<00:00,  2.63s/it]\n",
      "Training (5417 / 18000 Steps) (loss=0.49908): 100%|██████████| 7/7 [00:16<00:00,  2.31s/it]\n",
      "Training (5424 / 18000 Steps) (loss=0.52193): 100%|██████████| 7/7 [00:16<00:00,  2.32s/it]\n",
      "Training (5431 / 18000 Steps) (loss=0.48609): 100%|██████████| 7/7 [00:16<00:00,  2.40s/it]\n",
      "Training (5438 / 18000 Steps) (loss=0.55270): 100%|██████████| 7/7 [00:15<00:00,  2.23s/it]\n",
      "Training (5445 / 18000 Steps) (loss=0.42003): 100%|██████████| 7/7 [00:17<00:00,  2.48s/it]\n",
      "Training (5452 / 18000 Steps) (loss=0.36765): 100%|██████████| 7/7 [00:17<00:00,  2.48s/it]\n",
      "Training (5459 / 18000 Steps) (loss=0.26190): 100%|██████████| 7/7 [00:16<00:00,  2.35s/it]\n",
      "Training (5466 / 18000 Steps) (loss=0.43952): 100%|██████████| 7/7 [00:16<00:00,  2.33s/it]\n",
      "Training (5473 / 18000 Steps) (loss=0.25815): 100%|██████████| 7/7 [00:17<00:00,  2.51s/it]\n",
      "Training (5480 / 18000 Steps) (loss=0.38993): 100%|██████████| 7/7 [00:16<00:00,  2.42s/it]\n",
      "Training (5487 / 18000 Steps) (loss=0.14721): 100%|██████████| 7/7 [00:16<00:00,  2.31s/it]\n",
      "Training (5494 / 18000 Steps) (loss=0.13228): 100%|██████████| 7/7 [00:15<00:00,  2.28s/it]\n",
      "Validate (5495 / 10 Steps): 100%|██████████| 2/2 [00:12<00:00,  6.06s/it]<00:04,  2.12s/it]\n",
      "Training (5500 / 18000 Steps) (loss=0.45943):  86%|████████▌ | 6/7 [00:28<00:06,  6.39s/it]"
     ]
    },
    {
     "name": "stdout",
     "output_type": "stream",
     "text": [
      "Model Was Saved ! Current Best Avg. Dice: 0.5730060338973999 Current Avg. Dice: 0.5730060338973999 Current Avg. tumor Dice: 0.6331622004508972 Current Avg. lymph Dice: 0.5128499269485474\n"
     ]
    },
    {
     "name": "stderr",
     "output_type": "stream",
     "text": [
      "Training (5501 / 18000 Steps) (loss=0.26767): 100%|██████████| 7/7 [00:29<00:00,  4.23s/it]\n",
      "Training (5508 / 18000 Steps) (loss=0.25340): 100%|██████████| 7/7 [00:17<00:00,  2.45s/it]\n",
      "Training (5515 / 18000 Steps) (loss=0.17793): 100%|██████████| 7/7 [00:17<00:00,  2.49s/it]\n",
      "Training (5522 / 18000 Steps) (loss=0.33865): 100%|██████████| 7/7 [00:17<00:00,  2.47s/it]\n",
      "Training (5529 / 18000 Steps) (loss=0.41672): 100%|██████████| 7/7 [00:16<00:00,  2.40s/it]\n",
      "Training (5536 / 18000 Steps) (loss=0.11224): 100%|██████████| 7/7 [00:16<00:00,  2.31s/it]\n",
      "Training (5543 / 18000 Steps) (loss=0.15310): 100%|██████████| 7/7 [00:17<00:00,  2.45s/it]\n",
      "Training (5550 / 18000 Steps) (loss=0.45366): 100%|██████████| 7/7 [00:16<00:00,  2.29s/it]\n",
      "Training (5557 / 18000 Steps) (loss=0.48543): 100%|██████████| 7/7 [00:16<00:00,  2.40s/it]\n",
      "Training (5564 / 18000 Steps) (loss=0.29020): 100%|██████████| 7/7 [00:16<00:00,  2.42s/it]\n",
      "Training (5571 / 18000 Steps) (loss=0.36636): 100%|██████████| 7/7 [00:16<00:00,  2.40s/it]\n",
      "Training (5578 / 18000 Steps) (loss=0.54549): 100%|██████████| 7/7 [00:17<00:00,  2.48s/it]\n",
      "Training (5585 / 18000 Steps) (loss=0.53059): 100%|██████████| 7/7 [00:18<00:00,  2.60s/it]\n",
      "Training (5592 / 18000 Steps) (loss=0.39991): 100%|██████████| 7/7 [00:16<00:00,  2.29s/it]\n",
      "Training (5599 / 18000 Steps) (loss=0.28459): 100%|██████████| 7/7 [00:16<00:00,  2.36s/it]\n",
      "Validate (5600 / 10 Steps): 100%|██████████| 2/2 [00:11<00:00,  5.86s/it]<?, ?it/s]\n",
      "Training (5600 / 18000 Steps) (loss=0.30234):  14%|█▍        | 1/7 [00:19<01:58, 19.82s/it]"
     ]
    },
    {
     "name": "stdout",
     "output_type": "stream",
     "text": [
      "Model Was Not Saved ! Current Best Avg. Dice: 0.5730060338973999 Current Avg. Dice: 0.5675093531608582 Current Avg. tumor Dice: 0.63379967212677 Current Avg. lymph Dice: 0.5012190341949463\n"
     ]
    },
    {
     "name": "stderr",
     "output_type": "stream",
     "text": [
      "Training (5606 / 18000 Steps) (loss=0.39622): 100%|██████████| 7/7 [00:28<00:00,  4.10s/it]\n",
      "Training (5613 / 18000 Steps) (loss=0.41728): 100%|██████████| 7/7 [00:16<00:00,  2.36s/it]\n",
      "Training (5620 / 18000 Steps) (loss=0.32540): 100%|██████████| 7/7 [00:16<00:00,  2.40s/it]\n",
      "Training (5627 / 18000 Steps) (loss=0.26432): 100%|██████████| 7/7 [00:15<00:00,  2.28s/it]\n",
      "Training (5634 / 18000 Steps) (loss=0.39945): 100%|██████████| 7/7 [00:16<00:00,  2.31s/it]\n",
      "Training (5641 / 18000 Steps) (loss=0.50824): 100%|██████████| 7/7 [00:17<00:00,  2.52s/it]\n",
      "Training (5648 / 18000 Steps) (loss=0.53529): 100%|██████████| 7/7 [00:15<00:00,  2.27s/it]\n",
      "Training (5655 / 18000 Steps) (loss=0.33803): 100%|██████████| 7/7 [00:16<00:00,  2.36s/it]\n",
      "Training (5662 / 18000 Steps) (loss=0.54507): 100%|██████████| 7/7 [00:17<00:00,  2.48s/it]\n",
      "Training (5669 / 18000 Steps) (loss=0.49440): 100%|██████████| 7/7 [00:15<00:00,  2.23s/it]\n",
      "Training (5676 / 18000 Steps) (loss=0.26095): 100%|██████████| 7/7 [00:16<00:00,  2.42s/it]\n",
      "Training (5683 / 18000 Steps) (loss=0.41404): 100%|██████████| 7/7 [00:17<00:00,  2.45s/it]\n",
      "Training (5690 / 18000 Steps) (loss=0.25186): 100%|██████████| 7/7 [00:16<00:00,  2.36s/it]\n",
      "Training (5697 / 18000 Steps) (loss=0.56881): 100%|██████████| 7/7 [00:15<00:00,  2.26s/it]\n",
      "Validate (5698 / 10 Steps): 100%|██████████| 2/2 [00:11<00:00,  5.93s/it]<00:20,  4.10s/it]\n",
      "Training (5700 / 18000 Steps) (loss=0.43635):  43%|████▎     | 3/7 [00:22<00:33,  8.44s/it]"
     ]
    },
    {
     "name": "stdout",
     "output_type": "stream",
     "text": [
      "Model Was Not Saved ! Current Best Avg. Dice: 0.5730060338973999 Current Avg. Dice: 0.538822591304779 Current Avg. tumor Dice: 0.6051576137542725 Current Avg. lymph Dice: 0.4724876284599304\n"
     ]
    },
    {
     "name": "stderr",
     "output_type": "stream",
     "text": [
      "Training (5704 / 18000 Steps) (loss=0.40889): 100%|██████████| 7/7 [00:28<00:00,  4.08s/it]\n",
      "Training (5711 / 18000 Steps) (loss=0.44208): 100%|██████████| 7/7 [00:16<00:00,  2.38s/it]\n",
      "Training (5718 / 18000 Steps) (loss=0.54252): 100%|██████████| 7/7 [00:17<00:00,  2.46s/it]\n",
      "Training (5725 / 18000 Steps) (loss=0.41886): 100%|██████████| 7/7 [00:16<00:00,  2.37s/it]\n",
      "Training (5732 / 18000 Steps) (loss=0.25817): 100%|██████████| 7/7 [00:16<00:00,  2.34s/it]\n",
      "Training (5739 / 18000 Steps) (loss=0.24749): 100%|██████████| 7/7 [00:17<00:00,  2.48s/it]\n",
      "Training (5746 / 18000 Steps) (loss=0.15358): 100%|██████████| 7/7 [00:18<00:00,  2.58s/it]\n",
      "Training (5753 / 18000 Steps) (loss=0.14129): 100%|██████████| 7/7 [00:17<00:00,  2.47s/it]\n",
      "Training (5760 / 18000 Steps) (loss=0.15576): 100%|██████████| 7/7 [00:17<00:00,  2.52s/it]\n",
      "Training (5767 / 18000 Steps) (loss=0.49656): 100%|██████████| 7/7 [00:16<00:00,  2.33s/it]\n",
      "Training (5774 / 18000 Steps) (loss=0.15508): 100%|██████████| 7/7 [00:16<00:00,  2.35s/it]\n",
      "Training (5781 / 18000 Steps) (loss=0.39052): 100%|██████████| 7/7 [00:16<00:00,  2.31s/it]\n",
      "Training (5788 / 18000 Steps) (loss=0.53388): 100%|██████████| 7/7 [00:17<00:00,  2.45s/it]\n",
      "Training (5795 / 18000 Steps) (loss=0.17879): 100%|██████████| 7/7 [00:17<00:00,  2.48s/it]\n",
      "Validate (5796 / 10 Steps): 100%|██████████| 2/2 [00:11<00:00,  5.94s/it]<00:07,  2.51s/it]\n",
      "Training (5800 / 18000 Steps) (loss=0.37275):  71%|███████▏  | 5/7 [00:27<00:13,  6.78s/it]"
     ]
    },
    {
     "name": "stdout",
     "output_type": "stream",
     "text": [
      "Model Was Saved ! Current Best Avg. Dice: 0.5813358426094055 Current Avg. Dice: 0.5813358426094055 Current Avg. tumor Dice: 0.6228591203689575 Current Avg. lymph Dice: 0.5398125648498535\n"
     ]
    },
    {
     "name": "stderr",
     "output_type": "stream",
     "text": [
      "Training (5802 / 18000 Steps) (loss=0.41107): 100%|██████████| 7/7 [00:30<00:00,  4.30s/it]\n",
      "Training (5809 / 18000 Steps) (loss=0.39858): 100%|██████████| 7/7 [00:17<00:00,  2.50s/it]\n",
      "Training (5816 / 18000 Steps) (loss=0.33744): 100%|██████████| 7/7 [00:17<00:00,  2.55s/it]\n",
      "Training (5823 / 18000 Steps) (loss=0.54468): 100%|██████████| 7/7 [00:17<00:00,  2.57s/it]\n",
      "Training (5830 / 18000 Steps) (loss=0.26710): 100%|██████████| 7/7 [00:17<00:00,  2.44s/it]\n",
      "Training (5837 / 18000 Steps) (loss=0.61034): 100%|██████████| 7/7 [00:16<00:00,  2.29s/it]\n",
      "Training (5844 / 18000 Steps) (loss=0.28262): 100%|██████████| 7/7 [00:16<00:00,  2.32s/it]\n",
      "Training (5851 / 18000 Steps) (loss=0.25717): 100%|██████████| 7/7 [00:16<00:00,  2.38s/it]\n",
      "Training (5858 / 18000 Steps) (loss=0.27692): 100%|██████████| 7/7 [00:16<00:00,  2.34s/it]\n",
      "Training (5865 / 18000 Steps) (loss=0.34081): 100%|██████████| 7/7 [00:16<00:00,  2.34s/it]\n",
      "Training (5872 / 18000 Steps) (loss=0.36514): 100%|██████████| 7/7 [00:15<00:00,  2.23s/it]\n",
      "Training (5879 / 18000 Steps) (loss=0.28374): 100%|██████████| 7/7 [00:16<00:00,  2.31s/it]\n",
      "Training (5886 / 18000 Steps) (loss=0.17090): 100%|██████████| 7/7 [00:17<00:00,  2.55s/it]\n",
      "Training (5893 / 18000 Steps) (loss=0.24753): 100%|██████████| 7/7 [00:17<00:00,  2.43s/it]\n",
      "Validate (5894 / 10 Steps): 100%|██████████| 2/2 [00:12<00:00,  6.01s/it]<00:01,  1.95s/it]\n",
      "Training (5900 / 18000 Steps) (loss=0.41706): 100%|██████████| 7/7 [00:28<00:00,  4.12s/it]\n"
     ]
    },
    {
     "name": "stdout",
     "output_type": "stream",
     "text": [
      "Model Was Not Saved ! Current Best Avg. Dice: 0.5813358426094055 Current Avg. Dice: 0.5664870142936707 Current Avg. tumor Dice: 0.6175086498260498 Current Avg. lymph Dice: 0.5154653787612915\n"
     ]
    },
    {
     "name": "stderr",
     "output_type": "stream",
     "text": [
      "Training (5907 / 18000 Steps) (loss=0.52515): 100%|██████████| 7/7 [00:15<00:00,  2.27s/it]\n",
      "Training (5914 / 18000 Steps) (loss=0.26342): 100%|██████████| 7/7 [00:16<00:00,  2.37s/it]\n",
      "Training (5921 / 18000 Steps) (loss=0.27217): 100%|██████████| 7/7 [00:15<00:00,  2.20s/it]\n",
      "Training (5928 / 18000 Steps) (loss=0.42128): 100%|██████████| 7/7 [00:16<00:00,  2.38s/it]\n",
      "Training (5935 / 18000 Steps) (loss=0.23659): 100%|██████████| 7/7 [00:15<00:00,  2.24s/it]\n",
      "Training (5942 / 18000 Steps) (loss=0.38909): 100%|██████████| 7/7 [00:17<00:00,  2.44s/it]\n",
      "Training (5949 / 18000 Steps) (loss=0.41752): 100%|██████████| 7/7 [00:16<00:00,  2.29s/it]\n",
      "Training (5956 / 18000 Steps) (loss=0.25890): 100%|██████████| 7/7 [00:17<00:00,  2.43s/it]\n",
      "Training (5963 / 18000 Steps) (loss=0.27674): 100%|██████████| 7/7 [00:16<00:00,  2.40s/it]\n",
      "Training (5970 / 18000 Steps) (loss=0.53684): 100%|██████████| 7/7 [00:15<00:00,  2.21s/it]\n",
      "Training (5977 / 18000 Steps) (loss=0.41178): 100%|██████████| 7/7 [00:17<00:00,  2.47s/it]\n",
      "Training (5984 / 18000 Steps) (loss=0.33294): 100%|██████████| 7/7 [00:17<00:00,  2.57s/it]\n",
      "Training (5991 / 18000 Steps) (loss=0.48083): 100%|██████████| 7/7 [00:16<00:00,  2.36s/it]\n",
      "Training (5998 / 18000 Steps) (loss=0.41520): 100%|██████████| 7/7 [00:17<00:00,  2.44s/it]\n",
      "Validate (5999 / 10 Steps): 100%|██████████| 2/2 [00:11<00:00,  5.87s/it]<00:41,  6.94s/it]\n",
      "Training (6000 / 18000 Steps) (loss=0.21868):  29%|██▊       | 2/7 [00:20<00:53, 10.76s/it]"
     ]
    },
    {
     "name": "stdout",
     "output_type": "stream",
     "text": [
      "Model Was Not Saved ! Current Best Avg. Dice: 0.5813358426094055 Current Avg. Dice: 0.5133293867111206 Current Avg. tumor Dice: 0.6017124652862549 Current Avg. lymph Dice: 0.42494624853134155\n"
     ]
    },
    {
     "name": "stderr",
     "output_type": "stream",
     "text": [
      "Training (6005 / 18000 Steps) (loss=0.39970): 100%|██████████| 7/7 [00:27<00:00,  3.95s/it]\n",
      "Training (6012 / 18000 Steps) (loss=0.42381): 100%|██████████| 7/7 [00:16<00:00,  2.36s/it]\n",
      "Training (6019 / 18000 Steps) (loss=0.28286): 100%|██████████| 7/7 [00:16<00:00,  2.38s/it]\n",
      "Training (6026 / 18000 Steps) (loss=0.40822): 100%|██████████| 7/7 [00:16<00:00,  2.34s/it]\n",
      "Training (6033 / 18000 Steps) (loss=0.66766): 100%|██████████| 7/7 [00:15<00:00,  2.25s/it]\n",
      "Training (6040 / 18000 Steps) (loss=0.40659): 100%|██████████| 7/7 [00:16<00:00,  2.36s/it]\n",
      "Training (6047 / 18000 Steps) (loss=0.54963): 100%|██████████| 7/7 [00:15<00:00,  2.23s/it]\n",
      "Training (6054 / 18000 Steps) (loss=0.25212): 100%|██████████| 7/7 [00:17<00:00,  2.49s/it]\n",
      "Training (6061 / 18000 Steps) (loss=0.40833): 100%|██████████| 7/7 [00:16<00:00,  2.33s/it]\n",
      "Training (6068 / 18000 Steps) (loss=0.40984): 100%|██████████| 7/7 [00:16<00:00,  2.39s/it]\n",
      "Training (6075 / 18000 Steps) (loss=0.40663): 100%|██████████| 7/7 [00:16<00:00,  2.37s/it]\n",
      "Training (6082 / 18000 Steps) (loss=0.31051): 100%|██████████| 7/7 [00:15<00:00,  2.28s/it]\n",
      "Training (6089 / 18000 Steps) (loss=0.32936): 100%|██████████| 7/7 [00:16<00:00,  2.31s/it]\n",
      "Training (6096 / 18000 Steps) (loss=0.47067): 100%|██████████| 7/7 [00:16<00:00,  2.33s/it]\n",
      "Validate (6097 / 10 Steps): 100%|██████████| 2/2 [00:11<00:00,  5.81s/it]<00:11,  2.82s/it]\n",
      "Training (6100 / 18000 Steps) (loss=0.40345):  57%|█████▋    | 4/7 [00:23<00:20,  6.96s/it]"
     ]
    },
    {
     "name": "stdout",
     "output_type": "stream",
     "text": [
      "Model Was Not Saved ! Current Best Avg. Dice: 0.5813358426094055 Current Avg. Dice: 0.5273707509040833 Current Avg. tumor Dice: 0.5524760484695435 Current Avg. lymph Dice: 0.5022653937339783\n"
     ]
    },
    {
     "name": "stderr",
     "output_type": "stream",
     "text": [
      "Training (6103 / 18000 Steps) (loss=0.50615): 100%|██████████| 7/7 [00:27<00:00,  3.95s/it]\n",
      "Training (6110 / 18000 Steps) (loss=0.41570): 100%|██████████| 7/7 [00:16<00:00,  2.36s/it]\n",
      "Training (6117 / 18000 Steps) (loss=0.30172): 100%|██████████| 7/7 [00:16<00:00,  2.35s/it]\n",
      "Training (6124 / 18000 Steps) (loss=0.41787): 100%|██████████| 7/7 [00:17<00:00,  2.43s/it]\n",
      "Training (6131 / 18000 Steps) (loss=0.60661): 100%|██████████| 7/7 [00:15<00:00,  2.28s/it]\n",
      "Training (6138 / 18000 Steps) (loss=0.14019): 100%|██████████| 7/7 [00:16<00:00,  2.34s/it]\n",
      "Training (6145 / 18000 Steps) (loss=0.52712): 100%|██████████| 7/7 [00:16<00:00,  2.43s/it]\n",
      "Training (6152 / 18000 Steps) (loss=0.14142): 100%|██████████| 7/7 [00:17<00:00,  2.50s/it]\n",
      "Training (6159 / 18000 Steps) (loss=0.16628): 100%|██████████| 7/7 [00:17<00:00,  2.48s/it]\n",
      "Training (6166 / 18000 Steps) (loss=0.38096): 100%|██████████| 7/7 [00:15<00:00,  2.22s/it]\n",
      "Training (6173 / 18000 Steps) (loss=0.25810): 100%|██████████| 7/7 [00:15<00:00,  2.27s/it]\n",
      "Training (6180 / 18000 Steps) (loss=0.27367): 100%|██████████| 7/7 [00:15<00:00,  2.26s/it]\n",
      "Training (6187 / 18000 Steps) (loss=0.25942): 100%|██████████| 7/7 [00:16<00:00,  2.37s/it]\n",
      "Training (6194 / 18000 Steps) (loss=0.30066): 100%|██████████| 7/7 [00:16<00:00,  2.38s/it]\n",
      "Validate (6195 / 10 Steps): 100%|██████████| 2/2 [00:11<00:00,  5.92s/it]<00:04,  2.09s/it]\n",
      "Training (6200 / 18000 Steps) (loss=0.40471):  86%|████████▌ | 6/7 [00:27<00:05,  5.98s/it]"
     ]
    },
    {
     "name": "stdout",
     "output_type": "stream",
     "text": [
      "Model Was Not Saved ! Current Best Avg. Dice: 0.5813358426094055 Current Avg. Dice: 0.4937460422515869 Current Avg. tumor Dice: 0.5219352841377258 Current Avg. lymph Dice: 0.4655567705631256\n"
     ]
    },
    {
     "name": "stderr",
     "output_type": "stream",
     "text": [
      "Training (6201 / 18000 Steps) (loss=0.42712): 100%|██████████| 7/7 [00:28<00:00,  4.00s/it]\n",
      "Training (6208 / 18000 Steps) (loss=0.53733): 100%|██████████| 7/7 [00:16<00:00,  2.37s/it]\n",
      "Training (6215 / 18000 Steps) (loss=0.38601): 100%|██████████| 7/7 [00:17<00:00,  2.43s/it]\n",
      "Training (6222 / 18000 Steps) (loss=0.25032): 100%|██████████| 7/7 [00:15<00:00,  2.18s/it]\n",
      "Training (6229 / 18000 Steps) (loss=0.27236): 100%|██████████| 7/7 [00:17<00:00,  2.50s/it]\n",
      "Training (6236 / 18000 Steps) (loss=0.35245): 100%|██████████| 7/7 [00:16<00:00,  2.37s/it]\n",
      "Training (6243 / 18000 Steps) (loss=0.38752): 100%|██████████| 7/7 [00:15<00:00,  2.18s/it]\n",
      "Training (6250 / 18000 Steps) (loss=0.28380): 100%|██████████| 7/7 [00:16<00:00,  2.35s/it]\n",
      "Training (6257 / 18000 Steps) (loss=0.40707): 100%|██████████| 7/7 [00:15<00:00,  2.24s/it]\n",
      "Training (6264 / 18000 Steps) (loss=0.13424): 100%|██████████| 7/7 [00:15<00:00,  2.22s/it]\n",
      "Training (6271 / 18000 Steps) (loss=0.22536): 100%|██████████| 7/7 [00:17<00:00,  2.47s/it]\n",
      "Training (6278 / 18000 Steps) (loss=0.40144): 100%|██████████| 7/7 [00:17<00:00,  2.44s/it]\n",
      "Training (6285 / 18000 Steps) (loss=0.59694): 100%|██████████| 7/7 [00:16<00:00,  2.29s/it]\n",
      "Training (6292 / 18000 Steps) (loss=0.31799): 100%|██████████| 7/7 [00:15<00:00,  2.26s/it]\n",
      "Training (6299 / 18000 Steps) (loss=0.24890): 100%|██████████| 7/7 [00:16<00:00,  2.30s/it]\n",
      "Validate (6300 / 10 Steps): 100%|██████████| 2/2 [00:11<00:00,  5.88s/it]<?, ?it/s]\n",
      "Training (6300 / 18000 Steps) (loss=0.40554):  14%|█▍        | 1/7 [00:20<02:01, 20.17s/it]"
     ]
    },
    {
     "name": "stdout",
     "output_type": "stream",
     "text": [
      "Model Was Not Saved ! Current Best Avg. Dice: 0.5813358426094055 Current Avg. Dice: 0.559756875038147 Current Avg. tumor Dice: 0.6079255938529968 Current Avg. lymph Dice: 0.5115880370140076\n"
     ]
    },
    {
     "name": "stderr",
     "output_type": "stream",
     "text": [
      "Training (6306 / 18000 Steps) (loss=0.30032): 100%|██████████| 7/7 [00:29<00:00,  4.15s/it]\n",
      "Training (6313 / 18000 Steps) (loss=0.50130): 100%|██████████| 7/7 [00:17<00:00,  2.43s/it]\n",
      "Training (6320 / 18000 Steps) (loss=0.25011): 100%|██████████| 7/7 [00:15<00:00,  2.28s/it]\n",
      "Training (6327 / 18000 Steps) (loss=0.54094): 100%|██████████| 7/7 [00:16<00:00,  2.31s/it]\n",
      "Training (6334 / 18000 Steps) (loss=0.47013): 100%|██████████| 7/7 [00:17<00:00,  2.49s/it]\n",
      "Training (6341 / 18000 Steps) (loss=0.39524): 100%|██████████| 7/7 [00:16<00:00,  2.29s/it]\n",
      "Training (6348 / 18000 Steps) (loss=0.39561): 100%|██████████| 7/7 [00:15<00:00,  2.25s/it]\n",
      "Training (6355 / 18000 Steps) (loss=0.15789): 100%|██████████| 7/7 [00:16<00:00,  2.41s/it]\n",
      "Training (6362 / 18000 Steps) (loss=0.41063): 100%|██████████| 7/7 [00:15<00:00,  2.21s/it]\n",
      "Training (6369 / 18000 Steps) (loss=0.26208): 100%|██████████| 7/7 [00:16<00:00,  2.31s/it]\n",
      "Training (6376 / 18000 Steps) (loss=0.25192): 100%|██████████| 7/7 [00:16<00:00,  2.35s/it]\n",
      "Training (6383 / 18000 Steps) (loss=0.30042): 100%|██████████| 7/7 [00:15<00:00,  2.24s/it]\n",
      "Training (6390 / 18000 Steps) (loss=0.47144): 100%|██████████| 7/7 [00:16<00:00,  2.34s/it]\n",
      "Training (6397 / 18000 Steps) (loss=0.51237): 100%|██████████| 7/7 [00:16<00:00,  2.30s/it]\n",
      "Validate (6398 / 10 Steps): 100%|██████████| 2/2 [00:11<00:00,  5.84s/it]<00:18,  3.77s/it]\n",
      "Training (6400 / 18000 Steps) (loss=0.51967):  43%|████▎     | 3/7 [00:21<00:32,  8.15s/it]"
     ]
    },
    {
     "name": "stdout",
     "output_type": "stream",
     "text": [
      "Model Was Not Saved ! Current Best Avg. Dice: 0.5813358426094055 Current Avg. Dice: 0.544623613357544 Current Avg. tumor Dice: 0.5832520127296448 Current Avg. lymph Dice: 0.5059950947761536\n"
     ]
    },
    {
     "name": "stderr",
     "output_type": "stream",
     "text": [
      "Training (6404 / 18000 Steps) (loss=0.25360): 100%|██████████| 7/7 [00:27<00:00,  3.93s/it]\n",
      "Training (6411 / 18000 Steps) (loss=0.40050): 100%|██████████| 7/7 [00:15<00:00,  2.19s/it]\n",
      "Training (6418 / 18000 Steps) (loss=0.43026): 100%|██████████| 7/7 [00:16<00:00,  2.42s/it]\n",
      "Training (6425 / 18000 Steps) (loss=0.25494): 100%|██████████| 7/7 [00:16<00:00,  2.39s/it]\n",
      "Training (6432 / 18000 Steps) (loss=0.27571): 100%|██████████| 7/7 [00:15<00:00,  2.21s/it]\n",
      "Training (6439 / 18000 Steps) (loss=0.46868): 100%|██████████| 7/7 [00:16<00:00,  2.32s/it]\n",
      "Training (6446 / 18000 Steps) (loss=0.41993): 100%|██████████| 7/7 [00:17<00:00,  2.45s/it]\n",
      "Training (6453 / 18000 Steps) (loss=0.11909): 100%|██████████| 7/7 [00:16<00:00,  2.34s/it]\n",
      "Training (6460 / 18000 Steps) (loss=0.53197): 100%|██████████| 7/7 [00:16<00:00,  2.35s/it]\n",
      "Training (6467 / 18000 Steps) (loss=0.40639): 100%|██████████| 7/7 [00:15<00:00,  2.19s/it]\n",
      "Training (6474 / 18000 Steps) (loss=0.37399): 100%|██████████| 7/7 [00:15<00:00,  2.23s/it]\n",
      "Training (6481 / 18000 Steps) (loss=0.33312): 100%|██████████| 7/7 [00:15<00:00,  2.21s/it]\n",
      "Training (6488 / 18000 Steps) (loss=0.23811): 100%|██████████| 7/7 [00:16<00:00,  2.29s/it]\n",
      "Training (6495 / 18000 Steps) (loss=0.46694): 100%|██████████| 7/7 [00:16<00:00,  2.30s/it]\n",
      "Validate (6496 / 10 Steps): 100%|██████████| 2/2 [00:11<00:00,  5.84s/it]<00:07,  2.44s/it]\n",
      "Training (6500 / 18000 Steps) (loss=0.29689):  71%|███████▏  | 5/7 [00:26<00:12,  6.38s/it]"
     ]
    },
    {
     "name": "stdout",
     "output_type": "stream",
     "text": [
      "Model Was Not Saved ! Current Best Avg. Dice: 0.5813358426094055 Current Avg. Dice: 0.5562304258346558 Current Avg. tumor Dice: 0.6354365944862366 Current Avg. lymph Dice: 0.47702422738075256\n"
     ]
    },
    {
     "name": "stderr",
     "output_type": "stream",
     "text": [
      "Training (6502 / 18000 Steps) (loss=0.38375): 100%|██████████| 7/7 [00:28<00:00,  4.07s/it]\n",
      "Training (6509 / 18000 Steps) (loss=0.30765): 100%|██████████| 7/7 [00:17<00:00,  2.46s/it]\n",
      "Training (6516 / 18000 Steps) (loss=0.18544): 100%|██████████| 7/7 [00:17<00:00,  2.45s/it]\n",
      "Training (6523 / 18000 Steps) (loss=0.38721): 100%|██████████| 7/7 [00:15<00:00,  2.22s/it]\n",
      "Training (6530 / 18000 Steps) (loss=0.38621): 100%|██████████| 7/7 [00:16<00:00,  2.31s/it]\n",
      "Training (6537 / 18000 Steps) (loss=0.53393): 100%|██████████| 7/7 [00:16<00:00,  2.34s/it]\n",
      "Training (6544 / 18000 Steps) (loss=0.47422): 100%|██████████| 7/7 [00:16<00:00,  2.41s/it]\n",
      "Training (6551 / 18000 Steps) (loss=0.53193): 100%|██████████| 7/7 [00:16<00:00,  2.43s/it]\n",
      "Training (6558 / 18000 Steps) (loss=0.39238): 100%|██████████| 7/7 [00:17<00:00,  2.46s/it]\n",
      "Training (6565 / 18000 Steps) (loss=0.49087): 100%|██████████| 7/7 [00:16<00:00,  2.40s/it]\n",
      "Training (6572 / 18000 Steps) (loss=0.46465): 100%|██████████| 7/7 [00:16<00:00,  2.29s/it]\n",
      "Training (6579 / 18000 Steps) (loss=0.34451): 100%|██████████| 7/7 [00:15<00:00,  2.25s/it]\n",
      "Training (6586 / 18000 Steps) (loss=0.53737): 100%|██████████| 7/7 [00:15<00:00,  2.25s/it]\n",
      "Training (6593 / 18000 Steps) (loss=0.61647): 100%|██████████| 7/7 [00:16<00:00,  2.42s/it]\n",
      "Validate (6594 / 10 Steps): 100%|██████████| 2/2 [00:11<00:00,  5.90s/it]<00:01,  1.87s/it]\n",
      "Training (6600 / 18000 Steps) (loss=0.41374): 100%|██████████| 7/7 [00:27<00:00,  3.88s/it]\n"
     ]
    },
    {
     "name": "stdout",
     "output_type": "stream",
     "text": [
      "Model Was Not Saved ! Current Best Avg. Dice: 0.5813358426094055 Current Avg. Dice: 0.5397228598594666 Current Avg. tumor Dice: 0.5887768268585205 Current Avg. lymph Dice: 0.4906688928604126\n"
     ]
    },
    {
     "name": "stderr",
     "output_type": "stream",
     "text": [
      "Training (6607 / 18000 Steps) (loss=0.34139): 100%|██████████| 7/7 [00:17<00:00,  2.51s/it]\n",
      "Training (6614 / 18000 Steps) (loss=0.52669): 100%|██████████| 7/7 [00:15<00:00,  2.21s/it]\n",
      "Training (6621 / 18000 Steps) (loss=0.26462): 100%|██████████| 7/7 [00:15<00:00,  2.25s/it]\n",
      "Training (6628 / 18000 Steps) (loss=0.37544): 100%|██████████| 7/7 [00:16<00:00,  2.36s/it]\n",
      "Training (6635 / 18000 Steps) (loss=0.34376): 100%|██████████| 7/7 [00:15<00:00,  2.24s/it]\n",
      "Training (6642 / 18000 Steps) (loss=0.38960): 100%|██████████| 7/7 [00:16<00:00,  2.34s/it]\n",
      "Training (6649 / 18000 Steps) (loss=0.32162): 100%|██████████| 7/7 [00:16<00:00,  2.37s/it]\n",
      "Training (6656 / 18000 Steps) (loss=0.16227): 100%|██████████| 7/7 [00:15<00:00,  2.26s/it]\n",
      "Training (6663 / 18000 Steps) (loss=0.19503): 100%|██████████| 7/7 [00:15<00:00,  2.25s/it]\n",
      "Training (6670 / 18000 Steps) (loss=0.25678): 100%|██████████| 7/7 [00:15<00:00,  2.24s/it]\n",
      "Training (6677 / 18000 Steps) (loss=0.61508): 100%|██████████| 7/7 [00:15<00:00,  2.18s/it]\n",
      "Training (6684 / 18000 Steps) (loss=0.54246): 100%|██████████| 7/7 [00:15<00:00,  2.19s/it]\n",
      "Training (6691 / 18000 Steps) (loss=0.47039): 100%|██████████| 7/7 [00:15<00:00,  2.21s/it]\n",
      "Training (6698 / 18000 Steps) (loss=0.40260): 100%|██████████| 7/7 [00:15<00:00,  2.18s/it]\n",
      "Validate (6699 / 10 Steps): 100%|██████████| 2/2 [00:11<00:00,  5.92s/it]<00:41,  6.85s/it]\n",
      "Training (6700 / 18000 Steps) (loss=0.24610):  29%|██▊       | 2/7 [00:20<00:53, 10.78s/it]"
     ]
    },
    {
     "name": "stdout",
     "output_type": "stream",
     "text": [
      "Model Was Not Saved ! Current Best Avg. Dice: 0.5813358426094055 Current Avg. Dice: 0.5198711156845093 Current Avg. tumor Dice: 0.5526933670043945 Current Avg. lymph Dice: 0.48704880475997925\n"
     ]
    },
    {
     "name": "stderr",
     "output_type": "stream",
     "text": [
      "Training (6705 / 18000 Steps) (loss=0.52787): 100%|██████████| 7/7 [00:27<00:00,  3.96s/it]\n",
      "Training (6712 / 18000 Steps) (loss=0.45641): 100%|██████████| 7/7 [00:16<00:00,  2.32s/it]\n",
      "Training (6719 / 18000 Steps) (loss=0.54759): 100%|██████████| 7/7 [00:17<00:00,  2.50s/it]\n",
      "Training (6726 / 18000 Steps) (loss=0.26583): 100%|██████████| 7/7 [00:17<00:00,  2.49s/it]\n",
      "Training (6733 / 18000 Steps) (loss=0.38940): 100%|██████████| 7/7 [00:16<00:00,  2.29s/it]\n",
      "Training (6740 / 18000 Steps) (loss=0.27614): 100%|██████████| 7/7 [00:16<00:00,  2.43s/it]\n",
      "Training (6747 / 18000 Steps) (loss=0.39631): 100%|██████████| 7/7 [00:16<00:00,  2.37s/it]\n",
      "Training (6754 / 18000 Steps) (loss=0.11955): 100%|██████████| 7/7 [00:17<00:00,  2.46s/it]\n",
      "Training (6761 / 18000 Steps) (loss=0.29661): 100%|██████████| 7/7 [00:16<00:00,  2.29s/it]\n",
      "Training (6768 / 18000 Steps) (loss=0.53545): 100%|██████████| 7/7 [00:16<00:00,  2.39s/it]\n",
      "Training (6775 / 18000 Steps) (loss=0.25625): 100%|██████████| 7/7 [00:15<00:00,  2.24s/it]\n",
      "Training (6782 / 18000 Steps) (loss=0.27654): 100%|██████████| 7/7 [00:16<00:00,  2.33s/it]\n",
      "Training (6789 / 18000 Steps) (loss=0.50927): 100%|██████████| 7/7 [00:16<00:00,  2.32s/it]\n",
      "Training (6796 / 18000 Steps) (loss=0.21167): 100%|██████████| 7/7 [00:15<00:00,  2.20s/it]\n",
      "Validate (6797 / 10 Steps): 100%|██████████| 2/2 [00:11<00:00,  5.83s/it]<00:11,  2.98s/it]\n",
      "Training (6800 / 18000 Steps) (loss=0.33864):  57%|█████▋    | 4/7 [00:24<00:21,  7.09s/it]"
     ]
    },
    {
     "name": "stdout",
     "output_type": "stream",
     "text": [
      "Model Was Not Saved ! Current Best Avg. Dice: 0.5813358426094055 Current Avg. Dice: 0.5360969305038452 Current Avg. tumor Dice: 0.5832208395004272 Current Avg. lymph Dice: 0.4889729619026184\n"
     ]
    },
    {
     "name": "stderr",
     "output_type": "stream",
     "text": [
      "Training (6803 / 18000 Steps) (loss=0.27346): 100%|██████████| 7/7 [00:28<00:00,  4.07s/it]\n",
      "Training (6810 / 18000 Steps) (loss=0.28672): 100%|██████████| 7/7 [00:15<00:00,  2.28s/it]\n",
      "Training (6817 / 18000 Steps) (loss=0.25058): 100%|██████████| 7/7 [00:15<00:00,  2.23s/it]\n",
      "Training (6824 / 18000 Steps) (loss=0.36162): 100%|██████████| 7/7 [00:15<00:00,  2.27s/it]\n",
      "Training (6831 / 18000 Steps) (loss=0.40114): 100%|██████████| 7/7 [00:17<00:00,  2.45s/it]\n",
      "Training (6838 / 18000 Steps) (loss=0.52909): 100%|██████████| 7/7 [00:16<00:00,  2.37s/it]\n",
      "Training (6845 / 18000 Steps) (loss=0.34026): 100%|██████████| 7/7 [00:17<00:00,  2.46s/it]\n",
      "Training (6852 / 18000 Steps) (loss=0.39538): 100%|██████████| 7/7 [00:16<00:00,  2.37s/it]\n",
      "Training (6859 / 18000 Steps) (loss=0.42227): 100%|██████████| 7/7 [00:16<00:00,  2.32s/it]\n",
      "Training (6866 / 18000 Steps) (loss=0.25843): 100%|██████████| 7/7 [00:15<00:00,  2.25s/it]\n",
      "Training (6873 / 18000 Steps) (loss=0.19180): 100%|██████████| 7/7 [00:16<00:00,  2.41s/it]\n",
      "Training (6880 / 18000 Steps) (loss=0.59982): 100%|██████████| 7/7 [00:16<00:00,  2.31s/it]\n",
      "Training (6887 / 18000 Steps) (loss=0.16644): 100%|██████████| 7/7 [00:15<00:00,  2.27s/it]\n",
      "Training (6894 / 18000 Steps) (loss=0.41124): 100%|██████████| 7/7 [00:16<00:00,  2.36s/it]\n",
      "Validate (6895 / 10 Steps): 100%|██████████| 2/2 [00:11<00:00,  5.90s/it]<00:04,  2.04s/it]\n",
      "Training (6900 / 18000 Steps) (loss=0.33957):  86%|████████▌ | 6/7 [00:26<00:05,  5.93s/it]"
     ]
    },
    {
     "name": "stdout",
     "output_type": "stream",
     "text": [
      "Model Was Not Saved ! Current Best Avg. Dice: 0.5813358426094055 Current Avg. Dice: 0.5351101160049438 Current Avg. tumor Dice: 0.5929370522499084 Current Avg. lymph Dice: 0.477283239364624\n"
     ]
    },
    {
     "name": "stderr",
     "output_type": "stream",
     "text": [
      "Training (6901 / 18000 Steps) (loss=0.32105): 100%|██████████| 7/7 [00:27<00:00,  3.93s/it]\n",
      "Training (6908 / 18000 Steps) (loss=0.31727): 100%|██████████| 7/7 [00:15<00:00,  2.23s/it]\n",
      "Training (6915 / 18000 Steps) (loss=0.40303): 100%|██████████| 7/7 [00:15<00:00,  2.24s/it]\n",
      "Training (6922 / 18000 Steps) (loss=0.38557): 100%|██████████| 7/7 [00:15<00:00,  2.24s/it]\n",
      "Training (6929 / 18000 Steps) (loss=0.42611): 100%|██████████| 7/7 [00:16<00:00,  2.31s/it]\n",
      "Training (6936 / 18000 Steps) (loss=0.40092): 100%|██████████| 7/7 [00:17<00:00,  2.45s/it]\n",
      "Training (6943 / 18000 Steps) (loss=0.13054): 100%|██████████| 7/7 [00:15<00:00,  2.16s/it]\n",
      "Training (6950 / 18000 Steps) (loss=0.32934): 100%|██████████| 7/7 [00:16<00:00,  2.32s/it]\n",
      "Training (6957 / 18000 Steps) (loss=0.50646): 100%|██████████| 7/7 [00:15<00:00,  2.23s/it]\n",
      "Training (6964 / 18000 Steps) (loss=0.25013): 100%|██████████| 7/7 [00:17<00:00,  2.44s/it]\n",
      "Training (6971 / 18000 Steps) (loss=0.14937): 100%|██████████| 7/7 [00:16<00:00,  2.38s/it]\n",
      "Training (6978 / 18000 Steps) (loss=0.54159): 100%|██████████| 7/7 [00:15<00:00,  2.26s/it]\n",
      "Training (6985 / 18000 Steps) (loss=0.29626): 100%|██████████| 7/7 [00:16<00:00,  2.37s/it]\n",
      "Training (6992 / 18000 Steps) (loss=0.38679): 100%|██████████| 7/7 [00:15<00:00,  2.19s/it]\n",
      "Training (6999 / 18000 Steps) (loss=0.16438): 100%|██████████| 7/7 [00:15<00:00,  2.27s/it]\n",
      "Validate (7000 / 10 Steps): 100%|██████████| 2/2 [00:11<00:00,  5.88s/it]<?, ?it/s]\n",
      "Training (7000 / 18000 Steps) (loss=0.29986):  14%|█▍        | 1/7 [00:20<02:03, 20.57s/it]"
     ]
    },
    {
     "name": "stdout",
     "output_type": "stream",
     "text": [
      "Model Was Saved ! Current Best Avg. Dice: 0.5890686511993408 Current Avg. Dice: 0.5890686511993408 Current Avg. tumor Dice: 0.6234237551689148 Current Avg. lymph Dice: 0.5547134876251221\n"
     ]
    },
    {
     "name": "stderr",
     "output_type": "stream",
     "text": [
      "Training (7006 / 18000 Steps) (loss=0.39046): 100%|██████████| 7/7 [00:29<00:00,  4.21s/it]\n",
      "Training (7013 / 18000 Steps) (loss=0.12728): 100%|██████████| 7/7 [00:16<00:00,  2.33s/it]\n",
      "Training (7020 / 18000 Steps) (loss=0.59928): 100%|██████████| 7/7 [00:17<00:00,  2.55s/it]\n",
      "Training (7027 / 18000 Steps) (loss=0.27048): 100%|██████████| 7/7 [00:16<00:00,  2.38s/it]\n",
      "Training (7034 / 18000 Steps) (loss=0.26806): 100%|██████████| 7/7 [00:16<00:00,  2.34s/it]\n",
      "Training (7041 / 18000 Steps) (loss=0.48581): 100%|██████████| 7/7 [00:16<00:00,  2.36s/it]\n",
      "Training (7048 / 18000 Steps) (loss=0.40232): 100%|██████████| 7/7 [00:16<00:00,  2.30s/it]\n",
      "Training (7055 / 18000 Steps) (loss=0.13255): 100%|██████████| 7/7 [00:16<00:00,  2.42s/it]\n",
      "Training (7062 / 18000 Steps) (loss=0.25274): 100%|██████████| 7/7 [00:15<00:00,  2.25s/it]\n",
      "Training (7069 / 18000 Steps) (loss=0.53498): 100%|██████████| 7/7 [00:17<00:00,  2.45s/it]\n",
      "Training (7076 / 18000 Steps) (loss=0.18162): 100%|██████████| 7/7 [00:16<00:00,  2.39s/it]\n",
      "Training (7083 / 18000 Steps) (loss=0.35552): 100%|██████████| 7/7 [00:15<00:00,  2.28s/it]\n",
      "Training (7090 / 18000 Steps) (loss=0.38945): 100%|██████████| 7/7 [00:16<00:00,  2.37s/it]\n",
      "Training (7097 / 18000 Steps) (loss=0.54219): 100%|██████████| 7/7 [00:17<00:00,  2.49s/it]\n",
      "Validate (7098 / 10 Steps): 100%|██████████| 2/2 [00:11<00:00,  5.91s/it]<00:20,  4.02s/it]\n",
      "Training (7100 / 18000 Steps) (loss=0.28435):  43%|████▎     | 3/7 [00:22<00:33,  8.36s/it]"
     ]
    },
    {
     "name": "stdout",
     "output_type": "stream",
     "text": [
      "Model Was Not Saved ! Current Best Avg. Dice: 0.5890686511993408 Current Avg. Dice: 0.5145986080169678 Current Avg. tumor Dice: 0.583844780921936 Current Avg. lymph Dice: 0.44535237550735474\n"
     ]
    },
    {
     "name": "stderr",
     "output_type": "stream",
     "text": [
      "Training (7104 / 18000 Steps) (loss=0.14816): 100%|██████████| 7/7 [00:28<00:00,  4.04s/it]\n",
      "Training (7111 / 18000 Steps) (loss=0.13787): 100%|██████████| 7/7 [00:16<00:00,  2.29s/it]\n",
      "Training (7118 / 18000 Steps) (loss=0.45528): 100%|██████████| 7/7 [00:15<00:00,  2.20s/it]\n",
      "Training (7125 / 18000 Steps) (loss=0.34305): 100%|██████████| 7/7 [00:15<00:00,  2.28s/it]\n",
      "Training (7132 / 18000 Steps) (loss=0.53017): 100%|██████████| 7/7 [00:15<00:00,  2.23s/it]\n",
      "Training (7139 / 18000 Steps) (loss=0.62736): 100%|██████████| 7/7 [00:17<00:00,  2.53s/it]\n",
      "Training (7146 / 18000 Steps) (loss=0.31637): 100%|██████████| 7/7 [00:17<00:00,  2.43s/it]\n",
      "Training (7153 / 18000 Steps) (loss=0.41285): 100%|██████████| 7/7 [00:15<00:00,  2.26s/it]\n",
      "Training (7160 / 18000 Steps) (loss=0.17907): 100%|██████████| 7/7 [00:17<00:00,  2.43s/it]\n",
      "Training (7167 / 18000 Steps) (loss=0.46057): 100%|██████████| 7/7 [00:15<00:00,  2.20s/it]\n",
      "Training (7174 / 18000 Steps) (loss=0.30640): 100%|██████████| 7/7 [00:15<00:00,  2.25s/it]\n",
      "Training (7181 / 18000 Steps) (loss=0.33094): 100%|██████████| 7/7 [00:17<00:00,  2.51s/it]\n",
      "Training (7188 / 18000 Steps) (loss=0.39297): 100%|██████████| 7/7 [00:17<00:00,  2.50s/it]\n",
      "Training (7195 / 18000 Steps) (loss=0.39891): 100%|██████████| 7/7 [00:18<00:00,  2.64s/it]\n",
      "Validate (7196 / 10 Steps): 100%|██████████| 2/2 [00:12<00:00,  6.07s/it]<00:07,  2.33s/it]\n",
      "Training (7200 / 18000 Steps) (loss=0.27850):  71%|███████▏  | 5/7 [00:25<00:12,  6.48s/it]"
     ]
    },
    {
     "name": "stdout",
     "output_type": "stream",
     "text": [
      "Model Was Not Saved ! Current Best Avg. Dice: 0.5890686511993408 Current Avg. Dice: 0.4908043444156647 Current Avg. tumor Dice: 0.49756449460983276 Current Avg. lymph Dice: 0.4840441942214966\n"
     ]
    },
    {
     "name": "stderr",
     "output_type": "stream",
     "text": [
      "Training (7202 / 18000 Steps) (loss=0.49207): 100%|██████████| 7/7 [00:28<00:00,  4.02s/it]\n",
      "Training (7209 / 18000 Steps) (loss=0.13410): 100%|██████████| 7/7 [00:16<00:00,  2.42s/it]\n",
      "Training (7216 / 18000 Steps) (loss=0.53199): 100%|██████████| 7/7 [00:16<00:00,  2.30s/it]\n",
      "Training (7223 / 18000 Steps) (loss=0.30478): 100%|██████████| 7/7 [00:16<00:00,  2.32s/it]\n",
      "Training (7230 / 18000 Steps) (loss=0.30902): 100%|██████████| 7/7 [00:16<00:00,  2.33s/it]\n",
      "Training (7237 / 18000 Steps) (loss=0.40176): 100%|██████████| 7/7 [00:17<00:00,  2.50s/it]\n",
      "Training (7244 / 18000 Steps) (loss=0.59769): 100%|██████████| 7/7 [00:15<00:00,  2.19s/it]\n",
      "Training (7251 / 18000 Steps) (loss=0.25498): 100%|██████████| 7/7 [00:15<00:00,  2.28s/it]\n",
      "Training (7258 / 18000 Steps) (loss=0.34071): 100%|██████████| 7/7 [00:16<00:00,  2.34s/it]\n",
      "Training (7265 / 18000 Steps) (loss=0.25414): 100%|██████████| 7/7 [00:16<00:00,  2.40s/it]\n",
      "Training (7272 / 18000 Steps) (loss=0.41971): 100%|██████████| 7/7 [00:15<00:00,  2.22s/it]\n",
      "Training (7279 / 18000 Steps) (loss=0.33938): 100%|██████████| 7/7 [00:15<00:00,  2.24s/it]\n",
      "Training (7286 / 18000 Steps) (loss=0.41361): 100%|██████████| 7/7 [00:15<00:00,  2.24s/it]\n",
      "Training (7293 / 18000 Steps) (loss=0.30567): 100%|██████████| 7/7 [00:16<00:00,  2.32s/it]\n",
      "Validate (7294 / 10 Steps): 100%|██████████| 2/2 [00:12<00:00,  6.14s/it]<00:01,  1.93s/it]\n",
      "Training (7300 / 18000 Steps) (loss=0.22191): 100%|██████████| 7/7 [00:28<00:00,  4.09s/it]\n"
     ]
    },
    {
     "name": "stdout",
     "output_type": "stream",
     "text": [
      "Model Was Not Saved ! Current Best Avg. Dice: 0.5890686511993408 Current Avg. Dice: 0.5318622589111328 Current Avg. tumor Dice: 0.6060429215431213 Current Avg. lymph Dice: 0.4576815962791443\n"
     ]
    },
    {
     "name": "stderr",
     "output_type": "stream",
     "text": [
      "Training (7307 / 18000 Steps) (loss=0.46017): 100%|██████████| 7/7 [00:16<00:00,  2.39s/it]\n",
      "Training (7314 / 18000 Steps) (loss=0.39512): 100%|██████████| 7/7 [00:16<00:00,  2.29s/it]\n",
      "Training (7321 / 18000 Steps) (loss=0.39451): 100%|██████████| 7/7 [00:15<00:00,  2.18s/it]\n",
      "Training (7328 / 18000 Steps) (loss=0.28978): 100%|██████████| 7/7 [00:16<00:00,  2.40s/it]\n",
      "Training (7335 / 18000 Steps) (loss=0.42825): 100%|██████████| 7/7 [00:15<00:00,  2.20s/it]\n",
      "Training (7342 / 18000 Steps) (loss=0.45594): 100%|██████████| 7/7 [00:15<00:00,  2.26s/it]\n",
      "Training (7349 / 18000 Steps) (loss=0.38361): 100%|██████████| 7/7 [00:16<00:00,  2.40s/it]\n",
      "Training (7356 / 18000 Steps) (loss=0.25129): 100%|██████████| 7/7 [00:15<00:00,  2.22s/it]\n",
      "Training (7363 / 18000 Steps) (loss=0.19900): 100%|██████████| 7/7 [00:16<00:00,  2.40s/it]\n",
      "Training (7370 / 18000 Steps) (loss=0.15749): 100%|██████████| 7/7 [00:17<00:00,  2.52s/it]\n",
      "Training (7377 / 18000 Steps) (loss=0.50119): 100%|██████████| 7/7 [00:15<00:00,  2.25s/it]\n",
      "Training (7384 / 18000 Steps) (loss=0.15250): 100%|██████████| 7/7 [00:17<00:00,  2.53s/it]\n",
      "Training (7391 / 18000 Steps) (loss=0.60076): 100%|██████████| 7/7 [00:17<00:00,  2.47s/it]\n",
      "Training (7398 / 18000 Steps) (loss=0.37234): 100%|██████████| 7/7 [00:17<00:00,  2.46s/it]\n",
      "Validate (7399 / 10 Steps): 100%|██████████| 2/2 [00:11<00:00,  5.91s/it]<00:47,  7.84s/it]\n",
      "Training (7400 / 18000 Steps) (loss=0.30538):  29%|██▊       | 2/7 [00:21<00:55, 11.17s/it]"
     ]
    },
    {
     "name": "stdout",
     "output_type": "stream",
     "text": [
      "Model Was Not Saved ! Current Best Avg. Dice: 0.5890686511993408 Current Avg. Dice: 0.5429432392120361 Current Avg. tumor Dice: 0.5748984217643738 Current Avg. lymph Dice: 0.5109881162643433\n"
     ]
    },
    {
     "name": "stderr",
     "output_type": "stream",
     "text": [
      "Training (7405 / 18000 Steps) (loss=0.36807): 100%|██████████| 7/7 [00:28<00:00,  4.09s/it]\n",
      "Training (7412 / 18000 Steps) (loss=0.31955): 100%|██████████| 7/7 [00:15<00:00,  2.25s/it]\n",
      "Training (7419 / 18000 Steps) (loss=0.25242): 100%|██████████| 7/7 [00:15<00:00,  2.23s/it]\n",
      "Training (7426 / 18000 Steps) (loss=0.30219): 100%|██████████| 7/7 [00:15<00:00,  2.28s/it]\n",
      "Training (7433 / 18000 Steps) (loss=0.34198): 100%|██████████| 7/7 [00:17<00:00,  2.49s/it]\n",
      "Training (7440 / 18000 Steps) (loss=0.33262): 100%|██████████| 7/7 [00:15<00:00,  2.22s/it]\n",
      "Training (7447 / 18000 Steps) (loss=0.15151): 100%|██████████| 7/7 [00:17<00:00,  2.46s/it]\n",
      "Training (7454 / 18000 Steps) (loss=0.62583): 100%|██████████| 7/7 [00:15<00:00,  2.22s/it]\n",
      "Training (7461 / 18000 Steps) (loss=0.42113): 100%|██████████| 7/7 [00:16<00:00,  2.31s/it]\n",
      "Training (7468 / 18000 Steps) (loss=0.38216): 100%|██████████| 7/7 [00:15<00:00,  2.26s/it]\n",
      "Training (7475 / 18000 Steps) (loss=0.39988): 100%|██████████| 7/7 [00:16<00:00,  2.33s/it]\n",
      "Training (7482 / 18000 Steps) (loss=0.53215): 100%|██████████| 7/7 [00:15<00:00,  2.22s/it]\n",
      "Training (7489 / 18000 Steps) (loss=0.41821): 100%|██████████| 7/7 [00:15<00:00,  2.22s/it]\n",
      "Training (7496 / 18000 Steps) (loss=0.38380): 100%|██████████| 7/7 [00:17<00:00,  2.45s/it]\n",
      "Validate (7497 / 10 Steps): 100%|██████████| 2/2 [00:11<00:00,  5.81s/it]<00:12,  3.15s/it]\n",
      "Training (7500 / 18000 Steps) (loss=0.47287):  57%|█████▋    | 4/7 [00:25<00:21,  7.16s/it]"
     ]
    },
    {
     "name": "stdout",
     "output_type": "stream",
     "text": [
      "Model Was Not Saved ! Current Best Avg. Dice: 0.5890686511993408 Current Avg. Dice: 0.5683221817016602 Current Avg. tumor Dice: 0.6003888845443726 Current Avg. lymph Dice: 0.5362555980682373\n"
     ]
    },
    {
     "name": "stderr",
     "output_type": "stream",
     "text": [
      "Training (7503 / 18000 Steps) (loss=0.32675): 100%|██████████| 7/7 [00:29<00:00,  4.16s/it]\n",
      "Training (7510 / 18000 Steps) (loss=0.55277): 100%|██████████| 7/7 [00:15<00:00,  2.27s/it]\n",
      "Training (7517 / 18000 Steps) (loss=0.54784): 100%|██████████| 7/7 [00:16<00:00,  2.34s/it]\n",
      "Training (7524 / 18000 Steps) (loss=0.13805): 100%|██████████| 7/7 [00:17<00:00,  2.43s/it]\n",
      "Training (7531 / 18000 Steps) (loss=0.12775): 100%|██████████| 7/7 [00:16<00:00,  2.34s/it]\n",
      "Training (7538 / 18000 Steps) (loss=0.35122): 100%|██████████| 7/7 [00:16<00:00,  2.39s/it]\n",
      "Training (7545 / 18000 Steps) (loss=0.37657): 100%|██████████| 7/7 [00:16<00:00,  2.35s/it]\n",
      "Training (7552 / 18000 Steps) (loss=0.66851): 100%|██████████| 7/7 [00:16<00:00,  2.35s/it]\n",
      "Training (7559 / 18000 Steps) (loss=0.11093): 100%|██████████| 7/7 [00:17<00:00,  2.47s/it]\n",
      "Training (7566 / 18000 Steps) (loss=0.10984): 100%|██████████| 7/7 [00:17<00:00,  2.51s/it]\n",
      "Training (7573 / 18000 Steps) (loss=0.26992): 100%|██████████| 7/7 [00:17<00:00,  2.51s/it]\n",
      "Training (7580 / 18000 Steps) (loss=0.26720): 100%|██████████| 7/7 [00:17<00:00,  2.43s/it]\n",
      "Training (7587 / 18000 Steps) (loss=0.29914): 100%|██████████| 7/7 [00:15<00:00,  2.21s/it]\n",
      "Training (7594 / 18000 Steps) (loss=0.53829): 100%|██████████| 7/7 [00:16<00:00,  2.34s/it]\n",
      "Validate (7595 / 10 Steps): 100%|██████████| 2/2 [00:11<00:00,  5.96s/it]<00:04,  2.04s/it]\n",
      "Training (7600 / 18000 Steps) (loss=0.38401):  86%|████████▌ | 6/7 [00:26<00:05,  5.97s/it]"
     ]
    },
    {
     "name": "stdout",
     "output_type": "stream",
     "text": [
      "Model Was Not Saved ! Current Best Avg. Dice: 0.5890686511993408 Current Avg. Dice: 0.5642340183258057 Current Avg. tumor Dice: 0.6261452436447144 Current Avg. lymph Dice: 0.502322793006897\n"
     ]
    },
    {
     "name": "stderr",
     "output_type": "stream",
     "text": [
      "Training (7601 / 18000 Steps) (loss=0.32216): 100%|██████████| 7/7 [00:27<00:00,  3.94s/it]\n",
      "Training (7608 / 18000 Steps) (loss=0.42573): 100%|██████████| 7/7 [00:16<00:00,  2.30s/it]\n",
      "Training (7615 / 18000 Steps) (loss=0.26158): 100%|██████████| 7/7 [00:17<00:00,  2.43s/it]\n",
      "Training (7622 / 18000 Steps) (loss=0.09781): 100%|██████████| 7/7 [00:16<00:00,  2.34s/it]\n",
      "Training (7629 / 18000 Steps) (loss=0.26083): 100%|██████████| 7/7 [00:17<00:00,  2.51s/it]\n",
      "Training (7636 / 18000 Steps) (loss=0.53611): 100%|██████████| 7/7 [00:16<00:00,  2.35s/it]\n",
      "Training (7643 / 18000 Steps) (loss=0.59340): 100%|██████████| 7/7 [00:17<00:00,  2.46s/it]\n",
      "Training (7650 / 18000 Steps) (loss=0.26403): 100%|██████████| 7/7 [00:16<00:00,  2.32s/it]\n",
      "Training (7657 / 18000 Steps) (loss=0.20498): 100%|██████████| 7/7 [00:15<00:00,  2.18s/it]\n",
      "Training (7664 / 18000 Steps) (loss=0.16642): 100%|██████████| 7/7 [00:15<00:00,  2.22s/it]\n",
      "Training (7671 / 18000 Steps) (loss=0.40679): 100%|██████████| 7/7 [00:16<00:00,  2.33s/it]\n",
      "Training (7678 / 18000 Steps) (loss=0.32048): 100%|██████████| 7/7 [00:15<00:00,  2.21s/it]\n",
      "Training (7685 / 18000 Steps) (loss=0.40032): 100%|██████████| 7/7 [00:16<00:00,  2.37s/it]\n",
      "Training (7692 / 18000 Steps) (loss=0.41068): 100%|██████████| 7/7 [00:16<00:00,  2.35s/it]\n",
      "Training (7699 / 18000 Steps) (loss=0.28165): 100%|██████████| 7/7 [00:16<00:00,  2.29s/it]\n",
      "Validate (7700 / 10 Steps): 100%|██████████| 2/2 [00:11<00:00,  5.92s/it]<?, ?it/s]\n",
      "Training (7700 / 18000 Steps) (loss=0.25616):  14%|█▍        | 1/7 [00:18<01:53, 18.90s/it]"
     ]
    },
    {
     "name": "stdout",
     "output_type": "stream",
     "text": [
      "Model Was Not Saved ! Current Best Avg. Dice: 0.5890686511993408 Current Avg. Dice: 0.5040503740310669 Current Avg. tumor Dice: 0.49704569578170776 Current Avg. lymph Dice: 0.5110551714897156\n"
     ]
    },
    {
     "name": "stderr",
     "output_type": "stream",
     "text": [
      "Training (7706 / 18000 Steps) (loss=0.25390): 100%|██████████| 7/7 [00:27<00:00,  3.97s/it]\n",
      "Training (7713 / 18000 Steps) (loss=0.40427): 100%|██████████| 7/7 [00:17<00:00,  2.54s/it]\n",
      "Training (7720 / 18000 Steps) (loss=0.52152): 100%|██████████| 7/7 [00:16<00:00,  2.30s/it]\n",
      "Training (7727 / 18000 Steps) (loss=0.26971): 100%|██████████| 7/7 [00:16<00:00,  2.40s/it]\n",
      "Training (7734 / 18000 Steps) (loss=0.24765): 100%|██████████| 7/7 [00:15<00:00,  2.28s/it]\n",
      "Training (7741 / 18000 Steps) (loss=0.36309): 100%|██████████| 7/7 [00:16<00:00,  2.33s/it]\n",
      "Training (7748 / 18000 Steps) (loss=0.11462): 100%|██████████| 7/7 [00:15<00:00,  2.27s/it]\n",
      "Training (7755 / 18000 Steps) (loss=0.44871): 100%|██████████| 7/7 [00:16<00:00,  2.42s/it]\n",
      "Training (7762 / 18000 Steps) (loss=0.66957): 100%|██████████| 7/7 [00:16<00:00,  2.32s/it]\n",
      "Training (7769 / 18000 Steps) (loss=0.33298): 100%|██████████| 7/7 [00:15<00:00,  2.20s/it]\n",
      "Training (7776 / 18000 Steps) (loss=0.39994): 100%|██████████| 7/7 [00:17<00:00,  2.43s/it]\n",
      "Training (7783 / 18000 Steps) (loss=0.40016): 100%|██████████| 7/7 [00:16<00:00,  2.34s/it]\n",
      "Training (7790 / 18000 Steps) (loss=0.39690): 100%|██████████| 7/7 [00:15<00:00,  2.21s/it]\n",
      "Training (7797 / 18000 Steps) (loss=0.48718): 100%|██████████| 7/7 [00:16<00:00,  2.38s/it]\n",
      "Validate (7798 / 10 Steps): 100%|██████████| 2/2 [00:11<00:00,  5.84s/it]<00:18,  3.61s/it]\n",
      "Training (7800 / 18000 Steps) (loss=0.25504):  43%|████▎     | 3/7 [00:21<00:32,  8.07s/it]"
     ]
    },
    {
     "name": "stdout",
     "output_type": "stream",
     "text": [
      "Model Was Not Saved ! Current Best Avg. Dice: 0.5890686511993408 Current Avg. Dice: 0.566543698310852 Current Avg. tumor Dice: 0.6117618680000305 Current Avg. lymph Dice: 0.5213256478309631\n"
     ]
    },
    {
     "name": "stderr",
     "output_type": "stream",
     "text": [
      "Training (7804 / 18000 Steps) (loss=0.32998): 100%|██████████| 7/7 [00:27<00:00,  3.88s/it]\n",
      "Training (7811 / 18000 Steps) (loss=0.34572): 100%|██████████| 7/7 [00:16<00:00,  2.29s/it]\n",
      "Training (7818 / 18000 Steps) (loss=0.39631): 100%|██████████| 7/7 [00:16<00:00,  2.31s/it]\n",
      "Training (7825 / 18000 Steps) (loss=0.24231): 100%|██████████| 7/7 [00:17<00:00,  2.47s/it]\n",
      "Training (7832 / 18000 Steps) (loss=0.16695): 100%|██████████| 7/7 [00:15<00:00,  2.24s/it]\n",
      "Training (7839 / 18000 Steps) (loss=0.40338): 100%|██████████| 7/7 [00:16<00:00,  2.31s/it]\n",
      "Training (7846 / 18000 Steps) (loss=0.40869): 100%|██████████| 7/7 [00:17<00:00,  2.51s/it]\n",
      "Training (7853 / 18000 Steps) (loss=0.29343): 100%|██████████| 7/7 [00:16<00:00,  2.37s/it]\n",
      "Training (7860 / 18000 Steps) (loss=0.25928): 100%|██████████| 7/7 [00:15<00:00,  2.24s/it]\n",
      "Training (7867 / 18000 Steps) (loss=0.33772): 100%|██████████| 7/7 [00:16<00:00,  2.32s/it]\n",
      "Training (7874 / 18000 Steps) (loss=0.39031): 100%|██████████| 7/7 [00:15<00:00,  2.22s/it]\n",
      "Training (7881 / 18000 Steps) (loss=0.22964): 100%|██████████| 7/7 [00:16<00:00,  2.34s/it]\n",
      "Training (7888 / 18000 Steps) (loss=0.29396): 100%|██████████| 7/7 [00:15<00:00,  2.28s/it]\n",
      "Training (7895 / 18000 Steps) (loss=0.39438): 100%|██████████| 7/7 [00:15<00:00,  2.29s/it]\n",
      "Validate (7896 / 10 Steps): 100%|██████████| 2/2 [00:11<00:00,  5.96s/it]<00:07,  2.37s/it]\n",
      "Training (7900 / 18000 Steps) (loss=0.17052):  71%|███████▏  | 5/7 [00:25<00:12,  6.42s/it]"
     ]
    },
    {
     "name": "stdout",
     "output_type": "stream",
     "text": [
      "Model Was Not Saved ! Current Best Avg. Dice: 0.5890686511993408 Current Avg. Dice: 0.5429467558860779 Current Avg. tumor Dice: 0.6066428422927856 Current Avg. lymph Dice: 0.47925060987472534\n"
     ]
    },
    {
     "name": "stderr",
     "output_type": "stream",
     "text": [
      "Training (7902 / 18000 Steps) (loss=0.52382): 100%|██████████| 7/7 [00:28<00:00,  4.03s/it]\n",
      "Training (7909 / 18000 Steps) (loss=0.22113): 100%|██████████| 7/7 [00:15<00:00,  2.26s/it]\n",
      "Training (7916 / 18000 Steps) (loss=0.35767): 100%|██████████| 7/7 [00:15<00:00,  2.25s/it]\n",
      "Training (7923 / 18000 Steps) (loss=0.51628): 100%|██████████| 7/7 [00:17<00:00,  2.47s/it]\n",
      "Training (7930 / 18000 Steps) (loss=0.39240): 100%|██████████| 7/7 [00:15<00:00,  2.21s/it]\n",
      "Training (7937 / 18000 Steps) (loss=0.48328): 100%|██████████| 7/7 [00:17<00:00,  2.52s/it]\n",
      "Training (7944 / 18000 Steps) (loss=0.27399): 100%|██████████| 7/7 [00:17<00:00,  2.55s/it]\n",
      "Training (7951 / 18000 Steps) (loss=0.34550): 100%|██████████| 7/7 [00:15<00:00,  2.22s/it]\n",
      "Training (7958 / 18000 Steps) (loss=0.53616): 100%|██████████| 7/7 [00:15<00:00,  2.27s/it]\n",
      "Training (7965 / 18000 Steps) (loss=0.38899): 100%|██████████| 7/7 [00:17<00:00,  2.46s/it]\n",
      "Training (7972 / 18000 Steps) (loss=0.27418): 100%|██████████| 7/7 [00:15<00:00,  2.19s/it]\n",
      "Training (7979 / 18000 Steps) (loss=0.22237): 100%|██████████| 7/7 [00:15<00:00,  2.18s/it]\n",
      "Training (7986 / 18000 Steps) (loss=0.27539): 100%|██████████| 7/7 [00:16<00:00,  2.33s/it]\n",
      "Training (7993 / 18000 Steps) (loss=0.21420): 100%|██████████| 7/7 [00:16<00:00,  2.31s/it]\n",
      "Validate (7994 / 10 Steps): 100%|██████████| 2/2 [00:11<00:00,  6.00s/it]<00:01,  1.93s/it]\n",
      "Training (8000 / 18000 Steps) (loss=0.53394): 100%|██████████| 7/7 [00:28<00:00,  4.07s/it]\n"
     ]
    },
    {
     "name": "stdout",
     "output_type": "stream",
     "text": [
      "Model Was Not Saved ! Current Best Avg. Dice: 0.5890686511993408 Current Avg. Dice: 0.5222325921058655 Current Avg. tumor Dice: 0.5817387104034424 Current Avg. lymph Dice: 0.4627264440059662\n"
     ]
    },
    {
     "name": "stderr",
     "output_type": "stream",
     "text": [
      "Training (8007 / 18000 Steps) (loss=0.42753): 100%|██████████| 7/7 [00:15<00:00,  2.26s/it]\n",
      "Training (8014 / 18000 Steps) (loss=0.52852): 100%|██████████| 7/7 [00:18<00:00,  2.60s/it]\n",
      "Training (8021 / 18000 Steps) (loss=0.12248): 100%|██████████| 7/7 [00:17<00:00,  2.55s/it]\n",
      "Training (8028 / 18000 Steps) (loss=0.36429): 100%|██████████| 7/7 [00:15<00:00,  2.28s/it]\n",
      "Training (8035 / 18000 Steps) (loss=0.66673): 100%|██████████| 7/7 [00:17<00:00,  2.46s/it]\n",
      "Training (8042 / 18000 Steps) (loss=0.38811): 100%|██████████| 7/7 [00:15<00:00,  2.21s/it]\n",
      "Training (8049 / 18000 Steps) (loss=0.42327): 100%|██████████| 7/7 [00:15<00:00,  2.24s/it]\n",
      "Training (8056 / 18000 Steps) (loss=0.26129): 100%|██████████| 7/7 [00:15<00:00,  2.21s/it]\n",
      "Training (8063 / 18000 Steps) (loss=0.28170): 100%|██████████| 7/7 [00:15<00:00,  2.24s/it]\n",
      "Training (8070 / 18000 Steps) (loss=0.31783): 100%|██████████| 7/7 [00:15<00:00,  2.24s/it]\n",
      "Training (8077 / 18000 Steps) (loss=0.24656): 100%|██████████| 7/7 [00:15<00:00,  2.28s/it]\n",
      "Training (8084 / 18000 Steps) (loss=0.26352): 100%|██████████| 7/7 [00:15<00:00,  2.27s/it]\n",
      "Training (8091 / 18000 Steps) (loss=0.49572): 100%|██████████| 7/7 [00:15<00:00,  2.20s/it]\n",
      "Training (8098 / 18000 Steps) (loss=0.32076): 100%|██████████| 7/7 [00:15<00:00,  2.24s/it]\n",
      "Validate (8099 / 10 Steps): 100%|██████████| 2/2 [00:11<00:00,  5.85s/it]<00:54,  9.15s/it]\n",
      "Training (8100 / 18000 Steps) (loss=0.36663):  29%|██▊       | 2/7 [00:22<00:58, 11.66s/it]"
     ]
    },
    {
     "name": "stdout",
     "output_type": "stream",
     "text": [
      "Model Was Not Saved ! Current Best Avg. Dice: 0.5890686511993408 Current Avg. Dice: 0.5406022667884827 Current Avg. tumor Dice: 0.5788933038711548 Current Avg. lymph Dice: 0.5023112893104553\n"
     ]
    },
    {
     "name": "stderr",
     "output_type": "stream",
     "text": [
      "Training (8105 / 18000 Steps) (loss=0.13897): 100%|██████████| 7/7 [00:29<00:00,  4.27s/it]\n",
      "Training (8112 / 18000 Steps) (loss=0.47787): 100%|██████████| 7/7 [00:15<00:00,  2.24s/it]\n",
      "Training (8119 / 18000 Steps) (loss=0.42684): 100%|██████████| 7/7 [00:16<00:00,  2.41s/it]\n",
      "Training (8126 / 18000 Steps) (loss=0.24209): 100%|██████████| 7/7 [00:17<00:00,  2.45s/it]\n",
      "Training (8133 / 18000 Steps) (loss=0.60060): 100%|██████████| 7/7 [00:15<00:00,  2.20s/it]\n",
      "Training (8140 / 18000 Steps) (loss=0.25249): 100%|██████████| 7/7 [00:16<00:00,  2.38s/it]\n",
      "Training (8147 / 18000 Steps) (loss=0.53267): 100%|██████████| 7/7 [00:15<00:00,  2.27s/it]\n",
      "Training (8154 / 18000 Steps) (loss=0.20070): 100%|██████████| 7/7 [00:15<00:00,  2.22s/it]\n",
      "Training (8161 / 18000 Steps) (loss=0.32638): 100%|██████████| 7/7 [00:15<00:00,  2.27s/it]\n",
      "Training (8168 / 18000 Steps) (loss=0.29884): 100%|██████████| 7/7 [00:15<00:00,  2.22s/it]\n",
      "Training (8175 / 18000 Steps) (loss=0.40402): 100%|██████████| 7/7 [00:16<00:00,  2.30s/it]\n",
      "Training (8182 / 18000 Steps) (loss=0.35678): 100%|██████████| 7/7 [00:17<00:00,  2.46s/it]\n",
      "Training (8189 / 18000 Steps) (loss=0.59621): 100%|██████████| 7/7 [00:15<00:00,  2.21s/it]\n",
      "Training (8196 / 18000 Steps) (loss=0.41101): 100%|██████████| 7/7 [00:15<00:00,  2.28s/it]\n",
      "Validate (8197 / 10 Steps): 100%|██████████| 2/2 [00:12<00:00,  6.16s/it]<00:11,  2.82s/it]\n",
      "Training (8200 / 18000 Steps) (loss=0.34339):  57%|█████▋    | 4/7 [00:24<00:21,  7.24s/it]"
     ]
    },
    {
     "name": "stdout",
     "output_type": "stream",
     "text": [
      "Model Was Not Saved ! Current Best Avg. Dice: 0.5890686511993408 Current Avg. Dice: 0.537895917892456 Current Avg. tumor Dice: 0.5630195736885071 Current Avg. lymph Dice: 0.512772262096405\n"
     ]
    },
    {
     "name": "stderr",
     "output_type": "stream",
     "text": [
      "Training (8203 / 18000 Steps) (loss=0.42483): 100%|██████████| 7/7 [00:28<00:00,  4.06s/it]\n",
      "Training (8210 / 18000 Steps) (loss=0.52097): 100%|██████████| 7/7 [00:17<00:00,  2.47s/it]\n",
      "Training (8217 / 18000 Steps) (loss=0.29864): 100%|██████████| 7/7 [00:15<00:00,  2.21s/it]\n",
      "Training (8224 / 18000 Steps) (loss=0.53389): 100%|██████████| 7/7 [00:16<00:00,  2.33s/it]\n",
      "Training (8231 / 18000 Steps) (loss=0.27921): 100%|██████████| 7/7 [00:15<00:00,  2.26s/it]\n",
      "Training (8238 / 18000 Steps) (loss=0.46096): 100%|██████████| 7/7 [00:15<00:00,  2.21s/it]\n",
      "Training (8245 / 18000 Steps) (loss=0.30392): 100%|██████████| 7/7 [00:17<00:00,  2.43s/it]\n",
      "Training (8252 / 18000 Steps) (loss=0.61128): 100%|██████████| 7/7 [00:17<00:00,  2.56s/it]\n",
      "Training (8259 / 18000 Steps) (loss=0.28817): 100%|██████████| 7/7 [00:17<00:00,  2.46s/it]\n",
      "Training (8266 / 18000 Steps) (loss=0.24747): 100%|██████████| 7/7 [00:16<00:00,  2.39s/it]\n",
      "Training (8273 / 18000 Steps) (loss=0.39165): 100%|██████████| 7/7 [00:15<00:00,  2.28s/it]\n",
      "Training (8280 / 18000 Steps) (loss=0.26241): 100%|██████████| 7/7 [00:15<00:00,  2.23s/it]\n",
      "Training (8287 / 18000 Steps) (loss=0.22963): 100%|██████████| 7/7 [00:15<00:00,  2.28s/it]\n",
      "Training (8294 / 18000 Steps) (loss=0.24675): 100%|██████████| 7/7 [00:16<00:00,  2.37s/it]\n",
      "Validate (8295 / 10 Steps): 100%|██████████| 2/2 [00:11<00:00,  5.96s/it]<00:04,  2.13s/it]\n",
      "Training (8300 / 18000 Steps) (loss=0.43199):  86%|████████▌ | 6/7 [00:27<00:06,  6.03s/it]"
     ]
    },
    {
     "name": "stdout",
     "output_type": "stream",
     "text": [
      "Model Was Not Saved ! Current Best Avg. Dice: 0.5890686511993408 Current Avg. Dice: 0.5100532174110413 Current Avg. tumor Dice: 0.5469098687171936 Current Avg. lymph Dice: 0.4731965661048889\n"
     ]
    },
    {
     "name": "stderr",
     "output_type": "stream",
     "text": [
      "Training (8301 / 18000 Steps) (loss=0.52813): 100%|██████████| 7/7 [00:28<00:00,  4.11s/it]\n",
      "Training (8308 / 18000 Steps) (loss=0.19157): 100%|██████████| 7/7 [00:16<00:00,  2.31s/it]\n",
      "Training (8315 / 18000 Steps) (loss=0.53899): 100%|██████████| 7/7 [00:15<00:00,  2.25s/it]\n",
      "Training (8322 / 18000 Steps) (loss=0.38921): 100%|██████████| 7/7 [00:15<00:00,  2.21s/it]\n",
      "Training (8329 / 18000 Steps) (loss=0.39710): 100%|██████████| 7/7 [00:16<00:00,  2.29s/it]\n",
      "Training (8336 / 18000 Steps) (loss=0.53233): 100%|██████████| 7/7 [00:16<00:00,  2.38s/it]\n",
      "Training (8343 / 18000 Steps) (loss=0.28289): 100%|██████████| 7/7 [00:15<00:00,  2.28s/it]\n",
      "Training (8350 / 18000 Steps) (loss=0.46469): 100%|██████████| 7/7 [00:16<00:00,  2.33s/it]\n",
      "Training (8357 / 18000 Steps) (loss=0.31521): 100%|██████████| 7/7 [00:16<00:00,  2.37s/it]\n",
      "Training (8364 / 18000 Steps) (loss=0.24047): 100%|██████████| 7/7 [00:17<00:00,  2.44s/it]\n",
      "Training (8371 / 18000 Steps) (loss=0.47487): 100%|██████████| 7/7 [00:18<00:00,  2.59s/it]\n",
      "Training (8378 / 18000 Steps) (loss=0.12346): 100%|██████████| 7/7 [00:16<00:00,  2.32s/it]\n",
      "Training (8385 / 18000 Steps) (loss=0.29517): 100%|██████████| 7/7 [00:16<00:00,  2.36s/it]\n",
      "Training (8392 / 18000 Steps) (loss=0.27407): 100%|██████████| 7/7 [00:16<00:00,  2.30s/it]\n",
      "Training (8399 / 18000 Steps) (loss=0.30131): 100%|██████████| 7/7 [00:16<00:00,  2.34s/it]\n",
      "Validate (8400 / 10 Steps): 100%|██████████| 2/2 [00:11<00:00,  5.85s/it]<?, ?it/s]\n",
      "Training (8400 / 18000 Steps) (loss=0.22594):  14%|█▍        | 1/7 [00:19<01:56, 19.47s/it]"
     ]
    },
    {
     "name": "stdout",
     "output_type": "stream",
     "text": [
      "Model Was Not Saved ! Current Best Avg. Dice: 0.5890686511993408 Current Avg. Dice: 0.5431860685348511 Current Avg. tumor Dice: 0.5840047597885132 Current Avg. lymph Dice: 0.502367377281189\n"
     ]
    },
    {
     "name": "stderr",
     "output_type": "stream",
     "text": [
      "Training (8406 / 18000 Steps) (loss=0.25636): 100%|██████████| 7/7 [00:28<00:00,  4.05s/it]\n",
      "Training (8413 / 18000 Steps) (loss=0.47264): 100%|██████████| 7/7 [00:17<00:00,  2.43s/it]\n",
      "Training (8420 / 18000 Steps) (loss=0.24103): 100%|██████████| 7/7 [00:15<00:00,  2.28s/it]\n",
      "Training (8427 / 18000 Steps) (loss=0.10712): 100%|██████████| 7/7 [00:15<00:00,  2.23s/it]\n",
      "Training (8434 / 18000 Steps) (loss=0.55367): 100%|██████████| 7/7 [00:15<00:00,  2.23s/it]\n",
      "Training (8441 / 18000 Steps) (loss=0.21296): 100%|██████████| 7/7 [00:17<00:00,  2.46s/it]\n",
      "Training (8448 / 18000 Steps) (loss=0.13550): 100%|██████████| 7/7 [00:15<00:00,  2.20s/it]\n",
      "Training (8455 / 18000 Steps) (loss=0.26019): 100%|██████████| 7/7 [00:16<00:00,  2.42s/it]\n",
      "Training (8462 / 18000 Steps) (loss=0.54156): 100%|██████████| 7/7 [00:16<00:00,  2.30s/it]\n",
      "Training (8469 / 18000 Steps) (loss=0.25115): 100%|██████████| 7/7 [00:16<00:00,  2.31s/it]\n",
      "Training (8476 / 18000 Steps) (loss=0.29318): 100%|██████████| 7/7 [00:17<00:00,  2.46s/it]\n",
      "Training (8483 / 18000 Steps) (loss=0.38134): 100%|██████████| 7/7 [00:16<00:00,  2.35s/it]\n",
      "Training (8490 / 18000 Steps) (loss=0.53265): 100%|██████████| 7/7 [00:15<00:00,  2.18s/it]\n",
      "Training (8497 / 18000 Steps) (loss=0.25798): 100%|██████████| 7/7 [00:15<00:00,  2.18s/it]\n",
      "Validate (8498 / 10 Steps): 100%|██████████| 2/2 [00:11<00:00,  5.86s/it]<00:18,  3.67s/it]\n",
      "Training (8500 / 18000 Steps) (loss=0.45664):  43%|████▎     | 3/7 [00:21<00:32,  8.12s/it]"
     ]
    },
    {
     "name": "stdout",
     "output_type": "stream",
     "text": [
      "Model Was Not Saved ! Current Best Avg. Dice: 0.5890686511993408 Current Avg. Dice: 0.5393481850624084 Current Avg. tumor Dice: 0.5492092370986938 Current Avg. lymph Dice: 0.529487133026123\n"
     ]
    },
    {
     "name": "stderr",
     "output_type": "stream",
     "text": [
      "Training (8504 / 18000 Steps) (loss=0.40847): 100%|██████████| 7/7 [00:27<00:00,  3.91s/it]\n",
      "Training (8511 / 18000 Steps) (loss=0.40142): 100%|██████████| 7/7 [00:16<00:00,  2.38s/it]\n",
      "Training (8518 / 18000 Steps) (loss=0.53231): 100%|██████████| 7/7 [00:16<00:00,  2.33s/it]\n",
      "Training (8525 / 18000 Steps) (loss=0.31368): 100%|██████████| 7/7 [00:16<00:00,  2.31s/it]\n",
      "Training (8532 / 18000 Steps) (loss=0.36019): 100%|██████████| 7/7 [00:15<00:00,  2.28s/it]\n",
      "Training (8539 / 18000 Steps) (loss=0.31422): 100%|██████████| 7/7 [00:15<00:00,  2.21s/it]\n",
      "Training (8546 / 18000 Steps) (loss=0.36868): 100%|██████████| 7/7 [00:15<00:00,  2.28s/it]\n",
      "Training (8553 / 18000 Steps) (loss=0.26367): 100%|██████████| 7/7 [00:16<00:00,  2.40s/it]\n",
      "Training (8560 / 18000 Steps) (loss=0.38395): 100%|██████████| 7/7 [00:16<00:00,  2.36s/it]\n",
      "Training (8567 / 18000 Steps) (loss=0.49668): 100%|██████████| 7/7 [00:15<00:00,  2.26s/it]\n",
      "Training (8574 / 18000 Steps) (loss=0.37896): 100%|██████████| 7/7 [00:16<00:00,  2.36s/it]\n",
      "Training (8581 / 18000 Steps) (loss=0.32659): 100%|██████████| 7/7 [00:16<00:00,  2.36s/it]\n",
      "Training (8588 / 18000 Steps) (loss=0.26796): 100%|██████████| 7/7 [00:16<00:00,  2.40s/it]\n",
      "Training (8595 / 18000 Steps) (loss=0.33416): 100%|██████████| 7/7 [00:17<00:00,  2.51s/it]\n",
      "Validate (8596 / 10 Steps): 100%|██████████| 2/2 [00:12<00:00,  6.11s/it]<00:07,  2.42s/it]\n",
      "Training (8600 / 18000 Steps) (loss=0.36722):  71%|███████▏  | 5/7 [00:26<00:13,  6.56s/it]"
     ]
    },
    {
     "name": "stdout",
     "output_type": "stream",
     "text": [
      "Model Was Not Saved ! Current Best Avg. Dice: 0.5890686511993408 Current Avg. Dice: 0.5519656538963318 Current Avg. tumor Dice: 0.6052236557006836 Current Avg. lymph Dice: 0.49870768189430237\n"
     ]
    },
    {
     "name": "stderr",
     "output_type": "stream",
     "text": [
      "Training (8602 / 18000 Steps) (loss=0.33542): 100%|██████████| 7/7 [00:28<00:00,  4.12s/it]\n",
      "Training (8609 / 18000 Steps) (loss=0.53144): 100%|██████████| 7/7 [00:16<00:00,  2.29s/it]\n",
      "Training (8616 / 18000 Steps) (loss=0.39513): 100%|██████████| 7/7 [00:16<00:00,  2.33s/it]\n",
      "Training (8623 / 18000 Steps) (loss=0.26473): 100%|██████████| 7/7 [00:17<00:00,  2.48s/it]\n",
      "Training (8630 / 18000 Steps) (loss=0.56181): 100%|██████████| 7/7 [00:16<00:00,  2.43s/it]\n",
      "Training (8637 / 18000 Steps) (loss=0.38179): 100%|██████████| 7/7 [00:15<00:00,  2.19s/it]\n",
      "Training (8644 / 18000 Steps) (loss=0.37602): 100%|██████████| 7/7 [00:15<00:00,  2.21s/it]\n",
      "Training (8651 / 18000 Steps) (loss=0.37199): 100%|██████████| 7/7 [00:15<00:00,  2.21s/it]\n",
      "Training (8658 / 18000 Steps) (loss=0.54222): 100%|██████████| 7/7 [00:15<00:00,  2.18s/it]\n",
      "Training (8665 / 18000 Steps) (loss=0.11321): 100%|██████████| 7/7 [00:16<00:00,  2.39s/it]\n",
      "Training (8672 / 18000 Steps) (loss=0.37935): 100%|██████████| 7/7 [00:16<00:00,  2.29s/it]\n",
      "Training (8679 / 18000 Steps) (loss=0.27343): 100%|██████████| 7/7 [00:17<00:00,  2.43s/it]\n",
      "Training (8686 / 18000 Steps) (loss=0.20511): 100%|██████████| 7/7 [00:16<00:00,  2.37s/it]\n",
      "Training (8693 / 18000 Steps) (loss=0.27783): 100%|██████████| 7/7 [00:16<00:00,  2.38s/it]\n",
      "Validate (8694 / 10 Steps): 100%|██████████| 2/2 [00:12<00:00,  6.22s/it]<00:01,  1.95s/it]\n",
      "Training (8700 / 18000 Steps) (loss=0.52571): 100%|██████████| 7/7 [00:29<00:00,  4.19s/it]\n"
     ]
    },
    {
     "name": "stdout",
     "output_type": "stream",
     "text": [
      "Model Was Not Saved ! Current Best Avg. Dice: 0.5890686511993408 Current Avg. Dice: 0.5016541481018066 Current Avg. tumor Dice: 0.5458019971847534 Current Avg. lymph Dice: 0.457506388425827\n"
     ]
    },
    {
     "name": "stderr",
     "output_type": "stream",
     "text": [
      "Training (8707 / 18000 Steps) (loss=0.36970): 100%|██████████| 7/7 [00:16<00:00,  2.29s/it]\n",
      "Training (8714 / 18000 Steps) (loss=0.12658): 100%|██████████| 7/7 [00:15<00:00,  2.22s/it]\n",
      "Training (8721 / 18000 Steps) (loss=0.34255): 100%|██████████| 7/7 [00:16<00:00,  2.42s/it]\n",
      "Training (8728 / 18000 Steps) (loss=0.24617): 100%|██████████| 7/7 [00:15<00:00,  2.19s/it]\n",
      "Training (8735 / 18000 Steps) (loss=0.38128): 100%|██████████| 7/7 [00:16<00:00,  2.37s/it]\n",
      "Training (8742 / 18000 Steps) (loss=0.35007): 100%|██████████| 7/7 [00:15<00:00,  2.26s/it]\n",
      "Training (8749 / 18000 Steps) (loss=0.28141): 100%|██████████| 7/7 [00:17<00:00,  2.47s/it]\n",
      "Training (8756 / 18000 Steps) (loss=0.12360): 100%|██████████| 7/7 [00:15<00:00,  2.23s/it]\n",
      "Training (8763 / 18000 Steps) (loss=0.52417): 100%|██████████| 7/7 [00:15<00:00,  2.24s/it]\n",
      "Training (8770 / 18000 Steps) (loss=0.27064): 100%|██████████| 7/7 [00:15<00:00,  2.21s/it]\n",
      "Training (8777 / 18000 Steps) (loss=0.25018): 100%|██████████| 7/7 [00:15<00:00,  2.25s/it]\n",
      "Training (8784 / 18000 Steps) (loss=0.38766): 100%|██████████| 7/7 [00:17<00:00,  2.43s/it]\n",
      "Training (8791 / 18000 Steps) (loss=0.49373): 100%|██████████| 7/7 [00:17<00:00,  2.47s/it]\n",
      "Training (8798 / 18000 Steps) (loss=0.46503): 100%|██████████| 7/7 [00:16<00:00,  2.38s/it]\n",
      "Validate (8799 / 10 Steps): 100%|██████████| 2/2 [00:11<00:00,  5.85s/it]<00:49,  8.22s/it]\n",
      "Training (8800 / 18000 Steps) (loss=0.27188):  29%|██▊       | 2/7 [00:21<00:56, 11.26s/it]"
     ]
    },
    {
     "name": "stdout",
     "output_type": "stream",
     "text": [
      "Model Was Not Saved ! Current Best Avg. Dice: 0.5890686511993408 Current Avg. Dice: 0.5400881767272949 Current Avg. tumor Dice: 0.6075289845466614 Current Avg. lymph Dice: 0.47264736890792847\n"
     ]
    },
    {
     "name": "stderr",
     "output_type": "stream",
     "text": [
      "Training (8805 / 18000 Steps) (loss=0.34397): 100%|██████████| 7/7 [00:28<00:00,  4.13s/it]\n",
      "Training (8812 / 18000 Steps) (loss=0.22148): 100%|██████████| 7/7 [00:16<00:00,  2.41s/it]\n",
      "Training (8819 / 18000 Steps) (loss=0.37780): 100%|██████████| 7/7 [00:16<00:00,  2.37s/it]\n",
      "Training (8826 / 18000 Steps) (loss=0.48071): 100%|██████████| 7/7 [00:16<00:00,  2.41s/it]\n",
      "Training (8833 / 18000 Steps) (loss=0.47104): 100%|██████████| 7/7 [00:17<00:00,  2.49s/it]\n",
      "Training (8840 / 18000 Steps) (loss=0.41781): 100%|██████████| 7/7 [00:15<00:00,  2.22s/it]\n",
      "Training (8847 / 18000 Steps) (loss=0.28381): 100%|██████████| 7/7 [00:17<00:00,  2.54s/it]\n",
      "Training (8854 / 18000 Steps) (loss=0.24697): 100%|██████████| 7/7 [00:16<00:00,  2.31s/it]\n",
      "Training (8861 / 18000 Steps) (loss=0.35333): 100%|██████████| 7/7 [00:15<00:00,  2.20s/it]\n",
      "Training (8868 / 18000 Steps) (loss=0.39219): 100%|██████████| 7/7 [00:15<00:00,  2.28s/it]\n",
      "Training (8875 / 18000 Steps) (loss=0.40326): 100%|██████████| 7/7 [00:17<00:00,  2.45s/it]\n",
      "Training (8882 / 18000 Steps) (loss=0.40093): 100%|██████████| 7/7 [00:16<00:00,  2.29s/it]\n",
      "Training (8889 / 18000 Steps) (loss=0.49399): 100%|██████████| 7/7 [00:16<00:00,  2.31s/it]\n",
      "Training (8896 / 18000 Steps) (loss=0.25891): 100%|██████████| 7/7 [00:16<00:00,  2.30s/it]\n",
      "Validate (8897 / 10 Steps): 100%|██████████| 2/2 [00:12<00:00,  6.09s/it]<00:11,  2.77s/it]\n",
      "Training (8900 / 18000 Steps) (loss=0.32338):  57%|█████▋    | 4/7 [00:23<00:21,  7.15s/it]"
     ]
    },
    {
     "name": "stdout",
     "output_type": "stream",
     "text": [
      "Model Was Not Saved ! Current Best Avg. Dice: 0.5890686511993408 Current Avg. Dice: 0.5129141807556152 Current Avg. tumor Dice: 0.5753149390220642 Current Avg. lymph Dice: 0.45051348209381104\n"
     ]
    },
    {
     "name": "stderr",
     "output_type": "stream",
     "text": [
      "Training (8903 / 18000 Steps) (loss=0.37589): 100%|██████████| 7/7 [00:27<00:00,  4.00s/it]\n",
      "Training (8910 / 18000 Steps) (loss=0.26838): 100%|██████████| 7/7 [00:15<00:00,  2.20s/it]\n",
      "Training (8917 / 18000 Steps) (loss=0.34758): 100%|██████████| 7/7 [00:16<00:00,  2.33s/it]\n",
      "Training (8924 / 18000 Steps) (loss=0.44181): 100%|██████████| 7/7 [00:15<00:00,  2.27s/it]\n",
      "Training (8931 / 18000 Steps) (loss=0.47090): 100%|██████████| 7/7 [00:15<00:00,  2.24s/it]\n",
      "Training (8938 / 18000 Steps) (loss=0.42489): 100%|██████████| 7/7 [00:15<00:00,  2.27s/it]\n",
      "Training (8945 / 18000 Steps) (loss=0.52901): 100%|██████████| 7/7 [00:15<00:00,  2.20s/it]\n",
      "Training (8952 / 18000 Steps) (loss=0.30873): 100%|██████████| 7/7 [00:15<00:00,  2.20s/it]\n",
      "Training (8959 / 18000 Steps) (loss=0.10483): 100%|██████████| 7/7 [00:17<00:00,  2.48s/it]\n",
      "Training (8966 / 18000 Steps) (loss=0.14404): 100%|██████████| 7/7 [00:15<00:00,  2.23s/it]\n",
      "Training (8973 / 18000 Steps) (loss=0.53785): 100%|██████████| 7/7 [00:16<00:00,  2.41s/it]\n",
      "Training (8980 / 18000 Steps) (loss=0.53250): 100%|██████████| 7/7 [00:17<00:00,  2.50s/it]\n",
      "Training (8987 / 18000 Steps) (loss=0.11929): 100%|██████████| 7/7 [00:16<00:00,  2.35s/it]\n",
      "Training (8994 / 18000 Steps) (loss=0.12573): 100%|██████████| 7/7 [00:15<00:00,  2.25s/it]\n",
      "Validate (8995 / 10 Steps): 100%|██████████| 2/2 [00:12<00:00,  6.01s/it]<00:04,  2.04s/it]\n",
      "Training (9000 / 18000 Steps) (loss=0.31987):  86%|████████▌ | 6/7 [00:26<00:06,  6.00s/it]"
     ]
    },
    {
     "name": "stdout",
     "output_type": "stream",
     "text": [
      "Model Was Not Saved ! Current Best Avg. Dice: 0.5890686511993408 Current Avg. Dice: 0.5678362846374512 Current Avg. tumor Dice: 0.5951241254806519 Current Avg. lymph Dice: 0.5405483841896057\n"
     ]
    },
    {
     "name": "stderr",
     "output_type": "stream",
     "text": [
      "Training (9001 / 18000 Steps) (loss=0.27492): 100%|██████████| 7/7 [00:27<00:00,  3.96s/it]\n",
      "Training (9008 / 18000 Steps) (loss=0.34440): 100%|██████████| 7/7 [00:16<00:00,  2.32s/it]\n",
      "Training (9015 / 18000 Steps) (loss=0.37325): 100%|██████████| 7/7 [00:16<00:00,  2.31s/it]\n",
      "Training (9022 / 18000 Steps) (loss=0.53160): 100%|██████████| 7/7 [00:15<00:00,  2.24s/it]\n",
      "Training (9029 / 18000 Steps) (loss=0.27517): 100%|██████████| 7/7 [00:16<00:00,  2.30s/it]\n",
      "Training (9036 / 18000 Steps) (loss=0.25044): 100%|██████████| 7/7 [00:17<00:00,  2.45s/it]\n",
      "Training (9043 / 18000 Steps) (loss=0.18588): 100%|██████████| 7/7 [00:15<00:00,  2.19s/it]\n",
      "Training (9050 / 18000 Steps) (loss=0.47795): 100%|██████████| 7/7 [00:15<00:00,  2.27s/it]\n",
      "Training (9057 / 18000 Steps) (loss=0.27667): 100%|██████████| 7/7 [00:16<00:00,  2.34s/it]\n",
      "Training (9064 / 18000 Steps) (loss=0.59831): 100%|██████████| 7/7 [00:16<00:00,  2.35s/it]\n",
      "Training (9071 / 18000 Steps) (loss=0.27679): 100%|██████████| 7/7 [00:15<00:00,  2.26s/it]\n",
      "Training (9078 / 18000 Steps) (loss=0.19546): 100%|██████████| 7/7 [00:16<00:00,  2.35s/it]\n",
      "Training (9085 / 18000 Steps) (loss=0.24928): 100%|██████████| 7/7 [00:15<00:00,  2.26s/it]\n",
      "Training (9092 / 18000 Steps) (loss=0.46342): 100%|██████████| 7/7 [00:16<00:00,  2.42s/it]\n",
      "Training (9099 / 18000 Steps) (loss=0.33417): 100%|██████████| 7/7 [00:16<00:00,  2.33s/it]\n",
      "Validate (9100 / 10 Steps): 100%|██████████| 2/2 [00:11<00:00,  5.94s/it]<?, ?it/s]\n",
      "Training (9100 / 18000 Steps) (loss=0.39090):  14%|█▍        | 1/7 [00:19<01:57, 19.54s/it]"
     ]
    },
    {
     "name": "stdout",
     "output_type": "stream",
     "text": [
      "Model Was Not Saved ! Current Best Avg. Dice: 0.5890686511993408 Current Avg. Dice: 0.5007748603820801 Current Avg. tumor Dice: 0.5552219748497009 Current Avg. lymph Dice: 0.44632771611213684\n"
     ]
    },
    {
     "name": "stderr",
     "output_type": "stream",
     "text": [
      "Training (9106 / 18000 Steps) (loss=0.29176): 100%|██████████| 7/7 [00:28<00:00,  4.06s/it]\n",
      "Training (9113 / 18000 Steps) (loss=0.46655): 100%|██████████| 7/7 [00:15<00:00,  2.24s/it]\n",
      "Training (9120 / 18000 Steps) (loss=0.32752): 100%|██████████| 7/7 [00:17<00:00,  2.47s/it]\n",
      "Training (9127 / 18000 Steps) (loss=0.11594): 100%|██████████| 7/7 [00:16<00:00,  2.33s/it]\n",
      "Training (9134 / 18000 Steps) (loss=0.32849): 100%|██████████| 7/7 [00:16<00:00,  2.34s/it]\n",
      "Training (9141 / 18000 Steps) (loss=0.21582): 100%|██████████| 7/7 [00:16<00:00,  2.34s/it]\n",
      "Training (9148 / 18000 Steps) (loss=0.48041): 100%|██████████| 7/7 [00:15<00:00,  2.23s/it]\n",
      "Training (9155 / 18000 Steps) (loss=0.44377): 100%|██████████| 7/7 [00:17<00:00,  2.47s/it]\n",
      "Training (9162 / 18000 Steps) (loss=0.53217): 100%|██████████| 7/7 [00:15<00:00,  2.21s/it]\n",
      "Training (9169 / 18000 Steps) (loss=0.17120): 100%|██████████| 7/7 [00:16<00:00,  2.32s/it]\n",
      "Training (9176 / 18000 Steps) (loss=0.39654): 100%|██████████| 7/7 [00:16<00:00,  2.34s/it]\n",
      "Training (9183 / 18000 Steps) (loss=0.10923): 100%|██████████| 7/7 [00:16<00:00,  2.37s/it]\n",
      "Training (9190 / 18000 Steps) (loss=0.20744): 100%|██████████| 7/7 [00:16<00:00,  2.35s/it]\n",
      "Training (9197 / 18000 Steps) (loss=0.29593): 100%|██████████| 7/7 [00:16<00:00,  2.41s/it]\n",
      "Validate (9198 / 10 Steps): 100%|██████████| 2/2 [00:11<00:00,  5.88s/it]<00:18,  3.70s/it]\n",
      "Training (9200 / 18000 Steps) (loss=0.34203):  43%|████▎     | 3/7 [00:21<00:32,  8.15s/it]"
     ]
    },
    {
     "name": "stdout",
     "output_type": "stream",
     "text": [
      "Model Was Not Saved ! Current Best Avg. Dice: 0.5890686511993408 Current Avg. Dice: 0.5048208832740784 Current Avg. tumor Dice: 0.4845030605792999 Current Avg. lymph Dice: 0.5251387357711792\n"
     ]
    },
    {
     "name": "stderr",
     "output_type": "stream",
     "text": [
      "Training (9204 / 18000 Steps) (loss=0.32219): 100%|██████████| 7/7 [00:27<00:00,  3.92s/it]\n",
      "Training (9211 / 18000 Steps) (loss=0.38838): 100%|██████████| 7/7 [00:16<00:00,  2.33s/it]\n",
      "Training (9218 / 18000 Steps) (loss=0.27491): 100%|██████████| 7/7 [00:15<00:00,  2.24s/it]\n",
      "Training (9225 / 18000 Steps) (loss=0.28174): 100%|██████████| 7/7 [00:17<00:00,  2.46s/it]\n",
      "Training (9232 / 18000 Steps) (loss=0.36152): 100%|██████████| 7/7 [00:16<00:00,  2.35s/it]\n",
      "Training (9239 / 18000 Steps) (loss=0.39937): 100%|██████████| 7/7 [00:15<00:00,  2.25s/it]\n",
      "Training (9246 / 18000 Steps) (loss=0.31399): 100%|██████████| 7/7 [00:16<00:00,  2.35s/it]\n",
      "Training (9253 / 18000 Steps) (loss=0.41106): 100%|██████████| 7/7 [00:17<00:00,  2.49s/it]\n",
      "Training (9260 / 18000 Steps) (loss=0.40918): 100%|██████████| 7/7 [00:17<00:00,  2.46s/it]\n",
      "Training (9267 / 18000 Steps) (loss=0.39307): 100%|██████████| 7/7 [00:16<00:00,  2.33s/it]\n",
      "Training (9274 / 18000 Steps) (loss=0.66670): 100%|██████████| 7/7 [00:15<00:00,  2.24s/it]\n",
      "Training (9281 / 18000 Steps) (loss=0.30549): 100%|██████████| 7/7 [00:16<00:00,  2.40s/it]\n",
      "Training (9288 / 18000 Steps) (loss=0.09196): 100%|██████████| 7/7 [00:18<00:00,  2.58s/it]\n",
      "Training (9295 / 18000 Steps) (loss=0.26215): 100%|██████████| 7/7 [00:16<00:00,  2.42s/it]\n",
      "Validate (9296 / 10 Steps): 100%|██████████| 2/2 [00:11<00:00,  5.92s/it]<00:06,  2.29s/it]\n",
      "Training (9300 / 18000 Steps) (loss=0.40897):  71%|███████▏  | 5/7 [00:24<00:12,  6.34s/it]"
     ]
    },
    {
     "name": "stdout",
     "output_type": "stream",
     "text": [
      "Model Was Not Saved ! Current Best Avg. Dice: 0.5890686511993408 Current Avg. Dice: 0.5631728172302246 Current Avg. tumor Dice: 0.6321622133255005 Current Avg. lymph Dice: 0.49418333172798157\n"
     ]
    },
    {
     "name": "stderr",
     "output_type": "stream",
     "text": [
      "Training (9302 / 18000 Steps) (loss=0.44544): 100%|██████████| 7/7 [00:27<00:00,  3.92s/it]\n",
      "Training (9309 / 18000 Steps) (loss=0.28737): 100%|██████████| 7/7 [00:16<00:00,  2.30s/it]\n",
      "Training (9316 / 18000 Steps) (loss=0.25545): 100%|██████████| 7/7 [00:16<00:00,  2.32s/it]\n",
      "Training (9323 / 18000 Steps) (loss=0.23691): 100%|██████████| 7/7 [00:16<00:00,  2.39s/it]\n",
      "Training (9330 / 18000 Steps) (loss=0.11909): 100%|██████████| 7/7 [00:16<00:00,  2.41s/it]\n",
      "Training (9337 / 18000 Steps) (loss=0.32490): 100%|██████████| 7/7 [00:17<00:00,  2.44s/it]\n",
      "Training (9344 / 18000 Steps) (loss=0.49579): 100%|██████████| 7/7 [00:15<00:00,  2.24s/it]\n",
      "Training (9351 / 18000 Steps) (loss=0.11891): 100%|██████████| 7/7 [00:15<00:00,  2.28s/it]\n",
      "Training (9358 / 18000 Steps) (loss=0.52390): 100%|██████████| 7/7 [00:15<00:00,  2.24s/it]\n",
      "Training (9365 / 18000 Steps) (loss=0.46693): 100%|██████████| 7/7 [00:17<00:00,  2.43s/it]\n",
      "Training (9372 / 18000 Steps) (loss=0.12753): 100%|██████████| 7/7 [00:15<00:00,  2.27s/it]\n",
      "Training (9379 / 18000 Steps) (loss=0.10115): 100%|██████████| 7/7 [00:16<00:00,  2.33s/it]\n",
      "Training (9386 / 18000 Steps) (loss=0.39092): 100%|██████████| 7/7 [00:16<00:00,  2.36s/it]\n",
      "Training (9393 / 18000 Steps) (loss=0.16064): 100%|██████████| 7/7 [00:16<00:00,  2.32s/it]\n",
      "Validate (9394 / 10 Steps): 100%|██████████| 2/2 [00:11<00:00,  5.88s/it]<00:01,  1.93s/it]\n",
      "Training (9400 / 18000 Steps) (loss=0.52813): 100%|██████████| 7/7 [00:28<00:00,  4.03s/it]\n"
     ]
    },
    {
     "name": "stdout",
     "output_type": "stream",
     "text": [
      "Model Was Not Saved ! Current Best Avg. Dice: 0.5890686511993408 Current Avg. Dice: 0.47394925355911255 Current Avg. tumor Dice: 0.48711931705474854 Current Avg. lymph Dice: 0.46077919006347656\n"
     ]
    },
    {
     "name": "stderr",
     "output_type": "stream",
     "text": [
      "Training (9407 / 18000 Steps) (loss=0.40574): 100%|██████████| 7/7 [00:15<00:00,  2.19s/it]\n",
      "Training (9414 / 18000 Steps) (loss=0.53445): 100%|██████████| 7/7 [00:15<00:00,  2.22s/it]\n",
      "Training (9421 / 18000 Steps) (loss=0.39218): 100%|██████████| 7/7 [00:16<00:00,  2.43s/it]\n",
      "Training (9428 / 18000 Steps) (loss=0.25205): 100%|██████████| 7/7 [00:15<00:00,  2.21s/it]\n",
      "Training (9435 / 18000 Steps) (loss=0.50965): 100%|██████████| 7/7 [00:15<00:00,  2.25s/it]\n",
      "Training (9442 / 18000 Steps) (loss=0.25859): 100%|██████████| 7/7 [00:16<00:00,  2.36s/it]\n",
      "Training (9449 / 18000 Steps) (loss=0.25717): 100%|██████████| 7/7 [00:16<00:00,  2.38s/it]\n",
      "Training (9456 / 18000 Steps) (loss=0.26586): 100%|██████████| 7/7 [00:16<00:00,  2.31s/it]\n",
      "Training (9463 / 18000 Steps) (loss=0.26786): 100%|██████████| 7/7 [00:16<00:00,  2.36s/it]\n",
      "Training (9470 / 18000 Steps) (loss=0.14430): 100%|██████████| 7/7 [00:15<00:00,  2.24s/it]\n",
      "Training (9477 / 18000 Steps) (loss=0.47955): 100%|██████████| 7/7 [00:15<00:00,  2.24s/it]\n",
      "Training (9484 / 18000 Steps) (loss=0.34349): 100%|██████████| 7/7 [00:16<00:00,  2.38s/it]\n",
      "Training (9491 / 18000 Steps) (loss=0.19443): 100%|██████████| 7/7 [00:15<00:00,  2.21s/it]\n",
      "Training (9498 / 18000 Steps) (loss=0.40791): 100%|██████████| 7/7 [00:15<00:00,  2.25s/it]\n",
      "Validate (9499 / 10 Steps): 100%|██████████| 2/2 [00:11<00:00,  5.86s/it]<00:51,  8.54s/it]\n",
      "Training (9500 / 18000 Steps) (loss=0.33968):  29%|██▊       | 2/7 [00:21<00:57, 11.41s/it]"
     ]
    },
    {
     "name": "stdout",
     "output_type": "stream",
     "text": [
      "Model Was Not Saved ! Current Best Avg. Dice: 0.5890686511993408 Current Avg. Dice: 0.5049355030059814 Current Avg. tumor Dice: 0.5768601298332214 Current Avg. lymph Dice: 0.4330108165740967\n"
     ]
    },
    {
     "name": "stderr",
     "output_type": "stream",
     "text": [
      "Training (9505 / 18000 Steps) (loss=0.34022): 100%|██████████| 7/7 [00:29<00:00,  4.18s/it]\n",
      "Training (9512 / 18000 Steps) (loss=0.49132): 100%|██████████| 7/7 [00:15<00:00,  2.24s/it]\n",
      "Training (9519 / 18000 Steps) (loss=0.39872): 100%|██████████| 7/7 [00:17<00:00,  2.49s/it]\n",
      "Training (9526 / 18000 Steps) (loss=0.37478): 100%|██████████| 7/7 [00:15<00:00,  2.19s/it]\n",
      "Training (9533 / 18000 Steps) (loss=0.15767): 100%|██████████| 7/7 [00:15<00:00,  2.28s/it]\n",
      "Training (9540 / 18000 Steps) (loss=0.31540): 100%|██████████| 7/7 [00:16<00:00,  2.30s/it]\n",
      "Training (9547 / 18000 Steps) (loss=0.18149): 100%|██████████| 7/7 [00:15<00:00,  2.17s/it]\n",
      "Training (9554 / 18000 Steps) (loss=0.33133): 100%|██████████| 7/7 [00:15<00:00,  2.26s/it]\n",
      "Training (9561 / 18000 Steps) (loss=0.46114): 100%|██████████| 7/7 [00:16<00:00,  2.31s/it]\n",
      "Training (9568 / 18000 Steps) (loss=0.28055): 100%|██████████| 7/7 [00:15<00:00,  2.20s/it]\n",
      "Training (9575 / 18000 Steps) (loss=0.30489): 100%|██████████| 7/7 [00:16<00:00,  2.37s/it]\n",
      "Training (9582 / 18000 Steps) (loss=0.25760): 100%|██████████| 7/7 [00:16<00:00,  2.31s/it]\n",
      "Training (9589 / 18000 Steps) (loss=0.20414): 100%|██████████| 7/7 [00:15<00:00,  2.27s/it]\n",
      "Training (9596 / 18000 Steps) (loss=0.39679): 100%|██████████| 7/7 [00:17<00:00,  2.44s/it]\n",
      "Validate (9597 / 10 Steps): 100%|██████████| 2/2 [00:12<00:00,  6.05s/it]<00:11,  2.81s/it]\n",
      "Training (9600 / 18000 Steps) (loss=0.38925):  57%|█████▋    | 4/7 [00:24<00:21,  7.18s/it]"
     ]
    },
    {
     "name": "stdout",
     "output_type": "stream",
     "text": [
      "Model Was Not Saved ! Current Best Avg. Dice: 0.5890686511993408 Current Avg. Dice: 0.5323929190635681 Current Avg. tumor Dice: 0.6150357723236084 Current Avg. lymph Dice: 0.4497501254081726\n"
     ]
    },
    {
     "name": "stderr",
     "output_type": "stream",
     "text": [
      "Training (9603 / 18000 Steps) (loss=0.32764): 100%|██████████| 7/7 [00:28<00:00,  4.03s/it]\n",
      "Training (9610 / 18000 Steps) (loss=0.26282): 100%|██████████| 7/7 [00:17<00:00,  2.48s/it]\n",
      "Training (9617 / 18000 Steps) (loss=0.24723): 100%|██████████| 7/7 [00:16<00:00,  2.34s/it]\n",
      "Training (9624 / 18000 Steps) (loss=0.30205): 100%|██████████| 7/7 [00:16<00:00,  2.41s/it]\n",
      "Training (9631 / 18000 Steps) (loss=0.46358): 100%|██████████| 7/7 [00:16<00:00,  2.41s/it]\n",
      "Training (9638 / 18000 Steps) (loss=0.27771): 100%|██████████| 7/7 [00:16<00:00,  2.42s/it]\n",
      "Training (9645 / 18000 Steps) (loss=0.39114): 100%|██████████| 7/7 [00:15<00:00,  2.20s/it]\n",
      "Training (9652 / 18000 Steps) (loss=0.44821): 100%|██████████| 7/7 [00:15<00:00,  2.23s/it]\n",
      "Training (9659 / 18000 Steps) (loss=0.28592): 100%|██████████| 7/7 [00:16<00:00,  2.38s/it]\n",
      "Training (9666 / 18000 Steps) (loss=0.25048): 100%|██████████| 7/7 [00:15<00:00,  2.28s/it]\n",
      "Training (9673 / 18000 Steps) (loss=0.53179): 100%|██████████| 7/7 [00:15<00:00,  2.22s/it]\n",
      "Training (9680 / 18000 Steps) (loss=0.29017): 100%|██████████| 7/7 [00:15<00:00,  2.22s/it]\n",
      "Training (9687 / 18000 Steps) (loss=0.33798): 100%|██████████| 7/7 [00:15<00:00,  2.19s/it]\n",
      "Training (9694 / 18000 Steps) (loss=0.27928): 100%|██████████| 7/7 [00:17<00:00,  2.49s/it]\n",
      "Validate (9695 / 10 Steps): 100%|██████████| 2/2 [00:11<00:00,  5.88s/it]<00:04,  2.21s/it]\n",
      "Training (9700 / 18000 Steps) (loss=0.25615):  86%|████████▌ | 6/7 [00:28<00:06,  6.03s/it]"
     ]
    },
    {
     "name": "stdout",
     "output_type": "stream",
     "text": [
      "Model Was Not Saved ! Current Best Avg. Dice: 0.5890686511993408 Current Avg. Dice: 0.5840944051742554 Current Avg. tumor Dice: 0.5948823690414429 Current Avg. lymph Dice: 0.5733065605163574\n"
     ]
    },
    {
     "name": "stderr",
     "output_type": "stream",
     "text": [
      "Training (9701 / 18000 Steps) (loss=0.17146): 100%|██████████| 7/7 [00:29<00:00,  4.21s/it]\n",
      "Training (9708 / 18000 Steps) (loss=0.34836): 100%|██████████| 7/7 [00:17<00:00,  2.48s/it]\n",
      "Training (9715 / 18000 Steps) (loss=0.33492): 100%|██████████| 7/7 [00:16<00:00,  2.34s/it]\n",
      "Training (9722 / 18000 Steps) (loss=0.47052): 100%|██████████| 7/7 [00:15<00:00,  2.25s/it]\n",
      "Training (9729 / 18000 Steps) (loss=0.50939): 100%|██████████| 7/7 [00:16<00:00,  2.33s/it]\n",
      "Training (9736 / 18000 Steps) (loss=0.30535): 100%|██████████| 7/7 [00:16<00:00,  2.40s/it]\n",
      "Training (9743 / 18000 Steps) (loss=0.45917): 100%|██████████| 7/7 [00:17<00:00,  2.49s/it]\n",
      "Training (9750 / 18000 Steps) (loss=0.28184): 100%|██████████| 7/7 [00:17<00:00,  2.43s/it]\n",
      "Training (9757 / 18000 Steps) (loss=0.37497): 100%|██████████| 7/7 [00:17<00:00,  2.50s/it]\n",
      "Training (9764 / 18000 Steps) (loss=0.24617): 100%|██████████| 7/7 [00:15<00:00,  2.25s/it]\n",
      "Training (9771 / 18000 Steps) (loss=0.38304): 100%|██████████| 7/7 [00:16<00:00,  2.31s/it]\n",
      "Training (9778 / 18000 Steps) (loss=0.11376): 100%|██████████| 7/7 [00:15<00:00,  2.26s/it]\n",
      "Training (9785 / 18000 Steps) (loss=0.26438): 100%|██████████| 7/7 [00:17<00:00,  2.46s/it]\n",
      "Training (9792 / 18000 Steps) (loss=0.18404): 100%|██████████| 7/7 [00:16<00:00,  2.42s/it]\n",
      "Training (9799 / 18000 Steps) (loss=0.28446): 100%|██████████| 7/7 [00:16<00:00,  2.30s/it]\n",
      "Validate (9800 / 10 Steps): 100%|██████████| 2/2 [00:11<00:00,  5.91s/it]<?, ?it/s]\n",
      "Training (9800 / 18000 Steps) (loss=0.21018):  14%|█▍        | 1/7 [00:20<02:00, 20.16s/it]"
     ]
    },
    {
     "name": "stdout",
     "output_type": "stream",
     "text": [
      "Model Was Not Saved ! Current Best Avg. Dice: 0.5890686511993408 Current Avg. Dice: 0.4878469705581665 Current Avg. tumor Dice: 0.452338308095932 Current Avg. lymph Dice: 0.5233556628227234\n"
     ]
    },
    {
     "name": "stderr",
     "output_type": "stream",
     "text": [
      "Training (9806 / 18000 Steps) (loss=0.24000): 100%|██████████| 7/7 [00:29<00:00,  4.15s/it]\n",
      "Training (9813 / 18000 Steps) (loss=0.32251): 100%|██████████| 7/7 [00:16<00:00,  2.29s/it]\n",
      "Training (9820 / 18000 Steps) (loss=0.32416): 100%|██████████| 7/7 [00:16<00:00,  2.33s/it]\n",
      "Training (9827 / 18000 Steps) (loss=0.27367): 100%|██████████| 7/7 [00:16<00:00,  2.40s/it]\n",
      "Training (9834 / 18000 Steps) (loss=0.38935): 100%|██████████| 7/7 [00:15<00:00,  2.26s/it]\n",
      "Training (9841 / 18000 Steps) (loss=0.27154): 100%|██████████| 7/7 [00:15<00:00,  2.28s/it]\n",
      "Training (9848 / 18000 Steps) (loss=0.40426): 100%|██████████| 7/7 [00:15<00:00,  2.28s/it]\n",
      "Training (9855 / 18000 Steps) (loss=0.24188): 100%|██████████| 7/7 [00:16<00:00,  2.42s/it]\n",
      "Training (9862 / 18000 Steps) (loss=0.25288): 100%|██████████| 7/7 [00:17<00:00,  2.47s/it]\n",
      "Training (9869 / 18000 Steps) (loss=0.24694): 100%|██████████| 7/7 [00:16<00:00,  2.30s/it]\n",
      "Training (9876 / 18000 Steps) (loss=0.11923): 100%|██████████| 7/7 [00:15<00:00,  2.21s/it]\n",
      "Training (9883 / 18000 Steps) (loss=0.25816): 100%|██████████| 7/7 [00:15<00:00,  2.26s/it]\n",
      "Training (9890 / 18000 Steps) (loss=0.22665): 100%|██████████| 7/7 [00:15<00:00,  2.26s/it]\n",
      "Training (9897 / 18000 Steps) (loss=0.26230): 100%|██████████| 7/7 [00:15<00:00,  2.17s/it]\n",
      "Validate (9898 / 10 Steps): 100%|██████████| 2/2 [00:12<00:00,  6.01s/it]<00:19,  3.97s/it]\n",
      "Training (9900 / 18000 Steps) (loss=0.21031):  43%|████▎     | 3/7 [00:22<00:33,  8.41s/it]"
     ]
    },
    {
     "name": "stdout",
     "output_type": "stream",
     "text": [
      "Model Was Not Saved ! Current Best Avg. Dice: 0.5890686511993408 Current Avg. Dice: 0.5417645573616028 Current Avg. tumor Dice: 0.624798595905304 Current Avg. lymph Dice: 0.45873039960861206\n"
     ]
    },
    {
     "name": "stderr",
     "output_type": "stream",
     "text": [
      "Training (9904 / 18000 Steps) (loss=0.25204): 100%|██████████| 7/7 [00:28<00:00,  4.05s/it]\n",
      "Training (9911 / 18000 Steps) (loss=0.50700): 100%|██████████| 7/7 [00:16<00:00,  2.37s/it]\n",
      "Training (9918 / 18000 Steps) (loss=0.23158): 100%|██████████| 7/7 [00:15<00:00,  2.19s/it]\n",
      "Training (9925 / 18000 Steps) (loss=0.53109): 100%|██████████| 7/7 [00:16<00:00,  2.29s/it]\n",
      "Training (9932 / 18000 Steps) (loss=0.24461): 100%|██████████| 7/7 [00:15<00:00,  2.28s/it]\n",
      "Training (9939 / 18000 Steps) (loss=0.54063): 100%|██████████| 7/7 [00:18<00:00,  2.57s/it]\n",
      "Training (9946 / 18000 Steps) (loss=0.37931): 100%|██████████| 7/7 [00:17<00:00,  2.48s/it]\n",
      "Training (9953 / 18000 Steps) (loss=0.33784): 100%|██████████| 7/7 [00:17<00:00,  2.44s/it]\n",
      "Training (9960 / 18000 Steps) (loss=0.10781): 100%|██████████| 7/7 [00:16<00:00,  2.32s/it]\n",
      "Training (9967 / 18000 Steps) (loss=0.38954): 100%|██████████| 7/7 [00:16<00:00,  2.30s/it]\n",
      "Training (9974 / 18000 Steps) (loss=0.26441): 100%|██████████| 7/7 [00:15<00:00,  2.19s/it]\n",
      "Training (9981 / 18000 Steps) (loss=0.46235): 100%|██████████| 7/7 [00:16<00:00,  2.33s/it]\n",
      "Training (9988 / 18000 Steps) (loss=0.26298): 100%|██████████| 7/7 [00:16<00:00,  2.32s/it]\n",
      "Training (9995 / 18000 Steps) (loss=0.26001): 100%|██████████| 7/7 [00:15<00:00,  2.26s/it]\n",
      "Validate (9996 / 10 Steps): 100%|██████████| 2/2 [00:11<00:00,  5.84s/it]3<00:06,  2.30s/it]\n",
      "Training (10000 / 18000 Steps) (loss=0.42865):  71%|███████▏  | 5/7 [00:24<00:12,  6.30s/it]"
     ]
    },
    {
     "name": "stdout",
     "output_type": "stream",
     "text": [
      "Model Was Not Saved ! Current Best Avg. Dice: 0.5890686511993408 Current Avg. Dice: 0.5729177594184875 Current Avg. tumor Dice: 0.6084205508232117 Current Avg. lymph Dice: 0.5374149084091187\n"
     ]
    },
    {
     "name": "stderr",
     "output_type": "stream",
     "text": [
      "Training (10002 / 18000 Steps) (loss=0.35590): 100%|██████████| 7/7 [00:27<00:00,  3.93s/it]\n",
      "Training (10009 / 18000 Steps) (loss=0.14221): 100%|██████████| 7/7 [00:17<00:00,  2.55s/it]\n",
      "Training (10016 / 18000 Steps) (loss=0.46343): 100%|██████████| 7/7 [00:16<00:00,  2.39s/it]\n",
      "Training (10023 / 18000 Steps) (loss=0.37929): 100%|██████████| 7/7 [00:16<00:00,  2.37s/it]\n",
      "Training (10030 / 18000 Steps) (loss=0.27147): 100%|██████████| 7/7 [00:16<00:00,  2.41s/it]\n",
      "Training (10037 / 18000 Steps) (loss=0.53814): 100%|██████████| 7/7 [00:15<00:00,  2.27s/it]\n",
      "Training (10044 / 18000 Steps) (loss=0.41323): 100%|██████████| 7/7 [00:16<00:00,  2.39s/it]\n",
      "Training (10051 / 18000 Steps) (loss=0.47827): 100%|██████████| 7/7 [00:16<00:00,  2.35s/it]\n",
      "Training (10058 / 18000 Steps) (loss=0.39834): 100%|██████████| 7/7 [00:15<00:00,  2.19s/it]\n",
      "Training (10065 / 18000 Steps) (loss=0.24294): 100%|██████████| 7/7 [00:17<00:00,  2.46s/it]\n",
      "Training (10072 / 18000 Steps) (loss=0.52796): 100%|██████████| 7/7 [00:15<00:00,  2.24s/it]\n",
      "Training (10079 / 18000 Steps) (loss=0.21884): 100%|██████████| 7/7 [00:16<00:00,  2.36s/it]\n",
      "Training (10086 / 18000 Steps) (loss=0.46227): 100%|██████████| 7/7 [00:15<00:00,  2.28s/it]\n",
      "Training (10093 / 18000 Steps) (loss=0.48714): 100%|██████████| 7/7 [00:16<00:00,  2.34s/it]\n",
      "Validate (10094 / 10 Steps): 100%|██████████| 2/2 [00:12<00:00,  6.05s/it]<00:01,  1.99s/it]\n",
      "Training (10100 / 18000 Steps) (loss=0.30548): 100%|██████████| 7/7 [00:29<00:00,  4.22s/it]\n"
     ]
    },
    {
     "name": "stdout",
     "output_type": "stream",
     "text": [
      "Model Was Not Saved ! Current Best Avg. Dice: 0.5890686511993408 Current Avg. Dice: 0.5399332046508789 Current Avg. tumor Dice: 0.6389695405960083 Current Avg. lymph Dice: 0.4408968687057495\n"
     ]
    },
    {
     "name": "stderr",
     "output_type": "stream",
     "text": [
      "Training (10107 / 18000 Steps) (loss=0.22924): 100%|██████████| 7/7 [00:16<00:00,  2.35s/it]\n",
      "Training (10114 / 18000 Steps) (loss=0.35481): 100%|██████████| 7/7 [00:17<00:00,  2.44s/it]\n",
      "Training (10121 / 18000 Steps) (loss=0.35183): 100%|██████████| 7/7 [00:15<00:00,  2.20s/it]\n",
      "Training (10128 / 18000 Steps) (loss=0.39672): 100%|██████████| 7/7 [00:15<00:00,  2.23s/it]\n",
      "Training (10135 / 18000 Steps) (loss=0.44158): 100%|██████████| 7/7 [00:16<00:00,  2.34s/it]\n",
      "Training (10142 / 18000 Steps) (loss=0.16789): 100%|██████████| 7/7 [00:15<00:00,  2.22s/it]\n",
      "Training (10149 / 18000 Steps) (loss=0.25135): 100%|██████████| 7/7 [00:15<00:00,  2.20s/it]\n",
      "Training (10156 / 18000 Steps) (loss=0.24497): 100%|██████████| 7/7 [00:17<00:00,  2.44s/it]\n",
      "Training (10163 / 18000 Steps) (loss=0.39809): 100%|██████████| 7/7 [00:15<00:00,  2.22s/it]\n",
      "Training (10170 / 18000 Steps) (loss=0.32425): 100%|██████████| 7/7 [00:16<00:00,  2.38s/it]\n",
      "Training (10177 / 18000 Steps) (loss=0.09969): 100%|██████████| 7/7 [00:15<00:00,  2.24s/it]\n",
      "Training (10184 / 18000 Steps) (loss=0.47063): 100%|██████████| 7/7 [00:16<00:00,  2.39s/it]\n",
      "Training (10191 / 18000 Steps) (loss=0.42003): 100%|██████████| 7/7 [00:15<00:00,  2.24s/it]\n",
      "Training (10198 / 18000 Steps) (loss=0.35088): 100%|██████████| 7/7 [00:16<00:00,  2.29s/it]\n",
      "Validate (10199 / 10 Steps): 100%|██████████| 2/2 [00:11<00:00,  5.78s/it]<00:48,  8.09s/it]\n",
      "Training (10200 / 18000 Steps) (loss=0.38753):  29%|██▊       | 2/7 [00:21<00:55, 11.12s/it]"
     ]
    },
    {
     "name": "stdout",
     "output_type": "stream",
     "text": [
      "Model Was Not Saved ! Current Best Avg. Dice: 0.5890686511993408 Current Avg. Dice: 0.5604546070098877 Current Avg. tumor Dice: 0.58957439661026 Current Avg. lymph Dice: 0.5313349366188049\n"
     ]
    },
    {
     "name": "stderr",
     "output_type": "stream",
     "text": [
      "Training (10205 / 18000 Steps) (loss=0.45675): 100%|██████████| 7/7 [00:28<00:00,  4.09s/it]\n",
      "Training (10212 / 18000 Steps) (loss=0.44528): 100%|██████████| 7/7 [00:17<00:00,  2.50s/it]\n",
      "Training (10219 / 18000 Steps) (loss=0.10837): 100%|██████████| 7/7 [00:16<00:00,  2.39s/it]\n",
      "Training (10226 / 18000 Steps) (loss=0.43253): 100%|██████████| 7/7 [00:17<00:00,  2.50s/it]\n",
      "Training (10233 / 18000 Steps) (loss=0.27031): 100%|██████████| 7/7 [00:15<00:00,  2.24s/it]\n",
      "Training (10240 / 18000 Steps) (loss=0.25693): 100%|██████████| 7/7 [00:16<00:00,  2.35s/it]\n",
      "Training (10247 / 18000 Steps) (loss=0.28536): 100%|██████████| 7/7 [00:16<00:00,  2.40s/it]\n",
      "Training (10254 / 18000 Steps) (loss=0.16082): 100%|██████████| 7/7 [00:15<00:00,  2.22s/it]\n",
      "Training (10261 / 18000 Steps) (loss=0.39175): 100%|██████████| 7/7 [00:16<00:00,  2.32s/it]\n",
      "Training (10268 / 18000 Steps) (loss=0.50602): 100%|██████████| 7/7 [00:16<00:00,  2.31s/it]\n",
      "Training (10275 / 18000 Steps) (loss=0.49843): 100%|██████████| 7/7 [00:17<00:00,  2.49s/it]\n",
      "Training (10282 / 18000 Steps) (loss=0.41459): 100%|██████████| 7/7 [00:16<00:00,  2.42s/it]\n",
      "Training (10289 / 18000 Steps) (loss=0.33925): 100%|██████████| 7/7 [00:15<00:00,  2.23s/it]\n",
      "Training (10296 / 18000 Steps) (loss=0.23105): 100%|██████████| 7/7 [00:15<00:00,  2.28s/it]\n",
      "Validate (10297 / 10 Steps): 100%|██████████| 2/2 [00:11<00:00,  5.91s/it]<00:10,  2.69s/it]\n",
      "Training (10300 / 18000 Steps) (loss=0.31919):  57%|█████▋    | 4/7 [00:23<00:20,  6.96s/it]"
     ]
    },
    {
     "name": "stdout",
     "output_type": "stream",
     "text": [
      "Model Was Not Saved ! Current Best Avg. Dice: 0.5890686511993408 Current Avg. Dice: 0.5374635457992554 Current Avg. tumor Dice: 0.5897907018661499 Current Avg. lymph Dice: 0.48513638973236084\n"
     ]
    },
    {
     "name": "stderr",
     "output_type": "stream",
     "text": [
      "Training (10303 / 18000 Steps) (loss=0.24630): 100%|██████████| 7/7 [00:27<00:00,  3.90s/it]\n",
      "Training (10310 / 18000 Steps) (loss=0.09635): 100%|██████████| 7/7 [00:15<00:00,  2.28s/it]\n",
      "Training (10317 / 18000 Steps) (loss=0.37858): 100%|██████████| 7/7 [00:16<00:00,  2.33s/it]\n",
      "Training (10324 / 18000 Steps) (loss=0.26063): 100%|██████████| 7/7 [00:16<00:00,  2.37s/it]\n",
      "Training (10331 / 18000 Steps) (loss=0.18221): 100%|██████████| 7/7 [00:16<00:00,  2.30s/it]\n",
      "Training (10338 / 18000 Steps) (loss=0.37781): 100%|██████████| 7/7 [00:15<00:00,  2.19s/it]\n",
      "Training (10345 / 18000 Steps) (loss=0.52927): 100%|██████████| 7/7 [00:15<00:00,  2.27s/it]\n",
      "Training (10352 / 18000 Steps) (loss=0.37344): 100%|██████████| 7/7 [00:17<00:00,  2.50s/it]\n",
      "Training (10359 / 18000 Steps) (loss=0.19892): 100%|██████████| 7/7 [00:16<00:00,  2.35s/it]\n",
      "Training (10366 / 18000 Steps) (loss=0.26026): 100%|██████████| 7/7 [00:15<00:00,  2.21s/it]\n",
      "Training (10373 / 18000 Steps) (loss=0.39380): 100%|██████████| 7/7 [00:15<00:00,  2.25s/it]\n",
      "Training (10380 / 18000 Steps) (loss=0.39927): 100%|██████████| 7/7 [00:15<00:00,  2.19s/it]\n",
      "Training (10387 / 18000 Steps) (loss=0.22856): 100%|██████████| 7/7 [00:16<00:00,  2.32s/it]\n",
      "Training (10394 / 18000 Steps) (loss=0.36252): 100%|██████████| 7/7 [00:16<00:00,  2.31s/it]\n",
      "Validate (10395 / 10 Steps): 100%|██████████| 2/2 [00:11<00:00,  5.95s/it]<00:04,  2.20s/it]\n",
      "Training (10400 / 18000 Steps) (loss=0.33142):  86%|████████▌ | 6/7 [00:28<00:06,  6.07s/it]"
     ]
    },
    {
     "name": "stdout",
     "output_type": "stream",
     "text": [
      "Model Was Not Saved ! Current Best Avg. Dice: 0.5890686511993408 Current Avg. Dice: 0.5433976054191589 Current Avg. tumor Dice: 0.6273655891418457 Current Avg. lymph Dice: 0.45942962169647217\n"
     ]
    },
    {
     "name": "stderr",
     "output_type": "stream",
     "text": [
      "Training (10401 / 18000 Steps) (loss=0.26009): 100%|██████████| 7/7 [00:29<00:00,  4.20s/it]\n",
      "Training (10408 / 18000 Steps) (loss=0.45925): 100%|██████████| 7/7 [00:17<00:00,  2.45s/it]\n",
      "Training (10415 / 18000 Steps) (loss=0.39514): 100%|██████████| 7/7 [00:16<00:00,  2.35s/it]\n",
      "Training (10422 / 18000 Steps) (loss=0.36021): 100%|██████████| 7/7 [00:16<00:00,  2.35s/it]\n",
      "Training (10429 / 18000 Steps) (loss=0.38260): 100%|██████████| 7/7 [00:16<00:00,  2.35s/it]\n",
      "Training (10436 / 18000 Steps) (loss=0.24097): 100%|██████████| 7/7 [00:16<00:00,  2.33s/it]\n",
      "Training (10443 / 18000 Steps) (loss=0.11610): 100%|██████████| 7/7 [00:15<00:00,  2.21s/it]\n",
      "Training (10450 / 18000 Steps) (loss=0.17980): 100%|██████████| 7/7 [00:16<00:00,  2.38s/it]\n",
      "Training (10457 / 18000 Steps) (loss=0.14706): 100%|██████████| 7/7 [00:16<00:00,  2.34s/it]\n",
      "Training (10464 / 18000 Steps) (loss=0.26306): 100%|██████████| 7/7 [00:16<00:00,  2.41s/it]\n",
      "Training (10471 / 18000 Steps) (loss=0.29666): 100%|██████████| 7/7 [00:16<00:00,  2.31s/it]\n",
      "Training (10478 / 18000 Steps) (loss=0.19749): 100%|██████████| 7/7 [00:15<00:00,  2.27s/it]\n",
      "Training (10485 / 18000 Steps) (loss=0.31910): 100%|██████████| 7/7 [00:16<00:00,  2.39s/it]\n",
      "Training (10492 / 18000 Steps) (loss=0.46874): 100%|██████████| 7/7 [00:17<00:00,  2.49s/it]\n",
      "Training (10499 / 18000 Steps) (loss=0.39692): 100%|██████████| 7/7 [00:17<00:00,  2.49s/it]\n",
      "Validate (10500 / 10 Steps): 100%|██████████| 2/2 [00:11<00:00,  5.97s/it]<?, ?it/s]\n",
      "Training (10500 / 18000 Steps) (loss=0.27702):  14%|█▍        | 1/7 [00:19<01:57, 19.56s/it]"
     ]
    },
    {
     "name": "stdout",
     "output_type": "stream",
     "text": [
      "Model Was Not Saved ! Current Best Avg. Dice: 0.5890686511993408 Current Avg. Dice: 0.4799284338951111 Current Avg. tumor Dice: 0.5390957593917847 Current Avg. lymph Dice: 0.42076101899147034\n"
     ]
    },
    {
     "name": "stderr",
     "output_type": "stream",
     "text": [
      "Training (10506 / 18000 Steps) (loss=0.31700): 100%|██████████| 7/7 [00:28<00:00,  4.06s/it]\n",
      "Training (10513 / 18000 Steps) (loss=0.33523): 100%|██████████| 7/7 [00:15<00:00,  2.26s/it]\n",
      "Training (10520 / 18000 Steps) (loss=0.40514): 100%|██████████| 7/7 [00:15<00:00,  2.26s/it]\n",
      "Training (10527 / 18000 Steps) (loss=0.50331): 100%|██████████| 7/7 [00:15<00:00,  2.23s/it]\n",
      "Training (10534 / 18000 Steps) (loss=0.66673): 100%|██████████| 7/7 [00:15<00:00,  2.24s/it]\n",
      "Training (10541 / 18000 Steps) (loss=0.43453): 100%|██████████| 7/7 [00:16<00:00,  2.37s/it]\n",
      "Training (10548 / 18000 Steps) (loss=0.52665): 100%|██████████| 7/7 [00:15<00:00,  2.22s/it]\n",
      "Training (10555 / 18000 Steps) (loss=0.38836): 100%|██████████| 7/7 [00:16<00:00,  2.36s/it]\n",
      "Training (10562 / 18000 Steps) (loss=0.37980): 100%|██████████| 7/7 [00:16<00:00,  2.37s/it]\n",
      "Training (10569 / 18000 Steps) (loss=0.44613): 100%|██████████| 7/7 [00:15<00:00,  2.26s/it]\n",
      "Training (10576 / 18000 Steps) (loss=0.38650): 100%|██████████| 7/7 [00:15<00:00,  2.27s/it]\n",
      "Training (10583 / 18000 Steps) (loss=0.38839): 100%|██████████| 7/7 [00:17<00:00,  2.47s/it]\n",
      "Training (10590 / 18000 Steps) (loss=0.14028): 100%|██████████| 7/7 [00:17<00:00,  2.44s/it]\n",
      "Training (10597 / 18000 Steps) (loss=0.34646): 100%|██████████| 7/7 [00:15<00:00,  2.23s/it]\n",
      "Validate (10598 / 10 Steps): 100%|██████████| 2/2 [00:11<00:00,  5.94s/it]<00:22,  4.56s/it]\n",
      "Training (10600 / 18000 Steps) (loss=0.26757):  43%|████▎     | 3/7 [00:23<00:34,  8.67s/it]"
     ]
    },
    {
     "name": "stdout",
     "output_type": "stream",
     "text": [
      "Model Was Not Saved ! Current Best Avg. Dice: 0.5890686511993408 Current Avg. Dice: 0.5158895254135132 Current Avg. tumor Dice: 0.6259291172027588 Current Avg. lymph Dice: 0.40584999322891235\n"
     ]
    },
    {
     "name": "stderr",
     "output_type": "stream",
     "text": [
      "Training (10604 / 18000 Steps) (loss=0.24883): 100%|██████████| 7/7 [00:29<00:00,  4.24s/it]\n",
      "Training (10611 / 18000 Steps) (loss=0.35294): 100%|██████████| 7/7 [00:16<00:00,  2.30s/it]\n",
      "Training (10618 / 18000 Steps) (loss=0.39827): 100%|██████████| 7/7 [00:15<00:00,  2.25s/it]\n",
      "Training (10625 / 18000 Steps) (loss=0.52692): 100%|██████████| 7/7 [00:15<00:00,  2.23s/it]\n",
      "Training (10632 / 18000 Steps) (loss=0.34119): 100%|██████████| 7/7 [00:15<00:00,  2.23s/it]\n",
      "Training (10639 / 18000 Steps) (loss=0.35003): 100%|██████████| 7/7 [00:15<00:00,  2.17s/it]\n",
      "Training (10646 / 18000 Steps) (loss=0.26253): 100%|██████████| 7/7 [00:16<00:00,  2.32s/it]\n",
      "Training (10653 / 18000 Steps) (loss=0.37511): 100%|██████████| 7/7 [00:16<00:00,  2.31s/it]\n",
      "Training (10660 / 18000 Steps) (loss=0.27017): 100%|██████████| 7/7 [00:16<00:00,  2.42s/it]\n",
      "Training (10667 / 18000 Steps) (loss=0.25592): 100%|██████████| 7/7 [00:17<00:00,  2.47s/it]\n",
      "Training (10674 / 18000 Steps) (loss=0.52214): 100%|██████████| 7/7 [00:16<00:00,  2.36s/it]\n",
      "Training (10681 / 18000 Steps) (loss=0.46366): 100%|██████████| 7/7 [00:15<00:00,  2.23s/it]\n",
      "Training (10688 / 18000 Steps) (loss=0.54893): 100%|██████████| 7/7 [00:17<00:00,  2.52s/it]\n",
      "Training (10695 / 18000 Steps) (loss=0.10922): 100%|██████████| 7/7 [00:16<00:00,  2.35s/it]\n",
      "Validate (10696 / 10 Steps): 100%|██████████| 2/2 [00:11<00:00,  5.79s/it]<00:06,  2.29s/it]\n",
      "Training (10700 / 18000 Steps) (loss=0.35561):  71%|███████▏  | 5/7 [00:24<00:12,  6.24s/it]"
     ]
    },
    {
     "name": "stdout",
     "output_type": "stream",
     "text": [
      "Model Was Not Saved ! Current Best Avg. Dice: 0.5890686511993408 Current Avg. Dice: 0.4980759024620056 Current Avg. tumor Dice: 0.5372244119644165 Current Avg. lymph Dice: 0.4589273929595947\n"
     ]
    },
    {
     "name": "stderr",
     "output_type": "stream",
     "text": [
      "Training (10702 / 18000 Steps) (loss=0.18259): 100%|██████████| 7/7 [00:27<00:00,  3.89s/it]\n",
      "Training (10709 / 18000 Steps) (loss=0.12464): 100%|██████████| 7/7 [00:16<00:00,  2.29s/it]\n",
      "Training (10716 / 18000 Steps) (loss=0.33786): 100%|██████████| 7/7 [00:16<00:00,  2.33s/it]\n",
      "Training (10723 / 18000 Steps) (loss=0.19543): 100%|██████████| 7/7 [00:15<00:00,  2.28s/it]\n",
      "Training (10730 / 18000 Steps) (loss=0.16297): 100%|██████████| 7/7 [00:15<00:00,  2.23s/it]\n",
      "Training (10737 / 18000 Steps) (loss=0.10385): 100%|██████████| 7/7 [00:16<00:00,  2.34s/it]\n",
      "Training (10744 / 18000 Steps) (loss=0.27645): 100%|██████████| 7/7 [00:17<00:00,  2.43s/it]\n",
      "Training (10751 / 18000 Steps) (loss=0.24730): 100%|██████████| 7/7 [00:17<00:00,  2.48s/it]\n",
      "Training (10758 / 18000 Steps) (loss=0.47313): 100%|██████████| 7/7 [00:16<00:00,  2.33s/it]\n",
      "Training (10765 / 18000 Steps) (loss=0.53325): 100%|██████████| 7/7 [00:16<00:00,  2.35s/it]\n",
      "Training (10772 / 18000 Steps) (loss=0.50003): 100%|██████████| 7/7 [00:15<00:00,  2.26s/it]\n",
      "Training (10779 / 18000 Steps) (loss=0.39687): 100%|██████████| 7/7 [00:15<00:00,  2.25s/it]\n",
      "Training (10786 / 18000 Steps) (loss=0.09698): 100%|██████████| 7/7 [00:15<00:00,  2.17s/it]\n",
      "Training (10793 / 18000 Steps) (loss=0.53287): 100%|██████████| 7/7 [00:15<00:00,  2.23s/it]\n",
      "Validate (10794 / 10 Steps): 100%|██████████| 2/2 [00:11<00:00,  5.82s/it]<00:01,  1.89s/it]\n",
      "Training (10800 / 18000 Steps) (loss=0.47732): 100%|██████████| 7/7 [00:27<00:00,  3.90s/it]\n"
     ]
    },
    {
     "name": "stdout",
     "output_type": "stream",
     "text": [
      "Model Was Not Saved ! Current Best Avg. Dice: 0.5890686511993408 Current Avg. Dice: 0.562728762626648 Current Avg. tumor Dice: 0.628171443939209 Current Avg. lymph Dice: 0.4972860813140869\n"
     ]
    },
    {
     "name": "stderr",
     "output_type": "stream",
     "text": [
      "Training (10807 / 18000 Steps) (loss=0.08932): 100%|██████████| 7/7 [00:16<00:00,  2.39s/it]\n",
      "Training (10814 / 18000 Steps) (loss=0.33965): 100%|██████████| 7/7 [00:16<00:00,  2.35s/it]\n",
      "Training (10821 / 18000 Steps) (loss=0.25228): 100%|██████████| 7/7 [00:17<00:00,  2.46s/it]\n",
      "Training (10828 / 18000 Steps) (loss=0.43818): 100%|██████████| 7/7 [00:15<00:00,  2.26s/it]\n",
      "Training (10835 / 18000 Steps) (loss=0.52520): 100%|██████████| 7/7 [00:16<00:00,  2.38s/it]\n",
      "Training (10842 / 18000 Steps) (loss=0.41441): 100%|██████████| 7/7 [00:15<00:00,  2.27s/it]\n",
      "Training (10849 / 18000 Steps) (loss=0.40006): 100%|██████████| 7/7 [00:16<00:00,  2.40s/it]\n",
      "Training (10856 / 18000 Steps) (loss=0.23067): 100%|██████████| 7/7 [00:15<00:00,  2.21s/it]\n",
      "Training (10863 / 18000 Steps) (loss=0.53518): 100%|██████████| 7/7 [00:15<00:00,  2.25s/it]\n",
      "Training (10870 / 18000 Steps) (loss=0.40671): 100%|██████████| 7/7 [00:16<00:00,  2.33s/it]\n",
      "Training (10877 / 18000 Steps) (loss=0.43356): 100%|██████████| 7/7 [00:16<00:00,  2.36s/it]\n",
      "Training (10884 / 18000 Steps) (loss=0.37146): 100%|██████████| 7/7 [00:15<00:00,  2.23s/it]\n",
      "Training (10891 / 18000 Steps) (loss=0.14495): 100%|██████████| 7/7 [00:16<00:00,  2.30s/it]\n",
      "Training (10898 / 18000 Steps) (loss=0.42580): 100%|██████████| 7/7 [00:15<00:00,  2.26s/it]\n",
      "Validate (10899 / 10 Steps): 100%|██████████| 2/2 [00:11<00:00,  5.90s/it]<00:44,  7.37s/it]\n",
      "Training (10900 / 18000 Steps) (loss=0.48518):  29%|██▊       | 2/7 [00:20<00:54, 10.96s/it]"
     ]
    },
    {
     "name": "stdout",
     "output_type": "stream",
     "text": [
      "Model Was Not Saved ! Current Best Avg. Dice: 0.5890686511993408 Current Avg. Dice: 0.5461714267730713 Current Avg. tumor Dice: 0.5901048183441162 Current Avg. lymph Dice: 0.5022379755973816\n"
     ]
    },
    {
     "name": "stderr",
     "output_type": "stream",
     "text": [
      "Training (10905 / 18000 Steps) (loss=0.23531): 100%|██████████| 7/7 [00:28<00:00,  4.02s/it]\n",
      "Training (10912 / 18000 Steps) (loss=0.41003): 100%|██████████| 7/7 [00:16<00:00,  2.37s/it]\n",
      "Training (10919 / 18000 Steps) (loss=0.42513): 100%|██████████| 7/7 [00:17<00:00,  2.43s/it]\n",
      "Training (10926 / 18000 Steps) (loss=0.48847): 100%|██████████| 7/7 [00:16<00:00,  2.35s/it]\n",
      "Training (10933 / 18000 Steps) (loss=0.21515): 100%|██████████| 7/7 [00:16<00:00,  2.33s/it]\n",
      "Training (10940 / 18000 Steps) (loss=0.35961): 100%|██████████| 7/7 [00:16<00:00,  2.35s/it]\n",
      "Training (10947 / 18000 Steps) (loss=0.43849): 100%|██████████| 7/7 [00:15<00:00,  2.16s/it]\n",
      "Training (10954 / 18000 Steps) (loss=0.16910): 100%|██████████| 7/7 [00:16<00:00,  2.32s/it]\n",
      "Training (10961 / 18000 Steps) (loss=0.41947): 100%|██████████| 7/7 [00:16<00:00,  2.39s/it]\n",
      "Training (10968 / 18000 Steps) (loss=0.46995): 100%|██████████| 7/7 [00:16<00:00,  2.35s/it]\n",
      "Training (10975 / 18000 Steps) (loss=0.17239): 100%|██████████| 7/7 [00:15<00:00,  2.24s/it]\n",
      "Training (10982 / 18000 Steps) (loss=0.39256): 100%|██████████| 7/7 [00:16<00:00,  2.37s/it]\n",
      "Training (10989 / 18000 Steps) (loss=0.33617): 100%|██████████| 7/7 [00:16<00:00,  2.30s/it]\n",
      "Training (10996 / 18000 Steps) (loss=0.23187): 100%|██████████| 7/7 [00:17<00:00,  2.47s/it]\n",
      "Validate (10997 / 10 Steps): 100%|██████████| 2/2 [00:11<00:00,  5.83s/it]<00:11,  2.75s/it]\n",
      "Training (11000 / 18000 Steps) (loss=0.20880):  57%|█████▋    | 4/7 [00:23<00:20,  6.94s/it]"
     ]
    },
    {
     "name": "stdout",
     "output_type": "stream",
     "text": [
      "Model Was Not Saved ! Current Best Avg. Dice: 0.5890686511993408 Current Avg. Dice: 0.5317428708076477 Current Avg. tumor Dice: 0.6248756647109985 Current Avg. lymph Dice: 0.43861013650894165\n"
     ]
    },
    {
     "name": "stderr",
     "output_type": "stream",
     "text": [
      "Training (11003 / 18000 Steps) (loss=0.11307): 100%|██████████| 7/7 [00:27<00:00,  3.92s/it]\n",
      "Training (11010 / 18000 Steps) (loss=0.42582): 100%|██████████| 7/7 [00:17<00:00,  2.46s/it]\n",
      "Training (11017 / 18000 Steps) (loss=0.60262): 100%|██████████| 7/7 [00:16<00:00,  2.34s/it]\n",
      "Training (11024 / 18000 Steps) (loss=0.36843): 100%|██████████| 7/7 [00:15<00:00,  2.19s/it]\n",
      "Training (11031 / 18000 Steps) (loss=0.13761): 100%|██████████| 7/7 [00:15<00:00,  2.22s/it]\n",
      "Training (11038 / 18000 Steps) (loss=0.38027): 100%|██████████| 7/7 [00:15<00:00,  2.20s/it]\n",
      "Training (11045 / 18000 Steps) (loss=0.28283): 100%|██████████| 7/7 [00:15<00:00,  2.26s/it]\n",
      "Training (11052 / 18000 Steps) (loss=0.25346): 100%|██████████| 7/7 [00:15<00:00,  2.27s/it]\n",
      "Training (11059 / 18000 Steps) (loss=0.20283): 100%|██████████| 7/7 [00:16<00:00,  2.37s/it]\n",
      "Training (11066 / 18000 Steps) (loss=0.56097): 100%|██████████| 7/7 [00:15<00:00,  2.21s/it]\n",
      "Training (11073 / 18000 Steps) (loss=0.24901): 100%|██████████| 7/7 [00:15<00:00,  2.23s/it]\n",
      "Training (11080 / 18000 Steps) (loss=0.24506): 100%|██████████| 7/7 [00:17<00:00,  2.51s/it]\n",
      "Training (11087 / 18000 Steps) (loss=0.53651): 100%|██████████| 7/7 [00:15<00:00,  2.23s/it]\n",
      "Training (11094 / 18000 Steps) (loss=0.10483): 100%|██████████| 7/7 [00:17<00:00,  2.48s/it]\n",
      "Validate (11095 / 10 Steps): 100%|██████████| 2/2 [00:12<00:00,  6.03s/it]<00:04,  2.13s/it]\n",
      "Training (11100 / 18000 Steps) (loss=0.51851):  86%|████████▌ | 6/7 [00:27<00:06,  6.08s/it]"
     ]
    },
    {
     "name": "stdout",
     "output_type": "stream",
     "text": [
      "Model Was Not Saved ! Current Best Avg. Dice: 0.5890686511993408 Current Avg. Dice: 0.4815877079963684 Current Avg. tumor Dice: 0.5396961569786072 Current Avg. lymph Dice: 0.42347925901412964\n"
     ]
    },
    {
     "name": "stderr",
     "output_type": "stream",
     "text": [
      "Training (11101 / 18000 Steps) (loss=0.48674): 100%|██████████| 7/7 [00:28<00:00,  4.12s/it]\n",
      "Training (11108 / 18000 Steps) (loss=0.24454): 100%|██████████| 7/7 [00:16<00:00,  2.33s/it]\n",
      "Training (11115 / 18000 Steps) (loss=0.47356): 100%|██████████| 7/7 [00:17<00:00,  2.45s/it]\n",
      "Training (11122 / 18000 Steps) (loss=0.53438): 100%|██████████| 7/7 [00:15<00:00,  2.23s/it]\n",
      "Training (11129 / 18000 Steps) (loss=0.54426): 100%|██████████| 7/7 [00:16<00:00,  2.30s/it]\n",
      "Training (11136 / 18000 Steps) (loss=0.41058): 100%|██████████| 7/7 [00:16<00:00,  2.31s/it]\n",
      "Training (11143 / 18000 Steps) (loss=0.48812): 100%|██████████| 7/7 [00:15<00:00,  2.25s/it]\n",
      "Training (11150 / 18000 Steps) (loss=0.24458): 100%|██████████| 7/7 [00:15<00:00,  2.21s/it]\n",
      "Training (11157 / 18000 Steps) (loss=0.18057): 100%|██████████| 7/7 [00:16<00:00,  2.41s/it]\n",
      "Training (11164 / 18000 Steps) (loss=0.31147): 100%|██████████| 7/7 [00:16<00:00,  2.36s/it]\n",
      "Training (11171 / 18000 Steps) (loss=0.59495): 100%|██████████| 7/7 [00:16<00:00,  2.30s/it]\n",
      "Training (11178 / 18000 Steps) (loss=0.38440): 100%|██████████| 7/7 [00:16<00:00,  2.32s/it]\n",
      "Training (11185 / 18000 Steps) (loss=0.37729): 100%|██████████| 7/7 [00:15<00:00,  2.27s/it]\n",
      "Training (11192 / 18000 Steps) (loss=0.34332): 100%|██████████| 7/7 [00:16<00:00,  2.30s/it]\n",
      "Training (11199 / 18000 Steps) (loss=0.25270): 100%|██████████| 7/7 [00:15<00:00,  2.25s/it]\n",
      "Validate (11200 / 10 Steps): 100%|██████████| 2/2 [00:11<00:00,  5.95s/it]<?, ?it/s]\n",
      "Training (11200 / 18000 Steps) (loss=0.49841):  14%|█▍        | 1/7 [00:18<01:49, 18.25s/it]"
     ]
    },
    {
     "name": "stdout",
     "output_type": "stream",
     "text": [
      "Model Was Not Saved ! Current Best Avg. Dice: 0.5890686511993408 Current Avg. Dice: 0.47204017639160156 Current Avg. tumor Dice: 0.48000600934028625 Current Avg. lymph Dice: 0.4640743136405945\n"
     ]
    },
    {
     "name": "stderr",
     "output_type": "stream",
     "text": [
      "Training (11206 / 18000 Steps) (loss=0.13280): 100%|██████████| 7/7 [00:27<00:00,  3.88s/it]\n",
      "Training (11213 / 18000 Steps) (loss=0.31833): 100%|██████████| 7/7 [00:15<00:00,  2.19s/it]\n",
      "Training (11220 / 18000 Steps) (loss=0.39683): 100%|██████████| 7/7 [00:15<00:00,  2.20s/it]\n",
      "Training (11227 / 18000 Steps) (loss=0.22546): 100%|██████████| 7/7 [00:16<00:00,  2.39s/it]\n",
      "Training (11234 / 18000 Steps) (loss=0.10738): 100%|██████████| 7/7 [00:15<00:00,  2.21s/it]\n",
      "Training (11241 / 18000 Steps) (loss=0.24884): 100%|██████████| 7/7 [00:16<00:00,  2.41s/it]\n",
      "Training (11248 / 18000 Steps) (loss=0.66697): 100%|██████████| 7/7 [00:15<00:00,  2.27s/it]\n",
      "Training (11255 / 18000 Steps) (loss=0.22302): 100%|██████████| 7/7 [00:15<00:00,  2.20s/it]\n",
      "Training (11262 / 18000 Steps) (loss=0.34116): 100%|██████████| 7/7 [00:16<00:00,  2.33s/it]\n",
      "Training (11269 / 18000 Steps) (loss=0.36327): 100%|██████████| 7/7 [00:16<00:00,  2.34s/it]\n",
      "Training (11276 / 18000 Steps) (loss=0.31315): 100%|██████████| 7/7 [00:16<00:00,  2.34s/it]\n",
      "Training (11283 / 18000 Steps) (loss=0.28645): 100%|██████████| 7/7 [00:16<00:00,  2.32s/it]\n",
      "Training (11290 / 18000 Steps) (loss=0.46775): 100%|██████████| 7/7 [00:16<00:00,  2.31s/it]\n",
      "Training (11297 / 18000 Steps) (loss=0.42889): 100%|██████████| 7/7 [00:15<00:00,  2.26s/it]\n",
      "Validate (11298 / 10 Steps): 100%|██████████| 2/2 [00:11<00:00,  5.84s/it]<00:22,  4.55s/it]\n",
      "Training (11300 / 18000 Steps) (loss=0.36826):  43%|████▎     | 3/7 [00:23<00:34,  8.57s/it]"
     ]
    },
    {
     "name": "stdout",
     "output_type": "stream",
     "text": [
      "Model Was Not Saved ! Current Best Avg. Dice: 0.5890686511993408 Current Avg. Dice: 0.514573335647583 Current Avg. tumor Dice: 0.5437067747116089 Current Avg. lymph Dice: 0.4854399561882019\n"
     ]
    },
    {
     "name": "stderr",
     "output_type": "stream",
     "text": [
      "Training (11304 / 18000 Steps) (loss=0.34136): 100%|██████████| 7/7 [00:29<00:00,  4.20s/it]\n",
      "Training (11311 / 18000 Steps) (loss=0.38629): 100%|██████████| 7/7 [00:16<00:00,  2.34s/it]\n",
      "Training (11318 / 18000 Steps) (loss=0.34663): 100%|██████████| 7/7 [00:15<00:00,  2.27s/it]\n",
      "Training (11325 / 18000 Steps) (loss=0.45247): 100%|██████████| 7/7 [00:16<00:00,  2.35s/it]\n",
      "Training (11332 / 18000 Steps) (loss=0.23894): 100%|██████████| 7/7 [00:15<00:00,  2.28s/it]\n",
      "Training (11339 / 18000 Steps) (loss=0.16498): 100%|██████████| 7/7 [00:16<00:00,  2.37s/it]\n",
      "Training (11346 / 18000 Steps) (loss=0.38406): 100%|██████████| 7/7 [00:16<00:00,  2.29s/it]\n",
      "Training (11353 / 18000 Steps) (loss=0.39561): 100%|██████████| 7/7 [00:15<00:00,  2.25s/it]\n",
      "Training (11360 / 18000 Steps) (loss=0.18649): 100%|██████████| 7/7 [00:15<00:00,  2.20s/it]\n",
      "Training (11367 / 18000 Steps) (loss=0.30183): 100%|██████████| 7/7 [00:15<00:00,  2.28s/it]\n",
      "Training (11374 / 18000 Steps) (loss=0.27320): 100%|██████████| 7/7 [00:16<00:00,  2.38s/it]\n",
      "Training (11381 / 18000 Steps) (loss=0.54378): 100%|██████████| 7/7 [00:15<00:00,  2.19s/it]\n",
      "Training (11388 / 18000 Steps) (loss=0.23963): 100%|██████████| 7/7 [00:15<00:00,  2.22s/it]\n",
      "Training (11395 / 18000 Steps) (loss=0.35681): 100%|██████████| 7/7 [00:16<00:00,  2.31s/it]\n",
      "Validate (11396 / 10 Steps): 100%|██████████| 2/2 [00:12<00:00,  6.19s/it]<00:07,  2.36s/it]\n",
      "Training (11400 / 18000 Steps) (loss=0.22542):  71%|███████▏  | 5/7 [00:26<00:13,  6.58s/it]"
     ]
    },
    {
     "name": "stdout",
     "output_type": "stream",
     "text": [
      "Model Was Not Saved ! Current Best Avg. Dice: 0.5890686511993408 Current Avg. Dice: 0.5644333362579346 Current Avg. tumor Dice: 0.6012290120124817 Current Avg. lymph Dice: 0.5276376008987427\n"
     ]
    },
    {
     "name": "stderr",
     "output_type": "stream",
     "text": [
      "Training (11402 / 18000 Steps) (loss=0.32968): 100%|██████████| 7/7 [00:28<00:00,  4.09s/it]\n",
      "Training (11409 / 18000 Steps) (loss=0.48843): 100%|██████████| 7/7 [00:16<00:00,  2.31s/it]\n",
      "Training (11416 / 18000 Steps) (loss=0.38581): 100%|██████████| 7/7 [00:16<00:00,  2.36s/it]\n",
      "Training (11423 / 18000 Steps) (loss=0.46338): 100%|██████████| 7/7 [00:17<00:00,  2.47s/it]\n",
      "Training (11430 / 18000 Steps) (loss=0.32905): 100%|██████████| 7/7 [00:15<00:00,  2.27s/it]\n",
      "Training (11437 / 18000 Steps) (loss=0.19981): 100%|██████████| 7/7 [00:15<00:00,  2.26s/it]\n",
      "Training (11444 / 18000 Steps) (loss=0.26655): 100%|██████████| 7/7 [00:15<00:00,  2.24s/it]\n",
      "Training (11451 / 18000 Steps) (loss=0.60415): 100%|██████████| 7/7 [00:15<00:00,  2.25s/it]\n",
      "Training (11458 / 18000 Steps) (loss=0.33899): 100%|██████████| 7/7 [00:15<00:00,  2.27s/it]\n",
      "Training (11465 / 18000 Steps) (loss=0.45922): 100%|██████████| 7/7 [00:16<00:00,  2.42s/it]\n",
      "Training (11472 / 18000 Steps) (loss=0.48241): 100%|██████████| 7/7 [00:15<00:00,  2.24s/it]\n",
      "Training (11479 / 18000 Steps) (loss=0.43507): 100%|██████████| 7/7 [00:16<00:00,  2.29s/it]\n",
      "Training (11486 / 18000 Steps) (loss=0.53388): 100%|██████████| 7/7 [00:16<00:00,  2.36s/it]\n",
      "Training (11493 / 18000 Steps) (loss=0.19863): 100%|██████████| 7/7 [00:16<00:00,  2.30s/it]\n",
      "Validate (11494 / 10 Steps): 100%|██████████| 2/2 [00:11<00:00,  5.94s/it]<00:01,  1.94s/it]\n",
      "Training (11500 / 18000 Steps) (loss=0.08742): 100%|██████████| 7/7 [00:28<00:00,  4.06s/it]\n"
     ]
    },
    {
     "name": "stdout",
     "output_type": "stream",
     "text": [
      "Model Was Not Saved ! Current Best Avg. Dice: 0.5890686511993408 Current Avg. Dice: 0.5254782438278198 Current Avg. tumor Dice: 0.5617724061012268 Current Avg. lymph Dice: 0.4891841411590576\n"
     ]
    },
    {
     "name": "stderr",
     "output_type": "stream",
     "text": [
      "Training (11507 / 18000 Steps) (loss=0.52541): 100%|██████████| 7/7 [00:16<00:00,  2.43s/it]\n",
      "Training (11514 / 18000 Steps) (loss=0.52642): 100%|██████████| 7/7 [00:16<00:00,  2.32s/it]\n",
      "Training (11521 / 18000 Steps) (loss=0.49510): 100%|██████████| 7/7 [00:15<00:00,  2.26s/it]\n",
      "Training (11528 / 18000 Steps) (loss=0.37317): 100%|██████████| 7/7 [00:16<00:00,  2.42s/it]\n",
      "Training (11535 / 18000 Steps) (loss=0.27073): 100%|██████████| 7/7 [00:16<00:00,  2.37s/it]\n",
      "Training (11542 / 18000 Steps) (loss=0.28273): 100%|██████████| 7/7 [00:16<00:00,  2.38s/it]\n",
      "Training (11549 / 18000 Steps) (loss=0.42959): 100%|██████████| 7/7 [00:15<00:00,  2.19s/it]\n",
      "Training (11556 / 18000 Steps) (loss=0.47815): 100%|██████████| 7/7 [00:16<00:00,  2.33s/it]\n",
      "Training (11563 / 18000 Steps) (loss=0.32888): 100%|██████████| 7/7 [00:16<00:00,  2.37s/it]\n",
      "Training (11570 / 18000 Steps) (loss=0.26132): 100%|██████████| 7/7 [00:17<00:00,  2.51s/it]\n",
      "Training (11577 / 18000 Steps) (loss=0.12366): 100%|██████████| 7/7 [00:16<00:00,  2.33s/it]\n",
      "Training (11584 / 18000 Steps) (loss=0.28577): 100%|██████████| 7/7 [00:17<00:00,  2.56s/it]\n",
      "Training (11591 / 18000 Steps) (loss=0.10970): 100%|██████████| 7/7 [00:15<00:00,  2.20s/it]\n",
      "Training (11598 / 18000 Steps) (loss=0.11802): 100%|██████████| 7/7 [00:15<00:00,  2.22s/it]\n",
      "Validate (11599 / 10 Steps): 100%|██████████| 2/2 [00:11<00:00,  5.85s/it]<00:44,  7.39s/it]\n",
      "Training (11600 / 18000 Steps) (loss=0.23283):  29%|██▊       | 2/7 [00:20<00:54, 10.92s/it]"
     ]
    },
    {
     "name": "stdout",
     "output_type": "stream",
     "text": [
      "Model Was Not Saved ! Current Best Avg. Dice: 0.5890686511993408 Current Avg. Dice: 0.5631008744239807 Current Avg. tumor Dice: 0.6099855899810791 Current Avg. lymph Dice: 0.5162161588668823\n"
     ]
    },
    {
     "name": "stderr",
     "output_type": "stream",
     "text": [
      "Training (11605 / 18000 Steps) (loss=0.42663): 100%|██████████| 7/7 [00:28<00:00,  4.01s/it]\n",
      "Training (11612 / 18000 Steps) (loss=0.52592): 100%|██████████| 7/7 [00:16<00:00,  2.35s/it]\n",
      "Training (11619 / 18000 Steps) (loss=0.38427): 100%|██████████| 7/7 [00:16<00:00,  2.39s/it]\n",
      "Training (11626 / 18000 Steps) (loss=0.32331): 100%|██████████| 7/7 [00:15<00:00,  2.20s/it]\n",
      "Training (11633 / 18000 Steps) (loss=0.27390): 100%|██████████| 7/7 [00:16<00:00,  2.30s/it]\n",
      "Training (11640 / 18000 Steps) (loss=0.35164): 100%|██████████| 7/7 [00:17<00:00,  2.50s/it]\n",
      "Training (11647 / 18000 Steps) (loss=0.18635): 100%|██████████| 7/7 [00:16<00:00,  2.39s/it]\n",
      "Training (11654 / 18000 Steps) (loss=0.47905): 100%|██████████| 7/7 [00:17<00:00,  2.50s/it]\n",
      "Training (11661 / 18000 Steps) (loss=0.35982): 100%|██████████| 7/7 [00:17<00:00,  2.53s/it]\n",
      "Training (11668 / 18000 Steps) (loss=0.53308): 100%|██████████| 7/7 [00:17<00:00,  2.53s/it]\n",
      "Training (11675 / 18000 Steps) (loss=0.54746): 100%|██████████| 7/7 [00:15<00:00,  2.25s/it]\n",
      "Training (11682 / 18000 Steps) (loss=0.11365): 100%|██████████| 7/7 [00:16<00:00,  2.35s/it]\n",
      "Training (11689 / 18000 Steps) (loss=0.26784): 100%|██████████| 7/7 [00:15<00:00,  2.19s/it]\n",
      "Training (11696 / 18000 Steps) (loss=0.22109): 100%|██████████| 7/7 [00:16<00:00,  2.32s/it]\n",
      "Validate (11697 / 10 Steps): 100%|██████████| 2/2 [00:11<00:00,  5.87s/it]<00:12,  3.18s/it]\n",
      "Training (11700 / 18000 Steps) (loss=0.40144):  57%|█████▋    | 4/7 [00:25<00:21,  7.22s/it]"
     ]
    },
    {
     "name": "stdout",
     "output_type": "stream",
     "text": [
      "Model Was Not Saved ! Current Best Avg. Dice: 0.5890686511993408 Current Avg. Dice: 0.46741384267807007 Current Avg. tumor Dice: 0.5197276473045349 Current Avg. lymph Dice: 0.4151000380516052\n"
     ]
    },
    {
     "name": "stderr",
     "output_type": "stream",
     "text": [
      "Training (11703 / 18000 Steps) (loss=0.35707): 100%|██████████| 7/7 [00:29<00:00,  4.19s/it]\n",
      "Training (11710 / 18000 Steps) (loss=0.24345): 100%|██████████| 7/7 [00:15<00:00,  2.21s/it]\n",
      "Training (11717 / 18000 Steps) (loss=0.40188): 100%|██████████| 7/7 [00:15<00:00,  2.20s/it]\n",
      "Training (11724 / 18000 Steps) (loss=0.46740): 100%|██████████| 7/7 [00:16<00:00,  2.31s/it]\n",
      "Training (11731 / 18000 Steps) (loss=0.44767): 100%|██████████| 7/7 [00:16<00:00,  2.35s/it]\n",
      "Training (11738 / 18000 Steps) (loss=0.25927): 100%|██████████| 7/7 [00:16<00:00,  2.30s/it]\n",
      "Training (11745 / 18000 Steps) (loss=0.52828): 100%|██████████| 7/7 [00:15<00:00,  2.27s/it]\n",
      "Training (11752 / 18000 Steps) (loss=0.38169): 100%|██████████| 7/7 [00:16<00:00,  2.37s/it]\n",
      "Training (11759 / 18000 Steps) (loss=0.31503): 100%|██████████| 7/7 [00:16<00:00,  2.32s/it]\n",
      "Training (11766 / 18000 Steps) (loss=0.53682): 100%|██████████| 7/7 [00:15<00:00,  2.22s/it]\n",
      "Training (11773 / 18000 Steps) (loss=0.39124): 100%|██████████| 7/7 [00:17<00:00,  2.44s/it]\n",
      "Training (11780 / 18000 Steps) (loss=0.10328): 100%|██████████| 7/7 [00:15<00:00,  2.19s/it]\n",
      "Training (11787 / 18000 Steps) (loss=0.17562): 100%|██████████| 7/7 [00:15<00:00,  2.28s/it]\n",
      "Training (11794 / 18000 Steps) (loss=0.52822): 100%|██████████| 7/7 [00:15<00:00,  2.26s/it]\n",
      "Validate (11795 / 10 Steps): 100%|██████████| 2/2 [00:11<00:00,  5.93s/it]<00:04,  2.09s/it]\n",
      "Training (11800 / 18000 Steps) (loss=0.34213):  86%|████████▌ | 6/7 [00:27<00:05,  5.98s/it]"
     ]
    },
    {
     "name": "stdout",
     "output_type": "stream",
     "text": [
      "Model Was Not Saved ! Current Best Avg. Dice: 0.5890686511993408 Current Avg. Dice: 0.5804129242897034 Current Avg. tumor Dice: 0.6262789964675903 Current Avg. lymph Dice: 0.5345469117164612\n"
     ]
    },
    {
     "name": "stderr",
     "output_type": "stream",
     "text": [
      "Training (11801 / 18000 Steps) (loss=0.43781): 100%|██████████| 7/7 [00:27<00:00,  3.99s/it]\n",
      "Training (11808 / 18000 Steps) (loss=0.25326): 100%|██████████| 7/7 [00:17<00:00,  2.46s/it]\n",
      "Training (11815 / 18000 Steps) (loss=0.39136): 100%|██████████| 7/7 [00:16<00:00,  2.29s/it]\n",
      "Training (11822 / 18000 Steps) (loss=0.38248): 100%|██████████| 7/7 [00:16<00:00,  2.30s/it]\n",
      "Training (11829 / 18000 Steps) (loss=0.25264): 100%|██████████| 7/7 [00:17<00:00,  2.47s/it]\n",
      "Training (11836 / 18000 Steps) (loss=0.26422): 100%|██████████| 7/7 [00:15<00:00,  2.20s/it]\n",
      "Training (11843 / 18000 Steps) (loss=0.32280): 100%|██████████| 7/7 [00:16<00:00,  2.34s/it]\n",
      "Training (11850 / 18000 Steps) (loss=0.46465): 100%|██████████| 7/7 [00:16<00:00,  2.36s/it]\n",
      "Training (11857 / 18000 Steps) (loss=0.46611): 100%|██████████| 7/7 [00:15<00:00,  2.25s/it]\n",
      "Training (11864 / 18000 Steps) (loss=0.46029): 100%|██████████| 7/7 [00:15<00:00,  2.21s/it]\n",
      "Training (11871 / 18000 Steps) (loss=0.37497): 100%|██████████| 7/7 [00:15<00:00,  2.28s/it]\n",
      "Training (11878 / 18000 Steps) (loss=0.39531): 100%|██████████| 7/7 [00:16<00:00,  2.38s/it]\n",
      "Training (11885 / 18000 Steps) (loss=0.12422): 100%|██████████| 7/7 [00:16<00:00,  2.29s/it]\n",
      "Training (11892 / 18000 Steps) (loss=0.24776): 100%|██████████| 7/7 [00:17<00:00,  2.50s/it]\n",
      "Training (11899 / 18000 Steps) (loss=0.46205): 100%|██████████| 7/7 [00:17<00:00,  2.48s/it]\n",
      "Validate (11900 / 10 Steps): 100%|██████████| 2/2 [00:11<00:00,  5.95s/it]<?, ?it/s]\n",
      "Training (11900 / 18000 Steps) (loss=0.38702):  14%|█▍        | 1/7 [00:19<01:55, 19.21s/it]"
     ]
    },
    {
     "name": "stdout",
     "output_type": "stream",
     "text": [
      "Model Was Not Saved ! Current Best Avg. Dice: 0.5890686511993408 Current Avg. Dice: 0.5734531879425049 Current Avg. tumor Dice: 0.6111739277839661 Current Avg. lymph Dice: 0.5357324481010437\n"
     ]
    },
    {
     "name": "stderr",
     "output_type": "stream",
     "text": [
      "Training (11906 / 18000 Steps) (loss=0.38156): 100%|██████████| 7/7 [00:28<00:00,  4.01s/it]\n",
      "Training (11913 / 18000 Steps) (loss=0.30249): 100%|██████████| 7/7 [00:16<00:00,  2.36s/it]\n",
      "Training (11920 / 18000 Steps) (loss=0.38707): 100%|██████████| 7/7 [00:17<00:00,  2.43s/it]\n",
      "Training (11927 / 18000 Steps) (loss=0.61500): 100%|██████████| 7/7 [00:15<00:00,  2.20s/it]\n",
      "Training (11934 / 18000 Steps) (loss=0.26662): 100%|██████████| 7/7 [00:15<00:00,  2.21s/it]\n",
      "Training (11941 / 18000 Steps) (loss=0.25329): 100%|██████████| 7/7 [00:15<00:00,  2.26s/it]\n",
      "Training (11948 / 18000 Steps) (loss=0.25982): 100%|██████████| 7/7 [00:15<00:00,  2.24s/it]\n",
      "Training (11955 / 18000 Steps) (loss=0.25399): 100%|██████████| 7/7 [00:15<00:00,  2.18s/it]\n",
      "Training (11962 / 18000 Steps) (loss=0.30505): 100%|██████████| 7/7 [00:16<00:00,  2.32s/it]\n",
      "Training (11969 / 18000 Steps) (loss=0.37880): 100%|██████████| 7/7 [00:15<00:00,  2.27s/it]\n",
      "Training (11976 / 18000 Steps) (loss=0.16586): 100%|██████████| 7/7 [00:16<00:00,  2.32s/it]\n",
      "Training (11983 / 18000 Steps) (loss=0.37645): 100%|██████████| 7/7 [00:15<00:00,  2.20s/it]\n",
      "Training (11990 / 18000 Steps) (loss=0.21044): 100%|██████████| 7/7 [00:15<00:00,  2.28s/it]\n",
      "Training (11997 / 18000 Steps) (loss=0.37630): 100%|██████████| 7/7 [00:17<00:00,  2.50s/it]\n",
      "Validate (11998 / 10 Steps): 100%|██████████| 2/2 [00:12<00:00,  6.00s/it]<00:18,  3.79s/it]\n",
      "Training (12000 / 18000 Steps) (loss=0.49220):  43%|████▎     | 3/7 [00:22<00:33,  8.32s/it]"
     ]
    },
    {
     "name": "stdout",
     "output_type": "stream",
     "text": [
      "Model Was Not Saved ! Current Best Avg. Dice: 0.5890686511993408 Current Avg. Dice: 0.5562928318977356 Current Avg. tumor Dice: 0.6358504295349121 Current Avg. lymph Dice: 0.4767352342605591\n"
     ]
    },
    {
     "name": "stderr",
     "output_type": "stream",
     "text": [
      "Training (12004 / 18000 Steps) (loss=0.31280): 100%|██████████| 7/7 [00:27<00:00,  3.99s/it]\n",
      "Training (12011 / 18000 Steps) (loss=0.24198): 100%|██████████| 7/7 [00:17<00:00,  2.48s/it]\n",
      "Training (12018 / 18000 Steps) (loss=0.09530): 100%|██████████| 7/7 [00:15<00:00,  2.22s/it]\n",
      "Training (12025 / 18000 Steps) (loss=0.32028): 100%|██████████| 7/7 [00:16<00:00,  2.42s/it]\n",
      "Training (12032 / 18000 Steps) (loss=0.25652): 100%|██████████| 7/7 [00:16<00:00,  2.32s/it]\n",
      "Training (12039 / 18000 Steps) (loss=0.11677): 100%|██████████| 7/7 [00:15<00:00,  2.27s/it]\n",
      "Training (12046 / 18000 Steps) (loss=0.31179): 100%|██████████| 7/7 [00:16<00:00,  2.40s/it]\n",
      "Training (12053 / 18000 Steps) (loss=0.37217): 100%|██████████| 7/7 [00:16<00:00,  2.33s/it]\n",
      "Training (12060 / 18000 Steps) (loss=0.39777): 100%|██████████| 7/7 [00:16<00:00,  2.30s/it]\n",
      "Training (12067 / 18000 Steps) (loss=0.17407): 100%|██████████| 7/7 [00:16<00:00,  2.30s/it]\n",
      "Training (12074 / 18000 Steps) (loss=0.47099): 100%|██████████| 7/7 [00:16<00:00,  2.32s/it]\n",
      "Training (12081 / 18000 Steps) (loss=0.53233): 100%|██████████| 7/7 [00:16<00:00,  2.29s/it]\n",
      "Training (12088 / 18000 Steps) (loss=0.10001): 100%|██████████| 7/7 [00:15<00:00,  2.24s/it]\n",
      "Training (12095 / 18000 Steps) (loss=0.55407): 100%|██████████| 7/7 [00:16<00:00,  2.37s/it]\n",
      "Validate (12096 / 10 Steps): 100%|██████████| 2/2 [00:11<00:00,  5.86s/it]<00:07,  2.52s/it]\n",
      "Training (12100 / 18000 Steps) (loss=0.38250):  71%|███████▏  | 5/7 [00:26<00:12,  6.44s/it]"
     ]
    },
    {
     "name": "stdout",
     "output_type": "stream",
     "text": [
      "Model Was Not Saved ! Current Best Avg. Dice: 0.5890686511993408 Current Avg. Dice: 0.5349215269088745 Current Avg. tumor Dice: 0.580950140953064 Current Avg. lymph Dice: 0.48889291286468506\n"
     ]
    },
    {
     "name": "stderr",
     "output_type": "stream",
     "text": [
      "Training (12102 / 18000 Steps) (loss=0.25549): 100%|██████████| 7/7 [00:29<00:00,  4.16s/it]\n",
      "Training (12109 / 18000 Steps) (loss=0.52031): 100%|██████████| 7/7 [00:15<00:00,  2.28s/it]\n",
      "Training (12116 / 18000 Steps) (loss=0.52732): 100%|██████████| 7/7 [00:16<00:00,  2.40s/it]\n",
      "Training (12123 / 18000 Steps) (loss=0.25877): 100%|██████████| 7/7 [00:15<00:00,  2.25s/it]\n",
      "Training (12130 / 18000 Steps) (loss=0.39294): 100%|██████████| 7/7 [00:16<00:00,  2.29s/it]\n",
      "Training (12137 / 18000 Steps) (loss=0.26152): 100%|██████████| 7/7 [00:16<00:00,  2.33s/it]\n",
      "Training (12144 / 18000 Steps) (loss=0.26385): 100%|██████████| 7/7 [00:15<00:00,  2.20s/it]\n",
      "Training (12151 / 18000 Steps) (loss=0.40270): 100%|██████████| 7/7 [00:15<00:00,  2.28s/it]\n",
      "Training (12158 / 18000 Steps) (loss=0.30483): 100%|██████████| 7/7 [00:16<00:00,  2.35s/it]\n",
      "Training (12165 / 18000 Steps) (loss=0.35391): 100%|██████████| 7/7 [00:17<00:00,  2.45s/it]\n",
      "Training (12172 / 18000 Steps) (loss=0.44503): 100%|██████████| 7/7 [00:17<00:00,  2.50s/it]\n",
      "Training (12179 / 18000 Steps) (loss=0.45082): 100%|██████████| 7/7 [00:16<00:00,  2.32s/it]\n",
      "Training (12186 / 18000 Steps) (loss=0.16851): 100%|██████████| 7/7 [00:15<00:00,  2.22s/it]\n",
      "Training (12193 / 18000 Steps) (loss=0.24423): 100%|██████████| 7/7 [00:15<00:00,  2.20s/it]\n",
      "Validate (12194 / 10 Steps): 100%|██████████| 2/2 [00:11<00:00,  5.83s/it]<00:01,  1.88s/it]\n",
      "Training (12200 / 18000 Steps) (loss=0.10631): 100%|██████████| 7/7 [00:27<00:00,  3.87s/it]\n"
     ]
    },
    {
     "name": "stdout",
     "output_type": "stream",
     "text": [
      "Model Was Not Saved ! Current Best Avg. Dice: 0.5890686511993408 Current Avg. Dice: 0.5438197255134583 Current Avg. tumor Dice: 0.5853369235992432 Current Avg. lymph Dice: 0.5023024678230286\n"
     ]
    },
    {
     "name": "stderr",
     "output_type": "stream",
     "text": [
      "Training (12207 / 18000 Steps) (loss=0.46029): 100%|██████████| 7/7 [00:15<00:00,  2.19s/it]\n",
      "Training (12214 / 18000 Steps) (loss=0.24524): 100%|██████████| 7/7 [00:16<00:00,  2.39s/it]\n",
      "Training (12221 / 18000 Steps) (loss=0.31043): 100%|██████████| 7/7 [00:16<00:00,  2.38s/it]\n",
      "Training (12228 / 18000 Steps) (loss=0.38037): 100%|██████████| 7/7 [00:17<00:00,  2.49s/it]\n",
      "Training (12235 / 18000 Steps) (loss=0.27695): 100%|██████████| 7/7 [00:15<00:00,  2.25s/it]\n",
      "Training (12242 / 18000 Steps) (loss=0.11324): 100%|██████████| 7/7 [00:15<00:00,  2.27s/it]\n",
      "Training (12249 / 18000 Steps) (loss=0.25230): 100%|██████████| 7/7 [00:17<00:00,  2.45s/it]\n",
      "Training (12256 / 18000 Steps) (loss=0.52747): 100%|██████████| 7/7 [00:16<00:00,  2.36s/it]\n",
      "Training (12263 / 18000 Steps) (loss=0.50142): 100%|██████████| 7/7 [00:16<00:00,  2.35s/it]\n",
      "Training (12270 / 18000 Steps) (loss=0.38254): 100%|██████████| 7/7 [00:16<00:00,  2.38s/it]\n",
      "Training (12277 / 18000 Steps) (loss=0.60149): 100%|██████████| 7/7 [00:15<00:00,  2.24s/it]\n",
      "Training (12284 / 18000 Steps) (loss=0.34849): 100%|██████████| 7/7 [00:16<00:00,  2.31s/it]\n",
      "Training (12291 / 18000 Steps) (loss=0.40074): 100%|██████████| 7/7 [00:15<00:00,  2.18s/it]\n",
      "Training (12298 / 18000 Steps) (loss=0.39091): 100%|██████████| 7/7 [00:15<00:00,  2.26s/it]\n",
      "Validate (12299 / 10 Steps): 100%|██████████| 2/2 [00:11<00:00,  5.94s/it]<00:47,  7.83s/it]\n",
      "Training (12300 / 18000 Steps) (loss=0.29605):  29%|██▊       | 2/7 [00:21<00:56, 11.20s/it]"
     ]
    },
    {
     "name": "stdout",
     "output_type": "stream",
     "text": [
      "Model Was Not Saved ! Current Best Avg. Dice: 0.5890686511993408 Current Avg. Dice: 0.5504562854766846 Current Avg. tumor Dice: 0.626727283000946 Current Avg. lymph Dice: 0.4741852283477783\n"
     ]
    },
    {
     "name": "stderr",
     "output_type": "stream",
     "text": [
      "Training (12305 / 18000 Steps) (loss=0.26085): 100%|██████████| 7/7 [00:28<00:00,  4.10s/it]\n",
      "Training (12312 / 18000 Steps) (loss=0.39816): 100%|██████████| 7/7 [00:15<00:00,  2.24s/it]\n",
      "Training (12319 / 18000 Steps) (loss=0.52952): 100%|██████████| 7/7 [00:15<00:00,  2.28s/it]\n",
      "Training (12326 / 18000 Steps) (loss=0.32933): 100%|██████████| 7/7 [00:15<00:00,  2.27s/it]\n",
      "Training (12333 / 18000 Steps) (loss=0.24291): 100%|██████████| 7/7 [00:16<00:00,  2.32s/it]\n",
      "Training (12340 / 18000 Steps) (loss=0.24493): 100%|██████████| 7/7 [00:17<00:00,  2.51s/it]\n",
      "Training (12347 / 18000 Steps) (loss=0.33524): 100%|██████████| 7/7 [00:16<00:00,  2.29s/it]\n",
      "Training (12354 / 18000 Steps) (loss=0.39033): 100%|██████████| 7/7 [00:15<00:00,  2.20s/it]\n",
      "Training (12361 / 18000 Steps) (loss=0.33062): 100%|██████████| 7/7 [00:16<00:00,  2.29s/it]\n",
      "Training (12368 / 18000 Steps) (loss=0.38695): 100%|██████████| 7/7 [00:16<00:00,  2.29s/it]\n",
      "Training (12375 / 18000 Steps) (loss=0.39741): 100%|██████████| 7/7 [00:15<00:00,  2.24s/it]\n",
      "Training (12382 / 18000 Steps) (loss=0.32660): 100%|██████████| 7/7 [00:16<00:00,  2.36s/it]\n",
      "Training (12389 / 18000 Steps) (loss=0.53333): 100%|██████████| 7/7 [00:15<00:00,  2.27s/it]\n",
      "Training (12396 / 18000 Steps) (loss=0.31680): 100%|██████████| 7/7 [00:16<00:00,  2.37s/it]\n",
      "Validate (12397 / 10 Steps): 100%|██████████| 2/2 [00:11<00:00,  5.89s/it]<00:10,  2.66s/it]\n",
      "Training (12400 / 18000 Steps) (loss=0.31626):  57%|█████▋    | 4/7 [00:23<00:20,  6.92s/it]"
     ]
    },
    {
     "name": "stdout",
     "output_type": "stream",
     "text": [
      "Model Was Not Saved ! Current Best Avg. Dice: 0.5890686511993408 Current Avg. Dice: 0.54407799243927 Current Avg. tumor Dice: 0.5918829441070557 Current Avg. lymph Dice: 0.4962730407714844\n"
     ]
    },
    {
     "name": "stderr",
     "output_type": "stream",
     "text": [
      "Training (12403 / 18000 Steps) (loss=0.16506): 100%|██████████| 7/7 [00:27<00:00,  3.87s/it]\n",
      "Training (12410 / 18000 Steps) (loss=0.24958): 100%|██████████| 7/7 [00:16<00:00,  2.36s/it]\n",
      "Training (12417 / 18000 Steps) (loss=0.17642): 100%|██████████| 7/7 [00:16<00:00,  2.32s/it]\n",
      "Training (12424 / 18000 Steps) (loss=0.31131): 100%|██████████| 7/7 [00:16<00:00,  2.33s/it]\n",
      "Training (12431 / 18000 Steps) (loss=0.35970): 100%|██████████| 7/7 [00:16<00:00,  2.31s/it]\n",
      "Training (12438 / 18000 Steps) (loss=0.31981): 100%|██████████| 7/7 [00:15<00:00,  2.24s/it]\n",
      "Training (12445 / 18000 Steps) (loss=0.37639): 100%|██████████| 7/7 [00:17<00:00,  2.43s/it]\n",
      "Training (12452 / 18000 Steps) (loss=0.39463): 100%|██████████| 7/7 [00:17<00:00,  2.44s/it]\n",
      "Training (12459 / 18000 Steps) (loss=0.16851): 100%|██████████| 7/7 [00:15<00:00,  2.23s/it]\n",
      "Training (12466 / 18000 Steps) (loss=0.33074): 100%|██████████| 7/7 [00:15<00:00,  2.25s/it]\n",
      "Training (12473 / 18000 Steps) (loss=0.25109): 100%|██████████| 7/7 [00:16<00:00,  2.29s/it]\n",
      "Training (12480 / 18000 Steps) (loss=0.49723): 100%|██████████| 7/7 [00:17<00:00,  2.48s/it]\n",
      "Training (12487 / 18000 Steps) (loss=0.38437): 100%|██████████| 7/7 [00:17<00:00,  2.48s/it]\n",
      "Training (12494 / 18000 Steps) (loss=0.23207): 100%|██████████| 7/7 [00:15<00:00,  2.26s/it]\n",
      "Validate (12495 / 10 Steps): 100%|██████████| 2/2 [00:11<00:00,  5.91s/it]<00:04,  2.07s/it]\n",
      "Training (12500 / 18000 Steps) (loss=0.33751):  86%|████████▌ | 6/7 [00:26<00:05,  5.96s/it]"
     ]
    },
    {
     "name": "stdout",
     "output_type": "stream",
     "text": [
      "Model Was Not Saved ! Current Best Avg. Dice: 0.5890686511993408 Current Avg. Dice: 0.5464426279067993 Current Avg. tumor Dice: 0.6128329634666443 Current Avg. lymph Dice: 0.48005223274230957\n"
     ]
    },
    {
     "name": "stderr",
     "output_type": "stream",
     "text": [
      "Training (12501 / 18000 Steps) (loss=0.30730): 100%|██████████| 7/7 [00:27<00:00,  3.97s/it]\n",
      "Training (12508 / 18000 Steps) (loss=0.41336): 100%|██████████| 7/7 [00:15<00:00,  2.28s/it]\n",
      "Training (12515 / 18000 Steps) (loss=0.38558): 100%|██████████| 7/7 [00:15<00:00,  2.28s/it]\n",
      "Training (12522 / 18000 Steps) (loss=0.10572): 100%|██████████| 7/7 [00:16<00:00,  2.31s/it]\n",
      "Training (12529 / 18000 Steps) (loss=0.39067): 100%|██████████| 7/7 [00:15<00:00,  2.27s/it]\n",
      "Training (12536 / 18000 Steps) (loss=0.19985): 100%|██████████| 7/7 [00:16<00:00,  2.32s/it]\n",
      "Training (12543 / 18000 Steps) (loss=0.31097): 100%|██████████| 7/7 [00:16<00:00,  2.33s/it]\n",
      "Training (12550 / 18000 Steps) (loss=0.24983): 100%|██████████| 7/7 [00:15<00:00,  2.18s/it]\n",
      "Training (12557 / 18000 Steps) (loss=0.39526): 100%|██████████| 7/7 [00:15<00:00,  2.23s/it]\n",
      "Training (12564 / 18000 Steps) (loss=0.60426): 100%|██████████| 7/7 [00:17<00:00,  2.46s/it]\n",
      "Training (12571 / 18000 Steps) (loss=0.52626): 100%|██████████| 7/7 [00:16<00:00,  2.29s/it]\n",
      "Training (12578 / 18000 Steps) (loss=0.24834): 100%|██████████| 7/7 [00:16<00:00,  2.33s/it]\n",
      "Training (12585 / 18000 Steps) (loss=0.20514): 100%|██████████| 7/7 [00:15<00:00,  2.28s/it]\n",
      "Training (12592 / 18000 Steps) (loss=0.49037): 100%|██████████| 7/7 [00:17<00:00,  2.47s/it]\n",
      "Training (12599 / 18000 Steps) (loss=0.30642): 100%|██████████| 7/7 [00:16<00:00,  2.39s/it]\n",
      "Validate (12600 / 10 Steps): 100%|██████████| 2/2 [00:11<00:00,  5.96s/it]<?, ?it/s]\n",
      "Training (12600 / 18000 Steps) (loss=0.29684):  14%|█▍        | 1/7 [00:18<01:53, 18.99s/it]"
     ]
    },
    {
     "name": "stdout",
     "output_type": "stream",
     "text": [
      "Model Was Not Saved ! Current Best Avg. Dice: 0.5890686511993408 Current Avg. Dice: 0.468756765127182 Current Avg. tumor Dice: 0.5456488728523254 Current Avg. lymph Dice: 0.3918645977973938\n"
     ]
    },
    {
     "name": "stderr",
     "output_type": "stream",
     "text": [
      "Training (12606 / 18000 Steps) (loss=0.24994): 100%|██████████| 7/7 [00:27<00:00,  3.99s/it]\n",
      "Training (12613 / 18000 Steps) (loss=0.39883): 100%|██████████| 7/7 [00:16<00:00,  2.35s/it]\n",
      "Training (12620 / 18000 Steps) (loss=0.45425): 100%|██████████| 7/7 [00:16<00:00,  2.33s/it]\n",
      "Training (12627 / 18000 Steps) (loss=0.23417): 100%|██████████| 7/7 [00:16<00:00,  2.33s/it]\n",
      "Training (12634 / 18000 Steps) (loss=0.33497): 100%|██████████| 7/7 [00:16<00:00,  2.37s/it]\n",
      "Training (12641 / 18000 Steps) (loss=0.25121): 100%|██████████| 7/7 [00:16<00:00,  2.38s/it]\n",
      "Training (12648 / 18000 Steps) (loss=0.56364): 100%|██████████| 7/7 [00:16<00:00,  2.37s/it]\n",
      "Training (12655 / 18000 Steps) (loss=0.29364): 100%|██████████| 7/7 [00:17<00:00,  2.44s/it]\n",
      "Training (12662 / 18000 Steps) (loss=0.12181): 100%|██████████| 7/7 [00:16<00:00,  2.32s/it]\n",
      "Training (12669 / 18000 Steps) (loss=0.23425): 100%|██████████| 7/7 [00:16<00:00,  2.30s/it]\n",
      "Training (12676 / 18000 Steps) (loss=0.30960): 100%|██████████| 7/7 [00:16<00:00,  2.39s/it]\n",
      "Training (12683 / 18000 Steps) (loss=0.27603): 100%|██████████| 7/7 [00:16<00:00,  2.32s/it]\n",
      "Training (12690 / 18000 Steps) (loss=0.37898): 100%|██████████| 7/7 [00:15<00:00,  2.23s/it]\n",
      "Training (12697 / 18000 Steps) (loss=0.22421): 100%|██████████| 7/7 [00:15<00:00,  2.25s/it]\n",
      "Validate (12698 / 10 Steps): 100%|██████████| 2/2 [00:11<00:00,  5.99s/it]<00:17,  3.59s/it]\n",
      "Training (12700 / 18000 Steps) (loss=0.29101):  43%|████▎     | 3/7 [00:21<00:32,  8.19s/it]"
     ]
    },
    {
     "name": "stdout",
     "output_type": "stream",
     "text": [
      "Model Was Not Saved ! Current Best Avg. Dice: 0.5890686511993408 Current Avg. Dice: 0.5404822826385498 Current Avg. tumor Dice: 0.607656717300415 Current Avg. lymph Dice: 0.47330784797668457\n"
     ]
    },
    {
     "name": "stderr",
     "output_type": "stream",
     "text": [
      "Training (12704 / 18000 Steps) (loss=0.46308): 100%|██████████| 7/7 [00:27<00:00,  3.91s/it]\n",
      "Training (12711 / 18000 Steps) (loss=0.12218): 100%|██████████| 7/7 [00:15<00:00,  2.24s/it]\n",
      "Training (12718 / 18000 Steps) (loss=0.42352): 100%|██████████| 7/7 [00:16<00:00,  2.31s/it]\n",
      "Training (12725 / 18000 Steps) (loss=0.64795): 100%|██████████| 7/7 [00:16<00:00,  2.29s/it]\n",
      "Training (12732 / 18000 Steps) (loss=0.30335): 100%|██████████| 7/7 [00:15<00:00,  2.23s/it]\n",
      "Training (12739 / 18000 Steps) (loss=0.17115): 100%|██████████| 7/7 [00:16<00:00,  2.30s/it]\n",
      "Training (12746 / 18000 Steps) (loss=0.25626): 100%|██████████| 7/7 [00:17<00:00,  2.50s/it]\n",
      "Training (12753 / 18000 Steps) (loss=0.54306): 100%|██████████| 7/7 [00:15<00:00,  2.28s/it]\n",
      "Training (12760 / 18000 Steps) (loss=0.24062): 100%|██████████| 7/7 [00:15<00:00,  2.26s/it]\n",
      "Training (12767 / 18000 Steps) (loss=0.26266): 100%|██████████| 7/7 [00:16<00:00,  2.29s/it]\n",
      "Training (12774 / 18000 Steps) (loss=0.39129): 100%|██████████| 7/7 [00:16<00:00,  2.33s/it]\n",
      "Training (12781 / 18000 Steps) (loss=0.53367): 100%|██████████| 7/7 [00:15<00:00,  2.28s/it]\n",
      "Training (12788 / 18000 Steps) (loss=0.49430): 100%|██████████| 7/7 [00:15<00:00,  2.16s/it]\n",
      "Training (12795 / 18000 Steps) (loss=0.40415): 100%|██████████| 7/7 [00:15<00:00,  2.23s/it]\n",
      "Validate (12796 / 10 Steps): 100%|██████████| 2/2 [00:12<00:00,  6.01s/it]<00:06,  2.25s/it]\n",
      "Training (12800 / 18000 Steps) (loss=0.43828):  71%|███████▏  | 5/7 [00:24<00:12,  6.39s/it]"
     ]
    },
    {
     "name": "stdout",
     "output_type": "stream",
     "text": [
      "Model Was Not Saved ! Current Best Avg. Dice: 0.5890686511993408 Current Avg. Dice: 0.4779992997646332 Current Avg. tumor Dice: 0.5531028509140015 Current Avg. lymph Dice: 0.4028957486152649\n"
     ]
    },
    {
     "name": "stderr",
     "output_type": "stream",
     "text": [
      "Training (12802 / 18000 Steps) (loss=0.45125): 100%|██████████| 7/7 [00:27<00:00,  3.92s/it]\n",
      "Training (12809 / 18000 Steps) (loss=0.45820): 100%|██████████| 7/7 [00:15<00:00,  2.24s/it]\n",
      "Training (12816 / 18000 Steps) (loss=0.30739): 100%|██████████| 7/7 [00:15<00:00,  2.22s/it]\n",
      "Training (12823 / 18000 Steps) (loss=0.24440): 100%|██████████| 7/7 [00:16<00:00,  2.43s/it]\n",
      "Training (12830 / 18000 Steps) (loss=0.15800): 100%|██████████| 7/7 [00:16<00:00,  2.34s/it]\n",
      "Training (12837 / 18000 Steps) (loss=0.09635): 100%|██████████| 7/7 [00:17<00:00,  2.45s/it]\n",
      "Training (12844 / 18000 Steps) (loss=0.24234): 100%|██████████| 7/7 [00:15<00:00,  2.26s/it]\n",
      "Training (12851 / 18000 Steps) (loss=0.42526): 100%|██████████| 7/7 [00:15<00:00,  2.20s/it]\n",
      "Training (12858 / 18000 Steps) (loss=0.11227): 100%|██████████| 7/7 [00:16<00:00,  2.41s/it]\n",
      "Training (12865 / 18000 Steps) (loss=0.09831): 100%|██████████| 7/7 [00:15<00:00,  2.23s/it]\n",
      "Training (12872 / 18000 Steps) (loss=0.21794): 100%|██████████| 7/7 [00:15<00:00,  2.26s/it]\n",
      "Training (12879 / 18000 Steps) (loss=0.39896): 100%|██████████| 7/7 [00:16<00:00,  2.30s/it]\n",
      "Training (12886 / 18000 Steps) (loss=0.23770): 100%|██████████| 7/7 [00:15<00:00,  2.27s/it]\n",
      "Training (12893 / 18000 Steps) (loss=0.17675): 100%|██████████| 7/7 [00:15<00:00,  2.23s/it]\n",
      "Validate (12894 / 10 Steps): 100%|██████████| 2/2 [00:11<00:00,  5.88s/it]<00:01,  1.91s/it]\n",
      "Training (12900 / 18000 Steps) (loss=0.34857): 100%|██████████| 7/7 [00:27<00:00,  3.97s/it]\n"
     ]
    },
    {
     "name": "stdout",
     "output_type": "stream",
     "text": [
      "Model Was Not Saved ! Current Best Avg. Dice: 0.5890686511993408 Current Avg. Dice: 0.5080863237380981 Current Avg. tumor Dice: 0.5340057611465454 Current Avg. lymph Dice: 0.4821668267250061\n"
     ]
    },
    {
     "name": "stderr",
     "output_type": "stream",
     "text": [
      "Training (12907 / 18000 Steps) (loss=0.40833): 100%|██████████| 7/7 [00:16<00:00,  2.36s/it]\n",
      "Training (12914 / 18000 Steps) (loss=0.18508): 100%|██████████| 7/7 [00:17<00:00,  2.44s/it]\n",
      "Training (12921 / 18000 Steps) (loss=0.30787): 100%|██████████| 7/7 [00:15<00:00,  2.26s/it]\n",
      "Training (12928 / 18000 Steps) (loss=0.38108): 100%|██████████| 7/7 [00:16<00:00,  2.39s/it]\n",
      "Training (12935 / 18000 Steps) (loss=0.50719): 100%|██████████| 7/7 [00:15<00:00,  2.22s/it]\n",
      "Training (12942 / 18000 Steps) (loss=0.21441): 100%|██████████| 7/7 [00:15<00:00,  2.27s/it]\n",
      "Training (12949 / 18000 Steps) (loss=0.39466): 100%|██████████| 7/7 [00:16<00:00,  2.34s/it]\n",
      "Training (12956 / 18000 Steps) (loss=0.12998): 100%|██████████| 7/7 [00:15<00:00,  2.21s/it]\n",
      "Training (12963 / 18000 Steps) (loss=0.31720): 100%|██████████| 7/7 [00:15<00:00,  2.24s/it]\n",
      "Training (12970 / 18000 Steps) (loss=0.40134): 100%|██████████| 7/7 [00:15<00:00,  2.29s/it]\n",
      "Training (12977 / 18000 Steps) (loss=0.25188): 100%|██████████| 7/7 [00:15<00:00,  2.24s/it]\n",
      "Training (12984 / 18000 Steps) (loss=0.23693): 100%|██████████| 7/7 [00:15<00:00,  2.26s/it]\n",
      "Training (12991 / 18000 Steps) (loss=0.32377): 100%|██████████| 7/7 [00:16<00:00,  2.30s/it]\n",
      "Training (12998 / 18000 Steps) (loss=0.07758): 100%|██████████| 7/7 [00:16<00:00,  2.39s/it]\n",
      "Validate (12999 / 10 Steps): 100%|██████████| 2/2 [00:11<00:00,  5.96s/it]<00:53,  8.85s/it]\n",
      "Training (13000 / 18000 Steps) (loss=0.20811):  29%|██▊       | 2/7 [00:22<00:58, 11.65s/it]"
     ]
    },
    {
     "name": "stdout",
     "output_type": "stream",
     "text": [
      "Model Was Not Saved ! Current Best Avg. Dice: 0.5890686511993408 Current Avg. Dice: 0.5750888586044312 Current Avg. tumor Dice: 0.6315916180610657 Current Avg. lymph Dice: 0.5185859799385071\n"
     ]
    },
    {
     "name": "stderr",
     "output_type": "stream",
     "text": [
      "Training (13005 / 18000 Steps) (loss=0.37369): 100%|██████████| 7/7 [00:29<00:00,  4.26s/it]\n",
      "Training (13012 / 18000 Steps) (loss=0.59653): 100%|██████████| 7/7 [00:16<00:00,  2.38s/it]\n",
      "Training (13019 / 18000 Steps) (loss=0.54169): 100%|██████████| 7/7 [00:15<00:00,  2.21s/it]\n",
      "Training (13026 / 18000 Steps) (loss=0.29517): 100%|██████████| 7/7 [00:16<00:00,  2.29s/it]\n",
      "Training (13033 / 18000 Steps) (loss=0.23714): 100%|██████████| 7/7 [00:15<00:00,  2.18s/it]\n",
      "Training (13040 / 18000 Steps) (loss=0.32842): 100%|██████████| 7/7 [00:15<00:00,  2.25s/it]\n",
      "Training (13047 / 18000 Steps) (loss=0.10607): 100%|██████████| 7/7 [00:15<00:00,  2.27s/it]\n",
      "Training (13054 / 18000 Steps) (loss=0.37612): 100%|██████████| 7/7 [00:17<00:00,  2.54s/it]\n",
      "Training (13061 / 18000 Steps) (loss=0.41728): 100%|██████████| 7/7 [00:15<00:00,  2.26s/it]\n",
      "Training (13068 / 18000 Steps) (loss=0.40281): 100%|██████████| 7/7 [00:17<00:00,  2.50s/it]\n",
      "Training (13075 / 18000 Steps) (loss=0.25034): 100%|██████████| 7/7 [00:16<00:00,  2.31s/it]\n",
      "Training (13082 / 18000 Steps) (loss=0.17686): 100%|██████████| 7/7 [00:15<00:00,  2.24s/it]\n",
      "Training (13089 / 18000 Steps) (loss=0.17677): 100%|██████████| 7/7 [00:17<00:00,  2.45s/it]\n",
      "Training (13096 / 18000 Steps) (loss=0.40344): 100%|██████████| 7/7 [00:16<00:00,  2.38s/it]\n",
      "Validate (13097 / 10 Steps): 100%|██████████| 2/2 [00:11<00:00,  5.87s/it]<00:10,  2.74s/it]\n",
      "Training (13100 / 18000 Steps) (loss=0.30565):  57%|█████▋    | 4/7 [00:23<00:20,  6.96s/it]"
     ]
    },
    {
     "name": "stdout",
     "output_type": "stream",
     "text": [
      "Model Was Not Saved ! Current Best Avg. Dice: 0.5890686511993408 Current Avg. Dice: 0.5436038970947266 Current Avg. tumor Dice: 0.6190776824951172 Current Avg. lymph Dice: 0.4681302011013031\n"
     ]
    },
    {
     "name": "stderr",
     "output_type": "stream",
     "text": [
      "Training (13103 / 18000 Steps) (loss=0.44611): 100%|██████████| 7/7 [00:27<00:00,  3.92s/it]\n",
      "Training (13110 / 18000 Steps) (loss=0.23789): 100%|██████████| 7/7 [00:16<00:00,  2.37s/it]\n",
      "Training (13117 / 18000 Steps) (loss=0.66140): 100%|██████████| 7/7 [00:15<00:00,  2.23s/it]\n",
      "Training (13124 / 18000 Steps) (loss=0.24128): 100%|██████████| 7/7 [00:15<00:00,  2.24s/it]\n",
      "Training (13131 / 18000 Steps) (loss=0.40121): 100%|██████████| 7/7 [00:16<00:00,  2.43s/it]\n",
      "Training (13138 / 18000 Steps) (loss=0.47469): 100%|██████████| 7/7 [00:16<00:00,  2.30s/it]\n",
      "Training (13145 / 18000 Steps) (loss=0.26860): 100%|██████████| 7/7 [00:15<00:00,  2.22s/it]\n",
      "Training (13152 / 18000 Steps) (loss=0.17106): 100%|██████████| 7/7 [00:15<00:00,  2.25s/it]\n",
      "Training (13159 / 18000 Steps) (loss=0.48696): 100%|██████████| 7/7 [00:16<00:00,  2.33s/it]\n",
      "Training (13166 / 18000 Steps) (loss=0.59477): 100%|██████████| 7/7 [00:17<00:00,  2.49s/it]\n",
      "Training (13173 / 18000 Steps) (loss=0.59341): 100%|██████████| 7/7 [00:16<00:00,  2.33s/it]\n",
      "Training (13180 / 18000 Steps) (loss=0.26722): 100%|██████████| 7/7 [00:16<00:00,  2.33s/it]\n",
      "Training (13187 / 18000 Steps) (loss=0.38633): 100%|██████████| 7/7 [00:15<00:00,  2.24s/it]\n",
      "Training (13194 / 18000 Steps) (loss=0.37484): 100%|██████████| 7/7 [00:16<00:00,  2.39s/it]\n",
      "Validate (13195 / 10 Steps): 100%|██████████| 2/2 [00:11<00:00,  5.88s/it]<00:04,  2.02s/it]\n",
      "Training (13200 / 18000 Steps) (loss=0.34043):  86%|████████▌ | 6/7 [00:26<00:05,  5.91s/it]"
     ]
    },
    {
     "name": "stdout",
     "output_type": "stream",
     "text": [
      "Model Was Not Saved ! Current Best Avg. Dice: 0.5890686511993408 Current Avg. Dice: 0.536314845085144 Current Avg. tumor Dice: 0.5528040528297424 Current Avg. lymph Dice: 0.5198256373405457\n"
     ]
    },
    {
     "name": "stderr",
     "output_type": "stream",
     "text": [
      "Training (13201 / 18000 Steps) (loss=0.32942): 100%|██████████| 7/7 [00:27<00:00,  3.89s/it]\n",
      "Training (13208 / 18000 Steps) (loss=0.13526): 100%|██████████| 7/7 [00:17<00:00,  2.44s/it]\n",
      "Training (13215 / 18000 Steps) (loss=0.38883): 100%|██████████| 7/7 [00:17<00:00,  2.45s/it]\n",
      "Training (13222 / 18000 Steps) (loss=0.54516): 100%|██████████| 7/7 [00:15<00:00,  2.29s/it]\n",
      "Training (13229 / 18000 Steps) (loss=0.52697): 100%|██████████| 7/7 [00:16<00:00,  2.34s/it]\n",
      "Training (13236 / 18000 Steps) (loss=0.35195): 100%|██████████| 7/7 [00:16<00:00,  2.41s/it]\n",
      "Training (13243 / 18000 Steps) (loss=0.33002): 100%|██████████| 7/7 [00:15<00:00,  2.26s/it]\n",
      "Training (13250 / 18000 Steps) (loss=0.38896): 100%|██████████| 7/7 [00:17<00:00,  2.43s/it]\n",
      "Training (13257 / 18000 Steps) (loss=0.16614): 100%|██████████| 7/7 [00:15<00:00,  2.25s/it]\n",
      "Training (13264 / 18000 Steps) (loss=0.26308): 100%|██████████| 7/7 [00:15<00:00,  2.20s/it]\n",
      "Training (13271 / 18000 Steps) (loss=0.30056): 100%|██████████| 7/7 [00:17<00:00,  2.43s/it]\n",
      "Training (13278 / 18000 Steps) (loss=0.32959): 100%|██████████| 7/7 [00:16<00:00,  2.30s/it]\n",
      "Training (13285 / 18000 Steps) (loss=0.11643): 100%|██████████| 7/7 [00:16<00:00,  2.33s/it]\n",
      "Training (13292 / 18000 Steps) (loss=0.37976): 100%|██████████| 7/7 [00:15<00:00,  2.20s/it]\n",
      "Training (13299 / 18000 Steps) (loss=0.36675): 100%|██████████| 7/7 [00:16<00:00,  2.32s/it]\n",
      "Validate (13300 / 10 Steps): 100%|██████████| 2/2 [00:12<00:00,  6.10s/it]<?, ?it/s]\n",
      "Training (13300 / 18000 Steps) (loss=0.43941):  14%|█▍        | 1/7 [00:18<01:53, 18.87s/it]"
     ]
    },
    {
     "name": "stdout",
     "output_type": "stream",
     "text": [
      "Model Was Not Saved ! Current Best Avg. Dice: 0.5890686511993408 Current Avg. Dice: 0.5317142605781555 Current Avg. tumor Dice: 0.6077945232391357 Current Avg. lymph Dice: 0.45563405752182007\n"
     ]
    },
    {
     "name": "stderr",
     "output_type": "stream",
     "text": [
      "Training (13306 / 18000 Steps) (loss=0.52596): 100%|██████████| 7/7 [00:27<00:00,  3.97s/it]\n",
      "Training (13313 / 18000 Steps) (loss=0.26098): 100%|██████████| 7/7 [00:17<00:00,  2.47s/it]\n",
      "Training (13320 / 18000 Steps) (loss=0.38793): 100%|██████████| 7/7 [00:15<00:00,  2.24s/it]\n",
      "Training (13327 / 18000 Steps) (loss=0.30913): 100%|██████████| 7/7 [00:16<00:00,  2.40s/it]\n",
      "Training (13334 / 18000 Steps) (loss=0.38801): 100%|██████████| 7/7 [00:16<00:00,  2.29s/it]\n",
      "Training (13341 / 18000 Steps) (loss=0.34163): 100%|██████████| 7/7 [00:17<00:00,  2.53s/it]\n",
      "Training (13348 / 18000 Steps) (loss=0.46779): 100%|██████████| 7/7 [00:16<00:00,  2.38s/it]\n",
      "Training (13355 / 18000 Steps) (loss=0.39549): 100%|██████████| 7/7 [00:16<00:00,  2.33s/it]\n",
      "Training (13362 / 18000 Steps) (loss=0.26107): 100%|██████████| 7/7 [00:15<00:00,  2.19s/it]\n",
      "Training (13369 / 18000 Steps) (loss=0.10540): 100%|██████████| 7/7 [00:16<00:00,  2.36s/it]\n",
      "Training (13376 / 18000 Steps) (loss=0.24414): 100%|██████████| 7/7 [00:16<00:00,  2.37s/it]\n",
      "Training (13383 / 18000 Steps) (loss=0.43973): 100%|██████████| 7/7 [00:16<00:00,  2.32s/it]\n",
      "Training (13390 / 18000 Steps) (loss=0.23301): 100%|██████████| 7/7 [00:17<00:00,  2.49s/it]\n",
      "Training (13397 / 18000 Steps) (loss=0.39172): 100%|██████████| 7/7 [00:16<00:00,  2.32s/it]\n",
      "Validate (13398 / 10 Steps): 100%|██████████| 2/2 [00:12<00:00,  6.04s/it]<00:19,  3.81s/it]\n",
      "Training (13400 / 18000 Steps) (loss=0.32021):  43%|████▎     | 3/7 [00:22<00:33,  8.36s/it]"
     ]
    },
    {
     "name": "stdout",
     "output_type": "stream",
     "text": [
      "Model Was Not Saved ! Current Best Avg. Dice: 0.5890686511993408 Current Avg. Dice: 0.5216404795646667 Current Avg. tumor Dice: 0.5877782106399536 Current Avg. lymph Dice: 0.4555026888847351\n"
     ]
    },
    {
     "name": "stderr",
     "output_type": "stream",
     "text": [
      "Training (13404 / 18000 Steps) (loss=0.37986): 100%|██████████| 7/7 [00:27<00:00,  3.99s/it]\n",
      "Training (13411 / 18000 Steps) (loss=0.30479): 100%|██████████| 7/7 [00:16<00:00,  2.33s/it]\n",
      "Training (13418 / 18000 Steps) (loss=0.38320): 100%|██████████| 7/7 [00:16<00:00,  2.32s/it]\n",
      "Training (13425 / 18000 Steps) (loss=0.38916): 100%|██████████| 7/7 [00:16<00:00,  2.37s/it]\n",
      "Training (13432 / 18000 Steps) (loss=0.21926): 100%|██████████| 7/7 [00:16<00:00,  2.34s/it]\n",
      "Training (13439 / 18000 Steps) (loss=0.31358): 100%|██████████| 7/7 [00:15<00:00,  2.23s/it]\n",
      "Training (13446 / 18000 Steps) (loss=0.46178): 100%|██████████| 7/7 [00:16<00:00,  2.32s/it]\n",
      "Training (13453 / 18000 Steps) (loss=0.51546): 100%|██████████| 7/7 [00:15<00:00,  2.20s/it]\n",
      "Training (13460 / 18000 Steps) (loss=0.24546): 100%|██████████| 7/7 [00:16<00:00,  2.36s/it]\n",
      "Training (13467 / 18000 Steps) (loss=0.13272): 100%|██████████| 7/7 [00:16<00:00,  2.33s/it]\n",
      "Training (13474 / 18000 Steps) (loss=0.13775): 100%|██████████| 7/7 [00:16<00:00,  2.42s/it]\n",
      "Training (13481 / 18000 Steps) (loss=0.23301): 100%|██████████| 7/7 [00:16<00:00,  2.35s/it]\n",
      "Training (13488 / 18000 Steps) (loss=0.25144): 100%|██████████| 7/7 [00:17<00:00,  2.50s/it]\n",
      "Training (13495 / 18000 Steps) (loss=0.38361): 100%|██████████| 7/7 [00:16<00:00,  2.29s/it]\n",
      "Validate (13496 / 10 Steps): 100%|██████████| 2/2 [00:12<00:00,  6.04s/it]<00:07,  2.33s/it]\n",
      "Training (13500 / 18000 Steps) (loss=0.11687):  71%|███████▏  | 5/7 [00:25<00:12,  6.46s/it]"
     ]
    },
    {
     "name": "stdout",
     "output_type": "stream",
     "text": [
      "Model Was Not Saved ! Current Best Avg. Dice: 0.5890686511993408 Current Avg. Dice: 0.5366334915161133 Current Avg. tumor Dice: 0.5848140716552734 Current Avg. lymph Dice: 0.4884529709815979\n"
     ]
    },
    {
     "name": "stderr",
     "output_type": "stream",
     "text": [
      "Training (13502 / 18000 Steps) (loss=0.31397): 100%|██████████| 7/7 [00:28<00:00,  4.02s/it]\n",
      "Training (13509 / 18000 Steps) (loss=0.37167): 100%|██████████| 7/7 [00:15<00:00,  2.19s/it]\n",
      "Training (13516 / 18000 Steps) (loss=0.24644): 100%|██████████| 7/7 [00:17<00:00,  2.49s/it]\n",
      "Training (13523 / 18000 Steps) (loss=0.23722): 100%|██████████| 7/7 [00:15<00:00,  2.20s/it]\n",
      "Training (13530 / 18000 Steps) (loss=0.38912): 100%|██████████| 7/7 [00:15<00:00,  2.19s/it]\n",
      "Training (13537 / 18000 Steps) (loss=0.39568): 100%|██████████| 7/7 [00:16<00:00,  2.31s/it]\n",
      "Training (13544 / 18000 Steps) (loss=0.46597): 100%|██████████| 7/7 [00:15<00:00,  2.25s/it]\n",
      "Training (13551 / 18000 Steps) (loss=0.46061): 100%|██████████| 7/7 [00:17<00:00,  2.45s/it]\n",
      "Training (13558 / 18000 Steps) (loss=0.16222): 100%|██████████| 7/7 [00:15<00:00,  2.28s/it]\n",
      "Training (13565 / 18000 Steps) (loss=0.60981): 100%|██████████| 7/7 [00:16<00:00,  2.35s/it]\n",
      "Training (13572 / 18000 Steps) (loss=0.39162): 100%|██████████| 7/7 [00:16<00:00,  2.40s/it]\n",
      "Training (13579 / 18000 Steps) (loss=0.38306): 100%|██████████| 7/7 [00:15<00:00,  2.24s/it]\n",
      "Training (13586 / 18000 Steps) (loss=0.11859): 100%|██████████| 7/7 [00:15<00:00,  2.21s/it]\n",
      "Training (13593 / 18000 Steps) (loss=0.52528): 100%|██████████| 7/7 [00:17<00:00,  2.52s/it]\n",
      "Validate (13594 / 10 Steps): 100%|██████████| 2/2 [00:11<00:00,  5.85s/it]<00:01,  1.86s/it]\n",
      "Training (13600 / 18000 Steps) (loss=0.19707): 100%|██████████| 7/7 [00:26<00:00,  3.85s/it]\n"
     ]
    },
    {
     "name": "stdout",
     "output_type": "stream",
     "text": [
      "Model Was Not Saved ! Current Best Avg. Dice: 0.5890686511993408 Current Avg. Dice: 0.5488893389701843 Current Avg. tumor Dice: 0.5937719345092773 Current Avg. lymph Dice: 0.5040067434310913\n"
     ]
    },
    {
     "name": "stderr",
     "output_type": "stream",
     "text": [
      "Training (13607 / 18000 Steps) (loss=0.50453): 100%|██████████| 7/7 [00:15<00:00,  2.24s/it]\n",
      "Training (13614 / 18000 Steps) (loss=0.38978): 100%|██████████| 7/7 [00:15<00:00,  2.23s/it]\n",
      "Training (13621 / 18000 Steps) (loss=0.37498): 100%|██████████| 7/7 [00:17<00:00,  2.51s/it]\n",
      "Training (13628 / 18000 Steps) (loss=0.22547): 100%|██████████| 7/7 [00:16<00:00,  2.39s/it]\n",
      "Training (13635 / 18000 Steps) (loss=0.25217): 100%|██████████| 7/7 [00:16<00:00,  2.38s/it]\n",
      "Training (13642 / 18000 Steps) (loss=0.33872): 100%|██████████| 7/7 [00:16<00:00,  2.34s/it]\n",
      "Training (13649 / 18000 Steps) (loss=0.26603): 100%|██████████| 7/7 [00:15<00:00,  2.24s/it]\n",
      "Training (13656 / 18000 Steps) (loss=0.24399): 100%|██████████| 7/7 [00:15<00:00,  2.20s/it]\n",
      "Training (13663 / 18000 Steps) (loss=0.24988): 100%|██████████| 7/7 [00:16<00:00,  2.34s/it]\n",
      "Training (13670 / 18000 Steps) (loss=0.54173): 100%|██████████| 7/7 [00:17<00:00,  2.50s/it]\n",
      "Training (13677 / 18000 Steps) (loss=0.29647): 100%|██████████| 7/7 [00:16<00:00,  2.35s/it]\n",
      "Training (13684 / 18000 Steps) (loss=0.22758): 100%|██████████| 7/7 [00:15<00:00,  2.25s/it]\n",
      "Training (13691 / 18000 Steps) (loss=0.19450): 100%|██████████| 7/7 [00:16<00:00,  2.31s/it]\n",
      "Training (13698 / 18000 Steps) (loss=0.52293): 100%|██████████| 7/7 [00:15<00:00,  2.19s/it]\n",
      "Validate (13699 / 10 Steps): 100%|██████████| 2/2 [00:11<00:00,  5.98s/it]<00:40,  6.76s/it]\n",
      "Training (13700 / 18000 Steps) (loss=0.44785):  29%|██▊       | 2/7 [00:20<00:54, 10.80s/it]"
     ]
    },
    {
     "name": "stdout",
     "output_type": "stream",
     "text": [
      "Model Was Not Saved ! Current Best Avg. Dice: 0.5890686511993408 Current Avg. Dice: 0.5150747299194336 Current Avg. tumor Dice: 0.6048277020454407 Current Avg. lymph Dice: 0.4253217279911041\n"
     ]
    },
    {
     "name": "stderr",
     "output_type": "stream",
     "text": [
      "Training (13705 / 18000 Steps) (loss=0.24528): 100%|██████████| 7/7 [00:27<00:00,  3.95s/it]\n",
      "Training (13712 / 18000 Steps) (loss=0.53113): 100%|██████████| 7/7 [00:15<00:00,  2.20s/it]\n",
      "Training (13719 / 18000 Steps) (loss=0.24143): 100%|██████████| 7/7 [00:17<00:00,  2.44s/it]\n",
      "Training (13726 / 18000 Steps) (loss=0.12450): 100%|██████████| 7/7 [00:15<00:00,  2.24s/it]\n",
      "Training (13733 / 18000 Steps) (loss=0.16262): 100%|██████████| 7/7 [00:16<00:00,  2.33s/it]\n",
      "Training (13740 / 18000 Steps) (loss=0.32783): 100%|██████████| 7/7 [00:15<00:00,  2.18s/it]\n",
      "Training (13747 / 18000 Steps) (loss=0.53660): 100%|██████████| 7/7 [00:15<00:00,  2.28s/it]\n",
      "Training (13754 / 18000 Steps) (loss=0.11783): 100%|██████████| 7/7 [00:15<00:00,  2.28s/it]\n",
      "Training (13761 / 18000 Steps) (loss=0.38221): 100%|██████████| 7/7 [00:15<00:00,  2.21s/it]\n",
      "Training (13768 / 18000 Steps) (loss=0.52444): 100%|██████████| 7/7 [00:15<00:00,  2.22s/it]\n",
      "Training (13775 / 18000 Steps) (loss=0.38832): 100%|██████████| 7/7 [00:15<00:00,  2.26s/it]\n",
      "Training (13782 / 18000 Steps) (loss=0.46538): 100%|██████████| 7/7 [00:15<00:00,  2.27s/it]\n",
      "Training (13789 / 18000 Steps) (loss=0.39577): 100%|██████████| 7/7 [00:16<00:00,  2.42s/it]\n",
      "Training (13796 / 18000 Steps) (loss=0.33181): 100%|██████████| 7/7 [00:15<00:00,  2.29s/it]\n",
      "Validate (13797 / 10 Steps): 100%|██████████| 2/2 [00:11<00:00,  5.95s/it]<00:11,  2.88s/it]\n",
      "Training (13800 / 18000 Steps) (loss=0.53312):  57%|█████▋    | 4/7 [00:24<00:21,  7.11s/it]"
     ]
    },
    {
     "name": "stdout",
     "output_type": "stream",
     "text": [
      "Model Was Not Saved ! Current Best Avg. Dice: 0.5890686511993408 Current Avg. Dice: 0.5036357641220093 Current Avg. tumor Dice: 0.5747851133346558 Current Avg. lymph Dice: 0.4324864149093628\n"
     ]
    },
    {
     "name": "stderr",
     "output_type": "stream",
     "text": [
      "Training (13803 / 18000 Steps) (loss=0.47614): 100%|██████████| 7/7 [00:28<00:00,  4.03s/it]\n",
      "Training (13810 / 18000 Steps) (loss=0.33982): 100%|██████████| 7/7 [00:15<00:00,  2.25s/it]\n",
      "Training (13817 / 18000 Steps) (loss=0.11299): 100%|██████████| 7/7 [00:17<00:00,  2.44s/it]\n",
      "Training (13824 / 18000 Steps) (loss=0.52538): 100%|██████████| 7/7 [00:17<00:00,  2.48s/it]\n",
      "Training (13831 / 18000 Steps) (loss=0.34268): 100%|██████████| 7/7 [00:15<00:00,  2.23s/it]\n",
      "Training (13838 / 18000 Steps) (loss=0.09815): 100%|██████████| 7/7 [00:17<00:00,  2.51s/it]\n",
      "Training (13845 / 18000 Steps) (loss=0.37547): 100%|██████████| 7/7 [00:16<00:00,  2.36s/it]\n",
      "Training (13852 / 18000 Steps) (loss=0.38914): 100%|██████████| 7/7 [00:16<00:00,  2.31s/it]\n",
      "Training (13859 / 18000 Steps) (loss=0.23144): 100%|██████████| 7/7 [00:15<00:00,  2.20s/it]\n",
      "Training (13866 / 18000 Steps) (loss=0.35249): 100%|██████████| 7/7 [00:16<00:00,  2.31s/it]\n",
      "Training (13873 / 18000 Steps) (loss=0.23986): 100%|██████████| 7/7 [00:16<00:00,  2.34s/it]\n",
      "Training (13880 / 18000 Steps) (loss=0.35510): 100%|██████████| 7/7 [00:15<00:00,  2.25s/it]\n",
      "Training (13887 / 18000 Steps) (loss=0.33757): 100%|██████████| 7/7 [00:16<00:00,  2.41s/it]\n",
      "Training (13894 / 18000 Steps) (loss=0.39263): 100%|██████████| 7/7 [00:16<00:00,  2.33s/it]\n",
      "Validate (13895 / 10 Steps): 100%|██████████| 2/2 [00:11<00:00,  5.88s/it]<00:04,  2.08s/it]\n",
      "Training (13900 / 18000 Steps) (loss=0.27030):  86%|████████▌ | 6/7 [00:26<00:05,  5.94s/it]"
     ]
    },
    {
     "name": "stdout",
     "output_type": "stream",
     "text": [
      "Model Was Not Saved ! Current Best Avg. Dice: 0.5890686511993408 Current Avg. Dice: 0.4603923261165619 Current Avg. tumor Dice: 0.42391836643218994 Current Avg. lymph Dice: 0.49686628580093384\n"
     ]
    },
    {
     "name": "stderr",
     "output_type": "stream",
     "text": [
      "Training (13901 / 18000 Steps) (loss=0.29296): 100%|██████████| 7/7 [00:27<00:00,  3.98s/it]\n",
      "Training (13908 / 18000 Steps) (loss=0.32425): 100%|██████████| 7/7 [00:15<00:00,  2.22s/it]\n",
      "Training (13915 / 18000 Steps) (loss=0.25258): 100%|██████████| 7/7 [00:16<00:00,  2.32s/it]\n",
      "Training (13922 / 18000 Steps) (loss=0.25374): 100%|██████████| 7/7 [00:16<00:00,  2.35s/it]\n",
      "Training (13929 / 18000 Steps) (loss=0.20063): 100%|██████████| 7/7 [00:15<00:00,  2.23s/it]\n",
      "Training (13936 / 18000 Steps) (loss=0.31294): 100%|██████████| 7/7 [00:16<00:00,  2.31s/it]\n",
      "Training (13943 / 18000 Steps) (loss=0.16208): 100%|██████████| 7/7 [00:15<00:00,  2.21s/it]\n",
      "Training (13950 / 18000 Steps) (loss=0.23020): 100%|██████████| 7/7 [00:15<00:00,  2.27s/it]\n",
      "Training (13957 / 18000 Steps) (loss=0.35350): 100%|██████████| 7/7 [00:16<00:00,  2.33s/it]\n",
      "Training (13964 / 18000 Steps) (loss=0.38470): 100%|██████████| 7/7 [00:15<00:00,  2.19s/it]\n",
      "Training (13971 / 18000 Steps) (loss=0.24121): 100%|██████████| 7/7 [00:15<00:00,  2.22s/it]\n",
      "Training (13978 / 18000 Steps) (loss=0.38304): 100%|██████████| 7/7 [00:16<00:00,  2.36s/it]\n",
      "Training (13985 / 18000 Steps) (loss=0.39517): 100%|██████████| 7/7 [00:16<00:00,  2.33s/it]\n",
      "Training (13992 / 18000 Steps) (loss=0.11474): 100%|██████████| 7/7 [00:16<00:00,  2.39s/it]\n",
      "Training (13999 / 18000 Steps) (loss=0.12293): 100%|██████████| 7/7 [00:15<00:00,  2.20s/it]\n",
      "Validate (14000 / 10 Steps): 100%|██████████| 2/2 [00:12<00:00,  6.06s/it]<?, ?it/s]\n",
      "Training (14000 / 18000 Steps) (loss=0.38989):  14%|█▍        | 1/7 [00:19<01:56, 19.44s/it]"
     ]
    },
    {
     "name": "stdout",
     "output_type": "stream",
     "text": [
      "Model Was Not Saved ! Current Best Avg. Dice: 0.5890686511993408 Current Avg. Dice: 0.48101314902305603 Current Avg. tumor Dice: 0.5275498628616333 Current Avg. lymph Dice: 0.43447646498680115\n"
     ]
    },
    {
     "name": "stderr",
     "output_type": "stream",
     "text": [
      "Training (14006 / 18000 Steps) (loss=0.12161): 100%|██████████| 7/7 [00:28<00:00,  4.05s/it]\n",
      "Training (14013 / 18000 Steps) (loss=0.33265): 100%|██████████| 7/7 [00:16<00:00,  2.39s/it]\n",
      "Training (14020 / 18000 Steps) (loss=0.31207): 100%|██████████| 7/7 [00:15<00:00,  2.19s/it]\n",
      "Training (14027 / 18000 Steps) (loss=0.39994): 100%|██████████| 7/7 [00:15<00:00,  2.18s/it]\n",
      "Training (14034 / 18000 Steps) (loss=0.25227): 100%|██████████| 7/7 [00:15<00:00,  2.18s/it]\n",
      "Training (14041 / 18000 Steps) (loss=0.25804): 100%|██████████| 7/7 [00:16<00:00,  2.31s/it]\n",
      "Training (14048 / 18000 Steps) (loss=0.33371): 100%|██████████| 7/7 [00:15<00:00,  2.25s/it]\n",
      "Training (14055 / 18000 Steps) (loss=0.13211): 100%|██████████| 7/7 [00:17<00:00,  2.43s/it]\n",
      "Training (14062 / 18000 Steps) (loss=0.31558): 100%|██████████| 7/7 [00:16<00:00,  2.37s/it]\n",
      "Training (14069 / 18000 Steps) (loss=0.37250): 100%|██████████| 7/7 [00:16<00:00,  2.36s/it]\n",
      "Training (14076 / 18000 Steps) (loss=0.45286): 100%|██████████| 7/7 [00:15<00:00,  2.26s/it]\n",
      "Training (14083 / 18000 Steps) (loss=0.38558): 100%|██████████| 7/7 [00:16<00:00,  2.42s/it]\n",
      "Training (14090 / 18000 Steps) (loss=0.32530): 100%|██████████| 7/7 [00:15<00:00,  2.20s/it]\n",
      "Training (14097 / 18000 Steps) (loss=0.54343): 100%|██████████| 7/7 [00:16<00:00,  2.36s/it]\n",
      "Validate (14098 / 10 Steps): 100%|██████████| 2/2 [00:11<00:00,  5.81s/it]<00:18,  3.75s/it]\n",
      "Training (14100 / 18000 Steps) (loss=0.34152):  43%|████▎     | 3/7 [00:21<00:32,  8.11s/it]"
     ]
    },
    {
     "name": "stdout",
     "output_type": "stream",
     "text": [
      "Model Was Not Saved ! Current Best Avg. Dice: 0.5890686511993408 Current Avg. Dice: 0.5098817944526672 Current Avg. tumor Dice: 0.6047109961509705 Current Avg. lymph Dice: 0.4150526225566864\n"
     ]
    },
    {
     "name": "stderr",
     "output_type": "stream",
     "text": [
      "Training (14104 / 18000 Steps) (loss=0.52524): 100%|██████████| 7/7 [00:27<00:00,  3.92s/it]\n",
      "Training (14111 / 18000 Steps) (loss=0.22901): 100%|██████████| 7/7 [00:15<00:00,  2.25s/it]\n",
      "Training (14118 / 18000 Steps) (loss=0.39384): 100%|██████████| 7/7 [00:16<00:00,  2.34s/it]\n",
      "Training (14125 / 18000 Steps) (loss=0.39449): 100%|██████████| 7/7 [00:16<00:00,  2.32s/it]\n",
      "Training (14132 / 18000 Steps) (loss=0.40862): 100%|██████████| 7/7 [00:15<00:00,  2.22s/it]\n",
      "Training (14139 / 18000 Steps) (loss=0.38415): 100%|██████████| 7/7 [00:16<00:00,  2.34s/it]\n",
      "Training (14146 / 18000 Steps) (loss=0.37483): 100%|██████████| 7/7 [00:15<00:00,  2.29s/it]\n",
      "Training (14153 / 18000 Steps) (loss=0.16149): 100%|██████████| 7/7 [00:16<00:00,  2.32s/it]\n",
      "Training (14160 / 18000 Steps) (loss=0.16786): 100%|██████████| 7/7 [00:15<00:00,  2.26s/it]\n",
      "Training (14167 / 18000 Steps) (loss=0.31197): 100%|██████████| 7/7 [00:16<00:00,  2.39s/it]\n",
      "Training (14174 / 18000 Steps) (loss=0.23259): 100%|██████████| 7/7 [00:15<00:00,  2.27s/it]\n",
      "Training (14181 / 18000 Steps) (loss=0.41564): 100%|██████████| 7/7 [00:15<00:00,  2.22s/it]\n",
      "Training (14188 / 18000 Steps) (loss=0.25451): 100%|██████████| 7/7 [00:17<00:00,  2.46s/it]\n",
      "Training (14195 / 18000 Steps) (loss=0.18427): 100%|██████████| 7/7 [00:16<00:00,  2.34s/it]\n",
      "Validate (14196 / 10 Steps): 100%|██████████| 2/2 [00:11<00:00,  5.93s/it]<00:07,  2.39s/it]\n",
      "Training (14200 / 18000 Steps) (loss=0.32425):  71%|███████▏  | 5/7 [00:25<00:12,  6.42s/it]"
     ]
    },
    {
     "name": "stdout",
     "output_type": "stream",
     "text": [
      "Model Was Not Saved ! Current Best Avg. Dice: 0.5890686511993408 Current Avg. Dice: 0.5287952423095703 Current Avg. tumor Dice: 0.6139258146286011 Current Avg. lymph Dice: 0.4436647593975067\n"
     ]
    },
    {
     "name": "stderr",
     "output_type": "stream",
     "text": [
      "Training (14202 / 18000 Steps) (loss=0.39070): 100%|██████████| 7/7 [00:28<00:00,  4.05s/it]\n",
      "Training (14209 / 18000 Steps) (loss=0.40040): 100%|██████████| 7/7 [00:16<00:00,  2.39s/it]\n",
      "Training (14216 / 18000 Steps) (loss=0.26809): 100%|██████████| 7/7 [00:15<00:00,  2.25s/it]\n",
      "Training (14223 / 18000 Steps) (loss=0.47196): 100%|██████████| 7/7 [00:15<00:00,  2.24s/it]\n",
      "Training (14230 / 18000 Steps) (loss=0.24433): 100%|██████████| 7/7 [00:15<00:00,  2.22s/it]\n",
      "Training (14237 / 18000 Steps) (loss=0.22726): 100%|██████████| 7/7 [00:15<00:00,  2.20s/it]\n",
      "Training (14244 / 18000 Steps) (loss=0.52431): 100%|██████████| 7/7 [00:15<00:00,  2.29s/it]\n",
      "Training (14251 / 18000 Steps) (loss=0.38113): 100%|██████████| 7/7 [00:15<00:00,  2.25s/it]\n",
      "Training (14258 / 18000 Steps) (loss=0.31579): 100%|██████████| 7/7 [00:17<00:00,  2.47s/it]\n",
      "Training (14265 / 18000 Steps) (loss=0.25183): 100%|██████████| 7/7 [00:15<00:00,  2.27s/it]\n",
      "Training (14272 / 18000 Steps) (loss=0.28019): 100%|██████████| 7/7 [00:15<00:00,  2.23s/it]\n",
      "Training (14279 / 18000 Steps) (loss=0.32677): 100%|██████████| 7/7 [00:15<00:00,  2.18s/it]\n",
      "Training (14286 / 18000 Steps) (loss=0.45078): 100%|██████████| 7/7 [00:15<00:00,  2.28s/it]\n",
      "Training (14293 / 18000 Steps) (loss=0.48410): 100%|██████████| 7/7 [00:15<00:00,  2.20s/it]\n",
      "Validate (14294 / 10 Steps): 100%|██████████| 2/2 [00:11<00:00,  5.91s/it]<00:01,  1.93s/it]\n",
      "Training (14300 / 18000 Steps) (loss=0.24758): 100%|██████████| 7/7 [00:28<00:00,  4.02s/it]\n"
     ]
    },
    {
     "name": "stdout",
     "output_type": "stream",
     "text": [
      "Model Was Not Saved ! Current Best Avg. Dice: 0.5890686511993408 Current Avg. Dice: 0.5285018086433411 Current Avg. tumor Dice: 0.5696116089820862 Current Avg. lymph Dice: 0.48739203810691833\n"
     ]
    },
    {
     "name": "stderr",
     "output_type": "stream",
     "text": [
      "Training (14307 / 18000 Steps) (loss=0.59349): 100%|██████████| 7/7 [00:15<00:00,  2.28s/it]\n",
      "Training (14314 / 18000 Steps) (loss=0.29213): 100%|██████████| 7/7 [00:16<00:00,  2.37s/it]\n",
      "Training (14321 / 18000 Steps) (loss=0.27423): 100%|██████████| 7/7 [00:16<00:00,  2.34s/it]\n",
      "Training (14328 / 18000 Steps) (loss=0.52688): 100%|██████████| 7/7 [00:15<00:00,  2.24s/it]\n",
      "Training (14335 / 18000 Steps) (loss=0.31926): 100%|██████████| 7/7 [00:17<00:00,  2.54s/it]\n",
      "Training (14342 / 18000 Steps) (loss=0.08814): 100%|██████████| 7/7 [00:17<00:00,  2.44s/it]\n",
      "Training (14349 / 18000 Steps) (loss=0.46583): 100%|██████████| 7/7 [00:16<00:00,  2.29s/it]\n",
      "Training (14356 / 18000 Steps) (loss=0.33874): 100%|██████████| 7/7 [00:15<00:00,  2.19s/it]\n",
      "Training (14363 / 18000 Steps) (loss=0.37879): 100%|██████████| 7/7 [00:15<00:00,  2.20s/it]\n",
      "Training (14370 / 18000 Steps) (loss=0.23838): 100%|██████████| 7/7 [00:15<00:00,  2.26s/it]\n",
      "Training (14377 / 18000 Steps) (loss=0.28538): 100%|██████████| 7/7 [00:15<00:00,  2.21s/it]\n",
      "Training (14384 / 18000 Steps) (loss=0.39367): 100%|██████████| 7/7 [00:16<00:00,  2.29s/it]\n",
      "Training (14391 / 18000 Steps) (loss=0.25290): 100%|██████████| 7/7 [00:16<00:00,  2.30s/it]\n",
      "Training (14398 / 18000 Steps) (loss=0.32787): 100%|██████████| 7/7 [00:15<00:00,  2.23s/it]\n",
      "Validate (14399 / 10 Steps): 100%|██████████| 2/2 [00:11<00:00,  5.92s/it]<00:50,  8.45s/it]\n",
      "Training (14400 / 18000 Steps) (loss=0.17402):  29%|██▊       | 2/7 [00:21<00:57, 11.44s/it]"
     ]
    },
    {
     "name": "stdout",
     "output_type": "stream",
     "text": [
      "Model Was Not Saved ! Current Best Avg. Dice: 0.5890686511993408 Current Avg. Dice: 0.5443310141563416 Current Avg. tumor Dice: 0.5731474161148071 Current Avg. lymph Dice: 0.515514612197876\n"
     ]
    },
    {
     "name": "stderr",
     "output_type": "stream",
     "text": [
      "Training (14405 / 18000 Steps) (loss=0.12859): 100%|██████████| 7/7 [00:29<00:00,  4.18s/it]\n",
      "Training (14412 / 18000 Steps) (loss=0.25043): 100%|██████████| 7/7 [00:17<00:00,  2.44s/it]\n",
      "Training (14419 / 18000 Steps) (loss=0.38182): 100%|██████████| 7/7 [00:15<00:00,  2.29s/it]\n",
      "Training (14426 / 18000 Steps) (loss=0.53178): 100%|██████████| 7/7 [00:16<00:00,  2.32s/it]\n",
      "Training (14433 / 18000 Steps) (loss=0.17842): 100%|██████████| 7/7 [00:17<00:00,  2.44s/it]\n",
      "Training (14440 / 18000 Steps) (loss=0.35508): 100%|██████████| 7/7 [00:15<00:00,  2.19s/it]\n",
      "Training (14447 / 18000 Steps) (loss=0.46033): 100%|██████████| 7/7 [00:15<00:00,  2.24s/it]\n",
      "Training (14454 / 18000 Steps) (loss=0.09464): 100%|██████████| 7/7 [00:15<00:00,  2.20s/it]\n",
      "Training (14461 / 18000 Steps) (loss=0.31942): 100%|██████████| 7/7 [00:16<00:00,  2.37s/it]\n",
      "Training (14468 / 18000 Steps) (loss=0.26847): 100%|██████████| 7/7 [00:17<00:00,  2.48s/it]\n",
      "Training (14475 / 18000 Steps) (loss=0.29979): 100%|██████████| 7/7 [00:16<00:00,  2.40s/it]\n",
      "Training (14482 / 18000 Steps) (loss=0.60739): 100%|██████████| 7/7 [00:16<00:00,  2.40s/it]\n",
      "Training (14489 / 18000 Steps) (loss=0.24704): 100%|██████████| 7/7 [00:15<00:00,  2.25s/it]\n",
      "Training (14496 / 18000 Steps) (loss=0.38463): 100%|██████████| 7/7 [00:15<00:00,  2.22s/it]\n",
      "Validate (14497 / 10 Steps): 100%|██████████| 2/2 [00:11<00:00,  5.92s/it]<00:11,  2.91s/it]\n",
      "Training (14500 / 18000 Steps) (loss=0.33675):  57%|█████▋    | 4/7 [00:24<00:21,  7.11s/it]"
     ]
    },
    {
     "name": "stdout",
     "output_type": "stream",
     "text": [
      "Model Was Not Saved ! Current Best Avg. Dice: 0.5890686511993408 Current Avg. Dice: 0.5200272798538208 Current Avg. tumor Dice: 0.5964570641517639 Current Avg. lymph Dice: 0.44359761476516724\n"
     ]
    },
    {
     "name": "stderr",
     "output_type": "stream",
     "text": [
      "Training (14503 / 18000 Steps) (loss=0.25399): 100%|██████████| 7/7 [00:28<00:00,  4.04s/it]\n",
      "Training (14510 / 18000 Steps) (loss=0.39041): 100%|██████████| 7/7 [00:15<00:00,  2.20s/it]\n",
      "Training (14517 / 18000 Steps) (loss=0.15128): 100%|██████████| 7/7 [00:16<00:00,  2.32s/it]\n",
      "Training (14524 / 18000 Steps) (loss=0.33316): 100%|██████████| 7/7 [00:16<00:00,  2.38s/it]\n",
      "Training (14531 / 18000 Steps) (loss=0.22442): 100%|██████████| 7/7 [00:15<00:00,  2.22s/it]\n",
      "Training (14538 / 18000 Steps) (loss=0.41261): 100%|██████████| 7/7 [00:16<00:00,  2.38s/it]\n",
      "Training (14545 / 18000 Steps) (loss=0.45979): 100%|██████████| 7/7 [00:16<00:00,  2.42s/it]\n",
      "Training (14552 / 18000 Steps) (loss=0.27648): 100%|██████████| 7/7 [00:15<00:00,  2.22s/it]\n",
      "Training (14559 / 18000 Steps) (loss=0.51117): 100%|██████████| 7/7 [00:15<00:00,  2.26s/it]\n",
      "Training (14566 / 18000 Steps) (loss=0.60540): 100%|██████████| 7/7 [00:16<00:00,  2.33s/it]\n",
      "Training (14573 / 18000 Steps) (loss=0.38319): 100%|██████████| 7/7 [00:16<00:00,  2.40s/it]\n",
      "Training (14580 / 18000 Steps) (loss=0.47422): 100%|██████████| 7/7 [00:16<00:00,  2.41s/it]\n",
      "Training (14587 / 18000 Steps) (loss=0.33093): 100%|██████████| 7/7 [00:16<00:00,  2.36s/it]\n",
      "Training (14594 / 18000 Steps) (loss=0.17977): 100%|██████████| 7/7 [00:15<00:00,  2.24s/it]\n",
      "Validate (14595 / 10 Steps): 100%|██████████| 2/2 [00:11<00:00,  5.80s/it]<00:04,  2.06s/it]\n",
      "Training (14600 / 18000 Steps) (loss=0.17488):  86%|████████▌ | 6/7 [00:26<00:05,  5.89s/it]"
     ]
    },
    {
     "name": "stdout",
     "output_type": "stream",
     "text": [
      "Model Was Not Saved ! Current Best Avg. Dice: 0.5890686511993408 Current Avg. Dice: 0.4374900162220001 Current Avg. tumor Dice: 0.40248435735702515 Current Avg. lymph Dice: 0.4724956452846527\n"
     ]
    },
    {
     "name": "stderr",
     "output_type": "stream",
     "text": [
      "Training (14601 / 18000 Steps) (loss=0.25441): 100%|██████████| 7/7 [00:27<00:00,  3.94s/it]\n",
      "Training (14608 / 18000 Steps) (loss=0.51896): 100%|██████████| 7/7 [00:15<00:00,  2.25s/it]\n",
      "Training (14615 / 18000 Steps) (loss=0.48762): 100%|██████████| 7/7 [00:16<00:00,  2.31s/it]\n",
      "Training (14622 / 18000 Steps) (loss=0.38737): 100%|██████████| 7/7 [00:15<00:00,  2.19s/it]\n",
      "Training (14629 / 18000 Steps) (loss=0.24273): 100%|██████████| 7/7 [00:15<00:00,  2.27s/it]\n",
      "Training (14636 / 18000 Steps) (loss=0.66692): 100%|██████████| 7/7 [00:16<00:00,  2.30s/it]\n",
      "Training (14643 / 18000 Steps) (loss=0.46527): 100%|██████████| 7/7 [00:15<00:00,  2.27s/it]\n",
      "Training (14650 / 18000 Steps) (loss=0.10421): 100%|██████████| 7/7 [00:15<00:00,  2.24s/it]\n",
      "Training (14657 / 18000 Steps) (loss=0.39440): 100%|██████████| 7/7 [00:15<00:00,  2.24s/it]\n",
      "Training (14664 / 18000 Steps) (loss=0.49053): 100%|██████████| 7/7 [00:15<00:00,  2.23s/it]\n",
      "Training (14671 / 18000 Steps) (loss=0.10082): 100%|██████████| 7/7 [00:17<00:00,  2.55s/it]\n",
      "Training (14678 / 18000 Steps) (loss=0.39818): 100%|██████████| 7/7 [00:18<00:00,  2.61s/it]\n",
      "Training (14685 / 18000 Steps) (loss=0.24953): 100%|██████████| 7/7 [00:16<00:00,  2.37s/it]\n",
      "Training (14692 / 18000 Steps) (loss=0.38029): 100%|██████████| 7/7 [00:15<00:00,  2.21s/it]\n",
      "Training (14699 / 18000 Steps) (loss=0.28609): 100%|██████████| 7/7 [00:17<00:00,  2.43s/it]\n",
      "Validate (14700 / 10 Steps): 100%|██████████| 2/2 [00:11<00:00,  5.95s/it]<?, ?it/s]\n",
      "Training (14700 / 18000 Steps) (loss=0.39896):  14%|█▍        | 1/7 [00:19<01:55, 19.32s/it]"
     ]
    },
    {
     "name": "stdout",
     "output_type": "stream",
     "text": [
      "Model Was Not Saved ! Current Best Avg. Dice: 0.5890686511993408 Current Avg. Dice: 0.534356415271759 Current Avg. tumor Dice: 0.539024829864502 Current Avg. lymph Dice: 0.5296880006790161\n"
     ]
    },
    {
     "name": "stderr",
     "output_type": "stream",
     "text": [
      "Training (14706 / 18000 Steps) (loss=0.36783): 100%|██████████| 7/7 [00:28<00:00,  4.03s/it]\n",
      "Training (14713 / 18000 Steps) (loss=0.23717): 100%|██████████| 7/7 [00:17<00:00,  2.46s/it]\n",
      "Training (14720 / 18000 Steps) (loss=0.35378): 100%|██████████| 7/7 [00:16<00:00,  2.29s/it]\n",
      "Training (14727 / 18000 Steps) (loss=0.23310): 100%|██████████| 7/7 [00:16<00:00,  2.38s/it]\n",
      "Training (14734 / 18000 Steps) (loss=0.24953): 100%|██████████| 7/7 [00:15<00:00,  2.19s/it]\n",
      "Training (14741 / 18000 Steps) (loss=0.26544): 100%|██████████| 7/7 [00:16<00:00,  2.36s/it]\n",
      "Training (14748 / 18000 Steps) (loss=0.39296): 100%|██████████| 7/7 [00:15<00:00,  2.27s/it]\n",
      "Training (14755 / 18000 Steps) (loss=0.23329): 100%|██████████| 7/7 [00:16<00:00,  2.39s/it]\n",
      "Training (14762 / 18000 Steps) (loss=0.38657): 100%|██████████| 7/7 [00:16<00:00,  2.37s/it]\n",
      "Training (14769 / 18000 Steps) (loss=0.31431): 100%|██████████| 7/7 [00:15<00:00,  2.22s/it]\n",
      "Training (14776 / 18000 Steps) (loss=0.52435): 100%|██████████| 7/7 [00:15<00:00,  2.22s/it]\n",
      "Training (14783 / 18000 Steps) (loss=0.10087): 100%|██████████| 7/7 [00:15<00:00,  2.26s/it]\n",
      "Training (14790 / 18000 Steps) (loss=0.24262): 100%|██████████| 7/7 [00:16<00:00,  2.30s/it]\n",
      "Training (14797 / 18000 Steps) (loss=0.40436): 100%|██████████| 7/7 [00:16<00:00,  2.42s/it]\n",
      "Validate (14798 / 10 Steps): 100%|██████████| 2/2 [00:12<00:00,  6.01s/it]<00:21,  4.28s/it]\n",
      "Training (14800 / 18000 Steps) (loss=0.34738):  43%|████▎     | 3/7 [00:23<00:34,  8.61s/it]"
     ]
    },
    {
     "name": "stdout",
     "output_type": "stream",
     "text": [
      "Model Was Not Saved ! Current Best Avg. Dice: 0.5890686511993408 Current Avg. Dice: 0.5454139709472656 Current Avg. tumor Dice: 0.5800634622573853 Current Avg. lymph Dice: 0.5107644200325012\n"
     ]
    },
    {
     "name": "stderr",
     "output_type": "stream",
     "text": [
      "Training (14804 / 18000 Steps) (loss=0.59423): 100%|██████████| 7/7 [00:29<00:00,  4.17s/it]\n",
      "Training (14811 / 18000 Steps) (loss=0.35700): 100%|██████████| 7/7 [00:15<00:00,  2.23s/it]\n",
      "Training (14818 / 18000 Steps) (loss=0.33740): 100%|██████████| 7/7 [00:16<00:00,  2.41s/it]\n",
      "Training (14825 / 18000 Steps) (loss=0.29307): 100%|██████████| 7/7 [00:17<00:00,  2.44s/it]\n",
      "Training (14832 / 18000 Steps) (loss=0.27554): 100%|██████████| 7/7 [00:16<00:00,  2.37s/it]\n",
      "Training (14839 / 18000 Steps) (loss=0.20236): 100%|██████████| 7/7 [00:16<00:00,  2.42s/it]\n",
      "Training (14846 / 18000 Steps) (loss=0.10965): 100%|██████████| 7/7 [00:16<00:00,  2.34s/it]\n",
      "Training (14853 / 18000 Steps) (loss=0.24132): 100%|██████████| 7/7 [00:15<00:00,  2.25s/it]\n",
      "Training (14860 / 18000 Steps) (loss=0.35560): 100%|██████████| 7/7 [00:16<00:00,  2.30s/it]\n",
      "Training (14867 / 18000 Steps) (loss=0.17438): 100%|██████████| 7/7 [00:15<00:00,  2.22s/it]\n",
      "Training (14874 / 18000 Steps) (loss=0.24188): 100%|██████████| 7/7 [00:15<00:00,  2.26s/it]\n",
      "Training (14881 / 18000 Steps) (loss=0.52356): 100%|██████████| 7/7 [00:16<00:00,  2.36s/it]\n",
      "Training (14888 / 18000 Steps) (loss=0.23439): 100%|██████████| 7/7 [00:16<00:00,  2.29s/it]\n",
      "Training (14895 / 18000 Steps) (loss=0.12312): 100%|██████████| 7/7 [00:15<00:00,  2.26s/it]\n",
      "Validate (14896 / 10 Steps): 100%|██████████| 2/2 [00:11<00:00,  5.91s/it]<00:06,  2.27s/it]\n",
      "Training (14900 / 18000 Steps) (loss=0.28461):  71%|███████▏  | 5/7 [00:24<00:12,  6.32s/it]"
     ]
    },
    {
     "name": "stdout",
     "output_type": "stream",
     "text": [
      "Model Was Not Saved ! Current Best Avg. Dice: 0.5890686511993408 Current Avg. Dice: 0.5234518051147461 Current Avg. tumor Dice: 0.5061171054840088 Current Avg. lymph Dice: 0.5407865047454834\n"
     ]
    },
    {
     "name": "stderr",
     "output_type": "stream",
     "text": [
      "Training (14902 / 18000 Steps) (loss=0.24472): 100%|██████████| 7/7 [00:27<00:00,  3.91s/it]\n",
      "Training (14909 / 18000 Steps) (loss=0.43454): 100%|██████████| 7/7 [00:16<00:00,  2.38s/it]\n",
      "Training (14916 / 18000 Steps) (loss=0.37077): 100%|██████████| 7/7 [00:15<00:00,  2.25s/it]\n",
      "Training (14923 / 18000 Steps) (loss=0.23886): 100%|██████████| 7/7 [00:15<00:00,  2.25s/it]\n",
      "Training (14930 / 18000 Steps) (loss=0.37918): 100%|██████████| 7/7 [00:16<00:00,  2.40s/it]\n",
      "Training (14937 / 18000 Steps) (loss=0.66688): 100%|██████████| 7/7 [00:15<00:00,  2.19s/it]\n",
      "Training (14944 / 18000 Steps) (loss=0.22796): 100%|██████████| 7/7 [00:15<00:00,  2.20s/it]\n",
      "Training (14951 / 18000 Steps) (loss=0.23800): 100%|██████████| 7/7 [00:15<00:00,  2.22s/it]\n",
      "Training (14958 / 18000 Steps) (loss=0.46374): 100%|██████████| 7/7 [00:15<00:00,  2.21s/it]\n",
      "Training (14965 / 18000 Steps) (loss=0.12350): 100%|██████████| 7/7 [00:16<00:00,  2.36s/it]\n",
      "Training (14972 / 18000 Steps) (loss=0.52461): 100%|██████████| 7/7 [00:16<00:00,  2.37s/it]\n",
      "Training (14979 / 18000 Steps) (loss=0.62332): 100%|██████████| 7/7 [00:16<00:00,  2.42s/it]\n",
      "Training (14986 / 18000 Steps) (loss=0.31218): 100%|██████████| 7/7 [00:15<00:00,  2.25s/it]\n",
      "Training (14993 / 18000 Steps) (loss=0.53190): 100%|██████████| 7/7 [00:15<00:00,  2.20s/it]\n",
      "Validate (14994 / 10 Steps): 100%|██████████| 2/2 [00:11<00:00,  5.89s/it]<00:01,  1.97s/it]\n",
      "Training (15000 / 18000 Steps) (loss=0.23979): 100%|██████████| 7/7 [00:28<00:00,  4.14s/it]\n"
     ]
    },
    {
     "name": "stdout",
     "output_type": "stream",
     "text": [
      "Model Was Not Saved ! Current Best Avg. Dice: 0.5890686511993408 Current Avg. Dice: 0.5610728859901428 Current Avg. tumor Dice: 0.5715733766555786 Current Avg. lymph Dice: 0.5505723357200623\n"
     ]
    },
    {
     "name": "stderr",
     "output_type": "stream",
     "text": [
      "Training (15007 / 18000 Steps) (loss=0.16495): 100%|██████████| 7/7 [00:16<00:00,  2.36s/it]\n",
      "Training (15014 / 18000 Steps) (loss=0.16363): 100%|██████████| 7/7 [00:16<00:00,  2.36s/it]\n",
      "Training (15021 / 18000 Steps) (loss=0.52634): 100%|██████████| 7/7 [00:17<00:00,  2.54s/it]\n",
      "Training (15028 / 18000 Steps) (loss=0.43994): 100%|██████████| 7/7 [00:15<00:00,  2.21s/it]\n",
      "Training (15035 / 18000 Steps) (loss=0.15981): 100%|██████████| 7/7 [00:16<00:00,  2.30s/it]\n",
      "Training (15042 / 18000 Steps) (loss=0.34582): 100%|██████████| 7/7 [00:15<00:00,  2.27s/it]\n",
      "Training (15049 / 18000 Steps) (loss=0.39236): 100%|██████████| 7/7 [00:15<00:00,  2.25s/it]\n",
      "Training (15056 / 18000 Steps) (loss=0.46759): 100%|██████████| 7/7 [00:17<00:00,  2.44s/it]\n",
      "Training (15063 / 18000 Steps) (loss=0.39063): 100%|██████████| 7/7 [00:15<00:00,  2.26s/it]\n",
      "Training (15070 / 18000 Steps) (loss=0.21987): 100%|██████████| 7/7 [00:15<00:00,  2.25s/it]\n",
      "Training (15077 / 18000 Steps) (loss=0.11949): 100%|██████████| 7/7 [00:17<00:00,  2.48s/it]\n",
      "Training (15084 / 18000 Steps) (loss=0.38926): 100%|██████████| 7/7 [00:15<00:00,  2.27s/it]\n",
      "Training (15091 / 18000 Steps) (loss=0.11122): 100%|██████████| 7/7 [00:15<00:00,  2.22s/it]\n",
      "Training (15098 / 18000 Steps) (loss=0.52362): 100%|██████████| 7/7 [00:16<00:00,  2.32s/it]\n",
      "Validate (15099 / 10 Steps): 100%|██████████| 2/2 [00:11<00:00,  5.95s/it]<00:41,  6.96s/it]\n",
      "Training (15100 / 18000 Steps) (loss=0.27626):  29%|██▊       | 2/7 [00:20<00:54, 10.86s/it]"
     ]
    },
    {
     "name": "stdout",
     "output_type": "stream",
     "text": [
      "Model Was Not Saved ! Current Best Avg. Dice: 0.5890686511993408 Current Avg. Dice: 0.5562506914138794 Current Avg. tumor Dice: 0.5716855525970459 Current Avg. lymph Dice: 0.5408158302307129\n"
     ]
    },
    {
     "name": "stderr",
     "output_type": "stream",
     "text": [
      "Training (15105 / 18000 Steps) (loss=0.53106): 100%|██████████| 7/7 [00:27<00:00,  3.98s/it]\n",
      "Training (15112 / 18000 Steps) (loss=0.25437): 100%|██████████| 7/7 [00:16<00:00,  2.38s/it]\n",
      "Training (15119 / 18000 Steps) (loss=0.52517): 100%|██████████| 7/7 [00:15<00:00,  2.25s/it]\n",
      "Training (15126 / 18000 Steps) (loss=0.38150): 100%|██████████| 7/7 [00:16<00:00,  2.33s/it]\n",
      "Training (15133 / 18000 Steps) (loss=0.52704): 100%|██████████| 7/7 [00:15<00:00,  2.20s/it]\n",
      "Training (15140 / 18000 Steps) (loss=0.39237): 100%|██████████| 7/7 [00:15<00:00,  2.21s/it]\n",
      "Training (15147 / 18000 Steps) (loss=0.27072): 100%|██████████| 7/7 [00:16<00:00,  2.32s/it]\n",
      "Training (15154 / 18000 Steps) (loss=0.45947): 100%|██████████| 7/7 [00:15<00:00,  2.27s/it]\n",
      "Training (15161 / 18000 Steps) (loss=0.38065): 100%|██████████| 7/7 [00:16<00:00,  2.34s/it]\n",
      "Training (15168 / 18000 Steps) (loss=0.26225): 100%|██████████| 7/7 [00:15<00:00,  2.27s/it]\n",
      "Training (15175 / 18000 Steps) (loss=0.16142): 100%|██████████| 7/7 [00:15<00:00,  2.21s/it]\n",
      "Training (15182 / 18000 Steps) (loss=0.43340): 100%|██████████| 7/7 [00:17<00:00,  2.46s/it]\n",
      "Training (15189 / 18000 Steps) (loss=0.10984): 100%|██████████| 7/7 [00:15<00:00,  2.27s/it]\n",
      "Training (15196 / 18000 Steps) (loss=0.51775): 100%|██████████| 7/7 [00:16<00:00,  2.37s/it]\n",
      "Validate (15197 / 10 Steps): 100%|██████████| 2/2 [00:11<00:00,  5.92s/it]<00:11,  2.88s/it]\n",
      "Training (15200 / 18000 Steps) (loss=0.15980):  57%|█████▋    | 4/7 [00:24<00:21,  7.10s/it]"
     ]
    },
    {
     "name": "stdout",
     "output_type": "stream",
     "text": [
      "Model Was Not Saved ! Current Best Avg. Dice: 0.5890686511993408 Current Avg. Dice: 0.5375780463218689 Current Avg. tumor Dice: 0.5403743386268616 Current Avg. lymph Dice: 0.5347816944122314\n"
     ]
    },
    {
     "name": "stderr",
     "output_type": "stream",
     "text": [
      "Training (15203 / 18000 Steps) (loss=0.43671): 100%|██████████| 7/7 [00:28<00:00,  4.03s/it]\n",
      "Training (15210 / 18000 Steps) (loss=0.46766): 100%|██████████| 7/7 [00:16<00:00,  2.41s/it]\n",
      "Training (15217 / 18000 Steps) (loss=0.29213): 100%|██████████| 7/7 [00:16<00:00,  2.42s/it]\n",
      "Training (15224 / 18000 Steps) (loss=0.27329): 100%|██████████| 7/7 [00:15<00:00,  2.23s/it]\n",
      "Training (15231 / 18000 Steps) (loss=0.38837): 100%|██████████| 7/7 [00:16<00:00,  2.41s/it]\n",
      "Training (15238 / 18000 Steps) (loss=0.52136): 100%|██████████| 7/7 [00:16<00:00,  2.36s/it]\n",
      "Training (15245 / 18000 Steps) (loss=0.45935): 100%|██████████| 7/7 [00:16<00:00,  2.36s/it]\n",
      "Training (15252 / 18000 Steps) (loss=0.27496): 100%|██████████| 7/7 [00:16<00:00,  2.40s/it]\n",
      "Training (15259 / 18000 Steps) (loss=0.29685): 100%|██████████| 7/7 [00:16<00:00,  2.42s/it]\n",
      "Training (15266 / 18000 Steps) (loss=0.26960): 100%|██████████| 7/7 [00:15<00:00,  2.19s/it]\n",
      "Training (15273 / 18000 Steps) (loss=0.52243): 100%|██████████| 7/7 [00:16<00:00,  2.31s/it]\n",
      "Training (15280 / 18000 Steps) (loss=0.26853): 100%|██████████| 7/7 [00:16<00:00,  2.36s/it]\n",
      "Training (15287 / 18000 Steps) (loss=0.40283): 100%|██████████| 7/7 [00:15<00:00,  2.22s/it]\n",
      "Training (15294 / 18000 Steps) (loss=0.41016): 100%|██████████| 7/7 [00:16<00:00,  2.32s/it]\n",
      "Validate (15295 / 10 Steps): 100%|██████████| 2/2 [00:11<00:00,  5.87s/it]<00:04,  2.06s/it]\n",
      "Training (15300 / 18000 Steps) (loss=0.24552):  86%|████████▌ | 6/7 [00:26<00:05,  5.93s/it]"
     ]
    },
    {
     "name": "stdout",
     "output_type": "stream",
     "text": [
      "Model Was Not Saved ! Current Best Avg. Dice: 0.5890686511993408 Current Avg. Dice: 0.48465198278427124 Current Avg. tumor Dice: 0.5347551107406616 Current Avg. lymph Dice: 0.43454888463020325\n"
     ]
    },
    {
     "name": "stderr",
     "output_type": "stream",
     "text": [
      "Training (15301 / 18000 Steps) (loss=0.23104): 100%|██████████| 7/7 [00:27<00:00,  3.95s/it]\n",
      "Training (15308 / 18000 Steps) (loss=0.23744): 100%|██████████| 7/7 [00:16<00:00,  2.36s/it]\n",
      "Training (15315 / 18000 Steps) (loss=0.66879): 100%|██████████| 7/7 [00:17<00:00,  2.50s/it]\n",
      "Training (15322 / 18000 Steps) (loss=0.23776): 100%|██████████| 7/7 [00:15<00:00,  2.19s/it]\n",
      "Training (15329 / 18000 Steps) (loss=0.45356): 100%|██████████| 7/7 [00:16<00:00,  2.30s/it]\n",
      "Training (15336 / 18000 Steps) (loss=0.39956): 100%|██████████| 7/7 [00:15<00:00,  2.25s/it]\n",
      "Training (15343 / 18000 Steps) (loss=0.33793): 100%|██████████| 7/7 [00:16<00:00,  2.37s/it]\n",
      "Training (15350 / 18000 Steps) (loss=0.26296): 100%|██████████| 7/7 [00:16<00:00,  2.38s/it]\n",
      "Training (15357 / 18000 Steps) (loss=0.26169): 100%|██████████| 7/7 [00:16<00:00,  2.32s/it]\n",
      "Training (15364 / 18000 Steps) (loss=0.24569): 100%|██████████| 7/7 [00:15<00:00,  2.21s/it]\n",
      "Training (15371 / 18000 Steps) (loss=0.16947): 100%|██████████| 7/7 [00:15<00:00,  2.26s/it]\n",
      "Training (15378 / 18000 Steps) (loss=0.59719): 100%|██████████| 7/7 [00:16<00:00,  2.38s/it]\n",
      "Training (15385 / 18000 Steps) (loss=0.08024): 100%|██████████| 7/7 [00:15<00:00,  2.26s/it]\n",
      "Training (15392 / 18000 Steps) (loss=0.38221): 100%|██████████| 7/7 [00:17<00:00,  2.48s/it]\n",
      "Training (15399 / 18000 Steps) (loss=0.52429): 100%|██████████| 7/7 [00:16<00:00,  2.29s/it]\n",
      "Validate (15400 / 10 Steps): 100%|██████████| 2/2 [00:11<00:00,  5.85s/it]<?, ?it/s]\n",
      "Training (15400 / 18000 Steps) (loss=0.32385):  14%|█▍        | 1/7 [00:19<01:54, 19.05s/it]"
     ]
    },
    {
     "name": "stdout",
     "output_type": "stream",
     "text": [
      "Model Was Not Saved ! Current Best Avg. Dice: 0.5890686511993408 Current Avg. Dice: 0.5563398003578186 Current Avg. tumor Dice: 0.592420220375061 Current Avg. lymph Dice: 0.5202593803405762\n"
     ]
    },
    {
     "name": "stderr",
     "output_type": "stream",
     "text": [
      "Training (15406 / 18000 Steps) (loss=0.39166): 100%|██████████| 7/7 [00:27<00:00,  3.99s/it]\n",
      "Training (15413 / 18000 Steps) (loss=0.28954): 100%|██████████| 7/7 [00:15<00:00,  2.21s/it]\n",
      "Training (15420 / 18000 Steps) (loss=0.52055): 100%|██████████| 7/7 [00:16<00:00,  2.33s/it]\n",
      "Training (15427 / 18000 Steps) (loss=0.30293): 100%|██████████| 7/7 [00:15<00:00,  2.26s/it]\n",
      "Training (15434 / 18000 Steps) (loss=0.23014): 100%|██████████| 7/7 [00:15<00:00,  2.21s/it]\n",
      "Training (15441 / 18000 Steps) (loss=0.29154): 100%|██████████| 7/7 [00:15<00:00,  2.20s/it]\n",
      "Training (15448 / 18000 Steps) (loss=0.32468): 100%|██████████| 7/7 [00:17<00:00,  2.48s/it]\n",
      "Training (15455 / 18000 Steps) (loss=0.45662): 100%|██████████| 7/7 [00:15<00:00,  2.24s/it]\n",
      "Training (15462 / 18000 Steps) (loss=0.47160): 100%|██████████| 7/7 [00:16<00:00,  2.32s/it]\n",
      "Training (15469 / 18000 Steps) (loss=0.42782): 100%|██████████| 7/7 [00:16<00:00,  2.39s/it]\n",
      "Training (15476 / 18000 Steps) (loss=0.23749): 100%|██████████| 7/7 [00:17<00:00,  2.51s/it]\n",
      "Training (15483 / 18000 Steps) (loss=0.30407): 100%|██████████| 7/7 [00:16<00:00,  2.36s/it]\n",
      "Training (15490 / 18000 Steps) (loss=0.28492): 100%|██████████| 7/7 [00:15<00:00,  2.26s/it]\n",
      "Training (15497 / 18000 Steps) (loss=0.22927): 100%|██████████| 7/7 [00:15<00:00,  2.20s/it]\n",
      "Validate (15498 / 10 Steps): 100%|██████████| 2/2 [00:11<00:00,  5.85s/it]<00:19,  3.85s/it]\n",
      "Training (15500 / 18000 Steps) (loss=0.29368):  43%|████▎     | 3/7 [00:22<00:32,  8.20s/it]"
     ]
    },
    {
     "name": "stdout",
     "output_type": "stream",
     "text": [
      "Model Was Not Saved ! Current Best Avg. Dice: 0.5890686511993408 Current Avg. Dice: 0.5156728625297546 Current Avg. tumor Dice: 0.5782804489135742 Current Avg. lymph Dice: 0.45306524634361267\n"
     ]
    },
    {
     "name": "stderr",
     "output_type": "stream",
     "text": [
      "Training (15504 / 18000 Steps) (loss=0.10656): 100%|██████████| 7/7 [00:27<00:00,  3.96s/it]\n",
      "Training (15511 / 18000 Steps) (loss=0.34363): 100%|██████████| 7/7 [00:16<00:00,  2.40s/it]\n",
      "Training (15518 / 18000 Steps) (loss=0.08629): 100%|██████████| 7/7 [00:16<00:00,  2.32s/it]\n",
      "Training (15525 / 18000 Steps) (loss=0.23169): 100%|██████████| 7/7 [00:16<00:00,  2.38s/it]\n",
      "Training (15532 / 18000 Steps) (loss=0.33446): 100%|██████████| 7/7 [00:16<00:00,  2.33s/it]\n",
      "Training (15539 / 18000 Steps) (loss=0.42343): 100%|██████████| 7/7 [00:16<00:00,  2.31s/it]\n",
      "Training (15546 / 18000 Steps) (loss=0.37323): 100%|██████████| 7/7 [00:16<00:00,  2.36s/it]\n",
      "Training (15553 / 18000 Steps) (loss=0.45929): 100%|██████████| 7/7 [00:17<00:00,  2.44s/it]\n",
      "Training (15560 / 18000 Steps) (loss=0.59913): 100%|██████████| 7/7 [00:15<00:00,  2.19s/it]\n",
      "Training (15567 / 18000 Steps) (loss=0.41970): 100%|██████████| 7/7 [00:15<00:00,  2.25s/it]\n",
      "Training (15574 / 18000 Steps) (loss=0.16203): 100%|██████████| 7/7 [00:15<00:00,  2.24s/it]\n",
      "Training (15581 / 18000 Steps) (loss=0.24455): 100%|██████████| 7/7 [00:16<00:00,  2.35s/it]\n",
      "Training (15588 / 18000 Steps) (loss=0.30766): 100%|██████████| 7/7 [00:16<00:00,  2.32s/it]\n",
      "Training (15595 / 18000 Steps) (loss=0.51700): 100%|██████████| 7/7 [00:16<00:00,  2.32s/it]\n",
      "Validate (15596 / 10 Steps): 100%|██████████| 2/2 [00:11<00:00,  5.90s/it]<00:07,  2.36s/it]\n",
      "Training (15600 / 18000 Steps) (loss=0.31690):  71%|███████▏  | 5/7 [00:25<00:12,  6.38s/it]"
     ]
    },
    {
     "name": "stdout",
     "output_type": "stream",
     "text": [
      "Model Was Not Saved ! Current Best Avg. Dice: 0.5890686511993408 Current Avg. Dice: 0.5626248717308044 Current Avg. tumor Dice: 0.5999500155448914 Current Avg. lymph Dice: 0.5252997279167175\n"
     ]
    },
    {
     "name": "stderr",
     "output_type": "stream",
     "text": [
      "Training (15602 / 18000 Steps) (loss=0.18729): 100%|██████████| 7/7 [00:28<00:00,  4.01s/it]\n",
      "Training (15609 / 18000 Steps) (loss=0.38635): 100%|██████████| 7/7 [00:15<00:00,  2.27s/it]\n",
      "Training (15616 / 18000 Steps) (loss=0.39510): 100%|██████████| 7/7 [00:16<00:00,  2.41s/it]\n",
      "Training (15623 / 18000 Steps) (loss=0.09140): 100%|██████████| 7/7 [00:15<00:00,  2.18s/it]\n",
      "Training (15630 / 18000 Steps) (loss=0.26876): 100%|██████████| 7/7 [00:15<00:00,  2.19s/it]\n",
      "Training (15637 / 18000 Steps) (loss=0.37591): 100%|██████████| 7/7 [00:16<00:00,  2.32s/it]\n",
      "Training (15644 / 18000 Steps) (loss=0.25331): 100%|██████████| 7/7 [00:16<00:00,  2.37s/it]\n",
      "Training (15651 / 18000 Steps) (loss=0.11098): 100%|██████████| 7/7 [00:15<00:00,  2.18s/it]\n",
      "Training (15658 / 18000 Steps) (loss=0.12233): 100%|██████████| 7/7 [00:16<00:00,  2.32s/it]\n",
      "Training (15665 / 18000 Steps) (loss=0.30818): 100%|██████████| 7/7 [00:16<00:00,  2.36s/it]\n",
      "Training (15672 / 18000 Steps) (loss=0.40093): 100%|██████████| 7/7 [00:17<00:00,  2.49s/it]\n",
      "Training (15679 / 18000 Steps) (loss=0.29363): 100%|██████████| 7/7 [00:16<00:00,  2.29s/it]\n",
      "Training (15686 / 18000 Steps) (loss=0.10397): 100%|██████████| 7/7 [00:16<00:00,  2.36s/it]\n",
      "Training (15693 / 18000 Steps) (loss=0.32985): 100%|██████████| 7/7 [00:17<00:00,  2.44s/it]\n",
      "Validate (15694 / 10 Steps): 100%|██████████| 2/2 [00:11<00:00,  5.82s/it]<00:01,  1.90s/it]\n",
      "Training (15700 / 18000 Steps) (loss=0.10480): 100%|██████████| 7/7 [00:27<00:00,  3.93s/it]\n"
     ]
    },
    {
     "name": "stdout",
     "output_type": "stream",
     "text": [
      "Model Was Not Saved ! Current Best Avg. Dice: 0.5890686511993408 Current Avg. Dice: 0.5322511792182922 Current Avg. tumor Dice: 0.6084750890731812 Current Avg. lymph Dice: 0.45602720975875854\n"
     ]
    },
    {
     "name": "stderr",
     "output_type": "stream",
     "text": [
      "Training (15707 / 18000 Steps) (loss=0.45006): 100%|██████████| 7/7 [00:15<00:00,  2.24s/it]\n",
      "Training (15714 / 18000 Steps) (loss=0.60212): 100%|██████████| 7/7 [00:17<00:00,  2.50s/it]\n",
      "Training (15721 / 18000 Steps) (loss=0.32635): 100%|██████████| 7/7 [00:15<00:00,  2.23s/it]\n",
      "Training (15728 / 18000 Steps) (loss=0.25567): 100%|██████████| 7/7 [00:15<00:00,  2.21s/it]\n",
      "Training (15735 / 18000 Steps) (loss=0.42477): 100%|██████████| 7/7 [00:15<00:00,  2.28s/it]\n",
      "Training (15742 / 18000 Steps) (loss=0.32723): 100%|██████████| 7/7 [00:15<00:00,  2.25s/it]\n",
      "Training (15749 / 18000 Steps) (loss=0.25310): 100%|██████████| 7/7 [00:16<00:00,  2.42s/it]\n",
      "Training (15756 / 18000 Steps) (loss=0.23352): 100%|██████████| 7/7 [00:17<00:00,  2.50s/it]\n",
      "Training (15763 / 18000 Steps) (loss=0.19008): 100%|██████████| 7/7 [00:16<00:00,  2.30s/it]\n",
      "Training (15770 / 18000 Steps) (loss=0.17183): 100%|██████████| 7/7 [00:16<00:00,  2.29s/it]\n",
      "Training (15777 / 18000 Steps) (loss=0.38817): 100%|██████████| 7/7 [00:15<00:00,  2.24s/it]\n",
      "Training (15784 / 18000 Steps) (loss=0.52217): 100%|██████████| 7/7 [00:15<00:00,  2.27s/it]\n",
      "Training (15791 / 18000 Steps) (loss=0.37697): 100%|██████████| 7/7 [00:17<00:00,  2.48s/it]\n",
      "Training (15798 / 18000 Steps) (loss=0.23345): 100%|██████████| 7/7 [00:16<00:00,  2.29s/it]\n",
      "Validate (15799 / 10 Steps): 100%|██████████| 2/2 [00:11<00:00,  5.93s/it]<00:41,  6.89s/it]\n",
      "Training (15800 / 18000 Steps) (loss=0.36039):  29%|██▊       | 2/7 [00:20<00:53, 10.79s/it]"
     ]
    },
    {
     "name": "stdout",
     "output_type": "stream",
     "text": [
      "Model Was Not Saved ! Current Best Avg. Dice: 0.5890686511993408 Current Avg. Dice: 0.5752204656600952 Current Avg. tumor Dice: 0.6273696422576904 Current Avg. lymph Dice: 0.5230713486671448\n"
     ]
    },
    {
     "name": "stderr",
     "output_type": "stream",
     "text": [
      "Training (15805 / 18000 Steps) (loss=0.27250): 100%|██████████| 7/7 [00:27<00:00,  3.96s/it]\n",
      "Training (15812 / 18000 Steps) (loss=0.23027): 100%|██████████| 7/7 [00:16<00:00,  2.38s/it]\n",
      "Training (15819 / 18000 Steps) (loss=0.32860): 100%|██████████| 7/7 [00:17<00:00,  2.45s/it]\n",
      "Training (15826 / 18000 Steps) (loss=0.37511): 100%|██████████| 7/7 [00:16<00:00,  2.42s/it]\n",
      "Training (15833 / 18000 Steps) (loss=0.45276): 100%|██████████| 7/7 [00:17<00:00,  2.54s/it]\n",
      "Training (15840 / 18000 Steps) (loss=0.16554): 100%|██████████| 7/7 [00:16<00:00,  2.38s/it]\n",
      "Training (15847 / 18000 Steps) (loss=0.12198): 100%|██████████| 7/7 [00:16<00:00,  2.30s/it]\n",
      "Training (15854 / 18000 Steps) (loss=0.44357): 100%|██████████| 7/7 [00:16<00:00,  2.34s/it]\n",
      "Training (15861 / 18000 Steps) (loss=0.47906): 100%|██████████| 7/7 [00:16<00:00,  2.39s/it]\n",
      "Training (15868 / 18000 Steps) (loss=0.17867): 100%|██████████| 7/7 [00:15<00:00,  2.27s/it]\n",
      "Training (15875 / 18000 Steps) (loss=0.08942): 100%|██████████| 7/7 [00:15<00:00,  2.26s/it]\n",
      "Training (15882 / 18000 Steps) (loss=0.59523): 100%|██████████| 7/7 [00:15<00:00,  2.26s/it]\n",
      "Training (15889 / 18000 Steps) (loss=0.24582): 100%|██████████| 7/7 [00:16<00:00,  2.35s/it]\n",
      "Training (15896 / 18000 Steps) (loss=0.15711): 100%|██████████| 7/7 [00:16<00:00,  2.32s/it]\n",
      "Validate (15897 / 10 Steps): 100%|██████████| 2/2 [00:11<00:00,  5.94s/it]<00:11,  2.98s/it]\n",
      "Training (15900 / 18000 Steps) (loss=0.56659):  57%|█████▋    | 4/7 [00:24<00:21,  7.16s/it]"
     ]
    },
    {
     "name": "stdout",
     "output_type": "stream",
     "text": [
      "Model Was Not Saved ! Current Best Avg. Dice: 0.5890686511993408 Current Avg. Dice: 0.5092729330062866 Current Avg. tumor Dice: 0.5651405453681946 Current Avg. lymph Dice: 0.45340532064437866\n"
     ]
    },
    {
     "name": "stderr",
     "output_type": "stream",
     "text": [
      "Training (15903 / 18000 Steps) (loss=0.30721): 100%|██████████| 7/7 [00:28<00:00,  4.09s/it]\n",
      "Training (15910 / 18000 Steps) (loss=0.53083): 100%|██████████| 7/7 [00:16<00:00,  2.39s/it]\n",
      "Training (15917 / 18000 Steps) (loss=0.15460): 100%|██████████| 7/7 [00:17<00:00,  2.55s/it]\n",
      "Training (15924 / 18000 Steps) (loss=0.33662): 100%|██████████| 7/7 [00:16<00:00,  2.39s/it]\n",
      "Training (15931 / 18000 Steps) (loss=0.52489): 100%|██████████| 7/7 [00:15<00:00,  2.20s/it]\n",
      "Training (15938 / 18000 Steps) (loss=0.30504): 100%|██████████| 7/7 [00:15<00:00,  2.26s/it]\n",
      "Training (15945 / 18000 Steps) (loss=0.18316): 100%|██████████| 7/7 [00:17<00:00,  2.45s/it]\n",
      "Training (15952 / 18000 Steps) (loss=0.38268): 100%|██████████| 7/7 [00:17<00:00,  2.44s/it]\n",
      "Training (15959 / 18000 Steps) (loss=0.36745): 100%|██████████| 7/7 [00:17<00:00,  2.43s/it]\n",
      "Training (15966 / 18000 Steps) (loss=0.27381): 100%|██████████| 7/7 [00:16<00:00,  2.34s/it]\n",
      "Training (15973 / 18000 Steps) (loss=0.34919): 100%|██████████| 7/7 [00:15<00:00,  2.21s/it]\n",
      "Training (15980 / 18000 Steps) (loss=0.43145): 100%|██████████| 7/7 [00:15<00:00,  2.28s/it]\n",
      "Training (15987 / 18000 Steps) (loss=0.17180): 100%|██████████| 7/7 [00:16<00:00,  2.41s/it]\n",
      "Training (15994 / 18000 Steps) (loss=0.22996): 100%|██████████| 7/7 [00:15<00:00,  2.23s/it]\n",
      "Validate (15995 / 10 Steps): 100%|██████████| 2/2 [00:11<00:00,  5.90s/it]<00:04,  2.12s/it]\n",
      "Training (16000 / 18000 Steps) (loss=0.19379):  86%|████████▌ | 6/7 [00:27<00:05,  5.98s/it]"
     ]
    },
    {
     "name": "stdout",
     "output_type": "stream",
     "text": [
      "Model Was Not Saved ! Current Best Avg. Dice: 0.5890686511993408 Current Avg. Dice: 0.5105178356170654 Current Avg. tumor Dice: 0.5171828269958496 Current Avg. lymph Dice: 0.5038529634475708\n"
     ]
    },
    {
     "name": "stderr",
     "output_type": "stream",
     "text": [
      "Training (16001 / 18000 Steps) (loss=0.10052): 100%|██████████| 7/7 [00:28<00:00,  4.06s/it]\n",
      "Training (16008 / 18000 Steps) (loss=0.26251): 100%|██████████| 7/7 [00:15<00:00,  2.28s/it]\n",
      "Training (16015 / 18000 Steps) (loss=0.37638): 100%|██████████| 7/7 [00:17<00:00,  2.50s/it]\n",
      "Training (16022 / 18000 Steps) (loss=0.12042): 100%|██████████| 7/7 [00:16<00:00,  2.36s/it]\n",
      "Training (16029 / 18000 Steps) (loss=0.23457): 100%|██████████| 7/7 [00:16<00:00,  2.41s/it]\n",
      "Training (16036 / 18000 Steps) (loss=0.23861): 100%|██████████| 7/7 [00:15<00:00,  2.23s/it]\n",
      "Training (16043 / 18000 Steps) (loss=0.23879): 100%|██████████| 7/7 [00:15<00:00,  2.23s/it]\n",
      "Training (16050 / 18000 Steps) (loss=0.24681): 100%|██████████| 7/7 [00:17<00:00,  2.49s/it]\n",
      "Training (16057 / 18000 Steps) (loss=0.27333): 100%|██████████| 7/7 [00:16<00:00,  2.39s/it]\n",
      "Training (16064 / 18000 Steps) (loss=0.53098): 100%|██████████| 7/7 [00:16<00:00,  2.37s/it]\n",
      "Training (16071 / 18000 Steps) (loss=0.32744): 100%|██████████| 7/7 [00:15<00:00,  2.21s/it]\n",
      "Training (16078 / 18000 Steps) (loss=0.47368): 100%|██████████| 7/7 [00:16<00:00,  2.39s/it]\n",
      "Training (16085 / 18000 Steps) (loss=0.35216): 100%|██████████| 7/7 [00:17<00:00,  2.52s/it]\n",
      "Training (16092 / 18000 Steps) (loss=0.39042): 100%|██████████| 7/7 [00:16<00:00,  2.34s/it]\n",
      "Training (16099 / 18000 Steps) (loss=0.39636): 100%|██████████| 7/7 [00:17<00:00,  2.45s/it]\n",
      "Validate (16100 / 10 Steps): 100%|██████████| 2/2 [00:11<00:00,  5.92s/it]<?, ?it/s]\n",
      "Training (16100 / 18000 Steps) (loss=0.10893):  14%|█▍        | 1/7 [00:18<01:52, 18.70s/it]"
     ]
    },
    {
     "name": "stdout",
     "output_type": "stream",
     "text": [
      "Model Was Not Saved ! Current Best Avg. Dice: 0.5890686511993408 Current Avg. Dice: 0.531276524066925 Current Avg. tumor Dice: 0.5632025599479675 Current Avg. lymph Dice: 0.49935048818588257\n"
     ]
    },
    {
     "name": "stderr",
     "output_type": "stream",
     "text": [
      "Training (16106 / 18000 Steps) (loss=0.33751): 100%|██████████| 7/7 [00:27<00:00,  3.94s/it]\n",
      "Training (16113 / 18000 Steps) (loss=0.11673): 100%|██████████| 7/7 [00:15<00:00,  2.27s/it]\n",
      "Training (16120 / 18000 Steps) (loss=0.14127): 100%|██████████| 7/7 [00:15<00:00,  2.20s/it]\n",
      "Training (16127 / 18000 Steps) (loss=0.52255): 100%|██████████| 7/7 [00:17<00:00,  2.44s/it]\n",
      "Training (16134 / 18000 Steps) (loss=0.31156): 100%|██████████| 7/7 [00:15<00:00,  2.22s/it]\n",
      "Training (16141 / 18000 Steps) (loss=0.23057): 100%|██████████| 7/7 [00:16<00:00,  2.42s/it]\n",
      "Training (16148 / 18000 Steps) (loss=0.37722): 100%|██████████| 7/7 [00:16<00:00,  2.40s/it]\n",
      "Training (16155 / 18000 Steps) (loss=0.23073): 100%|██████████| 7/7 [00:16<00:00,  2.40s/it]\n",
      "Training (16162 / 18000 Steps) (loss=0.34747): 100%|██████████| 7/7 [00:17<00:00,  2.49s/it]\n",
      "Training (16169 / 18000 Steps) (loss=0.16832): 100%|██████████| 7/7 [00:16<00:00,  2.39s/it]\n",
      "Training (16176 / 18000 Steps) (loss=0.38952): 100%|██████████| 7/7 [00:16<00:00,  2.33s/it]\n",
      "Training (16183 / 18000 Steps) (loss=0.19993): 100%|██████████| 7/7 [00:16<00:00,  2.39s/it]\n",
      "Training (16190 / 18000 Steps) (loss=0.24592): 100%|██████████| 7/7 [00:16<00:00,  2.29s/it]\n",
      "Training (16197 / 18000 Steps) (loss=0.49854): 100%|██████████| 7/7 [00:16<00:00,  2.32s/it]\n",
      "Validate (16198 / 10 Steps): 100%|██████████| 2/2 [00:11<00:00,  5.84s/it]<00:20,  4.12s/it]\n",
      "Training (16200 / 18000 Steps) (loss=0.12371):  43%|████▎     | 3/7 [00:22<00:33,  8.35s/it]"
     ]
    },
    {
     "name": "stdout",
     "output_type": "stream",
     "text": [
      "Model Was Not Saved ! Current Best Avg. Dice: 0.5890686511993408 Current Avg. Dice: 0.5016055107116699 Current Avg. tumor Dice: 0.553153395652771 Current Avg. lymph Dice: 0.45005762577056885\n"
     ]
    },
    {
     "name": "stderr",
     "output_type": "stream",
     "text": [
      "Training (16204 / 18000 Steps) (loss=0.45230): 100%|██████████| 7/7 [00:28<00:00,  4.06s/it]\n",
      "Training (16211 / 18000 Steps) (loss=0.42362): 100%|██████████| 7/7 [00:15<00:00,  2.18s/it]\n",
      "Training (16218 / 18000 Steps) (loss=0.45652): 100%|██████████| 7/7 [00:15<00:00,  2.19s/it]\n",
      "Training (16225 / 18000 Steps) (loss=0.41051): 100%|██████████| 7/7 [00:16<00:00,  2.33s/it]\n",
      "Training (16232 / 18000 Steps) (loss=0.47643): 100%|██████████| 7/7 [00:15<00:00,  2.26s/it]\n",
      "Training (16239 / 18000 Steps) (loss=0.24435): 100%|██████████| 7/7 [00:16<00:00,  2.42s/it]\n",
      "Training (16246 / 18000 Steps) (loss=0.28016): 100%|██████████| 7/7 [00:16<00:00,  2.37s/it]\n",
      "Training (16253 / 18000 Steps) (loss=0.30711): 100%|██████████| 7/7 [00:15<00:00,  2.27s/it]\n",
      "Training (16260 / 18000 Steps) (loss=0.23457): 100%|██████████| 7/7 [00:15<00:00,  2.28s/it]\n",
      "Training (16267 / 18000 Steps) (loss=0.12671): 100%|██████████| 7/7 [00:17<00:00,  2.43s/it]\n",
      "Training (16274 / 18000 Steps) (loss=0.59634): 100%|██████████| 7/7 [00:15<00:00,  2.21s/it]\n",
      "Training (16281 / 18000 Steps) (loss=0.16846): 100%|██████████| 7/7 [00:17<00:00,  2.46s/it]\n",
      "Training (16288 / 18000 Steps) (loss=0.19212): 100%|██████████| 7/7 [00:17<00:00,  2.45s/it]\n",
      "Training (16295 / 18000 Steps) (loss=0.28354): 100%|██████████| 7/7 [00:15<00:00,  2.28s/it]\n",
      "Validate (16296 / 10 Steps): 100%|██████████| 2/2 [00:11<00:00,  5.84s/it]<00:07,  2.44s/it]\n",
      "Training (16300 / 18000 Steps) (loss=0.32236):  71%|███████▏  | 5/7 [00:25<00:12,  6.38s/it]"
     ]
    },
    {
     "name": "stdout",
     "output_type": "stream",
     "text": [
      "Model Was Not Saved ! Current Best Avg. Dice: 0.5890686511993408 Current Avg. Dice: 0.5350387096405029 Current Avg. tumor Dice: 0.5903117656707764 Current Avg. lymph Dice: 0.4797656536102295\n"
     ]
    },
    {
     "name": "stderr",
     "output_type": "stream",
     "text": [
      "Training (16302 / 18000 Steps) (loss=0.38854): 100%|██████████| 7/7 [00:28<00:00,  4.07s/it]\n",
      "Training (16309 / 18000 Steps) (loss=0.46455): 100%|██████████| 7/7 [00:15<00:00,  2.20s/it]\n",
      "Training (16316 / 18000 Steps) (loss=0.38629): 100%|██████████| 7/7 [00:16<00:00,  2.31s/it]\n",
      "Training (16323 / 18000 Steps) (loss=0.39132): 100%|██████████| 7/7 [00:17<00:00,  2.53s/it]\n",
      "Training (16330 / 18000 Steps) (loss=0.22404): 100%|██████████| 7/7 [00:15<00:00,  2.19s/it]\n",
      "Training (16337 / 18000 Steps) (loss=0.52314): 100%|██████████| 7/7 [00:16<00:00,  2.35s/it]\n",
      "Training (16344 / 18000 Steps) (loss=0.29163): 100%|██████████| 7/7 [00:18<00:00,  2.57s/it]\n",
      "Training (16351 / 18000 Steps) (loss=0.31727): 100%|██████████| 7/7 [00:15<00:00,  2.27s/it]\n",
      "Training (16358 / 18000 Steps) (loss=0.46679): 100%|██████████| 7/7 [00:16<00:00,  2.41s/it]\n",
      "Training (16365 / 18000 Steps) (loss=0.12928): 100%|██████████| 7/7 [00:16<00:00,  2.30s/it]\n",
      "Training (16372 / 18000 Steps) (loss=0.33031): 100%|██████████| 7/7 [00:17<00:00,  2.48s/it]\n",
      "Training (16379 / 18000 Steps) (loss=0.52361): 100%|██████████| 7/7 [00:15<00:00,  2.23s/it]\n",
      "Training (16386 / 18000 Steps) (loss=0.53463): 100%|██████████| 7/7 [00:16<00:00,  2.33s/it]\n",
      "Training (16393 / 18000 Steps) (loss=0.39087): 100%|██████████| 7/7 [00:17<00:00,  2.53s/it]\n",
      "Validate (16394 / 10 Steps): 100%|██████████| 2/2 [00:11<00:00,  5.90s/it]<00:01,  1.95s/it]\n",
      "Training (16400 / 18000 Steps) (loss=0.31183): 100%|██████████| 7/7 [00:28<00:00,  4.09s/it]\n"
     ]
    },
    {
     "name": "stdout",
     "output_type": "stream",
     "text": [
      "Model Was Not Saved ! Current Best Avg. Dice: 0.5890686511993408 Current Avg. Dice: 0.5832962989807129 Current Avg. tumor Dice: 0.6122031807899475 Current Avg. lymph Dice: 0.554389476776123\n"
     ]
    },
    {
     "name": "stderr",
     "output_type": "stream",
     "text": [
      "Training (16407 / 18000 Steps) (loss=0.25960): 100%|██████████| 7/7 [00:15<00:00,  2.23s/it]\n",
      "Training (16414 / 18000 Steps) (loss=0.31313): 100%|██████████| 7/7 [00:15<00:00,  2.28s/it]\n",
      "Training (16421 / 18000 Steps) (loss=0.25363): 100%|██████████| 7/7 [00:16<00:00,  2.41s/it]\n",
      "Training (16428 / 18000 Steps) (loss=0.41588): 100%|██████████| 7/7 [00:15<00:00,  2.28s/it]\n",
      "Training (16435 / 18000 Steps) (loss=0.20961): 100%|██████████| 7/7 [00:16<00:00,  2.39s/it]\n",
      "Training (16442 / 18000 Steps) (loss=0.41556): 100%|██████████| 7/7 [00:17<00:00,  2.51s/it]\n",
      "Training (16449 / 18000 Steps) (loss=0.46451): 100%|██████████| 7/7 [00:15<00:00,  2.22s/it]\n",
      "Training (16456 / 18000 Steps) (loss=0.53738): 100%|██████████| 7/7 [00:17<00:00,  2.48s/it]\n",
      "Training (16463 / 18000 Steps) (loss=0.19401): 100%|██████████| 7/7 [00:16<00:00,  2.35s/it]\n",
      "Training (16470 / 18000 Steps) (loss=0.27574): 100%|██████████| 7/7 [00:16<00:00,  2.33s/it]\n",
      "Training (16477 / 18000 Steps) (loss=0.23774): 100%|██████████| 7/7 [00:15<00:00,  2.26s/it]\n",
      "Training (16484 / 18000 Steps) (loss=0.34458): 100%|██████████| 7/7 [00:17<00:00,  2.55s/it]\n",
      "Training (16491 / 18000 Steps) (loss=0.27936): 100%|██████████| 7/7 [00:17<00:00,  2.52s/it]\n",
      "Training (16498 / 18000 Steps) (loss=0.53630): 100%|██████████| 7/7 [00:17<00:00,  2.47s/it]\n",
      "Validate (16499 / 10 Steps): 100%|██████████| 2/2 [00:12<00:00,  6.01s/it]<00:47,  7.95s/it]\n",
      "Training (16500 / 18000 Steps) (loss=0.61607):  29%|██▊       | 2/7 [00:21<00:56, 11.34s/it]"
     ]
    },
    {
     "name": "stdout",
     "output_type": "stream",
     "text": [
      "Model Was Not Saved ! Current Best Avg. Dice: 0.5890686511993408 Current Avg. Dice: 0.53298020362854 Current Avg. tumor Dice: 0.5471729040145874 Current Avg. lymph Dice: 0.5187874436378479\n"
     ]
    },
    {
     "name": "stderr",
     "output_type": "stream",
     "text": [
      "Training (16505 / 18000 Steps) (loss=0.22256): 100%|██████████| 7/7 [00:28<00:00,  4.13s/it]\n",
      "Training (16512 / 18000 Steps) (loss=0.10645): 100%|██████████| 7/7 [00:15<00:00,  2.22s/it]\n",
      "Training (16519 / 18000 Steps) (loss=0.37910): 100%|██████████| 7/7 [00:15<00:00,  2.22s/it]\n",
      "Training (16526 / 18000 Steps) (loss=0.19198): 100%|██████████| 7/7 [00:16<00:00,  2.30s/it]\n",
      "Training (16533 / 18000 Steps) (loss=0.39432): 100%|██████████| 7/7 [00:16<00:00,  2.39s/it]\n",
      "Training (16540 / 18000 Steps) (loss=0.37922): 100%|██████████| 7/7 [00:15<00:00,  2.28s/it]\n",
      "Training (16547 / 18000 Steps) (loss=0.24073): 100%|██████████| 7/7 [00:17<00:00,  2.56s/it]\n",
      "Training (16554 / 18000 Steps) (loss=0.16946): 100%|██████████| 7/7 [00:15<00:00,  2.27s/it]\n",
      "Training (16561 / 18000 Steps) (loss=0.16195): 100%|██████████| 7/7 [00:16<00:00,  2.34s/it]\n",
      "Training (16568 / 18000 Steps) (loss=0.51904): 100%|██████████| 7/7 [00:17<00:00,  2.52s/it]\n",
      "Training (16575 / 18000 Steps) (loss=0.15704): 100%|██████████| 7/7 [00:16<00:00,  2.39s/it]\n",
      "Training (16582 / 18000 Steps) (loss=0.23676): 100%|██████████| 7/7 [00:15<00:00,  2.27s/it]\n",
      "Training (16589 / 18000 Steps) (loss=0.22256): 100%|██████████| 7/7 [00:15<00:00,  2.25s/it]\n",
      "Training (16596 / 18000 Steps) (loss=0.47391): 100%|██████████| 7/7 [00:15<00:00,  2.23s/it]\n",
      "Validate (16597 / 10 Steps): 100%|██████████| 2/2 [00:11<00:00,  6.00s/it]<00:12,  3.05s/it]\n",
      "Training (16600 / 18000 Steps) (loss=0.29172):  57%|█████▋    | 4/7 [00:24<00:21,  7.24s/it]"
     ]
    },
    {
     "name": "stdout",
     "output_type": "stream",
     "text": [
      "Model Was Not Saved ! Current Best Avg. Dice: 0.5890686511993408 Current Avg. Dice: 0.5438556671142578 Current Avg. tumor Dice: 0.5892713069915771 Current Avg. lymph Dice: 0.4984400272369385\n"
     ]
    },
    {
     "name": "stderr",
     "output_type": "stream",
     "text": [
      "Training (16603 / 18000 Steps) (loss=0.37543): 100%|██████████| 7/7 [00:29<00:00,  4.15s/it]\n",
      "Training (16610 / 18000 Steps) (loss=0.52060): 100%|██████████| 7/7 [00:15<00:00,  2.23s/it]\n",
      "Training (16617 / 18000 Steps) (loss=0.22067): 100%|██████████| 7/7 [00:16<00:00,  2.32s/it]\n",
      "Training (16624 / 18000 Steps) (loss=0.18560): 100%|██████████| 7/7 [00:16<00:00,  2.42s/it]\n",
      "Training (16631 / 18000 Steps) (loss=0.26988): 100%|██████████| 7/7 [00:16<00:00,  2.31s/it]\n",
      "Training (16638 / 18000 Steps) (loss=0.46420): 100%|██████████| 7/7 [00:16<00:00,  2.39s/it]\n",
      "Training (16645 / 18000 Steps) (loss=0.30048): 100%|██████████| 7/7 [00:15<00:00,  2.27s/it]\n",
      "Training (16652 / 18000 Steps) (loss=0.51203): 100%|██████████| 7/7 [00:17<00:00,  2.45s/it]\n",
      "Training (16659 / 18000 Steps) (loss=0.24074): 100%|██████████| 7/7 [00:16<00:00,  2.30s/it]\n",
      "Training (16666 / 18000 Steps) (loss=0.31180): 100%|██████████| 7/7 [00:16<00:00,  2.41s/it]\n",
      "Training (16673 / 18000 Steps) (loss=0.21989): 100%|██████████| 7/7 [00:16<00:00,  2.34s/it]\n",
      "Training (16680 / 18000 Steps) (loss=0.41443): 100%|██████████| 7/7 [00:16<00:00,  2.30s/it]\n",
      "Training (16687 / 18000 Steps) (loss=0.23378): 100%|██████████| 7/7 [00:16<00:00,  2.39s/it]\n",
      "Training (16694 / 18000 Steps) (loss=0.30087): 100%|██████████| 7/7 [00:15<00:00,  2.27s/it]\n",
      "Validate (16695 / 10 Steps): 100%|██████████| 2/2 [00:11<00:00,  5.95s/it]<00:04,  2.09s/it]\n",
      "Training (16700 / 18000 Steps) (loss=0.40014):  86%|████████▌ | 6/7 [00:27<00:06,  6.00s/it]"
     ]
    },
    {
     "name": "stdout",
     "output_type": "stream",
     "text": [
      "Model Was Not Saved ! Current Best Avg. Dice: 0.5890686511993408 Current Avg. Dice: 0.3876492381095886 Current Avg. tumor Dice: 0.4653376340866089 Current Avg. lymph Dice: 0.30996081233024597\n"
     ]
    },
    {
     "name": "stderr",
     "output_type": "stream",
     "text": [
      "Training (16701 / 18000 Steps) (loss=0.43691): 100%|██████████| 7/7 [00:28<00:00,  4.03s/it]\n",
      "Training (16708 / 18000 Steps) (loss=0.26081): 100%|██████████| 7/7 [00:17<00:00,  2.43s/it]\n",
      "Training (16715 / 18000 Steps) (loss=0.42159): 100%|██████████| 7/7 [00:15<00:00,  2.24s/it]\n",
      "Training (16722 / 18000 Steps) (loss=0.18813): 100%|██████████| 7/7 [00:15<00:00,  2.23s/it]\n",
      "Training (16729 / 18000 Steps) (loss=0.18019): 100%|██████████| 7/7 [00:16<00:00,  2.32s/it]\n",
      "Training (16736 / 18000 Steps) (loss=0.32678): 100%|██████████| 7/7 [00:15<00:00,  2.23s/it]\n",
      "Training (16743 / 18000 Steps) (loss=0.23235): 100%|██████████| 7/7 [00:16<00:00,  2.41s/it]\n",
      "Training (16750 / 18000 Steps) (loss=0.28658): 100%|██████████| 7/7 [00:16<00:00,  2.35s/it]\n",
      "Training (16757 / 18000 Steps) (loss=0.32236): 100%|██████████| 7/7 [00:15<00:00,  2.24s/it]\n",
      "Training (16764 / 18000 Steps) (loss=0.41895): 100%|██████████| 7/7 [00:15<00:00,  2.28s/it]\n",
      "Training (16771 / 18000 Steps) (loss=0.12172): 100%|██████████| 7/7 [00:16<00:00,  2.30s/it]\n",
      "Training (16778 / 18000 Steps) (loss=0.28386): 100%|██████████| 7/7 [00:16<00:00,  2.31s/it]\n",
      "Training (16785 / 18000 Steps) (loss=0.46891): 100%|██████████| 7/7 [00:16<00:00,  2.35s/it]\n",
      "Training (16792 / 18000 Steps) (loss=0.29700): 100%|██████████| 7/7 [00:16<00:00,  2.34s/it]\n",
      "Training (16799 / 18000 Steps) (loss=0.24721): 100%|██████████| 7/7 [00:15<00:00,  2.24s/it]\n",
      "Validate (16800 / 10 Steps): 100%|██████████| 2/2 [00:11<00:00,  5.92s/it]<?, ?it/s]\n",
      "Training (16800 / 18000 Steps) (loss=0.29202):  14%|█▍        | 1/7 [00:19<01:57, 19.53s/it]"
     ]
    },
    {
     "name": "stdout",
     "output_type": "stream",
     "text": [
      "Model Was Not Saved ! Current Best Avg. Dice: 0.5890686511993408 Current Avg. Dice: 0.5614680051803589 Current Avg. tumor Dice: 0.6138120889663696 Current Avg. lymph Dice: 0.5091239809989929\n"
     ]
    },
    {
     "name": "stderr",
     "output_type": "stream",
     "text": [
      "Training (16806 / 18000 Steps) (loss=0.27714): 100%|██████████| 7/7 [00:28<00:00,  4.06s/it]\n",
      "Training (16813 / 18000 Steps) (loss=0.37457): 100%|██████████| 7/7 [00:17<00:00,  2.53s/it]\n",
      "Training (16820 / 18000 Steps) (loss=0.53790): 100%|██████████| 7/7 [00:17<00:00,  2.46s/it]\n",
      "Training (16827 / 18000 Steps) (loss=0.24436): 100%|██████████| 7/7 [00:16<00:00,  2.32s/it]\n",
      "Training (16834 / 18000 Steps) (loss=0.24188): 100%|██████████| 7/7 [00:16<00:00,  2.38s/it]\n",
      "Training (16841 / 18000 Steps) (loss=0.26535): 100%|██████████| 7/7 [00:16<00:00,  2.41s/it]\n",
      "Training (16848 / 18000 Steps) (loss=0.34537): 100%|██████████| 7/7 [00:17<00:00,  2.53s/it]\n",
      "Training (16855 / 18000 Steps) (loss=0.27376): 100%|██████████| 7/7 [00:15<00:00,  2.25s/it]\n",
      "Training (16862 / 18000 Steps) (loss=0.35982): 100%|██████████| 7/7 [00:16<00:00,  2.40s/it]\n",
      "Training (16869 / 18000 Steps) (loss=0.43890): 100%|██████████| 7/7 [00:15<00:00,  2.23s/it]\n",
      "Training (16876 / 18000 Steps) (loss=0.17470): 100%|██████████| 7/7 [00:17<00:00,  2.45s/it]\n",
      "Training (16883 / 18000 Steps) (loss=0.38241): 100%|██████████| 7/7 [00:16<00:00,  2.38s/it]\n",
      "Training (16890 / 18000 Steps) (loss=0.34469): 100%|██████████| 7/7 [00:17<00:00,  2.50s/it]\n",
      "Training (16897 / 18000 Steps) (loss=0.19126): 100%|██████████| 7/7 [00:16<00:00,  2.40s/it]\n",
      "Validate (16898 / 10 Steps): 100%|██████████| 2/2 [00:11<00:00,  5.94s/it]<00:19,  3.85s/it]\n",
      "Training (16900 / 18000 Steps) (loss=0.27397):  43%|████▎     | 3/7 [00:22<00:33,  8.28s/it]"
     ]
    },
    {
     "name": "stdout",
     "output_type": "stream",
     "text": [
      "Model Was Not Saved ! Current Best Avg. Dice: 0.5890686511993408 Current Avg. Dice: 0.5617260932922363 Current Avg. tumor Dice: 0.5978107452392578 Current Avg. lymph Dice: 0.5256413221359253\n"
     ]
    },
    {
     "name": "stderr",
     "output_type": "stream",
     "text": [
      "Training (16904 / 18000 Steps) (loss=0.09684): 100%|██████████| 7/7 [00:27<00:00,  3.99s/it]\n",
      "Training (16911 / 18000 Steps) (loss=0.25394): 100%|██████████| 7/7 [00:16<00:00,  2.31s/it]\n",
      "Training (16918 / 18000 Steps) (loss=0.39161): 100%|██████████| 7/7 [00:15<00:00,  2.22s/it]\n",
      "Training (16925 / 18000 Steps) (loss=0.60134): 100%|██████████| 7/7 [00:16<00:00,  2.40s/it]\n",
      "Training (16932 / 18000 Steps) (loss=0.15026): 100%|██████████| 7/7 [00:15<00:00,  2.27s/it]\n",
      "Training (16939 / 18000 Steps) (loss=0.53323): 100%|██████████| 7/7 [00:16<00:00,  2.29s/it]\n",
      "Training (16946 / 18000 Steps) (loss=0.59852): 100%|██████████| 7/7 [00:15<00:00,  2.25s/it]\n",
      "Training (16953 / 18000 Steps) (loss=0.52347): 100%|██████████| 7/7 [00:17<00:00,  2.45s/it]\n",
      "Training (16960 / 18000 Steps) (loss=0.34990): 100%|██████████| 7/7 [00:16<00:00,  2.36s/it]\n",
      "Training (16967 / 18000 Steps) (loss=0.13019): 100%|██████████| 7/7 [00:15<00:00,  2.28s/it]\n",
      "Training (16974 / 18000 Steps) (loss=0.52792): 100%|██████████| 7/7 [00:15<00:00,  2.24s/it]\n",
      "Training (16981 / 18000 Steps) (loss=0.52160): 100%|██████████| 7/7 [00:16<00:00,  2.36s/it]\n",
      "Training (16988 / 18000 Steps) (loss=0.25554): 100%|██████████| 7/7 [00:15<00:00,  2.19s/it]\n",
      "Training (16995 / 18000 Steps) (loss=0.24367): 100%|██████████| 7/7 [00:16<00:00,  2.29s/it]\n",
      "Validate (16996 / 10 Steps): 100%|██████████| 2/2 [00:11<00:00,  5.91s/it]<00:07,  2.37s/it]\n",
      "Training (17000 / 18000 Steps) (loss=0.26711):  71%|███████▏  | 5/7 [00:25<00:12,  6.39s/it]"
     ]
    },
    {
     "name": "stdout",
     "output_type": "stream",
     "text": [
      "Model Was Not Saved ! Current Best Avg. Dice: 0.5890686511993408 Current Avg. Dice: 0.5520651340484619 Current Avg. tumor Dice: 0.5627347826957703 Current Avg. lymph Dice: 0.5413955450057983\n"
     ]
    },
    {
     "name": "stderr",
     "output_type": "stream",
     "text": [
      "Training (17002 / 18000 Steps) (loss=0.52223): 100%|██████████| 7/7 [00:28<00:00,  4.03s/it]\n",
      "Training (17009 / 18000 Steps) (loss=0.39395): 100%|██████████| 7/7 [00:15<00:00,  2.26s/it]\n",
      "Training (17016 / 18000 Steps) (loss=0.42411): 100%|██████████| 7/7 [00:15<00:00,  2.27s/it]\n",
      "Training (17023 / 18000 Steps) (loss=0.52460): 100%|██████████| 7/7 [00:15<00:00,  2.22s/it]\n",
      "Training (17030 / 18000 Steps) (loss=0.29353): 100%|██████████| 7/7 [00:17<00:00,  2.48s/it]\n",
      "Training (17037 / 18000 Steps) (loss=0.30525): 100%|██████████| 7/7 [00:15<00:00,  2.28s/it]\n",
      "Training (17044 / 18000 Steps) (loss=0.52922): 100%|██████████| 7/7 [00:15<00:00,  2.21s/it]\n",
      "Training (17051 / 18000 Steps) (loss=0.26165): 100%|██████████| 7/7 [00:15<00:00,  2.28s/it]\n",
      "Training (17058 / 18000 Steps) (loss=0.52950): 100%|██████████| 7/7 [00:16<00:00,  2.34s/it]\n",
      "Training (17065 / 18000 Steps) (loss=0.29921): 100%|██████████| 7/7 [00:15<00:00,  2.22s/it]\n",
      "Training (17072 / 18000 Steps) (loss=0.51905): 100%|██████████| 7/7 [00:17<00:00,  2.45s/it]\n",
      "Training (17079 / 18000 Steps) (loss=0.59386): 100%|██████████| 7/7 [00:17<00:00,  2.49s/it]\n",
      "Training (17086 / 18000 Steps) (loss=0.18847): 100%|██████████| 7/7 [00:15<00:00,  2.27s/it]\n",
      "Training (17093 / 18000 Steps) (loss=0.43455): 100%|██████████| 7/7 [00:15<00:00,  2.20s/it]\n",
      "Validate (17094 / 10 Steps): 100%|██████████| 2/2 [00:11<00:00,  5.95s/it]<00:01,  1.95s/it]\n",
      "Training (17100 / 18000 Steps) (loss=0.08794): 100%|██████████| 7/7 [00:28<00:00,  4.10s/it]\n"
     ]
    },
    {
     "name": "stdout",
     "output_type": "stream",
     "text": [
      "Model Was Not Saved ! Current Best Avg. Dice: 0.5890686511993408 Current Avg. Dice: 0.5717676281929016 Current Avg. tumor Dice: 0.6248593926429749 Current Avg. lymph Dice: 0.5186758041381836\n"
     ]
    },
    {
     "name": "stderr",
     "output_type": "stream",
     "text": [
      "Training (17107 / 18000 Steps) (loss=0.36568): 100%|██████████| 7/7 [00:17<00:00,  2.44s/it]\n",
      "Training (17114 / 18000 Steps) (loss=0.38027): 100%|██████████| 7/7 [00:16<00:00,  2.33s/it]\n",
      "Training (17121 / 18000 Steps) (loss=0.27907): 100%|██████████| 7/7 [00:16<00:00,  2.38s/it]\n",
      "Training (17128 / 18000 Steps) (loss=0.25829): 100%|██████████| 7/7 [00:15<00:00,  2.19s/it]\n",
      "Training (17135 / 18000 Steps) (loss=0.24898): 100%|██████████| 7/7 [00:16<00:00,  2.38s/it]\n",
      "Training (17142 / 18000 Steps) (loss=0.38195): 100%|██████████| 7/7 [00:16<00:00,  2.41s/it]\n",
      "Training (17149 / 18000 Steps) (loss=0.24650): 100%|██████████| 7/7 [00:15<00:00,  2.21s/it]\n",
      "Training (17156 / 18000 Steps) (loss=0.08990): 100%|██████████| 7/7 [00:17<00:00,  2.48s/it]\n",
      "Training (17163 / 18000 Steps) (loss=0.08746): 100%|██████████| 7/7 [00:15<00:00,  2.28s/it]\n",
      "Training (17170 / 18000 Steps) (loss=0.37638): 100%|██████████| 7/7 [00:16<00:00,  2.29s/it]\n",
      "Training (17177 / 18000 Steps) (loss=0.26025): 100%|██████████| 7/7 [00:15<00:00,  2.25s/it]\n",
      "Training (17184 / 18000 Steps) (loss=0.25203): 100%|██████████| 7/7 [00:15<00:00,  2.19s/it]\n",
      "Training (17191 / 18000 Steps) (loss=0.31759): 100%|██████████| 7/7 [00:15<00:00,  2.25s/it]\n",
      "Training (17198 / 18000 Steps) (loss=0.16561): 100%|██████████| 7/7 [00:16<00:00,  2.40s/it]\n",
      "Validate (17199 / 10 Steps): 100%|██████████| 2/2 [00:12<00:00,  6.03s/it]<00:51,  8.55s/it]\n",
      "Training (17200 / 18000 Steps) (loss=0.31607):  29%|██▊       | 2/7 [00:22<00:57, 11.58s/it]"
     ]
    },
    {
     "name": "stdout",
     "output_type": "stream",
     "text": [
      "Model Was Not Saved ! Current Best Avg. Dice: 0.5890686511993408 Current Avg. Dice: 0.5500993728637695 Current Avg. tumor Dice: 0.5918537378311157 Current Avg. lymph Dice: 0.5083449482917786\n"
     ]
    },
    {
     "name": "stderr",
     "output_type": "stream",
     "text": [
      "Training (17205 / 18000 Steps) (loss=0.22850): 100%|██████████| 7/7 [00:29<00:00,  4.22s/it]\n",
      "Training (17212 / 18000 Steps) (loss=0.17039): 100%|██████████| 7/7 [00:16<00:00,  2.40s/it]\n",
      "Training (17219 / 18000 Steps) (loss=0.18677): 100%|██████████| 7/7 [00:16<00:00,  2.32s/it]\n",
      "Training (17226 / 18000 Steps) (loss=0.52938): 100%|██████████| 7/7 [00:15<00:00,  2.25s/it]\n",
      "Training (17233 / 18000 Steps) (loss=0.33012): 100%|██████████| 7/7 [00:16<00:00,  2.36s/it]\n",
      "Training (17240 / 18000 Steps) (loss=0.13738): 100%|██████████| 7/7 [00:16<00:00,  2.34s/it]\n",
      "Training (17247 / 18000 Steps) (loss=0.31072): 100%|██████████| 7/7 [00:16<00:00,  2.30s/it]\n",
      "Training (17254 / 18000 Steps) (loss=0.38190): 100%|██████████| 7/7 [00:16<00:00,  2.33s/it]\n",
      "Training (17261 / 18000 Steps) (loss=0.26846): 100%|██████████| 7/7 [00:16<00:00,  2.33s/it]\n",
      "Training (17268 / 18000 Steps) (loss=0.45165): 100%|██████████| 7/7 [00:17<00:00,  2.54s/it]\n",
      "Training (17275 / 18000 Steps) (loss=0.25319): 100%|██████████| 7/7 [00:17<00:00,  2.48s/it]\n",
      "Training (17282 / 18000 Steps) (loss=0.29163): 100%|██████████| 7/7 [00:17<00:00,  2.44s/it]\n",
      "Training (17289 / 18000 Steps) (loss=0.46085): 100%|██████████| 7/7 [00:15<00:00,  2.27s/it]\n",
      "Training (17296 / 18000 Steps) (loss=0.37822): 100%|██████████| 7/7 [00:17<00:00,  2.52s/it]\n",
      "Validate (17297 / 10 Steps): 100%|██████████| 2/2 [00:11<00:00,  6.00s/it]<00:11,  2.85s/it]\n",
      "Training (17300 / 18000 Steps) (loss=0.39717):  57%|█████▋    | 4/7 [00:24<00:21,  7.12s/it]"
     ]
    },
    {
     "name": "stdout",
     "output_type": "stream",
     "text": [
      "Model Was Not Saved ! Current Best Avg. Dice: 0.5890686511993408 Current Avg. Dice: 0.5450435280799866 Current Avg. tumor Dice: 0.5651991367340088 Current Avg. lymph Dice: 0.5248879194259644\n"
     ]
    },
    {
     "name": "stderr",
     "output_type": "stream",
     "text": [
      "Training (17303 / 18000 Steps) (loss=0.37564): 100%|██████████| 7/7 [00:28<00:00,  4.02s/it]\n",
      "Training (17310 / 18000 Steps) (loss=0.13206): 100%|██████████| 7/7 [00:16<00:00,  2.39s/it]\n",
      "Training (17317 / 18000 Steps) (loss=0.38140): 100%|██████████| 7/7 [00:15<00:00,  2.26s/it]\n",
      "Training (17324 / 18000 Steps) (loss=0.37735): 100%|██████████| 7/7 [00:17<00:00,  2.44s/it]\n",
      "Training (17331 / 18000 Steps) (loss=0.38986): 100%|██████████| 7/7 [00:15<00:00,  2.26s/it]\n",
      "Training (17338 / 18000 Steps) (loss=0.16363): 100%|██████████| 7/7 [00:15<00:00,  2.28s/it]\n",
      "Training (17345 / 18000 Steps) (loss=0.10413): 100%|██████████| 7/7 [00:16<00:00,  2.34s/it]\n",
      "Training (17352 / 18000 Steps) (loss=0.31185): 100%|██████████| 7/7 [00:16<00:00,  2.30s/it]\n",
      "Training (17359 / 18000 Steps) (loss=0.22256): 100%|██████████| 7/7 [00:16<00:00,  2.30s/it]\n",
      "Training (17366 / 18000 Steps) (loss=0.21540): 100%|██████████| 7/7 [00:16<00:00,  2.37s/it]\n",
      "Training (17373 / 18000 Steps) (loss=0.24736): 100%|██████████| 7/7 [00:16<00:00,  2.34s/it]\n",
      "Training (17380 / 18000 Steps) (loss=0.31511): 100%|██████████| 7/7 [00:15<00:00,  2.23s/it]\n",
      "Training (17387 / 18000 Steps) (loss=0.59457): 100%|██████████| 7/7 [00:16<00:00,  2.34s/it]\n",
      "Training (17394 / 18000 Steps) (loss=0.44565): 100%|██████████| 7/7 [00:17<00:00,  2.48s/it]\n",
      "Validate (17395 / 10 Steps): 100%|██████████| 2/2 [00:12<00:00,  6.11s/it]<00:04,  2.12s/it]\n",
      "Training (17400 / 18000 Steps) (loss=0.50549):  86%|████████▌ | 6/7 [00:27<00:06,  6.15s/it]"
     ]
    },
    {
     "name": "stdout",
     "output_type": "stream",
     "text": [
      "Model Was Not Saved ! Current Best Avg. Dice: 0.5890686511993408 Current Avg. Dice: 0.5017136931419373 Current Avg. tumor Dice: 0.5757688283920288 Current Avg. lymph Dice: 0.4276585876941681\n"
     ]
    },
    {
     "name": "stderr",
     "output_type": "stream",
     "text": [
      "Training (17401 / 18000 Steps) (loss=0.30330): 100%|██████████| 7/7 [00:28<00:00,  4.13s/it]\n",
      "Training (17408 / 18000 Steps) (loss=0.59358): 100%|██████████| 7/7 [00:15<00:00,  2.25s/it]\n",
      "Training (17415 / 18000 Steps) (loss=0.25181): 100%|██████████| 7/7 [00:16<00:00,  2.43s/it]\n",
      "Training (17422 / 18000 Steps) (loss=0.13204): 100%|██████████| 7/7 [00:16<00:00,  2.31s/it]\n",
      "Training (17429 / 18000 Steps) (loss=0.33394): 100%|██████████| 7/7 [00:16<00:00,  2.32s/it]\n",
      "Training (17436 / 18000 Steps) (loss=0.38490): 100%|██████████| 7/7 [00:15<00:00,  2.27s/it]\n",
      "Training (17443 / 18000 Steps) (loss=0.09051): 100%|██████████| 7/7 [00:16<00:00,  2.31s/it]\n",
      "Training (17450 / 18000 Steps) (loss=0.46292): 100%|██████████| 7/7 [00:15<00:00,  2.24s/it]\n",
      "Training (17457 / 18000 Steps) (loss=0.23805): 100%|██████████| 7/7 [00:16<00:00,  2.36s/it]\n",
      "Training (17464 / 18000 Steps) (loss=0.24203): 100%|██████████| 7/7 [00:17<00:00,  2.45s/it]\n",
      "Training (17471 / 18000 Steps) (loss=0.24380): 100%|██████████| 7/7 [00:17<00:00,  2.56s/it]\n",
      "Training (17478 / 18000 Steps) (loss=0.45662): 100%|██████████| 7/7 [00:18<00:00,  2.59s/it]\n",
      "Training (17485 / 18000 Steps) (loss=0.23780): 100%|██████████| 7/7 [00:15<00:00,  2.28s/it]\n",
      "Training (17492 / 18000 Steps) (loss=0.39675): 100%|██████████| 7/7 [00:17<00:00,  2.55s/it]\n",
      "Training (17499 / 18000 Steps) (loss=0.23164): 100%|██████████| 7/7 [00:17<00:00,  2.46s/it]\n",
      "Validate (17500 / 10 Steps): 100%|██████████| 2/2 [00:12<00:00,  6.05s/it]<?, ?it/s]\n",
      "Training (17500 / 18000 Steps) (loss=0.25923):  14%|█▍        | 1/7 [00:21<02:07, 21.28s/it]"
     ]
    },
    {
     "name": "stdout",
     "output_type": "stream",
     "text": [
      "Model Was Not Saved ! Current Best Avg. Dice: 0.5890686511993408 Current Avg. Dice: 0.5545224547386169 Current Avg. tumor Dice: 0.5985416769981384 Current Avg. lymph Dice: 0.5105031728744507\n"
     ]
    },
    {
     "name": "stderr",
     "output_type": "stream",
     "text": [
      "Training (17506 / 18000 Steps) (loss=0.11733): 100%|██████████| 7/7 [00:30<00:00,  4.31s/it]\n",
      "Training (17513 / 18000 Steps) (loss=0.10222): 100%|██████████| 7/7 [00:16<00:00,  2.29s/it]\n",
      "Training (17520 / 18000 Steps) (loss=0.38580): 100%|██████████| 7/7 [00:16<00:00,  2.34s/it]\n",
      "Training (17527 / 18000 Steps) (loss=0.28122): 100%|██████████| 7/7 [00:16<00:00,  2.32s/it]\n",
      "Training (17534 / 18000 Steps) (loss=0.40577): 100%|██████████| 7/7 [00:17<00:00,  2.50s/it]\n",
      "Training (17541 / 18000 Steps) (loss=0.39253): 100%|██████████| 7/7 [00:16<00:00,  2.41s/it]\n",
      "Training (17548 / 18000 Steps) (loss=0.15973): 100%|██████████| 7/7 [00:16<00:00,  2.38s/it]\n",
      "Training (17555 / 18000 Steps) (loss=0.25984): 100%|██████████| 7/7 [00:16<00:00,  2.33s/it]\n",
      "Training (17562 / 18000 Steps) (loss=0.47087): 100%|██████████| 7/7 [00:17<00:00,  2.53s/it]\n",
      "Training (17569 / 18000 Steps) (loss=0.15832): 100%|██████████| 7/7 [00:16<00:00,  2.30s/it]\n",
      "Training (17576 / 18000 Steps) (loss=0.45090): 100%|██████████| 7/7 [00:17<00:00,  2.55s/it]\n",
      "Training (17583 / 18000 Steps) (loss=0.39203): 100%|██████████| 7/7 [00:16<00:00,  2.33s/it]\n",
      "Training (17590 / 18000 Steps) (loss=0.31045): 100%|██████████| 7/7 [00:17<00:00,  2.53s/it]\n",
      "Training (17597 / 18000 Steps) (loss=0.54430): 100%|██████████| 7/7 [00:17<00:00,  2.45s/it]\n",
      "Validate (17598 / 10 Steps): 100%|██████████| 2/2 [00:11<00:00,  5.96s/it]<00:22,  4.49s/it]\n",
      "Training (17600 / 18000 Steps) (loss=0.29035):  43%|████▎     | 3/7 [00:23<00:34,  8.65s/it]"
     ]
    },
    {
     "name": "stdout",
     "output_type": "stream",
     "text": [
      "Model Was Not Saved ! Current Best Avg. Dice: 0.5890686511993408 Current Avg. Dice: 0.5104157328605652 Current Avg. tumor Dice: 0.5711991786956787 Current Avg. lymph Dice: 0.4496321976184845\n"
     ]
    },
    {
     "name": "stderr",
     "output_type": "stream",
     "text": [
      "Training (17604 / 18000 Steps) (loss=0.25639): 100%|██████████| 7/7 [00:29<00:00,  4.22s/it]\n",
      "Training (17611 / 18000 Steps) (loss=0.25461): 100%|██████████| 7/7 [00:15<00:00,  2.27s/it]\n",
      "Training (17618 / 18000 Steps) (loss=0.53640): 100%|██████████| 7/7 [00:16<00:00,  2.32s/it]\n",
      "Training (17625 / 18000 Steps) (loss=0.27358): 100%|██████████| 7/7 [00:17<00:00,  2.44s/it]\n",
      "Training (17632 / 18000 Steps) (loss=0.46979): 100%|██████████| 7/7 [00:16<00:00,  2.33s/it]\n",
      "Training (17639 / 18000 Steps) (loss=0.26119): 100%|██████████| 7/7 [00:15<00:00,  2.28s/it]\n",
      "Training (17646 / 18000 Steps) (loss=0.15610): 100%|██████████| 7/7 [00:16<00:00,  2.39s/it]\n",
      "Training (17653 / 18000 Steps) (loss=0.51371): 100%|██████████| 7/7 [00:16<00:00,  2.29s/it]\n",
      "Training (17660 / 18000 Steps) (loss=0.23234): 100%|██████████| 7/7 [00:16<00:00,  2.31s/it]\n",
      "Training (17667 / 18000 Steps) (loss=0.23616): 100%|██████████| 7/7 [00:15<00:00,  2.26s/it]\n",
      "Training (17674 / 18000 Steps) (loss=0.30254): 100%|██████████| 7/7 [00:16<00:00,  2.36s/it]\n",
      "Training (17681 / 18000 Steps) (loss=0.31111): 100%|██████████| 7/7 [00:16<00:00,  2.34s/it]\n",
      "Training (17688 / 18000 Steps) (loss=0.43464): 100%|██████████| 7/7 [00:16<00:00,  2.38s/it]\n",
      "Training (17695 / 18000 Steps) (loss=0.54663): 100%|██████████| 7/7 [00:16<00:00,  2.42s/it]\n",
      "Validate (17696 / 10 Steps): 100%|██████████| 2/2 [00:12<00:00,  6.03s/it]<00:07,  2.41s/it]\n",
      "Training (17700 / 18000 Steps) (loss=0.24775):  71%|███████▏  | 5/7 [00:26<00:12,  6.49s/it]"
     ]
    },
    {
     "name": "stdout",
     "output_type": "stream",
     "text": [
      "Model Was Not Saved ! Current Best Avg. Dice: 0.5890686511993408 Current Avg. Dice: 0.5126304626464844 Current Avg. tumor Dice: 0.5885207056999207 Current Avg. lymph Dice: 0.4367401599884033\n"
     ]
    },
    {
     "name": "stderr",
     "output_type": "stream",
     "text": [
      "Training (17702 / 18000 Steps) (loss=0.21792): 100%|██████████| 7/7 [00:28<00:00,  4.09s/it]\n",
      "Training (17709 / 18000 Steps) (loss=0.37887): 100%|██████████| 7/7 [00:16<00:00,  2.34s/it]\n",
      "Training (17716 / 18000 Steps) (loss=0.52349): 100%|██████████| 7/7 [00:16<00:00,  2.30s/it]\n",
      "Training (17723 / 18000 Steps) (loss=0.19664): 100%|██████████| 7/7 [00:16<00:00,  2.41s/it]\n",
      "Training (17730 / 18000 Steps) (loss=0.59882): 100%|██████████| 7/7 [00:17<00:00,  2.47s/it]\n",
      "Training (17737 / 18000 Steps) (loss=0.53951): 100%|██████████| 7/7 [00:16<00:00,  2.43s/it]\n",
      "Training (17744 / 18000 Steps) (loss=0.24685): 100%|██████████| 7/7 [00:17<00:00,  2.43s/it]\n",
      "Training (17751 / 18000 Steps) (loss=0.37637): 100%|██████████| 7/7 [00:17<00:00,  2.49s/it]\n",
      "Training (17758 / 18000 Steps) (loss=0.27906): 100%|██████████| 7/7 [00:18<00:00,  2.63s/it]\n",
      "Training (17765 / 18000 Steps) (loss=0.20182): 100%|██████████| 7/7 [00:17<00:00,  2.50s/it]\n",
      "Training (17772 / 18000 Steps) (loss=0.22820): 100%|██████████| 7/7 [00:17<00:00,  2.49s/it]\n",
      "Training (17779 / 18000 Steps) (loss=0.45648): 100%|██████████| 7/7 [00:15<00:00,  2.27s/it]\n",
      "Training (17786 / 18000 Steps) (loss=0.23715): 100%|██████████| 7/7 [00:15<00:00,  2.27s/it]\n",
      "Training (17793 / 18000 Steps) (loss=0.14963): 100%|██████████| 7/7 [00:17<00:00,  2.45s/it]\n",
      "Validate (17794 / 10 Steps): 100%|██████████| 2/2 [00:12<00:00,  6.20s/it]<00:01,  1.94s/it]\n",
      "Training (17800 / 18000 Steps) (loss=0.11723): 100%|██████████| 7/7 [00:28<00:00,  4.14s/it]\n"
     ]
    },
    {
     "name": "stdout",
     "output_type": "stream",
     "text": [
      "Model Was Not Saved ! Current Best Avg. Dice: 0.5890686511993408 Current Avg. Dice: 0.4978765547275543 Current Avg. tumor Dice: 0.5383972525596619 Current Avg. lymph Dice: 0.45735591650009155\n"
     ]
    },
    {
     "name": "stderr",
     "output_type": "stream",
     "text": [
      "Training (17807 / 18000 Steps) (loss=0.37748): 100%|██████████| 7/7 [00:16<00:00,  2.38s/it]\n",
      "Training (17814 / 18000 Steps) (loss=0.21053): 100%|██████████| 7/7 [00:16<00:00,  2.42s/it]\n",
      "Training (17821 / 18000 Steps) (loss=0.09553): 100%|██████████| 7/7 [00:16<00:00,  2.41s/it]\n",
      "Training (17828 / 18000 Steps) (loss=0.54924): 100%|██████████| 7/7 [00:16<00:00,  2.43s/it]\n",
      "Training (17835 / 18000 Steps) (loss=0.37635): 100%|██████████| 7/7 [00:17<00:00,  2.47s/it]\n",
      "Training (17842 / 18000 Steps) (loss=0.37261): 100%|██████████| 7/7 [00:15<00:00,  2.26s/it]\n",
      "Training (17849 / 18000 Steps) (loss=0.29515): 100%|██████████| 7/7 [00:16<00:00,  2.41s/it]\n",
      "Training (17856 / 18000 Steps) (loss=0.52791): 100%|██████████| 7/7 [00:15<00:00,  2.28s/it]\n",
      "Training (17863 / 18000 Steps) (loss=0.39785): 100%|██████████| 7/7 [00:16<00:00,  2.29s/it]\n",
      "Training (17870 / 18000 Steps) (loss=0.32893): 100%|██████████| 7/7 [00:17<00:00,  2.49s/it]\n",
      "Training (17877 / 18000 Steps) (loss=0.13015): 100%|██████████| 7/7 [00:15<00:00,  2.28s/it]\n",
      "Training (17884 / 18000 Steps) (loss=0.46542): 100%|██████████| 7/7 [00:15<00:00,  2.24s/it]\n",
      "Training (17891 / 18000 Steps) (loss=0.10289): 100%|██████████| 7/7 [00:16<00:00,  2.30s/it]\n",
      "Training (17898 / 18000 Steps) (loss=0.35875): 100%|██████████| 7/7 [00:15<00:00,  2.22s/it]\n",
      "Validate (17899 / 10 Steps): 100%|██████████| 2/2 [00:12<00:00,  6.02s/it]<00:52,  8.74s/it]\n",
      "Training (17900 / 18000 Steps) (loss=0.34760):  29%|██▊       | 2/7 [00:22<00:58, 11.67s/it]"
     ]
    },
    {
     "name": "stdout",
     "output_type": "stream",
     "text": [
      "Model Was Not Saved ! Current Best Avg. Dice: 0.5890686511993408 Current Avg. Dice: 0.5319831371307373 Current Avg. tumor Dice: 0.565132200717926 Current Avg. lymph Dice: 0.49883413314819336\n"
     ]
    },
    {
     "name": "stderr",
     "output_type": "stream",
     "text": [
      "Training (17905 / 18000 Steps) (loss=0.39484): 100%|██████████| 7/7 [00:29<00:00,  4.25s/it]\n",
      "Training (17912 / 18000 Steps) (loss=0.24514): 100%|██████████| 7/7 [00:15<00:00,  2.21s/it]\n",
      "Training (17919 / 18000 Steps) (loss=0.38488): 100%|██████████| 7/7 [00:16<00:00,  2.31s/it]\n",
      "Training (17926 / 18000 Steps) (loss=0.59520): 100%|██████████| 7/7 [00:15<00:00,  2.23s/it]\n",
      "Training (17933 / 18000 Steps) (loss=0.27248): 100%|██████████| 7/7 [00:16<00:00,  2.34s/it]\n",
      "Training (17940 / 18000 Steps) (loss=0.09252): 100%|██████████| 7/7 [00:16<00:00,  2.30s/it]\n",
      "Training (17947 / 18000 Steps) (loss=0.25984): 100%|██████████| 7/7 [00:16<00:00,  2.42s/it]\n",
      "Training (17954 / 18000 Steps) (loss=0.35358): 100%|██████████| 7/7 [00:16<00:00,  2.43s/it]\n",
      "Training (17961 / 18000 Steps) (loss=0.28802): 100%|██████████| 7/7 [00:16<00:00,  2.36s/it]\n",
      "Training (17968 / 18000 Steps) (loss=0.55486): 100%|██████████| 7/7 [00:16<00:00,  2.38s/it]\n",
      "Training (17975 / 18000 Steps) (loss=0.13824): 100%|██████████| 7/7 [00:15<00:00,  2.28s/it]\n",
      "Training (17982 / 18000 Steps) (loss=0.19082): 100%|██████████| 7/7 [00:17<00:00,  2.55s/it]\n",
      "Training (17989 / 18000 Steps) (loss=0.23235): 100%|██████████| 7/7 [00:15<00:00,  2.25s/it]\n",
      "Training (17996 / 18000 Steps) (loss=0.25008): 100%|██████████| 7/7 [00:17<00:00,  2.47s/it]\n",
      "Validate (17997 / 10 Steps): 100%|██████████| 2/2 [00:11<00:00,  5.96s/it]<00:11,  2.88s/it]\n",
      "Training (18000 / 18000 Steps) (loss=0.34895):  57%|█████▋    | 4/7 [00:24<00:21,  7.11s/it]"
     ]
    },
    {
     "name": "stdout",
     "output_type": "stream",
     "text": [
      "Model Was Not Saved ! Current Best Avg. Dice: 0.5890686511993408 Current Avg. Dice: 0.5171458721160889 Current Avg. tumor Dice: 0.5715091824531555 Current Avg. lymph Dice: 0.46278250217437744\n"
     ]
    },
    {
     "name": "stderr",
     "output_type": "stream",
     "text": [
      "Training (18003 / 18000 Steps) (loss=0.37867): 100%|██████████| 7/7 [00:28<00:00,  4.03s/it]\n"
     ]
    }
   ],
   "source": [
    "model_dir = '/home/nada.saadi/CTPET/hecktor2022_cropped/7th_CTPT_tokens'\n",
    "def validation(epoch_iterator_val):\n",
    "        model.eval()\n",
    "        with torch.no_grad():\n",
    "            for step, batch in enumerate(epoch_iterator_val):\n",
    "                val_inputs, val_labels = (batch[\"ctpt\"].cuda(), batch[\"seg\"].cuda())\n",
    "                val_outputs = sliding_window_inference(val_inputs, (96, 96, 96), 4, model)\n",
    "                val_labels_list = decollate_batch(val_labels)\n",
    "                val_labels_convert = [\n",
    "                    post_label(val_label_tensor) for val_label_tensor in val_labels_list\n",
    "                ]\n",
    "                val_outputs_list = decollate_batch(val_outputs)\n",
    "                val_output_convert = [\n",
    "                    post_pred(val_pred_tensor) for val_pred_tensor in val_outputs_list\n",
    "                ]\n",
    "                dice_metric(y_pred=val_output_convert, y=val_labels_convert)\n",
    "                dice_metric_batch(y_pred=val_output_convert, y=val_labels_convert)\n",
    "                epoch_iterator_val.set_description(\n",
    "                    \"Validate (%d / %d Steps)\" % (global_step, 10.0)\n",
    "                )\n",
    "            mean_dice_val = dice_metric.aggregate().item()\n",
    "            metric_batch_val = dice_metric_batch.aggregate()\n",
    "\n",
    "            metric_tumor = metric_batch_val[0].item()\n",
    "            metric_lymph = metric_batch_val[1].item()\n",
    "\n",
    "            dice_metric.reset()\n",
    "            dice_metric_batch.reset()\n",
    "        return mean_dice_val, metric_tumor, metric_lymph\n",
    "\n",
    "\n",
    "def train(global_step, train_loader, dice_val_best, global_step_best):\n",
    "        model.train()\n",
    "        epoch_loss = 0\n",
    "        step = 0\n",
    "        epoch_iterator = tqdm(\n",
    "            train_loader, desc=\"Training (X / X Steps) (loss=X.X)\", dynamic_ncols=True\n",
    "        )\n",
    "        \n",
    "        for step, batch in enumerate(epoch_iterator):\n",
    "            step += 1\n",
    "            x, y = (batch[\"ctpt\"].cuda(), batch[\"seg\"].cuda())\n",
    "            logit_map = model(x)\n",
    "            \n",
    "            loss = loss_function(logit_map, y)\n",
    "            loss.backward()\n",
    "            epoch_loss += loss.item()\n",
    "            optimizer.step()\n",
    "            optimizer.zero_grad()\n",
    "            epoch_iterator.set_description(\n",
    "                \"Training (%d / %d Steps) (loss=%2.5f)\"\n",
    "                % (global_step, max_iterations, loss)\n",
    "            )\n",
    "            \n",
    "            if (\n",
    "                global_step % eval_num == 0 and global_step != 0\n",
    "            ) or global_step == max_iterations:\n",
    "                epoch_iterator_val = tqdm(\n",
    "                    val_loader, desc=\"Validate (X / X Steps) (dice=X.X)\", dynamic_ncols=True\n",
    "                )\n",
    "                dice_val, metric_tumor, metric_lymph = validation(epoch_iterator_val)\n",
    "                epoch_loss /= step\n",
    "                epoch_loss_values.append(epoch_loss)\n",
    "                metric_values.append(dice_val)\n",
    "                metric_values_tumor.append(metric_tumor)\n",
    "                metric_values_lymph.append(metric_lymph)\n",
    "                if dice_val > dice_val_best:\n",
    "                    dice_val_best = dice_val\n",
    "                    global_step_best = global_step\n",
    "                    torch.save(\n",
    "                        model.state_dict(), os.path.join(model_dir, \"7thctpt_tokens_.pth\")\n",
    "                    )\n",
    "                    print(\n",
    "                        \"Model Was Saved ! Current Best Avg. Dice: {} Current Avg. Dice: {} Current Avg. tumor Dice: {} Current Avg. lymph Dice: {}\".format(\n",
    "                            dice_val_best, dice_val, metric_tumor, metric_lymph\n",
    "                        )\n",
    "                    )\n",
    "                else:\n",
    "                    print(\n",
    "                        \"Model Was Not Saved ! Current Best Avg. Dice: {} Current Avg. Dice: {} Current Avg. tumor Dice: {} Current Avg. lymph Dice: {}\".format(\n",
    "                            dice_val_best, dice_val,  metric_tumor, metric_lymph\n",
    "                        )\n",
    "                    )\n",
    "            global_step += 1\n",
    "        return global_step, dice_val_best, global_step_best\n",
    "\n",
    "       \n",
    "\n",
    "max_iterations = 18000\n",
    "eval_num = 100\n",
    "\n",
    "post_label = AsDiscrete(to_onehot=3)\n",
    "post_pred = AsDiscrete(argmax=True, to_onehot=3)\n",
    "\n",
    "dice_metric = DiceMetric(include_background=False, reduction=\"mean\", get_not_nans=False)\n",
    "dice_metric_batch = DiceMetric(include_background=False, reduction=\"mean_batch\")\n",
    "\n",
    "epoch = 0\n",
    "max_num_epochs = 530\n",
    "\n",
    "global_step = 0\n",
    "dice_val_best = 0.0\n",
    "global_step_best = 0\n",
    "epoch_loss_values = []\n",
    "metric_values = []\n",
    "metric_values_tumor = []\n",
    "metric_values_lymph = []\n",
    "while global_step < max_iterations:\n",
    "    global_step, dice_val_best, global_step_best = train(\n",
    "        global_step, train_loader, dice_val_best, global_step_best\n",
    "    )\n",
    "    # wandb.log({'learning_rate': optimizer.param_groups[0]['lr']})\n",
    "    # wandb.log({'Best Dice': dice_val_best})\n",
    "    epoch += 1 \n",
    "    #optimizer.param_groups[0]['lr'] = poly_lr(epoch, max_num_epochs, 0.005676 , 0.9)\n",
    "# model.load_state_dict(torch.load(os.path.join(model_dir, \"best_metric_luck_UNETr_prompt.pth\")))"
   ]
  }
 ],
 "metadata": {
  "kernelspec": {
   "display_name": "clam",
   "language": "python",
   "name": "python3"
  },
  "language_info": {
   "codemirror_mode": {
    "name": "ipython",
    "version": 3
   },
   "file_extension": ".py",
   "mimetype": "text/x-python",
   "name": "python",
   "nbconvert_exporter": "python",
   "pygments_lexer": "ipython3",
   "version": "3.8.0"
  }
 },
 "nbformat": 4,
 "nbformat_minor": 2
}
