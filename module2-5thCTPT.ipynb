{
 "cells": [
  {
   "cell_type": "code",
   "execution_count": 1,
   "metadata": {},
   "outputs": [
    {
     "name": "stdout",
     "output_type": "stream",
     "text": [
      "1\n"
     ]
    },
    {
     "name": "stderr",
     "output_type": "stream",
     "text": [
      "/tmp/ipykernel_27773/264845013.py:9: TqdmWarning: IProgress not found. Please update jupyter and ipywidgets. See https://ipywidgets.readthedocs.io/en/stable/user_install.html\n",
      "  from tqdm.autonotebook import tqdm\n"
     ]
    }
   ],
   "source": [
    "import torch\n",
    "import torch.nn as nn\n",
    "from torch.utils.data import DataLoader\n",
    "from collections.abc import Sequence\n",
    "\n",
    "from unetr import CustomedUNETR\n",
    "\n",
    "import json\n",
    "from tqdm.autonotebook import tqdm\n",
    "import os\n",
    "os.environ[\"CUDA_DEVICE_ORDER\"] = \"PCI_BUS_ID\"\n",
    "os.environ[\"CUDA_VISIBLE_DEVICES\"] = \"1\" \n",
    "\n",
    "print(torch.cuda.device_count())\n",
    "torch.backends.cudnn.benchmark = True\n",
    "device = torch.device(\"cuda\" if torch.cuda.is_available() else \"cpu\")"
   ]
  },
  {
   "cell_type": "code",
   "execution_count": 2,
   "metadata": {},
   "outputs": [],
   "source": [
    "from monai.transforms import EnsureTyped\n",
    "from monai.transforms import Compose, LoadImaged, ScaleIntensityRanged, ConcatItemsd\n",
    "from monai.metrics import DiceMetric\n",
    "from monai.losses import DiceCELoss, DiceFocalLoss, FocalLoss\n",
    "from monai.inferers import sliding_window_inference\n",
    "\n",
    "\n",
    "from monai.data import (\n",
    "    Dataset,\n",
    "    DataLoader,\n",
    "    CacheDataset,\n",
    "    load_decathlon_datalist,\n",
    "    decollate_batch,\n",
    ")\n",
    "\n",
    "\n",
    "from monai.transforms import (\n",
    "    AsDiscrete,\n",
    "    Compose,\n",
    "    CropForegroundd,\n",
    "    LoadImaged,\n",
    "    Orientationd,\n",
    "    RandFlipd,\n",
    "    RandCropByPosNegLabeld,\n",
    "    RandShiftIntensityd,\n",
    "    ScaleIntensityRanged,\n",
    "    Spacingd,\n",
    "    RandRotate90d,\n",
    "    MapTransform,\n",
    "    ScaleIntensityd,\n",
    "    #AddChanneld,\n",
    "    SpatialPadd,\n",
    "    CenterSpatialCropd,\n",
    "    EnsureChannelFirstd,\n",
    "    ConcatItemsd,\n",
    "    AdjustContrastd, \n",
    "    Rand3DElasticd,\n",
    "    HistogramNormalized,\n",
    "    NormalizeIntensityd,\n",
    "    Invertd,\n",
    "    SaveImage,\n",
    "\n",
    ")"
   ]
  },
  {
   "cell_type": "code",
   "execution_count": 3,
   "metadata": {},
   "outputs": [],
   "source": [
    "data_dir = '/home/nada.saadi/MIS-FM/hecktor2022_cropped'\n",
    "json_dir = '/home/nada.saadi/MIS-FM/hecktor2022_cropped/MDA_CTPT_TRAIN.json'"
   ]
  },
  {
   "cell_type": "code",
   "execution_count": 5,
   "metadata": {},
   "outputs": [
    {
     "name": "stdout",
     "output_type": "stream",
     "text": [
      "152 44\n"
     ]
    }
   ],
   "source": [
    "def datafold_read(datalist, basedir, fold=0, key=\"training\"):\n",
    "    with open(datalist) as f:\n",
    "        json_data = json.load(f)\n",
    "\n",
    "    json_data = json_data[key]\n",
    "\n",
    "    for d in json_data:\n",
    "        for k in d:\n",
    "            if isinstance(d[k], list):\n",
    "                d[k] = [os.path.join(basedir, iv) for iv in d[k]]\n",
    "            elif isinstance(d[k], str):\n",
    "                d[k] = os.path.join(basedir, d[k]) if len(d[k]) > 0 else d[k]\n",
    "\n",
    "    tr = []\n",
    "    val = []\n",
    "    for d in json_data:\n",
    "        if \"fold\" in d and d[\"fold\"] == fold:\n",
    "            val.append(d)\n",
    "        else:\n",
    "            tr.append(d)\n",
    "\n",
    "    return tr, val\n",
    "\n",
    "\n",
    "train_data, valid_data = datafold_read(datalist=json_dir, basedir=data_dir, fold=0)\n",
    "print(len(train_data), len(valid_data))"
   ]
  },
  {
   "cell_type": "code",
   "execution_count": 6,
   "metadata": {},
   "outputs": [],
   "source": [
    "num_samples = 4\n",
    "\n",
    "class ClipCT(MapTransform):\n",
    "    \"\"\"\n",
    "    Convert labels to multi channels based on hecktor classes:\n",
    "    label 1 is the tumor\n",
    "    label 2 is the lymph node\n",
    "\n",
    "    \"\"\"\n",
    "\n",
    "    def __call__(self, data):\n",
    "        d = dict(data)\n",
    "        for key in self.keys:\n",
    "            if key == \"ct\":\n",
    "                d[key] = torch.clip(d[key], min=-200, max=200)\n",
    "            # elif key == \"pt\":\n",
    "            #     d[key] = torch.clip(d[key], d[key].min(), 5)\n",
    "        return d\n",
    "\n",
    "train_transforms = Compose(\n",
    "    [\n",
    "        LoadImaged(keys=[\"ct\", \"pt\", \"seg\"], ensure_channel_first=True),\n",
    "        SpatialPadd(keys=[\"ct\", \"pt\", \"seg\"], spatial_size=(200, 200, 310), method='end'),\n",
    "        Orientationd(keys=[\"ct\", \"pt\", \"seg\"], axcodes=\"PLS\"),\n",
    "        NormalizeIntensityd(keys=[\"pt\"]),\n",
    "        ClipCT(keys=[\"ct\"]),\n",
    "        ScaleIntensityd(keys=[\"ct\"], minv=0, maxv=1),\n",
    "        ConcatItemsd(keys=[\"pt\", \"ct\"], name=\"ctpt\"),  # Concatenate CT and PET\n",
    "        RandCropByPosNegLabeld(\n",
    "            keys=[\"ctpt\", \"seg\"],\n",
    "            label_key=\"seg\",\n",
    "            spatial_size=(96, 96, 96),\n",
    "            pos=1,\n",
    "            neg=1,\n",
    "            num_samples=num_samples,\n",
    "            image_key=\"ctpt\",\n",
    "            image_threshold=0,\n",
    "        ),\n",
    "        RandFlipd(keys=[\"ctpt\", \"seg\"], spatial_axis=[0], prob=0.20),\n",
    "        RandFlipd(keys=[\"ctpt\", \"seg\"], spatial_axis=[1], prob=0.20),\n",
    "        RandFlipd(keys=[\"ctpt\", \"seg\"], spatial_axis=[2], prob=0.20),\n",
    "        RandRotate90d(keys=[\"ctpt\", \"seg\"], prob=0.20, max_k=3),\n",
    "        EnsureTyped(keys=[\"ctpt\", \"seg\"]),\n",
    "    \n",
    "    ]\n",
    ")\n",
    "\n",
    "val_transforms = Compose(\n",
    "    [\n",
    "        LoadImaged(keys=[\"ct\", \"pt\", \"seg\"], ensure_channel_first=True),\n",
    "        SpatialPadd(keys=[\"ct\", \"pt\", \"seg\"], spatial_size=(200, 200, 310), method='end'),\n",
    "        Orientationd(keys=[\"ct\", \"pt\", \"seg\"], axcodes=\"PLS\"),\n",
    "        NormalizeIntensityd(keys=[\"pt\"]),\n",
    "        ClipCT(keys=[\"ct\"]),\n",
    "        ScaleIntensityd(keys=[\"ct\"], minv=0, maxv=1),\n",
    "        ConcatItemsd(keys=[\"pt\", \"ct\"], name=\"ctpt\"),# Concatenate CT and PET\n",
    "        EnsureTyped(keys=[\"ctpt\", \"seg\"]),\n",
    "    ]\n",
    ")\n",
    "\n",
    "\n",
    "##----------\n",
    "\n",
    "def create_dataloader(data, transforms, batch_size=2, shuffle=True):\n",
    "    # Create CacheDataset with the reformatted data\n",
    "    dataset = Dataset(data=data, transform=transforms)\n",
    "\n",
    "    # Create DataLoader\n",
    "    return DataLoader(dataset, batch_size=batch_size, shuffle=shuffle, num_workers=8)\n",
    "\n",
    "\n",
    "\n",
    "train_loader = create_dataloader(train_data, train_transforms, shuffle=True)\n",
    "val_loader = create_dataloader(valid_data, val_transforms, shuffle=False)"
   ]
  },
  {
   "cell_type": "code",
   "execution_count": 8,
   "metadata": {},
   "outputs": [
    {
     "name": "stdout",
     "output_type": "stream",
     "text": [
      "Nada's version of UNETR\n",
      "(96, 96, 96)\n",
      "(16, 16, 16)\n",
      "(6, 6, 6)\n",
      "768\n",
      "ana daba Kanzidhoum bjouj flekher\n",
      "base_vit_dim 768\n"
     ]
    }
   ],
   "source": [
    "\n",
    "\n",
    "import torch.nn.init as init\n",
    "\n",
    "# ...\n",
    "\n",
    "model = CustomedUNETR(\n",
    "    in_channels=1,\n",
    "    out_channels=3,\n",
    "    img_size=(96, 96, 96),\n",
    "    feature_size=48,\n",
    "    hidden_size=768,\n",
    "    num_heads=12,\n",
    "    mlp_dim=3072,\n",
    "    pos_embed=\"perceptron\",\n",
    "    norm_name=\"instance\",\n",
    "    res_block=True,\n",
    "    dropout_rate=0.0,\n",
    "    proj_type=\"conv\",\n",
    "    r=4,\n",
    "    lora_layer=None,\n",
    ").to(device)\n",
    "\n",
    "# Load the state_dict from a pretrained model with strict=False\n",
    "decoder_weights_path =  '/home/nada.saadi/CTPET/hecktor2022_cropped/Module1-4centers-CT-only-tokens/-module1-4centers-ctonly-tokens.pth'\n",
    "pretrained_model_state_dict = torch.load('/home/nada.saadi/CTPET/hecktor2022_cropped/Module1-4centers-CT-only-tokens/-module1-4centers-ctonly-tokens.pth')\n",
    "\n",
    "# Create a copy of the state_dict\n",
    "pretrained_model_state_dict_copy = pretrained_model_state_dict.copy()\n",
    "\n",
    "# Modify the state_dict\n",
    "for k, v in pretrained_model_state_dict.items():\n",
    "    if \"vit.\" in k:\n",
    "        pretrained_model_state_dict_copy[k.replace(\"vit.\", \"vit.lora_vit\")] = v\n",
    "        del pretrained_model_state_dict_copy[k]\n",
    "\n",
    "# Load the modified state_dict into the model\n",
    "model.load_state_dict(pretrained_model_state_dict_copy, strict=False)\n",
    "\n",
    "# Freeze decoder layers 2, 3, 4, and 5\n",
    "for name, param in model.named_parameters():\n",
    "    if \"decoder2\" in name or \"decoder3\" in name or \"decoder4\" or \"decoder5\" in name:\n",
    "        param.requires_grad = False\n",
    "        # Make the self.out layer trainable\n",
    "        for name, param in model.named_parameters():\n",
    "            if \"out\" in name:\n",
    "                param.requires_grad = True\n",
    "    "
   ]
  },
  {
   "cell_type": "code",
   "execution_count": 9,
   "metadata": {},
   "outputs": [],
   "source": [
    "def poly_lr(epoch, max_epochs, initial_lr, exponent=0.9):\n",
    "    return initial_lr * (1 - epoch / max_epochs)**exponent\n",
    "\n",
    "model_dir='/home/nada.saadi/CTPET/hecktor2022_cropped/module2-with-pet-skipconnection-firsthalf-decoderfrozen-outtrainable'\n",
    "\n",
    "max_iterations = 18000\n",
    "eval_num = 100\n",
    "\n",
    "## running stats\n",
    "global_step = 0\n",
    "dice_val_best = 0.0\n",
    "global_step_best = 0\n",
    "epoch_loss_values = []\n",
    "metric_values = []\n",
    "metric_values_tumor = []\n",
    "metric_values_lymph = []\n",
    "\n",
    "\n",
    "loss_function = DiceCELoss(to_onehot_y=True, softmax=True)\n",
    "optimizer = torch.optim.AdamW(model.parameters(), lr=1e-4, weight_decay=1e-5)\n",
    "\n",
    "\n",
    "post_label = AsDiscrete(to_onehot=3)\n",
    "post_pred = AsDiscrete(argmax=True, to_onehot=3)\n",
    "\n",
    "dice_metric = DiceMetric(include_background=False, reduction=\"mean\", get_not_nans=False)\n",
    "dice_metric_batch = DiceMetric(include_background=False, reduction=\"mean_batch\")\n",
    "\n",
    "\n",
    "##-----------------------------------------------------------------------------\n",
    "\n",
    "def validation(epoch_iterator_val):\n",
    "        model.eval()\n",
    "        with torch.no_grad():\n",
    "            for step, batch in enumerate(epoch_iterator_val):\n",
    "                val_inputs, val_labels = (batch[\"ctpt\"].cuda(), batch[\"seg\"].cuda())\n",
    "                val_outputs = sliding_window_inference(val_inputs, (96, 96, 96), 4, model)\n",
    "                val_labels_list = decollate_batch(val_labels)\n",
    "                val_labels_convert = [\n",
    "                    post_label(val_label_tensor) for val_label_tensor in val_labels_list\n",
    "                ]\n",
    "                val_outputs_list = decollate_batch(val_outputs)\n",
    "                val_output_convert = [\n",
    "                    post_pred(val_pred_tensor) for val_pred_tensor in val_outputs_list\n",
    "                ]\n",
    "                dice_metric(y_pred=val_output_convert, y=val_labels_convert)\n",
    "                dice_metric_batch(y_pred=val_output_convert, y=val_labels_convert)\n",
    "                epoch_iterator_val.set_description(\n",
    "                    \"Validate (%d / %d Steps)\" % (global_step, 10.0)\n",
    "                )\n",
    "            mean_dice_val = dice_metric.aggregate().item()\n",
    "            metric_batch_val = dice_metric_batch.aggregate()\n",
    "\n",
    "            metric_tumor = metric_batch_val[0].item()\n",
    "            metric_lymph = metric_batch_val[1].item()\n",
    "\n",
    "            dice_metric.reset()\n",
    "            dice_metric_batch.reset()\n",
    "        return mean_dice_val, metric_tumor, metric_lymph\n",
    "\n",
    "\n",
    "\n",
    "def train(global_step, train_loader, dice_val_best, global_step_best):\n",
    "        model.train()\n",
    "        epoch_loss = 0\n",
    "        step = 0\n",
    "        epoch_iterator = tqdm(\n",
    "            train_loader, desc=\"Training (X / X Steps) (loss=X.X)\", dynamic_ncols=True\n",
    "        )\n",
    "        \n",
    "        for step, batch in enumerate(epoch_iterator):\n",
    "            step += 1\n",
    "            x, y = (batch[\"ctpt\"].cuda(), batch[\"seg\"].cuda())\n",
    "            logit_map = model(x,mode=\"ct\")\n",
    "            loss = loss_function(logit_map, y)\n",
    "            loss.backward()\n",
    "            epoch_loss += loss.item() \n",
    "            optimizer.step()\n",
    "            optimizer.zero_grad()\n",
    "            epoch_iterator.set_description(\n",
    "                \"Training (%d / %d Steps) (loss=%2.5f)\"\n",
    "                % (global_step, max_iterations, loss)\n",
    "            )\n",
    "            \n",
    "            if (\n",
    "                global_step % eval_num == 0 and global_step != 0\n",
    "            ) or global_step == max_iterations:\n",
    "                epoch_iterator_val = tqdm(\n",
    "                    val_loader, desc=\"Validate (X / X Steps) (dice=X.X)\", dynamic_ncols=True\n",
    "                )\n",
    "                dice_val, metric_tumor, metric_lymph = validation(epoch_iterator_val)\n",
    "                epoch_loss /= step\n",
    "                epoch_loss_values.append(epoch_loss)\n",
    "                metric_values.append(dice_val)\n",
    "                metric_values_tumor.append(metric_tumor)\n",
    "                metric_values_lymph.append(metric_lymph)\n",
    "                if dice_val > dice_val_best:\n",
    "                    dice_val_best = dice_val\n",
    "                    global_step_best = global_step\n",
    "                    torch.save(\n",
    "                        model.state_dict(), os.path.join(model_dir, \"m2-withpet-intheskipconnection-firsthalf-decoderfrozen-outtrainable.pth\")\n",
    "                    )\n",
    "                    print(\n",
    "                        \"Model Was Saved ! Current Best Avg. Dice: {} Current Avg. Dice: {} Current Avg. tumor Dice: {} Current Avg. lymph Dice: {}\".format(\n",
    "                            dice_val_best, dice_val, metric_tumor, metric_lymph\n",
    "                        )\n",
    "                    )\n",
    "                else:\n",
    "                    print(\n",
    "                        \"Model Was Not Saved ! Current Best Avg. Dice: {} Current Avg. Dice: {} Current Avg. tumor Dice: {} Current Avg. lymph Dice: {}\".format(\n",
    "                            dice_val_best, dice_val,  metric_tumor, metric_lymph\n",
    "                        )\n",
    "                    )\n",
    "            global_step += 1\n",
    "        return global_step, dice_val_best, global_step_best\n"
   ]
  },
  {
   "cell_type": "code",
   "execution_count": 10,
   "metadata": {},
   "outputs": [
    {
     "name": "stderr",
     "output_type": "stream",
     "text": [
      "Training (X / X Steps) (loss=X.X):   0%|          | 0/76 [00:00<?, ?it/s]"
     ]
    },
    {
     "name": "stderr",
     "output_type": "stream",
     "text": [
      "Training (75 / 18000 Steps) (loss=0.95049): 100%|██████████| 76/76 [01:59<00:00,  1.58s/it]\n",
      "Validate (76 / 10 Steps): 100%|██████████| 22/22 [01:47<00:00,  4.86s/it]1<00:55,  1.06s/it]\n",
      "Training (100 / 18000 Steps) (loss=0.74764):  33%|███▎      | 25/76 [02:20<28:43, 33.80s/it]"
     ]
    },
    {
     "name": "stdout",
     "output_type": "stream",
     "text": [
      "Model Was Saved ! Current Best Avg. Dice: 4.204879587632604e-06 Current Avg. Dice: 4.204879587632604e-06 Current Avg. tumor Dice: 5.8192649703414645e-06 Current Avg. lymph Dice: 3.4894515010819305e-06\n"
     ]
    },
    {
     "name": "stderr",
     "output_type": "stream",
     "text": [
      "Training (151 / 18000 Steps) (loss=1.04074): 100%|██████████| 76/76 [03:16<00:00,  2.59s/it]\n",
      "Validate (152 / 10 Steps): 100%|██████████| 22/22 [01:40<00:00,  4.55s/it]<00:29,  1.07s/it]\n",
      "Training (200 / 18000 Steps) (loss=0.98219):  64%|██████▍   | 49/76 [02:40<14:11, 31.53s/it]"
     ]
    },
    {
     "name": "stdout",
     "output_type": "stream",
     "text": [
      "Model Was Saved ! Current Best Avg. Dice: 9.52661139308475e-06 Current Avg. Dice: 9.52661139308475e-06 Current Avg. tumor Dice: 1.0990461305482313e-05 Current Avg. lymph Dice: 1.0465067134646233e-05\n"
     ]
    },
    {
     "name": "stderr",
     "output_type": "stream",
     "text": [
      "Training (227 / 18000 Steps) (loss=1.16857): 100%|██████████| 76/76 [03:10<00:00,  2.51s/it]\n",
      "Validate (228 / 10 Steps): 100%|██████████| 22/22 [01:40<00:00,  4.55s/it]<00:04,  1.07s/it]\n",
      "Training (300 / 18000 Steps) (loss=0.99227):  96%|█████████▌| 73/76 [03:07<01:34, 31.65s/it]"
     ]
    },
    {
     "name": "stdout",
     "output_type": "stream",
     "text": [
      "Model Was Saved ! Current Best Avg. Dice: 0.00013471412239596248 Current Avg. Dice: 0.00013471412239596248 Current Avg. tumor Dice: 0.00025267587625421584 Current Avg. lymph Dice: 3.45126936736051e-05\n"
     ]
    },
    {
     "name": "stderr",
     "output_type": "stream",
     "text": [
      "Training (303 / 18000 Steps) (loss=1.04451): 100%|██████████| 76/76 [03:10<00:00,  2.50s/it]\n",
      "Training (379 / 18000 Steps) (loss=0.92043): 100%|██████████| 76/76 [01:28<00:00,  1.16s/it]\n",
      "Validate (380 / 10 Steps): 100%|██████████| 22/22 [01:40<00:00,  4.56s/it]<00:58,  1.05s/it]\n",
      "Training (400 / 18000 Steps) (loss=0.73201):  28%|██▊       | 21/76 [02:09<28:55, 31.56s/it]"
     ]
    },
    {
     "name": "stdout",
     "output_type": "stream",
     "text": [
      "Model Was Saved ! Current Best Avg. Dice: 0.00038145657163113356 Current Avg. Dice: 0.00038145657163113356 Current Avg. tumor Dice: 0.0007613130728714168 Current Avg. lymph Dice: 4.425067163538188e-05\n"
     ]
    },
    {
     "name": "stderr",
     "output_type": "stream",
     "text": [
      "Training (455 / 18000 Steps) (loss=0.76608): 100%|██████████| 76/76 [03:10<00:00,  2.50s/it]\n",
      "Validate (456 / 10 Steps): 100%|██████████| 22/22 [01:39<00:00,  4.53s/it]<00:34,  1.09s/it]\n",
      "Training (500 / 18000 Steps) (loss=0.78194):  59%|█████▉    | 45/76 [02:35<16:13, 31.40s/it]"
     ]
    },
    {
     "name": "stdout",
     "output_type": "stream",
     "text": [
      "Model Was Saved ! Current Best Avg. Dice: 0.0009968624217435718 Current Avg. Dice: 0.0009968624217435718 Current Avg. tumor Dice: 0.001921482034958899 Current Avg. lymph Dice: 0.0001621077099116519\n"
     ]
    },
    {
     "name": "stderr",
     "output_type": "stream",
     "text": [
      "Training (531 / 18000 Steps) (loss=0.76549): 100%|██████████| 76/76 [03:09<00:00,  2.49s/it]\n",
      "Validate (532 / 10 Steps): 100%|██████████| 22/22 [01:39<00:00,  4.54s/it]<00:08,  1.04s/it]\n",
      "Training (600 / 18000 Steps) (loss=0.84015):  91%|█████████ | 69/76 [03:02<03:40, 31.45s/it]"
     ]
    },
    {
     "name": "stdout",
     "output_type": "stream",
     "text": [
      "Model Was Saved ! Current Best Avg. Dice: 0.003136483021080494 Current Avg. Dice: 0.003136483021080494 Current Avg. tumor Dice: 0.006088285241276026 Current Avg. lymph Dice: 0.00015163017087616026\n"
     ]
    },
    {
     "name": "stderr",
     "output_type": "stream",
     "text": [
      "Training (607 / 18000 Steps) (loss=0.86820): 100%|██████████| 76/76 [03:10<00:00,  2.50s/it]\n",
      "Training (683 / 18000 Steps) (loss=0.79891): 100%|██████████| 76/76 [01:28<00:00,  1.17s/it]\n",
      "Validate (684 / 10 Steps): 100%|██████████| 22/22 [01:40<00:00,  4.55s/it]<01:04,  1.08s/it]\n",
      "Training (700 / 18000 Steps) (loss=0.77483):  22%|██▏       | 17/76 [02:05<31:07, 31.65s/it]"
     ]
    },
    {
     "name": "stdout",
     "output_type": "stream",
     "text": [
      "Model Was Saved ! Current Best Avg. Dice: 0.00866212509572506 Current Avg. Dice: 0.00866212509572506 Current Avg. tumor Dice: 0.016474639996886253 Current Avg. lymph Dice: 0.00019765875185839832\n"
     ]
    },
    {
     "name": "stderr",
     "output_type": "stream",
     "text": [
      "Training (759 / 18000 Steps) (loss=0.76817): 100%|██████████| 76/76 [03:10<00:00,  2.51s/it]\n",
      "Validate (760 / 10 Steps): 100%|██████████| 22/22 [01:39<00:00,  4.52s/it]<00:38,  1.07s/it]\n",
      "Training (800 / 18000 Steps) (loss=0.75454):  54%|█████▍    | 41/76 [02:31<18:19, 31.42s/it]"
     ]
    },
    {
     "name": "stdout",
     "output_type": "stream",
     "text": [
      "Model Was Saved ! Current Best Avg. Dice: 0.014303356409072876 Current Avg. Dice: 0.014303356409072876 Current Avg. tumor Dice: 0.02702912501990795 Current Avg. lymph Dice: 0.0006486700149253011\n"
     ]
    },
    {
     "name": "stderr",
     "output_type": "stream",
     "text": [
      "Training (835 / 18000 Steps) (loss=0.75098): 100%|██████████| 76/76 [03:10<00:00,  2.50s/it]\n",
      "Validate (836 / 10 Steps): 100%|██████████| 22/22 [01:39<00:00,  4.54s/it]<00:13,  1.14s/it]\n",
      "Training (900 / 18000 Steps) (loss=0.74840):  86%|████████▌ | 65/76 [02:58<05:47, 31.60s/it]"
     ]
    },
    {
     "name": "stdout",
     "output_type": "stream",
     "text": [
      "Model Was Saved ! Current Best Avg. Dice: 0.02740023098886013 Current Avg. Dice: 0.02740023098886013 Current Avg. tumor Dice: 0.05046980828046799 Current Avg. lymph Dice: 0.0005239327438175678\n"
     ]
    },
    {
     "name": "stderr",
     "output_type": "stream",
     "text": [
      "Training (911 / 18000 Steps) (loss=0.76614): 100%|██████████| 76/76 [03:10<00:00,  2.51s/it]\n",
      "Training (987 / 18000 Steps) (loss=0.73751): 100%|██████████| 76/76 [01:28<00:00,  1.16s/it]\n",
      "Validate (988 / 10 Steps): 100%|██████████| 22/22 [01:39<00:00,  4.54s/it]9<01:12,  1.13s/it]\n",
      "Training (1000 / 18000 Steps) (loss=0.76961):  17%|█▋        | 13/76 [02:00<33:21, 31.78s/it]"
     ]
    },
    {
     "name": "stdout",
     "output_type": "stream",
     "text": [
      "Model Was Saved ! Current Best Avg. Dice: 0.03725564479827881 Current Avg. Dice: 0.03725564479827881 Current Avg. tumor Dice: 0.06700921058654785 Current Avg. lymph Dice: 0.002608621958643198\n"
     ]
    },
    {
     "name": "stderr",
     "output_type": "stream",
     "text": [
      "Training (1063 / 18000 Steps) (loss=0.74634): 100%|██████████| 76/76 [03:09<00:00,  2.49s/it]\n",
      "Validate (1064 / 10 Steps): 100%|██████████| 22/22 [01:40<00:00,  4.58s/it]<00:47,  1.18s/it]\n",
      "Training (1100 / 18000 Steps) (loss=0.71558):  49%|████▊     | 37/76 [02:28<20:41, 31.83s/it]"
     ]
    },
    {
     "name": "stdout",
     "output_type": "stream",
     "text": [
      "Model Was Saved ! Current Best Avg. Dice: 0.05695453658699989 Current Avg. Dice: 0.05695453658699989 Current Avg. tumor Dice: 0.09688422828912735 Current Avg. lymph Dice: 0.008949536830186844\n"
     ]
    },
    {
     "name": "stderr",
     "output_type": "stream",
     "text": [
      "Training (1139 / 18000 Steps) (loss=0.72123): 100%|██████████| 76/76 [03:11<00:00,  2.52s/it]\n",
      "Validate (1140 / 10 Steps): 100%|██████████| 22/22 [01:39<00:00,  4.54s/it]<00:17,  1.09s/it]\n",
      "Training (1200 / 18000 Steps) (loss=0.82046):  80%|████████  | 61/76 [02:53<07:51, 31.46s/it]"
     ]
    },
    {
     "name": "stdout",
     "output_type": "stream",
     "text": [
      "Model Was Saved ! Current Best Avg. Dice: 0.07746678590774536 Current Avg. Dice: 0.07746678590774536 Current Avg. tumor Dice: 0.11795032769441605 Current Avg. lymph Dice: 0.028601977974176407\n"
     ]
    },
    {
     "name": "stderr",
     "output_type": "stream",
     "text": [
      "Training (1215 / 18000 Steps) (loss=0.75181): 100%|██████████| 76/76 [03:10<00:00,  2.50s/it]\n",
      "Training (1291 / 18000 Steps) (loss=0.77195): 100%|██████████| 76/76 [01:28<00:00,  1.16s/it]\n",
      "Validate (1292 / 10 Steps): 100%|██████████| 22/22 [01:39<00:00,  4.54s/it]01:20,  1.19s/it]\n",
      "Training (1300 / 18000 Steps) (loss=0.72432):  12%|█▏        | 9/76 [01:56<36:56, 33.08s/it]"
     ]
    },
    {
     "name": "stdout",
     "output_type": "stream",
     "text": [
      "Model Was Saved ! Current Best Avg. Dice: 0.09729036688804626 Current Avg. Dice: 0.09729036688804626 Current Avg. tumor Dice: 0.1294894963502884 Current Avg. lymph Dice: 0.059642329812049866\n"
     ]
    },
    {
     "name": "stderr",
     "output_type": "stream",
     "text": [
      "Training (1367 / 18000 Steps) (loss=0.69856): 100%|██████████| 76/76 [03:10<00:00,  2.51s/it]\n",
      "Validate (1368 / 10 Steps): 100%|██████████| 22/22 [01:40<00:00,  4.55s/it]<00:46,  1.07s/it]\n",
      "Training (1400 / 18000 Steps) (loss=0.78786):  43%|████▎     | 33/76 [02:23<22:42, 31.69s/it]"
     ]
    },
    {
     "name": "stdout",
     "output_type": "stream",
     "text": [
      "Model Was Saved ! Current Best Avg. Dice: 0.13684123754501343 Current Avg. Dice: 0.13684123754501343 Current Avg. tumor Dice: 0.15987858176231384 Current Avg. lymph Dice: 0.10736864060163498\n"
     ]
    },
    {
     "name": "stderr",
     "output_type": "stream",
     "text": [
      "Training (1443 / 18000 Steps) (loss=0.66879): 100%|██████████| 76/76 [03:10<00:00,  2.51s/it]\n",
      "Validate (1444 / 10 Steps): 100%|██████████| 22/22 [01:39<00:00,  4.54s/it]<00:21,  1.08s/it]\n",
      "Training (1500 / 18000 Steps) (loss=0.76599):  75%|███████▌  | 57/76 [02:49<09:59, 31.55s/it]"
     ]
    },
    {
     "name": "stdout",
     "output_type": "stream",
     "text": [
      "Model Was Saved ! Current Best Avg. Dice: 0.17314234375953674 Current Avg. Dice: 0.17314234375953674 Current Avg. tumor Dice: 0.20103871822357178 Current Avg. lymph Dice: 0.13162463903427124\n"
     ]
    },
    {
     "name": "stderr",
     "output_type": "stream",
     "text": [
      "Training (1519 / 18000 Steps) (loss=0.67741): 100%|██████████| 76/76 [03:10<00:00,  2.51s/it]\n",
      "Training (1595 / 18000 Steps) (loss=0.68252): 100%|██████████| 76/76 [01:29<00:00,  1.18s/it]\n",
      "Validate (1596 / 10 Steps): 100%|██████████| 22/22 [01:40<00:00,  4.57s/it]02:11,  1.82s/it]\n",
      "Training (1600 / 18000 Steps) (loss=0.62208):   7%|▋         | 5/76 [01:52<45:18, 38.29s/it]"
     ]
    },
    {
     "name": "stdout",
     "output_type": "stream",
     "text": [
      "Model Was Saved ! Current Best Avg. Dice: 0.19291409850120544 Current Avg. Dice: 0.19291409850120544 Current Avg. tumor Dice: 0.20215043425559998 Current Avg. lymph Dice: 0.18132339417934418\n"
     ]
    },
    {
     "name": "stderr",
     "output_type": "stream",
     "text": [
      "Training (1671 / 18000 Steps) (loss=0.57968): 100%|██████████| 76/76 [03:10<00:00,  2.51s/it]\n",
      "Validate (1672 / 10 Steps): 100%|██████████| 22/22 [01:39<00:00,  4.54s/it]<00:52,  1.09s/it]\n",
      "Training (1700 / 18000 Steps) (loss=0.62169):  38%|███▊      | 29/76 [02:18<24:37, 31.45s/it]"
     ]
    },
    {
     "name": "stdout",
     "output_type": "stream",
     "text": [
      "Model Was Saved ! Current Best Avg. Dice: 0.21462005376815796 Current Avg. Dice: 0.21462005376815796 Current Avg. tumor Dice: 0.22799374163150787 Current Avg. lymph Dice: 0.19289685785770416\n"
     ]
    },
    {
     "name": "stderr",
     "output_type": "stream",
     "text": [
      "Training (1747 / 18000 Steps) (loss=0.73188): 100%|██████████| 76/76 [03:08<00:00,  2.49s/it]\n",
      "Validate (1748 / 10 Steps): 100%|██████████| 22/22 [01:39<00:00,  4.53s/it]<00:25,  1.06s/it]\n",
      "Training (1800 / 18000 Steps) (loss=0.61600):  70%|██████▉   | 53/76 [02:44<12:02, 31.40s/it]"
     ]
    },
    {
     "name": "stdout",
     "output_type": "stream",
     "text": [
      "Model Was Saved ! Current Best Avg. Dice: 0.2390318065881729 Current Avg. Dice: 0.2390318065881729 Current Avg. tumor Dice: 0.2463734894990921 Current Avg. lymph Dice: 0.23106050491333008\n"
     ]
    },
    {
     "name": "stderr",
     "output_type": "stream",
     "text": [
      "Training (1823 / 18000 Steps) (loss=0.58136): 100%|██████████| 76/76 [03:09<00:00,  2.49s/it]\n",
      "Training (1899 / 18000 Steps) (loss=0.73801): 100%|██████████| 76/76 [01:27<00:00,  1.15s/it]\n",
      "Validate (1900 / 10 Steps): 100%|██████████| 22/22 [01:39<00:00,  4.51s/it]?, ?it/s]\n",
      "Training (1900 / 18000 Steps) (loss=0.54474):   1%|▏         | 1/76 [01:46<2:13:13, 106.58s/it]"
     ]
    },
    {
     "name": "stdout",
     "output_type": "stream",
     "text": [
      "Model Was Saved ! Current Best Avg. Dice: 0.2478022575378418 Current Avg. Dice: 0.2478022575378418 Current Avg. tumor Dice: 0.25916263461112976 Current Avg. lymph Dice: 0.2313569337129593\n"
     ]
    },
    {
     "name": "stderr",
     "output_type": "stream",
     "text": [
      "Training (1975 / 18000 Steps) (loss=0.60418): 100%|██████████| 76/76 [03:08<00:00,  2.48s/it]  \n",
      "Validate (1976 / 10 Steps): 100%|██████████| 22/22 [01:39<00:00,  4.51s/it]<00:54,  1.05s/it]\n",
      "Training (2000 / 18000 Steps) (loss=0.57320):  33%|███▎      | 25/76 [02:12<26:36, 31.30s/it]"
     ]
    },
    {
     "name": "stdout",
     "output_type": "stream",
     "text": [
      "Model Was Saved ! Current Best Avg. Dice: 0.275078684091568 Current Avg. Dice: 0.275078684091568 Current Avg. tumor Dice: 0.29354730248451233 Current Avg. lymph Dice: 0.24866440892219543\n"
     ]
    },
    {
     "name": "stderr",
     "output_type": "stream",
     "text": [
      "Training (2051 / 18000 Steps) (loss=0.59309): 100%|██████████| 76/76 [03:07<00:00,  2.47s/it]\n",
      "Validate (2052 / 10 Steps): 100%|██████████| 22/22 [01:39<00:00,  4.51s/it]<00:30,  1.09s/it]\n",
      "Training (2100 / 18000 Steps) (loss=0.61023):  64%|██████▍   | 49/76 [02:37<13:53, 30.88s/it]"
     ]
    },
    {
     "name": "stdout",
     "output_type": "stream",
     "text": [
      "Model Was Not Saved ! Current Best Avg. Dice: 0.275078684091568 Current Avg. Dice: 0.27408644556999207 Current Avg. tumor Dice: 0.29629838466644287 Current Avg. lymph Dice: 0.2448519617319107\n"
     ]
    },
    {
     "name": "stderr",
     "output_type": "stream",
     "text": [
      "Training (2127 / 18000 Steps) (loss=0.66033): 100%|██████████| 76/76 [03:07<00:00,  2.47s/it]\n",
      "Validate (2128 / 10 Steps): 100%|██████████| 22/22 [01:39<00:00,  4.51s/it]<00:04,  1.05s/it]\n",
      "Training (2200 / 18000 Steps) (loss=0.63205):  96%|█████████▌| 73/76 [03:05<01:33, 31.31s/it]"
     ]
    },
    {
     "name": "stdout",
     "output_type": "stream",
     "text": [
      "Model Was Saved ! Current Best Avg. Dice: 0.2753883898258209 Current Avg. Dice: 0.2753883898258209 Current Avg. tumor Dice: 0.2931557595729828 Current Avg. lymph Dice: 0.24948883056640625\n"
     ]
    },
    {
     "name": "stderr",
     "output_type": "stream",
     "text": [
      "Training (2203 / 18000 Steps) (loss=0.52646): 100%|██████████| 76/76 [03:08<00:00,  2.48s/it]\n",
      "Training (2279 / 18000 Steps) (loss=0.63569): 100%|██████████| 76/76 [01:27<00:00,  1.15s/it]\n",
      "Validate (2280 / 10 Steps): 100%|██████████| 22/22 [01:39<00:00,  4.52s/it]<01:00,  1.08s/it]\n",
      "Training (2300 / 18000 Steps) (loss=0.69838):  28%|██▊       | 21/76 [02:08<28:43, 31.33s/it]"
     ]
    },
    {
     "name": "stdout",
     "output_type": "stream",
     "text": [
      "Model Was Saved ! Current Best Avg. Dice: 0.2926587760448456 Current Avg. Dice: 0.2926587760448456 Current Avg. tumor Dice: 0.3162529766559601 Current Avg. lymph Dice: 0.2585359811782837\n"
     ]
    },
    {
     "name": "stderr",
     "output_type": "stream",
     "text": [
      "Training (2355 / 18000 Steps) (loss=0.67089): 100%|██████████| 76/76 [03:08<00:00,  2.48s/it]\n",
      "Validate (2356 / 10 Steps): 100%|██████████| 22/22 [01:39<00:00,  4.52s/it]<00:36,  1.14s/it]\n",
      "Training (2400 / 18000 Steps) (loss=0.57569):  59%|█████▉    | 45/76 [02:36<16:13, 31.40s/it]"
     ]
    },
    {
     "name": "stdout",
     "output_type": "stream",
     "text": [
      "Model Was Saved ! Current Best Avg. Dice: 0.2930898368358612 Current Avg. Dice: 0.2930898368358612 Current Avg. tumor Dice: 0.3108356297016144 Current Avg. lymph Dice: 0.2756747901439667\n"
     ]
    },
    {
     "name": "stderr",
     "output_type": "stream",
     "text": [
      "Training (2431 / 18000 Steps) (loss=0.70965): 100%|██████████| 76/76 [03:10<00:00,  2.50s/it]\n",
      "Validate (2432 / 10 Steps): 100%|██████████| 22/22 [01:39<00:00,  4.52s/it]<00:08,  1.07s/it]\n",
      "Training (2500 / 18000 Steps) (loss=0.60645):  91%|█████████ | 69/76 [03:01<03:39, 31.33s/it]"
     ]
    },
    {
     "name": "stdout",
     "output_type": "stream",
     "text": [
      "Model Was Saved ! Current Best Avg. Dice: 0.32036641240119934 Current Avg. Dice: 0.32036641240119934 Current Avg. tumor Dice: 0.3523597717285156 Current Avg. lymph Dice: 0.27338531613349915\n"
     ]
    },
    {
     "name": "stderr",
     "output_type": "stream",
     "text": [
      "Training (2507 / 18000 Steps) (loss=0.61271): 100%|██████████| 76/76 [03:08<00:00,  2.49s/it]\n",
      "Training (2583 / 18000 Steps) (loss=0.57688): 100%|██████████| 76/76 [01:27<00:00,  1.15s/it]\n",
      "Validate (2584 / 10 Steps): 100%|██████████| 22/22 [01:39<00:00,  4.52s/it]<01:03,  1.06s/it]\n",
      "Training (2600 / 18000 Steps) (loss=0.56999):  22%|██▏       | 17/76 [02:02<30:33, 31.07s/it]"
     ]
    },
    {
     "name": "stdout",
     "output_type": "stream",
     "text": [
      "Model Was Not Saved ! Current Best Avg. Dice: 0.32036641240119934 Current Avg. Dice: 0.31784355640411377 Current Avg. tumor Dice: 0.3421109616756439 Current Avg. lymph Dice: 0.2868867516517639\n"
     ]
    },
    {
     "name": "stderr",
     "output_type": "stream",
     "text": [
      "Training (2659 / 18000 Steps) (loss=0.61394): 100%|██████████| 76/76 [03:06<00:00,  2.45s/it]\n",
      "Validate (2660 / 10 Steps): 100%|██████████| 22/22 [01:39<00:00,  4.53s/it]<00:38,  1.06s/it]\n",
      "Training (2700 / 18000 Steps) (loss=0.55459):  54%|█████▍    | 41/76 [02:30<18:20, 31.46s/it]"
     ]
    },
    {
     "name": "stdout",
     "output_type": "stream",
     "text": [
      "Model Was Saved ! Current Best Avg. Dice: 0.3282846212387085 Current Avg. Dice: 0.3282846212387085 Current Avg. tumor Dice: 0.34969982504844666 Current Avg. lymph Dice: 0.29592257738113403\n"
     ]
    },
    {
     "name": "stderr",
     "output_type": "stream",
     "text": [
      "Training (2735 / 18000 Steps) (loss=0.68670): 100%|██████████| 76/76 [03:07<00:00,  2.47s/it]\n",
      "Validate (2736 / 10 Steps): 100%|██████████| 22/22 [01:39<00:00,  4.52s/it]<00:12,  1.07s/it]\n",
      "Training (2800 / 18000 Steps) (loss=0.51099):  86%|████████▌ | 65/76 [02:55<05:44, 31.32s/it]"
     ]
    },
    {
     "name": "stdout",
     "output_type": "stream",
     "text": [
      "Model Was Saved ! Current Best Avg. Dice: 0.33051377534866333 Current Avg. Dice: 0.33051377534866333 Current Avg. tumor Dice: 0.35575658082962036 Current Avg. lymph Dice: 0.30670085549354553\n"
     ]
    },
    {
     "name": "stderr",
     "output_type": "stream",
     "text": [
      "Training (2811 / 18000 Steps) (loss=0.59188): 100%|██████████| 76/76 [03:06<00:00,  2.46s/it]\n",
      "Training (2887 / 18000 Steps) (loss=0.60907): 100%|██████████| 76/76 [01:26<00:00,  1.14s/it]\n",
      "Validate (2888 / 10 Steps): 100%|██████████| 22/22 [01:39<00:00,  4.53s/it]<01:10,  1.10s/it]\n",
      "Training (2900 / 18000 Steps) (loss=0.61537):  17%|█▋        | 13/76 [01:59<33:18, 31.72s/it]"
     ]
    },
    {
     "name": "stdout",
     "output_type": "stream",
     "text": [
      "Model Was Saved ! Current Best Avg. Dice: 0.3412337899208069 Current Avg. Dice: 0.3412337899208069 Current Avg. tumor Dice: 0.3747878670692444 Current Avg. lymph Dice: 0.2959056496620178\n"
     ]
    },
    {
     "name": "stderr",
     "output_type": "stream",
     "text": [
      "Training (2963 / 18000 Steps) (loss=0.67865): 100%|██████████| 76/76 [03:08<00:00,  2.47s/it]\n",
      "Validate (2964 / 10 Steps): 100%|██████████| 22/22 [01:39<00:00,  4.53s/it]<00:42,  1.05s/it]\n",
      "Training (3000 / 18000 Steps) (loss=0.55022):  49%|████▊     | 37/76 [02:25<20:22, 31.35s/it]"
     ]
    },
    {
     "name": "stdout",
     "output_type": "stream",
     "text": [
      "Model Was Saved ! Current Best Avg. Dice: 0.3415241241455078 Current Avg. Dice: 0.3415241241455078 Current Avg. tumor Dice: 0.3715031147003174 Current Avg. lymph Dice: 0.307961106300354\n"
     ]
    },
    {
     "name": "stderr",
     "output_type": "stream",
     "text": [
      "Training (3039 / 18000 Steps) (loss=0.62021): 100%|██████████| 76/76 [03:08<00:00,  2.48s/it]\n",
      "Validate (3040 / 10 Steps): 100%|██████████| 22/22 [01:39<00:00,  4.51s/it]<00:16,  1.06s/it]\n",
      "Training (3100 / 18000 Steps) (loss=0.53753):  80%|████████  | 61/76 [02:52<07:48, 31.26s/it]"
     ]
    },
    {
     "name": "stdout",
     "output_type": "stream",
     "text": [
      "Model Was Saved ! Current Best Avg. Dice: 0.34437981247901917 Current Avg. Dice: 0.34437981247901917 Current Avg. tumor Dice: 0.37028488516807556 Current Avg. lymph Dice: 0.31376922130584717\n"
     ]
    },
    {
     "name": "stderr",
     "output_type": "stream",
     "text": [
      "Training (3115 / 18000 Steps) (loss=0.53841): 100%|██████████| 76/76 [03:08<00:00,  2.48s/it]\n",
      "Training (3191 / 18000 Steps) (loss=0.69824): 100%|██████████| 76/76 [01:27<00:00,  1.15s/it]\n",
      "Validate (3192 / 10 Steps): 100%|██████████| 22/22 [01:39<00:00,  4.52s/it]01:18,  1.15s/it]\n",
      "Training (3200 / 18000 Steps) (loss=0.63421):  12%|█▏        | 9/76 [01:55<36:38, 32.81s/it]"
     ]
    },
    {
     "name": "stdout",
     "output_type": "stream",
     "text": [
      "Model Was Saved ! Current Best Avg. Dice: 0.35070565342903137 Current Avg. Dice: 0.35070565342903137 Current Avg. tumor Dice: 0.37471625208854675 Current Avg. lymph Dice: 0.32710108160972595\n"
     ]
    },
    {
     "name": "stderr",
     "output_type": "stream",
     "text": [
      "Training (3267 / 18000 Steps) (loss=0.44711): 100%|██████████| 76/76 [03:09<00:00,  2.49s/it]\n",
      "Validate (3268 / 10 Steps): 100%|██████████| 22/22 [01:39<00:00,  4.54s/it]<00:47,  1.08s/it]\n",
      "Training (3300 / 18000 Steps) (loss=0.53938):  43%|████▎     | 33/76 [02:23<22:36, 31.55s/it]"
     ]
    },
    {
     "name": "stdout",
     "output_type": "stream",
     "text": [
      "Model Was Saved ! Current Best Avg. Dice: 0.3596950173377991 Current Avg. Dice: 0.3596950173377991 Current Avg. tumor Dice: 0.38691747188568115 Current Avg. lymph Dice: 0.3326675295829773\n"
     ]
    },
    {
     "name": "stderr",
     "output_type": "stream",
     "text": [
      "Training (3343 / 18000 Steps) (loss=0.68160): 100%|██████████| 76/76 [03:10<00:00,  2.50s/it]\n",
      "Validate (3344 / 10 Steps): 100%|██████████| 22/22 [01:39<00:00,  4.52s/it]<00:21,  1.05s/it]\n",
      "Training (3400 / 18000 Steps) (loss=0.59694):  75%|███████▌  | 57/76 [02:46<09:53, 31.26s/it]"
     ]
    },
    {
     "name": "stdout",
     "output_type": "stream",
     "text": [
      "Model Was Saved ! Current Best Avg. Dice: 0.37640050053596497 Current Avg. Dice: 0.37640050053596497 Current Avg. tumor Dice: 0.4049084186553955 Current Avg. lymph Dice: 0.3384208679199219\n"
     ]
    },
    {
     "name": "stderr",
     "output_type": "stream",
     "text": [
      "Training (3419 / 18000 Steps) (loss=0.60567): 100%|██████████| 76/76 [03:07<00:00,  2.46s/it]\n",
      "Training (3495 / 18000 Steps) (loss=0.48265): 100%|██████████| 76/76 [01:26<00:00,  1.14s/it]\n",
      "Validate (3496 / 10 Steps): 100%|██████████| 22/22 [01:39<00:00,  4.52s/it]02:04,  1.73s/it]\n",
      "Training (3500 / 18000 Steps) (loss=0.61715):   7%|▋         | 5/76 [01:49<44:14, 37.39s/it]"
     ]
    },
    {
     "name": "stdout",
     "output_type": "stream",
     "text": [
      "Model Was Not Saved ! Current Best Avg. Dice: 0.37640050053596497 Current Avg. Dice: 0.3694225549697876 Current Avg. tumor Dice: 0.3944137692451477 Current Avg. lymph Dice: 0.3387424945831299\n"
     ]
    },
    {
     "name": "stderr",
     "output_type": "stream",
     "text": [
      "Training (3571 / 18000 Steps) (loss=0.66911): 100%|██████████| 76/76 [03:06<00:00,  2.45s/it]\n",
      "Validate (3572 / 10 Steps): 100%|██████████| 22/22 [01:39<00:00,  4.52s/it]<00:50,  1.05s/it]\n",
      "Training (3600 / 18000 Steps) (loss=0.62466):  38%|███▊      | 29/76 [02:17<24:32, 31.33s/it]"
     ]
    },
    {
     "name": "stdout",
     "output_type": "stream",
     "text": [
      "Model Was Saved ! Current Best Avg. Dice: 0.37834131717681885 Current Avg. Dice: 0.37834131717681885 Current Avg. tumor Dice: 0.40923237800598145 Current Avg. lymph Dice: 0.3400193750858307\n"
     ]
    },
    {
     "name": "stderr",
     "output_type": "stream",
     "text": [
      "Training (3647 / 18000 Steps) (loss=0.60252): 100%|██████████| 76/76 [03:07<00:00,  2.47s/it]\n",
      "Validate (3648 / 10 Steps): 100%|██████████| 22/22 [01:39<00:00,  4.53s/it]<00:26,  1.11s/it]\n",
      "Training (3700 / 18000 Steps) (loss=0.61823):  70%|██████▉   | 53/76 [02:41<11:53, 31.01s/it]"
     ]
    },
    {
     "name": "stdout",
     "output_type": "stream",
     "text": [
      "Model Was Not Saved ! Current Best Avg. Dice: 0.37834131717681885 Current Avg. Dice: 0.3775635063648224 Current Avg. tumor Dice: 0.4031006097793579 Current Avg. lymph Dice: 0.3447073698043823\n"
     ]
    },
    {
     "name": "stderr",
     "output_type": "stream",
     "text": [
      "Training (3723 / 18000 Steps) (loss=0.53928): 100%|██████████| 76/76 [03:06<00:00,  2.45s/it]\n",
      "Training (3799 / 18000 Steps) (loss=0.58916): 100%|██████████| 76/76 [01:26<00:00,  1.14s/it]\n",
      "Validate (3800 / 10 Steps): 100%|██████████| 22/22 [01:40<00:00,  4.55s/it]?, ?it/s]\n",
      "Training (3800 / 18000 Steps) (loss=0.50506):   1%|▏         | 1/76 [01:47<2:14:11, 107.35s/it]"
     ]
    },
    {
     "name": "stdout",
     "output_type": "stream",
     "text": [
      "Model Was Saved ! Current Best Avg. Dice: 0.3825254440307617 Current Avg. Dice: 0.3825254440307617 Current Avg. tumor Dice: 0.3977331817150116 Current Avg. lymph Dice: 0.3612940311431885\n"
     ]
    },
    {
     "name": "stderr",
     "output_type": "stream",
     "text": [
      "Training (3875 / 18000 Steps) (loss=0.50786): 100%|██████████| 76/76 [03:08<00:00,  2.48s/it]  \n",
      "Validate (3876 / 10 Steps): 100%|██████████| 22/22 [01:39<00:00,  4.54s/it]<00:57,  1.10s/it]\n",
      "Training (3900 / 18000 Steps) (loss=0.56222):  33%|███▎      | 25/76 [02:12<26:28, 31.15s/it]"
     ]
    },
    {
     "name": "stdout",
     "output_type": "stream",
     "text": [
      "Model Was Not Saved ! Current Best Avg. Dice: 0.3825254440307617 Current Avg. Dice: 0.37185707688331604 Current Avg. tumor Dice: 0.39809009432792664 Current Avg. lymph Dice: 0.33321812748908997\n"
     ]
    },
    {
     "name": "stderr",
     "output_type": "stream",
     "text": [
      "Training (3951 / 18000 Steps) (loss=0.58920): 100%|██████████| 76/76 [03:07<00:00,  2.47s/it]\n",
      "Validate (3952 / 10 Steps): 100%|██████████| 22/22 [01:39<00:00,  4.53s/it]<00:29,  1.05s/it]\n",
      "Training (4000 / 18000 Steps) (loss=0.53453):  64%|██████▍   | 49/76 [02:38<14:06, 31.36s/it]"
     ]
    },
    {
     "name": "stdout",
     "output_type": "stream",
     "text": [
      "Model Was Saved ! Current Best Avg. Dice: 0.3916161358356476 Current Avg. Dice: 0.3916161358356476 Current Avg. tumor Dice: 0.42067980766296387 Current Avg. lymph Dice: 0.3609245717525482\n"
     ]
    },
    {
     "name": "stderr",
     "output_type": "stream",
     "text": [
      "Training (4027 / 18000 Steps) (loss=0.48530): 100%|██████████| 76/76 [03:07<00:00,  2.46s/it]\n",
      "Validate (4028 / 10 Steps): 100%|██████████| 22/22 [01:39<00:00,  4.52s/it]<00:04,  1.10s/it]\n",
      "Training (4100 / 18000 Steps) (loss=0.60446):  96%|█████████▌| 73/76 [03:03<01:32, 30.93s/it]"
     ]
    },
    {
     "name": "stdout",
     "output_type": "stream",
     "text": [
      "Model Was Not Saved ! Current Best Avg. Dice: 0.3916161358356476 Current Avg. Dice: 0.37997567653656006 Current Avg. tumor Dice: 0.4193851947784424 Current Avg. lymph Dice: 0.3186342418193817\n"
     ]
    },
    {
     "name": "stderr",
     "output_type": "stream",
     "text": [
      "Training (4103 / 18000 Steps) (loss=0.62959): 100%|██████████| 76/76 [03:06<00:00,  2.46s/it]\n",
      "Training (4179 / 18000 Steps) (loss=0.57297): 100%|██████████| 76/76 [01:26<00:00,  1.14s/it]\n",
      "Validate (4180 / 10 Steps): 100%|██████████| 22/22 [01:39<00:00,  4.51s/it]<01:00,  1.08s/it]\n",
      "Training (4200 / 18000 Steps) (loss=0.59573):  28%|██▊       | 21/76 [02:07<28:40, 31.29s/it]"
     ]
    },
    {
     "name": "stdout",
     "output_type": "stream",
     "text": [
      "Model Was Saved ! Current Best Avg. Dice: 0.3926505744457245 Current Avg. Dice: 0.3926505744457245 Current Avg. tumor Dice: 0.4177565276622772 Current Avg. lymph Dice: 0.3673825263977051\n"
     ]
    },
    {
     "name": "stderr",
     "output_type": "stream",
     "text": [
      "Training (4255 / 18000 Steps) (loss=0.49195): 100%|██████████| 76/76 [03:06<00:00,  2.46s/it]\n",
      "Validate (4256 / 10 Steps): 100%|██████████| 22/22 [01:39<00:00,  4.52s/it]<00:34,  1.07s/it]\n",
      "Training (4300 / 18000 Steps) (loss=0.52498):  59%|█████▉    | 45/76 [02:34<16:10, 31.32s/it]"
     ]
    },
    {
     "name": "stdout",
     "output_type": "stream",
     "text": [
      "Model Was Saved ! Current Best Avg. Dice: 0.39387112855911255 Current Avg. Dice: 0.39387112855911255 Current Avg. tumor Dice: 0.4152478575706482 Current Avg. lymph Dice: 0.37605634331703186\n"
     ]
    },
    {
     "name": "stderr",
     "output_type": "stream",
     "text": [
      "Training (4331 / 18000 Steps) (loss=0.59118): 100%|██████████| 76/76 [03:08<00:00,  2.47s/it]\n",
      "Validate (4332 / 10 Steps): 100%|██████████| 22/22 [03:19<00:00,  9.09s/it]<00:16,  2.06s/it]\n",
      "Training (4400 / 18000 Steps) (loss=0.67826):  91%|█████████ | 69/76 [05:05<07:17, 62.49s/it]"
     ]
    },
    {
     "name": "stdout",
     "output_type": "stream",
     "text": [
      "Model Was Saved ! Current Best Avg. Dice: 0.4013778865337372 Current Avg. Dice: 0.4013778865337372 Current Avg. tumor Dice: 0.42615580558776855 Current Avg. lymph Dice: 0.37458255887031555\n"
     ]
    },
    {
     "name": "stderr",
     "output_type": "stream",
     "text": [
      "Training (4407 / 18000 Steps) (loss=0.62963): 100%|██████████| 76/76 [05:20<00:00,  4.21s/it]\n",
      "Training (4483 / 18000 Steps) (loss=0.58053): 100%|██████████| 76/76 [02:41<00:00,  2.12s/it]\n",
      "Validate (4484 / 10 Steps): 100%|██████████| 22/22 [03:19<00:00,  9.08s/it]<02:01,  2.03s/it]\n",
      "Training (4500 / 18000 Steps) (loss=0.54682):  22%|██▏       | 17/76 [04:01<1:01:33, 62.60s/it]"
     ]
    },
    {
     "name": "stdout",
     "output_type": "stream",
     "text": [
      "Model Was Saved ! Current Best Avg. Dice: 0.40768492221832275 Current Avg. Dice: 0.40768492221832275 Current Avg. tumor Dice: 0.4315677285194397 Current Avg. lymph Dice: 0.3800933063030243\n"
     ]
    },
    {
     "name": "stderr",
     "output_type": "stream",
     "text": [
      "Training (4559 / 18000 Steps) (loss=0.68434): 100%|██████████| 76/76 [06:02<00:00,  4.77s/it]  \n",
      "Validate (4560 / 10 Steps): 100%|██████████| 22/22 [03:20<00:00,  9.10s/it]<01:12,  2.02s/it]\n",
      "Training (4600 / 18000 Steps) (loss=0.57291):  54%|█████▍    | 41/76 [04:49<36:17, 62.20s/it]"
     ]
    },
    {
     "name": "stdout",
     "output_type": "stream",
     "text": [
      "Model Was Not Saved ! Current Best Avg. Dice: 0.40768492221832275 Current Avg. Dice: 0.39300405979156494 Current Avg. tumor Dice: 0.4159260392189026 Current Avg. lymph Dice: 0.36952584981918335\n"
     ]
    },
    {
     "name": "stderr",
     "output_type": "stream",
     "text": [
      "Training (4635 / 18000 Steps) (loss=0.56953): 100%|██████████| 76/76 [06:01<00:00,  4.76s/it]\n",
      "Validate (4636 / 10 Steps): 100%|██████████| 22/22 [03:20<00:00,  9.10s/it]<00:24,  2.03s/it]\n",
      "Training (4700 / 18000 Steps) (loss=0.62115):  86%|████████▌ | 65/76 [05:41<11:28, 62.61s/it]"
     ]
    },
    {
     "name": "stdout",
     "output_type": "stream",
     "text": [
      "Model Was Saved ! Current Best Avg. Dice: 0.41004085540771484 Current Avg. Dice: 0.41004085540771484 Current Avg. tumor Dice: 0.43913349509239197 Current Avg. lymph Dice: 0.3733944892883301\n"
     ]
    },
    {
     "name": "stderr",
     "output_type": "stream",
     "text": [
      "Training (4711 / 18000 Steps) (loss=0.67536): 100%|██████████| 76/76 [06:04<00:00,  4.79s/it]\n",
      "Training (4787 / 18000 Steps) (loss=0.64650): 100%|██████████| 76/76 [02:43<00:00,  2.15s/it]\n",
      "Validate (4788 / 10 Steps): 100%|██████████| 22/22 [03:19<00:00,  9.09s/it]<02:16,  2.13s/it]\n",
      "Training (4800 / 18000 Steps) (loss=0.56483):  17%|█▋        | 13/76 [03:53<1:06:17, 63.14s/it]"
     ]
    },
    {
     "name": "stdout",
     "output_type": "stream",
     "text": [
      "Model Was Saved ! Current Best Avg. Dice: 0.41156256198883057 Current Avg. Dice: 0.41156256198883057 Current Avg. tumor Dice: 0.435577929019928 Current Avg. lymph Dice: 0.3839370608329773\n"
     ]
    },
    {
     "name": "stderr",
     "output_type": "stream",
     "text": [
      "Training (4863 / 18000 Steps) (loss=0.39389): 100%|██████████| 76/76 [06:04<00:00,  4.79s/it]  \n",
      "Validate (4864 / 10 Steps): 100%|██████████| 22/22 [03:19<00:00,  9.06s/it]<01:21,  2.05s/it]\n",
      "Training (4900 / 18000 Steps) (loss=0.50180):  49%|████▊     | 37/76 [04:41<40:12, 61.85s/it]"
     ]
    },
    {
     "name": "stdout",
     "output_type": "stream",
     "text": [
      "Model Was Not Saved ! Current Best Avg. Dice: 0.41156256198883057 Current Avg. Dice: 0.41030171513557434 Current Avg. tumor Dice: 0.44075489044189453 Current Avg. lymph Dice: 0.3778538703918457\n"
     ]
    },
    {
     "name": "stderr",
     "output_type": "stream",
     "text": [
      "Training (4939 / 18000 Steps) (loss=0.55886): 100%|██████████| 76/76 [06:02<00:00,  4.76s/it]\n",
      "Validate (4940 / 10 Steps): 100%|██████████| 22/22 [03:19<00:00,  9.06s/it]<00:33,  2.07s/it]\n",
      "Training (5000 / 18000 Steps) (loss=0.61441):  80%|████████  | 61/76 [05:31<15:33, 62.25s/it]"
     ]
    },
    {
     "name": "stdout",
     "output_type": "stream",
     "text": [
      "Model Was Saved ! Current Best Avg. Dice: 0.416401207447052 Current Avg. Dice: 0.416401207447052 Current Avg. tumor Dice: 0.4468846023082733 Current Avg. lymph Dice: 0.378930926322937\n"
     ]
    },
    {
     "name": "stderr",
     "output_type": "stream",
     "text": [
      "Training (5015 / 18000 Steps) (loss=0.62521): 100%|██████████| 76/76 [06:02<00:00,  4.77s/it]\n",
      "Training (5091 / 18000 Steps) (loss=0.55576): 100%|██████████| 76/76 [02:42<00:00,  2.14s/it]\n",
      "Validate (5092 / 10 Steps): 100%|██████████| 22/22 [03:19<00:00,  9.05s/it]02:29,  2.20s/it]\n",
      "Training (5100 / 18000 Steps) (loss=0.54568):  12%|█▏        | 9/76 [03:43<1:12:24, 64.84s/it]"
     ]
    },
    {
     "name": "stdout",
     "output_type": "stream",
     "text": [
      "Model Was Saved ! Current Best Avg. Dice: 0.4194847047328949 Current Avg. Dice: 0.4194847047328949 Current Avg. tumor Dice: 0.44470810890197754 Current Avg. lymph Dice: 0.3875923752784729\n"
     ]
    },
    {
     "name": "stderr",
     "output_type": "stream",
     "text": [
      "Training (5167 / 18000 Steps) (loss=0.48913): 100%|██████████| 76/76 [06:02<00:00,  4.77s/it] \n",
      "Validate (5168 / 10 Steps): 100%|██████████| 22/22 [03:19<00:00,  9.05s/it]<01:28,  2.02s/it]\n",
      "Training (5200 / 18000 Steps) (loss=0.60386):  43%|████▎     | 33/76 [04:32<44:21, 61.89s/it]"
     ]
    },
    {
     "name": "stdout",
     "output_type": "stream",
     "text": [
      "Model Was Not Saved ! Current Best Avg. Dice: 0.4194847047328949 Current Avg. Dice: 0.4166980981826782 Current Avg. tumor Dice: 0.4452120065689087 Current Avg. lymph Dice: 0.38180699944496155\n"
     ]
    },
    {
     "name": "stderr",
     "output_type": "stream",
     "text": [
      "Training (5243 / 18000 Steps) (loss=0.60654): 100%|██████████| 76/76 [06:00<00:00,  4.74s/it]\n",
      "Validate (5244 / 10 Steps): 100%|██████████| 22/22 [03:19<00:00,  9.05s/it]<00:40,  2.05s/it]\n",
      "Training (5300 / 18000 Steps) (loss=0.48290):  75%|███████▌  | 57/76 [05:21<19:35, 61.88s/it]"
     ]
    },
    {
     "name": "stdout",
     "output_type": "stream",
     "text": [
      "Model Was Not Saved ! Current Best Avg. Dice: 0.4194847047328949 Current Avg. Dice: 0.4069640338420868 Current Avg. tumor Dice: 0.4400801956653595 Current Avg. lymph Dice: 0.37659990787506104\n"
     ]
    },
    {
     "name": "stderr",
     "output_type": "stream",
     "text": [
      "Training (5319 / 18000 Steps) (loss=0.49802): 100%|██████████| 76/76 [06:01<00:00,  4.75s/it]\n",
      "Training (5395 / 18000 Steps) (loss=0.59536): 100%|██████████| 76/76 [02:44<00:00,  2.16s/it]\n",
      "Validate (5396 / 10 Steps): 100%|██████████| 22/22 [03:19<00:00,  9.07s/it]03:20,  2.78s/it]\n",
      "Training (5400 / 18000 Steps) (loss=0.53022):   7%|▋         | 5/76 [03:35<1:28:07, 74.48s/it]"
     ]
    },
    {
     "name": "stdout",
     "output_type": "stream",
     "text": [
      "Model Was Not Saved ! Current Best Avg. Dice: 0.4194847047328949 Current Avg. Dice: 0.41824036836624146 Current Avg. tumor Dice: 0.4479198455810547 Current Avg. lymph Dice: 0.38395991921424866\n"
     ]
    },
    {
     "name": "stderr",
     "output_type": "stream",
     "text": [
      "Training (5471 / 18000 Steps) (loss=0.61563): 100%|██████████| 76/76 [06:03<00:00,  4.78s/it] \n",
      "Validate (5472 / 10 Steps): 100%|██████████| 22/22 [03:19<00:00,  9.09s/it]<01:39,  2.07s/it]\n",
      "Training (5500 / 18000 Steps) (loss=0.60150):  38%|███▊      | 29/76 [04:25<48:36, 62.04s/it]"
     ]
    },
    {
     "name": "stdout",
     "output_type": "stream",
     "text": [
      "Model Was Not Saved ! Current Best Avg. Dice: 0.4194847047328949 Current Avg. Dice: 0.4088990390300751 Current Avg. tumor Dice: 0.4358940124511719 Current Avg. lymph Dice: 0.37998825311660767\n"
     ]
    },
    {
     "name": "stderr",
     "output_type": "stream",
     "text": [
      "Training (5547 / 18000 Steps) (loss=0.55110): 100%|██████████| 76/76 [06:03<00:00,  4.78s/it]\n",
      "Validate (5548 / 10 Steps): 100%|██████████| 22/22 [03:19<00:00,  9.09s/it]<00:51,  2.15s/it]\n",
      "Training (5600 / 18000 Steps) (loss=0.63515):  70%|██████▉   | 53/76 [05:18<23:59, 62.58s/it]"
     ]
    },
    {
     "name": "stdout",
     "output_type": "stream",
     "text": [
      "Model Was Saved ! Current Best Avg. Dice: 0.42620161175727844 Current Avg. Dice: 0.42620161175727844 Current Avg. tumor Dice: 0.4559907913208008 Current Avg. lymph Dice: 0.38963279128074646\n"
     ]
    },
    {
     "name": "stderr",
     "output_type": "stream",
     "text": [
      "Training (5623 / 18000 Steps) (loss=0.68055): 100%|██████████| 76/76 [06:06<00:00,  4.82s/it]\n",
      "Training (5699 / 18000 Steps) (loss=0.50484): 100%|██████████| 76/76 [02:43<00:00,  2.15s/it]\n",
      "Validate (5700 / 10 Steps): 100%|██████████| 22/22 [03:20<00:00,  9.11s/it]?, ?it/s]\n",
      "Training (5700 / 18000 Steps) (loss=0.57586):   1%|▏         | 1/76 [03:27<4:19:30, 207.61s/it]"
     ]
    },
    {
     "name": "stdout",
     "output_type": "stream",
     "text": [
      "Model Was Not Saved ! Current Best Avg. Dice: 0.42620161175727844 Current Avg. Dice: 0.4235389828681946 Current Avg. tumor Dice: 0.4527789056301117 Current Avg. lymph Dice: 0.3916536867618561\n"
     ]
    },
    {
     "name": "stderr",
     "output_type": "stream",
     "text": [
      "Training (5775 / 18000 Steps) (loss=0.59663): 100%|██████████| 76/76 [06:03<00:00,  4.78s/it]  \n",
      "Validate (5776 / 10 Steps): 100%|██████████| 22/22 [03:20<00:00,  9.09s/it]<01:47,  2.07s/it]\n",
      "Training (5800 / 18000 Steps) (loss=0.58255):  33%|███▎      | 25/76 [04:18<52:53, 62.22s/it]"
     ]
    },
    {
     "name": "stdout",
     "output_type": "stream",
     "text": [
      "Model Was Not Saved ! Current Best Avg. Dice: 0.42620161175727844 Current Avg. Dice: 0.4250864088535309 Current Avg. tumor Dice: 0.45102646946907043 Current Avg. lymph Dice: 0.3983548879623413\n"
     ]
    },
    {
     "name": "stderr",
     "output_type": "stream",
     "text": [
      "Training (5851 / 18000 Steps) (loss=0.46894): 100%|██████████| 76/76 [06:03<00:00,  4.79s/it]\n",
      "Validate (5852 / 10 Steps): 100%|██████████| 22/22 [03:19<00:00,  9.08s/it]<00:58,  2.07s/it]\n",
      "Training (5900 / 18000 Steps) (loss=0.53892):  64%|██████▍   | 49/76 [05:07<27:54, 62.01s/it]"
     ]
    },
    {
     "name": "stdout",
     "output_type": "stream",
     "text": [
      "Model Was Not Saved ! Current Best Avg. Dice: 0.42620161175727844 Current Avg. Dice: 0.42183104157447815 Current Avg. tumor Dice: 0.45187076926231384 Current Avg. lymph Dice: 0.3955000936985016\n"
     ]
    },
    {
     "name": "stderr",
     "output_type": "stream",
     "text": [
      "Training (5927 / 18000 Steps) (loss=0.56132): 100%|██████████| 76/76 [06:04<00:00,  4.79s/it]\n",
      "Validate (5928 / 10 Steps): 100%|██████████| 22/22 [03:19<00:00,  9.08s/it]<00:08,  2.04s/it]\n",
      "Training (6000 / 18000 Steps) (loss=0.59402):  96%|█████████▌| 73/76 [05:57<03:07, 62.49s/it]"
     ]
    },
    {
     "name": "stdout",
     "output_type": "stream",
     "text": [
      "Model Was Saved ! Current Best Avg. Dice: 0.43228504061698914 Current Avg. Dice: 0.43228504061698914 Current Avg. tumor Dice: 0.46703261137008667 Current Avg. lymph Dice: 0.39185941219329834\n"
     ]
    },
    {
     "name": "stderr",
     "output_type": "stream",
     "text": [
      "Training (6003 / 18000 Steps) (loss=0.48714): 100%|██████████| 76/76 [06:03<00:00,  4.78s/it]\n",
      "Training (6079 / 18000 Steps) (loss=0.53583): 100%|██████████| 76/76 [02:43<00:00,  2.15s/it]\n",
      "Validate (6080 / 10 Steps): 100%|██████████| 22/22 [03:19<00:00,  9.08s/it]<01:55,  2.06s/it]\n",
      "Training (6100 / 18000 Steps) (loss=0.62218):  28%|██▊       | 21/76 [04:08<56:51, 62.03s/it]"
     ]
    },
    {
     "name": "stdout",
     "output_type": "stream",
     "text": [
      "Model Was Not Saved ! Current Best Avg. Dice: 0.43228504061698914 Current Avg. Dice: 0.4294028580188751 Current Avg. tumor Dice: 0.45915162563323975 Current Avg. lymph Dice: 0.3968817889690399\n"
     ]
    },
    {
     "name": "stderr",
     "output_type": "stream",
     "text": [
      "Training (6155 / 18000 Steps) (loss=0.55510): 100%|██████████| 76/76 [06:03<00:00,  4.78s/it]\n",
      "Validate (6156 / 10 Steps): 100%|██████████| 22/22 [03:20<00:00,  9.09s/it]<01:07,  2.10s/it]\n",
      "Training (6200 / 18000 Steps) (loss=0.51339):  59%|█████▉    | 45/76 [04:59<32:05, 62.12s/it]"
     ]
    },
    {
     "name": "stdout",
     "output_type": "stream",
     "text": [
      "Model Was Not Saved ! Current Best Avg. Dice: 0.43228504061698914 Current Avg. Dice: 0.42991751432418823 Current Avg. tumor Dice: 0.46244293451309204 Current Avg. lymph Dice: 0.3884047865867615\n"
     ]
    },
    {
     "name": "stderr",
     "output_type": "stream",
     "text": [
      "Training (6231 / 18000 Steps) (loss=0.59961): 100%|██████████| 76/76 [06:04<00:00,  4.79s/it]\n",
      "Validate (6232 / 10 Steps): 100%|██████████| 22/22 [03:20<00:00,  9.11s/it]<00:17,  2.13s/it]\n",
      "Training (6300 / 18000 Steps) (loss=0.46343):  91%|█████████ | 69/76 [05:49<07:15, 62.26s/it]"
     ]
    },
    {
     "name": "stdout",
     "output_type": "stream",
     "text": [
      "Model Was Not Saved ! Current Best Avg. Dice: 0.43228504061698914 Current Avg. Dice: 0.4243437945842743 Current Avg. tumor Dice: 0.4540559649467468 Current Avg. lymph Dice: 0.3927004337310791\n"
     ]
    },
    {
     "name": "stderr",
     "output_type": "stream",
     "text": [
      "Training (6307 / 18000 Steps) (loss=0.56184): 100%|██████████| 76/76 [06:04<00:00,  4.79s/it]\n",
      "Training (6383 / 18000 Steps) (loss=0.50322): 100%|██████████| 76/76 [02:44<00:00,  2.16s/it]\n",
      "Validate (6384 / 10 Steps): 100%|██████████| 22/22 [03:20<00:00,  9.09s/it]<02:04,  2.08s/it]\n",
      "Training (6400 / 18000 Steps) (loss=0.51374):  22%|██▏       | 17/76 [04:02<1:01:38, 62.69s/it]"
     ]
    },
    {
     "name": "stdout",
     "output_type": "stream",
     "text": [
      "Model Was Saved ! Current Best Avg. Dice: 0.43615037202835083 Current Avg. Dice: 0.43615037202835083 Current Avg. tumor Dice: 0.46214139461517334 Current Avg. lymph Dice: 0.4047428071498871\n"
     ]
    },
    {
     "name": "stderr",
     "output_type": "stream",
     "text": [
      "Training (6459 / 18000 Steps) (loss=0.61176): 100%|██████████| 76/76 [06:05<00:00,  4.80s/it]  \n",
      "Validate (6460 / 10 Steps): 100%|██████████| 22/22 [03:20<00:00,  9.10s/it]<01:13,  2.05s/it]\n",
      "Training (6500 / 18000 Steps) (loss=0.53191):  54%|█████▍    | 41/76 [04:51<36:15, 62.17s/it]"
     ]
    },
    {
     "name": "stdout",
     "output_type": "stream",
     "text": [
      "Model Was Not Saved ! Current Best Avg. Dice: 0.43615037202835083 Current Avg. Dice: 0.42968234419822693 Current Avg. tumor Dice: 0.4615187346935272 Current Avg. lymph Dice: 0.3943313956260681\n"
     ]
    },
    {
     "name": "stderr",
     "output_type": "stream",
     "text": [
      "Training (6535 / 18000 Steps) (loss=0.57438): 100%|██████████| 76/76 [06:04<00:00,  4.79s/it]\n",
      "Validate (6536 / 10 Steps): 100%|██████████| 22/22 [03:20<00:00,  9.10s/it]<00:24,  2.04s/it]\n",
      "Training (6600 / 18000 Steps) (loss=0.54710):  86%|████████▌ | 65/76 [05:40<11:23, 62.12s/it]"
     ]
    },
    {
     "name": "stdout",
     "output_type": "stream",
     "text": [
      "Model Was Not Saved ! Current Best Avg. Dice: 0.43615037202835083 Current Avg. Dice: 0.4322417378425598 Current Avg. tumor Dice: 0.4597042500972748 Current Avg. lymph Dice: 0.4067223370075226\n"
     ]
    },
    {
     "name": "stderr",
     "output_type": "stream",
     "text": [
      "Training (6611 / 18000 Steps) (loss=0.46357): 100%|██████████| 76/76 [06:04<00:00,  4.79s/it]\n",
      "Training (6687 / 18000 Steps) (loss=0.60884): 100%|██████████| 76/76 [02:44<00:00,  2.16s/it]\n",
      "Validate (6688 / 10 Steps): 100%|██████████| 22/22 [03:19<00:00,  9.09s/it]<02:16,  2.13s/it]\n",
      "Training (6700 / 18000 Steps) (loss=0.56564):  17%|█▋        | 13/76 [03:52<1:05:49, 62.69s/it]"
     ]
    },
    {
     "name": "stdout",
     "output_type": "stream",
     "text": [
      "Model Was Not Saved ! Current Best Avg. Dice: 0.43615037202835083 Current Avg. Dice: 0.42920172214508057 Current Avg. tumor Dice: 0.45941412448883057 Current Avg. lymph Dice: 0.4036587178707123\n"
     ]
    },
    {
     "name": "stderr",
     "output_type": "stream",
     "text": [
      "Training (6763 / 18000 Steps) (loss=0.53494): 100%|██████████| 76/76 [06:05<00:00,  4.81s/it]  \n",
      "Validate (6764 / 10 Steps): 100%|██████████| 22/22 [03:19<00:00,  9.09s/it]<01:22,  2.07s/it]\n",
      "Training (6800 / 18000 Steps) (loss=0.56571):  49%|████▊     | 37/76 [04:42<40:20, 62.08s/it]"
     ]
    },
    {
     "name": "stdout",
     "output_type": "stream",
     "text": [
      "Model Was Not Saved ! Current Best Avg. Dice: 0.43615037202835083 Current Avg. Dice: 0.42309892177581787 Current Avg. tumor Dice: 0.44826212525367737 Current Avg. lymph Dice: 0.40871989727020264\n"
     ]
    },
    {
     "name": "stderr",
     "output_type": "stream",
     "text": [
      "Training (6839 / 18000 Steps) (loss=0.60451): 100%|██████████| 76/76 [06:04<00:00,  4.79s/it]\n",
      "Validate (6840 / 10 Steps): 100%|██████████| 22/22 [03:19<00:00,  9.07s/it]<00:33,  2.09s/it]\n",
      "Training (6900 / 18000 Steps) (loss=0.61768):  80%|████████  | 61/76 [05:34<15:36, 62.42s/it]"
     ]
    },
    {
     "name": "stdout",
     "output_type": "stream",
     "text": [
      "Model Was Saved ! Current Best Avg. Dice: 0.442038357257843 Current Avg. Dice: 0.442038357257843 Current Avg. tumor Dice: 0.47171419858932495 Current Avg. lymph Dice: 0.4116750955581665\n"
     ]
    },
    {
     "name": "stderr",
     "output_type": "stream",
     "text": [
      "Training (6915 / 18000 Steps) (loss=0.68964): 100%|██████████| 76/76 [06:05<00:00,  4.81s/it]\n",
      "Training (6991 / 18000 Steps) (loss=0.58678): 100%|██████████| 76/76 [02:44<00:00,  2.16s/it]\n",
      "Validate (6992 / 10 Steps): 100%|██████████| 22/22 [03:19<00:00,  9.08s/it]02:31,  2.23s/it]\n",
      "Training (7000 / 18000 Steps) (loss=0.59521):  12%|█▏        | 9/76 [03:44<1:12:19, 64.76s/it]"
     ]
    },
    {
     "name": "stdout",
     "output_type": "stream",
     "text": [
      "Model Was Not Saved ! Current Best Avg. Dice: 0.442038357257843 Current Avg. Dice: 0.43716976046562195 Current Avg. tumor Dice: 0.46782371401786804 Current Avg. lymph Dice: 0.40610265731811523\n"
     ]
    },
    {
     "name": "stderr",
     "output_type": "stream",
     "text": [
      "Training (7067 / 18000 Steps) (loss=0.50053): 100%|██████████| 76/76 [06:04<00:00,  4.80s/it] \n",
      "Validate (7068 / 10 Steps): 100%|██████████| 22/22 [03:20<00:00,  9.10s/it]<01:30,  2.06s/it]\n",
      "Training (7100 / 18000 Steps) (loss=0.58006):  43%|████▎     | 33/76 [04:34<44:35, 62.21s/it]"
     ]
    },
    {
     "name": "stdout",
     "output_type": "stream",
     "text": [
      "Model Was Not Saved ! Current Best Avg. Dice: 0.442038357257843 Current Avg. Dice: 0.4392651617527008 Current Avg. tumor Dice: 0.4658254086971283 Current Avg. lymph Dice: 0.4052693545818329\n"
     ]
    },
    {
     "name": "stderr",
     "output_type": "stream",
     "text": [
      "Training (7143 / 18000 Steps) (loss=0.57167): 100%|██████████| 76/76 [06:04<00:00,  4.80s/it]\n",
      "Validate (7144 / 10 Steps): 100%|██████████| 22/22 [03:22<00:00,  9.19s/it]<00:43,  2.15s/it]\n",
      "Training (7200 / 18000 Steps) (loss=0.39948):  75%|███████▌  | 57/76 [05:30<20:04, 63.37s/it]"
     ]
    },
    {
     "name": "stdout",
     "output_type": "stream",
     "text": [
      "Model Was Saved ! Current Best Avg. Dice: 0.44217923283576965 Current Avg. Dice: 0.44217923283576965 Current Avg. tumor Dice: 0.468977689743042 Current Avg. lymph Dice: 0.41128042340278625\n"
     ]
    },
    {
     "name": "stderr",
     "output_type": "stream",
     "text": [
      "Training (7219 / 18000 Steps) (loss=0.55521): 100%|██████████| 76/76 [06:11<00:00,  4.88s/it]\n",
      "Training (7295 / 18000 Steps) (loss=0.47685): 100%|██████████| 76/76 [02:52<00:00,  2.27s/it]\n",
      "Validate (7296 / 10 Steps): 100%|██████████| 22/22 [03:22<00:00,  9.21s/it]04:00,  3.34s/it]\n",
      "Training (7300 / 18000 Steps) (loss=0.52443):   7%|▋         | 5/76 [03:41<1:29:53, 75.96s/it]"
     ]
    },
    {
     "name": "stdout",
     "output_type": "stream",
     "text": [
      "Model Was Not Saved ! Current Best Avg. Dice: 0.44217923283576965 Current Avg. Dice: 0.4358925521373749 Current Avg. tumor Dice: 0.4645695984363556 Current Avg. lymph Dice: 0.40679439902305603\n"
     ]
    },
    {
     "name": "stderr",
     "output_type": "stream",
     "text": [
      "Training (7371 / 18000 Steps) (loss=0.52241): 100%|██████████| 76/76 [06:10<00:00,  4.88s/it] \n",
      "Validate (7372 / 10 Steps): 100%|██████████| 22/22 [03:20<00:00,  9.11s/it]<01:41,  2.10s/it]\n",
      "Training (7400 / 18000 Steps) (loss=0.50552):  38%|███▊      | 29/76 [04:28<49:05, 62.68s/it]"
     ]
    },
    {
     "name": "stdout",
     "output_type": "stream",
     "text": [
      "Model Was Saved ! Current Best Avg. Dice: 0.4428746998310089 Current Avg. Dice: 0.4428746998310089 Current Avg. tumor Dice: 0.4735659062862396 Current Avg. lymph Dice: 0.411465585231781\n"
     ]
    },
    {
     "name": "stderr",
     "output_type": "stream",
     "text": [
      "Training (7447 / 18000 Steps) (loss=0.55696): 100%|██████████| 76/76 [06:07<00:00,  4.83s/it]\n",
      "Validate (7448 / 10 Steps): 100%|██████████| 22/22 [03:19<00:00,  9.08s/it]<00:51,  2.13s/it]\n",
      "Training (7500 / 18000 Steps) (loss=0.48246):  70%|██████▉   | 53/76 [05:15<23:47, 62.07s/it]"
     ]
    },
    {
     "name": "stdout",
     "output_type": "stream",
     "text": [
      "Model Was Not Saved ! Current Best Avg. Dice: 0.4428746998310089 Current Avg. Dice: 0.42805832624435425 Current Avg. tumor Dice: 0.46015650033950806 Current Avg. lymph Dice: 0.39951393008232117\n"
     ]
    },
    {
     "name": "stderr",
     "output_type": "stream",
     "text": [
      "Training (7523 / 18000 Steps) (loss=0.57716): 100%|██████████| 76/76 [06:03<00:00,  4.79s/it]\n",
      "Training (7599 / 18000 Steps) (loss=0.62098): 100%|██████████| 76/76 [02:44<00:00,  2.16s/it]\n",
      "Validate (7600 / 10 Steps): 100%|██████████| 22/22 [03:19<00:00,  9.09s/it]?, ?it/s]\n",
      "Training (7600 / 18000 Steps) (loss=0.57570):   1%|▏         | 1/76 [03:28<4:20:05, 208.08s/it]"
     ]
    },
    {
     "name": "stdout",
     "output_type": "stream",
     "text": [
      "Model Was Not Saved ! Current Best Avg. Dice: 0.4428746998310089 Current Avg. Dice: 0.44010207056999207 Current Avg. tumor Dice: 0.4709605276584625 Current Avg. lymph Dice: 0.4107763469219208\n"
     ]
    },
    {
     "name": "stderr",
     "output_type": "stream",
     "text": [
      "Training (7675 / 18000 Steps) (loss=0.46117): 100%|██████████| 76/76 [06:06<00:00,  4.82s/it]  \n",
      "Validate (7676 / 10 Steps): 100%|██████████| 22/22 [03:20<00:00,  9.12s/it]<01:47,  2.07s/it]\n",
      "Training (7700 / 18000 Steps) (loss=0.52328):  33%|███▎      | 25/76 [04:19<53:01, 62.38s/it]"
     ]
    },
    {
     "name": "stdout",
     "output_type": "stream",
     "text": [
      "Model Was Not Saved ! Current Best Avg. Dice: 0.4428746998310089 Current Avg. Dice: 0.4392351806163788 Current Avg. tumor Dice: 0.4760749042034149 Current Avg. lymph Dice: 0.4013875722885132\n"
     ]
    },
    {
     "name": "stderr",
     "output_type": "stream",
     "text": [
      "Training (7751 / 18000 Steps) (loss=0.62356): 100%|██████████| 76/76 [06:06<00:00,  4.83s/it]\n",
      "Validate (7752 / 10 Steps): 100%|██████████| 22/22 [03:20<00:00,  9.09s/it]<00:58,  2.08s/it]\n",
      "Training (7800 / 18000 Steps) (loss=0.42194):  64%|██████▍   | 49/76 [05:09<28:00, 62.25s/it]"
     ]
    },
    {
     "name": "stdout",
     "output_type": "stream",
     "text": [
      "Model Was Not Saved ! Current Best Avg. Dice: 0.4428746998310089 Current Avg. Dice: 0.44028428196907043 Current Avg. tumor Dice: 0.47261956334114075 Current Avg. lymph Dice: 0.40802258253097534\n"
     ]
    },
    {
     "name": "stderr",
     "output_type": "stream",
     "text": [
      "Training (7827 / 18000 Steps) (loss=0.54156): 100%|██████████| 76/76 [06:05<00:00,  4.81s/it]\n",
      "Validate (7828 / 10 Steps): 100%|██████████| 22/22 [03:20<00:00,  9.11s/it]<00:08,  2.08s/it]\n",
      "Training (7900 / 18000 Steps) (loss=0.51848):  96%|█████████▌| 73/76 [06:00<03:08, 62.78s/it]"
     ]
    },
    {
     "name": "stdout",
     "output_type": "stream",
     "text": [
      "Model Was Saved ! Current Best Avg. Dice: 0.4459300935268402 Current Avg. Dice: 0.4459300935268402 Current Avg. tumor Dice: 0.4770439565181732 Current Avg. lymph Dice: 0.4094831049442291\n"
     ]
    },
    {
     "name": "stderr",
     "output_type": "stream",
     "text": [
      "Training (7903 / 18000 Steps) (loss=0.53536): 100%|██████████| 76/76 [06:07<00:00,  4.83s/it]\n",
      "Training (7979 / 18000 Steps) (loss=0.54848): 100%|██████████| 76/76 [02:44<00:00,  2.17s/it]\n",
      "Validate (7980 / 10 Steps): 100%|██████████| 22/22 [03:19<00:00,  9.08s/it]<01:56,  2.09s/it]\n",
      "Training (8000 / 18000 Steps) (loss=0.63258):  28%|██▊       | 21/76 [04:09<56:53, 62.06s/it]"
     ]
    },
    {
     "name": "stdout",
     "output_type": "stream",
     "text": [
      "Model Was Not Saved ! Current Best Avg. Dice: 0.4459300935268402 Current Avg. Dice: 0.4381316006183624 Current Avg. tumor Dice: 0.46859341859817505 Current Avg. lymph Dice: 0.41285258531570435\n"
     ]
    },
    {
     "name": "stderr",
     "output_type": "stream",
     "text": [
      "Training (8055 / 18000 Steps) (loss=0.50278): 100%|██████████| 76/76 [06:04<00:00,  4.80s/it]\n",
      "Validate (8056 / 10 Steps): 100%|██████████| 22/22 [03:20<00:00,  9.10s/it]<01:07,  2.12s/it]\n",
      "Training (8100 / 18000 Steps) (loss=0.55560):  59%|█████▉    | 45/76 [05:01<32:20, 62.60s/it]"
     ]
    },
    {
     "name": "stdout",
     "output_type": "stream",
     "text": [
      "Model Was Saved ! Current Best Avg. Dice: 0.4471369981765747 Current Avg. Dice: 0.4471369981765747 Current Avg. tumor Dice: 0.48496708273887634 Current Avg. lymph Dice: 0.40461915731430054\n"
     ]
    },
    {
     "name": "stderr",
     "output_type": "stream",
     "text": [
      "Training (8131 / 18000 Steps) (loss=0.59688): 100%|██████████| 76/76 [06:06<00:00,  4.82s/it]\n",
      "Validate (8132 / 10 Steps): 100%|██████████| 22/22 [03:19<00:00,  9.08s/it]<00:16,  2.07s/it]\n",
      "Training (8200 / 18000 Steps) (loss=0.58826):  91%|█████████ | 69/76 [05:50<07:13, 61.99s/it]"
     ]
    },
    {
     "name": "stdout",
     "output_type": "stream",
     "text": [
      "Model Was Not Saved ! Current Best Avg. Dice: 0.4471369981765747 Current Avg. Dice: 0.4418916702270508 Current Avg. tumor Dice: 0.4779369831085205 Current Avg. lymph Dice: 0.4032422602176666\n"
     ]
    },
    {
     "name": "stderr",
     "output_type": "stream",
     "text": [
      "Training (8207 / 18000 Steps) (loss=0.47017): 100%|██████████| 76/76 [06:05<00:00,  4.80s/it]\n",
      "Training (8283 / 18000 Steps) (loss=0.49342): 100%|██████████| 76/76 [02:45<00:00,  2.18s/it]\n",
      "Validate (8284 / 10 Steps): 100%|██████████| 22/22 [02:46<00:00,  7.58s/it]<02:03,  2.05s/it]\n",
      "Training (8300 / 18000 Steps) (loss=0.44238):  22%|██▏       | 17/76 [03:28<51:30, 52.38s/it]"
     ]
    },
    {
     "name": "stdout",
     "output_type": "stream",
     "text": [
      "Model Was Not Saved ! Current Best Avg. Dice: 0.4471369981765747 Current Avg. Dice: 0.43247273564338684 Current Avg. tumor Dice: 0.4683303236961365 Current Avg. lymph Dice: 0.3984576463699341\n"
     ]
    },
    {
     "name": "stderr",
     "output_type": "stream",
     "text": [
      "Training (8359 / 18000 Steps) (loss=0.53222): 100%|██████████| 76/76 [04:34<00:00,  3.61s/it]\n",
      "Validate (8360 / 10 Steps): 100%|██████████| 22/22 [01:39<00:00,  4.53s/it]<00:38,  1.08s/it]\n",
      "Training (8400 / 18000 Steps) (loss=0.51201):  54%|█████▍    | 41/76 [02:31<18:06, 31.06s/it]"
     ]
    },
    {
     "name": "stdout",
     "output_type": "stream",
     "text": [
      "Model Was Not Saved ! Current Best Avg. Dice: 0.4471369981765747 Current Avg. Dice: 0.4441452920436859 Current Avg. tumor Dice: 0.47831639647483826 Current Avg. lymph Dice: 0.41032055020332336\n"
     ]
    },
    {
     "name": "stderr",
     "output_type": "stream",
     "text": [
      "Training (8435 / 18000 Steps) (loss=0.52556): 100%|██████████| 76/76 [03:09<00:00,  2.50s/it]\n",
      "Validate (8436 / 10 Steps): 100%|██████████| 22/22 [01:39<00:00,  4.54s/it]<00:13,  1.10s/it]\n",
      "Training (8500 / 18000 Steps) (loss=0.62983):  86%|████████▌ | 65/76 [02:57<05:42, 31.17s/it]"
     ]
    },
    {
     "name": "stdout",
     "output_type": "stream",
     "text": [
      "Model Was Not Saved ! Current Best Avg. Dice: 0.4471369981765747 Current Avg. Dice: 0.44065648317337036 Current Avg. tumor Dice: 0.48023343086242676 Current Avg. lymph Dice: 0.39441585540771484\n"
     ]
    },
    {
     "name": "stderr",
     "output_type": "stream",
     "text": [
      "Training (8511 / 18000 Steps) (loss=0.48511): 100%|██████████| 76/76 [03:09<00:00,  2.49s/it]\n",
      "Training (8587 / 18000 Steps) (loss=0.49073): 100%|██████████| 76/76 [01:30<00:00,  1.19s/it]\n",
      "Validate (8588 / 10 Steps): 100%|██████████| 22/22 [01:39<00:00,  4.50s/it]<01:17,  1.20s/it]\n",
      "Training (8600 / 18000 Steps) (loss=0.51743):  17%|█▋        | 13/76 [01:59<32:45, 31.19s/it]"
     ]
    },
    {
     "name": "stdout",
     "output_type": "stream",
     "text": [
      "Model Was Not Saved ! Current Best Avg. Dice: 0.4471369981765747 Current Avg. Dice: 0.43962782621383667 Current Avg. tumor Dice: 0.47277170419692993 Current Avg. lymph Dice: 0.40813425183296204\n"
     ]
    },
    {
     "name": "stderr",
     "output_type": "stream",
     "text": [
      "Training (8663 / 18000 Steps) (loss=0.50184): 100%|██████████| 76/76 [03:09<00:00,  2.50s/it]\n",
      "Validate (8664 / 10 Steps): 100%|██████████| 22/22 [01:39<00:00,  4.52s/it]<00:42,  1.07s/it]\n",
      "Training (8700 / 18000 Steps) (loss=0.43257):  49%|████▊     | 37/76 [02:27<20:24, 31.40s/it]"
     ]
    },
    {
     "name": "stdout",
     "output_type": "stream",
     "text": [
      "Model Was Saved ! Current Best Avg. Dice: 0.45145848393440247 Current Avg. Dice: 0.45145848393440247 Current Avg. tumor Dice: 0.48349180817604065 Current Avg. lymph Dice: 0.41851961612701416\n"
     ]
    },
    {
     "name": "stderr",
     "output_type": "stream",
     "text": [
      "Training (8739 / 18000 Steps) (loss=0.47688): 100%|██████████| 76/76 [03:11<00:00,  2.52s/it]\n",
      "Validate (8740 / 10 Steps): 100%|██████████| 22/22 [01:39<00:00,  4.50s/it]<00:17,  1.07s/it]\n",
      "Training (8800 / 18000 Steps) (loss=0.59735):  80%|████████  | 61/76 [02:51<07:42, 30.82s/it]"
     ]
    },
    {
     "name": "stdout",
     "output_type": "stream",
     "text": [
      "Model Was Not Saved ! Current Best Avg. Dice: 0.45145848393440247 Current Avg. Dice: 0.4491410553455353 Current Avg. tumor Dice: 0.4798405170440674 Current Avg. lymph Dice: 0.4215116500854492\n"
     ]
    },
    {
     "name": "stderr",
     "output_type": "stream",
     "text": [
      "Training (8815 / 18000 Steps) (loss=0.55598): 100%|██████████| 76/76 [03:08<00:00,  2.48s/it]\n",
      "Training (8891 / 18000 Steps) (loss=0.58864): 100%|██████████| 76/76 [01:30<00:00,  1.20s/it]\n",
      "Validate (8892 / 10 Steps): 100%|██████████| 22/22 [01:38<00:00,  4.49s/it]01:24,  1.24s/it]\n",
      "Training (8900 / 18000 Steps) (loss=0.63462):  12%|█▏        | 9/76 [01:55<36:05, 32.32s/it]"
     ]
    },
    {
     "name": "stdout",
     "output_type": "stream",
     "text": [
      "Model Was Not Saved ! Current Best Avg. Dice: 0.45145848393440247 Current Avg. Dice: 0.4459596574306488 Current Avg. tumor Dice: 0.4822554886341095 Current Avg. lymph Dice: 0.4124718904495239\n"
     ]
    },
    {
     "name": "stderr",
     "output_type": "stream",
     "text": [
      "Training (8967 / 18000 Steps) (loss=0.36894): 100%|██████████| 76/76 [03:09<00:00,  2.49s/it]\n",
      "Validate (8968 / 10 Steps): 100%|██████████| 22/22 [01:39<00:00,  4.52s/it]<00:48,  1.11s/it]\n",
      "Training (9000 / 18000 Steps) (loss=0.41721):  43%|████▎     | 33/76 [02:24<22:37, 31.58s/it]"
     ]
    },
    {
     "name": "stdout",
     "output_type": "stream",
     "text": [
      "Model Was Saved ! Current Best Avg. Dice: 0.4546692967414856 Current Avg. Dice: 0.4546692967414856 Current Avg. tumor Dice: 0.4858812093734741 Current Avg. lymph Dice: 0.4243890047073364\n"
     ]
    },
    {
     "name": "stderr",
     "output_type": "stream",
     "text": [
      "Training (9043 / 18000 Steps) (loss=0.61921): 100%|██████████| 76/76 [03:12<00:00,  2.53s/it]\n",
      "Validate (9044 / 10 Steps): 100%|██████████| 22/22 [01:39<00:00,  4.51s/it]<00:21,  1.09s/it]\n",
      "Training (9100 / 18000 Steps) (loss=0.55680):  75%|███████▌  | 57/76 [02:48<09:47, 30.90s/it]"
     ]
    },
    {
     "name": "stdout",
     "output_type": "stream",
     "text": [
      "Model Was Not Saved ! Current Best Avg. Dice: 0.4546692967414856 Current Avg. Dice: 0.44962331652641296 Current Avg. tumor Dice: 0.48630523681640625 Current Avg. lymph Dice: 0.4113180935382843\n"
     ]
    },
    {
     "name": "stderr",
     "output_type": "stream",
     "text": [
      "Training (9119 / 18000 Steps) (loss=0.40311): 100%|██████████| 76/76 [03:09<00:00,  2.49s/it]\n",
      "Training (9195 / 18000 Steps) (loss=0.44660): 100%|██████████| 76/76 [01:30<00:00,  1.19s/it]\n",
      "Validate (9196 / 10 Steps): 100%|██████████| 22/22 [01:39<00:00,  4.52s/it]02:13,  1.85s/it]\n",
      "Training (9200 / 18000 Steps) (loss=0.52337):   7%|▋         | 5/76 [01:52<45:03, 38.08s/it]"
     ]
    },
    {
     "name": "stdout",
     "output_type": "stream",
     "text": [
      "Model Was Saved ! Current Best Avg. Dice: 0.4548255205154419 Current Avg. Dice: 0.4548255205154419 Current Avg. tumor Dice: 0.48696810007095337 Current Avg. lymph Dice: 0.4223089814186096\n"
     ]
    },
    {
     "name": "stderr",
     "output_type": "stream",
     "text": [
      "Training (9271 / 18000 Steps) (loss=0.44052): 100%|██████████| 76/76 [03:11<00:00,  2.52s/it]\n",
      "Validate (9272 / 10 Steps): 100%|██████████| 22/22 [01:39<00:00,  4.50s/it]<00:52,  1.10s/it]\n",
      "Training (9300 / 18000 Steps) (loss=0.50944):  38%|███▊      | 29/76 [02:18<24:30, 31.29s/it]"
     ]
    },
    {
     "name": "stdout",
     "output_type": "stream",
     "text": [
      "Model Was Saved ! Current Best Avg. Dice: 0.4569544792175293 Current Avg. Dice: 0.4569544792175293 Current Avg. tumor Dice: 0.4950230121612549 Current Avg. lymph Dice: 0.41441774368286133\n"
     ]
    },
    {
     "name": "stderr",
     "output_type": "stream",
     "text": [
      "Training (9347 / 18000 Steps) (loss=0.36335): 100%|██████████| 76/76 [03:10<00:00,  2.51s/it]\n",
      "Validate (9348 / 10 Steps): 100%|██████████| 22/22 [01:39<00:00,  4.50s/it]<00:26,  1.09s/it]\n",
      "Training (9400 / 18000 Steps) (loss=0.57674):  70%|██████▉   | 53/76 [02:44<11:49, 30.86s/it]"
     ]
    },
    {
     "name": "stdout",
     "output_type": "stream",
     "text": [
      "Model Was Not Saved ! Current Best Avg. Dice: 0.4569544792175293 Current Avg. Dice: 0.45212677121162415 Current Avg. tumor Dice: 0.48714011907577515 Current Avg. lymph Dice: 0.41787031292915344\n"
     ]
    },
    {
     "name": "stderr",
     "output_type": "stream",
     "text": [
      "Training (9423 / 18000 Steps) (loss=0.55981): 100%|██████████| 76/76 [03:09<00:00,  2.50s/it]\n",
      "Training (9499 / 18000 Steps) (loss=0.47700): 100%|██████████| 76/76 [01:30<00:00,  1.19s/it]\n",
      "Validate (9500 / 10 Steps): 100%|██████████| 22/22 [01:39<00:00,  4.52s/it]?, ?it/s]\n",
      "Training (9500 / 18000 Steps) (loss=0.58000):   1%|▏         | 1/76 [01:46<2:13:16, 106.62s/it]"
     ]
    },
    {
     "name": "stdout",
     "output_type": "stream",
     "text": [
      "Model Was Not Saved ! Current Best Avg. Dice: 0.4569544792175293 Current Avg. Dice: 0.4503099322319031 Current Avg. tumor Dice: 0.48561882972717285 Current Avg. lymph Dice: 0.4161943197250366\n"
     ]
    },
    {
     "name": "stderr",
     "output_type": "stream",
     "text": [
      "Training (9575 / 18000 Steps) (loss=0.57376): 100%|██████████| 76/76 [03:08<00:00,  2.47s/it]  \n",
      "Validate (9576 / 10 Steps): 100%|██████████| 22/22 [01:39<00:00,  4.52s/it]<00:56,  1.08s/it]\n",
      "Training (9600 / 18000 Steps) (loss=0.55263):  33%|███▎      | 25/76 [02:13<26:42, 31.42s/it]"
     ]
    },
    {
     "name": "stdout",
     "output_type": "stream",
     "text": [
      "Model Was Saved ! Current Best Avg. Dice: 0.46179553866386414 Current Avg. Dice: 0.46179553866386414 Current Avg. tumor Dice: 0.4968787729740143 Current Avg. lymph Dice: 0.4279921054840088\n"
     ]
    },
    {
     "name": "stderr",
     "output_type": "stream",
     "text": [
      "Training (9651 / 18000 Steps) (loss=0.46930): 100%|██████████| 76/76 [03:09<00:00,  2.49s/it]\n",
      "Validate (9652 / 10 Steps): 100%|██████████| 22/22 [01:39<00:00,  4.51s/it]<00:30,  1.10s/it]\n",
      "Training (9700 / 18000 Steps) (loss=0.41683):  64%|██████▍   | 49/76 [02:38<13:54, 30.92s/it]"
     ]
    },
    {
     "name": "stdout",
     "output_type": "stream",
     "text": [
      "Model Was Not Saved ! Current Best Avg. Dice: 0.46179553866386414 Current Avg. Dice: 0.46152010560035706 Current Avg. tumor Dice: 0.49560704827308655 Current Avg. lymph Dice: 0.4259146451950073\n"
     ]
    },
    {
     "name": "stderr",
     "output_type": "stream",
     "text": [
      "Training (9727 / 18000 Steps) (loss=0.48055): 100%|██████████| 76/76 [03:07<00:00,  2.47s/it]\n",
      "Validate (9728 / 10 Steps): 100%|██████████| 22/22 [01:38<00:00,  4.50s/it]<00:04,  1.09s/it]\n",
      "Training (9800 / 18000 Steps) (loss=0.42545):  96%|█████████▌| 73/76 [03:05<01:32, 30.78s/it]"
     ]
    },
    {
     "name": "stdout",
     "output_type": "stream",
     "text": [
      "Model Was Not Saved ! Current Best Avg. Dice: 0.46179553866386414 Current Avg. Dice: 0.4572615921497345 Current Avg. tumor Dice: 0.48522132635116577 Current Avg. lymph Dice: 0.43317899107933044\n"
     ]
    },
    {
     "name": "stderr",
     "output_type": "stream",
     "text": [
      "Training (9803 / 18000 Steps) (loss=0.62614): 100%|██████████| 76/76 [03:08<00:00,  2.49s/it]\n",
      "Training (9879 / 18000 Steps) (loss=0.55403): 100%|██████████| 76/76 [01:29<00:00,  1.18s/it]\n",
      "Validate (9880 / 10 Steps): 100%|██████████| 22/22 [01:39<00:00,  4.52s/it]<01:03,  1.14s/it]\n",
      "Training (9900 / 18000 Steps) (loss=0.54675):  28%|██▊       | 21/76 [02:08<28:23, 30.98s/it]"
     ]
    },
    {
     "name": "stdout",
     "output_type": "stream",
     "text": [
      "Model Was Not Saved ! Current Best Avg. Dice: 0.46179553866386414 Current Avg. Dice: 0.4590873420238495 Current Avg. tumor Dice: 0.49219441413879395 Current Avg. lymph Dice: 0.4239238500595093\n"
     ]
    },
    {
     "name": "stderr",
     "output_type": "stream",
     "text": [
      "Training (9955 / 18000 Steps) (loss=0.42977): 100%|██████████| 76/76 [03:10<00:00,  2.50s/it]\n",
      "Validate (9956 / 10 Steps): 100%|██████████| 22/22 [01:39<00:00,  4.51s/it]6<00:35,  1.11s/it]\n",
      "Training (10000 / 18000 Steps) (loss=0.42583):  59%|█████▉    | 45/76 [02:35<15:57, 30.88s/it]"
     ]
    },
    {
     "name": "stdout",
     "output_type": "stream",
     "text": [
      "Model Was Not Saved ! Current Best Avg. Dice: 0.46179553866386414 Current Avg. Dice: 0.4502909481525421 Current Avg. tumor Dice: 0.48407745361328125 Current Avg. lymph Dice: 0.4179338216781616\n"
     ]
    },
    {
     "name": "stderr",
     "output_type": "stream",
     "text": [
      "Training (10031 / 18000 Steps) (loss=0.43305): 100%|██████████| 76/76 [03:10<00:00,  2.50s/it]\n",
      "Validate (10032 / 10 Steps): 100%|██████████| 22/22 [01:39<00:00,  4.54s/it]<00:08,  1.08s/it]\n",
      "Training (10100 / 18000 Steps) (loss=0.50292):  91%|█████████ | 69/76 [03:01<03:37, 31.09s/it]"
     ]
    },
    {
     "name": "stdout",
     "output_type": "stream",
     "text": [
      "Model Was Not Saved ! Current Best Avg. Dice: 0.46179553866386414 Current Avg. Dice: 0.4603971540927887 Current Avg. tumor Dice: 0.49421051144599915 Current Avg. lymph Dice: 0.42866918444633484\n"
     ]
    },
    {
     "name": "stderr",
     "output_type": "stream",
     "text": [
      "Training (10107 / 18000 Steps) (loss=0.54475): 100%|██████████| 76/76 [03:09<00:00,  2.50s/it]\n",
      "Training (10183 / 18000 Steps) (loss=0.57242): 100%|██████████| 76/76 [01:30<00:00,  1.19s/it]\n",
      "Validate (10184 / 10 Steps): 100%|██████████| 22/22 [01:39<00:00,  4.51s/it]<01:05,  1.09s/it]\n",
      "Training (10200 / 18000 Steps) (loss=0.57756):  22%|██▏       | 17/76 [02:04<30:26, 30.96s/it]"
     ]
    },
    {
     "name": "stdout",
     "output_type": "stream",
     "text": [
      "Model Was Not Saved ! Current Best Avg. Dice: 0.46179553866386414 Current Avg. Dice: 0.46081483364105225 Current Avg. tumor Dice: 0.4932531714439392 Current Avg. lymph Dice: 0.429464191198349\n"
     ]
    },
    {
     "name": "stderr",
     "output_type": "stream",
     "text": [
      "Training (10259 / 18000 Steps) (loss=0.59181): 100%|██████████| 76/76 [03:10<00:00,  2.50s/it]\n",
      "Validate (10260 / 10 Steps): 100%|██████████| 22/22 [01:39<00:00,  4.53s/it]<00:40,  1.12s/it]\n",
      "Training (10300 / 18000 Steps) (loss=0.53791):  54%|█████▍    | 41/76 [02:30<18:06, 31.03s/it]"
     ]
    },
    {
     "name": "stdout",
     "output_type": "stream",
     "text": [
      "Model Was Not Saved ! Current Best Avg. Dice: 0.46179553866386414 Current Avg. Dice: 0.46166810393333435 Current Avg. tumor Dice: 0.5000758171081543 Current Avg. lymph Dice: 0.4201439619064331\n"
     ]
    },
    {
     "name": "stderr",
     "output_type": "stream",
     "text": [
      "Training (10335 / 18000 Steps) (loss=0.38926): 100%|██████████| 76/76 [03:09<00:00,  2.50s/it]\n",
      "Validate (10336 / 10 Steps): 100%|██████████| 22/22 [01:39<00:00,  4.52s/it]<00:12,  1.08s/it]\n",
      "Training (10400 / 18000 Steps) (loss=0.52849):  86%|████████▌ | 65/76 [03:00<05:46, 31.51s/it]"
     ]
    },
    {
     "name": "stdout",
     "output_type": "stream",
     "text": [
      "Model Was Saved ! Current Best Avg. Dice: 0.46801164746284485 Current Avg. Dice: 0.46801164746284485 Current Avg. tumor Dice: 0.5051462054252625 Current Avg. lymph Dice: 0.43412649631500244\n"
     ]
    },
    {
     "name": "stderr",
     "output_type": "stream",
     "text": [
      "Training (10411 / 18000 Steps) (loss=0.38302): 100%|██████████| 76/76 [03:12<00:00,  2.53s/it]\n",
      "Training (10487 / 18000 Steps) (loss=0.49221): 100%|██████████| 76/76 [01:30<00:00,  1.19s/it]\n",
      "Validate (10488 / 10 Steps): 100%|██████████| 22/22 [01:39<00:00,  4.54s/it]<01:13,  1.14s/it]\n",
      "Training (10500 / 18000 Steps) (loss=0.58882):  17%|█▋        | 13/76 [02:00<32:59, 31.42s/it]"
     ]
    },
    {
     "name": "stdout",
     "output_type": "stream",
     "text": [
      "Model Was Not Saved ! Current Best Avg. Dice: 0.46801164746284485 Current Avg. Dice: 0.4635941684246063 Current Avg. tumor Dice: 0.5006756782531738 Current Avg. lymph Dice: 0.42233002185821533\n"
     ]
    },
    {
     "name": "stderr",
     "output_type": "stream",
     "text": [
      "Training (10563 / 18000 Steps) (loss=0.60025): 100%|██████████| 76/76 [03:10<00:00,  2.51s/it]\n",
      "Validate (10564 / 10 Steps): 100%|██████████| 22/22 [01:39<00:00,  4.54s/it]<00:45,  1.13s/it]\n",
      "Training (10600 / 18000 Steps) (loss=0.48647):  49%|████▊     | 37/76 [02:27<20:14, 31.14s/it]"
     ]
    },
    {
     "name": "stdout",
     "output_type": "stream",
     "text": [
      "Model Was Not Saved ! Current Best Avg. Dice: 0.46801164746284485 Current Avg. Dice: 0.4629698693752289 Current Avg. tumor Dice: 0.49973437190055847 Current Avg. lymph Dice: 0.4225766360759735\n"
     ]
    },
    {
     "name": "stderr",
     "output_type": "stream",
     "text": [
      "Training (10639 / 18000 Steps) (loss=0.64437): 100%|██████████| 76/76 [03:10<00:00,  2.51s/it]\n",
      "Validate (10640 / 10 Steps): 100%|██████████| 22/22 [01:39<00:00,  4.51s/it]<00:17,  1.09s/it]\n",
      "Training (10700 / 18000 Steps) (loss=0.57527):  80%|████████  | 61/76 [02:55<07:49, 31.32s/it]"
     ]
    },
    {
     "name": "stdout",
     "output_type": "stream",
     "text": [
      "Model Was Saved ! Current Best Avg. Dice: 0.47011229395866394 Current Avg. Dice: 0.47011229395866394 Current Avg. tumor Dice: 0.5050560832023621 Current Avg. lymph Dice: 0.43318992853164673\n"
     ]
    },
    {
     "name": "stderr",
     "output_type": "stream",
     "text": [
      "Training (10715 / 18000 Steps) (loss=0.59995): 100%|██████████| 76/76 [03:11<00:00,  2.53s/it]\n",
      "Training (10791 / 18000 Steps) (loss=0.51363): 100%|██████████| 76/76 [01:31<00:00,  1.20s/it]\n",
      "Validate (10792 / 10 Steps): 100%|██████████| 22/22 [01:38<00:00,  4.49s/it]01:24,  1.25s/it]\n",
      "Training (10800 / 18000 Steps) (loss=0.57754):  12%|█▏        | 9/76 [01:54<35:51, 32.10s/it]"
     ]
    },
    {
     "name": "stdout",
     "output_type": "stream",
     "text": [
      "Model Was Not Saved ! Current Best Avg. Dice: 0.47011229395866394 Current Avg. Dice: 0.4665038287639618 Current Avg. tumor Dice: 0.5027900338172913 Current Avg. lymph Dice: 0.43170464038848877\n"
     ]
    },
    {
     "name": "stderr",
     "output_type": "stream",
     "text": [
      "Training (10867 / 18000 Steps) (loss=0.54598): 100%|██████████| 76/76 [03:08<00:00,  2.47s/it]\n",
      "Validate (10868 / 10 Steps): 100%|██████████| 22/22 [01:39<00:00,  4.51s/it]<00:47,  1.07s/it]\n",
      "Training (10900 / 18000 Steps) (loss=0.53352):  43%|████▎     | 33/76 [02:20<22:07, 30.87s/it]"
     ]
    },
    {
     "name": "stdout",
     "output_type": "stream",
     "text": [
      "Model Was Not Saved ! Current Best Avg. Dice: 0.47011229395866394 Current Avg. Dice: 0.462677925825119 Current Avg. tumor Dice: 0.4990980923175812 Current Avg. lymph Dice: 0.4304085373878479\n"
     ]
    },
    {
     "name": "stderr",
     "output_type": "stream",
     "text": [
      "Training (10943 / 18000 Steps) (loss=0.35108): 100%|██████████| 76/76 [03:07<00:00,  2.47s/it]\n",
      "Validate (10944 / 10 Steps): 100%|██████████| 22/22 [01:39<00:00,  4.50s/it]<00:21,  1.09s/it]\n",
      "Training (11000 / 18000 Steps) (loss=0.63572):  75%|███████▌  | 57/76 [02:47<09:47, 30.90s/it]"
     ]
    },
    {
     "name": "stdout",
     "output_type": "stream",
     "text": [
      "Model Was Not Saved ! Current Best Avg. Dice: 0.47011229395866394 Current Avg. Dice: 0.4657283127307892 Current Avg. tumor Dice: 0.4989892840385437 Current Avg. lymph Dice: 0.43135395646095276\n"
     ]
    },
    {
     "name": "stderr",
     "output_type": "stream",
     "text": [
      "Training (11019 / 18000 Steps) (loss=0.53114): 100%|██████████| 76/76 [03:08<00:00,  2.48s/it]\n",
      "Training (11095 / 18000 Steps) (loss=0.43622): 100%|██████████| 76/76 [01:30<00:00,  1.19s/it]\n",
      "Validate (11096 / 10 Steps): 100%|██████████| 22/22 [01:39<00:00,  4.53s/it]02:09,  1.80s/it]\n",
      "Training (11100 / 18000 Steps) (loss=0.55717):   7%|▋         | 5/76 [01:50<44:25, 37.54s/it]"
     ]
    },
    {
     "name": "stdout",
     "output_type": "stream",
     "text": [
      "Model Was Not Saved ! Current Best Avg. Dice: 0.47011229395866394 Current Avg. Dice: 0.4693668484687805 Current Avg. tumor Dice: 0.5081042051315308 Current Avg. lymph Dice: 0.42791783809661865\n"
     ]
    },
    {
     "name": "stderr",
     "output_type": "stream",
     "text": [
      "Training (11171 / 18000 Steps) (loss=0.55391): 100%|██████████| 76/76 [03:09<00:00,  2.49s/it]\n",
      "Validate (11172 / 10 Steps): 100%|██████████| 22/22 [01:39<00:00,  4.50s/it]<00:53,  1.12s/it]\n",
      "Training (11200 / 18000 Steps) (loss=0.54171):  38%|███▊      | 29/76 [02:16<24:09, 30.84s/it]"
     ]
    },
    {
     "name": "stdout",
     "output_type": "stream",
     "text": [
      "Model Was Not Saved ! Current Best Avg. Dice: 0.47011229395866394 Current Avg. Dice: 0.45610055327415466 Current Avg. tumor Dice: 0.48659592866897583 Current Avg. lymph Dice: 0.4294605851173401\n"
     ]
    },
    {
     "name": "stderr",
     "output_type": "stream",
     "text": [
      "Training (11247 / 18000 Steps) (loss=0.53947): 100%|██████████| 76/76 [03:08<00:00,  2.48s/it]\n",
      "Validate (11248 / 10 Steps): 100%|██████████| 22/22 [01:39<00:00,  4.51s/it]<00:27,  1.16s/it]\n",
      "Training (11300 / 18000 Steps) (loss=0.55179):  70%|██████▉   | 53/76 [02:45<12:01, 31.38s/it]"
     ]
    },
    {
     "name": "stdout",
     "output_type": "stream",
     "text": [
      "Model Was Saved ! Current Best Avg. Dice: 0.47294101119041443 Current Avg. Dice: 0.47294101119041443 Current Avg. tumor Dice: 0.508886456489563 Current Avg. lymph Dice: 0.43462878465652466\n"
     ]
    },
    {
     "name": "stderr",
     "output_type": "stream",
     "text": [
      "Training (11323 / 18000 Steps) (loss=0.49664): 100%|██████████| 76/76 [03:10<00:00,  2.51s/it]\n",
      "Training (11399 / 18000 Steps) (loss=0.64773): 100%|██████████| 76/76 [01:28<00:00,  1.16s/it]\n",
      "Validate (11400 / 10 Steps): 100%|██████████| 22/22 [01:39<00:00,  4.52s/it]?, ?it/s]\n",
      "Training (11400 / 18000 Steps) (loss=0.45318):   1%|▏         | 1/76 [01:45<2:12:19, 105.86s/it]"
     ]
    },
    {
     "name": "stdout",
     "output_type": "stream",
     "text": [
      "Model Was Not Saved ! Current Best Avg. Dice: 0.47294101119041443 Current Avg. Dice: 0.46159985661506653 Current Avg. tumor Dice: 0.49502691626548767 Current Avg. lymph Dice: 0.43293464183807373\n"
     ]
    },
    {
     "name": "stderr",
     "output_type": "stream",
     "text": [
      "Training (11475 / 18000 Steps) (loss=0.55871): 100%|██████████| 76/76 [03:09<00:00,  2.49s/it]  \n",
      "Validate (11476 / 10 Steps): 100%|██████████| 22/22 [01:39<00:00,  4.50s/it]<00:56,  1.09s/it]\n",
      "Training (11500 / 18000 Steps) (loss=0.48546):  33%|███▎      | 25/76 [02:12<26:13, 30.85s/it]"
     ]
    },
    {
     "name": "stdout",
     "output_type": "stream",
     "text": [
      "Model Was Not Saved ! Current Best Avg. Dice: 0.47294101119041443 Current Avg. Dice: 0.4663802981376648 Current Avg. tumor Dice: 0.49849215149879456 Current Avg. lymph Dice: 0.4334898591041565\n"
     ]
    },
    {
     "name": "stderr",
     "output_type": "stream",
     "text": [
      "Training (11551 / 18000 Steps) (loss=0.53939): 100%|██████████| 76/76 [03:08<00:00,  2.48s/it]\n",
      "Validate (11552 / 10 Steps): 100%|██████████| 22/22 [01:39<00:00,  4.53s/it]<00:30,  1.09s/it]\n",
      "Training (11600 / 18000 Steps) (loss=0.52980):  64%|██████▍   | 49/76 [02:38<13:57, 31.01s/it]"
     ]
    },
    {
     "name": "stdout",
     "output_type": "stream",
     "text": [
      "Model Was Not Saved ! Current Best Avg. Dice: 0.47294101119041443 Current Avg. Dice: 0.46314287185668945 Current Avg. tumor Dice: 0.5002764463424683 Current Avg. lymph Dice: 0.42988282442092896\n"
     ]
    },
    {
     "name": "stderr",
     "output_type": "stream",
     "text": [
      "Training (11627 / 18000 Steps) (loss=0.39213): 100%|██████████| 76/76 [03:07<00:00,  2.47s/it]\n",
      "Validate (11628 / 10 Steps): 100%|██████████| 22/22 [01:39<00:00,  4.52s/it]<00:04,  1.08s/it]\n",
      "Training (11700 / 18000 Steps) (loss=0.54912):  96%|█████████▌| 73/76 [03:04<01:32, 30.91s/it]"
     ]
    },
    {
     "name": "stdout",
     "output_type": "stream",
     "text": [
      "Model Was Not Saved ! Current Best Avg. Dice: 0.47294101119041443 Current Avg. Dice: 0.4558548629283905 Current Avg. tumor Dice: 0.4898003041744232 Current Avg. lymph Dice: 0.4248407185077667\n"
     ]
    },
    {
     "name": "stderr",
     "output_type": "stream",
     "text": [
      "Training (11703 / 18000 Steps) (loss=0.47390): 100%|██████████| 76/76 [03:07<00:00,  2.47s/it]\n",
      "Training (11779 / 18000 Steps) (loss=0.55876): 100%|██████████| 76/76 [01:28<00:00,  1.17s/it]\n",
      "Validate (11780 / 10 Steps): 100%|██████████| 22/22 [01:39<00:00,  4.50s/it]<00:59,  1.06s/it]\n",
      "Training (11800 / 18000 Steps) (loss=0.63876):  28%|██▊       | 21/76 [02:07<28:14, 30.81s/it]"
     ]
    },
    {
     "name": "stdout",
     "output_type": "stream",
     "text": [
      "Model Was Not Saved ! Current Best Avg. Dice: 0.47294101119041443 Current Avg. Dice: 0.46290162205696106 Current Avg. tumor Dice: 0.4932343065738678 Current Avg. lymph Dice: 0.4341341257095337\n"
     ]
    },
    {
     "name": "stderr",
     "output_type": "stream",
     "text": [
      "Training (11855 / 18000 Steps) (loss=0.50877): 100%|██████████| 76/76 [03:08<00:00,  2.48s/it]\n",
      "Validate (11856 / 10 Steps): 100%|██████████| 22/22 [01:39<00:00,  4.51s/it]<00:35,  1.11s/it]\n",
      "Training (11900 / 18000 Steps) (loss=0.39979):  59%|█████▉    | 45/76 [02:34<15:57, 30.88s/it]"
     ]
    },
    {
     "name": "stdout",
     "output_type": "stream",
     "text": [
      "Model Was Not Saved ! Current Best Avg. Dice: 0.47294101119041443 Current Avg. Dice: 0.47033050656318665 Current Avg. tumor Dice: 0.511013388633728 Current Avg. lymph Dice: 0.42707109451293945\n"
     ]
    },
    {
     "name": "stderr",
     "output_type": "stream",
     "text": [
      "Training (11931 / 18000 Steps) (loss=0.62423): 100%|██████████| 76/76 [03:08<00:00,  2.48s/it]\n",
      "Validate (11932 / 10 Steps): 100%|██████████| 22/22 [01:39<00:00,  4.53s/it]<00:09,  1.13s/it]\n",
      "Training (12000 / 18000 Steps) (loss=0.53041):  91%|█████████ | 69/76 [03:00<03:36, 30.99s/it]"
     ]
    },
    {
     "name": "stdout",
     "output_type": "stream",
     "text": [
      "Model Was Not Saved ! Current Best Avg. Dice: 0.47294101119041443 Current Avg. Dice: 0.4585566818714142 Current Avg. tumor Dice: 0.49757084250450134 Current Avg. lymph Dice: 0.4191039204597473\n"
     ]
    },
    {
     "name": "stderr",
     "output_type": "stream",
     "text": [
      "Training (12007 / 18000 Steps) (loss=0.46054): 100%|██████████| 76/76 [03:08<00:00,  2.48s/it]\n",
      "Training (12083 / 18000 Steps) (loss=0.37918): 100%|██████████| 76/76 [01:29<00:00,  1.17s/it]\n",
      "Validate (12084 / 10 Steps): 100%|██████████| 22/22 [01:39<00:00,  4.51s/it]<01:03,  1.06s/it]\n",
      "Training (12100 / 18000 Steps) (loss=0.57013):  22%|██▏       | 17/76 [02:05<30:59, 31.52s/it]"
     ]
    },
    {
     "name": "stdout",
     "output_type": "stream",
     "text": [
      "Model Was Saved ! Current Best Avg. Dice: 0.4746823310852051 Current Avg. Dice: 0.4746823310852051 Current Avg. tumor Dice: 0.5103797316551208 Current Avg. lymph Dice: 0.43906405568122864\n"
     ]
    },
    {
     "name": "stderr",
     "output_type": "stream",
     "text": [
      "Training (12159 / 18000 Steps) (loss=0.46554): 100%|██████████| 76/76 [03:11<00:00,  2.52s/it]\n",
      "Validate (12160 / 10 Steps): 100%|██████████| 22/22 [01:38<00:00,  4.50s/it]<00:38,  1.07s/it]\n",
      "Training (12200 / 18000 Steps) (loss=0.57632):  54%|█████▍    | 41/76 [02:29<18:00, 30.86s/it]"
     ]
    },
    {
     "name": "stdout",
     "output_type": "stream",
     "text": [
      "Model Was Not Saved ! Current Best Avg. Dice: 0.4746823310852051 Current Avg. Dice: 0.47371014952659607 Current Avg. tumor Dice: 0.5122840404510498 Current Avg. lymph Dice: 0.43708330392837524\n"
     ]
    },
    {
     "name": "stderr",
     "output_type": "stream",
     "text": [
      "Training (12235 / 18000 Steps) (loss=0.50465): 100%|██████████| 76/76 [03:07<00:00,  2.46s/it]\n",
      "Validate (12236 / 10 Steps): 100%|██████████| 22/22 [01:39<00:00,  4.51s/it]<00:12,  1.05s/it]\n",
      "Training (12300 / 18000 Steps) (loss=0.61355):  86%|████████▌ | 65/76 [02:55<05:40, 30.93s/it]"
     ]
    },
    {
     "name": "stdout",
     "output_type": "stream",
     "text": [
      "Model Was Not Saved ! Current Best Avg. Dice: 0.4746823310852051 Current Avg. Dice: 0.46936747431755066 Current Avg. tumor Dice: 0.5124869346618652 Current Avg. lymph Dice: 0.4211958348751068\n"
     ]
    },
    {
     "name": "stderr",
     "output_type": "stream",
     "text": [
      "Training (12311 / 18000 Steps) (loss=0.52036): 100%|██████████| 76/76 [03:07<00:00,  2.46s/it]\n",
      "Training (12387 / 18000 Steps) (loss=0.56597): 100%|██████████| 76/76 [01:28<00:00,  1.16s/it]\n",
      "Validate (12388 / 10 Steps): 100%|██████████| 22/22 [01:39<00:00,  4.52s/it]<01:15,  1.18s/it]\n",
      "Training (12400 / 18000 Steps) (loss=0.61707):  17%|█▋        | 13/76 [01:58<32:48, 31.24s/it]"
     ]
    },
    {
     "name": "stdout",
     "output_type": "stream",
     "text": [
      "Model Was Not Saved ! Current Best Avg. Dice: 0.4746823310852051 Current Avg. Dice: 0.47263967990875244 Current Avg. tumor Dice: 0.5165574550628662 Current Avg. lymph Dice: 0.4265594482421875\n"
     ]
    },
    {
     "name": "stderr",
     "output_type": "stream",
     "text": [
      "Training (12463 / 18000 Steps) (loss=0.51934): 100%|██████████| 76/76 [03:06<00:00,  2.46s/it]\n",
      "Validate (12464 / 10 Steps): 100%|██████████| 22/22 [01:39<00:00,  4.52s/it]<00:44,  1.11s/it]\n",
      "Training (12500 / 18000 Steps) (loss=0.55458):  49%|████▊     | 37/76 [02:25<20:06, 30.94s/it]"
     ]
    },
    {
     "name": "stdout",
     "output_type": "stream",
     "text": [
      "Model Was Not Saved ! Current Best Avg. Dice: 0.4746823310852051 Current Avg. Dice: 0.471506804227829 Current Avg. tumor Dice: 0.5113280415534973 Current Avg. lymph Dice: 0.43023255467414856\n"
     ]
    },
    {
     "name": "stderr",
     "output_type": "stream",
     "text": [
      "Training (12539 / 18000 Steps) (loss=0.47488): 100%|██████████| 76/76 [03:07<00:00,  2.47s/it]\n",
      "Validate (12540 / 10 Steps): 100%|██████████| 22/22 [01:38<00:00,  4.50s/it]<00:17,  1.09s/it]\n",
      "Training (12600 / 18000 Steps) (loss=0.55087):  80%|████████  | 61/76 [02:50<07:41, 30.76s/it]"
     ]
    },
    {
     "name": "stdout",
     "output_type": "stream",
     "text": [
      "Model Was Not Saved ! Current Best Avg. Dice: 0.4746823310852051 Current Avg. Dice: 0.4724622070789337 Current Avg. tumor Dice: 0.5110909342765808 Current Avg. lymph Dice: 0.43133437633514404\n"
     ]
    },
    {
     "name": "stderr",
     "output_type": "stream",
     "text": [
      "Training (12615 / 18000 Steps) (loss=0.62195): 100%|██████████| 76/76 [03:06<00:00,  2.45s/it]\n",
      "Training (12691 / 18000 Steps) (loss=0.48076): 100%|██████████| 76/76 [01:27<00:00,  1.16s/it]\n",
      "Validate (12692 / 10 Steps): 100%|██████████| 22/22 [01:39<00:00,  4.50s/it]01:23,  1.24s/it]\n",
      "Training (12700 / 18000 Steps) (loss=0.44627):  12%|█▏        | 9/76 [01:56<36:42, 32.88s/it]"
     ]
    },
    {
     "name": "stdout",
     "output_type": "stream",
     "text": [
      "Model Was Saved ! Current Best Avg. Dice: 0.4782768189907074 Current Avg. Dice: 0.4782768189907074 Current Avg. tumor Dice: 0.5208359956741333 Current Avg. lymph Dice: 0.43341064453125\n"
     ]
    },
    {
     "name": "stderr",
     "output_type": "stream",
     "text": [
      "Training (12767 / 18000 Steps) (loss=0.62714): 100%|██████████| 76/76 [03:09<00:00,  2.50s/it]\n",
      "Validate (12768 / 10 Steps): 100%|██████████| 22/22 [01:38<00:00,  4.50s/it]<00:46,  1.05s/it]\n",
      "Training (12800 / 18000 Steps) (loss=0.55401):  43%|████▎     | 33/76 [02:19<22:03, 30.79s/it]"
     ]
    },
    {
     "name": "stdout",
     "output_type": "stream",
     "text": [
      "Model Was Not Saved ! Current Best Avg. Dice: 0.4782768189907074 Current Avg. Dice: 0.4698074460029602 Current Avg. tumor Dice: 0.5052226781845093 Current Avg. lymph Dice: 0.436708927154541\n"
     ]
    },
    {
     "name": "stderr",
     "output_type": "stream",
     "text": [
      "Training (12843 / 18000 Steps) (loss=0.43618): 100%|██████████| 76/76 [03:05<00:00,  2.45s/it]\n",
      "Validate (12844 / 10 Steps): 100%|██████████| 22/22 [01:39<00:00,  4.52s/it]<00:21,  1.07s/it]\n",
      "Training (12900 / 18000 Steps) (loss=0.60937):  75%|███████▌  | 57/76 [02:46<09:48, 30.96s/it]"
     ]
    },
    {
     "name": "stdout",
     "output_type": "stream",
     "text": [
      "Model Was Not Saved ! Current Best Avg. Dice: 0.4782768189907074 Current Avg. Dice: 0.45963218808174133 Current Avg. tumor Dice: 0.4893370270729065 Current Avg. lymph Dice: 0.4320744574069977\n"
     ]
    },
    {
     "name": "stderr",
     "output_type": "stream",
     "text": [
      "Training (12919 / 18000 Steps) (loss=0.40764): 100%|██████████| 76/76 [03:07<00:00,  2.47s/it]\n",
      "Training (12995 / 18000 Steps) (loss=0.67521): 100%|██████████| 76/76 [01:29<00:00,  1.17s/it]\n",
      "Validate (12996 / 10 Steps): 100%|██████████| 22/22 [01:39<00:00,  4.52s/it]02:06,  1.76s/it]\n",
      "Training (13000 / 18000 Steps) (loss=0.56790):   7%|▋         | 5/76 [01:49<44:14, 37.39s/it]"
     ]
    },
    {
     "name": "stdout",
     "output_type": "stream",
     "text": [
      "Model Was Not Saved ! Current Best Avg. Dice: 0.4782768189907074 Current Avg. Dice: 0.46417495608329773 Current Avg. tumor Dice: 0.5016452074050903 Current Avg. lymph Dice: 0.4236263036727905\n"
     ]
    },
    {
     "name": "stderr",
     "output_type": "stream",
     "text": [
      "Training (13071 / 18000 Steps) (loss=0.53463): 100%|██████████| 76/76 [03:07<00:00,  2.47s/it]\n",
      "Validate (13072 / 10 Steps): 100%|██████████| 22/22 [01:39<00:00,  4.53s/it]<00:52,  1.09s/it]\n",
      "Training (13100 / 18000 Steps) (loss=0.54276):  38%|███▊      | 29/76 [02:17<24:17, 31.02s/it]"
     ]
    },
    {
     "name": "stdout",
     "output_type": "stream",
     "text": [
      "Model Was Not Saved ! Current Best Avg. Dice: 0.4782768189907074 Current Avg. Dice: 0.470816969871521 Current Avg. tumor Dice: 0.5133002400398254 Current Avg. lymph Dice: 0.4290814995765686\n"
     ]
    },
    {
     "name": "stderr",
     "output_type": "stream",
     "text": [
      "Training (13147 / 18000 Steps) (loss=0.51206): 100%|██████████| 76/76 [03:08<00:00,  2.49s/it]\n",
      "Validate (13148 / 10 Steps): 100%|██████████| 22/22 [01:39<00:00,  4.52s/it]<00:26,  1.10s/it]\n",
      "Training (13200 / 18000 Steps) (loss=0.43486):  70%|██████▉   | 53/76 [02:41<11:52, 30.97s/it]"
     ]
    },
    {
     "name": "stdout",
     "output_type": "stream",
     "text": [
      "Model Was Not Saved ! Current Best Avg. Dice: 0.4782768189907074 Current Avg. Dice: 0.4711657762527466 Current Avg. tumor Dice: 0.5096219182014465 Current Avg. lymph Dice: 0.4344612658023834\n"
     ]
    },
    {
     "name": "stderr",
     "output_type": "stream",
     "text": [
      "Training (13223 / 18000 Steps) (loss=0.54248): 100%|██████████| 76/76 [03:06<00:00,  2.45s/it]\n",
      "Training (13299 / 18000 Steps) (loss=0.54245): 100%|██████████| 76/76 [01:27<00:00,  1.15s/it]\n",
      "Validate (13300 / 10 Steps): 100%|██████████| 22/22 [01:40<00:00,  4.55s/it]?, ?it/s]\n",
      "Training (13300 / 18000 Steps) (loss=0.46418):   1%|▏         | 1/76 [01:46<2:12:50, 106.28s/it]"
     ]
    },
    {
     "name": "stdout",
     "output_type": "stream",
     "text": [
      "Model Was Not Saved ! Current Best Avg. Dice: 0.4782768189907074 Current Avg. Dice: 0.47723549604415894 Current Avg. tumor Dice: 0.521155834197998 Current Avg. lymph Dice: 0.43120455741882324\n"
     ]
    },
    {
     "name": "stderr",
     "output_type": "stream",
     "text": [
      "Training (13375 / 18000 Steps) (loss=0.61766): 100%|██████████| 76/76 [03:07<00:00,  2.46s/it]  \n",
      "Validate (13376 / 10 Steps): 100%|██████████| 22/22 [01:39<00:00,  4.51s/it]<00:54,  1.05s/it]\n",
      "Training (13400 / 18000 Steps) (loss=0.59264):  33%|███▎      | 25/76 [02:10<26:13, 30.86s/it]"
     ]
    },
    {
     "name": "stdout",
     "output_type": "stream",
     "text": [
      "Model Was Not Saved ! Current Best Avg. Dice: 0.4782768189907074 Current Avg. Dice: 0.4781337082386017 Current Avg. tumor Dice: 0.5187128186225891 Current Avg. lymph Dice: 0.43844717741012573\n"
     ]
    },
    {
     "name": "stderr",
     "output_type": "stream",
     "text": [
      "Training (13451 / 18000 Steps) (loss=0.50691): 100%|██████████| 76/76 [03:05<00:00,  2.44s/it]\n",
      "Validate (13452 / 10 Steps): 100%|██████████| 22/22 [01:39<00:00,  4.53s/it]<00:29,  1.07s/it]\n",
      "Training (13500 / 18000 Steps) (loss=0.53824):  64%|██████▍   | 49/76 [02:39<14:09, 31.45s/it]"
     ]
    },
    {
     "name": "stdout",
     "output_type": "stream",
     "text": [
      "Model Was Saved ! Current Best Avg. Dice: 0.48096802830696106 Current Avg. Dice: 0.48096802830696106 Current Avg. tumor Dice: 0.5251092314720154 Current Avg. lymph Dice: 0.42890751361846924\n"
     ]
    },
    {
     "name": "stderr",
     "output_type": "stream",
     "text": [
      "Training (13527 / 18000 Steps) (loss=0.45820): 100%|██████████| 76/76 [03:08<00:00,  2.48s/it]\n",
      "Validate (13528 / 10 Steps): 100%|██████████| 22/22 [01:39<00:00,  4.53s/it]<00:04,  1.07s/it]\n",
      "Training (13600 / 18000 Steps) (loss=0.53118):  96%|█████████▌| 73/76 [03:06<01:34, 31.39s/it]"
     ]
    },
    {
     "name": "stdout",
     "output_type": "stream",
     "text": [
      "Model Was Saved ! Current Best Avg. Dice: 0.4827868640422821 Current Avg. Dice: 0.4827868640422821 Current Avg. tumor Dice: 0.5224873423576355 Current Avg. lymph Dice: 0.4436515271663666\n"
     ]
    },
    {
     "name": "stderr",
     "output_type": "stream",
     "text": [
      "Training (13603 / 18000 Steps) (loss=0.57422): 100%|██████████| 76/76 [03:09<00:00,  2.49s/it]\n",
      "Training (13679 / 18000 Steps) (loss=0.49530): 100%|██████████| 76/76 [01:27<00:00,  1.15s/it]\n",
      "Validate (13680 / 10 Steps): 100%|██████████| 22/22 [01:39<00:00,  4.50s/it]<01:02,  1.11s/it]\n",
      "Training (13700 / 18000 Steps) (loss=0.58314):  28%|██▊       | 21/76 [02:07<28:17, 30.86s/it]"
     ]
    },
    {
     "name": "stdout",
     "output_type": "stream",
     "text": [
      "Model Was Not Saved ! Current Best Avg. Dice: 0.4827868640422821 Current Avg. Dice: 0.46207600831985474 Current Avg. tumor Dice: 0.4986368417739868 Current Avg. lymph Dice: 0.4262489080429077\n"
     ]
    },
    {
     "name": "stderr",
     "output_type": "stream",
     "text": [
      "Training (13755 / 18000 Steps) (loss=0.54653): 100%|██████████| 76/76 [03:06<00:00,  2.46s/it]\n",
      "Validate (13756 / 10 Steps): 100%|██████████| 22/22 [01:39<00:00,  4.51s/it]<00:33,  1.04s/it]\n",
      "Training (13800 / 18000 Steps) (loss=0.53630):  59%|█████▉    | 45/76 [02:32<15:56, 30.87s/it]"
     ]
    },
    {
     "name": "stdout",
     "output_type": "stream",
     "text": [
      "Model Was Not Saved ! Current Best Avg. Dice: 0.4827868640422821 Current Avg. Dice: 0.4777378737926483 Current Avg. tumor Dice: 0.5157541036605835 Current Avg. lymph Dice: 0.43902432918548584\n"
     ]
    },
    {
     "name": "stderr",
     "output_type": "stream",
     "text": [
      "Training (13831 / 18000 Steps) (loss=0.51861): 100%|██████████| 76/76 [03:06<00:00,  2.46s/it]\n",
      "Validate (13832 / 10 Steps): 100%|██████████| 22/22 [01:39<00:00,  4.53s/it]<00:08,  1.05s/it]\n",
      "Training (13900 / 18000 Steps) (loss=0.51140):  91%|█████████ | 69/76 [03:00<03:39, 31.37s/it]"
     ]
    },
    {
     "name": "stdout",
     "output_type": "stream",
     "text": [
      "Model Was Saved ! Current Best Avg. Dice: 0.48655155301094055 Current Avg. Dice: 0.48655155301094055 Current Avg. tumor Dice: 0.5281410217285156 Current Avg. lymph Dice: 0.4416505992412567\n"
     ]
    },
    {
     "name": "stderr",
     "output_type": "stream",
     "text": [
      "Training (13907 / 18000 Steps) (loss=0.57090): 100%|██████████| 76/76 [03:07<00:00,  2.47s/it]\n",
      "Training (13983 / 18000 Steps) (loss=0.48334): 100%|██████████| 76/76 [01:27<00:00,  1.14s/it]\n",
      "Validate (13984 / 10 Steps): 100%|██████████| 22/22 [01:39<00:00,  4.51s/it]<01:02,  1.05s/it]\n",
      "Training (14000 / 18000 Steps) (loss=0.59604):  22%|██▏       | 17/76 [02:03<30:47, 31.32s/it]"
     ]
    },
    {
     "name": "stdout",
     "output_type": "stream",
     "text": [
      "Model Was Saved ! Current Best Avg. Dice: 0.4908796548843384 Current Avg. Dice: 0.4908796548843384 Current Avg. tumor Dice: 0.5322982668876648 Current Avg. lymph Dice: 0.44412171840667725\n"
     ]
    },
    {
     "name": "stderr",
     "output_type": "stream",
     "text": [
      "Training (14059 / 18000 Steps) (loss=0.54980): 100%|██████████| 76/76 [03:08<00:00,  2.48s/it]\n",
      "Validate (14060 / 10 Steps): 100%|██████████| 22/22 [01:39<00:00,  4.50s/it]<00:38,  1.07s/it]\n",
      "Training (14100 / 18000 Steps) (loss=0.57411):  54%|█████▍    | 41/76 [02:28<18:00, 30.87s/it]"
     ]
    },
    {
     "name": "stdout",
     "output_type": "stream",
     "text": [
      "Model Was Not Saved ! Current Best Avg. Dice: 0.4908796548843384 Current Avg. Dice: 0.4849000871181488 Current Avg. tumor Dice: 0.5235047936439514 Current Avg. lymph Dice: 0.4473746716976166\n"
     ]
    },
    {
     "name": "stderr",
     "output_type": "stream",
     "text": [
      "Training (14135 / 18000 Steps) (loss=0.33574): 100%|██████████| 76/76 [03:06<00:00,  2.45s/it]\n",
      "Validate (14136 / 10 Steps): 100%|██████████| 22/22 [01:38<00:00,  4.50s/it]<00:12,  1.08s/it]\n",
      "Training (14200 / 18000 Steps) (loss=0.54277):  86%|████████▌ | 65/76 [02:55<05:39, 30.82s/it]"
     ]
    },
    {
     "name": "stdout",
     "output_type": "stream",
     "text": [
      "Model Was Not Saved ! Current Best Avg. Dice: 0.4908796548843384 Current Avg. Dice: 0.4560460150241852 Current Avg. tumor Dice: 0.4966161251068115 Current Avg. lymph Dice: 0.4060327708721161\n"
     ]
    },
    {
     "name": "stderr",
     "output_type": "stream",
     "text": [
      "Training (14211 / 18000 Steps) (loss=0.60739): 100%|██████████| 76/76 [03:07<00:00,  2.47s/it]\n",
      "Training (14287 / 18000 Steps) (loss=0.56243): 100%|██████████| 76/76 [01:28<00:00,  1.17s/it]\n",
      "Validate (14288 / 10 Steps): 100%|██████████| 22/22 [01:39<00:00,  4.51s/it]<01:11,  1.12s/it]\n",
      "Training (14300 / 18000 Steps) (loss=0.56283):  17%|█▋        | 13/76 [01:58<32:42, 31.16s/it]"
     ]
    },
    {
     "name": "stdout",
     "output_type": "stream",
     "text": [
      "Model Was Not Saved ! Current Best Avg. Dice: 0.4908796548843384 Current Avg. Dice: 0.4810342788696289 Current Avg. tumor Dice: 0.5198011994361877 Current Avg. lymph Dice: 0.4422214925289154\n"
     ]
    },
    {
     "name": "stderr",
     "output_type": "stream",
     "text": [
      "Training (14363 / 18000 Steps) (loss=0.41029): 100%|██████████| 76/76 [03:07<00:00,  2.46s/it]\n",
      "Validate (14364 / 10 Steps): 100%|██████████| 22/22 [01:38<00:00,  4.50s/it]<00:48,  1.21s/it]\n",
      "Training (14400 / 18000 Steps) (loss=0.56099):  49%|████▊     | 37/76 [02:23<20:03, 30.87s/it]"
     ]
    },
    {
     "name": "stdout",
     "output_type": "stream",
     "text": [
      "Model Was Not Saved ! Current Best Avg. Dice: 0.4908796548843384 Current Avg. Dice: 0.4856179356575012 Current Avg. tumor Dice: 0.5293446779251099 Current Avg. lymph Dice: 0.4396349787712097\n"
     ]
    },
    {
     "name": "stderr",
     "output_type": "stream",
     "text": [
      "Training (14439 / 18000 Steps) (loss=0.52397): 100%|██████████| 76/76 [03:05<00:00,  2.44s/it]\n",
      "Validate (14440 / 10 Steps): 100%|██████████| 22/22 [01:39<00:00,  4.50s/it]<00:17,  1.09s/it]\n",
      "Training (14500 / 18000 Steps) (loss=0.44858):  80%|████████  | 61/76 [02:51<07:42, 30.81s/it]"
     ]
    },
    {
     "name": "stdout",
     "output_type": "stream",
     "text": [
      "Model Was Not Saved ! Current Best Avg. Dice: 0.4908796548843384 Current Avg. Dice: 0.47341281175613403 Current Avg. tumor Dice: 0.5113012790679932 Current Avg. lymph Dice: 0.4335562288761139\n"
     ]
    },
    {
     "name": "stderr",
     "output_type": "stream",
     "text": [
      "Training (14515 / 18000 Steps) (loss=0.48026): 100%|██████████| 76/76 [03:07<00:00,  2.47s/it]\n",
      "Training (14591 / 18000 Steps) (loss=0.55420): 100%|██████████| 76/76 [01:27<00:00,  1.15s/it]\n",
      "Validate (14592 / 10 Steps): 100%|██████████| 22/22 [01:38<00:00,  4.49s/it]01:17,  1.14s/it]\n",
      "Training (14600 / 18000 Steps) (loss=0.61182):  12%|█▏        | 9/76 [01:53<35:54, 32.16s/it]"
     ]
    },
    {
     "name": "stdout",
     "output_type": "stream",
     "text": [
      "Model Was Not Saved ! Current Best Avg. Dice: 0.4908796548843384 Current Avg. Dice: 0.4804069697856903 Current Avg. tumor Dice: 0.5230887532234192 Current Avg. lymph Dice: 0.4332353174686432\n"
     ]
    },
    {
     "name": "stderr",
     "output_type": "stream",
     "text": [
      "Training (14667 / 18000 Steps) (loss=0.56981): 100%|██████████| 76/76 [03:05<00:00,  2.44s/it]\n",
      "Validate (14668 / 10 Steps): 100%|██████████| 22/22 [01:39<00:00,  4.50s/it]<00:46,  1.06s/it]\n",
      "Training (14700 / 18000 Steps) (loss=0.61205):  43%|████▎     | 33/76 [02:19<22:07, 30.87s/it]"
     ]
    },
    {
     "name": "stdout",
     "output_type": "stream",
     "text": [
      "Model Was Not Saved ! Current Best Avg. Dice: 0.4908796548843384 Current Avg. Dice: 0.4798015356063843 Current Avg. tumor Dice: 0.5157889127731323 Current Avg. lymph Dice: 0.44763892889022827\n"
     ]
    },
    {
     "name": "stderr",
     "output_type": "stream",
     "text": [
      "Training (14743 / 18000 Steps) (loss=0.58488): 100%|██████████| 76/76 [03:06<00:00,  2.45s/it]\n",
      "Validate (14744 / 10 Steps): 100%|██████████| 22/22 [01:38<00:00,  4.50s/it]<00:20,  1.05s/it]\n",
      "Training (14800 / 18000 Steps) (loss=0.49048):  75%|███████▌  | 57/76 [02:45<09:45, 30.81s/it]"
     ]
    },
    {
     "name": "stdout",
     "output_type": "stream",
     "text": [
      "Model Was Not Saved ! Current Best Avg. Dice: 0.4908796548843384 Current Avg. Dice: 0.4837053120136261 Current Avg. tumor Dice: 0.5216274857521057 Current Avg. lymph Dice: 0.44545990228652954\n"
     ]
    },
    {
     "name": "stderr",
     "output_type": "stream",
     "text": [
      "Training (14819 / 18000 Steps) (loss=0.57623): 100%|██████████| 76/76 [03:05<00:00,  2.44s/it]\n",
      "Training (14895 / 18000 Steps) (loss=0.51806): 100%|██████████| 76/76 [01:28<00:00,  1.16s/it]\n",
      "Validate (14896 / 10 Steps): 100%|██████████| 22/22 [01:39<00:00,  4.51s/it]02:10,  1.81s/it]\n",
      "Training (14900 / 18000 Steps) (loss=0.53327):   7%|▋         | 5/76 [01:49<44:11, 37.34s/it]"
     ]
    },
    {
     "name": "stdout",
     "output_type": "stream",
     "text": [
      "Model Was Not Saved ! Current Best Avg. Dice: 0.4908796548843384 Current Avg. Dice: 0.4881647229194641 Current Avg. tumor Dice: 0.5260041952133179 Current Avg. lymph Dice: 0.44853320717811584\n"
     ]
    },
    {
     "name": "stderr",
     "output_type": "stream",
     "text": [
      "Training (14971 / 18000 Steps) (loss=0.55757): 100%|██████████| 76/76 [03:07<00:00,  2.46s/it]\n",
      "Validate (14972 / 10 Steps): 100%|██████████| 22/22 [01:40<00:00,  4.55s/it]<00:55,  1.15s/it]\n",
      "Training (15000 / 18000 Steps) (loss=0.44786):  38%|███▊      | 29/76 [02:16<24:24, 31.16s/it]"
     ]
    },
    {
     "name": "stdout",
     "output_type": "stream",
     "text": [
      "Model Was Not Saved ! Current Best Avg. Dice: 0.4908796548843384 Current Avg. Dice: 0.4667130708694458 Current Avg. tumor Dice: 0.49991458654403687 Current Avg. lymph Dice: 0.43193143606185913\n"
     ]
    },
    {
     "name": "stderr",
     "output_type": "stream",
     "text": [
      "Training (15047 / 18000 Steps) (loss=0.46229): 100%|██████████| 76/76 [03:08<00:00,  2.47s/it]\n",
      "Validate (15048 / 10 Steps): 100%|██████████| 22/22 [01:39<00:00,  4.52s/it]<00:26,  1.11s/it]\n",
      "Training (15100 / 18000 Steps) (loss=0.37470):  70%|██████▉   | 53/76 [02:42<11:51, 30.93s/it]"
     ]
    },
    {
     "name": "stdout",
     "output_type": "stream",
     "text": [
      "Model Was Not Saved ! Current Best Avg. Dice: 0.4908796548843384 Current Avg. Dice: 0.48539116978645325 Current Avg. tumor Dice: 0.5213209986686707 Current Avg. lymph Dice: 0.44846493005752563\n"
     ]
    },
    {
     "name": "stderr",
     "output_type": "stream",
     "text": [
      "Training (15123 / 18000 Steps) (loss=0.55270): 100%|██████████| 76/76 [03:07<00:00,  2.46s/it]\n",
      "Training (15199 / 18000 Steps) (loss=0.54226): 100%|██████████| 76/76 [01:27<00:00,  1.15s/it]\n",
      "Validate (15200 / 10 Steps): 100%|██████████| 22/22 [01:40<00:00,  4.55s/it]?, ?it/s]\n",
      "Training (15200 / 18000 Steps) (loss=0.55606):   1%|▏         | 1/76 [01:45<2:12:05, 105.68s/it]"
     ]
    },
    {
     "name": "stdout",
     "output_type": "stream",
     "text": [
      "Model Was Not Saved ! Current Best Avg. Dice: 0.4908796548843384 Current Avg. Dice: 0.4833992123603821 Current Avg. tumor Dice: 0.5255349278450012 Current Avg. lymph Dice: 0.44365808367729187\n"
     ]
    },
    {
     "name": "stderr",
     "output_type": "stream",
     "text": [
      "Training (15275 / 18000 Steps) (loss=0.55802): 100%|██████████| 76/76 [03:07<00:00,  2.47s/it]  \n",
      "Validate (15276 / 10 Steps): 100%|██████████| 22/22 [01:39<00:00,  4.53s/it]<00:56,  1.08s/it]\n",
      "Training (15300 / 18000 Steps) (loss=0.45704):  33%|███▎      | 25/76 [02:12<26:26, 31.10s/it]"
     ]
    },
    {
     "name": "stdout",
     "output_type": "stream",
     "text": [
      "Model Was Not Saved ! Current Best Avg. Dice: 0.4908796548843384 Current Avg. Dice: 0.4842253625392914 Current Avg. tumor Dice: 0.5253303050994873 Current Avg. lymph Dice: 0.44526004791259766\n"
     ]
    },
    {
     "name": "stderr",
     "output_type": "stream",
     "text": [
      "Training (15351 / 18000 Steps) (loss=0.43821): 100%|██████████| 76/76 [03:07<00:00,  2.47s/it]\n",
      "Validate (15352 / 10 Steps): 100%|██████████| 22/22 [01:39<00:00,  4.53s/it]<00:30,  1.08s/it]\n",
      "Training (15400 / 18000 Steps) (loss=0.53640):  64%|██████▍   | 49/76 [02:37<13:58, 31.06s/it]"
     ]
    },
    {
     "name": "stdout",
     "output_type": "stream",
     "text": [
      "Model Was Not Saved ! Current Best Avg. Dice: 0.4908796548843384 Current Avg. Dice: 0.4858101010322571 Current Avg. tumor Dice: 0.5242522358894348 Current Avg. lymph Dice: 0.4492780864238739\n"
     ]
    },
    {
     "name": "stderr",
     "output_type": "stream",
     "text": [
      "Training (15427 / 18000 Steps) (loss=0.54789): 100%|██████████| 76/76 [03:06<00:00,  2.45s/it]\n",
      "Validate (15428 / 10 Steps): 100%|██████████| 22/22 [01:39<00:00,  4.54s/it]<00:04,  1.06s/it]\n",
      "Training (15500 / 18000 Steps) (loss=0.42559):  96%|█████████▌| 73/76 [03:04<01:33, 31.08s/it]"
     ]
    },
    {
     "name": "stdout",
     "output_type": "stream",
     "text": [
      "Model Was Not Saved ! Current Best Avg. Dice: 0.4908796548843384 Current Avg. Dice: 0.4769711196422577 Current Avg. tumor Dice: 0.5245496034622192 Current Avg. lymph Dice: 0.4216209948062897\n"
     ]
    },
    {
     "name": "stderr",
     "output_type": "stream",
     "text": [
      "Training (15503 / 18000 Steps) (loss=0.50425): 100%|██████████| 76/76 [03:07<00:00,  2.46s/it]\n",
      "Training (15579 / 18000 Steps) (loss=0.53862): 100%|██████████| 76/76 [01:27<00:00,  1.15s/it]\n",
      "Validate (15580 / 10 Steps): 100%|██████████| 22/22 [01:39<00:00,  4.52s/it]<01:01,  1.10s/it]\n",
      "Training (15600 / 18000 Steps) (loss=0.56643):  28%|██▊       | 21/76 [02:07<28:23, 30.97s/it]"
     ]
    },
    {
     "name": "stdout",
     "output_type": "stream",
     "text": [
      "Model Was Not Saved ! Current Best Avg. Dice: 0.4908796548843384 Current Avg. Dice: 0.4828447997570038 Current Avg. tumor Dice: 0.5267149209976196 Current Avg. lymph Dice: 0.43936485052108765\n"
     ]
    },
    {
     "name": "stderr",
     "output_type": "stream",
     "text": [
      "Training (15655 / 18000 Steps) (loss=0.56663): 100%|██████████| 76/76 [03:07<00:00,  2.47s/it]\n",
      "Validate (15656 / 10 Steps): 100%|██████████| 22/22 [01:39<00:00,  4.51s/it]<00:33,  1.05s/it]\n",
      "Training (15700 / 18000 Steps) (loss=0.57212):  59%|█████▉    | 45/76 [02:32<15:56, 30.85s/it]"
     ]
    },
    {
     "name": "stdout",
     "output_type": "stream",
     "text": [
      "Model Was Not Saved ! Current Best Avg. Dice: 0.4908796548843384 Current Avg. Dice: 0.48122331500053406 Current Avg. tumor Dice: 0.5209887027740479 Current Avg. lymph Dice: 0.43372711539268494\n"
     ]
    },
    {
     "name": "stderr",
     "output_type": "stream",
     "text": [
      "Training (15731 / 18000 Steps) (loss=0.50147): 100%|██████████| 76/76 [03:05<00:00,  2.45s/it]\n",
      "Validate (15732 / 10 Steps): 100%|██████████| 22/22 [01:39<00:00,  4.53s/it]<00:08,  1.07s/it]\n",
      "Training (15800 / 18000 Steps) (loss=0.54692):  91%|█████████ | 69/76 [02:58<03:36, 31.00s/it]"
     ]
    },
    {
     "name": "stdout",
     "output_type": "stream",
     "text": [
      "Model Was Not Saved ! Current Best Avg. Dice: 0.4908796548843384 Current Avg. Dice: 0.48163968324661255 Current Avg. tumor Dice: 0.5203754305839539 Current Avg. lymph Dice: 0.4414557218551636\n"
     ]
    },
    {
     "name": "stderr",
     "output_type": "stream",
     "text": [
      "Training (15807 / 18000 Steps) (loss=0.50544): 100%|██████████| 76/76 [03:06<00:00,  2.45s/it]\n",
      "Training (15883 / 18000 Steps) (loss=0.52387): 100%|██████████| 76/76 [01:27<00:00,  1.15s/it]\n",
      "Validate (15884 / 10 Steps): 100%|██████████| 22/22 [01:38<00:00,  4.50s/it]<01:02,  1.05s/it]\n",
      "Training (15900 / 18000 Steps) (loss=0.50019):  22%|██▏       | 17/76 [02:02<30:21, 30.88s/it]"
     ]
    },
    {
     "name": "stdout",
     "output_type": "stream",
     "text": [
      "Model Was Not Saved ! Current Best Avg. Dice: 0.4908796548843384 Current Avg. Dice: 0.4891485869884491 Current Avg. tumor Dice: 0.5274093151092529 Current Avg. lymph Dice: 0.4509197771549225\n"
     ]
    },
    {
     "name": "stderr",
     "output_type": "stream",
     "text": [
      "Training (15959 / 18000 Steps) (loss=0.57549): 100%|██████████| 76/76 [03:06<00:00,  2.46s/it]\n",
      "Validate (15960 / 10 Steps): 100%|██████████| 22/22 [01:39<00:00,  4.51s/it]<00:39,  1.10s/it]\n",
      "Training (16000 / 18000 Steps) (loss=0.44919):  54%|█████▍    | 41/76 [02:29<18:03, 30.95s/it]"
     ]
    },
    {
     "name": "stdout",
     "output_type": "stream",
     "text": [
      "Model Was Not Saved ! Current Best Avg. Dice: 0.4908796548843384 Current Avg. Dice: 0.48902690410614014 Current Avg. tumor Dice: 0.5334974527359009 Current Avg. lymph Dice: 0.4429096281528473\n"
     ]
    },
    {
     "name": "stderr",
     "output_type": "stream",
     "text": [
      "Training (16035 / 18000 Steps) (loss=0.47335): 100%|██████████| 76/76 [03:07<00:00,  2.47s/it]\n",
      "Validate (16036 / 10 Steps): 100%|██████████| 22/22 [01:39<00:00,  4.52s/it]<00:12,  1.07s/it]\n",
      "Training (16100 / 18000 Steps) (loss=0.45625):  86%|████████▌ | 65/76 [02:55<05:40, 31.00s/it]"
     ]
    },
    {
     "name": "stdout",
     "output_type": "stream",
     "text": [
      "Model Was Not Saved ! Current Best Avg. Dice: 0.4908796548843384 Current Avg. Dice: 0.4817734658718109 Current Avg. tumor Dice: 0.5224883556365967 Current Avg. lymph Dice: 0.4407743513584137\n"
     ]
    },
    {
     "name": "stderr",
     "output_type": "stream",
     "text": [
      "Training (16111 / 18000 Steps) (loss=0.57536): 100%|██████████| 76/76 [03:06<00:00,  2.46s/it]\n",
      "Training (16187 / 18000 Steps) (loss=0.49429): 100%|██████████| 76/76 [01:26<00:00,  1.14s/it]\n",
      "Validate (16188 / 10 Steps): 100%|██████████| 22/22 [01:39<00:00,  4.51s/it]<01:13,  1.15s/it]\n",
      "Training (16200 / 18000 Steps) (loss=0.62476):  17%|█▋        | 13/76 [01:58<32:46, 31.22s/it]"
     ]
    },
    {
     "name": "stdout",
     "output_type": "stream",
     "text": [
      "Model Was Not Saved ! Current Best Avg. Dice: 0.4908796548843384 Current Avg. Dice: 0.4876505732536316 Current Avg. tumor Dice: 0.5260880589485168 Current Avg. lymph Dice: 0.45102179050445557\n"
     ]
    },
    {
     "name": "stderr",
     "output_type": "stream",
     "text": [
      "Training (16263 / 18000 Steps) (loss=0.48596): 100%|██████████| 76/76 [03:07<00:00,  2.46s/it]\n",
      "Validate (16264 / 10 Steps): 100%|██████████| 22/22 [01:39<00:00,  4.50s/it]<00:42,  1.06s/it]\n",
      "Training (16300 / 18000 Steps) (loss=0.42880):  49%|████▊     | 37/76 [02:23<20:01, 30.80s/it]"
     ]
    },
    {
     "name": "stdout",
     "output_type": "stream",
     "text": [
      "Model Was Not Saved ! Current Best Avg. Dice: 0.4908796548843384 Current Avg. Dice: 0.4891044497489929 Current Avg. tumor Dice: 0.5279175043106079 Current Avg. lymph Dice: 0.44588422775268555\n"
     ]
    },
    {
     "name": "stderr",
     "output_type": "stream",
     "text": [
      "Training (16339 / 18000 Steps) (loss=0.54864): 100%|██████████| 76/76 [03:05<00:00,  2.44s/it]\n",
      "Validate (16340 / 10 Steps): 100%|██████████| 22/22 [01:39<00:00,  4.51s/it]<00:17,  1.07s/it]\n",
      "Training (16400 / 18000 Steps) (loss=0.58421):  80%|████████  | 61/76 [02:50<07:47, 31.19s/it]"
     ]
    },
    {
     "name": "stdout",
     "output_type": "stream",
     "text": [
      "Model Was Saved ! Current Best Avg. Dice: 0.49316778779029846 Current Avg. Dice: 0.49316778779029846 Current Avg. tumor Dice: 0.5331007838249207 Current Avg. lymph Dice: 0.4532293677330017\n"
     ]
    },
    {
     "name": "stderr",
     "output_type": "stream",
     "text": [
      "Training (16415 / 18000 Steps) (loss=0.54730): 100%|██████████| 76/76 [03:07<00:00,  2.46s/it]\n",
      "Training (16491 / 18000 Steps) (loss=0.59534): 100%|██████████| 76/76 [01:27<00:00,  1.16s/it]\n",
      "Validate (16492 / 10 Steps): 100%|██████████| 22/22 [01:38<00:00,  4.50s/it]01:19,  1.17s/it]\n",
      "Training (16500 / 18000 Steps) (loss=0.57283):  12%|█▏        | 9/76 [01:54<36:01, 32.25s/it]"
     ]
    },
    {
     "name": "stdout",
     "output_type": "stream",
     "text": [
      "Model Was Not Saved ! Current Best Avg. Dice: 0.49316778779029846 Current Avg. Dice: 0.47950229048728943 Current Avg. tumor Dice: 0.5175008177757263 Current Avg. lymph Dice: 0.4417140483856201\n"
     ]
    },
    {
     "name": "stderr",
     "output_type": "stream",
     "text": [
      "Training (16567 / 18000 Steps) (loss=0.47107): 100%|██████████| 76/76 [03:05<00:00,  2.44s/it]\n",
      "Validate (16568 / 10 Steps): 100%|██████████| 22/22 [01:38<00:00,  4.49s/it]<00:47,  1.08s/it]\n",
      "Training (16600 / 18000 Steps) (loss=0.44492):  43%|████▎     | 33/76 [02:21<22:23, 31.23s/it]"
     ]
    },
    {
     "name": "stdout",
     "output_type": "stream",
     "text": [
      "Model Was Saved ! Current Best Avg. Dice: 0.49802181124687195 Current Avg. Dice: 0.49802181124687195 Current Avg. tumor Dice: 0.5439122319221497 Current Avg. lymph Dice: 0.45037779211997986\n"
     ]
    },
    {
     "name": "stderr",
     "output_type": "stream",
     "text": [
      "Training (16643 / 18000 Steps) (loss=0.57508): 100%|██████████| 76/76 [03:08<00:00,  2.48s/it]\n",
      "Validate (16644 / 10 Steps): 100%|██████████| 22/22 [01:38<00:00,  4.50s/it]<00:21,  1.09s/it]\n",
      "Training (16700 / 18000 Steps) (loss=0.47262):  75%|███████▌  | 57/76 [02:47<09:45, 30.81s/it]"
     ]
    },
    {
     "name": "stdout",
     "output_type": "stream",
     "text": [
      "Model Was Not Saved ! Current Best Avg. Dice: 0.49802181124687195 Current Avg. Dice: 0.48416364192962646 Current Avg. tumor Dice: 0.5324426889419556 Current Avg. lymph Dice: 0.4309733211994171\n"
     ]
    },
    {
     "name": "stderr",
     "output_type": "stream",
     "text": [
      "Training (16719 / 18000 Steps) (loss=0.63231): 100%|██████████| 76/76 [03:08<00:00,  2.47s/it]\n",
      "Training (16795 / 18000 Steps) (loss=0.48553): 100%|██████████| 76/76 [01:27<00:00,  1.15s/it]\n",
      "Validate (16796 / 10 Steps): 100%|██████████| 22/22 [01:39<00:00,  4.52s/it]02:05,  1.74s/it]\n",
      "Training (16800 / 18000 Steps) (loss=0.47941):   7%|▋         | 5/76 [01:49<44:15, 37.39s/it]"
     ]
    },
    {
     "name": "stdout",
     "output_type": "stream",
     "text": [
      "Model Was Not Saved ! Current Best Avg. Dice: 0.49802181124687195 Current Avg. Dice: 0.49102428555488586 Current Avg. tumor Dice: 0.5370677709579468 Current Avg. lymph Dice: 0.4402552545070648\n"
     ]
    },
    {
     "name": "stderr",
     "output_type": "stream",
     "text": [
      "Training (16871 / 18000 Steps) (loss=0.37919): 100%|██████████| 76/76 [03:07<00:00,  2.47s/it]\n",
      "Validate (16872 / 10 Steps): 100%|██████████| 22/22 [01:38<00:00,  4.48s/it]<00:52,  1.09s/it]\n",
      "Training (16900 / 18000 Steps) (loss=0.63287):  38%|███▊      | 29/76 [02:14<23:59, 30.63s/it]"
     ]
    },
    {
     "name": "stdout",
     "output_type": "stream",
     "text": [
      "Model Was Not Saved ! Current Best Avg. Dice: 0.49802181124687195 Current Avg. Dice: 0.4855797588825226 Current Avg. tumor Dice: 0.5264044404029846 Current Avg. lymph Dice: 0.4420647621154785\n"
     ]
    },
    {
     "name": "stderr",
     "output_type": "stream",
     "text": [
      "Training (16947 / 18000 Steps) (loss=0.48219): 100%|██████████| 76/76 [03:05<00:00,  2.44s/it]\n",
      "Validate (16948 / 10 Steps): 100%|██████████| 22/22 [01:38<00:00,  4.50s/it]<00:26,  1.11s/it]\n",
      "Training (17000 / 18000 Steps) (loss=0.49955):  70%|██████▉   | 53/76 [02:41<11:48, 30.80s/it]"
     ]
    },
    {
     "name": "stdout",
     "output_type": "stream",
     "text": [
      "Model Was Not Saved ! Current Best Avg. Dice: 0.49802181124687195 Current Avg. Dice: 0.49563369154930115 Current Avg. tumor Dice: 0.5343607664108276 Current Avg. lymph Dice: 0.45718321204185486\n"
     ]
    },
    {
     "name": "stderr",
     "output_type": "stream",
     "text": [
      "Training (17023 / 18000 Steps) (loss=0.57332): 100%|██████████| 76/76 [03:06<00:00,  2.46s/it]\n",
      "Training (17099 / 18000 Steps) (loss=0.46588): 100%|██████████| 76/76 [01:27<00:00,  1.15s/it]\n",
      "Validate (17100 / 10 Steps): 100%|██████████| 22/22 [01:38<00:00,  4.46s/it]?, ?it/s]\n",
      "Training (17100 / 18000 Steps) (loss=0.41138):   1%|▏         | 1/76 [01:44<2:10:11, 104.15s/it]"
     ]
    },
    {
     "name": "stdout",
     "output_type": "stream",
     "text": [
      "Model Was Not Saved ! Current Best Avg. Dice: 0.49802181124687195 Current Avg. Dice: 0.47937268018722534 Current Avg. tumor Dice: 0.5220942497253418 Current Avg. lymph Dice: 0.43275582790374756\n"
     ]
    },
    {
     "name": "stderr",
     "output_type": "stream",
     "text": [
      "Training (17175 / 18000 Steps) (loss=0.63563): 100%|██████████| 76/76 [03:05<00:00,  2.44s/it]  \n",
      "Validate (17176 / 10 Steps): 100%|██████████| 22/22 [01:37<00:00,  4.45s/it]<00:55,  1.07s/it]\n",
      "Training (17200 / 18000 Steps) (loss=0.62127):  33%|███▎      | 25/76 [02:10<25:56, 30.53s/it]"
     ]
    },
    {
     "name": "stdout",
     "output_type": "stream",
     "text": [
      "Model Was Not Saved ! Current Best Avg. Dice: 0.49802181124687195 Current Avg. Dice: 0.4857499897480011 Current Avg. tumor Dice: 0.5245184898376465 Current Avg. lymph Dice: 0.44474029541015625\n"
     ]
    },
    {
     "name": "stderr",
     "output_type": "stream",
     "text": [
      "Training (17251 / 18000 Steps) (loss=0.59456): 100%|██████████| 76/76 [03:05<00:00,  2.44s/it]\n",
      "Validate (17252 / 10 Steps): 100%|██████████| 22/22 [01:38<00:00,  4.48s/it]<00:29,  1.06s/it]\n",
      "Training (17300 / 18000 Steps) (loss=0.49538):  64%|██████▍   | 49/76 [02:36<13:50, 30.75s/it]"
     ]
    },
    {
     "name": "stdout",
     "output_type": "stream",
     "text": [
      "Model Was Not Saved ! Current Best Avg. Dice: 0.49802181124687195 Current Avg. Dice: 0.4857487380504608 Current Avg. tumor Dice: 0.5222550630569458 Current Avg. lymph Dice: 0.4506646394729614\n"
     ]
    },
    {
     "name": "stderr",
     "output_type": "stream",
     "text": [
      "Training (17327 / 18000 Steps) (loss=0.51529): 100%|██████████| 76/76 [03:05<00:00,  2.44s/it]\n",
      "Validate (17328 / 10 Steps): 100%|██████████| 22/22 [01:38<00:00,  4.47s/it]<00:04,  1.08s/it]\n",
      "Training (17400 / 18000 Steps) (loss=0.54333):  96%|█████████▌| 73/76 [03:02<01:31, 30.57s/it]"
     ]
    },
    {
     "name": "stdout",
     "output_type": "stream",
     "text": [
      "Model Was Not Saved ! Current Best Avg. Dice: 0.49802181124687195 Current Avg. Dice: 0.4866636395454407 Current Avg. tumor Dice: 0.5182121396064758 Current Avg. lymph Dice: 0.45704734325408936\n"
     ]
    },
    {
     "name": "stderr",
     "output_type": "stream",
     "text": [
      "Training (17403 / 18000 Steps) (loss=0.51896): 100%|██████████| 76/76 [03:06<00:00,  2.45s/it]\n",
      "Training (17479 / 18000 Steps) (loss=0.52548): 100%|██████████| 76/76 [01:27<00:00,  1.15s/it]\n",
      "Validate (17480 / 10 Steps): 100%|██████████| 22/22 [01:38<00:00,  4.46s/it]<00:59,  1.07s/it]\n",
      "Training (17500 / 18000 Steps) (loss=0.61238):  28%|██▊       | 21/76 [02:06<28:00, 30.55s/it]"
     ]
    },
    {
     "name": "stdout",
     "output_type": "stream",
     "text": [
      "Model Was Not Saved ! Current Best Avg. Dice: 0.49802181124687195 Current Avg. Dice: 0.4840504825115204 Current Avg. tumor Dice: 0.5211560130119324 Current Avg. lymph Dice: 0.4464368224143982\n"
     ]
    },
    {
     "name": "stderr",
     "output_type": "stream",
     "text": [
      "Training (17555 / 18000 Steps) (loss=0.53449): 100%|██████████| 76/76 [03:06<00:00,  2.46s/it]\n",
      "Validate (17556 / 10 Steps): 100%|██████████| 22/22 [01:38<00:00,  4.48s/it]<00:34,  1.07s/it]\n",
      "Training (17600 / 18000 Steps) (loss=0.58700):  59%|█████▉    | 45/76 [02:32<15:49, 30.63s/it]"
     ]
    },
    {
     "name": "stdout",
     "output_type": "stream",
     "text": [
      "Model Was Not Saved ! Current Best Avg. Dice: 0.49802181124687195 Current Avg. Dice: 0.4867384135723114 Current Avg. tumor Dice: 0.533510148525238 Current Avg. lymph Dice: 0.4326144754886627\n"
     ]
    },
    {
     "name": "stderr",
     "output_type": "stream",
     "text": [
      "Training (17631 / 18000 Steps) (loss=0.62409): 100%|██████████| 76/76 [03:06<00:00,  2.45s/it]\n",
      "Validate (17632 / 10 Steps): 100%|██████████| 22/22 [01:38<00:00,  4.47s/it]<00:08,  1.12s/it]\n",
      "Training (17700 / 18000 Steps) (loss=0.56621):  91%|█████████ | 69/76 [02:58<03:34, 30.63s/it]"
     ]
    },
    {
     "name": "stdout",
     "output_type": "stream",
     "text": [
      "Model Was Not Saved ! Current Best Avg. Dice: 0.49802181124687195 Current Avg. Dice: 0.493414044380188 Current Avg. tumor Dice: 0.5381655693054199 Current Avg. lymph Dice: 0.4445326030254364\n"
     ]
    },
    {
     "name": "stderr",
     "output_type": "stream",
     "text": [
      "Training (17707 / 18000 Steps) (loss=0.54426): 100%|██████████| 76/76 [03:05<00:00,  2.44s/it]\n",
      "Training (17783 / 18000 Steps) (loss=0.53311): 100%|██████████| 76/76 [01:27<00:00,  1.15s/it]\n",
      "Validate (17784 / 10 Steps): 100%|██████████| 22/22 [01:38<00:00,  4.48s/it]<01:03,  1.06s/it]\n",
      "Training (17800 / 18000 Steps) (loss=0.54236):  22%|██▏       | 17/76 [02:01<30:15, 30.77s/it]"
     ]
    },
    {
     "name": "stdout",
     "output_type": "stream",
     "text": [
      "Model Was Not Saved ! Current Best Avg. Dice: 0.49802181124687195 Current Avg. Dice: 0.4833100438117981 Current Avg. tumor Dice: 0.5296385884284973 Current Avg. lymph Dice: 0.43052494525909424\n"
     ]
    },
    {
     "name": "stderr",
     "output_type": "stream",
     "text": [
      "Training (17859 / 18000 Steps) (loss=0.60201): 100%|██████████| 76/76 [03:05<00:00,  2.44s/it]\n",
      "Validate (17860 / 10 Steps): 100%|██████████| 22/22 [01:38<00:00,  4.46s/it]<00:37,  1.05s/it]\n",
      "Training (17900 / 18000 Steps) (loss=0.39569):  54%|█████▍    | 41/76 [02:27<17:48, 30.54s/it]"
     ]
    },
    {
     "name": "stdout",
     "output_type": "stream",
     "text": [
      "Model Was Not Saved ! Current Best Avg. Dice: 0.49802181124687195 Current Avg. Dice: 0.48643550276756287 Current Avg. tumor Dice: 0.529656708240509 Current Avg. lymph Dice: 0.44279590249061584\n"
     ]
    },
    {
     "name": "stderr",
     "output_type": "stream",
     "text": [
      "Training (17935 / 18000 Steps) (loss=0.51959): 100%|██████████| 76/76 [03:05<00:00,  2.44s/it]\n",
      "Validate (17936 / 10 Steps): 100%|██████████| 22/22 [01:38<00:00,  4.47s/it]<00:12,  1.07s/it]\n",
      "Training (18000 / 18000 Steps) (loss=0.57242):  86%|████████▌ | 65/76 [02:54<05:37, 30.65s/it]"
     ]
    },
    {
     "name": "stdout",
     "output_type": "stream",
     "text": [
      "Model Was Not Saved ! Current Best Avg. Dice: 0.49802181124687195 Current Avg. Dice: 0.4744292199611664 Current Avg. tumor Dice: 0.5257453322410583 Current Avg. lymph Dice: 0.41174978017807007\n"
     ]
    },
    {
     "name": "stderr",
     "output_type": "stream",
     "text": [
      "Training (18011 / 18000 Steps) (loss=0.55049): 100%|██████████| 76/76 [03:05<00:00,  2.45s/it]\n"
     ]
    }
   ],
   "source": [
    "epoch = 0 # used for LR scheduler\n",
    "max_num_epochs = 530 # used for LR scheduler\n",
    "\n",
    "\n",
    "while global_step < max_iterations:\n",
    "    global_step, dice_val_best, global_step_best = train(\n",
    "        global_step, train_loader, dice_val_best, global_step_best\n",
    "    )\n",
    "    epoch += 1\n",
    "    #optimizer.param_groups[0]['lr'] = poly_lr(epoch, max_num_epochs, 0.005676 , 0.9)\n",
    "# model.load_state_dict(torch.load(os.path.join(model_dir, \"best_metric_luck_UNETr_prompt.pth\")))"
   ]
  }
 ],
 "metadata": {
  "kernelspec": {
   "display_name": "clam",
   "language": "python",
   "name": "python3"
  },
  "language_info": {
   "codemirror_mode": {
    "name": "ipython",
    "version": 3
   },
   "file_extension": ".py",
   "mimetype": "text/x-python",
   "name": "python",
   "nbconvert_exporter": "python",
   "pygments_lexer": "ipython3",
   "version": "3.8.0"
  }
 },
 "nbformat": 4,
 "nbformat_minor": 2
}
