{
 "cells": [
  {
   "cell_type": "code",
   "execution_count": 1,
   "metadata": {},
   "outputs": [
    {
     "name": "stdout",
     "output_type": "stream",
     "text": [
      "1\n"
     ]
    },
    {
     "name": "stderr",
     "output_type": "stream",
     "text": [
      "/tmp/ipykernel_3600682/264845013.py:9: TqdmWarning: IProgress not found. Please update jupyter and ipywidgets. See https://ipywidgets.readthedocs.io/en/stable/user_install.html\n",
      "  from tqdm.autonotebook import tqdm\n"
     ]
    }
   ],
   "source": [
    "import torch\n",
    "import torch.nn as nn\n",
    "from torch.utils.data import DataLoader\n",
    "from collections.abc import Sequence\n",
    "\n",
    "from unetr import CustomedUNETR\n",
    "\n",
    "import json\n",
    "from tqdm.autonotebook import tqdm\n",
    "import os\n",
    "os.environ[\"CUDA_DEVICE_ORDER\"] = \"PCI_BUS_ID\"\n",
    "os.environ[\"CUDA_VISIBLE_DEVICES\"] = \"1\" \n",
    "\n",
    "print(torch.cuda.device_count())\n",
    "torch.backends.cudnn.benchmark = True\n",
    "device = torch.device(\"cuda\" if torch.cuda.is_available() else \"cpu\")"
   ]
  },
  {
   "cell_type": "code",
   "execution_count": 2,
   "metadata": {},
   "outputs": [],
   "source": [
    "import os\n",
    "import shutil\n",
    "import tempfile\n",
    "\n",
    "import matplotlib.pyplot as plt\n",
    "import numpy as np\n",
    "from tqdm import tqdm\n",
    "from glob import glob\n",
    "# import wandb\n",
    "\n",
    "import monai\n",
    "from monai.losses import DiceCELoss, DiceFocalLoss, FocalLoss\n",
    "from monai.inferers import sliding_window_inference\n",
    "from monai import transforms\n",
    "\n",
    "from monai.transforms import (\n",
    "       AsDiscrete,\n",
    "       Compose,\n",
    "    CropForegroundd,\n",
    "    LoadImaged,\n",
    "    Orientationd,\n",
    "    RandFlipd,\n",
    "    RandCropByPosNegLabeld,\n",
    "    RandShiftIntensityd,\n",
    "    ScaleIntensityRanged,\n",
    "    Spacingd,\n",
    "    RandRotate90d,\n",
    "    MapTransform,\n",
    "    ScaleIntensityd,\n",
    "    #AddChanneld,\n",
    "    SpatialPadd,\n",
    "    CenterSpatialCropd,\n",
    "    EnsureChannelFirstd,\n",
    "    ConcatItemsd,\n",
    "    AdjustContrastd, \n",
    "    Rand3DElasticd,\n",
    "    HistogramNormalized,\n",
    "    NormalizeIntensityd,\n",
    "    Invertd,\n",
    "    SaveImage,\n",
    "\n",
    ")\n",
    "\n",
    "from monai.config import print_config\n",
    "from monai.metrics import DiceMetric\n",
    "from monai.networks.nets import SwinUNETR, UNETR, SegResNet\n",
    "from monai.data import (\n",
    "    DataLoader,\n",
    "    CacheDataset,\n",
    "    load_decathlon_datalist,\n",
    "    decollate_batch,\n",
    ")\n",
    "from monai import data\n",
    "from monai.utils import first, set_determinism\n",
    "from sklearn.model_selection import train_test_split\n",
    "import json\n",
    "\n",
    "\n",
    "import torch"
   ]
  },
  {
   "cell_type": "code",
   "execution_count": 3,
   "metadata": {},
   "outputs": [],
   "source": [
    "set_determinism(seed=1024)"
   ]
  },
  {
   "cell_type": "code",
   "execution_count": 4,
   "metadata": {},
   "outputs": [],
   "source": [
    "data_dir = '/home/nada.saadi/MIS-FM/hecktor2022_cropped'\n",
    "json_dir = \"/home/nada.saadi/CTPET/hecktor2022_cropped/HMR_pt_train_new.json\""
   ]
  },
  {
   "cell_type": "code",
   "execution_count": 5,
   "metadata": {},
   "outputs": [],
   "source": [
    "def datafold_read(datalist, basedir, fold=0, key=\"training\"):\n",
    "    with open(datalist) as f:\n",
    "        json_data = json.load(f)\n",
    "\n",
    "    json_data = json_data[key]\n",
    "\n",
    "    for d in json_data:\n",
    "        for k in d:\n",
    "            if isinstance(d[k], list):\n",
    "                d[k] = [os.path.join(basedir, iv) for iv in d[k]]\n",
    "            elif isinstance(d[k], str):\n",
    "                d[k] = os.path.join(basedir, d[k]) if len(d[k]) > 0 else d[k]\n",
    "\n",
    "    tr = []\n",
    "    val = []\n",
    "    for d in json_data:\n",
    "        if \"fold\" in d and d[\"fold\"] == fold:\n",
    "            val.append(d)\n",
    "        else:\n",
    "            tr.append(d)\n",
    "\n",
    "    return tr, val"
   ]
  },
  {
   "cell_type": "code",
   "execution_count": 6,
   "metadata": {},
   "outputs": [
    {
     "data": {
      "text/plain": [
       "(13, 4)"
      ]
     },
     "execution_count": 6,
     "metadata": {},
     "output_type": "execute_result"
    }
   ],
   "source": [
    "train_files, validation_files = datafold_read(datalist=json_dir, basedir=data_dir, fold=0)\n",
    "len(train_files), len(validation_files)"
   ]
  },
  {
   "cell_type": "code",
   "execution_count": 7,
   "metadata": {},
   "outputs": [],
   "source": [
    "class ClipCT(MapTransform):\n",
    "    \"\"\"\n",
    "    Convert labels to multi channels based on hecktor classes:\n",
    "    label 1 is the tumor\n",
    "    label 2 is the lymph node\n",
    "\n",
    "    \"\"\"\n",
    "\n",
    "    def __call__(self, data):\n",
    "        d = dict(data)\n",
    "        for key in self.keys:\n",
    "            if key == \"ct\":\n",
    "                d[key] = torch.clip(d[key], min=-200, max=200)\n",
    "            # elif key == \"pt\":\n",
    "            #     d[key] = torch.clip(d[key], d[key].min(), 5)\n",
    "        return d\n",
    "class MulPTFM(MapTransform):\n",
    "    \"\"\"\n",
    "    Mult PT and FM \n",
    "\n",
    "    \"\"\"\n",
    "\n",
    "    def __call__(self, data):\n",
    "        d = dict(data)\n",
    "\n",
    "        fm = d[\"ct\"] > 0\n",
    "        d[\"pt\"] = d[\"pt\"] * fm\n",
    "        return d\n",
    "class SelectClass(MapTransform):\n",
    "    \"\"\"\n",
    "    Select the class for which you want to fine tune the model \n",
    "\n",
    "    \"\"\"\n",
    "    # def __init__(self, keys, cls=1):\n",
    "    #     super(self).__init__(keys)\n",
    "    #     self.cls = cls\n",
    "\n",
    "    def __call__(self, data):\n",
    "        d = dict(data)\n",
    "        d[\"seg\"][d[\"seg\"] == 1] = 0\n",
    "        # d[\"seg\"][d[\"seg\"] == 2] = 1\n",
    "        \n",
    "        return d"
   ]
  },
  {
   "cell_type": "code",
   "execution_count": 8,
   "metadata": {},
   "outputs": [],
   "source": [
    "num_samples = 4\n",
    "\n",
    "train_transforms = Compose(\n",
    "    [\n",
    "        LoadImaged(keys=[\"pt\", \"seg\"], ensure_channel_first = True),\n",
    "        SpatialPadd(keys=[\"pt\",  \"seg\"], spatial_size=(200, 200, 310), method='end'),\n",
    "        Orientationd(keys=[\"pt\",  \"seg\"], axcodes=\"PLS\"),\n",
    "        #NormalizeIntensityd(keys=[\"pt\"]),\n",
    "        ClipCT(keys=[\"pt\"]),\n",
    "        ScaleIntensityd(keys=[\"pt\"], minv=0, maxv=1),\n",
    "        #MulPTFM(keys=[\"ct\",\"pt\"]),\n",
    "        #ConcatItemsd(keys=[\"pt\", \"ct\"], name=\"ctpt\"),\n",
    "        #NormalizeIntensityd(keys=[\"ctpt\"], channel_wise=True),\n",
    "        RandCropByPosNegLabeld(\n",
    "            keys=[\"pt\", \"seg\"],\n",
    "            label_key=\"seg\",\n",
    "            spatial_size=(96, 96, 96),\n",
    "            pos=1,\n",
    "            neg=1,\n",
    "            num_samples=num_samples,\n",
    "            image_key=\"pt\",\n",
    "            image_threshold=0,\n",
    "        ),\n",
    "        RandFlipd(\n",
    "            keys=[\"pt\", \"seg\"],\n",
    "            spatial_axis=[0],\n",
    "            prob=0.20,\n",
    "        ),\n",
    "        RandFlipd(\n",
    "            keys=[\"pt\", \"seg\"],\n",
    "            spatial_axis=[1],\n",
    "            prob=0.20,\n",
    "        ),\n",
    "        RandFlipd(\n",
    "            keys=[\"pt\", \"seg\"],\n",
    "            spatial_axis=[2],\n",
    "            prob=0.20,\n",
    "        ),\n",
    "        RandRotate90d(\n",
    "            keys=[\"pt\", \"seg\"],\n",
    "            prob=0.20,\n",
    "            max_k=3,\n",
    "        ),\n",
    "    ]\n",
    ")\n",
    "val_transforms = Compose(\n",
    "    [\n",
    "        LoadImaged(keys=[\"pt\", \"seg\"], ensure_channel_first = True),\n",
    "        SpatialPadd(keys=[\"pt\", \"seg\"], spatial_size=(200, 200, 310), method='end'),\n",
    "        Orientationd(keys=[\"pt\",  \"seg\"], axcodes=\"PLS\"),\n",
    "        #NormalizeIntensityd(keys=[\"pt\"]),\n",
    "        ClipCT(keys=[\"pt\"]),\n",
    "        ScaleIntensityd(keys=[\"pt\"], minv=0, maxv=1),\n",
    "        #MulPTFM(keys=[\"ct\",\"pt\"]),\n",
    "        #ConcatItemsd(keys=[\"pt\", \"ct\"], name=\"ctpt\"),\n",
    "    ]\n",
    ")"
   ]
  },
  {
   "cell_type": "code",
   "execution_count": 10,
   "metadata": {},
   "outputs": [],
   "source": [
    "train_ds = monai.data.Dataset(data=train_files, transform=train_transforms)\n",
    "\n",
    "train_loader = DataLoader(\n",
    "    train_ds,\n",
    "    batch_size=2,\n",
    "    shuffle=True,\n",
    "    num_workers=8,\n",
    "    pin_memory=torch.cuda.is_available(),\n",
    "    )\n",
    "\n",
    "val_ds = monai.data.Dataset(data=validation_files, transform=val_transforms)\n",
    "\n",
    "val_loader = DataLoader(\n",
    "    val_ds, \n",
    "    batch_size=2, \n",
    "    num_workers=8, \n",
    "    shuffle= False)"
   ]
  },
  {
   "cell_type": "code",
   "execution_count": 11,
   "metadata": {},
   "outputs": [
    {
     "name": "stderr",
     "output_type": "stream",
     "text": [
      "/home/nada.saadi/miniconda3/envs/clam/lib/python3.8/site-packages/monai/utils/deprecate_utils.py:221: FutureWarning: unetr CustomedUNETR.__init__:pos_embed: Argument `pos_embed` has been deprecated since version 1.2. It will be removed in version 1.4. please use `proj_type` instead.\n",
      "  warn_deprecated(argname, msg, warning_category)\n"
     ]
    },
    {
     "name": "stdout",
     "output_type": "stream",
     "text": [
      "Nada's version of UNETR\n",
      "(96, 96, 96)\n",
      "(16, 16, 16)\n",
      "(6, 6, 6)\n",
      "768\n",
      "zaz w dakchi ya s lbnat\n"
     ]
    }
   ],
   "source": [
    "os.environ[\"CUDA_DEVICE_ORDER\"] = \"PCI_BUS_ID\"\n",
    "device = torch.device(\"cuda\" if torch.cuda.is_available() else \"cpu\")\n",
    "model = CustomedUNETR(\n",
    "    in_channels=1,  # Number of input channels\n",
    "    out_channels=3,  # Number of output channels\n",
    "    img_size=(96, 96, 96),  # Size of the input image\n",
    "    feature_size=48,  # Size of the feature maps\n",
    "    hidden_size=768,\n",
    "    num_heads=12,  # Size of the hidden layers in the transformer\n",
    "    mlp_dim=3072,  # Dimension of the MLP in the transformer\n",
    "    pos_embed=\"perceptron\",  # Type of positional embedding\n",
    "    norm_name=\"instance\",  # Type of normalization\n",
    "    res_block=True,  # Whether to use residual blocks\n",
    "    dropout_rate=0.0,\n",
    "    proj_type=\"conv\",\n",
    "    r=4,\n",
    "    lora_layer=True,\n",
    "    use_ct_encoder=True,\n",
    "    use_pet_encoder=False,\n",
    ").to(device) \n",
    "pt_weights_6 = '/home/nada.saadi/CTPET/hecktor2022_cropped/6th_CTPT_ourapproach/6thctpt_tokens_ourapproach_pret.pth'\n",
    "state_dict = torch.load(pt_weights_6)\n",
    "model_state_dict = model.state_dict()\n",
    "for name, param in state_dict.items():\n",
    "    if name in model_state_dict:\n",
    "        if param.shape == model_state_dict[name].shape:\n",
    "            model_state_dict[name] = param\n",
    "\n",
    "model.load_state_dict(model_state_dict) \n",
    "\n",
    "for name, param in model.named_parameters():\n",
    "    if \"decoder5\" in name or \"decoder4\" in name or \"decoder3\" in name or \"decoder2\" in name:\n",
    "        param.requires_grad = False"
   ]
  },
  {
   "cell_type": "code",
   "execution_count": 12,
   "metadata": {},
   "outputs": [],
   "source": [
    "torch.backends.cudnn.benchmark = True\n",
    "def poly_lr(epoch, max_epochs, initial_lr, exponent=0.9):\n",
    "    return initial_lr * (1 - epoch / max_epochs)**exponent\n",
    "\n",
    "loss_function = DiceCELoss(to_onehot_y=True, softmax=True)\n",
    "optimizer = torch.optim.AdamW(model.parameters(), lr=1e-4, weight_decay=1e-5)"
   ]
  },
  {
   "cell_type": "code",
   "execution_count": 13,
   "metadata": {},
   "outputs": [],
   "source": [
    "def poly_lr(epoch, max_epochs, initial_lr, exponent=0.9):\n",
    "    return initial_lr * (1 - epoch / max_epochs)**exponent\n",
    "\n",
    "model_dir='/home/nada.saadi/CTPET/hecktor2022_cropped/7th_PET_token_ourapproach'\n",
    "max_iterations = 18000\n",
    "eval_num = 100\n",
    "\n",
    "## running stats\n",
    "global_step = 0\n",
    "dice_val_best = 0.0\n",
    "global_step_best = 0\n",
    "epoch_loss_values = []\n",
    "metric_values = []\n",
    "metric_values_tumor = []\n",
    "metric_values_lymph = []\n",
    "\n",
    "\n",
    "loss_function = DiceCELoss(to_onehot_y=True, softmax=True)\n",
    "optimizer = torch.optim.AdamW(model.parameters(), lr=1e-4, weight_decay=1e-5)\n",
    "\n",
    "\n",
    "post_label = AsDiscrete(to_onehot=3)\n",
    "post_pred = AsDiscrete(argmax=True, to_onehot=3)\n",
    "\n",
    "dice_metric = DiceMetric(include_background=False, reduction=\"mean\", get_not_nans=False)\n",
    "dice_metric_batch = DiceMetric(include_background=False, reduction=\"mean_batch\")\n",
    "\n",
    "\n",
    "##-----------------------------------------------------------------------------\n",
    "\n",
    "def validation(epoch_iterator_val):\n",
    "        model.eval()\n",
    "        with torch.no_grad():\n",
    "            for step, batch in enumerate(epoch_iterator_val):\n",
    "                val_inputs, val_labels = (batch[\"pt\"].cuda(), batch[\"seg\"].cuda())\n",
    "                val_outputs = sliding_window_inference(val_inputs, (96, 96, 96), 4, model)\n",
    "                val_labels_list = decollate_batch(val_labels)\n",
    "                val_labels_convert = [\n",
    "                    post_label(val_label_tensor) for val_label_tensor in val_labels_list\n",
    "                ]\n",
    "                val_outputs_list = decollate_batch(val_outputs)\n",
    "                val_output_convert = [\n",
    "                    post_pred(val_pred_tensor) for val_pred_tensor in val_outputs_list\n",
    "                ]\n",
    "                dice_metric(y_pred=val_output_convert, y=val_labels_convert)\n",
    "                dice_metric_batch(y_pred=val_output_convert, y=val_labels_convert)\n",
    "                epoch_iterator_val.set_description(\n",
    "                    \"Validate (%d / %d Steps)\" % (global_step, 10.0)\n",
    "                )\n",
    "            mean_dice_val = dice_metric.aggregate().item()\n",
    "            metric_batch_val = dice_metric_batch.aggregate()\n",
    "\n",
    "            metric_tumor = metric_batch_val[0].item()\n",
    "            metric_lymph = metric_batch_val[1].item()\n",
    "\n",
    "            dice_metric.reset()\n",
    "            dice_metric_batch.reset()\n",
    "        return mean_dice_val, metric_tumor, metric_lymph\n",
    "\n",
    "\n",
    "\n",
    "def train(global_step, train_loader, dice_val_best, global_step_best):\n",
    "        model.train()\n",
    "        epoch_loss = 0 \n",
    "        step = 0\n",
    "        epoch_iterator = tqdm(\n",
    "            train_loader, desc=\"Training (X / X Steps) (loss=X.X)\", dynamic_ncols=True\n",
    "        )\n",
    "        \n",
    "        for step, batch in enumerate(epoch_iterator):\n",
    "            step += 1\n",
    "            x, y = (batch[\"pt\"].cuda(), batch[\"seg\"].cuda())\n",
    "            logit_map = model(x,mode=None)\n",
    "            loss = loss_function(logit_map, y)\n",
    "            loss.backward()\n",
    "            epoch_loss += loss.item() \n",
    "            optimizer.step()\n",
    "            optimizer.zero_grad()\n",
    "            epoch_iterator.set_description(\n",
    "                \"Training (%d / %d Steps) (loss=%2.5f)\"\n",
    "                % (global_step, max_iterations, loss)\n",
    "            )\n",
    "            \n",
    "            if (\n",
    "                global_step % eval_num == 0 and global_step != 0\n",
    "            ) or global_step == max_iterations:\n",
    "                epoch_iterator_val = tqdm(\n",
    "                    val_loader, desc=\"Validate (X / X Steps) (dice=X.X)\", dynamic_ncols=True\n",
    "                )\n",
    "                dice_val, metric_tumor, metric_lymph = validation(epoch_iterator_val)\n",
    "                epoch_loss /= step\n",
    "                epoch_loss_values.append(epoch_loss)\n",
    "                metric_values.append(dice_val)\n",
    "                metric_values_tumor.append(metric_tumor)\n",
    "                metric_values_lymph.append(metric_lymph)\n",
    "                if dice_val > dice_val_best:\n",
    "                    dice_val_best = dice_val\n",
    "                    global_step_best = global_step\n",
    "                    torch.save(\n",
    "                        model.state_dict(), os.path.join(model_dir, \"7th_PET_ourapproach.pth\")\n",
    "                    )\n",
    "                    print(\n",
    "                        \"Model Was Saved ! Current Best Avg. Dice: {} Current Avg. Dice: {} Current Avg. tumor Dice: {} Current Avg. lymph Dice: {}\".format(\n",
    "                            dice_val_best, dice_val, metric_tumor, metric_lymph\n",
    "                        )\n",
    "                    )\n",
    "                else:\n",
    "                    print(\n",
    "                        \"Model Was Not Saved ! Current Best Avg. Dice: {} Current Avg. Dice: {} Current Avg. tumor Dice: {} Current Avg. lymph Dice: {}\".format(\n",
    "                            dice_val_best, dice_val,  metric_tumor, metric_lymph\n",
    "                        )\n",
    "                    )\n",
    "            global_step += 1\n",
    "        return global_step, dice_val_best, global_step_best\n"
   ]
  },
  {
   "cell_type": "code",
   "execution_count": 14,
   "metadata": {},
   "outputs": [
    {
     "name": "stderr",
     "output_type": "stream",
     "text": [
      "Training (6 / 18000 Steps) (loss=1.02287): 100%|██████████| 7/7 [02:19<00:00, 19.94s/it]\n",
      "Training (13 / 18000 Steps) (loss=1.32554): 100%|██████████| 7/7 [00:37<00:00,  5.30s/it]\n",
      "Training (20 / 18000 Steps) (loss=0.92919): 100%|██████████| 7/7 [00:36<00:00,  5.19s/it]\n",
      "Training (27 / 18000 Steps) (loss=0.69891): 100%|██████████| 7/7 [00:36<00:00,  5.19s/it]\n",
      "Training (34 / 18000 Steps) (loss=0.69790): 100%|██████████| 7/7 [00:36<00:00,  5.15s/it]\n",
      "Training (41 / 18000 Steps) (loss=0.69630): 100%|██████████| 7/7 [00:36<00:00,  5.24s/it]\n",
      "Training (48 / 18000 Steps) (loss=0.75236): 100%|██████████| 7/7 [00:36<00:00,  5.19s/it]\n",
      "Training (55 / 18000 Steps) (loss=0.76290): 100%|██████████| 7/7 [00:36<00:00,  5.19s/it]\n",
      "Training (62 / 18000 Steps) (loss=0.68487): 100%|██████████| 7/7 [00:36<00:00,  5.20s/it]\n",
      "Training (69 / 18000 Steps) (loss=0.80262): 100%|██████████| 7/7 [00:36<00:00,  5.19s/it]\n",
      "Training (76 / 18000 Steps) (loss=0.68546): 100%|██████████| 7/7 [00:36<00:00,  5.19s/it]\n",
      "Training (83 / 18000 Steps) (loss=0.90429): 100%|██████████| 7/7 [00:36<00:00,  5.19s/it]\n",
      "Training (90 / 18000 Steps) (loss=0.80978): 100%|██████████| 7/7 [00:33<00:00,  4.82s/it]\n",
      "Training (97 / 18000 Steps) (loss=0.69488): 100%|██████████| 7/7 [00:36<00:00,  5.18s/it]\n",
      "Validate (98 / 10 Steps): 100%|██████████| 2/2 [00:17<00:00,  8.55s/it]7<00:30,  6.13s/it]\n",
      "Training (100 / 18000 Steps) (loss=0.79925):  43%|████▎     | 3/7 [00:36<00:56, 14.14s/it]"
     ]
    },
    {
     "name": "stdout",
     "output_type": "stream",
     "text": [
      "Model Was Saved ! Current Best Avg. Dice: 0.012152251787483692 Current Avg. Dice: 0.012152251787483692 Current Avg. tumor Dice: 0.024304503574967384 Current Avg. lymph Dice: 0.0\n"
     ]
    },
    {
     "name": "stderr",
     "output_type": "stream",
     "text": [
      "Training (104 / 18000 Steps) (loss=0.75353): 100%|██████████| 7/7 [00:55<00:00,  7.91s/it]\n",
      "Training (111 / 18000 Steps) (loss=0.73838): 100%|██████████| 7/7 [00:36<00:00,  5.18s/it]\n",
      "Training (118 / 18000 Steps) (loss=0.80314): 100%|██████████| 7/7 [00:37<00:00,  5.30s/it]\n",
      "Training (125 / 18000 Steps) (loss=0.75006): 100%|██████████| 7/7 [00:36<00:00,  5.26s/it]\n",
      "Training (132 / 18000 Steps) (loss=0.69486): 100%|██████████| 7/7 [00:36<00:00,  5.15s/it]\n",
      "Training (139 / 18000 Steps) (loss=0.66768): 100%|██████████| 7/7 [00:36<00:00,  5.16s/it]\n",
      "Training (146 / 18000 Steps) (loss=0.69120): 100%|██████████| 7/7 [00:37<00:00,  5.34s/it]\n",
      "Training (153 / 18000 Steps) (loss=0.70689): 100%|██████████| 7/7 [00:36<00:00,  5.20s/it]\n",
      "Training (160 / 18000 Steps) (loss=0.79716): 100%|██████████| 7/7 [00:36<00:00,  5.19s/it]\n",
      "Training (167 / 18000 Steps) (loss=0.92998): 100%|██████████| 7/7 [00:36<00:00,  5.20s/it]\n",
      "Training (174 / 18000 Steps) (loss=0.68710): 100%|██████████| 7/7 [00:31<00:00,  4.43s/it]\n",
      "Training (181 / 18000 Steps) (loss=0.77829): 100%|██████████| 7/7 [00:36<00:00,  5.19s/it]\n",
      "Training (188 / 18000 Steps) (loss=0.76323): 100%|██████████| 7/7 [00:36<00:00,  5.26s/it]\n",
      "Training (195 / 18000 Steps) (loss=0.67457): 100%|██████████| 7/7 [00:36<00:00,  5.25s/it]\n",
      "Validate (196 / 10 Steps): 100%|██████████| 2/2 [00:16<00:00,  8.46s/it]<00:15,  5.15s/it]\n",
      "Training (200 / 18000 Steps) (loss=0.67503):  71%|███████▏  | 5/7 [00:44<00:23, 11.51s/it]"
     ]
    },
    {
     "name": "stdout",
     "output_type": "stream",
     "text": [
      "Model Was Saved ! Current Best Avg. Dice: 0.035358328372240067 Current Avg. Dice: 0.035358328372240067 Current Avg. tumor Dice: 0.07071665674448013 Current Avg. lymph Dice: 0.0\n"
     ]
    },
    {
     "name": "stderr",
     "output_type": "stream",
     "text": [
      "Training (202 / 18000 Steps) (loss=0.76576): 100%|██████████| 7/7 [00:52<00:00,  7.55s/it]\n",
      "Training (209 / 18000 Steps) (loss=0.69541): 100%|██████████| 7/7 [00:36<00:00,  5.22s/it]\n",
      "Training (216 / 18000 Steps) (loss=0.70914): 100%|██████████| 7/7 [00:36<00:00,  5.18s/it]\n",
      "Training (223 / 18000 Steps) (loss=0.65304): 100%|██████████| 7/7 [00:36<00:00,  5.18s/it]\n",
      "Training (230 / 18000 Steps) (loss=0.70544): 100%|██████████| 7/7 [00:36<00:00,  5.24s/it]\n",
      "Training (237 / 18000 Steps) (loss=0.69597): 100%|██████████| 7/7 [00:36<00:00,  5.15s/it]\n",
      "Training (244 / 18000 Steps) (loss=0.62584): 100%|██████████| 7/7 [00:35<00:00,  5.12s/it]\n",
      "Training (251 / 18000 Steps) (loss=0.66387): 100%|██████████| 7/7 [00:35<00:00,  5.13s/it]\n",
      "Training (258 / 18000 Steps) (loss=0.66625): 100%|██████████| 7/7 [00:33<00:00,  4.84s/it]\n",
      "Training (265 / 18000 Steps) (loss=0.67225): 100%|██████████| 7/7 [00:36<00:00,  5.18s/it]\n",
      "Training (272 / 18000 Steps) (loss=0.65454): 100%|██████████| 7/7 [00:36<00:00,  5.19s/it]\n",
      "Training (279 / 18000 Steps) (loss=0.70528): 100%|██████████| 7/7 [00:37<00:00,  5.29s/it]\n",
      "Training (286 / 18000 Steps) (loss=0.66403): 100%|██████████| 7/7 [00:36<00:00,  5.22s/it]\n",
      "Training (293 / 18000 Steps) (loss=0.61745): 100%|██████████| 7/7 [00:36<00:00,  5.19s/it]\n",
      "Validate (294 / 10 Steps): 100%|██████████| 2/2 [00:16<00:00,  8.43s/it]<00:05,  5.26s/it]\n",
      "Training (300 / 18000 Steps) (loss=0.72819): 100%|██████████| 7/7 [00:54<00:00,  7.85s/it]\n"
     ]
    },
    {
     "name": "stdout",
     "output_type": "stream",
     "text": [
      "Model Was Saved ! Current Best Avg. Dice: 0.06616908311843872 Current Avg. Dice: 0.06616908311843872 Current Avg. tumor Dice: 0.13203614950180054 Current Avg. lymph Dice: 0.00030201341724023223\n"
     ]
    },
    {
     "name": "stderr",
     "output_type": "stream",
     "text": [
      "Training (307 / 18000 Steps) (loss=0.63180): 100%|██████████| 7/7 [00:36<00:00,  5.22s/it]\n",
      "Training (314 / 18000 Steps) (loss=0.66374): 100%|██████████| 7/7 [00:36<00:00,  5.22s/it]\n",
      "Training (321 / 18000 Steps) (loss=0.66032): 100%|██████████| 7/7 [00:36<00:00,  5.16s/it]\n",
      "Training (328 / 18000 Steps) (loss=0.71254): 100%|██████████| 7/7 [00:35<00:00,  5.06s/it]\n",
      "Training (335 / 18000 Steps) (loss=0.70877): 100%|██████████| 7/7 [00:37<00:00,  5.32s/it]\n",
      "Training (342 / 18000 Steps) (loss=0.79086): 100%|██████████| 7/7 [00:31<00:00,  4.55s/it]\n",
      "Training (349 / 18000 Steps) (loss=0.70362): 100%|██████████| 7/7 [00:36<00:00,  5.24s/it]\n",
      "Training (356 / 18000 Steps) (loss=0.71835): 100%|██████████| 7/7 [00:36<00:00,  5.27s/it]\n",
      "Training (363 / 18000 Steps) (loss=0.84970): 100%|██████████| 7/7 [00:36<00:00,  5.21s/it]\n",
      "Training (370 / 18000 Steps) (loss=0.71993): 100%|██████████| 7/7 [00:36<00:00,  5.23s/it]\n",
      "Training (377 / 18000 Steps) (loss=0.73349): 100%|██████████| 7/7 [00:36<00:00,  5.27s/it]\n",
      "Training (384 / 18000 Steps) (loss=0.65549): 100%|██████████| 7/7 [00:36<00:00,  5.23s/it]\n",
      "Training (391 / 18000 Steps) (loss=0.66105): 100%|██████████| 7/7 [00:35<00:00,  5.07s/it]\n",
      "Training (398 / 18000 Steps) (loss=0.65285): 100%|██████████| 7/7 [00:36<00:00,  5.25s/it]\n",
      "Validate (399 / 10 Steps): 100%|██████████| 2/2 [00:17<00:00,  8.55s/it]<00:48,  8.16s/it]\n",
      "Training (400 / 18000 Steps) (loss=0.70528):  29%|██▊       | 2/7 [00:31<01:24, 16.83s/it]"
     ]
    },
    {
     "name": "stdout",
     "output_type": "stream",
     "text": [
      "Model Was Saved ! Current Best Avg. Dice: 0.07402578741312027 Current Avg. Dice: 0.07402578741312027 Current Avg. tumor Dice: 0.14769455790519714 Current Avg. lymph Dice: 0.00035701534943655133\n"
     ]
    },
    {
     "name": "stderr",
     "output_type": "stream",
     "text": [
      "Training (405 / 18000 Steps) (loss=0.72999): 100%|██████████| 7/7 [00:54<00:00,  7.83s/it]\n",
      "Training (412 / 18000 Steps) (loss=0.71371): 100%|██████████| 7/7 [00:36<00:00,  5.21s/it]\n",
      "Training (419 / 18000 Steps) (loss=0.65661): 100%|██████████| 7/7 [00:35<00:00,  5.11s/it]\n",
      "Training (426 / 18000 Steps) (loss=0.76048): 100%|██████████| 7/7 [00:31<00:00,  4.55s/it]\n",
      "Training (433 / 18000 Steps) (loss=0.68717): 100%|██████████| 7/7 [00:36<00:00,  5.22s/it]\n",
      "Training (440 / 18000 Steps) (loss=0.65883): 100%|██████████| 7/7 [00:35<00:00,  5.13s/it]\n",
      "Training (447 / 18000 Steps) (loss=0.69920): 100%|██████████| 7/7 [00:36<00:00,  5.18s/it]\n",
      "Training (454 / 18000 Steps) (loss=0.70868): 100%|██████████| 7/7 [00:35<00:00,  5.08s/it]\n",
      "Training (461 / 18000 Steps) (loss=0.58971): 100%|██████████| 7/7 [00:36<00:00,  5.21s/it]\n",
      "Training (468 / 18000 Steps) (loss=0.64272): 100%|██████████| 7/7 [00:36<00:00,  5.21s/it]\n",
      "Training (475 / 18000 Steps) (loss=0.62650): 100%|██████████| 7/7 [00:36<00:00,  5.16s/it]\n",
      "Training (482 / 18000 Steps) (loss=0.57379): 100%|██████████| 7/7 [00:35<00:00,  5.12s/it]\n",
      "Training (489 / 18000 Steps) (loss=0.53951): 100%|██████████| 7/7 [00:36<00:00,  5.15s/it]\n",
      "Training (496 / 18000 Steps) (loss=0.64490): 100%|██████████| 7/7 [00:35<00:00,  5.13s/it]\n",
      "Validate (497 / 10 Steps): 100%|██████████| 2/2 [00:17<00:00,  8.56s/it]<00:22,  5.63s/it]\n",
      "Training (500 / 18000 Steps) (loss=0.69688):  57%|█████▋    | 4/7 [00:41<00:37, 12.58s/it]"
     ]
    },
    {
     "name": "stdout",
     "output_type": "stream",
     "text": [
      "Model Was Saved ! Current Best Avg. Dice: 0.08118554949760437 Current Avg. Dice: 0.08118554949760437 Current Avg. tumor Dice: 0.16223426163196564 Current Avg. lymph Dice: 0.0001368401717627421\n"
     ]
    },
    {
     "name": "stderr",
     "output_type": "stream",
     "text": [
      "Training (503 / 18000 Steps) (loss=0.55968): 100%|██████████| 7/7 [00:55<00:00,  7.89s/it]\n",
      "Training (510 / 18000 Steps) (loss=0.72073): 100%|██████████| 7/7 [00:35<00:00,  5.06s/it]\n",
      "Training (517 / 18000 Steps) (loss=0.62986): 100%|██████████| 7/7 [00:36<00:00,  5.19s/it]\n",
      "Training (524 / 18000 Steps) (loss=0.54688): 100%|██████████| 7/7 [00:36<00:00,  5.23s/it]\n",
      "Training (531 / 18000 Steps) (loss=0.71260): 100%|██████████| 7/7 [00:36<00:00,  5.28s/it]\n",
      "Training (538 / 18000 Steps) (loss=0.68999): 100%|██████████| 7/7 [00:36<00:00,  5.19s/it]\n",
      "Training (545 / 18000 Steps) (loss=0.59170): 100%|██████████| 7/7 [00:38<00:00,  5.43s/it]\n",
      "Training (552 / 18000 Steps) (loss=0.65623): 100%|██████████| 7/7 [00:36<00:00,  5.24s/it]\n",
      "Training (559 / 18000 Steps) (loss=0.71896): 100%|██████████| 7/7 [00:36<00:00,  5.27s/it]\n",
      "Training (566 / 18000 Steps) (loss=0.48619): 100%|██████████| 7/7 [00:36<00:00,  5.19s/it]\n",
      "Training (573 / 18000 Steps) (loss=0.68168): 100%|██████████| 7/7 [00:36<00:00,  5.15s/it]\n",
      "Training (580 / 18000 Steps) (loss=0.69585): 100%|██████████| 7/7 [00:36<00:00,  5.24s/it]\n",
      "Training (587 / 18000 Steps) (loss=0.61055): 100%|██████████| 7/7 [00:36<00:00,  5.19s/it]\n",
      "Training (594 / 18000 Steps) (loss=0.65389): 100%|██████████| 7/7 [00:36<00:00,  5.17s/it]\n",
      "Validate (595 / 10 Steps): 100%|██████████| 2/2 [00:16<00:00,  8.50s/it]<00:09,  4.51s/it]\n",
      "Training (600 / 18000 Steps) (loss=0.66116):  86%|████████▌ | 6/7 [00:44<00:10, 10.76s/it]"
     ]
    },
    {
     "name": "stdout",
     "output_type": "stream",
     "text": [
      "Model Was Saved ! Current Best Avg. Dice: 0.10179762542247772 Current Avg. Dice: 0.10179762542247772 Current Avg. tumor Dice: 0.14920350909233093 Current Avg. lymph Dice: 0.05439175292849541\n"
     ]
    },
    {
     "name": "stderr",
     "output_type": "stream",
     "text": [
      "Training (601 / 18000 Steps) (loss=0.64257): 100%|██████████| 7/7 [00:48<00:00,  6.90s/it]\n",
      "Training (608 / 18000 Steps) (loss=0.68298): 100%|██████████| 7/7 [00:36<00:00,  5.19s/it]\n",
      "Training (615 / 18000 Steps) (loss=0.67773): 100%|██████████| 7/7 [00:37<00:00,  5.33s/it]\n",
      "Training (622 / 18000 Steps) (loss=0.66858): 100%|██████████| 7/7 [00:36<00:00,  5.18s/it]\n",
      "Training (629 / 18000 Steps) (loss=0.68034): 100%|██████████| 7/7 [00:36<00:00,  5.21s/it]\n",
      "Training (636 / 18000 Steps) (loss=0.58399): 100%|██████████| 7/7 [00:36<00:00,  5.24s/it]\n",
      "Training (643 / 18000 Steps) (loss=0.71577): 100%|██████████| 7/7 [00:36<00:00,  5.23s/it]\n",
      "Training (650 / 18000 Steps) (loss=0.60010): 100%|██████████| 7/7 [00:36<00:00,  5.25s/it]\n",
      "Training (657 / 18000 Steps) (loss=0.73608): 100%|██████████| 7/7 [00:36<00:00,  5.20s/it]\n",
      "Training (664 / 18000 Steps) (loss=0.61518): 100%|██████████| 7/7 [00:36<00:00,  5.20s/it]\n",
      "Training (671 / 18000 Steps) (loss=0.76828): 100%|██████████| 7/7 [00:36<00:00,  5.23s/it]\n",
      "Training (678 / 18000 Steps) (loss=0.61150): 100%|██████████| 7/7 [00:36<00:00,  5.15s/it]\n",
      "Training (685 / 18000 Steps) (loss=0.66101): 100%|██████████| 7/7 [00:30<00:00,  4.33s/it]\n",
      "Training (692 / 18000 Steps) (loss=0.69479): 100%|██████████| 7/7 [00:36<00:00,  5.20s/it]\n",
      "Training (699 / 18000 Steps) (loss=0.65640): 100%|██████████| 7/7 [00:36<00:00,  5.27s/it]\n",
      "Validate (700 / 10 Steps): 100%|██████████| 2/2 [00:16<00:00,  8.42s/it]<?, ?it/s]\n",
      "Training (700 / 18000 Steps) (loss=0.66625):  14%|█▍        | 1/7 [00:25<02:34, 25.73s/it]"
     ]
    },
    {
     "name": "stdout",
     "output_type": "stream",
     "text": [
      "Model Was Saved ! Current Best Avg. Dice: 0.10223556309938431 Current Avg. Dice: 0.10223556309938431 Current Avg. tumor Dice: 0.1449325531721115 Current Avg. lymph Dice: 0.059538573026657104\n"
     ]
    },
    {
     "name": "stderr",
     "output_type": "stream",
     "text": [
      "Training (706 / 18000 Steps) (loss=0.64151): 100%|██████████| 7/7 [00:54<00:00,  7.80s/it]\n",
      "Training (713 / 18000 Steps) (loss=0.68060): 100%|██████████| 7/7 [00:36<00:00,  5.19s/it]\n",
      "Training (720 / 18000 Steps) (loss=0.64379): 100%|██████████| 7/7 [00:37<00:00,  5.33s/it]\n",
      "Training (727 / 18000 Steps) (loss=0.61701): 100%|██████████| 7/7 [00:36<00:00,  5.25s/it]\n",
      "Training (734 / 18000 Steps) (loss=0.57112): 100%|██████████| 7/7 [00:37<00:00,  5.33s/it]\n",
      "Training (741 / 18000 Steps) (loss=0.66758): 100%|██████████| 7/7 [00:36<00:00,  5.26s/it]\n",
      "Training (748 / 18000 Steps) (loss=0.68733): 100%|██████████| 7/7 [00:36<00:00,  5.20s/it]\n",
      "Training (755 / 18000 Steps) (loss=0.63483): 100%|██████████| 7/7 [00:36<00:00,  5.19s/it]\n",
      "Training (762 / 18000 Steps) (loss=0.59413): 100%|██████████| 7/7 [00:36<00:00,  5.20s/it]\n",
      "Training (769 / 18000 Steps) (loss=0.55533): 100%|██████████| 7/7 [00:35<00:00,  5.14s/it]\n",
      "Training (776 / 18000 Steps) (loss=0.61490): 100%|██████████| 7/7 [00:36<00:00,  5.15s/it]\n",
      "Training (783 / 18000 Steps) (loss=0.64380): 100%|██████████| 7/7 [00:36<00:00,  5.19s/it]\n",
      "Training (790 / 18000 Steps) (loss=0.60887): 100%|██████████| 7/7 [00:37<00:00,  5.31s/it]\n",
      "Training (797 / 18000 Steps) (loss=0.64963): 100%|██████████| 7/7 [00:36<00:00,  5.21s/it]\n",
      "Validate (798 / 10 Steps): 100%|██████████| 2/2 [00:16<00:00,  8.42s/it]<00:30,  6.16s/it]\n",
      "Training (800 / 18000 Steps) (loss=0.67550):  43%|████▎     | 3/7 [00:35<00:55, 13.79s/it]"
     ]
    },
    {
     "name": "stdout",
     "output_type": "stream",
     "text": [
      "Model Was Saved ! Current Best Avg. Dice: 0.11227038502693176 Current Avg. Dice: 0.11227038502693176 Current Avg. tumor Dice: 0.1518820822238922 Current Avg. lymph Dice: 0.07265868037939072\n"
     ]
    },
    {
     "name": "stderr",
     "output_type": "stream",
     "text": [
      "Training (804 / 18000 Steps) (loss=0.70195): 100%|██████████| 7/7 [00:55<00:00,  7.87s/it]\n",
      "Training (811 / 18000 Steps) (loss=0.61375): 100%|██████████| 7/7 [00:36<00:00,  5.19s/it]\n",
      "Training (818 / 18000 Steps) (loss=0.67007): 100%|██████████| 7/7 [00:36<00:00,  5.20s/it]\n",
      "Training (825 / 18000 Steps) (loss=0.66657): 100%|██████████| 7/7 [00:36<00:00,  5.19s/it]\n",
      "Training (832 / 18000 Steps) (loss=0.60245): 100%|██████████| 7/7 [00:37<00:00,  5.32s/it]\n",
      "Training (839 / 18000 Steps) (loss=0.53431): 100%|██████████| 7/7 [00:35<00:00,  5.06s/it]\n",
      "Training (846 / 18000 Steps) (loss=0.63922): 100%|██████████| 7/7 [00:33<00:00,  4.83s/it]\n",
      "Training (853 / 18000 Steps) (loss=0.64029): 100%|██████████| 7/7 [00:35<00:00,  5.11s/it]\n",
      "Training (860 / 18000 Steps) (loss=0.69503): 100%|██████████| 7/7 [00:35<00:00,  5.12s/it]\n",
      "Training (867 / 18000 Steps) (loss=0.59466): 100%|██████████| 7/7 [00:35<00:00,  5.13s/it]\n",
      "Training (874 / 18000 Steps) (loss=0.63634): 100%|██████████| 7/7 [00:36<00:00,  5.26s/it]\n",
      "Training (881 / 18000 Steps) (loss=0.72880): 100%|██████████| 7/7 [00:36<00:00,  5.20s/it]\n",
      "Training (888 / 18000 Steps) (loss=0.67676): 100%|██████████| 7/7 [00:37<00:00,  5.29s/it]\n",
      "Training (895 / 18000 Steps) (loss=0.51914): 100%|██████████| 7/7 [00:36<00:00,  5.17s/it]\n",
      "Validate (896 / 10 Steps): 100%|██████████| 2/2 [00:16<00:00,  8.45s/it]<00:16,  5.42s/it]\n",
      "Training (900 / 18000 Steps) (loss=0.62813):  71%|███████▏  | 5/7 [00:45<00:23, 11.65s/it]"
     ]
    },
    {
     "name": "stdout",
     "output_type": "stream",
     "text": [
      "Model Was Saved ! Current Best Avg. Dice: 0.13440397381782532 Current Avg. Dice: 0.13440397381782532 Current Avg. tumor Dice: 0.1722813844680786 Current Avg. lymph Dice: 0.09652656316757202\n"
     ]
    },
    {
     "name": "stderr",
     "output_type": "stream",
     "text": [
      "Training (902 / 18000 Steps) (loss=0.59858): 100%|██████████| 7/7 [00:54<00:00,  7.84s/it]\n",
      "Training (909 / 18000 Steps) (loss=0.60713): 100%|██████████| 7/7 [00:36<00:00,  5.21s/it]\n",
      "Training (916 / 18000 Steps) (loss=0.61229): 100%|██████████| 7/7 [00:36<00:00,  5.21s/it]\n",
      "Training (923 / 18000 Steps) (loss=0.64779): 100%|██████████| 7/7 [00:35<00:00,  5.07s/it]\n",
      "Training (930 / 18000 Steps) (loss=0.68613): 100%|██████████| 7/7 [00:35<00:00,  5.06s/it]\n",
      "Training (937 / 18000 Steps) (loss=0.51871): 100%|██████████| 7/7 [00:36<00:00,  5.16s/it]\n",
      "Training (944 / 18000 Steps) (loss=0.56503): 100%|██████████| 7/7 [00:36<00:00,  5.21s/it]\n",
      "Training (951 / 18000 Steps) (loss=0.58185): 100%|██████████| 7/7 [00:35<00:00,  5.10s/it]\n",
      "Training (958 / 18000 Steps) (loss=0.57006): 100%|██████████| 7/7 [00:36<00:00,  5.17s/it]\n",
      "Training (965 / 18000 Steps) (loss=0.65037): 100%|██████████| 7/7 [00:36<00:00,  5.21s/it]\n",
      "Training (972 / 18000 Steps) (loss=0.64142): 100%|██████████| 7/7 [00:36<00:00,  5.22s/it]\n",
      "Training (979 / 18000 Steps) (loss=0.62098): 100%|██████████| 7/7 [00:36<00:00,  5.19s/it]\n",
      "Training (986 / 18000 Steps) (loss=0.65197): 100%|██████████| 7/7 [00:36<00:00,  5.21s/it]\n",
      "Training (993 / 18000 Steps) (loss=0.66943): 100%|██████████| 7/7 [00:35<00:00,  5.12s/it]\n",
      "Validate (994 / 10 Steps): 100%|██████████| 2/2 [00:16<00:00,  8.44s/it]5<00:05,  5.01s/it]\n",
      "Training (1000 / 18000 Steps) (loss=0.64426): 100%|██████████| 7/7 [00:53<00:00,  7.68s/it]\n"
     ]
    },
    {
     "name": "stdout",
     "output_type": "stream",
     "text": [
      "Model Was Saved ! Current Best Avg. Dice: 0.13515011966228485 Current Avg. Dice: 0.13515011966228485 Current Avg. tumor Dice: 0.1777077615261078 Current Avg. lymph Dice: 0.09259247034788132\n"
     ]
    },
    {
     "name": "stderr",
     "output_type": "stream",
     "text": [
      "Training (1007 / 18000 Steps) (loss=0.52833): 100%|██████████| 7/7 [00:35<00:00,  5.10s/it]\n",
      "Training (1014 / 18000 Steps) (loss=0.56010): 100%|██████████| 7/7 [00:37<00:00,  5.33s/it]\n",
      "Training (1021 / 18000 Steps) (loss=0.51128): 100%|██████████| 7/7 [00:32<00:00,  4.63s/it]\n",
      "Training (1028 / 18000 Steps) (loss=0.64194): 100%|██████████| 7/7 [00:35<00:00,  5.13s/it]\n",
      "Training (1035 / 18000 Steps) (loss=0.54494): 100%|██████████| 7/7 [00:36<00:00,  5.20s/it]\n",
      "Training (1042 / 18000 Steps) (loss=0.54566): 100%|██████████| 7/7 [00:37<00:00,  5.32s/it]\n",
      "Training (1049 / 18000 Steps) (loss=0.65788): 100%|██████████| 7/7 [00:35<00:00,  5.06s/it]\n",
      "Training (1056 / 18000 Steps) (loss=0.64830): 100%|██████████| 7/7 [00:37<00:00,  5.33s/it]\n",
      "Training (1063 / 18000 Steps) (loss=0.74989): 100%|██████████| 7/7 [00:35<00:00,  5.07s/it]\n",
      "Training (1070 / 18000 Steps) (loss=0.65447): 100%|██████████| 7/7 [00:36<00:00,  5.21s/it]\n",
      "Training (1077 / 18000 Steps) (loss=0.63807): 100%|██████████| 7/7 [00:36<00:00,  5.20s/it]\n",
      "Training (1084 / 18000 Steps) (loss=0.57457): 100%|██████████| 7/7 [00:36<00:00,  5.22s/it]\n",
      "Training (1091 / 18000 Steps) (loss=0.60830): 100%|██████████| 7/7 [00:36<00:00,  5.28s/it]\n",
      "Training (1098 / 18000 Steps) (loss=0.62656): 100%|██████████| 7/7 [00:36<00:00,  5.25s/it]\n",
      "Validate (1099 / 10 Steps): 100%|██████████| 2/2 [00:13<00:00,  6.60s/it]<00:45,  7.59s/it]\n",
      "Training (1100 / 18000 Steps) (loss=0.54994):  29%|██▊       | 2/7 [00:26<01:12, 14.44s/it]"
     ]
    },
    {
     "name": "stdout",
     "output_type": "stream",
     "text": [
      "Model Was Saved ! Current Best Avg. Dice: 0.15366220474243164 Current Avg. Dice: 0.15366220474243164 Current Avg. tumor Dice: 0.174648717045784 Current Avg. lymph Dice: 0.13267569243907928\n"
     ]
    },
    {
     "name": "stderr",
     "output_type": "stream",
     "text": [
      "Training (1105 / 18000 Steps) (loss=0.61140): 100%|██████████| 7/7 [00:50<00:00,  7.20s/it]\n",
      "Training (1112 / 18000 Steps) (loss=0.63729): 100%|██████████| 7/7 [00:37<00:00,  5.29s/it]\n",
      "Training (1119 / 18000 Steps) (loss=0.49794): 100%|██████████| 7/7 [00:37<00:00,  5.33s/it]\n",
      "Training (1126 / 18000 Steps) (loss=0.60536): 100%|██████████| 7/7 [00:36<00:00,  5.20s/it]\n",
      "Training (1133 / 18000 Steps) (loss=0.57016): 100%|██████████| 7/7 [00:36<00:00,  5.21s/it]\n",
      "Training (1140 / 18000 Steps) (loss=0.63367): 100%|██████████| 7/7 [00:37<00:00,  5.34s/it]\n",
      "Training (1147 / 18000 Steps) (loss=0.64716): 100%|██████████| 7/7 [00:36<00:00,  5.20s/it]\n",
      "Training (1154 / 18000 Steps) (loss=0.54362): 100%|██████████| 7/7 [00:35<00:00,  5.12s/it]\n",
      "Training (1161 / 18000 Steps) (loss=0.49425): 100%|██████████| 7/7 [00:36<00:00,  5.29s/it]\n",
      "Training (1168 / 18000 Steps) (loss=0.51852): 100%|██████████| 7/7 [00:36<00:00,  5.20s/it]\n",
      "Training (1175 / 18000 Steps) (loss=0.50557): 100%|██████████| 7/7 [00:37<00:00,  5.33s/it]\n",
      "Training (1182 / 18000 Steps) (loss=0.62045): 100%|██████████| 7/7 [00:36<00:00,  5.20s/it]\n",
      "Training (1189 / 18000 Steps) (loss=0.62557): 100%|██████████| 7/7 [00:18<00:00,  2.59s/it]\n",
      "Training (1196 / 18000 Steps) (loss=0.54065): 100%|██████████| 7/7 [00:15<00:00,  2.15s/it]\n",
      "Validate (1197 / 10 Steps): 100%|██████████| 2/2 [00:09<00:00,  4.85s/it]<00:09,  2.41s/it]\n",
      "Training (1200 / 18000 Steps) (loss=0.63462):  57%|█████▋    | 4/7 [00:19<00:17,  5.99s/it]"
     ]
    },
    {
     "name": "stdout",
     "output_type": "stream",
     "text": [
      "Model Was Not Saved ! Current Best Avg. Dice: 0.15366220474243164 Current Avg. Dice: 0.12940475344657898 Current Avg. tumor Dice: 0.17807090282440186 Current Avg. lymph Dice: 0.0807385966181755\n"
     ]
    },
    {
     "name": "stderr",
     "output_type": "stream",
     "text": [
      "Training (1203 / 18000 Steps) (loss=0.75180): 100%|██████████| 7/7 [00:24<00:00,  3.49s/it]\n",
      "Training (1210 / 18000 Steps) (loss=0.45295): 100%|██████████| 7/7 [00:14<00:00,  2.09s/it]\n",
      "Training (1217 / 18000 Steps) (loss=0.54382): 100%|██████████| 7/7 [00:14<00:00,  2.09s/it]\n",
      "Training (1224 / 18000 Steps) (loss=0.57480): 100%|██████████| 7/7 [00:14<00:00,  2.09s/it]\n",
      "Training (1231 / 18000 Steps) (loss=0.67374): 100%|██████████| 7/7 [00:14<00:00,  2.09s/it]\n",
      "Training (1238 / 18000 Steps) (loss=0.68488): 100%|██████████| 7/7 [00:14<00:00,  2.07s/it]\n",
      "Training (1245 / 18000 Steps) (loss=0.55987): 100%|██████████| 7/7 [00:14<00:00,  2.06s/it]\n",
      "Training (1252 / 18000 Steps) (loss=0.58167): 100%|██████████| 7/7 [00:14<00:00,  2.10s/it]\n",
      "Training (1259 / 18000 Steps) (loss=0.59151): 100%|██████████| 7/7 [00:14<00:00,  2.09s/it]\n",
      "Training (1266 / 18000 Steps) (loss=0.61900): 100%|██████████| 7/7 [00:14<00:00,  2.08s/it]\n",
      "Training (1273 / 18000 Steps) (loss=0.63605): 100%|██████████| 7/7 [00:14<00:00,  2.09s/it]\n",
      "Training (1280 / 18000 Steps) (loss=0.69727): 100%|██████████| 7/7 [00:14<00:00,  2.12s/it]\n",
      "Training (1287 / 18000 Steps) (loss=0.63479): 100%|██████████| 7/7 [00:14<00:00,  2.09s/it]\n",
      "Training (1294 / 18000 Steps) (loss=0.60864): 100%|██████████| 7/7 [00:14<00:00,  2.09s/it]\n",
      "Validate (1295 / 10 Steps): 100%|██████████| 2/2 [00:09<00:00,  4.83s/it]<00:03,  1.99s/it]\n",
      "Training (1300 / 18000 Steps) (loss=0.62074):  86%|████████▌ | 6/7 [00:23<00:05,  5.22s/it]"
     ]
    },
    {
     "name": "stdout",
     "output_type": "stream",
     "text": [
      "Model Was Not Saved ! Current Best Avg. Dice: 0.15366220474243164 Current Avg. Dice: 0.14178258180618286 Current Avg. tumor Dice: 0.20206160843372345 Current Avg. lymph Dice: 0.08150355517864227\n"
     ]
    },
    {
     "name": "stderr",
     "output_type": "stream",
     "text": [
      "Training (1301 / 18000 Steps) (loss=0.62091): 100%|██████████| 7/7 [00:24<00:00,  3.51s/it]\n",
      "Training (1308 / 18000 Steps) (loss=0.74821): 100%|██████████| 7/7 [00:14<00:00,  2.08s/it]\n",
      "Training (1315 / 18000 Steps) (loss=0.65778): 100%|██████████| 7/7 [00:14<00:00,  2.12s/it]\n",
      "Training (1322 / 18000 Steps) (loss=0.65943): 100%|██████████| 7/7 [00:14<00:00,  2.10s/it]\n",
      "Training (1329 / 18000 Steps) (loss=0.60605): 100%|██████████| 7/7 [00:14<00:00,  2.08s/it]\n",
      "Training (1336 / 18000 Steps) (loss=0.54019): 100%|██████████| 7/7 [00:14<00:00,  2.10s/it]\n",
      "Training (1343 / 18000 Steps) (loss=0.58290): 100%|██████████| 7/7 [00:14<00:00,  2.08s/it]\n",
      "Training (1350 / 18000 Steps) (loss=0.49893): 100%|██████████| 7/7 [00:14<00:00,  2.08s/it]\n",
      "Training (1357 / 18000 Steps) (loss=0.53074): 100%|██████████| 7/7 [00:14<00:00,  2.08s/it]\n",
      "Training (1364 / 18000 Steps) (loss=0.60074): 100%|██████████| 7/7 [00:14<00:00,  2.10s/it]\n",
      "Training (1371 / 18000 Steps) (loss=0.54682): 100%|██████████| 7/7 [00:14<00:00,  2.09s/it]\n",
      "Training (1378 / 18000 Steps) (loss=0.60239): 100%|██████████| 7/7 [00:14<00:00,  2.09s/it]\n",
      "Training (1385 / 18000 Steps) (loss=0.63755): 100%|██████████| 7/7 [00:14<00:00,  2.07s/it]\n",
      "Training (1392 / 18000 Steps) (loss=0.66415): 100%|██████████| 7/7 [00:14<00:00,  2.06s/it]\n",
      "Training (1399 / 18000 Steps) (loss=0.55474): 100%|██████████| 7/7 [00:14<00:00,  2.09s/it]\n",
      "Validate (1400 / 10 Steps): 100%|██████████| 2/2 [00:09<00:00,  4.86s/it]<?, ?it/s]\n",
      "Training (1400 / 18000 Steps) (loss=0.63695):  14%|█▍        | 1/7 [00:15<01:32, 15.36s/it]"
     ]
    },
    {
     "name": "stdout",
     "output_type": "stream",
     "text": [
      "Model Was Saved ! Current Best Avg. Dice: 0.19649368524551392 Current Avg. Dice: 0.19649368524551392 Current Avg. tumor Dice: 0.23045885562896729 Current Avg. lymph Dice: 0.16252851486206055\n"
     ]
    },
    {
     "name": "stderr",
     "output_type": "stream",
     "text": [
      "Training (1406 / 18000 Steps) (loss=0.61118): 100%|██████████| 7/7 [00:25<00:00,  3.62s/it]\n",
      "Training (1413 / 18000 Steps) (loss=0.71425): 100%|██████████| 7/7 [00:14<00:00,  2.12s/it]\n",
      "Training (1420 / 18000 Steps) (loss=0.61428): 100%|██████████| 7/7 [00:14<00:00,  2.14s/it]\n",
      "Training (1427 / 18000 Steps) (loss=0.72383): 100%|██████████| 7/7 [00:14<00:00,  2.10s/it]\n",
      "Training (1434 / 18000 Steps) (loss=0.58870): 100%|██████████| 7/7 [00:14<00:00,  2.13s/it]\n",
      "Training (1441 / 18000 Steps) (loss=0.52067): 100%|██████████| 7/7 [00:14<00:00,  2.10s/it]\n",
      "Training (1448 / 18000 Steps) (loss=0.52411): 100%|██████████| 7/7 [00:15<00:00,  2.18s/it]\n",
      "Training (1455 / 18000 Steps) (loss=0.57099): 100%|██████████| 7/7 [00:15<00:00,  2.15s/it]\n",
      "Training (1462 / 18000 Steps) (loss=0.68556): 100%|██████████| 7/7 [00:14<00:00,  2.11s/it]\n",
      "Training (1469 / 18000 Steps) (loss=0.65939): 100%|██████████| 7/7 [00:15<00:00,  2.22s/it]\n",
      "Training (1476 / 18000 Steps) (loss=0.63481): 100%|██████████| 7/7 [00:14<00:00,  2.10s/it]\n",
      "Training (1483 / 18000 Steps) (loss=0.71653): 100%|██████████| 7/7 [00:15<00:00,  2.17s/it]\n",
      "Training (1490 / 18000 Steps) (loss=0.61887): 100%|██████████| 7/7 [00:15<00:00,  2.15s/it]\n",
      "Training (1497 / 18000 Steps) (loss=0.40064): 100%|██████████| 7/7 [00:14<00:00,  2.13s/it]\n",
      "Validate (1498 / 10 Steps): 100%|██████████| 2/2 [00:09<00:00,  4.88s/it]<00:15,  3.04s/it]\n",
      "Training (1500 / 18000 Steps) (loss=0.55896):  43%|████▎     | 3/7 [00:18<00:27,  6.90s/it]"
     ]
    },
    {
     "name": "stdout",
     "output_type": "stream",
     "text": [
      "Model Was Not Saved ! Current Best Avg. Dice: 0.19649368524551392 Current Avg. Dice: 0.1884116679430008 Current Avg. tumor Dice: 0.2731080651283264 Current Avg. lymph Dice: 0.10371527075767517\n"
     ]
    },
    {
     "name": "stderr",
     "output_type": "stream",
     "text": [
      "Training (1504 / 18000 Steps) (loss=0.65641): 100%|██████████| 7/7 [00:24<00:00,  3.50s/it]\n",
      "Training (1511 / 18000 Steps) (loss=0.50595): 100%|██████████| 7/7 [00:14<00:00,  2.06s/it]\n",
      "Training (1518 / 18000 Steps) (loss=0.61923): 100%|██████████| 7/7 [00:14<00:00,  2.06s/it]\n",
      "Training (1525 / 18000 Steps) (loss=0.59537): 100%|██████████| 7/7 [00:14<00:00,  2.07s/it]\n",
      "Training (1532 / 18000 Steps) (loss=0.52461): 100%|██████████| 7/7 [00:14<00:00,  2.09s/it]\n",
      "Training (1539 / 18000 Steps) (loss=0.57285): 100%|██████████| 7/7 [00:14<00:00,  2.13s/it]\n",
      "Training (1546 / 18000 Steps) (loss=0.61360): 100%|██████████| 7/7 [00:14<00:00,  2.08s/it]\n",
      "Training (1553 / 18000 Steps) (loss=0.69691): 100%|██████████| 7/7 [00:14<00:00,  2.12s/it]\n",
      "Training (1560 / 18000 Steps) (loss=0.68765): 100%|██████████| 7/7 [00:14<00:00,  2.08s/it]\n",
      "Training (1567 / 18000 Steps) (loss=0.67945): 100%|██████████| 7/7 [00:14<00:00,  2.05s/it]\n",
      "Training (1574 / 18000 Steps) (loss=0.37928): 100%|██████████| 7/7 [00:14<00:00,  2.07s/it]\n",
      "Training (1581 / 18000 Steps) (loss=0.56342): 100%|██████████| 7/7 [00:14<00:00,  2.08s/it]\n",
      "Training (1588 / 18000 Steps) (loss=0.57575): 100%|██████████| 7/7 [00:14<00:00,  2.06s/it]\n",
      "Training (1595 / 18000 Steps) (loss=0.62047): 100%|██████████| 7/7 [00:14<00:00,  2.07s/it]\n",
      "Validate (1596 / 10 Steps): 100%|██████████| 2/2 [00:09<00:00,  4.88s/it]<00:06,  2.13s/it]\n",
      "Training (1600 / 18000 Steps) (loss=0.63975):  71%|███████▏  | 5/7 [00:22<00:11,  5.89s/it]"
     ]
    },
    {
     "name": "stdout",
     "output_type": "stream",
     "text": [
      "Model Was Saved ! Current Best Avg. Dice: 0.2007254958152771 Current Avg. Dice: 0.2007254958152771 Current Avg. tumor Dice: 0.23505330085754395 Current Avg. lymph Dice: 0.16639766097068787\n"
     ]
    },
    {
     "name": "stderr",
     "output_type": "stream",
     "text": [
      "Training (1602 / 18000 Steps) (loss=0.54751): 100%|██████████| 7/7 [00:25<00:00,  3.62s/it]\n",
      "Training (1609 / 18000 Steps) (loss=0.59083): 100%|██████████| 7/7 [00:14<00:00,  2.10s/it]\n",
      "Training (1616 / 18000 Steps) (loss=0.64141): 100%|██████████| 7/7 [00:14<00:00,  2.07s/it]\n",
      "Training (1623 / 18000 Steps) (loss=0.55457): 100%|██████████| 7/7 [00:14<00:00,  2.08s/it]\n",
      "Training (1630 / 18000 Steps) (loss=0.58372): 100%|██████████| 7/7 [00:14<00:00,  2.14s/it]\n",
      "Training (1637 / 18000 Steps) (loss=0.65140): 100%|██████████| 7/7 [00:14<00:00,  2.08s/it]\n",
      "Training (1644 / 18000 Steps) (loss=0.65437): 100%|██████████| 7/7 [00:14<00:00,  2.07s/it]\n",
      "Training (1651 / 18000 Steps) (loss=0.63906): 100%|██████████| 7/7 [00:14<00:00,  2.07s/it]\n",
      "Training (1658 / 18000 Steps) (loss=0.60798): 100%|██████████| 7/7 [00:15<00:00,  2.16s/it]\n",
      "Training (1665 / 18000 Steps) (loss=0.55842): 100%|██████████| 7/7 [00:14<00:00,  2.07s/it]\n",
      "Training (1672 / 18000 Steps) (loss=0.59991): 100%|██████████| 7/7 [00:14<00:00,  2.09s/it]\n",
      "Training (1679 / 18000 Steps) (loss=0.50177): 100%|██████████| 7/7 [00:14<00:00,  2.08s/it]\n",
      "Training (1686 / 18000 Steps) (loss=0.62794): 100%|██████████| 7/7 [00:14<00:00,  2.10s/it]\n",
      "Training (1693 / 18000 Steps) (loss=0.52694): 100%|██████████| 7/7 [00:14<00:00,  2.10s/it]\n",
      "Validate (1694 / 10 Steps): 100%|██████████| 2/2 [00:09<00:00,  4.89s/it]<00:02,  2.03s/it]\n",
      "Training (1700 / 18000 Steps) (loss=0.57385): 100%|██████████| 7/7 [00:25<00:00,  3.61s/it]\n"
     ]
    },
    {
     "name": "stdout",
     "output_type": "stream",
     "text": [
      "Model Was Not Saved ! Current Best Avg. Dice: 0.2007254958152771 Current Avg. Dice: 0.19040009379386902 Current Avg. tumor Dice: 0.19822265207767487 Current Avg. lymph Dice: 0.18257752060890198\n"
     ]
    },
    {
     "name": "stderr",
     "output_type": "stream",
     "text": [
      "Training (1707 / 18000 Steps) (loss=0.57707): 100%|██████████| 7/7 [00:14<00:00,  2.12s/it]\n",
      "Training (1714 / 18000 Steps) (loss=0.58827): 100%|██████████| 7/7 [00:14<00:00,  2.14s/it]\n",
      "Training (1721 / 18000 Steps) (loss=0.57792): 100%|██████████| 7/7 [00:14<00:00,  2.12s/it]\n",
      "Training (1728 / 18000 Steps) (loss=0.54674): 100%|██████████| 7/7 [00:14<00:00,  2.10s/it]\n",
      "Training (1735 / 18000 Steps) (loss=0.61110): 100%|██████████| 7/7 [00:14<00:00,  2.11s/it]\n",
      "Training (1742 / 18000 Steps) (loss=0.63329): 100%|██████████| 7/7 [00:14<00:00,  2.10s/it]\n",
      "Training (1749 / 18000 Steps) (loss=0.63040): 100%|██████████| 7/7 [00:14<00:00,  2.09s/it]\n",
      "Training (1756 / 18000 Steps) (loss=0.58925): 100%|██████████| 7/7 [00:14<00:00,  2.12s/it]\n",
      "Training (1763 / 18000 Steps) (loss=0.68626): 100%|██████████| 7/7 [00:14<00:00,  2.09s/it]\n",
      "Training (1770 / 18000 Steps) (loss=0.46324): 100%|██████████| 7/7 [00:14<00:00,  2.12s/it]\n",
      "Training (1777 / 18000 Steps) (loss=0.62273): 100%|██████████| 7/7 [00:14<00:00,  2.07s/it]\n",
      "Training (1784 / 18000 Steps) (loss=0.62066): 100%|██████████| 7/7 [00:14<00:00,  2.08s/it]\n",
      "Training (1791 / 18000 Steps) (loss=0.61655): 100%|██████████| 7/7 [00:14<00:00,  2.07s/it]\n",
      "Training (1798 / 18000 Steps) (loss=0.64398): 100%|██████████| 7/7 [00:14<00:00,  2.05s/it]\n",
      "Validate (1799 / 10 Steps): 100%|██████████| 2/2 [00:09<00:00,  4.85s/it]<00:29,  4.85s/it]\n",
      "Training (1800 / 18000 Steps) (loss=0.63902):  29%|██▊       | 2/7 [00:17<00:46,  9.34s/it]"
     ]
    },
    {
     "name": "stdout",
     "output_type": "stream",
     "text": [
      "Model Was Saved ! Current Best Avg. Dice: 0.20845651626586914 Current Avg. Dice: 0.20845651626586914 Current Avg. tumor Dice: 0.22385375201702118 Current Avg. lymph Dice: 0.1930592656135559\n"
     ]
    },
    {
     "name": "stderr",
     "output_type": "stream",
     "text": [
      "Training (1805 / 18000 Steps) (loss=0.62873): 100%|██████████| 7/7 [00:25<00:00,  3.63s/it]\n",
      "Training (1812 / 18000 Steps) (loss=0.55059): 100%|██████████| 7/7 [00:14<00:00,  2.11s/it]\n",
      "Training (1819 / 18000 Steps) (loss=0.62663): 100%|██████████| 7/7 [00:14<00:00,  2.09s/it]\n",
      "Training (1826 / 18000 Steps) (loss=0.65523): 100%|██████████| 7/7 [00:14<00:00,  2.09s/it]\n",
      "Training (1833 / 18000 Steps) (loss=0.46101): 100%|██████████| 7/7 [00:14<00:00,  2.07s/it]\n",
      "Training (1840 / 18000 Steps) (loss=0.79231): 100%|██████████| 7/7 [00:14<00:00,  2.06s/it]\n",
      "Training (1847 / 18000 Steps) (loss=0.50649): 100%|██████████| 7/7 [00:14<00:00,  2.04s/it]\n",
      "Training (1854 / 18000 Steps) (loss=0.61053): 100%|██████████| 7/7 [00:14<00:00,  2.13s/it]\n",
      "Training (1861 / 18000 Steps) (loss=0.50726): 100%|██████████| 7/7 [00:14<00:00,  2.11s/it]\n",
      "Training (1868 / 18000 Steps) (loss=0.61534): 100%|██████████| 7/7 [00:14<00:00,  2.11s/it]\n",
      "Training (1875 / 18000 Steps) (loss=0.59515): 100%|██████████| 7/7 [00:14<00:00,  2.11s/it]\n",
      "Training (1882 / 18000 Steps) (loss=0.54952): 100%|██████████| 7/7 [00:14<00:00,  2.11s/it]\n",
      "Training (1889 / 18000 Steps) (loss=0.53041): 100%|██████████| 7/7 [00:14<00:00,  2.08s/it]\n",
      "Training (1896 / 18000 Steps) (loss=0.42146): 100%|██████████| 7/7 [00:14<00:00,  2.08s/it]\n",
      "Validate (1897 / 10 Steps): 100%|██████████| 2/2 [00:09<00:00,  4.85s/it]<00:10,  2.55s/it]\n",
      "Training (1900 / 18000 Steps) (loss=0.62115):  57%|█████▋    | 4/7 [00:20<00:18,  6.07s/it]"
     ]
    },
    {
     "name": "stdout",
     "output_type": "stream",
     "text": [
      "Model Was Not Saved ! Current Best Avg. Dice: 0.20845651626586914 Current Avg. Dice: 0.20722664892673492 Current Avg. tumor Dice: 0.23225896060466766 Current Avg. lymph Dice: 0.182194322347641\n"
     ]
    },
    {
     "name": "stderr",
     "output_type": "stream",
     "text": [
      "Training (1903 / 18000 Steps) (loss=0.58927): 100%|██████████| 7/7 [00:24<00:00,  3.53s/it]\n",
      "Training (1910 / 18000 Steps) (loss=0.68952): 100%|██████████| 7/7 [00:14<00:00,  2.08s/it]\n",
      "Training (1917 / 18000 Steps) (loss=0.62193): 100%|██████████| 7/7 [00:14<00:00,  2.11s/it]\n",
      "Training (1924 / 18000 Steps) (loss=0.65299): 100%|██████████| 7/7 [00:14<00:00,  2.07s/it]\n",
      "Training (1931 / 18000 Steps) (loss=0.70986): 100%|██████████| 7/7 [00:14<00:00,  2.06s/it]\n",
      "Training (1938 / 18000 Steps) (loss=0.57790): 100%|██████████| 7/7 [00:14<00:00,  2.12s/it]\n",
      "Training (1945 / 18000 Steps) (loss=0.74419): 100%|██████████| 7/7 [00:14<00:00,  2.12s/it]\n",
      "Training (1952 / 18000 Steps) (loss=0.57076): 100%|██████████| 7/7 [00:14<00:00,  2.14s/it]\n",
      "Training (1959 / 18000 Steps) (loss=0.64354): 100%|██████████| 7/7 [00:14<00:00,  2.11s/it]\n",
      "Training (1966 / 18000 Steps) (loss=0.59038): 100%|██████████| 7/7 [00:14<00:00,  2.08s/it]\n",
      "Training (1973 / 18000 Steps) (loss=0.55356): 100%|██████████| 7/7 [00:14<00:00,  2.11s/it]\n",
      "Training (1980 / 18000 Steps) (loss=0.56406): 100%|██████████| 7/7 [00:14<00:00,  2.10s/it]\n",
      "Training (1987 / 18000 Steps) (loss=0.70453): 100%|██████████| 7/7 [00:14<00:00,  2.13s/it]\n",
      "Training (1994 / 18000 Steps) (loss=0.66199): 100%|██████████| 7/7 [00:14<00:00,  2.08s/it]\n",
      "Validate (1995 / 10 Steps): 100%|██████████| 2/2 [00:09<00:00,  4.93s/it]<00:03,  1.97s/it]\n",
      "Training (2000 / 18000 Steps) (loss=0.55621):  86%|████████▌ | 6/7 [00:23<00:05,  5.33s/it]"
     ]
    },
    {
     "name": "stdout",
     "output_type": "stream",
     "text": [
      "Model Was Not Saved ! Current Best Avg. Dice: 0.20845651626586914 Current Avg. Dice: 0.1888495683670044 Current Avg. tumor Dice: 0.2097676694393158 Current Avg. lymph Dice: 0.1679314374923706\n"
     ]
    },
    {
     "name": "stderr",
     "output_type": "stream",
     "text": [
      "Training (2001 / 18000 Steps) (loss=0.73202): 100%|██████████| 7/7 [00:24<00:00,  3.50s/it]\n",
      "Training (2008 / 18000 Steps) (loss=0.65609): 100%|██████████| 7/7 [00:14<00:00,  2.09s/it]\n",
      "Training (2015 / 18000 Steps) (loss=0.54593): 100%|██████████| 7/7 [00:14<00:00,  2.13s/it]\n",
      "Training (2022 / 18000 Steps) (loss=0.71642): 100%|██████████| 7/7 [00:14<00:00,  2.09s/it]\n",
      "Training (2029 / 18000 Steps) (loss=0.65425): 100%|██████████| 7/7 [00:14<00:00,  2.10s/it]\n",
      "Training (2036 / 18000 Steps) (loss=0.67771): 100%|██████████| 7/7 [00:14<00:00,  2.06s/it]\n",
      "Training (2043 / 18000 Steps) (loss=0.61008): 100%|██████████| 7/7 [00:14<00:00,  2.09s/it]\n",
      "Training (2050 / 18000 Steps) (loss=0.65100): 100%|██████████| 7/7 [00:14<00:00,  2.08s/it]\n",
      "Training (2057 / 18000 Steps) (loss=0.63976): 100%|██████████| 7/7 [00:14<00:00,  2.11s/it]\n",
      "Training (2064 / 18000 Steps) (loss=0.66425): 100%|██████████| 7/7 [00:14<00:00,  2.11s/it]\n",
      "Training (2071 / 18000 Steps) (loss=0.61299): 100%|██████████| 7/7 [00:14<00:00,  2.10s/it]\n",
      "Training (2078 / 18000 Steps) (loss=0.48202): 100%|██████████| 7/7 [00:14<00:00,  2.09s/it]\n",
      "Training (2085 / 18000 Steps) (loss=0.62918): 100%|██████████| 7/7 [00:14<00:00,  2.09s/it]\n",
      "Training (2092 / 18000 Steps) (loss=0.53848): 100%|██████████| 7/7 [00:14<00:00,  2.08s/it]\n",
      "Training (2099 / 18000 Steps) (loss=0.65036): 100%|██████████| 7/7 [00:14<00:00,  2.10s/it]\n",
      "Validate (2100 / 10 Steps): 100%|██████████| 2/2 [00:10<00:00,  5.17s/it]<?, ?it/s]\n",
      "Training (2100 / 18000 Steps) (loss=0.53740):  14%|█▍        | 1/7 [00:16<01:36, 16.04s/it]"
     ]
    },
    {
     "name": "stdout",
     "output_type": "stream",
     "text": [
      "Model Was Saved ! Current Best Avg. Dice: 0.22200939059257507 Current Avg. Dice: 0.22200939059257507 Current Avg. tumor Dice: 0.2597089409828186 Current Avg. lymph Dice: 0.18430981040000916\n"
     ]
    },
    {
     "name": "stderr",
     "output_type": "stream",
     "text": [
      "Training (2106 / 18000 Steps) (loss=0.55714): 100%|██████████| 7/7 [00:25<00:00,  3.71s/it]\n",
      "Training (2113 / 18000 Steps) (loss=0.55957): 100%|██████████| 7/7 [00:14<00:00,  2.08s/it]\n",
      "Training (2120 / 18000 Steps) (loss=0.63823): 100%|██████████| 7/7 [00:14<00:00,  2.08s/it]\n",
      "Training (2127 / 18000 Steps) (loss=0.51635): 100%|██████████| 7/7 [00:14<00:00,  2.06s/it]\n",
      "Training (2134 / 18000 Steps) (loss=0.60444): 100%|██████████| 7/7 [00:14<00:00,  2.08s/it]\n",
      "Training (2141 / 18000 Steps) (loss=0.67381): 100%|██████████| 7/7 [00:14<00:00,  2.11s/it]\n",
      "Training (2148 / 18000 Steps) (loss=0.46638): 100%|██████████| 7/7 [00:14<00:00,  2.11s/it]\n",
      "Training (2155 / 18000 Steps) (loss=0.51582): 100%|██████████| 7/7 [00:14<00:00,  2.11s/it]\n",
      "Training (2162 / 18000 Steps) (loss=0.64091): 100%|██████████| 7/7 [00:14<00:00,  2.11s/it]\n",
      "Training (2169 / 18000 Steps) (loss=0.55858): 100%|██████████| 7/7 [00:14<00:00,  2.06s/it]\n",
      "Training (2176 / 18000 Steps) (loss=0.71992): 100%|██████████| 7/7 [00:14<00:00,  2.09s/it]\n",
      "Training (2183 / 18000 Steps) (loss=0.65539): 100%|██████████| 7/7 [00:14<00:00,  2.08s/it]\n",
      "Training (2190 / 18000 Steps) (loss=0.64677): 100%|██████████| 7/7 [00:14<00:00,  2.08s/it]\n",
      "Training (2197 / 18000 Steps) (loss=0.60139): 100%|██████████| 7/7 [00:14<00:00,  2.09s/it]\n",
      "Validate (2198 / 10 Steps): 100%|██████████| 2/2 [00:09<00:00,  4.82s/it]<00:14,  2.99s/it]\n",
      "Training (2200 / 18000 Steps) (loss=0.58170):  43%|████▎     | 3/7 [00:17<00:27,  6.83s/it]"
     ]
    },
    {
     "name": "stdout",
     "output_type": "stream",
     "text": [
      "Model Was Not Saved ! Current Best Avg. Dice: 0.22200939059257507 Current Avg. Dice: 0.22088254988193512 Current Avg. tumor Dice: 0.2689898610115051 Current Avg. lymph Dice: 0.1727752387523651\n"
     ]
    },
    {
     "name": "stderr",
     "output_type": "stream",
     "text": [
      "Training (2204 / 18000 Steps) (loss=0.68839): 100%|██████████| 7/7 [00:24<00:00,  3.49s/it]\n",
      "Training (2211 / 18000 Steps) (loss=0.59083): 100%|██████████| 7/7 [00:14<00:00,  2.13s/it]\n",
      "Training (2218 / 18000 Steps) (loss=0.65719): 100%|██████████| 7/7 [00:14<00:00,  2.07s/it]\n",
      "Training (2225 / 18000 Steps) (loss=0.52650): 100%|██████████| 7/7 [00:14<00:00,  2.08s/it]\n",
      "Training (2232 / 18000 Steps) (loss=0.59072): 100%|██████████| 7/7 [00:14<00:00,  2.11s/it]\n",
      "Training (2239 / 18000 Steps) (loss=0.52507): 100%|██████████| 7/7 [00:14<00:00,  2.10s/it]\n",
      "Training (2246 / 18000 Steps) (loss=0.57721): 100%|██████████| 7/7 [00:14<00:00,  2.08s/it]\n",
      "Training (2253 / 18000 Steps) (loss=0.51702): 100%|██████████| 7/7 [00:14<00:00,  2.11s/it]\n",
      "Training (2260 / 18000 Steps) (loss=0.66535): 100%|██████████| 7/7 [00:14<00:00,  2.09s/it]\n",
      "Training (2267 / 18000 Steps) (loss=0.59547): 100%|██████████| 7/7 [00:14<00:00,  2.12s/it]\n",
      "Training (2274 / 18000 Steps) (loss=0.66870): 100%|██████████| 7/7 [00:14<00:00,  2.11s/it]\n",
      "Training (2281 / 18000 Steps) (loss=0.52736): 100%|██████████| 7/7 [00:14<00:00,  2.08s/it]\n",
      "Training (2288 / 18000 Steps) (loss=0.61622): 100%|██████████| 7/7 [00:14<00:00,  2.08s/it]\n",
      "Training (2295 / 18000 Steps) (loss=0.60259): 100%|██████████| 7/7 [00:14<00:00,  2.10s/it]\n",
      "Validate (2296 / 10 Steps): 100%|██████████| 2/2 [00:09<00:00,  4.90s/it]<00:06,  2.16s/it]\n",
      "Training (2300 / 18000 Steps) (loss=0.58332):  71%|███████▏  | 5/7 [00:21<00:11,  5.55s/it]"
     ]
    },
    {
     "name": "stdout",
     "output_type": "stream",
     "text": [
      "Model Was Not Saved ! Current Best Avg. Dice: 0.22200939059257507 Current Avg. Dice: 0.21706043183803558 Current Avg. tumor Dice: 0.26299378275871277 Current Avg. lymph Dice: 0.1711270809173584\n"
     ]
    },
    {
     "name": "stderr",
     "output_type": "stream",
     "text": [
      "Training (2302 / 18000 Steps) (loss=0.57649): 100%|██████████| 7/7 [00:24<00:00,  3.50s/it]\n",
      "Training (2309 / 18000 Steps) (loss=0.45706): 100%|██████████| 7/7 [00:15<00:00,  2.16s/it]\n",
      "Training (2316 / 18000 Steps) (loss=0.53481): 100%|██████████| 7/7 [00:14<00:00,  2.07s/it]\n",
      "Training (2323 / 18000 Steps) (loss=0.56576): 100%|██████████| 7/7 [00:14<00:00,  2.06s/it]\n",
      "Training (2330 / 18000 Steps) (loss=0.60136): 100%|██████████| 7/7 [00:14<00:00,  2.10s/it]\n",
      "Training (2337 / 18000 Steps) (loss=0.67372): 100%|██████████| 7/7 [00:14<00:00,  2.10s/it]\n",
      "Training (2344 / 18000 Steps) (loss=0.53096): 100%|██████████| 7/7 [00:14<00:00,  2.11s/it]\n",
      "Training (2351 / 18000 Steps) (loss=0.54235): 100%|██████████| 7/7 [00:14<00:00,  2.11s/it]\n",
      "Training (2358 / 18000 Steps) (loss=0.54210): 100%|██████████| 7/7 [00:15<00:00,  2.16s/it]\n",
      "Training (2365 / 18000 Steps) (loss=0.46192): 100%|██████████| 7/7 [00:14<00:00,  2.09s/it]\n",
      "Training (2372 / 18000 Steps) (loss=0.48042): 100%|██████████| 7/7 [00:14<00:00,  2.10s/it]\n",
      "Training (2379 / 18000 Steps) (loss=0.59898): 100%|██████████| 7/7 [00:14<00:00,  2.06s/it]\n",
      "Training (2386 / 18000 Steps) (loss=0.47124): 100%|██████████| 7/7 [00:14<00:00,  2.10s/it]\n",
      "Training (2393 / 18000 Steps) (loss=0.73558): 100%|██████████| 7/7 [00:14<00:00,  2.13s/it]\n",
      "Validate (2394 / 10 Steps): 100%|██████████| 2/2 [00:09<00:00,  4.88s/it]<00:01,  1.91s/it]\n",
      "Training (2400 / 18000 Steps) (loss=0.59672): 100%|██████████| 7/7 [00:25<00:00,  3.59s/it]\n"
     ]
    },
    {
     "name": "stdout",
     "output_type": "stream",
     "text": [
      "Model Was Saved ! Current Best Avg. Dice: 0.23651938140392303 Current Avg. Dice: 0.23651938140392303 Current Avg. tumor Dice: 0.27056512236595154 Current Avg. lymph Dice: 0.20247365534305573\n"
     ]
    },
    {
     "name": "stderr",
     "output_type": "stream",
     "text": [
      "Training (2407 / 18000 Steps) (loss=0.47493): 100%|██████████| 7/7 [00:14<00:00,  2.09s/it]\n",
      "Training (2414 / 18000 Steps) (loss=0.56884): 100%|██████████| 7/7 [00:14<00:00,  2.12s/it]\n",
      "Training (2421 / 18000 Steps) (loss=0.67954): 100%|██████████| 7/7 [00:14<00:00,  2.08s/it]\n",
      "Training (2428 / 18000 Steps) (loss=0.84218): 100%|██████████| 7/7 [00:14<00:00,  2.06s/it]\n",
      "Training (2435 / 18000 Steps) (loss=0.66697): 100%|██████████| 7/7 [00:14<00:00,  2.10s/it]\n",
      "Training (2442 / 18000 Steps) (loss=0.51043): 100%|██████████| 7/7 [00:14<00:00,  2.11s/it]\n",
      "Training (2449 / 18000 Steps) (loss=0.65810): 100%|██████████| 7/7 [00:14<00:00,  2.10s/it]\n",
      "Training (2456 / 18000 Steps) (loss=0.59460): 100%|██████████| 7/7 [00:14<00:00,  2.14s/it]\n",
      "Training (2463 / 18000 Steps) (loss=0.56062): 100%|██████████| 7/7 [00:14<00:00,  2.13s/it]\n",
      "Training (2470 / 18000 Steps) (loss=0.48003): 100%|██████████| 7/7 [00:14<00:00,  2.09s/it]\n",
      "Training (2477 / 18000 Steps) (loss=0.68396): 100%|██████████| 7/7 [00:14<00:00,  2.10s/it]\n",
      "Training (2484 / 18000 Steps) (loss=0.60018): 100%|██████████| 7/7 [00:14<00:00,  2.09s/it]\n",
      "Training (2491 / 18000 Steps) (loss=0.56920): 100%|██████████| 7/7 [00:14<00:00,  2.09s/it]\n",
      "Training (2498 / 18000 Steps) (loss=0.52641): 100%|██████████| 7/7 [00:14<00:00,  2.08s/it]\n",
      "Validate (2499 / 10 Steps): 100%|██████████| 2/2 [00:09<00:00,  4.86s/it]<00:28,  4.67s/it]\n",
      "Training (2500 / 18000 Steps) (loss=0.58735):  29%|██▊       | 2/7 [00:16<00:45,  9.11s/it]"
     ]
    },
    {
     "name": "stdout",
     "output_type": "stream",
     "text": [
      "Model Was Saved ! Current Best Avg. Dice: 0.2774621546268463 Current Avg. Dice: 0.2774621546268463 Current Avg. tumor Dice: 0.3113061785697937 Current Avg. lymph Dice: 0.24361813068389893\n"
     ]
    },
    {
     "name": "stderr",
     "output_type": "stream",
     "text": [
      "Training (2505 / 18000 Steps) (loss=0.52113): 100%|██████████| 7/7 [00:25<00:00,  3.58s/it]\n",
      "Training (2512 / 18000 Steps) (loss=0.57118): 100%|██████████| 7/7 [00:14<00:00,  2.13s/it]\n",
      "Training (2519 / 18000 Steps) (loss=0.60537): 100%|██████████| 7/7 [00:14<00:00,  2.12s/it]\n",
      "Training (2526 / 18000 Steps) (loss=0.61998): 100%|██████████| 7/7 [00:14<00:00,  2.09s/it]\n",
      "Training (2533 / 18000 Steps) (loss=0.49249): 100%|██████████| 7/7 [00:14<00:00,  2.08s/it]\n",
      "Training (2540 / 18000 Steps) (loss=0.46569): 100%|██████████| 7/7 [00:14<00:00,  2.14s/it]\n",
      "Training (2547 / 18000 Steps) (loss=0.50523): 100%|██████████| 7/7 [00:14<00:00,  2.08s/it]\n",
      "Training (2554 / 18000 Steps) (loss=0.47401): 100%|██████████| 7/7 [00:14<00:00,  2.09s/it]\n",
      "Training (2561 / 18000 Steps) (loss=0.63141): 100%|██████████| 7/7 [00:14<00:00,  2.10s/it]\n",
      "Training (2568 / 18000 Steps) (loss=0.57192): 100%|██████████| 7/7 [00:14<00:00,  2.10s/it]\n",
      "Training (2575 / 18000 Steps) (loss=0.61641): 100%|██████████| 7/7 [00:14<00:00,  2.07s/it]\n",
      "Training (2582 / 18000 Steps) (loss=0.50559): 100%|██████████| 7/7 [00:14<00:00,  2.07s/it]\n",
      "Training (2589 / 18000 Steps) (loss=0.54702): 100%|██████████| 7/7 [00:14<00:00,  2.08s/it]\n",
      "Training (2596 / 18000 Steps) (loss=0.62697): 100%|██████████| 7/7 [00:14<00:00,  2.10s/it]\n",
      "Validate (2597 / 10 Steps): 100%|██████████| 2/2 [00:09<00:00,  4.87s/it]<00:09,  2.45s/it]\n",
      "Training (2600 / 18000 Steps) (loss=0.51315):  57%|█████▋    | 4/7 [00:19<00:18,  6.03s/it]"
     ]
    },
    {
     "name": "stdout",
     "output_type": "stream",
     "text": [
      "Model Was Not Saved ! Current Best Avg. Dice: 0.2774621546268463 Current Avg. Dice: 0.19446498155593872 Current Avg. tumor Dice: 0.21328464150428772 Current Avg. lymph Dice: 0.1756453514099121\n"
     ]
    },
    {
     "name": "stderr",
     "output_type": "stream",
     "text": [
      "Training (2603 / 18000 Steps) (loss=0.53497): 100%|██████████| 7/7 [00:24<00:00,  3.51s/it]\n",
      "Training (2610 / 18000 Steps) (loss=0.64055): 100%|██████████| 7/7 [00:14<00:00,  2.10s/it]\n",
      "Training (2617 / 18000 Steps) (loss=0.54056): 100%|██████████| 7/7 [00:14<00:00,  2.13s/it]\n",
      "Training (2624 / 18000 Steps) (loss=0.51542): 100%|██████████| 7/7 [00:14<00:00,  2.10s/it]\n",
      "Training (2631 / 18000 Steps) (loss=0.60939): 100%|██████████| 7/7 [00:14<00:00,  2.08s/it]\n",
      "Training (2638 / 18000 Steps) (loss=0.54788): 100%|██████████| 7/7 [00:14<00:00,  2.06s/it]\n",
      "Training (2645 / 18000 Steps) (loss=0.53613): 100%|██████████| 7/7 [00:14<00:00,  2.10s/it]\n",
      "Training (2652 / 18000 Steps) (loss=0.57328): 100%|██████████| 7/7 [00:14<00:00,  2.10s/it]\n",
      "Training (2659 / 18000 Steps) (loss=0.47125): 100%|██████████| 7/7 [00:14<00:00,  2.10s/it]\n",
      "Training (2666 / 18000 Steps) (loss=0.63092): 100%|██████████| 7/7 [00:14<00:00,  2.13s/it]\n",
      "Training (2673 / 18000 Steps) (loss=0.41208): 100%|██████████| 7/7 [00:14<00:00,  2.08s/it]\n",
      "Training (2680 / 18000 Steps) (loss=0.51145): 100%|██████████| 7/7 [00:14<00:00,  2.07s/it]\n",
      "Training (2687 / 18000 Steps) (loss=0.62034): 100%|██████████| 7/7 [00:14<00:00,  2.08s/it]\n",
      "Training (2694 / 18000 Steps) (loss=0.56540): 100%|██████████| 7/7 [00:14<00:00,  2.09s/it]\n",
      "Validate (2695 / 10 Steps): 100%|██████████| 2/2 [00:09<00:00,  4.87s/it]<00:04,  2.00s/it]\n",
      "Training (2700 / 18000 Steps) (loss=0.58679):  86%|████████▌ | 6/7 [00:23<00:05,  5.24s/it]"
     ]
    },
    {
     "name": "stdout",
     "output_type": "stream",
     "text": [
      "Model Was Not Saved ! Current Best Avg. Dice: 0.2774621546268463 Current Avg. Dice: 0.2510203421115875 Current Avg. tumor Dice: 0.2820434868335724 Current Avg. lymph Dice: 0.21999716758728027\n"
     ]
    },
    {
     "name": "stderr",
     "output_type": "stream",
     "text": [
      "Training (2701 / 18000 Steps) (loss=0.57909): 100%|██████████| 7/7 [00:24<00:00,  3.48s/it]\n",
      "Training (2708 / 18000 Steps) (loss=0.61952): 100%|██████████| 7/7 [00:14<00:00,  2.10s/it]\n",
      "Training (2715 / 18000 Steps) (loss=0.54030): 100%|██████████| 7/7 [00:14<00:00,  2.10s/it]\n",
      "Training (2722 / 18000 Steps) (loss=0.48062): 100%|██████████| 7/7 [00:14<00:00,  2.13s/it]\n",
      "Training (2729 / 18000 Steps) (loss=0.64677): 100%|██████████| 7/7 [00:14<00:00,  2.12s/it]\n",
      "Training (2736 / 18000 Steps) (loss=0.53166): 100%|██████████| 7/7 [00:14<00:00,  2.07s/it]\n",
      "Training (2743 / 18000 Steps) (loss=0.62394): 100%|██████████| 7/7 [00:14<00:00,  2.08s/it]\n",
      "Training (2750 / 18000 Steps) (loss=0.35065): 100%|██████████| 7/7 [00:14<00:00,  2.06s/it]\n",
      "Training (2757 / 18000 Steps) (loss=0.60559): 100%|██████████| 7/7 [00:14<00:00,  2.10s/it]\n",
      "Training (2764 / 18000 Steps) (loss=0.48892): 100%|██████████| 7/7 [00:14<00:00,  2.10s/it]\n",
      "Training (2771 / 18000 Steps) (loss=0.61673): 100%|██████████| 7/7 [00:14<00:00,  2.12s/it]\n",
      "Training (2778 / 18000 Steps) (loss=0.61323): 100%|██████████| 7/7 [00:14<00:00,  2.09s/it]\n",
      "Training (2785 / 18000 Steps) (loss=0.53917): 100%|██████████| 7/7 [00:14<00:00,  2.10s/it]\n",
      "Training (2792 / 18000 Steps) (loss=0.53839): 100%|██████████| 7/7 [00:14<00:00,  2.10s/it]\n",
      "Training (2799 / 18000 Steps) (loss=0.55803): 100%|██████████| 7/7 [00:14<00:00,  2.09s/it]\n",
      "Validate (2800 / 10 Steps): 100%|██████████| 2/2 [00:09<00:00,  4.86s/it]<?, ?it/s]\n",
      "Training (2800 / 18000 Steps) (loss=0.47267):  14%|█▍        | 1/7 [00:15<01:32, 15.47s/it]"
     ]
    },
    {
     "name": "stdout",
     "output_type": "stream",
     "text": [
      "Model Was Saved ! Current Best Avg. Dice: 0.2801377773284912 Current Avg. Dice: 0.2801377773284912 Current Avg. tumor Dice: 0.35406455397605896 Current Avg. lymph Dice: 0.20621100068092346\n"
     ]
    },
    {
     "name": "stderr",
     "output_type": "stream",
     "text": [
      "Training (2806 / 18000 Steps) (loss=0.63276): 100%|██████████| 7/7 [00:25<00:00,  3.63s/it]\n",
      "Training (2813 / 18000 Steps) (loss=0.43197): 100%|██████████| 7/7 [00:14<00:00,  2.10s/it]\n",
      "Training (2820 / 18000 Steps) (loss=0.55660): 100%|██████████| 7/7 [00:14<00:00,  2.05s/it]\n",
      "Training (2827 / 18000 Steps) (loss=0.63144): 100%|██████████| 7/7 [00:14<00:00,  2.11s/it]\n",
      "Training (2834 / 18000 Steps) (loss=0.51143): 100%|██████████| 7/7 [00:14<00:00,  2.09s/it]\n",
      "Training (2841 / 18000 Steps) (loss=0.49515): 100%|██████████| 7/7 [00:14<00:00,  2.10s/it]\n",
      "Training (2848 / 18000 Steps) (loss=0.69785): 100%|██████████| 7/7 [00:15<00:00,  2.17s/it]\n",
      "Training (2855 / 18000 Steps) (loss=0.39177): 100%|██████████| 7/7 [00:14<00:00,  2.13s/it]\n",
      "Training (2862 / 18000 Steps) (loss=0.54404): 100%|██████████| 7/7 [00:14<00:00,  2.10s/it]\n",
      "Training (2869 / 18000 Steps) (loss=0.59881): 100%|██████████| 7/7 [00:14<00:00,  2.08s/it]\n",
      "Training (2876 / 18000 Steps) (loss=0.43993): 100%|██████████| 7/7 [00:15<00:00,  2.15s/it]\n",
      "Training (2883 / 18000 Steps) (loss=0.62616): 100%|██████████| 7/7 [00:14<00:00,  2.10s/it]\n",
      "Training (2890 / 18000 Steps) (loss=0.32341): 100%|██████████| 7/7 [00:14<00:00,  2.08s/it]\n",
      "Training (2897 / 18000 Steps) (loss=0.57850): 100%|██████████| 7/7 [00:14<00:00,  2.11s/it]\n",
      "Validate (2898 / 10 Steps): 100%|██████████| 2/2 [00:09<00:00,  4.87s/it]<00:15,  3.04s/it]\n",
      "Training (2900 / 18000 Steps) (loss=0.65625):  43%|████▎     | 3/7 [00:18<00:27,  6.90s/it]"
     ]
    },
    {
     "name": "stdout",
     "output_type": "stream",
     "text": [
      "Model Was Not Saved ! Current Best Avg. Dice: 0.2801377773284912 Current Avg. Dice: 0.20796597003936768 Current Avg. tumor Dice: 0.24850961565971375 Current Avg. lymph Dice: 0.1674223244190216\n"
     ]
    },
    {
     "name": "stderr",
     "output_type": "stream",
     "text": [
      "Training (2904 / 18000 Steps) (loss=0.64986): 100%|██████████| 7/7 [00:24<00:00,  3.50s/it]\n",
      "Training (2911 / 18000 Steps) (loss=0.46487): 100%|██████████| 7/7 [00:14<00:00,  2.11s/it]\n",
      "Training (2918 / 18000 Steps) (loss=0.53484): 100%|██████████| 7/7 [00:14<00:00,  2.08s/it]\n",
      "Training (2925 / 18000 Steps) (loss=0.67637): 100%|██████████| 7/7 [00:14<00:00,  2.09s/it]\n",
      "Training (2932 / 18000 Steps) (loss=0.39127): 100%|██████████| 7/7 [00:14<00:00,  2.07s/it]\n",
      "Training (2939 / 18000 Steps) (loss=0.57347): 100%|██████████| 7/7 [00:14<00:00,  2.08s/it]\n",
      "Training (2946 / 18000 Steps) (loss=0.53768): 100%|██████████| 7/7 [00:14<00:00,  2.07s/it]\n",
      "Training (2953 / 18000 Steps) (loss=0.59047): 100%|██████████| 7/7 [00:14<00:00,  2.07s/it]\n",
      "Training (2960 / 18000 Steps) (loss=0.56729): 100%|██████████| 7/7 [00:14<00:00,  2.09s/it]\n",
      "Training (2967 / 18000 Steps) (loss=0.71144): 100%|██████████| 7/7 [00:14<00:00,  2.07s/it]\n",
      "Training (2974 / 18000 Steps) (loss=0.62005): 100%|██████████| 7/7 [00:14<00:00,  2.08s/it]\n",
      "Training (2981 / 18000 Steps) (loss=0.58392): 100%|██████████| 7/7 [00:14<00:00,  2.09s/it]\n",
      "Training (2988 / 18000 Steps) (loss=0.59014): 100%|██████████| 7/7 [00:14<00:00,  2.14s/it]\n",
      "Training (2995 / 18000 Steps) (loss=0.59119): 100%|██████████| 7/7 [00:14<00:00,  2.09s/it]\n",
      "Validate (2996 / 10 Steps): 100%|██████████| 2/2 [00:09<00:00,  4.82s/it]<00:06,  2.11s/it]\n",
      "Training (3000 / 18000 Steps) (loss=0.56174):  71%|███████▏  | 5/7 [00:21<00:10,  5.47s/it]"
     ]
    },
    {
     "name": "stdout",
     "output_type": "stream",
     "text": [
      "Model Was Not Saved ! Current Best Avg. Dice: 0.2801377773284912 Current Avg. Dice: 0.22758211195468903 Current Avg. tumor Dice: 0.24298900365829468 Current Avg. lymph Dice: 0.21217525005340576\n"
     ]
    },
    {
     "name": "stderr",
     "output_type": "stream",
     "text": [
      "Training (3002 / 18000 Steps) (loss=0.66231): 100%|██████████| 7/7 [00:24<00:00,  3.44s/it]\n",
      "Training (3009 / 18000 Steps) (loss=0.54866): 100%|██████████| 7/7 [00:14<00:00,  2.09s/it]\n",
      "Training (3016 / 18000 Steps) (loss=0.49115): 100%|██████████| 7/7 [00:14<00:00,  2.09s/it]\n",
      "Training (3023 / 18000 Steps) (loss=0.44604): 100%|██████████| 7/7 [00:14<00:00,  2.07s/it]\n",
      "Training (3030 / 18000 Steps) (loss=0.48685): 100%|██████████| 7/7 [00:14<00:00,  2.11s/it]\n",
      "Training (3037 / 18000 Steps) (loss=0.57282): 100%|██████████| 7/7 [00:14<00:00,  2.10s/it]\n",
      "Training (3044 / 18000 Steps) (loss=0.43360): 100%|██████████| 7/7 [00:14<00:00,  2.08s/it]\n",
      "Training (3051 / 18000 Steps) (loss=0.65447): 100%|██████████| 7/7 [00:14<00:00,  2.13s/it]\n",
      "Training (3058 / 18000 Steps) (loss=0.68521): 100%|██████████| 7/7 [00:14<00:00,  2.09s/it]\n",
      "Training (3065 / 18000 Steps) (loss=0.57557): 100%|██████████| 7/7 [00:14<00:00,  2.07s/it]\n",
      "Training (3072 / 18000 Steps) (loss=0.50138): 100%|██████████| 7/7 [00:14<00:00,  2.07s/it]\n",
      "Training (3079 / 18000 Steps) (loss=0.61341): 100%|██████████| 7/7 [00:14<00:00,  2.08s/it]\n",
      "Training (3086 / 18000 Steps) (loss=0.59969): 100%|██████████| 7/7 [00:14<00:00,  2.13s/it]\n",
      "Training (3093 / 18000 Steps) (loss=0.60719): 100%|██████████| 7/7 [00:14<00:00,  2.07s/it]\n",
      "Validate (3094 / 10 Steps): 100%|██████████| 2/2 [00:09<00:00,  4.85s/it]<00:01,  1.93s/it]\n",
      "Training (3100 / 18000 Steps) (loss=0.67520): 100%|██████████| 7/7 [00:24<00:00,  3.48s/it]\n"
     ]
    },
    {
     "name": "stdout",
     "output_type": "stream",
     "text": [
      "Model Was Not Saved ! Current Best Avg. Dice: 0.2801377773284912 Current Avg. Dice: 0.24011005461215973 Current Avg. tumor Dice: 0.23996661603450775 Current Avg. lymph Dice: 0.2402534931898117\n"
     ]
    },
    {
     "name": "stderr",
     "output_type": "stream",
     "text": [
      "Training (3107 / 18000 Steps) (loss=0.63226): 100%|██████████| 7/7 [00:14<00:00,  2.08s/it]\n",
      "Training (3114 / 18000 Steps) (loss=0.56763): 100%|██████████| 7/7 [00:14<00:00,  2.09s/it]\n",
      "Training (3121 / 18000 Steps) (loss=0.56498): 100%|██████████| 7/7 [00:14<00:00,  2.11s/it]\n",
      "Training (3128 / 18000 Steps) (loss=0.58092): 100%|██████████| 7/7 [00:14<00:00,  2.09s/it]\n",
      "Training (3135 / 18000 Steps) (loss=0.46643): 100%|██████████| 7/7 [00:14<00:00,  2.14s/it]\n",
      "Training (3142 / 18000 Steps) (loss=0.53768): 100%|██████████| 7/7 [00:14<00:00,  2.07s/it]\n",
      "Training (3149 / 18000 Steps) (loss=0.44565): 100%|██████████| 7/7 [00:14<00:00,  2.11s/it]\n",
      "Training (3156 / 18000 Steps) (loss=0.60436): 100%|██████████| 7/7 [00:14<00:00,  2.08s/it]\n",
      "Training (3163 / 18000 Steps) (loss=0.48869): 100%|██████████| 7/7 [00:14<00:00,  2.07s/it]\n",
      "Training (3170 / 18000 Steps) (loss=0.50185): 100%|██████████| 7/7 [00:14<00:00,  2.10s/it]\n",
      "Training (3177 / 18000 Steps) (loss=0.45886): 100%|██████████| 7/7 [00:14<00:00,  2.10s/it]\n",
      "Training (3184 / 18000 Steps) (loss=0.61061): 100%|██████████| 7/7 [00:14<00:00,  2.12s/it]\n",
      "Training (3191 / 18000 Steps) (loss=0.63639): 100%|██████████| 7/7 [00:14<00:00,  2.09s/it]\n",
      "Training (3198 / 18000 Steps) (loss=0.54380): 100%|██████████| 7/7 [00:14<00:00,  2.13s/it]\n",
      "Validate (3199 / 10 Steps): 100%|██████████| 2/2 [00:09<00:00,  4.82s/it]<00:28,  4.70s/it]\n",
      "Training (3200 / 18000 Steps) (loss=0.58295):  29%|██▊       | 2/7 [00:16<00:43,  8.66s/it]"
     ]
    },
    {
     "name": "stdout",
     "output_type": "stream",
     "text": [
      "Model Was Not Saved ! Current Best Avg. Dice: 0.2801377773284912 Current Avg. Dice: 0.2319926768541336 Current Avg. tumor Dice: 0.2818428874015808 Current Avg. lymph Dice: 0.1821424663066864\n"
     ]
    },
    {
     "name": "stderr",
     "output_type": "stream",
     "text": [
      "Training (3205 / 18000 Steps) (loss=0.47939): 100%|██████████| 7/7 [00:24<00:00,  3.46s/it]\n",
      "Training (3212 / 18000 Steps) (loss=0.56786): 100%|██████████| 7/7 [00:14<00:00,  2.05s/it]\n",
      "Training (3219 / 18000 Steps) (loss=0.43777): 100%|██████████| 7/7 [00:14<00:00,  2.07s/it]\n",
      "Training (3226 / 18000 Steps) (loss=0.45884): 100%|██████████| 7/7 [00:14<00:00,  2.07s/it]\n",
      "Training (3233 / 18000 Steps) (loss=0.60911): 100%|██████████| 7/7 [00:14<00:00,  2.05s/it]\n",
      "Training (3240 / 18000 Steps) (loss=0.62872): 100%|██████████| 7/7 [00:14<00:00,  2.10s/it]\n",
      "Training (3247 / 18000 Steps) (loss=0.38728): 100%|██████████| 7/7 [00:14<00:00,  2.10s/it]\n",
      "Training (3254 / 18000 Steps) (loss=0.55812): 100%|██████████| 7/7 [00:14<00:00,  2.10s/it]\n",
      "Training (3261 / 18000 Steps) (loss=0.62853): 100%|██████████| 7/7 [00:14<00:00,  2.07s/it]\n",
      "Training (3268 / 18000 Steps) (loss=0.54068): 100%|██████████| 7/7 [00:14<00:00,  2.07s/it]\n",
      "Training (3275 / 18000 Steps) (loss=0.60560): 100%|██████████| 7/7 [00:14<00:00,  2.09s/it]\n",
      "Training (3282 / 18000 Steps) (loss=0.73340): 100%|██████████| 7/7 [00:14<00:00,  2.08s/it]\n",
      "Training (3289 / 18000 Steps) (loss=0.60632): 100%|██████████| 7/7 [00:14<00:00,  2.08s/it]\n",
      "Training (3296 / 18000 Steps) (loss=0.48016): 100%|██████████| 7/7 [00:14<00:00,  2.12s/it]\n",
      "Validate (3297 / 10 Steps): 100%|██████████| 2/2 [00:09<00:00,  4.82s/it]<00:09,  2.40s/it]\n",
      "Training (3300 / 18000 Steps) (loss=0.58104):  57%|█████▋    | 4/7 [00:19<00:17,  5.97s/it]"
     ]
    },
    {
     "name": "stdout",
     "output_type": "stream",
     "text": [
      "Model Was Not Saved ! Current Best Avg. Dice: 0.2801377773284912 Current Avg. Dice: 0.20729495584964752 Current Avg. tumor Dice: 0.24750138819217682 Current Avg. lymph Dice: 0.16708850860595703\n"
     ]
    },
    {
     "name": "stderr",
     "output_type": "stream",
     "text": [
      "Training (3303 / 18000 Steps) (loss=0.61291): 100%|██████████| 7/7 [00:24<00:00,  3.48s/it]\n",
      "Training (3310 / 18000 Steps) (loss=0.63594): 100%|██████████| 7/7 [00:14<00:00,  2.11s/it]\n",
      "Training (3317 / 18000 Steps) (loss=0.51698): 100%|██████████| 7/7 [00:14<00:00,  2.06s/it]\n",
      "Training (3324 / 18000 Steps) (loss=0.45628): 100%|██████████| 7/7 [00:14<00:00,  2.06s/it]\n",
      "Training (3331 / 18000 Steps) (loss=0.64298): 100%|██████████| 7/7 [00:14<00:00,  2.08s/it]\n",
      "Training (3338 / 18000 Steps) (loss=0.56905): 100%|██████████| 7/7 [00:14<00:00,  2.07s/it]\n",
      "Training (3345 / 18000 Steps) (loss=0.65767): 100%|██████████| 7/7 [00:14<00:00,  2.12s/it]\n",
      "Training (3352 / 18000 Steps) (loss=0.53805): 100%|██████████| 7/7 [00:14<00:00,  2.07s/it]\n",
      "Training (3359 / 18000 Steps) (loss=0.55834): 100%|██████████| 7/7 [00:14<00:00,  2.07s/it]\n",
      "Training (3366 / 18000 Steps) (loss=0.57138): 100%|██████████| 7/7 [00:14<00:00,  2.11s/it]\n",
      "Training (3373 / 18000 Steps) (loss=0.55495): 100%|██████████| 7/7 [00:14<00:00,  2.11s/it]\n",
      "Training (3380 / 18000 Steps) (loss=0.51864): 100%|██████████| 7/7 [00:14<00:00,  2.09s/it]\n",
      "Training (3387 / 18000 Steps) (loss=0.58991): 100%|██████████| 7/7 [00:14<00:00,  2.09s/it]\n",
      "Training (3394 / 18000 Steps) (loss=0.52780): 100%|██████████| 7/7 [00:14<00:00,  2.11s/it]\n",
      "Validate (3395 / 10 Steps): 100%|██████████| 2/2 [00:09<00:00,  4.82s/it]<00:04,  2.00s/it]\n",
      "Training (3400 / 18000 Steps) (loss=0.52183):  86%|████████▌ | 6/7 [00:23<00:05,  5.21s/it]"
     ]
    },
    {
     "name": "stdout",
     "output_type": "stream",
     "text": [
      "Model Was Not Saved ! Current Best Avg. Dice: 0.2801377773284912 Current Avg. Dice: 0.24657005071640015 Current Avg. tumor Dice: 0.3054436445236206 Current Avg. lymph Dice: 0.1876964569091797\n"
     ]
    },
    {
     "name": "stderr",
     "output_type": "stream",
     "text": [
      "Training (3401 / 18000 Steps) (loss=0.62378): 100%|██████████| 7/7 [00:24<00:00,  3.52s/it]\n",
      "Training (3408 / 18000 Steps) (loss=0.64916): 100%|██████████| 7/7 [00:14<00:00,  2.11s/it]\n",
      "Training (3415 / 18000 Steps) (loss=0.53903): 100%|██████████| 7/7 [00:14<00:00,  2.08s/it]\n",
      "Training (3422 / 18000 Steps) (loss=0.45156): 100%|██████████| 7/7 [00:14<00:00,  2.09s/it]\n",
      "Training (3429 / 18000 Steps) (loss=0.60346): 100%|██████████| 7/7 [00:14<00:00,  2.09s/it]\n",
      "Training (3436 / 18000 Steps) (loss=0.57070): 100%|██████████| 7/7 [00:14<00:00,  2.09s/it]\n",
      "Training (3443 / 18000 Steps) (loss=0.46692): 100%|██████████| 7/7 [00:14<00:00,  2.10s/it]\n",
      "Training (3450 / 18000 Steps) (loss=0.51043): 100%|██████████| 7/7 [00:14<00:00,  2.09s/it]\n",
      "Training (3457 / 18000 Steps) (loss=0.51252): 100%|██████████| 7/7 [00:14<00:00,  2.07s/it]\n",
      "Training (3464 / 18000 Steps) (loss=0.54341): 100%|██████████| 7/7 [00:14<00:00,  2.07s/it]\n",
      "Training (3471 / 18000 Steps) (loss=0.62951): 100%|██████████| 7/7 [00:14<00:00,  2.09s/it]\n",
      "Training (3478 / 18000 Steps) (loss=0.61835): 100%|██████████| 7/7 [00:14<00:00,  2.11s/it]\n",
      "Training (3485 / 18000 Steps) (loss=0.36113): 100%|██████████| 7/7 [00:14<00:00,  2.06s/it]\n",
      "Training (3492 / 18000 Steps) (loss=0.49013): 100%|██████████| 7/7 [00:14<00:00,  2.11s/it]\n",
      "Training (3499 / 18000 Steps) (loss=0.40108): 100%|██████████| 7/7 [00:14<00:00,  2.09s/it]\n",
      "Validate (3500 / 10 Steps): 100%|██████████| 2/2 [00:09<00:00,  4.84s/it]<?, ?it/s]\n",
      "Training (3500 / 18000 Steps) (loss=0.53387):  14%|█▍        | 1/7 [00:14<01:27, 14.64s/it]"
     ]
    },
    {
     "name": "stdout",
     "output_type": "stream",
     "text": [
      "Model Was Not Saved ! Current Best Avg. Dice: 0.2801377773284912 Current Avg. Dice: 0.22113744914531708 Current Avg. tumor Dice: 0.2671785056591034 Current Avg. lymph Dice: 0.17509636282920837\n"
     ]
    },
    {
     "name": "stderr",
     "output_type": "stream",
     "text": [
      "Training (3506 / 18000 Steps) (loss=0.59726): 100%|██████████| 7/7 [00:24<00:00,  3.50s/it]\n",
      "Training (3513 / 18000 Steps) (loss=0.61923): 100%|██████████| 7/7 [00:14<00:00,  2.07s/it]\n",
      "Training (3520 / 18000 Steps) (loss=0.65824): 100%|██████████| 7/7 [00:14<00:00,  2.08s/it]\n",
      "Training (3527 / 18000 Steps) (loss=0.68041): 100%|██████████| 7/7 [00:14<00:00,  2.10s/it]\n",
      "Training (3534 / 18000 Steps) (loss=0.43293): 100%|██████████| 7/7 [00:14<00:00,  2.06s/it]\n",
      "Training (3541 / 18000 Steps) (loss=0.56666): 100%|██████████| 7/7 [00:14<00:00,  2.10s/it]\n",
      "Training (3548 / 18000 Steps) (loss=0.61725): 100%|██████████| 7/7 [00:14<00:00,  2.07s/it]\n",
      "Training (3555 / 18000 Steps) (loss=0.41134): 100%|██████████| 7/7 [00:14<00:00,  2.12s/it]\n",
      "Training (3562 / 18000 Steps) (loss=0.65593): 100%|██████████| 7/7 [00:14<00:00,  2.06s/it]\n",
      "Training (3569 / 18000 Steps) (loss=0.68363): 100%|██████████| 7/7 [00:14<00:00,  2.09s/it]\n",
      "Training (3576 / 18000 Steps) (loss=0.61701): 100%|██████████| 7/7 [00:14<00:00,  2.05s/it]\n",
      "Training (3583 / 18000 Steps) (loss=0.48035): 100%|██████████| 7/7 [00:14<00:00,  2.07s/it]\n",
      "Training (3590 / 18000 Steps) (loss=0.63759): 100%|██████████| 7/7 [00:14<00:00,  2.11s/it]\n",
      "Training (3597 / 18000 Steps) (loss=0.51279): 100%|██████████| 7/7 [00:14<00:00,  2.13s/it]\n",
      "Validate (3598 / 10 Steps): 100%|██████████| 2/2 [00:09<00:00,  4.80s/it]<00:14,  2.98s/it]\n",
      "Training (3600 / 18000 Steps) (loss=0.61028):  43%|████▎     | 3/7 [00:17<00:27,  6.81s/it]"
     ]
    },
    {
     "name": "stdout",
     "output_type": "stream",
     "text": [
      "Model Was Not Saved ! Current Best Avg. Dice: 0.2801377773284912 Current Avg. Dice: 0.24766384065151215 Current Avg. tumor Dice: 0.3118846118450165 Current Avg. lymph Dice: 0.18344303965568542\n"
     ]
    },
    {
     "name": "stderr",
     "output_type": "stream",
     "text": [
      "Training (3604 / 18000 Steps) (loss=0.51574): 100%|██████████| 7/7 [00:24<00:00,  3.45s/it]\n",
      "Training (3611 / 18000 Steps) (loss=0.65681): 100%|██████████| 7/7 [00:14<00:00,  2.11s/it]\n",
      "Training (3618 / 18000 Steps) (loss=0.50695): 100%|██████████| 7/7 [00:14<00:00,  2.06s/it]\n",
      "Training (3625 / 18000 Steps) (loss=0.30736): 100%|██████████| 7/7 [00:14<00:00,  2.11s/it]\n",
      "Training (3632 / 18000 Steps) (loss=0.51716): 100%|██████████| 7/7 [00:14<00:00,  2.09s/it]\n",
      "Training (3639 / 18000 Steps) (loss=0.37178): 100%|██████████| 7/7 [00:14<00:00,  2.09s/it]\n",
      "Training (3646 / 18000 Steps) (loss=0.52340): 100%|██████████| 7/7 [00:14<00:00,  2.07s/it]\n",
      "Training (3653 / 18000 Steps) (loss=0.46945): 100%|██████████| 7/7 [00:14<00:00,  2.09s/it]\n",
      "Training (3660 / 18000 Steps) (loss=0.48083): 100%|██████████| 7/7 [00:14<00:00,  2.09s/it]\n",
      "Training (3667 / 18000 Steps) (loss=0.57106): 100%|██████████| 7/7 [00:14<00:00,  2.09s/it]\n",
      "Training (3674 / 18000 Steps) (loss=0.49712): 100%|██████████| 7/7 [00:14<00:00,  2.08s/it]\n",
      "Training (3681 / 18000 Steps) (loss=0.57197): 100%|██████████| 7/7 [00:14<00:00,  2.07s/it]\n",
      "Training (3688 / 18000 Steps) (loss=0.54486): 100%|██████████| 7/7 [00:14<00:00,  2.07s/it]\n",
      "Training (3695 / 18000 Steps) (loss=0.60397): 100%|██████████| 7/7 [00:14<00:00,  2.10s/it]\n",
      "Validate (3696 / 10 Steps): 100%|██████████| 2/2 [00:09<00:00,  4.83s/it]<00:06,  2.14s/it]\n",
      "Training (3700 / 18000 Steps) (loss=0.52630):  71%|███████▏  | 5/7 [00:21<00:10,  5.50s/it]"
     ]
    },
    {
     "name": "stdout",
     "output_type": "stream",
     "text": [
      "Model Was Not Saved ! Current Best Avg. Dice: 0.2801377773284912 Current Avg. Dice: 0.2620394229888916 Current Avg. tumor Dice: 0.29007798433303833 Current Avg. lymph Dice: 0.23400089144706726\n"
     ]
    },
    {
     "name": "stderr",
     "output_type": "stream",
     "text": [
      "Training (3702 / 18000 Steps) (loss=0.63831): 100%|██████████| 7/7 [00:24<00:00,  3.49s/it]\n",
      "Training (3709 / 18000 Steps) (loss=0.53875): 100%|██████████| 7/7 [00:14<00:00,  2.10s/it]\n",
      "Training (3716 / 18000 Steps) (loss=0.52199): 100%|██████████| 7/7 [00:14<00:00,  2.09s/it]\n",
      "Training (3723 / 18000 Steps) (loss=0.43582): 100%|██████████| 7/7 [00:14<00:00,  2.07s/it]\n",
      "Training (3730 / 18000 Steps) (loss=0.58397): 100%|██████████| 7/7 [00:14<00:00,  2.13s/it]\n",
      "Training (3737 / 18000 Steps) (loss=0.49283): 100%|██████████| 7/7 [00:14<00:00,  2.11s/it]\n",
      "Training (3744 / 18000 Steps) (loss=0.53783): 100%|██████████| 7/7 [00:14<00:00,  2.05s/it]\n",
      "Training (3751 / 18000 Steps) (loss=0.54650): 100%|██████████| 7/7 [00:14<00:00,  2.11s/it]\n",
      "Training (3758 / 18000 Steps) (loss=0.51920): 100%|██████████| 7/7 [00:14<00:00,  2.12s/it]\n",
      "Training (3765 / 18000 Steps) (loss=0.55807): 100%|██████████| 7/7 [00:14<00:00,  2.11s/it]\n",
      "Training (3772 / 18000 Steps) (loss=0.54852): 100%|██████████| 7/7 [00:14<00:00,  2.07s/it]\n",
      "Training (3779 / 18000 Steps) (loss=0.45736): 100%|██████████| 7/7 [00:14<00:00,  2.10s/it]\n",
      "Training (3786 / 18000 Steps) (loss=0.51246): 100%|██████████| 7/7 [00:14<00:00,  2.08s/it]\n",
      "Training (3793 / 18000 Steps) (loss=0.48843): 100%|██████████| 7/7 [00:14<00:00,  2.01s/it]\n",
      "Validate (3794 / 10 Steps): 100%|██████████| 2/2 [00:09<00:00,  4.76s/it]<00:01,  1.86s/it]\n",
      "Training (3800 / 18000 Steps) (loss=0.54423): 100%|██████████| 7/7 [00:23<00:00,  3.39s/it]\n"
     ]
    },
    {
     "name": "stdout",
     "output_type": "stream",
     "text": [
      "Model Was Not Saved ! Current Best Avg. Dice: 0.2801377773284912 Current Avg. Dice: 0.2533400058746338 Current Avg. tumor Dice: 0.2944297790527344 Current Avg. lymph Dice: 0.21225020289421082\n"
     ]
    },
    {
     "name": "stderr",
     "output_type": "stream",
     "text": [
      "Training (3807 / 18000 Steps) (loss=0.68844): 100%|██████████| 7/7 [00:13<00:00,  1.99s/it]\n",
      "Training (3814 / 18000 Steps) (loss=0.48709): 100%|██████████| 7/7 [00:14<00:00,  2.05s/it]\n",
      "Training (3821 / 18000 Steps) (loss=0.75116): 100%|██████████| 7/7 [00:14<00:00,  2.02s/it]\n",
      "Training (3828 / 18000 Steps) (loss=0.57165): 100%|██████████| 7/7 [00:13<00:00,  1.95s/it]\n",
      "Training (3835 / 18000 Steps) (loss=0.64549): 100%|██████████| 7/7 [00:14<00:00,  2.01s/it]\n",
      "Training (3842 / 18000 Steps) (loss=0.51891): 100%|██████████| 7/7 [00:14<00:00,  2.00s/it]\n",
      "Training (3849 / 18000 Steps) (loss=0.47447): 100%|██████████| 7/7 [00:13<00:00,  1.97s/it]\n",
      "Training (3856 / 18000 Steps) (loss=0.67985): 100%|██████████| 7/7 [00:13<00:00,  1.96s/it]\n",
      "Training (3863 / 18000 Steps) (loss=0.43931): 100%|██████████| 7/7 [00:14<00:00,  2.00s/it]\n",
      "Training (3870 / 18000 Steps) (loss=0.53310): 100%|██████████| 7/7 [00:13<00:00,  1.94s/it]\n",
      "Training (3877 / 18000 Steps) (loss=0.46477): 100%|██████████| 7/7 [00:13<00:00,  1.99s/it]\n",
      "Training (3884 / 18000 Steps) (loss=0.41759): 100%|██████████| 7/7 [00:14<00:00,  2.02s/it]\n",
      "Training (3891 / 18000 Steps) (loss=0.54818): 100%|██████████| 7/7 [00:14<00:00,  2.05s/it]\n",
      "Training (3898 / 18000 Steps) (loss=0.58974): 100%|██████████| 7/7 [00:13<00:00,  1.98s/it]\n",
      "Validate (3899 / 10 Steps): 100%|██████████| 2/2 [00:09<00:00,  4.70s/it]<00:26,  4.41s/it]\n",
      "Training (3900 / 18000 Steps) (loss=0.54002):  29%|██▊       | 2/7 [00:15<00:41,  8.35s/it]"
     ]
    },
    {
     "name": "stdout",
     "output_type": "stream",
     "text": [
      "Model Was Not Saved ! Current Best Avg. Dice: 0.2801377773284912 Current Avg. Dice: 0.2790561318397522 Current Avg. tumor Dice: 0.34111934900283813 Current Avg. lymph Dice: 0.21699288487434387\n"
     ]
    },
    {
     "name": "stderr",
     "output_type": "stream",
     "text": [
      "Training (3905 / 18000 Steps) (loss=0.52837): 100%|██████████| 7/7 [00:23<00:00,  3.32s/it]\n",
      "Training (3912 / 18000 Steps) (loss=0.58241): 100%|██████████| 7/7 [00:14<00:00,  2.02s/it]\n",
      "Training (3919 / 18000 Steps) (loss=0.57076): 100%|██████████| 7/7 [00:13<00:00,  1.99s/it]\n",
      "Training (3926 / 18000 Steps) (loss=0.28609): 100%|██████████| 7/7 [00:13<00:00,  2.00s/it]\n",
      "Training (3933 / 18000 Steps) (loss=0.61294): 100%|██████████| 7/7 [00:13<00:00,  1.99s/it]\n",
      "Training (3940 / 18000 Steps) (loss=0.42869): 100%|██████████| 7/7 [00:13<00:00,  1.98s/it]\n",
      "Training (3947 / 18000 Steps) (loss=0.55305): 100%|██████████| 7/7 [00:13<00:00,  1.97s/it]\n",
      "Training (3954 / 18000 Steps) (loss=0.52912): 100%|██████████| 7/7 [00:13<00:00,  1.96s/it]\n",
      "Training (3961 / 18000 Steps) (loss=0.46083): 100%|██████████| 7/7 [00:13<00:00,  1.97s/it]\n",
      "Training (3968 / 18000 Steps) (loss=0.54750): 100%|██████████| 7/7 [00:13<00:00,  1.93s/it]\n",
      "Training (3975 / 18000 Steps) (loss=0.33329): 100%|██████████| 7/7 [00:13<00:00,  1.96s/it]\n",
      "Training (3982 / 18000 Steps) (loss=0.57982): 100%|██████████| 7/7 [00:13<00:00,  1.93s/it]\n",
      "Training (3989 / 18000 Steps) (loss=0.59734): 100%|██████████| 7/7 [00:13<00:00,  1.94s/it]\n",
      "Training (3996 / 18000 Steps) (loss=0.68595): 100%|██████████| 7/7 [00:13<00:00,  1.97s/it]\n",
      "Validate (3997 / 10 Steps): 100%|██████████| 2/2 [00:09<00:00,  4.70s/it]<00:09,  2.25s/it]\n",
      "Training (4000 / 18000 Steps) (loss=0.50907):  57%|█████▋    | 4/7 [00:18<00:17,  5.74s/it]"
     ]
    },
    {
     "name": "stdout",
     "output_type": "stream",
     "text": [
      "Model Was Not Saved ! Current Best Avg. Dice: 0.2801377773284912 Current Avg. Dice: 0.2431686818599701 Current Avg. tumor Dice: 0.3067811131477356 Current Avg. lymph Dice: 0.1795562505722046\n"
     ]
    },
    {
     "name": "stderr",
     "output_type": "stream",
     "text": [
      "Training (4003 / 18000 Steps) (loss=0.56997): 100%|██████████| 7/7 [00:23<00:00,  3.30s/it]\n",
      "Training (4010 / 18000 Steps) (loss=0.50392): 100%|██████████| 7/7 [00:13<00:00,  1.99s/it]\n",
      "Training (4017 / 18000 Steps) (loss=0.54315): 100%|██████████| 7/7 [00:13<00:00,  1.95s/it]\n",
      "Training (4024 / 18000 Steps) (loss=0.42908): 100%|██████████| 7/7 [00:13<00:00,  1.97s/it]\n",
      "Training (4031 / 18000 Steps) (loss=0.62991): 100%|██████████| 7/7 [00:13<00:00,  1.96s/it]\n",
      "Training (4038 / 18000 Steps) (loss=0.61051): 100%|██████████| 7/7 [00:13<00:00,  1.95s/it]\n",
      "Training (4045 / 18000 Steps) (loss=0.49369): 100%|██████████| 7/7 [00:13<00:00,  1.94s/it]\n",
      "Training (4052 / 18000 Steps) (loss=0.60673): 100%|██████████| 7/7 [00:13<00:00,  1.95s/it]\n",
      "Training (4059 / 18000 Steps) (loss=0.55327): 100%|██████████| 7/7 [00:13<00:00,  1.98s/it]\n",
      "Training (4066 / 18000 Steps) (loss=0.67075): 100%|██████████| 7/7 [00:13<00:00,  1.95s/it]\n",
      "Training (4073 / 18000 Steps) (loss=0.44701): 100%|██████████| 7/7 [00:13<00:00,  1.96s/it]\n",
      "Training (4080 / 18000 Steps) (loss=0.57144): 100%|██████████| 7/7 [00:13<00:00,  1.94s/it]\n",
      "Training (4087 / 18000 Steps) (loss=0.57848): 100%|██████████| 7/7 [00:13<00:00,  1.98s/it]\n",
      "Training (4094 / 18000 Steps) (loss=0.46585): 100%|██████████| 7/7 [00:13<00:00,  1.97s/it]\n",
      "Validate (4095 / 10 Steps): 100%|██████████| 2/2 [00:09<00:00,  4.70s/it]<00:03,  1.87s/it]\n",
      "Training (4100 / 18000 Steps) (loss=0.53491):  86%|████████▌ | 6/7 [00:22<00:05,  5.01s/it]"
     ]
    },
    {
     "name": "stdout",
     "output_type": "stream",
     "text": [
      "Model Was Not Saved ! Current Best Avg. Dice: 0.2801377773284912 Current Avg. Dice: 0.25612595677375793 Current Avg. tumor Dice: 0.3137142062187195 Current Avg. lymph Dice: 0.1985377073287964\n"
     ]
    },
    {
     "name": "stderr",
     "output_type": "stream",
     "text": [
      "Training (4101 / 18000 Steps) (loss=0.53328): 100%|██████████| 7/7 [00:23<00:00,  3.30s/it]\n",
      "Training (4108 / 18000 Steps) (loss=0.67644): 100%|██████████| 7/7 [00:14<00:00,  2.03s/it]\n",
      "Training (4115 / 18000 Steps) (loss=0.53875): 100%|██████████| 7/7 [00:13<00:00,  1.97s/it]\n",
      "Training (4122 / 18000 Steps) (loss=0.58141): 100%|██████████| 7/7 [00:13<00:00,  1.96s/it]\n",
      "Training (4129 / 18000 Steps) (loss=0.56036): 100%|██████████| 7/7 [00:13<00:00,  1.96s/it]\n",
      "Training (4136 / 18000 Steps) (loss=0.43377): 100%|██████████| 7/7 [00:13<00:00,  1.96s/it]\n",
      "Training (4143 / 18000 Steps) (loss=0.45794): 100%|██████████| 7/7 [00:13<00:00,  1.93s/it]\n",
      "Training (4150 / 18000 Steps) (loss=0.61498): 100%|██████████| 7/7 [00:13<00:00,  1.94s/it]\n",
      "Training (4157 / 18000 Steps) (loss=0.54200): 100%|██████████| 7/7 [00:13<00:00,  1.98s/it]\n",
      "Training (4164 / 18000 Steps) (loss=0.61757): 100%|██████████| 7/7 [00:13<00:00,  1.93s/it]\n",
      "Training (4171 / 18000 Steps) (loss=0.63902): 100%|██████████| 7/7 [00:13<00:00,  1.94s/it]\n",
      "Training (4178 / 18000 Steps) (loss=0.49347): 100%|██████████| 7/7 [00:13<00:00,  1.97s/it]\n",
      "Training (4185 / 18000 Steps) (loss=0.41452): 100%|██████████| 7/7 [00:13<00:00,  1.97s/it]\n",
      "Training (4192 / 18000 Steps) (loss=0.56575): 100%|██████████| 7/7 [00:13<00:00,  1.94s/it]\n",
      "Training (4199 / 18000 Steps) (loss=0.51932): 100%|██████████| 7/7 [00:13<00:00,  1.95s/it]\n",
      "Validate (4200 / 10 Steps): 100%|██████████| 2/2 [00:09<00:00,  4.71s/it]<?, ?it/s]\n",
      "Training (4200 / 18000 Steps) (loss=0.62130):  14%|█▍        | 1/7 [00:14<01:24, 14.07s/it]"
     ]
    },
    {
     "name": "stdout",
     "output_type": "stream",
     "text": [
      "Model Was Not Saved ! Current Best Avg. Dice: 0.2801377773284912 Current Avg. Dice: 0.24513229727745056 Current Avg. tumor Dice: 0.3158002495765686 Current Avg. lymph Dice: 0.17446434497833252\n"
     ]
    },
    {
     "name": "stderr",
     "output_type": "stream",
     "text": [
      "Training (4206 / 18000 Steps) (loss=0.60796): 100%|██████████| 7/7 [00:23<00:00,  3.35s/it]\n",
      "Training (4213 / 18000 Steps) (loss=0.48803): 100%|██████████| 7/7 [00:13<00:00,  1.98s/it]\n",
      "Training (4220 / 18000 Steps) (loss=0.49420): 100%|██████████| 7/7 [00:14<00:00,  2.00s/it]\n",
      "Training (4227 / 18000 Steps) (loss=0.47405): 100%|██████████| 7/7 [00:13<00:00,  1.96s/it]\n",
      "Training (4234 / 18000 Steps) (loss=0.58616): 100%|██████████| 7/7 [00:13<00:00,  1.94s/it]\n",
      "Training (4241 / 18000 Steps) (loss=0.42158): 100%|██████████| 7/7 [00:13<00:00,  1.94s/it]\n",
      "Training (4248 / 18000 Steps) (loss=0.46228): 100%|██████████| 7/7 [00:13<00:00,  1.94s/it]\n",
      "Training (4255 / 18000 Steps) (loss=0.61512): 100%|██████████| 7/7 [00:13<00:00,  1.95s/it]\n",
      "Training (4262 / 18000 Steps) (loss=0.51235): 100%|██████████| 7/7 [00:13<00:00,  1.94s/it]\n",
      "Training (4269 / 18000 Steps) (loss=0.45978): 100%|██████████| 7/7 [00:13<00:00,  1.99s/it]\n",
      "Training (4276 / 18000 Steps) (loss=0.33525): 100%|██████████| 7/7 [00:13<00:00,  1.95s/it]\n",
      "Training (4283 / 18000 Steps) (loss=0.41879): 100%|██████████| 7/7 [00:13<00:00,  1.93s/it]\n",
      "Training (4290 / 18000 Steps) (loss=0.62140): 100%|██████████| 7/7 [00:13<00:00,  1.98s/it]\n",
      "Training (4297 / 18000 Steps) (loss=0.51802): 100%|██████████| 7/7 [00:13<00:00,  1.94s/it]\n",
      "Validate (4298 / 10 Steps): 100%|██████████| 2/2 [00:09<00:00,  4.71s/it]<00:14,  2.85s/it]\n",
      "Training (4300 / 18000 Steps) (loss=0.50628):  43%|████▎     | 3/7 [00:17<00:26,  6.62s/it]"
     ]
    },
    {
     "name": "stdout",
     "output_type": "stream",
     "text": [
      "Model Was Not Saved ! Current Best Avg. Dice: 0.2801377773284912 Current Avg. Dice: 0.2534972131252289 Current Avg. tumor Dice: 0.3200320899486542 Current Avg. lymph Dice: 0.1869623064994812\n"
     ]
    },
    {
     "name": "stderr",
     "output_type": "stream",
     "text": [
      "Training (4304 / 18000 Steps) (loss=0.42952): 100%|██████████| 7/7 [00:23<00:00,  3.33s/it]\n",
      "Training (4311 / 18000 Steps) (loss=0.41737): 100%|██████████| 7/7 [00:13<00:00,  1.96s/it]\n",
      "Training (4318 / 18000 Steps) (loss=0.39995): 100%|██████████| 7/7 [00:13<00:00,  1.99s/it]\n",
      "Training (4325 / 18000 Steps) (loss=0.41887): 100%|██████████| 7/7 [00:13<00:00,  1.97s/it]\n",
      "Training (4332 / 18000 Steps) (loss=0.45882): 100%|██████████| 7/7 [00:13<00:00,  1.96s/it]\n",
      "Training (4339 / 18000 Steps) (loss=0.37368): 100%|██████████| 7/7 [00:13<00:00,  1.94s/it]\n",
      "Training (4346 / 18000 Steps) (loss=0.64121): 100%|██████████| 7/7 [00:13<00:00,  1.94s/it]\n",
      "Training (4353 / 18000 Steps) (loss=0.54936): 100%|██████████| 7/7 [00:13<00:00,  2.00s/it]\n",
      "Training (4360 / 18000 Steps) (loss=0.61565): 100%|██████████| 7/7 [00:13<00:00,  1.96s/it]\n",
      "Training (4367 / 18000 Steps) (loss=0.39641): 100%|██████████| 7/7 [00:14<00:00,  2.00s/it]\n",
      "Training (4374 / 18000 Steps) (loss=0.48978): 100%|██████████| 7/7 [00:13<00:00,  1.96s/it]\n",
      "Training (4381 / 18000 Steps) (loss=0.43383): 100%|██████████| 7/7 [00:13<00:00,  1.94s/it]\n",
      "Training (4388 / 18000 Steps) (loss=0.41454): 100%|██████████| 7/7 [00:13<00:00,  1.98s/it]\n",
      "Training (4395 / 18000 Steps) (loss=0.41669): 100%|██████████| 7/7 [00:13<00:00,  1.95s/it]\n",
      "Validate (4396 / 10 Steps): 100%|██████████| 2/2 [00:09<00:00,  4.75s/it]<00:06,  2.03s/it]\n",
      "Training (4400 / 18000 Steps) (loss=0.54253):  71%|███████▏  | 5/7 [00:20<00:10,  5.35s/it]"
     ]
    },
    {
     "name": "stdout",
     "output_type": "stream",
     "text": [
      "Model Was Not Saved ! Current Best Avg. Dice: 0.2801377773284912 Current Avg. Dice: 0.2661767601966858 Current Avg. tumor Dice: 0.3204355239868164 Current Avg. lymph Dice: 0.21191798150539398\n"
     ]
    },
    {
     "name": "stderr",
     "output_type": "stream",
     "text": [
      "Training (4402 / 18000 Steps) (loss=0.39849): 100%|██████████| 7/7 [00:23<00:00,  3.34s/it]\n",
      "Training (4409 / 18000 Steps) (loss=0.61701): 100%|██████████| 7/7 [00:13<00:00,  1.95s/it]\n",
      "Training (4416 / 18000 Steps) (loss=0.51349): 100%|██████████| 7/7 [00:14<00:00,  2.01s/it]\n",
      "Training (4423 / 18000 Steps) (loss=0.46366): 100%|██████████| 7/7 [00:13<00:00,  1.97s/it]\n",
      "Training (4430 / 18000 Steps) (loss=0.55740): 100%|██████████| 7/7 [00:13<00:00,  2.00s/it]\n",
      "Training (4437 / 18000 Steps) (loss=0.60264): 100%|██████████| 7/7 [00:14<00:00,  2.01s/it]\n",
      "Training (4444 / 18000 Steps) (loss=0.48457): 100%|██████████| 7/7 [00:13<00:00,  1.96s/it]\n",
      "Training (4451 / 18000 Steps) (loss=0.53377): 100%|██████████| 7/7 [00:13<00:00,  1.97s/it]\n",
      "Training (4458 / 18000 Steps) (loss=0.55231): 100%|██████████| 7/7 [00:13<00:00,  1.99s/it]\n",
      "Training (4465 / 18000 Steps) (loss=0.55418): 100%|██████████| 7/7 [00:13<00:00,  2.00s/it]\n",
      "Training (4472 / 18000 Steps) (loss=0.44614): 100%|██████████| 7/7 [00:15<00:00,  2.15s/it]\n",
      "Training (4479 / 18000 Steps) (loss=0.52792): 100%|██████████| 7/7 [00:14<00:00,  2.01s/it]\n",
      "Training (4486 / 18000 Steps) (loss=0.28870): 100%|██████████| 7/7 [00:14<00:00,  2.09s/it]\n",
      "Training (4493 / 18000 Steps) (loss=0.32875): 100%|██████████| 7/7 [00:14<00:00,  2.11s/it]\n",
      "Validate (4494 / 10 Steps): 100%|██████████| 2/2 [00:10<00:00,  5.29s/it]<00:01,  1.82s/it]\n",
      "Training (4500 / 18000 Steps) (loss=0.60976): 100%|██████████| 7/7 [00:25<00:00,  3.68s/it]\n"
     ]
    },
    {
     "name": "stdout",
     "output_type": "stream",
     "text": [
      "Model Was Saved ! Current Best Avg. Dice: 0.2819879353046417 Current Avg. Dice: 0.2819879353046417 Current Avg. tumor Dice: 0.3447870910167694 Current Avg. lymph Dice: 0.21918877959251404\n"
     ]
    },
    {
     "name": "stderr",
     "output_type": "stream",
     "text": [
      "Training (4507 / 18000 Steps) (loss=0.41516): 100%|██████████| 7/7 [00:14<00:00,  2.02s/it]\n",
      "Training (4514 / 18000 Steps) (loss=0.57934): 100%|██████████| 7/7 [00:14<00:00,  2.03s/it]\n",
      "Training (4521 / 18000 Steps) (loss=0.41885): 100%|██████████| 7/7 [00:13<00:00,  1.98s/it]\n",
      "Training (4528 / 18000 Steps) (loss=0.43857): 100%|██████████| 7/7 [00:14<00:00,  2.02s/it]\n",
      "Training (4535 / 18000 Steps) (loss=0.33750): 100%|██████████| 7/7 [00:13<00:00,  1.96s/it]\n",
      "Training (4542 / 18000 Steps) (loss=0.52044): 100%|██████████| 7/7 [00:13<00:00,  1.96s/it]\n",
      "Training (4549 / 18000 Steps) (loss=0.60501): 100%|██████████| 7/7 [00:13<00:00,  1.98s/it]\n",
      "Training (4556 / 18000 Steps) (loss=0.57521): 100%|██████████| 7/7 [00:14<00:00,  2.01s/it]\n",
      "Training (4563 / 18000 Steps) (loss=0.42588): 100%|██████████| 7/7 [00:13<00:00,  1.96s/it]\n",
      "Training (4570 / 18000 Steps) (loss=0.61195): 100%|██████████| 7/7 [00:13<00:00,  1.96s/it]\n",
      "Training (4577 / 18000 Steps) (loss=0.47123): 100%|██████████| 7/7 [00:13<00:00,  1.99s/it]\n",
      "Training (4584 / 18000 Steps) (loss=0.38007): 100%|██████████| 7/7 [00:13<00:00,  1.95s/it]\n",
      "Training (4591 / 18000 Steps) (loss=0.56965): 100%|██████████| 7/7 [00:14<00:00,  2.00s/it]\n",
      "Training (4598 / 18000 Steps) (loss=0.53519): 100%|██████████| 7/7 [00:13<00:00,  1.97s/it]\n",
      "Validate (4599 / 10 Steps): 100%|██████████| 2/2 [00:09<00:00,  4.77s/it]<00:26,  4.35s/it]\n",
      "Training (4600 / 18000 Steps) (loss=0.46872):  29%|██▊       | 2/7 [00:15<00:42,  8.43s/it]"
     ]
    },
    {
     "name": "stdout",
     "output_type": "stream",
     "text": [
      "Model Was Not Saved ! Current Best Avg. Dice: 0.2819879353046417 Current Avg. Dice: 0.2532580494880676 Current Avg. tumor Dice: 0.31891149282455444 Current Avg. lymph Dice: 0.18760459125041962\n"
     ]
    },
    {
     "name": "stderr",
     "output_type": "stream",
     "text": [
      "Training (4605 / 18000 Steps) (loss=0.56177): 100%|██████████| 7/7 [00:23<00:00,  3.33s/it]\n",
      "Training (4612 / 18000 Steps) (loss=0.49314): 100%|██████████| 7/7 [00:13<00:00,  1.98s/it]\n",
      "Training (4619 / 18000 Steps) (loss=0.48058): 100%|██████████| 7/7 [00:13<00:00,  1.97s/it]\n",
      "Training (4626 / 18000 Steps) (loss=0.58202): 100%|██████████| 7/7 [00:13<00:00,  1.97s/it]\n",
      "Training (4633 / 18000 Steps) (loss=0.55630): 100%|██████████| 7/7 [00:13<00:00,  1.95s/it]\n",
      "Training (4640 / 18000 Steps) (loss=0.39890): 100%|██████████| 7/7 [00:13<00:00,  1.95s/it]\n",
      "Training (4647 / 18000 Steps) (loss=0.52260): 100%|██████████| 7/7 [00:13<00:00,  1.98s/it]\n",
      "Training (4654 / 18000 Steps) (loss=0.62128): 100%|██████████| 7/7 [00:14<00:00,  2.01s/it]\n",
      "Training (4661 / 18000 Steps) (loss=0.57743): 100%|██████████| 7/7 [00:14<00:00,  2.02s/it]\n",
      "Training (4668 / 18000 Steps) (loss=0.49928): 100%|██████████| 7/7 [00:13<00:00,  1.99s/it]\n",
      "Training (4675 / 18000 Steps) (loss=0.47436): 100%|██████████| 7/7 [00:13<00:00,  1.96s/it]\n",
      "Training (4682 / 18000 Steps) (loss=0.39521): 100%|██████████| 7/7 [00:13<00:00,  1.98s/it]\n",
      "Training (4689 / 18000 Steps) (loss=0.50309): 100%|██████████| 7/7 [00:13<00:00,  1.98s/it]\n",
      "Training (4696 / 18000 Steps) (loss=0.39865): 100%|██████████| 7/7 [00:13<00:00,  1.96s/it]\n",
      "Validate (4697 / 10 Steps): 100%|██████████| 2/2 [00:09<00:00,  4.79s/it]<00:09,  2.29s/it]\n",
      "Training (4700 / 18000 Steps) (loss=0.55840):  57%|█████▋    | 4/7 [00:19<00:17,  5.84s/it]"
     ]
    },
    {
     "name": "stdout",
     "output_type": "stream",
     "text": [
      "Model Was Not Saved ! Current Best Avg. Dice: 0.2819879353046417 Current Avg. Dice: 0.24556514620780945 Current Avg. tumor Dice: 0.2921757996082306 Current Avg. lymph Dice: 0.1989545226097107\n"
     ]
    },
    {
     "name": "stderr",
     "output_type": "stream",
     "text": [
      "Training (4703 / 18000 Steps) (loss=0.67072): 100%|██████████| 7/7 [00:23<00:00,  3.35s/it]\n",
      "Training (4710 / 18000 Steps) (loss=0.61423): 100%|██████████| 7/7 [00:13<00:00,  1.98s/it]\n",
      "Training (4717 / 18000 Steps) (loss=0.47540): 100%|██████████| 7/7 [00:13<00:00,  1.94s/it]\n",
      "Training (4724 / 18000 Steps) (loss=0.40145): 100%|██████████| 7/7 [00:13<00:00,  1.94s/it]\n",
      "Training (4731 / 18000 Steps) (loss=0.61923): 100%|██████████| 7/7 [00:13<00:00,  1.97s/it]\n",
      "Training (4738 / 18000 Steps) (loss=0.61847): 100%|██████████| 7/7 [00:13<00:00,  1.97s/it]\n",
      "Training (4745 / 18000 Steps) (loss=0.49896): 100%|██████████| 7/7 [00:13<00:00,  1.96s/it]\n",
      "Training (4752 / 18000 Steps) (loss=0.47300): 100%|██████████| 7/7 [00:13<00:00,  1.98s/it]\n",
      "Training (4759 / 18000 Steps) (loss=0.48235): 100%|██████████| 7/7 [00:13<00:00,  1.94s/it]\n",
      "Training (4766 / 18000 Steps) (loss=0.67441): 100%|██████████| 7/7 [00:13<00:00,  1.96s/it]\n",
      "Training (4773 / 18000 Steps) (loss=0.40185): 100%|██████████| 7/7 [00:13<00:00,  1.95s/it]\n",
      "Training (4780 / 18000 Steps) (loss=0.49868): 100%|██████████| 7/7 [00:13<00:00,  1.96s/it]\n",
      "Training (4787 / 18000 Steps) (loss=0.59936): 100%|██████████| 7/7 [00:13<00:00,  1.96s/it]\n",
      "Training (4794 / 18000 Steps) (loss=0.56070): 100%|██████████| 7/7 [00:13<00:00,  1.97s/it]\n",
      "Validate (4795 / 10 Steps): 100%|██████████| 2/2 [00:09<00:00,  4.74s/it]<00:03,  1.92s/it]\n",
      "Training (4800 / 18000 Steps) (loss=0.45277):  86%|████████▌ | 6/7 [00:22<00:05,  5.06s/it]"
     ]
    },
    {
     "name": "stdout",
     "output_type": "stream",
     "text": [
      "Model Was Not Saved ! Current Best Avg. Dice: 0.2819879353046417 Current Avg. Dice: 0.27714264392852783 Current Avg. tumor Dice: 0.3661608397960663 Current Avg. lymph Dice: 0.18812446296215057\n"
     ]
    },
    {
     "name": "stderr",
     "output_type": "stream",
     "text": [
      "Training (4801 / 18000 Steps) (loss=0.41290): 100%|██████████| 7/7 [00:23<00:00,  3.34s/it]\n",
      "Training (4808 / 18000 Steps) (loss=0.57240): 100%|██████████| 7/7 [00:13<00:00,  1.96s/it]\n",
      "Training (4815 / 18000 Steps) (loss=0.41343): 100%|██████████| 7/7 [00:13<00:00,  1.95s/it]\n",
      "Training (4822 / 18000 Steps) (loss=0.65190): 100%|██████████| 7/7 [00:13<00:00,  1.93s/it]\n",
      "Training (4829 / 18000 Steps) (loss=0.33663): 100%|██████████| 7/7 [00:13<00:00,  1.96s/it]\n",
      "Training (4836 / 18000 Steps) (loss=0.57720): 100%|██████████| 7/7 [00:13<00:00,  1.96s/it]\n",
      "Training (4843 / 18000 Steps) (loss=0.70730): 100%|██████████| 7/7 [00:13<00:00,  1.95s/it]\n",
      "Training (4850 / 18000 Steps) (loss=0.48822): 100%|██████████| 7/7 [00:13<00:00,  1.99s/it]\n",
      "Training (4857 / 18000 Steps) (loss=0.58592): 100%|██████████| 7/7 [00:13<00:00,  1.99s/it]\n",
      "Training (4864 / 18000 Steps) (loss=0.56314): 100%|██████████| 7/7 [00:13<00:00,  1.97s/it]\n",
      "Training (4871 / 18000 Steps) (loss=0.42561): 100%|██████████| 7/7 [00:13<00:00,  1.97s/it]\n",
      "Training (4878 / 18000 Steps) (loss=0.43208): 100%|██████████| 7/7 [00:13<00:00,  1.98s/it]\n",
      "Training (4885 / 18000 Steps) (loss=0.53087): 100%|██████████| 7/7 [00:13<00:00,  1.95s/it]\n",
      "Training (4892 / 18000 Steps) (loss=0.50971): 100%|██████████| 7/7 [00:13<00:00,  1.98s/it]\n",
      "Training (4899 / 18000 Steps) (loss=0.50704): 100%|██████████| 7/7 [00:14<00:00,  2.01s/it]\n",
      "Validate (4900 / 10 Steps): 100%|██████████| 2/2 [00:09<00:00,  4.78s/it]<?, ?it/s]\n",
      "Training (4900 / 18000 Steps) (loss=0.54983):  14%|█▍        | 1/7 [00:14<01:24, 14.05s/it]"
     ]
    },
    {
     "name": "stdout",
     "output_type": "stream",
     "text": [
      "Model Was Not Saved ! Current Best Avg. Dice: 0.2819879353046417 Current Avg. Dice: 0.25982654094696045 Current Avg. tumor Dice: 0.3148951828479767 Current Avg. lymph Dice: 0.20475786924362183\n"
     ]
    },
    {
     "name": "stderr",
     "output_type": "stream",
     "text": [
      "Training (4906 / 18000 Steps) (loss=0.37561): 100%|██████████| 7/7 [00:23<00:00,  3.36s/it]\n",
      "Training (4913 / 18000 Steps) (loss=0.41624): 100%|██████████| 7/7 [00:13<00:00,  1.93s/it]\n",
      "Training (4920 / 18000 Steps) (loss=0.45943): 100%|██████████| 7/7 [00:13<00:00,  1.96s/it]\n",
      "Training (4927 / 18000 Steps) (loss=0.57445): 100%|██████████| 7/7 [00:13<00:00,  1.96s/it]\n",
      "Training (4934 / 18000 Steps) (loss=0.56017): 100%|██████████| 7/7 [00:13<00:00,  1.94s/it]\n",
      "Training (4941 / 18000 Steps) (loss=0.73176): 100%|██████████| 7/7 [00:13<00:00,  1.98s/it]\n",
      "Training (4948 / 18000 Steps) (loss=0.55134): 100%|██████████| 7/7 [00:13<00:00,  1.97s/it]\n",
      "Training (4955 / 18000 Steps) (loss=0.39589): 100%|██████████| 7/7 [00:13<00:00,  1.95s/it]\n",
      "Training (4962 / 18000 Steps) (loss=0.53529): 100%|██████████| 7/7 [00:14<00:00,  2.02s/it]\n",
      "Training (4969 / 18000 Steps) (loss=0.61918): 100%|██████████| 7/7 [00:13<00:00,  1.97s/it]\n",
      "Training (4976 / 18000 Steps) (loss=0.49138): 100%|██████████| 7/7 [00:13<00:00,  1.96s/it]\n",
      "Training (4983 / 18000 Steps) (loss=0.47237): 100%|██████████| 7/7 [00:13<00:00,  1.97s/it]\n",
      "Training (4990 / 18000 Steps) (loss=0.57413): 100%|██████████| 7/7 [00:13<00:00,  1.95s/it]\n",
      "Training (4997 / 18000 Steps) (loss=0.59200): 100%|██████████| 7/7 [00:14<00:00,  2.03s/it]\n",
      "Validate (4998 / 10 Steps): 100%|██████████| 2/2 [00:09<00:00,  4.69s/it]<00:14,  2.88s/it]\n",
      "Training (5000 / 18000 Steps) (loss=0.46612):  43%|████▎     | 3/7 [00:17<00:26,  6.68s/it]"
     ]
    },
    {
     "name": "stdout",
     "output_type": "stream",
     "text": [
      "Model Was Not Saved ! Current Best Avg. Dice: 0.2819879353046417 Current Avg. Dice: 0.2609800398349762 Current Avg. tumor Dice: 0.32575634121894836 Current Avg. lymph Dice: 0.19620376825332642\n"
     ]
    },
    {
     "name": "stderr",
     "output_type": "stream",
     "text": [
      "Training (5004 / 18000 Steps) (loss=0.41295): 100%|██████████| 7/7 [00:23<00:00,  3.36s/it]\n",
      "Training (5011 / 18000 Steps) (loss=0.61199): 100%|██████████| 7/7 [00:13<00:00,  1.95s/it]\n",
      "Training (5018 / 18000 Steps) (loss=0.48657): 100%|██████████| 7/7 [00:13<00:00,  1.95s/it]\n",
      "Training (5025 / 18000 Steps) (loss=0.52707): 100%|██████████| 7/7 [00:13<00:00,  1.95s/it]\n",
      "Training (5032 / 18000 Steps) (loss=0.40535): 100%|██████████| 7/7 [00:13<00:00,  1.92s/it]\n",
      "Training (5039 / 18000 Steps) (loss=0.67894): 100%|██████████| 7/7 [00:14<00:00,  2.00s/it]\n",
      "Training (5046 / 18000 Steps) (loss=0.31448): 100%|██████████| 7/7 [00:14<00:00,  2.01s/it]\n",
      "Training (5053 / 18000 Steps) (loss=0.45602): 100%|██████████| 7/7 [00:13<00:00,  1.99s/it]\n",
      "Training (5060 / 18000 Steps) (loss=0.62776): 100%|██████████| 7/7 [00:13<00:00,  1.97s/it]\n",
      "Training (5067 / 18000 Steps) (loss=0.60435): 100%|██████████| 7/7 [00:13<00:00,  1.98s/it]\n",
      "Training (5074 / 18000 Steps) (loss=0.56419): 100%|██████████| 7/7 [00:13<00:00,  1.97s/it]\n",
      "Training (5081 / 18000 Steps) (loss=0.61048): 100%|██████████| 7/7 [00:13<00:00,  1.98s/it]\n",
      "Training (5088 / 18000 Steps) (loss=0.49416): 100%|██████████| 7/7 [00:13<00:00,  1.96s/it]\n",
      "Training (5095 / 18000 Steps) (loss=0.44986): 100%|██████████| 7/7 [00:14<00:00,  2.01s/it]\n",
      "Validate (5096 / 10 Steps): 100%|██████████| 2/2 [00:09<00:00,  4.69s/it]<00:06,  2.01s/it]\n",
      "Training (5100 / 18000 Steps) (loss=0.49107):  71%|███████▏  | 5/7 [00:20<00:10,  5.29s/it]"
     ]
    },
    {
     "name": "stdout",
     "output_type": "stream",
     "text": [
      "Model Was Not Saved ! Current Best Avg. Dice: 0.2819879353046417 Current Avg. Dice: 0.2492796778678894 Current Avg. tumor Dice: 0.2998093068599701 Current Avg. lymph Dice: 0.19875004887580872\n"
     ]
    },
    {
     "name": "stderr",
     "output_type": "stream",
     "text": [
      "Training (5102 / 18000 Steps) (loss=0.53596): 100%|██████████| 7/7 [00:23<00:00,  3.31s/it]\n",
      "Training (5109 / 18000 Steps) (loss=0.55464): 100%|██████████| 7/7 [00:13<00:00,  1.96s/it]\n",
      "Training (5116 / 18000 Steps) (loss=0.52179): 100%|██████████| 7/7 [00:13<00:00,  1.97s/it]\n",
      "Training (5123 / 18000 Steps) (loss=0.45207): 100%|██████████| 7/7 [00:13<00:00,  1.96s/it]\n",
      "Training (5130 / 18000 Steps) (loss=0.48132): 100%|██████████| 7/7 [00:13<00:00,  1.95s/it]\n",
      "Training (5137 / 18000 Steps) (loss=0.59692): 100%|██████████| 7/7 [00:13<00:00,  1.97s/it]\n",
      "Training (5144 / 18000 Steps) (loss=0.46539): 100%|██████████| 7/7 [00:13<00:00,  1.98s/it]\n",
      "Training (5151 / 18000 Steps) (loss=0.60843): 100%|██████████| 7/7 [00:13<00:00,  1.94s/it]\n",
      "Training (5158 / 18000 Steps) (loss=0.64878): 100%|██████████| 7/7 [00:14<00:00,  2.06s/it]\n",
      "Training (5165 / 18000 Steps) (loss=0.65276): 100%|██████████| 7/7 [00:13<00:00,  1.96s/it]\n",
      "Training (5172 / 18000 Steps) (loss=0.49747): 100%|██████████| 7/7 [00:13<00:00,  1.98s/it]\n",
      "Training (5179 / 18000 Steps) (loss=0.48568): 100%|██████████| 7/7 [00:13<00:00,  1.97s/it]\n",
      "Training (5186 / 18000 Steps) (loss=0.64108): 100%|██████████| 7/7 [00:13<00:00,  1.96s/it]\n",
      "Training (5193 / 18000 Steps) (loss=0.59502): 100%|██████████| 7/7 [00:13<00:00,  1.98s/it]\n",
      "Validate (5194 / 10 Steps): 100%|██████████| 2/2 [00:09<00:00,  4.87s/it]<00:01,  1.85s/it]\n",
      "Training (5200 / 18000 Steps) (loss=0.54478): 100%|██████████| 7/7 [00:24<00:00,  3.45s/it]\n"
     ]
    },
    {
     "name": "stdout",
     "output_type": "stream",
     "text": [
      "Model Was Not Saved ! Current Best Avg. Dice: 0.2819879353046417 Current Avg. Dice: 0.2752997875213623 Current Avg. tumor Dice: 0.3460668623447418 Current Avg. lymph Dice: 0.20453274250030518\n"
     ]
    },
    {
     "name": "stderr",
     "output_type": "stream",
     "text": [
      "Training (5207 / 18000 Steps) (loss=0.47394): 100%|██████████| 7/7 [00:13<00:00,  1.96s/it]\n",
      "Training (5214 / 18000 Steps) (loss=0.38442): 100%|██████████| 7/7 [00:14<00:00,  2.05s/it]\n",
      "Training (5221 / 18000 Steps) (loss=0.49450): 100%|██████████| 7/7 [00:14<00:00,  2.00s/it]\n",
      "Training (5228 / 18000 Steps) (loss=0.48574): 100%|██████████| 7/7 [00:13<00:00,  1.95s/it]\n",
      "Training (5235 / 18000 Steps) (loss=0.43149): 100%|██████████| 7/7 [00:13<00:00,  1.94s/it]\n",
      "Training (5242 / 18000 Steps) (loss=0.54422): 100%|██████████| 7/7 [00:13<00:00,  1.93s/it]\n",
      "Training (5249 / 18000 Steps) (loss=0.54797): 100%|██████████| 7/7 [00:13<00:00,  1.99s/it]\n",
      "Training (5256 / 18000 Steps) (loss=0.43791): 100%|██████████| 7/7 [00:13<00:00,  1.93s/it]\n",
      "Training (5263 / 18000 Steps) (loss=0.60304): 100%|██████████| 7/7 [00:13<00:00,  1.97s/it]\n",
      "Training (5270 / 18000 Steps) (loss=0.59951): 100%|██████████| 7/7 [00:13<00:00,  1.96s/it]\n",
      "Training (5277 / 18000 Steps) (loss=0.50219): 100%|██████████| 7/7 [00:13<00:00,  1.94s/it]\n",
      "Training (5284 / 18000 Steps) (loss=0.58555): 100%|██████████| 7/7 [00:13<00:00,  1.95s/it]\n",
      "Training (5291 / 18000 Steps) (loss=0.53108): 100%|██████████| 7/7 [00:13<00:00,  1.97s/it]\n",
      "Training (5298 / 18000 Steps) (loss=0.34079): 100%|██████████| 7/7 [00:13<00:00,  1.96s/it]\n",
      "Validate (5299 / 10 Steps): 100%|██████████| 2/2 [00:09<00:00,  4.70s/it]<00:28,  4.76s/it]\n",
      "Training (5300 / 18000 Steps) (loss=0.57659):  29%|██▊       | 2/7 [00:15<00:42,  8.50s/it]"
     ]
    },
    {
     "name": "stdout",
     "output_type": "stream",
     "text": [
      "Model Was Not Saved ! Current Best Avg. Dice: 0.2819879353046417 Current Avg. Dice: 0.2800971567630768 Current Avg. tumor Dice: 0.335564523935318 Current Avg. lymph Dice: 0.22462977468967438\n"
     ]
    },
    {
     "name": "stderr",
     "output_type": "stream",
     "text": [
      "Training (5305 / 18000 Steps) (loss=0.62169): 100%|██████████| 7/7 [00:23<00:00,  3.36s/it]\n",
      "Training (5312 / 18000 Steps) (loss=0.49393): 100%|██████████| 7/7 [00:13<00:00,  1.98s/it]\n",
      "Training (5319 / 18000 Steps) (loss=0.39263): 100%|██████████| 7/7 [00:13<00:00,  1.95s/it]\n",
      "Training (5326 / 18000 Steps) (loss=0.56945): 100%|██████████| 7/7 [00:13<00:00,  1.99s/it]\n",
      "Training (5333 / 18000 Steps) (loss=0.64071): 100%|██████████| 7/7 [00:13<00:00,  1.98s/it]\n",
      "Training (5340 / 18000 Steps) (loss=0.34415): 100%|██████████| 7/7 [00:13<00:00,  1.97s/it]\n",
      "Training (5347 / 18000 Steps) (loss=0.57075): 100%|██████████| 7/7 [00:13<00:00,  1.97s/it]\n",
      "Training (5354 / 18000 Steps) (loss=0.65001): 100%|██████████| 7/7 [00:14<00:00,  2.00s/it]\n",
      "Training (5361 / 18000 Steps) (loss=0.37944): 100%|██████████| 7/7 [00:13<00:00,  1.97s/it]\n",
      "Training (5368 / 18000 Steps) (loss=0.34273): 100%|██████████| 7/7 [00:13<00:00,  1.96s/it]\n",
      "Training (5375 / 18000 Steps) (loss=0.51897): 100%|██████████| 7/7 [00:13<00:00,  2.00s/it]\n",
      "Training (5382 / 18000 Steps) (loss=0.59382): 100%|██████████| 7/7 [00:13<00:00,  1.99s/it]\n",
      "Training (5389 / 18000 Steps) (loss=0.48724): 100%|██████████| 7/7 [00:13<00:00,  1.96s/it]\n",
      "Training (5396 / 18000 Steps) (loss=0.35358): 100%|██████████| 7/7 [00:14<00:00,  2.02s/it]\n",
      "Validate (5397 / 10 Steps): 100%|██████████| 2/2 [00:09<00:00,  4.76s/it]<00:09,  2.29s/it]\n",
      "Training (5400 / 18000 Steps) (loss=0.42311):  57%|█████▋    | 4/7 [00:19<00:17,  5.81s/it]"
     ]
    },
    {
     "name": "stdout",
     "output_type": "stream",
     "text": [
      "Model Was Not Saved ! Current Best Avg. Dice: 0.2819879353046417 Current Avg. Dice: 0.26856398582458496 Current Avg. tumor Dice: 0.33714547753334045 Current Avg. lymph Dice: 0.19998249411582947\n"
     ]
    },
    {
     "name": "stderr",
     "output_type": "stream",
     "text": [
      "Training (5403 / 18000 Steps) (loss=0.60215): 100%|██████████| 7/7 [00:23<00:00,  3.35s/it]\n",
      "Training (5410 / 18000 Steps) (loss=0.58267): 100%|██████████| 7/7 [00:13<00:00,  1.98s/it]\n",
      "Training (5417 / 18000 Steps) (loss=0.41586): 100%|██████████| 7/7 [00:13<00:00,  1.93s/it]\n",
      "Training (5424 / 18000 Steps) (loss=0.54318): 100%|██████████| 7/7 [00:13<00:00,  1.95s/it]\n",
      "Training (5431 / 18000 Steps) (loss=0.48594): 100%|██████████| 7/7 [00:13<00:00,  1.96s/it]\n",
      "Training (5438 / 18000 Steps) (loss=0.57623): 100%|██████████| 7/7 [00:13<00:00,  1.94s/it]\n",
      "Training (5445 / 18000 Steps) (loss=0.39652): 100%|██████████| 7/7 [00:13<00:00,  1.96s/it]\n",
      "Training (5452 / 18000 Steps) (loss=0.56918): 100%|██████████| 7/7 [00:13<00:00,  1.96s/it]\n",
      "Training (5459 / 18000 Steps) (loss=0.67139): 100%|██████████| 7/7 [00:13<00:00,  1.98s/it]\n",
      "Training (5466 / 18000 Steps) (loss=0.45037): 100%|██████████| 7/7 [00:13<00:00,  1.95s/it]\n",
      "Training (5473 / 18000 Steps) (loss=0.45145): 100%|██████████| 7/7 [00:13<00:00,  1.96s/it]\n",
      "Training (5480 / 18000 Steps) (loss=0.54752): 100%|██████████| 7/7 [00:13<00:00,  1.95s/it]\n",
      "Training (5487 / 18000 Steps) (loss=0.35547): 100%|██████████| 7/7 [00:13<00:00,  1.97s/it]\n",
      "Training (5494 / 18000 Steps) (loss=0.55563): 100%|██████████| 7/7 [00:14<00:00,  2.03s/it]\n",
      "Validate (5495 / 10 Steps): 100%|██████████| 2/2 [00:09<00:00,  4.72s/it]<00:03,  1.93s/it]\n",
      "Training (5500 / 18000 Steps) (loss=0.45247):  86%|████████▌ | 6/7 [00:23<00:05,  5.45s/it]"
     ]
    },
    {
     "name": "stdout",
     "output_type": "stream",
     "text": [
      "Model Was Saved ! Current Best Avg. Dice: 0.2979322671890259 Current Avg. Dice: 0.2979322671890259 Current Avg. tumor Dice: 0.3908187747001648 Current Avg. lymph Dice: 0.20504578948020935\n"
     ]
    },
    {
     "name": "stderr",
     "output_type": "stream",
     "text": [
      "Training (5501 / 18000 Steps) (loss=0.54339): 100%|██████████| 7/7 [00:24<00:00,  3.53s/it]\n",
      "Training (5508 / 18000 Steps) (loss=0.50607): 100%|██████████| 7/7 [00:14<00:00,  2.02s/it]\n",
      "Training (5515 / 18000 Steps) (loss=0.54139): 100%|██████████| 7/7 [00:13<00:00,  2.00s/it]\n",
      "Training (5522 / 18000 Steps) (loss=0.47630): 100%|██████████| 7/7 [00:14<00:00,  2.00s/it]\n",
      "Training (5529 / 18000 Steps) (loss=0.42917): 100%|██████████| 7/7 [00:14<00:00,  2.04s/it]\n",
      "Training (5536 / 18000 Steps) (loss=0.50442): 100%|██████████| 7/7 [00:14<00:00,  2.01s/it]\n",
      "Training (5543 / 18000 Steps) (loss=0.58559): 100%|██████████| 7/7 [00:13<00:00,  1.98s/it]\n",
      "Training (5550 / 18000 Steps) (loss=0.52626): 100%|██████████| 7/7 [00:13<00:00,  1.99s/it]\n",
      "Training (5557 / 18000 Steps) (loss=0.45389): 100%|██████████| 7/7 [00:13<00:00,  1.99s/it]\n",
      "Training (5564 / 18000 Steps) (loss=0.46999): 100%|██████████| 7/7 [00:13<00:00,  1.97s/it]\n",
      "Training (5571 / 18000 Steps) (loss=0.60378): 100%|██████████| 7/7 [00:13<00:00,  1.94s/it]\n",
      "Training (5578 / 18000 Steps) (loss=0.40450): 100%|██████████| 7/7 [00:13<00:00,  1.95s/it]\n",
      "Training (5585 / 18000 Steps) (loss=0.41656): 100%|██████████| 7/7 [00:13<00:00,  1.97s/it]\n",
      "Training (5592 / 18000 Steps) (loss=0.39003): 100%|██████████| 7/7 [00:13<00:00,  1.96s/it]\n",
      "Training (5599 / 18000 Steps) (loss=0.47380): 100%|██████████| 7/7 [00:13<00:00,  1.94s/it]\n",
      "Validate (5600 / 10 Steps): 100%|██████████| 2/2 [00:09<00:00,  4.69s/it]<?, ?it/s]\n",
      "Training (5600 / 18000 Steps) (loss=0.62145):  14%|█▍        | 1/7 [00:14<01:24, 14.02s/it]"
     ]
    },
    {
     "name": "stdout",
     "output_type": "stream",
     "text": [
      "Model Was Not Saved ! Current Best Avg. Dice: 0.2979322671890259 Current Avg. Dice: 0.27699363231658936 Current Avg. tumor Dice: 0.36977386474609375 Current Avg. lymph Dice: 0.18421341478824615\n"
     ]
    },
    {
     "name": "stderr",
     "output_type": "stream",
     "text": [
      "Training (5606 / 18000 Steps) (loss=0.50491): 100%|██████████| 7/7 [00:23<00:00,  3.34s/it]\n",
      "Training (5613 / 18000 Steps) (loss=0.49929): 100%|██████████| 7/7 [00:14<00:00,  2.01s/it]\n",
      "Training (5620 / 18000 Steps) (loss=0.62549): 100%|██████████| 7/7 [00:13<00:00,  1.98s/it]\n",
      "Training (5627 / 18000 Steps) (loss=0.57898): 100%|██████████| 7/7 [00:13<00:00,  1.95s/it]\n",
      "Training (5634 / 18000 Steps) (loss=0.55005): 100%|██████████| 7/7 [00:13<00:00,  1.97s/it]\n",
      "Training (5641 / 18000 Steps) (loss=0.54105): 100%|██████████| 7/7 [00:13<00:00,  1.95s/it]\n",
      "Training (5648 / 18000 Steps) (loss=0.37045): 100%|██████████| 7/7 [00:13<00:00,  1.96s/it]\n",
      "Training (5655 / 18000 Steps) (loss=0.50829): 100%|██████████| 7/7 [00:13<00:00,  1.95s/it]\n",
      "Training (5662 / 18000 Steps) (loss=0.54646): 100%|██████████| 7/7 [00:13<00:00,  1.97s/it]\n",
      "Training (5669 / 18000 Steps) (loss=0.46676): 100%|██████████| 7/7 [00:13<00:00,  1.94s/it]\n",
      "Training (5676 / 18000 Steps) (loss=0.47902): 100%|██████████| 7/7 [00:13<00:00,  1.93s/it]\n",
      "Training (5683 / 18000 Steps) (loss=0.43697): 100%|██████████| 7/7 [00:13<00:00,  1.95s/it]\n",
      "Training (5690 / 18000 Steps) (loss=0.49930): 100%|██████████| 7/7 [00:13<00:00,  1.93s/it]\n",
      "Training (5697 / 18000 Steps) (loss=0.40266): 100%|██████████| 7/7 [00:13<00:00,  1.96s/it]\n",
      "Validate (5698 / 10 Steps): 100%|██████████| 2/2 [00:09<00:00,  4.65s/it]<00:13,  2.73s/it]\n",
      "Training (5700 / 18000 Steps) (loss=0.59981):  43%|████▎     | 3/7 [00:16<00:25,  6.50s/it]"
     ]
    },
    {
     "name": "stdout",
     "output_type": "stream",
     "text": [
      "Model Was Not Saved ! Current Best Avg. Dice: 0.2979322671890259 Current Avg. Dice: 0.29537272453308105 Current Avg. tumor Dice: 0.3705918490886688 Current Avg. lymph Dice: 0.2201535701751709\n"
     ]
    },
    {
     "name": "stderr",
     "output_type": "stream",
     "text": [
      "Training (5704 / 18000 Steps) (loss=0.39524): 100%|██████████| 7/7 [00:22<00:00,  3.26s/it]\n",
      "Training (5711 / 18000 Steps) (loss=0.28580): 100%|██████████| 7/7 [00:13<00:00,  1.98s/it]\n",
      "Training (5718 / 18000 Steps) (loss=0.50120): 100%|██████████| 7/7 [00:13<00:00,  1.94s/it]\n",
      "Training (5725 / 18000 Steps) (loss=0.37771): 100%|██████████| 7/7 [00:13<00:00,  1.98s/it]\n",
      "Training (5732 / 18000 Steps) (loss=0.50986): 100%|██████████| 7/7 [00:13<00:00,  1.93s/it]\n",
      "Training (5739 / 18000 Steps) (loss=0.61530): 100%|██████████| 7/7 [00:13<00:00,  1.93s/it]\n",
      "Training (5746 / 18000 Steps) (loss=0.53067): 100%|██████████| 7/7 [00:13<00:00,  1.96s/it]\n",
      "Training (5753 / 18000 Steps) (loss=0.55377): 100%|██████████| 7/7 [00:13<00:00,  1.98s/it]\n",
      "Training (5760 / 18000 Steps) (loss=0.42083): 100%|██████████| 7/7 [00:13<00:00,  1.99s/it]\n",
      "Training (5767 / 18000 Steps) (loss=0.59960): 100%|██████████| 7/7 [00:13<00:00,  1.96s/it]\n",
      "Training (5774 / 18000 Steps) (loss=0.54640): 100%|██████████| 7/7 [00:13<00:00,  1.98s/it]\n",
      "Training (5781 / 18000 Steps) (loss=0.45072): 100%|██████████| 7/7 [00:13<00:00,  1.96s/it]\n",
      "Training (5788 / 18000 Steps) (loss=0.40559): 100%|██████████| 7/7 [00:13<00:00,  1.96s/it]\n",
      "Training (5795 / 18000 Steps) (loss=0.64863): 100%|██████████| 7/7 [00:13<00:00,  1.95s/it]\n",
      "Validate (5796 / 10 Steps): 100%|██████████| 2/2 [00:09<00:00,  4.71s/it]<00:06,  2.04s/it]\n",
      "Training (5800 / 18000 Steps) (loss=0.49164):  71%|███████▏  | 5/7 [00:20<00:10,  5.31s/it]"
     ]
    },
    {
     "name": "stdout",
     "output_type": "stream",
     "text": [
      "Model Was Not Saved ! Current Best Avg. Dice: 0.2979322671890259 Current Avg. Dice: 0.27676868438720703 Current Avg. tumor Dice: 0.338839054107666 Current Avg. lymph Dice: 0.21469829976558685\n"
     ]
    },
    {
     "name": "stderr",
     "output_type": "stream",
     "text": [
      "Training (5802 / 18000 Steps) (loss=0.50737): 100%|██████████| 7/7 [00:23<00:00,  3.34s/it]\n",
      "Training (5809 / 18000 Steps) (loss=0.54754): 100%|██████████| 7/7 [00:13<00:00,  1.94s/it]\n",
      "Training (5816 / 18000 Steps) (loss=0.44138): 100%|██████████| 7/7 [00:13<00:00,  1.96s/it]\n",
      "Training (5823 / 18000 Steps) (loss=0.54947): 100%|██████████| 7/7 [00:13<00:00,  1.94s/it]\n",
      "Training (5830 / 18000 Steps) (loss=0.40332): 100%|██████████| 7/7 [00:13<00:00,  1.95s/it]\n",
      "Training (5837 / 18000 Steps) (loss=0.40162): 100%|██████████| 7/7 [00:13<00:00,  1.95s/it]\n",
      "Training (5844 / 18000 Steps) (loss=0.37229): 100%|██████████| 7/7 [00:13<00:00,  1.94s/it]\n",
      "Training (5851 / 18000 Steps) (loss=0.56759): 100%|██████████| 7/7 [00:13<00:00,  1.93s/it]\n",
      "Training (5858 / 18000 Steps) (loss=0.44816): 100%|██████████| 7/7 [00:13<00:00,  1.96s/it]\n",
      "Training (5865 / 18000 Steps) (loss=0.54875): 100%|██████████| 7/7 [00:13<00:00,  1.97s/it]\n",
      "Training (5872 / 18000 Steps) (loss=0.48094): 100%|██████████| 7/7 [00:13<00:00,  1.96s/it]\n",
      "Training (5879 / 18000 Steps) (loss=0.61330): 100%|██████████| 7/7 [00:13<00:00,  1.95s/it]\n",
      "Training (5886 / 18000 Steps) (loss=0.52150): 100%|██████████| 7/7 [00:13<00:00,  1.99s/it]\n",
      "Training (5893 / 18000 Steps) (loss=0.49204): 100%|██████████| 7/7 [00:13<00:00,  1.94s/it]\n",
      "Validate (5894 / 10 Steps): 100%|██████████| 2/2 [00:09<00:00,  4.84s/it]<00:01,  1.79s/it]\n",
      "Training (5900 / 18000 Steps) (loss=0.60650): 100%|██████████| 7/7 [00:23<00:00,  3.37s/it]\n"
     ]
    },
    {
     "name": "stdout",
     "output_type": "stream",
     "text": [
      "Model Was Not Saved ! Current Best Avg. Dice: 0.2979322671890259 Current Avg. Dice: 0.2692345976829529 Current Avg. tumor Dice: 0.324353963136673 Current Avg. lymph Dice: 0.2141152322292328\n"
     ]
    },
    {
     "name": "stderr",
     "output_type": "stream",
     "text": [
      "Training (5907 / 18000 Steps) (loss=0.50648): 100%|██████████| 7/7 [00:13<00:00,  1.97s/it]\n",
      "Training (5914 / 18000 Steps) (loss=0.58109): 100%|██████████| 7/7 [00:14<00:00,  2.02s/it]\n",
      "Training (5921 / 18000 Steps) (loss=0.42567): 100%|██████████| 7/7 [00:13<00:00,  1.96s/it]\n",
      "Training (5928 / 18000 Steps) (loss=0.54204): 100%|██████████| 7/7 [00:13<00:00,  1.97s/it]\n",
      "Training (5935 / 18000 Steps) (loss=0.50734): 100%|██████████| 7/7 [00:13<00:00,  1.99s/it]\n",
      "Training (5942 / 18000 Steps) (loss=0.40905): 100%|██████████| 7/7 [00:13<00:00,  1.95s/it]\n",
      "Training (5949 / 18000 Steps) (loss=0.44616): 100%|██████████| 7/7 [00:13<00:00,  1.99s/it]\n",
      "Training (5956 / 18000 Steps) (loss=0.58513): 100%|██████████| 7/7 [00:13<00:00,  1.95s/it]\n",
      "Training (5963 / 18000 Steps) (loss=0.40414): 100%|██████████| 7/7 [00:13<00:00,  1.96s/it]\n",
      "Training (5970 / 18000 Steps) (loss=0.50829): 100%|██████████| 7/7 [00:13<00:00,  1.93s/it]\n",
      "Training (5977 / 18000 Steps) (loss=0.38919): 100%|██████████| 7/7 [00:13<00:00,  1.95s/it]\n",
      "Training (5984 / 18000 Steps) (loss=0.45556): 100%|██████████| 7/7 [00:13<00:00,  1.96s/it]\n",
      "Training (5991 / 18000 Steps) (loss=0.42483): 100%|██████████| 7/7 [00:13<00:00,  1.96s/it]\n",
      "Training (5998 / 18000 Steps) (loss=0.50145): 100%|██████████| 7/7 [00:13<00:00,  1.97s/it]\n",
      "Validate (5999 / 10 Steps): 100%|██████████| 2/2 [00:09<00:00,  4.65s/it]<00:27,  4.58s/it]\n",
      "Training (6000 / 18000 Steps) (loss=0.43058):  29%|██▊       | 2/7 [00:15<00:41,  8.36s/it]"
     ]
    },
    {
     "name": "stdout",
     "output_type": "stream",
     "text": [
      "Model Was Not Saved ! Current Best Avg. Dice: 0.2979322671890259 Current Avg. Dice: 0.2704474925994873 Current Avg. tumor Dice: 0.3360021710395813 Current Avg. lymph Dice: 0.2048928588628769\n"
     ]
    },
    {
     "name": "stderr",
     "output_type": "stream",
     "text": [
      "Training (6005 / 18000 Steps) (loss=0.54358): 100%|██████████| 7/7 [00:23<00:00,  3.34s/it]\n",
      "Training (6012 / 18000 Steps) (loss=0.57813): 100%|██████████| 7/7 [00:13<00:00,  1.94s/it]\n",
      "Training (6019 / 18000 Steps) (loss=0.55400): 100%|██████████| 7/7 [00:14<00:00,  2.01s/it]\n",
      "Training (6026 / 18000 Steps) (loss=0.57322): 100%|██████████| 7/7 [00:13<00:00,  1.94s/it]\n",
      "Training (6033 / 18000 Steps) (loss=0.40409): 100%|██████████| 7/7 [00:13<00:00,  1.95s/it]\n",
      "Training (6040 / 18000 Steps) (loss=0.40049): 100%|██████████| 7/7 [00:13<00:00,  1.95s/it]\n",
      "Training (6047 / 18000 Steps) (loss=0.50459): 100%|██████████| 7/7 [00:13<00:00,  1.98s/it]\n",
      "Training (6054 / 18000 Steps) (loss=0.36314): 100%|██████████| 7/7 [00:13<00:00,  2.00s/it]\n",
      "Training (6061 / 18000 Steps) (loss=0.49007): 100%|██████████| 7/7 [00:13<00:00,  1.94s/it]\n",
      "Training (6068 / 18000 Steps) (loss=0.40168): 100%|██████████| 7/7 [00:13<00:00,  1.96s/it]\n",
      "Training (6075 / 18000 Steps) (loss=0.52938): 100%|██████████| 7/7 [00:13<00:00,  1.92s/it]\n",
      "Training (6082 / 18000 Steps) (loss=0.42550): 100%|██████████| 7/7 [00:13<00:00,  1.96s/it]\n",
      "Training (6089 / 18000 Steps) (loss=0.43529): 100%|██████████| 7/7 [00:13<00:00,  1.96s/it]\n",
      "Training (6096 / 18000 Steps) (loss=0.67752): 100%|██████████| 7/7 [00:13<00:00,  1.96s/it]\n",
      "Validate (6097 / 10 Steps): 100%|██████████| 2/2 [00:09<00:00,  4.68s/it]<00:08,  2.23s/it]\n",
      "Training (6100 / 18000 Steps) (loss=0.47890):  57%|█████▋    | 4/7 [00:19<00:18,  6.10s/it]"
     ]
    },
    {
     "name": "stdout",
     "output_type": "stream",
     "text": [
      "Model Was Saved ! Current Best Avg. Dice: 0.29897376894950867 Current Avg. Dice: 0.29897376894950867 Current Avg. tumor Dice: 0.40018579363822937 Current Avg. lymph Dice: 0.19776171445846558\n"
     ]
    },
    {
     "name": "stderr",
     "output_type": "stream",
     "text": [
      "Training (6103 / 18000 Steps) (loss=0.50335): 100%|██████████| 7/7 [00:23<00:00,  3.42s/it]\n",
      "Training (6110 / 18000 Steps) (loss=0.56146): 100%|██████████| 7/7 [00:13<00:00,  1.94s/it]\n",
      "Training (6117 / 18000 Steps) (loss=0.51022): 100%|██████████| 7/7 [00:13<00:00,  1.97s/it]\n",
      "Training (6124 / 18000 Steps) (loss=0.49364): 100%|██████████| 7/7 [00:13<00:00,  1.94s/it]\n",
      "Training (6131 / 18000 Steps) (loss=0.64147): 100%|██████████| 7/7 [00:13<00:00,  1.93s/it]\n",
      "Training (6138 / 18000 Steps) (loss=0.48975): 100%|██████████| 7/7 [00:13<00:00,  1.93s/it]\n",
      "Training (6145 / 18000 Steps) (loss=0.52248): 100%|██████████| 7/7 [00:13<00:00,  1.97s/it]\n",
      "Training (6152 / 18000 Steps) (loss=0.44534): 100%|██████████| 7/7 [00:13<00:00,  1.97s/it]\n",
      "Training (6159 / 18000 Steps) (loss=0.46136): 100%|██████████| 7/7 [00:13<00:00,  1.95s/it]\n",
      "Training (6166 / 18000 Steps) (loss=0.43177): 100%|██████████| 7/7 [00:13<00:00,  1.95s/it]\n",
      "Training (6173 / 18000 Steps) (loss=0.52589): 100%|██████████| 7/7 [00:14<00:00,  2.01s/it]\n",
      "Training (6180 / 18000 Steps) (loss=0.46188): 100%|██████████| 7/7 [00:13<00:00,  1.97s/it]\n",
      "Training (6187 / 18000 Steps) (loss=0.50386): 100%|██████████| 7/7 [00:13<00:00,  1.95s/it]\n",
      "Training (6194 / 18000 Steps) (loss=0.58444): 100%|██████████| 7/7 [00:14<00:00,  2.01s/it]\n",
      "Validate (6195 / 10 Steps): 100%|██████████| 2/2 [00:09<00:00,  4.67s/it]<00:03,  1.89s/it]\n",
      "Training (6200 / 18000 Steps) (loss=0.52094):  86%|████████▌ | 6/7 [00:22<00:04,  4.99s/it]"
     ]
    },
    {
     "name": "stdout",
     "output_type": "stream",
     "text": [
      "Model Was Not Saved ! Current Best Avg. Dice: 0.29897376894950867 Current Avg. Dice: 0.2700352966785431 Current Avg. tumor Dice: 0.3500717878341675 Current Avg. lymph Dice: 0.1899988353252411\n"
     ]
    },
    {
     "name": "stderr",
     "output_type": "stream",
     "text": [
      "Training (6201 / 18000 Steps) (loss=0.50807): 100%|██████████| 7/7 [00:23<00:00,  3.31s/it]\n",
      "Training (6208 / 18000 Steps) (loss=0.57629): 100%|██████████| 7/7 [00:13<00:00,  1.95s/it]\n",
      "Training (6215 / 18000 Steps) (loss=0.64463): 100%|██████████| 7/7 [00:13<00:00,  1.94s/it]\n",
      "Training (6222 / 18000 Steps) (loss=0.32488): 100%|██████████| 7/7 [00:13<00:00,  1.94s/it]\n",
      "Training (6229 / 18000 Steps) (loss=0.43856): 100%|██████████| 7/7 [00:13<00:00,  1.97s/it]\n",
      "Training (6236 / 18000 Steps) (loss=0.66774): 100%|██████████| 7/7 [00:13<00:00,  1.97s/it]\n",
      "Training (6243 / 18000 Steps) (loss=0.67569): 100%|██████████| 7/7 [00:13<00:00,  1.94s/it]\n",
      "Training (6250 / 18000 Steps) (loss=0.40863): 100%|██████████| 7/7 [00:13<00:00,  1.94s/it]\n",
      "Training (6257 / 18000 Steps) (loss=0.40769): 100%|██████████| 7/7 [00:13<00:00,  1.95s/it]\n",
      "Training (6264 / 18000 Steps) (loss=0.46569): 100%|██████████| 7/7 [00:13<00:00,  1.94s/it]\n",
      "Training (6271 / 18000 Steps) (loss=0.59654): 100%|██████████| 7/7 [00:13<00:00,  1.96s/it]\n",
      "Training (6278 / 18000 Steps) (loss=0.38162): 100%|██████████| 7/7 [00:13<00:00,  2.00s/it]\n",
      "Training (6285 / 18000 Steps) (loss=0.44283): 100%|██████████| 7/7 [00:13<00:00,  1.98s/it]\n",
      "Training (6292 / 18000 Steps) (loss=0.66992): 100%|██████████| 7/7 [00:13<00:00,  1.95s/it]\n",
      "Training (6299 / 18000 Steps) (loss=0.47540): 100%|██████████| 7/7 [00:13<00:00,  1.95s/it]\n",
      "Validate (6300 / 10 Steps): 100%|██████████| 2/2 [00:09<00:00,  4.71s/it]<?, ?it/s]\n",
      "Training (6300 / 18000 Steps) (loss=0.55096):  14%|█▍        | 1/7 [00:13<01:23, 13.88s/it]"
     ]
    },
    {
     "name": "stdout",
     "output_type": "stream",
     "text": [
      "Model Was Not Saved ! Current Best Avg. Dice: 0.29897376894950867 Current Avg. Dice: 0.24507245421409607 Current Avg. tumor Dice: 0.2514711022377014 Current Avg. lymph Dice: 0.23867377638816833\n"
     ]
    },
    {
     "name": "stderr",
     "output_type": "stream",
     "text": [
      "Training (6306 / 18000 Steps) (loss=0.51833): 100%|██████████| 7/7 [00:23<00:00,  3.30s/it]\n",
      "Training (6313 / 18000 Steps) (loss=0.53210): 100%|██████████| 7/7 [00:13<00:00,  1.94s/it]\n",
      "Training (6320 / 18000 Steps) (loss=0.51024): 100%|██████████| 7/7 [00:13<00:00,  1.97s/it]\n",
      "Training (6327 / 18000 Steps) (loss=0.48252): 100%|██████████| 7/7 [00:13<00:00,  1.94s/it]\n",
      "Training (6334 / 18000 Steps) (loss=0.26113): 100%|██████████| 7/7 [00:13<00:00,  1.97s/it]\n",
      "Training (6341 / 18000 Steps) (loss=0.44693): 100%|██████████| 7/7 [00:13<00:00,  1.94s/it]\n",
      "Training (6348 / 18000 Steps) (loss=0.38458): 100%|██████████| 7/7 [00:14<00:00,  2.01s/it]\n",
      "Training (6355 / 18000 Steps) (loss=0.48672): 100%|██████████| 7/7 [00:13<00:00,  1.96s/it]\n",
      "Training (6362 / 18000 Steps) (loss=0.47099): 100%|██████████| 7/7 [00:13<00:00,  1.94s/it]\n",
      "Training (6369 / 18000 Steps) (loss=0.48331): 100%|██████████| 7/7 [00:13<00:00,  1.97s/it]\n",
      "Training (6376 / 18000 Steps) (loss=0.54742): 100%|██████████| 7/7 [00:13<00:00,  1.98s/it]\n",
      "Training (6383 / 18000 Steps) (loss=0.50835): 100%|██████████| 7/7 [00:14<00:00,  2.01s/it]\n",
      "Training (6390 / 18000 Steps) (loss=0.51736): 100%|██████████| 7/7 [00:13<00:00,  1.95s/it]\n",
      "Training (6397 / 18000 Steps) (loss=0.46636): 100%|██████████| 7/7 [00:13<00:00,  1.93s/it]\n",
      "Validate (6398 / 10 Steps): 100%|██████████| 2/2 [00:09<00:00,  4.65s/it]<00:13,  2.75s/it]\n",
      "Training (6400 / 18000 Steps) (loss=0.52035):  43%|████▎     | 3/7 [00:17<00:26,  6.53s/it]"
     ]
    },
    {
     "name": "stdout",
     "output_type": "stream",
     "text": [
      "Model Was Not Saved ! Current Best Avg. Dice: 0.29897376894950867 Current Avg. Dice: 0.2854928970336914 Current Avg. tumor Dice: 0.3493354618549347 Current Avg. lymph Dice: 0.22165034711360931\n"
     ]
    },
    {
     "name": "stderr",
     "output_type": "stream",
     "text": [
      "Training (6404 / 18000 Steps) (loss=0.60289): 100%|██████████| 7/7 [00:23<00:00,  3.30s/it]\n",
      "Training (6411 / 18000 Steps) (loss=0.65436): 100%|██████████| 7/7 [00:13<00:00,  1.95s/it]\n",
      "Training (6418 / 18000 Steps) (loss=0.55254): 100%|██████████| 7/7 [00:13<00:00,  1.95s/it]\n",
      "Training (6425 / 18000 Steps) (loss=0.66741): 100%|██████████| 7/7 [00:13<00:00,  1.98s/it]\n",
      "Training (6432 / 18000 Steps) (loss=0.49194): 100%|██████████| 7/7 [00:13<00:00,  1.97s/it]\n",
      "Training (6439 / 18000 Steps) (loss=0.55848): 100%|██████████| 7/7 [00:13<00:00,  1.94s/it]\n",
      "Training (6446 / 18000 Steps) (loss=0.29421): 100%|██████████| 7/7 [00:13<00:00,  1.95s/it]\n",
      "Training (6453 / 18000 Steps) (loss=0.48413): 100%|██████████| 7/7 [00:13<00:00,  1.94s/it]\n",
      "Training (6460 / 18000 Steps) (loss=0.44317): 100%|██████████| 7/7 [00:13<00:00,  1.97s/it]\n",
      "Training (6467 / 18000 Steps) (loss=0.46168): 100%|██████████| 7/7 [00:13<00:00,  1.95s/it]\n",
      "Training (6474 / 18000 Steps) (loss=0.56446): 100%|██████████| 7/7 [00:13<00:00,  1.97s/it]\n",
      "Training (6481 / 18000 Steps) (loss=0.38968): 100%|██████████| 7/7 [00:13<00:00,  2.00s/it]\n",
      "Training (6488 / 18000 Steps) (loss=0.36615): 100%|██████████| 7/7 [00:13<00:00,  1.99s/it]\n",
      "Training (6495 / 18000 Steps) (loss=0.49340): 100%|██████████| 7/7 [00:13<00:00,  1.95s/it]\n",
      "Validate (6496 / 10 Steps): 100%|██████████| 2/2 [00:09<00:00,  4.67s/it]<00:05,  1.99s/it]\n",
      "Training (6500 / 18000 Steps) (loss=0.41516):  71%|███████▏  | 5/7 [00:20<00:10,  5.25s/it]"
     ]
    },
    {
     "name": "stdout",
     "output_type": "stream",
     "text": [
      "Model Was Not Saved ! Current Best Avg. Dice: 0.29897376894950867 Current Avg. Dice: 0.27339279651641846 Current Avg. tumor Dice: 0.33997470140457153 Current Avg. lymph Dice: 0.20681090652942657\n"
     ]
    },
    {
     "name": "stderr",
     "output_type": "stream",
     "text": [
      "Training (6502 / 18000 Steps) (loss=0.50715): 100%|██████████| 7/7 [00:22<00:00,  3.28s/it]\n",
      "Training (6509 / 18000 Steps) (loss=0.38153): 100%|██████████| 7/7 [00:13<00:00,  1.93s/it]\n",
      "Training (6516 / 18000 Steps) (loss=0.61913): 100%|██████████| 7/7 [00:13<00:00,  1.94s/it]\n",
      "Training (6523 / 18000 Steps) (loss=0.53805): 100%|██████████| 7/7 [00:13<00:00,  1.96s/it]\n",
      "Training (6530 / 18000 Steps) (loss=0.33106): 100%|██████████| 7/7 [00:13<00:00,  2.00s/it]\n",
      "Training (6537 / 18000 Steps) (loss=0.49165): 100%|██████████| 7/7 [00:13<00:00,  1.98s/it]\n",
      "Training (6544 / 18000 Steps) (loss=0.44010): 100%|██████████| 7/7 [00:13<00:00,  1.97s/it]\n",
      "Training (6551 / 18000 Steps) (loss=0.46765): 100%|██████████| 7/7 [00:13<00:00,  1.98s/it]\n",
      "Training (6558 / 18000 Steps) (loss=0.41627): 100%|██████████| 7/7 [00:13<00:00,  1.96s/it]\n",
      "Training (6565 / 18000 Steps) (loss=0.26654): 100%|██████████| 7/7 [00:13<00:00,  1.96s/it]\n",
      "Training (6572 / 18000 Steps) (loss=0.43835): 100%|██████████| 7/7 [00:13<00:00,  1.98s/it]\n",
      "Training (6579 / 18000 Steps) (loss=0.46946): 100%|██████████| 7/7 [00:13<00:00,  1.96s/it]\n",
      "Training (6586 / 18000 Steps) (loss=0.43150): 100%|██████████| 7/7 [00:13<00:00,  1.98s/it]\n",
      "Training (6593 / 18000 Steps) (loss=0.57090): 100%|██████████| 7/7 [00:13<00:00,  1.96s/it]\n",
      "Validate (6594 / 10 Steps): 100%|██████████| 2/2 [00:09<00:00,  4.66s/it]<00:01,  1.80s/it]\n",
      "Training (6600 / 18000 Steps) (loss=0.56889): 100%|██████████| 7/7 [00:23<00:00,  3.29s/it]\n"
     ]
    },
    {
     "name": "stdout",
     "output_type": "stream",
     "text": [
      "Model Was Not Saved ! Current Best Avg. Dice: 0.29897376894950867 Current Avg. Dice: 0.27365365624427795 Current Avg. tumor Dice: 0.32556673884391785 Current Avg. lymph Dice: 0.22174057364463806\n"
     ]
    },
    {
     "name": "stderr",
     "output_type": "stream",
     "text": [
      "Training (6607 / 18000 Steps) (loss=0.46999): 100%|██████████| 7/7 [00:13<00:00,  1.96s/it]\n",
      "Training (6614 / 18000 Steps) (loss=0.37266): 100%|██████████| 7/7 [00:13<00:00,  1.94s/it]\n",
      "Training (6621 / 18000 Steps) (loss=0.39146): 100%|██████████| 7/7 [00:13<00:00,  1.95s/it]\n",
      "Training (6628 / 18000 Steps) (loss=0.49988): 100%|██████████| 7/7 [00:13<00:00,  1.97s/it]\n",
      "Training (6635 / 18000 Steps) (loss=0.61610): 100%|██████████| 7/7 [00:13<00:00,  1.96s/it]\n",
      "Training (6642 / 18000 Steps) (loss=0.55739): 100%|██████████| 7/7 [00:13<00:00,  1.95s/it]\n",
      "Training (6649 / 18000 Steps) (loss=0.48006): 100%|██████████| 7/7 [00:13<00:00,  1.94s/it]\n",
      "Training (6656 / 18000 Steps) (loss=0.27801): 100%|██████████| 7/7 [00:13<00:00,  1.96s/it]\n",
      "Training (6663 / 18000 Steps) (loss=0.54914): 100%|██████████| 7/7 [00:13<00:00,  1.95s/it]\n",
      "Training (6670 / 18000 Steps) (loss=0.34782): 100%|██████████| 7/7 [00:13<00:00,  1.97s/it]\n",
      "Training (6677 / 18000 Steps) (loss=0.41045): 100%|██████████| 7/7 [00:14<00:00,  2.00s/it]\n",
      "Training (6684 / 18000 Steps) (loss=0.41488): 100%|██████████| 7/7 [00:13<00:00,  1.96s/it]\n",
      "Training (6691 / 18000 Steps) (loss=0.50969): 100%|██████████| 7/7 [00:13<00:00,  1.97s/it]\n",
      "Training (6698 / 18000 Steps) (loss=0.56440): 100%|██████████| 7/7 [00:13<00:00,  1.97s/it]\n",
      "Validate (6699 / 10 Steps): 100%|██████████| 2/2 [00:09<00:00,  4.68s/it]<00:26,  4.40s/it]\n",
      "Training (6700 / 18000 Steps) (loss=0.41033):  29%|██▊       | 2/7 [00:15<00:41,  8.33s/it]"
     ]
    },
    {
     "name": "stdout",
     "output_type": "stream",
     "text": [
      "Model Was Not Saved ! Current Best Avg. Dice: 0.29897376894950867 Current Avg. Dice: 0.264533668756485 Current Avg. tumor Dice: 0.3248552978038788 Current Avg. lymph Dice: 0.20421208441257477\n"
     ]
    },
    {
     "name": "stderr",
     "output_type": "stream",
     "text": [
      "Training (6705 / 18000 Steps) (loss=0.34872): 100%|██████████| 7/7 [00:23<00:00,  3.32s/it]\n",
      "Training (6712 / 18000 Steps) (loss=0.47872): 100%|██████████| 7/7 [00:13<00:00,  1.99s/it]\n",
      "Training (6719 / 18000 Steps) (loss=0.54295): 100%|██████████| 7/7 [00:13<00:00,  1.95s/it]\n",
      "Training (6726 / 18000 Steps) (loss=0.29854): 100%|██████████| 7/7 [00:14<00:00,  2.03s/it]\n",
      "Training (6733 / 18000 Steps) (loss=0.57106): 100%|██████████| 7/7 [00:13<00:00,  1.96s/it]\n",
      "Training (6740 / 18000 Steps) (loss=0.62763): 100%|██████████| 7/7 [00:13<00:00,  1.96s/it]\n",
      "Training (6747 / 18000 Steps) (loss=0.42935): 100%|██████████| 7/7 [00:13<00:00,  1.97s/it]\n",
      "Training (6754 / 18000 Steps) (loss=0.31606): 100%|██████████| 7/7 [00:13<00:00,  1.97s/it]\n",
      "Training (6761 / 18000 Steps) (loss=0.55927): 100%|██████████| 7/7 [00:13<00:00,  1.97s/it]\n",
      "Training (6768 / 18000 Steps) (loss=0.42371): 100%|██████████| 7/7 [00:13<00:00,  1.97s/it]\n",
      "Training (6775 / 18000 Steps) (loss=0.26124): 100%|██████████| 7/7 [00:13<00:00,  1.96s/it]\n",
      "Training (6782 / 18000 Steps) (loss=0.58144): 100%|██████████| 7/7 [00:13<00:00,  1.98s/it]\n",
      "Training (6789 / 18000 Steps) (loss=0.61931): 100%|██████████| 7/7 [00:13<00:00,  1.95s/it]\n",
      "Training (6796 / 18000 Steps) (loss=0.47156): 100%|██████████| 7/7 [00:13<00:00,  1.93s/it]\n",
      "Validate (6797 / 10 Steps): 100%|██████████| 2/2 [00:09<00:00,  4.65s/it]<00:09,  2.29s/it]\n",
      "Training (6800 / 18000 Steps) (loss=0.41884):  57%|█████▋    | 4/7 [00:18<00:17,  5.73s/it]"
     ]
    },
    {
     "name": "stdout",
     "output_type": "stream",
     "text": [
      "Model Was Not Saved ! Current Best Avg. Dice: 0.29897376894950867 Current Avg. Dice: 0.25706353783607483 Current Avg. tumor Dice: 0.3119052052497864 Current Avg. lymph Dice: 0.20222187042236328\n"
     ]
    },
    {
     "name": "stderr",
     "output_type": "stream",
     "text": [
      "Training (6803 / 18000 Steps) (loss=0.54655): 100%|██████████| 7/7 [00:23<00:00,  3.30s/it]\n",
      "Training (6810 / 18000 Steps) (loss=0.59591): 100%|██████████| 7/7 [00:13<00:00,  1.95s/it]\n",
      "Training (6817 / 18000 Steps) (loss=0.64869): 100%|██████████| 7/7 [00:13<00:00,  1.94s/it]\n",
      "Training (6824 / 18000 Steps) (loss=0.40611): 100%|██████████| 7/7 [00:13<00:00,  1.95s/it]\n",
      "Training (6831 / 18000 Steps) (loss=0.50092): 100%|██████████| 7/7 [00:13<00:00,  1.98s/it]\n",
      "Training (6838 / 18000 Steps) (loss=0.54124): 100%|██████████| 7/7 [00:13<00:00,  1.97s/it]\n",
      "Training (6845 / 18000 Steps) (loss=0.74675): 100%|██████████| 7/7 [00:13<00:00,  1.97s/it]\n",
      "Training (6852 / 18000 Steps) (loss=0.46345): 100%|██████████| 7/7 [00:13<00:00,  1.96s/it]\n",
      "Training (6859 / 18000 Steps) (loss=0.55751): 100%|██████████| 7/7 [00:13<00:00,  1.97s/it]\n",
      "Training (6866 / 18000 Steps) (loss=0.48345): 100%|██████████| 7/7 [00:13<00:00,  1.96s/it]\n",
      "Training (6873 / 18000 Steps) (loss=0.46953): 100%|██████████| 7/7 [00:13<00:00,  1.96s/it]\n",
      "Training (6880 / 18000 Steps) (loss=0.56779): 100%|██████████| 7/7 [00:13<00:00,  1.97s/it]\n",
      "Training (6887 / 18000 Steps) (loss=0.60292): 100%|██████████| 7/7 [00:13<00:00,  2.00s/it]\n",
      "Training (6894 / 18000 Steps) (loss=0.49190): 100%|██████████| 7/7 [00:13<00:00,  1.98s/it]\n",
      "Validate (6895 / 10 Steps): 100%|██████████| 2/2 [00:09<00:00,  4.70s/it]<00:03,  1.88s/it]\n",
      "Training (6900 / 18000 Steps) (loss=0.50768):  86%|████████▌ | 6/7 [00:22<00:05,  5.01s/it]"
     ]
    },
    {
     "name": "stdout",
     "output_type": "stream",
     "text": [
      "Model Was Not Saved ! Current Best Avg. Dice: 0.29897376894950867 Current Avg. Dice: 0.26588934659957886 Current Avg. tumor Dice: 0.340522438287735 Current Avg. lymph Dice: 0.19125622510910034\n"
     ]
    },
    {
     "name": "stderr",
     "output_type": "stream",
     "text": [
      "Training (6901 / 18000 Steps) (loss=0.41384): 100%|██████████| 7/7 [00:23<00:00,  3.31s/it]\n",
      "Training (6908 / 18000 Steps) (loss=0.46387): 100%|██████████| 7/7 [00:13<00:00,  1.98s/it]\n",
      "Training (6915 / 18000 Steps) (loss=0.38693): 100%|██████████| 7/7 [00:13<00:00,  1.96s/it]\n",
      "Training (6922 / 18000 Steps) (loss=0.35182): 100%|██████████| 7/7 [00:13<00:00,  1.97s/it]\n",
      "Training (6929 / 18000 Steps) (loss=0.34824): 100%|██████████| 7/7 [00:13<00:00,  1.97s/it]\n",
      "Training (6936 / 18000 Steps) (loss=0.44828): 100%|██████████| 7/7 [00:14<00:00,  2.00s/it]\n",
      "Training (6943 / 18000 Steps) (loss=0.62918): 100%|██████████| 7/7 [00:13<00:00,  1.95s/it]\n",
      "Training (6950 / 18000 Steps) (loss=0.53545): 100%|██████████| 7/7 [00:13<00:00,  1.96s/it]\n",
      "Training (6957 / 18000 Steps) (loss=0.47238): 100%|██████████| 7/7 [00:13<00:00,  1.95s/it]\n",
      "Training (6964 / 18000 Steps) (loss=0.45439): 100%|██████████| 7/7 [00:13<00:00,  1.95s/it]\n",
      "Training (6971 / 18000 Steps) (loss=0.25895): 100%|██████████| 7/7 [00:13<00:00,  1.96s/it]\n",
      "Training (6978 / 18000 Steps) (loss=0.60381): 100%|██████████| 7/7 [00:13<00:00,  1.95s/it]\n",
      "Training (6985 / 18000 Steps) (loss=0.52501): 100%|██████████| 7/7 [00:14<00:00,  2.03s/it]\n",
      "Training (6992 / 18000 Steps) (loss=0.40747): 100%|██████████| 7/7 [00:13<00:00,  1.93s/it]\n",
      "Training (6999 / 18000 Steps) (loss=0.54599): 100%|██████████| 7/7 [00:13<00:00,  1.93s/it]\n",
      "Validate (7000 / 10 Steps): 100%|██████████| 2/2 [00:09<00:00,  4.68s/it]<?, ?it/s]\n",
      "Training (7000 / 18000 Steps) (loss=0.38439):  14%|█▍        | 1/7 [00:13<01:22, 13.68s/it]"
     ]
    },
    {
     "name": "stdout",
     "output_type": "stream",
     "text": [
      "Model Was Not Saved ! Current Best Avg. Dice: 0.29897376894950867 Current Avg. Dice: 0.273723304271698 Current Avg. tumor Dice: 0.3578105568885803 Current Avg. lymph Dice: 0.18963605165481567\n"
     ]
    },
    {
     "name": "stderr",
     "output_type": "stream",
     "text": [
      "Training (7006 / 18000 Steps) (loss=0.50896): 100%|██████████| 7/7 [00:22<00:00,  3.28s/it]\n",
      "Training (7013 / 18000 Steps) (loss=0.60071): 100%|██████████| 7/7 [00:13<00:00,  1.97s/it]\n",
      "Training (7020 / 18000 Steps) (loss=0.44324): 100%|██████████| 7/7 [00:13<00:00,  1.96s/it]\n",
      "Training (7027 / 18000 Steps) (loss=0.41045): 100%|██████████| 7/7 [00:13<00:00,  1.96s/it]\n",
      "Training (7034 / 18000 Steps) (loss=0.41046): 100%|██████████| 7/7 [00:13<00:00,  1.98s/it]\n",
      "Training (7041 / 18000 Steps) (loss=0.29976): 100%|██████████| 7/7 [00:13<00:00,  1.96s/it]\n",
      "Training (7048 / 18000 Steps) (loss=0.47368): 100%|██████████| 7/7 [00:13<00:00,  1.95s/it]\n",
      "Training (7055 / 18000 Steps) (loss=0.27070): 100%|██████████| 7/7 [00:13<00:00,  1.94s/it]\n",
      "Training (7062 / 18000 Steps) (loss=0.34840): 100%|██████████| 7/7 [00:13<00:00,  1.95s/it]\n",
      "Training (7069 / 18000 Steps) (loss=0.45307): 100%|██████████| 7/7 [00:13<00:00,  1.94s/it]\n",
      "Training (7076 / 18000 Steps) (loss=0.49528): 100%|██████████| 7/7 [00:13<00:00,  1.94s/it]\n",
      "Training (7083 / 18000 Steps) (loss=0.53573): 100%|██████████| 7/7 [00:13<00:00,  1.96s/it]\n",
      "Training (7090 / 18000 Steps) (loss=0.44830): 100%|██████████| 7/7 [00:13<00:00,  1.94s/it]\n",
      "Training (7097 / 18000 Steps) (loss=0.70942): 100%|██████████| 7/7 [00:13<00:00,  1.94s/it]\n",
      "Validate (7098 / 10 Steps): 100%|██████████| 2/2 [00:09<00:00,  4.68s/it]<00:13,  2.80s/it]\n",
      "Training (7100 / 18000 Steps) (loss=0.38624):  43%|████▎     | 3/7 [00:17<00:26,  6.57s/it]"
     ]
    },
    {
     "name": "stdout",
     "output_type": "stream",
     "text": [
      "Model Was Not Saved ! Current Best Avg. Dice: 0.29897376894950867 Current Avg. Dice: 0.2886861562728882 Current Avg. tumor Dice: 0.35309040546417236 Current Avg. lymph Dice: 0.224281907081604\n"
     ]
    },
    {
     "name": "stderr",
     "output_type": "stream",
     "text": [
      "Training (7104 / 18000 Steps) (loss=0.52749): 100%|██████████| 7/7 [00:23<00:00,  3.30s/it]\n",
      "Training (7111 / 18000 Steps) (loss=0.26003): 100%|██████████| 7/7 [00:13<00:00,  1.95s/it]\n",
      "Training (7118 / 18000 Steps) (loss=0.49238): 100%|██████████| 7/7 [00:13<00:00,  1.97s/it]\n",
      "Training (7125 / 18000 Steps) (loss=0.50298): 100%|██████████| 7/7 [00:13<00:00,  1.96s/it]\n",
      "Training (7132 / 18000 Steps) (loss=0.42828): 100%|██████████| 7/7 [00:14<00:00,  2.01s/it]\n",
      "Training (7139 / 18000 Steps) (loss=0.27483): 100%|██████████| 7/7 [00:13<00:00,  1.93s/it]\n",
      "Training (7146 / 18000 Steps) (loss=0.49424): 100%|██████████| 7/7 [00:13<00:00,  1.94s/it]\n",
      "Training (7153 / 18000 Steps) (loss=0.52099): 100%|██████████| 7/7 [00:13<00:00,  1.95s/it]\n",
      "Training (7160 / 18000 Steps) (loss=0.53619): 100%|██████████| 7/7 [00:13<00:00,  1.97s/it]\n",
      "Training (7167 / 18000 Steps) (loss=0.42959): 100%|██████████| 7/7 [00:13<00:00,  1.95s/it]\n",
      "Training (7174 / 18000 Steps) (loss=0.47319): 100%|██████████| 7/7 [00:13<00:00,  1.95s/it]\n",
      "Training (7181 / 18000 Steps) (loss=0.43119): 100%|██████████| 7/7 [00:13<00:00,  1.94s/it]\n",
      "Training (7188 / 18000 Steps) (loss=0.63543): 100%|██████████| 7/7 [00:13<00:00,  1.98s/it]\n",
      "Training (7195 / 18000 Steps) (loss=0.50976): 100%|██████████| 7/7 [00:13<00:00,  1.93s/it]\n",
      "Validate (7196 / 10 Steps): 100%|██████████| 2/2 [00:09<00:00,  4.70s/it]<00:05,  2.00s/it]\n",
      "Training (7200 / 18000 Steps) (loss=0.65274):  71%|███████▏  | 5/7 [00:20<00:10,  5.28s/it]"
     ]
    },
    {
     "name": "stdout",
     "output_type": "stream",
     "text": [
      "Model Was Not Saved ! Current Best Avg. Dice: 0.29897376894950867 Current Avg. Dice: 0.2768714725971222 Current Avg. tumor Dice: 0.36752018332481384 Current Avg. lymph Dice: 0.18622279167175293\n"
     ]
    },
    {
     "name": "stderr",
     "output_type": "stream",
     "text": [
      "Training (7202 / 18000 Steps) (loss=0.60170): 100%|██████████| 7/7 [00:23<00:00,  3.30s/it]\n",
      "Training (7209 / 18000 Steps) (loss=0.46005): 100%|██████████| 7/7 [00:13<00:00,  1.97s/it]\n",
      "Training (7216 / 18000 Steps) (loss=0.54132): 100%|██████████| 7/7 [00:13<00:00,  1.96s/it]\n",
      "Training (7223 / 18000 Steps) (loss=0.52361): 100%|██████████| 7/7 [00:13<00:00,  1.97s/it]\n",
      "Training (7230 / 18000 Steps) (loss=0.63380): 100%|██████████| 7/7 [00:13<00:00,  1.96s/it]\n",
      "Training (7237 / 18000 Steps) (loss=0.42575): 100%|██████████| 7/7 [00:14<00:00,  2.02s/it]\n",
      "Training (7244 / 18000 Steps) (loss=0.41750): 100%|██████████| 7/7 [00:13<00:00,  1.94s/it]\n",
      "Training (7251 / 18000 Steps) (loss=0.53974): 100%|██████████| 7/7 [00:13<00:00,  1.93s/it]\n",
      "Training (7258 / 18000 Steps) (loss=0.59450): 100%|██████████| 7/7 [00:13<00:00,  1.96s/it]\n",
      "Training (7265 / 18000 Steps) (loss=0.45544): 100%|██████████| 7/7 [00:13<00:00,  1.94s/it]\n",
      "Training (7272 / 18000 Steps) (loss=0.60826): 100%|██████████| 7/7 [00:13<00:00,  1.96s/it]\n",
      "Training (7279 / 18000 Steps) (loss=0.43759): 100%|██████████| 7/7 [00:13<00:00,  1.94s/it]\n",
      "Training (7286 / 18000 Steps) (loss=0.47405): 100%|██████████| 7/7 [00:13<00:00,  1.96s/it]\n",
      "Training (7293 / 18000 Steps) (loss=0.33071): 100%|██████████| 7/7 [00:13<00:00,  1.97s/it]\n",
      "Validate (7294 / 10 Steps): 100%|██████████| 2/2 [00:09<00:00,  4.69s/it]<00:01,  1.79s/it]\n",
      "Training (7300 / 18000 Steps) (loss=0.61788): 100%|██████████| 7/7 [00:23<00:00,  3.30s/it]\n"
     ]
    },
    {
     "name": "stdout",
     "output_type": "stream",
     "text": [
      "Model Was Not Saved ! Current Best Avg. Dice: 0.29897376894950867 Current Avg. Dice: 0.2807684540748596 Current Avg. tumor Dice: 0.3636432886123657 Current Avg. lymph Dice: 0.19789358973503113\n"
     ]
    },
    {
     "name": "stderr",
     "output_type": "stream",
     "text": [
      "Training (7307 / 18000 Steps) (loss=0.36994): 100%|██████████| 7/7 [00:13<00:00,  1.97s/it]\n",
      "Training (7314 / 18000 Steps) (loss=0.44272): 100%|██████████| 7/7 [00:13<00:00,  1.95s/it]\n",
      "Training (7321 / 18000 Steps) (loss=0.45691): 100%|██████████| 7/7 [00:13<00:00,  1.97s/it]\n",
      "Training (7328 / 18000 Steps) (loss=0.33704): 100%|██████████| 7/7 [00:13<00:00,  1.96s/it]\n",
      "Training (7335 / 18000 Steps) (loss=0.37822): 100%|██████████| 7/7 [00:13<00:00,  1.94s/it]\n",
      "Training (7342 / 18000 Steps) (loss=0.53260): 100%|██████████| 7/7 [00:13<00:00,  1.95s/it]\n",
      "Training (7349 / 18000 Steps) (loss=0.25105): 100%|██████████| 7/7 [00:13<00:00,  1.97s/it]\n",
      "Training (7356 / 18000 Steps) (loss=0.48685): 100%|██████████| 7/7 [00:13<00:00,  1.96s/it]\n",
      "Training (7363 / 18000 Steps) (loss=0.60183): 100%|██████████| 7/7 [00:13<00:00,  2.00s/it]\n",
      "Training (7370 / 18000 Steps) (loss=0.51050): 100%|██████████| 7/7 [00:13<00:00,  1.96s/it]\n",
      "Training (7377 / 18000 Steps) (loss=0.50386): 100%|██████████| 7/7 [00:13<00:00,  1.96s/it]\n",
      "Training (7384 / 18000 Steps) (loss=0.28325): 100%|██████████| 7/7 [00:13<00:00,  1.98s/it]\n",
      "Training (7391 / 18000 Steps) (loss=0.53679): 100%|██████████| 7/7 [00:13<00:00,  1.94s/it]\n",
      "Training (7398 / 18000 Steps) (loss=0.28657): 100%|██████████| 7/7 [00:13<00:00,  1.96s/it]\n",
      "Validate (7399 / 10 Steps): 100%|██████████| 2/2 [00:09<00:00,  4.68s/it]<00:28,  4.68s/it]\n",
      "Training (7400 / 18000 Steps) (loss=0.42814):  29%|██▊       | 2/7 [00:16<00:45,  9.02s/it]"
     ]
    },
    {
     "name": "stdout",
     "output_type": "stream",
     "text": [
      "Model Was Saved ! Current Best Avg. Dice: 0.3016800880432129 Current Avg. Dice: 0.3016800880432129 Current Avg. tumor Dice: 0.3677796721458435 Current Avg. lymph Dice: 0.23558050394058228\n"
     ]
    },
    {
     "name": "stderr",
     "output_type": "stream",
     "text": [
      "Training (7405 / 18000 Steps) (loss=0.50279): 100%|██████████| 7/7 [00:24<00:00,  3.48s/it]\n",
      "Training (7412 / 18000 Steps) (loss=0.61207): 100%|██████████| 7/7 [00:13<00:00,  1.98s/it]\n",
      "Training (7419 / 18000 Steps) (loss=0.48421): 100%|██████████| 7/7 [00:13<00:00,  1.97s/it]\n",
      "Training (7426 / 18000 Steps) (loss=0.52227): 100%|██████████| 7/7 [00:13<00:00,  1.98s/it]\n",
      "Training (7433 / 18000 Steps) (loss=0.55789): 100%|██████████| 7/7 [00:13<00:00,  1.97s/it]\n",
      "Training (7440 / 18000 Steps) (loss=0.38950): 100%|██████████| 7/7 [00:13<00:00,  1.96s/it]\n",
      "Training (7447 / 18000 Steps) (loss=0.42598): 100%|██████████| 7/7 [00:13<00:00,  1.96s/it]\n",
      "Training (7454 / 18000 Steps) (loss=0.46749): 100%|██████████| 7/7 [00:13<00:00,  1.95s/it]\n",
      "Training (7461 / 18000 Steps) (loss=0.47353): 100%|██████████| 7/7 [00:13<00:00,  1.96s/it]\n",
      "Training (7468 / 18000 Steps) (loss=0.49172): 100%|██████████| 7/7 [00:13<00:00,  1.94s/it]\n",
      "Training (7475 / 18000 Steps) (loss=0.47376): 100%|██████████| 7/7 [00:13<00:00,  1.97s/it]\n",
      "Training (7482 / 18000 Steps) (loss=0.48989): 100%|██████████| 7/7 [00:13<00:00,  1.96s/it]\n",
      "Training (7489 / 18000 Steps) (loss=0.56183): 100%|██████████| 7/7 [00:13<00:00,  1.94s/it]\n",
      "Training (7496 / 18000 Steps) (loss=0.60762): 100%|██████████| 7/7 [00:13<00:00,  1.98s/it]\n",
      "Validate (7497 / 10 Steps): 100%|██████████| 2/2 [00:09<00:00,  4.70s/it]<00:09,  2.29s/it]\n",
      "Training (7500 / 18000 Steps) (loss=0.45278):  57%|█████▋    | 4/7 [00:18<00:17,  5.77s/it]"
     ]
    },
    {
     "name": "stdout",
     "output_type": "stream",
     "text": [
      "Model Was Not Saved ! Current Best Avg. Dice: 0.3016800880432129 Current Avg. Dice: 0.269091933965683 Current Avg. tumor Dice: 0.33013635873794556 Current Avg. lymph Dice: 0.2080475389957428\n"
     ]
    },
    {
     "name": "stderr",
     "output_type": "stream",
     "text": [
      "Training (7503 / 18000 Steps) (loss=0.41996): 100%|██████████| 7/7 [00:23<00:00,  3.32s/it]\n",
      "Training (7510 / 18000 Steps) (loss=0.54680): 100%|██████████| 7/7 [00:13<00:00,  1.97s/it]\n",
      "Training (7517 / 18000 Steps) (loss=0.58048): 100%|██████████| 7/7 [00:13<00:00,  1.97s/it]\n",
      "Training (7524 / 18000 Steps) (loss=0.51695): 100%|██████████| 7/7 [00:13<00:00,  1.94s/it]\n",
      "Training (7531 / 18000 Steps) (loss=0.48735): 100%|██████████| 7/7 [00:13<00:00,  1.94s/it]\n",
      "Training (7538 / 18000 Steps) (loss=0.41677): 100%|██████████| 7/7 [00:13<00:00,  1.94s/it]\n",
      "Training (7545 / 18000 Steps) (loss=0.27378): 100%|██████████| 7/7 [00:13<00:00,  1.94s/it]\n",
      "Training (7552 / 18000 Steps) (loss=0.69945): 100%|██████████| 7/7 [00:13<00:00,  1.95s/it]\n",
      "Training (7559 / 18000 Steps) (loss=0.52525): 100%|██████████| 7/7 [00:13<00:00,  1.93s/it]\n",
      "Training (7566 / 18000 Steps) (loss=0.48003): 100%|██████████| 7/7 [00:13<00:00,  1.94s/it]\n",
      "Training (7573 / 18000 Steps) (loss=0.63636): 100%|██████████| 7/7 [00:13<00:00,  1.99s/it]\n",
      "Training (7580 / 18000 Steps) (loss=0.51125): 100%|██████████| 7/7 [00:13<00:00,  1.95s/it]\n",
      "Training (7587 / 18000 Steps) (loss=0.59750): 100%|██████████| 7/7 [00:13<00:00,  2.00s/it]\n",
      "Training (7594 / 18000 Steps) (loss=0.51992): 100%|██████████| 7/7 [00:14<00:00,  2.00s/it]\n",
      "Validate (7595 / 10 Steps): 100%|██████████| 2/2 [00:09<00:00,  4.76s/it]<00:03,  1.87s/it]\n",
      "Training (7600 / 18000 Steps) (loss=0.61926):  86%|████████▌ | 6/7 [00:22<00:05,  5.04s/it]"
     ]
    },
    {
     "name": "stdout",
     "output_type": "stream",
     "text": [
      "Model Was Not Saved ! Current Best Avg. Dice: 0.3016800880432129 Current Avg. Dice: 0.25182008743286133 Current Avg. tumor Dice: 0.2676346004009247 Current Avg. lymph Dice: 0.23600554466247559\n"
     ]
    },
    {
     "name": "stderr",
     "output_type": "stream",
     "text": [
      "Training (7601 / 18000 Steps) (loss=0.36095): 100%|██████████| 7/7 [00:23<00:00,  3.30s/it]\n",
      "Training (7608 / 18000 Steps) (loss=0.50277): 100%|██████████| 7/7 [00:13<00:00,  1.95s/it]\n",
      "Training (7615 / 18000 Steps) (loss=0.26533): 100%|██████████| 7/7 [00:13<00:00,  1.95s/it]\n",
      "Training (7622 / 18000 Steps) (loss=0.40492): 100%|██████████| 7/7 [00:13<00:00,  1.96s/it]\n",
      "Training (7629 / 18000 Steps) (loss=0.37196): 100%|██████████| 7/7 [00:13<00:00,  1.95s/it]\n",
      "Training (7636 / 18000 Steps) (loss=0.57577): 100%|██████████| 7/7 [00:14<00:00,  2.00s/it]\n",
      "Training (7643 / 18000 Steps) (loss=0.48704): 100%|██████████| 7/7 [00:13<00:00,  1.98s/it]\n",
      "Training (7650 / 18000 Steps) (loss=0.38883): 100%|██████████| 7/7 [00:13<00:00,  1.97s/it]\n",
      "Training (7657 / 18000 Steps) (loss=0.36815): 100%|██████████| 7/7 [00:13<00:00,  1.95s/it]\n",
      "Training (7664 / 18000 Steps) (loss=0.52129): 100%|██████████| 7/7 [00:13<00:00,  1.94s/it]\n",
      "Training (7671 / 18000 Steps) (loss=0.35827): 100%|██████████| 7/7 [00:13<00:00,  1.93s/it]\n",
      "Training (7678 / 18000 Steps) (loss=0.42050): 100%|██████████| 7/7 [00:13<00:00,  1.97s/it]\n",
      "Training (7685 / 18000 Steps) (loss=0.48182): 100%|██████████| 7/7 [00:13<00:00,  1.95s/it]\n",
      "Training (7692 / 18000 Steps) (loss=0.43675): 100%|██████████| 7/7 [00:13<00:00,  1.99s/it]\n",
      "Training (7699 / 18000 Steps) (loss=0.58239): 100%|██████████| 7/7 [00:13<00:00,  1.94s/it]\n",
      "Validate (7700 / 10 Steps): 100%|██████████| 2/2 [00:09<00:00,  4.70s/it]<?, ?it/s]\n",
      "Training (7700 / 18000 Steps) (loss=0.43532):  14%|█▍        | 1/7 [00:13<01:22, 13.74s/it]"
     ]
    },
    {
     "name": "stdout",
     "output_type": "stream",
     "text": [
      "Model Was Not Saved ! Current Best Avg. Dice: 0.3016800880432129 Current Avg. Dice: 0.26805031299591064 Current Avg. tumor Dice: 0.32907453179359436 Current Avg. lymph Dice: 0.20702606439590454\n"
     ]
    },
    {
     "name": "stderr",
     "output_type": "stream",
     "text": [
      "Training (7706 / 18000 Steps) (loss=0.55029): 100%|██████████| 7/7 [00:23<00:00,  3.30s/it]\n",
      "Training (7713 / 18000 Steps) (loss=0.40530): 100%|██████████| 7/7 [00:13<00:00,  1.93s/it]\n",
      "Training (7720 / 18000 Steps) (loss=0.53402): 100%|██████████| 7/7 [00:13<00:00,  1.93s/it]\n",
      "Training (7727 / 18000 Steps) (loss=0.49583): 100%|██████████| 7/7 [00:13<00:00,  1.95s/it]\n",
      "Training (7734 / 18000 Steps) (loss=0.46577): 100%|██████████| 7/7 [00:13<00:00,  1.96s/it]\n",
      "Training (7741 / 18000 Steps) (loss=0.49844): 100%|██████████| 7/7 [00:13<00:00,  1.95s/it]\n",
      "Training (7748 / 18000 Steps) (loss=0.53295): 100%|██████████| 7/7 [00:13<00:00,  1.94s/it]\n",
      "Training (7755 / 18000 Steps) (loss=0.62227): 100%|██████████| 7/7 [00:13<00:00,  1.93s/it]\n",
      "Training (7762 / 18000 Steps) (loss=0.44785): 100%|██████████| 7/7 [00:13<00:00,  1.95s/it]\n",
      "Training (7769 / 18000 Steps) (loss=0.32954): 100%|██████████| 7/7 [00:13<00:00,  1.93s/it]\n",
      "Training (7776 / 18000 Steps) (loss=0.23834): 100%|██████████| 7/7 [00:13<00:00,  1.97s/it]\n",
      "Training (7783 / 18000 Steps) (loss=0.44310): 100%|██████████| 7/7 [00:13<00:00,  1.97s/it]\n",
      "Training (7790 / 18000 Steps) (loss=0.31066): 100%|██████████| 7/7 [00:13<00:00,  1.96s/it]\n",
      "Training (7797 / 18000 Steps) (loss=0.53337): 100%|██████████| 7/7 [00:13<00:00,  1.95s/it]\n",
      "Validate (7798 / 10 Steps): 100%|██████████| 2/2 [00:09<00:00,  4.67s/it]<00:14,  2.87s/it]\n",
      "Training (7800 / 18000 Steps) (loss=0.43968):  43%|████▎     | 3/7 [00:17<00:26,  6.60s/it]"
     ]
    },
    {
     "name": "stdout",
     "output_type": "stream",
     "text": [
      "Model Was Not Saved ! Current Best Avg. Dice: 0.3016800880432129 Current Avg. Dice: 0.2700633704662323 Current Avg. tumor Dice: 0.34199923276901245 Current Avg. lymph Dice: 0.19812753796577454\n"
     ]
    },
    {
     "name": "stderr",
     "output_type": "stream",
     "text": [
      "Training (7804 / 18000 Steps) (loss=0.30692): 100%|██████████| 7/7 [00:23<00:00,  3.32s/it]\n",
      "Training (7811 / 18000 Steps) (loss=0.44778): 100%|██████████| 7/7 [00:13<00:00,  1.99s/it]\n",
      "Training (7818 / 18000 Steps) (loss=0.67682): 100%|██████████| 7/7 [00:13<00:00,  1.98s/it]\n",
      "Training (7825 / 18000 Steps) (loss=0.49253): 100%|██████████| 7/7 [00:13<00:00,  1.94s/it]\n",
      "Training (7832 / 18000 Steps) (loss=0.58071): 100%|██████████| 7/7 [00:13<00:00,  1.97s/it]\n",
      "Training (7839 / 18000 Steps) (loss=0.48444): 100%|██████████| 7/7 [00:13<00:00,  2.00s/it]\n",
      "Training (7846 / 18000 Steps) (loss=0.45349): 100%|██████████| 7/7 [00:13<00:00,  1.98s/it]\n",
      "Training (7853 / 18000 Steps) (loss=0.51010): 100%|██████████| 7/7 [00:13<00:00,  1.97s/it]\n",
      "Training (7860 / 18000 Steps) (loss=0.54840): 100%|██████████| 7/7 [00:13<00:00,  1.94s/it]\n",
      "Training (7867 / 18000 Steps) (loss=0.49982): 100%|██████████| 7/7 [00:13<00:00,  1.95s/it]\n",
      "Training (7874 / 18000 Steps) (loss=0.65193): 100%|██████████| 7/7 [00:13<00:00,  1.96s/it]\n",
      "Training (7881 / 18000 Steps) (loss=0.67092): 100%|██████████| 7/7 [00:13<00:00,  1.95s/it]\n",
      "Training (7888 / 18000 Steps) (loss=0.50016): 100%|██████████| 7/7 [00:13<00:00,  1.98s/it]\n",
      "Training (7895 / 18000 Steps) (loss=0.30148): 100%|██████████| 7/7 [00:13<00:00,  1.98s/it]\n",
      "Validate (7896 / 10 Steps): 100%|██████████| 2/2 [00:09<00:00,  4.69s/it]<00:06,  2.02s/it]\n",
      "Training (7900 / 18000 Steps) (loss=0.56406):  71%|███████▏  | 5/7 [00:20<00:10,  5.28s/it]"
     ]
    },
    {
     "name": "stdout",
     "output_type": "stream",
     "text": [
      "Model Was Not Saved ! Current Best Avg. Dice: 0.3016800880432129 Current Avg. Dice: 0.2886807918548584 Current Avg. tumor Dice: 0.36914074420928955 Current Avg. lymph Dice: 0.20822085440158844\n"
     ]
    },
    {
     "name": "stderr",
     "output_type": "stream",
     "text": [
      "Training (7902 / 18000 Steps) (loss=0.56073): 100%|██████████| 7/7 [00:23<00:00,  3.30s/it]\n",
      "Training (7909 / 18000 Steps) (loss=0.46856): 100%|██████████| 7/7 [00:13<00:00,  1.97s/it]\n",
      "Training (7916 / 18000 Steps) (loss=0.25942): 100%|██████████| 7/7 [00:13<00:00,  1.95s/it]\n",
      "Training (7923 / 18000 Steps) (loss=0.32087): 100%|██████████| 7/7 [00:13<00:00,  1.93s/it]\n",
      "Training (7930 / 18000 Steps) (loss=0.53905): 100%|██████████| 7/7 [00:13<00:00,  1.96s/it]\n",
      "Training (7937 / 18000 Steps) (loss=0.66745): 100%|██████████| 7/7 [00:13<00:00,  1.98s/it]\n",
      "Training (7944 / 18000 Steps) (loss=0.49339): 100%|██████████| 7/7 [00:13<00:00,  1.96s/it]\n",
      "Training (7951 / 18000 Steps) (loss=0.25187): 100%|██████████| 7/7 [00:13<00:00,  1.97s/it]\n",
      "Training (7958 / 18000 Steps) (loss=0.62132): 100%|██████████| 7/7 [00:13<00:00,  1.95s/it]\n",
      "Training (7965 / 18000 Steps) (loss=0.36452): 100%|██████████| 7/7 [00:13<00:00,  1.95s/it]\n",
      "Training (7972 / 18000 Steps) (loss=0.48083): 100%|██████████| 7/7 [00:13<00:00,  1.96s/it]\n",
      "Training (7979 / 18000 Steps) (loss=0.50230): 100%|██████████| 7/7 [00:13<00:00,  1.94s/it]\n",
      "Training (7986 / 18000 Steps) (loss=0.48382): 100%|██████████| 7/7 [00:13<00:00,  1.98s/it]\n",
      "Training (7993 / 18000 Steps) (loss=0.48429): 100%|██████████| 7/7 [00:13<00:00,  1.95s/it]\n",
      "Validate (7994 / 10 Steps): 100%|██████████| 2/2 [00:09<00:00,  4.67s/it]<00:01,  1.81s/it]\n",
      "Training (8000 / 18000 Steps) (loss=0.41171): 100%|██████████| 7/7 [00:23<00:00,  3.33s/it]\n"
     ]
    },
    {
     "name": "stdout",
     "output_type": "stream",
     "text": [
      "Model Was Not Saved ! Current Best Avg. Dice: 0.3016800880432129 Current Avg. Dice: 0.2633703649044037 Current Avg. tumor Dice: 0.360983282327652 Current Avg. lymph Dice: 0.1657574474811554\n"
     ]
    },
    {
     "name": "stderr",
     "output_type": "stream",
     "text": [
      "Training (8007 / 18000 Steps) (loss=0.26355): 100%|██████████| 7/7 [00:13<00:00,  1.95s/it]\n",
      "Training (8014 / 18000 Steps) (loss=0.40434): 100%|██████████| 7/7 [00:13<00:00,  1.95s/it]\n",
      "Training (8021 / 18000 Steps) (loss=0.40478): 100%|██████████| 7/7 [00:13<00:00,  1.95s/it]\n",
      "Training (8028 / 18000 Steps) (loss=0.42914): 100%|██████████| 7/7 [00:13<00:00,  1.98s/it]\n",
      "Training (8035 / 18000 Steps) (loss=0.55569): 100%|██████████| 7/7 [00:13<00:00,  1.96s/it]\n",
      "Training (8042 / 18000 Steps) (loss=0.67096): 100%|██████████| 7/7 [00:13<00:00,  1.97s/it]\n",
      "Training (8049 / 18000 Steps) (loss=0.48339): 100%|██████████| 7/7 [00:13<00:00,  1.96s/it]\n",
      "Training (8056 / 18000 Steps) (loss=0.28194): 100%|██████████| 7/7 [00:13<00:00,  1.99s/it]\n",
      "Training (8063 / 18000 Steps) (loss=0.66868): 100%|██████████| 7/7 [00:13<00:00,  1.98s/it]\n",
      "Training (8070 / 18000 Steps) (loss=0.44975): 100%|██████████| 7/7 [00:13<00:00,  1.96s/it]\n",
      "Training (8077 / 18000 Steps) (loss=0.32867): 100%|██████████| 7/7 [00:13<00:00,  1.96s/it]\n",
      "Training (8084 / 18000 Steps) (loss=0.40682): 100%|██████████| 7/7 [00:13<00:00,  1.97s/it]\n",
      "Training (8091 / 18000 Steps) (loss=0.50855): 100%|██████████| 7/7 [00:13<00:00,  1.95s/it]\n",
      "Training (8098 / 18000 Steps) (loss=0.46079): 100%|██████████| 7/7 [00:13<00:00,  2.00s/it]\n",
      "Validate (8099 / 10 Steps): 100%|██████████| 2/2 [00:09<00:00,  4.80s/it]<00:26,  4.46s/it]\n",
      "Training (8100 / 18000 Steps) (loss=0.46242):  29%|██▊       | 2/7 [00:15<00:42,  8.54s/it]"
     ]
    },
    {
     "name": "stdout",
     "output_type": "stream",
     "text": [
      "Model Was Not Saved ! Current Best Avg. Dice: 0.3016800880432129 Current Avg. Dice: 0.2867896556854248 Current Avg. tumor Dice: 0.3427588939666748 Current Avg. lymph Dice: 0.2308204025030136\n"
     ]
    },
    {
     "name": "stderr",
     "output_type": "stream",
     "text": [
      "Training (8105 / 18000 Steps) (loss=0.34116): 100%|██████████| 7/7 [00:23<00:00,  3.36s/it]\n",
      "Training (8112 / 18000 Steps) (loss=0.35098): 100%|██████████| 7/7 [00:13<00:00,  1.98s/it]\n",
      "Training (8119 / 18000 Steps) (loss=0.58056): 100%|██████████| 7/7 [00:13<00:00,  1.97s/it]\n",
      "Training (8126 / 18000 Steps) (loss=0.49104): 100%|██████████| 7/7 [00:13<00:00,  1.99s/it]\n",
      "Training (8133 / 18000 Steps) (loss=0.55143): 100%|██████████| 7/7 [00:13<00:00,  1.95s/it]\n",
      "Training (8140 / 18000 Steps) (loss=0.48976): 100%|██████████| 7/7 [00:13<00:00,  1.96s/it]\n",
      "Training (8147 / 18000 Steps) (loss=0.58690): 100%|██████████| 7/7 [00:13<00:00,  1.97s/it]\n",
      "Training (8154 / 18000 Steps) (loss=0.41659): 100%|██████████| 7/7 [00:13<00:00,  1.94s/it]\n",
      "Training (8161 / 18000 Steps) (loss=0.30024): 100%|██████████| 7/7 [00:13<00:00,  1.97s/it]\n",
      "Training (8168 / 18000 Steps) (loss=0.31939): 100%|██████████| 7/7 [00:13<00:00,  1.94s/it]\n",
      "Training (8175 / 18000 Steps) (loss=0.41314): 100%|██████████| 7/7 [00:13<00:00,  1.98s/it]\n",
      "Training (8182 / 18000 Steps) (loss=0.56545): 100%|██████████| 7/7 [00:13<00:00,  1.96s/it]\n",
      "Training (8189 / 18000 Steps) (loss=0.56697): 100%|██████████| 7/7 [00:13<00:00,  1.96s/it]\n",
      "Training (8196 / 18000 Steps) (loss=0.46438): 100%|██████████| 7/7 [00:13<00:00,  1.96s/it]\n",
      "Validate (8197 / 10 Steps): 100%|██████████| 2/2 [00:09<00:00,  4.68s/it]<00:09,  2.25s/it]\n",
      "Training (8200 / 18000 Steps) (loss=0.60428):  57%|█████▋    | 4/7 [00:18<00:17,  5.72s/it]"
     ]
    },
    {
     "name": "stdout",
     "output_type": "stream",
     "text": [
      "Model Was Not Saved ! Current Best Avg. Dice: 0.3016800880432129 Current Avg. Dice: 0.29150527715682983 Current Avg. tumor Dice: 0.361764520406723 Current Avg. lymph Dice: 0.22124603390693665\n"
     ]
    },
    {
     "name": "stderr",
     "output_type": "stream",
     "text": [
      "Training (8203 / 18000 Steps) (loss=0.34735): 100%|██████████| 7/7 [00:23<00:00,  3.30s/it]\n",
      "Training (8210 / 18000 Steps) (loss=0.54092): 100%|██████████| 7/7 [00:13<00:00,  1.95s/it]\n",
      "Training (8217 / 18000 Steps) (loss=0.42820): 100%|██████████| 7/7 [00:13<00:00,  1.96s/it]\n",
      "Training (8224 / 18000 Steps) (loss=0.60590): 100%|██████████| 7/7 [00:13<00:00,  1.98s/it]\n",
      "Training (8231 / 18000 Steps) (loss=0.60717): 100%|██████████| 7/7 [00:13<00:00,  1.95s/it]\n",
      "Training (8238 / 18000 Steps) (loss=0.45621): 100%|██████████| 7/7 [00:13<00:00,  1.96s/it]\n",
      "Training (8245 / 18000 Steps) (loss=0.63010): 100%|██████████| 7/7 [00:13<00:00,  1.97s/it]\n",
      "Training (8252 / 18000 Steps) (loss=0.45528): 100%|██████████| 7/7 [00:13<00:00,  1.94s/it]\n",
      "Training (8259 / 18000 Steps) (loss=0.47173): 100%|██████████| 7/7 [00:13<00:00,  1.96s/it]\n",
      "Training (8266 / 18000 Steps) (loss=0.40808): 100%|██████████| 7/7 [00:13<00:00,  1.95s/it]\n",
      "Training (8273 / 18000 Steps) (loss=0.56163): 100%|██████████| 7/7 [00:13<00:00,  1.94s/it]\n",
      "Training (8280 / 18000 Steps) (loss=0.55225): 100%|██████████| 7/7 [00:13<00:00,  1.96s/it]\n",
      "Training (8287 / 18000 Steps) (loss=0.43493): 100%|██████████| 7/7 [00:13<00:00,  1.99s/it]\n",
      "Training (8294 / 18000 Steps) (loss=0.44992): 100%|██████████| 7/7 [00:13<00:00,  1.96s/it]\n",
      "Validate (8295 / 10 Steps): 100%|██████████| 2/2 [00:09<00:00,  4.73s/it]<00:03,  1.90s/it]\n",
      "Training (8300 / 18000 Steps) (loss=0.59389):  86%|████████▌ | 6/7 [00:22<00:05,  5.03s/it]"
     ]
    },
    {
     "name": "stdout",
     "output_type": "stream",
     "text": [
      "Model Was Not Saved ! Current Best Avg. Dice: 0.3016800880432129 Current Avg. Dice: 0.2921491861343384 Current Avg. tumor Dice: 0.34732311964035034 Current Avg. lymph Dice: 0.2369753122329712\n"
     ]
    },
    {
     "name": "stderr",
     "output_type": "stream",
     "text": [
      "Training (8301 / 18000 Steps) (loss=0.33025): 100%|██████████| 7/7 [00:23<00:00,  3.33s/it]\n",
      "Training (8308 / 18000 Steps) (loss=0.38518): 100%|██████████| 7/7 [00:13<00:00,  1.94s/it]\n",
      "Training (8315 / 18000 Steps) (loss=0.39658): 100%|██████████| 7/7 [00:13<00:00,  1.96s/it]\n",
      "Training (8322 / 18000 Steps) (loss=0.48683): 100%|██████████| 7/7 [00:13<00:00,  1.95s/it]\n",
      "Training (8329 / 18000 Steps) (loss=0.39570): 100%|██████████| 7/7 [00:13<00:00,  1.98s/it]\n",
      "Training (8336 / 18000 Steps) (loss=0.23306): 100%|██████████| 7/7 [00:13<00:00,  1.96s/it]\n",
      "Training (8343 / 18000 Steps) (loss=0.48295): 100%|██████████| 7/7 [00:13<00:00,  1.98s/it]\n",
      "Training (8350 / 18000 Steps) (loss=0.58981): 100%|██████████| 7/7 [00:13<00:00,  1.98s/it]\n",
      "Training (8357 / 18000 Steps) (loss=0.47727): 100%|██████████| 7/7 [00:13<00:00,  1.95s/it]\n",
      "Training (8364 / 18000 Steps) (loss=0.54491): 100%|██████████| 7/7 [00:13<00:00,  1.97s/it]\n",
      "Training (8371 / 18000 Steps) (loss=0.40884): 100%|██████████| 7/7 [00:13<00:00,  1.96s/it]\n",
      "Training (8378 / 18000 Steps) (loss=0.43414): 100%|██████████| 7/7 [00:13<00:00,  1.96s/it]\n",
      "Training (8385 / 18000 Steps) (loss=0.46516): 100%|██████████| 7/7 [00:13<00:00,  1.97s/it]\n",
      "Training (8392 / 18000 Steps) (loss=0.46987): 100%|██████████| 7/7 [00:13<00:00,  1.93s/it]\n",
      "Training (8399 / 18000 Steps) (loss=0.42148): 100%|██████████| 7/7 [00:13<00:00,  1.96s/it]\n",
      "Validate (8400 / 10 Steps): 100%|██████████| 2/2 [00:09<00:00,  4.74s/it]<?, ?it/s]\n",
      "Training (8400 / 18000 Steps) (loss=0.44957):  14%|█▍        | 1/7 [00:13<01:23, 13.87s/it]"
     ]
    },
    {
     "name": "stdout",
     "output_type": "stream",
     "text": [
      "Model Was Not Saved ! Current Best Avg. Dice: 0.3016800880432129 Current Avg. Dice: 0.2809978127479553 Current Avg. tumor Dice: 0.3494681715965271 Current Avg. lymph Dice: 0.21252749860286713\n"
     ]
    },
    {
     "name": "stderr",
     "output_type": "stream",
     "text": [
      "Training (8406 / 18000 Steps) (loss=0.54740): 100%|██████████| 7/7 [00:23<00:00,  3.31s/it]\n",
      "Training (8413 / 18000 Steps) (loss=0.57845): 100%|██████████| 7/7 [00:13<00:00,  2.00s/it]\n",
      "Training (8420 / 18000 Steps) (loss=0.50058): 100%|██████████| 7/7 [00:13<00:00,  1.95s/it]\n",
      "Training (8427 / 18000 Steps) (loss=0.35939): 100%|██████████| 7/7 [00:13<00:00,  1.96s/it]\n",
      "Training (8434 / 18000 Steps) (loss=0.54862): 100%|██████████| 7/7 [00:13<00:00,  1.94s/it]\n",
      "Training (8441 / 18000 Steps) (loss=0.45092): 100%|██████████| 7/7 [00:13<00:00,  1.94s/it]\n",
      "Training (8448 / 18000 Steps) (loss=0.57510): 100%|██████████| 7/7 [00:13<00:00,  1.96s/it]\n",
      "Training (8455 / 18000 Steps) (loss=0.63546): 100%|██████████| 7/7 [00:13<00:00,  1.95s/it]\n",
      "Training (8462 / 18000 Steps) (loss=0.57718): 100%|██████████| 7/7 [00:13<00:00,  1.97s/it]\n",
      "Training (8469 / 18000 Steps) (loss=0.61521): 100%|██████████| 7/7 [00:13<00:00,  1.95s/it]\n",
      "Training (8476 / 18000 Steps) (loss=0.24824): 100%|██████████| 7/7 [00:13<00:00,  1.96s/it]\n",
      "Training (8483 / 18000 Steps) (loss=0.54797): 100%|██████████| 7/7 [00:13<00:00,  1.97s/it]\n",
      "Training (8490 / 18000 Steps) (loss=0.48223): 100%|██████████| 7/7 [00:13<00:00,  2.00s/it]\n",
      "Training (8497 / 18000 Steps) (loss=0.37139): 100%|██████████| 7/7 [00:13<00:00,  1.94s/it]\n",
      "Validate (8498 / 10 Steps): 100%|██████████| 2/2 [00:09<00:00,  4.69s/it]<00:14,  2.81s/it]\n",
      "Training (8500 / 18000 Steps) (loss=0.53213):  43%|████▎     | 3/7 [00:17<00:26,  6.59s/it]"
     ]
    },
    {
     "name": "stdout",
     "output_type": "stream",
     "text": [
      "Model Was Not Saved ! Current Best Avg. Dice: 0.3016800880432129 Current Avg. Dice: 0.2832145690917969 Current Avg. tumor Dice: 0.35400375723838806 Current Avg. lymph Dice: 0.2124253362417221\n"
     ]
    },
    {
     "name": "stderr",
     "output_type": "stream",
     "text": [
      "Training (8504 / 18000 Steps) (loss=0.49533): 100%|██████████| 7/7 [00:23<00:00,  3.32s/it]\n",
      "Training (8511 / 18000 Steps) (loss=0.50031): 100%|██████████| 7/7 [00:13<00:00,  1.98s/it]\n",
      "Training (8518 / 18000 Steps) (loss=0.55047): 100%|██████████| 7/7 [00:13<00:00,  1.94s/it]\n",
      "Training (8525 / 18000 Steps) (loss=0.44130): 100%|██████████| 7/7 [00:13<00:00,  1.95s/it]\n",
      "Training (8532 / 18000 Steps) (loss=0.48498): 100%|██████████| 7/7 [00:13<00:00,  1.98s/it]\n",
      "Training (8539 / 18000 Steps) (loss=0.54313): 100%|██████████| 7/7 [00:13<00:00,  1.96s/it]\n",
      "Training (8546 / 18000 Steps) (loss=0.49487): 100%|██████████| 7/7 [00:13<00:00,  1.97s/it]\n",
      "Training (8553 / 18000 Steps) (loss=0.48863): 100%|██████████| 7/7 [00:13<00:00,  1.96s/it]\n",
      "Training (8560 / 18000 Steps) (loss=0.47506): 100%|██████████| 7/7 [00:13<00:00,  1.99s/it]\n",
      "Training (8567 / 18000 Steps) (loss=0.44128): 100%|██████████| 7/7 [00:13<00:00,  1.99s/it]\n",
      "Training (8574 / 18000 Steps) (loss=0.33940): 100%|██████████| 7/7 [00:13<00:00,  1.97s/it]\n",
      "Training (8581 / 18000 Steps) (loss=0.49195): 100%|██████████| 7/7 [00:13<00:00,  1.95s/it]\n",
      "Training (8588 / 18000 Steps) (loss=0.35419): 100%|██████████| 7/7 [00:13<00:00,  1.97s/it]\n",
      "Training (8595 / 18000 Steps) (loss=0.60969): 100%|██████████| 7/7 [00:13<00:00,  1.96s/it]\n",
      "Validate (8596 / 10 Steps): 100%|██████████| 2/2 [00:09<00:00,  4.72s/it]<00:05,  1.99s/it]\n",
      "Training (8600 / 18000 Steps) (loss=0.59640):  71%|███████▏  | 5/7 [00:20<00:10,  5.28s/it]"
     ]
    },
    {
     "name": "stdout",
     "output_type": "stream",
     "text": [
      "Model Was Not Saved ! Current Best Avg. Dice: 0.3016800880432129 Current Avg. Dice: 0.26590052247047424 Current Avg. tumor Dice: 0.32395225763320923 Current Avg. lymph Dice: 0.20784884691238403\n"
     ]
    },
    {
     "name": "stderr",
     "output_type": "stream",
     "text": [
      "Training (8602 / 18000 Steps) (loss=0.20498): 100%|██████████| 7/7 [00:23<00:00,  3.29s/it]\n",
      "Training (8609 / 18000 Steps) (loss=0.54431): 100%|██████████| 7/7 [00:13<00:00,  1.95s/it]\n",
      "Training (8616 / 18000 Steps) (loss=0.27994): 100%|██████████| 7/7 [00:13<00:00,  1.98s/it]\n",
      "Training (8623 / 18000 Steps) (loss=0.50008): 100%|██████████| 7/7 [00:13<00:00,  1.95s/it]\n",
      "Training (8630 / 18000 Steps) (loss=0.52857): 100%|██████████| 7/7 [00:13<00:00,  1.96s/it]\n",
      "Training (8637 / 18000 Steps) (loss=0.46428): 100%|██████████| 7/7 [00:13<00:00,  1.93s/it]\n",
      "Training (8644 / 18000 Steps) (loss=0.31228): 100%|██████████| 7/7 [00:13<00:00,  1.97s/it]\n",
      "Training (8651 / 18000 Steps) (loss=0.37274): 100%|██████████| 7/7 [00:13<00:00,  1.96s/it]\n",
      "Training (8658 / 18000 Steps) (loss=0.49051): 100%|██████████| 7/7 [00:13<00:00,  1.97s/it]\n",
      "Training (8665 / 18000 Steps) (loss=0.41018): 100%|██████████| 7/7 [00:13<00:00,  1.95s/it]\n",
      "Training (8672 / 18000 Steps) (loss=0.22976): 100%|██████████| 7/7 [00:14<00:00,  2.01s/it]\n",
      "Training (8679 / 18000 Steps) (loss=0.46516): 100%|██████████| 7/7 [00:13<00:00,  1.97s/it]\n",
      "Training (8686 / 18000 Steps) (loss=0.56332): 100%|██████████| 7/7 [00:13<00:00,  1.96s/it]\n",
      "Training (8693 / 18000 Steps) (loss=0.35907): 100%|██████████| 7/7 [00:13<00:00,  1.97s/it]\n",
      "Validate (8694 / 10 Steps): 100%|██████████| 2/2 [00:09<00:00,  4.70s/it]<00:01,  1.79s/it]\n",
      "Training (8700 / 18000 Steps) (loss=0.44549): 100%|██████████| 7/7 [00:23<00:00,  3.29s/it]\n"
     ]
    },
    {
     "name": "stdout",
     "output_type": "stream",
     "text": [
      "Model Was Not Saved ! Current Best Avg. Dice: 0.3016800880432129 Current Avg. Dice: 0.27638837695121765 Current Avg. tumor Dice: 0.3561413586139679 Current Avg. lymph Dice: 0.19663536548614502\n"
     ]
    },
    {
     "name": "stderr",
     "output_type": "stream",
     "text": [
      "Training (8707 / 18000 Steps) (loss=0.40224): 100%|██████████| 7/7 [00:13<00:00,  1.96s/it]\n",
      "Training (8714 / 18000 Steps) (loss=0.52766): 100%|██████████| 7/7 [00:14<00:00,  2.01s/it]\n",
      "Training (8721 / 18000 Steps) (loss=0.48996): 100%|██████████| 7/7 [00:13<00:00,  1.93s/it]\n",
      "Training (8728 / 18000 Steps) (loss=0.31040): 100%|██████████| 7/7 [00:13<00:00,  1.98s/it]\n",
      "Training (8735 / 18000 Steps) (loss=0.45564): 100%|██████████| 7/7 [00:13<00:00,  1.97s/it]\n",
      "Training (8742 / 18000 Steps) (loss=0.45218): 100%|██████████| 7/7 [00:13<00:00,  1.98s/it]\n",
      "Training (8749 / 18000 Steps) (loss=0.47373): 100%|██████████| 7/7 [00:13<00:00,  1.97s/it]\n",
      "Training (8756 / 18000 Steps) (loss=0.47364): 100%|██████████| 7/7 [00:13<00:00,  2.00s/it]\n",
      "Training (8763 / 18000 Steps) (loss=0.47918): 100%|██████████| 7/7 [00:14<00:00,  2.00s/it]\n",
      "Training (8770 / 18000 Steps) (loss=0.43487): 100%|██████████| 7/7 [00:13<00:00,  1.98s/it]\n",
      "Training (8777 / 18000 Steps) (loss=0.62658): 100%|██████████| 7/7 [00:13<00:00,  1.96s/it]\n",
      "Training (8784 / 18000 Steps) (loss=0.35484): 100%|██████████| 7/7 [00:13<00:00,  1.96s/it]\n",
      "Training (8791 / 18000 Steps) (loss=0.35491): 100%|██████████| 7/7 [00:13<00:00,  1.95s/it]\n",
      "Training (8798 / 18000 Steps) (loss=0.47517): 100%|██████████| 7/7 [00:13<00:00,  1.96s/it]\n",
      "Validate (8799 / 10 Steps): 100%|██████████| 2/2 [00:09<00:00,  4.73s/it]<00:26,  4.36s/it]\n",
      "Training (8800 / 18000 Steps) (loss=0.48512):  29%|██▊       | 2/7 [00:15<00:41,  8.36s/it]"
     ]
    },
    {
     "name": "stdout",
     "output_type": "stream",
     "text": [
      "Model Was Not Saved ! Current Best Avg. Dice: 0.3016800880432129 Current Avg. Dice: 0.29414182901382446 Current Avg. tumor Dice: 0.38826826214790344 Current Avg. lymph Dice: 0.2000153660774231\n"
     ]
    },
    {
     "name": "stderr",
     "output_type": "stream",
     "text": [
      "Training (8805 / 18000 Steps) (loss=0.38248): 100%|██████████| 7/7 [00:23<00:00,  3.31s/it]\n",
      "Training (8812 / 18000 Steps) (loss=0.60291): 100%|██████████| 7/7 [00:13<00:00,  1.99s/it]\n",
      "Training (8819 / 18000 Steps) (loss=0.39012): 100%|██████████| 7/7 [00:13<00:00,  1.94s/it]\n",
      "Training (8826 / 18000 Steps) (loss=0.57122): 100%|██████████| 7/7 [00:13<00:00,  1.99s/it]\n",
      "Training (8833 / 18000 Steps) (loss=0.54952): 100%|██████████| 7/7 [00:13<00:00,  1.92s/it]\n",
      "Training (8840 / 18000 Steps) (loss=0.43654): 100%|██████████| 7/7 [00:13<00:00,  1.96s/it]\n",
      "Training (8847 / 18000 Steps) (loss=0.60046): 100%|██████████| 7/7 [00:13<00:00,  1.95s/it]\n",
      "Training (8854 / 18000 Steps) (loss=0.37297): 100%|██████████| 7/7 [00:13<00:00,  1.97s/it]\n",
      "Training (8861 / 18000 Steps) (loss=0.35419): 100%|██████████| 7/7 [00:13<00:00,  1.97s/it]\n",
      "Training (8868 / 18000 Steps) (loss=0.25360): 100%|██████████| 7/7 [00:13<00:00,  1.99s/it]\n",
      "Training (8875 / 18000 Steps) (loss=0.39931): 100%|██████████| 7/7 [00:13<00:00,  1.98s/it]\n",
      "Training (8882 / 18000 Steps) (loss=0.63122): 100%|██████████| 7/7 [00:13<00:00,  1.94s/it]\n",
      "Training (8889 / 18000 Steps) (loss=0.50285): 100%|██████████| 7/7 [00:13<00:00,  1.94s/it]\n",
      "Training (8896 / 18000 Steps) (loss=0.58533): 100%|██████████| 7/7 [00:13<00:00,  1.93s/it]\n",
      "Validate (8897 / 10 Steps): 100%|██████████| 2/2 [00:09<00:00,  4.71s/it]<00:08,  2.24s/it]\n",
      "Training (8900 / 18000 Steps) (loss=0.53223):  57%|█████▋    | 4/7 [00:19<00:18,  6.11s/it]"
     ]
    },
    {
     "name": "stdout",
     "output_type": "stream",
     "text": [
      "Model Was Saved ! Current Best Avg. Dice: 0.30718210339546204 Current Avg. Dice: 0.30718210339546204 Current Avg. tumor Dice: 0.35111257433891296 Current Avg. lymph Dice: 0.2632516324520111\n"
     ]
    },
    {
     "name": "stderr",
     "output_type": "stream",
     "text": [
      "Training (8903 / 18000 Steps) (loss=0.44681): 100%|██████████| 7/7 [00:23<00:00,  3.43s/it]\n",
      "Training (8910 / 18000 Steps) (loss=0.35215): 100%|██████████| 7/7 [00:13<00:00,  1.96s/it]\n",
      "Training (8917 / 18000 Steps) (loss=0.30999): 100%|██████████| 7/7 [00:13<00:00,  1.94s/it]\n",
      "Training (8924 / 18000 Steps) (loss=0.54195): 100%|██████████| 7/7 [00:13<00:00,  1.96s/it]\n",
      "Training (8931 / 18000 Steps) (loss=0.46844): 100%|██████████| 7/7 [00:13<00:00,  1.99s/it]\n",
      "Training (8938 / 18000 Steps) (loss=0.42898): 100%|██████████| 7/7 [00:13<00:00,  1.94s/it]\n",
      "Training (8945 / 18000 Steps) (loss=0.46841): 100%|██████████| 7/7 [00:13<00:00,  1.96s/it]\n",
      "Training (8952 / 18000 Steps) (loss=0.45496): 100%|██████████| 7/7 [00:13<00:00,  1.96s/it]\n",
      "Training (8959 / 18000 Steps) (loss=0.62761): 100%|██████████| 7/7 [00:13<00:00,  1.96s/it]\n",
      "Training (8966 / 18000 Steps) (loss=0.57950): 100%|██████████| 7/7 [00:13<00:00,  1.95s/it]\n",
      "Training (8973 / 18000 Steps) (loss=0.26643): 100%|██████████| 7/7 [00:13<00:00,  1.98s/it]\n",
      "Training (8980 / 18000 Steps) (loss=0.50442): 100%|██████████| 7/7 [00:13<00:00,  1.94s/it]\n",
      "Training (8987 / 18000 Steps) (loss=0.29954): 100%|██████████| 7/7 [00:13<00:00,  1.96s/it]\n",
      "Training (8994 / 18000 Steps) (loss=0.50511): 100%|██████████| 7/7 [00:13<00:00,  1.93s/it]\n",
      "Validate (8995 / 10 Steps): 100%|██████████| 2/2 [00:09<00:00,  4.64s/it]<00:03,  1.89s/it]\n",
      "Training (9000 / 18000 Steps) (loss=0.53146):  86%|████████▌ | 6/7 [00:22<00:04,  4.97s/it]"
     ]
    },
    {
     "name": "stdout",
     "output_type": "stream",
     "text": [
      "Model Was Not Saved ! Current Best Avg. Dice: 0.30718210339546204 Current Avg. Dice: 0.2525797486305237 Current Avg. tumor Dice: 0.33167794346809387 Current Avg. lymph Dice: 0.1734815090894699\n"
     ]
    },
    {
     "name": "stderr",
     "output_type": "stream",
     "text": [
      "Training (9001 / 18000 Steps) (loss=0.48284): 100%|██████████| 7/7 [00:23<00:00,  3.31s/it]\n",
      "Training (9008 / 18000 Steps) (loss=0.45231): 100%|██████████| 7/7 [00:13<00:00,  1.94s/it]\n",
      "Training (9015 / 18000 Steps) (loss=0.55323): 100%|██████████| 7/7 [00:13<00:00,  1.97s/it]\n",
      "Training (9022 / 18000 Steps) (loss=0.36597): 100%|██████████| 7/7 [00:13<00:00,  1.99s/it]\n",
      "Training (9029 / 18000 Steps) (loss=0.32100): 100%|██████████| 7/7 [00:13<00:00,  1.96s/it]\n",
      "Training (9036 / 18000 Steps) (loss=0.49905): 100%|██████████| 7/7 [00:13<00:00,  1.99s/it]\n",
      "Training (9043 / 18000 Steps) (loss=0.61530): 100%|██████████| 7/7 [00:13<00:00,  1.96s/it]\n",
      "Training (9050 / 18000 Steps) (loss=0.34909): 100%|██████████| 7/7 [00:13<00:00,  1.96s/it]\n",
      "Training (9057 / 18000 Steps) (loss=0.53828): 100%|██████████| 7/7 [00:13<00:00,  1.97s/it]\n",
      "Training (9064 / 18000 Steps) (loss=0.46186): 100%|██████████| 7/7 [00:13<00:00,  1.96s/it]\n",
      "Training (9071 / 18000 Steps) (loss=0.54898): 100%|██████████| 7/7 [00:13<00:00,  1.95s/it]\n",
      "Training (9078 / 18000 Steps) (loss=0.46916): 100%|██████████| 7/7 [00:13<00:00,  1.98s/it]\n",
      "Training (9085 / 18000 Steps) (loss=0.41053): 100%|██████████| 7/7 [00:13<00:00,  1.94s/it]\n",
      "Training (9092 / 18000 Steps) (loss=0.29885): 100%|██████████| 7/7 [00:13<00:00,  1.94s/it]\n",
      "Training (9099 / 18000 Steps) (loss=0.23453): 100%|██████████| 7/7 [00:13<00:00,  1.93s/it]\n",
      "Validate (9100 / 10 Steps): 100%|██████████| 2/2 [00:09<00:00,  4.68s/it]<?, ?it/s]\n",
      "Training (9100 / 18000 Steps) (loss=0.45529):  14%|█▍        | 1/7 [00:13<01:22, 13.77s/it]"
     ]
    },
    {
     "name": "stdout",
     "output_type": "stream",
     "text": [
      "Model Was Not Saved ! Current Best Avg. Dice: 0.30718210339546204 Current Avg. Dice: 0.2754414677619934 Current Avg. tumor Dice: 0.35755854845046997 Current Avg. lymph Dice: 0.19332438707351685\n"
     ]
    },
    {
     "name": "stderr",
     "output_type": "stream",
     "text": [
      "Training (9106 / 18000 Steps) (loss=0.57500): 100%|██████████| 7/7 [00:23<00:00,  3.30s/it]\n",
      "Training (9113 / 18000 Steps) (loss=0.37078): 100%|██████████| 7/7 [00:13<00:00,  1.93s/it]\n",
      "Training (9120 / 18000 Steps) (loss=0.59083): 100%|██████████| 7/7 [00:13<00:00,  1.96s/it]\n",
      "Training (9127 / 18000 Steps) (loss=0.35039): 100%|██████████| 7/7 [00:13<00:00,  1.98s/it]\n",
      "Training (9134 / 18000 Steps) (loss=0.44852): 100%|██████████| 7/7 [00:13<00:00,  1.95s/it]\n",
      "Training (9141 / 18000 Steps) (loss=0.43469): 100%|██████████| 7/7 [00:13<00:00,  1.96s/it]\n",
      "Training (9148 / 18000 Steps) (loss=0.24345): 100%|██████████| 7/7 [00:13<00:00,  1.98s/it]\n",
      "Training (9155 / 18000 Steps) (loss=0.50009): 100%|██████████| 7/7 [00:13<00:00,  1.93s/it]\n",
      "Training (9162 / 18000 Steps) (loss=0.54728): 100%|██████████| 7/7 [00:13<00:00,  1.96s/it]\n",
      "Training (9169 / 18000 Steps) (loss=0.66701): 100%|██████████| 7/7 [00:13<00:00,  1.93s/it]\n",
      "Training (9176 / 18000 Steps) (loss=0.55557): 100%|██████████| 7/7 [00:13<00:00,  1.99s/it]\n",
      "Training (9183 / 18000 Steps) (loss=0.23039): 100%|██████████| 7/7 [00:13<00:00,  1.99s/it]\n",
      "Training (9190 / 18000 Steps) (loss=0.66456): 100%|██████████| 7/7 [00:13<00:00,  1.95s/it]\n",
      "Training (9197 / 18000 Steps) (loss=0.39274): 100%|██████████| 7/7 [00:13<00:00,  1.96s/it]\n",
      "Validate (9198 / 10 Steps): 100%|██████████| 2/2 [00:09<00:00,  4.67s/it]<00:13,  2.75s/it]\n",
      "Training (9200 / 18000 Steps) (loss=0.63382):  43%|████▎     | 3/7 [00:17<00:26,  6.53s/it]"
     ]
    },
    {
     "name": "stdout",
     "output_type": "stream",
     "text": [
      "Model Was Not Saved ! Current Best Avg. Dice: 0.30718210339546204 Current Avg. Dice: 0.2708095908164978 Current Avg. tumor Dice: 0.35809603333473206 Current Avg. lymph Dice: 0.18352311849594116\n"
     ]
    },
    {
     "name": "stderr",
     "output_type": "stream",
     "text": [
      "Training (9204 / 18000 Steps) (loss=0.56915): 100%|██████████| 7/7 [00:23<00:00,  3.29s/it]\n",
      "Training (9211 / 18000 Steps) (loss=0.52492): 100%|██████████| 7/7 [00:13<00:00,  1.97s/it]\n",
      "Training (9218 / 18000 Steps) (loss=0.55295): 100%|██████████| 7/7 [00:13<00:00,  1.95s/it]\n",
      "Training (9225 / 18000 Steps) (loss=0.33615): 100%|██████████| 7/7 [00:13<00:00,  1.99s/it]\n",
      "Training (9232 / 18000 Steps) (loss=0.28501): 100%|██████████| 7/7 [00:13<00:00,  1.96s/it]\n",
      "Training (9239 / 18000 Steps) (loss=0.60585): 100%|██████████| 7/7 [00:13<00:00,  1.96s/it]\n",
      "Training (9246 / 18000 Steps) (loss=0.61893): 100%|██████████| 7/7 [00:13<00:00,  1.98s/it]\n",
      "Training (9253 / 18000 Steps) (loss=0.57629): 100%|██████████| 7/7 [00:13<00:00,  1.92s/it]\n",
      "Training (9260 / 18000 Steps) (loss=0.42904): 100%|██████████| 7/7 [00:13<00:00,  1.94s/it]\n",
      "Training (9267 / 18000 Steps) (loss=0.40226): 100%|██████████| 7/7 [00:13<00:00,  1.96s/it]\n",
      "Training (9274 / 18000 Steps) (loss=0.53795): 100%|██████████| 7/7 [00:13<00:00,  1.93s/it]\n",
      "Training (9281 / 18000 Steps) (loss=0.31937): 100%|██████████| 7/7 [00:13<00:00,  1.95s/it]\n",
      "Training (9288 / 18000 Steps) (loss=0.35481): 100%|██████████| 7/7 [00:13<00:00,  2.00s/it]\n",
      "Training (9295 / 18000 Steps) (loss=0.39940): 100%|██████████| 7/7 [00:13<00:00,  1.96s/it]\n",
      "Validate (9296 / 10 Steps): 100%|██████████| 2/2 [00:09<00:00,  4.73s/it]<00:06,  2.03s/it]\n",
      "Training (9300 / 18000 Steps) (loss=0.42621):  71%|███████▏  | 5/7 [00:20<00:10,  5.32s/it]"
     ]
    },
    {
     "name": "stdout",
     "output_type": "stream",
     "text": [
      "Model Was Not Saved ! Current Best Avg. Dice: 0.30718210339546204 Current Avg. Dice: 0.27266889810562134 Current Avg. tumor Dice: 0.33910003304481506 Current Avg. lymph Dice: 0.20623773336410522\n"
     ]
    },
    {
     "name": "stderr",
     "output_type": "stream",
     "text": [
      "Training (9302 / 18000 Steps) (loss=0.21821): 100%|██████████| 7/7 [00:23<00:00,  3.32s/it]\n",
      "Training (9309 / 18000 Steps) (loss=0.37868): 100%|██████████| 7/7 [00:13<00:00,  1.95s/it]\n",
      "Training (9316 / 18000 Steps) (loss=0.42534): 100%|██████████| 7/7 [00:13<00:00,  1.94s/it]\n",
      "Training (9323 / 18000 Steps) (loss=0.51413): 100%|██████████| 7/7 [00:13<00:00,  1.95s/it]\n",
      "Training (9330 / 18000 Steps) (loss=0.53030): 100%|██████████| 7/7 [00:13<00:00,  1.98s/it]\n",
      "Training (9337 / 18000 Steps) (loss=0.49456): 100%|██████████| 7/7 [00:13<00:00,  1.94s/it]\n",
      "Training (9344 / 18000 Steps) (loss=0.60677): 100%|██████████| 7/7 [00:13<00:00,  1.96s/it]\n",
      "Training (9351 / 18000 Steps) (loss=0.44602): 100%|██████████| 7/7 [00:13<00:00,  1.97s/it]\n",
      "Training (9358 / 18000 Steps) (loss=0.54445): 100%|██████████| 7/7 [00:13<00:00,  1.95s/it]\n",
      "Training (9365 / 18000 Steps) (loss=0.38789): 100%|██████████| 7/7 [00:13<00:00,  1.94s/it]\n",
      "Training (9372 / 18000 Steps) (loss=0.41459): 100%|██████████| 7/7 [00:13<00:00,  1.95s/it]\n",
      "Training (9379 / 18000 Steps) (loss=0.40875): 100%|██████████| 7/7 [00:13<00:00,  1.93s/it]\n",
      "Training (9386 / 18000 Steps) (loss=0.36076): 100%|██████████| 7/7 [00:13<00:00,  2.00s/it]\n",
      "Training (9393 / 18000 Steps) (loss=0.35167): 100%|██████████| 7/7 [00:13<00:00,  1.94s/it]\n",
      "Validate (9394 / 10 Steps): 100%|██████████| 2/2 [00:09<00:00,  4.72s/it]<00:01,  1.81s/it]\n",
      "Training (9400 / 18000 Steps) (loss=0.42794): 100%|██████████| 7/7 [00:24<00:00,  3.45s/it]\n"
     ]
    },
    {
     "name": "stdout",
     "output_type": "stream",
     "text": [
      "Model Was Saved ! Current Best Avg. Dice: 0.3082180619239807 Current Avg. Dice: 0.3082180619239807 Current Avg. tumor Dice: 0.3762451410293579 Current Avg. lymph Dice: 0.24019098281860352\n"
     ]
    },
    {
     "name": "stderr",
     "output_type": "stream",
     "text": [
      "Training (9407 / 18000 Steps) (loss=0.60022): 100%|██████████| 7/7 [00:13<00:00,  1.99s/it]\n",
      "Training (9414 / 18000 Steps) (loss=0.43915): 100%|██████████| 7/7 [00:13<00:00,  1.94s/it]\n",
      "Training (9421 / 18000 Steps) (loss=0.54021): 100%|██████████| 7/7 [00:13<00:00,  1.97s/it]\n",
      "Training (9428 / 18000 Steps) (loss=0.26049): 100%|██████████| 7/7 [00:13<00:00,  1.94s/it]\n",
      "Training (9435 / 18000 Steps) (loss=0.36178): 100%|██████████| 7/7 [00:14<00:00,  2.01s/it]\n",
      "Training (9442 / 18000 Steps) (loss=0.34813): 100%|██████████| 7/7 [00:13<00:00,  1.95s/it]\n",
      "Training (9449 / 18000 Steps) (loss=0.47355): 100%|██████████| 7/7 [00:13<00:00,  1.96s/it]\n",
      "Training (9456 / 18000 Steps) (loss=0.55154): 100%|██████████| 7/7 [00:13<00:00,  1.97s/it]\n",
      "Training (9463 / 18000 Steps) (loss=0.33878): 100%|██████████| 7/7 [00:13<00:00,  1.97s/it]\n",
      "Training (9470 / 18000 Steps) (loss=0.38746): 100%|██████████| 7/7 [00:13<00:00,  1.96s/it]\n",
      "Training (9477 / 18000 Steps) (loss=0.53421): 100%|██████████| 7/7 [00:13<00:00,  1.93s/it]\n",
      "Training (9484 / 18000 Steps) (loss=0.44005): 100%|██████████| 7/7 [00:13<00:00,  1.93s/it]\n",
      "Training (9491 / 18000 Steps) (loss=0.38533): 100%|██████████| 7/7 [00:13<00:00,  1.94s/it]\n",
      "Training (9498 / 18000 Steps) (loss=0.52258): 100%|██████████| 7/7 [00:13<00:00,  1.98s/it]\n",
      "Validate (9499 / 10 Steps): 100%|██████████| 2/2 [00:09<00:00,  4.71s/it]<00:25,  4.26s/it]\n",
      "Training (9500 / 18000 Steps) (loss=0.38726):  29%|██▊       | 2/7 [00:15<00:41,  8.29s/it]"
     ]
    },
    {
     "name": "stdout",
     "output_type": "stream",
     "text": [
      "Model Was Not Saved ! Current Best Avg. Dice: 0.3082180619239807 Current Avg. Dice: 0.286785364151001 Current Avg. tumor Dice: 0.3598519265651703 Current Avg. lymph Dice: 0.21371880173683167\n"
     ]
    },
    {
     "name": "stderr",
     "output_type": "stream",
     "text": [
      "Training (9505 / 18000 Steps) (loss=0.46909): 100%|██████████| 7/7 [00:23<00:00,  3.29s/it]\n",
      "Training (9512 / 18000 Steps) (loss=0.42679): 100%|██████████| 7/7 [00:13<00:00,  1.97s/it]\n",
      "Training (9519 / 18000 Steps) (loss=0.43841): 100%|██████████| 7/7 [00:13<00:00,  1.95s/it]\n",
      "Training (9526 / 18000 Steps) (loss=0.49624): 100%|██████████| 7/7 [00:13<00:00,  1.95s/it]\n",
      "Training (9533 / 18000 Steps) (loss=0.27630): 100%|██████████| 7/7 [00:13<00:00,  1.99s/it]\n",
      "Training (9540 / 18000 Steps) (loss=0.28939): 100%|██████████| 7/7 [00:13<00:00,  1.94s/it]\n",
      "Training (9547 / 18000 Steps) (loss=0.46624): 100%|██████████| 7/7 [00:13<00:00,  1.95s/it]\n",
      "Training (9554 / 18000 Steps) (loss=0.35535): 100%|██████████| 7/7 [00:13<00:00,  1.96s/it]\n",
      "Training (9561 / 18000 Steps) (loss=0.38015): 100%|██████████| 7/7 [00:13<00:00,  1.96s/it]\n",
      "Training (9568 / 18000 Steps) (loss=0.42184): 100%|██████████| 7/7 [00:13<00:00,  1.95s/it]\n",
      "Training (9575 / 18000 Steps) (loss=0.50615): 100%|██████████| 7/7 [00:13<00:00,  1.95s/it]\n",
      "Training (9582 / 18000 Steps) (loss=0.56010): 100%|██████████| 7/7 [00:13<00:00,  1.96s/it]\n",
      "Training (9589 / 18000 Steps) (loss=0.44112): 100%|██████████| 7/7 [00:13<00:00,  1.93s/it]\n",
      "Training (9596 / 18000 Steps) (loss=0.38572): 100%|██████████| 7/7 [00:13<00:00,  1.95s/it]\n",
      "Validate (9597 / 10 Steps): 100%|██████████| 2/2 [00:09<00:00,  4.73s/it]<00:09,  2.26s/it]\n",
      "Training (9600 / 18000 Steps) (loss=0.39667):  57%|█████▋    | 4/7 [00:18<00:17,  5.76s/it]"
     ]
    },
    {
     "name": "stdout",
     "output_type": "stream",
     "text": [
      "Model Was Not Saved ! Current Best Avg. Dice: 0.3082180619239807 Current Avg. Dice: 0.29437172412872314 Current Avg. tumor Dice: 0.3627956509590149 Current Avg. lymph Dice: 0.225947767496109\n"
     ]
    },
    {
     "name": "stderr",
     "output_type": "stream",
     "text": [
      "Training (9603 / 18000 Steps) (loss=0.59125): 100%|██████████| 7/7 [00:23<00:00,  3.31s/it]\n",
      "Training (9610 / 18000 Steps) (loss=0.29419): 100%|██████████| 7/7 [00:13<00:00,  1.95s/it]\n",
      "Training (9617 / 18000 Steps) (loss=0.57988): 100%|██████████| 7/7 [00:13<00:00,  1.97s/it]\n",
      "Training (9624 / 18000 Steps) (loss=0.53822): 100%|██████████| 7/7 [00:14<00:00,  2.03s/it]\n",
      "Training (9631 / 18000 Steps) (loss=0.43242): 100%|██████████| 7/7 [00:14<00:00,  2.01s/it]\n",
      "Training (9638 / 18000 Steps) (loss=0.65071): 100%|██████████| 7/7 [00:14<00:00,  2.03s/it]\n",
      "Training (9645 / 18000 Steps) (loss=0.55274): 100%|██████████| 7/7 [00:13<00:00,  1.97s/it]\n",
      "Training (9652 / 18000 Steps) (loss=0.55954): 100%|██████████| 7/7 [00:13<00:00,  1.95s/it]\n",
      "Training (9659 / 18000 Steps) (loss=0.43441): 100%|██████████| 7/7 [00:13<00:00,  1.96s/it]\n",
      "Training (9666 / 18000 Steps) (loss=0.61231): 100%|██████████| 7/7 [00:13<00:00,  1.95s/it]\n",
      "Training (9673 / 18000 Steps) (loss=0.58871): 100%|██████████| 7/7 [00:13<00:00,  1.95s/it]\n",
      "Training (9680 / 18000 Steps) (loss=0.43120): 100%|██████████| 7/7 [00:13<00:00,  1.98s/it]\n",
      "Training (9687 / 18000 Steps) (loss=0.53890): 100%|██████████| 7/7 [00:13<00:00,  1.97s/it]\n",
      "Training (9694 / 18000 Steps) (loss=0.43077): 100%|██████████| 7/7 [00:13<00:00,  1.95s/it]\n",
      "Validate (9695 / 10 Steps): 100%|██████████| 2/2 [00:09<00:00,  4.73s/it]<00:03,  1.91s/it]\n",
      "Training (9700 / 18000 Steps) (loss=0.53414):  86%|████████▌ | 6/7 [00:22<00:05,  5.06s/it]"
     ]
    },
    {
     "name": "stdout",
     "output_type": "stream",
     "text": [
      "Model Was Not Saved ! Current Best Avg. Dice: 0.3082180619239807 Current Avg. Dice: 0.2679353356361389 Current Avg. tumor Dice: 0.32968834042549133 Current Avg. lymph Dice: 0.2061823010444641\n"
     ]
    },
    {
     "name": "stderr",
     "output_type": "stream",
     "text": [
      "Training (9701 / 18000 Steps) (loss=0.63992): 100%|██████████| 7/7 [00:23<00:00,  3.32s/it]\n",
      "Training (9708 / 18000 Steps) (loss=0.48533): 100%|██████████| 7/7 [00:13<00:00,  1.95s/it]\n",
      "Training (9715 / 18000 Steps) (loss=0.65422): 100%|██████████| 7/7 [00:13<00:00,  1.96s/it]\n",
      "Training (9722 / 18000 Steps) (loss=0.37034): 100%|██████████| 7/7 [00:13<00:00,  1.96s/it]\n",
      "Training (9729 / 18000 Steps) (loss=0.57406): 100%|██████████| 7/7 [00:13<00:00,  1.96s/it]\n",
      "Training (9736 / 18000 Steps) (loss=0.58772): 100%|██████████| 7/7 [00:13<00:00,  1.97s/it]\n",
      "Training (9743 / 18000 Steps) (loss=0.62192): 100%|██████████| 7/7 [00:13<00:00,  1.98s/it]\n",
      "Training (9750 / 18000 Steps) (loss=0.60055): 100%|██████████| 7/7 [00:13<00:00,  1.95s/it]\n",
      "Training (9757 / 18000 Steps) (loss=0.39615): 100%|██████████| 7/7 [00:13<00:00,  1.96s/it]\n",
      "Training (9764 / 18000 Steps) (loss=0.48625): 100%|██████████| 7/7 [00:13<00:00,  1.94s/it]\n",
      "Training (9771 / 18000 Steps) (loss=0.50568): 100%|██████████| 7/7 [00:13<00:00,  1.98s/it]\n",
      "Training (9778 / 18000 Steps) (loss=0.54414): 100%|██████████| 7/7 [00:13<00:00,  1.95s/it]\n",
      "Training (9785 / 18000 Steps) (loss=0.49563): 100%|██████████| 7/7 [00:13<00:00,  1.96s/it]\n",
      "Training (9792 / 18000 Steps) (loss=0.26836): 100%|██████████| 7/7 [00:14<00:00,  2.00s/it]\n",
      "Training (9799 / 18000 Steps) (loss=0.44715): 100%|██████████| 7/7 [00:13<00:00,  1.95s/it]\n",
      "Validate (9800 / 10 Steps): 100%|██████████| 2/2 [00:09<00:00,  4.69s/it]<?, ?it/s]\n",
      "Training (9800 / 18000 Steps) (loss=0.39536):  14%|█▍        | 1/7 [00:14<01:24, 14.13s/it]"
     ]
    },
    {
     "name": "stdout",
     "output_type": "stream",
     "text": [
      "Model Was Not Saved ! Current Best Avg. Dice: 0.3082180619239807 Current Avg. Dice: 0.26844388246536255 Current Avg. tumor Dice: 0.3459259271621704 Current Avg. lymph Dice: 0.1909618377685547\n"
     ]
    },
    {
     "name": "stderr",
     "output_type": "stream",
     "text": [
      "Training (9806 / 18000 Steps) (loss=0.26895): 100%|██████████| 7/7 [00:23<00:00,  3.35s/it]\n",
      "Training (9813 / 18000 Steps) (loss=0.32921): 100%|██████████| 7/7 [00:13<00:00,  1.98s/it]\n",
      "Training (9820 / 18000 Steps) (loss=0.54375): 100%|██████████| 7/7 [00:13<00:00,  1.96s/it]\n",
      "Training (9827 / 18000 Steps) (loss=0.37881): 100%|██████████| 7/7 [00:13<00:00,  1.96s/it]\n",
      "Training (9834 / 18000 Steps) (loss=0.52972): 100%|██████████| 7/7 [00:13<00:00,  1.96s/it]\n",
      "Training (9841 / 18000 Steps) (loss=0.39534): 100%|██████████| 7/7 [00:13<00:00,  1.97s/it]\n",
      "Training (9848 / 18000 Steps) (loss=0.37355): 100%|██████████| 7/7 [00:13<00:00,  1.96s/it]\n",
      "Training (9855 / 18000 Steps) (loss=0.44719): 100%|██████████| 7/7 [00:13<00:00,  1.99s/it]\n",
      "Training (9862 / 18000 Steps) (loss=0.43564): 100%|██████████| 7/7 [00:13<00:00,  1.96s/it]\n",
      "Training (9869 / 18000 Steps) (loss=0.54686): 100%|██████████| 7/7 [00:13<00:00,  1.98s/it]\n",
      "Training (9876 / 18000 Steps) (loss=0.43594): 100%|██████████| 7/7 [00:13<00:00,  1.95s/it]\n",
      "Training (9883 / 18000 Steps) (loss=0.39247): 100%|██████████| 7/7 [00:13<00:00,  1.94s/it]\n",
      "Training (9890 / 18000 Steps) (loss=0.43829): 100%|██████████| 7/7 [00:13<00:00,  1.99s/it]\n",
      "Training (9897 / 18000 Steps) (loss=0.36508): 100%|██████████| 7/7 [00:13<00:00,  1.94s/it]\n",
      "Validate (9898 / 10 Steps): 100%|██████████| 2/2 [00:09<00:00,  4.72s/it]<00:13,  2.71s/it]\n",
      "Training (9900 / 18000 Steps) (loss=0.56009):  43%|████▎     | 3/7 [00:16<00:26,  6.55s/it]"
     ]
    },
    {
     "name": "stdout",
     "output_type": "stream",
     "text": [
      "Model Was Not Saved ! Current Best Avg. Dice: 0.3082180619239807 Current Avg. Dice: 0.277118980884552 Current Avg. tumor Dice: 0.34755080938339233 Current Avg. lymph Dice: 0.20668715238571167\n"
     ]
    },
    {
     "name": "stderr",
     "output_type": "stream",
     "text": [
      "Training (9904 / 18000 Steps) (loss=0.37174): 100%|██████████| 7/7 [00:23<00:00,  3.32s/it]\n",
      "Training (9911 / 18000 Steps) (loss=0.45871): 100%|██████████| 7/7 [00:13<00:00,  1.96s/it]\n",
      "Training (9918 / 18000 Steps) (loss=0.56385): 100%|██████████| 7/7 [00:13<00:00,  1.95s/it]\n",
      "Training (9925 / 18000 Steps) (loss=0.34069): 100%|██████████| 7/7 [00:13<00:00,  1.95s/it]\n",
      "Training (9932 / 18000 Steps) (loss=0.46956): 100%|██████████| 7/7 [00:13<00:00,  1.93s/it]\n",
      "Training (9939 / 18000 Steps) (loss=0.50344): 100%|██████████| 7/7 [00:13<00:00,  1.98s/it]\n",
      "Training (9946 / 18000 Steps) (loss=0.59559): 100%|██████████| 7/7 [00:13<00:00,  1.97s/it]\n",
      "Training (9953 / 18000 Steps) (loss=0.40174): 100%|██████████| 7/7 [00:13<00:00,  1.95s/it]\n",
      "Training (9960 / 18000 Steps) (loss=0.40499): 100%|██████████| 7/7 [00:13<00:00,  1.94s/it]\n",
      "Training (9967 / 18000 Steps) (loss=0.52364): 100%|██████████| 7/7 [00:13<00:00,  1.95s/it]\n",
      "Training (9974 / 18000 Steps) (loss=0.53993): 100%|██████████| 7/7 [00:13<00:00,  1.95s/it]\n",
      "Training (9981 / 18000 Steps) (loss=0.56610): 100%|██████████| 7/7 [00:13<00:00,  1.98s/it]\n",
      "Training (9988 / 18000 Steps) (loss=0.57995): 100%|██████████| 7/7 [00:13<00:00,  1.98s/it]\n",
      "Training (9995 / 18000 Steps) (loss=0.54032): 100%|██████████| 7/7 [00:13<00:00,  1.96s/it]\n",
      "Validate (9996 / 10 Steps): 100%|██████████| 2/2 [00:09<00:00,  4.74s/it]0<00:05,  1.99s/it]\n",
      "Training (10000 / 18000 Steps) (loss=0.48622):  71%|███████▏  | 5/7 [00:20<00:10,  5.30s/it]"
     ]
    },
    {
     "name": "stdout",
     "output_type": "stream",
     "text": [
      "Model Was Not Saved ! Current Best Avg. Dice: 0.3082180619239807 Current Avg. Dice: 0.28154534101486206 Current Avg. tumor Dice: 0.3472077548503876 Current Avg. lymph Dice: 0.21588295698165894\n"
     ]
    },
    {
     "name": "stderr",
     "output_type": "stream",
     "text": [
      "Training (10002 / 18000 Steps) (loss=0.33149): 100%|██████████| 7/7 [00:23<00:00,  3.29s/it]\n",
      "Training (10009 / 18000 Steps) (loss=0.46946): 100%|██████████| 7/7 [00:13<00:00,  1.98s/it]\n",
      "Training (10016 / 18000 Steps) (loss=0.26767): 100%|██████████| 7/7 [00:13<00:00,  1.96s/it]\n",
      "Training (10023 / 18000 Steps) (loss=0.48321): 100%|██████████| 7/7 [00:13<00:00,  1.96s/it]\n",
      "Training (10030 / 18000 Steps) (loss=0.36979): 100%|██████████| 7/7 [00:13<00:00,  2.00s/it]\n",
      "Training (10037 / 18000 Steps) (loss=0.28022): 100%|██████████| 7/7 [00:14<00:00,  2.03s/it]\n",
      "Training (10044 / 18000 Steps) (loss=0.54098): 100%|██████████| 7/7 [00:13<00:00,  1.97s/it]\n",
      "Training (10051 / 18000 Steps) (loss=0.37225): 100%|██████████| 7/7 [00:13<00:00,  1.94s/it]\n",
      "Training (10058 / 18000 Steps) (loss=0.74035): 100%|██████████| 7/7 [00:13<00:00,  1.95s/it]\n",
      "Training (10065 / 18000 Steps) (loss=0.40569): 100%|██████████| 7/7 [00:13<00:00,  1.94s/it]\n",
      "Training (10072 / 18000 Steps) (loss=0.55629): 100%|██████████| 7/7 [00:13<00:00,  1.95s/it]\n",
      "Training (10079 / 18000 Steps) (loss=0.49626): 100%|██████████| 7/7 [00:13<00:00,  1.94s/it]\n",
      "Training (10086 / 18000 Steps) (loss=0.67516): 100%|██████████| 7/7 [00:13<00:00,  1.95s/it]\n",
      "Training (10093 / 18000 Steps) (loss=0.32909): 100%|██████████| 7/7 [00:13<00:00,  1.97s/it]\n",
      "Validate (10094 / 10 Steps): 100%|██████████| 2/2 [00:09<00:00,  4.76s/it]<00:01,  1.81s/it]\n",
      "Training (10100 / 18000 Steps) (loss=0.37371): 100%|██████████| 7/7 [00:23<00:00,  3.35s/it]\n"
     ]
    },
    {
     "name": "stdout",
     "output_type": "stream",
     "text": [
      "Model Was Not Saved ! Current Best Avg. Dice: 0.3082180619239807 Current Avg. Dice: 0.2865673303604126 Current Avg. tumor Dice: 0.3560587763786316 Current Avg. lymph Dice: 0.2170758694410324\n"
     ]
    },
    {
     "name": "stderr",
     "output_type": "stream",
     "text": [
      "Training (10107 / 18000 Steps) (loss=0.34781): 100%|██████████| 7/7 [00:13<00:00,  1.95s/it]\n",
      "Training (10114 / 18000 Steps) (loss=0.44372): 100%|██████████| 7/7 [00:13<00:00,  1.96s/it]\n",
      "Training (10121 / 18000 Steps) (loss=0.35457): 100%|██████████| 7/7 [00:13<00:00,  1.95s/it]\n",
      "Training (10128 / 18000 Steps) (loss=0.59481): 100%|██████████| 7/7 [00:13<00:00,  1.96s/it]\n",
      "Training (10135 / 18000 Steps) (loss=0.29872): 100%|██████████| 7/7 [00:13<00:00,  1.94s/it]\n",
      "Training (10142 / 18000 Steps) (loss=0.45471): 100%|██████████| 7/7 [00:13<00:00,  1.96s/it]\n",
      "Training (10149 / 18000 Steps) (loss=0.48439): 100%|██████████| 7/7 [00:13<00:00,  2.00s/it]\n",
      "Training (10156 / 18000 Steps) (loss=0.55729): 100%|██████████| 7/7 [00:13<00:00,  1.99s/it]\n",
      "Training (10163 / 18000 Steps) (loss=0.50833): 100%|██████████| 7/7 [00:13<00:00,  1.95s/it]\n",
      "Training (10170 / 18000 Steps) (loss=0.45838): 100%|██████████| 7/7 [00:13<00:00,  1.97s/it]\n",
      "Training (10177 / 18000 Steps) (loss=0.50017): 100%|██████████| 7/7 [00:13<00:00,  1.95s/it]\n",
      "Training (10184 / 18000 Steps) (loss=0.57140): 100%|██████████| 7/7 [00:13<00:00,  1.95s/it]\n",
      "Training (10191 / 18000 Steps) (loss=0.44640): 100%|██████████| 7/7 [00:13<00:00,  1.97s/it]\n",
      "Training (10198 / 18000 Steps) (loss=0.57537): 100%|██████████| 7/7 [00:13<00:00,  1.98s/it]\n",
      "Validate (10199 / 10 Steps): 100%|██████████| 2/2 [00:09<00:00,  4.76s/it]<00:26,  4.44s/it]\n",
      "Training (10200 / 18000 Steps) (loss=0.42310):  29%|██▊       | 2/7 [00:15<00:42,  8.43s/it]"
     ]
    },
    {
     "name": "stdout",
     "output_type": "stream",
     "text": [
      "Model Was Not Saved ! Current Best Avg. Dice: 0.3082180619239807 Current Avg. Dice: 0.30364537239074707 Current Avg. tumor Dice: 0.37285780906677246 Current Avg. lymph Dice: 0.23443295061588287\n"
     ]
    },
    {
     "name": "stderr",
     "output_type": "stream",
     "text": [
      "Training (10205 / 18000 Steps) (loss=0.42231): 100%|██████████| 7/7 [00:23<00:00,  3.34s/it]\n",
      "Training (10212 / 18000 Steps) (loss=0.54365): 100%|██████████| 7/7 [00:13<00:00,  1.96s/it]\n",
      "Training (10219 / 18000 Steps) (loss=0.32974): 100%|██████████| 7/7 [00:13<00:00,  1.95s/it]\n",
      "Training (10226 / 18000 Steps) (loss=0.49964): 100%|██████████| 7/7 [00:13<00:00,  1.94s/it]\n",
      "Training (10233 / 18000 Steps) (loss=0.51916): 100%|██████████| 7/7 [00:13<00:00,  1.93s/it]\n",
      "Training (10240 / 18000 Steps) (loss=0.50492): 100%|██████████| 7/7 [00:13<00:00,  1.98s/it]\n",
      "Training (10247 / 18000 Steps) (loss=0.51592): 100%|██████████| 7/7 [00:13<00:00,  1.94s/it]\n",
      "Training (10254 / 18000 Steps) (loss=0.42780): 100%|██████████| 7/7 [00:13<00:00,  1.96s/it]\n",
      "Training (10261 / 18000 Steps) (loss=0.40821): 100%|██████████| 7/7 [00:13<00:00,  1.97s/it]\n",
      "Training (10268 / 18000 Steps) (loss=0.62160): 100%|██████████| 7/7 [00:13<00:00,  1.98s/it]\n",
      "Training (10275 / 18000 Steps) (loss=0.33363): 100%|██████████| 7/7 [00:13<00:00,  1.96s/it]\n",
      "Training (10282 / 18000 Steps) (loss=0.44920): 100%|██████████| 7/7 [00:13<00:00,  1.98s/it]\n",
      "Training (10289 / 18000 Steps) (loss=0.32980): 100%|██████████| 7/7 [00:13<00:00,  1.99s/it]\n",
      "Training (10296 / 18000 Steps) (loss=0.38137): 100%|██████████| 7/7 [00:14<00:00,  2.00s/it]\n",
      "Validate (10297 / 10 Steps): 100%|██████████| 2/2 [00:09<00:00,  4.76s/it]<00:08,  2.21s/it]\n",
      "Training (10300 / 18000 Steps) (loss=0.48201):  57%|█████▋    | 4/7 [00:18<00:17,  5.76s/it]"
     ]
    },
    {
     "name": "stdout",
     "output_type": "stream",
     "text": [
      "Model Was Not Saved ! Current Best Avg. Dice: 0.3082180619239807 Current Avg. Dice: 0.29166722297668457 Current Avg. tumor Dice: 0.3622150123119354 Current Avg. lymph Dice: 0.22111940383911133\n"
     ]
    },
    {
     "name": "stderr",
     "output_type": "stream",
     "text": [
      "Training (10303 / 18000 Steps) (loss=0.42610): 100%|██████████| 7/7 [00:23<00:00,  3.29s/it]\n",
      "Training (10310 / 18000 Steps) (loss=0.41290): 100%|██████████| 7/7 [00:13<00:00,  1.97s/it]\n",
      "Training (10317 / 18000 Steps) (loss=0.54654): 100%|██████████| 7/7 [00:13<00:00,  1.96s/it]\n",
      "Training (10324 / 18000 Steps) (loss=0.31793): 100%|██████████| 7/7 [00:13<00:00,  1.96s/it]\n",
      "Training (10331 / 18000 Steps) (loss=0.38204): 100%|██████████| 7/7 [00:13<00:00,  1.95s/it]\n",
      "Training (10338 / 18000 Steps) (loss=0.66116): 100%|██████████| 7/7 [00:15<00:00,  2.28s/it]\n",
      "Training (10345 / 18000 Steps) (loss=0.57755): 100%|██████████| 7/7 [00:16<00:00,  2.32s/it]\n",
      "Training (10352 / 18000 Steps) (loss=0.57972): 100%|██████████| 7/7 [00:17<00:00,  2.44s/it]\n",
      "Training (10359 / 18000 Steps) (loss=0.36079): 100%|██████████| 7/7 [00:17<00:00,  2.46s/it]\n",
      "Training (10366 / 18000 Steps) (loss=0.34177): 100%|██████████| 7/7 [00:16<00:00,  2.42s/it]\n",
      "Training (10373 / 18000 Steps) (loss=0.50839): 100%|██████████| 7/7 [00:17<00:00,  2.44s/it]\n",
      "Training (10380 / 18000 Steps) (loss=0.26780): 100%|██████████| 7/7 [00:16<00:00,  2.29s/it]\n",
      "Training (10387 / 18000 Steps) (loss=0.37657): 100%|██████████| 7/7 [00:15<00:00,  2.25s/it]\n",
      "Training (10394 / 18000 Steps) (loss=0.30866): 100%|██████████| 7/7 [00:15<00:00,  2.24s/it]\n",
      "Validate (10395 / 10 Steps): 100%|██████████| 2/2 [00:09<00:00,  4.89s/it]<00:04,  2.05s/it]\n",
      "Training (10400 / 18000 Steps) (loss=0.37067):  86%|████████▌ | 6/7 [00:23<00:05,  5.29s/it]"
     ]
    },
    {
     "name": "stdout",
     "output_type": "stream",
     "text": [
      "Model Was Not Saved ! Current Best Avg. Dice: 0.3082180619239807 Current Avg. Dice: 0.2991900146007538 Current Avg. tumor Dice: 0.38686299324035645 Current Avg. lymph Dice: 0.21151703596115112\n"
     ]
    },
    {
     "name": "stderr",
     "output_type": "stream",
     "text": [
      "Training (10401 / 18000 Steps) (loss=0.57651): 100%|██████████| 7/7 [00:25<00:00,  3.61s/it]\n",
      "Training (10408 / 18000 Steps) (loss=0.38215): 100%|██████████| 7/7 [00:16<00:00,  2.31s/it]\n",
      "Training (10415 / 18000 Steps) (loss=0.44820): 100%|██████████| 7/7 [00:15<00:00,  2.25s/it]\n",
      "Training (10422 / 18000 Steps) (loss=0.21705): 100%|██████████| 7/7 [00:14<00:00,  2.13s/it]\n",
      "Training (10429 / 18000 Steps) (loss=0.56142): 100%|██████████| 7/7 [00:15<00:00,  2.16s/it]\n",
      "Training (10436 / 18000 Steps) (loss=0.49243): 100%|██████████| 7/7 [00:15<00:00,  2.25s/it]\n",
      "Training (10443 / 18000 Steps) (loss=0.56162): 100%|██████████| 7/7 [00:15<00:00,  2.18s/it]\n",
      "Training (10450 / 18000 Steps) (loss=0.50791): 100%|██████████| 7/7 [00:16<00:00,  2.36s/it]\n",
      "Training (10457 / 18000 Steps) (loss=0.42166): 100%|██████████| 7/7 [00:15<00:00,  2.18s/it]\n",
      "Training (10464 / 18000 Steps) (loss=0.46688): 100%|██████████| 7/7 [00:15<00:00,  2.17s/it]\n",
      "Training (10471 / 18000 Steps) (loss=0.42016): 100%|██████████| 7/7 [00:15<00:00,  2.18s/it]\n",
      "Training (10478 / 18000 Steps) (loss=0.46768): 100%|██████████| 7/7 [00:15<00:00,  2.26s/it]\n",
      "Training (10485 / 18000 Steps) (loss=0.51905): 100%|██████████| 7/7 [00:15<00:00,  2.17s/it]\n",
      "Training (10492 / 18000 Steps) (loss=0.40926): 100%|██████████| 7/7 [00:15<00:00,  2.26s/it]\n",
      "Training (10499 / 18000 Steps) (loss=0.48058): 100%|██████████| 7/7 [00:15<00:00,  2.27s/it]\n",
      "Validate (10500 / 10 Steps): 100%|██████████| 2/2 [00:09<00:00,  4.95s/it]<?, ?it/s]\n",
      "Training (10500 / 18000 Steps) (loss=0.33626):  14%|█▍        | 1/7 [00:15<01:31, 15.18s/it]"
     ]
    },
    {
     "name": "stdout",
     "output_type": "stream",
     "text": [
      "Model Was Not Saved ! Current Best Avg. Dice: 0.3082180619239807 Current Avg. Dice: 0.2933424413204193 Current Avg. tumor Dice: 0.36864715814590454 Current Avg. lymph Dice: 0.21803772449493408\n"
     ]
    },
    {
     "name": "stderr",
     "output_type": "stream",
     "text": [
      "Training (10506 / 18000 Steps) (loss=0.40403): 100%|██████████| 7/7 [00:25<00:00,  3.64s/it]\n",
      "Training (10513 / 18000 Steps) (loss=0.46497): 100%|██████████| 7/7 [00:15<00:00,  2.19s/it]\n",
      "Training (10520 / 18000 Steps) (loss=0.47888): 100%|██████████| 7/7 [00:16<00:00,  2.40s/it]\n",
      "Training (10527 / 18000 Steps) (loss=0.53613): 100%|██████████| 7/7 [00:15<00:00,  2.22s/it]\n",
      "Training (10534 / 18000 Steps) (loss=0.35224): 100%|██████████| 7/7 [00:16<00:00,  2.33s/it]\n",
      "Training (10541 / 18000 Steps) (loss=0.48709): 100%|██████████| 7/7 [00:15<00:00,  2.21s/it]\n",
      "Training (10548 / 18000 Steps) (loss=0.46841): 100%|██████████| 7/7 [00:15<00:00,  2.26s/it]\n",
      "Training (10555 / 18000 Steps) (loss=0.48541): 100%|██████████| 7/7 [00:15<00:00,  2.25s/it]\n",
      "Training (10562 / 18000 Steps) (loss=0.35468): 100%|██████████| 7/7 [00:16<00:00,  2.37s/it]\n",
      "Training (10569 / 18000 Steps) (loss=0.40676): 100%|██████████| 7/7 [00:16<00:00,  2.30s/it]\n",
      "Training (10576 / 18000 Steps) (loss=0.47941): 100%|██████████| 7/7 [00:16<00:00,  2.34s/it]\n",
      "Training (10583 / 18000 Steps) (loss=0.27255): 100%|██████████| 7/7 [00:16<00:00,  2.39s/it]\n",
      "Training (10590 / 18000 Steps) (loss=0.47617): 100%|██████████| 7/7 [00:16<00:00,  2.35s/it]\n",
      "Training (10597 / 18000 Steps) (loss=0.31132): 100%|██████████| 7/7 [00:16<00:00,  2.36s/it]\n",
      "Validate (10598 / 10 Steps): 100%|██████████| 2/2 [00:09<00:00,  4.87s/it]<00:15,  3.19s/it]\n",
      "Training (10600 / 18000 Steps) (loss=0.46630):  43%|████▎     | 3/7 [00:18<00:27,  6.99s/it]"
     ]
    },
    {
     "name": "stdout",
     "output_type": "stream",
     "text": [
      "Model Was Not Saved ! Current Best Avg. Dice: 0.3082180619239807 Current Avg. Dice: 0.28369197249412537 Current Avg. tumor Dice: 0.35445255041122437 Current Avg. lymph Dice: 0.21293137967586517\n"
     ]
    },
    {
     "name": "stderr",
     "output_type": "stream",
     "text": [
      "Training (10604 / 18000 Steps) (loss=0.48632): 100%|██████████| 7/7 [00:25<00:00,  3.60s/it]\n",
      "Training (10611 / 18000 Steps) (loss=0.40062): 100%|██████████| 7/7 [00:14<00:00,  2.14s/it]\n",
      "Training (10618 / 18000 Steps) (loss=0.47234): 100%|██████████| 7/7 [00:15<00:00,  2.20s/it]\n",
      "Training (10625 / 18000 Steps) (loss=0.62871): 100%|██████████| 7/7 [00:14<00:00,  2.11s/it]\n",
      "Training (10632 / 18000 Steps) (loss=0.47916): 100%|██████████| 7/7 [00:14<00:00,  2.11s/it]\n",
      "Training (10639 / 18000 Steps) (loss=0.55395): 100%|██████████| 7/7 [00:14<00:00,  2.07s/it]\n",
      "Training (10646 / 18000 Steps) (loss=0.48478): 100%|██████████| 7/7 [00:14<00:00,  2.10s/it]\n",
      "Training (10653 / 18000 Steps) (loss=0.31767): 100%|██████████| 7/7 [00:15<00:00,  2.17s/it]\n",
      "Training (10660 / 18000 Steps) (loss=0.35527): 100%|██████████| 7/7 [00:15<00:00,  2.16s/it]\n",
      "Training (10667 / 18000 Steps) (loss=0.40899): 100%|██████████| 7/7 [00:15<00:00,  2.21s/it]\n",
      "Training (10674 / 18000 Steps) (loss=0.44399): 100%|██████████| 7/7 [00:15<00:00,  2.25s/it]\n",
      "Training (10681 / 18000 Steps) (loss=0.45947): 100%|██████████| 7/7 [00:16<00:00,  2.32s/it]\n",
      "Training (10688 / 18000 Steps) (loss=0.54850): 100%|██████████| 7/7 [00:16<00:00,  2.32s/it]\n",
      "Training (10695 / 18000 Steps) (loss=0.46772): 100%|██████████| 7/7 [00:16<00:00,  2.31s/it]\n",
      "Validate (10696 / 10 Steps): 100%|██████████| 2/2 [00:09<00:00,  4.87s/it]<00:07,  2.37s/it]\n",
      "Training (10700 / 18000 Steps) (loss=0.47154):  71%|███████▏  | 5/7 [00:22<00:11,  5.69s/it]"
     ]
    },
    {
     "name": "stdout",
     "output_type": "stream",
     "text": [
      "Model Was Not Saved ! Current Best Avg. Dice: 0.3082180619239807 Current Avg. Dice: 0.2960396409034729 Current Avg. tumor Dice: 0.37513646483421326 Current Avg. lymph Dice: 0.21694281697273254\n"
     ]
    },
    {
     "name": "stderr",
     "output_type": "stream",
     "text": [
      "Training (10702 / 18000 Steps) (loss=0.47050): 100%|██████████| 7/7 [00:25<00:00,  3.68s/it]\n",
      "Training (10709 / 18000 Steps) (loss=0.48211): 100%|██████████| 7/7 [00:15<00:00,  2.17s/it]\n",
      "Training (10716 / 18000 Steps) (loss=0.46222): 100%|██████████| 7/7 [00:15<00:00,  2.16s/it]\n",
      "Training (10723 / 18000 Steps) (loss=0.44511): 100%|██████████| 7/7 [00:15<00:00,  2.28s/it]\n",
      "Training (10730 / 18000 Steps) (loss=0.35176): 100%|██████████| 7/7 [00:15<00:00,  2.20s/it]\n",
      "Training (10737 / 18000 Steps) (loss=0.58904): 100%|██████████| 7/7 [00:15<00:00,  2.19s/it]\n",
      "Training (10744 / 18000 Steps) (loss=0.37317): 100%|██████████| 7/7 [00:15<00:00,  2.25s/it]\n",
      "Training (10751 / 18000 Steps) (loss=0.54640): 100%|██████████| 7/7 [00:15<00:00,  2.17s/it]\n",
      "Training (10758 / 18000 Steps) (loss=0.46872): 100%|██████████| 7/7 [00:16<00:00,  2.40s/it]\n",
      "Training (10765 / 18000 Steps) (loss=0.47509): 100%|██████████| 7/7 [00:16<00:00,  2.30s/it]\n",
      "Training (10772 / 18000 Steps) (loss=0.28503): 100%|██████████| 7/7 [00:16<00:00,  2.38s/it]\n",
      "Training (10779 / 18000 Steps) (loss=0.41134): 100%|██████████| 7/7 [00:16<00:00,  2.33s/it]\n",
      "Training (10786 / 18000 Steps) (loss=0.19248): 100%|██████████| 7/7 [00:16<00:00,  2.33s/it]\n",
      "Training (10793 / 18000 Steps) (loss=0.44929): 100%|██████████| 7/7 [00:15<00:00,  2.22s/it]\n",
      "Validate (10794 / 10 Steps): 100%|██████████| 2/2 [00:09<00:00,  4.98s/it]<00:02,  2.03s/it]\n",
      "Training (10800 / 18000 Steps) (loss=0.49714): 100%|██████████| 7/7 [00:25<00:00,  3.68s/it]\n"
     ]
    },
    {
     "name": "stdout",
     "output_type": "stream",
     "text": [
      "Model Was Not Saved ! Current Best Avg. Dice: 0.3082180619239807 Current Avg. Dice: 0.29780441522598267 Current Avg. tumor Dice: 0.39505934715270996 Current Avg. lymph Dice: 0.20054946839809418\n"
     ]
    },
    {
     "name": "stderr",
     "output_type": "stream",
     "text": [
      "Training (10807 / 18000 Steps) (loss=0.56427): 100%|██████████| 7/7 [00:15<00:00,  2.28s/it]\n",
      "Training (10814 / 18000 Steps) (loss=0.42461): 100%|██████████| 7/7 [00:15<00:00,  2.25s/it]\n",
      "Training (10821 / 18000 Steps) (loss=0.58657): 100%|██████████| 7/7 [00:14<00:00,  2.14s/it]\n",
      "Training (10828 / 18000 Steps) (loss=0.25285): 100%|██████████| 7/7 [00:14<00:00,  2.11s/it]\n",
      "Training (10835 / 18000 Steps) (loss=0.53158): 100%|██████████| 7/7 [00:15<00:00,  2.18s/it]\n",
      "Training (10842 / 18000 Steps) (loss=0.38227): 100%|██████████| 7/7 [00:15<00:00,  2.22s/it]\n",
      "Training (10849 / 18000 Steps) (loss=0.27884): 100%|██████████| 7/7 [00:15<00:00,  2.23s/it]\n",
      "Training (10856 / 18000 Steps) (loss=0.38267): 100%|██████████| 7/7 [00:15<00:00,  2.27s/it]\n",
      "Training (10863 / 18000 Steps) (loss=0.45680): 100%|██████████| 7/7 [00:16<00:00,  2.33s/it]\n",
      "Training (10870 / 18000 Steps) (loss=0.25194): 100%|██████████| 7/7 [00:16<00:00,  2.40s/it]\n",
      "Training (10877 / 18000 Steps) (loss=0.29329): 100%|██████████| 7/7 [00:15<00:00,  2.20s/it]\n",
      "Training (10884 / 18000 Steps) (loss=0.47570): 100%|██████████| 7/7 [00:14<00:00,  2.11s/it]\n",
      "Training (10891 / 18000 Steps) (loss=0.47492): 100%|██████████| 7/7 [00:14<00:00,  2.12s/it]\n",
      "Training (10898 / 18000 Steps) (loss=0.37176): 100%|██████████| 7/7 [00:15<00:00,  2.14s/it]\n",
      "Validate (10899 / 10 Steps): 100%|██████████| 2/2 [00:10<00:00,  5.21s/it]<00:32,  5.34s/it]\n",
      "Training (10900 / 18000 Steps) (loss=0.39611):  29%|██▊       | 2/7 [00:17<00:46,  9.40s/it]"
     ]
    },
    {
     "name": "stdout",
     "output_type": "stream",
     "text": [
      "Model Was Not Saved ! Current Best Avg. Dice: 0.3082180619239807 Current Avg. Dice: 0.2927893400192261 Current Avg. tumor Dice: 0.37557438015937805 Current Avg. lymph Dice: 0.2100042998790741\n"
     ]
    },
    {
     "name": "stderr",
     "output_type": "stream",
     "text": [
      "Training (10905 / 18000 Steps) (loss=0.21538): 100%|██████████| 7/7 [00:26<00:00,  3.76s/it]\n",
      "Training (10912 / 18000 Steps) (loss=0.34170): 100%|██████████| 7/7 [00:16<00:00,  2.37s/it]\n",
      "Training (10919 / 18000 Steps) (loss=0.66808): 100%|██████████| 7/7 [00:15<00:00,  2.23s/it]\n",
      "Training (10926 / 18000 Steps) (loss=0.51794): 100%|██████████| 7/7 [00:15<00:00,  2.16s/it]\n",
      "Training (10933 / 18000 Steps) (loss=0.56253): 100%|██████████| 7/7 [00:14<00:00,  2.10s/it]\n",
      "Training (10940 / 18000 Steps) (loss=0.54268): 100%|██████████| 7/7 [00:15<00:00,  2.27s/it]\n",
      "Training (10947 / 18000 Steps) (loss=0.45723): 100%|██████████| 7/7 [00:15<00:00,  2.19s/it]\n",
      "Training (10954 / 18000 Steps) (loss=0.47407): 100%|██████████| 7/7 [00:15<00:00,  2.15s/it]\n",
      "Training (10961 / 18000 Steps) (loss=0.47618): 100%|██████████| 7/7 [00:15<00:00,  2.15s/it]\n",
      "Training (10968 / 18000 Steps) (loss=0.36290): 100%|██████████| 7/7 [00:15<00:00,  2.21s/it]\n",
      "Training (10975 / 18000 Steps) (loss=0.45450): 100%|██████████| 7/7 [00:14<00:00,  2.01s/it]\n",
      "Training (10982 / 18000 Steps) (loss=0.56634): 100%|██████████| 7/7 [00:13<00:00,  1.96s/it]\n",
      "Training (10989 / 18000 Steps) (loss=0.49743): 100%|██████████| 7/7 [00:13<00:00,  1.98s/it]\n",
      "Training (10996 / 18000 Steps) (loss=0.46648): 100%|██████████| 7/7 [00:13<00:00,  1.98s/it]\n",
      "Validate (10997 / 10 Steps): 100%|██████████| 2/2 [00:09<00:00,  4.73s/it]<00:09,  2.30s/it]\n",
      "Training (11000 / 18000 Steps) (loss=0.43632):  57%|█████▋    | 4/7 [00:18<00:17,  5.80s/it]"
     ]
    },
    {
     "name": "stdout",
     "output_type": "stream",
     "text": [
      "Model Was Not Saved ! Current Best Avg. Dice: 0.3082180619239807 Current Avg. Dice: 0.27798816561698914 Current Avg. tumor Dice: 0.3415526747703552 Current Avg. lymph Dice: 0.21442364156246185\n"
     ]
    },
    {
     "name": "stderr",
     "output_type": "stream",
     "text": [
      "Training (11003 / 18000 Steps) (loss=0.54552): 100%|██████████| 7/7 [00:24<00:00,  3.43s/it]\n",
      "Training (11010 / 18000 Steps) (loss=0.57647): 100%|██████████| 7/7 [00:14<00:00,  2.11s/it]\n",
      "Training (11017 / 18000 Steps) (loss=0.20196): 100%|██████████| 7/7 [00:15<00:00,  2.20s/it]\n",
      "Training (11024 / 18000 Steps) (loss=0.42726): 100%|██████████| 7/7 [00:15<00:00,  2.17s/it]\n",
      "Training (11031 / 18000 Steps) (loss=0.54906): 100%|██████████| 7/7 [00:16<00:00,  2.35s/it]\n",
      "Training (11038 / 18000 Steps) (loss=0.46705): 100%|██████████| 7/7 [00:15<00:00,  2.27s/it]\n",
      "Training (11045 / 18000 Steps) (loss=0.55335): 100%|██████████| 7/7 [00:15<00:00,  2.23s/it]\n",
      "Training (11052 / 18000 Steps) (loss=0.28695): 100%|██████████| 7/7 [00:15<00:00,  2.19s/it]\n",
      "Training (11059 / 18000 Steps) (loss=0.42349): 100%|██████████| 7/7 [00:16<00:00,  2.30s/it]\n",
      "Training (11066 / 18000 Steps) (loss=0.45241): 100%|██████████| 7/7 [00:16<00:00,  2.31s/it]\n",
      "Training (11073 / 18000 Steps) (loss=0.24197): 100%|██████████| 7/7 [00:15<00:00,  2.24s/it]\n",
      "Training (11080 / 18000 Steps) (loss=0.54946): 100%|██████████| 7/7 [00:15<00:00,  2.15s/it]\n",
      "Training (11087 / 18000 Steps) (loss=0.34655): 100%|██████████| 7/7 [00:16<00:00,  2.30s/it]\n",
      "Training (11094 / 18000 Steps) (loss=0.42161): 100%|██████████| 7/7 [00:16<00:00,  2.35s/it]\n",
      "Validate (11095 / 10 Steps): 100%|██████████| 2/2 [00:09<00:00,  4.96s/it]<00:04,  2.05s/it]\n",
      "Training (11100 / 18000 Steps) (loss=0.60355):  86%|████████▌ | 6/7 [00:23<00:05,  5.32s/it]"
     ]
    },
    {
     "name": "stdout",
     "output_type": "stream",
     "text": [
      "Model Was Not Saved ! Current Best Avg. Dice: 0.3082180619239807 Current Avg. Dice: 0.28937917947769165 Current Avg. tumor Dice: 0.35214948654174805 Current Avg. lymph Dice: 0.22660881280899048\n"
     ]
    },
    {
     "name": "stderr",
     "output_type": "stream",
     "text": [
      "Training (11101 / 18000 Steps) (loss=0.40124): 100%|██████████| 7/7 [00:25<00:00,  3.59s/it]\n",
      "Training (11108 / 18000 Steps) (loss=0.29221): 100%|██████████| 7/7 [00:15<00:00,  2.22s/it]\n",
      "Training (11115 / 18000 Steps) (loss=0.54993): 100%|██████████| 7/7 [00:16<00:00,  2.30s/it]\n",
      "Training (11122 / 18000 Steps) (loss=0.40249): 100%|██████████| 7/7 [00:16<00:00,  2.33s/it]\n",
      "Training (11129 / 18000 Steps) (loss=0.66416): 100%|██████████| 7/7 [00:16<00:00,  2.31s/it]\n",
      "Training (11136 / 18000 Steps) (loss=0.32460): 100%|██████████| 7/7 [00:15<00:00,  2.19s/it]\n",
      "Training (11143 / 18000 Steps) (loss=0.45455): 100%|██████████| 7/7 [00:16<00:00,  2.40s/it]\n",
      "Training (11150 / 18000 Steps) (loss=0.37494): 100%|██████████| 7/7 [00:16<00:00,  2.39s/it]\n",
      "Training (11157 / 18000 Steps) (loss=0.47464): 100%|██████████| 7/7 [00:15<00:00,  2.24s/it]\n",
      "Training (11164 / 18000 Steps) (loss=0.30952): 100%|██████████| 7/7 [00:15<00:00,  2.27s/it]\n",
      "Training (11171 / 18000 Steps) (loss=0.35707): 100%|██████████| 7/7 [00:16<00:00,  2.32s/it]\n",
      "Training (11178 / 18000 Steps) (loss=0.53370): 100%|██████████| 7/7 [00:15<00:00,  2.20s/it]\n",
      "Training (11185 / 18000 Steps) (loss=0.40096): 100%|██████████| 7/7 [00:16<00:00,  2.33s/it]\n",
      "Training (11192 / 18000 Steps) (loss=0.62866): 100%|██████████| 7/7 [00:14<00:00,  2.14s/it]\n",
      "Training (11199 / 18000 Steps) (loss=0.51696): 100%|██████████| 7/7 [00:15<00:00,  2.15s/it]\n",
      "Validate (11200 / 10 Steps): 100%|██████████| 2/2 [00:09<00:00,  4.84s/it]<?, ?it/s]\n",
      "Training (11200 / 18000 Steps) (loss=0.53688):  14%|█▍        | 1/7 [00:14<01:28, 14.71s/it]"
     ]
    },
    {
     "name": "stdout",
     "output_type": "stream",
     "text": [
      "Model Was Not Saved ! Current Best Avg. Dice: 0.3082180619239807 Current Avg. Dice: 0.2855178415775299 Current Avg. tumor Dice: 0.3601830005645752 Current Avg. lymph Dice: 0.210852712392807\n"
     ]
    },
    {
     "name": "stderr",
     "output_type": "stream",
     "text": [
      "Training (11206 / 18000 Steps) (loss=0.52943): 100%|██████████| 7/7 [00:24<00:00,  3.52s/it]\n",
      "Training (11213 / 18000 Steps) (loss=0.35564): 100%|██████████| 7/7 [00:15<00:00,  2.21s/it]\n",
      "Training (11220 / 18000 Steps) (loss=0.50213): 100%|██████████| 7/7 [00:16<00:00,  2.33s/it]\n",
      "Training (11227 / 18000 Steps) (loss=0.56105): 100%|██████████| 7/7 [00:15<00:00,  2.23s/it]\n",
      "Training (11234 / 18000 Steps) (loss=0.39080): 100%|██████████| 7/7 [00:15<00:00,  2.23s/it]\n",
      "Training (11241 / 18000 Steps) (loss=0.37050): 100%|██████████| 7/7 [00:14<00:00,  2.04s/it]\n",
      "Training (11248 / 18000 Steps) (loss=0.51177): 100%|██████████| 7/7 [00:15<00:00,  2.21s/it]\n",
      "Training (11255 / 18000 Steps) (loss=0.32280): 100%|██████████| 7/7 [00:14<00:00,  2.12s/it]\n",
      "Training (11262 / 18000 Steps) (loss=0.54210): 100%|██████████| 7/7 [00:16<00:00,  2.31s/it]\n",
      "Training (11269 / 18000 Steps) (loss=0.33531): 100%|██████████| 7/7 [00:15<00:00,  2.27s/it]\n",
      "Training (11276 / 18000 Steps) (loss=0.45084): 100%|██████████| 7/7 [00:16<00:00,  2.29s/it]\n",
      "Training (11283 / 18000 Steps) (loss=0.59160): 100%|██████████| 7/7 [00:15<00:00,  2.17s/it]\n",
      "Training (11290 / 18000 Steps) (loss=0.57801): 100%|██████████| 7/7 [00:15<00:00,  2.16s/it]\n",
      "Training (11297 / 18000 Steps) (loss=0.57851): 100%|██████████| 7/7 [00:15<00:00,  2.21s/it]\n",
      "Validate (11298 / 10 Steps): 100%|██████████| 2/2 [00:09<00:00,  4.93s/it]<00:16,  3.23s/it]\n",
      "Training (11300 / 18000 Steps) (loss=0.39096):  43%|████▎     | 3/7 [00:18<00:28,  7.06s/it]"
     ]
    },
    {
     "name": "stdout",
     "output_type": "stream",
     "text": [
      "Model Was Not Saved ! Current Best Avg. Dice: 0.3082180619239807 Current Avg. Dice: 0.29566144943237305 Current Avg. tumor Dice: 0.3785659670829773 Current Avg. lymph Dice: 0.2127569615840912\n"
     ]
    },
    {
     "name": "stderr",
     "output_type": "stream",
     "text": [
      "Training (11304 / 18000 Steps) (loss=0.53595): 100%|██████████| 7/7 [00:25<00:00,  3.58s/it]\n",
      "Training (11311 / 18000 Steps) (loss=0.35231): 100%|██████████| 7/7 [00:14<00:00,  2.10s/it]\n",
      "Training (11318 / 18000 Steps) (loss=0.58161): 100%|██████████| 7/7 [00:14<00:00,  2.14s/it]\n",
      "Training (11325 / 18000 Steps) (loss=0.67357): 100%|██████████| 7/7 [00:14<00:00,  2.08s/it]\n",
      "Training (11332 / 18000 Steps) (loss=0.43221): 100%|██████████| 7/7 [00:14<00:00,  2.14s/it]\n",
      "Training (11339 / 18000 Steps) (loss=0.56123): 100%|██████████| 7/7 [00:15<00:00,  2.17s/it]\n",
      "Training (11346 / 18000 Steps) (loss=0.27044): 100%|██████████| 7/7 [00:15<00:00,  2.25s/it]\n",
      "Training (11353 / 18000 Steps) (loss=0.29044): 100%|██████████| 7/7 [00:14<00:00,  2.14s/it]\n",
      "Training (11360 / 18000 Steps) (loss=0.40985): 100%|██████████| 7/7 [00:16<00:00,  2.32s/it]\n",
      "Training (11367 / 18000 Steps) (loss=0.62309): 100%|██████████| 7/7 [00:14<00:00,  2.10s/it]\n",
      "Training (11374 / 18000 Steps) (loss=0.52825): 100%|██████████| 7/7 [00:15<00:00,  2.16s/it]\n",
      "Training (11381 / 18000 Steps) (loss=0.29786): 100%|██████████| 7/7 [00:15<00:00,  2.19s/it]\n",
      "Training (11388 / 18000 Steps) (loss=0.38990): 100%|██████████| 7/7 [00:14<00:00,  2.10s/it]\n",
      "Training (11395 / 18000 Steps) (loss=0.27721): 100%|██████████| 7/7 [00:15<00:00,  2.17s/it]\n",
      "Validate (11396 / 10 Steps): 100%|██████████| 2/2 [00:09<00:00,  4.96s/it]<00:06,  2.21s/it]\n",
      "Training (11400 / 18000 Steps) (loss=0.34236):  71%|███████▏  | 5/7 [00:22<00:11,  5.67s/it]"
     ]
    },
    {
     "name": "stdout",
     "output_type": "stream",
     "text": [
      "Model Was Not Saved ! Current Best Avg. Dice: 0.3082180619239807 Current Avg. Dice: 0.29698848724365234 Current Avg. tumor Dice: 0.38370752334594727 Current Avg. lymph Dice: 0.2102694809436798\n"
     ]
    },
    {
     "name": "stderr",
     "output_type": "stream",
     "text": [
      "Training (11402 / 18000 Steps) (loss=0.26459): 100%|██████████| 7/7 [00:24<00:00,  3.57s/it]\n",
      "Training (11409 / 18000 Steps) (loss=0.45463): 100%|██████████| 7/7 [00:15<00:00,  2.18s/it]\n",
      "Training (11416 / 18000 Steps) (loss=0.65150): 100%|██████████| 7/7 [00:15<00:00,  2.17s/it]\n",
      "Training (11423 / 18000 Steps) (loss=0.53476): 100%|██████████| 7/7 [00:15<00:00,  2.20s/it]\n",
      "Training (11430 / 18000 Steps) (loss=0.30593): 100%|██████████| 7/7 [00:14<00:00,  2.10s/it]\n",
      "Training (11437 / 18000 Steps) (loss=0.41715): 100%|██████████| 7/7 [00:15<00:00,  2.14s/it]\n",
      "Training (11444 / 18000 Steps) (loss=0.53811): 100%|██████████| 7/7 [00:15<00:00,  2.18s/it]\n",
      "Training (11451 / 18000 Steps) (loss=0.32550): 100%|██████████| 7/7 [00:14<00:00,  2.10s/it]\n",
      "Training (11458 / 18000 Steps) (loss=0.53459): 100%|██████████| 7/7 [00:14<00:00,  2.10s/it]\n",
      "Training (11465 / 18000 Steps) (loss=0.46195): 100%|██████████| 7/7 [00:14<00:00,  2.14s/it]\n",
      "Training (11472 / 18000 Steps) (loss=0.64842): 100%|██████████| 7/7 [00:15<00:00,  2.16s/it]\n",
      "Training (11479 / 18000 Steps) (loss=0.43472): 100%|██████████| 7/7 [00:15<00:00,  2.23s/it]\n",
      "Training (11486 / 18000 Steps) (loss=0.60540): 100%|██████████| 7/7 [00:15<00:00,  2.26s/it]\n",
      "Training (11493 / 18000 Steps) (loss=0.75571): 100%|██████████| 7/7 [00:16<00:00,  2.32s/it]\n",
      "Validate (11494 / 10 Steps): 100%|██████████| 2/2 [00:09<00:00,  4.86s/it]<00:01,  1.98s/it]\n",
      "Training (11500 / 18000 Steps) (loss=0.16846): 100%|██████████| 7/7 [00:25<00:00,  3.60s/it]\n"
     ]
    },
    {
     "name": "stdout",
     "output_type": "stream",
     "text": [
      "Model Was Not Saved ! Current Best Avg. Dice: 0.3082180619239807 Current Avg. Dice: 0.24001963436603546 Current Avg. tumor Dice: 0.3034329414367676 Current Avg. lymph Dice: 0.17660634219646454\n"
     ]
    },
    {
     "name": "stderr",
     "output_type": "stream",
     "text": [
      "Training (11507 / 18000 Steps) (loss=0.38131): 100%|██████████| 7/7 [00:14<00:00,  2.13s/it]\n",
      "Training (11514 / 18000 Steps) (loss=0.26595): 100%|██████████| 7/7 [00:14<00:00,  2.10s/it]\n",
      "Training (11521 / 18000 Steps) (loss=0.50479): 100%|██████████| 7/7 [00:14<00:00,  2.10s/it]\n",
      "Training (11528 / 18000 Steps) (loss=0.46245): 100%|██████████| 7/7 [00:14<00:00,  2.09s/it]\n",
      "Training (11535 / 18000 Steps) (loss=0.35043): 100%|██████████| 7/7 [00:15<00:00,  2.15s/it]\n",
      "Training (11542 / 18000 Steps) (loss=0.50395): 100%|██████████| 7/7 [00:14<00:00,  2.08s/it]\n",
      "Training (11549 / 18000 Steps) (loss=0.44875): 100%|██████████| 7/7 [00:15<00:00,  2.23s/it]\n",
      "Training (11556 / 18000 Steps) (loss=0.62481): 100%|██████████| 7/7 [00:15<00:00,  2.23s/it]\n",
      "Training (11563 / 18000 Steps) (loss=0.37341): 100%|██████████| 7/7 [00:15<00:00,  2.19s/it]\n",
      "Training (11570 / 18000 Steps) (loss=0.47627): 100%|██████████| 7/7 [00:16<00:00,  2.32s/it]\n",
      "Training (11577 / 18000 Steps) (loss=0.47936): 100%|██████████| 7/7 [00:15<00:00,  2.21s/it]\n",
      "Training (11584 / 18000 Steps) (loss=0.40164): 100%|██████████| 7/7 [00:15<00:00,  2.26s/it]\n",
      "Training (11591 / 18000 Steps) (loss=0.60221): 100%|██████████| 7/7 [00:15<00:00,  2.24s/it]\n",
      "Training (11598 / 18000 Steps) (loss=0.60087): 100%|██████████| 7/7 [00:15<00:00,  2.23s/it]\n",
      "Validate (11599 / 10 Steps): 100%|██████████| 2/2 [00:10<00:00,  5.23s/it]<00:30,  5.03s/it]\n",
      "Training (11600 / 18000 Steps) (loss=0.35305):  29%|██▊       | 2/7 [00:17<00:46,  9.30s/it]"
     ]
    },
    {
     "name": "stdout",
     "output_type": "stream",
     "text": [
      "Model Was Not Saved ! Current Best Avg. Dice: 0.3082180619239807 Current Avg. Dice: 0.2675081193447113 Current Avg. tumor Dice: 0.32782092690467834 Current Avg. lymph Dice: 0.20719531178474426\n"
     ]
    },
    {
     "name": "stderr",
     "output_type": "stream",
     "text": [
      "Training (11605 / 18000 Steps) (loss=0.51610): 100%|██████████| 7/7 [00:25<00:00,  3.65s/it]\n",
      "Training (11612 / 18000 Steps) (loss=0.57609): 100%|██████████| 7/7 [00:15<00:00,  2.20s/it]\n",
      "Training (11619 / 18000 Steps) (loss=0.56534): 100%|██████████| 7/7 [00:14<00:00,  2.10s/it]\n",
      "Training (11626 / 18000 Steps) (loss=0.52940): 100%|██████████| 7/7 [00:15<00:00,  2.15s/it]\n",
      "Training (11633 / 18000 Steps) (loss=0.58410): 100%|██████████| 7/7 [00:14<00:00,  2.11s/it]\n",
      "Training (11640 / 18000 Steps) (loss=0.51369): 100%|██████████| 7/7 [00:14<00:00,  2.12s/it]\n",
      "Training (11647 / 18000 Steps) (loss=0.44048): 100%|██████████| 7/7 [00:15<00:00,  2.21s/it]\n",
      "Training (11654 / 18000 Steps) (loss=0.34064): 100%|██████████| 7/7 [00:15<00:00,  2.23s/it]\n",
      "Training (11661 / 18000 Steps) (loss=0.44859): 100%|██████████| 7/7 [00:14<00:00,  2.10s/it]\n",
      "Training (11668 / 18000 Steps) (loss=0.35190): 100%|██████████| 7/7 [00:15<00:00,  2.16s/it]\n",
      "Training (11675 / 18000 Steps) (loss=0.41320): 100%|██████████| 7/7 [00:14<00:00,  2.14s/it]\n",
      "Training (11682 / 18000 Steps) (loss=0.39034): 100%|██████████| 7/7 [00:15<00:00,  2.22s/it]\n",
      "Training (11689 / 18000 Steps) (loss=0.34959): 100%|██████████| 7/7 [00:14<00:00,  2.11s/it]\n",
      "Training (11696 / 18000 Steps) (loss=0.38676): 100%|██████████| 7/7 [00:15<00:00,  2.18s/it]\n",
      "Validate (11697 / 10 Steps): 100%|██████████| 2/2 [00:09<00:00,  4.83s/it]<00:10,  2.53s/it]\n",
      "Training (11700 / 18000 Steps) (loss=0.37548):  57%|█████▋    | 4/7 [00:20<00:18,  6.04s/it]"
     ]
    },
    {
     "name": "stdout",
     "output_type": "stream",
     "text": [
      "Model Was Not Saved ! Current Best Avg. Dice: 0.3082180619239807 Current Avg. Dice: 0.25267845392227173 Current Avg. tumor Dice: 0.32894638180732727 Current Avg. lymph Dice: 0.1764104664325714\n"
     ]
    },
    {
     "name": "stderr",
     "output_type": "stream",
     "text": [
      "Training (11703 / 18000 Steps) (loss=0.32162): 100%|██████████| 7/7 [00:24<00:00,  3.54s/it]\n",
      "Training (11710 / 18000 Steps) (loss=0.43312): 100%|██████████| 7/7 [00:14<00:00,  2.07s/it]\n",
      "Training (11717 / 18000 Steps) (loss=0.40804): 100%|██████████| 7/7 [00:15<00:00,  2.22s/it]\n",
      "Training (11724 / 18000 Steps) (loss=0.36008): 100%|██████████| 7/7 [00:14<00:00,  2.08s/it]\n",
      "Training (11731 / 18000 Steps) (loss=0.31891): 100%|██████████| 7/7 [00:15<00:00,  2.25s/it]\n",
      "Training (11738 / 18000 Steps) (loss=0.50681): 100%|██████████| 7/7 [00:14<00:00,  2.12s/it]\n",
      "Training (11745 / 18000 Steps) (loss=0.42645): 100%|██████████| 7/7 [00:15<00:00,  2.19s/it]\n",
      "Training (11752 / 18000 Steps) (loss=0.50374): 100%|██████████| 7/7 [00:14<00:00,  2.07s/it]\n",
      "Training (11759 / 18000 Steps) (loss=0.45533): 100%|██████████| 7/7 [00:15<00:00,  2.16s/it]\n",
      "Training (11766 / 18000 Steps) (loss=0.23960): 100%|██████████| 7/7 [00:14<00:00,  2.10s/it]\n",
      "Training (11773 / 18000 Steps) (loss=0.56223): 100%|██████████| 7/7 [00:14<00:00,  2.09s/it]\n",
      "Training (11780 / 18000 Steps) (loss=0.43405): 100%|██████████| 7/7 [00:15<00:00,  2.27s/it]\n",
      "Training (11787 / 18000 Steps) (loss=0.31090): 100%|██████████| 7/7 [00:15<00:00,  2.22s/it]\n",
      "Training (11794 / 18000 Steps) (loss=0.46021): 100%|██████████| 7/7 [00:15<00:00,  2.23s/it]\n",
      "Validate (11795 / 10 Steps): 100%|██████████| 2/2 [00:09<00:00,  4.81s/it]<00:04,  2.17s/it]\n",
      "Training (11800 / 18000 Steps) (loss=0.45457):  86%|████████▌ | 6/7 [00:23<00:05,  5.30s/it]"
     ]
    },
    {
     "name": "stdout",
     "output_type": "stream",
     "text": [
      "Model Was Not Saved ! Current Best Avg. Dice: 0.3082180619239807 Current Avg. Dice: 0.27228420972824097 Current Avg. tumor Dice: 0.33863919973373413 Current Avg. lymph Dice: 0.20592918992042542\n"
     ]
    },
    {
     "name": "stderr",
     "output_type": "stream",
     "text": [
      "Training (11801 / 18000 Steps) (loss=0.44601): 100%|██████████| 7/7 [00:25<00:00,  3.59s/it]\n",
      "Training (11808 / 18000 Steps) (loss=0.38933): 100%|██████████| 7/7 [00:14<00:00,  2.06s/it]\n",
      "Training (11815 / 18000 Steps) (loss=0.41328): 100%|██████████| 7/7 [00:14<00:00,  2.12s/it]\n",
      "Training (11822 / 18000 Steps) (loss=0.50252): 100%|██████████| 7/7 [00:15<00:00,  2.23s/it]\n",
      "Training (11829 / 18000 Steps) (loss=0.56369): 100%|██████████| 7/7 [00:14<00:00,  2.13s/it]\n",
      "Training (11836 / 18000 Steps) (loss=0.51060): 100%|██████████| 7/7 [00:14<00:00,  2.12s/it]\n",
      "Training (11843 / 18000 Steps) (loss=0.44759): 100%|██████████| 7/7 [00:14<00:00,  2.14s/it]\n",
      "Training (11850 / 18000 Steps) (loss=0.27974): 100%|██████████| 7/7 [00:15<00:00,  2.16s/it]\n",
      "Training (11857 / 18000 Steps) (loss=0.41487): 100%|██████████| 7/7 [00:15<00:00,  2.19s/it]\n",
      "Training (11864 / 18000 Steps) (loss=0.33800): 100%|██████████| 7/7 [00:15<00:00,  2.23s/it]\n",
      "Training (11871 / 18000 Steps) (loss=0.35168): 100%|██████████| 7/7 [00:15<00:00,  2.18s/it]\n",
      "Training (11878 / 18000 Steps) (loss=0.44138): 100%|██████████| 7/7 [00:15<00:00,  2.16s/it]\n",
      "Training (11885 / 18000 Steps) (loss=0.22264): 100%|██████████| 7/7 [00:15<00:00,  2.27s/it]\n",
      "Training (11892 / 18000 Steps) (loss=0.30965): 100%|██████████| 7/7 [00:15<00:00,  2.17s/it]\n",
      "Training (11899 / 18000 Steps) (loss=0.55638): 100%|██████████| 7/7 [00:15<00:00,  2.16s/it]\n",
      "Validate (11900 / 10 Steps): 100%|██████████| 2/2 [00:10<00:00,  5.21s/it]<?, ?it/s]\n",
      "Training (11900 / 18000 Steps) (loss=0.50878):  14%|█▍        | 1/7 [00:15<01:32, 15.45s/it]"
     ]
    },
    {
     "name": "stdout",
     "output_type": "stream",
     "text": [
      "Model Was Not Saved ! Current Best Avg. Dice: 0.3082180619239807 Current Avg. Dice: 0.27359750866889954 Current Avg. tumor Dice: 0.3333773910999298 Current Avg. lymph Dice: 0.21381765604019165\n"
     ]
    },
    {
     "name": "stderr",
     "output_type": "stream",
     "text": [
      "Training (11906 / 18000 Steps) (loss=0.42952): 100%|██████████| 7/7 [00:25<00:00,  3.65s/it]\n",
      "Training (11913 / 18000 Steps) (loss=0.26059): 100%|██████████| 7/7 [00:14<00:00,  2.11s/it]\n",
      "Training (11920 / 18000 Steps) (loss=0.38918): 100%|██████████| 7/7 [00:14<00:00,  2.07s/it]\n",
      "Training (11927 / 18000 Steps) (loss=0.54359): 100%|██████████| 7/7 [00:15<00:00,  2.20s/it]\n",
      "Training (11934 / 18000 Steps) (loss=0.31420): 100%|██████████| 7/7 [00:15<00:00,  2.23s/it]\n",
      "Training (11941 / 18000 Steps) (loss=0.56852): 100%|██████████| 7/7 [00:15<00:00,  2.18s/it]\n",
      "Training (11948 / 18000 Steps) (loss=0.40848): 100%|██████████| 7/7 [00:15<00:00,  2.18s/it]\n",
      "Training (11955 / 18000 Steps) (loss=0.52762): 100%|██████████| 7/7 [00:15<00:00,  2.16s/it]\n",
      "Training (11962 / 18000 Steps) (loss=0.56190): 100%|██████████| 7/7 [00:15<00:00,  2.15s/it]\n",
      "Training (11969 / 18000 Steps) (loss=0.40161): 100%|██████████| 7/7 [00:14<00:00,  2.11s/it]\n",
      "Training (11976 / 18000 Steps) (loss=0.32459): 100%|██████████| 7/7 [00:15<00:00,  2.25s/it]\n",
      "Training (11983 / 18000 Steps) (loss=0.33272): 100%|██████████| 7/7 [00:14<00:00,  2.12s/it]\n",
      "Training (11990 / 18000 Steps) (loss=0.56400): 100%|██████████| 7/7 [00:14<00:00,  2.08s/it]\n",
      "Training (11997 / 18000 Steps) (loss=0.47496): 100%|██████████| 7/7 [00:14<00:00,  2.12s/it]\n",
      "Validate (11998 / 10 Steps): 100%|██████████| 2/2 [00:10<00:00,  5.10s/it]<00:15,  3.13s/it]\n",
      "Training (12000 / 18000 Steps) (loss=0.47905):  43%|████▎     | 3/7 [00:18<00:28,  7.22s/it]"
     ]
    },
    {
     "name": "stdout",
     "output_type": "stream",
     "text": [
      "Model Was Not Saved ! Current Best Avg. Dice: 0.3082180619239807 Current Avg. Dice: 0.26392048597335815 Current Avg. tumor Dice: 0.3334946930408478 Current Avg. lymph Dice: 0.19434626400470734\n"
     ]
    },
    {
     "name": "stderr",
     "output_type": "stream",
     "text": [
      "Training (12004 / 18000 Steps) (loss=0.31241): 100%|██████████| 7/7 [00:25<00:00,  3.61s/it]\n",
      "Training (12011 / 18000 Steps) (loss=0.44792): 100%|██████████| 7/7 [00:14<00:00,  2.07s/it]\n",
      "Training (12018 / 18000 Steps) (loss=0.38446): 100%|██████████| 7/7 [00:14<00:00,  2.13s/it]\n",
      "Training (12025 / 18000 Steps) (loss=0.28608): 100%|██████████| 7/7 [00:14<00:00,  2.09s/it]\n",
      "Training (12032 / 18000 Steps) (loss=0.66718): 100%|██████████| 7/7 [00:16<00:00,  2.29s/it]\n",
      "Training (12039 / 18000 Steps) (loss=0.48677): 100%|██████████| 7/7 [00:14<00:00,  2.08s/it]\n",
      "Training (12046 / 18000 Steps) (loss=0.58242): 100%|██████████| 7/7 [00:14<00:00,  2.12s/it]\n",
      "Training (12053 / 18000 Steps) (loss=0.60990): 100%|██████████| 7/7 [00:15<00:00,  2.21s/it]\n",
      "Training (12060 / 18000 Steps) (loss=0.58867): 100%|██████████| 7/7 [00:14<00:00,  2.13s/it]\n",
      "Training (12067 / 18000 Steps) (loss=0.46728): 100%|██████████| 7/7 [00:15<00:00,  2.20s/it]\n",
      "Training (12074 / 18000 Steps) (loss=0.32612): 100%|██████████| 7/7 [00:15<00:00,  2.17s/it]\n",
      "Training (12081 / 18000 Steps) (loss=0.45471): 100%|██████████| 7/7 [00:15<00:00,  2.17s/it]\n",
      "Training (12088 / 18000 Steps) (loss=0.55260): 100%|██████████| 7/7 [00:14<00:00,  2.08s/it]\n",
      "Training (12095 / 18000 Steps) (loss=0.33328): 100%|██████████| 7/7 [00:17<00:00,  2.49s/it]\n",
      "Validate (12096 / 10 Steps): 100%|██████████| 2/2 [00:10<00:00,  5.27s/it]<00:07,  2.48s/it]\n",
      "Training (12100 / 18000 Steps) (loss=0.47063):  71%|███████▏  | 5/7 [00:24<00:12,  6.13s/it]"
     ]
    },
    {
     "name": "stdout",
     "output_type": "stream",
     "text": [
      "Model Was Not Saved ! Current Best Avg. Dice: 0.3082180619239807 Current Avg. Dice: 0.27637118101119995 Current Avg. tumor Dice: 0.3504178822040558 Current Avg. lymph Dice: 0.20232443511486053\n"
     ]
    },
    {
     "name": "stderr",
     "output_type": "stream",
     "text": [
      "Training (12102 / 18000 Steps) (loss=0.40310): 100%|██████████| 7/7 [00:27<00:00,  3.96s/it]\n",
      "Training (12109 / 18000 Steps) (loss=0.34462): 100%|██████████| 7/7 [00:17<00:00,  2.47s/it]\n",
      "Training (12116 / 18000 Steps) (loss=0.47039): 100%|██████████| 7/7 [00:16<00:00,  2.33s/it]\n",
      "Training (12123 / 18000 Steps) (loss=0.46836): 100%|██████████| 7/7 [00:15<00:00,  2.28s/it]\n",
      "Training (12130 / 18000 Steps) (loss=0.34140): 100%|██████████| 7/7 [00:16<00:00,  2.39s/it]\n",
      "Training (12137 / 18000 Steps) (loss=0.56665): 100%|██████████| 7/7 [00:17<00:00,  2.45s/it]\n",
      "Training (12144 / 18000 Steps) (loss=0.29423): 100%|██████████| 7/7 [00:16<00:00,  2.32s/it]\n",
      "Training (12151 / 18000 Steps) (loss=0.46403): 100%|██████████| 7/7 [00:15<00:00,  2.17s/it]\n",
      "Training (12158 / 18000 Steps) (loss=0.21265): 100%|██████████| 7/7 [00:16<00:00,  2.35s/it]\n",
      "Training (12165 / 18000 Steps) (loss=0.40092): 100%|██████████| 7/7 [00:16<00:00,  2.31s/it]\n",
      "Training (12172 / 18000 Steps) (loss=0.55108): 100%|██████████| 7/7 [00:15<00:00,  2.24s/it]\n",
      "Training (12179 / 18000 Steps) (loss=0.33817): 100%|██████████| 7/7 [00:16<00:00,  2.31s/it]\n",
      "Training (12186 / 18000 Steps) (loss=0.35342): 100%|██████████| 7/7 [00:15<00:00,  2.18s/it]\n",
      "Training (12193 / 18000 Steps) (loss=0.35347): 100%|██████████| 7/7 [00:14<00:00,  2.14s/it]\n",
      "Validate (12194 / 10 Steps): 100%|██████████| 2/2 [00:09<00:00,  4.88s/it]<00:01,  1.99s/it]\n",
      "Training (12200 / 18000 Steps) (loss=0.54547): 100%|██████████| 7/7 [00:25<00:00,  3.60s/it]\n"
     ]
    },
    {
     "name": "stdout",
     "output_type": "stream",
     "text": [
      "Model Was Not Saved ! Current Best Avg. Dice: 0.3082180619239807 Current Avg. Dice: 0.2847152352333069 Current Avg. tumor Dice: 0.3492093086242676 Current Avg. lymph Dice: 0.220221146941185\n"
     ]
    },
    {
     "name": "stderr",
     "output_type": "stream",
     "text": [
      "Training (12207 / 18000 Steps) (loss=0.53731): 100%|██████████| 7/7 [00:15<00:00,  2.22s/it]\n",
      "Training (12214 / 18000 Steps) (loss=0.56640): 100%|██████████| 7/7 [00:15<00:00,  2.24s/it]\n",
      "Training (12221 / 18000 Steps) (loss=0.54382): 100%|██████████| 7/7 [00:15<00:00,  2.23s/it]\n",
      "Training (12228 / 18000 Steps) (loss=0.59402): 100%|██████████| 7/7 [00:15<00:00,  2.18s/it]\n",
      "Training (12235 / 18000 Steps) (loss=0.46456): 100%|██████████| 7/7 [00:14<00:00,  2.12s/it]\n",
      "Training (12242 / 18000 Steps) (loss=0.35688): 100%|██████████| 7/7 [00:15<00:00,  2.17s/it]\n",
      "Training (12249 / 18000 Steps) (loss=0.35227): 100%|██████████| 7/7 [00:15<00:00,  2.28s/it]\n",
      "Training (12256 / 18000 Steps) (loss=0.50825): 100%|██████████| 7/7 [00:15<00:00,  2.18s/it]\n",
      "Training (12263 / 18000 Steps) (loss=0.46438): 100%|██████████| 7/7 [00:15<00:00,  2.14s/it]\n",
      "Training (12270 / 18000 Steps) (loss=0.54372): 100%|██████████| 7/7 [00:15<00:00,  2.18s/it]\n",
      "Training (12277 / 18000 Steps) (loss=0.47188): 100%|██████████| 7/7 [00:14<00:00,  2.11s/it]\n",
      "Training (12284 / 18000 Steps) (loss=0.42457): 100%|██████████| 7/7 [00:15<00:00,  2.14s/it]\n",
      "Training (12291 / 18000 Steps) (loss=0.35267): 100%|██████████| 7/7 [00:15<00:00,  2.16s/it]\n",
      "Training (12298 / 18000 Steps) (loss=0.55328): 100%|██████████| 7/7 [00:15<00:00,  2.20s/it]\n",
      "Validate (12299 / 10 Steps): 100%|██████████| 2/2 [00:10<00:00,  5.02s/it]<00:31,  5.30s/it]\n",
      "Training (12300 / 18000 Steps) (loss=0.55159):  29%|██▊       | 2/7 [00:17<00:46,  9.31s/it]"
     ]
    },
    {
     "name": "stdout",
     "output_type": "stream",
     "text": [
      "Model Was Not Saved ! Current Best Avg. Dice: 0.3082180619239807 Current Avg. Dice: 0.2765982747077942 Current Avg. tumor Dice: 0.33453622460365295 Current Avg. lymph Dice: 0.21866029500961304\n"
     ]
    },
    {
     "name": "stderr",
     "output_type": "stream",
     "text": [
      "Training (12305 / 18000 Steps) (loss=0.43698): 100%|██████████| 7/7 [00:25<00:00,  3.68s/it]\n",
      "Training (12312 / 18000 Steps) (loss=0.51269): 100%|██████████| 7/7 [00:16<00:00,  2.32s/it]\n",
      "Training (12319 / 18000 Steps) (loss=0.39670): 100%|██████████| 7/7 [00:15<00:00,  2.25s/it]\n",
      "Training (12326 / 18000 Steps) (loss=0.29704): 100%|██████████| 7/7 [00:14<00:00,  2.14s/it]\n",
      "Training (12333 / 18000 Steps) (loss=0.22834): 100%|██████████| 7/7 [00:14<00:00,  2.10s/it]\n",
      "Training (12340 / 18000 Steps) (loss=0.50984): 100%|██████████| 7/7 [00:15<00:00,  2.22s/it]\n",
      "Training (12347 / 18000 Steps) (loss=0.23330): 100%|██████████| 7/7 [00:15<00:00,  2.27s/it]\n",
      "Training (12354 / 18000 Steps) (loss=0.62517): 100%|██████████| 7/7 [00:15<00:00,  2.16s/it]\n",
      "Training (12361 / 18000 Steps) (loss=0.54802): 100%|██████████| 7/7 [00:14<00:00,  2.13s/it]\n",
      "Training (12368 / 18000 Steps) (loss=0.43451): 100%|██████████| 7/7 [00:14<00:00,  2.13s/it]\n",
      "Training (12375 / 18000 Steps) (loss=0.54576): 100%|██████████| 7/7 [00:15<00:00,  2.15s/it]\n",
      "Training (12382 / 18000 Steps) (loss=0.29587): 100%|██████████| 7/7 [00:14<00:00,  2.10s/it]\n",
      "Training (12389 / 18000 Steps) (loss=0.42062): 100%|██████████| 7/7 [00:15<00:00,  2.17s/it]\n",
      "Training (12396 / 18000 Steps) (loss=0.45497): 100%|██████████| 7/7 [00:15<00:00,  2.24s/it]\n",
      "Validate (12397 / 10 Steps): 100%|██████████| 2/2 [00:09<00:00,  4.90s/it]<00:10,  2.60s/it]\n",
      "Training (12400 / 18000 Steps) (loss=0.55630):  57%|█████▋    | 4/7 [00:20<00:18,  6.15s/it]"
     ]
    },
    {
     "name": "stdout",
     "output_type": "stream",
     "text": [
      "Model Was Not Saved ! Current Best Avg. Dice: 0.3082180619239807 Current Avg. Dice: 0.2697673439979553 Current Avg. tumor Dice: 0.33221277594566345 Current Avg. lymph Dice: 0.2073218822479248\n"
     ]
    },
    {
     "name": "stderr",
     "output_type": "stream",
     "text": [
      "Training (12403 / 18000 Steps) (loss=0.28206): 100%|██████████| 7/7 [00:25<00:00,  3.65s/it]\n",
      "Training (12410 / 18000 Steps) (loss=0.37316): 100%|██████████| 7/7 [00:16<00:00,  2.31s/it]\n",
      "Training (12417 / 18000 Steps) (loss=0.32966): 100%|██████████| 7/7 [00:16<00:00,  2.39s/it]\n",
      "Training (12424 / 18000 Steps) (loss=0.49152): 100%|██████████| 7/7 [00:17<00:00,  2.44s/it]\n",
      "Training (12431 / 18000 Steps) (loss=0.56138): 100%|██████████| 7/7 [00:15<00:00,  2.25s/it]\n",
      "Training (12438 / 18000 Steps) (loss=0.43832): 100%|██████████| 7/7 [00:15<00:00,  2.22s/it]\n",
      "Training (12445 / 18000 Steps) (loss=0.26711): 100%|██████████| 7/7 [00:15<00:00,  2.16s/it]\n",
      "Training (12452 / 18000 Steps) (loss=0.39156): 100%|██████████| 7/7 [00:15<00:00,  2.25s/it]\n",
      "Training (12459 / 18000 Steps) (loss=0.36133): 100%|██████████| 7/7 [00:15<00:00,  2.18s/it]\n",
      "Training (12466 / 18000 Steps) (loss=0.56062): 100%|██████████| 7/7 [00:14<00:00,  2.12s/it]\n",
      "Training (12473 / 18000 Steps) (loss=0.43406): 100%|██████████| 7/7 [00:15<00:00,  2.26s/it]\n",
      "Training (12480 / 18000 Steps) (loss=0.52104): 100%|██████████| 7/7 [00:15<00:00,  2.17s/it]\n",
      "Training (12487 / 18000 Steps) (loss=0.56715): 100%|██████████| 7/7 [00:15<00:00,  2.17s/it]\n",
      "Training (12494 / 18000 Steps) (loss=0.35333): 100%|██████████| 7/7 [00:15<00:00,  2.23s/it]\n",
      "Validate (12495 / 10 Steps): 100%|██████████| 2/2 [00:09<00:00,  4.84s/it]<00:04,  2.19s/it]\n",
      "Training (12500 / 18000 Steps) (loss=0.31003):  86%|████████▌ | 6/7 [00:24<00:05,  5.45s/it]"
     ]
    },
    {
     "name": "stdout",
     "output_type": "stream",
     "text": [
      "Model Was Not Saved ! Current Best Avg. Dice: 0.3082180619239807 Current Avg. Dice: 0.25753509998321533 Current Avg. tumor Dice: 0.3086363971233368 Current Avg. lymph Dice: 0.2064337432384491\n"
     ]
    },
    {
     "name": "stderr",
     "output_type": "stream",
     "text": [
      "Training (12501 / 18000 Steps) (loss=0.47329): 100%|██████████| 7/7 [00:25<00:00,  3.71s/it]\n",
      "Training (12508 / 18000 Steps) (loss=0.33082): 100%|██████████| 7/7 [00:15<00:00,  2.19s/it]\n",
      "Training (12515 / 18000 Steps) (loss=0.40192): 100%|██████████| 7/7 [00:14<00:00,  2.11s/it]\n",
      "Training (12522 / 18000 Steps) (loss=0.34990): 100%|██████████| 7/7 [00:15<00:00,  2.15s/it]\n",
      "Training (12529 / 18000 Steps) (loss=0.54119): 100%|██████████| 7/7 [00:15<00:00,  2.19s/it]\n",
      "Training (12536 / 18000 Steps) (loss=0.42236): 100%|██████████| 7/7 [00:15<00:00,  2.20s/it]\n",
      "Training (12543 / 18000 Steps) (loss=0.45268): 100%|██████████| 7/7 [00:15<00:00,  2.20s/it]\n",
      "Training (12550 / 18000 Steps) (loss=0.48498): 100%|██████████| 7/7 [00:15<00:00,  2.26s/it]\n",
      "Training (12557 / 18000 Steps) (loss=0.16297): 100%|██████████| 7/7 [00:17<00:00,  2.49s/it]\n",
      "Training (12564 / 18000 Steps) (loss=0.33838): 100%|██████████| 7/7 [00:16<00:00,  2.29s/it]\n",
      "Training (12571 / 18000 Steps) (loss=0.47546): 100%|██████████| 7/7 [00:14<00:00,  2.07s/it]\n",
      "Training (12578 / 18000 Steps) (loss=0.50514): 100%|██████████| 7/7 [00:16<00:00,  2.34s/it]\n",
      "Training (12585 / 18000 Steps) (loss=0.44428): 100%|██████████| 7/7 [00:15<00:00,  2.28s/it]\n",
      "Training (12592 / 18000 Steps) (loss=0.42783): 100%|██████████| 7/7 [00:15<00:00,  2.24s/it]\n",
      "Training (12599 / 18000 Steps) (loss=0.42149): 100%|██████████| 7/7 [00:14<00:00,  2.13s/it]\n",
      "Validate (12600 / 10 Steps): 100%|██████████| 2/2 [00:10<00:00,  5.17s/it]<?, ?it/s]\n",
      "Training (12600 / 18000 Steps) (loss=0.38241):  14%|█▍        | 1/7 [00:15<01:35, 15.98s/it]"
     ]
    },
    {
     "name": "stdout",
     "output_type": "stream",
     "text": [
      "Model Was Not Saved ! Current Best Avg. Dice: 0.3082180619239807 Current Avg. Dice: 0.2849612832069397 Current Avg. tumor Dice: 0.3670724630355835 Current Avg. lymph Dice: 0.2028501331806183\n"
     ]
    },
    {
     "name": "stderr",
     "output_type": "stream",
     "text": [
      "Training (12606 / 18000 Steps) (loss=0.47318): 100%|██████████| 7/7 [00:25<00:00,  3.71s/it]\n",
      "Training (12613 / 18000 Steps) (loss=0.41468): 100%|██████████| 7/7 [00:15<00:00,  2.25s/it]\n",
      "Training (12620 / 18000 Steps) (loss=0.37372): 100%|██████████| 7/7 [00:15<00:00,  2.24s/it]\n",
      "Training (12627 / 18000 Steps) (loss=0.38846): 100%|██████████| 7/7 [00:15<00:00,  2.28s/it]\n",
      "Training (12634 / 18000 Steps) (loss=0.40179): 100%|██████████| 7/7 [00:16<00:00,  2.29s/it]\n",
      "Training (12641 / 18000 Steps) (loss=0.27829): 100%|██████████| 7/7 [00:16<00:00,  2.40s/it]\n",
      "Training (12648 / 18000 Steps) (loss=0.46226): 100%|██████████| 7/7 [00:16<00:00,  2.34s/it]\n",
      "Training (12655 / 18000 Steps) (loss=0.42896): 100%|██████████| 7/7 [00:15<00:00,  2.27s/it]\n",
      "Training (12662 / 18000 Steps) (loss=0.43039): 100%|██████████| 7/7 [00:15<00:00,  2.21s/it]\n",
      "Training (12669 / 18000 Steps) (loss=0.61233): 100%|██████████| 7/7 [00:15<00:00,  2.21s/it]\n",
      "Training (12676 / 18000 Steps) (loss=0.27483): 100%|██████████| 7/7 [00:15<00:00,  2.26s/it]\n",
      "Training (12683 / 18000 Steps) (loss=0.41742): 100%|██████████| 7/7 [00:16<00:00,  2.38s/it]\n",
      "Training (12690 / 18000 Steps) (loss=0.46414): 100%|██████████| 7/7 [00:15<00:00,  2.28s/it]\n",
      "Training (12697 / 18000 Steps) (loss=0.38495): 100%|██████████| 7/7 [00:16<00:00,  2.43s/it]\n",
      "Validate (12698 / 10 Steps): 100%|██████████| 2/2 [00:10<00:00,  5.13s/it]<00:17,  3.44s/it]\n",
      "Training (12700 / 18000 Steps) (loss=0.48358):  43%|████▎     | 3/7 [00:19<00:29,  7.44s/it]"
     ]
    },
    {
     "name": "stdout",
     "output_type": "stream",
     "text": [
      "Model Was Not Saved ! Current Best Avg. Dice: 0.3082180619239807 Current Avg. Dice: 0.2653084695339203 Current Avg. tumor Dice: 0.3471403419971466 Current Avg. lymph Dice: 0.1834765523672104\n"
     ]
    },
    {
     "name": "stderr",
     "output_type": "stream",
     "text": [
      "Training (12704 / 18000 Steps) (loss=0.28656): 100%|██████████| 7/7 [00:26<00:00,  3.83s/it]\n",
      "Training (12711 / 18000 Steps) (loss=0.26513): 100%|██████████| 7/7 [00:15<00:00,  2.25s/it]\n",
      "Training (12718 / 18000 Steps) (loss=0.41993): 100%|██████████| 7/7 [00:16<00:00,  2.30s/it]\n",
      "Training (12725 / 18000 Steps) (loss=0.28982): 100%|██████████| 7/7 [00:15<00:00,  2.26s/it]\n",
      "Training (12732 / 18000 Steps) (loss=0.32453): 100%|██████████| 7/7 [00:15<00:00,  2.24s/it]\n",
      "Training (12739 / 18000 Steps) (loss=0.15993): 100%|██████████| 7/7 [00:15<00:00,  2.28s/it]\n",
      "Training (12746 / 18000 Steps) (loss=0.59075): 100%|██████████| 7/7 [00:15<00:00,  2.26s/it]\n",
      "Training (12753 / 18000 Steps) (loss=0.57072): 100%|██████████| 7/7 [00:15<00:00,  2.28s/it]\n",
      "Training (12760 / 18000 Steps) (loss=0.43776): 100%|██████████| 7/7 [00:15<00:00,  2.19s/it]\n",
      "Training (12767 / 18000 Steps) (loss=0.33928): 100%|██████████| 7/7 [00:15<00:00,  2.26s/it]\n",
      "Training (12774 / 18000 Steps) (loss=0.37819): 100%|██████████| 7/7 [00:15<00:00,  2.26s/it]\n",
      "Training (12781 / 18000 Steps) (loss=0.27891): 100%|██████████| 7/7 [00:14<00:00,  2.12s/it]\n",
      "Training (12788 / 18000 Steps) (loss=0.50515): 100%|██████████| 7/7 [00:14<00:00,  2.12s/it]\n",
      "Training (12795 / 18000 Steps) (loss=0.22171): 100%|██████████| 7/7 [00:14<00:00,  2.10s/it]\n",
      "Validate (12796 / 10 Steps): 100%|██████████| 2/2 [00:09<00:00,  4.90s/it]<00:06,  2.31s/it]\n",
      "Training (12800 / 18000 Steps) (loss=0.42291):  71%|███████▏  | 5/7 [00:22<00:11,  5.71s/it]"
     ]
    },
    {
     "name": "stdout",
     "output_type": "stream",
     "text": [
      "Model Was Not Saved ! Current Best Avg. Dice: 0.3082180619239807 Current Avg. Dice: 0.27657178044319153 Current Avg. tumor Dice: 0.3472095727920532 Current Avg. lymph Dice: 0.20593397319316864\n"
     ]
    },
    {
     "name": "stderr",
     "output_type": "stream",
     "text": [
      "Training (12802 / 18000 Steps) (loss=0.17145): 100%|██████████| 7/7 [00:25<00:00,  3.65s/it]\n",
      "Training (12809 / 18000 Steps) (loss=0.53911): 100%|██████████| 7/7 [00:15<00:00,  2.21s/it]\n",
      "Training (12816 / 18000 Steps) (loss=0.54330): 100%|██████████| 7/7 [00:14<00:00,  2.07s/it]\n",
      "Training (12823 / 18000 Steps) (loss=0.43174): 100%|██████████| 7/7 [00:14<00:00,  2.10s/it]\n",
      "Training (12830 / 18000 Steps) (loss=0.69124): 100%|██████████| 7/7 [00:15<00:00,  2.16s/it]\n",
      "Training (12837 / 18000 Steps) (loss=0.34056): 100%|██████████| 7/7 [00:14<00:00,  2.12s/it]\n",
      "Training (12844 / 18000 Steps) (loss=0.48179): 100%|██████████| 7/7 [00:14<00:00,  2.14s/it]\n",
      "Training (12851 / 18000 Steps) (loss=0.42692): 100%|██████████| 7/7 [00:15<00:00,  2.24s/it]\n",
      "Training (12858 / 18000 Steps) (loss=0.39570): 100%|██████████| 7/7 [00:15<00:00,  2.17s/it]\n",
      "Training (12865 / 18000 Steps) (loss=0.46700): 100%|██████████| 7/7 [00:15<00:00,  2.21s/it]\n",
      "Training (12872 / 18000 Steps) (loss=0.35994): 100%|██████████| 7/7 [00:15<00:00,  2.21s/it]\n",
      "Training (12879 / 18000 Steps) (loss=0.47288): 100%|██████████| 7/7 [00:16<00:00,  2.42s/it]\n",
      "Training (12886 / 18000 Steps) (loss=0.61676): 100%|██████████| 7/7 [00:15<00:00,  2.16s/it]\n",
      "Training (12893 / 18000 Steps) (loss=0.31522): 100%|██████████| 7/7 [00:16<00:00,  2.29s/it]\n",
      "Validate (12894 / 10 Steps): 100%|██████████| 2/2 [00:09<00:00,  4.95s/it]<00:02,  2.12s/it]\n",
      "Training (12900 / 18000 Steps) (loss=0.59715): 100%|██████████| 7/7 [00:26<00:00,  3.74s/it]\n"
     ]
    },
    {
     "name": "stdout",
     "output_type": "stream",
     "text": [
      "Model Was Not Saved ! Current Best Avg. Dice: 0.3082180619239807 Current Avg. Dice: 0.2724669575691223 Current Avg. tumor Dice: 0.35944849252700806 Current Avg. lymph Dice: 0.18548545241355896\n"
     ]
    },
    {
     "name": "stderr",
     "output_type": "stream",
     "text": [
      "Training (12907 / 18000 Steps) (loss=0.36379): 100%|██████████| 7/7 [00:17<00:00,  2.45s/it]\n",
      "Training (12914 / 18000 Steps) (loss=0.39443): 100%|██████████| 7/7 [00:18<00:00,  2.59s/it]\n",
      "Training (12921 / 18000 Steps) (loss=0.30937): 100%|██████████| 7/7 [00:16<00:00,  2.41s/it]\n",
      "Training (12928 / 18000 Steps) (loss=0.43887): 100%|██████████| 7/7 [00:16<00:00,  2.30s/it]\n",
      "Training (12935 / 18000 Steps) (loss=0.30751): 100%|██████████| 7/7 [00:17<00:00,  2.46s/it]\n",
      "Training (12942 / 18000 Steps) (loss=0.43576): 100%|██████████| 7/7 [00:17<00:00,  2.43s/it]\n",
      "Training (12949 / 18000 Steps) (loss=0.24805): 100%|██████████| 7/7 [00:17<00:00,  2.45s/it]\n",
      "Training (12956 / 18000 Steps) (loss=0.53212): 100%|██████████| 7/7 [00:15<00:00,  2.24s/it]\n",
      "Training (12963 / 18000 Steps) (loss=0.33199): 100%|██████████| 7/7 [00:15<00:00,  2.16s/it]\n",
      "Training (12970 / 18000 Steps) (loss=0.28938): 100%|██████████| 7/7 [00:14<00:00,  2.13s/it]\n",
      "Training (12977 / 18000 Steps) (loss=0.37948): 100%|██████████| 7/7 [00:15<00:00,  2.15s/it]\n",
      "Training (12984 / 18000 Steps) (loss=0.45459): 100%|██████████| 7/7 [00:16<00:00,  2.30s/it]\n",
      "Training (12991 / 18000 Steps) (loss=0.47340): 100%|██████████| 7/7 [00:16<00:00,  2.32s/it]\n",
      "Training (12998 / 18000 Steps) (loss=0.24197): 100%|██████████| 7/7 [00:16<00:00,  2.40s/it]\n",
      "Validate (12999 / 10 Steps): 100%|██████████| 2/2 [00:10<00:00,  5.00s/it]<00:33,  5.54s/it]\n",
      "Training (13000 / 18000 Steps) (loss=0.42929):  29%|██▊       | 2/7 [00:17<00:46,  9.37s/it]"
     ]
    },
    {
     "name": "stdout",
     "output_type": "stream",
     "text": [
      "Model Was Not Saved ! Current Best Avg. Dice: 0.3082180619239807 Current Avg. Dice: 0.2927040457725525 Current Avg. tumor Dice: 0.36390089988708496 Current Avg. lymph Dice: 0.22150717675685883\n"
     ]
    },
    {
     "name": "stderr",
     "output_type": "stream",
     "text": [
      "Training (13005 / 18000 Steps) (loss=0.35079): 100%|██████████| 7/7 [00:26<00:00,  3.74s/it]\n",
      "Training (13012 / 18000 Steps) (loss=0.45887): 100%|██████████| 7/7 [00:17<00:00,  2.51s/it]\n",
      "Training (13019 / 18000 Steps) (loss=0.45154): 100%|██████████| 7/7 [00:17<00:00,  2.45s/it]\n",
      "Training (13026 / 18000 Steps) (loss=0.54661): 100%|██████████| 7/7 [00:16<00:00,  2.37s/it]\n",
      "Training (13033 / 18000 Steps) (loss=0.56447): 100%|██████████| 7/7 [00:14<00:00,  2.13s/it]\n",
      "Training (13040 / 18000 Steps) (loss=0.22537): 100%|██████████| 7/7 [00:14<00:00,  2.04s/it]\n",
      "Training (13047 / 18000 Steps) (loss=0.34695): 100%|██████████| 7/7 [00:14<00:00,  2.05s/it]\n",
      "Training (13054 / 18000 Steps) (loss=0.60650): 100%|██████████| 7/7 [00:15<00:00,  2.21s/it]\n",
      "Training (13061 / 18000 Steps) (loss=0.31801): 100%|██████████| 7/7 [00:15<00:00,  2.16s/it]\n",
      "Training (13068 / 18000 Steps) (loss=0.53620): 100%|██████████| 7/7 [00:15<00:00,  2.25s/it]\n",
      "Training (13075 / 18000 Steps) (loss=0.34097): 100%|██████████| 7/7 [00:16<00:00,  2.33s/it]\n",
      "Training (13082 / 18000 Steps) (loss=0.42977): 100%|██████████| 7/7 [00:15<00:00,  2.27s/it]\n",
      "Training (13089 / 18000 Steps) (loss=0.40033): 100%|██████████| 7/7 [00:16<00:00,  2.30s/it]\n",
      "Training (13096 / 18000 Steps) (loss=0.54633): 100%|██████████| 7/7 [00:16<00:00,  2.42s/it]\n",
      "Validate (13097 / 10 Steps): 100%|██████████| 2/2 [00:10<00:00,  5.24s/it]<00:11,  2.91s/it]\n",
      "Training (13100 / 18000 Steps) (loss=0.54228):  57%|█████▋    | 4/7 [00:22<00:19,  6.62s/it]"
     ]
    },
    {
     "name": "stdout",
     "output_type": "stream",
     "text": [
      "Model Was Not Saved ! Current Best Avg. Dice: 0.3082180619239807 Current Avg. Dice: 0.2839982509613037 Current Avg. tumor Dice: 0.35908180475234985 Current Avg. lymph Dice: 0.20891472697257996\n"
     ]
    },
    {
     "name": "stderr",
     "output_type": "stream",
     "text": [
      "Training (13103 / 18000 Steps) (loss=0.49344): 100%|██████████| 7/7 [00:27<00:00,  3.92s/it]\n",
      "Training (13110 / 18000 Steps) (loss=0.17398): 100%|██████████| 7/7 [00:17<00:00,  2.48s/it]\n",
      "Training (13117 / 18000 Steps) (loss=0.56418): 100%|██████████| 7/7 [00:17<00:00,  2.44s/it]\n",
      "Training (13124 / 18000 Steps) (loss=0.56460): 100%|██████████| 7/7 [00:16<00:00,  2.30s/it]\n",
      "Training (13131 / 18000 Steps) (loss=0.51337): 100%|██████████| 7/7 [00:17<00:00,  2.44s/it]\n",
      "Training (13138 / 18000 Steps) (loss=0.50298): 100%|██████████| 7/7 [00:16<00:00,  2.42s/it]\n",
      "Training (13145 / 18000 Steps) (loss=0.23731): 100%|██████████| 7/7 [00:16<00:00,  2.35s/it]\n",
      "Training (13152 / 18000 Steps) (loss=0.53406): 100%|██████████| 7/7 [00:17<00:00,  2.46s/it]\n",
      "Training (13159 / 18000 Steps) (loss=0.40853): 100%|██████████| 7/7 [00:16<00:00,  2.38s/it]\n",
      "Training (13166 / 18000 Steps) (loss=0.43419): 100%|██████████| 7/7 [00:17<00:00,  2.44s/it]\n",
      "Training (13173 / 18000 Steps) (loss=0.35375): 100%|██████████| 7/7 [00:16<00:00,  2.32s/it]\n",
      "Training (13180 / 18000 Steps) (loss=0.61003): 100%|██████████| 7/7 [00:16<00:00,  2.32s/it]\n",
      "Training (13187 / 18000 Steps) (loss=0.33823): 100%|██████████| 7/7 [00:16<00:00,  2.33s/it]\n",
      "Training (13194 / 18000 Steps) (loss=0.40074): 100%|██████████| 7/7 [00:14<00:00,  2.08s/it]\n",
      "Validate (13195 / 10 Steps): 100%|██████████| 2/2 [00:09<00:00,  4.95s/it]<00:03,  2.00s/it]\n",
      "Training (13200 / 18000 Steps) (loss=0.37281):  86%|████████▌ | 6/7 [00:23<00:05,  5.30s/it]"
     ]
    },
    {
     "name": "stdout",
     "output_type": "stream",
     "text": [
      "Model Was Not Saved ! Current Best Avg. Dice: 0.3082180619239807 Current Avg. Dice: 0.2525481581687927 Current Avg. tumor Dice: 0.3329108953475952 Current Avg. lymph Dice: 0.17218545079231262\n"
     ]
    },
    {
     "name": "stderr",
     "output_type": "stream",
     "text": [
      "Training (13201 / 18000 Steps) (loss=0.47768): 100%|██████████| 7/7 [00:24<00:00,  3.52s/it]\n",
      "Training (13208 / 18000 Steps) (loss=0.30226): 100%|██████████| 7/7 [00:15<00:00,  2.26s/it]\n",
      "Training (13215 / 18000 Steps) (loss=0.23251): 100%|██████████| 7/7 [00:16<00:00,  2.34s/it]\n",
      "Training (13222 / 18000 Steps) (loss=0.54091): 100%|██████████| 7/7 [00:16<00:00,  2.36s/it]\n",
      "Training (13229 / 18000 Steps) (loss=0.38977): 100%|██████████| 7/7 [00:16<00:00,  2.36s/it]\n",
      "Training (13236 / 18000 Steps) (loss=0.53923): 100%|██████████| 7/7 [00:14<00:00,  2.14s/it]\n",
      "Training (13243 / 18000 Steps) (loss=0.61162): 100%|██████████| 7/7 [00:14<00:00,  2.12s/it]\n",
      "Training (13250 / 18000 Steps) (loss=0.49581): 100%|██████████| 7/7 [00:14<00:00,  2.09s/it]\n",
      "Training (13257 / 18000 Steps) (loss=0.59976): 100%|██████████| 7/7 [00:15<00:00,  2.20s/it]\n",
      "Training (13264 / 18000 Steps) (loss=0.36033): 100%|██████████| 7/7 [00:15<00:00,  2.22s/it]\n",
      "Training (13271 / 18000 Steps) (loss=0.49869): 100%|██████████| 7/7 [00:14<00:00,  2.10s/it]\n",
      "Training (13278 / 18000 Steps) (loss=0.48080): 100%|██████████| 7/7 [00:14<00:00,  2.13s/it]\n",
      "Training (13285 / 18000 Steps) (loss=0.38721): 100%|██████████| 7/7 [00:14<00:00,  2.13s/it]\n",
      "Training (13292 / 18000 Steps) (loss=0.53856): 100%|██████████| 7/7 [00:14<00:00,  2.11s/it]\n",
      "Training (13299 / 18000 Steps) (loss=0.52949): 100%|██████████| 7/7 [00:15<00:00,  2.15s/it]\n",
      "Validate (13300 / 10 Steps): 100%|██████████| 2/2 [00:10<00:00,  5.16s/it]<?, ?it/s]\n",
      "Training (13300 / 18000 Steps) (loss=0.38978):  14%|█▍        | 1/7 [00:16<01:36, 16.14s/it]"
     ]
    },
    {
     "name": "stdout",
     "output_type": "stream",
     "text": [
      "Model Was Not Saved ! Current Best Avg. Dice: 0.3082180619239807 Current Avg. Dice: 0.27104538679122925 Current Avg. tumor Dice: 0.3491055965423584 Current Avg. lymph Dice: 0.19298520684242249\n"
     ]
    },
    {
     "name": "stderr",
     "output_type": "stream",
     "text": [
      "Training (13306 / 18000 Steps) (loss=0.66679): 100%|██████████| 7/7 [00:26<00:00,  3.80s/it]\n",
      "Training (13313 / 18000 Steps) (loss=0.21193): 100%|██████████| 7/7 [00:15<00:00,  2.26s/it]\n",
      "Training (13320 / 18000 Steps) (loss=0.47213): 100%|██████████| 7/7 [00:16<00:00,  2.35s/it]\n",
      "Training (13327 / 18000 Steps) (loss=0.57032): 100%|██████████| 7/7 [00:15<00:00,  2.16s/it]\n",
      "Training (13334 / 18000 Steps) (loss=0.38159): 100%|██████████| 7/7 [00:15<00:00,  2.28s/it]\n",
      "Training (13341 / 18000 Steps) (loss=0.57265): 100%|██████████| 7/7 [00:15<00:00,  2.25s/it]\n",
      "Training (13348 / 18000 Steps) (loss=0.23895): 100%|██████████| 7/7 [00:15<00:00,  2.27s/it]\n",
      "Training (13355 / 18000 Steps) (loss=0.43231): 100%|██████████| 7/7 [00:15<00:00,  2.17s/it]\n",
      "Training (13362 / 18000 Steps) (loss=0.19105): 100%|██████████| 7/7 [00:14<00:00,  2.14s/it]\n",
      "Training (13369 / 18000 Steps) (loss=0.43573): 100%|██████████| 7/7 [00:14<00:00,  2.08s/it]\n",
      "Training (13376 / 18000 Steps) (loss=0.52091): 100%|██████████| 7/7 [00:14<00:00,  2.12s/it]\n",
      "Training (13383 / 18000 Steps) (loss=0.48329): 100%|██████████| 7/7 [00:14<00:00,  2.09s/it]\n",
      "Training (13390 / 18000 Steps) (loss=0.45740): 100%|██████████| 7/7 [00:15<00:00,  2.27s/it]\n",
      "Training (13397 / 18000 Steps) (loss=0.54707): 100%|██████████| 7/7 [00:14<00:00,  2.08s/it]\n",
      "Validate (13398 / 10 Steps): 100%|██████████| 2/2 [00:09<00:00,  4.80s/it]<00:14,  2.99s/it]\n",
      "Training (13400 / 18000 Steps) (loss=0.39538):  43%|████▎     | 3/7 [00:17<00:27,  6.80s/it]"
     ]
    },
    {
     "name": "stdout",
     "output_type": "stream",
     "text": [
      "Model Was Not Saved ! Current Best Avg. Dice: 0.3082180619239807 Current Avg. Dice: 0.27935105562210083 Current Avg. tumor Dice: 0.34137606620788574 Current Avg. lymph Dice: 0.21732604503631592\n"
     ]
    },
    {
     "name": "stderr",
     "output_type": "stream",
     "text": [
      "Training (13404 / 18000 Steps) (loss=0.55624): 100%|██████████| 7/7 [00:24<00:00,  3.43s/it]\n",
      "Training (13411 / 18000 Steps) (loss=0.29461): 100%|██████████| 7/7 [00:14<00:00,  2.12s/it]\n",
      "Training (13418 / 18000 Steps) (loss=0.30399): 100%|██████████| 7/7 [00:15<00:00,  2.26s/it]\n",
      "Training (13425 / 18000 Steps) (loss=0.56569): 100%|██████████| 7/7 [00:16<00:00,  2.32s/it]\n",
      "Training (13432 / 18000 Steps) (loss=0.47081): 100%|██████████| 7/7 [00:14<00:00,  2.14s/it]\n",
      "Training (13439 / 18000 Steps) (loss=0.39448): 100%|██████████| 7/7 [00:14<00:00,  2.10s/it]\n",
      "Training (13446 / 18000 Steps) (loss=0.50808): 100%|██████████| 7/7 [00:16<00:00,  2.40s/it]\n",
      "Training (13453 / 18000 Steps) (loss=0.43312): 100%|██████████| 7/7 [00:16<00:00,  2.37s/it]\n",
      "Training (13460 / 18000 Steps) (loss=0.29919): 100%|██████████| 7/7 [00:16<00:00,  2.42s/it]\n",
      "Training (13467 / 18000 Steps) (loss=0.44909): 100%|██████████| 7/7 [00:17<00:00,  2.54s/it]\n",
      "Training (13474 / 18000 Steps) (loss=0.53952): 100%|██████████| 7/7 [00:17<00:00,  2.46s/it]\n",
      "Training (13481 / 18000 Steps) (loss=0.22022): 100%|██████████| 7/7 [00:15<00:00,  2.24s/it]\n",
      "Training (13488 / 18000 Steps) (loss=0.42220): 100%|██████████| 7/7 [00:16<00:00,  2.34s/it]\n",
      "Training (13495 / 18000 Steps) (loss=0.38126): 100%|██████████| 7/7 [00:16<00:00,  2.37s/it]\n",
      "Validate (13496 / 10 Steps): 100%|██████████| 2/2 [00:10<00:00,  5.04s/it]<00:07,  2.39s/it]\n",
      "Training (13500 / 18000 Steps) (loss=0.38177):  71%|███████▏  | 5/7 [00:23<00:11,  5.81s/it]"
     ]
    },
    {
     "name": "stdout",
     "output_type": "stream",
     "text": [
      "Model Was Not Saved ! Current Best Avg. Dice: 0.3082180619239807 Current Avg. Dice: 0.2596566677093506 Current Avg. tumor Dice: 0.31735002994537354 Current Avg. lymph Dice: 0.2019633650779724\n"
     ]
    },
    {
     "name": "stderr",
     "output_type": "stream",
     "text": [
      "Training (13502 / 18000 Steps) (loss=0.26197): 100%|██████████| 7/7 [00:26<00:00,  3.74s/it]\n",
      "Training (13509 / 18000 Steps) (loss=0.66109): 100%|██████████| 7/7 [00:15<00:00,  2.23s/it]\n",
      "Training (13516 / 18000 Steps) (loss=0.29803): 100%|██████████| 7/7 [00:15<00:00,  2.27s/it]\n",
      "Training (13523 / 18000 Steps) (loss=0.54661): 100%|██████████| 7/7 [00:15<00:00,  2.28s/it]\n",
      "Training (13530 / 18000 Steps) (loss=0.36939): 100%|██████████| 7/7 [00:15<00:00,  2.16s/it]\n",
      "Training (13537 / 18000 Steps) (loss=0.42917): 100%|██████████| 7/7 [00:14<00:00,  2.12s/it]\n",
      "Training (13544 / 18000 Steps) (loss=0.34901): 100%|██████████| 7/7 [00:16<00:00,  2.32s/it]\n",
      "Training (13551 / 18000 Steps) (loss=0.43536): 100%|██████████| 7/7 [00:15<00:00,  2.22s/it]\n",
      "Training (13558 / 18000 Steps) (loss=0.38213): 100%|██████████| 7/7 [00:15<00:00,  2.28s/it]\n",
      "Training (13565 / 18000 Steps) (loss=0.43221): 100%|██████████| 7/7 [00:16<00:00,  2.34s/it]\n",
      "Training (13572 / 18000 Steps) (loss=0.51527): 100%|██████████| 7/7 [00:16<00:00,  2.34s/it]\n",
      "Training (13579 / 18000 Steps) (loss=0.48910): 100%|██████████| 7/7 [00:15<00:00,  2.27s/it]\n",
      "Training (13586 / 18000 Steps) (loss=0.38316): 100%|██████████| 7/7 [00:14<00:00,  2.10s/it]\n",
      "Training (13593 / 18000 Steps) (loss=0.53612): 100%|██████████| 7/7 [00:16<00:00,  2.36s/it]\n",
      "Validate (13594 / 10 Steps): 100%|██████████| 2/2 [00:09<00:00,  4.87s/it]<00:02,  2.13s/it]\n",
      "Training (13600 / 18000 Steps) (loss=0.33002): 100%|██████████| 7/7 [00:26<00:00,  3.73s/it]\n"
     ]
    },
    {
     "name": "stdout",
     "output_type": "stream",
     "text": [
      "Model Was Not Saved ! Current Best Avg. Dice: 0.3082180619239807 Current Avg. Dice: 0.26520922780036926 Current Avg. tumor Dice: 0.36458703875541687 Current Avg. lymph Dice: 0.16583144664764404\n"
     ]
    },
    {
     "name": "stderr",
     "output_type": "stream",
     "text": [
      "Training (13607 / 18000 Steps) (loss=0.41037): 100%|██████████| 7/7 [00:15<00:00,  2.17s/it]\n",
      "Training (13614 / 18000 Steps) (loss=0.42790): 100%|██████████| 7/7 [00:14<00:00,  2.10s/it]\n",
      "Training (13621 / 18000 Steps) (loss=0.31923): 100%|██████████| 7/7 [00:14<00:00,  2.10s/it]\n",
      "Training (13628 / 18000 Steps) (loss=0.42733): 100%|██████████| 7/7 [00:15<00:00,  2.15s/it]\n",
      "Training (13635 / 18000 Steps) (loss=0.34128): 100%|██████████| 7/7 [00:14<00:00,  2.13s/it]\n",
      "Training (13642 / 18000 Steps) (loss=0.58662): 100%|██████████| 7/7 [00:15<00:00,  2.17s/it]\n",
      "Training (13649 / 18000 Steps) (loss=0.43701): 100%|██████████| 7/7 [00:15<00:00,  2.21s/it]\n",
      "Training (13656 / 18000 Steps) (loss=0.43084): 100%|██████████| 7/7 [00:16<00:00,  2.40s/it]\n",
      "Training (13663 / 18000 Steps) (loss=0.28415): 100%|██████████| 7/7 [00:16<00:00,  2.32s/it]\n",
      "Training (13670 / 18000 Steps) (loss=0.46644): 100%|██████████| 7/7 [00:15<00:00,  2.20s/it]\n",
      "Training (13677 / 18000 Steps) (loss=0.41993): 100%|██████████| 7/7 [00:15<00:00,  2.28s/it]\n",
      "Training (13684 / 18000 Steps) (loss=0.43046): 100%|██████████| 7/7 [00:15<00:00,  2.17s/it]\n",
      "Training (13691 / 18000 Steps) (loss=0.56470): 100%|██████████| 7/7 [00:15<00:00,  2.18s/it]\n",
      "Training (13698 / 18000 Steps) (loss=0.37258): 100%|██████████| 7/7 [00:15<00:00,  2.18s/it]\n",
      "Validate (13699 / 10 Steps): 100%|██████████| 2/2 [00:09<00:00,  4.85s/it]<00:30,  5.03s/it]\n",
      "Training (13700 / 18000 Steps) (loss=0.37491):  29%|██▊       | 2/7 [00:16<00:44,  8.84s/it]"
     ]
    },
    {
     "name": "stdout",
     "output_type": "stream",
     "text": [
      "Model Was Not Saved ! Current Best Avg. Dice: 0.3082180619239807 Current Avg. Dice: 0.2604321241378784 Current Avg. tumor Dice: 0.34452635049819946 Current Avg. lymph Dice: 0.1763378530740738\n"
     ]
    },
    {
     "name": "stderr",
     "output_type": "stream",
     "text": [
      "Training (13705 / 18000 Steps) (loss=0.49813): 100%|██████████| 7/7 [00:25<00:00,  3.61s/it]\n",
      "Training (13712 / 18000 Steps) (loss=0.48261): 100%|██████████| 7/7 [00:15<00:00,  2.23s/it]\n",
      "Training (13719 / 18000 Steps) (loss=0.35855): 100%|██████████| 7/7 [00:17<00:00,  2.50s/it]\n",
      "Training (13726 / 18000 Steps) (loss=0.55665): 100%|██████████| 7/7 [00:17<00:00,  2.50s/it]\n",
      "Training (13733 / 18000 Steps) (loss=0.32612): 100%|██████████| 7/7 [00:16<00:00,  2.39s/it]\n",
      "Training (13740 / 18000 Steps) (loss=0.61139): 100%|██████████| 7/7 [00:16<00:00,  2.38s/it]\n",
      "Training (13747 / 18000 Steps) (loss=0.53229): 100%|██████████| 7/7 [00:17<00:00,  2.53s/it]\n",
      "Training (13754 / 18000 Steps) (loss=0.47524): 100%|██████████| 7/7 [00:17<00:00,  2.53s/it]\n",
      "Training (13761 / 18000 Steps) (loss=0.31094): 100%|██████████| 7/7 [00:17<00:00,  2.55s/it]\n",
      "Training (13768 / 18000 Steps) (loss=0.55475): 100%|██████████| 7/7 [00:17<00:00,  2.51s/it]\n",
      "Training (13775 / 18000 Steps) (loss=0.33620): 100%|██████████| 7/7 [00:17<00:00,  2.51s/it]\n",
      "Training (13782 / 18000 Steps) (loss=0.44650): 100%|██████████| 7/7 [00:18<00:00,  2.64s/it]\n",
      "Training (13789 / 18000 Steps) (loss=0.55831): 100%|██████████| 7/7 [00:18<00:00,  2.62s/it]\n",
      "Training (13796 / 18000 Steps) (loss=0.31753): 100%|██████████| 7/7 [00:17<00:00,  2.54s/it]\n",
      "Validate (13797 / 10 Steps): 100%|██████████| 2/2 [00:10<00:00,  5.38s/it]<00:11,  2.80s/it]\n",
      "Training (13800 / 18000 Steps) (loss=0.56737):  57%|█████▋    | 4/7 [00:22<00:20,  6.76s/it]"
     ]
    },
    {
     "name": "stdout",
     "output_type": "stream",
     "text": [
      "Model Was Not Saved ! Current Best Avg. Dice: 0.3082180619239807 Current Avg. Dice: 0.2655823826789856 Current Avg. tumor Dice: 0.34419405460357666 Current Avg. lymph Dice: 0.1869707554578781\n"
     ]
    },
    {
     "name": "stderr",
     "output_type": "stream",
     "text": [
      "Training (13803 / 18000 Steps) (loss=0.43363): 100%|██████████| 7/7 [00:27<00:00,  3.95s/it]\n",
      "Training (13810 / 18000 Steps) (loss=0.56895): 100%|██████████| 7/7 [00:17<00:00,  2.47s/it]\n",
      "Training (13817 / 18000 Steps) (loss=0.56559): 100%|██████████| 7/7 [00:17<00:00,  2.52s/it]\n",
      "Training (13824 / 18000 Steps) (loss=0.43151): 100%|██████████| 7/7 [00:16<00:00,  2.41s/it]\n",
      "Training (13831 / 18000 Steps) (loss=0.43366): 100%|██████████| 7/7 [00:17<00:00,  2.51s/it]\n",
      "Training (13838 / 18000 Steps) (loss=0.66755): 100%|██████████| 7/7 [00:16<00:00,  2.42s/it]\n",
      "Training (13845 / 18000 Steps) (loss=0.59372): 100%|██████████| 7/7 [00:18<00:00,  2.57s/it]\n",
      "Training (13852 / 18000 Steps) (loss=0.45926): 100%|██████████| 7/7 [00:17<00:00,  2.49s/it]\n",
      "Training (13859 / 18000 Steps) (loss=0.56730): 100%|██████████| 7/7 [00:17<00:00,  2.53s/it]\n",
      "Training (13866 / 18000 Steps) (loss=0.26683): 100%|██████████| 7/7 [00:16<00:00,  2.29s/it]\n",
      "Training (13873 / 18000 Steps) (loss=0.27557): 100%|██████████| 7/7 [00:17<00:00,  2.47s/it]\n",
      "Training (13880 / 18000 Steps) (loss=0.35644): 100%|██████████| 7/7 [00:16<00:00,  2.42s/it]\n",
      "Training (13887 / 18000 Steps) (loss=0.39215): 100%|██████████| 7/7 [00:17<00:00,  2.55s/it]\n",
      "Training (13894 / 18000 Steps) (loss=0.41904): 100%|██████████| 7/7 [00:16<00:00,  2.30s/it]\n",
      "Validate (13895 / 10 Steps): 100%|██████████| 2/2 [00:10<00:00,  5.40s/it]<00:04,  2.30s/it]\n",
      "Training (13900 / 18000 Steps) (loss=0.29918):  86%|████████▌ | 6/7 [00:26<00:05,  5.90s/it]"
     ]
    },
    {
     "name": "stdout",
     "output_type": "stream",
     "text": [
      "Model Was Not Saved ! Current Best Avg. Dice: 0.3082180619239807 Current Avg. Dice: 0.2680128216743469 Current Avg. tumor Dice: 0.35672664642333984 Current Avg. lymph Dice: 0.179298996925354\n"
     ]
    },
    {
     "name": "stderr",
     "output_type": "stream",
     "text": [
      "Training (13901 / 18000 Steps) (loss=0.29589): 100%|██████████| 7/7 [00:27<00:00,  4.00s/it]\n",
      "Training (13908 / 18000 Steps) (loss=0.35636): 100%|██████████| 7/7 [00:17<00:00,  2.54s/it]\n",
      "Training (13915 / 18000 Steps) (loss=0.46668): 100%|██████████| 7/7 [00:16<00:00,  2.31s/it]\n",
      "Training (13922 / 18000 Steps) (loss=0.29089): 100%|██████████| 7/7 [00:17<00:00,  2.48s/it]\n",
      "Training (13929 / 18000 Steps) (loss=0.50187): 100%|██████████| 7/7 [00:16<00:00,  2.43s/it]\n",
      "Training (13936 / 18000 Steps) (loss=0.31149): 100%|██████████| 7/7 [00:17<00:00,  2.49s/it]\n",
      "Training (13943 / 18000 Steps) (loss=0.23610): 100%|██████████| 7/7 [00:17<00:00,  2.54s/it]\n",
      "Training (13950 / 18000 Steps) (loss=0.50156): 100%|██████████| 7/7 [00:17<00:00,  2.49s/it]\n",
      "Training (13957 / 18000 Steps) (loss=0.47575): 100%|██████████| 7/7 [00:16<00:00,  2.38s/it]\n",
      "Training (13964 / 18000 Steps) (loss=0.33757): 100%|██████████| 7/7 [00:17<00:00,  2.43s/it]\n",
      "Training (13971 / 18000 Steps) (loss=0.37509): 100%|██████████| 7/7 [00:15<00:00,  2.17s/it]\n",
      "Training (13978 / 18000 Steps) (loss=0.40631): 100%|██████████| 7/7 [00:15<00:00,  2.21s/it]\n",
      "Training (13985 / 18000 Steps) (loss=0.44259): 100%|██████████| 7/7 [00:15<00:00,  2.21s/it]\n",
      "Training (13992 / 18000 Steps) (loss=0.44378): 100%|██████████| 7/7 [00:14<00:00,  2.14s/it]\n",
      "Training (13999 / 18000 Steps) (loss=0.49170): 100%|██████████| 7/7 [00:14<00:00,  2.08s/it]\n",
      "Validate (14000 / 10 Steps): 100%|██████████| 2/2 [00:09<00:00,  4.80s/it]<?, ?it/s]\n",
      "Training (14000 / 18000 Steps) (loss=0.51736):  14%|█▍        | 1/7 [00:14<01:25, 14.33s/it]"
     ]
    },
    {
     "name": "stdout",
     "output_type": "stream",
     "text": [
      "Model Was Not Saved ! Current Best Avg. Dice: 0.3082180619239807 Current Avg. Dice: 0.2795589566230774 Current Avg. tumor Dice: 0.3715674877166748 Current Avg. lymph Dice: 0.18755045533180237\n"
     ]
    },
    {
     "name": "stderr",
     "output_type": "stream",
     "text": [
      "Training (14006 / 18000 Steps) (loss=0.20145): 100%|██████████| 7/7 [00:24<00:00,  3.43s/it]\n",
      "Training (14013 / 18000 Steps) (loss=0.47408): 100%|██████████| 7/7 [00:14<00:00,  2.06s/it]\n",
      "Training (14020 / 18000 Steps) (loss=0.54677): 100%|██████████| 7/7 [00:14<00:00,  2.04s/it]\n",
      "Training (14027 / 18000 Steps) (loss=0.43537): 100%|██████████| 7/7 [00:14<00:00,  2.10s/it]\n",
      "Training (14034 / 18000 Steps) (loss=0.30336): 100%|██████████| 7/7 [00:14<00:00,  2.13s/it]\n",
      "Training (14041 / 18000 Steps) (loss=0.38781): 100%|██████████| 7/7 [00:15<00:00,  2.20s/it]\n",
      "Training (14048 / 18000 Steps) (loss=0.53469): 100%|██████████| 7/7 [00:14<00:00,  2.11s/it]\n",
      "Training (14055 / 18000 Steps) (loss=0.45843): 100%|██████████| 7/7 [00:14<00:00,  2.07s/it]\n",
      "Training (14062 / 18000 Steps) (loss=0.39194): 100%|██████████| 7/7 [00:14<00:00,  2.12s/it]\n",
      "Training (14069 / 18000 Steps) (loss=0.42242): 100%|██████████| 7/7 [00:15<00:00,  2.19s/it]\n",
      "Training (14076 / 18000 Steps) (loss=0.36882): 100%|██████████| 7/7 [00:15<00:00,  2.22s/it]\n",
      "Training (14083 / 18000 Steps) (loss=0.48103): 100%|██████████| 7/7 [00:15<00:00,  2.17s/it]\n",
      "Training (14090 / 18000 Steps) (loss=0.47358): 100%|██████████| 7/7 [00:15<00:00,  2.17s/it]\n",
      "Training (14097 / 18000 Steps) (loss=0.50383): 100%|██████████| 7/7 [00:14<00:00,  2.06s/it]\n",
      "Validate (14098 / 10 Steps): 100%|██████████| 2/2 [00:10<00:00,  5.00s/it]<00:15,  3.08s/it]\n",
      "Training (14100 / 18000 Steps) (loss=0.43628):  43%|████▎     | 3/7 [00:18<00:28,  7.05s/it]"
     ]
    },
    {
     "name": "stdout",
     "output_type": "stream",
     "text": [
      "Model Was Not Saved ! Current Best Avg. Dice: 0.3082180619239807 Current Avg. Dice: 0.269952654838562 Current Avg. tumor Dice: 0.3553459048271179 Current Avg. lymph Dice: 0.1845594048500061\n"
     ]
    },
    {
     "name": "stderr",
     "output_type": "stream",
     "text": [
      "Training (14104 / 18000 Steps) (loss=0.55430): 100%|██████████| 7/7 [00:25<00:00,  3.66s/it]\n",
      "Training (14111 / 18000 Steps) (loss=0.49674): 100%|██████████| 7/7 [00:15<00:00,  2.19s/it]\n",
      "Training (14118 / 18000 Steps) (loss=0.66828): 100%|██████████| 7/7 [00:15<00:00,  2.14s/it]\n",
      "Training (14125 / 18000 Steps) (loss=0.52907): 100%|██████████| 7/7 [00:15<00:00,  2.19s/it]\n",
      "Training (14132 / 18000 Steps) (loss=0.63033): 100%|██████████| 7/7 [00:15<00:00,  2.17s/it]\n",
      "Training (14139 / 18000 Steps) (loss=0.55356): 100%|██████████| 7/7 [00:15<00:00,  2.15s/it]\n",
      "Training (14146 / 18000 Steps) (loss=0.38407): 100%|██████████| 7/7 [00:14<00:00,  2.08s/it]\n",
      "Training (14153 / 18000 Steps) (loss=0.54051): 100%|██████████| 7/7 [00:15<00:00,  2.15s/it]\n",
      "Training (14160 / 18000 Steps) (loss=0.45513): 100%|██████████| 7/7 [00:15<00:00,  2.18s/it]\n",
      "Training (14167 / 18000 Steps) (loss=0.56677): 100%|██████████| 7/7 [00:15<00:00,  2.20s/it]\n",
      "Training (14174 / 18000 Steps) (loss=0.37480): 100%|██████████| 7/7 [00:13<00:00,  1.93s/it]\n",
      "Training (14181 / 18000 Steps) (loss=0.48394): 100%|██████████| 7/7 [00:13<00:00,  1.99s/it]\n",
      "Training (14188 / 18000 Steps) (loss=0.32110): 100%|██████████| 7/7 [00:13<00:00,  1.96s/it]\n",
      "Training (14195 / 18000 Steps) (loss=0.53768): 100%|██████████| 7/7 [00:13<00:00,  1.95s/it]\n",
      "Validate (14196 / 10 Steps): 100%|██████████| 2/2 [00:09<00:00,  4.66s/it]<00:05,  1.99s/it]\n",
      "Training (14200 / 18000 Steps) (loss=0.45808):  71%|███████▏  | 5/7 [00:20<00:10,  5.24s/it]"
     ]
    },
    {
     "name": "stdout",
     "output_type": "stream",
     "text": [
      "Model Was Not Saved ! Current Best Avg. Dice: 0.3082180619239807 Current Avg. Dice: 0.3024923801422119 Current Avg. tumor Dice: 0.3950161933898926 Current Avg. lymph Dice: 0.20996855199337006\n"
     ]
    },
    {
     "name": "stderr",
     "output_type": "stream",
     "text": [
      "Training (14202 / 18000 Steps) (loss=0.49267): 100%|██████████| 7/7 [00:22<00:00,  3.27s/it]\n",
      "Training (14209 / 18000 Steps) (loss=0.45886): 100%|██████████| 7/7 [00:13<00:00,  1.94s/it]\n",
      "Training (14216 / 18000 Steps) (loss=0.60804): 100%|██████████| 7/7 [00:13<00:00,  1.94s/it]\n",
      "Training (14223 / 18000 Steps) (loss=0.33247): 100%|██████████| 7/7 [00:13<00:00,  1.92s/it]\n",
      "Training (14230 / 18000 Steps) (loss=0.19612): 100%|██████████| 7/7 [00:13<00:00,  1.99s/it]\n",
      "Training (14237 / 18000 Steps) (loss=0.55668): 100%|██████████| 7/7 [00:13<00:00,  1.93s/it]\n",
      "Training (14244 / 18000 Steps) (loss=0.37682): 100%|██████████| 7/7 [00:13<00:00,  1.94s/it]\n",
      "Training (14251 / 18000 Steps) (loss=0.56737): 100%|██████████| 7/7 [00:13<00:00,  1.94s/it]\n",
      "Training (14258 / 18000 Steps) (loss=0.56532): 100%|██████████| 7/7 [00:13<00:00,  1.96s/it]\n",
      "Training (14265 / 18000 Steps) (loss=0.39823): 100%|██████████| 7/7 [00:13<00:00,  1.93s/it]\n",
      "Training (14272 / 18000 Steps) (loss=0.53755): 100%|██████████| 7/7 [00:13<00:00,  1.94s/it]\n",
      "Training (14279 / 18000 Steps) (loss=0.36180): 100%|██████████| 7/7 [00:13<00:00,  1.92s/it]\n",
      "Training (14286 / 18000 Steps) (loss=0.29868): 100%|██████████| 7/7 [00:13<00:00,  1.97s/it]\n",
      "Training (14293 / 18000 Steps) (loss=0.44899): 100%|██████████| 7/7 [00:13<00:00,  1.94s/it]\n",
      "Validate (14294 / 10 Steps): 100%|██████████| 2/2 [00:09<00:00,  4.68s/it]<00:01,  1.79s/it]\n",
      "Training (14300 / 18000 Steps) (loss=0.35235): 100%|██████████| 7/7 [00:22<00:00,  3.28s/it]\n"
     ]
    },
    {
     "name": "stdout",
     "output_type": "stream",
     "text": [
      "Model Was Not Saved ! Current Best Avg. Dice: 0.3082180619239807 Current Avg. Dice: 0.28776785731315613 Current Avg. tumor Dice: 0.36861297488212585 Current Avg. lymph Dice: 0.2069227546453476\n"
     ]
    },
    {
     "name": "stderr",
     "output_type": "stream",
     "text": [
      "Training (14307 / 18000 Steps) (loss=0.39148): 100%|██████████| 7/7 [00:13<00:00,  1.91s/it]\n",
      "Training (14314 / 18000 Steps) (loss=0.37941): 100%|██████████| 7/7 [00:13<00:00,  1.93s/it]\n",
      "Training (14321 / 18000 Steps) (loss=0.41685): 100%|██████████| 7/7 [00:13<00:00,  1.93s/it]\n",
      "Training (14328 / 18000 Steps) (loss=0.47693): 100%|██████████| 7/7 [00:13<00:00,  1.94s/it]\n",
      "Training (14335 / 18000 Steps) (loss=0.37573): 100%|██████████| 7/7 [00:13<00:00,  2.00s/it]\n",
      "Training (14342 / 18000 Steps) (loss=0.52597): 100%|██████████| 7/7 [00:13<00:00,  1.94s/it]\n",
      "Training (14349 / 18000 Steps) (loss=0.28585): 100%|██████████| 7/7 [00:13<00:00,  1.94s/it]\n",
      "Training (14356 / 18000 Steps) (loss=0.30126): 100%|██████████| 7/7 [00:13<00:00,  1.93s/it]\n",
      "Training (14363 / 18000 Steps) (loss=0.32490): 100%|██████████| 7/7 [00:13<00:00,  1.95s/it]\n",
      "Training (14370 / 18000 Steps) (loss=0.25909): 100%|██████████| 7/7 [00:13<00:00,  1.92s/it]\n",
      "Training (14377 / 18000 Steps) (loss=0.46630): 100%|██████████| 7/7 [00:13<00:00,  1.92s/it]\n",
      "Training (14384 / 18000 Steps) (loss=0.27531): 100%|██████████| 7/7 [00:13<00:00,  1.97s/it]\n",
      "Training (14391 / 18000 Steps) (loss=0.55295): 100%|██████████| 7/7 [00:13<00:00,  1.94s/it]\n",
      "Training (14398 / 18000 Steps) (loss=0.33079): 100%|██████████| 7/7 [00:13<00:00,  1.92s/it]\n",
      "Validate (14399 / 10 Steps): 100%|██████████| 2/2 [00:09<00:00,  4.65s/it]<00:25,  4.26s/it]\n",
      "Training (14400 / 18000 Steps) (loss=0.60535):  29%|██▊       | 2/7 [00:15<00:41,  8.22s/it]"
     ]
    },
    {
     "name": "stdout",
     "output_type": "stream",
     "text": [
      "Model Was Not Saved ! Current Best Avg. Dice: 0.3082180619239807 Current Avg. Dice: 0.26160597801208496 Current Avg. tumor Dice: 0.3078776001930237 Current Avg. lymph Dice: 0.21533438563346863\n"
     ]
    },
    {
     "name": "stderr",
     "output_type": "stream",
     "text": [
      "Training (14405 / 18000 Steps) (loss=0.57620): 100%|██████████| 7/7 [00:22<00:00,  3.27s/it]\n",
      "Training (14412 / 18000 Steps) (loss=0.32178): 100%|██████████| 7/7 [00:13<00:00,  1.93s/it]\n",
      "Training (14419 / 18000 Steps) (loss=0.62093): 100%|██████████| 7/7 [00:13<00:00,  1.93s/it]\n",
      "Training (14426 / 18000 Steps) (loss=0.42501): 100%|██████████| 7/7 [00:13<00:00,  1.94s/it]\n",
      "Training (14433 / 18000 Steps) (loss=0.62776): 100%|██████████| 7/7 [00:13<00:00,  1.96s/it]\n",
      "Training (14440 / 18000 Steps) (loss=0.51540): 100%|██████████| 7/7 [00:13<00:00,  1.93s/it]\n",
      "Training (14447 / 18000 Steps) (loss=0.22813): 100%|██████████| 7/7 [00:13<00:00,  1.93s/it]\n",
      "Training (14454 / 18000 Steps) (loss=0.44501): 100%|██████████| 7/7 [00:13<00:00,  1.92s/it]\n",
      "Training (14461 / 18000 Steps) (loss=0.55855): 100%|██████████| 7/7 [00:13<00:00,  1.94s/it]\n",
      "Training (14468 / 18000 Steps) (loss=0.44022): 100%|██████████| 7/7 [00:13<00:00,  1.93s/it]\n",
      "Training (14475 / 18000 Steps) (loss=0.26295): 100%|██████████| 7/7 [00:13<00:00,  1.93s/it]\n",
      "Training (14482 / 18000 Steps) (loss=0.49617): 100%|██████████| 7/7 [00:13<00:00,  1.93s/it]\n",
      "Training (14489 / 18000 Steps) (loss=0.47590): 100%|██████████| 7/7 [00:13<00:00,  1.95s/it]\n",
      "Training (14496 / 18000 Steps) (loss=0.43736): 100%|██████████| 7/7 [00:13<00:00,  1.93s/it]\n",
      "Validate (14497 / 10 Steps): 100%|██████████| 2/2 [00:09<00:00,  4.65s/it]<00:08,  2.23s/it]\n",
      "Training (14500 / 18000 Steps) (loss=0.33637):  57%|█████▋    | 4/7 [00:18<00:17,  5.69s/it]"
     ]
    },
    {
     "name": "stdout",
     "output_type": "stream",
     "text": [
      "Model Was Not Saved ! Current Best Avg. Dice: 0.3082180619239807 Current Avg. Dice: 0.2606877386569977 Current Avg. tumor Dice: 0.34420549869537354 Current Avg. lymph Dice: 0.17716996371746063\n"
     ]
    },
    {
     "name": "stderr",
     "output_type": "stream",
     "text": [
      "Training (14503 / 18000 Steps) (loss=0.39679): 100%|██████████| 7/7 [00:22<00:00,  3.27s/it]\n",
      "Training (14510 / 18000 Steps) (loss=0.48510): 100%|██████████| 7/7 [00:13<00:00,  1.94s/it]\n",
      "Training (14517 / 18000 Steps) (loss=0.41834): 100%|██████████| 7/7 [00:13<00:00,  1.94s/it]\n",
      "Training (14524 / 18000 Steps) (loss=0.42202): 100%|██████████| 7/7 [00:13<00:00,  1.93s/it]\n",
      "Training (14531 / 18000 Steps) (loss=0.56554): 100%|██████████| 7/7 [00:13<00:00,  1.94s/it]\n",
      "Training (14538 / 18000 Steps) (loss=0.41395): 100%|██████████| 7/7 [00:13<00:00,  1.91s/it]\n",
      "Training (14545 / 18000 Steps) (loss=0.66724): 100%|██████████| 7/7 [00:13<00:00,  1.93s/it]\n",
      "Training (14552 / 18000 Steps) (loss=0.33708): 100%|██████████| 7/7 [00:13<00:00,  1.92s/it]\n",
      "Training (14559 / 18000 Steps) (loss=0.45493): 100%|██████████| 7/7 [00:13<00:00,  1.91s/it]\n",
      "Training (14566 / 18000 Steps) (loss=0.24580): 100%|██████████| 7/7 [00:13<00:00,  1.94s/it]\n",
      "Training (14573 / 18000 Steps) (loss=0.32313): 100%|██████████| 7/7 [00:13<00:00,  1.94s/it]\n",
      "Training (14580 / 18000 Steps) (loss=0.46398): 100%|██████████| 7/7 [00:13<00:00,  1.97s/it]\n",
      "Training (14587 / 18000 Steps) (loss=0.45587): 100%|██████████| 7/7 [00:13<00:00,  1.93s/it]\n",
      "Training (14594 / 18000 Steps) (loss=0.31205): 100%|██████████| 7/7 [00:13<00:00,  1.94s/it]\n",
      "Validate (14595 / 10 Steps): 100%|██████████| 2/2 [00:09<00:00,  4.66s/it]<00:03,  1.86s/it]\n",
      "Training (14600 / 18000 Steps) (loss=0.36380):  86%|████████▌ | 6/7 [00:21<00:04,  4.97s/it]"
     ]
    },
    {
     "name": "stdout",
     "output_type": "stream",
     "text": [
      "Model Was Not Saved ! Current Best Avg. Dice: 0.3082180619239807 Current Avg. Dice: 0.2640756070613861 Current Avg. tumor Dice: 0.35020169615745544 Current Avg. lymph Dice: 0.17794951796531677\n"
     ]
    },
    {
     "name": "stderr",
     "output_type": "stream",
     "text": [
      "Training (14601 / 18000 Steps) (loss=0.33043): 100%|██████████| 7/7 [00:22<00:00,  3.28s/it]\n",
      "Training (14608 / 18000 Steps) (loss=0.53553): 100%|██████████| 7/7 [00:13<00:00,  1.92s/it]\n",
      "Training (14615 / 18000 Steps) (loss=0.49542): 100%|██████████| 7/7 [00:13<00:00,  1.92s/it]\n",
      "Training (14622 / 18000 Steps) (loss=0.53500): 100%|██████████| 7/7 [00:13<00:00,  1.93s/it]\n",
      "Training (14629 / 18000 Steps) (loss=0.54437): 100%|██████████| 7/7 [00:13<00:00,  1.96s/it]\n",
      "Training (14636 / 18000 Steps) (loss=0.54783): 100%|██████████| 7/7 [00:13<00:00,  1.96s/it]\n",
      "Training (14643 / 18000 Steps) (loss=0.54267): 100%|██████████| 7/7 [00:13<00:00,  1.93s/it]\n",
      "Training (14650 / 18000 Steps) (loss=0.21449): 100%|██████████| 7/7 [00:13<00:00,  1.90s/it]\n",
      "Training (14657 / 18000 Steps) (loss=0.37886): 100%|██████████| 7/7 [00:13<00:00,  1.94s/it]\n",
      "Training (14664 / 18000 Steps) (loss=0.35510): 100%|██████████| 7/7 [00:13<00:00,  1.95s/it]\n",
      "Training (14671 / 18000 Steps) (loss=0.27126): 100%|██████████| 7/7 [00:13<00:00,  1.95s/it]\n",
      "Training (14678 / 18000 Steps) (loss=0.50760): 100%|██████████| 7/7 [00:13<00:00,  1.92s/it]\n",
      "Training (14685 / 18000 Steps) (loss=0.29372): 100%|██████████| 7/7 [00:13<00:00,  1.92s/it]\n",
      "Training (14692 / 18000 Steps) (loss=0.53430): 100%|██████████| 7/7 [00:13<00:00,  1.94s/it]\n",
      "Training (14699 / 18000 Steps) (loss=0.20395): 100%|██████████| 7/7 [00:13<00:00,  1.92s/it]\n",
      "Validate (14700 / 10 Steps): 100%|██████████| 2/2 [00:09<00:00,  4.68s/it]<?, ?it/s]\n",
      "Training (14700 / 18000 Steps) (loss=0.49912):  14%|█▍        | 1/7 [00:13<01:21, 13.61s/it]"
     ]
    },
    {
     "name": "stdout",
     "output_type": "stream",
     "text": [
      "Model Was Not Saved ! Current Best Avg. Dice: 0.3082180619239807 Current Avg. Dice: 0.27075496315956116 Current Avg. tumor Dice: 0.34993603825569153 Current Avg. lymph Dice: 0.1915738880634308\n"
     ]
    },
    {
     "name": "stderr",
     "output_type": "stream",
     "text": [
      "Training (14706 / 18000 Steps) (loss=0.40814): 100%|██████████| 7/7 [00:22<00:00,  3.27s/it]\n",
      "Training (14713 / 18000 Steps) (loss=0.45803): 100%|██████████| 7/7 [00:13<00:00,  1.94s/it]\n",
      "Training (14720 / 18000 Steps) (loss=0.66877): 100%|██████████| 7/7 [00:13<00:00,  1.93s/it]\n",
      "Training (14727 / 18000 Steps) (loss=0.39065): 100%|██████████| 7/7 [00:13<00:00,  1.93s/it]\n",
      "Training (14734 / 18000 Steps) (loss=0.47472): 100%|██████████| 7/7 [00:13<00:00,  1.97s/it]\n",
      "Training (14741 / 18000 Steps) (loss=0.48418): 100%|██████████| 7/7 [00:13<00:00,  1.93s/it]\n",
      "Training (14748 / 18000 Steps) (loss=0.57825): 100%|██████████| 7/7 [00:13<00:00,  1.93s/it]\n",
      "Training (14755 / 18000 Steps) (loss=0.48795): 100%|██████████| 7/7 [00:13<00:00,  1.93s/it]\n",
      "Training (14762 / 18000 Steps) (loss=0.55255): 100%|██████████| 7/7 [00:19<00:00,  2.80s/it]\n",
      "Training (14769 / 18000 Steps) (loss=0.46583): 100%|██████████| 7/7 [00:18<00:00,  2.65s/it]\n",
      "Training (14776 / 18000 Steps) (loss=0.60382): 100%|██████████| 7/7 [00:13<00:00,  1.94s/it]\n",
      "Training (14783 / 18000 Steps) (loss=0.46414): 100%|██████████| 7/7 [00:13<00:00,  1.99s/it]\n",
      "Training (14790 / 18000 Steps) (loss=0.49667): 100%|██████████| 7/7 [00:13<00:00,  1.92s/it]\n",
      "Training (14797 / 18000 Steps) (loss=0.34176): 100%|██████████| 7/7 [00:13<00:00,  1.91s/it]\n",
      "Validate (14798 / 10 Steps): 100%|██████████| 2/2 [00:09<00:00,  4.65s/it]<00:13,  2.72s/it]\n",
      "Training (14800 / 18000 Steps) (loss=0.34912):  43%|████▎     | 3/7 [00:16<00:25,  6.49s/it]"
     ]
    },
    {
     "name": "stdout",
     "output_type": "stream",
     "text": [
      "Model Was Not Saved ! Current Best Avg. Dice: 0.3082180619239807 Current Avg. Dice: 0.24750077724456787 Current Avg. tumor Dice: 0.3258572518825531 Current Avg. lymph Dice: 0.16914430260658264\n"
     ]
    },
    {
     "name": "stderr",
     "output_type": "stream",
     "text": [
      "Training (14804 / 18000 Steps) (loss=0.52189): 100%|██████████| 7/7 [00:22<00:00,  3.26s/it]\n",
      "Training (14811 / 18000 Steps) (loss=0.60038): 100%|██████████| 7/7 [00:13<00:00,  1.93s/it]\n",
      "Training (14818 / 18000 Steps) (loss=0.49772): 100%|██████████| 7/7 [00:13<00:00,  1.92s/it]\n",
      "Training (14825 / 18000 Steps) (loss=0.38195): 100%|██████████| 7/7 [00:13<00:00,  1.93s/it]\n",
      "Training (14832 / 18000 Steps) (loss=0.55491): 100%|██████████| 7/7 [00:13<00:00,  1.93s/it]\n",
      "Training (14839 / 18000 Steps) (loss=0.44862): 100%|██████████| 7/7 [00:13<00:00,  1.96s/it]\n",
      "Training (14846 / 18000 Steps) (loss=0.45728): 100%|██████████| 7/7 [00:13<00:00,  1.92s/it]\n",
      "Training (14853 / 18000 Steps) (loss=0.56824): 100%|██████████| 7/7 [00:13<00:00,  1.92s/it]\n",
      "Training (14860 / 18000 Steps) (loss=0.43872): 100%|██████████| 7/7 [00:13<00:00,  1.94s/it]\n",
      "Training (14867 / 18000 Steps) (loss=0.26351): 100%|██████████| 7/7 [00:13<00:00,  1.93s/it]\n",
      "Training (14874 / 18000 Steps) (loss=0.28325): 100%|██████████| 7/7 [00:13<00:00,  1.92s/it]\n",
      "Training (14881 / 18000 Steps) (loss=0.38610): 100%|██████████| 7/7 [00:13<00:00,  1.92s/it]\n",
      "Training (14888 / 18000 Steps) (loss=0.24794): 100%|██████████| 7/7 [00:13<00:00,  1.97s/it]\n",
      "Training (14895 / 18000 Steps) (loss=0.41659): 100%|██████████| 7/7 [00:13<00:00,  1.94s/it]\n",
      "Validate (14896 / 10 Steps): 100%|██████████| 2/2 [00:09<00:00,  4.65s/it]<00:05,  1.99s/it]\n",
      "Training (14900 / 18000 Steps) (loss=0.38645):  71%|███████▏  | 5/7 [00:20<00:10,  5.24s/it]"
     ]
    },
    {
     "name": "stdout",
     "output_type": "stream",
     "text": [
      "Model Was Not Saved ! Current Best Avg. Dice: 0.3082180619239807 Current Avg. Dice: 0.2862442135810852 Current Avg. tumor Dice: 0.36519473791122437 Current Avg. lymph Dice: 0.20729368925094604\n"
     ]
    },
    {
     "name": "stderr",
     "output_type": "stream",
     "text": [
      "Training (14902 / 18000 Steps) (loss=0.36994): 100%|██████████| 7/7 [00:22<00:00,  3.26s/it]\n",
      "Training (14909 / 18000 Steps) (loss=0.55363): 100%|██████████| 7/7 [00:13<00:00,  1.91s/it]\n",
      "Training (14916 / 18000 Steps) (loss=0.56562): 100%|██████████| 7/7 [00:13<00:00,  1.94s/it]\n",
      "Training (14923 / 18000 Steps) (loss=0.37768): 100%|██████████| 7/7 [00:13<00:00,  1.96s/it]\n",
      "Training (14930 / 18000 Steps) (loss=0.31521): 100%|██████████| 7/7 [00:13<00:00,  1.93s/it]\n",
      "Training (14937 / 18000 Steps) (loss=0.53052): 100%|██████████| 7/7 [00:13<00:00,  1.95s/it]\n",
      "Training (14944 / 18000 Steps) (loss=0.37874): 100%|██████████| 7/7 [00:13<00:00,  1.93s/it]\n",
      "Training (14951 / 18000 Steps) (loss=0.20667): 100%|██████████| 7/7 [00:13<00:00,  1.93s/it]\n",
      "Training (14958 / 18000 Steps) (loss=0.35513): 100%|██████████| 7/7 [00:13<00:00,  1.92s/it]\n",
      "Training (14965 / 18000 Steps) (loss=0.31411): 100%|██████████| 7/7 [00:13<00:00,  1.94s/it]\n",
      "Training (14972 / 18000 Steps) (loss=0.35572): 100%|██████████| 7/7 [00:13<00:00,  1.94s/it]\n",
      "Training (14979 / 18000 Steps) (loss=0.42802): 100%|██████████| 7/7 [00:13<00:00,  1.96s/it]\n",
      "Training (14986 / 18000 Steps) (loss=0.34604): 100%|██████████| 7/7 [00:13<00:00,  1.94s/it]\n",
      "Training (14993 / 18000 Steps) (loss=0.45470): 100%|██████████| 7/7 [00:13<00:00,  1.92s/it]\n",
      "Validate (14994 / 10 Steps): 100%|██████████| 2/2 [00:09<00:00,  4.67s/it]<00:01,  1.79s/it]\n",
      "Training (15000 / 18000 Steps) (loss=0.40384): 100%|██████████| 7/7 [00:22<00:00,  3.28s/it]\n"
     ]
    },
    {
     "name": "stdout",
     "output_type": "stream",
     "text": [
      "Model Was Not Saved ! Current Best Avg. Dice: 0.3082180619239807 Current Avg. Dice: 0.27376848459243774 Current Avg. tumor Dice: 0.3541334271430969 Current Avg. lymph Dice: 0.1934034824371338\n"
     ]
    },
    {
     "name": "stderr",
     "output_type": "stream",
     "text": [
      "Training (15007 / 18000 Steps) (loss=0.37956): 100%|██████████| 7/7 [00:13<00:00,  1.94s/it]\n",
      "Training (15014 / 18000 Steps) (loss=0.39639): 100%|██████████| 7/7 [00:13<00:00,  1.94s/it]\n",
      "Training (15021 / 18000 Steps) (loss=0.42937): 100%|██████████| 7/7 [00:13<00:00,  1.94s/it]\n",
      "Training (15028 / 18000 Steps) (loss=0.45671): 100%|██████████| 7/7 [00:13<00:00,  1.94s/it]\n",
      "Training (15035 / 18000 Steps) (loss=0.44706): 100%|██████████| 7/7 [00:13<00:00,  2.00s/it]\n",
      "Training (15042 / 18000 Steps) (loss=0.29624): 100%|██████████| 7/7 [00:13<00:00,  1.93s/it]\n",
      "Training (15049 / 18000 Steps) (loss=0.47010): 100%|██████████| 7/7 [00:13<00:00,  1.94s/it]\n",
      "Training (15056 / 18000 Steps) (loss=0.43398): 100%|██████████| 7/7 [00:13<00:00,  1.96s/it]\n",
      "Training (15063 / 18000 Steps) (loss=0.34154): 100%|██████████| 7/7 [00:13<00:00,  1.95s/it]\n",
      "Training (15070 / 18000 Steps) (loss=0.60447): 100%|██████████| 7/7 [00:13<00:00,  1.99s/it]\n",
      "Training (15077 / 18000 Steps) (loss=0.42470): 100%|██████████| 7/7 [00:13<00:00,  1.97s/it]\n",
      "Training (15084 / 18000 Steps) (loss=0.34182): 100%|██████████| 7/7 [00:13<00:00,  1.93s/it]\n",
      "Training (15091 / 18000 Steps) (loss=0.20306): 100%|██████████| 7/7 [00:13<00:00,  1.93s/it]\n",
      "Training (15098 / 18000 Steps) (loss=0.29950): 100%|██████████| 7/7 [00:13<00:00,  1.94s/it]\n",
      "Validate (15099 / 10 Steps): 100%|██████████| 2/2 [00:09<00:00,  4.70s/it]<00:25,  4.25s/it]\n",
      "Training (15100 / 18000 Steps) (loss=0.41084):  29%|██▊       | 2/7 [00:15<00:41,  8.27s/it]"
     ]
    },
    {
     "name": "stdout",
     "output_type": "stream",
     "text": [
      "Model Was Not Saved ! Current Best Avg. Dice: 0.3082180619239807 Current Avg. Dice: 0.2757398188114166 Current Avg. tumor Dice: 0.3447549343109131 Current Avg. lymph Dice: 0.20672473311424255\n"
     ]
    },
    {
     "name": "stderr",
     "output_type": "stream",
     "text": [
      "Training (15105 / 18000 Steps) (loss=0.35596): 100%|██████████| 7/7 [00:23<00:00,  3.30s/it]\n",
      "Training (15112 / 18000 Steps) (loss=0.45024): 100%|██████████| 7/7 [00:13<00:00,  1.93s/it]\n",
      "Training (15119 / 18000 Steps) (loss=0.49393): 100%|██████████| 7/7 [00:13<00:00,  1.96s/it]\n",
      "Training (15126 / 18000 Steps) (loss=0.40332): 100%|██████████| 7/7 [00:13<00:00,  1.95s/it]\n",
      "Training (15133 / 18000 Steps) (loss=0.29605): 100%|██████████| 7/7 [00:13<00:00,  1.96s/it]\n",
      "Training (15140 / 18000 Steps) (loss=0.45121): 100%|██████████| 7/7 [00:13<00:00,  1.93s/it]\n",
      "Training (15147 / 18000 Steps) (loss=0.42421): 100%|██████████| 7/7 [00:13<00:00,  1.94s/it]\n",
      "Training (15154 / 18000 Steps) (loss=0.33560): 100%|██████████| 7/7 [00:13<00:00,  1.94s/it]\n",
      "Training (15161 / 18000 Steps) (loss=0.50064): 100%|██████████| 7/7 [00:13<00:00,  1.92s/it]\n",
      "Training (15168 / 18000 Steps) (loss=0.63799): 100%|██████████| 7/7 [00:13<00:00,  1.93s/it]\n",
      "Training (15175 / 18000 Steps) (loss=0.36005): 100%|██████████| 7/7 [00:13<00:00,  1.97s/it]\n",
      "Training (15182 / 18000 Steps) (loss=0.63908): 100%|██████████| 7/7 [00:13<00:00,  1.98s/it]\n",
      "Training (15189 / 18000 Steps) (loss=0.32247): 100%|██████████| 7/7 [00:13<00:00,  1.95s/it]\n",
      "Training (15196 / 18000 Steps) (loss=0.40073): 100%|██████████| 7/7 [00:13<00:00,  1.98s/it]\n",
      "Validate (15197 / 10 Steps): 100%|██████████| 2/2 [00:09<00:00,  4.68s/it]<00:08,  2.24s/it]\n",
      "Training (15200 / 18000 Steps) (loss=0.28058):  57%|█████▋    | 4/7 [00:18<00:17,  5.72s/it]"
     ]
    },
    {
     "name": "stdout",
     "output_type": "stream",
     "text": [
      "Model Was Not Saved ! Current Best Avg. Dice: 0.3082180619239807 Current Avg. Dice: 0.269854873418808 Current Avg. tumor Dice: 0.3495112955570221 Current Avg. lymph Dice: 0.19019842147827148\n"
     ]
    },
    {
     "name": "stderr",
     "output_type": "stream",
     "text": [
      "Training (15203 / 18000 Steps) (loss=0.24332): 100%|██████████| 7/7 [00:23<00:00,  3.29s/it]\n",
      "Training (15210 / 18000 Steps) (loss=0.31953): 100%|██████████| 7/7 [00:13<00:00,  1.95s/it]\n",
      "Training (15217 / 18000 Steps) (loss=0.34921): 100%|██████████| 7/7 [00:13<00:00,  1.93s/it]\n",
      "Training (15224 / 18000 Steps) (loss=0.56360): 100%|██████████| 7/7 [00:13<00:00,  1.93s/it]\n",
      "Training (15231 / 18000 Steps) (loss=0.43193): 100%|██████████| 7/7 [00:13<00:00,  1.97s/it]\n",
      "Training (15238 / 18000 Steps) (loss=0.41873): 100%|██████████| 7/7 [00:13<00:00,  1.95s/it]\n",
      "Training (15245 / 18000 Steps) (loss=0.51401): 100%|██████████| 7/7 [00:13<00:00,  1.92s/it]\n",
      "Training (15252 / 18000 Steps) (loss=0.36604): 100%|██████████| 7/7 [00:13<00:00,  1.96s/it]\n",
      "Training (15259 / 18000 Steps) (loss=0.18150): 100%|██████████| 7/7 [00:13<00:00,  1.93s/it]\n",
      "Training (15266 / 18000 Steps) (loss=0.39012): 100%|██████████| 7/7 [00:13<00:00,  1.95s/it]\n",
      "Training (15273 / 18000 Steps) (loss=0.40187): 100%|██████████| 7/7 [00:13<00:00,  1.96s/it]\n",
      "Training (15280 / 18000 Steps) (loss=0.59994): 100%|██████████| 7/7 [00:13<00:00,  1.94s/it]\n",
      "Training (15287 / 18000 Steps) (loss=0.26335): 100%|██████████| 7/7 [00:13<00:00,  1.97s/it]\n",
      "Training (15294 / 18000 Steps) (loss=0.52108): 100%|██████████| 7/7 [00:13<00:00,  1.95s/it]\n",
      "Validate (15295 / 10 Steps): 100%|██████████| 2/2 [00:09<00:00,  4.70s/it]<00:03,  1.88s/it]\n",
      "Training (15300 / 18000 Steps) (loss=0.32439):  86%|████████▌ | 6/7 [00:21<00:05,  5.01s/it]"
     ]
    },
    {
     "name": "stdout",
     "output_type": "stream",
     "text": [
      "Model Was Not Saved ! Current Best Avg. Dice: 0.3082180619239807 Current Avg. Dice: 0.2716591954231262 Current Avg. tumor Dice: 0.3565295934677124 Current Avg. lymph Dice: 0.18678876757621765\n"
     ]
    },
    {
     "name": "stderr",
     "output_type": "stream",
     "text": [
      "Training (15301 / 18000 Steps) (loss=0.33494): 100%|██████████| 7/7 [00:23<00:00,  3.30s/it]\n",
      "Training (15308 / 18000 Steps) (loss=0.52062): 100%|██████████| 7/7 [00:13<00:00,  1.94s/it]\n",
      "Training (15315 / 18000 Steps) (loss=0.47078): 100%|██████████| 7/7 [00:13<00:00,  1.95s/it]\n",
      "Training (15322 / 18000 Steps) (loss=0.40441): 100%|██████████| 7/7 [00:13<00:00,  1.93s/it]\n",
      "Training (15329 / 18000 Steps) (loss=0.35524): 100%|██████████| 7/7 [00:13<00:00,  1.92s/it]\n",
      "Training (15336 / 18000 Steps) (loss=0.53736): 100%|██████████| 7/7 [00:16<00:00,  2.39s/it]\n",
      "Training (15343 / 18000 Steps) (loss=0.32022): 100%|██████████| 7/7 [00:20<00:00,  2.97s/it]\n",
      "Training (15350 / 18000 Steps) (loss=0.42166): 100%|██████████| 7/7 [00:14<00:00,  2.08s/it]\n",
      "Training (15357 / 18000 Steps) (loss=0.49150): 100%|██████████| 7/7 [00:13<00:00,  1.93s/it]\n",
      "Training (15364 / 18000 Steps) (loss=0.44591): 100%|██████████| 7/7 [00:13<00:00,  1.93s/it]\n",
      "Training (15371 / 18000 Steps) (loss=0.33303): 100%|██████████| 7/7 [00:13<00:00,  1.92s/it]\n",
      "Training (15378 / 18000 Steps) (loss=0.41299): 100%|██████████| 7/7 [00:13<00:00,  1.93s/it]\n",
      "Training (15385 / 18000 Steps) (loss=0.19103): 100%|██████████| 7/7 [00:13<00:00,  1.96s/it]\n",
      "Training (15392 / 18000 Steps) (loss=0.55714): 100%|██████████| 7/7 [00:13<00:00,  1.92s/it]\n",
      "Training (15399 / 18000 Steps) (loss=0.32197): 100%|██████████| 7/7 [00:13<00:00,  1.94s/it]\n",
      "Validate (15400 / 10 Steps): 100%|██████████| 2/2 [00:09<00:00,  4.69s/it]<?, ?it/s]\n",
      "Training (15400 / 18000 Steps) (loss=0.41928):  14%|█▍        | 1/7 [00:13<01:22, 13.68s/it]"
     ]
    },
    {
     "name": "stdout",
     "output_type": "stream",
     "text": [
      "Model Was Not Saved ! Current Best Avg. Dice: 0.3082180619239807 Current Avg. Dice: 0.22879134118556976 Current Avg. tumor Dice: 0.29046064615249634 Current Avg. lymph Dice: 0.1671220064163208\n"
     ]
    },
    {
     "name": "stderr",
     "output_type": "stream",
     "text": [
      "Training (15406 / 18000 Steps) (loss=0.48090): 100%|██████████| 7/7 [00:22<00:00,  3.27s/it]\n",
      "Training (15413 / 18000 Steps) (loss=0.32239): 100%|██████████| 7/7 [00:13<00:00,  1.93s/it]\n",
      "Training (15420 / 18000 Steps) (loss=0.35380): 100%|██████████| 7/7 [00:13<00:00,  1.94s/it]\n",
      "Training (15427 / 18000 Steps) (loss=0.23615): 100%|██████████| 7/7 [00:13<00:00,  1.94s/it]\n",
      "Training (15434 / 18000 Steps) (loss=0.35353): 100%|██████████| 7/7 [00:13<00:00,  1.94s/it]\n",
      "Training (15441 / 18000 Steps) (loss=0.27444): 100%|██████████| 7/7 [00:13<00:00,  1.96s/it]\n",
      "Training (15448 / 18000 Steps) (loss=0.61961): 100%|██████████| 7/7 [00:13<00:00,  1.93s/it]\n",
      "Training (15455 / 18000 Steps) (loss=0.55720): 100%|██████████| 7/7 [00:13<00:00,  1.93s/it]\n",
      "Training (15462 / 18000 Steps) (loss=0.41190): 100%|██████████| 7/7 [00:13<00:00,  1.95s/it]\n",
      "Training (15469 / 18000 Steps) (loss=0.54010): 100%|██████████| 7/7 [00:13<00:00,  1.94s/it]\n",
      "Training (15476 / 18000 Steps) (loss=0.32062): 100%|██████████| 7/7 [00:13<00:00,  1.93s/it]\n",
      "Training (15483 / 18000 Steps) (loss=0.46202): 100%|██████████| 7/7 [00:13<00:00,  1.94s/it]\n",
      "Training (15490 / 18000 Steps) (loss=0.39672): 100%|██████████| 7/7 [00:13<00:00,  1.91s/it]\n",
      "Training (15497 / 18000 Steps) (loss=0.42149): 100%|██████████| 7/7 [00:13<00:00,  1.93s/it]\n",
      "Validate (15498 / 10 Steps): 100%|██████████| 2/2 [00:09<00:00,  4.75s/it]<00:13,  2.74s/it]\n",
      "Training (15500 / 18000 Steps) (loss=0.44158):  43%|████▎     | 3/7 [00:17<00:26,  6.60s/it]"
     ]
    },
    {
     "name": "stdout",
     "output_type": "stream",
     "text": [
      "Model Was Not Saved ! Current Best Avg. Dice: 0.3082180619239807 Current Avg. Dice: 0.2425977885723114 Current Avg. tumor Dice: 0.32278013229370117 Current Avg. lymph Dice: 0.16241545975208282\n"
     ]
    },
    {
     "name": "stderr",
     "output_type": "stream",
     "text": [
      "Training (15504 / 18000 Steps) (loss=0.29643): 100%|██████████| 7/7 [00:23<00:00,  3.31s/it]\n",
      "Training (15511 / 18000 Steps) (loss=0.39365): 100%|██████████| 7/7 [00:13<00:00,  1.93s/it]\n",
      "Training (15518 / 18000 Steps) (loss=0.54465): 100%|██████████| 7/7 [00:13<00:00,  1.95s/it]\n",
      "Training (15525 / 18000 Steps) (loss=0.27057): 100%|██████████| 7/7 [00:13<00:00,  1.93s/it]\n",
      "Training (15532 / 18000 Steps) (loss=0.37675): 100%|██████████| 7/7 [00:13<00:00,  1.94s/it]\n",
      "Training (15539 / 18000 Steps) (loss=0.40763): 100%|██████████| 7/7 [00:13<00:00,  1.97s/it]\n",
      "Training (15546 / 18000 Steps) (loss=0.45982): 100%|██████████| 7/7 [00:13<00:00,  1.94s/it]\n",
      "Training (15553 / 18000 Steps) (loss=0.45056): 100%|██████████| 7/7 [00:13<00:00,  1.91s/it]\n",
      "Training (15560 / 18000 Steps) (loss=0.47581): 100%|██████████| 7/7 [00:13<00:00,  1.92s/it]\n",
      "Training (15567 / 18000 Steps) (loss=0.48947): 100%|██████████| 7/7 [00:13<00:00,  1.94s/it]\n",
      "Training (15574 / 18000 Steps) (loss=0.19478): 100%|██████████| 7/7 [00:13<00:00,  1.93s/it]\n",
      "Training (15581 / 18000 Steps) (loss=0.35738): 100%|██████████| 7/7 [00:13<00:00,  1.95s/it]\n",
      "Training (15588 / 18000 Steps) (loss=0.40738): 100%|██████████| 7/7 [00:13<00:00,  1.94s/it]\n",
      "Training (15595 / 18000 Steps) (loss=0.35527): 100%|██████████| 7/7 [00:13<00:00,  1.92s/it]\n",
      "Validate (15596 / 10 Steps): 100%|██████████| 2/2 [00:09<00:00,  4.68s/it]<00:05,  1.97s/it]\n",
      "Training (15600 / 18000 Steps) (loss=0.37708):  71%|███████▏  | 5/7 [00:20<00:10,  5.24s/it]"
     ]
    },
    {
     "name": "stdout",
     "output_type": "stream",
     "text": [
      "Model Was Not Saved ! Current Best Avg. Dice: 0.3082180619239807 Current Avg. Dice: 0.26436322927474976 Current Avg. tumor Dice: 0.3466540575027466 Current Avg. lymph Dice: 0.18207237124443054\n"
     ]
    },
    {
     "name": "stderr",
     "output_type": "stream",
     "text": [
      "Training (15602 / 18000 Steps) (loss=0.55748): 100%|██████████| 7/7 [00:22<00:00,  3.25s/it]\n",
      "Training (15609 / 18000 Steps) (loss=0.67010): 100%|██████████| 7/7 [00:13<00:00,  1.93s/it]\n",
      "Training (15616 / 18000 Steps) (loss=0.27267): 100%|██████████| 7/7 [00:13<00:00,  1.93s/it]\n",
      "Training (15623 / 18000 Steps) (loss=0.47315): 100%|██████████| 7/7 [00:13<00:00,  1.95s/it]\n",
      "Training (15630 / 18000 Steps) (loss=0.55758): 100%|██████████| 7/7 [00:13<00:00,  1.93s/it]\n",
      "Training (15637 / 18000 Steps) (loss=0.31596): 100%|██████████| 7/7 [00:13<00:00,  1.97s/it]\n",
      "Training (15644 / 18000 Steps) (loss=0.54516): 100%|██████████| 7/7 [00:13<00:00,  1.96s/it]\n",
      "Training (15651 / 18000 Steps) (loss=0.40408): 100%|██████████| 7/7 [00:13<00:00,  1.93s/it]\n",
      "Training (15658 / 18000 Steps) (loss=0.49388): 100%|██████████| 7/7 [00:13<00:00,  1.92s/it]\n",
      "Training (15665 / 18000 Steps) (loss=0.54590): 100%|██████████| 7/7 [00:13<00:00,  1.93s/it]\n",
      "Training (15672 / 18000 Steps) (loss=0.39959): 100%|██████████| 7/7 [00:13<00:00,  1.94s/it]\n",
      "Training (15679 / 18000 Steps) (loss=0.47812): 100%|██████████| 7/7 [00:13<00:00,  1.94s/it]\n",
      "Training (15686 / 18000 Steps) (loss=0.60195): 100%|██████████| 7/7 [00:13<00:00,  1.96s/it]\n",
      "Training (15693 / 18000 Steps) (loss=0.33141): 100%|██████████| 7/7 [00:13<00:00,  1.94s/it]\n",
      "Validate (15694 / 10 Steps): 100%|██████████| 2/2 [00:09<00:00,  4.71s/it]<00:01,  1.79s/it]\n",
      "Training (15700 / 18000 Steps) (loss=0.31808): 100%|██████████| 7/7 [00:23<00:00,  3.29s/it]\n"
     ]
    },
    {
     "name": "stdout",
     "output_type": "stream",
     "text": [
      "Model Was Not Saved ! Current Best Avg. Dice: 0.3082180619239807 Current Avg. Dice: 0.25658097863197327 Current Avg. tumor Dice: 0.3348223865032196 Current Avg. lymph Dice: 0.17833958566188812\n"
     ]
    },
    {
     "name": "stderr",
     "output_type": "stream",
     "text": [
      "Training (15707 / 18000 Steps) (loss=0.41370): 100%|██████████| 7/7 [00:13<00:00,  1.95s/it]\n",
      "Training (15714 / 18000 Steps) (loss=0.31476): 100%|██████████| 7/7 [00:13<00:00,  1.95s/it]\n",
      "Training (15721 / 18000 Steps) (loss=0.34402): 100%|██████████| 7/7 [00:13<00:00,  1.92s/it]\n",
      "Training (15728 / 18000 Steps) (loss=0.53381): 100%|██████████| 7/7 [00:13<00:00,  1.93s/it]\n",
      "Training (15735 / 18000 Steps) (loss=0.32548): 100%|██████████| 7/7 [00:13<00:00,  1.95s/it]\n",
      "Training (15742 / 18000 Steps) (loss=0.43960): 100%|██████████| 7/7 [00:13<00:00,  1.92s/it]\n",
      "Training (15749 / 18000 Steps) (loss=0.66718): 100%|██████████| 7/7 [00:13<00:00,  1.92s/it]\n",
      "Training (15756 / 18000 Steps) (loss=0.57324): 100%|██████████| 7/7 [00:13<00:00,  1.91s/it]\n",
      "Training (15763 / 18000 Steps) (loss=0.47057): 100%|██████████| 7/7 [00:13<00:00,  1.93s/it]\n",
      "Training (15770 / 18000 Steps) (loss=0.42832): 100%|██████████| 7/7 [00:13<00:00,  1.94s/it]\n",
      "Training (15777 / 18000 Steps) (loss=0.48258): 100%|██████████| 7/7 [00:13<00:00,  1.92s/it]\n",
      "Training (15784 / 18000 Steps) (loss=0.47207): 100%|██████████| 7/7 [00:13<00:00,  1.96s/it]\n",
      "Training (15791 / 18000 Steps) (loss=0.37933): 100%|██████████| 7/7 [00:13<00:00,  1.94s/it]\n",
      "Training (15798 / 18000 Steps) (loss=0.36208): 100%|██████████| 7/7 [00:13<00:00,  1.96s/it]\n",
      "Validate (15799 / 10 Steps): 100%|██████████| 2/2 [00:09<00:00,  4.68s/it]<00:26,  4.36s/it]\n",
      "Training (15800 / 18000 Steps) (loss=0.33283):  29%|██▊       | 2/7 [00:15<00:41,  8.31s/it]"
     ]
    },
    {
     "name": "stdout",
     "output_type": "stream",
     "text": [
      "Model Was Not Saved ! Current Best Avg. Dice: 0.3082180619239807 Current Avg. Dice: 0.25939708948135376 Current Avg. tumor Dice: 0.34570735692977905 Current Avg. lymph Dice: 0.17308679223060608\n"
     ]
    },
    {
     "name": "stderr",
     "output_type": "stream",
     "text": [
      "Training (15805 / 18000 Steps) (loss=0.26536): 100%|██████████| 7/7 [00:23<00:00,  3.30s/it]\n",
      "Training (15812 / 18000 Steps) (loss=0.47589): 100%|██████████| 7/7 [00:13<00:00,  1.93s/it]\n",
      "Training (15819 / 18000 Steps) (loss=0.32136): 100%|██████████| 7/7 [00:13<00:00,  1.93s/it]\n",
      "Training (15826 / 18000 Steps) (loss=0.52910): 100%|██████████| 7/7 [00:13<00:00,  1.91s/it]\n",
      "Training (15833 / 18000 Steps) (loss=0.43789): 100%|██████████| 7/7 [00:13<00:00,  1.93s/it]\n",
      "Training (15840 / 18000 Steps) (loss=0.57412): 100%|██████████| 7/7 [00:13<00:00,  1.95s/it]\n",
      "Training (15847 / 18000 Steps) (loss=0.30890): 100%|██████████| 7/7 [00:13<00:00,  1.94s/it]\n",
      "Training (15854 / 18000 Steps) (loss=0.28452): 100%|██████████| 7/7 [00:13<00:00,  1.93s/it]\n",
      "Training (15861 / 18000 Steps) (loss=0.60147): 100%|██████████| 7/7 [00:13<00:00,  1.94s/it]\n",
      "Training (15868 / 18000 Steps) (loss=0.45214): 100%|██████████| 7/7 [00:13<00:00,  1.91s/it]\n",
      "Training (15875 / 18000 Steps) (loss=0.42266): 100%|██████████| 7/7 [00:13<00:00,  1.93s/it]\n",
      "Training (15882 / 18000 Steps) (loss=0.53779): 100%|██████████| 7/7 [00:13<00:00,  1.93s/it]\n",
      "Training (15889 / 18000 Steps) (loss=0.41249): 100%|██████████| 7/7 [00:13<00:00,  1.96s/it]\n",
      "Training (15896 / 18000 Steps) (loss=0.44658): 100%|██████████| 7/7 [00:13<00:00,  1.93s/it]\n",
      "Validate (15897 / 10 Steps): 100%|██████████| 2/2 [00:09<00:00,  4.65s/it]<00:08,  2.21s/it]\n",
      "Training (15900 / 18000 Steps) (loss=0.33826):  57%|█████▋    | 4/7 [00:18<00:17,  5.68s/it]"
     ]
    },
    {
     "name": "stdout",
     "output_type": "stream",
     "text": [
      "Model Was Not Saved ! Current Best Avg. Dice: 0.3082180619239807 Current Avg. Dice: 0.2805776000022888 Current Avg. tumor Dice: 0.3686370253562927 Current Avg. lymph Dice: 0.19251814484596252\n"
     ]
    },
    {
     "name": "stderr",
     "output_type": "stream",
     "text": [
      "Training (15903 / 18000 Steps) (loss=0.39041): 100%|██████████| 7/7 [00:22<00:00,  3.26s/it]\n",
      "Training (15910 / 18000 Steps) (loss=0.53951): 100%|██████████| 7/7 [00:13<00:00,  1.96s/it]\n",
      "Training (15917 / 18000 Steps) (loss=0.27669): 100%|██████████| 7/7 [00:13<00:00,  1.95s/it]\n",
      "Training (15924 / 18000 Steps) (loss=0.33930): 100%|██████████| 7/7 [00:13<00:00,  1.94s/it]\n",
      "Training (15931 / 18000 Steps) (loss=0.41505): 100%|██████████| 7/7 [00:13<00:00,  1.94s/it]\n",
      "Training (15938 / 18000 Steps) (loss=0.17735): 100%|██████████| 7/7 [00:13<00:00,  1.94s/it]\n",
      "Training (15945 / 18000 Steps) (loss=0.36022): 100%|██████████| 7/7 [00:13<00:00,  1.93s/it]\n",
      "Training (15952 / 18000 Steps) (loss=0.18227): 100%|██████████| 7/7 [00:13<00:00,  1.95s/it]\n",
      "Training (15959 / 18000 Steps) (loss=0.53378): 100%|██████████| 7/7 [00:18<00:00,  2.63s/it]\n",
      "Training (15966 / 18000 Steps) (loss=0.31574): 100%|██████████| 7/7 [00:20<00:00,  2.86s/it]\n",
      "Training (15973 / 18000 Steps) (loss=0.51589): 100%|██████████| 7/7 [00:13<00:00,  1.98s/it]\n",
      "Training (15980 / 18000 Steps) (loss=0.41000): 100%|██████████| 7/7 [00:13<00:00,  1.93s/it]\n",
      "Training (15987 / 18000 Steps) (loss=0.32023): 100%|██████████| 7/7 [00:13<00:00,  1.97s/it]\n",
      "Training (15994 / 18000 Steps) (loss=0.27247): 100%|██████████| 7/7 [00:13<00:00,  1.94s/it]\n",
      "Validate (15995 / 10 Steps): 100%|██████████| 2/2 [00:09<00:00,  4.71s/it]<00:03,  1.89s/it]\n",
      "Training (16000 / 18000 Steps) (loss=0.35784):  86%|████████▌ | 6/7 [00:21<00:05,  5.02s/it]"
     ]
    },
    {
     "name": "stdout",
     "output_type": "stream",
     "text": [
      "Model Was Not Saved ! Current Best Avg. Dice: 0.3082180619239807 Current Avg. Dice: 0.2709622383117676 Current Avg. tumor Dice: 0.36723703145980835 Current Avg. lymph Dice: 0.1746874749660492\n"
     ]
    },
    {
     "name": "stderr",
     "output_type": "stream",
     "text": [
      "Training (16001 / 18000 Steps) (loss=0.32456): 100%|██████████| 7/7 [00:22<00:00,  3.28s/it]\n",
      "Training (16008 / 18000 Steps) (loss=0.53036): 100%|██████████| 7/7 [00:13<00:00,  1.92s/it]\n",
      "Training (16015 / 18000 Steps) (loss=0.46718): 100%|██████████| 7/7 [00:13<00:00,  1.92s/it]\n",
      "Training (16022 / 18000 Steps) (loss=0.51986): 100%|██████████| 7/7 [00:13<00:00,  1.93s/it]\n",
      "Training (16029 / 18000 Steps) (loss=0.41583): 100%|██████████| 7/7 [00:13<00:00,  1.92s/it]\n",
      "Training (16036 / 18000 Steps) (loss=0.54891): 100%|██████████| 7/7 [00:13<00:00,  1.93s/it]\n",
      "Training (16043 / 18000 Steps) (loss=0.57469): 100%|██████████| 7/7 [00:13<00:00,  1.97s/it]\n",
      "Training (16050 / 18000 Steps) (loss=0.35398): 100%|██████████| 7/7 [00:13<00:00,  1.92s/it]\n",
      "Training (16057 / 18000 Steps) (loss=0.30585): 100%|██████████| 7/7 [00:13<00:00,  1.93s/it]\n",
      "Training (16064 / 18000 Steps) (loss=0.53923): 100%|██████████| 7/7 [00:13<00:00,  1.94s/it]\n",
      "Training (16071 / 18000 Steps) (loss=0.30929): 100%|██████████| 7/7 [00:13<00:00,  1.92s/it]\n",
      "Training (16078 / 18000 Steps) (loss=0.42123): 100%|██████████| 7/7 [00:13<00:00,  1.93s/it]\n",
      "Training (16085 / 18000 Steps) (loss=0.42574): 100%|██████████| 7/7 [00:13<00:00,  1.94s/it]\n",
      "Training (16092 / 18000 Steps) (loss=0.48514): 100%|██████████| 7/7 [00:13<00:00,  1.95s/it]\n",
      "Training (16099 / 18000 Steps) (loss=0.53604): 100%|██████████| 7/7 [00:13<00:00,  1.96s/it]\n",
      "Validate (16100 / 10 Steps): 100%|██████████| 2/2 [00:09<00:00,  4.67s/it]<?, ?it/s]\n",
      "Training (16100 / 18000 Steps) (loss=0.32408):  14%|█▍        | 1/7 [00:13<01:22, 13.79s/it]"
     ]
    },
    {
     "name": "stdout",
     "output_type": "stream",
     "text": [
      "Model Was Not Saved ! Current Best Avg. Dice: 0.3082180619239807 Current Avg. Dice: 0.28245455026626587 Current Avg. tumor Dice: 0.3736553490161896 Current Avg. lymph Dice: 0.19125378131866455\n"
     ]
    },
    {
     "name": "stderr",
     "output_type": "stream",
     "text": [
      "Training (16106 / 18000 Steps) (loss=0.53720): 100%|██████████| 7/7 [00:23<00:00,  3.29s/it]\n",
      "Training (16113 / 18000 Steps) (loss=0.59995): 100%|██████████| 7/7 [00:13<00:00,  1.92s/it]\n",
      "Training (16120 / 18000 Steps) (loss=0.47258): 100%|██████████| 7/7 [00:13<00:00,  1.94s/it]\n",
      "Training (16127 / 18000 Steps) (loss=0.41733): 100%|██████████| 7/7 [00:13<00:00,  1.94s/it]\n",
      "Training (16134 / 18000 Steps) (loss=0.47005): 100%|██████████| 7/7 [00:13<00:00,  1.93s/it]\n",
      "Training (16141 / 18000 Steps) (loss=0.41887): 100%|██████████| 7/7 [00:13<00:00,  1.91s/it]\n",
      "Training (16148 / 18000 Steps) (loss=0.33038): 100%|██████████| 7/7 [00:13<00:00,  1.95s/it]\n",
      "Training (16155 / 18000 Steps) (loss=0.35087): 100%|██████████| 7/7 [00:13<00:00,  1.91s/it]\n",
      "Training (16162 / 18000 Steps) (loss=0.44539): 100%|██████████| 7/7 [00:13<00:00,  1.92s/it]\n",
      "Training (16169 / 18000 Steps) (loss=0.32213): 100%|██████████| 7/7 [00:13<00:00,  1.94s/it]\n",
      "Training (16176 / 18000 Steps) (loss=0.59628): 100%|██████████| 7/7 [00:13<00:00,  1.93s/it]\n",
      "Training (16183 / 18000 Steps) (loss=0.34383): 100%|██████████| 7/7 [00:13<00:00,  1.94s/it]\n",
      "Training (16190 / 18000 Steps) (loss=0.34926): 100%|██████████| 7/7 [00:13<00:00,  1.95s/it]\n",
      "Training (16197 / 18000 Steps) (loss=0.37874): 100%|██████████| 7/7 [00:13<00:00,  1.97s/it]\n",
      "Validate (16198 / 10 Steps): 100%|██████████| 2/2 [00:09<00:00,  4.65s/it]<00:14,  2.81s/it]\n",
      "Training (16200 / 18000 Steps) (loss=0.40150):  43%|████▎     | 3/7 [00:17<00:27,  6.95s/it]"
     ]
    },
    {
     "name": "stdout",
     "output_type": "stream",
     "text": [
      "Model Was Saved ! Current Best Avg. Dice: 0.31414610147476196 Current Avg. Dice: 0.31414610147476196 Current Avg. tumor Dice: 0.3900894820690155 Current Avg. lymph Dice: 0.23820269107818604\n"
     ]
    },
    {
     "name": "stderr",
     "output_type": "stream",
     "text": [
      "Training (16204 / 18000 Steps) (loss=0.43891): 100%|██████████| 7/7 [00:23<00:00,  3.42s/it]\n",
      "Training (16211 / 18000 Steps) (loss=0.47552): 100%|██████████| 7/7 [00:13<00:00,  1.96s/it]\n",
      "Training (16218 / 18000 Steps) (loss=0.51696): 100%|██████████| 7/7 [00:13<00:00,  1.91s/it]\n",
      "Training (16225 / 18000 Steps) (loss=0.38933): 100%|██████████| 7/7 [00:13<00:00,  1.92s/it]\n",
      "Training (16232 / 18000 Steps) (loss=0.29422): 100%|██████████| 7/7 [00:13<00:00,  1.92s/it]\n",
      "Training (16239 / 18000 Steps) (loss=0.40106): 100%|██████████| 7/7 [00:13<00:00,  1.92s/it]\n",
      "Training (16246 / 18000 Steps) (loss=0.17406): 100%|██████████| 7/7 [00:13<00:00,  1.94s/it]\n",
      "Training (16253 / 18000 Steps) (loss=0.51884): 100%|██████████| 7/7 [00:13<00:00,  1.95s/it]\n",
      "Training (16260 / 18000 Steps) (loss=0.44302): 100%|██████████| 7/7 [00:13<00:00,  1.93s/it]\n",
      "Training (16267 / 18000 Steps) (loss=0.50506): 100%|██████████| 7/7 [00:13<00:00,  1.93s/it]\n",
      "Training (16274 / 18000 Steps) (loss=0.30572): 100%|██████████| 7/7 [00:13<00:00,  1.93s/it]\n",
      "Training (16281 / 18000 Steps) (loss=0.47786): 100%|██████████| 7/7 [00:13<00:00,  1.92s/it]\n",
      "Training (16288 / 18000 Steps) (loss=0.47554): 100%|██████████| 7/7 [00:13<00:00,  1.90s/it]\n",
      "Training (16295 / 18000 Steps) (loss=0.53314): 100%|██████████| 7/7 [00:13<00:00,  1.92s/it]\n",
      "Validate (16296 / 10 Steps): 100%|██████████| 2/2 [00:09<00:00,  4.65s/it]<00:05,  1.98s/it]\n",
      "Training (16300 / 18000 Steps) (loss=0.31317):  71%|███████▏  | 5/7 [00:20<00:10,  5.22s/it]"
     ]
    },
    {
     "name": "stdout",
     "output_type": "stream",
     "text": [
      "Model Was Not Saved ! Current Best Avg. Dice: 0.31414610147476196 Current Avg. Dice: 0.27361366152763367 Current Avg. tumor Dice: 0.3529755175113678 Current Avg. lymph Dice: 0.19425176084041595\n"
     ]
    },
    {
     "name": "stderr",
     "output_type": "stream",
     "text": [
      "Training (16302 / 18000 Steps) (loss=0.41038): 100%|██████████| 7/7 [00:22<00:00,  3.28s/it]\n",
      "Training (16309 / 18000 Steps) (loss=0.23114): 100%|██████████| 7/7 [00:13<00:00,  1.93s/it]\n",
      "Training (16316 / 18000 Steps) (loss=0.37948): 100%|██████████| 7/7 [00:13<00:00,  1.94s/it]\n",
      "Training (16323 / 18000 Steps) (loss=0.54826): 100%|██████████| 7/7 [00:13<00:00,  1.94s/it]\n",
      "Training (16330 / 18000 Steps) (loss=0.45770): 100%|██████████| 7/7 [00:13<00:00,  1.92s/it]\n",
      "Training (16337 / 18000 Steps) (loss=0.33566): 100%|██████████| 7/7 [00:13<00:00,  1.93s/it]\n",
      "Training (16344 / 18000 Steps) (loss=0.56392): 100%|██████████| 7/7 [00:13<00:00,  1.95s/it]\n",
      "Training (16351 / 18000 Steps) (loss=0.55105): 100%|██████████| 7/7 [00:13<00:00,  1.92s/it]\n",
      "Training (16358 / 18000 Steps) (loss=0.53274): 100%|██████████| 7/7 [00:13<00:00,  1.98s/it]\n",
      "Training (16365 / 18000 Steps) (loss=0.56722): 100%|██████████| 7/7 [00:13<00:00,  1.93s/it]\n",
      "Training (16372 / 18000 Steps) (loss=0.42048): 100%|██████████| 7/7 [00:13<00:00,  1.93s/it]\n",
      "Training (16379 / 18000 Steps) (loss=0.54251): 100%|██████████| 7/7 [00:13<00:00,  1.94s/it]\n",
      "Training (16386 / 18000 Steps) (loss=0.55722): 100%|██████████| 7/7 [00:13<00:00,  1.92s/it]\n",
      "Training (16393 / 18000 Steps) (loss=0.47815): 100%|██████████| 7/7 [00:13<00:00,  1.93s/it]\n",
      "Validate (16394 / 10 Steps): 100%|██████████| 2/2 [00:09<00:00,  4.63s/it]<00:01,  1.82s/it]\n",
      "Training (16400 / 18000 Steps) (loss=0.42180): 100%|██████████| 7/7 [00:22<00:00,  3.29s/it]\n"
     ]
    },
    {
     "name": "stdout",
     "output_type": "stream",
     "text": [
      "Model Was Not Saved ! Current Best Avg. Dice: 0.31414610147476196 Current Avg. Dice: 0.26208728551864624 Current Avg. tumor Dice: 0.3467734456062317 Current Avg. lymph Dice: 0.17740114033222198\n"
     ]
    },
    {
     "name": "stderr",
     "output_type": "stream",
     "text": [
      "Training (16407 / 18000 Steps) (loss=0.32939): 100%|██████████| 7/7 [00:13<00:00,  1.93s/it]\n",
      "Training (16414 / 18000 Steps) (loss=0.36500): 100%|██████████| 7/7 [00:13<00:00,  1.92s/it]\n",
      "Training (16421 / 18000 Steps) (loss=0.35043): 100%|██████████| 7/7 [00:13<00:00,  1.94s/it]\n",
      "Training (16428 / 18000 Steps) (loss=0.33701): 100%|██████████| 7/7 [00:13<00:00,  1.93s/it]\n",
      "Training (16435 / 18000 Steps) (loss=0.44614): 100%|██████████| 7/7 [00:13<00:00,  1.92s/it]\n",
      "Training (16442 / 18000 Steps) (loss=0.29609): 100%|██████████| 7/7 [00:13<00:00,  1.93s/it]\n",
      "Training (16449 / 18000 Steps) (loss=0.63304): 100%|██████████| 7/7 [00:13<00:00,  1.94s/it]\n",
      "Training (16456 / 18000 Steps) (loss=0.45012): 100%|██████████| 7/7 [00:13<00:00,  1.94s/it]\n",
      "Training (16463 / 18000 Steps) (loss=0.68969): 100%|██████████| 7/7 [00:13<00:00,  1.92s/it]\n",
      "Training (16470 / 18000 Steps) (loss=0.43098): 100%|██████████| 7/7 [00:13<00:00,  1.96s/it]\n",
      "Training (16477 / 18000 Steps) (loss=0.57110): 100%|██████████| 7/7 [00:13<00:00,  1.92s/it]\n",
      "Training (16484 / 18000 Steps) (loss=0.60963): 100%|██████████| 7/7 [00:13<00:00,  1.91s/it]\n",
      "Training (16491 / 18000 Steps) (loss=0.46554): 100%|██████████| 7/7 [00:13<00:00,  1.95s/it]\n",
      "Training (16498 / 18000 Steps) (loss=0.43816): 100%|██████████| 7/7 [00:13<00:00,  1.92s/it]\n",
      "Validate (16499 / 10 Steps): 100%|██████████| 2/2 [00:09<00:00,  4.67s/it]<00:25,  4.27s/it]\n",
      "Training (16500 / 18000 Steps) (loss=0.40297):  29%|██▊       | 2/7 [00:15<00:41,  8.25s/it]"
     ]
    },
    {
     "name": "stdout",
     "output_type": "stream",
     "text": [
      "Model Was Not Saved ! Current Best Avg. Dice: 0.31414610147476196 Current Avg. Dice: 0.25859034061431885 Current Avg. tumor Dice: 0.30037981271743774 Current Avg. lymph Dice: 0.21680092811584473\n"
     ]
    },
    {
     "name": "stderr",
     "output_type": "stream",
     "text": [
      "Training (16505 / 18000 Steps) (loss=0.61491): 100%|██████████| 7/7 [00:23<00:00,  3.30s/it]\n",
      "Training (16512 / 18000 Steps) (loss=0.30542): 100%|██████████| 7/7 [00:13<00:00,  1.93s/it]\n",
      "Training (16519 / 18000 Steps) (loss=0.35751): 100%|██████████| 7/7 [00:13<00:00,  1.93s/it]\n",
      "Training (16526 / 18000 Steps) (loss=0.43028): 100%|██████████| 7/7 [00:13<00:00,  1.93s/it]\n",
      "Training (16533 / 18000 Steps) (loss=0.32001): 100%|██████████| 7/7 [00:13<00:00,  1.93s/it]\n",
      "Training (16540 / 18000 Steps) (loss=0.42836): 100%|██████████| 7/7 [00:13<00:00,  1.91s/it]\n",
      "Training (16547 / 18000 Steps) (loss=0.54725): 100%|██████████| 7/7 [00:13<00:00,  1.93s/it]\n",
      "Training (16554 / 18000 Steps) (loss=0.47440): 100%|██████████| 7/7 [00:13<00:00,  1.92s/it]\n",
      "Training (16561 / 18000 Steps) (loss=0.37069): 100%|██████████| 7/7 [00:13<00:00,  1.97s/it]\n",
      "Training (16568 / 18000 Steps) (loss=0.33491): 100%|██████████| 7/7 [00:13<00:00,  1.92s/it]\n",
      "Training (16575 / 18000 Steps) (loss=0.45057): 100%|██████████| 7/7 [00:13<00:00,  1.96s/it]\n",
      "Training (16582 / 18000 Steps) (loss=0.43078): 100%|██████████| 7/7 [00:13<00:00,  1.94s/it]\n",
      "Training (16589 / 18000 Steps) (loss=0.29586): 100%|██████████| 7/7 [00:13<00:00,  1.93s/it]\n",
      "Training (16596 / 18000 Steps) (loss=0.39954): 100%|██████████| 7/7 [00:13<00:00,  1.96s/it]\n",
      "Validate (16597 / 10 Steps): 100%|██████████| 2/2 [00:09<00:00,  4.67s/it]<00:08,  2.19s/it]\n",
      "Training (16600 / 18000 Steps) (loss=0.56514):  57%|█████▋    | 4/7 [00:18<00:17,  5.67s/it]"
     ]
    },
    {
     "name": "stdout",
     "output_type": "stream",
     "text": [
      "Model Was Not Saved ! Current Best Avg. Dice: 0.31414610147476196 Current Avg. Dice: 0.26555031538009644 Current Avg. tumor Dice: 0.3510488271713257 Current Avg. lymph Dice: 0.1800518035888672\n"
     ]
    },
    {
     "name": "stderr",
     "output_type": "stream",
     "text": [
      "Training (16603 / 18000 Steps) (loss=0.42455): 100%|██████████| 7/7 [00:22<00:00,  3.25s/it]\n",
      "Training (16610 / 18000 Steps) (loss=0.39739): 100%|██████████| 7/7 [00:13<00:00,  1.96s/it]\n",
      "Training (16617 / 18000 Steps) (loss=0.53303): 100%|██████████| 7/7 [00:13<00:00,  1.91s/it]\n",
      "Training (16624 / 18000 Steps) (loss=0.14954): 100%|██████████| 7/7 [00:13<00:00,  1.93s/it]\n",
      "Training (16631 / 18000 Steps) (loss=0.27308): 100%|██████████| 7/7 [00:13<00:00,  1.94s/it]\n",
      "Training (16638 / 18000 Steps) (loss=0.49894): 100%|██████████| 7/7 [00:13<00:00,  1.93s/it]\n",
      "Training (16645 / 18000 Steps) (loss=0.44253): 100%|██████████| 7/7 [00:13<00:00,  1.94s/it]\n",
      "Training (16652 / 18000 Steps) (loss=0.37026): 100%|██████████| 7/7 [00:13<00:00,  1.94s/it]\n",
      "Training (16659 / 18000 Steps) (loss=0.21144): 100%|██████████| 7/7 [00:13<00:00,  1.96s/it]\n",
      "Training (16666 / 18000 Steps) (loss=0.36263): 100%|██████████| 7/7 [00:13<00:00,  1.92s/it]\n",
      "Training (16673 / 18000 Steps) (loss=0.54151): 100%|██████████| 7/7 [00:13<00:00,  1.93s/it]\n",
      "Training (16680 / 18000 Steps) (loss=0.49258): 100%|██████████| 7/7 [00:13<00:00,  1.93s/it]\n",
      "Training (16687 / 18000 Steps) (loss=0.54985): 100%|██████████| 7/7 [00:13<00:00,  1.91s/it]\n",
      "Training (16694 / 18000 Steps) (loss=0.30317): 100%|██████████| 7/7 [00:13<00:00,  1.94s/it]\n",
      "Validate (16695 / 10 Steps): 100%|██████████| 2/2 [00:09<00:00,  4.66s/it]<00:03,  1.86s/it]\n",
      "Training (16700 / 18000 Steps) (loss=0.54774):  86%|████████▌ | 6/7 [00:21<00:04,  4.97s/it]"
     ]
    },
    {
     "name": "stdout",
     "output_type": "stream",
     "text": [
      "Model Was Not Saved ! Current Best Avg. Dice: 0.31414610147476196 Current Avg. Dice: 0.26356130838394165 Current Avg. tumor Dice: 0.3736482858657837 Current Avg. lymph Dice: 0.15347431600093842\n"
     ]
    },
    {
     "name": "stderr",
     "output_type": "stream",
     "text": [
      "Training (16701 / 18000 Steps) (loss=0.44594): 100%|██████████| 7/7 [00:22<00:00,  3.27s/it]\n",
      "Training (16708 / 18000 Steps) (loss=0.41140): 100%|██████████| 7/7 [00:13<00:00,  1.92s/it]\n",
      "Training (16715 / 18000 Steps) (loss=0.22633): 100%|██████████| 7/7 [00:13<00:00,  1.95s/it]\n",
      "Training (16722 / 18000 Steps) (loss=0.42037): 100%|██████████| 7/7 [00:13<00:00,  1.92s/it]\n",
      "Training (16729 / 18000 Steps) (loss=0.28912): 100%|██████████| 7/7 [00:13<00:00,  1.94s/it]\n",
      "Training (16736 / 18000 Steps) (loss=0.48723): 100%|██████████| 7/7 [00:13<00:00,  1.94s/it]\n",
      "Training (16743 / 18000 Steps) (loss=0.58195): 100%|██████████| 7/7 [00:13<00:00,  1.91s/it]\n",
      "Training (16750 / 18000 Steps) (loss=0.53964): 100%|██████████| 7/7 [00:13<00:00,  1.96s/it]\n",
      "Training (16757 / 18000 Steps) (loss=0.39733): 100%|██████████| 7/7 [00:13<00:00,  1.90s/it]\n",
      "Training (16764 / 18000 Steps) (loss=0.51310): 100%|██████████| 7/7 [00:13<00:00,  1.91s/it]\n",
      "Training (16771 / 18000 Steps) (loss=0.32296): 100%|██████████| 7/7 [00:13<00:00,  1.96s/it]\n",
      "Training (16778 / 18000 Steps) (loss=0.37979): 100%|██████████| 7/7 [00:13<00:00,  1.93s/it]\n",
      "Training (16785 / 18000 Steps) (loss=0.20634): 100%|██████████| 7/7 [00:13<00:00,  1.95s/it]\n",
      "Training (16792 / 18000 Steps) (loss=0.29235): 100%|██████████| 7/7 [00:13<00:00,  1.92s/it]\n",
      "Training (16799 / 18000 Steps) (loss=0.37502): 100%|██████████| 7/7 [00:13<00:00,  1.93s/it]\n",
      "Validate (16800 / 10 Steps): 100%|██████████| 2/2 [00:09<00:00,  4.68s/it]<?, ?it/s]\n",
      "Training (16800 / 18000 Steps) (loss=0.40325):  14%|█▍        | 1/7 [00:13<01:21, 13.51s/it]"
     ]
    },
    {
     "name": "stdout",
     "output_type": "stream",
     "text": [
      "Model Was Not Saved ! Current Best Avg. Dice: 0.31414610147476196 Current Avg. Dice: 0.2726437449455261 Current Avg. tumor Dice: 0.3658779263496399 Current Avg. lymph Dice: 0.17940956354141235\n"
     ]
    },
    {
     "name": "stderr",
     "output_type": "stream",
     "text": [
      "Training (16806 / 18000 Steps) (loss=0.54452): 100%|██████████| 7/7 [00:22<00:00,  3.24s/it]\n",
      "Training (16813 / 18000 Steps) (loss=0.37170): 100%|██████████| 7/7 [00:13<00:00,  1.94s/it]\n",
      "Training (16820 / 18000 Steps) (loss=0.44303): 100%|██████████| 7/7 [00:13<00:00,  1.95s/it]\n",
      "Training (16827 / 18000 Steps) (loss=0.36918): 100%|██████████| 7/7 [00:13<00:00,  1.93s/it]\n",
      "Training (16834 / 18000 Steps) (loss=0.38235): 100%|██████████| 7/7 [00:13<00:00,  1.95s/it]\n",
      "Training (16841 / 18000 Steps) (loss=0.55112): 100%|██████████| 7/7 [00:13<00:00,  1.92s/it]\n",
      "Training (16848 / 18000 Steps) (loss=0.53795): 100%|██████████| 7/7 [00:13<00:00,  1.94s/it]\n",
      "Training (16855 / 18000 Steps) (loss=0.54028): 100%|██████████| 7/7 [00:13<00:00,  1.92s/it]\n",
      "Training (16862 / 18000 Steps) (loss=0.33377): 100%|██████████| 7/7 [00:13<00:00,  1.92s/it]\n",
      "Training (16869 / 18000 Steps) (loss=0.24523): 100%|██████████| 7/7 [00:13<00:00,  1.97s/it]\n",
      "Training (16876 / 18000 Steps) (loss=0.42548): 100%|██████████| 7/7 [00:13<00:00,  1.94s/it]\n",
      "Training (16883 / 18000 Steps) (loss=0.39705): 100%|██████████| 7/7 [00:13<00:00,  1.93s/it]\n",
      "Training (16890 / 18000 Steps) (loss=0.32697): 100%|██████████| 7/7 [00:13<00:00,  1.93s/it]\n",
      "Training (16897 / 18000 Steps) (loss=0.31052): 100%|██████████| 7/7 [00:13<00:00,  1.94s/it]\n",
      "Validate (16898 / 10 Steps): 100%|██████████| 2/2 [00:09<00:00,  4.67s/it]<00:13,  2.73s/it]\n",
      "Training (16900 / 18000 Steps) (loss=0.37379):  43%|████▎     | 3/7 [00:16<00:26,  6.52s/it]"
     ]
    },
    {
     "name": "stdout",
     "output_type": "stream",
     "text": [
      "Model Was Not Saved ! Current Best Avg. Dice: 0.31414610147476196 Current Avg. Dice: 0.2693372666835785 Current Avg. tumor Dice: 0.336721271276474 Current Avg. lymph Dice: 0.20195326209068298\n"
     ]
    },
    {
     "name": "stderr",
     "output_type": "stream",
     "text": [
      "Training (16904 / 18000 Steps) (loss=0.35665): 100%|██████████| 7/7 [00:22<00:00,  3.27s/it]\n",
      "Training (16911 / 18000 Steps) (loss=0.32155): 100%|██████████| 7/7 [00:13<00:00,  1.95s/it]\n",
      "Training (16918 / 18000 Steps) (loss=0.46434): 100%|██████████| 7/7 [00:13<00:00,  1.93s/it]\n",
      "Training (16925 / 18000 Steps) (loss=0.42910): 100%|██████████| 7/7 [00:13<00:00,  1.97s/it]\n",
      "Training (16932 / 18000 Steps) (loss=0.18197): 100%|██████████| 7/7 [00:13<00:00,  1.93s/it]\n",
      "Training (16939 / 18000 Steps) (loss=0.35510): 100%|██████████| 7/7 [00:13<00:00,  1.93s/it]\n",
      "Training (16946 / 18000 Steps) (loss=0.50126): 100%|██████████| 7/7 [00:13<00:00,  1.91s/it]\n",
      "Training (16953 / 18000 Steps) (loss=0.19546): 100%|██████████| 7/7 [00:13<00:00,  1.91s/it]\n",
      "Training (16960 / 18000 Steps) (loss=0.48004): 100%|██████████| 7/7 [00:13<00:00,  1.92s/it]\n",
      "Training (16967 / 18000 Steps) (loss=0.40122): 100%|██████████| 7/7 [00:13<00:00,  1.91s/it]\n",
      "Training (16974 / 18000 Steps) (loss=0.45139): 100%|██████████| 7/7 [00:13<00:00,  2.00s/it]\n",
      "Training (16981 / 18000 Steps) (loss=0.44389): 100%|██████████| 7/7 [00:13<00:00,  1.93s/it]\n",
      "Training (16988 / 18000 Steps) (loss=0.48038): 100%|██████████| 7/7 [00:13<00:00,  1.93s/it]\n",
      "Training (16995 / 18000 Steps) (loss=0.44626): 100%|██████████| 7/7 [00:13<00:00,  1.94s/it]\n",
      "Validate (16996 / 10 Steps): 100%|██████████| 2/2 [00:09<00:00,  4.69s/it]<00:05,  1.98s/it]\n",
      "Training (17000 / 18000 Steps) (loss=0.44366):  71%|███████▏  | 5/7 [00:20<00:10,  5.26s/it]"
     ]
    },
    {
     "name": "stdout",
     "output_type": "stream",
     "text": [
      "Model Was Not Saved ! Current Best Avg. Dice: 0.31414610147476196 Current Avg. Dice: 0.2907174229621887 Current Avg. tumor Dice: 0.37712422013282776 Current Avg. lymph Dice: 0.20431070029735565\n"
     ]
    },
    {
     "name": "stderr",
     "output_type": "stream",
     "text": [
      "Training (17002 / 18000 Steps) (loss=0.50669): 100%|██████████| 7/7 [00:22<00:00,  3.26s/it]\n",
      "Training (17009 / 18000 Steps) (loss=0.35365): 100%|██████████| 7/7 [00:13<00:00,  1.92s/it]\n",
      "Training (17016 / 18000 Steps) (loss=0.54455): 100%|██████████| 7/7 [00:13<00:00,  1.94s/it]\n",
      "Training (17023 / 18000 Steps) (loss=0.23564): 100%|██████████| 7/7 [00:13<00:00,  1.93s/it]\n",
      "Training (17030 / 18000 Steps) (loss=0.37049): 100%|██████████| 7/7 [00:13<00:00,  1.95s/it]\n",
      "Training (17037 / 18000 Steps) (loss=0.50912): 100%|██████████| 7/7 [00:13<00:00,  1.93s/it]\n",
      "Training (17044 / 18000 Steps) (loss=0.53888): 100%|██████████| 7/7 [00:13<00:00,  1.92s/it]\n",
      "Training (17051 / 18000 Steps) (loss=0.48095): 100%|██████████| 7/7 [00:13<00:00,  1.94s/it]\n",
      "Training (17058 / 18000 Steps) (loss=0.50421): 100%|██████████| 7/7 [00:13<00:00,  1.94s/it]\n",
      "Training (17065 / 18000 Steps) (loss=0.31760): 100%|██████████| 7/7 [00:13<00:00,  1.92s/it]\n",
      "Training (17072 / 18000 Steps) (loss=0.41465): 100%|██████████| 7/7 [00:13<00:00,  1.97s/it]\n",
      "Training (17079 / 18000 Steps) (loss=0.30679): 100%|██████████| 7/7 [00:13<00:00,  1.93s/it]\n",
      "Training (17086 / 18000 Steps) (loss=0.37467): 100%|██████████| 7/7 [00:13<00:00,  1.93s/it]\n",
      "Training (17093 / 18000 Steps) (loss=0.46906): 100%|██████████| 7/7 [00:13<00:00,  1.93s/it]\n",
      "Validate (17094 / 10 Steps): 100%|██████████| 2/2 [00:09<00:00,  4.67s/it]<00:01,  1.79s/it]\n",
      "Training (17100 / 18000 Steps) (loss=0.32467): 100%|██████████| 7/7 [00:22<00:00,  3.28s/it]\n"
     ]
    },
    {
     "name": "stdout",
     "output_type": "stream",
     "text": [
      "Model Was Not Saved ! Current Best Avg. Dice: 0.31414610147476196 Current Avg. Dice: 0.2925376892089844 Current Avg. tumor Dice: 0.39188507199287415 Current Avg. lymph Dice: 0.19319027662277222\n"
     ]
    },
    {
     "name": "stderr",
     "output_type": "stream",
     "text": [
      "Training (17107 / 18000 Steps) (loss=0.41382): 100%|██████████| 7/7 [00:13<00:00,  1.92s/it]\n",
      "Training (17114 / 18000 Steps) (loss=0.27489): 100%|██████████| 7/7 [00:13<00:00,  1.93s/it]\n",
      "Training (17121 / 18000 Steps) (loss=0.26617): 100%|██████████| 7/7 [00:13<00:00,  1.95s/it]\n",
      "Training (17128 / 18000 Steps) (loss=0.25947): 100%|██████████| 7/7 [00:13<00:00,  1.95s/it]\n",
      "Training (17135 / 18000 Steps) (loss=0.44174): 100%|██████████| 7/7 [00:13<00:00,  1.94s/it]\n",
      "Training (17142 / 18000 Steps) (loss=0.23139): 100%|██████████| 7/7 [00:13<00:00,  1.94s/it]\n",
      "Training (17149 / 18000 Steps) (loss=0.38660): 100%|██████████| 7/7 [00:13<00:00,  1.94s/it]\n",
      "Training (17156 / 18000 Steps) (loss=0.57598): 100%|██████████| 7/7 [00:13<00:00,  1.93s/it]\n",
      "Training (17163 / 18000 Steps) (loss=0.54389): 100%|██████████| 7/7 [00:13<00:00,  1.93s/it]\n",
      "Training (17170 / 18000 Steps) (loss=0.33340): 100%|██████████| 7/7 [00:13<00:00,  1.93s/it]\n",
      "Training (17177 / 18000 Steps) (loss=0.37452): 100%|██████████| 7/7 [00:13<00:00,  1.99s/it]\n",
      "Training (17184 / 18000 Steps) (loss=0.59741): 100%|██████████| 7/7 [00:13<00:00,  1.92s/it]\n",
      "Training (17191 / 18000 Steps) (loss=0.34786): 100%|██████████| 7/7 [00:13<00:00,  1.93s/it]\n",
      "Training (17198 / 18000 Steps) (loss=0.36959): 100%|██████████| 7/7 [00:13<00:00,  1.92s/it]\n",
      "Validate (17199 / 10 Steps): 100%|██████████| 2/2 [00:09<00:00,  4.64s/it]<00:24,  4.14s/it]\n",
      "Training (17200 / 18000 Steps) (loss=0.42112):  29%|██▊       | 2/7 [00:15<00:40,  8.14s/it]"
     ]
    },
    {
     "name": "stdout",
     "output_type": "stream",
     "text": [
      "Model Was Not Saved ! Current Best Avg. Dice: 0.31414610147476196 Current Avg. Dice: 0.30222076177597046 Current Avg. tumor Dice: 0.40544670820236206 Current Avg. lymph Dice: 0.19899484515190125\n"
     ]
    },
    {
     "name": "stderr",
     "output_type": "stream",
     "text": [
      "Training (17205 / 18000 Steps) (loss=0.43033): 100%|██████████| 7/7 [00:22<00:00,  3.24s/it]\n",
      "Training (17212 / 18000 Steps) (loss=0.43311): 100%|██████████| 7/7 [00:13<00:00,  1.93s/it]\n",
      "Training (17219 / 18000 Steps) (loss=0.54806): 100%|██████████| 7/7 [00:13<00:00,  1.92s/it]\n",
      "Training (17226 / 18000 Steps) (loss=0.49436): 100%|██████████| 7/7 [00:13<00:00,  1.96s/it]\n",
      "Training (17233 / 18000 Steps) (loss=0.24490): 100%|██████████| 7/7 [00:13<00:00,  1.91s/it]\n",
      "Training (17240 / 18000 Steps) (loss=0.46543): 100%|██████████| 7/7 [00:13<00:00,  1.93s/it]\n",
      "Training (17247 / 18000 Steps) (loss=0.43204): 100%|██████████| 7/7 [00:13<00:00,  1.93s/it]\n",
      "Training (17254 / 18000 Steps) (loss=0.59865): 100%|██████████| 7/7 [00:13<00:00,  1.92s/it]\n",
      "Training (17261 / 18000 Steps) (loss=0.33855): 100%|██████████| 7/7 [00:13<00:00,  1.92s/it]\n",
      "Training (17268 / 18000 Steps) (loss=0.35437): 100%|██████████| 7/7 [00:13<00:00,  1.92s/it]\n",
      "Training (17275 / 18000 Steps) (loss=0.48241): 100%|██████████| 7/7 [00:13<00:00,  1.96s/it]\n",
      "Training (17282 / 18000 Steps) (loss=0.22525): 100%|██████████| 7/7 [00:13<00:00,  1.93s/it]\n",
      "Training (17289 / 18000 Steps) (loss=0.44098): 100%|██████████| 7/7 [00:13<00:00,  1.93s/it]\n",
      "Training (17296 / 18000 Steps) (loss=0.63522): 100%|██████████| 7/7 [00:13<00:00,  1.94s/it]\n",
      "Validate (17297 / 10 Steps): 100%|██████████| 2/2 [00:09<00:00,  4.65s/it]<00:08,  2.19s/it]\n",
      "Training (17300 / 18000 Steps) (loss=0.48527):  57%|█████▋    | 4/7 [00:18<00:16,  5.66s/it]"
     ]
    },
    {
     "name": "stdout",
     "output_type": "stream",
     "text": [
      "Model Was Not Saved ! Current Best Avg. Dice: 0.31414610147476196 Current Avg. Dice: 0.3108934164047241 Current Avg. tumor Dice: 0.4005051255226135 Current Avg. lymph Dice: 0.22128170728683472\n"
     ]
    },
    {
     "name": "stderr",
     "output_type": "stream",
     "text": [
      "Training (17303 / 18000 Steps) (loss=0.28708): 100%|██████████| 7/7 [00:22<00:00,  3.25s/it]\n",
      "Training (17310 / 18000 Steps) (loss=0.39261): 100%|██████████| 7/7 [00:13<00:00,  1.93s/it]\n",
      "Training (17317 / 18000 Steps) (loss=0.59421): 100%|██████████| 7/7 [00:13<00:00,  1.94s/it]\n",
      "Training (17324 / 18000 Steps) (loss=0.21113): 100%|██████████| 7/7 [00:13<00:00,  1.96s/it]\n",
      "Training (17331 / 18000 Steps) (loss=0.23696): 100%|██████████| 7/7 [00:13<00:00,  1.91s/it]\n",
      "Training (17338 / 18000 Steps) (loss=0.52370): 100%|██████████| 7/7 [00:13<00:00,  1.91s/it]\n",
      "Training (17345 / 18000 Steps) (loss=0.31077): 100%|██████████| 7/7 [00:13<00:00,  1.92s/it]\n",
      "Training (17352 / 18000 Steps) (loss=0.39979): 100%|██████████| 7/7 [00:13<00:00,  1.91s/it]\n",
      "Training (17359 / 18000 Steps) (loss=0.60371): 100%|██████████| 7/7 [00:13<00:00,  1.92s/it]\n",
      "Training (17366 / 18000 Steps) (loss=0.54978): 100%|██████████| 7/7 [00:13<00:00,  1.94s/it]\n",
      "Training (17373 / 18000 Steps) (loss=0.39504): 100%|██████████| 7/7 [00:13<00:00,  1.93s/it]\n",
      "Training (17380 / 18000 Steps) (loss=0.46208): 100%|██████████| 7/7 [00:13<00:00,  1.95s/it]\n",
      "Training (17387 / 18000 Steps) (loss=0.59965): 100%|██████████| 7/7 [00:13<00:00,  1.94s/it]\n",
      "Training (17394 / 18000 Steps) (loss=0.62226): 100%|██████████| 7/7 [00:13<00:00,  1.96s/it]\n",
      "Validate (17395 / 10 Steps): 100%|██████████| 2/2 [00:09<00:00,  4.65s/it]<00:03,  1.87s/it]\n",
      "Training (17400 / 18000 Steps) (loss=0.42575):  86%|████████▌ | 6/7 [00:21<00:04,  4.97s/it]"
     ]
    },
    {
     "name": "stdout",
     "output_type": "stream",
     "text": [
      "Model Was Not Saved ! Current Best Avg. Dice: 0.31414610147476196 Current Avg. Dice: 0.3110445439815521 Current Avg. tumor Dice: 0.376384437084198 Current Avg. lymph Dice: 0.24570465087890625\n"
     ]
    },
    {
     "name": "stderr",
     "output_type": "stream",
     "text": [
      "Training (17401 / 18000 Steps) (loss=0.60711): 100%|██████████| 7/7 [00:22<00:00,  3.28s/it]\n",
      "Training (17408 / 18000 Steps) (loss=0.48108): 100%|██████████| 7/7 [00:13<00:00,  1.93s/it]\n",
      "Training (17415 / 18000 Steps) (loss=0.20579): 100%|██████████| 7/7 [00:13<00:00,  1.95s/it]\n",
      "Training (17422 / 18000 Steps) (loss=0.60290): 100%|██████████| 7/7 [00:13<00:00,  1.94s/it]\n",
      "Training (17429 / 18000 Steps) (loss=0.64726): 100%|██████████| 7/7 [00:13<00:00,  1.97s/it]\n",
      "Training (17436 / 18000 Steps) (loss=0.47419): 100%|██████████| 7/7 [00:13<00:00,  1.92s/it]\n",
      "Training (17443 / 18000 Steps) (loss=0.50337): 100%|██████████| 7/7 [00:13<00:00,  1.92s/it]\n",
      "Training (17450 / 18000 Steps) (loss=0.39547): 100%|██████████| 7/7 [00:13<00:00,  1.94s/it]\n",
      "Training (17457 / 18000 Steps) (loss=0.27958): 100%|██████████| 7/7 [00:13<00:00,  1.93s/it]\n",
      "Training (17464 / 18000 Steps) (loss=0.37136): 100%|██████████| 7/7 [00:13<00:00,  1.93s/it]\n",
      "Training (17471 / 18000 Steps) (loss=0.40483): 100%|██████████| 7/7 [00:13<00:00,  1.94s/it]\n",
      "Training (17478 / 18000 Steps) (loss=0.37459): 100%|██████████| 7/7 [00:13<00:00,  1.96s/it]\n",
      "Training (17485 / 18000 Steps) (loss=0.27539): 100%|██████████| 7/7 [00:13<00:00,  1.92s/it]\n",
      "Training (17492 / 18000 Steps) (loss=0.29261): 100%|██████████| 7/7 [00:13<00:00,  1.92s/it]\n",
      "Training (17499 / 18000 Steps) (loss=0.29949): 100%|██████████| 7/7 [00:13<00:00,  1.94s/it]\n",
      "Validate (17500 / 10 Steps): 100%|██████████| 2/2 [00:09<00:00,  4.68s/it]<?, ?it/s]\n",
      "Training (17500 / 18000 Steps) (loss=0.45260):  14%|█▍        | 1/7 [00:13<01:21, 13.61s/it]"
     ]
    },
    {
     "name": "stdout",
     "output_type": "stream",
     "text": [
      "Model Was Not Saved ! Current Best Avg. Dice: 0.31414610147476196 Current Avg. Dice: 0.306809663772583 Current Avg. tumor Dice: 0.4081909954547882 Current Avg. lymph Dice: 0.2054283320903778\n"
     ]
    },
    {
     "name": "stderr",
     "output_type": "stream",
     "text": [
      "Training (17506 / 18000 Steps) (loss=0.59955): 100%|██████████| 7/7 [00:22<00:00,  3.27s/it]\n",
      "Training (17513 / 18000 Steps) (loss=0.41353): 100%|██████████| 7/7 [00:13<00:00,  1.94s/it]\n",
      "Training (17520 / 18000 Steps) (loss=0.28787): 100%|██████████| 7/7 [00:13<00:00,  1.93s/it]\n",
      "Training (17527 / 18000 Steps) (loss=0.50267): 100%|██████████| 7/7 [00:13<00:00,  1.95s/it]\n",
      "Training (17534 / 18000 Steps) (loss=0.25348): 100%|██████████| 7/7 [00:13<00:00,  1.98s/it]\n",
      "Training (17541 / 18000 Steps) (loss=0.31887): 100%|██████████| 7/7 [00:13<00:00,  1.94s/it]\n",
      "Training (17548 / 18000 Steps) (loss=0.15159): 100%|██████████| 7/7 [00:13<00:00,  1.93s/it]\n",
      "Training (17555 / 18000 Steps) (loss=0.35201): 100%|██████████| 7/7 [00:13<00:00,  1.94s/it]\n",
      "Training (17562 / 18000 Steps) (loss=0.30993): 100%|██████████| 7/7 [00:13<00:00,  1.93s/it]\n",
      "Training (17569 / 18000 Steps) (loss=0.23528): 100%|██████████| 7/7 [00:13<00:00,  1.93s/it]\n",
      "Training (17576 / 18000 Steps) (loss=0.33809): 100%|██████████| 7/7 [00:13<00:00,  1.93s/it]\n",
      "Training (17583 / 18000 Steps) (loss=0.36375): 100%|██████████| 7/7 [00:13<00:00,  1.94s/it]\n",
      "Training (17590 / 18000 Steps) (loss=0.54610): 100%|██████████| 7/7 [00:13<00:00,  1.93s/it]\n",
      "Training (17597 / 18000 Steps) (loss=0.53919): 100%|██████████| 7/7 [00:13<00:00,  1.94s/it]\n",
      "Validate (17598 / 10 Steps): 100%|██████████| 2/2 [00:09<00:00,  4.65s/it]<00:13,  2.72s/it]\n",
      "Training (17600 / 18000 Steps) (loss=0.41906):  43%|████▎     | 3/7 [00:16<00:25,  6.49s/it]"
     ]
    },
    {
     "name": "stdout",
     "output_type": "stream",
     "text": [
      "Model Was Not Saved ! Current Best Avg. Dice: 0.31414610147476196 Current Avg. Dice: 0.30346524715423584 Current Avg. tumor Dice: 0.42979785799980164 Current Avg. lymph Dice: 0.17713262140750885\n"
     ]
    },
    {
     "name": "stderr",
     "output_type": "stream",
     "text": [
      "Training (17604 / 18000 Steps) (loss=0.19640): 100%|██████████| 7/7 [00:22<00:00,  3.25s/it]\n",
      "Training (17611 / 18000 Steps) (loss=0.42722): 100%|██████████| 7/7 [00:13<00:00,  1.92s/it]\n",
      "Training (17618 / 18000 Steps) (loss=0.35911): 100%|██████████| 7/7 [00:13<00:00,  1.94s/it]\n",
      "Training (17625 / 18000 Steps) (loss=0.36720): 100%|██████████| 7/7 [00:13<00:00,  1.95s/it]\n",
      "Training (17632 / 18000 Steps) (loss=0.32549): 100%|██████████| 7/7 [00:13<00:00,  1.97s/it]\n",
      "Training (17639 / 18000 Steps) (loss=0.53513): 100%|██████████| 7/7 [00:13<00:00,  1.92s/it]\n",
      "Training (17646 / 18000 Steps) (loss=0.54595): 100%|██████████| 7/7 [00:13<00:00,  1.92s/it]\n",
      "Training (17653 / 18000 Steps) (loss=0.47747): 100%|██████████| 7/7 [00:13<00:00,  1.94s/it]\n",
      "Training (17660 / 18000 Steps) (loss=0.42015): 100%|██████████| 7/7 [00:13<00:00,  1.93s/it]\n",
      "Training (17667 / 18000 Steps) (loss=0.44134): 100%|██████████| 7/7 [00:13<00:00,  1.94s/it]\n",
      "Training (17674 / 18000 Steps) (loss=0.38968): 100%|██████████| 7/7 [00:13<00:00,  1.97s/it]\n",
      "Training (17681 / 18000 Steps) (loss=0.42920): 100%|██████████| 7/7 [00:13<00:00,  1.94s/it]\n",
      "Training (17688 / 18000 Steps) (loss=0.36246): 100%|██████████| 7/7 [00:13<00:00,  1.94s/it]\n",
      "Training (17695 / 18000 Steps) (loss=0.44487): 100%|██████████| 7/7 [00:13<00:00,  1.92s/it]\n",
      "Validate (17696 / 10 Steps): 100%|██████████| 2/2 [00:09<00:00,  4.66s/it]<00:05,  1.99s/it]\n",
      "Training (17700 / 18000 Steps) (loss=0.40467):  71%|███████▏  | 5/7 [00:20<00:10,  5.24s/it]"
     ]
    },
    {
     "name": "stdout",
     "output_type": "stream",
     "text": [
      "Model Was Not Saved ! Current Best Avg. Dice: 0.31414610147476196 Current Avg. Dice: 0.30551227927207947 Current Avg. tumor Dice: 0.39786818623542786 Current Avg. lymph Dice: 0.21315640211105347\n"
     ]
    },
    {
     "name": "stderr",
     "output_type": "stream",
     "text": [
      "Training (17702 / 18000 Steps) (loss=0.28360): 100%|██████████| 7/7 [00:22<00:00,  3.27s/it]\n",
      "Training (17709 / 18000 Steps) (loss=0.40871): 100%|██████████| 7/7 [00:13<00:00,  1.92s/it]\n",
      "Training (17716 / 18000 Steps) (loss=0.45713): 100%|██████████| 7/7 [00:13<00:00,  1.91s/it]\n",
      "Training (17723 / 18000 Steps) (loss=0.15040): 100%|██████████| 7/7 [00:13<00:00,  1.94s/it]\n",
      "Training (17730 / 18000 Steps) (loss=0.60222): 100%|██████████| 7/7 [00:13<00:00,  1.92s/it]\n",
      "Training (17737 / 18000 Steps) (loss=0.45844): 100%|██████████| 7/7 [00:13<00:00,  1.93s/it]\n",
      "Training (17744 / 18000 Steps) (loss=0.42293): 100%|██████████| 7/7 [00:13<00:00,  1.93s/it]\n",
      "Training (17751 / 18000 Steps) (loss=0.23191): 100%|██████████| 7/7 [00:13<00:00,  1.91s/it]\n",
      "Training (17758 / 18000 Steps) (loss=0.18261): 100%|██████████| 7/7 [00:13<00:00,  1.93s/it]\n",
      "Training (17765 / 18000 Steps) (loss=0.40851): 100%|██████████| 7/7 [00:13<00:00,  1.95s/it]\n",
      "Training (17772 / 18000 Steps) (loss=0.66908): 100%|██████████| 7/7 [00:13<00:00,  1.94s/it]\n",
      "Training (17779 / 18000 Steps) (loss=0.42785): 100%|██████████| 7/7 [00:13<00:00,  1.93s/it]\n",
      "Training (17786 / 18000 Steps) (loss=0.42955): 100%|██████████| 7/7 [00:13<00:00,  1.93s/it]\n",
      "Training (17793 / 18000 Steps) (loss=0.26476): 100%|██████████| 7/7 [00:13<00:00,  1.94s/it]\n",
      "Validate (17794 / 10 Steps): 100%|██████████| 2/2 [00:09<00:00,  4.65s/it]<00:01,  1.79s/it]\n",
      "Training (17800 / 18000 Steps) (loss=0.20268): 100%|██████████| 7/7 [00:22<00:00,  3.26s/it]\n"
     ]
    },
    {
     "name": "stdout",
     "output_type": "stream",
     "text": [
      "Model Was Not Saved ! Current Best Avg. Dice: 0.31414610147476196 Current Avg. Dice: 0.298042893409729 Current Avg. tumor Dice: 0.38356494903564453 Current Avg. lymph Dice: 0.21252086758613586\n"
     ]
    },
    {
     "name": "stderr",
     "output_type": "stream",
     "text": [
      "Training (17807 / 18000 Steps) (loss=0.49888): 100%|██████████| 7/7 [00:13<00:00,  1.93s/it]\n",
      "Training (17814 / 18000 Steps) (loss=0.17427): 100%|██████████| 7/7 [00:13<00:00,  1.91s/it]\n",
      "Training (17821 / 18000 Steps) (loss=0.49742): 100%|██████████| 7/7 [00:13<00:00,  1.93s/it]\n",
      "Training (17828 / 18000 Steps) (loss=0.54340): 100%|██████████| 7/7 [00:13<00:00,  1.94s/it]\n",
      "Training (17835 / 18000 Steps) (loss=0.50071): 100%|██████████| 7/7 [00:13<00:00,  1.93s/it]\n",
      "Training (17842 / 18000 Steps) (loss=0.41651): 100%|██████████| 7/7 [00:13<00:00,  1.91s/it]\n",
      "Training (17849 / 18000 Steps) (loss=0.37257): 100%|██████████| 7/7 [00:13<00:00,  1.92s/it]\n",
      "Training (17856 / 18000 Steps) (loss=0.40259): 100%|██████████| 7/7 [00:13<00:00,  1.95s/it]\n",
      "Training (17863 / 18000 Steps) (loss=0.54550): 100%|██████████| 7/7 [00:13<00:00,  1.94s/it]\n",
      "Training (17870 / 18000 Steps) (loss=0.35051): 100%|██████████| 7/7 [00:13<00:00,  1.92s/it]\n",
      "Training (17877 / 18000 Steps) (loss=0.31445): 100%|██████████| 7/7 [00:13<00:00,  1.96s/it]\n",
      "Training (17884 / 18000 Steps) (loss=0.22938): 100%|██████████| 7/7 [00:13<00:00,  1.92s/it]\n",
      "Training (17891 / 18000 Steps) (loss=0.53114): 100%|██████████| 7/7 [00:13<00:00,  1.96s/it]\n",
      "Training (17898 / 18000 Steps) (loss=0.26801): 100%|██████████| 7/7 [00:13<00:00,  1.93s/it]\n",
      "Validate (17899 / 10 Steps): 100%|██████████| 2/2 [00:09<00:00,  4.67s/it]<00:25,  4.22s/it]\n",
      "Training (17900 / 18000 Steps) (loss=0.41040):  29%|██▊       | 2/7 [00:15<00:41,  8.22s/it]"
     ]
    },
    {
     "name": "stdout",
     "output_type": "stream",
     "text": [
      "Model Was Not Saved ! Current Best Avg. Dice: 0.31414610147476196 Current Avg. Dice: 0.2885858416557312 Current Avg. tumor Dice: 0.38038405776023865 Current Avg. lymph Dice: 0.19678762555122375\n"
     ]
    },
    {
     "name": "stderr",
     "output_type": "stream",
     "text": [
      "Training (17905 / 18000 Steps) (loss=0.35101): 100%|██████████| 7/7 [00:22<00:00,  3.28s/it]\n",
      "Training (17912 / 18000 Steps) (loss=0.43888): 100%|██████████| 7/7 [00:13<00:00,  1.93s/it]\n",
      "Training (17919 / 18000 Steps) (loss=0.59696): 100%|██████████| 7/7 [00:13<00:00,  1.99s/it]\n",
      "Training (17926 / 18000 Steps) (loss=0.47412): 100%|██████████| 7/7 [00:13<00:00,  1.96s/it]\n",
      "Training (17933 / 18000 Steps) (loss=0.42967): 100%|██████████| 7/7 [00:13<00:00,  1.94s/it]\n",
      "Training (17940 / 18000 Steps) (loss=0.27615): 100%|██████████| 7/7 [00:13<00:00,  1.94s/it]\n",
      "Training (17947 / 18000 Steps) (loss=0.44027): 100%|██████████| 7/7 [00:13<00:00,  1.94s/it]\n",
      "Training (17954 / 18000 Steps) (loss=0.49487): 100%|██████████| 7/7 [00:13<00:00,  1.96s/it]\n",
      "Training (17961 / 18000 Steps) (loss=0.35277): 100%|██████████| 7/7 [00:13<00:00,  1.94s/it]\n",
      "Training (17968 / 18000 Steps) (loss=0.38210): 100%|██████████| 7/7 [00:13<00:00,  1.93s/it]\n",
      "Training (17975 / 18000 Steps) (loss=0.49576): 100%|██████████| 7/7 [00:13<00:00,  1.90s/it]\n",
      "Training (17982 / 18000 Steps) (loss=0.53734): 100%|██████████| 7/7 [00:13<00:00,  1.97s/it]\n",
      "Training (17989 / 18000 Steps) (loss=0.25362): 100%|██████████| 7/7 [00:13<00:00,  1.94s/it]\n",
      "Training (17996 / 18000 Steps) (loss=0.48019): 100%|██████████| 7/7 [00:13<00:00,  1.94s/it]\n",
      "Validate (17997 / 10 Steps): 100%|██████████| 2/2 [00:09<00:00,  4.68s/it]<00:08,  2.21s/it]\n",
      "Training (18000 / 18000 Steps) (loss=0.22016):  57%|█████▋    | 4/7 [00:18<00:17,  5.69s/it]"
     ]
    },
    {
     "name": "stdout",
     "output_type": "stream",
     "text": [
      "Model Was Not Saved ! Current Best Avg. Dice: 0.31414610147476196 Current Avg. Dice: 0.28104710578918457 Current Avg. tumor Dice: 0.36075523495674133 Current Avg. lymph Dice: 0.2013390213251114\n"
     ]
    },
    {
     "name": "stderr",
     "output_type": "stream",
     "text": [
      "Training (18003 / 18000 Steps) (loss=0.40300): 100%|██████████| 7/7 [00:22<00:00,  3.26s/it]\n"
     ]
    }
   ],
   "source": [
    "epoch = 0 # used for LR scheduler\n",
    "max_num_epochs = 530 # used for LR scheduler\n",
    "\n",
    "torch.autograd.set_detect_anomaly(True)  # Enable anomaly detection\n",
    "\n",
    "while global_step < max_iterations:\n",
    "    global_step, dice_val_best, global_step_best = train(\n",
    "        global_step, train_loader, dice_val_best, global_step_best\n",
    "    )\n",
    "    epoch += 1\n",
    "    #optimizer.param_groups[0]['lr'] = poly_lr(epoch, max_num_epochs, 0.005676 , 0.9)\n",
    "# model.load_state_dict(torch.load(os.path.join(model_dir, \"best_metric_luck_UNETr_prompt.pth\")))"
   ]
  }
 ],
 "metadata": {
  "kernelspec": {
   "display_name": "clam",
   "language": "python",
   "name": "python3"
  },
  "language_info": {
   "codemirror_mode": {
    "name": "ipython",
    "version": 3
   },
   "file_extension": ".py",
   "mimetype": "text/x-python",
   "name": "python",
   "nbconvert_exporter": "python",
   "pygments_lexer": "ipython3",
   "version": "3.8.0"
  }
 },
 "nbformat": 4,
 "nbformat_minor": 2
}
