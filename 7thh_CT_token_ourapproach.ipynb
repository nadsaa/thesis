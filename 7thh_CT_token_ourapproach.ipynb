{
 "cells": [
  {
   "cell_type": "code",
   "execution_count": 1,
   "metadata": {},
   "outputs": [
    {
     "name": "stdout",
     "output_type": "stream",
     "text": [
      "1\n"
     ]
    },
    {
     "name": "stderr",
     "output_type": "stream",
     "text": [
      "/tmp/ipykernel_3562596/1896300350.py:9: TqdmWarning: IProgress not found. Please update jupyter and ipywidgets. See https://ipywidgets.readthedocs.io/en/stable/user_install.html\n",
      "  from tqdm.autonotebook import tqdm\n"
     ]
    }
   ],
   "source": [
    "import torch\n",
    "import torch.nn as nn\n",
    "from torch.utils.data import DataLoader\n",
    "from collections.abc import Sequence\n",
    "\n",
    "from unetr import CustomedUNETR\n",
    "\n",
    "import json\n",
    "from tqdm.autonotebook import tqdm\n",
    "import os\n",
    "os.environ[\"CUDA_DEVICE_ORDER\"] = \"PCI_BUS_ID\"\n",
    "os.environ[\"CUDA_VISIBLE_DEVICES\"] = \"0\" \n",
    "\n",
    "print(torch.cuda.device_count())\n",
    "torch.backends.cudnn.benchmark = True\n",
    "device = torch.device(\"cuda\" if torch.cuda.is_available() else \"cpu\")"
   ]
  },
  {
   "cell_type": "code",
   "execution_count": 2,
   "metadata": {},
   "outputs": [],
   "source": [
    "import os\n",
    "import shutil\n",
    "import tempfile\n",
    "\n",
    "import matplotlib.pyplot as plt\n",
    "import numpy as np\n",
    "from tqdm import tqdm\n",
    "from glob import glob\n",
    "# import wandb\n",
    "\n",
    "import monai\n",
    "from monai.losses import DiceCELoss, DiceFocalLoss, FocalLoss\n",
    "from monai.inferers import sliding_window_inference\n",
    "from monai import transforms\n",
    "\n",
    "from monai.transforms import (\n",
    "       AsDiscrete,\n",
    "       Compose,\n",
    "    CropForegroundd,\n",
    "    LoadImaged,\n",
    "    Orientationd,\n",
    "    RandFlipd,\n",
    "    RandCropByPosNegLabeld,\n",
    "    RandShiftIntensityd,\n",
    "    ScaleIntensityRanged,\n",
    "    Spacingd,\n",
    "    RandRotate90d,\n",
    "    MapTransform,\n",
    "    ScaleIntensityd,\n",
    "    #AddChanneld,\n",
    "    SpatialPadd,\n",
    "    CenterSpatialCropd,\n",
    "    EnsureChannelFirstd,\n",
    "    ConcatItemsd,\n",
    "    AdjustContrastd, \n",
    "    Rand3DElasticd,\n",
    "    HistogramNormalized,\n",
    "    NormalizeIntensityd,\n",
    "    Invertd,\n",
    "    SaveImage,\n",
    "\n",
    ")\n",
    "\n",
    "from monai.config import print_config\n",
    "from monai.metrics import DiceMetric\n",
    "from monai.networks.nets import SwinUNETR, UNETR, SegResNet\n",
    "from monai.data import (\n",
    "    DataLoader,\n",
    "    CacheDataset,\n",
    "    load_decathlon_datalist,\n",
    "    decollate_batch,\n",
    ")\n",
    "from monai import data\n",
    "from monai.utils import first, set_determinism\n",
    "from sklearn.model_selection import train_test_split\n",
    "import json\n",
    "\n",
    "\n",
    "import torch"
   ]
  },
  {
   "cell_type": "code",
   "execution_count": 3,
   "metadata": {},
   "outputs": [],
   "source": [
    "set_determinism(seed=1024)"
   ]
  },
  {
   "cell_type": "code",
   "execution_count": 4,
   "metadata": {},
   "outputs": [],
   "source": [
    "data_dir = '/home/nada.saadi/MIS-FM/hecktor2022_cropped'\n",
    "json_dir = \"/home/nada.saadi/CTPET/hecktor2022_cropped/HMR_ct_train_new.json\""
   ]
  },
  {
   "cell_type": "code",
   "execution_count": 5,
   "metadata": {},
   "outputs": [],
   "source": [
    "def datafold_read(datalist, basedir, fold=0, key=\"training\"):\n",
    "    with open(datalist) as f:\n",
    "        json_data = json.load(f)\n",
    "\n",
    "    json_data = json_data[key]\n",
    "\n",
    "    for d in json_data:\n",
    "        for k in d:\n",
    "            if isinstance(d[k], list):\n",
    "                d[k] = [os.path.join(basedir, iv) for iv in d[k]]\n",
    "            elif isinstance(d[k], str):\n",
    "                d[k] = os.path.join(basedir, d[k]) if len(d[k]) > 0 else d[k]\n",
    "\n",
    "    tr = []\n",
    "    val = []\n",
    "    for d in json_data:\n",
    "        if \"fold\" in d and d[\"fold\"] == fold:\n",
    "            val.append(d)\n",
    "        else:\n",
    "            tr.append(d)\n",
    "\n",
    "    return tr, val"
   ]
  },
  {
   "cell_type": "code",
   "execution_count": 6,
   "metadata": {},
   "outputs": [
    {
     "data": {
      "text/plain": [
       "(13, 4)"
      ]
     },
     "execution_count": 6,
     "metadata": {},
     "output_type": "execute_result"
    }
   ],
   "source": [
    "train_files, validation_files = datafold_read(datalist=json_dir, basedir=data_dir, fold=0)\n",
    "len(train_files), len(validation_files)"
   ]
  },
  {
   "cell_type": "code",
   "execution_count": 7,
   "metadata": {},
   "outputs": [],
   "source": [
    "class ClipCT(MapTransform):\n",
    "    \"\"\"\n",
    "    Convert labels to multi channels based on hecktor classes:\n",
    "    label 1 is the tumor\n",
    "    label 2 is the lymph node\n",
    "\n",
    "    \"\"\"\n",
    "\n",
    "    def __call__(self, data):\n",
    "        d = dict(data)\n",
    "        for key in self.keys:\n",
    "            if key == \"ct\":\n",
    "                d[key] = torch.clip(d[key], min=-200, max=200)\n",
    "            # elif key == \"pt\":\n",
    "            #     d[key] = torch.clip(d[key], d[key].min(), 5)\n",
    "        return d\n",
    "class MulPTFM(MapTransform):\n",
    "    \"\"\"\n",
    "    Mult PT and FM \n",
    "\n",
    "    \"\"\"\n",
    "\n",
    "    def __call__(self, data):\n",
    "        d = dict(data)\n",
    "\n",
    "        fm = d[\"ct\"] > 0\n",
    "        d[\"pt\"] = d[\"pt\"] * fm\n",
    "        return d\n",
    "class SelectClass(MapTransform):\n",
    "    \"\"\"\n",
    "    Select the class for which you want to fine tune the model \n",
    "\n",
    "    \"\"\"\n",
    "    # def __init__(self, keys, cls=1):\n",
    "    #     super(self).__init__(keys)\n",
    "    #     self.cls = cls\n",
    "\n",
    "    def __call__(self, data):\n",
    "        d = dict(data)\n",
    "        d[\"seg\"][d[\"seg\"] == 1] = 0\n",
    "        # d[\"seg\"][d[\"seg\"] == 2] = 1\n",
    "        \n",
    "        return d"
   ]
  },
  {
   "cell_type": "code",
   "execution_count": 8,
   "metadata": {},
   "outputs": [],
   "source": [
    "num_samples = 4\n",
    "\n",
    "train_transforms = Compose(\n",
    "    [\n",
    "        LoadImaged(keys=[\"ct\", \"seg\"], ensure_channel_first = True),\n",
    "        SpatialPadd(keys=[\"ct\",  \"seg\"], spatial_size=(200, 200, 310), method='end'),\n",
    "        Orientationd(keys=[\"ct\",  \"seg\"], axcodes=\"PLS\"),\n",
    "        #NormalizeIntensityd(keys=[\"pt\"]),\n",
    "        ClipCT(keys=[\"ct\"]),\n",
    "        ScaleIntensityd(keys=[\"ct\"], minv=0, maxv=1),\n",
    "        #MulPTFM(keys=[\"ct\",\"pt\"]),\n",
    "        #ConcatItemsd(keys=[\"pt\", \"ct\"], name=\"ctpt\"),\n",
    "        #NormalizeIntensityd(keys=[\"ctpt\"], channel_wise=True),\n",
    "        RandCropByPosNegLabeld(\n",
    "            keys=[\"ct\", \"seg\"],\n",
    "            label_key=\"seg\",\n",
    "            spatial_size=(96, 96,96),\n",
    "            pos=1,\n",
    "            neg=1,\n",
    "            num_samples=num_samples,\n",
    "            image_key=\"ct\",\n",
    "            image_threshold=0,\n",
    "        ),\n",
    "        RandFlipd(\n",
    "            keys=[\"ct\", \"seg\"],\n",
    "            spatial_axis=[0],\n",
    "            prob=0.20,\n",
    "        ),\n",
    "        RandFlipd(\n",
    "            keys=[\"ct\", \"seg\"],\n",
    "            spatial_axis=[1],\n",
    "            prob=0.20,\n",
    "        ),\n",
    "        RandFlipd(\n",
    "            keys=[\"ct\", \"seg\"],\n",
    "            spatial_axis=[2],\n",
    "            prob=0.20,\n",
    "        ),\n",
    "        RandRotate90d(\n",
    "            keys=[\"ct\", \"seg\"],\n",
    "            prob=0.20,\n",
    "            max_k=3,\n",
    "        ),\n",
    "    ]\n",
    ")\n",
    "val_transforms = Compose(\n",
    "    [\n",
    "        LoadImaged(keys=[\"ct\", \"seg\"], ensure_channel_first = True),\n",
    "        SpatialPadd(keys=[\"ct\", \"seg\"], spatial_size=(200, 200, 310), method='end'),\n",
    "        Orientationd(keys=[\"ct\",  \"seg\"], axcodes=\"PLS\"),\n",
    "        #NormalizeIntensityd(keys=[\"pt\"]),\n",
    "        ClipCT(keys=[\"ct\"]),\n",
    "        ScaleIntensityd(keys=[\"ct\"], minv=0, maxv=1),\n",
    "        #MulPTFM(keys=[\"ct\",\"pt\"]),\n",
    "        #ConcatItemsd(keys=[\"pt\", \"ct\"], name=\"ctpt\"),\n",
    "    ]\n",
    ")"
   ]
  },
  {
   "cell_type": "code",
   "execution_count": 9,
   "metadata": {},
   "outputs": [],
   "source": [
    "train_ds = monai.data.Dataset(data=train_files, transform=train_transforms)\n",
    "\n",
    "train_loader = DataLoader(\n",
    "    train_ds,\n",
    "    batch_size=2,\n",
    "    shuffle=True,\n",
    "    num_workers=8,\n",
    "    pin_memory=torch.cuda.is_available(),\n",
    "    )\n",
    "\n",
    "val_ds = monai.data.Dataset(data=validation_files, transform=val_transforms)\n",
    "\n",
    "val_loader = DataLoader(\n",
    "    val_ds, \n",
    "    batch_size=2, \n",
    "    num_workers=8, \n",
    "    shuffle= False)"
   ]
  },
  {
   "cell_type": "code",
   "execution_count": 10,
   "metadata": {},
   "outputs": [
    {
     "name": "stderr",
     "output_type": "stream",
     "text": [
      "/home/nada.saadi/miniconda3/envs/clam/lib/python3.8/site-packages/monai/utils/deprecate_utils.py:221: FutureWarning: unetr CustomedUNETR.__init__:pos_embed: Argument `pos_embed` has been deprecated since version 1.2. It will be removed in version 1.4. please use `proj_type` instead.\n",
      "  warn_deprecated(argname, msg, warning_category)\n"
     ]
    },
    {
     "name": "stdout",
     "output_type": "stream",
     "text": [
      "Nada's version of UNETR\n",
      "(96, 96, 96)\n",
      "(16, 16, 16)\n",
      "(6, 6, 6)\n",
      "768\n",
      "zaz w dakchi ya s lbnat\n"
     ]
    }
   ],
   "source": [
    "os.environ[\"CUDA_DEVICE_ORDER\"] = \"PCI_BUS_ID\"\n",
    "device = torch.device(\"cuda\" if torch.cuda.is_available() else \"cpu\")\n",
    "model = CustomedUNETR(\n",
    "    in_channels=1,  # Number of input channels\n",
    "    out_channels=3,  # Number of output channels\n",
    "    img_size=(96, 96, 96),  # Size of the input image\n",
    "    feature_size=48,  # Size of the feature maps\n",
    "    hidden_size=768,\n",
    "    num_heads=12,  # Size of the hidden layers in the transformer\n",
    "    mlp_dim=3072,  # Dimension of the MLP in the transformer\n",
    "    pos_embed=\"perceptron\",  # Type of positional embedding\n",
    "    norm_name=\"instance\",  # Type of normalization\n",
    "    res_block=True,  # Whether to use residual blocks\n",
    "    dropout_rate=0.0,\n",
    "    proj_type=\"conv\",\n",
    "    r=4,\n",
    "    lora_layer=True,\n",
    "    use_ct_encoder=True,\n",
    "    use_pet_encoder=False,\n",
    ").to(device) \n",
    "pt_weights_6 = '/home/nada.saadi/CTPET/hecktor2022_cropped/6th_CTPT_ourapproach/6thctpt_tokens_ourapproach_pret.pth'\n",
    "state_dict = torch.load(pt_weights_6)\n",
    "model_state_dict = model.state_dict()\n",
    "for name, param in state_dict.items():\n",
    "    if name in model_state_dict:\n",
    "        if param.shape == model_state_dict[name].shape:\n",
    "            model_state_dict[name] = param\n",
    "\n",
    "model.load_state_dict(model_state_dict) \n",
    "\n",
    "for name, param in model.named_parameters():\n",
    "    if \"decoder5\" in name or \"decoder4\" in name or \"decoder3\" in name or \"decoder2\" in name:\n",
    "        param.requires_grad = False"
   ]
  },
  {
   "cell_type": "code",
   "execution_count": 11,
   "metadata": {},
   "outputs": [],
   "source": [
    "torch.backends.cudnn.benchmark = True\n",
    "def poly_lr(epoch, max_epochs, initial_lr, exponent=0.9):\n",
    "    return initial_lr * (1 - epoch / max_epochs)**exponent\n",
    "\n",
    "loss_function = DiceCELoss(to_onehot_y=True, softmax=True)\n",
    "optimizer = torch.optim.AdamW(model.parameters(), lr=1e-4, weight_decay=1e-5)"
   ]
  },
  {
   "cell_type": "code",
   "execution_count": 14,
   "metadata": {},
   "outputs": [],
   "source": [
    "def poly_lr(epoch, max_epochs, initial_lr, exponent=0.9):\n",
    "    return initial_lr * (1 - epoch / max_epochs)**exponent\n",
    "\n",
    "model_dir='/home/nada.saadi/CTPET/hecktor2022_cropped/7th_CT_ourapproach'\n",
    "max_iterations = 18000\n",
    "eval_num = 100\n",
    "\n",
    "## running stats\n",
    "global_step = 0\n",
    "dice_val_best = 0.0\n",
    "global_step_best = 0\n",
    "epoch_loss_values = []\n",
    "metric_values = []\n",
    "metric_values_tumor = []\n",
    "metric_values_lymph = []\n",
    "\n",
    "\n",
    "loss_function = DiceCELoss(to_onehot_y=True, softmax=True)\n",
    "optimizer = torch.optim.AdamW(model.parameters(), lr=1e-4, weight_decay=1e-5)\n",
    "\n",
    "\n",
    "post_label = AsDiscrete(to_onehot=3)\n",
    "post_pred = AsDiscrete(argmax=True, to_onehot=3)\n",
    "\n",
    "dice_metric = DiceMetric(include_background=False, reduction=\"mean\", get_not_nans=False)\n",
    "dice_metric_batch = DiceMetric(include_background=False, reduction=\"mean_batch\")\n",
    "\n",
    "\n",
    "##-----------------------------------------------------------------------------\n",
    "\n",
    "def validation(epoch_iterator_val):\n",
    "        model.eval()\n",
    "        with torch.no_grad():\n",
    "            for step, batch in enumerate(epoch_iterator_val):\n",
    "                val_inputs, val_labels = (batch[\"ct\"].cuda(), batch[\"seg\"].cuda())\n",
    "                val_outputs = sliding_window_inference(val_inputs, (96, 96, 96), 4, model)\n",
    "                val_labels_list = decollate_batch(val_labels)\n",
    "                val_labels_convert = [\n",
    "                    post_label(val_label_tensor) for val_label_tensor in val_labels_list\n",
    "                ]\n",
    "                val_outputs_list = decollate_batch(val_outputs)\n",
    "                val_output_convert = [\n",
    "                    post_pred(val_pred_tensor) for val_pred_tensor in val_outputs_list\n",
    "                ]\n",
    "                dice_metric(y_pred=val_output_convert, y=val_labels_convert)\n",
    "                dice_metric_batch(y_pred=val_output_convert, y=val_labels_convert)\n",
    "                epoch_iterator_val.set_description(\n",
    "                    \"Validate (%d / %d Steps)\" % (global_step, 10.0)\n",
    "                )\n",
    "            mean_dice_val = dice_metric.aggregate().item()\n",
    "            metric_batch_val = dice_metric_batch.aggregate()\n",
    "\n",
    "            metric_tumor = metric_batch_val[0].item()\n",
    "            metric_lymph = metric_batch_val[1].item()\n",
    "\n",
    "            dice_metric.reset()\n",
    "            dice_metric_batch.reset()\n",
    "        return mean_dice_val, metric_tumor, metric_lymph\n",
    "\n",
    "\n",
    "\n",
    "def train(global_step, train_loader, dice_val_best, global_step_best):\n",
    "        model.train()\n",
    "        epoch_loss = 0 \n",
    "        step = 0\n",
    "        epoch_iterator = tqdm(\n",
    "            train_loader, desc=\"Training (X / X Steps) (loss=X.X)\", dynamic_ncols=True\n",
    "        )\n",
    "        \n",
    "        for step, batch in enumerate(epoch_iterator):\n",
    "            step += 1\n",
    "            x, y = (batch[\"ct\"].cuda(), batch[\"seg\"].cuda())\n",
    "            logit_map = model(x, mode=None)\n",
    "            loss = loss_function(logit_map, y)\n",
    "            loss.backward()\n",
    "            epoch_loss += loss.item() \n",
    "            optimizer.step()\n",
    "            optimizer.zero_grad()\n",
    "            epoch_iterator.set_description(\n",
    "                \"Training (%d / %d Steps) (loss=%2.5f)\"\n",
    "                % (global_step, max_iterations, loss)\n",
    "            )\n",
    "            \n",
    "            if (\n",
    "                global_step % eval_num == 0 and global_step != 0\n",
    "            ) or global_step == max_iterations:\n",
    "                epoch_iterator_val = tqdm(\n",
    "                    val_loader, desc=\"Validate (X / X Steps) (dice=X.X)\", dynamic_ncols=True\n",
    "                )\n",
    "                dice_val, metric_tumor, metric_lymph = validation(epoch_iterator_val)\n",
    "                epoch_loss /= step\n",
    "                epoch_loss_values.append(epoch_loss)\n",
    "                metric_values.append(dice_val)\n",
    "                metric_values_tumor.append(metric_tumor)\n",
    "                metric_values_lymph.append(metric_lymph)\n",
    "                if dice_val > dice_val_best:\n",
    "                    dice_val_best = dice_val\n",
    "                    global_step_best = global_step\n",
    "                    torch.save(\n",
    "                        model.state_dict(), os.path.join(model_dir, \"7th_CT'ourapproach.pth\")\n",
    "                    )\n",
    "                    print(\n",
    "                        \"Model Was Saved ! Current Best Avg. Dice: {} Current Avg. Dice: {} Current Avg. tumor Dice: {} Current Avg. lymph Dice: {}\".format(\n",
    "                            dice_val_best, dice_val, metric_tumor, metric_lymph\n",
    "                        )\n",
    "                    )\n",
    "                else:\n",
    "                    print(\n",
    "                        \"Model Was Not Saved ! Current Best Avg. Dice: {} Current Avg. Dice: {} Current Avg. tumor Dice: {} Current Avg. lymph Dice: {}\".format(\n",
    "                            dice_val_best, dice_val,  metric_tumor, metric_lymph\n",
    "                        )\n",
    "                    )\n",
    "            global_step += 1\n",
    "        return global_step, dice_val_best, global_step_best\n"
   ]
  },
  {
   "cell_type": "code",
   "execution_count": 15,
   "metadata": {},
   "outputs": [
    {
     "name": "stderr",
     "output_type": "stream",
     "text": [
      "Training (6 / 18000 Steps) (loss=1.64657): 100%|██████████| 7/7 [01:29<00:00, 12.81s/it]\n",
      "Training (13 / 18000 Steps) (loss=1.04164): 100%|██████████| 7/7 [00:18<00:00,  2.62s/it]\n",
      "Training (20 / 18000 Steps) (loss=0.72133): 100%|██████████| 7/7 [00:18<00:00,  2.65s/it]\n",
      "Training (27 / 18000 Steps) (loss=0.73557): 100%|██████████| 7/7 [00:18<00:00,  2.66s/it]\n",
      "Training (34 / 18000 Steps) (loss=0.68119): 100%|██████████| 7/7 [00:17<00:00,  2.48s/it]\n",
      "Training (41 / 18000 Steps) (loss=0.72056): 100%|██████████| 7/7 [00:18<00:00,  2.64s/it]\n",
      "Training (48 / 18000 Steps) (loss=0.76661): 100%|██████████| 7/7 [00:18<00:00,  2.60s/it]\n",
      "Training (55 / 18000 Steps) (loss=0.69840): 100%|██████████| 7/7 [00:17<00:00,  2.57s/it]\n",
      "Training (62 / 18000 Steps) (loss=0.80815): 100%|██████████| 7/7 [00:17<00:00,  2.53s/it]\n",
      "Training (69 / 18000 Steps) (loss=0.65484): 100%|██████████| 7/7 [00:18<00:00,  2.58s/it]\n",
      "Training (76 / 18000 Steps) (loss=0.77352): 100%|██████████| 7/7 [00:17<00:00,  2.53s/it]\n",
      "Training (83 / 18000 Steps) (loss=0.76154): 100%|██████████| 7/7 [00:17<00:00,  2.49s/it]\n",
      "Training (90 / 18000 Steps) (loss=0.65310): 100%|██████████| 7/7 [00:17<00:00,  2.53s/it]\n",
      "Training (97 / 18000 Steps) (loss=0.75247): 100%|██████████| 7/7 [00:17<00:00,  2.45s/it]\n",
      "Validate (98 / 10 Steps): 100%|██████████| 2/2 [00:11<00:00,  5.85s/it]0<00:18,  3.63s/it]\n",
      "Training (100 / 18000 Steps) (loss=0.66173):  43%|████▎     | 3/7 [00:23<00:36,  9.09s/it]"
     ]
    },
    {
     "name": "stdout",
     "output_type": "stream",
     "text": [
      "Model Was Saved ! Current Best Avg. Dice: 0.03603697568178177 Current Avg. Dice: 0.03603697568178177 Current Avg. tumor Dice: 0.06793370097875595 Current Avg. lymph Dice: 0.004140248987823725\n"
     ]
    },
    {
     "name": "stderr",
     "output_type": "stream",
     "text": [
      "Training (104 / 18000 Steps) (loss=0.69925): 100%|██████████| 7/7 [00:31<00:00,  4.54s/it]\n",
      "Training (111 / 18000 Steps) (loss=0.72973): 100%|██████████| 7/7 [00:16<00:00,  2.38s/it]\n",
      "Training (118 / 18000 Steps) (loss=0.73976): 100%|██████████| 7/7 [00:17<00:00,  2.49s/it]\n",
      "Training (125 / 18000 Steps) (loss=0.69679): 100%|██████████| 7/7 [00:18<00:00,  2.59s/it]\n",
      "Training (132 / 18000 Steps) (loss=0.63635): 100%|██████████| 7/7 [00:16<00:00,  2.32s/it]\n",
      "Training (139 / 18000 Steps) (loss=0.67269): 100%|██████████| 7/7 [00:18<00:00,  2.60s/it]\n",
      "Training (146 / 18000 Steps) (loss=0.63471): 100%|██████████| 7/7 [00:18<00:00,  2.57s/it]\n",
      "Training (153 / 18000 Steps) (loss=0.69971): 100%|██████████| 7/7 [00:17<00:00,  2.46s/it]\n",
      "Training (160 / 18000 Steps) (loss=0.82959): 100%|██████████| 7/7 [00:17<00:00,  2.44s/it]\n",
      "Training (167 / 18000 Steps) (loss=0.69722): 100%|██████████| 7/7 [00:16<00:00,  2.32s/it]\n",
      "Training (174 / 18000 Steps) (loss=0.74225): 100%|██████████| 7/7 [00:15<00:00,  2.25s/it]\n",
      "Training (181 / 18000 Steps) (loss=0.70760): 100%|██████████| 7/7 [00:16<00:00,  2.43s/it]\n",
      "Training (188 / 18000 Steps) (loss=0.66914): 100%|██████████| 7/7 [00:16<00:00,  2.34s/it]\n",
      "Training (195 / 18000 Steps) (loss=0.66065): 100%|██████████| 7/7 [00:16<00:00,  2.34s/it]\n",
      "Validate (196 / 10 Steps): 100%|██████████| 2/2 [00:10<00:00,  5.37s/it]<00:07,  2.45s/it]\n",
      "Training (200 / 18000 Steps) (loss=0.72749):  71%|███████▏  | 5/7 [00:25<00:13,  6.68s/it]"
     ]
    },
    {
     "name": "stdout",
     "output_type": "stream",
     "text": [
      "Model Was Saved ! Current Best Avg. Dice: 0.09241661429405212 Current Avg. Dice: 0.09241661429405212 Current Avg. tumor Dice: 0.11114971339702606 Current Avg. lymph Dice: 0.07368351519107819\n"
     ]
    },
    {
     "name": "stderr",
     "output_type": "stream",
     "text": [
      "Training (202 / 18000 Steps) (loss=0.62936): 100%|██████████| 7/7 [00:29<00:00,  4.22s/it]\n",
      "Training (209 / 18000 Steps) (loss=0.65781): 100%|██████████| 7/7 [00:17<00:00,  2.50s/it]\n",
      "Training (216 / 18000 Steps) (loss=0.60997): 100%|██████████| 7/7 [00:17<00:00,  2.48s/it]\n",
      "Training (223 / 18000 Steps) (loss=0.68150): 100%|██████████| 7/7 [00:17<00:00,  2.44s/it]\n",
      "Training (230 / 18000 Steps) (loss=0.68718): 100%|██████████| 7/7 [00:15<00:00,  2.27s/it]\n",
      "Training (237 / 18000 Steps) (loss=0.57306): 100%|██████████| 7/7 [00:17<00:00,  2.56s/it]\n",
      "Training (244 / 18000 Steps) (loss=0.60338): 100%|██████████| 7/7 [00:17<00:00,  2.48s/it]\n",
      "Training (251 / 18000 Steps) (loss=0.61843): 100%|██████████| 7/7 [00:17<00:00,  2.50s/it]\n",
      "Training (258 / 18000 Steps) (loss=0.64379): 100%|██████████| 7/7 [00:16<00:00,  2.40s/it]\n",
      "Training (265 / 18000 Steps) (loss=0.54676): 100%|██████████| 7/7 [00:16<00:00,  2.42s/it]\n",
      "Training (272 / 18000 Steps) (loss=0.74177): 100%|██████████| 7/7 [00:17<00:00,  2.48s/it]\n",
      "Training (279 / 18000 Steps) (loss=0.68078): 100%|██████████| 7/7 [00:16<00:00,  2.34s/it]\n",
      "Training (286 / 18000 Steps) (loss=0.55861): 100%|██████████| 7/7 [00:15<00:00,  2.27s/it]\n",
      "Training (293 / 18000 Steps) (loss=0.59522): 100%|██████████| 7/7 [00:17<00:00,  2.47s/it]\n",
      "Validate (294 / 10 Steps): 100%|██████████| 2/2 [00:10<00:00,  5.27s/it]<00:02,  2.17s/it]\n",
      "Training (300 / 18000 Steps) (loss=0.65810): 100%|██████████| 7/7 [00:28<00:00,  4.06s/it]\n"
     ]
    },
    {
     "name": "stdout",
     "output_type": "stream",
     "text": [
      "Model Was Saved ! Current Best Avg. Dice: 0.14382119476795197 Current Avg. Dice: 0.14382119476795197 Current Avg. tumor Dice: 0.15871910750865936 Current Avg. lymph Dice: 0.12892326712608337\n"
     ]
    },
    {
     "name": "stderr",
     "output_type": "stream",
     "text": [
      "Training (307 / 18000 Steps) (loss=0.48933): 100%|██████████| 7/7 [00:16<00:00,  2.37s/it]\n",
      "Training (314 / 18000 Steps) (loss=0.59613): 100%|██████████| 7/7 [00:16<00:00,  2.40s/it]\n",
      "Training (321 / 18000 Steps) (loss=0.58256): 100%|██████████| 7/7 [00:16<00:00,  2.39s/it]\n",
      "Training (328 / 18000 Steps) (loss=0.67931): 100%|██████████| 7/7 [00:16<00:00,  2.31s/it]\n",
      "Training (335 / 18000 Steps) (loss=0.78197): 100%|██████████| 7/7 [00:16<00:00,  2.38s/it]\n",
      "Training (342 / 18000 Steps) (loss=0.74311): 100%|██████████| 7/7 [00:16<00:00,  2.39s/it]\n",
      "Training (349 / 18000 Steps) (loss=0.67130): 100%|██████████| 7/7 [00:17<00:00,  2.47s/it]\n",
      "Training (356 / 18000 Steps) (loss=0.69949): 100%|██████████| 7/7 [00:16<00:00,  2.41s/it]\n",
      "Training (363 / 18000 Steps) (loss=0.68993): 100%|██████████| 7/7 [00:17<00:00,  2.44s/it]\n",
      "Training (370 / 18000 Steps) (loss=0.74642): 100%|██████████| 7/7 [00:17<00:00,  2.51s/it]\n",
      "Training (377 / 18000 Steps) (loss=0.60692): 100%|██████████| 7/7 [00:16<00:00,  2.39s/it]\n",
      "Training (384 / 18000 Steps) (loss=0.67150): 100%|██████████| 7/7 [00:16<00:00,  2.40s/it]\n",
      "Training (391 / 18000 Steps) (loss=0.69390): 100%|██████████| 7/7 [00:17<00:00,  2.44s/it]\n",
      "Training (398 / 18000 Steps) (loss=0.64097): 100%|██████████| 7/7 [00:16<00:00,  2.40s/it]\n",
      "Validate (399 / 10 Steps): 100%|██████████| 2/2 [00:10<00:00,  5.15s/it]<00:30,  5.05s/it]\n",
      "Training (400 / 18000 Steps) (loss=0.59199):  29%|██▊       | 2/7 [00:18<00:49,  9.82s/it]"
     ]
    },
    {
     "name": "stdout",
     "output_type": "stream",
     "text": [
      "Model Was Saved ! Current Best Avg. Dice: 0.15958531200885773 Current Avg. Dice: 0.15958531200885773 Current Avg. tumor Dice: 0.17236700654029846 Current Avg. lymph Dice: 0.1468035876750946\n"
     ]
    },
    {
     "name": "stderr",
     "output_type": "stream",
     "text": [
      "Training (405 / 18000 Steps) (loss=0.57441): 100%|██████████| 7/7 [00:27<00:00,  3.96s/it]\n",
      "Training (412 / 18000 Steps) (loss=0.69057): 100%|██████████| 7/7 [00:16<00:00,  2.40s/it]\n",
      "Training (419 / 18000 Steps) (loss=0.68425): 100%|██████████| 7/7 [00:16<00:00,  2.37s/it]\n",
      "Training (426 / 18000 Steps) (loss=0.50629): 100%|██████████| 7/7 [00:16<00:00,  2.40s/it]\n",
      "Training (433 / 18000 Steps) (loss=0.63992): 100%|██████████| 7/7 [00:16<00:00,  2.42s/it]\n",
      "Training (440 / 18000 Steps) (loss=0.64267): 100%|██████████| 7/7 [00:17<00:00,  2.46s/it]\n",
      "Training (447 / 18000 Steps) (loss=0.70356): 100%|██████████| 7/7 [00:16<00:00,  2.39s/it]\n",
      "Training (454 / 18000 Steps) (loss=0.46619): 100%|██████████| 7/7 [00:16<00:00,  2.36s/it]\n",
      "Training (461 / 18000 Steps) (loss=0.53140): 100%|██████████| 7/7 [00:17<00:00,  2.47s/it]\n",
      "Training (468 / 18000 Steps) (loss=0.57290): 100%|██████████| 7/7 [00:16<00:00,  2.42s/it]\n",
      "Training (475 / 18000 Steps) (loss=0.54691): 100%|██████████| 7/7 [00:16<00:00,  2.39s/it]\n",
      "Training (482 / 18000 Steps) (loss=0.51056): 100%|██████████| 7/7 [00:16<00:00,  2.40s/it]\n",
      "Training (489 / 18000 Steps) (loss=0.65012): 100%|██████████| 7/7 [00:16<00:00,  2.42s/it]\n",
      "Training (496 / 18000 Steps) (loss=0.47010): 100%|██████████| 7/7 [00:17<00:00,  2.49s/it]\n",
      "Validate (497 / 10 Steps): 100%|██████████| 2/2 [00:10<00:00,  5.23s/it]<00:10,  2.72s/it]\n",
      "Training (500 / 18000 Steps) (loss=0.58650):  57%|█████▋    | 4/7 [00:22<00:20,  6.94s/it]"
     ]
    },
    {
     "name": "stdout",
     "output_type": "stream",
     "text": [
      "Model Was Saved ! Current Best Avg. Dice: 0.2359800636768341 Current Avg. Dice: 0.2359800636768341 Current Avg. tumor Dice: 0.26498284935951233 Current Avg. lymph Dice: 0.2069772481918335\n"
     ]
    },
    {
     "name": "stderr",
     "output_type": "stream",
     "text": [
      "Training (503 / 18000 Steps) (loss=0.79859): 100%|██████████| 7/7 [00:27<00:00,  3.99s/it]\n",
      "Training (510 / 18000 Steps) (loss=0.59962): 100%|██████████| 7/7 [00:16<00:00,  2.39s/it]\n",
      "Training (517 / 18000 Steps) (loss=0.55390): 100%|██████████| 7/7 [00:16<00:00,  2.41s/it]\n",
      "Training (524 / 18000 Steps) (loss=0.64397): 100%|██████████| 7/7 [00:16<00:00,  2.42s/it]\n",
      "Training (531 / 18000 Steps) (loss=0.67098): 100%|██████████| 7/7 [00:16<00:00,  2.40s/it]\n",
      "Training (538 / 18000 Steps) (loss=0.54848): 100%|██████████| 7/7 [00:17<00:00,  2.43s/it]\n",
      "Training (545 / 18000 Steps) (loss=0.60442): 100%|██████████| 7/7 [00:17<00:00,  2.46s/it]\n",
      "Training (552 / 18000 Steps) (loss=0.59977): 100%|██████████| 7/7 [00:16<00:00,  2.43s/it]\n",
      "Training (559 / 18000 Steps) (loss=0.40928): 100%|██████████| 7/7 [00:16<00:00,  2.41s/it]\n",
      "Training (566 / 18000 Steps) (loss=0.62727): 100%|██████████| 7/7 [00:17<00:00,  2.47s/it]\n",
      "Training (573 / 18000 Steps) (loss=0.68955): 100%|██████████| 7/7 [00:17<00:00,  2.43s/it]\n",
      "Training (580 / 18000 Steps) (loss=0.52044): 100%|██████████| 7/7 [00:16<00:00,  2.41s/it]\n",
      "Training (587 / 18000 Steps) (loss=0.66374): 100%|██████████| 7/7 [00:17<00:00,  2.43s/it]\n",
      "Training (594 / 18000 Steps) (loss=0.64079): 100%|██████████| 7/7 [00:17<00:00,  2.47s/it]\n",
      "Validate (595 / 10 Steps): 100%|██████████| 2/2 [00:10<00:00,  5.27s/it]<00:04,  2.34s/it]\n",
      "Training (600 / 18000 Steps) (loss=0.55076):  86%|████████▌ | 6/7 [00:26<00:05,  5.84s/it]"
     ]
    },
    {
     "name": "stdout",
     "output_type": "stream",
     "text": [
      "Model Was Not Saved ! Current Best Avg. Dice: 0.2359800636768341 Current Avg. Dice: 0.2022736668586731 Current Avg. tumor Dice: 0.2435997724533081 Current Avg. lymph Dice: 0.16094759106636047\n"
     ]
    },
    {
     "name": "stderr",
     "output_type": "stream",
     "text": [
      "Training (601 / 18000 Steps) (loss=0.57618): 100%|██████████| 7/7 [00:27<00:00,  3.93s/it]\n",
      "Training (608 / 18000 Steps) (loss=0.67553): 100%|██████████| 7/7 [00:16<00:00,  2.36s/it]\n",
      "Training (615 / 18000 Steps) (loss=0.62460): 100%|██████████| 7/7 [00:16<00:00,  2.43s/it]\n",
      "Training (622 / 18000 Steps) (loss=0.60249): 100%|██████████| 7/7 [00:16<00:00,  2.42s/it]\n",
      "Training (629 / 18000 Steps) (loss=0.61374): 100%|██████████| 7/7 [00:16<00:00,  2.37s/it]\n",
      "Training (636 / 18000 Steps) (loss=0.66703): 100%|██████████| 7/7 [00:16<00:00,  2.43s/it]\n",
      "Training (643 / 18000 Steps) (loss=0.53952): 100%|██████████| 7/7 [00:17<00:00,  2.44s/it]\n",
      "Training (650 / 18000 Steps) (loss=0.58035): 100%|██████████| 7/7 [00:16<00:00,  2.43s/it]\n",
      "Training (657 / 18000 Steps) (loss=0.55160): 100%|██████████| 7/7 [00:16<00:00,  2.41s/it]\n",
      "Training (664 / 18000 Steps) (loss=0.62746): 100%|██████████| 7/7 [00:16<00:00,  2.42s/it]\n",
      "Training (671 / 18000 Steps) (loss=0.62651): 100%|██████████| 7/7 [00:17<00:00,  2.45s/it]\n",
      "Training (678 / 18000 Steps) (loss=0.64718): 100%|██████████| 7/7 [00:17<00:00,  2.43s/it]\n",
      "Training (685 / 18000 Steps) (loss=0.64595): 100%|██████████| 7/7 [00:16<00:00,  2.42s/it]\n",
      "Training (692 / 18000 Steps) (loss=0.59225): 100%|██████████| 7/7 [00:17<00:00,  2.45s/it]\n",
      "Training (699 / 18000 Steps) (loss=0.58653): 100%|██████████| 7/7 [00:17<00:00,  2.43s/it]\n",
      "Validate (700 / 10 Steps): 100%|██████████| 2/2 [00:10<00:00,  5.37s/it]<?, ?it/s]\n",
      "Training (700 / 18000 Steps) (loss=0.62908):  14%|█▍        | 1/7 [00:15<01:34, 15.83s/it]"
     ]
    },
    {
     "name": "stdout",
     "output_type": "stream",
     "text": [
      "Model Was Not Saved ! Current Best Avg. Dice: 0.2359800636768341 Current Avg. Dice: 0.1783846914768219 Current Avg. tumor Dice: 0.21273477375507355 Current Avg. lymph Dice: 0.14403459429740906\n"
     ]
    },
    {
     "name": "stderr",
     "output_type": "stream",
     "text": [
      "Training (706 / 18000 Steps) (loss=0.63966): 100%|██████████| 7/7 [00:27<00:00,  3.97s/it]\n",
      "Training (713 / 18000 Steps) (loss=0.62896): 100%|██████████| 7/7 [00:17<00:00,  2.45s/it]\n",
      "Training (720 / 18000 Steps) (loss=0.63619): 100%|██████████| 7/7 [00:16<00:00,  2.42s/it]\n",
      "Training (727 / 18000 Steps) (loss=0.49616): 100%|██████████| 7/7 [00:16<00:00,  2.41s/it]\n",
      "Training (734 / 18000 Steps) (loss=0.65418): 100%|██████████| 7/7 [00:16<00:00,  2.42s/it]\n",
      "Training (741 / 18000 Steps) (loss=0.59834): 100%|██████████| 7/7 [00:16<00:00,  2.41s/it]\n",
      "Training (748 / 18000 Steps) (loss=0.53098): 100%|██████████| 7/7 [00:16<00:00,  2.41s/it]\n",
      "Training (755 / 18000 Steps) (loss=0.55244): 100%|██████████| 7/7 [00:17<00:00,  2.49s/it]\n",
      "Training (762 / 18000 Steps) (loss=0.46854): 100%|██████████| 7/7 [00:16<00:00,  2.42s/it]\n",
      "Training (769 / 18000 Steps) (loss=0.59373): 100%|██████████| 7/7 [00:17<00:00,  2.44s/it]\n",
      "Training (776 / 18000 Steps) (loss=0.59742): 100%|██████████| 7/7 [00:17<00:00,  2.44s/it]\n",
      "Training (783 / 18000 Steps) (loss=0.51866): 100%|██████████| 7/7 [00:17<00:00,  2.44s/it]\n",
      "Training (790 / 18000 Steps) (loss=0.55904): 100%|██████████| 7/7 [00:16<00:00,  2.41s/it]\n",
      "Training (797 / 18000 Steps) (loss=0.67918): 100%|██████████| 7/7 [00:16<00:00,  2.41s/it]\n",
      "Validate (798 / 10 Steps): 100%|██████████| 2/2 [00:10<00:00,  5.28s/it]<00:16,  3.31s/it]\n",
      "Training (800 / 18000 Steps) (loss=0.45139):  43%|████▎     | 3/7 [00:20<00:30,  7.70s/it]"
     ]
    },
    {
     "name": "stdout",
     "output_type": "stream",
     "text": [
      "Model Was Not Saved ! Current Best Avg. Dice: 0.2359800636768341 Current Avg. Dice: 0.18863607943058014 Current Avg. tumor Dice: 0.18124571442604065 Current Avg. lymph Dice: 0.19602644443511963\n"
     ]
    },
    {
     "name": "stderr",
     "output_type": "stream",
     "text": [
      "Training (804 / 18000 Steps) (loss=0.55078): 100%|██████████| 7/7 [00:27<00:00,  3.97s/it]\n",
      "Training (811 / 18000 Steps) (loss=0.65280): 100%|██████████| 7/7 [00:16<00:00,  2.42s/it]\n",
      "Training (818 / 18000 Steps) (loss=0.66817): 100%|██████████| 7/7 [00:16<00:00,  2.40s/it]\n",
      "Training (825 / 18000 Steps) (loss=0.57684): 100%|██████████| 7/7 [00:16<00:00,  2.42s/it]\n",
      "Training (832 / 18000 Steps) (loss=0.39191): 100%|██████████| 7/7 [00:16<00:00,  2.42s/it]\n",
      "Training (839 / 18000 Steps) (loss=0.60168): 100%|██████████| 7/7 [00:16<00:00,  2.41s/it]\n",
      "Training (846 / 18000 Steps) (loss=0.63768): 100%|██████████| 7/7 [00:17<00:00,  2.46s/it]\n",
      "Training (853 / 18000 Steps) (loss=0.55043): 100%|██████████| 7/7 [00:15<00:00,  2.28s/it]\n",
      "Training (860 / 18000 Steps) (loss=0.45450): 100%|██████████| 7/7 [00:15<00:00,  2.25s/it]\n",
      "Training (867 / 18000 Steps) (loss=0.60285): 100%|██████████| 7/7 [00:16<00:00,  2.41s/it]\n",
      "Training (874 / 18000 Steps) (loss=0.63763): 100%|██████████| 7/7 [00:17<00:00,  2.45s/it]\n",
      "Training (881 / 18000 Steps) (loss=0.69435): 100%|██████████| 7/7 [00:17<00:00,  2.49s/it]\n",
      "Training (888 / 18000 Steps) (loss=0.37500): 100%|██████████| 7/7 [00:17<00:00,  2.44s/it]\n",
      "Training (895 / 18000 Steps) (loss=0.49305): 100%|██████████| 7/7 [00:16<00:00,  2.42s/it]\n",
      "Validate (896 / 10 Steps): 100%|██████████| 2/2 [00:10<00:00,  5.36s/it]<00:07,  2.59s/it]\n",
      "Training (900 / 18000 Steps) (loss=0.57726):  71%|███████▏  | 5/7 [00:25<00:13,  6.61s/it]"
     ]
    },
    {
     "name": "stdout",
     "output_type": "stream",
     "text": [
      "Model Was Saved ! Current Best Avg. Dice: 0.2659054398536682 Current Avg. Dice: 0.2659054398536682 Current Avg. tumor Dice: 0.3064382076263428 Current Avg. lymph Dice: 0.22537267208099365\n"
     ]
    },
    {
     "name": "stderr",
     "output_type": "stream",
     "text": [
      "Training (902 / 18000 Steps) (loss=0.60145): 100%|██████████| 7/7 [00:29<00:00,  4.15s/it]\n",
      "Training (909 / 18000 Steps) (loss=0.53153): 100%|██████████| 7/7 [00:16<00:00,  2.37s/it]\n",
      "Training (916 / 18000 Steps) (loss=0.56155): 100%|██████████| 7/7 [00:17<00:00,  2.50s/it]\n",
      "Training (923 / 18000 Steps) (loss=0.64269): 100%|██████████| 7/7 [00:16<00:00,  2.39s/it]\n",
      "Training (930 / 18000 Steps) (loss=0.47579): 100%|██████████| 7/7 [00:17<00:00,  2.43s/it]\n",
      "Training (937 / 18000 Steps) (loss=0.54413): 100%|██████████| 7/7 [00:16<00:00,  2.38s/it]\n",
      "Training (944 / 18000 Steps) (loss=0.53001): 100%|██████████| 7/7 [00:16<00:00,  2.40s/it]\n",
      "Training (951 / 18000 Steps) (loss=0.60172): 100%|██████████| 7/7 [00:17<00:00,  2.47s/it]\n",
      "Training (958 / 18000 Steps) (loss=0.61460): 100%|██████████| 7/7 [00:17<00:00,  2.44s/it]\n",
      "Training (965 / 18000 Steps) (loss=0.58797): 100%|██████████| 7/7 [00:16<00:00,  2.42s/it]\n",
      "Training (972 / 18000 Steps) (loss=0.53765): 100%|██████████| 7/7 [00:16<00:00,  2.42s/it]\n",
      "Training (979 / 18000 Steps) (loss=0.53506): 100%|██████████| 7/7 [00:16<00:00,  2.38s/it]\n",
      "Training (986 / 18000 Steps) (loss=0.52063): 100%|██████████| 7/7 [00:17<00:00,  2.48s/it]\n",
      "Training (993 / 18000 Steps) (loss=0.58892): 100%|██████████| 7/7 [00:17<00:00,  2.49s/it]\n",
      "Validate (994 / 10 Steps): 100%|██████████| 2/2 [00:10<00:00,  5.37s/it]7<00:02,  2.29s/it]\n",
      "Training (1000 / 18000 Steps) (loss=0.61697): 100%|██████████| 7/7 [00:28<00:00,  4.04s/it]\n"
     ]
    },
    {
     "name": "stdout",
     "output_type": "stream",
     "text": [
      "Model Was Not Saved ! Current Best Avg. Dice: 0.2659054398536682 Current Avg. Dice: 0.23863817751407623 Current Avg. tumor Dice: 0.2702840268611908 Current Avg. lymph Dice: 0.20699232816696167\n"
     ]
    },
    {
     "name": "stderr",
     "output_type": "stream",
     "text": [
      "Training (1007 / 18000 Steps) (loss=0.61466): 100%|██████████| 7/7 [00:16<00:00,  2.41s/it]\n",
      "Training (1014 / 18000 Steps) (loss=0.30176): 100%|██████████| 7/7 [00:17<00:00,  2.47s/it]\n",
      "Training (1021 / 18000 Steps) (loss=0.59974): 100%|██████████| 7/7 [00:17<00:00,  2.46s/it]\n",
      "Training (1028 / 18000 Steps) (loss=0.45675): 100%|██████████| 7/7 [00:16<00:00,  2.41s/it]\n",
      "Training (1035 / 18000 Steps) (loss=0.40091): 100%|██████████| 7/7 [00:17<00:00,  2.43s/it]\n",
      "Training (1042 / 18000 Steps) (loss=0.61137): 100%|██████████| 7/7 [00:16<00:00,  2.40s/it]\n",
      "Training (1049 / 18000 Steps) (loss=0.64539): 100%|██████████| 7/7 [00:16<00:00,  2.41s/it]\n",
      "Training (1056 / 18000 Steps) (loss=0.66609): 100%|██████████| 7/7 [00:17<00:00,  2.43s/it]\n",
      "Training (1063 / 18000 Steps) (loss=0.46392): 100%|██████████| 7/7 [00:17<00:00,  2.45s/it]\n",
      "Training (1070 / 18000 Steps) (loss=0.65465): 100%|██████████| 7/7 [00:16<00:00,  2.40s/it]\n",
      "Training (1077 / 18000 Steps) (loss=0.51453): 100%|██████████| 7/7 [00:16<00:00,  2.41s/it]\n",
      "Training (1084 / 18000 Steps) (loss=0.60336): 100%|██████████| 7/7 [00:16<00:00,  2.36s/it]\n",
      "Training (1091 / 18000 Steps) (loss=0.60420): 100%|██████████| 7/7 [00:17<00:00,  2.44s/it]\n",
      "Training (1098 / 18000 Steps) (loss=0.56633): 100%|██████████| 7/7 [00:17<00:00,  2.44s/it]\n",
      "Validate (1099 / 10 Steps): 100%|██████████| 2/2 [00:10<00:00,  5.31s/it]<00:31,  5.27s/it]\n",
      "Training (1100 / 18000 Steps) (loss=0.54975):  29%|██▊       | 2/7 [00:17<00:47,  9.54s/it]"
     ]
    },
    {
     "name": "stdout",
     "output_type": "stream",
     "text": [
      "Model Was Not Saved ! Current Best Avg. Dice: 0.2659054398536682 Current Avg. Dice: 0.2063710242509842 Current Avg. tumor Dice: 0.1809585988521576 Current Avg. lymph Dice: 0.2317834496498108\n"
     ]
    },
    {
     "name": "stderr",
     "output_type": "stream",
     "text": [
      "Training (1105 / 18000 Steps) (loss=0.56876): 100%|██████████| 7/7 [00:27<00:00,  3.93s/it]\n",
      "Training (1112 / 18000 Steps) (loss=0.45268): 100%|██████████| 7/7 [00:16<00:00,  2.41s/it]\n",
      "Training (1119 / 18000 Steps) (loss=0.54408): 100%|██████████| 7/7 [00:16<00:00,  2.37s/it]\n",
      "Training (1126 / 18000 Steps) (loss=0.39727): 100%|██████████| 7/7 [00:17<00:00,  2.46s/it]\n",
      "Training (1133 / 18000 Steps) (loss=0.62091): 100%|██████████| 7/7 [00:17<00:00,  2.45s/it]\n",
      "Training (1140 / 18000 Steps) (loss=0.61813): 100%|██████████| 7/7 [00:16<00:00,  2.38s/it]\n",
      "Training (1147 / 18000 Steps) (loss=0.44276): 100%|██████████| 7/7 [00:16<00:00,  2.42s/it]\n",
      "Training (1154 / 18000 Steps) (loss=0.59392): 100%|██████████| 7/7 [00:16<00:00,  2.42s/it]\n",
      "Training (1161 / 18000 Steps) (loss=0.47176): 100%|██████████| 7/7 [00:16<00:00,  2.40s/it]\n",
      "Training (1168 / 18000 Steps) (loss=0.36760): 100%|██████████| 7/7 [00:16<00:00,  2.40s/it]\n",
      "Training (1175 / 18000 Steps) (loss=0.54591): 100%|██████████| 7/7 [00:16<00:00,  2.40s/it]\n",
      "Training (1182 / 18000 Steps) (loss=0.58179): 100%|██████████| 7/7 [00:16<00:00,  2.40s/it]\n",
      "Training (1189 / 18000 Steps) (loss=0.48208): 100%|██████████| 7/7 [00:16<00:00,  2.39s/it]\n",
      "Training (1196 / 18000 Steps) (loss=0.69606): 100%|██████████| 7/7 [00:16<00:00,  2.40s/it]\n",
      "Validate (1197 / 10 Steps): 100%|██████████| 2/2 [00:10<00:00,  5.34s/it]<00:11,  2.76s/it]\n",
      "Training (1200 / 18000 Steps) (loss=0.60712):  57%|█████▋    | 4/7 [00:23<00:21,  7.13s/it]"
     ]
    },
    {
     "name": "stdout",
     "output_type": "stream",
     "text": [
      "Model Was Saved ! Current Best Avg. Dice: 0.26894575357437134 Current Avg. Dice: 0.26894575357437134 Current Avg. tumor Dice: 0.28783807158470154 Current Avg. lymph Dice: 0.25005343556404114\n"
     ]
    },
    {
     "name": "stderr",
     "output_type": "stream",
     "text": [
      "Training (1203 / 18000 Steps) (loss=0.65988): 100%|██████████| 7/7 [00:29<00:00,  4.15s/it]\n",
      "Training (1210 / 18000 Steps) (loss=0.55052): 100%|██████████| 7/7 [00:17<00:00,  2.44s/it]\n",
      "Training (1217 / 18000 Steps) (loss=0.51463): 100%|██████████| 7/7 [00:16<00:00,  2.41s/it]\n",
      "Training (1224 / 18000 Steps) (loss=0.65190): 100%|██████████| 7/7 [00:16<00:00,  2.37s/it]\n",
      "Training (1231 / 18000 Steps) (loss=0.51107): 100%|██████████| 7/7 [00:17<00:00,  2.44s/it]\n",
      "Training (1238 / 18000 Steps) (loss=0.54158): 100%|██████████| 7/7 [00:17<00:00,  2.47s/it]\n",
      "Training (1245 / 18000 Steps) (loss=0.46022): 100%|██████████| 7/7 [00:16<00:00,  2.40s/it]\n",
      "Training (1252 / 18000 Steps) (loss=0.62774): 100%|██████████| 7/7 [00:16<00:00,  2.39s/it]\n",
      "Training (1259 / 18000 Steps) (loss=0.62946): 100%|██████████| 7/7 [00:17<00:00,  2.45s/it]\n",
      "Training (1266 / 18000 Steps) (loss=0.49602): 100%|██████████| 7/7 [00:16<00:00,  2.41s/it]\n",
      "Training (1273 / 18000 Steps) (loss=0.60753): 100%|██████████| 7/7 [00:16<00:00,  2.40s/it]\n",
      "Training (1280 / 18000 Steps) (loss=0.51052): 100%|██████████| 7/7 [00:16<00:00,  2.41s/it]\n",
      "Training (1287 / 18000 Steps) (loss=0.59472): 100%|██████████| 7/7 [00:16<00:00,  2.40s/it]\n",
      "Training (1294 / 18000 Steps) (loss=0.56022): 100%|██████████| 7/7 [00:16<00:00,  2.41s/it]\n",
      "Validate (1295 / 10 Steps): 100%|██████████| 2/2 [00:10<00:00,  5.37s/it]<00:04,  2.29s/it]\n",
      "Training (1300 / 18000 Steps) (loss=0.44996):  86%|████████▌ | 6/7 [00:26<00:06,  6.19s/it]"
     ]
    },
    {
     "name": "stdout",
     "output_type": "stream",
     "text": [
      "Model Was Saved ! Current Best Avg. Dice: 0.27655690908432007 Current Avg. Dice: 0.27655690908432007 Current Avg. tumor Dice: 0.26669222116470337 Current Avg. lymph Dice: 0.28642162680625916\n"
     ]
    },
    {
     "name": "stderr",
     "output_type": "stream",
     "text": [
      "Training (1301 / 18000 Steps) (loss=0.59386): 100%|██████████| 7/7 [00:28<00:00,  4.09s/it]\n",
      "Training (1308 / 18000 Steps) (loss=0.56868): 100%|██████████| 7/7 [00:17<00:00,  2.46s/it]\n",
      "Training (1315 / 18000 Steps) (loss=0.40034): 100%|██████████| 7/7 [00:17<00:00,  2.49s/it]\n",
      "Training (1322 / 18000 Steps) (loss=0.66715): 100%|██████████| 7/7 [00:17<00:00,  2.47s/it]\n",
      "Training (1329 / 18000 Steps) (loss=0.49038): 100%|██████████| 7/7 [00:16<00:00,  2.40s/it]\n",
      "Training (1336 / 18000 Steps) (loss=0.51831): 100%|██████████| 7/7 [00:17<00:00,  2.45s/it]\n",
      "Training (1343 / 18000 Steps) (loss=0.45892): 100%|██████████| 7/7 [00:17<00:00,  2.45s/it]\n",
      "Training (1350 / 18000 Steps) (loss=0.43868): 100%|██████████| 7/7 [00:16<00:00,  2.43s/it]\n",
      "Training (1357 / 18000 Steps) (loss=0.51778): 100%|██████████| 7/7 [00:17<00:00,  2.49s/it]\n",
      "Training (1364 / 18000 Steps) (loss=0.48351): 100%|██████████| 7/7 [00:17<00:00,  2.43s/it]\n",
      "Training (1371 / 18000 Steps) (loss=0.46898): 100%|██████████| 7/7 [00:17<00:00,  2.43s/it]\n",
      "Training (1378 / 18000 Steps) (loss=0.56250): 100%|██████████| 7/7 [00:17<00:00,  2.45s/it]\n",
      "Training (1385 / 18000 Steps) (loss=0.62637): 100%|██████████| 7/7 [00:17<00:00,  2.47s/it]\n",
      "Training (1392 / 18000 Steps) (loss=0.47729): 100%|██████████| 7/7 [00:16<00:00,  2.42s/it]\n",
      "Training (1399 / 18000 Steps) (loss=0.66845): 100%|██████████| 7/7 [00:16<00:00,  2.41s/it]\n",
      "Validate (1400 / 10 Steps): 100%|██████████| 2/2 [00:10<00:00,  5.39s/it]<?, ?it/s]\n",
      "Training (1400 / 18000 Steps) (loss=0.64083):  14%|█▍        | 1/7 [00:16<01:40, 16.76s/it]"
     ]
    },
    {
     "name": "stdout",
     "output_type": "stream",
     "text": [
      "Model Was Saved ! Current Best Avg. Dice: 0.3020746111869812 Current Avg. Dice: 0.3020746111869812 Current Avg. tumor Dice: 0.3509969115257263 Current Avg. lymph Dice: 0.2531522810459137\n"
     ]
    },
    {
     "name": "stderr",
     "output_type": "stream",
     "text": [
      "Training (1406 / 18000 Steps) (loss=0.61115): 100%|██████████| 7/7 [00:28<00:00,  4.14s/it]\n",
      "Training (1413 / 18000 Steps) (loss=0.61361): 100%|██████████| 7/7 [00:17<00:00,  2.44s/it]\n",
      "Training (1420 / 18000 Steps) (loss=0.71966): 100%|██████████| 7/7 [00:17<00:00,  2.45s/it]\n",
      "Training (1427 / 18000 Steps) (loss=0.31063): 100%|██████████| 7/7 [00:17<00:00,  2.45s/it]\n",
      "Training (1434 / 18000 Steps) (loss=0.53122): 100%|██████████| 7/7 [00:16<00:00,  2.43s/it]\n",
      "Training (1441 / 18000 Steps) (loss=0.42094): 100%|██████████| 7/7 [00:16<00:00,  2.42s/it]\n",
      "Training (1448 / 18000 Steps) (loss=0.52562): 100%|██████████| 7/7 [00:17<00:00,  2.46s/it]\n",
      "Training (1455 / 18000 Steps) (loss=0.67228): 100%|██████████| 7/7 [00:17<00:00,  2.52s/it]\n",
      "Training (1462 / 18000 Steps) (loss=0.52886): 100%|██████████| 7/7 [00:16<00:00,  2.40s/it]\n",
      "Training (1469 / 18000 Steps) (loss=0.58409): 100%|██████████| 7/7 [00:16<00:00,  2.39s/it]\n",
      "Training (1476 / 18000 Steps) (loss=0.64772): 100%|██████████| 7/7 [00:16<00:00,  2.38s/it]\n",
      "Training (1483 / 18000 Steps) (loss=0.49803): 100%|██████████| 7/7 [00:17<00:00,  2.45s/it]\n",
      "Training (1490 / 18000 Steps) (loss=0.36301): 100%|██████████| 7/7 [00:17<00:00,  2.48s/it]\n",
      "Training (1497 / 18000 Steps) (loss=0.62357): 100%|██████████| 7/7 [00:16<00:00,  2.41s/it]\n",
      "Validate (1498 / 10 Steps): 100%|██████████| 2/2 [00:10<00:00,  5.36s/it]<00:16,  3.29s/it]\n",
      "Training (1500 / 18000 Steps) (loss=0.53924):  43%|████▎     | 3/7 [00:19<00:30,  7.65s/it]"
     ]
    },
    {
     "name": "stdout",
     "output_type": "stream",
     "text": [
      "Model Was Not Saved ! Current Best Avg. Dice: 0.3020746111869812 Current Avg. Dice: 0.2562257647514343 Current Avg. tumor Dice: 0.22470805048942566 Current Avg. lymph Dice: 0.2877435088157654\n"
     ]
    },
    {
     "name": "stderr",
     "output_type": "stream",
     "text": [
      "Training (1504 / 18000 Steps) (loss=0.66263): 100%|██████████| 7/7 [00:27<00:00,  3.96s/it]\n",
      "Training (1511 / 18000 Steps) (loss=0.60108): 100%|██████████| 7/7 [00:16<00:00,  2.42s/it]\n",
      "Training (1518 / 18000 Steps) (loss=0.61287): 100%|██████████| 7/7 [00:16<00:00,  2.40s/it]\n",
      "Training (1525 / 18000 Steps) (loss=0.43979): 100%|██████████| 7/7 [00:16<00:00,  2.41s/it]\n",
      "Training (1532 / 18000 Steps) (loss=0.57656): 100%|██████████| 7/7 [00:16<00:00,  2.43s/it]\n",
      "Training (1539 / 18000 Steps) (loss=0.55918): 100%|██████████| 7/7 [00:16<00:00,  2.37s/it]\n",
      "Training (1546 / 18000 Steps) (loss=0.61285): 100%|██████████| 7/7 [00:16<00:00,  2.42s/it]\n",
      "Training (1553 / 18000 Steps) (loss=0.59684): 100%|██████████| 7/7 [00:17<00:00,  2.49s/it]\n",
      "Training (1560 / 18000 Steps) (loss=0.64601): 100%|██████████| 7/7 [00:16<00:00,  2.40s/it]\n",
      "Training (1567 / 18000 Steps) (loss=0.31761): 100%|██████████| 7/7 [00:17<00:00,  2.45s/it]\n",
      "Training (1574 / 18000 Steps) (loss=0.52033): 100%|██████████| 7/7 [00:16<00:00,  2.38s/it]\n",
      "Training (1581 / 18000 Steps) (loss=0.38070): 100%|██████████| 7/7 [00:16<00:00,  2.39s/it]\n",
      "Training (1588 / 18000 Steps) (loss=0.53883): 100%|██████████| 7/7 [00:16<00:00,  2.40s/it]\n",
      "Training (1595 / 18000 Steps) (loss=0.42669): 100%|██████████| 7/7 [00:16<00:00,  2.39s/it]\n",
      "Validate (1596 / 10 Steps): 100%|██████████| 2/2 [00:10<00:00,  5.30s/it]<00:07,  2.51s/it]\n",
      "Training (1600 / 18000 Steps) (loss=0.41563):  71%|███████▏  | 5/7 [00:24<00:12,  6.49s/it]"
     ]
    },
    {
     "name": "stdout",
     "output_type": "stream",
     "text": [
      "Model Was Saved ! Current Best Avg. Dice: 0.33310920000076294 Current Avg. Dice: 0.33310920000076294 Current Avg. tumor Dice: 0.30726733803749084 Current Avg. lymph Dice: 0.35895106196403503\n"
     ]
    },
    {
     "name": "stderr",
     "output_type": "stream",
     "text": [
      "Training (1602 / 18000 Steps) (loss=0.37759): 100%|██████████| 7/7 [00:28<00:00,  4.10s/it]\n",
      "Training (1609 / 18000 Steps) (loss=0.51333): 100%|██████████| 7/7 [00:16<00:00,  2.42s/it]\n",
      "Training (1616 / 18000 Steps) (loss=0.53931): 100%|██████████| 7/7 [00:16<00:00,  2.42s/it]\n",
      "Training (1623 / 18000 Steps) (loss=0.49533): 100%|██████████| 7/7 [00:16<00:00,  2.39s/it]\n",
      "Training (1630 / 18000 Steps) (loss=0.63690): 100%|██████████| 7/7 [00:16<00:00,  2.42s/it]\n",
      "Training (1637 / 18000 Steps) (loss=0.61987): 100%|██████████| 7/7 [00:17<00:00,  2.44s/it]\n",
      "Training (1644 / 18000 Steps) (loss=0.42767): 100%|██████████| 7/7 [00:16<00:00,  2.39s/it]\n",
      "Training (1651 / 18000 Steps) (loss=0.46628): 100%|██████████| 7/7 [00:16<00:00,  2.34s/it]\n",
      "Training (1658 / 18000 Steps) (loss=0.45776): 100%|██████████| 7/7 [00:16<00:00,  2.41s/it]\n",
      "Training (1665 / 18000 Steps) (loss=0.57457): 100%|██████████| 7/7 [00:17<00:00,  2.45s/it]\n",
      "Training (1672 / 18000 Steps) (loss=0.48541): 100%|██████████| 7/7 [00:17<00:00,  2.43s/it]\n",
      "Training (1679 / 18000 Steps) (loss=0.64195): 100%|██████████| 7/7 [00:16<00:00,  2.36s/it]\n",
      "Training (1686 / 18000 Steps) (loss=0.60488): 100%|██████████| 7/7 [00:16<00:00,  2.41s/it]\n",
      "Training (1693 / 18000 Steps) (loss=0.57437): 100%|██████████| 7/7 [00:16<00:00,  2.36s/it]\n",
      "Validate (1694 / 10 Steps): 100%|██████████| 2/2 [00:10<00:00,  5.26s/it]<00:02,  2.26s/it]\n",
      "Training (1700 / 18000 Steps) (loss=0.58702): 100%|██████████| 7/7 [00:27<00:00,  3.95s/it]\n"
     ]
    },
    {
     "name": "stdout",
     "output_type": "stream",
     "text": [
      "Model Was Not Saved ! Current Best Avg. Dice: 0.33310920000076294 Current Avg. Dice: 0.3083951473236084 Current Avg. tumor Dice: 0.3060467839241028 Current Avg. lymph Dice: 0.3107435703277588\n"
     ]
    },
    {
     "name": "stderr",
     "output_type": "stream",
     "text": [
      "Training (1707 / 18000 Steps) (loss=0.37496): 100%|██████████| 7/7 [00:17<00:00,  2.43s/it]\n",
      "Training (1714 / 18000 Steps) (loss=0.45746): 100%|██████████| 7/7 [00:16<00:00,  2.39s/it]\n",
      "Training (1721 / 18000 Steps) (loss=0.53711): 100%|██████████| 7/7 [00:17<00:00,  2.43s/it]\n",
      "Training (1728 / 18000 Steps) (loss=0.47801): 100%|██████████| 7/7 [00:16<00:00,  2.38s/it]\n",
      "Training (1735 / 18000 Steps) (loss=0.66278): 100%|██████████| 7/7 [00:17<00:00,  2.44s/it]\n",
      "Training (1742 / 18000 Steps) (loss=0.36601): 100%|██████████| 7/7 [00:16<00:00,  2.39s/it]\n",
      "Training (1749 / 18000 Steps) (loss=0.54489): 100%|██████████| 7/7 [00:16<00:00,  2.39s/it]\n",
      "Training (1756 / 18000 Steps) (loss=0.70954): 100%|██████████| 7/7 [00:16<00:00,  2.37s/it]\n",
      "Training (1763 / 18000 Steps) (loss=0.43686): 100%|██████████| 7/7 [00:17<00:00,  2.44s/it]\n",
      "Training (1770 / 18000 Steps) (loss=0.58610): 100%|██████████| 7/7 [00:16<00:00,  2.39s/it]\n",
      "Training (1777 / 18000 Steps) (loss=0.63469): 100%|██████████| 7/7 [00:16<00:00,  2.40s/it]\n",
      "Training (1784 / 18000 Steps) (loss=0.59460): 100%|██████████| 7/7 [00:16<00:00,  2.41s/it]\n",
      "Training (1791 / 18000 Steps) (loss=0.51397): 100%|██████████| 7/7 [00:16<00:00,  2.35s/it]\n",
      "Training (1798 / 18000 Steps) (loss=0.59224): 100%|██████████| 7/7 [00:16<00:00,  2.41s/it]\n",
      "Validate (1799 / 10 Steps): 100%|██████████| 2/2 [00:10<00:00,  5.41s/it]<00:29,  4.94s/it]\n",
      "Training (1800 / 18000 Steps) (loss=0.52320):  29%|██▊       | 2/7 [00:17<00:48,  9.65s/it]"
     ]
    },
    {
     "name": "stdout",
     "output_type": "stream",
     "text": [
      "Model Was Not Saved ! Current Best Avg. Dice: 0.33310920000076294 Current Avg. Dice: 0.27132999897003174 Current Avg. tumor Dice: 0.28950604796409607 Current Avg. lymph Dice: 0.2531539499759674\n"
     ]
    },
    {
     "name": "stderr",
     "output_type": "stream",
     "text": [
      "Training (1805 / 18000 Steps) (loss=0.54255): 100%|██████████| 7/7 [00:27<00:00,  3.94s/it]\n",
      "Training (1812 / 18000 Steps) (loss=0.59901): 100%|██████████| 7/7 [00:17<00:00,  2.48s/it]\n",
      "Training (1819 / 18000 Steps) (loss=0.65677): 100%|██████████| 7/7 [00:17<00:00,  2.43s/it]\n",
      "Training (1826 / 18000 Steps) (loss=0.48995): 100%|██████████| 7/7 [00:16<00:00,  2.37s/it]\n",
      "Training (1833 / 18000 Steps) (loss=0.71833): 100%|██████████| 7/7 [00:16<00:00,  2.42s/it]\n",
      "Training (1840 / 18000 Steps) (loss=0.46582): 100%|██████████| 7/7 [00:16<00:00,  2.33s/it]\n",
      "Training (1847 / 18000 Steps) (loss=0.40314): 100%|██████████| 7/7 [00:16<00:00,  2.41s/it]\n",
      "Training (1854 / 18000 Steps) (loss=0.56855): 100%|██████████| 7/7 [00:16<00:00,  2.42s/it]\n",
      "Training (1861 / 18000 Steps) (loss=0.57642): 100%|██████████| 7/7 [00:17<00:00,  2.47s/it]\n",
      "Training (1868 / 18000 Steps) (loss=0.51264): 100%|██████████| 7/7 [00:16<00:00,  2.40s/it]\n",
      "Training (1875 / 18000 Steps) (loss=0.42005): 100%|██████████| 7/7 [00:16<00:00,  2.34s/it]\n",
      "Training (1882 / 18000 Steps) (loss=0.44432): 100%|██████████| 7/7 [00:16<00:00,  2.42s/it]\n",
      "Training (1889 / 18000 Steps) (loss=0.32031): 100%|██████████| 7/7 [00:17<00:00,  2.44s/it]\n",
      "Training (1896 / 18000 Steps) (loss=0.55895): 100%|██████████| 7/7 [00:17<00:00,  2.45s/it]\n",
      "Validate (1897 / 10 Steps): 100%|██████████| 2/2 [00:10<00:00,  5.45s/it]<00:10,  2.74s/it]\n",
      "Training (1900 / 18000 Steps) (loss=0.52075):  57%|█████▋    | 4/7 [00:22<00:20,  6.87s/it]"
     ]
    },
    {
     "name": "stdout",
     "output_type": "stream",
     "text": [
      "Model Was Not Saved ! Current Best Avg. Dice: 0.33310920000076294 Current Avg. Dice: 0.2879215478897095 Current Avg. tumor Dice: 0.30581945180892944 Current Avg. lymph Dice: 0.2700236737728119\n"
     ]
    },
    {
     "name": "stderr",
     "output_type": "stream",
     "text": [
      "Training (1903 / 18000 Steps) (loss=0.68195): 100%|██████████| 7/7 [00:28<00:00,  4.03s/it]\n",
      "Training (1910 / 18000 Steps) (loss=0.51905): 100%|██████████| 7/7 [00:17<00:00,  2.47s/it]\n",
      "Training (1917 / 18000 Steps) (loss=0.51415): 100%|██████████| 7/7 [00:16<00:00,  2.41s/it]\n",
      "Training (1924 / 18000 Steps) (loss=0.49544): 100%|██████████| 7/7 [00:16<00:00,  2.37s/it]\n",
      "Training (1931 / 18000 Steps) (loss=0.46941): 100%|██████████| 7/7 [00:16<00:00,  2.40s/it]\n",
      "Training (1938 / 18000 Steps) (loss=0.56444): 100%|██████████| 7/7 [00:16<00:00,  2.40s/it]\n",
      "Training (1945 / 18000 Steps) (loss=0.60265): 100%|██████████| 7/7 [00:17<00:00,  2.44s/it]\n",
      "Training (1952 / 18000 Steps) (loss=0.54979): 100%|██████████| 7/7 [00:16<00:00,  2.41s/it]\n",
      "Training (1959 / 18000 Steps) (loss=0.46762): 100%|██████████| 7/7 [00:16<00:00,  2.39s/it]\n",
      "Training (1966 / 18000 Steps) (loss=0.49825): 100%|██████████| 7/7 [00:17<00:00,  2.44s/it]\n",
      "Training (1973 / 18000 Steps) (loss=0.49140): 100%|██████████| 7/7 [00:16<00:00,  2.37s/it]\n",
      "Training (1980 / 18000 Steps) (loss=0.57827): 100%|██████████| 7/7 [00:16<00:00,  2.39s/it]\n",
      "Training (1987 / 18000 Steps) (loss=0.52857): 100%|██████████| 7/7 [00:16<00:00,  2.41s/it]\n",
      "Training (1994 / 18000 Steps) (loss=0.52291): 100%|██████████| 7/7 [00:16<00:00,  2.40s/it]\n",
      "Validate (1995 / 10 Steps): 100%|██████████| 2/2 [00:10<00:00,  5.36s/it]<00:04,  2.33s/it]\n",
      "Training (2000 / 18000 Steps) (loss=0.53250):  86%|████████▌ | 6/7 [00:26<00:05,  5.90s/it]"
     ]
    },
    {
     "name": "stdout",
     "output_type": "stream",
     "text": [
      "Model Was Not Saved ! Current Best Avg. Dice: 0.33310920000076294 Current Avg. Dice: 0.28471675515174866 Current Avg. tumor Dice: 0.31323903799057007 Current Avg. lymph Dice: 0.25619447231292725\n"
     ]
    },
    {
     "name": "stderr",
     "output_type": "stream",
     "text": [
      "Training (2001 / 18000 Steps) (loss=0.52368): 100%|██████████| 7/7 [00:27<00:00,  3.95s/it]\n",
      "Training (2008 / 18000 Steps) (loss=0.50331): 100%|██████████| 7/7 [00:16<00:00,  2.41s/it]\n",
      "Training (2015 / 18000 Steps) (loss=0.74782): 100%|██████████| 7/7 [00:16<00:00,  2.41s/it]\n",
      "Training (2022 / 18000 Steps) (loss=0.64244): 100%|██████████| 7/7 [00:16<00:00,  2.35s/it]\n",
      "Training (2029 / 18000 Steps) (loss=0.62752): 100%|██████████| 7/7 [00:16<00:00,  2.39s/it]\n",
      "Training (2036 / 18000 Steps) (loss=0.66966): 100%|██████████| 7/7 [00:16<00:00,  2.38s/it]\n",
      "Training (2043 / 18000 Steps) (loss=0.60662): 100%|██████████| 7/7 [00:16<00:00,  2.38s/it]\n",
      "Training (2050 / 18000 Steps) (loss=0.29006): 100%|██████████| 7/7 [00:16<00:00,  2.39s/it]\n",
      "Training (2057 / 18000 Steps) (loss=0.60208): 100%|██████████| 7/7 [00:16<00:00,  2.39s/it]\n",
      "Training (2064 / 18000 Steps) (loss=0.63400): 100%|██████████| 7/7 [00:16<00:00,  2.42s/it]\n",
      "Training (2071 / 18000 Steps) (loss=0.50476): 100%|██████████| 7/7 [00:16<00:00,  2.40s/it]\n",
      "Training (2078 / 18000 Steps) (loss=0.50274): 100%|██████████| 7/7 [00:16<00:00,  2.42s/it]\n",
      "Training (2085 / 18000 Steps) (loss=0.49531): 100%|██████████| 7/7 [00:17<00:00,  2.44s/it]\n",
      "Training (2092 / 18000 Steps) (loss=0.52124): 100%|██████████| 7/7 [00:16<00:00,  2.39s/it]\n",
      "Training (2099 / 18000 Steps) (loss=0.54259): 100%|██████████| 7/7 [00:16<00:00,  2.41s/it]\n",
      "Validate (2100 / 10 Steps): 100%|██████████| 2/2 [00:10<00:00,  5.34s/it]<?, ?it/s]\n",
      "Training (2100 / 18000 Steps) (loss=0.52710):  14%|█▍        | 1/7 [00:15<01:34, 15.68s/it]"
     ]
    },
    {
     "name": "stdout",
     "output_type": "stream",
     "text": [
      "Model Was Not Saved ! Current Best Avg. Dice: 0.33310920000076294 Current Avg. Dice: 0.2748873233795166 Current Avg. tumor Dice: 0.26515889167785645 Current Avg. lymph Dice: 0.28461572527885437\n"
     ]
    },
    {
     "name": "stderr",
     "output_type": "stream",
     "text": [
      "Training (2106 / 18000 Steps) (loss=0.59905): 100%|██████████| 7/7 [00:27<00:00,  3.91s/it]\n",
      "Training (2113 / 18000 Steps) (loss=0.66472): 100%|██████████| 7/7 [00:17<00:00,  2.48s/it]\n",
      "Training (2120 / 18000 Steps) (loss=0.51585): 100%|██████████| 7/7 [00:16<00:00,  2.37s/it]\n",
      "Training (2127 / 18000 Steps) (loss=0.45716): 100%|██████████| 7/7 [00:16<00:00,  2.42s/it]\n",
      "Training (2134 / 18000 Steps) (loss=0.59538): 100%|██████████| 7/7 [00:16<00:00,  2.41s/it]\n",
      "Training (2141 / 18000 Steps) (loss=0.41054): 100%|██████████| 7/7 [00:16<00:00,  2.38s/it]\n",
      "Training (2148 / 18000 Steps) (loss=0.37887): 100%|██████████| 7/7 [00:17<00:00,  2.43s/it]\n",
      "Training (2155 / 18000 Steps) (loss=0.67652): 100%|██████████| 7/7 [00:16<00:00,  2.40s/it]\n",
      "Training (2162 / 18000 Steps) (loss=0.43997): 100%|██████████| 7/7 [00:16<00:00,  2.36s/it]\n",
      "Training (2169 / 18000 Steps) (loss=0.61772): 100%|██████████| 7/7 [00:16<00:00,  2.42s/it]\n",
      "Training (2176 / 18000 Steps) (loss=0.64236): 100%|██████████| 7/7 [00:16<00:00,  2.40s/it]\n",
      "Training (2183 / 18000 Steps) (loss=0.62042): 100%|██████████| 7/7 [00:17<00:00,  2.43s/it]\n",
      "Training (2190 / 18000 Steps) (loss=0.61157): 100%|██████████| 7/7 [00:16<00:00,  2.41s/it]\n",
      "Training (2197 / 18000 Steps) (loss=0.52643): 100%|██████████| 7/7 [00:16<00:00,  2.38s/it]\n",
      "Validate (2198 / 10 Steps): 100%|██████████| 2/2 [00:10<00:00,  5.35s/it]<00:16,  3.34s/it]\n",
      "Training (2200 / 18000 Steps) (loss=0.40901):  43%|████▎     | 3/7 [00:20<00:30,  7.67s/it]"
     ]
    },
    {
     "name": "stdout",
     "output_type": "stream",
     "text": [
      "Model Was Not Saved ! Current Best Avg. Dice: 0.33310920000076294 Current Avg. Dice: 0.30888789892196655 Current Avg. tumor Dice: 0.3114810287952423 Current Avg. lymph Dice: 0.30629482865333557\n"
     ]
    },
    {
     "name": "stderr",
     "output_type": "stream",
     "text": [
      "Training (2204 / 18000 Steps) (loss=0.62760): 100%|██████████| 7/7 [00:27<00:00,  3.96s/it]\n",
      "Training (2211 / 18000 Steps) (loss=0.55221): 100%|██████████| 7/7 [00:17<00:00,  2.48s/it]\n",
      "Training (2218 / 18000 Steps) (loss=0.53398): 100%|██████████| 7/7 [00:16<00:00,  2.42s/it]\n",
      "Training (2225 / 18000 Steps) (loss=0.53708): 100%|██████████| 7/7 [00:16<00:00,  2.38s/it]\n",
      "Training (2232 / 18000 Steps) (loss=0.49479): 100%|██████████| 7/7 [00:16<00:00,  2.36s/it]\n",
      "Training (2239 / 18000 Steps) (loss=0.52127): 100%|██████████| 7/7 [00:16<00:00,  2.42s/it]\n",
      "Training (2246 / 18000 Steps) (loss=0.40597): 100%|██████████| 7/7 [00:16<00:00,  2.40s/it]\n",
      "Training (2253 / 18000 Steps) (loss=0.59514): 100%|██████████| 7/7 [00:16<00:00,  2.32s/it]\n",
      "Training (2260 / 18000 Steps) (loss=0.45764): 100%|██████████| 7/7 [00:16<00:00,  2.42s/it]\n",
      "Training (2267 / 18000 Steps) (loss=0.60567): 100%|██████████| 7/7 [00:16<00:00,  2.42s/it]\n",
      "Training (2274 / 18000 Steps) (loss=0.64351): 100%|██████████| 7/7 [00:16<00:00,  2.42s/it]\n",
      "Training (2281 / 18000 Steps) (loss=0.54034): 100%|██████████| 7/7 [00:16<00:00,  2.40s/it]\n",
      "Training (2288 / 18000 Steps) (loss=0.53256): 100%|██████████| 7/7 [00:16<00:00,  2.41s/it]\n",
      "Training (2295 / 18000 Steps) (loss=0.59155): 100%|██████████| 7/7 [00:16<00:00,  2.42s/it]\n",
      "Validate (2296 / 10 Steps): 100%|██████████| 2/2 [00:10<00:00,  5.33s/it]<00:07,  2.48s/it]\n",
      "Training (2300 / 18000 Steps) (loss=0.54402):  71%|███████▏  | 5/7 [00:24<00:12,  6.20s/it]"
     ]
    },
    {
     "name": "stdout",
     "output_type": "stream",
     "text": [
      "Model Was Not Saved ! Current Best Avg. Dice: 0.33310920000076294 Current Avg. Dice: 0.30873966217041016 Current Avg. tumor Dice: 0.3280046582221985 Current Avg. lymph Dice: 0.2894747257232666\n"
     ]
    },
    {
     "name": "stderr",
     "output_type": "stream",
     "text": [
      "Training (2302 / 18000 Steps) (loss=0.51758): 100%|██████████| 7/7 [00:27<00:00,  3.94s/it]\n",
      "Training (2309 / 18000 Steps) (loss=0.49860): 100%|██████████| 7/7 [00:16<00:00,  2.39s/it]\n",
      "Training (2316 / 18000 Steps) (loss=0.57757): 100%|██████████| 7/7 [00:17<00:00,  2.44s/it]\n",
      "Training (2323 / 18000 Steps) (loss=0.55689): 100%|██████████| 7/7 [00:16<00:00,  2.41s/it]\n",
      "Training (2330 / 18000 Steps) (loss=0.54026): 100%|██████████| 7/7 [00:17<00:00,  2.44s/it]\n",
      "Training (2337 / 18000 Steps) (loss=0.37237): 100%|██████████| 7/7 [00:16<00:00,  2.42s/it]\n",
      "Training (2344 / 18000 Steps) (loss=0.47103): 100%|██████████| 7/7 [00:16<00:00,  2.36s/it]\n",
      "Training (2351 / 18000 Steps) (loss=0.36401): 100%|██████████| 7/7 [00:16<00:00,  2.41s/it]\n",
      "Training (2358 / 18000 Steps) (loss=0.46654): 100%|██████████| 7/7 [00:16<00:00,  2.42s/it]\n",
      "Training (2365 / 18000 Steps) (loss=0.35957): 100%|██████████| 7/7 [00:17<00:00,  2.46s/it]\n",
      "Training (2372 / 18000 Steps) (loss=0.49001): 100%|██████████| 7/7 [00:16<00:00,  2.40s/it]\n",
      "Training (2379 / 18000 Steps) (loss=0.41911): 100%|██████████| 7/7 [00:16<00:00,  2.31s/it]\n",
      "Training (2386 / 18000 Steps) (loss=0.71831): 100%|██████████| 7/7 [00:17<00:00,  2.43s/it]\n",
      "Training (2393 / 18000 Steps) (loss=0.53953): 100%|██████████| 7/7 [00:16<00:00,  2.39s/it]\n",
      "Validate (2394 / 10 Steps): 100%|██████████| 2/2 [00:10<00:00,  5.36s/it]<00:02,  2.25s/it]\n",
      "Training (2400 / 18000 Steps) (loss=0.48637): 100%|██████████| 7/7 [00:27<00:00,  3.93s/it]\n"
     ]
    },
    {
     "name": "stdout",
     "output_type": "stream",
     "text": [
      "Model Was Not Saved ! Current Best Avg. Dice: 0.33310920000076294 Current Avg. Dice: 0.3037175238132477 Current Avg. tumor Dice: 0.2981468141078949 Current Avg. lymph Dice: 0.3092882037162781\n"
     ]
    },
    {
     "name": "stderr",
     "output_type": "stream",
     "text": [
      "Training (2407 / 18000 Steps) (loss=0.54385): 100%|██████████| 7/7 [00:16<00:00,  2.40s/it]\n",
      "Training (2414 / 18000 Steps) (loss=0.52091): 100%|██████████| 7/7 [00:16<00:00,  2.42s/it]\n",
      "Training (2421 / 18000 Steps) (loss=0.80972): 100%|██████████| 7/7 [00:16<00:00,  2.41s/it]\n",
      "Training (2428 / 18000 Steps) (loss=0.63196): 100%|██████████| 7/7 [00:16<00:00,  2.39s/it]\n",
      "Training (2435 / 18000 Steps) (loss=0.42944): 100%|██████████| 7/7 [00:16<00:00,  2.40s/it]\n",
      "Training (2442 / 18000 Steps) (loss=0.71475): 100%|██████████| 7/7 [00:16<00:00,  2.40s/it]\n",
      "Training (2449 / 18000 Steps) (loss=0.39867): 100%|██████████| 7/7 [00:17<00:00,  2.48s/it]\n",
      "Training (2456 / 18000 Steps) (loss=0.52289): 100%|██████████| 7/7 [00:15<00:00,  2.27s/it]\n",
      "Training (2463 / 18000 Steps) (loss=0.48568): 100%|██████████| 7/7 [00:16<00:00,  2.40s/it]\n",
      "Training (2470 / 18000 Steps) (loss=0.61476): 100%|██████████| 7/7 [00:16<00:00,  2.42s/it]\n",
      "Training (2477 / 18000 Steps) (loss=0.51460): 100%|██████████| 7/7 [00:16<00:00,  2.40s/it]\n",
      "Training (2484 / 18000 Steps) (loss=0.64879): 100%|██████████| 7/7 [00:16<00:00,  2.40s/it]\n",
      "Training (2491 / 18000 Steps) (loss=0.50173): 100%|██████████| 7/7 [00:16<00:00,  2.41s/it]\n",
      "Training (2498 / 18000 Steps) (loss=0.39087): 100%|██████████| 7/7 [00:16<00:00,  2.40s/it]\n",
      "Validate (2499 / 10 Steps): 100%|██████████| 2/2 [00:10<00:00,  5.30s/it]<00:29,  4.95s/it]\n",
      "Training (2500 / 18000 Steps) (loss=0.46510):  29%|██▊       | 2/7 [00:17<00:47,  9.51s/it]"
     ]
    },
    {
     "name": "stdout",
     "output_type": "stream",
     "text": [
      "Model Was Not Saved ! Current Best Avg. Dice: 0.33310920000076294 Current Avg. Dice: 0.2523961067199707 Current Avg. tumor Dice: 0.22274163365364075 Current Avg. lymph Dice: 0.28205054998397827\n"
     ]
    },
    {
     "name": "stderr",
     "output_type": "stream",
     "text": [
      "Training (2505 / 18000 Steps) (loss=0.45066): 100%|██████████| 7/7 [00:27<00:00,  3.91s/it]\n",
      "Training (2512 / 18000 Steps) (loss=0.43156): 100%|██████████| 7/7 [00:16<00:00,  2.41s/it]\n",
      "Training (2519 / 18000 Steps) (loss=0.56543): 100%|██████████| 7/7 [00:16<00:00,  2.42s/it]\n",
      "Training (2526 / 18000 Steps) (loss=0.44568): 100%|██████████| 7/7 [00:16<00:00,  2.35s/it]\n",
      "Training (2533 / 18000 Steps) (loss=0.49616): 100%|██████████| 7/7 [00:16<00:00,  2.41s/it]\n",
      "Training (2540 / 18000 Steps) (loss=0.54011): 100%|██████████| 7/7 [00:16<00:00,  2.40s/it]\n",
      "Training (2547 / 18000 Steps) (loss=0.37427): 100%|██████████| 7/7 [00:16<00:00,  2.39s/it]\n",
      "Training (2554 / 18000 Steps) (loss=0.54597): 100%|██████████| 7/7 [00:16<00:00,  2.37s/it]\n",
      "Training (2561 / 18000 Steps) (loss=0.45894): 100%|██████████| 7/7 [00:16<00:00,  2.41s/it]\n",
      "Training (2568 / 18000 Steps) (loss=0.46364): 100%|██████████| 7/7 [00:16<00:00,  2.37s/it]\n",
      "Training (2575 / 18000 Steps) (loss=0.55740): 100%|██████████| 7/7 [00:16<00:00,  2.39s/it]\n",
      "Training (2582 / 18000 Steps) (loss=0.50244): 100%|██████████| 7/7 [00:16<00:00,  2.37s/it]\n",
      "Training (2589 / 18000 Steps) (loss=0.56538): 100%|██████████| 7/7 [00:17<00:00,  2.46s/it]\n",
      "Training (2596 / 18000 Steps) (loss=0.39931): 100%|██████████| 7/7 [00:16<00:00,  2.38s/it]\n",
      "Validate (2597 / 10 Steps): 100%|██████████| 2/2 [00:10<00:00,  5.30s/it]<00:10,  2.73s/it]\n",
      "Training (2600 / 18000 Steps) (loss=0.47239):  57%|█████▋    | 4/7 [00:21<00:20,  6.69s/it]"
     ]
    },
    {
     "name": "stdout",
     "output_type": "stream",
     "text": [
      "Model Was Not Saved ! Current Best Avg. Dice: 0.33310920000076294 Current Avg. Dice: 0.3262326717376709 Current Avg. tumor Dice: 0.33981162309646606 Current Avg. lymph Dice: 0.31265366077423096\n"
     ]
    },
    {
     "name": "stderr",
     "output_type": "stream",
     "text": [
      "Training (2603 / 18000 Steps) (loss=0.64101): 100%|██████████| 7/7 [00:27<00:00,  3.94s/it]\n",
      "Training (2610 / 18000 Steps) (loss=0.55163): 100%|██████████| 7/7 [00:16<00:00,  2.42s/it]\n",
      "Training (2617 / 18000 Steps) (loss=0.45550): 100%|██████████| 7/7 [00:16<00:00,  2.41s/it]\n",
      "Training (2624 / 18000 Steps) (loss=0.43610): 100%|██████████| 7/7 [00:17<00:00,  2.49s/it]\n",
      "Training (2631 / 18000 Steps) (loss=0.47383): 100%|██████████| 7/7 [00:16<00:00,  2.40s/it]\n",
      "Training (2638 / 18000 Steps) (loss=0.39386): 100%|██████████| 7/7 [00:17<00:00,  2.46s/it]\n",
      "Training (2645 / 18000 Steps) (loss=0.49743): 100%|██████████| 7/7 [00:16<00:00,  2.42s/it]\n",
      "Training (2652 / 18000 Steps) (loss=0.51263): 100%|██████████| 7/7 [00:16<00:00,  2.38s/it]\n",
      "Training (2659 / 18000 Steps) (loss=0.56828): 100%|██████████| 7/7 [00:16<00:00,  2.42s/it]\n",
      "Training (2666 / 18000 Steps) (loss=0.41203): 100%|██████████| 7/7 [00:16<00:00,  2.42s/it]\n",
      "Training (2673 / 18000 Steps) (loss=0.47913): 100%|██████████| 7/7 [00:16<00:00,  2.40s/it]\n",
      "Training (2680 / 18000 Steps) (loss=0.48953): 100%|██████████| 7/7 [00:16<00:00,  2.43s/it]\n",
      "Training (2687 / 18000 Steps) (loss=0.45419): 100%|██████████| 7/7 [00:16<00:00,  2.41s/it]\n",
      "Training (2694 / 18000 Steps) (loss=0.59211): 100%|██████████| 7/7 [00:16<00:00,  2.41s/it]\n",
      "Validate (2695 / 10 Steps): 100%|██████████| 2/2 [00:10<00:00,  5.41s/it]<00:04,  2.32s/it]\n",
      "Training (2700 / 18000 Steps) (loss=0.55917):  86%|████████▌ | 6/7 [00:26<00:05,  5.94s/it]"
     ]
    },
    {
     "name": "stdout",
     "output_type": "stream",
     "text": [
      "Model Was Not Saved ! Current Best Avg. Dice: 0.33310920000076294 Current Avg. Dice: 0.29122811555862427 Current Avg. tumor Dice: 0.28040915727615356 Current Avg. lymph Dice: 0.30204707384109497\n"
     ]
    },
    {
     "name": "stderr",
     "output_type": "stream",
     "text": [
      "Training (2701 / 18000 Steps) (loss=0.38334): 100%|██████████| 7/7 [00:27<00:00,  3.96s/it]\n",
      "Training (2708 / 18000 Steps) (loss=0.50777): 100%|██████████| 7/7 [00:17<00:00,  2.44s/it]\n",
      "Training (2715 / 18000 Steps) (loss=0.33886): 100%|██████████| 7/7 [00:16<00:00,  2.41s/it]\n",
      "Training (2722 / 18000 Steps) (loss=0.61181): 100%|██████████| 7/7 [00:17<00:00,  2.44s/it]\n",
      "Training (2729 / 18000 Steps) (loss=0.50025): 100%|██████████| 7/7 [00:16<00:00,  2.40s/it]\n",
      "Training (2736 / 18000 Steps) (loss=0.35648): 100%|██████████| 7/7 [00:16<00:00,  2.38s/it]\n",
      "Training (2743 / 18000 Steps) (loss=0.25645): 100%|██████████| 7/7 [00:17<00:00,  2.45s/it]\n",
      "Training (2750 / 18000 Steps) (loss=0.56898): 100%|██████████| 7/7 [00:16<00:00,  2.40s/it]\n",
      "Training (2757 / 18000 Steps) (loss=0.36405): 100%|██████████| 7/7 [00:16<00:00,  2.42s/it]\n",
      "Training (2764 / 18000 Steps) (loss=0.57037): 100%|██████████| 7/7 [00:16<00:00,  2.40s/it]\n",
      "Training (2771 / 18000 Steps) (loss=0.64669): 100%|██████████| 7/7 [00:16<00:00,  2.37s/it]\n",
      "Training (2778 / 18000 Steps) (loss=0.51554): 100%|██████████| 7/7 [00:16<00:00,  2.40s/it]\n",
      "Training (2785 / 18000 Steps) (loss=0.44842): 100%|██████████| 7/7 [00:16<00:00,  2.39s/it]\n",
      "Training (2792 / 18000 Steps) (loss=0.61861): 100%|██████████| 7/7 [00:17<00:00,  2.44s/it]\n",
      "Training (2799 / 18000 Steps) (loss=0.76881): 100%|██████████| 7/7 [00:16<00:00,  2.41s/it]\n",
      "Validate (2800 / 10 Steps): 100%|██████████| 2/2 [00:10<00:00,  5.17s/it]<?, ?it/s]\n",
      "Training (2800 / 18000 Steps) (loss=0.50833):  14%|█▍        | 1/7 [00:15<01:33, 15.52s/it]"
     ]
    },
    {
     "name": "stdout",
     "output_type": "stream",
     "text": [
      "Model Was Not Saved ! Current Best Avg. Dice: 0.33310920000076294 Current Avg. Dice: 0.31678032875061035 Current Avg. tumor Dice: 0.3003334701061249 Current Avg. lymph Dice: 0.3332272171974182\n"
     ]
    },
    {
     "name": "stderr",
     "output_type": "stream",
     "text": [
      "Training (2806 / 18000 Steps) (loss=0.67741): 100%|██████████| 7/7 [00:27<00:00,  3.90s/it]\n",
      "Training (2813 / 18000 Steps) (loss=0.56160): 100%|██████████| 7/7 [00:16<00:00,  2.38s/it]\n",
      "Training (2820 / 18000 Steps) (loss=0.55129): 100%|██████████| 7/7 [00:16<00:00,  2.42s/it]\n",
      "Training (2827 / 18000 Steps) (loss=0.47456): 100%|██████████| 7/7 [00:16<00:00,  2.40s/it]\n",
      "Training (2834 / 18000 Steps) (loss=0.35437): 100%|██████████| 7/7 [00:16<00:00,  2.40s/it]\n",
      "Training (2841 / 18000 Steps) (loss=0.65029): 100%|██████████| 7/7 [00:16<00:00,  2.41s/it]\n",
      "Training (2848 / 18000 Steps) (loss=0.36533): 100%|██████████| 7/7 [00:16<00:00,  2.42s/it]\n",
      "Training (2855 / 18000 Steps) (loss=0.41665): 100%|██████████| 7/7 [00:16<00:00,  2.38s/it]\n",
      "Training (2862 / 18000 Steps) (loss=0.41620): 100%|██████████| 7/7 [00:16<00:00,  2.41s/it]\n",
      "Training (2869 / 18000 Steps) (loss=0.39825): 100%|██████████| 7/7 [00:16<00:00,  2.40s/it]\n",
      "Training (2876 / 18000 Steps) (loss=0.58342): 100%|██████████| 7/7 [00:16<00:00,  2.38s/it]\n",
      "Training (2883 / 18000 Steps) (loss=0.22944): 100%|██████████| 7/7 [00:16<00:00,  2.38s/it]\n",
      "Training (2890 / 18000 Steps) (loss=0.49786): 100%|██████████| 7/7 [00:16<00:00,  2.38s/it]\n",
      "Training (2897 / 18000 Steps) (loss=0.39248): 100%|██████████| 7/7 [00:16<00:00,  2.40s/it]\n",
      "Validate (2898 / 10 Steps): 100%|██████████| 2/2 [00:10<00:00,  5.26s/it]<00:16,  3.30s/it]\n",
      "Training (2900 / 18000 Steps) (loss=0.38496):  43%|████▎     | 3/7 [00:19<00:30,  7.55s/it]"
     ]
    },
    {
     "name": "stdout",
     "output_type": "stream",
     "text": [
      "Model Was Not Saved ! Current Best Avg. Dice: 0.33310920000076294 Current Avg. Dice: 0.31781965494155884 Current Avg. tumor Dice: 0.32562366127967834 Current Avg. lymph Dice: 0.31001558899879456\n"
     ]
    },
    {
     "name": "stderr",
     "output_type": "stream",
     "text": [
      "Training (2904 / 18000 Steps) (loss=0.52441): 100%|██████████| 7/7 [00:27<00:00,  3.90s/it]\n",
      "Training (2911 / 18000 Steps) (loss=0.47550): 100%|██████████| 7/7 [00:16<00:00,  2.39s/it]\n",
      "Training (2918 / 18000 Steps) (loss=0.61698): 100%|██████████| 7/7 [00:16<00:00,  2.41s/it]\n",
      "Training (2925 / 18000 Steps) (loss=0.34013): 100%|██████████| 7/7 [00:16<00:00,  2.37s/it]\n",
      "Training (2932 / 18000 Steps) (loss=0.49604): 100%|██████████| 7/7 [00:16<00:00,  2.39s/it]\n",
      "Training (2939 / 18000 Steps) (loss=0.43927): 100%|██████████| 7/7 [00:16<00:00,  2.38s/it]\n",
      "Training (2946 / 18000 Steps) (loss=0.49794): 100%|██████████| 7/7 [00:16<00:00,  2.41s/it]\n",
      "Training (2953 / 18000 Steps) (loss=0.52861): 100%|██████████| 7/7 [00:16<00:00,  2.38s/it]\n",
      "Training (2960 / 18000 Steps) (loss=0.67396): 100%|██████████| 7/7 [00:16<00:00,  2.37s/it]\n",
      "Training (2967 / 18000 Steps) (loss=0.51728): 100%|██████████| 7/7 [00:17<00:00,  2.45s/it]\n",
      "Training (2974 / 18000 Steps) (loss=0.57364): 100%|██████████| 7/7 [00:16<00:00,  2.38s/it]\n",
      "Training (2981 / 18000 Steps) (loss=0.52205): 100%|██████████| 7/7 [00:16<00:00,  2.42s/it]\n",
      "Training (2988 / 18000 Steps) (loss=0.50612): 100%|██████████| 7/7 [00:16<00:00,  2.41s/it]\n",
      "Training (2995 / 18000 Steps) (loss=0.64732): 100%|██████████| 7/7 [00:16<00:00,  2.41s/it]\n",
      "Validate (2996 / 10 Steps): 100%|██████████| 2/2 [00:10<00:00,  5.26s/it]<00:07,  2.49s/it]\n",
      "Training (3000 / 18000 Steps) (loss=0.46890):  71%|███████▏  | 5/7 [00:24<00:12,  6.20s/it]"
     ]
    },
    {
     "name": "stdout",
     "output_type": "stream",
     "text": [
      "Model Was Not Saved ! Current Best Avg. Dice: 0.33310920000076294 Current Avg. Dice: 0.2893213629722595 Current Avg. tumor Dice: 0.27741739153862 Current Avg. lymph Dice: 0.30122530460357666\n"
     ]
    },
    {
     "name": "stderr",
     "output_type": "stream",
     "text": [
      "Training (3002 / 18000 Steps) (loss=0.48313): 100%|██████████| 7/7 [00:27<00:00,  3.94s/it]\n",
      "Training (3009 / 18000 Steps) (loss=0.49539): 100%|██████████| 7/7 [00:16<00:00,  2.37s/it]\n",
      "Training (3016 / 18000 Steps) (loss=0.41171): 100%|██████████| 7/7 [00:16<00:00,  2.42s/it]\n",
      "Training (3023 / 18000 Steps) (loss=0.46134): 100%|██████████| 7/7 [00:16<00:00,  2.39s/it]\n",
      "Training (3030 / 18000 Steps) (loss=0.53150): 100%|██████████| 7/7 [00:16<00:00,  2.41s/it]\n",
      "Training (3037 / 18000 Steps) (loss=0.42910): 100%|██████████| 7/7 [00:16<00:00,  2.41s/it]\n",
      "Training (3044 / 18000 Steps) (loss=0.60553): 100%|██████████| 7/7 [00:16<00:00,  2.39s/it]\n",
      "Training (3051 / 18000 Steps) (loss=0.58157): 100%|██████████| 7/7 [00:16<00:00,  2.41s/it]\n",
      "Training (3058 / 18000 Steps) (loss=0.48205): 100%|██████████| 7/7 [00:16<00:00,  2.40s/it]\n",
      "Training (3065 / 18000 Steps) (loss=0.48887): 100%|██████████| 7/7 [00:16<00:00,  2.36s/it]\n",
      "Training (3072 / 18000 Steps) (loss=0.41937): 100%|██████████| 7/7 [00:17<00:00,  2.46s/it]\n",
      "Training (3079 / 18000 Steps) (loss=0.57716): 100%|██████████| 7/7 [00:16<00:00,  2.34s/it]\n",
      "Training (3086 / 18000 Steps) (loss=0.59363): 100%|██████████| 7/7 [00:16<00:00,  2.40s/it]\n",
      "Training (3093 / 18000 Steps) (loss=0.66127): 100%|██████████| 7/7 [00:16<00:00,  2.37s/it]\n",
      "Validate (3094 / 10 Steps): 100%|██████████| 2/2 [00:10<00:00,  5.28s/it]<00:02,  2.12s/it]\n",
      "Training (3100 / 18000 Steps) (loss=0.51684): 100%|██████████| 7/7 [00:26<00:00,  3.77s/it]\n"
     ]
    },
    {
     "name": "stdout",
     "output_type": "stream",
     "text": [
      "Model Was Not Saved ! Current Best Avg. Dice: 0.33310920000076294 Current Avg. Dice: 0.3204687237739563 Current Avg. tumor Dice: 0.2975673973560333 Current Avg. lymph Dice: 0.3433700203895569\n"
     ]
    },
    {
     "name": "stderr",
     "output_type": "stream",
     "text": [
      "Training (3107 / 18000 Steps) (loss=0.55488): 100%|██████████| 7/7 [00:16<00:00,  2.38s/it]\n",
      "Training (3114 / 18000 Steps) (loss=0.46724): 100%|██████████| 7/7 [00:16<00:00,  2.42s/it]\n",
      "Training (3121 / 18000 Steps) (loss=0.60124): 100%|██████████| 7/7 [00:17<00:00,  2.44s/it]\n",
      "Training (3128 / 18000 Steps) (loss=0.42763): 100%|██████████| 7/7 [00:16<00:00,  2.38s/it]\n",
      "Training (3135 / 18000 Steps) (loss=0.48901): 100%|██████████| 7/7 [00:16<00:00,  2.42s/it]\n",
      "Training (3142 / 18000 Steps) (loss=0.50311): 100%|██████████| 7/7 [00:16<00:00,  2.40s/it]\n",
      "Training (3149 / 18000 Steps) (loss=0.63952): 100%|██████████| 7/7 [00:16<00:00,  2.40s/it]\n",
      "Training (3156 / 18000 Steps) (loss=0.45910): 100%|██████████| 7/7 [00:16<00:00,  2.39s/it]\n",
      "Training (3163 / 18000 Steps) (loss=0.51105): 100%|██████████| 7/7 [00:16<00:00,  2.41s/it]\n",
      "Training (3170 / 18000 Steps) (loss=0.38253): 100%|██████████| 7/7 [00:16<00:00,  2.41s/it]\n",
      "Training (3177 / 18000 Steps) (loss=0.54963): 100%|██████████| 7/7 [00:16<00:00,  2.42s/it]\n",
      "Training (3184 / 18000 Steps) (loss=0.65882): 100%|██████████| 7/7 [00:16<00:00,  2.41s/it]\n",
      "Training (3191 / 18000 Steps) (loss=0.45056): 100%|██████████| 7/7 [00:16<00:00,  2.39s/it]\n",
      "Training (3198 / 18000 Steps) (loss=0.60735): 100%|██████████| 7/7 [00:16<00:00,  2.39s/it]\n",
      "Validate (3199 / 10 Steps): 100%|██████████| 2/2 [00:10<00:00,  5.27s/it]<00:30,  5.11s/it]\n",
      "Training (3200 / 18000 Steps) (loss=0.54211):  29%|██▊       | 2/7 [00:17<00:47,  9.54s/it]"
     ]
    },
    {
     "name": "stdout",
     "output_type": "stream",
     "text": [
      "Model Was Not Saved ! Current Best Avg. Dice: 0.33310920000076294 Current Avg. Dice: 0.3113824725151062 Current Avg. tumor Dice: 0.2937847673892975 Current Avg. lymph Dice: 0.32898014783859253\n"
     ]
    },
    {
     "name": "stderr",
     "output_type": "stream",
     "text": [
      "Training (3205 / 18000 Steps) (loss=0.45168): 100%|██████████| 7/7 [00:27<00:00,  3.90s/it]\n",
      "Training (3212 / 18000 Steps) (loss=0.49066): 100%|██████████| 7/7 [00:16<00:00,  2.34s/it]\n",
      "Training (3219 / 18000 Steps) (loss=0.31201): 100%|██████████| 7/7 [00:17<00:00,  2.44s/it]\n",
      "Training (3226 / 18000 Steps) (loss=0.55447): 100%|██████████| 7/7 [00:16<00:00,  2.37s/it]\n",
      "Training (3233 / 18000 Steps) (loss=0.55780): 100%|██████████| 7/7 [00:16<00:00,  2.39s/it]\n",
      "Training (3240 / 18000 Steps) (loss=0.43171): 100%|██████████| 7/7 [00:16<00:00,  2.40s/it]\n",
      "Training (3247 / 18000 Steps) (loss=0.43368): 100%|██████████| 7/7 [00:16<00:00,  2.38s/it]\n",
      "Training (3254 / 18000 Steps) (loss=0.50769): 100%|██████████| 7/7 [00:16<00:00,  2.40s/it]\n",
      "Training (3261 / 18000 Steps) (loss=0.40309): 100%|██████████| 7/7 [00:16<00:00,  2.37s/it]\n",
      "Training (3268 / 18000 Steps) (loss=0.50787): 100%|██████████| 7/7 [00:17<00:00,  2.45s/it]\n",
      "Training (3275 / 18000 Steps) (loss=0.51173): 100%|██████████| 7/7 [00:16<00:00,  2.43s/it]\n",
      "Training (3282 / 18000 Steps) (loss=0.62082): 100%|██████████| 7/7 [00:16<00:00,  2.37s/it]\n",
      "Training (3289 / 18000 Steps) (loss=0.42563): 100%|██████████| 7/7 [00:16<00:00,  2.41s/it]\n",
      "Training (3296 / 18000 Steps) (loss=0.48137): 100%|██████████| 7/7 [00:16<00:00,  2.40s/it]\n",
      "Validate (3297 / 10 Steps): 100%|██████████| 2/2 [00:10<00:00,  5.35s/it]<00:11,  2.76s/it]\n",
      "Training (3300 / 18000 Steps) (loss=0.52596):  57%|█████▋    | 4/7 [00:22<00:20,  6.74s/it]"
     ]
    },
    {
     "name": "stdout",
     "output_type": "stream",
     "text": [
      "Model Was Not Saved ! Current Best Avg. Dice: 0.33310920000076294 Current Avg. Dice: 0.30907106399536133 Current Avg. tumor Dice: 0.30377379059791565 Current Avg. lymph Dice: 0.314368337392807\n"
     ]
    },
    {
     "name": "stderr",
     "output_type": "stream",
     "text": [
      "Training (3303 / 18000 Steps) (loss=0.42735): 100%|██████████| 7/7 [00:27<00:00,  3.97s/it]\n",
      "Training (3310 / 18000 Steps) (loss=0.41859): 100%|██████████| 7/7 [00:16<00:00,  2.38s/it]\n",
      "Training (3317 / 18000 Steps) (loss=0.47664): 100%|██████████| 7/7 [00:17<00:00,  2.44s/it]\n",
      "Training (3324 / 18000 Steps) (loss=0.66960): 100%|██████████| 7/7 [00:16<00:00,  2.42s/it]\n",
      "Training (3331 / 18000 Steps) (loss=0.36738): 100%|██████████| 7/7 [00:16<00:00,  2.34s/it]\n",
      "Training (3338 / 18000 Steps) (loss=0.54361): 100%|██████████| 7/7 [00:17<00:00,  2.46s/it]\n",
      "Training (3345 / 18000 Steps) (loss=0.53708): 100%|██████████| 7/7 [00:16<00:00,  2.40s/it]\n",
      "Training (3352 / 18000 Steps) (loss=0.58205): 100%|██████████| 7/7 [00:16<00:00,  2.40s/it]\n",
      "Training (3359 / 18000 Steps) (loss=0.54819): 100%|██████████| 7/7 [00:16<00:00,  2.41s/it]\n",
      "Training (3366 / 18000 Steps) (loss=0.48100): 100%|██████████| 7/7 [00:16<00:00,  2.42s/it]\n",
      "Training (3373 / 18000 Steps) (loss=0.45167): 100%|██████████| 7/7 [00:17<00:00,  2.43s/it]\n",
      "Training (3380 / 18000 Steps) (loss=0.58289): 100%|██████████| 7/7 [00:16<00:00,  2.41s/it]\n",
      "Training (3387 / 18000 Steps) (loss=0.58743): 100%|██████████| 7/7 [00:16<00:00,  2.37s/it]\n",
      "Training (3394 / 18000 Steps) (loss=0.59956): 100%|██████████| 7/7 [00:16<00:00,  2.39s/it]\n",
      "Validate (3395 / 10 Steps): 100%|██████████| 2/2 [00:10<00:00,  5.39s/it]<00:04,  2.43s/it]\n",
      "Training (3400 / 18000 Steps) (loss=0.45029):  86%|████████▌ | 6/7 [00:26<00:06,  6.01s/it]"
     ]
    },
    {
     "name": "stdout",
     "output_type": "stream",
     "text": [
      "Model Was Not Saved ! Current Best Avg. Dice: 0.33310920000076294 Current Avg. Dice: 0.3214189112186432 Current Avg. tumor Dice: 0.33077940344810486 Current Avg. lymph Dice: 0.31205838918685913\n"
     ]
    },
    {
     "name": "stderr",
     "output_type": "stream",
     "text": [
      "Training (3401 / 18000 Steps) (loss=0.53235): 100%|██████████| 7/7 [00:28<00:00,  4.05s/it]\n",
      "Training (3408 / 18000 Steps) (loss=0.50232): 100%|██████████| 7/7 [00:17<00:00,  2.47s/it]\n",
      "Training (3415 / 18000 Steps) (loss=0.37053): 100%|██████████| 7/7 [00:17<00:00,  2.50s/it]\n",
      "Training (3422 / 18000 Steps) (loss=0.54311): 100%|██████████| 7/7 [00:17<00:00,  2.49s/it]\n",
      "Training (3429 / 18000 Steps) (loss=0.58521): 100%|██████████| 7/7 [00:17<00:00,  2.44s/it]\n",
      "Training (3436 / 18000 Steps) (loss=0.46614): 100%|██████████| 7/7 [00:17<00:00,  2.45s/it]\n",
      "Training (3443 / 18000 Steps) (loss=0.42419): 100%|██████████| 7/7 [00:17<00:00,  2.44s/it]\n",
      "Training (3450 / 18000 Steps) (loss=0.49075): 100%|██████████| 7/7 [00:17<00:00,  2.44s/it]\n",
      "Training (3457 / 18000 Steps) (loss=0.42328): 100%|██████████| 7/7 [00:17<00:00,  2.46s/it]\n",
      "Training (3464 / 18000 Steps) (loss=0.48986): 100%|██████████| 7/7 [00:17<00:00,  2.48s/it]\n",
      "Training (3471 / 18000 Steps) (loss=0.56626): 100%|██████████| 7/7 [00:17<00:00,  2.43s/it]\n",
      "Training (3478 / 18000 Steps) (loss=0.30940): 100%|██████████| 7/7 [00:16<00:00,  2.37s/it]\n",
      "Training (3485 / 18000 Steps) (loss=0.37798): 100%|██████████| 7/7 [00:16<00:00,  2.38s/it]\n",
      "Training (3492 / 18000 Steps) (loss=0.32595): 100%|██████████| 7/7 [00:16<00:00,  2.40s/it]\n",
      "Training (3499 / 18000 Steps) (loss=0.59826): 100%|██████████| 7/7 [00:16<00:00,  2.41s/it]\n",
      "Validate (3500 / 10 Steps): 100%|██████████| 2/2 [00:10<00:00,  5.41s/it]<?, ?it/s]\n",
      "Training (3500 / 18000 Steps) (loss=0.45914):  14%|█▍        | 1/7 [00:15<01:35, 15.92s/it]"
     ]
    },
    {
     "name": "stdout",
     "output_type": "stream",
     "text": [
      "Model Was Not Saved ! Current Best Avg. Dice: 0.33310920000076294 Current Avg. Dice: 0.27887803316116333 Current Avg. tumor Dice: 0.26478010416030884 Current Avg. lymph Dice: 0.2929759919643402\n"
     ]
    },
    {
     "name": "stderr",
     "output_type": "stream",
     "text": [
      "Training (3506 / 18000 Steps) (loss=0.46973): 100%|██████████| 7/7 [00:27<00:00,  3.95s/it]\n",
      "Training (3513 / 18000 Steps) (loss=0.60401): 100%|██████████| 7/7 [00:16<00:00,  2.31s/it]\n",
      "Training (3520 / 18000 Steps) (loss=0.60258): 100%|██████████| 7/7 [00:16<00:00,  2.40s/it]\n",
      "Training (3527 / 18000 Steps) (loss=0.32656): 100%|██████████| 7/7 [00:17<00:00,  2.43s/it]\n",
      "Training (3534 / 18000 Steps) (loss=0.41641): 100%|██████████| 7/7 [00:17<00:00,  2.44s/it]\n",
      "Training (3541 / 18000 Steps) (loss=0.62379): 100%|██████████| 7/7 [00:17<00:00,  2.45s/it]\n",
      "Training (3548 / 18000 Steps) (loss=0.37489): 100%|██████████| 7/7 [00:17<00:00,  2.43s/it]\n",
      "Training (3555 / 18000 Steps) (loss=0.47501): 100%|██████████| 7/7 [00:17<00:00,  2.45s/it]\n",
      "Training (3562 / 18000 Steps) (loss=0.50081): 100%|██████████| 7/7 [00:16<00:00,  2.43s/it]\n",
      "Training (3569 / 18000 Steps) (loss=0.55029): 100%|██████████| 7/7 [00:16<00:00,  2.40s/it]\n",
      "Training (3576 / 18000 Steps) (loss=0.48330): 100%|██████████| 7/7 [00:17<00:00,  2.46s/it]\n",
      "Training (3583 / 18000 Steps) (loss=0.58040): 100%|██████████| 7/7 [00:16<00:00,  2.41s/it]\n",
      "Training (3590 / 18000 Steps) (loss=0.47606): 100%|██████████| 7/7 [00:16<00:00,  2.37s/it]\n",
      "Training (3597 / 18000 Steps) (loss=0.62518): 100%|██████████| 7/7 [00:16<00:00,  2.39s/it]\n",
      "Validate (3598 / 10 Steps): 100%|██████████| 2/2 [00:10<00:00,  5.20s/it]<00:16,  3.26s/it]\n",
      "Training (3600 / 18000 Steps) (loss=0.47083):  43%|████▎     | 3/7 [00:19<00:29,  7.48s/it]"
     ]
    },
    {
     "name": "stdout",
     "output_type": "stream",
     "text": [
      "Model Was Not Saved ! Current Best Avg. Dice: 0.33310920000076294 Current Avg. Dice: 0.28948336839675903 Current Avg. tumor Dice: 0.23839327692985535 Current Avg. lymph Dice: 0.3405734896659851\n"
     ]
    },
    {
     "name": "stderr",
     "output_type": "stream",
     "text": [
      "Training (3604 / 18000 Steps) (loss=0.51518): 100%|██████████| 7/7 [00:27<00:00,  3.88s/it]\n",
      "Training (3611 / 18000 Steps) (loss=0.50546): 100%|██████████| 7/7 [00:17<00:00,  2.49s/it]\n",
      "Training (3618 / 18000 Steps) (loss=0.26886): 100%|██████████| 7/7 [00:17<00:00,  2.43s/it]\n",
      "Training (3625 / 18000 Steps) (loss=0.41038): 100%|██████████| 7/7 [00:17<00:00,  2.51s/it]\n",
      "Training (3632 / 18000 Steps) (loss=0.25333): 100%|██████████| 7/7 [00:16<00:00,  2.43s/it]\n",
      "Training (3639 / 18000 Steps) (loss=0.43478): 100%|██████████| 7/7 [00:17<00:00,  2.48s/it]\n",
      "Training (3646 / 18000 Steps) (loss=0.56478): 100%|██████████| 7/7 [00:17<00:00,  2.46s/it]\n",
      "Training (3653 / 18000 Steps) (loss=0.47235): 100%|██████████| 7/7 [00:16<00:00,  2.38s/it]\n",
      "Training (3660 / 18000 Steps) (loss=0.35351): 100%|██████████| 7/7 [00:16<00:00,  2.38s/it]\n",
      "Training (3667 / 18000 Steps) (loss=0.40850): 100%|██████████| 7/7 [00:17<00:00,  2.44s/it]\n",
      "Training (3674 / 18000 Steps) (loss=0.38613): 100%|██████████| 7/7 [00:17<00:00,  2.44s/it]\n",
      "Training (3681 / 18000 Steps) (loss=0.46845): 100%|██████████| 7/7 [00:17<00:00,  2.47s/it]\n",
      "Training (3688 / 18000 Steps) (loss=0.50855): 100%|██████████| 7/7 [00:16<00:00,  2.40s/it]\n",
      "Training (3695 / 18000 Steps) (loss=0.61197): 100%|██████████| 7/7 [00:16<00:00,  2.42s/it]\n",
      "Validate (3696 / 10 Steps): 100%|██████████| 2/2 [00:10<00:00,  5.39s/it]<00:07,  2.55s/it]\n",
      "Training (3700 / 18000 Steps) (loss=0.43195):  71%|███████▏  | 5/7 [00:25<00:13,  6.56s/it]"
     ]
    },
    {
     "name": "stdout",
     "output_type": "stream",
     "text": [
      "Model Was Saved ! Current Best Avg. Dice: 0.3412066698074341 Current Avg. Dice: 0.3412066698074341 Current Avg. tumor Dice: 0.33420783281326294 Current Avg. lymph Dice: 0.34820547699928284\n"
     ]
    },
    {
     "name": "stderr",
     "output_type": "stream",
     "text": [
      "Training (3702 / 18000 Steps) (loss=0.50027): 100%|██████████| 7/7 [00:28<00:00,  4.11s/it]\n",
      "Training (3709 / 18000 Steps) (loss=0.51478): 100%|██████████| 7/7 [00:17<00:00,  2.45s/it]\n",
      "Training (3716 / 18000 Steps) (loss=0.43108): 100%|██████████| 7/7 [00:16<00:00,  2.40s/it]\n",
      "Training (3723 / 18000 Steps) (loss=0.57319): 100%|██████████| 7/7 [00:17<00:00,  2.44s/it]\n",
      "Training (3730 / 18000 Steps) (loss=0.45860): 100%|██████████| 7/7 [00:16<00:00,  2.39s/it]\n",
      "Training (3737 / 18000 Steps) (loss=0.53939): 100%|██████████| 7/7 [00:17<00:00,  2.43s/it]\n",
      "Training (3744 / 18000 Steps) (loss=0.53650): 100%|██████████| 7/7 [00:17<00:00,  2.46s/it]\n",
      "Training (3751 / 18000 Steps) (loss=0.65935): 100%|██████████| 7/7 [00:16<00:00,  2.38s/it]\n",
      "Training (3758 / 18000 Steps) (loss=0.53640): 100%|██████████| 7/7 [00:17<00:00,  2.46s/it]\n",
      "Training (3765 / 18000 Steps) (loss=0.45538): 100%|██████████| 7/7 [00:16<00:00,  2.38s/it]\n",
      "Training (3772 / 18000 Steps) (loss=0.46063): 100%|██████████| 7/7 [00:17<00:00,  2.45s/it]\n",
      "Training (3779 / 18000 Steps) (loss=0.59479): 100%|██████████| 7/7 [00:17<00:00,  2.46s/it]\n",
      "Training (3786 / 18000 Steps) (loss=0.43082): 100%|██████████| 7/7 [00:17<00:00,  2.43s/it]\n",
      "Training (3793 / 18000 Steps) (loss=0.44798): 100%|██████████| 7/7 [00:17<00:00,  2.44s/it]\n",
      "Validate (3794 / 10 Steps): 100%|██████████| 2/2 [00:10<00:00,  5.33s/it]<00:02,  2.21s/it]\n",
      "Training (3800 / 18000 Steps) (loss=0.56638): 100%|██████████| 7/7 [00:27<00:00,  3.90s/it]\n"
     ]
    },
    {
     "name": "stdout",
     "output_type": "stream",
     "text": [
      "Model Was Not Saved ! Current Best Avg. Dice: 0.3412066698074341 Current Avg. Dice: 0.3219667673110962 Current Avg. tumor Dice: 0.2594805061817169 Current Avg. lymph Dice: 0.3844529986381531\n"
     ]
    },
    {
     "name": "stderr",
     "output_type": "stream",
     "text": [
      "Training (3807 / 18000 Steps) (loss=0.51999): 100%|██████████| 7/7 [00:16<00:00,  2.39s/it]\n",
      "Training (3814 / 18000 Steps) (loss=0.57079): 100%|██████████| 7/7 [00:16<00:00,  2.39s/it]\n",
      "Training (3821 / 18000 Steps) (loss=0.52402): 100%|██████████| 7/7 [00:17<00:00,  2.44s/it]\n",
      "Training (3828 / 18000 Steps) (loss=0.56001): 100%|██████████| 7/7 [00:17<00:00,  2.46s/it]\n",
      "Training (3835 / 18000 Steps) (loss=0.49436): 100%|██████████| 7/7 [00:17<00:00,  2.43s/it]\n",
      "Training (3842 / 18000 Steps) (loss=0.41873): 100%|██████████| 7/7 [00:16<00:00,  2.39s/it]\n",
      "Training (3849 / 18000 Steps) (loss=0.52176): 100%|██████████| 7/7 [00:17<00:00,  2.45s/it]\n",
      "Training (3856 / 18000 Steps) (loss=0.35520): 100%|██████████| 7/7 [00:17<00:00,  2.46s/it]\n",
      "Training (3863 / 18000 Steps) (loss=0.51487): 100%|██████████| 7/7 [00:16<00:00,  2.41s/it]\n",
      "Training (3870 / 18000 Steps) (loss=0.52824): 100%|██████████| 7/7 [00:16<00:00,  2.42s/it]\n",
      "Training (3877 / 18000 Steps) (loss=0.40517): 100%|██████████| 7/7 [00:17<00:00,  2.50s/it]\n",
      "Training (3884 / 18000 Steps) (loss=0.57724): 100%|██████████| 7/7 [00:17<00:00,  2.43s/it]\n",
      "Training (3891 / 18000 Steps) (loss=0.54726): 100%|██████████| 7/7 [00:16<00:00,  2.40s/it]\n",
      "Training (3898 / 18000 Steps) (loss=0.47969): 100%|██████████| 7/7 [00:17<00:00,  2.46s/it]\n",
      "Validate (3899 / 10 Steps): 100%|██████████| 2/2 [00:10<00:00,  5.37s/it]<00:30,  5.04s/it]\n",
      "Training (3900 / 18000 Steps) (loss=0.50243):  29%|██▊       | 2/7 [00:18<00:50, 10.11s/it]"
     ]
    },
    {
     "name": "stdout",
     "output_type": "stream",
     "text": [
      "Model Was Saved ! Current Best Avg. Dice: 0.3529207110404968 Current Avg. Dice: 0.3529207110404968 Current Avg. tumor Dice: 0.36622950434684753 Current Avg. lymph Dice: 0.33961188793182373\n"
     ]
    },
    {
     "name": "stderr",
     "output_type": "stream",
     "text": [
      "Training (3905 / 18000 Steps) (loss=0.46019): 100%|██████████| 7/7 [00:28<00:00,  4.07s/it]\n",
      "Training (3912 / 18000 Steps) (loss=0.51394): 100%|██████████| 7/7 [00:16<00:00,  2.43s/it]\n",
      "Training (3919 / 18000 Steps) (loss=0.23282): 100%|██████████| 7/7 [00:16<00:00,  2.40s/it]\n",
      "Training (3926 / 18000 Steps) (loss=0.57991): 100%|██████████| 7/7 [00:16<00:00,  2.40s/it]\n",
      "Training (3933 / 18000 Steps) (loss=0.34199): 100%|██████████| 7/7 [00:17<00:00,  2.43s/it]\n",
      "Training (3940 / 18000 Steps) (loss=0.61726): 100%|██████████| 7/7 [00:16<00:00,  2.40s/it]\n",
      "Training (3947 / 18000 Steps) (loss=0.59699): 100%|██████████| 7/7 [00:16<00:00,  2.37s/it]\n",
      "Training (3954 / 18000 Steps) (loss=0.36461): 100%|██████████| 7/7 [00:17<00:00,  2.50s/it]\n",
      "Training (3961 / 18000 Steps) (loss=0.43308): 100%|██████████| 7/7 [00:17<00:00,  2.45s/it]\n",
      "Training (3968 / 18000 Steps) (loss=0.40287): 100%|██████████| 7/7 [00:17<00:00,  2.43s/it]\n",
      "Training (3975 / 18000 Steps) (loss=0.49135): 100%|██████████| 7/7 [00:16<00:00,  2.42s/it]\n",
      "Training (3982 / 18000 Steps) (loss=0.57725): 100%|██████████| 7/7 [00:16<00:00,  2.40s/it]\n",
      "Training (3989 / 18000 Steps) (loss=0.52132): 100%|██████████| 7/7 [00:16<00:00,  2.40s/it]\n",
      "Training (3996 / 18000 Steps) (loss=0.55644): 100%|██████████| 7/7 [00:17<00:00,  2.45s/it]\n",
      "Validate (3997 / 10 Steps): 100%|██████████| 2/2 [00:10<00:00,  5.37s/it]<00:11,  2.76s/it]\n",
      "Training (4000 / 18000 Steps) (loss=0.41897):  57%|█████▋    | 4/7 [00:22<00:20,  6.75s/it]"
     ]
    },
    {
     "name": "stdout",
     "output_type": "stream",
     "text": [
      "Model Was Not Saved ! Current Best Avg. Dice: 0.3529207110404968 Current Avg. Dice: 0.31987857818603516 Current Avg. tumor Dice: 0.29474207758903503 Current Avg. lymph Dice: 0.34501513838768005\n"
     ]
    },
    {
     "name": "stderr",
     "output_type": "stream",
     "text": [
      "Training (4003 / 18000 Steps) (loss=0.38530): 100%|██████████| 7/7 [00:27<00:00,  3.96s/it]\n",
      "Training (4010 / 18000 Steps) (loss=0.56817): 100%|██████████| 7/7 [00:16<00:00,  2.31s/it]\n",
      "Training (4017 / 18000 Steps) (loss=0.44156): 100%|██████████| 7/7 [00:16<00:00,  2.40s/it]\n",
      "Training (4024 / 18000 Steps) (loss=0.49074): 100%|██████████| 7/7 [00:16<00:00,  2.38s/it]\n",
      "Training (4031 / 18000 Steps) (loss=0.59312): 100%|██████████| 7/7 [00:16<00:00,  2.43s/it]\n",
      "Training (4038 / 18000 Steps) (loss=0.28924): 100%|██████████| 7/7 [00:17<00:00,  2.49s/it]\n",
      "Training (4045 / 18000 Steps) (loss=0.37100): 100%|██████████| 7/7 [00:16<00:00,  2.43s/it]\n",
      "Training (4052 / 18000 Steps) (loss=0.50912): 100%|██████████| 7/7 [00:16<00:00,  2.41s/it]\n",
      "Training (4059 / 18000 Steps) (loss=0.66862): 100%|██████████| 7/7 [00:16<00:00,  2.39s/it]\n",
      "Training (4066 / 18000 Steps) (loss=0.40984): 100%|██████████| 7/7 [00:16<00:00,  2.38s/it]\n",
      "Training (4073 / 18000 Steps) (loss=0.61578): 100%|██████████| 7/7 [00:17<00:00,  2.44s/it]\n",
      "Training (4080 / 18000 Steps) (loss=0.66986): 100%|██████████| 7/7 [00:16<00:00,  2.40s/it]\n",
      "Training (4087 / 18000 Steps) (loss=0.49514): 100%|██████████| 7/7 [00:16<00:00,  2.39s/it]\n",
      "Training (4094 / 18000 Steps) (loss=0.38622): 100%|██████████| 7/7 [00:16<00:00,  2.42s/it]\n",
      "Validate (4095 / 10 Steps): 100%|██████████| 2/2 [00:10<00:00,  5.38s/it]<00:04,  2.33s/it]\n",
      "Training (4100 / 18000 Steps) (loss=0.46819):  86%|████████▌ | 6/7 [00:26<00:05,  5.93s/it]"
     ]
    },
    {
     "name": "stdout",
     "output_type": "stream",
     "text": [
      "Model Was Not Saved ! Current Best Avg. Dice: 0.3529207110404968 Current Avg. Dice: 0.3094280958175659 Current Avg. tumor Dice: 0.2406151294708252 Current Avg. lymph Dice: 0.37824106216430664\n"
     ]
    },
    {
     "name": "stderr",
     "output_type": "stream",
     "text": [
      "Training (4101 / 18000 Steps) (loss=0.57927): 100%|██████████| 7/7 [00:27<00:00,  3.93s/it]\n",
      "Training (4108 / 18000 Steps) (loss=0.56986): 100%|██████████| 7/7 [00:17<00:00,  2.44s/it]\n",
      "Training (4115 / 18000 Steps) (loss=0.53273): 100%|██████████| 7/7 [00:17<00:00,  2.43s/it]\n",
      "Training (4122 / 18000 Steps) (loss=0.58200): 100%|██████████| 7/7 [00:16<00:00,  2.40s/it]\n",
      "Training (4129 / 18000 Steps) (loss=0.41271): 100%|██████████| 7/7 [00:16<00:00,  2.32s/it]\n",
      "Training (4136 / 18000 Steps) (loss=0.37513): 100%|██████████| 7/7 [00:17<00:00,  2.48s/it]\n",
      "Training (4143 / 18000 Steps) (loss=0.56786): 100%|██████████| 7/7 [00:17<00:00,  2.43s/it]\n",
      "Training (4150 / 18000 Steps) (loss=0.53421): 100%|██████████| 7/7 [00:17<00:00,  2.45s/it]\n",
      "Training (4157 / 18000 Steps) (loss=0.59289): 100%|██████████| 7/7 [00:16<00:00,  2.40s/it]\n",
      "Training (4164 / 18000 Steps) (loss=0.62420): 100%|██████████| 7/7 [00:17<00:00,  2.46s/it]\n",
      "Training (4171 / 18000 Steps) (loss=0.43394): 100%|██████████| 7/7 [00:16<00:00,  2.42s/it]\n",
      "Training (4178 / 18000 Steps) (loss=0.46192): 100%|██████████| 7/7 [00:16<00:00,  2.42s/it]\n",
      "Training (4185 / 18000 Steps) (loss=0.51406): 100%|██████████| 7/7 [00:16<00:00,  2.42s/it]\n",
      "Training (4192 / 18000 Steps) (loss=0.57145): 100%|██████████| 7/7 [00:16<00:00,  2.43s/it]\n",
      "Training (4199 / 18000 Steps) (loss=0.61154): 100%|██████████| 7/7 [00:17<00:00,  2.43s/it]\n",
      "Validate (4200 / 10 Steps): 100%|██████████| 2/2 [00:10<00:00,  5.36s/it]<?, ?it/s]\n",
      "Training (4200 / 18000 Steps) (loss=0.50095):  14%|█▍        | 1/7 [00:16<01:40, 16.67s/it]"
     ]
    },
    {
     "name": "stdout",
     "output_type": "stream",
     "text": [
      "Model Was Saved ! Current Best Avg. Dice: 0.36607110500335693 Current Avg. Dice: 0.36607110500335693 Current Avg. tumor Dice: 0.33515915274620056 Current Avg. lymph Dice: 0.3969830870628357\n"
     ]
    },
    {
     "name": "stderr",
     "output_type": "stream",
     "text": [
      "Training (4206 / 18000 Steps) (loss=0.30733): 100%|██████████| 7/7 [00:28<00:00,  4.05s/it]\n",
      "Training (4213 / 18000 Steps) (loss=0.45600): 100%|██████████| 7/7 [00:16<00:00,  2.43s/it]\n",
      "Training (4220 / 18000 Steps) (loss=0.44472): 100%|██████████| 7/7 [00:17<00:00,  2.45s/it]\n",
      "Training (4227 / 18000 Steps) (loss=0.59570): 100%|██████████| 7/7 [00:17<00:00,  2.50s/it]\n",
      "Training (4234 / 18000 Steps) (loss=0.36701): 100%|██████████| 7/7 [00:16<00:00,  2.42s/it]\n",
      "Training (4241 / 18000 Steps) (loss=0.32271): 100%|██████████| 7/7 [00:16<00:00,  2.42s/it]\n",
      "Training (4248 / 18000 Steps) (loss=0.55699): 100%|██████████| 7/7 [00:16<00:00,  2.41s/it]\n",
      "Training (4255 / 18000 Steps) (loss=0.46009): 100%|██████████| 7/7 [00:16<00:00,  2.31s/it]\n",
      "Training (4262 / 18000 Steps) (loss=0.35588): 100%|██████████| 7/7 [00:16<00:00,  2.41s/it]\n",
      "Training (4269 / 18000 Steps) (loss=0.32122): 100%|██████████| 7/7 [00:16<00:00,  2.42s/it]\n",
      "Training (4276 / 18000 Steps) (loss=0.36947): 100%|██████████| 7/7 [00:16<00:00,  2.41s/it]\n",
      "Training (4283 / 18000 Steps) (loss=0.63862): 100%|██████████| 7/7 [00:17<00:00,  2.52s/it]\n",
      "Training (4290 / 18000 Steps) (loss=0.52573): 100%|██████████| 7/7 [00:16<00:00,  2.42s/it]\n",
      "Training (4297 / 18000 Steps) (loss=0.45980): 100%|██████████| 7/7 [00:17<00:00,  2.46s/it]\n",
      "Validate (4298 / 10 Steps): 100%|██████████| 2/2 [00:10<00:00,  5.27s/it]<00:16,  3.40s/it]\n",
      "Training (4300 / 18000 Steps) (loss=0.29836):  43%|████▎     | 3/7 [00:20<00:30,  7.63s/it]"
     ]
    },
    {
     "name": "stdout",
     "output_type": "stream",
     "text": [
      "Model Was Not Saved ! Current Best Avg. Dice: 0.36607110500335693 Current Avg. Dice: 0.3337559998035431 Current Avg. tumor Dice: 0.3314483165740967 Current Avg. lymph Dice: 0.3360636830329895\n"
     ]
    },
    {
     "name": "stderr",
     "output_type": "stream",
     "text": [
      "Training (4304 / 18000 Steps) (loss=0.55358): 100%|██████████| 7/7 [00:27<00:00,  3.95s/it]\n",
      "Training (4311 / 18000 Steps) (loss=0.37809): 100%|██████████| 7/7 [00:16<00:00,  2.40s/it]\n",
      "Training (4318 / 18000 Steps) (loss=0.35365): 100%|██████████| 7/7 [00:16<00:00,  2.41s/it]\n",
      "Training (4325 / 18000 Steps) (loss=0.37432): 100%|██████████| 7/7 [00:17<00:00,  2.45s/it]\n",
      "Training (4332 / 18000 Steps) (loss=0.48976): 100%|██████████| 7/7 [00:16<00:00,  2.38s/it]\n",
      "Training (4339 / 18000 Steps) (loss=0.58102): 100%|██████████| 7/7 [00:17<00:00,  2.45s/it]\n",
      "Training (4346 / 18000 Steps) (loss=0.63193): 100%|██████████| 7/7 [00:16<00:00,  2.41s/it]\n",
      "Training (4353 / 18000 Steps) (loss=0.48524): 100%|██████████| 7/7 [00:16<00:00,  2.39s/it]\n",
      "Training (4360 / 18000 Steps) (loss=0.36449): 100%|██████████| 7/7 [00:17<00:00,  2.46s/it]\n",
      "Training (4367 / 18000 Steps) (loss=0.42902): 100%|██████████| 7/7 [00:16<00:00,  2.40s/it]\n",
      "Training (4374 / 18000 Steps) (loss=0.55539): 100%|██████████| 7/7 [00:16<00:00,  2.38s/it]\n",
      "Training (4381 / 18000 Steps) (loss=0.44971): 100%|██████████| 7/7 [00:16<00:00,  2.39s/it]\n",
      "Training (4388 / 18000 Steps) (loss=0.36445): 100%|██████████| 7/7 [00:17<00:00,  2.45s/it]\n",
      "Training (4395 / 18000 Steps) (loss=0.36126): 100%|██████████| 7/7 [00:17<00:00,  2.49s/it]\n",
      "Validate (4396 / 10 Steps): 100%|██████████| 2/2 [00:10<00:00,  5.35s/it]<00:07,  2.47s/it]\n",
      "Training (4400 / 18000 Steps) (loss=0.38918):  71%|███████▏  | 5/7 [00:24<00:12,  6.20s/it]"
     ]
    },
    {
     "name": "stdout",
     "output_type": "stream",
     "text": [
      "Model Was Not Saved ! Current Best Avg. Dice: 0.36607110500335693 Current Avg. Dice: 0.33436083793640137 Current Avg. tumor Dice: 0.33456945419311523 Current Avg. lymph Dice: 0.3341521918773651\n"
     ]
    },
    {
     "name": "stderr",
     "output_type": "stream",
     "text": [
      "Training (4402 / 18000 Steps) (loss=0.32349): 100%|██████████| 7/7 [00:27<00:00,  3.98s/it]\n",
      "Training (4409 / 18000 Steps) (loss=0.50990): 100%|██████████| 7/7 [00:16<00:00,  2.42s/it]\n",
      "Training (4416 / 18000 Steps) (loss=0.41499): 100%|██████████| 7/7 [00:16<00:00,  2.41s/it]\n",
      "Training (4423 / 18000 Steps) (loss=0.57700): 100%|██████████| 7/7 [00:17<00:00,  2.51s/it]\n",
      "Training (4430 / 18000 Steps) (loss=0.44626): 100%|██████████| 7/7 [00:16<00:00,  2.42s/it]\n",
      "Training (4437 / 18000 Steps) (loss=0.40171): 100%|██████████| 7/7 [00:17<00:00,  2.47s/it]\n",
      "Training (4444 / 18000 Steps) (loss=0.40184): 100%|██████████| 7/7 [00:17<00:00,  2.44s/it]\n",
      "Training (4451 / 18000 Steps) (loss=0.58667): 100%|██████████| 7/7 [00:17<00:00,  2.49s/it]\n",
      "Training (4458 / 18000 Steps) (loss=0.53507): 100%|██████████| 7/7 [00:17<00:00,  2.44s/it]\n",
      "Training (4465 / 18000 Steps) (loss=0.32453): 100%|██████████| 7/7 [00:16<00:00,  2.42s/it]\n",
      "Training (4472 / 18000 Steps) (loss=0.51462): 100%|██████████| 7/7 [00:17<00:00,  2.44s/it]\n",
      "Training (4479 / 18000 Steps) (loss=0.34341): 100%|██████████| 7/7 [00:16<00:00,  2.40s/it]\n",
      "Training (4486 / 18000 Steps) (loss=0.34119): 100%|██████████| 7/7 [00:16<00:00,  2.39s/it]\n",
      "Training (4493 / 18000 Steps) (loss=0.66863): 100%|██████████| 7/7 [00:16<00:00,  2.42s/it]\n",
      "Validate (4494 / 10 Steps): 100%|██████████| 2/2 [00:10<00:00,  5.32s/it]<00:02,  2.26s/it]\n",
      "Training (4500 / 18000 Steps) (loss=0.26943): 100%|██████████| 7/7 [00:28<00:00,  4.04s/it]\n"
     ]
    },
    {
     "name": "stdout",
     "output_type": "stream",
     "text": [
      "Model Was Saved ! Current Best Avg. Dice: 0.36619269847869873 Current Avg. Dice: 0.36619269847869873 Current Avg. tumor Dice: 0.3441498577594757 Current Avg. lymph Dice: 0.38823550939559937\n"
     ]
    },
    {
     "name": "stderr",
     "output_type": "stream",
     "text": [
      "Training (4507 / 18000 Steps) (loss=0.53340): 100%|██████████| 7/7 [00:16<00:00,  2.42s/it]\n",
      "Training (4514 / 18000 Steps) (loss=0.46767): 100%|██████████| 7/7 [00:16<00:00,  2.41s/it]\n",
      "Training (4521 / 18000 Steps) (loss=0.48141): 100%|██████████| 7/7 [00:16<00:00,  2.42s/it]\n",
      "Training (4528 / 18000 Steps) (loss=0.46994): 100%|██████████| 7/7 [00:16<00:00,  2.41s/it]\n",
      "Training (4535 / 18000 Steps) (loss=0.47155): 100%|██████████| 7/7 [00:16<00:00,  2.40s/it]\n",
      "Training (4542 / 18000 Steps) (loss=0.45594): 100%|██████████| 7/7 [00:17<00:00,  2.44s/it]\n",
      "Training (4549 / 18000 Steps) (loss=0.59965): 100%|██████████| 7/7 [00:16<00:00,  2.40s/it]\n",
      "Training (4556 / 18000 Steps) (loss=0.46395): 100%|██████████| 7/7 [00:17<00:00,  2.45s/it]\n",
      "Training (4563 / 18000 Steps) (loss=0.50588): 100%|██████████| 7/7 [00:16<00:00,  2.41s/it]\n",
      "Training (4570 / 18000 Steps) (loss=0.36330): 100%|██████████| 7/7 [00:16<00:00,  2.30s/it]\n",
      "Training (4577 / 18000 Steps) (loss=0.45067): 100%|██████████| 7/7 [00:16<00:00,  2.38s/it]\n",
      "Training (4584 / 18000 Steps) (loss=0.59925): 100%|██████████| 7/7 [00:16<00:00,  2.38s/it]\n",
      "Training (4591 / 18000 Steps) (loss=0.55479): 100%|██████████| 7/7 [00:16<00:00,  2.42s/it]\n",
      "Training (4598 / 18000 Steps) (loss=0.59754): 100%|██████████| 7/7 [00:16<00:00,  2.36s/it]\n",
      "Validate (4599 / 10 Steps): 100%|██████████| 2/2 [00:10<00:00,  5.39s/it]<00:28,  4.67s/it]\n",
      "Training (4600 / 18000 Steps) (loss=0.47524):  29%|██▊       | 2/7 [00:17<00:47,  9.53s/it]"
     ]
    },
    {
     "name": "stdout",
     "output_type": "stream",
     "text": [
      "Model Was Not Saved ! Current Best Avg. Dice: 0.36619269847869873 Current Avg. Dice: 0.3528668284416199 Current Avg. tumor Dice: 0.3135148882865906 Current Avg. lymph Dice: 0.3922187089920044\n"
     ]
    },
    {
     "name": "stderr",
     "output_type": "stream",
     "text": [
      "Training (4605 / 18000 Steps) (loss=0.56046): 100%|██████████| 7/7 [00:27<00:00,  3.92s/it]\n",
      "Training (4612 / 18000 Steps) (loss=0.50673): 100%|██████████| 7/7 [00:16<00:00,  2.43s/it]\n",
      "Training (4619 / 18000 Steps) (loss=0.55265): 100%|██████████| 7/7 [00:16<00:00,  2.43s/it]\n",
      "Training (4626 / 18000 Steps) (loss=0.55364): 100%|██████████| 7/7 [00:17<00:00,  2.43s/it]\n",
      "Training (4633 / 18000 Steps) (loss=0.36409): 100%|██████████| 7/7 [00:16<00:00,  2.35s/it]\n",
      "Training (4640 / 18000 Steps) (loss=0.44422): 100%|██████████| 7/7 [00:17<00:00,  2.44s/it]\n",
      "Training (4647 / 18000 Steps) (loss=0.59619): 100%|██████████| 7/7 [00:16<00:00,  2.38s/it]\n",
      "Training (4654 / 18000 Steps) (loss=0.63138): 100%|██████████| 7/7 [00:17<00:00,  2.43s/it]\n",
      "Training (4661 / 18000 Steps) (loss=0.37024): 100%|██████████| 7/7 [00:16<00:00,  2.41s/it]\n",
      "Training (4668 / 18000 Steps) (loss=0.42658): 100%|██████████| 7/7 [00:17<00:00,  2.45s/it]\n",
      "Training (4675 / 18000 Steps) (loss=0.34718): 100%|██████████| 7/7 [00:16<00:00,  2.42s/it]\n",
      "Training (4682 / 18000 Steps) (loss=0.43786): 100%|██████████| 7/7 [00:16<00:00,  2.41s/it]\n",
      "Training (4689 / 18000 Steps) (loss=0.38920): 100%|██████████| 7/7 [00:17<00:00,  2.45s/it]\n",
      "Training (4696 / 18000 Steps) (loss=0.63852): 100%|██████████| 7/7 [00:16<00:00,  2.41s/it]\n",
      "Validate (4697 / 10 Steps): 100%|██████████| 2/2 [00:10<00:00,  5.29s/it]<00:11,  2.83s/it]\n",
      "Training (4700 / 18000 Steps) (loss=0.38337):  57%|█████▋    | 4/7 [00:23<00:21,  7.08s/it]"
     ]
    },
    {
     "name": "stdout",
     "output_type": "stream",
     "text": [
      "Model Was Saved ! Current Best Avg. Dice: 0.37914058566093445 Current Avg. Dice: 0.37914058566093445 Current Avg. tumor Dice: 0.3778766989707947 Current Avg. lymph Dice: 0.3804044723510742\n"
     ]
    },
    {
     "name": "stderr",
     "output_type": "stream",
     "text": [
      "Training (4703 / 18000 Steps) (loss=0.47367): 100%|██████████| 7/7 [00:28<00:00,  4.10s/it]\n",
      "Training (4710 / 18000 Steps) (loss=0.54947): 100%|██████████| 7/7 [00:16<00:00,  2.39s/it]\n",
      "Training (4717 / 18000 Steps) (loss=0.51458): 100%|██████████| 7/7 [00:16<00:00,  2.40s/it]\n",
      "Training (4724 / 18000 Steps) (loss=0.58240): 100%|██████████| 7/7 [00:17<00:00,  2.43s/it]\n",
      "Training (4731 / 18000 Steps) (loss=0.43573): 100%|██████████| 7/7 [00:16<00:00,  2.42s/it]\n",
      "Training (4738 / 18000 Steps) (loss=0.47626): 100%|██████████| 7/7 [00:16<00:00,  2.39s/it]\n",
      "Training (4745 / 18000 Steps) (loss=0.31780): 100%|██████████| 7/7 [00:16<00:00,  2.42s/it]\n",
      "Training (4752 / 18000 Steps) (loss=0.47710): 100%|██████████| 7/7 [00:16<00:00,  2.43s/it]\n",
      "Training (4759 / 18000 Steps) (loss=0.50823): 100%|██████████| 7/7 [00:16<00:00,  2.42s/it]\n",
      "Training (4766 / 18000 Steps) (loss=0.32116): 100%|██████████| 7/7 [00:16<00:00,  2.37s/it]\n",
      "Training (4773 / 18000 Steps) (loss=0.48798): 100%|██████████| 7/7 [00:16<00:00,  2.40s/it]\n",
      "Training (4780 / 18000 Steps) (loss=0.56073): 100%|██████████| 7/7 [00:16<00:00,  2.42s/it]\n",
      "Training (4787 / 18000 Steps) (loss=0.47134): 100%|██████████| 7/7 [00:17<00:00,  2.44s/it]\n",
      "Training (4794 / 18000 Steps) (loss=0.49527): 100%|██████████| 7/7 [00:17<00:00,  2.47s/it]\n",
      "Validate (4795 / 10 Steps): 100%|██████████| 2/2 [00:10<00:00,  5.35s/it]<00:04,  2.31s/it]\n",
      "Training (4800 / 18000 Steps) (loss=0.48032):  86%|████████▌ | 6/7 [00:26<00:05,  5.89s/it]"
     ]
    },
    {
     "name": "stdout",
     "output_type": "stream",
     "text": [
      "Model Was Not Saved ! Current Best Avg. Dice: 0.37914058566093445 Current Avg. Dice: 0.32568785548210144 Current Avg. tumor Dice: 0.29396748542785645 Current Avg. lymph Dice: 0.3574082851409912\n"
     ]
    },
    {
     "name": "stderr",
     "output_type": "stream",
     "text": [
      "Training (4801 / 18000 Steps) (loss=0.63814): 100%|██████████| 7/7 [00:27<00:00,  3.93s/it]\n",
      "Training (4808 / 18000 Steps) (loss=0.31851): 100%|██████████| 7/7 [00:16<00:00,  2.40s/it]\n",
      "Training (4815 / 18000 Steps) (loss=0.42427): 100%|██████████| 7/7 [00:16<00:00,  2.37s/it]\n",
      "Training (4822 / 18000 Steps) (loss=0.28666): 100%|██████████| 7/7 [00:17<00:00,  2.44s/it]\n",
      "Training (4829 / 18000 Steps) (loss=0.63552): 100%|██████████| 7/7 [00:16<00:00,  2.37s/it]\n",
      "Training (4836 / 18000 Steps) (loss=0.63094): 100%|██████████| 7/7 [00:16<00:00,  2.41s/it]\n",
      "Training (4843 / 18000 Steps) (loss=0.36305): 100%|██████████| 7/7 [00:17<00:00,  2.45s/it]\n",
      "Training (4850 / 18000 Steps) (loss=0.52927): 100%|██████████| 7/7 [00:17<00:00,  2.44s/it]\n",
      "Training (4857 / 18000 Steps) (loss=0.51196): 100%|██████████| 7/7 [00:16<00:00,  2.37s/it]\n",
      "Training (4864 / 18000 Steps) (loss=0.42995): 100%|██████████| 7/7 [00:16<00:00,  2.41s/it]\n",
      "Training (4871 / 18000 Steps) (loss=0.45431): 100%|██████████| 7/7 [00:16<00:00,  2.39s/it]\n",
      "Training (4878 / 18000 Steps) (loss=0.56763): 100%|██████████| 7/7 [00:16<00:00,  2.40s/it]\n",
      "Training (4885 / 18000 Steps) (loss=0.60833): 100%|██████████| 7/7 [00:17<00:00,  2.47s/it]\n",
      "Training (4892 / 18000 Steps) (loss=0.46218): 100%|██████████| 7/7 [00:17<00:00,  2.49s/it]\n",
      "Training (4899 / 18000 Steps) (loss=0.40482): 100%|██████████| 7/7 [00:16<00:00,  2.38s/it]\n",
      "Validate (4900 / 10 Steps): 100%|██████████| 2/2 [00:10<00:00,  5.28s/it]<?, ?it/s]\n",
      "Training (4900 / 18000 Steps) (loss=0.56590):  14%|█▍        | 1/7 [00:15<01:33, 15.65s/it]"
     ]
    },
    {
     "name": "stdout",
     "output_type": "stream",
     "text": [
      "Model Was Not Saved ! Current Best Avg. Dice: 0.37914058566093445 Current Avg. Dice: 0.3724895715713501 Current Avg. tumor Dice: 0.3478200137615204 Current Avg. lymph Dice: 0.3971590995788574\n"
     ]
    },
    {
     "name": "stderr",
     "output_type": "stream",
     "text": [
      "Training (4906 / 18000 Steps) (loss=0.49009): 100%|██████████| 7/7 [00:27<00:00,  3.94s/it]\n",
      "Training (4913 / 18000 Steps) (loss=0.39038): 100%|██████████| 7/7 [00:16<00:00,  2.39s/it]\n",
      "Training (4920 / 18000 Steps) (loss=0.44153): 100%|██████████| 7/7 [00:16<00:00,  2.40s/it]\n",
      "Training (4927 / 18000 Steps) (loss=0.46023): 100%|██████████| 7/7 [00:16<00:00,  2.40s/it]\n",
      "Training (4934 / 18000 Steps) (loss=0.49059): 100%|██████████| 7/7 [00:17<00:00,  2.44s/it]\n",
      "Training (4941 / 18000 Steps) (loss=0.56533): 100%|██████████| 7/7 [00:16<00:00,  2.42s/it]\n",
      "Training (4948 / 18000 Steps) (loss=0.35199): 100%|██████████| 7/7 [00:16<00:00,  2.42s/it]\n",
      "Training (4955 / 18000 Steps) (loss=0.50042): 100%|██████████| 7/7 [00:16<00:00,  2.42s/it]\n",
      "Training (4962 / 18000 Steps) (loss=0.67728): 100%|██████████| 7/7 [00:16<00:00,  2.38s/it]\n",
      "Training (4969 / 18000 Steps) (loss=0.55166): 100%|██████████| 7/7 [00:16<00:00,  2.40s/it]\n",
      "Training (4976 / 18000 Steps) (loss=0.54209): 100%|██████████| 7/7 [00:16<00:00,  2.40s/it]\n",
      "Training (4983 / 18000 Steps) (loss=0.54453): 100%|██████████| 7/7 [00:16<00:00,  2.38s/it]\n",
      "Training (4990 / 18000 Steps) (loss=0.61269): 100%|██████████| 7/7 [00:17<00:00,  2.44s/it]\n",
      "Training (4997 / 18000 Steps) (loss=0.26129): 100%|██████████| 7/7 [00:16<00:00,  2.42s/it]\n",
      "Validate (4998 / 10 Steps): 100%|██████████| 2/2 [00:10<00:00,  5.29s/it]<00:16,  3.32s/it]\n",
      "Training (5000 / 18000 Steps) (loss=0.49318):  43%|████▎     | 3/7 [00:19<00:30,  7.59s/it]"
     ]
    },
    {
     "name": "stdout",
     "output_type": "stream",
     "text": [
      "Model Was Not Saved ! Current Best Avg. Dice: 0.37914058566093445 Current Avg. Dice: 0.37440890073776245 Current Avg. tumor Dice: 0.3777453303337097 Current Avg. lymph Dice: 0.3710724413394928\n"
     ]
    },
    {
     "name": "stderr",
     "output_type": "stream",
     "text": [
      "Training (5004 / 18000 Steps) (loss=0.53068): 100%|██████████| 7/7 [00:27<00:00,  3.93s/it]\n",
      "Training (5011 / 18000 Steps) (loss=0.35272): 100%|██████████| 7/7 [00:17<00:00,  2.44s/it]\n",
      "Training (5018 / 18000 Steps) (loss=0.60405): 100%|██████████| 7/7 [00:16<00:00,  2.38s/it]\n",
      "Training (5025 / 18000 Steps) (loss=0.51248): 100%|██████████| 7/7 [00:16<00:00,  2.39s/it]\n",
      "Training (5032 / 18000 Steps) (loss=0.54186): 100%|██████████| 7/7 [00:16<00:00,  2.43s/it]\n",
      "Training (5039 / 18000 Steps) (loss=0.28801): 100%|██████████| 7/7 [00:16<00:00,  2.42s/it]\n",
      "Training (5046 / 18000 Steps) (loss=0.43518): 100%|██████████| 7/7 [00:16<00:00,  2.42s/it]\n",
      "Training (5053 / 18000 Steps) (loss=0.41099): 100%|██████████| 7/7 [00:16<00:00,  2.38s/it]\n",
      "Training (5060 / 18000 Steps) (loss=0.51599): 100%|██████████| 7/7 [00:16<00:00,  2.38s/it]\n",
      "Training (5067 / 18000 Steps) (loss=0.61921): 100%|██████████| 7/7 [00:16<00:00,  2.40s/it]\n",
      "Training (5074 / 18000 Steps) (loss=0.47728): 100%|██████████| 7/7 [00:17<00:00,  2.43s/it]\n",
      "Training (5081 / 18000 Steps) (loss=0.25788): 100%|██████████| 7/7 [00:17<00:00,  2.43s/it]\n",
      "Training (5088 / 18000 Steps) (loss=0.38641): 100%|██████████| 7/7 [00:16<00:00,  2.36s/it]\n",
      "Training (5095 / 18000 Steps) (loss=0.43905): 100%|██████████| 7/7 [00:16<00:00,  2.39s/it]\n",
      "Validate (5096 / 10 Steps): 100%|██████████| 2/2 [00:10<00:00,  5.26s/it]<00:07,  2.47s/it]\n",
      "Training (5100 / 18000 Steps) (loss=0.57484):  71%|███████▏  | 5/7 [00:23<00:12,  6.14s/it]"
     ]
    },
    {
     "name": "stdout",
     "output_type": "stream",
     "text": [
      "Model Was Not Saved ! Current Best Avg. Dice: 0.37914058566093445 Current Avg. Dice: 0.3082239031791687 Current Avg. tumor Dice: 0.28740695118904114 Current Avg. lymph Dice: 0.32904088497161865\n"
     ]
    },
    {
     "name": "stderr",
     "output_type": "stream",
     "text": [
      "Training (5102 / 18000 Steps) (loss=0.48774): 100%|██████████| 7/7 [00:27<00:00,  3.92s/it]\n",
      "Training (5109 / 18000 Steps) (loss=0.46639): 100%|██████████| 7/7 [00:16<00:00,  2.43s/it]\n",
      "Training (5116 / 18000 Steps) (loss=0.35410): 100%|██████████| 7/7 [00:16<00:00,  2.41s/it]\n",
      "Training (5123 / 18000 Steps) (loss=0.42915): 100%|██████████| 7/7 [00:16<00:00,  2.42s/it]\n",
      "Training (5130 / 18000 Steps) (loss=0.57351): 100%|██████████| 7/7 [00:16<00:00,  2.40s/it]\n",
      "Training (5137 / 18000 Steps) (loss=0.46977): 100%|██████████| 7/7 [00:16<00:00,  2.41s/it]\n",
      "Training (5144 / 18000 Steps) (loss=0.56682): 100%|██████████| 7/7 [00:16<00:00,  2.41s/it]\n",
      "Training (5151 / 18000 Steps) (loss=0.68248): 100%|██████████| 7/7 [00:16<00:00,  2.40s/it]\n",
      "Training (5158 / 18000 Steps) (loss=0.52737): 100%|██████████| 7/7 [00:16<00:00,  2.40s/it]\n",
      "Training (5165 / 18000 Steps) (loss=0.43141): 100%|██████████| 7/7 [00:17<00:00,  2.43s/it]\n",
      "Training (5172 / 18000 Steps) (loss=0.41062): 100%|██████████| 7/7 [00:16<00:00,  2.43s/it]\n",
      "Training (5179 / 18000 Steps) (loss=0.63937): 100%|██████████| 7/7 [00:16<00:00,  2.31s/it]\n",
      "Training (5186 / 18000 Steps) (loss=0.60637): 100%|██████████| 7/7 [00:16<00:00,  2.38s/it]\n",
      "Training (5193 / 18000 Steps) (loss=0.57495): 100%|██████████| 7/7 [00:16<00:00,  2.41s/it]\n",
      "Validate (5194 / 10 Steps): 100%|██████████| 2/2 [00:11<00:00,  5.51s/it]<00:02,  2.20s/it]\n",
      "Training (5200 / 18000 Steps) (loss=0.41676): 100%|██████████| 7/7 [00:27<00:00,  3.90s/it]\n"
     ]
    },
    {
     "name": "stdout",
     "output_type": "stream",
     "text": [
      "Model Was Not Saved ! Current Best Avg. Dice: 0.37914058566093445 Current Avg. Dice: 0.3557828366756439 Current Avg. tumor Dice: 0.3260693848133087 Current Avg. lymph Dice: 0.3854963183403015\n"
     ]
    },
    {
     "name": "stderr",
     "output_type": "stream",
     "text": [
      "Training (5207 / 18000 Steps) (loss=0.39657): 100%|██████████| 7/7 [00:16<00:00,  2.34s/it]\n",
      "Training (5214 / 18000 Steps) (loss=0.39392): 100%|██████████| 7/7 [00:14<00:00,  2.08s/it]\n",
      "Training (5221 / 18000 Steps) (loss=0.55055): 100%|██████████| 7/7 [00:13<00:00,  1.93s/it]\n",
      "Training (5228 / 18000 Steps) (loss=0.49585): 100%|██████████| 7/7 [00:13<00:00,  1.93s/it]\n",
      "Training (5235 / 18000 Steps) (loss=0.52174): 100%|██████████| 7/7 [00:13<00:00,  1.89s/it]\n",
      "Training (5242 / 18000 Steps) (loss=0.49717): 100%|██████████| 7/7 [00:13<00:00,  1.89s/it]\n",
      "Training (5249 / 18000 Steps) (loss=0.39304): 100%|██████████| 7/7 [00:13<00:00,  1.94s/it]\n",
      "Training (5256 / 18000 Steps) (loss=0.48665): 100%|██████████| 7/7 [00:13<00:00,  1.90s/it]\n",
      "Training (5263 / 18000 Steps) (loss=0.60223): 100%|██████████| 7/7 [00:13<00:00,  1.93s/it]\n",
      "Training (5270 / 18000 Steps) (loss=0.47167): 100%|██████████| 7/7 [00:13<00:00,  1.90s/it]\n",
      "Training (5277 / 18000 Steps) (loss=0.52490): 100%|██████████| 7/7 [00:13<00:00,  1.93s/it]\n",
      "Training (5284 / 18000 Steps) (loss=0.36264): 100%|██████████| 7/7 [00:13<00:00,  1.90s/it]\n",
      "Training (5291 / 18000 Steps) (loss=0.30010): 100%|██████████| 7/7 [00:13<00:00,  1.90s/it]\n",
      "Training (5298 / 18000 Steps) (loss=0.51733): 100%|██████████| 7/7 [00:12<00:00,  1.86s/it]\n",
      "Validate (5299 / 10 Steps): 100%|██████████| 2/2 [00:08<00:00,  4.30s/it]<00:25,  4.30s/it]\n",
      "Training (5300 / 18000 Steps) (loss=0.41725):  29%|██▊       | 2/7 [00:14<00:39,  7.93s/it]"
     ]
    },
    {
     "name": "stdout",
     "output_type": "stream",
     "text": [
      "Model Was Not Saved ! Current Best Avg. Dice: 0.37914058566093445 Current Avg. Dice: 0.34076830744743347 Current Avg. tumor Dice: 0.2951972186565399 Current Avg. lymph Dice: 0.38633936643600464\n"
     ]
    },
    {
     "name": "stderr",
     "output_type": "stream",
     "text": [
      "Training (5305 / 18000 Steps) (loss=0.62428): 100%|██████████| 7/7 [00:22<00:00,  3.16s/it]\n",
      "Training (5312 / 18000 Steps) (loss=0.44055): 100%|██████████| 7/7 [00:13<00:00,  1.90s/it]\n",
      "Training (5319 / 18000 Steps) (loss=0.57606): 100%|██████████| 7/7 [00:13<00:00,  1.90s/it]\n",
      "Training (5326 / 18000 Steps) (loss=0.55546): 100%|██████████| 7/7 [00:13<00:00,  1.89s/it]\n",
      "Training (5333 / 18000 Steps) (loss=0.34192): 100%|██████████| 7/7 [00:12<00:00,  1.85s/it]\n",
      "Training (5340 / 18000 Steps) (loss=0.56404): 100%|██████████| 7/7 [00:13<00:00,  1.89s/it]\n",
      "Training (5347 / 18000 Steps) (loss=0.62445): 100%|██████████| 7/7 [00:13<00:00,  1.87s/it]\n",
      "Training (5354 / 18000 Steps) (loss=0.33188): 100%|██████████| 7/7 [00:13<00:00,  1.92s/it]\n",
      "Training (5361 / 18000 Steps) (loss=0.34907): 100%|██████████| 7/7 [00:13<00:00,  1.90s/it]\n",
      "Training (5368 / 18000 Steps) (loss=0.39021): 100%|██████████| 7/7 [00:13<00:00,  1.90s/it]\n",
      "Training (5375 / 18000 Steps) (loss=0.60935): 100%|██████████| 7/7 [00:13<00:00,  1.90s/it]\n",
      "Training (5382 / 18000 Steps) (loss=0.47562): 100%|██████████| 7/7 [00:13<00:00,  1.87s/it]\n",
      "Training (5389 / 18000 Steps) (loss=0.27034): 100%|██████████| 7/7 [00:13<00:00,  1.89s/it]\n",
      "Training (5396 / 18000 Steps) (loss=0.46694): 100%|██████████| 7/7 [00:13<00:00,  1.91s/it]\n",
      "Validate (5397 / 10 Steps): 100%|██████████| 2/2 [00:08<00:00,  4.32s/it]<00:09,  2.32s/it]\n",
      "Training (5400 / 18000 Steps) (loss=0.50908):  57%|█████▋    | 4/7 [00:18<00:16,  5.47s/it]"
     ]
    },
    {
     "name": "stdout",
     "output_type": "stream",
     "text": [
      "Model Was Not Saved ! Current Best Avg. Dice: 0.37914058566093445 Current Avg. Dice: 0.36555248498916626 Current Avg. tumor Dice: 0.327807754278183 Current Avg. lymph Dice: 0.4032972455024719\n"
     ]
    },
    {
     "name": "stderr",
     "output_type": "stream",
     "text": [
      "Training (5403 / 18000 Steps) (loss=0.43269): 100%|██████████| 7/7 [00:22<00:00,  3.20s/it]\n",
      "Training (5410 / 18000 Steps) (loss=0.37745): 100%|██████████| 7/7 [00:13<00:00,  1.88s/it]\n",
      "Training (5417 / 18000 Steps) (loss=0.41227): 100%|██████████| 7/7 [00:13<00:00,  1.89s/it]\n",
      "Training (5424 / 18000 Steps) (loss=0.44415): 100%|██████████| 7/7 [00:13<00:00,  1.90s/it]\n",
      "Training (5431 / 18000 Steps) (loss=0.46595): 100%|██████████| 7/7 [00:13<00:00,  1.87s/it]\n",
      "Training (5438 / 18000 Steps) (loss=0.44385): 100%|██████████| 7/7 [00:13<00:00,  1.86s/it]\n",
      "Training (5445 / 18000 Steps) (loss=0.47069): 100%|██████████| 7/7 [00:13<00:00,  1.87s/it]\n",
      "Training (5452 / 18000 Steps) (loss=0.61977): 100%|██████████| 7/7 [00:13<00:00,  1.90s/it]\n",
      "Training (5459 / 18000 Steps) (loss=0.47997): 100%|██████████| 7/7 [00:13<00:00,  1.92s/it]\n",
      "Training (5466 / 18000 Steps) (loss=0.43381): 100%|██████████| 7/7 [00:13<00:00,  1.89s/it]\n",
      "Training (5473 / 18000 Steps) (loss=0.35889): 100%|██████████| 7/7 [00:13<00:00,  1.87s/it]\n",
      "Training (5480 / 18000 Steps) (loss=0.40311): 100%|██████████| 7/7 [00:13<00:00,  1.92s/it]\n",
      "Training (5487 / 18000 Steps) (loss=0.53408): 100%|██████████| 7/7 [00:13<00:00,  1.86s/it]\n",
      "Training (5494 / 18000 Steps) (loss=0.57658): 100%|██████████| 7/7 [00:13<00:00,  1.92s/it]\n",
      "Validate (5495 / 10 Steps): 100%|██████████| 2/2 [00:08<00:00,  4.33s/it]<00:03,  1.84s/it]\n",
      "Training (5500 / 18000 Steps) (loss=0.50080):  86%|████████▌ | 6/7 [00:21<00:04,  4.77s/it]"
     ]
    },
    {
     "name": "stdout",
     "output_type": "stream",
     "text": [
      "Model Was Not Saved ! Current Best Avg. Dice: 0.37914058566093445 Current Avg. Dice: 0.3555842638015747 Current Avg. tumor Dice: 0.3605422377586365 Current Avg. lymph Dice: 0.35062628984451294\n"
     ]
    },
    {
     "name": "stderr",
     "output_type": "stream",
     "text": [
      "Training (5501 / 18000 Steps) (loss=0.49244): 100%|██████████| 7/7 [00:22<00:00,  3.17s/it]\n",
      "Training (5508 / 18000 Steps) (loss=0.58471): 100%|██████████| 7/7 [00:13<00:00,  1.91s/it]\n",
      "Training (5515 / 18000 Steps) (loss=0.38418): 100%|██████████| 7/7 [00:13<00:00,  1.91s/it]\n",
      "Training (5522 / 18000 Steps) (loss=0.29970): 100%|██████████| 7/7 [00:13<00:00,  1.88s/it]\n",
      "Training (5529 / 18000 Steps) (loss=0.47903): 100%|██████████| 7/7 [00:13<00:00,  1.89s/it]\n",
      "Training (5536 / 18000 Steps) (loss=0.54944): 100%|██████████| 7/7 [00:13<00:00,  1.91s/it]\n",
      "Training (5543 / 18000 Steps) (loss=0.46810): 100%|██████████| 7/7 [00:13<00:00,  1.91s/it]\n",
      "Training (5550 / 18000 Steps) (loss=0.40349): 100%|██████████| 7/7 [00:13<00:00,  1.97s/it]\n",
      "Training (5557 / 18000 Steps) (loss=0.46742): 100%|██████████| 7/7 [00:13<00:00,  1.90s/it]\n",
      "Training (5564 / 18000 Steps) (loss=0.55426): 100%|██████████| 7/7 [00:13<00:00,  1.90s/it]\n",
      "Training (5571 / 18000 Steps) (loss=0.34152): 100%|██████████| 7/7 [00:13<00:00,  1.89s/it]\n",
      "Training (5578 / 18000 Steps) (loss=0.31179): 100%|██████████| 7/7 [00:13<00:00,  1.89s/it]\n",
      "Training (5585 / 18000 Steps) (loss=0.33923): 100%|██████████| 7/7 [00:13<00:00,  1.90s/it]\n",
      "Training (5592 / 18000 Steps) (loss=0.45049): 100%|██████████| 7/7 [00:13<00:00,  1.93s/it]\n",
      "Training (5599 / 18000 Steps) (loss=0.46177): 100%|██████████| 7/7 [00:13<00:00,  1.91s/it]\n",
      "Validate (5600 / 10 Steps): 100%|██████████| 2/2 [00:08<00:00,  4.37s/it]<?, ?it/s]\n",
      "Training (5600 / 18000 Steps) (loss=0.39970):  14%|█▍        | 1/7 [00:13<01:23, 13.99s/it]"
     ]
    },
    {
     "name": "stdout",
     "output_type": "stream",
     "text": [
      "Model Was Saved ! Current Best Avg. Dice: 0.3828052878379822 Current Avg. Dice: 0.3828052878379822 Current Avg. tumor Dice: 0.3737163543701172 Current Avg. lymph Dice: 0.39189422130584717\n"
     ]
    },
    {
     "name": "stderr",
     "output_type": "stream",
     "text": [
      "Training (5606 / 18000 Steps) (loss=0.50340): 100%|██████████| 7/7 [00:22<00:00,  3.27s/it]\n",
      "Training (5613 / 18000 Steps) (loss=0.54292): 100%|██████████| 7/7 [00:13<00:00,  1.87s/it]\n",
      "Training (5620 / 18000 Steps) (loss=0.65586): 100%|██████████| 7/7 [00:13<00:00,  1.93s/it]\n",
      "Training (5627 / 18000 Steps) (loss=0.50204): 100%|██████████| 7/7 [00:13<00:00,  1.94s/it]\n",
      "Training (5634 / 18000 Steps) (loss=0.49620): 100%|██████████| 7/7 [00:13<00:00,  1.93s/it]\n",
      "Training (5641 / 18000 Steps) (loss=0.36092): 100%|██████████| 7/7 [00:13<00:00,  1.94s/it]\n",
      "Training (5648 / 18000 Steps) (loss=0.56009): 100%|██████████| 7/7 [00:13<00:00,  1.94s/it]\n",
      "Training (5655 / 18000 Steps) (loss=0.49908): 100%|██████████| 7/7 [00:13<00:00,  1.91s/it]\n",
      "Training (5662 / 18000 Steps) (loss=0.51749): 100%|██████████| 7/7 [00:13<00:00,  1.95s/it]\n",
      "Training (5669 / 18000 Steps) (loss=0.41882): 100%|██████████| 7/7 [00:13<00:00,  1.93s/it]\n",
      "Training (5676 / 18000 Steps) (loss=0.28257): 100%|██████████| 7/7 [00:13<00:00,  1.95s/it]\n",
      "Training (5683 / 18000 Steps) (loss=0.50485): 100%|██████████| 7/7 [00:13<00:00,  1.93s/it]\n",
      "Training (5690 / 18000 Steps) (loss=0.28839): 100%|██████████| 7/7 [00:13<00:00,  1.93s/it]\n",
      "Training (5697 / 18000 Steps) (loss=0.23738): 100%|██████████| 7/7 [00:13<00:00,  1.91s/it]\n",
      "Validate (5698 / 10 Steps): 100%|██████████| 2/2 [00:08<00:00,  4.32s/it]<00:13,  2.69s/it]\n",
      "Training (5700 / 18000 Steps) (loss=0.39146):  43%|████▎     | 3/7 [00:16<00:24,  6.15s/it]"
     ]
    },
    {
     "name": "stdout",
     "output_type": "stream",
     "text": [
      "Model Was Not Saved ! Current Best Avg. Dice: 0.3828052878379822 Current Avg. Dice: 0.3457016348838806 Current Avg. tumor Dice: 0.3111233711242676 Current Avg. lymph Dice: 0.38027986884117126\n"
     ]
    },
    {
     "name": "stderr",
     "output_type": "stream",
     "text": [
      "Training (5704 / 18000 Steps) (loss=0.54709): 100%|██████████| 7/7 [00:22<00:00,  3.17s/it]\n",
      "Training (5711 / 18000 Steps) (loss=0.51065): 100%|██████████| 7/7 [00:13<00:00,  1.95s/it]\n",
      "Training (5718 / 18000 Steps) (loss=0.36094): 100%|██████████| 7/7 [00:13<00:00,  1.93s/it]\n",
      "Training (5725 / 18000 Steps) (loss=0.43847): 100%|██████████| 7/7 [00:13<00:00,  1.93s/it]\n",
      "Training (5732 / 18000 Steps) (loss=0.47482): 100%|██████████| 7/7 [00:13<00:00,  1.94s/it]\n",
      "Training (5739 / 18000 Steps) (loss=0.55449): 100%|██████████| 7/7 [00:13<00:00,  1.95s/it]\n",
      "Training (5746 / 18000 Steps) (loss=0.54506): 100%|██████████| 7/7 [00:13<00:00,  1.87s/it]\n",
      "Training (5753 / 18000 Steps) (loss=0.54076): 100%|██████████| 7/7 [00:13<00:00,  1.89s/it]\n",
      "Training (5760 / 18000 Steps) (loss=0.54420): 100%|██████████| 7/7 [00:13<00:00,  1.94s/it]\n",
      "Training (5767 / 18000 Steps) (loss=0.59467): 100%|██████████| 7/7 [00:13<00:00,  1.90s/it]\n",
      "Training (5774 / 18000 Steps) (loss=0.35383): 100%|██████████| 7/7 [00:13<00:00,  1.87s/it]\n",
      "Training (5781 / 18000 Steps) (loss=0.34097): 100%|██████████| 7/7 [00:13<00:00,  1.87s/it]\n",
      "Training (5788 / 18000 Steps) (loss=0.45003): 100%|██████████| 7/7 [00:13<00:00,  1.87s/it]\n",
      "Training (5795 / 18000 Steps) (loss=0.43488): 100%|██████████| 7/7 [00:13<00:00,  1.89s/it]\n",
      "Validate (5796 / 10 Steps): 100%|██████████| 2/2 [00:08<00:00,  4.34s/it]<00:05,  1.95s/it]\n",
      "Training (5800 / 18000 Steps) (loss=0.50619):  71%|███████▏  | 5/7 [00:19<00:10,  5.00s/it]"
     ]
    },
    {
     "name": "stdout",
     "output_type": "stream",
     "text": [
      "Model Was Not Saved ! Current Best Avg. Dice: 0.3828052878379822 Current Avg. Dice: 0.3169562518596649 Current Avg. tumor Dice: 0.277922660112381 Current Avg. lymph Dice: 0.35598981380462646\n"
     ]
    },
    {
     "name": "stderr",
     "output_type": "stream",
     "text": [
      "Training (5802 / 18000 Steps) (loss=0.53851): 100%|██████████| 7/7 [00:22<00:00,  3.15s/it]\n",
      "Training (5809 / 18000 Steps) (loss=0.42134): 100%|██████████| 7/7 [00:13<00:00,  1.93s/it]\n",
      "Training (5816 / 18000 Steps) (loss=0.54521): 100%|██████████| 7/7 [00:13<00:00,  1.91s/it]\n",
      "Training (5823 / 18000 Steps) (loss=0.39338): 100%|██████████| 7/7 [00:13<00:00,  1.89s/it]\n",
      "Training (5830 / 18000 Steps) (loss=0.41189): 100%|██████████| 7/7 [00:13<00:00,  1.93s/it]\n",
      "Training (5837 / 18000 Steps) (loss=0.31917): 100%|██████████| 7/7 [00:13<00:00,  1.90s/it]\n",
      "Training (5844 / 18000 Steps) (loss=0.44254): 100%|██████████| 7/7 [00:13<00:00,  1.87s/it]\n",
      "Training (5851 / 18000 Steps) (loss=0.45693): 100%|██████████| 7/7 [00:13<00:00,  1.88s/it]\n",
      "Training (5858 / 18000 Steps) (loss=0.53454): 100%|██████████| 7/7 [00:13<00:00,  1.87s/it]\n",
      "Training (5865 / 18000 Steps) (loss=0.38023): 100%|██████████| 7/7 [00:13<00:00,  1.95s/it]\n",
      "Training (5872 / 18000 Steps) (loss=0.48568): 100%|██████████| 7/7 [00:13<00:00,  1.91s/it]\n",
      "Training (5879 / 18000 Steps) (loss=0.48950): 100%|██████████| 7/7 [00:13<00:00,  1.88s/it]\n",
      "Training (5886 / 18000 Steps) (loss=0.43912): 100%|██████████| 7/7 [00:13<00:00,  1.90s/it]\n",
      "Training (5893 / 18000 Steps) (loss=0.56799): 100%|██████████| 7/7 [00:13<00:00,  1.92s/it]\n",
      "Validate (5894 / 10 Steps): 100%|██████████| 2/2 [00:08<00:00,  4.30s/it]<00:01,  1.72s/it]\n",
      "Training (5900 / 18000 Steps) (loss=0.44976): 100%|██████████| 7/7 [00:21<00:00,  3.10s/it]\n"
     ]
    },
    {
     "name": "stdout",
     "output_type": "stream",
     "text": [
      "Model Was Not Saved ! Current Best Avg. Dice: 0.3828052878379822 Current Avg. Dice: 0.33400624990463257 Current Avg. tumor Dice: 0.3328028619289398 Current Avg. lymph Dice: 0.3352096974849701\n"
     ]
    },
    {
     "name": "stderr",
     "output_type": "stream",
     "text": [
      "Training (5907 / 18000 Steps) (loss=0.55622): 100%|██████████| 7/7 [00:13<00:00,  1.87s/it]\n",
      "Training (5914 / 18000 Steps) (loss=0.32426): 100%|██████████| 7/7 [00:13<00:00,  1.92s/it]\n",
      "Training (5921 / 18000 Steps) (loss=0.55721): 100%|██████████| 7/7 [00:15<00:00,  2.26s/it]\n",
      "Training (5928 / 18000 Steps) (loss=0.45984): 100%|██████████| 7/7 [00:13<00:00,  1.91s/it]\n",
      "Training (5935 / 18000 Steps) (loss=0.34038): 100%|██████████| 7/7 [00:15<00:00,  2.15s/it]\n",
      "Training (5942 / 18000 Steps) (loss=0.31323): 100%|██████████| 7/7 [00:13<00:00,  1.88s/it]\n",
      "Training (5949 / 18000 Steps) (loss=0.47905): 100%|██████████| 7/7 [00:13<00:00,  1.91s/it]\n",
      "Training (5956 / 18000 Steps) (loss=0.46243): 100%|██████████| 7/7 [00:13<00:00,  1.89s/it]\n",
      "Training (5963 / 18000 Steps) (loss=0.56249): 100%|██████████| 7/7 [00:13<00:00,  1.94s/it]\n",
      "Training (5970 / 18000 Steps) (loss=0.43611): 100%|██████████| 7/7 [00:13<00:00,  1.97s/it]\n",
      "Training (5977 / 18000 Steps) (loss=0.43314): 100%|██████████| 7/7 [00:13<00:00,  1.90s/it]\n",
      "Training (5984 / 18000 Steps) (loss=0.37137): 100%|██████████| 7/7 [00:13<00:00,  1.94s/it]\n",
      "Training (5991 / 18000 Steps) (loss=0.47851): 100%|██████████| 7/7 [00:13<00:00,  1.96s/it]\n",
      "Training (5998 / 18000 Steps) (loss=0.37335): 100%|██████████| 7/7 [00:13<00:00,  1.89s/it]\n",
      "Validate (5999 / 10 Steps): 100%|██████████| 2/2 [00:09<00:00,  4.63s/it]<00:27,  4.50s/it]\n",
      "Training (6000 / 18000 Steps) (loss=0.46686):  29%|██▊       | 2/7 [00:15<00:41,  8.26s/it]"
     ]
    },
    {
     "name": "stdout",
     "output_type": "stream",
     "text": [
      "Model Was Not Saved ! Current Best Avg. Dice: 0.3828052878379822 Current Avg. Dice: 0.32369041442871094 Current Avg. tumor Dice: 0.28174838423728943 Current Avg. lymph Dice: 0.36563241481781006\n"
     ]
    },
    {
     "name": "stderr",
     "output_type": "stream",
     "text": [
      "Training (6005 / 18000 Steps) (loss=0.33459): 100%|██████████| 7/7 [00:22<00:00,  3.26s/it]\n",
      "Training (6012 / 18000 Steps) (loss=0.61680): 100%|██████████| 7/7 [00:13<00:00,  1.94s/it]\n",
      "Training (6019 / 18000 Steps) (loss=0.23596): 100%|██████████| 7/7 [00:13<00:00,  1.94s/it]\n",
      "Training (6026 / 18000 Steps) (loss=0.38695): 100%|██████████| 7/7 [00:13<00:00,  1.95s/it]\n",
      "Training (6033 / 18000 Steps) (loss=0.44704): 100%|██████████| 7/7 [00:13<00:00,  1.92s/it]\n",
      "Training (6040 / 18000 Steps) (loss=0.47924): 100%|██████████| 7/7 [00:13<00:00,  1.90s/it]\n",
      "Training (6047 / 18000 Steps) (loss=0.38008): 100%|██████████| 7/7 [00:13<00:00,  1.89s/it]\n",
      "Training (6054 / 18000 Steps) (loss=0.41255): 100%|██████████| 7/7 [00:13<00:00,  1.88s/it]\n",
      "Training (6061 / 18000 Steps) (loss=0.65482): 100%|██████████| 7/7 [00:13<00:00,  1.88s/it]\n",
      "Training (6068 / 18000 Steps) (loss=0.36905): 100%|██████████| 7/7 [00:13<00:00,  1.96s/it]\n",
      "Training (6075 / 18000 Steps) (loss=0.38556): 100%|██████████| 7/7 [00:13<00:00,  1.86s/it]\n",
      "Training (6082 / 18000 Steps) (loss=0.39847): 100%|██████████| 7/7 [00:13<00:00,  1.89s/it]\n",
      "Training (6089 / 18000 Steps) (loss=0.38359): 100%|██████████| 7/7 [00:13<00:00,  1.91s/it]\n",
      "Training (6096 / 18000 Steps) (loss=0.42908): 100%|██████████| 7/7 [00:13<00:00,  1.87s/it]\n",
      "Validate (6097 / 10 Steps): 100%|██████████| 2/2 [00:08<00:00,  4.44s/it]<00:08,  2.16s/it]\n",
      "Training (6100 / 18000 Steps) (loss=0.44189):  57%|█████▋    | 4/7 [00:17<00:16,  5.46s/it]"
     ]
    },
    {
     "name": "stdout",
     "output_type": "stream",
     "text": [
      "Model Was Not Saved ! Current Best Avg. Dice: 0.3828052878379822 Current Avg. Dice: 0.35012829303741455 Current Avg. tumor Dice: 0.3260069787502289 Current Avg. lymph Dice: 0.3742496073246002\n"
     ]
    },
    {
     "name": "stderr",
     "output_type": "stream",
     "text": [
      "Training (6103 / 18000 Steps) (loss=0.23331): 100%|██████████| 7/7 [00:22<00:00,  3.16s/it]\n",
      "Training (6110 / 18000 Steps) (loss=0.40840): 100%|██████████| 7/7 [00:13<00:00,  1.95s/it]\n",
      "Training (6117 / 18000 Steps) (loss=0.52090): 100%|██████████| 7/7 [00:13<00:00,  1.91s/it]\n",
      "Training (6124 / 18000 Steps) (loss=0.49020): 100%|██████████| 7/7 [00:13<00:00,  1.95s/it]\n",
      "Training (6131 / 18000 Steps) (loss=0.39068): 100%|██████████| 7/7 [00:13<00:00,  1.88s/it]\n",
      "Training (6138 / 18000 Steps) (loss=0.49561): 100%|██████████| 7/7 [00:13<00:00,  1.89s/it]\n",
      "Training (6145 / 18000 Steps) (loss=0.43425): 100%|██████████| 7/7 [00:13<00:00,  1.91s/it]\n",
      "Training (6152 / 18000 Steps) (loss=0.52742): 100%|██████████| 7/7 [00:13<00:00,  1.87s/it]\n",
      "Training (6159 / 18000 Steps) (loss=0.35086): 100%|██████████| 7/7 [00:13<00:00,  1.87s/it]\n",
      "Training (6166 / 18000 Steps) (loss=0.43368): 100%|██████████| 7/7 [00:13<00:00,  1.89s/it]\n",
      "Training (6173 / 18000 Steps) (loss=0.48087): 100%|██████████| 7/7 [00:13<00:00,  1.96s/it]\n",
      "Training (6180 / 18000 Steps) (loss=0.44933): 100%|██████████| 7/7 [00:13<00:00,  1.88s/it]\n",
      "Training (6187 / 18000 Steps) (loss=0.51713): 100%|██████████| 7/7 [00:13<00:00,  1.95s/it]\n",
      "Training (6194 / 18000 Steps) (loss=0.56060): 100%|██████████| 7/7 [00:13<00:00,  1.93s/it]\n",
      "Validate (6195 / 10 Steps): 100%|██████████| 2/2 [00:08<00:00,  4.38s/it]<00:03,  1.85s/it]\n",
      "Training (6200 / 18000 Steps) (loss=0.43041):  86%|████████▌ | 6/7 [00:21<00:04,  4.78s/it]"
     ]
    },
    {
     "name": "stdout",
     "output_type": "stream",
     "text": [
      "Model Was Not Saved ! Current Best Avg. Dice: 0.3828052878379822 Current Avg. Dice: 0.34703853726387024 Current Avg. tumor Dice: 0.337209552526474 Current Avg. lymph Dice: 0.35686758160591125\n"
     ]
    },
    {
     "name": "stderr",
     "output_type": "stream",
     "text": [
      "Training (6201 / 18000 Steps) (loss=0.65015): 100%|██████████| 7/7 [00:22<00:00,  3.20s/it]\n",
      "Training (6208 / 18000 Steps) (loss=0.46278): 100%|██████████| 7/7 [00:13<00:00,  1.95s/it]\n",
      "Training (6215 / 18000 Steps) (loss=0.24591): 100%|██████████| 7/7 [00:13<00:00,  1.95s/it]\n",
      "Training (6222 / 18000 Steps) (loss=0.40820): 100%|██████████| 7/7 [00:13<00:00,  1.91s/it]\n",
      "Training (6229 / 18000 Steps) (loss=0.56423): 100%|██████████| 7/7 [00:13<00:00,  1.92s/it]\n",
      "Training (6236 / 18000 Steps) (loss=0.62222): 100%|██████████| 7/7 [00:13<00:00,  1.91s/it]\n",
      "Training (6243 / 18000 Steps) (loss=0.49296): 100%|██████████| 7/7 [00:13<00:00,  1.88s/it]\n",
      "Training (6250 / 18000 Steps) (loss=0.36439): 100%|██████████| 7/7 [00:13<00:00,  1.88s/it]\n",
      "Training (6257 / 18000 Steps) (loss=0.40069): 100%|██████████| 7/7 [00:13<00:00,  1.89s/it]\n",
      "Training (6264 / 18000 Steps) (loss=0.50835): 100%|██████████| 7/7 [00:13<00:00,  1.89s/it]\n",
      "Training (6271 / 18000 Steps) (loss=0.31878): 100%|██████████| 7/7 [00:13<00:00,  1.91s/it]\n",
      "Training (6278 / 18000 Steps) (loss=0.41652): 100%|██████████| 7/7 [00:13<00:00,  1.93s/it]\n",
      "Training (6285 / 18000 Steps) (loss=0.56664): 100%|██████████| 7/7 [00:13<00:00,  1.91s/it]\n",
      "Training (6292 / 18000 Steps) (loss=0.48797): 100%|██████████| 7/7 [00:13<00:00,  1.89s/it]\n",
      "Training (6299 / 18000 Steps) (loss=0.57309): 100%|██████████| 7/7 [00:13<00:00,  1.88s/it]\n",
      "Validate (6300 / 10 Steps): 100%|██████████| 2/2 [00:08<00:00,  4.42s/it]<?, ?it/s]\n",
      "Training (6300 / 18000 Steps) (loss=0.34084):  14%|█▍        | 1/7 [00:13<01:19, 13.21s/it]"
     ]
    },
    {
     "name": "stdout",
     "output_type": "stream",
     "text": [
      "Model Was Not Saved ! Current Best Avg. Dice: 0.3828052878379822 Current Avg. Dice: 0.3260713219642639 Current Avg. tumor Dice: 0.3241780996322632 Current Avg. lymph Dice: 0.32796451449394226\n"
     ]
    },
    {
     "name": "stderr",
     "output_type": "stream",
     "text": [
      "Training (6306 / 18000 Steps) (loss=0.49780): 100%|██████████| 7/7 [00:22<00:00,  3.18s/it]\n",
      "Training (6313 / 18000 Steps) (loss=0.58447): 100%|██████████| 7/7 [00:13<00:00,  1.95s/it]\n",
      "Training (6320 / 18000 Steps) (loss=0.46363): 100%|██████████| 7/7 [00:13<00:00,  1.95s/it]\n",
      "Training (6327 / 18000 Steps) (loss=0.20213): 100%|██████████| 7/7 [00:13<00:00,  1.95s/it]\n",
      "Training (6334 / 18000 Steps) (loss=0.41497): 100%|██████████| 7/7 [00:13<00:00,  1.92s/it]\n",
      "Training (6341 / 18000 Steps) (loss=0.41390): 100%|██████████| 7/7 [00:13<00:00,  1.92s/it]\n",
      "Training (6348 / 18000 Steps) (loss=0.33459): 100%|██████████| 7/7 [00:13<00:00,  1.94s/it]\n",
      "Training (6355 / 18000 Steps) (loss=0.37866): 100%|██████████| 7/7 [00:13<00:00,  1.94s/it]\n",
      "Training (6362 / 18000 Steps) (loss=0.47069): 100%|██████████| 7/7 [00:13<00:00,  1.95s/it]\n",
      "Training (6369 / 18000 Steps) (loss=0.45359): 100%|██████████| 7/7 [00:13<00:00,  1.92s/it]\n",
      "Training (6376 / 18000 Steps) (loss=0.55423): 100%|██████████| 7/7 [00:13<00:00,  1.95s/it]\n",
      "Training (6383 / 18000 Steps) (loss=0.48493): 100%|██████████| 7/7 [00:13<00:00,  1.88s/it]\n",
      "Training (6390 / 18000 Steps) (loss=0.43316): 100%|██████████| 7/7 [00:13<00:00,  1.93s/it]\n",
      "Training (6397 / 18000 Steps) (loss=0.56518): 100%|██████████| 7/7 [00:13<00:00,  1.95s/it]\n",
      "Validate (6398 / 10 Steps): 100%|██████████| 2/2 [00:08<00:00,  4.38s/it]<00:13,  2.72s/it]\n",
      "Training (6400 / 18000 Steps) (loss=0.43804):  43%|████▎     | 3/7 [00:16<00:24,  6.23s/it]"
     ]
    },
    {
     "name": "stdout",
     "output_type": "stream",
     "text": [
      "Model Was Not Saved ! Current Best Avg. Dice: 0.3828052878379822 Current Avg. Dice: 0.3596472144126892 Current Avg. tumor Dice: 0.3282826840877533 Current Avg. lymph Dice: 0.39101171493530273\n"
     ]
    },
    {
     "name": "stderr",
     "output_type": "stream",
     "text": [
      "Training (6404 / 18000 Steps) (loss=0.47749): 100%|██████████| 7/7 [00:22<00:00,  3.19s/it]\n",
      "Training (6411 / 18000 Steps) (loss=0.55605): 100%|██████████| 7/7 [00:13<00:00,  1.94s/it]\n",
      "Training (6418 / 18000 Steps) (loss=0.42941): 100%|██████████| 7/7 [00:13<00:00,  1.89s/it]\n",
      "Training (6425 / 18000 Steps) (loss=0.48776): 100%|██████████| 7/7 [00:13<00:00,  1.90s/it]\n",
      "Training (6432 / 18000 Steps) (loss=0.54583): 100%|██████████| 7/7 [00:13<00:00,  1.91s/it]\n",
      "Training (6439 / 18000 Steps) (loss=0.29397): 100%|██████████| 7/7 [00:13<00:00,  1.86s/it]\n",
      "Training (6446 / 18000 Steps) (loss=0.50100): 100%|██████████| 7/7 [00:13<00:00,  1.86s/it]\n",
      "Training (6453 / 18000 Steps) (loss=0.32785): 100%|██████████| 7/7 [00:13<00:00,  1.90s/it]\n",
      "Training (6460 / 18000 Steps) (loss=0.41372): 100%|██████████| 7/7 [00:13<00:00,  1.86s/it]\n",
      "Training (6467 / 18000 Steps) (loss=0.57009): 100%|██████████| 7/7 [00:12<00:00,  1.85s/it]\n",
      "Training (6474 / 18000 Steps) (loss=0.47766): 100%|██████████| 7/7 [00:13<00:00,  1.91s/it]\n",
      "Training (6481 / 18000 Steps) (loss=0.36063): 100%|██████████| 7/7 [00:13<00:00,  1.87s/it]\n",
      "Training (6488 / 18000 Steps) (loss=0.47041): 100%|██████████| 7/7 [00:13<00:00,  1.88s/it]\n",
      "Training (6495 / 18000 Steps) (loss=0.34329): 100%|██████████| 7/7 [00:13<00:00,  1.87s/it]\n",
      "Validate (6496 / 10 Steps): 100%|██████████| 2/2 [00:08<00:00,  4.28s/it]<00:05,  1.93s/it]\n",
      "Training (6500 / 18000 Steps) (loss=0.40030):  71%|███████▏  | 5/7 [00:19<00:09,  4.92s/it]"
     ]
    },
    {
     "name": "stdout",
     "output_type": "stream",
     "text": [
      "Model Was Not Saved ! Current Best Avg. Dice: 0.3828052878379822 Current Avg. Dice: 0.36269867420196533 Current Avg. tumor Dice: 0.312233030796051 Current Avg. lymph Dice: 0.41316425800323486\n"
     ]
    },
    {
     "name": "stderr",
     "output_type": "stream",
     "text": [
      "Training (6502 / 18000 Steps) (loss=0.43000): 100%|██████████| 7/7 [00:21<00:00,  3.12s/it]\n",
      "Training (6509 / 18000 Steps) (loss=0.61875): 100%|██████████| 7/7 [00:13<00:00,  1.90s/it]\n",
      "Training (6516 / 18000 Steps) (loss=0.51317): 100%|██████████| 7/7 [00:13<00:00,  1.89s/it]\n",
      "Training (6523 / 18000 Steps) (loss=0.28315): 100%|██████████| 7/7 [00:13<00:00,  1.93s/it]\n",
      "Training (6530 / 18000 Steps) (loss=0.37439): 100%|██████████| 7/7 [00:13<00:00,  1.90s/it]\n",
      "Training (6537 / 18000 Steps) (loss=0.37285): 100%|██████████| 7/7 [00:13<00:00,  1.87s/it]\n",
      "Training (6544 / 18000 Steps) (loss=0.54974): 100%|██████████| 7/7 [00:13<00:00,  1.87s/it]\n",
      "Training (6551 / 18000 Steps) (loss=0.41284): 100%|██████████| 7/7 [00:13<00:00,  1.88s/it]\n",
      "Training (6558 / 18000 Steps) (loss=0.22475): 100%|██████████| 7/7 [00:13<00:00,  1.87s/it]\n",
      "Training (6565 / 18000 Steps) (loss=0.38441): 100%|██████████| 7/7 [00:13<00:00,  1.90s/it]\n",
      "Training (6572 / 18000 Steps) (loss=0.38464): 100%|██████████| 7/7 [00:13<00:00,  1.94s/it]\n",
      "Training (6579 / 18000 Steps) (loss=0.42751): 100%|██████████| 7/7 [00:13<00:00,  1.88s/it]\n",
      "Training (6586 / 18000 Steps) (loss=0.42869): 100%|██████████| 7/7 [00:13<00:00,  1.89s/it]\n",
      "Training (6593 / 18000 Steps) (loss=0.38845): 100%|██████████| 7/7 [00:13<00:00,  1.90s/it]\n",
      "Validate (6594 / 10 Steps): 100%|██████████| 2/2 [00:08<00:00,  4.34s/it]<00:01,  1.72s/it]\n",
      "Training (6600 / 18000 Steps) (loss=0.51361): 100%|██████████| 7/7 [00:21<00:00,  3.12s/it]\n"
     ]
    },
    {
     "name": "stdout",
     "output_type": "stream",
     "text": [
      "Model Was Not Saved ! Current Best Avg. Dice: 0.3828052878379822 Current Avg. Dice: 0.3676864802837372 Current Avg. tumor Dice: 0.3253873884677887 Current Avg. lymph Dice: 0.40998557209968567\n"
     ]
    },
    {
     "name": "stderr",
     "output_type": "stream",
     "text": [
      "Training (6607 / 18000 Steps) (loss=0.49831): 100%|██████████| 7/7 [00:13<00:00,  1.91s/it]\n",
      "Training (6614 / 18000 Steps) (loss=0.42878): 100%|██████████| 7/7 [00:13<00:00,  1.90s/it]\n",
      "Training (6621 / 18000 Steps) (loss=0.49293): 100%|██████████| 7/7 [00:13<00:00,  1.91s/it]\n",
      "Training (6628 / 18000 Steps) (loss=0.49345): 100%|██████████| 7/7 [00:13<00:00,  1.88s/it]\n",
      "Training (6635 / 18000 Steps) (loss=0.44797): 100%|██████████| 7/7 [00:13<00:00,  1.89s/it]\n",
      "Training (6642 / 18000 Steps) (loss=0.47097): 100%|██████████| 7/7 [00:13<00:00,  1.87s/it]\n",
      "Training (6649 / 18000 Steps) (loss=0.31602): 100%|██████████| 7/7 [00:12<00:00,  1.86s/it]\n",
      "Training (6656 / 18000 Steps) (loss=0.55184): 100%|██████████| 7/7 [00:13<00:00,  1.87s/it]\n",
      "Training (6663 / 18000 Steps) (loss=0.30808): 100%|██████████| 7/7 [00:13<00:00,  1.91s/it]\n",
      "Training (6670 / 18000 Steps) (loss=0.42443): 100%|██████████| 7/7 [00:13<00:00,  1.89s/it]\n",
      "Training (6677 / 18000 Steps) (loss=0.39303): 100%|██████████| 7/7 [00:13<00:00,  1.91s/it]\n",
      "Training (6684 / 18000 Steps) (loss=0.36415): 100%|██████████| 7/7 [00:13<00:00,  1.95s/it]\n",
      "Training (6691 / 18000 Steps) (loss=0.47816): 100%|██████████| 7/7 [00:13<00:00,  1.87s/it]\n",
      "Training (6698 / 18000 Steps) (loss=0.30284): 100%|██████████| 7/7 [00:13<00:00,  1.94s/it]\n",
      "Validate (6699 / 10 Steps): 100%|██████████| 2/2 [00:08<00:00,  4.34s/it]<00:25,  4.24s/it]\n",
      "Training (6700 / 18000 Steps) (loss=0.41195):  29%|██▊       | 2/7 [00:14<00:39,  7.81s/it]"
     ]
    },
    {
     "name": "stdout",
     "output_type": "stream",
     "text": [
      "Model Was Not Saved ! Current Best Avg. Dice: 0.3828052878379822 Current Avg. Dice: 0.3325762450695038 Current Avg. tumor Dice: 0.30342668294906616 Current Avg. lymph Dice: 0.3617258071899414\n"
     ]
    },
    {
     "name": "stderr",
     "output_type": "stream",
     "text": [
      "Training (6705 / 18000 Steps) (loss=0.53560): 100%|██████████| 7/7 [00:21<00:00,  3.12s/it]\n",
      "Training (6712 / 18000 Steps) (loss=0.34087): 100%|██████████| 7/7 [00:13<00:00,  1.89s/it]\n",
      "Training (6719 / 18000 Steps) (loss=0.33384): 100%|██████████| 7/7 [00:13<00:00,  1.88s/it]\n",
      "Training (6726 / 18000 Steps) (loss=0.57468): 100%|██████████| 7/7 [00:13<00:00,  1.92s/it]\n",
      "Training (6733 / 18000 Steps) (loss=0.60580): 100%|██████████| 7/7 [00:13<00:00,  1.87s/it]\n",
      "Training (6740 / 18000 Steps) (loss=0.49225): 100%|██████████| 7/7 [00:13<00:00,  1.88s/it]\n",
      "Training (6747 / 18000 Steps) (loss=0.24896): 100%|██████████| 7/7 [00:13<00:00,  1.87s/it]\n",
      "Training (6754 / 18000 Steps) (loss=0.67036): 100%|██████████| 7/7 [00:13<00:00,  1.88s/it]\n",
      "Training (6761 / 18000 Steps) (loss=0.42022): 100%|██████████| 7/7 [00:13<00:00,  1.88s/it]\n",
      "Training (6768 / 18000 Steps) (loss=0.31797): 100%|██████████| 7/7 [00:13<00:00,  1.90s/it]\n",
      "Training (6775 / 18000 Steps) (loss=0.56702): 100%|██████████| 7/7 [00:13<00:00,  1.93s/it]\n",
      "Training (6782 / 18000 Steps) (loss=0.54672): 100%|██████████| 7/7 [00:13<00:00,  1.87s/it]\n",
      "Training (6789 / 18000 Steps) (loss=0.42497): 100%|██████████| 7/7 [00:13<00:00,  1.88s/it]\n",
      "Training (6796 / 18000 Steps) (loss=0.55814): 100%|██████████| 7/7 [00:13<00:00,  1.88s/it]\n",
      "Validate (6797 / 10 Steps): 100%|██████████| 2/2 [00:08<00:00,  4.31s/it]<00:08,  2.21s/it]\n",
      "Training (6800 / 18000 Steps) (loss=0.43391):  57%|█████▋    | 4/7 [00:17<00:16,  5.40s/it]"
     ]
    },
    {
     "name": "stdout",
     "output_type": "stream",
     "text": [
      "Model Was Not Saved ! Current Best Avg. Dice: 0.3828052878379822 Current Avg. Dice: 0.3281538486480713 Current Avg. tumor Dice: 0.30682966113090515 Current Avg. lymph Dice: 0.34947800636291504\n"
     ]
    },
    {
     "name": "stderr",
     "output_type": "stream",
     "text": [
      "Training (6803 / 18000 Steps) (loss=0.56318): 100%|██████████| 7/7 [00:21<00:00,  3.14s/it]\n",
      "Training (6810 / 18000 Steps) (loss=0.29016): 100%|██████████| 7/7 [00:13<00:00,  1.88s/it]\n",
      "Training (6817 / 18000 Steps) (loss=0.38005): 100%|██████████| 7/7 [00:13<00:00,  1.92s/it]\n",
      "Training (6824 / 18000 Steps) (loss=0.35328): 100%|██████████| 7/7 [00:13<00:00,  1.96s/it]\n",
      "Training (6831 / 18000 Steps) (loss=0.50165): 100%|██████████| 7/7 [00:13<00:00,  1.88s/it]\n",
      "Training (6838 / 18000 Steps) (loss=0.47450): 100%|██████████| 7/7 [00:13<00:00,  1.89s/it]\n",
      "Training (6845 / 18000 Steps) (loss=0.58839): 100%|██████████| 7/7 [00:13<00:00,  1.88s/it]\n",
      "Training (6852 / 18000 Steps) (loss=0.55521): 100%|██████████| 7/7 [00:13<00:00,  1.89s/it]\n",
      "Training (6859 / 18000 Steps) (loss=0.36330): 100%|██████████| 7/7 [00:13<00:00,  1.91s/it]\n",
      "Training (6866 / 18000 Steps) (loss=0.46817): 100%|██████████| 7/7 [00:13<00:00,  1.91s/it]\n",
      "Training (6873 / 18000 Steps) (loss=0.42713): 100%|██████████| 7/7 [00:13<00:00,  1.92s/it]\n",
      "Training (6880 / 18000 Steps) (loss=0.50490): 100%|██████████| 7/7 [00:13<00:00,  1.89s/it]\n",
      "Training (6887 / 18000 Steps) (loss=0.36263): 100%|██████████| 7/7 [00:13<00:00,  1.88s/it]\n",
      "Training (6894 / 18000 Steps) (loss=0.22057): 100%|██████████| 7/7 [00:13<00:00,  1.87s/it]\n",
      "Validate (6895 / 10 Steps): 100%|██████████| 2/2 [00:08<00:00,  4.32s/it]<00:03,  1.80s/it]\n",
      "Training (6900 / 18000 Steps) (loss=0.45371):  86%|████████▌ | 6/7 [00:20<00:04,  4.67s/it]"
     ]
    },
    {
     "name": "stdout",
     "output_type": "stream",
     "text": [
      "Model Was Not Saved ! Current Best Avg. Dice: 0.3828052878379822 Current Avg. Dice: 0.34201645851135254 Current Avg. tumor Dice: 0.3266218900680542 Current Avg. lymph Dice: 0.35741105675697327\n"
     ]
    },
    {
     "name": "stderr",
     "output_type": "stream",
     "text": [
      "Training (6901 / 18000 Steps) (loss=0.49684): 100%|██████████| 7/7 [00:21<00:00,  3.12s/it]\n",
      "Training (6908 / 18000 Steps) (loss=0.21934): 100%|██████████| 7/7 [00:13<00:00,  1.92s/it]\n",
      "Training (6915 / 18000 Steps) (loss=0.29800): 100%|██████████| 7/7 [00:13<00:00,  1.90s/it]\n",
      "Training (6922 / 18000 Steps) (loss=0.30761): 100%|██████████| 7/7 [00:13<00:00,  1.91s/it]\n",
      "Training (6929 / 18000 Steps) (loss=0.31853): 100%|██████████| 7/7 [00:13<00:00,  1.91s/it]\n",
      "Training (6936 / 18000 Steps) (loss=0.58130): 100%|██████████| 7/7 [00:13<00:00,  1.91s/it]\n",
      "Training (6943 / 18000 Steps) (loss=0.53591): 100%|██████████| 7/7 [00:13<00:00,  1.86s/it]\n",
      "Training (6950 / 18000 Steps) (loss=0.58287): 100%|██████████| 7/7 [00:13<00:00,  1.88s/it]\n",
      "Training (6957 / 18000 Steps) (loss=0.39082): 100%|██████████| 7/7 [00:13<00:00,  1.86s/it]\n",
      "Training (6964 / 18000 Steps) (loss=0.43935): 100%|██████████| 7/7 [00:13<00:00,  1.87s/it]\n",
      "Training (6971 / 18000 Steps) (loss=0.57258): 100%|██████████| 7/7 [00:13<00:00,  1.94s/it]\n",
      "Training (6978 / 18000 Steps) (loss=0.53476): 100%|██████████| 7/7 [00:13<00:00,  1.88s/it]\n",
      "Training (6985 / 18000 Steps) (loss=0.43956): 100%|██████████| 7/7 [00:13<00:00,  1.89s/it]\n",
      "Training (6992 / 18000 Steps) (loss=0.49778): 100%|██████████| 7/7 [00:13<00:00,  1.88s/it]\n",
      "Training (6999 / 18000 Steps) (loss=0.45899): 100%|██████████| 7/7 [00:13<00:00,  1.90s/it]\n",
      "Validate (7000 / 10 Steps): 100%|██████████| 2/2 [00:08<00:00,  4.36s/it]<?, ?it/s]\n",
      "Training (7000 / 18000 Steps) (loss=0.41104):  14%|█▍        | 1/7 [00:12<01:17, 12.93s/it]"
     ]
    },
    {
     "name": "stdout",
     "output_type": "stream",
     "text": [
      "Model Was Not Saved ! Current Best Avg. Dice: 0.3828052878379822 Current Avg. Dice: 0.3262617290019989 Current Avg. tumor Dice: 0.3124813139438629 Current Avg. lymph Dice: 0.3400421440601349\n"
     ]
    },
    {
     "name": "stderr",
     "output_type": "stream",
     "text": [
      "Training (7006 / 18000 Steps) (loss=0.19032): 100%|██████████| 7/7 [00:21<00:00,  3.14s/it]\n",
      "Training (7013 / 18000 Steps) (loss=0.33939): 100%|██████████| 7/7 [00:13<00:00,  1.89s/it]\n",
      "Training (7020 / 18000 Steps) (loss=0.52248): 100%|██████████| 7/7 [00:13<00:00,  1.89s/it]\n",
      "Training (7027 / 18000 Steps) (loss=0.36636): 100%|██████████| 7/7 [00:13<00:00,  1.90s/it]\n",
      "Training (7034 / 18000 Steps) (loss=0.23004): 100%|██████████| 7/7 [00:13<00:00,  1.87s/it]\n",
      "Training (7041 / 18000 Steps) (loss=0.47864): 100%|██████████| 7/7 [00:13<00:00,  1.91s/it]\n",
      "Training (7048 / 18000 Steps) (loss=0.22571): 100%|██████████| 7/7 [00:13<00:00,  1.88s/it]\n",
      "Training (7055 / 18000 Steps) (loss=0.27147): 100%|██████████| 7/7 [00:13<00:00,  1.90s/it]\n",
      "Training (7062 / 18000 Steps) (loss=0.25210): 100%|██████████| 7/7 [00:13<00:00,  1.92s/it]\n",
      "Training (7069 / 18000 Steps) (loss=0.33124): 100%|██████████| 7/7 [00:13<00:00,  1.88s/it]\n",
      "Training (7076 / 18000 Steps) (loss=0.50420): 100%|██████████| 7/7 [00:13<00:00,  1.92s/it]\n",
      "Training (7083 / 18000 Steps) (loss=0.58129): 100%|██████████| 7/7 [00:13<00:00,  1.90s/it]\n",
      "Training (7090 / 18000 Steps) (loss=0.58510): 100%|██████████| 7/7 [00:13<00:00,  1.89s/it]\n",
      "Training (7097 / 18000 Steps) (loss=0.47385): 100%|██████████| 7/7 [00:13<00:00,  1.88s/it]\n",
      "Validate (7098 / 10 Steps): 100%|██████████| 2/2 [00:08<00:00,  4.29s/it]<00:13,  2.61s/it]\n",
      "Training (7100 / 18000 Steps) (loss=0.34849):  43%|████▎     | 3/7 [00:15<00:24,  6.07s/it]"
     ]
    },
    {
     "name": "stdout",
     "output_type": "stream",
     "text": [
      "Model Was Not Saved ! Current Best Avg. Dice: 0.3828052878379822 Current Avg. Dice: 0.32163766026496887 Current Avg. tumor Dice: 0.3126940131187439 Current Avg. lymph Dice: 0.33058133721351624\n"
     ]
    },
    {
     "name": "stderr",
     "output_type": "stream",
     "text": [
      "Training (7104 / 18000 Steps) (loss=0.53659): 100%|██████████| 7/7 [00:21<00:00,  3.08s/it]\n",
      "Training (7111 / 18000 Steps) (loss=0.41483): 100%|██████████| 7/7 [00:13<00:00,  1.87s/it]\n",
      "Training (7118 / 18000 Steps) (loss=0.49468): 100%|██████████| 7/7 [00:13<00:00,  1.92s/it]\n",
      "Training (7125 / 18000 Steps) (loss=0.36900): 100%|██████████| 7/7 [00:13<00:00,  1.92s/it]\n",
      "Training (7132 / 18000 Steps) (loss=0.25237): 100%|██████████| 7/7 [00:13<00:00,  1.88s/it]\n",
      "Training (7139 / 18000 Steps) (loss=0.46436): 100%|██████████| 7/7 [00:13<00:00,  1.87s/it]\n",
      "Training (7146 / 18000 Steps) (loss=0.38099): 100%|██████████| 7/7 [00:13<00:00,  1.86s/it]\n",
      "Training (7153 / 18000 Steps) (loss=0.33320): 100%|██████████| 7/7 [00:12<00:00,  1.85s/it]\n",
      "Training (7160 / 18000 Steps) (loss=0.36526): 100%|██████████| 7/7 [00:12<00:00,  1.86s/it]\n",
      "Training (7167 / 18000 Steps) (loss=0.47643): 100%|██████████| 7/7 [00:12<00:00,  1.86s/it]\n",
      "Training (7174 / 18000 Steps) (loss=0.42750): 100%|██████████| 7/7 [00:13<00:00,  1.92s/it]\n",
      "Training (7181 / 18000 Steps) (loss=0.60403): 100%|██████████| 7/7 [00:13<00:00,  1.86s/it]\n",
      "Training (7188 / 18000 Steps) (loss=0.53943): 100%|██████████| 7/7 [00:13<00:00,  1.88s/it]\n",
      "Training (7195 / 18000 Steps) (loss=0.35289): 100%|██████████| 7/7 [00:13<00:00,  1.89s/it]\n",
      "Validate (7196 / 10 Steps): 100%|██████████| 2/2 [00:08<00:00,  4.30s/it]<00:05,  1.94s/it]\n",
      "Training (7200 / 18000 Steps) (loss=0.47721):  71%|███████▏  | 5/7 [00:19<00:09,  4.93s/it]"
     ]
    },
    {
     "name": "stdout",
     "output_type": "stream",
     "text": [
      "Model Was Not Saved ! Current Best Avg. Dice: 0.3828052878379822 Current Avg. Dice: 0.34793761372566223 Current Avg. tumor Dice: 0.3380071818828583 Current Avg. lymph Dice: 0.3578680157661438\n"
     ]
    },
    {
     "name": "stderr",
     "output_type": "stream",
     "text": [
      "Training (7202 / 18000 Steps) (loss=0.58547): 100%|██████████| 7/7 [00:21<00:00,  3.11s/it]\n",
      "Training (7209 / 18000 Steps) (loss=0.40648): 100%|██████████| 7/7 [00:13<00:00,  1.88s/it]\n",
      "Training (7216 / 18000 Steps) (loss=0.46404): 100%|██████████| 7/7 [00:13<00:00,  1.87s/it]\n",
      "Training (7223 / 18000 Steps) (loss=0.39002): 100%|██████████| 7/7 [00:13<00:00,  1.88s/it]\n",
      "Training (7230 / 18000 Steps) (loss=0.42805): 100%|██████████| 7/7 [00:13<00:00,  1.87s/it]\n",
      "Training (7237 / 18000 Steps) (loss=0.45074): 100%|██████████| 7/7 [00:13<00:00,  1.86s/it]\n",
      "Training (7244 / 18000 Steps) (loss=0.51587): 100%|██████████| 7/7 [00:13<00:00,  1.88s/it]\n",
      "Training (7251 / 18000 Steps) (loss=0.53550): 100%|██████████| 7/7 [00:13<00:00,  1.87s/it]\n",
      "Training (7258 / 18000 Steps) (loss=0.44610): 100%|██████████| 7/7 [00:13<00:00,  1.88s/it]\n",
      "Training (7265 / 18000 Steps) (loss=0.66699): 100%|██████████| 7/7 [00:13<00:00,  1.87s/it]\n",
      "Training (7272 / 18000 Steps) (loss=0.58459): 100%|██████████| 7/7 [00:13<00:00,  1.87s/it]\n",
      "Training (7279 / 18000 Steps) (loss=0.56503): 100%|██████████| 7/7 [00:13<00:00,  1.94s/it]\n",
      "Training (7286 / 18000 Steps) (loss=0.31535): 100%|██████████| 7/7 [00:13<00:00,  1.89s/it]\n",
      "Training (7293 / 18000 Steps) (loss=0.61827): 100%|██████████| 7/7 [00:13<00:00,  1.89s/it]\n",
      "Validate (7294 / 10 Steps): 100%|██████████| 2/2 [00:08<00:00,  4.33s/it]<00:01,  1.73s/it]\n",
      "Training (7300 / 18000 Steps) (loss=0.43281): 100%|██████████| 7/7 [00:22<00:00,  3.15s/it]\n"
     ]
    },
    {
     "name": "stdout",
     "output_type": "stream",
     "text": [
      "Model Was Not Saved ! Current Best Avg. Dice: 0.3828052878379822 Current Avg. Dice: 0.3299938440322876 Current Avg. tumor Dice: 0.30530861020088196 Current Avg. lymph Dice: 0.35467904806137085\n"
     ]
    },
    {
     "name": "stderr",
     "output_type": "stream",
     "text": [
      "Training (7307 / 18000 Steps) (loss=0.34753): 100%|██████████| 7/7 [00:13<00:00,  1.86s/it]\n",
      "Training (7314 / 18000 Steps) (loss=0.41850): 100%|██████████| 7/7 [00:13<00:00,  1.87s/it]\n",
      "Training (7321 / 18000 Steps) (loss=0.54927): 100%|██████████| 7/7 [00:13<00:00,  1.90s/it]\n",
      "Training (7328 / 18000 Steps) (loss=0.33135): 100%|██████████| 7/7 [00:13<00:00,  1.89s/it]\n",
      "Training (7335 / 18000 Steps) (loss=0.41874): 100%|██████████| 7/7 [00:13<00:00,  1.87s/it]\n",
      "Training (7342 / 18000 Steps) (loss=0.20447): 100%|██████████| 7/7 [00:13<00:00,  1.88s/it]\n",
      "Training (7349 / 18000 Steps) (loss=0.31413): 100%|██████████| 7/7 [00:13<00:00,  1.86s/it]\n",
      "Training (7356 / 18000 Steps) (loss=0.52952): 100%|██████████| 7/7 [00:13<00:00,  1.87s/it]\n",
      "Training (7363 / 18000 Steps) (loss=0.51868): 100%|██████████| 7/7 [00:12<00:00,  1.85s/it]\n",
      "Training (7370 / 18000 Steps) (loss=0.45218): 100%|██████████| 7/7 [00:13<00:00,  1.88s/it]\n",
      "Training (7377 / 18000 Steps) (loss=0.24696): 100%|██████████| 7/7 [00:13<00:00,  1.89s/it]\n",
      "Training (7384 / 18000 Steps) (loss=0.54305): 100%|██████████| 7/7 [00:13<00:00,  1.92s/it]\n",
      "Training (7391 / 18000 Steps) (loss=0.31325): 100%|██████████| 7/7 [00:13<00:00,  1.86s/it]\n",
      "Training (7398 / 18000 Steps) (loss=0.60529): 100%|██████████| 7/7 [00:13<00:00,  1.91s/it]\n",
      "Validate (7399 / 10 Steps): 100%|██████████| 2/2 [00:08<00:00,  4.29s/it]<00:24,  4.09s/it]\n",
      "Training (7400 / 18000 Steps) (loss=0.48172):  29%|██▊       | 2/7 [00:14<00:38,  7.69s/it]"
     ]
    },
    {
     "name": "stdout",
     "output_type": "stream",
     "text": [
      "Model Was Not Saved ! Current Best Avg. Dice: 0.3828052878379822 Current Avg. Dice: 0.3258439302444458 Current Avg. tumor Dice: 0.2920752763748169 Current Avg. lymph Dice: 0.35961252450942993\n"
     ]
    },
    {
     "name": "stderr",
     "output_type": "stream",
     "text": [
      "Training (7405 / 18000 Steps) (loss=0.38080): 100%|██████████| 7/7 [00:21<00:00,  3.09s/it]\n",
      "Training (7412 / 18000 Steps) (loss=0.39280): 100%|██████████| 7/7 [00:13<00:00,  1.90s/it]\n",
      "Training (7419 / 18000 Steps) (loss=0.42851): 100%|██████████| 7/7 [00:13<00:00,  1.87s/it]\n",
      "Training (7426 / 18000 Steps) (loss=0.51352): 100%|██████████| 7/7 [00:13<00:00,  1.90s/it]\n",
      "Training (7433 / 18000 Steps) (loss=0.28927): 100%|██████████| 7/7 [00:13<00:00,  1.93s/it]\n",
      "Training (7440 / 18000 Steps) (loss=0.35145): 100%|██████████| 7/7 [00:13<00:00,  1.87s/it]\n",
      "Training (7447 / 18000 Steps) (loss=0.37041): 100%|██████████| 7/7 [00:13<00:00,  1.88s/it]\n",
      "Training (7454 / 18000 Steps) (loss=0.40281): 100%|██████████| 7/7 [00:13<00:00,  1.91s/it]\n",
      "Training (7461 / 18000 Steps) (loss=0.37025): 100%|██████████| 7/7 [00:13<00:00,  1.88s/it]\n",
      "Training (7468 / 18000 Steps) (loss=0.49722): 100%|██████████| 7/7 [00:13<00:00,  1.88s/it]\n",
      "Training (7475 / 18000 Steps) (loss=0.34115): 100%|██████████| 7/7 [00:13<00:00,  1.88s/it]\n",
      "Training (7482 / 18000 Steps) (loss=0.56952): 100%|██████████| 7/7 [00:13<00:00,  1.89s/it]\n",
      "Training (7489 / 18000 Steps) (loss=0.50353): 100%|██████████| 7/7 [00:13<00:00,  1.87s/it]\n",
      "Training (7496 / 18000 Steps) (loss=0.44668): 100%|██████████| 7/7 [00:13<00:00,  1.89s/it]\n",
      "Validate (7497 / 10 Steps): 100%|██████████| 2/2 [00:08<00:00,  4.30s/it]<00:08,  2.13s/it]\n",
      "Training (7500 / 18000 Steps) (loss=0.43419):  57%|█████▋    | 4/7 [00:17<00:15,  5.33s/it]"
     ]
    },
    {
     "name": "stdout",
     "output_type": "stream",
     "text": [
      "Model Was Not Saved ! Current Best Avg. Dice: 0.3828052878379822 Current Avg. Dice: 0.3623744249343872 Current Avg. tumor Dice: 0.33729368448257446 Current Avg. lymph Dice: 0.38745516538619995\n"
     ]
    },
    {
     "name": "stderr",
     "output_type": "stream",
     "text": [
      "Training (7503 / 18000 Steps) (loss=0.32014): 100%|██████████| 7/7 [00:21<00:00,  3.10s/it]\n",
      "Training (7510 / 18000 Steps) (loss=0.50040): 100%|██████████| 7/7 [00:13<00:00,  1.87s/it]\n",
      "Training (7517 / 18000 Steps) (loss=0.42973): 100%|██████████| 7/7 [00:13<00:00,  1.87s/it]\n",
      "Training (7524 / 18000 Steps) (loss=0.47590): 100%|██████████| 7/7 [00:13<00:00,  1.88s/it]\n",
      "Training (7531 / 18000 Steps) (loss=0.44437): 100%|██████████| 7/7 [00:13<00:00,  1.88s/it]\n",
      "Training (7538 / 18000 Steps) (loss=0.26958): 100%|██████████| 7/7 [00:12<00:00,  1.84s/it]\n",
      "Training (7545 / 18000 Steps) (loss=0.54553): 100%|██████████| 7/7 [00:12<00:00,  1.85s/it]\n",
      "Training (7552 / 18000 Steps) (loss=0.33838): 100%|██████████| 7/7 [00:13<00:00,  1.88s/it]\n",
      "Training (7559 / 18000 Steps) (loss=0.49141): 100%|██████████| 7/7 [00:13<00:00,  1.88s/it]\n",
      "Training (7566 / 18000 Steps) (loss=0.45215): 100%|██████████| 7/7 [00:13<00:00,  1.90s/it]\n",
      "Training (7573 / 18000 Steps) (loss=0.41942): 100%|██████████| 7/7 [00:13<00:00,  1.87s/it]\n",
      "Training (7580 / 18000 Steps) (loss=0.54360): 100%|██████████| 7/7 [00:13<00:00,  1.96s/it]\n",
      "Training (7587 / 18000 Steps) (loss=0.36547): 100%|██████████| 7/7 [00:13<00:00,  1.92s/it]\n",
      "Training (7594 / 18000 Steps) (loss=0.27494): 100%|██████████| 7/7 [00:13<00:00,  1.92s/it]\n",
      "Validate (7595 / 10 Steps): 100%|██████████| 2/2 [00:08<00:00,  4.31s/it]<00:03,  1.82s/it]\n",
      "Training (7600 / 18000 Steps) (loss=0.44599):  86%|████████▌ | 6/7 [00:20<00:04,  4.68s/it]"
     ]
    },
    {
     "name": "stdout",
     "output_type": "stream",
     "text": [
      "Model Was Not Saved ! Current Best Avg. Dice: 0.3828052878379822 Current Avg. Dice: 0.357809841632843 Current Avg. tumor Dice: 0.32360297441482544 Current Avg. lymph Dice: 0.392016738653183\n"
     ]
    },
    {
     "name": "stderr",
     "output_type": "stream",
     "text": [
      "Training (7601 / 18000 Steps) (loss=0.66220): 100%|██████████| 7/7 [00:22<00:00,  3.14s/it]\n",
      "Training (7608 / 18000 Steps) (loss=0.23014): 100%|██████████| 7/7 [00:13<00:00,  1.88s/it]\n",
      "Training (7615 / 18000 Steps) (loss=0.51829): 100%|██████████| 7/7 [00:13<00:00,  1.90s/it]\n",
      "Training (7622 / 18000 Steps) (loss=0.34565): 100%|██████████| 7/7 [00:13<00:00,  1.91s/it]\n",
      "Training (7629 / 18000 Steps) (loss=0.63377): 100%|██████████| 7/7 [00:13<00:00,  1.95s/it]\n",
      "Training (7636 / 18000 Steps) (loss=0.48793): 100%|██████████| 7/7 [00:13<00:00,  1.92s/it]\n",
      "Training (7643 / 18000 Steps) (loss=0.45835): 100%|██████████| 7/7 [00:13<00:00,  1.91s/it]\n",
      "Training (7650 / 18000 Steps) (loss=0.42144): 100%|██████████| 7/7 [00:13<00:00,  1.89s/it]\n",
      "Training (7657 / 18000 Steps) (loss=0.44413): 100%|██████████| 7/7 [00:13<00:00,  1.89s/it]\n",
      "Training (7664 / 18000 Steps) (loss=0.42878): 100%|██████████| 7/7 [00:13<00:00,  1.89s/it]\n",
      "Training (7671 / 18000 Steps) (loss=0.30866): 100%|██████████| 7/7 [00:13<00:00,  1.94s/it]\n",
      "Training (7678 / 18000 Steps) (loss=0.51140): 100%|██████████| 7/7 [00:13<00:00,  1.91s/it]\n",
      "Training (7685 / 18000 Steps) (loss=0.39295): 100%|██████████| 7/7 [00:13<00:00,  1.95s/it]\n",
      "Training (7692 / 18000 Steps) (loss=0.56645): 100%|██████████| 7/7 [00:13<00:00,  1.91s/it]\n",
      "Training (7699 / 18000 Steps) (loss=0.57088): 100%|██████████| 7/7 [00:13<00:00,  1.89s/it]\n",
      "Validate (7700 / 10 Steps): 100%|██████████| 2/2 [00:08<00:00,  4.36s/it]<?, ?it/s]\n",
      "Training (7700 / 18000 Steps) (loss=0.41713):  14%|█▍        | 1/7 [00:13<01:18, 13.12s/it]"
     ]
    },
    {
     "name": "stdout",
     "output_type": "stream",
     "text": [
      "Model Was Not Saved ! Current Best Avg. Dice: 0.3828052878379822 Current Avg. Dice: 0.37639373540878296 Current Avg. tumor Dice: 0.3620002269744873 Current Avg. lymph Dice: 0.3907872438430786\n"
     ]
    },
    {
     "name": "stderr",
     "output_type": "stream",
     "text": [
      "Training (7706 / 18000 Steps) (loss=0.53462): 100%|██████████| 7/7 [00:22<00:00,  3.15s/it]\n",
      "Training (7713 / 18000 Steps) (loss=0.51566): 100%|██████████| 7/7 [00:13<00:00,  1.93s/it]\n",
      "Training (7720 / 18000 Steps) (loss=0.54353): 100%|██████████| 7/7 [00:13<00:00,  1.93s/it]\n",
      "Training (7727 / 18000 Steps) (loss=0.45594): 100%|██████████| 7/7 [00:13<00:00,  1.96s/it]\n",
      "Training (7734 / 18000 Steps) (loss=0.54419): 100%|██████████| 7/7 [00:13<00:00,  1.92s/it]\n",
      "Training (7741 / 18000 Steps) (loss=0.46311): 100%|██████████| 7/7 [00:13<00:00,  1.92s/it]\n",
      "Training (7748 / 18000 Steps) (loss=0.60754): 100%|██████████| 7/7 [00:13<00:00,  1.91s/it]\n",
      "Training (7755 / 18000 Steps) (loss=0.43076): 100%|██████████| 7/7 [00:13<00:00,  1.88s/it]\n",
      "Training (7762 / 18000 Steps) (loss=0.39328): 100%|██████████| 7/7 [00:13<00:00,  1.90s/it]\n",
      "Training (7769 / 18000 Steps) (loss=0.21615): 100%|██████████| 7/7 [00:13<00:00,  1.91s/it]\n",
      "Training (7776 / 18000 Steps) (loss=0.49443): 100%|██████████| 7/7 [00:13<00:00,  1.94s/it]\n",
      "Training (7783 / 18000 Steps) (loss=0.29834): 100%|██████████| 7/7 [00:13<00:00,  1.88s/it]\n",
      "Training (7790 / 18000 Steps) (loss=0.47674): 100%|██████████| 7/7 [00:13<00:00,  1.93s/it]\n",
      "Training (7797 / 18000 Steps) (loss=0.30403): 100%|██████████| 7/7 [00:13<00:00,  1.91s/it]\n",
      "Validate (7798 / 10 Steps): 100%|██████████| 2/2 [00:08<00:00,  4.32s/it]<00:13,  2.72s/it]\n",
      "Training (7800 / 18000 Steps) (loss=0.49676):  43%|████▎     | 3/7 [00:17<00:26,  6.54s/it]"
     ]
    },
    {
     "name": "stdout",
     "output_type": "stream",
     "text": [
      "Model Was Saved ! Current Best Avg. Dice: 0.3942748010158539 Current Avg. Dice: 0.3942748010158539 Current Avg. tumor Dice: 0.3467046022415161 Current Avg. lymph Dice: 0.44184502959251404\n"
     ]
    },
    {
     "name": "stderr",
     "output_type": "stream",
     "text": [
      "Training (7804 / 18000 Steps) (loss=0.50675): 100%|██████████| 7/7 [00:22<00:00,  3.28s/it]\n",
      "Training (7811 / 18000 Steps) (loss=0.57301): 100%|██████████| 7/7 [00:13<00:00,  1.92s/it]\n",
      "Training (7818 / 18000 Steps) (loss=0.39353): 100%|██████████| 7/7 [00:13<00:00,  1.92s/it]\n",
      "Training (7825 / 18000 Steps) (loss=0.45651): 100%|██████████| 7/7 [00:13<00:00,  1.90s/it]\n",
      "Training (7832 / 18000 Steps) (loss=0.41611): 100%|██████████| 7/7 [00:13<00:00,  1.91s/it]\n",
      "Training (7839 / 18000 Steps) (loss=0.31868): 100%|██████████| 7/7 [00:13<00:00,  1.93s/it]\n",
      "Training (7846 / 18000 Steps) (loss=0.50025): 100%|██████████| 7/7 [00:13<00:00,  1.90s/it]\n",
      "Training (7853 / 18000 Steps) (loss=0.39896): 100%|██████████| 7/7 [00:13<00:00,  1.90s/it]\n",
      "Training (7860 / 18000 Steps) (loss=0.33135): 100%|██████████| 7/7 [00:13<00:00,  1.90s/it]\n",
      "Training (7867 / 18000 Steps) (loss=0.56269): 100%|██████████| 7/7 [00:13<00:00,  1.93s/it]\n",
      "Training (7874 / 18000 Steps) (loss=0.56762): 100%|██████████| 7/7 [00:13<00:00,  1.88s/it]\n",
      "Training (7881 / 18000 Steps) (loss=0.54961): 100%|██████████| 7/7 [00:13<00:00,  1.91s/it]\n",
      "Training (7888 / 18000 Steps) (loss=0.40318): 100%|██████████| 7/7 [00:13<00:00,  1.92s/it]\n",
      "Training (7895 / 18000 Steps) (loss=0.44734): 100%|██████████| 7/7 [00:13<00:00,  1.91s/it]\n",
      "Validate (7896 / 10 Steps): 100%|██████████| 2/2 [00:08<00:00,  4.40s/it]<00:05,  1.96s/it]\n",
      "Training (7900 / 18000 Steps) (loss=0.58021):  71%|███████▏  | 5/7 [00:19<00:10,  5.02s/it]"
     ]
    },
    {
     "name": "stdout",
     "output_type": "stream",
     "text": [
      "Model Was Not Saved ! Current Best Avg. Dice: 0.3942748010158539 Current Avg. Dice: 0.34613025188446045 Current Avg. tumor Dice: 0.28996047377586365 Current Avg. lymph Dice: 0.40230005979537964\n"
     ]
    },
    {
     "name": "stderr",
     "output_type": "stream",
     "text": [
      "Training (7902 / 18000 Steps) (loss=0.41131): 100%|██████████| 7/7 [00:22<00:00,  3.18s/it]\n",
      "Training (7909 / 18000 Steps) (loss=0.20706): 100%|██████████| 7/7 [00:13<00:00,  1.93s/it]\n",
      "Training (7916 / 18000 Steps) (loss=0.42454): 100%|██████████| 7/7 [00:13<00:00,  1.92s/it]\n",
      "Training (7923 / 18000 Steps) (loss=0.47281): 100%|██████████| 7/7 [00:13<00:00,  1.88s/it]\n",
      "Training (7930 / 18000 Steps) (loss=0.52189): 100%|██████████| 7/7 [00:13<00:00,  1.87s/it]\n",
      "Training (7937 / 18000 Steps) (loss=0.57073): 100%|██████████| 7/7 [00:13<00:00,  1.92s/it]\n",
      "Training (7944 / 18000 Steps) (loss=0.20419): 100%|██████████| 7/7 [00:13<00:00,  1.92s/it]\n",
      "Training (7951 / 18000 Steps) (loss=0.41640): 100%|██████████| 7/7 [00:13<00:00,  1.91s/it]\n",
      "Training (7958 / 18000 Steps) (loss=0.34781): 100%|██████████| 7/7 [00:13<00:00,  1.92s/it]\n",
      "Training (7965 / 18000 Steps) (loss=0.39372): 100%|██████████| 7/7 [00:13<00:00,  1.88s/it]\n",
      "Training (7972 / 18000 Steps) (loss=0.42414): 100%|██████████| 7/7 [00:13<00:00,  1.90s/it]\n",
      "Training (7979 / 18000 Steps) (loss=0.39853): 100%|██████████| 7/7 [00:13<00:00,  1.88s/it]\n",
      "Training (7986 / 18000 Steps) (loss=0.51997): 100%|██████████| 7/7 [00:13<00:00,  1.93s/it]\n",
      "Training (7993 / 18000 Steps) (loss=0.41301): 100%|██████████| 7/7 [00:13<00:00,  1.90s/it]\n",
      "Validate (7994 / 10 Steps): 100%|██████████| 2/2 [00:08<00:00,  4.39s/it]<00:01,  1.76s/it]\n",
      "Training (8000 / 18000 Steps) (loss=0.38963): 100%|██████████| 7/7 [00:22<00:00,  3.18s/it]\n"
     ]
    },
    {
     "name": "stdout",
     "output_type": "stream",
     "text": [
      "Model Was Not Saved ! Current Best Avg. Dice: 0.3942748010158539 Current Avg. Dice: 0.3649212121963501 Current Avg. tumor Dice: 0.3171151578426361 Current Avg. lymph Dice: 0.4127272367477417\n"
     ]
    },
    {
     "name": "stderr",
     "output_type": "stream",
     "text": [
      "Training (8007 / 18000 Steps) (loss=0.31511): 100%|██████████| 7/7 [00:13<00:00,  1.92s/it]\n",
      "Training (8014 / 18000 Steps) (loss=0.46381): 100%|██████████| 7/7 [00:13<00:00,  1.91s/it]\n",
      "Training (8021 / 18000 Steps) (loss=0.38002): 100%|██████████| 7/7 [00:13<00:00,  1.89s/it]\n",
      "Training (8028 / 18000 Steps) (loss=0.59682): 100%|██████████| 7/7 [00:13<00:00,  1.90s/it]\n",
      "Training (8035 / 18000 Steps) (loss=0.63710): 100%|██████████| 7/7 [00:13<00:00,  1.89s/it]\n",
      "Training (8042 / 18000 Steps) (loss=0.48269): 100%|██████████| 7/7 [00:13<00:00,  1.97s/it]\n",
      "Training (8049 / 18000 Steps) (loss=0.26429): 100%|██████████| 7/7 [00:13<00:00,  1.87s/it]\n",
      "Training (8056 / 18000 Steps) (loss=0.57201): 100%|██████████| 7/7 [00:13<00:00,  1.88s/it]\n",
      "Training (8063 / 18000 Steps) (loss=0.29133): 100%|██████████| 7/7 [00:13<00:00,  1.93s/it]\n",
      "Training (8070 / 18000 Steps) (loss=0.22877): 100%|██████████| 7/7 [00:13<00:00,  1.89s/it]\n",
      "Training (8077 / 18000 Steps) (loss=0.44739): 100%|██████████| 7/7 [00:13<00:00,  1.91s/it]\n",
      "Training (8084 / 18000 Steps) (loss=0.53601): 100%|██████████| 7/7 [00:13<00:00,  1.96s/it]\n",
      "Training (8091 / 18000 Steps) (loss=0.43005): 100%|██████████| 7/7 [00:13<00:00,  1.95s/it]\n",
      "Training (8098 / 18000 Steps) (loss=0.59450): 100%|██████████| 7/7 [00:13<00:00,  1.90s/it]\n",
      "Validate (8099 / 10 Steps): 100%|██████████| 2/2 [00:08<00:00,  4.30s/it]<00:27,  4.57s/it]\n",
      "Training (8100 / 18000 Steps) (loss=0.54570):  29%|██▊       | 2/7 [00:14<00:39,  7.91s/it]"
     ]
    },
    {
     "name": "stdout",
     "output_type": "stream",
     "text": [
      "Model Was Not Saved ! Current Best Avg. Dice: 0.3942748010158539 Current Avg. Dice: 0.33582550287246704 Current Avg. tumor Dice: 0.29397013783454895 Current Avg. lymph Dice: 0.37768083810806274\n"
     ]
    },
    {
     "name": "stderr",
     "output_type": "stream",
     "text": [
      "Training (8105 / 18000 Steps) (loss=0.50005): 100%|██████████| 7/7 [00:22<00:00,  3.18s/it]\n",
      "Training (8112 / 18000 Steps) (loss=0.36011): 100%|██████████| 7/7 [00:13<00:00,  1.87s/it]\n",
      "Training (8119 / 18000 Steps) (loss=0.44177): 100%|██████████| 7/7 [00:13<00:00,  1.91s/it]\n",
      "Training (8126 / 18000 Steps) (loss=0.39448): 100%|██████████| 7/7 [00:13<00:00,  1.90s/it]\n",
      "Training (8133 / 18000 Steps) (loss=0.61484): 100%|██████████| 7/7 [00:13<00:00,  1.94s/it]\n",
      "Training (8140 / 18000 Steps) (loss=0.39777): 100%|██████████| 7/7 [00:13<00:00,  1.93s/it]\n",
      "Training (8147 / 18000 Steps) (loss=0.39228): 100%|██████████| 7/7 [00:13<00:00,  1.89s/it]\n",
      "Training (8154 / 18000 Steps) (loss=0.55689): 100%|██████████| 7/7 [00:13<00:00,  1.91s/it]\n",
      "Training (8161 / 18000 Steps) (loss=0.30040): 100%|██████████| 7/7 [00:13<00:00,  1.88s/it]\n",
      "Training (8168 / 18000 Steps) (loss=0.39638): 100%|██████████| 7/7 [00:13<00:00,  1.90s/it]\n",
      "Training (8175 / 18000 Steps) (loss=0.56668): 100%|██████████| 7/7 [00:13<00:00,  1.90s/it]\n",
      "Training (8182 / 18000 Steps) (loss=0.55332): 100%|██████████| 7/7 [00:13<00:00,  1.95s/it]\n",
      "Training (8189 / 18000 Steps) (loss=0.44147): 100%|██████████| 7/7 [00:12<00:00,  1.85s/it]\n",
      "Training (8196 / 18000 Steps) (loss=0.29574): 100%|██████████| 7/7 [00:13<00:00,  1.90s/it]\n",
      "Validate (8197 / 10 Steps): 100%|██████████| 2/2 [00:08<00:00,  4.31s/it]<00:08,  2.14s/it]\n",
      "Training (8200 / 18000 Steps) (loss=0.36536):  57%|█████▋    | 4/7 [00:17<00:16,  5.34s/it]"
     ]
    },
    {
     "name": "stdout",
     "output_type": "stream",
     "text": [
      "Model Was Not Saved ! Current Best Avg. Dice: 0.3942748010158539 Current Avg. Dice: 0.3579396605491638 Current Avg. tumor Dice: 0.31522074341773987 Current Avg. lymph Dice: 0.40065866708755493\n"
     ]
    },
    {
     "name": "stderr",
     "output_type": "stream",
     "text": [
      "Training (8203 / 18000 Steps) (loss=0.55718): 100%|██████████| 7/7 [00:21<00:00,  3.11s/it]\n",
      "Training (8210 / 18000 Steps) (loss=0.45492): 100%|██████████| 7/7 [00:13<00:00,  1.93s/it]\n",
      "Training (8217 / 18000 Steps) (loss=0.67102): 100%|██████████| 7/7 [00:13<00:00,  1.92s/it]\n",
      "Training (8224 / 18000 Steps) (loss=0.43305): 100%|██████████| 7/7 [00:13<00:00,  1.92s/it]\n",
      "Training (8231 / 18000 Steps) (loss=0.41678): 100%|██████████| 7/7 [00:13<00:00,  1.90s/it]\n",
      "Training (8238 / 18000 Steps) (loss=0.60972): 100%|██████████| 7/7 [00:13<00:00,  1.92s/it]\n",
      "Training (8245 / 18000 Steps) (loss=0.32332): 100%|██████████| 7/7 [00:13<00:00,  1.88s/it]\n",
      "Training (8252 / 18000 Steps) (loss=0.48608): 100%|██████████| 7/7 [00:13<00:00,  1.88s/it]\n",
      "Training (8259 / 18000 Steps) (loss=0.23499): 100%|██████████| 7/7 [00:13<00:00,  1.89s/it]\n",
      "Training (8266 / 18000 Steps) (loss=0.56392): 100%|██████████| 7/7 [00:13<00:00,  1.92s/it]\n",
      "Training (8273 / 18000 Steps) (loss=0.55773): 100%|██████████| 7/7 [00:13<00:00,  1.92s/it]\n",
      "Training (8280 / 18000 Steps) (loss=0.30681): 100%|██████████| 7/7 [00:13<00:00,  1.89s/it]\n",
      "Training (8287 / 18000 Steps) (loss=0.34760): 100%|██████████| 7/7 [00:13<00:00,  1.92s/it]\n",
      "Training (8294 / 18000 Steps) (loss=0.23649): 100%|██████████| 7/7 [00:13<00:00,  1.93s/it]\n",
      "Validate (8295 / 10 Steps): 100%|██████████| 2/2 [00:08<00:00,  4.35s/it]<00:03,  1.81s/it]\n",
      "Training (8300 / 18000 Steps) (loss=0.43772):  86%|████████▌ | 6/7 [00:20<00:04,  4.71s/it]"
     ]
    },
    {
     "name": "stdout",
     "output_type": "stream",
     "text": [
      "Model Was Not Saved ! Current Best Avg. Dice: 0.3942748010158539 Current Avg. Dice: 0.38002800941467285 Current Avg. tumor Dice: 0.33269253373146057 Current Avg. lymph Dice: 0.4273635149002075\n"
     ]
    },
    {
     "name": "stderr",
     "output_type": "stream",
     "text": [
      "Training (8301 / 18000 Steps) (loss=0.56608): 100%|██████████| 7/7 [00:22<00:00,  3.15s/it]\n",
      "Training (8308 / 18000 Steps) (loss=0.36634): 100%|██████████| 7/7 [00:13<00:00,  1.89s/it]\n",
      "Training (8315 / 18000 Steps) (loss=0.47530): 100%|██████████| 7/7 [00:13<00:00,  1.91s/it]\n",
      "Training (8322 / 18000 Steps) (loss=0.31447): 100%|██████████| 7/7 [00:13<00:00,  1.90s/it]\n",
      "Training (8329 / 18000 Steps) (loss=0.18391): 100%|██████████| 7/7 [00:13<00:00,  1.90s/it]\n",
      "Training (8336 / 18000 Steps) (loss=0.54902): 100%|██████████| 7/7 [00:13<00:00,  1.88s/it]\n",
      "Training (8343 / 18000 Steps) (loss=0.49171): 100%|██████████| 7/7 [00:13<00:00,  1.91s/it]\n",
      "Training (8350 / 18000 Steps) (loss=0.44353): 100%|██████████| 7/7 [00:13<00:00,  1.92s/it]\n",
      "Training (8357 / 18000 Steps) (loss=0.46900): 100%|██████████| 7/7 [00:13<00:00,  1.93s/it]\n",
      "Training (8364 / 18000 Steps) (loss=0.36986): 100%|██████████| 7/7 [00:13<00:00,  1.92s/it]\n",
      "Training (8371 / 18000 Steps) (loss=0.44376): 100%|██████████| 7/7 [00:13<00:00,  1.88s/it]\n",
      "Training (8378 / 18000 Steps) (loss=0.46622): 100%|██████████| 7/7 [00:13<00:00,  1.91s/it]\n",
      "Training (8385 / 18000 Steps) (loss=0.48007): 100%|██████████| 7/7 [00:13<00:00,  1.90s/it]\n",
      "Training (8392 / 18000 Steps) (loss=0.36863): 100%|██████████| 7/7 [00:13<00:00,  1.92s/it]\n",
      "Training (8399 / 18000 Steps) (loss=0.34066): 100%|██████████| 7/7 [00:13<00:00,  1.90s/it]\n",
      "Validate (8400 / 10 Steps): 100%|██████████| 2/2 [00:08<00:00,  4.36s/it]<?, ?it/s]\n",
      "Training (8400 / 18000 Steps) (loss=0.57396):  14%|█▍        | 1/7 [00:13<01:18, 13.00s/it]"
     ]
    },
    {
     "name": "stdout",
     "output_type": "stream",
     "text": [
      "Model Was Not Saved ! Current Best Avg. Dice: 0.3942748010158539 Current Avg. Dice: 0.3631175458431244 Current Avg. tumor Dice: 0.3162304759025574 Current Avg. lymph Dice: 0.410004585981369\n"
     ]
    },
    {
     "name": "stderr",
     "output_type": "stream",
     "text": [
      "Training (8406 / 18000 Steps) (loss=0.54340): 100%|██████████| 7/7 [00:22<00:00,  3.17s/it]\n",
      "Training (8413 / 18000 Steps) (loss=0.40947): 100%|██████████| 7/7 [00:13<00:00,  1.91s/it]\n",
      "Training (8420 / 18000 Steps) (loss=0.57765): 100%|██████████| 7/7 [00:13<00:00,  1.91s/it]\n",
      "Training (8427 / 18000 Steps) (loss=0.55357): 100%|██████████| 7/7 [00:13<00:00,  1.89s/it]\n",
      "Training (8434 / 18000 Steps) (loss=0.33919): 100%|██████████| 7/7 [00:13<00:00,  1.91s/it]\n",
      "Training (8441 / 18000 Steps) (loss=0.44214): 100%|██████████| 7/7 [00:13<00:00,  1.96s/it]\n",
      "Training (8448 / 18000 Steps) (loss=0.51203): 100%|██████████| 7/7 [00:13<00:00,  1.92s/it]\n",
      "Training (8455 / 18000 Steps) (loss=0.60880): 100%|██████████| 7/7 [00:13<00:00,  1.91s/it]\n",
      "Training (8462 / 18000 Steps) (loss=0.65501): 100%|██████████| 7/7 [00:13<00:00,  1.87s/it]\n",
      "Training (8469 / 18000 Steps) (loss=0.33812): 100%|██████████| 7/7 [00:13<00:00,  1.92s/it]\n",
      "Training (8476 / 18000 Steps) (loss=0.31364): 100%|██████████| 7/7 [00:13<00:00,  1.89s/it]\n",
      "Training (8483 / 18000 Steps) (loss=0.47536): 100%|██████████| 7/7 [00:13<00:00,  1.92s/it]\n",
      "Training (8490 / 18000 Steps) (loss=0.23162): 100%|██████████| 7/7 [00:13<00:00,  1.94s/it]\n",
      "Training (8497 / 18000 Steps) (loss=0.50037): 100%|██████████| 7/7 [00:13<00:00,  1.92s/it]\n",
      "Validate (8498 / 10 Steps): 100%|██████████| 2/2 [00:08<00:00,  4.33s/it]<00:13,  2.80s/it]\n",
      "Training (8500 / 18000 Steps) (loss=0.37540):  43%|████▎     | 3/7 [00:16<00:24,  6.23s/it]"
     ]
    },
    {
     "name": "stdout",
     "output_type": "stream",
     "text": [
      "Model Was Not Saved ! Current Best Avg. Dice: 0.3942748010158539 Current Avg. Dice: 0.3395692706108093 Current Avg. tumor Dice: 0.2944169342517853 Current Avg. lymph Dice: 0.384721577167511\n"
     ]
    },
    {
     "name": "stderr",
     "output_type": "stream",
     "text": [
      "Training (8504 / 18000 Steps) (loss=0.55849): 100%|██████████| 7/7 [00:22<00:00,  3.17s/it]\n",
      "Training (8511 / 18000 Steps) (loss=0.52619): 100%|██████████| 7/7 [00:13<00:00,  1.90s/it]\n",
      "Training (8518 / 18000 Steps) (loss=0.49922): 100%|██████████| 7/7 [00:13<00:00,  1.90s/it]\n",
      "Training (8525 / 18000 Steps) (loss=0.44060): 100%|██████████| 7/7 [00:13<00:00,  1.91s/it]\n",
      "Training (8532 / 18000 Steps) (loss=0.55010): 100%|██████████| 7/7 [00:13<00:00,  1.90s/it]\n",
      "Training (8539 / 18000 Steps) (loss=0.46595): 100%|██████████| 7/7 [00:13<00:00,  1.95s/it]\n",
      "Training (8546 / 18000 Steps) (loss=0.48366): 100%|██████████| 7/7 [00:13<00:00,  1.92s/it]\n",
      "Training (8553 / 18000 Steps) (loss=0.37007): 100%|██████████| 7/7 [00:13<00:00,  1.88s/it]\n",
      "Training (8560 / 18000 Steps) (loss=0.32594): 100%|██████████| 7/7 [00:13<00:00,  1.90s/it]\n",
      "Training (8567 / 18000 Steps) (loss=0.23059): 100%|██████████| 7/7 [00:13<00:00,  1.90s/it]\n",
      "Training (8574 / 18000 Steps) (loss=0.56158): 100%|██████████| 7/7 [00:13<00:00,  1.89s/it]\n",
      "Training (8581 / 18000 Steps) (loss=0.45501): 100%|██████████| 7/7 [00:13<00:00,  1.86s/it]\n",
      "Training (8588 / 18000 Steps) (loss=0.57686): 100%|██████████| 7/7 [00:13<00:00,  1.92s/it]\n",
      "Training (8595 / 18000 Steps) (loss=0.16446): 100%|██████████| 7/7 [00:13<00:00,  1.91s/it]\n",
      "Validate (8596 / 10 Steps): 100%|██████████| 2/2 [00:08<00:00,  4.30s/it]<00:05,  1.94s/it]\n",
      "Training (8600 / 18000 Steps) (loss=0.49481):  71%|███████▏  | 5/7 [00:19<00:09,  4.94s/it]"
     ]
    },
    {
     "name": "stdout",
     "output_type": "stream",
     "text": [
      "Model Was Not Saved ! Current Best Avg. Dice: 0.3942748010158539 Current Avg. Dice: 0.33807867765426636 Current Avg. tumor Dice: 0.28218019008636475 Current Avg. lymph Dice: 0.3939771354198456\n"
     ]
    },
    {
     "name": "stderr",
     "output_type": "stream",
     "text": [
      "Training (8602 / 18000 Steps) (loss=0.37717): 100%|██████████| 7/7 [00:21<00:00,  3.12s/it]\n",
      "Training (8609 / 18000 Steps) (loss=0.27998): 100%|██████████| 7/7 [00:13<00:00,  1.91s/it]\n",
      "Training (8616 / 18000 Steps) (loss=0.48391): 100%|██████████| 7/7 [00:13<00:00,  1.92s/it]\n",
      "Training (8623 / 18000 Steps) (loss=0.47474): 100%|██████████| 7/7 [00:13<00:00,  1.92s/it]\n",
      "Training (8630 / 18000 Steps) (loss=0.36830): 100%|██████████| 7/7 [00:13<00:00,  1.91s/it]\n",
      "Training (8637 / 18000 Steps) (loss=0.31627): 100%|██████████| 7/7 [00:13<00:00,  1.91s/it]\n",
      "Training (8644 / 18000 Steps) (loss=0.31229): 100%|██████████| 7/7 [00:13<00:00,  1.90s/it]\n",
      "Training (8651 / 18000 Steps) (loss=0.45581): 100%|██████████| 7/7 [00:13<00:00,  1.91s/it]\n",
      "Training (8658 / 18000 Steps) (loss=0.37835): 100%|██████████| 7/7 [00:13<00:00,  1.88s/it]\n",
      "Training (8665 / 18000 Steps) (loss=0.20346): 100%|██████████| 7/7 [00:13<00:00,  1.91s/it]\n",
      "Training (8672 / 18000 Steps) (loss=0.48478): 100%|██████████| 7/7 [00:13<00:00,  1.91s/it]\n",
      "Training (8679 / 18000 Steps) (loss=0.37965): 100%|██████████| 7/7 [00:13<00:00,  1.93s/it]\n",
      "Training (8686 / 18000 Steps) (loss=0.31856): 100%|██████████| 7/7 [00:13<00:00,  1.90s/it]\n",
      "Training (8693 / 18000 Steps) (loss=0.44091): 100%|██████████| 7/7 [00:13<00:00,  1.93s/it]\n",
      "Validate (8694 / 10 Steps): 100%|██████████| 2/2 [00:08<00:00,  4.36s/it]<00:01,  1.72s/it]\n",
      "Training (8700 / 18000 Steps) (loss=0.57068): 100%|██████████| 7/7 [00:21<00:00,  3.14s/it]\n"
     ]
    },
    {
     "name": "stdout",
     "output_type": "stream",
     "text": [
      "Model Was Not Saved ! Current Best Avg. Dice: 0.3942748010158539 Current Avg. Dice: 0.34088438749313354 Current Avg. tumor Dice: 0.3407721519470215 Current Avg. lymph Dice: 0.34099656343460083\n"
     ]
    },
    {
     "name": "stderr",
     "output_type": "stream",
     "text": [
      "Training (8707 / 18000 Steps) (loss=0.56641): 100%|██████████| 7/7 [00:13<00:00,  1.90s/it]\n",
      "Training (8714 / 18000 Steps) (loss=0.33991): 100%|██████████| 7/7 [00:13<00:00,  1.91s/it]\n",
      "Training (8721 / 18000 Steps) (loss=0.33951): 100%|██████████| 7/7 [00:13<00:00,  1.93s/it]\n",
      "Training (8728 / 18000 Steps) (loss=0.38310): 100%|██████████| 7/7 [00:13<00:00,  1.91s/it]\n",
      "Training (8735 / 18000 Steps) (loss=0.43357): 100%|██████████| 7/7 [00:13<00:00,  1.89s/it]\n",
      "Training (8742 / 18000 Steps) (loss=0.45986): 100%|██████████| 7/7 [00:13<00:00,  1.91s/it]\n",
      "Training (8749 / 18000 Steps) (loss=0.52729): 100%|██████████| 7/7 [00:13<00:00,  1.88s/it]\n",
      "Training (8756 / 18000 Steps) (loss=0.47713): 100%|██████████| 7/7 [00:13<00:00,  1.91s/it]\n",
      "Training (8763 / 18000 Steps) (loss=0.39554): 100%|██████████| 7/7 [00:13<00:00,  1.92s/it]\n",
      "Training (8770 / 18000 Steps) (loss=0.61781): 100%|██████████| 7/7 [00:13<00:00,  1.92s/it]\n",
      "Training (8777 / 18000 Steps) (loss=0.30250): 100%|██████████| 7/7 [00:13<00:00,  1.91s/it]\n",
      "Training (8784 / 18000 Steps) (loss=0.27064): 100%|██████████| 7/7 [00:13<00:00,  1.89s/it]\n",
      "Training (8791 / 18000 Steps) (loss=0.55469): 100%|██████████| 7/7 [00:13<00:00,  1.92s/it]\n",
      "Training (8798 / 18000 Steps) (loss=0.37308): 100%|██████████| 7/7 [00:13<00:00,  1.89s/it]\n",
      "Validate (8799 / 10 Steps): 100%|██████████| 2/2 [00:08<00:00,  4.33s/it]<00:25,  4.28s/it]\n",
      "Training (8800 / 18000 Steps) (loss=0.52102):  29%|██▊       | 2/7 [00:15<00:41,  8.35s/it]"
     ]
    },
    {
     "name": "stdout",
     "output_type": "stream",
     "text": [
      "Model Was Saved ! Current Best Avg. Dice: 0.415383905172348 Current Avg. Dice: 0.415383905172348 Current Avg. tumor Dice: 0.34249216318130493 Current Avg. lymph Dice: 0.4882757067680359\n"
     ]
    },
    {
     "name": "stderr",
     "output_type": "stream",
     "text": [
      "Training (8805 / 18000 Steps) (loss=0.56099): 100%|██████████| 7/7 [00:22<00:00,  3.28s/it]\n",
      "Training (8812 / 18000 Steps) (loss=0.44973): 100%|██████████| 7/7 [00:13<00:00,  1.91s/it]\n",
      "Training (8819 / 18000 Steps) (loss=0.53609): 100%|██████████| 7/7 [00:13<00:00,  1.89s/it]\n",
      "Training (8826 / 18000 Steps) (loss=0.50035): 100%|██████████| 7/7 [00:13<00:00,  1.90s/it]\n",
      "Training (8833 / 18000 Steps) (loss=0.38336): 100%|██████████| 7/7 [00:13<00:00,  1.89s/it]\n",
      "Training (8840 / 18000 Steps) (loss=0.60770): 100%|██████████| 7/7 [00:13<00:00,  1.92s/it]\n",
      "Training (8847 / 18000 Steps) (loss=0.29541): 100%|██████████| 7/7 [00:13<00:00,  1.96s/it]\n",
      "Training (8854 / 18000 Steps) (loss=0.32065): 100%|██████████| 7/7 [00:13<00:00,  1.89s/it]\n",
      "Training (8861 / 18000 Steps) (loss=0.28092): 100%|██████████| 7/7 [00:13<00:00,  1.92s/it]\n",
      "Training (8868 / 18000 Steps) (loss=0.28714): 100%|██████████| 7/7 [00:13<00:00,  1.89s/it]\n",
      "Training (8875 / 18000 Steps) (loss=0.58305): 100%|██████████| 7/7 [00:13<00:00,  1.91s/it]\n",
      "Training (8882 / 18000 Steps) (loss=0.66791): 100%|██████████| 7/7 [00:13<00:00,  1.91s/it]\n",
      "Training (8889 / 18000 Steps) (loss=0.56592): 100%|██████████| 7/7 [00:13<00:00,  1.90s/it]\n",
      "Training (8896 / 18000 Steps) (loss=0.54016): 100%|██████████| 7/7 [00:13<00:00,  1.89s/it]\n",
      "Validate (8897 / 10 Steps): 100%|██████████| 2/2 [00:08<00:00,  4.37s/it]<00:08,  2.18s/it]\n",
      "Training (8900 / 18000 Steps) (loss=0.39981):  57%|█████▋    | 4/7 [00:17<00:16,  5.41s/it]"
     ]
    },
    {
     "name": "stdout",
     "output_type": "stream",
     "text": [
      "Model Was Not Saved ! Current Best Avg. Dice: 0.415383905172348 Current Avg. Dice: 0.31791219115257263 Current Avg. tumor Dice: 0.3070744574069977 Current Avg. lymph Dice: 0.3287498950958252\n"
     ]
    },
    {
     "name": "stderr",
     "output_type": "stream",
     "text": [
      "Training (8903 / 18000 Steps) (loss=0.56110): 100%|██████████| 7/7 [00:22<00:00,  3.16s/it]\n",
      "Training (8910 / 18000 Steps) (loss=0.49611): 100%|██████████| 7/7 [00:13<00:00,  1.88s/it]\n",
      "Training (8917 / 18000 Steps) (loss=0.57002): 100%|██████████| 7/7 [00:13<00:00,  1.92s/it]\n",
      "Training (8924 / 18000 Steps) (loss=0.21309): 100%|██████████| 7/7 [00:13<00:00,  1.90s/it]\n",
      "Training (8931 / 18000 Steps) (loss=0.37323): 100%|██████████| 7/7 [00:13<00:00,  1.88s/it]\n",
      "Training (8938 / 18000 Steps) (loss=0.39809): 100%|██████████| 7/7 [00:13<00:00,  1.95s/it]\n",
      "Training (8945 / 18000 Steps) (loss=0.43719): 100%|██████████| 7/7 [00:13<00:00,  1.92s/it]\n",
      "Training (8952 / 18000 Steps) (loss=0.46823): 100%|██████████| 7/7 [00:13<00:00,  1.94s/it]\n",
      "Training (8959 / 18000 Steps) (loss=0.58369): 100%|██████████| 7/7 [00:13<00:00,  1.88s/it]\n",
      "Training (8966 / 18000 Steps) (loss=0.24136): 100%|██████████| 7/7 [00:13<00:00,  1.91s/it]\n",
      "Training (8973 / 18000 Steps) (loss=0.41358): 100%|██████████| 7/7 [00:13<00:00,  1.94s/it]\n",
      "Training (8980 / 18000 Steps) (loss=0.21581): 100%|██████████| 7/7 [00:13<00:00,  1.91s/it]\n",
      "Training (8987 / 18000 Steps) (loss=0.40770): 100%|██████████| 7/7 [00:13<00:00,  1.94s/it]\n",
      "Training (8994 / 18000 Steps) (loss=0.45590): 100%|██████████| 7/7 [00:13<00:00,  1.98s/it]\n",
      "Validate (8995 / 10 Steps): 100%|██████████| 2/2 [00:08<00:00,  4.33s/it]<00:03,  1.85s/it]\n",
      "Training (9000 / 18000 Steps) (loss=0.49030):  86%|████████▌ | 6/7 [00:21<00:04,  4.71s/it]"
     ]
    },
    {
     "name": "stdout",
     "output_type": "stream",
     "text": [
      "Model Was Not Saved ! Current Best Avg. Dice: 0.415383905172348 Current Avg. Dice: 0.37655502557754517 Current Avg. tumor Dice: 0.36637985706329346 Current Avg. lymph Dice: 0.38673022389411926\n"
     ]
    },
    {
     "name": "stderr",
     "output_type": "stream",
     "text": [
      "Training (9001 / 18000 Steps) (loss=0.52112): 100%|██████████| 7/7 [00:22<00:00,  3.18s/it]\n",
      "Training (9008 / 18000 Steps) (loss=0.60386): 100%|██████████| 7/7 [00:13<00:00,  1.89s/it]\n",
      "Training (9015 / 18000 Steps) (loss=0.36362): 100%|██████████| 7/7 [00:13<00:00,  1.89s/it]\n",
      "Training (9022 / 18000 Steps) (loss=0.29244): 100%|██████████| 7/7 [00:13<00:00,  1.89s/it]\n",
      "Training (9029 / 18000 Steps) (loss=0.46930): 100%|██████████| 7/7 [00:13<00:00,  1.93s/it]\n",
      "Training (9036 / 18000 Steps) (loss=0.50005): 100%|██████████| 7/7 [00:13<00:00,  1.94s/it]\n",
      "Training (9043 / 18000 Steps) (loss=0.42337): 100%|██████████| 7/7 [00:13<00:00,  1.97s/it]\n",
      "Training (9050 / 18000 Steps) (loss=0.47523): 100%|██████████| 7/7 [00:13<00:00,  1.88s/it]\n",
      "Training (9057 / 18000 Steps) (loss=0.44904): 100%|██████████| 7/7 [00:13<00:00,  1.91s/it]\n",
      "Training (9064 / 18000 Steps) (loss=0.54722): 100%|██████████| 7/7 [00:12<00:00,  1.85s/it]\n",
      "Training (9071 / 18000 Steps) (loss=0.26322): 100%|██████████| 7/7 [00:13<00:00,  1.89s/it]\n",
      "Training (9078 / 18000 Steps) (loss=0.31299): 100%|██████████| 7/7 [00:13<00:00,  1.92s/it]\n",
      "Training (9085 / 18000 Steps) (loss=0.30557): 100%|██████████| 7/7 [00:13<00:00,  1.91s/it]\n",
      "Training (9092 / 18000 Steps) (loss=0.21485): 100%|██████████| 7/7 [00:13<00:00,  1.93s/it]\n",
      "Training (9099 / 18000 Steps) (loss=0.45746): 100%|██████████| 7/7 [00:13<00:00,  1.90s/it]\n",
      "Validate (9100 / 10 Steps): 100%|██████████| 2/2 [00:08<00:00,  4.35s/it]<?, ?it/s]\n",
      "Training (9100 / 18000 Steps) (loss=0.38151):  14%|█▍        | 1/7 [00:13<01:18, 13.02s/it]"
     ]
    },
    {
     "name": "stdout",
     "output_type": "stream",
     "text": [
      "Model Was Not Saved ! Current Best Avg. Dice: 0.415383905172348 Current Avg. Dice: 0.3437599539756775 Current Avg. tumor Dice: 0.3227214217185974 Current Avg. lymph Dice: 0.3647984266281128\n"
     ]
    },
    {
     "name": "stderr",
     "output_type": "stream",
     "text": [
      "Training (9106 / 18000 Steps) (loss=0.18297): 100%|██████████| 7/7 [00:21<00:00,  3.14s/it]\n",
      "Training (9113 / 18000 Steps) (loss=0.52878): 100%|██████████| 7/7 [00:13<00:00,  1.88s/it]\n",
      "Training (9120 / 18000 Steps) (loss=0.37698): 100%|██████████| 7/7 [00:13<00:00,  1.90s/it]\n",
      "Training (9127 / 18000 Steps) (loss=0.40625): 100%|██████████| 7/7 [00:13<00:00,  1.91s/it]\n",
      "Training (9134 / 18000 Steps) (loss=0.41366): 100%|██████████| 7/7 [00:13<00:00,  1.93s/it]\n",
      "Training (9141 / 18000 Steps) (loss=0.35083): 100%|██████████| 7/7 [00:13<00:00,  1.88s/it]\n",
      "Training (9148 / 18000 Steps) (loss=0.32316): 100%|██████████| 7/7 [00:13<00:00,  1.90s/it]\n",
      "Training (9155 / 18000 Steps) (loss=0.56299): 100%|██████████| 7/7 [00:13<00:00,  1.89s/it]\n",
      "Training (9162 / 18000 Steps) (loss=0.59465): 100%|██████████| 7/7 [00:13<00:00,  1.89s/it]\n",
      "Training (9169 / 18000 Steps) (loss=0.48186): 100%|██████████| 7/7 [00:13<00:00,  1.90s/it]\n",
      "Training (9176 / 18000 Steps) (loss=0.20336): 100%|██████████| 7/7 [00:13<00:00,  1.93s/it]\n",
      "Training (9183 / 18000 Steps) (loss=0.62305): 100%|██████████| 7/7 [00:13<00:00,  1.90s/it]\n",
      "Training (9190 / 18000 Steps) (loss=0.54215): 100%|██████████| 7/7 [00:13<00:00,  1.94s/it]\n",
      "Training (9197 / 18000 Steps) (loss=0.56186): 100%|██████████| 7/7 [00:13<00:00,  1.89s/it]\n",
      "Validate (9198 / 10 Steps): 100%|██████████| 2/2 [00:08<00:00,  4.39s/it]<00:13,  2.70s/it]\n",
      "Training (9200 / 18000 Steps) (loss=0.36382):  43%|████▎     | 3/7 [00:16<00:24,  6.22s/it]"
     ]
    },
    {
     "name": "stdout",
     "output_type": "stream",
     "text": [
      "Model Was Not Saved ! Current Best Avg. Dice: 0.415383905172348 Current Avg. Dice: 0.3795406222343445 Current Avg. tumor Dice: 0.34616613388061523 Current Avg. lymph Dice: 0.4129151403903961\n"
     ]
    },
    {
     "name": "stderr",
     "output_type": "stream",
     "text": [
      "Training (9204 / 18000 Steps) (loss=0.41024): 100%|██████████| 7/7 [00:22<00:00,  3.17s/it]\n",
      "Training (9211 / 18000 Steps) (loss=0.53685): 100%|██████████| 7/7 [00:13<00:00,  1.89s/it]\n",
      "Training (9218 / 18000 Steps) (loss=0.27513): 100%|██████████| 7/7 [00:13<00:00,  1.91s/it]\n",
      "Training (9225 / 18000 Steps) (loss=0.23433): 100%|██████████| 7/7 [00:13<00:00,  1.91s/it]\n",
      "Training (9232 / 18000 Steps) (loss=0.48486): 100%|██████████| 7/7 [00:13<00:00,  1.89s/it]\n",
      "Training (9239 / 18000 Steps) (loss=0.62120): 100%|██████████| 7/7 [00:13<00:00,  1.97s/it]\n",
      "Training (9246 / 18000 Steps) (loss=0.42594): 100%|██████████| 7/7 [00:13<00:00,  1.87s/it]\n",
      "Training (9253 / 18000 Steps) (loss=0.33664): 100%|██████████| 7/7 [00:13<00:00,  1.95s/it]\n",
      "Training (9260 / 18000 Steps) (loss=0.31788): 100%|██████████| 7/7 [00:13<00:00,  1.93s/it]\n",
      "Training (9267 / 18000 Steps) (loss=0.49719): 100%|██████████| 7/7 [00:13<00:00,  1.95s/it]\n",
      "Training (9274 / 18000 Steps) (loss=0.40407): 100%|██████████| 7/7 [00:13<00:00,  1.89s/it]\n",
      "Training (9281 / 18000 Steps) (loss=0.31640): 100%|██████████| 7/7 [00:13<00:00,  1.89s/it]\n",
      "Training (9288 / 18000 Steps) (loss=0.30132): 100%|██████████| 7/7 [00:13<00:00,  1.89s/it]\n",
      "Training (9295 / 18000 Steps) (loss=0.17872): 100%|██████████| 7/7 [00:13<00:00,  1.88s/it]\n",
      "Validate (9296 / 10 Steps): 100%|██████████| 2/2 [00:08<00:00,  4.36s/it]<00:05,  1.95s/it]\n",
      "Training (9300 / 18000 Steps) (loss=0.40725):  71%|███████▏  | 5/7 [00:19<00:09,  4.98s/it]"
     ]
    },
    {
     "name": "stdout",
     "output_type": "stream",
     "text": [
      "Model Was Not Saved ! Current Best Avg. Dice: 0.415383905172348 Current Avg. Dice: 0.3814209997653961 Current Avg. tumor Dice: 0.3410375118255615 Current Avg. lymph Dice: 0.4218044877052307\n"
     ]
    },
    {
     "name": "stderr",
     "output_type": "stream",
     "text": [
      "Training (9302 / 18000 Steps) (loss=0.50424): 100%|██████████| 7/7 [00:22<00:00,  3.14s/it]\n",
      "Training (9309 / 18000 Steps) (loss=0.41303): 100%|██████████| 7/7 [00:13<00:00,  1.95s/it]\n",
      "Training (9316 / 18000 Steps) (loss=0.28978): 100%|██████████| 7/7 [00:13<00:00,  1.90s/it]\n",
      "Training (9323 / 18000 Steps) (loss=0.53535): 100%|██████████| 7/7 [00:13<00:00,  1.91s/it]\n",
      "Training (9330 / 18000 Steps) (loss=0.38096): 100%|██████████| 7/7 [00:13<00:00,  1.90s/it]\n",
      "Training (9337 / 18000 Steps) (loss=0.54745): 100%|██████████| 7/7 [00:13<00:00,  1.89s/it]\n",
      "Training (9344 / 18000 Steps) (loss=0.34865): 100%|██████████| 7/7 [00:13<00:00,  1.92s/it]\n",
      "Training (9351 / 18000 Steps) (loss=0.54241): 100%|██████████| 7/7 [00:13<00:00,  1.92s/it]\n",
      "Training (9358 / 18000 Steps) (loss=0.38530): 100%|██████████| 7/7 [00:13<00:00,  1.93s/it]\n",
      "Training (9365 / 18000 Steps) (loss=0.22608): 100%|██████████| 7/7 [00:13<00:00,  1.89s/it]\n",
      "Training (9372 / 18000 Steps) (loss=0.42646): 100%|██████████| 7/7 [00:13<00:00,  1.88s/it]\n",
      "Training (9379 / 18000 Steps) (loss=0.33399): 100%|██████████| 7/7 [00:13<00:00,  1.90s/it]\n",
      "Training (9386 / 18000 Steps) (loss=0.36437): 100%|██████████| 7/7 [00:13<00:00,  1.90s/it]\n",
      "Training (9393 / 18000 Steps) (loss=0.43010): 100%|██████████| 7/7 [00:13<00:00,  1.93s/it]\n",
      "Validate (9394 / 10 Steps): 100%|██████████| 2/2 [00:08<00:00,  4.41s/it]<00:01,  1.75s/it]\n",
      "Training (9400 / 18000 Steps) (loss=0.35805): 100%|██████████| 7/7 [00:22<00:00,  3.17s/it]\n"
     ]
    },
    {
     "name": "stdout",
     "output_type": "stream",
     "text": [
      "Model Was Not Saved ! Current Best Avg. Dice: 0.415383905172348 Current Avg. Dice: 0.3605021834373474 Current Avg. tumor Dice: 0.31820476055145264 Current Avg. lymph Dice: 0.4027996361255646\n"
     ]
    },
    {
     "name": "stderr",
     "output_type": "stream",
     "text": [
      "Training (9407 / 18000 Steps) (loss=0.41979): 100%|██████████| 7/7 [00:13<00:00,  1.92s/it]\n",
      "Training (9414 / 18000 Steps) (loss=0.49299): 100%|██████████| 7/7 [00:13<00:00,  1.90s/it]\n",
      "Training (9421 / 18000 Steps) (loss=0.19012): 100%|██████████| 7/7 [00:13<00:00,  1.90s/it]\n",
      "Training (9428 / 18000 Steps) (loss=0.33407): 100%|██████████| 7/7 [00:13<00:00,  1.86s/it]\n",
      "Training (9435 / 18000 Steps) (loss=0.41358): 100%|██████████| 7/7 [00:13<00:00,  1.91s/it]\n",
      "Training (9442 / 18000 Steps) (loss=0.40477): 100%|██████████| 7/7 [00:13<00:00,  1.93s/it]\n",
      "Training (9449 / 18000 Steps) (loss=0.50167): 100%|██████████| 7/7 [00:13<00:00,  1.94s/it]\n",
      "Training (9456 / 18000 Steps) (loss=0.29298): 100%|██████████| 7/7 [00:13<00:00,  1.90s/it]\n",
      "Training (9463 / 18000 Steps) (loss=0.41788): 100%|██████████| 7/7 [00:13<00:00,  1.91s/it]\n",
      "Training (9470 / 18000 Steps) (loss=0.52489): 100%|██████████| 7/7 [00:13<00:00,  1.91s/it]\n",
      "Training (9477 / 18000 Steps) (loss=0.53589): 100%|██████████| 7/7 [00:13<00:00,  1.90s/it]\n",
      "Training (9484 / 18000 Steps) (loss=0.36640): 100%|██████████| 7/7 [00:13<00:00,  1.92s/it]\n",
      "Training (9491 / 18000 Steps) (loss=0.28513): 100%|██████████| 7/7 [00:13<00:00,  1.94s/it]\n",
      "Training (9498 / 18000 Steps) (loss=0.33714): 100%|██████████| 7/7 [00:13<00:00,  1.92s/it]\n",
      "Validate (9499 / 10 Steps): 100%|██████████| 2/2 [00:08<00:00,  4.42s/it]<00:25,  4.33s/it]\n",
      "Training (9500 / 18000 Steps) (loss=0.46899):  29%|██▊       | 2/7 [00:14<00:39,  7.95s/it]"
     ]
    },
    {
     "name": "stdout",
     "output_type": "stream",
     "text": [
      "Model Was Not Saved ! Current Best Avg. Dice: 0.415383905172348 Current Avg. Dice: 0.3398878574371338 Current Avg. tumor Dice: 0.309415727853775 Current Avg. lymph Dice: 0.37035995721817017\n"
     ]
    },
    {
     "name": "stderr",
     "output_type": "stream",
     "text": [
      "Training (9505 / 18000 Steps) (loss=0.37975): 100%|██████████| 7/7 [00:22<00:00,  3.18s/it]\n",
      "Training (9512 / 18000 Steps) (loss=0.43053): 100%|██████████| 7/7 [00:13<00:00,  1.87s/it]\n",
      "Training (9519 / 18000 Steps) (loss=0.55181): 100%|██████████| 7/7 [00:13<00:00,  1.90s/it]\n",
      "Training (9526 / 18000 Steps) (loss=0.26952): 100%|██████████| 7/7 [00:13<00:00,  1.91s/it]\n",
      "Training (9533 / 18000 Steps) (loss=0.23060): 100%|██████████| 7/7 [00:13<00:00,  1.91s/it]\n",
      "Training (9540 / 18000 Steps) (loss=0.43375): 100%|██████████| 7/7 [00:13<00:00,  1.94s/it]\n",
      "Training (9547 / 18000 Steps) (loss=0.31749): 100%|██████████| 7/7 [00:13<00:00,  1.90s/it]\n",
      "Training (9554 / 18000 Steps) (loss=0.38307): 100%|██████████| 7/7 [00:13<00:00,  1.92s/it]\n",
      "Training (9561 / 18000 Steps) (loss=0.34240): 100%|██████████| 7/7 [00:13<00:00,  1.86s/it]\n",
      "Training (9568 / 18000 Steps) (loss=0.36039): 100%|██████████| 7/7 [00:13<00:00,  1.91s/it]\n",
      "Training (9575 / 18000 Steps) (loss=0.60028): 100%|██████████| 7/7 [00:13<00:00,  1.90s/it]\n",
      "Training (9582 / 18000 Steps) (loss=0.44696): 100%|██████████| 7/7 [00:13<00:00,  1.91s/it]\n",
      "Training (9589 / 18000 Steps) (loss=0.37695): 100%|██████████| 7/7 [00:13<00:00,  1.98s/it]\n",
      "Training (9596 / 18000 Steps) (loss=0.54801): 100%|██████████| 7/7 [00:13<00:00,  1.90s/it]\n",
      "Validate (9597 / 10 Steps): 100%|██████████| 2/2 [00:08<00:00,  4.31s/it]<00:08,  2.22s/it]\n",
      "Training (9600 / 18000 Steps) (loss=0.41914):  57%|█████▋    | 4/7 [00:17<00:16,  5.40s/it]"
     ]
    },
    {
     "name": "stdout",
     "output_type": "stream",
     "text": [
      "Model Was Not Saved ! Current Best Avg. Dice: 0.415383905172348 Current Avg. Dice: 0.35224857926368713 Current Avg. tumor Dice: 0.335092157125473 Current Avg. lymph Dice: 0.36940503120422363\n"
     ]
    },
    {
     "name": "stderr",
     "output_type": "stream",
     "text": [
      "Training (9603 / 18000 Steps) (loss=0.48489): 100%|██████████| 7/7 [00:22<00:00,  3.16s/it]\n",
      "Training (9610 / 18000 Steps) (loss=0.60843): 100%|██████████| 7/7 [00:13<00:00,  1.94s/it]\n",
      "Training (9617 / 18000 Steps) (loss=0.41291): 100%|██████████| 7/7 [00:13<00:00,  1.91s/it]\n",
      "Training (9624 / 18000 Steps) (loss=0.39106): 100%|██████████| 7/7 [00:13<00:00,  1.94s/it]\n",
      "Training (9631 / 18000 Steps) (loss=0.58625): 100%|██████████| 7/7 [00:13<00:00,  1.93s/it]\n",
      "Training (9638 / 18000 Steps) (loss=0.38862): 100%|██████████| 7/7 [00:13<00:00,  1.93s/it]\n",
      "Training (9645 / 18000 Steps) (loss=0.43656): 100%|██████████| 7/7 [00:13<00:00,  1.96s/it]\n",
      "Training (9652 / 18000 Steps) (loss=0.41924): 100%|██████████| 7/7 [00:13<00:00,  1.90s/it]\n",
      "Training (9659 / 18000 Steps) (loss=0.48425): 100%|██████████| 7/7 [00:13<00:00,  1.94s/it]\n",
      "Training (9666 / 18000 Steps) (loss=0.48637): 100%|██████████| 7/7 [00:13<00:00,  1.91s/it]\n",
      "Training (9673 / 18000 Steps) (loss=0.44957): 100%|██████████| 7/7 [00:13<00:00,  1.96s/it]\n",
      "Training (9680 / 18000 Steps) (loss=0.47419): 100%|██████████| 7/7 [00:13<00:00,  1.93s/it]\n",
      "Training (9687 / 18000 Steps) (loss=0.45504): 100%|██████████| 7/7 [00:13<00:00,  1.90s/it]\n",
      "Training (9694 / 18000 Steps) (loss=0.61398): 100%|██████████| 7/7 [00:13<00:00,  1.95s/it]\n",
      "Validate (9695 / 10 Steps): 100%|██████████| 2/2 [00:08<00:00,  4.37s/it]<00:03,  1.82s/it]\n",
      "Training (9700 / 18000 Steps) (loss=0.26453):  86%|████████▌ | 6/7 [00:20<00:04,  4.72s/it]"
     ]
    },
    {
     "name": "stdout",
     "output_type": "stream",
     "text": [
      "Model Was Not Saved ! Current Best Avg. Dice: 0.415383905172348 Current Avg. Dice: 0.33199894428253174 Current Avg. tumor Dice: 0.3300411105155945 Current Avg. lymph Dice: 0.33395683765411377\n"
     ]
    },
    {
     "name": "stderr",
     "output_type": "stream",
     "text": [
      "Training (9701 / 18000 Steps) (loss=0.39335): 100%|██████████| 7/7 [00:22<00:00,  3.15s/it]\n",
      "Training (9708 / 18000 Steps) (loss=0.47964): 100%|██████████| 7/7 [00:13<00:00,  1.90s/it]\n",
      "Training (9715 / 18000 Steps) (loss=0.33759): 100%|██████████| 7/7 [00:13<00:00,  1.93s/it]\n",
      "Training (9722 / 18000 Steps) (loss=0.50054): 100%|██████████| 7/7 [00:13<00:00,  1.90s/it]\n",
      "Training (9729 / 18000 Steps) (loss=0.50102): 100%|██████████| 7/7 [00:13<00:00,  1.92s/it]\n",
      "Training (9736 / 18000 Steps) (loss=0.59656): 100%|██████████| 7/7 [00:13<00:00,  1.91s/it]\n",
      "Training (9743 / 18000 Steps) (loss=0.49554): 100%|██████████| 7/7 [00:13<00:00,  1.92s/it]\n",
      "Training (9750 / 18000 Steps) (loss=0.38582): 100%|██████████| 7/7 [00:13<00:00,  1.91s/it]\n",
      "Training (9757 / 18000 Steps) (loss=0.47372): 100%|██████████| 7/7 [00:13<00:00,  1.90s/it]\n",
      "Training (9764 / 18000 Steps) (loss=0.34832): 100%|██████████| 7/7 [00:13<00:00,  1.93s/it]\n",
      "Training (9771 / 18000 Steps) (loss=0.63709): 100%|██████████| 7/7 [00:13<00:00,  1.94s/it]\n",
      "Training (9778 / 18000 Steps) (loss=0.50761): 100%|██████████| 7/7 [00:13<00:00,  1.89s/it]\n",
      "Training (9785 / 18000 Steps) (loss=0.35710): 100%|██████████| 7/7 [00:13<00:00,  1.89s/it]\n",
      "Training (9792 / 18000 Steps) (loss=0.53085): 100%|██████████| 7/7 [00:13<00:00,  1.92s/it]\n",
      "Training (9799 / 18000 Steps) (loss=0.23495): 100%|██████████| 7/7 [00:13<00:00,  1.92s/it]\n",
      "Validate (9800 / 10 Steps): 100%|██████████| 2/2 [00:08<00:00,  4.43s/it]<?, ?it/s]\n",
      "Training (9800 / 18000 Steps) (loss=0.26668):  14%|█▍        | 1/7 [00:13<01:19, 13.31s/it]"
     ]
    },
    {
     "name": "stdout",
     "output_type": "stream",
     "text": [
      "Model Was Not Saved ! Current Best Avg. Dice: 0.415383905172348 Current Avg. Dice: 0.3723986744880676 Current Avg. tumor Dice: 0.3462486267089844 Current Avg. lymph Dice: 0.3985486924648285\n"
     ]
    },
    {
     "name": "stderr",
     "output_type": "stream",
     "text": [
      "Training (9806 / 18000 Steps) (loss=0.51617): 100%|██████████| 7/7 [00:22<00:00,  3.21s/it]\n",
      "Training (9813 / 18000 Steps) (loss=0.55384): 100%|██████████| 7/7 [00:13<00:00,  1.89s/it]\n",
      "Training (9820 / 18000 Steps) (loss=0.30779): 100%|██████████| 7/7 [00:13<00:00,  1.92s/it]\n",
      "Training (9827 / 18000 Steps) (loss=0.55200): 100%|██████████| 7/7 [00:13<00:00,  1.87s/it]\n",
      "Training (9834 / 18000 Steps) (loss=0.37490): 100%|██████████| 7/7 [00:13<00:00,  1.88s/it]\n",
      "Training (9841 / 18000 Steps) (loss=0.31668): 100%|██████████| 7/7 [00:13<00:00,  1.92s/it]\n",
      "Training (9848 / 18000 Steps) (loss=0.40976): 100%|██████████| 7/7 [00:13<00:00,  1.96s/it]\n",
      "Training (9855 / 18000 Steps) (loss=0.45956): 100%|██████████| 7/7 [00:13<00:00,  1.93s/it]\n",
      "Training (9862 / 18000 Steps) (loss=0.54818): 100%|██████████| 7/7 [00:13<00:00,  1.89s/it]\n",
      "Training (9869 / 18000 Steps) (loss=0.42914): 100%|██████████| 7/7 [00:13<00:00,  1.88s/it]\n",
      "Training (9876 / 18000 Steps) (loss=0.36497): 100%|██████████| 7/7 [00:13<00:00,  1.91s/it]\n",
      "Training (9883 / 18000 Steps) (loss=0.27841): 100%|██████████| 7/7 [00:13<00:00,  1.91s/it]\n",
      "Training (9890 / 18000 Steps) (loss=0.30279): 100%|██████████| 7/7 [00:13<00:00,  1.91s/it]\n",
      "Training (9897 / 18000 Steps) (loss=0.33334): 100%|██████████| 7/7 [00:13<00:00,  1.95s/it]\n",
      "Validate (9898 / 10 Steps): 100%|██████████| 2/2 [00:08<00:00,  4.31s/it]<00:13,  2.72s/it]\n",
      "Training (9900 / 18000 Steps) (loss=0.50633):  43%|████▎     | 3/7 [00:16<00:24,  6.17s/it]"
     ]
    },
    {
     "name": "stdout",
     "output_type": "stream",
     "text": [
      "Model Was Not Saved ! Current Best Avg. Dice: 0.415383905172348 Current Avg. Dice: 0.3488606810569763 Current Avg. tumor Dice: 0.31941789388656616 Current Avg. lymph Dice: 0.37830349802970886\n"
     ]
    },
    {
     "name": "stderr",
     "output_type": "stream",
     "text": [
      "Training (9904 / 18000 Steps) (loss=0.27912): 100%|██████████| 7/7 [00:22<00:00,  3.16s/it]\n",
      "Training (9911 / 18000 Steps) (loss=0.56546): 100%|██████████| 7/7 [00:13<00:00,  1.92s/it]\n",
      "Training (9918 / 18000 Steps) (loss=0.38660): 100%|██████████| 7/7 [00:13<00:00,  1.88s/it]\n",
      "Training (9925 / 18000 Steps) (loss=0.45425): 100%|██████████| 7/7 [00:13<00:00,  1.91s/it]\n",
      "Training (9932 / 18000 Steps) (loss=0.36247): 100%|██████████| 7/7 [00:13<00:00,  1.91s/it]\n",
      "Training (9939 / 18000 Steps) (loss=0.55507): 100%|██████████| 7/7 [00:13<00:00,  1.93s/it]\n",
      "Training (9946 / 18000 Steps) (loss=0.55233): 100%|██████████| 7/7 [00:13<00:00,  1.95s/it]\n",
      "Training (9953 / 18000 Steps) (loss=0.37348): 100%|██████████| 7/7 [00:13<00:00,  1.90s/it]\n",
      "Training (9960 / 18000 Steps) (loss=0.49522): 100%|██████████| 7/7 [00:13<00:00,  1.91s/it]\n",
      "Training (9967 / 18000 Steps) (loss=0.44095): 100%|██████████| 7/7 [00:13<00:00,  1.93s/it]\n",
      "Training (9974 / 18000 Steps) (loss=0.46527): 100%|██████████| 7/7 [00:13<00:00,  1.91s/it]\n",
      "Training (9981 / 18000 Steps) (loss=0.47935): 100%|██████████| 7/7 [00:13<00:00,  1.91s/it]\n",
      "Training (9988 / 18000 Steps) (loss=0.56915): 100%|██████████| 7/7 [00:13<00:00,  1.96s/it]\n",
      "Training (9995 / 18000 Steps) (loss=0.33054): 100%|██████████| 7/7 [00:13<00:00,  1.90s/it]\n",
      "Validate (9996 / 10 Steps): 100%|██████████| 2/2 [00:08<00:00,  4.38s/it]0<00:05,  1.97s/it]\n",
      "Training (10000 / 18000 Steps) (loss=0.49067):  71%|███████▏  | 5/7 [00:19<00:10,  5.00s/it]"
     ]
    },
    {
     "name": "stdout",
     "output_type": "stream",
     "text": [
      "Model Was Not Saved ! Current Best Avg. Dice: 0.415383905172348 Current Avg. Dice: 0.3432406485080719 Current Avg. tumor Dice: 0.30835187435150146 Current Avg. lymph Dice: 0.37812942266464233\n"
     ]
    },
    {
     "name": "stderr",
     "output_type": "stream",
     "text": [
      "Training (10002 / 18000 Steps) (loss=0.51527): 100%|██████████| 7/7 [00:22<00:00,  3.18s/it]\n",
      "Training (10009 / 18000 Steps) (loss=0.24711): 100%|██████████| 7/7 [00:13<00:00,  1.89s/it]\n",
      "Training (10016 / 18000 Steps) (loss=0.51050): 100%|██████████| 7/7 [00:13<00:00,  1.89s/it]\n",
      "Training (10023 / 18000 Steps) (loss=0.24811): 100%|██████████| 7/7 [00:13<00:00,  1.92s/it]\n",
      "Training (10030 / 18000 Steps) (loss=0.25578): 100%|██████████| 7/7 [00:13<00:00,  1.91s/it]\n",
      "Training (10037 / 18000 Steps) (loss=0.47635): 100%|██████████| 7/7 [00:13<00:00,  1.90s/it]\n",
      "Training (10044 / 18000 Steps) (loss=0.32662): 100%|██████████| 7/7 [00:13<00:00,  1.86s/it]\n",
      "Training (10051 / 18000 Steps) (loss=0.52010): 100%|██████████| 7/7 [00:13<00:00,  1.90s/it]\n",
      "Training (10058 / 18000 Steps) (loss=0.31529): 100%|██████████| 7/7 [00:13<00:00,  1.90s/it]\n",
      "Training (10065 / 18000 Steps) (loss=0.51677): 100%|██████████| 7/7 [00:13<00:00,  1.90s/it]\n",
      "Training (10072 / 18000 Steps) (loss=0.43183): 100%|██████████| 7/7 [00:13<00:00,  1.88s/it]\n",
      "Training (10079 / 18000 Steps) (loss=0.64874): 100%|██████████| 7/7 [00:13<00:00,  1.94s/it]\n",
      "Training (10086 / 18000 Steps) (loss=0.22950): 100%|██████████| 7/7 [00:13<00:00,  1.90s/it]\n",
      "Training (10093 / 18000 Steps) (loss=0.32470): 100%|██████████| 7/7 [00:13<00:00,  1.87s/it]\n",
      "Validate (10094 / 10 Steps): 100%|██████████| 2/2 [00:08<00:00,  4.28s/it]<00:01,  1.76s/it]\n",
      "Training (10100 / 18000 Steps) (loss=0.56222): 100%|██████████| 7/7 [00:22<00:00,  3.18s/it]\n"
     ]
    },
    {
     "name": "stdout",
     "output_type": "stream",
     "text": [
      "Model Was Not Saved ! Current Best Avg. Dice: 0.415383905172348 Current Avg. Dice: 0.3471331000328064 Current Avg. tumor Dice: 0.31492891907691956 Current Avg. lymph Dice: 0.3793373107910156\n"
     ]
    },
    {
     "name": "stderr",
     "output_type": "stream",
     "text": [
      "Training (10107 / 18000 Steps) (loss=0.38594): 100%|██████████| 7/7 [00:13<00:00,  1.88s/it]\n",
      "Training (10114 / 18000 Steps) (loss=0.23430): 100%|██████████| 7/7 [00:13<00:00,  1.91s/it]\n",
      "Training (10121 / 18000 Steps) (loss=0.31892): 100%|██████████| 7/7 [00:13<00:00,  1.92s/it]\n",
      "Training (10128 / 18000 Steps) (loss=0.29082): 100%|██████████| 7/7 [00:13<00:00,  1.93s/it]\n",
      "Training (10135 / 18000 Steps) (loss=0.47889): 100%|██████████| 7/7 [00:13<00:00,  1.90s/it]\n",
      "Training (10142 / 18000 Steps) (loss=0.43974): 100%|██████████| 7/7 [00:13<00:00,  1.89s/it]\n",
      "Training (10149 / 18000 Steps) (loss=0.46300): 100%|██████████| 7/7 [00:13<00:00,  1.94s/it]\n",
      "Training (10156 / 18000 Steps) (loss=0.38278): 100%|██████████| 7/7 [00:13<00:00,  1.88s/it]\n",
      "Training (10163 / 18000 Steps) (loss=0.35296): 100%|██████████| 7/7 [00:13<00:00,  1.89s/it]\n",
      "Training (10170 / 18000 Steps) (loss=0.47575): 100%|██████████| 7/7 [00:13<00:00,  1.90s/it]\n",
      "Training (10177 / 18000 Steps) (loss=0.56774): 100%|██████████| 7/7 [00:13<00:00,  1.89s/it]\n",
      "Training (10184 / 18000 Steps) (loss=0.39462): 100%|██████████| 7/7 [00:13<00:00,  1.89s/it]\n",
      "Training (10191 / 18000 Steps) (loss=0.63167): 100%|██████████| 7/7 [00:13<00:00,  1.87s/it]\n",
      "Training (10198 / 18000 Steps) (loss=0.43487): 100%|██████████| 7/7 [00:13<00:00,  1.90s/it]\n",
      "Validate (10199 / 10 Steps): 100%|██████████| 2/2 [00:08<00:00,  4.38s/it]<00:26,  4.37s/it]\n",
      "Training (10200 / 18000 Steps) (loss=0.33833):  29%|██▊       | 2/7 [00:14<00:39,  7.92s/it]"
     ]
    },
    {
     "name": "stdout",
     "output_type": "stream",
     "text": [
      "Model Was Not Saved ! Current Best Avg. Dice: 0.415383905172348 Current Avg. Dice: 0.34205299615859985 Current Avg. tumor Dice: 0.2957167327404022 Current Avg. lymph Dice: 0.38838931918144226\n"
     ]
    },
    {
     "name": "stderr",
     "output_type": "stream",
     "text": [
      "Training (10205 / 18000 Steps) (loss=0.34098): 100%|██████████| 7/7 [00:22<00:00,  3.17s/it]\n",
      "Training (10212 / 18000 Steps) (loss=0.47460): 100%|██████████| 7/7 [00:13<00:00,  1.92s/it]\n",
      "Training (10219 / 18000 Steps) (loss=0.39762): 100%|██████████| 7/7 [00:13<00:00,  1.94s/it]\n",
      "Training (10226 / 18000 Steps) (loss=0.50918): 100%|██████████| 7/7 [00:13<00:00,  1.89s/it]\n",
      "Training (10233 / 18000 Steps) (loss=0.53104): 100%|██████████| 7/7 [00:13<00:00,  1.88s/it]\n",
      "Training (10240 / 18000 Steps) (loss=0.46855): 100%|██████████| 7/7 [00:13<00:00,  1.88s/it]\n",
      "Training (10247 / 18000 Steps) (loss=0.34205): 100%|██████████| 7/7 [00:13<00:00,  1.94s/it]\n",
      "Training (10254 / 18000 Steps) (loss=0.40001): 100%|██████████| 7/7 [00:13<00:00,  1.91s/it]\n",
      "Training (10261 / 18000 Steps) (loss=0.47370): 100%|██████████| 7/7 [00:13<00:00,  1.92s/it]\n",
      "Training (10268 / 18000 Steps) (loss=0.30575): 100%|██████████| 7/7 [00:13<00:00,  1.91s/it]\n",
      "Training (10275 / 18000 Steps) (loss=0.43845): 100%|██████████| 7/7 [00:13<00:00,  1.88s/it]\n",
      "Training (10282 / 18000 Steps) (loss=0.28416): 100%|██████████| 7/7 [00:13<00:00,  1.88s/it]\n",
      "Training (10289 / 18000 Steps) (loss=0.48918): 100%|██████████| 7/7 [00:13<00:00,  1.89s/it]\n",
      "Training (10296 / 18000 Steps) (loss=0.53336): 100%|██████████| 7/7 [00:13<00:00,  1.93s/it]\n",
      "Validate (10297 / 10 Steps): 100%|██████████| 2/2 [00:08<00:00,  4.38s/it]<00:08,  2.19s/it]\n",
      "Training (10300 / 18000 Steps) (loss=0.20349):  57%|█████▋    | 4/7 [00:17<00:16,  5.43s/it]"
     ]
    },
    {
     "name": "stdout",
     "output_type": "stream",
     "text": [
      "Model Was Not Saved ! Current Best Avg. Dice: 0.415383905172348 Current Avg. Dice: 0.3512319326400757 Current Avg. tumor Dice: 0.332854300737381 Current Avg. lymph Dice: 0.3696095943450928\n"
     ]
    },
    {
     "name": "stderr",
     "output_type": "stream",
     "text": [
      "Training (10303 / 18000 Steps) (loss=0.50437): 100%|██████████| 7/7 [00:22<00:00,  3.19s/it]\n",
      "Training (10310 / 18000 Steps) (loss=0.37539): 100%|██████████| 7/7 [00:13<00:00,  1.89s/it]\n",
      "Training (10317 / 18000 Steps) (loss=0.32688): 100%|██████████| 7/7 [00:13<00:00,  1.90s/it]\n",
      "Training (10324 / 18000 Steps) (loss=0.24549): 100%|██████████| 7/7 [00:13<00:00,  1.92s/it]\n",
      "Training (10331 / 18000 Steps) (loss=0.62494): 100%|██████████| 7/7 [00:13<00:00,  1.90s/it]\n",
      "Training (10338 / 18000 Steps) (loss=0.57168): 100%|██████████| 7/7 [00:13<00:00,  1.94s/it]\n",
      "Training (10345 / 18000 Steps) (loss=0.59305): 100%|██████████| 7/7 [00:13<00:00,  1.91s/it]\n",
      "Training (10352 / 18000 Steps) (loss=0.32499): 100%|██████████| 7/7 [00:13<00:00,  2.00s/it]\n",
      "Training (10359 / 18000 Steps) (loss=0.33293): 100%|██████████| 7/7 [00:13<00:00,  1.90s/it]\n",
      "Training (10366 / 18000 Steps) (loss=0.52125): 100%|██████████| 7/7 [00:13<00:00,  1.92s/it]\n",
      "Training (10373 / 18000 Steps) (loss=0.27032): 100%|██████████| 7/7 [00:13<00:00,  1.90s/it]\n",
      "Training (10380 / 18000 Steps) (loss=0.33563): 100%|██████████| 7/7 [00:13<00:00,  1.86s/it]\n",
      "Training (10387 / 18000 Steps) (loss=0.49454): 100%|██████████| 7/7 [00:13<00:00,  1.91s/it]\n",
      "Training (10394 / 18000 Steps) (loss=0.54795): 100%|██████████| 7/7 [00:13<00:00,  1.93s/it]\n",
      "Validate (10395 / 10 Steps): 100%|██████████| 2/2 [00:08<00:00,  4.30s/it]<00:03,  1.88s/it]\n",
      "Training (10400 / 18000 Steps) (loss=0.38930):  86%|████████▌ | 6/7 [00:21<00:04,  4.72s/it]"
     ]
    },
    {
     "name": "stdout",
     "output_type": "stream",
     "text": [
      "Model Was Not Saved ! Current Best Avg. Dice: 0.415383905172348 Current Avg. Dice: 0.347562700510025 Current Avg. tumor Dice: 0.32599103450775146 Current Avg. lymph Dice: 0.3691343069076538\n"
     ]
    },
    {
     "name": "stderr",
     "output_type": "stream",
     "text": [
      "Training (10401 / 18000 Steps) (loss=0.28782): 100%|██████████| 7/7 [00:22<00:00,  3.21s/it]\n",
      "Training (10408 / 18000 Steps) (loss=0.37583): 100%|██████████| 7/7 [00:13<00:00,  1.93s/it]\n",
      "Training (10415 / 18000 Steps) (loss=0.32486): 100%|██████████| 7/7 [00:13<00:00,  1.90s/it]\n",
      "Training (10422 / 18000 Steps) (loss=0.44803): 100%|██████████| 7/7 [00:13<00:00,  1.89s/it]\n",
      "Training (10429 / 18000 Steps) (loss=0.58915): 100%|██████████| 7/7 [00:13<00:00,  1.93s/it]\n",
      "Training (10436 / 18000 Steps) (loss=0.51864): 100%|██████████| 7/7 [00:13<00:00,  1.92s/it]\n",
      "Training (10443 / 18000 Steps) (loss=0.48574): 100%|██████████| 7/7 [00:13<00:00,  1.96s/it]\n",
      "Training (10450 / 18000 Steps) (loss=0.44270): 100%|██████████| 7/7 [00:13<00:00,  1.92s/it]\n",
      "Training (10457 / 18000 Steps) (loss=0.47117): 100%|██████████| 7/7 [00:13<00:00,  1.86s/it]\n",
      "Training (10464 / 18000 Steps) (loss=0.50246): 100%|██████████| 7/7 [00:13<00:00,  1.88s/it]\n",
      "Training (10471 / 18000 Steps) (loss=0.55652): 100%|██████████| 7/7 [00:13<00:00,  1.89s/it]\n",
      "Training (10478 / 18000 Steps) (loss=0.51019): 100%|██████████| 7/7 [00:13<00:00,  1.93s/it]\n",
      "Training (10485 / 18000 Steps) (loss=0.35226): 100%|██████████| 7/7 [00:13<00:00,  1.92s/it]\n",
      "Training (10492 / 18000 Steps) (loss=0.44200): 100%|██████████| 7/7 [00:13<00:00,  1.91s/it]\n",
      "Training (10499 / 18000 Steps) (loss=0.28787): 100%|██████████| 7/7 [00:13<00:00,  1.93s/it]\n",
      "Validate (10500 / 10 Steps): 100%|██████████| 2/2 [00:08<00:00,  4.35s/it]<?, ?it/s]\n",
      "Training (10500 / 18000 Steps) (loss=0.32542):  14%|█▍        | 1/7 [00:13<01:18, 13.11s/it]"
     ]
    },
    {
     "name": "stdout",
     "output_type": "stream",
     "text": [
      "Model Was Not Saved ! Current Best Avg. Dice: 0.415383905172348 Current Avg. Dice: 0.37697046995162964 Current Avg. tumor Dice: 0.33032676577568054 Current Avg. lymph Dice: 0.4236142039299011\n"
     ]
    },
    {
     "name": "stderr",
     "output_type": "stream",
     "text": [
      "Training (10506 / 18000 Steps) (loss=0.18929): 100%|██████████| 7/7 [00:22<00:00,  3.16s/it]\n",
      "Training (10513 / 18000 Steps) (loss=0.41178): 100%|██████████| 7/7 [00:13<00:00,  1.90s/it]\n",
      "Training (10520 / 18000 Steps) (loss=0.44411): 100%|██████████| 7/7 [00:13<00:00,  1.94s/it]\n",
      "Training (10527 / 18000 Steps) (loss=0.37960): 100%|██████████| 7/7 [00:13<00:00,  1.89s/it]\n",
      "Training (10534 / 18000 Steps) (loss=0.45782): 100%|██████████| 7/7 [00:13<00:00,  1.91s/it]\n",
      "Training (10541 / 18000 Steps) (loss=0.38411): 100%|██████████| 7/7 [00:13<00:00,  1.89s/it]\n",
      "Training (10548 / 18000 Steps) (loss=0.48253): 100%|██████████| 7/7 [00:13<00:00,  1.96s/it]\n",
      "Training (10555 / 18000 Steps) (loss=0.31355): 100%|██████████| 7/7 [00:13<00:00,  1.94s/it]\n",
      "Training (10562 / 18000 Steps) (loss=0.39090): 100%|██████████| 7/7 [00:13<00:00,  1.88s/it]\n",
      "Training (10569 / 18000 Steps) (loss=0.48694): 100%|██████████| 7/7 [00:13<00:00,  1.94s/it]\n",
      "Training (10576 / 18000 Steps) (loss=0.21445): 100%|██████████| 7/7 [00:13<00:00,  1.93s/it]\n",
      "Training (10583 / 18000 Steps) (loss=0.39846): 100%|██████████| 7/7 [00:13<00:00,  1.94s/it]\n",
      "Training (10590 / 18000 Steps) (loss=0.19309): 100%|██████████| 7/7 [00:13<00:00,  1.89s/it]\n",
      "Training (10597 / 18000 Steps) (loss=0.48287): 100%|██████████| 7/7 [00:13<00:00,  1.93s/it]\n",
      "Validate (10598 / 10 Steps): 100%|██████████| 2/2 [00:08<00:00,  4.33s/it]<00:13,  2.68s/it]\n",
      "Training (10600 / 18000 Steps) (loss=0.26800):  43%|████▎     | 3/7 [00:16<00:24,  6.15s/it]"
     ]
    },
    {
     "name": "stdout",
     "output_type": "stream",
     "text": [
      "Model Was Not Saved ! Current Best Avg. Dice: 0.415383905172348 Current Avg. Dice: 0.38309112191200256 Current Avg. tumor Dice: 0.3526233434677124 Current Avg. lymph Dice: 0.4135589599609375\n"
     ]
    },
    {
     "name": "stderr",
     "output_type": "stream",
     "text": [
      "Training (10604 / 18000 Steps) (loss=0.34255): 100%|██████████| 7/7 [00:21<00:00,  3.14s/it]\n",
      "Training (10611 / 18000 Steps) (loss=0.32121): 100%|██████████| 7/7 [00:13<00:00,  1.91s/it]\n",
      "Training (10618 / 18000 Steps) (loss=0.54675): 100%|██████████| 7/7 [00:13<00:00,  1.92s/it]\n",
      "Training (10625 / 18000 Steps) (loss=0.57251): 100%|██████████| 7/7 [00:13<00:00,  1.94s/it]\n",
      "Training (10632 / 18000 Steps) (loss=0.60723): 100%|██████████| 7/7 [00:13<00:00,  1.89s/it]\n",
      "Training (10639 / 18000 Steps) (loss=0.38906): 100%|██████████| 7/7 [00:13<00:00,  1.90s/it]\n",
      "Training (10646 / 18000 Steps) (loss=0.14952): 100%|██████████| 7/7 [00:13<00:00,  1.90s/it]\n",
      "Training (10653 / 18000 Steps) (loss=0.45847): 100%|██████████| 7/7 [00:13<00:00,  1.91s/it]\n",
      "Training (10660 / 18000 Steps) (loss=0.43683): 100%|██████████| 7/7 [00:13<00:00,  1.93s/it]\n",
      "Training (10667 / 18000 Steps) (loss=0.42616): 100%|██████████| 7/7 [00:13<00:00,  1.90s/it]\n",
      "Training (10674 / 18000 Steps) (loss=0.34445): 100%|██████████| 7/7 [00:13<00:00,  1.91s/it]\n",
      "Training (10681 / 18000 Steps) (loss=0.55972): 100%|██████████| 7/7 [00:13<00:00,  1.89s/it]\n",
      "Training (10688 / 18000 Steps) (loss=0.39469): 100%|██████████| 7/7 [00:13<00:00,  1.87s/it]\n",
      "Training (10695 / 18000 Steps) (loss=0.33417): 100%|██████████| 7/7 [00:13<00:00,  1.89s/it]\n",
      "Validate (10696 / 10 Steps): 100%|██████████| 2/2 [00:08<00:00,  4.34s/it]<00:06,  2.00s/it]\n",
      "Training (10700 / 18000 Steps) (loss=0.41072):  71%|███████▏  | 5/7 [00:19<00:10,  5.00s/it]"
     ]
    },
    {
     "name": "stdout",
     "output_type": "stream",
     "text": [
      "Model Was Not Saved ! Current Best Avg. Dice: 0.415383905172348 Current Avg. Dice: 0.38932326436042786 Current Avg. tumor Dice: 0.34509530663490295 Current Avg. lymph Dice: 0.43355119228363037\n"
     ]
    },
    {
     "name": "stderr",
     "output_type": "stream",
     "text": [
      "Training (10702 / 18000 Steps) (loss=0.64919): 100%|██████████| 7/7 [00:22<00:00,  3.21s/it]\n",
      "Training (10709 / 18000 Steps) (loss=0.41811): 100%|██████████| 7/7 [00:13<00:00,  1.93s/it]\n",
      "Training (10716 / 18000 Steps) (loss=0.43629): 100%|██████████| 7/7 [00:13<00:00,  1.92s/it]\n",
      "Training (10723 / 18000 Steps) (loss=0.38782): 100%|██████████| 7/7 [00:13<00:00,  1.88s/it]\n",
      "Training (10730 / 18000 Steps) (loss=0.49639): 100%|██████████| 7/7 [00:13<00:00,  1.89s/it]\n",
      "Training (10737 / 18000 Steps) (loss=0.32562): 100%|██████████| 7/7 [00:13<00:00,  1.92s/it]\n",
      "Training (10744 / 18000 Steps) (loss=0.53867): 100%|██████████| 7/7 [00:13<00:00,  1.94s/it]\n",
      "Training (10751 / 18000 Steps) (loss=0.40078): 100%|██████████| 7/7 [00:13<00:00,  1.91s/it]\n",
      "Training (10758 / 18000 Steps) (loss=0.42917): 100%|██████████| 7/7 [00:13<00:00,  1.92s/it]\n",
      "Training (10765 / 18000 Steps) (loss=0.38477): 100%|██████████| 7/7 [00:13<00:00,  1.89s/it]\n",
      "Training (10772 / 18000 Steps) (loss=0.46155): 100%|██████████| 7/7 [00:13<00:00,  1.90s/it]\n",
      "Training (10779 / 18000 Steps) (loss=0.17962): 100%|██████████| 7/7 [00:13<00:00,  1.90s/it]\n",
      "Training (10786 / 18000 Steps) (loss=0.41289): 100%|██████████| 7/7 [00:13<00:00,  1.92s/it]\n",
      "Training (10793 / 18000 Steps) (loss=0.47960): 100%|██████████| 7/7 [00:13<00:00,  1.94s/it]\n",
      "Validate (10794 / 10 Steps): 100%|██████████| 2/2 [00:08<00:00,  4.37s/it]<00:01,  1.73s/it]\n",
      "Training (10800 / 18000 Steps) (loss=0.30582): 100%|██████████| 7/7 [00:21<00:00,  3.14s/it]\n"
     ]
    },
    {
     "name": "stdout",
     "output_type": "stream",
     "text": [
      "Model Was Not Saved ! Current Best Avg. Dice: 0.415383905172348 Current Avg. Dice: 0.3505181670188904 Current Avg. tumor Dice: 0.32591477036476135 Current Avg. lymph Dice: 0.3751215636730194\n"
     ]
    },
    {
     "name": "stderr",
     "output_type": "stream",
     "text": [
      "Training (10807 / 18000 Steps) (loss=0.42254): 100%|██████████| 7/7 [00:13<00:00,  1.91s/it]\n",
      "Training (10814 / 18000 Steps) (loss=0.56277): 100%|██████████| 7/7 [00:13<00:00,  1.89s/it]\n",
      "Training (10821 / 18000 Steps) (loss=0.31923): 100%|██████████| 7/7 [00:13<00:00,  1.91s/it]\n",
      "Training (10828 / 18000 Steps) (loss=0.48079): 100%|██████████| 7/7 [00:13<00:00,  1.87s/it]\n",
      "Training (10835 / 18000 Steps) (loss=0.33791): 100%|██████████| 7/7 [00:13<00:00,  1.92s/it]\n",
      "Training (10842 / 18000 Steps) (loss=0.23873): 100%|██████████| 7/7 [00:13<00:00,  1.93s/it]\n",
      "Training (10849 / 18000 Steps) (loss=0.35952): 100%|██████████| 7/7 [00:13<00:00,  1.96s/it]\n",
      "Training (10856 / 18000 Steps) (loss=0.53550): 100%|██████████| 7/7 [00:13<00:00,  1.89s/it]\n",
      "Training (10863 / 18000 Steps) (loss=0.29454): 100%|██████████| 7/7 [00:13<00:00,  1.89s/it]\n",
      "Training (10870 / 18000 Steps) (loss=0.19856): 100%|██████████| 7/7 [00:13<00:00,  1.87s/it]\n",
      "Training (10877 / 18000 Steps) (loss=0.35600): 100%|██████████| 7/7 [00:13<00:00,  1.93s/it]\n",
      "Training (10884 / 18000 Steps) (loss=0.42722): 100%|██████████| 7/7 [00:13<00:00,  1.91s/it]\n",
      "Training (10891 / 18000 Steps) (loss=0.43699): 100%|██████████| 7/7 [00:13<00:00,  1.91s/it]\n",
      "Training (10898 / 18000 Steps) (loss=0.19226): 100%|██████████| 7/7 [00:13<00:00,  1.98s/it]\n",
      "Validate (10899 / 10 Steps): 100%|██████████| 2/2 [00:08<00:00,  4.30s/it]<00:24,  4.04s/it]\n",
      "Training (10900 / 18000 Steps) (loss=0.31815):  29%|██▊       | 2/7 [00:14<00:38,  7.68s/it]"
     ]
    },
    {
     "name": "stdout",
     "output_type": "stream",
     "text": [
      "Model Was Not Saved ! Current Best Avg. Dice: 0.415383905172348 Current Avg. Dice: 0.3470316529273987 Current Avg. tumor Dice: 0.30263832211494446 Current Avg. lymph Dice: 0.3914250135421753\n"
     ]
    },
    {
     "name": "stderr",
     "output_type": "stream",
     "text": [
      "Training (10905 / 18000 Steps) (loss=0.37544): 100%|██████████| 7/7 [00:21<00:00,  3.10s/it]\n",
      "Training (10912 / 18000 Steps) (loss=0.64258): 100%|██████████| 7/7 [00:13<00:00,  1.88s/it]\n",
      "Training (10919 / 18000 Steps) (loss=0.43402): 100%|██████████| 7/7 [00:13<00:00,  1.87s/it]\n",
      "Training (10926 / 18000 Steps) (loss=0.45529): 100%|██████████| 7/7 [00:13<00:00,  1.89s/it]\n",
      "Training (10933 / 18000 Steps) (loss=0.48938): 100%|██████████| 7/7 [00:13<00:00,  1.89s/it]\n",
      "Training (10940 / 18000 Steps) (loss=0.46237): 100%|██████████| 7/7 [00:13<00:00,  1.95s/it]\n",
      "Training (10947 / 18000 Steps) (loss=0.47724): 100%|██████████| 7/7 [00:13<00:00,  1.91s/it]\n",
      "Training (10954 / 18000 Steps) (loss=0.47813): 100%|██████████| 7/7 [00:13<00:00,  1.88s/it]\n",
      "Training (10961 / 18000 Steps) (loss=0.33778): 100%|██████████| 7/7 [00:13<00:00,  1.88s/it]\n",
      "Training (10968 / 18000 Steps) (loss=0.38989): 100%|██████████| 7/7 [00:13<00:00,  1.90s/it]\n",
      "Training (10975 / 18000 Steps) (loss=0.52221): 100%|██████████| 7/7 [00:13<00:00,  1.91s/it]\n",
      "Training (10982 / 18000 Steps) (loss=0.39006): 100%|██████████| 7/7 [00:13<00:00,  1.91s/it]\n",
      "Training (10989 / 18000 Steps) (loss=0.49562): 100%|██████████| 7/7 [00:13<00:00,  1.92s/it]\n",
      "Training (10996 / 18000 Steps) (loss=0.50429): 100%|██████████| 7/7 [00:13<00:00,  1.91s/it]\n",
      "Validate (10997 / 10 Steps): 100%|██████████| 2/2 [00:08<00:00,  4.39s/it]<00:08,  2.19s/it]\n",
      "Training (11000 / 18000 Steps) (loss=0.41333):  57%|█████▋    | 4/7 [00:17<00:16,  5.44s/it]"
     ]
    },
    {
     "name": "stdout",
     "output_type": "stream",
     "text": [
      "Model Was Not Saved ! Current Best Avg. Dice: 0.415383905172348 Current Avg. Dice: 0.3830535113811493 Current Avg. tumor Dice: 0.3376287817955017 Current Avg. lymph Dice: 0.42847827076911926\n"
     ]
    },
    {
     "name": "stderr",
     "output_type": "stream",
     "text": [
      "Training (11003 / 18000 Steps) (loss=0.55145): 100%|██████████| 7/7 [00:22<00:00,  3.16s/it]\n",
      "Training (11010 / 18000 Steps) (loss=0.18727): 100%|██████████| 7/7 [00:13<00:00,  1.88s/it]\n",
      "Training (11017 / 18000 Steps) (loss=0.51738): 100%|██████████| 7/7 [00:13<00:00,  1.90s/it]\n",
      "Training (11024 / 18000 Steps) (loss=0.53726): 100%|██████████| 7/7 [00:13<00:00,  1.93s/it]\n",
      "Training (11031 / 18000 Steps) (loss=0.44284): 100%|██████████| 7/7 [00:13<00:00,  1.92s/it]\n",
      "Training (11038 / 18000 Steps) (loss=0.61856): 100%|██████████| 7/7 [00:13<00:00,  1.91s/it]\n",
      "Training (11045 / 18000 Steps) (loss=0.30136): 100%|██████████| 7/7 [00:13<00:00,  1.91s/it]\n",
      "Training (11052 / 18000 Steps) (loss=0.50067): 100%|██████████| 7/7 [00:13<00:00,  1.90s/it]\n",
      "Training (11059 / 18000 Steps) (loss=0.48795): 100%|██████████| 7/7 [00:13<00:00,  1.91s/it]\n",
      "Training (11066 / 18000 Steps) (loss=0.38603): 100%|██████████| 7/7 [00:13<00:00,  1.89s/it]\n",
      "Training (11073 / 18000 Steps) (loss=0.55035): 100%|██████████| 7/7 [00:13<00:00,  1.89s/it]\n",
      "Training (11080 / 18000 Steps) (loss=0.35122): 100%|██████████| 7/7 [00:13<00:00,  1.90s/it]\n",
      "Training (11087 / 18000 Steps) (loss=0.32331): 100%|██████████| 7/7 [00:13<00:00,  1.89s/it]\n",
      "Training (11094 / 18000 Steps) (loss=0.38428): 100%|██████████| 7/7 [00:13<00:00,  1.90s/it]\n",
      "Validate (11095 / 10 Steps): 100%|██████████| 2/2 [00:08<00:00,  4.33s/it]<00:03,  1.84s/it]\n",
      "Training (11100 / 18000 Steps) (loss=0.30160):  86%|████████▌ | 6/7 [00:20<00:04,  4.71s/it]"
     ]
    },
    {
     "name": "stdout",
     "output_type": "stream",
     "text": [
      "Model Was Not Saved ! Current Best Avg. Dice: 0.415383905172348 Current Avg. Dice: 0.31660646200180054 Current Avg. tumor Dice: 0.2789537012577057 Current Avg. lymph Dice: 0.35425928235054016\n"
     ]
    },
    {
     "name": "stderr",
     "output_type": "stream",
     "text": [
      "Training (11101 / 18000 Steps) (loss=0.37173): 100%|██████████| 7/7 [00:22<00:00,  3.14s/it]\n",
      "Training (11108 / 18000 Steps) (loss=0.52914): 100%|██████████| 7/7 [00:13<00:00,  1.95s/it]\n",
      "Training (11115 / 18000 Steps) (loss=0.56092): 100%|██████████| 7/7 [00:13<00:00,  1.89s/it]\n",
      "Training (11122 / 18000 Steps) (loss=0.41832): 100%|██████████| 7/7 [00:13<00:00,  1.91s/it]\n",
      "Training (11129 / 18000 Steps) (loss=0.34720): 100%|██████████| 7/7 [00:13<00:00,  1.90s/it]\n",
      "Training (11136 / 18000 Steps) (loss=0.34781): 100%|██████████| 7/7 [00:13<00:00,  1.89s/it]\n",
      "Training (11143 / 18000 Steps) (loss=0.45094): 100%|██████████| 7/7 [00:13<00:00,  1.88s/it]\n",
      "Training (11150 / 18000 Steps) (loss=0.46473): 100%|██████████| 7/7 [00:13<00:00,  1.91s/it]\n",
      "Training (11157 / 18000 Steps) (loss=0.34553): 100%|██████████| 7/7 [00:13<00:00,  1.90s/it]\n",
      "Training (11164 / 18000 Steps) (loss=0.36147): 100%|██████████| 7/7 [00:13<00:00,  1.91s/it]\n",
      "Training (11171 / 18000 Steps) (loss=0.67184): 100%|██████████| 7/7 [00:13<00:00,  1.92s/it]\n",
      "Training (11178 / 18000 Steps) (loss=0.42291): 100%|██████████| 7/7 [00:13<00:00,  1.89s/it]\n",
      "Training (11185 / 18000 Steps) (loss=0.62172): 100%|██████████| 7/7 [00:13<00:00,  1.91s/it]\n",
      "Training (11192 / 18000 Steps) (loss=0.55838): 100%|██████████| 7/7 [00:13<00:00,  1.86s/it]\n",
      "Training (11199 / 18000 Steps) (loss=0.63535): 100%|██████████| 7/7 [00:13<00:00,  1.91s/it]\n",
      "Validate (11200 / 10 Steps): 100%|██████████| 2/2 [00:08<00:00,  4.39s/it]<?, ?it/s]\n",
      "Training (11200 / 18000 Steps) (loss=0.44541):  14%|█▍        | 1/7 [00:13<01:19, 13.18s/it]"
     ]
    },
    {
     "name": "stdout",
     "output_type": "stream",
     "text": [
      "Model Was Not Saved ! Current Best Avg. Dice: 0.415383905172348 Current Avg. Dice: 0.3549986779689789 Current Avg. tumor Dice: 0.3170153796672821 Current Avg. lymph Dice: 0.39298194646835327\n"
     ]
    },
    {
     "name": "stderr",
     "output_type": "stream",
     "text": [
      "Training (11206 / 18000 Steps) (loss=0.54205): 100%|██████████| 7/7 [00:22<00:00,  3.19s/it]\n",
      "Training (11213 / 18000 Steps) (loss=0.51488): 100%|██████████| 7/7 [00:13<00:00,  1.92s/it]\n",
      "Training (11220 / 18000 Steps) (loss=0.55392): 100%|██████████| 7/7 [00:13<00:00,  1.87s/it]\n",
      "Training (11227 / 18000 Steps) (loss=0.42184): 100%|██████████| 7/7 [00:13<00:00,  1.90s/it]\n",
      "Training (11234 / 18000 Steps) (loss=0.42387): 100%|██████████| 7/7 [00:13<00:00,  1.89s/it]\n",
      "Training (11241 / 18000 Steps) (loss=0.49908): 100%|██████████| 7/7 [00:13<00:00,  1.94s/it]\n",
      "Training (11248 / 18000 Steps) (loss=0.42401): 100%|██████████| 7/7 [00:13<00:00,  1.96s/it]\n",
      "Training (11255 / 18000 Steps) (loss=0.55673): 100%|██████████| 7/7 [00:13<00:00,  1.99s/it]\n",
      "Training (11262 / 18000 Steps) (loss=0.29236): 100%|██████████| 7/7 [00:14<00:00,  2.02s/it]\n",
      "Training (11269 / 18000 Steps) (loss=0.29397): 100%|██████████| 7/7 [00:13<00:00,  1.97s/it]\n",
      "Training (11276 / 18000 Steps) (loss=0.58451): 100%|██████████| 7/7 [00:13<00:00,  1.93s/it]\n",
      "Training (11283 / 18000 Steps) (loss=0.67759): 100%|██████████| 7/7 [00:13<00:00,  1.89s/it]\n",
      "Training (11290 / 18000 Steps) (loss=0.51082): 100%|██████████| 7/7 [00:13<00:00,  1.91s/it]\n",
      "Training (11297 / 18000 Steps) (loss=0.57720): 100%|██████████| 7/7 [00:13<00:00,  1.90s/it]\n",
      "Validate (11298 / 10 Steps): 100%|██████████| 2/2 [00:08<00:00,  4.42s/it]<00:13,  2.80s/it]\n",
      "Training (11300 / 18000 Steps) (loss=0.39516):  43%|████▎     | 3/7 [00:16<00:25,  6.31s/it]"
     ]
    },
    {
     "name": "stdout",
     "output_type": "stream",
     "text": [
      "Model Was Not Saved ! Current Best Avg. Dice: 0.415383905172348 Current Avg. Dice: 0.37486791610717773 Current Avg. tumor Dice: 0.33295026421546936 Current Avg. lymph Dice: 0.4167855381965637\n"
     ]
    },
    {
     "name": "stderr",
     "output_type": "stream",
     "text": [
      "Training (11304 / 18000 Steps) (loss=0.41533): 100%|██████████| 7/7 [00:22<00:00,  3.21s/it]\n",
      "Training (11311 / 18000 Steps) (loss=0.33961): 100%|██████████| 7/7 [00:13<00:00,  1.94s/it]\n",
      "Training (11318 / 18000 Steps) (loss=0.51328): 100%|██████████| 7/7 [00:13<00:00,  1.93s/it]\n",
      "Training (11325 / 18000 Steps) (loss=0.40757): 100%|██████████| 7/7 [00:13<00:00,  1.92s/it]\n",
      "Training (11332 / 18000 Steps) (loss=0.26368): 100%|██████████| 7/7 [00:13<00:00,  1.91s/it]\n",
      "Training (11339 / 18000 Steps) (loss=0.29463): 100%|██████████| 7/7 [00:13<00:00,  1.91s/it]\n",
      "Training (11346 / 18000 Steps) (loss=0.24802): 100%|██████████| 7/7 [00:13<00:00,  1.95s/it]\n",
      "Training (11353 / 18000 Steps) (loss=0.24874): 100%|██████████| 7/7 [00:13<00:00,  1.91s/it]\n",
      "Training (11360 / 18000 Steps) (loss=0.67359): 100%|██████████| 7/7 [00:13<00:00,  1.95s/it]\n",
      "Training (11367 / 18000 Steps) (loss=0.42284): 100%|██████████| 7/7 [00:13<00:00,  1.90s/it]\n",
      "Training (11374 / 18000 Steps) (loss=0.23095): 100%|██████████| 7/7 [00:13<00:00,  1.88s/it]\n",
      "Training (11381 / 18000 Steps) (loss=0.42229): 100%|██████████| 7/7 [00:13<00:00,  1.94s/it]\n",
      "Training (11388 / 18000 Steps) (loss=0.29844): 100%|██████████| 7/7 [00:13<00:00,  1.93s/it]\n",
      "Training (11395 / 18000 Steps) (loss=0.41128): 100%|██████████| 7/7 [00:13<00:00,  1.92s/it]\n",
      "Validate (11396 / 10 Steps): 100%|██████████| 2/2 [00:08<00:00,  4.35s/it]<00:05,  1.94s/it]\n",
      "Training (11400 / 18000 Steps) (loss=0.53196):  71%|███████▏  | 5/7 [00:19<00:09,  4.96s/it]"
     ]
    },
    {
     "name": "stdout",
     "output_type": "stream",
     "text": [
      "Model Was Not Saved ! Current Best Avg. Dice: 0.415383905172348 Current Avg. Dice: 0.37595030665397644 Current Avg. tumor Dice: 0.34068119525909424 Current Avg. lymph Dice: 0.41121941804885864\n"
     ]
    },
    {
     "name": "stderr",
     "output_type": "stream",
     "text": [
      "Training (11402 / 18000 Steps) (loss=0.38800): 100%|██████████| 7/7 [00:21<00:00,  3.14s/it]\n",
      "Training (11409 / 18000 Steps) (loss=0.57295): 100%|██████████| 7/7 [00:13<00:00,  1.93s/it]\n",
      "Training (11416 / 18000 Steps) (loss=0.43172): 100%|██████████| 7/7 [00:13<00:00,  1.92s/it]\n",
      "Training (11423 / 18000 Steps) (loss=0.19561): 100%|██████████| 7/7 [00:13<00:00,  1.92s/it]\n",
      "Training (11430 / 18000 Steps) (loss=0.40056): 100%|██████████| 7/7 [00:13<00:00,  1.95s/it]\n",
      "Training (11437 / 18000 Steps) (loss=0.45128): 100%|██████████| 7/7 [00:13<00:00,  1.91s/it]\n",
      "Training (11444 / 18000 Steps) (loss=0.23722): 100%|██████████| 7/7 [00:13<00:00,  1.91s/it]\n",
      "Training (11451 / 18000 Steps) (loss=0.49142): 100%|██████████| 7/7 [00:13<00:00,  1.87s/it]\n",
      "Training (11458 / 18000 Steps) (loss=0.48511): 100%|██████████| 7/7 [00:13<00:00,  1.90s/it]\n",
      "Training (11465 / 18000 Steps) (loss=0.46253): 100%|██████████| 7/7 [00:13<00:00,  1.87s/it]\n",
      "Training (11472 / 18000 Steps) (loss=0.43743): 100%|██████████| 7/7 [00:13<00:00,  1.90s/it]\n",
      "Training (11479 / 18000 Steps) (loss=0.55246): 100%|██████████| 7/7 [00:13<00:00,  1.89s/it]\n",
      "Training (11486 / 18000 Steps) (loss=0.32761): 100%|██████████| 7/7 [00:13<00:00,  1.89s/it]\n",
      "Training (11493 / 18000 Steps) (loss=0.15214): 100%|██████████| 7/7 [00:13<00:00,  1.88s/it]\n",
      "Validate (11494 / 10 Steps): 100%|██████████| 2/2 [00:08<00:00,  4.37s/it]<00:01,  1.71s/it]\n",
      "Training (11500 / 18000 Steps) (loss=0.42544): 100%|██████████| 7/7 [00:21<00:00,  3.11s/it]\n"
     ]
    },
    {
     "name": "stdout",
     "output_type": "stream",
     "text": [
      "Model Was Not Saved ! Current Best Avg. Dice: 0.415383905172348 Current Avg. Dice: 0.3531706929206848 Current Avg. tumor Dice: 0.3398025929927826 Current Avg. lymph Dice: 0.36653879284858704\n"
     ]
    },
    {
     "name": "stderr",
     "output_type": "stream",
     "text": [
      "Training (11507 / 18000 Steps) (loss=0.24038): 100%|██████████| 7/7 [00:13<00:00,  1.89s/it]\n",
      "Training (11514 / 18000 Steps) (loss=0.64602): 100%|██████████| 7/7 [00:13<00:00,  1.90s/it]\n",
      "Training (11521 / 18000 Steps) (loss=0.30936): 100%|██████████| 7/7 [00:13<00:00,  1.88s/it]\n",
      "Training (11528 / 18000 Steps) (loss=0.33072): 100%|██████████| 7/7 [00:13<00:00,  1.87s/it]\n",
      "Training (11535 / 18000 Steps) (loss=0.29225): 100%|██████████| 7/7 [00:13<00:00,  1.86s/it]\n",
      "Training (11542 / 18000 Steps) (loss=0.43804): 100%|██████████| 7/7 [00:13<00:00,  1.87s/it]\n",
      "Training (11549 / 18000 Steps) (loss=0.58058): 100%|██████████| 7/7 [00:12<00:00,  1.85s/it]\n",
      "Training (11556 / 18000 Steps) (loss=0.39231): 100%|██████████| 7/7 [00:13<00:00,  1.87s/it]\n",
      "Training (11563 / 18000 Steps) (loss=0.42531): 100%|██████████| 7/7 [00:13<00:00,  1.88s/it]\n",
      "Training (11570 / 18000 Steps) (loss=0.47052): 100%|██████████| 7/7 [00:12<00:00,  1.85s/it]\n",
      "Training (11577 / 18000 Steps) (loss=0.43256): 100%|██████████| 7/7 [00:13<00:00,  1.86s/it]\n",
      "Training (11584 / 18000 Steps) (loss=0.55480): 100%|██████████| 7/7 [00:13<00:00,  1.87s/it]\n",
      "Training (11591 / 18000 Steps) (loss=0.57915): 100%|██████████| 7/7 [00:13<00:00,  1.89s/it]\n",
      "Training (11598 / 18000 Steps) (loss=0.41605): 100%|██████████| 7/7 [00:13<00:00,  1.88s/it]\n",
      "Validate (11599 / 10 Steps): 100%|██████████| 2/2 [00:08<00:00,  4.30s/it]<00:25,  4.18s/it]\n",
      "Training (11600 / 18000 Steps) (loss=0.39274):  29%|██▊       | 2/7 [00:14<00:38,  7.73s/it]"
     ]
    },
    {
     "name": "stdout",
     "output_type": "stream",
     "text": [
      "Model Was Not Saved ! Current Best Avg. Dice: 0.415383905172348 Current Avg. Dice: 0.365961492061615 Current Avg. tumor Dice: 0.3438531756401062 Current Avg. lymph Dice: 0.3880698084831238\n"
     ]
    },
    {
     "name": "stderr",
     "output_type": "stream",
     "text": [
      "Training (11605 / 18000 Steps) (loss=0.35018): 100%|██████████| 7/7 [00:21<00:00,  3.10s/it]\n",
      "Training (11612 / 18000 Steps) (loss=0.60725): 100%|██████████| 7/7 [00:13<00:00,  1.90s/it]\n",
      "Training (11619 / 18000 Steps) (loss=0.52577): 100%|██████████| 7/7 [00:12<00:00,  1.85s/it]\n",
      "Training (11626 / 18000 Steps) (loss=0.41543): 100%|██████████| 7/7 [00:13<00:00,  1.86s/it]\n",
      "Training (11633 / 18000 Steps) (loss=0.44894): 100%|██████████| 7/7 [00:13<00:00,  1.87s/it]\n",
      "Training (11640 / 18000 Steps) (loss=0.32704): 100%|██████████| 7/7 [00:13<00:00,  1.86s/it]\n",
      "Training (11647 / 18000 Steps) (loss=0.30654): 100%|██████████| 7/7 [00:13<00:00,  1.90s/it]\n",
      "Training (11654 / 18000 Steps) (loss=0.41532): 100%|██████████| 7/7 [00:12<00:00,  1.85s/it]\n",
      "Training (11661 / 18000 Steps) (loss=0.34264): 100%|██████████| 7/7 [00:13<00:00,  1.93s/it]\n",
      "Training (11668 / 18000 Steps) (loss=0.47410): 100%|██████████| 7/7 [00:13<00:00,  1.95s/it]\n",
      "Training (11675 / 18000 Steps) (loss=0.42528): 100%|██████████| 7/7 [00:13<00:00,  1.90s/it]\n",
      "Training (11682 / 18000 Steps) (loss=0.45841): 100%|██████████| 7/7 [00:13<00:00,  1.90s/it]\n",
      "Training (11689 / 18000 Steps) (loss=0.36420): 100%|██████████| 7/7 [00:12<00:00,  1.85s/it]\n",
      "Training (11696 / 18000 Steps) (loss=0.29150): 100%|██████████| 7/7 [00:13<00:00,  1.86s/it]\n",
      "Validate (11697 / 10 Steps): 100%|██████████| 2/2 [00:08<00:00,  4.32s/it]<00:08,  2.17s/it]\n",
      "Training (11700 / 18000 Steps) (loss=0.44706):  57%|█████▋    | 4/7 [00:17<00:16,  5.39s/it]"
     ]
    },
    {
     "name": "stdout",
     "output_type": "stream",
     "text": [
      "Model Was Not Saved ! Current Best Avg. Dice: 0.415383905172348 Current Avg. Dice: 0.34422215819358826 Current Avg. tumor Dice: 0.3160098195075989 Current Avg. lymph Dice: 0.3724345564842224\n"
     ]
    },
    {
     "name": "stderr",
     "output_type": "stream",
     "text": [
      "Training (11703 / 18000 Steps) (loss=0.44459): 100%|██████████| 7/7 [00:21<00:00,  3.13s/it]\n",
      "Training (11710 / 18000 Steps) (loss=0.33644): 100%|██████████| 7/7 [00:13<00:00,  1.91s/it]\n",
      "Training (11717 / 18000 Steps) (loss=0.56053): 100%|██████████| 7/7 [00:13<00:00,  1.87s/it]\n",
      "Training (11724 / 18000 Steps) (loss=0.30897): 100%|██████████| 7/7 [00:13<00:00,  1.86s/it]\n",
      "Training (11731 / 18000 Steps) (loss=0.50732): 100%|██████████| 7/7 [00:13<00:00,  1.87s/it]\n",
      "Training (11738 / 18000 Steps) (loss=0.30828): 100%|██████████| 7/7 [00:13<00:00,  1.86s/it]\n",
      "Training (11745 / 18000 Steps) (loss=0.51531): 100%|██████████| 7/7 [00:12<00:00,  1.83s/it]\n",
      "Training (11752 / 18000 Steps) (loss=0.37081): 100%|██████████| 7/7 [00:13<00:00,  1.87s/it]\n",
      "Training (11759 / 18000 Steps) (loss=0.20649): 100%|██████████| 7/7 [00:13<00:00,  1.91s/it]\n",
      "Training (11766 / 18000 Steps) (loss=0.49092): 100%|██████████| 7/7 [00:13<00:00,  1.87s/it]\n",
      "Training (11773 / 18000 Steps) (loss=0.52478): 100%|██████████| 7/7 [00:13<00:00,  1.89s/it]\n",
      "Training (11780 / 18000 Steps) (loss=0.37170): 100%|██████████| 7/7 [00:12<00:00,  1.86s/it]\n",
      "Training (11787 / 18000 Steps) (loss=0.45419): 100%|██████████| 7/7 [00:13<00:00,  1.87s/it]\n",
      "Training (11794 / 18000 Steps) (loss=0.39213): 100%|██████████| 7/7 [00:13<00:00,  1.88s/it]\n",
      "Validate (11795 / 10 Steps): 100%|██████████| 2/2 [00:08<00:00,  4.31s/it]<00:03,  1.80s/it]\n",
      "Training (11800 / 18000 Steps) (loss=0.37555):  86%|████████▌ | 6/7 [00:20<00:04,  4.66s/it]"
     ]
    },
    {
     "name": "stdout",
     "output_type": "stream",
     "text": [
      "Model Was Not Saved ! Current Best Avg. Dice: 0.415383905172348 Current Avg. Dice: 0.3779594898223877 Current Avg. tumor Dice: 0.3640808165073395 Current Avg. lymph Dice: 0.3918381333351135\n"
     ]
    },
    {
     "name": "stderr",
     "output_type": "stream",
     "text": [
      "Training (11801 / 18000 Steps) (loss=0.54605): 100%|██████████| 7/7 [00:21<00:00,  3.12s/it]\n",
      "Training (11808 / 18000 Steps) (loss=0.30769): 100%|██████████| 7/7 [00:13<00:00,  1.90s/it]\n",
      "Training (11815 / 18000 Steps) (loss=0.38425): 100%|██████████| 7/7 [00:13<00:00,  1.90s/it]\n",
      "Training (11822 / 18000 Steps) (loss=0.54559): 100%|██████████| 7/7 [00:13<00:00,  1.88s/it]\n",
      "Training (11829 / 18000 Steps) (loss=0.44443): 100%|██████████| 7/7 [00:13<00:00,  1.87s/it]\n",
      "Training (11836 / 18000 Steps) (loss=0.36369): 100%|██████████| 7/7 [00:13<00:00,  1.86s/it]\n",
      "Training (11843 / 18000 Steps) (loss=0.25825): 100%|██████████| 7/7 [00:13<00:00,  1.88s/it]\n",
      "Training (11850 / 18000 Steps) (loss=0.55471): 100%|██████████| 7/7 [00:13<00:00,  1.86s/it]\n",
      "Training (11857 / 18000 Steps) (loss=0.31492): 100%|██████████| 7/7 [00:13<00:00,  1.86s/it]\n",
      "Training (11864 / 18000 Steps) (loss=0.31186): 100%|██████████| 7/7 [00:13<00:00,  1.91s/it]\n",
      "Training (11871 / 18000 Steps) (loss=0.55476): 100%|██████████| 7/7 [00:12<00:00,  1.85s/it]\n",
      "Training (11878 / 18000 Steps) (loss=0.21289): 100%|██████████| 7/7 [00:13<00:00,  1.88s/it]\n",
      "Training (11885 / 18000 Steps) (loss=0.28440): 100%|██████████| 7/7 [00:13<00:00,  1.88s/it]\n",
      "Training (11892 / 18000 Steps) (loss=0.47855): 100%|██████████| 7/7 [00:13<00:00,  1.88s/it]\n",
      "Training (11899 / 18000 Steps) (loss=0.20671): 100%|██████████| 7/7 [00:13<00:00,  1.87s/it]\n",
      "Validate (11900 / 10 Steps): 100%|██████████| 2/2 [00:08<00:00,  4.33s/it]<?, ?it/s]\n",
      "Training (11900 / 18000 Steps) (loss=0.27104):  14%|█▍        | 1/7 [00:12<01:17, 12.84s/it]"
     ]
    },
    {
     "name": "stdout",
     "output_type": "stream",
     "text": [
      "Model Was Not Saved ! Current Best Avg. Dice: 0.415383905172348 Current Avg. Dice: 0.3642563819885254 Current Avg. tumor Dice: 0.33712878823280334 Current Avg. lymph Dice: 0.39138394594192505\n"
     ]
    },
    {
     "name": "stderr",
     "output_type": "stream",
     "text": [
      "Training (11906 / 18000 Steps) (loss=0.42062): 100%|██████████| 7/7 [00:21<00:00,  3.10s/it]\n",
      "Training (11913 / 18000 Steps) (loss=0.54082): 100%|██████████| 7/7 [00:13<00:00,  1.90s/it]\n",
      "Training (11920 / 18000 Steps) (loss=0.48110): 100%|██████████| 7/7 [00:13<00:00,  1.89s/it]\n",
      "Training (11927 / 18000 Steps) (loss=0.30916): 100%|██████████| 7/7 [00:12<00:00,  1.85s/it]\n",
      "Training (11934 / 18000 Steps) (loss=0.48040): 100%|██████████| 7/7 [00:13<00:00,  1.89s/it]\n",
      "Training (11941 / 18000 Steps) (loss=0.34599): 100%|██████████| 7/7 [00:13<00:00,  1.87s/it]\n",
      "Training (11948 / 18000 Steps) (loss=0.36629): 100%|██████████| 7/7 [00:13<00:00,  1.89s/it]\n",
      "Training (11955 / 18000 Steps) (loss=0.48527): 100%|██████████| 7/7 [00:13<00:00,  1.87s/it]\n",
      "Training (11962 / 18000 Steps) (loss=0.55640): 100%|██████████| 7/7 [00:13<00:00,  1.93s/it]\n",
      "Training (11969 / 18000 Steps) (loss=0.29764): 100%|██████████| 7/7 [00:13<00:00,  1.89s/it]\n",
      "Training (11976 / 18000 Steps) (loss=0.57932): 100%|██████████| 7/7 [00:13<00:00,  1.86s/it]\n",
      "Training (11983 / 18000 Steps) (loss=0.45854): 100%|██████████| 7/7 [00:13<00:00,  1.91s/it]\n",
      "Training (11990 / 18000 Steps) (loss=0.44968): 100%|██████████| 7/7 [00:14<00:00,  2.01s/it]\n",
      "Training (11997 / 18000 Steps) (loss=0.29237): 100%|██████████| 7/7 [00:15<00:00,  2.17s/it]\n",
      "Validate (11998 / 10 Steps): 100%|██████████| 2/2 [00:10<00:00,  5.03s/it]<00:18,  3.61s/it]\n",
      "Training (12000 / 18000 Steps) (loss=0.46926):  43%|████▎     | 3/7 [00:20<00:30,  7.50s/it]"
     ]
    },
    {
     "name": "stdout",
     "output_type": "stream",
     "text": [
      "Model Was Not Saved ! Current Best Avg. Dice: 0.415383905172348 Current Avg. Dice: 0.36764729022979736 Current Avg. tumor Dice: 0.33591243624687195 Current Avg. lymph Dice: 0.39938220381736755\n"
     ]
    },
    {
     "name": "stderr",
     "output_type": "stream",
     "text": [
      "Training (12004 / 18000 Steps) (loss=0.27177): 100%|██████████| 7/7 [00:27<00:00,  3.88s/it]\n",
      "Training (12011 / 18000 Steps) (loss=0.47877): 100%|██████████| 7/7 [00:15<00:00,  2.28s/it]\n",
      "Training (12018 / 18000 Steps) (loss=0.21873): 100%|██████████| 7/7 [00:17<00:00,  2.47s/it]\n",
      "Training (12025 / 18000 Steps) (loss=0.42625): 100%|██████████| 7/7 [00:16<00:00,  2.39s/it]\n",
      "Training (12032 / 18000 Steps) (loss=0.58421): 100%|██████████| 7/7 [00:16<00:00,  2.32s/it]\n",
      "Training (12039 / 18000 Steps) (loss=0.30251): 100%|██████████| 7/7 [00:16<00:00,  2.35s/it]\n",
      "Training (12046 / 18000 Steps) (loss=0.56529): 100%|██████████| 7/7 [00:15<00:00,  2.25s/it]\n",
      "Training (12053 / 18000 Steps) (loss=0.46278): 100%|██████████| 7/7 [00:16<00:00,  2.29s/it]\n",
      "Training (12060 / 18000 Steps) (loss=0.46309): 100%|██████████| 7/7 [00:16<00:00,  2.31s/it]\n",
      "Training (12067 / 18000 Steps) (loss=0.27685): 100%|██████████| 7/7 [00:16<00:00,  2.31s/it]\n",
      "Training (12074 / 18000 Steps) (loss=0.44043): 100%|██████████| 7/7 [00:16<00:00,  2.37s/it]\n",
      "Training (12081 / 18000 Steps) (loss=0.44171): 100%|██████████| 7/7 [00:15<00:00,  2.28s/it]\n",
      "Training (12088 / 18000 Steps) (loss=0.40288): 100%|██████████| 7/7 [00:15<00:00,  2.23s/it]\n",
      "Training (12095 / 18000 Steps) (loss=0.34530): 100%|██████████| 7/7 [00:16<00:00,  2.33s/it]\n",
      "Validate (12096 / 10 Steps): 100%|██████████| 2/2 [00:09<00:00,  4.81s/it]<00:07,  2.34s/it]\n",
      "Training (12100 / 18000 Steps) (loss=0.36311):  71%|███████▏  | 5/7 [00:22<00:11,  5.61s/it]"
     ]
    },
    {
     "name": "stdout",
     "output_type": "stream",
     "text": [
      "Model Was Not Saved ! Current Best Avg. Dice: 0.415383905172348 Current Avg. Dice: 0.3269296884536743 Current Avg. tumor Dice: 0.24259822070598602 Current Avg. lymph Dice: 0.4112611413002014\n"
     ]
    },
    {
     "name": "stderr",
     "output_type": "stream",
     "text": [
      "Training (12102 / 18000 Steps) (loss=0.37421): 100%|██████████| 7/7 [00:25<00:00,  3.71s/it]\n",
      "Training (12109 / 18000 Steps) (loss=0.31659): 100%|██████████| 7/7 [00:16<00:00,  2.38s/it]\n",
      "Training (12116 / 18000 Steps) (loss=0.42467): 100%|██████████| 7/7 [00:16<00:00,  2.36s/it]\n",
      "Training (12123 / 18000 Steps) (loss=0.47586): 100%|██████████| 7/7 [00:16<00:00,  2.40s/it]\n",
      "Training (12130 / 18000 Steps) (loss=0.49761): 100%|██████████| 7/7 [00:16<00:00,  2.35s/it]\n",
      "Training (12137 / 18000 Steps) (loss=0.18710): 100%|██████████| 7/7 [00:15<00:00,  2.26s/it]\n",
      "Training (12144 / 18000 Steps) (loss=0.40043): 100%|██████████| 7/7 [00:15<00:00,  2.26s/it]\n",
      "Training (12151 / 18000 Steps) (loss=0.19216): 100%|██████████| 7/7 [00:16<00:00,  2.29s/it]\n",
      "Training (12158 / 18000 Steps) (loss=0.37124): 100%|██████████| 7/7 [00:15<00:00,  2.25s/it]\n",
      "Training (12165 / 18000 Steps) (loss=0.53762): 100%|██████████| 7/7 [00:15<00:00,  2.22s/it]\n",
      "Training (12170 / 18000 Steps) (loss=0.50625):  71%|███████▏  | 5/7 [00:12<00:05,  2.57s/it]\n"
     ]
    },
    {
     "ename": "KeyboardInterrupt",
     "evalue": "",
     "output_type": "error",
     "traceback": [
      "\u001b[0;31m---------------------------------------------------------------------------\u001b[0m",
      "\u001b[0;31mKeyboardInterrupt\u001b[0m                         Traceback (most recent call last)",
      "Cell \u001b[0;32mIn[15], line 7\u001b[0m\n\u001b[1;32m      4\u001b[0m torch\u001b[38;5;241m.\u001b[39mautograd\u001b[38;5;241m.\u001b[39mset_detect_anomaly(\u001b[38;5;28;01mTrue\u001b[39;00m)  \u001b[38;5;66;03m# Enable anomaly detection\u001b[39;00m\n\u001b[1;32m      6\u001b[0m \u001b[38;5;28;01mwhile\u001b[39;00m global_step \u001b[38;5;241m<\u001b[39m max_iterations:\n\u001b[0;32m----> 7\u001b[0m     global_step, dice_val_best, global_step_best \u001b[38;5;241m=\u001b[39m \u001b[43mtrain\u001b[49m\u001b[43m(\u001b[49m\n\u001b[1;32m      8\u001b[0m \u001b[43m        \u001b[49m\u001b[43mglobal_step\u001b[49m\u001b[43m,\u001b[49m\u001b[43m \u001b[49m\u001b[43mtrain_loader\u001b[49m\u001b[43m,\u001b[49m\u001b[43m \u001b[49m\u001b[43mdice_val_best\u001b[49m\u001b[43m,\u001b[49m\u001b[43m \u001b[49m\u001b[43mglobal_step_best\u001b[49m\n\u001b[1;32m      9\u001b[0m \u001b[43m    \u001b[49m\u001b[43m)\u001b[49m\n\u001b[1;32m     10\u001b[0m     epoch \u001b[38;5;241m+\u001b[39m\u001b[38;5;241m=\u001b[39m \u001b[38;5;241m1\u001b[39m\n\u001b[1;32m     11\u001b[0m     \u001b[38;5;66;03m#optimizer.param_groups[0]['lr'] = poly_lr(epoch, max_num_epochs, 0.005676 , 0.9)\u001b[39;00m\n\u001b[1;32m     12\u001b[0m \u001b[38;5;66;03m# model.load_state_dict(torch.load(os.path.join(model_dir, \"best_metric_luck_UNETr_prompt.pth\")))\u001b[39;00m\n",
      "Cell \u001b[0;32mIn[14], line 73\u001b[0m, in \u001b[0;36mtrain\u001b[0;34m(global_step, train_loader, dice_val_best, global_step_best)\u001b[0m\n\u001b[1;32m     71\u001b[0m step \u001b[38;5;241m+\u001b[39m\u001b[38;5;241m=\u001b[39m \u001b[38;5;241m1\u001b[39m\n\u001b[1;32m     72\u001b[0m x, y \u001b[38;5;241m=\u001b[39m (batch[\u001b[38;5;124m\"\u001b[39m\u001b[38;5;124mct\u001b[39m\u001b[38;5;124m\"\u001b[39m]\u001b[38;5;241m.\u001b[39mcuda(), batch[\u001b[38;5;124m\"\u001b[39m\u001b[38;5;124mseg\u001b[39m\u001b[38;5;124m\"\u001b[39m]\u001b[38;5;241m.\u001b[39mcuda())\n\u001b[0;32m---> 73\u001b[0m logit_map \u001b[38;5;241m=\u001b[39m \u001b[43mmodel\u001b[49m\u001b[43m(\u001b[49m\u001b[43mx\u001b[49m\u001b[43m,\u001b[49m\u001b[43m \u001b[49m\u001b[43mmode\u001b[49m\u001b[38;5;241;43m=\u001b[39;49m\u001b[38;5;28;43;01mNone\u001b[39;49;00m\u001b[43m)\u001b[49m\n\u001b[1;32m     74\u001b[0m loss \u001b[38;5;241m=\u001b[39m loss_function(logit_map, y)\n\u001b[1;32m     75\u001b[0m loss\u001b[38;5;241m.\u001b[39mbackward()\n",
      "File \u001b[0;32m~/miniconda3/envs/clam/lib/python3.8/site-packages/torch/nn/modules/module.py:1518\u001b[0m, in \u001b[0;36mModule._wrapped_call_impl\u001b[0;34m(self, *args, **kwargs)\u001b[0m\n\u001b[1;32m   1516\u001b[0m     \u001b[38;5;28;01mreturn\u001b[39;00m \u001b[38;5;28mself\u001b[39m\u001b[38;5;241m.\u001b[39m_compiled_call_impl(\u001b[38;5;241m*\u001b[39margs, \u001b[38;5;241m*\u001b[39m\u001b[38;5;241m*\u001b[39mkwargs)  \u001b[38;5;66;03m# type: ignore[misc]\u001b[39;00m\n\u001b[1;32m   1517\u001b[0m \u001b[38;5;28;01melse\u001b[39;00m:\n\u001b[0;32m-> 1518\u001b[0m     \u001b[38;5;28;01mreturn\u001b[39;00m \u001b[38;5;28;43mself\u001b[39;49m\u001b[38;5;241;43m.\u001b[39;49m\u001b[43m_call_impl\u001b[49m\u001b[43m(\u001b[49m\u001b[38;5;241;43m*\u001b[39;49m\u001b[43margs\u001b[49m\u001b[43m,\u001b[49m\u001b[43m \u001b[49m\u001b[38;5;241;43m*\u001b[39;49m\u001b[38;5;241;43m*\u001b[39;49m\u001b[43mkwargs\u001b[49m\u001b[43m)\u001b[49m\n",
      "File \u001b[0;32m~/miniconda3/envs/clam/lib/python3.8/site-packages/torch/nn/modules/module.py:1527\u001b[0m, in \u001b[0;36mModule._call_impl\u001b[0;34m(self, *args, **kwargs)\u001b[0m\n\u001b[1;32m   1522\u001b[0m \u001b[38;5;66;03m# If we don't have any hooks, we want to skip the rest of the logic in\u001b[39;00m\n\u001b[1;32m   1523\u001b[0m \u001b[38;5;66;03m# this function, and just call forward.\u001b[39;00m\n\u001b[1;32m   1524\u001b[0m \u001b[38;5;28;01mif\u001b[39;00m \u001b[38;5;129;01mnot\u001b[39;00m (\u001b[38;5;28mself\u001b[39m\u001b[38;5;241m.\u001b[39m_backward_hooks \u001b[38;5;129;01mor\u001b[39;00m \u001b[38;5;28mself\u001b[39m\u001b[38;5;241m.\u001b[39m_backward_pre_hooks \u001b[38;5;129;01mor\u001b[39;00m \u001b[38;5;28mself\u001b[39m\u001b[38;5;241m.\u001b[39m_forward_hooks \u001b[38;5;129;01mor\u001b[39;00m \u001b[38;5;28mself\u001b[39m\u001b[38;5;241m.\u001b[39m_forward_pre_hooks\n\u001b[1;32m   1525\u001b[0m         \u001b[38;5;129;01mor\u001b[39;00m _global_backward_pre_hooks \u001b[38;5;129;01mor\u001b[39;00m _global_backward_hooks\n\u001b[1;32m   1526\u001b[0m         \u001b[38;5;129;01mor\u001b[39;00m _global_forward_hooks \u001b[38;5;129;01mor\u001b[39;00m _global_forward_pre_hooks):\n\u001b[0;32m-> 1527\u001b[0m     \u001b[38;5;28;01mreturn\u001b[39;00m \u001b[43mforward_call\u001b[49m\u001b[43m(\u001b[49m\u001b[38;5;241;43m*\u001b[39;49m\u001b[43margs\u001b[49m\u001b[43m,\u001b[49m\u001b[43m \u001b[49m\u001b[38;5;241;43m*\u001b[39;49m\u001b[38;5;241;43m*\u001b[39;49m\u001b[43mkwargs\u001b[49m\u001b[43m)\u001b[49m\n\u001b[1;32m   1529\u001b[0m \u001b[38;5;28;01mtry\u001b[39;00m:\n\u001b[1;32m   1530\u001b[0m     result \u001b[38;5;241m=\u001b[39m \u001b[38;5;28;01mNone\u001b[39;00m\n",
      "File \u001b[0;32m~/CTPET/hecktor2022_cropped/unetr.py:376\u001b[0m, in \u001b[0;36mCustomedUNETR.forward\u001b[0;34m(self, x_in, mode)\u001b[0m\n\u001b[1;32m    375\u001b[0m \u001b[38;5;28;01mdef\u001b[39;00m \u001b[38;5;21mforward\u001b[39m(\u001b[38;5;28mself\u001b[39m, x_in, mode\u001b[38;5;241m=\u001b[39m\u001b[38;5;28;01mNone\u001b[39;00m):\n\u001b[0;32m--> 376\u001b[0m     x, hidden_states_out \u001b[38;5;241m=\u001b[39m \u001b[38;5;28;43mself\u001b[39;49m\u001b[38;5;241;43m.\u001b[39;49m\u001b[43mvit\u001b[49m\u001b[43m(\u001b[49m\u001b[43mx_in\u001b[49m\u001b[43m)\u001b[49m\n\u001b[1;32m    379\u001b[0m     \u001b[38;5;66;03m# Initialize encoder outputs to None\u001b[39;00m\n\u001b[1;32m    380\u001b[0m     enc1_ct \u001b[38;5;241m=\u001b[39m \u001b[38;5;241m0\u001b[39m\n",
      "File \u001b[0;32m~/miniconda3/envs/clam/lib/python3.8/site-packages/torch/nn/modules/module.py:1518\u001b[0m, in \u001b[0;36mModule._wrapped_call_impl\u001b[0;34m(self, *args, **kwargs)\u001b[0m\n\u001b[1;32m   1516\u001b[0m     \u001b[38;5;28;01mreturn\u001b[39;00m \u001b[38;5;28mself\u001b[39m\u001b[38;5;241m.\u001b[39m_compiled_call_impl(\u001b[38;5;241m*\u001b[39margs, \u001b[38;5;241m*\u001b[39m\u001b[38;5;241m*\u001b[39mkwargs)  \u001b[38;5;66;03m# type: ignore[misc]\u001b[39;00m\n\u001b[1;32m   1517\u001b[0m \u001b[38;5;28;01melse\u001b[39;00m:\n\u001b[0;32m-> 1518\u001b[0m     \u001b[38;5;28;01mreturn\u001b[39;00m \u001b[38;5;28;43mself\u001b[39;49m\u001b[38;5;241;43m.\u001b[39;49m\u001b[43m_call_impl\u001b[49m\u001b[43m(\u001b[49m\u001b[38;5;241;43m*\u001b[39;49m\u001b[43margs\u001b[49m\u001b[43m,\u001b[49m\u001b[43m \u001b[49m\u001b[38;5;241;43m*\u001b[39;49m\u001b[38;5;241;43m*\u001b[39;49m\u001b[43mkwargs\u001b[49m\u001b[43m)\u001b[49m\n",
      "File \u001b[0;32m~/miniconda3/envs/clam/lib/python3.8/site-packages/torch/nn/modules/module.py:1527\u001b[0m, in \u001b[0;36mModule._call_impl\u001b[0;34m(self, *args, **kwargs)\u001b[0m\n\u001b[1;32m   1522\u001b[0m \u001b[38;5;66;03m# If we don't have any hooks, we want to skip the rest of the logic in\u001b[39;00m\n\u001b[1;32m   1523\u001b[0m \u001b[38;5;66;03m# this function, and just call forward.\u001b[39;00m\n\u001b[1;32m   1524\u001b[0m \u001b[38;5;28;01mif\u001b[39;00m \u001b[38;5;129;01mnot\u001b[39;00m (\u001b[38;5;28mself\u001b[39m\u001b[38;5;241m.\u001b[39m_backward_hooks \u001b[38;5;129;01mor\u001b[39;00m \u001b[38;5;28mself\u001b[39m\u001b[38;5;241m.\u001b[39m_backward_pre_hooks \u001b[38;5;129;01mor\u001b[39;00m \u001b[38;5;28mself\u001b[39m\u001b[38;5;241m.\u001b[39m_forward_hooks \u001b[38;5;129;01mor\u001b[39;00m \u001b[38;5;28mself\u001b[39m\u001b[38;5;241m.\u001b[39m_forward_pre_hooks\n\u001b[1;32m   1525\u001b[0m         \u001b[38;5;129;01mor\u001b[39;00m _global_backward_pre_hooks \u001b[38;5;129;01mor\u001b[39;00m _global_backward_hooks\n\u001b[1;32m   1526\u001b[0m         \u001b[38;5;129;01mor\u001b[39;00m _global_forward_hooks \u001b[38;5;129;01mor\u001b[39;00m _global_forward_pre_hooks):\n\u001b[0;32m-> 1527\u001b[0m     \u001b[38;5;28;01mreturn\u001b[39;00m \u001b[43mforward_call\u001b[49m\u001b[43m(\u001b[49m\u001b[38;5;241;43m*\u001b[39;49m\u001b[43margs\u001b[49m\u001b[43m,\u001b[49m\u001b[43m \u001b[49m\u001b[38;5;241;43m*\u001b[39;49m\u001b[38;5;241;43m*\u001b[39;49m\u001b[43mkwargs\u001b[49m\u001b[43m)\u001b[49m\n\u001b[1;32m   1529\u001b[0m \u001b[38;5;28;01mtry\u001b[39;00m:\n\u001b[1;32m   1530\u001b[0m     result \u001b[38;5;241m=\u001b[39m \u001b[38;5;28;01mNone\u001b[39;00m\n",
      "File \u001b[0;32m~/CTPET/hecktor2022_cropped/LoravitCTweights.py:328\u001b[0m, in \u001b[0;36mViT.forward\u001b[0;34m(self, x)\u001b[0m\n\u001b[1;32m    326\u001b[0m hidden_states_out \u001b[38;5;241m=\u001b[39m []\n\u001b[1;32m    327\u001b[0m \u001b[38;5;28;01mfor\u001b[39;00m blk \u001b[38;5;129;01min\u001b[39;00m \u001b[38;5;28mself\u001b[39m\u001b[38;5;241m.\u001b[39mblocks:\n\u001b[0;32m--> 328\u001b[0m     x \u001b[38;5;241m=\u001b[39m \u001b[43mblk\u001b[49m\u001b[43m(\u001b[49m\u001b[43mx\u001b[49m\u001b[43m)\u001b[49m\n\u001b[1;32m    329\u001b[0m     hidden_states_out\u001b[38;5;241m.\u001b[39mappend(x)\n\u001b[1;32m    330\u001b[0m x \u001b[38;5;241m=\u001b[39m \u001b[38;5;28mself\u001b[39m\u001b[38;5;241m.\u001b[39mnorm(x)\n",
      "File \u001b[0;32m~/miniconda3/envs/clam/lib/python3.8/site-packages/torch/nn/modules/module.py:1518\u001b[0m, in \u001b[0;36mModule._wrapped_call_impl\u001b[0;34m(self, *args, **kwargs)\u001b[0m\n\u001b[1;32m   1516\u001b[0m     \u001b[38;5;28;01mreturn\u001b[39;00m \u001b[38;5;28mself\u001b[39m\u001b[38;5;241m.\u001b[39m_compiled_call_impl(\u001b[38;5;241m*\u001b[39margs, \u001b[38;5;241m*\u001b[39m\u001b[38;5;241m*\u001b[39mkwargs)  \u001b[38;5;66;03m# type: ignore[misc]\u001b[39;00m\n\u001b[1;32m   1517\u001b[0m \u001b[38;5;28;01melse\u001b[39;00m:\n\u001b[0;32m-> 1518\u001b[0m     \u001b[38;5;28;01mreturn\u001b[39;00m \u001b[38;5;28;43mself\u001b[39;49m\u001b[38;5;241;43m.\u001b[39;49m\u001b[43m_call_impl\u001b[49m\u001b[43m(\u001b[49m\u001b[38;5;241;43m*\u001b[39;49m\u001b[43margs\u001b[49m\u001b[43m,\u001b[49m\u001b[43m \u001b[49m\u001b[38;5;241;43m*\u001b[39;49m\u001b[38;5;241;43m*\u001b[39;49m\u001b[43mkwargs\u001b[49m\u001b[43m)\u001b[49m\n",
      "File \u001b[0;32m~/miniconda3/envs/clam/lib/python3.8/site-packages/torch/nn/modules/module.py:1527\u001b[0m, in \u001b[0;36mModule._call_impl\u001b[0;34m(self, *args, **kwargs)\u001b[0m\n\u001b[1;32m   1522\u001b[0m \u001b[38;5;66;03m# If we don't have any hooks, we want to skip the rest of the logic in\u001b[39;00m\n\u001b[1;32m   1523\u001b[0m \u001b[38;5;66;03m# this function, and just call forward.\u001b[39;00m\n\u001b[1;32m   1524\u001b[0m \u001b[38;5;28;01mif\u001b[39;00m \u001b[38;5;129;01mnot\u001b[39;00m (\u001b[38;5;28mself\u001b[39m\u001b[38;5;241m.\u001b[39m_backward_hooks \u001b[38;5;129;01mor\u001b[39;00m \u001b[38;5;28mself\u001b[39m\u001b[38;5;241m.\u001b[39m_backward_pre_hooks \u001b[38;5;129;01mor\u001b[39;00m \u001b[38;5;28mself\u001b[39m\u001b[38;5;241m.\u001b[39m_forward_hooks \u001b[38;5;129;01mor\u001b[39;00m \u001b[38;5;28mself\u001b[39m\u001b[38;5;241m.\u001b[39m_forward_pre_hooks\n\u001b[1;32m   1525\u001b[0m         \u001b[38;5;129;01mor\u001b[39;00m _global_backward_pre_hooks \u001b[38;5;129;01mor\u001b[39;00m _global_backward_hooks\n\u001b[1;32m   1526\u001b[0m         \u001b[38;5;129;01mor\u001b[39;00m _global_forward_hooks \u001b[38;5;129;01mor\u001b[39;00m _global_forward_pre_hooks):\n\u001b[0;32m-> 1527\u001b[0m     \u001b[38;5;28;01mreturn\u001b[39;00m \u001b[43mforward_call\u001b[49m\u001b[43m(\u001b[49m\u001b[38;5;241;43m*\u001b[39;49m\u001b[43margs\u001b[49m\u001b[43m,\u001b[49m\u001b[43m \u001b[49m\u001b[38;5;241;43m*\u001b[39;49m\u001b[38;5;241;43m*\u001b[39;49m\u001b[43mkwargs\u001b[49m\u001b[43m)\u001b[49m\n\u001b[1;32m   1529\u001b[0m \u001b[38;5;28;01mtry\u001b[39;00m:\n\u001b[1;32m   1530\u001b[0m     result \u001b[38;5;241m=\u001b[39m \u001b[38;5;28;01mNone\u001b[39;00m\n",
      "File \u001b[0;32m~/miniconda3/envs/clam/lib/python3.8/site-packages/monai/networks/blocks/transformerblock.py:61\u001b[0m, in \u001b[0;36mTransformerBlock.forward\u001b[0;34m(self, x)\u001b[0m\n\u001b[1;32m     59\u001b[0m \u001b[38;5;28;01mdef\u001b[39;00m \u001b[38;5;21mforward\u001b[39m(\u001b[38;5;28mself\u001b[39m, x):\n\u001b[1;32m     60\u001b[0m     x \u001b[38;5;241m=\u001b[39m x \u001b[38;5;241m+\u001b[39m \u001b[38;5;28mself\u001b[39m\u001b[38;5;241m.\u001b[39mattn(\u001b[38;5;28mself\u001b[39m\u001b[38;5;241m.\u001b[39mnorm1(x))\n\u001b[0;32m---> 61\u001b[0m     x \u001b[38;5;241m=\u001b[39m x \u001b[38;5;241m+\u001b[39m \u001b[38;5;28;43mself\u001b[39;49m\u001b[38;5;241;43m.\u001b[39;49m\u001b[43mmlp\u001b[49m\u001b[43m(\u001b[49m\u001b[38;5;28;43mself\u001b[39;49m\u001b[38;5;241;43m.\u001b[39;49m\u001b[43mnorm2\u001b[49m\u001b[43m(\u001b[49m\u001b[43mx\u001b[49m\u001b[43m)\u001b[49m\u001b[43m)\u001b[49m\n\u001b[1;32m     62\u001b[0m     \u001b[38;5;28;01mreturn\u001b[39;00m x\n",
      "File \u001b[0;32m~/miniconda3/envs/clam/lib/python3.8/site-packages/torch/nn/modules/module.py:1518\u001b[0m, in \u001b[0;36mModule._wrapped_call_impl\u001b[0;34m(self, *args, **kwargs)\u001b[0m\n\u001b[1;32m   1516\u001b[0m     \u001b[38;5;28;01mreturn\u001b[39;00m \u001b[38;5;28mself\u001b[39m\u001b[38;5;241m.\u001b[39m_compiled_call_impl(\u001b[38;5;241m*\u001b[39margs, \u001b[38;5;241m*\u001b[39m\u001b[38;5;241m*\u001b[39mkwargs)  \u001b[38;5;66;03m# type: ignore[misc]\u001b[39;00m\n\u001b[1;32m   1517\u001b[0m \u001b[38;5;28;01melse\u001b[39;00m:\n\u001b[0;32m-> 1518\u001b[0m     \u001b[38;5;28;01mreturn\u001b[39;00m \u001b[38;5;28;43mself\u001b[39;49m\u001b[38;5;241;43m.\u001b[39;49m\u001b[43m_call_impl\u001b[49m\u001b[43m(\u001b[49m\u001b[38;5;241;43m*\u001b[39;49m\u001b[43margs\u001b[49m\u001b[43m,\u001b[49m\u001b[43m \u001b[49m\u001b[38;5;241;43m*\u001b[39;49m\u001b[38;5;241;43m*\u001b[39;49m\u001b[43mkwargs\u001b[49m\u001b[43m)\u001b[49m\n",
      "File \u001b[0;32m~/miniconda3/envs/clam/lib/python3.8/site-packages/torch/nn/modules/module.py:1527\u001b[0m, in \u001b[0;36mModule._call_impl\u001b[0;34m(self, *args, **kwargs)\u001b[0m\n\u001b[1;32m   1522\u001b[0m \u001b[38;5;66;03m# If we don't have any hooks, we want to skip the rest of the logic in\u001b[39;00m\n\u001b[1;32m   1523\u001b[0m \u001b[38;5;66;03m# this function, and just call forward.\u001b[39;00m\n\u001b[1;32m   1524\u001b[0m \u001b[38;5;28;01mif\u001b[39;00m \u001b[38;5;129;01mnot\u001b[39;00m (\u001b[38;5;28mself\u001b[39m\u001b[38;5;241m.\u001b[39m_backward_hooks \u001b[38;5;129;01mor\u001b[39;00m \u001b[38;5;28mself\u001b[39m\u001b[38;5;241m.\u001b[39m_backward_pre_hooks \u001b[38;5;129;01mor\u001b[39;00m \u001b[38;5;28mself\u001b[39m\u001b[38;5;241m.\u001b[39m_forward_hooks \u001b[38;5;129;01mor\u001b[39;00m \u001b[38;5;28mself\u001b[39m\u001b[38;5;241m.\u001b[39m_forward_pre_hooks\n\u001b[1;32m   1525\u001b[0m         \u001b[38;5;129;01mor\u001b[39;00m _global_backward_pre_hooks \u001b[38;5;129;01mor\u001b[39;00m _global_backward_hooks\n\u001b[1;32m   1526\u001b[0m         \u001b[38;5;129;01mor\u001b[39;00m _global_forward_hooks \u001b[38;5;129;01mor\u001b[39;00m _global_forward_pre_hooks):\n\u001b[0;32m-> 1527\u001b[0m     \u001b[38;5;28;01mreturn\u001b[39;00m \u001b[43mforward_call\u001b[49m\u001b[43m(\u001b[49m\u001b[38;5;241;43m*\u001b[39;49m\u001b[43margs\u001b[49m\u001b[43m,\u001b[49m\u001b[43m \u001b[49m\u001b[38;5;241;43m*\u001b[39;49m\u001b[38;5;241;43m*\u001b[39;49m\u001b[43mkwargs\u001b[49m\u001b[43m)\u001b[49m\n\u001b[1;32m   1529\u001b[0m \u001b[38;5;28;01mtry\u001b[39;00m:\n\u001b[1;32m   1530\u001b[0m     result \u001b[38;5;241m=\u001b[39m \u001b[38;5;28;01mNone\u001b[39;00m\n",
      "File \u001b[0;32m~/miniconda3/envs/clam/lib/python3.8/site-packages/monai/networks/blocks/mlp.py:64\u001b[0m, in \u001b[0;36mMLPBlock.forward\u001b[0;34m(self, x)\u001b[0m\n\u001b[1;32m     63\u001b[0m \u001b[38;5;28;01mdef\u001b[39;00m \u001b[38;5;21mforward\u001b[39m(\u001b[38;5;28mself\u001b[39m, x):\n\u001b[0;32m---> 64\u001b[0m     x \u001b[38;5;241m=\u001b[39m \u001b[38;5;28mself\u001b[39m\u001b[38;5;241m.\u001b[39mfn(\u001b[38;5;28;43mself\u001b[39;49m\u001b[38;5;241;43m.\u001b[39;49m\u001b[43mlinear1\u001b[49m\u001b[43m(\u001b[49m\u001b[43mx\u001b[49m\u001b[43m)\u001b[49m)\n\u001b[1;32m     65\u001b[0m     x \u001b[38;5;241m=\u001b[39m \u001b[38;5;28mself\u001b[39m\u001b[38;5;241m.\u001b[39mdrop1(x)\n\u001b[1;32m     66\u001b[0m     x \u001b[38;5;241m=\u001b[39m \u001b[38;5;28mself\u001b[39m\u001b[38;5;241m.\u001b[39mlinear2(x)\n",
      "File \u001b[0;32m~/miniconda3/envs/clam/lib/python3.8/site-packages/torch/nn/modules/module.py:1518\u001b[0m, in \u001b[0;36mModule._wrapped_call_impl\u001b[0;34m(self, *args, **kwargs)\u001b[0m\n\u001b[1;32m   1516\u001b[0m     \u001b[38;5;28;01mreturn\u001b[39;00m \u001b[38;5;28mself\u001b[39m\u001b[38;5;241m.\u001b[39m_compiled_call_impl(\u001b[38;5;241m*\u001b[39margs, \u001b[38;5;241m*\u001b[39m\u001b[38;5;241m*\u001b[39mkwargs)  \u001b[38;5;66;03m# type: ignore[misc]\u001b[39;00m\n\u001b[1;32m   1517\u001b[0m \u001b[38;5;28;01melse\u001b[39;00m:\n\u001b[0;32m-> 1518\u001b[0m     \u001b[38;5;28;01mreturn\u001b[39;00m \u001b[38;5;28;43mself\u001b[39;49m\u001b[38;5;241;43m.\u001b[39;49m\u001b[43m_call_impl\u001b[49m\u001b[43m(\u001b[49m\u001b[38;5;241;43m*\u001b[39;49m\u001b[43margs\u001b[49m\u001b[43m,\u001b[49m\u001b[43m \u001b[49m\u001b[38;5;241;43m*\u001b[39;49m\u001b[38;5;241;43m*\u001b[39;49m\u001b[43mkwargs\u001b[49m\u001b[43m)\u001b[49m\n",
      "File \u001b[0;32m~/miniconda3/envs/clam/lib/python3.8/site-packages/torch/nn/modules/module.py:1527\u001b[0m, in \u001b[0;36mModule._call_impl\u001b[0;34m(self, *args, **kwargs)\u001b[0m\n\u001b[1;32m   1522\u001b[0m \u001b[38;5;66;03m# If we don't have any hooks, we want to skip the rest of the logic in\u001b[39;00m\n\u001b[1;32m   1523\u001b[0m \u001b[38;5;66;03m# this function, and just call forward.\u001b[39;00m\n\u001b[1;32m   1524\u001b[0m \u001b[38;5;28;01mif\u001b[39;00m \u001b[38;5;129;01mnot\u001b[39;00m (\u001b[38;5;28mself\u001b[39m\u001b[38;5;241m.\u001b[39m_backward_hooks \u001b[38;5;129;01mor\u001b[39;00m \u001b[38;5;28mself\u001b[39m\u001b[38;5;241m.\u001b[39m_backward_pre_hooks \u001b[38;5;129;01mor\u001b[39;00m \u001b[38;5;28mself\u001b[39m\u001b[38;5;241m.\u001b[39m_forward_hooks \u001b[38;5;129;01mor\u001b[39;00m \u001b[38;5;28mself\u001b[39m\u001b[38;5;241m.\u001b[39m_forward_pre_hooks\n\u001b[1;32m   1525\u001b[0m         \u001b[38;5;129;01mor\u001b[39;00m _global_backward_pre_hooks \u001b[38;5;129;01mor\u001b[39;00m _global_backward_hooks\n\u001b[1;32m   1526\u001b[0m         \u001b[38;5;129;01mor\u001b[39;00m _global_forward_hooks \u001b[38;5;129;01mor\u001b[39;00m _global_forward_pre_hooks):\n\u001b[0;32m-> 1527\u001b[0m     \u001b[38;5;28;01mreturn\u001b[39;00m \u001b[43mforward_call\u001b[49m\u001b[43m(\u001b[49m\u001b[38;5;241;43m*\u001b[39;49m\u001b[43margs\u001b[49m\u001b[43m,\u001b[49m\u001b[43m \u001b[49m\u001b[38;5;241;43m*\u001b[39;49m\u001b[38;5;241;43m*\u001b[39;49m\u001b[43mkwargs\u001b[49m\u001b[43m)\u001b[49m\n\u001b[1;32m   1529\u001b[0m \u001b[38;5;28;01mtry\u001b[39;00m:\n\u001b[1;32m   1530\u001b[0m     result \u001b[38;5;241m=\u001b[39m \u001b[38;5;28;01mNone\u001b[39;00m\n",
      "File \u001b[0;32m~/miniconda3/envs/clam/lib/python3.8/site-packages/torch/nn/modules/linear.py:114\u001b[0m, in \u001b[0;36mLinear.forward\u001b[0;34m(self, input)\u001b[0m\n\u001b[1;32m    113\u001b[0m \u001b[38;5;28;01mdef\u001b[39;00m \u001b[38;5;21mforward\u001b[39m(\u001b[38;5;28mself\u001b[39m, \u001b[38;5;28minput\u001b[39m: Tensor) \u001b[38;5;241m-\u001b[39m\u001b[38;5;241m>\u001b[39m Tensor:\n\u001b[0;32m--> 114\u001b[0m     \u001b[38;5;28;01mreturn\u001b[39;00m \u001b[43mF\u001b[49m\u001b[38;5;241;43m.\u001b[39;49m\u001b[43mlinear\u001b[49m\u001b[43m(\u001b[49m\u001b[38;5;28;43minput\u001b[39;49m\u001b[43m,\u001b[49m\u001b[43m \u001b[49m\u001b[38;5;28;43mself\u001b[39;49m\u001b[38;5;241;43m.\u001b[39;49m\u001b[43mweight\u001b[49m\u001b[43m,\u001b[49m\u001b[43m \u001b[49m\u001b[38;5;28;43mself\u001b[39;49m\u001b[38;5;241;43m.\u001b[39;49m\u001b[43mbias\u001b[49m\u001b[43m)\u001b[49m\n",
      "File \u001b[0;32m~/miniconda3/envs/clam/lib/python3.8/site-packages/monai/data/meta_tensor.py:282\u001b[0m, in \u001b[0;36mMetaTensor.__torch_function__\u001b[0;34m(cls, func, types, args, kwargs)\u001b[0m\n\u001b[1;32m    280\u001b[0m \u001b[38;5;28;01mif\u001b[39;00m kwargs \u001b[38;5;129;01mis\u001b[39;00m \u001b[38;5;28;01mNone\u001b[39;00m:\n\u001b[1;32m    281\u001b[0m     kwargs \u001b[38;5;241m=\u001b[39m {}\n\u001b[0;32m--> 282\u001b[0m ret \u001b[38;5;241m=\u001b[39m \u001b[38;5;28;43msuper\u001b[39;49m\u001b[43m(\u001b[49m\u001b[43m)\u001b[49m\u001b[38;5;241;43m.\u001b[39;49m\u001b[43m__torch_function__\u001b[49m\u001b[43m(\u001b[49m\u001b[43mfunc\u001b[49m\u001b[43m,\u001b[49m\u001b[43m \u001b[49m\u001b[43mtypes\u001b[49m\u001b[43m,\u001b[49m\u001b[43m \u001b[49m\u001b[43margs\u001b[49m\u001b[43m,\u001b[49m\u001b[43m \u001b[49m\u001b[43mkwargs\u001b[49m\u001b[43m)\u001b[49m\n\u001b[1;32m    283\u001b[0m \u001b[38;5;66;03m# if `out` has been used as argument, metadata is not copied, nothing to do.\u001b[39;00m\n\u001b[1;32m    284\u001b[0m \u001b[38;5;66;03m# if \"out\" in kwargs:\u001b[39;00m\n\u001b[1;32m    285\u001b[0m \u001b[38;5;66;03m#     return ret\u001b[39;00m\n\u001b[1;32m    286\u001b[0m \u001b[38;5;28;01mif\u001b[39;00m _not_requiring_metadata(ret):\n",
      "File \u001b[0;32m~/miniconda3/envs/clam/lib/python3.8/site-packages/torch/_tensor.py:1386\u001b[0m, in \u001b[0;36mTensor.__torch_function__\u001b[0;34m(cls, func, types, args, kwargs)\u001b[0m\n\u001b[1;32m   1383\u001b[0m     \u001b[38;5;28;01mreturn\u001b[39;00m \u001b[38;5;28mNotImplemented\u001b[39m\n\u001b[1;32m   1385\u001b[0m \u001b[38;5;28;01mwith\u001b[39;00m _C\u001b[38;5;241m.\u001b[39mDisableTorchFunctionSubclass():\n\u001b[0;32m-> 1386\u001b[0m     ret \u001b[38;5;241m=\u001b[39m \u001b[43mfunc\u001b[49m\u001b[43m(\u001b[49m\u001b[38;5;241;43m*\u001b[39;49m\u001b[43margs\u001b[49m\u001b[43m,\u001b[49m\u001b[43m \u001b[49m\u001b[38;5;241;43m*\u001b[39;49m\u001b[38;5;241;43m*\u001b[39;49m\u001b[43mkwargs\u001b[49m\u001b[43m)\u001b[49m\n\u001b[1;32m   1387\u001b[0m     \u001b[38;5;28;01mif\u001b[39;00m func \u001b[38;5;129;01min\u001b[39;00m get_default_nowrap_functions():\n\u001b[1;32m   1388\u001b[0m         \u001b[38;5;28;01mreturn\u001b[39;00m ret\n",
      "File \u001b[0;32m~/miniconda3/envs/clam/lib/python3.8/site-packages/torch/fx/traceback.py:68\u001b[0m, in \u001b[0;36mformat_stack\u001b[0;34m()\u001b[0m\n\u001b[1;32m     65\u001b[0m     \u001b[38;5;28;01mreturn\u001b[39;00m [current_meta\u001b[38;5;241m.\u001b[39mget(\u001b[38;5;124m\"\u001b[39m\u001b[38;5;124mstack_trace\u001b[39m\u001b[38;5;124m\"\u001b[39m, \u001b[38;5;124m\"\u001b[39m\u001b[38;5;124m\"\u001b[39m)]\n\u001b[1;32m     66\u001b[0m \u001b[38;5;28;01melse\u001b[39;00m:\n\u001b[1;32m     67\u001b[0m     \u001b[38;5;66;03m# fallback to traceback.format_stack()\u001b[39;00m\n\u001b[0;32m---> 68\u001b[0m     \u001b[38;5;28;01mreturn\u001b[39;00m traceback\u001b[38;5;241m.\u001b[39mformat_list(\u001b[43mtraceback\u001b[49m\u001b[38;5;241;43m.\u001b[39;49m\u001b[43mextract_stack\u001b[49m\u001b[43m(\u001b[49m\u001b[43m)\u001b[49m[:\u001b[38;5;241m-\u001b[39m\u001b[38;5;241m1\u001b[39m])\n",
      "File \u001b[0;32m~/miniconda3/envs/clam/lib/python3.8/traceback.py:211\u001b[0m, in \u001b[0;36mextract_stack\u001b[0;34m(f, limit)\u001b[0m\n\u001b[1;32m    209\u001b[0m \u001b[38;5;28;01mif\u001b[39;00m f \u001b[38;5;129;01mis\u001b[39;00m \u001b[38;5;28;01mNone\u001b[39;00m:\n\u001b[1;32m    210\u001b[0m     f \u001b[38;5;241m=\u001b[39m sys\u001b[38;5;241m.\u001b[39m_getframe()\u001b[38;5;241m.\u001b[39mf_back\n\u001b[0;32m--> 211\u001b[0m stack \u001b[38;5;241m=\u001b[39m \u001b[43mStackSummary\u001b[49m\u001b[38;5;241;43m.\u001b[39;49m\u001b[43mextract\u001b[49m\u001b[43m(\u001b[49m\u001b[43mwalk_stack\u001b[49m\u001b[43m(\u001b[49m\u001b[43mf\u001b[49m\u001b[43m)\u001b[49m\u001b[43m,\u001b[49m\u001b[43m \u001b[49m\u001b[43mlimit\u001b[49m\u001b[38;5;241;43m=\u001b[39;49m\u001b[43mlimit\u001b[49m\u001b[43m)\u001b[49m\n\u001b[1;32m    212\u001b[0m stack\u001b[38;5;241m.\u001b[39mreverse()\n\u001b[1;32m    213\u001b[0m \u001b[38;5;28;01mreturn\u001b[39;00m stack\n",
      "File \u001b[0;32m~/miniconda3/envs/clam/lib/python3.8/traceback.py:347\u001b[0m, in \u001b[0;36mStackSummary.extract\u001b[0;34m(klass, frame_gen, limit, lookup_lines, capture_locals)\u001b[0m\n\u001b[1;32m    345\u001b[0m result \u001b[38;5;241m=\u001b[39m klass()\n\u001b[1;32m    346\u001b[0m fnames \u001b[38;5;241m=\u001b[39m \u001b[38;5;28mset\u001b[39m()\n\u001b[0;32m--> 347\u001b[0m \u001b[38;5;28;01mfor\u001b[39;00m f, lineno \u001b[38;5;129;01min\u001b[39;00m frame_gen:\n\u001b[1;32m    348\u001b[0m     co \u001b[38;5;241m=\u001b[39m f\u001b[38;5;241m.\u001b[39mf_code\n\u001b[1;32m    349\u001b[0m     filename \u001b[38;5;241m=\u001b[39m co\u001b[38;5;241m.\u001b[39mco_filename\n",
      "File \u001b[0;32m~/miniconda3/envs/clam/lib/python3.8/traceback.py:301\u001b[0m, in \u001b[0;36mwalk_stack\u001b[0;34m(f)\u001b[0m\n\u001b[1;32m    299\u001b[0m     f \u001b[38;5;241m=\u001b[39m sys\u001b[38;5;241m.\u001b[39m_getframe()\u001b[38;5;241m.\u001b[39mf_back\u001b[38;5;241m.\u001b[39mf_back\n\u001b[1;32m    300\u001b[0m \u001b[38;5;28;01mwhile\u001b[39;00m f \u001b[38;5;129;01mis\u001b[39;00m \u001b[38;5;129;01mnot\u001b[39;00m \u001b[38;5;28;01mNone\u001b[39;00m:\n\u001b[0;32m--> 301\u001b[0m     \u001b[38;5;28;01myield\u001b[39;00m f, \u001b[43mf\u001b[49m\u001b[38;5;241;43m.\u001b[39;49m\u001b[43mf_lineno\u001b[49m\n\u001b[1;32m    302\u001b[0m     f \u001b[38;5;241m=\u001b[39m f\u001b[38;5;241m.\u001b[39mf_back\n",
      "\u001b[0;31mKeyboardInterrupt\u001b[0m: "
     ]
    }
   ],
   "source": [
    "epoch = 0 # used for LR scheduler\n",
    "max_num_epochs = 530 # used for LR scheduler\n",
    "\n",
    "torch.autograd.set_detect_anomaly(True)  # Enable anomaly detection\n",
    "\n",
    "while global_step < max_iterations:\n",
    "    global_step, dice_val_best, global_step_best = train(\n",
    "        global_step, train_loader, dice_val_best, global_step_best\n",
    "    )\n",
    "    epoch += 1\n",
    "    #optimizer.param_groups[0]['lr'] = poly_lr(epoch, max_num_epochs, 0.005676 , 0.9)\n",
    "# model.load_state_dict(torch.load(os.path.join(model_dir, \"best_metric_luck_UNETr_prompt.pth\")))"
   ]
  }
 ],
 "metadata": {
  "kernelspec": {
   "display_name": "clam",
   "language": "python",
   "name": "python3"
  },
  "language_info": {
   "codemirror_mode": {
    "name": "ipython",
    "version": 3
   },
   "file_extension": ".py",
   "mimetype": "text/x-python",
   "name": "python",
   "nbconvert_exporter": "python",
   "pygments_lexer": "ipython3",
   "version": "3.8.0"
  }
 },
 "nbformat": 4,
 "nbformat_minor": 2
}
